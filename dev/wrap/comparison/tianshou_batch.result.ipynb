{
 "cells": [
  {
   "cell_type": "markdown",
   "id": "9d39d946",
   "metadata": {},
   "source": [
    "# Comparison Between TreeValue and Tianshou Batch"
   ]
  },
  {
   "cell_type": "markdown",
   "id": "3c6db2d4",
   "metadata": {},
   "source": [
    "In this section, we will take a look at the feature and performance of the [Tianshou Batch](https://github.com/thu-ml/tianshou) library, which is developed by Tsinghua Machine Learning Group."
   ]
  },
  {
   "cell_type": "markdown",
   "id": "069361b0",
   "metadata": {},
   "source": [
    "Before starting the comparison, let us define some thing."
   ]
  },
  {
   "cell_type": "code",
   "execution_count": 1,
   "id": "06fc8d26",
   "metadata": {
    "execution": {
     "iopub.execute_input": "2023-02-26T14:33:51.792477Z",
     "iopub.status.busy": "2023-02-26T14:33:51.791874Z",
     "iopub.status.idle": "2023-02-26T14:33:52.898136Z",
     "shell.execute_reply": "2023-02-26T14:33:52.897171Z"
    }
   },
   "outputs": [
    {
     "name": "stderr",
     "output_type": "stream",
     "text": [
      "/opt/hostedtoolcache/Python/3.8.16/x64/lib/python3.8/site-packages/tqdm/auto.py:22: TqdmWarning: IProgress not found. Please update jupyter and ipywidgets. See https://ipywidgets.readthedocs.io/en/stable/user_install.html\n",
      "  from .autonotebook import tqdm as notebook_tqdm\n"
     ]
    }
   ],
   "source": [
    "import torch \n",
    "\n",
    "_TREE_DATA_1 = {'a': 1, 'b': 2, 'x': {'c': 3, 'd': 4}}\n",
    "_TREE_DATA_2 = {\n",
    "    'a': torch.randn(2, 3), \n",
    "    'x': {\n",
    "        'c': torch.randn(3, 4)\n",
    "    },\n",
    "}\n",
    "_TREE_DATA_3 = {\n",
    "    'obs': torch.randn(4, 84, 84),\n",
    "    'action': torch.randint(0, 6, size=(1,)),\n",
    "    'reward': torch.rand(1),\n",
    "}"
   ]
  },
  {
   "cell_type": "markdown",
   "id": "83461b25",
   "metadata": {},
   "source": [
    "## Read and Write Operation"
   ]
  },
  {
   "cell_type": "markdown",
   "id": "067b3f73",
   "metadata": {},
   "source": [
    "Reading and writing are the two most common operations in the tree data structure based on the data model (TreeValue and Tianshou Batch both belong to this type), so this section will compare the reading and writing performance of these two libraries."
   ]
  },
  {
   "cell_type": "markdown",
   "id": "5d09a5b7",
   "metadata": {},
   "source": [
    "### TreeValue's Get and Set"
   ]
  },
  {
   "cell_type": "code",
   "execution_count": 2,
   "id": "9519c4bb",
   "metadata": {
    "execution": {
     "iopub.execute_input": "2023-02-26T14:33:52.901790Z",
     "iopub.status.busy": "2023-02-26T14:33:52.901463Z",
     "iopub.status.idle": "2023-02-26T14:33:52.942835Z",
     "shell.execute_reply": "2023-02-26T14:33:52.941793Z"
    }
   },
   "outputs": [],
   "source": [
    "from treevalue import FastTreeValue\n",
    "\n",
    "t = FastTreeValue(_TREE_DATA_2)"
   ]
  },
  {
   "cell_type": "code",
   "execution_count": 3,
   "id": "11c37677",
   "metadata": {
    "execution": {
     "iopub.execute_input": "2023-02-26T14:33:52.946162Z",
     "iopub.status.busy": "2023-02-26T14:33:52.945876Z",
     "iopub.status.idle": "2023-02-26T14:33:52.958088Z",
     "shell.execute_reply": "2023-02-26T14:33:52.957056Z"
    }
   },
   "outputs": [
    {
     "data": {
      "text/plain": [
       "<FastTreeValue 0x7f474cd9f9d0>\n",
       "├── 'a' --> tensor([[-0.4202, -0.0075,  0.3304],\n",
       "│                   [-0.6290, -0.2106, -0.2328]])\n",
       "└── 'x' --> <FastTreeValue 0x7f474cd9faf0>\n",
       "    └── 'c' --> tensor([[-1.3071, -1.8390, -0.8650, -1.0303],\n",
       "                        [ 0.7796,  1.2613, -0.3053, -0.5583],\n",
       "                        [ 2.0123, -0.6229,  0.1774, -0.0540]])"
      ]
     },
     "execution_count": 3,
     "metadata": {},
     "output_type": "execute_result"
    }
   ],
   "source": [
    "t"
   ]
  },
  {
   "cell_type": "code",
   "execution_count": 4,
   "id": "fd70b0b9",
   "metadata": {
    "execution": {
     "iopub.execute_input": "2023-02-26T14:33:52.961401Z",
     "iopub.status.busy": "2023-02-26T14:33:52.961112Z",
     "iopub.status.idle": "2023-02-26T14:33:52.968955Z",
     "shell.execute_reply": "2023-02-26T14:33:52.967849Z"
    }
   },
   "outputs": [
    {
     "data": {
      "text/plain": [
       "tensor([[-0.4202, -0.0075,  0.3304],\n",
       "        [-0.6290, -0.2106, -0.2328]])"
      ]
     },
     "execution_count": 4,
     "metadata": {},
     "output_type": "execute_result"
    }
   ],
   "source": [
    "t.a"
   ]
  },
  {
   "cell_type": "code",
   "execution_count": 5,
   "id": "c18197bd",
   "metadata": {
    "execution": {
     "iopub.execute_input": "2023-02-26T14:33:52.972203Z",
     "iopub.status.busy": "2023-02-26T14:33:52.971898Z",
     "iopub.status.idle": "2023-02-26T14:33:58.594994Z",
     "shell.execute_reply": "2023-02-26T14:33:58.594007Z"
    }
   },
   "outputs": [
    {
     "name": "stdout",
     "output_type": "stream",
     "text": [
      "69.6 ns ± 1.37 ns per loop (mean ± std. dev. of 7 runs, 10,000,000 loops each)\n"
     ]
    }
   ],
   "source": [
    "%timeit t.a"
   ]
  },
  {
   "cell_type": "code",
   "execution_count": 6,
   "id": "bd52f867",
   "metadata": {
    "execution": {
     "iopub.execute_input": "2023-02-26T14:33:58.598582Z",
     "iopub.status.busy": "2023-02-26T14:33:58.598300Z",
     "iopub.status.idle": "2023-02-26T14:33:58.607455Z",
     "shell.execute_reply": "2023-02-26T14:33:58.606376Z"
    }
   },
   "outputs": [
    {
     "data": {
      "text/plain": [
       "<FastTreeValue 0x7f474cd9f9d0>\n",
       "├── 'a' --> tensor([[ 0.4728, -0.7852, -1.2777],\n",
       "│                   [ 1.2646, -0.7693,  0.4981]])\n",
       "└── 'x' --> <FastTreeValue 0x7f474cd9faf0>\n",
       "    └── 'c' --> tensor([[-1.3071, -1.8390, -0.8650, -1.0303],\n",
       "                        [ 0.7796,  1.2613, -0.3053, -0.5583],\n",
       "                        [ 2.0123, -0.6229,  0.1774, -0.0540]])"
      ]
     },
     "execution_count": 6,
     "metadata": {},
     "output_type": "execute_result"
    }
   ],
   "source": [
    "new_value = torch.randn(2, 3)\n",
    "t.a = new_value\n",
    "\n",
    "t"
   ]
  },
  {
   "cell_type": "code",
   "execution_count": 7,
   "id": "bbe04d1c",
   "metadata": {
    "execution": {
     "iopub.execute_input": "2023-02-26T14:33:58.610572Z",
     "iopub.status.busy": "2023-02-26T14:33:58.610139Z",
     "iopub.status.idle": "2023-02-26T14:34:04.751956Z",
     "shell.execute_reply": "2023-02-26T14:34:04.750994Z"
    }
   },
   "outputs": [
    {
     "name": "stdout",
     "output_type": "stream",
     "text": [
      "75.7 ns ± 0.585 ns per loop (mean ± std. dev. of 7 runs, 10,000,000 loops each)\n"
     ]
    }
   ],
   "source": [
    "%timeit t.a = new_value"
   ]
  },
  {
   "cell_type": "markdown",
   "id": "48c49731",
   "metadata": {},
   "source": [
    "### Tianshou Batch's Get and Set"
   ]
  },
  {
   "cell_type": "code",
   "execution_count": 8,
   "id": "f1bb14c1",
   "metadata": {
    "execution": {
     "iopub.execute_input": "2023-02-26T14:34:04.755470Z",
     "iopub.status.busy": "2023-02-26T14:34:04.755154Z",
     "iopub.status.idle": "2023-02-26T14:34:05.162009Z",
     "shell.execute_reply": "2023-02-26T14:34:05.161052Z"
    }
   },
   "outputs": [],
   "source": [
    "from tianshou.data import Batch\n",
    "\n",
    "b = Batch(**_TREE_DATA_2)"
   ]
  },
  {
   "cell_type": "code",
   "execution_count": 9,
   "id": "cb0777c3",
   "metadata": {
    "execution": {
     "iopub.execute_input": "2023-02-26T14:34:05.165828Z",
     "iopub.status.busy": "2023-02-26T14:34:05.165487Z",
     "iopub.status.idle": "2023-02-26T14:34:05.173895Z",
     "shell.execute_reply": "2023-02-26T14:34:05.172885Z"
    }
   },
   "outputs": [
    {
     "data": {
      "text/plain": [
       "Batch(\n",
       "    a: tensor([[-0.4202, -0.0075,  0.3304],\n",
       "               [-0.6290, -0.2106, -0.2328]]),\n",
       "    x: Batch(\n",
       "           c: tensor([[-1.3071, -1.8390, -0.8650, -1.0303],\n",
       "                      [ 0.7796,  1.2613, -0.3053, -0.5583],\n",
       "                      [ 2.0123, -0.6229,  0.1774, -0.0540]]),\n",
       "       ),\n",
       ")"
      ]
     },
     "execution_count": 9,
     "metadata": {},
     "output_type": "execute_result"
    }
   ],
   "source": [
    "b"
   ]
  },
  {
   "cell_type": "code",
   "execution_count": 10,
   "id": "43ef8ea3",
   "metadata": {
    "execution": {
     "iopub.execute_input": "2023-02-26T14:34:05.177161Z",
     "iopub.status.busy": "2023-02-26T14:34:05.176903Z",
     "iopub.status.idle": "2023-02-26T14:34:05.183815Z",
     "shell.execute_reply": "2023-02-26T14:34:05.182950Z"
    }
   },
   "outputs": [
    {
     "data": {
      "text/plain": [
       "tensor([[-0.4202, -0.0075,  0.3304],\n",
       "        [-0.6290, -0.2106, -0.2328]])"
      ]
     },
     "execution_count": 10,
     "metadata": {},
     "output_type": "execute_result"
    }
   ],
   "source": [
    "b.a"
   ]
  },
  {
   "cell_type": "code",
   "execution_count": 11,
   "id": "b785ab72",
   "metadata": {
    "execution": {
     "iopub.execute_input": "2023-02-26T14:34:05.186779Z",
     "iopub.status.busy": "2023-02-26T14:34:05.186422Z",
     "iopub.status.idle": "2023-02-26T14:34:10.429064Z",
     "shell.execute_reply": "2023-02-26T14:34:10.428098Z"
    }
   },
   "outputs": [
    {
     "name": "stdout",
     "output_type": "stream",
     "text": [
      "64.3 ns ± 1.02 ns per loop (mean ± std. dev. of 7 runs, 10,000,000 loops each)\n"
     ]
    }
   ],
   "source": [
    "%timeit b.a"
   ]
  },
  {
   "cell_type": "code",
   "execution_count": 12,
   "id": "ad54dc69",
   "metadata": {
    "execution": {
     "iopub.execute_input": "2023-02-26T14:34:10.432580Z",
     "iopub.status.busy": "2023-02-26T14:34:10.432285Z",
     "iopub.status.idle": "2023-02-26T14:34:10.440255Z",
     "shell.execute_reply": "2023-02-26T14:34:10.439398Z"
    }
   },
   "outputs": [
    {
     "data": {
      "text/plain": [
       "Batch(\n",
       "    a: tensor([[-0.3577, -0.5311,  0.3426],\n",
       "               [-1.1936, -1.7176, -1.0226]]),\n",
       "    x: Batch(\n",
       "           c: tensor([[-1.3071, -1.8390, -0.8650, -1.0303],\n",
       "                      [ 0.7796,  1.2613, -0.3053, -0.5583],\n",
       "                      [ 2.0123, -0.6229,  0.1774, -0.0540]]),\n",
       "       ),\n",
       ")"
      ]
     },
     "execution_count": 12,
     "metadata": {},
     "output_type": "execute_result"
    }
   ],
   "source": [
    "new_value = torch.randn(2, 3)\n",
    "b.a = new_value\n",
    "\n",
    "b"
   ]
  },
  {
   "cell_type": "code",
   "execution_count": 13,
   "id": "29b1d0bf",
   "metadata": {
    "execution": {
     "iopub.execute_input": "2023-02-26T14:34:10.443639Z",
     "iopub.status.busy": "2023-02-26T14:34:10.443056Z",
     "iopub.status.idle": "2023-02-26T14:34:15.048384Z",
     "shell.execute_reply": "2023-02-26T14:34:15.047424Z"
    }
   },
   "outputs": [
    {
     "name": "stdout",
     "output_type": "stream",
     "text": [
      "566 ns ± 14.3 ns per loop (mean ± std. dev. of 7 runs, 1,000,000 loops each)\n"
     ]
    }
   ],
   "source": [
    "%timeit b.a = new_value"
   ]
  },
  {
   "cell_type": "markdown",
   "id": "b61ad1d0",
   "metadata": {},
   "source": [
    "## Initialization"
   ]
  },
  {
   "cell_type": "markdown",
   "id": "d70f0d54",
   "metadata": {},
   "source": [
    "### TreeValue's Initialization"
   ]
  },
  {
   "cell_type": "code",
   "execution_count": 14,
   "id": "d32a679b",
   "metadata": {
    "execution": {
     "iopub.execute_input": "2023-02-26T14:34:15.052750Z",
     "iopub.status.busy": "2023-02-26T14:34:15.051848Z",
     "iopub.status.idle": "2023-02-26T14:34:22.827690Z",
     "shell.execute_reply": "2023-02-26T14:34:22.826752Z"
    }
   },
   "outputs": [
    {
     "name": "stdout",
     "output_type": "stream",
     "text": [
      "956 ns ± 16.8 ns per loop (mean ± std. dev. of 7 runs, 1,000,000 loops each)\n"
     ]
    }
   ],
   "source": [
    "%timeit FastTreeValue(_TREE_DATA_1)"
   ]
  },
  {
   "cell_type": "markdown",
   "id": "24f3707b",
   "metadata": {},
   "source": [
    "### Tianshou Batch's Initialization"
   ]
  },
  {
   "cell_type": "code",
   "execution_count": 15,
   "id": "ac3958df",
   "metadata": {
    "execution": {
     "iopub.execute_input": "2023-02-26T14:34:22.831072Z",
     "iopub.status.busy": "2023-02-26T14:34:22.830655Z",
     "iopub.status.idle": "2023-02-26T14:34:32.926026Z",
     "shell.execute_reply": "2023-02-26T14:34:32.924930Z"
    }
   },
   "outputs": [
    {
     "name": "stdout",
     "output_type": "stream",
     "text": [
      "12.4 µs ± 163 ns per loop (mean ± std. dev. of 7 runs, 100,000 loops each)\n"
     ]
    }
   ],
   "source": [
    "%timeit Batch(**_TREE_DATA_1)"
   ]
  },
  {
   "cell_type": "markdown",
   "id": "1ab82e2d",
   "metadata": {},
   "source": [
    "## Deep Copy Operation"
   ]
  },
  {
   "cell_type": "code",
   "execution_count": 16,
   "id": "210a9442",
   "metadata": {
    "execution": {
     "iopub.execute_input": "2023-02-26T14:34:32.929442Z",
     "iopub.status.busy": "2023-02-26T14:34:32.929163Z",
     "iopub.status.idle": "2023-02-26T14:34:32.934284Z",
     "shell.execute_reply": "2023-02-26T14:34:32.933175Z"
    }
   },
   "outputs": [],
   "source": [
    "import copy"
   ]
  },
  {
   "cell_type": "markdown",
   "id": "5a736274",
   "metadata": {},
   "source": [
    "### Deep Copy of TreeValue"
   ]
  },
  {
   "cell_type": "code",
   "execution_count": 17,
   "id": "f9bcadd6",
   "metadata": {
    "execution": {
     "iopub.execute_input": "2023-02-26T14:34:32.937743Z",
     "iopub.status.busy": "2023-02-26T14:34:32.937249Z",
     "iopub.status.idle": "2023-02-26T14:34:35.089976Z",
     "shell.execute_reply": "2023-02-26T14:34:35.089032Z"
    }
   },
   "outputs": [
    {
     "name": "stdout",
     "output_type": "stream",
     "text": [
      "265 µs ± 6.99 µs per loop (mean ± std. dev. of 7 runs, 1,000 loops each)\n"
     ]
    }
   ],
   "source": [
    "t3 = FastTreeValue(_TREE_DATA_3)\n",
    "%timeit copy.deepcopy(t3)"
   ]
  },
  {
   "cell_type": "markdown",
   "id": "bf8be7ea",
   "metadata": {},
   "source": [
    "### Deep Copy of Tianshou Batch"
   ]
  },
  {
   "cell_type": "code",
   "execution_count": 18,
   "id": "91998e6f",
   "metadata": {
    "execution": {
     "iopub.execute_input": "2023-02-26T14:34:35.093386Z",
     "iopub.status.busy": "2023-02-26T14:34:35.093097Z",
     "iopub.status.idle": "2023-02-26T14:34:37.214368Z",
     "shell.execute_reply": "2023-02-26T14:34:37.213461Z"
    }
   },
   "outputs": [
    {
     "name": "stdout",
     "output_type": "stream",
     "text": [
      "261 µs ± 11.8 µs per loop (mean ± std. dev. of 7 runs, 1,000 loops each)\n"
     ]
    }
   ],
   "source": [
    "b3 = Batch(**_TREE_DATA_3)\n",
    "%timeit copy.deepcopy(b3)"
   ]
  },
  {
   "cell_type": "markdown",
   "id": "223162fb",
   "metadata": {},
   "source": [
    "## Stack, Concat and Split Operation"
   ]
  },
  {
   "cell_type": "markdown",
   "id": "85fa4a73",
   "metadata": {},
   "source": [
    "### Performance of TreeValue"
   ]
  },
  {
   "cell_type": "code",
   "execution_count": 19,
   "id": "a0c2b697",
   "metadata": {
    "execution": {
     "iopub.execute_input": "2023-02-26T14:34:37.217776Z",
     "iopub.status.busy": "2023-02-26T14:34:37.217332Z",
     "iopub.status.idle": "2023-02-26T14:34:37.222147Z",
     "shell.execute_reply": "2023-02-26T14:34:37.221127Z"
    }
   },
   "outputs": [],
   "source": [
    "trees = [FastTreeValue(_TREE_DATA_2) for _ in range(8)]"
   ]
  },
  {
   "cell_type": "code",
   "execution_count": 20,
   "id": "017ea5a5",
   "metadata": {
    "execution": {
     "iopub.execute_input": "2023-02-26T14:34:37.225650Z",
     "iopub.status.busy": "2023-02-26T14:34:37.225153Z",
     "iopub.status.idle": "2023-02-26T14:34:37.235396Z",
     "shell.execute_reply": "2023-02-26T14:34:37.234492Z"
    }
   },
   "outputs": [
    {
     "data": {
      "text/plain": [
       "<FastTreeValue 0x7f46a2a2b940>\n",
       "├── 'a' --> tensor([[[-0.4202, -0.0075,  0.3304],\n",
       "│                    [-0.6290, -0.2106, -0.2328]],\n",
       "│           \n",
       "│                   [[-0.4202, -0.0075,  0.3304],\n",
       "│                    [-0.6290, -0.2106, -0.2328]],\n",
       "│           \n",
       "│                   [[-0.4202, -0.0075,  0.3304],\n",
       "│                    [-0.6290, -0.2106, -0.2328]],\n",
       "│           \n",
       "│                   [[-0.4202, -0.0075,  0.3304],\n",
       "│                    [-0.6290, -0.2106, -0.2328]],\n",
       "│           \n",
       "│                   [[-0.4202, -0.0075,  0.3304],\n",
       "│                    [-0.6290, -0.2106, -0.2328]],\n",
       "│           \n",
       "│                   [[-0.4202, -0.0075,  0.3304],\n",
       "│                    [-0.6290, -0.2106, -0.2328]],\n",
       "│           \n",
       "│                   [[-0.4202, -0.0075,  0.3304],\n",
       "│                    [-0.6290, -0.2106, -0.2328]],\n",
       "│           \n",
       "│                   [[-0.4202, -0.0075,  0.3304],\n",
       "│                    [-0.6290, -0.2106, -0.2328]]])\n",
       "└── 'x' --> <FastTreeValue 0x7f474cdcf4c0>\n",
       "    └── 'c' --> tensor([[[-1.3071, -1.8390, -0.8650, -1.0303],\n",
       "                         [ 0.7796,  1.2613, -0.3053, -0.5583],\n",
       "                         [ 2.0123, -0.6229,  0.1774, -0.0540]],\n",
       "                \n",
       "                        [[-1.3071, -1.8390, -0.8650, -1.0303],\n",
       "                         [ 0.7796,  1.2613, -0.3053, -0.5583],\n",
       "                         [ 2.0123, -0.6229,  0.1774, -0.0540]],\n",
       "                \n",
       "                        [[-1.3071, -1.8390, -0.8650, -1.0303],\n",
       "                         [ 0.7796,  1.2613, -0.3053, -0.5583],\n",
       "                         [ 2.0123, -0.6229,  0.1774, -0.0540]],\n",
       "                \n",
       "                        [[-1.3071, -1.8390, -0.8650, -1.0303],\n",
       "                         [ 0.7796,  1.2613, -0.3053, -0.5583],\n",
       "                         [ 2.0123, -0.6229,  0.1774, -0.0540]],\n",
       "                \n",
       "                        [[-1.3071, -1.8390, -0.8650, -1.0303],\n",
       "                         [ 0.7796,  1.2613, -0.3053, -0.5583],\n",
       "                         [ 2.0123, -0.6229,  0.1774, -0.0540]],\n",
       "                \n",
       "                        [[-1.3071, -1.8390, -0.8650, -1.0303],\n",
       "                         [ 0.7796,  1.2613, -0.3053, -0.5583],\n",
       "                         [ 2.0123, -0.6229,  0.1774, -0.0540]],\n",
       "                \n",
       "                        [[-1.3071, -1.8390, -0.8650, -1.0303],\n",
       "                         [ 0.7796,  1.2613, -0.3053, -0.5583],\n",
       "                         [ 2.0123, -0.6229,  0.1774, -0.0540]],\n",
       "                \n",
       "                        [[-1.3071, -1.8390, -0.8650, -1.0303],\n",
       "                         [ 0.7796,  1.2613, -0.3053, -0.5583],\n",
       "                         [ 2.0123, -0.6229,  0.1774, -0.0540]]])"
      ]
     },
     "execution_count": 20,
     "metadata": {},
     "output_type": "execute_result"
    }
   ],
   "source": [
    "t_stack = FastTreeValue.func(subside=True)(torch.stack)\n",
    "\n",
    "t_stack(trees)"
   ]
  },
  {
   "cell_type": "code",
   "execution_count": 21,
   "id": "f8b3f415",
   "metadata": {
    "execution": {
     "iopub.execute_input": "2023-02-26T14:34:37.238408Z",
     "iopub.status.busy": "2023-02-26T14:34:37.237936Z",
     "iopub.status.idle": "2023-02-26T14:34:40.657797Z",
     "shell.execute_reply": "2023-02-26T14:34:40.656831Z"
    }
   },
   "outputs": [
    {
     "name": "stdout",
     "output_type": "stream",
     "text": [
      "41.9 µs ± 585 ns per loop (mean ± std. dev. of 7 runs, 10,000 loops each)\n"
     ]
    }
   ],
   "source": [
    "%timeit t_stack(trees)"
   ]
  },
  {
   "cell_type": "code",
   "execution_count": 22,
   "id": "94b56771",
   "metadata": {
    "execution": {
     "iopub.execute_input": "2023-02-26T14:34:40.661183Z",
     "iopub.status.busy": "2023-02-26T14:34:40.660899Z",
     "iopub.status.idle": "2023-02-26T14:34:40.669865Z",
     "shell.execute_reply": "2023-02-26T14:34:40.669050Z"
    }
   },
   "outputs": [
    {
     "data": {
      "text/plain": [
       "<FastTreeValue 0x7f46a2a2b2e0>\n",
       "├── 'a' --> tensor([[-0.4202, -0.0075,  0.3304],\n",
       "│                   [-0.6290, -0.2106, -0.2328],\n",
       "│                   [-0.4202, -0.0075,  0.3304],\n",
       "│                   [-0.6290, -0.2106, -0.2328],\n",
       "│                   [-0.4202, -0.0075,  0.3304],\n",
       "│                   [-0.6290, -0.2106, -0.2328],\n",
       "│                   [-0.4202, -0.0075,  0.3304],\n",
       "│                   [-0.6290, -0.2106, -0.2328],\n",
       "│                   [-0.4202, -0.0075,  0.3304],\n",
       "│                   [-0.6290, -0.2106, -0.2328],\n",
       "│                   [-0.4202, -0.0075,  0.3304],\n",
       "│                   [-0.6290, -0.2106, -0.2328],\n",
       "│                   [-0.4202, -0.0075,  0.3304],\n",
       "│                   [-0.6290, -0.2106, -0.2328],\n",
       "│                   [-0.4202, -0.0075,  0.3304],\n",
       "│                   [-0.6290, -0.2106, -0.2328]])\n",
       "└── 'x' --> <FastTreeValue 0x7f46a2a2bc70>\n",
       "    └── 'c' --> tensor([[-1.3071, -1.8390, -0.8650, -1.0303],\n",
       "                        [ 0.7796,  1.2613, -0.3053, -0.5583],\n",
       "                        [ 2.0123, -0.6229,  0.1774, -0.0540],\n",
       "                        [-1.3071, -1.8390, -0.8650, -1.0303],\n",
       "                        [ 0.7796,  1.2613, -0.3053, -0.5583],\n",
       "                        [ 2.0123, -0.6229,  0.1774, -0.0540],\n",
       "                        [-1.3071, -1.8390, -0.8650, -1.0303],\n",
       "                        [ 0.7796,  1.2613, -0.3053, -0.5583],\n",
       "                        [ 2.0123, -0.6229,  0.1774, -0.0540],\n",
       "                        [-1.3071, -1.8390, -0.8650, -1.0303],\n",
       "                        [ 0.7796,  1.2613, -0.3053, -0.5583],\n",
       "                        [ 2.0123, -0.6229,  0.1774, -0.0540],\n",
       "                        [-1.3071, -1.8390, -0.8650, -1.0303],\n",
       "                        [ 0.7796,  1.2613, -0.3053, -0.5583],\n",
       "                        [ 2.0123, -0.6229,  0.1774, -0.0540],\n",
       "                        [-1.3071, -1.8390, -0.8650, -1.0303],\n",
       "                        [ 0.7796,  1.2613, -0.3053, -0.5583],\n",
       "                        [ 2.0123, -0.6229,  0.1774, -0.0540],\n",
       "                        [-1.3071, -1.8390, -0.8650, -1.0303],\n",
       "                        [ 0.7796,  1.2613, -0.3053, -0.5583],\n",
       "                        [ 2.0123, -0.6229,  0.1774, -0.0540],\n",
       "                        [-1.3071, -1.8390, -0.8650, -1.0303],\n",
       "                        [ 0.7796,  1.2613, -0.3053, -0.5583],\n",
       "                        [ 2.0123, -0.6229,  0.1774, -0.0540]])"
      ]
     },
     "execution_count": 22,
     "metadata": {},
     "output_type": "execute_result"
    }
   ],
   "source": [
    "t_cat = FastTreeValue.func(subside=True)(torch.cat)\n",
    "\n",
    "t_cat(trees)"
   ]
  },
  {
   "cell_type": "code",
   "execution_count": 23,
   "id": "5e9c06a6",
   "metadata": {
    "execution": {
     "iopub.execute_input": "2023-02-26T14:34:40.672627Z",
     "iopub.status.busy": "2023-02-26T14:34:40.672374Z",
     "iopub.status.idle": "2023-02-26T14:34:43.880934Z",
     "shell.execute_reply": "2023-02-26T14:34:43.879940Z"
    }
   },
   "outputs": [
    {
     "name": "stdout",
     "output_type": "stream",
     "text": [
      "39.7 µs ± 1.22 µs per loop (mean ± std. dev. of 7 runs, 10,000 loops each)\n"
     ]
    }
   ],
   "source": [
    "%timeit t_cat(trees)"
   ]
  },
  {
   "cell_type": "code",
   "execution_count": 24,
   "id": "a3ab5c8f",
   "metadata": {
    "execution": {
     "iopub.execute_input": "2023-02-26T14:34:43.885364Z",
     "iopub.status.busy": "2023-02-26T14:34:43.884622Z",
     "iopub.status.idle": "2023-02-26T14:34:49.945155Z",
     "shell.execute_reply": "2023-02-26T14:34:49.944282Z"
    }
   },
   "outputs": [
    {
     "name": "stdout",
     "output_type": "stream",
     "text": [
      "74.5 µs ± 1.62 µs per loop (mean ± std. dev. of 7 runs, 10,000 loops each)\n"
     ]
    }
   ],
   "source": [
    "t_split = FastTreeValue.func(rise=True)(torch.split)\n",
    "tree = FastTreeValue({\n",
    "    'obs': torch.randn(8, 4, 84, 84),\n",
    "    'action': torch.randint(0, 6, size=(8, 1,)),\n",
    "    'reward': torch.rand(8, 1),\n",
    "})\n",
    "\n",
    "%timeit t_split(tree, 1)"
   ]
  },
  {
   "cell_type": "markdown",
   "id": "31c3ec0b",
   "metadata": {},
   "source": [
    "### Performance of Tianshou Batch"
   ]
  },
  {
   "cell_type": "code",
   "execution_count": 25,
   "id": "9ead828a",
   "metadata": {
    "execution": {
     "iopub.execute_input": "2023-02-26T14:34:49.948635Z",
     "iopub.status.busy": "2023-02-26T14:34:49.948121Z",
     "iopub.status.idle": "2023-02-26T14:34:49.956970Z",
     "shell.execute_reply": "2023-02-26T14:34:49.956133Z"
    }
   },
   "outputs": [
    {
     "data": {
      "text/plain": [
       "Batch(\n",
       "    a: tensor([[[-0.4202, -0.0075,  0.3304],\n",
       "                [-0.6290, -0.2106, -0.2328]],\n",
       "       \n",
       "               [[-0.4202, -0.0075,  0.3304],\n",
       "                [-0.6290, -0.2106, -0.2328]],\n",
       "       \n",
       "               [[-0.4202, -0.0075,  0.3304],\n",
       "                [-0.6290, -0.2106, -0.2328]],\n",
       "       \n",
       "               [[-0.4202, -0.0075,  0.3304],\n",
       "                [-0.6290, -0.2106, -0.2328]],\n",
       "       \n",
       "               [[-0.4202, -0.0075,  0.3304],\n",
       "                [-0.6290, -0.2106, -0.2328]],\n",
       "       \n",
       "               [[-0.4202, -0.0075,  0.3304],\n",
       "                [-0.6290, -0.2106, -0.2328]],\n",
       "       \n",
       "               [[-0.4202, -0.0075,  0.3304],\n",
       "                [-0.6290, -0.2106, -0.2328]],\n",
       "       \n",
       "               [[-0.4202, -0.0075,  0.3304],\n",
       "                [-0.6290, -0.2106, -0.2328]]]),\n",
       "    x: Batch(\n",
       "           c: tensor([[[-1.3071, -1.8390, -0.8650, -1.0303],\n",
       "                       [ 0.7796,  1.2613, -0.3053, -0.5583],\n",
       "                       [ 2.0123, -0.6229,  0.1774, -0.0540]],\n",
       "              \n",
       "                      [[-1.3071, -1.8390, -0.8650, -1.0303],\n",
       "                       [ 0.7796,  1.2613, -0.3053, -0.5583],\n",
       "                       [ 2.0123, -0.6229,  0.1774, -0.0540]],\n",
       "              \n",
       "                      [[-1.3071, -1.8390, -0.8650, -1.0303],\n",
       "                       [ 0.7796,  1.2613, -0.3053, -0.5583],\n",
       "                       [ 2.0123, -0.6229,  0.1774, -0.0540]],\n",
       "              \n",
       "                      [[-1.3071, -1.8390, -0.8650, -1.0303],\n",
       "                       [ 0.7796,  1.2613, -0.3053, -0.5583],\n",
       "                       [ 2.0123, -0.6229,  0.1774, -0.0540]],\n",
       "              \n",
       "                      [[-1.3071, -1.8390, -0.8650, -1.0303],\n",
       "                       [ 0.7796,  1.2613, -0.3053, -0.5583],\n",
       "                       [ 2.0123, -0.6229,  0.1774, -0.0540]],\n",
       "              \n",
       "                      [[-1.3071, -1.8390, -0.8650, -1.0303],\n",
       "                       [ 0.7796,  1.2613, -0.3053, -0.5583],\n",
       "                       [ 2.0123, -0.6229,  0.1774, -0.0540]],\n",
       "              \n",
       "                      [[-1.3071, -1.8390, -0.8650, -1.0303],\n",
       "                       [ 0.7796,  1.2613, -0.3053, -0.5583],\n",
       "                       [ 2.0123, -0.6229,  0.1774, -0.0540]],\n",
       "              \n",
       "                      [[-1.3071, -1.8390, -0.8650, -1.0303],\n",
       "                       [ 0.7796,  1.2613, -0.3053, -0.5583],\n",
       "                       [ 2.0123, -0.6229,  0.1774, -0.0540]]]),\n",
       "       ),\n",
       ")"
      ]
     },
     "execution_count": 25,
     "metadata": {},
     "output_type": "execute_result"
    }
   ],
   "source": [
    "batches = [Batch(**_TREE_DATA_2) for _ in range(8)]\n",
    "\n",
    "Batch.stack(batches)"
   ]
  },
  {
   "cell_type": "code",
   "execution_count": 26,
   "id": "ec9037a3",
   "metadata": {
    "execution": {
     "iopub.execute_input": "2023-02-26T14:34:49.960576Z",
     "iopub.status.busy": "2023-02-26T14:34:49.960095Z",
     "iopub.status.idle": "2023-02-26T14:34:57.786412Z",
     "shell.execute_reply": "2023-02-26T14:34:57.785395Z"
    }
   },
   "outputs": [
    {
     "name": "stdout",
     "output_type": "stream",
     "text": [
      "96.7 µs ± 1.63 µs per loop (mean ± std. dev. of 7 runs, 10,000 loops each)\n"
     ]
    }
   ],
   "source": [
    "%timeit Batch.stack(batches)"
   ]
  },
  {
   "cell_type": "code",
   "execution_count": 27,
   "id": "cb8ab77e",
   "metadata": {
    "execution": {
     "iopub.execute_input": "2023-02-26T14:34:57.790050Z",
     "iopub.status.busy": "2023-02-26T14:34:57.789565Z",
     "iopub.status.idle": "2023-02-26T14:34:57.799200Z",
     "shell.execute_reply": "2023-02-26T14:34:57.798379Z"
    }
   },
   "outputs": [
    {
     "data": {
      "text/plain": [
       "Batch(\n",
       "    a: tensor([[-0.4202, -0.0075,  0.3304],\n",
       "               [-0.6290, -0.2106, -0.2328],\n",
       "               [-0.4202, -0.0075,  0.3304],\n",
       "               [-0.6290, -0.2106, -0.2328],\n",
       "               [-0.4202, -0.0075,  0.3304],\n",
       "               [-0.6290, -0.2106, -0.2328],\n",
       "               [-0.4202, -0.0075,  0.3304],\n",
       "               [-0.6290, -0.2106, -0.2328],\n",
       "               [-0.4202, -0.0075,  0.3304],\n",
       "               [-0.6290, -0.2106, -0.2328],\n",
       "               [-0.4202, -0.0075,  0.3304],\n",
       "               [-0.6290, -0.2106, -0.2328],\n",
       "               [-0.4202, -0.0075,  0.3304],\n",
       "               [-0.6290, -0.2106, -0.2328],\n",
       "               [-0.4202, -0.0075,  0.3304],\n",
       "               [-0.6290, -0.2106, -0.2328]]),\n",
       "    x: Batch(\n",
       "           c: tensor([[-1.3071, -1.8390, -0.8650, -1.0303],\n",
       "                      [ 0.7796,  1.2613, -0.3053, -0.5583],\n",
       "                      [ 2.0123, -0.6229,  0.1774, -0.0540],\n",
       "                      [-1.3071, -1.8390, -0.8650, -1.0303],\n",
       "                      [ 0.7796,  1.2613, -0.3053, -0.5583],\n",
       "                      [ 2.0123, -0.6229,  0.1774, -0.0540],\n",
       "                      [-1.3071, -1.8390, -0.8650, -1.0303],\n",
       "                      [ 0.7796,  1.2613, -0.3053, -0.5583],\n",
       "                      [ 2.0123, -0.6229,  0.1774, -0.0540],\n",
       "                      [-1.3071, -1.8390, -0.8650, -1.0303],\n",
       "                      [ 0.7796,  1.2613, -0.3053, -0.5583],\n",
       "                      [ 2.0123, -0.6229,  0.1774, -0.0540],\n",
       "                      [-1.3071, -1.8390, -0.8650, -1.0303],\n",
       "                      [ 0.7796,  1.2613, -0.3053, -0.5583],\n",
       "                      [ 2.0123, -0.6229,  0.1774, -0.0540],\n",
       "                      [-1.3071, -1.8390, -0.8650, -1.0303],\n",
       "                      [ 0.7796,  1.2613, -0.3053, -0.5583],\n",
       "                      [ 2.0123, -0.6229,  0.1774, -0.0540],\n",
       "                      [-1.3071, -1.8390, -0.8650, -1.0303],\n",
       "                      [ 0.7796,  1.2613, -0.3053, -0.5583],\n",
       "                      [ 2.0123, -0.6229,  0.1774, -0.0540],\n",
       "                      [-1.3071, -1.8390, -0.8650, -1.0303],\n",
       "                      [ 0.7796,  1.2613, -0.3053, -0.5583],\n",
       "                      [ 2.0123, -0.6229,  0.1774, -0.0540]]),\n",
       "       ),\n",
       ")"
      ]
     },
     "execution_count": 27,
     "metadata": {},
     "output_type": "execute_result"
    }
   ],
   "source": [
    "Batch.cat(batches)"
   ]
  },
  {
   "cell_type": "code",
   "execution_count": 28,
   "id": "18dfb045",
   "metadata": {
    "execution": {
     "iopub.execute_input": "2023-02-26T14:34:57.802338Z",
     "iopub.status.busy": "2023-02-26T14:34:57.801856Z",
     "iopub.status.idle": "2023-02-26T14:35:11.505108Z",
     "shell.execute_reply": "2023-02-26T14:35:11.504061Z"
    }
   },
   "outputs": [
    {
     "name": "stdout",
     "output_type": "stream",
     "text": [
      "168 µs ± 3.21 µs per loop (mean ± std. dev. of 7 runs, 10,000 loops each)\n"
     ]
    }
   ],
   "source": [
    "%timeit Batch.cat(batches)"
   ]
  },
  {
   "cell_type": "code",
   "execution_count": 29,
   "id": "c6688e51",
   "metadata": {
    "execution": {
     "iopub.execute_input": "2023-02-26T14:35:11.508572Z",
     "iopub.status.busy": "2023-02-26T14:35:11.508155Z",
     "iopub.status.idle": "2023-02-26T14:35:16.060980Z",
     "shell.execute_reply": "2023-02-26T14:35:16.060093Z"
    }
   },
   "outputs": [
    {
     "name": "stdout",
     "output_type": "stream",
     "text": [
      "556 µs ± 15.9 µs per loop (mean ± std. dev. of 7 runs, 1,000 loops each)\n"
     ]
    }
   ],
   "source": [
    "batch = Batch({\n",
    "    'obs': torch.randn(8, 4, 84, 84),\n",
    "    'action': torch.randint(0, 6, size=(8, 1,)),\n",
    "    'reward': torch.rand(8, 1)}\n",
    ")\n",
    "\n",
    "%timeit list(Batch.split(batch, 1, shuffle=False, merge_last=True))"
   ]
  },
  {
   "cell_type": "code",
   "execution_count": null,
   "id": "2539fbd9",
   "metadata": {},
   "outputs": [],
   "source": []
  }
 ],
 "metadata": {
  "kernelspec": {
   "display_name": "Python 3 (ipykernel)",
   "language": "python",
   "name": "python3"
  },
  "language_info": {
   "codemirror_mode": {
    "name": "ipython",
    "version": 3
   },
   "file_extension": ".py",
   "mimetype": "text/x-python",
   "name": "python",
   "nbconvert_exporter": "python",
   "pygments_lexer": "ipython3",
   "version": "3.8.16"
  }
 },
 "nbformat": 4,
 "nbformat_minor": 5
}
