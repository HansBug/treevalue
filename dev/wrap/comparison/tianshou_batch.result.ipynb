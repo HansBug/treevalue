{
 "cells": [
  {
   "cell_type": "markdown",
   "id": "9d39d946",
   "metadata": {},
   "source": [
    "# Comparison Between TreeValue and Tianshou Batch"
   ]
  },
  {
   "cell_type": "markdown",
   "id": "3c6db2d4",
   "metadata": {},
   "source": [
    "In this section, we will take a look at the feature and performance of the [Tianshou Batch](https://github.com/thu-ml/tianshou) library, which is developed by Tsinghua Machine Learning Group."
   ]
  },
  {
   "cell_type": "markdown",
   "id": "069361b0",
   "metadata": {},
   "source": [
    "Before starting the comparison, let us define some thing."
   ]
  },
  {
   "cell_type": "code",
   "execution_count": 1,
   "id": "06fc8d26",
   "metadata": {
    "execution": {
     "iopub.execute_input": "2023-02-26T04:33:51.672094Z",
     "iopub.status.busy": "2023-02-26T04:33:51.671868Z",
     "iopub.status.idle": "2023-02-26T04:33:52.586727Z",
     "shell.execute_reply": "2023-02-26T04:33:52.586062Z"
    }
   },
   "outputs": [
    {
     "name": "stderr",
     "output_type": "stream",
     "text": [
      "/opt/hostedtoolcache/Python/3.8.16/x64/lib/python3.8/site-packages/tqdm/auto.py:22: TqdmWarning: IProgress not found. Please update jupyter and ipywidgets. See https://ipywidgets.readthedocs.io/en/stable/user_install.html\n",
      "  from .autonotebook import tqdm as notebook_tqdm\n"
     ]
    }
   ],
   "source": [
    "import torch \n",
    "\n",
    "_TREE_DATA_1 = {'a': 1, 'b': 2, 'x': {'c': 3, 'd': 4}}\n",
    "_TREE_DATA_2 = {\n",
    "    'a': torch.randn(2, 3), \n",
    "    'x': {\n",
    "        'c': torch.randn(3, 4)\n",
    "    },\n",
    "}\n",
    "_TREE_DATA_3 = {\n",
    "    'obs': torch.randn(4, 84, 84),\n",
    "    'action': torch.randint(0, 6, size=(1,)),\n",
    "    'reward': torch.rand(1),\n",
    "}"
   ]
  },
  {
   "cell_type": "markdown",
   "id": "83461b25",
   "metadata": {},
   "source": [
    "## Read and Write Operation"
   ]
  },
  {
   "cell_type": "markdown",
   "id": "067b3f73",
   "metadata": {},
   "source": [
    "Reading and writing are the two most common operations in the tree data structure based on the data model (TreeValue and Tianshou Batch both belong to this type), so this section will compare the reading and writing performance of these two libraries."
   ]
  },
  {
   "cell_type": "markdown",
   "id": "5d09a5b7",
   "metadata": {},
   "source": [
    "### TreeValue's Get and Set"
   ]
  },
  {
   "cell_type": "code",
   "execution_count": 2,
   "id": "9519c4bb",
   "metadata": {
    "execution": {
     "iopub.execute_input": "2023-02-26T04:33:52.590175Z",
     "iopub.status.busy": "2023-02-26T04:33:52.589590Z",
     "iopub.status.idle": "2023-02-26T04:33:52.622853Z",
     "shell.execute_reply": "2023-02-26T04:33:52.622238Z"
    }
   },
   "outputs": [],
   "source": [
    "from treevalue import FastTreeValue\n",
    "\n",
    "t = FastTreeValue(_TREE_DATA_2)"
   ]
  },
  {
   "cell_type": "code",
   "execution_count": 3,
   "id": "11c37677",
   "metadata": {
    "execution": {
     "iopub.execute_input": "2023-02-26T04:33:52.625893Z",
     "iopub.status.busy": "2023-02-26T04:33:52.625546Z",
     "iopub.status.idle": "2023-02-26T04:33:52.633878Z",
     "shell.execute_reply": "2023-02-26T04:33:52.633204Z"
    }
   },
   "outputs": [
    {
     "data": {
      "text/plain": [
       "<FastTreeValue 0x7fa9a0b22df0>\n",
       "├── 'a' --> tensor([[ 0.2925,  0.9545, -0.6153],\n",
       "│                   [-0.1786,  1.7654, -1.2716]])\n",
       "└── 'x' --> <FastTreeValue 0x7fa9a0b22bb0>\n",
       "    └── 'c' --> tensor([[ 0.7716,  0.7006, -1.4428,  0.9357],\n",
       "                        [-0.4567, -0.1508,  1.0762,  0.4959],\n",
       "                        [-1.8219, -0.5449, -1.3142,  0.1862]])"
      ]
     },
     "execution_count": 3,
     "metadata": {},
     "output_type": "execute_result"
    }
   ],
   "source": [
    "t"
   ]
  },
  {
   "cell_type": "code",
   "execution_count": 4,
   "id": "fd70b0b9",
   "metadata": {
    "execution": {
     "iopub.execute_input": "2023-02-26T04:33:52.636623Z",
     "iopub.status.busy": "2023-02-26T04:33:52.636120Z",
     "iopub.status.idle": "2023-02-26T04:33:52.641411Z",
     "shell.execute_reply": "2023-02-26T04:33:52.640809Z"
    }
   },
   "outputs": [
    {
     "data": {
      "text/plain": [
       "tensor([[ 0.2925,  0.9545, -0.6153],\n",
       "        [-0.1786,  1.7654, -1.2716]])"
      ]
     },
     "execution_count": 4,
     "metadata": {},
     "output_type": "execute_result"
    }
   ],
   "source": [
    "t.a"
   ]
  },
  {
   "cell_type": "code",
   "execution_count": 5,
   "id": "c18197bd",
   "metadata": {
    "execution": {
     "iopub.execute_input": "2023-02-26T04:33:52.644066Z",
     "iopub.status.busy": "2023-02-26T04:33:52.643733Z",
     "iopub.status.idle": "2023-02-26T04:33:57.830308Z",
     "shell.execute_reply": "2023-02-26T04:33:57.829571Z"
    }
   },
   "outputs": [
    {
     "name": "stdout",
     "output_type": "stream",
     "text": [
      "63.9 ns ± 0.077 ns per loop (mean ± std. dev. of 7 runs, 10,000,000 loops each)\n"
     ]
    }
   ],
   "source": [
    "%timeit t.a"
   ]
  },
  {
   "cell_type": "code",
   "execution_count": 6,
   "id": "bd52f867",
   "metadata": {
    "execution": {
     "iopub.execute_input": "2023-02-26T04:33:57.833111Z",
     "iopub.status.busy": "2023-02-26T04:33:57.832652Z",
     "iopub.status.idle": "2023-02-26T04:33:57.839511Z",
     "shell.execute_reply": "2023-02-26T04:33:57.838910Z"
    }
   },
   "outputs": [
    {
     "data": {
      "text/plain": [
       "<FastTreeValue 0x7fa9a0b22df0>\n",
       "├── 'a' --> tensor([[ 1.1791, -0.8716, -0.9033],\n",
       "│                   [ 0.5138, -0.7232, -0.1154]])\n",
       "└── 'x' --> <FastTreeValue 0x7fa9a0b22bb0>\n",
       "    └── 'c' --> tensor([[ 0.7716,  0.7006, -1.4428,  0.9357],\n",
       "                        [-0.4567, -0.1508,  1.0762,  0.4959],\n",
       "                        [-1.8219, -0.5449, -1.3142,  0.1862]])"
      ]
     },
     "execution_count": 6,
     "metadata": {},
     "output_type": "execute_result"
    }
   ],
   "source": [
    "new_value = torch.randn(2, 3)\n",
    "t.a = new_value\n",
    "\n",
    "t"
   ]
  },
  {
   "cell_type": "code",
   "execution_count": 7,
   "id": "bbe04d1c",
   "metadata": {
    "execution": {
     "iopub.execute_input": "2023-02-26T04:33:57.842260Z",
     "iopub.status.busy": "2023-02-26T04:33:57.841917Z",
     "iopub.status.idle": "2023-02-26T04:34:03.073266Z",
     "shell.execute_reply": "2023-02-26T04:34:03.072524Z"
    }
   },
   "outputs": [
    {
     "name": "stdout",
     "output_type": "stream",
     "text": [
      "64.4 ns ± 0.0492 ns per loop (mean ± std. dev. of 7 runs, 10,000,000 loops each)\n"
     ]
    }
   ],
   "source": [
    "%timeit t.a = new_value"
   ]
  },
  {
   "cell_type": "markdown",
   "id": "48c49731",
   "metadata": {},
   "source": [
    "### Tianshou Batch's Get and Set"
   ]
  },
  {
   "cell_type": "code",
   "execution_count": 8,
   "id": "f1bb14c1",
   "metadata": {
    "execution": {
     "iopub.execute_input": "2023-02-26T04:34:03.076120Z",
     "iopub.status.busy": "2023-02-26T04:34:03.075766Z",
     "iopub.status.idle": "2023-02-26T04:34:03.411538Z",
     "shell.execute_reply": "2023-02-26T04:34:03.410878Z"
    }
   },
   "outputs": [],
   "source": [
    "from tianshou.data import Batch\n",
    "\n",
    "b = Batch(**_TREE_DATA_2)"
   ]
  },
  {
   "cell_type": "code",
   "execution_count": 9,
   "id": "cb0777c3",
   "metadata": {
    "execution": {
     "iopub.execute_input": "2023-02-26T04:34:03.414638Z",
     "iopub.status.busy": "2023-02-26T04:34:03.414116Z",
     "iopub.status.idle": "2023-02-26T04:34:03.420246Z",
     "shell.execute_reply": "2023-02-26T04:34:03.419669Z"
    }
   },
   "outputs": [
    {
     "data": {
      "text/plain": [
       "Batch(\n",
       "    a: tensor([[ 0.2925,  0.9545, -0.6153],\n",
       "               [-0.1786,  1.7654, -1.2716]]),\n",
       "    x: Batch(\n",
       "           c: tensor([[ 0.7716,  0.7006, -1.4428,  0.9357],\n",
       "                      [-0.4567, -0.1508,  1.0762,  0.4959],\n",
       "                      [-1.8219, -0.5449, -1.3142,  0.1862]]),\n",
       "       ),\n",
       ")"
      ]
     },
     "execution_count": 9,
     "metadata": {},
     "output_type": "execute_result"
    }
   ],
   "source": [
    "b"
   ]
  },
  {
   "cell_type": "code",
   "execution_count": 10,
   "id": "43ef8ea3",
   "metadata": {
    "execution": {
     "iopub.execute_input": "2023-02-26T04:34:03.422999Z",
     "iopub.status.busy": "2023-02-26T04:34:03.422418Z",
     "iopub.status.idle": "2023-02-26T04:34:03.427813Z",
     "shell.execute_reply": "2023-02-26T04:34:03.427233Z"
    }
   },
   "outputs": [
    {
     "data": {
      "text/plain": [
       "tensor([[ 0.2925,  0.9545, -0.6153],\n",
       "        [-0.1786,  1.7654, -1.2716]])"
      ]
     },
     "execution_count": 10,
     "metadata": {},
     "output_type": "execute_result"
    }
   ],
   "source": [
    "b.a"
   ]
  },
  {
   "cell_type": "code",
   "execution_count": 11,
   "id": "b785ab72",
   "metadata": {
    "execution": {
     "iopub.execute_input": "2023-02-26T04:34:03.430268Z",
     "iopub.status.busy": "2023-02-26T04:34:03.429931Z",
     "iopub.status.idle": "2023-02-26T04:34:07.659285Z",
     "shell.execute_reply": "2023-02-26T04:34:07.658563Z"
    }
   },
   "outputs": [
    {
     "name": "stdout",
     "output_type": "stream",
     "text": [
      "51.9 ns ± 0.0426 ns per loop (mean ± std. dev. of 7 runs, 10,000,000 loops each)\n"
     ]
    }
   ],
   "source": [
    "%timeit b.a"
   ]
  },
  {
   "cell_type": "code",
   "execution_count": 12,
   "id": "ad54dc69",
   "metadata": {
    "execution": {
     "iopub.execute_input": "2023-02-26T04:34:07.662545Z",
     "iopub.status.busy": "2023-02-26T04:34:07.662026Z",
     "iopub.status.idle": "2023-02-26T04:34:07.667750Z",
     "shell.execute_reply": "2023-02-26T04:34:07.667116Z"
    }
   },
   "outputs": [
    {
     "data": {
      "text/plain": [
       "Batch(\n",
       "    a: tensor([[ 0.0020, -0.0693, -1.1256],\n",
       "               [-0.6185, -0.7134, -0.6490]]),\n",
       "    x: Batch(\n",
       "           c: tensor([[ 0.7716,  0.7006, -1.4428,  0.9357],\n",
       "                      [-0.4567, -0.1508,  1.0762,  0.4959],\n",
       "                      [-1.8219, -0.5449, -1.3142,  0.1862]]),\n",
       "       ),\n",
       ")"
      ]
     },
     "execution_count": 12,
     "metadata": {},
     "output_type": "execute_result"
    }
   ],
   "source": [
    "new_value = torch.randn(2, 3)\n",
    "b.a = new_value\n",
    "\n",
    "b"
   ]
  },
  {
   "cell_type": "code",
   "execution_count": 13,
   "id": "29b1d0bf",
   "metadata": {
    "execution": {
     "iopub.execute_input": "2023-02-26T04:34:07.670275Z",
     "iopub.status.busy": "2023-02-26T04:34:07.669935Z",
     "iopub.status.idle": "2023-02-26T04:34:11.574499Z",
     "shell.execute_reply": "2023-02-26T04:34:11.573846Z"
    }
   },
   "outputs": [
    {
     "name": "stdout",
     "output_type": "stream",
     "text": [
      "481 ns ± 0.304 ns per loop (mean ± std. dev. of 7 runs, 1,000,000 loops each)\n"
     ]
    }
   ],
   "source": [
    "%timeit b.a = new_value"
   ]
  },
  {
   "cell_type": "markdown",
   "id": "b61ad1d0",
   "metadata": {},
   "source": [
    "## Initialization"
   ]
  },
  {
   "cell_type": "markdown",
   "id": "d70f0d54",
   "metadata": {},
   "source": [
    "### TreeValue's Initialization"
   ]
  },
  {
   "cell_type": "code",
   "execution_count": 14,
   "id": "d32a679b",
   "metadata": {
    "execution": {
     "iopub.execute_input": "2023-02-26T04:34:11.577584Z",
     "iopub.status.busy": "2023-02-26T04:34:11.577016Z",
     "iopub.status.idle": "2023-02-26T04:34:19.392370Z",
     "shell.execute_reply": "2023-02-26T04:34:19.391708Z"
    }
   },
   "outputs": [
    {
     "name": "stdout",
     "output_type": "stream",
     "text": [
      "971 ns ± 12.5 ns per loop (mean ± std. dev. of 7 runs, 1,000,000 loops each)\n"
     ]
    }
   ],
   "source": [
    "%timeit FastTreeValue(_TREE_DATA_1)"
   ]
  },
  {
   "cell_type": "markdown",
   "id": "24f3707b",
   "metadata": {},
   "source": [
    "### Tianshou Batch's Initialization"
   ]
  },
  {
   "cell_type": "code",
   "execution_count": 15,
   "id": "ac3958df",
   "metadata": {
    "execution": {
     "iopub.execute_input": "2023-02-26T04:34:19.395431Z",
     "iopub.status.busy": "2023-02-26T04:34:19.395067Z",
     "iopub.status.idle": "2023-02-26T04:34:28.607636Z",
     "shell.execute_reply": "2023-02-26T04:34:28.606905Z"
    }
   },
   "outputs": [
    {
     "name": "stdout",
     "output_type": "stream",
     "text": [
      "11.3 µs ± 13.3 ns per loop (mean ± std. dev. of 7 runs, 100,000 loops each)\n"
     ]
    }
   ],
   "source": [
    "%timeit Batch(**_TREE_DATA_1)"
   ]
  },
  {
   "cell_type": "markdown",
   "id": "1ab82e2d",
   "metadata": {},
   "source": [
    "## Deep Copy Operation"
   ]
  },
  {
   "cell_type": "code",
   "execution_count": 16,
   "id": "210a9442",
   "metadata": {
    "execution": {
     "iopub.execute_input": "2023-02-26T04:34:28.610712Z",
     "iopub.status.busy": "2023-02-26T04:34:28.610173Z",
     "iopub.status.idle": "2023-02-26T04:34:28.614184Z",
     "shell.execute_reply": "2023-02-26T04:34:28.613578Z"
    }
   },
   "outputs": [],
   "source": [
    "import copy"
   ]
  },
  {
   "cell_type": "markdown",
   "id": "5a736274",
   "metadata": {},
   "source": [
    "### Deep Copy of TreeValue"
   ]
  },
  {
   "cell_type": "code",
   "execution_count": 17,
   "id": "f9bcadd6",
   "metadata": {
    "execution": {
     "iopub.execute_input": "2023-02-26T04:34:28.616660Z",
     "iopub.status.busy": "2023-02-26T04:34:28.616323Z",
     "iopub.status.idle": "2023-02-26T04:34:39.849658Z",
     "shell.execute_reply": "2023-02-26T04:34:39.849083Z"
    }
   },
   "outputs": [
    {
     "name": "stdout",
     "output_type": "stream",
     "text": [
      "138 µs ± 453 ns per loop (mean ± std. dev. of 7 runs, 10,000 loops each)\n"
     ]
    }
   ],
   "source": [
    "t3 = FastTreeValue(_TREE_DATA_3)\n",
    "%timeit copy.deepcopy(t3)"
   ]
  },
  {
   "cell_type": "markdown",
   "id": "bf8be7ea",
   "metadata": {},
   "source": [
    "### Deep Copy of Tianshou Batch"
   ]
  },
  {
   "cell_type": "code",
   "execution_count": 18,
   "id": "91998e6f",
   "metadata": {
    "execution": {
     "iopub.execute_input": "2023-02-26T04:34:39.853085Z",
     "iopub.status.busy": "2023-02-26T04:34:39.852009Z",
     "iopub.status.idle": "2023-02-26T04:34:51.272376Z",
     "shell.execute_reply": "2023-02-26T04:34:51.271787Z"
    }
   },
   "outputs": [
    {
     "name": "stdout",
     "output_type": "stream",
     "text": [
      "141 µs ± 426 ns per loop (mean ± std. dev. of 7 runs, 10,000 loops each)\n"
     ]
    }
   ],
   "source": [
    "b3 = Batch(**_TREE_DATA_3)\n",
    "%timeit copy.deepcopy(b3)"
   ]
  },
  {
   "cell_type": "markdown",
   "id": "223162fb",
   "metadata": {},
   "source": [
    "## Stack, Concat and Split Operation"
   ]
  },
  {
   "cell_type": "markdown",
   "id": "85fa4a73",
   "metadata": {},
   "source": [
    "### Performance of TreeValue"
   ]
  },
  {
   "cell_type": "code",
   "execution_count": 19,
   "id": "a0c2b697",
   "metadata": {
    "execution": {
     "iopub.execute_input": "2023-02-26T04:34:51.276396Z",
     "iopub.status.busy": "2023-02-26T04:34:51.275435Z",
     "iopub.status.idle": "2023-02-26T04:34:51.279784Z",
     "shell.execute_reply": "2023-02-26T04:34:51.279254Z"
    }
   },
   "outputs": [],
   "source": [
    "trees = [FastTreeValue(_TREE_DATA_2) for _ in range(8)]"
   ]
  },
  {
   "cell_type": "code",
   "execution_count": 20,
   "id": "017ea5a5",
   "metadata": {
    "execution": {
     "iopub.execute_input": "2023-02-26T04:34:51.283420Z",
     "iopub.status.busy": "2023-02-26T04:34:51.282477Z",
     "iopub.status.idle": "2023-02-26T04:34:51.291374Z",
     "shell.execute_reply": "2023-02-26T04:34:51.290755Z"
    }
   },
   "outputs": [
    {
     "data": {
      "text/plain": [
       "<FastTreeValue 0x7fa977fd2940>\n",
       "├── 'a' --> tensor([[[ 0.2925,  0.9545, -0.6153],\n",
       "│                    [-0.1786,  1.7654, -1.2716]],\n",
       "│           \n",
       "│                   [[ 0.2925,  0.9545, -0.6153],\n",
       "│                    [-0.1786,  1.7654, -1.2716]],\n",
       "│           \n",
       "│                   [[ 0.2925,  0.9545, -0.6153],\n",
       "│                    [-0.1786,  1.7654, -1.2716]],\n",
       "│           \n",
       "│                   [[ 0.2925,  0.9545, -0.6153],\n",
       "│                    [-0.1786,  1.7654, -1.2716]],\n",
       "│           \n",
       "│                   [[ 0.2925,  0.9545, -0.6153],\n",
       "│                    [-0.1786,  1.7654, -1.2716]],\n",
       "│           \n",
       "│                   [[ 0.2925,  0.9545, -0.6153],\n",
       "│                    [-0.1786,  1.7654, -1.2716]],\n",
       "│           \n",
       "│                   [[ 0.2925,  0.9545, -0.6153],\n",
       "│                    [-0.1786,  1.7654, -1.2716]],\n",
       "│           \n",
       "│                   [[ 0.2925,  0.9545, -0.6153],\n",
       "│                    [-0.1786,  1.7654, -1.2716]]])\n",
       "└── 'x' --> <FastTreeValue 0x7fa977fd2880>\n",
       "    └── 'c' --> tensor([[[ 0.7716,  0.7006, -1.4428,  0.9357],\n",
       "                         [-0.4567, -0.1508,  1.0762,  0.4959],\n",
       "                         [-1.8219, -0.5449, -1.3142,  0.1862]],\n",
       "                \n",
       "                        [[ 0.7716,  0.7006, -1.4428,  0.9357],\n",
       "                         [-0.4567, -0.1508,  1.0762,  0.4959],\n",
       "                         [-1.8219, -0.5449, -1.3142,  0.1862]],\n",
       "                \n",
       "                        [[ 0.7716,  0.7006, -1.4428,  0.9357],\n",
       "                         [-0.4567, -0.1508,  1.0762,  0.4959],\n",
       "                         [-1.8219, -0.5449, -1.3142,  0.1862]],\n",
       "                \n",
       "                        [[ 0.7716,  0.7006, -1.4428,  0.9357],\n",
       "                         [-0.4567, -0.1508,  1.0762,  0.4959],\n",
       "                         [-1.8219, -0.5449, -1.3142,  0.1862]],\n",
       "                \n",
       "                        [[ 0.7716,  0.7006, -1.4428,  0.9357],\n",
       "                         [-0.4567, -0.1508,  1.0762,  0.4959],\n",
       "                         [-1.8219, -0.5449, -1.3142,  0.1862]],\n",
       "                \n",
       "                        [[ 0.7716,  0.7006, -1.4428,  0.9357],\n",
       "                         [-0.4567, -0.1508,  1.0762,  0.4959],\n",
       "                         [-1.8219, -0.5449, -1.3142,  0.1862]],\n",
       "                \n",
       "                        [[ 0.7716,  0.7006, -1.4428,  0.9357],\n",
       "                         [-0.4567, -0.1508,  1.0762,  0.4959],\n",
       "                         [-1.8219, -0.5449, -1.3142,  0.1862]],\n",
       "                \n",
       "                        [[ 0.7716,  0.7006, -1.4428,  0.9357],\n",
       "                         [-0.4567, -0.1508,  1.0762,  0.4959],\n",
       "                         [-1.8219, -0.5449, -1.3142,  0.1862]]])"
      ]
     },
     "execution_count": 20,
     "metadata": {},
     "output_type": "execute_result"
    }
   ],
   "source": [
    "t_stack = FastTreeValue.func(subside=True)(torch.stack)\n",
    "\n",
    "t_stack(trees)"
   ]
  },
  {
   "cell_type": "code",
   "execution_count": 21,
   "id": "f8b3f415",
   "metadata": {
    "execution": {
     "iopub.execute_input": "2023-02-26T04:34:51.294093Z",
     "iopub.status.busy": "2023-02-26T04:34:51.293751Z",
     "iopub.status.idle": "2023-02-26T04:34:53.908758Z",
     "shell.execute_reply": "2023-02-26T04:34:53.908089Z"
    }
   },
   "outputs": [
    {
     "name": "stdout",
     "output_type": "stream",
     "text": [
      "32.1 µs ± 228 ns per loop (mean ± std. dev. of 7 runs, 10,000 loops each)\n"
     ]
    }
   ],
   "source": [
    "%timeit t_stack(trees)"
   ]
  },
  {
   "cell_type": "code",
   "execution_count": 22,
   "id": "94b56771",
   "metadata": {
    "execution": {
     "iopub.execute_input": "2023-02-26T04:34:53.911947Z",
     "iopub.status.busy": "2023-02-26T04:34:53.911493Z",
     "iopub.status.idle": "2023-02-26T04:34:53.920161Z",
     "shell.execute_reply": "2023-02-26T04:34:53.918713Z"
    }
   },
   "outputs": [
    {
     "data": {
      "text/plain": [
       "<FastTreeValue 0x7fa9a0b22d90>\n",
       "├── 'a' --> tensor([[ 0.2925,  0.9545, -0.6153],\n",
       "│                   [-0.1786,  1.7654, -1.2716],\n",
       "│                   [ 0.2925,  0.9545, -0.6153],\n",
       "│                   [-0.1786,  1.7654, -1.2716],\n",
       "│                   [ 0.2925,  0.9545, -0.6153],\n",
       "│                   [-0.1786,  1.7654, -1.2716],\n",
       "│                   [ 0.2925,  0.9545, -0.6153],\n",
       "│                   [-0.1786,  1.7654, -1.2716],\n",
       "│                   [ 0.2925,  0.9545, -0.6153],\n",
       "│                   [-0.1786,  1.7654, -1.2716],\n",
       "│                   [ 0.2925,  0.9545, -0.6153],\n",
       "│                   [-0.1786,  1.7654, -1.2716],\n",
       "│                   [ 0.2925,  0.9545, -0.6153],\n",
       "│                   [-0.1786,  1.7654, -1.2716],\n",
       "│                   [ 0.2925,  0.9545, -0.6153],\n",
       "│                   [-0.1786,  1.7654, -1.2716]])\n",
       "└── 'x' --> <FastTreeValue 0x7fa8f37a8f40>\n",
       "    └── 'c' --> tensor([[ 0.7716,  0.7006, -1.4428,  0.9357],\n",
       "                        [-0.4567, -0.1508,  1.0762,  0.4959],\n",
       "                        [-1.8219, -0.5449, -1.3142,  0.1862],\n",
       "                        [ 0.7716,  0.7006, -1.4428,  0.9357],\n",
       "                        [-0.4567, -0.1508,  1.0762,  0.4959],\n",
       "                        [-1.8219, -0.5449, -1.3142,  0.1862],\n",
       "                        [ 0.7716,  0.7006, -1.4428,  0.9357],\n",
       "                        [-0.4567, -0.1508,  1.0762,  0.4959],\n",
       "                        [-1.8219, -0.5449, -1.3142,  0.1862],\n",
       "                        [ 0.7716,  0.7006, -1.4428,  0.9357],\n",
       "                        [-0.4567, -0.1508,  1.0762,  0.4959],\n",
       "                        [-1.8219, -0.5449, -1.3142,  0.1862],\n",
       "                        [ 0.7716,  0.7006, -1.4428,  0.9357],\n",
       "                        [-0.4567, -0.1508,  1.0762,  0.4959],\n",
       "                        [-1.8219, -0.5449, -1.3142,  0.1862],\n",
       "                        [ 0.7716,  0.7006, -1.4428,  0.9357],\n",
       "                        [-0.4567, -0.1508,  1.0762,  0.4959],\n",
       "                        [-1.8219, -0.5449, -1.3142,  0.1862],\n",
       "                        [ 0.7716,  0.7006, -1.4428,  0.9357],\n",
       "                        [-0.4567, -0.1508,  1.0762,  0.4959],\n",
       "                        [-1.8219, -0.5449, -1.3142,  0.1862],\n",
       "                        [ 0.7716,  0.7006, -1.4428,  0.9357],\n",
       "                        [-0.4567, -0.1508,  1.0762,  0.4959],\n",
       "                        [-1.8219, -0.5449, -1.3142,  0.1862]])"
      ]
     },
     "execution_count": 22,
     "metadata": {},
     "output_type": "execute_result"
    }
   ],
   "source": [
    "t_cat = FastTreeValue.func(subside=True)(torch.cat)\n",
    "\n",
    "t_cat(trees)"
   ]
  },
  {
   "cell_type": "code",
   "execution_count": 23,
   "id": "5e9c06a6",
   "metadata": {
    "execution": {
     "iopub.execute_input": "2023-02-26T04:34:53.922811Z",
     "iopub.status.busy": "2023-02-26T04:34:53.922338Z",
     "iopub.status.idle": "2023-02-26T04:34:56.407465Z",
     "shell.execute_reply": "2023-02-26T04:34:56.406780Z"
    }
   },
   "outputs": [
    {
     "name": "stdout",
     "output_type": "stream",
     "text": [
      "30.5 µs ± 58.8 ns per loop (mean ± std. dev. of 7 runs, 10,000 loops each)\n"
     ]
    }
   ],
   "source": [
    "%timeit t_cat(trees)"
   ]
  },
  {
   "cell_type": "code",
   "execution_count": 24,
   "id": "a3ab5c8f",
   "metadata": {
    "execution": {
     "iopub.execute_input": "2023-02-26T04:34:56.410441Z",
     "iopub.status.busy": "2023-02-26T04:34:56.409903Z",
     "iopub.status.idle": "2023-02-26T04:35:01.225466Z",
     "shell.execute_reply": "2023-02-26T04:35:01.224778Z"
    }
   },
   "outputs": [
    {
     "name": "stdout",
     "output_type": "stream",
     "text": [
      "59.2 µs ± 38.7 ns per loop (mean ± std. dev. of 7 runs, 10,000 loops each)\n"
     ]
    }
   ],
   "source": [
    "t_split = FastTreeValue.func(rise=True)(torch.split)\n",
    "tree = FastTreeValue({\n",
    "    'obs': torch.randn(8, 4, 84, 84),\n",
    "    'action': torch.randint(0, 6, size=(8, 1,)),\n",
    "    'reward': torch.rand(8, 1),\n",
    "})\n",
    "\n",
    "%timeit t_split(tree, 1)"
   ]
  },
  {
   "cell_type": "markdown",
   "id": "31c3ec0b",
   "metadata": {},
   "source": [
    "### Performance of Tianshou Batch"
   ]
  },
  {
   "cell_type": "code",
   "execution_count": 25,
   "id": "9ead828a",
   "metadata": {
    "execution": {
     "iopub.execute_input": "2023-02-26T04:35:01.228636Z",
     "iopub.status.busy": "2023-02-26T04:35:01.228266Z",
     "iopub.status.idle": "2023-02-26T04:35:01.236569Z",
     "shell.execute_reply": "2023-02-26T04:35:01.235948Z"
    }
   },
   "outputs": [
    {
     "data": {
      "text/plain": [
       "Batch(\n",
       "    a: tensor([[[ 0.2925,  0.9545, -0.6153],\n",
       "                [-0.1786,  1.7654, -1.2716]],\n",
       "       \n",
       "               [[ 0.2925,  0.9545, -0.6153],\n",
       "                [-0.1786,  1.7654, -1.2716]],\n",
       "       \n",
       "               [[ 0.2925,  0.9545, -0.6153],\n",
       "                [-0.1786,  1.7654, -1.2716]],\n",
       "       \n",
       "               [[ 0.2925,  0.9545, -0.6153],\n",
       "                [-0.1786,  1.7654, -1.2716]],\n",
       "       \n",
       "               [[ 0.2925,  0.9545, -0.6153],\n",
       "                [-0.1786,  1.7654, -1.2716]],\n",
       "       \n",
       "               [[ 0.2925,  0.9545, -0.6153],\n",
       "                [-0.1786,  1.7654, -1.2716]],\n",
       "       \n",
       "               [[ 0.2925,  0.9545, -0.6153],\n",
       "                [-0.1786,  1.7654, -1.2716]],\n",
       "       \n",
       "               [[ 0.2925,  0.9545, -0.6153],\n",
       "                [-0.1786,  1.7654, -1.2716]]]),\n",
       "    x: Batch(\n",
       "           c: tensor([[[ 0.7716,  0.7006, -1.4428,  0.9357],\n",
       "                       [-0.4567, -0.1508,  1.0762,  0.4959],\n",
       "                       [-1.8219, -0.5449, -1.3142,  0.1862]],\n",
       "              \n",
       "                      [[ 0.7716,  0.7006, -1.4428,  0.9357],\n",
       "                       [-0.4567, -0.1508,  1.0762,  0.4959],\n",
       "                       [-1.8219, -0.5449, -1.3142,  0.1862]],\n",
       "              \n",
       "                      [[ 0.7716,  0.7006, -1.4428,  0.9357],\n",
       "                       [-0.4567, -0.1508,  1.0762,  0.4959],\n",
       "                       [-1.8219, -0.5449, -1.3142,  0.1862]],\n",
       "              \n",
       "                      [[ 0.7716,  0.7006, -1.4428,  0.9357],\n",
       "                       [-0.4567, -0.1508,  1.0762,  0.4959],\n",
       "                       [-1.8219, -0.5449, -1.3142,  0.1862]],\n",
       "              \n",
       "                      [[ 0.7716,  0.7006, -1.4428,  0.9357],\n",
       "                       [-0.4567, -0.1508,  1.0762,  0.4959],\n",
       "                       [-1.8219, -0.5449, -1.3142,  0.1862]],\n",
       "              \n",
       "                      [[ 0.7716,  0.7006, -1.4428,  0.9357],\n",
       "                       [-0.4567, -0.1508,  1.0762,  0.4959],\n",
       "                       [-1.8219, -0.5449, -1.3142,  0.1862]],\n",
       "              \n",
       "                      [[ 0.7716,  0.7006, -1.4428,  0.9357],\n",
       "                       [-0.4567, -0.1508,  1.0762,  0.4959],\n",
       "                       [-1.8219, -0.5449, -1.3142,  0.1862]],\n",
       "              \n",
       "                      [[ 0.7716,  0.7006, -1.4428,  0.9357],\n",
       "                       [-0.4567, -0.1508,  1.0762,  0.4959],\n",
       "                       [-1.8219, -0.5449, -1.3142,  0.1862]]]),\n",
       "       ),\n",
       ")"
      ]
     },
     "execution_count": 25,
     "metadata": {},
     "output_type": "execute_result"
    }
   ],
   "source": [
    "batches = [Batch(**_TREE_DATA_2) for _ in range(8)]\n",
    "\n",
    "Batch.stack(batches)"
   ]
  },
  {
   "cell_type": "code",
   "execution_count": 26,
   "id": "ec9037a3",
   "metadata": {
    "execution": {
     "iopub.execute_input": "2023-02-26T04:35:01.239494Z",
     "iopub.status.busy": "2023-02-26T04:35:01.239138Z",
     "iopub.status.idle": "2023-02-26T04:35:07.599221Z",
     "shell.execute_reply": "2023-02-26T04:35:07.598527Z"
    }
   },
   "outputs": [
    {
     "name": "stdout",
     "output_type": "stream",
     "text": [
      "78.3 µs ± 96.4 ns per loop (mean ± std. dev. of 7 runs, 10,000 loops each)\n"
     ]
    }
   ],
   "source": [
    "%timeit Batch.stack(batches)"
   ]
  },
  {
   "cell_type": "code",
   "execution_count": 27,
   "id": "cb8ab77e",
   "metadata": {
    "execution": {
     "iopub.execute_input": "2023-02-26T04:35:07.603320Z",
     "iopub.status.busy": "2023-02-26T04:35:07.602324Z",
     "iopub.status.idle": "2023-02-26T04:35:07.610806Z",
     "shell.execute_reply": "2023-02-26T04:35:07.610261Z"
    }
   },
   "outputs": [
    {
     "data": {
      "text/plain": [
       "Batch(\n",
       "    a: tensor([[ 0.2925,  0.9545, -0.6153],\n",
       "               [-0.1786,  1.7654, -1.2716],\n",
       "               [ 0.2925,  0.9545, -0.6153],\n",
       "               [-0.1786,  1.7654, -1.2716],\n",
       "               [ 0.2925,  0.9545, -0.6153],\n",
       "               [-0.1786,  1.7654, -1.2716],\n",
       "               [ 0.2925,  0.9545, -0.6153],\n",
       "               [-0.1786,  1.7654, -1.2716],\n",
       "               [ 0.2925,  0.9545, -0.6153],\n",
       "               [-0.1786,  1.7654, -1.2716],\n",
       "               [ 0.2925,  0.9545, -0.6153],\n",
       "               [-0.1786,  1.7654, -1.2716],\n",
       "               [ 0.2925,  0.9545, -0.6153],\n",
       "               [-0.1786,  1.7654, -1.2716],\n",
       "               [ 0.2925,  0.9545, -0.6153],\n",
       "               [-0.1786,  1.7654, -1.2716]]),\n",
       "    x: Batch(\n",
       "           c: tensor([[ 0.7716,  0.7006, -1.4428,  0.9357],\n",
       "                      [-0.4567, -0.1508,  1.0762,  0.4959],\n",
       "                      [-1.8219, -0.5449, -1.3142,  0.1862],\n",
       "                      [ 0.7716,  0.7006, -1.4428,  0.9357],\n",
       "                      [-0.4567, -0.1508,  1.0762,  0.4959],\n",
       "                      [-1.8219, -0.5449, -1.3142,  0.1862],\n",
       "                      [ 0.7716,  0.7006, -1.4428,  0.9357],\n",
       "                      [-0.4567, -0.1508,  1.0762,  0.4959],\n",
       "                      [-1.8219, -0.5449, -1.3142,  0.1862],\n",
       "                      [ 0.7716,  0.7006, -1.4428,  0.9357],\n",
       "                      [-0.4567, -0.1508,  1.0762,  0.4959],\n",
       "                      [-1.8219, -0.5449, -1.3142,  0.1862],\n",
       "                      [ 0.7716,  0.7006, -1.4428,  0.9357],\n",
       "                      [-0.4567, -0.1508,  1.0762,  0.4959],\n",
       "                      [-1.8219, -0.5449, -1.3142,  0.1862],\n",
       "                      [ 0.7716,  0.7006, -1.4428,  0.9357],\n",
       "                      [-0.4567, -0.1508,  1.0762,  0.4959],\n",
       "                      [-1.8219, -0.5449, -1.3142,  0.1862],\n",
       "                      [ 0.7716,  0.7006, -1.4428,  0.9357],\n",
       "                      [-0.4567, -0.1508,  1.0762,  0.4959],\n",
       "                      [-1.8219, -0.5449, -1.3142,  0.1862],\n",
       "                      [ 0.7716,  0.7006, -1.4428,  0.9357],\n",
       "                      [-0.4567, -0.1508,  1.0762,  0.4959],\n",
       "                      [-1.8219, -0.5449, -1.3142,  0.1862]]),\n",
       "       ),\n",
       ")"
      ]
     },
     "execution_count": 27,
     "metadata": {},
     "output_type": "execute_result"
    }
   ],
   "source": [
    "Batch.cat(batches)"
   ]
  },
  {
   "cell_type": "code",
   "execution_count": 28,
   "id": "18dfb045",
   "metadata": {
    "execution": {
     "iopub.execute_input": "2023-02-26T04:35:07.614556Z",
     "iopub.status.busy": "2023-02-26T04:35:07.613604Z",
     "iopub.status.idle": "2023-02-26T04:35:19.069532Z",
     "shell.execute_reply": "2023-02-26T04:35:19.068868Z"
    }
   },
   "outputs": [
    {
     "name": "stdout",
     "output_type": "stream",
     "text": [
      "141 µs ± 224 ns per loop (mean ± std. dev. of 7 runs, 10,000 loops each)\n"
     ]
    }
   ],
   "source": [
    "%timeit Batch.cat(batches)"
   ]
  },
  {
   "cell_type": "code",
   "execution_count": 29,
   "id": "c6688e51",
   "metadata": {
    "execution": {
     "iopub.execute_input": "2023-02-26T04:35:19.072630Z",
     "iopub.status.busy": "2023-02-26T04:35:19.072276Z",
     "iopub.status.idle": "2023-02-26T04:35:21.568390Z",
     "shell.execute_reply": "2023-02-26T04:35:21.567825Z"
    }
   },
   "outputs": [
    {
     "name": "stdout",
     "output_type": "stream",
     "text": [
      "306 µs ± 403 ns per loop (mean ± std. dev. of 7 runs, 1,000 loops each)\n"
     ]
    }
   ],
   "source": [
    "batch = Batch({\n",
    "    'obs': torch.randn(8, 4, 84, 84),\n",
    "    'action': torch.randint(0, 6, size=(8, 1,)),\n",
    "    'reward': torch.rand(8, 1)}\n",
    ")\n",
    "\n",
    "%timeit list(Batch.split(batch, 1, shuffle=False, merge_last=True))"
   ]
  },
  {
   "cell_type": "code",
   "execution_count": null,
   "id": "2539fbd9",
   "metadata": {},
   "outputs": [],
   "source": []
  }
 ],
 "metadata": {
  "kernelspec": {
   "display_name": "Python 3 (ipykernel)",
   "language": "python",
   "name": "python3"
  },
  "language_info": {
   "codemirror_mode": {
    "name": "ipython",
    "version": 3
   },
   "file_extension": ".py",
   "mimetype": "text/x-python",
   "name": "python",
   "nbconvert_exporter": "python",
   "pygments_lexer": "ipython3",
   "version": "3.8.16"
  }
 },
 "nbformat": 4,
 "nbformat_minor": 5
}
