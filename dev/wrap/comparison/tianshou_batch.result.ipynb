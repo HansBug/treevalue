{
 "cells": [
  {
   "cell_type": "markdown",
   "id": "9d39d946",
   "metadata": {},
   "source": [
    "# Comparison Between TreeValue and Tianshou Batch"
   ]
  },
  {
   "cell_type": "markdown",
   "id": "3c6db2d4",
   "metadata": {},
   "source": [
    "In this section, we will take a look at the feature and performance of the [Tianshou Batch](https://github.com/thu-ml/tianshou) library, which is developed by Tsinghua Machine Learning Group."
   ]
  },
  {
   "cell_type": "markdown",
   "id": "069361b0",
   "metadata": {},
   "source": [
    "Before starting the comparison, let us define some thing."
   ]
  },
  {
   "cell_type": "code",
   "execution_count": 1,
   "id": "06fc8d26",
   "metadata": {
    "execution": {
     "iopub.execute_input": "2023-02-26T14:44:25.082736Z",
     "iopub.status.busy": "2023-02-26T14:44:25.082231Z",
     "iopub.status.idle": "2023-02-26T14:44:26.279522Z",
     "shell.execute_reply": "2023-02-26T14:44:26.278361Z"
    }
   },
   "outputs": [
    {
     "name": "stderr",
     "output_type": "stream",
     "text": [
      "/opt/hostedtoolcache/Python/3.8.16/x64/lib/python3.8/site-packages/tqdm/auto.py:22: TqdmWarning: IProgress not found. Please update jupyter and ipywidgets. See https://ipywidgets.readthedocs.io/en/stable/user_install.html\n",
      "  from .autonotebook import tqdm as notebook_tqdm\n"
     ]
    }
   ],
   "source": [
    "import torch \n",
    "\n",
    "_TREE_DATA_1 = {'a': 1, 'b': 2, 'x': {'c': 3, 'd': 4}}\n",
    "_TREE_DATA_2 = {\n",
    "    'a': torch.randn(2, 3), \n",
    "    'x': {\n",
    "        'c': torch.randn(3, 4)\n",
    "    },\n",
    "}\n",
    "_TREE_DATA_3 = {\n",
    "    'obs': torch.randn(4, 84, 84),\n",
    "    'action': torch.randint(0, 6, size=(1,)),\n",
    "    'reward': torch.rand(1),\n",
    "}"
   ]
  },
  {
   "cell_type": "markdown",
   "id": "83461b25",
   "metadata": {},
   "source": [
    "## Read and Write Operation"
   ]
  },
  {
   "cell_type": "markdown",
   "id": "067b3f73",
   "metadata": {},
   "source": [
    "Reading and writing are the two most common operations in the tree data structure based on the data model (TreeValue and Tianshou Batch both belong to this type), so this section will compare the reading and writing performance of these two libraries."
   ]
  },
  {
   "cell_type": "markdown",
   "id": "5d09a5b7",
   "metadata": {},
   "source": [
    "### TreeValue's Get and Set"
   ]
  },
  {
   "cell_type": "code",
   "execution_count": 2,
   "id": "9519c4bb",
   "metadata": {
    "execution": {
     "iopub.execute_input": "2023-02-26T14:44:26.284408Z",
     "iopub.status.busy": "2023-02-26T14:44:26.283536Z",
     "iopub.status.idle": "2023-02-26T14:44:26.331768Z",
     "shell.execute_reply": "2023-02-26T14:44:26.330362Z"
    }
   },
   "outputs": [],
   "source": [
    "from treevalue import FastTreeValue\n",
    "\n",
    "t = FastTreeValue(_TREE_DATA_2)"
   ]
  },
  {
   "cell_type": "code",
   "execution_count": 3,
   "id": "11c37677",
   "metadata": {
    "execution": {
     "iopub.execute_input": "2023-02-26T14:44:26.335890Z",
     "iopub.status.busy": "2023-02-26T14:44:26.335567Z",
     "iopub.status.idle": "2023-02-26T14:44:26.348697Z",
     "shell.execute_reply": "2023-02-26T14:44:26.347674Z"
    }
   },
   "outputs": [
    {
     "data": {
      "text/plain": [
       "<FastTreeValue 0x7f436c299400>\n",
       "├── 'a' --> tensor([[-0.3192,  0.5320, -1.2184],\n",
       "│                   [ 0.8464,  0.5500, -0.6892]])\n",
       "└── 'x' --> <FastTreeValue 0x7f436c2997f0>\n",
       "    └── 'c' --> tensor([[-0.5780,  0.3479, -0.8074,  2.2673],\n",
       "                        [ 0.2615, -0.8109, -0.5532, -0.3995],\n",
       "                        [ 0.4903,  0.7902, -0.7654, -0.8773]])"
      ]
     },
     "execution_count": 3,
     "metadata": {},
     "output_type": "execute_result"
    }
   ],
   "source": [
    "t"
   ]
  },
  {
   "cell_type": "code",
   "execution_count": 4,
   "id": "fd70b0b9",
   "metadata": {
    "execution": {
     "iopub.execute_input": "2023-02-26T14:44:26.352285Z",
     "iopub.status.busy": "2023-02-26T14:44:26.351684Z",
     "iopub.status.idle": "2023-02-26T14:44:26.358195Z",
     "shell.execute_reply": "2023-02-26T14:44:26.357144Z"
    }
   },
   "outputs": [
    {
     "data": {
      "text/plain": [
       "tensor([[-0.3192,  0.5320, -1.2184],\n",
       "        [ 0.8464,  0.5500, -0.6892]])"
      ]
     },
     "execution_count": 4,
     "metadata": {},
     "output_type": "execute_result"
    }
   ],
   "source": [
    "t.a"
   ]
  },
  {
   "cell_type": "code",
   "execution_count": 5,
   "id": "c18197bd",
   "metadata": {
    "execution": {
     "iopub.execute_input": "2023-02-26T14:44:26.361908Z",
     "iopub.status.busy": "2023-02-26T14:44:26.361385Z",
     "iopub.status.idle": "2023-02-26T14:44:32.258760Z",
     "shell.execute_reply": "2023-02-26T14:44:32.257387Z"
    }
   },
   "outputs": [
    {
     "name": "stdout",
     "output_type": "stream",
     "text": [
      "72.5 ns ± 1.34 ns per loop (mean ± std. dev. of 7 runs, 10,000,000 loops each)\n"
     ]
    }
   ],
   "source": [
    "%timeit t.a"
   ]
  },
  {
   "cell_type": "code",
   "execution_count": 6,
   "id": "bd52f867",
   "metadata": {
    "execution": {
     "iopub.execute_input": "2023-02-26T14:44:32.262567Z",
     "iopub.status.busy": "2023-02-26T14:44:32.262014Z",
     "iopub.status.idle": "2023-02-26T14:44:32.271732Z",
     "shell.execute_reply": "2023-02-26T14:44:32.270729Z"
    }
   },
   "outputs": [
    {
     "data": {
      "text/plain": [
       "<FastTreeValue 0x7f436c299400>\n",
       "├── 'a' --> tensor([[ 0.6366, -0.6571,  0.7629],\n",
       "│                   [ 0.8711,  0.5802, -1.5024]])\n",
       "└── 'x' --> <FastTreeValue 0x7f436c2997f0>\n",
       "    └── 'c' --> tensor([[-0.5780,  0.3479, -0.8074,  2.2673],\n",
       "                        [ 0.2615, -0.8109, -0.5532, -0.3995],\n",
       "                        [ 0.4903,  0.7902, -0.7654, -0.8773]])"
      ]
     },
     "execution_count": 6,
     "metadata": {},
     "output_type": "execute_result"
    }
   ],
   "source": [
    "new_value = torch.randn(2, 3)\n",
    "t.a = new_value\n",
    "\n",
    "t"
   ]
  },
  {
   "cell_type": "code",
   "execution_count": 7,
   "id": "bbe04d1c",
   "metadata": {
    "execution": {
     "iopub.execute_input": "2023-02-26T14:44:32.275367Z",
     "iopub.status.busy": "2023-02-26T14:44:32.274812Z",
     "iopub.status.idle": "2023-02-26T14:44:38.926865Z",
     "shell.execute_reply": "2023-02-26T14:44:38.925838Z"
    }
   },
   "outputs": [
    {
     "name": "stdout",
     "output_type": "stream",
     "text": [
      "81.8 ns ± 1.57 ns per loop (mean ± std. dev. of 7 runs, 10,000,000 loops each)\n"
     ]
    }
   ],
   "source": [
    "%timeit t.a = new_value"
   ]
  },
  {
   "cell_type": "markdown",
   "id": "48c49731",
   "metadata": {},
   "source": [
    "### Tianshou Batch's Get and Set"
   ]
  },
  {
   "cell_type": "code",
   "execution_count": 8,
   "id": "f1bb14c1",
   "metadata": {
    "execution": {
     "iopub.execute_input": "2023-02-26T14:44:38.930553Z",
     "iopub.status.busy": "2023-02-26T14:44:38.930104Z",
     "iopub.status.idle": "2023-02-26T14:44:39.415240Z",
     "shell.execute_reply": "2023-02-26T14:44:39.413778Z"
    }
   },
   "outputs": [],
   "source": [
    "from tianshou.data import Batch\n",
    "\n",
    "b = Batch(**_TREE_DATA_2)"
   ]
  },
  {
   "cell_type": "code",
   "execution_count": 9,
   "id": "cb0777c3",
   "metadata": {
    "execution": {
     "iopub.execute_input": "2023-02-26T14:44:39.419735Z",
     "iopub.status.busy": "2023-02-26T14:44:39.419260Z",
     "iopub.status.idle": "2023-02-26T14:44:39.426634Z",
     "shell.execute_reply": "2023-02-26T14:44:39.425738Z"
    }
   },
   "outputs": [
    {
     "data": {
      "text/plain": [
       "Batch(\n",
       "    a: tensor([[-0.3192,  0.5320, -1.2184],\n",
       "               [ 0.8464,  0.5500, -0.6892]]),\n",
       "    x: Batch(\n",
       "           c: tensor([[-0.5780,  0.3479, -0.8074,  2.2673],\n",
       "                      [ 0.2615, -0.8109, -0.5532, -0.3995],\n",
       "                      [ 0.4903,  0.7902, -0.7654, -0.8773]]),\n",
       "       ),\n",
       ")"
      ]
     },
     "execution_count": 9,
     "metadata": {},
     "output_type": "execute_result"
    }
   ],
   "source": [
    "b"
   ]
  },
  {
   "cell_type": "code",
   "execution_count": 10,
   "id": "43ef8ea3",
   "metadata": {
    "execution": {
     "iopub.execute_input": "2023-02-26T14:44:39.429915Z",
     "iopub.status.busy": "2023-02-26T14:44:39.429601Z",
     "iopub.status.idle": "2023-02-26T14:44:39.436254Z",
     "shell.execute_reply": "2023-02-26T14:44:39.435263Z"
    }
   },
   "outputs": [
    {
     "data": {
      "text/plain": [
       "tensor([[-0.3192,  0.5320, -1.2184],\n",
       "        [ 0.8464,  0.5500, -0.6892]])"
      ]
     },
     "execution_count": 10,
     "metadata": {},
     "output_type": "execute_result"
    }
   ],
   "source": [
    "b.a"
   ]
  },
  {
   "cell_type": "code",
   "execution_count": 11,
   "id": "b785ab72",
   "metadata": {
    "execution": {
     "iopub.execute_input": "2023-02-26T14:44:39.439451Z",
     "iopub.status.busy": "2023-02-26T14:44:39.439136Z",
     "iopub.status.idle": "2023-02-26T14:44:44.762965Z",
     "shell.execute_reply": "2023-02-26T14:44:44.761902Z"
    }
   },
   "outputs": [
    {
     "name": "stdout",
     "output_type": "stream",
     "text": [
      "65.3 ns ± 1.17 ns per loop (mean ± std. dev. of 7 runs, 10,000,000 loops each)\n"
     ]
    }
   ],
   "source": [
    "%timeit b.a"
   ]
  },
  {
   "cell_type": "code",
   "execution_count": 12,
   "id": "ad54dc69",
   "metadata": {
    "execution": {
     "iopub.execute_input": "2023-02-26T14:44:44.770186Z",
     "iopub.status.busy": "2023-02-26T14:44:44.769861Z",
     "iopub.status.idle": "2023-02-26T14:44:44.779046Z",
     "shell.execute_reply": "2023-02-26T14:44:44.778007Z"
    }
   },
   "outputs": [
    {
     "data": {
      "text/plain": [
       "Batch(\n",
       "    a: tensor([[ 0.0711,  2.1855,  1.5258],\n",
       "               [ 1.0777,  0.4105, -0.8797]]),\n",
       "    x: Batch(\n",
       "           c: tensor([[-0.5780,  0.3479, -0.8074,  2.2673],\n",
       "                      [ 0.2615, -0.8109, -0.5532, -0.3995],\n",
       "                      [ 0.4903,  0.7902, -0.7654, -0.8773]]),\n",
       "       ),\n",
       ")"
      ]
     },
     "execution_count": 12,
     "metadata": {},
     "output_type": "execute_result"
    }
   ],
   "source": [
    "new_value = torch.randn(2, 3)\n",
    "b.a = new_value\n",
    "\n",
    "b"
   ]
  },
  {
   "cell_type": "code",
   "execution_count": 13,
   "id": "29b1d0bf",
   "metadata": {
    "execution": {
     "iopub.execute_input": "2023-02-26T14:44:44.782341Z",
     "iopub.status.busy": "2023-02-26T14:44:44.782037Z",
     "iopub.status.idle": "2023-02-26T14:44:49.992700Z",
     "shell.execute_reply": "2023-02-26T14:44:49.991534Z"
    }
   },
   "outputs": [
    {
     "name": "stdout",
     "output_type": "stream",
     "text": [
      "640 ns ± 6.21 ns per loop (mean ± std. dev. of 7 runs, 1,000,000 loops each)\n"
     ]
    }
   ],
   "source": [
    "%timeit b.a = new_value"
   ]
  },
  {
   "cell_type": "markdown",
   "id": "b61ad1d0",
   "metadata": {},
   "source": [
    "## Initialization"
   ]
  },
  {
   "cell_type": "markdown",
   "id": "d70f0d54",
   "metadata": {},
   "source": [
    "### TreeValue's Initialization"
   ]
  },
  {
   "cell_type": "code",
   "execution_count": 14,
   "id": "d32a679b",
   "metadata": {
    "execution": {
     "iopub.execute_input": "2023-02-26T14:44:49.996972Z",
     "iopub.status.busy": "2023-02-26T14:44:49.996460Z",
     "iopub.status.idle": "2023-02-26T14:44:58.563664Z",
     "shell.execute_reply": "2023-02-26T14:44:58.562618Z"
    }
   },
   "outputs": [
    {
     "name": "stdout",
     "output_type": "stream",
     "text": [
      "1.05 µs ± 8.34 ns per loop (mean ± std. dev. of 7 runs, 1,000,000 loops each)\n"
     ]
    }
   ],
   "source": [
    "%timeit FastTreeValue(_TREE_DATA_1)"
   ]
  },
  {
   "cell_type": "markdown",
   "id": "24f3707b",
   "metadata": {},
   "source": [
    "### Tianshou Batch's Initialization"
   ]
  },
  {
   "cell_type": "code",
   "execution_count": 15,
   "id": "ac3958df",
   "metadata": {
    "execution": {
     "iopub.execute_input": "2023-02-26T14:44:58.567633Z",
     "iopub.status.busy": "2023-02-26T14:44:58.567092Z",
     "iopub.status.idle": "2023-02-26T14:45:09.840278Z",
     "shell.execute_reply": "2023-02-26T14:45:09.839234Z"
    }
   },
   "outputs": [
    {
     "name": "stdout",
     "output_type": "stream",
     "text": [
      "13.9 µs ± 95.7 ns per loop (mean ± std. dev. of 7 runs, 100,000 loops each)\n"
     ]
    }
   ],
   "source": [
    "%timeit Batch(**_TREE_DATA_1)"
   ]
  },
  {
   "cell_type": "markdown",
   "id": "1ab82e2d",
   "metadata": {},
   "source": [
    "## Deep Copy Operation"
   ]
  },
  {
   "cell_type": "code",
   "execution_count": 16,
   "id": "210a9442",
   "metadata": {
    "execution": {
     "iopub.execute_input": "2023-02-26T14:45:09.844660Z",
     "iopub.status.busy": "2023-02-26T14:45:09.844167Z",
     "iopub.status.idle": "2023-02-26T14:45:09.849805Z",
     "shell.execute_reply": "2023-02-26T14:45:09.848587Z"
    }
   },
   "outputs": [],
   "source": [
    "import copy"
   ]
  },
  {
   "cell_type": "markdown",
   "id": "5a736274",
   "metadata": {},
   "source": [
    "### Deep Copy of TreeValue"
   ]
  },
  {
   "cell_type": "code",
   "execution_count": 17,
   "id": "f9bcadd6",
   "metadata": {
    "execution": {
     "iopub.execute_input": "2023-02-26T14:45:09.853480Z",
     "iopub.status.busy": "2023-02-26T14:45:09.853177Z",
     "iopub.status.idle": "2023-02-26T14:45:12.216105Z",
     "shell.execute_reply": "2023-02-26T14:45:12.215111Z"
    }
   },
   "outputs": [
    {
     "name": "stdout",
     "output_type": "stream",
     "text": [
      "289 µs ± 7.27 µs per loop (mean ± std. dev. of 7 runs, 1,000 loops each)\n"
     ]
    }
   ],
   "source": [
    "t3 = FastTreeValue(_TREE_DATA_3)\n",
    "%timeit copy.deepcopy(t3)"
   ]
  },
  {
   "cell_type": "markdown",
   "id": "bf8be7ea",
   "metadata": {},
   "source": [
    "### Deep Copy of Tianshou Batch"
   ]
  },
  {
   "cell_type": "code",
   "execution_count": 18,
   "id": "91998e6f",
   "metadata": {
    "execution": {
     "iopub.execute_input": "2023-02-26T14:45:12.220480Z",
     "iopub.status.busy": "2023-02-26T14:45:12.219935Z",
     "iopub.status.idle": "2023-02-26T14:45:14.634486Z",
     "shell.execute_reply": "2023-02-26T14:45:14.633583Z"
    }
   },
   "outputs": [
    {
     "name": "stdout",
     "output_type": "stream",
     "text": [
      "297 µs ± 16.8 µs per loop (mean ± std. dev. of 7 runs, 1,000 loops each)\n"
     ]
    }
   ],
   "source": [
    "b3 = Batch(**_TREE_DATA_3)\n",
    "%timeit copy.deepcopy(b3)"
   ]
  },
  {
   "cell_type": "markdown",
   "id": "223162fb",
   "metadata": {},
   "source": [
    "## Stack, Concat and Split Operation"
   ]
  },
  {
   "cell_type": "markdown",
   "id": "85fa4a73",
   "metadata": {},
   "source": [
    "### Performance of TreeValue"
   ]
  },
  {
   "cell_type": "code",
   "execution_count": 19,
   "id": "a0c2b697",
   "metadata": {
    "execution": {
     "iopub.execute_input": "2023-02-26T14:45:14.638207Z",
     "iopub.status.busy": "2023-02-26T14:45:14.637722Z",
     "iopub.status.idle": "2023-02-26T14:45:14.642298Z",
     "shell.execute_reply": "2023-02-26T14:45:14.641346Z"
    }
   },
   "outputs": [],
   "source": [
    "trees = [FastTreeValue(_TREE_DATA_2) for _ in range(8)]"
   ]
  },
  {
   "cell_type": "code",
   "execution_count": 20,
   "id": "017ea5a5",
   "metadata": {
    "execution": {
     "iopub.execute_input": "2023-02-26T14:45:14.646847Z",
     "iopub.status.busy": "2023-02-26T14:45:14.646302Z",
     "iopub.status.idle": "2023-02-26T14:45:14.656016Z",
     "shell.execute_reply": "2023-02-26T14:45:14.654853Z"
    }
   },
   "outputs": [
    {
     "data": {
      "text/plain": [
       "<FastTreeValue 0x7f42bff50eb0>\n",
       "├── 'a' --> tensor([[[-0.3192,  0.5320, -1.2184],\n",
       "│                    [ 0.8464,  0.5500, -0.6892]],\n",
       "│           \n",
       "│                   [[-0.3192,  0.5320, -1.2184],\n",
       "│                    [ 0.8464,  0.5500, -0.6892]],\n",
       "│           \n",
       "│                   [[-0.3192,  0.5320, -1.2184],\n",
       "│                    [ 0.8464,  0.5500, -0.6892]],\n",
       "│           \n",
       "│                   [[-0.3192,  0.5320, -1.2184],\n",
       "│                    [ 0.8464,  0.5500, -0.6892]],\n",
       "│           \n",
       "│                   [[-0.3192,  0.5320, -1.2184],\n",
       "│                    [ 0.8464,  0.5500, -0.6892]],\n",
       "│           \n",
       "│                   [[-0.3192,  0.5320, -1.2184],\n",
       "│                    [ 0.8464,  0.5500, -0.6892]],\n",
       "│           \n",
       "│                   [[-0.3192,  0.5320, -1.2184],\n",
       "│                    [ 0.8464,  0.5500, -0.6892]],\n",
       "│           \n",
       "│                   [[-0.3192,  0.5320, -1.2184],\n",
       "│                    [ 0.8464,  0.5500, -0.6892]]])\n",
       "└── 'x' --> <FastTreeValue 0x7f436c299b50>\n",
       "    └── 'c' --> tensor([[[-0.5780,  0.3479, -0.8074,  2.2673],\n",
       "                         [ 0.2615, -0.8109, -0.5532, -0.3995],\n",
       "                         [ 0.4903,  0.7902, -0.7654, -0.8773]],\n",
       "                \n",
       "                        [[-0.5780,  0.3479, -0.8074,  2.2673],\n",
       "                         [ 0.2615, -0.8109, -0.5532, -0.3995],\n",
       "                         [ 0.4903,  0.7902, -0.7654, -0.8773]],\n",
       "                \n",
       "                        [[-0.5780,  0.3479, -0.8074,  2.2673],\n",
       "                         [ 0.2615, -0.8109, -0.5532, -0.3995],\n",
       "                         [ 0.4903,  0.7902, -0.7654, -0.8773]],\n",
       "                \n",
       "                        [[-0.5780,  0.3479, -0.8074,  2.2673],\n",
       "                         [ 0.2615, -0.8109, -0.5532, -0.3995],\n",
       "                         [ 0.4903,  0.7902, -0.7654, -0.8773]],\n",
       "                \n",
       "                        [[-0.5780,  0.3479, -0.8074,  2.2673],\n",
       "                         [ 0.2615, -0.8109, -0.5532, -0.3995],\n",
       "                         [ 0.4903,  0.7902, -0.7654, -0.8773]],\n",
       "                \n",
       "                        [[-0.5780,  0.3479, -0.8074,  2.2673],\n",
       "                         [ 0.2615, -0.8109, -0.5532, -0.3995],\n",
       "                         [ 0.4903,  0.7902, -0.7654, -0.8773]],\n",
       "                \n",
       "                        [[-0.5780,  0.3479, -0.8074,  2.2673],\n",
       "                         [ 0.2615, -0.8109, -0.5532, -0.3995],\n",
       "                         [ 0.4903,  0.7902, -0.7654, -0.8773]],\n",
       "                \n",
       "                        [[-0.5780,  0.3479, -0.8074,  2.2673],\n",
       "                         [ 0.2615, -0.8109, -0.5532, -0.3995],\n",
       "                         [ 0.4903,  0.7902, -0.7654, -0.8773]]])"
      ]
     },
     "execution_count": 20,
     "metadata": {},
     "output_type": "execute_result"
    }
   ],
   "source": [
    "t_stack = FastTreeValue.func(subside=True)(torch.stack)\n",
    "\n",
    "t_stack(trees)"
   ]
  },
  {
   "cell_type": "code",
   "execution_count": 21,
   "id": "f8b3f415",
   "metadata": {
    "execution": {
     "iopub.execute_input": "2023-02-26T14:45:14.659636Z",
     "iopub.status.busy": "2023-02-26T14:45:14.659071Z",
     "iopub.status.idle": "2023-02-26T14:45:18.528879Z",
     "shell.execute_reply": "2023-02-26T14:45:18.527642Z"
    }
   },
   "outputs": [
    {
     "name": "stdout",
     "output_type": "stream",
     "text": [
      "47.7 µs ± 460 ns per loop (mean ± std. dev. of 7 runs, 10,000 loops each)\n"
     ]
    }
   ],
   "source": [
    "%timeit t_stack(trees)"
   ]
  },
  {
   "cell_type": "code",
   "execution_count": 22,
   "id": "94b56771",
   "metadata": {
    "execution": {
     "iopub.execute_input": "2023-02-26T14:45:18.532948Z",
     "iopub.status.busy": "2023-02-26T14:45:18.532459Z",
     "iopub.status.idle": "2023-02-26T14:45:18.544584Z",
     "shell.execute_reply": "2023-02-26T14:45:18.543656Z"
    }
   },
   "outputs": [
    {
     "data": {
      "text/plain": [
       "<FastTreeValue 0x7f42bffba400>\n",
       "├── 'a' --> tensor([[-0.3192,  0.5320, -1.2184],\n",
       "│                   [ 0.8464,  0.5500, -0.6892],\n",
       "│                   [-0.3192,  0.5320, -1.2184],\n",
       "│                   [ 0.8464,  0.5500, -0.6892],\n",
       "│                   [-0.3192,  0.5320, -1.2184],\n",
       "│                   [ 0.8464,  0.5500, -0.6892],\n",
       "│                   [-0.3192,  0.5320, -1.2184],\n",
       "│                   [ 0.8464,  0.5500, -0.6892],\n",
       "│                   [-0.3192,  0.5320, -1.2184],\n",
       "│                   [ 0.8464,  0.5500, -0.6892],\n",
       "│                   [-0.3192,  0.5320, -1.2184],\n",
       "│                   [ 0.8464,  0.5500, -0.6892],\n",
       "│                   [-0.3192,  0.5320, -1.2184],\n",
       "│                   [ 0.8464,  0.5500, -0.6892],\n",
       "│                   [-0.3192,  0.5320, -1.2184],\n",
       "│                   [ 0.8464,  0.5500, -0.6892]])\n",
       "└── 'x' --> <FastTreeValue 0x7f42c6b88850>\n",
       "    └── 'c' --> tensor([[-0.5780,  0.3479, -0.8074,  2.2673],\n",
       "                        [ 0.2615, -0.8109, -0.5532, -0.3995],\n",
       "                        [ 0.4903,  0.7902, -0.7654, -0.8773],\n",
       "                        [-0.5780,  0.3479, -0.8074,  2.2673],\n",
       "                        [ 0.2615, -0.8109, -0.5532, -0.3995],\n",
       "                        [ 0.4903,  0.7902, -0.7654, -0.8773],\n",
       "                        [-0.5780,  0.3479, -0.8074,  2.2673],\n",
       "                        [ 0.2615, -0.8109, -0.5532, -0.3995],\n",
       "                        [ 0.4903,  0.7902, -0.7654, -0.8773],\n",
       "                        [-0.5780,  0.3479, -0.8074,  2.2673],\n",
       "                        [ 0.2615, -0.8109, -0.5532, -0.3995],\n",
       "                        [ 0.4903,  0.7902, -0.7654, -0.8773],\n",
       "                        [-0.5780,  0.3479, -0.8074,  2.2673],\n",
       "                        [ 0.2615, -0.8109, -0.5532, -0.3995],\n",
       "                        [ 0.4903,  0.7902, -0.7654, -0.8773],\n",
       "                        [-0.5780,  0.3479, -0.8074,  2.2673],\n",
       "                        [ 0.2615, -0.8109, -0.5532, -0.3995],\n",
       "                        [ 0.4903,  0.7902, -0.7654, -0.8773],\n",
       "                        [-0.5780,  0.3479, -0.8074,  2.2673],\n",
       "                        [ 0.2615, -0.8109, -0.5532, -0.3995],\n",
       "                        [ 0.4903,  0.7902, -0.7654, -0.8773],\n",
       "                        [-0.5780,  0.3479, -0.8074,  2.2673],\n",
       "                        [ 0.2615, -0.8109, -0.5532, -0.3995],\n",
       "                        [ 0.4903,  0.7902, -0.7654, -0.8773]])"
      ]
     },
     "execution_count": 22,
     "metadata": {},
     "output_type": "execute_result"
    }
   ],
   "source": [
    "t_cat = FastTreeValue.func(subside=True)(torch.cat)\n",
    "\n",
    "t_cat(trees)"
   ]
  },
  {
   "cell_type": "code",
   "execution_count": 23,
   "id": "5e9c06a6",
   "metadata": {
    "execution": {
     "iopub.execute_input": "2023-02-26T14:45:18.548660Z",
     "iopub.status.busy": "2023-02-26T14:45:18.548109Z",
     "iopub.status.idle": "2023-02-26T14:45:22.138860Z",
     "shell.execute_reply": "2023-02-26T14:45:22.137475Z"
    }
   },
   "outputs": [
    {
     "name": "stdout",
     "output_type": "stream",
     "text": [
      "44.1 µs ± 618 ns per loop (mean ± std. dev. of 7 runs, 10,000 loops each)\n"
     ]
    }
   ],
   "source": [
    "%timeit t_cat(trees)"
   ]
  },
  {
   "cell_type": "code",
   "execution_count": 24,
   "id": "a3ab5c8f",
   "metadata": {
    "execution": {
     "iopub.execute_input": "2023-02-26T14:45:22.142443Z",
     "iopub.status.busy": "2023-02-26T14:45:22.141967Z",
     "iopub.status.idle": "2023-02-26T14:45:28.865538Z",
     "shell.execute_reply": "2023-02-26T14:45:28.864380Z"
    }
   },
   "outputs": [
    {
     "name": "stdout",
     "output_type": "stream",
     "text": [
      "82.5 µs ± 876 ns per loop (mean ± std. dev. of 7 runs, 10,000 loops each)\n"
     ]
    }
   ],
   "source": [
    "t_split = FastTreeValue.func(rise=True)(torch.split)\n",
    "tree = FastTreeValue({\n",
    "    'obs': torch.randn(8, 4, 84, 84),\n",
    "    'action': torch.randint(0, 6, size=(8, 1,)),\n",
    "    'reward': torch.rand(8, 1),\n",
    "})\n",
    "\n",
    "%timeit t_split(tree, 1)"
   ]
  },
  {
   "cell_type": "markdown",
   "id": "31c3ec0b",
   "metadata": {},
   "source": [
    "### Performance of Tianshou Batch"
   ]
  },
  {
   "cell_type": "code",
   "execution_count": 25,
   "id": "9ead828a",
   "metadata": {
    "execution": {
     "iopub.execute_input": "2023-02-26T14:45:28.869516Z",
     "iopub.status.busy": "2023-02-26T14:45:28.868954Z",
     "iopub.status.idle": "2023-02-26T14:45:28.882714Z",
     "shell.execute_reply": "2023-02-26T14:45:28.879961Z"
    }
   },
   "outputs": [
    {
     "data": {
      "text/plain": [
       "Batch(\n",
       "    a: tensor([[[-0.3192,  0.5320, -1.2184],\n",
       "                [ 0.8464,  0.5500, -0.6892]],\n",
       "       \n",
       "               [[-0.3192,  0.5320, -1.2184],\n",
       "                [ 0.8464,  0.5500, -0.6892]],\n",
       "       \n",
       "               [[-0.3192,  0.5320, -1.2184],\n",
       "                [ 0.8464,  0.5500, -0.6892]],\n",
       "       \n",
       "               [[-0.3192,  0.5320, -1.2184],\n",
       "                [ 0.8464,  0.5500, -0.6892]],\n",
       "       \n",
       "               [[-0.3192,  0.5320, -1.2184],\n",
       "                [ 0.8464,  0.5500, -0.6892]],\n",
       "       \n",
       "               [[-0.3192,  0.5320, -1.2184],\n",
       "                [ 0.8464,  0.5500, -0.6892]],\n",
       "       \n",
       "               [[-0.3192,  0.5320, -1.2184],\n",
       "                [ 0.8464,  0.5500, -0.6892]],\n",
       "       \n",
       "               [[-0.3192,  0.5320, -1.2184],\n",
       "                [ 0.8464,  0.5500, -0.6892]]]),\n",
       "    x: Batch(\n",
       "           c: tensor([[[-0.5780,  0.3479, -0.8074,  2.2673],\n",
       "                       [ 0.2615, -0.8109, -0.5532, -0.3995],\n",
       "                       [ 0.4903,  0.7902, -0.7654, -0.8773]],\n",
       "              \n",
       "                      [[-0.5780,  0.3479, -0.8074,  2.2673],\n",
       "                       [ 0.2615, -0.8109, -0.5532, -0.3995],\n",
       "                       [ 0.4903,  0.7902, -0.7654, -0.8773]],\n",
       "              \n",
       "                      [[-0.5780,  0.3479, -0.8074,  2.2673],\n",
       "                       [ 0.2615, -0.8109, -0.5532, -0.3995],\n",
       "                       [ 0.4903,  0.7902, -0.7654, -0.8773]],\n",
       "              \n",
       "                      [[-0.5780,  0.3479, -0.8074,  2.2673],\n",
       "                       [ 0.2615, -0.8109, -0.5532, -0.3995],\n",
       "                       [ 0.4903,  0.7902, -0.7654, -0.8773]],\n",
       "              \n",
       "                      [[-0.5780,  0.3479, -0.8074,  2.2673],\n",
       "                       [ 0.2615, -0.8109, -0.5532, -0.3995],\n",
       "                       [ 0.4903,  0.7902, -0.7654, -0.8773]],\n",
       "              \n",
       "                      [[-0.5780,  0.3479, -0.8074,  2.2673],\n",
       "                       [ 0.2615, -0.8109, -0.5532, -0.3995],\n",
       "                       [ 0.4903,  0.7902, -0.7654, -0.8773]],\n",
       "              \n",
       "                      [[-0.5780,  0.3479, -0.8074,  2.2673],\n",
       "                       [ 0.2615, -0.8109, -0.5532, -0.3995],\n",
       "                       [ 0.4903,  0.7902, -0.7654, -0.8773]],\n",
       "              \n",
       "                      [[-0.5780,  0.3479, -0.8074,  2.2673],\n",
       "                       [ 0.2615, -0.8109, -0.5532, -0.3995],\n",
       "                       [ 0.4903,  0.7902, -0.7654, -0.8773]]]),\n",
       "       ),\n",
       ")"
      ]
     },
     "execution_count": 25,
     "metadata": {},
     "output_type": "execute_result"
    }
   ],
   "source": [
    "batches = [Batch(**_TREE_DATA_2) for _ in range(8)]\n",
    "\n",
    "Batch.stack(batches)"
   ]
  },
  {
   "cell_type": "code",
   "execution_count": 26,
   "id": "ec9037a3",
   "metadata": {
    "execution": {
     "iopub.execute_input": "2023-02-26T14:45:28.886463Z",
     "iopub.status.busy": "2023-02-26T14:45:28.886126Z",
     "iopub.status.idle": "2023-02-26T14:45:37.765158Z",
     "shell.execute_reply": "2023-02-26T14:45:37.764062Z"
    }
   },
   "outputs": [
    {
     "name": "stdout",
     "output_type": "stream",
     "text": [
      "109 µs ± 779 ns per loop (mean ± std. dev. of 7 runs, 10,000 loops each)\n"
     ]
    }
   ],
   "source": [
    "%timeit Batch.stack(batches)"
   ]
  },
  {
   "cell_type": "code",
   "execution_count": 27,
   "id": "cb8ab77e",
   "metadata": {
    "execution": {
     "iopub.execute_input": "2023-02-26T14:45:37.768944Z",
     "iopub.status.busy": "2023-02-26T14:45:37.768452Z",
     "iopub.status.idle": "2023-02-26T14:45:37.778420Z",
     "shell.execute_reply": "2023-02-26T14:45:37.777518Z"
    }
   },
   "outputs": [
    {
     "data": {
      "text/plain": [
       "Batch(\n",
       "    a: tensor([[-0.3192,  0.5320, -1.2184],\n",
       "               [ 0.8464,  0.5500, -0.6892],\n",
       "               [-0.3192,  0.5320, -1.2184],\n",
       "               [ 0.8464,  0.5500, -0.6892],\n",
       "               [-0.3192,  0.5320, -1.2184],\n",
       "               [ 0.8464,  0.5500, -0.6892],\n",
       "               [-0.3192,  0.5320, -1.2184],\n",
       "               [ 0.8464,  0.5500, -0.6892],\n",
       "               [-0.3192,  0.5320, -1.2184],\n",
       "               [ 0.8464,  0.5500, -0.6892],\n",
       "               [-0.3192,  0.5320, -1.2184],\n",
       "               [ 0.8464,  0.5500, -0.6892],\n",
       "               [-0.3192,  0.5320, -1.2184],\n",
       "               [ 0.8464,  0.5500, -0.6892],\n",
       "               [-0.3192,  0.5320, -1.2184],\n",
       "               [ 0.8464,  0.5500, -0.6892]]),\n",
       "    x: Batch(\n",
       "           c: tensor([[-0.5780,  0.3479, -0.8074,  2.2673],\n",
       "                      [ 0.2615, -0.8109, -0.5532, -0.3995],\n",
       "                      [ 0.4903,  0.7902, -0.7654, -0.8773],\n",
       "                      [-0.5780,  0.3479, -0.8074,  2.2673],\n",
       "                      [ 0.2615, -0.8109, -0.5532, -0.3995],\n",
       "                      [ 0.4903,  0.7902, -0.7654, -0.8773],\n",
       "                      [-0.5780,  0.3479, -0.8074,  2.2673],\n",
       "                      [ 0.2615, -0.8109, -0.5532, -0.3995],\n",
       "                      [ 0.4903,  0.7902, -0.7654, -0.8773],\n",
       "                      [-0.5780,  0.3479, -0.8074,  2.2673],\n",
       "                      [ 0.2615, -0.8109, -0.5532, -0.3995],\n",
       "                      [ 0.4903,  0.7902, -0.7654, -0.8773],\n",
       "                      [-0.5780,  0.3479, -0.8074,  2.2673],\n",
       "                      [ 0.2615, -0.8109, -0.5532, -0.3995],\n",
       "                      [ 0.4903,  0.7902, -0.7654, -0.8773],\n",
       "                      [-0.5780,  0.3479, -0.8074,  2.2673],\n",
       "                      [ 0.2615, -0.8109, -0.5532, -0.3995],\n",
       "                      [ 0.4903,  0.7902, -0.7654, -0.8773],\n",
       "                      [-0.5780,  0.3479, -0.8074,  2.2673],\n",
       "                      [ 0.2615, -0.8109, -0.5532, -0.3995],\n",
       "                      [ 0.4903,  0.7902, -0.7654, -0.8773],\n",
       "                      [-0.5780,  0.3479, -0.8074,  2.2673],\n",
       "                      [ 0.2615, -0.8109, -0.5532, -0.3995],\n",
       "                      [ 0.4903,  0.7902, -0.7654, -0.8773]]),\n",
       "       ),\n",
       ")"
      ]
     },
     "execution_count": 27,
     "metadata": {},
     "output_type": "execute_result"
    }
   ],
   "source": [
    "Batch.cat(batches)"
   ]
  },
  {
   "cell_type": "code",
   "execution_count": 28,
   "id": "18dfb045",
   "metadata": {
    "execution": {
     "iopub.execute_input": "2023-02-26T14:45:37.782154Z",
     "iopub.status.busy": "2023-02-26T14:45:37.781631Z",
     "iopub.status.idle": "2023-02-26T14:45:53.399681Z",
     "shell.execute_reply": "2023-02-26T14:45:53.398621Z"
    }
   },
   "outputs": [
    {
     "name": "stdout",
     "output_type": "stream",
     "text": [
      "193 µs ± 1.74 µs per loop (mean ± std. dev. of 7 runs, 10,000 loops each)\n"
     ]
    }
   ],
   "source": [
    "%timeit Batch.cat(batches)"
   ]
  },
  {
   "cell_type": "code",
   "execution_count": 29,
   "id": "c6688e51",
   "metadata": {
    "execution": {
     "iopub.execute_input": "2023-02-26T14:45:53.403490Z",
     "iopub.status.busy": "2023-02-26T14:45:53.402948Z",
     "iopub.status.idle": "2023-02-26T14:45:58.394699Z",
     "shell.execute_reply": "2023-02-26T14:45:58.393672Z"
    }
   },
   "outputs": [
    {
     "name": "stdout",
     "output_type": "stream",
     "text": [
      "616 µs ± 15 µs per loop (mean ± std. dev. of 7 runs, 1,000 loops each)\n"
     ]
    }
   ],
   "source": [
    "batch = Batch({\n",
    "    'obs': torch.randn(8, 4, 84, 84),\n",
    "    'action': torch.randint(0, 6, size=(8, 1,)),\n",
    "    'reward': torch.rand(8, 1)}\n",
    ")\n",
    "\n",
    "%timeit list(Batch.split(batch, 1, shuffle=False, merge_last=True))"
   ]
  },
  {
   "cell_type": "code",
   "execution_count": null,
   "id": "2539fbd9",
   "metadata": {},
   "outputs": [],
   "source": []
  }
 ],
 "metadata": {
  "kernelspec": {
   "display_name": "Python 3 (ipykernel)",
   "language": "python",
   "name": "python3"
  },
  "language_info": {
   "codemirror_mode": {
    "name": "ipython",
    "version": 3
   },
   "file_extension": ".py",
   "mimetype": "text/x-python",
   "name": "python",
   "nbconvert_exporter": "python",
   "pygments_lexer": "ipython3",
   "version": "3.8.16"
  }
 },
 "nbformat": 4,
 "nbformat_minor": 5
}
