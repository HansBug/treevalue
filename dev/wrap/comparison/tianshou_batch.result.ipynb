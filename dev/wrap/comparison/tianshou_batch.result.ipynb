{
 "cells": [
  {
   "cell_type": "markdown",
   "id": "9d39d946",
   "metadata": {},
   "source": [
    "# Comparison Between TreeValue and Tianshou Batch"
   ]
  },
  {
   "cell_type": "markdown",
   "id": "3c6db2d4",
   "metadata": {},
   "source": [
    "In this section, we will take a look at the feature and performance of the [Tianshou Batch](https://github.com/thu-ml/tianshou) library, which is developed by Tsinghua Machine Learning Group."
   ]
  },
  {
   "cell_type": "markdown",
   "id": "069361b0",
   "metadata": {},
   "source": [
    "Before starting the comparison, let us define some thing."
   ]
  },
  {
   "cell_type": "code",
   "execution_count": 1,
   "id": "06fc8d26",
   "metadata": {
    "execution": {
     "iopub.execute_input": "2023-10-22T16:16:34.476930Z",
     "iopub.status.busy": "2023-10-22T16:16:34.476644Z",
     "iopub.status.idle": "2023-10-22T16:16:36.126838Z",
     "shell.execute_reply": "2023-10-22T16:16:36.126015Z"
    }
   },
   "outputs": [],
   "source": [
    "import torch \n",
    "\n",
    "_TREE_DATA_1 = {'a': 1, 'b': 2, 'x': {'c': 3, 'd': 4}}\n",
    "_TREE_DATA_2 = {\n",
    "    'a': torch.randn(2, 3), \n",
    "    'x': {\n",
    "        'c': torch.randn(3, 4)\n",
    "    },\n",
    "}\n",
    "_TREE_DATA_3 = {\n",
    "    'obs': torch.randn(4, 84, 84),\n",
    "    'action': torch.randint(0, 6, size=(1,)),\n",
    "    'reward': torch.rand(1),\n",
    "}"
   ]
  },
  {
   "cell_type": "markdown",
   "id": "83461b25",
   "metadata": {},
   "source": [
    "## Read and Write Operation"
   ]
  },
  {
   "cell_type": "markdown",
   "id": "067b3f73",
   "metadata": {},
   "source": [
    "Reading and writing are the two most common operations in the tree data structure based on the data model (TreeValue and Tianshou Batch both belong to this type), so this section will compare the reading and writing performance of these two libraries."
   ]
  },
  {
   "cell_type": "markdown",
   "id": "5d09a5b7",
   "metadata": {},
   "source": [
    "### TreeValue's Get and Set"
   ]
  },
  {
   "cell_type": "code",
   "execution_count": 2,
   "id": "9519c4bb",
   "metadata": {
    "execution": {
     "iopub.execute_input": "2023-10-22T16:16:36.131415Z",
     "iopub.status.busy": "2023-10-22T16:16:36.130785Z",
     "iopub.status.idle": "2023-10-22T16:16:36.164543Z",
     "shell.execute_reply": "2023-10-22T16:16:36.163761Z"
    }
   },
   "outputs": [],
   "source": [
    "from treevalue import FastTreeValue\n",
    "\n",
    "t = FastTreeValue(_TREE_DATA_2)"
   ]
  },
  {
   "cell_type": "code",
   "execution_count": 3,
   "id": "11c37677",
   "metadata": {
    "execution": {
     "iopub.execute_input": "2023-10-22T16:16:36.168820Z",
     "iopub.status.busy": "2023-10-22T16:16:36.168118Z",
     "iopub.status.idle": "2023-10-22T16:16:36.181570Z",
     "shell.execute_reply": "2023-10-22T16:16:36.180843Z"
    }
   },
   "outputs": [
    {
     "data": {
      "text/plain": [
       "<FastTreeValue 0x7fca60f1ca60>\n",
       "├── 'a' --> tensor([[-0.2233,  0.0827, -0.6963],\n",
       "│                   [-0.8301, -0.5389,  0.6077]])\n",
       "└── 'x' --> <FastTreeValue 0x7fca60f1cb20>\n",
       "    └── 'c' --> tensor([[ 1.0628,  1.0622,  0.2754, -1.3692],\n",
       "                        [-0.9351,  1.0969,  0.3160,  0.1298],\n",
       "                        [-1.0289, -0.0498,  0.5864,  0.3890]])"
      ]
     },
     "execution_count": 3,
     "metadata": {},
     "output_type": "execute_result"
    }
   ],
   "source": [
    "t"
   ]
  },
  {
   "cell_type": "code",
   "execution_count": 4,
   "id": "fd70b0b9",
   "metadata": {
    "execution": {
     "iopub.execute_input": "2023-10-22T16:16:36.185152Z",
     "iopub.status.busy": "2023-10-22T16:16:36.184526Z",
     "iopub.status.idle": "2023-10-22T16:16:36.192355Z",
     "shell.execute_reply": "2023-10-22T16:16:36.191727Z"
    }
   },
   "outputs": [
    {
     "data": {
      "text/plain": [
       "tensor([[-0.2233,  0.0827, -0.6963],\n",
       "        [-0.8301, -0.5389,  0.6077]])"
      ]
     },
     "execution_count": 4,
     "metadata": {},
     "output_type": "execute_result"
    }
   ],
   "source": [
    "t.a"
   ]
  },
  {
   "cell_type": "code",
   "execution_count": 5,
   "id": "c18197bd",
   "metadata": {
    "execution": {
     "iopub.execute_input": "2023-10-22T16:16:36.195619Z",
     "iopub.status.busy": "2023-10-22T16:16:36.195041Z",
     "iopub.status.idle": "2023-10-22T16:16:42.200137Z",
     "shell.execute_reply": "2023-10-22T16:16:42.198266Z"
    }
   },
   "outputs": [
    {
     "name": "stdout",
     "output_type": "stream",
     "text": [
      "73.9 ns ± 0.137 ns per loop (mean ± std. dev. of 7 runs, 10,000,000 loops each)\n"
     ]
    }
   ],
   "source": [
    "%timeit t.a"
   ]
  },
  {
   "cell_type": "code",
   "execution_count": 6,
   "id": "bd52f867",
   "metadata": {
    "execution": {
     "iopub.execute_input": "2023-10-22T16:16:42.204165Z",
     "iopub.status.busy": "2023-10-22T16:16:42.203648Z",
     "iopub.status.idle": "2023-10-22T16:16:42.212998Z",
     "shell.execute_reply": "2023-10-22T16:16:42.212347Z"
    }
   },
   "outputs": [
    {
     "data": {
      "text/plain": [
       "<FastTreeValue 0x7fca60f1ca60>\n",
       "├── 'a' --> tensor([[-0.7525, -0.0193,  0.1042],\n",
       "│                   [-0.4943,  0.4845, -0.9254]])\n",
       "└── 'x' --> <FastTreeValue 0x7fca60f1cb20>\n",
       "    └── 'c' --> tensor([[ 1.0628,  1.0622,  0.2754, -1.3692],\n",
       "                        [-0.9351,  1.0969,  0.3160,  0.1298],\n",
       "                        [-1.0289, -0.0498,  0.5864,  0.3890]])"
      ]
     },
     "execution_count": 6,
     "metadata": {},
     "output_type": "execute_result"
    }
   ],
   "source": [
    "new_value = torch.randn(2, 3)\n",
    "t.a = new_value\n",
    "\n",
    "t"
   ]
  },
  {
   "cell_type": "code",
   "execution_count": 7,
   "id": "bbe04d1c",
   "metadata": {
    "execution": {
     "iopub.execute_input": "2023-10-22T16:16:42.216301Z",
     "iopub.status.busy": "2023-10-22T16:16:42.215721Z",
     "iopub.status.idle": "2023-10-22T16:16:48.878262Z",
     "shell.execute_reply": "2023-10-22T16:16:48.877409Z"
    }
   },
   "outputs": [
    {
     "name": "stdout",
     "output_type": "stream",
     "text": [
      "82.1 ns ± 0.139 ns per loop (mean ± std. dev. of 7 runs, 10,000,000 loops each)\n"
     ]
    }
   ],
   "source": [
    "%timeit t.a = new_value"
   ]
  },
  {
   "cell_type": "markdown",
   "id": "48c49731",
   "metadata": {},
   "source": [
    "### Tianshou Batch's Get and Set"
   ]
  },
  {
   "cell_type": "code",
   "execution_count": 8,
   "id": "f1bb14c1",
   "metadata": {
    "execution": {
     "iopub.execute_input": "2023-10-22T16:16:48.881977Z",
     "iopub.status.busy": "2023-10-22T16:16:48.881471Z",
     "iopub.status.idle": "2023-10-22T16:16:49.312191Z",
     "shell.execute_reply": "2023-10-22T16:16:49.310793Z"
    }
   },
   "outputs": [],
   "source": [
    "from tianshou.data import Batch\n",
    "\n",
    "b = Batch(**_TREE_DATA_2)"
   ]
  },
  {
   "cell_type": "code",
   "execution_count": 9,
   "id": "cb0777c3",
   "metadata": {
    "execution": {
     "iopub.execute_input": "2023-10-22T16:16:49.316283Z",
     "iopub.status.busy": "2023-10-22T16:16:49.315867Z",
     "iopub.status.idle": "2023-10-22T16:16:49.323020Z",
     "shell.execute_reply": "2023-10-22T16:16:49.322308Z"
    }
   },
   "outputs": [
    {
     "data": {
      "text/plain": [
       "Batch(\n",
       "    a: tensor([[-0.2233,  0.0827, -0.6963],\n",
       "               [-0.8301, -0.5389,  0.6077]]),\n",
       "    x: Batch(\n",
       "           c: tensor([[ 1.0628,  1.0622,  0.2754, -1.3692],\n",
       "                      [-0.9351,  1.0969,  0.3160,  0.1298],\n",
       "                      [-1.0289, -0.0498,  0.5864,  0.3890]]),\n",
       "       ),\n",
       ")"
      ]
     },
     "execution_count": 9,
     "metadata": {},
     "output_type": "execute_result"
    }
   ],
   "source": [
    "b"
   ]
  },
  {
   "cell_type": "code",
   "execution_count": 10,
   "id": "43ef8ea3",
   "metadata": {
    "execution": {
     "iopub.execute_input": "2023-10-22T16:16:49.326498Z",
     "iopub.status.busy": "2023-10-22T16:16:49.325915Z",
     "iopub.status.idle": "2023-10-22T16:16:49.330943Z",
     "shell.execute_reply": "2023-10-22T16:16:49.330264Z"
    }
   },
   "outputs": [
    {
     "data": {
      "text/plain": [
       "tensor([[-0.2233,  0.0827, -0.6963],\n",
       "        [-0.8301, -0.5389,  0.6077]])"
      ]
     },
     "execution_count": 10,
     "metadata": {},
     "output_type": "execute_result"
    }
   ],
   "source": [
    "b.a"
   ]
  },
  {
   "cell_type": "code",
   "execution_count": 11,
   "id": "b785ab72",
   "metadata": {
    "execution": {
     "iopub.execute_input": "2023-10-22T16:16:49.334173Z",
     "iopub.status.busy": "2023-10-22T16:16:49.333717Z",
     "iopub.status.idle": "2023-10-22T16:16:54.707056Z",
     "shell.execute_reply": "2023-10-22T16:16:54.706177Z"
    }
   },
   "outputs": [
    {
     "name": "stdout",
     "output_type": "stream",
     "text": [
      "66.1 ns ± 0.124 ns per loop (mean ± std. dev. of 7 runs, 10,000,000 loops each)\n"
     ]
    }
   ],
   "source": [
    "%timeit b.a"
   ]
  },
  {
   "cell_type": "code",
   "execution_count": 12,
   "id": "ad54dc69",
   "metadata": {
    "execution": {
     "iopub.execute_input": "2023-10-22T16:16:54.710943Z",
     "iopub.status.busy": "2023-10-22T16:16:54.710420Z",
     "iopub.status.idle": "2023-10-22T16:16:54.718508Z",
     "shell.execute_reply": "2023-10-22T16:16:54.717868Z"
    }
   },
   "outputs": [
    {
     "data": {
      "text/plain": [
       "Batch(\n",
       "    a: tensor([[ 0.5840, -1.4278,  0.7745],\n",
       "               [ 0.6606, -1.8461, -0.0737]]),\n",
       "    x: Batch(\n",
       "           c: tensor([[ 1.0628,  1.0622,  0.2754, -1.3692],\n",
       "                      [-0.9351,  1.0969,  0.3160,  0.1298],\n",
       "                      [-1.0289, -0.0498,  0.5864,  0.3890]]),\n",
       "       ),\n",
       ")"
      ]
     },
     "execution_count": 12,
     "metadata": {},
     "output_type": "execute_result"
    }
   ],
   "source": [
    "new_value = torch.randn(2, 3)\n",
    "b.a = new_value\n",
    "\n",
    "b"
   ]
  },
  {
   "cell_type": "code",
   "execution_count": 13,
   "id": "29b1d0bf",
   "metadata": {
    "execution": {
     "iopub.execute_input": "2023-10-22T16:16:54.721772Z",
     "iopub.status.busy": "2023-10-22T16:16:54.721301Z",
     "iopub.status.idle": "2023-10-22T16:16:59.187040Z",
     "shell.execute_reply": "2023-10-22T16:16:59.186157Z"
    }
   },
   "outputs": [
    {
     "name": "stdout",
     "output_type": "stream",
     "text": [
      "547 ns ± 6.35 ns per loop (mean ± std. dev. of 7 runs, 1,000,000 loops each)\n"
     ]
    }
   ],
   "source": [
    "%timeit b.a = new_value"
   ]
  },
  {
   "cell_type": "markdown",
   "id": "b61ad1d0",
   "metadata": {},
   "source": [
    "## Initialization"
   ]
  },
  {
   "cell_type": "markdown",
   "id": "d70f0d54",
   "metadata": {},
   "source": [
    "### TreeValue's Initialization"
   ]
  },
  {
   "cell_type": "code",
   "execution_count": 14,
   "id": "d32a679b",
   "metadata": {
    "execution": {
     "iopub.execute_input": "2023-10-22T16:16:59.191319Z",
     "iopub.status.busy": "2023-10-22T16:16:59.190653Z",
     "iopub.status.idle": "2023-10-22T16:17:06.742190Z",
     "shell.execute_reply": "2023-10-22T16:17:06.740722Z"
    }
   },
   "outputs": [
    {
     "name": "stdout",
     "output_type": "stream",
     "text": [
      "930 ns ± 1.74 ns per loop (mean ± std. dev. of 7 runs, 1,000,000 loops each)\n"
     ]
    }
   ],
   "source": [
    "%timeit FastTreeValue(_TREE_DATA_1)"
   ]
  },
  {
   "cell_type": "markdown",
   "id": "24f3707b",
   "metadata": {},
   "source": [
    "### Tianshou Batch's Initialization"
   ]
  },
  {
   "cell_type": "code",
   "execution_count": 15,
   "id": "ac3958df",
   "metadata": {
    "execution": {
     "iopub.execute_input": "2023-10-22T16:17:06.745851Z",
     "iopub.status.busy": "2023-10-22T16:17:06.745593Z",
     "iopub.status.idle": "2023-10-22T16:17:15.961779Z",
     "shell.execute_reply": "2023-10-22T16:17:15.960845Z"
    }
   },
   "outputs": [
    {
     "name": "stdout",
     "output_type": "stream",
     "text": [
      "11.3 µs ± 26.4 ns per loop (mean ± std. dev. of 7 runs, 100,000 loops each)\n"
     ]
    }
   ],
   "source": [
    "%timeit Batch(**_TREE_DATA_1)"
   ]
  },
  {
   "cell_type": "markdown",
   "id": "1ab82e2d",
   "metadata": {},
   "source": [
    "## Deep Copy Operation"
   ]
  },
  {
   "cell_type": "code",
   "execution_count": 16,
   "id": "210a9442",
   "metadata": {
    "execution": {
     "iopub.execute_input": "2023-10-22T16:17:15.965496Z",
     "iopub.status.busy": "2023-10-22T16:17:15.965038Z",
     "iopub.status.idle": "2023-10-22T16:17:15.969674Z",
     "shell.execute_reply": "2023-10-22T16:17:15.969032Z"
    }
   },
   "outputs": [],
   "source": [
    "import copy"
   ]
  },
  {
   "cell_type": "markdown",
   "id": "5a736274",
   "metadata": {},
   "source": [
    "### Deep Copy of TreeValue"
   ]
  },
  {
   "cell_type": "code",
   "execution_count": 17,
   "id": "f9bcadd6",
   "metadata": {
    "execution": {
     "iopub.execute_input": "2023-10-22T16:17:15.972784Z",
     "iopub.status.busy": "2023-10-22T16:17:15.972336Z",
     "iopub.status.idle": "2023-10-22T16:17:28.069584Z",
     "shell.execute_reply": "2023-10-22T16:17:28.068808Z"
    }
   },
   "outputs": [
    {
     "name": "stdout",
     "output_type": "stream",
     "text": [
      "149 µs ± 1.65 µs per loop (mean ± std. dev. of 7 runs, 10,000 loops each)\n"
     ]
    }
   ],
   "source": [
    "t3 = FastTreeValue(_TREE_DATA_3)\n",
    "%timeit copy.deepcopy(t3)"
   ]
  },
  {
   "cell_type": "markdown",
   "id": "bf8be7ea",
   "metadata": {},
   "source": [
    "### Deep Copy of Tianshou Batch"
   ]
  },
  {
   "cell_type": "code",
   "execution_count": 18,
   "id": "91998e6f",
   "metadata": {
    "execution": {
     "iopub.execute_input": "2023-10-22T16:17:28.073417Z",
     "iopub.status.busy": "2023-10-22T16:17:28.072929Z",
     "iopub.status.idle": "2023-10-22T16:17:40.384103Z",
     "shell.execute_reply": "2023-10-22T16:17:40.383288Z"
    }
   },
   "outputs": [
    {
     "name": "stdout",
     "output_type": "stream",
     "text": [
      "152 µs ± 1.46 µs per loop (mean ± std. dev. of 7 runs, 10,000 loops each)\n"
     ]
    }
   ],
   "source": [
    "b3 = Batch(**_TREE_DATA_3)\n",
    "%timeit copy.deepcopy(b3)"
   ]
  },
  {
   "cell_type": "markdown",
   "id": "223162fb",
   "metadata": {},
   "source": [
    "## Stack, Concat and Split Operation"
   ]
  },
  {
   "cell_type": "markdown",
   "id": "85fa4a73",
   "metadata": {},
   "source": [
    "### Performance of TreeValue"
   ]
  },
  {
   "cell_type": "code",
   "execution_count": 19,
   "id": "a0c2b697",
   "metadata": {
    "execution": {
     "iopub.execute_input": "2023-10-22T16:17:40.387819Z",
     "iopub.status.busy": "2023-10-22T16:17:40.387397Z",
     "iopub.status.idle": "2023-10-22T16:17:40.392333Z",
     "shell.execute_reply": "2023-10-22T16:17:40.391688Z"
    }
   },
   "outputs": [],
   "source": [
    "trees = [FastTreeValue(_TREE_DATA_2) for _ in range(8)]"
   ]
  },
  {
   "cell_type": "code",
   "execution_count": 20,
   "id": "017ea5a5",
   "metadata": {
    "execution": {
     "iopub.execute_input": "2023-10-22T16:17:40.395759Z",
     "iopub.status.busy": "2023-10-22T16:17:40.395077Z",
     "iopub.status.idle": "2023-10-22T16:17:40.404368Z",
     "shell.execute_reply": "2023-10-22T16:17:40.403731Z"
    }
   },
   "outputs": [
    {
     "data": {
      "text/plain": [
       "<FastTreeValue 0x7fc982fd85e0>\n",
       "├── 'a' --> tensor([[[-0.2233,  0.0827, -0.6963],\n",
       "│                    [-0.8301, -0.5389,  0.6077]],\n",
       "│           \n",
       "│                   [[-0.2233,  0.0827, -0.6963],\n",
       "│                    [-0.8301, -0.5389,  0.6077]],\n",
       "│           \n",
       "│                   [[-0.2233,  0.0827, -0.6963],\n",
       "│                    [-0.8301, -0.5389,  0.6077]],\n",
       "│           \n",
       "│                   [[-0.2233,  0.0827, -0.6963],\n",
       "│                    [-0.8301, -0.5389,  0.6077]],\n",
       "│           \n",
       "│                   [[-0.2233,  0.0827, -0.6963],\n",
       "│                    [-0.8301, -0.5389,  0.6077]],\n",
       "│           \n",
       "│                   [[-0.2233,  0.0827, -0.6963],\n",
       "│                    [-0.8301, -0.5389,  0.6077]],\n",
       "│           \n",
       "│                   [[-0.2233,  0.0827, -0.6963],\n",
       "│                    [-0.8301, -0.5389,  0.6077]],\n",
       "│           \n",
       "│                   [[-0.2233,  0.0827, -0.6963],\n",
       "│                    [-0.8301, -0.5389,  0.6077]]])\n",
       "└── 'x' --> <FastTreeValue 0x7fc982fd8a60>\n",
       "    └── 'c' --> tensor([[[ 1.0628,  1.0622,  0.2754, -1.3692],\n",
       "                         [-0.9351,  1.0969,  0.3160,  0.1298],\n",
       "                         [-1.0289, -0.0498,  0.5864,  0.3890]],\n",
       "                \n",
       "                        [[ 1.0628,  1.0622,  0.2754, -1.3692],\n",
       "                         [-0.9351,  1.0969,  0.3160,  0.1298],\n",
       "                         [-1.0289, -0.0498,  0.5864,  0.3890]],\n",
       "                \n",
       "                        [[ 1.0628,  1.0622,  0.2754, -1.3692],\n",
       "                         [-0.9351,  1.0969,  0.3160,  0.1298],\n",
       "                         [-1.0289, -0.0498,  0.5864,  0.3890]],\n",
       "                \n",
       "                        [[ 1.0628,  1.0622,  0.2754, -1.3692],\n",
       "                         [-0.9351,  1.0969,  0.3160,  0.1298],\n",
       "                         [-1.0289, -0.0498,  0.5864,  0.3890]],\n",
       "                \n",
       "                        [[ 1.0628,  1.0622,  0.2754, -1.3692],\n",
       "                         [-0.9351,  1.0969,  0.3160,  0.1298],\n",
       "                         [-1.0289, -0.0498,  0.5864,  0.3890]],\n",
       "                \n",
       "                        [[ 1.0628,  1.0622,  0.2754, -1.3692],\n",
       "                         [-0.9351,  1.0969,  0.3160,  0.1298],\n",
       "                         [-1.0289, -0.0498,  0.5864,  0.3890]],\n",
       "                \n",
       "                        [[ 1.0628,  1.0622,  0.2754, -1.3692],\n",
       "                         [-0.9351,  1.0969,  0.3160,  0.1298],\n",
       "                         [-1.0289, -0.0498,  0.5864,  0.3890]],\n",
       "                \n",
       "                        [[ 1.0628,  1.0622,  0.2754, -1.3692],\n",
       "                         [-0.9351,  1.0969,  0.3160,  0.1298],\n",
       "                         [-1.0289, -0.0498,  0.5864,  0.3890]]])"
      ]
     },
     "execution_count": 20,
     "metadata": {},
     "output_type": "execute_result"
    }
   ],
   "source": [
    "t_stack = FastTreeValue.func(subside=True)(torch.stack)\n",
    "\n",
    "t_stack(trees)"
   ]
  },
  {
   "cell_type": "code",
   "execution_count": 21,
   "id": "f8b3f415",
   "metadata": {
    "execution": {
     "iopub.execute_input": "2023-10-22T16:17:40.407618Z",
     "iopub.status.busy": "2023-10-22T16:17:40.407154Z",
     "iopub.status.idle": "2023-10-22T16:17:43.145992Z",
     "shell.execute_reply": "2023-10-22T16:17:43.145042Z"
    }
   },
   "outputs": [
    {
     "name": "stdout",
     "output_type": "stream",
     "text": [
      "33.6 µs ± 48.2 ns per loop (mean ± std. dev. of 7 runs, 10,000 loops each)\n"
     ]
    }
   ],
   "source": [
    "%timeit t_stack(trees)"
   ]
  },
  {
   "cell_type": "code",
   "execution_count": 22,
   "id": "94b56771",
   "metadata": {
    "execution": {
     "iopub.execute_input": "2023-10-22T16:17:43.149858Z",
     "iopub.status.busy": "2023-10-22T16:17:43.149216Z",
     "iopub.status.idle": "2023-10-22T16:17:43.158394Z",
     "shell.execute_reply": "2023-10-22T16:17:43.157687Z"
    }
   },
   "outputs": [
    {
     "data": {
      "text/plain": [
       "<FastTreeValue 0x7fc98304f820>\n",
       "├── 'a' --> tensor([[-0.2233,  0.0827, -0.6963],\n",
       "│                   [-0.8301, -0.5389,  0.6077],\n",
       "│                   [-0.2233,  0.0827, -0.6963],\n",
       "│                   [-0.8301, -0.5389,  0.6077],\n",
       "│                   [-0.2233,  0.0827, -0.6963],\n",
       "│                   [-0.8301, -0.5389,  0.6077],\n",
       "│                   [-0.2233,  0.0827, -0.6963],\n",
       "│                   [-0.8301, -0.5389,  0.6077],\n",
       "│                   [-0.2233,  0.0827, -0.6963],\n",
       "│                   [-0.8301, -0.5389,  0.6077],\n",
       "│                   [-0.2233,  0.0827, -0.6963],\n",
       "│                   [-0.8301, -0.5389,  0.6077],\n",
       "│                   [-0.2233,  0.0827, -0.6963],\n",
       "│                   [-0.8301, -0.5389,  0.6077],\n",
       "│                   [-0.2233,  0.0827, -0.6963],\n",
       "│                   [-0.8301, -0.5389,  0.6077]])\n",
       "└── 'x' --> <FastTreeValue 0x7fca61f87e50>\n",
       "    └── 'c' --> tensor([[ 1.0628,  1.0622,  0.2754, -1.3692],\n",
       "                        [-0.9351,  1.0969,  0.3160,  0.1298],\n",
       "                        [-1.0289, -0.0498,  0.5864,  0.3890],\n",
       "                        [ 1.0628,  1.0622,  0.2754, -1.3692],\n",
       "                        [-0.9351,  1.0969,  0.3160,  0.1298],\n",
       "                        [-1.0289, -0.0498,  0.5864,  0.3890],\n",
       "                        [ 1.0628,  1.0622,  0.2754, -1.3692],\n",
       "                        [-0.9351,  1.0969,  0.3160,  0.1298],\n",
       "                        [-1.0289, -0.0498,  0.5864,  0.3890],\n",
       "                        [ 1.0628,  1.0622,  0.2754, -1.3692],\n",
       "                        [-0.9351,  1.0969,  0.3160,  0.1298],\n",
       "                        [-1.0289, -0.0498,  0.5864,  0.3890],\n",
       "                        [ 1.0628,  1.0622,  0.2754, -1.3692],\n",
       "                        [-0.9351,  1.0969,  0.3160,  0.1298],\n",
       "                        [-1.0289, -0.0498,  0.5864,  0.3890],\n",
       "                        [ 1.0628,  1.0622,  0.2754, -1.3692],\n",
       "                        [-0.9351,  1.0969,  0.3160,  0.1298],\n",
       "                        [-1.0289, -0.0498,  0.5864,  0.3890],\n",
       "                        [ 1.0628,  1.0622,  0.2754, -1.3692],\n",
       "                        [-0.9351,  1.0969,  0.3160,  0.1298],\n",
       "                        [-1.0289, -0.0498,  0.5864,  0.3890],\n",
       "                        [ 1.0628,  1.0622,  0.2754, -1.3692],\n",
       "                        [-0.9351,  1.0969,  0.3160,  0.1298],\n",
       "                        [-1.0289, -0.0498,  0.5864,  0.3890]])"
      ]
     },
     "execution_count": 22,
     "metadata": {},
     "output_type": "execute_result"
    }
   ],
   "source": [
    "t_cat = FastTreeValue.func(subside=True)(torch.cat)\n",
    "\n",
    "t_cat(trees)"
   ]
  },
  {
   "cell_type": "code",
   "execution_count": 23,
   "id": "5e9c06a6",
   "metadata": {
    "execution": {
     "iopub.execute_input": "2023-10-22T16:17:43.161661Z",
     "iopub.status.busy": "2023-10-22T16:17:43.161192Z",
     "iopub.status.idle": "2023-10-22T16:17:45.728218Z",
     "shell.execute_reply": "2023-10-22T16:17:45.727291Z"
    }
   },
   "outputs": [
    {
     "name": "stdout",
     "output_type": "stream",
     "text": [
      "31.5 µs ± 93.7 ns per loop (mean ± std. dev. of 7 runs, 10,000 loops each)\n"
     ]
    }
   ],
   "source": [
    "%timeit t_cat(trees)"
   ]
  },
  {
   "cell_type": "code",
   "execution_count": 24,
   "id": "a3ab5c8f",
   "metadata": {
    "execution": {
     "iopub.execute_input": "2023-10-22T16:17:45.731859Z",
     "iopub.status.busy": "2023-10-22T16:17:45.731370Z",
     "iopub.status.idle": "2023-10-22T16:17:51.064610Z",
     "shell.execute_reply": "2023-10-22T16:17:51.063663Z"
    }
   },
   "outputs": [
    {
     "name": "stdout",
     "output_type": "stream",
     "text": [
      "65.6 µs ± 214 ns per loop (mean ± std. dev. of 7 runs, 10,000 loops each)\n"
     ]
    }
   ],
   "source": [
    "t_split = FastTreeValue.func(rise=True)(torch.split)\n",
    "tree = FastTreeValue({\n",
    "    'obs': torch.randn(8, 4, 84, 84),\n",
    "    'action': torch.randint(0, 6, size=(8, 1,)),\n",
    "    'reward': torch.rand(8, 1),\n",
    "})\n",
    "\n",
    "%timeit t_split(tree, 1)"
   ]
  },
  {
   "cell_type": "markdown",
   "id": "31c3ec0b",
   "metadata": {},
   "source": [
    "### Performance of Tianshou Batch"
   ]
  },
  {
   "cell_type": "code",
   "execution_count": 25,
   "id": "9ead828a",
   "metadata": {
    "execution": {
     "iopub.execute_input": "2023-10-22T16:17:51.068508Z",
     "iopub.status.busy": "2023-10-22T16:17:51.068023Z",
     "iopub.status.idle": "2023-10-22T16:17:51.076434Z",
     "shell.execute_reply": "2023-10-22T16:17:51.075678Z"
    }
   },
   "outputs": [
    {
     "data": {
      "text/plain": [
       "Batch(\n",
       "    a: tensor([[[-0.2233,  0.0827, -0.6963],\n",
       "                [-0.8301, -0.5389,  0.6077]],\n",
       "       \n",
       "               [[-0.2233,  0.0827, -0.6963],\n",
       "                [-0.8301, -0.5389,  0.6077]],\n",
       "       \n",
       "               [[-0.2233,  0.0827, -0.6963],\n",
       "                [-0.8301, -0.5389,  0.6077]],\n",
       "       \n",
       "               [[-0.2233,  0.0827, -0.6963],\n",
       "                [-0.8301, -0.5389,  0.6077]],\n",
       "       \n",
       "               [[-0.2233,  0.0827, -0.6963],\n",
       "                [-0.8301, -0.5389,  0.6077]],\n",
       "       \n",
       "               [[-0.2233,  0.0827, -0.6963],\n",
       "                [-0.8301, -0.5389,  0.6077]],\n",
       "       \n",
       "               [[-0.2233,  0.0827, -0.6963],\n",
       "                [-0.8301, -0.5389,  0.6077]],\n",
       "       \n",
       "               [[-0.2233,  0.0827, -0.6963],\n",
       "                [-0.8301, -0.5389,  0.6077]]]),\n",
       "    x: Batch(\n",
       "           c: tensor([[[ 1.0628,  1.0622,  0.2754, -1.3692],\n",
       "                       [-0.9351,  1.0969,  0.3160,  0.1298],\n",
       "                       [-1.0289, -0.0498,  0.5864,  0.3890]],\n",
       "              \n",
       "                      [[ 1.0628,  1.0622,  0.2754, -1.3692],\n",
       "                       [-0.9351,  1.0969,  0.3160,  0.1298],\n",
       "                       [-1.0289, -0.0498,  0.5864,  0.3890]],\n",
       "              \n",
       "                      [[ 1.0628,  1.0622,  0.2754, -1.3692],\n",
       "                       [-0.9351,  1.0969,  0.3160,  0.1298],\n",
       "                       [-1.0289, -0.0498,  0.5864,  0.3890]],\n",
       "              \n",
       "                      [[ 1.0628,  1.0622,  0.2754, -1.3692],\n",
       "                       [-0.9351,  1.0969,  0.3160,  0.1298],\n",
       "                       [-1.0289, -0.0498,  0.5864,  0.3890]],\n",
       "              \n",
       "                      [[ 1.0628,  1.0622,  0.2754, -1.3692],\n",
       "                       [-0.9351,  1.0969,  0.3160,  0.1298],\n",
       "                       [-1.0289, -0.0498,  0.5864,  0.3890]],\n",
       "              \n",
       "                      [[ 1.0628,  1.0622,  0.2754, -1.3692],\n",
       "                       [-0.9351,  1.0969,  0.3160,  0.1298],\n",
       "                       [-1.0289, -0.0498,  0.5864,  0.3890]],\n",
       "              \n",
       "                      [[ 1.0628,  1.0622,  0.2754, -1.3692],\n",
       "                       [-0.9351,  1.0969,  0.3160,  0.1298],\n",
       "                       [-1.0289, -0.0498,  0.5864,  0.3890]],\n",
       "              \n",
       "                      [[ 1.0628,  1.0622,  0.2754, -1.3692],\n",
       "                       [-0.9351,  1.0969,  0.3160,  0.1298],\n",
       "                       [-1.0289, -0.0498,  0.5864,  0.3890]]]),\n",
       "       ),\n",
       ")"
      ]
     },
     "execution_count": 25,
     "metadata": {},
     "output_type": "execute_result"
    }
   ],
   "source": [
    "batches = [Batch(**_TREE_DATA_2) for _ in range(8)]\n",
    "\n",
    "Batch.stack(batches)"
   ]
  },
  {
   "cell_type": "code",
   "execution_count": 26,
   "id": "ec9037a3",
   "metadata": {
    "execution": {
     "iopub.execute_input": "2023-10-22T16:17:51.079925Z",
     "iopub.status.busy": "2023-10-22T16:17:51.079278Z",
     "iopub.status.idle": "2023-10-22T16:17:57.930094Z",
     "shell.execute_reply": "2023-10-22T16:17:57.929231Z"
    }
   },
   "outputs": [
    {
     "name": "stdout",
     "output_type": "stream",
     "text": [
      "84.3 µs ± 177 ns per loop (mean ± std. dev. of 7 runs, 10,000 loops each)\n"
     ]
    }
   ],
   "source": [
    "%timeit Batch.stack(batches)"
   ]
  },
  {
   "cell_type": "code",
   "execution_count": 27,
   "id": "cb8ab77e",
   "metadata": {
    "execution": {
     "iopub.execute_input": "2023-10-22T16:17:57.933732Z",
     "iopub.status.busy": "2023-10-22T16:17:57.933219Z",
     "iopub.status.idle": "2023-10-22T16:17:57.942132Z",
     "shell.execute_reply": "2023-10-22T16:17:57.941422Z"
    }
   },
   "outputs": [
    {
     "data": {
      "text/plain": [
       "Batch(\n",
       "    a: tensor([[-0.2233,  0.0827, -0.6963],\n",
       "               [-0.8301, -0.5389,  0.6077],\n",
       "               [-0.2233,  0.0827, -0.6963],\n",
       "               [-0.8301, -0.5389,  0.6077],\n",
       "               [-0.2233,  0.0827, -0.6963],\n",
       "               [-0.8301, -0.5389,  0.6077],\n",
       "               [-0.2233,  0.0827, -0.6963],\n",
       "               [-0.8301, -0.5389,  0.6077],\n",
       "               [-0.2233,  0.0827, -0.6963],\n",
       "               [-0.8301, -0.5389,  0.6077],\n",
       "               [-0.2233,  0.0827, -0.6963],\n",
       "               [-0.8301, -0.5389,  0.6077],\n",
       "               [-0.2233,  0.0827, -0.6963],\n",
       "               [-0.8301, -0.5389,  0.6077],\n",
       "               [-0.2233,  0.0827, -0.6963],\n",
       "               [-0.8301, -0.5389,  0.6077]]),\n",
       "    x: Batch(\n",
       "           c: tensor([[ 1.0628,  1.0622,  0.2754, -1.3692],\n",
       "                      [-0.9351,  1.0969,  0.3160,  0.1298],\n",
       "                      [-1.0289, -0.0498,  0.5864,  0.3890],\n",
       "                      [ 1.0628,  1.0622,  0.2754, -1.3692],\n",
       "                      [-0.9351,  1.0969,  0.3160,  0.1298],\n",
       "                      [-1.0289, -0.0498,  0.5864,  0.3890],\n",
       "                      [ 1.0628,  1.0622,  0.2754, -1.3692],\n",
       "                      [-0.9351,  1.0969,  0.3160,  0.1298],\n",
       "                      [-1.0289, -0.0498,  0.5864,  0.3890],\n",
       "                      [ 1.0628,  1.0622,  0.2754, -1.3692],\n",
       "                      [-0.9351,  1.0969,  0.3160,  0.1298],\n",
       "                      [-1.0289, -0.0498,  0.5864,  0.3890],\n",
       "                      [ 1.0628,  1.0622,  0.2754, -1.3692],\n",
       "                      [-0.9351,  1.0969,  0.3160,  0.1298],\n",
       "                      [-1.0289, -0.0498,  0.5864,  0.3890],\n",
       "                      [ 1.0628,  1.0622,  0.2754, -1.3692],\n",
       "                      [-0.9351,  1.0969,  0.3160,  0.1298],\n",
       "                      [-1.0289, -0.0498,  0.5864,  0.3890],\n",
       "                      [ 1.0628,  1.0622,  0.2754, -1.3692],\n",
       "                      [-0.9351,  1.0969,  0.3160,  0.1298],\n",
       "                      [-1.0289, -0.0498,  0.5864,  0.3890],\n",
       "                      [ 1.0628,  1.0622,  0.2754, -1.3692],\n",
       "                      [-0.9351,  1.0969,  0.3160,  0.1298],\n",
       "                      [-1.0289, -0.0498,  0.5864,  0.3890]]),\n",
       "       ),\n",
       ")"
      ]
     },
     "execution_count": 27,
     "metadata": {},
     "output_type": "execute_result"
    }
   ],
   "source": [
    "Batch.cat(batches)"
   ]
  },
  {
   "cell_type": "code",
   "execution_count": 28,
   "id": "18dfb045",
   "metadata": {
    "execution": {
     "iopub.execute_input": "2023-10-22T16:17:57.945480Z",
     "iopub.status.busy": "2023-10-22T16:17:57.944890Z",
     "iopub.status.idle": "2023-10-22T16:18:10.367111Z",
     "shell.execute_reply": "2023-10-22T16:18:10.366242Z"
    }
   },
   "outputs": [
    {
     "name": "stdout",
     "output_type": "stream",
     "text": [
      "153 µs ± 220 ns per loop (mean ± std. dev. of 7 runs, 10,000 loops each)\n"
     ]
    }
   ],
   "source": [
    "%timeit Batch.cat(batches)"
   ]
  },
  {
   "cell_type": "code",
   "execution_count": 29,
   "id": "c6688e51",
   "metadata": {
    "execution": {
     "iopub.execute_input": "2023-10-22T16:18:10.370926Z",
     "iopub.status.busy": "2023-10-22T16:18:10.370311Z",
     "iopub.status.idle": "2023-10-22T16:18:13.421209Z",
     "shell.execute_reply": "2023-10-22T16:18:13.420545Z"
    }
   },
   "outputs": [
    {
     "name": "stdout",
     "output_type": "stream",
     "text": [
      "374 µs ± 4.69 µs per loop (mean ± std. dev. of 7 runs, 1,000 loops each)\n"
     ]
    }
   ],
   "source": [
    "batch = Batch({\n",
    "    'obs': torch.randn(8, 4, 84, 84),\n",
    "    'action': torch.randint(0, 6, size=(8, 1,)),\n",
    "    'reward': torch.rand(8, 1)}\n",
    ")\n",
    "\n",
    "%timeit list(Batch.split(batch, 1, shuffle=False, merge_last=True))"
   ]
  },
  {
   "cell_type": "code",
   "execution_count": null,
   "id": "2539fbd9",
   "metadata": {},
   "outputs": [],
   "source": []
  }
 ],
 "metadata": {
  "kernelspec": {
   "display_name": "Python 3 (ipykernel)",
   "language": "python",
   "name": "python3"
  },
  "language_info": {
   "codemirror_mode": {
    "name": "ipython",
    "version": 3
   },
   "file_extension": ".py",
   "mimetype": "text/x-python",
   "name": "python",
   "nbconvert_exporter": "python",
   "pygments_lexer": "ipython3",
   "version": "3.8.18"
  }
 },
 "nbformat": 4,
 "nbformat_minor": 5
}
