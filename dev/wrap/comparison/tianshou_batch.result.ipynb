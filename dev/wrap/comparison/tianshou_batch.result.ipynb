{
 "cells": [
  {
   "cell_type": "markdown",
   "id": "9d39d946",
   "metadata": {},
   "source": [
    "# Comparison Between TreeValue and Tianshou Batch"
   ]
  },
  {
   "cell_type": "markdown",
   "id": "3c6db2d4",
   "metadata": {},
   "source": [
    "In this section, we will take a look at the feature and performance of the [Tianshou Batch](https://github.com/thu-ml/tianshou) library, which is developed by Tsinghua Machine Learning Group."
   ]
  },
  {
   "cell_type": "markdown",
   "id": "069361b0",
   "metadata": {},
   "source": [
    "Before starting the comparison, let us define some thing."
   ]
  },
  {
   "cell_type": "code",
   "execution_count": 1,
   "id": "06fc8d26",
   "metadata": {
    "execution": {
     "iopub.execute_input": "2023-03-06T18:26:48.115267Z",
     "iopub.status.busy": "2023-03-06T18:26:48.114819Z",
     "iopub.status.idle": "2023-03-06T18:26:49.135182Z",
     "shell.execute_reply": "2023-03-06T18:26:49.134218Z"
    }
   },
   "outputs": [
    {
     "name": "stderr",
     "output_type": "stream",
     "text": [
      "/opt/hostedtoolcache/Python/3.8.16/x64/lib/python3.8/site-packages/tqdm/auto.py:21: TqdmWarning: IProgress not found. Please update jupyter and ipywidgets. See https://ipywidgets.readthedocs.io/en/stable/user_install.html\n",
      "  from .autonotebook import tqdm as notebook_tqdm\n"
     ]
    }
   ],
   "source": [
    "import torch \n",
    "\n",
    "_TREE_DATA_1 = {'a': 1, 'b': 2, 'x': {'c': 3, 'd': 4}}\n",
    "_TREE_DATA_2 = {\n",
    "    'a': torch.randn(2, 3), \n",
    "    'x': {\n",
    "        'c': torch.randn(3, 4)\n",
    "    },\n",
    "}\n",
    "_TREE_DATA_3 = {\n",
    "    'obs': torch.randn(4, 84, 84),\n",
    "    'action': torch.randint(0, 6, size=(1,)),\n",
    "    'reward': torch.rand(1),\n",
    "}"
   ]
  },
  {
   "cell_type": "markdown",
   "id": "83461b25",
   "metadata": {},
   "source": [
    "## Read and Write Operation"
   ]
  },
  {
   "cell_type": "markdown",
   "id": "067b3f73",
   "metadata": {},
   "source": [
    "Reading and writing are the two most common operations in the tree data structure based on the data model (TreeValue and Tianshou Batch both belong to this type), so this section will compare the reading and writing performance of these two libraries."
   ]
  },
  {
   "cell_type": "markdown",
   "id": "5d09a5b7",
   "metadata": {},
   "source": [
    "### TreeValue's Get and Set"
   ]
  },
  {
   "cell_type": "code",
   "execution_count": 2,
   "id": "9519c4bb",
   "metadata": {
    "execution": {
     "iopub.execute_input": "2023-03-06T18:26:49.139628Z",
     "iopub.status.busy": "2023-03-06T18:26:49.138999Z",
     "iopub.status.idle": "2023-03-06T18:26:49.176650Z",
     "shell.execute_reply": "2023-03-06T18:26:49.175822Z"
    }
   },
   "outputs": [],
   "source": [
    "from treevalue import FastTreeValue\n",
    "\n",
    "t = FastTreeValue(_TREE_DATA_2)"
   ]
  },
  {
   "cell_type": "code",
   "execution_count": 3,
   "id": "11c37677",
   "metadata": {
    "execution": {
     "iopub.execute_input": "2023-03-06T18:26:49.180502Z",
     "iopub.status.busy": "2023-03-06T18:26:49.180067Z",
     "iopub.status.idle": "2023-03-06T18:26:49.191926Z",
     "shell.execute_reply": "2023-03-06T18:26:49.191007Z"
    }
   },
   "outputs": [
    {
     "data": {
      "text/plain": [
       "<FastTreeValue 0x7fda6d6b2bb0>\n",
       "├── 'a' --> tensor([[ 2.7540, -2.9680, -0.4019],\n",
       "│                   [-0.1188,  0.6198, -0.6591]])\n",
       "└── 'x' --> <FastTreeValue 0x7fda6d6b2df0>\n",
       "    └── 'c' --> tensor([[-0.3648,  1.8585,  0.1400, -1.8218],\n",
       "                        [-1.8204,  0.4281,  0.3082,  0.9682],\n",
       "                        [ 0.2230,  0.0945,  2.0807,  1.0309]])"
      ]
     },
     "execution_count": 3,
     "metadata": {},
     "output_type": "execute_result"
    }
   ],
   "source": [
    "t"
   ]
  },
  {
   "cell_type": "code",
   "execution_count": 4,
   "id": "fd70b0b9",
   "metadata": {
    "execution": {
     "iopub.execute_input": "2023-03-06T18:26:49.195395Z",
     "iopub.status.busy": "2023-03-06T18:26:49.194788Z",
     "iopub.status.idle": "2023-03-06T18:26:49.206100Z",
     "shell.execute_reply": "2023-03-06T18:26:49.205449Z"
    }
   },
   "outputs": [
    {
     "data": {
      "text/plain": [
       "tensor([[ 2.7540, -2.9680, -0.4019],\n",
       "        [-0.1188,  0.6198, -0.6591]])"
      ]
     },
     "execution_count": 4,
     "metadata": {},
     "output_type": "execute_result"
    }
   ],
   "source": [
    "t.a"
   ]
  },
  {
   "cell_type": "code",
   "execution_count": 5,
   "id": "c18197bd",
   "metadata": {
    "execution": {
     "iopub.execute_input": "2023-03-06T18:26:49.209417Z",
     "iopub.status.busy": "2023-03-06T18:26:49.208882Z",
     "iopub.status.idle": "2023-03-06T18:26:54.342755Z",
     "shell.execute_reply": "2023-03-06T18:26:54.341880Z"
    }
   },
   "outputs": [
    {
     "name": "stdout",
     "output_type": "stream",
     "text": [
      "63.2 ns ± 0.115 ns per loop (mean ± std. dev. of 7 runs, 10,000,000 loops each)\n"
     ]
    }
   ],
   "source": [
    "%timeit t.a"
   ]
  },
  {
   "cell_type": "code",
   "execution_count": 6,
   "id": "bd52f867",
   "metadata": {
    "execution": {
     "iopub.execute_input": "2023-03-06T18:26:54.346576Z",
     "iopub.status.busy": "2023-03-06T18:26:54.346038Z",
     "iopub.status.idle": "2023-03-06T18:26:54.353687Z",
     "shell.execute_reply": "2023-03-06T18:26:54.352958Z"
    }
   },
   "outputs": [
    {
     "data": {
      "text/plain": [
       "<FastTreeValue 0x7fda6d6b2bb0>\n",
       "├── 'a' --> tensor([[ 0.4885,  1.5179,  0.4968],\n",
       "│                   [ 1.3098, -0.6284,  1.0075]])\n",
       "└── 'x' --> <FastTreeValue 0x7fda6d6b2df0>\n",
       "    └── 'c' --> tensor([[-0.3648,  1.8585,  0.1400, -1.8218],\n",
       "                        [-1.8204,  0.4281,  0.3082,  0.9682],\n",
       "                        [ 0.2230,  0.0945,  2.0807,  1.0309]])"
      ]
     },
     "execution_count": 6,
     "metadata": {},
     "output_type": "execute_result"
    }
   ],
   "source": [
    "new_value = torch.randn(2, 3)\n",
    "t.a = new_value\n",
    "\n",
    "t"
   ]
  },
  {
   "cell_type": "code",
   "execution_count": 7,
   "id": "bbe04d1c",
   "metadata": {
    "execution": {
     "iopub.execute_input": "2023-03-06T18:26:54.356904Z",
     "iopub.status.busy": "2023-03-06T18:26:54.356386Z",
     "iopub.status.idle": "2023-03-06T18:27:00.192576Z",
     "shell.execute_reply": "2023-03-06T18:27:00.191683Z"
    }
   },
   "outputs": [
    {
     "name": "stdout",
     "output_type": "stream",
     "text": [
      "71.8 ns ± 0.0544 ns per loop (mean ± std. dev. of 7 runs, 10,000,000 loops each)\n"
     ]
    }
   ],
   "source": [
    "%timeit t.a = new_value"
   ]
  },
  {
   "cell_type": "markdown",
   "id": "48c49731",
   "metadata": {},
   "source": [
    "### Tianshou Batch's Get and Set"
   ]
  },
  {
   "cell_type": "code",
   "execution_count": 8,
   "id": "f1bb14c1",
   "metadata": {
    "execution": {
     "iopub.execute_input": "2023-03-06T18:27:00.196240Z",
     "iopub.status.busy": "2023-03-06T18:27:00.195749Z",
     "iopub.status.idle": "2023-03-06T18:27:00.574990Z",
     "shell.execute_reply": "2023-03-06T18:27:00.574219Z"
    }
   },
   "outputs": [],
   "source": [
    "from tianshou.data import Batch\n",
    "\n",
    "b = Batch(**_TREE_DATA_2)"
   ]
  },
  {
   "cell_type": "code",
   "execution_count": 9,
   "id": "cb0777c3",
   "metadata": {
    "execution": {
     "iopub.execute_input": "2023-03-06T18:27:00.578804Z",
     "iopub.status.busy": "2023-03-06T18:27:00.578309Z",
     "iopub.status.idle": "2023-03-06T18:27:00.585152Z",
     "shell.execute_reply": "2023-03-06T18:27:00.584536Z"
    }
   },
   "outputs": [
    {
     "data": {
      "text/plain": [
       "Batch(\n",
       "    a: tensor([[ 2.7540, -2.9680, -0.4019],\n",
       "               [-0.1188,  0.6198, -0.6591]]),\n",
       "    x: Batch(\n",
       "           c: tensor([[-0.3648,  1.8585,  0.1400, -1.8218],\n",
       "                      [-1.8204,  0.4281,  0.3082,  0.9682],\n",
       "                      [ 0.2230,  0.0945,  2.0807,  1.0309]]),\n",
       "       ),\n",
       ")"
      ]
     },
     "execution_count": 9,
     "metadata": {},
     "output_type": "execute_result"
    }
   ],
   "source": [
    "b"
   ]
  },
  {
   "cell_type": "code",
   "execution_count": 10,
   "id": "43ef8ea3",
   "metadata": {
    "execution": {
     "iopub.execute_input": "2023-03-06T18:27:00.587977Z",
     "iopub.status.busy": "2023-03-06T18:27:00.587427Z",
     "iopub.status.idle": "2023-03-06T18:27:00.592429Z",
     "shell.execute_reply": "2023-03-06T18:27:00.591742Z"
    }
   },
   "outputs": [
    {
     "data": {
      "text/plain": [
       "tensor([[ 2.7540, -2.9680, -0.4019],\n",
       "        [-0.1188,  0.6198, -0.6591]])"
      ]
     },
     "execution_count": 10,
     "metadata": {},
     "output_type": "execute_result"
    }
   ],
   "source": [
    "b.a"
   ]
  },
  {
   "cell_type": "code",
   "execution_count": 11,
   "id": "b785ab72",
   "metadata": {
    "execution": {
     "iopub.execute_input": "2023-03-06T18:27:00.594973Z",
     "iopub.status.busy": "2023-03-06T18:27:00.594610Z",
     "iopub.status.idle": "2023-03-06T18:27:05.380382Z",
     "shell.execute_reply": "2023-03-06T18:27:05.379510Z"
    }
   },
   "outputs": [
    {
     "name": "stdout",
     "output_type": "stream",
     "text": [
      "58.9 ns ± 0.03 ns per loop (mean ± std. dev. of 7 runs, 10,000,000 loops each)\n"
     ]
    }
   ],
   "source": [
    "%timeit b.a"
   ]
  },
  {
   "cell_type": "code",
   "execution_count": 12,
   "id": "ad54dc69",
   "metadata": {
    "execution": {
     "iopub.execute_input": "2023-03-06T18:27:05.384539Z",
     "iopub.status.busy": "2023-03-06T18:27:05.383874Z",
     "iopub.status.idle": "2023-03-06T18:27:05.391608Z",
     "shell.execute_reply": "2023-03-06T18:27:05.390920Z"
    }
   },
   "outputs": [
    {
     "data": {
      "text/plain": [
       "Batch(\n",
       "    a: tensor([[ 1.1808,  1.9419, -0.2587],\n",
       "               [ 0.4704,  0.1879,  0.7427]]),\n",
       "    x: Batch(\n",
       "           c: tensor([[-0.3648,  1.8585,  0.1400, -1.8218],\n",
       "                      [-1.8204,  0.4281,  0.3082,  0.9682],\n",
       "                      [ 0.2230,  0.0945,  2.0807,  1.0309]]),\n",
       "       ),\n",
       ")"
      ]
     },
     "execution_count": 12,
     "metadata": {},
     "output_type": "execute_result"
    }
   ],
   "source": [
    "new_value = torch.randn(2, 3)\n",
    "b.a = new_value\n",
    "\n",
    "b"
   ]
  },
  {
   "cell_type": "code",
   "execution_count": 13,
   "id": "29b1d0bf",
   "metadata": {
    "execution": {
     "iopub.execute_input": "2023-03-06T18:27:05.394317Z",
     "iopub.status.busy": "2023-03-06T18:27:05.393908Z",
     "iopub.status.idle": "2023-03-06T18:27:09.467451Z",
     "shell.execute_reply": "2023-03-06T18:27:09.466450Z"
    }
   },
   "outputs": [
    {
     "name": "stdout",
     "output_type": "stream",
     "text": [
      "500 ns ± 1.2 ns per loop (mean ± std. dev. of 7 runs, 1,000,000 loops each)\n"
     ]
    }
   ],
   "source": [
    "%timeit b.a = new_value"
   ]
  },
  {
   "cell_type": "markdown",
   "id": "b61ad1d0",
   "metadata": {},
   "source": [
    "## Initialization"
   ]
  },
  {
   "cell_type": "markdown",
   "id": "d70f0d54",
   "metadata": {},
   "source": [
    "### TreeValue's Initialization"
   ]
  },
  {
   "cell_type": "code",
   "execution_count": 14,
   "id": "d32a679b",
   "metadata": {
    "execution": {
     "iopub.execute_input": "2023-03-06T18:27:09.471854Z",
     "iopub.status.busy": "2023-03-06T18:27:09.471321Z",
     "iopub.status.idle": "2023-03-06T18:27:16.634967Z",
     "shell.execute_reply": "2023-03-06T18:27:16.634203Z"
    }
   },
   "outputs": [
    {
     "name": "stdout",
     "output_type": "stream",
     "text": [
      "881 ns ± 3.04 ns per loop (mean ± std. dev. of 7 runs, 1,000,000 loops each)\n"
     ]
    }
   ],
   "source": [
    "%timeit FastTreeValue(_TREE_DATA_1)"
   ]
  },
  {
   "cell_type": "markdown",
   "id": "24f3707b",
   "metadata": {},
   "source": [
    "### Tianshou Batch's Initialization"
   ]
  },
  {
   "cell_type": "code",
   "execution_count": 15,
   "id": "ac3958df",
   "metadata": {
    "execution": {
     "iopub.execute_input": "2023-03-06T18:27:16.638929Z",
     "iopub.status.busy": "2023-03-06T18:27:16.638285Z",
     "iopub.status.idle": "2023-03-06T18:27:25.414277Z",
     "shell.execute_reply": "2023-03-06T18:27:25.413576Z"
    }
   },
   "outputs": [
    {
     "name": "stdout",
     "output_type": "stream",
     "text": [
      "10.8 µs ± 11.4 ns per loop (mean ± std. dev. of 7 runs, 100,000 loops each)\n"
     ]
    }
   ],
   "source": [
    "%timeit Batch(**_TREE_DATA_1)"
   ]
  },
  {
   "cell_type": "markdown",
   "id": "1ab82e2d",
   "metadata": {},
   "source": [
    "## Deep Copy Operation"
   ]
  },
  {
   "cell_type": "code",
   "execution_count": 16,
   "id": "210a9442",
   "metadata": {
    "execution": {
     "iopub.execute_input": "2023-03-06T18:27:25.417871Z",
     "iopub.status.busy": "2023-03-06T18:27:25.417385Z",
     "iopub.status.idle": "2023-03-06T18:27:25.421698Z",
     "shell.execute_reply": "2023-03-06T18:27:25.421054Z"
    }
   },
   "outputs": [],
   "source": [
    "import copy"
   ]
  },
  {
   "cell_type": "markdown",
   "id": "5a736274",
   "metadata": {},
   "source": [
    "### Deep Copy of TreeValue"
   ]
  },
  {
   "cell_type": "code",
   "execution_count": 17,
   "id": "f9bcadd6",
   "metadata": {
    "execution": {
     "iopub.execute_input": "2023-03-06T18:27:25.424652Z",
     "iopub.status.busy": "2023-03-06T18:27:25.424291Z",
     "iopub.status.idle": "2023-03-06T18:27:37.029121Z",
     "shell.execute_reply": "2023-03-06T18:27:37.028427Z"
    }
   },
   "outputs": [
    {
     "name": "stdout",
     "output_type": "stream",
     "text": [
      "143 µs ± 1.32 µs per loop (mean ± std. dev. of 7 runs, 10,000 loops each)\n"
     ]
    }
   ],
   "source": [
    "t3 = FastTreeValue(_TREE_DATA_3)\n",
    "%timeit copy.deepcopy(t3)"
   ]
  },
  {
   "cell_type": "markdown",
   "id": "bf8be7ea",
   "metadata": {},
   "source": [
    "### Deep Copy of Tianshou Batch"
   ]
  },
  {
   "cell_type": "code",
   "execution_count": 18,
   "id": "91998e6f",
   "metadata": {
    "execution": {
     "iopub.execute_input": "2023-03-06T18:27:37.032634Z",
     "iopub.status.busy": "2023-03-06T18:27:37.032194Z",
     "iopub.status.idle": "2023-03-06T18:27:48.543637Z",
     "shell.execute_reply": "2023-03-06T18:27:48.542817Z"
    }
   },
   "outputs": [
    {
     "name": "stdout",
     "output_type": "stream",
     "text": [
      "142 µs ± 329 ns per loop (mean ± std. dev. of 7 runs, 10,000 loops each)\n"
     ]
    }
   ],
   "source": [
    "b3 = Batch(**_TREE_DATA_3)\n",
    "%timeit copy.deepcopy(b3)"
   ]
  },
  {
   "cell_type": "markdown",
   "id": "223162fb",
   "metadata": {},
   "source": [
    "## Stack, Concat and Split Operation"
   ]
  },
  {
   "cell_type": "markdown",
   "id": "85fa4a73",
   "metadata": {},
   "source": [
    "### Performance of TreeValue"
   ]
  },
  {
   "cell_type": "code",
   "execution_count": 19,
   "id": "a0c2b697",
   "metadata": {
    "execution": {
     "iopub.execute_input": "2023-03-06T18:27:48.547465Z",
     "iopub.status.busy": "2023-03-06T18:27:48.546901Z",
     "iopub.status.idle": "2023-03-06T18:27:48.551553Z",
     "shell.execute_reply": "2023-03-06T18:27:48.550917Z"
    }
   },
   "outputs": [],
   "source": [
    "trees = [FastTreeValue(_TREE_DATA_2) for _ in range(8)]"
   ]
  },
  {
   "cell_type": "code",
   "execution_count": 20,
   "id": "017ea5a5",
   "metadata": {
    "execution": {
     "iopub.execute_input": "2023-03-06T18:27:48.554562Z",
     "iopub.status.busy": "2023-03-06T18:27:48.554006Z",
     "iopub.status.idle": "2023-03-06T18:27:48.563039Z",
     "shell.execute_reply": "2023-03-06T18:27:48.562431Z"
    }
   },
   "outputs": [
    {
     "data": {
      "text/plain": [
       "<FastTreeValue 0x7fd9c4f27970>\n",
       "├── 'a' --> tensor([[[ 2.7540, -2.9680, -0.4019],\n",
       "│                    [-0.1188,  0.6198, -0.6591]],\n",
       "│           \n",
       "│                   [[ 2.7540, -2.9680, -0.4019],\n",
       "│                    [-0.1188,  0.6198, -0.6591]],\n",
       "│           \n",
       "│                   [[ 2.7540, -2.9680, -0.4019],\n",
       "│                    [-0.1188,  0.6198, -0.6591]],\n",
       "│           \n",
       "│                   [[ 2.7540, -2.9680, -0.4019],\n",
       "│                    [-0.1188,  0.6198, -0.6591]],\n",
       "│           \n",
       "│                   [[ 2.7540, -2.9680, -0.4019],\n",
       "│                    [-0.1188,  0.6198, -0.6591]],\n",
       "│           \n",
       "│                   [[ 2.7540, -2.9680, -0.4019],\n",
       "│                    [-0.1188,  0.6198, -0.6591]],\n",
       "│           \n",
       "│                   [[ 2.7540, -2.9680, -0.4019],\n",
       "│                    [-0.1188,  0.6198, -0.6591]],\n",
       "│           \n",
       "│                   [[ 2.7540, -2.9680, -0.4019],\n",
       "│                    [-0.1188,  0.6198, -0.6591]]])\n",
       "└── 'x' --> <FastTreeValue 0x7fda686282b0>\n",
       "    └── 'c' --> tensor([[[-0.3648,  1.8585,  0.1400, -1.8218],\n",
       "                         [-1.8204,  0.4281,  0.3082,  0.9682],\n",
       "                         [ 0.2230,  0.0945,  2.0807,  1.0309]],\n",
       "                \n",
       "                        [[-0.3648,  1.8585,  0.1400, -1.8218],\n",
       "                         [-1.8204,  0.4281,  0.3082,  0.9682],\n",
       "                         [ 0.2230,  0.0945,  2.0807,  1.0309]],\n",
       "                \n",
       "                        [[-0.3648,  1.8585,  0.1400, -1.8218],\n",
       "                         [-1.8204,  0.4281,  0.3082,  0.9682],\n",
       "                         [ 0.2230,  0.0945,  2.0807,  1.0309]],\n",
       "                \n",
       "                        [[-0.3648,  1.8585,  0.1400, -1.8218],\n",
       "                         [-1.8204,  0.4281,  0.3082,  0.9682],\n",
       "                         [ 0.2230,  0.0945,  2.0807,  1.0309]],\n",
       "                \n",
       "                        [[-0.3648,  1.8585,  0.1400, -1.8218],\n",
       "                         [-1.8204,  0.4281,  0.3082,  0.9682],\n",
       "                         [ 0.2230,  0.0945,  2.0807,  1.0309]],\n",
       "                \n",
       "                        [[-0.3648,  1.8585,  0.1400, -1.8218],\n",
       "                         [-1.8204,  0.4281,  0.3082,  0.9682],\n",
       "                         [ 0.2230,  0.0945,  2.0807,  1.0309]],\n",
       "                \n",
       "                        [[-0.3648,  1.8585,  0.1400, -1.8218],\n",
       "                         [-1.8204,  0.4281,  0.3082,  0.9682],\n",
       "                         [ 0.2230,  0.0945,  2.0807,  1.0309]],\n",
       "                \n",
       "                        [[-0.3648,  1.8585,  0.1400, -1.8218],\n",
       "                         [-1.8204,  0.4281,  0.3082,  0.9682],\n",
       "                         [ 0.2230,  0.0945,  2.0807,  1.0309]]])"
      ]
     },
     "execution_count": 20,
     "metadata": {},
     "output_type": "execute_result"
    }
   ],
   "source": [
    "t_stack = FastTreeValue.func(subside=True)(torch.stack)\n",
    "\n",
    "t_stack(trees)"
   ]
  },
  {
   "cell_type": "code",
   "execution_count": 21,
   "id": "f8b3f415",
   "metadata": {
    "execution": {
     "iopub.execute_input": "2023-03-06T18:27:48.565553Z",
     "iopub.status.busy": "2023-03-06T18:27:48.565199Z",
     "iopub.status.idle": "2023-03-06T18:27:51.232829Z",
     "shell.execute_reply": "2023-03-06T18:27:51.231983Z"
    }
   },
   "outputs": [
    {
     "name": "stdout",
     "output_type": "stream",
     "text": [
      "32.8 µs ± 115 ns per loop (mean ± std. dev. of 7 runs, 10,000 loops each)\n"
     ]
    }
   ],
   "source": [
    "%timeit t_stack(trees)"
   ]
  },
  {
   "cell_type": "code",
   "execution_count": 22,
   "id": "94b56771",
   "metadata": {
    "execution": {
     "iopub.execute_input": "2023-03-06T18:27:51.236503Z",
     "iopub.status.busy": "2023-03-06T18:27:51.235571Z",
     "iopub.status.idle": "2023-03-06T18:27:51.244499Z",
     "shell.execute_reply": "2023-03-06T18:27:51.243867Z"
    }
   },
   "outputs": [
    {
     "data": {
      "text/plain": [
       "<FastTreeValue 0x7fda6d709820>\n",
       "├── 'a' --> tensor([[ 2.7540, -2.9680, -0.4019],\n",
       "│                   [-0.1188,  0.6198, -0.6591],\n",
       "│                   [ 2.7540, -2.9680, -0.4019],\n",
       "│                   [-0.1188,  0.6198, -0.6591],\n",
       "│                   [ 2.7540, -2.9680, -0.4019],\n",
       "│                   [-0.1188,  0.6198, -0.6591],\n",
       "│                   [ 2.7540, -2.9680, -0.4019],\n",
       "│                   [-0.1188,  0.6198, -0.6591],\n",
       "│                   [ 2.7540, -2.9680, -0.4019],\n",
       "│                   [-0.1188,  0.6198, -0.6591],\n",
       "│                   [ 2.7540, -2.9680, -0.4019],\n",
       "│                   [-0.1188,  0.6198, -0.6591],\n",
       "│                   [ 2.7540, -2.9680, -0.4019],\n",
       "│                   [-0.1188,  0.6198, -0.6591],\n",
       "│                   [ 2.7540, -2.9680, -0.4019],\n",
       "│                   [-0.1188,  0.6198, -0.6591]])\n",
       "└── 'x' --> <FastTreeValue 0x7fda6d709880>\n",
       "    └── 'c' --> tensor([[-0.3648,  1.8585,  0.1400, -1.8218],\n",
       "                        [-1.8204,  0.4281,  0.3082,  0.9682],\n",
       "                        [ 0.2230,  0.0945,  2.0807,  1.0309],\n",
       "                        [-0.3648,  1.8585,  0.1400, -1.8218],\n",
       "                        [-1.8204,  0.4281,  0.3082,  0.9682],\n",
       "                        [ 0.2230,  0.0945,  2.0807,  1.0309],\n",
       "                        [-0.3648,  1.8585,  0.1400, -1.8218],\n",
       "                        [-1.8204,  0.4281,  0.3082,  0.9682],\n",
       "                        [ 0.2230,  0.0945,  2.0807,  1.0309],\n",
       "                        [-0.3648,  1.8585,  0.1400, -1.8218],\n",
       "                        [-1.8204,  0.4281,  0.3082,  0.9682],\n",
       "                        [ 0.2230,  0.0945,  2.0807,  1.0309],\n",
       "                        [-0.3648,  1.8585,  0.1400, -1.8218],\n",
       "                        [-1.8204,  0.4281,  0.3082,  0.9682],\n",
       "                        [ 0.2230,  0.0945,  2.0807,  1.0309],\n",
       "                        [-0.3648,  1.8585,  0.1400, -1.8218],\n",
       "                        [-1.8204,  0.4281,  0.3082,  0.9682],\n",
       "                        [ 0.2230,  0.0945,  2.0807,  1.0309],\n",
       "                        [-0.3648,  1.8585,  0.1400, -1.8218],\n",
       "                        [-1.8204,  0.4281,  0.3082,  0.9682],\n",
       "                        [ 0.2230,  0.0945,  2.0807,  1.0309],\n",
       "                        [-0.3648,  1.8585,  0.1400, -1.8218],\n",
       "                        [-1.8204,  0.4281,  0.3082,  0.9682],\n",
       "                        [ 0.2230,  0.0945,  2.0807,  1.0309]])"
      ]
     },
     "execution_count": 22,
     "metadata": {},
     "output_type": "execute_result"
    }
   ],
   "source": [
    "t_cat = FastTreeValue.func(subside=True)(torch.cat)\n",
    "\n",
    "t_cat(trees)"
   ]
  },
  {
   "cell_type": "code",
   "execution_count": 23,
   "id": "5e9c06a6",
   "metadata": {
    "execution": {
     "iopub.execute_input": "2023-03-06T18:27:51.247464Z",
     "iopub.status.busy": "2023-03-06T18:27:51.247019Z",
     "iopub.status.idle": "2023-03-06T18:27:53.701347Z",
     "shell.execute_reply": "2023-03-06T18:27:53.700500Z"
    }
   },
   "outputs": [
    {
     "name": "stdout",
     "output_type": "stream",
     "text": [
      "30.1 µs ± 60.6 ns per loop (mean ± std. dev. of 7 runs, 10,000 loops each)\n"
     ]
    }
   ],
   "source": [
    "%timeit t_cat(trees)"
   ]
  },
  {
   "cell_type": "code",
   "execution_count": 24,
   "id": "a3ab5c8f",
   "metadata": {
    "execution": {
     "iopub.execute_input": "2023-03-06T18:27:53.704891Z",
     "iopub.status.busy": "2023-03-06T18:27:53.704277Z",
     "iopub.status.idle": "2023-03-06T18:27:58.243596Z",
     "shell.execute_reply": "2023-03-06T18:27:58.242781Z"
    }
   },
   "outputs": [
    {
     "name": "stdout",
     "output_type": "stream",
     "text": [
      "55.7 µs ± 37 ns per loop (mean ± std. dev. of 7 runs, 10,000 loops each)\n"
     ]
    }
   ],
   "source": [
    "t_split = FastTreeValue.func(rise=True)(torch.split)\n",
    "tree = FastTreeValue({\n",
    "    'obs': torch.randn(8, 4, 84, 84),\n",
    "    'action': torch.randint(0, 6, size=(8, 1,)),\n",
    "    'reward': torch.rand(8, 1),\n",
    "})\n",
    "\n",
    "%timeit t_split(tree, 1)"
   ]
  },
  {
   "cell_type": "markdown",
   "id": "31c3ec0b",
   "metadata": {},
   "source": [
    "### Performance of Tianshou Batch"
   ]
  },
  {
   "cell_type": "code",
   "execution_count": 25,
   "id": "9ead828a",
   "metadata": {
    "execution": {
     "iopub.execute_input": "2023-03-06T18:27:58.247032Z",
     "iopub.status.busy": "2023-03-06T18:27:58.246769Z",
     "iopub.status.idle": "2023-03-06T18:27:58.255083Z",
     "shell.execute_reply": "2023-03-06T18:27:58.254417Z"
    }
   },
   "outputs": [
    {
     "data": {
      "text/plain": [
       "Batch(\n",
       "    a: tensor([[[ 2.7540, -2.9680, -0.4019],\n",
       "                [-0.1188,  0.6198, -0.6591]],\n",
       "       \n",
       "               [[ 2.7540, -2.9680, -0.4019],\n",
       "                [-0.1188,  0.6198, -0.6591]],\n",
       "       \n",
       "               [[ 2.7540, -2.9680, -0.4019],\n",
       "                [-0.1188,  0.6198, -0.6591]],\n",
       "       \n",
       "               [[ 2.7540, -2.9680, -0.4019],\n",
       "                [-0.1188,  0.6198, -0.6591]],\n",
       "       \n",
       "               [[ 2.7540, -2.9680, -0.4019],\n",
       "                [-0.1188,  0.6198, -0.6591]],\n",
       "       \n",
       "               [[ 2.7540, -2.9680, -0.4019],\n",
       "                [-0.1188,  0.6198, -0.6591]],\n",
       "       \n",
       "               [[ 2.7540, -2.9680, -0.4019],\n",
       "                [-0.1188,  0.6198, -0.6591]],\n",
       "       \n",
       "               [[ 2.7540, -2.9680, -0.4019],\n",
       "                [-0.1188,  0.6198, -0.6591]]]),\n",
       "    x: Batch(\n",
       "           c: tensor([[[-0.3648,  1.8585,  0.1400, -1.8218],\n",
       "                       [-1.8204,  0.4281,  0.3082,  0.9682],\n",
       "                       [ 0.2230,  0.0945,  2.0807,  1.0309]],\n",
       "              \n",
       "                      [[-0.3648,  1.8585,  0.1400, -1.8218],\n",
       "                       [-1.8204,  0.4281,  0.3082,  0.9682],\n",
       "                       [ 0.2230,  0.0945,  2.0807,  1.0309]],\n",
       "              \n",
       "                      [[-0.3648,  1.8585,  0.1400, -1.8218],\n",
       "                       [-1.8204,  0.4281,  0.3082,  0.9682],\n",
       "                       [ 0.2230,  0.0945,  2.0807,  1.0309]],\n",
       "              \n",
       "                      [[-0.3648,  1.8585,  0.1400, -1.8218],\n",
       "                       [-1.8204,  0.4281,  0.3082,  0.9682],\n",
       "                       [ 0.2230,  0.0945,  2.0807,  1.0309]],\n",
       "              \n",
       "                      [[-0.3648,  1.8585,  0.1400, -1.8218],\n",
       "                       [-1.8204,  0.4281,  0.3082,  0.9682],\n",
       "                       [ 0.2230,  0.0945,  2.0807,  1.0309]],\n",
       "              \n",
       "                      [[-0.3648,  1.8585,  0.1400, -1.8218],\n",
       "                       [-1.8204,  0.4281,  0.3082,  0.9682],\n",
       "                       [ 0.2230,  0.0945,  2.0807,  1.0309]],\n",
       "              \n",
       "                      [[-0.3648,  1.8585,  0.1400, -1.8218],\n",
       "                       [-1.8204,  0.4281,  0.3082,  0.9682],\n",
       "                       [ 0.2230,  0.0945,  2.0807,  1.0309]],\n",
       "              \n",
       "                      [[-0.3648,  1.8585,  0.1400, -1.8218],\n",
       "                       [-1.8204,  0.4281,  0.3082,  0.9682],\n",
       "                       [ 0.2230,  0.0945,  2.0807,  1.0309]]]),\n",
       "       ),\n",
       ")"
      ]
     },
     "execution_count": 25,
     "metadata": {},
     "output_type": "execute_result"
    }
   ],
   "source": [
    "batches = [Batch(**_TREE_DATA_2) for _ in range(8)]\n",
    "\n",
    "Batch.stack(batches)"
   ]
  },
  {
   "cell_type": "code",
   "execution_count": 26,
   "id": "ec9037a3",
   "metadata": {
    "execution": {
     "iopub.execute_input": "2023-03-06T18:27:58.257978Z",
     "iopub.status.busy": "2023-03-06T18:27:58.257413Z",
     "iopub.status.idle": "2023-03-06T18:28:04.613719Z",
     "shell.execute_reply": "2023-03-06T18:28:04.612802Z"
    }
   },
   "outputs": [
    {
     "name": "stdout",
     "output_type": "stream",
     "text": [
      "78.3 µs ± 238 ns per loop (mean ± std. dev. of 7 runs, 10,000 loops each)\n"
     ]
    }
   ],
   "source": [
    "%timeit Batch.stack(batches)"
   ]
  },
  {
   "cell_type": "code",
   "execution_count": 27,
   "id": "cb8ab77e",
   "metadata": {
    "execution": {
     "iopub.execute_input": "2023-03-06T18:28:04.617840Z",
     "iopub.status.busy": "2023-03-06T18:28:04.617112Z",
     "iopub.status.idle": "2023-03-06T18:28:04.626879Z",
     "shell.execute_reply": "2023-03-06T18:28:04.626079Z"
    }
   },
   "outputs": [
    {
     "data": {
      "text/plain": [
       "Batch(\n",
       "    a: tensor([[ 2.7540, -2.9680, -0.4019],\n",
       "               [-0.1188,  0.6198, -0.6591],\n",
       "               [ 2.7540, -2.9680, -0.4019],\n",
       "               [-0.1188,  0.6198, -0.6591],\n",
       "               [ 2.7540, -2.9680, -0.4019],\n",
       "               [-0.1188,  0.6198, -0.6591],\n",
       "               [ 2.7540, -2.9680, -0.4019],\n",
       "               [-0.1188,  0.6198, -0.6591],\n",
       "               [ 2.7540, -2.9680, -0.4019],\n",
       "               [-0.1188,  0.6198, -0.6591],\n",
       "               [ 2.7540, -2.9680, -0.4019],\n",
       "               [-0.1188,  0.6198, -0.6591],\n",
       "               [ 2.7540, -2.9680, -0.4019],\n",
       "               [-0.1188,  0.6198, -0.6591],\n",
       "               [ 2.7540, -2.9680, -0.4019],\n",
       "               [-0.1188,  0.6198, -0.6591]]),\n",
       "    x: Batch(\n",
       "           c: tensor([[-0.3648,  1.8585,  0.1400, -1.8218],\n",
       "                      [-1.8204,  0.4281,  0.3082,  0.9682],\n",
       "                      [ 0.2230,  0.0945,  2.0807,  1.0309],\n",
       "                      [-0.3648,  1.8585,  0.1400, -1.8218],\n",
       "                      [-1.8204,  0.4281,  0.3082,  0.9682],\n",
       "                      [ 0.2230,  0.0945,  2.0807,  1.0309],\n",
       "                      [-0.3648,  1.8585,  0.1400, -1.8218],\n",
       "                      [-1.8204,  0.4281,  0.3082,  0.9682],\n",
       "                      [ 0.2230,  0.0945,  2.0807,  1.0309],\n",
       "                      [-0.3648,  1.8585,  0.1400, -1.8218],\n",
       "                      [-1.8204,  0.4281,  0.3082,  0.9682],\n",
       "                      [ 0.2230,  0.0945,  2.0807,  1.0309],\n",
       "                      [-0.3648,  1.8585,  0.1400, -1.8218],\n",
       "                      [-1.8204,  0.4281,  0.3082,  0.9682],\n",
       "                      [ 0.2230,  0.0945,  2.0807,  1.0309],\n",
       "                      [-0.3648,  1.8585,  0.1400, -1.8218],\n",
       "                      [-1.8204,  0.4281,  0.3082,  0.9682],\n",
       "                      [ 0.2230,  0.0945,  2.0807,  1.0309],\n",
       "                      [-0.3648,  1.8585,  0.1400, -1.8218],\n",
       "                      [-1.8204,  0.4281,  0.3082,  0.9682],\n",
       "                      [ 0.2230,  0.0945,  2.0807,  1.0309],\n",
       "                      [-0.3648,  1.8585,  0.1400, -1.8218],\n",
       "                      [-1.8204,  0.4281,  0.3082,  0.9682],\n",
       "                      [ 0.2230,  0.0945,  2.0807,  1.0309]]),\n",
       "       ),\n",
       ")"
      ]
     },
     "execution_count": 27,
     "metadata": {},
     "output_type": "execute_result"
    }
   ],
   "source": [
    "Batch.cat(batches)"
   ]
  },
  {
   "cell_type": "code",
   "execution_count": 28,
   "id": "18dfb045",
   "metadata": {
    "execution": {
     "iopub.execute_input": "2023-03-06T18:28:04.631240Z",
     "iopub.status.busy": "2023-03-06T18:28:04.629888Z",
     "iopub.status.idle": "2023-03-06T18:28:16.406714Z",
     "shell.execute_reply": "2023-03-06T18:28:16.405806Z"
    }
   },
   "outputs": [
    {
     "name": "stdout",
     "output_type": "stream",
     "text": [
      "145 µs ± 290 ns per loop (mean ± std. dev. of 7 runs, 10,000 loops each)\n"
     ]
    }
   ],
   "source": [
    "%timeit Batch.cat(batches)"
   ]
  },
  {
   "cell_type": "code",
   "execution_count": 29,
   "id": "c6688e51",
   "metadata": {
    "execution": {
     "iopub.execute_input": "2023-03-06T18:28:16.410599Z",
     "iopub.status.busy": "2023-03-06T18:28:16.410013Z",
     "iopub.status.idle": "2023-03-06T18:28:19.074013Z",
     "shell.execute_reply": "2023-03-06T18:28:19.073310Z"
    }
   },
   "outputs": [
    {
     "name": "stdout",
     "output_type": "stream",
     "text": [
      "327 µs ± 2.2 µs per loop (mean ± std. dev. of 7 runs, 1,000 loops each)\n"
     ]
    }
   ],
   "source": [
    "batch = Batch({\n",
    "    'obs': torch.randn(8, 4, 84, 84),\n",
    "    'action': torch.randint(0, 6, size=(8, 1,)),\n",
    "    'reward': torch.rand(8, 1)}\n",
    ")\n",
    "\n",
    "%timeit list(Batch.split(batch, 1, shuffle=False, merge_last=True))"
   ]
  },
  {
   "cell_type": "code",
   "execution_count": null,
   "id": "2539fbd9",
   "metadata": {},
   "outputs": [],
   "source": []
  }
 ],
 "metadata": {
  "kernelspec": {
   "display_name": "Python 3 (ipykernel)",
   "language": "python",
   "name": "python3"
  },
  "language_info": {
   "codemirror_mode": {
    "name": "ipython",
    "version": 3
   },
   "file_extension": ".py",
   "mimetype": "text/x-python",
   "name": "python",
   "nbconvert_exporter": "python",
   "pygments_lexer": "ipython3",
   "version": "3.8.16"
  }
 },
 "nbformat": 4,
 "nbformat_minor": 5
}
