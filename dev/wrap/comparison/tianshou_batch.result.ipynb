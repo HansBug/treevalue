{
 "cells": [
  {
   "cell_type": "markdown",
   "id": "9d39d946",
   "metadata": {},
   "source": [
    "# Comparison Between TreeValue and Tianshou Batch"
   ]
  },
  {
   "cell_type": "markdown",
   "id": "3c6db2d4",
   "metadata": {},
   "source": [
    "In this section, we will take a look at the feature and performance of the [Tianshou Batch](https://github.com/thu-ml/tianshou) library, which is developed by Tsinghua Machine Learning Group."
   ]
  },
  {
   "cell_type": "markdown",
   "id": "069361b0",
   "metadata": {},
   "source": [
    "Before starting the comparison, let us define some thing."
   ]
  },
  {
   "cell_type": "code",
   "execution_count": 1,
   "id": "06fc8d26",
   "metadata": {
    "execution": {
     "iopub.execute_input": "2023-03-06T10:55:22.106454Z",
     "iopub.status.busy": "2023-03-06T10:55:22.105552Z",
     "iopub.status.idle": "2023-03-06T10:55:23.258722Z",
     "shell.execute_reply": "2023-03-06T10:55:23.257728Z"
    }
   },
   "outputs": [
    {
     "name": "stderr",
     "output_type": "stream",
     "text": [
      "/opt/hostedtoolcache/Python/3.8.16/x64/lib/python3.8/site-packages/tqdm/auto.py:21: TqdmWarning: IProgress not found. Please update jupyter and ipywidgets. See https://ipywidgets.readthedocs.io/en/stable/user_install.html\n",
      "  from .autonotebook import tqdm as notebook_tqdm\n"
     ]
    }
   ],
   "source": [
    "import torch \n",
    "\n",
    "_TREE_DATA_1 = {'a': 1, 'b': 2, 'x': {'c': 3, 'd': 4}}\n",
    "_TREE_DATA_2 = {\n",
    "    'a': torch.randn(2, 3), \n",
    "    'x': {\n",
    "        'c': torch.randn(3, 4)\n",
    "    },\n",
    "}\n",
    "_TREE_DATA_3 = {\n",
    "    'obs': torch.randn(4, 84, 84),\n",
    "    'action': torch.randint(0, 6, size=(1,)),\n",
    "    'reward': torch.rand(1),\n",
    "}"
   ]
  },
  {
   "cell_type": "markdown",
   "id": "83461b25",
   "metadata": {},
   "source": [
    "## Read and Write Operation"
   ]
  },
  {
   "cell_type": "markdown",
   "id": "067b3f73",
   "metadata": {},
   "source": [
    "Reading and writing are the two most common operations in the tree data structure based on the data model (TreeValue and Tianshou Batch both belong to this type), so this section will compare the reading and writing performance of these two libraries."
   ]
  },
  {
   "cell_type": "markdown",
   "id": "5d09a5b7",
   "metadata": {},
   "source": [
    "### TreeValue's Get and Set"
   ]
  },
  {
   "cell_type": "code",
   "execution_count": 2,
   "id": "9519c4bb",
   "metadata": {
    "execution": {
     "iopub.execute_input": "2023-03-06T10:55:23.263518Z",
     "iopub.status.busy": "2023-03-06T10:55:23.263083Z",
     "iopub.status.idle": "2023-03-06T10:55:23.307844Z",
     "shell.execute_reply": "2023-03-06T10:55:23.306760Z"
    }
   },
   "outputs": [],
   "source": [
    "from treevalue import FastTreeValue\n",
    "\n",
    "t = FastTreeValue(_TREE_DATA_2)"
   ]
  },
  {
   "cell_type": "code",
   "execution_count": 3,
   "id": "11c37677",
   "metadata": {
    "execution": {
     "iopub.execute_input": "2023-03-06T10:55:23.311519Z",
     "iopub.status.busy": "2023-03-06T10:55:23.311188Z",
     "iopub.status.idle": "2023-03-06T10:55:23.322530Z",
     "shell.execute_reply": "2023-03-06T10:55:23.320511Z"
    }
   },
   "outputs": [
    {
     "data": {
      "text/plain": [
       "<FastTreeValue 0x7f9998932d00>\n",
       "├── 'a' --> tensor([[-0.1520, -1.2119, -1.1153],\n",
       "│                   [ 0.8709, -0.5367, -1.1619]])\n",
       "└── 'x' --> <FastTreeValue 0x7f9998932f70>\n",
       "    └── 'c' --> tensor([[-0.8464, -0.9644,  0.2926, -0.5103],\n",
       "                        [-0.4451,  0.9325, -0.9519,  0.1981],\n",
       "                        [-0.7933, -2.3348,  0.0170, -0.4475]])"
      ]
     },
     "execution_count": 3,
     "metadata": {},
     "output_type": "execute_result"
    }
   ],
   "source": [
    "t"
   ]
  },
  {
   "cell_type": "code",
   "execution_count": 4,
   "id": "fd70b0b9",
   "metadata": {
    "execution": {
     "iopub.execute_input": "2023-03-06T10:55:23.326261Z",
     "iopub.status.busy": "2023-03-06T10:55:23.325965Z",
     "iopub.status.idle": "2023-03-06T10:55:23.332424Z",
     "shell.execute_reply": "2023-03-06T10:55:23.331540Z"
    }
   },
   "outputs": [
    {
     "data": {
      "text/plain": [
       "tensor([[-0.1520, -1.2119, -1.1153],\n",
       "        [ 0.8709, -0.5367, -1.1619]])"
      ]
     },
     "execution_count": 4,
     "metadata": {},
     "output_type": "execute_result"
    }
   ],
   "source": [
    "t.a"
   ]
  },
  {
   "cell_type": "code",
   "execution_count": 5,
   "id": "c18197bd",
   "metadata": {
    "execution": {
     "iopub.execute_input": "2023-03-06T10:55:23.335541Z",
     "iopub.status.busy": "2023-03-06T10:55:23.335235Z",
     "iopub.status.idle": "2023-03-06T10:55:28.953944Z",
     "shell.execute_reply": "2023-03-06T10:55:28.952996Z"
    }
   },
   "outputs": [
    {
     "name": "stdout",
     "output_type": "stream",
     "text": [
      "69.1 ns ± 2.07 ns per loop (mean ± std. dev. of 7 runs, 10,000,000 loops each)\n"
     ]
    }
   ],
   "source": [
    "%timeit t.a"
   ]
  },
  {
   "cell_type": "code",
   "execution_count": 6,
   "id": "bd52f867",
   "metadata": {
    "execution": {
     "iopub.execute_input": "2023-03-06T10:55:28.959034Z",
     "iopub.status.busy": "2023-03-06T10:55:28.958341Z",
     "iopub.status.idle": "2023-03-06T10:55:28.967625Z",
     "shell.execute_reply": "2023-03-06T10:55:28.966761Z"
    }
   },
   "outputs": [
    {
     "data": {
      "text/plain": [
       "<FastTreeValue 0x7f9998932d00>\n",
       "├── 'a' --> tensor([[-2.5590, -0.1931, -0.5310],\n",
       "│                   [ 1.7426, -2.2369,  0.6950]])\n",
       "└── 'x' --> <FastTreeValue 0x7f9998932f70>\n",
       "    └── 'c' --> tensor([[-0.8464, -0.9644,  0.2926, -0.5103],\n",
       "                        [-0.4451,  0.9325, -0.9519,  0.1981],\n",
       "                        [-0.7933, -2.3348,  0.0170, -0.4475]])"
      ]
     },
     "execution_count": 6,
     "metadata": {},
     "output_type": "execute_result"
    }
   ],
   "source": [
    "new_value = torch.randn(2, 3)\n",
    "t.a = new_value\n",
    "\n",
    "t"
   ]
  },
  {
   "cell_type": "code",
   "execution_count": 7,
   "id": "bbe04d1c",
   "metadata": {
    "execution": {
     "iopub.execute_input": "2023-03-06T10:55:28.971353Z",
     "iopub.status.busy": "2023-03-06T10:55:28.970988Z",
     "iopub.status.idle": "2023-03-06T10:55:34.919997Z",
     "shell.execute_reply": "2023-03-06T10:55:34.919040Z"
    }
   },
   "outputs": [
    {
     "name": "stdout",
     "output_type": "stream",
     "text": [
      "73 ns ± 1.79 ns per loop (mean ± std. dev. of 7 runs, 10,000,000 loops each)\n"
     ]
    }
   ],
   "source": [
    "%timeit t.a = new_value"
   ]
  },
  {
   "cell_type": "markdown",
   "id": "48c49731",
   "metadata": {},
   "source": [
    "### Tianshou Batch's Get and Set"
   ]
  },
  {
   "cell_type": "code",
   "execution_count": 8,
   "id": "f1bb14c1",
   "metadata": {
    "execution": {
     "iopub.execute_input": "2023-03-06T10:55:34.924271Z",
     "iopub.status.busy": "2023-03-06T10:55:34.923779Z",
     "iopub.status.idle": "2023-03-06T10:55:35.347570Z",
     "shell.execute_reply": "2023-03-06T10:55:35.346541Z"
    }
   },
   "outputs": [],
   "source": [
    "from tianshou.data import Batch\n",
    "\n",
    "b = Batch(**_TREE_DATA_2)"
   ]
  },
  {
   "cell_type": "code",
   "execution_count": 9,
   "id": "cb0777c3",
   "metadata": {
    "execution": {
     "iopub.execute_input": "2023-03-06T10:55:35.353000Z",
     "iopub.status.busy": "2023-03-06T10:55:35.352100Z",
     "iopub.status.idle": "2023-03-06T10:55:35.361797Z",
     "shell.execute_reply": "2023-03-06T10:55:35.360936Z"
    }
   },
   "outputs": [
    {
     "data": {
      "text/plain": [
       "Batch(\n",
       "    a: tensor([[-0.1520, -1.2119, -1.1153],\n",
       "               [ 0.8709, -0.5367, -1.1619]]),\n",
       "    x: Batch(\n",
       "           c: tensor([[-0.8464, -0.9644,  0.2926, -0.5103],\n",
       "                      [-0.4451,  0.9325, -0.9519,  0.1981],\n",
       "                      [-0.7933, -2.3348,  0.0170, -0.4475]]),\n",
       "       ),\n",
       ")"
      ]
     },
     "execution_count": 9,
     "metadata": {},
     "output_type": "execute_result"
    }
   ],
   "source": [
    "b"
   ]
  },
  {
   "cell_type": "code",
   "execution_count": 10,
   "id": "43ef8ea3",
   "metadata": {
    "execution": {
     "iopub.execute_input": "2023-03-06T10:55:35.364933Z",
     "iopub.status.busy": "2023-03-06T10:55:35.364553Z",
     "iopub.status.idle": "2023-03-06T10:55:35.371592Z",
     "shell.execute_reply": "2023-03-06T10:55:35.370391Z"
    }
   },
   "outputs": [
    {
     "data": {
      "text/plain": [
       "tensor([[-0.1520, -1.2119, -1.1153],\n",
       "        [ 0.8709, -0.5367, -1.1619]])"
      ]
     },
     "execution_count": 10,
     "metadata": {},
     "output_type": "execute_result"
    }
   ],
   "source": [
    "b.a"
   ]
  },
  {
   "cell_type": "code",
   "execution_count": 11,
   "id": "b785ab72",
   "metadata": {
    "execution": {
     "iopub.execute_input": "2023-03-06T10:55:35.374779Z",
     "iopub.status.busy": "2023-03-06T10:55:35.374314Z",
     "iopub.status.idle": "2023-03-06T10:55:40.728130Z",
     "shell.execute_reply": "2023-03-06T10:55:40.727205Z"
    }
   },
   "outputs": [
    {
     "name": "stdout",
     "output_type": "stream",
     "text": [
      "65.5 ns ± 2.77 ns per loop (mean ± std. dev. of 7 runs, 10,000,000 loops each)\n"
     ]
    }
   ],
   "source": [
    "%timeit b.a"
   ]
  },
  {
   "cell_type": "code",
   "execution_count": 12,
   "id": "ad54dc69",
   "metadata": {
    "execution": {
     "iopub.execute_input": "2023-03-06T10:55:40.732011Z",
     "iopub.status.busy": "2023-03-06T10:55:40.731520Z",
     "iopub.status.idle": "2023-03-06T10:55:40.742715Z",
     "shell.execute_reply": "2023-03-06T10:55:40.741661Z"
    }
   },
   "outputs": [
    {
     "data": {
      "text/plain": [
       "Batch(\n",
       "    a: tensor([[-0.4027,  0.0733,  1.2378],\n",
       "               [-0.3370, -1.8475,  0.5882]]),\n",
       "    x: Batch(\n",
       "           c: tensor([[-0.8464, -0.9644,  0.2926, -0.5103],\n",
       "                      [-0.4451,  0.9325, -0.9519,  0.1981],\n",
       "                      [-0.7933, -2.3348,  0.0170, -0.4475]]),\n",
       "       ),\n",
       ")"
      ]
     },
     "execution_count": 12,
     "metadata": {},
     "output_type": "execute_result"
    }
   ],
   "source": [
    "new_value = torch.randn(2, 3)\n",
    "b.a = new_value\n",
    "\n",
    "b"
   ]
  },
  {
   "cell_type": "code",
   "execution_count": 13,
   "id": "29b1d0bf",
   "metadata": {
    "execution": {
     "iopub.execute_input": "2023-03-06T10:55:40.746955Z",
     "iopub.status.busy": "2023-03-06T10:55:40.746388Z",
     "iopub.status.idle": "2023-03-06T10:55:45.478556Z",
     "shell.execute_reply": "2023-03-06T10:55:45.477350Z"
    }
   },
   "outputs": [
    {
     "name": "stdout",
     "output_type": "stream",
     "text": [
      "578 ns ± 16.9 ns per loop (mean ± std. dev. of 7 runs, 1,000,000 loops each)\n"
     ]
    }
   ],
   "source": [
    "%timeit b.a = new_value"
   ]
  },
  {
   "cell_type": "markdown",
   "id": "b61ad1d0",
   "metadata": {},
   "source": [
    "## Initialization"
   ]
  },
  {
   "cell_type": "markdown",
   "id": "d70f0d54",
   "metadata": {},
   "source": [
    "### TreeValue's Initialization"
   ]
  },
  {
   "cell_type": "code",
   "execution_count": 14,
   "id": "d32a679b",
   "metadata": {
    "execution": {
     "iopub.execute_input": "2023-03-06T10:55:45.482385Z",
     "iopub.status.busy": "2023-03-06T10:55:45.481850Z",
     "iopub.status.idle": "2023-03-06T10:55:53.714085Z",
     "shell.execute_reply": "2023-03-06T10:55:53.713012Z"
    }
   },
   "outputs": [
    {
     "name": "stdout",
     "output_type": "stream",
     "text": [
      "1.01 µs ± 23.1 ns per loop (mean ± std. dev. of 7 runs, 1,000,000 loops each)\n"
     ]
    }
   ],
   "source": [
    "%timeit FastTreeValue(_TREE_DATA_1)"
   ]
  },
  {
   "cell_type": "markdown",
   "id": "24f3707b",
   "metadata": {},
   "source": [
    "### Tianshou Batch's Initialization"
   ]
  },
  {
   "cell_type": "code",
   "execution_count": 15,
   "id": "ac3958df",
   "metadata": {
    "execution": {
     "iopub.execute_input": "2023-03-06T10:55:53.718071Z",
     "iopub.status.busy": "2023-03-06T10:55:53.717357Z",
     "iopub.status.idle": "2023-03-06T10:56:04.456571Z",
     "shell.execute_reply": "2023-03-06T10:56:04.455437Z"
    }
   },
   "outputs": [
    {
     "name": "stdout",
     "output_type": "stream",
     "text": [
      "13.2 µs ± 362 ns per loop (mean ± std. dev. of 7 runs, 100,000 loops each)\n"
     ]
    }
   ],
   "source": [
    "%timeit Batch(**_TREE_DATA_1)"
   ]
  },
  {
   "cell_type": "markdown",
   "id": "1ab82e2d",
   "metadata": {},
   "source": [
    "## Deep Copy Operation"
   ]
  },
  {
   "cell_type": "code",
   "execution_count": 16,
   "id": "210a9442",
   "metadata": {
    "execution": {
     "iopub.execute_input": "2023-03-06T10:56:04.460035Z",
     "iopub.status.busy": "2023-03-06T10:56:04.459521Z",
     "iopub.status.idle": "2023-03-06T10:56:04.464972Z",
     "shell.execute_reply": "2023-03-06T10:56:04.464111Z"
    }
   },
   "outputs": [],
   "source": [
    "import copy"
   ]
  },
  {
   "cell_type": "markdown",
   "id": "5a736274",
   "metadata": {},
   "source": [
    "### Deep Copy of TreeValue"
   ]
  },
  {
   "cell_type": "code",
   "execution_count": 17,
   "id": "f9bcadd6",
   "metadata": {
    "execution": {
     "iopub.execute_input": "2023-03-06T10:56:04.468399Z",
     "iopub.status.busy": "2023-03-06T10:56:04.467812Z",
     "iopub.status.idle": "2023-03-06T10:56:06.573492Z",
     "shell.execute_reply": "2023-03-06T10:56:06.572422Z"
    }
   },
   "outputs": [
    {
     "name": "stdout",
     "output_type": "stream",
     "text": [
      "259 µs ± 8.78 µs per loop (mean ± std. dev. of 7 runs, 1,000 loops each)\n"
     ]
    }
   ],
   "source": [
    "t3 = FastTreeValue(_TREE_DATA_3)\n",
    "%timeit copy.deepcopy(t3)"
   ]
  },
  {
   "cell_type": "markdown",
   "id": "bf8be7ea",
   "metadata": {},
   "source": [
    "### Deep Copy of Tianshou Batch"
   ]
  },
  {
   "cell_type": "code",
   "execution_count": 18,
   "id": "91998e6f",
   "metadata": {
    "execution": {
     "iopub.execute_input": "2023-03-06T10:56:06.577376Z",
     "iopub.status.busy": "2023-03-06T10:56:06.576907Z",
     "iopub.status.idle": "2023-03-06T10:56:08.737407Z",
     "shell.execute_reply": "2023-03-06T10:56:08.736562Z"
    }
   },
   "outputs": [
    {
     "name": "stdout",
     "output_type": "stream",
     "text": [
      "266 µs ± 15.2 µs per loop (mean ± std. dev. of 7 runs, 1,000 loops each)\n"
     ]
    }
   ],
   "source": [
    "b3 = Batch(**_TREE_DATA_3)\n",
    "%timeit copy.deepcopy(b3)"
   ]
  },
  {
   "cell_type": "markdown",
   "id": "223162fb",
   "metadata": {},
   "source": [
    "## Stack, Concat and Split Operation"
   ]
  },
  {
   "cell_type": "markdown",
   "id": "85fa4a73",
   "metadata": {},
   "source": [
    "### Performance of TreeValue"
   ]
  },
  {
   "cell_type": "code",
   "execution_count": 19,
   "id": "a0c2b697",
   "metadata": {
    "execution": {
     "iopub.execute_input": "2023-03-06T10:56:08.741452Z",
     "iopub.status.busy": "2023-03-06T10:56:08.740887Z",
     "iopub.status.idle": "2023-03-06T10:56:08.745721Z",
     "shell.execute_reply": "2023-03-06T10:56:08.744845Z"
    }
   },
   "outputs": [],
   "source": [
    "trees = [FastTreeValue(_TREE_DATA_2) for _ in range(8)]"
   ]
  },
  {
   "cell_type": "code",
   "execution_count": 20,
   "id": "017ea5a5",
   "metadata": {
    "execution": {
     "iopub.execute_input": "2023-03-06T10:56:08.749092Z",
     "iopub.status.busy": "2023-03-06T10:56:08.748618Z",
     "iopub.status.idle": "2023-03-06T10:56:08.759629Z",
     "shell.execute_reply": "2023-03-06T10:56:08.758734Z"
    }
   },
   "outputs": [
    {
     "data": {
      "text/plain": [
       "<FastTreeValue 0x7f99989363a0>\n",
       "├── 'a' --> tensor([[[-0.1520, -1.2119, -1.1153],\n",
       "│                    [ 0.8709, -0.5367, -1.1619]],\n",
       "│           \n",
       "│                   [[-0.1520, -1.2119, -1.1153],\n",
       "│                    [ 0.8709, -0.5367, -1.1619]],\n",
       "│           \n",
       "│                   [[-0.1520, -1.2119, -1.1153],\n",
       "│                    [ 0.8709, -0.5367, -1.1619]],\n",
       "│           \n",
       "│                   [[-0.1520, -1.2119, -1.1153],\n",
       "│                    [ 0.8709, -0.5367, -1.1619]],\n",
       "│           \n",
       "│                   [[-0.1520, -1.2119, -1.1153],\n",
       "│                    [ 0.8709, -0.5367, -1.1619]],\n",
       "│           \n",
       "│                   [[-0.1520, -1.2119, -1.1153],\n",
       "│                    [ 0.8709, -0.5367, -1.1619]],\n",
       "│           \n",
       "│                   [[-0.1520, -1.2119, -1.1153],\n",
       "│                    [ 0.8709, -0.5367, -1.1619]],\n",
       "│           \n",
       "│                   [[-0.1520, -1.2119, -1.1153],\n",
       "│                    [ 0.8709, -0.5367, -1.1619]]])\n",
       "└── 'x' --> <FastTreeValue 0x7f99989364c0>\n",
       "    └── 'c' --> tensor([[[-0.8464, -0.9644,  0.2926, -0.5103],\n",
       "                         [-0.4451,  0.9325, -0.9519,  0.1981],\n",
       "                         [-0.7933, -2.3348,  0.0170, -0.4475]],\n",
       "                \n",
       "                        [[-0.8464, -0.9644,  0.2926, -0.5103],\n",
       "                         [-0.4451,  0.9325, -0.9519,  0.1981],\n",
       "                         [-0.7933, -2.3348,  0.0170, -0.4475]],\n",
       "                \n",
       "                        [[-0.8464, -0.9644,  0.2926, -0.5103],\n",
       "                         [-0.4451,  0.9325, -0.9519,  0.1981],\n",
       "                         [-0.7933, -2.3348,  0.0170, -0.4475]],\n",
       "                \n",
       "                        [[-0.8464, -0.9644,  0.2926, -0.5103],\n",
       "                         [-0.4451,  0.9325, -0.9519,  0.1981],\n",
       "                         [-0.7933, -2.3348,  0.0170, -0.4475]],\n",
       "                \n",
       "                        [[-0.8464, -0.9644,  0.2926, -0.5103],\n",
       "                         [-0.4451,  0.9325, -0.9519,  0.1981],\n",
       "                         [-0.7933, -2.3348,  0.0170, -0.4475]],\n",
       "                \n",
       "                        [[-0.8464, -0.9644,  0.2926, -0.5103],\n",
       "                         [-0.4451,  0.9325, -0.9519,  0.1981],\n",
       "                         [-0.7933, -2.3348,  0.0170, -0.4475]],\n",
       "                \n",
       "                        [[-0.8464, -0.9644,  0.2926, -0.5103],\n",
       "                         [-0.4451,  0.9325, -0.9519,  0.1981],\n",
       "                         [-0.7933, -2.3348,  0.0170, -0.4475]],\n",
       "                \n",
       "                        [[-0.8464, -0.9644,  0.2926, -0.5103],\n",
       "                         [-0.4451,  0.9325, -0.9519,  0.1981],\n",
       "                         [-0.7933, -2.3348,  0.0170, -0.4475]]])"
      ]
     },
     "execution_count": 20,
     "metadata": {},
     "output_type": "execute_result"
    }
   ],
   "source": [
    "t_stack = FastTreeValue.func(subside=True)(torch.stack)\n",
    "\n",
    "t_stack(trees)"
   ]
  },
  {
   "cell_type": "code",
   "execution_count": 21,
   "id": "f8b3f415",
   "metadata": {
    "execution": {
     "iopub.execute_input": "2023-03-06T10:56:08.763287Z",
     "iopub.status.busy": "2023-03-06T10:56:08.762871Z",
     "iopub.status.idle": "2023-03-06T10:56:12.382451Z",
     "shell.execute_reply": "2023-03-06T10:56:12.381391Z"
    }
   },
   "outputs": [
    {
     "name": "stdout",
     "output_type": "stream",
     "text": [
      "44.7 µs ± 611 ns per loop (mean ± std. dev. of 7 runs, 10,000 loops each)\n"
     ]
    }
   ],
   "source": [
    "%timeit t_stack(trees)"
   ]
  },
  {
   "cell_type": "code",
   "execution_count": 22,
   "id": "94b56771",
   "metadata": {
    "execution": {
     "iopub.execute_input": "2023-03-06T10:56:12.386145Z",
     "iopub.status.busy": "2023-03-06T10:56:12.385566Z",
     "iopub.status.idle": "2023-03-06T10:56:12.396679Z",
     "shell.execute_reply": "2023-03-06T10:56:12.395823Z"
    }
   },
   "outputs": [
    {
     "data": {
      "text/plain": [
       "<FastTreeValue 0x7f98e952af70>\n",
       "├── 'a' --> tensor([[-0.1520, -1.2119, -1.1153],\n",
       "│                   [ 0.8709, -0.5367, -1.1619],\n",
       "│                   [-0.1520, -1.2119, -1.1153],\n",
       "│                   [ 0.8709, -0.5367, -1.1619],\n",
       "│                   [-0.1520, -1.2119, -1.1153],\n",
       "│                   [ 0.8709, -0.5367, -1.1619],\n",
       "│                   [-0.1520, -1.2119, -1.1153],\n",
       "│                   [ 0.8709, -0.5367, -1.1619],\n",
       "│                   [-0.1520, -1.2119, -1.1153],\n",
       "│                   [ 0.8709, -0.5367, -1.1619],\n",
       "│                   [-0.1520, -1.2119, -1.1153],\n",
       "│                   [ 0.8709, -0.5367, -1.1619],\n",
       "│                   [-0.1520, -1.2119, -1.1153],\n",
       "│                   [ 0.8709, -0.5367, -1.1619],\n",
       "│                   [-0.1520, -1.2119, -1.1153],\n",
       "│                   [ 0.8709, -0.5367, -1.1619]])\n",
       "└── 'x' --> <FastTreeValue 0x7f98e9be43a0>\n",
       "    └── 'c' --> tensor([[-0.8464, -0.9644,  0.2926, -0.5103],\n",
       "                        [-0.4451,  0.9325, -0.9519,  0.1981],\n",
       "                        [-0.7933, -2.3348,  0.0170, -0.4475],\n",
       "                        [-0.8464, -0.9644,  0.2926, -0.5103],\n",
       "                        [-0.4451,  0.9325, -0.9519,  0.1981],\n",
       "                        [-0.7933, -2.3348,  0.0170, -0.4475],\n",
       "                        [-0.8464, -0.9644,  0.2926, -0.5103],\n",
       "                        [-0.4451,  0.9325, -0.9519,  0.1981],\n",
       "                        [-0.7933, -2.3348,  0.0170, -0.4475],\n",
       "                        [-0.8464, -0.9644,  0.2926, -0.5103],\n",
       "                        [-0.4451,  0.9325, -0.9519,  0.1981],\n",
       "                        [-0.7933, -2.3348,  0.0170, -0.4475],\n",
       "                        [-0.8464, -0.9644,  0.2926, -0.5103],\n",
       "                        [-0.4451,  0.9325, -0.9519,  0.1981],\n",
       "                        [-0.7933, -2.3348,  0.0170, -0.4475],\n",
       "                        [-0.8464, -0.9644,  0.2926, -0.5103],\n",
       "                        [-0.4451,  0.9325, -0.9519,  0.1981],\n",
       "                        [-0.7933, -2.3348,  0.0170, -0.4475],\n",
       "                        [-0.8464, -0.9644,  0.2926, -0.5103],\n",
       "                        [-0.4451,  0.9325, -0.9519,  0.1981],\n",
       "                        [-0.7933, -2.3348,  0.0170, -0.4475],\n",
       "                        [-0.8464, -0.9644,  0.2926, -0.5103],\n",
       "                        [-0.4451,  0.9325, -0.9519,  0.1981],\n",
       "                        [-0.7933, -2.3348,  0.0170, -0.4475]])"
      ]
     },
     "execution_count": 22,
     "metadata": {},
     "output_type": "execute_result"
    }
   ],
   "source": [
    "t_cat = FastTreeValue.func(subside=True)(torch.cat)\n",
    "\n",
    "t_cat(trees)"
   ]
  },
  {
   "cell_type": "code",
   "execution_count": 23,
   "id": "5e9c06a6",
   "metadata": {
    "execution": {
     "iopub.execute_input": "2023-03-06T10:56:12.399814Z",
     "iopub.status.busy": "2023-03-06T10:56:12.399546Z",
     "iopub.status.idle": "2023-03-06T10:56:15.636131Z",
     "shell.execute_reply": "2023-03-06T10:56:15.634585Z"
    }
   },
   "outputs": [
    {
     "name": "stdout",
     "output_type": "stream",
     "text": [
      "39.9 µs ± 1.32 µs per loop (mean ± std. dev. of 7 runs, 10,000 loops each)\n"
     ]
    }
   ],
   "source": [
    "%timeit t_cat(trees)"
   ]
  },
  {
   "cell_type": "code",
   "execution_count": 24,
   "id": "a3ab5c8f",
   "metadata": {
    "execution": {
     "iopub.execute_input": "2023-03-06T10:56:15.640019Z",
     "iopub.status.busy": "2023-03-06T10:56:15.639408Z",
     "iopub.status.idle": "2023-03-06T10:56:21.692841Z",
     "shell.execute_reply": "2023-03-06T10:56:21.691323Z"
    }
   },
   "outputs": [
    {
     "name": "stdout",
     "output_type": "stream",
     "text": [
      "74.4 µs ± 1.21 µs per loop (mean ± std. dev. of 7 runs, 10,000 loops each)\n"
     ]
    }
   ],
   "source": [
    "t_split = FastTreeValue.func(rise=True)(torch.split)\n",
    "tree = FastTreeValue({\n",
    "    'obs': torch.randn(8, 4, 84, 84),\n",
    "    'action': torch.randint(0, 6, size=(8, 1,)),\n",
    "    'reward': torch.rand(8, 1),\n",
    "})\n",
    "\n",
    "%timeit t_split(tree, 1)"
   ]
  },
  {
   "cell_type": "markdown",
   "id": "31c3ec0b",
   "metadata": {},
   "source": [
    "### Performance of Tianshou Batch"
   ]
  },
  {
   "cell_type": "code",
   "execution_count": 25,
   "id": "9ead828a",
   "metadata": {
    "execution": {
     "iopub.execute_input": "2023-03-06T10:56:21.696990Z",
     "iopub.status.busy": "2023-03-06T10:56:21.696725Z",
     "iopub.status.idle": "2023-03-06T10:56:21.707768Z",
     "shell.execute_reply": "2023-03-06T10:56:21.706426Z"
    }
   },
   "outputs": [
    {
     "data": {
      "text/plain": [
       "Batch(\n",
       "    a: tensor([[[-0.1520, -1.2119, -1.1153],\n",
       "                [ 0.8709, -0.5367, -1.1619]],\n",
       "       \n",
       "               [[-0.1520, -1.2119, -1.1153],\n",
       "                [ 0.8709, -0.5367, -1.1619]],\n",
       "       \n",
       "               [[-0.1520, -1.2119, -1.1153],\n",
       "                [ 0.8709, -0.5367, -1.1619]],\n",
       "       \n",
       "               [[-0.1520, -1.2119, -1.1153],\n",
       "                [ 0.8709, -0.5367, -1.1619]],\n",
       "       \n",
       "               [[-0.1520, -1.2119, -1.1153],\n",
       "                [ 0.8709, -0.5367, -1.1619]],\n",
       "       \n",
       "               [[-0.1520, -1.2119, -1.1153],\n",
       "                [ 0.8709, -0.5367, -1.1619]],\n",
       "       \n",
       "               [[-0.1520, -1.2119, -1.1153],\n",
       "                [ 0.8709, -0.5367, -1.1619]],\n",
       "       \n",
       "               [[-0.1520, -1.2119, -1.1153],\n",
       "                [ 0.8709, -0.5367, -1.1619]]]),\n",
       "    x: Batch(\n",
       "           c: tensor([[[-0.8464, -0.9644,  0.2926, -0.5103],\n",
       "                       [-0.4451,  0.9325, -0.9519,  0.1981],\n",
       "                       [-0.7933, -2.3348,  0.0170, -0.4475]],\n",
       "              \n",
       "                      [[-0.8464, -0.9644,  0.2926, -0.5103],\n",
       "                       [-0.4451,  0.9325, -0.9519,  0.1981],\n",
       "                       [-0.7933, -2.3348,  0.0170, -0.4475]],\n",
       "              \n",
       "                      [[-0.8464, -0.9644,  0.2926, -0.5103],\n",
       "                       [-0.4451,  0.9325, -0.9519,  0.1981],\n",
       "                       [-0.7933, -2.3348,  0.0170, -0.4475]],\n",
       "              \n",
       "                      [[-0.8464, -0.9644,  0.2926, -0.5103],\n",
       "                       [-0.4451,  0.9325, -0.9519,  0.1981],\n",
       "                       [-0.7933, -2.3348,  0.0170, -0.4475]],\n",
       "              \n",
       "                      [[-0.8464, -0.9644,  0.2926, -0.5103],\n",
       "                       [-0.4451,  0.9325, -0.9519,  0.1981],\n",
       "                       [-0.7933, -2.3348,  0.0170, -0.4475]],\n",
       "              \n",
       "                      [[-0.8464, -0.9644,  0.2926, -0.5103],\n",
       "                       [-0.4451,  0.9325, -0.9519,  0.1981],\n",
       "                       [-0.7933, -2.3348,  0.0170, -0.4475]],\n",
       "              \n",
       "                      [[-0.8464, -0.9644,  0.2926, -0.5103],\n",
       "                       [-0.4451,  0.9325, -0.9519,  0.1981],\n",
       "                       [-0.7933, -2.3348,  0.0170, -0.4475]],\n",
       "              \n",
       "                      [[-0.8464, -0.9644,  0.2926, -0.5103],\n",
       "                       [-0.4451,  0.9325, -0.9519,  0.1981],\n",
       "                       [-0.7933, -2.3348,  0.0170, -0.4475]]]),\n",
       "       ),\n",
       ")"
      ]
     },
     "execution_count": 25,
     "metadata": {},
     "output_type": "execute_result"
    }
   ],
   "source": [
    "batches = [Batch(**_TREE_DATA_2) for _ in range(8)]\n",
    "\n",
    "Batch.stack(batches)"
   ]
  },
  {
   "cell_type": "code",
   "execution_count": 26,
   "id": "ec9037a3",
   "metadata": {
    "execution": {
     "iopub.execute_input": "2023-03-06T10:56:21.711282Z",
     "iopub.status.busy": "2023-03-06T10:56:21.710984Z",
     "iopub.status.idle": "2023-03-06T10:56:29.898340Z",
     "shell.execute_reply": "2023-03-06T10:56:29.896902Z"
    }
   },
   "outputs": [
    {
     "name": "stdout",
     "output_type": "stream",
     "text": [
      "101 µs ± 2.18 µs per loop (mean ± std. dev. of 7 runs, 10,000 loops each)\n"
     ]
    }
   ],
   "source": [
    "%timeit Batch.stack(batches)"
   ]
  },
  {
   "cell_type": "code",
   "execution_count": 27,
   "id": "cb8ab77e",
   "metadata": {
    "execution": {
     "iopub.execute_input": "2023-03-06T10:56:29.901569Z",
     "iopub.status.busy": "2023-03-06T10:56:29.901303Z",
     "iopub.status.idle": "2023-03-06T10:56:29.910793Z",
     "shell.execute_reply": "2023-03-06T10:56:29.909956Z"
    }
   },
   "outputs": [
    {
     "data": {
      "text/plain": [
       "Batch(\n",
       "    a: tensor([[-0.1520, -1.2119, -1.1153],\n",
       "               [ 0.8709, -0.5367, -1.1619],\n",
       "               [-0.1520, -1.2119, -1.1153],\n",
       "               [ 0.8709, -0.5367, -1.1619],\n",
       "               [-0.1520, -1.2119, -1.1153],\n",
       "               [ 0.8709, -0.5367, -1.1619],\n",
       "               [-0.1520, -1.2119, -1.1153],\n",
       "               [ 0.8709, -0.5367, -1.1619],\n",
       "               [-0.1520, -1.2119, -1.1153],\n",
       "               [ 0.8709, -0.5367, -1.1619],\n",
       "               [-0.1520, -1.2119, -1.1153],\n",
       "               [ 0.8709, -0.5367, -1.1619],\n",
       "               [-0.1520, -1.2119, -1.1153],\n",
       "               [ 0.8709, -0.5367, -1.1619],\n",
       "               [-0.1520, -1.2119, -1.1153],\n",
       "               [ 0.8709, -0.5367, -1.1619]]),\n",
       "    x: Batch(\n",
       "           c: tensor([[-0.8464, -0.9644,  0.2926, -0.5103],\n",
       "                      [-0.4451,  0.9325, -0.9519,  0.1981],\n",
       "                      [-0.7933, -2.3348,  0.0170, -0.4475],\n",
       "                      [-0.8464, -0.9644,  0.2926, -0.5103],\n",
       "                      [-0.4451,  0.9325, -0.9519,  0.1981],\n",
       "                      [-0.7933, -2.3348,  0.0170, -0.4475],\n",
       "                      [-0.8464, -0.9644,  0.2926, -0.5103],\n",
       "                      [-0.4451,  0.9325, -0.9519,  0.1981],\n",
       "                      [-0.7933, -2.3348,  0.0170, -0.4475],\n",
       "                      [-0.8464, -0.9644,  0.2926, -0.5103],\n",
       "                      [-0.4451,  0.9325, -0.9519,  0.1981],\n",
       "                      [-0.7933, -2.3348,  0.0170, -0.4475],\n",
       "                      [-0.8464, -0.9644,  0.2926, -0.5103],\n",
       "                      [-0.4451,  0.9325, -0.9519,  0.1981],\n",
       "                      [-0.7933, -2.3348,  0.0170, -0.4475],\n",
       "                      [-0.8464, -0.9644,  0.2926, -0.5103],\n",
       "                      [-0.4451,  0.9325, -0.9519,  0.1981],\n",
       "                      [-0.7933, -2.3348,  0.0170, -0.4475],\n",
       "                      [-0.8464, -0.9644,  0.2926, -0.5103],\n",
       "                      [-0.4451,  0.9325, -0.9519,  0.1981],\n",
       "                      [-0.7933, -2.3348,  0.0170, -0.4475],\n",
       "                      [-0.8464, -0.9644,  0.2926, -0.5103],\n",
       "                      [-0.4451,  0.9325, -0.9519,  0.1981],\n",
       "                      [-0.7933, -2.3348,  0.0170, -0.4475]]),\n",
       "       ),\n",
       ")"
      ]
     },
     "execution_count": 27,
     "metadata": {},
     "output_type": "execute_result"
    }
   ],
   "source": [
    "Batch.cat(batches)"
   ]
  },
  {
   "cell_type": "code",
   "execution_count": 28,
   "id": "18dfb045",
   "metadata": {
    "execution": {
     "iopub.execute_input": "2023-03-06T10:56:29.914184Z",
     "iopub.status.busy": "2023-03-06T10:56:29.913889Z",
     "iopub.status.idle": "2023-03-06T10:56:44.056822Z",
     "shell.execute_reply": "2023-03-06T10:56:44.055537Z"
    }
   },
   "outputs": [
    {
     "name": "stdout",
     "output_type": "stream",
     "text": [
      "174 µs ± 2.97 µs per loop (mean ± std. dev. of 7 runs, 10,000 loops each)\n"
     ]
    }
   ],
   "source": [
    "%timeit Batch.cat(batches)"
   ]
  },
  {
   "cell_type": "code",
   "execution_count": 29,
   "id": "c6688e51",
   "metadata": {
    "execution": {
     "iopub.execute_input": "2023-03-06T10:56:44.060571Z",
     "iopub.status.busy": "2023-03-06T10:56:44.060120Z",
     "iopub.status.idle": "2023-03-06T10:56:48.256496Z",
     "shell.execute_reply": "2023-03-06T10:56:48.255565Z"
    }
   },
   "outputs": [
    {
     "name": "stdout",
     "output_type": "stream",
     "text": [
      "518 µs ± 11.2 µs per loop (mean ± std. dev. of 7 runs, 1,000 loops each)\n"
     ]
    }
   ],
   "source": [
    "batch = Batch({\n",
    "    'obs': torch.randn(8, 4, 84, 84),\n",
    "    'action': torch.randint(0, 6, size=(8, 1,)),\n",
    "    'reward': torch.rand(8, 1)}\n",
    ")\n",
    "\n",
    "%timeit list(Batch.split(batch, 1, shuffle=False, merge_last=True))"
   ]
  },
  {
   "cell_type": "code",
   "execution_count": null,
   "id": "2539fbd9",
   "metadata": {},
   "outputs": [],
   "source": []
  }
 ],
 "metadata": {
  "kernelspec": {
   "display_name": "Python 3 (ipykernel)",
   "language": "python",
   "name": "python3"
  },
  "language_info": {
   "codemirror_mode": {
    "name": "ipython",
    "version": 3
   },
   "file_extension": ".py",
   "mimetype": "text/x-python",
   "name": "python",
   "nbconvert_exporter": "python",
   "pygments_lexer": "ipython3",
   "version": "3.8.16"
  }
 },
 "nbformat": 4,
 "nbformat_minor": 5
}
