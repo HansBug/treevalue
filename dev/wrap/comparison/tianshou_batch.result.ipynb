{
 "cells": [
  {
   "cell_type": "markdown",
   "id": "9d39d946",
   "metadata": {},
   "source": [
    "# Comparison Between TreeValue and Tianshou Batch"
   ]
  },
  {
   "cell_type": "markdown",
   "id": "3c6db2d4",
   "metadata": {},
   "source": [
    "In this section, we will take a look at the feature and performance of the [Tianshou Batch](https://github.com/thu-ml/tianshou) library, which is developed by Tsinghua Machine Learning Group."
   ]
  },
  {
   "cell_type": "markdown",
   "id": "069361b0",
   "metadata": {},
   "source": [
    "Before starting the comparison, let us define some thing."
   ]
  },
  {
   "cell_type": "code",
   "execution_count": 1,
   "id": "06fc8d26",
   "metadata": {
    "execution": {
     "iopub.execute_input": "2023-02-27T11:32:09.260299Z",
     "iopub.status.busy": "2023-02-27T11:32:09.259695Z",
     "iopub.status.idle": "2023-02-27T11:32:10.157036Z",
     "shell.execute_reply": "2023-02-27T11:32:10.156383Z"
    }
   },
   "outputs": [
    {
     "name": "stderr",
     "output_type": "stream",
     "text": [
      "/opt/hostedtoolcache/Python/3.8.16/x64/lib/python3.8/site-packages/tqdm/auto.py:22: TqdmWarning: IProgress not found. Please update jupyter and ipywidgets. See https://ipywidgets.readthedocs.io/en/stable/user_install.html\n",
      "  from .autonotebook import tqdm as notebook_tqdm\n"
     ]
    }
   ],
   "source": [
    "import torch \n",
    "\n",
    "_TREE_DATA_1 = {'a': 1, 'b': 2, 'x': {'c': 3, 'd': 4}}\n",
    "_TREE_DATA_2 = {\n",
    "    'a': torch.randn(2, 3), \n",
    "    'x': {\n",
    "        'c': torch.randn(3, 4)\n",
    "    },\n",
    "}\n",
    "_TREE_DATA_3 = {\n",
    "    'obs': torch.randn(4, 84, 84),\n",
    "    'action': torch.randint(0, 6, size=(1,)),\n",
    "    'reward': torch.rand(1),\n",
    "}"
   ]
  },
  {
   "cell_type": "markdown",
   "id": "83461b25",
   "metadata": {},
   "source": [
    "## Read and Write Operation"
   ]
  },
  {
   "cell_type": "markdown",
   "id": "067b3f73",
   "metadata": {},
   "source": [
    "Reading and writing are the two most common operations in the tree data structure based on the data model (TreeValue and Tianshou Batch both belong to this type), so this section will compare the reading and writing performance of these two libraries."
   ]
  },
  {
   "cell_type": "markdown",
   "id": "5d09a5b7",
   "metadata": {},
   "source": [
    "### TreeValue's Get and Set"
   ]
  },
  {
   "cell_type": "code",
   "execution_count": 2,
   "id": "9519c4bb",
   "metadata": {
    "execution": {
     "iopub.execute_input": "2023-02-27T11:32:10.160347Z",
     "iopub.status.busy": "2023-02-27T11:32:10.159784Z",
     "iopub.status.idle": "2023-02-27T11:32:10.192533Z",
     "shell.execute_reply": "2023-02-27T11:32:10.191953Z"
    }
   },
   "outputs": [],
   "source": [
    "from treevalue import FastTreeValue\n",
    "\n",
    "t = FastTreeValue(_TREE_DATA_2)"
   ]
  },
  {
   "cell_type": "code",
   "execution_count": 3,
   "id": "11c37677",
   "metadata": {
    "execution": {
     "iopub.execute_input": "2023-02-27T11:32:10.195139Z",
     "iopub.status.busy": "2023-02-27T11:32:10.194796Z",
     "iopub.status.idle": "2023-02-27T11:32:10.203961Z",
     "shell.execute_reply": "2023-02-27T11:32:10.203377Z"
    }
   },
   "outputs": [
    {
     "data": {
      "text/plain": [
       "<FastTreeValue 0x7f2c64f8d5e0>\n",
       "├── 'a' --> tensor([[ 1.4000,  0.1934, -1.1863],\n",
       "│                   [-1.5245, -0.9823,  1.6038]])\n",
       "└── 'x' --> <FastTreeValue 0x7f2bcffda340>\n",
       "    └── 'c' --> tensor([[ 1.0378,  0.5662, -0.1120,  1.6279],\n",
       "                        [-0.9283,  0.3824, -0.8181, -0.8091],\n",
       "                        [-1.9933, -0.2542, -0.4623, -0.2984]])"
      ]
     },
     "execution_count": 3,
     "metadata": {},
     "output_type": "execute_result"
    }
   ],
   "source": [
    "t"
   ]
  },
  {
   "cell_type": "code",
   "execution_count": 4,
   "id": "fd70b0b9",
   "metadata": {
    "execution": {
     "iopub.execute_input": "2023-02-27T11:32:10.207179Z",
     "iopub.status.busy": "2023-02-27T11:32:10.206687Z",
     "iopub.status.idle": "2023-02-27T11:32:10.211877Z",
     "shell.execute_reply": "2023-02-27T11:32:10.211320Z"
    }
   },
   "outputs": [
    {
     "data": {
      "text/plain": [
       "tensor([[ 1.4000,  0.1934, -1.1863],\n",
       "        [-1.5245, -0.9823,  1.6038]])"
      ]
     },
     "execution_count": 4,
     "metadata": {},
     "output_type": "execute_result"
    }
   ],
   "source": [
    "t.a"
   ]
  },
  {
   "cell_type": "code",
   "execution_count": 5,
   "id": "c18197bd",
   "metadata": {
    "execution": {
     "iopub.execute_input": "2023-02-27T11:32:10.214536Z",
     "iopub.status.busy": "2023-02-27T11:32:10.214187Z",
     "iopub.status.idle": "2023-02-27T11:32:14.974988Z",
     "shell.execute_reply": "2023-02-27T11:32:14.974329Z"
    }
   },
   "outputs": [
    {
     "name": "stdout",
     "output_type": "stream",
     "text": [
      "58.3 ns ± 0.0534 ns per loop (mean ± std. dev. of 7 runs, 10,000,000 loops each)\n"
     ]
    }
   ],
   "source": [
    "%timeit t.a"
   ]
  },
  {
   "cell_type": "code",
   "execution_count": 6,
   "id": "bd52f867",
   "metadata": {
    "execution": {
     "iopub.execute_input": "2023-02-27T11:32:14.978030Z",
     "iopub.status.busy": "2023-02-27T11:32:14.977671Z",
     "iopub.status.idle": "2023-02-27T11:32:14.984253Z",
     "shell.execute_reply": "2023-02-27T11:32:14.983679Z"
    }
   },
   "outputs": [
    {
     "data": {
      "text/plain": [
       "<FastTreeValue 0x7f2c64f8d5e0>\n",
       "├── 'a' --> tensor([[ 1.4342,  1.4370,  1.9175],\n",
       "│                   [-0.4025, -1.2369, -1.4924]])\n",
       "└── 'x' --> <FastTreeValue 0x7f2bcffda340>\n",
       "    └── 'c' --> tensor([[ 1.0378,  0.5662, -0.1120,  1.6279],\n",
       "                        [-0.9283,  0.3824, -0.8181, -0.8091],\n",
       "                        [-1.9933, -0.2542, -0.4623, -0.2984]])"
      ]
     },
     "execution_count": 6,
     "metadata": {},
     "output_type": "execute_result"
    }
   ],
   "source": [
    "new_value = torch.randn(2, 3)\n",
    "t.a = new_value\n",
    "\n",
    "t"
   ]
  },
  {
   "cell_type": "code",
   "execution_count": 7,
   "id": "bbe04d1c",
   "metadata": {
    "execution": {
     "iopub.execute_input": "2023-02-27T11:32:14.986768Z",
     "iopub.status.busy": "2023-02-27T11:32:14.986442Z",
     "iopub.status.idle": "2023-02-27T11:32:20.358333Z",
     "shell.execute_reply": "2023-02-27T11:32:20.357620Z"
    }
   },
   "outputs": [
    {
     "name": "stdout",
     "output_type": "stream",
     "text": [
      "66.4 ns ± 0.0157 ns per loop (mean ± std. dev. of 7 runs, 10,000,000 loops each)\n"
     ]
    }
   ],
   "source": [
    "%timeit t.a = new_value"
   ]
  },
  {
   "cell_type": "markdown",
   "id": "48c49731",
   "metadata": {},
   "source": [
    "### Tianshou Batch's Get and Set"
   ]
  },
  {
   "cell_type": "code",
   "execution_count": 8,
   "id": "f1bb14c1",
   "metadata": {
    "execution": {
     "iopub.execute_input": "2023-02-27T11:32:20.361126Z",
     "iopub.status.busy": "2023-02-27T11:32:20.360755Z",
     "iopub.status.idle": "2023-02-27T11:32:20.687909Z",
     "shell.execute_reply": "2023-02-27T11:32:20.686818Z"
    }
   },
   "outputs": [],
   "source": [
    "from tianshou.data import Batch\n",
    "\n",
    "b = Batch(**_TREE_DATA_2)"
   ]
  },
  {
   "cell_type": "code",
   "execution_count": 9,
   "id": "cb0777c3",
   "metadata": {
    "execution": {
     "iopub.execute_input": "2023-02-27T11:32:20.691402Z",
     "iopub.status.busy": "2023-02-27T11:32:20.690790Z",
     "iopub.status.idle": "2023-02-27T11:32:20.697968Z",
     "shell.execute_reply": "2023-02-27T11:32:20.697096Z"
    }
   },
   "outputs": [
    {
     "data": {
      "text/plain": [
       "Batch(\n",
       "    a: tensor([[ 1.4000,  0.1934, -1.1863],\n",
       "               [-1.5245, -0.9823,  1.6038]]),\n",
       "    x: Batch(\n",
       "           c: tensor([[ 1.0378,  0.5662, -0.1120,  1.6279],\n",
       "                      [-0.9283,  0.3824, -0.8181, -0.8091],\n",
       "                      [-1.9933, -0.2542, -0.4623, -0.2984]]),\n",
       "       ),\n",
       ")"
      ]
     },
     "execution_count": 9,
     "metadata": {},
     "output_type": "execute_result"
    }
   ],
   "source": [
    "b"
   ]
  },
  {
   "cell_type": "code",
   "execution_count": 10,
   "id": "43ef8ea3",
   "metadata": {
    "execution": {
     "iopub.execute_input": "2023-02-27T11:32:20.700719Z",
     "iopub.status.busy": "2023-02-27T11:32:20.700394Z",
     "iopub.status.idle": "2023-02-27T11:32:20.706926Z",
     "shell.execute_reply": "2023-02-27T11:32:20.706025Z"
    }
   },
   "outputs": [
    {
     "data": {
      "text/plain": [
       "tensor([[ 1.4000,  0.1934, -1.1863],\n",
       "        [-1.5245, -0.9823,  1.6038]])"
      ]
     },
     "execution_count": 10,
     "metadata": {},
     "output_type": "execute_result"
    }
   ],
   "source": [
    "b.a"
   ]
  },
  {
   "cell_type": "code",
   "execution_count": 11,
   "id": "b785ab72",
   "metadata": {
    "execution": {
     "iopub.execute_input": "2023-02-27T11:32:20.710098Z",
     "iopub.status.busy": "2023-02-27T11:32:20.709627Z",
     "iopub.status.idle": "2023-02-27T11:32:25.178394Z",
     "shell.execute_reply": "2023-02-27T11:32:25.177657Z"
    }
   },
   "outputs": [
    {
     "name": "stdout",
     "output_type": "stream",
     "text": [
      "54.5 ns ± 0.0236 ns per loop (mean ± std. dev. of 7 runs, 10,000,000 loops each)\n"
     ]
    }
   ],
   "source": [
    "%timeit b.a"
   ]
  },
  {
   "cell_type": "code",
   "execution_count": 12,
   "id": "ad54dc69",
   "metadata": {
    "execution": {
     "iopub.execute_input": "2023-02-27T11:32:25.181263Z",
     "iopub.status.busy": "2023-02-27T11:32:25.180817Z",
     "iopub.status.idle": "2023-02-27T11:32:25.187074Z",
     "shell.execute_reply": "2023-02-27T11:32:25.186487Z"
    }
   },
   "outputs": [
    {
     "data": {
      "text/plain": [
       "Batch(\n",
       "    a: tensor([[ 0.3504, -0.4902, -0.3609],\n",
       "               [-0.5849, -1.3304,  0.3532]]),\n",
       "    x: Batch(\n",
       "           c: tensor([[ 1.0378,  0.5662, -0.1120,  1.6279],\n",
       "                      [-0.9283,  0.3824, -0.8181, -0.8091],\n",
       "                      [-1.9933, -0.2542, -0.4623, -0.2984]]),\n",
       "       ),\n",
       ")"
      ]
     },
     "execution_count": 12,
     "metadata": {},
     "output_type": "execute_result"
    }
   ],
   "source": [
    "new_value = torch.randn(2, 3)\n",
    "b.a = new_value\n",
    "\n",
    "b"
   ]
  },
  {
   "cell_type": "code",
   "execution_count": 13,
   "id": "29b1d0bf",
   "metadata": {
    "execution": {
     "iopub.execute_input": "2023-02-27T11:32:25.189555Z",
     "iopub.status.busy": "2023-02-27T11:32:25.189221Z",
     "iopub.status.idle": "2023-02-27T11:32:29.127999Z",
     "shell.execute_reply": "2023-02-27T11:32:29.127291Z"
    }
   },
   "outputs": [
    {
     "name": "stdout",
     "output_type": "stream",
     "text": [
      "485 ns ± 0.0974 ns per loop (mean ± std. dev. of 7 runs, 1,000,000 loops each)\n"
     ]
    }
   ],
   "source": [
    "%timeit b.a = new_value"
   ]
  },
  {
   "cell_type": "markdown",
   "id": "b61ad1d0",
   "metadata": {},
   "source": [
    "## Initialization"
   ]
  },
  {
   "cell_type": "markdown",
   "id": "d70f0d54",
   "metadata": {},
   "source": [
    "### TreeValue's Initialization"
   ]
  },
  {
   "cell_type": "code",
   "execution_count": 14,
   "id": "d32a679b",
   "metadata": {
    "execution": {
     "iopub.execute_input": "2023-02-27T11:32:29.131146Z",
     "iopub.status.busy": "2023-02-27T11:32:29.130549Z",
     "iopub.status.idle": "2023-02-27T11:32:36.288033Z",
     "shell.execute_reply": "2023-02-27T11:32:36.287331Z"
    }
   },
   "outputs": [
    {
     "name": "stdout",
     "output_type": "stream",
     "text": [
      "883 ns ± 4.5 ns per loop (mean ± std. dev. of 7 runs, 1,000,000 loops each)\n"
     ]
    }
   ],
   "source": [
    "%timeit FastTreeValue(_TREE_DATA_1)"
   ]
  },
  {
   "cell_type": "markdown",
   "id": "24f3707b",
   "metadata": {},
   "source": [
    "### Tianshou Batch's Initialization"
   ]
  },
  {
   "cell_type": "code",
   "execution_count": 15,
   "id": "ac3958df",
   "metadata": {
    "execution": {
     "iopub.execute_input": "2023-02-27T11:32:36.291088Z",
     "iopub.status.busy": "2023-02-27T11:32:36.290732Z",
     "iopub.status.idle": "2023-02-27T11:32:45.315848Z",
     "shell.execute_reply": "2023-02-27T11:32:45.315127Z"
    }
   },
   "outputs": [
    {
     "name": "stdout",
     "output_type": "stream",
     "text": [
      "11.1 µs ± 55.1 ns per loop (mean ± std. dev. of 7 runs, 100,000 loops each)\n"
     ]
    }
   ],
   "source": [
    "%timeit Batch(**_TREE_DATA_1)"
   ]
  },
  {
   "cell_type": "markdown",
   "id": "1ab82e2d",
   "metadata": {},
   "source": [
    "## Deep Copy Operation"
   ]
  },
  {
   "cell_type": "code",
   "execution_count": 16,
   "id": "210a9442",
   "metadata": {
    "execution": {
     "iopub.execute_input": "2023-02-27T11:32:45.319187Z",
     "iopub.status.busy": "2023-02-27T11:32:45.318658Z",
     "iopub.status.idle": "2023-02-27T11:32:45.322187Z",
     "shell.execute_reply": "2023-02-27T11:32:45.321609Z"
    }
   },
   "outputs": [],
   "source": [
    "import copy"
   ]
  },
  {
   "cell_type": "markdown",
   "id": "5a736274",
   "metadata": {},
   "source": [
    "### Deep Copy of TreeValue"
   ]
  },
  {
   "cell_type": "code",
   "execution_count": 17,
   "id": "f9bcadd6",
   "metadata": {
    "execution": {
     "iopub.execute_input": "2023-02-27T11:32:45.324829Z",
     "iopub.status.busy": "2023-02-27T11:32:45.324303Z",
     "iopub.status.idle": "2023-02-27T11:32:56.687552Z",
     "shell.execute_reply": "2023-02-27T11:32:56.686958Z"
    }
   },
   "outputs": [
    {
     "name": "stdout",
     "output_type": "stream",
     "text": [
      "140 µs ± 411 ns per loop (mean ± std. dev. of 7 runs, 10,000 loops each)\n"
     ]
    }
   ],
   "source": [
    "t3 = FastTreeValue(_TREE_DATA_3)\n",
    "%timeit copy.deepcopy(t3)"
   ]
  },
  {
   "cell_type": "markdown",
   "id": "bf8be7ea",
   "metadata": {},
   "source": [
    "### Deep Copy of Tianshou Batch"
   ]
  },
  {
   "cell_type": "code",
   "execution_count": 18,
   "id": "91998e6f",
   "metadata": {
    "execution": {
     "iopub.execute_input": "2023-02-27T11:32:56.691223Z",
     "iopub.status.busy": "2023-02-27T11:32:56.690136Z",
     "iopub.status.idle": "2023-02-27T11:33:08.126612Z",
     "shell.execute_reply": "2023-02-27T11:33:08.126036Z"
    }
   },
   "outputs": [
    {
     "name": "stdout",
     "output_type": "stream",
     "text": [
      "141 µs ± 1.32 µs per loop (mean ± std. dev. of 7 runs, 10,000 loops each)\n"
     ]
    }
   ],
   "source": [
    "b3 = Batch(**_TREE_DATA_3)\n",
    "%timeit copy.deepcopy(b3)"
   ]
  },
  {
   "cell_type": "markdown",
   "id": "223162fb",
   "metadata": {},
   "source": [
    "## Stack, Concat and Split Operation"
   ]
  },
  {
   "cell_type": "markdown",
   "id": "85fa4a73",
   "metadata": {},
   "source": [
    "### Performance of TreeValue"
   ]
  },
  {
   "cell_type": "code",
   "execution_count": 19,
   "id": "a0c2b697",
   "metadata": {
    "execution": {
     "iopub.execute_input": "2023-02-27T11:33:08.129515Z",
     "iopub.status.busy": "2023-02-27T11:33:08.128994Z",
     "iopub.status.idle": "2023-02-27T11:33:08.133581Z",
     "shell.execute_reply": "2023-02-27T11:33:08.133030Z"
    }
   },
   "outputs": [],
   "source": [
    "trees = [FastTreeValue(_TREE_DATA_2) for _ in range(8)]"
   ]
  },
  {
   "cell_type": "code",
   "execution_count": 20,
   "id": "017ea5a5",
   "metadata": {
    "execution": {
     "iopub.execute_input": "2023-02-27T11:33:08.136285Z",
     "iopub.status.busy": "2023-02-27T11:33:08.135646Z",
     "iopub.status.idle": "2023-02-27T11:33:08.142891Z",
     "shell.execute_reply": "2023-02-27T11:33:08.142378Z"
    }
   },
   "outputs": [
    {
     "data": {
      "text/plain": [
       "<FastTreeValue 0x7f2bc8c90820>\n",
       "├── 'a' --> tensor([[[ 1.4000,  0.1934, -1.1863],\n",
       "│                    [-1.5245, -0.9823,  1.6038]],\n",
       "│           \n",
       "│                   [[ 1.4000,  0.1934, -1.1863],\n",
       "│                    [-1.5245, -0.9823,  1.6038]],\n",
       "│           \n",
       "│                   [[ 1.4000,  0.1934, -1.1863],\n",
       "│                    [-1.5245, -0.9823,  1.6038]],\n",
       "│           \n",
       "│                   [[ 1.4000,  0.1934, -1.1863],\n",
       "│                    [-1.5245, -0.9823,  1.6038]],\n",
       "│           \n",
       "│                   [[ 1.4000,  0.1934, -1.1863],\n",
       "│                    [-1.5245, -0.9823,  1.6038]],\n",
       "│           \n",
       "│                   [[ 1.4000,  0.1934, -1.1863],\n",
       "│                    [-1.5245, -0.9823,  1.6038]],\n",
       "│           \n",
       "│                   [[ 1.4000,  0.1934, -1.1863],\n",
       "│                    [-1.5245, -0.9823,  1.6038]],\n",
       "│           \n",
       "│                   [[ 1.4000,  0.1934, -1.1863],\n",
       "│                    [-1.5245, -0.9823,  1.6038]]])\n",
       "└── 'x' --> <FastTreeValue 0x7f2bc8c90490>\n",
       "    └── 'c' --> tensor([[[ 1.0378,  0.5662, -0.1120,  1.6279],\n",
       "                         [-0.9283,  0.3824, -0.8181, -0.8091],\n",
       "                         [-1.9933, -0.2542, -0.4623, -0.2984]],\n",
       "                \n",
       "                        [[ 1.0378,  0.5662, -0.1120,  1.6279],\n",
       "                         [-0.9283,  0.3824, -0.8181, -0.8091],\n",
       "                         [-1.9933, -0.2542, -0.4623, -0.2984]],\n",
       "                \n",
       "                        [[ 1.0378,  0.5662, -0.1120,  1.6279],\n",
       "                         [-0.9283,  0.3824, -0.8181, -0.8091],\n",
       "                         [-1.9933, -0.2542, -0.4623, -0.2984]],\n",
       "                \n",
       "                        [[ 1.0378,  0.5662, -0.1120,  1.6279],\n",
       "                         [-0.9283,  0.3824, -0.8181, -0.8091],\n",
       "                         [-1.9933, -0.2542, -0.4623, -0.2984]],\n",
       "                \n",
       "                        [[ 1.0378,  0.5662, -0.1120,  1.6279],\n",
       "                         [-0.9283,  0.3824, -0.8181, -0.8091],\n",
       "                         [-1.9933, -0.2542, -0.4623, -0.2984]],\n",
       "                \n",
       "                        [[ 1.0378,  0.5662, -0.1120,  1.6279],\n",
       "                         [-0.9283,  0.3824, -0.8181, -0.8091],\n",
       "                         [-1.9933, -0.2542, -0.4623, -0.2984]],\n",
       "                \n",
       "                        [[ 1.0378,  0.5662, -0.1120,  1.6279],\n",
       "                         [-0.9283,  0.3824, -0.8181, -0.8091],\n",
       "                         [-1.9933, -0.2542, -0.4623, -0.2984]],\n",
       "                \n",
       "                        [[ 1.0378,  0.5662, -0.1120,  1.6279],\n",
       "                         [-0.9283,  0.3824, -0.8181, -0.8091],\n",
       "                         [-1.9933, -0.2542, -0.4623, -0.2984]]])"
      ]
     },
     "execution_count": 20,
     "metadata": {},
     "output_type": "execute_result"
    }
   ],
   "source": [
    "t_stack = FastTreeValue.func(subside=True)(torch.stack)\n",
    "\n",
    "t_stack(trees)"
   ]
  },
  {
   "cell_type": "code",
   "execution_count": 21,
   "id": "f8b3f415",
   "metadata": {
    "execution": {
     "iopub.execute_input": "2023-02-27T11:33:08.145450Z",
     "iopub.status.busy": "2023-02-27T11:33:08.144792Z",
     "iopub.status.idle": "2023-02-27T11:33:10.827935Z",
     "shell.execute_reply": "2023-02-27T11:33:10.827199Z"
    }
   },
   "outputs": [
    {
     "name": "stdout",
     "output_type": "stream",
     "text": [
      "33 µs ± 40.6 ns per loop (mean ± std. dev. of 7 runs, 10,000 loops each)\n"
     ]
    }
   ],
   "source": [
    "%timeit t_stack(trees)"
   ]
  },
  {
   "cell_type": "code",
   "execution_count": 22,
   "id": "94b56771",
   "metadata": {
    "execution": {
     "iopub.execute_input": "2023-02-27T11:33:10.830988Z",
     "iopub.status.busy": "2023-02-27T11:33:10.830623Z",
     "iopub.status.idle": "2023-02-27T11:33:10.838422Z",
     "shell.execute_reply": "2023-02-27T11:33:10.837783Z"
    }
   },
   "outputs": [
    {
     "data": {
      "text/plain": [
       "<FastTreeValue 0x7f2c64fb80d0>\n",
       "├── 'a' --> tensor([[ 1.4000,  0.1934, -1.1863],\n",
       "│                   [-1.5245, -0.9823,  1.6038],\n",
       "│                   [ 1.4000,  0.1934, -1.1863],\n",
       "│                   [-1.5245, -0.9823,  1.6038],\n",
       "│                   [ 1.4000,  0.1934, -1.1863],\n",
       "│                   [-1.5245, -0.9823,  1.6038],\n",
       "│                   [ 1.4000,  0.1934, -1.1863],\n",
       "│                   [-1.5245, -0.9823,  1.6038],\n",
       "│                   [ 1.4000,  0.1934, -1.1863],\n",
       "│                   [-1.5245, -0.9823,  1.6038],\n",
       "│                   [ 1.4000,  0.1934, -1.1863],\n",
       "│                   [-1.5245, -0.9823,  1.6038],\n",
       "│                   [ 1.4000,  0.1934, -1.1863],\n",
       "│                   [-1.5245, -0.9823,  1.6038],\n",
       "│                   [ 1.4000,  0.1934, -1.1863],\n",
       "│                   [-1.5245, -0.9823,  1.6038]])\n",
       "└── 'x' --> <FastTreeValue 0x7f2c64fb80a0>\n",
       "    └── 'c' --> tensor([[ 1.0378,  0.5662, -0.1120,  1.6279],\n",
       "                        [-0.9283,  0.3824, -0.8181, -0.8091],\n",
       "                        [-1.9933, -0.2542, -0.4623, -0.2984],\n",
       "                        [ 1.0378,  0.5662, -0.1120,  1.6279],\n",
       "                        [-0.9283,  0.3824, -0.8181, -0.8091],\n",
       "                        [-1.9933, -0.2542, -0.4623, -0.2984],\n",
       "                        [ 1.0378,  0.5662, -0.1120,  1.6279],\n",
       "                        [-0.9283,  0.3824, -0.8181, -0.8091],\n",
       "                        [-1.9933, -0.2542, -0.4623, -0.2984],\n",
       "                        [ 1.0378,  0.5662, -0.1120,  1.6279],\n",
       "                        [-0.9283,  0.3824, -0.8181, -0.8091],\n",
       "                        [-1.9933, -0.2542, -0.4623, -0.2984],\n",
       "                        [ 1.0378,  0.5662, -0.1120,  1.6279],\n",
       "                        [-0.9283,  0.3824, -0.8181, -0.8091],\n",
       "                        [-1.9933, -0.2542, -0.4623, -0.2984],\n",
       "                        [ 1.0378,  0.5662, -0.1120,  1.6279],\n",
       "                        [-0.9283,  0.3824, -0.8181, -0.8091],\n",
       "                        [-1.9933, -0.2542, -0.4623, -0.2984],\n",
       "                        [ 1.0378,  0.5662, -0.1120,  1.6279],\n",
       "                        [-0.9283,  0.3824, -0.8181, -0.8091],\n",
       "                        [-1.9933, -0.2542, -0.4623, -0.2984],\n",
       "                        [ 1.0378,  0.5662, -0.1120,  1.6279],\n",
       "                        [-0.9283,  0.3824, -0.8181, -0.8091],\n",
       "                        [-1.9933, -0.2542, -0.4623, -0.2984]])"
      ]
     },
     "execution_count": 22,
     "metadata": {},
     "output_type": "execute_result"
    }
   ],
   "source": [
    "t_cat = FastTreeValue.func(subside=True)(torch.cat)\n",
    "\n",
    "t_cat(trees)"
   ]
  },
  {
   "cell_type": "code",
   "execution_count": 23,
   "id": "5e9c06a6",
   "metadata": {
    "execution": {
     "iopub.execute_input": "2023-02-27T11:33:10.840895Z",
     "iopub.status.busy": "2023-02-27T11:33:10.840545Z",
     "iopub.status.idle": "2023-02-27T11:33:13.364687Z",
     "shell.execute_reply": "2023-02-27T11:33:13.363958Z"
    }
   },
   "outputs": [
    {
     "name": "stdout",
     "output_type": "stream",
     "text": [
      "31 µs ± 55.2 ns per loop (mean ± std. dev. of 7 runs, 10,000 loops each)\n"
     ]
    }
   ],
   "source": [
    "%timeit t_cat(trees)"
   ]
  },
  {
   "cell_type": "code",
   "execution_count": 24,
   "id": "a3ab5c8f",
   "metadata": {
    "execution": {
     "iopub.execute_input": "2023-02-27T11:33:13.367577Z",
     "iopub.status.busy": "2023-02-27T11:33:13.367213Z",
     "iopub.status.idle": "2023-02-27T11:33:18.179997Z",
     "shell.execute_reply": "2023-02-27T11:33:18.179279Z"
    }
   },
   "outputs": [
    {
     "name": "stdout",
     "output_type": "stream",
     "text": [
      "59.2 µs ± 53.8 ns per loop (mean ± std. dev. of 7 runs, 10,000 loops each)\n"
     ]
    }
   ],
   "source": [
    "t_split = FastTreeValue.func(rise=True)(torch.split)\n",
    "tree = FastTreeValue({\n",
    "    'obs': torch.randn(8, 4, 84, 84),\n",
    "    'action': torch.randint(0, 6, size=(8, 1,)),\n",
    "    'reward': torch.rand(8, 1),\n",
    "})\n",
    "\n",
    "%timeit t_split(tree, 1)"
   ]
  },
  {
   "cell_type": "markdown",
   "id": "31c3ec0b",
   "metadata": {},
   "source": [
    "### Performance of Tianshou Batch"
   ]
  },
  {
   "cell_type": "code",
   "execution_count": 25,
   "id": "9ead828a",
   "metadata": {
    "execution": {
     "iopub.execute_input": "2023-02-27T11:33:18.183201Z",
     "iopub.status.busy": "2023-02-27T11:33:18.182827Z",
     "iopub.status.idle": "2023-02-27T11:33:18.190870Z",
     "shell.execute_reply": "2023-02-27T11:33:18.190270Z"
    }
   },
   "outputs": [
    {
     "data": {
      "text/plain": [
       "Batch(\n",
       "    a: tensor([[[ 1.4000,  0.1934, -1.1863],\n",
       "                [-1.5245, -0.9823,  1.6038]],\n",
       "       \n",
       "               [[ 1.4000,  0.1934, -1.1863],\n",
       "                [-1.5245, -0.9823,  1.6038]],\n",
       "       \n",
       "               [[ 1.4000,  0.1934, -1.1863],\n",
       "                [-1.5245, -0.9823,  1.6038]],\n",
       "       \n",
       "               [[ 1.4000,  0.1934, -1.1863],\n",
       "                [-1.5245, -0.9823,  1.6038]],\n",
       "       \n",
       "               [[ 1.4000,  0.1934, -1.1863],\n",
       "                [-1.5245, -0.9823,  1.6038]],\n",
       "       \n",
       "               [[ 1.4000,  0.1934, -1.1863],\n",
       "                [-1.5245, -0.9823,  1.6038]],\n",
       "       \n",
       "               [[ 1.4000,  0.1934, -1.1863],\n",
       "                [-1.5245, -0.9823,  1.6038]],\n",
       "       \n",
       "               [[ 1.4000,  0.1934, -1.1863],\n",
       "                [-1.5245, -0.9823,  1.6038]]]),\n",
       "    x: Batch(\n",
       "           c: tensor([[[ 1.0378,  0.5662, -0.1120,  1.6279],\n",
       "                       [-0.9283,  0.3824, -0.8181, -0.8091],\n",
       "                       [-1.9933, -0.2542, -0.4623, -0.2984]],\n",
       "              \n",
       "                      [[ 1.0378,  0.5662, -0.1120,  1.6279],\n",
       "                       [-0.9283,  0.3824, -0.8181, -0.8091],\n",
       "                       [-1.9933, -0.2542, -0.4623, -0.2984]],\n",
       "              \n",
       "                      [[ 1.0378,  0.5662, -0.1120,  1.6279],\n",
       "                       [-0.9283,  0.3824, -0.8181, -0.8091],\n",
       "                       [-1.9933, -0.2542, -0.4623, -0.2984]],\n",
       "              \n",
       "                      [[ 1.0378,  0.5662, -0.1120,  1.6279],\n",
       "                       [-0.9283,  0.3824, -0.8181, -0.8091],\n",
       "                       [-1.9933, -0.2542, -0.4623, -0.2984]],\n",
       "              \n",
       "                      [[ 1.0378,  0.5662, -0.1120,  1.6279],\n",
       "                       [-0.9283,  0.3824, -0.8181, -0.8091],\n",
       "                       [-1.9933, -0.2542, -0.4623, -0.2984]],\n",
       "              \n",
       "                      [[ 1.0378,  0.5662, -0.1120,  1.6279],\n",
       "                       [-0.9283,  0.3824, -0.8181, -0.8091],\n",
       "                       [-1.9933, -0.2542, -0.4623, -0.2984]],\n",
       "              \n",
       "                      [[ 1.0378,  0.5662, -0.1120,  1.6279],\n",
       "                       [-0.9283,  0.3824, -0.8181, -0.8091],\n",
       "                       [-1.9933, -0.2542, -0.4623, -0.2984]],\n",
       "              \n",
       "                      [[ 1.0378,  0.5662, -0.1120,  1.6279],\n",
       "                       [-0.9283,  0.3824, -0.8181, -0.8091],\n",
       "                       [-1.9933, -0.2542, -0.4623, -0.2984]]]),\n",
       "       ),\n",
       ")"
      ]
     },
     "execution_count": 25,
     "metadata": {},
     "output_type": "execute_result"
    }
   ],
   "source": [
    "batches = [Batch(**_TREE_DATA_2) for _ in range(8)]\n",
    "\n",
    "Batch.stack(batches)"
   ]
  },
  {
   "cell_type": "code",
   "execution_count": 26,
   "id": "ec9037a3",
   "metadata": {
    "execution": {
     "iopub.execute_input": "2023-02-27T11:33:18.193879Z",
     "iopub.status.busy": "2023-02-27T11:33:18.193339Z",
     "iopub.status.idle": "2023-02-27T11:33:24.586915Z",
     "shell.execute_reply": "2023-02-27T11:33:24.586240Z"
    }
   },
   "outputs": [
    {
     "name": "stdout",
     "output_type": "stream",
     "text": [
      "78.6 µs ± 122 ns per loop (mean ± std. dev. of 7 runs, 10,000 loops each)\n"
     ]
    }
   ],
   "source": [
    "%timeit Batch.stack(batches)"
   ]
  },
  {
   "cell_type": "code",
   "execution_count": 27,
   "id": "cb8ab77e",
   "metadata": {
    "execution": {
     "iopub.execute_input": "2023-02-27T11:33:24.590060Z",
     "iopub.status.busy": "2023-02-27T11:33:24.589541Z",
     "iopub.status.idle": "2023-02-27T11:33:24.597427Z",
     "shell.execute_reply": "2023-02-27T11:33:24.596733Z"
    }
   },
   "outputs": [
    {
     "data": {
      "text/plain": [
       "Batch(\n",
       "    a: tensor([[ 1.4000,  0.1934, -1.1863],\n",
       "               [-1.5245, -0.9823,  1.6038],\n",
       "               [ 1.4000,  0.1934, -1.1863],\n",
       "               [-1.5245, -0.9823,  1.6038],\n",
       "               [ 1.4000,  0.1934, -1.1863],\n",
       "               [-1.5245, -0.9823,  1.6038],\n",
       "               [ 1.4000,  0.1934, -1.1863],\n",
       "               [-1.5245, -0.9823,  1.6038],\n",
       "               [ 1.4000,  0.1934, -1.1863],\n",
       "               [-1.5245, -0.9823,  1.6038],\n",
       "               [ 1.4000,  0.1934, -1.1863],\n",
       "               [-1.5245, -0.9823,  1.6038],\n",
       "               [ 1.4000,  0.1934, -1.1863],\n",
       "               [-1.5245, -0.9823,  1.6038],\n",
       "               [ 1.4000,  0.1934, -1.1863],\n",
       "               [-1.5245, -0.9823,  1.6038]]),\n",
       "    x: Batch(\n",
       "           c: tensor([[ 1.0378,  0.5662, -0.1120,  1.6279],\n",
       "                      [-0.9283,  0.3824, -0.8181, -0.8091],\n",
       "                      [-1.9933, -0.2542, -0.4623, -0.2984],\n",
       "                      [ 1.0378,  0.5662, -0.1120,  1.6279],\n",
       "                      [-0.9283,  0.3824, -0.8181, -0.8091],\n",
       "                      [-1.9933, -0.2542, -0.4623, -0.2984],\n",
       "                      [ 1.0378,  0.5662, -0.1120,  1.6279],\n",
       "                      [-0.9283,  0.3824, -0.8181, -0.8091],\n",
       "                      [-1.9933, -0.2542, -0.4623, -0.2984],\n",
       "                      [ 1.0378,  0.5662, -0.1120,  1.6279],\n",
       "                      [-0.9283,  0.3824, -0.8181, -0.8091],\n",
       "                      [-1.9933, -0.2542, -0.4623, -0.2984],\n",
       "                      [ 1.0378,  0.5662, -0.1120,  1.6279],\n",
       "                      [-0.9283,  0.3824, -0.8181, -0.8091],\n",
       "                      [-1.9933, -0.2542, -0.4623, -0.2984],\n",
       "                      [ 1.0378,  0.5662, -0.1120,  1.6279],\n",
       "                      [-0.9283,  0.3824, -0.8181, -0.8091],\n",
       "                      [-1.9933, -0.2542, -0.4623, -0.2984],\n",
       "                      [ 1.0378,  0.5662, -0.1120,  1.6279],\n",
       "                      [-0.9283,  0.3824, -0.8181, -0.8091],\n",
       "                      [-1.9933, -0.2542, -0.4623, -0.2984],\n",
       "                      [ 1.0378,  0.5662, -0.1120,  1.6279],\n",
       "                      [-0.9283,  0.3824, -0.8181, -0.8091],\n",
       "                      [-1.9933, -0.2542, -0.4623, -0.2984]]),\n",
       "       ),\n",
       ")"
      ]
     },
     "execution_count": 27,
     "metadata": {},
     "output_type": "execute_result"
    }
   ],
   "source": [
    "Batch.cat(batches)"
   ]
  },
  {
   "cell_type": "code",
   "execution_count": 28,
   "id": "18dfb045",
   "metadata": {
    "execution": {
     "iopub.execute_input": "2023-02-27T11:33:24.600432Z",
     "iopub.status.busy": "2023-02-27T11:33:24.600039Z",
     "iopub.status.idle": "2023-02-27T11:33:36.370223Z",
     "shell.execute_reply": "2023-02-27T11:33:36.369504Z"
    }
   },
   "outputs": [
    {
     "name": "stdout",
     "output_type": "stream",
     "text": [
      "145 µs ± 220 ns per loop (mean ± std. dev. of 7 runs, 10,000 loops each)\n"
     ]
    }
   ],
   "source": [
    "%timeit Batch.cat(batches)"
   ]
  },
  {
   "cell_type": "code",
   "execution_count": 29,
   "id": "c6688e51",
   "metadata": {
    "execution": {
     "iopub.execute_input": "2023-02-27T11:33:36.373523Z",
     "iopub.status.busy": "2023-02-27T11:33:36.372957Z",
     "iopub.status.idle": "2023-02-27T11:33:38.900647Z",
     "shell.execute_reply": "2023-02-27T11:33:38.899901Z"
    }
   },
   "outputs": [
    {
     "name": "stdout",
     "output_type": "stream",
     "text": [
      "310 µs ± 2.18 µs per loop (mean ± std. dev. of 7 runs, 1,000 loops each)\n"
     ]
    }
   ],
   "source": [
    "batch = Batch({\n",
    "    'obs': torch.randn(8, 4, 84, 84),\n",
    "    'action': torch.randint(0, 6, size=(8, 1,)),\n",
    "    'reward': torch.rand(8, 1)}\n",
    ")\n",
    "\n",
    "%timeit list(Batch.split(batch, 1, shuffle=False, merge_last=True))"
   ]
  },
  {
   "cell_type": "code",
   "execution_count": null,
   "id": "2539fbd9",
   "metadata": {},
   "outputs": [],
   "source": []
  }
 ],
 "metadata": {
  "kernelspec": {
   "display_name": "Python 3 (ipykernel)",
   "language": "python",
   "name": "python3"
  },
  "language_info": {
   "codemirror_mode": {
    "name": "ipython",
    "version": 3
   },
   "file_extension": ".py",
   "mimetype": "text/x-python",
   "name": "python",
   "nbconvert_exporter": "python",
   "pygments_lexer": "ipython3",
   "version": "3.8.16"
  }
 },
 "nbformat": 4,
 "nbformat_minor": 5
}
