{
 "cells": [
  {
   "cell_type": "markdown",
   "id": "9d39d946",
   "metadata": {},
   "source": [
    "# Comparison Between TreeValue and Tianshou Batch"
   ]
  },
  {
   "cell_type": "markdown",
   "id": "3c6db2d4",
   "metadata": {},
   "source": [
    "In this section, we will take a look at the feature and performance of the [Tianshou Batch](https://github.com/thu-ml/tianshou) library, which is developed by Tsinghua Machine Learning Group."
   ]
  },
  {
   "cell_type": "markdown",
   "id": "069361b0",
   "metadata": {},
   "source": [
    "Before starting the comparison, let us define some thing."
   ]
  },
  {
   "cell_type": "code",
   "execution_count": 1,
   "id": "06fc8d26",
   "metadata": {
    "execution": {
     "iopub.execute_input": "2023-02-27T13:28:36.975464Z",
     "iopub.status.busy": "2023-02-27T13:28:36.974978Z",
     "iopub.status.idle": "2023-02-27T13:28:38.168439Z",
     "shell.execute_reply": "2023-02-27T13:28:38.167319Z"
    }
   },
   "outputs": [
    {
     "name": "stderr",
     "output_type": "stream",
     "text": [
      "/opt/hostedtoolcache/Python/3.8.16/x64/lib/python3.8/site-packages/tqdm/auto.py:22: TqdmWarning: IProgress not found. Please update jupyter and ipywidgets. See https://ipywidgets.readthedocs.io/en/stable/user_install.html\n",
      "  from .autonotebook import tqdm as notebook_tqdm\n"
     ]
    }
   ],
   "source": [
    "import torch \n",
    "\n",
    "_TREE_DATA_1 = {'a': 1, 'b': 2, 'x': {'c': 3, 'd': 4}}\n",
    "_TREE_DATA_2 = {\n",
    "    'a': torch.randn(2, 3), \n",
    "    'x': {\n",
    "        'c': torch.randn(3, 4)\n",
    "    },\n",
    "}\n",
    "_TREE_DATA_3 = {\n",
    "    'obs': torch.randn(4, 84, 84),\n",
    "    'action': torch.randint(0, 6, size=(1,)),\n",
    "    'reward': torch.rand(1),\n",
    "}"
   ]
  },
  {
   "cell_type": "markdown",
   "id": "83461b25",
   "metadata": {},
   "source": [
    "## Read and Write Operation"
   ]
  },
  {
   "cell_type": "markdown",
   "id": "067b3f73",
   "metadata": {},
   "source": [
    "Reading and writing are the two most common operations in the tree data structure based on the data model (TreeValue and Tianshou Batch both belong to this type), so this section will compare the reading and writing performance of these two libraries."
   ]
  },
  {
   "cell_type": "markdown",
   "id": "5d09a5b7",
   "metadata": {},
   "source": [
    "### TreeValue's Get and Set"
   ]
  },
  {
   "cell_type": "code",
   "execution_count": 2,
   "id": "9519c4bb",
   "metadata": {
    "execution": {
     "iopub.execute_input": "2023-02-27T13:28:38.172862Z",
     "iopub.status.busy": "2023-02-27T13:28:38.172481Z",
     "iopub.status.idle": "2023-02-27T13:28:38.216810Z",
     "shell.execute_reply": "2023-02-27T13:28:38.215788Z"
    }
   },
   "outputs": [],
   "source": [
    "from treevalue import FastTreeValue\n",
    "\n",
    "t = FastTreeValue(_TREE_DATA_2)"
   ]
  },
  {
   "cell_type": "code",
   "execution_count": 3,
   "id": "11c37677",
   "metadata": {
    "execution": {
     "iopub.execute_input": "2023-02-27T13:28:38.220602Z",
     "iopub.status.busy": "2023-02-27T13:28:38.220321Z",
     "iopub.status.idle": "2023-02-27T13:28:38.234227Z",
     "shell.execute_reply": "2023-02-27T13:28:38.233355Z"
    }
   },
   "outputs": [
    {
     "data": {
      "text/plain": [
       "<FastTreeValue 0x7fe8200169d0>\n",
       "├── 'a' --> tensor([[ 0.6980, -0.6467, -0.0737],\n",
       "│                   [-2.1048, -1.3671,  0.5449]])\n",
       "└── 'x' --> <FastTreeValue 0x7fe820016850>\n",
       "    └── 'c' --> tensor([[ 0.5392,  0.4167,  2.5625, -0.8599],\n",
       "                        [ 0.9253, -1.0235, -0.2453,  1.8752],\n",
       "                        [-1.3958, -1.4544, -0.8702,  0.4972]])"
      ]
     },
     "execution_count": 3,
     "metadata": {},
     "output_type": "execute_result"
    }
   ],
   "source": [
    "t"
   ]
  },
  {
   "cell_type": "code",
   "execution_count": 4,
   "id": "fd70b0b9",
   "metadata": {
    "execution": {
     "iopub.execute_input": "2023-02-27T13:28:38.237795Z",
     "iopub.status.busy": "2023-02-27T13:28:38.237477Z",
     "iopub.status.idle": "2023-02-27T13:28:38.245830Z",
     "shell.execute_reply": "2023-02-27T13:28:38.244968Z"
    }
   },
   "outputs": [
    {
     "data": {
      "text/plain": [
       "tensor([[ 0.6980, -0.6467, -0.0737],\n",
       "        [-2.1048, -1.3671,  0.5449]])"
      ]
     },
     "execution_count": 4,
     "metadata": {},
     "output_type": "execute_result"
    }
   ],
   "source": [
    "t.a"
   ]
  },
  {
   "cell_type": "code",
   "execution_count": 5,
   "id": "c18197bd",
   "metadata": {
    "execution": {
     "iopub.execute_input": "2023-02-27T13:28:38.249510Z",
     "iopub.status.busy": "2023-02-27T13:28:38.248861Z",
     "iopub.status.idle": "2023-02-27T13:28:44.244431Z",
     "shell.execute_reply": "2023-02-27T13:28:44.243409Z"
    }
   },
   "outputs": [
    {
     "name": "stdout",
     "output_type": "stream",
     "text": [
      "73.9 ns ± 0.602 ns per loop (mean ± std. dev. of 7 runs, 10,000,000 loops each)\n"
     ]
    }
   ],
   "source": [
    "%timeit t.a"
   ]
  },
  {
   "cell_type": "code",
   "execution_count": 6,
   "id": "bd52f867",
   "metadata": {
    "execution": {
     "iopub.execute_input": "2023-02-27T13:28:44.247857Z",
     "iopub.status.busy": "2023-02-27T13:28:44.247399Z",
     "iopub.status.idle": "2023-02-27T13:28:44.256000Z",
     "shell.execute_reply": "2023-02-27T13:28:44.255066Z"
    }
   },
   "outputs": [
    {
     "data": {
      "text/plain": [
       "<FastTreeValue 0x7fe8200169d0>\n",
       "├── 'a' --> tensor([[ 0.3370, -2.2051, -0.0134],\n",
       "│                   [-0.3465, -0.1783, -0.5282]])\n",
       "└── 'x' --> <FastTreeValue 0x7fe820016850>\n",
       "    └── 'c' --> tensor([[ 0.5392,  0.4167,  2.5625, -0.8599],\n",
       "                        [ 0.9253, -1.0235, -0.2453,  1.8752],\n",
       "                        [-1.3958, -1.4544, -0.8702,  0.4972]])"
      ]
     },
     "execution_count": 6,
     "metadata": {},
     "output_type": "execute_result"
    }
   ],
   "source": [
    "new_value = torch.randn(2, 3)\n",
    "t.a = new_value\n",
    "\n",
    "t"
   ]
  },
  {
   "cell_type": "code",
   "execution_count": 7,
   "id": "bbe04d1c",
   "metadata": {
    "execution": {
     "iopub.execute_input": "2023-02-27T13:28:44.259201Z",
     "iopub.status.busy": "2023-02-27T13:28:44.258617Z",
     "iopub.status.idle": "2023-02-27T13:28:52.051695Z",
     "shell.execute_reply": "2023-02-27T13:28:52.050567Z"
    }
   },
   "outputs": [
    {
     "name": "stdout",
     "output_type": "stream",
     "text": [
      "95.9 ns ± 1.62 ns per loop (mean ± std. dev. of 7 runs, 10,000,000 loops each)\n"
     ]
    }
   ],
   "source": [
    "%timeit t.a = new_value"
   ]
  },
  {
   "cell_type": "markdown",
   "id": "48c49731",
   "metadata": {},
   "source": [
    "### Tianshou Batch's Get and Set"
   ]
  },
  {
   "cell_type": "code",
   "execution_count": 8,
   "id": "f1bb14c1",
   "metadata": {
    "execution": {
     "iopub.execute_input": "2023-02-27T13:28:52.055518Z",
     "iopub.status.busy": "2023-02-27T13:28:52.055219Z",
     "iopub.status.idle": "2023-02-27T13:28:52.511928Z",
     "shell.execute_reply": "2023-02-27T13:28:52.510932Z"
    }
   },
   "outputs": [],
   "source": [
    "from tianshou.data import Batch\n",
    "\n",
    "b = Batch(**_TREE_DATA_2)"
   ]
  },
  {
   "cell_type": "code",
   "execution_count": 9,
   "id": "cb0777c3",
   "metadata": {
    "execution": {
     "iopub.execute_input": "2023-02-27T13:28:52.520660Z",
     "iopub.status.busy": "2023-02-27T13:28:52.520144Z",
     "iopub.status.idle": "2023-02-27T13:28:52.542514Z",
     "shell.execute_reply": "2023-02-27T13:28:52.532075Z"
    }
   },
   "outputs": [
    {
     "data": {
      "text/plain": [
       "Batch(\n",
       "    a: tensor([[ 0.6980, -0.6467, -0.0737],\n",
       "               [-2.1048, -1.3671,  0.5449]]),\n",
       "    x: Batch(\n",
       "           c: tensor([[ 0.5392,  0.4167,  2.5625, -0.8599],\n",
       "                      [ 0.9253, -1.0235, -0.2453,  1.8752],\n",
       "                      [-1.3958, -1.4544, -0.8702,  0.4972]]),\n",
       "       ),\n",
       ")"
      ]
     },
     "execution_count": 9,
     "metadata": {},
     "output_type": "execute_result"
    }
   ],
   "source": [
    "b"
   ]
  },
  {
   "cell_type": "code",
   "execution_count": 10,
   "id": "43ef8ea3",
   "metadata": {
    "execution": {
     "iopub.execute_input": "2023-02-27T13:28:52.549273Z",
     "iopub.status.busy": "2023-02-27T13:28:52.548978Z",
     "iopub.status.idle": "2023-02-27T13:28:52.556711Z",
     "shell.execute_reply": "2023-02-27T13:28:52.554388Z"
    }
   },
   "outputs": [
    {
     "data": {
      "text/plain": [
       "tensor([[ 0.6980, -0.6467, -0.0737],\n",
       "        [-2.1048, -1.3671,  0.5449]])"
      ]
     },
     "execution_count": 10,
     "metadata": {},
     "output_type": "execute_result"
    }
   ],
   "source": [
    "b.a"
   ]
  },
  {
   "cell_type": "code",
   "execution_count": 11,
   "id": "b785ab72",
   "metadata": {
    "execution": {
     "iopub.execute_input": "2023-02-27T13:28:52.559882Z",
     "iopub.status.busy": "2023-02-27T13:28:52.559597Z",
     "iopub.status.idle": "2023-02-27T13:28:58.997739Z",
     "shell.execute_reply": "2023-02-27T13:28:58.996659Z"
    }
   },
   "outputs": [
    {
     "name": "stdout",
     "output_type": "stream",
     "text": [
      "80.4 ns ± 1.42 ns per loop (mean ± std. dev. of 7 runs, 10,000,000 loops each)\n"
     ]
    }
   ],
   "source": [
    "%timeit b.a"
   ]
  },
  {
   "cell_type": "code",
   "execution_count": 12,
   "id": "ad54dc69",
   "metadata": {
    "execution": {
     "iopub.execute_input": "2023-02-27T13:28:59.002182Z",
     "iopub.status.busy": "2023-02-27T13:28:59.001685Z",
     "iopub.status.idle": "2023-02-27T13:28:59.009937Z",
     "shell.execute_reply": "2023-02-27T13:28:59.008976Z"
    }
   },
   "outputs": [
    {
     "data": {
      "text/plain": [
       "Batch(\n",
       "    a: tensor([[ 0.4610,  0.7039, -0.2571],\n",
       "               [ 0.7490,  0.7873, -0.0675]]),\n",
       "    x: Batch(\n",
       "           c: tensor([[ 0.5392,  0.4167,  2.5625, -0.8599],\n",
       "                      [ 0.9253, -1.0235, -0.2453,  1.8752],\n",
       "                      [-1.3958, -1.4544, -0.8702,  0.4972]]),\n",
       "       ),\n",
       ")"
      ]
     },
     "execution_count": 12,
     "metadata": {},
     "output_type": "execute_result"
    }
   ],
   "source": [
    "new_value = torch.randn(2, 3)\n",
    "b.a = new_value\n",
    "\n",
    "b"
   ]
  },
  {
   "cell_type": "code",
   "execution_count": 13,
   "id": "29b1d0bf",
   "metadata": {
    "execution": {
     "iopub.execute_input": "2023-02-27T13:28:59.012935Z",
     "iopub.status.busy": "2023-02-27T13:28:59.012562Z",
     "iopub.status.idle": "2023-02-27T13:29:04.084995Z",
     "shell.execute_reply": "2023-02-27T13:29:04.083917Z"
    }
   },
   "outputs": [
    {
     "name": "stdout",
     "output_type": "stream",
     "text": [
      "627 ns ± 12.2 ns per loop (mean ± std. dev. of 7 runs, 1,000,000 loops each)\n"
     ]
    }
   ],
   "source": [
    "%timeit b.a = new_value"
   ]
  },
  {
   "cell_type": "markdown",
   "id": "b61ad1d0",
   "metadata": {},
   "source": [
    "## Initialization"
   ]
  },
  {
   "cell_type": "markdown",
   "id": "d70f0d54",
   "metadata": {},
   "source": [
    "### TreeValue's Initialization"
   ]
  },
  {
   "cell_type": "code",
   "execution_count": 14,
   "id": "d32a679b",
   "metadata": {
    "execution": {
     "iopub.execute_input": "2023-02-27T13:29:04.088794Z",
     "iopub.status.busy": "2023-02-27T13:29:04.088501Z",
     "iopub.status.idle": "2023-02-27T13:29:12.889658Z",
     "shell.execute_reply": "2023-02-27T13:29:12.888717Z"
    }
   },
   "outputs": [
    {
     "name": "stdout",
     "output_type": "stream",
     "text": [
      "1.08 µs ± 29.3 ns per loop (mean ± std. dev. of 7 runs, 1,000,000 loops each)\n"
     ]
    }
   ],
   "source": [
    "%timeit FastTreeValue(_TREE_DATA_1)"
   ]
  },
  {
   "cell_type": "markdown",
   "id": "24f3707b",
   "metadata": {},
   "source": [
    "### Tianshou Batch's Initialization"
   ]
  },
  {
   "cell_type": "code",
   "execution_count": 15,
   "id": "ac3958df",
   "metadata": {
    "execution": {
     "iopub.execute_input": "2023-02-27T13:29:12.893321Z",
     "iopub.status.busy": "2023-02-27T13:29:12.892867Z",
     "iopub.status.idle": "2023-02-27T13:29:24.443175Z",
     "shell.execute_reply": "2023-02-27T13:29:24.442252Z"
    }
   },
   "outputs": [
    {
     "name": "stdout",
     "output_type": "stream",
     "text": [
      "14.2 µs ± 163 ns per loop (mean ± std. dev. of 7 runs, 100,000 loops each)\n"
     ]
    }
   ],
   "source": [
    "%timeit Batch(**_TREE_DATA_1)"
   ]
  },
  {
   "cell_type": "markdown",
   "id": "1ab82e2d",
   "metadata": {},
   "source": [
    "## Deep Copy Operation"
   ]
  },
  {
   "cell_type": "code",
   "execution_count": 16,
   "id": "210a9442",
   "metadata": {
    "execution": {
     "iopub.execute_input": "2023-02-27T13:29:24.447267Z",
     "iopub.status.busy": "2023-02-27T13:29:24.446532Z",
     "iopub.status.idle": "2023-02-27T13:29:24.454584Z",
     "shell.execute_reply": "2023-02-27T13:29:24.453624Z"
    }
   },
   "outputs": [],
   "source": [
    "import copy"
   ]
  },
  {
   "cell_type": "markdown",
   "id": "5a736274",
   "metadata": {},
   "source": [
    "### Deep Copy of TreeValue"
   ]
  },
  {
   "cell_type": "code",
   "execution_count": 17,
   "id": "f9bcadd6",
   "metadata": {
    "execution": {
     "iopub.execute_input": "2023-02-27T13:29:24.458163Z",
     "iopub.status.busy": "2023-02-27T13:29:24.457713Z",
     "iopub.status.idle": "2023-02-27T13:29:26.780963Z",
     "shell.execute_reply": "2023-02-27T13:29:26.780129Z"
    }
   },
   "outputs": [
    {
     "name": "stdout",
     "output_type": "stream",
     "text": [
      "284 µs ± 10.9 µs per loop (mean ± std. dev. of 7 runs, 1,000 loops each)\n"
     ]
    }
   ],
   "source": [
    "t3 = FastTreeValue(_TREE_DATA_3)\n",
    "%timeit copy.deepcopy(t3)"
   ]
  },
  {
   "cell_type": "markdown",
   "id": "bf8be7ea",
   "metadata": {},
   "source": [
    "### Deep Copy of Tianshou Batch"
   ]
  },
  {
   "cell_type": "code",
   "execution_count": 18,
   "id": "91998e6f",
   "metadata": {
    "execution": {
     "iopub.execute_input": "2023-02-27T13:29:26.785574Z",
     "iopub.status.busy": "2023-02-27T13:29:26.784113Z",
     "iopub.status.idle": "2023-02-27T13:29:28.974936Z",
     "shell.execute_reply": "2023-02-27T13:29:28.973920Z"
    }
   },
   "outputs": [
    {
     "name": "stdout",
     "output_type": "stream",
     "text": [
      "269 µs ± 4.86 µs per loop (mean ± std. dev. of 7 runs, 1,000 loops each)\n"
     ]
    }
   ],
   "source": [
    "b3 = Batch(**_TREE_DATA_3)\n",
    "%timeit copy.deepcopy(b3)"
   ]
  },
  {
   "cell_type": "markdown",
   "id": "223162fb",
   "metadata": {},
   "source": [
    "## Stack, Concat and Split Operation"
   ]
  },
  {
   "cell_type": "markdown",
   "id": "85fa4a73",
   "metadata": {},
   "source": [
    "### Performance of TreeValue"
   ]
  },
  {
   "cell_type": "code",
   "execution_count": 19,
   "id": "a0c2b697",
   "metadata": {
    "execution": {
     "iopub.execute_input": "2023-02-27T13:29:28.978648Z",
     "iopub.status.busy": "2023-02-27T13:29:28.978134Z",
     "iopub.status.idle": "2023-02-27T13:29:28.983728Z",
     "shell.execute_reply": "2023-02-27T13:29:28.982757Z"
    }
   },
   "outputs": [],
   "source": [
    "trees = [FastTreeValue(_TREE_DATA_2) for _ in range(8)]"
   ]
  },
  {
   "cell_type": "code",
   "execution_count": 20,
   "id": "017ea5a5",
   "metadata": {
    "execution": {
     "iopub.execute_input": "2023-02-27T13:29:28.987747Z",
     "iopub.status.busy": "2023-02-27T13:29:28.987162Z",
     "iopub.status.idle": "2023-02-27T13:29:28.996584Z",
     "shell.execute_reply": "2023-02-27T13:29:28.995651Z"
    }
   },
   "outputs": [
    {
     "data": {
      "text/plain": [
       "<FastTreeValue 0x7fe775cccfd0>\n",
       "├── 'a' --> tensor([[[ 0.6980, -0.6467, -0.0737],\n",
       "│                    [-2.1048, -1.3671,  0.5449]],\n",
       "│           \n",
       "│                   [[ 0.6980, -0.6467, -0.0737],\n",
       "│                    [-2.1048, -1.3671,  0.5449]],\n",
       "│           \n",
       "│                   [[ 0.6980, -0.6467, -0.0737],\n",
       "│                    [-2.1048, -1.3671,  0.5449]],\n",
       "│           \n",
       "│                   [[ 0.6980, -0.6467, -0.0737],\n",
       "│                    [-2.1048, -1.3671,  0.5449]],\n",
       "│           \n",
       "│                   [[ 0.6980, -0.6467, -0.0737],\n",
       "│                    [-2.1048, -1.3671,  0.5449]],\n",
       "│           \n",
       "│                   [[ 0.6980, -0.6467, -0.0737],\n",
       "│                    [-2.1048, -1.3671,  0.5449]],\n",
       "│           \n",
       "│                   [[ 0.6980, -0.6467, -0.0737],\n",
       "│                    [-2.1048, -1.3671,  0.5449]],\n",
       "│           \n",
       "│                   [[ 0.6980, -0.6467, -0.0737],\n",
       "│                    [-2.1048, -1.3671,  0.5449]]])\n",
       "└── 'x' --> <FastTreeValue 0x7fe775ccaf40>\n",
       "    └── 'c' --> tensor([[[ 0.5392,  0.4167,  2.5625, -0.8599],\n",
       "                         [ 0.9253, -1.0235, -0.2453,  1.8752],\n",
       "                         [-1.3958, -1.4544, -0.8702,  0.4972]],\n",
       "                \n",
       "                        [[ 0.5392,  0.4167,  2.5625, -0.8599],\n",
       "                         [ 0.9253, -1.0235, -0.2453,  1.8752],\n",
       "                         [-1.3958, -1.4544, -0.8702,  0.4972]],\n",
       "                \n",
       "                        [[ 0.5392,  0.4167,  2.5625, -0.8599],\n",
       "                         [ 0.9253, -1.0235, -0.2453,  1.8752],\n",
       "                         [-1.3958, -1.4544, -0.8702,  0.4972]],\n",
       "                \n",
       "                        [[ 0.5392,  0.4167,  2.5625, -0.8599],\n",
       "                         [ 0.9253, -1.0235, -0.2453,  1.8752],\n",
       "                         [-1.3958, -1.4544, -0.8702,  0.4972]],\n",
       "                \n",
       "                        [[ 0.5392,  0.4167,  2.5625, -0.8599],\n",
       "                         [ 0.9253, -1.0235, -0.2453,  1.8752],\n",
       "                         [-1.3958, -1.4544, -0.8702,  0.4972]],\n",
       "                \n",
       "                        [[ 0.5392,  0.4167,  2.5625, -0.8599],\n",
       "                         [ 0.9253, -1.0235, -0.2453,  1.8752],\n",
       "                         [-1.3958, -1.4544, -0.8702,  0.4972]],\n",
       "                \n",
       "                        [[ 0.5392,  0.4167,  2.5625, -0.8599],\n",
       "                         [ 0.9253, -1.0235, -0.2453,  1.8752],\n",
       "                         [-1.3958, -1.4544, -0.8702,  0.4972]],\n",
       "                \n",
       "                        [[ 0.5392,  0.4167,  2.5625, -0.8599],\n",
       "                         [ 0.9253, -1.0235, -0.2453,  1.8752],\n",
       "                         [-1.3958, -1.4544, -0.8702,  0.4972]]])"
      ]
     },
     "execution_count": 20,
     "metadata": {},
     "output_type": "execute_result"
    }
   ],
   "source": [
    "t_stack = FastTreeValue.func(subside=True)(torch.stack)\n",
    "\n",
    "t_stack(trees)"
   ]
  },
  {
   "cell_type": "code",
   "execution_count": 21,
   "id": "f8b3f415",
   "metadata": {
    "execution": {
     "iopub.execute_input": "2023-02-27T13:29:29.000181Z",
     "iopub.status.busy": "2023-02-27T13:29:28.999683Z",
     "iopub.status.idle": "2023-02-27T13:29:32.689277Z",
     "shell.execute_reply": "2023-02-27T13:29:32.688227Z"
    }
   },
   "outputs": [
    {
     "name": "stdout",
     "output_type": "stream",
     "text": [
      "45.3 µs ± 562 ns per loop (mean ± std. dev. of 7 runs, 10,000 loops each)\n"
     ]
    }
   ],
   "source": [
    "%timeit t_stack(trees)"
   ]
  },
  {
   "cell_type": "code",
   "execution_count": 22,
   "id": "94b56771",
   "metadata": {
    "execution": {
     "iopub.execute_input": "2023-02-27T13:29:32.693298Z",
     "iopub.status.busy": "2023-02-27T13:29:32.692609Z",
     "iopub.status.idle": "2023-02-27T13:29:32.702820Z",
     "shell.execute_reply": "2023-02-27T13:29:32.701845Z"
    }
   },
   "outputs": [
    {
     "data": {
      "text/plain": [
       "<FastTreeValue 0x7fe77c8eb6a0>\n",
       "├── 'a' --> tensor([[ 0.6980, -0.6467, -0.0737],\n",
       "│                   [-2.1048, -1.3671,  0.5449],\n",
       "│                   [ 0.6980, -0.6467, -0.0737],\n",
       "│                   [-2.1048, -1.3671,  0.5449],\n",
       "│                   [ 0.6980, -0.6467, -0.0737],\n",
       "│                   [-2.1048, -1.3671,  0.5449],\n",
       "│                   [ 0.6980, -0.6467, -0.0737],\n",
       "│                   [-2.1048, -1.3671,  0.5449],\n",
       "│                   [ 0.6980, -0.6467, -0.0737],\n",
       "│                   [-2.1048, -1.3671,  0.5449],\n",
       "│                   [ 0.6980, -0.6467, -0.0737],\n",
       "│                   [-2.1048, -1.3671,  0.5449],\n",
       "│                   [ 0.6980, -0.6467, -0.0737],\n",
       "│                   [-2.1048, -1.3671,  0.5449],\n",
       "│                   [ 0.6980, -0.6467, -0.0737],\n",
       "│                   [-2.1048, -1.3671,  0.5449]])\n",
       "└── 'x' --> <FastTreeValue 0x7fe82008bfa0>\n",
       "    └── 'c' --> tensor([[ 0.5392,  0.4167,  2.5625, -0.8599],\n",
       "                        [ 0.9253, -1.0235, -0.2453,  1.8752],\n",
       "                        [-1.3958, -1.4544, -0.8702,  0.4972],\n",
       "                        [ 0.5392,  0.4167,  2.5625, -0.8599],\n",
       "                        [ 0.9253, -1.0235, -0.2453,  1.8752],\n",
       "                        [-1.3958, -1.4544, -0.8702,  0.4972],\n",
       "                        [ 0.5392,  0.4167,  2.5625, -0.8599],\n",
       "                        [ 0.9253, -1.0235, -0.2453,  1.8752],\n",
       "                        [-1.3958, -1.4544, -0.8702,  0.4972],\n",
       "                        [ 0.5392,  0.4167,  2.5625, -0.8599],\n",
       "                        [ 0.9253, -1.0235, -0.2453,  1.8752],\n",
       "                        [-1.3958, -1.4544, -0.8702,  0.4972],\n",
       "                        [ 0.5392,  0.4167,  2.5625, -0.8599],\n",
       "                        [ 0.9253, -1.0235, -0.2453,  1.8752],\n",
       "                        [-1.3958, -1.4544, -0.8702,  0.4972],\n",
       "                        [ 0.5392,  0.4167,  2.5625, -0.8599],\n",
       "                        [ 0.9253, -1.0235, -0.2453,  1.8752],\n",
       "                        [-1.3958, -1.4544, -0.8702,  0.4972],\n",
       "                        [ 0.5392,  0.4167,  2.5625, -0.8599],\n",
       "                        [ 0.9253, -1.0235, -0.2453,  1.8752],\n",
       "                        [-1.3958, -1.4544, -0.8702,  0.4972],\n",
       "                        [ 0.5392,  0.4167,  2.5625, -0.8599],\n",
       "                        [ 0.9253, -1.0235, -0.2453,  1.8752],\n",
       "                        [-1.3958, -1.4544, -0.8702,  0.4972]])"
      ]
     },
     "execution_count": 22,
     "metadata": {},
     "output_type": "execute_result"
    }
   ],
   "source": [
    "t_cat = FastTreeValue.func(subside=True)(torch.cat)\n",
    "\n",
    "t_cat(trees)"
   ]
  },
  {
   "cell_type": "code",
   "execution_count": 23,
   "id": "5e9c06a6",
   "metadata": {
    "execution": {
     "iopub.execute_input": "2023-02-27T13:29:32.706060Z",
     "iopub.status.busy": "2023-02-27T13:29:32.705770Z",
     "iopub.status.idle": "2023-02-27T13:29:36.130849Z",
     "shell.execute_reply": "2023-02-27T13:29:36.129800Z"
    }
   },
   "outputs": [
    {
     "name": "stdout",
     "output_type": "stream",
     "text": [
      "42.2 µs ± 1.09 µs per loop (mean ± std. dev. of 7 runs, 10,000 loops each)\n"
     ]
    }
   ],
   "source": [
    "%timeit t_cat(trees)"
   ]
  },
  {
   "cell_type": "code",
   "execution_count": 24,
   "id": "a3ab5c8f",
   "metadata": {
    "execution": {
     "iopub.execute_input": "2023-02-27T13:29:36.134996Z",
     "iopub.status.busy": "2023-02-27T13:29:36.134453Z",
     "iopub.status.idle": "2023-02-27T13:29:42.580661Z",
     "shell.execute_reply": "2023-02-27T13:29:42.579624Z"
    }
   },
   "outputs": [
    {
     "name": "stdout",
     "output_type": "stream",
     "text": [
      "79 µs ± 1.07 µs per loop (mean ± std. dev. of 7 runs, 10,000 loops each)\n"
     ]
    }
   ],
   "source": [
    "t_split = FastTreeValue.func(rise=True)(torch.split)\n",
    "tree = FastTreeValue({\n",
    "    'obs': torch.randn(8, 4, 84, 84),\n",
    "    'action': torch.randint(0, 6, size=(8, 1,)),\n",
    "    'reward': torch.rand(8, 1),\n",
    "})\n",
    "\n",
    "%timeit t_split(tree, 1)"
   ]
  },
  {
   "cell_type": "markdown",
   "id": "31c3ec0b",
   "metadata": {},
   "source": [
    "### Performance of Tianshou Batch"
   ]
  },
  {
   "cell_type": "code",
   "execution_count": 25,
   "id": "9ead828a",
   "metadata": {
    "execution": {
     "iopub.execute_input": "2023-02-27T13:29:42.584539Z",
     "iopub.status.busy": "2023-02-27T13:29:42.584233Z",
     "iopub.status.idle": "2023-02-27T13:29:42.594682Z",
     "shell.execute_reply": "2023-02-27T13:29:42.593737Z"
    }
   },
   "outputs": [
    {
     "data": {
      "text/plain": [
       "Batch(\n",
       "    x: Batch(\n",
       "           c: tensor([[[ 0.5392,  0.4167,  2.5625, -0.8599],\n",
       "                       [ 0.9253, -1.0235, -0.2453,  1.8752],\n",
       "                       [-1.3958, -1.4544, -0.8702,  0.4972]],\n",
       "              \n",
       "                      [[ 0.5392,  0.4167,  2.5625, -0.8599],\n",
       "                       [ 0.9253, -1.0235, -0.2453,  1.8752],\n",
       "                       [-1.3958, -1.4544, -0.8702,  0.4972]],\n",
       "              \n",
       "                      [[ 0.5392,  0.4167,  2.5625, -0.8599],\n",
       "                       [ 0.9253, -1.0235, -0.2453,  1.8752],\n",
       "                       [-1.3958, -1.4544, -0.8702,  0.4972]],\n",
       "              \n",
       "                      [[ 0.5392,  0.4167,  2.5625, -0.8599],\n",
       "                       [ 0.9253, -1.0235, -0.2453,  1.8752],\n",
       "                       [-1.3958, -1.4544, -0.8702,  0.4972]],\n",
       "              \n",
       "                      [[ 0.5392,  0.4167,  2.5625, -0.8599],\n",
       "                       [ 0.9253, -1.0235, -0.2453,  1.8752],\n",
       "                       [-1.3958, -1.4544, -0.8702,  0.4972]],\n",
       "              \n",
       "                      [[ 0.5392,  0.4167,  2.5625, -0.8599],\n",
       "                       [ 0.9253, -1.0235, -0.2453,  1.8752],\n",
       "                       [-1.3958, -1.4544, -0.8702,  0.4972]],\n",
       "              \n",
       "                      [[ 0.5392,  0.4167,  2.5625, -0.8599],\n",
       "                       [ 0.9253, -1.0235, -0.2453,  1.8752],\n",
       "                       [-1.3958, -1.4544, -0.8702,  0.4972]],\n",
       "              \n",
       "                      [[ 0.5392,  0.4167,  2.5625, -0.8599],\n",
       "                       [ 0.9253, -1.0235, -0.2453,  1.8752],\n",
       "                       [-1.3958, -1.4544, -0.8702,  0.4972]]]),\n",
       "       ),\n",
       "    a: tensor([[[ 0.6980, -0.6467, -0.0737],\n",
       "                [-2.1048, -1.3671,  0.5449]],\n",
       "       \n",
       "               [[ 0.6980, -0.6467, -0.0737],\n",
       "                [-2.1048, -1.3671,  0.5449]],\n",
       "       \n",
       "               [[ 0.6980, -0.6467, -0.0737],\n",
       "                [-2.1048, -1.3671,  0.5449]],\n",
       "       \n",
       "               [[ 0.6980, -0.6467, -0.0737],\n",
       "                [-2.1048, -1.3671,  0.5449]],\n",
       "       \n",
       "               [[ 0.6980, -0.6467, -0.0737],\n",
       "                [-2.1048, -1.3671,  0.5449]],\n",
       "       \n",
       "               [[ 0.6980, -0.6467, -0.0737],\n",
       "                [-2.1048, -1.3671,  0.5449]],\n",
       "       \n",
       "               [[ 0.6980, -0.6467, -0.0737],\n",
       "                [-2.1048, -1.3671,  0.5449]],\n",
       "       \n",
       "               [[ 0.6980, -0.6467, -0.0737],\n",
       "                [-2.1048, -1.3671,  0.5449]]]),\n",
       ")"
      ]
     },
     "execution_count": 25,
     "metadata": {},
     "output_type": "execute_result"
    }
   ],
   "source": [
    "batches = [Batch(**_TREE_DATA_2) for _ in range(8)]\n",
    "\n",
    "Batch.stack(batches)"
   ]
  },
  {
   "cell_type": "code",
   "execution_count": 26,
   "id": "ec9037a3",
   "metadata": {
    "execution": {
     "iopub.execute_input": "2023-02-27T13:29:42.598087Z",
     "iopub.status.busy": "2023-02-27T13:29:42.597800Z",
     "iopub.status.idle": "2023-02-27T13:29:50.889632Z",
     "shell.execute_reply": "2023-02-27T13:29:50.888108Z"
    }
   },
   "outputs": [
    {
     "name": "stdout",
     "output_type": "stream",
     "text": [
      "102 µs ± 1.14 µs per loop (mean ± std. dev. of 7 runs, 10,000 loops each)\n"
     ]
    }
   ],
   "source": [
    "%timeit Batch.stack(batches)"
   ]
  },
  {
   "cell_type": "code",
   "execution_count": 27,
   "id": "cb8ab77e",
   "metadata": {
    "execution": {
     "iopub.execute_input": "2023-02-27T13:29:50.892778Z",
     "iopub.status.busy": "2023-02-27T13:29:50.892500Z",
     "iopub.status.idle": "2023-02-27T13:29:50.902013Z",
     "shell.execute_reply": "2023-02-27T13:29:50.901096Z"
    }
   },
   "outputs": [
    {
     "data": {
      "text/plain": [
       "Batch(\n",
       "    x: Batch(\n",
       "           c: tensor([[ 0.5392,  0.4167,  2.5625, -0.8599],\n",
       "                      [ 0.9253, -1.0235, -0.2453,  1.8752],\n",
       "                      [-1.3958, -1.4544, -0.8702,  0.4972],\n",
       "                      [ 0.5392,  0.4167,  2.5625, -0.8599],\n",
       "                      [ 0.9253, -1.0235, -0.2453,  1.8752],\n",
       "                      [-1.3958, -1.4544, -0.8702,  0.4972],\n",
       "                      [ 0.5392,  0.4167,  2.5625, -0.8599],\n",
       "                      [ 0.9253, -1.0235, -0.2453,  1.8752],\n",
       "                      [-1.3958, -1.4544, -0.8702,  0.4972],\n",
       "                      [ 0.5392,  0.4167,  2.5625, -0.8599],\n",
       "                      [ 0.9253, -1.0235, -0.2453,  1.8752],\n",
       "                      [-1.3958, -1.4544, -0.8702,  0.4972],\n",
       "                      [ 0.5392,  0.4167,  2.5625, -0.8599],\n",
       "                      [ 0.9253, -1.0235, -0.2453,  1.8752],\n",
       "                      [-1.3958, -1.4544, -0.8702,  0.4972],\n",
       "                      [ 0.5392,  0.4167,  2.5625, -0.8599],\n",
       "                      [ 0.9253, -1.0235, -0.2453,  1.8752],\n",
       "                      [-1.3958, -1.4544, -0.8702,  0.4972],\n",
       "                      [ 0.5392,  0.4167,  2.5625, -0.8599],\n",
       "                      [ 0.9253, -1.0235, -0.2453,  1.8752],\n",
       "                      [-1.3958, -1.4544, -0.8702,  0.4972],\n",
       "                      [ 0.5392,  0.4167,  2.5625, -0.8599],\n",
       "                      [ 0.9253, -1.0235, -0.2453,  1.8752],\n",
       "                      [-1.3958, -1.4544, -0.8702,  0.4972]]),\n",
       "       ),\n",
       "    a: tensor([[ 0.6980, -0.6467, -0.0737],\n",
       "               [-2.1048, -1.3671,  0.5449],\n",
       "               [ 0.6980, -0.6467, -0.0737],\n",
       "               [-2.1048, -1.3671,  0.5449],\n",
       "               [ 0.6980, -0.6467, -0.0737],\n",
       "               [-2.1048, -1.3671,  0.5449],\n",
       "               [ 0.6980, -0.6467, -0.0737],\n",
       "               [-2.1048, -1.3671,  0.5449],\n",
       "               [ 0.6980, -0.6467, -0.0737],\n",
       "               [-2.1048, -1.3671,  0.5449],\n",
       "               [ 0.6980, -0.6467, -0.0737],\n",
       "               [-2.1048, -1.3671,  0.5449],\n",
       "               [ 0.6980, -0.6467, -0.0737],\n",
       "               [-2.1048, -1.3671,  0.5449],\n",
       "               [ 0.6980, -0.6467, -0.0737],\n",
       "               [-2.1048, -1.3671,  0.5449]]),\n",
       ")"
      ]
     },
     "execution_count": 27,
     "metadata": {},
     "output_type": "execute_result"
    }
   ],
   "source": [
    "Batch.cat(batches)"
   ]
  },
  {
   "cell_type": "code",
   "execution_count": 28,
   "id": "18dfb045",
   "metadata": {
    "execution": {
     "iopub.execute_input": "2023-02-27T13:29:50.905401Z",
     "iopub.status.busy": "2023-02-27T13:29:50.904919Z",
     "iopub.status.idle": "2023-02-27T13:30:05.746855Z",
     "shell.execute_reply": "2023-02-27T13:30:05.745935Z"
    }
   },
   "outputs": [
    {
     "name": "stdout",
     "output_type": "stream",
     "text": [
      "182 µs ± 3.22 µs per loop (mean ± std. dev. of 7 runs, 10,000 loops each)\n"
     ]
    }
   ],
   "source": [
    "%timeit Batch.cat(batches)"
   ]
  },
  {
   "cell_type": "code",
   "execution_count": 29,
   "id": "c6688e51",
   "metadata": {
    "execution": {
     "iopub.execute_input": "2023-02-27T13:30:05.750600Z",
     "iopub.status.busy": "2023-02-27T13:30:05.750293Z",
     "iopub.status.idle": "2023-02-27T13:30:10.652851Z",
     "shell.execute_reply": "2023-02-27T13:30:10.651974Z"
    }
   },
   "outputs": [
    {
     "name": "stdout",
     "output_type": "stream",
     "text": [
      "605 µs ± 20.2 µs per loop (mean ± std. dev. of 7 runs, 1,000 loops each)\n"
     ]
    }
   ],
   "source": [
    "batch = Batch({\n",
    "    'obs': torch.randn(8, 4, 84, 84),\n",
    "    'action': torch.randint(0, 6, size=(8, 1,)),\n",
    "    'reward': torch.rand(8, 1)}\n",
    ")\n",
    "\n",
    "%timeit list(Batch.split(batch, 1, shuffle=False, merge_last=True))"
   ]
  },
  {
   "cell_type": "code",
   "execution_count": null,
   "id": "2539fbd9",
   "metadata": {},
   "outputs": [],
   "source": []
  }
 ],
 "metadata": {
  "kernelspec": {
   "display_name": "Python 3 (ipykernel)",
   "language": "python",
   "name": "python3"
  },
  "language_info": {
   "codemirror_mode": {
    "name": "ipython",
    "version": 3
   },
   "file_extension": ".py",
   "mimetype": "text/x-python",
   "name": "python",
   "nbconvert_exporter": "python",
   "pygments_lexer": "ipython3",
   "version": "3.8.16"
  }
 },
 "nbformat": 4,
 "nbformat_minor": 5
}
