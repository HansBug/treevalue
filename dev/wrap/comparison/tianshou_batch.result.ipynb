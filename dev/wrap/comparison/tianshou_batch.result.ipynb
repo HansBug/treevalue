{
 "cells": [
  {
   "cell_type": "markdown",
   "id": "9d39d946",
   "metadata": {},
   "source": [
    "# Comparison Between TreeValue and Tianshou Batch"
   ]
  },
  {
   "cell_type": "markdown",
   "id": "3c6db2d4",
   "metadata": {},
   "source": [
    "In this section, we will take a look at the feature and performance of the [Tianshou Batch](https://github.com/thu-ml/tianshou) library, which is developed by Tsinghua Machine Learning Group."
   ]
  },
  {
   "cell_type": "markdown",
   "id": "069361b0",
   "metadata": {},
   "source": [
    "Before starting the comparison, let us define some thing."
   ]
  },
  {
   "cell_type": "code",
   "execution_count": 1,
   "id": "06fc8d26",
   "metadata": {
    "execution": {
     "iopub.execute_input": "2023-08-14T07:12:22.132861Z",
     "iopub.status.busy": "2023-08-14T07:12:22.132372Z",
     "iopub.status.idle": "2023-08-14T07:12:23.494473Z",
     "shell.execute_reply": "2023-08-14T07:12:23.493669Z"
    }
   },
   "outputs": [],
   "source": [
    "import torch \n",
    "\n",
    "_TREE_DATA_1 = {'a': 1, 'b': 2, 'x': {'c': 3, 'd': 4}}\n",
    "_TREE_DATA_2 = {\n",
    "    'a': torch.randn(2, 3), \n",
    "    'x': {\n",
    "        'c': torch.randn(3, 4)\n",
    "    },\n",
    "}\n",
    "_TREE_DATA_3 = {\n",
    "    'obs': torch.randn(4, 84, 84),\n",
    "    'action': torch.randint(0, 6, size=(1,)),\n",
    "    'reward': torch.rand(1),\n",
    "}"
   ]
  },
  {
   "cell_type": "markdown",
   "id": "83461b25",
   "metadata": {},
   "source": [
    "## Read and Write Operation"
   ]
  },
  {
   "cell_type": "markdown",
   "id": "067b3f73",
   "metadata": {},
   "source": [
    "Reading and writing are the two most common operations in the tree data structure based on the data model (TreeValue and Tianshou Batch both belong to this type), so this section will compare the reading and writing performance of these two libraries."
   ]
  },
  {
   "cell_type": "markdown",
   "id": "5d09a5b7",
   "metadata": {},
   "source": [
    "### TreeValue's Get and Set"
   ]
  },
  {
   "cell_type": "code",
   "execution_count": 2,
   "id": "9519c4bb",
   "metadata": {
    "execution": {
     "iopub.execute_input": "2023-08-14T07:12:23.498672Z",
     "iopub.status.busy": "2023-08-14T07:12:23.498181Z",
     "iopub.status.idle": "2023-08-14T07:12:23.528138Z",
     "shell.execute_reply": "2023-08-14T07:12:23.527489Z"
    }
   },
   "outputs": [],
   "source": [
    "from treevalue import FastTreeValue\n",
    "\n",
    "t = FastTreeValue(_TREE_DATA_2)"
   ]
  },
  {
   "cell_type": "code",
   "execution_count": 3,
   "id": "11c37677",
   "metadata": {
    "execution": {
     "iopub.execute_input": "2023-08-14T07:12:23.531390Z",
     "iopub.status.busy": "2023-08-14T07:12:23.530978Z",
     "iopub.status.idle": "2023-08-14T07:12:23.542951Z",
     "shell.execute_reply": "2023-08-14T07:12:23.542312Z"
    }
   },
   "outputs": [
    {
     "data": {
      "text/plain": [
       "<FastTreeValue 0x7fb9923d2c40>\n",
       "├── 'a' --> tensor([[ 0.9089,  0.1325, -1.1437],\n",
       "│                   [ 1.2786, -0.5077,  0.3543]])\n",
       "└── 'x' --> <FastTreeValue 0x7fb9923d2bb0>\n",
       "    └── 'c' --> tensor([[-1.1352, -0.5879,  0.0642,  0.3671],\n",
       "                        [ 0.0254, -0.7781, -1.0237, -1.2401],\n",
       "                        [-0.3684,  0.3264,  1.2216,  0.4826]])"
      ]
     },
     "execution_count": 3,
     "metadata": {},
     "output_type": "execute_result"
    }
   ],
   "source": [
    "t"
   ]
  },
  {
   "cell_type": "code",
   "execution_count": 4,
   "id": "fd70b0b9",
   "metadata": {
    "execution": {
     "iopub.execute_input": "2023-08-14T07:12:23.546266Z",
     "iopub.status.busy": "2023-08-14T07:12:23.545853Z",
     "iopub.status.idle": "2023-08-14T07:12:23.552622Z",
     "shell.execute_reply": "2023-08-14T07:12:23.552000Z"
    }
   },
   "outputs": [
    {
     "data": {
      "text/plain": [
       "tensor([[ 0.9089,  0.1325, -1.1437],\n",
       "        [ 1.2786, -0.5077,  0.3543]])"
      ]
     },
     "execution_count": 4,
     "metadata": {},
     "output_type": "execute_result"
    }
   ],
   "source": [
    "t.a"
   ]
  },
  {
   "cell_type": "code",
   "execution_count": 5,
   "id": "c18197bd",
   "metadata": {
    "execution": {
     "iopub.execute_input": "2023-08-14T07:12:23.555989Z",
     "iopub.status.busy": "2023-08-14T07:12:23.555432Z",
     "iopub.status.idle": "2023-08-14T07:12:30.407691Z",
     "shell.execute_reply": "2023-08-14T07:12:30.406458Z"
    }
   },
   "outputs": [
    {
     "name": "stdout",
     "output_type": "stream",
     "text": [
      "84.4 ns ± 0.158 ns per loop (mean ± std. dev. of 7 runs, 10,000,000 loops each)\n"
     ]
    }
   ],
   "source": [
    "%timeit t.a"
   ]
  },
  {
   "cell_type": "code",
   "execution_count": 6,
   "id": "bd52f867",
   "metadata": {
    "execution": {
     "iopub.execute_input": "2023-08-14T07:12:30.411402Z",
     "iopub.status.busy": "2023-08-14T07:12:30.410992Z",
     "iopub.status.idle": "2023-08-14T07:12:30.417569Z",
     "shell.execute_reply": "2023-08-14T07:12:30.416837Z"
    }
   },
   "outputs": [
    {
     "data": {
      "text/plain": [
       "<FastTreeValue 0x7fb9923d2c40>\n",
       "├── 'a' --> tensor([[ 0.6555, -0.0871,  0.5035],\n",
       "│                   [-0.8578, -0.6109,  0.3628]])\n",
       "└── 'x' --> <FastTreeValue 0x7fb9923d2bb0>\n",
       "    └── 'c' --> tensor([[-1.1352, -0.5879,  0.0642,  0.3671],\n",
       "                        [ 0.0254, -0.7781, -1.0237, -1.2401],\n",
       "                        [-0.3684,  0.3264,  1.2216,  0.4826]])"
      ]
     },
     "execution_count": 6,
     "metadata": {},
     "output_type": "execute_result"
    }
   ],
   "source": [
    "new_value = torch.randn(2, 3)\n",
    "t.a = new_value\n",
    "\n",
    "t"
   ]
  },
  {
   "cell_type": "code",
   "execution_count": 7,
   "id": "bbe04d1c",
   "metadata": {
    "execution": {
     "iopub.execute_input": "2023-08-14T07:12:30.420584Z",
     "iopub.status.busy": "2023-08-14T07:12:30.420205Z",
     "iopub.status.idle": "2023-08-14T07:12:37.679382Z",
     "shell.execute_reply": "2023-08-14T07:12:37.678598Z"
    }
   },
   "outputs": [
    {
     "name": "stdout",
     "output_type": "stream",
     "text": [
      "89.4 ns ± 0.162 ns per loop (mean ± std. dev. of 7 runs, 10,000,000 loops each)\n"
     ]
    }
   ],
   "source": [
    "%timeit t.a = new_value"
   ]
  },
  {
   "cell_type": "markdown",
   "id": "48c49731",
   "metadata": {},
   "source": [
    "### Tianshou Batch's Get and Set"
   ]
  },
  {
   "cell_type": "code",
   "execution_count": 8,
   "id": "f1bb14c1",
   "metadata": {
    "execution": {
     "iopub.execute_input": "2023-08-14T07:12:37.683368Z",
     "iopub.status.busy": "2023-08-14T07:12:37.682594Z",
     "iopub.status.idle": "2023-08-14T07:12:38.069675Z",
     "shell.execute_reply": "2023-08-14T07:12:38.068889Z"
    }
   },
   "outputs": [],
   "source": [
    "from tianshou.data import Batch\n",
    "\n",
    "b = Batch(**_TREE_DATA_2)"
   ]
  },
  {
   "cell_type": "code",
   "execution_count": 9,
   "id": "cb0777c3",
   "metadata": {
    "execution": {
     "iopub.execute_input": "2023-08-14T07:12:38.073684Z",
     "iopub.status.busy": "2023-08-14T07:12:38.073151Z",
     "iopub.status.idle": "2023-08-14T07:12:38.080667Z",
     "shell.execute_reply": "2023-08-14T07:12:38.080029Z"
    }
   },
   "outputs": [
    {
     "data": {
      "text/plain": [
       "Batch(\n",
       "    a: tensor([[ 0.9089,  0.1325, -1.1437],\n",
       "               [ 1.2786, -0.5077,  0.3543]]),\n",
       "    x: Batch(\n",
       "           c: tensor([[-1.1352, -0.5879,  0.0642,  0.3671],\n",
       "                      [ 0.0254, -0.7781, -1.0237, -1.2401],\n",
       "                      [-0.3684,  0.3264,  1.2216,  0.4826]]),\n",
       "       ),\n",
       ")"
      ]
     },
     "execution_count": 9,
     "metadata": {},
     "output_type": "execute_result"
    }
   ],
   "source": [
    "b"
   ]
  },
  {
   "cell_type": "code",
   "execution_count": 10,
   "id": "43ef8ea3",
   "metadata": {
    "execution": {
     "iopub.execute_input": "2023-08-14T07:12:38.083698Z",
     "iopub.status.busy": "2023-08-14T07:12:38.083229Z",
     "iopub.status.idle": "2023-08-14T07:12:38.088208Z",
     "shell.execute_reply": "2023-08-14T07:12:38.087480Z"
    }
   },
   "outputs": [
    {
     "data": {
      "text/plain": [
       "tensor([[ 0.9089,  0.1325, -1.1437],\n",
       "        [ 1.2786, -0.5077,  0.3543]])"
      ]
     },
     "execution_count": 10,
     "metadata": {},
     "output_type": "execute_result"
    }
   ],
   "source": [
    "b.a"
   ]
  },
  {
   "cell_type": "code",
   "execution_count": 11,
   "id": "b785ab72",
   "metadata": {
    "execution": {
     "iopub.execute_input": "2023-08-14T07:12:38.091438Z",
     "iopub.status.busy": "2023-08-14T07:12:38.091171Z",
     "iopub.status.idle": "2023-08-14T07:12:43.364937Z",
     "shell.execute_reply": "2023-08-14T07:12:43.364197Z"
    }
   },
   "outputs": [
    {
     "name": "stdout",
     "output_type": "stream",
     "text": [
      "65 ns ± 0.133 ns per loop (mean ± std. dev. of 7 runs, 10,000,000 loops each)\n"
     ]
    }
   ],
   "source": [
    "%timeit b.a"
   ]
  },
  {
   "cell_type": "code",
   "execution_count": 12,
   "id": "ad54dc69",
   "metadata": {
    "execution": {
     "iopub.execute_input": "2023-08-14T07:12:43.368388Z",
     "iopub.status.busy": "2023-08-14T07:12:43.367885Z",
     "iopub.status.idle": "2023-08-14T07:12:43.374282Z",
     "shell.execute_reply": "2023-08-14T07:12:43.373542Z"
    }
   },
   "outputs": [
    {
     "data": {
      "text/plain": [
       "Batch(\n",
       "    a: tensor([[ 0.6958,  0.0032, -1.0416],\n",
       "               [-0.1704, -0.9345,  0.7123]]),\n",
       "    x: Batch(\n",
       "           c: tensor([[-1.1352, -0.5879,  0.0642,  0.3671],\n",
       "                      [ 0.0254, -0.7781, -1.0237, -1.2401],\n",
       "                      [-0.3684,  0.3264,  1.2216,  0.4826]]),\n",
       "       ),\n",
       ")"
      ]
     },
     "execution_count": 12,
     "metadata": {},
     "output_type": "execute_result"
    }
   ],
   "source": [
    "new_value = torch.randn(2, 3)\n",
    "b.a = new_value\n",
    "\n",
    "b"
   ]
  },
  {
   "cell_type": "code",
   "execution_count": 13,
   "id": "29b1d0bf",
   "metadata": {
    "execution": {
     "iopub.execute_input": "2023-08-14T07:12:43.377478Z",
     "iopub.status.busy": "2023-08-14T07:12:43.376923Z",
     "iopub.status.idle": "2023-08-14T07:12:47.845254Z",
     "shell.execute_reply": "2023-08-14T07:12:47.844495Z"
    }
   },
   "outputs": [
    {
     "name": "stdout",
     "output_type": "stream",
     "text": [
      "551 ns ± 11.7 ns per loop (mean ± std. dev. of 7 runs, 1,000,000 loops each)\n"
     ]
    }
   ],
   "source": [
    "%timeit b.a = new_value"
   ]
  },
  {
   "cell_type": "markdown",
   "id": "b61ad1d0",
   "metadata": {},
   "source": [
    "## Initialization"
   ]
  },
  {
   "cell_type": "markdown",
   "id": "d70f0d54",
   "metadata": {},
   "source": [
    "### TreeValue's Initialization"
   ]
  },
  {
   "cell_type": "code",
   "execution_count": 14,
   "id": "d32a679b",
   "metadata": {
    "execution": {
     "iopub.execute_input": "2023-08-14T07:12:47.849321Z",
     "iopub.status.busy": "2023-08-14T07:12:47.848564Z",
     "iopub.status.idle": "2023-08-14T07:12:55.284439Z",
     "shell.execute_reply": "2023-08-14T07:12:55.283686Z"
    }
   },
   "outputs": [
    {
     "name": "stdout",
     "output_type": "stream",
     "text": [
      "915 ns ± 0.207 ns per loop (mean ± std. dev. of 7 runs, 1,000,000 loops each)\n"
     ]
    }
   ],
   "source": [
    "%timeit FastTreeValue(_TREE_DATA_1)"
   ]
  },
  {
   "cell_type": "markdown",
   "id": "24f3707b",
   "metadata": {},
   "source": [
    "### Tianshou Batch's Initialization"
   ]
  },
  {
   "cell_type": "code",
   "execution_count": 15,
   "id": "ac3958df",
   "metadata": {
    "execution": {
     "iopub.execute_input": "2023-08-14T07:12:55.288367Z",
     "iopub.status.busy": "2023-08-14T07:12:55.287637Z",
     "iopub.status.idle": "2023-08-14T07:13:04.434827Z",
     "shell.execute_reply": "2023-08-14T07:13:04.434063Z"
    }
   },
   "outputs": [
    {
     "name": "stdout",
     "output_type": "stream",
     "text": [
      "11.3 µs ± 29.1 ns per loop (mean ± std. dev. of 7 runs, 100,000 loops each)\n"
     ]
    }
   ],
   "source": [
    "%timeit Batch(**_TREE_DATA_1)"
   ]
  },
  {
   "cell_type": "markdown",
   "id": "1ab82e2d",
   "metadata": {},
   "source": [
    "## Deep Copy Operation"
   ]
  },
  {
   "cell_type": "code",
   "execution_count": 16,
   "id": "210a9442",
   "metadata": {
    "execution": {
     "iopub.execute_input": "2023-08-14T07:13:04.438376Z",
     "iopub.status.busy": "2023-08-14T07:13:04.437873Z",
     "iopub.status.idle": "2023-08-14T07:13:04.441362Z",
     "shell.execute_reply": "2023-08-14T07:13:04.440621Z"
    }
   },
   "outputs": [],
   "source": [
    "import copy"
   ]
  },
  {
   "cell_type": "markdown",
   "id": "5a736274",
   "metadata": {},
   "source": [
    "### Deep Copy of TreeValue"
   ]
  },
  {
   "cell_type": "code",
   "execution_count": 17,
   "id": "f9bcadd6",
   "metadata": {
    "execution": {
     "iopub.execute_input": "2023-08-14T07:13:04.444885Z",
     "iopub.status.busy": "2023-08-14T07:13:04.444499Z",
     "iopub.status.idle": "2023-08-14T07:13:15.962128Z",
     "shell.execute_reply": "2023-08-14T07:13:15.961434Z"
    }
   },
   "outputs": [
    {
     "name": "stdout",
     "output_type": "stream",
     "text": [
      "142 µs ± 652 ns per loop (mean ± std. dev. of 7 runs, 10,000 loops each)\n"
     ]
    }
   ],
   "source": [
    "t3 = FastTreeValue(_TREE_DATA_3)\n",
    "%timeit copy.deepcopy(t3)"
   ]
  },
  {
   "cell_type": "markdown",
   "id": "bf8be7ea",
   "metadata": {},
   "source": [
    "### Deep Copy of Tianshou Batch"
   ]
  },
  {
   "cell_type": "code",
   "execution_count": 18,
   "id": "91998e6f",
   "metadata": {
    "execution": {
     "iopub.execute_input": "2023-08-14T07:13:15.965674Z",
     "iopub.status.busy": "2023-08-14T07:13:15.965137Z",
     "iopub.status.idle": "2023-08-14T07:13:27.598059Z",
     "shell.execute_reply": "2023-08-14T07:13:27.597411Z"
    }
   },
   "outputs": [
    {
     "name": "stdout",
     "output_type": "stream",
     "text": [
      "143 µs ± 1.1 µs per loop (mean ± std. dev. of 7 runs, 10,000 loops each)\n"
     ]
    }
   ],
   "source": [
    "b3 = Batch(**_TREE_DATA_3)\n",
    "%timeit copy.deepcopy(b3)"
   ]
  },
  {
   "cell_type": "markdown",
   "id": "223162fb",
   "metadata": {},
   "source": [
    "## Stack, Concat and Split Operation"
   ]
  },
  {
   "cell_type": "markdown",
   "id": "85fa4a73",
   "metadata": {},
   "source": [
    "### Performance of TreeValue"
   ]
  },
  {
   "cell_type": "code",
   "execution_count": 19,
   "id": "a0c2b697",
   "metadata": {
    "execution": {
     "iopub.execute_input": "2023-08-14T07:13:27.601898Z",
     "iopub.status.busy": "2023-08-14T07:13:27.601461Z",
     "iopub.status.idle": "2023-08-14T07:13:27.606098Z",
     "shell.execute_reply": "2023-08-14T07:13:27.605508Z"
    }
   },
   "outputs": [],
   "source": [
    "trees = [FastTreeValue(_TREE_DATA_2) for _ in range(8)]"
   ]
  },
  {
   "cell_type": "code",
   "execution_count": 20,
   "id": "017ea5a5",
   "metadata": {
    "execution": {
     "iopub.execute_input": "2023-08-14T07:13:27.609105Z",
     "iopub.status.busy": "2023-08-14T07:13:27.608714Z",
     "iopub.status.idle": "2023-08-14T07:13:27.616113Z",
     "shell.execute_reply": "2023-08-14T07:13:27.615541Z"
    }
   },
   "outputs": [
    {
     "data": {
      "text/plain": [
       "<FastTreeValue 0x7fb8c24dc8b0>\n",
       "├── 'a' --> tensor([[[ 0.9089,  0.1325, -1.1437],\n",
       "│                    [ 1.2786, -0.5077,  0.3543]],\n",
       "│           \n",
       "│                   [[ 0.9089,  0.1325, -1.1437],\n",
       "│                    [ 1.2786, -0.5077,  0.3543]],\n",
       "│           \n",
       "│                   [[ 0.9089,  0.1325, -1.1437],\n",
       "│                    [ 1.2786, -0.5077,  0.3543]],\n",
       "│           \n",
       "│                   [[ 0.9089,  0.1325, -1.1437],\n",
       "│                    [ 1.2786, -0.5077,  0.3543]],\n",
       "│           \n",
       "│                   [[ 0.9089,  0.1325, -1.1437],\n",
       "│                    [ 1.2786, -0.5077,  0.3543]],\n",
       "│           \n",
       "│                   [[ 0.9089,  0.1325, -1.1437],\n",
       "│                    [ 1.2786, -0.5077,  0.3543]],\n",
       "│           \n",
       "│                   [[ 0.9089,  0.1325, -1.1437],\n",
       "│                    [ 1.2786, -0.5077,  0.3543]],\n",
       "│           \n",
       "│                   [[ 0.9089,  0.1325, -1.1437],\n",
       "│                    [ 1.2786, -0.5077,  0.3543]]])\n",
       "└── 'x' --> <FastTreeValue 0x7fb8c24dcd30>\n",
       "    └── 'c' --> tensor([[[-1.1352, -0.5879,  0.0642,  0.3671],\n",
       "                         [ 0.0254, -0.7781, -1.0237, -1.2401],\n",
       "                         [-0.3684,  0.3264,  1.2216,  0.4826]],\n",
       "                \n",
       "                        [[-1.1352, -0.5879,  0.0642,  0.3671],\n",
       "                         [ 0.0254, -0.7781, -1.0237, -1.2401],\n",
       "                         [-0.3684,  0.3264,  1.2216,  0.4826]],\n",
       "                \n",
       "                        [[-1.1352, -0.5879,  0.0642,  0.3671],\n",
       "                         [ 0.0254, -0.7781, -1.0237, -1.2401],\n",
       "                         [-0.3684,  0.3264,  1.2216,  0.4826]],\n",
       "                \n",
       "                        [[-1.1352, -0.5879,  0.0642,  0.3671],\n",
       "                         [ 0.0254, -0.7781, -1.0237, -1.2401],\n",
       "                         [-0.3684,  0.3264,  1.2216,  0.4826]],\n",
       "                \n",
       "                        [[-1.1352, -0.5879,  0.0642,  0.3671],\n",
       "                         [ 0.0254, -0.7781, -1.0237, -1.2401],\n",
       "                         [-0.3684,  0.3264,  1.2216,  0.4826]],\n",
       "                \n",
       "                        [[-1.1352, -0.5879,  0.0642,  0.3671],\n",
       "                         [ 0.0254, -0.7781, -1.0237, -1.2401],\n",
       "                         [-0.3684,  0.3264,  1.2216,  0.4826]],\n",
       "                \n",
       "                        [[-1.1352, -0.5879,  0.0642,  0.3671],\n",
       "                         [ 0.0254, -0.7781, -1.0237, -1.2401],\n",
       "                         [-0.3684,  0.3264,  1.2216,  0.4826]],\n",
       "                \n",
       "                        [[-1.1352, -0.5879,  0.0642,  0.3671],\n",
       "                         [ 0.0254, -0.7781, -1.0237, -1.2401],\n",
       "                         [-0.3684,  0.3264,  1.2216,  0.4826]]])"
      ]
     },
     "execution_count": 20,
     "metadata": {},
     "output_type": "execute_result"
    }
   ],
   "source": [
    "t_stack = FastTreeValue.func(subside=True)(torch.stack)\n",
    "\n",
    "t_stack(trees)"
   ]
  },
  {
   "cell_type": "code",
   "execution_count": 21,
   "id": "f8b3f415",
   "metadata": {
    "execution": {
     "iopub.execute_input": "2023-08-14T07:13:27.619053Z",
     "iopub.status.busy": "2023-08-14T07:13:27.618668Z",
     "iopub.status.idle": "2023-08-14T07:13:30.351169Z",
     "shell.execute_reply": "2023-08-14T07:13:30.350485Z"
    }
   },
   "outputs": [
    {
     "name": "stdout",
     "output_type": "stream",
     "text": [
      "33.6 µs ± 60.1 ns per loop (mean ± std. dev. of 7 runs, 10,000 loops each)\n"
     ]
    }
   ],
   "source": [
    "%timeit t_stack(trees)"
   ]
  },
  {
   "cell_type": "code",
   "execution_count": 22,
   "id": "94b56771",
   "metadata": {
    "execution": {
     "iopub.execute_input": "2023-08-14T07:13:30.354644Z",
     "iopub.status.busy": "2023-08-14T07:13:30.354149Z",
     "iopub.status.idle": "2023-08-14T07:13:30.362032Z",
     "shell.execute_reply": "2023-08-14T07:13:30.361309Z"
    }
   },
   "outputs": [
    {
     "data": {
      "text/plain": [
       "<FastTreeValue 0x7fb8ca618f70>\n",
       "├── 'a' --> tensor([[ 0.9089,  0.1325, -1.1437],\n",
       "│                   [ 1.2786, -0.5077,  0.3543],\n",
       "│                   [ 0.9089,  0.1325, -1.1437],\n",
       "│                   [ 1.2786, -0.5077,  0.3543],\n",
       "│                   [ 0.9089,  0.1325, -1.1437],\n",
       "│                   [ 1.2786, -0.5077,  0.3543],\n",
       "│                   [ 0.9089,  0.1325, -1.1437],\n",
       "│                   [ 1.2786, -0.5077,  0.3543],\n",
       "│                   [ 0.9089,  0.1325, -1.1437],\n",
       "│                   [ 1.2786, -0.5077,  0.3543],\n",
       "│                   [ 0.9089,  0.1325, -1.1437],\n",
       "│                   [ 1.2786, -0.5077,  0.3543],\n",
       "│                   [ 0.9089,  0.1325, -1.1437],\n",
       "│                   [ 1.2786, -0.5077,  0.3543],\n",
       "│                   [ 0.9089,  0.1325, -1.1437],\n",
       "│                   [ 1.2786, -0.5077,  0.3543]])\n",
       "└── 'x' --> <FastTreeValue 0x7fb8c24dc8e0>\n",
       "    └── 'c' --> tensor([[-1.1352, -0.5879,  0.0642,  0.3671],\n",
       "                        [ 0.0254, -0.7781, -1.0237, -1.2401],\n",
       "                        [-0.3684,  0.3264,  1.2216,  0.4826],\n",
       "                        [-1.1352, -0.5879,  0.0642,  0.3671],\n",
       "                        [ 0.0254, -0.7781, -1.0237, -1.2401],\n",
       "                        [-0.3684,  0.3264,  1.2216,  0.4826],\n",
       "                        [-1.1352, -0.5879,  0.0642,  0.3671],\n",
       "                        [ 0.0254, -0.7781, -1.0237, -1.2401],\n",
       "                        [-0.3684,  0.3264,  1.2216,  0.4826],\n",
       "                        [-1.1352, -0.5879,  0.0642,  0.3671],\n",
       "                        [ 0.0254, -0.7781, -1.0237, -1.2401],\n",
       "                        [-0.3684,  0.3264,  1.2216,  0.4826],\n",
       "                        [-1.1352, -0.5879,  0.0642,  0.3671],\n",
       "                        [ 0.0254, -0.7781, -1.0237, -1.2401],\n",
       "                        [-0.3684,  0.3264,  1.2216,  0.4826],\n",
       "                        [-1.1352, -0.5879,  0.0642,  0.3671],\n",
       "                        [ 0.0254, -0.7781, -1.0237, -1.2401],\n",
       "                        [-0.3684,  0.3264,  1.2216,  0.4826],\n",
       "                        [-1.1352, -0.5879,  0.0642,  0.3671],\n",
       "                        [ 0.0254, -0.7781, -1.0237, -1.2401],\n",
       "                        [-0.3684,  0.3264,  1.2216,  0.4826],\n",
       "                        [-1.1352, -0.5879,  0.0642,  0.3671],\n",
       "                        [ 0.0254, -0.7781, -1.0237, -1.2401],\n",
       "                        [-0.3684,  0.3264,  1.2216,  0.4826]])"
      ]
     },
     "execution_count": 22,
     "metadata": {},
     "output_type": "execute_result"
    }
   ],
   "source": [
    "t_cat = FastTreeValue.func(subside=True)(torch.cat)\n",
    "\n",
    "t_cat(trees)"
   ]
  },
  {
   "cell_type": "code",
   "execution_count": 23,
   "id": "5e9c06a6",
   "metadata": {
    "execution": {
     "iopub.execute_input": "2023-08-14T07:13:30.365309Z",
     "iopub.status.busy": "2023-08-14T07:13:30.364932Z",
     "iopub.status.idle": "2023-08-14T07:13:32.921108Z",
     "shell.execute_reply": "2023-08-14T07:13:32.920346Z"
    }
   },
   "outputs": [
    {
     "name": "stdout",
     "output_type": "stream",
     "text": [
      "31.4 µs ± 44.4 ns per loop (mean ± std. dev. of 7 runs, 10,000 loops each)\n"
     ]
    }
   ],
   "source": [
    "%timeit t_cat(trees)"
   ]
  },
  {
   "cell_type": "code",
   "execution_count": 24,
   "id": "a3ab5c8f",
   "metadata": {
    "execution": {
     "iopub.execute_input": "2023-08-14T07:13:32.924757Z",
     "iopub.status.busy": "2023-08-14T07:13:32.924223Z",
     "iopub.status.idle": "2023-08-14T07:13:38.443260Z",
     "shell.execute_reply": "2023-08-14T07:13:38.441502Z"
    }
   },
   "outputs": [
    {
     "name": "stdout",
     "output_type": "stream",
     "text": [
      "67.9 µs ± 98.4 ns per loop (mean ± std. dev. of 7 runs, 10,000 loops each)\n"
     ]
    }
   ],
   "source": [
    "t_split = FastTreeValue.func(rise=True)(torch.split)\n",
    "tree = FastTreeValue({\n",
    "    'obs': torch.randn(8, 4, 84, 84),\n",
    "    'action': torch.randint(0, 6, size=(8, 1,)),\n",
    "    'reward': torch.rand(8, 1),\n",
    "})\n",
    "\n",
    "%timeit t_split(tree, 1)"
   ]
  },
  {
   "cell_type": "markdown",
   "id": "31c3ec0b",
   "metadata": {},
   "source": [
    "### Performance of Tianshou Batch"
   ]
  },
  {
   "cell_type": "code",
   "execution_count": 25,
   "id": "9ead828a",
   "metadata": {
    "execution": {
     "iopub.execute_input": "2023-08-14T07:13:38.446863Z",
     "iopub.status.busy": "2023-08-14T07:13:38.446454Z",
     "iopub.status.idle": "2023-08-14T07:13:38.454460Z",
     "shell.execute_reply": "2023-08-14T07:13:38.453739Z"
    }
   },
   "outputs": [
    {
     "data": {
      "text/plain": [
       "Batch(\n",
       "    a: tensor([[[ 0.9089,  0.1325, -1.1437],\n",
       "                [ 1.2786, -0.5077,  0.3543]],\n",
       "       \n",
       "               [[ 0.9089,  0.1325, -1.1437],\n",
       "                [ 1.2786, -0.5077,  0.3543]],\n",
       "       \n",
       "               [[ 0.9089,  0.1325, -1.1437],\n",
       "                [ 1.2786, -0.5077,  0.3543]],\n",
       "       \n",
       "               [[ 0.9089,  0.1325, -1.1437],\n",
       "                [ 1.2786, -0.5077,  0.3543]],\n",
       "       \n",
       "               [[ 0.9089,  0.1325, -1.1437],\n",
       "                [ 1.2786, -0.5077,  0.3543]],\n",
       "       \n",
       "               [[ 0.9089,  0.1325, -1.1437],\n",
       "                [ 1.2786, -0.5077,  0.3543]],\n",
       "       \n",
       "               [[ 0.9089,  0.1325, -1.1437],\n",
       "                [ 1.2786, -0.5077,  0.3543]],\n",
       "       \n",
       "               [[ 0.9089,  0.1325, -1.1437],\n",
       "                [ 1.2786, -0.5077,  0.3543]]]),\n",
       "    x: Batch(\n",
       "           c: tensor([[[-1.1352, -0.5879,  0.0642,  0.3671],\n",
       "                       [ 0.0254, -0.7781, -1.0237, -1.2401],\n",
       "                       [-0.3684,  0.3264,  1.2216,  0.4826]],\n",
       "              \n",
       "                      [[-1.1352, -0.5879,  0.0642,  0.3671],\n",
       "                       [ 0.0254, -0.7781, -1.0237, -1.2401],\n",
       "                       [-0.3684,  0.3264,  1.2216,  0.4826]],\n",
       "              \n",
       "                      [[-1.1352, -0.5879,  0.0642,  0.3671],\n",
       "                       [ 0.0254, -0.7781, -1.0237, -1.2401],\n",
       "                       [-0.3684,  0.3264,  1.2216,  0.4826]],\n",
       "              \n",
       "                      [[-1.1352, -0.5879,  0.0642,  0.3671],\n",
       "                       [ 0.0254, -0.7781, -1.0237, -1.2401],\n",
       "                       [-0.3684,  0.3264,  1.2216,  0.4826]],\n",
       "              \n",
       "                      [[-1.1352, -0.5879,  0.0642,  0.3671],\n",
       "                       [ 0.0254, -0.7781, -1.0237, -1.2401],\n",
       "                       [-0.3684,  0.3264,  1.2216,  0.4826]],\n",
       "              \n",
       "                      [[-1.1352, -0.5879,  0.0642,  0.3671],\n",
       "                       [ 0.0254, -0.7781, -1.0237, -1.2401],\n",
       "                       [-0.3684,  0.3264,  1.2216,  0.4826]],\n",
       "              \n",
       "                      [[-1.1352, -0.5879,  0.0642,  0.3671],\n",
       "                       [ 0.0254, -0.7781, -1.0237, -1.2401],\n",
       "                       [-0.3684,  0.3264,  1.2216,  0.4826]],\n",
       "              \n",
       "                      [[-1.1352, -0.5879,  0.0642,  0.3671],\n",
       "                       [ 0.0254, -0.7781, -1.0237, -1.2401],\n",
       "                       [-0.3684,  0.3264,  1.2216,  0.4826]]]),\n",
       "       ),\n",
       ")"
      ]
     },
     "execution_count": 25,
     "metadata": {},
     "output_type": "execute_result"
    }
   ],
   "source": [
    "batches = [Batch(**_TREE_DATA_2) for _ in range(8)]\n",
    "\n",
    "Batch.stack(batches)"
   ]
  },
  {
   "cell_type": "code",
   "execution_count": 26,
   "id": "ec9037a3",
   "metadata": {
    "execution": {
     "iopub.execute_input": "2023-08-14T07:13:38.457738Z",
     "iopub.status.busy": "2023-08-14T07:13:38.457195Z",
     "iopub.status.idle": "2023-08-14T07:13:45.330151Z",
     "shell.execute_reply": "2023-08-14T07:13:45.328536Z"
    }
   },
   "outputs": [
    {
     "name": "stdout",
     "output_type": "stream",
     "text": [
      "84.6 µs ± 186 ns per loop (mean ± std. dev. of 7 runs, 10,000 loops each)\n"
     ]
    }
   ],
   "source": [
    "%timeit Batch.stack(batches)"
   ]
  },
  {
   "cell_type": "code",
   "execution_count": 27,
   "id": "cb8ab77e",
   "metadata": {
    "execution": {
     "iopub.execute_input": "2023-08-14T07:13:45.333693Z",
     "iopub.status.busy": "2023-08-14T07:13:45.333196Z",
     "iopub.status.idle": "2023-08-14T07:13:45.340620Z",
     "shell.execute_reply": "2023-08-14T07:13:45.339901Z"
    }
   },
   "outputs": [
    {
     "data": {
      "text/plain": [
       "Batch(\n",
       "    a: tensor([[ 0.9089,  0.1325, -1.1437],\n",
       "               [ 1.2786, -0.5077,  0.3543],\n",
       "               [ 0.9089,  0.1325, -1.1437],\n",
       "               [ 1.2786, -0.5077,  0.3543],\n",
       "               [ 0.9089,  0.1325, -1.1437],\n",
       "               [ 1.2786, -0.5077,  0.3543],\n",
       "               [ 0.9089,  0.1325, -1.1437],\n",
       "               [ 1.2786, -0.5077,  0.3543],\n",
       "               [ 0.9089,  0.1325, -1.1437],\n",
       "               [ 1.2786, -0.5077,  0.3543],\n",
       "               [ 0.9089,  0.1325, -1.1437],\n",
       "               [ 1.2786, -0.5077,  0.3543],\n",
       "               [ 0.9089,  0.1325, -1.1437],\n",
       "               [ 1.2786, -0.5077,  0.3543],\n",
       "               [ 0.9089,  0.1325, -1.1437],\n",
       "               [ 1.2786, -0.5077,  0.3543]]),\n",
       "    x: Batch(\n",
       "           c: tensor([[-1.1352, -0.5879,  0.0642,  0.3671],\n",
       "                      [ 0.0254, -0.7781, -1.0237, -1.2401],\n",
       "                      [-0.3684,  0.3264,  1.2216,  0.4826],\n",
       "                      [-1.1352, -0.5879,  0.0642,  0.3671],\n",
       "                      [ 0.0254, -0.7781, -1.0237, -1.2401],\n",
       "                      [-0.3684,  0.3264,  1.2216,  0.4826],\n",
       "                      [-1.1352, -0.5879,  0.0642,  0.3671],\n",
       "                      [ 0.0254, -0.7781, -1.0237, -1.2401],\n",
       "                      [-0.3684,  0.3264,  1.2216,  0.4826],\n",
       "                      [-1.1352, -0.5879,  0.0642,  0.3671],\n",
       "                      [ 0.0254, -0.7781, -1.0237, -1.2401],\n",
       "                      [-0.3684,  0.3264,  1.2216,  0.4826],\n",
       "                      [-1.1352, -0.5879,  0.0642,  0.3671],\n",
       "                      [ 0.0254, -0.7781, -1.0237, -1.2401],\n",
       "                      [-0.3684,  0.3264,  1.2216,  0.4826],\n",
       "                      [-1.1352, -0.5879,  0.0642,  0.3671],\n",
       "                      [ 0.0254, -0.7781, -1.0237, -1.2401],\n",
       "                      [-0.3684,  0.3264,  1.2216,  0.4826],\n",
       "                      [-1.1352, -0.5879,  0.0642,  0.3671],\n",
       "                      [ 0.0254, -0.7781, -1.0237, -1.2401],\n",
       "                      [-0.3684,  0.3264,  1.2216,  0.4826],\n",
       "                      [-1.1352, -0.5879,  0.0642,  0.3671],\n",
       "                      [ 0.0254, -0.7781, -1.0237, -1.2401],\n",
       "                      [-0.3684,  0.3264,  1.2216,  0.4826]]),\n",
       "       ),\n",
       ")"
      ]
     },
     "execution_count": 27,
     "metadata": {},
     "output_type": "execute_result"
    }
   ],
   "source": [
    "Batch.cat(batches)"
   ]
  },
  {
   "cell_type": "code",
   "execution_count": 28,
   "id": "18dfb045",
   "metadata": {
    "execution": {
     "iopub.execute_input": "2023-08-14T07:13:45.343917Z",
     "iopub.status.busy": "2023-08-14T07:13:45.343366Z",
     "iopub.status.idle": "2023-08-14T07:13:57.943504Z",
     "shell.execute_reply": "2023-08-14T07:13:57.941797Z"
    }
   },
   "outputs": [
    {
     "name": "stdout",
     "output_type": "stream",
     "text": [
      "155 µs ± 682 ns per loop (mean ± std. dev. of 7 runs, 10,000 loops each)\n"
     ]
    }
   ],
   "source": [
    "%timeit Batch.cat(batches)"
   ]
  },
  {
   "cell_type": "code",
   "execution_count": 29,
   "id": "c6688e51",
   "metadata": {
    "execution": {
     "iopub.execute_input": "2023-08-14T07:13:57.947078Z",
     "iopub.status.busy": "2023-08-14T07:13:57.946660Z",
     "iopub.status.idle": "2023-08-14T07:14:00.806656Z",
     "shell.execute_reply": "2023-08-14T07:14:00.805990Z"
    }
   },
   "outputs": [
    {
     "name": "stdout",
     "output_type": "stream",
     "text": [
      "351 µs ± 3.81 µs per loop (mean ± std. dev. of 7 runs, 1,000 loops each)\n"
     ]
    }
   ],
   "source": [
    "batch = Batch({\n",
    "    'obs': torch.randn(8, 4, 84, 84),\n",
    "    'action': torch.randint(0, 6, size=(8, 1,)),\n",
    "    'reward': torch.rand(8, 1)}\n",
    ")\n",
    "\n",
    "%timeit list(Batch.split(batch, 1, shuffle=False, merge_last=True))"
   ]
  },
  {
   "cell_type": "code",
   "execution_count": null,
   "id": "2539fbd9",
   "metadata": {},
   "outputs": [],
   "source": []
  }
 ],
 "metadata": {
  "kernelspec": {
   "display_name": "Python 3 (ipykernel)",
   "language": "python",
   "name": "python3"
  },
  "language_info": {
   "codemirror_mode": {
    "name": "ipython",
    "version": 3
   },
   "file_extension": ".py",
   "mimetype": "text/x-python",
   "name": "python",
   "nbconvert_exporter": "python",
   "pygments_lexer": "ipython3",
   "version": "3.8.17"
  }
 },
 "nbformat": 4,
 "nbformat_minor": 5
}
