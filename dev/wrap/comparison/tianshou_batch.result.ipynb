{
 "cells": [
  {
   "cell_type": "markdown",
   "id": "9d39d946",
   "metadata": {},
   "source": [
    "# Comparison Between TreeValue and Tianshou Batch"
   ]
  },
  {
   "cell_type": "markdown",
   "id": "3c6db2d4",
   "metadata": {},
   "source": [
    "In this section, we will take a look at the feature and performance of the [Tianshou Batch](https://github.com/thu-ml/tianshou) library, which is developed by Tsinghua Machine Learning Group."
   ]
  },
  {
   "cell_type": "markdown",
   "id": "069361b0",
   "metadata": {},
   "source": [
    "Before starting the comparison, let us define some thing."
   ]
  },
  {
   "cell_type": "code",
   "execution_count": 1,
   "id": "06fc8d26",
   "metadata": {
    "execution": {
     "iopub.execute_input": "2024-10-16T14:04:53.901404Z",
     "iopub.status.busy": "2024-10-16T14:04:53.900836Z",
     "iopub.status.idle": "2024-10-16T14:04:55.114926Z",
     "shell.execute_reply": "2024-10-16T14:04:55.114178Z"
    }
   },
   "outputs": [],
   "source": [
    "import torch \n",
    "\n",
    "_TREE_DATA_1 = {'a': 1, 'b': 2, 'x': {'c': 3, 'd': 4}}\n",
    "_TREE_DATA_2 = {\n",
    "    'a': torch.randn(2, 3), \n",
    "    'x': {\n",
    "        'c': torch.randn(3, 4)\n",
    "    },\n",
    "}\n",
    "_TREE_DATA_3 = {\n",
    "    'obs': torch.randn(4, 84, 84),\n",
    "    'action': torch.randint(0, 6, size=(1,)),\n",
    "    'reward': torch.rand(1),\n",
    "}"
   ]
  },
  {
   "cell_type": "markdown",
   "id": "83461b25",
   "metadata": {},
   "source": [
    "## Read and Write Operation"
   ]
  },
  {
   "cell_type": "markdown",
   "id": "067b3f73",
   "metadata": {},
   "source": [
    "Reading and writing are the two most common operations in the tree data structure based on the data model (TreeValue and Tianshou Batch both belong to this type), so this section will compare the reading and writing performance of these two libraries."
   ]
  },
  {
   "cell_type": "markdown",
   "id": "5d09a5b7",
   "metadata": {},
   "source": [
    "### TreeValue's Get and Set"
   ]
  },
  {
   "cell_type": "code",
   "execution_count": 2,
   "id": "9519c4bb",
   "metadata": {
    "execution": {
     "iopub.execute_input": "2024-10-16T14:04:55.117562Z",
     "iopub.status.busy": "2024-10-16T14:04:55.117286Z",
     "iopub.status.idle": "2024-10-16T14:04:55.144308Z",
     "shell.execute_reply": "2024-10-16T14:04:55.143695Z"
    }
   },
   "outputs": [],
   "source": [
    "from treevalue import FastTreeValue\n",
    "\n",
    "t = FastTreeValue(_TREE_DATA_2)"
   ]
  },
  {
   "cell_type": "code",
   "execution_count": 3,
   "id": "11c37677",
   "metadata": {
    "execution": {
     "iopub.execute_input": "2024-10-16T14:04:55.146491Z",
     "iopub.status.busy": "2024-10-16T14:04:55.146049Z",
     "iopub.status.idle": "2024-10-16T14:04:55.154769Z",
     "shell.execute_reply": "2024-10-16T14:04:55.154103Z"
    }
   },
   "outputs": [
    {
     "data": {
      "text/plain": [
       "<FastTreeValue 0x7f0098c03d30>\n",
       "├── 'a' --> tensor([[ 0.2339, -0.1569, -0.7355],\n",
       "│                   [ 1.2830, -0.0808, -1.2687]])\n",
       "└── 'x' --> <FastTreeValue 0x7f0098c03e50>\n",
       "    └── 'c' --> tensor([[-1.0120,  0.6890, -1.2714,  0.3398],\n",
       "                        [-0.7247, -1.2218,  0.3855, -1.5048],\n",
       "                        [-0.9781, -1.6866, -0.5531, -1.0940]])"
      ]
     },
     "execution_count": 3,
     "metadata": {},
     "output_type": "execute_result"
    }
   ],
   "source": [
    "t"
   ]
  },
  {
   "cell_type": "code",
   "execution_count": 4,
   "id": "fd70b0b9",
   "metadata": {
    "execution": {
     "iopub.execute_input": "2024-10-16T14:04:55.156842Z",
     "iopub.status.busy": "2024-10-16T14:04:55.156452Z",
     "iopub.status.idle": "2024-10-16T14:04:55.160976Z",
     "shell.execute_reply": "2024-10-16T14:04:55.160452Z"
    }
   },
   "outputs": [
    {
     "data": {
      "text/plain": [
       "tensor([[ 0.2339, -0.1569, -0.7355],\n",
       "        [ 1.2830, -0.0808, -1.2687]])"
      ]
     },
     "execution_count": 4,
     "metadata": {},
     "output_type": "execute_result"
    }
   ],
   "source": [
    "t.a"
   ]
  },
  {
   "cell_type": "code",
   "execution_count": 5,
   "id": "c18197bd",
   "metadata": {
    "execution": {
     "iopub.execute_input": "2024-10-16T14:04:55.163088Z",
     "iopub.status.busy": "2024-10-16T14:04:55.162586Z",
     "iopub.status.idle": "2024-10-16T14:04:59.159756Z",
     "shell.execute_reply": "2024-10-16T14:04:59.159010Z"
    }
   },
   "outputs": [
    {
     "name": "stdout",
     "output_type": "stream",
     "text": [
      "49.2 ns ± 0.504 ns per loop (mean ± std. dev. of 7 runs, 10,000,000 loops each)\n"
     ]
    }
   ],
   "source": [
    "%timeit t.a"
   ]
  },
  {
   "cell_type": "code",
   "execution_count": 6,
   "id": "bd52f867",
   "metadata": {
    "execution": {
     "iopub.execute_input": "2024-10-16T14:04:59.162047Z",
     "iopub.status.busy": "2024-10-16T14:04:59.161642Z",
     "iopub.status.idle": "2024-10-16T14:04:59.167524Z",
     "shell.execute_reply": "2024-10-16T14:04:59.166870Z"
    }
   },
   "outputs": [
    {
     "data": {
      "text/plain": [
       "<FastTreeValue 0x7f0098c03d30>\n",
       "├── 'a' --> tensor([[ 0.4779, -0.1263, -1.3072],\n",
       "│                   [-0.3864,  0.7463,  0.3715]])\n",
       "└── 'x' --> <FastTreeValue 0x7f0098c03e50>\n",
       "    └── 'c' --> tensor([[-1.0120,  0.6890, -1.2714,  0.3398],\n",
       "                        [-0.7247, -1.2218,  0.3855, -1.5048],\n",
       "                        [-0.9781, -1.6866, -0.5531, -1.0940]])"
      ]
     },
     "execution_count": 6,
     "metadata": {},
     "output_type": "execute_result"
    }
   ],
   "source": [
    "new_value = torch.randn(2, 3)\n",
    "t.a = new_value\n",
    "\n",
    "t"
   ]
  },
  {
   "cell_type": "code",
   "execution_count": 7,
   "id": "bbe04d1c",
   "metadata": {
    "execution": {
     "iopub.execute_input": "2024-10-16T14:04:59.169709Z",
     "iopub.status.busy": "2024-10-16T14:04:59.169307Z",
     "iopub.status.idle": "2024-10-16T14:05:03.294606Z",
     "shell.execute_reply": "2024-10-16T14:05:03.293948Z"
    }
   },
   "outputs": [
    {
     "name": "stdout",
     "output_type": "stream",
     "text": [
      "50.7 ns ± 0.0748 ns per loop (mean ± std. dev. of 7 runs, 10,000,000 loops each)\n"
     ]
    }
   ],
   "source": [
    "%timeit t.a = new_value"
   ]
  },
  {
   "cell_type": "markdown",
   "id": "48c49731",
   "metadata": {},
   "source": [
    "### Tianshou Batch's Get and Set"
   ]
  },
  {
   "cell_type": "code",
   "execution_count": 8,
   "id": "f1bb14c1",
   "metadata": {
    "execution": {
     "iopub.execute_input": "2024-10-16T14:05:03.297064Z",
     "iopub.status.busy": "2024-10-16T14:05:03.296659Z",
     "iopub.status.idle": "2024-10-16T14:05:03.622652Z",
     "shell.execute_reply": "2024-10-16T14:05:03.621889Z"
    }
   },
   "outputs": [],
   "source": [
    "from tianshou.data import Batch\n",
    "\n",
    "b = Batch(**_TREE_DATA_2)"
   ]
  },
  {
   "cell_type": "code",
   "execution_count": 9,
   "id": "cb0777c3",
   "metadata": {
    "execution": {
     "iopub.execute_input": "2024-10-16T14:05:03.625307Z",
     "iopub.status.busy": "2024-10-16T14:05:03.624929Z",
     "iopub.status.idle": "2024-10-16T14:05:03.630776Z",
     "shell.execute_reply": "2024-10-16T14:05:03.630087Z"
    }
   },
   "outputs": [
    {
     "data": {
      "text/plain": [
       "Batch(\n",
       "    a: tensor([[ 0.2339, -0.1569, -0.7355],\n",
       "               [ 1.2830, -0.0808, -1.2687]]),\n",
       "    x: Batch(\n",
       "           c: tensor([[-1.0120,  0.6890, -1.2714,  0.3398],\n",
       "                      [-0.7247, -1.2218,  0.3855, -1.5048],\n",
       "                      [-0.9781, -1.6866, -0.5531, -1.0940]]),\n",
       "       ),\n",
       ")"
      ]
     },
     "execution_count": 9,
     "metadata": {},
     "output_type": "execute_result"
    }
   ],
   "source": [
    "b"
   ]
  },
  {
   "cell_type": "code",
   "execution_count": 10,
   "id": "43ef8ea3",
   "metadata": {
    "execution": {
     "iopub.execute_input": "2024-10-16T14:05:03.632972Z",
     "iopub.status.busy": "2024-10-16T14:05:03.632593Z",
     "iopub.status.idle": "2024-10-16T14:05:03.637381Z",
     "shell.execute_reply": "2024-10-16T14:05:03.636708Z"
    }
   },
   "outputs": [
    {
     "data": {
      "text/plain": [
       "tensor([[ 0.2339, -0.1569, -0.7355],\n",
       "        [ 1.2830, -0.0808, -1.2687]])"
      ]
     },
     "execution_count": 10,
     "metadata": {},
     "output_type": "execute_result"
    }
   ],
   "source": [
    "b.a"
   ]
  },
  {
   "cell_type": "code",
   "execution_count": 11,
   "id": "b785ab72",
   "metadata": {
    "execution": {
     "iopub.execute_input": "2024-10-16T14:05:03.639668Z",
     "iopub.status.busy": "2024-10-16T14:05:03.639087Z",
     "iopub.status.idle": "2024-10-16T14:05:06.957524Z",
     "shell.execute_reply": "2024-10-16T14:05:06.956779Z"
    }
   },
   "outputs": [
    {
     "name": "stdout",
     "output_type": "stream",
     "text": [
      "40.9 ns ± 0.263 ns per loop (mean ± std. dev. of 7 runs, 10,000,000 loops each)\n"
     ]
    }
   ],
   "source": [
    "%timeit b.a"
   ]
  },
  {
   "cell_type": "code",
   "execution_count": 12,
   "id": "ad54dc69",
   "metadata": {
    "execution": {
     "iopub.execute_input": "2024-10-16T14:05:06.960037Z",
     "iopub.status.busy": "2024-10-16T14:05:06.959500Z",
     "iopub.status.idle": "2024-10-16T14:05:06.965508Z",
     "shell.execute_reply": "2024-10-16T14:05:06.964841Z"
    }
   },
   "outputs": [
    {
     "data": {
      "text/plain": [
       "Batch(\n",
       "    a: tensor([[ 1.3346, -1.1481, -0.6253],\n",
       "               [-0.2721,  0.2483, -0.1989]]),\n",
       "    x: Batch(\n",
       "           c: tensor([[-1.0120,  0.6890, -1.2714,  0.3398],\n",
       "                      [-0.7247, -1.2218,  0.3855, -1.5048],\n",
       "                      [-0.9781, -1.6866, -0.5531, -1.0940]]),\n",
       "       ),\n",
       ")"
      ]
     },
     "execution_count": 12,
     "metadata": {},
     "output_type": "execute_result"
    }
   ],
   "source": [
    "new_value = torch.randn(2, 3)\n",
    "b.a = new_value\n",
    "\n",
    "b"
   ]
  },
  {
   "cell_type": "code",
   "execution_count": 13,
   "id": "29b1d0bf",
   "metadata": {
    "execution": {
     "iopub.execute_input": "2024-10-16T14:05:06.967571Z",
     "iopub.status.busy": "2024-10-16T14:05:06.967326Z",
     "iopub.status.idle": "2024-10-16T14:05:09.885560Z",
     "shell.execute_reply": "2024-10-16T14:05:09.884897Z"
    }
   },
   "outputs": [
    {
     "name": "stdout",
     "output_type": "stream",
     "text": [
      "359 ns ± 0.511 ns per loop (mean ± std. dev. of 7 runs, 1,000,000 loops each)\n"
     ]
    }
   ],
   "source": [
    "%timeit b.a = new_value"
   ]
  },
  {
   "cell_type": "markdown",
   "id": "b61ad1d0",
   "metadata": {},
   "source": [
    "## Initialization"
   ]
  },
  {
   "cell_type": "markdown",
   "id": "d70f0d54",
   "metadata": {},
   "source": [
    "### TreeValue's Initialization"
   ]
  },
  {
   "cell_type": "code",
   "execution_count": 14,
   "id": "d32a679b",
   "metadata": {
    "execution": {
     "iopub.execute_input": "2024-10-16T14:05:09.887998Z",
     "iopub.status.busy": "2024-10-16T14:05:09.887546Z",
     "iopub.status.idle": "2024-10-16T14:05:15.540785Z",
     "shell.execute_reply": "2024-10-16T14:05:15.540062Z"
    }
   },
   "outputs": [
    {
     "name": "stdout",
     "output_type": "stream",
     "text": [
      "697 ns ± 6.39 ns per loop (mean ± std. dev. of 7 runs, 1,000,000 loops each)\n"
     ]
    }
   ],
   "source": [
    "%timeit FastTreeValue(_TREE_DATA_1)"
   ]
  },
  {
   "cell_type": "markdown",
   "id": "24f3707b",
   "metadata": {},
   "source": [
    "### Tianshou Batch's Initialization"
   ]
  },
  {
   "cell_type": "code",
   "execution_count": 15,
   "id": "ac3958df",
   "metadata": {
    "execution": {
     "iopub.execute_input": "2024-10-16T14:05:15.543178Z",
     "iopub.status.busy": "2024-10-16T14:05:15.542777Z",
     "iopub.status.idle": "2024-10-16T14:05:22.512419Z",
     "shell.execute_reply": "2024-10-16T14:05:22.511787Z"
    }
   },
   "outputs": [
    {
     "name": "stdout",
     "output_type": "stream",
     "text": [
      "8.59 µs ± 30.1 ns per loop (mean ± std. dev. of 7 runs, 100,000 loops each)\n"
     ]
    }
   ],
   "source": [
    "%timeit Batch(**_TREE_DATA_1)"
   ]
  },
  {
   "cell_type": "markdown",
   "id": "1ab82e2d",
   "metadata": {},
   "source": [
    "## Deep Copy Operation"
   ]
  },
  {
   "cell_type": "code",
   "execution_count": 16,
   "id": "210a9442",
   "metadata": {
    "execution": {
     "iopub.execute_input": "2024-10-16T14:05:22.514661Z",
     "iopub.status.busy": "2024-10-16T14:05:22.514448Z",
     "iopub.status.idle": "2024-10-16T14:05:22.517356Z",
     "shell.execute_reply": "2024-10-16T14:05:22.516816Z"
    }
   },
   "outputs": [],
   "source": [
    "import copy"
   ]
  },
  {
   "cell_type": "markdown",
   "id": "5a736274",
   "metadata": {},
   "source": [
    "### Deep Copy of TreeValue"
   ]
  },
  {
   "cell_type": "code",
   "execution_count": 17,
   "id": "f9bcadd6",
   "metadata": {
    "execution": {
     "iopub.execute_input": "2024-10-16T14:05:22.519328Z",
     "iopub.status.busy": "2024-10-16T14:05:22.519127Z",
     "iopub.status.idle": "2024-10-16T14:05:32.878051Z",
     "shell.execute_reply": "2024-10-16T14:05:32.877296Z"
    }
   },
   "outputs": [
    {
     "name": "stdout",
     "output_type": "stream",
     "text": [
      "128 µs ± 528 ns per loop (mean ± std. dev. of 7 runs, 10,000 loops each)\n"
     ]
    }
   ],
   "source": [
    "t3 = FastTreeValue(_TREE_DATA_3)\n",
    "%timeit copy.deepcopy(t3)"
   ]
  },
  {
   "cell_type": "markdown",
   "id": "bf8be7ea",
   "metadata": {},
   "source": [
    "### Deep Copy of Tianshou Batch"
   ]
  },
  {
   "cell_type": "code",
   "execution_count": 18,
   "id": "91998e6f",
   "metadata": {
    "execution": {
     "iopub.execute_input": "2024-10-16T14:05:32.880619Z",
     "iopub.status.busy": "2024-10-16T14:05:32.880161Z",
     "iopub.status.idle": "2024-10-16T14:05:43.233202Z",
     "shell.execute_reply": "2024-10-16T14:05:43.232504Z"
    }
   },
   "outputs": [
    {
     "name": "stdout",
     "output_type": "stream",
     "text": [
      "128 µs ± 514 ns per loop (mean ± std. dev. of 7 runs, 10,000 loops each)\n"
     ]
    }
   ],
   "source": [
    "b3 = Batch(**_TREE_DATA_3)\n",
    "%timeit copy.deepcopy(b3)"
   ]
  },
  {
   "cell_type": "markdown",
   "id": "223162fb",
   "metadata": {},
   "source": [
    "## Stack, Concat and Split Operation"
   ]
  },
  {
   "cell_type": "markdown",
   "id": "85fa4a73",
   "metadata": {},
   "source": [
    "### Performance of TreeValue"
   ]
  },
  {
   "cell_type": "code",
   "execution_count": 19,
   "id": "a0c2b697",
   "metadata": {
    "execution": {
     "iopub.execute_input": "2024-10-16T14:05:43.235919Z",
     "iopub.status.busy": "2024-10-16T14:05:43.235445Z",
     "iopub.status.idle": "2024-10-16T14:05:43.239234Z",
     "shell.execute_reply": "2024-10-16T14:05:43.238657Z"
    }
   },
   "outputs": [],
   "source": [
    "trees = [FastTreeValue(_TREE_DATA_2) for _ in range(8)]"
   ]
  },
  {
   "cell_type": "code",
   "execution_count": 20,
   "id": "017ea5a5",
   "metadata": {
    "execution": {
     "iopub.execute_input": "2024-10-16T14:05:43.241291Z",
     "iopub.status.busy": "2024-10-16T14:05:43.240896Z",
     "iopub.status.idle": "2024-10-16T14:05:43.247794Z",
     "shell.execute_reply": "2024-10-16T14:05:43.247189Z"
    }
   },
   "outputs": [
    {
     "data": {
      "text/plain": [
       "<FastTreeValue 0x7effbbf1fb20>\n",
       "├── 'a' --> tensor([[[ 0.2339, -0.1569, -0.7355],\n",
       "│                    [ 1.2830, -0.0808, -1.2687]],\n",
       "│           \n",
       "│                   [[ 0.2339, -0.1569, -0.7355],\n",
       "│                    [ 1.2830, -0.0808, -1.2687]],\n",
       "│           \n",
       "│                   [[ 0.2339, -0.1569, -0.7355],\n",
       "│                    [ 1.2830, -0.0808, -1.2687]],\n",
       "│           \n",
       "│                   [[ 0.2339, -0.1569, -0.7355],\n",
       "│                    [ 1.2830, -0.0808, -1.2687]],\n",
       "│           \n",
       "│                   [[ 0.2339, -0.1569, -0.7355],\n",
       "│                    [ 1.2830, -0.0808, -1.2687]],\n",
       "│           \n",
       "│                   [[ 0.2339, -0.1569, -0.7355],\n",
       "│                    [ 1.2830, -0.0808, -1.2687]],\n",
       "│           \n",
       "│                   [[ 0.2339, -0.1569, -0.7355],\n",
       "│                    [ 1.2830, -0.0808, -1.2687]],\n",
       "│           \n",
       "│                   [[ 0.2339, -0.1569, -0.7355],\n",
       "│                    [ 1.2830, -0.0808, -1.2687]]])\n",
       "└── 'x' --> <FastTreeValue 0x7effbbf1f400>\n",
       "    └── 'c' --> tensor([[[-1.0120,  0.6890, -1.2714,  0.3398],\n",
       "                         [-0.7247, -1.2218,  0.3855, -1.5048],\n",
       "                         [-0.9781, -1.6866, -0.5531, -1.0940]],\n",
       "                \n",
       "                        [[-1.0120,  0.6890, -1.2714,  0.3398],\n",
       "                         [-0.7247, -1.2218,  0.3855, -1.5048],\n",
       "                         [-0.9781, -1.6866, -0.5531, -1.0940]],\n",
       "                \n",
       "                        [[-1.0120,  0.6890, -1.2714,  0.3398],\n",
       "                         [-0.7247, -1.2218,  0.3855, -1.5048],\n",
       "                         [-0.9781, -1.6866, -0.5531, -1.0940]],\n",
       "                \n",
       "                        [[-1.0120,  0.6890, -1.2714,  0.3398],\n",
       "                         [-0.7247, -1.2218,  0.3855, -1.5048],\n",
       "                         [-0.9781, -1.6866, -0.5531, -1.0940]],\n",
       "                \n",
       "                        [[-1.0120,  0.6890, -1.2714,  0.3398],\n",
       "                         [-0.7247, -1.2218,  0.3855, -1.5048],\n",
       "                         [-0.9781, -1.6866, -0.5531, -1.0940]],\n",
       "                \n",
       "                        [[-1.0120,  0.6890, -1.2714,  0.3398],\n",
       "                         [-0.7247, -1.2218,  0.3855, -1.5048],\n",
       "                         [-0.9781, -1.6866, -0.5531, -1.0940]],\n",
       "                \n",
       "                        [[-1.0120,  0.6890, -1.2714,  0.3398],\n",
       "                         [-0.7247, -1.2218,  0.3855, -1.5048],\n",
       "                         [-0.9781, -1.6866, -0.5531, -1.0940]],\n",
       "                \n",
       "                        [[-1.0120,  0.6890, -1.2714,  0.3398],\n",
       "                         [-0.7247, -1.2218,  0.3855, -1.5048],\n",
       "                         [-0.9781, -1.6866, -0.5531, -1.0940]]])"
      ]
     },
     "execution_count": 20,
     "metadata": {},
     "output_type": "execute_result"
    }
   ],
   "source": [
    "t_stack = FastTreeValue.func(subside=True)(torch.stack)\n",
    "\n",
    "t_stack(trees)"
   ]
  },
  {
   "cell_type": "code",
   "execution_count": 21,
   "id": "f8b3f415",
   "metadata": {
    "execution": {
     "iopub.execute_input": "2024-10-16T14:05:43.249874Z",
     "iopub.status.busy": "2024-10-16T14:05:43.249490Z",
     "iopub.status.idle": "2024-10-16T14:05:45.188478Z",
     "shell.execute_reply": "2024-10-16T14:05:45.187765Z"
    }
   },
   "outputs": [
    {
     "name": "stdout",
     "output_type": "stream",
     "text": [
      "23.8 µs ± 37 ns per loop (mean ± std. dev. of 7 runs, 10,000 loops each)\n"
     ]
    }
   ],
   "source": [
    "%timeit t_stack(trees)"
   ]
  },
  {
   "cell_type": "code",
   "execution_count": 22,
   "id": "94b56771",
   "metadata": {
    "execution": {
     "iopub.execute_input": "2024-10-16T14:05:45.190935Z",
     "iopub.status.busy": "2024-10-16T14:05:45.190518Z",
     "iopub.status.idle": "2024-10-16T14:05:45.197104Z",
     "shell.execute_reply": "2024-10-16T14:05:45.196547Z"
    }
   },
   "outputs": [
    {
     "data": {
      "text/plain": [
       "<FastTreeValue 0x7effb3cd7610>\n",
       "├── 'a' --> tensor([[ 0.2339, -0.1569, -0.7355],\n",
       "│                   [ 1.2830, -0.0808, -1.2687],\n",
       "│                   [ 0.2339, -0.1569, -0.7355],\n",
       "│                   [ 1.2830, -0.0808, -1.2687],\n",
       "│                   [ 0.2339, -0.1569, -0.7355],\n",
       "│                   [ 1.2830, -0.0808, -1.2687],\n",
       "│                   [ 0.2339, -0.1569, -0.7355],\n",
       "│                   [ 1.2830, -0.0808, -1.2687],\n",
       "│                   [ 0.2339, -0.1569, -0.7355],\n",
       "│                   [ 1.2830, -0.0808, -1.2687],\n",
       "│                   [ 0.2339, -0.1569, -0.7355],\n",
       "│                   [ 1.2830, -0.0808, -1.2687],\n",
       "│                   [ 0.2339, -0.1569, -0.7355],\n",
       "│                   [ 1.2830, -0.0808, -1.2687],\n",
       "│                   [ 0.2339, -0.1569, -0.7355],\n",
       "│                   [ 1.2830, -0.0808, -1.2687]])\n",
       "└── 'x' --> <FastTreeValue 0x7effb3cd7430>\n",
       "    └── 'c' --> tensor([[-1.0120,  0.6890, -1.2714,  0.3398],\n",
       "                        [-0.7247, -1.2218,  0.3855, -1.5048],\n",
       "                        [-0.9781, -1.6866, -0.5531, -1.0940],\n",
       "                        [-1.0120,  0.6890, -1.2714,  0.3398],\n",
       "                        [-0.7247, -1.2218,  0.3855, -1.5048],\n",
       "                        [-0.9781, -1.6866, -0.5531, -1.0940],\n",
       "                        [-1.0120,  0.6890, -1.2714,  0.3398],\n",
       "                        [-0.7247, -1.2218,  0.3855, -1.5048],\n",
       "                        [-0.9781, -1.6866, -0.5531, -1.0940],\n",
       "                        [-1.0120,  0.6890, -1.2714,  0.3398],\n",
       "                        [-0.7247, -1.2218,  0.3855, -1.5048],\n",
       "                        [-0.9781, -1.6866, -0.5531, -1.0940],\n",
       "                        [-1.0120,  0.6890, -1.2714,  0.3398],\n",
       "                        [-0.7247, -1.2218,  0.3855, -1.5048],\n",
       "                        [-0.9781, -1.6866, -0.5531, -1.0940],\n",
       "                        [-1.0120,  0.6890, -1.2714,  0.3398],\n",
       "                        [-0.7247, -1.2218,  0.3855, -1.5048],\n",
       "                        [-0.9781, -1.6866, -0.5531, -1.0940],\n",
       "                        [-1.0120,  0.6890, -1.2714,  0.3398],\n",
       "                        [-0.7247, -1.2218,  0.3855, -1.5048],\n",
       "                        [-0.9781, -1.6866, -0.5531, -1.0940],\n",
       "                        [-1.0120,  0.6890, -1.2714,  0.3398],\n",
       "                        [-0.7247, -1.2218,  0.3855, -1.5048],\n",
       "                        [-0.9781, -1.6866, -0.5531, -1.0940]])"
      ]
     },
     "execution_count": 22,
     "metadata": {},
     "output_type": "execute_result"
    }
   ],
   "source": [
    "t_cat = FastTreeValue.func(subside=True)(torch.cat)\n",
    "\n",
    "t_cat(trees)"
   ]
  },
  {
   "cell_type": "code",
   "execution_count": 23,
   "id": "5e9c06a6",
   "metadata": {
    "execution": {
     "iopub.execute_input": "2024-10-16T14:05:45.199289Z",
     "iopub.status.busy": "2024-10-16T14:05:45.198891Z",
     "iopub.status.idle": "2024-10-16T14:05:47.013688Z",
     "shell.execute_reply": "2024-10-16T14:05:47.012953Z"
    }
   },
   "outputs": [
    {
     "name": "stdout",
     "output_type": "stream",
     "text": [
      "22.3 µs ± 77.5 ns per loop (mean ± std. dev. of 7 runs, 10,000 loops each)\n"
     ]
    }
   ],
   "source": [
    "%timeit t_cat(trees)"
   ]
  },
  {
   "cell_type": "code",
   "execution_count": 24,
   "id": "a3ab5c8f",
   "metadata": {
    "execution": {
     "iopub.execute_input": "2024-10-16T14:05:47.016149Z",
     "iopub.status.busy": "2024-10-16T14:05:47.015687Z",
     "iopub.status.idle": "2024-10-16T14:05:51.105956Z",
     "shell.execute_reply": "2024-10-16T14:05:51.105233Z"
    }
   },
   "outputs": [
    {
     "name": "stdout",
     "output_type": "stream",
     "text": [
      "50.3 µs ± 104 ns per loop (mean ± std. dev. of 7 runs, 10,000 loops each)\n"
     ]
    }
   ],
   "source": [
    "t_split = FastTreeValue.func(rise=True)(torch.split)\n",
    "tree = FastTreeValue({\n",
    "    'obs': torch.randn(8, 4, 84, 84),\n",
    "    'action': torch.randint(0, 6, size=(8, 1,)),\n",
    "    'reward': torch.rand(8, 1),\n",
    "})\n",
    "\n",
    "%timeit t_split(tree, 1)"
   ]
  },
  {
   "cell_type": "markdown",
   "id": "31c3ec0b",
   "metadata": {},
   "source": [
    "### Performance of Tianshou Batch"
   ]
  },
  {
   "cell_type": "code",
   "execution_count": 25,
   "id": "9ead828a",
   "metadata": {
    "execution": {
     "iopub.execute_input": "2024-10-16T14:05:51.108191Z",
     "iopub.status.busy": "2024-10-16T14:05:51.107978Z",
     "iopub.status.idle": "2024-10-16T14:05:51.114847Z",
     "shell.execute_reply": "2024-10-16T14:05:51.114207Z"
    }
   },
   "outputs": [
    {
     "data": {
      "text/plain": [
       "Batch(\n",
       "    a: tensor([[[ 0.2339, -0.1569, -0.7355],\n",
       "                [ 1.2830, -0.0808, -1.2687]],\n",
       "       \n",
       "               [[ 0.2339, -0.1569, -0.7355],\n",
       "                [ 1.2830, -0.0808, -1.2687]],\n",
       "       \n",
       "               [[ 0.2339, -0.1569, -0.7355],\n",
       "                [ 1.2830, -0.0808, -1.2687]],\n",
       "       \n",
       "               [[ 0.2339, -0.1569, -0.7355],\n",
       "                [ 1.2830, -0.0808, -1.2687]],\n",
       "       \n",
       "               [[ 0.2339, -0.1569, -0.7355],\n",
       "                [ 1.2830, -0.0808, -1.2687]],\n",
       "       \n",
       "               [[ 0.2339, -0.1569, -0.7355],\n",
       "                [ 1.2830, -0.0808, -1.2687]],\n",
       "       \n",
       "               [[ 0.2339, -0.1569, -0.7355],\n",
       "                [ 1.2830, -0.0808, -1.2687]],\n",
       "       \n",
       "               [[ 0.2339, -0.1569, -0.7355],\n",
       "                [ 1.2830, -0.0808, -1.2687]]]),\n",
       "    x: Batch(\n",
       "           c: tensor([[[-1.0120,  0.6890, -1.2714,  0.3398],\n",
       "                       [-0.7247, -1.2218,  0.3855, -1.5048],\n",
       "                       [-0.9781, -1.6866, -0.5531, -1.0940]],\n",
       "              \n",
       "                      [[-1.0120,  0.6890, -1.2714,  0.3398],\n",
       "                       [-0.7247, -1.2218,  0.3855, -1.5048],\n",
       "                       [-0.9781, -1.6866, -0.5531, -1.0940]],\n",
       "              \n",
       "                      [[-1.0120,  0.6890, -1.2714,  0.3398],\n",
       "                       [-0.7247, -1.2218,  0.3855, -1.5048],\n",
       "                       [-0.9781, -1.6866, -0.5531, -1.0940]],\n",
       "              \n",
       "                      [[-1.0120,  0.6890, -1.2714,  0.3398],\n",
       "                       [-0.7247, -1.2218,  0.3855, -1.5048],\n",
       "                       [-0.9781, -1.6866, -0.5531, -1.0940]],\n",
       "              \n",
       "                      [[-1.0120,  0.6890, -1.2714,  0.3398],\n",
       "                       [-0.7247, -1.2218,  0.3855, -1.5048],\n",
       "                       [-0.9781, -1.6866, -0.5531, -1.0940]],\n",
       "              \n",
       "                      [[-1.0120,  0.6890, -1.2714,  0.3398],\n",
       "                       [-0.7247, -1.2218,  0.3855, -1.5048],\n",
       "                       [-0.9781, -1.6866, -0.5531, -1.0940]],\n",
       "              \n",
       "                      [[-1.0120,  0.6890, -1.2714,  0.3398],\n",
       "                       [-0.7247, -1.2218,  0.3855, -1.5048],\n",
       "                       [-0.9781, -1.6866, -0.5531, -1.0940]],\n",
       "              \n",
       "                      [[-1.0120,  0.6890, -1.2714,  0.3398],\n",
       "                       [-0.7247, -1.2218,  0.3855, -1.5048],\n",
       "                       [-0.9781, -1.6866, -0.5531, -1.0940]]]),\n",
       "       ),\n",
       ")"
      ]
     },
     "execution_count": 25,
     "metadata": {},
     "output_type": "execute_result"
    }
   ],
   "source": [
    "batches = [Batch(**_TREE_DATA_2) for _ in range(8)]\n",
    "\n",
    "Batch.stack(batches)"
   ]
  },
  {
   "cell_type": "code",
   "execution_count": 26,
   "id": "ec9037a3",
   "metadata": {
    "execution": {
     "iopub.execute_input": "2024-10-16T14:05:51.116914Z",
     "iopub.status.busy": "2024-10-16T14:05:51.116539Z",
     "iopub.status.idle": "2024-10-16T14:05:56.249410Z",
     "shell.execute_reply": "2024-10-16T14:05:56.248684Z"
    }
   },
   "outputs": [
    {
     "name": "stdout",
     "output_type": "stream",
     "text": [
      "63 µs ± 445 ns per loop (mean ± std. dev. of 7 runs, 10,000 loops each)\n"
     ]
    }
   ],
   "source": [
    "%timeit Batch.stack(batches)"
   ]
  },
  {
   "cell_type": "code",
   "execution_count": 27,
   "id": "cb8ab77e",
   "metadata": {
    "execution": {
     "iopub.execute_input": "2024-10-16T14:05:56.251740Z",
     "iopub.status.busy": "2024-10-16T14:05:56.251392Z",
     "iopub.status.idle": "2024-10-16T14:05:56.258034Z",
     "shell.execute_reply": "2024-10-16T14:05:56.257499Z"
    }
   },
   "outputs": [
    {
     "data": {
      "text/plain": [
       "Batch(\n",
       "    a: tensor([[ 0.2339, -0.1569, -0.7355],\n",
       "               [ 1.2830, -0.0808, -1.2687],\n",
       "               [ 0.2339, -0.1569, -0.7355],\n",
       "               [ 1.2830, -0.0808, -1.2687],\n",
       "               [ 0.2339, -0.1569, -0.7355],\n",
       "               [ 1.2830, -0.0808, -1.2687],\n",
       "               [ 0.2339, -0.1569, -0.7355],\n",
       "               [ 1.2830, -0.0808, -1.2687],\n",
       "               [ 0.2339, -0.1569, -0.7355],\n",
       "               [ 1.2830, -0.0808, -1.2687],\n",
       "               [ 0.2339, -0.1569, -0.7355],\n",
       "               [ 1.2830, -0.0808, -1.2687],\n",
       "               [ 0.2339, -0.1569, -0.7355],\n",
       "               [ 1.2830, -0.0808, -1.2687],\n",
       "               [ 0.2339, -0.1569, -0.7355],\n",
       "               [ 1.2830, -0.0808, -1.2687]]),\n",
       "    x: Batch(\n",
       "           c: tensor([[-1.0120,  0.6890, -1.2714,  0.3398],\n",
       "                      [-0.7247, -1.2218,  0.3855, -1.5048],\n",
       "                      [-0.9781, -1.6866, -0.5531, -1.0940],\n",
       "                      [-1.0120,  0.6890, -1.2714,  0.3398],\n",
       "                      [-0.7247, -1.2218,  0.3855, -1.5048],\n",
       "                      [-0.9781, -1.6866, -0.5531, -1.0940],\n",
       "                      [-1.0120,  0.6890, -1.2714,  0.3398],\n",
       "                      [-0.7247, -1.2218,  0.3855, -1.5048],\n",
       "                      [-0.9781, -1.6866, -0.5531, -1.0940],\n",
       "                      [-1.0120,  0.6890, -1.2714,  0.3398],\n",
       "                      [-0.7247, -1.2218,  0.3855, -1.5048],\n",
       "                      [-0.9781, -1.6866, -0.5531, -1.0940],\n",
       "                      [-1.0120,  0.6890, -1.2714,  0.3398],\n",
       "                      [-0.7247, -1.2218,  0.3855, -1.5048],\n",
       "                      [-0.9781, -1.6866, -0.5531, -1.0940],\n",
       "                      [-1.0120,  0.6890, -1.2714,  0.3398],\n",
       "                      [-0.7247, -1.2218,  0.3855, -1.5048],\n",
       "                      [-0.9781, -1.6866, -0.5531, -1.0940],\n",
       "                      [-1.0120,  0.6890, -1.2714,  0.3398],\n",
       "                      [-0.7247, -1.2218,  0.3855, -1.5048],\n",
       "                      [-0.9781, -1.6866, -0.5531, -1.0940],\n",
       "                      [-1.0120,  0.6890, -1.2714,  0.3398],\n",
       "                      [-0.7247, -1.2218,  0.3855, -1.5048],\n",
       "                      [-0.9781, -1.6866, -0.5531, -1.0940]]),\n",
       "       ),\n",
       ")"
      ]
     },
     "execution_count": 27,
     "metadata": {},
     "output_type": "execute_result"
    }
   ],
   "source": [
    "Batch.cat(batches)"
   ]
  },
  {
   "cell_type": "code",
   "execution_count": 28,
   "id": "18dfb045",
   "metadata": {
    "execution": {
     "iopub.execute_input": "2024-10-16T14:05:56.260022Z",
     "iopub.status.busy": "2024-10-16T14:05:56.259817Z",
     "iopub.status.idle": "2024-10-16T14:06:05.913358Z",
     "shell.execute_reply": "2024-10-16T14:06:05.912698Z"
    }
   },
   "outputs": [
    {
     "name": "stdout",
     "output_type": "stream",
     "text": [
      "119 µs ± 543 ns per loop (mean ± std. dev. of 7 runs, 10,000 loops each)\n"
     ]
    }
   ],
   "source": [
    "%timeit Batch.cat(batches)"
   ]
  },
  {
   "cell_type": "code",
   "execution_count": 29,
   "id": "c6688e51",
   "metadata": {
    "execution": {
     "iopub.execute_input": "2024-10-16T14:06:05.915668Z",
     "iopub.status.busy": "2024-10-16T14:06:05.915255Z",
     "iopub.status.idle": "2024-10-16T14:06:08.233419Z",
     "shell.execute_reply": "2024-10-16T14:06:08.232721Z"
    }
   },
   "outputs": [
    {
     "name": "stdout",
     "output_type": "stream",
     "text": [
      "284 µs ± 4.4 µs per loop (mean ± std. dev. of 7 runs, 1,000 loops each)\n"
     ]
    }
   ],
   "source": [
    "batch = Batch({\n",
    "    'obs': torch.randn(8, 4, 84, 84),\n",
    "    'action': torch.randint(0, 6, size=(8, 1,)),\n",
    "    'reward': torch.rand(8, 1)}\n",
    ")\n",
    "\n",
    "%timeit list(Batch.split(batch, 1, shuffle=False, merge_last=True))"
   ]
  },
  {
   "cell_type": "code",
   "execution_count": null,
   "id": "2539fbd9",
   "metadata": {},
   "outputs": [],
   "source": []
  }
 ],
 "metadata": {
  "kernelspec": {
   "display_name": "Python 3 (ipykernel)",
   "language": "python",
   "name": "python3"
  },
  "language_info": {
   "codemirror_mode": {
    "name": "ipython",
    "version": 3
   },
   "file_extension": ".py",
   "mimetype": "text/x-python",
   "name": "python",
   "nbconvert_exporter": "python",
   "pygments_lexer": "ipython3",
   "version": "3.8.18"
  }
 },
 "nbformat": 4,
 "nbformat_minor": 5
}
