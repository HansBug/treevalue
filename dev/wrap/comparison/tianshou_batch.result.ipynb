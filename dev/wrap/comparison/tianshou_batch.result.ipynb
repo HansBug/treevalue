{
 "cells": [
  {
   "cell_type": "markdown",
   "id": "9d39d946",
   "metadata": {},
   "source": [
    "# Comparison Between TreeValue and Tianshou Batch"
   ]
  },
  {
   "cell_type": "markdown",
   "id": "3c6db2d4",
   "metadata": {},
   "source": [
    "In this section, we will take a look at the feature and performance of the [Tianshou Batch](https://github.com/thu-ml/tianshou) library, which is developed by Tsinghua Machine Learning Group."
   ]
  },
  {
   "cell_type": "markdown",
   "id": "069361b0",
   "metadata": {},
   "source": [
    "Before starting the comparison, let us define some thing."
   ]
  },
  {
   "cell_type": "code",
   "execution_count": 1,
   "id": "06fc8d26",
   "metadata": {
    "execution": {
     "iopub.execute_input": "2023-02-27T08:34:42.874285Z",
     "iopub.status.busy": "2023-02-27T08:34:42.873958Z",
     "iopub.status.idle": "2023-02-27T08:34:44.208395Z",
     "shell.execute_reply": "2023-02-27T08:34:44.207237Z"
    }
   },
   "outputs": [
    {
     "name": "stderr",
     "output_type": "stream",
     "text": [
      "/opt/hostedtoolcache/Python/3.8.16/x64/lib/python3.8/site-packages/tqdm/auto.py:22: TqdmWarning: IProgress not found. Please update jupyter and ipywidgets. See https://ipywidgets.readthedocs.io/en/stable/user_install.html\n",
      "  from .autonotebook import tqdm as notebook_tqdm\n"
     ]
    }
   ],
   "source": [
    "import torch \n",
    "\n",
    "_TREE_DATA_1 = {'a': 1, 'b': 2, 'x': {'c': 3, 'd': 4}}\n",
    "_TREE_DATA_2 = {\n",
    "    'a': torch.randn(2, 3), \n",
    "    'x': {\n",
    "        'c': torch.randn(3, 4)\n",
    "    },\n",
    "}\n",
    "_TREE_DATA_3 = {\n",
    "    'obs': torch.randn(4, 84, 84),\n",
    "    'action': torch.randint(0, 6, size=(1,)),\n",
    "    'reward': torch.rand(1),\n",
    "}"
   ]
  },
  {
   "cell_type": "markdown",
   "id": "83461b25",
   "metadata": {},
   "source": [
    "## Read and Write Operation"
   ]
  },
  {
   "cell_type": "markdown",
   "id": "067b3f73",
   "metadata": {},
   "source": [
    "Reading and writing are the two most common operations in the tree data structure based on the data model (TreeValue and Tianshou Batch both belong to this type), so this section will compare the reading and writing performance of these two libraries."
   ]
  },
  {
   "cell_type": "markdown",
   "id": "5d09a5b7",
   "metadata": {},
   "source": [
    "### TreeValue's Get and Set"
   ]
  },
  {
   "cell_type": "code",
   "execution_count": 2,
   "id": "9519c4bb",
   "metadata": {
    "execution": {
     "iopub.execute_input": "2023-02-27T08:34:44.214311Z",
     "iopub.status.busy": "2023-02-27T08:34:44.213913Z",
     "iopub.status.idle": "2023-02-27T08:34:44.263505Z",
     "shell.execute_reply": "2023-02-27T08:34:44.262467Z"
    }
   },
   "outputs": [],
   "source": [
    "from treevalue import FastTreeValue\n",
    "\n",
    "t = FastTreeValue(_TREE_DATA_2)"
   ]
  },
  {
   "cell_type": "code",
   "execution_count": 3,
   "id": "11c37677",
   "metadata": {
    "execution": {
     "iopub.execute_input": "2023-02-27T08:34:44.268157Z",
     "iopub.status.busy": "2023-02-27T08:34:44.267811Z",
     "iopub.status.idle": "2023-02-27T08:34:44.282075Z",
     "shell.execute_reply": "2023-02-27T08:34:44.281149Z"
    }
   },
   "outputs": [
    {
     "data": {
      "text/plain": [
       "<FastTreeValue 0x7f9d00ad8a90>\n",
       "├── 'a' --> tensor([[ 0.7730,  0.7115, -2.5610],\n",
       "│                   [-1.4018,  0.2748,  0.4407]])\n",
       "└── 'x' --> <FastTreeValue 0x7f9d00ad8bb0>\n",
       "    └── 'c' --> tensor([[ 1.4024, -0.7648,  1.7645,  0.2820],\n",
       "                        [ 0.0420, -1.4195,  0.5089, -1.2967],\n",
       "                        [ 0.3106,  1.4347, -1.7090,  1.5024]])"
      ]
     },
     "execution_count": 3,
     "metadata": {},
     "output_type": "execute_result"
    }
   ],
   "source": [
    "t"
   ]
  },
  {
   "cell_type": "code",
   "execution_count": 4,
   "id": "fd70b0b9",
   "metadata": {
    "execution": {
     "iopub.execute_input": "2023-02-27T08:34:44.285957Z",
     "iopub.status.busy": "2023-02-27T08:34:44.285147Z",
     "iopub.status.idle": "2023-02-27T08:34:44.293968Z",
     "shell.execute_reply": "2023-02-27T08:34:44.292969Z"
    }
   },
   "outputs": [
    {
     "data": {
      "text/plain": [
       "tensor([[ 0.7730,  0.7115, -2.5610],\n",
       "        [-1.4018,  0.2748,  0.4407]])"
      ]
     },
     "execution_count": 4,
     "metadata": {},
     "output_type": "execute_result"
    }
   ],
   "source": [
    "t.a"
   ]
  },
  {
   "cell_type": "code",
   "execution_count": 5,
   "id": "c18197bd",
   "metadata": {
    "execution": {
     "iopub.execute_input": "2023-02-27T08:34:44.297737Z",
     "iopub.status.busy": "2023-02-27T08:34:44.297419Z",
     "iopub.status.idle": "2023-02-27T08:34:51.048257Z",
     "shell.execute_reply": "2023-02-27T08:34:51.047071Z"
    }
   },
   "outputs": [
    {
     "name": "stdout",
     "output_type": "stream",
     "text": [
      "84.2 ns ± 0.594 ns per loop (mean ± std. dev. of 7 runs, 10,000,000 loops each)\n"
     ]
    }
   ],
   "source": [
    "%timeit t.a"
   ]
  },
  {
   "cell_type": "code",
   "execution_count": 6,
   "id": "bd52f867",
   "metadata": {
    "execution": {
     "iopub.execute_input": "2023-02-27T08:34:51.052675Z",
     "iopub.status.busy": "2023-02-27T08:34:51.052104Z",
     "iopub.status.idle": "2023-02-27T08:34:51.063090Z",
     "shell.execute_reply": "2023-02-27T08:34:51.061966Z"
    }
   },
   "outputs": [
    {
     "data": {
      "text/plain": [
       "<FastTreeValue 0x7f9d00ad8a90>\n",
       "├── 'a' --> tensor([[-1.2691,  0.9885, -1.7208],\n",
       "│                   [ 1.4440, -1.8461,  1.3594]])\n",
       "└── 'x' --> <FastTreeValue 0x7f9d00ad8bb0>\n",
       "    └── 'c' --> tensor([[ 1.4024, -0.7648,  1.7645,  0.2820],\n",
       "                        [ 0.0420, -1.4195,  0.5089, -1.2967],\n",
       "                        [ 0.3106,  1.4347, -1.7090,  1.5024]])"
      ]
     },
     "execution_count": 6,
     "metadata": {},
     "output_type": "execute_result"
    }
   ],
   "source": [
    "new_value = torch.randn(2, 3)\n",
    "t.a = new_value\n",
    "\n",
    "t"
   ]
  },
  {
   "cell_type": "code",
   "execution_count": 7,
   "id": "bbe04d1c",
   "metadata": {
    "execution": {
     "iopub.execute_input": "2023-02-27T08:34:51.067997Z",
     "iopub.status.busy": "2023-02-27T08:34:51.067224Z",
     "iopub.status.idle": "2023-02-27T08:34:58.393016Z",
     "shell.execute_reply": "2023-02-27T08:34:58.391904Z"
    }
   },
   "outputs": [
    {
     "name": "stdout",
     "output_type": "stream",
     "text": [
      "90.3 ns ± 0.941 ns per loop (mean ± std. dev. of 7 runs, 10,000,000 loops each)\n"
     ]
    }
   ],
   "source": [
    "%timeit t.a = new_value"
   ]
  },
  {
   "cell_type": "markdown",
   "id": "48c49731",
   "metadata": {},
   "source": [
    "### Tianshou Batch's Get and Set"
   ]
  },
  {
   "cell_type": "code",
   "execution_count": 8,
   "id": "f1bb14c1",
   "metadata": {
    "execution": {
     "iopub.execute_input": "2023-02-27T08:34:58.397132Z",
     "iopub.status.busy": "2023-02-27T08:34:58.396562Z",
     "iopub.status.idle": "2023-02-27T08:34:58.904237Z",
     "shell.execute_reply": "2023-02-27T08:34:58.902845Z"
    }
   },
   "outputs": [],
   "source": [
    "from tianshou.data import Batch\n",
    "\n",
    "b = Batch(**_TREE_DATA_2)"
   ]
  },
  {
   "cell_type": "code",
   "execution_count": 9,
   "id": "cb0777c3",
   "metadata": {
    "execution": {
     "iopub.execute_input": "2023-02-27T08:34:58.909601Z",
     "iopub.status.busy": "2023-02-27T08:34:58.908573Z",
     "iopub.status.idle": "2023-02-27T08:34:58.918028Z",
     "shell.execute_reply": "2023-02-27T08:34:58.917078Z"
    }
   },
   "outputs": [
    {
     "data": {
      "text/plain": [
       "Batch(\n",
       "    a: tensor([[ 0.7730,  0.7115, -2.5610],\n",
       "               [-1.4018,  0.2748,  0.4407]]),\n",
       "    x: Batch(\n",
       "           c: tensor([[ 1.4024, -0.7648,  1.7645,  0.2820],\n",
       "                      [ 0.0420, -1.4195,  0.5089, -1.2967],\n",
       "                      [ 0.3106,  1.4347, -1.7090,  1.5024]]),\n",
       "       ),\n",
       ")"
      ]
     },
     "execution_count": 9,
     "metadata": {},
     "output_type": "execute_result"
    }
   ],
   "source": [
    "b"
   ]
  },
  {
   "cell_type": "code",
   "execution_count": 10,
   "id": "43ef8ea3",
   "metadata": {
    "execution": {
     "iopub.execute_input": "2023-02-27T08:34:58.921837Z",
     "iopub.status.busy": "2023-02-27T08:34:58.921501Z",
     "iopub.status.idle": "2023-02-27T08:34:58.928156Z",
     "shell.execute_reply": "2023-02-27T08:34:58.927177Z"
    }
   },
   "outputs": [
    {
     "data": {
      "text/plain": [
       "tensor([[ 0.7730,  0.7115, -2.5610],\n",
       "        [-1.4018,  0.2748,  0.4407]])"
      ]
     },
     "execution_count": 10,
     "metadata": {},
     "output_type": "execute_result"
    }
   ],
   "source": [
    "b.a"
   ]
  },
  {
   "cell_type": "code",
   "execution_count": 11,
   "id": "b785ab72",
   "metadata": {
    "execution": {
     "iopub.execute_input": "2023-02-27T08:34:58.931906Z",
     "iopub.status.busy": "2023-02-27T08:34:58.931589Z",
     "iopub.status.idle": "2023-02-27T08:35:05.304347Z",
     "shell.execute_reply": "2023-02-27T08:35:05.303081Z"
    }
   },
   "outputs": [
    {
     "name": "stdout",
     "output_type": "stream",
     "text": [
      "77.8 ns ± 0.543 ns per loop (mean ± std. dev. of 7 runs, 10,000,000 loops each)\n"
     ]
    }
   ],
   "source": [
    "%timeit b.a"
   ]
  },
  {
   "cell_type": "code",
   "execution_count": 12,
   "id": "ad54dc69",
   "metadata": {
    "execution": {
     "iopub.execute_input": "2023-02-27T08:35:05.308578Z",
     "iopub.status.busy": "2023-02-27T08:35:05.307700Z",
     "iopub.status.idle": "2023-02-27T08:35:05.317061Z",
     "shell.execute_reply": "2023-02-27T08:35:05.316113Z"
    }
   },
   "outputs": [
    {
     "data": {
      "text/plain": [
       "Batch(\n",
       "    a: tensor([[ 1.0511,  0.4410,  1.8480],\n",
       "               [ 0.6830, -1.4493, -2.4825]]),\n",
       "    x: Batch(\n",
       "           c: tensor([[ 1.4024, -0.7648,  1.7645,  0.2820],\n",
       "                      [ 0.0420, -1.4195,  0.5089, -1.2967],\n",
       "                      [ 0.3106,  1.4347, -1.7090,  1.5024]]),\n",
       "       ),\n",
       ")"
      ]
     },
     "execution_count": 12,
     "metadata": {},
     "output_type": "execute_result"
    }
   ],
   "source": [
    "new_value = torch.randn(2, 3)\n",
    "b.a = new_value\n",
    "\n",
    "b"
   ]
  },
  {
   "cell_type": "code",
   "execution_count": 13,
   "id": "29b1d0bf",
   "metadata": {
    "execution": {
     "iopub.execute_input": "2023-02-27T08:35:05.320699Z",
     "iopub.status.busy": "2023-02-27T08:35:05.320413Z",
     "iopub.status.idle": "2023-02-27T08:35:10.723547Z",
     "shell.execute_reply": "2023-02-27T08:35:10.722494Z"
    }
   },
   "outputs": [
    {
     "name": "stdout",
     "output_type": "stream",
     "text": [
      "664 ns ± 7.28 ns per loop (mean ± std. dev. of 7 runs, 1,000,000 loops each)\n"
     ]
    }
   ],
   "source": [
    "%timeit b.a = new_value"
   ]
  },
  {
   "cell_type": "markdown",
   "id": "b61ad1d0",
   "metadata": {},
   "source": [
    "## Initialization"
   ]
  },
  {
   "cell_type": "markdown",
   "id": "d70f0d54",
   "metadata": {},
   "source": [
    "### TreeValue's Initialization"
   ]
  },
  {
   "cell_type": "code",
   "execution_count": 14,
   "id": "d32a679b",
   "metadata": {
    "execution": {
     "iopub.execute_input": "2023-02-27T08:35:10.728297Z",
     "iopub.status.busy": "2023-02-27T08:35:10.727718Z",
     "iopub.status.idle": "2023-02-27T08:35:19.872559Z",
     "shell.execute_reply": "2023-02-27T08:35:19.871445Z"
    }
   },
   "outputs": [
    {
     "name": "stdout",
     "output_type": "stream",
     "text": [
      "1.12 µs ± 7.35 ns per loop (mean ± std. dev. of 7 runs, 1,000,000 loops each)\n"
     ]
    }
   ],
   "source": [
    "%timeit FastTreeValue(_TREE_DATA_1)"
   ]
  },
  {
   "cell_type": "markdown",
   "id": "24f3707b",
   "metadata": {},
   "source": [
    "### Tianshou Batch's Initialization"
   ]
  },
  {
   "cell_type": "code",
   "execution_count": 15,
   "id": "ac3958df",
   "metadata": {
    "execution": {
     "iopub.execute_input": "2023-02-27T08:35:19.877177Z",
     "iopub.status.busy": "2023-02-27T08:35:19.876356Z",
     "iopub.status.idle": "2023-02-27T08:35:31.517474Z",
     "shell.execute_reply": "2023-02-27T08:35:31.516347Z"
    }
   },
   "outputs": [
    {
     "name": "stdout",
     "output_type": "stream",
     "text": [
      "14.4 µs ± 272 ns per loop (mean ± std. dev. of 7 runs, 100,000 loops each)\n"
     ]
    }
   ],
   "source": [
    "%timeit Batch(**_TREE_DATA_1)"
   ]
  },
  {
   "cell_type": "markdown",
   "id": "1ab82e2d",
   "metadata": {},
   "source": [
    "## Deep Copy Operation"
   ]
  },
  {
   "cell_type": "code",
   "execution_count": 16,
   "id": "210a9442",
   "metadata": {
    "execution": {
     "iopub.execute_input": "2023-02-27T08:35:31.521641Z",
     "iopub.status.busy": "2023-02-27T08:35:31.521192Z",
     "iopub.status.idle": "2023-02-27T08:35:31.526451Z",
     "shell.execute_reply": "2023-02-27T08:35:31.524520Z"
    }
   },
   "outputs": [],
   "source": [
    "import copy"
   ]
  },
  {
   "cell_type": "markdown",
   "id": "5a736274",
   "metadata": {},
   "source": [
    "### Deep Copy of TreeValue"
   ]
  },
  {
   "cell_type": "code",
   "execution_count": 17,
   "id": "f9bcadd6",
   "metadata": {
    "execution": {
     "iopub.execute_input": "2023-02-27T08:35:31.530837Z",
     "iopub.status.busy": "2023-02-27T08:35:31.529974Z",
     "iopub.status.idle": "2023-02-27T08:35:33.803866Z",
     "shell.execute_reply": "2023-02-27T08:35:33.802684Z"
    }
   },
   "outputs": [
    {
     "name": "stdout",
     "output_type": "stream",
     "text": [
      "278 µs ± 6.46 µs per loop (mean ± std. dev. of 7 runs, 1,000 loops each)\n"
     ]
    }
   ],
   "source": [
    "t3 = FastTreeValue(_TREE_DATA_3)\n",
    "%timeit copy.deepcopy(t3)"
   ]
  },
  {
   "cell_type": "markdown",
   "id": "bf8be7ea",
   "metadata": {},
   "source": [
    "### Deep Copy of Tianshou Batch"
   ]
  },
  {
   "cell_type": "code",
   "execution_count": 18,
   "id": "91998e6f",
   "metadata": {
    "execution": {
     "iopub.execute_input": "2023-02-27T08:35:33.808078Z",
     "iopub.status.busy": "2023-02-27T08:35:33.807591Z",
     "iopub.status.idle": "2023-02-27T08:35:36.029763Z",
     "shell.execute_reply": "2023-02-27T08:35:36.028779Z"
    }
   },
   "outputs": [
    {
     "name": "stdout",
     "output_type": "stream",
     "text": [
      "272 µs ± 6.47 µs per loop (mean ± std. dev. of 7 runs, 1,000 loops each)\n"
     ]
    }
   ],
   "source": [
    "b3 = Batch(**_TREE_DATA_3)\n",
    "%timeit copy.deepcopy(b3)"
   ]
  },
  {
   "cell_type": "markdown",
   "id": "223162fb",
   "metadata": {},
   "source": [
    "## Stack, Concat and Split Operation"
   ]
  },
  {
   "cell_type": "markdown",
   "id": "85fa4a73",
   "metadata": {},
   "source": [
    "### Performance of TreeValue"
   ]
  },
  {
   "cell_type": "code",
   "execution_count": 19,
   "id": "a0c2b697",
   "metadata": {
    "execution": {
     "iopub.execute_input": "2023-02-27T08:35:36.034145Z",
     "iopub.status.busy": "2023-02-27T08:35:36.033684Z",
     "iopub.status.idle": "2023-02-27T08:35:36.039222Z",
     "shell.execute_reply": "2023-02-27T08:35:36.038289Z"
    }
   },
   "outputs": [],
   "source": [
    "trees = [FastTreeValue(_TREE_DATA_2) for _ in range(8)]"
   ]
  },
  {
   "cell_type": "code",
   "execution_count": 20,
   "id": "017ea5a5",
   "metadata": {
    "execution": {
     "iopub.execute_input": "2023-02-27T08:35:36.043238Z",
     "iopub.status.busy": "2023-02-27T08:35:36.042613Z",
     "iopub.status.idle": "2023-02-27T08:35:36.052622Z",
     "shell.execute_reply": "2023-02-27T08:35:36.051753Z"
    }
   },
   "outputs": [
    {
     "data": {
      "text/plain": [
       "<FastTreeValue 0x7f9c548026d0>\n",
       "├── 'a' --> tensor([[[ 0.7730,  0.7115, -2.5610],\n",
       "│                    [-1.4018,  0.2748,  0.4407]],\n",
       "│           \n",
       "│                   [[ 0.7730,  0.7115, -2.5610],\n",
       "│                    [-1.4018,  0.2748,  0.4407]],\n",
       "│           \n",
       "│                   [[ 0.7730,  0.7115, -2.5610],\n",
       "│                    [-1.4018,  0.2748,  0.4407]],\n",
       "│           \n",
       "│                   [[ 0.7730,  0.7115, -2.5610],\n",
       "│                    [-1.4018,  0.2748,  0.4407]],\n",
       "│           \n",
       "│                   [[ 0.7730,  0.7115, -2.5610],\n",
       "│                    [-1.4018,  0.2748,  0.4407]],\n",
       "│           \n",
       "│                   [[ 0.7730,  0.7115, -2.5610],\n",
       "│                    [-1.4018,  0.2748,  0.4407]],\n",
       "│           \n",
       "│                   [[ 0.7730,  0.7115, -2.5610],\n",
       "│                    [-1.4018,  0.2748,  0.4407]],\n",
       "│           \n",
       "│                   [[ 0.7730,  0.7115, -2.5610],\n",
       "│                    [-1.4018,  0.2748,  0.4407]]])\n",
       "└── 'x' --> <FastTreeValue 0x7f9c54802f40>\n",
       "    └── 'c' --> tensor([[[ 1.4024, -0.7648,  1.7645,  0.2820],\n",
       "                         [ 0.0420, -1.4195,  0.5089, -1.2967],\n",
       "                         [ 0.3106,  1.4347, -1.7090,  1.5024]],\n",
       "                \n",
       "                        [[ 1.4024, -0.7648,  1.7645,  0.2820],\n",
       "                         [ 0.0420, -1.4195,  0.5089, -1.2967],\n",
       "                         [ 0.3106,  1.4347, -1.7090,  1.5024]],\n",
       "                \n",
       "                        [[ 1.4024, -0.7648,  1.7645,  0.2820],\n",
       "                         [ 0.0420, -1.4195,  0.5089, -1.2967],\n",
       "                         [ 0.3106,  1.4347, -1.7090,  1.5024]],\n",
       "                \n",
       "                        [[ 1.4024, -0.7648,  1.7645,  0.2820],\n",
       "                         [ 0.0420, -1.4195,  0.5089, -1.2967],\n",
       "                         [ 0.3106,  1.4347, -1.7090,  1.5024]],\n",
       "                \n",
       "                        [[ 1.4024, -0.7648,  1.7645,  0.2820],\n",
       "                         [ 0.0420, -1.4195,  0.5089, -1.2967],\n",
       "                         [ 0.3106,  1.4347, -1.7090,  1.5024]],\n",
       "                \n",
       "                        [[ 1.4024, -0.7648,  1.7645,  0.2820],\n",
       "                         [ 0.0420, -1.4195,  0.5089, -1.2967],\n",
       "                         [ 0.3106,  1.4347, -1.7090,  1.5024]],\n",
       "                \n",
       "                        [[ 1.4024, -0.7648,  1.7645,  0.2820],\n",
       "                         [ 0.0420, -1.4195,  0.5089, -1.2967],\n",
       "                         [ 0.3106,  1.4347, -1.7090,  1.5024]],\n",
       "                \n",
       "                        [[ 1.4024, -0.7648,  1.7645,  0.2820],\n",
       "                         [ 0.0420, -1.4195,  0.5089, -1.2967],\n",
       "                         [ 0.3106,  1.4347, -1.7090,  1.5024]]])"
      ]
     },
     "execution_count": 20,
     "metadata": {},
     "output_type": "execute_result"
    }
   ],
   "source": [
    "t_stack = FastTreeValue.func(subside=True)(torch.stack)\n",
    "\n",
    "t_stack(trees)"
   ]
  },
  {
   "cell_type": "code",
   "execution_count": 21,
   "id": "f8b3f415",
   "metadata": {
    "execution": {
     "iopub.execute_input": "2023-02-27T08:35:36.056139Z",
     "iopub.status.busy": "2023-02-27T08:35:36.055554Z",
     "iopub.status.idle": "2023-02-27T08:35:40.039335Z",
     "shell.execute_reply": "2023-02-27T08:35:40.038062Z"
    }
   },
   "outputs": [
    {
     "name": "stdout",
     "output_type": "stream",
     "text": [
      "49 µs ± 396 ns per loop (mean ± std. dev. of 7 runs, 10,000 loops each)\n"
     ]
    }
   ],
   "source": [
    "%timeit t_stack(trees)"
   ]
  },
  {
   "cell_type": "code",
   "execution_count": 22,
   "id": "94b56771",
   "metadata": {
    "execution": {
     "iopub.execute_input": "2023-02-27T08:35:40.043610Z",
     "iopub.status.busy": "2023-02-27T08:35:40.042823Z",
     "iopub.status.idle": "2023-02-27T08:35:40.062841Z",
     "shell.execute_reply": "2023-02-27T08:35:40.061545Z"
    }
   },
   "outputs": [
    {
     "data": {
      "text/plain": [
       "<FastTreeValue 0x7f9c54802d30>\n",
       "├── 'a' --> tensor([[ 0.7730,  0.7115, -2.5610],\n",
       "│                   [-1.4018,  0.2748,  0.4407],\n",
       "│                   [ 0.7730,  0.7115, -2.5610],\n",
       "│                   [-1.4018,  0.2748,  0.4407],\n",
       "│                   [ 0.7730,  0.7115, -2.5610],\n",
       "│                   [-1.4018,  0.2748,  0.4407],\n",
       "│                   [ 0.7730,  0.7115, -2.5610],\n",
       "│                   [-1.4018,  0.2748,  0.4407],\n",
       "│                   [ 0.7730,  0.7115, -2.5610],\n",
       "│                   [-1.4018,  0.2748,  0.4407],\n",
       "│                   [ 0.7730,  0.7115, -2.5610],\n",
       "│                   [-1.4018,  0.2748,  0.4407],\n",
       "│                   [ 0.7730,  0.7115, -2.5610],\n",
       "│                   [-1.4018,  0.2748,  0.4407],\n",
       "│                   [ 0.7730,  0.7115, -2.5610],\n",
       "│                   [-1.4018,  0.2748,  0.4407]])\n",
       "└── 'x' --> <FastTreeValue 0x7f9c54802310>\n",
       "    └── 'c' --> tensor([[ 1.4024, -0.7648,  1.7645,  0.2820],\n",
       "                        [ 0.0420, -1.4195,  0.5089, -1.2967],\n",
       "                        [ 0.3106,  1.4347, -1.7090,  1.5024],\n",
       "                        [ 1.4024, -0.7648,  1.7645,  0.2820],\n",
       "                        [ 0.0420, -1.4195,  0.5089, -1.2967],\n",
       "                        [ 0.3106,  1.4347, -1.7090,  1.5024],\n",
       "                        [ 1.4024, -0.7648,  1.7645,  0.2820],\n",
       "                        [ 0.0420, -1.4195,  0.5089, -1.2967],\n",
       "                        [ 0.3106,  1.4347, -1.7090,  1.5024],\n",
       "                        [ 1.4024, -0.7648,  1.7645,  0.2820],\n",
       "                        [ 0.0420, -1.4195,  0.5089, -1.2967],\n",
       "                        [ 0.3106,  1.4347, -1.7090,  1.5024],\n",
       "                        [ 1.4024, -0.7648,  1.7645,  0.2820],\n",
       "                        [ 0.0420, -1.4195,  0.5089, -1.2967],\n",
       "                        [ 0.3106,  1.4347, -1.7090,  1.5024],\n",
       "                        [ 1.4024, -0.7648,  1.7645,  0.2820],\n",
       "                        [ 0.0420, -1.4195,  0.5089, -1.2967],\n",
       "                        [ 0.3106,  1.4347, -1.7090,  1.5024],\n",
       "                        [ 1.4024, -0.7648,  1.7645,  0.2820],\n",
       "                        [ 0.0420, -1.4195,  0.5089, -1.2967],\n",
       "                        [ 0.3106,  1.4347, -1.7090,  1.5024],\n",
       "                        [ 1.4024, -0.7648,  1.7645,  0.2820],\n",
       "                        [ 0.0420, -1.4195,  0.5089, -1.2967],\n",
       "                        [ 0.3106,  1.4347, -1.7090,  1.5024]])"
      ]
     },
     "execution_count": 22,
     "metadata": {},
     "output_type": "execute_result"
    }
   ],
   "source": [
    "t_cat = FastTreeValue.func(subside=True)(torch.cat)\n",
    "\n",
    "t_cat(trees)"
   ]
  },
  {
   "cell_type": "code",
   "execution_count": 23,
   "id": "5e9c06a6",
   "metadata": {
    "execution": {
     "iopub.execute_input": "2023-02-27T08:35:40.066917Z",
     "iopub.status.busy": "2023-02-27T08:35:40.066553Z",
     "iopub.status.idle": "2023-02-27T08:35:43.751706Z",
     "shell.execute_reply": "2023-02-27T08:35:43.750279Z"
    }
   },
   "outputs": [
    {
     "name": "stdout",
     "output_type": "stream",
     "text": [
      "45.3 µs ± 449 ns per loop (mean ± std. dev. of 7 runs, 10,000 loops each)\n"
     ]
    }
   ],
   "source": [
    "%timeit t_cat(trees)"
   ]
  },
  {
   "cell_type": "code",
   "execution_count": 24,
   "id": "a3ab5c8f",
   "metadata": {
    "execution": {
     "iopub.execute_input": "2023-02-27T08:35:43.755368Z",
     "iopub.status.busy": "2023-02-27T08:35:43.754981Z",
     "iopub.status.idle": "2023-02-27T08:35:50.787040Z",
     "shell.execute_reply": "2023-02-27T08:35:50.785866Z"
    }
   },
   "outputs": [
    {
     "name": "stdout",
     "output_type": "stream",
     "text": [
      "86.3 µs ± 1.55 µs per loop (mean ± std. dev. of 7 runs, 10,000 loops each)\n"
     ]
    }
   ],
   "source": [
    "t_split = FastTreeValue.func(rise=True)(torch.split)\n",
    "tree = FastTreeValue({\n",
    "    'obs': torch.randn(8, 4, 84, 84),\n",
    "    'action': torch.randint(0, 6, size=(8, 1,)),\n",
    "    'reward': torch.rand(8, 1),\n",
    "})\n",
    "\n",
    "%timeit t_split(tree, 1)"
   ]
  },
  {
   "cell_type": "markdown",
   "id": "31c3ec0b",
   "metadata": {},
   "source": [
    "### Performance of Tianshou Batch"
   ]
  },
  {
   "cell_type": "code",
   "execution_count": 25,
   "id": "9ead828a",
   "metadata": {
    "execution": {
     "iopub.execute_input": "2023-02-27T08:35:50.791508Z",
     "iopub.status.busy": "2023-02-27T08:35:50.790904Z",
     "iopub.status.idle": "2023-02-27T08:35:50.802399Z",
     "shell.execute_reply": "2023-02-27T08:35:50.801459Z"
    }
   },
   "outputs": [
    {
     "data": {
      "text/plain": [
       "Batch(\n",
       "    a: tensor([[[ 0.7730,  0.7115, -2.5610],\n",
       "                [-1.4018,  0.2748,  0.4407]],\n",
       "       \n",
       "               [[ 0.7730,  0.7115, -2.5610],\n",
       "                [-1.4018,  0.2748,  0.4407]],\n",
       "       \n",
       "               [[ 0.7730,  0.7115, -2.5610],\n",
       "                [-1.4018,  0.2748,  0.4407]],\n",
       "       \n",
       "               [[ 0.7730,  0.7115, -2.5610],\n",
       "                [-1.4018,  0.2748,  0.4407]],\n",
       "       \n",
       "               [[ 0.7730,  0.7115, -2.5610],\n",
       "                [-1.4018,  0.2748,  0.4407]],\n",
       "       \n",
       "               [[ 0.7730,  0.7115, -2.5610],\n",
       "                [-1.4018,  0.2748,  0.4407]],\n",
       "       \n",
       "               [[ 0.7730,  0.7115, -2.5610],\n",
       "                [-1.4018,  0.2748,  0.4407]],\n",
       "       \n",
       "               [[ 0.7730,  0.7115, -2.5610],\n",
       "                [-1.4018,  0.2748,  0.4407]]]),\n",
       "    x: Batch(\n",
       "           c: tensor([[[ 1.4024, -0.7648,  1.7645,  0.2820],\n",
       "                       [ 0.0420, -1.4195,  0.5089, -1.2967],\n",
       "                       [ 0.3106,  1.4347, -1.7090,  1.5024]],\n",
       "              \n",
       "                      [[ 1.4024, -0.7648,  1.7645,  0.2820],\n",
       "                       [ 0.0420, -1.4195,  0.5089, -1.2967],\n",
       "                       [ 0.3106,  1.4347, -1.7090,  1.5024]],\n",
       "              \n",
       "                      [[ 1.4024, -0.7648,  1.7645,  0.2820],\n",
       "                       [ 0.0420, -1.4195,  0.5089, -1.2967],\n",
       "                       [ 0.3106,  1.4347, -1.7090,  1.5024]],\n",
       "              \n",
       "                      [[ 1.4024, -0.7648,  1.7645,  0.2820],\n",
       "                       [ 0.0420, -1.4195,  0.5089, -1.2967],\n",
       "                       [ 0.3106,  1.4347, -1.7090,  1.5024]],\n",
       "              \n",
       "                      [[ 1.4024, -0.7648,  1.7645,  0.2820],\n",
       "                       [ 0.0420, -1.4195,  0.5089, -1.2967],\n",
       "                       [ 0.3106,  1.4347, -1.7090,  1.5024]],\n",
       "              \n",
       "                      [[ 1.4024, -0.7648,  1.7645,  0.2820],\n",
       "                       [ 0.0420, -1.4195,  0.5089, -1.2967],\n",
       "                       [ 0.3106,  1.4347, -1.7090,  1.5024]],\n",
       "              \n",
       "                      [[ 1.4024, -0.7648,  1.7645,  0.2820],\n",
       "                       [ 0.0420, -1.4195,  0.5089, -1.2967],\n",
       "                       [ 0.3106,  1.4347, -1.7090,  1.5024]],\n",
       "              \n",
       "                      [[ 1.4024, -0.7648,  1.7645,  0.2820],\n",
       "                       [ 0.0420, -1.4195,  0.5089, -1.2967],\n",
       "                       [ 0.3106,  1.4347, -1.7090,  1.5024]]]),\n",
       "       ),\n",
       ")"
      ]
     },
     "execution_count": 25,
     "metadata": {},
     "output_type": "execute_result"
    }
   ],
   "source": [
    "batches = [Batch(**_TREE_DATA_2) for _ in range(8)]\n",
    "\n",
    "Batch.stack(batches)"
   ]
  },
  {
   "cell_type": "code",
   "execution_count": 26,
   "id": "ec9037a3",
   "metadata": {
    "execution": {
     "iopub.execute_input": "2023-02-27T08:35:50.806290Z",
     "iopub.status.busy": "2023-02-27T08:35:50.805806Z",
     "iopub.status.idle": "2023-02-27T08:35:59.745461Z",
     "shell.execute_reply": "2023-02-27T08:35:59.743675Z"
    }
   },
   "outputs": [
    {
     "name": "stdout",
     "output_type": "stream",
     "text": [
      "110 µs ± 869 ns per loop (mean ± std. dev. of 7 runs, 10,000 loops each)\n"
     ]
    }
   ],
   "source": [
    "%timeit Batch.stack(batches)"
   ]
  },
  {
   "cell_type": "code",
   "execution_count": 27,
   "id": "cb8ab77e",
   "metadata": {
    "execution": {
     "iopub.execute_input": "2023-02-27T08:35:59.751579Z",
     "iopub.status.busy": "2023-02-27T08:35:59.751000Z",
     "iopub.status.idle": "2023-02-27T08:35:59.764068Z",
     "shell.execute_reply": "2023-02-27T08:35:59.763051Z"
    }
   },
   "outputs": [
    {
     "data": {
      "text/plain": [
       "Batch(\n",
       "    a: tensor([[ 0.7730,  0.7115, -2.5610],\n",
       "               [-1.4018,  0.2748,  0.4407],\n",
       "               [ 0.7730,  0.7115, -2.5610],\n",
       "               [-1.4018,  0.2748,  0.4407],\n",
       "               [ 0.7730,  0.7115, -2.5610],\n",
       "               [-1.4018,  0.2748,  0.4407],\n",
       "               [ 0.7730,  0.7115, -2.5610],\n",
       "               [-1.4018,  0.2748,  0.4407],\n",
       "               [ 0.7730,  0.7115, -2.5610],\n",
       "               [-1.4018,  0.2748,  0.4407],\n",
       "               [ 0.7730,  0.7115, -2.5610],\n",
       "               [-1.4018,  0.2748,  0.4407],\n",
       "               [ 0.7730,  0.7115, -2.5610],\n",
       "               [-1.4018,  0.2748,  0.4407],\n",
       "               [ 0.7730,  0.7115, -2.5610],\n",
       "               [-1.4018,  0.2748,  0.4407]]),\n",
       "    x: Batch(\n",
       "           c: tensor([[ 1.4024, -0.7648,  1.7645,  0.2820],\n",
       "                      [ 0.0420, -1.4195,  0.5089, -1.2967],\n",
       "                      [ 0.3106,  1.4347, -1.7090,  1.5024],\n",
       "                      [ 1.4024, -0.7648,  1.7645,  0.2820],\n",
       "                      [ 0.0420, -1.4195,  0.5089, -1.2967],\n",
       "                      [ 0.3106,  1.4347, -1.7090,  1.5024],\n",
       "                      [ 1.4024, -0.7648,  1.7645,  0.2820],\n",
       "                      [ 0.0420, -1.4195,  0.5089, -1.2967],\n",
       "                      [ 0.3106,  1.4347, -1.7090,  1.5024],\n",
       "                      [ 1.4024, -0.7648,  1.7645,  0.2820],\n",
       "                      [ 0.0420, -1.4195,  0.5089, -1.2967],\n",
       "                      [ 0.3106,  1.4347, -1.7090,  1.5024],\n",
       "                      [ 1.4024, -0.7648,  1.7645,  0.2820],\n",
       "                      [ 0.0420, -1.4195,  0.5089, -1.2967],\n",
       "                      [ 0.3106,  1.4347, -1.7090,  1.5024],\n",
       "                      [ 1.4024, -0.7648,  1.7645,  0.2820],\n",
       "                      [ 0.0420, -1.4195,  0.5089, -1.2967],\n",
       "                      [ 0.3106,  1.4347, -1.7090,  1.5024],\n",
       "                      [ 1.4024, -0.7648,  1.7645,  0.2820],\n",
       "                      [ 0.0420, -1.4195,  0.5089, -1.2967],\n",
       "                      [ 0.3106,  1.4347, -1.7090,  1.5024],\n",
       "                      [ 1.4024, -0.7648,  1.7645,  0.2820],\n",
       "                      [ 0.0420, -1.4195,  0.5089, -1.2967],\n",
       "                      [ 0.3106,  1.4347, -1.7090,  1.5024]]),\n",
       "       ),\n",
       ")"
      ]
     },
     "execution_count": 27,
     "metadata": {},
     "output_type": "execute_result"
    }
   ],
   "source": [
    "Batch.cat(batches)"
   ]
  },
  {
   "cell_type": "code",
   "execution_count": 28,
   "id": "18dfb045",
   "metadata": {
    "execution": {
     "iopub.execute_input": "2023-02-27T08:35:59.768009Z",
     "iopub.status.busy": "2023-02-27T08:35:59.767685Z",
     "iopub.status.idle": "2023-02-27T08:36:15.625685Z",
     "shell.execute_reply": "2023-02-27T08:36:15.624400Z"
    }
   },
   "outputs": [
    {
     "name": "stdout",
     "output_type": "stream",
     "text": [
      "195 µs ± 3.25 µs per loop (mean ± std. dev. of 7 runs, 10,000 loops each)\n"
     ]
    }
   ],
   "source": [
    "%timeit Batch.cat(batches)"
   ]
  },
  {
   "cell_type": "code",
   "execution_count": 29,
   "id": "c6688e51",
   "metadata": {
    "execution": {
     "iopub.execute_input": "2023-02-27T08:36:15.629846Z",
     "iopub.status.busy": "2023-02-27T08:36:15.629319Z",
     "iopub.status.idle": "2023-02-27T08:36:19.996640Z",
     "shell.execute_reply": "2023-02-27T08:36:19.995543Z"
    }
   },
   "outputs": [
    {
     "name": "stdout",
     "output_type": "stream",
     "text": [
      "537 µs ± 12.3 µs per loop (mean ± std. dev. of 7 runs, 1,000 loops each)\n"
     ]
    }
   ],
   "source": [
    "batch = Batch({\n",
    "    'obs': torch.randn(8, 4, 84, 84),\n",
    "    'action': torch.randint(0, 6, size=(8, 1,)),\n",
    "    'reward': torch.rand(8, 1)}\n",
    ")\n",
    "\n",
    "%timeit list(Batch.split(batch, 1, shuffle=False, merge_last=True))"
   ]
  },
  {
   "cell_type": "code",
   "execution_count": null,
   "id": "2539fbd9",
   "metadata": {},
   "outputs": [],
   "source": []
  }
 ],
 "metadata": {
  "kernelspec": {
   "display_name": "Python 3 (ipykernel)",
   "language": "python",
   "name": "python3"
  },
  "language_info": {
   "codemirror_mode": {
    "name": "ipython",
    "version": 3
   },
   "file_extension": ".py",
   "mimetype": "text/x-python",
   "name": "python",
   "nbconvert_exporter": "python",
   "pygments_lexer": "ipython3",
   "version": "3.8.16"
  }
 },
 "nbformat": 4,
 "nbformat_minor": 5
}
