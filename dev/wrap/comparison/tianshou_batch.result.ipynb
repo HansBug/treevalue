{
 "cells": [
  {
   "cell_type": "markdown",
   "id": "9d39d946",
   "metadata": {},
   "source": [
    "# Comparison Between TreeValue and Tianshou Batch"
   ]
  },
  {
   "cell_type": "markdown",
   "id": "3c6db2d4",
   "metadata": {},
   "source": [
    "In this section, we will take a look at the feature and performance of the [Tianshou Batch](https://github.com/thu-ml/tianshou) library, which is developed by Tsinghua Machine Learning Group."
   ]
  },
  {
   "cell_type": "markdown",
   "id": "069361b0",
   "metadata": {},
   "source": [
    "Before starting the comparison, let us define some thing."
   ]
  },
  {
   "cell_type": "code",
   "execution_count": 1,
   "id": "06fc8d26",
   "metadata": {
    "execution": {
     "iopub.execute_input": "2023-04-16T15:21:30.948947Z",
     "iopub.status.busy": "2023-04-16T15:21:30.948584Z",
     "iopub.status.idle": "2023-04-16T15:21:32.283510Z",
     "shell.execute_reply": "2023-04-16T15:21:32.282823Z"
    }
   },
   "outputs": [],
   "source": [
    "import torch \n",
    "\n",
    "_TREE_DATA_1 = {'a': 1, 'b': 2, 'x': {'c': 3, 'd': 4}}\n",
    "_TREE_DATA_2 = {\n",
    "    'a': torch.randn(2, 3), \n",
    "    'x': {\n",
    "        'c': torch.randn(3, 4)\n",
    "    },\n",
    "}\n",
    "_TREE_DATA_3 = {\n",
    "    'obs': torch.randn(4, 84, 84),\n",
    "    'action': torch.randint(0, 6, size=(1,)),\n",
    "    'reward': torch.rand(1),\n",
    "}"
   ]
  },
  {
   "cell_type": "markdown",
   "id": "83461b25",
   "metadata": {},
   "source": [
    "## Read and Write Operation"
   ]
  },
  {
   "cell_type": "markdown",
   "id": "067b3f73",
   "metadata": {},
   "source": [
    "Reading and writing are the two most common operations in the tree data structure based on the data model (TreeValue and Tianshou Batch both belong to this type), so this section will compare the reading and writing performance of these two libraries."
   ]
  },
  {
   "cell_type": "markdown",
   "id": "5d09a5b7",
   "metadata": {},
   "source": [
    "### TreeValue's Get and Set"
   ]
  },
  {
   "cell_type": "code",
   "execution_count": 2,
   "id": "9519c4bb",
   "metadata": {
    "execution": {
     "iopub.execute_input": "2023-04-16T15:21:32.287450Z",
     "iopub.status.busy": "2023-04-16T15:21:32.286761Z",
     "iopub.status.idle": "2023-04-16T15:21:32.315274Z",
     "shell.execute_reply": "2023-04-16T15:21:32.314623Z"
    }
   },
   "outputs": [],
   "source": [
    "from treevalue import FastTreeValue\n",
    "\n",
    "t = FastTreeValue(_TREE_DATA_2)"
   ]
  },
  {
   "cell_type": "code",
   "execution_count": 3,
   "id": "11c37677",
   "metadata": {
    "execution": {
     "iopub.execute_input": "2023-04-16T15:21:32.319007Z",
     "iopub.status.busy": "2023-04-16T15:21:32.318646Z",
     "iopub.status.idle": "2023-04-16T15:21:32.329075Z",
     "shell.execute_reply": "2023-04-16T15:21:32.328416Z"
    }
   },
   "outputs": [
    {
     "data": {
      "text/plain": [
       "<FastTreeValue 0x7fbe1cd24790>\n",
       "├── 'a' --> tensor([[ 1.2933,  0.8368,  1.2537],\n",
       "│                   [ 2.0066, -0.4676,  0.7678]])\n",
       "└── 'x' --> <FastTreeValue 0x7fbe1cd248e0>\n",
       "    └── 'c' --> tensor([[-0.2849,  1.0608, -0.3752,  0.6139],\n",
       "                        [ 0.5388,  0.8321, -1.2332,  1.6746],\n",
       "                        [ 0.4668,  1.2991,  1.3279,  0.1124]])"
      ]
     },
     "execution_count": 3,
     "metadata": {},
     "output_type": "execute_result"
    }
   ],
   "source": [
    "t"
   ]
  },
  {
   "cell_type": "code",
   "execution_count": 4,
   "id": "fd70b0b9",
   "metadata": {
    "execution": {
     "iopub.execute_input": "2023-04-16T15:21:32.332071Z",
     "iopub.status.busy": "2023-04-16T15:21:32.331728Z",
     "iopub.status.idle": "2023-04-16T15:21:32.336290Z",
     "shell.execute_reply": "2023-04-16T15:21:32.335650Z"
    }
   },
   "outputs": [
    {
     "data": {
      "text/plain": [
       "tensor([[ 1.2933,  0.8368,  1.2537],\n",
       "        [ 2.0066, -0.4676,  0.7678]])"
      ]
     },
     "execution_count": 4,
     "metadata": {},
     "output_type": "execute_result"
    }
   ],
   "source": [
    "t.a"
   ]
  },
  {
   "cell_type": "code",
   "execution_count": 5,
   "id": "c18197bd",
   "metadata": {
    "execution": {
     "iopub.execute_input": "2023-04-16T15:21:32.338975Z",
     "iopub.status.busy": "2023-04-16T15:21:32.338634Z",
     "iopub.status.idle": "2023-04-16T15:21:37.661225Z",
     "shell.execute_reply": "2023-04-16T15:21:37.659999Z"
    }
   },
   "outputs": [
    {
     "name": "stdout",
     "output_type": "stream",
     "text": [
      "65.3 ns ± 0.0179 ns per loop (mean ± std. dev. of 7 runs, 10,000,000 loops each)\n"
     ]
    }
   ],
   "source": [
    "%timeit t.a"
   ]
  },
  {
   "cell_type": "code",
   "execution_count": 6,
   "id": "bd52f867",
   "metadata": {
    "execution": {
     "iopub.execute_input": "2023-04-16T15:21:37.664325Z",
     "iopub.status.busy": "2023-04-16T15:21:37.663964Z",
     "iopub.status.idle": "2023-04-16T15:21:37.671339Z",
     "shell.execute_reply": "2023-04-16T15:21:37.670739Z"
    }
   },
   "outputs": [
    {
     "data": {
      "text/plain": [
       "<FastTreeValue 0x7fbe1cd24790>\n",
       "├── 'a' --> tensor([[ 1.1739,  0.0477,  1.1240],\n",
       "│                   [-0.8661, -0.5175, -1.6334]])\n",
       "└── 'x' --> <FastTreeValue 0x7fbe1cd248e0>\n",
       "    └── 'c' --> tensor([[-0.2849,  1.0608, -0.3752,  0.6139],\n",
       "                        [ 0.5388,  0.8321, -1.2332,  1.6746],\n",
       "                        [ 0.4668,  1.2991,  1.3279,  0.1124]])"
      ]
     },
     "execution_count": 6,
     "metadata": {},
     "output_type": "execute_result"
    }
   ],
   "source": [
    "new_value = torch.randn(2, 3)\n",
    "t.a = new_value\n",
    "\n",
    "t"
   ]
  },
  {
   "cell_type": "code",
   "execution_count": 7,
   "id": "bbe04d1c",
   "metadata": {
    "execution": {
     "iopub.execute_input": "2023-04-16T15:21:37.674203Z",
     "iopub.status.busy": "2023-04-16T15:21:37.673836Z",
     "iopub.status.idle": "2023-04-16T15:21:42.929280Z",
     "shell.execute_reply": "2023-04-16T15:21:42.928259Z"
    }
   },
   "outputs": [
    {
     "name": "stdout",
     "output_type": "stream",
     "text": [
      "64.8 ns ± 0.0217 ns per loop (mean ± std. dev. of 7 runs, 10,000,000 loops each)\n"
     ]
    }
   ],
   "source": [
    "%timeit t.a = new_value"
   ]
  },
  {
   "cell_type": "markdown",
   "id": "48c49731",
   "metadata": {},
   "source": [
    "### Tianshou Batch's Get and Set"
   ]
  },
  {
   "cell_type": "code",
   "execution_count": 8,
   "id": "f1bb14c1",
   "metadata": {
    "execution": {
     "iopub.execute_input": "2023-04-16T15:21:42.932700Z",
     "iopub.status.busy": "2023-04-16T15:21:42.932162Z",
     "iopub.status.idle": "2023-04-16T15:21:43.296966Z",
     "shell.execute_reply": "2023-04-16T15:21:43.296315Z"
    }
   },
   "outputs": [],
   "source": [
    "from tianshou.data import Batch\n",
    "\n",
    "b = Batch(**_TREE_DATA_2)"
   ]
  },
  {
   "cell_type": "code",
   "execution_count": 9,
   "id": "cb0777c3",
   "metadata": {
    "execution": {
     "iopub.execute_input": "2023-04-16T15:21:43.300669Z",
     "iopub.status.busy": "2023-04-16T15:21:43.299974Z",
     "iopub.status.idle": "2023-04-16T15:21:43.306343Z",
     "shell.execute_reply": "2023-04-16T15:21:43.305744Z"
    }
   },
   "outputs": [
    {
     "data": {
      "text/plain": [
       "Batch(\n",
       "    a: tensor([[ 1.2933,  0.8368,  1.2537],\n",
       "               [ 2.0066, -0.4676,  0.7678]]),\n",
       "    x: Batch(\n",
       "           c: tensor([[-0.2849,  1.0608, -0.3752,  0.6139],\n",
       "                      [ 0.5388,  0.8321, -1.2332,  1.6746],\n",
       "                      [ 0.4668,  1.2991,  1.3279,  0.1124]]),\n",
       "       ),\n",
       ")"
      ]
     },
     "execution_count": 9,
     "metadata": {},
     "output_type": "execute_result"
    }
   ],
   "source": [
    "b"
   ]
  },
  {
   "cell_type": "code",
   "execution_count": 10,
   "id": "43ef8ea3",
   "metadata": {
    "execution": {
     "iopub.execute_input": "2023-04-16T15:21:43.309674Z",
     "iopub.status.busy": "2023-04-16T15:21:43.309161Z",
     "iopub.status.idle": "2023-04-16T15:21:43.315744Z",
     "shell.execute_reply": "2023-04-16T15:21:43.315151Z"
    }
   },
   "outputs": [
    {
     "data": {
      "text/plain": [
       "tensor([[ 1.2933,  0.8368,  1.2537],\n",
       "        [ 2.0066, -0.4676,  0.7678]])"
      ]
     },
     "execution_count": 10,
     "metadata": {},
     "output_type": "execute_result"
    }
   ],
   "source": [
    "b.a"
   ]
  },
  {
   "cell_type": "code",
   "execution_count": 11,
   "id": "b785ab72",
   "metadata": {
    "execution": {
     "iopub.execute_input": "2023-04-16T15:21:43.318924Z",
     "iopub.status.busy": "2023-04-16T15:21:43.318452Z",
     "iopub.status.idle": "2023-04-16T15:21:47.832470Z",
     "shell.execute_reply": "2023-04-16T15:21:47.831802Z"
    }
   },
   "outputs": [
    {
     "name": "stdout",
     "output_type": "stream",
     "text": [
      "55.4 ns ± 0.0263 ns per loop (mean ± std. dev. of 7 runs, 10,000,000 loops each)\n"
     ]
    }
   ],
   "source": [
    "%timeit b.a"
   ]
  },
  {
   "cell_type": "code",
   "execution_count": 12,
   "id": "ad54dc69",
   "metadata": {
    "execution": {
     "iopub.execute_input": "2023-04-16T15:21:47.835363Z",
     "iopub.status.busy": "2023-04-16T15:21:47.835137Z",
     "iopub.status.idle": "2023-04-16T15:21:47.841974Z",
     "shell.execute_reply": "2023-04-16T15:21:47.841383Z"
    }
   },
   "outputs": [
    {
     "data": {
      "text/plain": [
       "Batch(\n",
       "    a: tensor([[-0.2174,  0.2099,  0.1864],\n",
       "               [-0.8853, -0.7108, -0.4119]]),\n",
       "    x: Batch(\n",
       "           c: tensor([[-0.2849,  1.0608, -0.3752,  0.6139],\n",
       "                      [ 0.5388,  0.8321, -1.2332,  1.6746],\n",
       "                      [ 0.4668,  1.2991,  1.3279,  0.1124]]),\n",
       "       ),\n",
       ")"
      ]
     },
     "execution_count": 12,
     "metadata": {},
     "output_type": "execute_result"
    }
   ],
   "source": [
    "new_value = torch.randn(2, 3)\n",
    "b.a = new_value\n",
    "\n",
    "b"
   ]
  },
  {
   "cell_type": "code",
   "execution_count": 13,
   "id": "29b1d0bf",
   "metadata": {
    "execution": {
     "iopub.execute_input": "2023-04-16T15:21:47.844747Z",
     "iopub.status.busy": "2023-04-16T15:21:47.844399Z",
     "iopub.status.idle": "2023-04-16T15:21:51.779204Z",
     "shell.execute_reply": "2023-04-16T15:21:51.778616Z"
    }
   },
   "outputs": [
    {
     "name": "stdout",
     "output_type": "stream",
     "text": [
      "485 ns ± 0.0958 ns per loop (mean ± std. dev. of 7 runs, 1,000,000 loops each)\n"
     ]
    }
   ],
   "source": [
    "%timeit b.a = new_value"
   ]
  },
  {
   "cell_type": "markdown",
   "id": "b61ad1d0",
   "metadata": {},
   "source": [
    "## Initialization"
   ]
  },
  {
   "cell_type": "markdown",
   "id": "d70f0d54",
   "metadata": {},
   "source": [
    "### TreeValue's Initialization"
   ]
  },
  {
   "cell_type": "code",
   "execution_count": 14,
   "id": "d32a679b",
   "metadata": {
    "execution": {
     "iopub.execute_input": "2023-04-16T15:21:51.782550Z",
     "iopub.status.busy": "2023-04-16T15:21:51.781971Z",
     "iopub.status.idle": "2023-04-16T15:21:58.953756Z",
     "shell.execute_reply": "2023-04-16T15:21:58.953158Z"
    }
   },
   "outputs": [
    {
     "name": "stdout",
     "output_type": "stream",
     "text": [
      "884 ns ± 21.5 ns per loop (mean ± std. dev. of 7 runs, 1,000,000 loops each)\n"
     ]
    }
   ],
   "source": [
    "%timeit FastTreeValue(_TREE_DATA_1)"
   ]
  },
  {
   "cell_type": "markdown",
   "id": "24f3707b",
   "metadata": {},
   "source": [
    "### Tianshou Batch's Initialization"
   ]
  },
  {
   "cell_type": "code",
   "execution_count": 15,
   "id": "ac3958df",
   "metadata": {
    "execution": {
     "iopub.execute_input": "2023-04-16T15:21:58.957053Z",
     "iopub.status.busy": "2023-04-16T15:21:58.956532Z",
     "iopub.status.idle": "2023-04-16T15:22:08.231060Z",
     "shell.execute_reply": "2023-04-16T15:22:08.230320Z"
    }
   },
   "outputs": [
    {
     "name": "stdout",
     "output_type": "stream",
     "text": [
      "11.4 µs ± 15.8 ns per loop (mean ± std. dev. of 7 runs, 100,000 loops each)\n"
     ]
    }
   ],
   "source": [
    "%timeit Batch(**_TREE_DATA_1)"
   ]
  },
  {
   "cell_type": "markdown",
   "id": "1ab82e2d",
   "metadata": {},
   "source": [
    "## Deep Copy Operation"
   ]
  },
  {
   "cell_type": "code",
   "execution_count": 16,
   "id": "210a9442",
   "metadata": {
    "execution": {
     "iopub.execute_input": "2023-04-16T15:22:08.234485Z",
     "iopub.status.busy": "2023-04-16T15:22:08.233854Z",
     "iopub.status.idle": "2023-04-16T15:22:08.237151Z",
     "shell.execute_reply": "2023-04-16T15:22:08.236532Z"
    }
   },
   "outputs": [],
   "source": [
    "import copy"
   ]
  },
  {
   "cell_type": "markdown",
   "id": "5a736274",
   "metadata": {},
   "source": [
    "### Deep Copy of TreeValue"
   ]
  },
  {
   "cell_type": "code",
   "execution_count": 17,
   "id": "f9bcadd6",
   "metadata": {
    "execution": {
     "iopub.execute_input": "2023-04-16T15:22:08.240385Z",
     "iopub.status.busy": "2023-04-16T15:22:08.239793Z",
     "iopub.status.idle": "2023-04-16T15:22:19.333370Z",
     "shell.execute_reply": "2023-04-16T15:22:19.332811Z"
    }
   },
   "outputs": [
    {
     "name": "stdout",
     "output_type": "stream",
     "text": [
      "137 µs ± 397 ns per loop (mean ± std. dev. of 7 runs, 10,000 loops each)\n"
     ]
    }
   ],
   "source": [
    "t3 = FastTreeValue(_TREE_DATA_3)\n",
    "%timeit copy.deepcopy(t3)"
   ]
  },
  {
   "cell_type": "markdown",
   "id": "bf8be7ea",
   "metadata": {},
   "source": [
    "### Deep Copy of Tianshou Batch"
   ]
  },
  {
   "cell_type": "code",
   "execution_count": 18,
   "id": "91998e6f",
   "metadata": {
    "execution": {
     "iopub.execute_input": "2023-04-16T15:22:19.337237Z",
     "iopub.status.busy": "2023-04-16T15:22:19.336755Z",
     "iopub.status.idle": "2023-04-16T15:22:30.692393Z",
     "shell.execute_reply": "2023-04-16T15:22:30.691813Z"
    }
   },
   "outputs": [
    {
     "name": "stdout",
     "output_type": "stream",
     "text": [
      "140 µs ± 412 ns per loop (mean ± std. dev. of 7 runs, 10,000 loops each)\n"
     ]
    }
   ],
   "source": [
    "b3 = Batch(**_TREE_DATA_3)\n",
    "%timeit copy.deepcopy(b3)"
   ]
  },
  {
   "cell_type": "markdown",
   "id": "223162fb",
   "metadata": {},
   "source": [
    "## Stack, Concat and Split Operation"
   ]
  },
  {
   "cell_type": "markdown",
   "id": "85fa4a73",
   "metadata": {},
   "source": [
    "### Performance of TreeValue"
   ]
  },
  {
   "cell_type": "code",
   "execution_count": 19,
   "id": "a0c2b697",
   "metadata": {
    "execution": {
     "iopub.execute_input": "2023-04-16T15:22:30.695774Z",
     "iopub.status.busy": "2023-04-16T15:22:30.695507Z",
     "iopub.status.idle": "2023-04-16T15:22:30.700047Z",
     "shell.execute_reply": "2023-04-16T15:22:30.699424Z"
    }
   },
   "outputs": [],
   "source": [
    "trees = [FastTreeValue(_TREE_DATA_2) for _ in range(8)]"
   ]
  },
  {
   "cell_type": "code",
   "execution_count": 20,
   "id": "017ea5a5",
   "metadata": {
    "execution": {
     "iopub.execute_input": "2023-04-16T15:22:30.703193Z",
     "iopub.status.busy": "2023-04-16T15:22:30.702830Z",
     "iopub.status.idle": "2023-04-16T15:22:30.711570Z",
     "shell.execute_reply": "2023-04-16T15:22:30.710976Z"
    }
   },
   "outputs": [
    {
     "data": {
      "text/plain": [
       "<FastTreeValue 0x7fbd50306d60>\n",
       "├── 'a' --> tensor([[[ 1.2933,  0.8368,  1.2537],\n",
       "│                    [ 2.0066, -0.4676,  0.7678]],\n",
       "│           \n",
       "│                   [[ 1.2933,  0.8368,  1.2537],\n",
       "│                    [ 2.0066, -0.4676,  0.7678]],\n",
       "│           \n",
       "│                   [[ 1.2933,  0.8368,  1.2537],\n",
       "│                    [ 2.0066, -0.4676,  0.7678]],\n",
       "│           \n",
       "│                   [[ 1.2933,  0.8368,  1.2537],\n",
       "│                    [ 2.0066, -0.4676,  0.7678]],\n",
       "│           \n",
       "│                   [[ 1.2933,  0.8368,  1.2537],\n",
       "│                    [ 2.0066, -0.4676,  0.7678]],\n",
       "│           \n",
       "│                   [[ 1.2933,  0.8368,  1.2537],\n",
       "│                    [ 2.0066, -0.4676,  0.7678]],\n",
       "│           \n",
       "│                   [[ 1.2933,  0.8368,  1.2537],\n",
       "│                    [ 2.0066, -0.4676,  0.7678]],\n",
       "│           \n",
       "│                   [[ 1.2933,  0.8368,  1.2537],\n",
       "│                    [ 2.0066, -0.4676,  0.7678]]])\n",
       "└── 'x' --> <FastTreeValue 0x7fbd50294a90>\n",
       "    └── 'c' --> tensor([[[-0.2849,  1.0608, -0.3752,  0.6139],\n",
       "                         [ 0.5388,  0.8321, -1.2332,  1.6746],\n",
       "                         [ 0.4668,  1.2991,  1.3279,  0.1124]],\n",
       "                \n",
       "                        [[-0.2849,  1.0608, -0.3752,  0.6139],\n",
       "                         [ 0.5388,  0.8321, -1.2332,  1.6746],\n",
       "                         [ 0.4668,  1.2991,  1.3279,  0.1124]],\n",
       "                \n",
       "                        [[-0.2849,  1.0608, -0.3752,  0.6139],\n",
       "                         [ 0.5388,  0.8321, -1.2332,  1.6746],\n",
       "                         [ 0.4668,  1.2991,  1.3279,  0.1124]],\n",
       "                \n",
       "                        [[-0.2849,  1.0608, -0.3752,  0.6139],\n",
       "                         [ 0.5388,  0.8321, -1.2332,  1.6746],\n",
       "                         [ 0.4668,  1.2991,  1.3279,  0.1124]],\n",
       "                \n",
       "                        [[-0.2849,  1.0608, -0.3752,  0.6139],\n",
       "                         [ 0.5388,  0.8321, -1.2332,  1.6746],\n",
       "                         [ 0.4668,  1.2991,  1.3279,  0.1124]],\n",
       "                \n",
       "                        [[-0.2849,  1.0608, -0.3752,  0.6139],\n",
       "                         [ 0.5388,  0.8321, -1.2332,  1.6746],\n",
       "                         [ 0.4668,  1.2991,  1.3279,  0.1124]],\n",
       "                \n",
       "                        [[-0.2849,  1.0608, -0.3752,  0.6139],\n",
       "                         [ 0.5388,  0.8321, -1.2332,  1.6746],\n",
       "                         [ 0.4668,  1.2991,  1.3279,  0.1124]],\n",
       "                \n",
       "                        [[-0.2849,  1.0608, -0.3752,  0.6139],\n",
       "                         [ 0.5388,  0.8321, -1.2332,  1.6746],\n",
       "                         [ 0.4668,  1.2991,  1.3279,  0.1124]]])"
      ]
     },
     "execution_count": 20,
     "metadata": {},
     "output_type": "execute_result"
    }
   ],
   "source": [
    "t_stack = FastTreeValue.func(subside=True)(torch.stack)\n",
    "\n",
    "t_stack(trees)"
   ]
  },
  {
   "cell_type": "code",
   "execution_count": 21,
   "id": "f8b3f415",
   "metadata": {
    "execution": {
     "iopub.execute_input": "2023-04-16T15:22:30.714341Z",
     "iopub.status.busy": "2023-04-16T15:22:30.713989Z",
     "iopub.status.idle": "2023-04-16T15:22:33.418673Z",
     "shell.execute_reply": "2023-04-16T15:22:33.417924Z"
    }
   },
   "outputs": [
    {
     "name": "stdout",
     "output_type": "stream",
     "text": [
      "33.3 µs ± 127 ns per loop (mean ± std. dev. of 7 runs, 10,000 loops each)\n"
     ]
    }
   ],
   "source": [
    "%timeit t_stack(trees)"
   ]
  },
  {
   "cell_type": "code",
   "execution_count": 22,
   "id": "94b56771",
   "metadata": {
    "execution": {
     "iopub.execute_input": "2023-04-16T15:22:33.422657Z",
     "iopub.status.busy": "2023-04-16T15:22:33.422075Z",
     "iopub.status.idle": "2023-04-16T15:22:33.429606Z",
     "shell.execute_reply": "2023-04-16T15:22:33.428940Z"
    }
   },
   "outputs": [
    {
     "data": {
      "text/plain": [
       "<FastTreeValue 0x7fbd50294850>\n",
       "├── 'a' --> tensor([[ 1.2933,  0.8368,  1.2537],\n",
       "│                   [ 2.0066, -0.4676,  0.7678],\n",
       "│                   [ 1.2933,  0.8368,  1.2537],\n",
       "│                   [ 2.0066, -0.4676,  0.7678],\n",
       "│                   [ 1.2933,  0.8368,  1.2537],\n",
       "│                   [ 2.0066, -0.4676,  0.7678],\n",
       "│                   [ 1.2933,  0.8368,  1.2537],\n",
       "│                   [ 2.0066, -0.4676,  0.7678],\n",
       "│                   [ 1.2933,  0.8368,  1.2537],\n",
       "│                   [ 2.0066, -0.4676,  0.7678],\n",
       "│                   [ 1.2933,  0.8368,  1.2537],\n",
       "│                   [ 2.0066, -0.4676,  0.7678],\n",
       "│                   [ 1.2933,  0.8368,  1.2537],\n",
       "│                   [ 2.0066, -0.4676,  0.7678],\n",
       "│                   [ 1.2933,  0.8368,  1.2537],\n",
       "│                   [ 2.0066, -0.4676,  0.7678]])\n",
       "└── 'x' --> <FastTreeValue 0x7fbd502bbf40>\n",
       "    └── 'c' --> tensor([[-0.2849,  1.0608, -0.3752,  0.6139],\n",
       "                        [ 0.5388,  0.8321, -1.2332,  1.6746],\n",
       "                        [ 0.4668,  1.2991,  1.3279,  0.1124],\n",
       "                        [-0.2849,  1.0608, -0.3752,  0.6139],\n",
       "                        [ 0.5388,  0.8321, -1.2332,  1.6746],\n",
       "                        [ 0.4668,  1.2991,  1.3279,  0.1124],\n",
       "                        [-0.2849,  1.0608, -0.3752,  0.6139],\n",
       "                        [ 0.5388,  0.8321, -1.2332,  1.6746],\n",
       "                        [ 0.4668,  1.2991,  1.3279,  0.1124],\n",
       "                        [-0.2849,  1.0608, -0.3752,  0.6139],\n",
       "                        [ 0.5388,  0.8321, -1.2332,  1.6746],\n",
       "                        [ 0.4668,  1.2991,  1.3279,  0.1124],\n",
       "                        [-0.2849,  1.0608, -0.3752,  0.6139],\n",
       "                        [ 0.5388,  0.8321, -1.2332,  1.6746],\n",
       "                        [ 0.4668,  1.2991,  1.3279,  0.1124],\n",
       "                        [-0.2849,  1.0608, -0.3752,  0.6139],\n",
       "                        [ 0.5388,  0.8321, -1.2332,  1.6746],\n",
       "                        [ 0.4668,  1.2991,  1.3279,  0.1124],\n",
       "                        [-0.2849,  1.0608, -0.3752,  0.6139],\n",
       "                        [ 0.5388,  0.8321, -1.2332,  1.6746],\n",
       "                        [ 0.4668,  1.2991,  1.3279,  0.1124],\n",
       "                        [-0.2849,  1.0608, -0.3752,  0.6139],\n",
       "                        [ 0.5388,  0.8321, -1.2332,  1.6746],\n",
       "                        [ 0.4668,  1.2991,  1.3279,  0.1124]])"
      ]
     },
     "execution_count": 22,
     "metadata": {},
     "output_type": "execute_result"
    }
   ],
   "source": [
    "t_cat = FastTreeValue.func(subside=True)(torch.cat)\n",
    "\n",
    "t_cat(trees)"
   ]
  },
  {
   "cell_type": "code",
   "execution_count": 23,
   "id": "5e9c06a6",
   "metadata": {
    "execution": {
     "iopub.execute_input": "2023-04-16T15:22:33.432907Z",
     "iopub.status.busy": "2023-04-16T15:22:33.432552Z",
     "iopub.status.idle": "2023-04-16T15:22:35.955351Z",
     "shell.execute_reply": "2023-04-16T15:22:35.954768Z"
    }
   },
   "outputs": [
    {
     "name": "stdout",
     "output_type": "stream",
     "text": [
      "31 µs ± 137 ns per loop (mean ± std. dev. of 7 runs, 10,000 loops each)\n"
     ]
    }
   ],
   "source": [
    "%timeit t_cat(trees)"
   ]
  },
  {
   "cell_type": "code",
   "execution_count": 24,
   "id": "a3ab5c8f",
   "metadata": {
    "execution": {
     "iopub.execute_input": "2023-04-16T15:22:35.958810Z",
     "iopub.status.busy": "2023-04-16T15:22:35.958169Z",
     "iopub.status.idle": "2023-04-16T15:22:41.271384Z",
     "shell.execute_reply": "2023-04-16T15:22:41.270360Z"
    }
   },
   "outputs": [
    {
     "name": "stdout",
     "output_type": "stream",
     "text": [
      "65.4 µs ± 74.2 ns per loop (mean ± std. dev. of 7 runs, 10,000 loops each)\n"
     ]
    }
   ],
   "source": [
    "t_split = FastTreeValue.func(rise=True)(torch.split)\n",
    "tree = FastTreeValue({\n",
    "    'obs': torch.randn(8, 4, 84, 84),\n",
    "    'action': torch.randint(0, 6, size=(8, 1,)),\n",
    "    'reward': torch.rand(8, 1),\n",
    "})\n",
    "\n",
    "%timeit t_split(tree, 1)"
   ]
  },
  {
   "cell_type": "markdown",
   "id": "31c3ec0b",
   "metadata": {},
   "source": [
    "### Performance of Tianshou Batch"
   ]
  },
  {
   "cell_type": "code",
   "execution_count": 25,
   "id": "9ead828a",
   "metadata": {
    "execution": {
     "iopub.execute_input": "2023-04-16T15:22:41.274612Z",
     "iopub.status.busy": "2023-04-16T15:22:41.274061Z",
     "iopub.status.idle": "2023-04-16T15:22:41.281598Z",
     "shell.execute_reply": "2023-04-16T15:22:41.280937Z"
    }
   },
   "outputs": [
    {
     "data": {
      "text/plain": [
       "Batch(\n",
       "    x: Batch(\n",
       "           c: tensor([[[-0.2849,  1.0608, -0.3752,  0.6139],\n",
       "                       [ 0.5388,  0.8321, -1.2332,  1.6746],\n",
       "                       [ 0.4668,  1.2991,  1.3279,  0.1124]],\n",
       "              \n",
       "                      [[-0.2849,  1.0608, -0.3752,  0.6139],\n",
       "                       [ 0.5388,  0.8321, -1.2332,  1.6746],\n",
       "                       [ 0.4668,  1.2991,  1.3279,  0.1124]],\n",
       "              \n",
       "                      [[-0.2849,  1.0608, -0.3752,  0.6139],\n",
       "                       [ 0.5388,  0.8321, -1.2332,  1.6746],\n",
       "                       [ 0.4668,  1.2991,  1.3279,  0.1124]],\n",
       "              \n",
       "                      [[-0.2849,  1.0608, -0.3752,  0.6139],\n",
       "                       [ 0.5388,  0.8321, -1.2332,  1.6746],\n",
       "                       [ 0.4668,  1.2991,  1.3279,  0.1124]],\n",
       "              \n",
       "                      [[-0.2849,  1.0608, -0.3752,  0.6139],\n",
       "                       [ 0.5388,  0.8321, -1.2332,  1.6746],\n",
       "                       [ 0.4668,  1.2991,  1.3279,  0.1124]],\n",
       "              \n",
       "                      [[-0.2849,  1.0608, -0.3752,  0.6139],\n",
       "                       [ 0.5388,  0.8321, -1.2332,  1.6746],\n",
       "                       [ 0.4668,  1.2991,  1.3279,  0.1124]],\n",
       "              \n",
       "                      [[-0.2849,  1.0608, -0.3752,  0.6139],\n",
       "                       [ 0.5388,  0.8321, -1.2332,  1.6746],\n",
       "                       [ 0.4668,  1.2991,  1.3279,  0.1124]],\n",
       "              \n",
       "                      [[-0.2849,  1.0608, -0.3752,  0.6139],\n",
       "                       [ 0.5388,  0.8321, -1.2332,  1.6746],\n",
       "                       [ 0.4668,  1.2991,  1.3279,  0.1124]]]),\n",
       "       ),\n",
       "    a: tensor([[[ 1.2933,  0.8368,  1.2537],\n",
       "                [ 2.0066, -0.4676,  0.7678]],\n",
       "       \n",
       "               [[ 1.2933,  0.8368,  1.2537],\n",
       "                [ 2.0066, -0.4676,  0.7678]],\n",
       "       \n",
       "               [[ 1.2933,  0.8368,  1.2537],\n",
       "                [ 2.0066, -0.4676,  0.7678]],\n",
       "       \n",
       "               [[ 1.2933,  0.8368,  1.2537],\n",
       "                [ 2.0066, -0.4676,  0.7678]],\n",
       "       \n",
       "               [[ 1.2933,  0.8368,  1.2537],\n",
       "                [ 2.0066, -0.4676,  0.7678]],\n",
       "       \n",
       "               [[ 1.2933,  0.8368,  1.2537],\n",
       "                [ 2.0066, -0.4676,  0.7678]],\n",
       "       \n",
       "               [[ 1.2933,  0.8368,  1.2537],\n",
       "                [ 2.0066, -0.4676,  0.7678]],\n",
       "       \n",
       "               [[ 1.2933,  0.8368,  1.2537],\n",
       "                [ 2.0066, -0.4676,  0.7678]]]),\n",
       ")"
      ]
     },
     "execution_count": 25,
     "metadata": {},
     "output_type": "execute_result"
    }
   ],
   "source": [
    "batches = [Batch(**_TREE_DATA_2) for _ in range(8)]\n",
    "\n",
    "Batch.stack(batches)"
   ]
  },
  {
   "cell_type": "code",
   "execution_count": 26,
   "id": "ec9037a3",
   "metadata": {
    "execution": {
     "iopub.execute_input": "2023-04-16T15:22:41.284413Z",
     "iopub.status.busy": "2023-04-16T15:22:41.284059Z",
     "iopub.status.idle": "2023-04-16T15:22:47.719953Z",
     "shell.execute_reply": "2023-04-16T15:22:47.719289Z"
    }
   },
   "outputs": [
    {
     "name": "stdout",
     "output_type": "stream",
     "text": [
      "79.3 µs ± 215 ns per loop (mean ± std. dev. of 7 runs, 10,000 loops each)\n"
     ]
    }
   ],
   "source": [
    "%timeit Batch.stack(batches)"
   ]
  },
  {
   "cell_type": "code",
   "execution_count": 27,
   "id": "cb8ab77e",
   "metadata": {
    "execution": {
     "iopub.execute_input": "2023-04-16T15:22:47.723509Z",
     "iopub.status.busy": "2023-04-16T15:22:47.723134Z",
     "iopub.status.idle": "2023-04-16T15:22:47.731252Z",
     "shell.execute_reply": "2023-04-16T15:22:47.730656Z"
    }
   },
   "outputs": [
    {
     "data": {
      "text/plain": [
       "Batch(\n",
       "    x: Batch(\n",
       "           c: tensor([[-0.2849,  1.0608, -0.3752,  0.6139],\n",
       "                      [ 0.5388,  0.8321, -1.2332,  1.6746],\n",
       "                      [ 0.4668,  1.2991,  1.3279,  0.1124],\n",
       "                      [-0.2849,  1.0608, -0.3752,  0.6139],\n",
       "                      [ 0.5388,  0.8321, -1.2332,  1.6746],\n",
       "                      [ 0.4668,  1.2991,  1.3279,  0.1124],\n",
       "                      [-0.2849,  1.0608, -0.3752,  0.6139],\n",
       "                      [ 0.5388,  0.8321, -1.2332,  1.6746],\n",
       "                      [ 0.4668,  1.2991,  1.3279,  0.1124],\n",
       "                      [-0.2849,  1.0608, -0.3752,  0.6139],\n",
       "                      [ 0.5388,  0.8321, -1.2332,  1.6746],\n",
       "                      [ 0.4668,  1.2991,  1.3279,  0.1124],\n",
       "                      [-0.2849,  1.0608, -0.3752,  0.6139],\n",
       "                      [ 0.5388,  0.8321, -1.2332,  1.6746],\n",
       "                      [ 0.4668,  1.2991,  1.3279,  0.1124],\n",
       "                      [-0.2849,  1.0608, -0.3752,  0.6139],\n",
       "                      [ 0.5388,  0.8321, -1.2332,  1.6746],\n",
       "                      [ 0.4668,  1.2991,  1.3279,  0.1124],\n",
       "                      [-0.2849,  1.0608, -0.3752,  0.6139],\n",
       "                      [ 0.5388,  0.8321, -1.2332,  1.6746],\n",
       "                      [ 0.4668,  1.2991,  1.3279,  0.1124],\n",
       "                      [-0.2849,  1.0608, -0.3752,  0.6139],\n",
       "                      [ 0.5388,  0.8321, -1.2332,  1.6746],\n",
       "                      [ 0.4668,  1.2991,  1.3279,  0.1124]]),\n",
       "       ),\n",
       "    a: tensor([[ 1.2933,  0.8368,  1.2537],\n",
       "               [ 2.0066, -0.4676,  0.7678],\n",
       "               [ 1.2933,  0.8368,  1.2537],\n",
       "               [ 2.0066, -0.4676,  0.7678],\n",
       "               [ 1.2933,  0.8368,  1.2537],\n",
       "               [ 2.0066, -0.4676,  0.7678],\n",
       "               [ 1.2933,  0.8368,  1.2537],\n",
       "               [ 2.0066, -0.4676,  0.7678],\n",
       "               [ 1.2933,  0.8368,  1.2537],\n",
       "               [ 2.0066, -0.4676,  0.7678],\n",
       "               [ 1.2933,  0.8368,  1.2537],\n",
       "               [ 2.0066, -0.4676,  0.7678],\n",
       "               [ 1.2933,  0.8368,  1.2537],\n",
       "               [ 2.0066, -0.4676,  0.7678],\n",
       "               [ 1.2933,  0.8368,  1.2537],\n",
       "               [ 2.0066, -0.4676,  0.7678]]),\n",
       ")"
      ]
     },
     "execution_count": 27,
     "metadata": {},
     "output_type": "execute_result"
    }
   ],
   "source": [
    "Batch.cat(batches)"
   ]
  },
  {
   "cell_type": "code",
   "execution_count": 28,
   "id": "18dfb045",
   "metadata": {
    "execution": {
     "iopub.execute_input": "2023-04-16T15:22:47.734451Z",
     "iopub.status.busy": "2023-04-16T15:22:47.734110Z",
     "iopub.status.idle": "2023-04-16T15:22:59.735802Z",
     "shell.execute_reply": "2023-04-16T15:22:59.734752Z"
    }
   },
   "outputs": [
    {
     "name": "stdout",
     "output_type": "stream",
     "text": [
      "148 µs ± 236 ns per loop (mean ± std. dev. of 7 runs, 10,000 loops each)\n"
     ]
    }
   ],
   "source": [
    "%timeit Batch.cat(batches)"
   ]
  },
  {
   "cell_type": "code",
   "execution_count": 29,
   "id": "c6688e51",
   "metadata": {
    "execution": {
     "iopub.execute_input": "2023-04-16T15:22:59.739078Z",
     "iopub.status.busy": "2023-04-16T15:22:59.738539Z",
     "iopub.status.idle": "2023-04-16T15:23:02.317173Z",
     "shell.execute_reply": "2023-04-16T15:23:02.316479Z"
    }
   },
   "outputs": [
    {
     "name": "stdout",
     "output_type": "stream",
     "text": [
      "317 µs ± 1.37 µs per loop (mean ± std. dev. of 7 runs, 1,000 loops each)\n"
     ]
    }
   ],
   "source": [
    "batch = Batch({\n",
    "    'obs': torch.randn(8, 4, 84, 84),\n",
    "    'action': torch.randint(0, 6, size=(8, 1,)),\n",
    "    'reward': torch.rand(8, 1)}\n",
    ")\n",
    "\n",
    "%timeit list(Batch.split(batch, 1, shuffle=False, merge_last=True))"
   ]
  },
  {
   "cell_type": "code",
   "execution_count": null,
   "id": "2539fbd9",
   "metadata": {},
   "outputs": [],
   "source": []
  }
 ],
 "metadata": {
  "kernelspec": {
   "display_name": "Python 3 (ipykernel)",
   "language": "python",
   "name": "python3"
  },
  "language_info": {
   "codemirror_mode": {
    "name": "ipython",
    "version": 3
   },
   "file_extension": ".py",
   "mimetype": "text/x-python",
   "name": "python",
   "nbconvert_exporter": "python",
   "pygments_lexer": "ipython3",
   "version": "3.8.16"
  }
 },
 "nbformat": 4,
 "nbformat_minor": 5
}
