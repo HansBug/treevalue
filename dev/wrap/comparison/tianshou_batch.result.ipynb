{
 "cells": [
  {
   "cell_type": "markdown",
   "id": "9d39d946",
   "metadata": {},
   "source": [
    "# Comparison Between TreeValue and Tianshou Batch"
   ]
  },
  {
   "cell_type": "markdown",
   "id": "3c6db2d4",
   "metadata": {},
   "source": [
    "In this section, we will take a look at the feature and performance of the [Tianshou Batch](https://github.com/thu-ml/tianshou) library, which is developed by Tsinghua Machine Learning Group."
   ]
  },
  {
   "cell_type": "markdown",
   "id": "069361b0",
   "metadata": {},
   "source": [
    "Before starting the comparison, let us define some thing."
   ]
  },
  {
   "cell_type": "code",
   "execution_count": 1,
   "id": "06fc8d26",
   "metadata": {
    "execution": {
     "iopub.execute_input": "2023-02-28T04:34:10.082192Z",
     "iopub.status.busy": "2023-02-28T04:34:10.081733Z",
     "iopub.status.idle": "2023-02-28T04:34:11.021956Z",
     "shell.execute_reply": "2023-02-28T04:34:11.020870Z"
    }
   },
   "outputs": [
    {
     "name": "stderr",
     "output_type": "stream",
     "text": [
      "/opt/hostedtoolcache/Python/3.8.16/x64/lib/python3.8/site-packages/tqdm/auto.py:22: TqdmWarning: IProgress not found. Please update jupyter and ipywidgets. See https://ipywidgets.readthedocs.io/en/stable/user_install.html\n",
      "  from .autonotebook import tqdm as notebook_tqdm\n"
     ]
    }
   ],
   "source": [
    "import torch \n",
    "\n",
    "_TREE_DATA_1 = {'a': 1, 'b': 2, 'x': {'c': 3, 'd': 4}}\n",
    "_TREE_DATA_2 = {\n",
    "    'a': torch.randn(2, 3), \n",
    "    'x': {\n",
    "        'c': torch.randn(3, 4)\n",
    "    },\n",
    "}\n",
    "_TREE_DATA_3 = {\n",
    "    'obs': torch.randn(4, 84, 84),\n",
    "    'action': torch.randint(0, 6, size=(1,)),\n",
    "    'reward': torch.rand(1),\n",
    "}"
   ]
  },
  {
   "cell_type": "markdown",
   "id": "83461b25",
   "metadata": {},
   "source": [
    "## Read and Write Operation"
   ]
  },
  {
   "cell_type": "markdown",
   "id": "067b3f73",
   "metadata": {},
   "source": [
    "Reading and writing are the two most common operations in the tree data structure based on the data model (TreeValue and Tianshou Batch both belong to this type), so this section will compare the reading and writing performance of these two libraries."
   ]
  },
  {
   "cell_type": "markdown",
   "id": "5d09a5b7",
   "metadata": {},
   "source": [
    "### TreeValue's Get and Set"
   ]
  },
  {
   "cell_type": "code",
   "execution_count": 2,
   "id": "9519c4bb",
   "metadata": {
    "execution": {
     "iopub.execute_input": "2023-02-28T04:34:11.025610Z",
     "iopub.status.busy": "2023-02-28T04:34:11.025157Z",
     "iopub.status.idle": "2023-02-28T04:34:11.059274Z",
     "shell.execute_reply": "2023-02-28T04:34:11.058603Z"
    }
   },
   "outputs": [],
   "source": [
    "from treevalue import FastTreeValue\n",
    "\n",
    "t = FastTreeValue(_TREE_DATA_2)"
   ]
  },
  {
   "cell_type": "code",
   "execution_count": 3,
   "id": "11c37677",
   "metadata": {
    "execution": {
     "iopub.execute_input": "2023-02-28T04:34:11.062710Z",
     "iopub.status.busy": "2023-02-28T04:34:11.062311Z",
     "iopub.status.idle": "2023-02-28T04:34:11.071345Z",
     "shell.execute_reply": "2023-02-28T04:34:11.070299Z"
    }
   },
   "outputs": [
    {
     "data": {
      "text/plain": [
       "<FastTreeValue 0x7f992c116bb0>\n",
       "├── 'a' --> tensor([[-0.6105, -0.8414,  1.3082],\n",
       "│                   [-0.6045, -1.2510, -0.7964]])\n",
       "└── 'x' --> <FastTreeValue 0x7f992c1168b0>\n",
       "    └── 'c' --> tensor([[-0.1577, -1.3917, -0.1238,  1.5335],\n",
       "                        [ 0.8482, -1.0928,  1.2896, -0.4015],\n",
       "                        [ 0.0902,  0.1388, -0.9605,  1.1112]])"
      ]
     },
     "execution_count": 3,
     "metadata": {},
     "output_type": "execute_result"
    }
   ],
   "source": [
    "t"
   ]
  },
  {
   "cell_type": "code",
   "execution_count": 4,
   "id": "fd70b0b9",
   "metadata": {
    "execution": {
     "iopub.execute_input": "2023-02-28T04:34:11.074360Z",
     "iopub.status.busy": "2023-02-28T04:34:11.073923Z",
     "iopub.status.idle": "2023-02-28T04:34:11.078782Z",
     "shell.execute_reply": "2023-02-28T04:34:11.078118Z"
    }
   },
   "outputs": [
    {
     "data": {
      "text/plain": [
       "tensor([[-0.6105, -0.8414,  1.3082],\n",
       "        [-0.6045, -1.2510, -0.7964]])"
      ]
     },
     "execution_count": 4,
     "metadata": {},
     "output_type": "execute_result"
    }
   ],
   "source": [
    "t.a"
   ]
  },
  {
   "cell_type": "code",
   "execution_count": 5,
   "id": "c18197bd",
   "metadata": {
    "execution": {
     "iopub.execute_input": "2023-02-28T04:34:11.081615Z",
     "iopub.status.busy": "2023-02-28T04:34:11.081088Z",
     "iopub.status.idle": "2023-02-28T04:34:16.165310Z",
     "shell.execute_reply": "2023-02-28T04:34:16.163914Z"
    }
   },
   "outputs": [
    {
     "name": "stdout",
     "output_type": "stream",
     "text": [
      "62.6 ns ± 0.0806 ns per loop (mean ± std. dev. of 7 runs, 10,000,000 loops each)\n"
     ]
    }
   ],
   "source": [
    "%timeit t.a"
   ]
  },
  {
   "cell_type": "code",
   "execution_count": 6,
   "id": "bd52f867",
   "metadata": {
    "execution": {
     "iopub.execute_input": "2023-02-28T04:34:16.168620Z",
     "iopub.status.busy": "2023-02-28T04:34:16.168148Z",
     "iopub.status.idle": "2023-02-28T04:34:16.174425Z",
     "shell.execute_reply": "2023-02-28T04:34:16.173719Z"
    }
   },
   "outputs": [
    {
     "data": {
      "text/plain": [
       "<FastTreeValue 0x7f992c116bb0>\n",
       "├── 'a' --> tensor([[ 1.6538, -0.0967, -0.0763],\n",
       "│                   [ 1.6051, -0.1677, -0.6941]])\n",
       "└── 'x' --> <FastTreeValue 0x7f992c1168b0>\n",
       "    └── 'c' --> tensor([[-0.1577, -1.3917, -0.1238,  1.5335],\n",
       "                        [ 0.8482, -1.0928,  1.2896, -0.4015],\n",
       "                        [ 0.0902,  0.1388, -0.9605,  1.1112]])"
      ]
     },
     "execution_count": 6,
     "metadata": {},
     "output_type": "execute_result"
    }
   ],
   "source": [
    "new_value = torch.randn(2, 3)\n",
    "t.a = new_value\n",
    "\n",
    "t"
   ]
  },
  {
   "cell_type": "code",
   "execution_count": 7,
   "id": "bbe04d1c",
   "metadata": {
    "execution": {
     "iopub.execute_input": "2023-02-28T04:34:16.177292Z",
     "iopub.status.busy": "2023-02-28T04:34:16.176690Z",
     "iopub.status.idle": "2023-02-28T04:34:21.916335Z",
     "shell.execute_reply": "2023-02-28T04:34:21.915473Z"
    }
   },
   "outputs": [
    {
     "name": "stdout",
     "output_type": "stream",
     "text": [
      "70.7 ns ± 0.0682 ns per loop (mean ± std. dev. of 7 runs, 10,000,000 loops each)\n"
     ]
    }
   ],
   "source": [
    "%timeit t.a = new_value"
   ]
  },
  {
   "cell_type": "markdown",
   "id": "48c49731",
   "metadata": {},
   "source": [
    "### Tianshou Batch's Get and Set"
   ]
  },
  {
   "cell_type": "code",
   "execution_count": 8,
   "id": "f1bb14c1",
   "metadata": {
    "execution": {
     "iopub.execute_input": "2023-02-28T04:34:21.919658Z",
     "iopub.status.busy": "2023-02-28T04:34:21.919232Z",
     "iopub.status.idle": "2023-02-28T04:34:22.268117Z",
     "shell.execute_reply": "2023-02-28T04:34:22.267316Z"
    }
   },
   "outputs": [],
   "source": [
    "from tianshou.data import Batch\n",
    "\n",
    "b = Batch(**_TREE_DATA_2)"
   ]
  },
  {
   "cell_type": "code",
   "execution_count": 9,
   "id": "cb0777c3",
   "metadata": {
    "execution": {
     "iopub.execute_input": "2023-02-28T04:34:22.272062Z",
     "iopub.status.busy": "2023-02-28T04:34:22.271311Z",
     "iopub.status.idle": "2023-02-28T04:34:22.278781Z",
     "shell.execute_reply": "2023-02-28T04:34:22.278174Z"
    }
   },
   "outputs": [
    {
     "data": {
      "text/plain": [
       "Batch(\n",
       "    a: tensor([[-0.6105, -0.8414,  1.3082],\n",
       "               [-0.6045, -1.2510, -0.7964]]),\n",
       "    x: Batch(\n",
       "           c: tensor([[-0.1577, -1.3917, -0.1238,  1.5335],\n",
       "                      [ 0.8482, -1.0928,  1.2896, -0.4015],\n",
       "                      [ 0.0902,  0.1388, -0.9605,  1.1112]]),\n",
       "       ),\n",
       ")"
      ]
     },
     "execution_count": 9,
     "metadata": {},
     "output_type": "execute_result"
    }
   ],
   "source": [
    "b"
   ]
  },
  {
   "cell_type": "code",
   "execution_count": 10,
   "id": "43ef8ea3",
   "metadata": {
    "execution": {
     "iopub.execute_input": "2023-02-28T04:34:22.281765Z",
     "iopub.status.busy": "2023-02-28T04:34:22.281326Z",
     "iopub.status.idle": "2023-02-28T04:34:22.287029Z",
     "shell.execute_reply": "2023-02-28T04:34:22.286423Z"
    }
   },
   "outputs": [
    {
     "data": {
      "text/plain": [
       "tensor([[-0.6105, -0.8414,  1.3082],\n",
       "        [-0.6045, -1.2510, -0.7964]])"
      ]
     },
     "execution_count": 10,
     "metadata": {},
     "output_type": "execute_result"
    }
   ],
   "source": [
    "b.a"
   ]
  },
  {
   "cell_type": "code",
   "execution_count": 11,
   "id": "b785ab72",
   "metadata": {
    "execution": {
     "iopub.execute_input": "2023-02-28T04:34:22.289849Z",
     "iopub.status.busy": "2023-02-28T04:34:22.289503Z",
     "iopub.status.idle": "2023-02-28T04:34:27.033706Z",
     "shell.execute_reply": "2023-02-28T04:34:27.032922Z"
    }
   },
   "outputs": [
    {
     "name": "stdout",
     "output_type": "stream",
     "text": [
      "58.4 ns ± 0.117 ns per loop (mean ± std. dev. of 7 runs, 10,000,000 loops each)\n"
     ]
    }
   ],
   "source": [
    "%timeit b.a"
   ]
  },
  {
   "cell_type": "code",
   "execution_count": 12,
   "id": "ad54dc69",
   "metadata": {
    "execution": {
     "iopub.execute_input": "2023-02-28T04:34:27.037294Z",
     "iopub.status.busy": "2023-02-28T04:34:27.036662Z",
     "iopub.status.idle": "2023-02-28T04:34:27.043951Z",
     "shell.execute_reply": "2023-02-28T04:34:27.043006Z"
    }
   },
   "outputs": [
    {
     "data": {
      "text/plain": [
       "Batch(\n",
       "    a: tensor([[-0.3007,  2.8622,  1.5727],\n",
       "               [ 2.1968,  1.3861,  1.4788]]),\n",
       "    x: Batch(\n",
       "           c: tensor([[-0.1577, -1.3917, -0.1238,  1.5335],\n",
       "                      [ 0.8482, -1.0928,  1.2896, -0.4015],\n",
       "                      [ 0.0902,  0.1388, -0.9605,  1.1112]]),\n",
       "       ),\n",
       ")"
      ]
     },
     "execution_count": 12,
     "metadata": {},
     "output_type": "execute_result"
    }
   ],
   "source": [
    "new_value = torch.randn(2, 3)\n",
    "b.a = new_value\n",
    "\n",
    "b"
   ]
  },
  {
   "cell_type": "code",
   "execution_count": 13,
   "id": "29b1d0bf",
   "metadata": {
    "execution": {
     "iopub.execute_input": "2023-02-28T04:34:27.046629Z",
     "iopub.status.busy": "2023-02-28T04:34:27.046189Z",
     "iopub.status.idle": "2023-02-28T04:34:31.210010Z",
     "shell.execute_reply": "2023-02-28T04:34:31.209157Z"
    }
   },
   "outputs": [
    {
     "name": "stdout",
     "output_type": "stream",
     "text": [
      "513 ns ± 0.158 ns per loop (mean ± std. dev. of 7 runs, 1,000,000 loops each)\n"
     ]
    }
   ],
   "source": [
    "%timeit b.a = new_value"
   ]
  },
  {
   "cell_type": "markdown",
   "id": "b61ad1d0",
   "metadata": {},
   "source": [
    "## Initialization"
   ]
  },
  {
   "cell_type": "markdown",
   "id": "d70f0d54",
   "metadata": {},
   "source": [
    "### TreeValue's Initialization"
   ]
  },
  {
   "cell_type": "code",
   "execution_count": 14,
   "id": "d32a679b",
   "metadata": {
    "execution": {
     "iopub.execute_input": "2023-02-28T04:34:31.213472Z",
     "iopub.status.busy": "2023-02-28T04:34:31.212972Z",
     "iopub.status.idle": "2023-02-28T04:34:38.240904Z",
     "shell.execute_reply": "2023-02-28T04:34:38.240058Z"
    }
   },
   "outputs": [
    {
     "name": "stdout",
     "output_type": "stream",
     "text": [
      "865 ns ± 1.07 ns per loop (mean ± std. dev. of 7 runs, 1,000,000 loops each)\n"
     ]
    }
   ],
   "source": [
    "%timeit FastTreeValue(_TREE_DATA_1)"
   ]
  },
  {
   "cell_type": "markdown",
   "id": "24f3707b",
   "metadata": {},
   "source": [
    "### Tianshou Batch's Initialization"
   ]
  },
  {
   "cell_type": "code",
   "execution_count": 15,
   "id": "ac3958df",
   "metadata": {
    "execution": {
     "iopub.execute_input": "2023-02-28T04:34:38.244805Z",
     "iopub.status.busy": "2023-02-28T04:34:38.244064Z",
     "iopub.status.idle": "2023-02-28T04:34:47.072589Z",
     "shell.execute_reply": "2023-02-28T04:34:47.071713Z"
    }
   },
   "outputs": [
    {
     "name": "stdout",
     "output_type": "stream",
     "text": [
      "10.9 µs ± 26 ns per loop (mean ± std. dev. of 7 runs, 100,000 loops each)\n"
     ]
    }
   ],
   "source": [
    "%timeit Batch(**_TREE_DATA_1)"
   ]
  },
  {
   "cell_type": "markdown",
   "id": "1ab82e2d",
   "metadata": {},
   "source": [
    "## Deep Copy Operation"
   ]
  },
  {
   "cell_type": "code",
   "execution_count": 16,
   "id": "210a9442",
   "metadata": {
    "execution": {
     "iopub.execute_input": "2023-02-28T04:34:47.076580Z",
     "iopub.status.busy": "2023-02-28T04:34:47.075975Z",
     "iopub.status.idle": "2023-02-28T04:34:47.080468Z",
     "shell.execute_reply": "2023-02-28T04:34:47.079256Z"
    }
   },
   "outputs": [],
   "source": [
    "import copy"
   ]
  },
  {
   "cell_type": "markdown",
   "id": "5a736274",
   "metadata": {},
   "source": [
    "### Deep Copy of TreeValue"
   ]
  },
  {
   "cell_type": "code",
   "execution_count": 17,
   "id": "f9bcadd6",
   "metadata": {
    "execution": {
     "iopub.execute_input": "2023-02-28T04:34:47.083333Z",
     "iopub.status.busy": "2023-02-28T04:34:47.082967Z",
     "iopub.status.idle": "2023-02-28T04:34:58.648847Z",
     "shell.execute_reply": "2023-02-28T04:34:58.648123Z"
    }
   },
   "outputs": [
    {
     "name": "stdout",
     "output_type": "stream",
     "text": [
      "143 µs ± 225 ns per loop (mean ± std. dev. of 7 runs, 10,000 loops each)\n"
     ]
    }
   ],
   "source": [
    "t3 = FastTreeValue(_TREE_DATA_3)\n",
    "%timeit copy.deepcopy(t3)"
   ]
  },
  {
   "cell_type": "markdown",
   "id": "bf8be7ea",
   "metadata": {},
   "source": [
    "### Deep Copy of Tianshou Batch"
   ]
  },
  {
   "cell_type": "code",
   "execution_count": 18,
   "id": "91998e6f",
   "metadata": {
    "execution": {
     "iopub.execute_input": "2023-02-28T04:34:58.652005Z",
     "iopub.status.busy": "2023-02-28T04:34:58.651745Z",
     "iopub.status.idle": "2023-02-28T04:35:10.176037Z",
     "shell.execute_reply": "2023-02-28T04:35:10.175368Z"
    }
   },
   "outputs": [
    {
     "name": "stdout",
     "output_type": "stream",
     "text": [
      "142 µs ± 693 ns per loop (mean ± std. dev. of 7 runs, 10,000 loops each)\n"
     ]
    }
   ],
   "source": [
    "b3 = Batch(**_TREE_DATA_3)\n",
    "%timeit copy.deepcopy(b3)"
   ]
  },
  {
   "cell_type": "markdown",
   "id": "223162fb",
   "metadata": {},
   "source": [
    "## Stack, Concat and Split Operation"
   ]
  },
  {
   "cell_type": "markdown",
   "id": "85fa4a73",
   "metadata": {},
   "source": [
    "### Performance of TreeValue"
   ]
  },
  {
   "cell_type": "code",
   "execution_count": 19,
   "id": "a0c2b697",
   "metadata": {
    "execution": {
     "iopub.execute_input": "2023-02-28T04:35:10.179518Z",
     "iopub.status.busy": "2023-02-28T04:35:10.179236Z",
     "iopub.status.idle": "2023-02-28T04:35:10.183742Z",
     "shell.execute_reply": "2023-02-28T04:35:10.183092Z"
    }
   },
   "outputs": [],
   "source": [
    "trees = [FastTreeValue(_TREE_DATA_2) for _ in range(8)]"
   ]
  },
  {
   "cell_type": "code",
   "execution_count": 20,
   "id": "017ea5a5",
   "metadata": {
    "execution": {
     "iopub.execute_input": "2023-02-28T04:35:10.186712Z",
     "iopub.status.busy": "2023-02-28T04:35:10.186264Z",
     "iopub.status.idle": "2023-02-28T04:35:10.194513Z",
     "shell.execute_reply": "2023-02-28T04:35:10.193890Z"
    }
   },
   "outputs": [
    {
     "data": {
      "text/plain": [
       "<FastTreeValue 0x7f98889ffd90>\n",
       "├── 'a' --> tensor([[[-0.6105, -0.8414,  1.3082],\n",
       "│                    [-0.6045, -1.2510, -0.7964]],\n",
       "│           \n",
       "│                   [[-0.6105, -0.8414,  1.3082],\n",
       "│                    [-0.6045, -1.2510, -0.7964]],\n",
       "│           \n",
       "│                   [[-0.6105, -0.8414,  1.3082],\n",
       "│                    [-0.6045, -1.2510, -0.7964]],\n",
       "│           \n",
       "│                   [[-0.6105, -0.8414,  1.3082],\n",
       "│                    [-0.6045, -1.2510, -0.7964]],\n",
       "│           \n",
       "│                   [[-0.6105, -0.8414,  1.3082],\n",
       "│                    [-0.6045, -1.2510, -0.7964]],\n",
       "│           \n",
       "│                   [[-0.6105, -0.8414,  1.3082],\n",
       "│                    [-0.6045, -1.2510, -0.7964]],\n",
       "│           \n",
       "│                   [[-0.6105, -0.8414,  1.3082],\n",
       "│                    [-0.6045, -1.2510, -0.7964]],\n",
       "│           \n",
       "│                   [[-0.6105, -0.8414,  1.3082],\n",
       "│                    [-0.6045, -1.2510, -0.7964]]])\n",
       "└── 'x' --> <FastTreeValue 0x7f98889ff6a0>\n",
       "    └── 'c' --> tensor([[[-0.1577, -1.3917, -0.1238,  1.5335],\n",
       "                         [ 0.8482, -1.0928,  1.2896, -0.4015],\n",
       "                         [ 0.0902,  0.1388, -0.9605,  1.1112]],\n",
       "                \n",
       "                        [[-0.1577, -1.3917, -0.1238,  1.5335],\n",
       "                         [ 0.8482, -1.0928,  1.2896, -0.4015],\n",
       "                         [ 0.0902,  0.1388, -0.9605,  1.1112]],\n",
       "                \n",
       "                        [[-0.1577, -1.3917, -0.1238,  1.5335],\n",
       "                         [ 0.8482, -1.0928,  1.2896, -0.4015],\n",
       "                         [ 0.0902,  0.1388, -0.9605,  1.1112]],\n",
       "                \n",
       "                        [[-0.1577, -1.3917, -0.1238,  1.5335],\n",
       "                         [ 0.8482, -1.0928,  1.2896, -0.4015],\n",
       "                         [ 0.0902,  0.1388, -0.9605,  1.1112]],\n",
       "                \n",
       "                        [[-0.1577, -1.3917, -0.1238,  1.5335],\n",
       "                         [ 0.8482, -1.0928,  1.2896, -0.4015],\n",
       "                         [ 0.0902,  0.1388, -0.9605,  1.1112]],\n",
       "                \n",
       "                        [[-0.1577, -1.3917, -0.1238,  1.5335],\n",
       "                         [ 0.8482, -1.0928,  1.2896, -0.4015],\n",
       "                         [ 0.0902,  0.1388, -0.9605,  1.1112]],\n",
       "                \n",
       "                        [[-0.1577, -1.3917, -0.1238,  1.5335],\n",
       "                         [ 0.8482, -1.0928,  1.2896, -0.4015],\n",
       "                         [ 0.0902,  0.1388, -0.9605,  1.1112]],\n",
       "                \n",
       "                        [[-0.1577, -1.3917, -0.1238,  1.5335],\n",
       "                         [ 0.8482, -1.0928,  1.2896, -0.4015],\n",
       "                         [ 0.0902,  0.1388, -0.9605,  1.1112]]])"
      ]
     },
     "execution_count": 20,
     "metadata": {},
     "output_type": "execute_result"
    }
   ],
   "source": [
    "t_stack = FastTreeValue.func(subside=True)(torch.stack)\n",
    "\n",
    "t_stack(trees)"
   ]
  },
  {
   "cell_type": "code",
   "execution_count": 21,
   "id": "f8b3f415",
   "metadata": {
    "execution": {
     "iopub.execute_input": "2023-02-28T04:35:10.197644Z",
     "iopub.status.busy": "2023-02-28T04:35:10.197111Z",
     "iopub.status.idle": "2023-02-28T04:35:12.831811Z",
     "shell.execute_reply": "2023-02-28T04:35:12.830959Z"
    }
   },
   "outputs": [
    {
     "name": "stdout",
     "output_type": "stream",
     "text": [
      "32.4 µs ± 42.5 ns per loop (mean ± std. dev. of 7 runs, 10,000 loops each)\n"
     ]
    }
   ],
   "source": [
    "%timeit t_stack(trees)"
   ]
  },
  {
   "cell_type": "code",
   "execution_count": 22,
   "id": "94b56771",
   "metadata": {
    "execution": {
     "iopub.execute_input": "2023-02-28T04:35:12.835434Z",
     "iopub.status.busy": "2023-02-28T04:35:12.834994Z",
     "iopub.status.idle": "2023-02-28T04:35:12.844358Z",
     "shell.execute_reply": "2023-02-28T04:35:12.843462Z"
    }
   },
   "outputs": [
    {
     "data": {
      "text/plain": [
       "<FastTreeValue 0x7f9881e39cd0>\n",
       "├── 'a' --> tensor([[-0.6105, -0.8414,  1.3082],\n",
       "│                   [-0.6045, -1.2510, -0.7964],\n",
       "│                   [-0.6105, -0.8414,  1.3082],\n",
       "│                   [-0.6045, -1.2510, -0.7964],\n",
       "│                   [-0.6105, -0.8414,  1.3082],\n",
       "│                   [-0.6045, -1.2510, -0.7964],\n",
       "│                   [-0.6105, -0.8414,  1.3082],\n",
       "│                   [-0.6045, -1.2510, -0.7964],\n",
       "│                   [-0.6105, -0.8414,  1.3082],\n",
       "│                   [-0.6045, -1.2510, -0.7964],\n",
       "│                   [-0.6105, -0.8414,  1.3082],\n",
       "│                   [-0.6045, -1.2510, -0.7964],\n",
       "│                   [-0.6105, -0.8414,  1.3082],\n",
       "│                   [-0.6045, -1.2510, -0.7964],\n",
       "│                   [-0.6105, -0.8414,  1.3082],\n",
       "│                   [-0.6045, -1.2510, -0.7964]])\n",
       "└── 'x' --> <FastTreeValue 0x7f9888a142e0>\n",
       "    └── 'c' --> tensor([[-0.1577, -1.3917, -0.1238,  1.5335],\n",
       "                        [ 0.8482, -1.0928,  1.2896, -0.4015],\n",
       "                        [ 0.0902,  0.1388, -0.9605,  1.1112],\n",
       "                        [-0.1577, -1.3917, -0.1238,  1.5335],\n",
       "                        [ 0.8482, -1.0928,  1.2896, -0.4015],\n",
       "                        [ 0.0902,  0.1388, -0.9605,  1.1112],\n",
       "                        [-0.1577, -1.3917, -0.1238,  1.5335],\n",
       "                        [ 0.8482, -1.0928,  1.2896, -0.4015],\n",
       "                        [ 0.0902,  0.1388, -0.9605,  1.1112],\n",
       "                        [-0.1577, -1.3917, -0.1238,  1.5335],\n",
       "                        [ 0.8482, -1.0928,  1.2896, -0.4015],\n",
       "                        [ 0.0902,  0.1388, -0.9605,  1.1112],\n",
       "                        [-0.1577, -1.3917, -0.1238,  1.5335],\n",
       "                        [ 0.8482, -1.0928,  1.2896, -0.4015],\n",
       "                        [ 0.0902,  0.1388, -0.9605,  1.1112],\n",
       "                        [-0.1577, -1.3917, -0.1238,  1.5335],\n",
       "                        [ 0.8482, -1.0928,  1.2896, -0.4015],\n",
       "                        [ 0.0902,  0.1388, -0.9605,  1.1112],\n",
       "                        [-0.1577, -1.3917, -0.1238,  1.5335],\n",
       "                        [ 0.8482, -1.0928,  1.2896, -0.4015],\n",
       "                        [ 0.0902,  0.1388, -0.9605,  1.1112],\n",
       "                        [-0.1577, -1.3917, -0.1238,  1.5335],\n",
       "                        [ 0.8482, -1.0928,  1.2896, -0.4015],\n",
       "                        [ 0.0902,  0.1388, -0.9605,  1.1112]])"
      ]
     },
     "execution_count": 22,
     "metadata": {},
     "output_type": "execute_result"
    }
   ],
   "source": [
    "t_cat = FastTreeValue.func(subside=True)(torch.cat)\n",
    "\n",
    "t_cat(trees)"
   ]
  },
  {
   "cell_type": "code",
   "execution_count": 23,
   "id": "5e9c06a6",
   "metadata": {
    "execution": {
     "iopub.execute_input": "2023-02-28T04:35:12.847122Z",
     "iopub.status.busy": "2023-02-28T04:35:12.846770Z",
     "iopub.status.idle": "2023-02-28T04:35:15.315016Z",
     "shell.execute_reply": "2023-02-28T04:35:15.314235Z"
    }
   },
   "outputs": [
    {
     "name": "stdout",
     "output_type": "stream",
     "text": [
      "30.4 µs ± 161 ns per loop (mean ± std. dev. of 7 runs, 10,000 loops each)\n"
     ]
    }
   ],
   "source": [
    "%timeit t_cat(trees)"
   ]
  },
  {
   "cell_type": "code",
   "execution_count": 24,
   "id": "a3ab5c8f",
   "metadata": {
    "execution": {
     "iopub.execute_input": "2023-02-28T04:35:15.318468Z",
     "iopub.status.busy": "2023-02-28T04:35:15.318005Z",
     "iopub.status.idle": "2023-02-28T04:35:19.862215Z",
     "shell.execute_reply": "2023-02-28T04:35:19.861364Z"
    }
   },
   "outputs": [
    {
     "name": "stdout",
     "output_type": "stream",
     "text": [
      "55.9 µs ± 93.9 ns per loop (mean ± std. dev. of 7 runs, 10,000 loops each)\n"
     ]
    }
   ],
   "source": [
    "t_split = FastTreeValue.func(rise=True)(torch.split)\n",
    "tree = FastTreeValue({\n",
    "    'obs': torch.randn(8, 4, 84, 84),\n",
    "    'action': torch.randint(0, 6, size=(8, 1,)),\n",
    "    'reward': torch.rand(8, 1),\n",
    "})\n",
    "\n",
    "%timeit t_split(tree, 1)"
   ]
  },
  {
   "cell_type": "markdown",
   "id": "31c3ec0b",
   "metadata": {},
   "source": [
    "### Performance of Tianshou Batch"
   ]
  },
  {
   "cell_type": "code",
   "execution_count": 25,
   "id": "9ead828a",
   "metadata": {
    "execution": {
     "iopub.execute_input": "2023-02-28T04:35:19.866017Z",
     "iopub.status.busy": "2023-02-28T04:35:19.865598Z",
     "iopub.status.idle": "2023-02-28T04:35:19.875527Z",
     "shell.execute_reply": "2023-02-28T04:35:19.874899Z"
    }
   },
   "outputs": [
    {
     "data": {
      "text/plain": [
       "Batch(\n",
       "    a: tensor([[[-0.6105, -0.8414,  1.3082],\n",
       "                [-0.6045, -1.2510, -0.7964]],\n",
       "       \n",
       "               [[-0.6105, -0.8414,  1.3082],\n",
       "                [-0.6045, -1.2510, -0.7964]],\n",
       "       \n",
       "               [[-0.6105, -0.8414,  1.3082],\n",
       "                [-0.6045, -1.2510, -0.7964]],\n",
       "       \n",
       "               [[-0.6105, -0.8414,  1.3082],\n",
       "                [-0.6045, -1.2510, -0.7964]],\n",
       "       \n",
       "               [[-0.6105, -0.8414,  1.3082],\n",
       "                [-0.6045, -1.2510, -0.7964]],\n",
       "       \n",
       "               [[-0.6105, -0.8414,  1.3082],\n",
       "                [-0.6045, -1.2510, -0.7964]],\n",
       "       \n",
       "               [[-0.6105, -0.8414,  1.3082],\n",
       "                [-0.6045, -1.2510, -0.7964]],\n",
       "       \n",
       "               [[-0.6105, -0.8414,  1.3082],\n",
       "                [-0.6045, -1.2510, -0.7964]]]),\n",
       "    x: Batch(\n",
       "           c: tensor([[[-0.1577, -1.3917, -0.1238,  1.5335],\n",
       "                       [ 0.8482, -1.0928,  1.2896, -0.4015],\n",
       "                       [ 0.0902,  0.1388, -0.9605,  1.1112]],\n",
       "              \n",
       "                      [[-0.1577, -1.3917, -0.1238,  1.5335],\n",
       "                       [ 0.8482, -1.0928,  1.2896, -0.4015],\n",
       "                       [ 0.0902,  0.1388, -0.9605,  1.1112]],\n",
       "              \n",
       "                      [[-0.1577, -1.3917, -0.1238,  1.5335],\n",
       "                       [ 0.8482, -1.0928,  1.2896, -0.4015],\n",
       "                       [ 0.0902,  0.1388, -0.9605,  1.1112]],\n",
       "              \n",
       "                      [[-0.1577, -1.3917, -0.1238,  1.5335],\n",
       "                       [ 0.8482, -1.0928,  1.2896, -0.4015],\n",
       "                       [ 0.0902,  0.1388, -0.9605,  1.1112]],\n",
       "              \n",
       "                      [[-0.1577, -1.3917, -0.1238,  1.5335],\n",
       "                       [ 0.8482, -1.0928,  1.2896, -0.4015],\n",
       "                       [ 0.0902,  0.1388, -0.9605,  1.1112]],\n",
       "              \n",
       "                      [[-0.1577, -1.3917, -0.1238,  1.5335],\n",
       "                       [ 0.8482, -1.0928,  1.2896, -0.4015],\n",
       "                       [ 0.0902,  0.1388, -0.9605,  1.1112]],\n",
       "              \n",
       "                      [[-0.1577, -1.3917, -0.1238,  1.5335],\n",
       "                       [ 0.8482, -1.0928,  1.2896, -0.4015],\n",
       "                       [ 0.0902,  0.1388, -0.9605,  1.1112]],\n",
       "              \n",
       "                      [[-0.1577, -1.3917, -0.1238,  1.5335],\n",
       "                       [ 0.8482, -1.0928,  1.2896, -0.4015],\n",
       "                       [ 0.0902,  0.1388, -0.9605,  1.1112]]]),\n",
       "       ),\n",
       ")"
      ]
     },
     "execution_count": 25,
     "metadata": {},
     "output_type": "execute_result"
    }
   ],
   "source": [
    "batches = [Batch(**_TREE_DATA_2) for _ in range(8)]\n",
    "\n",
    "Batch.stack(batches)"
   ]
  },
  {
   "cell_type": "code",
   "execution_count": 26,
   "id": "ec9037a3",
   "metadata": {
    "execution": {
     "iopub.execute_input": "2023-02-28T04:35:19.878443Z",
     "iopub.status.busy": "2023-02-28T04:35:19.877807Z",
     "iopub.status.idle": "2023-02-28T04:35:26.160473Z",
     "shell.execute_reply": "2023-02-28T04:35:26.159610Z"
    }
   },
   "outputs": [
    {
     "name": "stdout",
     "output_type": "stream",
     "text": [
      "77.3 µs ± 65.6 ns per loop (mean ± std. dev. of 7 runs, 10,000 loops each)\n"
     ]
    }
   ],
   "source": [
    "%timeit Batch.stack(batches)"
   ]
  },
  {
   "cell_type": "code",
   "execution_count": 27,
   "id": "cb8ab77e",
   "metadata": {
    "execution": {
     "iopub.execute_input": "2023-02-28T04:35:26.163974Z",
     "iopub.status.busy": "2023-02-28T04:35:26.163399Z",
     "iopub.status.idle": "2023-02-28T04:35:26.171217Z",
     "shell.execute_reply": "2023-02-28T04:35:26.170596Z"
    }
   },
   "outputs": [
    {
     "data": {
      "text/plain": [
       "Batch(\n",
       "    a: tensor([[-0.6105, -0.8414,  1.3082],\n",
       "               [-0.6045, -1.2510, -0.7964],\n",
       "               [-0.6105, -0.8414,  1.3082],\n",
       "               [-0.6045, -1.2510, -0.7964],\n",
       "               [-0.6105, -0.8414,  1.3082],\n",
       "               [-0.6045, -1.2510, -0.7964],\n",
       "               [-0.6105, -0.8414,  1.3082],\n",
       "               [-0.6045, -1.2510, -0.7964],\n",
       "               [-0.6105, -0.8414,  1.3082],\n",
       "               [-0.6045, -1.2510, -0.7964],\n",
       "               [-0.6105, -0.8414,  1.3082],\n",
       "               [-0.6045, -1.2510, -0.7964],\n",
       "               [-0.6105, -0.8414,  1.3082],\n",
       "               [-0.6045, -1.2510, -0.7964],\n",
       "               [-0.6105, -0.8414,  1.3082],\n",
       "               [-0.6045, -1.2510, -0.7964]]),\n",
       "    x: Batch(\n",
       "           c: tensor([[-0.1577, -1.3917, -0.1238,  1.5335],\n",
       "                      [ 0.8482, -1.0928,  1.2896, -0.4015],\n",
       "                      [ 0.0902,  0.1388, -0.9605,  1.1112],\n",
       "                      [-0.1577, -1.3917, -0.1238,  1.5335],\n",
       "                      [ 0.8482, -1.0928,  1.2896, -0.4015],\n",
       "                      [ 0.0902,  0.1388, -0.9605,  1.1112],\n",
       "                      [-0.1577, -1.3917, -0.1238,  1.5335],\n",
       "                      [ 0.8482, -1.0928,  1.2896, -0.4015],\n",
       "                      [ 0.0902,  0.1388, -0.9605,  1.1112],\n",
       "                      [-0.1577, -1.3917, -0.1238,  1.5335],\n",
       "                      [ 0.8482, -1.0928,  1.2896, -0.4015],\n",
       "                      [ 0.0902,  0.1388, -0.9605,  1.1112],\n",
       "                      [-0.1577, -1.3917, -0.1238,  1.5335],\n",
       "                      [ 0.8482, -1.0928,  1.2896, -0.4015],\n",
       "                      [ 0.0902,  0.1388, -0.9605,  1.1112],\n",
       "                      [-0.1577, -1.3917, -0.1238,  1.5335],\n",
       "                      [ 0.8482, -1.0928,  1.2896, -0.4015],\n",
       "                      [ 0.0902,  0.1388, -0.9605,  1.1112],\n",
       "                      [-0.1577, -1.3917, -0.1238,  1.5335],\n",
       "                      [ 0.8482, -1.0928,  1.2896, -0.4015],\n",
       "                      [ 0.0902,  0.1388, -0.9605,  1.1112],\n",
       "                      [-0.1577, -1.3917, -0.1238,  1.5335],\n",
       "                      [ 0.8482, -1.0928,  1.2896, -0.4015],\n",
       "                      [ 0.0902,  0.1388, -0.9605,  1.1112]]),\n",
       "       ),\n",
       ")"
      ]
     },
     "execution_count": 27,
     "metadata": {},
     "output_type": "execute_result"
    }
   ],
   "source": [
    "Batch.cat(batches)"
   ]
  },
  {
   "cell_type": "code",
   "execution_count": 28,
   "id": "18dfb045",
   "metadata": {
    "execution": {
     "iopub.execute_input": "2023-02-28T04:35:26.173997Z",
     "iopub.status.busy": "2023-02-28T04:35:26.173397Z",
     "iopub.status.idle": "2023-02-28T04:35:37.768537Z",
     "shell.execute_reply": "2023-02-28T04:35:37.767714Z"
    }
   },
   "outputs": [
    {
     "name": "stdout",
     "output_type": "stream",
     "text": [
      "143 µs ± 125 ns per loop (mean ± std. dev. of 7 runs, 10,000 loops each)\n"
     ]
    }
   ],
   "source": [
    "%timeit Batch.cat(batches)"
   ]
  },
  {
   "cell_type": "code",
   "execution_count": 29,
   "id": "c6688e51",
   "metadata": {
    "execution": {
     "iopub.execute_input": "2023-02-28T04:35:37.771988Z",
     "iopub.status.busy": "2023-02-28T04:35:37.771439Z",
     "iopub.status.idle": "2023-02-28T04:35:40.369711Z",
     "shell.execute_reply": "2023-02-28T04:35:40.368923Z"
    }
   },
   "outputs": [
    {
     "name": "stdout",
     "output_type": "stream",
     "text": [
      "319 µs ± 1.01 µs per loop (mean ± std. dev. of 7 runs, 1,000 loops each)\n"
     ]
    }
   ],
   "source": [
    "batch = Batch({\n",
    "    'obs': torch.randn(8, 4, 84, 84),\n",
    "    'action': torch.randint(0, 6, size=(8, 1,)),\n",
    "    'reward': torch.rand(8, 1)}\n",
    ")\n",
    "\n",
    "%timeit list(Batch.split(batch, 1, shuffle=False, merge_last=True))"
   ]
  },
  {
   "cell_type": "code",
   "execution_count": null,
   "id": "2539fbd9",
   "metadata": {},
   "outputs": [],
   "source": []
  }
 ],
 "metadata": {
  "kernelspec": {
   "display_name": "Python 3 (ipykernel)",
   "language": "python",
   "name": "python3"
  },
  "language_info": {
   "codemirror_mode": {
    "name": "ipython",
    "version": 3
   },
   "file_extension": ".py",
   "mimetype": "text/x-python",
   "name": "python",
   "nbconvert_exporter": "python",
   "pygments_lexer": "ipython3",
   "version": "3.8.16"
  }
 },
 "nbformat": 4,
 "nbformat_minor": 5
}
