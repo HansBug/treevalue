{
 "cells": [
  {
   "cell_type": "markdown",
   "id": "9d39d946",
   "metadata": {},
   "source": [
    "# Comparison Between TreeValue and Tianshou Batch"
   ]
  },
  {
   "cell_type": "markdown",
   "id": "3c6db2d4",
   "metadata": {},
   "source": [
    "In this section, we will take a look at the feature and performance of the [Tianshou Batch](https://github.com/thu-ml/tianshou) library, which is developed by Tsinghua Machine Learning Group."
   ]
  },
  {
   "cell_type": "markdown",
   "id": "069361b0",
   "metadata": {},
   "source": [
    "Before starting the comparison, let us define some thing."
   ]
  },
  {
   "cell_type": "code",
   "execution_count": 1,
   "id": "06fc8d26",
   "metadata": {
    "execution": {
     "iopub.execute_input": "2023-08-14T06:18:43.242326Z",
     "iopub.status.busy": "2023-08-14T06:18:43.241721Z",
     "iopub.status.idle": "2023-08-14T06:18:44.673656Z",
     "shell.execute_reply": "2023-08-14T06:18:44.672824Z"
    }
   },
   "outputs": [],
   "source": [
    "import torch \n",
    "\n",
    "_TREE_DATA_1 = {'a': 1, 'b': 2, 'x': {'c': 3, 'd': 4}}\n",
    "_TREE_DATA_2 = {\n",
    "    'a': torch.randn(2, 3), \n",
    "    'x': {\n",
    "        'c': torch.randn(3, 4)\n",
    "    },\n",
    "}\n",
    "_TREE_DATA_3 = {\n",
    "    'obs': torch.randn(4, 84, 84),\n",
    "    'action': torch.randint(0, 6, size=(1,)),\n",
    "    'reward': torch.rand(1),\n",
    "}"
   ]
  },
  {
   "cell_type": "markdown",
   "id": "83461b25",
   "metadata": {},
   "source": [
    "## Read and Write Operation"
   ]
  },
  {
   "cell_type": "markdown",
   "id": "067b3f73",
   "metadata": {},
   "source": [
    "Reading and writing are the two most common operations in the tree data structure based on the data model (TreeValue and Tianshou Batch both belong to this type), so this section will compare the reading and writing performance of these two libraries."
   ]
  },
  {
   "cell_type": "markdown",
   "id": "5d09a5b7",
   "metadata": {},
   "source": [
    "### TreeValue's Get and Set"
   ]
  },
  {
   "cell_type": "code",
   "execution_count": 2,
   "id": "9519c4bb",
   "metadata": {
    "execution": {
     "iopub.execute_input": "2023-08-14T06:18:44.678409Z",
     "iopub.status.busy": "2023-08-14T06:18:44.677931Z",
     "iopub.status.idle": "2023-08-14T06:18:44.709003Z",
     "shell.execute_reply": "2023-08-14T06:18:44.708230Z"
    }
   },
   "outputs": [],
   "source": [
    "from treevalue import FastTreeValue\n",
    "\n",
    "t = FastTreeValue(_TREE_DATA_2)"
   ]
  },
  {
   "cell_type": "code",
   "execution_count": 3,
   "id": "11c37677",
   "metadata": {
    "execution": {
     "iopub.execute_input": "2023-08-14T06:18:44.713188Z",
     "iopub.status.busy": "2023-08-14T06:18:44.712758Z",
     "iopub.status.idle": "2023-08-14T06:18:44.723684Z",
     "shell.execute_reply": "2023-08-14T06:18:44.723015Z"
    }
   },
   "outputs": [
    {
     "data": {
      "text/plain": [
       "<FastTreeValue 0x7fc826a18370>\n",
       "├── 'a' --> tensor([[ 0.1401,  0.1862, -0.2312],\n",
       "│                   [-0.2158,  0.0365,  0.5724]])\n",
       "└── 'x' --> <FastTreeValue 0x7fc826a184f0>\n",
       "    └── 'c' --> tensor([[ 0.4296, -0.3336, -0.1647,  0.3837],\n",
       "                        [ 1.3859, -1.0740,  1.8592,  0.5435],\n",
       "                        [-1.2189, -1.0393, -0.1546, -0.8087]])"
      ]
     },
     "execution_count": 3,
     "metadata": {},
     "output_type": "execute_result"
    }
   ],
   "source": [
    "t"
   ]
  },
  {
   "cell_type": "code",
   "execution_count": 4,
   "id": "fd70b0b9",
   "metadata": {
    "execution": {
     "iopub.execute_input": "2023-08-14T06:18:44.726706Z",
     "iopub.status.busy": "2023-08-14T06:18:44.726255Z",
     "iopub.status.idle": "2023-08-14T06:18:44.731391Z",
     "shell.execute_reply": "2023-08-14T06:18:44.730684Z"
    }
   },
   "outputs": [
    {
     "data": {
      "text/plain": [
       "tensor([[ 0.1401,  0.1862, -0.2312],\n",
       "        [-0.2158,  0.0365,  0.5724]])"
      ]
     },
     "execution_count": 4,
     "metadata": {},
     "output_type": "execute_result"
    }
   ],
   "source": [
    "t.a"
   ]
  },
  {
   "cell_type": "code",
   "execution_count": 5,
   "id": "c18197bd",
   "metadata": {
    "execution": {
     "iopub.execute_input": "2023-08-14T06:18:44.735210Z",
     "iopub.status.busy": "2023-08-14T06:18:44.734838Z",
     "iopub.status.idle": "2023-08-14T06:18:50.669112Z",
     "shell.execute_reply": "2023-08-14T06:18:50.668316Z"
    }
   },
   "outputs": [
    {
     "name": "stdout",
     "output_type": "stream",
     "text": [
      "73.1 ns ± 0.104 ns per loop (mean ± std. dev. of 7 runs, 10,000,000 loops each)\n"
     ]
    }
   ],
   "source": [
    "%timeit t.a"
   ]
  },
  {
   "cell_type": "code",
   "execution_count": 6,
   "id": "bd52f867",
   "metadata": {
    "execution": {
     "iopub.execute_input": "2023-08-14T06:18:50.672854Z",
     "iopub.status.busy": "2023-08-14T06:18:50.672190Z",
     "iopub.status.idle": "2023-08-14T06:18:50.678989Z",
     "shell.execute_reply": "2023-08-14T06:18:50.678255Z"
    }
   },
   "outputs": [
    {
     "data": {
      "text/plain": [
       "<FastTreeValue 0x7fc826a18370>\n",
       "├── 'a' --> tensor([[ 0.6394, -0.1007, -0.4428],\n",
       "│                   [ 1.4431, -0.3313,  2.4880]])\n",
       "└── 'x' --> <FastTreeValue 0x7fc826a184f0>\n",
       "    └── 'c' --> tensor([[ 0.4296, -0.3336, -0.1647,  0.3837],\n",
       "                        [ 1.3859, -1.0740,  1.8592,  0.5435],\n",
       "                        [-1.2189, -1.0393, -0.1546, -0.8087]])"
      ]
     },
     "execution_count": 6,
     "metadata": {},
     "output_type": "execute_result"
    }
   ],
   "source": [
    "new_value = torch.randn(2, 3)\n",
    "t.a = new_value\n",
    "\n",
    "t"
   ]
  },
  {
   "cell_type": "code",
   "execution_count": 7,
   "id": "bbe04d1c",
   "metadata": {
    "execution": {
     "iopub.execute_input": "2023-08-14T06:18:50.682155Z",
     "iopub.status.busy": "2023-08-14T06:18:50.681771Z",
     "iopub.status.idle": "2023-08-14T06:18:57.290258Z",
     "shell.execute_reply": "2023-08-14T06:18:57.289530Z"
    }
   },
   "outputs": [
    {
     "name": "stdout",
     "output_type": "stream",
     "text": [
      "81.4 ns ± 0.106 ns per loop (mean ± std. dev. of 7 runs, 10,000,000 loops each)\n"
     ]
    }
   ],
   "source": [
    "%timeit t.a = new_value"
   ]
  },
  {
   "cell_type": "markdown",
   "id": "48c49731",
   "metadata": {},
   "source": [
    "### Tianshou Batch's Get and Set"
   ]
  },
  {
   "cell_type": "code",
   "execution_count": 8,
   "id": "f1bb14c1",
   "metadata": {
    "execution": {
     "iopub.execute_input": "2023-08-14T06:18:57.293908Z",
     "iopub.status.busy": "2023-08-14T06:18:57.293258Z",
     "iopub.status.idle": "2023-08-14T06:18:57.701521Z",
     "shell.execute_reply": "2023-08-14T06:18:57.700692Z"
    }
   },
   "outputs": [],
   "source": [
    "from tianshou.data import Batch\n",
    "\n",
    "b = Batch(**_TREE_DATA_2)"
   ]
  },
  {
   "cell_type": "code",
   "execution_count": 9,
   "id": "cb0777c3",
   "metadata": {
    "execution": {
     "iopub.execute_input": "2023-08-14T06:18:57.706222Z",
     "iopub.status.busy": "2023-08-14T06:18:57.705664Z",
     "iopub.status.idle": "2023-08-14T06:18:57.713452Z",
     "shell.execute_reply": "2023-08-14T06:18:57.712803Z"
    }
   },
   "outputs": [
    {
     "data": {
      "text/plain": [
       "Batch(\n",
       "    a: tensor([[ 0.1401,  0.1862, -0.2312],\n",
       "               [-0.2158,  0.0365,  0.5724]]),\n",
       "    x: Batch(\n",
       "           c: tensor([[ 0.4296, -0.3336, -0.1647,  0.3837],\n",
       "                      [ 1.3859, -1.0740,  1.8592,  0.5435],\n",
       "                      [-1.2189, -1.0393, -0.1546, -0.8087]]),\n",
       "       ),\n",
       ")"
      ]
     },
     "execution_count": 9,
     "metadata": {},
     "output_type": "execute_result"
    }
   ],
   "source": [
    "b"
   ]
  },
  {
   "cell_type": "code",
   "execution_count": 10,
   "id": "43ef8ea3",
   "metadata": {
    "execution": {
     "iopub.execute_input": "2023-08-14T06:18:57.717011Z",
     "iopub.status.busy": "2023-08-14T06:18:57.716434Z",
     "iopub.status.idle": "2023-08-14T06:18:57.723331Z",
     "shell.execute_reply": "2023-08-14T06:18:57.722706Z"
    }
   },
   "outputs": [
    {
     "data": {
      "text/plain": [
       "tensor([[ 0.1401,  0.1862, -0.2312],\n",
       "        [-0.2158,  0.0365,  0.5724]])"
      ]
     },
     "execution_count": 10,
     "metadata": {},
     "output_type": "execute_result"
    }
   ],
   "source": [
    "b.a"
   ]
  },
  {
   "cell_type": "code",
   "execution_count": 11,
   "id": "b785ab72",
   "metadata": {
    "execution": {
     "iopub.execute_input": "2023-08-14T06:18:57.726376Z",
     "iopub.status.busy": "2023-08-14T06:18:57.725921Z",
     "iopub.status.idle": "2023-08-14T06:19:03.257458Z",
     "shell.execute_reply": "2023-08-14T06:19:03.256679Z"
    }
   },
   "outputs": [
    {
     "name": "stdout",
     "output_type": "stream",
     "text": [
      "68.1 ns ± 0.0531 ns per loop (mean ± std. dev. of 7 runs, 10,000,000 loops each)\n"
     ]
    }
   ],
   "source": [
    "%timeit b.a"
   ]
  },
  {
   "cell_type": "code",
   "execution_count": 12,
   "id": "ad54dc69",
   "metadata": {
    "execution": {
     "iopub.execute_input": "2023-08-14T06:19:03.261486Z",
     "iopub.status.busy": "2023-08-14T06:19:03.260787Z",
     "iopub.status.idle": "2023-08-14T06:19:03.267893Z",
     "shell.execute_reply": "2023-08-14T06:19:03.267163Z"
    }
   },
   "outputs": [
    {
     "data": {
      "text/plain": [
       "Batch(\n",
       "    a: tensor([[-0.5343, -0.1484, -0.2327],\n",
       "               [ 1.2595,  0.1501,  0.1004]]),\n",
       "    x: Batch(\n",
       "           c: tensor([[ 0.4296, -0.3336, -0.1647,  0.3837],\n",
       "                      [ 1.3859, -1.0740,  1.8592,  0.5435],\n",
       "                      [-1.2189, -1.0393, -0.1546, -0.8087]]),\n",
       "       ),\n",
       ")"
      ]
     },
     "execution_count": 12,
     "metadata": {},
     "output_type": "execute_result"
    }
   ],
   "source": [
    "new_value = torch.randn(2, 3)\n",
    "b.a = new_value\n",
    "\n",
    "b"
   ]
  },
  {
   "cell_type": "code",
   "execution_count": 13,
   "id": "29b1d0bf",
   "metadata": {
    "execution": {
     "iopub.execute_input": "2023-08-14T06:19:03.271094Z",
     "iopub.status.busy": "2023-08-14T06:19:03.270706Z",
     "iopub.status.idle": "2023-08-14T06:19:07.819653Z",
     "shell.execute_reply": "2023-08-14T06:19:07.818721Z"
    }
   },
   "outputs": [
    {
     "name": "stdout",
     "output_type": "stream",
     "text": [
      "560 ns ± 0.121 ns per loop (mean ± std. dev. of 7 runs, 1,000,000 loops each)\n"
     ]
    }
   ],
   "source": [
    "%timeit b.a = new_value"
   ]
  },
  {
   "cell_type": "markdown",
   "id": "b61ad1d0",
   "metadata": {},
   "source": [
    "## Initialization"
   ]
  },
  {
   "cell_type": "markdown",
   "id": "d70f0d54",
   "metadata": {},
   "source": [
    "### TreeValue's Initialization"
   ]
  },
  {
   "cell_type": "code",
   "execution_count": 14,
   "id": "d32a679b",
   "metadata": {
    "execution": {
     "iopub.execute_input": "2023-08-14T06:19:07.823399Z",
     "iopub.status.busy": "2023-08-14T06:19:07.822979Z",
     "iopub.status.idle": "2023-08-14T06:19:15.464108Z",
     "shell.execute_reply": "2023-08-14T06:19:15.463324Z"
    }
   },
   "outputs": [
    {
     "name": "stdout",
     "output_type": "stream",
     "text": [
      "941 ns ± 7.75 ns per loop (mean ± std. dev. of 7 runs, 1,000,000 loops each)\n"
     ]
    }
   ],
   "source": [
    "%timeit FastTreeValue(_TREE_DATA_1)"
   ]
  },
  {
   "cell_type": "markdown",
   "id": "24f3707b",
   "metadata": {},
   "source": [
    "### Tianshou Batch's Initialization"
   ]
  },
  {
   "cell_type": "code",
   "execution_count": 15,
   "id": "ac3958df",
   "metadata": {
    "execution": {
     "iopub.execute_input": "2023-08-14T06:19:15.468107Z",
     "iopub.status.busy": "2023-08-14T06:19:15.467368Z",
     "iopub.status.idle": "2023-08-14T06:19:24.521630Z",
     "shell.execute_reply": "2023-08-14T06:19:24.520800Z"
    }
   },
   "outputs": [
    {
     "name": "stdout",
     "output_type": "stream",
     "text": [
      "11.1 µs ± 27.1 ns per loop (mean ± std. dev. of 7 runs, 100,000 loops each)\n"
     ]
    }
   ],
   "source": [
    "%timeit Batch(**_TREE_DATA_1)"
   ]
  },
  {
   "cell_type": "markdown",
   "id": "1ab82e2d",
   "metadata": {},
   "source": [
    "## Deep Copy Operation"
   ]
  },
  {
   "cell_type": "code",
   "execution_count": 16,
   "id": "210a9442",
   "metadata": {
    "execution": {
     "iopub.execute_input": "2023-08-14T06:19:24.525602Z",
     "iopub.status.busy": "2023-08-14T06:19:24.525041Z",
     "iopub.status.idle": "2023-08-14T06:19:24.528844Z",
     "shell.execute_reply": "2023-08-14T06:19:24.528005Z"
    }
   },
   "outputs": [],
   "source": [
    "import copy"
   ]
  },
  {
   "cell_type": "markdown",
   "id": "5a736274",
   "metadata": {},
   "source": [
    "### Deep Copy of TreeValue"
   ]
  },
  {
   "cell_type": "code",
   "execution_count": 17,
   "id": "f9bcadd6",
   "metadata": {
    "execution": {
     "iopub.execute_input": "2023-08-14T06:19:24.532465Z",
     "iopub.status.busy": "2023-08-14T06:19:24.531916Z",
     "iopub.status.idle": "2023-08-14T06:19:36.239142Z",
     "shell.execute_reply": "2023-08-14T06:19:36.238330Z"
    }
   },
   "outputs": [
    {
     "name": "stdout",
     "output_type": "stream",
     "text": [
      "144 µs ± 1.09 µs per loop (mean ± std. dev. of 7 runs, 10,000 loops each)\n"
     ]
    }
   ],
   "source": [
    "t3 = FastTreeValue(_TREE_DATA_3)\n",
    "%timeit copy.deepcopy(t3)"
   ]
  },
  {
   "cell_type": "markdown",
   "id": "bf8be7ea",
   "metadata": {},
   "source": [
    "### Deep Copy of Tianshou Batch"
   ]
  },
  {
   "cell_type": "code",
   "execution_count": 18,
   "id": "91998e6f",
   "metadata": {
    "execution": {
     "iopub.execute_input": "2023-08-14T06:19:36.242789Z",
     "iopub.status.busy": "2023-08-14T06:19:36.242377Z",
     "iopub.status.idle": "2023-08-14T06:19:47.949463Z",
     "shell.execute_reply": "2023-08-14T06:19:47.948630Z"
    }
   },
   "outputs": [
    {
     "name": "stdout",
     "output_type": "stream",
     "text": [
      "144 µs ± 904 ns per loop (mean ± std. dev. of 7 runs, 10,000 loops each)\n"
     ]
    }
   ],
   "source": [
    "b3 = Batch(**_TREE_DATA_3)\n",
    "%timeit copy.deepcopy(b3)"
   ]
  },
  {
   "cell_type": "markdown",
   "id": "223162fb",
   "metadata": {},
   "source": [
    "## Stack, Concat and Split Operation"
   ]
  },
  {
   "cell_type": "markdown",
   "id": "85fa4a73",
   "metadata": {},
   "source": [
    "### Performance of TreeValue"
   ]
  },
  {
   "cell_type": "code",
   "execution_count": 19,
   "id": "a0c2b697",
   "metadata": {
    "execution": {
     "iopub.execute_input": "2023-08-14T06:19:47.953206Z",
     "iopub.status.busy": "2023-08-14T06:19:47.952767Z",
     "iopub.status.idle": "2023-08-14T06:19:47.956589Z",
     "shell.execute_reply": "2023-08-14T06:19:47.955853Z"
    }
   },
   "outputs": [],
   "source": [
    "trees = [FastTreeValue(_TREE_DATA_2) for _ in range(8)]"
   ]
  },
  {
   "cell_type": "code",
   "execution_count": 20,
   "id": "017ea5a5",
   "metadata": {
    "execution": {
     "iopub.execute_input": "2023-08-14T06:19:47.959865Z",
     "iopub.status.busy": "2023-08-14T06:19:47.959316Z",
     "iopub.status.idle": "2023-08-14T06:19:47.967250Z",
     "shell.execute_reply": "2023-08-14T06:19:47.966551Z"
    }
   },
   "outputs": [
    {
     "data": {
      "text/plain": [
       "<FastTreeValue 0x7fc756bf6cd0>\n",
       "├── 'a' --> tensor([[[ 0.1401,  0.1862, -0.2312],\n",
       "│                    [-0.2158,  0.0365,  0.5724]],\n",
       "│           \n",
       "│                   [[ 0.1401,  0.1862, -0.2312],\n",
       "│                    [-0.2158,  0.0365,  0.5724]],\n",
       "│           \n",
       "│                   [[ 0.1401,  0.1862, -0.2312],\n",
       "│                    [-0.2158,  0.0365,  0.5724]],\n",
       "│           \n",
       "│                   [[ 0.1401,  0.1862, -0.2312],\n",
       "│                    [-0.2158,  0.0365,  0.5724]],\n",
       "│           \n",
       "│                   [[ 0.1401,  0.1862, -0.2312],\n",
       "│                    [-0.2158,  0.0365,  0.5724]],\n",
       "│           \n",
       "│                   [[ 0.1401,  0.1862, -0.2312],\n",
       "│                    [-0.2158,  0.0365,  0.5724]],\n",
       "│           \n",
       "│                   [[ 0.1401,  0.1862, -0.2312],\n",
       "│                    [-0.2158,  0.0365,  0.5724]],\n",
       "│           \n",
       "│                   [[ 0.1401,  0.1862, -0.2312],\n",
       "│                    [-0.2158,  0.0365,  0.5724]]])\n",
       "└── 'x' --> <FastTreeValue 0x7fc756bf5f40>\n",
       "    └── 'c' --> tensor([[[ 0.4296, -0.3336, -0.1647,  0.3837],\n",
       "                         [ 1.3859, -1.0740,  1.8592,  0.5435],\n",
       "                         [-1.2189, -1.0393, -0.1546, -0.8087]],\n",
       "                \n",
       "                        [[ 0.4296, -0.3336, -0.1647,  0.3837],\n",
       "                         [ 1.3859, -1.0740,  1.8592,  0.5435],\n",
       "                         [-1.2189, -1.0393, -0.1546, -0.8087]],\n",
       "                \n",
       "                        [[ 0.4296, -0.3336, -0.1647,  0.3837],\n",
       "                         [ 1.3859, -1.0740,  1.8592,  0.5435],\n",
       "                         [-1.2189, -1.0393, -0.1546, -0.8087]],\n",
       "                \n",
       "                        [[ 0.4296, -0.3336, -0.1647,  0.3837],\n",
       "                         [ 1.3859, -1.0740,  1.8592,  0.5435],\n",
       "                         [-1.2189, -1.0393, -0.1546, -0.8087]],\n",
       "                \n",
       "                        [[ 0.4296, -0.3336, -0.1647,  0.3837],\n",
       "                         [ 1.3859, -1.0740,  1.8592,  0.5435],\n",
       "                         [-1.2189, -1.0393, -0.1546, -0.8087]],\n",
       "                \n",
       "                        [[ 0.4296, -0.3336, -0.1647,  0.3837],\n",
       "                         [ 1.3859, -1.0740,  1.8592,  0.5435],\n",
       "                         [-1.2189, -1.0393, -0.1546, -0.8087]],\n",
       "                \n",
       "                        [[ 0.4296, -0.3336, -0.1647,  0.3837],\n",
       "                         [ 1.3859, -1.0740,  1.8592,  0.5435],\n",
       "                         [-1.2189, -1.0393, -0.1546, -0.8087]],\n",
       "                \n",
       "                        [[ 0.4296, -0.3336, -0.1647,  0.3837],\n",
       "                         [ 1.3859, -1.0740,  1.8592,  0.5435],\n",
       "                         [-1.2189, -1.0393, -0.1546, -0.8087]]])"
      ]
     },
     "execution_count": 20,
     "metadata": {},
     "output_type": "execute_result"
    }
   ],
   "source": [
    "t_stack = FastTreeValue.func(subside=True)(torch.stack)\n",
    "\n",
    "t_stack(trees)"
   ]
  },
  {
   "cell_type": "code",
   "execution_count": 21,
   "id": "f8b3f415",
   "metadata": {
    "execution": {
     "iopub.execute_input": "2023-08-14T06:19:47.970621Z",
     "iopub.status.busy": "2023-08-14T06:19:47.970008Z",
     "iopub.status.idle": "2023-08-14T06:19:50.636514Z",
     "shell.execute_reply": "2023-08-14T06:19:50.635731Z"
    }
   },
   "outputs": [
    {
     "name": "stdout",
     "output_type": "stream",
     "text": [
      "32.8 µs ± 65.2 ns per loop (mean ± std. dev. of 7 runs, 10,000 loops each)\n"
     ]
    }
   ],
   "source": [
    "%timeit t_stack(trees)"
   ]
  },
  {
   "cell_type": "code",
   "execution_count": 22,
   "id": "94b56771",
   "metadata": {
    "execution": {
     "iopub.execute_input": "2023-08-14T06:19:50.640450Z",
     "iopub.status.busy": "2023-08-14T06:19:50.639679Z",
     "iopub.status.idle": "2023-08-14T06:19:50.649084Z",
     "shell.execute_reply": "2023-08-14T06:19:50.648369Z"
    }
   },
   "outputs": [
    {
     "data": {
      "text/plain": [
       "<FastTreeValue 0x7fc75ed0deb0>\n",
       "├── 'a' --> tensor([[ 0.1401,  0.1862, -0.2312],\n",
       "│                   [-0.2158,  0.0365,  0.5724],\n",
       "│                   [ 0.1401,  0.1862, -0.2312],\n",
       "│                   [-0.2158,  0.0365,  0.5724],\n",
       "│                   [ 0.1401,  0.1862, -0.2312],\n",
       "│                   [-0.2158,  0.0365,  0.5724],\n",
       "│                   [ 0.1401,  0.1862, -0.2312],\n",
       "│                   [-0.2158,  0.0365,  0.5724],\n",
       "│                   [ 0.1401,  0.1862, -0.2312],\n",
       "│                   [-0.2158,  0.0365,  0.5724],\n",
       "│                   [ 0.1401,  0.1862, -0.2312],\n",
       "│                   [-0.2158,  0.0365,  0.5724],\n",
       "│                   [ 0.1401,  0.1862, -0.2312],\n",
       "│                   [-0.2158,  0.0365,  0.5724],\n",
       "│                   [ 0.1401,  0.1862, -0.2312],\n",
       "│                   [-0.2158,  0.0365,  0.5724]])\n",
       "└── 'x' --> <FastTreeValue 0x7fc75ed0df40>\n",
       "    └── 'c' --> tensor([[ 0.4296, -0.3336, -0.1647,  0.3837],\n",
       "                        [ 1.3859, -1.0740,  1.8592,  0.5435],\n",
       "                        [-1.2189, -1.0393, -0.1546, -0.8087],\n",
       "                        [ 0.4296, -0.3336, -0.1647,  0.3837],\n",
       "                        [ 1.3859, -1.0740,  1.8592,  0.5435],\n",
       "                        [-1.2189, -1.0393, -0.1546, -0.8087],\n",
       "                        [ 0.4296, -0.3336, -0.1647,  0.3837],\n",
       "                        [ 1.3859, -1.0740,  1.8592,  0.5435],\n",
       "                        [-1.2189, -1.0393, -0.1546, -0.8087],\n",
       "                        [ 0.4296, -0.3336, -0.1647,  0.3837],\n",
       "                        [ 1.3859, -1.0740,  1.8592,  0.5435],\n",
       "                        [-1.2189, -1.0393, -0.1546, -0.8087],\n",
       "                        [ 0.4296, -0.3336, -0.1647,  0.3837],\n",
       "                        [ 1.3859, -1.0740,  1.8592,  0.5435],\n",
       "                        [-1.2189, -1.0393, -0.1546, -0.8087],\n",
       "                        [ 0.4296, -0.3336, -0.1647,  0.3837],\n",
       "                        [ 1.3859, -1.0740,  1.8592,  0.5435],\n",
       "                        [-1.2189, -1.0393, -0.1546, -0.8087],\n",
       "                        [ 0.4296, -0.3336, -0.1647,  0.3837],\n",
       "                        [ 1.3859, -1.0740,  1.8592,  0.5435],\n",
       "                        [-1.2189, -1.0393, -0.1546, -0.8087],\n",
       "                        [ 0.4296, -0.3336, -0.1647,  0.3837],\n",
       "                        [ 1.3859, -1.0740,  1.8592,  0.5435],\n",
       "                        [-1.2189, -1.0393, -0.1546, -0.8087]])"
      ]
     },
     "execution_count": 22,
     "metadata": {},
     "output_type": "execute_result"
    }
   ],
   "source": [
    "t_cat = FastTreeValue.func(subside=True)(torch.cat)\n",
    "\n",
    "t_cat(trees)"
   ]
  },
  {
   "cell_type": "code",
   "execution_count": 23,
   "id": "5e9c06a6",
   "metadata": {
    "execution": {
     "iopub.execute_input": "2023-08-14T06:19:50.652175Z",
     "iopub.status.busy": "2023-08-14T06:19:50.651699Z",
     "iopub.status.idle": "2023-08-14T06:19:53.188170Z",
     "shell.execute_reply": "2023-08-14T06:19:53.186504Z"
    }
   },
   "outputs": [
    {
     "name": "stdout",
     "output_type": "stream",
     "text": [
      "31.2 µs ± 59.6 ns per loop (mean ± std. dev. of 7 runs, 10,000 loops each)\n"
     ]
    }
   ],
   "source": [
    "%timeit t_cat(trees)"
   ]
  },
  {
   "cell_type": "code",
   "execution_count": 24,
   "id": "a3ab5c8f",
   "metadata": {
    "execution": {
     "iopub.execute_input": "2023-08-14T06:19:53.191701Z",
     "iopub.status.busy": "2023-08-14T06:19:53.191434Z",
     "iopub.status.idle": "2023-08-14T06:19:58.804049Z",
     "shell.execute_reply": "2023-08-14T06:19:58.803275Z"
    }
   },
   "outputs": [
    {
     "name": "stdout",
     "output_type": "stream",
     "text": [
      "69.1 µs ± 28.3 ns per loop (mean ± std. dev. of 7 runs, 10,000 loops each)\n"
     ]
    }
   ],
   "source": [
    "t_split = FastTreeValue.func(rise=True)(torch.split)\n",
    "tree = FastTreeValue({\n",
    "    'obs': torch.randn(8, 4, 84, 84),\n",
    "    'action': torch.randint(0, 6, size=(8, 1,)),\n",
    "    'reward': torch.rand(8, 1),\n",
    "})\n",
    "\n",
    "%timeit t_split(tree, 1)"
   ]
  },
  {
   "cell_type": "markdown",
   "id": "31c3ec0b",
   "metadata": {},
   "source": [
    "### Performance of Tianshou Batch"
   ]
  },
  {
   "cell_type": "code",
   "execution_count": 25,
   "id": "9ead828a",
   "metadata": {
    "execution": {
     "iopub.execute_input": "2023-08-14T06:19:58.808081Z",
     "iopub.status.busy": "2023-08-14T06:19:58.807371Z",
     "iopub.status.idle": "2023-08-14T06:19:58.815894Z",
     "shell.execute_reply": "2023-08-14T06:19:58.815165Z"
    }
   },
   "outputs": [
    {
     "data": {
      "text/plain": [
       "Batch(\n",
       "    x: Batch(\n",
       "           c: tensor([[[ 0.4296, -0.3336, -0.1647,  0.3837],\n",
       "                       [ 1.3859, -1.0740,  1.8592,  0.5435],\n",
       "                       [-1.2189, -1.0393, -0.1546, -0.8087]],\n",
       "              \n",
       "                      [[ 0.4296, -0.3336, -0.1647,  0.3837],\n",
       "                       [ 1.3859, -1.0740,  1.8592,  0.5435],\n",
       "                       [-1.2189, -1.0393, -0.1546, -0.8087]],\n",
       "              \n",
       "                      [[ 0.4296, -0.3336, -0.1647,  0.3837],\n",
       "                       [ 1.3859, -1.0740,  1.8592,  0.5435],\n",
       "                       [-1.2189, -1.0393, -0.1546, -0.8087]],\n",
       "              \n",
       "                      [[ 0.4296, -0.3336, -0.1647,  0.3837],\n",
       "                       [ 1.3859, -1.0740,  1.8592,  0.5435],\n",
       "                       [-1.2189, -1.0393, -0.1546, -0.8087]],\n",
       "              \n",
       "                      [[ 0.4296, -0.3336, -0.1647,  0.3837],\n",
       "                       [ 1.3859, -1.0740,  1.8592,  0.5435],\n",
       "                       [-1.2189, -1.0393, -0.1546, -0.8087]],\n",
       "              \n",
       "                      [[ 0.4296, -0.3336, -0.1647,  0.3837],\n",
       "                       [ 1.3859, -1.0740,  1.8592,  0.5435],\n",
       "                       [-1.2189, -1.0393, -0.1546, -0.8087]],\n",
       "              \n",
       "                      [[ 0.4296, -0.3336, -0.1647,  0.3837],\n",
       "                       [ 1.3859, -1.0740,  1.8592,  0.5435],\n",
       "                       [-1.2189, -1.0393, -0.1546, -0.8087]],\n",
       "              \n",
       "                      [[ 0.4296, -0.3336, -0.1647,  0.3837],\n",
       "                       [ 1.3859, -1.0740,  1.8592,  0.5435],\n",
       "                       [-1.2189, -1.0393, -0.1546, -0.8087]]]),\n",
       "       ),\n",
       "    a: tensor([[[ 0.1401,  0.1862, -0.2312],\n",
       "                [-0.2158,  0.0365,  0.5724]],\n",
       "       \n",
       "               [[ 0.1401,  0.1862, -0.2312],\n",
       "                [-0.2158,  0.0365,  0.5724]],\n",
       "       \n",
       "               [[ 0.1401,  0.1862, -0.2312],\n",
       "                [-0.2158,  0.0365,  0.5724]],\n",
       "       \n",
       "               [[ 0.1401,  0.1862, -0.2312],\n",
       "                [-0.2158,  0.0365,  0.5724]],\n",
       "       \n",
       "               [[ 0.1401,  0.1862, -0.2312],\n",
       "                [-0.2158,  0.0365,  0.5724]],\n",
       "       \n",
       "               [[ 0.1401,  0.1862, -0.2312],\n",
       "                [-0.2158,  0.0365,  0.5724]],\n",
       "       \n",
       "               [[ 0.1401,  0.1862, -0.2312],\n",
       "                [-0.2158,  0.0365,  0.5724]],\n",
       "       \n",
       "               [[ 0.1401,  0.1862, -0.2312],\n",
       "                [-0.2158,  0.0365,  0.5724]]]),\n",
       ")"
      ]
     },
     "execution_count": 25,
     "metadata": {},
     "output_type": "execute_result"
    }
   ],
   "source": [
    "batches = [Batch(**_TREE_DATA_2) for _ in range(8)]\n",
    "\n",
    "Batch.stack(batches)"
   ]
  },
  {
   "cell_type": "code",
   "execution_count": 26,
   "id": "ec9037a3",
   "metadata": {
    "execution": {
     "iopub.execute_input": "2023-08-14T06:19:58.819203Z",
     "iopub.status.busy": "2023-08-14T06:19:58.818817Z",
     "iopub.status.idle": "2023-08-14T06:20:05.632205Z",
     "shell.execute_reply": "2023-08-14T06:20:05.631429Z"
    }
   },
   "outputs": [
    {
     "name": "stdout",
     "output_type": "stream",
     "text": [
      "83.9 µs ± 219 ns per loop (mean ± std. dev. of 7 runs, 10,000 loops each)\n"
     ]
    }
   ],
   "source": [
    "%timeit Batch.stack(batches)"
   ]
  },
  {
   "cell_type": "code",
   "execution_count": 27,
   "id": "cb8ab77e",
   "metadata": {
    "execution": {
     "iopub.execute_input": "2023-08-14T06:20:05.635893Z",
     "iopub.status.busy": "2023-08-14T06:20:05.635335Z",
     "iopub.status.idle": "2023-08-14T06:20:05.643388Z",
     "shell.execute_reply": "2023-08-14T06:20:05.642638Z"
    }
   },
   "outputs": [
    {
     "data": {
      "text/plain": [
       "Batch(\n",
       "    x: Batch(\n",
       "           c: tensor([[ 0.4296, -0.3336, -0.1647,  0.3837],\n",
       "                      [ 1.3859, -1.0740,  1.8592,  0.5435],\n",
       "                      [-1.2189, -1.0393, -0.1546, -0.8087],\n",
       "                      [ 0.4296, -0.3336, -0.1647,  0.3837],\n",
       "                      [ 1.3859, -1.0740,  1.8592,  0.5435],\n",
       "                      [-1.2189, -1.0393, -0.1546, -0.8087],\n",
       "                      [ 0.4296, -0.3336, -0.1647,  0.3837],\n",
       "                      [ 1.3859, -1.0740,  1.8592,  0.5435],\n",
       "                      [-1.2189, -1.0393, -0.1546, -0.8087],\n",
       "                      [ 0.4296, -0.3336, -0.1647,  0.3837],\n",
       "                      [ 1.3859, -1.0740,  1.8592,  0.5435],\n",
       "                      [-1.2189, -1.0393, -0.1546, -0.8087],\n",
       "                      [ 0.4296, -0.3336, -0.1647,  0.3837],\n",
       "                      [ 1.3859, -1.0740,  1.8592,  0.5435],\n",
       "                      [-1.2189, -1.0393, -0.1546, -0.8087],\n",
       "                      [ 0.4296, -0.3336, -0.1647,  0.3837],\n",
       "                      [ 1.3859, -1.0740,  1.8592,  0.5435],\n",
       "                      [-1.2189, -1.0393, -0.1546, -0.8087],\n",
       "                      [ 0.4296, -0.3336, -0.1647,  0.3837],\n",
       "                      [ 1.3859, -1.0740,  1.8592,  0.5435],\n",
       "                      [-1.2189, -1.0393, -0.1546, -0.8087],\n",
       "                      [ 0.4296, -0.3336, -0.1647,  0.3837],\n",
       "                      [ 1.3859, -1.0740,  1.8592,  0.5435],\n",
       "                      [-1.2189, -1.0393, -0.1546, -0.8087]]),\n",
       "       ),\n",
       "    a: tensor([[ 0.1401,  0.1862, -0.2312],\n",
       "               [-0.2158,  0.0365,  0.5724],\n",
       "               [ 0.1401,  0.1862, -0.2312],\n",
       "               [-0.2158,  0.0365,  0.5724],\n",
       "               [ 0.1401,  0.1862, -0.2312],\n",
       "               [-0.2158,  0.0365,  0.5724],\n",
       "               [ 0.1401,  0.1862, -0.2312],\n",
       "               [-0.2158,  0.0365,  0.5724],\n",
       "               [ 0.1401,  0.1862, -0.2312],\n",
       "               [-0.2158,  0.0365,  0.5724],\n",
       "               [ 0.1401,  0.1862, -0.2312],\n",
       "               [-0.2158,  0.0365,  0.5724],\n",
       "               [ 0.1401,  0.1862, -0.2312],\n",
       "               [-0.2158,  0.0365,  0.5724],\n",
       "               [ 0.1401,  0.1862, -0.2312],\n",
       "               [-0.2158,  0.0365,  0.5724]]),\n",
       ")"
      ]
     },
     "execution_count": 27,
     "metadata": {},
     "output_type": "execute_result"
    }
   ],
   "source": [
    "Batch.cat(batches)"
   ]
  },
  {
   "cell_type": "code",
   "execution_count": 28,
   "id": "18dfb045",
   "metadata": {
    "execution": {
     "iopub.execute_input": "2023-08-14T06:20:05.646987Z",
     "iopub.status.busy": "2023-08-14T06:20:05.646414Z",
     "iopub.status.idle": "2023-08-14T06:20:18.208082Z",
     "shell.execute_reply": "2023-08-14T06:20:18.207317Z"
    }
   },
   "outputs": [
    {
     "name": "stdout",
     "output_type": "stream",
     "text": [
      "155 µs ± 306 ns per loop (mean ± std. dev. of 7 runs, 10,000 loops each)\n"
     ]
    }
   ],
   "source": [
    "%timeit Batch.cat(batches)"
   ]
  },
  {
   "cell_type": "code",
   "execution_count": 29,
   "id": "c6688e51",
   "metadata": {
    "execution": {
     "iopub.execute_input": "2023-08-14T06:20:18.211590Z",
     "iopub.status.busy": "2023-08-14T06:20:18.211085Z",
     "iopub.status.idle": "2023-08-14T06:20:21.061557Z",
     "shell.execute_reply": "2023-08-14T06:20:21.060876Z"
    }
   },
   "outputs": [
    {
     "name": "stdout",
     "output_type": "stream",
     "text": [
      "349 µs ± 7.15 µs per loop (mean ± std. dev. of 7 runs, 1,000 loops each)\n"
     ]
    }
   ],
   "source": [
    "batch = Batch({\n",
    "    'obs': torch.randn(8, 4, 84, 84),\n",
    "    'action': torch.randint(0, 6, size=(8, 1,)),\n",
    "    'reward': torch.rand(8, 1)}\n",
    ")\n",
    "\n",
    "%timeit list(Batch.split(batch, 1, shuffle=False, merge_last=True))"
   ]
  },
  {
   "cell_type": "code",
   "execution_count": null,
   "id": "2539fbd9",
   "metadata": {},
   "outputs": [],
   "source": []
  }
 ],
 "metadata": {
  "kernelspec": {
   "display_name": "Python 3 (ipykernel)",
   "language": "python",
   "name": "python3"
  },
  "language_info": {
   "codemirror_mode": {
    "name": "ipython",
    "version": 3
   },
   "file_extension": ".py",
   "mimetype": "text/x-python",
   "name": "python",
   "nbconvert_exporter": "python",
   "pygments_lexer": "ipython3",
   "version": "3.8.17"
  }
 },
 "nbformat": 4,
 "nbformat_minor": 5
}
