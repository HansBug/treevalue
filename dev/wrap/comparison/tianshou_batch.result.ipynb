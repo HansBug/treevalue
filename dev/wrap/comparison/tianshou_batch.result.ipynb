{
 "cells": [
  {
   "cell_type": "markdown",
   "id": "9d39d946",
   "metadata": {},
   "source": [
    "# Comparison Between TreeValue and Tianshou Batch"
   ]
  },
  {
   "cell_type": "markdown",
   "id": "3c6db2d4",
   "metadata": {},
   "source": [
    "In this section, we will take a look at the feature and performance of the [Tianshou Batch](https://github.com/thu-ml/tianshou) library, which is developed by Tsinghua Machine Learning Group."
   ]
  },
  {
   "cell_type": "markdown",
   "id": "069361b0",
   "metadata": {},
   "source": [
    "Before starting the comparison, let us define some thing."
   ]
  },
  {
   "cell_type": "code",
   "execution_count": 1,
   "id": "06fc8d26",
   "metadata": {
    "execution": {
     "iopub.execute_input": "2023-03-06T10:27:45.190061Z",
     "iopub.status.busy": "2023-03-06T10:27:45.189852Z",
     "iopub.status.idle": "2023-03-06T10:27:46.091092Z",
     "shell.execute_reply": "2023-03-06T10:27:46.090435Z"
    }
   },
   "outputs": [
    {
     "name": "stderr",
     "output_type": "stream",
     "text": [
      "/opt/hostedtoolcache/Python/3.8.16/x64/lib/python3.8/site-packages/tqdm/auto.py:21: TqdmWarning: IProgress not found. Please update jupyter and ipywidgets. See https://ipywidgets.readthedocs.io/en/stable/user_install.html\n",
      "  from .autonotebook import tqdm as notebook_tqdm\n"
     ]
    }
   ],
   "source": [
    "import torch \n",
    "\n",
    "_TREE_DATA_1 = {'a': 1, 'b': 2, 'x': {'c': 3, 'd': 4}}\n",
    "_TREE_DATA_2 = {\n",
    "    'a': torch.randn(2, 3), \n",
    "    'x': {\n",
    "        'c': torch.randn(3, 4)\n",
    "    },\n",
    "}\n",
    "_TREE_DATA_3 = {\n",
    "    'obs': torch.randn(4, 84, 84),\n",
    "    'action': torch.randint(0, 6, size=(1,)),\n",
    "    'reward': torch.rand(1),\n",
    "}"
   ]
  },
  {
   "cell_type": "markdown",
   "id": "83461b25",
   "metadata": {},
   "source": [
    "## Read and Write Operation"
   ]
  },
  {
   "cell_type": "markdown",
   "id": "067b3f73",
   "metadata": {},
   "source": [
    "Reading and writing are the two most common operations in the tree data structure based on the data model (TreeValue and Tianshou Batch both belong to this type), so this section will compare the reading and writing performance of these two libraries."
   ]
  },
  {
   "cell_type": "markdown",
   "id": "5d09a5b7",
   "metadata": {},
   "source": [
    "### TreeValue's Get and Set"
   ]
  },
  {
   "cell_type": "code",
   "execution_count": 2,
   "id": "9519c4bb",
   "metadata": {
    "execution": {
     "iopub.execute_input": "2023-03-06T10:27:46.094414Z",
     "iopub.status.busy": "2023-03-06T10:27:46.093839Z",
     "iopub.status.idle": "2023-03-06T10:27:46.126596Z",
     "shell.execute_reply": "2023-03-06T10:27:46.126017Z"
    }
   },
   "outputs": [],
   "source": [
    "from treevalue import FastTreeValue\n",
    "\n",
    "t = FastTreeValue(_TREE_DATA_2)"
   ]
  },
  {
   "cell_type": "code",
   "execution_count": 3,
   "id": "11c37677",
   "metadata": {
    "execution": {
     "iopub.execute_input": "2023-03-06T10:27:46.129350Z",
     "iopub.status.busy": "2023-03-06T10:27:46.128838Z",
     "iopub.status.idle": "2023-03-06T10:27:46.137989Z",
     "shell.execute_reply": "2023-03-06T10:27:46.137411Z"
    }
   },
   "outputs": [
    {
     "data": {
      "text/plain": [
       "<FastTreeValue 0x7fd8c0fb2d90>\n",
       "├── 'a' --> tensor([[ 0.0194, -2.3495, -1.0700],\n",
       "│                   [ 0.6895, -0.0388,  2.4030]])\n",
       "└── 'x' --> <FastTreeValue 0x7fd8c0fb29d0>\n",
       "    └── 'c' --> tensor([[ 1.3170,  0.3832, -0.7532,  0.4970],\n",
       "                        [-0.9420, -0.4518, -0.3240,  1.6024],\n",
       "                        [ 0.5700, -0.4530,  0.8019,  0.2725]])"
      ]
     },
     "execution_count": 3,
     "metadata": {},
     "output_type": "execute_result"
    }
   ],
   "source": [
    "t"
   ]
  },
  {
   "cell_type": "code",
   "execution_count": 4,
   "id": "fd70b0b9",
   "metadata": {
    "execution": {
     "iopub.execute_input": "2023-03-06T10:27:46.140409Z",
     "iopub.status.busy": "2023-03-06T10:27:46.140078Z",
     "iopub.status.idle": "2023-03-06T10:27:46.144774Z",
     "shell.execute_reply": "2023-03-06T10:27:46.144128Z"
    }
   },
   "outputs": [
    {
     "data": {
      "text/plain": [
       "tensor([[ 0.0194, -2.3495, -1.0700],\n",
       "        [ 0.6895, -0.0388,  2.4030]])"
      ]
     },
     "execution_count": 4,
     "metadata": {},
     "output_type": "execute_result"
    }
   ],
   "source": [
    "t.a"
   ]
  },
  {
   "cell_type": "code",
   "execution_count": 5,
   "id": "c18197bd",
   "metadata": {
    "execution": {
     "iopub.execute_input": "2023-03-06T10:27:46.147600Z",
     "iopub.status.busy": "2023-03-06T10:27:46.147107Z",
     "iopub.status.idle": "2023-03-06T10:27:50.870966Z",
     "shell.execute_reply": "2023-03-06T10:27:50.870215Z"
    }
   },
   "outputs": [
    {
     "name": "stdout",
     "output_type": "stream",
     "text": [
      "58 ns ± 0.0639 ns per loop (mean ± std. dev. of 7 runs, 10,000,000 loops each)\n"
     ]
    }
   ],
   "source": [
    "%timeit t.a"
   ]
  },
  {
   "cell_type": "code",
   "execution_count": 6,
   "id": "bd52f867",
   "metadata": {
    "execution": {
     "iopub.execute_input": "2023-03-06T10:27:50.873917Z",
     "iopub.status.busy": "2023-03-06T10:27:50.873561Z",
     "iopub.status.idle": "2023-03-06T10:27:50.879603Z",
     "shell.execute_reply": "2023-03-06T10:27:50.878974Z"
    }
   },
   "outputs": [
    {
     "data": {
      "text/plain": [
       "<FastTreeValue 0x7fd8c0fb2d90>\n",
       "├── 'a' --> tensor([[-0.2463,  0.9743, -0.5426],\n",
       "│                   [ 1.3120,  0.9220, -0.9492]])\n",
       "└── 'x' --> <FastTreeValue 0x7fd8c0fb29d0>\n",
       "    └── 'c' --> tensor([[ 1.3170,  0.3832, -0.7532,  0.4970],\n",
       "                        [-0.9420, -0.4518, -0.3240,  1.6024],\n",
       "                        [ 0.5700, -0.4530,  0.8019,  0.2725]])"
      ]
     },
     "execution_count": 6,
     "metadata": {},
     "output_type": "execute_result"
    }
   ],
   "source": [
    "new_value = torch.randn(2, 3)\n",
    "t.a = new_value\n",
    "\n",
    "t"
   ]
  },
  {
   "cell_type": "code",
   "execution_count": 7,
   "id": "bbe04d1c",
   "metadata": {
    "execution": {
     "iopub.execute_input": "2023-03-06T10:27:50.882097Z",
     "iopub.status.busy": "2023-03-06T10:27:50.881763Z",
     "iopub.status.idle": "2023-03-06T10:27:56.515633Z",
     "shell.execute_reply": "2023-03-06T10:27:56.514924Z"
    }
   },
   "outputs": [
    {
     "name": "stdout",
     "output_type": "stream",
     "text": [
      "69.4 ns ± 0.0277 ns per loop (mean ± std. dev. of 7 runs, 10,000,000 loops each)\n"
     ]
    }
   ],
   "source": [
    "%timeit t.a = new_value"
   ]
  },
  {
   "cell_type": "markdown",
   "id": "48c49731",
   "metadata": {},
   "source": [
    "### Tianshou Batch's Get and Set"
   ]
  },
  {
   "cell_type": "code",
   "execution_count": 8,
   "id": "f1bb14c1",
   "metadata": {
    "execution": {
     "iopub.execute_input": "2023-03-06T10:27:56.518865Z",
     "iopub.status.busy": "2023-03-06T10:27:56.518368Z",
     "iopub.status.idle": "2023-03-06T10:27:56.840952Z",
     "shell.execute_reply": "2023-03-06T10:27:56.840295Z"
    }
   },
   "outputs": [],
   "source": [
    "from tianshou.data import Batch\n",
    "\n",
    "b = Batch(**_TREE_DATA_2)"
   ]
  },
  {
   "cell_type": "code",
   "execution_count": 9,
   "id": "cb0777c3",
   "metadata": {
    "execution": {
     "iopub.execute_input": "2023-03-06T10:27:56.844293Z",
     "iopub.status.busy": "2023-03-06T10:27:56.843790Z",
     "iopub.status.idle": "2023-03-06T10:27:56.849083Z",
     "shell.execute_reply": "2023-03-06T10:27:56.848460Z"
    }
   },
   "outputs": [
    {
     "data": {
      "text/plain": [
       "Batch(\n",
       "    a: tensor([[ 0.0194, -2.3495, -1.0700],\n",
       "               [ 0.6895, -0.0388,  2.4030]]),\n",
       "    x: Batch(\n",
       "           c: tensor([[ 1.3170,  0.3832, -0.7532,  0.4970],\n",
       "                      [-0.9420, -0.4518, -0.3240,  1.6024],\n",
       "                      [ 0.5700, -0.4530,  0.8019,  0.2725]]),\n",
       "       ),\n",
       ")"
      ]
     },
     "execution_count": 9,
     "metadata": {},
     "output_type": "execute_result"
    }
   ],
   "source": [
    "b"
   ]
  },
  {
   "cell_type": "code",
   "execution_count": 10,
   "id": "43ef8ea3",
   "metadata": {
    "execution": {
     "iopub.execute_input": "2023-03-06T10:27:56.851596Z",
     "iopub.status.busy": "2023-03-06T10:27:56.851257Z",
     "iopub.status.idle": "2023-03-06T10:27:56.856299Z",
     "shell.execute_reply": "2023-03-06T10:27:56.855694Z"
    }
   },
   "outputs": [
    {
     "data": {
      "text/plain": [
       "tensor([[ 0.0194, -2.3495, -1.0700],\n",
       "        [ 0.6895, -0.0388,  2.4030]])"
      ]
     },
     "execution_count": 10,
     "metadata": {},
     "output_type": "execute_result"
    }
   ],
   "source": [
    "b.a"
   ]
  },
  {
   "cell_type": "code",
   "execution_count": 11,
   "id": "b785ab72",
   "metadata": {
    "execution": {
     "iopub.execute_input": "2023-03-06T10:27:56.858983Z",
     "iopub.status.busy": "2023-03-06T10:27:56.858646Z",
     "iopub.status.idle": "2023-03-06T10:28:01.352187Z",
     "shell.execute_reply": "2023-03-06T10:28:01.351455Z"
    }
   },
   "outputs": [
    {
     "name": "stdout",
     "output_type": "stream",
     "text": [
      "55 ns ± 0.0294 ns per loop (mean ± std. dev. of 7 runs, 10,000,000 loops each)\n"
     ]
    }
   ],
   "source": [
    "%timeit b.a"
   ]
  },
  {
   "cell_type": "code",
   "execution_count": 12,
   "id": "ad54dc69",
   "metadata": {
    "execution": {
     "iopub.execute_input": "2023-03-06T10:28:01.355039Z",
     "iopub.status.busy": "2023-03-06T10:28:01.354673Z",
     "iopub.status.idle": "2023-03-06T10:28:01.361056Z",
     "shell.execute_reply": "2023-03-06T10:28:01.360469Z"
    }
   },
   "outputs": [
    {
     "data": {
      "text/plain": [
       "Batch(\n",
       "    a: tensor([[ 0.4958,  1.3616, -0.8140],\n",
       "               [-0.9261,  1.1696, -0.1840]]),\n",
       "    x: Batch(\n",
       "           c: tensor([[ 1.3170,  0.3832, -0.7532,  0.4970],\n",
       "                      [-0.9420, -0.4518, -0.3240,  1.6024],\n",
       "                      [ 0.5700, -0.4530,  0.8019,  0.2725]]),\n",
       "       ),\n",
       ")"
      ]
     },
     "execution_count": 12,
     "metadata": {},
     "output_type": "execute_result"
    }
   ],
   "source": [
    "new_value = torch.randn(2, 3)\n",
    "b.a = new_value\n",
    "\n",
    "b"
   ]
  },
  {
   "cell_type": "code",
   "execution_count": 13,
   "id": "29b1d0bf",
   "metadata": {
    "execution": {
     "iopub.execute_input": "2023-03-06T10:28:01.363373Z",
     "iopub.status.busy": "2023-03-06T10:28:01.363164Z",
     "iopub.status.idle": "2023-03-06T10:28:05.267668Z",
     "shell.execute_reply": "2023-03-06T10:28:05.266993Z"
    }
   },
   "outputs": [
    {
     "name": "stdout",
     "output_type": "stream",
     "text": [
      "480 ns ± 0.112 ns per loop (mean ± std. dev. of 7 runs, 1,000,000 loops each)\n"
     ]
    }
   ],
   "source": [
    "%timeit b.a = new_value"
   ]
  },
  {
   "cell_type": "markdown",
   "id": "b61ad1d0",
   "metadata": {},
   "source": [
    "## Initialization"
   ]
  },
  {
   "cell_type": "markdown",
   "id": "d70f0d54",
   "metadata": {},
   "source": [
    "### TreeValue's Initialization"
   ]
  },
  {
   "cell_type": "code",
   "execution_count": 14,
   "id": "d32a679b",
   "metadata": {
    "execution": {
     "iopub.execute_input": "2023-03-06T10:28:05.270902Z",
     "iopub.status.busy": "2023-03-06T10:28:05.270335Z",
     "iopub.status.idle": "2023-03-06T10:28:12.378555Z",
     "shell.execute_reply": "2023-03-06T10:28:12.377879Z"
    }
   },
   "outputs": [
    {
     "name": "stdout",
     "output_type": "stream",
     "text": [
      "876 ns ± 1.46 ns per loop (mean ± std. dev. of 7 runs, 1,000,000 loops each)\n"
     ]
    }
   ],
   "source": [
    "%timeit FastTreeValue(_TREE_DATA_1)"
   ]
  },
  {
   "cell_type": "markdown",
   "id": "24f3707b",
   "metadata": {},
   "source": [
    "### Tianshou Batch's Initialization"
   ]
  },
  {
   "cell_type": "code",
   "execution_count": 15,
   "id": "ac3958df",
   "metadata": {
    "execution": {
     "iopub.execute_input": "2023-03-06T10:28:12.381300Z",
     "iopub.status.busy": "2023-03-06T10:28:12.380941Z",
     "iopub.status.idle": "2023-03-06T10:28:21.798194Z",
     "shell.execute_reply": "2023-03-06T10:28:21.797477Z"
    }
   },
   "outputs": [
    {
     "name": "stdout",
     "output_type": "stream",
     "text": [
      "11.6 µs ± 17.8 ns per loop (mean ± std. dev. of 7 runs, 100,000 loops each)\n"
     ]
    }
   ],
   "source": [
    "%timeit Batch(**_TREE_DATA_1)"
   ]
  },
  {
   "cell_type": "markdown",
   "id": "1ab82e2d",
   "metadata": {},
   "source": [
    "## Deep Copy Operation"
   ]
  },
  {
   "cell_type": "code",
   "execution_count": 16,
   "id": "210a9442",
   "metadata": {
    "execution": {
     "iopub.execute_input": "2023-03-06T10:28:21.801049Z",
     "iopub.status.busy": "2023-03-06T10:28:21.800716Z",
     "iopub.status.idle": "2023-03-06T10:28:21.804955Z",
     "shell.execute_reply": "2023-03-06T10:28:21.803838Z"
    }
   },
   "outputs": [],
   "source": [
    "import copy"
   ]
  },
  {
   "cell_type": "markdown",
   "id": "5a736274",
   "metadata": {},
   "source": [
    "### Deep Copy of TreeValue"
   ]
  },
  {
   "cell_type": "code",
   "execution_count": 17,
   "id": "f9bcadd6",
   "metadata": {
    "execution": {
     "iopub.execute_input": "2023-03-06T10:28:21.807493Z",
     "iopub.status.busy": "2023-03-06T10:28:21.807166Z",
     "iopub.status.idle": "2023-03-06T10:28:33.242796Z",
     "shell.execute_reply": "2023-03-06T10:28:33.242213Z"
    }
   },
   "outputs": [
    {
     "name": "stdout",
     "output_type": "stream",
     "text": [
      "141 µs ± 535 ns per loop (mean ± std. dev. of 7 runs, 10,000 loops each)\n"
     ]
    }
   ],
   "source": [
    "t3 = FastTreeValue(_TREE_DATA_3)\n",
    "%timeit copy.deepcopy(t3)"
   ]
  },
  {
   "cell_type": "markdown",
   "id": "bf8be7ea",
   "metadata": {},
   "source": [
    "### Deep Copy of Tianshou Batch"
   ]
  },
  {
   "cell_type": "code",
   "execution_count": 18,
   "id": "91998e6f",
   "metadata": {
    "execution": {
     "iopub.execute_input": "2023-03-06T10:28:33.246992Z",
     "iopub.status.busy": "2023-03-06T10:28:33.245736Z",
     "iopub.status.idle": "2023-03-06T10:28:44.882798Z",
     "shell.execute_reply": "2023-03-06T10:28:44.882221Z"
    }
   },
   "outputs": [
    {
     "name": "stdout",
     "output_type": "stream",
     "text": [
      "143 µs ± 577 ns per loop (mean ± std. dev. of 7 runs, 10,000 loops each)\n"
     ]
    }
   ],
   "source": [
    "b3 = Batch(**_TREE_DATA_3)\n",
    "%timeit copy.deepcopy(b3)"
   ]
  },
  {
   "cell_type": "markdown",
   "id": "223162fb",
   "metadata": {},
   "source": [
    "## Stack, Concat and Split Operation"
   ]
  },
  {
   "cell_type": "markdown",
   "id": "85fa4a73",
   "metadata": {},
   "source": [
    "### Performance of TreeValue"
   ]
  },
  {
   "cell_type": "code",
   "execution_count": 19,
   "id": "a0c2b697",
   "metadata": {
    "execution": {
     "iopub.execute_input": "2023-03-06T10:28:44.886280Z",
     "iopub.status.busy": "2023-03-06T10:28:44.885683Z",
     "iopub.status.idle": "2023-03-06T10:28:44.889924Z",
     "shell.execute_reply": "2023-03-06T10:28:44.889332Z"
    }
   },
   "outputs": [],
   "source": [
    "trees = [FastTreeValue(_TREE_DATA_2) for _ in range(8)]"
   ]
  },
  {
   "cell_type": "code",
   "execution_count": 20,
   "id": "017ea5a5",
   "metadata": {
    "execution": {
     "iopub.execute_input": "2023-03-06T10:28:44.892581Z",
     "iopub.status.busy": "2023-03-06T10:28:44.892227Z",
     "iopub.status.idle": "2023-03-06T10:28:44.898857Z",
     "shell.execute_reply": "2023-03-06T10:28:44.898352Z"
    }
   },
   "outputs": [
    {
     "data": {
      "text/plain": [
       "<FastTreeValue 0x7fd818880b80>\n",
       "├── 'a' --> tensor([[[ 0.0194, -2.3495, -1.0700],\n",
       "│                    [ 0.6895, -0.0388,  2.4030]],\n",
       "│           \n",
       "│                   [[ 0.0194, -2.3495, -1.0700],\n",
       "│                    [ 0.6895, -0.0388,  2.4030]],\n",
       "│           \n",
       "│                   [[ 0.0194, -2.3495, -1.0700],\n",
       "│                    [ 0.6895, -0.0388,  2.4030]],\n",
       "│           \n",
       "│                   [[ 0.0194, -2.3495, -1.0700],\n",
       "│                    [ 0.6895, -0.0388,  2.4030]],\n",
       "│           \n",
       "│                   [[ 0.0194, -2.3495, -1.0700],\n",
       "│                    [ 0.6895, -0.0388,  2.4030]],\n",
       "│           \n",
       "│                   [[ 0.0194, -2.3495, -1.0700],\n",
       "│                    [ 0.6895, -0.0388,  2.4030]],\n",
       "│           \n",
       "│                   [[ 0.0194, -2.3495, -1.0700],\n",
       "│                    [ 0.6895, -0.0388,  2.4030]],\n",
       "│           \n",
       "│                   [[ 0.0194, -2.3495, -1.0700],\n",
       "│                    [ 0.6895, -0.0388,  2.4030]]])\n",
       "└── 'x' --> <FastTreeValue 0x7fd8c0fb2d00>\n",
       "    └── 'c' --> tensor([[[ 1.3170,  0.3832, -0.7532,  0.4970],\n",
       "                         [-0.9420, -0.4518, -0.3240,  1.6024],\n",
       "                         [ 0.5700, -0.4530,  0.8019,  0.2725]],\n",
       "                \n",
       "                        [[ 1.3170,  0.3832, -0.7532,  0.4970],\n",
       "                         [-0.9420, -0.4518, -0.3240,  1.6024],\n",
       "                         [ 0.5700, -0.4530,  0.8019,  0.2725]],\n",
       "                \n",
       "                        [[ 1.3170,  0.3832, -0.7532,  0.4970],\n",
       "                         [-0.9420, -0.4518, -0.3240,  1.6024],\n",
       "                         [ 0.5700, -0.4530,  0.8019,  0.2725]],\n",
       "                \n",
       "                        [[ 1.3170,  0.3832, -0.7532,  0.4970],\n",
       "                         [-0.9420, -0.4518, -0.3240,  1.6024],\n",
       "                         [ 0.5700, -0.4530,  0.8019,  0.2725]],\n",
       "                \n",
       "                        [[ 1.3170,  0.3832, -0.7532,  0.4970],\n",
       "                         [-0.9420, -0.4518, -0.3240,  1.6024],\n",
       "                         [ 0.5700, -0.4530,  0.8019,  0.2725]],\n",
       "                \n",
       "                        [[ 1.3170,  0.3832, -0.7532,  0.4970],\n",
       "                         [-0.9420, -0.4518, -0.3240,  1.6024],\n",
       "                         [ 0.5700, -0.4530,  0.8019,  0.2725]],\n",
       "                \n",
       "                        [[ 1.3170,  0.3832, -0.7532,  0.4970],\n",
       "                         [-0.9420, -0.4518, -0.3240,  1.6024],\n",
       "                         [ 0.5700, -0.4530,  0.8019,  0.2725]],\n",
       "                \n",
       "                        [[ 1.3170,  0.3832, -0.7532,  0.4970],\n",
       "                         [-0.9420, -0.4518, -0.3240,  1.6024],\n",
       "                         [ 0.5700, -0.4530,  0.8019,  0.2725]]])"
      ]
     },
     "execution_count": 20,
     "metadata": {},
     "output_type": "execute_result"
    }
   ],
   "source": [
    "t_stack = FastTreeValue.func(subside=True)(torch.stack)\n",
    "\n",
    "t_stack(trees)"
   ]
  },
  {
   "cell_type": "code",
   "execution_count": 21,
   "id": "f8b3f415",
   "metadata": {
    "execution": {
     "iopub.execute_input": "2023-03-06T10:28:44.901168Z",
     "iopub.status.busy": "2023-03-06T10:28:44.900840Z",
     "iopub.status.idle": "2023-03-06T10:28:47.494001Z",
     "shell.execute_reply": "2023-03-06T10:28:47.493285Z"
    }
   },
   "outputs": [
    {
     "name": "stdout",
     "output_type": "stream",
     "text": [
      "31.9 µs ± 54.3 ns per loop (mean ± std. dev. of 7 runs, 10,000 loops each)\n"
     ]
    }
   ],
   "source": [
    "%timeit t_stack(trees)"
   ]
  },
  {
   "cell_type": "code",
   "execution_count": 22,
   "id": "94b56771",
   "metadata": {
    "execution": {
     "iopub.execute_input": "2023-03-06T10:28:47.496785Z",
     "iopub.status.busy": "2023-03-06T10:28:47.496425Z",
     "iopub.status.idle": "2023-03-06T10:28:47.503493Z",
     "shell.execute_reply": "2023-03-06T10:28:47.502871Z"
    }
   },
   "outputs": [
    {
     "data": {
      "text/plain": [
       "<FastTreeValue 0x7fd811beef40>\n",
       "├── 'a' --> tensor([[ 0.0194, -2.3495, -1.0700],\n",
       "│                   [ 0.6895, -0.0388,  2.4030],\n",
       "│                   [ 0.0194, -2.3495, -1.0700],\n",
       "│                   [ 0.6895, -0.0388,  2.4030],\n",
       "│                   [ 0.0194, -2.3495, -1.0700],\n",
       "│                   [ 0.6895, -0.0388,  2.4030],\n",
       "│                   [ 0.0194, -2.3495, -1.0700],\n",
       "│                   [ 0.6895, -0.0388,  2.4030],\n",
       "│                   [ 0.0194, -2.3495, -1.0700],\n",
       "│                   [ 0.6895, -0.0388,  2.4030],\n",
       "│                   [ 0.0194, -2.3495, -1.0700],\n",
       "│                   [ 0.6895, -0.0388,  2.4030],\n",
       "│                   [ 0.0194, -2.3495, -1.0700],\n",
       "│                   [ 0.6895, -0.0388,  2.4030],\n",
       "│                   [ 0.0194, -2.3495, -1.0700],\n",
       "│                   [ 0.6895, -0.0388,  2.4030]])\n",
       "└── 'x' --> <FastTreeValue 0x7fd818a56a60>\n",
       "    └── 'c' --> tensor([[ 1.3170,  0.3832, -0.7532,  0.4970],\n",
       "                        [-0.9420, -0.4518, -0.3240,  1.6024],\n",
       "                        [ 0.5700, -0.4530,  0.8019,  0.2725],\n",
       "                        [ 1.3170,  0.3832, -0.7532,  0.4970],\n",
       "                        [-0.9420, -0.4518, -0.3240,  1.6024],\n",
       "                        [ 0.5700, -0.4530,  0.8019,  0.2725],\n",
       "                        [ 1.3170,  0.3832, -0.7532,  0.4970],\n",
       "                        [-0.9420, -0.4518, -0.3240,  1.6024],\n",
       "                        [ 0.5700, -0.4530,  0.8019,  0.2725],\n",
       "                        [ 1.3170,  0.3832, -0.7532,  0.4970],\n",
       "                        [-0.9420, -0.4518, -0.3240,  1.6024],\n",
       "                        [ 0.5700, -0.4530,  0.8019,  0.2725],\n",
       "                        [ 1.3170,  0.3832, -0.7532,  0.4970],\n",
       "                        [-0.9420, -0.4518, -0.3240,  1.6024],\n",
       "                        [ 0.5700, -0.4530,  0.8019,  0.2725],\n",
       "                        [ 1.3170,  0.3832, -0.7532,  0.4970],\n",
       "                        [-0.9420, -0.4518, -0.3240,  1.6024],\n",
       "                        [ 0.5700, -0.4530,  0.8019,  0.2725],\n",
       "                        [ 1.3170,  0.3832, -0.7532,  0.4970],\n",
       "                        [-0.9420, -0.4518, -0.3240,  1.6024],\n",
       "                        [ 0.5700, -0.4530,  0.8019,  0.2725],\n",
       "                        [ 1.3170,  0.3832, -0.7532,  0.4970],\n",
       "                        [-0.9420, -0.4518, -0.3240,  1.6024],\n",
       "                        [ 0.5700, -0.4530,  0.8019,  0.2725]])"
      ]
     },
     "execution_count": 22,
     "metadata": {},
     "output_type": "execute_result"
    }
   ],
   "source": [
    "t_cat = FastTreeValue.func(subside=True)(torch.cat)\n",
    "\n",
    "t_cat(trees)"
   ]
  },
  {
   "cell_type": "code",
   "execution_count": 23,
   "id": "5e9c06a6",
   "metadata": {
    "execution": {
     "iopub.execute_input": "2023-03-06T10:28:47.505891Z",
     "iopub.status.busy": "2023-03-06T10:28:47.505562Z",
     "iopub.status.idle": "2023-03-06T10:28:49.941092Z",
     "shell.execute_reply": "2023-03-06T10:28:49.940435Z"
    }
   },
   "outputs": [
    {
     "name": "stdout",
     "output_type": "stream",
     "text": [
      "30 µs ± 48.9 ns per loop (mean ± std. dev. of 7 runs, 10,000 loops each)\n"
     ]
    }
   ],
   "source": [
    "%timeit t_cat(trees)"
   ]
  },
  {
   "cell_type": "code",
   "execution_count": 24,
   "id": "a3ab5c8f",
   "metadata": {
    "execution": {
     "iopub.execute_input": "2023-03-06T10:28:49.943802Z",
     "iopub.status.busy": "2023-03-06T10:28:49.943441Z",
     "iopub.status.idle": "2023-03-06T10:28:54.875216Z",
     "shell.execute_reply": "2023-03-06T10:28:54.874557Z"
    }
   },
   "outputs": [
    {
     "name": "stdout",
     "output_type": "stream",
     "text": [
      "60.7 µs ± 210 ns per loop (mean ± std. dev. of 7 runs, 10,000 loops each)\n"
     ]
    }
   ],
   "source": [
    "t_split = FastTreeValue.func(rise=True)(torch.split)\n",
    "tree = FastTreeValue({\n",
    "    'obs': torch.randn(8, 4, 84, 84),\n",
    "    'action': torch.randint(0, 6, size=(8, 1,)),\n",
    "    'reward': torch.rand(8, 1),\n",
    "})\n",
    "\n",
    "%timeit t_split(tree, 1)"
   ]
  },
  {
   "cell_type": "markdown",
   "id": "31c3ec0b",
   "metadata": {},
   "source": [
    "### Performance of Tianshou Batch"
   ]
  },
  {
   "cell_type": "code",
   "execution_count": 25,
   "id": "9ead828a",
   "metadata": {
    "execution": {
     "iopub.execute_input": "2023-03-06T10:28:54.878285Z",
     "iopub.status.busy": "2023-03-06T10:28:54.877937Z",
     "iopub.status.idle": "2023-03-06T10:28:54.885807Z",
     "shell.execute_reply": "2023-03-06T10:28:54.885217Z"
    }
   },
   "outputs": [
    {
     "data": {
      "text/plain": [
       "Batch(\n",
       "    x: Batch(\n",
       "           c: tensor([[[ 1.3170,  0.3832, -0.7532,  0.4970],\n",
       "                       [-0.9420, -0.4518, -0.3240,  1.6024],\n",
       "                       [ 0.5700, -0.4530,  0.8019,  0.2725]],\n",
       "              \n",
       "                      [[ 1.3170,  0.3832, -0.7532,  0.4970],\n",
       "                       [-0.9420, -0.4518, -0.3240,  1.6024],\n",
       "                       [ 0.5700, -0.4530,  0.8019,  0.2725]],\n",
       "              \n",
       "                      [[ 1.3170,  0.3832, -0.7532,  0.4970],\n",
       "                       [-0.9420, -0.4518, -0.3240,  1.6024],\n",
       "                       [ 0.5700, -0.4530,  0.8019,  0.2725]],\n",
       "              \n",
       "                      [[ 1.3170,  0.3832, -0.7532,  0.4970],\n",
       "                       [-0.9420, -0.4518, -0.3240,  1.6024],\n",
       "                       [ 0.5700, -0.4530,  0.8019,  0.2725]],\n",
       "              \n",
       "                      [[ 1.3170,  0.3832, -0.7532,  0.4970],\n",
       "                       [-0.9420, -0.4518, -0.3240,  1.6024],\n",
       "                       [ 0.5700, -0.4530,  0.8019,  0.2725]],\n",
       "              \n",
       "                      [[ 1.3170,  0.3832, -0.7532,  0.4970],\n",
       "                       [-0.9420, -0.4518, -0.3240,  1.6024],\n",
       "                       [ 0.5700, -0.4530,  0.8019,  0.2725]],\n",
       "              \n",
       "                      [[ 1.3170,  0.3832, -0.7532,  0.4970],\n",
       "                       [-0.9420, -0.4518, -0.3240,  1.6024],\n",
       "                       [ 0.5700, -0.4530,  0.8019,  0.2725]],\n",
       "              \n",
       "                      [[ 1.3170,  0.3832, -0.7532,  0.4970],\n",
       "                       [-0.9420, -0.4518, -0.3240,  1.6024],\n",
       "                       [ 0.5700, -0.4530,  0.8019,  0.2725]]]),\n",
       "       ),\n",
       "    a: tensor([[[ 0.0194, -2.3495, -1.0700],\n",
       "                [ 0.6895, -0.0388,  2.4030]],\n",
       "       \n",
       "               [[ 0.0194, -2.3495, -1.0700],\n",
       "                [ 0.6895, -0.0388,  2.4030]],\n",
       "       \n",
       "               [[ 0.0194, -2.3495, -1.0700],\n",
       "                [ 0.6895, -0.0388,  2.4030]],\n",
       "       \n",
       "               [[ 0.0194, -2.3495, -1.0700],\n",
       "                [ 0.6895, -0.0388,  2.4030]],\n",
       "       \n",
       "               [[ 0.0194, -2.3495, -1.0700],\n",
       "                [ 0.6895, -0.0388,  2.4030]],\n",
       "       \n",
       "               [[ 0.0194, -2.3495, -1.0700],\n",
       "                [ 0.6895, -0.0388,  2.4030]],\n",
       "       \n",
       "               [[ 0.0194, -2.3495, -1.0700],\n",
       "                [ 0.6895, -0.0388,  2.4030]],\n",
       "       \n",
       "               [[ 0.0194, -2.3495, -1.0700],\n",
       "                [ 0.6895, -0.0388,  2.4030]]]),\n",
       ")"
      ]
     },
     "execution_count": 25,
     "metadata": {},
     "output_type": "execute_result"
    }
   ],
   "source": [
    "batches = [Batch(**_TREE_DATA_2) for _ in range(8)]\n",
    "\n",
    "Batch.stack(batches)"
   ]
  },
  {
   "cell_type": "code",
   "execution_count": 26,
   "id": "ec9037a3",
   "metadata": {
    "execution": {
     "iopub.execute_input": "2023-03-06T10:28:54.888461Z",
     "iopub.status.busy": "2023-03-06T10:28:54.888134Z",
     "iopub.status.idle": "2023-03-06T10:29:01.281631Z",
     "shell.execute_reply": "2023-03-06T10:29:01.280968Z"
    }
   },
   "outputs": [
    {
     "name": "stdout",
     "output_type": "stream",
     "text": [
      "78.7 µs ± 253 ns per loop (mean ± std. dev. of 7 runs, 10,000 loops each)\n"
     ]
    }
   ],
   "source": [
    "%timeit Batch.stack(batches)"
   ]
  },
  {
   "cell_type": "code",
   "execution_count": 27,
   "id": "cb8ab77e",
   "metadata": {
    "execution": {
     "iopub.execute_input": "2023-03-06T10:29:01.284287Z",
     "iopub.status.busy": "2023-03-06T10:29:01.283932Z",
     "iopub.status.idle": "2023-03-06T10:29:01.291373Z",
     "shell.execute_reply": "2023-03-06T10:29:01.290803Z"
    }
   },
   "outputs": [
    {
     "data": {
      "text/plain": [
       "Batch(\n",
       "    x: Batch(\n",
       "           c: tensor([[ 1.3170,  0.3832, -0.7532,  0.4970],\n",
       "                      [-0.9420, -0.4518, -0.3240,  1.6024],\n",
       "                      [ 0.5700, -0.4530,  0.8019,  0.2725],\n",
       "                      [ 1.3170,  0.3832, -0.7532,  0.4970],\n",
       "                      [-0.9420, -0.4518, -0.3240,  1.6024],\n",
       "                      [ 0.5700, -0.4530,  0.8019,  0.2725],\n",
       "                      [ 1.3170,  0.3832, -0.7532,  0.4970],\n",
       "                      [-0.9420, -0.4518, -0.3240,  1.6024],\n",
       "                      [ 0.5700, -0.4530,  0.8019,  0.2725],\n",
       "                      [ 1.3170,  0.3832, -0.7532,  0.4970],\n",
       "                      [-0.9420, -0.4518, -0.3240,  1.6024],\n",
       "                      [ 0.5700, -0.4530,  0.8019,  0.2725],\n",
       "                      [ 1.3170,  0.3832, -0.7532,  0.4970],\n",
       "                      [-0.9420, -0.4518, -0.3240,  1.6024],\n",
       "                      [ 0.5700, -0.4530,  0.8019,  0.2725],\n",
       "                      [ 1.3170,  0.3832, -0.7532,  0.4970],\n",
       "                      [-0.9420, -0.4518, -0.3240,  1.6024],\n",
       "                      [ 0.5700, -0.4530,  0.8019,  0.2725],\n",
       "                      [ 1.3170,  0.3832, -0.7532,  0.4970],\n",
       "                      [-0.9420, -0.4518, -0.3240,  1.6024],\n",
       "                      [ 0.5700, -0.4530,  0.8019,  0.2725],\n",
       "                      [ 1.3170,  0.3832, -0.7532,  0.4970],\n",
       "                      [-0.9420, -0.4518, -0.3240,  1.6024],\n",
       "                      [ 0.5700, -0.4530,  0.8019,  0.2725]]),\n",
       "       ),\n",
       "    a: tensor([[ 0.0194, -2.3495, -1.0700],\n",
       "               [ 0.6895, -0.0388,  2.4030],\n",
       "               [ 0.0194, -2.3495, -1.0700],\n",
       "               [ 0.6895, -0.0388,  2.4030],\n",
       "               [ 0.0194, -2.3495, -1.0700],\n",
       "               [ 0.6895, -0.0388,  2.4030],\n",
       "               [ 0.0194, -2.3495, -1.0700],\n",
       "               [ 0.6895, -0.0388,  2.4030],\n",
       "               [ 0.0194, -2.3495, -1.0700],\n",
       "               [ 0.6895, -0.0388,  2.4030],\n",
       "               [ 0.0194, -2.3495, -1.0700],\n",
       "               [ 0.6895, -0.0388,  2.4030],\n",
       "               [ 0.0194, -2.3495, -1.0700],\n",
       "               [ 0.6895, -0.0388,  2.4030],\n",
       "               [ 0.0194, -2.3495, -1.0700],\n",
       "               [ 0.6895, -0.0388,  2.4030]]),\n",
       ")"
      ]
     },
     "execution_count": 27,
     "metadata": {},
     "output_type": "execute_result"
    }
   ],
   "source": [
    "Batch.cat(batches)"
   ]
  },
  {
   "cell_type": "code",
   "execution_count": 28,
   "id": "18dfb045",
   "metadata": {
    "execution": {
     "iopub.execute_input": "2023-03-06T10:29:01.293727Z",
     "iopub.status.busy": "2023-03-06T10:29:01.293396Z",
     "iopub.status.idle": "2023-03-06T10:29:13.024533Z",
     "shell.execute_reply": "2023-03-06T10:29:13.023868Z"
    }
   },
   "outputs": [
    {
     "name": "stdout",
     "output_type": "stream",
     "text": [
      "144 µs ± 208 ns per loop (mean ± std. dev. of 7 runs, 10,000 loops each)\n"
     ]
    }
   ],
   "source": [
    "%timeit Batch.cat(batches)"
   ]
  },
  {
   "cell_type": "code",
   "execution_count": 29,
   "id": "c6688e51",
   "metadata": {
    "execution": {
     "iopub.execute_input": "2023-03-06T10:29:13.027410Z",
     "iopub.status.busy": "2023-03-06T10:29:13.027070Z",
     "iopub.status.idle": "2023-03-06T10:29:15.568372Z",
     "shell.execute_reply": "2023-03-06T10:29:15.567614Z"
    }
   },
   "outputs": [
    {
     "name": "stdout",
     "output_type": "stream",
     "text": [
      "312 µs ± 3.31 µs per loop (mean ± std. dev. of 7 runs, 1,000 loops each)\n"
     ]
    }
   ],
   "source": [
    "batch = Batch({\n",
    "    'obs': torch.randn(8, 4, 84, 84),\n",
    "    'action': torch.randint(0, 6, size=(8, 1,)),\n",
    "    'reward': torch.rand(8, 1)}\n",
    ")\n",
    "\n",
    "%timeit list(Batch.split(batch, 1, shuffle=False, merge_last=True))"
   ]
  },
  {
   "cell_type": "code",
   "execution_count": null,
   "id": "2539fbd9",
   "metadata": {},
   "outputs": [],
   "source": []
  }
 ],
 "metadata": {
  "kernelspec": {
   "display_name": "Python 3 (ipykernel)",
   "language": "python",
   "name": "python3"
  },
  "language_info": {
   "codemirror_mode": {
    "name": "ipython",
    "version": 3
   },
   "file_extension": ".py",
   "mimetype": "text/x-python",
   "name": "python",
   "nbconvert_exporter": "python",
   "pygments_lexer": "ipython3",
   "version": "3.8.16"
  }
 },
 "nbformat": 4,
 "nbformat_minor": 5
}
