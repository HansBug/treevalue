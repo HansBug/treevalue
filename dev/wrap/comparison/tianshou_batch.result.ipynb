{
 "cells": [
  {
   "cell_type": "markdown",
   "id": "9d39d946",
   "metadata": {},
   "source": [
    "# Comparison Between TreeValue and Tianshou Batch"
   ]
  },
  {
   "cell_type": "markdown",
   "id": "3c6db2d4",
   "metadata": {},
   "source": [
    "In this section, we will take a look at the feature and performance of the [Tianshou Batch](https://github.com/thu-ml/tianshou) library, which is developed by Tsinghua Machine Learning Group."
   ]
  },
  {
   "cell_type": "markdown",
   "id": "069361b0",
   "metadata": {},
   "source": [
    "Before starting the comparison, let us define some thing."
   ]
  },
  {
   "cell_type": "code",
   "execution_count": 1,
   "id": "06fc8d26",
   "metadata": {
    "execution": {
     "iopub.execute_input": "2023-02-27T12:13:30.928014Z",
     "iopub.status.busy": "2023-02-27T12:13:30.927632Z",
     "iopub.status.idle": "2023-02-27T12:13:31.865389Z",
     "shell.execute_reply": "2023-02-27T12:13:31.864687Z"
    }
   },
   "outputs": [
    {
     "name": "stderr",
     "output_type": "stream",
     "text": [
      "/opt/hostedtoolcache/Python/3.8.16/x64/lib/python3.8/site-packages/tqdm/auto.py:22: TqdmWarning: IProgress not found. Please update jupyter and ipywidgets. See https://ipywidgets.readthedocs.io/en/stable/user_install.html\n",
      "  from .autonotebook import tqdm as notebook_tqdm\n"
     ]
    }
   ],
   "source": [
    "import torch \n",
    "\n",
    "_TREE_DATA_1 = {'a': 1, 'b': 2, 'x': {'c': 3, 'd': 4}}\n",
    "_TREE_DATA_2 = {\n",
    "    'a': torch.randn(2, 3), \n",
    "    'x': {\n",
    "        'c': torch.randn(3, 4)\n",
    "    },\n",
    "}\n",
    "_TREE_DATA_3 = {\n",
    "    'obs': torch.randn(4, 84, 84),\n",
    "    'action': torch.randint(0, 6, size=(1,)),\n",
    "    'reward': torch.rand(1),\n",
    "}"
   ]
  },
  {
   "cell_type": "markdown",
   "id": "83461b25",
   "metadata": {},
   "source": [
    "## Read and Write Operation"
   ]
  },
  {
   "cell_type": "markdown",
   "id": "067b3f73",
   "metadata": {},
   "source": [
    "Reading and writing are the two most common operations in the tree data structure based on the data model (TreeValue and Tianshou Batch both belong to this type), so this section will compare the reading and writing performance of these two libraries."
   ]
  },
  {
   "cell_type": "markdown",
   "id": "5d09a5b7",
   "metadata": {},
   "source": [
    "### TreeValue's Get and Set"
   ]
  },
  {
   "cell_type": "code",
   "execution_count": 2,
   "id": "9519c4bb",
   "metadata": {
    "execution": {
     "iopub.execute_input": "2023-02-27T12:13:31.868970Z",
     "iopub.status.busy": "2023-02-27T12:13:31.868660Z",
     "iopub.status.idle": "2023-02-27T12:13:31.902799Z",
     "shell.execute_reply": "2023-02-27T12:13:31.902132Z"
    }
   },
   "outputs": [],
   "source": [
    "from treevalue import FastTreeValue\n",
    "\n",
    "t = FastTreeValue(_TREE_DATA_2)"
   ]
  },
  {
   "cell_type": "code",
   "execution_count": 3,
   "id": "11c37677",
   "metadata": {
    "execution": {
     "iopub.execute_input": "2023-02-27T12:13:31.906287Z",
     "iopub.status.busy": "2023-02-27T12:13:31.905680Z",
     "iopub.status.idle": "2023-02-27T12:13:31.915224Z",
     "shell.execute_reply": "2023-02-27T12:13:31.914629Z"
    }
   },
   "outputs": [
    {
     "data": {
      "text/plain": [
       "<FastTreeValue 0x7f68108588e0>\n",
       "├── 'a' --> tensor([[-0.4506,  1.6953,  0.0186],\n",
       "│                   [-0.8136, -0.2265,  0.2922]])\n",
       "└── 'x' --> <FastTreeValue 0x7f68108cbfd0>\n",
       "    └── 'c' --> tensor([[ 1.0764, -0.2585,  0.3614, -0.5254],\n",
       "                        [ 2.5440, -0.8773, -0.1070,  0.5311],\n",
       "                        [ 1.4577,  0.4764,  0.3511, -0.2365]])"
      ]
     },
     "execution_count": 3,
     "metadata": {},
     "output_type": "execute_result"
    }
   ],
   "source": [
    "t"
   ]
  },
  {
   "cell_type": "code",
   "execution_count": 4,
   "id": "fd70b0b9",
   "metadata": {
    "execution": {
     "iopub.execute_input": "2023-02-27T12:13:31.918148Z",
     "iopub.status.busy": "2023-02-27T12:13:31.917602Z",
     "iopub.status.idle": "2023-02-27T12:13:31.923064Z",
     "shell.execute_reply": "2023-02-27T12:13:31.922483Z"
    }
   },
   "outputs": [
    {
     "data": {
      "text/plain": [
       "tensor([[-0.4506,  1.6953,  0.0186],\n",
       "        [-0.8136, -0.2265,  0.2922]])"
      ]
     },
     "execution_count": 4,
     "metadata": {},
     "output_type": "execute_result"
    }
   ],
   "source": [
    "t.a"
   ]
  },
  {
   "cell_type": "code",
   "execution_count": 5,
   "id": "c18197bd",
   "metadata": {
    "execution": {
     "iopub.execute_input": "2023-02-27T12:13:31.925757Z",
     "iopub.status.busy": "2023-02-27T12:13:31.925220Z",
     "iopub.status.idle": "2023-02-27T12:13:36.740390Z",
     "shell.execute_reply": "2023-02-27T12:13:36.739530Z"
    }
   },
   "outputs": [
    {
     "name": "stdout",
     "output_type": "stream",
     "text": [
      "59.1 ns ± 0.0873 ns per loop (mean ± std. dev. of 7 runs, 10,000,000 loops each)\n"
     ]
    }
   ],
   "source": [
    "%timeit t.a"
   ]
  },
  {
   "cell_type": "code",
   "execution_count": 6,
   "id": "bd52f867",
   "metadata": {
    "execution": {
     "iopub.execute_input": "2023-02-27T12:13:36.743598Z",
     "iopub.status.busy": "2023-02-27T12:13:36.742995Z",
     "iopub.status.idle": "2023-02-27T12:13:36.748998Z",
     "shell.execute_reply": "2023-02-27T12:13:36.748369Z"
    }
   },
   "outputs": [
    {
     "data": {
      "text/plain": [
       "<FastTreeValue 0x7f68108588e0>\n",
       "├── 'a' --> tensor([[-1.7519, -0.0439,  1.3940],\n",
       "│                   [ 0.5891,  0.4093, -0.7613]])\n",
       "└── 'x' --> <FastTreeValue 0x7f68108cbfd0>\n",
       "    └── 'c' --> tensor([[ 1.0764, -0.2585,  0.3614, -0.5254],\n",
       "                        [ 2.5440, -0.8773, -0.1070,  0.5311],\n",
       "                        [ 1.4577,  0.4764,  0.3511, -0.2365]])"
      ]
     },
     "execution_count": 6,
     "metadata": {},
     "output_type": "execute_result"
    }
   ],
   "source": [
    "new_value = torch.randn(2, 3)\n",
    "t.a = new_value\n",
    "\n",
    "t"
   ]
  },
  {
   "cell_type": "code",
   "execution_count": 7,
   "id": "bbe04d1c",
   "metadata": {
    "execution": {
     "iopub.execute_input": "2023-02-27T12:13:36.751685Z",
     "iopub.status.busy": "2023-02-27T12:13:36.751163Z",
     "iopub.status.idle": "2023-02-27T12:13:41.896997Z",
     "shell.execute_reply": "2023-02-27T12:13:41.896103Z"
    }
   },
   "outputs": [
    {
     "name": "stdout",
     "output_type": "stream",
     "text": [
      "63.4 ns ± 0.0629 ns per loop (mean ± std. dev. of 7 runs, 10,000,000 loops each)\n"
     ]
    }
   ],
   "source": [
    "%timeit t.a = new_value"
   ]
  },
  {
   "cell_type": "markdown",
   "id": "48c49731",
   "metadata": {},
   "source": [
    "### Tianshou Batch's Get and Set"
   ]
  },
  {
   "cell_type": "code",
   "execution_count": 8,
   "id": "f1bb14c1",
   "metadata": {
    "execution": {
     "iopub.execute_input": "2023-02-27T12:13:41.900467Z",
     "iopub.status.busy": "2023-02-27T12:13:41.899836Z",
     "iopub.status.idle": "2023-02-27T12:13:42.244541Z",
     "shell.execute_reply": "2023-02-27T12:13:42.243873Z"
    }
   },
   "outputs": [],
   "source": [
    "from tianshou.data import Batch\n",
    "\n",
    "b = Batch(**_TREE_DATA_2)"
   ]
  },
  {
   "cell_type": "code",
   "execution_count": 9,
   "id": "cb0777c3",
   "metadata": {
    "execution": {
     "iopub.execute_input": "2023-02-27T12:13:42.248152Z",
     "iopub.status.busy": "2023-02-27T12:13:42.247491Z",
     "iopub.status.idle": "2023-02-27T12:13:42.254521Z",
     "shell.execute_reply": "2023-02-27T12:13:42.253926Z"
    }
   },
   "outputs": [
    {
     "data": {
      "text/plain": [
       "Batch(\n",
       "    a: tensor([[-0.4506,  1.6953,  0.0186],\n",
       "               [-0.8136, -0.2265,  0.2922]]),\n",
       "    x: Batch(\n",
       "           c: tensor([[ 1.0764, -0.2585,  0.3614, -0.5254],\n",
       "                      [ 2.5440, -0.8773, -0.1070,  0.5311],\n",
       "                      [ 1.4577,  0.4764,  0.3511, -0.2365]]),\n",
       "       ),\n",
       ")"
      ]
     },
     "execution_count": 9,
     "metadata": {},
     "output_type": "execute_result"
    }
   ],
   "source": [
    "b"
   ]
  },
  {
   "cell_type": "code",
   "execution_count": 10,
   "id": "43ef8ea3",
   "metadata": {
    "execution": {
     "iopub.execute_input": "2023-02-27T12:13:42.257513Z",
     "iopub.status.busy": "2023-02-27T12:13:42.257028Z",
     "iopub.status.idle": "2023-02-27T12:13:42.263121Z",
     "shell.execute_reply": "2023-02-27T12:13:42.262532Z"
    }
   },
   "outputs": [
    {
     "data": {
      "text/plain": [
       "tensor([[-0.4506,  1.6953,  0.0186],\n",
       "        [-0.8136, -0.2265,  0.2922]])"
      ]
     },
     "execution_count": 10,
     "metadata": {},
     "output_type": "execute_result"
    }
   ],
   "source": [
    "b.a"
   ]
  },
  {
   "cell_type": "code",
   "execution_count": 11,
   "id": "b785ab72",
   "metadata": {
    "execution": {
     "iopub.execute_input": "2023-02-27T12:13:42.265961Z",
     "iopub.status.busy": "2023-02-27T12:13:42.265486Z",
     "iopub.status.idle": "2023-02-27T12:13:46.753639Z",
     "shell.execute_reply": "2023-02-27T12:13:46.752950Z"
    }
   },
   "outputs": [
    {
     "name": "stdout",
     "output_type": "stream",
     "text": [
      "54.9 ns ± 0.0213 ns per loop (mean ± std. dev. of 7 runs, 10,000,000 loops each)\n"
     ]
    }
   ],
   "source": [
    "%timeit b.a"
   ]
  },
  {
   "cell_type": "code",
   "execution_count": 12,
   "id": "ad54dc69",
   "metadata": {
    "execution": {
     "iopub.execute_input": "2023-02-27T12:13:46.756359Z",
     "iopub.status.busy": "2023-02-27T12:13:46.756119Z",
     "iopub.status.idle": "2023-02-27T12:13:46.762792Z",
     "shell.execute_reply": "2023-02-27T12:13:46.762168Z"
    }
   },
   "outputs": [
    {
     "data": {
      "text/plain": [
       "Batch(\n",
       "    a: tensor([[ 2.4963,  0.6181,  0.2560],\n",
       "               [ 1.1632, -1.0302, -0.3039]]),\n",
       "    x: Batch(\n",
       "           c: tensor([[ 1.0764, -0.2585,  0.3614, -0.5254],\n",
       "                      [ 2.5440, -0.8773, -0.1070,  0.5311],\n",
       "                      [ 1.4577,  0.4764,  0.3511, -0.2365]]),\n",
       "       ),\n",
       ")"
      ]
     },
     "execution_count": 12,
     "metadata": {},
     "output_type": "execute_result"
    }
   ],
   "source": [
    "new_value = torch.randn(2, 3)\n",
    "b.a = new_value\n",
    "\n",
    "b"
   ]
  },
  {
   "cell_type": "code",
   "execution_count": 13,
   "id": "29b1d0bf",
   "metadata": {
    "execution": {
     "iopub.execute_input": "2023-02-27T12:13:46.765541Z",
     "iopub.status.busy": "2023-02-27T12:13:46.765311Z",
     "iopub.status.idle": "2023-02-27T12:13:50.691222Z",
     "shell.execute_reply": "2023-02-27T12:13:50.690496Z"
    }
   },
   "outputs": [
    {
     "name": "stdout",
     "output_type": "stream",
     "text": [
      "483 ns ± 0.129 ns per loop (mean ± std. dev. of 7 runs, 1,000,000 loops each)\n"
     ]
    }
   ],
   "source": [
    "%timeit b.a = new_value"
   ]
  },
  {
   "cell_type": "markdown",
   "id": "b61ad1d0",
   "metadata": {},
   "source": [
    "## Initialization"
   ]
  },
  {
   "cell_type": "markdown",
   "id": "d70f0d54",
   "metadata": {},
   "source": [
    "### TreeValue's Initialization"
   ]
  },
  {
   "cell_type": "code",
   "execution_count": 14,
   "id": "d32a679b",
   "metadata": {
    "execution": {
     "iopub.execute_input": "2023-02-27T12:13:50.694192Z",
     "iopub.status.busy": "2023-02-27T12:13:50.693836Z",
     "iopub.status.idle": "2023-02-27T12:13:59.677287Z",
     "shell.execute_reply": "2023-02-27T12:13:59.676520Z"
    }
   },
   "outputs": [
    {
     "name": "stdout",
     "output_type": "stream",
     "text": [
      "1.11 µs ± 2.22 ns per loop (mean ± std. dev. of 7 runs, 1,000,000 loops each)\n"
     ]
    }
   ],
   "source": [
    "%timeit FastTreeValue(_TREE_DATA_1)"
   ]
  },
  {
   "cell_type": "markdown",
   "id": "24f3707b",
   "metadata": {},
   "source": [
    "### Tianshou Batch's Initialization"
   ]
  },
  {
   "cell_type": "code",
   "execution_count": 15,
   "id": "ac3958df",
   "metadata": {
    "execution": {
     "iopub.execute_input": "2023-02-27T12:13:59.680683Z",
     "iopub.status.busy": "2023-02-27T12:13:59.680150Z",
     "iopub.status.idle": "2023-02-27T12:14:08.833643Z",
     "shell.execute_reply": "2023-02-27T12:14:08.832941Z"
    }
   },
   "outputs": [
    {
     "name": "stdout",
     "output_type": "stream",
     "text": [
      "11.3 µs ± 33.1 ns per loop (mean ± std. dev. of 7 runs, 100,000 loops each)\n"
     ]
    }
   ],
   "source": [
    "%timeit Batch(**_TREE_DATA_1)"
   ]
  },
  {
   "cell_type": "markdown",
   "id": "1ab82e2d",
   "metadata": {},
   "source": [
    "## Deep Copy Operation"
   ]
  },
  {
   "cell_type": "code",
   "execution_count": 16,
   "id": "210a9442",
   "metadata": {
    "execution": {
     "iopub.execute_input": "2023-02-27T12:14:08.836708Z",
     "iopub.status.busy": "2023-02-27T12:14:08.836175Z",
     "iopub.status.idle": "2023-02-27T12:14:08.840496Z",
     "shell.execute_reply": "2023-02-27T12:14:08.839891Z"
    }
   },
   "outputs": [],
   "source": [
    "import copy"
   ]
  },
  {
   "cell_type": "markdown",
   "id": "5a736274",
   "metadata": {},
   "source": [
    "### Deep Copy of TreeValue"
   ]
  },
  {
   "cell_type": "code",
   "execution_count": 17,
   "id": "f9bcadd6",
   "metadata": {
    "execution": {
     "iopub.execute_input": "2023-02-27T12:14:08.844465Z",
     "iopub.status.busy": "2023-02-27T12:14:08.843504Z",
     "iopub.status.idle": "2023-02-27T12:14:19.953909Z",
     "shell.execute_reply": "2023-02-27T12:14:19.953328Z"
    }
   },
   "outputs": [
    {
     "name": "stdout",
     "output_type": "stream",
     "text": [
      "137 µs ± 1.5 µs per loop (mean ± std. dev. of 7 runs, 10,000 loops each)\n"
     ]
    }
   ],
   "source": [
    "t3 = FastTreeValue(_TREE_DATA_3)\n",
    "%timeit copy.deepcopy(t3)"
   ]
  },
  {
   "cell_type": "markdown",
   "id": "bf8be7ea",
   "metadata": {},
   "source": [
    "### Deep Copy of Tianshou Batch"
   ]
  },
  {
   "cell_type": "code",
   "execution_count": 18,
   "id": "91998e6f",
   "metadata": {
    "execution": {
     "iopub.execute_input": "2023-02-27T12:14:19.957460Z",
     "iopub.status.busy": "2023-02-27T12:14:19.956181Z",
     "iopub.status.idle": "2023-02-27T12:14:31.395522Z",
     "shell.execute_reply": "2023-02-27T12:14:31.394960Z"
    }
   },
   "outputs": [
    {
     "name": "stdout",
     "output_type": "stream",
     "text": [
      "141 µs ± 1.04 µs per loop (mean ± std. dev. of 7 runs, 10,000 loops each)\n"
     ]
    }
   ],
   "source": [
    "b3 = Batch(**_TREE_DATA_3)\n",
    "%timeit copy.deepcopy(b3)"
   ]
  },
  {
   "cell_type": "markdown",
   "id": "223162fb",
   "metadata": {},
   "source": [
    "## Stack, Concat and Split Operation"
   ]
  },
  {
   "cell_type": "markdown",
   "id": "85fa4a73",
   "metadata": {},
   "source": [
    "### Performance of TreeValue"
   ]
  },
  {
   "cell_type": "code",
   "execution_count": 19,
   "id": "a0c2b697",
   "metadata": {
    "execution": {
     "iopub.execute_input": "2023-02-27T12:14:31.398482Z",
     "iopub.status.busy": "2023-02-27T12:14:31.398100Z",
     "iopub.status.idle": "2023-02-27T12:14:31.401302Z",
     "shell.execute_reply": "2023-02-27T12:14:31.400755Z"
    }
   },
   "outputs": [],
   "source": [
    "trees = [FastTreeValue(_TREE_DATA_2) for _ in range(8)]"
   ]
  },
  {
   "cell_type": "code",
   "execution_count": 20,
   "id": "017ea5a5",
   "metadata": {
    "execution": {
     "iopub.execute_input": "2023-02-27T12:14:31.404153Z",
     "iopub.status.busy": "2023-02-27T12:14:31.403785Z",
     "iopub.status.idle": "2023-02-27T12:14:31.410633Z",
     "shell.execute_reply": "2023-02-27T12:14:31.410098Z"
    }
   },
   "outputs": [
    {
     "data": {
      "text/plain": [
       "<FastTreeValue 0x7f681085f7c0>\n",
       "├── 'a' --> tensor([[[-0.4506,  1.6953,  0.0186],\n",
       "│                    [-0.8136, -0.2265,  0.2922]],\n",
       "│           \n",
       "│                   [[-0.4506,  1.6953,  0.0186],\n",
       "│                    [-0.8136, -0.2265,  0.2922]],\n",
       "│           \n",
       "│                   [[-0.4506,  1.6953,  0.0186],\n",
       "│                    [-0.8136, -0.2265,  0.2922]],\n",
       "│           \n",
       "│                   [[-0.4506,  1.6953,  0.0186],\n",
       "│                    [-0.8136, -0.2265,  0.2922]],\n",
       "│           \n",
       "│                   [[-0.4506,  1.6953,  0.0186],\n",
       "│                    [-0.8136, -0.2265,  0.2922]],\n",
       "│           \n",
       "│                   [[-0.4506,  1.6953,  0.0186],\n",
       "│                    [-0.8136, -0.2265,  0.2922]],\n",
       "│           \n",
       "│                   [[-0.4506,  1.6953,  0.0186],\n",
       "│                    [-0.8136, -0.2265,  0.2922]],\n",
       "│           \n",
       "│                   [[-0.4506,  1.6953,  0.0186],\n",
       "│                    [-0.8136, -0.2265,  0.2922]]])\n",
       "└── 'x' --> <FastTreeValue 0x7f676d1eb220>\n",
       "    └── 'c' --> tensor([[[ 1.0764, -0.2585,  0.3614, -0.5254],\n",
       "                         [ 2.5440, -0.8773, -0.1070,  0.5311],\n",
       "                         [ 1.4577,  0.4764,  0.3511, -0.2365]],\n",
       "                \n",
       "                        [[ 1.0764, -0.2585,  0.3614, -0.5254],\n",
       "                         [ 2.5440, -0.8773, -0.1070,  0.5311],\n",
       "                         [ 1.4577,  0.4764,  0.3511, -0.2365]],\n",
       "                \n",
       "                        [[ 1.0764, -0.2585,  0.3614, -0.5254],\n",
       "                         [ 2.5440, -0.8773, -0.1070,  0.5311],\n",
       "                         [ 1.4577,  0.4764,  0.3511, -0.2365]],\n",
       "                \n",
       "                        [[ 1.0764, -0.2585,  0.3614, -0.5254],\n",
       "                         [ 2.5440, -0.8773, -0.1070,  0.5311],\n",
       "                         [ 1.4577,  0.4764,  0.3511, -0.2365]],\n",
       "                \n",
       "                        [[ 1.0764, -0.2585,  0.3614, -0.5254],\n",
       "                         [ 2.5440, -0.8773, -0.1070,  0.5311],\n",
       "                         [ 1.4577,  0.4764,  0.3511, -0.2365]],\n",
       "                \n",
       "                        [[ 1.0764, -0.2585,  0.3614, -0.5254],\n",
       "                         [ 2.5440, -0.8773, -0.1070,  0.5311],\n",
       "                         [ 1.4577,  0.4764,  0.3511, -0.2365]],\n",
       "                \n",
       "                        [[ 1.0764, -0.2585,  0.3614, -0.5254],\n",
       "                         [ 2.5440, -0.8773, -0.1070,  0.5311],\n",
       "                         [ 1.4577,  0.4764,  0.3511, -0.2365]],\n",
       "                \n",
       "                        [[ 1.0764, -0.2585,  0.3614, -0.5254],\n",
       "                         [ 2.5440, -0.8773, -0.1070,  0.5311],\n",
       "                         [ 1.4577,  0.4764,  0.3511, -0.2365]]])"
      ]
     },
     "execution_count": 20,
     "metadata": {},
     "output_type": "execute_result"
    }
   ],
   "source": [
    "t_stack = FastTreeValue.func(subside=True)(torch.stack)\n",
    "\n",
    "t_stack(trees)"
   ]
  },
  {
   "cell_type": "code",
   "execution_count": 21,
   "id": "f8b3f415",
   "metadata": {
    "execution": {
     "iopub.execute_input": "2023-02-27T12:14:31.413086Z",
     "iopub.status.busy": "2023-02-27T12:14:31.412743Z",
     "iopub.status.idle": "2023-02-27T12:14:34.010465Z",
     "shell.execute_reply": "2023-02-27T12:14:34.009705Z"
    }
   },
   "outputs": [
    {
     "name": "stdout",
     "output_type": "stream",
     "text": [
      "31.9 µs ± 42.1 ns per loop (mean ± std. dev. of 7 runs, 10,000 loops each)\n"
     ]
    }
   ],
   "source": [
    "%timeit t_stack(trees)"
   ]
  },
  {
   "cell_type": "code",
   "execution_count": 22,
   "id": "94b56771",
   "metadata": {
    "execution": {
     "iopub.execute_input": "2023-02-27T12:14:34.014022Z",
     "iopub.status.busy": "2023-02-27T12:14:34.013427Z",
     "iopub.status.idle": "2023-02-27T12:14:34.021512Z",
     "shell.execute_reply": "2023-02-27T12:14:34.020907Z"
    }
   },
   "outputs": [
    {
     "data": {
      "text/plain": [
       "<FastTreeValue 0x7f676650f8b0>\n",
       "├── 'a' --> tensor([[-0.4506,  1.6953,  0.0186],\n",
       "│                   [-0.8136, -0.2265,  0.2922],\n",
       "│                   [-0.4506,  1.6953,  0.0186],\n",
       "│                   [-0.8136, -0.2265,  0.2922],\n",
       "│                   [-0.4506,  1.6953,  0.0186],\n",
       "│                   [-0.8136, -0.2265,  0.2922],\n",
       "│                   [-0.4506,  1.6953,  0.0186],\n",
       "│                   [-0.8136, -0.2265,  0.2922],\n",
       "│                   [-0.4506,  1.6953,  0.0186],\n",
       "│                   [-0.8136, -0.2265,  0.2922],\n",
       "│                   [-0.4506,  1.6953,  0.0186],\n",
       "│                   [-0.8136, -0.2265,  0.2922],\n",
       "│                   [-0.4506,  1.6953,  0.0186],\n",
       "│                   [-0.8136, -0.2265,  0.2922],\n",
       "│                   [-0.4506,  1.6953,  0.0186],\n",
       "│                   [-0.8136, -0.2265,  0.2922]])\n",
       "└── 'x' --> <FastTreeValue 0x7f676d154b50>\n",
       "    └── 'c' --> tensor([[ 1.0764, -0.2585,  0.3614, -0.5254],\n",
       "                        [ 2.5440, -0.8773, -0.1070,  0.5311],\n",
       "                        [ 1.4577,  0.4764,  0.3511, -0.2365],\n",
       "                        [ 1.0764, -0.2585,  0.3614, -0.5254],\n",
       "                        [ 2.5440, -0.8773, -0.1070,  0.5311],\n",
       "                        [ 1.4577,  0.4764,  0.3511, -0.2365],\n",
       "                        [ 1.0764, -0.2585,  0.3614, -0.5254],\n",
       "                        [ 2.5440, -0.8773, -0.1070,  0.5311],\n",
       "                        [ 1.4577,  0.4764,  0.3511, -0.2365],\n",
       "                        [ 1.0764, -0.2585,  0.3614, -0.5254],\n",
       "                        [ 2.5440, -0.8773, -0.1070,  0.5311],\n",
       "                        [ 1.4577,  0.4764,  0.3511, -0.2365],\n",
       "                        [ 1.0764, -0.2585,  0.3614, -0.5254],\n",
       "                        [ 2.5440, -0.8773, -0.1070,  0.5311],\n",
       "                        [ 1.4577,  0.4764,  0.3511, -0.2365],\n",
       "                        [ 1.0764, -0.2585,  0.3614, -0.5254],\n",
       "                        [ 2.5440, -0.8773, -0.1070,  0.5311],\n",
       "                        [ 1.4577,  0.4764,  0.3511, -0.2365],\n",
       "                        [ 1.0764, -0.2585,  0.3614, -0.5254],\n",
       "                        [ 2.5440, -0.8773, -0.1070,  0.5311],\n",
       "                        [ 1.4577,  0.4764,  0.3511, -0.2365],\n",
       "                        [ 1.0764, -0.2585,  0.3614, -0.5254],\n",
       "                        [ 2.5440, -0.8773, -0.1070,  0.5311],\n",
       "                        [ 1.4577,  0.4764,  0.3511, -0.2365]])"
      ]
     },
     "execution_count": 22,
     "metadata": {},
     "output_type": "execute_result"
    }
   ],
   "source": [
    "t_cat = FastTreeValue.func(subside=True)(torch.cat)\n",
    "\n",
    "t_cat(trees)"
   ]
  },
  {
   "cell_type": "code",
   "execution_count": 23,
   "id": "5e9c06a6",
   "metadata": {
    "execution": {
     "iopub.execute_input": "2023-02-27T12:14:34.024650Z",
     "iopub.status.busy": "2023-02-27T12:14:34.024282Z",
     "iopub.status.idle": "2023-02-27T12:14:36.512360Z",
     "shell.execute_reply": "2023-02-27T12:14:36.511643Z"
    }
   },
   "outputs": [
    {
     "name": "stdout",
     "output_type": "stream",
     "text": [
      "30.6 µs ± 44 ns per loop (mean ± std. dev. of 7 runs, 10,000 loops each)\n"
     ]
    }
   ],
   "source": [
    "%timeit t_cat(trees)"
   ]
  },
  {
   "cell_type": "code",
   "execution_count": 24,
   "id": "a3ab5c8f",
   "metadata": {
    "execution": {
     "iopub.execute_input": "2023-02-27T12:14:36.515783Z",
     "iopub.status.busy": "2023-02-27T12:14:36.515156Z",
     "iopub.status.idle": "2023-02-27T12:14:41.486139Z",
     "shell.execute_reply": "2023-02-27T12:14:41.485362Z"
    }
   },
   "outputs": [
    {
     "name": "stdout",
     "output_type": "stream",
     "text": [
      "61.1 µs ± 32.4 ns per loop (mean ± std. dev. of 7 runs, 10,000 loops each)\n"
     ]
    }
   ],
   "source": [
    "t_split = FastTreeValue.func(rise=True)(torch.split)\n",
    "tree = FastTreeValue({\n",
    "    'obs': torch.randn(8, 4, 84, 84),\n",
    "    'action': torch.randint(0, 6, size=(8, 1,)),\n",
    "    'reward': torch.rand(8, 1),\n",
    "})\n",
    "\n",
    "%timeit t_split(tree, 1)"
   ]
  },
  {
   "cell_type": "markdown",
   "id": "31c3ec0b",
   "metadata": {},
   "source": [
    "### Performance of Tianshou Batch"
   ]
  },
  {
   "cell_type": "code",
   "execution_count": 25,
   "id": "9ead828a",
   "metadata": {
    "execution": {
     "iopub.execute_input": "2023-02-27T12:14:41.489480Z",
     "iopub.status.busy": "2023-02-27T12:14:41.488962Z",
     "iopub.status.idle": "2023-02-27T12:14:41.496937Z",
     "shell.execute_reply": "2023-02-27T12:14:41.496348Z"
    }
   },
   "outputs": [
    {
     "data": {
      "text/plain": [
       "Batch(\n",
       "    x: Batch(\n",
       "           c: tensor([[[ 1.0764, -0.2585,  0.3614, -0.5254],\n",
       "                       [ 2.5440, -0.8773, -0.1070,  0.5311],\n",
       "                       [ 1.4577,  0.4764,  0.3511, -0.2365]],\n",
       "              \n",
       "                      [[ 1.0764, -0.2585,  0.3614, -0.5254],\n",
       "                       [ 2.5440, -0.8773, -0.1070,  0.5311],\n",
       "                       [ 1.4577,  0.4764,  0.3511, -0.2365]],\n",
       "              \n",
       "                      [[ 1.0764, -0.2585,  0.3614, -0.5254],\n",
       "                       [ 2.5440, -0.8773, -0.1070,  0.5311],\n",
       "                       [ 1.4577,  0.4764,  0.3511, -0.2365]],\n",
       "              \n",
       "                      [[ 1.0764, -0.2585,  0.3614, -0.5254],\n",
       "                       [ 2.5440, -0.8773, -0.1070,  0.5311],\n",
       "                       [ 1.4577,  0.4764,  0.3511, -0.2365]],\n",
       "              \n",
       "                      [[ 1.0764, -0.2585,  0.3614, -0.5254],\n",
       "                       [ 2.5440, -0.8773, -0.1070,  0.5311],\n",
       "                       [ 1.4577,  0.4764,  0.3511, -0.2365]],\n",
       "              \n",
       "                      [[ 1.0764, -0.2585,  0.3614, -0.5254],\n",
       "                       [ 2.5440, -0.8773, -0.1070,  0.5311],\n",
       "                       [ 1.4577,  0.4764,  0.3511, -0.2365]],\n",
       "              \n",
       "                      [[ 1.0764, -0.2585,  0.3614, -0.5254],\n",
       "                       [ 2.5440, -0.8773, -0.1070,  0.5311],\n",
       "                       [ 1.4577,  0.4764,  0.3511, -0.2365]],\n",
       "              \n",
       "                      [[ 1.0764, -0.2585,  0.3614, -0.5254],\n",
       "                       [ 2.5440, -0.8773, -0.1070,  0.5311],\n",
       "                       [ 1.4577,  0.4764,  0.3511, -0.2365]]]),\n",
       "       ),\n",
       "    a: tensor([[[-0.4506,  1.6953,  0.0186],\n",
       "                [-0.8136, -0.2265,  0.2922]],\n",
       "       \n",
       "               [[-0.4506,  1.6953,  0.0186],\n",
       "                [-0.8136, -0.2265,  0.2922]],\n",
       "       \n",
       "               [[-0.4506,  1.6953,  0.0186],\n",
       "                [-0.8136, -0.2265,  0.2922]],\n",
       "       \n",
       "               [[-0.4506,  1.6953,  0.0186],\n",
       "                [-0.8136, -0.2265,  0.2922]],\n",
       "       \n",
       "               [[-0.4506,  1.6953,  0.0186],\n",
       "                [-0.8136, -0.2265,  0.2922]],\n",
       "       \n",
       "               [[-0.4506,  1.6953,  0.0186],\n",
       "                [-0.8136, -0.2265,  0.2922]],\n",
       "       \n",
       "               [[-0.4506,  1.6953,  0.0186],\n",
       "                [-0.8136, -0.2265,  0.2922]],\n",
       "       \n",
       "               [[-0.4506,  1.6953,  0.0186],\n",
       "                [-0.8136, -0.2265,  0.2922]]]),\n",
       ")"
      ]
     },
     "execution_count": 25,
     "metadata": {},
     "output_type": "execute_result"
    }
   ],
   "source": [
    "batches = [Batch(**_TREE_DATA_2) for _ in range(8)]\n",
    "\n",
    "Batch.stack(batches)"
   ]
  },
  {
   "cell_type": "code",
   "execution_count": 26,
   "id": "ec9037a3",
   "metadata": {
    "execution": {
     "iopub.execute_input": "2023-02-27T12:14:41.499743Z",
     "iopub.status.busy": "2023-02-27T12:14:41.499169Z",
     "iopub.status.idle": "2023-02-27T12:14:47.830182Z",
     "shell.execute_reply": "2023-02-27T12:14:47.829144Z"
    }
   },
   "outputs": [
    {
     "name": "stdout",
     "output_type": "stream",
     "text": [
      "77.9 µs ± 107 ns per loop (mean ± std. dev. of 7 runs, 10,000 loops each)\n"
     ]
    }
   ],
   "source": [
    "%timeit Batch.stack(batches)"
   ]
  },
  {
   "cell_type": "code",
   "execution_count": 27,
   "id": "cb8ab77e",
   "metadata": {
    "execution": {
     "iopub.execute_input": "2023-02-27T12:14:47.833197Z",
     "iopub.status.busy": "2023-02-27T12:14:47.832942Z",
     "iopub.status.idle": "2023-02-27T12:14:47.840652Z",
     "shell.execute_reply": "2023-02-27T12:14:47.840053Z"
    }
   },
   "outputs": [
    {
     "data": {
      "text/plain": [
       "Batch(\n",
       "    x: Batch(\n",
       "           c: tensor([[ 1.0764, -0.2585,  0.3614, -0.5254],\n",
       "                      [ 2.5440, -0.8773, -0.1070,  0.5311],\n",
       "                      [ 1.4577,  0.4764,  0.3511, -0.2365],\n",
       "                      [ 1.0764, -0.2585,  0.3614, -0.5254],\n",
       "                      [ 2.5440, -0.8773, -0.1070,  0.5311],\n",
       "                      [ 1.4577,  0.4764,  0.3511, -0.2365],\n",
       "                      [ 1.0764, -0.2585,  0.3614, -0.5254],\n",
       "                      [ 2.5440, -0.8773, -0.1070,  0.5311],\n",
       "                      [ 1.4577,  0.4764,  0.3511, -0.2365],\n",
       "                      [ 1.0764, -0.2585,  0.3614, -0.5254],\n",
       "                      [ 2.5440, -0.8773, -0.1070,  0.5311],\n",
       "                      [ 1.4577,  0.4764,  0.3511, -0.2365],\n",
       "                      [ 1.0764, -0.2585,  0.3614, -0.5254],\n",
       "                      [ 2.5440, -0.8773, -0.1070,  0.5311],\n",
       "                      [ 1.4577,  0.4764,  0.3511, -0.2365],\n",
       "                      [ 1.0764, -0.2585,  0.3614, -0.5254],\n",
       "                      [ 2.5440, -0.8773, -0.1070,  0.5311],\n",
       "                      [ 1.4577,  0.4764,  0.3511, -0.2365],\n",
       "                      [ 1.0764, -0.2585,  0.3614, -0.5254],\n",
       "                      [ 2.5440, -0.8773, -0.1070,  0.5311],\n",
       "                      [ 1.4577,  0.4764,  0.3511, -0.2365],\n",
       "                      [ 1.0764, -0.2585,  0.3614, -0.5254],\n",
       "                      [ 2.5440, -0.8773, -0.1070,  0.5311],\n",
       "                      [ 1.4577,  0.4764,  0.3511, -0.2365]]),\n",
       "       ),\n",
       "    a: tensor([[-0.4506,  1.6953,  0.0186],\n",
       "               [-0.8136, -0.2265,  0.2922],\n",
       "               [-0.4506,  1.6953,  0.0186],\n",
       "               [-0.8136, -0.2265,  0.2922],\n",
       "               [-0.4506,  1.6953,  0.0186],\n",
       "               [-0.8136, -0.2265,  0.2922],\n",
       "               [-0.4506,  1.6953,  0.0186],\n",
       "               [-0.8136, -0.2265,  0.2922],\n",
       "               [-0.4506,  1.6953,  0.0186],\n",
       "               [-0.8136, -0.2265,  0.2922],\n",
       "               [-0.4506,  1.6953,  0.0186],\n",
       "               [-0.8136, -0.2265,  0.2922],\n",
       "               [-0.4506,  1.6953,  0.0186],\n",
       "               [-0.8136, -0.2265,  0.2922],\n",
       "               [-0.4506,  1.6953,  0.0186],\n",
       "               [-0.8136, -0.2265,  0.2922]]),\n",
       ")"
      ]
     },
     "execution_count": 27,
     "metadata": {},
     "output_type": "execute_result"
    }
   ],
   "source": [
    "Batch.cat(batches)"
   ]
  },
  {
   "cell_type": "code",
   "execution_count": 28,
   "id": "18dfb045",
   "metadata": {
    "execution": {
     "iopub.execute_input": "2023-02-27T12:14:47.843810Z",
     "iopub.status.busy": "2023-02-27T12:14:47.843314Z",
     "iopub.status.idle": "2023-02-27T12:14:59.315204Z",
     "shell.execute_reply": "2023-02-27T12:14:59.314396Z"
    }
   },
   "outputs": [
    {
     "name": "stdout",
     "output_type": "stream",
     "text": [
      "141 µs ± 216 ns per loop (mean ± std. dev. of 7 runs, 10,000 loops each)\n"
     ]
    }
   ],
   "source": [
    "%timeit Batch.cat(batches)"
   ]
  },
  {
   "cell_type": "code",
   "execution_count": 29,
   "id": "c6688e51",
   "metadata": {
    "execution": {
     "iopub.execute_input": "2023-02-27T12:14:59.318110Z",
     "iopub.status.busy": "2023-02-27T12:14:59.317744Z",
     "iopub.status.idle": "2023-02-27T12:15:01.833755Z",
     "shell.execute_reply": "2023-02-27T12:15:01.833040Z"
    }
   },
   "outputs": [
    {
     "name": "stdout",
     "output_type": "stream",
     "text": [
      "309 µs ± 4.32 µs per loop (mean ± std. dev. of 7 runs, 1,000 loops each)\n"
     ]
    }
   ],
   "source": [
    "batch = Batch({\n",
    "    'obs': torch.randn(8, 4, 84, 84),\n",
    "    'action': torch.randint(0, 6, size=(8, 1,)),\n",
    "    'reward': torch.rand(8, 1)}\n",
    ")\n",
    "\n",
    "%timeit list(Batch.split(batch, 1, shuffle=False, merge_last=True))"
   ]
  },
  {
   "cell_type": "code",
   "execution_count": null,
   "id": "2539fbd9",
   "metadata": {},
   "outputs": [],
   "source": []
  }
 ],
 "metadata": {
  "kernelspec": {
   "display_name": "Python 3 (ipykernel)",
   "language": "python",
   "name": "python3"
  },
  "language_info": {
   "codemirror_mode": {
    "name": "ipython",
    "version": 3
   },
   "file_extension": ".py",
   "mimetype": "text/x-python",
   "name": "python",
   "nbconvert_exporter": "python",
   "pygments_lexer": "ipython3",
   "version": "3.8.16"
  }
 },
 "nbformat": 4,
 "nbformat_minor": 5
}
