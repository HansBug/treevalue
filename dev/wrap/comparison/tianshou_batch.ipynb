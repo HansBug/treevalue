{
 "cells": [
  {
   "cell_type": "markdown",
   "id": "9d39d946",
   "metadata": {},
   "source": [
    "# Comparison Between TreeValue and Tianshou Batch"
   ]
  },
  {
   "cell_type": "markdown",
   "id": "3c6db2d4",
   "metadata": {},
   "source": [
    "In this section, we will take a look at the feature and performance of the [Tianshou Batch](https://github.com/thu-ml/tianshou) library, which is developed by Tsinghua Machine Learning Group."
   ]
  },
  {
   "cell_type": "markdown",
   "id": "069361b0",
   "metadata": {},
   "source": [
    "Before starting the comparison, let us define some thing."
   ]
  },
  {
   "cell_type": "code",
   "execution_count": 1,
   "id": "06fc8d26",
   "metadata": {
    "execution": {
     "iopub.execute_input": "2023-02-27T12:57:43.119497Z",
     "iopub.status.busy": "2023-02-27T12:57:43.119289Z",
     "iopub.status.idle": "2023-02-27T12:57:44.023572Z",
     "shell.execute_reply": "2023-02-27T12:57:44.022621Z"
    }
   },
   "outputs": [
    {
     "name": "stderr",
     "output_type": "stream",
     "text": [
      "/opt/hostedtoolcache/Python/3.8.16/x64/lib/python3.8/site-packages/tqdm/auto.py:22: TqdmWarning: IProgress not found. Please update jupyter and ipywidgets. See https://ipywidgets.readthedocs.io/en/stable/user_install.html\n",
      "  from .autonotebook import tqdm as notebook_tqdm\n"
     ]
    }
   ],
   "source": [
    "import torch \n",
    "\n",
    "_TREE_DATA_1 = {'a': 1, 'b': 2, 'x': {'c': 3, 'd': 4}}\n",
    "_TREE_DATA_2 = {\n",
    "    'a': torch.randn(2, 3), \n",
    "    'x': {\n",
    "        'c': torch.randn(3, 4)\n",
    "    },\n",
    "}\n",
    "_TREE_DATA_3 = {\n",
    "    'obs': torch.randn(4, 84, 84),\n",
    "    'action': torch.randint(0, 6, size=(1,)),\n",
    "    'reward': torch.rand(1),\n",
    "}"
   ]
  },
  {
   "cell_type": "markdown",
   "id": "83461b25",
   "metadata": {},
   "source": [
    "## Read and Write Operation"
   ]
  },
  {
   "cell_type": "markdown",
   "id": "067b3f73",
   "metadata": {},
   "source": [
    "Reading and writing are the two most common operations in the tree data structure based on the data model (TreeValue and Tianshou Batch both belong to this type), so this section will compare the reading and writing performance of these two libraries."
   ]
  },
  {
   "cell_type": "markdown",
   "id": "5d09a5b7",
   "metadata": {},
   "source": [
    "### TreeValue's Get and Set"
   ]
  },
  {
   "cell_type": "code",
   "execution_count": 2,
   "id": "9519c4bb",
   "metadata": {
    "execution": {
     "iopub.execute_input": "2023-02-27T12:57:44.026967Z",
     "iopub.status.busy": "2023-02-27T12:57:44.026412Z",
     "iopub.status.idle": "2023-02-27T12:57:44.302456Z",
     "shell.execute_reply": "2023-02-27T12:57:44.301783Z"
    }
   },
   "outputs": [],
   "source": [
    "from treevalue import FastTreeValue\n",
    "\n",
    "t = FastTreeValue(_TREE_DATA_2)"
   ]
  },
  {
   "cell_type": "code",
   "execution_count": 3,
   "id": "11c37677",
   "metadata": {
    "execution": {
     "iopub.execute_input": "2023-02-27T12:57:44.305905Z",
     "iopub.status.busy": "2023-02-27T12:57:44.305326Z",
     "iopub.status.idle": "2023-02-27T12:57:44.314395Z",
     "shell.execute_reply": "2023-02-27T12:57:44.313820Z"
    }
   },
   "outputs": [
    {
     "data": {
      "text/plain": [
       "<FastTreeValue 0x7f3f1474fe50>\n",
       "├── 'a' --> tensor([[ 0.4165, -0.6503,  0.5432],\n",
       "│                   [-1.0924, -0.6717, -1.0048]])\n",
       "└── 'x' --> <FastTreeValue 0x7f3f1474ff10>\n",
       "    └── 'c' --> tensor([[ 3.0468,  0.2302, -2.4803,  1.9666],\n",
       "                        [ 0.0189,  0.4721, -0.0922,  0.8710],\n",
       "                        [ 1.2069, -0.5016,  0.2990, -0.0715]])"
      ]
     },
     "execution_count": 3,
     "metadata": {},
     "output_type": "execute_result"
    }
   ],
   "source": [
    "t"
   ]
  },
  {
   "cell_type": "code",
   "execution_count": 4,
   "id": "fd70b0b9",
   "metadata": {
    "execution": {
     "iopub.execute_input": "2023-02-27T12:57:44.317031Z",
     "iopub.status.busy": "2023-02-27T12:57:44.316694Z",
     "iopub.status.idle": "2023-02-27T12:57:44.321217Z",
     "shell.execute_reply": "2023-02-27T12:57:44.320577Z"
    }
   },
   "outputs": [
    {
     "data": {
      "text/plain": [
       "tensor([[ 0.4165, -0.6503,  0.5432],\n",
       "        [-1.0924, -0.6717, -1.0048]])"
      ]
     },
     "execution_count": 4,
     "metadata": {},
     "output_type": "execute_result"
    }
   ],
   "source": [
    "t.a"
   ]
  },
  {
   "cell_type": "code",
   "execution_count": 5,
   "id": "c18197bd",
   "metadata": {
    "execution": {
     "iopub.execute_input": "2023-02-27T12:57:44.323960Z",
     "iopub.status.busy": "2023-02-27T12:57:44.323501Z",
     "iopub.status.idle": "2023-02-27T12:57:49.271334Z",
     "shell.execute_reply": "2023-02-27T12:57:49.270676Z"
    }
   },
   "outputs": [
    {
     "name": "stdout",
     "output_type": "stream",
     "text": [
      "60.9 ns ± 0.0469 ns per loop (mean ± std. dev. of 7 runs, 10,000,000 loops each)\n"
     ]
    }
   ],
   "source": [
    "%timeit t.a"
   ]
  },
  {
   "cell_type": "code",
   "execution_count": 6,
   "id": "bd52f867",
   "metadata": {
    "execution": {
     "iopub.execute_input": "2023-02-27T12:57:49.274267Z",
     "iopub.status.busy": "2023-02-27T12:57:49.273929Z",
     "iopub.status.idle": "2023-02-27T12:57:49.281021Z",
     "shell.execute_reply": "2023-02-27T12:57:49.280010Z"
    }
   },
   "outputs": [
    {
     "data": {
      "text/plain": [
       "<FastTreeValue 0x7f3f1474fe50>\n",
       "├── 'a' --> tensor([[ 0.1041,  1.6200,  0.8453],\n",
       "│                   [-0.0112,  0.9996, -0.4959]])\n",
       "└── 'x' --> <FastTreeValue 0x7f3f1474ff10>\n",
       "    └── 'c' --> tensor([[ 3.0468,  0.2302, -2.4803,  1.9666],\n",
       "                        [ 0.0189,  0.4721, -0.0922,  0.8710],\n",
       "                        [ 1.2069, -0.5016,  0.2990, -0.0715]])"
      ]
     },
     "execution_count": 6,
     "metadata": {},
     "output_type": "execute_result"
    }
   ],
   "source": [
    "new_value = torch.randn(2, 3)\n",
    "t.a = new_value\n",
    "\n",
    "t"
   ]
  },
  {
   "cell_type": "code",
   "execution_count": 7,
   "id": "bbe04d1c",
   "metadata": {
    "execution": {
     "iopub.execute_input": "2023-02-27T12:57:49.283404Z",
     "iopub.status.busy": "2023-02-27T12:57:49.283064Z",
     "iopub.status.idle": "2023-02-27T12:57:54.356983Z",
     "shell.execute_reply": "2023-02-27T12:57:54.356263Z"
    }
   },
   "outputs": [
    {
     "name": "stdout",
     "output_type": "stream",
     "text": [
      "62.5 ns ± 0.0443 ns per loop (mean ± std. dev. of 7 runs, 10,000,000 loops each)\n"
     ]
    }
   ],
   "source": [
    "%timeit t.a = new_value"
   ]
  },
  {
   "cell_type": "markdown",
   "id": "48c49731",
   "metadata": {},
   "source": [
    "### Tianshou Batch's Get and Set"
   ]
  },
  {
   "cell_type": "code",
   "execution_count": 8,
   "id": "f1bb14c1",
   "metadata": {
    "execution": {
     "iopub.execute_input": "2023-02-27T12:57:54.360058Z",
     "iopub.status.busy": "2023-02-27T12:57:54.359468Z",
     "iopub.status.idle": "2023-02-27T12:57:54.687521Z",
     "shell.execute_reply": "2023-02-27T12:57:54.686513Z"
    }
   },
   "outputs": [],
   "source": [
    "from tianshou.data import Batch\n",
    "\n",
    "b = Batch(**_TREE_DATA_2)"
   ]
  },
  {
   "cell_type": "code",
   "execution_count": 9,
   "id": "cb0777c3",
   "metadata": {
    "execution": {
     "iopub.execute_input": "2023-02-27T12:57:54.690922Z",
     "iopub.status.busy": "2023-02-27T12:57:54.690367Z",
     "iopub.status.idle": "2023-02-27T12:57:54.696967Z",
     "shell.execute_reply": "2023-02-27T12:57:54.695954Z"
    }
   },
   "outputs": [
    {
     "data": {
      "text/plain": [
       "Batch(\n",
       "    a: tensor([[ 0.4165, -0.6503,  0.5432],\n",
       "               [-1.0924, -0.6717, -1.0048]]),\n",
       "    x: Batch(\n",
       "           c: tensor([[ 3.0468,  0.2302, -2.4803,  1.9666],\n",
       "                      [ 0.0189,  0.4721, -0.0922,  0.8710],\n",
       "                      [ 1.2069, -0.5016,  0.2990, -0.0715]]),\n",
       "       ),\n",
       ")"
      ]
     },
     "execution_count": 9,
     "metadata": {},
     "output_type": "execute_result"
    }
   ],
   "source": [
    "b"
   ]
  },
  {
   "cell_type": "code",
   "execution_count": 10,
   "id": "43ef8ea3",
   "metadata": {
    "execution": {
     "iopub.execute_input": "2023-02-27T12:57:54.699561Z",
     "iopub.status.busy": "2023-02-27T12:57:54.699227Z",
     "iopub.status.idle": "2023-02-27T12:57:54.704750Z",
     "shell.execute_reply": "2023-02-27T12:57:54.704183Z"
    }
   },
   "outputs": [
    {
     "data": {
      "text/plain": [
       "tensor([[ 0.4165, -0.6503,  0.5432],\n",
       "        [-1.0924, -0.6717, -1.0048]])"
      ]
     },
     "execution_count": 10,
     "metadata": {},
     "output_type": "execute_result"
    }
   ],
   "source": [
    "b.a"
   ]
  },
  {
   "cell_type": "code",
   "execution_count": 11,
   "id": "b785ab72",
   "metadata": {
    "execution": {
     "iopub.execute_input": "2023-02-27T12:57:54.707147Z",
     "iopub.status.busy": "2023-02-27T12:57:54.706813Z",
     "iopub.status.idle": "2023-02-27T12:57:59.505979Z",
     "shell.execute_reply": "2023-02-27T12:57:59.505248Z"
    }
   },
   "outputs": [
    {
     "name": "stdout",
     "output_type": "stream",
     "text": [
      "59.4 ns ± 0.0418 ns per loop (mean ± std. dev. of 7 runs, 10,000,000 loops each)\n"
     ]
    }
   ],
   "source": [
    "%timeit b.a"
   ]
  },
  {
   "cell_type": "code",
   "execution_count": 12,
   "id": "ad54dc69",
   "metadata": {
    "execution": {
     "iopub.execute_input": "2023-02-27T12:57:59.508825Z",
     "iopub.status.busy": "2023-02-27T12:57:59.508289Z",
     "iopub.status.idle": "2023-02-27T12:57:59.514238Z",
     "shell.execute_reply": "2023-02-27T12:57:59.513629Z"
    }
   },
   "outputs": [
    {
     "data": {
      "text/plain": [
       "Batch(\n",
       "    a: tensor([[ 0.1896,  1.0155,  0.2761],\n",
       "               [-0.8377,  0.6237, -2.3360]]),\n",
       "    x: Batch(\n",
       "           c: tensor([[ 3.0468,  0.2302, -2.4803,  1.9666],\n",
       "                      [ 0.0189,  0.4721, -0.0922,  0.8710],\n",
       "                      [ 1.2069, -0.5016,  0.2990, -0.0715]]),\n",
       "       ),\n",
       ")"
      ]
     },
     "execution_count": 12,
     "metadata": {},
     "output_type": "execute_result"
    }
   ],
   "source": [
    "new_value = torch.randn(2, 3)\n",
    "b.a = new_value\n",
    "\n",
    "b"
   ]
  },
  {
   "cell_type": "code",
   "execution_count": 13,
   "id": "29b1d0bf",
   "metadata": {
    "execution": {
     "iopub.execute_input": "2023-02-27T12:57:59.516449Z",
     "iopub.status.busy": "2023-02-27T12:57:59.516237Z",
     "iopub.status.idle": "2023-02-27T12:58:03.453449Z",
     "shell.execute_reply": "2023-02-27T12:58:03.452697Z"
    }
   },
   "outputs": [
    {
     "name": "stdout",
     "output_type": "stream",
     "text": [
      "485 ns ± 0.858 ns per loop (mean ± std. dev. of 7 runs, 1,000,000 loops each)\n"
     ]
    }
   ],
   "source": [
    "%timeit b.a = new_value"
   ]
  },
  {
   "cell_type": "markdown",
   "id": "b61ad1d0",
   "metadata": {},
   "source": [
    "## Initialization"
   ]
  },
  {
   "cell_type": "markdown",
   "id": "d70f0d54",
   "metadata": {},
   "source": [
    "### TreeValue's Initialization"
   ]
  },
  {
   "cell_type": "code",
   "execution_count": 14,
   "id": "d32a679b",
   "metadata": {
    "execution": {
     "iopub.execute_input": "2023-02-27T12:58:03.456246Z",
     "iopub.status.busy": "2023-02-27T12:58:03.455891Z",
     "iopub.status.idle": "2023-02-27T12:58:10.262481Z",
     "shell.execute_reply": "2023-02-27T12:58:10.261765Z"
    }
   },
   "outputs": [
    {
     "name": "stdout",
     "output_type": "stream",
     "text": [
      "838 ns ± 0.268 ns per loop (mean ± std. dev. of 7 runs, 1,000,000 loops each)\n"
     ]
    }
   ],
   "source": [
    "%timeit FastTreeValue(_TREE_DATA_1)"
   ]
  },
  {
   "cell_type": "markdown",
   "id": "24f3707b",
   "metadata": {},
   "source": [
    "### Tianshou Batch's Initialization"
   ]
  },
  {
   "cell_type": "code",
   "execution_count": 15,
   "id": "ac3958df",
   "metadata": {
    "execution": {
     "iopub.execute_input": "2023-02-27T12:58:10.265150Z",
     "iopub.status.busy": "2023-02-27T12:58:10.264766Z",
     "iopub.status.idle": "2023-02-27T12:58:19.525866Z",
     "shell.execute_reply": "2023-02-27T12:58:19.525188Z"
    }
   },
   "outputs": [
    {
     "name": "stdout",
     "output_type": "stream",
     "text": [
      "11.4 µs ± 15.1 ns per loop (mean ± std. dev. of 7 runs, 100,000 loops each)\n"
     ]
    }
   ],
   "source": [
    "%timeit Batch(**_TREE_DATA_1)"
   ]
  },
  {
   "cell_type": "markdown",
   "id": "1ab82e2d",
   "metadata": {},
   "source": [
    "## Deep Copy Operation"
   ]
  },
  {
   "cell_type": "code",
   "execution_count": 16,
   "id": "210a9442",
   "metadata": {
    "execution": {
     "iopub.execute_input": "2023-02-27T12:58:19.528574Z",
     "iopub.status.busy": "2023-02-27T12:58:19.528216Z",
     "iopub.status.idle": "2023-02-27T12:58:19.532053Z",
     "shell.execute_reply": "2023-02-27T12:58:19.531484Z"
    }
   },
   "outputs": [],
   "source": [
    "import copy"
   ]
  },
  {
   "cell_type": "markdown",
   "id": "5a736274",
   "metadata": {},
   "source": [
    "### Deep Copy of TreeValue"
   ]
  },
  {
   "cell_type": "code",
   "execution_count": 17,
   "id": "f9bcadd6",
   "metadata": {
    "execution": {
     "iopub.execute_input": "2023-02-27T12:58:19.534597Z",
     "iopub.status.busy": "2023-02-27T12:58:19.534071Z",
     "iopub.status.idle": "2023-02-27T12:58:30.554146Z",
     "shell.execute_reply": "2023-02-27T12:58:30.553565Z"
    }
   },
   "outputs": [
    {
     "name": "stdout",
     "output_type": "stream",
     "text": [
      "136 µs ± 507 ns per loop (mean ± std. dev. of 7 runs, 10,000 loops each)\n"
     ]
    }
   ],
   "source": [
    "t3 = FastTreeValue(_TREE_DATA_3)\n",
    "%timeit copy.deepcopy(t3)"
   ]
  },
  {
   "cell_type": "markdown",
   "id": "bf8be7ea",
   "metadata": {},
   "source": [
    "### Deep Copy of Tianshou Batch"
   ]
  },
  {
   "cell_type": "code",
   "execution_count": 18,
   "id": "91998e6f",
   "metadata": {
    "execution": {
     "iopub.execute_input": "2023-02-27T12:58:30.557552Z",
     "iopub.status.busy": "2023-02-27T12:58:30.556558Z",
     "iopub.status.idle": "2023-02-27T12:58:41.748818Z",
     "shell.execute_reply": "2023-02-27T12:58:41.748222Z"
    }
   },
   "outputs": [
    {
     "name": "stdout",
     "output_type": "stream",
     "text": [
      "138 µs ± 221 ns per loop (mean ± std. dev. of 7 runs, 10,000 loops each)\n"
     ]
    }
   ],
   "source": [
    "b3 = Batch(**_TREE_DATA_3)\n",
    "%timeit copy.deepcopy(b3)"
   ]
  },
  {
   "cell_type": "markdown",
   "id": "223162fb",
   "metadata": {},
   "source": [
    "## Stack, Concat and Split Operation"
   ]
  },
  {
   "cell_type": "markdown",
   "id": "85fa4a73",
   "metadata": {},
   "source": [
    "### Performance of TreeValue"
   ]
  },
  {
   "cell_type": "code",
   "execution_count": 19,
   "id": "a0c2b697",
   "metadata": {
    "execution": {
     "iopub.execute_input": "2023-02-27T12:58:41.752630Z",
     "iopub.status.busy": "2023-02-27T12:58:41.751720Z",
     "iopub.status.idle": "2023-02-27T12:58:41.755918Z",
     "shell.execute_reply": "2023-02-27T12:58:41.755399Z"
    }
   },
   "outputs": [],
   "source": [
    "trees = [FastTreeValue(_TREE_DATA_2) for _ in range(8)]"
   ]
  },
  {
   "cell_type": "code",
   "execution_count": 20,
   "id": "017ea5a5",
   "metadata": {
    "execution": {
     "iopub.execute_input": "2023-02-27T12:58:41.759411Z",
     "iopub.status.busy": "2023-02-27T12:58:41.758525Z",
     "iopub.status.idle": "2023-02-27T12:58:41.767453Z",
     "shell.execute_reply": "2023-02-27T12:58:41.766526Z"
    }
   },
   "outputs": [
    {
     "data": {
      "text/plain": [
       "<FastTreeValue 0x7f3e5c9d5b50>\n",
       "├── 'a' --> tensor([[[ 0.4165, -0.6503,  0.5432],\n",
       "│                    [-1.0924, -0.6717, -1.0048]],\n",
       "│           \n",
       "│                   [[ 0.4165, -0.6503,  0.5432],\n",
       "│                    [-1.0924, -0.6717, -1.0048]],\n",
       "│           \n",
       "│                   [[ 0.4165, -0.6503,  0.5432],\n",
       "│                    [-1.0924, -0.6717, -1.0048]],\n",
       "│           \n",
       "│                   [[ 0.4165, -0.6503,  0.5432],\n",
       "│                    [-1.0924, -0.6717, -1.0048]],\n",
       "│           \n",
       "│                   [[ 0.4165, -0.6503,  0.5432],\n",
       "│                    [-1.0924, -0.6717, -1.0048]],\n",
       "│           \n",
       "│                   [[ 0.4165, -0.6503,  0.5432],\n",
       "│                    [-1.0924, -0.6717, -1.0048]],\n",
       "│           \n",
       "│                   [[ 0.4165, -0.6503,  0.5432],\n",
       "│                    [-1.0924, -0.6717, -1.0048]],\n",
       "│           \n",
       "│                   [[ 0.4165, -0.6503,  0.5432],\n",
       "│                    [-1.0924, -0.6717, -1.0048]]])\n",
       "└── 'x' --> <FastTreeValue 0x7f3e5c9d59a0>\n",
       "    └── 'c' --> tensor([[[ 3.0468,  0.2302, -2.4803,  1.9666],\n",
       "                         [ 0.0189,  0.4721, -0.0922,  0.8710],\n",
       "                         [ 1.2069, -0.5016,  0.2990, -0.0715]],\n",
       "                \n",
       "                        [[ 3.0468,  0.2302, -2.4803,  1.9666],\n",
       "                         [ 0.0189,  0.4721, -0.0922,  0.8710],\n",
       "                         [ 1.2069, -0.5016,  0.2990, -0.0715]],\n",
       "                \n",
       "                        [[ 3.0468,  0.2302, -2.4803,  1.9666],\n",
       "                         [ 0.0189,  0.4721, -0.0922,  0.8710],\n",
       "                         [ 1.2069, -0.5016,  0.2990, -0.0715]],\n",
       "                \n",
       "                        [[ 3.0468,  0.2302, -2.4803,  1.9666],\n",
       "                         [ 0.0189,  0.4721, -0.0922,  0.8710],\n",
       "                         [ 1.2069, -0.5016,  0.2990, -0.0715]],\n",
       "                \n",
       "                        [[ 3.0468,  0.2302, -2.4803,  1.9666],\n",
       "                         [ 0.0189,  0.4721, -0.0922,  0.8710],\n",
       "                         [ 1.2069, -0.5016,  0.2990, -0.0715]],\n",
       "                \n",
       "                        [[ 3.0468,  0.2302, -2.4803,  1.9666],\n",
       "                         [ 0.0189,  0.4721, -0.0922,  0.8710],\n",
       "                         [ 1.2069, -0.5016,  0.2990, -0.0715]],\n",
       "                \n",
       "                        [[ 3.0468,  0.2302, -2.4803,  1.9666],\n",
       "                         [ 0.0189,  0.4721, -0.0922,  0.8710],\n",
       "                         [ 1.2069, -0.5016,  0.2990, -0.0715]],\n",
       "                \n",
       "                        [[ 3.0468,  0.2302, -2.4803,  1.9666],\n",
       "                         [ 0.0189,  0.4721, -0.0922,  0.8710],\n",
       "                         [ 1.2069, -0.5016,  0.2990, -0.0715]]])"
      ]
     },
     "execution_count": 20,
     "metadata": {},
     "output_type": "execute_result"
    }
   ],
   "source": [
    "t_stack = FastTreeValue.func(subside=True)(torch.stack)\n",
    "\n",
    "t_stack(trees)"
   ]
  },
  {
   "cell_type": "code",
   "execution_count": 21,
   "id": "f8b3f415",
   "metadata": {
    "execution": {
     "iopub.execute_input": "2023-02-27T12:58:41.770026Z",
     "iopub.status.busy": "2023-02-27T12:58:41.769562Z",
     "iopub.status.idle": "2023-02-27T12:58:44.449254Z",
     "shell.execute_reply": "2023-02-27T12:58:44.448255Z"
    }
   },
   "outputs": [
    {
     "name": "stdout",
     "output_type": "stream",
     "text": [
      "32.9 µs ± 42.7 ns per loop (mean ± std. dev. of 7 runs, 10,000 loops each)\n"
     ]
    }
   ],
   "source": [
    "%timeit t_stack(trees)"
   ]
  },
  {
   "cell_type": "code",
   "execution_count": 22,
   "id": "94b56771",
   "metadata": {
    "execution": {
     "iopub.execute_input": "2023-02-27T12:58:44.452318Z",
     "iopub.status.busy": "2023-02-27T12:58:44.451755Z",
     "iopub.status.idle": "2023-02-27T12:58:44.459971Z",
     "shell.execute_reply": "2023-02-27T12:58:44.459064Z"
    }
   },
   "outputs": [
    {
     "data": {
      "text/plain": [
       "<FastTreeValue 0x7f3f146d5370>\n",
       "├── 'a' --> tensor([[ 0.4165, -0.6503,  0.5432],\n",
       "│                   [-1.0924, -0.6717, -1.0048],\n",
       "│                   [ 0.4165, -0.6503,  0.5432],\n",
       "│                   [-1.0924, -0.6717, -1.0048],\n",
       "│                   [ 0.4165, -0.6503,  0.5432],\n",
       "│                   [-1.0924, -0.6717, -1.0048],\n",
       "│                   [ 0.4165, -0.6503,  0.5432],\n",
       "│                   [-1.0924, -0.6717, -1.0048],\n",
       "│                   [ 0.4165, -0.6503,  0.5432],\n",
       "│                   [-1.0924, -0.6717, -1.0048],\n",
       "│                   [ 0.4165, -0.6503,  0.5432],\n",
       "│                   [-1.0924, -0.6717, -1.0048],\n",
       "│                   [ 0.4165, -0.6503,  0.5432],\n",
       "│                   [-1.0924, -0.6717, -1.0048],\n",
       "│                   [ 0.4165, -0.6503,  0.5432],\n",
       "│                   [-1.0924, -0.6717, -1.0048]])\n",
       "└── 'x' --> <FastTreeValue 0x7f3e6358c4f0>\n",
       "    └── 'c' --> tensor([[ 3.0468,  0.2302, -2.4803,  1.9666],\n",
       "                        [ 0.0189,  0.4721, -0.0922,  0.8710],\n",
       "                        [ 1.2069, -0.5016,  0.2990, -0.0715],\n",
       "                        [ 3.0468,  0.2302, -2.4803,  1.9666],\n",
       "                        [ 0.0189,  0.4721, -0.0922,  0.8710],\n",
       "                        [ 1.2069, -0.5016,  0.2990, -0.0715],\n",
       "                        [ 3.0468,  0.2302, -2.4803,  1.9666],\n",
       "                        [ 0.0189,  0.4721, -0.0922,  0.8710],\n",
       "                        [ 1.2069, -0.5016,  0.2990, -0.0715],\n",
       "                        [ 3.0468,  0.2302, -2.4803,  1.9666],\n",
       "                        [ 0.0189,  0.4721, -0.0922,  0.8710],\n",
       "                        [ 1.2069, -0.5016,  0.2990, -0.0715],\n",
       "                        [ 3.0468,  0.2302, -2.4803,  1.9666],\n",
       "                        [ 0.0189,  0.4721, -0.0922,  0.8710],\n",
       "                        [ 1.2069, -0.5016,  0.2990, -0.0715],\n",
       "                        [ 3.0468,  0.2302, -2.4803,  1.9666],\n",
       "                        [ 0.0189,  0.4721, -0.0922,  0.8710],\n",
       "                        [ 1.2069, -0.5016,  0.2990, -0.0715],\n",
       "                        [ 3.0468,  0.2302, -2.4803,  1.9666],\n",
       "                        [ 0.0189,  0.4721, -0.0922,  0.8710],\n",
       "                        [ 1.2069, -0.5016,  0.2990, -0.0715],\n",
       "                        [ 3.0468,  0.2302, -2.4803,  1.9666],\n",
       "                        [ 0.0189,  0.4721, -0.0922,  0.8710],\n",
       "                        [ 1.2069, -0.5016,  0.2990, -0.0715]])"
      ]
     },
     "execution_count": 22,
     "metadata": {},
     "output_type": "execute_result"
    }
   ],
   "source": [
    "t_cat = FastTreeValue.func(subside=True)(torch.cat)\n",
    "\n",
    "t_cat(trees)"
   ]
  },
  {
   "cell_type": "code",
   "execution_count": 23,
   "id": "5e9c06a6",
   "metadata": {
    "execution": {
     "iopub.execute_input": "2023-02-27T12:58:44.462493Z",
     "iopub.status.busy": "2023-02-27T12:58:44.462153Z",
     "iopub.status.idle": "2023-02-27T12:58:46.956430Z",
     "shell.execute_reply": "2023-02-27T12:58:46.955148Z"
    }
   },
   "outputs": [
    {
     "name": "stdout",
     "output_type": "stream",
     "text": [
      "30.6 µs ± 116 ns per loop (mean ± std. dev. of 7 runs, 10,000 loops each)\n"
     ]
    }
   ],
   "source": [
    "%timeit t_cat(trees)"
   ]
  },
  {
   "cell_type": "code",
   "execution_count": 24,
   "id": "a3ab5c8f",
   "metadata": {
    "execution": {
     "iopub.execute_input": "2023-02-27T12:58:46.959569Z",
     "iopub.status.busy": "2023-02-27T12:58:46.959003Z",
     "iopub.status.idle": "2023-02-27T12:58:51.612891Z",
     "shell.execute_reply": "2023-02-27T12:58:51.612230Z"
    }
   },
   "outputs": [
    {
     "name": "stdout",
     "output_type": "stream",
     "text": [
      "57.2 µs ± 125 ns per loop (mean ± std. dev. of 7 runs, 10,000 loops each)\n"
     ]
    }
   ],
   "source": [
    "t_split = FastTreeValue.func(rise=True)(torch.split)\n",
    "tree = FastTreeValue({\n",
    "    'obs': torch.randn(8, 4, 84, 84),\n",
    "    'action': torch.randint(0, 6, size=(8, 1,)),\n",
    "    'reward': torch.rand(8, 1),\n",
    "})\n",
    "\n",
    "%timeit t_split(tree, 1)"
   ]
  },
  {
   "cell_type": "markdown",
   "id": "31c3ec0b",
   "metadata": {},
   "source": [
    "### Performance of Tianshou Batch"
   ]
  },
  {
   "cell_type": "code",
   "execution_count": 25,
   "id": "9ead828a",
   "metadata": {
    "execution": {
     "iopub.execute_input": "2023-02-27T12:58:51.615855Z",
     "iopub.status.busy": "2023-02-27T12:58:51.615494Z",
     "iopub.status.idle": "2023-02-27T12:58:51.624165Z",
     "shell.execute_reply": "2023-02-27T12:58:51.623182Z"
    }
   },
   "outputs": [
    {
     "data": {
      "text/plain": [
       "Batch(\n",
       "    a: tensor([[[ 0.4165, -0.6503,  0.5432],\n",
       "                [-1.0924, -0.6717, -1.0048]],\n",
       "       \n",
       "               [[ 0.4165, -0.6503,  0.5432],\n",
       "                [-1.0924, -0.6717, -1.0048]],\n",
       "       \n",
       "               [[ 0.4165, -0.6503,  0.5432],\n",
       "                [-1.0924, -0.6717, -1.0048]],\n",
       "       \n",
       "               [[ 0.4165, -0.6503,  0.5432],\n",
       "                [-1.0924, -0.6717, -1.0048]],\n",
       "       \n",
       "               [[ 0.4165, -0.6503,  0.5432],\n",
       "                [-1.0924, -0.6717, -1.0048]],\n",
       "       \n",
       "               [[ 0.4165, -0.6503,  0.5432],\n",
       "                [-1.0924, -0.6717, -1.0048]],\n",
       "       \n",
       "               [[ 0.4165, -0.6503,  0.5432],\n",
       "                [-1.0924, -0.6717, -1.0048]],\n",
       "       \n",
       "               [[ 0.4165, -0.6503,  0.5432],\n",
       "                [-1.0924, -0.6717, -1.0048]]]),\n",
       "    x: Batch(\n",
       "           c: tensor([[[ 3.0468,  0.2302, -2.4803,  1.9666],\n",
       "                       [ 0.0189,  0.4721, -0.0922,  0.8710],\n",
       "                       [ 1.2069, -0.5016,  0.2990, -0.0715]],\n",
       "              \n",
       "                      [[ 3.0468,  0.2302, -2.4803,  1.9666],\n",
       "                       [ 0.0189,  0.4721, -0.0922,  0.8710],\n",
       "                       [ 1.2069, -0.5016,  0.2990, -0.0715]],\n",
       "              \n",
       "                      [[ 3.0468,  0.2302, -2.4803,  1.9666],\n",
       "                       [ 0.0189,  0.4721, -0.0922,  0.8710],\n",
       "                       [ 1.2069, -0.5016,  0.2990, -0.0715]],\n",
       "              \n",
       "                      [[ 3.0468,  0.2302, -2.4803,  1.9666],\n",
       "                       [ 0.0189,  0.4721, -0.0922,  0.8710],\n",
       "                       [ 1.2069, -0.5016,  0.2990, -0.0715]],\n",
       "              \n",
       "                      [[ 3.0468,  0.2302, -2.4803,  1.9666],\n",
       "                       [ 0.0189,  0.4721, -0.0922,  0.8710],\n",
       "                       [ 1.2069, -0.5016,  0.2990, -0.0715]],\n",
       "              \n",
       "                      [[ 3.0468,  0.2302, -2.4803,  1.9666],\n",
       "                       [ 0.0189,  0.4721, -0.0922,  0.8710],\n",
       "                       [ 1.2069, -0.5016,  0.2990, -0.0715]],\n",
       "              \n",
       "                      [[ 3.0468,  0.2302, -2.4803,  1.9666],\n",
       "                       [ 0.0189,  0.4721, -0.0922,  0.8710],\n",
       "                       [ 1.2069, -0.5016,  0.2990, -0.0715]],\n",
       "              \n",
       "                      [[ 3.0468,  0.2302, -2.4803,  1.9666],\n",
       "                       [ 0.0189,  0.4721, -0.0922,  0.8710],\n",
       "                       [ 1.2069, -0.5016,  0.2990, -0.0715]]]),\n",
       "       ),\n",
       ")"
      ]
     },
     "execution_count": 25,
     "metadata": {},
     "output_type": "execute_result"
    }
   ],
   "source": [
    "batches = [Batch(**_TREE_DATA_2) for _ in range(8)]\n",
    "\n",
    "Batch.stack(batches)"
   ]
  },
  {
   "cell_type": "code",
   "execution_count": 26,
   "id": "ec9037a3",
   "metadata": {
    "execution": {
     "iopub.execute_input": "2023-02-27T12:58:51.626917Z",
     "iopub.status.busy": "2023-02-27T12:58:51.626439Z",
     "iopub.status.idle": "2023-02-27T12:58:57.990949Z",
     "shell.execute_reply": "2023-02-27T12:58:57.990151Z"
    }
   },
   "outputs": [
    {
     "name": "stdout",
     "output_type": "stream",
     "text": [
      "78.5 µs ± 156 ns per loop (mean ± std. dev. of 7 runs, 10,000 loops each)\n"
     ]
    }
   ],
   "source": [
    "%timeit Batch.stack(batches)"
   ]
  },
  {
   "cell_type": "code",
   "execution_count": 27,
   "id": "cb8ab77e",
   "metadata": {
    "execution": {
     "iopub.execute_input": "2023-02-27T12:58:57.993774Z",
     "iopub.status.busy": "2023-02-27T12:58:57.993421Z",
     "iopub.status.idle": "2023-02-27T12:58:58.000787Z",
     "shell.execute_reply": "2023-02-27T12:58:58.000214Z"
    }
   },
   "outputs": [
    {
     "data": {
      "text/plain": [
       "Batch(\n",
       "    a: tensor([[ 0.4165, -0.6503,  0.5432],\n",
       "               [-1.0924, -0.6717, -1.0048],\n",
       "               [ 0.4165, -0.6503,  0.5432],\n",
       "               [-1.0924, -0.6717, -1.0048],\n",
       "               [ 0.4165, -0.6503,  0.5432],\n",
       "               [-1.0924, -0.6717, -1.0048],\n",
       "               [ 0.4165, -0.6503,  0.5432],\n",
       "               [-1.0924, -0.6717, -1.0048],\n",
       "               [ 0.4165, -0.6503,  0.5432],\n",
       "               [-1.0924, -0.6717, -1.0048],\n",
       "               [ 0.4165, -0.6503,  0.5432],\n",
       "               [-1.0924, -0.6717, -1.0048],\n",
       "               [ 0.4165, -0.6503,  0.5432],\n",
       "               [-1.0924, -0.6717, -1.0048],\n",
       "               [ 0.4165, -0.6503,  0.5432],\n",
       "               [-1.0924, -0.6717, -1.0048]]),\n",
       "    x: Batch(\n",
       "           c: tensor([[ 3.0468,  0.2302, -2.4803,  1.9666],\n",
       "                      [ 0.0189,  0.4721, -0.0922,  0.8710],\n",
       "                      [ 1.2069, -0.5016,  0.2990, -0.0715],\n",
       "                      [ 3.0468,  0.2302, -2.4803,  1.9666],\n",
       "                      [ 0.0189,  0.4721, -0.0922,  0.8710],\n",
       "                      [ 1.2069, -0.5016,  0.2990, -0.0715],\n",
       "                      [ 3.0468,  0.2302, -2.4803,  1.9666],\n",
       "                      [ 0.0189,  0.4721, -0.0922,  0.8710],\n",
       "                      [ 1.2069, -0.5016,  0.2990, -0.0715],\n",
       "                      [ 3.0468,  0.2302, -2.4803,  1.9666],\n",
       "                      [ 0.0189,  0.4721, -0.0922,  0.8710],\n",
       "                      [ 1.2069, -0.5016,  0.2990, -0.0715],\n",
       "                      [ 3.0468,  0.2302, -2.4803,  1.9666],\n",
       "                      [ 0.0189,  0.4721, -0.0922,  0.8710],\n",
       "                      [ 1.2069, -0.5016,  0.2990, -0.0715],\n",
       "                      [ 3.0468,  0.2302, -2.4803,  1.9666],\n",
       "                      [ 0.0189,  0.4721, -0.0922,  0.8710],\n",
       "                      [ 1.2069, -0.5016,  0.2990, -0.0715],\n",
       "                      [ 3.0468,  0.2302, -2.4803,  1.9666],\n",
       "                      [ 0.0189,  0.4721, -0.0922,  0.8710],\n",
       "                      [ 1.2069, -0.5016,  0.2990, -0.0715],\n",
       "                      [ 3.0468,  0.2302, -2.4803,  1.9666],\n",
       "                      [ 0.0189,  0.4721, -0.0922,  0.8710],\n",
       "                      [ 1.2069, -0.5016,  0.2990, -0.0715]]),\n",
       "       ),\n",
       ")"
      ]
     },
     "execution_count": 27,
     "metadata": {},
     "output_type": "execute_result"
    }
   ],
   "source": [
    "Batch.cat(batches)"
   ]
  },
  {
   "cell_type": "code",
   "execution_count": 28,
   "id": "18dfb045",
   "metadata": {
    "execution": {
     "iopub.execute_input": "2023-02-27T12:58:58.003689Z",
     "iopub.status.busy": "2023-02-27T12:58:58.003212Z",
     "iopub.status.idle": "2023-02-27T12:59:09.631743Z",
     "shell.execute_reply": "2023-02-27T12:59:09.631077Z"
    }
   },
   "outputs": [
    {
     "name": "stdout",
     "output_type": "stream",
     "text": [
      "143 µs ± 228 ns per loop (mean ± std. dev. of 7 runs, 10,000 loops each)\n"
     ]
    }
   ],
   "source": [
    "%timeit Batch.cat(batches)"
   ]
  },
  {
   "cell_type": "code",
   "execution_count": 29,
   "id": "c6688e51",
   "metadata": {
    "execution": {
     "iopub.execute_input": "2023-02-27T12:59:09.634697Z",
     "iopub.status.busy": "2023-02-27T12:59:09.634338Z",
     "iopub.status.idle": "2023-02-27T12:59:12.098087Z",
     "shell.execute_reply": "2023-02-27T12:59:12.097394Z"
    }
   },
   "outputs": [
    {
     "name": "stdout",
     "output_type": "stream",
     "text": [
      "303 µs ± 1.26 µs per loop (mean ± std. dev. of 7 runs, 1,000 loops each)\n"
     ]
    }
   ],
   "source": [
    "batch = Batch({\n",
    "    'obs': torch.randn(8, 4, 84, 84),\n",
    "    'action': torch.randint(0, 6, size=(8, 1,)),\n",
    "    'reward': torch.rand(8, 1)}\n",
    ")\n",
    "\n",
    "%timeit list(Batch.split(batch, 1, shuffle=False, merge_last=True))"
   ]
  },
  {
   "cell_type": "code",
   "execution_count": null,
   "id": "2539fbd9",
   "metadata": {},
   "outputs": [],
   "source": []
  }
 ],
 "metadata": {
  "kernelspec": {
   "display_name": "Python 3 (ipykernel)",
   "language": "python",
   "name": "python3"
  },
  "language_info": {
   "codemirror_mode": {
    "name": "ipython",
    "version": 3
   },
   "file_extension": ".py",
   "mimetype": "text/x-python",
   "name": "python",
   "nbconvert_exporter": "python",
   "pygments_lexer": "ipython3",
   "version": "3.8.16"
  }
 },
 "nbformat": 4,
 "nbformat_minor": 5
}
