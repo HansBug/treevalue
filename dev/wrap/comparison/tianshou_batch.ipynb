{
 "cells": [
  {
   "cell_type": "markdown",
   "id": "9d39d946",
   "metadata": {},
   "source": [
    "# Comparison Between TreeValue and Tianshou Batch"
   ]
  },
  {
   "cell_type": "markdown",
   "id": "3c6db2d4",
   "metadata": {},
   "source": [
    "In this section, we will take a look at the feature and performance of the [Tianshou Batch](https://github.com/thu-ml/tianshou) library, which is developed by Tsinghua Machine Learning Group."
   ]
  },
  {
   "cell_type": "markdown",
   "id": "069361b0",
   "metadata": {},
   "source": [
    "Before starting the comparison, let us define some thing."
   ]
  },
  {
   "cell_type": "code",
   "execution_count": 1,
   "id": "06fc8d26",
   "metadata": {
    "execution": {
     "iopub.execute_input": "2023-02-27T13:35:07.713929Z",
     "iopub.status.busy": "2023-02-27T13:35:07.713389Z",
     "iopub.status.idle": "2023-02-27T13:35:08.628671Z",
     "shell.execute_reply": "2023-02-27T13:35:08.627993Z"
    }
   },
   "outputs": [
    {
     "name": "stderr",
     "output_type": "stream",
     "text": [
      "/opt/hostedtoolcache/Python/3.8.16/x64/lib/python3.8/site-packages/tqdm/auto.py:22: TqdmWarning: IProgress not found. Please update jupyter and ipywidgets. See https://ipywidgets.readthedocs.io/en/stable/user_install.html\n",
      "  from .autonotebook import tqdm as notebook_tqdm\n"
     ]
    }
   ],
   "source": [
    "import torch \n",
    "\n",
    "_TREE_DATA_1 = {'a': 1, 'b': 2, 'x': {'c': 3, 'd': 4}}\n",
    "_TREE_DATA_2 = {\n",
    "    'a': torch.randn(2, 3), \n",
    "    'x': {\n",
    "        'c': torch.randn(3, 4)\n",
    "    },\n",
    "}\n",
    "_TREE_DATA_3 = {\n",
    "    'obs': torch.randn(4, 84, 84),\n",
    "    'action': torch.randint(0, 6, size=(1,)),\n",
    "    'reward': torch.rand(1),\n",
    "}"
   ]
  },
  {
   "cell_type": "markdown",
   "id": "83461b25",
   "metadata": {},
   "source": [
    "## Read and Write Operation"
   ]
  },
  {
   "cell_type": "markdown",
   "id": "067b3f73",
   "metadata": {},
   "source": [
    "Reading and writing are the two most common operations in the tree data structure based on the data model (TreeValue and Tianshou Batch both belong to this type), so this section will compare the reading and writing performance of these two libraries."
   ]
  },
  {
   "cell_type": "markdown",
   "id": "5d09a5b7",
   "metadata": {},
   "source": [
    "### TreeValue's Get and Set"
   ]
  },
  {
   "cell_type": "code",
   "execution_count": 2,
   "id": "9519c4bb",
   "metadata": {
    "execution": {
     "iopub.execute_input": "2023-02-27T13:35:08.631659Z",
     "iopub.status.busy": "2023-02-27T13:35:08.631380Z",
     "iopub.status.idle": "2023-02-27T13:35:08.912649Z",
     "shell.execute_reply": "2023-02-27T13:35:08.911954Z"
    }
   },
   "outputs": [],
   "source": [
    "from treevalue import FastTreeValue\n",
    "\n",
    "t = FastTreeValue(_TREE_DATA_2)"
   ]
  },
  {
   "cell_type": "code",
   "execution_count": 3,
   "id": "11c37677",
   "metadata": {
    "execution": {
     "iopub.execute_input": "2023-02-27T13:35:08.916074Z",
     "iopub.status.busy": "2023-02-27T13:35:08.915476Z",
     "iopub.status.idle": "2023-02-27T13:35:08.924986Z",
     "shell.execute_reply": "2023-02-27T13:35:08.924394Z"
    }
   },
   "outputs": [
    {
     "data": {
      "text/plain": [
       "<FastTreeValue 0x7f615cb3a2b0>\n",
       "├── 'a' --> tensor([[-0.3596,  2.3718, -1.5135],\n",
       "│                   [-0.6219, -0.4696,  0.3808]])\n",
       "└── 'x' --> <FastTreeValue 0x7f6180f0f970>\n",
       "    └── 'c' --> tensor([[ 0.1987, -2.2553,  0.5566,  0.8953],\n",
       "                        [ 0.9687, -0.8123,  0.4566, -1.1357],\n",
       "                        [ 2.0467, -1.2120,  0.5499,  0.9780]])"
      ]
     },
     "execution_count": 3,
     "metadata": {},
     "output_type": "execute_result"
    }
   ],
   "source": [
    "t"
   ]
  },
  {
   "cell_type": "code",
   "execution_count": 4,
   "id": "fd70b0b9",
   "metadata": {
    "execution": {
     "iopub.execute_input": "2023-02-27T13:35:08.928011Z",
     "iopub.status.busy": "2023-02-27T13:35:08.927531Z",
     "iopub.status.idle": "2023-02-27T13:35:08.933430Z",
     "shell.execute_reply": "2023-02-27T13:35:08.932831Z"
    }
   },
   "outputs": [
    {
     "data": {
      "text/plain": [
       "tensor([[-0.3596,  2.3718, -1.5135],\n",
       "        [-0.6219, -0.4696,  0.3808]])"
      ]
     },
     "execution_count": 4,
     "metadata": {},
     "output_type": "execute_result"
    }
   ],
   "source": [
    "t.a"
   ]
  },
  {
   "cell_type": "code",
   "execution_count": 5,
   "id": "c18197bd",
   "metadata": {
    "execution": {
     "iopub.execute_input": "2023-02-27T13:35:08.936315Z",
     "iopub.status.busy": "2023-02-27T13:35:08.935838Z",
     "iopub.status.idle": "2023-02-27T13:35:14.703165Z",
     "shell.execute_reply": "2023-02-27T13:35:14.702498Z"
    }
   },
   "outputs": [
    {
     "name": "stdout",
     "output_type": "stream",
     "text": [
      "70.8 ns ± 0.00581 ns per loop (mean ± std. dev. of 7 runs, 10,000,000 loops each)\n"
     ]
    }
   ],
   "source": [
    "%timeit t.a"
   ]
  },
  {
   "cell_type": "code",
   "execution_count": 6,
   "id": "bd52f867",
   "metadata": {
    "execution": {
     "iopub.execute_input": "2023-02-27T13:35:14.706393Z",
     "iopub.status.busy": "2023-02-27T13:35:14.705809Z",
     "iopub.status.idle": "2023-02-27T13:35:14.712411Z",
     "shell.execute_reply": "2023-02-27T13:35:14.711817Z"
    }
   },
   "outputs": [
    {
     "data": {
      "text/plain": [
       "<FastTreeValue 0x7f615cb3a2b0>\n",
       "├── 'a' --> tensor([[-0.3381,  0.3223,  0.5112],\n",
       "│                   [ 0.0972, -0.4681, -1.3466]])\n",
       "└── 'x' --> <FastTreeValue 0x7f6180f0f970>\n",
       "    └── 'c' --> tensor([[ 0.1987, -2.2553,  0.5566,  0.8953],\n",
       "                        [ 0.9687, -0.8123,  0.4566, -1.1357],\n",
       "                        [ 2.0467, -1.2120,  0.5499,  0.9780]])"
      ]
     },
     "execution_count": 6,
     "metadata": {},
     "output_type": "execute_result"
    }
   ],
   "source": [
    "new_value = torch.randn(2, 3)\n",
    "t.a = new_value\n",
    "\n",
    "t"
   ]
  },
  {
   "cell_type": "code",
   "execution_count": 7,
   "id": "bbe04d1c",
   "metadata": {
    "execution": {
     "iopub.execute_input": "2023-02-27T13:35:14.715000Z",
     "iopub.status.busy": "2023-02-27T13:35:14.714769Z",
     "iopub.status.idle": "2023-02-27T13:35:20.214658Z",
     "shell.execute_reply": "2023-02-27T13:35:20.213883Z"
    }
   },
   "outputs": [
    {
     "name": "stdout",
     "output_type": "stream",
     "text": [
      "67.2 ns ± 0.0313 ns per loop (mean ± std. dev. of 7 runs, 10,000,000 loops each)\n"
     ]
    }
   ],
   "source": [
    "%timeit t.a = new_value"
   ]
  },
  {
   "cell_type": "markdown",
   "id": "48c49731",
   "metadata": {},
   "source": [
    "### Tianshou Batch's Get and Set"
   ]
  },
  {
   "cell_type": "code",
   "execution_count": 8,
   "id": "f1bb14c1",
   "metadata": {
    "execution": {
     "iopub.execute_input": "2023-02-27T13:35:20.217920Z",
     "iopub.status.busy": "2023-02-27T13:35:20.217356Z",
     "iopub.status.idle": "2023-02-27T13:35:20.554852Z",
     "shell.execute_reply": "2023-02-27T13:35:20.554156Z"
    }
   },
   "outputs": [],
   "source": [
    "from tianshou.data import Batch\n",
    "\n",
    "b = Batch(**_TREE_DATA_2)"
   ]
  },
  {
   "cell_type": "code",
   "execution_count": 9,
   "id": "cb0777c3",
   "metadata": {
    "execution": {
     "iopub.execute_input": "2023-02-27T13:35:20.558457Z",
     "iopub.status.busy": "2023-02-27T13:35:20.557706Z",
     "iopub.status.idle": "2023-02-27T13:35:20.563236Z",
     "shell.execute_reply": "2023-02-27T13:35:20.562612Z"
    }
   },
   "outputs": [
    {
     "data": {
      "text/plain": [
       "Batch(\n",
       "    a: tensor([[-0.3596,  2.3718, -1.5135],\n",
       "               [-0.6219, -0.4696,  0.3808]]),\n",
       "    x: Batch(\n",
       "           c: tensor([[ 0.1987, -2.2553,  0.5566,  0.8953],\n",
       "                      [ 0.9687, -0.8123,  0.4566, -1.1357],\n",
       "                      [ 2.0467, -1.2120,  0.5499,  0.9780]]),\n",
       "       ),\n",
       ")"
      ]
     },
     "execution_count": 9,
     "metadata": {},
     "output_type": "execute_result"
    }
   ],
   "source": [
    "b"
   ]
  },
  {
   "cell_type": "code",
   "execution_count": 10,
   "id": "43ef8ea3",
   "metadata": {
    "execution": {
     "iopub.execute_input": "2023-02-27T13:35:20.565838Z",
     "iopub.status.busy": "2023-02-27T13:35:20.565498Z",
     "iopub.status.idle": "2023-02-27T13:35:20.571252Z",
     "shell.execute_reply": "2023-02-27T13:35:20.570686Z"
    }
   },
   "outputs": [
    {
     "data": {
      "text/plain": [
       "tensor([[-0.3596,  2.3718, -1.5135],\n",
       "        [-0.6219, -0.4696,  0.3808]])"
      ]
     },
     "execution_count": 10,
     "metadata": {},
     "output_type": "execute_result"
    }
   ],
   "source": [
    "b.a"
   ]
  },
  {
   "cell_type": "code",
   "execution_count": 11,
   "id": "b785ab72",
   "metadata": {
    "execution": {
     "iopub.execute_input": "2023-02-27T13:35:20.573869Z",
     "iopub.status.busy": "2023-02-27T13:35:20.573383Z",
     "iopub.status.idle": "2023-02-27T13:35:25.363455Z",
     "shell.execute_reply": "2023-02-27T13:35:25.362718Z"
    }
   },
   "outputs": [
    {
     "name": "stdout",
     "output_type": "stream",
     "text": [
      "59.2 ns ± 0.0109 ns per loop (mean ± std. dev. of 7 runs, 10,000,000 loops each)\n"
     ]
    }
   ],
   "source": [
    "%timeit b.a"
   ]
  },
  {
   "cell_type": "code",
   "execution_count": 12,
   "id": "ad54dc69",
   "metadata": {
    "execution": {
     "iopub.execute_input": "2023-02-27T13:35:25.366710Z",
     "iopub.status.busy": "2023-02-27T13:35:25.366113Z",
     "iopub.status.idle": "2023-02-27T13:35:25.372481Z",
     "shell.execute_reply": "2023-02-27T13:35:25.371904Z"
    }
   },
   "outputs": [
    {
     "data": {
      "text/plain": [
       "Batch(\n",
       "    a: tensor([[-1.5862,  0.8694, -1.6671],\n",
       "               [ 0.5105,  0.1423, -1.6231]]),\n",
       "    x: Batch(\n",
       "           c: tensor([[ 0.1987, -2.2553,  0.5566,  0.8953],\n",
       "                      [ 0.9687, -0.8123,  0.4566, -1.1357],\n",
       "                      [ 2.0467, -1.2120,  0.5499,  0.9780]]),\n",
       "       ),\n",
       ")"
      ]
     },
     "execution_count": 12,
     "metadata": {},
     "output_type": "execute_result"
    }
   ],
   "source": [
    "new_value = torch.randn(2, 3)\n",
    "b.a = new_value\n",
    "\n",
    "b"
   ]
  },
  {
   "cell_type": "code",
   "execution_count": 13,
   "id": "29b1d0bf",
   "metadata": {
    "execution": {
     "iopub.execute_input": "2023-02-27T13:35:25.374784Z",
     "iopub.status.busy": "2023-02-27T13:35:25.374564Z",
     "iopub.status.idle": "2023-02-27T13:35:29.297294Z",
     "shell.execute_reply": "2023-02-27T13:35:29.296585Z"
    }
   },
   "outputs": [
    {
     "name": "stdout",
     "output_type": "stream",
     "text": [
      "482 ns ± 0.0558 ns per loop (mean ± std. dev. of 7 runs, 1,000,000 loops each)\n"
     ]
    }
   ],
   "source": [
    "%timeit b.a = new_value"
   ]
  },
  {
   "cell_type": "markdown",
   "id": "b61ad1d0",
   "metadata": {},
   "source": [
    "## Initialization"
   ]
  },
  {
   "cell_type": "markdown",
   "id": "d70f0d54",
   "metadata": {},
   "source": [
    "### TreeValue's Initialization"
   ]
  },
  {
   "cell_type": "code",
   "execution_count": 14,
   "id": "d32a679b",
   "metadata": {
    "execution": {
     "iopub.execute_input": "2023-02-27T13:35:29.300617Z",
     "iopub.status.busy": "2023-02-27T13:35:29.299967Z",
     "iopub.status.idle": "2023-02-27T13:35:35.996131Z",
     "shell.execute_reply": "2023-02-27T13:35:35.995438Z"
    }
   },
   "outputs": [
    {
     "name": "stdout",
     "output_type": "stream",
     "text": [
      "825 ns ± 0.259 ns per loop (mean ± std. dev. of 7 runs, 1,000,000 loops each)\n"
     ]
    }
   ],
   "source": [
    "%timeit FastTreeValue(_TREE_DATA_1)"
   ]
  },
  {
   "cell_type": "markdown",
   "id": "24f3707b",
   "metadata": {},
   "source": [
    "### Tianshou Batch's Initialization"
   ]
  },
  {
   "cell_type": "code",
   "execution_count": 15,
   "id": "ac3958df",
   "metadata": {
    "execution": {
     "iopub.execute_input": "2023-02-27T13:35:35.999337Z",
     "iopub.status.busy": "2023-02-27T13:35:35.998766Z",
     "iopub.status.idle": "2023-02-27T13:35:44.886596Z",
     "shell.execute_reply": "2023-02-27T13:35:44.885903Z"
    }
   },
   "outputs": [
    {
     "name": "stdout",
     "output_type": "stream",
     "text": [
      "10.9 µs ± 67.6 ns per loop (mean ± std. dev. of 7 runs, 100,000 loops each)\n"
     ]
    }
   ],
   "source": [
    "%timeit Batch(**_TREE_DATA_1)"
   ]
  },
  {
   "cell_type": "markdown",
   "id": "1ab82e2d",
   "metadata": {},
   "source": [
    "## Deep Copy Operation"
   ]
  },
  {
   "cell_type": "code",
   "execution_count": 16,
   "id": "210a9442",
   "metadata": {
    "execution": {
     "iopub.execute_input": "2023-02-27T13:35:44.889307Z",
     "iopub.status.busy": "2023-02-27T13:35:44.888939Z",
     "iopub.status.idle": "2023-02-27T13:35:44.892871Z",
     "shell.execute_reply": "2023-02-27T13:35:44.892300Z"
    }
   },
   "outputs": [],
   "source": [
    "import copy"
   ]
  },
  {
   "cell_type": "markdown",
   "id": "5a736274",
   "metadata": {},
   "source": [
    "### Deep Copy of TreeValue"
   ]
  },
  {
   "cell_type": "code",
   "execution_count": 17,
   "id": "f9bcadd6",
   "metadata": {
    "execution": {
     "iopub.execute_input": "2023-02-27T13:35:44.895253Z",
     "iopub.status.busy": "2023-02-27T13:35:44.894913Z",
     "iopub.status.idle": "2023-02-27T13:35:56.175770Z",
     "shell.execute_reply": "2023-02-27T13:35:56.175172Z"
    }
   },
   "outputs": [
    {
     "name": "stdout",
     "output_type": "stream",
     "text": [
      "139 µs ± 567 ns per loop (mean ± std. dev. of 7 runs, 10,000 loops each)\n"
     ]
    }
   ],
   "source": [
    "t3 = FastTreeValue(_TREE_DATA_3)\n",
    "%timeit copy.deepcopy(t3)"
   ]
  },
  {
   "cell_type": "markdown",
   "id": "bf8be7ea",
   "metadata": {},
   "source": [
    "### Deep Copy of Tianshou Batch"
   ]
  },
  {
   "cell_type": "code",
   "execution_count": 18,
   "id": "91998e6f",
   "metadata": {
    "execution": {
     "iopub.execute_input": "2023-02-27T13:35:56.178682Z",
     "iopub.status.busy": "2023-02-27T13:35:56.178201Z",
     "iopub.status.idle": "2023-02-27T13:36:07.706364Z",
     "shell.execute_reply": "2023-02-27T13:36:07.705691Z"
    }
   },
   "outputs": [
    {
     "name": "stdout",
     "output_type": "stream",
     "text": [
      "142 µs ± 951 ns per loop (mean ± std. dev. of 7 runs, 10,000 loops each)\n"
     ]
    }
   ],
   "source": [
    "b3 = Batch(**_TREE_DATA_3)\n",
    "%timeit copy.deepcopy(b3)"
   ]
  },
  {
   "cell_type": "markdown",
   "id": "223162fb",
   "metadata": {},
   "source": [
    "## Stack, Concat and Split Operation"
   ]
  },
  {
   "cell_type": "markdown",
   "id": "85fa4a73",
   "metadata": {},
   "source": [
    "### Performance of TreeValue"
   ]
  },
  {
   "cell_type": "code",
   "execution_count": 19,
   "id": "a0c2b697",
   "metadata": {
    "execution": {
     "iopub.execute_input": "2023-02-27T13:36:07.709433Z",
     "iopub.status.busy": "2023-02-27T13:36:07.709092Z",
     "iopub.status.idle": "2023-02-27T13:36:07.713040Z",
     "shell.execute_reply": "2023-02-27T13:36:07.712449Z"
    }
   },
   "outputs": [],
   "source": [
    "trees = [FastTreeValue(_TREE_DATA_2) for _ in range(8)]"
   ]
  },
  {
   "cell_type": "code",
   "execution_count": 20,
   "id": "017ea5a5",
   "metadata": {
    "execution": {
     "iopub.execute_input": "2023-02-27T13:36:07.715621Z",
     "iopub.status.busy": "2023-02-27T13:36:07.715271Z",
     "iopub.status.idle": "2023-02-27T13:36:07.721845Z",
     "shell.execute_reply": "2023-02-27T13:36:07.721339Z"
    }
   },
   "outputs": [
    {
     "data": {
      "text/plain": [
       "<FastTreeValue 0x7f60c910bd30>\n",
       "├── 'a' --> tensor([[[-0.3596,  2.3718, -1.5135],\n",
       "│                    [-0.6219, -0.4696,  0.3808]],\n",
       "│           \n",
       "│                   [[-0.3596,  2.3718, -1.5135],\n",
       "│                    [-0.6219, -0.4696,  0.3808]],\n",
       "│           \n",
       "│                   [[-0.3596,  2.3718, -1.5135],\n",
       "│                    [-0.6219, -0.4696,  0.3808]],\n",
       "│           \n",
       "│                   [[-0.3596,  2.3718, -1.5135],\n",
       "│                    [-0.6219, -0.4696,  0.3808]],\n",
       "│           \n",
       "│                   [[-0.3596,  2.3718, -1.5135],\n",
       "│                    [-0.6219, -0.4696,  0.3808]],\n",
       "│           \n",
       "│                   [[-0.3596,  2.3718, -1.5135],\n",
       "│                    [-0.6219, -0.4696,  0.3808]],\n",
       "│           \n",
       "│                   [[-0.3596,  2.3718, -1.5135],\n",
       "│                    [-0.6219, -0.4696,  0.3808]],\n",
       "│           \n",
       "│                   [[-0.3596,  2.3718, -1.5135],\n",
       "│                    [-0.6219, -0.4696,  0.3808]]])\n",
       "└── 'x' --> <FastTreeValue 0x7f60c910bcd0>\n",
       "    └── 'c' --> tensor([[[ 0.1987, -2.2553,  0.5566,  0.8953],\n",
       "                         [ 0.9687, -0.8123,  0.4566, -1.1357],\n",
       "                         [ 2.0467, -1.2120,  0.5499,  0.9780]],\n",
       "                \n",
       "                        [[ 0.1987, -2.2553,  0.5566,  0.8953],\n",
       "                         [ 0.9687, -0.8123,  0.4566, -1.1357],\n",
       "                         [ 2.0467, -1.2120,  0.5499,  0.9780]],\n",
       "                \n",
       "                        [[ 0.1987, -2.2553,  0.5566,  0.8953],\n",
       "                         [ 0.9687, -0.8123,  0.4566, -1.1357],\n",
       "                         [ 2.0467, -1.2120,  0.5499,  0.9780]],\n",
       "                \n",
       "                        [[ 0.1987, -2.2553,  0.5566,  0.8953],\n",
       "                         [ 0.9687, -0.8123,  0.4566, -1.1357],\n",
       "                         [ 2.0467, -1.2120,  0.5499,  0.9780]],\n",
       "                \n",
       "                        [[ 0.1987, -2.2553,  0.5566,  0.8953],\n",
       "                         [ 0.9687, -0.8123,  0.4566, -1.1357],\n",
       "                         [ 2.0467, -1.2120,  0.5499,  0.9780]],\n",
       "                \n",
       "                        [[ 0.1987, -2.2553,  0.5566,  0.8953],\n",
       "                         [ 0.9687, -0.8123,  0.4566, -1.1357],\n",
       "                         [ 2.0467, -1.2120,  0.5499,  0.9780]],\n",
       "                \n",
       "                        [[ 0.1987, -2.2553,  0.5566,  0.8953],\n",
       "                         [ 0.9687, -0.8123,  0.4566, -1.1357],\n",
       "                         [ 2.0467, -1.2120,  0.5499,  0.9780]],\n",
       "                \n",
       "                        [[ 0.1987, -2.2553,  0.5566,  0.8953],\n",
       "                         [ 0.9687, -0.8123,  0.4566, -1.1357],\n",
       "                         [ 2.0467, -1.2120,  0.5499,  0.9780]]])"
      ]
     },
     "execution_count": 20,
     "metadata": {},
     "output_type": "execute_result"
    }
   ],
   "source": [
    "t_stack = FastTreeValue.func(subside=True)(torch.stack)\n",
    "\n",
    "t_stack(trees)"
   ]
  },
  {
   "cell_type": "code",
   "execution_count": 21,
   "id": "f8b3f415",
   "metadata": {
    "execution": {
     "iopub.execute_input": "2023-02-27T13:36:07.724177Z",
     "iopub.status.busy": "2023-02-27T13:36:07.723842Z",
     "iopub.status.idle": "2023-02-27T13:36:10.351398Z",
     "shell.execute_reply": "2023-02-27T13:36:10.350661Z"
    }
   },
   "outputs": [
    {
     "name": "stdout",
     "output_type": "stream",
     "text": [
      "32.3 µs ± 31.8 ns per loop (mean ± std. dev. of 7 runs, 10,000 loops each)\n"
     ]
    }
   ],
   "source": [
    "%timeit t_stack(trees)"
   ]
  },
  {
   "cell_type": "code",
   "execution_count": 22,
   "id": "94b56771",
   "metadata": {
    "execution": {
     "iopub.execute_input": "2023-02-27T13:36:10.354399Z",
     "iopub.status.busy": "2023-02-27T13:36:10.353825Z",
     "iopub.status.idle": "2023-02-27T13:36:10.360937Z",
     "shell.execute_reply": "2023-02-27T13:36:10.360300Z"
    }
   },
   "outputs": [
    {
     "data": {
      "text/plain": [
       "<FastTreeValue 0x7f60c96d9b20>\n",
       "├── 'a' --> tensor([[-0.3596,  2.3718, -1.5135],\n",
       "│                   [-0.6219, -0.4696,  0.3808],\n",
       "│                   [-0.3596,  2.3718, -1.5135],\n",
       "│                   [-0.6219, -0.4696,  0.3808],\n",
       "│                   [-0.3596,  2.3718, -1.5135],\n",
       "│                   [-0.6219, -0.4696,  0.3808],\n",
       "│                   [-0.3596,  2.3718, -1.5135],\n",
       "│                   [-0.6219, -0.4696,  0.3808],\n",
       "│                   [-0.3596,  2.3718, -1.5135],\n",
       "│                   [-0.6219, -0.4696,  0.3808],\n",
       "│                   [-0.3596,  2.3718, -1.5135],\n",
       "│                   [-0.6219, -0.4696,  0.3808],\n",
       "│                   [-0.3596,  2.3718, -1.5135],\n",
       "│                   [-0.6219, -0.4696,  0.3808],\n",
       "│                   [-0.3596,  2.3718, -1.5135],\n",
       "│                   [-0.6219, -0.4696,  0.3808]])\n",
       "└── 'x' --> <FastTreeValue 0x7f6180e950d0>\n",
       "    └── 'c' --> tensor([[ 0.1987, -2.2553,  0.5566,  0.8953],\n",
       "                        [ 0.9687, -0.8123,  0.4566, -1.1357],\n",
       "                        [ 2.0467, -1.2120,  0.5499,  0.9780],\n",
       "                        [ 0.1987, -2.2553,  0.5566,  0.8953],\n",
       "                        [ 0.9687, -0.8123,  0.4566, -1.1357],\n",
       "                        [ 2.0467, -1.2120,  0.5499,  0.9780],\n",
       "                        [ 0.1987, -2.2553,  0.5566,  0.8953],\n",
       "                        [ 0.9687, -0.8123,  0.4566, -1.1357],\n",
       "                        [ 2.0467, -1.2120,  0.5499,  0.9780],\n",
       "                        [ 0.1987, -2.2553,  0.5566,  0.8953],\n",
       "                        [ 0.9687, -0.8123,  0.4566, -1.1357],\n",
       "                        [ 2.0467, -1.2120,  0.5499,  0.9780],\n",
       "                        [ 0.1987, -2.2553,  0.5566,  0.8953],\n",
       "                        [ 0.9687, -0.8123,  0.4566, -1.1357],\n",
       "                        [ 2.0467, -1.2120,  0.5499,  0.9780],\n",
       "                        [ 0.1987, -2.2553,  0.5566,  0.8953],\n",
       "                        [ 0.9687, -0.8123,  0.4566, -1.1357],\n",
       "                        [ 2.0467, -1.2120,  0.5499,  0.9780],\n",
       "                        [ 0.1987, -2.2553,  0.5566,  0.8953],\n",
       "                        [ 0.9687, -0.8123,  0.4566, -1.1357],\n",
       "                        [ 2.0467, -1.2120,  0.5499,  0.9780],\n",
       "                        [ 0.1987, -2.2553,  0.5566,  0.8953],\n",
       "                        [ 0.9687, -0.8123,  0.4566, -1.1357],\n",
       "                        [ 2.0467, -1.2120,  0.5499,  0.9780]])"
      ]
     },
     "execution_count": 22,
     "metadata": {},
     "output_type": "execute_result"
    }
   ],
   "source": [
    "t_cat = FastTreeValue.func(subside=True)(torch.cat)\n",
    "\n",
    "t_cat(trees)"
   ]
  },
  {
   "cell_type": "code",
   "execution_count": 23,
   "id": "5e9c06a6",
   "metadata": {
    "execution": {
     "iopub.execute_input": "2023-02-27T13:36:10.363411Z",
     "iopub.status.busy": "2023-02-27T13:36:10.363049Z",
     "iopub.status.idle": "2023-02-27T13:36:12.827082Z",
     "shell.execute_reply": "2023-02-27T13:36:12.826319Z"
    }
   },
   "outputs": [
    {
     "name": "stdout",
     "output_type": "stream",
     "text": [
      "30.3 µs ± 131 ns per loop (mean ± std. dev. of 7 runs, 10,000 loops each)\n"
     ]
    }
   ],
   "source": [
    "%timeit t_cat(trees)"
   ]
  },
  {
   "cell_type": "code",
   "execution_count": 24,
   "id": "a3ab5c8f",
   "metadata": {
    "execution": {
     "iopub.execute_input": "2023-02-27T13:36:12.830197Z",
     "iopub.status.busy": "2023-02-27T13:36:12.829827Z",
     "iopub.status.idle": "2023-02-27T13:36:17.636954Z",
     "shell.execute_reply": "2023-02-27T13:36:17.636158Z"
    }
   },
   "outputs": [
    {
     "name": "stdout",
     "output_type": "stream",
     "text": [
      "59.1 µs ± 57.1 ns per loop (mean ± std. dev. of 7 runs, 10,000 loops each)\n"
     ]
    }
   ],
   "source": [
    "t_split = FastTreeValue.func(rise=True)(torch.split)\n",
    "tree = FastTreeValue({\n",
    "    'obs': torch.randn(8, 4, 84, 84),\n",
    "    'action': torch.randint(0, 6, size=(8, 1,)),\n",
    "    'reward': torch.rand(8, 1),\n",
    "})\n",
    "\n",
    "%timeit t_split(tree, 1)"
   ]
  },
  {
   "cell_type": "markdown",
   "id": "31c3ec0b",
   "metadata": {},
   "source": [
    "### Performance of Tianshou Batch"
   ]
  },
  {
   "cell_type": "code",
   "execution_count": 25,
   "id": "9ead828a",
   "metadata": {
    "execution": {
     "iopub.execute_input": "2023-02-27T13:36:17.639880Z",
     "iopub.status.busy": "2023-02-27T13:36:17.639407Z",
     "iopub.status.idle": "2023-02-27T13:36:17.647146Z",
     "shell.execute_reply": "2023-02-27T13:36:17.646553Z"
    }
   },
   "outputs": [
    {
     "data": {
      "text/plain": [
       "Batch(\n",
       "    a: tensor([[[-0.3596,  2.3718, -1.5135],\n",
       "                [-0.6219, -0.4696,  0.3808]],\n",
       "       \n",
       "               [[-0.3596,  2.3718, -1.5135],\n",
       "                [-0.6219, -0.4696,  0.3808]],\n",
       "       \n",
       "               [[-0.3596,  2.3718, -1.5135],\n",
       "                [-0.6219, -0.4696,  0.3808]],\n",
       "       \n",
       "               [[-0.3596,  2.3718, -1.5135],\n",
       "                [-0.6219, -0.4696,  0.3808]],\n",
       "       \n",
       "               [[-0.3596,  2.3718, -1.5135],\n",
       "                [-0.6219, -0.4696,  0.3808]],\n",
       "       \n",
       "               [[-0.3596,  2.3718, -1.5135],\n",
       "                [-0.6219, -0.4696,  0.3808]],\n",
       "       \n",
       "               [[-0.3596,  2.3718, -1.5135],\n",
       "                [-0.6219, -0.4696,  0.3808]],\n",
       "       \n",
       "               [[-0.3596,  2.3718, -1.5135],\n",
       "                [-0.6219, -0.4696,  0.3808]]]),\n",
       "    x: Batch(\n",
       "           c: tensor([[[ 0.1987, -2.2553,  0.5566,  0.8953],\n",
       "                       [ 0.9687, -0.8123,  0.4566, -1.1357],\n",
       "                       [ 2.0467, -1.2120,  0.5499,  0.9780]],\n",
       "              \n",
       "                      [[ 0.1987, -2.2553,  0.5566,  0.8953],\n",
       "                       [ 0.9687, -0.8123,  0.4566, -1.1357],\n",
       "                       [ 2.0467, -1.2120,  0.5499,  0.9780]],\n",
       "              \n",
       "                      [[ 0.1987, -2.2553,  0.5566,  0.8953],\n",
       "                       [ 0.9687, -0.8123,  0.4566, -1.1357],\n",
       "                       [ 2.0467, -1.2120,  0.5499,  0.9780]],\n",
       "              \n",
       "                      [[ 0.1987, -2.2553,  0.5566,  0.8953],\n",
       "                       [ 0.9687, -0.8123,  0.4566, -1.1357],\n",
       "                       [ 2.0467, -1.2120,  0.5499,  0.9780]],\n",
       "              \n",
       "                      [[ 0.1987, -2.2553,  0.5566,  0.8953],\n",
       "                       [ 0.9687, -0.8123,  0.4566, -1.1357],\n",
       "                       [ 2.0467, -1.2120,  0.5499,  0.9780]],\n",
       "              \n",
       "                      [[ 0.1987, -2.2553,  0.5566,  0.8953],\n",
       "                       [ 0.9687, -0.8123,  0.4566, -1.1357],\n",
       "                       [ 2.0467, -1.2120,  0.5499,  0.9780]],\n",
       "              \n",
       "                      [[ 0.1987, -2.2553,  0.5566,  0.8953],\n",
       "                       [ 0.9687, -0.8123,  0.4566, -1.1357],\n",
       "                       [ 2.0467, -1.2120,  0.5499,  0.9780]],\n",
       "              \n",
       "                      [[ 0.1987, -2.2553,  0.5566,  0.8953],\n",
       "                       [ 0.9687, -0.8123,  0.4566, -1.1357],\n",
       "                       [ 2.0467, -1.2120,  0.5499,  0.9780]]]),\n",
       "       ),\n",
       ")"
      ]
     },
     "execution_count": 25,
     "metadata": {},
     "output_type": "execute_result"
    }
   ],
   "source": [
    "batches = [Batch(**_TREE_DATA_2) for _ in range(8)]\n",
    "\n",
    "Batch.stack(batches)"
   ]
  },
  {
   "cell_type": "code",
   "execution_count": 26,
   "id": "ec9037a3",
   "metadata": {
    "execution": {
     "iopub.execute_input": "2023-02-27T13:36:17.649509Z",
     "iopub.status.busy": "2023-02-27T13:36:17.649163Z",
     "iopub.status.idle": "2023-02-27T13:36:24.023847Z",
     "shell.execute_reply": "2023-02-27T13:36:24.023016Z"
    }
   },
   "outputs": [
    {
     "name": "stdout",
     "output_type": "stream",
     "text": [
      "78.5 µs ± 201 ns per loop (mean ± std. dev. of 7 runs, 10,000 loops each)\n"
     ]
    }
   ],
   "source": [
    "%timeit Batch.stack(batches)"
   ]
  },
  {
   "cell_type": "code",
   "execution_count": 27,
   "id": "cb8ab77e",
   "metadata": {
    "execution": {
     "iopub.execute_input": "2023-02-27T13:36:24.026817Z",
     "iopub.status.busy": "2023-02-27T13:36:24.026200Z",
     "iopub.status.idle": "2023-02-27T13:36:24.033699Z",
     "shell.execute_reply": "2023-02-27T13:36:24.033122Z"
    }
   },
   "outputs": [
    {
     "data": {
      "text/plain": [
       "Batch(\n",
       "    a: tensor([[-0.3596,  2.3718, -1.5135],\n",
       "               [-0.6219, -0.4696,  0.3808],\n",
       "               [-0.3596,  2.3718, -1.5135],\n",
       "               [-0.6219, -0.4696,  0.3808],\n",
       "               [-0.3596,  2.3718, -1.5135],\n",
       "               [-0.6219, -0.4696,  0.3808],\n",
       "               [-0.3596,  2.3718, -1.5135],\n",
       "               [-0.6219, -0.4696,  0.3808],\n",
       "               [-0.3596,  2.3718, -1.5135],\n",
       "               [-0.6219, -0.4696,  0.3808],\n",
       "               [-0.3596,  2.3718, -1.5135],\n",
       "               [-0.6219, -0.4696,  0.3808],\n",
       "               [-0.3596,  2.3718, -1.5135],\n",
       "               [-0.6219, -0.4696,  0.3808],\n",
       "               [-0.3596,  2.3718, -1.5135],\n",
       "               [-0.6219, -0.4696,  0.3808]]),\n",
       "    x: Batch(\n",
       "           c: tensor([[ 0.1987, -2.2553,  0.5566,  0.8953],\n",
       "                      [ 0.9687, -0.8123,  0.4566, -1.1357],\n",
       "                      [ 2.0467, -1.2120,  0.5499,  0.9780],\n",
       "                      [ 0.1987, -2.2553,  0.5566,  0.8953],\n",
       "                      [ 0.9687, -0.8123,  0.4566, -1.1357],\n",
       "                      [ 2.0467, -1.2120,  0.5499,  0.9780],\n",
       "                      [ 0.1987, -2.2553,  0.5566,  0.8953],\n",
       "                      [ 0.9687, -0.8123,  0.4566, -1.1357],\n",
       "                      [ 2.0467, -1.2120,  0.5499,  0.9780],\n",
       "                      [ 0.1987, -2.2553,  0.5566,  0.8953],\n",
       "                      [ 0.9687, -0.8123,  0.4566, -1.1357],\n",
       "                      [ 2.0467, -1.2120,  0.5499,  0.9780],\n",
       "                      [ 0.1987, -2.2553,  0.5566,  0.8953],\n",
       "                      [ 0.9687, -0.8123,  0.4566, -1.1357],\n",
       "                      [ 2.0467, -1.2120,  0.5499,  0.9780],\n",
       "                      [ 0.1987, -2.2553,  0.5566,  0.8953],\n",
       "                      [ 0.9687, -0.8123,  0.4566, -1.1357],\n",
       "                      [ 2.0467, -1.2120,  0.5499,  0.9780],\n",
       "                      [ 0.1987, -2.2553,  0.5566,  0.8953],\n",
       "                      [ 0.9687, -0.8123,  0.4566, -1.1357],\n",
       "                      [ 2.0467, -1.2120,  0.5499,  0.9780],\n",
       "                      [ 0.1987, -2.2553,  0.5566,  0.8953],\n",
       "                      [ 0.9687, -0.8123,  0.4566, -1.1357],\n",
       "                      [ 2.0467, -1.2120,  0.5499,  0.9780]]),\n",
       "       ),\n",
       ")"
      ]
     },
     "execution_count": 27,
     "metadata": {},
     "output_type": "execute_result"
    }
   ],
   "source": [
    "Batch.cat(batches)"
   ]
  },
  {
   "cell_type": "code",
   "execution_count": 28,
   "id": "18dfb045",
   "metadata": {
    "execution": {
     "iopub.execute_input": "2023-02-27T13:36:24.036249Z",
     "iopub.status.busy": "2023-02-27T13:36:24.035913Z",
     "iopub.status.idle": "2023-02-27T13:36:37.090985Z",
     "shell.execute_reply": "2023-02-27T13:36:37.090212Z"
    }
   },
   "outputs": [
    {
     "name": "stdout",
     "output_type": "stream",
     "text": [
      "161 µs ± 112 ns per loop (mean ± std. dev. of 7 runs, 10,000 loops each)\n"
     ]
    }
   ],
   "source": [
    "%timeit Batch.cat(batches)"
   ]
  },
  {
   "cell_type": "code",
   "execution_count": 29,
   "id": "c6688e51",
   "metadata": {
    "execution": {
     "iopub.execute_input": "2023-02-27T13:36:37.094177Z",
     "iopub.status.busy": "2023-02-27T13:36:37.093672Z",
     "iopub.status.idle": "2023-02-27T13:36:39.617805Z",
     "shell.execute_reply": "2023-02-27T13:36:39.617117Z"
    }
   },
   "outputs": [
    {
     "name": "stdout",
     "output_type": "stream",
     "text": [
      "310 µs ± 1.32 µs per loop (mean ± std. dev. of 7 runs, 1,000 loops each)\n"
     ]
    }
   ],
   "source": [
    "batch = Batch({\n",
    "    'obs': torch.randn(8, 4, 84, 84),\n",
    "    'action': torch.randint(0, 6, size=(8, 1,)),\n",
    "    'reward': torch.rand(8, 1)}\n",
    ")\n",
    "\n",
    "%timeit list(Batch.split(batch, 1, shuffle=False, merge_last=True))"
   ]
  },
  {
   "cell_type": "code",
   "execution_count": null,
   "id": "2539fbd9",
   "metadata": {},
   "outputs": [],
   "source": []
  }
 ],
 "metadata": {
  "kernelspec": {
   "display_name": "Python 3 (ipykernel)",
   "language": "python",
   "name": "python3"
  },
  "language_info": {
   "codemirror_mode": {
    "name": "ipython",
    "version": 3
   },
   "file_extension": ".py",
   "mimetype": "text/x-python",
   "name": "python",
   "nbconvert_exporter": "python",
   "pygments_lexer": "ipython3",
   "version": "3.8.16"
  }
 },
 "nbformat": 4,
 "nbformat_minor": 5
}
