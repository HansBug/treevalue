{
 "cells": [
  {
   "cell_type": "markdown",
   "id": "9d39d946",
   "metadata": {},
   "source": [
    "# Comparison Between TreeValue and Tianshou Batch"
   ]
  },
  {
   "cell_type": "markdown",
   "id": "3c6db2d4",
   "metadata": {},
   "source": [
    "In this section, we will take a look at the feature and performance of the [Tianshou Batch](https://github.com/thu-ml/tianshou) library, which is developed by Tsinghua Machine Learning Group."
   ]
  },
  {
   "cell_type": "markdown",
   "id": "069361b0",
   "metadata": {},
   "source": [
    "Before starting the comparison, let us define some thing."
   ]
  },
  {
   "cell_type": "code",
   "execution_count": 1,
   "id": "06fc8d26",
   "metadata": {
    "execution": {
     "iopub.execute_input": "2023-02-26T16:06:08.227947Z",
     "iopub.status.busy": "2023-02-26T16:06:08.227667Z",
     "iopub.status.idle": "2023-02-26T16:06:09.477965Z",
     "shell.execute_reply": "2023-02-26T16:06:09.476664Z"
    }
   },
   "outputs": [
    {
     "name": "stderr",
     "output_type": "stream",
     "text": [
      "/opt/hostedtoolcache/Python/3.8.16/x64/lib/python3.8/site-packages/tqdm/auto.py:22: TqdmWarning: IProgress not found. Please update jupyter and ipywidgets. See https://ipywidgets.readthedocs.io/en/stable/user_install.html\n",
      "  from .autonotebook import tqdm as notebook_tqdm\n"
     ]
    }
   ],
   "source": [
    "import torch \n",
    "\n",
    "_TREE_DATA_1 = {'a': 1, 'b': 2, 'x': {'c': 3, 'd': 4}}\n",
    "_TREE_DATA_2 = {\n",
    "    'a': torch.randn(2, 3), \n",
    "    'x': {\n",
    "        'c': torch.randn(3, 4)\n",
    "    },\n",
    "}\n",
    "_TREE_DATA_3 = {\n",
    "    'obs': torch.randn(4, 84, 84),\n",
    "    'action': torch.randint(0, 6, size=(1,)),\n",
    "    'reward': torch.rand(1),\n",
    "}"
   ]
  },
  {
   "cell_type": "markdown",
   "id": "83461b25",
   "metadata": {},
   "source": [
    "## Read and Write Operation"
   ]
  },
  {
   "cell_type": "markdown",
   "id": "067b3f73",
   "metadata": {},
   "source": [
    "Reading and writing are the two most common operations in the tree data structure based on the data model (TreeValue and Tianshou Batch both belong to this type), so this section will compare the reading and writing performance of these two libraries."
   ]
  },
  {
   "cell_type": "markdown",
   "id": "5d09a5b7",
   "metadata": {},
   "source": [
    "### TreeValue's Get and Set"
   ]
  },
  {
   "cell_type": "code",
   "execution_count": 2,
   "id": "9519c4bb",
   "metadata": {
    "execution": {
     "iopub.execute_input": "2023-02-26T16:06:09.482495Z",
     "iopub.status.busy": "2023-02-26T16:06:09.482099Z",
     "iopub.status.idle": "2023-02-26T16:06:09.857420Z",
     "shell.execute_reply": "2023-02-26T16:06:09.856366Z"
    }
   },
   "outputs": [],
   "source": [
    "from treevalue import FastTreeValue\n",
    "\n",
    "t = FastTreeValue(_TREE_DATA_2)"
   ]
  },
  {
   "cell_type": "code",
   "execution_count": 3,
   "id": "11c37677",
   "metadata": {
    "execution": {
     "iopub.execute_input": "2023-02-26T16:06:09.861599Z",
     "iopub.status.busy": "2023-02-26T16:06:09.861215Z",
     "iopub.status.idle": "2023-02-26T16:06:09.874005Z",
     "shell.execute_reply": "2023-02-26T16:06:09.873029Z"
    }
   },
   "outputs": [
    {
     "data": {
      "text/plain": [
       "<FastTreeValue 0x7f18a0ee1f40>\n",
       "├── 'a' --> tensor([[ 0.7894, -1.5597, -1.1827],\n",
       "│                   [-0.8797,  0.5197, -0.9675]])\n",
       "└── 'x' --> <FastTreeValue 0x7f18a0ee1f10>\n",
       "    └── 'c' --> tensor([[ 0.2868,  1.8916, -0.4596,  1.5075],\n",
       "                        [-0.1334,  0.5806,  0.4720,  0.2513],\n",
       "                        [ 0.4364, -1.4575, -0.1207, -0.5282]])"
      ]
     },
     "execution_count": 3,
     "metadata": {},
     "output_type": "execute_result"
    }
   ],
   "source": [
    "t"
   ]
  },
  {
   "cell_type": "code",
   "execution_count": 4,
   "id": "fd70b0b9",
   "metadata": {
    "execution": {
     "iopub.execute_input": "2023-02-26T16:06:09.877725Z",
     "iopub.status.busy": "2023-02-26T16:06:09.877425Z",
     "iopub.status.idle": "2023-02-26T16:06:09.885536Z",
     "shell.execute_reply": "2023-02-26T16:06:09.884639Z"
    }
   },
   "outputs": [
    {
     "data": {
      "text/plain": [
       "tensor([[ 0.7894, -1.5597, -1.1827],\n",
       "        [-0.8797,  0.5197, -0.9675]])"
      ]
     },
     "execution_count": 4,
     "metadata": {},
     "output_type": "execute_result"
    }
   ],
   "source": [
    "t.a"
   ]
  },
  {
   "cell_type": "code",
   "execution_count": 5,
   "id": "c18197bd",
   "metadata": {
    "execution": {
     "iopub.execute_input": "2023-02-26T16:06:09.888748Z",
     "iopub.status.busy": "2023-02-26T16:06:09.888429Z",
     "iopub.status.idle": "2023-02-26T16:06:16.100779Z",
     "shell.execute_reply": "2023-02-26T16:06:16.099661Z"
    }
   },
   "outputs": [
    {
     "name": "stdout",
     "output_type": "stream",
     "text": [
      "76.8 ns ± 0.596 ns per loop (mean ± std. dev. of 7 runs, 10,000,000 loops each)\n"
     ]
    }
   ],
   "source": [
    "%timeit t.a"
   ]
  },
  {
   "cell_type": "code",
   "execution_count": 6,
   "id": "bd52f867",
   "metadata": {
    "execution": {
     "iopub.execute_input": "2023-02-26T16:06:16.105299Z",
     "iopub.status.busy": "2023-02-26T16:06:16.104775Z",
     "iopub.status.idle": "2023-02-26T16:06:16.115241Z",
     "shell.execute_reply": "2023-02-26T16:06:16.114301Z"
    }
   },
   "outputs": [
    {
     "data": {
      "text/plain": [
       "<FastTreeValue 0x7f18a0ee1f40>\n",
       "├── 'a' --> tensor([[-1.3128, -0.7818, -0.6840],\n",
       "│                   [-0.2585,  1.3622, -0.7194]])\n",
       "└── 'x' --> <FastTreeValue 0x7f18a0ee1f10>\n",
       "    └── 'c' --> tensor([[ 0.2868,  1.8916, -0.4596,  1.5075],\n",
       "                        [-0.1334,  0.5806,  0.4720,  0.2513],\n",
       "                        [ 0.4364, -1.4575, -0.1207, -0.5282]])"
      ]
     },
     "execution_count": 6,
     "metadata": {},
     "output_type": "execute_result"
    }
   ],
   "source": [
    "new_value = torch.randn(2, 3)\n",
    "t.a = new_value\n",
    "\n",
    "t"
   ]
  },
  {
   "cell_type": "code",
   "execution_count": 7,
   "id": "bbe04d1c",
   "metadata": {
    "execution": {
     "iopub.execute_input": "2023-02-26T16:06:16.119019Z",
     "iopub.status.busy": "2023-02-26T16:06:16.118440Z",
     "iopub.status.idle": "2023-02-26T16:06:22.145235Z",
     "shell.execute_reply": "2023-02-26T16:06:22.144195Z"
    }
   },
   "outputs": [
    {
     "name": "stdout",
     "output_type": "stream",
     "text": [
      "74.1 ns ± 0.827 ns per loop (mean ± std. dev. of 7 runs, 10,000,000 loops each)\n"
     ]
    }
   ],
   "source": [
    "%timeit t.a = new_value"
   ]
  },
  {
   "cell_type": "markdown",
   "id": "48c49731",
   "metadata": {},
   "source": [
    "### Tianshou Batch's Get and Set"
   ]
  },
  {
   "cell_type": "code",
   "execution_count": 8,
   "id": "f1bb14c1",
   "metadata": {
    "execution": {
     "iopub.execute_input": "2023-02-26T16:06:22.149324Z",
     "iopub.status.busy": "2023-02-26T16:06:22.148484Z",
     "iopub.status.idle": "2023-02-26T16:06:22.601897Z",
     "shell.execute_reply": "2023-02-26T16:06:22.600796Z"
    }
   },
   "outputs": [],
   "source": [
    "from tianshou.data import Batch\n",
    "\n",
    "b = Batch(**_TREE_DATA_2)"
   ]
  },
  {
   "cell_type": "code",
   "execution_count": 9,
   "id": "cb0777c3",
   "metadata": {
    "execution": {
     "iopub.execute_input": "2023-02-26T16:06:22.605833Z",
     "iopub.status.busy": "2023-02-26T16:06:22.605414Z",
     "iopub.status.idle": "2023-02-26T16:06:22.613967Z",
     "shell.execute_reply": "2023-02-26T16:06:22.613033Z"
    }
   },
   "outputs": [
    {
     "data": {
      "text/plain": [
       "Batch(\n",
       "    a: tensor([[ 0.7894, -1.5597, -1.1827],\n",
       "               [-0.8797,  0.5197, -0.9675]]),\n",
       "    x: Batch(\n",
       "           c: tensor([[ 0.2868,  1.8916, -0.4596,  1.5075],\n",
       "                      [-0.1334,  0.5806,  0.4720,  0.2513],\n",
       "                      [ 0.4364, -1.4575, -0.1207, -0.5282]]),\n",
       "       ),\n",
       ")"
      ]
     },
     "execution_count": 9,
     "metadata": {},
     "output_type": "execute_result"
    }
   ],
   "source": [
    "b"
   ]
  },
  {
   "cell_type": "code",
   "execution_count": 10,
   "id": "43ef8ea3",
   "metadata": {
    "execution": {
     "iopub.execute_input": "2023-02-26T16:06:22.617358Z",
     "iopub.status.busy": "2023-02-26T16:06:22.617071Z",
     "iopub.status.idle": "2023-02-26T16:06:22.623980Z",
     "shell.execute_reply": "2023-02-26T16:06:22.623074Z"
    }
   },
   "outputs": [
    {
     "data": {
      "text/plain": [
       "tensor([[ 0.7894, -1.5597, -1.1827],\n",
       "        [-0.8797,  0.5197, -0.9675]])"
      ]
     },
     "execution_count": 10,
     "metadata": {},
     "output_type": "execute_result"
    }
   ],
   "source": [
    "b.a"
   ]
  },
  {
   "cell_type": "code",
   "execution_count": 11,
   "id": "b785ab72",
   "metadata": {
    "execution": {
     "iopub.execute_input": "2023-02-26T16:06:22.627649Z",
     "iopub.status.busy": "2023-02-26T16:06:22.627060Z",
     "iopub.status.idle": "2023-02-26T16:06:28.108801Z",
     "shell.execute_reply": "2023-02-26T16:06:28.107693Z"
    }
   },
   "outputs": [
    {
     "name": "stdout",
     "output_type": "stream",
     "text": [
      "67.2 ns ± 1.25 ns per loop (mean ± std. dev. of 7 runs, 10,000,000 loops each)\n"
     ]
    }
   ],
   "source": [
    "%timeit b.a"
   ]
  },
  {
   "cell_type": "code",
   "execution_count": 12,
   "id": "ad54dc69",
   "metadata": {
    "execution": {
     "iopub.execute_input": "2023-02-26T16:06:28.112188Z",
     "iopub.status.busy": "2023-02-26T16:06:28.111890Z",
     "iopub.status.idle": "2023-02-26T16:06:28.121230Z",
     "shell.execute_reply": "2023-02-26T16:06:28.120194Z"
    }
   },
   "outputs": [
    {
     "data": {
      "text/plain": [
       "Batch(\n",
       "    a: tensor([[ 1.9425,  0.8928,  0.4996],\n",
       "               [ 1.6387,  0.3291, -0.1200]]),\n",
       "    x: Batch(\n",
       "           c: tensor([[ 0.2868,  1.8916, -0.4596,  1.5075],\n",
       "                      [-0.1334,  0.5806,  0.4720,  0.2513],\n",
       "                      [ 0.4364, -1.4575, -0.1207, -0.5282]]),\n",
       "       ),\n",
       ")"
      ]
     },
     "execution_count": 12,
     "metadata": {},
     "output_type": "execute_result"
    }
   ],
   "source": [
    "new_value = torch.randn(2, 3)\n",
    "b.a = new_value\n",
    "\n",
    "b"
   ]
  },
  {
   "cell_type": "code",
   "execution_count": 13,
   "id": "29b1d0bf",
   "metadata": {
    "execution": {
     "iopub.execute_input": "2023-02-26T16:06:28.124830Z",
     "iopub.status.busy": "2023-02-26T16:06:28.124485Z",
     "iopub.status.idle": "2023-02-26T16:06:33.188056Z",
     "shell.execute_reply": "2023-02-26T16:06:33.186209Z"
    }
   },
   "outputs": [
    {
     "name": "stdout",
     "output_type": "stream",
     "text": [
      "624 ns ± 7.32 ns per loop (mean ± std. dev. of 7 runs, 1,000,000 loops each)\n"
     ]
    }
   ],
   "source": [
    "%timeit b.a = new_value"
   ]
  },
  {
   "cell_type": "markdown",
   "id": "b61ad1d0",
   "metadata": {},
   "source": [
    "## Initialization"
   ]
  },
  {
   "cell_type": "markdown",
   "id": "d70f0d54",
   "metadata": {},
   "source": [
    "### TreeValue's Initialization"
   ]
  },
  {
   "cell_type": "code",
   "execution_count": 14,
   "id": "d32a679b",
   "metadata": {
    "execution": {
     "iopub.execute_input": "2023-02-26T16:06:33.192264Z",
     "iopub.status.busy": "2023-02-26T16:06:33.191684Z",
     "iopub.status.idle": "2023-02-26T16:06:41.320303Z",
     "shell.execute_reply": "2023-02-26T16:06:41.319201Z"
    }
   },
   "outputs": [
    {
     "name": "stdout",
     "output_type": "stream",
     "text": [
      "999 ns ± 11.2 ns per loop (mean ± std. dev. of 7 runs, 1,000,000 loops each)\n"
     ]
    }
   ],
   "source": [
    "%timeit FastTreeValue(_TREE_DATA_1)"
   ]
  },
  {
   "cell_type": "markdown",
   "id": "24f3707b",
   "metadata": {},
   "source": [
    "### Tianshou Batch's Initialization"
   ]
  },
  {
   "cell_type": "code",
   "execution_count": 15,
   "id": "ac3958df",
   "metadata": {
    "execution": {
     "iopub.execute_input": "2023-02-26T16:06:41.323929Z",
     "iopub.status.busy": "2023-02-26T16:06:41.323620Z",
     "iopub.status.idle": "2023-02-26T16:06:52.486491Z",
     "shell.execute_reply": "2023-02-26T16:06:52.485359Z"
    }
   },
   "outputs": [
    {
     "name": "stdout",
     "output_type": "stream",
     "text": [
      "13.8 µs ± 84.2 ns per loop (mean ± std. dev. of 7 runs, 100,000 loops each)\n"
     ]
    }
   ],
   "source": [
    "%timeit Batch(**_TREE_DATA_1)"
   ]
  },
  {
   "cell_type": "markdown",
   "id": "1ab82e2d",
   "metadata": {},
   "source": [
    "## Deep Copy Operation"
   ]
  },
  {
   "cell_type": "code",
   "execution_count": 16,
   "id": "210a9442",
   "metadata": {
    "execution": {
     "iopub.execute_input": "2023-02-26T16:06:52.490132Z",
     "iopub.status.busy": "2023-02-26T16:06:52.489823Z",
     "iopub.status.idle": "2023-02-26T16:06:52.495039Z",
     "shell.execute_reply": "2023-02-26T16:06:52.494085Z"
    }
   },
   "outputs": [],
   "source": [
    "import copy"
   ]
  },
  {
   "cell_type": "markdown",
   "id": "5a736274",
   "metadata": {},
   "source": [
    "### Deep Copy of TreeValue"
   ]
  },
  {
   "cell_type": "code",
   "execution_count": 17,
   "id": "f9bcadd6",
   "metadata": {
    "execution": {
     "iopub.execute_input": "2023-02-26T16:06:52.498246Z",
     "iopub.status.busy": "2023-02-26T16:06:52.497961Z",
     "iopub.status.idle": "2023-02-26T16:06:54.916084Z",
     "shell.execute_reply": "2023-02-26T16:06:54.915206Z"
    }
   },
   "outputs": [
    {
     "name": "stdout",
     "output_type": "stream",
     "text": [
      "298 µs ± 11 µs per loop (mean ± std. dev. of 7 runs, 1,000 loops each)\n"
     ]
    }
   ],
   "source": [
    "t3 = FastTreeValue(_TREE_DATA_3)\n",
    "%timeit copy.deepcopy(t3)"
   ]
  },
  {
   "cell_type": "markdown",
   "id": "bf8be7ea",
   "metadata": {},
   "source": [
    "### Deep Copy of Tianshou Batch"
   ]
  },
  {
   "cell_type": "code",
   "execution_count": 18,
   "id": "91998e6f",
   "metadata": {
    "execution": {
     "iopub.execute_input": "2023-02-26T16:06:54.920823Z",
     "iopub.status.busy": "2023-02-26T16:06:54.920154Z",
     "iopub.status.idle": "2023-02-26T16:06:57.175252Z",
     "shell.execute_reply": "2023-02-26T16:06:57.174295Z"
    }
   },
   "outputs": [
    {
     "name": "stdout",
     "output_type": "stream",
     "text": [
      "278 µs ± 7.22 µs per loop (mean ± std. dev. of 7 runs, 1,000 loops each)\n"
     ]
    }
   ],
   "source": [
    "b3 = Batch(**_TREE_DATA_3)\n",
    "%timeit copy.deepcopy(b3)"
   ]
  },
  {
   "cell_type": "markdown",
   "id": "223162fb",
   "metadata": {},
   "source": [
    "## Stack, Concat and Split Operation"
   ]
  },
  {
   "cell_type": "markdown",
   "id": "85fa4a73",
   "metadata": {},
   "source": [
    "### Performance of TreeValue"
   ]
  },
  {
   "cell_type": "code",
   "execution_count": 19,
   "id": "a0c2b697",
   "metadata": {
    "execution": {
     "iopub.execute_input": "2023-02-26T16:06:57.179222Z",
     "iopub.status.busy": "2023-02-26T16:06:57.178601Z",
     "iopub.status.idle": "2023-02-26T16:06:57.184475Z",
     "shell.execute_reply": "2023-02-26T16:06:57.182161Z"
    }
   },
   "outputs": [],
   "source": [
    "trees = [FastTreeValue(_TREE_DATA_2) for _ in range(8)]"
   ]
  },
  {
   "cell_type": "code",
   "execution_count": 20,
   "id": "017ea5a5",
   "metadata": {
    "execution": {
     "iopub.execute_input": "2023-02-26T16:06:57.188005Z",
     "iopub.status.busy": "2023-02-26T16:06:57.187414Z",
     "iopub.status.idle": "2023-02-26T16:06:57.197092Z",
     "shell.execute_reply": "2023-02-26T16:06:57.196175Z"
    }
   },
   "outputs": [
    {
     "data": {
      "text/plain": [
       "<FastTreeValue 0x7f17ea225b20>\n",
       "├── 'a' --> tensor([[[ 0.7894, -1.5597, -1.1827],\n",
       "│                    [-0.8797,  0.5197, -0.9675]],\n",
       "│           \n",
       "│                   [[ 0.7894, -1.5597, -1.1827],\n",
       "│                    [-0.8797,  0.5197, -0.9675]],\n",
       "│           \n",
       "│                   [[ 0.7894, -1.5597, -1.1827],\n",
       "│                    [-0.8797,  0.5197, -0.9675]],\n",
       "│           \n",
       "│                   [[ 0.7894, -1.5597, -1.1827],\n",
       "│                    [-0.8797,  0.5197, -0.9675]],\n",
       "│           \n",
       "│                   [[ 0.7894, -1.5597, -1.1827],\n",
       "│                    [-0.8797,  0.5197, -0.9675]],\n",
       "│           \n",
       "│                   [[ 0.7894, -1.5597, -1.1827],\n",
       "│                    [-0.8797,  0.5197, -0.9675]],\n",
       "│           \n",
       "│                   [[ 0.7894, -1.5597, -1.1827],\n",
       "│                    [-0.8797,  0.5197, -0.9675]],\n",
       "│           \n",
       "│                   [[ 0.7894, -1.5597, -1.1827],\n",
       "│                    [-0.8797,  0.5197, -0.9675]]])\n",
       "└── 'x' --> <FastTreeValue 0x7f17ea225df0>\n",
       "    └── 'c' --> tensor([[[ 0.2868,  1.8916, -0.4596,  1.5075],\n",
       "                         [-0.1334,  0.5806,  0.4720,  0.2513],\n",
       "                         [ 0.4364, -1.4575, -0.1207, -0.5282]],\n",
       "                \n",
       "                        [[ 0.2868,  1.8916, -0.4596,  1.5075],\n",
       "                         [-0.1334,  0.5806,  0.4720,  0.2513],\n",
       "                         [ 0.4364, -1.4575, -0.1207, -0.5282]],\n",
       "                \n",
       "                        [[ 0.2868,  1.8916, -0.4596,  1.5075],\n",
       "                         [-0.1334,  0.5806,  0.4720,  0.2513],\n",
       "                         [ 0.4364, -1.4575, -0.1207, -0.5282]],\n",
       "                \n",
       "                        [[ 0.2868,  1.8916, -0.4596,  1.5075],\n",
       "                         [-0.1334,  0.5806,  0.4720,  0.2513],\n",
       "                         [ 0.4364, -1.4575, -0.1207, -0.5282]],\n",
       "                \n",
       "                        [[ 0.2868,  1.8916, -0.4596,  1.5075],\n",
       "                         [-0.1334,  0.5806,  0.4720,  0.2513],\n",
       "                         [ 0.4364, -1.4575, -0.1207, -0.5282]],\n",
       "                \n",
       "                        [[ 0.2868,  1.8916, -0.4596,  1.5075],\n",
       "                         [-0.1334,  0.5806,  0.4720,  0.2513],\n",
       "                         [ 0.4364, -1.4575, -0.1207, -0.5282]],\n",
       "                \n",
       "                        [[ 0.2868,  1.8916, -0.4596,  1.5075],\n",
       "                         [-0.1334,  0.5806,  0.4720,  0.2513],\n",
       "                         [ 0.4364, -1.4575, -0.1207, -0.5282]],\n",
       "                \n",
       "                        [[ 0.2868,  1.8916, -0.4596,  1.5075],\n",
       "                         [-0.1334,  0.5806,  0.4720,  0.2513],\n",
       "                         [ 0.4364, -1.4575, -0.1207, -0.5282]]])"
      ]
     },
     "execution_count": 20,
     "metadata": {},
     "output_type": "execute_result"
    }
   ],
   "source": [
    "t_stack = FastTreeValue.func(subside=True)(torch.stack)\n",
    "\n",
    "t_stack(trees)"
   ]
  },
  {
   "cell_type": "code",
   "execution_count": 21,
   "id": "f8b3f415",
   "metadata": {
    "execution": {
     "iopub.execute_input": "2023-02-26T16:06:57.200528Z",
     "iopub.status.busy": "2023-02-26T16:06:57.199969Z",
     "iopub.status.idle": "2023-02-26T16:07:01.046954Z",
     "shell.execute_reply": "2023-02-26T16:07:01.045729Z"
    }
   },
   "outputs": [
    {
     "name": "stdout",
     "output_type": "stream",
     "text": [
      "47.1 µs ± 1.57 µs per loop (mean ± std. dev. of 7 runs, 10,000 loops each)\n"
     ]
    }
   ],
   "source": [
    "%timeit t_stack(trees)"
   ]
  },
  {
   "cell_type": "code",
   "execution_count": 22,
   "id": "94b56771",
   "metadata": {
    "execution": {
     "iopub.execute_input": "2023-02-26T16:07:01.050826Z",
     "iopub.status.busy": "2023-02-26T16:07:01.050121Z",
     "iopub.status.idle": "2023-02-26T16:07:01.060818Z",
     "shell.execute_reply": "2023-02-26T16:07:01.059598Z"
    }
   },
   "outputs": [
    {
     "data": {
      "text/plain": [
       "<FastTreeValue 0x7f17ea7ed6d0>\n",
       "├── 'a' --> tensor([[ 0.7894, -1.5597, -1.1827],\n",
       "│                   [-0.8797,  0.5197, -0.9675],\n",
       "│                   [ 0.7894, -1.5597, -1.1827],\n",
       "│                   [-0.8797,  0.5197, -0.9675],\n",
       "│                   [ 0.7894, -1.5597, -1.1827],\n",
       "│                   [-0.8797,  0.5197, -0.9675],\n",
       "│                   [ 0.7894, -1.5597, -1.1827],\n",
       "│                   [-0.8797,  0.5197, -0.9675],\n",
       "│                   [ 0.7894, -1.5597, -1.1827],\n",
       "│                   [-0.8797,  0.5197, -0.9675],\n",
       "│                   [ 0.7894, -1.5597, -1.1827],\n",
       "│                   [-0.8797,  0.5197, -0.9675],\n",
       "│                   [ 0.7894, -1.5597, -1.1827],\n",
       "│                   [-0.8797,  0.5197, -0.9675],\n",
       "│                   [ 0.7894, -1.5597, -1.1827],\n",
       "│                   [-0.8797,  0.5197, -0.9675]])\n",
       "└── 'x' --> <FastTreeValue 0x7f17ea7ed370>\n",
       "    └── 'c' --> tensor([[ 0.2868,  1.8916, -0.4596,  1.5075],\n",
       "                        [-0.1334,  0.5806,  0.4720,  0.2513],\n",
       "                        [ 0.4364, -1.4575, -0.1207, -0.5282],\n",
       "                        [ 0.2868,  1.8916, -0.4596,  1.5075],\n",
       "                        [-0.1334,  0.5806,  0.4720,  0.2513],\n",
       "                        [ 0.4364, -1.4575, -0.1207, -0.5282],\n",
       "                        [ 0.2868,  1.8916, -0.4596,  1.5075],\n",
       "                        [-0.1334,  0.5806,  0.4720,  0.2513],\n",
       "                        [ 0.4364, -1.4575, -0.1207, -0.5282],\n",
       "                        [ 0.2868,  1.8916, -0.4596,  1.5075],\n",
       "                        [-0.1334,  0.5806,  0.4720,  0.2513],\n",
       "                        [ 0.4364, -1.4575, -0.1207, -0.5282],\n",
       "                        [ 0.2868,  1.8916, -0.4596,  1.5075],\n",
       "                        [-0.1334,  0.5806,  0.4720,  0.2513],\n",
       "                        [ 0.4364, -1.4575, -0.1207, -0.5282],\n",
       "                        [ 0.2868,  1.8916, -0.4596,  1.5075],\n",
       "                        [-0.1334,  0.5806,  0.4720,  0.2513],\n",
       "                        [ 0.4364, -1.4575, -0.1207, -0.5282],\n",
       "                        [ 0.2868,  1.8916, -0.4596,  1.5075],\n",
       "                        [-0.1334,  0.5806,  0.4720,  0.2513],\n",
       "                        [ 0.4364, -1.4575, -0.1207, -0.5282],\n",
       "                        [ 0.2868,  1.8916, -0.4596,  1.5075],\n",
       "                        [-0.1334,  0.5806,  0.4720,  0.2513],\n",
       "                        [ 0.4364, -1.4575, -0.1207, -0.5282]])"
      ]
     },
     "execution_count": 22,
     "metadata": {},
     "output_type": "execute_result"
    }
   ],
   "source": [
    "t_cat = FastTreeValue.func(subside=True)(torch.cat)\n",
    "\n",
    "t_cat(trees)"
   ]
  },
  {
   "cell_type": "code",
   "execution_count": 23,
   "id": "5e9c06a6",
   "metadata": {
    "execution": {
     "iopub.execute_input": "2023-02-26T16:07:01.065394Z",
     "iopub.status.busy": "2023-02-26T16:07:01.064401Z",
     "iopub.status.idle": "2023-02-26T16:07:04.636487Z",
     "shell.execute_reply": "2023-02-26T16:07:04.635449Z"
    }
   },
   "outputs": [
    {
     "name": "stdout",
     "output_type": "stream",
     "text": [
      "44.1 µs ± 1.72 µs per loop (mean ± std. dev. of 7 runs, 10,000 loops each)\n"
     ]
    }
   ],
   "source": [
    "%timeit t_cat(trees)"
   ]
  },
  {
   "cell_type": "code",
   "execution_count": 24,
   "id": "a3ab5c8f",
   "metadata": {
    "execution": {
     "iopub.execute_input": "2023-02-26T16:07:04.640197Z",
     "iopub.status.busy": "2023-02-26T16:07:04.639679Z",
     "iopub.status.idle": "2023-02-26T16:07:11.198292Z",
     "shell.execute_reply": "2023-02-26T16:07:11.196921Z"
    }
   },
   "outputs": [
    {
     "name": "stdout",
     "output_type": "stream",
     "text": [
      "80.5 µs ± 1.57 µs per loop (mean ± std. dev. of 7 runs, 10,000 loops each)\n"
     ]
    }
   ],
   "source": [
    "t_split = FastTreeValue.func(rise=True)(torch.split)\n",
    "tree = FastTreeValue({\n",
    "    'obs': torch.randn(8, 4, 84, 84),\n",
    "    'action': torch.randint(0, 6, size=(8, 1,)),\n",
    "    'reward': torch.rand(8, 1),\n",
    "})\n",
    "\n",
    "%timeit t_split(tree, 1)"
   ]
  },
  {
   "cell_type": "markdown",
   "id": "31c3ec0b",
   "metadata": {},
   "source": [
    "### Performance of Tianshou Batch"
   ]
  },
  {
   "cell_type": "code",
   "execution_count": 25,
   "id": "9ead828a",
   "metadata": {
    "execution": {
     "iopub.execute_input": "2023-02-26T16:07:11.202384Z",
     "iopub.status.busy": "2023-02-26T16:07:11.201716Z",
     "iopub.status.idle": "2023-02-26T16:07:11.212578Z",
     "shell.execute_reply": "2023-02-26T16:07:11.211431Z"
    }
   },
   "outputs": [
    {
     "data": {
      "text/plain": [
       "Batch(\n",
       "    a: tensor([[[ 0.7894, -1.5597, -1.1827],\n",
       "                [-0.8797,  0.5197, -0.9675]],\n",
       "       \n",
       "               [[ 0.7894, -1.5597, -1.1827],\n",
       "                [-0.8797,  0.5197, -0.9675]],\n",
       "       \n",
       "               [[ 0.7894, -1.5597, -1.1827],\n",
       "                [-0.8797,  0.5197, -0.9675]],\n",
       "       \n",
       "               [[ 0.7894, -1.5597, -1.1827],\n",
       "                [-0.8797,  0.5197, -0.9675]],\n",
       "       \n",
       "               [[ 0.7894, -1.5597, -1.1827],\n",
       "                [-0.8797,  0.5197, -0.9675]],\n",
       "       \n",
       "               [[ 0.7894, -1.5597, -1.1827],\n",
       "                [-0.8797,  0.5197, -0.9675]],\n",
       "       \n",
       "               [[ 0.7894, -1.5597, -1.1827],\n",
       "                [-0.8797,  0.5197, -0.9675]],\n",
       "       \n",
       "               [[ 0.7894, -1.5597, -1.1827],\n",
       "                [-0.8797,  0.5197, -0.9675]]]),\n",
       "    x: Batch(\n",
       "           c: tensor([[[ 0.2868,  1.8916, -0.4596,  1.5075],\n",
       "                       [-0.1334,  0.5806,  0.4720,  0.2513],\n",
       "                       [ 0.4364, -1.4575, -0.1207, -0.5282]],\n",
       "              \n",
       "                      [[ 0.2868,  1.8916, -0.4596,  1.5075],\n",
       "                       [-0.1334,  0.5806,  0.4720,  0.2513],\n",
       "                       [ 0.4364, -1.4575, -0.1207, -0.5282]],\n",
       "              \n",
       "                      [[ 0.2868,  1.8916, -0.4596,  1.5075],\n",
       "                       [-0.1334,  0.5806,  0.4720,  0.2513],\n",
       "                       [ 0.4364, -1.4575, -0.1207, -0.5282]],\n",
       "              \n",
       "                      [[ 0.2868,  1.8916, -0.4596,  1.5075],\n",
       "                       [-0.1334,  0.5806,  0.4720,  0.2513],\n",
       "                       [ 0.4364, -1.4575, -0.1207, -0.5282]],\n",
       "              \n",
       "                      [[ 0.2868,  1.8916, -0.4596,  1.5075],\n",
       "                       [-0.1334,  0.5806,  0.4720,  0.2513],\n",
       "                       [ 0.4364, -1.4575, -0.1207, -0.5282]],\n",
       "              \n",
       "                      [[ 0.2868,  1.8916, -0.4596,  1.5075],\n",
       "                       [-0.1334,  0.5806,  0.4720,  0.2513],\n",
       "                       [ 0.4364, -1.4575, -0.1207, -0.5282]],\n",
       "              \n",
       "                      [[ 0.2868,  1.8916, -0.4596,  1.5075],\n",
       "                       [-0.1334,  0.5806,  0.4720,  0.2513],\n",
       "                       [ 0.4364, -1.4575, -0.1207, -0.5282]],\n",
       "              \n",
       "                      [[ 0.2868,  1.8916, -0.4596,  1.5075],\n",
       "                       [-0.1334,  0.5806,  0.4720,  0.2513],\n",
       "                       [ 0.4364, -1.4575, -0.1207, -0.5282]]]),\n",
       "       ),\n",
       ")"
      ]
     },
     "execution_count": 25,
     "metadata": {},
     "output_type": "execute_result"
    }
   ],
   "source": [
    "batches = [Batch(**_TREE_DATA_2) for _ in range(8)]\n",
    "\n",
    "Batch.stack(batches)"
   ]
  },
  {
   "cell_type": "code",
   "execution_count": 26,
   "id": "ec9037a3",
   "metadata": {
    "execution": {
     "iopub.execute_input": "2023-02-26T16:07:11.216078Z",
     "iopub.status.busy": "2023-02-26T16:07:11.215809Z",
     "iopub.status.idle": "2023-02-26T16:07:19.551007Z",
     "shell.execute_reply": "2023-02-26T16:07:19.549801Z"
    }
   },
   "outputs": [
    {
     "name": "stdout",
     "output_type": "stream",
     "text": [
      "103 µs ± 1.8 µs per loop (mean ± std. dev. of 7 runs, 10,000 loops each)\n"
     ]
    }
   ],
   "source": [
    "%timeit Batch.stack(batches)"
   ]
  },
  {
   "cell_type": "code",
   "execution_count": 27,
   "id": "cb8ab77e",
   "metadata": {
    "execution": {
     "iopub.execute_input": "2023-02-26T16:07:19.555070Z",
     "iopub.status.busy": "2023-02-26T16:07:19.554267Z",
     "iopub.status.idle": "2023-02-26T16:07:19.564022Z",
     "shell.execute_reply": "2023-02-26T16:07:19.563117Z"
    }
   },
   "outputs": [
    {
     "data": {
      "text/plain": [
       "Batch(\n",
       "    a: tensor([[ 0.7894, -1.5597, -1.1827],\n",
       "               [-0.8797,  0.5197, -0.9675],\n",
       "               [ 0.7894, -1.5597, -1.1827],\n",
       "               [-0.8797,  0.5197, -0.9675],\n",
       "               [ 0.7894, -1.5597, -1.1827],\n",
       "               [-0.8797,  0.5197, -0.9675],\n",
       "               [ 0.7894, -1.5597, -1.1827],\n",
       "               [-0.8797,  0.5197, -0.9675],\n",
       "               [ 0.7894, -1.5597, -1.1827],\n",
       "               [-0.8797,  0.5197, -0.9675],\n",
       "               [ 0.7894, -1.5597, -1.1827],\n",
       "               [-0.8797,  0.5197, -0.9675],\n",
       "               [ 0.7894, -1.5597, -1.1827],\n",
       "               [-0.8797,  0.5197, -0.9675],\n",
       "               [ 0.7894, -1.5597, -1.1827],\n",
       "               [-0.8797,  0.5197, -0.9675]]),\n",
       "    x: Batch(\n",
       "           c: tensor([[ 0.2868,  1.8916, -0.4596,  1.5075],\n",
       "                      [-0.1334,  0.5806,  0.4720,  0.2513],\n",
       "                      [ 0.4364, -1.4575, -0.1207, -0.5282],\n",
       "                      [ 0.2868,  1.8916, -0.4596,  1.5075],\n",
       "                      [-0.1334,  0.5806,  0.4720,  0.2513],\n",
       "                      [ 0.4364, -1.4575, -0.1207, -0.5282],\n",
       "                      [ 0.2868,  1.8916, -0.4596,  1.5075],\n",
       "                      [-0.1334,  0.5806,  0.4720,  0.2513],\n",
       "                      [ 0.4364, -1.4575, -0.1207, -0.5282],\n",
       "                      [ 0.2868,  1.8916, -0.4596,  1.5075],\n",
       "                      [-0.1334,  0.5806,  0.4720,  0.2513],\n",
       "                      [ 0.4364, -1.4575, -0.1207, -0.5282],\n",
       "                      [ 0.2868,  1.8916, -0.4596,  1.5075],\n",
       "                      [-0.1334,  0.5806,  0.4720,  0.2513],\n",
       "                      [ 0.4364, -1.4575, -0.1207, -0.5282],\n",
       "                      [ 0.2868,  1.8916, -0.4596,  1.5075],\n",
       "                      [-0.1334,  0.5806,  0.4720,  0.2513],\n",
       "                      [ 0.4364, -1.4575, -0.1207, -0.5282],\n",
       "                      [ 0.2868,  1.8916, -0.4596,  1.5075],\n",
       "                      [-0.1334,  0.5806,  0.4720,  0.2513],\n",
       "                      [ 0.4364, -1.4575, -0.1207, -0.5282],\n",
       "                      [ 0.2868,  1.8916, -0.4596,  1.5075],\n",
       "                      [-0.1334,  0.5806,  0.4720,  0.2513],\n",
       "                      [ 0.4364, -1.4575, -0.1207, -0.5282]]),\n",
       "       ),\n",
       ")"
      ]
     },
     "execution_count": 27,
     "metadata": {},
     "output_type": "execute_result"
    }
   ],
   "source": [
    "Batch.cat(batches)"
   ]
  },
  {
   "cell_type": "code",
   "execution_count": 28,
   "id": "18dfb045",
   "metadata": {
    "execution": {
     "iopub.execute_input": "2023-02-26T16:07:19.567248Z",
     "iopub.status.busy": "2023-02-26T16:07:19.566977Z",
     "iopub.status.idle": "2023-02-26T16:07:34.643972Z",
     "shell.execute_reply": "2023-02-26T16:07:34.642916Z"
    }
   },
   "outputs": [
    {
     "name": "stdout",
     "output_type": "stream",
     "text": [
      "187 µs ± 1.64 µs per loop (mean ± std. dev. of 7 runs, 10,000 loops each)\n"
     ]
    }
   ],
   "source": [
    "%timeit Batch.cat(batches)"
   ]
  },
  {
   "cell_type": "code",
   "execution_count": 29,
   "id": "c6688e51",
   "metadata": {
    "execution": {
     "iopub.execute_input": "2023-02-26T16:07:34.647878Z",
     "iopub.status.busy": "2023-02-26T16:07:34.647302Z",
     "iopub.status.idle": "2023-02-26T16:07:39.338007Z",
     "shell.execute_reply": "2023-02-26T16:07:39.337085Z"
    }
   },
   "outputs": [
    {
     "name": "stdout",
     "output_type": "stream",
     "text": [
      "576 µs ± 9.3 µs per loop (mean ± std. dev. of 7 runs, 1,000 loops each)\n"
     ]
    }
   ],
   "source": [
    "batch = Batch({\n",
    "    'obs': torch.randn(8, 4, 84, 84),\n",
    "    'action': torch.randint(0, 6, size=(8, 1,)),\n",
    "    'reward': torch.rand(8, 1)}\n",
    ")\n",
    "\n",
    "%timeit list(Batch.split(batch, 1, shuffle=False, merge_last=True))"
   ]
  },
  {
   "cell_type": "code",
   "execution_count": null,
   "id": "2539fbd9",
   "metadata": {},
   "outputs": [],
   "source": []
  }
 ],
 "metadata": {
  "kernelspec": {
   "display_name": "Python 3 (ipykernel)",
   "language": "python",
   "name": "python3"
  },
  "language_info": {
   "codemirror_mode": {
    "name": "ipython",
    "version": 3
   },
   "file_extension": ".py",
   "mimetype": "text/x-python",
   "name": "python",
   "nbconvert_exporter": "python",
   "pygments_lexer": "ipython3",
   "version": "3.8.16"
  }
 },
 "nbformat": 4,
 "nbformat_minor": 5
}
