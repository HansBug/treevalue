{
 "cells": [
  {
   "cell_type": "markdown",
   "id": "9d39d946",
   "metadata": {},
   "source": [
    "# Comparison Between TreeValue and Tianshou Batch"
   ]
  },
  {
   "cell_type": "markdown",
   "id": "3c6db2d4",
   "metadata": {},
   "source": [
    "In this section, we will take a look at the feature and performance of the [Tianshou Batch](https://github.com/thu-ml/tianshou) library, which is developed by Tsinghua Machine Learning Group."
   ]
  },
  {
   "cell_type": "markdown",
   "id": "069361b0",
   "metadata": {},
   "source": [
    "Before starting the comparison, let us define some thing."
   ]
  },
  {
   "cell_type": "code",
   "execution_count": 1,
   "id": "06fc8d26",
   "metadata": {
    "execution": {
     "iopub.execute_input": "2023-02-25T19:11:02.538300Z",
     "iopub.status.busy": "2023-02-25T19:11:02.537649Z",
     "iopub.status.idle": "2023-02-25T19:11:03.517251Z",
     "shell.execute_reply": "2023-02-25T19:11:03.516475Z"
    }
   },
   "outputs": [
    {
     "name": "stderr",
     "output_type": "stream",
     "text": [
      "/opt/hostedtoolcache/Python/3.8.16/x64/lib/python3.8/site-packages/tqdm/auto.py:22: TqdmWarning: IProgress not found. Please update jupyter and ipywidgets. See https://ipywidgets.readthedocs.io/en/stable/user_install.html\n",
      "  from .autonotebook import tqdm as notebook_tqdm\n"
     ]
    }
   ],
   "source": [
    "import torch \n",
    "\n",
    "_TREE_DATA_1 = {'a': 1, 'b': 2, 'x': {'c': 3, 'd': 4}}\n",
    "_TREE_DATA_2 = {\n",
    "    'a': torch.randn(2, 3), \n",
    "    'x': {\n",
    "        'c': torch.randn(3, 4)\n",
    "    },\n",
    "}\n",
    "_TREE_DATA_3 = {\n",
    "    'obs': torch.randn(4, 84, 84),\n",
    "    'action': torch.randint(0, 6, size=(1,)),\n",
    "    'reward': torch.rand(1),\n",
    "}"
   ]
  },
  {
   "cell_type": "markdown",
   "id": "83461b25",
   "metadata": {},
   "source": [
    "## Read and Write Operation"
   ]
  },
  {
   "cell_type": "markdown",
   "id": "067b3f73",
   "metadata": {},
   "source": [
    "Reading and writing are the two most common operations in the tree data structure based on the data model (TreeValue and Tianshou Batch both belong to this type), so this section will compare the reading and writing performance of these two libraries."
   ]
  },
  {
   "cell_type": "markdown",
   "id": "5d09a5b7",
   "metadata": {},
   "source": [
    "### TreeValue's Get and Set"
   ]
  },
  {
   "cell_type": "code",
   "execution_count": 2,
   "id": "9519c4bb",
   "metadata": {
    "execution": {
     "iopub.execute_input": "2023-02-25T19:11:03.521265Z",
     "iopub.status.busy": "2023-02-25T19:11:03.520670Z",
     "iopub.status.idle": "2023-02-25T19:11:03.555855Z",
     "shell.execute_reply": "2023-02-25T19:11:03.555122Z"
    }
   },
   "outputs": [],
   "source": [
    "from treevalue import FastTreeValue\n",
    "\n",
    "t = FastTreeValue(_TREE_DATA_2)"
   ]
  },
  {
   "cell_type": "code",
   "execution_count": 3,
   "id": "11c37677",
   "metadata": {
    "execution": {
     "iopub.execute_input": "2023-02-25T19:11:03.559346Z",
     "iopub.status.busy": "2023-02-25T19:11:03.558895Z",
     "iopub.status.idle": "2023-02-25T19:11:03.567712Z",
     "shell.execute_reply": "2023-02-25T19:11:03.567028Z"
    }
   },
   "outputs": [
    {
     "data": {
      "text/plain": [
       "<FastTreeValue 0x7f5a18098c40>\n",
       "├── 'a' --> tensor([[ 0.0130,  1.3219, -0.6813],\n",
       "│                   [ 0.3578, -0.1146, -0.7528]])\n",
       "└── 'x' --> <FastTreeValue 0x7f5a18098580>\n",
       "    └── 'c' --> tensor([[ 0.0226,  0.9629, -0.7110, -0.5091],\n",
       "                        [-0.1055, -0.6411, -2.8163, -0.1155],\n",
       "                        [ 0.6048, -0.2691,  0.1120, -1.1461]])"
      ]
     },
     "execution_count": 3,
     "metadata": {},
     "output_type": "execute_result"
    }
   ],
   "source": [
    "t"
   ]
  },
  {
   "cell_type": "code",
   "execution_count": 4,
   "id": "fd70b0b9",
   "metadata": {
    "execution": {
     "iopub.execute_input": "2023-02-25T19:11:03.570489Z",
     "iopub.status.busy": "2023-02-25T19:11:03.570055Z",
     "iopub.status.idle": "2023-02-25T19:11:03.574803Z",
     "shell.execute_reply": "2023-02-25T19:11:03.574148Z"
    }
   },
   "outputs": [
    {
     "data": {
      "text/plain": [
       "tensor([[ 0.0130,  1.3219, -0.6813],\n",
       "        [ 0.3578, -0.1146, -0.7528]])"
      ]
     },
     "execution_count": 4,
     "metadata": {},
     "output_type": "execute_result"
    }
   ],
   "source": [
    "t.a"
   ]
  },
  {
   "cell_type": "code",
   "execution_count": 5,
   "id": "c18197bd",
   "metadata": {
    "execution": {
     "iopub.execute_input": "2023-02-25T19:11:03.577337Z",
     "iopub.status.busy": "2023-02-25T19:11:03.576909Z",
     "iopub.status.idle": "2023-02-25T19:11:08.708850Z",
     "shell.execute_reply": "2023-02-25T19:11:08.708081Z"
    }
   },
   "outputs": [
    {
     "name": "stdout",
     "output_type": "stream",
     "text": [
      "63.2 ns ± 0.0614 ns per loop (mean ± std. dev. of 7 runs, 10,000,000 loops each)\n"
     ]
    }
   ],
   "source": [
    "%timeit t.a"
   ]
  },
  {
   "cell_type": "code",
   "execution_count": 6,
   "id": "bd52f867",
   "metadata": {
    "execution": {
     "iopub.execute_input": "2023-02-25T19:11:08.712180Z",
     "iopub.status.busy": "2023-02-25T19:11:08.711720Z",
     "iopub.status.idle": "2023-02-25T19:11:08.717867Z",
     "shell.execute_reply": "2023-02-25T19:11:08.717185Z"
    }
   },
   "outputs": [
    {
     "data": {
      "text/plain": [
       "<FastTreeValue 0x7f5a18098c40>\n",
       "├── 'a' --> tensor([[ 0.5922,  0.2726,  0.0290],\n",
       "│                   [ 0.6049, -2.3230, -1.6912]])\n",
       "└── 'x' --> <FastTreeValue 0x7f5a18098580>\n",
       "    └── 'c' --> tensor([[ 0.0226,  0.9629, -0.7110, -0.5091],\n",
       "                        [-0.1055, -0.6411, -2.8163, -0.1155],\n",
       "                        [ 0.6048, -0.2691,  0.1120, -1.1461]])"
      ]
     },
     "execution_count": 6,
     "metadata": {},
     "output_type": "execute_result"
    }
   ],
   "source": [
    "new_value = torch.randn(2, 3)\n",
    "t.a = new_value\n",
    "\n",
    "t"
   ]
  },
  {
   "cell_type": "code",
   "execution_count": 7,
   "id": "bbe04d1c",
   "metadata": {
    "execution": {
     "iopub.execute_input": "2023-02-25T19:11:08.720446Z",
     "iopub.status.busy": "2023-02-25T19:11:08.720080Z",
     "iopub.status.idle": "2023-02-25T19:11:14.710633Z",
     "shell.execute_reply": "2023-02-25T19:11:14.709748Z"
    }
   },
   "outputs": [
    {
     "name": "stdout",
     "output_type": "stream",
     "text": [
      "73.8 ns ± 0.0463 ns per loop (mean ± std. dev. of 7 runs, 10,000,000 loops each)\n"
     ]
    }
   ],
   "source": [
    "%timeit t.a = new_value"
   ]
  },
  {
   "cell_type": "markdown",
   "id": "48c49731",
   "metadata": {},
   "source": [
    "### Tianshou Batch's Get and Set"
   ]
  },
  {
   "cell_type": "code",
   "execution_count": 8,
   "id": "f1bb14c1",
   "metadata": {
    "execution": {
     "iopub.execute_input": "2023-02-25T19:11:14.714377Z",
     "iopub.status.busy": "2023-02-25T19:11:14.713789Z",
     "iopub.status.idle": "2023-02-25T19:11:15.090683Z",
     "shell.execute_reply": "2023-02-25T19:11:15.089942Z"
    }
   },
   "outputs": [],
   "source": [
    "from tianshou.data import Batch\n",
    "\n",
    "b = Batch(**_TREE_DATA_2)"
   ]
  },
  {
   "cell_type": "code",
   "execution_count": 9,
   "id": "cb0777c3",
   "metadata": {
    "execution": {
     "iopub.execute_input": "2023-02-25T19:11:15.094363Z",
     "iopub.status.busy": "2023-02-25T19:11:15.093827Z",
     "iopub.status.idle": "2023-02-25T19:11:15.100627Z",
     "shell.execute_reply": "2023-02-25T19:11:15.099989Z"
    }
   },
   "outputs": [
    {
     "data": {
      "text/plain": [
       "Batch(\n",
       "    a: tensor([[ 0.0130,  1.3219, -0.6813],\n",
       "               [ 0.3578, -0.1146, -0.7528]]),\n",
       "    x: Batch(\n",
       "           c: tensor([[ 0.0226,  0.9629, -0.7110, -0.5091],\n",
       "                      [-0.1055, -0.6411, -2.8163, -0.1155],\n",
       "                      [ 0.6048, -0.2691,  0.1120, -1.1461]]),\n",
       "       ),\n",
       ")"
      ]
     },
     "execution_count": 9,
     "metadata": {},
     "output_type": "execute_result"
    }
   ],
   "source": [
    "b"
   ]
  },
  {
   "cell_type": "code",
   "execution_count": 10,
   "id": "43ef8ea3",
   "metadata": {
    "execution": {
     "iopub.execute_input": "2023-02-25T19:11:15.103456Z",
     "iopub.status.busy": "2023-02-25T19:11:15.103058Z",
     "iopub.status.idle": "2023-02-25T19:11:15.108849Z",
     "shell.execute_reply": "2023-02-25T19:11:15.108208Z"
    }
   },
   "outputs": [
    {
     "data": {
      "text/plain": [
       "tensor([[ 0.0130,  1.3219, -0.6813],\n",
       "        [ 0.3578, -0.1146, -0.7528]])"
      ]
     },
     "execution_count": 10,
     "metadata": {},
     "output_type": "execute_result"
    }
   ],
   "source": [
    "b.a"
   ]
  },
  {
   "cell_type": "code",
   "execution_count": 11,
   "id": "b785ab72",
   "metadata": {
    "execution": {
     "iopub.execute_input": "2023-02-25T19:11:15.111940Z",
     "iopub.status.busy": "2023-02-25T19:11:15.111407Z",
     "iopub.status.idle": "2023-02-25T19:11:19.968814Z",
     "shell.execute_reply": "2023-02-25T19:11:19.967996Z"
    }
   },
   "outputs": [
    {
     "name": "stdout",
     "output_type": "stream",
     "text": [
      "59.8 ns ± 0.047 ns per loop (mean ± std. dev. of 7 runs, 10,000,000 loops each)\n"
     ]
    }
   ],
   "source": [
    "%timeit b.a"
   ]
  },
  {
   "cell_type": "code",
   "execution_count": 12,
   "id": "ad54dc69",
   "metadata": {
    "execution": {
     "iopub.execute_input": "2023-02-25T19:11:19.972223Z",
     "iopub.status.busy": "2023-02-25T19:11:19.971737Z",
     "iopub.status.idle": "2023-02-25T19:11:19.978468Z",
     "shell.execute_reply": "2023-02-25T19:11:19.977840Z"
    }
   },
   "outputs": [
    {
     "data": {
      "text/plain": [
       "Batch(\n",
       "    a: tensor([[-0.9529, -0.1280,  1.2021],\n",
       "               [-1.6331, -0.6899,  0.5073]]),\n",
       "    x: Batch(\n",
       "           c: tensor([[ 0.0226,  0.9629, -0.7110, -0.5091],\n",
       "                      [-0.1055, -0.6411, -2.8163, -0.1155],\n",
       "                      [ 0.6048, -0.2691,  0.1120, -1.1461]]),\n",
       "       ),\n",
       ")"
      ]
     },
     "execution_count": 12,
     "metadata": {},
     "output_type": "execute_result"
    }
   ],
   "source": [
    "new_value = torch.randn(2, 3)\n",
    "b.a = new_value\n",
    "\n",
    "b"
   ]
  },
  {
   "cell_type": "code",
   "execution_count": 13,
   "id": "29b1d0bf",
   "metadata": {
    "execution": {
     "iopub.execute_input": "2023-02-25T19:11:19.981668Z",
     "iopub.status.busy": "2023-02-25T19:11:19.981088Z",
     "iopub.status.idle": "2023-02-25T19:11:23.983906Z",
     "shell.execute_reply": "2023-02-25T19:11:23.983003Z"
    }
   },
   "outputs": [
    {
     "name": "stdout",
     "output_type": "stream",
     "text": [
      "493 ns ± 0.0972 ns per loop (mean ± std. dev. of 7 runs, 1,000,000 loops each)\n"
     ]
    }
   ],
   "source": [
    "%timeit b.a = new_value"
   ]
  },
  {
   "cell_type": "markdown",
   "id": "b61ad1d0",
   "metadata": {},
   "source": [
    "## Initialization"
   ]
  },
  {
   "cell_type": "markdown",
   "id": "d70f0d54",
   "metadata": {},
   "source": [
    "### TreeValue's Initialization"
   ]
  },
  {
   "cell_type": "code",
   "execution_count": 14,
   "id": "d32a679b",
   "metadata": {
    "execution": {
     "iopub.execute_input": "2023-02-25T19:11:23.987503Z",
     "iopub.status.busy": "2023-02-25T19:11:23.986979Z",
     "iopub.status.idle": "2023-02-25T19:11:31.111137Z",
     "shell.execute_reply": "2023-02-25T19:11:31.110190Z"
    }
   },
   "outputs": [
    {
     "name": "stdout",
     "output_type": "stream",
     "text": [
      "876 ns ± 0.192 ns per loop (mean ± std. dev. of 7 runs, 1,000,000 loops each)\n"
     ]
    }
   ],
   "source": [
    "%timeit FastTreeValue(_TREE_DATA_1)"
   ]
  },
  {
   "cell_type": "markdown",
   "id": "24f3707b",
   "metadata": {},
   "source": [
    "### Tianshou Batch's Initialization"
   ]
  },
  {
   "cell_type": "code",
   "execution_count": 15,
   "id": "ac3958df",
   "metadata": {
    "execution": {
     "iopub.execute_input": "2023-02-25T19:11:31.114656Z",
     "iopub.status.busy": "2023-02-25T19:11:31.114036Z",
     "iopub.status.idle": "2023-02-25T19:11:39.878166Z",
     "shell.execute_reply": "2023-02-25T19:11:39.877293Z"
    }
   },
   "outputs": [
    {
     "name": "stdout",
     "output_type": "stream",
     "text": [
      "10.8 µs ± 20.6 ns per loop (mean ± std. dev. of 7 runs, 100,000 loops each)\n"
     ]
    }
   ],
   "source": [
    "%timeit Batch(**_TREE_DATA_1)"
   ]
  },
  {
   "cell_type": "markdown",
   "id": "1ab82e2d",
   "metadata": {},
   "source": [
    "## Deep Copy Operation"
   ]
  },
  {
   "cell_type": "code",
   "execution_count": 16,
   "id": "210a9442",
   "metadata": {
    "execution": {
     "iopub.execute_input": "2023-02-25T19:11:39.881913Z",
     "iopub.status.busy": "2023-02-25T19:11:39.881307Z",
     "iopub.status.idle": "2023-02-25T19:11:39.885938Z",
     "shell.execute_reply": "2023-02-25T19:11:39.885003Z"
    }
   },
   "outputs": [],
   "source": [
    "import copy"
   ]
  },
  {
   "cell_type": "markdown",
   "id": "5a736274",
   "metadata": {},
   "source": [
    "### Deep Copy of TreeValue"
   ]
  },
  {
   "cell_type": "code",
   "execution_count": 17,
   "id": "f9bcadd6",
   "metadata": {
    "execution": {
     "iopub.execute_input": "2023-02-25T19:11:39.888769Z",
     "iopub.status.busy": "2023-02-25T19:11:39.888424Z",
     "iopub.status.idle": "2023-02-25T19:11:51.711294Z",
     "shell.execute_reply": "2023-02-25T19:11:51.710666Z"
    }
   },
   "outputs": [
    {
     "name": "stdout",
     "output_type": "stream",
     "text": [
      "146 µs ± 581 ns per loop (mean ± std. dev. of 7 runs, 10,000 loops each)\n"
     ]
    }
   ],
   "source": [
    "t3 = FastTreeValue(_TREE_DATA_3)\n",
    "%timeit copy.deepcopy(t3)"
   ]
  },
  {
   "cell_type": "markdown",
   "id": "bf8be7ea",
   "metadata": {},
   "source": [
    "### Deep Copy of Tianshou Batch"
   ]
  },
  {
   "cell_type": "code",
   "execution_count": 18,
   "id": "91998e6f",
   "metadata": {
    "execution": {
     "iopub.execute_input": "2023-02-25T19:11:51.714251Z",
     "iopub.status.busy": "2023-02-25T19:11:51.713782Z",
     "iopub.status.idle": "2023-02-25T19:12:03.405186Z",
     "shell.execute_reply": "2023-02-25T19:12:03.404388Z"
    }
   },
   "outputs": [
    {
     "name": "stdout",
     "output_type": "stream",
     "text": [
      "144 µs ± 199 ns per loop (mean ± std. dev. of 7 runs, 10,000 loops each)\n"
     ]
    }
   ],
   "source": [
    "b3 = Batch(**_TREE_DATA_3)\n",
    "%timeit copy.deepcopy(b3)"
   ]
  },
  {
   "cell_type": "markdown",
   "id": "223162fb",
   "metadata": {},
   "source": [
    "## Stack, Concat and Split Operation"
   ]
  },
  {
   "cell_type": "markdown",
   "id": "85fa4a73",
   "metadata": {},
   "source": [
    "### Performance of TreeValue"
   ]
  },
  {
   "cell_type": "code",
   "execution_count": 19,
   "id": "a0c2b697",
   "metadata": {
    "execution": {
     "iopub.execute_input": "2023-02-25T19:12:03.408412Z",
     "iopub.status.busy": "2023-02-25T19:12:03.408165Z",
     "iopub.status.idle": "2023-02-25T19:12:03.412368Z",
     "shell.execute_reply": "2023-02-25T19:12:03.411732Z"
    }
   },
   "outputs": [],
   "source": [
    "trees = [FastTreeValue(_TREE_DATA_2) for _ in range(8)]"
   ]
  },
  {
   "cell_type": "code",
   "execution_count": 20,
   "id": "017ea5a5",
   "metadata": {
    "execution": {
     "iopub.execute_input": "2023-02-25T19:12:03.415353Z",
     "iopub.status.busy": "2023-02-25T19:12:03.414817Z",
     "iopub.status.idle": "2023-02-25T19:12:03.422041Z",
     "shell.execute_reply": "2023-02-25T19:12:03.421487Z"
    }
   },
   "outputs": [
    {
     "data": {
      "text/plain": [
       "<FastTreeValue 0x7f5a18056040>\n",
       "├── 'a' --> tensor([[[ 0.0130,  1.3219, -0.6813],\n",
       "│                    [ 0.3578, -0.1146, -0.7528]],\n",
       "│           \n",
       "│                   [[ 0.0130,  1.3219, -0.6813],\n",
       "│                    [ 0.3578, -0.1146, -0.7528]],\n",
       "│           \n",
       "│                   [[ 0.0130,  1.3219, -0.6813],\n",
       "│                    [ 0.3578, -0.1146, -0.7528]],\n",
       "│           \n",
       "│                   [[ 0.0130,  1.3219, -0.6813],\n",
       "│                    [ 0.3578, -0.1146, -0.7528]],\n",
       "│           \n",
       "│                   [[ 0.0130,  1.3219, -0.6813],\n",
       "│                    [ 0.3578, -0.1146, -0.7528]],\n",
       "│           \n",
       "│                   [[ 0.0130,  1.3219, -0.6813],\n",
       "│                    [ 0.3578, -0.1146, -0.7528]],\n",
       "│           \n",
       "│                   [[ 0.0130,  1.3219, -0.6813],\n",
       "│                    [ 0.3578, -0.1146, -0.7528]],\n",
       "│           \n",
       "│                   [[ 0.0130,  1.3219, -0.6813],\n",
       "│                    [ 0.3578, -0.1146, -0.7528]]])\n",
       "└── 'x' --> <FastTreeValue 0x7f596de105e0>\n",
       "    └── 'c' --> tensor([[[ 0.0226,  0.9629, -0.7110, -0.5091],\n",
       "                         [-0.1055, -0.6411, -2.8163, -0.1155],\n",
       "                         [ 0.6048, -0.2691,  0.1120, -1.1461]],\n",
       "                \n",
       "                        [[ 0.0226,  0.9629, -0.7110, -0.5091],\n",
       "                         [-0.1055, -0.6411, -2.8163, -0.1155],\n",
       "                         [ 0.6048, -0.2691,  0.1120, -1.1461]],\n",
       "                \n",
       "                        [[ 0.0226,  0.9629, -0.7110, -0.5091],\n",
       "                         [-0.1055, -0.6411, -2.8163, -0.1155],\n",
       "                         [ 0.6048, -0.2691,  0.1120, -1.1461]],\n",
       "                \n",
       "                        [[ 0.0226,  0.9629, -0.7110, -0.5091],\n",
       "                         [-0.1055, -0.6411, -2.8163, -0.1155],\n",
       "                         [ 0.6048, -0.2691,  0.1120, -1.1461]],\n",
       "                \n",
       "                        [[ 0.0226,  0.9629, -0.7110, -0.5091],\n",
       "                         [-0.1055, -0.6411, -2.8163, -0.1155],\n",
       "                         [ 0.6048, -0.2691,  0.1120, -1.1461]],\n",
       "                \n",
       "                        [[ 0.0226,  0.9629, -0.7110, -0.5091],\n",
       "                         [-0.1055, -0.6411, -2.8163, -0.1155],\n",
       "                         [ 0.6048, -0.2691,  0.1120, -1.1461]],\n",
       "                \n",
       "                        [[ 0.0226,  0.9629, -0.7110, -0.5091],\n",
       "                         [-0.1055, -0.6411, -2.8163, -0.1155],\n",
       "                         [ 0.6048, -0.2691,  0.1120, -1.1461]],\n",
       "                \n",
       "                        [[ 0.0226,  0.9629, -0.7110, -0.5091],\n",
       "                         [-0.1055, -0.6411, -2.8163, -0.1155],\n",
       "                         [ 0.6048, -0.2691,  0.1120, -1.1461]]])"
      ]
     },
     "execution_count": 20,
     "metadata": {},
     "output_type": "execute_result"
    }
   ],
   "source": [
    "t_stack = FastTreeValue.func(subside=True)(torch.stack)\n",
    "\n",
    "t_stack(trees)"
   ]
  },
  {
   "cell_type": "code",
   "execution_count": 21,
   "id": "f8b3f415",
   "metadata": {
    "execution": {
     "iopub.execute_input": "2023-02-25T19:12:03.424605Z",
     "iopub.status.busy": "2023-02-25T19:12:03.424019Z",
     "iopub.status.idle": "2023-02-25T19:12:06.075697Z",
     "shell.execute_reply": "2023-02-25T19:12:06.074928Z"
    }
   },
   "outputs": [
    {
     "name": "stdout",
     "output_type": "stream",
     "text": [
      "32.6 µs ± 74.5 ns per loop (mean ± std. dev. of 7 runs, 10,000 loops each)\n"
     ]
    }
   ],
   "source": [
    "%timeit t_stack(trees)"
   ]
  },
  {
   "cell_type": "code",
   "execution_count": 22,
   "id": "94b56771",
   "metadata": {
    "execution": {
     "iopub.execute_input": "2023-02-25T19:12:06.079148Z",
     "iopub.status.busy": "2023-02-25T19:12:06.078309Z",
     "iopub.status.idle": "2023-02-25T19:12:06.087019Z",
     "shell.execute_reply": "2023-02-25T19:12:06.086322Z"
    }
   },
   "outputs": [
    {
     "data": {
      "text/plain": [
       "<FastTreeValue 0x7f596dd1d970>\n",
       "├── 'a' --> tensor([[ 0.0130,  1.3219, -0.6813],\n",
       "│                   [ 0.3578, -0.1146, -0.7528],\n",
       "│                   [ 0.0130,  1.3219, -0.6813],\n",
       "│                   [ 0.3578, -0.1146, -0.7528],\n",
       "│                   [ 0.0130,  1.3219, -0.6813],\n",
       "│                   [ 0.3578, -0.1146, -0.7528],\n",
       "│                   [ 0.0130,  1.3219, -0.6813],\n",
       "│                   [ 0.3578, -0.1146, -0.7528],\n",
       "│                   [ 0.0130,  1.3219, -0.6813],\n",
       "│                   [ 0.3578, -0.1146, -0.7528],\n",
       "│                   [ 0.0130,  1.3219, -0.6813],\n",
       "│                   [ 0.3578, -0.1146, -0.7528],\n",
       "│                   [ 0.0130,  1.3219, -0.6813],\n",
       "│                   [ 0.3578, -0.1146, -0.7528],\n",
       "│                   [ 0.0130,  1.3219, -0.6813],\n",
       "│                   [ 0.3578, -0.1146, -0.7528]])\n",
       "└── 'x' --> <FastTreeValue 0x7f597494b580>\n",
       "    └── 'c' --> tensor([[ 0.0226,  0.9629, -0.7110, -0.5091],\n",
       "                        [-0.1055, -0.6411, -2.8163, -0.1155],\n",
       "                        [ 0.6048, -0.2691,  0.1120, -1.1461],\n",
       "                        [ 0.0226,  0.9629, -0.7110, -0.5091],\n",
       "                        [-0.1055, -0.6411, -2.8163, -0.1155],\n",
       "                        [ 0.6048, -0.2691,  0.1120, -1.1461],\n",
       "                        [ 0.0226,  0.9629, -0.7110, -0.5091],\n",
       "                        [-0.1055, -0.6411, -2.8163, -0.1155],\n",
       "                        [ 0.6048, -0.2691,  0.1120, -1.1461],\n",
       "                        [ 0.0226,  0.9629, -0.7110, -0.5091],\n",
       "                        [-0.1055, -0.6411, -2.8163, -0.1155],\n",
       "                        [ 0.6048, -0.2691,  0.1120, -1.1461],\n",
       "                        [ 0.0226,  0.9629, -0.7110, -0.5091],\n",
       "                        [-0.1055, -0.6411, -2.8163, -0.1155],\n",
       "                        [ 0.6048, -0.2691,  0.1120, -1.1461],\n",
       "                        [ 0.0226,  0.9629, -0.7110, -0.5091],\n",
       "                        [-0.1055, -0.6411, -2.8163, -0.1155],\n",
       "                        [ 0.6048, -0.2691,  0.1120, -1.1461],\n",
       "                        [ 0.0226,  0.9629, -0.7110, -0.5091],\n",
       "                        [-0.1055, -0.6411, -2.8163, -0.1155],\n",
       "                        [ 0.6048, -0.2691,  0.1120, -1.1461],\n",
       "                        [ 0.0226,  0.9629, -0.7110, -0.5091],\n",
       "                        [-0.1055, -0.6411, -2.8163, -0.1155],\n",
       "                        [ 0.6048, -0.2691,  0.1120, -1.1461]])"
      ]
     },
     "execution_count": 22,
     "metadata": {},
     "output_type": "execute_result"
    }
   ],
   "source": [
    "t_cat = FastTreeValue.func(subside=True)(torch.cat)\n",
    "\n",
    "t_cat(trees)"
   ]
  },
  {
   "cell_type": "code",
   "execution_count": 23,
   "id": "5e9c06a6",
   "metadata": {
    "execution": {
     "iopub.execute_input": "2023-02-25T19:12:06.089969Z",
     "iopub.status.busy": "2023-02-25T19:12:06.089396Z",
     "iopub.status.idle": "2023-02-25T19:12:08.574863Z",
     "shell.execute_reply": "2023-02-25T19:12:08.574016Z"
    }
   },
   "outputs": [
    {
     "name": "stdout",
     "output_type": "stream",
     "text": [
      "30.5 µs ± 151 ns per loop (mean ± std. dev. of 7 runs, 10,000 loops each)\n"
     ]
    }
   ],
   "source": [
    "%timeit t_cat(trees)"
   ]
  },
  {
   "cell_type": "code",
   "execution_count": 24,
   "id": "a3ab5c8f",
   "metadata": {
    "execution": {
     "iopub.execute_input": "2023-02-25T19:12:08.578069Z",
     "iopub.status.busy": "2023-02-25T19:12:08.577400Z",
     "iopub.status.idle": "2023-02-25T19:12:13.218464Z",
     "shell.execute_reply": "2023-02-25T19:12:13.217641Z"
    }
   },
   "outputs": [
    {
     "name": "stdout",
     "output_type": "stream",
     "text": [
      "57.1 µs ± 54.7 ns per loop (mean ± std. dev. of 7 runs, 10,000 loops each)\n"
     ]
    }
   ],
   "source": [
    "t_split = FastTreeValue.func(rise=True)(torch.split)\n",
    "tree = FastTreeValue({\n",
    "    'obs': torch.randn(8, 4, 84, 84),\n",
    "    'action': torch.randint(0, 6, size=(8, 1,)),\n",
    "    'reward': torch.rand(8, 1),\n",
    "})\n",
    "\n",
    "%timeit t_split(tree, 1)"
   ]
  },
  {
   "cell_type": "markdown",
   "id": "31c3ec0b",
   "metadata": {},
   "source": [
    "### Performance of Tianshou Batch"
   ]
  },
  {
   "cell_type": "code",
   "execution_count": 25,
   "id": "9ead828a",
   "metadata": {
    "execution": {
     "iopub.execute_input": "2023-02-25T19:12:13.222164Z",
     "iopub.status.busy": "2023-02-25T19:12:13.221749Z",
     "iopub.status.idle": "2023-02-25T19:12:13.230986Z",
     "shell.execute_reply": "2023-02-25T19:12:13.230296Z"
    }
   },
   "outputs": [
    {
     "data": {
      "text/plain": [
       "Batch(\n",
       "    a: tensor([[[ 0.0130,  1.3219, -0.6813],\n",
       "                [ 0.3578, -0.1146, -0.7528]],\n",
       "       \n",
       "               [[ 0.0130,  1.3219, -0.6813],\n",
       "                [ 0.3578, -0.1146, -0.7528]],\n",
       "       \n",
       "               [[ 0.0130,  1.3219, -0.6813],\n",
       "                [ 0.3578, -0.1146, -0.7528]],\n",
       "       \n",
       "               [[ 0.0130,  1.3219, -0.6813],\n",
       "                [ 0.3578, -0.1146, -0.7528]],\n",
       "       \n",
       "               [[ 0.0130,  1.3219, -0.6813],\n",
       "                [ 0.3578, -0.1146, -0.7528]],\n",
       "       \n",
       "               [[ 0.0130,  1.3219, -0.6813],\n",
       "                [ 0.3578, -0.1146, -0.7528]],\n",
       "       \n",
       "               [[ 0.0130,  1.3219, -0.6813],\n",
       "                [ 0.3578, -0.1146, -0.7528]],\n",
       "       \n",
       "               [[ 0.0130,  1.3219, -0.6813],\n",
       "                [ 0.3578, -0.1146, -0.7528]]]),\n",
       "    x: Batch(\n",
       "           c: tensor([[[ 0.0226,  0.9629, -0.7110, -0.5091],\n",
       "                       [-0.1055, -0.6411, -2.8163, -0.1155],\n",
       "                       [ 0.6048, -0.2691,  0.1120, -1.1461]],\n",
       "              \n",
       "                      [[ 0.0226,  0.9629, -0.7110, -0.5091],\n",
       "                       [-0.1055, -0.6411, -2.8163, -0.1155],\n",
       "                       [ 0.6048, -0.2691,  0.1120, -1.1461]],\n",
       "              \n",
       "                      [[ 0.0226,  0.9629, -0.7110, -0.5091],\n",
       "                       [-0.1055, -0.6411, -2.8163, -0.1155],\n",
       "                       [ 0.6048, -0.2691,  0.1120, -1.1461]],\n",
       "              \n",
       "                      [[ 0.0226,  0.9629, -0.7110, -0.5091],\n",
       "                       [-0.1055, -0.6411, -2.8163, -0.1155],\n",
       "                       [ 0.6048, -0.2691,  0.1120, -1.1461]],\n",
       "              \n",
       "                      [[ 0.0226,  0.9629, -0.7110, -0.5091],\n",
       "                       [-0.1055, -0.6411, -2.8163, -0.1155],\n",
       "                       [ 0.6048, -0.2691,  0.1120, -1.1461]],\n",
       "              \n",
       "                      [[ 0.0226,  0.9629, -0.7110, -0.5091],\n",
       "                       [-0.1055, -0.6411, -2.8163, -0.1155],\n",
       "                       [ 0.6048, -0.2691,  0.1120, -1.1461]],\n",
       "              \n",
       "                      [[ 0.0226,  0.9629, -0.7110, -0.5091],\n",
       "                       [-0.1055, -0.6411, -2.8163, -0.1155],\n",
       "                       [ 0.6048, -0.2691,  0.1120, -1.1461]],\n",
       "              \n",
       "                      [[ 0.0226,  0.9629, -0.7110, -0.5091],\n",
       "                       [-0.1055, -0.6411, -2.8163, -0.1155],\n",
       "                       [ 0.6048, -0.2691,  0.1120, -1.1461]]]),\n",
       "       ),\n",
       ")"
      ]
     },
     "execution_count": 25,
     "metadata": {},
     "output_type": "execute_result"
    }
   ],
   "source": [
    "batches = [Batch(**_TREE_DATA_2) for _ in range(8)]\n",
    "\n",
    "Batch.stack(batches)"
   ]
  },
  {
   "cell_type": "code",
   "execution_count": 26,
   "id": "ec9037a3",
   "metadata": {
    "execution": {
     "iopub.execute_input": "2023-02-25T19:12:13.234494Z",
     "iopub.status.busy": "2023-02-25T19:12:13.233378Z",
     "iopub.status.idle": "2023-02-25T19:12:19.515354Z",
     "shell.execute_reply": "2023-02-25T19:12:19.514587Z"
    }
   },
   "outputs": [
    {
     "name": "stdout",
     "output_type": "stream",
     "text": [
      "77.4 µs ± 178 ns per loop (mean ± std. dev. of 7 runs, 10,000 loops each)\n"
     ]
    }
   ],
   "source": [
    "%timeit Batch.stack(batches)"
   ]
  },
  {
   "cell_type": "code",
   "execution_count": 27,
   "id": "cb8ab77e",
   "metadata": {
    "execution": {
     "iopub.execute_input": "2023-02-25T19:12:19.518651Z",
     "iopub.status.busy": "2023-02-25T19:12:19.518276Z",
     "iopub.status.idle": "2023-02-25T19:12:19.526134Z",
     "shell.execute_reply": "2023-02-25T19:12:19.525519Z"
    }
   },
   "outputs": [
    {
     "data": {
      "text/plain": [
       "Batch(\n",
       "    a: tensor([[ 0.0130,  1.3219, -0.6813],\n",
       "               [ 0.3578, -0.1146, -0.7528],\n",
       "               [ 0.0130,  1.3219, -0.6813],\n",
       "               [ 0.3578, -0.1146, -0.7528],\n",
       "               [ 0.0130,  1.3219, -0.6813],\n",
       "               [ 0.3578, -0.1146, -0.7528],\n",
       "               [ 0.0130,  1.3219, -0.6813],\n",
       "               [ 0.3578, -0.1146, -0.7528],\n",
       "               [ 0.0130,  1.3219, -0.6813],\n",
       "               [ 0.3578, -0.1146, -0.7528],\n",
       "               [ 0.0130,  1.3219, -0.6813],\n",
       "               [ 0.3578, -0.1146, -0.7528],\n",
       "               [ 0.0130,  1.3219, -0.6813],\n",
       "               [ 0.3578, -0.1146, -0.7528],\n",
       "               [ 0.0130,  1.3219, -0.6813],\n",
       "               [ 0.3578, -0.1146, -0.7528]]),\n",
       "    x: Batch(\n",
       "           c: tensor([[ 0.0226,  0.9629, -0.7110, -0.5091],\n",
       "                      [-0.1055, -0.6411, -2.8163, -0.1155],\n",
       "                      [ 0.6048, -0.2691,  0.1120, -1.1461],\n",
       "                      [ 0.0226,  0.9629, -0.7110, -0.5091],\n",
       "                      [-0.1055, -0.6411, -2.8163, -0.1155],\n",
       "                      [ 0.6048, -0.2691,  0.1120, -1.1461],\n",
       "                      [ 0.0226,  0.9629, -0.7110, -0.5091],\n",
       "                      [-0.1055, -0.6411, -2.8163, -0.1155],\n",
       "                      [ 0.6048, -0.2691,  0.1120, -1.1461],\n",
       "                      [ 0.0226,  0.9629, -0.7110, -0.5091],\n",
       "                      [-0.1055, -0.6411, -2.8163, -0.1155],\n",
       "                      [ 0.6048, -0.2691,  0.1120, -1.1461],\n",
       "                      [ 0.0226,  0.9629, -0.7110, -0.5091],\n",
       "                      [-0.1055, -0.6411, -2.8163, -0.1155],\n",
       "                      [ 0.6048, -0.2691,  0.1120, -1.1461],\n",
       "                      [ 0.0226,  0.9629, -0.7110, -0.5091],\n",
       "                      [-0.1055, -0.6411, -2.8163, -0.1155],\n",
       "                      [ 0.6048, -0.2691,  0.1120, -1.1461],\n",
       "                      [ 0.0226,  0.9629, -0.7110, -0.5091],\n",
       "                      [-0.1055, -0.6411, -2.8163, -0.1155],\n",
       "                      [ 0.6048, -0.2691,  0.1120, -1.1461],\n",
       "                      [ 0.0226,  0.9629, -0.7110, -0.5091],\n",
       "                      [-0.1055, -0.6411, -2.8163, -0.1155],\n",
       "                      [ 0.6048, -0.2691,  0.1120, -1.1461]]),\n",
       "       ),\n",
       ")"
      ]
     },
     "execution_count": 27,
     "metadata": {},
     "output_type": "execute_result"
    }
   ],
   "source": [
    "Batch.cat(batches)"
   ]
  },
  {
   "cell_type": "code",
   "execution_count": 28,
   "id": "18dfb045",
   "metadata": {
    "execution": {
     "iopub.execute_input": "2023-02-25T19:12:19.529026Z",
     "iopub.status.busy": "2023-02-25T19:12:19.528667Z",
     "iopub.status.idle": "2023-02-25T19:12:31.181880Z",
     "shell.execute_reply": "2023-02-25T19:12:31.181037Z"
    }
   },
   "outputs": [
    {
     "name": "stdout",
     "output_type": "stream",
     "text": [
      "143 µs ± 332 ns per loop (mean ± std. dev. of 7 runs, 10,000 loops each)\n"
     ]
    }
   ],
   "source": [
    "%timeit Batch.cat(batches)"
   ]
  },
  {
   "cell_type": "code",
   "execution_count": 29,
   "id": "c6688e51",
   "metadata": {
    "execution": {
     "iopub.execute_input": "2023-02-25T19:12:31.185074Z",
     "iopub.status.busy": "2023-02-25T19:12:31.184506Z",
     "iopub.status.idle": "2023-02-25T19:12:33.799578Z",
     "shell.execute_reply": "2023-02-25T19:12:33.798866Z"
    }
   },
   "outputs": [
    {
     "name": "stdout",
     "output_type": "stream",
     "text": [
      "321 µs ± 2.54 µs per loop (mean ± std. dev. of 7 runs, 1,000 loops each)\n"
     ]
    }
   ],
   "source": [
    "batch = Batch({\n",
    "    'obs': torch.randn(8, 4, 84, 84),\n",
    "    'action': torch.randint(0, 6, size=(8, 1,)),\n",
    "    'reward': torch.rand(8, 1)}\n",
    ")\n",
    "\n",
    "%timeit list(Batch.split(batch, 1, shuffle=False, merge_last=True))"
   ]
  },
  {
   "cell_type": "code",
   "execution_count": null,
   "id": "2539fbd9",
   "metadata": {},
   "outputs": [],
   "source": []
  }
 ],
 "metadata": {
  "kernelspec": {
   "display_name": "Python 3 (ipykernel)",
   "language": "python",
   "name": "python3"
  },
  "language_info": {
   "codemirror_mode": {
    "name": "ipython",
    "version": 3
   },
   "file_extension": ".py",
   "mimetype": "text/x-python",
   "name": "python",
   "nbconvert_exporter": "python",
   "pygments_lexer": "ipython3",
   "version": "3.8.16"
  }
 },
 "nbformat": 4,
 "nbformat_minor": 5
}
