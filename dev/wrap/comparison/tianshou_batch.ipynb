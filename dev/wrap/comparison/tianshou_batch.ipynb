{
 "cells": [
  {
   "cell_type": "markdown",
   "id": "9d39d946",
   "metadata": {},
   "source": [
    "# Comparison Between TreeValue and Tianshou Batch"
   ]
  },
  {
   "cell_type": "markdown",
   "id": "3c6db2d4",
   "metadata": {},
   "source": [
    "In this section, we will take a look at the feature and performance of the [Tianshou Batch](https://github.com/thu-ml/tianshou) library, which is developed by Tsinghua Machine Learning Group."
   ]
  },
  {
   "cell_type": "markdown",
   "id": "069361b0",
   "metadata": {},
   "source": [
    "Before starting the comparison, let us define some thing."
   ]
  },
  {
   "cell_type": "code",
   "execution_count": 1,
   "id": "06fc8d26",
   "metadata": {
    "execution": {
     "iopub.execute_input": "2023-02-25T18:22:12.684278Z",
     "iopub.status.busy": "2023-02-25T18:22:12.683712Z",
     "iopub.status.idle": "2023-02-25T18:22:13.615748Z",
     "shell.execute_reply": "2023-02-25T18:22:13.615046Z"
    }
   },
   "outputs": [
    {
     "name": "stderr",
     "output_type": "stream",
     "text": [
      "/opt/hostedtoolcache/Python/3.8.16/x64/lib/python3.8/site-packages/tqdm/auto.py:22: TqdmWarning: IProgress not found. Please update jupyter and ipywidgets. See https://ipywidgets.readthedocs.io/en/stable/user_install.html\n",
      "  from .autonotebook import tqdm as notebook_tqdm\n"
     ]
    }
   ],
   "source": [
    "import torch \n",
    "\n",
    "_TREE_DATA_1 = {'a': 1, 'b': 2, 'x': {'c': 3, 'd': 4}}\n",
    "_TREE_DATA_2 = {\n",
    "    'a': torch.randn(2, 3), \n",
    "    'x': {\n",
    "        'c': torch.randn(3, 4)\n",
    "    },\n",
    "}\n",
    "_TREE_DATA_3 = {\n",
    "    'obs': torch.randn(4, 84, 84),\n",
    "    'action': torch.randint(0, 6, size=(1,)),\n",
    "    'reward': torch.rand(1),\n",
    "}"
   ]
  },
  {
   "cell_type": "markdown",
   "id": "83461b25",
   "metadata": {},
   "source": [
    "## Read and Write Operation"
   ]
  },
  {
   "cell_type": "markdown",
   "id": "067b3f73",
   "metadata": {},
   "source": [
    "Reading and writing are the two most common operations in the tree data structure based on the data model (TreeValue and Tianshou Batch both belong to this type), so this section will compare the reading and writing performance of these two libraries."
   ]
  },
  {
   "cell_type": "markdown",
   "id": "5d09a5b7",
   "metadata": {},
   "source": [
    "### TreeValue's Get and Set"
   ]
  },
  {
   "cell_type": "code",
   "execution_count": 2,
   "id": "9519c4bb",
   "metadata": {
    "execution": {
     "iopub.execute_input": "2023-02-25T18:22:13.619193Z",
     "iopub.status.busy": "2023-02-25T18:22:13.618576Z",
     "iopub.status.idle": "2023-02-25T18:22:13.652292Z",
     "shell.execute_reply": "2023-02-25T18:22:13.651637Z"
    }
   },
   "outputs": [],
   "source": [
    "from treevalue import FastTreeValue\n",
    "\n",
    "t = FastTreeValue(_TREE_DATA_2)"
   ]
  },
  {
   "cell_type": "code",
   "execution_count": 3,
   "id": "11c37677",
   "metadata": {
    "execution": {
     "iopub.execute_input": "2023-02-25T18:22:13.655386Z",
     "iopub.status.busy": "2023-02-25T18:22:13.654761Z",
     "iopub.status.idle": "2023-02-25T18:22:13.664139Z",
     "shell.execute_reply": "2023-02-25T18:22:13.663550Z"
    }
   },
   "outputs": [
    {
     "data": {
      "text/plain": [
       "<FastTreeValue 0x7efff834dee0>\n",
       "├── 'a' --> tensor([[-0.7408, -1.3222,  0.8525],\n",
       "│                   [-0.4305, -1.2665, -1.6604]])\n",
       "└── 'x' --> <FastTreeValue 0x7efff834df10>\n",
       "    └── 'c' --> tensor([[ 0.5156,  1.1729, -0.7799, -2.0367],\n",
       "                        [ 1.2157, -1.0141, -1.2673,  0.5998],\n",
       "                        [-0.5272,  0.1644, -0.4966, -1.2734]])"
      ]
     },
     "execution_count": 3,
     "metadata": {},
     "output_type": "execute_result"
    }
   ],
   "source": [
    "t"
   ]
  },
  {
   "cell_type": "code",
   "execution_count": 4,
   "id": "fd70b0b9",
   "metadata": {
    "execution": {
     "iopub.execute_input": "2023-02-25T18:22:13.666871Z",
     "iopub.status.busy": "2023-02-25T18:22:13.666543Z",
     "iopub.status.idle": "2023-02-25T18:22:13.671533Z",
     "shell.execute_reply": "2023-02-25T18:22:13.670883Z"
    }
   },
   "outputs": [
    {
     "data": {
      "text/plain": [
       "tensor([[-0.7408, -1.3222,  0.8525],\n",
       "        [-0.4305, -1.2665, -1.6604]])"
      ]
     },
     "execution_count": 4,
     "metadata": {},
     "output_type": "execute_result"
    }
   ],
   "source": [
    "t.a"
   ]
  },
  {
   "cell_type": "code",
   "execution_count": 5,
   "id": "c18197bd",
   "metadata": {
    "execution": {
     "iopub.execute_input": "2023-02-25T18:22:13.674262Z",
     "iopub.status.busy": "2023-02-25T18:22:13.673802Z",
     "iopub.status.idle": "2023-02-25T18:22:18.856486Z",
     "shell.execute_reply": "2023-02-25T18:22:18.855764Z"
    }
   },
   "outputs": [
    {
     "name": "stdout",
     "output_type": "stream",
     "text": [
      "64.2 ns ± 0.0147 ns per loop (mean ± std. dev. of 7 runs, 10,000,000 loops each)\n"
     ]
    }
   ],
   "source": [
    "%timeit t.a"
   ]
  },
  {
   "cell_type": "code",
   "execution_count": 6,
   "id": "bd52f867",
   "metadata": {
    "execution": {
     "iopub.execute_input": "2023-02-25T18:22:18.859508Z",
     "iopub.status.busy": "2023-02-25T18:22:18.859112Z",
     "iopub.status.idle": "2023-02-25T18:22:18.865831Z",
     "shell.execute_reply": "2023-02-25T18:22:18.865245Z"
    }
   },
   "outputs": [
    {
     "data": {
      "text/plain": [
       "<FastTreeValue 0x7efff834dee0>\n",
       "├── 'a' --> tensor([[-0.8265,  0.0878,  0.3411],\n",
       "│                   [-0.1591,  0.3817,  1.5782]])\n",
       "└── 'x' --> <FastTreeValue 0x7efff834df10>\n",
       "    └── 'c' --> tensor([[ 0.5156,  1.1729, -0.7799, -2.0367],\n",
       "                        [ 1.2157, -1.0141, -1.2673,  0.5998],\n",
       "                        [-0.5272,  0.1644, -0.4966, -1.2734]])"
      ]
     },
     "execution_count": 6,
     "metadata": {},
     "output_type": "execute_result"
    }
   ],
   "source": [
    "new_value = torch.randn(2, 3)\n",
    "t.a = new_value\n",
    "\n",
    "t"
   ]
  },
  {
   "cell_type": "code",
   "execution_count": 7,
   "id": "bbe04d1c",
   "metadata": {
    "execution": {
     "iopub.execute_input": "2023-02-25T18:22:18.868818Z",
     "iopub.status.busy": "2023-02-25T18:22:18.868201Z",
     "iopub.status.idle": "2023-02-25T18:22:24.087401Z",
     "shell.execute_reply": "2023-02-25T18:22:24.086680Z"
    }
   },
   "outputs": [
    {
     "name": "stdout",
     "output_type": "stream",
     "text": [
      "63.5 ns ± 0.0267 ns per loop (mean ± std. dev. of 7 runs, 10,000,000 loops each)\n"
     ]
    }
   ],
   "source": [
    "%timeit t.a = new_value"
   ]
  },
  {
   "cell_type": "markdown",
   "id": "48c49731",
   "metadata": {},
   "source": [
    "### Tianshou Batch's Get and Set"
   ]
  },
  {
   "cell_type": "code",
   "execution_count": 8,
   "id": "f1bb14c1",
   "metadata": {
    "execution": {
     "iopub.execute_input": "2023-02-25T18:22:24.090257Z",
     "iopub.status.busy": "2023-02-25T18:22:24.089881Z",
     "iopub.status.idle": "2023-02-25T18:22:24.437013Z",
     "shell.execute_reply": "2023-02-25T18:22:24.436303Z"
    }
   },
   "outputs": [],
   "source": [
    "from tianshou.data import Batch\n",
    "\n",
    "b = Batch(**_TREE_DATA_2)"
   ]
  },
  {
   "cell_type": "code",
   "execution_count": 9,
   "id": "cb0777c3",
   "metadata": {
    "execution": {
     "iopub.execute_input": "2023-02-25T18:22:24.440166Z",
     "iopub.status.busy": "2023-02-25T18:22:24.439656Z",
     "iopub.status.idle": "2023-02-25T18:22:24.445918Z",
     "shell.execute_reply": "2023-02-25T18:22:24.445326Z"
    }
   },
   "outputs": [
    {
     "data": {
      "text/plain": [
       "Batch(\n",
       "    a: tensor([[-0.7408, -1.3222,  0.8525],\n",
       "               [-0.4305, -1.2665, -1.6604]]),\n",
       "    x: Batch(\n",
       "           c: tensor([[ 0.5156,  1.1729, -0.7799, -2.0367],\n",
       "                      [ 1.2157, -1.0141, -1.2673,  0.5998],\n",
       "                      [-0.5272,  0.1644, -0.4966, -1.2734]]),\n",
       "       ),\n",
       ")"
      ]
     },
     "execution_count": 9,
     "metadata": {},
     "output_type": "execute_result"
    }
   ],
   "source": [
    "b"
   ]
  },
  {
   "cell_type": "code",
   "execution_count": 10,
   "id": "43ef8ea3",
   "metadata": {
    "execution": {
     "iopub.execute_input": "2023-02-25T18:22:24.448891Z",
     "iopub.status.busy": "2023-02-25T18:22:24.448261Z",
     "iopub.status.idle": "2023-02-25T18:22:24.453749Z",
     "shell.execute_reply": "2023-02-25T18:22:24.453158Z"
    }
   },
   "outputs": [
    {
     "data": {
      "text/plain": [
       "tensor([[-0.7408, -1.3222,  0.8525],\n",
       "        [-0.4305, -1.2665, -1.6604]])"
      ]
     },
     "execution_count": 10,
     "metadata": {},
     "output_type": "execute_result"
    }
   ],
   "source": [
    "b.a"
   ]
  },
  {
   "cell_type": "code",
   "execution_count": 11,
   "id": "b785ab72",
   "metadata": {
    "execution": {
     "iopub.execute_input": "2023-02-25T18:22:24.456204Z",
     "iopub.status.busy": "2023-02-25T18:22:24.455865Z",
     "iopub.status.idle": "2023-02-25T18:22:29.239541Z",
     "shell.execute_reply": "2023-02-25T18:22:29.238770Z"
    }
   },
   "outputs": [
    {
     "name": "stdout",
     "output_type": "stream",
     "text": [
      "59.3 ns ± 0.0452 ns per loop (mean ± std. dev. of 7 runs, 10,000,000 loops each)\n"
     ]
    }
   ],
   "source": [
    "%timeit b.a"
   ]
  },
  {
   "cell_type": "code",
   "execution_count": 12,
   "id": "ad54dc69",
   "metadata": {
    "execution": {
     "iopub.execute_input": "2023-02-25T18:22:29.242521Z",
     "iopub.status.busy": "2023-02-25T18:22:29.241894Z",
     "iopub.status.idle": "2023-02-25T18:22:29.247812Z",
     "shell.execute_reply": "2023-02-25T18:22:29.247168Z"
    }
   },
   "outputs": [
    {
     "data": {
      "text/plain": [
       "Batch(\n",
       "    a: tensor([[ 0.4754, -1.8471,  2.7430],\n",
       "               [ 1.1620, -0.5706,  0.9849]]),\n",
       "    x: Batch(\n",
       "           c: tensor([[ 0.5156,  1.1729, -0.7799, -2.0367],\n",
       "                      [ 1.2157, -1.0141, -1.2673,  0.5998],\n",
       "                      [-0.5272,  0.1644, -0.4966, -1.2734]]),\n",
       "       ),\n",
       ")"
      ]
     },
     "execution_count": 12,
     "metadata": {},
     "output_type": "execute_result"
    }
   ],
   "source": [
    "new_value = torch.randn(2, 3)\n",
    "b.a = new_value\n",
    "\n",
    "b"
   ]
  },
  {
   "cell_type": "code",
   "execution_count": 13,
   "id": "29b1d0bf",
   "metadata": {
    "execution": {
     "iopub.execute_input": "2023-02-25T18:22:29.250457Z",
     "iopub.status.busy": "2023-02-25T18:22:29.250115Z",
     "iopub.status.idle": "2023-02-25T18:22:33.145073Z",
     "shell.execute_reply": "2023-02-25T18:22:33.144327Z"
    }
   },
   "outputs": [
    {
     "name": "stdout",
     "output_type": "stream",
     "text": [
      "479 ns ± 0.129 ns per loop (mean ± std. dev. of 7 runs, 1,000,000 loops each)\n"
     ]
    }
   ],
   "source": [
    "%timeit b.a = new_value"
   ]
  },
  {
   "cell_type": "markdown",
   "id": "b61ad1d0",
   "metadata": {},
   "source": [
    "## Initialization"
   ]
  },
  {
   "cell_type": "markdown",
   "id": "d70f0d54",
   "metadata": {},
   "source": [
    "### TreeValue's Initialization"
   ]
  },
  {
   "cell_type": "code",
   "execution_count": 14,
   "id": "d32a679b",
   "metadata": {
    "execution": {
     "iopub.execute_input": "2023-02-25T18:22:33.147935Z",
     "iopub.status.busy": "2023-02-25T18:22:33.147565Z",
     "iopub.status.idle": "2023-02-25T18:22:40.264008Z",
     "shell.execute_reply": "2023-02-25T18:22:40.263306Z"
    }
   },
   "outputs": [
    {
     "name": "stdout",
     "output_type": "stream",
     "text": [
      "877 ns ± 14.9 ns per loop (mean ± std. dev. of 7 runs, 1,000,000 loops each)\n"
     ]
    }
   ],
   "source": [
    "%timeit FastTreeValue(_TREE_DATA_1)"
   ]
  },
  {
   "cell_type": "markdown",
   "id": "24f3707b",
   "metadata": {},
   "source": [
    "### Tianshou Batch's Initialization"
   ]
  },
  {
   "cell_type": "code",
   "execution_count": 15,
   "id": "ac3958df",
   "metadata": {
    "execution": {
     "iopub.execute_input": "2023-02-25T18:22:40.267289Z",
     "iopub.status.busy": "2023-02-25T18:22:40.266636Z",
     "iopub.status.idle": "2023-02-25T18:22:49.487439Z",
     "shell.execute_reply": "2023-02-25T18:22:49.486713Z"
    }
   },
   "outputs": [
    {
     "name": "stdout",
     "output_type": "stream",
     "text": [
      "11.4 µs ± 25.1 ns per loop (mean ± std. dev. of 7 runs, 100,000 loops each)\n"
     ]
    }
   ],
   "source": [
    "%timeit Batch(**_TREE_DATA_1)"
   ]
  },
  {
   "cell_type": "markdown",
   "id": "1ab82e2d",
   "metadata": {},
   "source": [
    "## Deep Copy Operation"
   ]
  },
  {
   "cell_type": "code",
   "execution_count": 16,
   "id": "210a9442",
   "metadata": {
    "execution": {
     "iopub.execute_input": "2023-02-25T18:22:49.490359Z",
     "iopub.status.busy": "2023-02-25T18:22:49.489838Z",
     "iopub.status.idle": "2023-02-25T18:22:49.493672Z",
     "shell.execute_reply": "2023-02-25T18:22:49.493085Z"
    }
   },
   "outputs": [],
   "source": [
    "import copy"
   ]
  },
  {
   "cell_type": "markdown",
   "id": "5a736274",
   "metadata": {},
   "source": [
    "### Deep Copy of TreeValue"
   ]
  },
  {
   "cell_type": "code",
   "execution_count": 17,
   "id": "f9bcadd6",
   "metadata": {
    "execution": {
     "iopub.execute_input": "2023-02-25T18:22:49.496088Z",
     "iopub.status.busy": "2023-02-25T18:22:49.495748Z",
     "iopub.status.idle": "2023-02-25T18:23:01.117376Z",
     "shell.execute_reply": "2023-02-25T18:23:01.116812Z"
    }
   },
   "outputs": [
    {
     "name": "stdout",
     "output_type": "stream",
     "text": [
      "143 µs ± 1.14 µs per loop (mean ± std. dev. of 7 runs, 10,000 loops each)\n"
     ]
    }
   ],
   "source": [
    "t3 = FastTreeValue(_TREE_DATA_3)\n",
    "%timeit copy.deepcopy(t3)"
   ]
  },
  {
   "cell_type": "markdown",
   "id": "bf8be7ea",
   "metadata": {},
   "source": [
    "### Deep Copy of Tianshou Batch"
   ]
  },
  {
   "cell_type": "code",
   "execution_count": 18,
   "id": "91998e6f",
   "metadata": {
    "execution": {
     "iopub.execute_input": "2023-02-25T18:23:01.121325Z",
     "iopub.status.busy": "2023-02-25T18:23:01.120379Z",
     "iopub.status.idle": "2023-02-25T18:23:12.263166Z",
     "shell.execute_reply": "2023-02-25T18:23:12.262553Z"
    }
   },
   "outputs": [
    {
     "name": "stdout",
     "output_type": "stream",
     "text": [
      "137 µs ± 380 ns per loop (mean ± std. dev. of 7 runs, 10,000 loops each)\n"
     ]
    }
   ],
   "source": [
    "b3 = Batch(**_TREE_DATA_3)\n",
    "%timeit copy.deepcopy(b3)"
   ]
  },
  {
   "cell_type": "markdown",
   "id": "223162fb",
   "metadata": {},
   "source": [
    "## Stack, Concat and Split Operation"
   ]
  },
  {
   "cell_type": "markdown",
   "id": "85fa4a73",
   "metadata": {},
   "source": [
    "### Performance of TreeValue"
   ]
  },
  {
   "cell_type": "code",
   "execution_count": 19,
   "id": "a0c2b697",
   "metadata": {
    "execution": {
     "iopub.execute_input": "2023-02-25T18:23:12.266564Z",
     "iopub.status.busy": "2023-02-25T18:23:12.265581Z",
     "iopub.status.idle": "2023-02-25T18:23:12.269882Z",
     "shell.execute_reply": "2023-02-25T18:23:12.269352Z"
    }
   },
   "outputs": [],
   "source": [
    "trees = [FastTreeValue(_TREE_DATA_2) for _ in range(8)]"
   ]
  },
  {
   "cell_type": "code",
   "execution_count": 20,
   "id": "017ea5a5",
   "metadata": {
    "execution": {
     "iopub.execute_input": "2023-02-25T18:23:12.273417Z",
     "iopub.status.busy": "2023-02-25T18:23:12.272546Z",
     "iopub.status.idle": "2023-02-25T18:23:12.281276Z",
     "shell.execute_reply": "2023-02-25T18:23:12.280740Z"
    }
   },
   "outputs": [
    {
     "data": {
      "text/plain": [
       "<FastTreeValue 0x7eff52b9daf0>\n",
       "├── 'a' --> tensor([[[-0.7408, -1.3222,  0.8525],\n",
       "│                    [-0.4305, -1.2665, -1.6604]],\n",
       "│           \n",
       "│                   [[-0.7408, -1.3222,  0.8525],\n",
       "│                    [-0.4305, -1.2665, -1.6604]],\n",
       "│           \n",
       "│                   [[-0.7408, -1.3222,  0.8525],\n",
       "│                    [-0.4305, -1.2665, -1.6604]],\n",
       "│           \n",
       "│                   [[-0.7408, -1.3222,  0.8525],\n",
       "│                    [-0.4305, -1.2665, -1.6604]],\n",
       "│           \n",
       "│                   [[-0.7408, -1.3222,  0.8525],\n",
       "│                    [-0.4305, -1.2665, -1.6604]],\n",
       "│           \n",
       "│                   [[-0.7408, -1.3222,  0.8525],\n",
       "│                    [-0.4305, -1.2665, -1.6604]],\n",
       "│           \n",
       "│                   [[-0.7408, -1.3222,  0.8525],\n",
       "│                    [-0.4305, -1.2665, -1.6604]],\n",
       "│           \n",
       "│                   [[-0.7408, -1.3222,  0.8525],\n",
       "│                    [-0.4305, -1.2665, -1.6604]]])\n",
       "└── 'x' --> <FastTreeValue 0x7efff834dfd0>\n",
       "    └── 'c' --> tensor([[[ 0.5156,  1.1729, -0.7799, -2.0367],\n",
       "                         [ 1.2157, -1.0141, -1.2673,  0.5998],\n",
       "                         [-0.5272,  0.1644, -0.4966, -1.2734]],\n",
       "                \n",
       "                        [[ 0.5156,  1.1729, -0.7799, -2.0367],\n",
       "                         [ 1.2157, -1.0141, -1.2673,  0.5998],\n",
       "                         [-0.5272,  0.1644, -0.4966, -1.2734]],\n",
       "                \n",
       "                        [[ 0.5156,  1.1729, -0.7799, -2.0367],\n",
       "                         [ 1.2157, -1.0141, -1.2673,  0.5998],\n",
       "                         [-0.5272,  0.1644, -0.4966, -1.2734]],\n",
       "                \n",
       "                        [[ 0.5156,  1.1729, -0.7799, -2.0367],\n",
       "                         [ 1.2157, -1.0141, -1.2673,  0.5998],\n",
       "                         [-0.5272,  0.1644, -0.4966, -1.2734]],\n",
       "                \n",
       "                        [[ 0.5156,  1.1729, -0.7799, -2.0367],\n",
       "                         [ 1.2157, -1.0141, -1.2673,  0.5998],\n",
       "                         [-0.5272,  0.1644, -0.4966, -1.2734]],\n",
       "                \n",
       "                        [[ 0.5156,  1.1729, -0.7799, -2.0367],\n",
       "                         [ 1.2157, -1.0141, -1.2673,  0.5998],\n",
       "                         [-0.5272,  0.1644, -0.4966, -1.2734]],\n",
       "                \n",
       "                        [[ 0.5156,  1.1729, -0.7799, -2.0367],\n",
       "                         [ 1.2157, -1.0141, -1.2673,  0.5998],\n",
       "                         [-0.5272,  0.1644, -0.4966, -1.2734]],\n",
       "                \n",
       "                        [[ 0.5156,  1.1729, -0.7799, -2.0367],\n",
       "                         [ 1.2157, -1.0141, -1.2673,  0.5998],\n",
       "                         [-0.5272,  0.1644, -0.4966, -1.2734]]])"
      ]
     },
     "execution_count": 20,
     "metadata": {},
     "output_type": "execute_result"
    }
   ],
   "source": [
    "t_stack = FastTreeValue.func(subside=True)(torch.stack)\n",
    "\n",
    "t_stack(trees)"
   ]
  },
  {
   "cell_type": "code",
   "execution_count": 21,
   "id": "f8b3f415",
   "metadata": {
    "execution": {
     "iopub.execute_input": "2023-02-25T18:23:12.284255Z",
     "iopub.status.busy": "2023-02-25T18:23:12.283677Z",
     "iopub.status.idle": "2023-02-25T18:23:14.951642Z",
     "shell.execute_reply": "2023-02-25T18:23:14.950885Z"
    }
   },
   "outputs": [
    {
     "name": "stdout",
     "output_type": "stream",
     "text": [
      "32.8 µs ± 76.9 ns per loop (mean ± std. dev. of 7 runs, 10,000 loops each)\n"
     ]
    }
   ],
   "source": [
    "%timeit t_stack(trees)"
   ]
  },
  {
   "cell_type": "code",
   "execution_count": 22,
   "id": "94b56771",
   "metadata": {
    "execution": {
     "iopub.execute_input": "2023-02-25T18:23:14.954463Z",
     "iopub.status.busy": "2023-02-25T18:23:14.954104Z",
     "iopub.status.idle": "2023-02-25T18:23:14.963113Z",
     "shell.execute_reply": "2023-02-25T18:23:14.962496Z"
    }
   },
   "outputs": [
    {
     "data": {
      "text/plain": [
       "<FastTreeValue 0x7efff82e1b50>\n",
       "├── 'a' --> tensor([[-0.7408, -1.3222,  0.8525],\n",
       "│                   [-0.4305, -1.2665, -1.6604],\n",
       "│                   [-0.7408, -1.3222,  0.8525],\n",
       "│                   [-0.4305, -1.2665, -1.6604],\n",
       "│                   [-0.7408, -1.3222,  0.8525],\n",
       "│                   [-0.4305, -1.2665, -1.6604],\n",
       "│                   [-0.7408, -1.3222,  0.8525],\n",
       "│                   [-0.4305, -1.2665, -1.6604],\n",
       "│                   [-0.7408, -1.3222,  0.8525],\n",
       "│                   [-0.4305, -1.2665, -1.6604],\n",
       "│                   [-0.7408, -1.3222,  0.8525],\n",
       "│                   [-0.4305, -1.2665, -1.6604],\n",
       "│                   [-0.7408, -1.3222,  0.8525],\n",
       "│                   [-0.4305, -1.2665, -1.6604],\n",
       "│                   [-0.7408, -1.3222,  0.8525],\n",
       "│                   [-0.4305, -1.2665, -1.6604]])\n",
       "└── 'x' --> <FastTreeValue 0x7eff4bfe2be0>\n",
       "    └── 'c' --> tensor([[ 0.5156,  1.1729, -0.7799, -2.0367],\n",
       "                        [ 1.2157, -1.0141, -1.2673,  0.5998],\n",
       "                        [-0.5272,  0.1644, -0.4966, -1.2734],\n",
       "                        [ 0.5156,  1.1729, -0.7799, -2.0367],\n",
       "                        [ 1.2157, -1.0141, -1.2673,  0.5998],\n",
       "                        [-0.5272,  0.1644, -0.4966, -1.2734],\n",
       "                        [ 0.5156,  1.1729, -0.7799, -2.0367],\n",
       "                        [ 1.2157, -1.0141, -1.2673,  0.5998],\n",
       "                        [-0.5272,  0.1644, -0.4966, -1.2734],\n",
       "                        [ 0.5156,  1.1729, -0.7799, -2.0367],\n",
       "                        [ 1.2157, -1.0141, -1.2673,  0.5998],\n",
       "                        [-0.5272,  0.1644, -0.4966, -1.2734],\n",
       "                        [ 0.5156,  1.1729, -0.7799, -2.0367],\n",
       "                        [ 1.2157, -1.0141, -1.2673,  0.5998],\n",
       "                        [-0.5272,  0.1644, -0.4966, -1.2734],\n",
       "                        [ 0.5156,  1.1729, -0.7799, -2.0367],\n",
       "                        [ 1.2157, -1.0141, -1.2673,  0.5998],\n",
       "                        [-0.5272,  0.1644, -0.4966, -1.2734],\n",
       "                        [ 0.5156,  1.1729, -0.7799, -2.0367],\n",
       "                        [ 1.2157, -1.0141, -1.2673,  0.5998],\n",
       "                        [-0.5272,  0.1644, -0.4966, -1.2734],\n",
       "                        [ 0.5156,  1.1729, -0.7799, -2.0367],\n",
       "                        [ 1.2157, -1.0141, -1.2673,  0.5998],\n",
       "                        [-0.5272,  0.1644, -0.4966, -1.2734]])"
      ]
     },
     "execution_count": 22,
     "metadata": {},
     "output_type": "execute_result"
    }
   ],
   "source": [
    "t_cat = FastTreeValue.func(subside=True)(torch.cat)\n",
    "\n",
    "t_cat(trees)"
   ]
  },
  {
   "cell_type": "code",
   "execution_count": 23,
   "id": "5e9c06a6",
   "metadata": {
    "execution": {
     "iopub.execute_input": "2023-02-25T18:23:14.966071Z",
     "iopub.status.busy": "2023-02-25T18:23:14.965517Z",
     "iopub.status.idle": "2023-02-25T18:23:17.453623Z",
     "shell.execute_reply": "2023-02-25T18:23:17.452960Z"
    }
   },
   "outputs": [
    {
     "name": "stdout",
     "output_type": "stream",
     "text": [
      "30.6 µs ± 47.8 ns per loop (mean ± std. dev. of 7 runs, 10,000 loops each)\n"
     ]
    }
   ],
   "source": [
    "%timeit t_cat(trees)"
   ]
  },
  {
   "cell_type": "code",
   "execution_count": 24,
   "id": "a3ab5c8f",
   "metadata": {
    "execution": {
     "iopub.execute_input": "2023-02-25T18:23:17.456591Z",
     "iopub.status.busy": "2023-02-25T18:23:17.456216Z",
     "iopub.status.idle": "2023-02-25T18:23:22.163856Z",
     "shell.execute_reply": "2023-02-25T18:23:22.163119Z"
    }
   },
   "outputs": [
    {
     "name": "stdout",
     "output_type": "stream",
     "text": [
      "57.9 µs ± 59.9 ns per loop (mean ± std. dev. of 7 runs, 10,000 loops each)\n"
     ]
    }
   ],
   "source": [
    "t_split = FastTreeValue.func(rise=True)(torch.split)\n",
    "tree = FastTreeValue({\n",
    "    'obs': torch.randn(8, 4, 84, 84),\n",
    "    'action': torch.randint(0, 6, size=(8, 1,)),\n",
    "    'reward': torch.rand(8, 1),\n",
    "})\n",
    "\n",
    "%timeit t_split(tree, 1)"
   ]
  },
  {
   "cell_type": "markdown",
   "id": "31c3ec0b",
   "metadata": {},
   "source": [
    "### Performance of Tianshou Batch"
   ]
  },
  {
   "cell_type": "code",
   "execution_count": 25,
   "id": "9ead828a",
   "metadata": {
    "execution": {
     "iopub.execute_input": "2023-02-25T18:23:22.166851Z",
     "iopub.status.busy": "2023-02-25T18:23:22.166315Z",
     "iopub.status.idle": "2023-02-25T18:23:22.174277Z",
     "shell.execute_reply": "2023-02-25T18:23:22.173667Z"
    }
   },
   "outputs": [
    {
     "data": {
      "text/plain": [
       "Batch(\n",
       "    a: tensor([[[-0.7408, -1.3222,  0.8525],\n",
       "                [-0.4305, -1.2665, -1.6604]],\n",
       "       \n",
       "               [[-0.7408, -1.3222,  0.8525],\n",
       "                [-0.4305, -1.2665, -1.6604]],\n",
       "       \n",
       "               [[-0.7408, -1.3222,  0.8525],\n",
       "                [-0.4305, -1.2665, -1.6604]],\n",
       "       \n",
       "               [[-0.7408, -1.3222,  0.8525],\n",
       "                [-0.4305, -1.2665, -1.6604]],\n",
       "       \n",
       "               [[-0.7408, -1.3222,  0.8525],\n",
       "                [-0.4305, -1.2665, -1.6604]],\n",
       "       \n",
       "               [[-0.7408, -1.3222,  0.8525],\n",
       "                [-0.4305, -1.2665, -1.6604]],\n",
       "       \n",
       "               [[-0.7408, -1.3222,  0.8525],\n",
       "                [-0.4305, -1.2665, -1.6604]],\n",
       "       \n",
       "               [[-0.7408, -1.3222,  0.8525],\n",
       "                [-0.4305, -1.2665, -1.6604]]]),\n",
       "    x: Batch(\n",
       "           c: tensor([[[ 0.5156,  1.1729, -0.7799, -2.0367],\n",
       "                       [ 1.2157, -1.0141, -1.2673,  0.5998],\n",
       "                       [-0.5272,  0.1644, -0.4966, -1.2734]],\n",
       "              \n",
       "                      [[ 0.5156,  1.1729, -0.7799, -2.0367],\n",
       "                       [ 1.2157, -1.0141, -1.2673,  0.5998],\n",
       "                       [-0.5272,  0.1644, -0.4966, -1.2734]],\n",
       "              \n",
       "                      [[ 0.5156,  1.1729, -0.7799, -2.0367],\n",
       "                       [ 1.2157, -1.0141, -1.2673,  0.5998],\n",
       "                       [-0.5272,  0.1644, -0.4966, -1.2734]],\n",
       "              \n",
       "                      [[ 0.5156,  1.1729, -0.7799, -2.0367],\n",
       "                       [ 1.2157, -1.0141, -1.2673,  0.5998],\n",
       "                       [-0.5272,  0.1644, -0.4966, -1.2734]],\n",
       "              \n",
       "                      [[ 0.5156,  1.1729, -0.7799, -2.0367],\n",
       "                       [ 1.2157, -1.0141, -1.2673,  0.5998],\n",
       "                       [-0.5272,  0.1644, -0.4966, -1.2734]],\n",
       "              \n",
       "                      [[ 0.5156,  1.1729, -0.7799, -2.0367],\n",
       "                       [ 1.2157, -1.0141, -1.2673,  0.5998],\n",
       "                       [-0.5272,  0.1644, -0.4966, -1.2734]],\n",
       "              \n",
       "                      [[ 0.5156,  1.1729, -0.7799, -2.0367],\n",
       "                       [ 1.2157, -1.0141, -1.2673,  0.5998],\n",
       "                       [-0.5272,  0.1644, -0.4966, -1.2734]],\n",
       "              \n",
       "                      [[ 0.5156,  1.1729, -0.7799, -2.0367],\n",
       "                       [ 1.2157, -1.0141, -1.2673,  0.5998],\n",
       "                       [-0.5272,  0.1644, -0.4966, -1.2734]]]),\n",
       "       ),\n",
       ")"
      ]
     },
     "execution_count": 25,
     "metadata": {},
     "output_type": "execute_result"
    }
   ],
   "source": [
    "batches = [Batch(**_TREE_DATA_2) for _ in range(8)]\n",
    "\n",
    "Batch.stack(batches)"
   ]
  },
  {
   "cell_type": "code",
   "execution_count": 26,
   "id": "ec9037a3",
   "metadata": {
    "execution": {
     "iopub.execute_input": "2023-02-25T18:23:22.177235Z",
     "iopub.status.busy": "2023-02-25T18:23:22.176735Z",
     "iopub.status.idle": "2023-02-25T18:23:28.563520Z",
     "shell.execute_reply": "2023-02-25T18:23:28.562747Z"
    }
   },
   "outputs": [
    {
     "name": "stdout",
     "output_type": "stream",
     "text": [
      "78.7 µs ± 160 ns per loop (mean ± std. dev. of 7 runs, 10,000 loops each)\n"
     ]
    }
   ],
   "source": [
    "%timeit Batch.stack(batches)"
   ]
  },
  {
   "cell_type": "code",
   "execution_count": 27,
   "id": "cb8ab77e",
   "metadata": {
    "execution": {
     "iopub.execute_input": "2023-02-25T18:23:28.566291Z",
     "iopub.status.busy": "2023-02-25T18:23:28.565928Z",
     "iopub.status.idle": "2023-02-25T18:23:28.573666Z",
     "shell.execute_reply": "2023-02-25T18:23:28.573036Z"
    }
   },
   "outputs": [
    {
     "data": {
      "text/plain": [
       "Batch(\n",
       "    a: tensor([[-0.7408, -1.3222,  0.8525],\n",
       "               [-0.4305, -1.2665, -1.6604],\n",
       "               [-0.7408, -1.3222,  0.8525],\n",
       "               [-0.4305, -1.2665, -1.6604],\n",
       "               [-0.7408, -1.3222,  0.8525],\n",
       "               [-0.4305, -1.2665, -1.6604],\n",
       "               [-0.7408, -1.3222,  0.8525],\n",
       "               [-0.4305, -1.2665, -1.6604],\n",
       "               [-0.7408, -1.3222,  0.8525],\n",
       "               [-0.4305, -1.2665, -1.6604],\n",
       "               [-0.7408, -1.3222,  0.8525],\n",
       "               [-0.4305, -1.2665, -1.6604],\n",
       "               [-0.7408, -1.3222,  0.8525],\n",
       "               [-0.4305, -1.2665, -1.6604],\n",
       "               [-0.7408, -1.3222,  0.8525],\n",
       "               [-0.4305, -1.2665, -1.6604]]),\n",
       "    x: Batch(\n",
       "           c: tensor([[ 0.5156,  1.1729, -0.7799, -2.0367],\n",
       "                      [ 1.2157, -1.0141, -1.2673,  0.5998],\n",
       "                      [-0.5272,  0.1644, -0.4966, -1.2734],\n",
       "                      [ 0.5156,  1.1729, -0.7799, -2.0367],\n",
       "                      [ 1.2157, -1.0141, -1.2673,  0.5998],\n",
       "                      [-0.5272,  0.1644, -0.4966, -1.2734],\n",
       "                      [ 0.5156,  1.1729, -0.7799, -2.0367],\n",
       "                      [ 1.2157, -1.0141, -1.2673,  0.5998],\n",
       "                      [-0.5272,  0.1644, -0.4966, -1.2734],\n",
       "                      [ 0.5156,  1.1729, -0.7799, -2.0367],\n",
       "                      [ 1.2157, -1.0141, -1.2673,  0.5998],\n",
       "                      [-0.5272,  0.1644, -0.4966, -1.2734],\n",
       "                      [ 0.5156,  1.1729, -0.7799, -2.0367],\n",
       "                      [ 1.2157, -1.0141, -1.2673,  0.5998],\n",
       "                      [-0.5272,  0.1644, -0.4966, -1.2734],\n",
       "                      [ 0.5156,  1.1729, -0.7799, -2.0367],\n",
       "                      [ 1.2157, -1.0141, -1.2673,  0.5998],\n",
       "                      [-0.5272,  0.1644, -0.4966, -1.2734],\n",
       "                      [ 0.5156,  1.1729, -0.7799, -2.0367],\n",
       "                      [ 1.2157, -1.0141, -1.2673,  0.5998],\n",
       "                      [-0.5272,  0.1644, -0.4966, -1.2734],\n",
       "                      [ 0.5156,  1.1729, -0.7799, -2.0367],\n",
       "                      [ 1.2157, -1.0141, -1.2673,  0.5998],\n",
       "                      [-0.5272,  0.1644, -0.4966, -1.2734]]),\n",
       "       ),\n",
       ")"
      ]
     },
     "execution_count": 27,
     "metadata": {},
     "output_type": "execute_result"
    }
   ],
   "source": [
    "Batch.cat(batches)"
   ]
  },
  {
   "cell_type": "code",
   "execution_count": 28,
   "id": "18dfb045",
   "metadata": {
    "execution": {
     "iopub.execute_input": "2023-02-25T18:23:28.576348Z",
     "iopub.status.busy": "2023-02-25T18:23:28.575873Z",
     "iopub.status.idle": "2023-02-25T18:23:40.061353Z",
     "shell.execute_reply": "2023-02-25T18:23:40.060616Z"
    }
   },
   "outputs": [
    {
     "name": "stdout",
     "output_type": "stream",
     "text": [
      "141 µs ± 191 ns per loop (mean ± std. dev. of 7 runs, 10,000 loops each)\n"
     ]
    }
   ],
   "source": [
    "%timeit Batch.cat(batches)"
   ]
  },
  {
   "cell_type": "code",
   "execution_count": 29,
   "id": "c6688e51",
   "metadata": {
    "execution": {
     "iopub.execute_input": "2023-02-25T18:23:40.064282Z",
     "iopub.status.busy": "2023-02-25T18:23:40.063748Z",
     "iopub.status.idle": "2023-02-25T18:23:42.651157Z",
     "shell.execute_reply": "2023-02-25T18:23:42.650445Z"
    }
   },
   "outputs": [
    {
     "name": "stdout",
     "output_type": "stream",
     "text": [
      "317 µs ± 646 ns per loop (mean ± std. dev. of 7 runs, 1,000 loops each)\n"
     ]
    }
   ],
   "source": [
    "batch = Batch({\n",
    "    'obs': torch.randn(8, 4, 84, 84),\n",
    "    'action': torch.randint(0, 6, size=(8, 1,)),\n",
    "    'reward': torch.rand(8, 1)}\n",
    ")\n",
    "\n",
    "%timeit list(Batch.split(batch, 1, shuffle=False, merge_last=True))"
   ]
  },
  {
   "cell_type": "code",
   "execution_count": null,
   "id": "2539fbd9",
   "metadata": {},
   "outputs": [],
   "source": []
  }
 ],
 "metadata": {
  "kernelspec": {
   "display_name": "Python 3 (ipykernel)",
   "language": "python",
   "name": "python3"
  },
  "language_info": {
   "codemirror_mode": {
    "name": "ipython",
    "version": 3
   },
   "file_extension": ".py",
   "mimetype": "text/x-python",
   "name": "python",
   "nbconvert_exporter": "python",
   "pygments_lexer": "ipython3",
   "version": "3.8.16"
  }
 },
 "nbformat": 4,
 "nbformat_minor": 5
}
