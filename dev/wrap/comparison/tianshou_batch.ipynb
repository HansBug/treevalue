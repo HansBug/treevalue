{
 "cells": [
  {
   "cell_type": "markdown",
   "id": "9d39d946",
   "metadata": {},
   "source": [
    "# Comparison Between TreeValue and Tianshou Batch"
   ]
  },
  {
   "cell_type": "markdown",
   "id": "3c6db2d4",
   "metadata": {},
   "source": [
    "In this section, we will take a look at the feature and performance of the [Tianshou Batch](https://github.com/thu-ml/tianshou) library, which is developed by Tsinghua Machine Learning Group."
   ]
  },
  {
   "cell_type": "markdown",
   "id": "069361b0",
   "metadata": {},
   "source": [
    "Before starting the comparison, let us define some thing."
   ]
  },
  {
   "cell_type": "code",
   "execution_count": 1,
   "id": "06fc8d26",
   "metadata": {
    "execution": {
     "iopub.execute_input": "2023-02-27T14:40:00.354728Z",
     "iopub.status.busy": "2023-02-27T14:40:00.354517Z",
     "iopub.status.idle": "2023-02-27T14:40:01.262496Z",
     "shell.execute_reply": "2023-02-27T14:40:01.261827Z"
    }
   },
   "outputs": [
    {
     "name": "stderr",
     "output_type": "stream",
     "text": [
      "/opt/hostedtoolcache/Python/3.8.16/x64/lib/python3.8/site-packages/tqdm/auto.py:22: TqdmWarning: IProgress not found. Please update jupyter and ipywidgets. See https://ipywidgets.readthedocs.io/en/stable/user_install.html\n",
      "  from .autonotebook import tqdm as notebook_tqdm\n"
     ]
    }
   ],
   "source": [
    "import torch \n",
    "\n",
    "_TREE_DATA_1 = {'a': 1, 'b': 2, 'x': {'c': 3, 'd': 4}}\n",
    "_TREE_DATA_2 = {\n",
    "    'a': torch.randn(2, 3), \n",
    "    'x': {\n",
    "        'c': torch.randn(3, 4)\n",
    "    },\n",
    "}\n",
    "_TREE_DATA_3 = {\n",
    "    'obs': torch.randn(4, 84, 84),\n",
    "    'action': torch.randint(0, 6, size=(1,)),\n",
    "    'reward': torch.rand(1),\n",
    "}"
   ]
  },
  {
   "cell_type": "markdown",
   "id": "83461b25",
   "metadata": {},
   "source": [
    "## Read and Write Operation"
   ]
  },
  {
   "cell_type": "markdown",
   "id": "067b3f73",
   "metadata": {},
   "source": [
    "Reading and writing are the two most common operations in the tree data structure based on the data model (TreeValue and Tianshou Batch both belong to this type), so this section will compare the reading and writing performance of these two libraries."
   ]
  },
  {
   "cell_type": "markdown",
   "id": "5d09a5b7",
   "metadata": {},
   "source": [
    "### TreeValue's Get and Set"
   ]
  },
  {
   "cell_type": "code",
   "execution_count": 2,
   "id": "9519c4bb",
   "metadata": {
    "execution": {
     "iopub.execute_input": "2023-02-27T14:40:01.265711Z",
     "iopub.status.busy": "2023-02-27T14:40:01.265140Z",
     "iopub.status.idle": "2023-02-27T14:40:01.542429Z",
     "shell.execute_reply": "2023-02-27T14:40:01.541738Z"
    }
   },
   "outputs": [],
   "source": [
    "from treevalue import FastTreeValue\n",
    "\n",
    "t = FastTreeValue(_TREE_DATA_2)"
   ]
  },
  {
   "cell_type": "code",
   "execution_count": 3,
   "id": "11c37677",
   "metadata": {
    "execution": {
     "iopub.execute_input": "2023-02-27T14:40:01.545431Z",
     "iopub.status.busy": "2023-02-27T14:40:01.545007Z",
     "iopub.status.idle": "2023-02-27T14:40:01.554147Z",
     "shell.execute_reply": "2023-02-27T14:40:01.553554Z"
    }
   },
   "outputs": [
    {
     "data": {
      "text/plain": [
       "<FastTreeValue 0x7f7168437f70>\n",
       "├── 'a' --> tensor([[ 1.2876,  1.9036,  0.7975],\n",
       "│                   [ 0.7100, -0.9388,  0.4418]])\n",
       "└── 'x' --> <FastTreeValue 0x7f7168437df0>\n",
       "    └── 'c' --> tensor([[ 0.3508,  0.1516,  0.5272, -0.3053],\n",
       "                        [ 0.2160,  1.0574, -1.5683,  1.0984],\n",
       "                        [-0.2350,  0.1363,  0.7641,  1.0707]])"
      ]
     },
     "execution_count": 3,
     "metadata": {},
     "output_type": "execute_result"
    }
   ],
   "source": [
    "t"
   ]
  },
  {
   "cell_type": "code",
   "execution_count": 4,
   "id": "fd70b0b9",
   "metadata": {
    "execution": {
     "iopub.execute_input": "2023-02-27T14:40:01.556870Z",
     "iopub.status.busy": "2023-02-27T14:40:01.556543Z",
     "iopub.status.idle": "2023-02-27T14:40:01.561038Z",
     "shell.execute_reply": "2023-02-27T14:40:01.560427Z"
    }
   },
   "outputs": [
    {
     "data": {
      "text/plain": [
       "tensor([[ 1.2876,  1.9036,  0.7975],\n",
       "        [ 0.7100, -0.9388,  0.4418]])"
      ]
     },
     "execution_count": 4,
     "metadata": {},
     "output_type": "execute_result"
    }
   ],
   "source": [
    "t.a"
   ]
  },
  {
   "cell_type": "code",
   "execution_count": 5,
   "id": "c18197bd",
   "metadata": {
    "execution": {
     "iopub.execute_input": "2023-02-27T14:40:01.563795Z",
     "iopub.status.busy": "2023-02-27T14:40:01.563314Z",
     "iopub.status.idle": "2023-02-27T14:40:06.563154Z",
     "shell.execute_reply": "2023-02-27T14:40:06.562455Z"
    }
   },
   "outputs": [
    {
     "name": "stdout",
     "output_type": "stream",
     "text": [
      "61.6 ns ± 0.0593 ns per loop (mean ± std. dev. of 7 runs, 10,000,000 loops each)\n"
     ]
    }
   ],
   "source": [
    "%timeit t.a"
   ]
  },
  {
   "cell_type": "code",
   "execution_count": 6,
   "id": "bd52f867",
   "metadata": {
    "execution": {
     "iopub.execute_input": "2023-02-27T14:40:06.566270Z",
     "iopub.status.busy": "2023-02-27T14:40:06.565655Z",
     "iopub.status.idle": "2023-02-27T14:40:06.571327Z",
     "shell.execute_reply": "2023-02-27T14:40:06.570826Z"
    }
   },
   "outputs": [
    {
     "data": {
      "text/plain": [
       "<FastTreeValue 0x7f7168437f70>\n",
       "├── 'a' --> tensor([[ 0.2611,  0.4028, -0.2588],\n",
       "│                   [ 0.0465, -0.1334, -0.2851]])\n",
       "└── 'x' --> <FastTreeValue 0x7f7168437df0>\n",
       "    └── 'c' --> tensor([[ 0.3508,  0.1516,  0.5272, -0.3053],\n",
       "                        [ 0.2160,  1.0574, -1.5683,  1.0984],\n",
       "                        [-0.2350,  0.1363,  0.7641,  1.0707]])"
      ]
     },
     "execution_count": 6,
     "metadata": {},
     "output_type": "execute_result"
    }
   ],
   "source": [
    "new_value = torch.randn(2, 3)\n",
    "t.a = new_value\n",
    "\n",
    "t"
   ]
  },
  {
   "cell_type": "code",
   "execution_count": 7,
   "id": "bbe04d1c",
   "metadata": {
    "execution": {
     "iopub.execute_input": "2023-02-27T14:40:06.573905Z",
     "iopub.status.busy": "2023-02-27T14:40:06.573266Z",
     "iopub.status.idle": "2023-02-27T14:40:11.813203Z",
     "shell.execute_reply": "2023-02-27T14:40:11.812444Z"
    }
   },
   "outputs": [
    {
     "name": "stdout",
     "output_type": "stream",
     "text": [
      "64.5 ns ± 0.0792 ns per loop (mean ± std. dev. of 7 runs, 10,000,000 loops each)\n"
     ]
    }
   ],
   "source": [
    "%timeit t.a = new_value"
   ]
  },
  {
   "cell_type": "markdown",
   "id": "48c49731",
   "metadata": {},
   "source": [
    "### Tianshou Batch's Get and Set"
   ]
  },
  {
   "cell_type": "code",
   "execution_count": 8,
   "id": "f1bb14c1",
   "metadata": {
    "execution": {
     "iopub.execute_input": "2023-02-27T14:40:11.816465Z",
     "iopub.status.busy": "2023-02-27T14:40:11.815840Z",
     "iopub.status.idle": "2023-02-27T14:40:12.143220Z",
     "shell.execute_reply": "2023-02-27T14:40:12.142540Z"
    }
   },
   "outputs": [],
   "source": [
    "from tianshou.data import Batch\n",
    "\n",
    "b = Batch(**_TREE_DATA_2)"
   ]
  },
  {
   "cell_type": "code",
   "execution_count": 9,
   "id": "cb0777c3",
   "metadata": {
    "execution": {
     "iopub.execute_input": "2023-02-27T14:40:12.146741Z",
     "iopub.status.busy": "2023-02-27T14:40:12.146000Z",
     "iopub.status.idle": "2023-02-27T14:40:12.151596Z",
     "shell.execute_reply": "2023-02-27T14:40:12.150977Z"
    }
   },
   "outputs": [
    {
     "data": {
      "text/plain": [
       "Batch(\n",
       "    a: tensor([[ 1.2876,  1.9036,  0.7975],\n",
       "               [ 0.7100, -0.9388,  0.4418]]),\n",
       "    x: Batch(\n",
       "           c: tensor([[ 0.3508,  0.1516,  0.5272, -0.3053],\n",
       "                      [ 0.2160,  1.0574, -1.5683,  1.0984],\n",
       "                      [-0.2350,  0.1363,  0.7641,  1.0707]]),\n",
       "       ),\n",
       ")"
      ]
     },
     "execution_count": 9,
     "metadata": {},
     "output_type": "execute_result"
    }
   ],
   "source": [
    "b"
   ]
  },
  {
   "cell_type": "code",
   "execution_count": 10,
   "id": "43ef8ea3",
   "metadata": {
    "execution": {
     "iopub.execute_input": "2023-02-27T14:40:12.154222Z",
     "iopub.status.busy": "2023-02-27T14:40:12.153598Z",
     "iopub.status.idle": "2023-02-27T14:40:12.158342Z",
     "shell.execute_reply": "2023-02-27T14:40:12.157713Z"
    }
   },
   "outputs": [
    {
     "data": {
      "text/plain": [
       "tensor([[ 1.2876,  1.9036,  0.7975],\n",
       "        [ 0.7100, -0.9388,  0.4418]])"
      ]
     },
     "execution_count": 10,
     "metadata": {},
     "output_type": "execute_result"
    }
   ],
   "source": [
    "b.a"
   ]
  },
  {
   "cell_type": "code",
   "execution_count": 11,
   "id": "b785ab72",
   "metadata": {
    "execution": {
     "iopub.execute_input": "2023-02-27T14:40:12.160647Z",
     "iopub.status.busy": "2023-02-27T14:40:12.160315Z",
     "iopub.status.idle": "2023-02-27T14:40:17.123181Z",
     "shell.execute_reply": "2023-02-27T14:40:17.122416Z"
    }
   },
   "outputs": [
    {
     "name": "stdout",
     "output_type": "stream",
     "text": [
      "61.5 ns ± 0.0272 ns per loop (mean ± std. dev. of 7 runs, 10,000,000 loops each)\n"
     ]
    }
   ],
   "source": [
    "%timeit b.a"
   ]
  },
  {
   "cell_type": "code",
   "execution_count": 12,
   "id": "ad54dc69",
   "metadata": {
    "execution": {
     "iopub.execute_input": "2023-02-27T14:40:17.126382Z",
     "iopub.status.busy": "2023-02-27T14:40:17.125778Z",
     "iopub.status.idle": "2023-02-27T14:40:17.133380Z",
     "shell.execute_reply": "2023-02-27T14:40:17.132760Z"
    }
   },
   "outputs": [
    {
     "data": {
      "text/plain": [
       "Batch(\n",
       "    a: tensor([[ 1.4218e+00,  1.0150e-01,  1.0111e+00],\n",
       "               [-6.9108e-01, -3.8175e-04,  1.3663e-01]]),\n",
       "    x: Batch(\n",
       "           c: tensor([[ 0.3508,  0.1516,  0.5272, -0.3053],\n",
       "                      [ 0.2160,  1.0574, -1.5683,  1.0984],\n",
       "                      [-0.2350,  0.1363,  0.7641,  1.0707]]),\n",
       "       ),\n",
       ")"
      ]
     },
     "execution_count": 12,
     "metadata": {},
     "output_type": "execute_result"
    }
   ],
   "source": [
    "new_value = torch.randn(2, 3)\n",
    "b.a = new_value\n",
    "\n",
    "b"
   ]
  },
  {
   "cell_type": "code",
   "execution_count": 13,
   "id": "29b1d0bf",
   "metadata": {
    "execution": {
     "iopub.execute_input": "2023-02-27T14:40:17.135739Z",
     "iopub.status.busy": "2023-02-27T14:40:17.135526Z",
     "iopub.status.idle": "2023-02-27T14:40:21.110782Z",
     "shell.execute_reply": "2023-02-27T14:40:21.110071Z"
    }
   },
   "outputs": [
    {
     "name": "stdout",
     "output_type": "stream",
     "text": [
      "490 ns ± 0.0707 ns per loop (mean ± std. dev. of 7 runs, 1,000,000 loops each)\n"
     ]
    }
   ],
   "source": [
    "%timeit b.a = new_value"
   ]
  },
  {
   "cell_type": "markdown",
   "id": "b61ad1d0",
   "metadata": {},
   "source": [
    "## Initialization"
   ]
  },
  {
   "cell_type": "markdown",
   "id": "d70f0d54",
   "metadata": {},
   "source": [
    "### TreeValue's Initialization"
   ]
  },
  {
   "cell_type": "code",
   "execution_count": 14,
   "id": "d32a679b",
   "metadata": {
    "execution": {
     "iopub.execute_input": "2023-02-27T14:40:21.113855Z",
     "iopub.status.busy": "2023-02-27T14:40:21.113489Z",
     "iopub.status.idle": "2023-02-27T14:40:27.837322Z",
     "shell.execute_reply": "2023-02-27T14:40:27.836607Z"
    }
   },
   "outputs": [
    {
     "name": "stdout",
     "output_type": "stream",
     "text": [
      "828 ns ± 0.119 ns per loop (mean ± std. dev. of 7 runs, 1,000,000 loops each)\n"
     ]
    }
   ],
   "source": [
    "%timeit FastTreeValue(_TREE_DATA_1)"
   ]
  },
  {
   "cell_type": "markdown",
   "id": "24f3707b",
   "metadata": {},
   "source": [
    "### Tianshou Batch's Initialization"
   ]
  },
  {
   "cell_type": "code",
   "execution_count": 15,
   "id": "ac3958df",
   "metadata": {
    "execution": {
     "iopub.execute_input": "2023-02-27T14:40:27.840336Z",
     "iopub.status.busy": "2023-02-27T14:40:27.839977Z",
     "iopub.status.idle": "2023-02-27T14:40:37.540173Z",
     "shell.execute_reply": "2023-02-27T14:40:37.539434Z"
    }
   },
   "outputs": [
    {
     "name": "stdout",
     "output_type": "stream",
     "text": [
      "11.9 µs ± 73.3 ns per loop (mean ± std. dev. of 7 runs, 100,000 loops each)\n"
     ]
    }
   ],
   "source": [
    "%timeit Batch(**_TREE_DATA_1)"
   ]
  },
  {
   "cell_type": "markdown",
   "id": "1ab82e2d",
   "metadata": {},
   "source": [
    "## Deep Copy Operation"
   ]
  },
  {
   "cell_type": "code",
   "execution_count": 16,
   "id": "210a9442",
   "metadata": {
    "execution": {
     "iopub.execute_input": "2023-02-27T14:40:37.543195Z",
     "iopub.status.busy": "2023-02-27T14:40:37.542632Z",
     "iopub.status.idle": "2023-02-27T14:40:37.546556Z",
     "shell.execute_reply": "2023-02-27T14:40:37.545983Z"
    }
   },
   "outputs": [],
   "source": [
    "import copy"
   ]
  },
  {
   "cell_type": "markdown",
   "id": "5a736274",
   "metadata": {},
   "source": [
    "### Deep Copy of TreeValue"
   ]
  },
  {
   "cell_type": "code",
   "execution_count": 17,
   "id": "f9bcadd6",
   "metadata": {
    "execution": {
     "iopub.execute_input": "2023-02-27T14:40:37.549324Z",
     "iopub.status.busy": "2023-02-27T14:40:37.548983Z",
     "iopub.status.idle": "2023-02-27T14:40:48.715524Z",
     "shell.execute_reply": "2023-02-27T14:40:48.714808Z"
    }
   },
   "outputs": [
    {
     "name": "stdout",
     "output_type": "stream",
     "text": [
      "138 µs ± 249 ns per loop (mean ± std. dev. of 7 runs, 10,000 loops each)\n"
     ]
    }
   ],
   "source": [
    "t3 = FastTreeValue(_TREE_DATA_3)\n",
    "%timeit copy.deepcopy(t3)"
   ]
  },
  {
   "cell_type": "markdown",
   "id": "bf8be7ea",
   "metadata": {},
   "source": [
    "### Deep Copy of Tianshou Batch"
   ]
  },
  {
   "cell_type": "code",
   "execution_count": 18,
   "id": "91998e6f",
   "metadata": {
    "execution": {
     "iopub.execute_input": "2023-02-27T14:40:48.718628Z",
     "iopub.status.busy": "2023-02-27T14:40:48.718391Z",
     "iopub.status.idle": "2023-02-27T14:40:59.999917Z",
     "shell.execute_reply": "2023-02-27T14:40:59.999341Z"
    }
   },
   "outputs": [
    {
     "name": "stdout",
     "output_type": "stream",
     "text": [
      "139 µs ± 914 ns per loop (mean ± std. dev. of 7 runs, 10,000 loops each)\n"
     ]
    }
   ],
   "source": [
    "b3 = Batch(**_TREE_DATA_3)\n",
    "%timeit copy.deepcopy(b3)"
   ]
  },
  {
   "cell_type": "markdown",
   "id": "223162fb",
   "metadata": {},
   "source": [
    "## Stack, Concat and Split Operation"
   ]
  },
  {
   "cell_type": "markdown",
   "id": "85fa4a73",
   "metadata": {},
   "source": [
    "### Performance of TreeValue"
   ]
  },
  {
   "cell_type": "code",
   "execution_count": 19,
   "id": "a0c2b697",
   "metadata": {
    "execution": {
     "iopub.execute_input": "2023-02-27T14:41:00.002748Z",
     "iopub.status.busy": "2023-02-27T14:41:00.002320Z",
     "iopub.status.idle": "2023-02-27T14:41:00.005487Z",
     "shell.execute_reply": "2023-02-27T14:41:00.004966Z"
    }
   },
   "outputs": [],
   "source": [
    "trees = [FastTreeValue(_TREE_DATA_2) for _ in range(8)]"
   ]
  },
  {
   "cell_type": "code",
   "execution_count": 20,
   "id": "017ea5a5",
   "metadata": {
    "execution": {
     "iopub.execute_input": "2023-02-27T14:41:00.007830Z",
     "iopub.status.busy": "2023-02-27T14:41:00.007409Z",
     "iopub.status.idle": "2023-02-27T14:41:00.014227Z",
     "shell.execute_reply": "2023-02-27T14:41:00.013711Z"
    }
   },
   "outputs": [
    {
     "data": {
      "text/plain": [
       "<FastTreeValue 0x7f70b3661dc0>\n",
       "├── 'a' --> tensor([[[ 1.2876,  1.9036,  0.7975],\n",
       "│                    [ 0.7100, -0.9388,  0.4418]],\n",
       "│           \n",
       "│                   [[ 1.2876,  1.9036,  0.7975],\n",
       "│                    [ 0.7100, -0.9388,  0.4418]],\n",
       "│           \n",
       "│                   [[ 1.2876,  1.9036,  0.7975],\n",
       "│                    [ 0.7100, -0.9388,  0.4418]],\n",
       "│           \n",
       "│                   [[ 1.2876,  1.9036,  0.7975],\n",
       "│                    [ 0.7100, -0.9388,  0.4418]],\n",
       "│           \n",
       "│                   [[ 1.2876,  1.9036,  0.7975],\n",
       "│                    [ 0.7100, -0.9388,  0.4418]],\n",
       "│           \n",
       "│                   [[ 1.2876,  1.9036,  0.7975],\n",
       "│                    [ 0.7100, -0.9388,  0.4418]],\n",
       "│           \n",
       "│                   [[ 1.2876,  1.9036,  0.7975],\n",
       "│                    [ 0.7100, -0.9388,  0.4418]],\n",
       "│           \n",
       "│                   [[ 1.2876,  1.9036,  0.7975],\n",
       "│                    [ 0.7100, -0.9388,  0.4418]]])\n",
       "└── 'x' --> <FastTreeValue 0x7f70b3661c10>\n",
       "    └── 'c' --> tensor([[[ 0.3508,  0.1516,  0.5272, -0.3053],\n",
       "                         [ 0.2160,  1.0574, -1.5683,  1.0984],\n",
       "                         [-0.2350,  0.1363,  0.7641,  1.0707]],\n",
       "                \n",
       "                        [[ 0.3508,  0.1516,  0.5272, -0.3053],\n",
       "                         [ 0.2160,  1.0574, -1.5683,  1.0984],\n",
       "                         [-0.2350,  0.1363,  0.7641,  1.0707]],\n",
       "                \n",
       "                        [[ 0.3508,  0.1516,  0.5272, -0.3053],\n",
       "                         [ 0.2160,  1.0574, -1.5683,  1.0984],\n",
       "                         [-0.2350,  0.1363,  0.7641,  1.0707]],\n",
       "                \n",
       "                        [[ 0.3508,  0.1516,  0.5272, -0.3053],\n",
       "                         [ 0.2160,  1.0574, -1.5683,  1.0984],\n",
       "                         [-0.2350,  0.1363,  0.7641,  1.0707]],\n",
       "                \n",
       "                        [[ 0.3508,  0.1516,  0.5272, -0.3053],\n",
       "                         [ 0.2160,  1.0574, -1.5683,  1.0984],\n",
       "                         [-0.2350,  0.1363,  0.7641,  1.0707]],\n",
       "                \n",
       "                        [[ 0.3508,  0.1516,  0.5272, -0.3053],\n",
       "                         [ 0.2160,  1.0574, -1.5683,  1.0984],\n",
       "                         [-0.2350,  0.1363,  0.7641,  1.0707]],\n",
       "                \n",
       "                        [[ 0.3508,  0.1516,  0.5272, -0.3053],\n",
       "                         [ 0.2160,  1.0574, -1.5683,  1.0984],\n",
       "                         [-0.2350,  0.1363,  0.7641,  1.0707]],\n",
       "                \n",
       "                        [[ 0.3508,  0.1516,  0.5272, -0.3053],\n",
       "                         [ 0.2160,  1.0574, -1.5683,  1.0984],\n",
       "                         [-0.2350,  0.1363,  0.7641,  1.0707]]])"
      ]
     },
     "execution_count": 20,
     "metadata": {},
     "output_type": "execute_result"
    }
   ],
   "source": [
    "t_stack = FastTreeValue.func(subside=True)(torch.stack)\n",
    "\n",
    "t_stack(trees)"
   ]
  },
  {
   "cell_type": "code",
   "execution_count": 21,
   "id": "f8b3f415",
   "metadata": {
    "execution": {
     "iopub.execute_input": "2023-02-27T14:41:00.016496Z",
     "iopub.status.busy": "2023-02-27T14:41:00.016101Z",
     "iopub.status.idle": "2023-02-27T14:41:02.689862Z",
     "shell.execute_reply": "2023-02-27T14:41:02.689099Z"
    }
   },
   "outputs": [
    {
     "name": "stdout",
     "output_type": "stream",
     "text": [
      "32.9 µs ± 28.8 ns per loop (mean ± std. dev. of 7 runs, 10,000 loops each)\n"
     ]
    }
   ],
   "source": [
    "%timeit t_stack(trees)"
   ]
  },
  {
   "cell_type": "code",
   "execution_count": 22,
   "id": "94b56771",
   "metadata": {
    "execution": {
     "iopub.execute_input": "2023-02-27T14:41:02.692596Z",
     "iopub.status.busy": "2023-02-27T14:41:02.692247Z",
     "iopub.status.idle": "2023-02-27T14:41:02.699974Z",
     "shell.execute_reply": "2023-02-27T14:41:02.699409Z"
    }
   },
   "outputs": [
    {
     "data": {
      "text/plain": [
       "<FastTreeValue 0x7f70b3cabc70>\n",
       "├── 'a' --> tensor([[ 1.2876,  1.9036,  0.7975],\n",
       "│                   [ 0.7100, -0.9388,  0.4418],\n",
       "│                   [ 1.2876,  1.9036,  0.7975],\n",
       "│                   [ 0.7100, -0.9388,  0.4418],\n",
       "│                   [ 1.2876,  1.9036,  0.7975],\n",
       "│                   [ 0.7100, -0.9388,  0.4418],\n",
       "│                   [ 1.2876,  1.9036,  0.7975],\n",
       "│                   [ 0.7100, -0.9388,  0.4418],\n",
       "│                   [ 1.2876,  1.9036,  0.7975],\n",
       "│                   [ 0.7100, -0.9388,  0.4418],\n",
       "│                   [ 1.2876,  1.9036,  0.7975],\n",
       "│                   [ 0.7100, -0.9388,  0.4418],\n",
       "│                   [ 1.2876,  1.9036,  0.7975],\n",
       "│                   [ 0.7100, -0.9388,  0.4418],\n",
       "│                   [ 1.2876,  1.9036,  0.7975],\n",
       "│                   [ 0.7100, -0.9388,  0.4418]])\n",
       "└── 'x' --> <FastTreeValue 0x7f71683d86a0>\n",
       "    └── 'c' --> tensor([[ 0.3508,  0.1516,  0.5272, -0.3053],\n",
       "                        [ 0.2160,  1.0574, -1.5683,  1.0984],\n",
       "                        [-0.2350,  0.1363,  0.7641,  1.0707],\n",
       "                        [ 0.3508,  0.1516,  0.5272, -0.3053],\n",
       "                        [ 0.2160,  1.0574, -1.5683,  1.0984],\n",
       "                        [-0.2350,  0.1363,  0.7641,  1.0707],\n",
       "                        [ 0.3508,  0.1516,  0.5272, -0.3053],\n",
       "                        [ 0.2160,  1.0574, -1.5683,  1.0984],\n",
       "                        [-0.2350,  0.1363,  0.7641,  1.0707],\n",
       "                        [ 0.3508,  0.1516,  0.5272, -0.3053],\n",
       "                        [ 0.2160,  1.0574, -1.5683,  1.0984],\n",
       "                        [-0.2350,  0.1363,  0.7641,  1.0707],\n",
       "                        [ 0.3508,  0.1516,  0.5272, -0.3053],\n",
       "                        [ 0.2160,  1.0574, -1.5683,  1.0984],\n",
       "                        [-0.2350,  0.1363,  0.7641,  1.0707],\n",
       "                        [ 0.3508,  0.1516,  0.5272, -0.3053],\n",
       "                        [ 0.2160,  1.0574, -1.5683,  1.0984],\n",
       "                        [-0.2350,  0.1363,  0.7641,  1.0707],\n",
       "                        [ 0.3508,  0.1516,  0.5272, -0.3053],\n",
       "                        [ 0.2160,  1.0574, -1.5683,  1.0984],\n",
       "                        [-0.2350,  0.1363,  0.7641,  1.0707],\n",
       "                        [ 0.3508,  0.1516,  0.5272, -0.3053],\n",
       "                        [ 0.2160,  1.0574, -1.5683,  1.0984],\n",
       "                        [-0.2350,  0.1363,  0.7641,  1.0707]])"
      ]
     },
     "execution_count": 22,
     "metadata": {},
     "output_type": "execute_result"
    }
   ],
   "source": [
    "t_cat = FastTreeValue.func(subside=True)(torch.cat)\n",
    "\n",
    "t_cat(trees)"
   ]
  },
  {
   "cell_type": "code",
   "execution_count": 23,
   "id": "5e9c06a6",
   "metadata": {
    "execution": {
     "iopub.execute_input": "2023-02-27T14:41:02.702555Z",
     "iopub.status.busy": "2023-02-27T14:41:02.701976Z",
     "iopub.status.idle": "2023-02-27T14:41:05.204817Z",
     "shell.execute_reply": "2023-02-27T14:41:05.204080Z"
    }
   },
   "outputs": [
    {
     "name": "stdout",
     "output_type": "stream",
     "text": [
      "30.8 µs ± 49.6 ns per loop (mean ± std. dev. of 7 runs, 10,000 loops each)\n"
     ]
    }
   ],
   "source": [
    "%timeit t_cat(trees)"
   ]
  },
  {
   "cell_type": "code",
   "execution_count": 24,
   "id": "a3ab5c8f",
   "metadata": {
    "execution": {
     "iopub.execute_input": "2023-02-27T14:41:05.207507Z",
     "iopub.status.busy": "2023-02-27T14:41:05.207142Z",
     "iopub.status.idle": "2023-02-27T14:41:11.399743Z",
     "shell.execute_reply": "2023-02-27T14:41:11.398986Z"
    }
   },
   "outputs": [
    {
     "name": "stdout",
     "output_type": "stream",
     "text": [
      "76.6 µs ± 260 ns per loop (mean ± std. dev. of 7 runs, 10,000 loops each)\n"
     ]
    }
   ],
   "source": [
    "t_split = FastTreeValue.func(rise=True)(torch.split)\n",
    "tree = FastTreeValue({\n",
    "    'obs': torch.randn(8, 4, 84, 84),\n",
    "    'action': torch.randint(0, 6, size=(8, 1,)),\n",
    "    'reward': torch.rand(8, 1),\n",
    "})\n",
    "\n",
    "%timeit t_split(tree, 1)"
   ]
  },
  {
   "cell_type": "markdown",
   "id": "31c3ec0b",
   "metadata": {},
   "source": [
    "### Performance of Tianshou Batch"
   ]
  },
  {
   "cell_type": "code",
   "execution_count": 25,
   "id": "9ead828a",
   "metadata": {
    "execution": {
     "iopub.execute_input": "2023-02-27T14:41:11.402696Z",
     "iopub.status.busy": "2023-02-27T14:41:11.402348Z",
     "iopub.status.idle": "2023-02-27T14:41:11.410374Z",
     "shell.execute_reply": "2023-02-27T14:41:11.409749Z"
    }
   },
   "outputs": [
    {
     "data": {
      "text/plain": [
       "Batch(\n",
       "    a: tensor([[[ 1.2876,  1.9036,  0.7975],\n",
       "                [ 0.7100, -0.9388,  0.4418]],\n",
       "       \n",
       "               [[ 1.2876,  1.9036,  0.7975],\n",
       "                [ 0.7100, -0.9388,  0.4418]],\n",
       "       \n",
       "               [[ 1.2876,  1.9036,  0.7975],\n",
       "                [ 0.7100, -0.9388,  0.4418]],\n",
       "       \n",
       "               [[ 1.2876,  1.9036,  0.7975],\n",
       "                [ 0.7100, -0.9388,  0.4418]],\n",
       "       \n",
       "               [[ 1.2876,  1.9036,  0.7975],\n",
       "                [ 0.7100, -0.9388,  0.4418]],\n",
       "       \n",
       "               [[ 1.2876,  1.9036,  0.7975],\n",
       "                [ 0.7100, -0.9388,  0.4418]],\n",
       "       \n",
       "               [[ 1.2876,  1.9036,  0.7975],\n",
       "                [ 0.7100, -0.9388,  0.4418]],\n",
       "       \n",
       "               [[ 1.2876,  1.9036,  0.7975],\n",
       "                [ 0.7100, -0.9388,  0.4418]]]),\n",
       "    x: Batch(\n",
       "           c: tensor([[[ 0.3508,  0.1516,  0.5272, -0.3053],\n",
       "                       [ 0.2160,  1.0574, -1.5683,  1.0984],\n",
       "                       [-0.2350,  0.1363,  0.7641,  1.0707]],\n",
       "              \n",
       "                      [[ 0.3508,  0.1516,  0.5272, -0.3053],\n",
       "                       [ 0.2160,  1.0574, -1.5683,  1.0984],\n",
       "                       [-0.2350,  0.1363,  0.7641,  1.0707]],\n",
       "              \n",
       "                      [[ 0.3508,  0.1516,  0.5272, -0.3053],\n",
       "                       [ 0.2160,  1.0574, -1.5683,  1.0984],\n",
       "                       [-0.2350,  0.1363,  0.7641,  1.0707]],\n",
       "              \n",
       "                      [[ 0.3508,  0.1516,  0.5272, -0.3053],\n",
       "                       [ 0.2160,  1.0574, -1.5683,  1.0984],\n",
       "                       [-0.2350,  0.1363,  0.7641,  1.0707]],\n",
       "              \n",
       "                      [[ 0.3508,  0.1516,  0.5272, -0.3053],\n",
       "                       [ 0.2160,  1.0574, -1.5683,  1.0984],\n",
       "                       [-0.2350,  0.1363,  0.7641,  1.0707]],\n",
       "              \n",
       "                      [[ 0.3508,  0.1516,  0.5272, -0.3053],\n",
       "                       [ 0.2160,  1.0574, -1.5683,  1.0984],\n",
       "                       [-0.2350,  0.1363,  0.7641,  1.0707]],\n",
       "              \n",
       "                      [[ 0.3508,  0.1516,  0.5272, -0.3053],\n",
       "                       [ 0.2160,  1.0574, -1.5683,  1.0984],\n",
       "                       [-0.2350,  0.1363,  0.7641,  1.0707]],\n",
       "              \n",
       "                      [[ 0.3508,  0.1516,  0.5272, -0.3053],\n",
       "                       [ 0.2160,  1.0574, -1.5683,  1.0984],\n",
       "                       [-0.2350,  0.1363,  0.7641,  1.0707]]]),\n",
       "       ),\n",
       ")"
      ]
     },
     "execution_count": 25,
     "metadata": {},
     "output_type": "execute_result"
    }
   ],
   "source": [
    "batches = [Batch(**_TREE_DATA_2) for _ in range(8)]\n",
    "\n",
    "Batch.stack(batches)"
   ]
  },
  {
   "cell_type": "code",
   "execution_count": 26,
   "id": "ec9037a3",
   "metadata": {
    "execution": {
     "iopub.execute_input": "2023-02-27T14:41:11.412997Z",
     "iopub.status.busy": "2023-02-27T14:41:11.412660Z",
     "iopub.status.idle": "2023-02-27T14:41:17.825486Z",
     "shell.execute_reply": "2023-02-27T14:41:17.824746Z"
    }
   },
   "outputs": [
    {
     "name": "stdout",
     "output_type": "stream",
     "text": [
      "79 µs ± 146 ns per loop (mean ± std. dev. of 7 runs, 10,000 loops each)\n"
     ]
    }
   ],
   "source": [
    "%timeit Batch.stack(batches)"
   ]
  },
  {
   "cell_type": "code",
   "execution_count": 27,
   "id": "cb8ab77e",
   "metadata": {
    "execution": {
     "iopub.execute_input": "2023-02-27T14:41:17.828174Z",
     "iopub.status.busy": "2023-02-27T14:41:17.827837Z",
     "iopub.status.idle": "2023-02-27T14:41:17.835217Z",
     "shell.execute_reply": "2023-02-27T14:41:17.834640Z"
    }
   },
   "outputs": [
    {
     "data": {
      "text/plain": [
       "Batch(\n",
       "    a: tensor([[ 1.2876,  1.9036,  0.7975],\n",
       "               [ 0.7100, -0.9388,  0.4418],\n",
       "               [ 1.2876,  1.9036,  0.7975],\n",
       "               [ 0.7100, -0.9388,  0.4418],\n",
       "               [ 1.2876,  1.9036,  0.7975],\n",
       "               [ 0.7100, -0.9388,  0.4418],\n",
       "               [ 1.2876,  1.9036,  0.7975],\n",
       "               [ 0.7100, -0.9388,  0.4418],\n",
       "               [ 1.2876,  1.9036,  0.7975],\n",
       "               [ 0.7100, -0.9388,  0.4418],\n",
       "               [ 1.2876,  1.9036,  0.7975],\n",
       "               [ 0.7100, -0.9388,  0.4418],\n",
       "               [ 1.2876,  1.9036,  0.7975],\n",
       "               [ 0.7100, -0.9388,  0.4418],\n",
       "               [ 1.2876,  1.9036,  0.7975],\n",
       "               [ 0.7100, -0.9388,  0.4418]]),\n",
       "    x: Batch(\n",
       "           c: tensor([[ 0.3508,  0.1516,  0.5272, -0.3053],\n",
       "                      [ 0.2160,  1.0574, -1.5683,  1.0984],\n",
       "                      [-0.2350,  0.1363,  0.7641,  1.0707],\n",
       "                      [ 0.3508,  0.1516,  0.5272, -0.3053],\n",
       "                      [ 0.2160,  1.0574, -1.5683,  1.0984],\n",
       "                      [-0.2350,  0.1363,  0.7641,  1.0707],\n",
       "                      [ 0.3508,  0.1516,  0.5272, -0.3053],\n",
       "                      [ 0.2160,  1.0574, -1.5683,  1.0984],\n",
       "                      [-0.2350,  0.1363,  0.7641,  1.0707],\n",
       "                      [ 0.3508,  0.1516,  0.5272, -0.3053],\n",
       "                      [ 0.2160,  1.0574, -1.5683,  1.0984],\n",
       "                      [-0.2350,  0.1363,  0.7641,  1.0707],\n",
       "                      [ 0.3508,  0.1516,  0.5272, -0.3053],\n",
       "                      [ 0.2160,  1.0574, -1.5683,  1.0984],\n",
       "                      [-0.2350,  0.1363,  0.7641,  1.0707],\n",
       "                      [ 0.3508,  0.1516,  0.5272, -0.3053],\n",
       "                      [ 0.2160,  1.0574, -1.5683,  1.0984],\n",
       "                      [-0.2350,  0.1363,  0.7641,  1.0707],\n",
       "                      [ 0.3508,  0.1516,  0.5272, -0.3053],\n",
       "                      [ 0.2160,  1.0574, -1.5683,  1.0984],\n",
       "                      [-0.2350,  0.1363,  0.7641,  1.0707],\n",
       "                      [ 0.3508,  0.1516,  0.5272, -0.3053],\n",
       "                      [ 0.2160,  1.0574, -1.5683,  1.0984],\n",
       "                      [-0.2350,  0.1363,  0.7641,  1.0707]]),\n",
       "       ),\n",
       ")"
      ]
     },
     "execution_count": 27,
     "metadata": {},
     "output_type": "execute_result"
    }
   ],
   "source": [
    "Batch.cat(batches)"
   ]
  },
  {
   "cell_type": "code",
   "execution_count": 28,
   "id": "18dfb045",
   "metadata": {
    "execution": {
     "iopub.execute_input": "2023-02-27T14:41:17.837511Z",
     "iopub.status.busy": "2023-02-27T14:41:17.837175Z",
     "iopub.status.idle": "2023-02-27T14:41:29.576336Z",
     "shell.execute_reply": "2023-02-27T14:41:29.575692Z"
    }
   },
   "outputs": [
    {
     "name": "stdout",
     "output_type": "stream",
     "text": [
      "145 µs ± 219 ns per loop (mean ± std. dev. of 7 runs, 10,000 loops each)\n"
     ]
    }
   ],
   "source": [
    "%timeit Batch.cat(batches)"
   ]
  },
  {
   "cell_type": "code",
   "execution_count": 29,
   "id": "c6688e51",
   "metadata": {
    "execution": {
     "iopub.execute_input": "2023-02-27T14:41:29.579516Z",
     "iopub.status.busy": "2023-02-27T14:41:29.578933Z",
     "iopub.status.idle": "2023-02-27T14:41:32.074869Z",
     "shell.execute_reply": "2023-02-27T14:41:32.074171Z"
    }
   },
   "outputs": [
    {
     "name": "stdout",
     "output_type": "stream",
     "text": [
      "306 µs ± 490 ns per loop (mean ± std. dev. of 7 runs, 1,000 loops each)\n"
     ]
    }
   ],
   "source": [
    "batch = Batch({\n",
    "    'obs': torch.randn(8, 4, 84, 84),\n",
    "    'action': torch.randint(0, 6, size=(8, 1,)),\n",
    "    'reward': torch.rand(8, 1)}\n",
    ")\n",
    "\n",
    "%timeit list(Batch.split(batch, 1, shuffle=False, merge_last=True))"
   ]
  },
  {
   "cell_type": "code",
   "execution_count": null,
   "id": "2539fbd9",
   "metadata": {},
   "outputs": [],
   "source": []
  }
 ],
 "metadata": {
  "kernelspec": {
   "display_name": "Python 3 (ipykernel)",
   "language": "python",
   "name": "python3"
  },
  "language_info": {
   "codemirror_mode": {
    "name": "ipython",
    "version": 3
   },
   "file_extension": ".py",
   "mimetype": "text/x-python",
   "name": "python",
   "nbconvert_exporter": "python",
   "pygments_lexer": "ipython3",
   "version": "3.8.16"
  }
 },
 "nbformat": 4,
 "nbformat_minor": 5
}
