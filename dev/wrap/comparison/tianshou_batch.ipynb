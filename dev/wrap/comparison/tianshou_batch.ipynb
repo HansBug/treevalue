{
 "cells": [
  {
   "cell_type": "markdown",
   "id": "9d39d946",
   "metadata": {},
   "source": [
    "# Comparison Between TreeValue and Tianshou Batch"
   ]
  },
  {
   "cell_type": "markdown",
   "id": "3c6db2d4",
   "metadata": {},
   "source": [
    "In this section, we will take a look at the feature and performance of the [Tianshou Batch](https://github.com/thu-ml/tianshou) library, which is developed by Tsinghua Machine Learning Group."
   ]
  },
  {
   "cell_type": "markdown",
   "id": "069361b0",
   "metadata": {},
   "source": [
    "Before starting the comparison, let us define some thing."
   ]
  },
  {
   "cell_type": "code",
   "execution_count": 1,
   "id": "06fc8d26",
   "metadata": {
    "execution": {
     "iopub.execute_input": "2023-03-06T11:57:09.183726Z",
     "iopub.status.busy": "2023-03-06T11:57:09.183501Z",
     "iopub.status.idle": "2023-03-06T11:57:10.087574Z",
     "shell.execute_reply": "2023-03-06T11:57:10.086905Z"
    }
   },
   "outputs": [
    {
     "name": "stderr",
     "output_type": "stream",
     "text": [
      "/opt/hostedtoolcache/Python/3.8.16/x64/lib/python3.8/site-packages/tqdm/auto.py:21: TqdmWarning: IProgress not found. Please update jupyter and ipywidgets. See https://ipywidgets.readthedocs.io/en/stable/user_install.html\n",
      "  from .autonotebook import tqdm as notebook_tqdm\n"
     ]
    }
   ],
   "source": [
    "import torch \n",
    "\n",
    "_TREE_DATA_1 = {'a': 1, 'b': 2, 'x': {'c': 3, 'd': 4}}\n",
    "_TREE_DATA_2 = {\n",
    "    'a': torch.randn(2, 3), \n",
    "    'x': {\n",
    "        'c': torch.randn(3, 4)\n",
    "    },\n",
    "}\n",
    "_TREE_DATA_3 = {\n",
    "    'obs': torch.randn(4, 84, 84),\n",
    "    'action': torch.randint(0, 6, size=(1,)),\n",
    "    'reward': torch.rand(1),\n",
    "}"
   ]
  },
  {
   "cell_type": "markdown",
   "id": "83461b25",
   "metadata": {},
   "source": [
    "## Read and Write Operation"
   ]
  },
  {
   "cell_type": "markdown",
   "id": "067b3f73",
   "metadata": {},
   "source": [
    "Reading and writing are the two most common operations in the tree data structure based on the data model (TreeValue and Tianshou Batch both belong to this type), so this section will compare the reading and writing performance of these two libraries."
   ]
  },
  {
   "cell_type": "markdown",
   "id": "5d09a5b7",
   "metadata": {},
   "source": [
    "### TreeValue's Get and Set"
   ]
  },
  {
   "cell_type": "code",
   "execution_count": 2,
   "id": "9519c4bb",
   "metadata": {
    "execution": {
     "iopub.execute_input": "2023-03-06T11:57:10.090782Z",
     "iopub.status.busy": "2023-03-06T11:57:10.090208Z",
     "iopub.status.idle": "2023-03-06T11:57:10.367974Z",
     "shell.execute_reply": "2023-03-06T11:57:10.367289Z"
    }
   },
   "outputs": [],
   "source": [
    "from treevalue import FastTreeValue\n",
    "\n",
    "t = FastTreeValue(_TREE_DATA_2)"
   ]
  },
  {
   "cell_type": "code",
   "execution_count": 3,
   "id": "11c37677",
   "metadata": {
    "execution": {
     "iopub.execute_input": "2023-03-06T11:57:10.371227Z",
     "iopub.status.busy": "2023-03-06T11:57:10.370587Z",
     "iopub.status.idle": "2023-03-06T11:57:10.379146Z",
     "shell.execute_reply": "2023-03-06T11:57:10.378481Z"
    }
   },
   "outputs": [
    {
     "data": {
      "text/plain": [
       "<FastTreeValue 0x7f279d6b29a0>\n",
       "├── 'a' --> tensor([[ 0.3836,  1.0910, -1.2552],\n",
       "│                   [-0.3795,  0.7519, -1.1782]])\n",
       "└── 'x' --> <FastTreeValue 0x7f279d6b2be0>\n",
       "    └── 'c' --> tensor([[-1.0088, -0.3954,  1.7330, -0.2671],\n",
       "                        [ 0.1175, -0.2248, -0.5570,  0.8946],\n",
       "                        [-0.3011, -0.1424,  1.9044,  1.2785]])"
      ]
     },
     "execution_count": 3,
     "metadata": {},
     "output_type": "execute_result"
    }
   ],
   "source": [
    "t"
   ]
  },
  {
   "cell_type": "code",
   "execution_count": 4,
   "id": "fd70b0b9",
   "metadata": {
    "execution": {
     "iopub.execute_input": "2023-03-06T11:57:10.381774Z",
     "iopub.status.busy": "2023-03-06T11:57:10.381431Z",
     "iopub.status.idle": "2023-03-06T11:57:10.386069Z",
     "shell.execute_reply": "2023-03-06T11:57:10.385455Z"
    }
   },
   "outputs": [
    {
     "data": {
      "text/plain": [
       "tensor([[ 0.3836,  1.0910, -1.2552],\n",
       "        [-0.3795,  0.7519, -1.1782]])"
      ]
     },
     "execution_count": 4,
     "metadata": {},
     "output_type": "execute_result"
    }
   ],
   "source": [
    "t.a"
   ]
  },
  {
   "cell_type": "code",
   "execution_count": 5,
   "id": "c18197bd",
   "metadata": {
    "execution": {
     "iopub.execute_input": "2023-03-06T11:57:10.388336Z",
     "iopub.status.busy": "2023-03-06T11:57:10.388006Z",
     "iopub.status.idle": "2023-03-06T11:57:15.234247Z",
     "shell.execute_reply": "2023-03-06T11:57:15.233502Z"
    }
   },
   "outputs": [
    {
     "name": "stdout",
     "output_type": "stream",
     "text": [
      "59.7 ns ± 0.0884 ns per loop (mean ± std. dev. of 7 runs, 10,000,000 loops each)\n"
     ]
    }
   ],
   "source": [
    "%timeit t.a"
   ]
  },
  {
   "cell_type": "code",
   "execution_count": 6,
   "id": "bd52f867",
   "metadata": {
    "execution": {
     "iopub.execute_input": "2023-03-06T11:57:15.237467Z",
     "iopub.status.busy": "2023-03-06T11:57:15.236941Z",
     "iopub.status.idle": "2023-03-06T11:57:15.243872Z",
     "shell.execute_reply": "2023-03-06T11:57:15.243283Z"
    }
   },
   "outputs": [
    {
     "data": {
      "text/plain": [
       "<FastTreeValue 0x7f279d6b29a0>\n",
       "├── 'a' --> tensor([[-0.2857,  0.2692,  0.5676],\n",
       "│                   [ 0.3606, -0.2112, -0.8537]])\n",
       "└── 'x' --> <FastTreeValue 0x7f279d6b2be0>\n",
       "    └── 'c' --> tensor([[-1.0088, -0.3954,  1.7330, -0.2671],\n",
       "                        [ 0.1175, -0.2248, -0.5570,  0.8946],\n",
       "                        [-0.3011, -0.1424,  1.9044,  1.2785]])"
      ]
     },
     "execution_count": 6,
     "metadata": {},
     "output_type": "execute_result"
    }
   ],
   "source": [
    "new_value = torch.randn(2, 3)\n",
    "t.a = new_value\n",
    "\n",
    "t"
   ]
  },
  {
   "cell_type": "code",
   "execution_count": 7,
   "id": "bbe04d1c",
   "metadata": {
    "execution": {
     "iopub.execute_input": "2023-03-06T11:57:15.246454Z",
     "iopub.status.busy": "2023-03-06T11:57:15.246133Z",
     "iopub.status.idle": "2023-03-06T11:57:20.151453Z",
     "shell.execute_reply": "2023-03-06T11:57:20.150720Z"
    }
   },
   "outputs": [
    {
     "name": "stdout",
     "output_type": "stream",
     "text": [
      "60.4 ns ± 0.0632 ns per loop (mean ± std. dev. of 7 runs, 10,000,000 loops each)\n"
     ]
    }
   ],
   "source": [
    "%timeit t.a = new_value"
   ]
  },
  {
   "cell_type": "markdown",
   "id": "48c49731",
   "metadata": {},
   "source": [
    "### Tianshou Batch's Get and Set"
   ]
  },
  {
   "cell_type": "code",
   "execution_count": 8,
   "id": "f1bb14c1",
   "metadata": {
    "execution": {
     "iopub.execute_input": "2023-03-06T11:57:20.154443Z",
     "iopub.status.busy": "2023-03-06T11:57:20.154091Z",
     "iopub.status.idle": "2023-03-06T11:57:20.481637Z",
     "shell.execute_reply": "2023-03-06T11:57:20.480950Z"
    }
   },
   "outputs": [],
   "source": [
    "from tianshou.data import Batch\n",
    "\n",
    "b = Batch(**_TREE_DATA_2)"
   ]
  },
  {
   "cell_type": "code",
   "execution_count": 9,
   "id": "cb0777c3",
   "metadata": {
    "execution": {
     "iopub.execute_input": "2023-03-06T11:57:20.484984Z",
     "iopub.status.busy": "2023-03-06T11:57:20.484546Z",
     "iopub.status.idle": "2023-03-06T11:57:20.491556Z",
     "shell.execute_reply": "2023-03-06T11:57:20.490978Z"
    }
   },
   "outputs": [
    {
     "data": {
      "text/plain": [
       "Batch(\n",
       "    a: tensor([[ 0.3836,  1.0910, -1.2552],\n",
       "               [-0.3795,  0.7519, -1.1782]]),\n",
       "    x: Batch(\n",
       "           c: tensor([[-1.0088, -0.3954,  1.7330, -0.2671],\n",
       "                      [ 0.1175, -0.2248, -0.5570,  0.8946],\n",
       "                      [-0.3011, -0.1424,  1.9044,  1.2785]]),\n",
       "       ),\n",
       ")"
      ]
     },
     "execution_count": 9,
     "metadata": {},
     "output_type": "execute_result"
    }
   ],
   "source": [
    "b"
   ]
  },
  {
   "cell_type": "code",
   "execution_count": 10,
   "id": "43ef8ea3",
   "metadata": {
    "execution": {
     "iopub.execute_input": "2023-03-06T11:57:20.493931Z",
     "iopub.status.busy": "2023-03-06T11:57:20.493589Z",
     "iopub.status.idle": "2023-03-06T11:57:20.498790Z",
     "shell.execute_reply": "2023-03-06T11:57:20.498162Z"
    }
   },
   "outputs": [
    {
     "data": {
      "text/plain": [
       "tensor([[ 0.3836,  1.0910, -1.2552],\n",
       "        [-0.3795,  0.7519, -1.1782]])"
      ]
     },
     "execution_count": 10,
     "metadata": {},
     "output_type": "execute_result"
    }
   ],
   "source": [
    "b.a"
   ]
  },
  {
   "cell_type": "code",
   "execution_count": 11,
   "id": "b785ab72",
   "metadata": {
    "execution": {
     "iopub.execute_input": "2023-03-06T11:57:20.501214Z",
     "iopub.status.busy": "2023-03-06T11:57:20.500904Z",
     "iopub.status.idle": "2023-03-06T11:57:24.738730Z",
     "shell.execute_reply": "2023-03-06T11:57:24.737907Z"
    }
   },
   "outputs": [
    {
     "name": "stdout",
     "output_type": "stream",
     "text": [
      "52.3 ns ± 0.0524 ns per loop (mean ± std. dev. of 7 runs, 10,000,000 loops each)\n"
     ]
    }
   ],
   "source": [
    "%timeit b.a"
   ]
  },
  {
   "cell_type": "code",
   "execution_count": 12,
   "id": "ad54dc69",
   "metadata": {
    "execution": {
     "iopub.execute_input": "2023-03-06T11:57:24.741695Z",
     "iopub.status.busy": "2023-03-06T11:57:24.741465Z",
     "iopub.status.idle": "2023-03-06T11:57:24.747658Z",
     "shell.execute_reply": "2023-03-06T11:57:24.747074Z"
    }
   },
   "outputs": [
    {
     "data": {
      "text/plain": [
       "Batch(\n",
       "    a: tensor([[-0.2560,  0.2669,  0.2726],\n",
       "               [-0.5459,  1.2236,  0.2685]]),\n",
       "    x: Batch(\n",
       "           c: tensor([[-1.0088, -0.3954,  1.7330, -0.2671],\n",
       "                      [ 0.1175, -0.2248, -0.5570,  0.8946],\n",
       "                      [-0.3011, -0.1424,  1.9044,  1.2785]]),\n",
       "       ),\n",
       ")"
      ]
     },
     "execution_count": 12,
     "metadata": {},
     "output_type": "execute_result"
    }
   ],
   "source": [
    "new_value = torch.randn(2, 3)\n",
    "b.a = new_value\n",
    "\n",
    "b"
   ]
  },
  {
   "cell_type": "code",
   "execution_count": 13,
   "id": "29b1d0bf",
   "metadata": {
    "execution": {
     "iopub.execute_input": "2023-03-06T11:57:24.750027Z",
     "iopub.status.busy": "2023-03-06T11:57:24.749825Z",
     "iopub.status.idle": "2023-03-06T11:57:28.694857Z",
     "shell.execute_reply": "2023-03-06T11:57:28.694102Z"
    }
   },
   "outputs": [
    {
     "name": "stdout",
     "output_type": "stream",
     "text": [
      "486 ns ± 0.123 ns per loop (mean ± std. dev. of 7 runs, 1,000,000 loops each)\n"
     ]
    }
   ],
   "source": [
    "%timeit b.a = new_value"
   ]
  },
  {
   "cell_type": "markdown",
   "id": "b61ad1d0",
   "metadata": {},
   "source": [
    "## Initialization"
   ]
  },
  {
   "cell_type": "markdown",
   "id": "d70f0d54",
   "metadata": {},
   "source": [
    "### TreeValue's Initialization"
   ]
  },
  {
   "cell_type": "code",
   "execution_count": 14,
   "id": "d32a679b",
   "metadata": {
    "execution": {
     "iopub.execute_input": "2023-03-06T11:57:28.697650Z",
     "iopub.status.busy": "2023-03-06T11:57:28.697304Z",
     "iopub.status.idle": "2023-03-06T11:57:35.555618Z",
     "shell.execute_reply": "2023-03-06T11:57:35.554891Z"
    }
   },
   "outputs": [
    {
     "name": "stdout",
     "output_type": "stream",
     "text": [
      "846 ns ± 15.3 ns per loop (mean ± std. dev. of 7 runs, 1,000,000 loops each)\n"
     ]
    }
   ],
   "source": [
    "%timeit FastTreeValue(_TREE_DATA_1)"
   ]
  },
  {
   "cell_type": "markdown",
   "id": "24f3707b",
   "metadata": {},
   "source": [
    "### Tianshou Batch's Initialization"
   ]
  },
  {
   "cell_type": "code",
   "execution_count": 15,
   "id": "ac3958df",
   "metadata": {
    "execution": {
     "iopub.execute_input": "2023-03-06T11:57:35.558577Z",
     "iopub.status.busy": "2023-03-06T11:57:35.557987Z",
     "iopub.status.idle": "2023-03-06T11:57:44.858375Z",
     "shell.execute_reply": "2023-03-06T11:57:44.857612Z"
    }
   },
   "outputs": [
    {
     "name": "stdout",
     "output_type": "stream",
     "text": [
      "11.5 µs ± 36 ns per loop (mean ± std. dev. of 7 runs, 100,000 loops each)\n"
     ]
    }
   ],
   "source": [
    "%timeit Batch(**_TREE_DATA_1)"
   ]
  },
  {
   "cell_type": "markdown",
   "id": "1ab82e2d",
   "metadata": {},
   "source": [
    "## Deep Copy Operation"
   ]
  },
  {
   "cell_type": "code",
   "execution_count": 16,
   "id": "210a9442",
   "metadata": {
    "execution": {
     "iopub.execute_input": "2023-03-06T11:57:44.861453Z",
     "iopub.status.busy": "2023-03-06T11:57:44.861094Z",
     "iopub.status.idle": "2023-03-06T11:57:44.864999Z",
     "shell.execute_reply": "2023-03-06T11:57:44.864403Z"
    }
   },
   "outputs": [],
   "source": [
    "import copy"
   ]
  },
  {
   "cell_type": "markdown",
   "id": "5a736274",
   "metadata": {},
   "source": [
    "### Deep Copy of TreeValue"
   ]
  },
  {
   "cell_type": "code",
   "execution_count": 17,
   "id": "f9bcadd6",
   "metadata": {
    "execution": {
     "iopub.execute_input": "2023-03-06T11:57:44.867587Z",
     "iopub.status.busy": "2023-03-06T11:57:44.867267Z",
     "iopub.status.idle": "2023-03-06T11:57:55.893173Z",
     "shell.execute_reply": "2023-03-06T11:57:55.892575Z"
    }
   },
   "outputs": [
    {
     "name": "stdout",
     "output_type": "stream",
     "text": [
      "136 µs ± 313 ns per loop (mean ± std. dev. of 7 runs, 10,000 loops each)\n"
     ]
    }
   ],
   "source": [
    "t3 = FastTreeValue(_TREE_DATA_3)\n",
    "%timeit copy.deepcopy(t3)"
   ]
  },
  {
   "cell_type": "markdown",
   "id": "bf8be7ea",
   "metadata": {},
   "source": [
    "### Deep Copy of Tianshou Batch"
   ]
  },
  {
   "cell_type": "code",
   "execution_count": 18,
   "id": "91998e6f",
   "metadata": {
    "execution": {
     "iopub.execute_input": "2023-03-06T11:57:55.896929Z",
     "iopub.status.busy": "2023-03-06T11:57:55.896022Z",
     "iopub.status.idle": "2023-03-06T11:58:07.129750Z",
     "shell.execute_reply": "2023-03-06T11:58:07.129169Z"
    }
   },
   "outputs": [
    {
     "name": "stdout",
     "output_type": "stream",
     "text": [
      "138 µs ± 397 ns per loop (mean ± std. dev. of 7 runs, 10,000 loops each)\n"
     ]
    }
   ],
   "source": [
    "b3 = Batch(**_TREE_DATA_3)\n",
    "%timeit copy.deepcopy(b3)"
   ]
  },
  {
   "cell_type": "markdown",
   "id": "223162fb",
   "metadata": {},
   "source": [
    "## Stack, Concat and Split Operation"
   ]
  },
  {
   "cell_type": "markdown",
   "id": "85fa4a73",
   "metadata": {},
   "source": [
    "### Performance of TreeValue"
   ]
  },
  {
   "cell_type": "code",
   "execution_count": 19,
   "id": "a0c2b697",
   "metadata": {
    "execution": {
     "iopub.execute_input": "2023-03-06T11:58:07.133555Z",
     "iopub.status.busy": "2023-03-06T11:58:07.132645Z",
     "iopub.status.idle": "2023-03-06T11:58:07.136809Z",
     "shell.execute_reply": "2023-03-06T11:58:07.136282Z"
    }
   },
   "outputs": [],
   "source": [
    "trees = [FastTreeValue(_TREE_DATA_2) for _ in range(8)]"
   ]
  },
  {
   "cell_type": "code",
   "execution_count": 20,
   "id": "017ea5a5",
   "metadata": {
    "execution": {
     "iopub.execute_input": "2023-03-06T11:58:07.140243Z",
     "iopub.status.busy": "2023-03-06T11:58:07.139371Z",
     "iopub.status.idle": "2023-03-06T11:58:07.147902Z",
     "shell.execute_reply": "2023-03-06T11:58:07.147387Z"
    }
   },
   "outputs": [
    {
     "data": {
      "text/plain": [
       "<FastTreeValue 0x7f26ea55b4f0>\n",
       "├── 'a' --> tensor([[[ 0.3836,  1.0910, -1.2552],\n",
       "│                    [-0.3795,  0.7519, -1.1782]],\n",
       "│           \n",
       "│                   [[ 0.3836,  1.0910, -1.2552],\n",
       "│                    [-0.3795,  0.7519, -1.1782]],\n",
       "│           \n",
       "│                   [[ 0.3836,  1.0910, -1.2552],\n",
       "│                    [-0.3795,  0.7519, -1.1782]],\n",
       "│           \n",
       "│                   [[ 0.3836,  1.0910, -1.2552],\n",
       "│                    [-0.3795,  0.7519, -1.1782]],\n",
       "│           \n",
       "│                   [[ 0.3836,  1.0910, -1.2552],\n",
       "│                    [-0.3795,  0.7519, -1.1782]],\n",
       "│           \n",
       "│                   [[ 0.3836,  1.0910, -1.2552],\n",
       "│                    [-0.3795,  0.7519, -1.1782]],\n",
       "│           \n",
       "│                   [[ 0.3836,  1.0910, -1.2552],\n",
       "│                    [-0.3795,  0.7519, -1.1782]],\n",
       "│           \n",
       "│                   [[ 0.3836,  1.0910, -1.2552],\n",
       "│                    [-0.3795,  0.7519, -1.1782]]])\n",
       "└── 'x' --> <FastTreeValue 0x7f26ea55b340>\n",
       "    └── 'c' --> tensor([[[-1.0088, -0.3954,  1.7330, -0.2671],\n",
       "                         [ 0.1175, -0.2248, -0.5570,  0.8946],\n",
       "                         [-0.3011, -0.1424,  1.9044,  1.2785]],\n",
       "                \n",
       "                        [[-1.0088, -0.3954,  1.7330, -0.2671],\n",
       "                         [ 0.1175, -0.2248, -0.5570,  0.8946],\n",
       "                         [-0.3011, -0.1424,  1.9044,  1.2785]],\n",
       "                \n",
       "                        [[-1.0088, -0.3954,  1.7330, -0.2671],\n",
       "                         [ 0.1175, -0.2248, -0.5570,  0.8946],\n",
       "                         [-0.3011, -0.1424,  1.9044,  1.2785]],\n",
       "                \n",
       "                        [[-1.0088, -0.3954,  1.7330, -0.2671],\n",
       "                         [ 0.1175, -0.2248, -0.5570,  0.8946],\n",
       "                         [-0.3011, -0.1424,  1.9044,  1.2785]],\n",
       "                \n",
       "                        [[-1.0088, -0.3954,  1.7330, -0.2671],\n",
       "                         [ 0.1175, -0.2248, -0.5570,  0.8946],\n",
       "                         [-0.3011, -0.1424,  1.9044,  1.2785]],\n",
       "                \n",
       "                        [[-1.0088, -0.3954,  1.7330, -0.2671],\n",
       "                         [ 0.1175, -0.2248, -0.5570,  0.8946],\n",
       "                         [-0.3011, -0.1424,  1.9044,  1.2785]],\n",
       "                \n",
       "                        [[-1.0088, -0.3954,  1.7330, -0.2671],\n",
       "                         [ 0.1175, -0.2248, -0.5570,  0.8946],\n",
       "                         [-0.3011, -0.1424,  1.9044,  1.2785]],\n",
       "                \n",
       "                        [[-1.0088, -0.3954,  1.7330, -0.2671],\n",
       "                         [ 0.1175, -0.2248, -0.5570,  0.8946],\n",
       "                         [-0.3011, -0.1424,  1.9044,  1.2785]]])"
      ]
     },
     "execution_count": 20,
     "metadata": {},
     "output_type": "execute_result"
    }
   ],
   "source": [
    "t_stack = FastTreeValue.func(subside=True)(torch.stack)\n",
    "\n",
    "t_stack(trees)"
   ]
  },
  {
   "cell_type": "code",
   "execution_count": 21,
   "id": "f8b3f415",
   "metadata": {
    "execution": {
     "iopub.execute_input": "2023-03-06T11:58:07.151249Z",
     "iopub.status.busy": "2023-03-06T11:58:07.150353Z",
     "iopub.status.idle": "2023-03-06T11:58:09.772648Z",
     "shell.execute_reply": "2023-03-06T11:58:09.771971Z"
    }
   },
   "outputs": [
    {
     "name": "stdout",
     "output_type": "stream",
     "text": [
      "32.2 µs ± 61 ns per loop (mean ± std. dev. of 7 runs, 10,000 loops each)\n"
     ]
    }
   ],
   "source": [
    "%timeit t_stack(trees)"
   ]
  },
  {
   "cell_type": "code",
   "execution_count": 22,
   "id": "94b56771",
   "metadata": {
    "execution": {
     "iopub.execute_input": "2023-03-06T11:58:09.775660Z",
     "iopub.status.busy": "2023-03-06T11:58:09.775099Z",
     "iopub.status.idle": "2023-03-06T11:58:09.783058Z",
     "shell.execute_reply": "2023-03-06T11:58:09.782416Z"
    }
   },
   "outputs": [
    {
     "data": {
      "text/plain": [
       "<FastTreeValue 0x7f26e38b5550>\n",
       "├── 'a' --> tensor([[ 0.3836,  1.0910, -1.2552],\n",
       "│                   [-0.3795,  0.7519, -1.1782],\n",
       "│                   [ 0.3836,  1.0910, -1.2552],\n",
       "│                   [-0.3795,  0.7519, -1.1782],\n",
       "│                   [ 0.3836,  1.0910, -1.2552],\n",
       "│                   [-0.3795,  0.7519, -1.1782],\n",
       "│                   [ 0.3836,  1.0910, -1.2552],\n",
       "│                   [-0.3795,  0.7519, -1.1782],\n",
       "│                   [ 0.3836,  1.0910, -1.2552],\n",
       "│                   [-0.3795,  0.7519, -1.1782],\n",
       "│                   [ 0.3836,  1.0910, -1.2552],\n",
       "│                   [-0.3795,  0.7519, -1.1782],\n",
       "│                   [ 0.3836,  1.0910, -1.2552],\n",
       "│                   [-0.3795,  0.7519, -1.1782],\n",
       "│                   [ 0.3836,  1.0910, -1.2552],\n",
       "│                   [-0.3795,  0.7519, -1.1782]])\n",
       "└── 'x' --> <FastTreeValue 0x7f26e38b50a0>\n",
       "    └── 'c' --> tensor([[-1.0088, -0.3954,  1.7330, -0.2671],\n",
       "                        [ 0.1175, -0.2248, -0.5570,  0.8946],\n",
       "                        [-0.3011, -0.1424,  1.9044,  1.2785],\n",
       "                        [-1.0088, -0.3954,  1.7330, -0.2671],\n",
       "                        [ 0.1175, -0.2248, -0.5570,  0.8946],\n",
       "                        [-0.3011, -0.1424,  1.9044,  1.2785],\n",
       "                        [-1.0088, -0.3954,  1.7330, -0.2671],\n",
       "                        [ 0.1175, -0.2248, -0.5570,  0.8946],\n",
       "                        [-0.3011, -0.1424,  1.9044,  1.2785],\n",
       "                        [-1.0088, -0.3954,  1.7330, -0.2671],\n",
       "                        [ 0.1175, -0.2248, -0.5570,  0.8946],\n",
       "                        [-0.3011, -0.1424,  1.9044,  1.2785],\n",
       "                        [-1.0088, -0.3954,  1.7330, -0.2671],\n",
       "                        [ 0.1175, -0.2248, -0.5570,  0.8946],\n",
       "                        [-0.3011, -0.1424,  1.9044,  1.2785],\n",
       "                        [-1.0088, -0.3954,  1.7330, -0.2671],\n",
       "                        [ 0.1175, -0.2248, -0.5570,  0.8946],\n",
       "                        [-0.3011, -0.1424,  1.9044,  1.2785],\n",
       "                        [-1.0088, -0.3954,  1.7330, -0.2671],\n",
       "                        [ 0.1175, -0.2248, -0.5570,  0.8946],\n",
       "                        [-0.3011, -0.1424,  1.9044,  1.2785],\n",
       "                        [-1.0088, -0.3954,  1.7330, -0.2671],\n",
       "                        [ 0.1175, -0.2248, -0.5570,  0.8946],\n",
       "                        [-0.3011, -0.1424,  1.9044,  1.2785]])"
      ]
     },
     "execution_count": 22,
     "metadata": {},
     "output_type": "execute_result"
    }
   ],
   "source": [
    "t_cat = FastTreeValue.func(subside=True)(torch.cat)\n",
    "\n",
    "t_cat(trees)"
   ]
  },
  {
   "cell_type": "code",
   "execution_count": 23,
   "id": "5e9c06a6",
   "metadata": {
    "execution": {
     "iopub.execute_input": "2023-03-06T11:58:09.785560Z",
     "iopub.status.busy": "2023-03-06T11:58:09.785198Z",
     "iopub.status.idle": "2023-03-06T11:58:12.257276Z",
     "shell.execute_reply": "2023-03-06T11:58:12.256392Z"
    }
   },
   "outputs": [
    {
     "name": "stdout",
     "output_type": "stream",
     "text": [
      "30.4 µs ± 158 ns per loop (mean ± std. dev. of 7 runs, 10,000 loops each)\n"
     ]
    }
   ],
   "source": [
    "%timeit t_cat(trees)"
   ]
  },
  {
   "cell_type": "code",
   "execution_count": 24,
   "id": "a3ab5c8f",
   "metadata": {
    "execution": {
     "iopub.execute_input": "2023-03-06T11:58:12.260262Z",
     "iopub.status.busy": "2023-03-06T11:58:12.259919Z",
     "iopub.status.idle": "2023-03-06T11:58:16.999850Z",
     "shell.execute_reply": "2023-03-06T11:58:16.999095Z"
    }
   },
   "outputs": [
    {
     "name": "stdout",
     "output_type": "stream",
     "text": [
      "58.3 µs ± 206 ns per loop (mean ± std. dev. of 7 runs, 10,000 loops each)\n"
     ]
    }
   ],
   "source": [
    "t_split = FastTreeValue.func(rise=True)(torch.split)\n",
    "tree = FastTreeValue({\n",
    "    'obs': torch.randn(8, 4, 84, 84),\n",
    "    'action': torch.randint(0, 6, size=(8, 1,)),\n",
    "    'reward': torch.rand(8, 1),\n",
    "})\n",
    "\n",
    "%timeit t_split(tree, 1)"
   ]
  },
  {
   "cell_type": "markdown",
   "id": "31c3ec0b",
   "metadata": {},
   "source": [
    "### Performance of Tianshou Batch"
   ]
  },
  {
   "cell_type": "code",
   "execution_count": 25,
   "id": "9ead828a",
   "metadata": {
    "execution": {
     "iopub.execute_input": "2023-03-06T11:58:17.002837Z",
     "iopub.status.busy": "2023-03-06T11:58:17.002484Z",
     "iopub.status.idle": "2023-03-06T11:58:17.010318Z",
     "shell.execute_reply": "2023-03-06T11:58:17.009741Z"
    }
   },
   "outputs": [
    {
     "data": {
      "text/plain": [
       "Batch(\n",
       "    x: Batch(\n",
       "           c: tensor([[[-1.0088, -0.3954,  1.7330, -0.2671],\n",
       "                       [ 0.1175, -0.2248, -0.5570,  0.8946],\n",
       "                       [-0.3011, -0.1424,  1.9044,  1.2785]],\n",
       "              \n",
       "                      [[-1.0088, -0.3954,  1.7330, -0.2671],\n",
       "                       [ 0.1175, -0.2248, -0.5570,  0.8946],\n",
       "                       [-0.3011, -0.1424,  1.9044,  1.2785]],\n",
       "              \n",
       "                      [[-1.0088, -0.3954,  1.7330, -0.2671],\n",
       "                       [ 0.1175, -0.2248, -0.5570,  0.8946],\n",
       "                       [-0.3011, -0.1424,  1.9044,  1.2785]],\n",
       "              \n",
       "                      [[-1.0088, -0.3954,  1.7330, -0.2671],\n",
       "                       [ 0.1175, -0.2248, -0.5570,  0.8946],\n",
       "                       [-0.3011, -0.1424,  1.9044,  1.2785]],\n",
       "              \n",
       "                      [[-1.0088, -0.3954,  1.7330, -0.2671],\n",
       "                       [ 0.1175, -0.2248, -0.5570,  0.8946],\n",
       "                       [-0.3011, -0.1424,  1.9044,  1.2785]],\n",
       "              \n",
       "                      [[-1.0088, -0.3954,  1.7330, -0.2671],\n",
       "                       [ 0.1175, -0.2248, -0.5570,  0.8946],\n",
       "                       [-0.3011, -0.1424,  1.9044,  1.2785]],\n",
       "              \n",
       "                      [[-1.0088, -0.3954,  1.7330, -0.2671],\n",
       "                       [ 0.1175, -0.2248, -0.5570,  0.8946],\n",
       "                       [-0.3011, -0.1424,  1.9044,  1.2785]],\n",
       "              \n",
       "                      [[-1.0088, -0.3954,  1.7330, -0.2671],\n",
       "                       [ 0.1175, -0.2248, -0.5570,  0.8946],\n",
       "                       [-0.3011, -0.1424,  1.9044,  1.2785]]]),\n",
       "       ),\n",
       "    a: tensor([[[ 0.3836,  1.0910, -1.2552],\n",
       "                [-0.3795,  0.7519, -1.1782]],\n",
       "       \n",
       "               [[ 0.3836,  1.0910, -1.2552],\n",
       "                [-0.3795,  0.7519, -1.1782]],\n",
       "       \n",
       "               [[ 0.3836,  1.0910, -1.2552],\n",
       "                [-0.3795,  0.7519, -1.1782]],\n",
       "       \n",
       "               [[ 0.3836,  1.0910, -1.2552],\n",
       "                [-0.3795,  0.7519, -1.1782]],\n",
       "       \n",
       "               [[ 0.3836,  1.0910, -1.2552],\n",
       "                [-0.3795,  0.7519, -1.1782]],\n",
       "       \n",
       "               [[ 0.3836,  1.0910, -1.2552],\n",
       "                [-0.3795,  0.7519, -1.1782]],\n",
       "       \n",
       "               [[ 0.3836,  1.0910, -1.2552],\n",
       "                [-0.3795,  0.7519, -1.1782]],\n",
       "       \n",
       "               [[ 0.3836,  1.0910, -1.2552],\n",
       "                [-0.3795,  0.7519, -1.1782]]]),\n",
       ")"
      ]
     },
     "execution_count": 25,
     "metadata": {},
     "output_type": "execute_result"
    }
   ],
   "source": [
    "batches = [Batch(**_TREE_DATA_2) for _ in range(8)]\n",
    "\n",
    "Batch.stack(batches)"
   ]
  },
  {
   "cell_type": "code",
   "execution_count": 26,
   "id": "ec9037a3",
   "metadata": {
    "execution": {
     "iopub.execute_input": "2023-03-06T11:58:17.012758Z",
     "iopub.status.busy": "2023-03-06T11:58:17.012548Z",
     "iopub.status.idle": "2023-03-06T11:58:23.335950Z",
     "shell.execute_reply": "2023-03-06T11:58:23.335271Z"
    }
   },
   "outputs": [
    {
     "name": "stdout",
     "output_type": "stream",
     "text": [
      "77.9 µs ± 107 ns per loop (mean ± std. dev. of 7 runs, 10,000 loops each)\n"
     ]
    }
   ],
   "source": [
    "%timeit Batch.stack(batches)"
   ]
  },
  {
   "cell_type": "code",
   "execution_count": 27,
   "id": "cb8ab77e",
   "metadata": {
    "execution": {
     "iopub.execute_input": "2023-03-06T11:58:23.339008Z",
     "iopub.status.busy": "2023-03-06T11:58:23.338623Z",
     "iopub.status.idle": "2023-03-06T11:58:23.346280Z",
     "shell.execute_reply": "2023-03-06T11:58:23.345702Z"
    }
   },
   "outputs": [
    {
     "data": {
      "text/plain": [
       "Batch(\n",
       "    x: Batch(\n",
       "           c: tensor([[-1.0088, -0.3954,  1.7330, -0.2671],\n",
       "                      [ 0.1175, -0.2248, -0.5570,  0.8946],\n",
       "                      [-0.3011, -0.1424,  1.9044,  1.2785],\n",
       "                      [-1.0088, -0.3954,  1.7330, -0.2671],\n",
       "                      [ 0.1175, -0.2248, -0.5570,  0.8946],\n",
       "                      [-0.3011, -0.1424,  1.9044,  1.2785],\n",
       "                      [-1.0088, -0.3954,  1.7330, -0.2671],\n",
       "                      [ 0.1175, -0.2248, -0.5570,  0.8946],\n",
       "                      [-0.3011, -0.1424,  1.9044,  1.2785],\n",
       "                      [-1.0088, -0.3954,  1.7330, -0.2671],\n",
       "                      [ 0.1175, -0.2248, -0.5570,  0.8946],\n",
       "                      [-0.3011, -0.1424,  1.9044,  1.2785],\n",
       "                      [-1.0088, -0.3954,  1.7330, -0.2671],\n",
       "                      [ 0.1175, -0.2248, -0.5570,  0.8946],\n",
       "                      [-0.3011, -0.1424,  1.9044,  1.2785],\n",
       "                      [-1.0088, -0.3954,  1.7330, -0.2671],\n",
       "                      [ 0.1175, -0.2248, -0.5570,  0.8946],\n",
       "                      [-0.3011, -0.1424,  1.9044,  1.2785],\n",
       "                      [-1.0088, -0.3954,  1.7330, -0.2671],\n",
       "                      [ 0.1175, -0.2248, -0.5570,  0.8946],\n",
       "                      [-0.3011, -0.1424,  1.9044,  1.2785],\n",
       "                      [-1.0088, -0.3954,  1.7330, -0.2671],\n",
       "                      [ 0.1175, -0.2248, -0.5570,  0.8946],\n",
       "                      [-0.3011, -0.1424,  1.9044,  1.2785]]),\n",
       "       ),\n",
       "    a: tensor([[ 0.3836,  1.0910, -1.2552],\n",
       "               [-0.3795,  0.7519, -1.1782],\n",
       "               [ 0.3836,  1.0910, -1.2552],\n",
       "               [-0.3795,  0.7519, -1.1782],\n",
       "               [ 0.3836,  1.0910, -1.2552],\n",
       "               [-0.3795,  0.7519, -1.1782],\n",
       "               [ 0.3836,  1.0910, -1.2552],\n",
       "               [-0.3795,  0.7519, -1.1782],\n",
       "               [ 0.3836,  1.0910, -1.2552],\n",
       "               [-0.3795,  0.7519, -1.1782],\n",
       "               [ 0.3836,  1.0910, -1.2552],\n",
       "               [-0.3795,  0.7519, -1.1782],\n",
       "               [ 0.3836,  1.0910, -1.2552],\n",
       "               [-0.3795,  0.7519, -1.1782],\n",
       "               [ 0.3836,  1.0910, -1.2552],\n",
       "               [-0.3795,  0.7519, -1.1782]]),\n",
       ")"
      ]
     },
     "execution_count": 27,
     "metadata": {},
     "output_type": "execute_result"
    }
   ],
   "source": [
    "Batch.cat(batches)"
   ]
  },
  {
   "cell_type": "code",
   "execution_count": 28,
   "id": "18dfb045",
   "metadata": {
    "execution": {
     "iopub.execute_input": "2023-03-06T11:58:23.348897Z",
     "iopub.status.busy": "2023-03-06T11:58:23.348566Z",
     "iopub.status.idle": "2023-03-06T11:58:34.845081Z",
     "shell.execute_reply": "2023-03-06T11:58:34.844349Z"
    }
   },
   "outputs": [
    {
     "name": "stdout",
     "output_type": "stream",
     "text": [
      "142 µs ± 502 ns per loop (mean ± std. dev. of 7 runs, 10,000 loops each)\n"
     ]
    }
   ],
   "source": [
    "%timeit Batch.cat(batches)"
   ]
  },
  {
   "cell_type": "code",
   "execution_count": 29,
   "id": "c6688e51",
   "metadata": {
    "execution": {
     "iopub.execute_input": "2023-03-06T11:58:34.848016Z",
     "iopub.status.busy": "2023-03-06T11:58:34.847668Z",
     "iopub.status.idle": "2023-03-06T11:58:37.337995Z",
     "shell.execute_reply": "2023-03-06T11:58:37.337279Z"
    }
   },
   "outputs": [
    {
     "name": "stdout",
     "output_type": "stream",
     "text": [
      "305 µs ± 1.9 µs per loop (mean ± std. dev. of 7 runs, 1,000 loops each)\n"
     ]
    }
   ],
   "source": [
    "batch = Batch({\n",
    "    'obs': torch.randn(8, 4, 84, 84),\n",
    "    'action': torch.randint(0, 6, size=(8, 1,)),\n",
    "    'reward': torch.rand(8, 1)}\n",
    ")\n",
    "\n",
    "%timeit list(Batch.split(batch, 1, shuffle=False, merge_last=True))"
   ]
  },
  {
   "cell_type": "code",
   "execution_count": null,
   "id": "2539fbd9",
   "metadata": {},
   "outputs": [],
   "source": []
  }
 ],
 "metadata": {
  "kernelspec": {
   "display_name": "Python 3 (ipykernel)",
   "language": "python",
   "name": "python3"
  },
  "language_info": {
   "codemirror_mode": {
    "name": "ipython",
    "version": 3
   },
   "file_extension": ".py",
   "mimetype": "text/x-python",
   "name": "python",
   "nbconvert_exporter": "python",
   "pygments_lexer": "ipython3",
   "version": "3.8.16"
  }
 },
 "nbformat": 4,
 "nbformat_minor": 5
}
