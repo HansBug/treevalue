{
 "cells": [
  {
   "cell_type": "markdown",
   "id": "9d39d946",
   "metadata": {},
   "source": [
    "# Comparison Between TreeValue and Tianshou Batch"
   ]
  },
  {
   "cell_type": "markdown",
   "id": "3c6db2d4",
   "metadata": {},
   "source": [
    "In this section, we will take a look at the feature and performance of the [Tianshou Batch](https://github.com/thu-ml/tianshou) library, which is developed by Tsinghua Machine Learning Group."
   ]
  },
  {
   "cell_type": "markdown",
   "id": "069361b0",
   "metadata": {},
   "source": [
    "Before starting the comparison, let us define some thing."
   ]
  },
  {
   "cell_type": "code",
   "execution_count": 1,
   "id": "06fc8d26",
   "metadata": {
    "execution": {
     "iopub.execute_input": "2023-02-25T08:06:51.371284Z",
     "iopub.status.busy": "2023-02-25T08:06:51.370747Z",
     "iopub.status.idle": "2023-02-25T08:06:52.479312Z",
     "shell.execute_reply": "2023-02-25T08:06:52.478367Z"
    }
   },
   "outputs": [
    {
     "name": "stderr",
     "output_type": "stream",
     "text": [
      "/opt/hostedtoolcache/Python/3.8.16/x64/lib/python3.8/site-packages/tqdm/auto.py:22: TqdmWarning: IProgress not found. Please update jupyter and ipywidgets. See https://ipywidgets.readthedocs.io/en/stable/user_install.html\n",
      "  from .autonotebook import tqdm as notebook_tqdm\n"
     ]
    }
   ],
   "source": [
    "import torch \n",
    "\n",
    "_TREE_DATA_1 = {'a': 1, 'b': 2, 'x': {'c': 3, 'd': 4}}\n",
    "_TREE_DATA_2 = {\n",
    "    'a': torch.randn(2, 3), \n",
    "    'x': {\n",
    "        'c': torch.randn(3, 4)\n",
    "    },\n",
    "}\n",
    "_TREE_DATA_3 = {\n",
    "    'obs': torch.randn(4, 84, 84),\n",
    "    'action': torch.randint(0, 6, size=(1,)),\n",
    "    'reward': torch.rand(1),\n",
    "}"
   ]
  },
  {
   "cell_type": "markdown",
   "id": "83461b25",
   "metadata": {},
   "source": [
    "## Read and Write Operation"
   ]
  },
  {
   "cell_type": "markdown",
   "id": "067b3f73",
   "metadata": {},
   "source": [
    "Reading and writing are the two most common operations in the tree data structure based on the data model (TreeValue and Tianshou Batch both belong to this type), so this section will compare the reading and writing performance of these two libraries."
   ]
  },
  {
   "cell_type": "markdown",
   "id": "5d09a5b7",
   "metadata": {},
   "source": [
    "### TreeValue's Get and Set"
   ]
  },
  {
   "cell_type": "code",
   "execution_count": 2,
   "id": "9519c4bb",
   "metadata": {
    "execution": {
     "iopub.execute_input": "2023-02-25T08:06:52.484243Z",
     "iopub.status.busy": "2023-02-25T08:06:52.483700Z",
     "iopub.status.idle": "2023-02-25T08:06:52.522827Z",
     "shell.execute_reply": "2023-02-25T08:06:52.521954Z"
    }
   },
   "outputs": [],
   "source": [
    "from treevalue import FastTreeValue\n",
    "\n",
    "t = FastTreeValue(_TREE_DATA_2)"
   ]
  },
  {
   "cell_type": "code",
   "execution_count": 3,
   "id": "11c37677",
   "metadata": {
    "execution": {
     "iopub.execute_input": "2023-02-25T08:06:52.527169Z",
     "iopub.status.busy": "2023-02-25T08:06:52.526891Z",
     "iopub.status.idle": "2023-02-25T08:06:52.536305Z",
     "shell.execute_reply": "2023-02-25T08:06:52.535556Z"
    }
   },
   "outputs": [
    {
     "data": {
      "text/plain": [
       "<FastTreeValue 0x7fde5ca12310>\n",
       "├── 'a' --> tensor([[-0.3188,  1.0491, -0.1608],\n",
       "│                   [ 0.2064, -0.1857,  1.4721]])\n",
       "└── 'x' --> <FastTreeValue 0x7fde5ca122e0>\n",
       "    └── 'c' --> tensor([[ 0.2583, -0.8978,  0.7120, -0.7495],\n",
       "                        [-0.1637, -1.0891, -0.2724, -0.2472],\n",
       "                        [ 0.1709,  0.8224,  0.3530, -2.2221]])"
      ]
     },
     "execution_count": 3,
     "metadata": {},
     "output_type": "execute_result"
    }
   ],
   "source": [
    "t"
   ]
  },
  {
   "cell_type": "code",
   "execution_count": 4,
   "id": "fd70b0b9",
   "metadata": {
    "execution": {
     "iopub.execute_input": "2023-02-25T08:06:52.539484Z",
     "iopub.status.busy": "2023-02-25T08:06:52.539016Z",
     "iopub.status.idle": "2023-02-25T08:06:52.544265Z",
     "shell.execute_reply": "2023-02-25T08:06:52.543486Z"
    }
   },
   "outputs": [
    {
     "data": {
      "text/plain": [
       "tensor([[-0.3188,  1.0491, -0.1608],\n",
       "        [ 0.2064, -0.1857,  1.4721]])"
      ]
     },
     "execution_count": 4,
     "metadata": {},
     "output_type": "execute_result"
    }
   ],
   "source": [
    "t.a"
   ]
  },
  {
   "cell_type": "code",
   "execution_count": 5,
   "id": "c18197bd",
   "metadata": {
    "execution": {
     "iopub.execute_input": "2023-02-25T08:06:52.546987Z",
     "iopub.status.busy": "2023-02-25T08:06:52.546612Z",
     "iopub.status.idle": "2023-02-25T08:06:58.639710Z",
     "shell.execute_reply": "2023-02-25T08:06:58.638419Z"
    }
   },
   "outputs": [
    {
     "name": "stdout",
     "output_type": "stream",
     "text": [
      "74.9 ns ± 1.31 ns per loop (mean ± std. dev. of 7 runs, 10,000,000 loops each)\n"
     ]
    }
   ],
   "source": [
    "%timeit t.a"
   ]
  },
  {
   "cell_type": "code",
   "execution_count": 6,
   "id": "bd52f867",
   "metadata": {
    "execution": {
     "iopub.execute_input": "2023-02-25T08:06:58.644763Z",
     "iopub.status.busy": "2023-02-25T08:06:58.643807Z",
     "iopub.status.idle": "2023-02-25T08:06:58.651996Z",
     "shell.execute_reply": "2023-02-25T08:06:58.651321Z"
    }
   },
   "outputs": [
    {
     "data": {
      "text/plain": [
       "<FastTreeValue 0x7fde5ca12310>\n",
       "├── 'a' --> tensor([[ 0.9091, -0.4999,  1.3576],\n",
       "│                   [-0.6347, -1.0243,  1.3367]])\n",
       "└── 'x' --> <FastTreeValue 0x7fde5ca122e0>\n",
       "    └── 'c' --> tensor([[ 0.2583, -0.8978,  0.7120, -0.7495],\n",
       "                        [-0.1637, -1.0891, -0.2724, -0.2472],\n",
       "                        [ 0.1709,  0.8224,  0.3530, -2.2221]])"
      ]
     },
     "execution_count": 6,
     "metadata": {},
     "output_type": "execute_result"
    }
   ],
   "source": [
    "new_value = torch.randn(2, 3)\n",
    "t.a = new_value\n",
    "\n",
    "t"
   ]
  },
  {
   "cell_type": "code",
   "execution_count": 7,
   "id": "bbe04d1c",
   "metadata": {
    "execution": {
     "iopub.execute_input": "2023-02-25T08:06:58.655196Z",
     "iopub.status.busy": "2023-02-25T08:06:58.654806Z",
     "iopub.status.idle": "2023-02-25T08:07:05.348292Z",
     "shell.execute_reply": "2023-02-25T08:07:05.347053Z"
    }
   },
   "outputs": [
    {
     "name": "stdout",
     "output_type": "stream",
     "text": [
      "82.5 ns ± 0.537 ns per loop (mean ± std. dev. of 7 runs, 10,000,000 loops each)\n"
     ]
    }
   ],
   "source": [
    "%timeit t.a = new_value"
   ]
  },
  {
   "cell_type": "markdown",
   "id": "48c49731",
   "metadata": {},
   "source": [
    "### Tianshou Batch's Get and Set"
   ]
  },
  {
   "cell_type": "code",
   "execution_count": 8,
   "id": "f1bb14c1",
   "metadata": {
    "execution": {
     "iopub.execute_input": "2023-02-25T08:07:05.352023Z",
     "iopub.status.busy": "2023-02-25T08:07:05.351394Z",
     "iopub.status.idle": "2023-02-25T08:07:05.745889Z",
     "shell.execute_reply": "2023-02-25T08:07:05.745053Z"
    }
   },
   "outputs": [],
   "source": [
    "from tianshou.data import Batch\n",
    "\n",
    "b = Batch(**_TREE_DATA_2)"
   ]
  },
  {
   "cell_type": "code",
   "execution_count": 9,
   "id": "cb0777c3",
   "metadata": {
    "execution": {
     "iopub.execute_input": "2023-02-25T08:07:05.749889Z",
     "iopub.status.busy": "2023-02-25T08:07:05.749307Z",
     "iopub.status.idle": "2023-02-25T08:07:05.757511Z",
     "shell.execute_reply": "2023-02-25T08:07:05.756252Z"
    }
   },
   "outputs": [
    {
     "data": {
      "text/plain": [
       "Batch(\n",
       "    a: tensor([[-0.3188,  1.0491, -0.1608],\n",
       "               [ 0.2064, -0.1857,  1.4721]]),\n",
       "    x: Batch(\n",
       "           c: tensor([[ 0.2583, -0.8978,  0.7120, -0.7495],\n",
       "                      [-0.1637, -1.0891, -0.2724, -0.2472],\n",
       "                      [ 0.1709,  0.8224,  0.3530, -2.2221]]),\n",
       "       ),\n",
       ")"
      ]
     },
     "execution_count": 9,
     "metadata": {},
     "output_type": "execute_result"
    }
   ],
   "source": [
    "b"
   ]
  },
  {
   "cell_type": "code",
   "execution_count": 10,
   "id": "43ef8ea3",
   "metadata": {
    "execution": {
     "iopub.execute_input": "2023-02-25T08:07:05.761010Z",
     "iopub.status.busy": "2023-02-25T08:07:05.760437Z",
     "iopub.status.idle": "2023-02-25T08:07:05.766890Z",
     "shell.execute_reply": "2023-02-25T08:07:05.765953Z"
    }
   },
   "outputs": [
    {
     "data": {
      "text/plain": [
       "tensor([[-0.3188,  1.0491, -0.1608],\n",
       "        [ 0.2064, -0.1857,  1.4721]])"
      ]
     },
     "execution_count": 10,
     "metadata": {},
     "output_type": "execute_result"
    }
   ],
   "source": [
    "b.a"
   ]
  },
  {
   "cell_type": "code",
   "execution_count": 11,
   "id": "b785ab72",
   "metadata": {
    "execution": {
     "iopub.execute_input": "2023-02-25T08:07:05.769868Z",
     "iopub.status.busy": "2023-02-25T08:07:05.769484Z",
     "iopub.status.idle": "2023-02-25T08:07:11.397366Z",
     "shell.execute_reply": "2023-02-25T08:07:11.396483Z"
    }
   },
   "outputs": [
    {
     "name": "stdout",
     "output_type": "stream",
     "text": [
      "69.3 ns ± 1.25 ns per loop (mean ± std. dev. of 7 runs, 10,000,000 loops each)\n"
     ]
    }
   ],
   "source": [
    "%timeit b.a"
   ]
  },
  {
   "cell_type": "code",
   "execution_count": 12,
   "id": "ad54dc69",
   "metadata": {
    "execution": {
     "iopub.execute_input": "2023-02-25T08:07:11.401151Z",
     "iopub.status.busy": "2023-02-25T08:07:11.400435Z",
     "iopub.status.idle": "2023-02-25T08:07:11.408155Z",
     "shell.execute_reply": "2023-02-25T08:07:11.407446Z"
    }
   },
   "outputs": [
    {
     "data": {
      "text/plain": [
       "Batch(\n",
       "    a: tensor([[-0.4341, -0.8132,  0.0516],\n",
       "               [ 1.9051, -0.3286, -1.6303]]),\n",
       "    x: Batch(\n",
       "           c: tensor([[ 0.2583, -0.8978,  0.7120, -0.7495],\n",
       "                      [-0.1637, -1.0891, -0.2724, -0.2472],\n",
       "                      [ 0.1709,  0.8224,  0.3530, -2.2221]]),\n",
       "       ),\n",
       ")"
      ]
     },
     "execution_count": 12,
     "metadata": {},
     "output_type": "execute_result"
    }
   ],
   "source": [
    "new_value = torch.randn(2, 3)\n",
    "b.a = new_value\n",
    "\n",
    "b"
   ]
  },
  {
   "cell_type": "code",
   "execution_count": 13,
   "id": "29b1d0bf",
   "metadata": {
    "execution": {
     "iopub.execute_input": "2023-02-25T08:07:11.411230Z",
     "iopub.status.busy": "2023-02-25T08:07:11.410799Z",
     "iopub.status.idle": "2023-02-25T08:07:16.024525Z",
     "shell.execute_reply": "2023-02-25T08:07:16.023611Z"
    }
   },
   "outputs": [
    {
     "name": "stdout",
     "output_type": "stream",
     "text": [
      "565 ns ± 5.5 ns per loop (mean ± std. dev. of 7 runs, 1,000,000 loops each)\n"
     ]
    }
   ],
   "source": [
    "%timeit b.a = new_value"
   ]
  },
  {
   "cell_type": "markdown",
   "id": "b61ad1d0",
   "metadata": {},
   "source": [
    "## Initialization"
   ]
  },
  {
   "cell_type": "markdown",
   "id": "d70f0d54",
   "metadata": {},
   "source": [
    "### TreeValue's Initialization"
   ]
  },
  {
   "cell_type": "code",
   "execution_count": 14,
   "id": "d32a679b",
   "metadata": {
    "execution": {
     "iopub.execute_input": "2023-02-25T08:07:16.029159Z",
     "iopub.status.busy": "2023-02-25T08:07:16.028513Z",
     "iopub.status.idle": "2023-02-25T08:07:23.935539Z",
     "shell.execute_reply": "2023-02-25T08:07:23.933698Z"
    }
   },
   "outputs": [
    {
     "name": "stdout",
     "output_type": "stream",
     "text": [
      "972 ns ± 16 ns per loop (mean ± std. dev. of 7 runs, 1,000,000 loops each)\n"
     ]
    }
   ],
   "source": [
    "%timeit FastTreeValue(_TREE_DATA_1)"
   ]
  },
  {
   "cell_type": "markdown",
   "id": "24f3707b",
   "metadata": {},
   "source": [
    "### Tianshou Batch's Initialization"
   ]
  },
  {
   "cell_type": "code",
   "execution_count": 15,
   "id": "ac3958df",
   "metadata": {
    "execution": {
     "iopub.execute_input": "2023-02-25T08:07:23.939845Z",
     "iopub.status.busy": "2023-02-25T08:07:23.939535Z",
     "iopub.status.idle": "2023-02-25T08:07:33.435264Z",
     "shell.execute_reply": "2023-02-25T08:07:33.434036Z"
    }
   },
   "outputs": [
    {
     "name": "stdout",
     "output_type": "stream",
     "text": [
      "11.7 µs ± 47.2 ns per loop (mean ± std. dev. of 7 runs, 100,000 loops each)\n"
     ]
    }
   ],
   "source": [
    "%timeit Batch(**_TREE_DATA_1)"
   ]
  },
  {
   "cell_type": "markdown",
   "id": "1ab82e2d",
   "metadata": {},
   "source": [
    "## Deep Copy Operation"
   ]
  },
  {
   "cell_type": "code",
   "execution_count": 16,
   "id": "210a9442",
   "metadata": {
    "execution": {
     "iopub.execute_input": "2023-02-25T08:07:33.439662Z",
     "iopub.status.busy": "2023-02-25T08:07:33.438831Z",
     "iopub.status.idle": "2023-02-25T08:07:33.443933Z",
     "shell.execute_reply": "2023-02-25T08:07:33.443206Z"
    }
   },
   "outputs": [],
   "source": [
    "import copy"
   ]
  },
  {
   "cell_type": "markdown",
   "id": "5a736274",
   "metadata": {},
   "source": [
    "### Deep Copy of TreeValue"
   ]
  },
  {
   "cell_type": "code",
   "execution_count": 17,
   "id": "f9bcadd6",
   "metadata": {
    "execution": {
     "iopub.execute_input": "2023-02-25T08:07:33.446868Z",
     "iopub.status.busy": "2023-02-25T08:07:33.446457Z",
     "iopub.status.idle": "2023-02-25T08:07:46.552294Z",
     "shell.execute_reply": "2023-02-25T08:07:46.551568Z"
    }
   },
   "outputs": [
    {
     "name": "stdout",
     "output_type": "stream",
     "text": [
      "162 µs ± 1.77 µs per loop (mean ± std. dev. of 7 runs, 10,000 loops each)\n"
     ]
    }
   ],
   "source": [
    "t3 = FastTreeValue(_TREE_DATA_3)\n",
    "%timeit copy.deepcopy(t3)"
   ]
  },
  {
   "cell_type": "markdown",
   "id": "bf8be7ea",
   "metadata": {},
   "source": [
    "### Deep Copy of Tianshou Batch"
   ]
  },
  {
   "cell_type": "code",
   "execution_count": 18,
   "id": "91998e6f",
   "metadata": {
    "execution": {
     "iopub.execute_input": "2023-02-25T08:07:46.555615Z",
     "iopub.status.busy": "2023-02-25T08:07:46.555177Z",
     "iopub.status.idle": "2023-02-25T08:07:59.688360Z",
     "shell.execute_reply": "2023-02-25T08:07:59.687466Z"
    }
   },
   "outputs": [
    {
     "name": "stdout",
     "output_type": "stream",
     "text": [
      "162 µs ± 562 ns per loop (mean ± std. dev. of 7 runs, 10,000 loops each)\n"
     ]
    }
   ],
   "source": [
    "b3 = Batch(**_TREE_DATA_3)\n",
    "%timeit copy.deepcopy(b3)"
   ]
  },
  {
   "cell_type": "markdown",
   "id": "223162fb",
   "metadata": {},
   "source": [
    "## Stack, Concat and Split Operation"
   ]
  },
  {
   "cell_type": "markdown",
   "id": "85fa4a73",
   "metadata": {},
   "source": [
    "### Performance of TreeValue"
   ]
  },
  {
   "cell_type": "code",
   "execution_count": 19,
   "id": "a0c2b697",
   "metadata": {
    "execution": {
     "iopub.execute_input": "2023-02-25T08:07:59.692084Z",
     "iopub.status.busy": "2023-02-25T08:07:59.691416Z",
     "iopub.status.idle": "2023-02-25T08:07:59.696418Z",
     "shell.execute_reply": "2023-02-25T08:07:59.695698Z"
    }
   },
   "outputs": [],
   "source": [
    "trees = [FastTreeValue(_TREE_DATA_2) for _ in range(8)]"
   ]
  },
  {
   "cell_type": "code",
   "execution_count": 20,
   "id": "017ea5a5",
   "metadata": {
    "execution": {
     "iopub.execute_input": "2023-02-25T08:07:59.699296Z",
     "iopub.status.busy": "2023-02-25T08:07:59.698915Z",
     "iopub.status.idle": "2023-02-25T08:07:59.707965Z",
     "shell.execute_reply": "2023-02-25T08:07:59.707234Z"
    }
   },
   "outputs": [
    {
     "data": {
      "text/plain": [
       "<FastTreeValue 0x7fde26bcda30>\n",
       "├── 'a' --> tensor([[[-0.3188,  1.0491, -0.1608],\n",
       "│                    [ 0.2064, -0.1857,  1.4721]],\n",
       "│           \n",
       "│                   [[-0.3188,  1.0491, -0.1608],\n",
       "│                    [ 0.2064, -0.1857,  1.4721]],\n",
       "│           \n",
       "│                   [[-0.3188,  1.0491, -0.1608],\n",
       "│                    [ 0.2064, -0.1857,  1.4721]],\n",
       "│           \n",
       "│                   [[-0.3188,  1.0491, -0.1608],\n",
       "│                    [ 0.2064, -0.1857,  1.4721]],\n",
       "│           \n",
       "│                   [[-0.3188,  1.0491, -0.1608],\n",
       "│                    [ 0.2064, -0.1857,  1.4721]],\n",
       "│           \n",
       "│                   [[-0.3188,  1.0491, -0.1608],\n",
       "│                    [ 0.2064, -0.1857,  1.4721]],\n",
       "│           \n",
       "│                   [[-0.3188,  1.0491, -0.1608],\n",
       "│                    [ 0.2064, -0.1857,  1.4721]],\n",
       "│           \n",
       "│                   [[-0.3188,  1.0491, -0.1608],\n",
       "│                    [ 0.2064, -0.1857,  1.4721]]])\n",
       "└── 'x' --> <FastTreeValue 0x7fddb26e6f40>\n",
       "    └── 'c' --> tensor([[[ 0.2583, -0.8978,  0.7120, -0.7495],\n",
       "                         [-0.1637, -1.0891, -0.2724, -0.2472],\n",
       "                         [ 0.1709,  0.8224,  0.3530, -2.2221]],\n",
       "                \n",
       "                        [[ 0.2583, -0.8978,  0.7120, -0.7495],\n",
       "                         [-0.1637, -1.0891, -0.2724, -0.2472],\n",
       "                         [ 0.1709,  0.8224,  0.3530, -2.2221]],\n",
       "                \n",
       "                        [[ 0.2583, -0.8978,  0.7120, -0.7495],\n",
       "                         [-0.1637, -1.0891, -0.2724, -0.2472],\n",
       "                         [ 0.1709,  0.8224,  0.3530, -2.2221]],\n",
       "                \n",
       "                        [[ 0.2583, -0.8978,  0.7120, -0.7495],\n",
       "                         [-0.1637, -1.0891, -0.2724, -0.2472],\n",
       "                         [ 0.1709,  0.8224,  0.3530, -2.2221]],\n",
       "                \n",
       "                        [[ 0.2583, -0.8978,  0.7120, -0.7495],\n",
       "                         [-0.1637, -1.0891, -0.2724, -0.2472],\n",
       "                         [ 0.1709,  0.8224,  0.3530, -2.2221]],\n",
       "                \n",
       "                        [[ 0.2583, -0.8978,  0.7120, -0.7495],\n",
       "                         [-0.1637, -1.0891, -0.2724, -0.2472],\n",
       "                         [ 0.1709,  0.8224,  0.3530, -2.2221]],\n",
       "                \n",
       "                        [[ 0.2583, -0.8978,  0.7120, -0.7495],\n",
       "                         [-0.1637, -1.0891, -0.2724, -0.2472],\n",
       "                         [ 0.1709,  0.8224,  0.3530, -2.2221]],\n",
       "                \n",
       "                        [[ 0.2583, -0.8978,  0.7120, -0.7495],\n",
       "                         [-0.1637, -1.0891, -0.2724, -0.2472],\n",
       "                         [ 0.1709,  0.8224,  0.3530, -2.2221]]])"
      ]
     },
     "execution_count": 20,
     "metadata": {},
     "output_type": "execute_result"
    }
   ],
   "source": [
    "t_stack = FastTreeValue.func(subside=True)(torch.stack)\n",
    "\n",
    "t_stack(trees)"
   ]
  },
  {
   "cell_type": "code",
   "execution_count": 21,
   "id": "f8b3f415",
   "metadata": {
    "execution": {
     "iopub.execute_input": "2023-02-25T08:07:59.710856Z",
     "iopub.status.busy": "2023-02-25T08:07:59.710452Z",
     "iopub.status.idle": "2023-02-25T08:08:02.752747Z",
     "shell.execute_reply": "2023-02-25T08:08:02.751618Z"
    }
   },
   "outputs": [
    {
     "name": "stdout",
     "output_type": "stream",
     "text": [
      "37.4 µs ± 217 ns per loop (mean ± std. dev. of 7 runs, 10,000 loops each)\n"
     ]
    }
   ],
   "source": [
    "%timeit t_stack(trees)"
   ]
  },
  {
   "cell_type": "code",
   "execution_count": 22,
   "id": "94b56771",
   "metadata": {
    "execution": {
     "iopub.execute_input": "2023-02-25T08:08:02.756826Z",
     "iopub.status.busy": "2023-02-25T08:08:02.756105Z",
     "iopub.status.idle": "2023-02-25T08:08:02.766162Z",
     "shell.execute_reply": "2023-02-25T08:08:02.765154Z"
    }
   },
   "outputs": [
    {
     "data": {
      "text/plain": [
       "<FastTreeValue 0x7fddb26e7d30>\n",
       "├── 'a' --> tensor([[-0.3188,  1.0491, -0.1608],\n",
       "│                   [ 0.2064, -0.1857,  1.4721],\n",
       "│                   [-0.3188,  1.0491, -0.1608],\n",
       "│                   [ 0.2064, -0.1857,  1.4721],\n",
       "│                   [-0.3188,  1.0491, -0.1608],\n",
       "│                   [ 0.2064, -0.1857,  1.4721],\n",
       "│                   [-0.3188,  1.0491, -0.1608],\n",
       "│                   [ 0.2064, -0.1857,  1.4721],\n",
       "│                   [-0.3188,  1.0491, -0.1608],\n",
       "│                   [ 0.2064, -0.1857,  1.4721],\n",
       "│                   [-0.3188,  1.0491, -0.1608],\n",
       "│                   [ 0.2064, -0.1857,  1.4721],\n",
       "│                   [-0.3188,  1.0491, -0.1608],\n",
       "│                   [ 0.2064, -0.1857,  1.4721],\n",
       "│                   [-0.3188,  1.0491, -0.1608],\n",
       "│                   [ 0.2064, -0.1857,  1.4721]])\n",
       "└── 'x' --> <FastTreeValue 0x7fde5ca1f9a0>\n",
       "    └── 'c' --> tensor([[ 0.2583, -0.8978,  0.7120, -0.7495],\n",
       "                        [-0.1637, -1.0891, -0.2724, -0.2472],\n",
       "                        [ 0.1709,  0.8224,  0.3530, -2.2221],\n",
       "                        [ 0.2583, -0.8978,  0.7120, -0.7495],\n",
       "                        [-0.1637, -1.0891, -0.2724, -0.2472],\n",
       "                        [ 0.1709,  0.8224,  0.3530, -2.2221],\n",
       "                        [ 0.2583, -0.8978,  0.7120, -0.7495],\n",
       "                        [-0.1637, -1.0891, -0.2724, -0.2472],\n",
       "                        [ 0.1709,  0.8224,  0.3530, -2.2221],\n",
       "                        [ 0.2583, -0.8978,  0.7120, -0.7495],\n",
       "                        [-0.1637, -1.0891, -0.2724, -0.2472],\n",
       "                        [ 0.1709,  0.8224,  0.3530, -2.2221],\n",
       "                        [ 0.2583, -0.8978,  0.7120, -0.7495],\n",
       "                        [-0.1637, -1.0891, -0.2724, -0.2472],\n",
       "                        [ 0.1709,  0.8224,  0.3530, -2.2221],\n",
       "                        [ 0.2583, -0.8978,  0.7120, -0.7495],\n",
       "                        [-0.1637, -1.0891, -0.2724, -0.2472],\n",
       "                        [ 0.1709,  0.8224,  0.3530, -2.2221],\n",
       "                        [ 0.2583, -0.8978,  0.7120, -0.7495],\n",
       "                        [-0.1637, -1.0891, -0.2724, -0.2472],\n",
       "                        [ 0.1709,  0.8224,  0.3530, -2.2221],\n",
       "                        [ 0.2583, -0.8978,  0.7120, -0.7495],\n",
       "                        [-0.1637, -1.0891, -0.2724, -0.2472],\n",
       "                        [ 0.1709,  0.8224,  0.3530, -2.2221]])"
      ]
     },
     "execution_count": 22,
     "metadata": {},
     "output_type": "execute_result"
    }
   ],
   "source": [
    "t_cat = FastTreeValue.func(subside=True)(torch.cat)\n",
    "\n",
    "t_cat(trees)"
   ]
  },
  {
   "cell_type": "code",
   "execution_count": 23,
   "id": "5e9c06a6",
   "metadata": {
    "execution": {
     "iopub.execute_input": "2023-02-25T08:08:02.769446Z",
     "iopub.status.busy": "2023-02-25T08:08:02.768723Z",
     "iopub.status.idle": "2023-02-25T08:08:05.632810Z",
     "shell.execute_reply": "2023-02-25T08:08:05.631680Z"
    }
   },
   "outputs": [
    {
     "name": "stdout",
     "output_type": "stream",
     "text": [
      "35.3 µs ± 266 ns per loop (mean ± std. dev. of 7 runs, 10,000 loops each)\n"
     ]
    }
   ],
   "source": [
    "%timeit t_cat(trees)"
   ]
  },
  {
   "cell_type": "code",
   "execution_count": 24,
   "id": "a3ab5c8f",
   "metadata": {
    "execution": {
     "iopub.execute_input": "2023-02-25T08:08:05.636515Z",
     "iopub.status.busy": "2023-02-25T08:08:05.635958Z",
     "iopub.status.idle": "2023-02-25T08:08:10.677412Z",
     "shell.execute_reply": "2023-02-25T08:08:10.676283Z"
    }
   },
   "outputs": [
    {
     "name": "stdout",
     "output_type": "stream",
     "text": [
      "61.9 µs ± 272 ns per loop (mean ± std. dev. of 7 runs, 10,000 loops each)\n"
     ]
    }
   ],
   "source": [
    "t_split = FastTreeValue.func(rise=True)(torch.split)\n",
    "tree = FastTreeValue({\n",
    "    'obs': torch.randn(8, 4, 84, 84),\n",
    "    'action': torch.randint(0, 6, size=(8, 1,)),\n",
    "    'reward': torch.rand(8, 1),\n",
    "})\n",
    "\n",
    "%timeit t_split(tree, 1)"
   ]
  },
  {
   "cell_type": "markdown",
   "id": "31c3ec0b",
   "metadata": {},
   "source": [
    "### Performance of Tianshou Batch"
   ]
  },
  {
   "cell_type": "code",
   "execution_count": 25,
   "id": "9ead828a",
   "metadata": {
    "execution": {
     "iopub.execute_input": "2023-02-25T08:08:10.681962Z",
     "iopub.status.busy": "2023-02-25T08:08:10.681291Z",
     "iopub.status.idle": "2023-02-25T08:08:10.690756Z",
     "shell.execute_reply": "2023-02-25T08:08:10.690055Z"
    }
   },
   "outputs": [
    {
     "data": {
      "text/plain": [
       "Batch(\n",
       "    a: tensor([[[-0.3188,  1.0491, -0.1608],\n",
       "                [ 0.2064, -0.1857,  1.4721]],\n",
       "       \n",
       "               [[-0.3188,  1.0491, -0.1608],\n",
       "                [ 0.2064, -0.1857,  1.4721]],\n",
       "       \n",
       "               [[-0.3188,  1.0491, -0.1608],\n",
       "                [ 0.2064, -0.1857,  1.4721]],\n",
       "       \n",
       "               [[-0.3188,  1.0491, -0.1608],\n",
       "                [ 0.2064, -0.1857,  1.4721]],\n",
       "       \n",
       "               [[-0.3188,  1.0491, -0.1608],\n",
       "                [ 0.2064, -0.1857,  1.4721]],\n",
       "       \n",
       "               [[-0.3188,  1.0491, -0.1608],\n",
       "                [ 0.2064, -0.1857,  1.4721]],\n",
       "       \n",
       "               [[-0.3188,  1.0491, -0.1608],\n",
       "                [ 0.2064, -0.1857,  1.4721]],\n",
       "       \n",
       "               [[-0.3188,  1.0491, -0.1608],\n",
       "                [ 0.2064, -0.1857,  1.4721]]]),\n",
       "    x: Batch(\n",
       "           c: tensor([[[ 0.2583, -0.8978,  0.7120, -0.7495],\n",
       "                       [-0.1637, -1.0891, -0.2724, -0.2472],\n",
       "                       [ 0.1709,  0.8224,  0.3530, -2.2221]],\n",
       "              \n",
       "                      [[ 0.2583, -0.8978,  0.7120, -0.7495],\n",
       "                       [-0.1637, -1.0891, -0.2724, -0.2472],\n",
       "                       [ 0.1709,  0.8224,  0.3530, -2.2221]],\n",
       "              \n",
       "                      [[ 0.2583, -0.8978,  0.7120, -0.7495],\n",
       "                       [-0.1637, -1.0891, -0.2724, -0.2472],\n",
       "                       [ 0.1709,  0.8224,  0.3530, -2.2221]],\n",
       "              \n",
       "                      [[ 0.2583, -0.8978,  0.7120, -0.7495],\n",
       "                       [-0.1637, -1.0891, -0.2724, -0.2472],\n",
       "                       [ 0.1709,  0.8224,  0.3530, -2.2221]],\n",
       "              \n",
       "                      [[ 0.2583, -0.8978,  0.7120, -0.7495],\n",
       "                       [-0.1637, -1.0891, -0.2724, -0.2472],\n",
       "                       [ 0.1709,  0.8224,  0.3530, -2.2221]],\n",
       "              \n",
       "                      [[ 0.2583, -0.8978,  0.7120, -0.7495],\n",
       "                       [-0.1637, -1.0891, -0.2724, -0.2472],\n",
       "                       [ 0.1709,  0.8224,  0.3530, -2.2221]],\n",
       "              \n",
       "                      [[ 0.2583, -0.8978,  0.7120, -0.7495],\n",
       "                       [-0.1637, -1.0891, -0.2724, -0.2472],\n",
       "                       [ 0.1709,  0.8224,  0.3530, -2.2221]],\n",
       "              \n",
       "                      [[ 0.2583, -0.8978,  0.7120, -0.7495],\n",
       "                       [-0.1637, -1.0891, -0.2724, -0.2472],\n",
       "                       [ 0.1709,  0.8224,  0.3530, -2.2221]]]),\n",
       "       ),\n",
       ")"
      ]
     },
     "execution_count": 25,
     "metadata": {},
     "output_type": "execute_result"
    }
   ],
   "source": [
    "batches = [Batch(**_TREE_DATA_2) for _ in range(8)]\n",
    "\n",
    "Batch.stack(batches)"
   ]
  },
  {
   "cell_type": "code",
   "execution_count": 26,
   "id": "ec9037a3",
   "metadata": {
    "execution": {
     "iopub.execute_input": "2023-02-25T08:08:10.693987Z",
     "iopub.status.busy": "2023-02-25T08:08:10.693304Z",
     "iopub.status.idle": "2023-02-25T08:08:17.986551Z",
     "shell.execute_reply": "2023-02-25T08:08:17.985681Z"
    }
   },
   "outputs": [
    {
     "name": "stdout",
     "output_type": "stream",
     "text": [
      "90 µs ± 496 ns per loop (mean ± std. dev. of 7 runs, 10,000 loops each)\n"
     ]
    }
   ],
   "source": [
    "%timeit Batch.stack(batches)"
   ]
  },
  {
   "cell_type": "code",
   "execution_count": 27,
   "id": "cb8ab77e",
   "metadata": {
    "execution": {
     "iopub.execute_input": "2023-02-25T08:08:17.990607Z",
     "iopub.status.busy": "2023-02-25T08:08:17.989890Z",
     "iopub.status.idle": "2023-02-25T08:08:17.999062Z",
     "shell.execute_reply": "2023-02-25T08:08:17.998339Z"
    }
   },
   "outputs": [
    {
     "data": {
      "text/plain": [
       "Batch(\n",
       "    a: tensor([[-0.3188,  1.0491, -0.1608],\n",
       "               [ 0.2064, -0.1857,  1.4721],\n",
       "               [-0.3188,  1.0491, -0.1608],\n",
       "               [ 0.2064, -0.1857,  1.4721],\n",
       "               [-0.3188,  1.0491, -0.1608],\n",
       "               [ 0.2064, -0.1857,  1.4721],\n",
       "               [-0.3188,  1.0491, -0.1608],\n",
       "               [ 0.2064, -0.1857,  1.4721],\n",
       "               [-0.3188,  1.0491, -0.1608],\n",
       "               [ 0.2064, -0.1857,  1.4721],\n",
       "               [-0.3188,  1.0491, -0.1608],\n",
       "               [ 0.2064, -0.1857,  1.4721],\n",
       "               [-0.3188,  1.0491, -0.1608],\n",
       "               [ 0.2064, -0.1857,  1.4721],\n",
       "               [-0.3188,  1.0491, -0.1608],\n",
       "               [ 0.2064, -0.1857,  1.4721]]),\n",
       "    x: Batch(\n",
       "           c: tensor([[ 0.2583, -0.8978,  0.7120, -0.7495],\n",
       "                      [-0.1637, -1.0891, -0.2724, -0.2472],\n",
       "                      [ 0.1709,  0.8224,  0.3530, -2.2221],\n",
       "                      [ 0.2583, -0.8978,  0.7120, -0.7495],\n",
       "                      [-0.1637, -1.0891, -0.2724, -0.2472],\n",
       "                      [ 0.1709,  0.8224,  0.3530, -2.2221],\n",
       "                      [ 0.2583, -0.8978,  0.7120, -0.7495],\n",
       "                      [-0.1637, -1.0891, -0.2724, -0.2472],\n",
       "                      [ 0.1709,  0.8224,  0.3530, -2.2221],\n",
       "                      [ 0.2583, -0.8978,  0.7120, -0.7495],\n",
       "                      [-0.1637, -1.0891, -0.2724, -0.2472],\n",
       "                      [ 0.1709,  0.8224,  0.3530, -2.2221],\n",
       "                      [ 0.2583, -0.8978,  0.7120, -0.7495],\n",
       "                      [-0.1637, -1.0891, -0.2724, -0.2472],\n",
       "                      [ 0.1709,  0.8224,  0.3530, -2.2221],\n",
       "                      [ 0.2583, -0.8978,  0.7120, -0.7495],\n",
       "                      [-0.1637, -1.0891, -0.2724, -0.2472],\n",
       "                      [ 0.1709,  0.8224,  0.3530, -2.2221],\n",
       "                      [ 0.2583, -0.8978,  0.7120, -0.7495],\n",
       "                      [-0.1637, -1.0891, -0.2724, -0.2472],\n",
       "                      [ 0.1709,  0.8224,  0.3530, -2.2221],\n",
       "                      [ 0.2583, -0.8978,  0.7120, -0.7495],\n",
       "                      [-0.1637, -1.0891, -0.2724, -0.2472],\n",
       "                      [ 0.1709,  0.8224,  0.3530, -2.2221]]),\n",
       "       ),\n",
       ")"
      ]
     },
     "execution_count": 27,
     "metadata": {},
     "output_type": "execute_result"
    }
   ],
   "source": [
    "Batch.cat(batches)"
   ]
  },
  {
   "cell_type": "code",
   "execution_count": 28,
   "id": "18dfb045",
   "metadata": {
    "execution": {
     "iopub.execute_input": "2023-02-25T08:08:18.002303Z",
     "iopub.status.busy": "2023-02-25T08:08:18.001905Z",
     "iopub.status.idle": "2023-02-25T08:08:31.253164Z",
     "shell.execute_reply": "2023-02-25T08:08:31.251905Z"
    }
   },
   "outputs": [
    {
     "name": "stdout",
     "output_type": "stream",
     "text": [
      "162 µs ± 883 ns per loop (mean ± std. dev. of 7 runs, 10,000 loops each)\n"
     ]
    }
   ],
   "source": [
    "%timeit Batch.cat(batches)"
   ]
  },
  {
   "cell_type": "code",
   "execution_count": 29,
   "id": "c6688e51",
   "metadata": {
    "execution": {
     "iopub.execute_input": "2023-02-25T08:08:31.257565Z",
     "iopub.status.busy": "2023-02-25T08:08:31.256817Z",
     "iopub.status.idle": "2023-02-25T08:08:34.235594Z",
     "shell.execute_reply": "2023-02-25T08:08:34.234769Z"
    }
   },
   "outputs": [
    {
     "name": "stdout",
     "output_type": "stream",
     "text": [
      "366 µs ± 4.22 µs per loop (mean ± std. dev. of 7 runs, 1,000 loops each)\n"
     ]
    }
   ],
   "source": [
    "batch = Batch({\n",
    "    'obs': torch.randn(8, 4, 84, 84),\n",
    "    'action': torch.randint(0, 6, size=(8, 1,)),\n",
    "    'reward': torch.rand(8, 1)}\n",
    ")\n",
    "\n",
    "%timeit list(Batch.split(batch, 1, shuffle=False, merge_last=True))"
   ]
  },
  {
   "cell_type": "code",
   "execution_count": null,
   "id": "2539fbd9",
   "metadata": {},
   "outputs": [],
   "source": []
  }
 ],
 "metadata": {
  "kernelspec": {
   "display_name": "Python 3 (ipykernel)",
   "language": "python",
   "name": "python3"
  },
  "language_info": {
   "codemirror_mode": {
    "name": "ipython",
    "version": 3
   },
   "file_extension": ".py",
   "mimetype": "text/x-python",
   "name": "python",
   "nbconvert_exporter": "python",
   "pygments_lexer": "ipython3",
   "version": "3.8.16"
  }
 },
 "nbformat": 4,
 "nbformat_minor": 5
}
