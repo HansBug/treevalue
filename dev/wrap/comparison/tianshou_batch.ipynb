{
 "cells": [
  {
   "cell_type": "markdown",
   "id": "9d39d946",
   "metadata": {},
   "source": [
    "# Comparison Between TreeValue and Tianshou Batch"
   ]
  },
  {
   "cell_type": "markdown",
   "id": "3c6db2d4",
   "metadata": {},
   "source": [
    "In this section, we will take a look at the feature and performance of the [Tianshou Batch](https://github.com/thu-ml/tianshou) library, which is developed by Tsinghua Machine Learning Group."
   ]
  },
  {
   "cell_type": "markdown",
   "id": "069361b0",
   "metadata": {},
   "source": [
    "Before starting the comparison, let us define some thing."
   ]
  },
  {
   "cell_type": "code",
   "execution_count": 1,
   "id": "06fc8d26",
   "metadata": {
    "execution": {
     "iopub.execute_input": "2023-02-27T12:59:00.127427Z",
     "iopub.status.busy": "2023-02-27T12:59:00.127148Z",
     "iopub.status.idle": "2023-02-27T12:59:01.122401Z",
     "shell.execute_reply": "2023-02-27T12:59:01.121387Z"
    }
   },
   "outputs": [
    {
     "name": "stderr",
     "output_type": "stream",
     "text": [
      "/opt/hostedtoolcache/Python/3.8.16/x64/lib/python3.8/site-packages/tqdm/auto.py:22: TqdmWarning: IProgress not found. Please update jupyter and ipywidgets. See https://ipywidgets.readthedocs.io/en/stable/user_install.html\n",
      "  from .autonotebook import tqdm as notebook_tqdm\n"
     ]
    }
   ],
   "source": [
    "import torch \n",
    "\n",
    "_TREE_DATA_1 = {'a': 1, 'b': 2, 'x': {'c': 3, 'd': 4}}\n",
    "_TREE_DATA_2 = {\n",
    "    'a': torch.randn(2, 3), \n",
    "    'x': {\n",
    "        'c': torch.randn(3, 4)\n",
    "    },\n",
    "}\n",
    "_TREE_DATA_3 = {\n",
    "    'obs': torch.randn(4, 84, 84),\n",
    "    'action': torch.randint(0, 6, size=(1,)),\n",
    "    'reward': torch.rand(1),\n",
    "}"
   ]
  },
  {
   "cell_type": "markdown",
   "id": "83461b25",
   "metadata": {},
   "source": [
    "## Read and Write Operation"
   ]
  },
  {
   "cell_type": "markdown",
   "id": "067b3f73",
   "metadata": {},
   "source": [
    "Reading and writing are the two most common operations in the tree data structure based on the data model (TreeValue and Tianshou Batch both belong to this type), so this section will compare the reading and writing performance of these two libraries."
   ]
  },
  {
   "cell_type": "markdown",
   "id": "5d09a5b7",
   "metadata": {},
   "source": [
    "### TreeValue's Get and Set"
   ]
  },
  {
   "cell_type": "code",
   "execution_count": 2,
   "id": "9519c4bb",
   "metadata": {
    "execution": {
     "iopub.execute_input": "2023-02-27T12:59:01.126373Z",
     "iopub.status.busy": "2023-02-27T12:59:01.125888Z",
     "iopub.status.idle": "2023-02-27T12:59:01.418962Z",
     "shell.execute_reply": "2023-02-27T12:59:01.418153Z"
    }
   },
   "outputs": [],
   "source": [
    "from treevalue import FastTreeValue\n",
    "\n",
    "t = FastTreeValue(_TREE_DATA_2)"
   ]
  },
  {
   "cell_type": "code",
   "execution_count": 3,
   "id": "11c37677",
   "metadata": {
    "execution": {
     "iopub.execute_input": "2023-02-27T12:59:01.422613Z",
     "iopub.status.busy": "2023-02-27T12:59:01.422145Z",
     "iopub.status.idle": "2023-02-27T12:59:01.431305Z",
     "shell.execute_reply": "2023-02-27T12:59:01.430600Z"
    }
   },
   "outputs": [
    {
     "data": {
      "text/plain": [
       "<FastTreeValue 0x7f0b34d5b310>\n",
       "├── 'a' --> tensor([[-0.7735,  1.0406,  0.5373],\n",
       "│                   [-2.6181, -0.1628, -0.0840]])\n",
       "└── 'x' --> <FastTreeValue 0x7f0b34d5b910>\n",
       "    └── 'c' --> tensor([[ 1.2058,  1.2438,  0.5276, -0.1902],\n",
       "                        [ 0.5533,  1.0221,  1.1639,  0.5424],\n",
       "                        [ 0.9086, -0.1583, -1.1895,  0.5367]])"
      ]
     },
     "execution_count": 3,
     "metadata": {},
     "output_type": "execute_result"
    }
   ],
   "source": [
    "t"
   ]
  },
  {
   "cell_type": "code",
   "execution_count": 4,
   "id": "fd70b0b9",
   "metadata": {
    "execution": {
     "iopub.execute_input": "2023-02-27T12:59:01.434228Z",
     "iopub.status.busy": "2023-02-27T12:59:01.433776Z",
     "iopub.status.idle": "2023-02-27T12:59:01.438811Z",
     "shell.execute_reply": "2023-02-27T12:59:01.438122Z"
    }
   },
   "outputs": [
    {
     "data": {
      "text/plain": [
       "tensor([[-0.7735,  1.0406,  0.5373],\n",
       "        [-2.6181, -0.1628, -0.0840]])"
      ]
     },
     "execution_count": 4,
     "metadata": {},
     "output_type": "execute_result"
    }
   ],
   "source": [
    "t.a"
   ]
  },
  {
   "cell_type": "code",
   "execution_count": 5,
   "id": "c18197bd",
   "metadata": {
    "execution": {
     "iopub.execute_input": "2023-02-27T12:59:01.441686Z",
     "iopub.status.busy": "2023-02-27T12:59:01.441333Z",
     "iopub.status.idle": "2023-02-27T12:59:06.627280Z",
     "shell.execute_reply": "2023-02-27T12:59:06.626373Z"
    }
   },
   "outputs": [
    {
     "name": "stdout",
     "output_type": "stream",
     "text": [
      "63.9 ns ± 0.0359 ns per loop (mean ± std. dev. of 7 runs, 10,000,000 loops each)\n"
     ]
    }
   ],
   "source": [
    "%timeit t.a"
   ]
  },
  {
   "cell_type": "code",
   "execution_count": 6,
   "id": "bd52f867",
   "metadata": {
    "execution": {
     "iopub.execute_input": "2023-02-27T12:59:06.631120Z",
     "iopub.status.busy": "2023-02-27T12:59:06.630494Z",
     "iopub.status.idle": "2023-02-27T12:59:06.638402Z",
     "shell.execute_reply": "2023-02-27T12:59:06.637741Z"
    }
   },
   "outputs": [
    {
     "data": {
      "text/plain": [
       "<FastTreeValue 0x7f0b34d5b310>\n",
       "├── 'a' --> tensor([[-0.8802, -0.8358,  1.3796],\n",
       "│                   [-0.9178,  1.0205, -0.1850]])\n",
       "└── 'x' --> <FastTreeValue 0x7f0b34d5b910>\n",
       "    └── 'c' --> tensor([[ 1.2058,  1.2438,  0.5276, -0.1902],\n",
       "                        [ 0.5533,  1.0221,  1.1639,  0.5424],\n",
       "                        [ 0.9086, -0.1583, -1.1895,  0.5367]])"
      ]
     },
     "execution_count": 6,
     "metadata": {},
     "output_type": "execute_result"
    }
   ],
   "source": [
    "new_value = torch.randn(2, 3)\n",
    "t.a = new_value\n",
    "\n",
    "t"
   ]
  },
  {
   "cell_type": "code",
   "execution_count": 7,
   "id": "bbe04d1c",
   "metadata": {
    "execution": {
     "iopub.execute_input": "2023-02-27T12:59:06.641655Z",
     "iopub.status.busy": "2023-02-27T12:59:06.641037Z",
     "iopub.status.idle": "2023-02-27T12:59:12.029269Z",
     "shell.execute_reply": "2023-02-27T12:59:12.028361Z"
    }
   },
   "outputs": [
    {
     "name": "stdout",
     "output_type": "stream",
     "text": [
      "66.4 ns ± 0.0439 ns per loop (mean ± std. dev. of 7 runs, 10,000,000 loops each)\n"
     ]
    }
   ],
   "source": [
    "%timeit t.a = new_value"
   ]
  },
  {
   "cell_type": "markdown",
   "id": "48c49731",
   "metadata": {},
   "source": [
    "### Tianshou Batch's Get and Set"
   ]
  },
  {
   "cell_type": "code",
   "execution_count": 8,
   "id": "f1bb14c1",
   "metadata": {
    "execution": {
     "iopub.execute_input": "2023-02-27T12:59:12.033011Z",
     "iopub.status.busy": "2023-02-27T12:59:12.032416Z",
     "iopub.status.idle": "2023-02-27T12:59:12.406360Z",
     "shell.execute_reply": "2023-02-27T12:59:12.405394Z"
    }
   },
   "outputs": [],
   "source": [
    "from tianshou.data import Batch\n",
    "\n",
    "b = Batch(**_TREE_DATA_2)"
   ]
  },
  {
   "cell_type": "code",
   "execution_count": 9,
   "id": "cb0777c3",
   "metadata": {
    "execution": {
     "iopub.execute_input": "2023-02-27T12:59:12.409852Z",
     "iopub.status.busy": "2023-02-27T12:59:12.409341Z",
     "iopub.status.idle": "2023-02-27T12:59:12.415567Z",
     "shell.execute_reply": "2023-02-27T12:59:12.414865Z"
    }
   },
   "outputs": [
    {
     "data": {
      "text/plain": [
       "Batch(\n",
       "    a: tensor([[-0.7735,  1.0406,  0.5373],\n",
       "               [-2.6181, -0.1628, -0.0840]]),\n",
       "    x: Batch(\n",
       "           c: tensor([[ 1.2058,  1.2438,  0.5276, -0.1902],\n",
       "                      [ 0.5533,  1.0221,  1.1639,  0.5424],\n",
       "                      [ 0.9086, -0.1583, -1.1895,  0.5367]]),\n",
       "       ),\n",
       ")"
      ]
     },
     "execution_count": 9,
     "metadata": {},
     "output_type": "execute_result"
    }
   ],
   "source": [
    "b"
   ]
  },
  {
   "cell_type": "code",
   "execution_count": 10,
   "id": "43ef8ea3",
   "metadata": {
    "execution": {
     "iopub.execute_input": "2023-02-27T12:59:12.418501Z",
     "iopub.status.busy": "2023-02-27T12:59:12.417935Z",
     "iopub.status.idle": "2023-02-27T12:59:12.423072Z",
     "shell.execute_reply": "2023-02-27T12:59:12.422387Z"
    }
   },
   "outputs": [
    {
     "data": {
      "text/plain": [
       "tensor([[-0.7735,  1.0406,  0.5373],\n",
       "        [-2.6181, -0.1628, -0.0840]])"
      ]
     },
     "execution_count": 10,
     "metadata": {},
     "output_type": "execute_result"
    }
   ],
   "source": [
    "b.a"
   ]
  },
  {
   "cell_type": "code",
   "execution_count": 11,
   "id": "b785ab72",
   "metadata": {
    "execution": {
     "iopub.execute_input": "2023-02-27T12:59:12.425603Z",
     "iopub.status.busy": "2023-02-27T12:59:12.425235Z",
     "iopub.status.idle": "2023-02-27T12:59:17.218213Z",
     "shell.execute_reply": "2023-02-27T12:59:17.217323Z"
    }
   },
   "outputs": [
    {
     "name": "stdout",
     "output_type": "stream",
     "text": [
      "59 ns ± 0.0367 ns per loop (mean ± std. dev. of 7 runs, 10,000,000 loops each)\n"
     ]
    }
   ],
   "source": [
    "%timeit b.a"
   ]
  },
  {
   "cell_type": "code",
   "execution_count": 12,
   "id": "ad54dc69",
   "metadata": {
    "execution": {
     "iopub.execute_input": "2023-02-27T12:59:17.221775Z",
     "iopub.status.busy": "2023-02-27T12:59:17.221188Z",
     "iopub.status.idle": "2023-02-27T12:59:17.228285Z",
     "shell.execute_reply": "2023-02-27T12:59:17.227661Z"
    }
   },
   "outputs": [
    {
     "data": {
      "text/plain": [
       "Batch(\n",
       "    a: tensor([[-0.4872,  0.8893, -0.6562],\n",
       "               [ 1.6986,  1.7166,  0.0146]]),\n",
       "    x: Batch(\n",
       "           c: tensor([[ 1.2058,  1.2438,  0.5276, -0.1902],\n",
       "                      [ 0.5533,  1.0221,  1.1639,  0.5424],\n",
       "                      [ 0.9086, -0.1583, -1.1895,  0.5367]]),\n",
       "       ),\n",
       ")"
      ]
     },
     "execution_count": 12,
     "metadata": {},
     "output_type": "execute_result"
    }
   ],
   "source": [
    "new_value = torch.randn(2, 3)\n",
    "b.a = new_value\n",
    "\n",
    "b"
   ]
  },
  {
   "cell_type": "code",
   "execution_count": 13,
   "id": "29b1d0bf",
   "metadata": {
    "execution": {
     "iopub.execute_input": "2023-02-27T12:59:17.231356Z",
     "iopub.status.busy": "2023-02-27T12:59:17.230908Z",
     "iopub.status.idle": "2023-02-27T12:59:21.283118Z",
     "shell.execute_reply": "2023-02-27T12:59:21.282224Z"
    }
   },
   "outputs": [
    {
     "name": "stdout",
     "output_type": "stream",
     "text": [
      "498 ns ± 0.274 ns per loop (mean ± std. dev. of 7 runs, 1,000,000 loops each)\n"
     ]
    }
   ],
   "source": [
    "%timeit b.a = new_value"
   ]
  },
  {
   "cell_type": "markdown",
   "id": "b61ad1d0",
   "metadata": {},
   "source": [
    "## Initialization"
   ]
  },
  {
   "cell_type": "markdown",
   "id": "d70f0d54",
   "metadata": {},
   "source": [
    "### TreeValue's Initialization"
   ]
  },
  {
   "cell_type": "code",
   "execution_count": 14,
   "id": "d32a679b",
   "metadata": {
    "execution": {
     "iopub.execute_input": "2023-02-27T12:59:21.286681Z",
     "iopub.status.busy": "2023-02-27T12:59:21.286229Z",
     "iopub.status.idle": "2023-02-27T12:59:27.937029Z",
     "shell.execute_reply": "2023-02-27T12:59:27.936119Z"
    }
   },
   "outputs": [
    {
     "name": "stdout",
     "output_type": "stream",
     "text": [
      "820 ns ± 0.764 ns per loop (mean ± std. dev. of 7 runs, 1,000,000 loops each)\n"
     ]
    }
   ],
   "source": [
    "%timeit FastTreeValue(_TREE_DATA_1)"
   ]
  },
  {
   "cell_type": "markdown",
   "id": "24f3707b",
   "metadata": {},
   "source": [
    "### Tianshou Batch's Initialization"
   ]
  },
  {
   "cell_type": "code",
   "execution_count": 15,
   "id": "ac3958df",
   "metadata": {
    "execution": {
     "iopub.execute_input": "2023-02-27T12:59:27.941185Z",
     "iopub.status.busy": "2023-02-27T12:59:27.940557Z",
     "iopub.status.idle": "2023-02-27T12:59:36.927984Z",
     "shell.execute_reply": "2023-02-27T12:59:36.927095Z"
    }
   },
   "outputs": [
    {
     "name": "stdout",
     "output_type": "stream",
     "text": [
      "11.1 µs ± 20.7 ns per loop (mean ± std. dev. of 7 runs, 100,000 loops each)\n"
     ]
    }
   ],
   "source": [
    "%timeit Batch(**_TREE_DATA_1)"
   ]
  },
  {
   "cell_type": "markdown",
   "id": "1ab82e2d",
   "metadata": {},
   "source": [
    "## Deep Copy Operation"
   ]
  },
  {
   "cell_type": "code",
   "execution_count": 16,
   "id": "210a9442",
   "metadata": {
    "execution": {
     "iopub.execute_input": "2023-02-27T12:59:36.932003Z",
     "iopub.status.busy": "2023-02-27T12:59:36.931372Z",
     "iopub.status.idle": "2023-02-27T12:59:36.935578Z",
     "shell.execute_reply": "2023-02-27T12:59:36.934901Z"
    }
   },
   "outputs": [],
   "source": [
    "import copy"
   ]
  },
  {
   "cell_type": "markdown",
   "id": "5a736274",
   "metadata": {},
   "source": [
    "### Deep Copy of TreeValue"
   ]
  },
  {
   "cell_type": "code",
   "execution_count": 17,
   "id": "f9bcadd6",
   "metadata": {
    "execution": {
     "iopub.execute_input": "2023-02-27T12:59:36.938278Z",
     "iopub.status.busy": "2023-02-27T12:59:36.938039Z",
     "iopub.status.idle": "2023-02-27T12:59:49.034321Z",
     "shell.execute_reply": "2023-02-27T12:59:49.033676Z"
    }
   },
   "outputs": [
    {
     "name": "stdout",
     "output_type": "stream",
     "text": [
      "149 µs ± 306 ns per loop (mean ± std. dev. of 7 runs, 10,000 loops each)\n"
     ]
    }
   ],
   "source": [
    "t3 = FastTreeValue(_TREE_DATA_3)\n",
    "%timeit copy.deepcopy(t3)"
   ]
  },
  {
   "cell_type": "markdown",
   "id": "bf8be7ea",
   "metadata": {},
   "source": [
    "### Deep Copy of Tianshou Batch"
   ]
  },
  {
   "cell_type": "code",
   "execution_count": 18,
   "id": "91998e6f",
   "metadata": {
    "execution": {
     "iopub.execute_input": "2023-02-27T12:59:49.037701Z",
     "iopub.status.busy": "2023-02-27T12:59:49.037276Z",
     "iopub.status.idle": "2023-02-27T13:00:01.103069Z",
     "shell.execute_reply": "2023-02-27T13:00:01.102430Z"
    }
   },
   "outputs": [
    {
     "name": "stdout",
     "output_type": "stream",
     "text": [
      "149 µs ± 1.36 µs per loop (mean ± std. dev. of 7 runs, 10,000 loops each)\n"
     ]
    }
   ],
   "source": [
    "b3 = Batch(**_TREE_DATA_3)\n",
    "%timeit copy.deepcopy(b3)"
   ]
  },
  {
   "cell_type": "markdown",
   "id": "223162fb",
   "metadata": {},
   "source": [
    "## Stack, Concat and Split Operation"
   ]
  },
  {
   "cell_type": "markdown",
   "id": "85fa4a73",
   "metadata": {},
   "source": [
    "### Performance of TreeValue"
   ]
  },
  {
   "cell_type": "code",
   "execution_count": 19,
   "id": "a0c2b697",
   "metadata": {
    "execution": {
     "iopub.execute_input": "2023-02-27T13:00:01.106320Z",
     "iopub.status.busy": "2023-02-27T13:00:01.105896Z",
     "iopub.status.idle": "2023-02-27T13:00:01.109250Z",
     "shell.execute_reply": "2023-02-27T13:00:01.108676Z"
    }
   },
   "outputs": [],
   "source": [
    "trees = [FastTreeValue(_TREE_DATA_2) for _ in range(8)]"
   ]
  },
  {
   "cell_type": "code",
   "execution_count": 20,
   "id": "017ea5a5",
   "metadata": {
    "execution": {
     "iopub.execute_input": "2023-02-27T13:00:01.111769Z",
     "iopub.status.busy": "2023-02-27T13:00:01.111385Z",
     "iopub.status.idle": "2023-02-27T13:00:01.118498Z",
     "shell.execute_reply": "2023-02-27T13:00:01.117940Z"
    }
   },
   "outputs": [
    {
     "data": {
      "text/plain": [
       "<FastTreeValue 0x7f0b0833c8b0>\n",
       "├── 'a' --> tensor([[[-0.7735,  1.0406,  0.5373],\n",
       "│                    [-2.6181, -0.1628, -0.0840]],\n",
       "│           \n",
       "│                   [[-0.7735,  1.0406,  0.5373],\n",
       "│                    [-2.6181, -0.1628, -0.0840]],\n",
       "│           \n",
       "│                   [[-0.7735,  1.0406,  0.5373],\n",
       "│                    [-2.6181, -0.1628, -0.0840]],\n",
       "│           \n",
       "│                   [[-0.7735,  1.0406,  0.5373],\n",
       "│                    [-2.6181, -0.1628, -0.0840]],\n",
       "│           \n",
       "│                   [[-0.7735,  1.0406,  0.5373],\n",
       "│                    [-2.6181, -0.1628, -0.0840]],\n",
       "│           \n",
       "│                   [[-0.7735,  1.0406,  0.5373],\n",
       "│                    [-2.6181, -0.1628, -0.0840]],\n",
       "│           \n",
       "│                   [[-0.7735,  1.0406,  0.5373],\n",
       "│                    [-2.6181, -0.1628, -0.0840]],\n",
       "│           \n",
       "│                   [[-0.7735,  1.0406,  0.5373],\n",
       "│                    [-2.6181, -0.1628, -0.0840]]])\n",
       "└── 'x' --> <FastTreeValue 0x7f0b0833c400>\n",
       "    └── 'c' --> tensor([[[ 1.2058,  1.2438,  0.5276, -0.1902],\n",
       "                         [ 0.5533,  1.0221,  1.1639,  0.5424],\n",
       "                         [ 0.9086, -0.1583, -1.1895,  0.5367]],\n",
       "                \n",
       "                        [[ 1.2058,  1.2438,  0.5276, -0.1902],\n",
       "                         [ 0.5533,  1.0221,  1.1639,  0.5424],\n",
       "                         [ 0.9086, -0.1583, -1.1895,  0.5367]],\n",
       "                \n",
       "                        [[ 1.2058,  1.2438,  0.5276, -0.1902],\n",
       "                         [ 0.5533,  1.0221,  1.1639,  0.5424],\n",
       "                         [ 0.9086, -0.1583, -1.1895,  0.5367]],\n",
       "                \n",
       "                        [[ 1.2058,  1.2438,  0.5276, -0.1902],\n",
       "                         [ 0.5533,  1.0221,  1.1639,  0.5424],\n",
       "                         [ 0.9086, -0.1583, -1.1895,  0.5367]],\n",
       "                \n",
       "                        [[ 1.2058,  1.2438,  0.5276, -0.1902],\n",
       "                         [ 0.5533,  1.0221,  1.1639,  0.5424],\n",
       "                         [ 0.9086, -0.1583, -1.1895,  0.5367]],\n",
       "                \n",
       "                        [[ 1.2058,  1.2438,  0.5276, -0.1902],\n",
       "                         [ 0.5533,  1.0221,  1.1639,  0.5424],\n",
       "                         [ 0.9086, -0.1583, -1.1895,  0.5367]],\n",
       "                \n",
       "                        [[ 1.2058,  1.2438,  0.5276, -0.1902],\n",
       "                         [ 0.5533,  1.0221,  1.1639,  0.5424],\n",
       "                         [ 0.9086, -0.1583, -1.1895,  0.5367]],\n",
       "                \n",
       "                        [[ 1.2058,  1.2438,  0.5276, -0.1902],\n",
       "                         [ 0.5533,  1.0221,  1.1639,  0.5424],\n",
       "                         [ 0.9086, -0.1583, -1.1895,  0.5367]]])"
      ]
     },
     "execution_count": 20,
     "metadata": {},
     "output_type": "execute_result"
    }
   ],
   "source": [
    "t_stack = FastTreeValue.func(subside=True)(torch.stack)\n",
    "\n",
    "t_stack(trees)"
   ]
  },
  {
   "cell_type": "code",
   "execution_count": 21,
   "id": "f8b3f415",
   "metadata": {
    "execution": {
     "iopub.execute_input": "2023-02-27T13:00:01.121024Z",
     "iopub.status.busy": "2023-02-27T13:00:01.120643Z",
     "iopub.status.idle": "2023-02-27T13:00:03.749078Z",
     "shell.execute_reply": "2023-02-27T13:00:03.748193Z"
    }
   },
   "outputs": [
    {
     "name": "stdout",
     "output_type": "stream",
     "text": [
      "32.3 µs ± 129 ns per loop (mean ± std. dev. of 7 runs, 10,000 loops each)\n"
     ]
    }
   ],
   "source": [
    "%timeit t_stack(trees)"
   ]
  },
  {
   "cell_type": "code",
   "execution_count": 22,
   "id": "94b56771",
   "metadata": {
    "execution": {
     "iopub.execute_input": "2023-02-27T13:00:03.752448Z",
     "iopub.status.busy": "2023-02-27T13:00:03.751933Z",
     "iopub.status.idle": "2023-02-27T13:00:03.760496Z",
     "shell.execute_reply": "2023-02-27T13:00:03.759831Z"
    }
   },
   "outputs": [
    {
     "data": {
      "text/plain": [
       "<FastTreeValue 0x7f0a7d0bfdc0>\n",
       "├── 'a' --> tensor([[-0.7735,  1.0406,  0.5373],\n",
       "│                   [-2.6181, -0.1628, -0.0840],\n",
       "│                   [-0.7735,  1.0406,  0.5373],\n",
       "│                   [-2.6181, -0.1628, -0.0840],\n",
       "│                   [-0.7735,  1.0406,  0.5373],\n",
       "│                   [-2.6181, -0.1628, -0.0840],\n",
       "│                   [-0.7735,  1.0406,  0.5373],\n",
       "│                   [-2.6181, -0.1628, -0.0840],\n",
       "│                   [-0.7735,  1.0406,  0.5373],\n",
       "│                   [-2.6181, -0.1628, -0.0840],\n",
       "│                   [-0.7735,  1.0406,  0.5373],\n",
       "│                   [-2.6181, -0.1628, -0.0840],\n",
       "│                   [-0.7735,  1.0406,  0.5373],\n",
       "│                   [-2.6181, -0.1628, -0.0840],\n",
       "│                   [-0.7735,  1.0406,  0.5373],\n",
       "│                   [-2.6181, -0.1628, -0.0840]])\n",
       "└── 'x' --> <FastTreeValue 0x7f0b10274520>\n",
       "    └── 'c' --> tensor([[ 1.2058,  1.2438,  0.5276, -0.1902],\n",
       "                        [ 0.5533,  1.0221,  1.1639,  0.5424],\n",
       "                        [ 0.9086, -0.1583, -1.1895,  0.5367],\n",
       "                        [ 1.2058,  1.2438,  0.5276, -0.1902],\n",
       "                        [ 0.5533,  1.0221,  1.1639,  0.5424],\n",
       "                        [ 0.9086, -0.1583, -1.1895,  0.5367],\n",
       "                        [ 1.2058,  1.2438,  0.5276, -0.1902],\n",
       "                        [ 0.5533,  1.0221,  1.1639,  0.5424],\n",
       "                        [ 0.9086, -0.1583, -1.1895,  0.5367],\n",
       "                        [ 1.2058,  1.2438,  0.5276, -0.1902],\n",
       "                        [ 0.5533,  1.0221,  1.1639,  0.5424],\n",
       "                        [ 0.9086, -0.1583, -1.1895,  0.5367],\n",
       "                        [ 1.2058,  1.2438,  0.5276, -0.1902],\n",
       "                        [ 0.5533,  1.0221,  1.1639,  0.5424],\n",
       "                        [ 0.9086, -0.1583, -1.1895,  0.5367],\n",
       "                        [ 1.2058,  1.2438,  0.5276, -0.1902],\n",
       "                        [ 0.5533,  1.0221,  1.1639,  0.5424],\n",
       "                        [ 0.9086, -0.1583, -1.1895,  0.5367],\n",
       "                        [ 1.2058,  1.2438,  0.5276, -0.1902],\n",
       "                        [ 0.5533,  1.0221,  1.1639,  0.5424],\n",
       "                        [ 0.9086, -0.1583, -1.1895,  0.5367],\n",
       "                        [ 1.2058,  1.2438,  0.5276, -0.1902],\n",
       "                        [ 0.5533,  1.0221,  1.1639,  0.5424],\n",
       "                        [ 0.9086, -0.1583, -1.1895,  0.5367]])"
      ]
     },
     "execution_count": 22,
     "metadata": {},
     "output_type": "execute_result"
    }
   ],
   "source": [
    "t_cat = FastTreeValue.func(subside=True)(torch.cat)\n",
    "\n",
    "t_cat(trees)"
   ]
  },
  {
   "cell_type": "code",
   "execution_count": 23,
   "id": "5e9c06a6",
   "metadata": {
    "execution": {
     "iopub.execute_input": "2023-02-27T13:00:03.763622Z",
     "iopub.status.busy": "2023-02-27T13:00:03.763062Z",
     "iopub.status.idle": "2023-02-27T13:00:06.238208Z",
     "shell.execute_reply": "2023-02-27T13:00:06.237336Z"
    }
   },
   "outputs": [
    {
     "name": "stdout",
     "output_type": "stream",
     "text": [
      "30.4 µs ± 46.2 ns per loop (mean ± std. dev. of 7 runs, 10,000 loops each)\n"
     ]
    }
   ],
   "source": [
    "%timeit t_cat(trees)"
   ]
  },
  {
   "cell_type": "code",
   "execution_count": 24,
   "id": "a3ab5c8f",
   "metadata": {
    "execution": {
     "iopub.execute_input": "2023-02-27T13:00:06.242149Z",
     "iopub.status.busy": "2023-02-27T13:00:06.241552Z",
     "iopub.status.idle": "2023-02-27T13:00:11.000863Z",
     "shell.execute_reply": "2023-02-27T13:00:10.999903Z"
    }
   },
   "outputs": [
    {
     "name": "stdout",
     "output_type": "stream",
     "text": [
      "58.5 µs ± 100 ns per loop (mean ± std. dev. of 7 runs, 10,000 loops each)\n"
     ]
    }
   ],
   "source": [
    "t_split = FastTreeValue.func(rise=True)(torch.split)\n",
    "tree = FastTreeValue({\n",
    "    'obs': torch.randn(8, 4, 84, 84),\n",
    "    'action': torch.randint(0, 6, size=(8, 1,)),\n",
    "    'reward': torch.rand(8, 1),\n",
    "})\n",
    "\n",
    "%timeit t_split(tree, 1)"
   ]
  },
  {
   "cell_type": "markdown",
   "id": "31c3ec0b",
   "metadata": {},
   "source": [
    "### Performance of Tianshou Batch"
   ]
  },
  {
   "cell_type": "code",
   "execution_count": 25,
   "id": "9ead828a",
   "metadata": {
    "execution": {
     "iopub.execute_input": "2023-02-27T13:00:11.004109Z",
     "iopub.status.busy": "2023-02-27T13:00:11.003700Z",
     "iopub.status.idle": "2023-02-27T13:00:11.012367Z",
     "shell.execute_reply": "2023-02-27T13:00:11.011702Z"
    }
   },
   "outputs": [
    {
     "data": {
      "text/plain": [
       "Batch(\n",
       "    x: Batch(\n",
       "           c: tensor([[[ 1.2058,  1.2438,  0.5276, -0.1902],\n",
       "                       [ 0.5533,  1.0221,  1.1639,  0.5424],\n",
       "                       [ 0.9086, -0.1583, -1.1895,  0.5367]],\n",
       "              \n",
       "                      [[ 1.2058,  1.2438,  0.5276, -0.1902],\n",
       "                       [ 0.5533,  1.0221,  1.1639,  0.5424],\n",
       "                       [ 0.9086, -0.1583, -1.1895,  0.5367]],\n",
       "              \n",
       "                      [[ 1.2058,  1.2438,  0.5276, -0.1902],\n",
       "                       [ 0.5533,  1.0221,  1.1639,  0.5424],\n",
       "                       [ 0.9086, -0.1583, -1.1895,  0.5367]],\n",
       "              \n",
       "                      [[ 1.2058,  1.2438,  0.5276, -0.1902],\n",
       "                       [ 0.5533,  1.0221,  1.1639,  0.5424],\n",
       "                       [ 0.9086, -0.1583, -1.1895,  0.5367]],\n",
       "              \n",
       "                      [[ 1.2058,  1.2438,  0.5276, -0.1902],\n",
       "                       [ 0.5533,  1.0221,  1.1639,  0.5424],\n",
       "                       [ 0.9086, -0.1583, -1.1895,  0.5367]],\n",
       "              \n",
       "                      [[ 1.2058,  1.2438,  0.5276, -0.1902],\n",
       "                       [ 0.5533,  1.0221,  1.1639,  0.5424],\n",
       "                       [ 0.9086, -0.1583, -1.1895,  0.5367]],\n",
       "              \n",
       "                      [[ 1.2058,  1.2438,  0.5276, -0.1902],\n",
       "                       [ 0.5533,  1.0221,  1.1639,  0.5424],\n",
       "                       [ 0.9086, -0.1583, -1.1895,  0.5367]],\n",
       "              \n",
       "                      [[ 1.2058,  1.2438,  0.5276, -0.1902],\n",
       "                       [ 0.5533,  1.0221,  1.1639,  0.5424],\n",
       "                       [ 0.9086, -0.1583, -1.1895,  0.5367]]]),\n",
       "       ),\n",
       "    a: tensor([[[-0.7735,  1.0406,  0.5373],\n",
       "                [-2.6181, -0.1628, -0.0840]],\n",
       "       \n",
       "               [[-0.7735,  1.0406,  0.5373],\n",
       "                [-2.6181, -0.1628, -0.0840]],\n",
       "       \n",
       "               [[-0.7735,  1.0406,  0.5373],\n",
       "                [-2.6181, -0.1628, -0.0840]],\n",
       "       \n",
       "               [[-0.7735,  1.0406,  0.5373],\n",
       "                [-2.6181, -0.1628, -0.0840]],\n",
       "       \n",
       "               [[-0.7735,  1.0406,  0.5373],\n",
       "                [-2.6181, -0.1628, -0.0840]],\n",
       "       \n",
       "               [[-0.7735,  1.0406,  0.5373],\n",
       "                [-2.6181, -0.1628, -0.0840]],\n",
       "       \n",
       "               [[-0.7735,  1.0406,  0.5373],\n",
       "                [-2.6181, -0.1628, -0.0840]],\n",
       "       \n",
       "               [[-0.7735,  1.0406,  0.5373],\n",
       "                [-2.6181, -0.1628, -0.0840]]]),\n",
       ")"
      ]
     },
     "execution_count": 25,
     "metadata": {},
     "output_type": "execute_result"
    }
   ],
   "source": [
    "batches = [Batch(**_TREE_DATA_2) for _ in range(8)]\n",
    "\n",
    "Batch.stack(batches)"
   ]
  },
  {
   "cell_type": "code",
   "execution_count": 26,
   "id": "ec9037a3",
   "metadata": {
    "execution": {
     "iopub.execute_input": "2023-02-27T13:00:11.015357Z",
     "iopub.status.busy": "2023-02-27T13:00:11.014811Z",
     "iopub.status.idle": "2023-02-27T13:00:17.306912Z",
     "shell.execute_reply": "2023-02-27T13:00:17.306021Z"
    }
   },
   "outputs": [
    {
     "name": "stdout",
     "output_type": "stream",
     "text": [
      "77.5 µs ± 172 ns per loop (mean ± std. dev. of 7 runs, 10,000 loops each)\n"
     ]
    }
   ],
   "source": [
    "%timeit Batch.stack(batches)"
   ]
  },
  {
   "cell_type": "code",
   "execution_count": 27,
   "id": "cb8ab77e",
   "metadata": {
    "execution": {
     "iopub.execute_input": "2023-02-27T13:00:17.310505Z",
     "iopub.status.busy": "2023-02-27T13:00:17.309893Z",
     "iopub.status.idle": "2023-02-27T13:00:17.318358Z",
     "shell.execute_reply": "2023-02-27T13:00:17.317734Z"
    }
   },
   "outputs": [
    {
     "data": {
      "text/plain": [
       "Batch(\n",
       "    x: Batch(\n",
       "           c: tensor([[ 1.2058,  1.2438,  0.5276, -0.1902],\n",
       "                      [ 0.5533,  1.0221,  1.1639,  0.5424],\n",
       "                      [ 0.9086, -0.1583, -1.1895,  0.5367],\n",
       "                      [ 1.2058,  1.2438,  0.5276, -0.1902],\n",
       "                      [ 0.5533,  1.0221,  1.1639,  0.5424],\n",
       "                      [ 0.9086, -0.1583, -1.1895,  0.5367],\n",
       "                      [ 1.2058,  1.2438,  0.5276, -0.1902],\n",
       "                      [ 0.5533,  1.0221,  1.1639,  0.5424],\n",
       "                      [ 0.9086, -0.1583, -1.1895,  0.5367],\n",
       "                      [ 1.2058,  1.2438,  0.5276, -0.1902],\n",
       "                      [ 0.5533,  1.0221,  1.1639,  0.5424],\n",
       "                      [ 0.9086, -0.1583, -1.1895,  0.5367],\n",
       "                      [ 1.2058,  1.2438,  0.5276, -0.1902],\n",
       "                      [ 0.5533,  1.0221,  1.1639,  0.5424],\n",
       "                      [ 0.9086, -0.1583, -1.1895,  0.5367],\n",
       "                      [ 1.2058,  1.2438,  0.5276, -0.1902],\n",
       "                      [ 0.5533,  1.0221,  1.1639,  0.5424],\n",
       "                      [ 0.9086, -0.1583, -1.1895,  0.5367],\n",
       "                      [ 1.2058,  1.2438,  0.5276, -0.1902],\n",
       "                      [ 0.5533,  1.0221,  1.1639,  0.5424],\n",
       "                      [ 0.9086, -0.1583, -1.1895,  0.5367],\n",
       "                      [ 1.2058,  1.2438,  0.5276, -0.1902],\n",
       "                      [ 0.5533,  1.0221,  1.1639,  0.5424],\n",
       "                      [ 0.9086, -0.1583, -1.1895,  0.5367]]),\n",
       "       ),\n",
       "    a: tensor([[-0.7735,  1.0406,  0.5373],\n",
       "               [-2.6181, -0.1628, -0.0840],\n",
       "               [-0.7735,  1.0406,  0.5373],\n",
       "               [-2.6181, -0.1628, -0.0840],\n",
       "               [-0.7735,  1.0406,  0.5373],\n",
       "               [-2.6181, -0.1628, -0.0840],\n",
       "               [-0.7735,  1.0406,  0.5373],\n",
       "               [-2.6181, -0.1628, -0.0840],\n",
       "               [-0.7735,  1.0406,  0.5373],\n",
       "               [-2.6181, -0.1628, -0.0840],\n",
       "               [-0.7735,  1.0406,  0.5373],\n",
       "               [-2.6181, -0.1628, -0.0840],\n",
       "               [-0.7735,  1.0406,  0.5373],\n",
       "               [-2.6181, -0.1628, -0.0840],\n",
       "               [-0.7735,  1.0406,  0.5373],\n",
       "               [-2.6181, -0.1628, -0.0840]]),\n",
       ")"
      ]
     },
     "execution_count": 27,
     "metadata": {},
     "output_type": "execute_result"
    }
   ],
   "source": [
    "Batch.cat(batches)"
   ]
  },
  {
   "cell_type": "code",
   "execution_count": 28,
   "id": "18dfb045",
   "metadata": {
    "execution": {
     "iopub.execute_input": "2023-02-27T13:00:17.320993Z",
     "iopub.status.busy": "2023-02-27T13:00:17.320618Z",
     "iopub.status.idle": "2023-02-27T13:00:29.218370Z",
     "shell.execute_reply": "2023-02-27T13:00:29.217458Z"
    }
   },
   "outputs": [
    {
     "name": "stdout",
     "output_type": "stream",
     "text": [
      "147 µs ± 622 ns per loop (mean ± std. dev. of 7 runs, 10,000 loops each)\n"
     ]
    }
   ],
   "source": [
    "%timeit Batch.cat(batches)"
   ]
  },
  {
   "cell_type": "code",
   "execution_count": 29,
   "id": "c6688e51",
   "metadata": {
    "execution": {
     "iopub.execute_input": "2023-02-27T13:00:29.222155Z",
     "iopub.status.busy": "2023-02-27T13:00:29.221544Z",
     "iopub.status.idle": "2023-02-27T13:00:31.879181Z",
     "shell.execute_reply": "2023-02-27T13:00:31.878383Z"
    }
   },
   "outputs": [
    {
     "name": "stdout",
     "output_type": "stream",
     "text": [
      "326 µs ± 1.76 µs per loop (mean ± std. dev. of 7 runs, 1,000 loops each)\n"
     ]
    }
   ],
   "source": [
    "batch = Batch({\n",
    "    'obs': torch.randn(8, 4, 84, 84),\n",
    "    'action': torch.randint(0, 6, size=(8, 1,)),\n",
    "    'reward': torch.rand(8, 1)}\n",
    ")\n",
    "\n",
    "%timeit list(Batch.split(batch, 1, shuffle=False, merge_last=True))"
   ]
  },
  {
   "cell_type": "code",
   "execution_count": null,
   "id": "2539fbd9",
   "metadata": {},
   "outputs": [],
   "source": []
  }
 ],
 "metadata": {
  "kernelspec": {
   "display_name": "Python 3 (ipykernel)",
   "language": "python",
   "name": "python3"
  },
  "language_info": {
   "codemirror_mode": {
    "name": "ipython",
    "version": 3
   },
   "file_extension": ".py",
   "mimetype": "text/x-python",
   "name": "python",
   "nbconvert_exporter": "python",
   "pygments_lexer": "ipython3",
   "version": "3.8.16"
  }
 },
 "nbformat": 4,
 "nbformat_minor": 5
}
