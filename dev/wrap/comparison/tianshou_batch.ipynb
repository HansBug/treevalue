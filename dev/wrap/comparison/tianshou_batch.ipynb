{
 "cells": [
  {
   "cell_type": "markdown",
   "id": "9d39d946",
   "metadata": {},
   "source": [
    "# Comparison Between TreeValue and Tianshou Batch"
   ]
  },
  {
   "cell_type": "markdown",
   "id": "3c6db2d4",
   "metadata": {},
   "source": [
    "In this section, we will take a look at the feature and performance of the [Tianshou Batch](https://github.com/thu-ml/tianshou) library, which is developed by Tsinghua Machine Learning Group."
   ]
  },
  {
   "cell_type": "markdown",
   "id": "069361b0",
   "metadata": {},
   "source": [
    "Before starting the comparison, let us define some thing."
   ]
  },
  {
   "cell_type": "code",
   "execution_count": 1,
   "id": "06fc8d26",
   "metadata": {
    "execution": {
     "iopub.execute_input": "2023-02-27T13:24:32.812732Z",
     "iopub.status.busy": "2023-02-27T13:24:32.812127Z",
     "iopub.status.idle": "2023-02-27T13:24:33.938860Z",
     "shell.execute_reply": "2023-02-27T13:24:33.937558Z"
    }
   },
   "outputs": [
    {
     "name": "stderr",
     "output_type": "stream",
     "text": [
      "/opt/hostedtoolcache/Python/3.8.16/x64/lib/python3.8/site-packages/tqdm/auto.py:22: TqdmWarning: IProgress not found. Please update jupyter and ipywidgets. See https://ipywidgets.readthedocs.io/en/stable/user_install.html\n",
      "  from .autonotebook import tqdm as notebook_tqdm\n"
     ]
    }
   ],
   "source": [
    "import torch \n",
    "\n",
    "_TREE_DATA_1 = {'a': 1, 'b': 2, 'x': {'c': 3, 'd': 4}}\n",
    "_TREE_DATA_2 = {\n",
    "    'a': torch.randn(2, 3), \n",
    "    'x': {\n",
    "        'c': torch.randn(3, 4)\n",
    "    },\n",
    "}\n",
    "_TREE_DATA_3 = {\n",
    "    'obs': torch.randn(4, 84, 84),\n",
    "    'action': torch.randint(0, 6, size=(1,)),\n",
    "    'reward': torch.rand(1),\n",
    "}"
   ]
  },
  {
   "cell_type": "markdown",
   "id": "83461b25",
   "metadata": {},
   "source": [
    "## Read and Write Operation"
   ]
  },
  {
   "cell_type": "markdown",
   "id": "067b3f73",
   "metadata": {},
   "source": [
    "Reading and writing are the two most common operations in the tree data structure based on the data model (TreeValue and Tianshou Batch both belong to this type), so this section will compare the reading and writing performance of these two libraries."
   ]
  },
  {
   "cell_type": "markdown",
   "id": "5d09a5b7",
   "metadata": {},
   "source": [
    "### TreeValue's Get and Set"
   ]
  },
  {
   "cell_type": "code",
   "execution_count": 2,
   "id": "9519c4bb",
   "metadata": {
    "execution": {
     "iopub.execute_input": "2023-02-27T13:24:33.943531Z",
     "iopub.status.busy": "2023-02-27T13:24:33.942926Z",
     "iopub.status.idle": "2023-02-27T13:24:34.289099Z",
     "shell.execute_reply": "2023-02-27T13:24:34.288269Z"
    }
   },
   "outputs": [],
   "source": [
    "from treevalue import FastTreeValue\n",
    "\n",
    "t = FastTreeValue(_TREE_DATA_2)"
   ]
  },
  {
   "cell_type": "code",
   "execution_count": 3,
   "id": "11c37677",
   "metadata": {
    "execution": {
     "iopub.execute_input": "2023-02-27T13:24:34.293119Z",
     "iopub.status.busy": "2023-02-27T13:24:34.292601Z",
     "iopub.status.idle": "2023-02-27T13:24:34.303753Z",
     "shell.execute_reply": "2023-02-27T13:24:34.303033Z"
    }
   },
   "outputs": [
    {
     "data": {
      "text/plain": [
       "<FastTreeValue 0x7f46806607c0>\n",
       "├── 'a' --> tensor([[-0.7249, -0.1447, -1.1540],\n",
       "│                   [ 0.5689,  1.0123, -1.6154]])\n",
       "└── 'x' --> <FastTreeValue 0x7f46806605b0>\n",
       "    └── 'c' --> tensor([[-0.2795, -0.1338, -0.3619, -0.8739],\n",
       "                        [-0.4648, -0.9925, -0.7018, -0.6755],\n",
       "                        [ 0.5034,  0.3455,  0.3521,  0.2881]])"
      ]
     },
     "execution_count": 3,
     "metadata": {},
     "output_type": "execute_result"
    }
   ],
   "source": [
    "t"
   ]
  },
  {
   "cell_type": "code",
   "execution_count": 4,
   "id": "fd70b0b9",
   "metadata": {
    "execution": {
     "iopub.execute_input": "2023-02-27T13:24:34.307227Z",
     "iopub.status.busy": "2023-02-27T13:24:34.306808Z",
     "iopub.status.idle": "2023-02-27T13:24:34.313367Z",
     "shell.execute_reply": "2023-02-27T13:24:34.312601Z"
    }
   },
   "outputs": [
    {
     "data": {
      "text/plain": [
       "tensor([[-0.7249, -0.1447, -1.1540],\n",
       "        [ 0.5689,  1.0123, -1.6154]])"
      ]
     },
     "execution_count": 4,
     "metadata": {},
     "output_type": "execute_result"
    }
   ],
   "source": [
    "t.a"
   ]
  },
  {
   "cell_type": "code",
   "execution_count": 5,
   "id": "c18197bd",
   "metadata": {
    "execution": {
     "iopub.execute_input": "2023-02-27T13:24:34.316345Z",
     "iopub.status.busy": "2023-02-27T13:24:34.315925Z",
     "iopub.status.idle": "2023-02-27T13:24:40.462548Z",
     "shell.execute_reply": "2023-02-27T13:24:40.461458Z"
    }
   },
   "outputs": [
    {
     "name": "stdout",
     "output_type": "stream",
     "text": [
      "75.6 ns ± 0.17 ns per loop (mean ± std. dev. of 7 runs, 10,000,000 loops each)\n"
     ]
    }
   ],
   "source": [
    "%timeit t.a"
   ]
  },
  {
   "cell_type": "code",
   "execution_count": 6,
   "id": "bd52f867",
   "metadata": {
    "execution": {
     "iopub.execute_input": "2023-02-27T13:24:40.466290Z",
     "iopub.status.busy": "2023-02-27T13:24:40.465769Z",
     "iopub.status.idle": "2023-02-27T13:24:40.475543Z",
     "shell.execute_reply": "2023-02-27T13:24:40.474833Z"
    }
   },
   "outputs": [
    {
     "data": {
      "text/plain": [
       "<FastTreeValue 0x7f46806607c0>\n",
       "├── 'a' --> tensor([[-0.8400,  0.2949, -1.7894],\n",
       "│                   [ 0.7192, -0.1646,  0.7761]])\n",
       "└── 'x' --> <FastTreeValue 0x7f46806605b0>\n",
       "    └── 'c' --> tensor([[-0.2795, -0.1338, -0.3619, -0.8739],\n",
       "                        [-0.4648, -0.9925, -0.7018, -0.6755],\n",
       "                        [ 0.5034,  0.3455,  0.3521,  0.2881]])"
      ]
     },
     "execution_count": 6,
     "metadata": {},
     "output_type": "execute_result"
    }
   ],
   "source": [
    "new_value = torch.randn(2, 3)\n",
    "t.a = new_value\n",
    "\n",
    "t"
   ]
  },
  {
   "cell_type": "code",
   "execution_count": 7,
   "id": "bbe04d1c",
   "metadata": {
    "execution": {
     "iopub.execute_input": "2023-02-27T13:24:40.479201Z",
     "iopub.status.busy": "2023-02-27T13:24:40.478691Z",
     "iopub.status.idle": "2023-02-27T13:24:47.893820Z",
     "shell.execute_reply": "2023-02-27T13:24:47.893024Z"
    }
   },
   "outputs": [
    {
     "name": "stdout",
     "output_type": "stream",
     "text": [
      "91.2 ns ± 0.177 ns per loop (mean ± std. dev. of 7 runs, 10,000,000 loops each)\n"
     ]
    }
   ],
   "source": [
    "%timeit t.a = new_value"
   ]
  },
  {
   "cell_type": "markdown",
   "id": "48c49731",
   "metadata": {},
   "source": [
    "### Tianshou Batch's Get and Set"
   ]
  },
  {
   "cell_type": "code",
   "execution_count": 8,
   "id": "f1bb14c1",
   "metadata": {
    "execution": {
     "iopub.execute_input": "2023-02-27T13:24:47.897608Z",
     "iopub.status.busy": "2023-02-27T13:24:47.896872Z",
     "iopub.status.idle": "2023-02-27T13:24:48.324503Z",
     "shell.execute_reply": "2023-02-27T13:24:48.323437Z"
    }
   },
   "outputs": [],
   "source": [
    "from tianshou.data import Batch\n",
    "\n",
    "b = Batch(**_TREE_DATA_2)"
   ]
  },
  {
   "cell_type": "code",
   "execution_count": 9,
   "id": "cb0777c3",
   "metadata": {
    "execution": {
     "iopub.execute_input": "2023-02-27T13:24:48.328715Z",
     "iopub.status.busy": "2023-02-27T13:24:48.327983Z",
     "iopub.status.idle": "2023-02-27T13:24:48.335464Z",
     "shell.execute_reply": "2023-02-27T13:24:48.334746Z"
    }
   },
   "outputs": [
    {
     "data": {
      "text/plain": [
       "Batch(\n",
       "    a: tensor([[-0.7249, -0.1447, -1.1540],\n",
       "               [ 0.5689,  1.0123, -1.6154]]),\n",
       "    x: Batch(\n",
       "           c: tensor([[-0.2795, -0.1338, -0.3619, -0.8739],\n",
       "                      [-0.4648, -0.9925, -0.7018, -0.6755],\n",
       "                      [ 0.5034,  0.3455,  0.3521,  0.2881]]),\n",
       "       ),\n",
       ")"
      ]
     },
     "execution_count": 9,
     "metadata": {},
     "output_type": "execute_result"
    }
   ],
   "source": [
    "b"
   ]
  },
  {
   "cell_type": "code",
   "execution_count": 10,
   "id": "43ef8ea3",
   "metadata": {
    "execution": {
     "iopub.execute_input": "2023-02-27T13:24:48.338976Z",
     "iopub.status.busy": "2023-02-27T13:24:48.338453Z",
     "iopub.status.idle": "2023-02-27T13:24:48.345613Z",
     "shell.execute_reply": "2023-02-27T13:24:48.344895Z"
    }
   },
   "outputs": [
    {
     "data": {
      "text/plain": [
       "tensor([[-0.7249, -0.1447, -1.1540],\n",
       "        [ 0.5689,  1.0123, -1.6154]])"
      ]
     },
     "execution_count": 10,
     "metadata": {},
     "output_type": "execute_result"
    }
   ],
   "source": [
    "b.a"
   ]
  },
  {
   "cell_type": "code",
   "execution_count": 11,
   "id": "b785ab72",
   "metadata": {
    "execution": {
     "iopub.execute_input": "2023-02-27T13:24:48.349100Z",
     "iopub.status.busy": "2023-02-27T13:24:48.348450Z",
     "iopub.status.idle": "2023-02-27T13:24:54.022742Z",
     "shell.execute_reply": "2023-02-27T13:24:54.021558Z"
    }
   },
   "outputs": [
    {
     "name": "stdout",
     "output_type": "stream",
     "text": [
      "69.8 ns ± 0.193 ns per loop (mean ± std. dev. of 7 runs, 10,000,000 loops each)\n"
     ]
    }
   ],
   "source": [
    "%timeit b.a"
   ]
  },
  {
   "cell_type": "code",
   "execution_count": 12,
   "id": "ad54dc69",
   "metadata": {
    "execution": {
     "iopub.execute_input": "2023-02-27T13:24:54.026792Z",
     "iopub.status.busy": "2023-02-27T13:24:54.026229Z",
     "iopub.status.idle": "2023-02-27T13:24:54.036515Z",
     "shell.execute_reply": "2023-02-27T13:24:54.034101Z"
    }
   },
   "outputs": [
    {
     "data": {
      "text/plain": [
       "Batch(\n",
       "    a: tensor([[ 0.2062, -0.0082, -0.3642],\n",
       "               [-1.3329,  0.5946, -0.6323]]),\n",
       "    x: Batch(\n",
       "           c: tensor([[-0.2795, -0.1338, -0.3619, -0.8739],\n",
       "                      [-0.4648, -0.9925, -0.7018, -0.6755],\n",
       "                      [ 0.5034,  0.3455,  0.3521,  0.2881]]),\n",
       "       ),\n",
       ")"
      ]
     },
     "execution_count": 12,
     "metadata": {},
     "output_type": "execute_result"
    }
   ],
   "source": [
    "new_value = torch.randn(2, 3)\n",
    "b.a = new_value\n",
    "\n",
    "b"
   ]
  },
  {
   "cell_type": "code",
   "execution_count": 13,
   "id": "29b1d0bf",
   "metadata": {
    "execution": {
     "iopub.execute_input": "2023-02-27T13:24:54.039763Z",
     "iopub.status.busy": "2023-02-27T13:24:54.039234Z",
     "iopub.status.idle": "2023-02-27T13:24:58.863963Z",
     "shell.execute_reply": "2023-02-27T13:24:58.862641Z"
    }
   },
   "outputs": [
    {
     "name": "stdout",
     "output_type": "stream",
     "text": [
      "594 ns ± 1.28 ns per loop (mean ± std. dev. of 7 runs, 1,000,000 loops each)\n"
     ]
    }
   ],
   "source": [
    "%timeit b.a = new_value"
   ]
  },
  {
   "cell_type": "markdown",
   "id": "b61ad1d0",
   "metadata": {},
   "source": [
    "## Initialization"
   ]
  },
  {
   "cell_type": "markdown",
   "id": "d70f0d54",
   "metadata": {},
   "source": [
    "### TreeValue's Initialization"
   ]
  },
  {
   "cell_type": "code",
   "execution_count": 14,
   "id": "d32a679b",
   "metadata": {
    "execution": {
     "iopub.execute_input": "2023-02-27T13:24:58.867993Z",
     "iopub.status.busy": "2023-02-27T13:24:58.867238Z",
     "iopub.status.idle": "2023-02-27T13:25:06.892469Z",
     "shell.execute_reply": "2023-02-27T13:25:06.891361Z"
    }
   },
   "outputs": [
    {
     "name": "stdout",
     "output_type": "stream",
     "text": [
      "989 ns ± 2.1 ns per loop (mean ± std. dev. of 7 runs, 1,000,000 loops each)\n"
     ]
    }
   ],
   "source": [
    "%timeit FastTreeValue(_TREE_DATA_1)"
   ]
  },
  {
   "cell_type": "markdown",
   "id": "24f3707b",
   "metadata": {},
   "source": [
    "### Tianshou Batch's Initialization"
   ]
  },
  {
   "cell_type": "code",
   "execution_count": 15,
   "id": "ac3958df",
   "metadata": {
    "execution": {
     "iopub.execute_input": "2023-02-27T13:25:06.896562Z",
     "iopub.status.busy": "2023-02-27T13:25:06.896282Z",
     "iopub.status.idle": "2023-02-27T13:25:16.592389Z",
     "shell.execute_reply": "2023-02-27T13:25:16.591017Z"
    }
   },
   "outputs": [
    {
     "name": "stdout",
     "output_type": "stream",
     "text": [
      "11.9 µs ± 47.3 ns per loop (mean ± std. dev. of 7 runs, 100,000 loops each)\n"
     ]
    }
   ],
   "source": [
    "%timeit Batch(**_TREE_DATA_1)"
   ]
  },
  {
   "cell_type": "markdown",
   "id": "1ab82e2d",
   "metadata": {},
   "source": [
    "## Deep Copy Operation"
   ]
  },
  {
   "cell_type": "code",
   "execution_count": 16,
   "id": "210a9442",
   "metadata": {
    "execution": {
     "iopub.execute_input": "2023-02-27T13:25:16.596294Z",
     "iopub.status.busy": "2023-02-27T13:25:16.595658Z",
     "iopub.status.idle": "2023-02-27T13:25:16.600365Z",
     "shell.execute_reply": "2023-02-27T13:25:16.599633Z"
    }
   },
   "outputs": [],
   "source": [
    "import copy"
   ]
  },
  {
   "cell_type": "markdown",
   "id": "5a736274",
   "metadata": {},
   "source": [
    "### Deep Copy of TreeValue"
   ]
  },
  {
   "cell_type": "code",
   "execution_count": 17,
   "id": "f9bcadd6",
   "metadata": {
    "execution": {
     "iopub.execute_input": "2023-02-27T13:25:16.603933Z",
     "iopub.status.busy": "2023-02-27T13:25:16.603428Z",
     "iopub.status.idle": "2023-02-27T13:25:30.384821Z",
     "shell.execute_reply": "2023-02-27T13:25:30.384112Z"
    }
   },
   "outputs": [
    {
     "name": "stdout",
     "output_type": "stream",
     "text": [
      "170 µs ± 743 ns per loop (mean ± std. dev. of 7 runs, 10,000 loops each)\n"
     ]
    }
   ],
   "source": [
    "t3 = FastTreeValue(_TREE_DATA_3)\n",
    "%timeit copy.deepcopy(t3)"
   ]
  },
  {
   "cell_type": "markdown",
   "id": "bf8be7ea",
   "metadata": {},
   "source": [
    "### Deep Copy of Tianshou Batch"
   ]
  },
  {
   "cell_type": "code",
   "execution_count": 18,
   "id": "91998e6f",
   "metadata": {
    "execution": {
     "iopub.execute_input": "2023-02-27T13:25:30.388172Z",
     "iopub.status.busy": "2023-02-27T13:25:30.387615Z",
     "iopub.status.idle": "2023-02-27T13:25:43.721848Z",
     "shell.execute_reply": "2023-02-27T13:25:43.721059Z"
    }
   },
   "outputs": [
    {
     "name": "stdout",
     "output_type": "stream",
     "text": [
      "164 µs ± 327 ns per loop (mean ± std. dev. of 7 runs, 10,000 loops each)\n"
     ]
    }
   ],
   "source": [
    "b3 = Batch(**_TREE_DATA_3)\n",
    "%timeit copy.deepcopy(b3)"
   ]
  },
  {
   "cell_type": "markdown",
   "id": "223162fb",
   "metadata": {},
   "source": [
    "## Stack, Concat and Split Operation"
   ]
  },
  {
   "cell_type": "markdown",
   "id": "85fa4a73",
   "metadata": {},
   "source": [
    "### Performance of TreeValue"
   ]
  },
  {
   "cell_type": "code",
   "execution_count": 19,
   "id": "a0c2b697",
   "metadata": {
    "execution": {
     "iopub.execute_input": "2023-02-27T13:25:43.725462Z",
     "iopub.status.busy": "2023-02-27T13:25:43.724890Z",
     "iopub.status.idle": "2023-02-27T13:25:43.730045Z",
     "shell.execute_reply": "2023-02-27T13:25:43.729293Z"
    }
   },
   "outputs": [],
   "source": [
    "trees = [FastTreeValue(_TREE_DATA_2) for _ in range(8)]"
   ]
  },
  {
   "cell_type": "code",
   "execution_count": 20,
   "id": "017ea5a5",
   "metadata": {
    "execution": {
     "iopub.execute_input": "2023-02-27T13:25:43.733627Z",
     "iopub.status.busy": "2023-02-27T13:25:43.733010Z",
     "iopub.status.idle": "2023-02-27T13:25:43.742612Z",
     "shell.execute_reply": "2023-02-27T13:25:43.741879Z"
    }
   },
   "outputs": [
    {
     "data": {
      "text/plain": [
       "<FastTreeValue 0x7f4680660c70>\n",
       "├── 'a' --> tensor([[[-0.7249, -0.1447, -1.1540],\n",
       "│                    [ 0.5689,  1.0123, -1.6154]],\n",
       "│           \n",
       "│                   [[-0.7249, -0.1447, -1.1540],\n",
       "│                    [ 0.5689,  1.0123, -1.6154]],\n",
       "│           \n",
       "│                   [[-0.7249, -0.1447, -1.1540],\n",
       "│                    [ 0.5689,  1.0123, -1.6154]],\n",
       "│           \n",
       "│                   [[-0.7249, -0.1447, -1.1540],\n",
       "│                    [ 0.5689,  1.0123, -1.6154]],\n",
       "│           \n",
       "│                   [[-0.7249, -0.1447, -1.1540],\n",
       "│                    [ 0.5689,  1.0123, -1.6154]],\n",
       "│           \n",
       "│                   [[-0.7249, -0.1447, -1.1540],\n",
       "│                    [ 0.5689,  1.0123, -1.6154]],\n",
       "│           \n",
       "│                   [[-0.7249, -0.1447, -1.1540],\n",
       "│                    [ 0.5689,  1.0123, -1.6154]],\n",
       "│           \n",
       "│                   [[-0.7249, -0.1447, -1.1540],\n",
       "│                    [ 0.5689,  1.0123, -1.6154]]])\n",
       "└── 'x' --> <FastTreeValue 0x7f45dbf2dfd0>\n",
       "    └── 'c' --> tensor([[[-0.2795, -0.1338, -0.3619, -0.8739],\n",
       "                         [-0.4648, -0.9925, -0.7018, -0.6755],\n",
       "                         [ 0.5034,  0.3455,  0.3521,  0.2881]],\n",
       "                \n",
       "                        [[-0.2795, -0.1338, -0.3619, -0.8739],\n",
       "                         [-0.4648, -0.9925, -0.7018, -0.6755],\n",
       "                         [ 0.5034,  0.3455,  0.3521,  0.2881]],\n",
       "                \n",
       "                        [[-0.2795, -0.1338, -0.3619, -0.8739],\n",
       "                         [-0.4648, -0.9925, -0.7018, -0.6755],\n",
       "                         [ 0.5034,  0.3455,  0.3521,  0.2881]],\n",
       "                \n",
       "                        [[-0.2795, -0.1338, -0.3619, -0.8739],\n",
       "                         [-0.4648, -0.9925, -0.7018, -0.6755],\n",
       "                         [ 0.5034,  0.3455,  0.3521,  0.2881]],\n",
       "                \n",
       "                        [[-0.2795, -0.1338, -0.3619, -0.8739],\n",
       "                         [-0.4648, -0.9925, -0.7018, -0.6755],\n",
       "                         [ 0.5034,  0.3455,  0.3521,  0.2881]],\n",
       "                \n",
       "                        [[-0.2795, -0.1338, -0.3619, -0.8739],\n",
       "                         [-0.4648, -0.9925, -0.7018, -0.6755],\n",
       "                         [ 0.5034,  0.3455,  0.3521,  0.2881]],\n",
       "                \n",
       "                        [[-0.2795, -0.1338, -0.3619, -0.8739],\n",
       "                         [-0.4648, -0.9925, -0.7018, -0.6755],\n",
       "                         [ 0.5034,  0.3455,  0.3521,  0.2881]],\n",
       "                \n",
       "                        [[-0.2795, -0.1338, -0.3619, -0.8739],\n",
       "                         [-0.4648, -0.9925, -0.7018, -0.6755],\n",
       "                         [ 0.5034,  0.3455,  0.3521,  0.2881]]])"
      ]
     },
     "execution_count": 20,
     "metadata": {},
     "output_type": "execute_result"
    }
   ],
   "source": [
    "t_stack = FastTreeValue.func(subside=True)(torch.stack)\n",
    "\n",
    "t_stack(trees)"
   ]
  },
  {
   "cell_type": "code",
   "execution_count": 21,
   "id": "f8b3f415",
   "metadata": {
    "execution": {
     "iopub.execute_input": "2023-02-27T13:25:43.745981Z",
     "iopub.status.busy": "2023-02-27T13:25:43.745356Z",
     "iopub.status.idle": "2023-02-27T13:25:46.867371Z",
     "shell.execute_reply": "2023-02-27T13:25:46.866544Z"
    }
   },
   "outputs": [
    {
     "name": "stdout",
     "output_type": "stream",
     "text": [
      "38.3 µs ± 98.9 ns per loop (mean ± std. dev. of 7 runs, 10,000 loops each)\n"
     ]
    }
   ],
   "source": [
    "%timeit t_stack(trees)"
   ]
  },
  {
   "cell_type": "code",
   "execution_count": 22,
   "id": "94b56771",
   "metadata": {
    "execution": {
     "iopub.execute_input": "2023-02-27T13:25:46.871081Z",
     "iopub.status.busy": "2023-02-27T13:25:46.870445Z",
     "iopub.status.idle": "2023-02-27T13:25:46.879698Z",
     "shell.execute_reply": "2023-02-27T13:25:46.878882Z"
    }
   },
   "outputs": [
    {
     "data": {
      "text/plain": [
       "<FastTreeValue 0x7f4680653340>\n",
       "├── 'a' --> tensor([[-0.7249, -0.1447, -1.1540],\n",
       "│                   [ 0.5689,  1.0123, -1.6154],\n",
       "│                   [-0.7249, -0.1447, -1.1540],\n",
       "│                   [ 0.5689,  1.0123, -1.6154],\n",
       "│                   [-0.7249, -0.1447, -1.1540],\n",
       "│                   [ 0.5689,  1.0123, -1.6154],\n",
       "│                   [-0.7249, -0.1447, -1.1540],\n",
       "│                   [ 0.5689,  1.0123, -1.6154],\n",
       "│                   [-0.7249, -0.1447, -1.1540],\n",
       "│                   [ 0.5689,  1.0123, -1.6154],\n",
       "│                   [-0.7249, -0.1447, -1.1540],\n",
       "│                   [ 0.5689,  1.0123, -1.6154],\n",
       "│                   [-0.7249, -0.1447, -1.1540],\n",
       "│                   [ 0.5689,  1.0123, -1.6154],\n",
       "│                   [-0.7249, -0.1447, -1.1540],\n",
       "│                   [ 0.5689,  1.0123, -1.6154]])\n",
       "└── 'x' --> <FastTreeValue 0x7f4680659b20>\n",
       "    └── 'c' --> tensor([[-0.2795, -0.1338, -0.3619, -0.8739],\n",
       "                        [-0.4648, -0.9925, -0.7018, -0.6755],\n",
       "                        [ 0.5034,  0.3455,  0.3521,  0.2881],\n",
       "                        [-0.2795, -0.1338, -0.3619, -0.8739],\n",
       "                        [-0.4648, -0.9925, -0.7018, -0.6755],\n",
       "                        [ 0.5034,  0.3455,  0.3521,  0.2881],\n",
       "                        [-0.2795, -0.1338, -0.3619, -0.8739],\n",
       "                        [-0.4648, -0.9925, -0.7018, -0.6755],\n",
       "                        [ 0.5034,  0.3455,  0.3521,  0.2881],\n",
       "                        [-0.2795, -0.1338, -0.3619, -0.8739],\n",
       "                        [-0.4648, -0.9925, -0.7018, -0.6755],\n",
       "                        [ 0.5034,  0.3455,  0.3521,  0.2881],\n",
       "                        [-0.2795, -0.1338, -0.3619, -0.8739],\n",
       "                        [-0.4648, -0.9925, -0.7018, -0.6755],\n",
       "                        [ 0.5034,  0.3455,  0.3521,  0.2881],\n",
       "                        [-0.2795, -0.1338, -0.3619, -0.8739],\n",
       "                        [-0.4648, -0.9925, -0.7018, -0.6755],\n",
       "                        [ 0.5034,  0.3455,  0.3521,  0.2881],\n",
       "                        [-0.2795, -0.1338, -0.3619, -0.8739],\n",
       "                        [-0.4648, -0.9925, -0.7018, -0.6755],\n",
       "                        [ 0.5034,  0.3455,  0.3521,  0.2881],\n",
       "                        [-0.2795, -0.1338, -0.3619, -0.8739],\n",
       "                        [-0.4648, -0.9925, -0.7018, -0.6755],\n",
       "                        [ 0.5034,  0.3455,  0.3521,  0.2881]])"
      ]
     },
     "execution_count": 22,
     "metadata": {},
     "output_type": "execute_result"
    }
   ],
   "source": [
    "t_cat = FastTreeValue.func(subside=True)(torch.cat)\n",
    "\n",
    "t_cat(trees)"
   ]
  },
  {
   "cell_type": "code",
   "execution_count": 23,
   "id": "5e9c06a6",
   "metadata": {
    "execution": {
     "iopub.execute_input": "2023-02-27T13:25:46.883031Z",
     "iopub.status.busy": "2023-02-27T13:25:46.882397Z",
     "iopub.status.idle": "2023-02-27T13:25:49.849527Z",
     "shell.execute_reply": "2023-02-27T13:25:49.848495Z"
    }
   },
   "outputs": [
    {
     "name": "stdout",
     "output_type": "stream",
     "text": [
      "36.5 µs ± 168 ns per loop (mean ± std. dev. of 7 runs, 10,000 loops each)\n"
     ]
    }
   ],
   "source": [
    "%timeit t_cat(trees)"
   ]
  },
  {
   "cell_type": "code",
   "execution_count": 24,
   "id": "a3ab5c8f",
   "metadata": {
    "execution": {
     "iopub.execute_input": "2023-02-27T13:25:49.853145Z",
     "iopub.status.busy": "2023-02-27T13:25:49.852715Z",
     "iopub.status.idle": "2023-02-27T13:25:56.259362Z",
     "shell.execute_reply": "2023-02-27T13:25:56.257948Z"
    }
   },
   "outputs": [
    {
     "name": "stdout",
     "output_type": "stream",
     "text": [
      "79 µs ± 210 ns per loop (mean ± std. dev. of 7 runs, 10,000 loops each)\n"
     ]
    }
   ],
   "source": [
    "t_split = FastTreeValue.func(rise=True)(torch.split)\n",
    "tree = FastTreeValue({\n",
    "    'obs': torch.randn(8, 4, 84, 84),\n",
    "    'action': torch.randint(0, 6, size=(8, 1,)),\n",
    "    'reward': torch.rand(8, 1),\n",
    "})\n",
    "\n",
    "%timeit t_split(tree, 1)"
   ]
  },
  {
   "cell_type": "markdown",
   "id": "31c3ec0b",
   "metadata": {},
   "source": [
    "### Performance of Tianshou Batch"
   ]
  },
  {
   "cell_type": "code",
   "execution_count": 25,
   "id": "9ead828a",
   "metadata": {
    "execution": {
     "iopub.execute_input": "2023-02-27T13:25:56.264091Z",
     "iopub.status.busy": "2023-02-27T13:25:56.263264Z",
     "iopub.status.idle": "2023-02-27T13:25:56.273390Z",
     "shell.execute_reply": "2023-02-27T13:25:56.272481Z"
    }
   },
   "outputs": [
    {
     "data": {
      "text/plain": [
       "Batch(\n",
       "    a: tensor([[[-0.7249, -0.1447, -1.1540],\n",
       "                [ 0.5689,  1.0123, -1.6154]],\n",
       "       \n",
       "               [[-0.7249, -0.1447, -1.1540],\n",
       "                [ 0.5689,  1.0123, -1.6154]],\n",
       "       \n",
       "               [[-0.7249, -0.1447, -1.1540],\n",
       "                [ 0.5689,  1.0123, -1.6154]],\n",
       "       \n",
       "               [[-0.7249, -0.1447, -1.1540],\n",
       "                [ 0.5689,  1.0123, -1.6154]],\n",
       "       \n",
       "               [[-0.7249, -0.1447, -1.1540],\n",
       "                [ 0.5689,  1.0123, -1.6154]],\n",
       "       \n",
       "               [[-0.7249, -0.1447, -1.1540],\n",
       "                [ 0.5689,  1.0123, -1.6154]],\n",
       "       \n",
       "               [[-0.7249, -0.1447, -1.1540],\n",
       "                [ 0.5689,  1.0123, -1.6154]],\n",
       "       \n",
       "               [[-0.7249, -0.1447, -1.1540],\n",
       "                [ 0.5689,  1.0123, -1.6154]]]),\n",
       "    x: Batch(\n",
       "           c: tensor([[[-0.2795, -0.1338, -0.3619, -0.8739],\n",
       "                       [-0.4648, -0.9925, -0.7018, -0.6755],\n",
       "                       [ 0.5034,  0.3455,  0.3521,  0.2881]],\n",
       "              \n",
       "                      [[-0.2795, -0.1338, -0.3619, -0.8739],\n",
       "                       [-0.4648, -0.9925, -0.7018, -0.6755],\n",
       "                       [ 0.5034,  0.3455,  0.3521,  0.2881]],\n",
       "              \n",
       "                      [[-0.2795, -0.1338, -0.3619, -0.8739],\n",
       "                       [-0.4648, -0.9925, -0.7018, -0.6755],\n",
       "                       [ 0.5034,  0.3455,  0.3521,  0.2881]],\n",
       "              \n",
       "                      [[-0.2795, -0.1338, -0.3619, -0.8739],\n",
       "                       [-0.4648, -0.9925, -0.7018, -0.6755],\n",
       "                       [ 0.5034,  0.3455,  0.3521,  0.2881]],\n",
       "              \n",
       "                      [[-0.2795, -0.1338, -0.3619, -0.8739],\n",
       "                       [-0.4648, -0.9925, -0.7018, -0.6755],\n",
       "                       [ 0.5034,  0.3455,  0.3521,  0.2881]],\n",
       "              \n",
       "                      [[-0.2795, -0.1338, -0.3619, -0.8739],\n",
       "                       [-0.4648, -0.9925, -0.7018, -0.6755],\n",
       "                       [ 0.5034,  0.3455,  0.3521,  0.2881]],\n",
       "              \n",
       "                      [[-0.2795, -0.1338, -0.3619, -0.8739],\n",
       "                       [-0.4648, -0.9925, -0.7018, -0.6755],\n",
       "                       [ 0.5034,  0.3455,  0.3521,  0.2881]],\n",
       "              \n",
       "                      [[-0.2795, -0.1338, -0.3619, -0.8739],\n",
       "                       [-0.4648, -0.9925, -0.7018, -0.6755],\n",
       "                       [ 0.5034,  0.3455,  0.3521,  0.2881]]]),\n",
       "       ),\n",
       ")"
      ]
     },
     "execution_count": 25,
     "metadata": {},
     "output_type": "execute_result"
    }
   ],
   "source": [
    "batches = [Batch(**_TREE_DATA_2) for _ in range(8)]\n",
    "\n",
    "Batch.stack(batches)"
   ]
  },
  {
   "cell_type": "code",
   "execution_count": 26,
   "id": "ec9037a3",
   "metadata": {
    "execution": {
     "iopub.execute_input": "2023-02-27T13:25:56.276782Z",
     "iopub.status.busy": "2023-02-27T13:25:56.276178Z",
     "iopub.status.idle": "2023-02-27T13:26:03.657075Z",
     "shell.execute_reply": "2023-02-27T13:26:03.656251Z"
    }
   },
   "outputs": [
    {
     "name": "stdout",
     "output_type": "stream",
     "text": [
      "90.4 µs ± 428 ns per loop (mean ± std. dev. of 7 runs, 10,000 loops each)\n"
     ]
    }
   ],
   "source": [
    "%timeit Batch.stack(batches)"
   ]
  },
  {
   "cell_type": "code",
   "execution_count": 27,
   "id": "cb8ab77e",
   "metadata": {
    "execution": {
     "iopub.execute_input": "2023-02-27T13:26:03.661038Z",
     "iopub.status.busy": "2023-02-27T13:26:03.660295Z",
     "iopub.status.idle": "2023-02-27T13:26:03.669386Z",
     "shell.execute_reply": "2023-02-27T13:26:03.668667Z"
    }
   },
   "outputs": [
    {
     "data": {
      "text/plain": [
       "Batch(\n",
       "    a: tensor([[-0.7249, -0.1447, -1.1540],\n",
       "               [ 0.5689,  1.0123, -1.6154],\n",
       "               [-0.7249, -0.1447, -1.1540],\n",
       "               [ 0.5689,  1.0123, -1.6154],\n",
       "               [-0.7249, -0.1447, -1.1540],\n",
       "               [ 0.5689,  1.0123, -1.6154],\n",
       "               [-0.7249, -0.1447, -1.1540],\n",
       "               [ 0.5689,  1.0123, -1.6154],\n",
       "               [-0.7249, -0.1447, -1.1540],\n",
       "               [ 0.5689,  1.0123, -1.6154],\n",
       "               [-0.7249, -0.1447, -1.1540],\n",
       "               [ 0.5689,  1.0123, -1.6154],\n",
       "               [-0.7249, -0.1447, -1.1540],\n",
       "               [ 0.5689,  1.0123, -1.6154],\n",
       "               [-0.7249, -0.1447, -1.1540],\n",
       "               [ 0.5689,  1.0123, -1.6154]]),\n",
       "    x: Batch(\n",
       "           c: tensor([[-0.2795, -0.1338, -0.3619, -0.8739],\n",
       "                      [-0.4648, -0.9925, -0.7018, -0.6755],\n",
       "                      [ 0.5034,  0.3455,  0.3521,  0.2881],\n",
       "                      [-0.2795, -0.1338, -0.3619, -0.8739],\n",
       "                      [-0.4648, -0.9925, -0.7018, -0.6755],\n",
       "                      [ 0.5034,  0.3455,  0.3521,  0.2881],\n",
       "                      [-0.2795, -0.1338, -0.3619, -0.8739],\n",
       "                      [-0.4648, -0.9925, -0.7018, -0.6755],\n",
       "                      [ 0.5034,  0.3455,  0.3521,  0.2881],\n",
       "                      [-0.2795, -0.1338, -0.3619, -0.8739],\n",
       "                      [-0.4648, -0.9925, -0.7018, -0.6755],\n",
       "                      [ 0.5034,  0.3455,  0.3521,  0.2881],\n",
       "                      [-0.2795, -0.1338, -0.3619, -0.8739],\n",
       "                      [-0.4648, -0.9925, -0.7018, -0.6755],\n",
       "                      [ 0.5034,  0.3455,  0.3521,  0.2881],\n",
       "                      [-0.2795, -0.1338, -0.3619, -0.8739],\n",
       "                      [-0.4648, -0.9925, -0.7018, -0.6755],\n",
       "                      [ 0.5034,  0.3455,  0.3521,  0.2881],\n",
       "                      [-0.2795, -0.1338, -0.3619, -0.8739],\n",
       "                      [-0.4648, -0.9925, -0.7018, -0.6755],\n",
       "                      [ 0.5034,  0.3455,  0.3521,  0.2881],\n",
       "                      [-0.2795, -0.1338, -0.3619, -0.8739],\n",
       "                      [-0.4648, -0.9925, -0.7018, -0.6755],\n",
       "                      [ 0.5034,  0.3455,  0.3521,  0.2881]]),\n",
       "       ),\n",
       ")"
      ]
     },
     "execution_count": 27,
     "metadata": {},
     "output_type": "execute_result"
    }
   ],
   "source": [
    "Batch.cat(batches)"
   ]
  },
  {
   "cell_type": "code",
   "execution_count": 28,
   "id": "18dfb045",
   "metadata": {
    "execution": {
     "iopub.execute_input": "2023-02-27T13:26:03.672742Z",
     "iopub.status.busy": "2023-02-27T13:26:03.672027Z",
     "iopub.status.idle": "2023-02-27T13:26:17.273827Z",
     "shell.execute_reply": "2023-02-27T13:26:17.272614Z"
    }
   },
   "outputs": [
    {
     "name": "stdout",
     "output_type": "stream",
     "text": [
      "168 µs ± 550 ns per loop (mean ± std. dev. of 7 runs, 10,000 loops each)\n"
     ]
    }
   ],
   "source": [
    "%timeit Batch.cat(batches)"
   ]
  },
  {
   "cell_type": "code",
   "execution_count": 29,
   "id": "c6688e51",
   "metadata": {
    "execution": {
     "iopub.execute_input": "2023-02-27T13:26:17.278190Z",
     "iopub.status.busy": "2023-02-27T13:26:17.277319Z",
     "iopub.status.idle": "2023-02-27T13:26:20.470693Z",
     "shell.execute_reply": "2023-02-27T13:26:20.469692Z"
    }
   },
   "outputs": [
    {
     "name": "stdout",
     "output_type": "stream",
     "text": [
      "391 µs ± 14.2 µs per loop (mean ± std. dev. of 7 runs, 1,000 loops each)\n"
     ]
    }
   ],
   "source": [
    "batch = Batch({\n",
    "    'obs': torch.randn(8, 4, 84, 84),\n",
    "    'action': torch.randint(0, 6, size=(8, 1,)),\n",
    "    'reward': torch.rand(8, 1)}\n",
    ")\n",
    "\n",
    "%timeit list(Batch.split(batch, 1, shuffle=False, merge_last=True))"
   ]
  },
  {
   "cell_type": "code",
   "execution_count": null,
   "id": "2539fbd9",
   "metadata": {},
   "outputs": [],
   "source": []
  }
 ],
 "metadata": {
  "kernelspec": {
   "display_name": "Python 3 (ipykernel)",
   "language": "python",
   "name": "python3"
  },
  "language_info": {
   "codemirror_mode": {
    "name": "ipython",
    "version": 3
   },
   "file_extension": ".py",
   "mimetype": "text/x-python",
   "name": "python",
   "nbconvert_exporter": "python",
   "pygments_lexer": "ipython3",
   "version": "3.8.16"
  }
 },
 "nbformat": 4,
 "nbformat_minor": 5
}
