{
 "cells": [
  {
   "cell_type": "markdown",
   "metadata": {
    "collapsed": false,
    "pycharm": {
     "name": "#%% md\n"
    }
   },
   "source": [
    "# Comparison Between TreeValue and DM-Tree"
   ]
  },
  {
   "cell_type": "markdown",
   "metadata": {
    "collapsed": false,
    "pycharm": {
     "name": "#%% md\n"
    }
   },
   "source": [
    "In this section, we will compare the feature and performance of the [dm-tree](https://github.com/deepmind/tree) library, which is developed by deepmind."
   ]
  },
  {
   "cell_type": "markdown",
   "metadata": {
    "collapsed": false,
    "pycharm": {
     "name": "#%% md\n"
    }
   },
   "source": [
    "Before starting the comparison, let us define some thing."
   ]
  },
  {
   "cell_type": "code",
   "execution_count": 1,
   "metadata": {
    "execution": {
     "iopub.execute_input": "2023-02-25T08:02:55.929951Z",
     "iopub.status.busy": "2023-02-25T08:02:55.929249Z",
     "iopub.status.idle": "2023-02-25T08:02:55.938803Z",
     "shell.execute_reply": "2023-02-25T08:02:55.938075Z"
    },
    "pycharm": {
     "name": "#%%\n"
    }
   },
   "outputs": [],
   "source": [
    "origin = {'a': 1, 'b': 2, 'c': {'x': 3, 'y': 4}}"
   ]
  },
  {
   "cell_type": "markdown",
   "metadata": {
    "collapsed": false,
    "pycharm": {
     "name": "#%% md\n"
    }
   },
   "source": [
    "## Mapping Operation"
   ]
  },
  {
   "cell_type": "markdown",
   "metadata": {
    "collapsed": false,
    "pycharm": {
     "name": "#%% md\n"
    }
   },
   "source": [
    "Mapping operation is quite common in the processing of trees. A mapping function should be provided to create a new tree based on the mapped tree."
   ]
  },
  {
   "cell_type": "markdown",
   "metadata": {
    "collapsed": false,
    "pycharm": {
     "name": "#%% md\n"
    }
   },
   "source": [
    "### TreeValue's mapping"
   ]
  },
  {
   "cell_type": "markdown",
   "metadata": {
    "collapsed": false,
    "pycharm": {
     "name": "#%% md\n"
    }
   },
   "source": [
    "In TreeValue, mapping is provided to simply create a new tree."
   ]
  },
  {
   "cell_type": "code",
   "execution_count": 2,
   "metadata": {
    "execution": {
     "iopub.execute_input": "2023-02-25T08:02:55.942220Z",
     "iopub.status.busy": "2023-02-25T08:02:55.941723Z",
     "iopub.status.idle": "2023-02-25T08:02:55.996057Z",
     "shell.execute_reply": "2023-02-25T08:02:55.994916Z"
    },
    "pycharm": {
     "name": "#%%\n"
    }
   },
   "outputs": [
    {
     "data": {
      "text/plain": [
       "<FastTreeValue 0x7f0f6449a490>\n",
       "├── 'a' --> 1\n",
       "├── 'b' --> 2\n",
       "└── 'c' --> <FastTreeValue 0x7f0f6449a8b0>\n",
       "    ├── 'x' --> 3\n",
       "    └── 'y' --> 4"
      ]
     },
     "execution_count": 2,
     "metadata": {},
     "output_type": "execute_result"
    }
   ],
   "source": [
    "from treevalue import FastTreeValue, mapping\n",
    "\n",
    "tv = FastTreeValue(origin)\n",
    "tv"
   ]
  },
  {
   "cell_type": "code",
   "execution_count": 3,
   "metadata": {
    "execution": {
     "iopub.execute_input": "2023-02-25T08:02:56.048662Z",
     "iopub.status.busy": "2023-02-25T08:02:56.047633Z",
     "iopub.status.idle": "2023-02-25T08:02:56.054630Z",
     "shell.execute_reply": "2023-02-25T08:02:56.053739Z"
    },
    "pycharm": {
     "name": "#%%\n"
    }
   },
   "outputs": [
    {
     "data": {
      "text/plain": [
       "<FastTreeValue 0x7f0f64130e80>\n",
       "├── 'a' --> 2\n",
       "├── 'b' --> 4\n",
       "└── 'c' --> <FastTreeValue 0x7f0f64130190>\n",
       "    ├── 'x' --> 6\n",
       "    └── 'y' --> 8"
      ]
     },
     "execution_count": 3,
     "metadata": {},
     "output_type": "execute_result"
    }
   ],
   "source": [
    "mapping(tv, lambda x: x * 2)"
   ]
  },
  {
   "cell_type": "markdown",
   "metadata": {
    "collapsed": false,
    "pycharm": {
     "name": "#%% md\n"
    }
   },
   "source": [
    "Here is the performance test."
   ]
  },
  {
   "cell_type": "code",
   "execution_count": 4,
   "metadata": {
    "execution": {
     "iopub.execute_input": "2023-02-25T08:02:56.057964Z",
     "iopub.status.busy": "2023-02-25T08:02:56.057294Z",
     "iopub.status.idle": "2023-02-25T08:02:58.201915Z",
     "shell.execute_reply": "2023-02-25T08:02:58.200603Z"
    },
    "pycharm": {
     "name": "#%%\n"
    }
   },
   "outputs": [
    {
     "name": "stdout",
     "output_type": "stream",
     "text": [
      "2.63 µs ± 104 ns per loop (mean ± std. dev. of 7 runs, 100,000 loops each)\n"
     ]
    }
   ],
   "source": [
    "%timeit mapping(tv, lambda x: x * 2)"
   ]
  },
  {
   "cell_type": "markdown",
   "metadata": {
    "collapsed": false,
    "pycharm": {
     "name": "#%% md\n"
    }
   },
   "source": [
    "In order to support the cased that the mapped value is related to both path and value of each node, we can use the 'path mapping mode' by simply use the second parameter of the mapping function."
   ]
  },
  {
   "cell_type": "code",
   "execution_count": 5,
   "metadata": {
    "execution": {
     "iopub.execute_input": "2023-02-25T08:02:58.205698Z",
     "iopub.status.busy": "2023-02-25T08:02:58.205259Z",
     "iopub.status.idle": "2023-02-25T08:02:58.212902Z",
     "shell.execute_reply": "2023-02-25T08:02:58.212196Z"
    },
    "pycharm": {
     "name": "#%%\n"
    }
   },
   "outputs": [
    {
     "data": {
      "text/plain": [
       "<FastTreeValue 0x7f0f6449a340>\n",
       "├── 'a' --> ('path', ('a',), 'value', 1)\n",
       "├── 'b' --> ('path', ('b',), 'value', 2)\n",
       "└── 'c' --> <FastTreeValue 0x7f0f6449aa90>\n",
       "    ├── 'x' --> ('path', ('c', 'x'), 'value', 3)\n",
       "    └── 'y' --> ('path', ('c', 'y'), 'value', 4)"
      ]
     },
     "execution_count": 5,
     "metadata": {},
     "output_type": "execute_result"
    }
   ],
   "source": [
    "mapping(tv, lambda x, p: ('path', p, 'value', x))"
   ]
  },
  {
   "cell_type": "markdown",
   "metadata": {
    "collapsed": false,
    "pycharm": {
     "name": "#%% md\n"
    }
   },
   "source": [
    "And here is the performance"
   ]
  },
  {
   "cell_type": "code",
   "execution_count": 6,
   "metadata": {
    "execution": {
     "iopub.execute_input": "2023-02-25T08:02:58.216269Z",
     "iopub.status.busy": "2023-02-25T08:02:58.215581Z",
     "iopub.status.idle": "2023-02-25T08:03:00.414973Z",
     "shell.execute_reply": "2023-02-25T08:03:00.412881Z"
    },
    "pycharm": {
     "name": "#%%\n"
    }
   },
   "outputs": [
    {
     "name": "stdout",
     "output_type": "stream",
     "text": [
      "2.7 µs ± 28 ns per loop (mean ± std. dev. of 7 runs, 100,000 loops each)\n"
     ]
    }
   ],
   "source": [
    "%timeit mapping(tv, lambda x, p: ('path', p, 'value', x))"
   ]
  },
  {
   "cell_type": "markdown",
   "metadata": {
    "collapsed": false,
    "pycharm": {
     "name": "#%% md\n"
    }
   },
   "source": [
    "### DM-Tree's mapping"
   ]
  },
  {
   "cell_type": "markdown",
   "metadata": {
    "collapsed": false,
    "pycharm": {
     "name": "#%% md\n"
    }
   },
   "source": [
    "In DM-Tree, mapping operation is supported by [map_structure](https://tree.readthedocs.io/en/latest/api.html#tree.map_structure) function."
   ]
  },
  {
   "cell_type": "code",
   "execution_count": 7,
   "metadata": {
    "execution": {
     "iopub.execute_input": "2023-02-25T08:03:00.419506Z",
     "iopub.status.busy": "2023-02-25T08:03:00.418879Z",
     "iopub.status.idle": "2023-02-25T08:03:00.430701Z",
     "shell.execute_reply": "2023-02-25T08:03:00.429970Z"
    },
    "pycharm": {
     "name": "#%%\n"
    }
   },
   "outputs": [],
   "source": [
    "from tree import map_structure"
   ]
  },
  {
   "cell_type": "code",
   "execution_count": 8,
   "metadata": {
    "execution": {
     "iopub.execute_input": "2023-02-25T08:03:00.433804Z",
     "iopub.status.busy": "2023-02-25T08:03:00.433293Z",
     "iopub.status.idle": "2023-02-25T08:03:00.440098Z",
     "shell.execute_reply": "2023-02-25T08:03:00.439247Z"
    },
    "pycharm": {
     "name": "#%%\n"
    }
   },
   "outputs": [
    {
     "data": {
      "text/plain": [
       "{'a': 2, 'b': 4, 'c': {'x': 6, 'y': 8}}"
      ]
     },
     "execution_count": 8,
     "metadata": {},
     "output_type": "execute_result"
    }
   ],
   "source": [
    "map_structure(lambda x: x * 2, origin)"
   ]
  },
  {
   "cell_type": "markdown",
   "metadata": {
    "collapsed": false,
    "pycharm": {
     "name": "#%% md\n"
    }
   },
   "source": [
    "This is the performance of `map_structure`, obviously much slower than `mapping` in TreeValue."
   ]
  },
  {
   "cell_type": "code",
   "execution_count": 9,
   "metadata": {
    "execution": {
     "iopub.execute_input": "2023-02-25T08:03:00.443395Z",
     "iopub.status.busy": "2023-02-25T08:03:00.442777Z",
     "iopub.status.idle": "2023-02-25T08:03:14.986913Z",
     "shell.execute_reply": "2023-02-25T08:03:14.985698Z"
    },
    "pycharm": {
     "name": "#%%\n"
    }
   },
   "outputs": [
    {
     "name": "stdout",
     "output_type": "stream",
     "text": [
      "17.9 µs ± 86.7 ns per loop (mean ± std. dev. of 7 runs, 100,000 loops each)\n"
     ]
    }
   ],
   "source": [
    "%timeit map_structure(lambda x: x * 2, origin)"
   ]
  },
  {
   "cell_type": "markdown",
   "metadata": {
    "collapsed": false,
    "pycharm": {
     "name": "#%% md\n"
    }
   },
   "source": [
    "To supported the second situation in the last section, [map_structure_with_path](https://tree.readthedocs.io/en/latest/api.html#tree.map_structure_with_path) can be used."
   ]
  },
  {
   "cell_type": "code",
   "execution_count": 10,
   "metadata": {
    "execution": {
     "iopub.execute_input": "2023-02-25T08:03:14.990723Z",
     "iopub.status.busy": "2023-02-25T08:03:14.990041Z",
     "iopub.status.idle": "2023-02-25T08:03:14.994822Z",
     "shell.execute_reply": "2023-02-25T08:03:14.994100Z"
    },
    "pycharm": {
     "name": "#%%\n"
    }
   },
   "outputs": [],
   "source": [
    "from tree import map_structure_with_path"
   ]
  },
  {
   "cell_type": "code",
   "execution_count": 11,
   "metadata": {
    "execution": {
     "iopub.execute_input": "2023-02-25T08:03:14.998081Z",
     "iopub.status.busy": "2023-02-25T08:03:14.997651Z",
     "iopub.status.idle": "2023-02-25T08:03:15.006530Z",
     "shell.execute_reply": "2023-02-25T08:03:15.004965Z"
    },
    "pycharm": {
     "name": "#%%\n"
    }
   },
   "outputs": [
    {
     "data": {
      "text/plain": [
       "{'a': ('path', ('a',), 'value', 1),\n",
       " 'b': ('path', ('b',), 'value', 2),\n",
       " 'c': {'x': ('path', ('c', 'x'), 'value', 3),\n",
       "  'y': ('path', ('c', 'y'), 'value', 4)}}"
      ]
     },
     "execution_count": 11,
     "metadata": {},
     "output_type": "execute_result"
    }
   ],
   "source": [
    "map_structure_with_path(lambda path, x: ('path', path, 'value', x), origin)"
   ]
  },
  {
   "cell_type": "markdown",
   "metadata": {
    "collapsed": false,
    "pycharm": {
     "name": "#%% md\n"
    }
   },
   "source": [
    "Here is the performance."
   ]
  },
  {
   "cell_type": "code",
   "execution_count": 12,
   "metadata": {
    "execution": {
     "iopub.execute_input": "2023-02-25T08:03:15.009832Z",
     "iopub.status.busy": "2023-02-25T08:03:15.009487Z",
     "iopub.status.idle": "2023-02-25T08:03:18.147014Z",
     "shell.execute_reply": "2023-02-25T08:03:18.145836Z"
    },
    "pycharm": {
     "name": "#%%\n"
    }
   },
   "outputs": [
    {
     "name": "stdout",
     "output_type": "stream",
     "text": [
      "38.6 µs ± 576 ns per loop (mean ± std. dev. of 7 runs, 10,000 loops each)\n"
     ]
    }
   ],
   "source": [
    "%timeit map_structure_with_path(lambda path, x: ('path', path, 'value', x), origin)"
   ]
  },
  {
   "cell_type": "markdown",
   "metadata": {
    "collapsed": false,
    "pycharm": {
     "name": "#%% md\n"
    }
   },
   "source": [
    "## Flatten and Unflatten"
   ]
  },
  {
   "cell_type": "markdown",
   "metadata": {
    "collapsed": false,
    "pycharm": {
     "name": "#%% md\n"
    }
   },
   "source": [
    "In tree operations, flatten is often used to linearly expand the tree structure for operations such as parallel processing. Based on flatten, unflatten is its inverse operation, which can recover the tree structure from the linear data."
   ]
  },
  {
   "cell_type": "markdown",
   "metadata": {
    "collapsed": false,
    "pycharm": {
     "name": "#%% md\n"
    }
   },
   "source": [
    "### TreeValue's Performance"
   ]
  },
  {
   "cell_type": "markdown",
   "metadata": {
    "collapsed": false,
    "pycharm": {
     "name": "#%% md\n"
    }
   },
   "source": [
    "In TreeValue, flatten and unflatten are provided, which usage are simple."
   ]
  },
  {
   "cell_type": "code",
   "execution_count": 13,
   "metadata": {
    "execution": {
     "iopub.execute_input": "2023-02-25T08:03:18.150784Z",
     "iopub.status.busy": "2023-02-25T08:03:18.150247Z",
     "iopub.status.idle": "2023-02-25T08:03:18.156219Z",
     "shell.execute_reply": "2023-02-25T08:03:18.155374Z"
    },
    "pycharm": {
     "name": "#%%\n"
    }
   },
   "outputs": [
    {
     "data": {
      "text/plain": [
       "<FastTreeValue 0x7f0f6449a310>\n",
       "├── 'a' --> 1\n",
       "├── 'b' --> 2\n",
       "└── 'c' --> <FastTreeValue 0x7f0f6449a820>\n",
       "    ├── 'x' --> 3\n",
       "    └── 'y' --> 4"
      ]
     },
     "execution_count": 13,
     "metadata": {},
     "output_type": "execute_result"
    }
   ],
   "source": [
    "from treevalue import FastTreeValue, flatten, unflatten\n",
    "\n",
    "origin_tree = FastTreeValue(origin)\n",
    "origin_tree"
   ]
  },
  {
   "cell_type": "code",
   "execution_count": 14,
   "metadata": {
    "execution": {
     "iopub.execute_input": "2023-02-25T08:03:18.159727Z",
     "iopub.status.busy": "2023-02-25T08:03:18.159314Z",
     "iopub.status.idle": "2023-02-25T08:03:18.164649Z",
     "shell.execute_reply": "2023-02-25T08:03:18.163852Z"
    },
    "pycharm": {
     "name": "#%%\n"
    }
   },
   "outputs": [
    {
     "data": {
      "text/plain": [
       "[(('a',), 1), (('b',), 2), (('c', 'x'), 3), (('c', 'y'), 4)]"
      ]
     },
     "execution_count": 14,
     "metadata": {},
     "output_type": "execute_result"
    }
   ],
   "source": [
    "flatted = flatten(origin_tree)\n",
    "flatted"
   ]
  },
  {
   "cell_type": "markdown",
   "metadata": {
    "collapsed": false,
    "pycharm": {
     "name": "#%% md\n"
    }
   },
   "source": [
    "Here is the performance of `flatten`"
   ]
  },
  {
   "cell_type": "code",
   "execution_count": 15,
   "metadata": {
    "execution": {
     "iopub.execute_input": "2023-02-25T08:03:18.167825Z",
     "iopub.status.busy": "2023-02-25T08:03:18.167445Z",
     "iopub.status.idle": "2023-02-25T08:03:25.126288Z",
     "shell.execute_reply": "2023-02-25T08:03:25.125008Z"
    },
    "pycharm": {
     "name": "#%%\n"
    }
   },
   "outputs": [
    {
     "name": "stdout",
     "output_type": "stream",
     "text": [
      "860 ns ± 6.06 ns per loop (mean ± std. dev. of 7 runs, 1,000,000 loops each)\n"
     ]
    }
   ],
   "source": [
    "%timeit flatten(origin_tree)"
   ]
  },
  {
   "cell_type": "markdown",
   "metadata": {
    "collapsed": false,
    "pycharm": {
     "name": "#%% md\n"
    }
   },
   "source": [
    "The tree can be re-created from `flatted` with function `unflatten`."
   ]
  },
  {
   "cell_type": "code",
   "execution_count": 16,
   "metadata": {
    "execution": {
     "iopub.execute_input": "2023-02-25T08:03:25.130311Z",
     "iopub.status.busy": "2023-02-25T08:03:25.129732Z",
     "iopub.status.idle": "2023-02-25T08:03:25.135295Z",
     "shell.execute_reply": "2023-02-25T08:03:25.134484Z"
    },
    "pycharm": {
     "name": "#%%\n"
    }
   },
   "outputs": [
    {
     "data": {
      "text/plain": [
       "<TreeValue 0x7f0f64161160>\n",
       "├── 'a' --> 1\n",
       "├── 'b' --> 2\n",
       "└── 'c' --> <TreeValue 0x7f0f64161430>\n",
       "    ├── 'x' --> 3\n",
       "    └── 'y' --> 4"
      ]
     },
     "execution_count": 16,
     "metadata": {},
     "output_type": "execute_result"
    }
   ],
   "source": [
    "unflatten(flatted)"
   ]
  },
  {
   "cell_type": "markdown",
   "metadata": {
    "collapsed": false,
    "pycharm": {
     "name": "#%% md\n"
    }
   },
   "source": [
    "And here is the performance."
   ]
  },
  {
   "cell_type": "code",
   "execution_count": 17,
   "metadata": {
    "execution": {
     "iopub.execute_input": "2023-02-25T08:03:25.138858Z",
     "iopub.status.busy": "2023-02-25T08:03:25.138438Z",
     "iopub.status.idle": "2023-02-25T08:03:32.708248Z",
     "shell.execute_reply": "2023-02-25T08:03:32.706721Z"
    },
    "pycharm": {
     "name": "#%%\n"
    }
   },
   "outputs": [
    {
     "name": "stdout",
     "output_type": "stream",
     "text": [
      "926 ns ± 9.77 ns per loop (mean ± std. dev. of 7 runs, 1,000,000 loops each)\n"
     ]
    }
   ],
   "source": [
    "%timeit unflatten(flatted)"
   ]
  },
  {
   "cell_type": "markdown",
   "metadata": {
    "collapsed": false,
    "pycharm": {
     "name": "#%% md\n"
    }
   },
   "source": [
    "### DM-Tree's Performance"
   ]
  },
  {
   "cell_type": "markdown",
   "metadata": {
    "collapsed": false,
    "pycharm": {
     "name": "#%% md\n"
    }
   },
   "source": [
    "[Flatten](https://tree.readthedocs.io/en/latest/api.html#tree.flatten) is provided in DM-Tree as well, but it differs from that in TreeValue, as the following"
   ]
  },
  {
   "cell_type": "code",
   "execution_count": 18,
   "metadata": {
    "execution": {
     "iopub.execute_input": "2023-02-25T08:03:32.711691Z",
     "iopub.status.busy": "2023-02-25T08:03:32.711218Z",
     "iopub.status.idle": "2023-02-25T08:03:32.718413Z",
     "shell.execute_reply": "2023-02-25T08:03:32.717703Z"
    },
    "pycharm": {
     "name": "#%%\n"
    }
   },
   "outputs": [
    {
     "data": {
      "text/plain": [
       "[1, 2, 3, 4]"
      ]
     },
     "execution_count": 18,
     "metadata": {},
     "output_type": "execute_result"
    }
   ],
   "source": [
    "from tree import flatten\n",
    "\n",
    "flatten(origin)"
   ]
  },
  {
   "cell_type": "markdown",
   "metadata": {
    "collapsed": false,
    "pycharm": {
     "name": "#%% md\n"
    }
   },
   "source": [
    "Here is the performance"
   ]
  },
  {
   "cell_type": "code",
   "execution_count": 19,
   "metadata": {
    "execution": {
     "iopub.execute_input": "2023-02-25T08:03:32.721821Z",
     "iopub.status.busy": "2023-02-25T08:03:32.721222Z",
     "iopub.status.idle": "2023-02-25T08:03:42.828202Z",
     "shell.execute_reply": "2023-02-25T08:03:42.826923Z"
    },
    "pycharm": {
     "name": "#%%\n"
    }
   },
   "outputs": [
    {
     "name": "stdout",
     "output_type": "stream",
     "text": [
      "1.24 µs ± 7.67 ns per loop (mean ± std. dev. of 7 runs, 1,000,000 loops each)\n"
     ]
    }
   ],
   "source": [
    "%timeit flatten(origin)"
   ]
  },
  {
   "cell_type": "markdown",
   "metadata": {
    "collapsed": false,
    "pycharm": {
     "name": "#%% md\n"
    }
   },
   "source": [
    "The structure of the tree is dropped, only the data is extracted from the tree. This means the `flatten` function in DM-Tree is irreversible, we can not recover the original tree with the result above."
   ]
  },
  {
   "cell_type": "markdown",
   "metadata": {
    "collapsed": false,
    "pycharm": {
     "name": "#%% md\n"
    }
   },
   "source": [
    "The reversible resolution provided in DM-Tree is [flatten_with_path](https://tree.readthedocs.io/en/latest/api.html#tree.flatten_with_path)"
   ]
  },
  {
   "cell_type": "code",
   "execution_count": 20,
   "metadata": {
    "execution": {
     "iopub.execute_input": "2023-02-25T08:03:42.831783Z",
     "iopub.status.busy": "2023-02-25T08:03:42.831358Z",
     "iopub.status.idle": "2023-02-25T08:03:42.838985Z",
     "shell.execute_reply": "2023-02-25T08:03:42.837853Z"
    },
    "pycharm": {
     "name": "#%%\n"
    }
   },
   "outputs": [
    {
     "data": {
      "text/plain": [
       "[(('a',), 1), (('b',), 2), (('c', 'x'), 3), (('c', 'y'), 4)]"
      ]
     },
     "execution_count": 20,
     "metadata": {},
     "output_type": "execute_result"
    }
   ],
   "source": [
    "from tree import flatten_with_path\n",
    "\n",
    "flatten_with_path(origin)"
   ]
  },
  {
   "cell_type": "markdown",
   "metadata": {
    "collapsed": false,
    "pycharm": {
     "name": "#%% md\n"
    }
   },
   "source": [
    "Here is the performance, much slower than `flatten` in TreeValue."
   ]
  },
  {
   "cell_type": "code",
   "execution_count": 21,
   "metadata": {
    "execution": {
     "iopub.execute_input": "2023-02-25T08:03:42.842095Z",
     "iopub.status.busy": "2023-02-25T08:03:42.841628Z",
     "iopub.status.idle": "2023-02-25T08:03:57.661586Z",
     "shell.execute_reply": "2023-02-25T08:03:57.660389Z"
    },
    "pycharm": {
     "name": "#%%\n"
    }
   },
   "outputs": [
    {
     "name": "stdout",
     "output_type": "stream",
     "text": [
      "18.2 µs ± 309 ns per loop (mean ± std. dev. of 7 runs, 100,000 loops each)\n"
     ]
    }
   ],
   "source": [
    "%timeit flatten_with_path(origin)"
   ]
  },
  {
   "cell_type": "markdown",
   "metadata": {
    "collapsed": false,
    "pycharm": {
     "name": "#%% md\n"
    }
   },
   "source": [
    "To re-create the original tree, we need a tree structure with any objects filled inside. Use the [unflatten_as](https://tree.readthedocs.io/en/latest/api.html#tree.unflatten_as) to archive this goal."
   ]
  },
  {
   "cell_type": "code",
   "execution_count": 22,
   "metadata": {
    "execution": {
     "iopub.execute_input": "2023-02-25T08:03:57.666131Z",
     "iopub.status.busy": "2023-02-25T08:03:57.665575Z",
     "iopub.status.idle": "2023-02-25T08:03:57.675290Z",
     "shell.execute_reply": "2023-02-25T08:03:57.674568Z"
    },
    "pycharm": {
     "name": "#%%\n"
    }
   },
   "outputs": [
    {
     "data": {
      "text/plain": [
       "{'a': 1, 'b': 2, 'c': {'x': 3, 'y': 4}}"
      ]
     },
     "execution_count": 22,
     "metadata": {},
     "output_type": "execute_result"
    }
   ],
   "source": [
    "from tree import unflatten_as\n",
    "\n",
    "unflatten_as({'a': None, 'b': None, 'c': {'x': None, 'y': None}}, [1, 2, 3, 4])"
   ]
  },
  {
   "cell_type": "markdown",
   "metadata": {
    "collapsed": false,
    "pycharm": {
     "name": "#%% md\n"
    }
   },
   "source": [
    "Here is the performance."
   ]
  },
  {
   "cell_type": "code",
   "execution_count": 23,
   "metadata": {
    "execution": {
     "iopub.execute_input": "2023-02-25T08:03:57.678285Z",
     "iopub.status.busy": "2023-02-25T08:03:57.677871Z",
     "iopub.status.idle": "2023-02-25T08:04:09.306452Z",
     "shell.execute_reply": "2023-02-25T08:04:09.305211Z"
    },
    "pycharm": {
     "name": "#%%\n"
    }
   },
   "outputs": [
    {
     "name": "stdout",
     "output_type": "stream",
     "text": [
      "14.3 µs ± 40.9 ns per loop (mean ± std. dev. of 7 runs, 100,000 loops each)\n"
     ]
    }
   ],
   "source": [
    "%timeit unflatten_as({'a': None, 'b': None, 'c': {'x': None, 'y': None}}, [1, 2, 3, 4])"
   ]
  },
  {
   "cell_type": "markdown",
   "metadata": {
    "collapsed": false,
    "pycharm": {
     "name": "#%% md\n"
    }
   },
   "source": [
    "### Positional Replacement"
   ]
  },
  {
   "cell_type": "markdown",
   "metadata": {
    "collapsed": false,
    "pycharm": {
     "name": "#%% md\n"
    }
   },
   "source": [
    "It is obvious that the `unflatten_as` in DM-Tree is quite different from `unflatten` in TreeValue, for the former one is `replacing` and the latter one is `constructing`. This means the `unflatten_as` in DM-Tree may supported some more features, such as creating a new tree with another tree's structure and the given values. So we need an experiment on this, called 'positional replacement'."
   ]
  },
  {
   "cell_type": "markdown",
   "metadata": {
    "collapsed": false,
    "pycharm": {
     "name": "#%% md\n"
    }
   },
   "source": [
    "First, in TreeValue, we can build a function named `replace` to realize this."
   ]
  },
  {
   "cell_type": "code",
   "execution_count": 24,
   "metadata": {
    "execution": {
     "iopub.execute_input": "2023-02-25T08:04:09.311153Z",
     "iopub.status.busy": "2023-02-25T08:04:09.310330Z",
     "iopub.status.idle": "2023-02-25T08:04:09.317047Z",
     "shell.execute_reply": "2023-02-25T08:04:09.316131Z"
    },
    "pycharm": {
     "name": "#%%\n"
    }
   },
   "outputs": [],
   "source": [
    "from treevalue import flatten, unflatten\n",
    "\n",
    "def replace(t, v):\n",
    "    pairs = flatten(t)\n",
    "    return unflatten([(path, vi) for (path, _), vi in zip(pairs, v)])"
   ]
  },
  {
   "cell_type": "markdown",
   "metadata": {
    "collapsed": false,
    "pycharm": {
     "name": "#%% md\n"
    }
   },
   "source": [
    "Create a new tree based on `origin_tree`'s structure and new values."
   ]
  },
  {
   "cell_type": "code",
   "execution_count": 25,
   "metadata": {
    "execution": {
     "iopub.execute_input": "2023-02-25T08:04:09.320374Z",
     "iopub.status.busy": "2023-02-25T08:04:09.319679Z",
     "iopub.status.idle": "2023-02-25T08:04:09.326984Z",
     "shell.execute_reply": "2023-02-25T08:04:09.325885Z"
    },
    "pycharm": {
     "name": "#%%\n"
    }
   },
   "outputs": [
    {
     "data": {
      "text/plain": [
       "<TreeValue 0x7f0f64138eb0>\n",
       "├── 'a' --> 3\n",
       "├── 'b' --> 5\n",
       "└── 'c' --> <TreeValue 0x7f0f64138cd0>\n",
       "    ├── 'x' --> 7\n",
       "    └── 'y' --> 9"
      ]
     },
     "execution_count": 25,
     "metadata": {},
     "output_type": "execute_result"
    }
   ],
   "source": [
    "replace(origin_tree, [3, 5, 7, 9])"
   ]
  },
  {
   "cell_type": "markdown",
   "metadata": {
    "collapsed": false,
    "pycharm": {
     "name": "#%% md\n"
    }
   },
   "source": [
    "Here is the performance."
   ]
  },
  {
   "cell_type": "code",
   "execution_count": 26,
   "metadata": {
    "execution": {
     "iopub.execute_input": "2023-02-25T08:04:09.330327Z",
     "iopub.status.busy": "2023-02-25T08:04:09.329734Z",
     "iopub.status.idle": "2023-02-25T08:04:11.501478Z",
     "shell.execute_reply": "2023-02-25T08:04:11.499701Z"
    },
    "pycharm": {
     "name": "#%%\n"
    }
   },
   "outputs": [
    {
     "name": "stdout",
     "output_type": "stream",
     "text": [
      "2.66 µs ± 19.3 ns per loop (mean ± std. dev. of 7 runs, 100,000 loops each)\n"
     ]
    }
   ],
   "source": [
    "%timeit replace(origin_tree, [3, 5, 7, 9])"
   ]
  },
  {
   "cell_type": "markdown",
   "metadata": {
    "collapsed": false,
    "pycharm": {
     "name": "#%% md\n"
    }
   },
   "source": [
    "In DM-Tree, `unflatten_as` can be directly used."
   ]
  },
  {
   "cell_type": "code",
   "execution_count": 27,
   "metadata": {
    "execution": {
     "iopub.execute_input": "2023-02-25T08:04:11.505476Z",
     "iopub.status.busy": "2023-02-25T08:04:11.504824Z",
     "iopub.status.idle": "2023-02-25T08:04:11.510359Z",
     "shell.execute_reply": "2023-02-25T08:04:11.509648Z"
    },
    "pycharm": {
     "name": "#%%\n"
    }
   },
   "outputs": [
    {
     "data": {
      "text/plain": [
       "{'a': 3, 'b': 5, 'c': {'x': 7, 'y': 9}}"
      ]
     },
     "execution_count": 27,
     "metadata": {},
     "output_type": "execute_result"
    }
   ],
   "source": [
    "from tree import unflatten_as\n",
    "\n",
    "unflatten_as(origin, [3, 5, 7, 9])"
   ]
  },
  {
   "cell_type": "markdown",
   "metadata": {
    "collapsed": false,
    "pycharm": {
     "name": "#%% md\n"
    }
   },
   "source": [
    "Here is the performance, even much slower than the `replace` function for integration."
   ]
  },
  {
   "cell_type": "code",
   "execution_count": 28,
   "metadata": {
    "execution": {
     "iopub.execute_input": "2023-02-25T08:04:11.513343Z",
     "iopub.status.busy": "2023-02-25T08:04:11.512748Z",
     "iopub.status.idle": "2023-02-25T08:04:23.070485Z",
     "shell.execute_reply": "2023-02-25T08:04:23.069671Z"
    },
    "pycharm": {
     "name": "#%%\n"
    }
   },
   "outputs": [
    {
     "name": "stdout",
     "output_type": "stream",
     "text": [
      "14.2 µs ± 116 ns per loop (mean ± std. dev. of 7 runs, 100,000 loops each)\n"
     ]
    }
   ],
   "source": [
    "%timeit unflatten_as(origin, [3, 5, 7, 9])"
   ]
  },
  {
   "cell_type": "markdown",
   "metadata": {
    "collapsed": false,
    "pycharm": {
     "name": "#%% md\n"
    }
   },
   "source": [
    "## Conclusion"
   ]
  },
  {
   "cell_type": "markdown",
   "metadata": {
    "collapsed": false,
    "pycharm": {
     "name": "#%% md\n"
    }
   },
   "source": [
    "The mapping operation is supported by both library, and `mapping` in TreeValue's performance is significantly higher than the `map_structure` and `map_structure_with_path` in DM-Tree."
   ]
  },
  {
   "cell_type": "markdown",
   "metadata": {
    "collapsed": false,
    "pycharm": {
     "name": "#%% md\n"
    }
   },
   "source": [
    "The `flatten` and `unflatten` in TreeValue is reversible, but in DM-Tree not. DM-Tree's performance on flatten and unflatten operation is lower than that in TreeValue in all aspects."
   ]
  }
 ],
 "metadata": {
  "kernelspec": {
   "display_name": "Python 3",
   "language": "python",
   "name": "python3"
  },
  "language_info": {
   "codemirror_mode": {
    "name": "ipython",
    "version": 3
   },
   "file_extension": ".py",
   "mimetype": "text/x-python",
   "name": "python",
   "nbconvert_exporter": "python",
   "pygments_lexer": "ipython3",
   "version": "3.8.16"
  }
 },
 "nbformat": 4,
 "nbformat_minor": 0
}
