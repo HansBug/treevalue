{
 "cells": [
  {
   "cell_type": "markdown",
   "id": "9d39d946",
   "metadata": {},
   "source": [
    "# Comparison Between TreeValue and Tianshou Batch"
   ]
  },
  {
   "cell_type": "markdown",
   "id": "3c6db2d4",
   "metadata": {},
   "source": [
    "In this section, we will take a look at the feature and performance of the [Tianshou Batch](https://github.com/thu-ml/tianshou) library, which is developed by Tsinghua Machine Learning Group."
   ]
  },
  {
   "cell_type": "markdown",
   "id": "069361b0",
   "metadata": {},
   "source": [
    "Before starting the comparison, let us define some thing."
   ]
  },
  {
   "cell_type": "code",
   "execution_count": 1,
   "id": "06fc8d26",
   "metadata": {
    "execution": {
     "iopub.execute_input": "2023-03-16T09:26:28.014608Z",
     "iopub.status.busy": "2023-03-16T09:26:28.014065Z",
     "iopub.status.idle": "2023-03-16T09:26:29.351630Z",
     "shell.execute_reply": "2023-03-16T09:26:29.350908Z"
    }
   },
   "outputs": [],
   "source": [
    "import torch \n",
    "\n",
    "_TREE_DATA_1 = {'a': 1, 'b': 2, 'x': {'c': 3, 'd': 4}}\n",
    "_TREE_DATA_2 = {\n",
    "    'a': torch.randn(2, 3), \n",
    "    'x': {\n",
    "        'c': torch.randn(3, 4)\n",
    "    },\n",
    "}\n",
    "_TREE_DATA_3 = {\n",
    "    'obs': torch.randn(4, 84, 84),\n",
    "    'action': torch.randint(0, 6, size=(1,)),\n",
    "    'reward': torch.rand(1),\n",
    "}"
   ]
  },
  {
   "cell_type": "markdown",
   "id": "83461b25",
   "metadata": {},
   "source": [
    "## Read and Write Operation"
   ]
  },
  {
   "cell_type": "markdown",
   "id": "067b3f73",
   "metadata": {},
   "source": [
    "Reading and writing are the two most common operations in the tree data structure based on the data model (TreeValue and Tianshou Batch both belong to this type), so this section will compare the reading and writing performance of these two libraries."
   ]
  },
  {
   "cell_type": "markdown",
   "id": "5d09a5b7",
   "metadata": {},
   "source": [
    "### TreeValue's Get and Set"
   ]
  },
  {
   "cell_type": "code",
   "execution_count": 2,
   "id": "9519c4bb",
   "metadata": {
    "execution": {
     "iopub.execute_input": "2023-03-16T09:26:29.355218Z",
     "iopub.status.busy": "2023-03-16T09:26:29.354568Z",
     "iopub.status.idle": "2023-03-16T09:26:29.382671Z",
     "shell.execute_reply": "2023-03-16T09:26:29.382042Z"
    }
   },
   "outputs": [],
   "source": [
    "from treevalue import FastTreeValue\n",
    "\n",
    "t = FastTreeValue(_TREE_DATA_2)"
   ]
  },
  {
   "cell_type": "code",
   "execution_count": 3,
   "id": "11c37677",
   "metadata": {
    "execution": {
     "iopub.execute_input": "2023-03-16T09:26:29.385763Z",
     "iopub.status.busy": "2023-03-16T09:26:29.385226Z",
     "iopub.status.idle": "2023-03-16T09:26:29.395078Z",
     "shell.execute_reply": "2023-03-16T09:26:29.394464Z"
    }
   },
   "outputs": [
    {
     "data": {
      "text/plain": [
       "<FastTreeValue 0x7f5b51564e20>\n",
       "├── 'a' --> tensor([[-0.0465, -0.4072,  0.1912],\n",
       "│                   [-0.0665, -0.4711, -1.1107]])\n",
       "└── 'x' --> <FastTreeValue 0x7f5b51564fa0>\n",
       "    └── 'c' --> tensor([[ 0.0351,  0.3836, -0.9147,  0.0783],\n",
       "                        [ 0.0967,  0.3024,  0.9151, -0.4560],\n",
       "                        [-1.2462,  1.1966, -1.0155, -0.9412]])"
      ]
     },
     "execution_count": 3,
     "metadata": {},
     "output_type": "execute_result"
    }
   ],
   "source": [
    "t"
   ]
  },
  {
   "cell_type": "code",
   "execution_count": 4,
   "id": "fd70b0b9",
   "metadata": {
    "execution": {
     "iopub.execute_input": "2023-03-16T09:26:29.397899Z",
     "iopub.status.busy": "2023-03-16T09:26:29.397539Z",
     "iopub.status.idle": "2023-03-16T09:26:29.402251Z",
     "shell.execute_reply": "2023-03-16T09:26:29.401623Z"
    }
   },
   "outputs": [
    {
     "data": {
      "text/plain": [
       "tensor([[-0.0465, -0.4072,  0.1912],\n",
       "        [-0.0665, -0.4711, -1.1107]])"
      ]
     },
     "execution_count": 4,
     "metadata": {},
     "output_type": "execute_result"
    }
   ],
   "source": [
    "t.a"
   ]
  },
  {
   "cell_type": "code",
   "execution_count": 5,
   "id": "c18197bd",
   "metadata": {
    "execution": {
     "iopub.execute_input": "2023-03-16T09:26:29.404783Z",
     "iopub.status.busy": "2023-03-16T09:26:29.404451Z",
     "iopub.status.idle": "2023-03-16T09:26:34.561698Z",
     "shell.execute_reply": "2023-03-16T09:26:34.561094Z"
    }
   },
   "outputs": [
    {
     "name": "stdout",
     "output_type": "stream",
     "text": [
      "64 ns ± 0.0481 ns per loop (mean ± std. dev. of 7 runs, 10,000,000 loops each)\n"
     ]
    }
   ],
   "source": [
    "%timeit t.a"
   ]
  },
  {
   "cell_type": "code",
   "execution_count": 6,
   "id": "bd52f867",
   "metadata": {
    "execution": {
     "iopub.execute_input": "2023-03-16T09:26:34.564714Z",
     "iopub.status.busy": "2023-03-16T09:26:34.564146Z",
     "iopub.status.idle": "2023-03-16T09:26:34.570125Z",
     "shell.execute_reply": "2023-03-16T09:26:34.569492Z"
    }
   },
   "outputs": [
    {
     "data": {
      "text/plain": [
       "<FastTreeValue 0x7f5b51564e20>\n",
       "├── 'a' --> tensor([[1.4404, 1.0194, 0.7217],\n",
       "│                   [0.2605, 1.4276, 0.2351]])\n",
       "└── 'x' --> <FastTreeValue 0x7f5b51564fa0>\n",
       "    └── 'c' --> tensor([[ 0.0351,  0.3836, -0.9147,  0.0783],\n",
       "                        [ 0.0967,  0.3024,  0.9151, -0.4560],\n",
       "                        [-1.2462,  1.1966, -1.0155, -0.9412]])"
      ]
     },
     "execution_count": 6,
     "metadata": {},
     "output_type": "execute_result"
    }
   ],
   "source": [
    "new_value = torch.randn(2, 3)\n",
    "t.a = new_value\n",
    "\n",
    "t"
   ]
  },
  {
   "cell_type": "code",
   "execution_count": 7,
   "id": "bbe04d1c",
   "metadata": {
    "execution": {
     "iopub.execute_input": "2023-03-16T09:26:34.572790Z",
     "iopub.status.busy": "2023-03-16T09:26:34.572433Z",
     "iopub.status.idle": "2023-03-16T09:26:39.766394Z",
     "shell.execute_reply": "2023-03-16T09:26:39.765712Z"
    }
   },
   "outputs": [
    {
     "name": "stdout",
     "output_type": "stream",
     "text": [
      "64 ns ± 0.0734 ns per loop (mean ± std. dev. of 7 runs, 10,000,000 loops each)\n"
     ]
    }
   ],
   "source": [
    "%timeit t.a = new_value"
   ]
  },
  {
   "cell_type": "markdown",
   "id": "48c49731",
   "metadata": {},
   "source": [
    "### Tianshou Batch's Get and Set"
   ]
  },
  {
   "cell_type": "code",
   "execution_count": 8,
   "id": "f1bb14c1",
   "metadata": {
    "execution": {
     "iopub.execute_input": "2023-03-16T09:26:39.769640Z",
     "iopub.status.busy": "2023-03-16T09:26:39.769065Z",
     "iopub.status.idle": "2023-03-16T09:26:40.382403Z",
     "shell.execute_reply": "2023-03-16T09:26:40.381713Z"
    }
   },
   "outputs": [],
   "source": [
    "from tianshou.data import Batch\n",
    "\n",
    "b = Batch(**_TREE_DATA_2)"
   ]
  },
  {
   "cell_type": "code",
   "execution_count": 9,
   "id": "cb0777c3",
   "metadata": {
    "execution": {
     "iopub.execute_input": "2023-03-16T09:26:40.385854Z",
     "iopub.status.busy": "2023-03-16T09:26:40.385199Z",
     "iopub.status.idle": "2023-03-16T09:26:40.391589Z",
     "shell.execute_reply": "2023-03-16T09:26:40.390949Z"
    }
   },
   "outputs": [
    {
     "data": {
      "text/plain": [
       "Batch(\n",
       "    a: tensor([[-0.0465, -0.4072,  0.1912],\n",
       "               [-0.0665, -0.4711, -1.1107]]),\n",
       "    x: Batch(\n",
       "           c: tensor([[ 0.0351,  0.3836, -0.9147,  0.0783],\n",
       "                      [ 0.0967,  0.3024,  0.9151, -0.4560],\n",
       "                      [-1.2462,  1.1966, -1.0155, -0.9412]]),\n",
       "       ),\n",
       ")"
      ]
     },
     "execution_count": 9,
     "metadata": {},
     "output_type": "execute_result"
    }
   ],
   "source": [
    "b"
   ]
  },
  {
   "cell_type": "code",
   "execution_count": 10,
   "id": "43ef8ea3",
   "metadata": {
    "execution": {
     "iopub.execute_input": "2023-03-16T09:26:40.394098Z",
     "iopub.status.busy": "2023-03-16T09:26:40.393748Z",
     "iopub.status.idle": "2023-03-16T09:26:40.398626Z",
     "shell.execute_reply": "2023-03-16T09:26:40.398016Z"
    }
   },
   "outputs": [
    {
     "data": {
      "text/plain": [
       "tensor([[-0.0465, -0.4072,  0.1912],\n",
       "        [-0.0665, -0.4711, -1.1107]])"
      ]
     },
     "execution_count": 10,
     "metadata": {},
     "output_type": "execute_result"
    }
   ],
   "source": [
    "b.a"
   ]
  },
  {
   "cell_type": "code",
   "execution_count": 11,
   "id": "b785ab72",
   "metadata": {
    "execution": {
     "iopub.execute_input": "2023-03-16T09:26:40.401129Z",
     "iopub.status.busy": "2023-03-16T09:26:40.400778Z",
     "iopub.status.idle": "2023-03-16T09:26:44.928204Z",
     "shell.execute_reply": "2023-03-16T09:26:44.927441Z"
    }
   },
   "outputs": [
    {
     "name": "stdout",
     "output_type": "stream",
     "text": [
      "55.7 ns ± 0.05 ns per loop (mean ± std. dev. of 7 runs, 10,000,000 loops each)\n"
     ]
    }
   ],
   "source": [
    "%timeit b.a"
   ]
  },
  {
   "cell_type": "code",
   "execution_count": 12,
   "id": "ad54dc69",
   "metadata": {
    "execution": {
     "iopub.execute_input": "2023-03-16T09:26:44.930994Z",
     "iopub.status.busy": "2023-03-16T09:26:44.930618Z",
     "iopub.status.idle": "2023-03-16T09:26:44.937065Z",
     "shell.execute_reply": "2023-03-16T09:26:44.936476Z"
    }
   },
   "outputs": [
    {
     "data": {
      "text/plain": [
       "Batch(\n",
       "    a: tensor([[-0.7037, -1.3687, -0.1832],\n",
       "               [-1.3821, -0.7170,  0.8974]]),\n",
       "    x: Batch(\n",
       "           c: tensor([[ 0.0351,  0.3836, -0.9147,  0.0783],\n",
       "                      [ 0.0967,  0.3024,  0.9151, -0.4560],\n",
       "                      [-1.2462,  1.1966, -1.0155, -0.9412]]),\n",
       "       ),\n",
       ")"
      ]
     },
     "execution_count": 12,
     "metadata": {},
     "output_type": "execute_result"
    }
   ],
   "source": [
    "new_value = torch.randn(2, 3)\n",
    "b.a = new_value\n",
    "\n",
    "b"
   ]
  },
  {
   "cell_type": "code",
   "execution_count": 13,
   "id": "29b1d0bf",
   "metadata": {
    "execution": {
     "iopub.execute_input": "2023-03-16T09:26:44.939557Z",
     "iopub.status.busy": "2023-03-16T09:26:44.939199Z",
     "iopub.status.idle": "2023-03-16T09:26:48.922490Z",
     "shell.execute_reply": "2023-03-16T09:26:48.921765Z"
    }
   },
   "outputs": [
    {
     "name": "stdout",
     "output_type": "stream",
     "text": [
      "491 ns ± 1.09 ns per loop (mean ± std. dev. of 7 runs, 1,000,000 loops each)\n"
     ]
    }
   ],
   "source": [
    "%timeit b.a = new_value"
   ]
  },
  {
   "cell_type": "markdown",
   "id": "b61ad1d0",
   "metadata": {},
   "source": [
    "## Initialization"
   ]
  },
  {
   "cell_type": "markdown",
   "id": "d70f0d54",
   "metadata": {},
   "source": [
    "### TreeValue's Initialization"
   ]
  },
  {
   "cell_type": "code",
   "execution_count": 14,
   "id": "d32a679b",
   "metadata": {
    "execution": {
     "iopub.execute_input": "2023-03-16T09:26:48.925983Z",
     "iopub.status.busy": "2023-03-16T09:26:48.925331Z",
     "iopub.status.idle": "2023-03-16T09:26:56.047389Z",
     "shell.execute_reply": "2023-03-16T09:26:56.046703Z"
    }
   },
   "outputs": [
    {
     "name": "stdout",
     "output_type": "stream",
     "text": [
      "877 ns ± 0.249 ns per loop (mean ± std. dev. of 7 runs, 1,000,000 loops each)\n"
     ]
    }
   ],
   "source": [
    "%timeit FastTreeValue(_TREE_DATA_1)"
   ]
  },
  {
   "cell_type": "markdown",
   "id": "24f3707b",
   "metadata": {},
   "source": [
    "### Tianshou Batch's Initialization"
   ]
  },
  {
   "cell_type": "code",
   "execution_count": 15,
   "id": "ac3958df",
   "metadata": {
    "execution": {
     "iopub.execute_input": "2023-03-16T09:26:56.050774Z",
     "iopub.status.busy": "2023-03-16T09:26:56.050097Z",
     "iopub.status.idle": "2023-03-16T09:27:05.522465Z",
     "shell.execute_reply": "2023-03-16T09:27:05.521744Z"
    }
   },
   "outputs": [
    {
     "name": "stdout",
     "output_type": "stream",
     "text": [
      "11.7 µs ± 19.7 ns per loop (mean ± std. dev. of 7 runs, 100,000 loops each)\n"
     ]
    }
   ],
   "source": [
    "%timeit Batch(**_TREE_DATA_1)"
   ]
  },
  {
   "cell_type": "markdown",
   "id": "1ab82e2d",
   "metadata": {},
   "source": [
    "## Deep Copy Operation"
   ]
  },
  {
   "cell_type": "code",
   "execution_count": 16,
   "id": "210a9442",
   "metadata": {
    "execution": {
     "iopub.execute_input": "2023-03-16T09:27:05.525643Z",
     "iopub.status.busy": "2023-03-16T09:27:05.525261Z",
     "iopub.status.idle": "2023-03-16T09:27:05.529298Z",
     "shell.execute_reply": "2023-03-16T09:27:05.528706Z"
    }
   },
   "outputs": [],
   "source": [
    "import copy"
   ]
  },
  {
   "cell_type": "markdown",
   "id": "5a736274",
   "metadata": {},
   "source": [
    "### Deep Copy of TreeValue"
   ]
  },
  {
   "cell_type": "code",
   "execution_count": 17,
   "id": "f9bcadd6",
   "metadata": {
    "execution": {
     "iopub.execute_input": "2023-03-16T09:27:05.532146Z",
     "iopub.status.busy": "2023-03-16T09:27:05.531795Z",
     "iopub.status.idle": "2023-03-16T09:27:16.601232Z",
     "shell.execute_reply": "2023-03-16T09:27:16.600657Z"
    }
   },
   "outputs": [
    {
     "name": "stdout",
     "output_type": "stream",
     "text": [
      "136 µs ± 518 ns per loop (mean ± std. dev. of 7 runs, 10,000 loops each)\n"
     ]
    }
   ],
   "source": [
    "t3 = FastTreeValue(_TREE_DATA_3)\n",
    "%timeit copy.deepcopy(t3)"
   ]
  },
  {
   "cell_type": "markdown",
   "id": "bf8be7ea",
   "metadata": {},
   "source": [
    "### Deep Copy of Tianshou Batch"
   ]
  },
  {
   "cell_type": "code",
   "execution_count": 18,
   "id": "91998e6f",
   "metadata": {
    "execution": {
     "iopub.execute_input": "2023-03-16T09:27:16.604685Z",
     "iopub.status.busy": "2023-03-16T09:27:16.604189Z",
     "iopub.status.idle": "2023-03-16T09:27:27.793628Z",
     "shell.execute_reply": "2023-03-16T09:27:27.792934Z"
    }
   },
   "outputs": [
    {
     "name": "stdout",
     "output_type": "stream",
     "text": [
      "138 µs ± 502 ns per loop (mean ± std. dev. of 7 runs, 10,000 loops each)\n"
     ]
    }
   ],
   "source": [
    "b3 = Batch(**_TREE_DATA_3)\n",
    "%timeit copy.deepcopy(b3)"
   ]
  },
  {
   "cell_type": "markdown",
   "id": "223162fb",
   "metadata": {},
   "source": [
    "## Stack, Concat and Split Operation"
   ]
  },
  {
   "cell_type": "markdown",
   "id": "85fa4a73",
   "metadata": {},
   "source": [
    "### Performance of TreeValue"
   ]
  },
  {
   "cell_type": "code",
   "execution_count": 19,
   "id": "a0c2b697",
   "metadata": {
    "execution": {
     "iopub.execute_input": "2023-03-16T09:27:27.796698Z",
     "iopub.status.busy": "2023-03-16T09:27:27.796467Z",
     "iopub.status.idle": "2023-03-16T09:27:27.799764Z",
     "shell.execute_reply": "2023-03-16T09:27:27.799051Z"
    }
   },
   "outputs": [],
   "source": [
    "trees = [FastTreeValue(_TREE_DATA_2) for _ in range(8)]"
   ]
  },
  {
   "cell_type": "code",
   "execution_count": 20,
   "id": "017ea5a5",
   "metadata": {
    "execution": {
     "iopub.execute_input": "2023-03-16T09:27:27.802185Z",
     "iopub.status.busy": "2023-03-16T09:27:27.801971Z",
     "iopub.status.idle": "2023-03-16T09:27:27.809148Z",
     "shell.execute_reply": "2023-03-16T09:27:27.808518Z"
    }
   },
   "outputs": [
    {
     "data": {
      "text/plain": [
       "<FastTreeValue 0x7f5a79635370>\n",
       "├── 'a' --> tensor([[[-0.0465, -0.4072,  0.1912],\n",
       "│                    [-0.0665, -0.4711, -1.1107]],\n",
       "│           \n",
       "│                   [[-0.0465, -0.4072,  0.1912],\n",
       "│                    [-0.0665, -0.4711, -1.1107]],\n",
       "│           \n",
       "│                   [[-0.0465, -0.4072,  0.1912],\n",
       "│                    [-0.0665, -0.4711, -1.1107]],\n",
       "│           \n",
       "│                   [[-0.0465, -0.4072,  0.1912],\n",
       "│                    [-0.0665, -0.4711, -1.1107]],\n",
       "│           \n",
       "│                   [[-0.0465, -0.4072,  0.1912],\n",
       "│                    [-0.0665, -0.4711, -1.1107]],\n",
       "│           \n",
       "│                   [[-0.0465, -0.4072,  0.1912],\n",
       "│                    [-0.0665, -0.4711, -1.1107]],\n",
       "│           \n",
       "│                   [[-0.0465, -0.4072,  0.1912],\n",
       "│                    [-0.0665, -0.4711, -1.1107]],\n",
       "│           \n",
       "│                   [[-0.0465, -0.4072,  0.1912],\n",
       "│                    [-0.0665, -0.4711, -1.1107]]])\n",
       "└── 'x' --> <FastTreeValue 0x7f5a79650f40>\n",
       "    └── 'c' --> tensor([[[ 0.0351,  0.3836, -0.9147,  0.0783],\n",
       "                         [ 0.0967,  0.3024,  0.9151, -0.4560],\n",
       "                         [-1.2462,  1.1966, -1.0155, -0.9412]],\n",
       "                \n",
       "                        [[ 0.0351,  0.3836, -0.9147,  0.0783],\n",
       "                         [ 0.0967,  0.3024,  0.9151, -0.4560],\n",
       "                         [-1.2462,  1.1966, -1.0155, -0.9412]],\n",
       "                \n",
       "                        [[ 0.0351,  0.3836, -0.9147,  0.0783],\n",
       "                         [ 0.0967,  0.3024,  0.9151, -0.4560],\n",
       "                         [-1.2462,  1.1966, -1.0155, -0.9412]],\n",
       "                \n",
       "                        [[ 0.0351,  0.3836, -0.9147,  0.0783],\n",
       "                         [ 0.0967,  0.3024,  0.9151, -0.4560],\n",
       "                         [-1.2462,  1.1966, -1.0155, -0.9412]],\n",
       "                \n",
       "                        [[ 0.0351,  0.3836, -0.9147,  0.0783],\n",
       "                         [ 0.0967,  0.3024,  0.9151, -0.4560],\n",
       "                         [-1.2462,  1.1966, -1.0155, -0.9412]],\n",
       "                \n",
       "                        [[ 0.0351,  0.3836, -0.9147,  0.0783],\n",
       "                         [ 0.0967,  0.3024,  0.9151, -0.4560],\n",
       "                         [-1.2462,  1.1966, -1.0155, -0.9412]],\n",
       "                \n",
       "                        [[ 0.0351,  0.3836, -0.9147,  0.0783],\n",
       "                         [ 0.0967,  0.3024,  0.9151, -0.4560],\n",
       "                         [-1.2462,  1.1966, -1.0155, -0.9412]],\n",
       "                \n",
       "                        [[ 0.0351,  0.3836, -0.9147,  0.0783],\n",
       "                         [ 0.0967,  0.3024,  0.9151, -0.4560],\n",
       "                         [-1.2462,  1.1966, -1.0155, -0.9412]]])"
      ]
     },
     "execution_count": 20,
     "metadata": {},
     "output_type": "execute_result"
    }
   ],
   "source": [
    "t_stack = FastTreeValue.func(subside=True)(torch.stack)\n",
    "\n",
    "t_stack(trees)"
   ]
  },
  {
   "cell_type": "code",
   "execution_count": 21,
   "id": "f8b3f415",
   "metadata": {
    "execution": {
     "iopub.execute_input": "2023-03-16T09:27:27.811674Z",
     "iopub.status.busy": "2023-03-16T09:27:27.811445Z",
     "iopub.status.idle": "2023-03-16T09:27:30.485540Z",
     "shell.execute_reply": "2023-03-16T09:27:30.484851Z"
    }
   },
   "outputs": [
    {
     "name": "stdout",
     "output_type": "stream",
     "text": [
      "32.8 µs ± 52.2 ns per loop (mean ± std. dev. of 7 runs, 10,000 loops each)\n"
     ]
    }
   ],
   "source": [
    "%timeit t_stack(trees)"
   ]
  },
  {
   "cell_type": "code",
   "execution_count": 22,
   "id": "94b56771",
   "metadata": {
    "execution": {
     "iopub.execute_input": "2023-03-16T09:27:30.488594Z",
     "iopub.status.busy": "2023-03-16T09:27:30.488164Z",
     "iopub.status.idle": "2023-03-16T09:27:30.496331Z",
     "shell.execute_reply": "2023-03-16T09:27:30.495704Z"
    }
   },
   "outputs": [
    {
     "data": {
      "text/plain": [
       "<FastTreeValue 0x7f5b4c4e2fd0>\n",
       "├── 'a' --> tensor([[-0.0465, -0.4072,  0.1912],\n",
       "│                   [-0.0665, -0.4711, -1.1107],\n",
       "│                   [-0.0465, -0.4072,  0.1912],\n",
       "│                   [-0.0665, -0.4711, -1.1107],\n",
       "│                   [-0.0465, -0.4072,  0.1912],\n",
       "│                   [-0.0665, -0.4711, -1.1107],\n",
       "│                   [-0.0465, -0.4072,  0.1912],\n",
       "│                   [-0.0665, -0.4711, -1.1107],\n",
       "│                   [-0.0465, -0.4072,  0.1912],\n",
       "│                   [-0.0665, -0.4711, -1.1107],\n",
       "│                   [-0.0465, -0.4072,  0.1912],\n",
       "│                   [-0.0665, -0.4711, -1.1107],\n",
       "│                   [-0.0465, -0.4072,  0.1912],\n",
       "│                   [-0.0665, -0.4711, -1.1107],\n",
       "│                   [-0.0465, -0.4072,  0.1912],\n",
       "│                   [-0.0665, -0.4711, -1.1107]])\n",
       "└── 'x' --> <FastTreeValue 0x7f5b4c4e20a0>\n",
       "    └── 'c' --> tensor([[ 0.0351,  0.3836, -0.9147,  0.0783],\n",
       "                        [ 0.0967,  0.3024,  0.9151, -0.4560],\n",
       "                        [-1.2462,  1.1966, -1.0155, -0.9412],\n",
       "                        [ 0.0351,  0.3836, -0.9147,  0.0783],\n",
       "                        [ 0.0967,  0.3024,  0.9151, -0.4560],\n",
       "                        [-1.2462,  1.1966, -1.0155, -0.9412],\n",
       "                        [ 0.0351,  0.3836, -0.9147,  0.0783],\n",
       "                        [ 0.0967,  0.3024,  0.9151, -0.4560],\n",
       "                        [-1.2462,  1.1966, -1.0155, -0.9412],\n",
       "                        [ 0.0351,  0.3836, -0.9147,  0.0783],\n",
       "                        [ 0.0967,  0.3024,  0.9151, -0.4560],\n",
       "                        [-1.2462,  1.1966, -1.0155, -0.9412],\n",
       "                        [ 0.0351,  0.3836, -0.9147,  0.0783],\n",
       "                        [ 0.0967,  0.3024,  0.9151, -0.4560],\n",
       "                        [-1.2462,  1.1966, -1.0155, -0.9412],\n",
       "                        [ 0.0351,  0.3836, -0.9147,  0.0783],\n",
       "                        [ 0.0967,  0.3024,  0.9151, -0.4560],\n",
       "                        [-1.2462,  1.1966, -1.0155, -0.9412],\n",
       "                        [ 0.0351,  0.3836, -0.9147,  0.0783],\n",
       "                        [ 0.0967,  0.3024,  0.9151, -0.4560],\n",
       "                        [-1.2462,  1.1966, -1.0155, -0.9412],\n",
       "                        [ 0.0351,  0.3836, -0.9147,  0.0783],\n",
       "                        [ 0.0967,  0.3024,  0.9151, -0.4560],\n",
       "                        [-1.2462,  1.1966, -1.0155, -0.9412]])"
      ]
     },
     "execution_count": 22,
     "metadata": {},
     "output_type": "execute_result"
    }
   ],
   "source": [
    "t_cat = FastTreeValue.func(subside=True)(torch.cat)\n",
    "\n",
    "t_cat(trees)"
   ]
  },
  {
   "cell_type": "code",
   "execution_count": 23,
   "id": "5e9c06a6",
   "metadata": {
    "execution": {
     "iopub.execute_input": "2023-03-16T09:27:30.498882Z",
     "iopub.status.busy": "2023-03-16T09:27:30.498521Z",
     "iopub.status.idle": "2023-03-16T09:27:32.986531Z",
     "shell.execute_reply": "2023-03-16T09:27:32.985893Z"
    }
   },
   "outputs": [
    {
     "name": "stdout",
     "output_type": "stream",
     "text": [
      "30.6 µs ± 33.6 ns per loop (mean ± std. dev. of 7 runs, 10,000 loops each)\n"
     ]
    }
   ],
   "source": [
    "%timeit t_cat(trees)"
   ]
  },
  {
   "cell_type": "code",
   "execution_count": 24,
   "id": "a3ab5c8f",
   "metadata": {
    "execution": {
     "iopub.execute_input": "2023-03-16T09:27:32.989424Z",
     "iopub.status.busy": "2023-03-16T09:27:32.988872Z",
     "iopub.status.idle": "2023-03-16T09:27:38.508325Z",
     "shell.execute_reply": "2023-03-16T09:27:38.507632Z"
    }
   },
   "outputs": [
    {
     "name": "stdout",
     "output_type": "stream",
     "text": [
      "67.9 µs ± 46.8 ns per loop (mean ± std. dev. of 7 runs, 10,000 loops each)\n"
     ]
    }
   ],
   "source": [
    "t_split = FastTreeValue.func(rise=True)(torch.split)\n",
    "tree = FastTreeValue({\n",
    "    'obs': torch.randn(8, 4, 84, 84),\n",
    "    'action': torch.randint(0, 6, size=(8, 1,)),\n",
    "    'reward': torch.rand(8, 1),\n",
    "})\n",
    "\n",
    "%timeit t_split(tree, 1)"
   ]
  },
  {
   "cell_type": "markdown",
   "id": "31c3ec0b",
   "metadata": {},
   "source": [
    "### Performance of Tianshou Batch"
   ]
  },
  {
   "cell_type": "code",
   "execution_count": 25,
   "id": "9ead828a",
   "metadata": {
    "execution": {
     "iopub.execute_input": "2023-03-16T09:27:38.511567Z",
     "iopub.status.busy": "2023-03-16T09:27:38.511178Z",
     "iopub.status.idle": "2023-03-16T09:27:38.519554Z",
     "shell.execute_reply": "2023-03-16T09:27:38.518898Z"
    }
   },
   "outputs": [
    {
     "data": {
      "text/plain": [
       "Batch(\n",
       "    a: tensor([[[-0.0465, -0.4072,  0.1912],\n",
       "                [-0.0665, -0.4711, -1.1107]],\n",
       "       \n",
       "               [[-0.0465, -0.4072,  0.1912],\n",
       "                [-0.0665, -0.4711, -1.1107]],\n",
       "       \n",
       "               [[-0.0465, -0.4072,  0.1912],\n",
       "                [-0.0665, -0.4711, -1.1107]],\n",
       "       \n",
       "               [[-0.0465, -0.4072,  0.1912],\n",
       "                [-0.0665, -0.4711, -1.1107]],\n",
       "       \n",
       "               [[-0.0465, -0.4072,  0.1912],\n",
       "                [-0.0665, -0.4711, -1.1107]],\n",
       "       \n",
       "               [[-0.0465, -0.4072,  0.1912],\n",
       "                [-0.0665, -0.4711, -1.1107]],\n",
       "       \n",
       "               [[-0.0465, -0.4072,  0.1912],\n",
       "                [-0.0665, -0.4711, -1.1107]],\n",
       "       \n",
       "               [[-0.0465, -0.4072,  0.1912],\n",
       "                [-0.0665, -0.4711, -1.1107]]]),\n",
       "    x: Batch(\n",
       "           c: tensor([[[ 0.0351,  0.3836, -0.9147,  0.0783],\n",
       "                       [ 0.0967,  0.3024,  0.9151, -0.4560],\n",
       "                       [-1.2462,  1.1966, -1.0155, -0.9412]],\n",
       "              \n",
       "                      [[ 0.0351,  0.3836, -0.9147,  0.0783],\n",
       "                       [ 0.0967,  0.3024,  0.9151, -0.4560],\n",
       "                       [-1.2462,  1.1966, -1.0155, -0.9412]],\n",
       "              \n",
       "                      [[ 0.0351,  0.3836, -0.9147,  0.0783],\n",
       "                       [ 0.0967,  0.3024,  0.9151, -0.4560],\n",
       "                       [-1.2462,  1.1966, -1.0155, -0.9412]],\n",
       "              \n",
       "                      [[ 0.0351,  0.3836, -0.9147,  0.0783],\n",
       "                       [ 0.0967,  0.3024,  0.9151, -0.4560],\n",
       "                       [-1.2462,  1.1966, -1.0155, -0.9412]],\n",
       "              \n",
       "                      [[ 0.0351,  0.3836, -0.9147,  0.0783],\n",
       "                       [ 0.0967,  0.3024,  0.9151, -0.4560],\n",
       "                       [-1.2462,  1.1966, -1.0155, -0.9412]],\n",
       "              \n",
       "                      [[ 0.0351,  0.3836, -0.9147,  0.0783],\n",
       "                       [ 0.0967,  0.3024,  0.9151, -0.4560],\n",
       "                       [-1.2462,  1.1966, -1.0155, -0.9412]],\n",
       "              \n",
       "                      [[ 0.0351,  0.3836, -0.9147,  0.0783],\n",
       "                       [ 0.0967,  0.3024,  0.9151, -0.4560],\n",
       "                       [-1.2462,  1.1966, -1.0155, -0.9412]],\n",
       "              \n",
       "                      [[ 0.0351,  0.3836, -0.9147,  0.0783],\n",
       "                       [ 0.0967,  0.3024,  0.9151, -0.4560],\n",
       "                       [-1.2462,  1.1966, -1.0155, -0.9412]]]),\n",
       "       ),\n",
       ")"
      ]
     },
     "execution_count": 25,
     "metadata": {},
     "output_type": "execute_result"
    }
   ],
   "source": [
    "batches = [Batch(**_TREE_DATA_2) for _ in range(8)]\n",
    "\n",
    "Batch.stack(batches)"
   ]
  },
  {
   "cell_type": "code",
   "execution_count": 26,
   "id": "ec9037a3",
   "metadata": {
    "execution": {
     "iopub.execute_input": "2023-03-16T09:27:38.522596Z",
     "iopub.status.busy": "2023-03-16T09:27:38.522089Z",
     "iopub.status.idle": "2023-03-16T09:27:44.926963Z",
     "shell.execute_reply": "2023-03-16T09:27:44.926122Z"
    }
   },
   "outputs": [
    {
     "name": "stdout",
     "output_type": "stream",
     "text": [
      "78.7 µs ± 154 ns per loop (mean ± std. dev. of 7 runs, 10,000 loops each)\n"
     ]
    }
   ],
   "source": [
    "%timeit Batch.stack(batches)"
   ]
  },
  {
   "cell_type": "code",
   "execution_count": 27,
   "id": "cb8ab77e",
   "metadata": {
    "execution": {
     "iopub.execute_input": "2023-03-16T09:27:44.929961Z",
     "iopub.status.busy": "2023-03-16T09:27:44.929402Z",
     "iopub.status.idle": "2023-03-16T09:27:44.937188Z",
     "shell.execute_reply": "2023-03-16T09:27:44.936588Z"
    }
   },
   "outputs": [
    {
     "data": {
      "text/plain": [
       "Batch(\n",
       "    a: tensor([[-0.0465, -0.4072,  0.1912],\n",
       "               [-0.0665, -0.4711, -1.1107],\n",
       "               [-0.0465, -0.4072,  0.1912],\n",
       "               [-0.0665, -0.4711, -1.1107],\n",
       "               [-0.0465, -0.4072,  0.1912],\n",
       "               [-0.0665, -0.4711, -1.1107],\n",
       "               [-0.0465, -0.4072,  0.1912],\n",
       "               [-0.0665, -0.4711, -1.1107],\n",
       "               [-0.0465, -0.4072,  0.1912],\n",
       "               [-0.0665, -0.4711, -1.1107],\n",
       "               [-0.0465, -0.4072,  0.1912],\n",
       "               [-0.0665, -0.4711, -1.1107],\n",
       "               [-0.0465, -0.4072,  0.1912],\n",
       "               [-0.0665, -0.4711, -1.1107],\n",
       "               [-0.0465, -0.4072,  0.1912],\n",
       "               [-0.0665, -0.4711, -1.1107]]),\n",
       "    x: Batch(\n",
       "           c: tensor([[ 0.0351,  0.3836, -0.9147,  0.0783],\n",
       "                      [ 0.0967,  0.3024,  0.9151, -0.4560],\n",
       "                      [-1.2462,  1.1966, -1.0155, -0.9412],\n",
       "                      [ 0.0351,  0.3836, -0.9147,  0.0783],\n",
       "                      [ 0.0967,  0.3024,  0.9151, -0.4560],\n",
       "                      [-1.2462,  1.1966, -1.0155, -0.9412],\n",
       "                      [ 0.0351,  0.3836, -0.9147,  0.0783],\n",
       "                      [ 0.0967,  0.3024,  0.9151, -0.4560],\n",
       "                      [-1.2462,  1.1966, -1.0155, -0.9412],\n",
       "                      [ 0.0351,  0.3836, -0.9147,  0.0783],\n",
       "                      [ 0.0967,  0.3024,  0.9151, -0.4560],\n",
       "                      [-1.2462,  1.1966, -1.0155, -0.9412],\n",
       "                      [ 0.0351,  0.3836, -0.9147,  0.0783],\n",
       "                      [ 0.0967,  0.3024,  0.9151, -0.4560],\n",
       "                      [-1.2462,  1.1966, -1.0155, -0.9412],\n",
       "                      [ 0.0351,  0.3836, -0.9147,  0.0783],\n",
       "                      [ 0.0967,  0.3024,  0.9151, -0.4560],\n",
       "                      [-1.2462,  1.1966, -1.0155, -0.9412],\n",
       "                      [ 0.0351,  0.3836, -0.9147,  0.0783],\n",
       "                      [ 0.0967,  0.3024,  0.9151, -0.4560],\n",
       "                      [-1.2462,  1.1966, -1.0155, -0.9412],\n",
       "                      [ 0.0351,  0.3836, -0.9147,  0.0783],\n",
       "                      [ 0.0967,  0.3024,  0.9151, -0.4560],\n",
       "                      [-1.2462,  1.1966, -1.0155, -0.9412]]),\n",
       "       ),\n",
       ")"
      ]
     },
     "execution_count": 27,
     "metadata": {},
     "output_type": "execute_result"
    }
   ],
   "source": [
    "Batch.cat(batches)"
   ]
  },
  {
   "cell_type": "code",
   "execution_count": 28,
   "id": "18dfb045",
   "metadata": {
    "execution": {
     "iopub.execute_input": "2023-03-16T09:27:44.939629Z",
     "iopub.status.busy": "2023-03-16T09:27:44.939409Z",
     "iopub.status.idle": "2023-03-16T09:27:56.965920Z",
     "shell.execute_reply": "2023-03-16T09:27:56.965205Z"
    }
   },
   "outputs": [
    {
     "name": "stdout",
     "output_type": "stream",
     "text": [
      "148 µs ± 490 ns per loop (mean ± std. dev. of 7 runs, 10,000 loops each)\n"
     ]
    }
   ],
   "source": [
    "%timeit Batch.cat(batches)"
   ]
  },
  {
   "cell_type": "code",
   "execution_count": 29,
   "id": "c6688e51",
   "metadata": {
    "execution": {
     "iopub.execute_input": "2023-03-16T09:27:56.969092Z",
     "iopub.status.busy": "2023-03-16T09:27:56.968722Z",
     "iopub.status.idle": "2023-03-16T09:27:59.552153Z",
     "shell.execute_reply": "2023-03-16T09:27:59.551439Z"
    }
   },
   "outputs": [
    {
     "name": "stdout",
     "output_type": "stream",
     "text": [
      "317 µs ± 1.75 µs per loop (mean ± std. dev. of 7 runs, 1,000 loops each)\n"
     ]
    }
   ],
   "source": [
    "batch = Batch({\n",
    "    'obs': torch.randn(8, 4, 84, 84),\n",
    "    'action': torch.randint(0, 6, size=(8, 1,)),\n",
    "    'reward': torch.rand(8, 1)}\n",
    ")\n",
    "\n",
    "%timeit list(Batch.split(batch, 1, shuffle=False, merge_last=True))"
   ]
  },
  {
   "cell_type": "code",
   "execution_count": null,
   "id": "2539fbd9",
   "metadata": {},
   "outputs": [],
   "source": []
  }
 ],
 "metadata": {
  "kernelspec": {
   "display_name": "Python 3 (ipykernel)",
   "language": "python",
   "name": "python3"
  },
  "language_info": {
   "codemirror_mode": {
    "name": "ipython",
    "version": 3
   },
   "file_extension": ".py",
   "mimetype": "text/x-python",
   "name": "python",
   "nbconvert_exporter": "python",
   "pygments_lexer": "ipython3",
   "version": "3.8.16"
  }
 },
 "nbformat": 4,
 "nbformat_minor": 5
}
