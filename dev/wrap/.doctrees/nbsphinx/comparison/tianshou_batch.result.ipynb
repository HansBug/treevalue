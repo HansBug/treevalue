{
 "cells": [
  {
   "cell_type": "markdown",
   "id": "9d39d946",
   "metadata": {},
   "source": [
    "# Comparison Between TreeValue and Tianshou Batch"
   ]
  },
  {
   "cell_type": "markdown",
   "id": "3c6db2d4",
   "metadata": {},
   "source": [
    "In this section, we will take a look at the feature and performance of the [Tianshou Batch](https://github.com/thu-ml/tianshou) library, which is developed by Tsinghua Machine Learning Group."
   ]
  },
  {
   "cell_type": "markdown",
   "id": "069361b0",
   "metadata": {},
   "source": [
    "Before starting the comparison, let us define some thing."
   ]
  },
  {
   "cell_type": "code",
   "execution_count": 1,
   "id": "06fc8d26",
   "metadata": {
    "execution": {
     "iopub.execute_input": "2023-08-14T06:05:27.093835Z",
     "iopub.status.busy": "2023-08-14T06:05:27.093483Z",
     "iopub.status.idle": "2023-08-14T06:05:28.408489Z",
     "shell.execute_reply": "2023-08-14T06:05:28.407786Z"
    }
   },
   "outputs": [],
   "source": [
    "import torch \n",
    "\n",
    "_TREE_DATA_1 = {'a': 1, 'b': 2, 'x': {'c': 3, 'd': 4}}\n",
    "_TREE_DATA_2 = {\n",
    "    'a': torch.randn(2, 3), \n",
    "    'x': {\n",
    "        'c': torch.randn(3, 4)\n",
    "    },\n",
    "}\n",
    "_TREE_DATA_3 = {\n",
    "    'obs': torch.randn(4, 84, 84),\n",
    "    'action': torch.randint(0, 6, size=(1,)),\n",
    "    'reward': torch.rand(1),\n",
    "}"
   ]
  },
  {
   "cell_type": "markdown",
   "id": "83461b25",
   "metadata": {},
   "source": [
    "## Read and Write Operation"
   ]
  },
  {
   "cell_type": "markdown",
   "id": "067b3f73",
   "metadata": {},
   "source": [
    "Reading and writing are the two most common operations in the tree data structure based on the data model (TreeValue and Tianshou Batch both belong to this type), so this section will compare the reading and writing performance of these two libraries."
   ]
  },
  {
   "cell_type": "markdown",
   "id": "5d09a5b7",
   "metadata": {},
   "source": [
    "### TreeValue's Get and Set"
   ]
  },
  {
   "cell_type": "code",
   "execution_count": 2,
   "id": "9519c4bb",
   "metadata": {
    "execution": {
     "iopub.execute_input": "2023-08-14T06:05:28.412238Z",
     "iopub.status.busy": "2023-08-14T06:05:28.411715Z",
     "iopub.status.idle": "2023-08-14T06:05:28.440058Z",
     "shell.execute_reply": "2023-08-14T06:05:28.439404Z"
    }
   },
   "outputs": [],
   "source": [
    "from treevalue import FastTreeValue\n",
    "\n",
    "t = FastTreeValue(_TREE_DATA_2)"
   ]
  },
  {
   "cell_type": "code",
   "execution_count": 3,
   "id": "11c37677",
   "metadata": {
    "execution": {
     "iopub.execute_input": "2023-08-14T06:05:28.443342Z",
     "iopub.status.busy": "2023-08-14T06:05:28.442889Z",
     "iopub.status.idle": "2023-08-14T06:05:28.451306Z",
     "shell.execute_reply": "2023-08-14T06:05:28.450642Z"
    }
   },
   "outputs": [
    {
     "data": {
      "text/plain": [
       "<FastTreeValue 0x7f4be8d5cbe0>\n",
       "├── 'a' --> tensor([[-1.8513,  0.6966, -1.5605],\n",
       "│                   [ 1.4228,  0.5973,  2.2907]])\n",
       "└── 'x' --> <FastTreeValue 0x7f4be8d5cca0>\n",
       "    └── 'c' --> tensor([[ 0.6544,  0.4686, -0.6769, -0.2901],\n",
       "                        [ 0.2760,  0.5073,  0.0890, -0.0140],\n",
       "                        [ 0.3960,  1.2854,  1.4938, -1.6303]])"
      ]
     },
     "execution_count": 3,
     "metadata": {},
     "output_type": "execute_result"
    }
   ],
   "source": [
    "t"
   ]
  },
  {
   "cell_type": "code",
   "execution_count": 4,
   "id": "fd70b0b9",
   "metadata": {
    "execution": {
     "iopub.execute_input": "2023-08-14T06:05:28.454618Z",
     "iopub.status.busy": "2023-08-14T06:05:28.454257Z",
     "iopub.status.idle": "2023-08-14T06:05:28.461173Z",
     "shell.execute_reply": "2023-08-14T06:05:28.460554Z"
    }
   },
   "outputs": [
    {
     "data": {
      "text/plain": [
       "tensor([[-1.8513,  0.6966, -1.5605],\n",
       "        [ 1.4228,  0.5973,  2.2907]])"
      ]
     },
     "execution_count": 4,
     "metadata": {},
     "output_type": "execute_result"
    }
   ],
   "source": [
    "t.a"
   ]
  },
  {
   "cell_type": "code",
   "execution_count": 5,
   "id": "c18197bd",
   "metadata": {
    "execution": {
     "iopub.execute_input": "2023-08-14T06:05:28.464182Z",
     "iopub.status.busy": "2023-08-14T06:05:28.463697Z",
     "iopub.status.idle": "2023-08-14T06:05:33.450719Z",
     "shell.execute_reply": "2023-08-14T06:05:33.450114Z"
    }
   },
   "outputs": [
    {
     "name": "stdout",
     "output_type": "stream",
     "text": [
      "61.4 ns ± 0.0649 ns per loop (mean ± std. dev. of 7 runs, 10,000,000 loops each)\n"
     ]
    }
   ],
   "source": [
    "%timeit t.a"
   ]
  },
  {
   "cell_type": "code",
   "execution_count": 6,
   "id": "bd52f867",
   "metadata": {
    "execution": {
     "iopub.execute_input": "2023-08-14T06:05:33.454059Z",
     "iopub.status.busy": "2023-08-14T06:05:33.453450Z",
     "iopub.status.idle": "2023-08-14T06:05:33.459603Z",
     "shell.execute_reply": "2023-08-14T06:05:33.458929Z"
    }
   },
   "outputs": [
    {
     "data": {
      "text/plain": [
       "<FastTreeValue 0x7f4be8d5cbe0>\n",
       "├── 'a' --> tensor([[ 0.5644,  0.9767,  0.5906],\n",
       "│                   [-0.8031, -1.3156,  1.3412]])\n",
       "└── 'x' --> <FastTreeValue 0x7f4be8d5cca0>\n",
       "    └── 'c' --> tensor([[ 0.6544,  0.4686, -0.6769, -0.2901],\n",
       "                        [ 0.2760,  0.5073,  0.0890, -0.0140],\n",
       "                        [ 0.3960,  1.2854,  1.4938, -1.6303]])"
      ]
     },
     "execution_count": 6,
     "metadata": {},
     "output_type": "execute_result"
    }
   ],
   "source": [
    "new_value = torch.randn(2, 3)\n",
    "t.a = new_value\n",
    "\n",
    "t"
   ]
  },
  {
   "cell_type": "code",
   "execution_count": 7,
   "id": "bbe04d1c",
   "metadata": {
    "execution": {
     "iopub.execute_input": "2023-08-14T06:05:33.462412Z",
     "iopub.status.busy": "2023-08-14T06:05:33.462058Z",
     "iopub.status.idle": "2023-08-14T06:05:38.675251Z",
     "shell.execute_reply": "2023-08-14T06:05:38.674645Z"
    }
   },
   "outputs": [
    {
     "name": "stdout",
     "output_type": "stream",
     "text": [
      "64 ns ± 0.0701 ns per loop (mean ± std. dev. of 7 runs, 10,000,000 loops each)\n"
     ]
    }
   ],
   "source": [
    "%timeit t.a = new_value"
   ]
  },
  {
   "cell_type": "markdown",
   "id": "48c49731",
   "metadata": {},
   "source": [
    "### Tianshou Batch's Get and Set"
   ]
  },
  {
   "cell_type": "code",
   "execution_count": 8,
   "id": "f1bb14c1",
   "metadata": {
    "execution": {
     "iopub.execute_input": "2023-08-14T06:05:38.678605Z",
     "iopub.status.busy": "2023-08-14T06:05:38.678015Z",
     "iopub.status.idle": "2023-08-14T06:05:39.037896Z",
     "shell.execute_reply": "2023-08-14T06:05:39.037206Z"
    }
   },
   "outputs": [],
   "source": [
    "from tianshou.data import Batch\n",
    "\n",
    "b = Batch(**_TREE_DATA_2)"
   ]
  },
  {
   "cell_type": "code",
   "execution_count": 9,
   "id": "cb0777c3",
   "metadata": {
    "execution": {
     "iopub.execute_input": "2023-08-14T06:05:39.041314Z",
     "iopub.status.busy": "2023-08-14T06:05:39.040766Z",
     "iopub.status.idle": "2023-08-14T06:05:39.047479Z",
     "shell.execute_reply": "2023-08-14T06:05:39.046886Z"
    }
   },
   "outputs": [
    {
     "data": {
      "text/plain": [
       "Batch(\n",
       "    a: tensor([[-1.8513,  0.6966, -1.5605],\n",
       "               [ 1.4228,  0.5973,  2.2907]]),\n",
       "    x: Batch(\n",
       "           c: tensor([[ 0.6544,  0.4686, -0.6769, -0.2901],\n",
       "                      [ 0.2760,  0.5073,  0.0890, -0.0140],\n",
       "                      [ 0.3960,  1.2854,  1.4938, -1.6303]]),\n",
       "       ),\n",
       ")"
      ]
     },
     "execution_count": 9,
     "metadata": {},
     "output_type": "execute_result"
    }
   ],
   "source": [
    "b"
   ]
  },
  {
   "cell_type": "code",
   "execution_count": 10,
   "id": "43ef8ea3",
   "metadata": {
    "execution": {
     "iopub.execute_input": "2023-08-14T06:05:39.050430Z",
     "iopub.status.busy": "2023-08-14T06:05:39.049853Z",
     "iopub.status.idle": "2023-08-14T06:05:39.055746Z",
     "shell.execute_reply": "2023-08-14T06:05:39.055142Z"
    }
   },
   "outputs": [
    {
     "data": {
      "text/plain": [
       "tensor([[-1.8513,  0.6966, -1.5605],\n",
       "        [ 1.4228,  0.5973,  2.2907]])"
      ]
     },
     "execution_count": 10,
     "metadata": {},
     "output_type": "execute_result"
    }
   ],
   "source": [
    "b.a"
   ]
  },
  {
   "cell_type": "code",
   "execution_count": 11,
   "id": "b785ab72",
   "metadata": {
    "execution": {
     "iopub.execute_input": "2023-08-14T06:05:39.058541Z",
     "iopub.status.busy": "2023-08-14T06:05:39.058195Z",
     "iopub.status.idle": "2023-08-14T06:05:43.749958Z",
     "shell.execute_reply": "2023-08-14T06:05:43.749344Z"
    }
   },
   "outputs": [
    {
     "name": "stdout",
     "output_type": "stream",
     "text": [
      "57.7 ns ± 0.0222 ns per loop (mean ± std. dev. of 7 runs, 10,000,000 loops each)\n"
     ]
    }
   ],
   "source": [
    "%timeit b.a"
   ]
  },
  {
   "cell_type": "code",
   "execution_count": 12,
   "id": "ad54dc69",
   "metadata": {
    "execution": {
     "iopub.execute_input": "2023-08-14T06:05:43.752996Z",
     "iopub.status.busy": "2023-08-14T06:05:43.752509Z",
     "iopub.status.idle": "2023-08-14T06:05:43.758517Z",
     "shell.execute_reply": "2023-08-14T06:05:43.757847Z"
    }
   },
   "outputs": [
    {
     "data": {
      "text/plain": [
       "Batch(\n",
       "    a: tensor([[-0.4893,  0.7961, -0.6113],\n",
       "               [ 1.4131,  0.9565,  0.9522]]),\n",
       "    x: Batch(\n",
       "           c: tensor([[ 0.6544,  0.4686, -0.6769, -0.2901],\n",
       "                      [ 0.2760,  0.5073,  0.0890, -0.0140],\n",
       "                      [ 0.3960,  1.2854,  1.4938, -1.6303]]),\n",
       "       ),\n",
       ")"
      ]
     },
     "execution_count": 12,
     "metadata": {},
     "output_type": "execute_result"
    }
   ],
   "source": [
    "new_value = torch.randn(2, 3)\n",
    "b.a = new_value\n",
    "\n",
    "b"
   ]
  },
  {
   "cell_type": "code",
   "execution_count": 13,
   "id": "29b1d0bf",
   "metadata": {
    "execution": {
     "iopub.execute_input": "2023-08-14T06:05:43.761387Z",
     "iopub.status.busy": "2023-08-14T06:05:43.761042Z",
     "iopub.status.idle": "2023-08-14T06:05:47.791448Z",
     "shell.execute_reply": "2023-08-14T06:05:47.790828Z"
    }
   },
   "outputs": [
    {
     "name": "stdout",
     "output_type": "stream",
     "text": [
      "496 ns ± 6.43 ns per loop (mean ± std. dev. of 7 runs, 1,000,000 loops each)\n"
     ]
    }
   ],
   "source": [
    "%timeit b.a = new_value"
   ]
  },
  {
   "cell_type": "markdown",
   "id": "b61ad1d0",
   "metadata": {},
   "source": [
    "## Initialization"
   ]
  },
  {
   "cell_type": "markdown",
   "id": "d70f0d54",
   "metadata": {},
   "source": [
    "### TreeValue's Initialization"
   ]
  },
  {
   "cell_type": "code",
   "execution_count": 14,
   "id": "d32a679b",
   "metadata": {
    "execution": {
     "iopub.execute_input": "2023-08-14T06:05:47.794724Z",
     "iopub.status.busy": "2023-08-14T06:05:47.794243Z",
     "iopub.status.idle": "2023-08-14T06:05:54.966187Z",
     "shell.execute_reply": "2023-08-14T06:05:54.965019Z"
    }
   },
   "outputs": [
    {
     "name": "stdout",
     "output_type": "stream",
     "text": [
      "885 ns ± 12.3 ns per loop (mean ± std. dev. of 7 runs, 1,000,000 loops each)\n"
     ]
    }
   ],
   "source": [
    "%timeit FastTreeValue(_TREE_DATA_1)"
   ]
  },
  {
   "cell_type": "markdown",
   "id": "24f3707b",
   "metadata": {},
   "source": [
    "### Tianshou Batch's Initialization"
   ]
  },
  {
   "cell_type": "code",
   "execution_count": 15,
   "id": "ac3958df",
   "metadata": {
    "execution": {
     "iopub.execute_input": "2023-08-14T06:05:54.969620Z",
     "iopub.status.busy": "2023-08-14T06:05:54.968996Z",
     "iopub.status.idle": "2023-08-14T06:06:04.114521Z",
     "shell.execute_reply": "2023-08-14T06:06:04.113311Z"
    }
   },
   "outputs": [
    {
     "name": "stdout",
     "output_type": "stream",
     "text": [
      "11.3 µs ± 27.5 ns per loop (mean ± std. dev. of 7 runs, 100,000 loops each)\n"
     ]
    }
   ],
   "source": [
    "%timeit Batch(**_TREE_DATA_1)"
   ]
  },
  {
   "cell_type": "markdown",
   "id": "1ab82e2d",
   "metadata": {},
   "source": [
    "## Deep Copy Operation"
   ]
  },
  {
   "cell_type": "code",
   "execution_count": 16,
   "id": "210a9442",
   "metadata": {
    "execution": {
     "iopub.execute_input": "2023-08-14T06:06:04.117925Z",
     "iopub.status.busy": "2023-08-14T06:06:04.117551Z",
     "iopub.status.idle": "2023-08-14T06:06:04.122096Z",
     "shell.execute_reply": "2023-08-14T06:06:04.121441Z"
    }
   },
   "outputs": [],
   "source": [
    "import copy"
   ]
  },
  {
   "cell_type": "markdown",
   "id": "5a736274",
   "metadata": {},
   "source": [
    "### Deep Copy of TreeValue"
   ]
  },
  {
   "cell_type": "code",
   "execution_count": 17,
   "id": "f9bcadd6",
   "metadata": {
    "execution": {
     "iopub.execute_input": "2023-08-14T06:06:04.124992Z",
     "iopub.status.busy": "2023-08-14T06:06:04.124638Z",
     "iopub.status.idle": "2023-08-14T06:06:15.061971Z",
     "shell.execute_reply": "2023-08-14T06:06:15.061343Z"
    }
   },
   "outputs": [
    {
     "name": "stdout",
     "output_type": "stream",
     "text": [
      "135 µs ± 563 ns per loop (mean ± std. dev. of 7 runs, 10,000 loops each)\n"
     ]
    }
   ],
   "source": [
    "t3 = FastTreeValue(_TREE_DATA_3)\n",
    "%timeit copy.deepcopy(t3)"
   ]
  },
  {
   "cell_type": "markdown",
   "id": "bf8be7ea",
   "metadata": {},
   "source": [
    "### Deep Copy of Tianshou Batch"
   ]
  },
  {
   "cell_type": "code",
   "execution_count": 18,
   "id": "91998e6f",
   "metadata": {
    "execution": {
     "iopub.execute_input": "2023-08-14T06:06:15.065284Z",
     "iopub.status.busy": "2023-08-14T06:06:15.065031Z",
     "iopub.status.idle": "2023-08-14T06:06:26.344174Z",
     "shell.execute_reply": "2023-08-14T06:06:26.343576Z"
    }
   },
   "outputs": [
    {
     "name": "stdout",
     "output_type": "stream",
     "text": [
      "139 µs ± 781 ns per loop (mean ± std. dev. of 7 runs, 10,000 loops each)\n"
     ]
    }
   ],
   "source": [
    "b3 = Batch(**_TREE_DATA_3)\n",
    "%timeit copy.deepcopy(b3)"
   ]
  },
  {
   "cell_type": "markdown",
   "id": "223162fb",
   "metadata": {},
   "source": [
    "## Stack, Concat and Split Operation"
   ]
  },
  {
   "cell_type": "markdown",
   "id": "85fa4a73",
   "metadata": {},
   "source": [
    "### Performance of TreeValue"
   ]
  },
  {
   "cell_type": "code",
   "execution_count": 19,
   "id": "a0c2b697",
   "metadata": {
    "execution": {
     "iopub.execute_input": "2023-08-14T06:06:26.347513Z",
     "iopub.status.busy": "2023-08-14T06:06:26.347254Z",
     "iopub.status.idle": "2023-08-14T06:06:26.351860Z",
     "shell.execute_reply": "2023-08-14T06:06:26.351177Z"
    }
   },
   "outputs": [],
   "source": [
    "trees = [FastTreeValue(_TREE_DATA_2) for _ in range(8)]"
   ]
  },
  {
   "cell_type": "code",
   "execution_count": 20,
   "id": "017ea5a5",
   "metadata": {
    "execution": {
     "iopub.execute_input": "2023-08-14T06:06:26.355023Z",
     "iopub.status.busy": "2023-08-14T06:06:26.354643Z",
     "iopub.status.idle": "2023-08-14T06:06:26.364110Z",
     "shell.execute_reply": "2023-08-14T06:06:26.363565Z"
    }
   },
   "outputs": [
    {
     "data": {
      "text/plain": [
       "<FastTreeValue 0x7f4b1af7ff40>\n",
       "├── 'a' --> tensor([[[-1.8513,  0.6966, -1.5605],\n",
       "│                    [ 1.4228,  0.5973,  2.2907]],\n",
       "│           \n",
       "│                   [[-1.8513,  0.6966, -1.5605],\n",
       "│                    [ 1.4228,  0.5973,  2.2907]],\n",
       "│           \n",
       "│                   [[-1.8513,  0.6966, -1.5605],\n",
       "│                    [ 1.4228,  0.5973,  2.2907]],\n",
       "│           \n",
       "│                   [[-1.8513,  0.6966, -1.5605],\n",
       "│                    [ 1.4228,  0.5973,  2.2907]],\n",
       "│           \n",
       "│                   [[-1.8513,  0.6966, -1.5605],\n",
       "│                    [ 1.4228,  0.5973,  2.2907]],\n",
       "│           \n",
       "│                   [[-1.8513,  0.6966, -1.5605],\n",
       "│                    [ 1.4228,  0.5973,  2.2907]],\n",
       "│           \n",
       "│                   [[-1.8513,  0.6966, -1.5605],\n",
       "│                    [ 1.4228,  0.5973,  2.2907]],\n",
       "│           \n",
       "│                   [[-1.8513,  0.6966, -1.5605],\n",
       "│                    [ 1.4228,  0.5973,  2.2907]]])\n",
       "└── 'x' --> <FastTreeValue 0x7f4beae52970>\n",
       "    └── 'c' --> tensor([[[ 0.6544,  0.4686, -0.6769, -0.2901],\n",
       "                         [ 0.2760,  0.5073,  0.0890, -0.0140],\n",
       "                         [ 0.3960,  1.2854,  1.4938, -1.6303]],\n",
       "                \n",
       "                        [[ 0.6544,  0.4686, -0.6769, -0.2901],\n",
       "                         [ 0.2760,  0.5073,  0.0890, -0.0140],\n",
       "                         [ 0.3960,  1.2854,  1.4938, -1.6303]],\n",
       "                \n",
       "                        [[ 0.6544,  0.4686, -0.6769, -0.2901],\n",
       "                         [ 0.2760,  0.5073,  0.0890, -0.0140],\n",
       "                         [ 0.3960,  1.2854,  1.4938, -1.6303]],\n",
       "                \n",
       "                        [[ 0.6544,  0.4686, -0.6769, -0.2901],\n",
       "                         [ 0.2760,  0.5073,  0.0890, -0.0140],\n",
       "                         [ 0.3960,  1.2854,  1.4938, -1.6303]],\n",
       "                \n",
       "                        [[ 0.6544,  0.4686, -0.6769, -0.2901],\n",
       "                         [ 0.2760,  0.5073,  0.0890, -0.0140],\n",
       "                         [ 0.3960,  1.2854,  1.4938, -1.6303]],\n",
       "                \n",
       "                        [[ 0.6544,  0.4686, -0.6769, -0.2901],\n",
       "                         [ 0.2760,  0.5073,  0.0890, -0.0140],\n",
       "                         [ 0.3960,  1.2854,  1.4938, -1.6303]],\n",
       "                \n",
       "                        [[ 0.6544,  0.4686, -0.6769, -0.2901],\n",
       "                         [ 0.2760,  0.5073,  0.0890, -0.0140],\n",
       "                         [ 0.3960,  1.2854,  1.4938, -1.6303]],\n",
       "                \n",
       "                        [[ 0.6544,  0.4686, -0.6769, -0.2901],\n",
       "                         [ 0.2760,  0.5073,  0.0890, -0.0140],\n",
       "                         [ 0.3960,  1.2854,  1.4938, -1.6303]]])"
      ]
     },
     "execution_count": 20,
     "metadata": {},
     "output_type": "execute_result"
    }
   ],
   "source": [
    "t_stack = FastTreeValue.func(subside=True)(torch.stack)\n",
    "\n",
    "t_stack(trees)"
   ]
  },
  {
   "cell_type": "code",
   "execution_count": 21,
   "id": "f8b3f415",
   "metadata": {
    "execution": {
     "iopub.execute_input": "2023-08-14T06:06:26.366961Z",
     "iopub.status.busy": "2023-08-14T06:06:26.366579Z",
     "iopub.status.idle": "2023-08-14T06:06:28.994409Z",
     "shell.execute_reply": "2023-08-14T06:06:28.993813Z"
    }
   },
   "outputs": [
    {
     "name": "stdout",
     "output_type": "stream",
     "text": [
      "32.3 µs ± 86.8 ns per loop (mean ± std. dev. of 7 runs, 10,000 loops each)\n"
     ]
    }
   ],
   "source": [
    "%timeit t_stack(trees)"
   ]
  },
  {
   "cell_type": "code",
   "execution_count": 22,
   "id": "94b56771",
   "metadata": {
    "execution": {
     "iopub.execute_input": "2023-08-14T06:06:28.997433Z",
     "iopub.status.busy": "2023-08-14T06:06:28.996960Z",
     "iopub.status.idle": "2023-08-14T06:06:29.004349Z",
     "shell.execute_reply": "2023-08-14T06:06:29.003667Z"
    }
   },
   "outputs": [
    {
     "data": {
      "text/plain": [
       "<FastTreeValue 0x7f4b1af559d0>\n",
       "├── 'a' --> tensor([[-1.8513,  0.6966, -1.5605],\n",
       "│                   [ 1.4228,  0.5973,  2.2907],\n",
       "│                   [-1.8513,  0.6966, -1.5605],\n",
       "│                   [ 1.4228,  0.5973,  2.2907],\n",
       "│                   [-1.8513,  0.6966, -1.5605],\n",
       "│                   [ 1.4228,  0.5973,  2.2907],\n",
       "│                   [-1.8513,  0.6966, -1.5605],\n",
       "│                   [ 1.4228,  0.5973,  2.2907],\n",
       "│                   [-1.8513,  0.6966, -1.5605],\n",
       "│                   [ 1.4228,  0.5973,  2.2907],\n",
       "│                   [-1.8513,  0.6966, -1.5605],\n",
       "│                   [ 1.4228,  0.5973,  2.2907],\n",
       "│                   [-1.8513,  0.6966, -1.5605],\n",
       "│                   [ 1.4228,  0.5973,  2.2907],\n",
       "│                   [-1.8513,  0.6966, -1.5605],\n",
       "│                   [ 1.4228,  0.5973,  2.2907]])\n",
       "└── 'x' --> <FastTreeValue 0x7f4b1af55a30>\n",
       "    └── 'c' --> tensor([[ 0.6544,  0.4686, -0.6769, -0.2901],\n",
       "                        [ 0.2760,  0.5073,  0.0890, -0.0140],\n",
       "                        [ 0.3960,  1.2854,  1.4938, -1.6303],\n",
       "                        [ 0.6544,  0.4686, -0.6769, -0.2901],\n",
       "                        [ 0.2760,  0.5073,  0.0890, -0.0140],\n",
       "                        [ 0.3960,  1.2854,  1.4938, -1.6303],\n",
       "                        [ 0.6544,  0.4686, -0.6769, -0.2901],\n",
       "                        [ 0.2760,  0.5073,  0.0890, -0.0140],\n",
       "                        [ 0.3960,  1.2854,  1.4938, -1.6303],\n",
       "                        [ 0.6544,  0.4686, -0.6769, -0.2901],\n",
       "                        [ 0.2760,  0.5073,  0.0890, -0.0140],\n",
       "                        [ 0.3960,  1.2854,  1.4938, -1.6303],\n",
       "                        [ 0.6544,  0.4686, -0.6769, -0.2901],\n",
       "                        [ 0.2760,  0.5073,  0.0890, -0.0140],\n",
       "                        [ 0.3960,  1.2854,  1.4938, -1.6303],\n",
       "                        [ 0.6544,  0.4686, -0.6769, -0.2901],\n",
       "                        [ 0.2760,  0.5073,  0.0890, -0.0140],\n",
       "                        [ 0.3960,  1.2854,  1.4938, -1.6303],\n",
       "                        [ 0.6544,  0.4686, -0.6769, -0.2901],\n",
       "                        [ 0.2760,  0.5073,  0.0890, -0.0140],\n",
       "                        [ 0.3960,  1.2854,  1.4938, -1.6303],\n",
       "                        [ 0.6544,  0.4686, -0.6769, -0.2901],\n",
       "                        [ 0.2760,  0.5073,  0.0890, -0.0140],\n",
       "                        [ 0.3960,  1.2854,  1.4938, -1.6303]])"
      ]
     },
     "execution_count": 22,
     "metadata": {},
     "output_type": "execute_result"
    }
   ],
   "source": [
    "t_cat = FastTreeValue.func(subside=True)(torch.cat)\n",
    "\n",
    "t_cat(trees)"
   ]
  },
  {
   "cell_type": "code",
   "execution_count": 23,
   "id": "5e9c06a6",
   "metadata": {
    "execution": {
     "iopub.execute_input": "2023-08-14T06:06:29.007148Z",
     "iopub.status.busy": "2023-08-14T06:06:29.006763Z",
     "iopub.status.idle": "2023-08-14T06:06:31.494080Z",
     "shell.execute_reply": "2023-08-14T06:06:31.493489Z"
    }
   },
   "outputs": [
    {
     "name": "stdout",
     "output_type": "stream",
     "text": [
      "30.6 µs ± 54.9 ns per loop (mean ± std. dev. of 7 runs, 10,000 loops each)\n"
     ]
    }
   ],
   "source": [
    "%timeit t_cat(trees)"
   ]
  },
  {
   "cell_type": "code",
   "execution_count": 24,
   "id": "a3ab5c8f",
   "metadata": {
    "execution": {
     "iopub.execute_input": "2023-08-14T06:06:31.497337Z",
     "iopub.status.busy": "2023-08-14T06:06:31.496672Z",
     "iopub.status.idle": "2023-08-14T06:06:37.821226Z",
     "shell.execute_reply": "2023-08-14T06:06:37.820622Z"
    }
   },
   "outputs": [
    {
     "name": "stdout",
     "output_type": "stream",
     "text": [
      "78 µs ± 234 ns per loop (mean ± std. dev. of 7 runs, 10,000 loops each)\n"
     ]
    }
   ],
   "source": [
    "t_split = FastTreeValue.func(rise=True)(torch.split)\n",
    "tree = FastTreeValue({\n",
    "    'obs': torch.randn(8, 4, 84, 84),\n",
    "    'action': torch.randint(0, 6, size=(8, 1,)),\n",
    "    'reward': torch.rand(8, 1),\n",
    "})\n",
    "\n",
    "%timeit t_split(tree, 1)"
   ]
  },
  {
   "cell_type": "markdown",
   "id": "31c3ec0b",
   "metadata": {},
   "source": [
    "### Performance of Tianshou Batch"
   ]
  },
  {
   "cell_type": "code",
   "execution_count": 25,
   "id": "9ead828a",
   "metadata": {
    "execution": {
     "iopub.execute_input": "2023-08-14T06:06:37.824511Z",
     "iopub.status.busy": "2023-08-14T06:06:37.824018Z",
     "iopub.status.idle": "2023-08-14T06:06:37.831709Z",
     "shell.execute_reply": "2023-08-14T06:06:37.831036Z"
    }
   },
   "outputs": [
    {
     "data": {
      "text/plain": [
       "Batch(\n",
       "    a: tensor([[[-1.8513,  0.6966, -1.5605],\n",
       "                [ 1.4228,  0.5973,  2.2907]],\n",
       "       \n",
       "               [[-1.8513,  0.6966, -1.5605],\n",
       "                [ 1.4228,  0.5973,  2.2907]],\n",
       "       \n",
       "               [[-1.8513,  0.6966, -1.5605],\n",
       "                [ 1.4228,  0.5973,  2.2907]],\n",
       "       \n",
       "               [[-1.8513,  0.6966, -1.5605],\n",
       "                [ 1.4228,  0.5973,  2.2907]],\n",
       "       \n",
       "               [[-1.8513,  0.6966, -1.5605],\n",
       "                [ 1.4228,  0.5973,  2.2907]],\n",
       "       \n",
       "               [[-1.8513,  0.6966, -1.5605],\n",
       "                [ 1.4228,  0.5973,  2.2907]],\n",
       "       \n",
       "               [[-1.8513,  0.6966, -1.5605],\n",
       "                [ 1.4228,  0.5973,  2.2907]],\n",
       "       \n",
       "               [[-1.8513,  0.6966, -1.5605],\n",
       "                [ 1.4228,  0.5973,  2.2907]]]),\n",
       "    x: Batch(\n",
       "           c: tensor([[[ 0.6544,  0.4686, -0.6769, -0.2901],\n",
       "                       [ 0.2760,  0.5073,  0.0890, -0.0140],\n",
       "                       [ 0.3960,  1.2854,  1.4938, -1.6303]],\n",
       "              \n",
       "                      [[ 0.6544,  0.4686, -0.6769, -0.2901],\n",
       "                       [ 0.2760,  0.5073,  0.0890, -0.0140],\n",
       "                       [ 0.3960,  1.2854,  1.4938, -1.6303]],\n",
       "              \n",
       "                      [[ 0.6544,  0.4686, -0.6769, -0.2901],\n",
       "                       [ 0.2760,  0.5073,  0.0890, -0.0140],\n",
       "                       [ 0.3960,  1.2854,  1.4938, -1.6303]],\n",
       "              \n",
       "                      [[ 0.6544,  0.4686, -0.6769, -0.2901],\n",
       "                       [ 0.2760,  0.5073,  0.0890, -0.0140],\n",
       "                       [ 0.3960,  1.2854,  1.4938, -1.6303]],\n",
       "              \n",
       "                      [[ 0.6544,  0.4686, -0.6769, -0.2901],\n",
       "                       [ 0.2760,  0.5073,  0.0890, -0.0140],\n",
       "                       [ 0.3960,  1.2854,  1.4938, -1.6303]],\n",
       "              \n",
       "                      [[ 0.6544,  0.4686, -0.6769, -0.2901],\n",
       "                       [ 0.2760,  0.5073,  0.0890, -0.0140],\n",
       "                       [ 0.3960,  1.2854,  1.4938, -1.6303]],\n",
       "              \n",
       "                      [[ 0.6544,  0.4686, -0.6769, -0.2901],\n",
       "                       [ 0.2760,  0.5073,  0.0890, -0.0140],\n",
       "                       [ 0.3960,  1.2854,  1.4938, -1.6303]],\n",
       "              \n",
       "                      [[ 0.6544,  0.4686, -0.6769, -0.2901],\n",
       "                       [ 0.2760,  0.5073,  0.0890, -0.0140],\n",
       "                       [ 0.3960,  1.2854,  1.4938, -1.6303]]]),\n",
       "       ),\n",
       ")"
      ]
     },
     "execution_count": 25,
     "metadata": {},
     "output_type": "execute_result"
    }
   ],
   "source": [
    "batches = [Batch(**_TREE_DATA_2) for _ in range(8)]\n",
    "\n",
    "Batch.stack(batches)"
   ]
  },
  {
   "cell_type": "code",
   "execution_count": 26,
   "id": "ec9037a3",
   "metadata": {
    "execution": {
     "iopub.execute_input": "2023-08-14T06:06:37.834961Z",
     "iopub.status.busy": "2023-08-14T06:06:37.834240Z",
     "iopub.status.idle": "2023-08-14T06:06:44.383892Z",
     "shell.execute_reply": "2023-08-14T06:06:44.383284Z"
    }
   },
   "outputs": [
    {
     "name": "stdout",
     "output_type": "stream",
     "text": [
      "79.9 µs ± 220 ns per loop (mean ± std. dev. of 7 runs, 10,000 loops each)\n"
     ]
    }
   ],
   "source": [
    "%timeit Batch.stack(batches)"
   ]
  },
  {
   "cell_type": "code",
   "execution_count": 27,
   "id": "cb8ab77e",
   "metadata": {
    "execution": {
     "iopub.execute_input": "2023-08-14T06:06:44.387097Z",
     "iopub.status.busy": "2023-08-14T06:06:44.386598Z",
     "iopub.status.idle": "2023-08-14T06:06:44.393735Z",
     "shell.execute_reply": "2023-08-14T06:06:44.393065Z"
    }
   },
   "outputs": [
    {
     "data": {
      "text/plain": [
       "Batch(\n",
       "    a: tensor([[-1.8513,  0.6966, -1.5605],\n",
       "               [ 1.4228,  0.5973,  2.2907],\n",
       "               [-1.8513,  0.6966, -1.5605],\n",
       "               [ 1.4228,  0.5973,  2.2907],\n",
       "               [-1.8513,  0.6966, -1.5605],\n",
       "               [ 1.4228,  0.5973,  2.2907],\n",
       "               [-1.8513,  0.6966, -1.5605],\n",
       "               [ 1.4228,  0.5973,  2.2907],\n",
       "               [-1.8513,  0.6966, -1.5605],\n",
       "               [ 1.4228,  0.5973,  2.2907],\n",
       "               [-1.8513,  0.6966, -1.5605],\n",
       "               [ 1.4228,  0.5973,  2.2907],\n",
       "               [-1.8513,  0.6966, -1.5605],\n",
       "               [ 1.4228,  0.5973,  2.2907],\n",
       "               [-1.8513,  0.6966, -1.5605],\n",
       "               [ 1.4228,  0.5973,  2.2907]]),\n",
       "    x: Batch(\n",
       "           c: tensor([[ 0.6544,  0.4686, -0.6769, -0.2901],\n",
       "                      [ 0.2760,  0.5073,  0.0890, -0.0140],\n",
       "                      [ 0.3960,  1.2854,  1.4938, -1.6303],\n",
       "                      [ 0.6544,  0.4686, -0.6769, -0.2901],\n",
       "                      [ 0.2760,  0.5073,  0.0890, -0.0140],\n",
       "                      [ 0.3960,  1.2854,  1.4938, -1.6303],\n",
       "                      [ 0.6544,  0.4686, -0.6769, -0.2901],\n",
       "                      [ 0.2760,  0.5073,  0.0890, -0.0140],\n",
       "                      [ 0.3960,  1.2854,  1.4938, -1.6303],\n",
       "                      [ 0.6544,  0.4686, -0.6769, -0.2901],\n",
       "                      [ 0.2760,  0.5073,  0.0890, -0.0140],\n",
       "                      [ 0.3960,  1.2854,  1.4938, -1.6303],\n",
       "                      [ 0.6544,  0.4686, -0.6769, -0.2901],\n",
       "                      [ 0.2760,  0.5073,  0.0890, -0.0140],\n",
       "                      [ 0.3960,  1.2854,  1.4938, -1.6303],\n",
       "                      [ 0.6544,  0.4686, -0.6769, -0.2901],\n",
       "                      [ 0.2760,  0.5073,  0.0890, -0.0140],\n",
       "                      [ 0.3960,  1.2854,  1.4938, -1.6303],\n",
       "                      [ 0.6544,  0.4686, -0.6769, -0.2901],\n",
       "                      [ 0.2760,  0.5073,  0.0890, -0.0140],\n",
       "                      [ 0.3960,  1.2854,  1.4938, -1.6303],\n",
       "                      [ 0.6544,  0.4686, -0.6769, -0.2901],\n",
       "                      [ 0.2760,  0.5073,  0.0890, -0.0140],\n",
       "                      [ 0.3960,  1.2854,  1.4938, -1.6303]]),\n",
       "       ),\n",
       ")"
      ]
     },
     "execution_count": 27,
     "metadata": {},
     "output_type": "execute_result"
    }
   ],
   "source": [
    "Batch.cat(batches)"
   ]
  },
  {
   "cell_type": "code",
   "execution_count": 28,
   "id": "18dfb045",
   "metadata": {
    "execution": {
     "iopub.execute_input": "2023-08-14T06:06:44.396625Z",
     "iopub.status.busy": "2023-08-14T06:06:44.396267Z",
     "iopub.status.idle": "2023-08-14T06:06:56.554168Z",
     "shell.execute_reply": "2023-08-14T06:06:56.553577Z"
    }
   },
   "outputs": [
    {
     "name": "stdout",
     "output_type": "stream",
     "text": [
      "150 µs ± 499 ns per loop (mean ± std. dev. of 7 runs, 10,000 loops each)\n"
     ]
    }
   ],
   "source": [
    "%timeit Batch.cat(batches)"
   ]
  },
  {
   "cell_type": "code",
   "execution_count": 29,
   "id": "c6688e51",
   "metadata": {
    "execution": {
     "iopub.execute_input": "2023-08-14T06:06:56.557255Z",
     "iopub.status.busy": "2023-08-14T06:06:56.556801Z",
     "iopub.status.idle": "2023-08-14T06:06:59.212462Z",
     "shell.execute_reply": "2023-08-14T06:06:59.211776Z"
    }
   },
   "outputs": [
    {
     "name": "stdout",
     "output_type": "stream",
     "text": [
      "327 µs ± 4.79 µs per loop (mean ± std. dev. of 7 runs, 1,000 loops each)\n"
     ]
    }
   ],
   "source": [
    "batch = Batch({\n",
    "    'obs': torch.randn(8, 4, 84, 84),\n",
    "    'action': torch.randint(0, 6, size=(8, 1,)),\n",
    "    'reward': torch.rand(8, 1)}\n",
    ")\n",
    "\n",
    "%timeit list(Batch.split(batch, 1, shuffle=False, merge_last=True))"
   ]
  },
  {
   "cell_type": "code",
   "execution_count": null,
   "id": "2539fbd9",
   "metadata": {},
   "outputs": [],
   "source": []
  }
 ],
 "metadata": {
  "kernelspec": {
   "display_name": "Python 3 (ipykernel)",
   "language": "python",
   "name": "python3"
  },
  "language_info": {
   "codemirror_mode": {
    "name": "ipython",
    "version": 3
   },
   "file_extension": ".py",
   "mimetype": "text/x-python",
   "name": "python",
   "nbconvert_exporter": "python",
   "pygments_lexer": "ipython3",
   "version": "3.8.17"
  }
 },
 "nbformat": 4,
 "nbformat_minor": 5
}
