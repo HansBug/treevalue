{
 "cells": [
  {
   "cell_type": "markdown",
   "id": "9d39d946",
   "metadata": {},
   "source": [
    "# Comparison Between TreeValue and Tianshou Batch"
   ]
  },
  {
   "cell_type": "markdown",
   "id": "3c6db2d4",
   "metadata": {},
   "source": [
    "In this section, we will take a look at the feature and performance of the [Tianshou Batch](https://github.com/thu-ml/tianshou) library, which is developed by Tsinghua Machine Learning Group."
   ]
  },
  {
   "cell_type": "markdown",
   "id": "069361b0",
   "metadata": {},
   "source": [
    "Before starting the comparison, let us define some thing."
   ]
  },
  {
   "cell_type": "code",
   "execution_count": 1,
   "id": "06fc8d26",
   "metadata": {
    "execution": {
     "iopub.execute_input": "2023-02-25T17:29:14.923227Z",
     "iopub.status.busy": "2023-02-25T17:29:14.922673Z",
     "iopub.status.idle": "2023-02-25T17:29:15.865822Z",
     "shell.execute_reply": "2023-02-25T17:29:15.865119Z"
    }
   },
   "outputs": [
    {
     "name": "stderr",
     "output_type": "stream",
     "text": [
      "/opt/hostedtoolcache/Python/3.8.16/x64/lib/python3.8/site-packages/tqdm/auto.py:22: TqdmWarning: IProgress not found. Please update jupyter and ipywidgets. See https://ipywidgets.readthedocs.io/en/stable/user_install.html\n",
      "  from .autonotebook import tqdm as notebook_tqdm\n"
     ]
    }
   ],
   "source": [
    "import torch \n",
    "\n",
    "_TREE_DATA_1 = {'a': 1, 'b': 2, 'x': {'c': 3, 'd': 4}}\n",
    "_TREE_DATA_2 = {\n",
    "    'a': torch.randn(2, 3), \n",
    "    'x': {\n",
    "        'c': torch.randn(3, 4)\n",
    "    },\n",
    "}\n",
    "_TREE_DATA_3 = {\n",
    "    'obs': torch.randn(4, 84, 84),\n",
    "    'action': torch.randint(0, 6, size=(1,)),\n",
    "    'reward': torch.rand(1),\n",
    "}"
   ]
  },
  {
   "cell_type": "markdown",
   "id": "83461b25",
   "metadata": {},
   "source": [
    "## Read and Write Operation"
   ]
  },
  {
   "cell_type": "markdown",
   "id": "067b3f73",
   "metadata": {},
   "source": [
    "Reading and writing are the two most common operations in the tree data structure based on the data model (TreeValue and Tianshou Batch both belong to this type), so this section will compare the reading and writing performance of these two libraries."
   ]
  },
  {
   "cell_type": "markdown",
   "id": "5d09a5b7",
   "metadata": {},
   "source": [
    "### TreeValue's Get and Set"
   ]
  },
  {
   "cell_type": "code",
   "execution_count": 2,
   "id": "9519c4bb",
   "metadata": {
    "execution": {
     "iopub.execute_input": "2023-02-25T17:29:15.869299Z",
     "iopub.status.busy": "2023-02-25T17:29:15.868762Z",
     "iopub.status.idle": "2023-02-25T17:29:15.903078Z",
     "shell.execute_reply": "2023-02-25T17:29:15.902360Z"
    }
   },
   "outputs": [],
   "source": [
    "from treevalue import FastTreeValue\n",
    "\n",
    "t = FastTreeValue(_TREE_DATA_2)"
   ]
  },
  {
   "cell_type": "code",
   "execution_count": 3,
   "id": "11c37677",
   "metadata": {
    "execution": {
     "iopub.execute_input": "2023-02-25T17:29:15.906513Z",
     "iopub.status.busy": "2023-02-25T17:29:15.905913Z",
     "iopub.status.idle": "2023-02-25T17:29:15.914710Z",
     "shell.execute_reply": "2023-02-25T17:29:15.914023Z"
    }
   },
   "outputs": [
    {
     "data": {
      "text/plain": [
       "<FastTreeValue 0x7fb51805fb20>\n",
       "├── 'a' --> tensor([[ 0.7846,  1.5794, -1.2714],\n",
       "│                   [ 0.6814,  0.7661, -0.0624]])\n",
       "└── 'x' --> <FastTreeValue 0x7fb51805fb50>\n",
       "    └── 'c' --> tensor([[-1.3597,  0.9236, -0.2982, -0.6607],\n",
       "                        [ 0.1106,  0.3415, -0.8004,  1.0509],\n",
       "                        [-1.1365,  0.8590,  0.2151,  1.5539]])"
      ]
     },
     "execution_count": 3,
     "metadata": {},
     "output_type": "execute_result"
    }
   ],
   "source": [
    "t"
   ]
  },
  {
   "cell_type": "code",
   "execution_count": 4,
   "id": "fd70b0b9",
   "metadata": {
    "execution": {
     "iopub.execute_input": "2023-02-25T17:29:15.917760Z",
     "iopub.status.busy": "2023-02-25T17:29:15.917126Z",
     "iopub.status.idle": "2023-02-25T17:29:15.921996Z",
     "shell.execute_reply": "2023-02-25T17:29:15.921365Z"
    }
   },
   "outputs": [
    {
     "data": {
      "text/plain": [
       "tensor([[ 0.7846,  1.5794, -1.2714],\n",
       "        [ 0.6814,  0.7661, -0.0624]])"
      ]
     },
     "execution_count": 4,
     "metadata": {},
     "output_type": "execute_result"
    }
   ],
   "source": [
    "t.a"
   ]
  },
  {
   "cell_type": "code",
   "execution_count": 5,
   "id": "c18197bd",
   "metadata": {
    "execution": {
     "iopub.execute_input": "2023-02-25T17:29:15.924981Z",
     "iopub.status.busy": "2023-02-25T17:29:15.924617Z",
     "iopub.status.idle": "2023-02-25T17:29:20.917177Z",
     "shell.execute_reply": "2023-02-25T17:29:20.916483Z"
    }
   },
   "outputs": [
    {
     "name": "stdout",
     "output_type": "stream",
     "text": [
      "61.6 ns ± 0.0394 ns per loop (mean ± std. dev. of 7 runs, 10,000,000 loops each)\n"
     ]
    }
   ],
   "source": [
    "%timeit t.a"
   ]
  },
  {
   "cell_type": "code",
   "execution_count": 6,
   "id": "bd52f867",
   "metadata": {
    "execution": {
     "iopub.execute_input": "2023-02-25T17:29:20.920528Z",
     "iopub.status.busy": "2023-02-25T17:29:20.920005Z",
     "iopub.status.idle": "2023-02-25T17:29:20.926966Z",
     "shell.execute_reply": "2023-02-25T17:29:20.926343Z"
    }
   },
   "outputs": [
    {
     "data": {
      "text/plain": [
       "<FastTreeValue 0x7fb51805fb20>\n",
       "├── 'a' --> tensor([[-2.1860,  0.4351,  1.9959],\n",
       "│                   [-0.0530,  0.3706, -0.1443]])\n",
       "└── 'x' --> <FastTreeValue 0x7fb51805fb50>\n",
       "    └── 'c' --> tensor([[-1.3597,  0.9236, -0.2982, -0.6607],\n",
       "                        [ 0.1106,  0.3415, -0.8004,  1.0509],\n",
       "                        [-1.1365,  0.8590,  0.2151,  1.5539]])"
      ]
     },
     "execution_count": 6,
     "metadata": {},
     "output_type": "execute_result"
    }
   ],
   "source": [
    "new_value = torch.randn(2, 3)\n",
    "t.a = new_value\n",
    "\n",
    "t"
   ]
  },
  {
   "cell_type": "code",
   "execution_count": 7,
   "id": "bbe04d1c",
   "metadata": {
    "execution": {
     "iopub.execute_input": "2023-02-25T17:29:20.929960Z",
     "iopub.status.busy": "2023-02-25T17:29:20.929468Z",
     "iopub.status.idle": "2023-02-25T17:29:26.121021Z",
     "shell.execute_reply": "2023-02-25T17:29:26.120306Z"
    }
   },
   "outputs": [
    {
     "name": "stdout",
     "output_type": "stream",
     "text": [
      "64.1 ns ± 0.0507 ns per loop (mean ± std. dev. of 7 runs, 10,000,000 loops each)\n"
     ]
    }
   ],
   "source": [
    "%timeit t.a = new_value"
   ]
  },
  {
   "cell_type": "markdown",
   "id": "48c49731",
   "metadata": {},
   "source": [
    "### Tianshou Batch's Get and Set"
   ]
  },
  {
   "cell_type": "code",
   "execution_count": 8,
   "id": "f1bb14c1",
   "metadata": {
    "execution": {
     "iopub.execute_input": "2023-02-25T17:29:26.124150Z",
     "iopub.status.busy": "2023-02-25T17:29:26.123565Z",
     "iopub.status.idle": "2023-02-25T17:29:26.470540Z",
     "shell.execute_reply": "2023-02-25T17:29:26.469849Z"
    }
   },
   "outputs": [],
   "source": [
    "from tianshou.data import Batch\n",
    "\n",
    "b = Batch(**_TREE_DATA_2)"
   ]
  },
  {
   "cell_type": "code",
   "execution_count": 9,
   "id": "cb0777c3",
   "metadata": {
    "execution": {
     "iopub.execute_input": "2023-02-25T17:29:26.474088Z",
     "iopub.status.busy": "2023-02-25T17:29:26.473471Z",
     "iopub.status.idle": "2023-02-25T17:29:26.479006Z",
     "shell.execute_reply": "2023-02-25T17:29:26.478369Z"
    }
   },
   "outputs": [
    {
     "data": {
      "text/plain": [
       "Batch(\n",
       "    a: tensor([[ 0.7846,  1.5794, -1.2714],\n",
       "               [ 0.6814,  0.7661, -0.0624]]),\n",
       "    x: Batch(\n",
       "           c: tensor([[-1.3597,  0.9236, -0.2982, -0.6607],\n",
       "                      [ 0.1106,  0.3415, -0.8004,  1.0509],\n",
       "                      [-1.1365,  0.8590,  0.2151,  1.5539]]),\n",
       "       ),\n",
       ")"
      ]
     },
     "execution_count": 9,
     "metadata": {},
     "output_type": "execute_result"
    }
   ],
   "source": [
    "b"
   ]
  },
  {
   "cell_type": "code",
   "execution_count": 10,
   "id": "43ef8ea3",
   "metadata": {
    "execution": {
     "iopub.execute_input": "2023-02-25T17:29:26.481663Z",
     "iopub.status.busy": "2023-02-25T17:29:26.481176Z",
     "iopub.status.idle": "2023-02-25T17:29:26.485813Z",
     "shell.execute_reply": "2023-02-25T17:29:26.485196Z"
    }
   },
   "outputs": [
    {
     "data": {
      "text/plain": [
       "tensor([[ 0.7846,  1.5794, -1.2714],\n",
       "        [ 0.6814,  0.7661, -0.0624]])"
      ]
     },
     "execution_count": 10,
     "metadata": {},
     "output_type": "execute_result"
    }
   ],
   "source": [
    "b.a"
   ]
  },
  {
   "cell_type": "code",
   "execution_count": 11,
   "id": "b785ab72",
   "metadata": {
    "execution": {
     "iopub.execute_input": "2023-02-25T17:29:26.488286Z",
     "iopub.status.busy": "2023-02-25T17:29:26.487944Z",
     "iopub.status.idle": "2023-02-25T17:29:30.970617Z",
     "shell.execute_reply": "2023-02-25T17:29:30.969866Z"
    }
   },
   "outputs": [
    {
     "name": "stdout",
     "output_type": "stream",
     "text": [
      "55.4 ns ± 0.0323 ns per loop (mean ± std. dev. of 7 runs, 10,000,000 loops each)\n"
     ]
    }
   ],
   "source": [
    "%timeit b.a"
   ]
  },
  {
   "cell_type": "code",
   "execution_count": 12,
   "id": "ad54dc69",
   "metadata": {
    "execution": {
     "iopub.execute_input": "2023-02-25T17:29:30.973427Z",
     "iopub.status.busy": "2023-02-25T17:29:30.973065Z",
     "iopub.status.idle": "2023-02-25T17:29:30.978933Z",
     "shell.execute_reply": "2023-02-25T17:29:30.978264Z"
    }
   },
   "outputs": [
    {
     "data": {
      "text/plain": [
       "Batch(\n",
       "    a: tensor([[-0.9303, -0.8564,  0.4900],\n",
       "               [-1.2648, -0.9290,  0.6270]]),\n",
       "    x: Batch(\n",
       "           c: tensor([[-1.3597,  0.9236, -0.2982, -0.6607],\n",
       "                      [ 0.1106,  0.3415, -0.8004,  1.0509],\n",
       "                      [-1.1365,  0.8590,  0.2151,  1.5539]]),\n",
       "       ),\n",
       ")"
      ]
     },
     "execution_count": 12,
     "metadata": {},
     "output_type": "execute_result"
    }
   ],
   "source": [
    "new_value = torch.randn(2, 3)\n",
    "b.a = new_value\n",
    "\n",
    "b"
   ]
  },
  {
   "cell_type": "code",
   "execution_count": 13,
   "id": "29b1d0bf",
   "metadata": {
    "execution": {
     "iopub.execute_input": "2023-02-25T17:29:30.981529Z",
     "iopub.status.busy": "2023-02-25T17:29:30.981172Z",
     "iopub.status.idle": "2023-02-25T17:29:34.895919Z",
     "shell.execute_reply": "2023-02-25T17:29:34.895195Z"
    }
   },
   "outputs": [
    {
     "name": "stdout",
     "output_type": "stream",
     "text": [
      "482 ns ± 0.197 ns per loop (mean ± std. dev. of 7 runs, 1,000,000 loops each)\n"
     ]
    }
   ],
   "source": [
    "%timeit b.a = new_value"
   ]
  },
  {
   "cell_type": "markdown",
   "id": "b61ad1d0",
   "metadata": {},
   "source": [
    "## Initialization"
   ]
  },
  {
   "cell_type": "markdown",
   "id": "d70f0d54",
   "metadata": {},
   "source": [
    "### TreeValue's Initialization"
   ]
  },
  {
   "cell_type": "code",
   "execution_count": 14,
   "id": "d32a679b",
   "metadata": {
    "execution": {
     "iopub.execute_input": "2023-02-25T17:29:34.899276Z",
     "iopub.status.busy": "2023-02-25T17:29:34.898670Z",
     "iopub.status.idle": "2023-02-25T17:29:41.950466Z",
     "shell.execute_reply": "2023-02-25T17:29:41.949750Z"
    }
   },
   "outputs": [
    {
     "name": "stdout",
     "output_type": "stream",
     "text": [
      "869 ns ± 8.76 ns per loop (mean ± std. dev. of 7 runs, 1,000,000 loops each)\n"
     ]
    }
   ],
   "source": [
    "%timeit FastTreeValue(_TREE_DATA_1)"
   ]
  },
  {
   "cell_type": "markdown",
   "id": "24f3707b",
   "metadata": {},
   "source": [
    "### Tianshou Batch's Initialization"
   ]
  },
  {
   "cell_type": "code",
   "execution_count": 15,
   "id": "ac3958df",
   "metadata": {
    "execution": {
     "iopub.execute_input": "2023-02-25T17:29:41.953353Z",
     "iopub.status.busy": "2023-02-25T17:29:41.952994Z",
     "iopub.status.idle": "2023-02-25T17:29:51.346144Z",
     "shell.execute_reply": "2023-02-25T17:29:51.344746Z"
    }
   },
   "outputs": [
    {
     "name": "stdout",
     "output_type": "stream",
     "text": [
      "11.6 µs ± 27 ns per loop (mean ± std. dev. of 7 runs, 100,000 loops each)\n"
     ]
    }
   ],
   "source": [
    "%timeit Batch(**_TREE_DATA_1)"
   ]
  },
  {
   "cell_type": "markdown",
   "id": "1ab82e2d",
   "metadata": {},
   "source": [
    "## Deep Copy Operation"
   ]
  },
  {
   "cell_type": "code",
   "execution_count": 16,
   "id": "210a9442",
   "metadata": {
    "execution": {
     "iopub.execute_input": "2023-02-25T17:29:51.350572Z",
     "iopub.status.busy": "2023-02-25T17:29:51.349427Z",
     "iopub.status.idle": "2023-02-25T17:29:51.355671Z",
     "shell.execute_reply": "2023-02-25T17:29:51.354224Z"
    }
   },
   "outputs": [],
   "source": [
    "import copy"
   ]
  },
  {
   "cell_type": "markdown",
   "id": "5a736274",
   "metadata": {},
   "source": [
    "### Deep Copy of TreeValue"
   ]
  },
  {
   "cell_type": "code",
   "execution_count": 17,
   "id": "f9bcadd6",
   "metadata": {
    "execution": {
     "iopub.execute_input": "2023-02-25T17:29:51.362519Z",
     "iopub.status.busy": "2023-02-25T17:29:51.361644Z",
     "iopub.status.idle": "2023-02-25T17:30:02.876818Z",
     "shell.execute_reply": "2023-02-25T17:30:02.876253Z"
    }
   },
   "outputs": [
    {
     "name": "stdout",
     "output_type": "stream",
     "text": [
      "142 µs ± 2.58 µs per loop (mean ± std. dev. of 7 runs, 10,000 loops each)\n"
     ]
    }
   ],
   "source": [
    "t3 = FastTreeValue(_TREE_DATA_3)\n",
    "%timeit copy.deepcopy(t3)"
   ]
  },
  {
   "cell_type": "markdown",
   "id": "bf8be7ea",
   "metadata": {},
   "source": [
    "### Deep Copy of Tianshou Batch"
   ]
  },
  {
   "cell_type": "code",
   "execution_count": 18,
   "id": "91998e6f",
   "metadata": {
    "execution": {
     "iopub.execute_input": "2023-02-25T17:30:02.879813Z",
     "iopub.status.busy": "2023-02-25T17:30:02.879295Z",
     "iopub.status.idle": "2023-02-25T17:30:14.013190Z",
     "shell.execute_reply": "2023-02-25T17:30:14.012629Z"
    }
   },
   "outputs": [
    {
     "name": "stdout",
     "output_type": "stream",
     "text": [
      "137 µs ± 1.04 µs per loop (mean ± std. dev. of 7 runs, 10,000 loops each)\n"
     ]
    }
   ],
   "source": [
    "b3 = Batch(**_TREE_DATA_3)\n",
    "%timeit copy.deepcopy(b3)"
   ]
  },
  {
   "cell_type": "markdown",
   "id": "223162fb",
   "metadata": {},
   "source": [
    "## Stack, Concat and Split Operation"
   ]
  },
  {
   "cell_type": "markdown",
   "id": "85fa4a73",
   "metadata": {},
   "source": [
    "### Performance of TreeValue"
   ]
  },
  {
   "cell_type": "code",
   "execution_count": 19,
   "id": "a0c2b697",
   "metadata": {
    "execution": {
     "iopub.execute_input": "2023-02-25T17:30:14.016175Z",
     "iopub.status.busy": "2023-02-25T17:30:14.015916Z",
     "iopub.status.idle": "2023-02-25T17:30:14.019969Z",
     "shell.execute_reply": "2023-02-25T17:30:14.019329Z"
    }
   },
   "outputs": [],
   "source": [
    "trees = [FastTreeValue(_TREE_DATA_2) for _ in range(8)]"
   ]
  },
  {
   "cell_type": "code",
   "execution_count": 20,
   "id": "017ea5a5",
   "metadata": {
    "execution": {
     "iopub.execute_input": "2023-02-25T17:30:14.022872Z",
     "iopub.status.busy": "2023-02-25T17:30:14.022643Z",
     "iopub.status.idle": "2023-02-25T17:30:14.031368Z",
     "shell.execute_reply": "2023-02-25T17:30:14.030724Z"
    }
   },
   "outputs": [
    {
     "data": {
      "text/plain": [
       "<FastTreeValue 0x7fb46ccdbca0>\n",
       "├── 'a' --> tensor([[[ 0.7846,  1.5794, -1.2714],\n",
       "│                    [ 0.6814,  0.7661, -0.0624]],\n",
       "│           \n",
       "│                   [[ 0.7846,  1.5794, -1.2714],\n",
       "│                    [ 0.6814,  0.7661, -0.0624]],\n",
       "│           \n",
       "│                   [[ 0.7846,  1.5794, -1.2714],\n",
       "│                    [ 0.6814,  0.7661, -0.0624]],\n",
       "│           \n",
       "│                   [[ 0.7846,  1.5794, -1.2714],\n",
       "│                    [ 0.6814,  0.7661, -0.0624]],\n",
       "│           \n",
       "│                   [[ 0.7846,  1.5794, -1.2714],\n",
       "│                    [ 0.6814,  0.7661, -0.0624]],\n",
       "│           \n",
       "│                   [[ 0.7846,  1.5794, -1.2714],\n",
       "│                    [ 0.6814,  0.7661, -0.0624]],\n",
       "│           \n",
       "│                   [[ 0.7846,  1.5794, -1.2714],\n",
       "│                    [ 0.6814,  0.7661, -0.0624]],\n",
       "│           \n",
       "│                   [[ 0.7846,  1.5794, -1.2714],\n",
       "│                    [ 0.6814,  0.7661, -0.0624]]])\n",
       "└── 'x' --> <FastTreeValue 0x7fb46ccdb820>\n",
       "    └── 'c' --> tensor([[[-1.3597,  0.9236, -0.2982, -0.6607],\n",
       "                         [ 0.1106,  0.3415, -0.8004,  1.0509],\n",
       "                         [-1.1365,  0.8590,  0.2151,  1.5539]],\n",
       "                \n",
       "                        [[-1.3597,  0.9236, -0.2982, -0.6607],\n",
       "                         [ 0.1106,  0.3415, -0.8004,  1.0509],\n",
       "                         [-1.1365,  0.8590,  0.2151,  1.5539]],\n",
       "                \n",
       "                        [[-1.3597,  0.9236, -0.2982, -0.6607],\n",
       "                         [ 0.1106,  0.3415, -0.8004,  1.0509],\n",
       "                         [-1.1365,  0.8590,  0.2151,  1.5539]],\n",
       "                \n",
       "                        [[-1.3597,  0.9236, -0.2982, -0.6607],\n",
       "                         [ 0.1106,  0.3415, -0.8004,  1.0509],\n",
       "                         [-1.1365,  0.8590,  0.2151,  1.5539]],\n",
       "                \n",
       "                        [[-1.3597,  0.9236, -0.2982, -0.6607],\n",
       "                         [ 0.1106,  0.3415, -0.8004,  1.0509],\n",
       "                         [-1.1365,  0.8590,  0.2151,  1.5539]],\n",
       "                \n",
       "                        [[-1.3597,  0.9236, -0.2982, -0.6607],\n",
       "                         [ 0.1106,  0.3415, -0.8004,  1.0509],\n",
       "                         [-1.1365,  0.8590,  0.2151,  1.5539]],\n",
       "                \n",
       "                        [[-1.3597,  0.9236, -0.2982, -0.6607],\n",
       "                         [ 0.1106,  0.3415, -0.8004,  1.0509],\n",
       "                         [-1.1365,  0.8590,  0.2151,  1.5539]],\n",
       "                \n",
       "                        [[-1.3597,  0.9236, -0.2982, -0.6607],\n",
       "                         [ 0.1106,  0.3415, -0.8004,  1.0509],\n",
       "                         [-1.1365,  0.8590,  0.2151,  1.5539]]])"
      ]
     },
     "execution_count": 20,
     "metadata": {},
     "output_type": "execute_result"
    }
   ],
   "source": [
    "t_stack = FastTreeValue.func(subside=True)(torch.stack)\n",
    "\n",
    "t_stack(trees)"
   ]
  },
  {
   "cell_type": "code",
   "execution_count": 21,
   "id": "f8b3f415",
   "metadata": {
    "execution": {
     "iopub.execute_input": "2023-02-25T17:30:14.034268Z",
     "iopub.status.busy": "2023-02-25T17:30:14.034032Z",
     "iopub.status.idle": "2023-02-25T17:30:16.651758Z",
     "shell.execute_reply": "2023-02-25T17:30:16.651037Z"
    }
   },
   "outputs": [
    {
     "name": "stdout",
     "output_type": "stream",
     "text": [
      "32.2 µs ± 31 ns per loop (mean ± std. dev. of 7 runs, 10,000 loops each)\n"
     ]
    }
   ],
   "source": [
    "%timeit t_stack(trees)"
   ]
  },
  {
   "cell_type": "code",
   "execution_count": 22,
   "id": "94b56771",
   "metadata": {
    "execution": {
     "iopub.execute_input": "2023-02-25T17:30:16.655080Z",
     "iopub.status.busy": "2023-02-25T17:30:16.654529Z",
     "iopub.status.idle": "2023-02-25T17:30:16.663608Z",
     "shell.execute_reply": "2023-02-25T17:30:16.663009Z"
    }
   },
   "outputs": [
    {
     "data": {
      "text/plain": [
       "<FastTreeValue 0x7fb47392fcd0>\n",
       "├── 'a' --> tensor([[ 0.7846,  1.5794, -1.2714],\n",
       "│                   [ 0.6814,  0.7661, -0.0624],\n",
       "│                   [ 0.7846,  1.5794, -1.2714],\n",
       "│                   [ 0.6814,  0.7661, -0.0624],\n",
       "│                   [ 0.7846,  1.5794, -1.2714],\n",
       "│                   [ 0.6814,  0.7661, -0.0624],\n",
       "│                   [ 0.7846,  1.5794, -1.2714],\n",
       "│                   [ 0.6814,  0.7661, -0.0624],\n",
       "│                   [ 0.7846,  1.5794, -1.2714],\n",
       "│                   [ 0.6814,  0.7661, -0.0624],\n",
       "│                   [ 0.7846,  1.5794, -1.2714],\n",
       "│                   [ 0.6814,  0.7661, -0.0624],\n",
       "│                   [ 0.7846,  1.5794, -1.2714],\n",
       "│                   [ 0.6814,  0.7661, -0.0624],\n",
       "│                   [ 0.7846,  1.5794, -1.2714],\n",
       "│                   [ 0.6814,  0.7661, -0.0624]])\n",
       "└── 'x' --> <FastTreeValue 0x7fb46cdd0310>\n",
       "    └── 'c' --> tensor([[-1.3597,  0.9236, -0.2982, -0.6607],\n",
       "                        [ 0.1106,  0.3415, -0.8004,  1.0509],\n",
       "                        [-1.1365,  0.8590,  0.2151,  1.5539],\n",
       "                        [-1.3597,  0.9236, -0.2982, -0.6607],\n",
       "                        [ 0.1106,  0.3415, -0.8004,  1.0509],\n",
       "                        [-1.1365,  0.8590,  0.2151,  1.5539],\n",
       "                        [-1.3597,  0.9236, -0.2982, -0.6607],\n",
       "                        [ 0.1106,  0.3415, -0.8004,  1.0509],\n",
       "                        [-1.1365,  0.8590,  0.2151,  1.5539],\n",
       "                        [-1.3597,  0.9236, -0.2982, -0.6607],\n",
       "                        [ 0.1106,  0.3415, -0.8004,  1.0509],\n",
       "                        [-1.1365,  0.8590,  0.2151,  1.5539],\n",
       "                        [-1.3597,  0.9236, -0.2982, -0.6607],\n",
       "                        [ 0.1106,  0.3415, -0.8004,  1.0509],\n",
       "                        [-1.1365,  0.8590,  0.2151,  1.5539],\n",
       "                        [-1.3597,  0.9236, -0.2982, -0.6607],\n",
       "                        [ 0.1106,  0.3415, -0.8004,  1.0509],\n",
       "                        [-1.1365,  0.8590,  0.2151,  1.5539],\n",
       "                        [-1.3597,  0.9236, -0.2982, -0.6607],\n",
       "                        [ 0.1106,  0.3415, -0.8004,  1.0509],\n",
       "                        [-1.1365,  0.8590,  0.2151,  1.5539],\n",
       "                        [-1.3597,  0.9236, -0.2982, -0.6607],\n",
       "                        [ 0.1106,  0.3415, -0.8004,  1.0509],\n",
       "                        [-1.1365,  0.8590,  0.2151,  1.5539]])"
      ]
     },
     "execution_count": 22,
     "metadata": {},
     "output_type": "execute_result"
    }
   ],
   "source": [
    "t_cat = FastTreeValue.func(subside=True)(torch.cat)\n",
    "\n",
    "t_cat(trees)"
   ]
  },
  {
   "cell_type": "code",
   "execution_count": 23,
   "id": "5e9c06a6",
   "metadata": {
    "execution": {
     "iopub.execute_input": "2023-02-25T17:30:16.666653Z",
     "iopub.status.busy": "2023-02-25T17:30:16.666165Z",
     "iopub.status.idle": "2023-02-25T17:30:19.112562Z",
     "shell.execute_reply": "2023-02-25T17:30:19.111894Z"
    }
   },
   "outputs": [
    {
     "name": "stdout",
     "output_type": "stream",
     "text": [
      "30.1 µs ± 72.4 ns per loop (mean ± std. dev. of 7 runs, 10,000 loops each)\n"
     ]
    }
   ],
   "source": [
    "%timeit t_cat(trees)"
   ]
  },
  {
   "cell_type": "code",
   "execution_count": 24,
   "id": "a3ab5c8f",
   "metadata": {
    "execution": {
     "iopub.execute_input": "2023-02-25T17:30:19.115680Z",
     "iopub.status.busy": "2023-02-25T17:30:19.115124Z",
     "iopub.status.idle": "2023-02-25T17:30:23.809944Z",
     "shell.execute_reply": "2023-02-25T17:30:23.809231Z"
    }
   },
   "outputs": [
    {
     "name": "stdout",
     "output_type": "stream",
     "text": [
      "57.7 µs ± 57.1 ns per loop (mean ± std. dev. of 7 runs, 10,000 loops each)\n"
     ]
    }
   ],
   "source": [
    "t_split = FastTreeValue.func(rise=True)(torch.split)\n",
    "tree = FastTreeValue({\n",
    "    'obs': torch.randn(8, 4, 84, 84),\n",
    "    'action': torch.randint(0, 6, size=(8, 1,)),\n",
    "    'reward': torch.rand(8, 1),\n",
    "})\n",
    "\n",
    "%timeit t_split(tree, 1)"
   ]
  },
  {
   "cell_type": "markdown",
   "id": "31c3ec0b",
   "metadata": {},
   "source": [
    "### Performance of Tianshou Batch"
   ]
  },
  {
   "cell_type": "code",
   "execution_count": 25,
   "id": "9ead828a",
   "metadata": {
    "execution": {
     "iopub.execute_input": "2023-02-25T17:30:23.813291Z",
     "iopub.status.busy": "2023-02-25T17:30:23.812769Z",
     "iopub.status.idle": "2023-02-25T17:30:23.820670Z",
     "shell.execute_reply": "2023-02-25T17:30:23.820089Z"
    }
   },
   "outputs": [
    {
     "data": {
      "text/plain": [
       "Batch(\n",
       "    x: Batch(\n",
       "           c: tensor([[[-1.3597,  0.9236, -0.2982, -0.6607],\n",
       "                       [ 0.1106,  0.3415, -0.8004,  1.0509],\n",
       "                       [-1.1365,  0.8590,  0.2151,  1.5539]],\n",
       "              \n",
       "                      [[-1.3597,  0.9236, -0.2982, -0.6607],\n",
       "                       [ 0.1106,  0.3415, -0.8004,  1.0509],\n",
       "                       [-1.1365,  0.8590,  0.2151,  1.5539]],\n",
       "              \n",
       "                      [[-1.3597,  0.9236, -0.2982, -0.6607],\n",
       "                       [ 0.1106,  0.3415, -0.8004,  1.0509],\n",
       "                       [-1.1365,  0.8590,  0.2151,  1.5539]],\n",
       "              \n",
       "                      [[-1.3597,  0.9236, -0.2982, -0.6607],\n",
       "                       [ 0.1106,  0.3415, -0.8004,  1.0509],\n",
       "                       [-1.1365,  0.8590,  0.2151,  1.5539]],\n",
       "              \n",
       "                      [[-1.3597,  0.9236, -0.2982, -0.6607],\n",
       "                       [ 0.1106,  0.3415, -0.8004,  1.0509],\n",
       "                       [-1.1365,  0.8590,  0.2151,  1.5539]],\n",
       "              \n",
       "                      [[-1.3597,  0.9236, -0.2982, -0.6607],\n",
       "                       [ 0.1106,  0.3415, -0.8004,  1.0509],\n",
       "                       [-1.1365,  0.8590,  0.2151,  1.5539]],\n",
       "              \n",
       "                      [[-1.3597,  0.9236, -0.2982, -0.6607],\n",
       "                       [ 0.1106,  0.3415, -0.8004,  1.0509],\n",
       "                       [-1.1365,  0.8590,  0.2151,  1.5539]],\n",
       "              \n",
       "                      [[-1.3597,  0.9236, -0.2982, -0.6607],\n",
       "                       [ 0.1106,  0.3415, -0.8004,  1.0509],\n",
       "                       [-1.1365,  0.8590,  0.2151,  1.5539]]]),\n",
       "       ),\n",
       "    a: tensor([[[ 0.7846,  1.5794, -1.2714],\n",
       "                [ 0.6814,  0.7661, -0.0624]],\n",
       "       \n",
       "               [[ 0.7846,  1.5794, -1.2714],\n",
       "                [ 0.6814,  0.7661, -0.0624]],\n",
       "       \n",
       "               [[ 0.7846,  1.5794, -1.2714],\n",
       "                [ 0.6814,  0.7661, -0.0624]],\n",
       "       \n",
       "               [[ 0.7846,  1.5794, -1.2714],\n",
       "                [ 0.6814,  0.7661, -0.0624]],\n",
       "       \n",
       "               [[ 0.7846,  1.5794, -1.2714],\n",
       "                [ 0.6814,  0.7661, -0.0624]],\n",
       "       \n",
       "               [[ 0.7846,  1.5794, -1.2714],\n",
       "                [ 0.6814,  0.7661, -0.0624]],\n",
       "       \n",
       "               [[ 0.7846,  1.5794, -1.2714],\n",
       "                [ 0.6814,  0.7661, -0.0624]],\n",
       "       \n",
       "               [[ 0.7846,  1.5794, -1.2714],\n",
       "                [ 0.6814,  0.7661, -0.0624]]]),\n",
       ")"
      ]
     },
     "execution_count": 25,
     "metadata": {},
     "output_type": "execute_result"
    }
   ],
   "source": [
    "batches = [Batch(**_TREE_DATA_2) for _ in range(8)]\n",
    "\n",
    "Batch.stack(batches)"
   ]
  },
  {
   "cell_type": "code",
   "execution_count": 26,
   "id": "ec9037a3",
   "metadata": {
    "execution": {
     "iopub.execute_input": "2023-02-25T17:30:23.824214Z",
     "iopub.status.busy": "2023-02-25T17:30:23.823162Z",
     "iopub.status.idle": "2023-02-25T17:30:30.113203Z",
     "shell.execute_reply": "2023-02-25T17:30:30.112528Z"
    }
   },
   "outputs": [
    {
     "name": "stdout",
     "output_type": "stream",
     "text": [
      "77.3 µs ± 57.6 ns per loop (mean ± std. dev. of 7 runs, 10,000 loops each)\n"
     ]
    }
   ],
   "source": [
    "%timeit Batch.stack(batches)"
   ]
  },
  {
   "cell_type": "code",
   "execution_count": 27,
   "id": "cb8ab77e",
   "metadata": {
    "execution": {
     "iopub.execute_input": "2023-02-25T17:30:30.116450Z",
     "iopub.status.busy": "2023-02-25T17:30:30.115897Z",
     "iopub.status.idle": "2023-02-25T17:30:30.123535Z",
     "shell.execute_reply": "2023-02-25T17:30:30.122943Z"
    }
   },
   "outputs": [
    {
     "data": {
      "text/plain": [
       "Batch(\n",
       "    x: Batch(\n",
       "           c: tensor([[-1.3597,  0.9236, -0.2982, -0.6607],\n",
       "                      [ 0.1106,  0.3415, -0.8004,  1.0509],\n",
       "                      [-1.1365,  0.8590,  0.2151,  1.5539],\n",
       "                      [-1.3597,  0.9236, -0.2982, -0.6607],\n",
       "                      [ 0.1106,  0.3415, -0.8004,  1.0509],\n",
       "                      [-1.1365,  0.8590,  0.2151,  1.5539],\n",
       "                      [-1.3597,  0.9236, -0.2982, -0.6607],\n",
       "                      [ 0.1106,  0.3415, -0.8004,  1.0509],\n",
       "                      [-1.1365,  0.8590,  0.2151,  1.5539],\n",
       "                      [-1.3597,  0.9236, -0.2982, -0.6607],\n",
       "                      [ 0.1106,  0.3415, -0.8004,  1.0509],\n",
       "                      [-1.1365,  0.8590,  0.2151,  1.5539],\n",
       "                      [-1.3597,  0.9236, -0.2982, -0.6607],\n",
       "                      [ 0.1106,  0.3415, -0.8004,  1.0509],\n",
       "                      [-1.1365,  0.8590,  0.2151,  1.5539],\n",
       "                      [-1.3597,  0.9236, -0.2982, -0.6607],\n",
       "                      [ 0.1106,  0.3415, -0.8004,  1.0509],\n",
       "                      [-1.1365,  0.8590,  0.2151,  1.5539],\n",
       "                      [-1.3597,  0.9236, -0.2982, -0.6607],\n",
       "                      [ 0.1106,  0.3415, -0.8004,  1.0509],\n",
       "                      [-1.1365,  0.8590,  0.2151,  1.5539],\n",
       "                      [-1.3597,  0.9236, -0.2982, -0.6607],\n",
       "                      [ 0.1106,  0.3415, -0.8004,  1.0509],\n",
       "                      [-1.1365,  0.8590,  0.2151,  1.5539]]),\n",
       "       ),\n",
       "    a: tensor([[ 0.7846,  1.5794, -1.2714],\n",
       "               [ 0.6814,  0.7661, -0.0624],\n",
       "               [ 0.7846,  1.5794, -1.2714],\n",
       "               [ 0.6814,  0.7661, -0.0624],\n",
       "               [ 0.7846,  1.5794, -1.2714],\n",
       "               [ 0.6814,  0.7661, -0.0624],\n",
       "               [ 0.7846,  1.5794, -1.2714],\n",
       "               [ 0.6814,  0.7661, -0.0624],\n",
       "               [ 0.7846,  1.5794, -1.2714],\n",
       "               [ 0.6814,  0.7661, -0.0624],\n",
       "               [ 0.7846,  1.5794, -1.2714],\n",
       "               [ 0.6814,  0.7661, -0.0624],\n",
       "               [ 0.7846,  1.5794, -1.2714],\n",
       "               [ 0.6814,  0.7661, -0.0624],\n",
       "               [ 0.7846,  1.5794, -1.2714],\n",
       "               [ 0.6814,  0.7661, -0.0624]]),\n",
       ")"
      ]
     },
     "execution_count": 27,
     "metadata": {},
     "output_type": "execute_result"
    }
   ],
   "source": [
    "Batch.cat(batches)"
   ]
  },
  {
   "cell_type": "code",
   "execution_count": 28,
   "id": "18dfb045",
   "metadata": {
    "execution": {
     "iopub.execute_input": "2023-02-25T17:30:30.126158Z",
     "iopub.status.busy": "2023-02-25T17:30:30.125930Z",
     "iopub.status.idle": "2023-02-25T17:30:41.661020Z",
     "shell.execute_reply": "2023-02-25T17:30:41.660355Z"
    }
   },
   "outputs": [
    {
     "name": "stdout",
     "output_type": "stream",
     "text": [
      "142 µs ± 282 ns per loop (mean ± std. dev. of 7 runs, 10,000 loops each)\n"
     ]
    }
   ],
   "source": [
    "%timeit Batch.cat(batches)"
   ]
  },
  {
   "cell_type": "code",
   "execution_count": 29,
   "id": "c6688e51",
   "metadata": {
    "execution": {
     "iopub.execute_input": "2023-02-25T17:30:41.664896Z",
     "iopub.status.busy": "2023-02-25T17:30:41.663945Z",
     "iopub.status.idle": "2023-02-25T17:30:44.343858Z",
     "shell.execute_reply": "2023-02-25T17:30:44.343279Z"
    }
   },
   "outputs": [
    {
     "name": "stdout",
     "output_type": "stream",
     "text": [
      "315 µs ± 2.23 µs per loop (mean ± std. dev. of 7 runs, 1,000 loops each)\n"
     ]
    }
   ],
   "source": [
    "batch = Batch({\n",
    "    'obs': torch.randn(8, 4, 84, 84),\n",
    "    'action': torch.randint(0, 6, size=(8, 1,)),\n",
    "    'reward': torch.rand(8, 1)}\n",
    ")\n",
    "\n",
    "%timeit list(Batch.split(batch, 1, shuffle=False, merge_last=True))"
   ]
  },
  {
   "cell_type": "code",
   "execution_count": null,
   "id": "2539fbd9",
   "metadata": {},
   "outputs": [],
   "source": []
  }
 ],
 "metadata": {
  "kernelspec": {
   "display_name": "Python 3 (ipykernel)",
   "language": "python",
   "name": "python3"
  },
  "language_info": {
   "codemirror_mode": {
    "name": "ipython",
    "version": 3
   },
   "file_extension": ".py",
   "mimetype": "text/x-python",
   "name": "python",
   "nbconvert_exporter": "python",
   "pygments_lexer": "ipython3",
   "version": "3.8.16"
  }
 },
 "nbformat": 4,
 "nbformat_minor": 5
}
