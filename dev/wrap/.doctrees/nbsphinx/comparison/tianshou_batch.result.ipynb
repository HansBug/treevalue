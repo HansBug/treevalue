{
 "cells": [
  {
   "cell_type": "markdown",
   "id": "9d39d946",
   "metadata": {},
   "source": [
    "# Comparison Between TreeValue and Tianshou Batch"
   ]
  },
  {
   "cell_type": "markdown",
   "id": "3c6db2d4",
   "metadata": {},
   "source": [
    "In this section, we will take a look at the feature and performance of the [Tianshou Batch](https://github.com/thu-ml/tianshou) library, which is developed by Tsinghua Machine Learning Group."
   ]
  },
  {
   "cell_type": "markdown",
   "id": "069361b0",
   "metadata": {},
   "source": [
    "Before starting the comparison, let us define some thing."
   ]
  },
  {
   "cell_type": "code",
   "execution_count": 1,
   "id": "06fc8d26",
   "metadata": {
    "execution": {
     "iopub.execute_input": "2023-03-06T18:05:03.565033Z",
     "iopub.status.busy": "2023-03-06T18:05:03.564811Z",
     "iopub.status.idle": "2023-03-06T18:05:04.508100Z",
     "shell.execute_reply": "2023-03-06T18:05:04.507383Z"
    }
   },
   "outputs": [
    {
     "name": "stderr",
     "output_type": "stream",
     "text": [
      "/opt/hostedtoolcache/Python/3.8.16/x64/lib/python3.8/site-packages/tqdm/auto.py:21: TqdmWarning: IProgress not found. Please update jupyter and ipywidgets. See https://ipywidgets.readthedocs.io/en/stable/user_install.html\n",
      "  from .autonotebook import tqdm as notebook_tqdm\n"
     ]
    }
   ],
   "source": [
    "import torch \n",
    "\n",
    "_TREE_DATA_1 = {'a': 1, 'b': 2, 'x': {'c': 3, 'd': 4}}\n",
    "_TREE_DATA_2 = {\n",
    "    'a': torch.randn(2, 3), \n",
    "    'x': {\n",
    "        'c': torch.randn(3, 4)\n",
    "    },\n",
    "}\n",
    "_TREE_DATA_3 = {\n",
    "    'obs': torch.randn(4, 84, 84),\n",
    "    'action': torch.randint(0, 6, size=(1,)),\n",
    "    'reward': torch.rand(1),\n",
    "}"
   ]
  },
  {
   "cell_type": "markdown",
   "id": "83461b25",
   "metadata": {},
   "source": [
    "## Read and Write Operation"
   ]
  },
  {
   "cell_type": "markdown",
   "id": "067b3f73",
   "metadata": {},
   "source": [
    "Reading and writing are the two most common operations in the tree data structure based on the data model (TreeValue and Tianshou Batch both belong to this type), so this section will compare the reading and writing performance of these two libraries."
   ]
  },
  {
   "cell_type": "markdown",
   "id": "5d09a5b7",
   "metadata": {},
   "source": [
    "### TreeValue's Get and Set"
   ]
  },
  {
   "cell_type": "code",
   "execution_count": 2,
   "id": "9519c4bb",
   "metadata": {
    "execution": {
     "iopub.execute_input": "2023-03-06T18:05:04.511603Z",
     "iopub.status.busy": "2023-03-06T18:05:04.511077Z",
     "iopub.status.idle": "2023-03-06T18:05:04.545596Z",
     "shell.execute_reply": "2023-03-06T18:05:04.544872Z"
    }
   },
   "outputs": [],
   "source": [
    "from treevalue import FastTreeValue\n",
    "\n",
    "t = FastTreeValue(_TREE_DATA_2)"
   ]
  },
  {
   "cell_type": "code",
   "execution_count": 3,
   "id": "11c37677",
   "metadata": {
    "execution": {
     "iopub.execute_input": "2023-03-06T18:05:04.548839Z",
     "iopub.status.busy": "2023-03-06T18:05:04.548258Z",
     "iopub.status.idle": "2023-03-06T18:05:04.558014Z",
     "shell.execute_reply": "2023-03-06T18:05:04.557393Z"
    }
   },
   "outputs": [
    {
     "data": {
      "text/plain": [
       "<FastTreeValue 0x7ff838bd7fd0>\n",
       "├── 'a' --> tensor([[-0.2875, -0.6631,  1.1169],\n",
       "│                   [ 0.8940, -0.5351, -0.4906]])\n",
       "└── 'x' --> <FastTreeValue 0x7ff838be2190>\n",
       "    └── 'c' --> tensor([[ 1.3298, -0.2681, -1.3537,  0.1432],\n",
       "                        [ 0.5488, -0.2302,  1.0011,  0.7344],\n",
       "                        [-0.1489, -1.1674, -0.3327, -0.5693]])"
      ]
     },
     "execution_count": 3,
     "metadata": {},
     "output_type": "execute_result"
    }
   ],
   "source": [
    "t"
   ]
  },
  {
   "cell_type": "code",
   "execution_count": 4,
   "id": "fd70b0b9",
   "metadata": {
    "execution": {
     "iopub.execute_input": "2023-03-06T18:05:04.560833Z",
     "iopub.status.busy": "2023-03-06T18:05:04.560295Z",
     "iopub.status.idle": "2023-03-06T18:05:04.565166Z",
     "shell.execute_reply": "2023-03-06T18:05:04.564541Z"
    }
   },
   "outputs": [
    {
     "data": {
      "text/plain": [
       "tensor([[-0.2875, -0.6631,  1.1169],\n",
       "        [ 0.8940, -0.5351, -0.4906]])"
      ]
     },
     "execution_count": 4,
     "metadata": {},
     "output_type": "execute_result"
    }
   ],
   "source": [
    "t.a"
   ]
  },
  {
   "cell_type": "code",
   "execution_count": 5,
   "id": "c18197bd",
   "metadata": {
    "execution": {
     "iopub.execute_input": "2023-03-06T18:05:04.567924Z",
     "iopub.status.busy": "2023-03-06T18:05:04.567406Z",
     "iopub.status.idle": "2023-03-06T18:05:09.759897Z",
     "shell.execute_reply": "2023-03-06T18:05:09.759162Z"
    }
   },
   "outputs": [
    {
     "name": "stdout",
     "output_type": "stream",
     "text": [
      "64.6 ns ± 0.0251 ns per loop (mean ± std. dev. of 7 runs, 10,000,000 loops each)\n"
     ]
    }
   ],
   "source": [
    "%timeit t.a"
   ]
  },
  {
   "cell_type": "code",
   "execution_count": 6,
   "id": "bd52f867",
   "metadata": {
    "execution": {
     "iopub.execute_input": "2023-03-06T18:05:09.763026Z",
     "iopub.status.busy": "2023-03-06T18:05:09.762424Z",
     "iopub.status.idle": "2023-03-06T18:05:09.768454Z",
     "shell.execute_reply": "2023-03-06T18:05:09.767824Z"
    }
   },
   "outputs": [
    {
     "data": {
      "text/plain": [
       "<FastTreeValue 0x7ff838bd7fd0>\n",
       "├── 'a' --> tensor([[ 0.2024,  0.5615, -0.6237],\n",
       "│                   [-0.5319, -1.0864,  0.2323]])\n",
       "└── 'x' --> <FastTreeValue 0x7ff838be2190>\n",
       "    └── 'c' --> tensor([[ 1.3298, -0.2681, -1.3537,  0.1432],\n",
       "                        [ 0.5488, -0.2302,  1.0011,  0.7344],\n",
       "                        [-0.1489, -1.1674, -0.3327, -0.5693]])"
      ]
     },
     "execution_count": 6,
     "metadata": {},
     "output_type": "execute_result"
    }
   ],
   "source": [
    "new_value = torch.randn(2, 3)\n",
    "t.a = new_value\n",
    "\n",
    "t"
   ]
  },
  {
   "cell_type": "code",
   "execution_count": 7,
   "id": "bbe04d1c",
   "metadata": {
    "execution": {
     "iopub.execute_input": "2023-03-06T18:05:09.770993Z",
     "iopub.status.busy": "2023-03-06T18:05:09.770635Z",
     "iopub.status.idle": "2023-03-06T18:05:15.408856Z",
     "shell.execute_reply": "2023-03-06T18:05:15.408073Z"
    }
   },
   "outputs": [
    {
     "name": "stdout",
     "output_type": "stream",
     "text": [
      "70.3 ns ± 0.0863 ns per loop (mean ± std. dev. of 7 runs, 10,000,000 loops each)\n"
     ]
    }
   ],
   "source": [
    "%timeit t.a = new_value"
   ]
  },
  {
   "cell_type": "markdown",
   "id": "48c49731",
   "metadata": {},
   "source": [
    "### Tianshou Batch's Get and Set"
   ]
  },
  {
   "cell_type": "code",
   "execution_count": 8,
   "id": "f1bb14c1",
   "metadata": {
    "execution": {
     "iopub.execute_input": "2023-03-06T18:05:15.412419Z",
     "iopub.status.busy": "2023-03-06T18:05:15.411707Z",
     "iopub.status.idle": "2023-03-06T18:05:15.759148Z",
     "shell.execute_reply": "2023-03-06T18:05:15.758441Z"
    }
   },
   "outputs": [],
   "source": [
    "from tianshou.data import Batch\n",
    "\n",
    "b = Batch(**_TREE_DATA_2)"
   ]
  },
  {
   "cell_type": "code",
   "execution_count": 9,
   "id": "cb0777c3",
   "metadata": {
    "execution": {
     "iopub.execute_input": "2023-03-06T18:05:15.762388Z",
     "iopub.status.busy": "2023-03-06T18:05:15.761830Z",
     "iopub.status.idle": "2023-03-06T18:05:15.768207Z",
     "shell.execute_reply": "2023-03-06T18:05:15.767600Z"
    }
   },
   "outputs": [
    {
     "data": {
      "text/plain": [
       "Batch(\n",
       "    a: tensor([[-0.2875, -0.6631,  1.1169],\n",
       "               [ 0.8940, -0.5351, -0.4906]]),\n",
       "    x: Batch(\n",
       "           c: tensor([[ 1.3298, -0.2681, -1.3537,  0.1432],\n",
       "                      [ 0.5488, -0.2302,  1.0011,  0.7344],\n",
       "                      [-0.1489, -1.1674, -0.3327, -0.5693]]),\n",
       "       ),\n",
       ")"
      ]
     },
     "execution_count": 9,
     "metadata": {},
     "output_type": "execute_result"
    }
   ],
   "source": [
    "b"
   ]
  },
  {
   "cell_type": "code",
   "execution_count": 10,
   "id": "43ef8ea3",
   "metadata": {
    "execution": {
     "iopub.execute_input": "2023-03-06T18:05:15.771326Z",
     "iopub.status.busy": "2023-03-06T18:05:15.770799Z",
     "iopub.status.idle": "2023-03-06T18:05:15.777037Z",
     "shell.execute_reply": "2023-03-06T18:05:15.776438Z"
    }
   },
   "outputs": [
    {
     "data": {
      "text/plain": [
       "tensor([[-0.2875, -0.6631,  1.1169],\n",
       "        [ 0.8940, -0.5351, -0.4906]])"
      ]
     },
     "execution_count": 10,
     "metadata": {},
     "output_type": "execute_result"
    }
   ],
   "source": [
    "b.a"
   ]
  },
  {
   "cell_type": "code",
   "execution_count": 11,
   "id": "b785ab72",
   "metadata": {
    "execution": {
     "iopub.execute_input": "2023-03-06T18:05:15.779575Z",
     "iopub.status.busy": "2023-03-06T18:05:15.779220Z",
     "iopub.status.idle": "2023-03-06T18:05:20.236500Z",
     "shell.execute_reply": "2023-03-06T18:05:20.235766Z"
    }
   },
   "outputs": [
    {
     "name": "stdout",
     "output_type": "stream",
     "text": [
      "55.5 ns ± 0.0519 ns per loop (mean ± std. dev. of 7 runs, 10,000,000 loops each)\n"
     ]
    }
   ],
   "source": [
    "%timeit b.a"
   ]
  },
  {
   "cell_type": "code",
   "execution_count": 12,
   "id": "ad54dc69",
   "metadata": {
    "execution": {
     "iopub.execute_input": "2023-03-06T18:05:20.239558Z",
     "iopub.status.busy": "2023-03-06T18:05:20.239172Z",
     "iopub.status.idle": "2023-03-06T18:05:20.245104Z",
     "shell.execute_reply": "2023-03-06T18:05:20.244440Z"
    }
   },
   "outputs": [
    {
     "data": {
      "text/plain": [
       "Batch(\n",
       "    a: tensor([[-1.4030, -1.5260, -0.3330],\n",
       "               [-0.1350,  0.7413, -2.6233]]),\n",
       "    x: Batch(\n",
       "           c: tensor([[ 1.3298, -0.2681, -1.3537,  0.1432],\n",
       "                      [ 0.5488, -0.2302,  1.0011,  0.7344],\n",
       "                      [-0.1489, -1.1674, -0.3327, -0.5693]]),\n",
       "       ),\n",
       ")"
      ]
     },
     "execution_count": 12,
     "metadata": {},
     "output_type": "execute_result"
    }
   ],
   "source": [
    "new_value = torch.randn(2, 3)\n",
    "b.a = new_value\n",
    "\n",
    "b"
   ]
  },
  {
   "cell_type": "code",
   "execution_count": 13,
   "id": "29b1d0bf",
   "metadata": {
    "execution": {
     "iopub.execute_input": "2023-03-06T18:05:20.247701Z",
     "iopub.status.busy": "2023-03-06T18:05:20.247347Z",
     "iopub.status.idle": "2023-03-06T18:05:24.114028Z",
     "shell.execute_reply": "2023-03-06T18:05:24.113282Z"
    }
   },
   "outputs": [
    {
     "name": "stdout",
     "output_type": "stream",
     "text": [
      "476 ns ± 0.0508 ns per loop (mean ± std. dev. of 7 runs, 1,000,000 loops each)\n"
     ]
    }
   ],
   "source": [
    "%timeit b.a = new_value"
   ]
  },
  {
   "cell_type": "markdown",
   "id": "b61ad1d0",
   "metadata": {},
   "source": [
    "## Initialization"
   ]
  },
  {
   "cell_type": "markdown",
   "id": "d70f0d54",
   "metadata": {},
   "source": [
    "### TreeValue's Initialization"
   ]
  },
  {
   "cell_type": "code",
   "execution_count": 14,
   "id": "d32a679b",
   "metadata": {
    "execution": {
     "iopub.execute_input": "2023-03-06T18:05:24.117259Z",
     "iopub.status.busy": "2023-03-06T18:05:24.116866Z",
     "iopub.status.idle": "2023-03-06T18:05:31.482094Z",
     "shell.execute_reply": "2023-03-06T18:05:31.480699Z"
    }
   },
   "outputs": [
    {
     "name": "stdout",
     "output_type": "stream",
     "text": [
      "908 ns ± 1.12 ns per loop (mean ± std. dev. of 7 runs, 1,000,000 loops each)\n"
     ]
    }
   ],
   "source": [
    "%timeit FastTreeValue(_TREE_DATA_1)"
   ]
  },
  {
   "cell_type": "markdown",
   "id": "24f3707b",
   "metadata": {},
   "source": [
    "### Tianshou Batch's Initialization"
   ]
  },
  {
   "cell_type": "code",
   "execution_count": 15,
   "id": "ac3958df",
   "metadata": {
    "execution": {
     "iopub.execute_input": "2023-03-06T18:05:31.486699Z",
     "iopub.status.busy": "2023-03-06T18:05:31.484770Z",
     "iopub.status.idle": "2023-03-06T18:05:40.909902Z",
     "shell.execute_reply": "2023-03-06T18:05:40.909135Z"
    }
   },
   "outputs": [
    {
     "name": "stdout",
     "output_type": "stream",
     "text": [
      "11.6 µs ± 27.6 ns per loop (mean ± std. dev. of 7 runs, 100,000 loops each)\n"
     ]
    }
   ],
   "source": [
    "%timeit Batch(**_TREE_DATA_1)"
   ]
  },
  {
   "cell_type": "markdown",
   "id": "1ab82e2d",
   "metadata": {},
   "source": [
    "## Deep Copy Operation"
   ]
  },
  {
   "cell_type": "code",
   "execution_count": 16,
   "id": "210a9442",
   "metadata": {
    "execution": {
     "iopub.execute_input": "2023-03-06T18:05:40.912910Z",
     "iopub.status.busy": "2023-03-06T18:05:40.912543Z",
     "iopub.status.idle": "2023-03-06T18:05:40.916667Z",
     "shell.execute_reply": "2023-03-06T18:05:40.916043Z"
    }
   },
   "outputs": [],
   "source": [
    "import copy"
   ]
  },
  {
   "cell_type": "markdown",
   "id": "5a736274",
   "metadata": {},
   "source": [
    "### Deep Copy of TreeValue"
   ]
  },
  {
   "cell_type": "code",
   "execution_count": 17,
   "id": "f9bcadd6",
   "metadata": {
    "execution": {
     "iopub.execute_input": "2023-03-06T18:05:40.919642Z",
     "iopub.status.busy": "2023-03-06T18:05:40.919016Z",
     "iopub.status.idle": "2023-03-06T18:05:52.042106Z",
     "shell.execute_reply": "2023-03-06T18:05:52.041340Z"
    }
   },
   "outputs": [
    {
     "name": "stdout",
     "output_type": "stream",
     "text": [
      "137 µs ± 1.46 µs per loop (mean ± std. dev. of 7 runs, 10,000 loops each)\n"
     ]
    }
   ],
   "source": [
    "t3 = FastTreeValue(_TREE_DATA_3)\n",
    "%timeit copy.deepcopy(t3)"
   ]
  },
  {
   "cell_type": "markdown",
   "id": "bf8be7ea",
   "metadata": {},
   "source": [
    "### Deep Copy of Tianshou Batch"
   ]
  },
  {
   "cell_type": "code",
   "execution_count": 18,
   "id": "91998e6f",
   "metadata": {
    "execution": {
     "iopub.execute_input": "2023-03-06T18:05:52.045358Z",
     "iopub.status.busy": "2023-03-06T18:05:52.045091Z",
     "iopub.status.idle": "2023-03-06T18:06:03.367965Z",
     "shell.execute_reply": "2023-03-06T18:06:03.367393Z"
    }
   },
   "outputs": [
    {
     "name": "stdout",
     "output_type": "stream",
     "text": [
      "140 µs ± 258 ns per loop (mean ± std. dev. of 7 runs, 10,000 loops each)\n"
     ]
    }
   ],
   "source": [
    "b3 = Batch(**_TREE_DATA_3)\n",
    "%timeit copy.deepcopy(b3)"
   ]
  },
  {
   "cell_type": "markdown",
   "id": "223162fb",
   "metadata": {},
   "source": [
    "## Stack, Concat and Split Operation"
   ]
  },
  {
   "cell_type": "markdown",
   "id": "85fa4a73",
   "metadata": {},
   "source": [
    "### Performance of TreeValue"
   ]
  },
  {
   "cell_type": "code",
   "execution_count": 19,
   "id": "a0c2b697",
   "metadata": {
    "execution": {
     "iopub.execute_input": "2023-03-06T18:06:03.370947Z",
     "iopub.status.busy": "2023-03-06T18:06:03.370498Z",
     "iopub.status.idle": "2023-03-06T18:06:03.374945Z",
     "shell.execute_reply": "2023-03-06T18:06:03.374406Z"
    }
   },
   "outputs": [],
   "source": [
    "trees = [FastTreeValue(_TREE_DATA_2) for _ in range(8)]"
   ]
  },
  {
   "cell_type": "code",
   "execution_count": 20,
   "id": "017ea5a5",
   "metadata": {
    "execution": {
     "iopub.execute_input": "2023-03-06T18:06:03.378723Z",
     "iopub.status.busy": "2023-03-06T18:06:03.377767Z",
     "iopub.status.idle": "2023-03-06T18:06:03.387220Z",
     "shell.execute_reply": "2023-03-06T18:06:03.386681Z"
    }
   },
   "outputs": [
    {
     "data": {
      "text/plain": [
       "<FastTreeValue 0x7ff78d8aa280>\n",
       "├── 'a' --> tensor([[[-0.2875, -0.6631,  1.1169],\n",
       "│                    [ 0.8940, -0.5351, -0.4906]],\n",
       "│           \n",
       "│                   [[-0.2875, -0.6631,  1.1169],\n",
       "│                    [ 0.8940, -0.5351, -0.4906]],\n",
       "│           \n",
       "│                   [[-0.2875, -0.6631,  1.1169],\n",
       "│                    [ 0.8940, -0.5351, -0.4906]],\n",
       "│           \n",
       "│                   [[-0.2875, -0.6631,  1.1169],\n",
       "│                    [ 0.8940, -0.5351, -0.4906]],\n",
       "│           \n",
       "│                   [[-0.2875, -0.6631,  1.1169],\n",
       "│                    [ 0.8940, -0.5351, -0.4906]],\n",
       "│           \n",
       "│                   [[-0.2875, -0.6631,  1.1169],\n",
       "│                    [ 0.8940, -0.5351, -0.4906]],\n",
       "│           \n",
       "│                   [[-0.2875, -0.6631,  1.1169],\n",
       "│                    [ 0.8940, -0.5351, -0.4906]],\n",
       "│           \n",
       "│                   [[-0.2875, -0.6631,  1.1169],\n",
       "│                    [ 0.8940, -0.5351, -0.4906]]])\n",
       "└── 'x' --> <FastTreeValue 0x7ff78d8aa220>\n",
       "    └── 'c' --> tensor([[[ 1.3298, -0.2681, -1.3537,  0.1432],\n",
       "                         [ 0.5488, -0.2302,  1.0011,  0.7344],\n",
       "                         [-0.1489, -1.1674, -0.3327, -0.5693]],\n",
       "                \n",
       "                        [[ 1.3298, -0.2681, -1.3537,  0.1432],\n",
       "                         [ 0.5488, -0.2302,  1.0011,  0.7344],\n",
       "                         [-0.1489, -1.1674, -0.3327, -0.5693]],\n",
       "                \n",
       "                        [[ 1.3298, -0.2681, -1.3537,  0.1432],\n",
       "                         [ 0.5488, -0.2302,  1.0011,  0.7344],\n",
       "                         [-0.1489, -1.1674, -0.3327, -0.5693]],\n",
       "                \n",
       "                        [[ 1.3298, -0.2681, -1.3537,  0.1432],\n",
       "                         [ 0.5488, -0.2302,  1.0011,  0.7344],\n",
       "                         [-0.1489, -1.1674, -0.3327, -0.5693]],\n",
       "                \n",
       "                        [[ 1.3298, -0.2681, -1.3537,  0.1432],\n",
       "                         [ 0.5488, -0.2302,  1.0011,  0.7344],\n",
       "                         [-0.1489, -1.1674, -0.3327, -0.5693]],\n",
       "                \n",
       "                        [[ 1.3298, -0.2681, -1.3537,  0.1432],\n",
       "                         [ 0.5488, -0.2302,  1.0011,  0.7344],\n",
       "                         [-0.1489, -1.1674, -0.3327, -0.5693]],\n",
       "                \n",
       "                        [[ 1.3298, -0.2681, -1.3537,  0.1432],\n",
       "                         [ 0.5488, -0.2302,  1.0011,  0.7344],\n",
       "                         [-0.1489, -1.1674, -0.3327, -0.5693]],\n",
       "                \n",
       "                        [[ 1.3298, -0.2681, -1.3537,  0.1432],\n",
       "                         [ 0.5488, -0.2302,  1.0011,  0.7344],\n",
       "                         [-0.1489, -1.1674, -0.3327, -0.5693]]])"
      ]
     },
     "execution_count": 20,
     "metadata": {},
     "output_type": "execute_result"
    }
   ],
   "source": [
    "t_stack = FastTreeValue.func(subside=True)(torch.stack)\n",
    "\n",
    "t_stack(trees)"
   ]
  },
  {
   "cell_type": "code",
   "execution_count": 21,
   "id": "f8b3f415",
   "metadata": {
    "execution": {
     "iopub.execute_input": "2023-03-06T18:06:03.390984Z",
     "iopub.status.busy": "2023-03-06T18:06:03.389870Z",
     "iopub.status.idle": "2023-03-06T18:06:06.020564Z",
     "shell.execute_reply": "2023-03-06T18:06:06.019874Z"
    }
   },
   "outputs": [
    {
     "name": "stdout",
     "output_type": "stream",
     "text": [
      "32.3 µs ± 82.6 ns per loop (mean ± std. dev. of 7 runs, 10,000 loops each)\n"
     ]
    }
   ],
   "source": [
    "%timeit t_stack(trees)"
   ]
  },
  {
   "cell_type": "code",
   "execution_count": 22,
   "id": "94b56771",
   "metadata": {
    "execution": {
     "iopub.execute_input": "2023-03-06T18:06:06.023681Z",
     "iopub.status.busy": "2023-03-06T18:06:06.023017Z",
     "iopub.status.idle": "2023-03-06T18:06:06.031555Z",
     "shell.execute_reply": "2023-03-06T18:06:06.030911Z"
    }
   },
   "outputs": [
    {
     "data": {
      "text/plain": [
       "<FastTreeValue 0x7ff79452d910>\n",
       "├── 'a' --> tensor([[-0.2875, -0.6631,  1.1169],\n",
       "│                   [ 0.8940, -0.5351, -0.4906],\n",
       "│                   [-0.2875, -0.6631,  1.1169],\n",
       "│                   [ 0.8940, -0.5351, -0.4906],\n",
       "│                   [-0.2875, -0.6631,  1.1169],\n",
       "│                   [ 0.8940, -0.5351, -0.4906],\n",
       "│                   [-0.2875, -0.6631,  1.1169],\n",
       "│                   [ 0.8940, -0.5351, -0.4906],\n",
       "│                   [-0.2875, -0.6631,  1.1169],\n",
       "│                   [ 0.8940, -0.5351, -0.4906],\n",
       "│                   [-0.2875, -0.6631,  1.1169],\n",
       "│                   [ 0.8940, -0.5351, -0.4906],\n",
       "│                   [-0.2875, -0.6631,  1.1169],\n",
       "│                   [ 0.8940, -0.5351, -0.4906],\n",
       "│                   [-0.2875, -0.6631,  1.1169],\n",
       "│                   [ 0.8940, -0.5351, -0.4906]])\n",
       "└── 'x' --> <FastTreeValue 0x7ff838be2040>\n",
       "    └── 'c' --> tensor([[ 1.3298, -0.2681, -1.3537,  0.1432],\n",
       "                        [ 0.5488, -0.2302,  1.0011,  0.7344],\n",
       "                        [-0.1489, -1.1674, -0.3327, -0.5693],\n",
       "                        [ 1.3298, -0.2681, -1.3537,  0.1432],\n",
       "                        [ 0.5488, -0.2302,  1.0011,  0.7344],\n",
       "                        [-0.1489, -1.1674, -0.3327, -0.5693],\n",
       "                        [ 1.3298, -0.2681, -1.3537,  0.1432],\n",
       "                        [ 0.5488, -0.2302,  1.0011,  0.7344],\n",
       "                        [-0.1489, -1.1674, -0.3327, -0.5693],\n",
       "                        [ 1.3298, -0.2681, -1.3537,  0.1432],\n",
       "                        [ 0.5488, -0.2302,  1.0011,  0.7344],\n",
       "                        [-0.1489, -1.1674, -0.3327, -0.5693],\n",
       "                        [ 1.3298, -0.2681, -1.3537,  0.1432],\n",
       "                        [ 0.5488, -0.2302,  1.0011,  0.7344],\n",
       "                        [-0.1489, -1.1674, -0.3327, -0.5693],\n",
       "                        [ 1.3298, -0.2681, -1.3537,  0.1432],\n",
       "                        [ 0.5488, -0.2302,  1.0011,  0.7344],\n",
       "                        [-0.1489, -1.1674, -0.3327, -0.5693],\n",
       "                        [ 1.3298, -0.2681, -1.3537,  0.1432],\n",
       "                        [ 0.5488, -0.2302,  1.0011,  0.7344],\n",
       "                        [-0.1489, -1.1674, -0.3327, -0.5693],\n",
       "                        [ 1.3298, -0.2681, -1.3537,  0.1432],\n",
       "                        [ 0.5488, -0.2302,  1.0011,  0.7344],\n",
       "                        [-0.1489, -1.1674, -0.3327, -0.5693]])"
      ]
     },
     "execution_count": 22,
     "metadata": {},
     "output_type": "execute_result"
    }
   ],
   "source": [
    "t_cat = FastTreeValue.func(subside=True)(torch.cat)\n",
    "\n",
    "t_cat(trees)"
   ]
  },
  {
   "cell_type": "code",
   "execution_count": 23,
   "id": "5e9c06a6",
   "metadata": {
    "execution": {
     "iopub.execute_input": "2023-03-06T18:06:06.034039Z",
     "iopub.status.busy": "2023-03-06T18:06:06.033809Z",
     "iopub.status.idle": "2023-03-06T18:06:08.516149Z",
     "shell.execute_reply": "2023-03-06T18:06:08.515409Z"
    }
   },
   "outputs": [
    {
     "name": "stdout",
     "output_type": "stream",
     "text": [
      "30.5 µs ± 89.7 ns per loop (mean ± std. dev. of 7 runs, 10,000 loops each)\n"
     ]
    }
   ],
   "source": [
    "%timeit t_cat(trees)"
   ]
  },
  {
   "cell_type": "code",
   "execution_count": 24,
   "id": "a3ab5c8f",
   "metadata": {
    "execution": {
     "iopub.execute_input": "2023-03-06T18:06:08.519294Z",
     "iopub.status.busy": "2023-03-06T18:06:08.518641Z",
     "iopub.status.idle": "2023-03-06T18:06:13.333960Z",
     "shell.execute_reply": "2023-03-06T18:06:13.333161Z"
    }
   },
   "outputs": [
    {
     "name": "stdout",
     "output_type": "stream",
     "text": [
      "59.2 µs ± 422 ns per loop (mean ± std. dev. of 7 runs, 10,000 loops each)\n"
     ]
    }
   ],
   "source": [
    "t_split = FastTreeValue.func(rise=True)(torch.split)\n",
    "tree = FastTreeValue({\n",
    "    'obs': torch.randn(8, 4, 84, 84),\n",
    "    'action': torch.randint(0, 6, size=(8, 1,)),\n",
    "    'reward': torch.rand(8, 1),\n",
    "})\n",
    "\n",
    "%timeit t_split(tree, 1)"
   ]
  },
  {
   "cell_type": "markdown",
   "id": "31c3ec0b",
   "metadata": {},
   "source": [
    "### Performance of Tianshou Batch"
   ]
  },
  {
   "cell_type": "code",
   "execution_count": 25,
   "id": "9ead828a",
   "metadata": {
    "execution": {
     "iopub.execute_input": "2023-03-06T18:06:13.337160Z",
     "iopub.status.busy": "2023-03-06T18:06:13.336762Z",
     "iopub.status.idle": "2023-03-06T18:06:13.345867Z",
     "shell.execute_reply": "2023-03-06T18:06:13.345256Z"
    }
   },
   "outputs": [
    {
     "data": {
      "text/plain": [
       "Batch(\n",
       "    a: tensor([[[-0.2875, -0.6631,  1.1169],\n",
       "                [ 0.8940, -0.5351, -0.4906]],\n",
       "       \n",
       "               [[-0.2875, -0.6631,  1.1169],\n",
       "                [ 0.8940, -0.5351, -0.4906]],\n",
       "       \n",
       "               [[-0.2875, -0.6631,  1.1169],\n",
       "                [ 0.8940, -0.5351, -0.4906]],\n",
       "       \n",
       "               [[-0.2875, -0.6631,  1.1169],\n",
       "                [ 0.8940, -0.5351, -0.4906]],\n",
       "       \n",
       "               [[-0.2875, -0.6631,  1.1169],\n",
       "                [ 0.8940, -0.5351, -0.4906]],\n",
       "       \n",
       "               [[-0.2875, -0.6631,  1.1169],\n",
       "                [ 0.8940, -0.5351, -0.4906]],\n",
       "       \n",
       "               [[-0.2875, -0.6631,  1.1169],\n",
       "                [ 0.8940, -0.5351, -0.4906]],\n",
       "       \n",
       "               [[-0.2875, -0.6631,  1.1169],\n",
       "                [ 0.8940, -0.5351, -0.4906]]]),\n",
       "    x: Batch(\n",
       "           c: tensor([[[ 1.3298, -0.2681, -1.3537,  0.1432],\n",
       "                       [ 0.5488, -0.2302,  1.0011,  0.7344],\n",
       "                       [-0.1489, -1.1674, -0.3327, -0.5693]],\n",
       "              \n",
       "                      [[ 1.3298, -0.2681, -1.3537,  0.1432],\n",
       "                       [ 0.5488, -0.2302,  1.0011,  0.7344],\n",
       "                       [-0.1489, -1.1674, -0.3327, -0.5693]],\n",
       "              \n",
       "                      [[ 1.3298, -0.2681, -1.3537,  0.1432],\n",
       "                       [ 0.5488, -0.2302,  1.0011,  0.7344],\n",
       "                       [-0.1489, -1.1674, -0.3327, -0.5693]],\n",
       "              \n",
       "                      [[ 1.3298, -0.2681, -1.3537,  0.1432],\n",
       "                       [ 0.5488, -0.2302,  1.0011,  0.7344],\n",
       "                       [-0.1489, -1.1674, -0.3327, -0.5693]],\n",
       "              \n",
       "                      [[ 1.3298, -0.2681, -1.3537,  0.1432],\n",
       "                       [ 0.5488, -0.2302,  1.0011,  0.7344],\n",
       "                       [-0.1489, -1.1674, -0.3327, -0.5693]],\n",
       "              \n",
       "                      [[ 1.3298, -0.2681, -1.3537,  0.1432],\n",
       "                       [ 0.5488, -0.2302,  1.0011,  0.7344],\n",
       "                       [-0.1489, -1.1674, -0.3327, -0.5693]],\n",
       "              \n",
       "                      [[ 1.3298, -0.2681, -1.3537,  0.1432],\n",
       "                       [ 0.5488, -0.2302,  1.0011,  0.7344],\n",
       "                       [-0.1489, -1.1674, -0.3327, -0.5693]],\n",
       "              \n",
       "                      [[ 1.3298, -0.2681, -1.3537,  0.1432],\n",
       "                       [ 0.5488, -0.2302,  1.0011,  0.7344],\n",
       "                       [-0.1489, -1.1674, -0.3327, -0.5693]]]),\n",
       "       ),\n",
       ")"
      ]
     },
     "execution_count": 25,
     "metadata": {},
     "output_type": "execute_result"
    }
   ],
   "source": [
    "batches = [Batch(**_TREE_DATA_2) for _ in range(8)]\n",
    "\n",
    "Batch.stack(batches)"
   ]
  },
  {
   "cell_type": "code",
   "execution_count": 26,
   "id": "ec9037a3",
   "metadata": {
    "execution": {
     "iopub.execute_input": "2023-03-06T18:06:13.348906Z",
     "iopub.status.busy": "2023-03-06T18:06:13.348405Z",
     "iopub.status.idle": "2023-03-06T18:06:19.704868Z",
     "shell.execute_reply": "2023-03-06T18:06:19.704115Z"
    }
   },
   "outputs": [
    {
     "name": "stdout",
     "output_type": "stream",
     "text": [
      "78.2 µs ± 245 ns per loop (mean ± std. dev. of 7 runs, 10,000 loops each)\n"
     ]
    }
   ],
   "source": [
    "%timeit Batch.stack(batches)"
   ]
  },
  {
   "cell_type": "code",
   "execution_count": 27,
   "id": "cb8ab77e",
   "metadata": {
    "execution": {
     "iopub.execute_input": "2023-03-06T18:06:19.708825Z",
     "iopub.status.busy": "2023-03-06T18:06:19.708442Z",
     "iopub.status.idle": "2023-03-06T18:06:19.716102Z",
     "shell.execute_reply": "2023-03-06T18:06:19.715511Z"
    }
   },
   "outputs": [
    {
     "data": {
      "text/plain": [
       "Batch(\n",
       "    a: tensor([[-0.2875, -0.6631,  1.1169],\n",
       "               [ 0.8940, -0.5351, -0.4906],\n",
       "               [-0.2875, -0.6631,  1.1169],\n",
       "               [ 0.8940, -0.5351, -0.4906],\n",
       "               [-0.2875, -0.6631,  1.1169],\n",
       "               [ 0.8940, -0.5351, -0.4906],\n",
       "               [-0.2875, -0.6631,  1.1169],\n",
       "               [ 0.8940, -0.5351, -0.4906],\n",
       "               [-0.2875, -0.6631,  1.1169],\n",
       "               [ 0.8940, -0.5351, -0.4906],\n",
       "               [-0.2875, -0.6631,  1.1169],\n",
       "               [ 0.8940, -0.5351, -0.4906],\n",
       "               [-0.2875, -0.6631,  1.1169],\n",
       "               [ 0.8940, -0.5351, -0.4906],\n",
       "               [-0.2875, -0.6631,  1.1169],\n",
       "               [ 0.8940, -0.5351, -0.4906]]),\n",
       "    x: Batch(\n",
       "           c: tensor([[ 1.3298, -0.2681, -1.3537,  0.1432],\n",
       "                      [ 0.5488, -0.2302,  1.0011,  0.7344],\n",
       "                      [-0.1489, -1.1674, -0.3327, -0.5693],\n",
       "                      [ 1.3298, -0.2681, -1.3537,  0.1432],\n",
       "                      [ 0.5488, -0.2302,  1.0011,  0.7344],\n",
       "                      [-0.1489, -1.1674, -0.3327, -0.5693],\n",
       "                      [ 1.3298, -0.2681, -1.3537,  0.1432],\n",
       "                      [ 0.5488, -0.2302,  1.0011,  0.7344],\n",
       "                      [-0.1489, -1.1674, -0.3327, -0.5693],\n",
       "                      [ 1.3298, -0.2681, -1.3537,  0.1432],\n",
       "                      [ 0.5488, -0.2302,  1.0011,  0.7344],\n",
       "                      [-0.1489, -1.1674, -0.3327, -0.5693],\n",
       "                      [ 1.3298, -0.2681, -1.3537,  0.1432],\n",
       "                      [ 0.5488, -0.2302,  1.0011,  0.7344],\n",
       "                      [-0.1489, -1.1674, -0.3327, -0.5693],\n",
       "                      [ 1.3298, -0.2681, -1.3537,  0.1432],\n",
       "                      [ 0.5488, -0.2302,  1.0011,  0.7344],\n",
       "                      [-0.1489, -1.1674, -0.3327, -0.5693],\n",
       "                      [ 1.3298, -0.2681, -1.3537,  0.1432],\n",
       "                      [ 0.5488, -0.2302,  1.0011,  0.7344],\n",
       "                      [-0.1489, -1.1674, -0.3327, -0.5693],\n",
       "                      [ 1.3298, -0.2681, -1.3537,  0.1432],\n",
       "                      [ 0.5488, -0.2302,  1.0011,  0.7344],\n",
       "                      [-0.1489, -1.1674, -0.3327, -0.5693]]),\n",
       "       ),\n",
       ")"
      ]
     },
     "execution_count": 27,
     "metadata": {},
     "output_type": "execute_result"
    }
   ],
   "source": [
    "Batch.cat(batches)"
   ]
  },
  {
   "cell_type": "code",
   "execution_count": 28,
   "id": "18dfb045",
   "metadata": {
    "execution": {
     "iopub.execute_input": "2023-03-06T18:06:19.719046Z",
     "iopub.status.busy": "2023-03-06T18:06:19.718682Z",
     "iopub.status.idle": "2023-03-06T18:06:31.400214Z",
     "shell.execute_reply": "2023-03-06T18:06:31.399536Z"
    }
   },
   "outputs": [
    {
     "name": "stdout",
     "output_type": "stream",
     "text": [
      "144 µs ± 396 ns per loop (mean ± std. dev. of 7 runs, 10,000 loops each)\n"
     ]
    }
   ],
   "source": [
    "%timeit Batch.cat(batches)"
   ]
  },
  {
   "cell_type": "code",
   "execution_count": 29,
   "id": "c6688e51",
   "metadata": {
    "execution": {
     "iopub.execute_input": "2023-03-06T18:06:31.403193Z",
     "iopub.status.busy": "2023-03-06T18:06:31.402579Z",
     "iopub.status.idle": "2023-03-06T18:06:33.915440Z",
     "shell.execute_reply": "2023-03-06T18:06:33.914709Z"
    }
   },
   "outputs": [
    {
     "name": "stdout",
     "output_type": "stream",
     "text": [
      "308 µs ± 1.32 µs per loop (mean ± std. dev. of 7 runs, 1,000 loops each)\n"
     ]
    }
   ],
   "source": [
    "batch = Batch({\n",
    "    'obs': torch.randn(8, 4, 84, 84),\n",
    "    'action': torch.randint(0, 6, size=(8, 1,)),\n",
    "    'reward': torch.rand(8, 1)}\n",
    ")\n",
    "\n",
    "%timeit list(Batch.split(batch, 1, shuffle=False, merge_last=True))"
   ]
  },
  {
   "cell_type": "code",
   "execution_count": null,
   "id": "2539fbd9",
   "metadata": {},
   "outputs": [],
   "source": []
  }
 ],
 "metadata": {
  "kernelspec": {
   "display_name": "Python 3 (ipykernel)",
   "language": "python",
   "name": "python3"
  },
  "language_info": {
   "codemirror_mode": {
    "name": "ipython",
    "version": 3
   },
   "file_extension": ".py",
   "mimetype": "text/x-python",
   "name": "python",
   "nbconvert_exporter": "python",
   "pygments_lexer": "ipython3",
   "version": "3.8.16"
  }
 },
 "nbformat": 4,
 "nbformat_minor": 5
}
