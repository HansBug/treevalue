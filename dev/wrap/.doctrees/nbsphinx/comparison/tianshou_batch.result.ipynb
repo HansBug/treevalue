{
 "cells": [
  {
   "cell_type": "markdown",
   "id": "9d39d946",
   "metadata": {},
   "source": [
    "# Comparison Between TreeValue and Tianshou Batch"
   ]
  },
  {
   "cell_type": "markdown",
   "id": "3c6db2d4",
   "metadata": {},
   "source": [
    "In this section, we will take a look at the feature and performance of the [Tianshou Batch](https://github.com/thu-ml/tianshou) library, which is developed by Tsinghua Machine Learning Group."
   ]
  },
  {
   "cell_type": "markdown",
   "id": "069361b0",
   "metadata": {},
   "source": [
    "Before starting the comparison, let us define some thing."
   ]
  },
  {
   "cell_type": "code",
   "execution_count": 1,
   "id": "06fc8d26",
   "metadata": {
    "execution": {
     "iopub.execute_input": "2023-04-16T15:52:16.869787Z",
     "iopub.status.busy": "2023-04-16T15:52:16.869250Z",
     "iopub.status.idle": "2023-04-16T15:52:18.307856Z",
     "shell.execute_reply": "2023-04-16T15:52:18.307039Z"
    }
   },
   "outputs": [],
   "source": [
    "import torch \n",
    "\n",
    "_TREE_DATA_1 = {'a': 1, 'b': 2, 'x': {'c': 3, 'd': 4}}\n",
    "_TREE_DATA_2 = {\n",
    "    'a': torch.randn(2, 3), \n",
    "    'x': {\n",
    "        'c': torch.randn(3, 4)\n",
    "    },\n",
    "}\n",
    "_TREE_DATA_3 = {\n",
    "    'obs': torch.randn(4, 84, 84),\n",
    "    'action': torch.randint(0, 6, size=(1,)),\n",
    "    'reward': torch.rand(1),\n",
    "}"
   ]
  },
  {
   "cell_type": "markdown",
   "id": "83461b25",
   "metadata": {},
   "source": [
    "## Read and Write Operation"
   ]
  },
  {
   "cell_type": "markdown",
   "id": "067b3f73",
   "metadata": {},
   "source": [
    "Reading and writing are the two most common operations in the tree data structure based on the data model (TreeValue and Tianshou Batch both belong to this type), so this section will compare the reading and writing performance of these two libraries."
   ]
  },
  {
   "cell_type": "markdown",
   "id": "5d09a5b7",
   "metadata": {},
   "source": [
    "### TreeValue's Get and Set"
   ]
  },
  {
   "cell_type": "code",
   "execution_count": 2,
   "id": "9519c4bb",
   "metadata": {
    "execution": {
     "iopub.execute_input": "2023-04-16T15:52:18.312670Z",
     "iopub.status.busy": "2023-04-16T15:52:18.312154Z",
     "iopub.status.idle": "2023-04-16T15:52:18.342940Z",
     "shell.execute_reply": "2023-04-16T15:52:18.342215Z"
    }
   },
   "outputs": [],
   "source": [
    "from treevalue import FastTreeValue\n",
    "\n",
    "t = FastTreeValue(_TREE_DATA_2)"
   ]
  },
  {
   "cell_type": "code",
   "execution_count": 3,
   "id": "11c37677",
   "metadata": {
    "execution": {
     "iopub.execute_input": "2023-04-16T15:52:18.346499Z",
     "iopub.status.busy": "2023-04-16T15:52:18.346029Z",
     "iopub.status.idle": "2023-04-16T15:52:18.356334Z",
     "shell.execute_reply": "2023-04-16T15:52:18.355639Z"
    }
   },
   "outputs": [
    {
     "data": {
      "text/plain": [
       "<FastTreeValue 0x7fd62880c040>\n",
       "├── 'a' --> tensor([[ 1.6003,  0.5902,  0.9084],\n",
       "│                   [ 0.9958, -0.8620,  0.6703]])\n",
       "└── 'x' --> <FastTreeValue 0x7fd62880c5b0>\n",
       "    └── 'c' --> tensor([[ 1.3000,  0.2663,  0.9359,  0.8431],\n",
       "                        [-0.6869,  2.0142,  1.0004,  0.2988],\n",
       "                        [ 0.4094, -0.0973, -0.1779,  0.4278]])"
      ]
     },
     "execution_count": 3,
     "metadata": {},
     "output_type": "execute_result"
    }
   ],
   "source": [
    "t"
   ]
  },
  {
   "cell_type": "code",
   "execution_count": 4,
   "id": "fd70b0b9",
   "metadata": {
    "execution": {
     "iopub.execute_input": "2023-04-16T15:52:18.359780Z",
     "iopub.status.busy": "2023-04-16T15:52:18.359209Z",
     "iopub.status.idle": "2023-04-16T15:52:18.364285Z",
     "shell.execute_reply": "2023-04-16T15:52:18.363574Z"
    }
   },
   "outputs": [
    {
     "data": {
      "text/plain": [
       "tensor([[ 1.6003,  0.5902,  0.9084],\n",
       "        [ 0.9958, -0.8620,  0.6703]])"
      ]
     },
     "execution_count": 4,
     "metadata": {},
     "output_type": "execute_result"
    }
   ],
   "source": [
    "t.a"
   ]
  },
  {
   "cell_type": "code",
   "execution_count": 5,
   "id": "c18197bd",
   "metadata": {
    "execution": {
     "iopub.execute_input": "2023-04-16T15:52:18.367593Z",
     "iopub.status.busy": "2023-04-16T15:52:18.367036Z",
     "iopub.status.idle": "2023-04-16T15:52:23.478689Z",
     "shell.execute_reply": "2023-04-16T15:52:23.477916Z"
    }
   },
   "outputs": [
    {
     "name": "stdout",
     "output_type": "stream",
     "text": [
      "63 ns ± 0.0657 ns per loop (mean ± std. dev. of 7 runs, 10,000,000 loops each)\n"
     ]
    }
   ],
   "source": [
    "%timeit t.a"
   ]
  },
  {
   "cell_type": "code",
   "execution_count": 6,
   "id": "bd52f867",
   "metadata": {
    "execution": {
     "iopub.execute_input": "2023-04-16T15:52:23.482294Z",
     "iopub.status.busy": "2023-04-16T15:52:23.481616Z",
     "iopub.status.idle": "2023-04-16T15:52:23.488449Z",
     "shell.execute_reply": "2023-04-16T15:52:23.487748Z"
    }
   },
   "outputs": [
    {
     "data": {
      "text/plain": [
       "<FastTreeValue 0x7fd62880c040>\n",
       "├── 'a' --> tensor([[-0.4745,  0.6453,  0.1441],\n",
       "│                   [-0.2797, -1.8246,  0.3933]])\n",
       "└── 'x' --> <FastTreeValue 0x7fd62880c5b0>\n",
       "    └── 'c' --> tensor([[ 1.3000,  0.2663,  0.9359,  0.8431],\n",
       "                        [-0.6869,  2.0142,  1.0004,  0.2988],\n",
       "                        [ 0.4094, -0.0973, -0.1779,  0.4278]])"
      ]
     },
     "execution_count": 6,
     "metadata": {},
     "output_type": "execute_result"
    }
   ],
   "source": [
    "new_value = torch.randn(2, 3)\n",
    "t.a = new_value\n",
    "\n",
    "t"
   ]
  },
  {
   "cell_type": "code",
   "execution_count": 7,
   "id": "bbe04d1c",
   "metadata": {
    "execution": {
     "iopub.execute_input": "2023-04-16T15:52:23.491779Z",
     "iopub.status.busy": "2023-04-16T15:52:23.491163Z",
     "iopub.status.idle": "2023-04-16T15:52:29.441118Z",
     "shell.execute_reply": "2023-04-16T15:52:29.440367Z"
    }
   },
   "outputs": [
    {
     "name": "stdout",
     "output_type": "stream",
     "text": [
      "73.3 ns ± 0.0635 ns per loop (mean ± std. dev. of 7 runs, 10,000,000 loops each)\n"
     ]
    }
   ],
   "source": [
    "%timeit t.a = new_value"
   ]
  },
  {
   "cell_type": "markdown",
   "id": "48c49731",
   "metadata": {},
   "source": [
    "### Tianshou Batch's Get and Set"
   ]
  },
  {
   "cell_type": "code",
   "execution_count": 8,
   "id": "f1bb14c1",
   "metadata": {
    "execution": {
     "iopub.execute_input": "2023-04-16T15:52:29.444772Z",
     "iopub.status.busy": "2023-04-16T15:52:29.444126Z",
     "iopub.status.idle": "2023-04-16T15:52:29.839927Z",
     "shell.execute_reply": "2023-04-16T15:52:29.839129Z"
    }
   },
   "outputs": [],
   "source": [
    "from tianshou.data import Batch\n",
    "\n",
    "b = Batch(**_TREE_DATA_2)"
   ]
  },
  {
   "cell_type": "code",
   "execution_count": 9,
   "id": "cb0777c3",
   "metadata": {
    "execution": {
     "iopub.execute_input": "2023-04-16T15:52:29.843995Z",
     "iopub.status.busy": "2023-04-16T15:52:29.843634Z",
     "iopub.status.idle": "2023-04-16T15:52:29.849795Z",
     "shell.execute_reply": "2023-04-16T15:52:29.849111Z"
    }
   },
   "outputs": [
    {
     "data": {
      "text/plain": [
       "Batch(\n",
       "    a: tensor([[ 1.6003,  0.5902,  0.9084],\n",
       "               [ 0.9958, -0.8620,  0.6703]]),\n",
       "    x: Batch(\n",
       "           c: tensor([[ 1.3000,  0.2663,  0.9359,  0.8431],\n",
       "                      [-0.6869,  2.0142,  1.0004,  0.2988],\n",
       "                      [ 0.4094, -0.0973, -0.1779,  0.4278]]),\n",
       "       ),\n",
       ")"
      ]
     },
     "execution_count": 9,
     "metadata": {},
     "output_type": "execute_result"
    }
   ],
   "source": [
    "b"
   ]
  },
  {
   "cell_type": "code",
   "execution_count": 10,
   "id": "43ef8ea3",
   "metadata": {
    "execution": {
     "iopub.execute_input": "2023-04-16T15:52:29.852871Z",
     "iopub.status.busy": "2023-04-16T15:52:29.852419Z",
     "iopub.status.idle": "2023-04-16T15:52:29.857426Z",
     "shell.execute_reply": "2023-04-16T15:52:29.856760Z"
    }
   },
   "outputs": [
    {
     "data": {
      "text/plain": [
       "tensor([[ 1.6003,  0.5902,  0.9084],\n",
       "        [ 0.9958, -0.8620,  0.6703]])"
      ]
     },
     "execution_count": 10,
     "metadata": {},
     "output_type": "execute_result"
    }
   ],
   "source": [
    "b.a"
   ]
  },
  {
   "cell_type": "code",
   "execution_count": 11,
   "id": "b785ab72",
   "metadata": {
    "execution": {
     "iopub.execute_input": "2023-04-16T15:52:29.860566Z",
     "iopub.status.busy": "2023-04-16T15:52:29.860204Z",
     "iopub.status.idle": "2023-04-16T15:52:34.600516Z",
     "shell.execute_reply": "2023-04-16T15:52:34.599758Z"
    }
   },
   "outputs": [
    {
     "name": "stdout",
     "output_type": "stream",
     "text": [
      "58.4 ns ± 0.0655 ns per loop (mean ± std. dev. of 7 runs, 10,000,000 loops each)\n"
     ]
    }
   ],
   "source": [
    "%timeit b.a"
   ]
  },
  {
   "cell_type": "code",
   "execution_count": 12,
   "id": "ad54dc69",
   "metadata": {
    "execution": {
     "iopub.execute_input": "2023-04-16T15:52:34.603976Z",
     "iopub.status.busy": "2023-04-16T15:52:34.603487Z",
     "iopub.status.idle": "2023-04-16T15:52:34.609881Z",
     "shell.execute_reply": "2023-04-16T15:52:34.609171Z"
    }
   },
   "outputs": [
    {
     "data": {
      "text/plain": [
       "Batch(\n",
       "    a: tensor([[ 0.1016,  0.0539,  0.9739],\n",
       "               [ 2.0233, -0.1016, -0.3686]]),\n",
       "    x: Batch(\n",
       "           c: tensor([[ 1.3000,  0.2663,  0.9359,  0.8431],\n",
       "                      [-0.6869,  2.0142,  1.0004,  0.2988],\n",
       "                      [ 0.4094, -0.0973, -0.1779,  0.4278]]),\n",
       "       ),\n",
       ")"
      ]
     },
     "execution_count": 12,
     "metadata": {},
     "output_type": "execute_result"
    }
   ],
   "source": [
    "new_value = torch.randn(2, 3)\n",
    "b.a = new_value\n",
    "\n",
    "b"
   ]
  },
  {
   "cell_type": "code",
   "execution_count": 13,
   "id": "29b1d0bf",
   "metadata": {
    "execution": {
     "iopub.execute_input": "2023-04-16T15:52:34.613097Z",
     "iopub.status.busy": "2023-04-16T15:52:34.612645Z",
     "iopub.status.idle": "2023-04-16T15:52:38.590148Z",
     "shell.execute_reply": "2023-04-16T15:52:38.589392Z"
    }
   },
   "outputs": [
    {
     "name": "stdout",
     "output_type": "stream",
     "text": [
      "490 ns ± 0.168 ns per loop (mean ± std. dev. of 7 runs, 1,000,000 loops each)\n"
     ]
    }
   ],
   "source": [
    "%timeit b.a = new_value"
   ]
  },
  {
   "cell_type": "markdown",
   "id": "b61ad1d0",
   "metadata": {},
   "source": [
    "## Initialization"
   ]
  },
  {
   "cell_type": "markdown",
   "id": "d70f0d54",
   "metadata": {},
   "source": [
    "### TreeValue's Initialization"
   ]
  },
  {
   "cell_type": "code",
   "execution_count": 14,
   "id": "d32a679b",
   "metadata": {
    "execution": {
     "iopub.execute_input": "2023-04-16T15:52:38.593983Z",
     "iopub.status.busy": "2023-04-16T15:52:38.593249Z",
     "iopub.status.idle": "2023-04-16T15:52:45.462453Z",
     "shell.execute_reply": "2023-04-16T15:52:45.461687Z"
    }
   },
   "outputs": [
    {
     "name": "stdout",
     "output_type": "stream",
     "text": [
      "846 ns ± 0.76 ns per loop (mean ± std. dev. of 7 runs, 1,000,000 loops each)\n"
     ]
    }
   ],
   "source": [
    "%timeit FastTreeValue(_TREE_DATA_1)"
   ]
  },
  {
   "cell_type": "markdown",
   "id": "24f3707b",
   "metadata": {},
   "source": [
    "### Tianshou Batch's Initialization"
   ]
  },
  {
   "cell_type": "code",
   "execution_count": 15,
   "id": "ac3958df",
   "metadata": {
    "execution": {
     "iopub.execute_input": "2023-04-16T15:52:45.466223Z",
     "iopub.status.busy": "2023-04-16T15:52:45.465562Z",
     "iopub.status.idle": "2023-04-16T15:52:54.189425Z",
     "shell.execute_reply": "2023-04-16T15:52:54.188678Z"
    }
   },
   "outputs": [
    {
     "name": "stdout",
     "output_type": "stream",
     "text": [
      "10.7 µs ± 25.9 ns per loop (mean ± std. dev. of 7 runs, 100,000 loops each)\n"
     ]
    }
   ],
   "source": [
    "%timeit Batch(**_TREE_DATA_1)"
   ]
  },
  {
   "cell_type": "markdown",
   "id": "1ab82e2d",
   "metadata": {},
   "source": [
    "## Deep Copy Operation"
   ]
  },
  {
   "cell_type": "code",
   "execution_count": 16,
   "id": "210a9442",
   "metadata": {
    "execution": {
     "iopub.execute_input": "2023-04-16T15:52:54.193189Z",
     "iopub.status.busy": "2023-04-16T15:52:54.192465Z",
     "iopub.status.idle": "2023-04-16T15:52:54.196154Z",
     "shell.execute_reply": "2023-04-16T15:52:54.195461Z"
    }
   },
   "outputs": [],
   "source": [
    "import copy"
   ]
  },
  {
   "cell_type": "markdown",
   "id": "5a736274",
   "metadata": {},
   "source": [
    "### Deep Copy of TreeValue"
   ]
  },
  {
   "cell_type": "code",
   "execution_count": 17,
   "id": "f9bcadd6",
   "metadata": {
    "execution": {
     "iopub.execute_input": "2023-04-16T15:52:54.199466Z",
     "iopub.status.busy": "2023-04-16T15:52:54.199024Z",
     "iopub.status.idle": "2023-04-16T15:53:05.968106Z",
     "shell.execute_reply": "2023-04-16T15:53:05.967459Z"
    }
   },
   "outputs": [
    {
     "name": "stdout",
     "output_type": "stream",
     "text": [
      "145 µs ± 1.19 µs per loop (mean ± std. dev. of 7 runs, 10,000 loops each)\n"
     ]
    }
   ],
   "source": [
    "t3 = FastTreeValue(_TREE_DATA_3)\n",
    "%timeit copy.deepcopy(t3)"
   ]
  },
  {
   "cell_type": "markdown",
   "id": "bf8be7ea",
   "metadata": {},
   "source": [
    "### Deep Copy of Tianshou Batch"
   ]
  },
  {
   "cell_type": "code",
   "execution_count": 18,
   "id": "91998e6f",
   "metadata": {
    "execution": {
     "iopub.execute_input": "2023-04-16T15:53:05.971659Z",
     "iopub.status.busy": "2023-04-16T15:53:05.971009Z",
     "iopub.status.idle": "2023-04-16T15:53:17.546093Z",
     "shell.execute_reply": "2023-04-16T15:53:17.545411Z"
    }
   },
   "outputs": [
    {
     "name": "stdout",
     "output_type": "stream",
     "text": [
      "143 µs ± 583 ns per loop (mean ± std. dev. of 7 runs, 10,000 loops each)\n"
     ]
    }
   ],
   "source": [
    "b3 = Batch(**_TREE_DATA_3)\n",
    "%timeit copy.deepcopy(b3)"
   ]
  },
  {
   "cell_type": "markdown",
   "id": "223162fb",
   "metadata": {},
   "source": [
    "## Stack, Concat and Split Operation"
   ]
  },
  {
   "cell_type": "markdown",
   "id": "85fa4a73",
   "metadata": {},
   "source": [
    "### Performance of TreeValue"
   ]
  },
  {
   "cell_type": "code",
   "execution_count": 19,
   "id": "a0c2b697",
   "metadata": {
    "execution": {
     "iopub.execute_input": "2023-04-16T15:53:17.550060Z",
     "iopub.status.busy": "2023-04-16T15:53:17.549407Z",
     "iopub.status.idle": "2023-04-16T15:53:17.554922Z",
     "shell.execute_reply": "2023-04-16T15:53:17.553937Z"
    }
   },
   "outputs": [],
   "source": [
    "trees = [FastTreeValue(_TREE_DATA_2) for _ in range(8)]"
   ]
  },
  {
   "cell_type": "code",
   "execution_count": 20,
   "id": "017ea5a5",
   "metadata": {
    "execution": {
     "iopub.execute_input": "2023-04-16T15:53:17.557882Z",
     "iopub.status.busy": "2023-04-16T15:53:17.557653Z",
     "iopub.status.idle": "2023-04-16T15:53:17.565215Z",
     "shell.execute_reply": "2023-04-16T15:53:17.564485Z"
    }
   },
   "outputs": [
    {
     "data": {
      "text/plain": [
       "<FastTreeValue 0x7fd55dd5aee0>\n",
       "├── 'a' --> tensor([[[ 1.6003,  0.5902,  0.9084],\n",
       "│                    [ 0.9958, -0.8620,  0.6703]],\n",
       "│           \n",
       "│                   [[ 1.6003,  0.5902,  0.9084],\n",
       "│                    [ 0.9958, -0.8620,  0.6703]],\n",
       "│           \n",
       "│                   [[ 1.6003,  0.5902,  0.9084],\n",
       "│                    [ 0.9958, -0.8620,  0.6703]],\n",
       "│           \n",
       "│                   [[ 1.6003,  0.5902,  0.9084],\n",
       "│                    [ 0.9958, -0.8620,  0.6703]],\n",
       "│           \n",
       "│                   [[ 1.6003,  0.5902,  0.9084],\n",
       "│                    [ 0.9958, -0.8620,  0.6703]],\n",
       "│           \n",
       "│                   [[ 1.6003,  0.5902,  0.9084],\n",
       "│                    [ 0.9958, -0.8620,  0.6703]],\n",
       "│           \n",
       "│                   [[ 1.6003,  0.5902,  0.9084],\n",
       "│                    [ 0.9958, -0.8620,  0.6703]],\n",
       "│           \n",
       "│                   [[ 1.6003,  0.5902,  0.9084],\n",
       "│                    [ 0.9958, -0.8620,  0.6703]]])\n",
       "└── 'x' --> <FastTreeValue 0x7fd5649b5040>\n",
       "    └── 'c' --> tensor([[[ 1.3000,  0.2663,  0.9359,  0.8431],\n",
       "                         [-0.6869,  2.0142,  1.0004,  0.2988],\n",
       "                         [ 0.4094, -0.0973, -0.1779,  0.4278]],\n",
       "                \n",
       "                        [[ 1.3000,  0.2663,  0.9359,  0.8431],\n",
       "                         [-0.6869,  2.0142,  1.0004,  0.2988],\n",
       "                         [ 0.4094, -0.0973, -0.1779,  0.4278]],\n",
       "                \n",
       "                        [[ 1.3000,  0.2663,  0.9359,  0.8431],\n",
       "                         [-0.6869,  2.0142,  1.0004,  0.2988],\n",
       "                         [ 0.4094, -0.0973, -0.1779,  0.4278]],\n",
       "                \n",
       "                        [[ 1.3000,  0.2663,  0.9359,  0.8431],\n",
       "                         [-0.6869,  2.0142,  1.0004,  0.2988],\n",
       "                         [ 0.4094, -0.0973, -0.1779,  0.4278]],\n",
       "                \n",
       "                        [[ 1.3000,  0.2663,  0.9359,  0.8431],\n",
       "                         [-0.6869,  2.0142,  1.0004,  0.2988],\n",
       "                         [ 0.4094, -0.0973, -0.1779,  0.4278]],\n",
       "                \n",
       "                        [[ 1.3000,  0.2663,  0.9359,  0.8431],\n",
       "                         [-0.6869,  2.0142,  1.0004,  0.2988],\n",
       "                         [ 0.4094, -0.0973, -0.1779,  0.4278]],\n",
       "                \n",
       "                        [[ 1.3000,  0.2663,  0.9359,  0.8431],\n",
       "                         [-0.6869,  2.0142,  1.0004,  0.2988],\n",
       "                         [ 0.4094, -0.0973, -0.1779,  0.4278]],\n",
       "                \n",
       "                        [[ 1.3000,  0.2663,  0.9359,  0.8431],\n",
       "                         [-0.6869,  2.0142,  1.0004,  0.2988],\n",
       "                         [ 0.4094, -0.0973, -0.1779,  0.4278]]])"
      ]
     },
     "execution_count": 20,
     "metadata": {},
     "output_type": "execute_result"
    }
   ],
   "source": [
    "t_stack = FastTreeValue.func(subside=True)(torch.stack)\n",
    "\n",
    "t_stack(trees)"
   ]
  },
  {
   "cell_type": "code",
   "execution_count": 21,
   "id": "f8b3f415",
   "metadata": {
    "execution": {
     "iopub.execute_input": "2023-04-16T15:53:17.568101Z",
     "iopub.status.busy": "2023-04-16T15:53:17.567631Z",
     "iopub.status.idle": "2023-04-16T15:53:20.321607Z",
     "shell.execute_reply": "2023-04-16T15:53:20.320848Z"
    }
   },
   "outputs": [
    {
     "name": "stdout",
     "output_type": "stream",
     "text": [
      "33.9 µs ± 76.1 ns per loop (mean ± std. dev. of 7 runs, 10,000 loops each)\n"
     ]
    }
   ],
   "source": [
    "%timeit t_stack(trees)"
   ]
  },
  {
   "cell_type": "code",
   "execution_count": 22,
   "id": "94b56771",
   "metadata": {
    "execution": {
     "iopub.execute_input": "2023-04-16T15:53:20.325380Z",
     "iopub.status.busy": "2023-04-16T15:53:20.324631Z",
     "iopub.status.idle": "2023-04-16T15:53:20.332810Z",
     "shell.execute_reply": "2023-04-16T15:53:20.332097Z"
    }
   },
   "outputs": [
    {
     "data": {
      "text/plain": [
       "<FastTreeValue 0x7fd564a56100>\n",
       "├── 'a' --> tensor([[ 1.6003,  0.5902,  0.9084],\n",
       "│                   [ 0.9958, -0.8620,  0.6703],\n",
       "│                   [ 1.6003,  0.5902,  0.9084],\n",
       "│                   [ 0.9958, -0.8620,  0.6703],\n",
       "│                   [ 1.6003,  0.5902,  0.9084],\n",
       "│                   [ 0.9958, -0.8620,  0.6703],\n",
       "│                   [ 1.6003,  0.5902,  0.9084],\n",
       "│                   [ 0.9958, -0.8620,  0.6703],\n",
       "│                   [ 1.6003,  0.5902,  0.9084],\n",
       "│                   [ 0.9958, -0.8620,  0.6703],\n",
       "│                   [ 1.6003,  0.5902,  0.9084],\n",
       "│                   [ 0.9958, -0.8620,  0.6703],\n",
       "│                   [ 1.6003,  0.5902,  0.9084],\n",
       "│                   [ 0.9958, -0.8620,  0.6703],\n",
       "│                   [ 1.6003,  0.5902,  0.9084],\n",
       "│                   [ 0.9958, -0.8620,  0.6703]])\n",
       "└── 'x' --> <FastTreeValue 0x7fd55e21be80>\n",
       "    └── 'c' --> tensor([[ 1.3000,  0.2663,  0.9359,  0.8431],\n",
       "                        [-0.6869,  2.0142,  1.0004,  0.2988],\n",
       "                        [ 0.4094, -0.0973, -0.1779,  0.4278],\n",
       "                        [ 1.3000,  0.2663,  0.9359,  0.8431],\n",
       "                        [-0.6869,  2.0142,  1.0004,  0.2988],\n",
       "                        [ 0.4094, -0.0973, -0.1779,  0.4278],\n",
       "                        [ 1.3000,  0.2663,  0.9359,  0.8431],\n",
       "                        [-0.6869,  2.0142,  1.0004,  0.2988],\n",
       "                        [ 0.4094, -0.0973, -0.1779,  0.4278],\n",
       "                        [ 1.3000,  0.2663,  0.9359,  0.8431],\n",
       "                        [-0.6869,  2.0142,  1.0004,  0.2988],\n",
       "                        [ 0.4094, -0.0973, -0.1779,  0.4278],\n",
       "                        [ 1.3000,  0.2663,  0.9359,  0.8431],\n",
       "                        [-0.6869,  2.0142,  1.0004,  0.2988],\n",
       "                        [ 0.4094, -0.0973, -0.1779,  0.4278],\n",
       "                        [ 1.3000,  0.2663,  0.9359,  0.8431],\n",
       "                        [-0.6869,  2.0142,  1.0004,  0.2988],\n",
       "                        [ 0.4094, -0.0973, -0.1779,  0.4278],\n",
       "                        [ 1.3000,  0.2663,  0.9359,  0.8431],\n",
       "                        [-0.6869,  2.0142,  1.0004,  0.2988],\n",
       "                        [ 0.4094, -0.0973, -0.1779,  0.4278],\n",
       "                        [ 1.3000,  0.2663,  0.9359,  0.8431],\n",
       "                        [-0.6869,  2.0142,  1.0004,  0.2988],\n",
       "                        [ 0.4094, -0.0973, -0.1779,  0.4278]])"
      ]
     },
     "execution_count": 22,
     "metadata": {},
     "output_type": "execute_result"
    }
   ],
   "source": [
    "t_cat = FastTreeValue.func(subside=True)(torch.cat)\n",
    "\n",
    "t_cat(trees)"
   ]
  },
  {
   "cell_type": "code",
   "execution_count": 23,
   "id": "5e9c06a6",
   "metadata": {
    "execution": {
     "iopub.execute_input": "2023-04-16T15:53:20.335944Z",
     "iopub.status.busy": "2023-04-16T15:53:20.335483Z",
     "iopub.status.idle": "2023-04-16T15:53:22.914825Z",
     "shell.execute_reply": "2023-04-16T15:53:22.914070Z"
    }
   },
   "outputs": [
    {
     "name": "stdout",
     "output_type": "stream",
     "text": [
      "31.7 µs ± 63.2 ns per loop (mean ± std. dev. of 7 runs, 10,000 loops each)\n"
     ]
    }
   ],
   "source": [
    "%timeit t_cat(trees)"
   ]
  },
  {
   "cell_type": "code",
   "execution_count": 24,
   "id": "a3ab5c8f",
   "metadata": {
    "execution": {
     "iopub.execute_input": "2023-04-16T15:53:22.918354Z",
     "iopub.status.busy": "2023-04-16T15:53:22.917779Z",
     "iopub.status.idle": "2023-04-16T15:53:28.360824Z",
     "shell.execute_reply": "2023-04-16T15:53:28.360053Z"
    }
   },
   "outputs": [
    {
     "name": "stdout",
     "output_type": "stream",
     "text": [
      "66.9 µs ± 55.4 ns per loop (mean ± std. dev. of 7 runs, 10,000 loops each)\n"
     ]
    }
   ],
   "source": [
    "t_split = FastTreeValue.func(rise=True)(torch.split)\n",
    "tree = FastTreeValue({\n",
    "    'obs': torch.randn(8, 4, 84, 84),\n",
    "    'action': torch.randint(0, 6, size=(8, 1,)),\n",
    "    'reward': torch.rand(8, 1),\n",
    "})\n",
    "\n",
    "%timeit t_split(tree, 1)"
   ]
  },
  {
   "cell_type": "markdown",
   "id": "31c3ec0b",
   "metadata": {},
   "source": [
    "### Performance of Tianshou Batch"
   ]
  },
  {
   "cell_type": "code",
   "execution_count": 25,
   "id": "9ead828a",
   "metadata": {
    "execution": {
     "iopub.execute_input": "2023-04-16T15:53:28.364518Z",
     "iopub.status.busy": "2023-04-16T15:53:28.363854Z",
     "iopub.status.idle": "2023-04-16T15:53:28.371831Z",
     "shell.execute_reply": "2023-04-16T15:53:28.371134Z"
    }
   },
   "outputs": [
    {
     "data": {
      "text/plain": [
       "Batch(\n",
       "    a: tensor([[[ 1.6003,  0.5902,  0.9084],\n",
       "                [ 0.9958, -0.8620,  0.6703]],\n",
       "       \n",
       "               [[ 1.6003,  0.5902,  0.9084],\n",
       "                [ 0.9958, -0.8620,  0.6703]],\n",
       "       \n",
       "               [[ 1.6003,  0.5902,  0.9084],\n",
       "                [ 0.9958, -0.8620,  0.6703]],\n",
       "       \n",
       "               [[ 1.6003,  0.5902,  0.9084],\n",
       "                [ 0.9958, -0.8620,  0.6703]],\n",
       "       \n",
       "               [[ 1.6003,  0.5902,  0.9084],\n",
       "                [ 0.9958, -0.8620,  0.6703]],\n",
       "       \n",
       "               [[ 1.6003,  0.5902,  0.9084],\n",
       "                [ 0.9958, -0.8620,  0.6703]],\n",
       "       \n",
       "               [[ 1.6003,  0.5902,  0.9084],\n",
       "                [ 0.9958, -0.8620,  0.6703]],\n",
       "       \n",
       "               [[ 1.6003,  0.5902,  0.9084],\n",
       "                [ 0.9958, -0.8620,  0.6703]]]),\n",
       "    x: Batch(\n",
       "           c: tensor([[[ 1.3000,  0.2663,  0.9359,  0.8431],\n",
       "                       [-0.6869,  2.0142,  1.0004,  0.2988],\n",
       "                       [ 0.4094, -0.0973, -0.1779,  0.4278]],\n",
       "              \n",
       "                      [[ 1.3000,  0.2663,  0.9359,  0.8431],\n",
       "                       [-0.6869,  2.0142,  1.0004,  0.2988],\n",
       "                       [ 0.4094, -0.0973, -0.1779,  0.4278]],\n",
       "              \n",
       "                      [[ 1.3000,  0.2663,  0.9359,  0.8431],\n",
       "                       [-0.6869,  2.0142,  1.0004,  0.2988],\n",
       "                       [ 0.4094, -0.0973, -0.1779,  0.4278]],\n",
       "              \n",
       "                      [[ 1.3000,  0.2663,  0.9359,  0.8431],\n",
       "                       [-0.6869,  2.0142,  1.0004,  0.2988],\n",
       "                       [ 0.4094, -0.0973, -0.1779,  0.4278]],\n",
       "              \n",
       "                      [[ 1.3000,  0.2663,  0.9359,  0.8431],\n",
       "                       [-0.6869,  2.0142,  1.0004,  0.2988],\n",
       "                       [ 0.4094, -0.0973, -0.1779,  0.4278]],\n",
       "              \n",
       "                      [[ 1.3000,  0.2663,  0.9359,  0.8431],\n",
       "                       [-0.6869,  2.0142,  1.0004,  0.2988],\n",
       "                       [ 0.4094, -0.0973, -0.1779,  0.4278]],\n",
       "              \n",
       "                      [[ 1.3000,  0.2663,  0.9359,  0.8431],\n",
       "                       [-0.6869,  2.0142,  1.0004,  0.2988],\n",
       "                       [ 0.4094, -0.0973, -0.1779,  0.4278]],\n",
       "              \n",
       "                      [[ 1.3000,  0.2663,  0.9359,  0.8431],\n",
       "                       [-0.6869,  2.0142,  1.0004,  0.2988],\n",
       "                       [ 0.4094, -0.0973, -0.1779,  0.4278]]]),\n",
       "       ),\n",
       ")"
      ]
     },
     "execution_count": 25,
     "metadata": {},
     "output_type": "execute_result"
    }
   ],
   "source": [
    "batches = [Batch(**_TREE_DATA_2) for _ in range(8)]\n",
    "\n",
    "Batch.stack(batches)"
   ]
  },
  {
   "cell_type": "code",
   "execution_count": 26,
   "id": "ec9037a3",
   "metadata": {
    "execution": {
     "iopub.execute_input": "2023-04-16T15:53:28.374776Z",
     "iopub.status.busy": "2023-04-16T15:53:28.374406Z",
     "iopub.status.idle": "2023-04-16T15:53:34.764002Z",
     "shell.execute_reply": "2023-04-16T15:53:34.763173Z"
    }
   },
   "outputs": [
    {
     "name": "stdout",
     "output_type": "stream",
     "text": [
      "78.6 µs ± 370 ns per loop (mean ± std. dev. of 7 runs, 10,000 loops each)\n"
     ]
    }
   ],
   "source": [
    "%timeit Batch.stack(batches)"
   ]
  },
  {
   "cell_type": "code",
   "execution_count": 27,
   "id": "cb8ab77e",
   "metadata": {
    "execution": {
     "iopub.execute_input": "2023-04-16T15:53:34.767644Z",
     "iopub.status.busy": "2023-04-16T15:53:34.767159Z",
     "iopub.status.idle": "2023-04-16T15:53:34.774772Z",
     "shell.execute_reply": "2023-04-16T15:53:34.774054Z"
    }
   },
   "outputs": [
    {
     "data": {
      "text/plain": [
       "Batch(\n",
       "    a: tensor([[ 1.6003,  0.5902,  0.9084],\n",
       "               [ 0.9958, -0.8620,  0.6703],\n",
       "               [ 1.6003,  0.5902,  0.9084],\n",
       "               [ 0.9958, -0.8620,  0.6703],\n",
       "               [ 1.6003,  0.5902,  0.9084],\n",
       "               [ 0.9958, -0.8620,  0.6703],\n",
       "               [ 1.6003,  0.5902,  0.9084],\n",
       "               [ 0.9958, -0.8620,  0.6703],\n",
       "               [ 1.6003,  0.5902,  0.9084],\n",
       "               [ 0.9958, -0.8620,  0.6703],\n",
       "               [ 1.6003,  0.5902,  0.9084],\n",
       "               [ 0.9958, -0.8620,  0.6703],\n",
       "               [ 1.6003,  0.5902,  0.9084],\n",
       "               [ 0.9958, -0.8620,  0.6703],\n",
       "               [ 1.6003,  0.5902,  0.9084],\n",
       "               [ 0.9958, -0.8620,  0.6703]]),\n",
       "    x: Batch(\n",
       "           c: tensor([[ 1.3000,  0.2663,  0.9359,  0.8431],\n",
       "                      [-0.6869,  2.0142,  1.0004,  0.2988],\n",
       "                      [ 0.4094, -0.0973, -0.1779,  0.4278],\n",
       "                      [ 1.3000,  0.2663,  0.9359,  0.8431],\n",
       "                      [-0.6869,  2.0142,  1.0004,  0.2988],\n",
       "                      [ 0.4094, -0.0973, -0.1779,  0.4278],\n",
       "                      [ 1.3000,  0.2663,  0.9359,  0.8431],\n",
       "                      [-0.6869,  2.0142,  1.0004,  0.2988],\n",
       "                      [ 0.4094, -0.0973, -0.1779,  0.4278],\n",
       "                      [ 1.3000,  0.2663,  0.9359,  0.8431],\n",
       "                      [-0.6869,  2.0142,  1.0004,  0.2988],\n",
       "                      [ 0.4094, -0.0973, -0.1779,  0.4278],\n",
       "                      [ 1.3000,  0.2663,  0.9359,  0.8431],\n",
       "                      [-0.6869,  2.0142,  1.0004,  0.2988],\n",
       "                      [ 0.4094, -0.0973, -0.1779,  0.4278],\n",
       "                      [ 1.3000,  0.2663,  0.9359,  0.8431],\n",
       "                      [-0.6869,  2.0142,  1.0004,  0.2988],\n",
       "                      [ 0.4094, -0.0973, -0.1779,  0.4278],\n",
       "                      [ 1.3000,  0.2663,  0.9359,  0.8431],\n",
       "                      [-0.6869,  2.0142,  1.0004,  0.2988],\n",
       "                      [ 0.4094, -0.0973, -0.1779,  0.4278],\n",
       "                      [ 1.3000,  0.2663,  0.9359,  0.8431],\n",
       "                      [-0.6869,  2.0142,  1.0004,  0.2988],\n",
       "                      [ 0.4094, -0.0973, -0.1779,  0.4278]]),\n",
       "       ),\n",
       ")"
      ]
     },
     "execution_count": 27,
     "metadata": {},
     "output_type": "execute_result"
    }
   ],
   "source": [
    "Batch.cat(batches)"
   ]
  },
  {
   "cell_type": "code",
   "execution_count": 28,
   "id": "18dfb045",
   "metadata": {
    "execution": {
     "iopub.execute_input": "2023-04-16T15:53:34.777828Z",
     "iopub.status.busy": "2023-04-16T15:53:34.777438Z",
     "iopub.status.idle": "2023-04-16T15:53:46.962535Z",
     "shell.execute_reply": "2023-04-16T15:53:46.961784Z"
    }
   },
   "outputs": [
    {
     "name": "stdout",
     "output_type": "stream",
     "text": [
      "150 µs ± 333 ns per loop (mean ± std. dev. of 7 runs, 10,000 loops each)\n"
     ]
    }
   ],
   "source": [
    "%timeit Batch.cat(batches)"
   ]
  },
  {
   "cell_type": "code",
   "execution_count": 29,
   "id": "c6688e51",
   "metadata": {
    "execution": {
     "iopub.execute_input": "2023-04-16T15:53:46.965986Z",
     "iopub.status.busy": "2023-04-16T15:53:46.965469Z",
     "iopub.status.idle": "2023-04-16T15:53:49.794810Z",
     "shell.execute_reply": "2023-04-16T15:53:49.794160Z"
    }
   },
   "outputs": [
    {
     "name": "stdout",
     "output_type": "stream",
     "text": [
      "347 µs ± 4.7 µs per loop (mean ± std. dev. of 7 runs, 1,000 loops each)\n"
     ]
    }
   ],
   "source": [
    "batch = Batch({\n",
    "    'obs': torch.randn(8, 4, 84, 84),\n",
    "    'action': torch.randint(0, 6, size=(8, 1,)),\n",
    "    'reward': torch.rand(8, 1)}\n",
    ")\n",
    "\n",
    "%timeit list(Batch.split(batch, 1, shuffle=False, merge_last=True))"
   ]
  },
  {
   "cell_type": "code",
   "execution_count": null,
   "id": "2539fbd9",
   "metadata": {},
   "outputs": [],
   "source": []
  }
 ],
 "metadata": {
  "kernelspec": {
   "display_name": "Python 3 (ipykernel)",
   "language": "python",
   "name": "python3"
  },
  "language_info": {
   "codemirror_mode": {
    "name": "ipython",
    "version": 3
   },
   "file_extension": ".py",
   "mimetype": "text/x-python",
   "name": "python",
   "nbconvert_exporter": "python",
   "pygments_lexer": "ipython3",
   "version": "3.8.16"
  }
 },
 "nbformat": 4,
 "nbformat_minor": 5
}
