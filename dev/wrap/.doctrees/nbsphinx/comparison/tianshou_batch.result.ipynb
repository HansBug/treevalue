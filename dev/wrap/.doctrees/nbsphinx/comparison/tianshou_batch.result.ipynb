{
 "cells": [
  {
   "cell_type": "markdown",
   "id": "9d39d946",
   "metadata": {},
   "source": [
    "# Comparison Between TreeValue and Tianshou Batch"
   ]
  },
  {
   "cell_type": "markdown",
   "id": "3c6db2d4",
   "metadata": {},
   "source": [
    "In this section, we will take a look at the feature and performance of the [Tianshou Batch](https://github.com/thu-ml/tianshou) library, which is developed by Tsinghua Machine Learning Group."
   ]
  },
  {
   "cell_type": "markdown",
   "id": "069361b0",
   "metadata": {},
   "source": [
    "Before starting the comparison, let us define some thing."
   ]
  },
  {
   "cell_type": "code",
   "execution_count": 1,
   "id": "06fc8d26",
   "metadata": {
    "execution": {
     "iopub.execute_input": "2023-08-11T10:31:03.899938Z",
     "iopub.status.busy": "2023-08-11T10:31:03.899217Z",
     "iopub.status.idle": "2023-08-11T10:31:05.881468Z",
     "shell.execute_reply": "2023-08-11T10:31:05.880254Z"
    }
   },
   "outputs": [],
   "source": [
    "import torch \n",
    "\n",
    "_TREE_DATA_1 = {'a': 1, 'b': 2, 'x': {'c': 3, 'd': 4}}\n",
    "_TREE_DATA_2 = {\n",
    "    'a': torch.randn(2, 3), \n",
    "    'x': {\n",
    "        'c': torch.randn(3, 4)\n",
    "    },\n",
    "}\n",
    "_TREE_DATA_3 = {\n",
    "    'obs': torch.randn(4, 84, 84),\n",
    "    'action': torch.randint(0, 6, size=(1,)),\n",
    "    'reward': torch.rand(1),\n",
    "}"
   ]
  },
  {
   "cell_type": "markdown",
   "id": "83461b25",
   "metadata": {},
   "source": [
    "## Read and Write Operation"
   ]
  },
  {
   "cell_type": "markdown",
   "id": "067b3f73",
   "metadata": {},
   "source": [
    "Reading and writing are the two most common operations in the tree data structure based on the data model (TreeValue and Tianshou Batch both belong to this type), so this section will compare the reading and writing performance of these two libraries."
   ]
  },
  {
   "cell_type": "markdown",
   "id": "5d09a5b7",
   "metadata": {},
   "source": [
    "### TreeValue's Get and Set"
   ]
  },
  {
   "cell_type": "code",
   "execution_count": 2,
   "id": "9519c4bb",
   "metadata": {
    "execution": {
     "iopub.execute_input": "2023-08-11T10:31:05.886928Z",
     "iopub.status.busy": "2023-08-11T10:31:05.886324Z",
     "iopub.status.idle": "2023-08-11T10:31:05.929742Z",
     "shell.execute_reply": "2023-08-11T10:31:05.928765Z"
    }
   },
   "outputs": [],
   "source": [
    "from treevalue import FastTreeValue\n",
    "\n",
    "t = FastTreeValue(_TREE_DATA_2)"
   ]
  },
  {
   "cell_type": "code",
   "execution_count": 3,
   "id": "11c37677",
   "metadata": {
    "execution": {
     "iopub.execute_input": "2023-08-11T10:31:05.939317Z",
     "iopub.status.busy": "2023-08-11T10:31:05.938978Z",
     "iopub.status.idle": "2023-08-11T10:31:05.953081Z",
     "shell.execute_reply": "2023-08-11T10:31:05.952036Z"
    }
   },
   "outputs": [
    {
     "data": {
      "text/plain": [
       "<FastTreeValue 0x7f1a14a04430>\n",
       "├── 'a' --> tensor([[-0.0037, -1.8884,  0.3552],\n",
       "│                   [ 0.6655,  1.4680,  0.3877]])\n",
       "└── 'x' --> <FastTreeValue 0x7f1a14a04370>\n",
       "    └── 'c' --> tensor([[ 0.5997,  0.9202,  0.4062, -0.2686],\n",
       "                        [ 1.1404,  0.2478, -0.8150,  0.3418],\n",
       "                        [ 0.1654,  0.1064,  1.0439,  3.0828]])"
      ]
     },
     "execution_count": 3,
     "metadata": {},
     "output_type": "execute_result"
    }
   ],
   "source": [
    "t"
   ]
  },
  {
   "cell_type": "code",
   "execution_count": 4,
   "id": "fd70b0b9",
   "metadata": {
    "execution": {
     "iopub.execute_input": "2023-08-11T10:31:05.957304Z",
     "iopub.status.busy": "2023-08-11T10:31:05.956999Z",
     "iopub.status.idle": "2023-08-11T10:31:05.965612Z",
     "shell.execute_reply": "2023-08-11T10:31:05.964742Z"
    }
   },
   "outputs": [
    {
     "data": {
      "text/plain": [
       "tensor([[-0.0037, -1.8884,  0.3552],\n",
       "        [ 0.6655,  1.4680,  0.3877]])"
      ]
     },
     "execution_count": 4,
     "metadata": {},
     "output_type": "execute_result"
    }
   ],
   "source": [
    "t.a"
   ]
  },
  {
   "cell_type": "code",
   "execution_count": 5,
   "id": "c18197bd",
   "metadata": {
    "execution": {
     "iopub.execute_input": "2023-08-11T10:31:05.969451Z",
     "iopub.status.busy": "2023-08-11T10:31:05.969165Z",
     "iopub.status.idle": "2023-08-11T10:31:12.573545Z",
     "shell.execute_reply": "2023-08-11T10:31:12.572457Z"
    }
   },
   "outputs": [
    {
     "name": "stdout",
     "output_type": "stream",
     "text": [
      "81 ns ± 2.33 ns per loop (mean ± std. dev. of 7 runs, 10,000,000 loops each)\n"
     ]
    }
   ],
   "source": [
    "%timeit t.a"
   ]
  },
  {
   "cell_type": "code",
   "execution_count": 6,
   "id": "bd52f867",
   "metadata": {
    "execution": {
     "iopub.execute_input": "2023-08-11T10:31:12.577903Z",
     "iopub.status.busy": "2023-08-11T10:31:12.577195Z",
     "iopub.status.idle": "2023-08-11T10:31:12.585316Z",
     "shell.execute_reply": "2023-08-11T10:31:12.584396Z"
    }
   },
   "outputs": [
    {
     "data": {
      "text/plain": [
       "<FastTreeValue 0x7f1a14a04430>\n",
       "├── 'a' --> tensor([[ 2.0022,  0.5882,  0.8911],\n",
       "│                   [-0.0700,  0.3933, -1.0834]])\n",
       "└── 'x' --> <FastTreeValue 0x7f1a14a04370>\n",
       "    └── 'c' --> tensor([[ 0.5997,  0.9202,  0.4062, -0.2686],\n",
       "                        [ 1.1404,  0.2478, -0.8150,  0.3418],\n",
       "                        [ 0.1654,  0.1064,  1.0439,  3.0828]])"
      ]
     },
     "execution_count": 6,
     "metadata": {},
     "output_type": "execute_result"
    }
   ],
   "source": [
    "new_value = torch.randn(2, 3)\n",
    "t.a = new_value\n",
    "\n",
    "t"
   ]
  },
  {
   "cell_type": "code",
   "execution_count": 7,
   "id": "bbe04d1c",
   "metadata": {
    "execution": {
     "iopub.execute_input": "2023-08-11T10:31:12.589027Z",
     "iopub.status.busy": "2023-08-11T10:31:12.588475Z",
     "iopub.status.idle": "2023-08-11T10:31:19.675970Z",
     "shell.execute_reply": "2023-08-11T10:31:19.675032Z"
    }
   },
   "outputs": [
    {
     "name": "stdout",
     "output_type": "stream",
     "text": [
      "87.9 ns ± 3.64 ns per loop (mean ± std. dev. of 7 runs, 10,000,000 loops each)\n"
     ]
    }
   ],
   "source": [
    "%timeit t.a = new_value"
   ]
  },
  {
   "cell_type": "markdown",
   "id": "48c49731",
   "metadata": {},
   "source": [
    "### Tianshou Batch's Get and Set"
   ]
  },
  {
   "cell_type": "code",
   "execution_count": 8,
   "id": "f1bb14c1",
   "metadata": {
    "execution": {
     "iopub.execute_input": "2023-08-11T10:31:19.680665Z",
     "iopub.status.busy": "2023-08-11T10:31:19.679763Z",
     "iopub.status.idle": "2023-08-11T10:31:20.196903Z",
     "shell.execute_reply": "2023-08-11T10:31:20.195811Z"
    }
   },
   "outputs": [],
   "source": [
    "from tianshou.data import Batch\n",
    "\n",
    "b = Batch(**_TREE_DATA_2)"
   ]
  },
  {
   "cell_type": "code",
   "execution_count": 9,
   "id": "cb0777c3",
   "metadata": {
    "execution": {
     "iopub.execute_input": "2023-08-11T10:31:20.202610Z",
     "iopub.status.busy": "2023-08-11T10:31:20.202165Z",
     "iopub.status.idle": "2023-08-11T10:31:20.209776Z",
     "shell.execute_reply": "2023-08-11T10:31:20.208845Z"
    }
   },
   "outputs": [
    {
     "data": {
      "text/plain": [
       "Batch(\n",
       "    a: tensor([[-0.0037, -1.8884,  0.3552],\n",
       "               [ 0.6655,  1.4680,  0.3877]]),\n",
       "    x: Batch(\n",
       "           c: tensor([[ 0.5997,  0.9202,  0.4062, -0.2686],\n",
       "                      [ 1.1404,  0.2478, -0.8150,  0.3418],\n",
       "                      [ 0.1654,  0.1064,  1.0439,  3.0828]]),\n",
       "       ),\n",
       ")"
      ]
     },
     "execution_count": 9,
     "metadata": {},
     "output_type": "execute_result"
    }
   ],
   "source": [
    "b"
   ]
  },
  {
   "cell_type": "code",
   "execution_count": 10,
   "id": "43ef8ea3",
   "metadata": {
    "execution": {
     "iopub.execute_input": "2023-08-11T10:31:20.213978Z",
     "iopub.status.busy": "2023-08-11T10:31:20.213543Z",
     "iopub.status.idle": "2023-08-11T10:31:20.220183Z",
     "shell.execute_reply": "2023-08-11T10:31:20.219155Z"
    }
   },
   "outputs": [
    {
     "data": {
      "text/plain": [
       "tensor([[-0.0037, -1.8884,  0.3552],\n",
       "        [ 0.6655,  1.4680,  0.3877]])"
      ]
     },
     "execution_count": 10,
     "metadata": {},
     "output_type": "execute_result"
    }
   ],
   "source": [
    "b.a"
   ]
  },
  {
   "cell_type": "code",
   "execution_count": 11,
   "id": "b785ab72",
   "metadata": {
    "execution": {
     "iopub.execute_input": "2023-08-11T10:31:20.225196Z",
     "iopub.status.busy": "2023-08-11T10:31:20.224541Z",
     "iopub.status.idle": "2023-08-11T10:31:25.973727Z",
     "shell.execute_reply": "2023-08-11T10:31:25.972839Z"
    }
   },
   "outputs": [
    {
     "name": "stdout",
     "output_type": "stream",
     "text": [
      "70.9 ns ± 1.04 ns per loop (mean ± std. dev. of 7 runs, 10,000,000 loops each)\n"
     ]
    }
   ],
   "source": [
    "%timeit b.a"
   ]
  },
  {
   "cell_type": "code",
   "execution_count": 12,
   "id": "ad54dc69",
   "metadata": {
    "execution": {
     "iopub.execute_input": "2023-08-11T10:31:25.978566Z",
     "iopub.status.busy": "2023-08-11T10:31:25.977685Z",
     "iopub.status.idle": "2023-08-11T10:31:25.986213Z",
     "shell.execute_reply": "2023-08-11T10:31:25.985157Z"
    }
   },
   "outputs": [
    {
     "data": {
      "text/plain": [
       "Batch(\n",
       "    a: tensor([[-1.1461, -0.3928,  0.5166],\n",
       "               [ 0.9569,  0.6588, -0.7642]]),\n",
       "    x: Batch(\n",
       "           c: tensor([[ 0.5997,  0.9202,  0.4062, -0.2686],\n",
       "                      [ 1.1404,  0.2478, -0.8150,  0.3418],\n",
       "                      [ 0.1654,  0.1064,  1.0439,  3.0828]]),\n",
       "       ),\n",
       ")"
      ]
     },
     "execution_count": 12,
     "metadata": {},
     "output_type": "execute_result"
    }
   ],
   "source": [
    "new_value = torch.randn(2, 3)\n",
    "b.a = new_value\n",
    "\n",
    "b"
   ]
  },
  {
   "cell_type": "code",
   "execution_count": 13,
   "id": "29b1d0bf",
   "metadata": {
    "execution": {
     "iopub.execute_input": "2023-08-11T10:31:25.990355Z",
     "iopub.status.busy": "2023-08-11T10:31:25.989807Z",
     "iopub.status.idle": "2023-08-11T10:31:31.095774Z",
     "shell.execute_reply": "2023-08-11T10:31:31.094721Z"
    }
   },
   "outputs": [
    {
     "name": "stdout",
     "output_type": "stream",
     "text": [
      "629 ns ± 11.4 ns per loop (mean ± std. dev. of 7 runs, 1,000,000 loops each)\n"
     ]
    }
   ],
   "source": [
    "%timeit b.a = new_value"
   ]
  },
  {
   "cell_type": "markdown",
   "id": "b61ad1d0",
   "metadata": {},
   "source": [
    "## Initialization"
   ]
  },
  {
   "cell_type": "markdown",
   "id": "d70f0d54",
   "metadata": {},
   "source": [
    "### TreeValue's Initialization"
   ]
  },
  {
   "cell_type": "code",
   "execution_count": 14,
   "id": "d32a679b",
   "metadata": {
    "execution": {
     "iopub.execute_input": "2023-08-11T10:31:31.099954Z",
     "iopub.status.busy": "2023-08-11T10:31:31.099457Z",
     "iopub.status.idle": "2023-08-11T10:31:40.028736Z",
     "shell.execute_reply": "2023-08-11T10:31:40.027801Z"
    }
   },
   "outputs": [
    {
     "name": "stdout",
     "output_type": "stream",
     "text": [
      "1.1 µs ± 19.9 ns per loop (mean ± std. dev. of 7 runs, 1,000,000 loops each)\n"
     ]
    }
   ],
   "source": [
    "%timeit FastTreeValue(_TREE_DATA_1)"
   ]
  },
  {
   "cell_type": "markdown",
   "id": "24f3707b",
   "metadata": {},
   "source": [
    "### Tianshou Batch's Initialization"
   ]
  },
  {
   "cell_type": "code",
   "execution_count": 15,
   "id": "ac3958df",
   "metadata": {
    "execution": {
     "iopub.execute_input": "2023-08-11T10:31:40.033157Z",
     "iopub.status.busy": "2023-08-11T10:31:40.032291Z",
     "iopub.status.idle": "2023-08-11T10:31:51.877744Z",
     "shell.execute_reply": "2023-08-11T10:31:51.876789Z"
    }
   },
   "outputs": [
    {
     "name": "stdout",
     "output_type": "stream",
     "text": [
      "14.5 µs ± 193 ns per loop (mean ± std. dev. of 7 runs, 100,000 loops each)\n"
     ]
    }
   ],
   "source": [
    "%timeit Batch(**_TREE_DATA_1)"
   ]
  },
  {
   "cell_type": "markdown",
   "id": "1ab82e2d",
   "metadata": {},
   "source": [
    "## Deep Copy Operation"
   ]
  },
  {
   "cell_type": "code",
   "execution_count": 16,
   "id": "210a9442",
   "metadata": {
    "execution": {
     "iopub.execute_input": "2023-08-11T10:31:51.882502Z",
     "iopub.status.busy": "2023-08-11T10:31:51.881800Z",
     "iopub.status.idle": "2023-08-11T10:31:51.886995Z",
     "shell.execute_reply": "2023-08-11T10:31:51.885933Z"
    }
   },
   "outputs": [],
   "source": [
    "import copy"
   ]
  },
  {
   "cell_type": "markdown",
   "id": "5a736274",
   "metadata": {},
   "source": [
    "### Deep Copy of TreeValue"
   ]
  },
  {
   "cell_type": "code",
   "execution_count": 17,
   "id": "f9bcadd6",
   "metadata": {
    "execution": {
     "iopub.execute_input": "2023-08-11T10:31:51.890962Z",
     "iopub.status.busy": "2023-08-11T10:31:51.890554Z",
     "iopub.status.idle": "2023-08-11T10:31:54.128188Z",
     "shell.execute_reply": "2023-08-11T10:31:54.127312Z"
    }
   },
   "outputs": [
    {
     "name": "stdout",
     "output_type": "stream",
     "text": [
      "274 µs ± 11.2 µs per loop (mean ± std. dev. of 7 runs, 1,000 loops each)\n"
     ]
    }
   ],
   "source": [
    "t3 = FastTreeValue(_TREE_DATA_3)\n",
    "%timeit copy.deepcopy(t3)"
   ]
  },
  {
   "cell_type": "markdown",
   "id": "bf8be7ea",
   "metadata": {},
   "source": [
    "### Deep Copy of Tianshou Batch"
   ]
  },
  {
   "cell_type": "code",
   "execution_count": 18,
   "id": "91998e6f",
   "metadata": {
    "execution": {
     "iopub.execute_input": "2023-08-11T10:31:54.131958Z",
     "iopub.status.busy": "2023-08-11T10:31:54.131463Z",
     "iopub.status.idle": "2023-08-11T10:31:56.239564Z",
     "shell.execute_reply": "2023-08-11T10:31:56.238504Z"
    }
   },
   "outputs": [
    {
     "name": "stdout",
     "output_type": "stream",
     "text": [
      "259 µs ± 11.7 µs per loop (mean ± std. dev. of 7 runs, 1,000 loops each)\n"
     ]
    }
   ],
   "source": [
    "b3 = Batch(**_TREE_DATA_3)\n",
    "%timeit copy.deepcopy(b3)"
   ]
  },
  {
   "cell_type": "markdown",
   "id": "223162fb",
   "metadata": {},
   "source": [
    "## Stack, Concat and Split Operation"
   ]
  },
  {
   "cell_type": "markdown",
   "id": "85fa4a73",
   "metadata": {},
   "source": [
    "### Performance of TreeValue"
   ]
  },
  {
   "cell_type": "code",
   "execution_count": 19,
   "id": "a0c2b697",
   "metadata": {
    "execution": {
     "iopub.execute_input": "2023-08-11T10:31:56.243822Z",
     "iopub.status.busy": "2023-08-11T10:31:56.243150Z",
     "iopub.status.idle": "2023-08-11T10:31:56.247502Z",
     "shell.execute_reply": "2023-08-11T10:31:56.246776Z"
    }
   },
   "outputs": [],
   "source": [
    "trees = [FastTreeValue(_TREE_DATA_2) for _ in range(8)]"
   ]
  },
  {
   "cell_type": "code",
   "execution_count": 20,
   "id": "017ea5a5",
   "metadata": {
    "execution": {
     "iopub.execute_input": "2023-08-11T10:31:56.251852Z",
     "iopub.status.busy": "2023-08-11T10:31:56.251150Z",
     "iopub.status.idle": "2023-08-11T10:31:56.260731Z",
     "shell.execute_reply": "2023-08-11T10:31:56.259925Z"
    }
   },
   "outputs": [
    {
     "data": {
      "text/plain": [
       "<FastTreeValue 0x7f1a14a04640>\n",
       "├── 'a' --> tensor([[[-0.0037, -1.8884,  0.3552],\n",
       "│                    [ 0.6655,  1.4680,  0.3877]],\n",
       "│           \n",
       "│                   [[-0.0037, -1.8884,  0.3552],\n",
       "│                    [ 0.6655,  1.4680,  0.3877]],\n",
       "│           \n",
       "│                   [[-0.0037, -1.8884,  0.3552],\n",
       "│                    [ 0.6655,  1.4680,  0.3877]],\n",
       "│           \n",
       "│                   [[-0.0037, -1.8884,  0.3552],\n",
       "│                    [ 0.6655,  1.4680,  0.3877]],\n",
       "│           \n",
       "│                   [[-0.0037, -1.8884,  0.3552],\n",
       "│                    [ 0.6655,  1.4680,  0.3877]],\n",
       "│           \n",
       "│                   [[-0.0037, -1.8884,  0.3552],\n",
       "│                    [ 0.6655,  1.4680,  0.3877]],\n",
       "│           \n",
       "│                   [[-0.0037, -1.8884,  0.3552],\n",
       "│                    [ 0.6655,  1.4680,  0.3877]],\n",
       "│           \n",
       "│                   [[-0.0037, -1.8884,  0.3552],\n",
       "│                    [ 0.6655,  1.4680,  0.3877]]])\n",
       "└── 'x' --> <FastTreeValue 0x7f194fdbb760>\n",
       "    └── 'c' --> tensor([[[ 0.5997,  0.9202,  0.4062, -0.2686],\n",
       "                         [ 1.1404,  0.2478, -0.8150,  0.3418],\n",
       "                         [ 0.1654,  0.1064,  1.0439,  3.0828]],\n",
       "                \n",
       "                        [[ 0.5997,  0.9202,  0.4062, -0.2686],\n",
       "                         [ 1.1404,  0.2478, -0.8150,  0.3418],\n",
       "                         [ 0.1654,  0.1064,  1.0439,  3.0828]],\n",
       "                \n",
       "                        [[ 0.5997,  0.9202,  0.4062, -0.2686],\n",
       "                         [ 1.1404,  0.2478, -0.8150,  0.3418],\n",
       "                         [ 0.1654,  0.1064,  1.0439,  3.0828]],\n",
       "                \n",
       "                        [[ 0.5997,  0.9202,  0.4062, -0.2686],\n",
       "                         [ 1.1404,  0.2478, -0.8150,  0.3418],\n",
       "                         [ 0.1654,  0.1064,  1.0439,  3.0828]],\n",
       "                \n",
       "                        [[ 0.5997,  0.9202,  0.4062, -0.2686],\n",
       "                         [ 1.1404,  0.2478, -0.8150,  0.3418],\n",
       "                         [ 0.1654,  0.1064,  1.0439,  3.0828]],\n",
       "                \n",
       "                        [[ 0.5997,  0.9202,  0.4062, -0.2686],\n",
       "                         [ 1.1404,  0.2478, -0.8150,  0.3418],\n",
       "                         [ 0.1654,  0.1064,  1.0439,  3.0828]],\n",
       "                \n",
       "                        [[ 0.5997,  0.9202,  0.4062, -0.2686],\n",
       "                         [ 1.1404,  0.2478, -0.8150,  0.3418],\n",
       "                         [ 0.1654,  0.1064,  1.0439,  3.0828]],\n",
       "                \n",
       "                        [[ 0.5997,  0.9202,  0.4062, -0.2686],\n",
       "                         [ 1.1404,  0.2478, -0.8150,  0.3418],\n",
       "                         [ 0.1654,  0.1064,  1.0439,  3.0828]]])"
      ]
     },
     "execution_count": 20,
     "metadata": {},
     "output_type": "execute_result"
    }
   ],
   "source": [
    "t_stack = FastTreeValue.func(subside=True)(torch.stack)\n",
    "\n",
    "t_stack(trees)"
   ]
  },
  {
   "cell_type": "code",
   "execution_count": 21,
   "id": "f8b3f415",
   "metadata": {
    "execution": {
     "iopub.execute_input": "2023-08-11T10:31:56.265411Z",
     "iopub.status.busy": "2023-08-11T10:31:56.263674Z",
     "iopub.status.idle": "2023-08-11T10:32:00.071920Z",
     "shell.execute_reply": "2023-08-11T10:32:00.070791Z"
    }
   },
   "outputs": [
    {
     "name": "stdout",
     "output_type": "stream",
     "text": [
      "46.7 µs ± 1 µs per loop (mean ± std. dev. of 7 runs, 10,000 loops each)\n"
     ]
    }
   ],
   "source": [
    "%timeit t_stack(trees)"
   ]
  },
  {
   "cell_type": "code",
   "execution_count": 22,
   "id": "94b56771",
   "metadata": {
    "execution": {
     "iopub.execute_input": "2023-08-11T10:32:00.077015Z",
     "iopub.status.busy": "2023-08-11T10:32:00.076052Z",
     "iopub.status.idle": "2023-08-11T10:32:00.086685Z",
     "shell.execute_reply": "2023-08-11T10:32:00.085592Z"
    }
   },
   "outputs": [
    {
     "data": {
      "text/plain": [
       "<FastTreeValue 0x7f194fdbbfa0>\n",
       "├── 'a' --> tensor([[-0.0037, -1.8884,  0.3552],\n",
       "│                   [ 0.6655,  1.4680,  0.3877],\n",
       "│                   [-0.0037, -1.8884,  0.3552],\n",
       "│                   [ 0.6655,  1.4680,  0.3877],\n",
       "│                   [-0.0037, -1.8884,  0.3552],\n",
       "│                   [ 0.6655,  1.4680,  0.3877],\n",
       "│                   [-0.0037, -1.8884,  0.3552],\n",
       "│                   [ 0.6655,  1.4680,  0.3877],\n",
       "│                   [-0.0037, -1.8884,  0.3552],\n",
       "│                   [ 0.6655,  1.4680,  0.3877],\n",
       "│                   [-0.0037, -1.8884,  0.3552],\n",
       "│                   [ 0.6655,  1.4680,  0.3877],\n",
       "│                   [-0.0037, -1.8884,  0.3552],\n",
       "│                   [ 0.6655,  1.4680,  0.3877],\n",
       "│                   [-0.0037, -1.8884,  0.3552],\n",
       "│                   [ 0.6655,  1.4680,  0.3877]])\n",
       "└── 'x' --> <FastTreeValue 0x7f194fdbbac0>\n",
       "    └── 'c' --> tensor([[ 0.5997,  0.9202,  0.4062, -0.2686],\n",
       "                        [ 1.1404,  0.2478, -0.8150,  0.3418],\n",
       "                        [ 0.1654,  0.1064,  1.0439,  3.0828],\n",
       "                        [ 0.5997,  0.9202,  0.4062, -0.2686],\n",
       "                        [ 1.1404,  0.2478, -0.8150,  0.3418],\n",
       "                        [ 0.1654,  0.1064,  1.0439,  3.0828],\n",
       "                        [ 0.5997,  0.9202,  0.4062, -0.2686],\n",
       "                        [ 1.1404,  0.2478, -0.8150,  0.3418],\n",
       "                        [ 0.1654,  0.1064,  1.0439,  3.0828],\n",
       "                        [ 0.5997,  0.9202,  0.4062, -0.2686],\n",
       "                        [ 1.1404,  0.2478, -0.8150,  0.3418],\n",
       "                        [ 0.1654,  0.1064,  1.0439,  3.0828],\n",
       "                        [ 0.5997,  0.9202,  0.4062, -0.2686],\n",
       "                        [ 1.1404,  0.2478, -0.8150,  0.3418],\n",
       "                        [ 0.1654,  0.1064,  1.0439,  3.0828],\n",
       "                        [ 0.5997,  0.9202,  0.4062, -0.2686],\n",
       "                        [ 1.1404,  0.2478, -0.8150,  0.3418],\n",
       "                        [ 0.1654,  0.1064,  1.0439,  3.0828],\n",
       "                        [ 0.5997,  0.9202,  0.4062, -0.2686],\n",
       "                        [ 1.1404,  0.2478, -0.8150,  0.3418],\n",
       "                        [ 0.1654,  0.1064,  1.0439,  3.0828],\n",
       "                        [ 0.5997,  0.9202,  0.4062, -0.2686],\n",
       "                        [ 1.1404,  0.2478, -0.8150,  0.3418],\n",
       "                        [ 0.1654,  0.1064,  1.0439,  3.0828]])"
      ]
     },
     "execution_count": 22,
     "metadata": {},
     "output_type": "execute_result"
    }
   ],
   "source": [
    "t_cat = FastTreeValue.func(subside=True)(torch.cat)\n",
    "\n",
    "t_cat(trees)"
   ]
  },
  {
   "cell_type": "code",
   "execution_count": 23,
   "id": "5e9c06a6",
   "metadata": {
    "execution": {
     "iopub.execute_input": "2023-08-11T10:32:00.091454Z",
     "iopub.status.busy": "2023-08-11T10:32:00.091161Z",
     "iopub.status.idle": "2023-08-11T10:32:03.639431Z",
     "shell.execute_reply": "2023-08-11T10:32:03.638403Z"
    }
   },
   "outputs": [
    {
     "name": "stdout",
     "output_type": "stream",
     "text": [
      "43.9 µs ± 1.08 µs per loop (mean ± std. dev. of 7 runs, 10,000 loops each)\n"
     ]
    }
   ],
   "source": [
    "%timeit t_cat(trees)"
   ]
  },
  {
   "cell_type": "code",
   "execution_count": 24,
   "id": "a3ab5c8f",
   "metadata": {
    "execution": {
     "iopub.execute_input": "2023-08-11T10:32:03.643918Z",
     "iopub.status.busy": "2023-08-11T10:32:03.643090Z",
     "iopub.status.idle": "2023-08-11T10:32:11.731449Z",
     "shell.execute_reply": "2023-08-11T10:32:11.730556Z"
    }
   },
   "outputs": [
    {
     "name": "stdout",
     "output_type": "stream",
     "text": [
      "99.6 µs ± 2.88 µs per loop (mean ± std. dev. of 7 runs, 10,000 loops each)\n"
     ]
    }
   ],
   "source": [
    "t_split = FastTreeValue.func(rise=True)(torch.split)\n",
    "tree = FastTreeValue({\n",
    "    'obs': torch.randn(8, 4, 84, 84),\n",
    "    'action': torch.randint(0, 6, size=(8, 1,)),\n",
    "    'reward': torch.rand(8, 1),\n",
    "})\n",
    "\n",
    "%timeit t_split(tree, 1)"
   ]
  },
  {
   "cell_type": "markdown",
   "id": "31c3ec0b",
   "metadata": {},
   "source": [
    "### Performance of Tianshou Batch"
   ]
  },
  {
   "cell_type": "code",
   "execution_count": 25,
   "id": "9ead828a",
   "metadata": {
    "execution": {
     "iopub.execute_input": "2023-08-11T10:32:11.735499Z",
     "iopub.status.busy": "2023-08-11T10:32:11.734931Z",
     "iopub.status.idle": "2023-08-11T10:32:11.744988Z",
     "shell.execute_reply": "2023-08-11T10:32:11.743781Z"
    }
   },
   "outputs": [
    {
     "data": {
      "text/plain": [
       "Batch(\n",
       "    a: tensor([[[-0.0037, -1.8884,  0.3552],\n",
       "                [ 0.6655,  1.4680,  0.3877]],\n",
       "       \n",
       "               [[-0.0037, -1.8884,  0.3552],\n",
       "                [ 0.6655,  1.4680,  0.3877]],\n",
       "       \n",
       "               [[-0.0037, -1.8884,  0.3552],\n",
       "                [ 0.6655,  1.4680,  0.3877]],\n",
       "       \n",
       "               [[-0.0037, -1.8884,  0.3552],\n",
       "                [ 0.6655,  1.4680,  0.3877]],\n",
       "       \n",
       "               [[-0.0037, -1.8884,  0.3552],\n",
       "                [ 0.6655,  1.4680,  0.3877]],\n",
       "       \n",
       "               [[-0.0037, -1.8884,  0.3552],\n",
       "                [ 0.6655,  1.4680,  0.3877]],\n",
       "       \n",
       "               [[-0.0037, -1.8884,  0.3552],\n",
       "                [ 0.6655,  1.4680,  0.3877]],\n",
       "       \n",
       "               [[-0.0037, -1.8884,  0.3552],\n",
       "                [ 0.6655,  1.4680,  0.3877]]]),\n",
       "    x: Batch(\n",
       "           c: tensor([[[ 0.5997,  0.9202,  0.4062, -0.2686],\n",
       "                       [ 1.1404,  0.2478, -0.8150,  0.3418],\n",
       "                       [ 0.1654,  0.1064,  1.0439,  3.0828]],\n",
       "              \n",
       "                      [[ 0.5997,  0.9202,  0.4062, -0.2686],\n",
       "                       [ 1.1404,  0.2478, -0.8150,  0.3418],\n",
       "                       [ 0.1654,  0.1064,  1.0439,  3.0828]],\n",
       "              \n",
       "                      [[ 0.5997,  0.9202,  0.4062, -0.2686],\n",
       "                       [ 1.1404,  0.2478, -0.8150,  0.3418],\n",
       "                       [ 0.1654,  0.1064,  1.0439,  3.0828]],\n",
       "              \n",
       "                      [[ 0.5997,  0.9202,  0.4062, -0.2686],\n",
       "                       [ 1.1404,  0.2478, -0.8150,  0.3418],\n",
       "                       [ 0.1654,  0.1064,  1.0439,  3.0828]],\n",
       "              \n",
       "                      [[ 0.5997,  0.9202,  0.4062, -0.2686],\n",
       "                       [ 1.1404,  0.2478, -0.8150,  0.3418],\n",
       "                       [ 0.1654,  0.1064,  1.0439,  3.0828]],\n",
       "              \n",
       "                      [[ 0.5997,  0.9202,  0.4062, -0.2686],\n",
       "                       [ 1.1404,  0.2478, -0.8150,  0.3418],\n",
       "                       [ 0.1654,  0.1064,  1.0439,  3.0828]],\n",
       "              \n",
       "                      [[ 0.5997,  0.9202,  0.4062, -0.2686],\n",
       "                       [ 1.1404,  0.2478, -0.8150,  0.3418],\n",
       "                       [ 0.1654,  0.1064,  1.0439,  3.0828]],\n",
       "              \n",
       "                      [[ 0.5997,  0.9202,  0.4062, -0.2686],\n",
       "                       [ 1.1404,  0.2478, -0.8150,  0.3418],\n",
       "                       [ 0.1654,  0.1064,  1.0439,  3.0828]]]),\n",
       "       ),\n",
       ")"
      ]
     },
     "execution_count": 25,
     "metadata": {},
     "output_type": "execute_result"
    }
   ],
   "source": [
    "batches = [Batch(**_TREE_DATA_2) for _ in range(8)]\n",
    "\n",
    "Batch.stack(batches)"
   ]
  },
  {
   "cell_type": "code",
   "execution_count": 26,
   "id": "ec9037a3",
   "metadata": {
    "execution": {
     "iopub.execute_input": "2023-08-11T10:32:11.750087Z",
     "iopub.status.busy": "2023-08-11T10:32:11.749172Z",
     "iopub.status.idle": "2023-08-11T10:32:20.764725Z",
     "shell.execute_reply": "2023-08-11T10:32:20.763765Z"
    }
   },
   "outputs": [
    {
     "name": "stdout",
     "output_type": "stream",
     "text": [
      "111 µs ± 1.21 µs per loop (mean ± std. dev. of 7 runs, 10,000 loops each)\n"
     ]
    }
   ],
   "source": [
    "%timeit Batch.stack(batches)"
   ]
  },
  {
   "cell_type": "code",
   "execution_count": 27,
   "id": "cb8ab77e",
   "metadata": {
    "execution": {
     "iopub.execute_input": "2023-08-11T10:32:20.770026Z",
     "iopub.status.busy": "2023-08-11T10:32:20.768360Z",
     "iopub.status.idle": "2023-08-11T10:32:20.780495Z",
     "shell.execute_reply": "2023-08-11T10:32:20.779390Z"
    }
   },
   "outputs": [
    {
     "data": {
      "text/plain": [
       "Batch(\n",
       "    a: tensor([[-0.0037, -1.8884,  0.3552],\n",
       "               [ 0.6655,  1.4680,  0.3877],\n",
       "               [-0.0037, -1.8884,  0.3552],\n",
       "               [ 0.6655,  1.4680,  0.3877],\n",
       "               [-0.0037, -1.8884,  0.3552],\n",
       "               [ 0.6655,  1.4680,  0.3877],\n",
       "               [-0.0037, -1.8884,  0.3552],\n",
       "               [ 0.6655,  1.4680,  0.3877],\n",
       "               [-0.0037, -1.8884,  0.3552],\n",
       "               [ 0.6655,  1.4680,  0.3877],\n",
       "               [-0.0037, -1.8884,  0.3552],\n",
       "               [ 0.6655,  1.4680,  0.3877],\n",
       "               [-0.0037, -1.8884,  0.3552],\n",
       "               [ 0.6655,  1.4680,  0.3877],\n",
       "               [-0.0037, -1.8884,  0.3552],\n",
       "               [ 0.6655,  1.4680,  0.3877]]),\n",
       "    x: Batch(\n",
       "           c: tensor([[ 0.5997,  0.9202,  0.4062, -0.2686],\n",
       "                      [ 1.1404,  0.2478, -0.8150,  0.3418],\n",
       "                      [ 0.1654,  0.1064,  1.0439,  3.0828],\n",
       "                      [ 0.5997,  0.9202,  0.4062, -0.2686],\n",
       "                      [ 1.1404,  0.2478, -0.8150,  0.3418],\n",
       "                      [ 0.1654,  0.1064,  1.0439,  3.0828],\n",
       "                      [ 0.5997,  0.9202,  0.4062, -0.2686],\n",
       "                      [ 1.1404,  0.2478, -0.8150,  0.3418],\n",
       "                      [ 0.1654,  0.1064,  1.0439,  3.0828],\n",
       "                      [ 0.5997,  0.9202,  0.4062, -0.2686],\n",
       "                      [ 1.1404,  0.2478, -0.8150,  0.3418],\n",
       "                      [ 0.1654,  0.1064,  1.0439,  3.0828],\n",
       "                      [ 0.5997,  0.9202,  0.4062, -0.2686],\n",
       "                      [ 1.1404,  0.2478, -0.8150,  0.3418],\n",
       "                      [ 0.1654,  0.1064,  1.0439,  3.0828],\n",
       "                      [ 0.5997,  0.9202,  0.4062, -0.2686],\n",
       "                      [ 1.1404,  0.2478, -0.8150,  0.3418],\n",
       "                      [ 0.1654,  0.1064,  1.0439,  3.0828],\n",
       "                      [ 0.5997,  0.9202,  0.4062, -0.2686],\n",
       "                      [ 1.1404,  0.2478, -0.8150,  0.3418],\n",
       "                      [ 0.1654,  0.1064,  1.0439,  3.0828],\n",
       "                      [ 0.5997,  0.9202,  0.4062, -0.2686],\n",
       "                      [ 1.1404,  0.2478, -0.8150,  0.3418],\n",
       "                      [ 0.1654,  0.1064,  1.0439,  3.0828]]),\n",
       "       ),\n",
       ")"
      ]
     },
     "execution_count": 27,
     "metadata": {},
     "output_type": "execute_result"
    }
   ],
   "source": [
    "Batch.cat(batches)"
   ]
  },
  {
   "cell_type": "code",
   "execution_count": 28,
   "id": "18dfb045",
   "metadata": {
    "execution": {
     "iopub.execute_input": "2023-08-11T10:32:20.784638Z",
     "iopub.status.busy": "2023-08-11T10:32:20.784336Z",
     "iopub.status.idle": "2023-08-11T10:32:22.881998Z",
     "shell.execute_reply": "2023-08-11T10:32:22.881109Z"
    }
   },
   "outputs": [
    {
     "name": "stdout",
     "output_type": "stream",
     "text": [
      "255 µs ± 7.83 µs per loop (mean ± std. dev. of 7 runs, 1,000 loops each)\n"
     ]
    }
   ],
   "source": [
    "%timeit Batch.cat(batches)"
   ]
  },
  {
   "cell_type": "code",
   "execution_count": 29,
   "id": "c6688e51",
   "metadata": {
    "execution": {
     "iopub.execute_input": "2023-08-11T10:32:22.886665Z",
     "iopub.status.busy": "2023-08-11T10:32:22.885642Z",
     "iopub.status.idle": "2023-08-11T10:32:27.964185Z",
     "shell.execute_reply": "2023-08-11T10:32:27.963336Z"
    }
   },
   "outputs": [
    {
     "name": "stdout",
     "output_type": "stream",
     "text": [
      "625 µs ± 25.1 µs per loop (mean ± std. dev. of 7 runs, 1,000 loops each)\n"
     ]
    }
   ],
   "source": [
    "batch = Batch({\n",
    "    'obs': torch.randn(8, 4, 84, 84),\n",
    "    'action': torch.randint(0, 6, size=(8, 1,)),\n",
    "    'reward': torch.rand(8, 1)}\n",
    ")\n",
    "\n",
    "%timeit list(Batch.split(batch, 1, shuffle=False, merge_last=True))"
   ]
  },
  {
   "cell_type": "code",
   "execution_count": null,
   "id": "2539fbd9",
   "metadata": {},
   "outputs": [],
   "source": []
  }
 ],
 "metadata": {
  "kernelspec": {
   "display_name": "Python 3 (ipykernel)",
   "language": "python",
   "name": "python3"
  },
  "language_info": {
   "codemirror_mode": {
    "name": "ipython",
    "version": 3
   },
   "file_extension": ".py",
   "mimetype": "text/x-python",
   "name": "python",
   "nbconvert_exporter": "python",
   "pygments_lexer": "ipython3",
   "version": "3.8.17"
  }
 },
 "nbformat": 4,
 "nbformat_minor": 5
}
