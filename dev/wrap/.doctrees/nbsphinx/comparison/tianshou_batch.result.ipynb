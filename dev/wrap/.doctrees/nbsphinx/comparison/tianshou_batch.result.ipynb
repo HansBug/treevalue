{
 "cells": [
  {
   "cell_type": "markdown",
   "id": "9d39d946",
   "metadata": {},
   "source": [
    "# Comparison Between TreeValue and Tianshou Batch"
   ]
  },
  {
   "cell_type": "markdown",
   "id": "3c6db2d4",
   "metadata": {},
   "source": [
    "In this section, we will take a look at the feature and performance of the [Tianshou Batch](https://github.com/thu-ml/tianshou) library, which is developed by Tsinghua Machine Learning Group."
   ]
  },
  {
   "cell_type": "markdown",
   "id": "069361b0",
   "metadata": {},
   "source": [
    "Before starting the comparison, let us define some thing."
   ]
  },
  {
   "cell_type": "code",
   "execution_count": 1,
   "id": "06fc8d26",
   "metadata": {
    "execution": {
     "iopub.execute_input": "2023-02-25T17:41:58.534439Z",
     "iopub.status.busy": "2023-02-25T17:41:58.533890Z",
     "iopub.status.idle": "2023-02-25T17:41:59.447003Z",
     "shell.execute_reply": "2023-02-25T17:41:59.446353Z"
    }
   },
   "outputs": [
    {
     "name": "stderr",
     "output_type": "stream",
     "text": [
      "/opt/hostedtoolcache/Python/3.8.16/x64/lib/python3.8/site-packages/tqdm/auto.py:22: TqdmWarning: IProgress not found. Please update jupyter and ipywidgets. See https://ipywidgets.readthedocs.io/en/stable/user_install.html\n",
      "  from .autonotebook import tqdm as notebook_tqdm\n"
     ]
    }
   ],
   "source": [
    "import torch \n",
    "\n",
    "_TREE_DATA_1 = {'a': 1, 'b': 2, 'x': {'c': 3, 'd': 4}}\n",
    "_TREE_DATA_2 = {\n",
    "    'a': torch.randn(2, 3), \n",
    "    'x': {\n",
    "        'c': torch.randn(3, 4)\n",
    "    },\n",
    "}\n",
    "_TREE_DATA_3 = {\n",
    "    'obs': torch.randn(4, 84, 84),\n",
    "    'action': torch.randint(0, 6, size=(1,)),\n",
    "    'reward': torch.rand(1),\n",
    "}"
   ]
  },
  {
   "cell_type": "markdown",
   "id": "83461b25",
   "metadata": {},
   "source": [
    "## Read and Write Operation"
   ]
  },
  {
   "cell_type": "markdown",
   "id": "067b3f73",
   "metadata": {},
   "source": [
    "Reading and writing are the two most common operations in the tree data structure based on the data model (TreeValue and Tianshou Batch both belong to this type), so this section will compare the reading and writing performance of these two libraries."
   ]
  },
  {
   "cell_type": "markdown",
   "id": "5d09a5b7",
   "metadata": {},
   "source": [
    "### TreeValue's Get and Set"
   ]
  },
  {
   "cell_type": "code",
   "execution_count": 2,
   "id": "9519c4bb",
   "metadata": {
    "execution": {
     "iopub.execute_input": "2023-02-25T17:41:59.450252Z",
     "iopub.status.busy": "2023-02-25T17:41:59.449773Z",
     "iopub.status.idle": "2023-02-25T17:41:59.482827Z",
     "shell.execute_reply": "2023-02-25T17:41:59.482220Z"
    }
   },
   "outputs": [],
   "source": [
    "from treevalue import FastTreeValue\n",
    "\n",
    "t = FastTreeValue(_TREE_DATA_2)"
   ]
  },
  {
   "cell_type": "code",
   "execution_count": 3,
   "id": "11c37677",
   "metadata": {
    "execution": {
     "iopub.execute_input": "2023-02-25T17:41:59.485955Z",
     "iopub.status.busy": "2023-02-25T17:41:59.485452Z",
     "iopub.status.idle": "2023-02-25T17:41:59.494855Z",
     "shell.execute_reply": "2023-02-25T17:41:59.494280Z"
    }
   },
   "outputs": [
    {
     "data": {
      "text/plain": [
       "<FastTreeValue 0x7f74d477bf10>\n",
       "├── 'a' --> tensor([[ 0.2521, -2.1569, -0.6048],\n",
       "│                   [-0.1872,  1.4476, -0.4937]])\n",
       "└── 'x' --> <FastTreeValue 0x7f74d47192b0>\n",
       "    └── 'c' --> tensor([[-1.3475,  0.9497, -0.2398, -0.7133],\n",
       "                        [-0.0330, -1.7767, -0.1610, -1.4573],\n",
       "                        [-0.5588,  1.0257,  0.2022, -0.7223]])"
      ]
     },
     "execution_count": 3,
     "metadata": {},
     "output_type": "execute_result"
    }
   ],
   "source": [
    "t"
   ]
  },
  {
   "cell_type": "code",
   "execution_count": 4,
   "id": "fd70b0b9",
   "metadata": {
    "execution": {
     "iopub.execute_input": "2023-02-25T17:41:59.498375Z",
     "iopub.status.busy": "2023-02-25T17:41:59.497342Z",
     "iopub.status.idle": "2023-02-25T17:41:59.503557Z",
     "shell.execute_reply": "2023-02-25T17:41:59.502972Z"
    }
   },
   "outputs": [
    {
     "data": {
      "text/plain": [
       "tensor([[ 0.2521, -2.1569, -0.6048],\n",
       "        [-0.1872,  1.4476, -0.4937]])"
      ]
     },
     "execution_count": 4,
     "metadata": {},
     "output_type": "execute_result"
    }
   ],
   "source": [
    "t.a"
   ]
  },
  {
   "cell_type": "code",
   "execution_count": 5,
   "id": "c18197bd",
   "metadata": {
    "execution": {
     "iopub.execute_input": "2023-02-25T17:41:59.505993Z",
     "iopub.status.busy": "2023-02-25T17:41:59.505638Z",
     "iopub.status.idle": "2023-02-25T17:42:04.905960Z",
     "shell.execute_reply": "2023-02-25T17:42:04.905248Z"
    }
   },
   "outputs": [
    {
     "name": "stdout",
     "output_type": "stream",
     "text": [
      "66.2 ns ± 0.0342 ns per loop (mean ± std. dev. of 7 runs, 10,000,000 loops each)\n"
     ]
    }
   ],
   "source": [
    "%timeit t.a"
   ]
  },
  {
   "cell_type": "code",
   "execution_count": 6,
   "id": "bd52f867",
   "metadata": {
    "execution": {
     "iopub.execute_input": "2023-02-25T17:42:04.909083Z",
     "iopub.status.busy": "2023-02-25T17:42:04.908620Z",
     "iopub.status.idle": "2023-02-25T17:42:04.915197Z",
     "shell.execute_reply": "2023-02-25T17:42:04.914608Z"
    }
   },
   "outputs": [
    {
     "data": {
      "text/plain": [
       "<FastTreeValue 0x7f74d477bf10>\n",
       "├── 'a' --> tensor([[-0.9307, -0.3243, -0.9877],\n",
       "│                   [-1.7647,  1.8510,  1.0412]])\n",
       "└── 'x' --> <FastTreeValue 0x7f74d47192b0>\n",
       "    └── 'c' --> tensor([[-1.3475,  0.9497, -0.2398, -0.7133],\n",
       "                        [-0.0330, -1.7767, -0.1610, -1.4573],\n",
       "                        [-0.5588,  1.0257,  0.2022, -0.7223]])"
      ]
     },
     "execution_count": 6,
     "metadata": {},
     "output_type": "execute_result"
    }
   ],
   "source": [
    "new_value = torch.randn(2, 3)\n",
    "t.a = new_value\n",
    "\n",
    "t"
   ]
  },
  {
   "cell_type": "code",
   "execution_count": 7,
   "id": "bbe04d1c",
   "metadata": {
    "execution": {
     "iopub.execute_input": "2023-02-25T17:42:04.917596Z",
     "iopub.status.busy": "2023-02-25T17:42:04.917260Z",
     "iopub.status.idle": "2023-02-25T17:42:10.335860Z",
     "shell.execute_reply": "2023-02-25T17:42:10.335118Z"
    }
   },
   "outputs": [
    {
     "name": "stdout",
     "output_type": "stream",
     "text": [
      "66.3 ns ± 0.0465 ns per loop (mean ± std. dev. of 7 runs, 10,000,000 loops each)\n"
     ]
    }
   ],
   "source": [
    "%timeit t.a = new_value"
   ]
  },
  {
   "cell_type": "markdown",
   "id": "48c49731",
   "metadata": {},
   "source": [
    "### Tianshou Batch's Get and Set"
   ]
  },
  {
   "cell_type": "code",
   "execution_count": 8,
   "id": "f1bb14c1",
   "metadata": {
    "execution": {
     "iopub.execute_input": "2023-02-25T17:42:10.339055Z",
     "iopub.status.busy": "2023-02-25T17:42:10.338389Z",
     "iopub.status.idle": "2023-02-25T17:42:10.674587Z",
     "shell.execute_reply": "2023-02-25T17:42:10.673926Z"
    }
   },
   "outputs": [],
   "source": [
    "from tianshou.data import Batch\n",
    "\n",
    "b = Batch(**_TREE_DATA_2)"
   ]
  },
  {
   "cell_type": "code",
   "execution_count": 9,
   "id": "cb0777c3",
   "metadata": {
    "execution": {
     "iopub.execute_input": "2023-02-25T17:42:10.678078Z",
     "iopub.status.busy": "2023-02-25T17:42:10.677476Z",
     "iopub.status.idle": "2023-02-25T17:42:10.684962Z",
     "shell.execute_reply": "2023-02-25T17:42:10.683898Z"
    }
   },
   "outputs": [
    {
     "data": {
      "text/plain": [
       "Batch(\n",
       "    a: tensor([[ 0.2521, -2.1569, -0.6048],\n",
       "               [-0.1872,  1.4476, -0.4937]]),\n",
       "    x: Batch(\n",
       "           c: tensor([[-1.3475,  0.9497, -0.2398, -0.7133],\n",
       "                      [-0.0330, -1.7767, -0.1610, -1.4573],\n",
       "                      [-0.5588,  1.0257,  0.2022, -0.7223]]),\n",
       "       ),\n",
       ")"
      ]
     },
     "execution_count": 9,
     "metadata": {},
     "output_type": "execute_result"
    }
   ],
   "source": [
    "b"
   ]
  },
  {
   "cell_type": "code",
   "execution_count": 10,
   "id": "43ef8ea3",
   "metadata": {
    "execution": {
     "iopub.execute_input": "2023-02-25T17:42:10.687786Z",
     "iopub.status.busy": "2023-02-25T17:42:10.687462Z",
     "iopub.status.idle": "2023-02-25T17:42:10.693716Z",
     "shell.execute_reply": "2023-02-25T17:42:10.692517Z"
    }
   },
   "outputs": [
    {
     "data": {
      "text/plain": [
       "tensor([[ 0.2521, -2.1569, -0.6048],\n",
       "        [-0.1872,  1.4476, -0.4937]])"
      ]
     },
     "execution_count": 10,
     "metadata": {},
     "output_type": "execute_result"
    }
   ],
   "source": [
    "b.a"
   ]
  },
  {
   "cell_type": "code",
   "execution_count": 11,
   "id": "b785ab72",
   "metadata": {
    "execution": {
     "iopub.execute_input": "2023-02-25T17:42:10.696460Z",
     "iopub.status.busy": "2023-02-25T17:42:10.695996Z",
     "iopub.status.idle": "2023-02-25T17:42:15.436522Z",
     "shell.execute_reply": "2023-02-25T17:42:15.435776Z"
    }
   },
   "outputs": [
    {
     "name": "stdout",
     "output_type": "stream",
     "text": [
      "58.9 ns ± 0.0893 ns per loop (mean ± std. dev. of 7 runs, 10,000,000 loops each)\n"
     ]
    }
   ],
   "source": [
    "%timeit b.a"
   ]
  },
  {
   "cell_type": "code",
   "execution_count": 12,
   "id": "ad54dc69",
   "metadata": {
    "execution": {
     "iopub.execute_input": "2023-02-25T17:42:15.439607Z",
     "iopub.status.busy": "2023-02-25T17:42:15.439153Z",
     "iopub.status.idle": "2023-02-25T17:42:15.445422Z",
     "shell.execute_reply": "2023-02-25T17:42:15.444818Z"
    }
   },
   "outputs": [
    {
     "data": {
      "text/plain": [
       "Batch(\n",
       "    a: tensor([[-1.6097, -0.4221,  0.6210],\n",
       "               [ 0.6138,  0.9978,  0.1225]]),\n",
       "    x: Batch(\n",
       "           c: tensor([[-1.3475,  0.9497, -0.2398, -0.7133],\n",
       "                      [-0.0330, -1.7767, -0.1610, -1.4573],\n",
       "                      [-0.5588,  1.0257,  0.2022, -0.7223]]),\n",
       "       ),\n",
       ")"
      ]
     },
     "execution_count": 12,
     "metadata": {},
     "output_type": "execute_result"
    }
   ],
   "source": [
    "new_value = torch.randn(2, 3)\n",
    "b.a = new_value\n",
    "\n",
    "b"
   ]
  },
  {
   "cell_type": "code",
   "execution_count": 13,
   "id": "29b1d0bf",
   "metadata": {
    "execution": {
     "iopub.execute_input": "2023-02-25T17:42:15.447828Z",
     "iopub.status.busy": "2023-02-25T17:42:15.447485Z",
     "iopub.status.idle": "2023-02-25T17:42:19.393705Z",
     "shell.execute_reply": "2023-02-25T17:42:19.392990Z"
    }
   },
   "outputs": [
    {
     "name": "stdout",
     "output_type": "stream",
     "text": [
      "486 ns ± 0.637 ns per loop (mean ± std. dev. of 7 runs, 1,000,000 loops each)\n"
     ]
    }
   ],
   "source": [
    "%timeit b.a = new_value"
   ]
  },
  {
   "cell_type": "markdown",
   "id": "b61ad1d0",
   "metadata": {},
   "source": [
    "## Initialization"
   ]
  },
  {
   "cell_type": "markdown",
   "id": "d70f0d54",
   "metadata": {},
   "source": [
    "### TreeValue's Initialization"
   ]
  },
  {
   "cell_type": "code",
   "execution_count": 14,
   "id": "d32a679b",
   "metadata": {
    "execution": {
     "iopub.execute_input": "2023-02-25T17:42:19.396666Z",
     "iopub.status.busy": "2023-02-25T17:42:19.396318Z",
     "iopub.status.idle": "2023-02-25T17:42:26.648561Z",
     "shell.execute_reply": "2023-02-25T17:42:26.647832Z"
    }
   },
   "outputs": [
    {
     "name": "stdout",
     "output_type": "stream",
     "text": [
      "893 ns ± 9.04 ns per loop (mean ± std. dev. of 7 runs, 1,000,000 loops each)\n"
     ]
    }
   ],
   "source": [
    "%timeit FastTreeValue(_TREE_DATA_1)"
   ]
  },
  {
   "cell_type": "markdown",
   "id": "24f3707b",
   "metadata": {},
   "source": [
    "### Tianshou Batch's Initialization"
   ]
  },
  {
   "cell_type": "code",
   "execution_count": 15,
   "id": "ac3958df",
   "metadata": {
    "execution": {
     "iopub.execute_input": "2023-02-25T17:42:26.651624Z",
     "iopub.status.busy": "2023-02-25T17:42:26.651273Z",
     "iopub.status.idle": "2023-02-25T17:42:35.995470Z",
     "shell.execute_reply": "2023-02-25T17:42:35.994738Z"
    }
   },
   "outputs": [
    {
     "name": "stdout",
     "output_type": "stream",
     "text": [
      "11.5 µs ± 33 ns per loop (mean ± std. dev. of 7 runs, 100,000 loops each)\n"
     ]
    }
   ],
   "source": [
    "%timeit Batch(**_TREE_DATA_1)"
   ]
  },
  {
   "cell_type": "markdown",
   "id": "1ab82e2d",
   "metadata": {},
   "source": [
    "## Deep Copy Operation"
   ]
  },
  {
   "cell_type": "code",
   "execution_count": 16,
   "id": "210a9442",
   "metadata": {
    "execution": {
     "iopub.execute_input": "2023-02-25T17:42:35.998553Z",
     "iopub.status.busy": "2023-02-25T17:42:35.997912Z",
     "iopub.status.idle": "2023-02-25T17:42:36.001624Z",
     "shell.execute_reply": "2023-02-25T17:42:36.001020Z"
    }
   },
   "outputs": [],
   "source": [
    "import copy"
   ]
  },
  {
   "cell_type": "markdown",
   "id": "5a736274",
   "metadata": {},
   "source": [
    "### Deep Copy of TreeValue"
   ]
  },
  {
   "cell_type": "code",
   "execution_count": 17,
   "id": "f9bcadd6",
   "metadata": {
    "execution": {
     "iopub.execute_input": "2023-02-25T17:42:36.004262Z",
     "iopub.status.busy": "2023-02-25T17:42:36.003923Z",
     "iopub.status.idle": "2023-02-25T17:42:47.231766Z",
     "shell.execute_reply": "2023-02-25T17:42:47.231211Z"
    }
   },
   "outputs": [
    {
     "name": "stdout",
     "output_type": "stream",
     "text": [
      "138 µs ± 580 ns per loop (mean ± std. dev. of 7 runs, 10,000 loops each)\n"
     ]
    }
   ],
   "source": [
    "t3 = FastTreeValue(_TREE_DATA_3)\n",
    "%timeit copy.deepcopy(t3)"
   ]
  },
  {
   "cell_type": "markdown",
   "id": "bf8be7ea",
   "metadata": {},
   "source": [
    "### Deep Copy of Tianshou Batch"
   ]
  },
  {
   "cell_type": "code",
   "execution_count": 18,
   "id": "91998e6f",
   "metadata": {
    "execution": {
     "iopub.execute_input": "2023-02-25T17:42:47.238169Z",
     "iopub.status.busy": "2023-02-25T17:42:47.237812Z",
     "iopub.status.idle": "2023-02-25T17:42:58.588379Z",
     "shell.execute_reply": "2023-02-25T17:42:58.587805Z"
    }
   },
   "outputs": [
    {
     "name": "stdout",
     "output_type": "stream",
     "text": [
      "140 µs ± 553 ns per loop (mean ± std. dev. of 7 runs, 10,000 loops each)\n"
     ]
    }
   ],
   "source": [
    "b3 = Batch(**_TREE_DATA_3)\n",
    "%timeit copy.deepcopy(b3)"
   ]
  },
  {
   "cell_type": "markdown",
   "id": "223162fb",
   "metadata": {},
   "source": [
    "## Stack, Concat and Split Operation"
   ]
  },
  {
   "cell_type": "markdown",
   "id": "85fa4a73",
   "metadata": {},
   "source": [
    "### Performance of TreeValue"
   ]
  },
  {
   "cell_type": "code",
   "execution_count": 19,
   "id": "a0c2b697",
   "metadata": {
    "execution": {
     "iopub.execute_input": "2023-02-25T17:42:58.592276Z",
     "iopub.status.busy": "2023-02-25T17:42:58.591327Z",
     "iopub.status.idle": "2023-02-25T17:42:58.595575Z",
     "shell.execute_reply": "2023-02-25T17:42:58.594985Z"
    }
   },
   "outputs": [],
   "source": [
    "trees = [FastTreeValue(_TREE_DATA_2) for _ in range(8)]"
   ]
  },
  {
   "cell_type": "code",
   "execution_count": 20,
   "id": "017ea5a5",
   "metadata": {
    "execution": {
     "iopub.execute_input": "2023-02-25T17:42:58.598281Z",
     "iopub.status.busy": "2023-02-25T17:42:58.597724Z",
     "iopub.status.idle": "2023-02-25T17:42:58.606217Z",
     "shell.execute_reply": "2023-02-25T17:42:58.605646Z"
    }
   },
   "outputs": [
    {
     "data": {
      "text/plain": [
       "<FastTreeValue 0x7f74d478d520>\n",
       "├── 'a' --> tensor([[[ 0.2521, -2.1569, -0.6048],\n",
       "│                    [-0.1872,  1.4476, -0.4937]],\n",
       "│           \n",
       "│                   [[ 0.2521, -2.1569, -0.6048],\n",
       "│                    [-0.1872,  1.4476, -0.4937]],\n",
       "│           \n",
       "│                   [[ 0.2521, -2.1569, -0.6048],\n",
       "│                    [-0.1872,  1.4476, -0.4937]],\n",
       "│           \n",
       "│                   [[ 0.2521, -2.1569, -0.6048],\n",
       "│                    [-0.1872,  1.4476, -0.4937]],\n",
       "│           \n",
       "│                   [[ 0.2521, -2.1569, -0.6048],\n",
       "│                    [-0.1872,  1.4476, -0.4937]],\n",
       "│           \n",
       "│                   [[ 0.2521, -2.1569, -0.6048],\n",
       "│                    [-0.1872,  1.4476, -0.4937]],\n",
       "│           \n",
       "│                   [[ 0.2521, -2.1569, -0.6048],\n",
       "│                    [-0.1872,  1.4476, -0.4937]],\n",
       "│           \n",
       "│                   [[ 0.2521, -2.1569, -0.6048],\n",
       "│                    [-0.1872,  1.4476, -0.4937]]])\n",
       "└── 'x' --> <FastTreeValue 0x7f7428b50df0>\n",
       "    └── 'c' --> tensor([[[-1.3475,  0.9497, -0.2398, -0.7133],\n",
       "                         [-0.0330, -1.7767, -0.1610, -1.4573],\n",
       "                         [-0.5588,  1.0257,  0.2022, -0.7223]],\n",
       "                \n",
       "                        [[-1.3475,  0.9497, -0.2398, -0.7133],\n",
       "                         [-0.0330, -1.7767, -0.1610, -1.4573],\n",
       "                         [-0.5588,  1.0257,  0.2022, -0.7223]],\n",
       "                \n",
       "                        [[-1.3475,  0.9497, -0.2398, -0.7133],\n",
       "                         [-0.0330, -1.7767, -0.1610, -1.4573],\n",
       "                         [-0.5588,  1.0257,  0.2022, -0.7223]],\n",
       "                \n",
       "                        [[-1.3475,  0.9497, -0.2398, -0.7133],\n",
       "                         [-0.0330, -1.7767, -0.1610, -1.4573],\n",
       "                         [-0.5588,  1.0257,  0.2022, -0.7223]],\n",
       "                \n",
       "                        [[-1.3475,  0.9497, -0.2398, -0.7133],\n",
       "                         [-0.0330, -1.7767, -0.1610, -1.4573],\n",
       "                         [-0.5588,  1.0257,  0.2022, -0.7223]],\n",
       "                \n",
       "                        [[-1.3475,  0.9497, -0.2398, -0.7133],\n",
       "                         [-0.0330, -1.7767, -0.1610, -1.4573],\n",
       "                         [-0.5588,  1.0257,  0.2022, -0.7223]],\n",
       "                \n",
       "                        [[-1.3475,  0.9497, -0.2398, -0.7133],\n",
       "                         [-0.0330, -1.7767, -0.1610, -1.4573],\n",
       "                         [-0.5588,  1.0257,  0.2022, -0.7223]],\n",
       "                \n",
       "                        [[-1.3475,  0.9497, -0.2398, -0.7133],\n",
       "                         [-0.0330, -1.7767, -0.1610, -1.4573],\n",
       "                         [-0.5588,  1.0257,  0.2022, -0.7223]]])"
      ]
     },
     "execution_count": 20,
     "metadata": {},
     "output_type": "execute_result"
    }
   ],
   "source": [
    "t_stack = FastTreeValue.func(subside=True)(torch.stack)\n",
    "\n",
    "t_stack(trees)"
   ]
  },
  {
   "cell_type": "code",
   "execution_count": 21,
   "id": "f8b3f415",
   "metadata": {
    "execution": {
     "iopub.execute_input": "2023-02-25T17:42:58.608919Z",
     "iopub.status.busy": "2023-02-25T17:42:58.608684Z",
     "iopub.status.idle": "2023-02-25T17:43:01.282991Z",
     "shell.execute_reply": "2023-02-25T17:43:01.282267Z"
    }
   },
   "outputs": [
    {
     "name": "stdout",
     "output_type": "stream",
     "text": [
      "32.9 µs ± 80.2 ns per loop (mean ± std. dev. of 7 runs, 10,000 loops each)\n"
     ]
    }
   ],
   "source": [
    "%timeit t_stack(trees)"
   ]
  },
  {
   "cell_type": "code",
   "execution_count": 22,
   "id": "94b56771",
   "metadata": {
    "execution": {
     "iopub.execute_input": "2023-02-25T17:43:01.286168Z",
     "iopub.status.busy": "2023-02-25T17:43:01.285601Z",
     "iopub.status.idle": "2023-02-25T17:43:01.293621Z",
     "shell.execute_reply": "2023-02-25T17:43:01.293014Z"
    }
   },
   "outputs": [
    {
     "data": {
      "text/plain": [
       "<FastTreeValue 0x7f74283da850>\n",
       "├── 'a' --> tensor([[ 0.2521, -2.1569, -0.6048],\n",
       "│                   [-0.1872,  1.4476, -0.4937],\n",
       "│                   [ 0.2521, -2.1569, -0.6048],\n",
       "│                   [-0.1872,  1.4476, -0.4937],\n",
       "│                   [ 0.2521, -2.1569, -0.6048],\n",
       "│                   [-0.1872,  1.4476, -0.4937],\n",
       "│                   [ 0.2521, -2.1569, -0.6048],\n",
       "│                   [-0.1872,  1.4476, -0.4937],\n",
       "│                   [ 0.2521, -2.1569, -0.6048],\n",
       "│                   [-0.1872,  1.4476, -0.4937],\n",
       "│                   [ 0.2521, -2.1569, -0.6048],\n",
       "│                   [-0.1872,  1.4476, -0.4937],\n",
       "│                   [ 0.2521, -2.1569, -0.6048],\n",
       "│                   [-0.1872,  1.4476, -0.4937],\n",
       "│                   [ 0.2521, -2.1569, -0.6048],\n",
       "│                   [-0.1872,  1.4476, -0.4937]])\n",
       "└── 'x' --> <FastTreeValue 0x7f74284432e0>\n",
       "    └── 'c' --> tensor([[-1.3475,  0.9497, -0.2398, -0.7133],\n",
       "                        [-0.0330, -1.7767, -0.1610, -1.4573],\n",
       "                        [-0.5588,  1.0257,  0.2022, -0.7223],\n",
       "                        [-1.3475,  0.9497, -0.2398, -0.7133],\n",
       "                        [-0.0330, -1.7767, -0.1610, -1.4573],\n",
       "                        [-0.5588,  1.0257,  0.2022, -0.7223],\n",
       "                        [-1.3475,  0.9497, -0.2398, -0.7133],\n",
       "                        [-0.0330, -1.7767, -0.1610, -1.4573],\n",
       "                        [-0.5588,  1.0257,  0.2022, -0.7223],\n",
       "                        [-1.3475,  0.9497, -0.2398, -0.7133],\n",
       "                        [-0.0330, -1.7767, -0.1610, -1.4573],\n",
       "                        [-0.5588,  1.0257,  0.2022, -0.7223],\n",
       "                        [-1.3475,  0.9497, -0.2398, -0.7133],\n",
       "                        [-0.0330, -1.7767, -0.1610, -1.4573],\n",
       "                        [-0.5588,  1.0257,  0.2022, -0.7223],\n",
       "                        [-1.3475,  0.9497, -0.2398, -0.7133],\n",
       "                        [-0.0330, -1.7767, -0.1610, -1.4573],\n",
       "                        [-0.5588,  1.0257,  0.2022, -0.7223],\n",
       "                        [-1.3475,  0.9497, -0.2398, -0.7133],\n",
       "                        [-0.0330, -1.7767, -0.1610, -1.4573],\n",
       "                        [-0.5588,  1.0257,  0.2022, -0.7223],\n",
       "                        [-1.3475,  0.9497, -0.2398, -0.7133],\n",
       "                        [-0.0330, -1.7767, -0.1610, -1.4573],\n",
       "                        [-0.5588,  1.0257,  0.2022, -0.7223]])"
      ]
     },
     "execution_count": 22,
     "metadata": {},
     "output_type": "execute_result"
    }
   ],
   "source": [
    "t_cat = FastTreeValue.func(subside=True)(torch.cat)\n",
    "\n",
    "t_cat(trees)"
   ]
  },
  {
   "cell_type": "code",
   "execution_count": 23,
   "id": "5e9c06a6",
   "metadata": {
    "execution": {
     "iopub.execute_input": "2023-02-25T17:43:01.296293Z",
     "iopub.status.busy": "2023-02-25T17:43:01.296058Z",
     "iopub.status.idle": "2023-02-25T17:43:03.794367Z",
     "shell.execute_reply": "2023-02-25T17:43:03.793669Z"
    }
   },
   "outputs": [
    {
     "name": "stdout",
     "output_type": "stream",
     "text": [
      "30.7 µs ± 185 ns per loop (mean ± std. dev. of 7 runs, 10,000 loops each)\n"
     ]
    }
   ],
   "source": [
    "%timeit t_cat(trees)"
   ]
  },
  {
   "cell_type": "code",
   "execution_count": 24,
   "id": "a3ab5c8f",
   "metadata": {
    "execution": {
     "iopub.execute_input": "2023-02-25T17:43:03.797423Z",
     "iopub.status.busy": "2023-02-25T17:43:03.797069Z",
     "iopub.status.idle": "2023-02-25T17:43:08.452014Z",
     "shell.execute_reply": "2023-02-25T17:43:08.451291Z"
    }
   },
   "outputs": [
    {
     "name": "stdout",
     "output_type": "stream",
     "text": [
      "57.3 µs ± 402 ns per loop (mean ± std. dev. of 7 runs, 10,000 loops each)\n"
     ]
    }
   ],
   "source": [
    "t_split = FastTreeValue.func(rise=True)(torch.split)\n",
    "tree = FastTreeValue({\n",
    "    'obs': torch.randn(8, 4, 84, 84),\n",
    "    'action': torch.randint(0, 6, size=(8, 1,)),\n",
    "    'reward': torch.rand(8, 1),\n",
    "})\n",
    "\n",
    "%timeit t_split(tree, 1)"
   ]
  },
  {
   "cell_type": "markdown",
   "id": "31c3ec0b",
   "metadata": {},
   "source": [
    "### Performance of Tianshou Batch"
   ]
  },
  {
   "cell_type": "code",
   "execution_count": 25,
   "id": "9ead828a",
   "metadata": {
    "execution": {
     "iopub.execute_input": "2023-02-25T17:43:08.455090Z",
     "iopub.status.busy": "2023-02-25T17:43:08.454727Z",
     "iopub.status.idle": "2023-02-25T17:43:08.463556Z",
     "shell.execute_reply": "2023-02-25T17:43:08.462970Z"
    }
   },
   "outputs": [
    {
     "data": {
      "text/plain": [
       "Batch(\n",
       "    a: tensor([[[ 0.2521, -2.1569, -0.6048],\n",
       "                [-0.1872,  1.4476, -0.4937]],\n",
       "       \n",
       "               [[ 0.2521, -2.1569, -0.6048],\n",
       "                [-0.1872,  1.4476, -0.4937]],\n",
       "       \n",
       "               [[ 0.2521, -2.1569, -0.6048],\n",
       "                [-0.1872,  1.4476, -0.4937]],\n",
       "       \n",
       "               [[ 0.2521, -2.1569, -0.6048],\n",
       "                [-0.1872,  1.4476, -0.4937]],\n",
       "       \n",
       "               [[ 0.2521, -2.1569, -0.6048],\n",
       "                [-0.1872,  1.4476, -0.4937]],\n",
       "       \n",
       "               [[ 0.2521, -2.1569, -0.6048],\n",
       "                [-0.1872,  1.4476, -0.4937]],\n",
       "       \n",
       "               [[ 0.2521, -2.1569, -0.6048],\n",
       "                [-0.1872,  1.4476, -0.4937]],\n",
       "       \n",
       "               [[ 0.2521, -2.1569, -0.6048],\n",
       "                [-0.1872,  1.4476, -0.4937]]]),\n",
       "    x: Batch(\n",
       "           c: tensor([[[-1.3475,  0.9497, -0.2398, -0.7133],\n",
       "                       [-0.0330, -1.7767, -0.1610, -1.4573],\n",
       "                       [-0.5588,  1.0257,  0.2022, -0.7223]],\n",
       "              \n",
       "                      [[-1.3475,  0.9497, -0.2398, -0.7133],\n",
       "                       [-0.0330, -1.7767, -0.1610, -1.4573],\n",
       "                       [-0.5588,  1.0257,  0.2022, -0.7223]],\n",
       "              \n",
       "                      [[-1.3475,  0.9497, -0.2398, -0.7133],\n",
       "                       [-0.0330, -1.7767, -0.1610, -1.4573],\n",
       "                       [-0.5588,  1.0257,  0.2022, -0.7223]],\n",
       "              \n",
       "                      [[-1.3475,  0.9497, -0.2398, -0.7133],\n",
       "                       [-0.0330, -1.7767, -0.1610, -1.4573],\n",
       "                       [-0.5588,  1.0257,  0.2022, -0.7223]],\n",
       "              \n",
       "                      [[-1.3475,  0.9497, -0.2398, -0.7133],\n",
       "                       [-0.0330, -1.7767, -0.1610, -1.4573],\n",
       "                       [-0.5588,  1.0257,  0.2022, -0.7223]],\n",
       "              \n",
       "                      [[-1.3475,  0.9497, -0.2398, -0.7133],\n",
       "                       [-0.0330, -1.7767, -0.1610, -1.4573],\n",
       "                       [-0.5588,  1.0257,  0.2022, -0.7223]],\n",
       "              \n",
       "                      [[-1.3475,  0.9497, -0.2398, -0.7133],\n",
       "                       [-0.0330, -1.7767, -0.1610, -1.4573],\n",
       "                       [-0.5588,  1.0257,  0.2022, -0.7223]],\n",
       "              \n",
       "                      [[-1.3475,  0.9497, -0.2398, -0.7133],\n",
       "                       [-0.0330, -1.7767, -0.1610, -1.4573],\n",
       "                       [-0.5588,  1.0257,  0.2022, -0.7223]]]),\n",
       "       ),\n",
       ")"
      ]
     },
     "execution_count": 25,
     "metadata": {},
     "output_type": "execute_result"
    }
   ],
   "source": [
    "batches = [Batch(**_TREE_DATA_2) for _ in range(8)]\n",
    "\n",
    "Batch.stack(batches)"
   ]
  },
  {
   "cell_type": "code",
   "execution_count": 26,
   "id": "ec9037a3",
   "metadata": {
    "execution": {
     "iopub.execute_input": "2023-02-25T17:43:08.467071Z",
     "iopub.status.busy": "2023-02-25T17:43:08.465966Z",
     "iopub.status.idle": "2023-02-25T17:43:14.815183Z",
     "shell.execute_reply": "2023-02-25T17:43:14.814477Z"
    }
   },
   "outputs": [
    {
     "name": "stdout",
     "output_type": "stream",
     "text": [
      "78.1 µs ± 211 ns per loop (mean ± std. dev. of 7 runs, 10,000 loops each)\n"
     ]
    }
   ],
   "source": [
    "%timeit Batch.stack(batches)"
   ]
  },
  {
   "cell_type": "code",
   "execution_count": 27,
   "id": "cb8ab77e",
   "metadata": {
    "execution": {
     "iopub.execute_input": "2023-02-25T17:43:14.818223Z",
     "iopub.status.busy": "2023-02-25T17:43:14.817874Z",
     "iopub.status.idle": "2023-02-25T17:43:14.826309Z",
     "shell.execute_reply": "2023-02-25T17:43:14.825709Z"
    }
   },
   "outputs": [
    {
     "data": {
      "text/plain": [
       "Batch(\n",
       "    a: tensor([[ 0.2521, -2.1569, -0.6048],\n",
       "               [-0.1872,  1.4476, -0.4937],\n",
       "               [ 0.2521, -2.1569, -0.6048],\n",
       "               [-0.1872,  1.4476, -0.4937],\n",
       "               [ 0.2521, -2.1569, -0.6048],\n",
       "               [-0.1872,  1.4476, -0.4937],\n",
       "               [ 0.2521, -2.1569, -0.6048],\n",
       "               [-0.1872,  1.4476, -0.4937],\n",
       "               [ 0.2521, -2.1569, -0.6048],\n",
       "               [-0.1872,  1.4476, -0.4937],\n",
       "               [ 0.2521, -2.1569, -0.6048],\n",
       "               [-0.1872,  1.4476, -0.4937],\n",
       "               [ 0.2521, -2.1569, -0.6048],\n",
       "               [-0.1872,  1.4476, -0.4937],\n",
       "               [ 0.2521, -2.1569, -0.6048],\n",
       "               [-0.1872,  1.4476, -0.4937]]),\n",
       "    x: Batch(\n",
       "           c: tensor([[-1.3475,  0.9497, -0.2398, -0.7133],\n",
       "                      [-0.0330, -1.7767, -0.1610, -1.4573],\n",
       "                      [-0.5588,  1.0257,  0.2022, -0.7223],\n",
       "                      [-1.3475,  0.9497, -0.2398, -0.7133],\n",
       "                      [-0.0330, -1.7767, -0.1610, -1.4573],\n",
       "                      [-0.5588,  1.0257,  0.2022, -0.7223],\n",
       "                      [-1.3475,  0.9497, -0.2398, -0.7133],\n",
       "                      [-0.0330, -1.7767, -0.1610, -1.4573],\n",
       "                      [-0.5588,  1.0257,  0.2022, -0.7223],\n",
       "                      [-1.3475,  0.9497, -0.2398, -0.7133],\n",
       "                      [-0.0330, -1.7767, -0.1610, -1.4573],\n",
       "                      [-0.5588,  1.0257,  0.2022, -0.7223],\n",
       "                      [-1.3475,  0.9497, -0.2398, -0.7133],\n",
       "                      [-0.0330, -1.7767, -0.1610, -1.4573],\n",
       "                      [-0.5588,  1.0257,  0.2022, -0.7223],\n",
       "                      [-1.3475,  0.9497, -0.2398, -0.7133],\n",
       "                      [-0.0330, -1.7767, -0.1610, -1.4573],\n",
       "                      [-0.5588,  1.0257,  0.2022, -0.7223],\n",
       "                      [-1.3475,  0.9497, -0.2398, -0.7133],\n",
       "                      [-0.0330, -1.7767, -0.1610, -1.4573],\n",
       "                      [-0.5588,  1.0257,  0.2022, -0.7223],\n",
       "                      [-1.3475,  0.9497, -0.2398, -0.7133],\n",
       "                      [-0.0330, -1.7767, -0.1610, -1.4573],\n",
       "                      [-0.5588,  1.0257,  0.2022, -0.7223]]),\n",
       "       ),\n",
       ")"
      ]
     },
     "execution_count": 27,
     "metadata": {},
     "output_type": "execute_result"
    }
   ],
   "source": [
    "Batch.cat(batches)"
   ]
  },
  {
   "cell_type": "code",
   "execution_count": 28,
   "id": "18dfb045",
   "metadata": {
    "execution": {
     "iopub.execute_input": "2023-02-25T17:43:14.828789Z",
     "iopub.status.busy": "2023-02-25T17:43:14.828573Z",
     "iopub.status.idle": "2023-02-25T17:43:26.442002Z",
     "shell.execute_reply": "2023-02-25T17:43:26.441289Z"
    }
   },
   "outputs": [
    {
     "name": "stdout",
     "output_type": "stream",
     "text": [
      "143 µs ± 322 ns per loop (mean ± std. dev. of 7 runs, 10,000 loops each)\n"
     ]
    }
   ],
   "source": [
    "%timeit Batch.cat(batches)"
   ]
  },
  {
   "cell_type": "code",
   "execution_count": 29,
   "id": "c6688e51",
   "metadata": {
    "execution": {
     "iopub.execute_input": "2023-02-25T17:43:26.444779Z",
     "iopub.status.busy": "2023-02-25T17:43:26.444418Z",
     "iopub.status.idle": "2023-02-25T17:43:28.980720Z",
     "shell.execute_reply": "2023-02-25T17:43:28.980147Z"
    }
   },
   "outputs": [
    {
     "name": "stdout",
     "output_type": "stream",
     "text": [
      "310 µs ± 745 ns per loop (mean ± std. dev. of 7 runs, 1,000 loops each)\n"
     ]
    }
   ],
   "source": [
    "batch = Batch({\n",
    "    'obs': torch.randn(8, 4, 84, 84),\n",
    "    'action': torch.randint(0, 6, size=(8, 1,)),\n",
    "    'reward': torch.rand(8, 1)}\n",
    ")\n",
    "\n",
    "%timeit list(Batch.split(batch, 1, shuffle=False, merge_last=True))"
   ]
  },
  {
   "cell_type": "code",
   "execution_count": null,
   "id": "2539fbd9",
   "metadata": {},
   "outputs": [],
   "source": []
  }
 ],
 "metadata": {
  "kernelspec": {
   "display_name": "Python 3 (ipykernel)",
   "language": "python",
   "name": "python3"
  },
  "language_info": {
   "codemirror_mode": {
    "name": "ipython",
    "version": 3
   },
   "file_extension": ".py",
   "mimetype": "text/x-python",
   "name": "python",
   "nbconvert_exporter": "python",
   "pygments_lexer": "ipython3",
   "version": "3.8.16"
  }
 },
 "nbformat": 4,
 "nbformat_minor": 5
}
