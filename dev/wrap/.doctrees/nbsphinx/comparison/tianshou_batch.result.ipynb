{
 "cells": [
  {
   "cell_type": "markdown",
   "id": "9d39d946",
   "metadata": {},
   "source": [
    "# Comparison Between TreeValue and Tianshou Batch"
   ]
  },
  {
   "cell_type": "markdown",
   "id": "3c6db2d4",
   "metadata": {},
   "source": [
    "In this section, we will take a look at the feature and performance of the [Tianshou Batch](https://github.com/thu-ml/tianshou) library, which is developed by Tsinghua Machine Learning Group."
   ]
  },
  {
   "cell_type": "markdown",
   "id": "069361b0",
   "metadata": {},
   "source": [
    "Before starting the comparison, let us define some thing."
   ]
  },
  {
   "cell_type": "code",
   "execution_count": 1,
   "id": "06fc8d26",
   "metadata": {
    "execution": {
     "iopub.execute_input": "2023-08-10T10:59:12.924751Z",
     "iopub.status.busy": "2023-08-10T10:59:12.924176Z",
     "iopub.status.idle": "2023-08-10T10:59:14.847834Z",
     "shell.execute_reply": "2023-08-10T10:59:14.846659Z"
    }
   },
   "outputs": [],
   "source": [
    "import torch \n",
    "\n",
    "_TREE_DATA_1 = {'a': 1, 'b': 2, 'x': {'c': 3, 'd': 4}}\n",
    "_TREE_DATA_2 = {\n",
    "    'a': torch.randn(2, 3), \n",
    "    'x': {\n",
    "        'c': torch.randn(3, 4)\n",
    "    },\n",
    "}\n",
    "_TREE_DATA_3 = {\n",
    "    'obs': torch.randn(4, 84, 84),\n",
    "    'action': torch.randint(0, 6, size=(1,)),\n",
    "    'reward': torch.rand(1),\n",
    "}"
   ]
  },
  {
   "cell_type": "markdown",
   "id": "83461b25",
   "metadata": {},
   "source": [
    "## Read and Write Operation"
   ]
  },
  {
   "cell_type": "markdown",
   "id": "067b3f73",
   "metadata": {},
   "source": [
    "Reading and writing are the two most common operations in the tree data structure based on the data model (TreeValue and Tianshou Batch both belong to this type), so this section will compare the reading and writing performance of these two libraries."
   ]
  },
  {
   "cell_type": "markdown",
   "id": "5d09a5b7",
   "metadata": {},
   "source": [
    "### TreeValue's Get and Set"
   ]
  },
  {
   "cell_type": "code",
   "execution_count": 2,
   "id": "9519c4bb",
   "metadata": {
    "execution": {
     "iopub.execute_input": "2023-08-10T10:59:14.853106Z",
     "iopub.status.busy": "2023-08-10T10:59:14.852669Z",
     "iopub.status.idle": "2023-08-10T10:59:14.894898Z",
     "shell.execute_reply": "2023-08-10T10:59:14.893821Z"
    }
   },
   "outputs": [],
   "source": [
    "from treevalue import FastTreeValue\n",
    "\n",
    "t = FastTreeValue(_TREE_DATA_2)"
   ]
  },
  {
   "cell_type": "code",
   "execution_count": 3,
   "id": "11c37677",
   "metadata": {
    "execution": {
     "iopub.execute_input": "2023-08-10T10:59:14.900038Z",
     "iopub.status.busy": "2023-08-10T10:59:14.899437Z",
     "iopub.status.idle": "2023-08-10T10:59:14.912398Z",
     "shell.execute_reply": "2023-08-10T10:59:14.911281Z"
    }
   },
   "outputs": [
    {
     "data": {
      "text/plain": [
       "<FastTreeValue 0x7fcc34c47d90>\n",
       "├── 'a' --> tensor([[-0.5307,  0.3382,  1.7672],\n",
       "│                   [ 1.4367,  0.7224, -0.0908]])\n",
       "└── 'x' --> <FastTreeValue 0x7fcc39c575e0>\n",
       "    └── 'c' --> tensor([[ 0.2524,  1.1826, -0.8686,  1.1145],\n",
       "                        [-0.4704, -1.8923, -1.0020,  1.2214],\n",
       "                        [ 0.1898,  1.0298, -0.1952,  2.2338]])"
      ]
     },
     "execution_count": 3,
     "metadata": {},
     "output_type": "execute_result"
    }
   ],
   "source": [
    "t"
   ]
  },
  {
   "cell_type": "code",
   "execution_count": 4,
   "id": "fd70b0b9",
   "metadata": {
    "execution": {
     "iopub.execute_input": "2023-08-10T10:59:14.917662Z",
     "iopub.status.busy": "2023-08-10T10:59:14.917293Z",
     "iopub.status.idle": "2023-08-10T10:59:14.925107Z",
     "shell.execute_reply": "2023-08-10T10:59:14.924005Z"
    }
   },
   "outputs": [
    {
     "data": {
      "text/plain": [
       "tensor([[-0.5307,  0.3382,  1.7672],\n",
       "        [ 1.4367,  0.7224, -0.0908]])"
      ]
     },
     "execution_count": 4,
     "metadata": {},
     "output_type": "execute_result"
    }
   ],
   "source": [
    "t.a"
   ]
  },
  {
   "cell_type": "code",
   "execution_count": 5,
   "id": "c18197bd",
   "metadata": {
    "execution": {
     "iopub.execute_input": "2023-08-10T10:59:14.930155Z",
     "iopub.status.busy": "2023-08-10T10:59:14.929786Z",
     "iopub.status.idle": "2023-08-10T10:59:22.297080Z",
     "shell.execute_reply": "2023-08-10T10:59:22.296074Z"
    }
   },
   "outputs": [
    {
     "name": "stdout",
     "output_type": "stream",
     "text": [
      "90.4 ns ± 0.766 ns per loop (mean ± std. dev. of 7 runs, 10,000,000 loops each)\n"
     ]
    }
   ],
   "source": [
    "%timeit t.a"
   ]
  },
  {
   "cell_type": "code",
   "execution_count": 6,
   "id": "bd52f867",
   "metadata": {
    "execution": {
     "iopub.execute_input": "2023-08-10T10:59:22.301755Z",
     "iopub.status.busy": "2023-08-10T10:59:22.300894Z",
     "iopub.status.idle": "2023-08-10T10:59:22.315621Z",
     "shell.execute_reply": "2023-08-10T10:59:22.314053Z"
    }
   },
   "outputs": [
    {
     "data": {
      "text/plain": [
       "<FastTreeValue 0x7fcc34c47d90>\n",
       "├── 'a' --> tensor([[-2.1113,  2.2173, -0.2739],\n",
       "│                   [ 0.5778,  0.2426, -0.9716]])\n",
       "└── 'x' --> <FastTreeValue 0x7fcc39c575e0>\n",
       "    └── 'c' --> tensor([[ 0.2524,  1.1826, -0.8686,  1.1145],\n",
       "                        [-0.4704, -1.8923, -1.0020,  1.2214],\n",
       "                        [ 0.1898,  1.0298, -0.1952,  2.2338]])"
      ]
     },
     "execution_count": 6,
     "metadata": {},
     "output_type": "execute_result"
    }
   ],
   "source": [
    "new_value = torch.randn(2, 3)\n",
    "t.a = new_value\n",
    "\n",
    "t"
   ]
  },
  {
   "cell_type": "code",
   "execution_count": 7,
   "id": "bbe04d1c",
   "metadata": {
    "execution": {
     "iopub.execute_input": "2023-08-10T10:59:22.320223Z",
     "iopub.status.busy": "2023-08-10T10:59:22.319814Z",
     "iopub.status.idle": "2023-08-10T10:59:30.605813Z",
     "shell.execute_reply": "2023-08-10T10:59:30.603967Z"
    }
   },
   "outputs": [
    {
     "name": "stdout",
     "output_type": "stream",
     "text": [
      "102 ns ± 0.67 ns per loop (mean ± std. dev. of 7 runs, 10,000,000 loops each)\n"
     ]
    }
   ],
   "source": [
    "%timeit t.a = new_value"
   ]
  },
  {
   "cell_type": "markdown",
   "id": "48c49731",
   "metadata": {},
   "source": [
    "### Tianshou Batch's Get and Set"
   ]
  },
  {
   "cell_type": "code",
   "execution_count": 8,
   "id": "f1bb14c1",
   "metadata": {
    "execution": {
     "iopub.execute_input": "2023-08-10T10:59:30.610844Z",
     "iopub.status.busy": "2023-08-10T10:59:30.610157Z",
     "iopub.status.idle": "2023-08-10T10:59:31.139016Z",
     "shell.execute_reply": "2023-08-10T10:59:31.137852Z"
    }
   },
   "outputs": [],
   "source": [
    "from tianshou.data import Batch\n",
    "\n",
    "b = Batch(**_TREE_DATA_2)"
   ]
  },
  {
   "cell_type": "code",
   "execution_count": 9,
   "id": "cb0777c3",
   "metadata": {
    "execution": {
     "iopub.execute_input": "2023-08-10T10:59:31.144249Z",
     "iopub.status.busy": "2023-08-10T10:59:31.143578Z",
     "iopub.status.idle": "2023-08-10T10:59:31.151744Z",
     "shell.execute_reply": "2023-08-10T10:59:31.150668Z"
    }
   },
   "outputs": [
    {
     "data": {
      "text/plain": [
       "Batch(\n",
       "    a: tensor([[-0.5307,  0.3382,  1.7672],\n",
       "               [ 1.4367,  0.7224, -0.0908]]),\n",
       "    x: Batch(\n",
       "           c: tensor([[ 0.2524,  1.1826, -0.8686,  1.1145],\n",
       "                      [-0.4704, -1.8923, -1.0020,  1.2214],\n",
       "                      [ 0.1898,  1.0298, -0.1952,  2.2338]]),\n",
       "       ),\n",
       ")"
      ]
     },
     "execution_count": 9,
     "metadata": {},
     "output_type": "execute_result"
    }
   ],
   "source": [
    "b"
   ]
  },
  {
   "cell_type": "code",
   "execution_count": 10,
   "id": "43ef8ea3",
   "metadata": {
    "execution": {
     "iopub.execute_input": "2023-08-10T10:59:31.156628Z",
     "iopub.status.busy": "2023-08-10T10:59:31.156000Z",
     "iopub.status.idle": "2023-08-10T10:59:31.163224Z",
     "shell.execute_reply": "2023-08-10T10:59:31.162063Z"
    }
   },
   "outputs": [
    {
     "data": {
      "text/plain": [
       "tensor([[-0.5307,  0.3382,  1.7672],\n",
       "        [ 1.4367,  0.7224, -0.0908]])"
      ]
     },
     "execution_count": 10,
     "metadata": {},
     "output_type": "execute_result"
    }
   ],
   "source": [
    "b.a"
   ]
  },
  {
   "cell_type": "code",
   "execution_count": 11,
   "id": "b785ab72",
   "metadata": {
    "execution": {
     "iopub.execute_input": "2023-08-10T10:59:31.168369Z",
     "iopub.status.busy": "2023-08-10T10:59:31.167723Z",
     "iopub.status.idle": "2023-08-10T10:59:37.299983Z",
     "shell.execute_reply": "2023-08-10T10:59:37.298914Z"
    }
   },
   "outputs": [
    {
     "name": "stdout",
     "output_type": "stream",
     "text": [
      "75.1 ns ± 1.2 ns per loop (mean ± std. dev. of 7 runs, 10,000,000 loops each)\n"
     ]
    }
   ],
   "source": [
    "%timeit b.a"
   ]
  },
  {
   "cell_type": "code",
   "execution_count": 12,
   "id": "ad54dc69",
   "metadata": {
    "execution": {
     "iopub.execute_input": "2023-08-10T10:59:37.304554Z",
     "iopub.status.busy": "2023-08-10T10:59:37.303849Z",
     "iopub.status.idle": "2023-08-10T10:59:37.312756Z",
     "shell.execute_reply": "2023-08-10T10:59:37.311588Z"
    }
   },
   "outputs": [
    {
     "data": {
      "text/plain": [
       "Batch(\n",
       "    a: tensor([[ 0.6125, -0.9852, -0.2070],\n",
       "               [ 0.2702, -0.2237,  0.3002]]),\n",
       "    x: Batch(\n",
       "           c: tensor([[ 0.2524,  1.1826, -0.8686,  1.1145],\n",
       "                      [-0.4704, -1.8923, -1.0020,  1.2214],\n",
       "                      [ 0.1898,  1.0298, -0.1952,  2.2338]]),\n",
       "       ),\n",
       ")"
      ]
     },
     "execution_count": 12,
     "metadata": {},
     "output_type": "execute_result"
    }
   ],
   "source": [
    "new_value = torch.randn(2, 3)\n",
    "b.a = new_value\n",
    "\n",
    "b"
   ]
  },
  {
   "cell_type": "code",
   "execution_count": 13,
   "id": "29b1d0bf",
   "metadata": {
    "execution": {
     "iopub.execute_input": "2023-08-10T10:59:37.317375Z",
     "iopub.status.busy": "2023-08-10T10:59:37.316931Z",
     "iopub.status.idle": "2023-08-10T10:59:42.643887Z",
     "shell.execute_reply": "2023-08-10T10:59:42.642865Z"
    }
   },
   "outputs": [
    {
     "name": "stdout",
     "output_type": "stream",
     "text": [
      "655 ns ± 4.46 ns per loop (mean ± std. dev. of 7 runs, 1,000,000 loops each)\n"
     ]
    }
   ],
   "source": [
    "%timeit b.a = new_value"
   ]
  },
  {
   "cell_type": "markdown",
   "id": "b61ad1d0",
   "metadata": {},
   "source": [
    "## Initialization"
   ]
  },
  {
   "cell_type": "markdown",
   "id": "d70f0d54",
   "metadata": {},
   "source": [
    "### TreeValue's Initialization"
   ]
  },
  {
   "cell_type": "code",
   "execution_count": 14,
   "id": "d32a679b",
   "metadata": {
    "execution": {
     "iopub.execute_input": "2023-08-10T10:59:42.649057Z",
     "iopub.status.busy": "2023-08-10T10:59:42.648110Z",
     "iopub.status.idle": "2023-08-10T10:59:51.830234Z",
     "shell.execute_reply": "2023-08-10T10:59:51.829261Z"
    }
   },
   "outputs": [
    {
     "name": "stdout",
     "output_type": "stream",
     "text": [
      "1.13 µs ± 9.97 ns per loop (mean ± std. dev. of 7 runs, 1,000,000 loops each)\n"
     ]
    }
   ],
   "source": [
    "%timeit FastTreeValue(_TREE_DATA_1)"
   ]
  },
  {
   "cell_type": "markdown",
   "id": "24f3707b",
   "metadata": {},
   "source": [
    "### Tianshou Batch's Initialization"
   ]
  },
  {
   "cell_type": "code",
   "execution_count": 15,
   "id": "ac3958df",
   "metadata": {
    "execution": {
     "iopub.execute_input": "2023-08-10T10:59:51.834748Z",
     "iopub.status.busy": "2023-08-10T10:59:51.834379Z",
     "iopub.status.idle": "2023-08-10T11:00:03.042118Z",
     "shell.execute_reply": "2023-08-10T11:00:03.041051Z"
    }
   },
   "outputs": [
    {
     "name": "stdout",
     "output_type": "stream",
     "text": [
      "13.8 µs ± 120 ns per loop (mean ± std. dev. of 7 runs, 100,000 loops each)\n"
     ]
    }
   ],
   "source": [
    "%timeit Batch(**_TREE_DATA_1)"
   ]
  },
  {
   "cell_type": "markdown",
   "id": "1ab82e2d",
   "metadata": {},
   "source": [
    "## Deep Copy Operation"
   ]
  },
  {
   "cell_type": "code",
   "execution_count": 16,
   "id": "210a9442",
   "metadata": {
    "execution": {
     "iopub.execute_input": "2023-08-10T11:00:03.046825Z",
     "iopub.status.busy": "2023-08-10T11:00:03.046033Z",
     "iopub.status.idle": "2023-08-10T11:00:03.050860Z",
     "shell.execute_reply": "2023-08-10T11:00:03.049782Z"
    }
   },
   "outputs": [],
   "source": [
    "import copy"
   ]
  },
  {
   "cell_type": "markdown",
   "id": "5a736274",
   "metadata": {},
   "source": [
    "### Deep Copy of TreeValue"
   ]
  },
  {
   "cell_type": "code",
   "execution_count": 17,
   "id": "f9bcadd6",
   "metadata": {
    "execution": {
     "iopub.execute_input": "2023-08-10T11:00:03.055897Z",
     "iopub.status.busy": "2023-08-10T11:00:03.055213Z",
     "iopub.status.idle": "2023-08-10T11:00:05.297087Z",
     "shell.execute_reply": "2023-08-10T11:00:05.296147Z"
    }
   },
   "outputs": [
    {
     "name": "stdout",
     "output_type": "stream",
     "text": [
      "275 µs ± 9.43 µs per loop (mean ± std. dev. of 7 runs, 1,000 loops each)\n"
     ]
    }
   ],
   "source": [
    "t3 = FastTreeValue(_TREE_DATA_3)\n",
    "%timeit copy.deepcopy(t3)"
   ]
  },
  {
   "cell_type": "markdown",
   "id": "bf8be7ea",
   "metadata": {},
   "source": [
    "### Deep Copy of Tianshou Batch"
   ]
  },
  {
   "cell_type": "code",
   "execution_count": 18,
   "id": "91998e6f",
   "metadata": {
    "execution": {
     "iopub.execute_input": "2023-08-10T11:00:05.302175Z",
     "iopub.status.busy": "2023-08-10T11:00:05.301478Z",
     "iopub.status.idle": "2023-08-10T11:00:07.444777Z",
     "shell.execute_reply": "2023-08-10T11:00:07.443844Z"
    }
   },
   "outputs": [
    {
     "name": "stdout",
     "output_type": "stream",
     "text": [
      "263 µs ± 7 µs per loop (mean ± std. dev. of 7 runs, 1,000 loops each)\n"
     ]
    }
   ],
   "source": [
    "b3 = Batch(**_TREE_DATA_3)\n",
    "%timeit copy.deepcopy(b3)"
   ]
  },
  {
   "cell_type": "markdown",
   "id": "223162fb",
   "metadata": {},
   "source": [
    "## Stack, Concat and Split Operation"
   ]
  },
  {
   "cell_type": "markdown",
   "id": "85fa4a73",
   "metadata": {},
   "source": [
    "### Performance of TreeValue"
   ]
  },
  {
   "cell_type": "code",
   "execution_count": 19,
   "id": "a0c2b697",
   "metadata": {
    "execution": {
     "iopub.execute_input": "2023-08-10T11:00:07.449125Z",
     "iopub.status.busy": "2023-08-10T11:00:07.448548Z",
     "iopub.status.idle": "2023-08-10T11:00:07.455623Z",
     "shell.execute_reply": "2023-08-10T11:00:07.454538Z"
    }
   },
   "outputs": [],
   "source": [
    "trees = [FastTreeValue(_TREE_DATA_2) for _ in range(8)]"
   ]
  },
  {
   "cell_type": "code",
   "execution_count": 20,
   "id": "017ea5a5",
   "metadata": {
    "execution": {
     "iopub.execute_input": "2023-08-10T11:00:07.460206Z",
     "iopub.status.busy": "2023-08-10T11:00:07.459598Z",
     "iopub.status.idle": "2023-08-10T11:00:07.470703Z",
     "shell.execute_reply": "2023-08-10T11:00:07.469662Z"
    }
   },
   "outputs": [
    {
     "data": {
      "text/plain": [
       "<FastTreeValue 0x7fcc34c184f0>\n",
       "├── 'a' --> tensor([[[-0.5307,  0.3382,  1.7672],\n",
       "│                    [ 1.4367,  0.7224, -0.0908]],\n",
       "│           \n",
       "│                   [[-0.5307,  0.3382,  1.7672],\n",
       "│                    [ 1.4367,  0.7224, -0.0908]],\n",
       "│           \n",
       "│                   [[-0.5307,  0.3382,  1.7672],\n",
       "│                    [ 1.4367,  0.7224, -0.0908]],\n",
       "│           \n",
       "│                   [[-0.5307,  0.3382,  1.7672],\n",
       "│                    [ 1.4367,  0.7224, -0.0908]],\n",
       "│           \n",
       "│                   [[-0.5307,  0.3382,  1.7672],\n",
       "│                    [ 1.4367,  0.7224, -0.0908]],\n",
       "│           \n",
       "│                   [[-0.5307,  0.3382,  1.7672],\n",
       "│                    [ 1.4367,  0.7224, -0.0908]],\n",
       "│           \n",
       "│                   [[-0.5307,  0.3382,  1.7672],\n",
       "│                    [ 1.4367,  0.7224, -0.0908]],\n",
       "│           \n",
       "│                   [[-0.5307,  0.3382,  1.7672],\n",
       "│                    [ 1.4367,  0.7224, -0.0908]]])\n",
       "└── 'x' --> <FastTreeValue 0x7fcc34c382e0>\n",
       "    └── 'c' --> tensor([[[ 0.2524,  1.1826, -0.8686,  1.1145],\n",
       "                         [-0.4704, -1.8923, -1.0020,  1.2214],\n",
       "                         [ 0.1898,  1.0298, -0.1952,  2.2338]],\n",
       "                \n",
       "                        [[ 0.2524,  1.1826, -0.8686,  1.1145],\n",
       "                         [-0.4704, -1.8923, -1.0020,  1.2214],\n",
       "                         [ 0.1898,  1.0298, -0.1952,  2.2338]],\n",
       "                \n",
       "                        [[ 0.2524,  1.1826, -0.8686,  1.1145],\n",
       "                         [-0.4704, -1.8923, -1.0020,  1.2214],\n",
       "                         [ 0.1898,  1.0298, -0.1952,  2.2338]],\n",
       "                \n",
       "                        [[ 0.2524,  1.1826, -0.8686,  1.1145],\n",
       "                         [-0.4704, -1.8923, -1.0020,  1.2214],\n",
       "                         [ 0.1898,  1.0298, -0.1952,  2.2338]],\n",
       "                \n",
       "                        [[ 0.2524,  1.1826, -0.8686,  1.1145],\n",
       "                         [-0.4704, -1.8923, -1.0020,  1.2214],\n",
       "                         [ 0.1898,  1.0298, -0.1952,  2.2338]],\n",
       "                \n",
       "                        [[ 0.2524,  1.1826, -0.8686,  1.1145],\n",
       "                         [-0.4704, -1.8923, -1.0020,  1.2214],\n",
       "                         [ 0.1898,  1.0298, -0.1952,  2.2338]],\n",
       "                \n",
       "                        [[ 0.2524,  1.1826, -0.8686,  1.1145],\n",
       "                         [-0.4704, -1.8923, -1.0020,  1.2214],\n",
       "                         [ 0.1898,  1.0298, -0.1952,  2.2338]],\n",
       "                \n",
       "                        [[ 0.2524,  1.1826, -0.8686,  1.1145],\n",
       "                         [-0.4704, -1.8923, -1.0020,  1.2214],\n",
       "                         [ 0.1898,  1.0298, -0.1952,  2.2338]]])"
      ]
     },
     "execution_count": 20,
     "metadata": {},
     "output_type": "execute_result"
    }
   ],
   "source": [
    "t_stack = FastTreeValue.func(subside=True)(torch.stack)\n",
    "\n",
    "t_stack(trees)"
   ]
  },
  {
   "cell_type": "code",
   "execution_count": 21,
   "id": "f8b3f415",
   "metadata": {
    "execution": {
     "iopub.execute_input": "2023-08-10T11:00:07.475364Z",
     "iopub.status.busy": "2023-08-10T11:00:07.474412Z",
     "iopub.status.idle": "2023-08-10T11:00:11.115017Z",
     "shell.execute_reply": "2023-08-10T11:00:11.113960Z"
    }
   },
   "outputs": [
    {
     "name": "stdout",
     "output_type": "stream",
     "text": [
      "44.6 µs ± 277 ns per loop (mean ± std. dev. of 7 runs, 10,000 loops each)\n"
     ]
    }
   ],
   "source": [
    "%timeit t_stack(trees)"
   ]
  },
  {
   "cell_type": "code",
   "execution_count": 22,
   "id": "94b56771",
   "metadata": {
    "execution": {
     "iopub.execute_input": "2023-08-10T11:00:11.119938Z",
     "iopub.status.busy": "2023-08-10T11:00:11.119331Z",
     "iopub.status.idle": "2023-08-10T11:00:11.132907Z",
     "shell.execute_reply": "2023-08-10T11:00:11.131969Z"
    }
   },
   "outputs": [
    {
     "data": {
      "text/plain": [
       "<FastTreeValue 0x7fcb69de6070>\n",
       "├── 'a' --> tensor([[-0.5307,  0.3382,  1.7672],\n",
       "│                   [ 1.4367,  0.7224, -0.0908],\n",
       "│                   [-0.5307,  0.3382,  1.7672],\n",
       "│                   [ 1.4367,  0.7224, -0.0908],\n",
       "│                   [-0.5307,  0.3382,  1.7672],\n",
       "│                   [ 1.4367,  0.7224, -0.0908],\n",
       "│                   [-0.5307,  0.3382,  1.7672],\n",
       "│                   [ 1.4367,  0.7224, -0.0908],\n",
       "│                   [-0.5307,  0.3382,  1.7672],\n",
       "│                   [ 1.4367,  0.7224, -0.0908],\n",
       "│                   [-0.5307,  0.3382,  1.7672],\n",
       "│                   [ 1.4367,  0.7224, -0.0908],\n",
       "│                   [-0.5307,  0.3382,  1.7672],\n",
       "│                   [ 1.4367,  0.7224, -0.0908],\n",
       "│                   [-0.5307,  0.3382,  1.7672],\n",
       "│                   [ 1.4367,  0.7224, -0.0908]])\n",
       "└── 'x' --> <FastTreeValue 0x7fcb69de60d0>\n",
       "    └── 'c' --> tensor([[ 0.2524,  1.1826, -0.8686,  1.1145],\n",
       "                        [-0.4704, -1.8923, -1.0020,  1.2214],\n",
       "                        [ 0.1898,  1.0298, -0.1952,  2.2338],\n",
       "                        [ 0.2524,  1.1826, -0.8686,  1.1145],\n",
       "                        [-0.4704, -1.8923, -1.0020,  1.2214],\n",
       "                        [ 0.1898,  1.0298, -0.1952,  2.2338],\n",
       "                        [ 0.2524,  1.1826, -0.8686,  1.1145],\n",
       "                        [-0.4704, -1.8923, -1.0020,  1.2214],\n",
       "                        [ 0.1898,  1.0298, -0.1952,  2.2338],\n",
       "                        [ 0.2524,  1.1826, -0.8686,  1.1145],\n",
       "                        [-0.4704, -1.8923, -1.0020,  1.2214],\n",
       "                        [ 0.1898,  1.0298, -0.1952,  2.2338],\n",
       "                        [ 0.2524,  1.1826, -0.8686,  1.1145],\n",
       "                        [-0.4704, -1.8923, -1.0020,  1.2214],\n",
       "                        [ 0.1898,  1.0298, -0.1952,  2.2338],\n",
       "                        [ 0.2524,  1.1826, -0.8686,  1.1145],\n",
       "                        [-0.4704, -1.8923, -1.0020,  1.2214],\n",
       "                        [ 0.1898,  1.0298, -0.1952,  2.2338],\n",
       "                        [ 0.2524,  1.1826, -0.8686,  1.1145],\n",
       "                        [-0.4704, -1.8923, -1.0020,  1.2214],\n",
       "                        [ 0.1898,  1.0298, -0.1952,  2.2338],\n",
       "                        [ 0.2524,  1.1826, -0.8686,  1.1145],\n",
       "                        [-0.4704, -1.8923, -1.0020,  1.2214],\n",
       "                        [ 0.1898,  1.0298, -0.1952,  2.2338]])"
      ]
     },
     "execution_count": 22,
     "metadata": {},
     "output_type": "execute_result"
    }
   ],
   "source": [
    "t_cat = FastTreeValue.func(subside=True)(torch.cat)\n",
    "\n",
    "t_cat(trees)"
   ]
  },
  {
   "cell_type": "code",
   "execution_count": 23,
   "id": "5e9c06a6",
   "metadata": {
    "execution": {
     "iopub.execute_input": "2023-08-10T11:00:11.137317Z",
     "iopub.status.busy": "2023-08-10T11:00:11.136739Z",
     "iopub.status.idle": "2023-08-10T11:00:14.613950Z",
     "shell.execute_reply": "2023-08-10T11:00:14.611813Z"
    }
   },
   "outputs": [
    {
     "name": "stdout",
     "output_type": "stream",
     "text": [
      "42.6 µs ± 630 ns per loop (mean ± std. dev. of 7 runs, 10,000 loops each)\n"
     ]
    }
   ],
   "source": [
    "%timeit t_cat(trees)"
   ]
  },
  {
   "cell_type": "code",
   "execution_count": 24,
   "id": "a3ab5c8f",
   "metadata": {
    "execution": {
     "iopub.execute_input": "2023-08-10T11:00:14.618671Z",
     "iopub.status.busy": "2023-08-10T11:00:14.617769Z",
     "iopub.status.idle": "2023-08-10T11:00:23.206846Z",
     "shell.execute_reply": "2023-08-10T11:00:23.205274Z"
    }
   },
   "outputs": [
    {
     "name": "stdout",
     "output_type": "stream",
     "text": [
      "105 µs ± 663 ns per loop (mean ± std. dev. of 7 runs, 10,000 loops each)\n"
     ]
    }
   ],
   "source": [
    "t_split = FastTreeValue.func(rise=True)(torch.split)\n",
    "tree = FastTreeValue({\n",
    "    'obs': torch.randn(8, 4, 84, 84),\n",
    "    'action': torch.randint(0, 6, size=(8, 1,)),\n",
    "    'reward': torch.rand(8, 1),\n",
    "})\n",
    "\n",
    "%timeit t_split(tree, 1)"
   ]
  },
  {
   "cell_type": "markdown",
   "id": "31c3ec0b",
   "metadata": {},
   "source": [
    "### Performance of Tianshou Batch"
   ]
  },
  {
   "cell_type": "code",
   "execution_count": 25,
   "id": "9ead828a",
   "metadata": {
    "execution": {
     "iopub.execute_input": "2023-08-10T11:00:23.211570Z",
     "iopub.status.busy": "2023-08-10T11:00:23.211069Z",
     "iopub.status.idle": "2023-08-10T11:00:23.222935Z",
     "shell.execute_reply": "2023-08-10T11:00:23.221910Z"
    }
   },
   "outputs": [
    {
     "data": {
      "text/plain": [
       "Batch(\n",
       "    x: Batch(\n",
       "           c: tensor([[[ 0.2524,  1.1826, -0.8686,  1.1145],\n",
       "                       [-0.4704, -1.8923, -1.0020,  1.2214],\n",
       "                       [ 0.1898,  1.0298, -0.1952,  2.2338]],\n",
       "              \n",
       "                      [[ 0.2524,  1.1826, -0.8686,  1.1145],\n",
       "                       [-0.4704, -1.8923, -1.0020,  1.2214],\n",
       "                       [ 0.1898,  1.0298, -0.1952,  2.2338]],\n",
       "              \n",
       "                      [[ 0.2524,  1.1826, -0.8686,  1.1145],\n",
       "                       [-0.4704, -1.8923, -1.0020,  1.2214],\n",
       "                       [ 0.1898,  1.0298, -0.1952,  2.2338]],\n",
       "              \n",
       "                      [[ 0.2524,  1.1826, -0.8686,  1.1145],\n",
       "                       [-0.4704, -1.8923, -1.0020,  1.2214],\n",
       "                       [ 0.1898,  1.0298, -0.1952,  2.2338]],\n",
       "              \n",
       "                      [[ 0.2524,  1.1826, -0.8686,  1.1145],\n",
       "                       [-0.4704, -1.8923, -1.0020,  1.2214],\n",
       "                       [ 0.1898,  1.0298, -0.1952,  2.2338]],\n",
       "              \n",
       "                      [[ 0.2524,  1.1826, -0.8686,  1.1145],\n",
       "                       [-0.4704, -1.8923, -1.0020,  1.2214],\n",
       "                       [ 0.1898,  1.0298, -0.1952,  2.2338]],\n",
       "              \n",
       "                      [[ 0.2524,  1.1826, -0.8686,  1.1145],\n",
       "                       [-0.4704, -1.8923, -1.0020,  1.2214],\n",
       "                       [ 0.1898,  1.0298, -0.1952,  2.2338]],\n",
       "              \n",
       "                      [[ 0.2524,  1.1826, -0.8686,  1.1145],\n",
       "                       [-0.4704, -1.8923, -1.0020,  1.2214],\n",
       "                       [ 0.1898,  1.0298, -0.1952,  2.2338]]]),\n",
       "       ),\n",
       "    a: tensor([[[-0.5307,  0.3382,  1.7672],\n",
       "                [ 1.4367,  0.7224, -0.0908]],\n",
       "       \n",
       "               [[-0.5307,  0.3382,  1.7672],\n",
       "                [ 1.4367,  0.7224, -0.0908]],\n",
       "       \n",
       "               [[-0.5307,  0.3382,  1.7672],\n",
       "                [ 1.4367,  0.7224, -0.0908]],\n",
       "       \n",
       "               [[-0.5307,  0.3382,  1.7672],\n",
       "                [ 1.4367,  0.7224, -0.0908]],\n",
       "       \n",
       "               [[-0.5307,  0.3382,  1.7672],\n",
       "                [ 1.4367,  0.7224, -0.0908]],\n",
       "       \n",
       "               [[-0.5307,  0.3382,  1.7672],\n",
       "                [ 1.4367,  0.7224, -0.0908]],\n",
       "       \n",
       "               [[-0.5307,  0.3382,  1.7672],\n",
       "                [ 1.4367,  0.7224, -0.0908]],\n",
       "       \n",
       "               [[-0.5307,  0.3382,  1.7672],\n",
       "                [ 1.4367,  0.7224, -0.0908]]]),\n",
       ")"
      ]
     },
     "execution_count": 25,
     "metadata": {},
     "output_type": "execute_result"
    }
   ],
   "source": [
    "batches = [Batch(**_TREE_DATA_2) for _ in range(8)]\n",
    "\n",
    "Batch.stack(batches)"
   ]
  },
  {
   "cell_type": "code",
   "execution_count": 26,
   "id": "ec9037a3",
   "metadata": {
    "execution": {
     "iopub.execute_input": "2023-08-10T11:00:23.227652Z",
     "iopub.status.busy": "2023-08-10T11:00:23.227173Z",
     "iopub.status.idle": "2023-08-10T11:00:32.311865Z",
     "shell.execute_reply": "2023-08-10T11:00:32.310515Z"
    }
   },
   "outputs": [
    {
     "name": "stdout",
     "output_type": "stream",
     "text": [
      "112 µs ± 1.67 µs per loop (mean ± std. dev. of 7 runs, 10,000 loops each)\n"
     ]
    }
   ],
   "source": [
    "%timeit Batch.stack(batches)"
   ]
  },
  {
   "cell_type": "code",
   "execution_count": 27,
   "id": "cb8ab77e",
   "metadata": {
    "execution": {
     "iopub.execute_input": "2023-08-10T11:00:32.317367Z",
     "iopub.status.busy": "2023-08-10T11:00:32.316245Z",
     "iopub.status.idle": "2023-08-10T11:00:32.327117Z",
     "shell.execute_reply": "2023-08-10T11:00:32.325852Z"
    }
   },
   "outputs": [
    {
     "data": {
      "text/plain": [
       "Batch(\n",
       "    x: Batch(\n",
       "           c: tensor([[ 0.2524,  1.1826, -0.8686,  1.1145],\n",
       "                      [-0.4704, -1.8923, -1.0020,  1.2214],\n",
       "                      [ 0.1898,  1.0298, -0.1952,  2.2338],\n",
       "                      [ 0.2524,  1.1826, -0.8686,  1.1145],\n",
       "                      [-0.4704, -1.8923, -1.0020,  1.2214],\n",
       "                      [ 0.1898,  1.0298, -0.1952,  2.2338],\n",
       "                      [ 0.2524,  1.1826, -0.8686,  1.1145],\n",
       "                      [-0.4704, -1.8923, -1.0020,  1.2214],\n",
       "                      [ 0.1898,  1.0298, -0.1952,  2.2338],\n",
       "                      [ 0.2524,  1.1826, -0.8686,  1.1145],\n",
       "                      [-0.4704, -1.8923, -1.0020,  1.2214],\n",
       "                      [ 0.1898,  1.0298, -0.1952,  2.2338],\n",
       "                      [ 0.2524,  1.1826, -0.8686,  1.1145],\n",
       "                      [-0.4704, -1.8923, -1.0020,  1.2214],\n",
       "                      [ 0.1898,  1.0298, -0.1952,  2.2338],\n",
       "                      [ 0.2524,  1.1826, -0.8686,  1.1145],\n",
       "                      [-0.4704, -1.8923, -1.0020,  1.2214],\n",
       "                      [ 0.1898,  1.0298, -0.1952,  2.2338],\n",
       "                      [ 0.2524,  1.1826, -0.8686,  1.1145],\n",
       "                      [-0.4704, -1.8923, -1.0020,  1.2214],\n",
       "                      [ 0.1898,  1.0298, -0.1952,  2.2338],\n",
       "                      [ 0.2524,  1.1826, -0.8686,  1.1145],\n",
       "                      [-0.4704, -1.8923, -1.0020,  1.2214],\n",
       "                      [ 0.1898,  1.0298, -0.1952,  2.2338]]),\n",
       "       ),\n",
       "    a: tensor([[-0.5307,  0.3382,  1.7672],\n",
       "               [ 1.4367,  0.7224, -0.0908],\n",
       "               [-0.5307,  0.3382,  1.7672],\n",
       "               [ 1.4367,  0.7224, -0.0908],\n",
       "               [-0.5307,  0.3382,  1.7672],\n",
       "               [ 1.4367,  0.7224, -0.0908],\n",
       "               [-0.5307,  0.3382,  1.7672],\n",
       "               [ 1.4367,  0.7224, -0.0908],\n",
       "               [-0.5307,  0.3382,  1.7672],\n",
       "               [ 1.4367,  0.7224, -0.0908],\n",
       "               [-0.5307,  0.3382,  1.7672],\n",
       "               [ 1.4367,  0.7224, -0.0908],\n",
       "               [-0.5307,  0.3382,  1.7672],\n",
       "               [ 1.4367,  0.7224, -0.0908],\n",
       "               [-0.5307,  0.3382,  1.7672],\n",
       "               [ 1.4367,  0.7224, -0.0908]]),\n",
       ")"
      ]
     },
     "execution_count": 27,
     "metadata": {},
     "output_type": "execute_result"
    }
   ],
   "source": [
    "Batch.cat(batches)"
   ]
  },
  {
   "cell_type": "code",
   "execution_count": 28,
   "id": "18dfb045",
   "metadata": {
    "execution": {
     "iopub.execute_input": "2023-08-10T11:00:32.332213Z",
     "iopub.status.busy": "2023-08-10T11:00:32.331558Z",
     "iopub.status.idle": "2023-08-10T11:00:34.376192Z",
     "shell.execute_reply": "2023-08-10T11:00:34.374792Z"
    }
   },
   "outputs": [
    {
     "name": "stdout",
     "output_type": "stream",
     "text": [
      "250 µs ± 4.6 µs per loop (mean ± std. dev. of 7 runs, 1,000 loops each)\n"
     ]
    }
   ],
   "source": [
    "%timeit Batch.cat(batches)"
   ]
  },
  {
   "cell_type": "code",
   "execution_count": 29,
   "id": "c6688e51",
   "metadata": {
    "execution": {
     "iopub.execute_input": "2023-08-10T11:00:34.380664Z",
     "iopub.status.busy": "2023-08-10T11:00:34.380325Z",
     "iopub.status.idle": "2023-08-10T11:00:39.361690Z",
     "shell.execute_reply": "2023-08-10T11:00:39.360639Z"
    }
   },
   "outputs": [
    {
     "name": "stdout",
     "output_type": "stream",
     "text": [
      "616 µs ± 37.6 µs per loop (mean ± std. dev. of 7 runs, 1,000 loops each)\n"
     ]
    }
   ],
   "source": [
    "batch = Batch({\n",
    "    'obs': torch.randn(8, 4, 84, 84),\n",
    "    'action': torch.randint(0, 6, size=(8, 1,)),\n",
    "    'reward': torch.rand(8, 1)}\n",
    ")\n",
    "\n",
    "%timeit list(Batch.split(batch, 1, shuffle=False, merge_last=True))"
   ]
  },
  {
   "cell_type": "code",
   "execution_count": null,
   "id": "2539fbd9",
   "metadata": {},
   "outputs": [],
   "source": []
  }
 ],
 "metadata": {
  "kernelspec": {
   "display_name": "Python 3 (ipykernel)",
   "language": "python",
   "name": "python3"
  },
  "language_info": {
   "codemirror_mode": {
    "name": "ipython",
    "version": 3
   },
   "file_extension": ".py",
   "mimetype": "text/x-python",
   "name": "python",
   "nbconvert_exporter": "python",
   "pygments_lexer": "ipython3",
   "version": "3.8.17"
  }
 },
 "nbformat": 4,
 "nbformat_minor": 5
}
