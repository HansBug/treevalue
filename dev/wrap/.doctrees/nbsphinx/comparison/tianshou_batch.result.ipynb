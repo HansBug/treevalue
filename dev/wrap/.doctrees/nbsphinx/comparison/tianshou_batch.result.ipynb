{
 "cells": [
  {
   "cell_type": "markdown",
   "id": "9d39d946",
   "metadata": {},
   "source": [
    "# Comparison Between TreeValue and Tianshou Batch"
   ]
  },
  {
   "cell_type": "markdown",
   "id": "3c6db2d4",
   "metadata": {},
   "source": [
    "In this section, we will take a look at the feature and performance of the [Tianshou Batch](https://github.com/thu-ml/tianshou) library, which is developed by Tsinghua Machine Learning Group."
   ]
  },
  {
   "cell_type": "markdown",
   "id": "069361b0",
   "metadata": {},
   "source": [
    "Before starting the comparison, let us define some thing."
   ]
  },
  {
   "cell_type": "code",
   "execution_count": 1,
   "id": "06fc8d26",
   "metadata": {
    "execution": {
     "iopub.execute_input": "2023-08-10T15:42:25.669492Z",
     "iopub.status.busy": "2023-08-10T15:42:25.669166Z",
     "iopub.status.idle": "2023-08-10T15:42:27.326476Z",
     "shell.execute_reply": "2023-08-10T15:42:27.325501Z"
    }
   },
   "outputs": [],
   "source": [
    "import torch \n",
    "\n",
    "_TREE_DATA_1 = {'a': 1, 'b': 2, 'x': {'c': 3, 'd': 4}}\n",
    "_TREE_DATA_2 = {\n",
    "    'a': torch.randn(2, 3), \n",
    "    'x': {\n",
    "        'c': torch.randn(3, 4)\n",
    "    },\n",
    "}\n",
    "_TREE_DATA_3 = {\n",
    "    'obs': torch.randn(4, 84, 84),\n",
    "    'action': torch.randint(0, 6, size=(1,)),\n",
    "    'reward': torch.rand(1),\n",
    "}"
   ]
  },
  {
   "cell_type": "markdown",
   "id": "83461b25",
   "metadata": {},
   "source": [
    "## Read and Write Operation"
   ]
  },
  {
   "cell_type": "markdown",
   "id": "067b3f73",
   "metadata": {},
   "source": [
    "Reading and writing are the two most common operations in the tree data structure based on the data model (TreeValue and Tianshou Batch both belong to this type), so this section will compare the reading and writing performance of these two libraries."
   ]
  },
  {
   "cell_type": "markdown",
   "id": "5d09a5b7",
   "metadata": {},
   "source": [
    "### TreeValue's Get and Set"
   ]
  },
  {
   "cell_type": "code",
   "execution_count": 2,
   "id": "9519c4bb",
   "metadata": {
    "execution": {
     "iopub.execute_input": "2023-08-10T15:42:27.334334Z",
     "iopub.status.busy": "2023-08-10T15:42:27.333703Z",
     "iopub.status.idle": "2023-08-10T15:42:27.372577Z",
     "shell.execute_reply": "2023-08-10T15:42:27.371714Z"
    }
   },
   "outputs": [],
   "source": [
    "from treevalue import FastTreeValue\n",
    "\n",
    "t = FastTreeValue(_TREE_DATA_2)"
   ]
  },
  {
   "cell_type": "code",
   "execution_count": 3,
   "id": "11c37677",
   "metadata": {
    "execution": {
     "iopub.execute_input": "2023-08-10T15:42:27.377561Z",
     "iopub.status.busy": "2023-08-10T15:42:27.376812Z",
     "iopub.status.idle": "2023-08-10T15:42:27.387813Z",
     "shell.execute_reply": "2023-08-10T15:42:27.386966Z"
    }
   },
   "outputs": [
    {
     "data": {
      "text/plain": [
       "<FastTreeValue 0x7fa266458610>\n",
       "├── 'a' --> tensor([[-0.8974, -0.1390,  0.0822],\n",
       "│                   [ 0.7328,  1.3025,  1.2506]])\n",
       "└── 'x' --> <FastTreeValue 0x7fa2664580a0>\n",
       "    └── 'c' --> tensor([[-1.7218, -1.0963,  1.0235,  0.6495],\n",
       "                        [-0.7252,  0.8653, -0.4871, -0.9977],\n",
       "                        [ 0.0175, -2.1153, -0.8417, -0.9102]])"
      ]
     },
     "execution_count": 3,
     "metadata": {},
     "output_type": "execute_result"
    }
   ],
   "source": [
    "t"
   ]
  },
  {
   "cell_type": "code",
   "execution_count": 4,
   "id": "fd70b0b9",
   "metadata": {
    "execution": {
     "iopub.execute_input": "2023-08-10T15:42:27.393133Z",
     "iopub.status.busy": "2023-08-10T15:42:27.392459Z",
     "iopub.status.idle": "2023-08-10T15:42:27.398453Z",
     "shell.execute_reply": "2023-08-10T15:42:27.397637Z"
    }
   },
   "outputs": [
    {
     "data": {
      "text/plain": [
       "tensor([[-0.8974, -0.1390,  0.0822],\n",
       "        [ 0.7328,  1.3025,  1.2506]])"
      ]
     },
     "execution_count": 4,
     "metadata": {},
     "output_type": "execute_result"
    }
   ],
   "source": [
    "t.a"
   ]
  },
  {
   "cell_type": "code",
   "execution_count": 5,
   "id": "c18197bd",
   "metadata": {
    "execution": {
     "iopub.execute_input": "2023-08-10T15:42:27.403072Z",
     "iopub.status.busy": "2023-08-10T15:42:27.402630Z",
     "iopub.status.idle": "2023-08-10T15:42:34.517329Z",
     "shell.execute_reply": "2023-08-10T15:42:34.516430Z"
    }
   },
   "outputs": [
    {
     "name": "stdout",
     "output_type": "stream",
     "text": [
      "87.4 ns ± 0.954 ns per loop (mean ± std. dev. of 7 runs, 10,000,000 loops each)\n"
     ]
    }
   ],
   "source": [
    "%timeit t.a"
   ]
  },
  {
   "cell_type": "code",
   "execution_count": 6,
   "id": "bd52f867",
   "metadata": {
    "execution": {
     "iopub.execute_input": "2023-08-10T15:42:34.521426Z",
     "iopub.status.busy": "2023-08-10T15:42:34.520668Z",
     "iopub.status.idle": "2023-08-10T15:42:34.531129Z",
     "shell.execute_reply": "2023-08-10T15:42:34.530232Z"
    }
   },
   "outputs": [
    {
     "data": {
      "text/plain": [
       "<FastTreeValue 0x7fa266458610>\n",
       "├── 'a' --> tensor([[ 0.7980,  0.2013, -0.0286],\n",
       "│                   [-0.8877, -0.3565, -2.0997]])\n",
       "└── 'x' --> <FastTreeValue 0x7fa2664580a0>\n",
       "    └── 'c' --> tensor([[-1.7218, -1.0963,  1.0235,  0.6495],\n",
       "                        [-0.7252,  0.8653, -0.4871, -0.9977],\n",
       "                        [ 0.0175, -2.1153, -0.8417, -0.9102]])"
      ]
     },
     "execution_count": 6,
     "metadata": {},
     "output_type": "execute_result"
    }
   ],
   "source": [
    "new_value = torch.randn(2, 3)\n",
    "t.a = new_value\n",
    "\n",
    "t"
   ]
  },
  {
   "cell_type": "code",
   "execution_count": 7,
   "id": "bbe04d1c",
   "metadata": {
    "execution": {
     "iopub.execute_input": "2023-08-10T15:42:34.535129Z",
     "iopub.status.busy": "2023-08-10T15:42:34.534507Z",
     "iopub.status.idle": "2023-08-10T15:42:41.960544Z",
     "shell.execute_reply": "2023-08-10T15:42:41.959654Z"
    }
   },
   "outputs": [
    {
     "name": "stdout",
     "output_type": "stream",
     "text": [
      "91.2 ns ± 0.633 ns per loop (mean ± std. dev. of 7 runs, 10,000,000 loops each)\n"
     ]
    }
   ],
   "source": [
    "%timeit t.a = new_value"
   ]
  },
  {
   "cell_type": "markdown",
   "id": "48c49731",
   "metadata": {},
   "source": [
    "### Tianshou Batch's Get and Set"
   ]
  },
  {
   "cell_type": "code",
   "execution_count": 8,
   "id": "f1bb14c1",
   "metadata": {
    "execution": {
     "iopub.execute_input": "2023-08-10T15:42:41.964846Z",
     "iopub.status.busy": "2023-08-10T15:42:41.964043Z",
     "iopub.status.idle": "2023-08-10T15:42:42.410075Z",
     "shell.execute_reply": "2023-08-10T15:42:42.409193Z"
    }
   },
   "outputs": [],
   "source": [
    "from tianshou.data import Batch\n",
    "\n",
    "b = Batch(**_TREE_DATA_2)"
   ]
  },
  {
   "cell_type": "code",
   "execution_count": 9,
   "id": "cb0777c3",
   "metadata": {
    "execution": {
     "iopub.execute_input": "2023-08-10T15:42:42.414848Z",
     "iopub.status.busy": "2023-08-10T15:42:42.414282Z",
     "iopub.status.idle": "2023-08-10T15:42:42.424070Z",
     "shell.execute_reply": "2023-08-10T15:42:42.423351Z"
    }
   },
   "outputs": [
    {
     "data": {
      "text/plain": [
       "Batch(\n",
       "    a: tensor([[-0.8974, -0.1390,  0.0822],\n",
       "               [ 0.7328,  1.3025,  1.2506]]),\n",
       "    x: Batch(\n",
       "           c: tensor([[-1.7218, -1.0963,  1.0235,  0.6495],\n",
       "                      [-0.7252,  0.8653, -0.4871, -0.9977],\n",
       "                      [ 0.0175, -2.1153, -0.8417, -0.9102]]),\n",
       "       ),\n",
       ")"
      ]
     },
     "execution_count": 9,
     "metadata": {},
     "output_type": "execute_result"
    }
   ],
   "source": [
    "b"
   ]
  },
  {
   "cell_type": "code",
   "execution_count": 10,
   "id": "43ef8ea3",
   "metadata": {
    "execution": {
     "iopub.execute_input": "2023-08-10T15:42:42.427701Z",
     "iopub.status.busy": "2023-08-10T15:42:42.427264Z",
     "iopub.status.idle": "2023-08-10T15:42:42.435237Z",
     "shell.execute_reply": "2023-08-10T15:42:42.434444Z"
    }
   },
   "outputs": [
    {
     "data": {
      "text/plain": [
       "tensor([[-0.8974, -0.1390,  0.0822],\n",
       "        [ 0.7328,  1.3025,  1.2506]])"
      ]
     },
     "execution_count": 10,
     "metadata": {},
     "output_type": "execute_result"
    }
   ],
   "source": [
    "b.a"
   ]
  },
  {
   "cell_type": "code",
   "execution_count": 11,
   "id": "b785ab72",
   "metadata": {
    "execution": {
     "iopub.execute_input": "2023-08-10T15:42:42.439368Z",
     "iopub.status.busy": "2023-08-10T15:42:42.438719Z",
     "iopub.status.idle": "2023-08-10T15:42:48.598514Z",
     "shell.execute_reply": "2023-08-10T15:42:48.596857Z"
    }
   },
   "outputs": [
    {
     "name": "stdout",
     "output_type": "stream",
     "text": [
      "75.9 ns ± 0.459 ns per loop (mean ± std. dev. of 7 runs, 10,000,000 loops each)\n"
     ]
    }
   ],
   "source": [
    "%timeit b.a"
   ]
  },
  {
   "cell_type": "code",
   "execution_count": 12,
   "id": "ad54dc69",
   "metadata": {
    "execution": {
     "iopub.execute_input": "2023-08-10T15:42:48.602406Z",
     "iopub.status.busy": "2023-08-10T15:42:48.601941Z",
     "iopub.status.idle": "2023-08-10T15:42:48.609327Z",
     "shell.execute_reply": "2023-08-10T15:42:48.608480Z"
    }
   },
   "outputs": [
    {
     "data": {
      "text/plain": [
       "Batch(\n",
       "    a: tensor([[-0.1010,  0.1191,  0.8314],\n",
       "               [-0.3752,  0.3506, -2.6274]]),\n",
       "    x: Batch(\n",
       "           c: tensor([[-1.7218, -1.0963,  1.0235,  0.6495],\n",
       "                      [-0.7252,  0.8653, -0.4871, -0.9977],\n",
       "                      [ 0.0175, -2.1153, -0.8417, -0.9102]]),\n",
       "       ),\n",
       ")"
      ]
     },
     "execution_count": 12,
     "metadata": {},
     "output_type": "execute_result"
    }
   ],
   "source": [
    "new_value = torch.randn(2, 3)\n",
    "b.a = new_value\n",
    "\n",
    "b"
   ]
  },
  {
   "cell_type": "code",
   "execution_count": 13,
   "id": "29b1d0bf",
   "metadata": {
    "execution": {
     "iopub.execute_input": "2023-08-10T15:42:48.613112Z",
     "iopub.status.busy": "2023-08-10T15:42:48.612575Z",
     "iopub.status.idle": "2023-08-10T15:42:53.753056Z",
     "shell.execute_reply": "2023-08-10T15:42:53.752161Z"
    }
   },
   "outputs": [
    {
     "name": "stdout",
     "output_type": "stream",
     "text": [
      "632 ns ± 3.88 ns per loop (mean ± std. dev. of 7 runs, 1,000,000 loops each)\n"
     ]
    }
   ],
   "source": [
    "%timeit b.a = new_value"
   ]
  },
  {
   "cell_type": "markdown",
   "id": "b61ad1d0",
   "metadata": {},
   "source": [
    "## Initialization"
   ]
  },
  {
   "cell_type": "markdown",
   "id": "d70f0d54",
   "metadata": {},
   "source": [
    "### TreeValue's Initialization"
   ]
  },
  {
   "cell_type": "code",
   "execution_count": 14,
   "id": "d32a679b",
   "metadata": {
    "execution": {
     "iopub.execute_input": "2023-08-10T15:42:53.757462Z",
     "iopub.status.busy": "2023-08-10T15:42:53.756684Z",
     "iopub.status.idle": "2023-08-10T15:43:02.322618Z",
     "shell.execute_reply": "2023-08-10T15:43:02.320738Z"
    }
   },
   "outputs": [
    {
     "name": "stdout",
     "output_type": "stream",
     "text": [
      "1.06 µs ± 10.8 ns per loop (mean ± std. dev. of 7 runs, 1,000,000 loops each)\n"
     ]
    }
   ],
   "source": [
    "%timeit FastTreeValue(_TREE_DATA_1)"
   ]
  },
  {
   "cell_type": "markdown",
   "id": "24f3707b",
   "metadata": {},
   "source": [
    "### Tianshou Batch's Initialization"
   ]
  },
  {
   "cell_type": "code",
   "execution_count": 15,
   "id": "ac3958df",
   "metadata": {
    "execution": {
     "iopub.execute_input": "2023-08-10T15:43:02.326654Z",
     "iopub.status.busy": "2023-08-10T15:43:02.326171Z",
     "iopub.status.idle": "2023-08-10T15:43:12.601368Z",
     "shell.execute_reply": "2023-08-10T15:43:12.600439Z"
    }
   },
   "outputs": [
    {
     "name": "stdout",
     "output_type": "stream",
     "text": [
      "12.7 µs ± 92.6 ns per loop (mean ± std. dev. of 7 runs, 100,000 loops each)\n"
     ]
    }
   ],
   "source": [
    "%timeit Batch(**_TREE_DATA_1)"
   ]
  },
  {
   "cell_type": "markdown",
   "id": "1ab82e2d",
   "metadata": {},
   "source": [
    "## Deep Copy Operation"
   ]
  },
  {
   "cell_type": "code",
   "execution_count": 16,
   "id": "210a9442",
   "metadata": {
    "execution": {
     "iopub.execute_input": "2023-08-10T15:43:12.605578Z",
     "iopub.status.busy": "2023-08-10T15:43:12.604914Z",
     "iopub.status.idle": "2023-08-10T15:43:12.611377Z",
     "shell.execute_reply": "2023-08-10T15:43:12.607943Z"
    }
   },
   "outputs": [],
   "source": [
    "import copy"
   ]
  },
  {
   "cell_type": "markdown",
   "id": "5a736274",
   "metadata": {},
   "source": [
    "### Deep Copy of TreeValue"
   ]
  },
  {
   "cell_type": "code",
   "execution_count": 17,
   "id": "f9bcadd6",
   "metadata": {
    "execution": {
     "iopub.execute_input": "2023-08-10T15:43:12.615289Z",
     "iopub.status.busy": "2023-08-10T15:43:12.614630Z",
     "iopub.status.idle": "2023-08-10T15:43:25.963662Z",
     "shell.execute_reply": "2023-08-10T15:43:25.962816Z"
    }
   },
   "outputs": [
    {
     "name": "stdout",
     "output_type": "stream",
     "text": [
      "164 µs ± 1.97 µs per loop (mean ± std. dev. of 7 runs, 10,000 loops each)\n"
     ]
    }
   ],
   "source": [
    "t3 = FastTreeValue(_TREE_DATA_3)\n",
    "%timeit copy.deepcopy(t3)"
   ]
  },
  {
   "cell_type": "markdown",
   "id": "bf8be7ea",
   "metadata": {},
   "source": [
    "### Deep Copy of Tianshou Batch"
   ]
  },
  {
   "cell_type": "code",
   "execution_count": 18,
   "id": "91998e6f",
   "metadata": {
    "execution": {
     "iopub.execute_input": "2023-08-10T15:43:25.967531Z",
     "iopub.status.busy": "2023-08-10T15:43:25.967219Z",
     "iopub.status.idle": "2023-08-10T15:43:39.437988Z",
     "shell.execute_reply": "2023-08-10T15:43:39.437067Z"
    }
   },
   "outputs": [
    {
     "name": "stdout",
     "output_type": "stream",
     "text": [
      "166 µs ± 881 ns per loop (mean ± std. dev. of 7 runs, 10,000 loops each)\n"
     ]
    }
   ],
   "source": [
    "b3 = Batch(**_TREE_DATA_3)\n",
    "%timeit copy.deepcopy(b3)"
   ]
  },
  {
   "cell_type": "markdown",
   "id": "223162fb",
   "metadata": {},
   "source": [
    "## Stack, Concat and Split Operation"
   ]
  },
  {
   "cell_type": "markdown",
   "id": "85fa4a73",
   "metadata": {},
   "source": [
    "### Performance of TreeValue"
   ]
  },
  {
   "cell_type": "code",
   "execution_count": 19,
   "id": "a0c2b697",
   "metadata": {
    "execution": {
     "iopub.execute_input": "2023-08-10T15:43:39.442163Z",
     "iopub.status.busy": "2023-08-10T15:43:39.441586Z",
     "iopub.status.idle": "2023-08-10T15:43:39.445831Z",
     "shell.execute_reply": "2023-08-10T15:43:39.444981Z"
    }
   },
   "outputs": [],
   "source": [
    "trees = [FastTreeValue(_TREE_DATA_2) for _ in range(8)]"
   ]
  },
  {
   "cell_type": "code",
   "execution_count": 20,
   "id": "017ea5a5",
   "metadata": {
    "execution": {
     "iopub.execute_input": "2023-08-10T15:43:39.449750Z",
     "iopub.status.busy": "2023-08-10T15:43:39.449331Z",
     "iopub.status.idle": "2023-08-10T15:43:39.460738Z",
     "shell.execute_reply": "2023-08-10T15:43:39.460039Z"
    }
   },
   "outputs": [
    {
     "data": {
      "text/plain": [
       "<FastTreeValue 0x7fa1965e8100>\n",
       "├── 'a' --> tensor([[[-0.8974, -0.1390,  0.0822],\n",
       "│                    [ 0.7328,  1.3025,  1.2506]],\n",
       "│           \n",
       "│                   [[-0.8974, -0.1390,  0.0822],\n",
       "│                    [ 0.7328,  1.3025,  1.2506]],\n",
       "│           \n",
       "│                   [[-0.8974, -0.1390,  0.0822],\n",
       "│                    [ 0.7328,  1.3025,  1.2506]],\n",
       "│           \n",
       "│                   [[-0.8974, -0.1390,  0.0822],\n",
       "│                    [ 0.7328,  1.3025,  1.2506]],\n",
       "│           \n",
       "│                   [[-0.8974, -0.1390,  0.0822],\n",
       "│                    [ 0.7328,  1.3025,  1.2506]],\n",
       "│           \n",
       "│                   [[-0.8974, -0.1390,  0.0822],\n",
       "│                    [ 0.7328,  1.3025,  1.2506]],\n",
       "│           \n",
       "│                   [[-0.8974, -0.1390,  0.0822],\n",
       "│                    [ 0.7328,  1.3025,  1.2506]],\n",
       "│           \n",
       "│                   [[-0.8974, -0.1390,  0.0822],\n",
       "│                    [ 0.7328,  1.3025,  1.2506]]])\n",
       "└── 'x' --> <FastTreeValue 0x7fa1965e8190>\n",
       "    └── 'c' --> tensor([[[-1.7218, -1.0963,  1.0235,  0.6495],\n",
       "                         [-0.7252,  0.8653, -0.4871, -0.9977],\n",
       "                         [ 0.0175, -2.1153, -0.8417, -0.9102]],\n",
       "                \n",
       "                        [[-1.7218, -1.0963,  1.0235,  0.6495],\n",
       "                         [-0.7252,  0.8653, -0.4871, -0.9977],\n",
       "                         [ 0.0175, -2.1153, -0.8417, -0.9102]],\n",
       "                \n",
       "                        [[-1.7218, -1.0963,  1.0235,  0.6495],\n",
       "                         [-0.7252,  0.8653, -0.4871, -0.9977],\n",
       "                         [ 0.0175, -2.1153, -0.8417, -0.9102]],\n",
       "                \n",
       "                        [[-1.7218, -1.0963,  1.0235,  0.6495],\n",
       "                         [-0.7252,  0.8653, -0.4871, -0.9977],\n",
       "                         [ 0.0175, -2.1153, -0.8417, -0.9102]],\n",
       "                \n",
       "                        [[-1.7218, -1.0963,  1.0235,  0.6495],\n",
       "                         [-0.7252,  0.8653, -0.4871, -0.9977],\n",
       "                         [ 0.0175, -2.1153, -0.8417, -0.9102]],\n",
       "                \n",
       "                        [[-1.7218, -1.0963,  1.0235,  0.6495],\n",
       "                         [-0.7252,  0.8653, -0.4871, -0.9977],\n",
       "                         [ 0.0175, -2.1153, -0.8417, -0.9102]],\n",
       "                \n",
       "                        [[-1.7218, -1.0963,  1.0235,  0.6495],\n",
       "                         [-0.7252,  0.8653, -0.4871, -0.9977],\n",
       "                         [ 0.0175, -2.1153, -0.8417, -0.9102]],\n",
       "                \n",
       "                        [[-1.7218, -1.0963,  1.0235,  0.6495],\n",
       "                         [-0.7252,  0.8653, -0.4871, -0.9977],\n",
       "                         [ 0.0175, -2.1153, -0.8417, -0.9102]]])"
      ]
     },
     "execution_count": 20,
     "metadata": {},
     "output_type": "execute_result"
    }
   ],
   "source": [
    "t_stack = FastTreeValue.func(subside=True)(torch.stack)\n",
    "\n",
    "t_stack(trees)"
   ]
  },
  {
   "cell_type": "code",
   "execution_count": 21,
   "id": "f8b3f415",
   "metadata": {
    "execution": {
     "iopub.execute_input": "2023-08-10T15:43:39.464122Z",
     "iopub.status.busy": "2023-08-10T15:43:39.463677Z",
     "iopub.status.idle": "2023-08-10T15:43:42.458532Z",
     "shell.execute_reply": "2023-08-10T15:43:42.457015Z"
    }
   },
   "outputs": [
    {
     "name": "stdout",
     "output_type": "stream",
     "text": [
      "36.8 µs ± 218 ns per loop (mean ± std. dev. of 7 runs, 10,000 loops each)\n"
     ]
    }
   ],
   "source": [
    "%timeit t_stack(trees)"
   ]
  },
  {
   "cell_type": "code",
   "execution_count": 22,
   "id": "94b56771",
   "metadata": {
    "execution": {
     "iopub.execute_input": "2023-08-10T15:43:42.462778Z",
     "iopub.status.busy": "2023-08-10T15:43:42.462475Z",
     "iopub.status.idle": "2023-08-10T15:43:42.472183Z",
     "shell.execute_reply": "2023-08-10T15:43:42.471405Z"
    }
   },
   "outputs": [
    {
     "data": {
      "text/plain": [
       "<FastTreeValue 0x7fa19e74de50>\n",
       "├── 'a' --> tensor([[-0.8974, -0.1390,  0.0822],\n",
       "│                   [ 0.7328,  1.3025,  1.2506],\n",
       "│                   [-0.8974, -0.1390,  0.0822],\n",
       "│                   [ 0.7328,  1.3025,  1.2506],\n",
       "│                   [-0.8974, -0.1390,  0.0822],\n",
       "│                   [ 0.7328,  1.3025,  1.2506],\n",
       "│                   [-0.8974, -0.1390,  0.0822],\n",
       "│                   [ 0.7328,  1.3025,  1.2506],\n",
       "│                   [-0.8974, -0.1390,  0.0822],\n",
       "│                   [ 0.7328,  1.3025,  1.2506],\n",
       "│                   [-0.8974, -0.1390,  0.0822],\n",
       "│                   [ 0.7328,  1.3025,  1.2506],\n",
       "│                   [-0.8974, -0.1390,  0.0822],\n",
       "│                   [ 0.7328,  1.3025,  1.2506],\n",
       "│                   [-0.8974, -0.1390,  0.0822],\n",
       "│                   [ 0.7328,  1.3025,  1.2506]])\n",
       "└── 'x' --> <FastTreeValue 0x7fa19e74d490>\n",
       "    └── 'c' --> tensor([[-1.7218, -1.0963,  1.0235,  0.6495],\n",
       "                        [-0.7252,  0.8653, -0.4871, -0.9977],\n",
       "                        [ 0.0175, -2.1153, -0.8417, -0.9102],\n",
       "                        [-1.7218, -1.0963,  1.0235,  0.6495],\n",
       "                        [-0.7252,  0.8653, -0.4871, -0.9977],\n",
       "                        [ 0.0175, -2.1153, -0.8417, -0.9102],\n",
       "                        [-1.7218, -1.0963,  1.0235,  0.6495],\n",
       "                        [-0.7252,  0.8653, -0.4871, -0.9977],\n",
       "                        [ 0.0175, -2.1153, -0.8417, -0.9102],\n",
       "                        [-1.7218, -1.0963,  1.0235,  0.6495],\n",
       "                        [-0.7252,  0.8653, -0.4871, -0.9977],\n",
       "                        [ 0.0175, -2.1153, -0.8417, -0.9102],\n",
       "                        [-1.7218, -1.0963,  1.0235,  0.6495],\n",
       "                        [-0.7252,  0.8653, -0.4871, -0.9977],\n",
       "                        [ 0.0175, -2.1153, -0.8417, -0.9102],\n",
       "                        [-1.7218, -1.0963,  1.0235,  0.6495],\n",
       "                        [-0.7252,  0.8653, -0.4871, -0.9977],\n",
       "                        [ 0.0175, -2.1153, -0.8417, -0.9102],\n",
       "                        [-1.7218, -1.0963,  1.0235,  0.6495],\n",
       "                        [-0.7252,  0.8653, -0.4871, -0.9977],\n",
       "                        [ 0.0175, -2.1153, -0.8417, -0.9102],\n",
       "                        [-1.7218, -1.0963,  1.0235,  0.6495],\n",
       "                        [-0.7252,  0.8653, -0.4871, -0.9977],\n",
       "                        [ 0.0175, -2.1153, -0.8417, -0.9102]])"
      ]
     },
     "execution_count": 22,
     "metadata": {},
     "output_type": "execute_result"
    }
   ],
   "source": [
    "t_cat = FastTreeValue.func(subside=True)(torch.cat)\n",
    "\n",
    "t_cat(trees)"
   ]
  },
  {
   "cell_type": "code",
   "execution_count": 23,
   "id": "5e9c06a6",
   "metadata": {
    "execution": {
     "iopub.execute_input": "2023-08-10T15:43:42.475957Z",
     "iopub.status.busy": "2023-08-10T15:43:42.475573Z",
     "iopub.status.idle": "2023-08-10T15:43:45.315637Z",
     "shell.execute_reply": "2023-08-10T15:43:45.314751Z"
    }
   },
   "outputs": [
    {
     "name": "stdout",
     "output_type": "stream",
     "text": [
      "34.9 µs ± 398 ns per loop (mean ± std. dev. of 7 runs, 10,000 loops each)\n"
     ]
    }
   ],
   "source": [
    "%timeit t_cat(trees)"
   ]
  },
  {
   "cell_type": "code",
   "execution_count": 24,
   "id": "a3ab5c8f",
   "metadata": {
    "execution": {
     "iopub.execute_input": "2023-08-10T15:43:45.320191Z",
     "iopub.status.busy": "2023-08-10T15:43:45.319430Z",
     "iopub.status.idle": "2023-08-10T15:43:51.586923Z",
     "shell.execute_reply": "2023-08-10T15:43:51.586138Z"
    }
   },
   "outputs": [
    {
     "name": "stdout",
     "output_type": "stream",
     "text": [
      "77 µs ± 375 ns per loop (mean ± std. dev. of 7 runs, 10,000 loops each)\n"
     ]
    }
   ],
   "source": [
    "t_split = FastTreeValue.func(rise=True)(torch.split)\n",
    "tree = FastTreeValue({\n",
    "    'obs': torch.randn(8, 4, 84, 84),\n",
    "    'action': torch.randint(0, 6, size=(8, 1,)),\n",
    "    'reward': torch.rand(8, 1),\n",
    "})\n",
    "\n",
    "%timeit t_split(tree, 1)"
   ]
  },
  {
   "cell_type": "markdown",
   "id": "31c3ec0b",
   "metadata": {},
   "source": [
    "### Performance of Tianshou Batch"
   ]
  },
  {
   "cell_type": "code",
   "execution_count": 25,
   "id": "9ead828a",
   "metadata": {
    "execution": {
     "iopub.execute_input": "2023-08-10T15:43:51.591042Z",
     "iopub.status.busy": "2023-08-10T15:43:51.590477Z",
     "iopub.status.idle": "2023-08-10T15:43:51.599663Z",
     "shell.execute_reply": "2023-08-10T15:43:51.598818Z"
    }
   },
   "outputs": [
    {
     "data": {
      "text/plain": [
       "Batch(\n",
       "    x: Batch(\n",
       "           c: tensor([[[-1.7218, -1.0963,  1.0235,  0.6495],\n",
       "                       [-0.7252,  0.8653, -0.4871, -0.9977],\n",
       "                       [ 0.0175, -2.1153, -0.8417, -0.9102]],\n",
       "              \n",
       "                      [[-1.7218, -1.0963,  1.0235,  0.6495],\n",
       "                       [-0.7252,  0.8653, -0.4871, -0.9977],\n",
       "                       [ 0.0175, -2.1153, -0.8417, -0.9102]],\n",
       "              \n",
       "                      [[-1.7218, -1.0963,  1.0235,  0.6495],\n",
       "                       [-0.7252,  0.8653, -0.4871, -0.9977],\n",
       "                       [ 0.0175, -2.1153, -0.8417, -0.9102]],\n",
       "              \n",
       "                      [[-1.7218, -1.0963,  1.0235,  0.6495],\n",
       "                       [-0.7252,  0.8653, -0.4871, -0.9977],\n",
       "                       [ 0.0175, -2.1153, -0.8417, -0.9102]],\n",
       "              \n",
       "                      [[-1.7218, -1.0963,  1.0235,  0.6495],\n",
       "                       [-0.7252,  0.8653, -0.4871, -0.9977],\n",
       "                       [ 0.0175, -2.1153, -0.8417, -0.9102]],\n",
       "              \n",
       "                      [[-1.7218, -1.0963,  1.0235,  0.6495],\n",
       "                       [-0.7252,  0.8653, -0.4871, -0.9977],\n",
       "                       [ 0.0175, -2.1153, -0.8417, -0.9102]],\n",
       "              \n",
       "                      [[-1.7218, -1.0963,  1.0235,  0.6495],\n",
       "                       [-0.7252,  0.8653, -0.4871, -0.9977],\n",
       "                       [ 0.0175, -2.1153, -0.8417, -0.9102]],\n",
       "              \n",
       "                      [[-1.7218, -1.0963,  1.0235,  0.6495],\n",
       "                       [-0.7252,  0.8653, -0.4871, -0.9977],\n",
       "                       [ 0.0175, -2.1153, -0.8417, -0.9102]]]),\n",
       "       ),\n",
       "    a: tensor([[[-0.8974, -0.1390,  0.0822],\n",
       "                [ 0.7328,  1.3025,  1.2506]],\n",
       "       \n",
       "               [[-0.8974, -0.1390,  0.0822],\n",
       "                [ 0.7328,  1.3025,  1.2506]],\n",
       "       \n",
       "               [[-0.8974, -0.1390,  0.0822],\n",
       "                [ 0.7328,  1.3025,  1.2506]],\n",
       "       \n",
       "               [[-0.8974, -0.1390,  0.0822],\n",
       "                [ 0.7328,  1.3025,  1.2506]],\n",
       "       \n",
       "               [[-0.8974, -0.1390,  0.0822],\n",
       "                [ 0.7328,  1.3025,  1.2506]],\n",
       "       \n",
       "               [[-0.8974, -0.1390,  0.0822],\n",
       "                [ 0.7328,  1.3025,  1.2506]],\n",
       "       \n",
       "               [[-0.8974, -0.1390,  0.0822],\n",
       "                [ 0.7328,  1.3025,  1.2506]],\n",
       "       \n",
       "               [[-0.8974, -0.1390,  0.0822],\n",
       "                [ 0.7328,  1.3025,  1.2506]]]),\n",
       ")"
      ]
     },
     "execution_count": 25,
     "metadata": {},
     "output_type": "execute_result"
    }
   ],
   "source": [
    "batches = [Batch(**_TREE_DATA_2) for _ in range(8)]\n",
    "\n",
    "Batch.stack(batches)"
   ]
  },
  {
   "cell_type": "code",
   "execution_count": 26,
   "id": "ec9037a3",
   "metadata": {
    "execution": {
     "iopub.execute_input": "2023-08-10T15:43:51.603426Z",
     "iopub.status.busy": "2023-08-10T15:43:51.602986Z",
     "iopub.status.idle": "2023-08-10T15:43:59.427568Z",
     "shell.execute_reply": "2023-08-10T15:43:59.426767Z"
    }
   },
   "outputs": [
    {
     "name": "stdout",
     "output_type": "stream",
     "text": [
      "96.1 µs ± 460 ns per loop (mean ± std. dev. of 7 runs, 10,000 loops each)\n"
     ]
    }
   ],
   "source": [
    "%timeit Batch.stack(batches)"
   ]
  },
  {
   "cell_type": "code",
   "execution_count": 27,
   "id": "cb8ab77e",
   "metadata": {
    "execution": {
     "iopub.execute_input": "2023-08-10T15:43:59.431390Z",
     "iopub.status.busy": "2023-08-10T15:43:59.430808Z",
     "iopub.status.idle": "2023-08-10T15:43:59.439394Z",
     "shell.execute_reply": "2023-08-10T15:43:59.438537Z"
    }
   },
   "outputs": [
    {
     "data": {
      "text/plain": [
       "Batch(\n",
       "    x: Batch(\n",
       "           c: tensor([[-1.7218, -1.0963,  1.0235,  0.6495],\n",
       "                      [-0.7252,  0.8653, -0.4871, -0.9977],\n",
       "                      [ 0.0175, -2.1153, -0.8417, -0.9102],\n",
       "                      [-1.7218, -1.0963,  1.0235,  0.6495],\n",
       "                      [-0.7252,  0.8653, -0.4871, -0.9977],\n",
       "                      [ 0.0175, -2.1153, -0.8417, -0.9102],\n",
       "                      [-1.7218, -1.0963,  1.0235,  0.6495],\n",
       "                      [-0.7252,  0.8653, -0.4871, -0.9977],\n",
       "                      [ 0.0175, -2.1153, -0.8417, -0.9102],\n",
       "                      [-1.7218, -1.0963,  1.0235,  0.6495],\n",
       "                      [-0.7252,  0.8653, -0.4871, -0.9977],\n",
       "                      [ 0.0175, -2.1153, -0.8417, -0.9102],\n",
       "                      [-1.7218, -1.0963,  1.0235,  0.6495],\n",
       "                      [-0.7252,  0.8653, -0.4871, -0.9977],\n",
       "                      [ 0.0175, -2.1153, -0.8417, -0.9102],\n",
       "                      [-1.7218, -1.0963,  1.0235,  0.6495],\n",
       "                      [-0.7252,  0.8653, -0.4871, -0.9977],\n",
       "                      [ 0.0175, -2.1153, -0.8417, -0.9102],\n",
       "                      [-1.7218, -1.0963,  1.0235,  0.6495],\n",
       "                      [-0.7252,  0.8653, -0.4871, -0.9977],\n",
       "                      [ 0.0175, -2.1153, -0.8417, -0.9102],\n",
       "                      [-1.7218, -1.0963,  1.0235,  0.6495],\n",
       "                      [-0.7252,  0.8653, -0.4871, -0.9977],\n",
       "                      [ 0.0175, -2.1153, -0.8417, -0.9102]]),\n",
       "       ),\n",
       "    a: tensor([[-0.8974, -0.1390,  0.0822],\n",
       "               [ 0.7328,  1.3025,  1.2506],\n",
       "               [-0.8974, -0.1390,  0.0822],\n",
       "               [ 0.7328,  1.3025,  1.2506],\n",
       "               [-0.8974, -0.1390,  0.0822],\n",
       "               [ 0.7328,  1.3025,  1.2506],\n",
       "               [-0.8974, -0.1390,  0.0822],\n",
       "               [ 0.7328,  1.3025,  1.2506],\n",
       "               [-0.8974, -0.1390,  0.0822],\n",
       "               [ 0.7328,  1.3025,  1.2506],\n",
       "               [-0.8974, -0.1390,  0.0822],\n",
       "               [ 0.7328,  1.3025,  1.2506],\n",
       "               [-0.8974, -0.1390,  0.0822],\n",
       "               [ 0.7328,  1.3025,  1.2506],\n",
       "               [-0.8974, -0.1390,  0.0822],\n",
       "               [ 0.7328,  1.3025,  1.2506]]),\n",
       ")"
      ]
     },
     "execution_count": 27,
     "metadata": {},
     "output_type": "execute_result"
    }
   ],
   "source": [
    "Batch.cat(batches)"
   ]
  },
  {
   "cell_type": "code",
   "execution_count": 28,
   "id": "18dfb045",
   "metadata": {
    "execution": {
     "iopub.execute_input": "2023-08-10T15:43:59.445196Z",
     "iopub.status.busy": "2023-08-10T15:43:59.443917Z",
     "iopub.status.idle": "2023-08-10T15:44:13.811235Z",
     "shell.execute_reply": "2023-08-10T15:44:13.810366Z"
    }
   },
   "outputs": [
    {
     "name": "stdout",
     "output_type": "stream",
     "text": [
      "177 µs ± 1.42 µs per loop (mean ± std. dev. of 7 runs, 10,000 loops each)\n"
     ]
    }
   ],
   "source": [
    "%timeit Batch.cat(batches)"
   ]
  },
  {
   "cell_type": "code",
   "execution_count": 29,
   "id": "c6688e51",
   "metadata": {
    "execution": {
     "iopub.execute_input": "2023-08-10T15:44:13.815328Z",
     "iopub.status.busy": "2023-08-10T15:44:13.814746Z",
     "iopub.status.idle": "2023-08-10T15:44:17.124431Z",
     "shell.execute_reply": "2023-08-10T15:44:17.123658Z"
    }
   },
   "outputs": [
    {
     "name": "stdout",
     "output_type": "stream",
     "text": [
      "407 µs ± 8.07 µs per loop (mean ± std. dev. of 7 runs, 1,000 loops each)\n"
     ]
    }
   ],
   "source": [
    "batch = Batch({\n",
    "    'obs': torch.randn(8, 4, 84, 84),\n",
    "    'action': torch.randint(0, 6, size=(8, 1,)),\n",
    "    'reward': torch.rand(8, 1)}\n",
    ")\n",
    "\n",
    "%timeit list(Batch.split(batch, 1, shuffle=False, merge_last=True))"
   ]
  },
  {
   "cell_type": "code",
   "execution_count": null,
   "id": "2539fbd9",
   "metadata": {},
   "outputs": [],
   "source": []
  }
 ],
 "metadata": {
  "kernelspec": {
   "display_name": "Python 3 (ipykernel)",
   "language": "python",
   "name": "python3"
  },
  "language_info": {
   "codemirror_mode": {
    "name": "ipython",
    "version": 3
   },
   "file_extension": ".py",
   "mimetype": "text/x-python",
   "name": "python",
   "nbconvert_exporter": "python",
   "pygments_lexer": "ipython3",
   "version": "3.8.17"
  }
 },
 "nbformat": 4,
 "nbformat_minor": 5
}
