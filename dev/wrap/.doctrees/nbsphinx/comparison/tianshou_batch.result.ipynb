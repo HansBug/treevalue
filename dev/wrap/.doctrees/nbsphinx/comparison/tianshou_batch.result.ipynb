{
 "cells": [
  {
   "cell_type": "markdown",
   "id": "9d39d946",
   "metadata": {},
   "source": [
    "# Comparison Between TreeValue and Tianshou Batch"
   ]
  },
  {
   "cell_type": "markdown",
   "id": "3c6db2d4",
   "metadata": {},
   "source": [
    "In this section, we will take a look at the feature and performance of the [Tianshou Batch](https://github.com/thu-ml/tianshou) library, which is developed by Tsinghua Machine Learning Group."
   ]
  },
  {
   "cell_type": "markdown",
   "id": "069361b0",
   "metadata": {},
   "source": [
    "Before starting the comparison, let us define some thing."
   ]
  },
  {
   "cell_type": "code",
   "execution_count": 1,
   "id": "06fc8d26",
   "metadata": {
    "execution": {
     "iopub.execute_input": "2023-08-10T13:13:12.826240Z",
     "iopub.status.busy": "2023-08-10T13:13:12.825659Z",
     "iopub.status.idle": "2023-08-10T13:13:14.912194Z",
     "shell.execute_reply": "2023-08-10T13:13:14.911016Z"
    }
   },
   "outputs": [],
   "source": [
    "import torch \n",
    "\n",
    "_TREE_DATA_1 = {'a': 1, 'b': 2, 'x': {'c': 3, 'd': 4}}\n",
    "_TREE_DATA_2 = {\n",
    "    'a': torch.randn(2, 3), \n",
    "    'x': {\n",
    "        'c': torch.randn(3, 4)\n",
    "    },\n",
    "}\n",
    "_TREE_DATA_3 = {\n",
    "    'obs': torch.randn(4, 84, 84),\n",
    "    'action': torch.randint(0, 6, size=(1,)),\n",
    "    'reward': torch.rand(1),\n",
    "}"
   ]
  },
  {
   "cell_type": "markdown",
   "id": "83461b25",
   "metadata": {},
   "source": [
    "## Read and Write Operation"
   ]
  },
  {
   "cell_type": "markdown",
   "id": "067b3f73",
   "metadata": {},
   "source": [
    "Reading and writing are the two most common operations in the tree data structure based on the data model (TreeValue and Tianshou Batch both belong to this type), so this section will compare the reading and writing performance of these two libraries."
   ]
  },
  {
   "cell_type": "markdown",
   "id": "5d09a5b7",
   "metadata": {},
   "source": [
    "### TreeValue's Get and Set"
   ]
  },
  {
   "cell_type": "code",
   "execution_count": 2,
   "id": "9519c4bb",
   "metadata": {
    "execution": {
     "iopub.execute_input": "2023-08-10T13:13:14.919719Z",
     "iopub.status.busy": "2023-08-10T13:13:14.918889Z",
     "iopub.status.idle": "2023-08-10T13:13:14.963602Z",
     "shell.execute_reply": "2023-08-10T13:13:14.962380Z"
    }
   },
   "outputs": [],
   "source": [
    "from treevalue import FastTreeValue\n",
    "\n",
    "t = FastTreeValue(_TREE_DATA_2)"
   ]
  },
  {
   "cell_type": "code",
   "execution_count": 3,
   "id": "11c37677",
   "metadata": {
    "execution": {
     "iopub.execute_input": "2023-08-10T13:13:14.968512Z",
     "iopub.status.busy": "2023-08-10T13:13:14.968135Z",
     "iopub.status.idle": "2023-08-10T13:13:14.981559Z",
     "shell.execute_reply": "2023-08-10T13:13:14.980480Z"
    }
   },
   "outputs": [
    {
     "data": {
      "text/plain": [
       "<FastTreeValue 0x7f59d833f1f0>\n",
       "├── 'a' --> tensor([[ 0.3114, -2.1245,  0.1693],\n",
       "│                   [-0.8827,  0.1116,  0.7627]])\n",
       "└── 'x' --> <FastTreeValue 0x7f59d833f130>\n",
       "    └── 'c' --> tensor([[ 0.0824, -1.2746, -1.0552,  1.7220],\n",
       "                        [-1.1312, -0.2202, -0.0143,  1.4858],\n",
       "                        [ 0.7722, -0.5205, -0.5121, -0.3885]])"
      ]
     },
     "execution_count": 3,
     "metadata": {},
     "output_type": "execute_result"
    }
   ],
   "source": [
    "t"
   ]
  },
  {
   "cell_type": "code",
   "execution_count": 4,
   "id": "fd70b0b9",
   "metadata": {
    "execution": {
     "iopub.execute_input": "2023-08-10T13:13:14.987225Z",
     "iopub.status.busy": "2023-08-10T13:13:14.986433Z",
     "iopub.status.idle": "2023-08-10T13:13:14.994055Z",
     "shell.execute_reply": "2023-08-10T13:13:14.992956Z"
    }
   },
   "outputs": [
    {
     "data": {
      "text/plain": [
       "tensor([[ 0.3114, -2.1245,  0.1693],\n",
       "        [-0.8827,  0.1116,  0.7627]])"
      ]
     },
     "execution_count": 4,
     "metadata": {},
     "output_type": "execute_result"
    }
   ],
   "source": [
    "t.a"
   ]
  },
  {
   "cell_type": "code",
   "execution_count": 5,
   "id": "c18197bd",
   "metadata": {
    "execution": {
     "iopub.execute_input": "2023-08-10T13:13:14.999203Z",
     "iopub.status.busy": "2023-08-10T13:13:14.998814Z",
     "iopub.status.idle": "2023-08-10T13:13:21.867039Z",
     "shell.execute_reply": "2023-08-10T13:13:21.859579Z"
    }
   },
   "outputs": [
    {
     "name": "stdout",
     "output_type": "stream",
     "text": [
      "85.2 ns ± 0.877 ns per loop (mean ± std. dev. of 7 runs, 10,000,000 loops each)\n"
     ]
    }
   ],
   "source": [
    "%timeit t.a"
   ]
  },
  {
   "cell_type": "code",
   "execution_count": 6,
   "id": "bd52f867",
   "metadata": {
    "execution": {
     "iopub.execute_input": "2023-08-10T13:13:21.874849Z",
     "iopub.status.busy": "2023-08-10T13:13:21.871594Z",
     "iopub.status.idle": "2023-08-10T13:13:21.883857Z",
     "shell.execute_reply": "2023-08-10T13:13:21.882680Z"
    }
   },
   "outputs": [
    {
     "data": {
      "text/plain": [
       "<FastTreeValue 0x7f59d833f1f0>\n",
       "├── 'a' --> tensor([[-0.2215,  0.1619, -0.1763],\n",
       "│                   [-0.7978, -0.0673,  1.4471]])\n",
       "└── 'x' --> <FastTreeValue 0x7f59d833f130>\n",
       "    └── 'c' --> tensor([[ 0.0824, -1.2746, -1.0552,  1.7220],\n",
       "                        [-1.1312, -0.2202, -0.0143,  1.4858],\n",
       "                        [ 0.7722, -0.5205, -0.5121, -0.3885]])"
      ]
     },
     "execution_count": 6,
     "metadata": {},
     "output_type": "execute_result"
    }
   ],
   "source": [
    "new_value = torch.randn(2, 3)\n",
    "t.a = new_value\n",
    "\n",
    "t"
   ]
  },
  {
   "cell_type": "code",
   "execution_count": 7,
   "id": "bbe04d1c",
   "metadata": {
    "execution": {
     "iopub.execute_input": "2023-08-10T13:13:21.888481Z",
     "iopub.status.busy": "2023-08-10T13:13:21.887811Z",
     "iopub.status.idle": "2023-08-10T13:13:30.055402Z",
     "shell.execute_reply": "2023-08-10T13:13:30.053978Z"
    }
   },
   "outputs": [
    {
     "name": "stdout",
     "output_type": "stream",
     "text": [
      "101 ns ± 0.896 ns per loop (mean ± std. dev. of 7 runs, 10,000,000 loops each)\n"
     ]
    }
   ],
   "source": [
    "%timeit t.a = new_value"
   ]
  },
  {
   "cell_type": "markdown",
   "id": "48c49731",
   "metadata": {},
   "source": [
    "### Tianshou Batch's Get and Set"
   ]
  },
  {
   "cell_type": "code",
   "execution_count": 8,
   "id": "f1bb14c1",
   "metadata": {
    "execution": {
     "iopub.execute_input": "2023-08-10T13:13:30.068531Z",
     "iopub.status.busy": "2023-08-10T13:13:30.067821Z",
     "iopub.status.idle": "2023-08-10T13:13:30.608969Z",
     "shell.execute_reply": "2023-08-10T13:13:30.607855Z"
    }
   },
   "outputs": [],
   "source": [
    "from tianshou.data import Batch\n",
    "\n",
    "b = Batch(**_TREE_DATA_2)"
   ]
  },
  {
   "cell_type": "code",
   "execution_count": 9,
   "id": "cb0777c3",
   "metadata": {
    "execution": {
     "iopub.execute_input": "2023-08-10T13:13:30.615016Z",
     "iopub.status.busy": "2023-08-10T13:13:30.614275Z",
     "iopub.status.idle": "2023-08-10T13:13:30.624615Z",
     "shell.execute_reply": "2023-08-10T13:13:30.623578Z"
    }
   },
   "outputs": [
    {
     "data": {
      "text/plain": [
       "Batch(\n",
       "    a: tensor([[ 0.3114, -2.1245,  0.1693],\n",
       "               [-0.8827,  0.1116,  0.7627]]),\n",
       "    x: Batch(\n",
       "           c: tensor([[ 0.0824, -1.2746, -1.0552,  1.7220],\n",
       "                      [-1.1312, -0.2202, -0.0143,  1.4858],\n",
       "                      [ 0.7722, -0.5205, -0.5121, -0.3885]]),\n",
       "       ),\n",
       ")"
      ]
     },
     "execution_count": 9,
     "metadata": {},
     "output_type": "execute_result"
    }
   ],
   "source": [
    "b"
   ]
  },
  {
   "cell_type": "code",
   "execution_count": 10,
   "id": "43ef8ea3",
   "metadata": {
    "execution": {
     "iopub.execute_input": "2023-08-10T13:13:30.629528Z",
     "iopub.status.busy": "2023-08-10T13:13:30.628927Z",
     "iopub.status.idle": "2023-08-10T13:13:30.637412Z",
     "shell.execute_reply": "2023-08-10T13:13:30.636270Z"
    }
   },
   "outputs": [
    {
     "data": {
      "text/plain": [
       "tensor([[ 0.3114, -2.1245,  0.1693],\n",
       "        [-0.8827,  0.1116,  0.7627]])"
      ]
     },
     "execution_count": 10,
     "metadata": {},
     "output_type": "execute_result"
    }
   ],
   "source": [
    "b.a"
   ]
  },
  {
   "cell_type": "code",
   "execution_count": 11,
   "id": "b785ab72",
   "metadata": {
    "execution": {
     "iopub.execute_input": "2023-08-10T13:13:30.644837Z",
     "iopub.status.busy": "2023-08-10T13:13:30.643617Z",
     "iopub.status.idle": "2023-08-10T13:13:37.298265Z",
     "shell.execute_reply": "2023-08-10T13:13:37.296332Z"
    }
   },
   "outputs": [
    {
     "name": "stdout",
     "output_type": "stream",
     "text": [
      "81.9 ns ± 0.482 ns per loop (mean ± std. dev. of 7 runs, 10,000,000 loops each)\n"
     ]
    }
   ],
   "source": [
    "%timeit b.a"
   ]
  },
  {
   "cell_type": "code",
   "execution_count": 12,
   "id": "ad54dc69",
   "metadata": {
    "execution": {
     "iopub.execute_input": "2023-08-10T13:13:37.303255Z",
     "iopub.status.busy": "2023-08-10T13:13:37.302559Z",
     "iopub.status.idle": "2023-08-10T13:13:37.310976Z",
     "shell.execute_reply": "2023-08-10T13:13:37.309904Z"
    }
   },
   "outputs": [
    {
     "data": {
      "text/plain": [
       "Batch(\n",
       "    a: tensor([[-0.7063, -0.2875, -0.4860],\n",
       "               [ 0.3716, -0.5215,  0.3639]]),\n",
       "    x: Batch(\n",
       "           c: tensor([[ 0.0824, -1.2746, -1.0552,  1.7220],\n",
       "                      [-1.1312, -0.2202, -0.0143,  1.4858],\n",
       "                      [ 0.7722, -0.5205, -0.5121, -0.3885]]),\n",
       "       ),\n",
       ")"
      ]
     },
     "execution_count": 12,
     "metadata": {},
     "output_type": "execute_result"
    }
   ],
   "source": [
    "new_value = torch.randn(2, 3)\n",
    "b.a = new_value\n",
    "\n",
    "b"
   ]
  },
  {
   "cell_type": "code",
   "execution_count": 13,
   "id": "29b1d0bf",
   "metadata": {
    "execution": {
     "iopub.execute_input": "2023-08-10T13:13:37.315787Z",
     "iopub.status.busy": "2023-08-10T13:13:37.315225Z",
     "iopub.status.idle": "2023-08-10T13:13:42.842753Z",
     "shell.execute_reply": "2023-08-10T13:13:42.841470Z"
    }
   },
   "outputs": [
    {
     "name": "stdout",
     "output_type": "stream",
     "text": [
      "681 ns ± 13.8 ns per loop (mean ± std. dev. of 7 runs, 1,000,000 loops each)\n"
     ]
    }
   ],
   "source": [
    "%timeit b.a = new_value"
   ]
  },
  {
   "cell_type": "markdown",
   "id": "b61ad1d0",
   "metadata": {},
   "source": [
    "## Initialization"
   ]
  },
  {
   "cell_type": "markdown",
   "id": "d70f0d54",
   "metadata": {},
   "source": [
    "### TreeValue's Initialization"
   ]
  },
  {
   "cell_type": "code",
   "execution_count": 14,
   "id": "d32a679b",
   "metadata": {
    "execution": {
     "iopub.execute_input": "2023-08-10T13:13:42.848522Z",
     "iopub.status.busy": "2023-08-10T13:13:42.847709Z",
     "iopub.status.idle": "2023-08-10T13:13:52.116678Z",
     "shell.execute_reply": "2023-08-10T13:13:52.115527Z"
    }
   },
   "outputs": [
    {
     "name": "stdout",
     "output_type": "stream",
     "text": [
      "1.14 µs ± 6.69 ns per loop (mean ± std. dev. of 7 runs, 1,000,000 loops each)\n"
     ]
    }
   ],
   "source": [
    "%timeit FastTreeValue(_TREE_DATA_1)"
   ]
  },
  {
   "cell_type": "markdown",
   "id": "24f3707b",
   "metadata": {},
   "source": [
    "### Tianshou Batch's Initialization"
   ]
  },
  {
   "cell_type": "code",
   "execution_count": 15,
   "id": "ac3958df",
   "metadata": {
    "execution": {
     "iopub.execute_input": "2023-08-10T13:13:52.122133Z",
     "iopub.status.busy": "2023-08-10T13:13:52.121215Z",
     "iopub.status.idle": "2023-08-10T13:14:03.666174Z",
     "shell.execute_reply": "2023-08-10T13:14:03.665277Z"
    }
   },
   "outputs": [
    {
     "name": "stdout",
     "output_type": "stream",
     "text": [
      "14.2 µs ± 107 ns per loop (mean ± std. dev. of 7 runs, 100,000 loops each)\n"
     ]
    }
   ],
   "source": [
    "%timeit Batch(**_TREE_DATA_1)"
   ]
  },
  {
   "cell_type": "markdown",
   "id": "1ab82e2d",
   "metadata": {},
   "source": [
    "## Deep Copy Operation"
   ]
  },
  {
   "cell_type": "code",
   "execution_count": 16,
   "id": "210a9442",
   "metadata": {
    "execution": {
     "iopub.execute_input": "2023-08-10T13:14:03.670684Z",
     "iopub.status.busy": "2023-08-10T13:14:03.669788Z",
     "iopub.status.idle": "2023-08-10T13:14:03.676971Z",
     "shell.execute_reply": "2023-08-10T13:14:03.675687Z"
    }
   },
   "outputs": [],
   "source": [
    "import copy"
   ]
  },
  {
   "cell_type": "markdown",
   "id": "5a736274",
   "metadata": {},
   "source": [
    "### Deep Copy of TreeValue"
   ]
  },
  {
   "cell_type": "code",
   "execution_count": 17,
   "id": "f9bcadd6",
   "metadata": {
    "execution": {
     "iopub.execute_input": "2023-08-10T13:14:03.681735Z",
     "iopub.status.busy": "2023-08-10T13:14:03.681349Z",
     "iopub.status.idle": "2023-08-10T13:14:06.108636Z",
     "shell.execute_reply": "2023-08-10T13:14:06.107732Z"
    }
   },
   "outputs": [
    {
     "name": "stdout",
     "output_type": "stream",
     "text": [
      "292 µs ± 19.5 µs per loop (mean ± std. dev. of 7 runs, 1,000 loops each)\n"
     ]
    }
   ],
   "source": [
    "t3 = FastTreeValue(_TREE_DATA_3)\n",
    "%timeit copy.deepcopy(t3)"
   ]
  },
  {
   "cell_type": "markdown",
   "id": "bf8be7ea",
   "metadata": {},
   "source": [
    "### Deep Copy of Tianshou Batch"
   ]
  },
  {
   "cell_type": "code",
   "execution_count": 18,
   "id": "91998e6f",
   "metadata": {
    "execution": {
     "iopub.execute_input": "2023-08-10T13:14:06.113374Z",
     "iopub.status.busy": "2023-08-10T13:14:06.112542Z",
     "iopub.status.idle": "2023-08-10T13:14:08.333909Z",
     "shell.execute_reply": "2023-08-10T13:14:08.332924Z"
    }
   },
   "outputs": [
    {
     "name": "stdout",
     "output_type": "stream",
     "text": [
      "274 µs ± 15.8 µs per loop (mean ± std. dev. of 7 runs, 1,000 loops each)\n"
     ]
    }
   ],
   "source": [
    "b3 = Batch(**_TREE_DATA_3)\n",
    "%timeit copy.deepcopy(b3)"
   ]
  },
  {
   "cell_type": "markdown",
   "id": "223162fb",
   "metadata": {},
   "source": [
    "## Stack, Concat and Split Operation"
   ]
  },
  {
   "cell_type": "markdown",
   "id": "85fa4a73",
   "metadata": {},
   "source": [
    "### Performance of TreeValue"
   ]
  },
  {
   "cell_type": "code",
   "execution_count": 19,
   "id": "a0c2b697",
   "metadata": {
    "execution": {
     "iopub.execute_input": "2023-08-10T13:14:08.339739Z",
     "iopub.status.busy": "2023-08-10T13:14:08.338449Z",
     "iopub.status.idle": "2023-08-10T13:14:08.344058Z",
     "shell.execute_reply": "2023-08-10T13:14:08.343079Z"
    }
   },
   "outputs": [],
   "source": [
    "trees = [FastTreeValue(_TREE_DATA_2) for _ in range(8)]"
   ]
  },
  {
   "cell_type": "code",
   "execution_count": 20,
   "id": "017ea5a5",
   "metadata": {
    "execution": {
     "iopub.execute_input": "2023-08-10T13:14:08.348796Z",
     "iopub.status.busy": "2023-08-10T13:14:08.348274Z",
     "iopub.status.idle": "2023-08-10T13:14:08.358931Z",
     "shell.execute_reply": "2023-08-10T13:14:08.357982Z"
    }
   },
   "outputs": [
    {
     "data": {
      "text/plain": [
       "<FastTreeValue 0x7f590a95c070>\n",
       "├── 'a' --> tensor([[[ 0.3114, -2.1245,  0.1693],\n",
       "│                    [-0.8827,  0.1116,  0.7627]],\n",
       "│           \n",
       "│                   [[ 0.3114, -2.1245,  0.1693],\n",
       "│                    [-0.8827,  0.1116,  0.7627]],\n",
       "│           \n",
       "│                   [[ 0.3114, -2.1245,  0.1693],\n",
       "│                    [-0.8827,  0.1116,  0.7627]],\n",
       "│           \n",
       "│                   [[ 0.3114, -2.1245,  0.1693],\n",
       "│                    [-0.8827,  0.1116,  0.7627]],\n",
       "│           \n",
       "│                   [[ 0.3114, -2.1245,  0.1693],\n",
       "│                    [-0.8827,  0.1116,  0.7627]],\n",
       "│           \n",
       "│                   [[ 0.3114, -2.1245,  0.1693],\n",
       "│                    [-0.8827,  0.1116,  0.7627]],\n",
       "│           \n",
       "│                   [[ 0.3114, -2.1245,  0.1693],\n",
       "│                    [-0.8827,  0.1116,  0.7627]],\n",
       "│           \n",
       "│                   [[ 0.3114, -2.1245,  0.1693],\n",
       "│                    [-0.8827,  0.1116,  0.7627]]])\n",
       "└── 'x' --> <FastTreeValue 0x7f590a55c250>\n",
       "    └── 'c' --> tensor([[[ 0.0824, -1.2746, -1.0552,  1.7220],\n",
       "                         [-1.1312, -0.2202, -0.0143,  1.4858],\n",
       "                         [ 0.7722, -0.5205, -0.5121, -0.3885]],\n",
       "                \n",
       "                        [[ 0.0824, -1.2746, -1.0552,  1.7220],\n",
       "                         [-1.1312, -0.2202, -0.0143,  1.4858],\n",
       "                         [ 0.7722, -0.5205, -0.5121, -0.3885]],\n",
       "                \n",
       "                        [[ 0.0824, -1.2746, -1.0552,  1.7220],\n",
       "                         [-1.1312, -0.2202, -0.0143,  1.4858],\n",
       "                         [ 0.7722, -0.5205, -0.5121, -0.3885]],\n",
       "                \n",
       "                        [[ 0.0824, -1.2746, -1.0552,  1.7220],\n",
       "                         [-1.1312, -0.2202, -0.0143,  1.4858],\n",
       "                         [ 0.7722, -0.5205, -0.5121, -0.3885]],\n",
       "                \n",
       "                        [[ 0.0824, -1.2746, -1.0552,  1.7220],\n",
       "                         [-1.1312, -0.2202, -0.0143,  1.4858],\n",
       "                         [ 0.7722, -0.5205, -0.5121, -0.3885]],\n",
       "                \n",
       "                        [[ 0.0824, -1.2746, -1.0552,  1.7220],\n",
       "                         [-1.1312, -0.2202, -0.0143,  1.4858],\n",
       "                         [ 0.7722, -0.5205, -0.5121, -0.3885]],\n",
       "                \n",
       "                        [[ 0.0824, -1.2746, -1.0552,  1.7220],\n",
       "                         [-1.1312, -0.2202, -0.0143,  1.4858],\n",
       "                         [ 0.7722, -0.5205, -0.5121, -0.3885]],\n",
       "                \n",
       "                        [[ 0.0824, -1.2746, -1.0552,  1.7220],\n",
       "                         [-1.1312, -0.2202, -0.0143,  1.4858],\n",
       "                         [ 0.7722, -0.5205, -0.5121, -0.3885]]])"
      ]
     },
     "execution_count": 20,
     "metadata": {},
     "output_type": "execute_result"
    }
   ],
   "source": [
    "t_stack = FastTreeValue.func(subside=True)(torch.stack)\n",
    "\n",
    "t_stack(trees)"
   ]
  },
  {
   "cell_type": "code",
   "execution_count": 21,
   "id": "f8b3f415",
   "metadata": {
    "execution": {
     "iopub.execute_input": "2023-08-10T13:14:08.363715Z",
     "iopub.status.busy": "2023-08-10T13:14:08.363159Z",
     "iopub.status.idle": "2023-08-10T13:14:12.674622Z",
     "shell.execute_reply": "2023-08-10T13:14:12.672345Z"
    }
   },
   "outputs": [
    {
     "name": "stdout",
     "output_type": "stream",
     "text": [
      "53.1 µs ± 2.44 µs per loop (mean ± std. dev. of 7 runs, 10,000 loops each)\n"
     ]
    }
   ],
   "source": [
    "%timeit t_stack(trees)"
   ]
  },
  {
   "cell_type": "code",
   "execution_count": 22,
   "id": "94b56771",
   "metadata": {
    "execution": {
     "iopub.execute_input": "2023-08-10T13:14:12.680371Z",
     "iopub.status.busy": "2023-08-10T13:14:12.679882Z",
     "iopub.status.idle": "2023-08-10T13:14:12.692235Z",
     "shell.execute_reply": "2023-08-10T13:14:12.691166Z"
    }
   },
   "outputs": [
    {
     "data": {
      "text/plain": [
       "<FastTreeValue 0x7f590a55c730>\n",
       "├── 'a' --> tensor([[ 0.3114, -2.1245,  0.1693],\n",
       "│                   [-0.8827,  0.1116,  0.7627],\n",
       "│                   [ 0.3114, -2.1245,  0.1693],\n",
       "│                   [-0.8827,  0.1116,  0.7627],\n",
       "│                   [ 0.3114, -2.1245,  0.1693],\n",
       "│                   [-0.8827,  0.1116,  0.7627],\n",
       "│                   [ 0.3114, -2.1245,  0.1693],\n",
       "│                   [-0.8827,  0.1116,  0.7627],\n",
       "│                   [ 0.3114, -2.1245,  0.1693],\n",
       "│                   [-0.8827,  0.1116,  0.7627],\n",
       "│                   [ 0.3114, -2.1245,  0.1693],\n",
       "│                   [-0.8827,  0.1116,  0.7627],\n",
       "│                   [ 0.3114, -2.1245,  0.1693],\n",
       "│                   [-0.8827,  0.1116,  0.7627],\n",
       "│                   [ 0.3114, -2.1245,  0.1693],\n",
       "│                   [-0.8827,  0.1116,  0.7627]])\n",
       "└── 'x' --> <FastTreeValue 0x7f590a55c7c0>\n",
       "    └── 'c' --> tensor([[ 0.0824, -1.2746, -1.0552,  1.7220],\n",
       "                        [-1.1312, -0.2202, -0.0143,  1.4858],\n",
       "                        [ 0.7722, -0.5205, -0.5121, -0.3885],\n",
       "                        [ 0.0824, -1.2746, -1.0552,  1.7220],\n",
       "                        [-1.1312, -0.2202, -0.0143,  1.4858],\n",
       "                        [ 0.7722, -0.5205, -0.5121, -0.3885],\n",
       "                        [ 0.0824, -1.2746, -1.0552,  1.7220],\n",
       "                        [-1.1312, -0.2202, -0.0143,  1.4858],\n",
       "                        [ 0.7722, -0.5205, -0.5121, -0.3885],\n",
       "                        [ 0.0824, -1.2746, -1.0552,  1.7220],\n",
       "                        [-1.1312, -0.2202, -0.0143,  1.4858],\n",
       "                        [ 0.7722, -0.5205, -0.5121, -0.3885],\n",
       "                        [ 0.0824, -1.2746, -1.0552,  1.7220],\n",
       "                        [-1.1312, -0.2202, -0.0143,  1.4858],\n",
       "                        [ 0.7722, -0.5205, -0.5121, -0.3885],\n",
       "                        [ 0.0824, -1.2746, -1.0552,  1.7220],\n",
       "                        [-1.1312, -0.2202, -0.0143,  1.4858],\n",
       "                        [ 0.7722, -0.5205, -0.5121, -0.3885],\n",
       "                        [ 0.0824, -1.2746, -1.0552,  1.7220],\n",
       "                        [-1.1312, -0.2202, -0.0143,  1.4858],\n",
       "                        [ 0.7722, -0.5205, -0.5121, -0.3885],\n",
       "                        [ 0.0824, -1.2746, -1.0552,  1.7220],\n",
       "                        [-1.1312, -0.2202, -0.0143,  1.4858],\n",
       "                        [ 0.7722, -0.5205, -0.5121, -0.3885]])"
      ]
     },
     "execution_count": 22,
     "metadata": {},
     "output_type": "execute_result"
    }
   ],
   "source": [
    "t_cat = FastTreeValue.func(subside=True)(torch.cat)\n",
    "\n",
    "t_cat(trees)"
   ]
  },
  {
   "cell_type": "code",
   "execution_count": 23,
   "id": "5e9c06a6",
   "metadata": {
    "execution": {
     "iopub.execute_input": "2023-08-10T13:14:12.697012Z",
     "iopub.status.busy": "2023-08-10T13:14:12.696574Z",
     "iopub.status.idle": "2023-08-10T13:14:16.541688Z",
     "shell.execute_reply": "2023-08-10T13:14:16.540023Z"
    }
   },
   "outputs": [
    {
     "name": "stdout",
     "output_type": "stream",
     "text": [
      "47.2 µs ± 1.46 µs per loop (mean ± std. dev. of 7 runs, 10,000 loops each)\n"
     ]
    }
   ],
   "source": [
    "%timeit t_cat(trees)"
   ]
  },
  {
   "cell_type": "code",
   "execution_count": 24,
   "id": "a3ab5c8f",
   "metadata": {
    "execution": {
     "iopub.execute_input": "2023-08-10T13:14:16.547665Z",
     "iopub.status.busy": "2023-08-10T13:14:16.546614Z",
     "iopub.status.idle": "2023-08-10T13:14:25.023942Z",
     "shell.execute_reply": "2023-08-10T13:14:25.021869Z"
    }
   },
   "outputs": [
    {
     "name": "stdout",
     "output_type": "stream",
     "text": [
      "103 µs ± 6.4 µs per loop (mean ± std. dev. of 7 runs, 10,000 loops each)\n"
     ]
    }
   ],
   "source": [
    "t_split = FastTreeValue.func(rise=True)(torch.split)\n",
    "tree = FastTreeValue({\n",
    "    'obs': torch.randn(8, 4, 84, 84),\n",
    "    'action': torch.randint(0, 6, size=(8, 1,)),\n",
    "    'reward': torch.rand(8, 1),\n",
    "})\n",
    "\n",
    "%timeit t_split(tree, 1)"
   ]
  },
  {
   "cell_type": "markdown",
   "id": "31c3ec0b",
   "metadata": {},
   "source": [
    "### Performance of Tianshou Batch"
   ]
  },
  {
   "cell_type": "code",
   "execution_count": 25,
   "id": "9ead828a",
   "metadata": {
    "execution": {
     "iopub.execute_input": "2023-08-10T13:14:25.029550Z",
     "iopub.status.busy": "2023-08-10T13:14:25.029161Z",
     "iopub.status.idle": "2023-08-10T13:14:25.048854Z",
     "shell.execute_reply": "2023-08-10T13:14:25.047700Z"
    }
   },
   "outputs": [
    {
     "data": {
      "text/plain": [
       "Batch(\n",
       "    x: Batch(\n",
       "           c: tensor([[[ 0.0824, -1.2746, -1.0552,  1.7220],\n",
       "                       [-1.1312, -0.2202, -0.0143,  1.4858],\n",
       "                       [ 0.7722, -0.5205, -0.5121, -0.3885]],\n",
       "              \n",
       "                      [[ 0.0824, -1.2746, -1.0552,  1.7220],\n",
       "                       [-1.1312, -0.2202, -0.0143,  1.4858],\n",
       "                       [ 0.7722, -0.5205, -0.5121, -0.3885]],\n",
       "              \n",
       "                      [[ 0.0824, -1.2746, -1.0552,  1.7220],\n",
       "                       [-1.1312, -0.2202, -0.0143,  1.4858],\n",
       "                       [ 0.7722, -0.5205, -0.5121, -0.3885]],\n",
       "              \n",
       "                      [[ 0.0824, -1.2746, -1.0552,  1.7220],\n",
       "                       [-1.1312, -0.2202, -0.0143,  1.4858],\n",
       "                       [ 0.7722, -0.5205, -0.5121, -0.3885]],\n",
       "              \n",
       "                      [[ 0.0824, -1.2746, -1.0552,  1.7220],\n",
       "                       [-1.1312, -0.2202, -0.0143,  1.4858],\n",
       "                       [ 0.7722, -0.5205, -0.5121, -0.3885]],\n",
       "              \n",
       "                      [[ 0.0824, -1.2746, -1.0552,  1.7220],\n",
       "                       [-1.1312, -0.2202, -0.0143,  1.4858],\n",
       "                       [ 0.7722, -0.5205, -0.5121, -0.3885]],\n",
       "              \n",
       "                      [[ 0.0824, -1.2746, -1.0552,  1.7220],\n",
       "                       [-1.1312, -0.2202, -0.0143,  1.4858],\n",
       "                       [ 0.7722, -0.5205, -0.5121, -0.3885]],\n",
       "              \n",
       "                      [[ 0.0824, -1.2746, -1.0552,  1.7220],\n",
       "                       [-1.1312, -0.2202, -0.0143,  1.4858],\n",
       "                       [ 0.7722, -0.5205, -0.5121, -0.3885]]]),\n",
       "       ),\n",
       "    a: tensor([[[ 0.3114, -2.1245,  0.1693],\n",
       "                [-0.8827,  0.1116,  0.7627]],\n",
       "       \n",
       "               [[ 0.3114, -2.1245,  0.1693],\n",
       "                [-0.8827,  0.1116,  0.7627]],\n",
       "       \n",
       "               [[ 0.3114, -2.1245,  0.1693],\n",
       "                [-0.8827,  0.1116,  0.7627]],\n",
       "       \n",
       "               [[ 0.3114, -2.1245,  0.1693],\n",
       "                [-0.8827,  0.1116,  0.7627]],\n",
       "       \n",
       "               [[ 0.3114, -2.1245,  0.1693],\n",
       "                [-0.8827,  0.1116,  0.7627]],\n",
       "       \n",
       "               [[ 0.3114, -2.1245,  0.1693],\n",
       "                [-0.8827,  0.1116,  0.7627]],\n",
       "       \n",
       "               [[ 0.3114, -2.1245,  0.1693],\n",
       "                [-0.8827,  0.1116,  0.7627]],\n",
       "       \n",
       "               [[ 0.3114, -2.1245,  0.1693],\n",
       "                [-0.8827,  0.1116,  0.7627]]]),\n",
       ")"
      ]
     },
     "execution_count": 25,
     "metadata": {},
     "output_type": "execute_result"
    }
   ],
   "source": [
    "batches = [Batch(**_TREE_DATA_2) for _ in range(8)]\n",
    "\n",
    "Batch.stack(batches)"
   ]
  },
  {
   "cell_type": "code",
   "execution_count": 26,
   "id": "ec9037a3",
   "metadata": {
    "execution": {
     "iopub.execute_input": "2023-08-10T13:14:25.053693Z",
     "iopub.status.busy": "2023-08-10T13:14:25.053253Z",
     "iopub.status.idle": "2023-08-10T13:14:35.054526Z",
     "shell.execute_reply": "2023-08-10T13:14:35.052433Z"
    }
   },
   "outputs": [
    {
     "name": "stdout",
     "output_type": "stream",
     "text": [
      "122 µs ± 2.73 µs per loop (mean ± std. dev. of 7 runs, 10,000 loops each)\n"
     ]
    }
   ],
   "source": [
    "%timeit Batch.stack(batches)"
   ]
  },
  {
   "cell_type": "code",
   "execution_count": 27,
   "id": "cb8ab77e",
   "metadata": {
    "execution": {
     "iopub.execute_input": "2023-08-10T13:14:35.060066Z",
     "iopub.status.busy": "2023-08-10T13:14:35.059698Z",
     "iopub.status.idle": "2023-08-10T13:14:35.079054Z",
     "shell.execute_reply": "2023-08-10T13:14:35.077878Z"
    }
   },
   "outputs": [
    {
     "data": {
      "text/plain": [
       "Batch(\n",
       "    x: Batch(\n",
       "           c: tensor([[ 0.0824, -1.2746, -1.0552,  1.7220],\n",
       "                      [-1.1312, -0.2202, -0.0143,  1.4858],\n",
       "                      [ 0.7722, -0.5205, -0.5121, -0.3885],\n",
       "                      [ 0.0824, -1.2746, -1.0552,  1.7220],\n",
       "                      [-1.1312, -0.2202, -0.0143,  1.4858],\n",
       "                      [ 0.7722, -0.5205, -0.5121, -0.3885],\n",
       "                      [ 0.0824, -1.2746, -1.0552,  1.7220],\n",
       "                      [-1.1312, -0.2202, -0.0143,  1.4858],\n",
       "                      [ 0.7722, -0.5205, -0.5121, -0.3885],\n",
       "                      [ 0.0824, -1.2746, -1.0552,  1.7220],\n",
       "                      [-1.1312, -0.2202, -0.0143,  1.4858],\n",
       "                      [ 0.7722, -0.5205, -0.5121, -0.3885],\n",
       "                      [ 0.0824, -1.2746, -1.0552,  1.7220],\n",
       "                      [-1.1312, -0.2202, -0.0143,  1.4858],\n",
       "                      [ 0.7722, -0.5205, -0.5121, -0.3885],\n",
       "                      [ 0.0824, -1.2746, -1.0552,  1.7220],\n",
       "                      [-1.1312, -0.2202, -0.0143,  1.4858],\n",
       "                      [ 0.7722, -0.5205, -0.5121, -0.3885],\n",
       "                      [ 0.0824, -1.2746, -1.0552,  1.7220],\n",
       "                      [-1.1312, -0.2202, -0.0143,  1.4858],\n",
       "                      [ 0.7722, -0.5205, -0.5121, -0.3885],\n",
       "                      [ 0.0824, -1.2746, -1.0552,  1.7220],\n",
       "                      [-1.1312, -0.2202, -0.0143,  1.4858],\n",
       "                      [ 0.7722, -0.5205, -0.5121, -0.3885]]),\n",
       "       ),\n",
       "    a: tensor([[ 0.3114, -2.1245,  0.1693],\n",
       "               [-0.8827,  0.1116,  0.7627],\n",
       "               [ 0.3114, -2.1245,  0.1693],\n",
       "               [-0.8827,  0.1116,  0.7627],\n",
       "               [ 0.3114, -2.1245,  0.1693],\n",
       "               [-0.8827,  0.1116,  0.7627],\n",
       "               [ 0.3114, -2.1245,  0.1693],\n",
       "               [-0.8827,  0.1116,  0.7627],\n",
       "               [ 0.3114, -2.1245,  0.1693],\n",
       "               [-0.8827,  0.1116,  0.7627],\n",
       "               [ 0.3114, -2.1245,  0.1693],\n",
       "               [-0.8827,  0.1116,  0.7627],\n",
       "               [ 0.3114, -2.1245,  0.1693],\n",
       "               [-0.8827,  0.1116,  0.7627],\n",
       "               [ 0.3114, -2.1245,  0.1693],\n",
       "               [-0.8827,  0.1116,  0.7627]]),\n",
       ")"
      ]
     },
     "execution_count": 27,
     "metadata": {},
     "output_type": "execute_result"
    }
   ],
   "source": [
    "Batch.cat(batches)"
   ]
  },
  {
   "cell_type": "code",
   "execution_count": 28,
   "id": "18dfb045",
   "metadata": {
    "execution": {
     "iopub.execute_input": "2023-08-10T13:14:35.084053Z",
     "iopub.status.busy": "2023-08-10T13:14:35.083644Z",
     "iopub.status.idle": "2023-08-10T13:14:36.881559Z",
     "shell.execute_reply": "2023-08-10T13:14:36.879983Z"
    }
   },
   "outputs": [
    {
     "name": "stdout",
     "output_type": "stream",
     "text": [
      "222 µs ± 9.37 µs per loop (mean ± std. dev. of 7 runs, 1,000 loops each)\n"
     ]
    }
   ],
   "source": [
    "%timeit Batch.cat(batches)"
   ]
  },
  {
   "cell_type": "code",
   "execution_count": 29,
   "id": "c6688e51",
   "metadata": {
    "execution": {
     "iopub.execute_input": "2023-08-10T13:14:36.886276Z",
     "iopub.status.busy": "2023-08-10T13:14:36.885889Z",
     "iopub.status.idle": "2023-08-10T13:14:42.040885Z",
     "shell.execute_reply": "2023-08-10T13:14:42.039877Z"
    }
   },
   "outputs": [
    {
     "name": "stdout",
     "output_type": "stream",
     "text": [
      "621 µs ± 25.9 µs per loop (mean ± std. dev. of 7 runs, 1,000 loops each)\n"
     ]
    }
   ],
   "source": [
    "batch = Batch({\n",
    "    'obs': torch.randn(8, 4, 84, 84),\n",
    "    'action': torch.randint(0, 6, size=(8, 1,)),\n",
    "    'reward': torch.rand(8, 1)}\n",
    ")\n",
    "\n",
    "%timeit list(Batch.split(batch, 1, shuffle=False, merge_last=True))"
   ]
  },
  {
   "cell_type": "code",
   "execution_count": null,
   "id": "2539fbd9",
   "metadata": {},
   "outputs": [],
   "source": []
  }
 ],
 "metadata": {
  "kernelspec": {
   "display_name": "Python 3 (ipykernel)",
   "language": "python",
   "name": "python3"
  },
  "language_info": {
   "codemirror_mode": {
    "name": "ipython",
    "version": 3
   },
   "file_extension": ".py",
   "mimetype": "text/x-python",
   "name": "python",
   "nbconvert_exporter": "python",
   "pygments_lexer": "ipython3",
   "version": "3.8.17"
  }
 },
 "nbformat": 4,
 "nbformat_minor": 5
}
