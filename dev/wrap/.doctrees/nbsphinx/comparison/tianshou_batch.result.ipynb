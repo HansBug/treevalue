{
 "cells": [
  {
   "cell_type": "markdown",
   "id": "9d39d946",
   "metadata": {},
   "source": [
    "# Comparison Between TreeValue and Tianshou Batch"
   ]
  },
  {
   "cell_type": "markdown",
   "id": "3c6db2d4",
   "metadata": {},
   "source": [
    "In this section, we will take a look at the feature and performance of the [Tianshou Batch](https://github.com/thu-ml/tianshou) library, which is developed by Tsinghua Machine Learning Group."
   ]
  },
  {
   "cell_type": "markdown",
   "id": "069361b0",
   "metadata": {},
   "source": [
    "Before starting the comparison, let us define some thing."
   ]
  },
  {
   "cell_type": "code",
   "execution_count": 1,
   "id": "06fc8d26",
   "metadata": {
    "execution": {
     "iopub.execute_input": "2023-03-06T18:16:19.772814Z",
     "iopub.status.busy": "2023-03-06T18:16:19.772506Z",
     "iopub.status.idle": "2023-03-06T18:16:20.724444Z",
     "shell.execute_reply": "2023-03-06T18:16:20.723730Z"
    }
   },
   "outputs": [
    {
     "name": "stderr",
     "output_type": "stream",
     "text": [
      "/opt/hostedtoolcache/Python/3.8.16/x64/lib/python3.8/site-packages/tqdm/auto.py:21: TqdmWarning: IProgress not found. Please update jupyter and ipywidgets. See https://ipywidgets.readthedocs.io/en/stable/user_install.html\n",
      "  from .autonotebook import tqdm as notebook_tqdm\n"
     ]
    }
   ],
   "source": [
    "import torch \n",
    "\n",
    "_TREE_DATA_1 = {'a': 1, 'b': 2, 'x': {'c': 3, 'd': 4}}\n",
    "_TREE_DATA_2 = {\n",
    "    'a': torch.randn(2, 3), \n",
    "    'x': {\n",
    "        'c': torch.randn(3, 4)\n",
    "    },\n",
    "}\n",
    "_TREE_DATA_3 = {\n",
    "    'obs': torch.randn(4, 84, 84),\n",
    "    'action': torch.randint(0, 6, size=(1,)),\n",
    "    'reward': torch.rand(1),\n",
    "}"
   ]
  },
  {
   "cell_type": "markdown",
   "id": "83461b25",
   "metadata": {},
   "source": [
    "## Read and Write Operation"
   ]
  },
  {
   "cell_type": "markdown",
   "id": "067b3f73",
   "metadata": {},
   "source": [
    "Reading and writing are the two most common operations in the tree data structure based on the data model (TreeValue and Tianshou Batch both belong to this type), so this section will compare the reading and writing performance of these two libraries."
   ]
  },
  {
   "cell_type": "markdown",
   "id": "5d09a5b7",
   "metadata": {},
   "source": [
    "### TreeValue's Get and Set"
   ]
  },
  {
   "cell_type": "code",
   "execution_count": 2,
   "id": "9519c4bb",
   "metadata": {
    "execution": {
     "iopub.execute_input": "2023-03-06T18:16:20.728410Z",
     "iopub.status.busy": "2023-03-06T18:16:20.727711Z",
     "iopub.status.idle": "2023-03-06T18:16:20.762288Z",
     "shell.execute_reply": "2023-03-06T18:16:20.761629Z"
    }
   },
   "outputs": [],
   "source": [
    "from treevalue import FastTreeValue\n",
    "\n",
    "t = FastTreeValue(_TREE_DATA_2)"
   ]
  },
  {
   "cell_type": "code",
   "execution_count": 3,
   "id": "11c37677",
   "metadata": {
    "execution": {
     "iopub.execute_input": "2023-03-06T18:16:20.765743Z",
     "iopub.status.busy": "2023-03-06T18:16:20.765168Z",
     "iopub.status.idle": "2023-03-06T18:16:20.775186Z",
     "shell.execute_reply": "2023-03-06T18:16:20.774503Z"
    }
   },
   "outputs": [
    {
     "data": {
      "text/plain": [
       "<FastTreeValue 0x7fe598885f70>\n",
       "├── 'a' --> tensor([[ 1.8840,  0.6358,  0.8807],\n",
       "│                   [-0.6081,  0.6676, -0.6771]])\n",
       "└── 'x' --> <FastTreeValue 0x7fe598885e50>\n",
       "    └── 'c' --> tensor([[-0.2583, -0.4552, -1.0148,  0.1077],\n",
       "                        [-1.0593, -1.1693, -0.2817, -1.1155],\n",
       "                        [-1.3689,  0.9352,  0.0687,  1.7535]])"
      ]
     },
     "execution_count": 3,
     "metadata": {},
     "output_type": "execute_result"
    }
   ],
   "source": [
    "t"
   ]
  },
  {
   "cell_type": "code",
   "execution_count": 4,
   "id": "fd70b0b9",
   "metadata": {
    "execution": {
     "iopub.execute_input": "2023-03-06T18:16:20.777823Z",
     "iopub.status.busy": "2023-03-06T18:16:20.777453Z",
     "iopub.status.idle": "2023-03-06T18:16:20.783859Z",
     "shell.execute_reply": "2023-03-06T18:16:20.783236Z"
    }
   },
   "outputs": [
    {
     "data": {
      "text/plain": [
       "tensor([[ 1.8840,  0.6358,  0.8807],\n",
       "        [-0.6081,  0.6676, -0.6771]])"
      ]
     },
     "execution_count": 4,
     "metadata": {},
     "output_type": "execute_result"
    }
   ],
   "source": [
    "t.a"
   ]
  },
  {
   "cell_type": "code",
   "execution_count": 5,
   "id": "c18197bd",
   "metadata": {
    "execution": {
     "iopub.execute_input": "2023-03-06T18:16:20.786851Z",
     "iopub.status.busy": "2023-03-06T18:16:20.786484Z",
     "iopub.status.idle": "2023-03-06T18:16:26.084130Z",
     "shell.execute_reply": "2023-03-06T18:16:26.083345Z"
    }
   },
   "outputs": [
    {
     "name": "stdout",
     "output_type": "stream",
     "text": [
      "65.1 ns ± 0.726 ns per loop (mean ± std. dev. of 7 runs, 10,000,000 loops each)\n"
     ]
    }
   ],
   "source": [
    "%timeit t.a"
   ]
  },
  {
   "cell_type": "code",
   "execution_count": 6,
   "id": "bd52f867",
   "metadata": {
    "execution": {
     "iopub.execute_input": "2023-03-06T18:16:26.086915Z",
     "iopub.status.busy": "2023-03-06T18:16:26.086570Z",
     "iopub.status.idle": "2023-03-06T18:16:26.093228Z",
     "shell.execute_reply": "2023-03-06T18:16:26.092629Z"
    }
   },
   "outputs": [
    {
     "data": {
      "text/plain": [
       "<FastTreeValue 0x7fe598885f70>\n",
       "├── 'a' --> tensor([[-1.4477,  0.7728,  1.6120],\n",
       "│                   [-0.6420, -0.1821, -0.4794]])\n",
       "└── 'x' --> <FastTreeValue 0x7fe598885e50>\n",
       "    └── 'c' --> tensor([[-0.2583, -0.4552, -1.0148,  0.1077],\n",
       "                        [-1.0593, -1.1693, -0.2817, -1.1155],\n",
       "                        [-1.3689,  0.9352,  0.0687,  1.7535]])"
      ]
     },
     "execution_count": 6,
     "metadata": {},
     "output_type": "execute_result"
    }
   ],
   "source": [
    "new_value = torch.randn(2, 3)\n",
    "t.a = new_value\n",
    "\n",
    "t"
   ]
  },
  {
   "cell_type": "code",
   "execution_count": 7,
   "id": "bbe04d1c",
   "metadata": {
    "execution": {
     "iopub.execute_input": "2023-03-06T18:16:26.095795Z",
     "iopub.status.busy": "2023-03-06T18:16:26.095467Z",
     "iopub.status.idle": "2023-03-06T18:16:31.458059Z",
     "shell.execute_reply": "2023-03-06T18:16:31.457335Z"
    }
   },
   "outputs": [
    {
     "name": "stdout",
     "output_type": "stream",
     "text": [
      "65.7 ns ± 0.0813 ns per loop (mean ± std. dev. of 7 runs, 10,000,000 loops each)\n"
     ]
    }
   ],
   "source": [
    "%timeit t.a = new_value"
   ]
  },
  {
   "cell_type": "markdown",
   "id": "48c49731",
   "metadata": {},
   "source": [
    "### Tianshou Batch's Get and Set"
   ]
  },
  {
   "cell_type": "code",
   "execution_count": 8,
   "id": "f1bb14c1",
   "metadata": {
    "execution": {
     "iopub.execute_input": "2023-03-06T18:16:31.461122Z",
     "iopub.status.busy": "2023-03-06T18:16:31.460531Z",
     "iopub.status.idle": "2023-03-06T18:16:31.797312Z",
     "shell.execute_reply": "2023-03-06T18:16:31.796621Z"
    }
   },
   "outputs": [],
   "source": [
    "from tianshou.data import Batch\n",
    "\n",
    "b = Batch(**_TREE_DATA_2)"
   ]
  },
  {
   "cell_type": "code",
   "execution_count": 9,
   "id": "cb0777c3",
   "metadata": {
    "execution": {
     "iopub.execute_input": "2023-03-06T18:16:31.801012Z",
     "iopub.status.busy": "2023-03-06T18:16:31.800255Z",
     "iopub.status.idle": "2023-03-06T18:16:31.805885Z",
     "shell.execute_reply": "2023-03-06T18:16:31.805227Z"
    }
   },
   "outputs": [
    {
     "data": {
      "text/plain": [
       "Batch(\n",
       "    a: tensor([[ 1.8840,  0.6358,  0.8807],\n",
       "               [-0.6081,  0.6676, -0.6771]]),\n",
       "    x: Batch(\n",
       "           c: tensor([[-0.2583, -0.4552, -1.0148,  0.1077],\n",
       "                      [-1.0593, -1.1693, -0.2817, -1.1155],\n",
       "                      [-1.3689,  0.9352,  0.0687,  1.7535]]),\n",
       "       ),\n",
       ")"
      ]
     },
     "execution_count": 9,
     "metadata": {},
     "output_type": "execute_result"
    }
   ],
   "source": [
    "b"
   ]
  },
  {
   "cell_type": "code",
   "execution_count": 10,
   "id": "43ef8ea3",
   "metadata": {
    "execution": {
     "iopub.execute_input": "2023-03-06T18:16:31.808384Z",
     "iopub.status.busy": "2023-03-06T18:16:31.808041Z",
     "iopub.status.idle": "2023-03-06T18:16:31.814237Z",
     "shell.execute_reply": "2023-03-06T18:16:31.813669Z"
    }
   },
   "outputs": [
    {
     "data": {
      "text/plain": [
       "tensor([[ 1.8840,  0.6358,  0.8807],\n",
       "        [-0.6081,  0.6676, -0.6771]])"
      ]
     },
     "execution_count": 10,
     "metadata": {},
     "output_type": "execute_result"
    }
   ],
   "source": [
    "b.a"
   ]
  },
  {
   "cell_type": "code",
   "execution_count": 11,
   "id": "b785ab72",
   "metadata": {
    "execution": {
     "iopub.execute_input": "2023-03-06T18:16:31.817005Z",
     "iopub.status.busy": "2023-03-06T18:16:31.816776Z",
     "iopub.status.idle": "2023-03-06T18:16:36.376015Z",
     "shell.execute_reply": "2023-03-06T18:16:36.375347Z"
    }
   },
   "outputs": [
    {
     "name": "stdout",
     "output_type": "stream",
     "text": [
      "56.1 ns ± 0.029 ns per loop (mean ± std. dev. of 7 runs, 10,000,000 loops each)\n"
     ]
    }
   ],
   "source": [
    "%timeit b.a"
   ]
  },
  {
   "cell_type": "code",
   "execution_count": 12,
   "id": "ad54dc69",
   "metadata": {
    "execution": {
     "iopub.execute_input": "2023-03-06T18:16:36.379291Z",
     "iopub.status.busy": "2023-03-06T18:16:36.378706Z",
     "iopub.status.idle": "2023-03-06T18:16:36.385958Z",
     "shell.execute_reply": "2023-03-06T18:16:36.385356Z"
    }
   },
   "outputs": [
    {
     "data": {
      "text/plain": [
       "Batch(\n",
       "    a: tensor([[ 0.0069,  0.3632, -1.2703],\n",
       "               [ 0.5003,  0.0444,  0.9491]]),\n",
       "    x: Batch(\n",
       "           c: tensor([[-0.2583, -0.4552, -1.0148,  0.1077],\n",
       "                      [-1.0593, -1.1693, -0.2817, -1.1155],\n",
       "                      [-1.3689,  0.9352,  0.0687,  1.7535]]),\n",
       "       ),\n",
       ")"
      ]
     },
     "execution_count": 12,
     "metadata": {},
     "output_type": "execute_result"
    }
   ],
   "source": [
    "new_value = torch.randn(2, 3)\n",
    "b.a = new_value\n",
    "\n",
    "b"
   ]
  },
  {
   "cell_type": "code",
   "execution_count": 13,
   "id": "29b1d0bf",
   "metadata": {
    "execution": {
     "iopub.execute_input": "2023-03-06T18:16:36.388895Z",
     "iopub.status.busy": "2023-03-06T18:16:36.388412Z",
     "iopub.status.idle": "2023-03-06T18:16:40.348211Z",
     "shell.execute_reply": "2023-03-06T18:16:40.347504Z"
    }
   },
   "outputs": [
    {
     "name": "stdout",
     "output_type": "stream",
     "text": [
      "488 ns ± 0.0993 ns per loop (mean ± std. dev. of 7 runs, 1,000,000 loops each)\n"
     ]
    }
   ],
   "source": [
    "%timeit b.a = new_value"
   ]
  },
  {
   "cell_type": "markdown",
   "id": "b61ad1d0",
   "metadata": {},
   "source": [
    "## Initialization"
   ]
  },
  {
   "cell_type": "markdown",
   "id": "d70f0d54",
   "metadata": {},
   "source": [
    "### TreeValue's Initialization"
   ]
  },
  {
   "cell_type": "code",
   "execution_count": 14,
   "id": "d32a679b",
   "metadata": {
    "execution": {
     "iopub.execute_input": "2023-03-06T18:16:40.351652Z",
     "iopub.status.busy": "2023-03-06T18:16:40.351087Z",
     "iopub.status.idle": "2023-03-06T18:16:48.131240Z",
     "shell.execute_reply": "2023-03-06T18:16:48.130356Z"
    }
   },
   "outputs": [
    {
     "name": "stdout",
     "output_type": "stream",
     "text": [
      "958 ns ± 1.92 ns per loop (mean ± std. dev. of 7 runs, 1,000,000 loops each)\n"
     ]
    }
   ],
   "source": [
    "%timeit FastTreeValue(_TREE_DATA_1)"
   ]
  },
  {
   "cell_type": "markdown",
   "id": "24f3707b",
   "metadata": {},
   "source": [
    "### Tianshou Batch's Initialization"
   ]
  },
  {
   "cell_type": "code",
   "execution_count": 15,
   "id": "ac3958df",
   "metadata": {
    "execution": {
     "iopub.execute_input": "2023-03-06T18:16:48.134383Z",
     "iopub.status.busy": "2023-03-06T18:16:48.134021Z",
     "iopub.status.idle": "2023-03-06T18:16:57.566231Z",
     "shell.execute_reply": "2023-03-06T18:16:57.565506Z"
    }
   },
   "outputs": [
    {
     "name": "stdout",
     "output_type": "stream",
     "text": [
      "11.6 µs ± 18.3 ns per loop (mean ± std. dev. of 7 runs, 100,000 loops each)\n"
     ]
    }
   ],
   "source": [
    "%timeit Batch(**_TREE_DATA_1)"
   ]
  },
  {
   "cell_type": "markdown",
   "id": "1ab82e2d",
   "metadata": {},
   "source": [
    "## Deep Copy Operation"
   ]
  },
  {
   "cell_type": "code",
   "execution_count": 16,
   "id": "210a9442",
   "metadata": {
    "execution": {
     "iopub.execute_input": "2023-03-06T18:16:57.569464Z",
     "iopub.status.busy": "2023-03-06T18:16:57.568830Z",
     "iopub.status.idle": "2023-03-06T18:16:57.573172Z",
     "shell.execute_reply": "2023-03-06T18:16:57.572499Z"
    }
   },
   "outputs": [],
   "source": [
    "import copy"
   ]
  },
  {
   "cell_type": "markdown",
   "id": "5a736274",
   "metadata": {},
   "source": [
    "### Deep Copy of TreeValue"
   ]
  },
  {
   "cell_type": "code",
   "execution_count": 17,
   "id": "f9bcadd6",
   "metadata": {
    "execution": {
     "iopub.execute_input": "2023-03-06T18:16:57.576187Z",
     "iopub.status.busy": "2023-03-06T18:16:57.575621Z",
     "iopub.status.idle": "2023-03-06T18:17:08.803494Z",
     "shell.execute_reply": "2023-03-06T18:17:08.802895Z"
    }
   },
   "outputs": [
    {
     "name": "stdout",
     "output_type": "stream",
     "text": [
      "138 µs ± 291 ns per loop (mean ± std. dev. of 7 runs, 10,000 loops each)\n"
     ]
    }
   ],
   "source": [
    "t3 = FastTreeValue(_TREE_DATA_3)\n",
    "%timeit copy.deepcopy(t3)"
   ]
  },
  {
   "cell_type": "markdown",
   "id": "bf8be7ea",
   "metadata": {},
   "source": [
    "### Deep Copy of Tianshou Batch"
   ]
  },
  {
   "cell_type": "code",
   "execution_count": 18,
   "id": "91998e6f",
   "metadata": {
    "execution": {
     "iopub.execute_input": "2023-03-06T18:17:08.807189Z",
     "iopub.status.busy": "2023-03-06T18:17:08.806542Z",
     "iopub.status.idle": "2023-03-06T18:17:20.057064Z",
     "shell.execute_reply": "2023-03-06T18:17:20.056445Z"
    }
   },
   "outputs": [
    {
     "name": "stdout",
     "output_type": "stream",
     "text": [
      "139 µs ± 267 ns per loop (mean ± std. dev. of 7 runs, 10,000 loops each)\n"
     ]
    }
   ],
   "source": [
    "b3 = Batch(**_TREE_DATA_3)\n",
    "%timeit copy.deepcopy(b3)"
   ]
  },
  {
   "cell_type": "markdown",
   "id": "223162fb",
   "metadata": {},
   "source": [
    "## Stack, Concat and Split Operation"
   ]
  },
  {
   "cell_type": "markdown",
   "id": "85fa4a73",
   "metadata": {},
   "source": [
    "### Performance of TreeValue"
   ]
  },
  {
   "cell_type": "code",
   "execution_count": 19,
   "id": "a0c2b697",
   "metadata": {
    "execution": {
     "iopub.execute_input": "2023-03-06T18:17:20.061177Z",
     "iopub.status.busy": "2023-03-06T18:17:20.060654Z",
     "iopub.status.idle": "2023-03-06T18:17:20.064187Z",
     "shell.execute_reply": "2023-03-06T18:17:20.063615Z"
    }
   },
   "outputs": [],
   "source": [
    "trees = [FastTreeValue(_TREE_DATA_2) for _ in range(8)]"
   ]
  },
  {
   "cell_type": "code",
   "execution_count": 20,
   "id": "017ea5a5",
   "metadata": {
    "execution": {
     "iopub.execute_input": "2023-03-06T18:17:20.066826Z",
     "iopub.status.busy": "2023-03-06T18:17:20.066229Z",
     "iopub.status.idle": "2023-03-06T18:17:20.073736Z",
     "shell.execute_reply": "2023-03-06T18:17:20.073069Z"
    }
   },
   "outputs": [
    {
     "data": {
      "text/plain": [
       "<FastTreeValue 0x7fe4f316a760>\n",
       "├── 'a' --> tensor([[[ 1.8840,  0.6358,  0.8807],\n",
       "│                    [-0.6081,  0.6676, -0.6771]],\n",
       "│           \n",
       "│                   [[ 1.8840,  0.6358,  0.8807],\n",
       "│                    [-0.6081,  0.6676, -0.6771]],\n",
       "│           \n",
       "│                   [[ 1.8840,  0.6358,  0.8807],\n",
       "│                    [-0.6081,  0.6676, -0.6771]],\n",
       "│           \n",
       "│                   [[ 1.8840,  0.6358,  0.8807],\n",
       "│                    [-0.6081,  0.6676, -0.6771]],\n",
       "│           \n",
       "│                   [[ 1.8840,  0.6358,  0.8807],\n",
       "│                    [-0.6081,  0.6676, -0.6771]],\n",
       "│           \n",
       "│                   [[ 1.8840,  0.6358,  0.8807],\n",
       "│                    [-0.6081,  0.6676, -0.6771]],\n",
       "│           \n",
       "│                   [[ 1.8840,  0.6358,  0.8807],\n",
       "│                    [-0.6081,  0.6676, -0.6771]],\n",
       "│           \n",
       "│                   [[ 1.8840,  0.6358,  0.8807],\n",
       "│                    [-0.6081,  0.6676, -0.6771]]])\n",
       "└── 'x' --> <FastTreeValue 0x7fe59b949940>\n",
       "    └── 'c' --> tensor([[[-0.2583, -0.4552, -1.0148,  0.1077],\n",
       "                         [-1.0593, -1.1693, -0.2817, -1.1155],\n",
       "                         [-1.3689,  0.9352,  0.0687,  1.7535]],\n",
       "                \n",
       "                        [[-0.2583, -0.4552, -1.0148,  0.1077],\n",
       "                         [-1.0593, -1.1693, -0.2817, -1.1155],\n",
       "                         [-1.3689,  0.9352,  0.0687,  1.7535]],\n",
       "                \n",
       "                        [[-0.2583, -0.4552, -1.0148,  0.1077],\n",
       "                         [-1.0593, -1.1693, -0.2817, -1.1155],\n",
       "                         [-1.3689,  0.9352,  0.0687,  1.7535]],\n",
       "                \n",
       "                        [[-0.2583, -0.4552, -1.0148,  0.1077],\n",
       "                         [-1.0593, -1.1693, -0.2817, -1.1155],\n",
       "                         [-1.3689,  0.9352,  0.0687,  1.7535]],\n",
       "                \n",
       "                        [[-0.2583, -0.4552, -1.0148,  0.1077],\n",
       "                         [-1.0593, -1.1693, -0.2817, -1.1155],\n",
       "                         [-1.3689,  0.9352,  0.0687,  1.7535]],\n",
       "                \n",
       "                        [[-0.2583, -0.4552, -1.0148,  0.1077],\n",
       "                         [-1.0593, -1.1693, -0.2817, -1.1155],\n",
       "                         [-1.3689,  0.9352,  0.0687,  1.7535]],\n",
       "                \n",
       "                        [[-0.2583, -0.4552, -1.0148,  0.1077],\n",
       "                         [-1.0593, -1.1693, -0.2817, -1.1155],\n",
       "                         [-1.3689,  0.9352,  0.0687,  1.7535]],\n",
       "                \n",
       "                        [[-0.2583, -0.4552, -1.0148,  0.1077],\n",
       "                         [-1.0593, -1.1693, -0.2817, -1.1155],\n",
       "                         [-1.3689,  0.9352,  0.0687,  1.7535]]])"
      ]
     },
     "execution_count": 20,
     "metadata": {},
     "output_type": "execute_result"
    }
   ],
   "source": [
    "t_stack = FastTreeValue.func(subside=True)(torch.stack)\n",
    "\n",
    "t_stack(trees)"
   ]
  },
  {
   "cell_type": "code",
   "execution_count": 21,
   "id": "f8b3f415",
   "metadata": {
    "execution": {
     "iopub.execute_input": "2023-03-06T18:17:20.076332Z",
     "iopub.status.busy": "2023-03-06T18:17:20.075985Z",
     "iopub.status.idle": "2023-03-06T18:17:22.717719Z",
     "shell.execute_reply": "2023-03-06T18:17:22.716994Z"
    }
   },
   "outputs": [
    {
     "name": "stdout",
     "output_type": "stream",
     "text": [
      "32.5 µs ± 21.4 ns per loop (mean ± std. dev. of 7 runs, 10,000 loops each)\n"
     ]
    }
   ],
   "source": [
    "%timeit t_stack(trees)"
   ]
  },
  {
   "cell_type": "code",
   "execution_count": 22,
   "id": "94b56771",
   "metadata": {
    "execution": {
     "iopub.execute_input": "2023-03-06T18:17:22.720830Z",
     "iopub.status.busy": "2023-03-06T18:17:22.720453Z",
     "iopub.status.idle": "2023-03-06T18:17:22.729008Z",
     "shell.execute_reply": "2023-03-06T18:17:22.728414Z"
    }
   },
   "outputs": [
    {
     "data": {
      "text/plain": [
       "<FastTreeValue 0x7fe598885a30>\n",
       "├── 'a' --> tensor([[ 1.8840,  0.6358,  0.8807],\n",
       "│                   [-0.6081,  0.6676, -0.6771],\n",
       "│                   [ 1.8840,  0.6358,  0.8807],\n",
       "│                   [-0.6081,  0.6676, -0.6771],\n",
       "│                   [ 1.8840,  0.6358,  0.8807],\n",
       "│                   [-0.6081,  0.6676, -0.6771],\n",
       "│                   [ 1.8840,  0.6358,  0.8807],\n",
       "│                   [-0.6081,  0.6676, -0.6771],\n",
       "│                   [ 1.8840,  0.6358,  0.8807],\n",
       "│                   [-0.6081,  0.6676, -0.6771],\n",
       "│                   [ 1.8840,  0.6358,  0.8807],\n",
       "│                   [-0.6081,  0.6676, -0.6771],\n",
       "│                   [ 1.8840,  0.6358,  0.8807],\n",
       "│                   [-0.6081,  0.6676, -0.6771],\n",
       "│                   [ 1.8840,  0.6358,  0.8807],\n",
       "│                   [-0.6081,  0.6676, -0.6771]])\n",
       "└── 'x' --> <FastTreeValue 0x7fe598885e80>\n",
       "    └── 'c' --> tensor([[-0.2583, -0.4552, -1.0148,  0.1077],\n",
       "                        [-1.0593, -1.1693, -0.2817, -1.1155],\n",
       "                        [-1.3689,  0.9352,  0.0687,  1.7535],\n",
       "                        [-0.2583, -0.4552, -1.0148,  0.1077],\n",
       "                        [-1.0593, -1.1693, -0.2817, -1.1155],\n",
       "                        [-1.3689,  0.9352,  0.0687,  1.7535],\n",
       "                        [-0.2583, -0.4552, -1.0148,  0.1077],\n",
       "                        [-1.0593, -1.1693, -0.2817, -1.1155],\n",
       "                        [-1.3689,  0.9352,  0.0687,  1.7535],\n",
       "                        [-0.2583, -0.4552, -1.0148,  0.1077],\n",
       "                        [-1.0593, -1.1693, -0.2817, -1.1155],\n",
       "                        [-1.3689,  0.9352,  0.0687,  1.7535],\n",
       "                        [-0.2583, -0.4552, -1.0148,  0.1077],\n",
       "                        [-1.0593, -1.1693, -0.2817, -1.1155],\n",
       "                        [-1.3689,  0.9352,  0.0687,  1.7535],\n",
       "                        [-0.2583, -0.4552, -1.0148,  0.1077],\n",
       "                        [-1.0593, -1.1693, -0.2817, -1.1155],\n",
       "                        [-1.3689,  0.9352,  0.0687,  1.7535],\n",
       "                        [-0.2583, -0.4552, -1.0148,  0.1077],\n",
       "                        [-1.0593, -1.1693, -0.2817, -1.1155],\n",
       "                        [-1.3689,  0.9352,  0.0687,  1.7535],\n",
       "                        [-0.2583, -0.4552, -1.0148,  0.1077],\n",
       "                        [-1.0593, -1.1693, -0.2817, -1.1155],\n",
       "                        [-1.3689,  0.9352,  0.0687,  1.7535]])"
      ]
     },
     "execution_count": 22,
     "metadata": {},
     "output_type": "execute_result"
    }
   ],
   "source": [
    "t_cat = FastTreeValue.func(subside=True)(torch.cat)\n",
    "\n",
    "t_cat(trees)"
   ]
  },
  {
   "cell_type": "code",
   "execution_count": 23,
   "id": "5e9c06a6",
   "metadata": {
    "execution": {
     "iopub.execute_input": "2023-03-06T18:17:22.731539Z",
     "iopub.status.busy": "2023-03-06T18:17:22.731187Z",
     "iopub.status.idle": "2023-03-06T18:17:25.217822Z",
     "shell.execute_reply": "2023-03-06T18:17:25.217163Z"
    }
   },
   "outputs": [
    {
     "name": "stdout",
     "output_type": "stream",
     "text": [
      "30.5 µs ± 37.8 ns per loop (mean ± std. dev. of 7 runs, 10,000 loops each)\n"
     ]
    }
   ],
   "source": [
    "%timeit t_cat(trees)"
   ]
  },
  {
   "cell_type": "code",
   "execution_count": 24,
   "id": "a3ab5c8f",
   "metadata": {
    "execution": {
     "iopub.execute_input": "2023-03-06T18:17:25.220629Z",
     "iopub.status.busy": "2023-03-06T18:17:25.220248Z",
     "iopub.status.idle": "2023-03-06T18:17:30.086546Z",
     "shell.execute_reply": "2023-03-06T18:17:30.085811Z"
    }
   },
   "outputs": [
    {
     "name": "stdout",
     "output_type": "stream",
     "text": [
      "59.9 µs ± 152 ns per loop (mean ± std. dev. of 7 runs, 10,000 loops each)\n"
     ]
    }
   ],
   "source": [
    "t_split = FastTreeValue.func(rise=True)(torch.split)\n",
    "tree = FastTreeValue({\n",
    "    'obs': torch.randn(8, 4, 84, 84),\n",
    "    'action': torch.randint(0, 6, size=(8, 1,)),\n",
    "    'reward': torch.rand(8, 1),\n",
    "})\n",
    "\n",
    "%timeit t_split(tree, 1)"
   ]
  },
  {
   "cell_type": "markdown",
   "id": "31c3ec0b",
   "metadata": {},
   "source": [
    "### Performance of Tianshou Batch"
   ]
  },
  {
   "cell_type": "code",
   "execution_count": 25,
   "id": "9ead828a",
   "metadata": {
    "execution": {
     "iopub.execute_input": "2023-03-06T18:17:30.089617Z",
     "iopub.status.busy": "2023-03-06T18:17:30.089060Z",
     "iopub.status.idle": "2023-03-06T18:17:30.097033Z",
     "shell.execute_reply": "2023-03-06T18:17:30.096455Z"
    }
   },
   "outputs": [
    {
     "data": {
      "text/plain": [
       "Batch(\n",
       "    a: tensor([[[ 1.8840,  0.6358,  0.8807],\n",
       "                [-0.6081,  0.6676, -0.6771]],\n",
       "       \n",
       "               [[ 1.8840,  0.6358,  0.8807],\n",
       "                [-0.6081,  0.6676, -0.6771]],\n",
       "       \n",
       "               [[ 1.8840,  0.6358,  0.8807],\n",
       "                [-0.6081,  0.6676, -0.6771]],\n",
       "       \n",
       "               [[ 1.8840,  0.6358,  0.8807],\n",
       "                [-0.6081,  0.6676, -0.6771]],\n",
       "       \n",
       "               [[ 1.8840,  0.6358,  0.8807],\n",
       "                [-0.6081,  0.6676, -0.6771]],\n",
       "       \n",
       "               [[ 1.8840,  0.6358,  0.8807],\n",
       "                [-0.6081,  0.6676, -0.6771]],\n",
       "       \n",
       "               [[ 1.8840,  0.6358,  0.8807],\n",
       "                [-0.6081,  0.6676, -0.6771]],\n",
       "       \n",
       "               [[ 1.8840,  0.6358,  0.8807],\n",
       "                [-0.6081,  0.6676, -0.6771]]]),\n",
       "    x: Batch(\n",
       "           c: tensor([[[-0.2583, -0.4552, -1.0148,  0.1077],\n",
       "                       [-1.0593, -1.1693, -0.2817, -1.1155],\n",
       "                       [-1.3689,  0.9352,  0.0687,  1.7535]],\n",
       "              \n",
       "                      [[-0.2583, -0.4552, -1.0148,  0.1077],\n",
       "                       [-1.0593, -1.1693, -0.2817, -1.1155],\n",
       "                       [-1.3689,  0.9352,  0.0687,  1.7535]],\n",
       "              \n",
       "                      [[-0.2583, -0.4552, -1.0148,  0.1077],\n",
       "                       [-1.0593, -1.1693, -0.2817, -1.1155],\n",
       "                       [-1.3689,  0.9352,  0.0687,  1.7535]],\n",
       "              \n",
       "                      [[-0.2583, -0.4552, -1.0148,  0.1077],\n",
       "                       [-1.0593, -1.1693, -0.2817, -1.1155],\n",
       "                       [-1.3689,  0.9352,  0.0687,  1.7535]],\n",
       "              \n",
       "                      [[-0.2583, -0.4552, -1.0148,  0.1077],\n",
       "                       [-1.0593, -1.1693, -0.2817, -1.1155],\n",
       "                       [-1.3689,  0.9352,  0.0687,  1.7535]],\n",
       "              \n",
       "                      [[-0.2583, -0.4552, -1.0148,  0.1077],\n",
       "                       [-1.0593, -1.1693, -0.2817, -1.1155],\n",
       "                       [-1.3689,  0.9352,  0.0687,  1.7535]],\n",
       "              \n",
       "                      [[-0.2583, -0.4552, -1.0148,  0.1077],\n",
       "                       [-1.0593, -1.1693, -0.2817, -1.1155],\n",
       "                       [-1.3689,  0.9352,  0.0687,  1.7535]],\n",
       "              \n",
       "                      [[-0.2583, -0.4552, -1.0148,  0.1077],\n",
       "                       [-1.0593, -1.1693, -0.2817, -1.1155],\n",
       "                       [-1.3689,  0.9352,  0.0687,  1.7535]]]),\n",
       "       ),\n",
       ")"
      ]
     },
     "execution_count": 25,
     "metadata": {},
     "output_type": "execute_result"
    }
   ],
   "source": [
    "batches = [Batch(**_TREE_DATA_2) for _ in range(8)]\n",
    "\n",
    "Batch.stack(batches)"
   ]
  },
  {
   "cell_type": "code",
   "execution_count": 26,
   "id": "ec9037a3",
   "metadata": {
    "execution": {
     "iopub.execute_input": "2023-03-06T18:17:30.099459Z",
     "iopub.status.busy": "2023-03-06T18:17:30.099234Z",
     "iopub.status.idle": "2023-03-06T18:17:36.413626Z",
     "shell.execute_reply": "2023-03-06T18:17:36.412961Z"
    }
   },
   "outputs": [
    {
     "name": "stdout",
     "output_type": "stream",
     "text": [
      "77.7 µs ± 69.1 ns per loop (mean ± std. dev. of 7 runs, 10,000 loops each)\n"
     ]
    }
   ],
   "source": [
    "%timeit Batch.stack(batches)"
   ]
  },
  {
   "cell_type": "code",
   "execution_count": 27,
   "id": "cb8ab77e",
   "metadata": {
    "execution": {
     "iopub.execute_input": "2023-03-06T18:17:36.416412Z",
     "iopub.status.busy": "2023-03-06T18:17:36.415967Z",
     "iopub.status.idle": "2023-03-06T18:17:36.423469Z",
     "shell.execute_reply": "2023-03-06T18:17:36.422872Z"
    }
   },
   "outputs": [
    {
     "data": {
      "text/plain": [
       "Batch(\n",
       "    a: tensor([[ 1.8840,  0.6358,  0.8807],\n",
       "               [-0.6081,  0.6676, -0.6771],\n",
       "               [ 1.8840,  0.6358,  0.8807],\n",
       "               [-0.6081,  0.6676, -0.6771],\n",
       "               [ 1.8840,  0.6358,  0.8807],\n",
       "               [-0.6081,  0.6676, -0.6771],\n",
       "               [ 1.8840,  0.6358,  0.8807],\n",
       "               [-0.6081,  0.6676, -0.6771],\n",
       "               [ 1.8840,  0.6358,  0.8807],\n",
       "               [-0.6081,  0.6676, -0.6771],\n",
       "               [ 1.8840,  0.6358,  0.8807],\n",
       "               [-0.6081,  0.6676, -0.6771],\n",
       "               [ 1.8840,  0.6358,  0.8807],\n",
       "               [-0.6081,  0.6676, -0.6771],\n",
       "               [ 1.8840,  0.6358,  0.8807],\n",
       "               [-0.6081,  0.6676, -0.6771]]),\n",
       "    x: Batch(\n",
       "           c: tensor([[-0.2583, -0.4552, -1.0148,  0.1077],\n",
       "                      [-1.0593, -1.1693, -0.2817, -1.1155],\n",
       "                      [-1.3689,  0.9352,  0.0687,  1.7535],\n",
       "                      [-0.2583, -0.4552, -1.0148,  0.1077],\n",
       "                      [-1.0593, -1.1693, -0.2817, -1.1155],\n",
       "                      [-1.3689,  0.9352,  0.0687,  1.7535],\n",
       "                      [-0.2583, -0.4552, -1.0148,  0.1077],\n",
       "                      [-1.0593, -1.1693, -0.2817, -1.1155],\n",
       "                      [-1.3689,  0.9352,  0.0687,  1.7535],\n",
       "                      [-0.2583, -0.4552, -1.0148,  0.1077],\n",
       "                      [-1.0593, -1.1693, -0.2817, -1.1155],\n",
       "                      [-1.3689,  0.9352,  0.0687,  1.7535],\n",
       "                      [-0.2583, -0.4552, -1.0148,  0.1077],\n",
       "                      [-1.0593, -1.1693, -0.2817, -1.1155],\n",
       "                      [-1.3689,  0.9352,  0.0687,  1.7535],\n",
       "                      [-0.2583, -0.4552, -1.0148,  0.1077],\n",
       "                      [-1.0593, -1.1693, -0.2817, -1.1155],\n",
       "                      [-1.3689,  0.9352,  0.0687,  1.7535],\n",
       "                      [-0.2583, -0.4552, -1.0148,  0.1077],\n",
       "                      [-1.0593, -1.1693, -0.2817, -1.1155],\n",
       "                      [-1.3689,  0.9352,  0.0687,  1.7535],\n",
       "                      [-0.2583, -0.4552, -1.0148,  0.1077],\n",
       "                      [-1.0593, -1.1693, -0.2817, -1.1155],\n",
       "                      [-1.3689,  0.9352,  0.0687,  1.7535]]),\n",
       "       ),\n",
       ")"
      ]
     },
     "execution_count": 27,
     "metadata": {},
     "output_type": "execute_result"
    }
   ],
   "source": [
    "Batch.cat(batches)"
   ]
  },
  {
   "cell_type": "code",
   "execution_count": 28,
   "id": "18dfb045",
   "metadata": {
    "execution": {
     "iopub.execute_input": "2023-03-06T18:17:36.425928Z",
     "iopub.status.busy": "2023-03-06T18:17:36.425583Z",
     "iopub.status.idle": "2023-03-06T18:17:47.902093Z",
     "shell.execute_reply": "2023-03-06T18:17:47.901399Z"
    }
   },
   "outputs": [
    {
     "name": "stdout",
     "output_type": "stream",
     "text": [
      "141 µs ± 136 ns per loop (mean ± std. dev. of 7 runs, 10,000 loops each)\n"
     ]
    }
   ],
   "source": [
    "%timeit Batch.cat(batches)"
   ]
  },
  {
   "cell_type": "code",
   "execution_count": 29,
   "id": "c6688e51",
   "metadata": {
    "execution": {
     "iopub.execute_input": "2023-03-06T18:17:47.905152Z",
     "iopub.status.busy": "2023-03-06T18:17:47.904571Z",
     "iopub.status.idle": "2023-03-06T18:17:50.464907Z",
     "shell.execute_reply": "2023-03-06T18:17:50.464307Z"
    }
   },
   "outputs": [
    {
     "name": "stdout",
     "output_type": "stream",
     "text": [
      "315 µs ± 4.59 µs per loop (mean ± std. dev. of 7 runs, 1,000 loops each)\n"
     ]
    }
   ],
   "source": [
    "batch = Batch({\n",
    "    'obs': torch.randn(8, 4, 84, 84),\n",
    "    'action': torch.randint(0, 6, size=(8, 1,)),\n",
    "    'reward': torch.rand(8, 1)}\n",
    ")\n",
    "\n",
    "%timeit list(Batch.split(batch, 1, shuffle=False, merge_last=True))"
   ]
  },
  {
   "cell_type": "code",
   "execution_count": null,
   "id": "2539fbd9",
   "metadata": {},
   "outputs": [],
   "source": []
  }
 ],
 "metadata": {
  "kernelspec": {
   "display_name": "Python 3 (ipykernel)",
   "language": "python",
   "name": "python3"
  },
  "language_info": {
   "codemirror_mode": {
    "name": "ipython",
    "version": 3
   },
   "file_extension": ".py",
   "mimetype": "text/x-python",
   "name": "python",
   "nbconvert_exporter": "python",
   "pygments_lexer": "ipython3",
   "version": "3.8.16"
  }
 },
 "nbformat": 4,
 "nbformat_minor": 5
}
