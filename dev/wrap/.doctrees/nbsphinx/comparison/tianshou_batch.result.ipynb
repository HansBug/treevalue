{
 "cells": [
  {
   "cell_type": "markdown",
   "id": "9d39d946",
   "metadata": {},
   "source": [
    "# Comparison Between TreeValue and Tianshou Batch"
   ]
  },
  {
   "cell_type": "markdown",
   "id": "3c6db2d4",
   "metadata": {},
   "source": [
    "In this section, we will take a look at the feature and performance of the [Tianshou Batch](https://github.com/thu-ml/tianshou) library, which is developed by Tsinghua Machine Learning Group."
   ]
  },
  {
   "cell_type": "markdown",
   "id": "069361b0",
   "metadata": {},
   "source": [
    "Before starting the comparison, let us define some thing."
   ]
  },
  {
   "cell_type": "code",
   "execution_count": 1,
   "id": "06fc8d26",
   "metadata": {
    "execution": {
     "iopub.execute_input": "2023-02-27T13:26:17.641809Z",
     "iopub.status.busy": "2023-02-27T13:26:17.641246Z",
     "iopub.status.idle": "2023-02-27T13:26:18.556197Z",
     "shell.execute_reply": "2023-02-27T13:26:18.555544Z"
    }
   },
   "outputs": [
    {
     "name": "stderr",
     "output_type": "stream",
     "text": [
      "/opt/hostedtoolcache/Python/3.8.16/x64/lib/python3.8/site-packages/tqdm/auto.py:22: TqdmWarning: IProgress not found. Please update jupyter and ipywidgets. See https://ipywidgets.readthedocs.io/en/stable/user_install.html\n",
      "  from .autonotebook import tqdm as notebook_tqdm\n"
     ]
    }
   ],
   "source": [
    "import torch \n",
    "\n",
    "_TREE_DATA_1 = {'a': 1, 'b': 2, 'x': {'c': 3, 'd': 4}}\n",
    "_TREE_DATA_2 = {\n",
    "    'a': torch.randn(2, 3), \n",
    "    'x': {\n",
    "        'c': torch.randn(3, 4)\n",
    "    },\n",
    "}\n",
    "_TREE_DATA_3 = {\n",
    "    'obs': torch.randn(4, 84, 84),\n",
    "    'action': torch.randint(0, 6, size=(1,)),\n",
    "    'reward': torch.rand(1),\n",
    "}"
   ]
  },
  {
   "cell_type": "markdown",
   "id": "83461b25",
   "metadata": {},
   "source": [
    "## Read and Write Operation"
   ]
  },
  {
   "cell_type": "markdown",
   "id": "067b3f73",
   "metadata": {},
   "source": [
    "Reading and writing are the two most common operations in the tree data structure based on the data model (TreeValue and Tianshou Batch both belong to this type), so this section will compare the reading and writing performance of these two libraries."
   ]
  },
  {
   "cell_type": "markdown",
   "id": "5d09a5b7",
   "metadata": {},
   "source": [
    "### TreeValue's Get and Set"
   ]
  },
  {
   "cell_type": "code",
   "execution_count": 2,
   "id": "9519c4bb",
   "metadata": {
    "execution": {
     "iopub.execute_input": "2023-02-27T13:26:18.559667Z",
     "iopub.status.busy": "2023-02-27T13:26:18.559029Z",
     "iopub.status.idle": "2023-02-27T13:26:18.592188Z",
     "shell.execute_reply": "2023-02-27T13:26:18.591569Z"
    }
   },
   "outputs": [],
   "source": [
    "from treevalue import FastTreeValue\n",
    "\n",
    "t = FastTreeValue(_TREE_DATA_2)"
   ]
  },
  {
   "cell_type": "code",
   "execution_count": 3,
   "id": "11c37677",
   "metadata": {
    "execution": {
     "iopub.execute_input": "2023-02-27T13:26:18.595146Z",
     "iopub.status.busy": "2023-02-27T13:26:18.594576Z",
     "iopub.status.idle": "2023-02-27T13:26:18.603866Z",
     "shell.execute_reply": "2023-02-27T13:26:18.603291Z"
    }
   },
   "outputs": [
    {
     "data": {
      "text/plain": [
       "<FastTreeValue 0x7f4260e4a070>\n",
       "├── 'a' --> tensor([[ 1.5866, -0.5300, -1.0220],\n",
       "│                   [ 2.1208,  1.0100,  0.5656]])\n",
       "└── 'x' --> <FastTreeValue 0x7f4260e8bf10>\n",
       "    └── 'c' --> tensor([[-1.9281,  1.5287,  1.7789, -0.3805],\n",
       "                        [-0.2391, -0.6947, -1.4315,  0.5217],\n",
       "                        [-0.4571, -0.9997, -0.6935, -0.7640]])"
      ]
     },
     "execution_count": 3,
     "metadata": {},
     "output_type": "execute_result"
    }
   ],
   "source": [
    "t"
   ]
  },
  {
   "cell_type": "code",
   "execution_count": 4,
   "id": "fd70b0b9",
   "metadata": {
    "execution": {
     "iopub.execute_input": "2023-02-27T13:26:18.606645Z",
     "iopub.status.busy": "2023-02-27T13:26:18.606310Z",
     "iopub.status.idle": "2023-02-27T13:26:18.612194Z",
     "shell.execute_reply": "2023-02-27T13:26:18.611629Z"
    }
   },
   "outputs": [
    {
     "data": {
      "text/plain": [
       "tensor([[ 1.5866, -0.5300, -1.0220],\n",
       "        [ 2.1208,  1.0100,  0.5656]])"
      ]
     },
     "execution_count": 4,
     "metadata": {},
     "output_type": "execute_result"
    }
   ],
   "source": [
    "t.a"
   ]
  },
  {
   "cell_type": "code",
   "execution_count": 5,
   "id": "c18197bd",
   "metadata": {
    "execution": {
     "iopub.execute_input": "2023-02-27T13:26:18.615008Z",
     "iopub.status.busy": "2023-02-27T13:26:18.614541Z",
     "iopub.status.idle": "2023-02-27T13:26:23.627397Z",
     "shell.execute_reply": "2023-02-27T13:26:23.626669Z"
    }
   },
   "outputs": [
    {
     "name": "stdout",
     "output_type": "stream",
     "text": [
      "61.7 ns ± 0.0491 ns per loop (mean ± std. dev. of 7 runs, 10,000,000 loops each)\n"
     ]
    }
   ],
   "source": [
    "%timeit t.a"
   ]
  },
  {
   "cell_type": "code",
   "execution_count": 6,
   "id": "bd52f867",
   "metadata": {
    "execution": {
     "iopub.execute_input": "2023-02-27T13:26:23.630629Z",
     "iopub.status.busy": "2023-02-27T13:26:23.630107Z",
     "iopub.status.idle": "2023-02-27T13:26:23.636696Z",
     "shell.execute_reply": "2023-02-27T13:26:23.636106Z"
    }
   },
   "outputs": [
    {
     "data": {
      "text/plain": [
       "<FastTreeValue 0x7f4260e4a070>\n",
       "├── 'a' --> tensor([[ 0.9975, -0.8112,  2.1055],\n",
       "│                   [-1.2894,  1.0562, -0.4260]])\n",
       "└── 'x' --> <FastTreeValue 0x7f4260e8bf10>\n",
       "    └── 'c' --> tensor([[-1.9281,  1.5287,  1.7789, -0.3805],\n",
       "                        [-0.2391, -0.6947, -1.4315,  0.5217],\n",
       "                        [-0.4571, -0.9997, -0.6935, -0.7640]])"
      ]
     },
     "execution_count": 6,
     "metadata": {},
     "output_type": "execute_result"
    }
   ],
   "source": [
    "new_value = torch.randn(2, 3)\n",
    "t.a = new_value\n",
    "\n",
    "t"
   ]
  },
  {
   "cell_type": "code",
   "execution_count": 7,
   "id": "bbe04d1c",
   "metadata": {
    "execution": {
     "iopub.execute_input": "2023-02-27T13:26:23.639068Z",
     "iopub.status.busy": "2023-02-27T13:26:23.638845Z",
     "iopub.status.idle": "2023-02-27T13:26:29.190270Z",
     "shell.execute_reply": "2023-02-27T13:26:29.189582Z"
    }
   },
   "outputs": [
    {
     "name": "stdout",
     "output_type": "stream",
     "text": [
      "68.5 ns ± 0.0281 ns per loop (mean ± std. dev. of 7 runs, 10,000,000 loops each)\n"
     ]
    }
   ],
   "source": [
    "%timeit t.a = new_value"
   ]
  },
  {
   "cell_type": "markdown",
   "id": "48c49731",
   "metadata": {},
   "source": [
    "### Tianshou Batch's Get and Set"
   ]
  },
  {
   "cell_type": "code",
   "execution_count": 8,
   "id": "f1bb14c1",
   "metadata": {
    "execution": {
     "iopub.execute_input": "2023-02-27T13:26:29.194236Z",
     "iopub.status.busy": "2023-02-27T13:26:29.193047Z",
     "iopub.status.idle": "2023-02-27T13:26:29.526749Z",
     "shell.execute_reply": "2023-02-27T13:26:29.526061Z"
    }
   },
   "outputs": [],
   "source": [
    "from tianshou.data import Batch\n",
    "\n",
    "b = Batch(**_TREE_DATA_2)"
   ]
  },
  {
   "cell_type": "code",
   "execution_count": 9,
   "id": "cb0777c3",
   "metadata": {
    "execution": {
     "iopub.execute_input": "2023-02-27T13:26:29.529863Z",
     "iopub.status.busy": "2023-02-27T13:26:29.529331Z",
     "iopub.status.idle": "2023-02-27T13:26:29.535289Z",
     "shell.execute_reply": "2023-02-27T13:26:29.534615Z"
    }
   },
   "outputs": [
    {
     "data": {
      "text/plain": [
       "Batch(\n",
       "    a: tensor([[ 1.5866, -0.5300, -1.0220],\n",
       "               [ 2.1208,  1.0100,  0.5656]]),\n",
       "    x: Batch(\n",
       "           c: tensor([[-1.9281,  1.5287,  1.7789, -0.3805],\n",
       "                      [-0.2391, -0.6947, -1.4315,  0.5217],\n",
       "                      [-0.4571, -0.9997, -0.6935, -0.7640]]),\n",
       "       ),\n",
       ")"
      ]
     },
     "execution_count": 9,
     "metadata": {},
     "output_type": "execute_result"
    }
   ],
   "source": [
    "b"
   ]
  },
  {
   "cell_type": "code",
   "execution_count": 10,
   "id": "43ef8ea3",
   "metadata": {
    "execution": {
     "iopub.execute_input": "2023-02-27T13:26:29.538191Z",
     "iopub.status.busy": "2023-02-27T13:26:29.537816Z",
     "iopub.status.idle": "2023-02-27T13:26:29.542734Z",
     "shell.execute_reply": "2023-02-27T13:26:29.542088Z"
    }
   },
   "outputs": [
    {
     "data": {
      "text/plain": [
       "tensor([[ 1.5866, -0.5300, -1.0220],\n",
       "        [ 2.1208,  1.0100,  0.5656]])"
      ]
     },
     "execution_count": 10,
     "metadata": {},
     "output_type": "execute_result"
    }
   ],
   "source": [
    "b.a"
   ]
  },
  {
   "cell_type": "code",
   "execution_count": 11,
   "id": "b785ab72",
   "metadata": {
    "execution": {
     "iopub.execute_input": "2023-02-27T13:26:29.545295Z",
     "iopub.status.busy": "2023-02-27T13:26:29.544972Z",
     "iopub.status.idle": "2023-02-27T13:26:33.838198Z",
     "shell.execute_reply": "2023-02-27T13:26:33.837425Z"
    }
   },
   "outputs": [
    {
     "name": "stdout",
     "output_type": "stream",
     "text": [
      "52.4 ns ± 0.0817 ns per loop (mean ± std. dev. of 7 runs, 10,000,000 loops each)\n"
     ]
    }
   ],
   "source": [
    "%timeit b.a"
   ]
  },
  {
   "cell_type": "code",
   "execution_count": 12,
   "id": "ad54dc69",
   "metadata": {
    "execution": {
     "iopub.execute_input": "2023-02-27T13:26:33.841420Z",
     "iopub.status.busy": "2023-02-27T13:26:33.840935Z",
     "iopub.status.idle": "2023-02-27T13:26:33.848268Z",
     "shell.execute_reply": "2023-02-27T13:26:33.847671Z"
    }
   },
   "outputs": [
    {
     "data": {
      "text/plain": [
       "Batch(\n",
       "    a: tensor([[ 0.8699,  1.2207, -2.0784],\n",
       "               [ 1.3050, -1.3136, -0.8296]]),\n",
       "    x: Batch(\n",
       "           c: tensor([[-1.9281,  1.5287,  1.7789, -0.3805],\n",
       "                      [-0.2391, -0.6947, -1.4315,  0.5217],\n",
       "                      [-0.4571, -0.9997, -0.6935, -0.7640]]),\n",
       "       ),\n",
       ")"
      ]
     },
     "execution_count": 12,
     "metadata": {},
     "output_type": "execute_result"
    }
   ],
   "source": [
    "new_value = torch.randn(2, 3)\n",
    "b.a = new_value\n",
    "\n",
    "b"
   ]
  },
  {
   "cell_type": "code",
   "execution_count": 13,
   "id": "29b1d0bf",
   "metadata": {
    "execution": {
     "iopub.execute_input": "2023-02-27T13:26:33.851137Z",
     "iopub.status.busy": "2023-02-27T13:26:33.850665Z",
     "iopub.status.idle": "2023-02-27T13:26:37.784062Z",
     "shell.execute_reply": "2023-02-27T13:26:37.783392Z"
    }
   },
   "outputs": [
    {
     "name": "stdout",
     "output_type": "stream",
     "text": [
      "484 ns ± 0.172 ns per loop (mean ± std. dev. of 7 runs, 1,000,000 loops each)\n"
     ]
    }
   ],
   "source": [
    "%timeit b.a = new_value"
   ]
  },
  {
   "cell_type": "markdown",
   "id": "b61ad1d0",
   "metadata": {},
   "source": [
    "## Initialization"
   ]
  },
  {
   "cell_type": "markdown",
   "id": "d70f0d54",
   "metadata": {},
   "source": [
    "### TreeValue's Initialization"
   ]
  },
  {
   "cell_type": "code",
   "execution_count": 14,
   "id": "d32a679b",
   "metadata": {
    "execution": {
     "iopub.execute_input": "2023-02-27T13:26:37.787215Z",
     "iopub.status.busy": "2023-02-27T13:26:37.786852Z",
     "iopub.status.idle": "2023-02-27T13:26:44.901344Z",
     "shell.execute_reply": "2023-02-27T13:26:44.900637Z"
    }
   },
   "outputs": [
    {
     "name": "stdout",
     "output_type": "stream",
     "text": [
      "877 ns ± 7.59 ns per loop (mean ± std. dev. of 7 runs, 1,000,000 loops each)\n"
     ]
    }
   ],
   "source": [
    "%timeit FastTreeValue(_TREE_DATA_1)"
   ]
  },
  {
   "cell_type": "markdown",
   "id": "24f3707b",
   "metadata": {},
   "source": [
    "### Tianshou Batch's Initialization"
   ]
  },
  {
   "cell_type": "code",
   "execution_count": 15,
   "id": "ac3958df",
   "metadata": {
    "execution": {
     "iopub.execute_input": "2023-02-27T13:26:44.904439Z",
     "iopub.status.busy": "2023-02-27T13:26:44.903861Z",
     "iopub.status.idle": "2023-02-27T13:26:54.211549Z",
     "shell.execute_reply": "2023-02-27T13:26:54.210784Z"
    }
   },
   "outputs": [
    {
     "name": "stdout",
     "output_type": "stream",
     "text": [
      "11.5 µs ± 30.2 ns per loop (mean ± std. dev. of 7 runs, 100,000 loops each)\n"
     ]
    }
   ],
   "source": [
    "%timeit Batch(**_TREE_DATA_1)"
   ]
  },
  {
   "cell_type": "markdown",
   "id": "1ab82e2d",
   "metadata": {},
   "source": [
    "## Deep Copy Operation"
   ]
  },
  {
   "cell_type": "code",
   "execution_count": 16,
   "id": "210a9442",
   "metadata": {
    "execution": {
     "iopub.execute_input": "2023-02-27T13:26:54.214712Z",
     "iopub.status.busy": "2023-02-27T13:26:54.214350Z",
     "iopub.status.idle": "2023-02-27T13:26:54.218322Z",
     "shell.execute_reply": "2023-02-27T13:26:54.217724Z"
    }
   },
   "outputs": [],
   "source": [
    "import copy"
   ]
  },
  {
   "cell_type": "markdown",
   "id": "5a736274",
   "metadata": {},
   "source": [
    "### Deep Copy of TreeValue"
   ]
  },
  {
   "cell_type": "code",
   "execution_count": 17,
   "id": "f9bcadd6",
   "metadata": {
    "execution": {
     "iopub.execute_input": "2023-02-27T13:26:54.221319Z",
     "iopub.status.busy": "2023-02-27T13:26:54.220839Z",
     "iopub.status.idle": "2023-02-27T13:27:05.144520Z",
     "shell.execute_reply": "2023-02-27T13:27:05.143961Z"
    }
   },
   "outputs": [
    {
     "name": "stdout",
     "output_type": "stream",
     "text": [
      "134 µs ± 297 ns per loop (mean ± std. dev. of 7 runs, 10,000 loops each)\n"
     ]
    }
   ],
   "source": [
    "t3 = FastTreeValue(_TREE_DATA_3)\n",
    "%timeit copy.deepcopy(t3)"
   ]
  },
  {
   "cell_type": "markdown",
   "id": "bf8be7ea",
   "metadata": {},
   "source": [
    "### Deep Copy of Tianshou Batch"
   ]
  },
  {
   "cell_type": "code",
   "execution_count": 18,
   "id": "91998e6f",
   "metadata": {
    "execution": {
     "iopub.execute_input": "2023-02-27T13:27:05.147555Z",
     "iopub.status.busy": "2023-02-27T13:27:05.147301Z",
     "iopub.status.idle": "2023-02-27T13:27:16.215174Z",
     "shell.execute_reply": "2023-02-27T13:27:16.214572Z"
    }
   },
   "outputs": [
    {
     "name": "stdout",
     "output_type": "stream",
     "text": [
      "136 µs ± 586 ns per loop (mean ± std. dev. of 7 runs, 10,000 loops each)\n"
     ]
    }
   ],
   "source": [
    "b3 = Batch(**_TREE_DATA_3)\n",
    "%timeit copy.deepcopy(b3)"
   ]
  },
  {
   "cell_type": "markdown",
   "id": "223162fb",
   "metadata": {},
   "source": [
    "## Stack, Concat and Split Operation"
   ]
  },
  {
   "cell_type": "markdown",
   "id": "85fa4a73",
   "metadata": {},
   "source": [
    "### Performance of TreeValue"
   ]
  },
  {
   "cell_type": "code",
   "execution_count": 19,
   "id": "a0c2b697",
   "metadata": {
    "execution": {
     "iopub.execute_input": "2023-02-27T13:27:16.219174Z",
     "iopub.status.busy": "2023-02-27T13:27:16.218204Z",
     "iopub.status.idle": "2023-02-27T13:27:16.222475Z",
     "shell.execute_reply": "2023-02-27T13:27:16.221947Z"
    }
   },
   "outputs": [],
   "source": [
    "trees = [FastTreeValue(_TREE_DATA_2) for _ in range(8)]"
   ]
  },
  {
   "cell_type": "code",
   "execution_count": 20,
   "id": "017ea5a5",
   "metadata": {
    "execution": {
     "iopub.execute_input": "2023-02-27T13:27:16.226046Z",
     "iopub.status.busy": "2023-02-27T13:27:16.225142Z",
     "iopub.status.idle": "2023-02-27T13:27:16.232730Z",
     "shell.execute_reply": "2023-02-27T13:27:16.232095Z"
    }
   },
   "outputs": [
    {
     "data": {
      "text/plain": [
       "<FastTreeValue 0x7f41b5ad1c40>\n",
       "├── 'a' --> tensor([[[ 1.5866, -0.5300, -1.0220],\n",
       "│                    [ 2.1208,  1.0100,  0.5656]],\n",
       "│           \n",
       "│                   [[ 1.5866, -0.5300, -1.0220],\n",
       "│                    [ 2.1208,  1.0100,  0.5656]],\n",
       "│           \n",
       "│                   [[ 1.5866, -0.5300, -1.0220],\n",
       "│                    [ 2.1208,  1.0100,  0.5656]],\n",
       "│           \n",
       "│                   [[ 1.5866, -0.5300, -1.0220],\n",
       "│                    [ 2.1208,  1.0100,  0.5656]],\n",
       "│           \n",
       "│                   [[ 1.5866, -0.5300, -1.0220],\n",
       "│                    [ 2.1208,  1.0100,  0.5656]],\n",
       "│           \n",
       "│                   [[ 1.5866, -0.5300, -1.0220],\n",
       "│                    [ 2.1208,  1.0100,  0.5656]],\n",
       "│           \n",
       "│                   [[ 1.5866, -0.5300, -1.0220],\n",
       "│                    [ 2.1208,  1.0100,  0.5656]],\n",
       "│           \n",
       "│                   [[ 1.5866, -0.5300, -1.0220],\n",
       "│                    [ 2.1208,  1.0100,  0.5656]]])\n",
       "└── 'x' --> <FastTreeValue 0x7f4260e79e80>\n",
       "    └── 'c' --> tensor([[[-1.9281,  1.5287,  1.7789, -0.3805],\n",
       "                         [-0.2391, -0.6947, -1.4315,  0.5217],\n",
       "                         [-0.4571, -0.9997, -0.6935, -0.7640]],\n",
       "                \n",
       "                        [[-1.9281,  1.5287,  1.7789, -0.3805],\n",
       "                         [-0.2391, -0.6947, -1.4315,  0.5217],\n",
       "                         [-0.4571, -0.9997, -0.6935, -0.7640]],\n",
       "                \n",
       "                        [[-1.9281,  1.5287,  1.7789, -0.3805],\n",
       "                         [-0.2391, -0.6947, -1.4315,  0.5217],\n",
       "                         [-0.4571, -0.9997, -0.6935, -0.7640]],\n",
       "                \n",
       "                        [[-1.9281,  1.5287,  1.7789, -0.3805],\n",
       "                         [-0.2391, -0.6947, -1.4315,  0.5217],\n",
       "                         [-0.4571, -0.9997, -0.6935, -0.7640]],\n",
       "                \n",
       "                        [[-1.9281,  1.5287,  1.7789, -0.3805],\n",
       "                         [-0.2391, -0.6947, -1.4315,  0.5217],\n",
       "                         [-0.4571, -0.9997, -0.6935, -0.7640]],\n",
       "                \n",
       "                        [[-1.9281,  1.5287,  1.7789, -0.3805],\n",
       "                         [-0.2391, -0.6947, -1.4315,  0.5217],\n",
       "                         [-0.4571, -0.9997, -0.6935, -0.7640]],\n",
       "                \n",
       "                        [[-1.9281,  1.5287,  1.7789, -0.3805],\n",
       "                         [-0.2391, -0.6947, -1.4315,  0.5217],\n",
       "                         [-0.4571, -0.9997, -0.6935, -0.7640]],\n",
       "                \n",
       "                        [[-1.9281,  1.5287,  1.7789, -0.3805],\n",
       "                         [-0.2391, -0.6947, -1.4315,  0.5217],\n",
       "                         [-0.4571, -0.9997, -0.6935, -0.7640]]])"
      ]
     },
     "execution_count": 20,
     "metadata": {},
     "output_type": "execute_result"
    }
   ],
   "source": [
    "t_stack = FastTreeValue.func(subside=True)(torch.stack)\n",
    "\n",
    "t_stack(trees)"
   ]
  },
  {
   "cell_type": "code",
   "execution_count": 21,
   "id": "f8b3f415",
   "metadata": {
    "execution": {
     "iopub.execute_input": "2023-02-27T13:27:16.235397Z",
     "iopub.status.busy": "2023-02-27T13:27:16.234860Z",
     "iopub.status.idle": "2023-02-27T13:27:18.893253Z",
     "shell.execute_reply": "2023-02-27T13:27:18.892527Z"
    }
   },
   "outputs": [
    {
     "name": "stdout",
     "output_type": "stream",
     "text": [
      "32.7 µs ± 38.2 ns per loop (mean ± std. dev. of 7 runs, 10,000 loops each)\n"
     ]
    }
   ],
   "source": [
    "%timeit t_stack(trees)"
   ]
  },
  {
   "cell_type": "code",
   "execution_count": 22,
   "id": "94b56771",
   "metadata": {
    "execution": {
     "iopub.execute_input": "2023-02-27T13:27:18.896487Z",
     "iopub.status.busy": "2023-02-27T13:27:18.895967Z",
     "iopub.status.idle": "2023-02-27T13:27:18.904955Z",
     "shell.execute_reply": "2023-02-27T13:27:18.904367Z"
    }
   },
   "outputs": [
    {
     "data": {
      "text/plain": [
       "<FastTreeValue 0x7f41b5ad1ac0>\n",
       "├── 'a' --> tensor([[ 1.5866, -0.5300, -1.0220],\n",
       "│                   [ 2.1208,  1.0100,  0.5656],\n",
       "│                   [ 1.5866, -0.5300, -1.0220],\n",
       "│                   [ 2.1208,  1.0100,  0.5656],\n",
       "│                   [ 1.5866, -0.5300, -1.0220],\n",
       "│                   [ 2.1208,  1.0100,  0.5656],\n",
       "│                   [ 1.5866, -0.5300, -1.0220],\n",
       "│                   [ 2.1208,  1.0100,  0.5656],\n",
       "│                   [ 1.5866, -0.5300, -1.0220],\n",
       "│                   [ 2.1208,  1.0100,  0.5656],\n",
       "│                   [ 1.5866, -0.5300, -1.0220],\n",
       "│                   [ 2.1208,  1.0100,  0.5656],\n",
       "│                   [ 1.5866, -0.5300, -1.0220],\n",
       "│                   [ 2.1208,  1.0100,  0.5656],\n",
       "│                   [ 1.5866, -0.5300, -1.0220],\n",
       "│                   [ 2.1208,  1.0100,  0.5656]])\n",
       "└── 'x' --> <FastTreeValue 0x7f41b6247070>\n",
       "    └── 'c' --> tensor([[-1.9281,  1.5287,  1.7789, -0.3805],\n",
       "                        [-0.2391, -0.6947, -1.4315,  0.5217],\n",
       "                        [-0.4571, -0.9997, -0.6935, -0.7640],\n",
       "                        [-1.9281,  1.5287,  1.7789, -0.3805],\n",
       "                        [-0.2391, -0.6947, -1.4315,  0.5217],\n",
       "                        [-0.4571, -0.9997, -0.6935, -0.7640],\n",
       "                        [-1.9281,  1.5287,  1.7789, -0.3805],\n",
       "                        [-0.2391, -0.6947, -1.4315,  0.5217],\n",
       "                        [-0.4571, -0.9997, -0.6935, -0.7640],\n",
       "                        [-1.9281,  1.5287,  1.7789, -0.3805],\n",
       "                        [-0.2391, -0.6947, -1.4315,  0.5217],\n",
       "                        [-0.4571, -0.9997, -0.6935, -0.7640],\n",
       "                        [-1.9281,  1.5287,  1.7789, -0.3805],\n",
       "                        [-0.2391, -0.6947, -1.4315,  0.5217],\n",
       "                        [-0.4571, -0.9997, -0.6935, -0.7640],\n",
       "                        [-1.9281,  1.5287,  1.7789, -0.3805],\n",
       "                        [-0.2391, -0.6947, -1.4315,  0.5217],\n",
       "                        [-0.4571, -0.9997, -0.6935, -0.7640],\n",
       "                        [-1.9281,  1.5287,  1.7789, -0.3805],\n",
       "                        [-0.2391, -0.6947, -1.4315,  0.5217],\n",
       "                        [-0.4571, -0.9997, -0.6935, -0.7640],\n",
       "                        [-1.9281,  1.5287,  1.7789, -0.3805],\n",
       "                        [-0.2391, -0.6947, -1.4315,  0.5217],\n",
       "                        [-0.4571, -0.9997, -0.6935, -0.7640]])"
      ]
     },
     "execution_count": 22,
     "metadata": {},
     "output_type": "execute_result"
    }
   ],
   "source": [
    "t_cat = FastTreeValue.func(subside=True)(torch.cat)\n",
    "\n",
    "t_cat(trees)"
   ]
  },
  {
   "cell_type": "code",
   "execution_count": 23,
   "id": "5e9c06a6",
   "metadata": {
    "execution": {
     "iopub.execute_input": "2023-02-27T13:27:18.907946Z",
     "iopub.status.busy": "2023-02-27T13:27:18.907461Z",
     "iopub.status.idle": "2023-02-27T13:27:21.373342Z",
     "shell.execute_reply": "2023-02-27T13:27:21.372641Z"
    }
   },
   "outputs": [
    {
     "name": "stdout",
     "output_type": "stream",
     "text": [
      "30.3 µs ± 67.7 ns per loop (mean ± std. dev. of 7 runs, 10,000 loops each)\n"
     ]
    }
   ],
   "source": [
    "%timeit t_cat(trees)"
   ]
  },
  {
   "cell_type": "code",
   "execution_count": 24,
   "id": "a3ab5c8f",
   "metadata": {
    "execution": {
     "iopub.execute_input": "2023-02-27T13:27:21.376644Z",
     "iopub.status.busy": "2023-02-27T13:27:21.376083Z",
     "iopub.status.idle": "2023-02-27T13:27:25.975353Z",
     "shell.execute_reply": "2023-02-27T13:27:25.974695Z"
    }
   },
   "outputs": [
    {
     "name": "stdout",
     "output_type": "stream",
     "text": [
      "56.5 µs ± 58.7 ns per loop (mean ± std. dev. of 7 runs, 10,000 loops each)\n"
     ]
    }
   ],
   "source": [
    "t_split = FastTreeValue.func(rise=True)(torch.split)\n",
    "tree = FastTreeValue({\n",
    "    'obs': torch.randn(8, 4, 84, 84),\n",
    "    'action': torch.randint(0, 6, size=(8, 1,)),\n",
    "    'reward': torch.rand(8, 1),\n",
    "})\n",
    "\n",
    "%timeit t_split(tree, 1)"
   ]
  },
  {
   "cell_type": "markdown",
   "id": "31c3ec0b",
   "metadata": {},
   "source": [
    "### Performance of Tianshou Batch"
   ]
  },
  {
   "cell_type": "code",
   "execution_count": 25,
   "id": "9ead828a",
   "metadata": {
    "execution": {
     "iopub.execute_input": "2023-02-27T13:27:25.978609Z",
     "iopub.status.busy": "2023-02-27T13:27:25.978104Z",
     "iopub.status.idle": "2023-02-27T13:27:25.985955Z",
     "shell.execute_reply": "2023-02-27T13:27:25.985356Z"
    }
   },
   "outputs": [
    {
     "data": {
      "text/plain": [
       "Batch(\n",
       "    a: tensor([[[ 1.5866, -0.5300, -1.0220],\n",
       "                [ 2.1208,  1.0100,  0.5656]],\n",
       "       \n",
       "               [[ 1.5866, -0.5300, -1.0220],\n",
       "                [ 2.1208,  1.0100,  0.5656]],\n",
       "       \n",
       "               [[ 1.5866, -0.5300, -1.0220],\n",
       "                [ 2.1208,  1.0100,  0.5656]],\n",
       "       \n",
       "               [[ 1.5866, -0.5300, -1.0220],\n",
       "                [ 2.1208,  1.0100,  0.5656]],\n",
       "       \n",
       "               [[ 1.5866, -0.5300, -1.0220],\n",
       "                [ 2.1208,  1.0100,  0.5656]],\n",
       "       \n",
       "               [[ 1.5866, -0.5300, -1.0220],\n",
       "                [ 2.1208,  1.0100,  0.5656]],\n",
       "       \n",
       "               [[ 1.5866, -0.5300, -1.0220],\n",
       "                [ 2.1208,  1.0100,  0.5656]],\n",
       "       \n",
       "               [[ 1.5866, -0.5300, -1.0220],\n",
       "                [ 2.1208,  1.0100,  0.5656]]]),\n",
       "    x: Batch(\n",
       "           c: tensor([[[-1.9281,  1.5287,  1.7789, -0.3805],\n",
       "                       [-0.2391, -0.6947, -1.4315,  0.5217],\n",
       "                       [-0.4571, -0.9997, -0.6935, -0.7640]],\n",
       "              \n",
       "                      [[-1.9281,  1.5287,  1.7789, -0.3805],\n",
       "                       [-0.2391, -0.6947, -1.4315,  0.5217],\n",
       "                       [-0.4571, -0.9997, -0.6935, -0.7640]],\n",
       "              \n",
       "                      [[-1.9281,  1.5287,  1.7789, -0.3805],\n",
       "                       [-0.2391, -0.6947, -1.4315,  0.5217],\n",
       "                       [-0.4571, -0.9997, -0.6935, -0.7640]],\n",
       "              \n",
       "                      [[-1.9281,  1.5287,  1.7789, -0.3805],\n",
       "                       [-0.2391, -0.6947, -1.4315,  0.5217],\n",
       "                       [-0.4571, -0.9997, -0.6935, -0.7640]],\n",
       "              \n",
       "                      [[-1.9281,  1.5287,  1.7789, -0.3805],\n",
       "                       [-0.2391, -0.6947, -1.4315,  0.5217],\n",
       "                       [-0.4571, -0.9997, -0.6935, -0.7640]],\n",
       "              \n",
       "                      [[-1.9281,  1.5287,  1.7789, -0.3805],\n",
       "                       [-0.2391, -0.6947, -1.4315,  0.5217],\n",
       "                       [-0.4571, -0.9997, -0.6935, -0.7640]],\n",
       "              \n",
       "                      [[-1.9281,  1.5287,  1.7789, -0.3805],\n",
       "                       [-0.2391, -0.6947, -1.4315,  0.5217],\n",
       "                       [-0.4571, -0.9997, -0.6935, -0.7640]],\n",
       "              \n",
       "                      [[-1.9281,  1.5287,  1.7789, -0.3805],\n",
       "                       [-0.2391, -0.6947, -1.4315,  0.5217],\n",
       "                       [-0.4571, -0.9997, -0.6935, -0.7640]]]),\n",
       "       ),\n",
       ")"
      ]
     },
     "execution_count": 25,
     "metadata": {},
     "output_type": "execute_result"
    }
   ],
   "source": [
    "batches = [Batch(**_TREE_DATA_2) for _ in range(8)]\n",
    "\n",
    "Batch.stack(batches)"
   ]
  },
  {
   "cell_type": "code",
   "execution_count": 26,
   "id": "ec9037a3",
   "metadata": {
    "execution": {
     "iopub.execute_input": "2023-02-27T13:27:25.988830Z",
     "iopub.status.busy": "2023-02-27T13:27:25.988325Z",
     "iopub.status.idle": "2023-02-27T13:27:32.273109Z",
     "shell.execute_reply": "2023-02-27T13:27:32.272391Z"
    }
   },
   "outputs": [
    {
     "name": "stdout",
     "output_type": "stream",
     "text": [
      "77.3 µs ± 246 ns per loop (mean ± std. dev. of 7 runs, 10,000 loops each)\n"
     ]
    }
   ],
   "source": [
    "%timeit Batch.stack(batches)"
   ]
  },
  {
   "cell_type": "code",
   "execution_count": 27,
   "id": "cb8ab77e",
   "metadata": {
    "execution": {
     "iopub.execute_input": "2023-02-27T13:27:32.276164Z",
     "iopub.status.busy": "2023-02-27T13:27:32.275802Z",
     "iopub.status.idle": "2023-02-27T13:27:32.284268Z",
     "shell.execute_reply": "2023-02-27T13:27:32.283685Z"
    }
   },
   "outputs": [
    {
     "data": {
      "text/plain": [
       "Batch(\n",
       "    a: tensor([[ 1.5866, -0.5300, -1.0220],\n",
       "               [ 2.1208,  1.0100,  0.5656],\n",
       "               [ 1.5866, -0.5300, -1.0220],\n",
       "               [ 2.1208,  1.0100,  0.5656],\n",
       "               [ 1.5866, -0.5300, -1.0220],\n",
       "               [ 2.1208,  1.0100,  0.5656],\n",
       "               [ 1.5866, -0.5300, -1.0220],\n",
       "               [ 2.1208,  1.0100,  0.5656],\n",
       "               [ 1.5866, -0.5300, -1.0220],\n",
       "               [ 2.1208,  1.0100,  0.5656],\n",
       "               [ 1.5866, -0.5300, -1.0220],\n",
       "               [ 2.1208,  1.0100,  0.5656],\n",
       "               [ 1.5866, -0.5300, -1.0220],\n",
       "               [ 2.1208,  1.0100,  0.5656],\n",
       "               [ 1.5866, -0.5300, -1.0220],\n",
       "               [ 2.1208,  1.0100,  0.5656]]),\n",
       "    x: Batch(\n",
       "           c: tensor([[-1.9281,  1.5287,  1.7789, -0.3805],\n",
       "                      [-0.2391, -0.6947, -1.4315,  0.5217],\n",
       "                      [-0.4571, -0.9997, -0.6935, -0.7640],\n",
       "                      [-1.9281,  1.5287,  1.7789, -0.3805],\n",
       "                      [-0.2391, -0.6947, -1.4315,  0.5217],\n",
       "                      [-0.4571, -0.9997, -0.6935, -0.7640],\n",
       "                      [-1.9281,  1.5287,  1.7789, -0.3805],\n",
       "                      [-0.2391, -0.6947, -1.4315,  0.5217],\n",
       "                      [-0.4571, -0.9997, -0.6935, -0.7640],\n",
       "                      [-1.9281,  1.5287,  1.7789, -0.3805],\n",
       "                      [-0.2391, -0.6947, -1.4315,  0.5217],\n",
       "                      [-0.4571, -0.9997, -0.6935, -0.7640],\n",
       "                      [-1.9281,  1.5287,  1.7789, -0.3805],\n",
       "                      [-0.2391, -0.6947, -1.4315,  0.5217],\n",
       "                      [-0.4571, -0.9997, -0.6935, -0.7640],\n",
       "                      [-1.9281,  1.5287,  1.7789, -0.3805],\n",
       "                      [-0.2391, -0.6947, -1.4315,  0.5217],\n",
       "                      [-0.4571, -0.9997, -0.6935, -0.7640],\n",
       "                      [-1.9281,  1.5287,  1.7789, -0.3805],\n",
       "                      [-0.2391, -0.6947, -1.4315,  0.5217],\n",
       "                      [-0.4571, -0.9997, -0.6935, -0.7640],\n",
       "                      [-1.9281,  1.5287,  1.7789, -0.3805],\n",
       "                      [-0.2391, -0.6947, -1.4315,  0.5217],\n",
       "                      [-0.4571, -0.9997, -0.6935, -0.7640]]),\n",
       "       ),\n",
       ")"
      ]
     },
     "execution_count": 27,
     "metadata": {},
     "output_type": "execute_result"
    }
   ],
   "source": [
    "Batch.cat(batches)"
   ]
  },
  {
   "cell_type": "code",
   "execution_count": 28,
   "id": "18dfb045",
   "metadata": {
    "execution": {
     "iopub.execute_input": "2023-02-27T13:27:32.287147Z",
     "iopub.status.busy": "2023-02-27T13:27:32.286576Z",
     "iopub.status.idle": "2023-02-27T13:27:43.866298Z",
     "shell.execute_reply": "2023-02-27T13:27:43.865557Z"
    }
   },
   "outputs": [
    {
     "name": "stdout",
     "output_type": "stream",
     "text": [
      "143 µs ± 388 ns per loop (mean ± std. dev. of 7 runs, 10,000 loops each)\n"
     ]
    }
   ],
   "source": [
    "%timeit Batch.cat(batches)"
   ]
  },
  {
   "cell_type": "code",
   "execution_count": 29,
   "id": "c6688e51",
   "metadata": {
    "execution": {
     "iopub.execute_input": "2023-02-27T13:27:43.869463Z",
     "iopub.status.busy": "2023-02-27T13:27:43.869091Z",
     "iopub.status.idle": "2023-02-27T13:27:46.410948Z",
     "shell.execute_reply": "2023-02-27T13:27:46.410234Z"
    }
   },
   "outputs": [
    {
     "name": "stdout",
     "output_type": "stream",
     "text": [
      "312 µs ± 571 ns per loop (mean ± std. dev. of 7 runs, 1,000 loops each)\n"
     ]
    }
   ],
   "source": [
    "batch = Batch({\n",
    "    'obs': torch.randn(8, 4, 84, 84),\n",
    "    'action': torch.randint(0, 6, size=(8, 1,)),\n",
    "    'reward': torch.rand(8, 1)}\n",
    ")\n",
    "\n",
    "%timeit list(Batch.split(batch, 1, shuffle=False, merge_last=True))"
   ]
  },
  {
   "cell_type": "code",
   "execution_count": null,
   "id": "2539fbd9",
   "metadata": {},
   "outputs": [],
   "source": []
  }
 ],
 "metadata": {
  "kernelspec": {
   "display_name": "Python 3 (ipykernel)",
   "language": "python",
   "name": "python3"
  },
  "language_info": {
   "codemirror_mode": {
    "name": "ipython",
    "version": 3
   },
   "file_extension": ".py",
   "mimetype": "text/x-python",
   "name": "python",
   "nbconvert_exporter": "python",
   "pygments_lexer": "ipython3",
   "version": "3.8.16"
  }
 },
 "nbformat": 4,
 "nbformat_minor": 5
}
