{
 "cells": [
  {
   "cell_type": "markdown",
   "id": "9d39d946",
   "metadata": {},
   "source": [
    "# Comparison Between TreeValue and Tianshou Batch"
   ]
  },
  {
   "cell_type": "markdown",
   "id": "3c6db2d4",
   "metadata": {},
   "source": [
    "In this section, we will take a look at the feature and performance of the [Tianshou Batch](https://github.com/thu-ml/tianshou) library, which is developed by Tsinghua Machine Learning Group."
   ]
  },
  {
   "cell_type": "markdown",
   "id": "069361b0",
   "metadata": {},
   "source": [
    "Before starting the comparison, let us define some thing."
   ]
  },
  {
   "cell_type": "code",
   "execution_count": 1,
   "id": "06fc8d26",
   "metadata": {
    "execution": {
     "iopub.execute_input": "2023-02-26T15:57:45.368889Z",
     "iopub.status.busy": "2023-02-26T15:57:45.368637Z",
     "iopub.status.idle": "2023-02-26T15:57:46.271710Z",
     "shell.execute_reply": "2023-02-26T15:57:46.271081Z"
    }
   },
   "outputs": [
    {
     "name": "stderr",
     "output_type": "stream",
     "text": [
      "/opt/hostedtoolcache/Python/3.8.16/x64/lib/python3.8/site-packages/tqdm/auto.py:22: TqdmWarning: IProgress not found. Please update jupyter and ipywidgets. See https://ipywidgets.readthedocs.io/en/stable/user_install.html\n",
      "  from .autonotebook import tqdm as notebook_tqdm\n"
     ]
    }
   ],
   "source": [
    "import torch \n",
    "\n",
    "_TREE_DATA_1 = {'a': 1, 'b': 2, 'x': {'c': 3, 'd': 4}}\n",
    "_TREE_DATA_2 = {\n",
    "    'a': torch.randn(2, 3), \n",
    "    'x': {\n",
    "        'c': torch.randn(3, 4)\n",
    "    },\n",
    "}\n",
    "_TREE_DATA_3 = {\n",
    "    'obs': torch.randn(4, 84, 84),\n",
    "    'action': torch.randint(0, 6, size=(1,)),\n",
    "    'reward': torch.rand(1),\n",
    "}"
   ]
  },
  {
   "cell_type": "markdown",
   "id": "83461b25",
   "metadata": {},
   "source": [
    "## Read and Write Operation"
   ]
  },
  {
   "cell_type": "markdown",
   "id": "067b3f73",
   "metadata": {},
   "source": [
    "Reading and writing are the two most common operations in the tree data structure based on the data model (TreeValue and Tianshou Batch both belong to this type), so this section will compare the reading and writing performance of these two libraries."
   ]
  },
  {
   "cell_type": "markdown",
   "id": "5d09a5b7",
   "metadata": {},
   "source": [
    "### TreeValue's Get and Set"
   ]
  },
  {
   "cell_type": "code",
   "execution_count": 2,
   "id": "9519c4bb",
   "metadata": {
    "execution": {
     "iopub.execute_input": "2023-02-26T15:57:46.275062Z",
     "iopub.status.busy": "2023-02-26T15:57:46.274427Z",
     "iopub.status.idle": "2023-02-26T15:57:46.307057Z",
     "shell.execute_reply": "2023-02-26T15:57:46.306460Z"
    }
   },
   "outputs": [],
   "source": [
    "from treevalue import FastTreeValue\n",
    "\n",
    "t = FastTreeValue(_TREE_DATA_2)"
   ]
  },
  {
   "cell_type": "code",
   "execution_count": 3,
   "id": "11c37677",
   "metadata": {
    "execution": {
     "iopub.execute_input": "2023-02-26T15:57:46.309642Z",
     "iopub.status.busy": "2023-02-26T15:57:46.309294Z",
     "iopub.status.idle": "2023-02-26T15:57:46.319071Z",
     "shell.execute_reply": "2023-02-26T15:57:46.318491Z"
    }
   },
   "outputs": [
    {
     "data": {
      "text/plain": [
       "<FastTreeValue 0x7fabd018c550>\n",
       "├── 'a' --> tensor([[-0.0981, -0.1857,  0.8352],\n",
       "│                   [ 1.1619,  0.8450, -0.6291]])\n",
       "└── 'x' --> <FastTreeValue 0x7fabd018cee0>\n",
       "    └── 'c' --> tensor([[ 0.7481, -1.2031,  1.0124, -0.0324],\n",
       "                        [ 1.2301,  0.7222,  1.1921, -0.0052],\n",
       "                        [-1.1525, -1.1095,  0.3285, -0.2761]])"
      ]
     },
     "execution_count": 3,
     "metadata": {},
     "output_type": "execute_result"
    }
   ],
   "source": [
    "t"
   ]
  },
  {
   "cell_type": "code",
   "execution_count": 4,
   "id": "fd70b0b9",
   "metadata": {
    "execution": {
     "iopub.execute_input": "2023-02-26T15:57:46.321976Z",
     "iopub.status.busy": "2023-02-26T15:57:46.321469Z",
     "iopub.status.idle": "2023-02-26T15:57:46.326576Z",
     "shell.execute_reply": "2023-02-26T15:57:46.326013Z"
    }
   },
   "outputs": [
    {
     "data": {
      "text/plain": [
       "tensor([[-0.0981, -0.1857,  0.8352],\n",
       "        [ 1.1619,  0.8450, -0.6291]])"
      ]
     },
     "execution_count": 4,
     "metadata": {},
     "output_type": "execute_result"
    }
   ],
   "source": [
    "t.a"
   ]
  },
  {
   "cell_type": "code",
   "execution_count": 5,
   "id": "c18197bd",
   "metadata": {
    "execution": {
     "iopub.execute_input": "2023-02-26T15:57:46.329313Z",
     "iopub.status.busy": "2023-02-26T15:57:46.328837Z",
     "iopub.status.idle": "2023-02-26T15:57:51.387690Z",
     "shell.execute_reply": "2023-02-26T15:57:51.386840Z"
    }
   },
   "outputs": [
    {
     "name": "stdout",
     "output_type": "stream",
     "text": [
      "62.3 ns ± 0.0264 ns per loop (mean ± std. dev. of 7 runs, 10,000,000 loops each)\n"
     ]
    }
   ],
   "source": [
    "%timeit t.a"
   ]
  },
  {
   "cell_type": "code",
   "execution_count": 6,
   "id": "bd52f867",
   "metadata": {
    "execution": {
     "iopub.execute_input": "2023-02-26T15:57:51.390562Z",
     "iopub.status.busy": "2023-02-26T15:57:51.390217Z",
     "iopub.status.idle": "2023-02-26T15:57:51.396714Z",
     "shell.execute_reply": "2023-02-26T15:57:51.396143Z"
    }
   },
   "outputs": [
    {
     "data": {
      "text/plain": [
       "<FastTreeValue 0x7fabd018c550>\n",
       "├── 'a' --> tensor([[-0.2325,  0.9501,  1.1828],\n",
       "│                   [ 0.5647, -0.5311, -0.0254]])\n",
       "└── 'x' --> <FastTreeValue 0x7fabd018cee0>\n",
       "    └── 'c' --> tensor([[ 0.7481, -1.2031,  1.0124, -0.0324],\n",
       "                        [ 1.2301,  0.7222,  1.1921, -0.0052],\n",
       "                        [-1.1525, -1.1095,  0.3285, -0.2761]])"
      ]
     },
     "execution_count": 6,
     "metadata": {},
     "output_type": "execute_result"
    }
   ],
   "source": [
    "new_value = torch.randn(2, 3)\n",
    "t.a = new_value\n",
    "\n",
    "t"
   ]
  },
  {
   "cell_type": "code",
   "execution_count": 7,
   "id": "bbe04d1c",
   "metadata": {
    "execution": {
     "iopub.execute_input": "2023-02-26T15:57:51.399352Z",
     "iopub.status.busy": "2023-02-26T15:57:51.399036Z",
     "iopub.status.idle": "2023-02-26T15:57:56.850301Z",
     "shell.execute_reply": "2023-02-26T15:57:56.849594Z"
    }
   },
   "outputs": [
    {
     "name": "stdout",
     "output_type": "stream",
     "text": [
      "67 ns ± 0.0237 ns per loop (mean ± std. dev. of 7 runs, 10,000,000 loops each)\n"
     ]
    }
   ],
   "source": [
    "%timeit t.a = new_value"
   ]
  },
  {
   "cell_type": "markdown",
   "id": "48c49731",
   "metadata": {},
   "source": [
    "### Tianshou Batch's Get and Set"
   ]
  },
  {
   "cell_type": "code",
   "execution_count": 8,
   "id": "f1bb14c1",
   "metadata": {
    "execution": {
     "iopub.execute_input": "2023-02-26T15:57:56.853385Z",
     "iopub.status.busy": "2023-02-26T15:57:56.853017Z",
     "iopub.status.idle": "2023-02-26T15:57:57.179726Z",
     "shell.execute_reply": "2023-02-26T15:57:57.179058Z"
    }
   },
   "outputs": [],
   "source": [
    "from tianshou.data import Batch\n",
    "\n",
    "b = Batch(**_TREE_DATA_2)"
   ]
  },
  {
   "cell_type": "code",
   "execution_count": 9,
   "id": "cb0777c3",
   "metadata": {
    "execution": {
     "iopub.execute_input": "2023-02-26T15:57:57.182897Z",
     "iopub.status.busy": "2023-02-26T15:57:57.182292Z",
     "iopub.status.idle": "2023-02-26T15:57:57.188433Z",
     "shell.execute_reply": "2023-02-26T15:57:57.187860Z"
    }
   },
   "outputs": [
    {
     "data": {
      "text/plain": [
       "Batch(\n",
       "    a: tensor([[-0.0981, -0.1857,  0.8352],\n",
       "               [ 1.1619,  0.8450, -0.6291]]),\n",
       "    x: Batch(\n",
       "           c: tensor([[ 0.7481, -1.2031,  1.0124, -0.0324],\n",
       "                      [ 1.2301,  0.7222,  1.1921, -0.0052],\n",
       "                      [-1.1525, -1.1095,  0.3285, -0.2761]]),\n",
       "       ),\n",
       ")"
      ]
     },
     "execution_count": 9,
     "metadata": {},
     "output_type": "execute_result"
    }
   ],
   "source": [
    "b"
   ]
  },
  {
   "cell_type": "code",
   "execution_count": 10,
   "id": "43ef8ea3",
   "metadata": {
    "execution": {
     "iopub.execute_input": "2023-02-26T15:57:57.191237Z",
     "iopub.status.busy": "2023-02-26T15:57:57.190674Z",
     "iopub.status.idle": "2023-02-26T15:57:57.196362Z",
     "shell.execute_reply": "2023-02-26T15:57:57.195799Z"
    }
   },
   "outputs": [
    {
     "data": {
      "text/plain": [
       "tensor([[-0.0981, -0.1857,  0.8352],\n",
       "        [ 1.1619,  0.8450, -0.6291]])"
      ]
     },
     "execution_count": 10,
     "metadata": {},
     "output_type": "execute_result"
    }
   ],
   "source": [
    "b.a"
   ]
  },
  {
   "cell_type": "code",
   "execution_count": 11,
   "id": "b785ab72",
   "metadata": {
    "execution": {
     "iopub.execute_input": "2023-02-26T15:57:57.198841Z",
     "iopub.status.busy": "2023-02-26T15:57:57.198525Z",
     "iopub.status.idle": "2023-02-26T15:58:01.588495Z",
     "shell.execute_reply": "2023-02-26T15:58:01.587765Z"
    }
   },
   "outputs": [
    {
     "name": "stdout",
     "output_type": "stream",
     "text": [
      "54 ns ± 0.19 ns per loop (mean ± std. dev. of 7 runs, 10,000,000 loops each)\n"
     ]
    }
   ],
   "source": [
    "%timeit b.a"
   ]
  },
  {
   "cell_type": "code",
   "execution_count": 12,
   "id": "ad54dc69",
   "metadata": {
    "execution": {
     "iopub.execute_input": "2023-02-26T15:58:01.591290Z",
     "iopub.status.busy": "2023-02-26T15:58:01.590844Z",
     "iopub.status.idle": "2023-02-26T15:58:01.596527Z",
     "shell.execute_reply": "2023-02-26T15:58:01.595915Z"
    }
   },
   "outputs": [
    {
     "data": {
      "text/plain": [
       "Batch(\n",
       "    a: tensor([[ 0.4951,  0.1077, -0.4042],\n",
       "               [-1.1365, -0.3591, -0.8003]]),\n",
       "    x: Batch(\n",
       "           c: tensor([[ 0.7481, -1.2031,  1.0124, -0.0324],\n",
       "                      [ 1.2301,  0.7222,  1.1921, -0.0052],\n",
       "                      [-1.1525, -1.1095,  0.3285, -0.2761]]),\n",
       "       ),\n",
       ")"
      ]
     },
     "execution_count": 12,
     "metadata": {},
     "output_type": "execute_result"
    }
   ],
   "source": [
    "new_value = torch.randn(2, 3)\n",
    "b.a = new_value\n",
    "\n",
    "b"
   ]
  },
  {
   "cell_type": "code",
   "execution_count": 13,
   "id": "29b1d0bf",
   "metadata": {
    "execution": {
     "iopub.execute_input": "2023-02-26T15:58:01.599584Z",
     "iopub.status.busy": "2023-02-26T15:58:01.599249Z",
     "iopub.status.idle": "2023-02-26T15:58:05.524815Z",
     "shell.execute_reply": "2023-02-26T15:58:05.524103Z"
    }
   },
   "outputs": [
    {
     "name": "stdout",
     "output_type": "stream",
     "text": [
      "484 ns ± 0.179 ns per loop (mean ± std. dev. of 7 runs, 1,000,000 loops each)\n"
     ]
    }
   ],
   "source": [
    "%timeit b.a = new_value"
   ]
  },
  {
   "cell_type": "markdown",
   "id": "b61ad1d0",
   "metadata": {},
   "source": [
    "## Initialization"
   ]
  },
  {
   "cell_type": "markdown",
   "id": "d70f0d54",
   "metadata": {},
   "source": [
    "### TreeValue's Initialization"
   ]
  },
  {
   "cell_type": "code",
   "execution_count": 14,
   "id": "d32a679b",
   "metadata": {
    "execution": {
     "iopub.execute_input": "2023-02-26T15:58:05.527809Z",
     "iopub.status.busy": "2023-02-26T15:58:05.527265Z",
     "iopub.status.idle": "2023-02-26T15:58:12.846880Z",
     "shell.execute_reply": "2023-02-26T15:58:12.846247Z"
    }
   },
   "outputs": [
    {
     "name": "stdout",
     "output_type": "stream",
     "text": [
      "903 ns ± 8.5 ns per loop (mean ± std. dev. of 7 runs, 1,000,000 loops each)\n"
     ]
    }
   ],
   "source": [
    "%timeit FastTreeValue(_TREE_DATA_1)"
   ]
  },
  {
   "cell_type": "markdown",
   "id": "24f3707b",
   "metadata": {},
   "source": [
    "### Tianshou Batch's Initialization"
   ]
  },
  {
   "cell_type": "code",
   "execution_count": 15,
   "id": "ac3958df",
   "metadata": {
    "execution": {
     "iopub.execute_input": "2023-02-26T15:58:12.850183Z",
     "iopub.status.busy": "2023-02-26T15:58:12.849617Z",
     "iopub.status.idle": "2023-02-26T15:58:22.080733Z",
     "shell.execute_reply": "2023-02-26T15:58:22.080107Z"
    }
   },
   "outputs": [
    {
     "name": "stdout",
     "output_type": "stream",
     "text": [
      "11.4 µs ± 39.7 ns per loop (mean ± std. dev. of 7 runs, 100,000 loops each)\n"
     ]
    }
   ],
   "source": [
    "%timeit Batch(**_TREE_DATA_1)"
   ]
  },
  {
   "cell_type": "markdown",
   "id": "1ab82e2d",
   "metadata": {},
   "source": [
    "## Deep Copy Operation"
   ]
  },
  {
   "cell_type": "code",
   "execution_count": 16,
   "id": "210a9442",
   "metadata": {
    "execution": {
     "iopub.execute_input": "2023-02-26T15:58:22.083809Z",
     "iopub.status.busy": "2023-02-26T15:58:22.083465Z",
     "iopub.status.idle": "2023-02-26T15:58:22.087592Z",
     "shell.execute_reply": "2023-02-26T15:58:22.087009Z"
    }
   },
   "outputs": [],
   "source": [
    "import copy"
   ]
  },
  {
   "cell_type": "markdown",
   "id": "5a736274",
   "metadata": {},
   "source": [
    "### Deep Copy of TreeValue"
   ]
  },
  {
   "cell_type": "code",
   "execution_count": 17,
   "id": "f9bcadd6",
   "metadata": {
    "execution": {
     "iopub.execute_input": "2023-02-26T15:58:22.090328Z",
     "iopub.status.busy": "2023-02-26T15:58:22.090002Z",
     "iopub.status.idle": "2023-02-26T15:58:33.619084Z",
     "shell.execute_reply": "2023-02-26T15:58:33.618537Z"
    }
   },
   "outputs": [
    {
     "name": "stdout",
     "output_type": "stream",
     "text": [
      "142 µs ± 1.14 µs per loop (mean ± std. dev. of 7 runs, 10,000 loops each)\n"
     ]
    }
   ],
   "source": [
    "t3 = FastTreeValue(_TREE_DATA_3)\n",
    "%timeit copy.deepcopy(t3)"
   ]
  },
  {
   "cell_type": "markdown",
   "id": "bf8be7ea",
   "metadata": {},
   "source": [
    "### Deep Copy of Tianshou Batch"
   ]
  },
  {
   "cell_type": "code",
   "execution_count": 18,
   "id": "91998e6f",
   "metadata": {
    "execution": {
     "iopub.execute_input": "2023-02-26T15:58:33.621922Z",
     "iopub.status.busy": "2023-02-26T15:58:33.621552Z",
     "iopub.status.idle": "2023-02-26T15:58:45.494108Z",
     "shell.execute_reply": "2023-02-26T15:58:45.493432Z"
    }
   },
   "outputs": [
    {
     "name": "stdout",
     "output_type": "stream",
     "text": [
      "147 µs ± 522 ns per loop (mean ± std. dev. of 7 runs, 10,000 loops each)\n"
     ]
    }
   ],
   "source": [
    "b3 = Batch(**_TREE_DATA_3)\n",
    "%timeit copy.deepcopy(b3)"
   ]
  },
  {
   "cell_type": "markdown",
   "id": "223162fb",
   "metadata": {},
   "source": [
    "## Stack, Concat and Split Operation"
   ]
  },
  {
   "cell_type": "markdown",
   "id": "85fa4a73",
   "metadata": {},
   "source": [
    "### Performance of TreeValue"
   ]
  },
  {
   "cell_type": "code",
   "execution_count": 19,
   "id": "a0c2b697",
   "metadata": {
    "execution": {
     "iopub.execute_input": "2023-02-26T15:58:45.497293Z",
     "iopub.status.busy": "2023-02-26T15:58:45.496957Z",
     "iopub.status.idle": "2023-02-26T15:58:45.500972Z",
     "shell.execute_reply": "2023-02-26T15:58:45.500391Z"
    }
   },
   "outputs": [],
   "source": [
    "trees = [FastTreeValue(_TREE_DATA_2) for _ in range(8)]"
   ]
  },
  {
   "cell_type": "code",
   "execution_count": 20,
   "id": "017ea5a5",
   "metadata": {
    "execution": {
     "iopub.execute_input": "2023-02-26T15:58:45.504469Z",
     "iopub.status.busy": "2023-02-26T15:58:45.503437Z",
     "iopub.status.idle": "2023-02-26T15:58:45.512262Z",
     "shell.execute_reply": "2023-02-26T15:58:45.511703Z"
    }
   },
   "outputs": [
    {
     "data": {
      "text/plain": [
       "<FastTreeValue 0x7fab2ca00fa0>\n",
       "├── 'a' --> tensor([[[-0.0981, -0.1857,  0.8352],\n",
       "│                    [ 1.1619,  0.8450, -0.6291]],\n",
       "│           \n",
       "│                   [[-0.0981, -0.1857,  0.8352],\n",
       "│                    [ 1.1619,  0.8450, -0.6291]],\n",
       "│           \n",
       "│                   [[-0.0981, -0.1857,  0.8352],\n",
       "│                    [ 1.1619,  0.8450, -0.6291]],\n",
       "│           \n",
       "│                   [[-0.0981, -0.1857,  0.8352],\n",
       "│                    [ 1.1619,  0.8450, -0.6291]],\n",
       "│           \n",
       "│                   [[-0.0981, -0.1857,  0.8352],\n",
       "│                    [ 1.1619,  0.8450, -0.6291]],\n",
       "│           \n",
       "│                   [[-0.0981, -0.1857,  0.8352],\n",
       "│                    [ 1.1619,  0.8450, -0.6291]],\n",
       "│           \n",
       "│                   [[-0.0981, -0.1857,  0.8352],\n",
       "│                    [ 1.1619,  0.8450, -0.6291]],\n",
       "│           \n",
       "│                   [[-0.0981, -0.1857,  0.8352],\n",
       "│                    [ 1.1619,  0.8450, -0.6291]]])\n",
       "└── 'x' --> <FastTreeValue 0x7fab2ca00250>\n",
       "    └── 'c' --> tensor([[[ 0.7481, -1.2031,  1.0124, -0.0324],\n",
       "                         [ 1.2301,  0.7222,  1.1921, -0.0052],\n",
       "                         [-1.1525, -1.1095,  0.3285, -0.2761]],\n",
       "                \n",
       "                        [[ 0.7481, -1.2031,  1.0124, -0.0324],\n",
       "                         [ 1.2301,  0.7222,  1.1921, -0.0052],\n",
       "                         [-1.1525, -1.1095,  0.3285, -0.2761]],\n",
       "                \n",
       "                        [[ 0.7481, -1.2031,  1.0124, -0.0324],\n",
       "                         [ 1.2301,  0.7222,  1.1921, -0.0052],\n",
       "                         [-1.1525, -1.1095,  0.3285, -0.2761]],\n",
       "                \n",
       "                        [[ 0.7481, -1.2031,  1.0124, -0.0324],\n",
       "                         [ 1.2301,  0.7222,  1.1921, -0.0052],\n",
       "                         [-1.1525, -1.1095,  0.3285, -0.2761]],\n",
       "                \n",
       "                        [[ 0.7481, -1.2031,  1.0124, -0.0324],\n",
       "                         [ 1.2301,  0.7222,  1.1921, -0.0052],\n",
       "                         [-1.1525, -1.1095,  0.3285, -0.2761]],\n",
       "                \n",
       "                        [[ 0.7481, -1.2031,  1.0124, -0.0324],\n",
       "                         [ 1.2301,  0.7222,  1.1921, -0.0052],\n",
       "                         [-1.1525, -1.1095,  0.3285, -0.2761]],\n",
       "                \n",
       "                        [[ 0.7481, -1.2031,  1.0124, -0.0324],\n",
       "                         [ 1.2301,  0.7222,  1.1921, -0.0052],\n",
       "                         [-1.1525, -1.1095,  0.3285, -0.2761]],\n",
       "                \n",
       "                        [[ 0.7481, -1.2031,  1.0124, -0.0324],\n",
       "                         [ 1.2301,  0.7222,  1.1921, -0.0052],\n",
       "                         [-1.1525, -1.1095,  0.3285, -0.2761]]])"
      ]
     },
     "execution_count": 20,
     "metadata": {},
     "output_type": "execute_result"
    }
   ],
   "source": [
    "t_stack = FastTreeValue.func(subside=True)(torch.stack)\n",
    "\n",
    "t_stack(trees)"
   ]
  },
  {
   "cell_type": "code",
   "execution_count": 21,
   "id": "f8b3f415",
   "metadata": {
    "execution": {
     "iopub.execute_input": "2023-02-26T15:58:45.514814Z",
     "iopub.status.busy": "2023-02-26T15:58:45.514466Z",
     "iopub.status.idle": "2023-02-26T15:58:48.189928Z",
     "shell.execute_reply": "2023-02-26T15:58:48.189036Z"
    }
   },
   "outputs": [
    {
     "name": "stdout",
     "output_type": "stream",
     "text": [
      "32.9 µs ± 92.7 ns per loop (mean ± std. dev. of 7 runs, 10,000 loops each)\n"
     ]
    }
   ],
   "source": [
    "%timeit t_stack(trees)"
   ]
  },
  {
   "cell_type": "code",
   "execution_count": 22,
   "id": "94b56771",
   "metadata": {
    "execution": {
     "iopub.execute_input": "2023-02-26T15:58:48.193282Z",
     "iopub.status.busy": "2023-02-26T15:58:48.192698Z",
     "iopub.status.idle": "2023-02-26T15:58:48.200643Z",
     "shell.execute_reply": "2023-02-26T15:58:48.200076Z"
    }
   },
   "outputs": [
    {
     "data": {
      "text/plain": [
       "<FastTreeValue 0x7fab25df2fd0>\n",
       "├── 'a' --> tensor([[-0.0981, -0.1857,  0.8352],\n",
       "│                   [ 1.1619,  0.8450, -0.6291],\n",
       "│                   [-0.0981, -0.1857,  0.8352],\n",
       "│                   [ 1.1619,  0.8450, -0.6291],\n",
       "│                   [-0.0981, -0.1857,  0.8352],\n",
       "│                   [ 1.1619,  0.8450, -0.6291],\n",
       "│                   [-0.0981, -0.1857,  0.8352],\n",
       "│                   [ 1.1619,  0.8450, -0.6291],\n",
       "│                   [-0.0981, -0.1857,  0.8352],\n",
       "│                   [ 1.1619,  0.8450, -0.6291],\n",
       "│                   [-0.0981, -0.1857,  0.8352],\n",
       "│                   [ 1.1619,  0.8450, -0.6291],\n",
       "│                   [-0.0981, -0.1857,  0.8352],\n",
       "│                   [ 1.1619,  0.8450, -0.6291],\n",
       "│                   [-0.0981, -0.1857,  0.8352],\n",
       "│                   [ 1.1619,  0.8450, -0.6291]])\n",
       "└── 'x' --> <FastTreeValue 0x7fabd018c190>\n",
       "    └── 'c' --> tensor([[ 0.7481, -1.2031,  1.0124, -0.0324],\n",
       "                        [ 1.2301,  0.7222,  1.1921, -0.0052],\n",
       "                        [-1.1525, -1.1095,  0.3285, -0.2761],\n",
       "                        [ 0.7481, -1.2031,  1.0124, -0.0324],\n",
       "                        [ 1.2301,  0.7222,  1.1921, -0.0052],\n",
       "                        [-1.1525, -1.1095,  0.3285, -0.2761],\n",
       "                        [ 0.7481, -1.2031,  1.0124, -0.0324],\n",
       "                        [ 1.2301,  0.7222,  1.1921, -0.0052],\n",
       "                        [-1.1525, -1.1095,  0.3285, -0.2761],\n",
       "                        [ 0.7481, -1.2031,  1.0124, -0.0324],\n",
       "                        [ 1.2301,  0.7222,  1.1921, -0.0052],\n",
       "                        [-1.1525, -1.1095,  0.3285, -0.2761],\n",
       "                        [ 0.7481, -1.2031,  1.0124, -0.0324],\n",
       "                        [ 1.2301,  0.7222,  1.1921, -0.0052],\n",
       "                        [-1.1525, -1.1095,  0.3285, -0.2761],\n",
       "                        [ 0.7481, -1.2031,  1.0124, -0.0324],\n",
       "                        [ 1.2301,  0.7222,  1.1921, -0.0052],\n",
       "                        [-1.1525, -1.1095,  0.3285, -0.2761],\n",
       "                        [ 0.7481, -1.2031,  1.0124, -0.0324],\n",
       "                        [ 1.2301,  0.7222,  1.1921, -0.0052],\n",
       "                        [-1.1525, -1.1095,  0.3285, -0.2761],\n",
       "                        [ 0.7481, -1.2031,  1.0124, -0.0324],\n",
       "                        [ 1.2301,  0.7222,  1.1921, -0.0052],\n",
       "                        [-1.1525, -1.1095,  0.3285, -0.2761]])"
      ]
     },
     "execution_count": 22,
     "metadata": {},
     "output_type": "execute_result"
    }
   ],
   "source": [
    "t_cat = FastTreeValue.func(subside=True)(torch.cat)\n",
    "\n",
    "t_cat(trees)"
   ]
  },
  {
   "cell_type": "code",
   "execution_count": 23,
   "id": "5e9c06a6",
   "metadata": {
    "execution": {
     "iopub.execute_input": "2023-02-26T15:58:48.203504Z",
     "iopub.status.busy": "2023-02-26T15:58:48.203005Z",
     "iopub.status.idle": "2023-02-26T15:58:50.691720Z",
     "shell.execute_reply": "2023-02-26T15:58:50.691029Z"
    }
   },
   "outputs": [
    {
     "name": "stdout",
     "output_type": "stream",
     "text": [
      "30.6 µs ± 98 ns per loop (mean ± std. dev. of 7 runs, 10,000 loops each)\n"
     ]
    }
   ],
   "source": [
    "%timeit t_cat(trees)"
   ]
  },
  {
   "cell_type": "code",
   "execution_count": 24,
   "id": "a3ab5c8f",
   "metadata": {
    "execution": {
     "iopub.execute_input": "2023-02-26T15:58:50.694759Z",
     "iopub.status.busy": "2023-02-26T15:58:50.694409Z",
     "iopub.status.idle": "2023-02-26T15:58:55.688261Z",
     "shell.execute_reply": "2023-02-26T15:58:55.687559Z"
    }
   },
   "outputs": [
    {
     "name": "stdout",
     "output_type": "stream",
     "text": [
      "61.4 µs ± 171 ns per loop (mean ± std. dev. of 7 runs, 10,000 loops each)\n"
     ]
    }
   ],
   "source": [
    "t_split = FastTreeValue.func(rise=True)(torch.split)\n",
    "tree = FastTreeValue({\n",
    "    'obs': torch.randn(8, 4, 84, 84),\n",
    "    'action': torch.randint(0, 6, size=(8, 1,)),\n",
    "    'reward': torch.rand(8, 1),\n",
    "})\n",
    "\n",
    "%timeit t_split(tree, 1)"
   ]
  },
  {
   "cell_type": "markdown",
   "id": "31c3ec0b",
   "metadata": {},
   "source": [
    "### Performance of Tianshou Batch"
   ]
  },
  {
   "cell_type": "code",
   "execution_count": 25,
   "id": "9ead828a",
   "metadata": {
    "execution": {
     "iopub.execute_input": "2023-02-26T15:58:55.691402Z",
     "iopub.status.busy": "2023-02-26T15:58:55.691051Z",
     "iopub.status.idle": "2023-02-26T15:58:55.699424Z",
     "shell.execute_reply": "2023-02-26T15:58:55.698435Z"
    }
   },
   "outputs": [
    {
     "data": {
      "text/plain": [
       "Batch(\n",
       "    a: tensor([[[-0.0981, -0.1857,  0.8352],\n",
       "                [ 1.1619,  0.8450, -0.6291]],\n",
       "       \n",
       "               [[-0.0981, -0.1857,  0.8352],\n",
       "                [ 1.1619,  0.8450, -0.6291]],\n",
       "       \n",
       "               [[-0.0981, -0.1857,  0.8352],\n",
       "                [ 1.1619,  0.8450, -0.6291]],\n",
       "       \n",
       "               [[-0.0981, -0.1857,  0.8352],\n",
       "                [ 1.1619,  0.8450, -0.6291]],\n",
       "       \n",
       "               [[-0.0981, -0.1857,  0.8352],\n",
       "                [ 1.1619,  0.8450, -0.6291]],\n",
       "       \n",
       "               [[-0.0981, -0.1857,  0.8352],\n",
       "                [ 1.1619,  0.8450, -0.6291]],\n",
       "       \n",
       "               [[-0.0981, -0.1857,  0.8352],\n",
       "                [ 1.1619,  0.8450, -0.6291]],\n",
       "       \n",
       "               [[-0.0981, -0.1857,  0.8352],\n",
       "                [ 1.1619,  0.8450, -0.6291]]]),\n",
       "    x: Batch(\n",
       "           c: tensor([[[ 0.7481, -1.2031,  1.0124, -0.0324],\n",
       "                       [ 1.2301,  0.7222,  1.1921, -0.0052],\n",
       "                       [-1.1525, -1.1095,  0.3285, -0.2761]],\n",
       "              \n",
       "                      [[ 0.7481, -1.2031,  1.0124, -0.0324],\n",
       "                       [ 1.2301,  0.7222,  1.1921, -0.0052],\n",
       "                       [-1.1525, -1.1095,  0.3285, -0.2761]],\n",
       "              \n",
       "                      [[ 0.7481, -1.2031,  1.0124, -0.0324],\n",
       "                       [ 1.2301,  0.7222,  1.1921, -0.0052],\n",
       "                       [-1.1525, -1.1095,  0.3285, -0.2761]],\n",
       "              \n",
       "                      [[ 0.7481, -1.2031,  1.0124, -0.0324],\n",
       "                       [ 1.2301,  0.7222,  1.1921, -0.0052],\n",
       "                       [-1.1525, -1.1095,  0.3285, -0.2761]],\n",
       "              \n",
       "                      [[ 0.7481, -1.2031,  1.0124, -0.0324],\n",
       "                       [ 1.2301,  0.7222,  1.1921, -0.0052],\n",
       "                       [-1.1525, -1.1095,  0.3285, -0.2761]],\n",
       "              \n",
       "                      [[ 0.7481, -1.2031,  1.0124, -0.0324],\n",
       "                       [ 1.2301,  0.7222,  1.1921, -0.0052],\n",
       "                       [-1.1525, -1.1095,  0.3285, -0.2761]],\n",
       "              \n",
       "                      [[ 0.7481, -1.2031,  1.0124, -0.0324],\n",
       "                       [ 1.2301,  0.7222,  1.1921, -0.0052],\n",
       "                       [-1.1525, -1.1095,  0.3285, -0.2761]],\n",
       "              \n",
       "                      [[ 0.7481, -1.2031,  1.0124, -0.0324],\n",
       "                       [ 1.2301,  0.7222,  1.1921, -0.0052],\n",
       "                       [-1.1525, -1.1095,  0.3285, -0.2761]]]),\n",
       "       ),\n",
       ")"
      ]
     },
     "execution_count": 25,
     "metadata": {},
     "output_type": "execute_result"
    }
   ],
   "source": [
    "batches = [Batch(**_TREE_DATA_2) for _ in range(8)]\n",
    "\n",
    "Batch.stack(batches)"
   ]
  },
  {
   "cell_type": "code",
   "execution_count": 26,
   "id": "ec9037a3",
   "metadata": {
    "execution": {
     "iopub.execute_input": "2023-02-26T15:58:55.701818Z",
     "iopub.status.busy": "2023-02-26T15:58:55.701475Z",
     "iopub.status.idle": "2023-02-26T15:59:02.058118Z",
     "shell.execute_reply": "2023-02-26T15:59:02.057375Z"
    }
   },
   "outputs": [
    {
     "name": "stdout",
     "output_type": "stream",
     "text": [
      "78.2 µs ± 63.4 ns per loop (mean ± std. dev. of 7 runs, 10,000 loops each)\n"
     ]
    }
   ],
   "source": [
    "%timeit Batch.stack(batches)"
   ]
  },
  {
   "cell_type": "code",
   "execution_count": 27,
   "id": "cb8ab77e",
   "metadata": {
    "execution": {
     "iopub.execute_input": "2023-02-26T15:59:02.061050Z",
     "iopub.status.busy": "2023-02-26T15:59:02.060501Z",
     "iopub.status.idle": "2023-02-26T15:59:02.068175Z",
     "shell.execute_reply": "2023-02-26T15:59:02.067577Z"
    }
   },
   "outputs": [
    {
     "data": {
      "text/plain": [
       "Batch(\n",
       "    a: tensor([[-0.0981, -0.1857,  0.8352],\n",
       "               [ 1.1619,  0.8450, -0.6291],\n",
       "               [-0.0981, -0.1857,  0.8352],\n",
       "               [ 1.1619,  0.8450, -0.6291],\n",
       "               [-0.0981, -0.1857,  0.8352],\n",
       "               [ 1.1619,  0.8450, -0.6291],\n",
       "               [-0.0981, -0.1857,  0.8352],\n",
       "               [ 1.1619,  0.8450, -0.6291],\n",
       "               [-0.0981, -0.1857,  0.8352],\n",
       "               [ 1.1619,  0.8450, -0.6291],\n",
       "               [-0.0981, -0.1857,  0.8352],\n",
       "               [ 1.1619,  0.8450, -0.6291],\n",
       "               [-0.0981, -0.1857,  0.8352],\n",
       "               [ 1.1619,  0.8450, -0.6291],\n",
       "               [-0.0981, -0.1857,  0.8352],\n",
       "               [ 1.1619,  0.8450, -0.6291]]),\n",
       "    x: Batch(\n",
       "           c: tensor([[ 0.7481, -1.2031,  1.0124, -0.0324],\n",
       "                      [ 1.2301,  0.7222,  1.1921, -0.0052],\n",
       "                      [-1.1525, -1.1095,  0.3285, -0.2761],\n",
       "                      [ 0.7481, -1.2031,  1.0124, -0.0324],\n",
       "                      [ 1.2301,  0.7222,  1.1921, -0.0052],\n",
       "                      [-1.1525, -1.1095,  0.3285, -0.2761],\n",
       "                      [ 0.7481, -1.2031,  1.0124, -0.0324],\n",
       "                      [ 1.2301,  0.7222,  1.1921, -0.0052],\n",
       "                      [-1.1525, -1.1095,  0.3285, -0.2761],\n",
       "                      [ 0.7481, -1.2031,  1.0124, -0.0324],\n",
       "                      [ 1.2301,  0.7222,  1.1921, -0.0052],\n",
       "                      [-1.1525, -1.1095,  0.3285, -0.2761],\n",
       "                      [ 0.7481, -1.2031,  1.0124, -0.0324],\n",
       "                      [ 1.2301,  0.7222,  1.1921, -0.0052],\n",
       "                      [-1.1525, -1.1095,  0.3285, -0.2761],\n",
       "                      [ 0.7481, -1.2031,  1.0124, -0.0324],\n",
       "                      [ 1.2301,  0.7222,  1.1921, -0.0052],\n",
       "                      [-1.1525, -1.1095,  0.3285, -0.2761],\n",
       "                      [ 0.7481, -1.2031,  1.0124, -0.0324],\n",
       "                      [ 1.2301,  0.7222,  1.1921, -0.0052],\n",
       "                      [-1.1525, -1.1095,  0.3285, -0.2761],\n",
       "                      [ 0.7481, -1.2031,  1.0124, -0.0324],\n",
       "                      [ 1.2301,  0.7222,  1.1921, -0.0052],\n",
       "                      [-1.1525, -1.1095,  0.3285, -0.2761]]),\n",
       "       ),\n",
       ")"
      ]
     },
     "execution_count": 27,
     "metadata": {},
     "output_type": "execute_result"
    }
   ],
   "source": [
    "Batch.cat(batches)"
   ]
  },
  {
   "cell_type": "code",
   "execution_count": 28,
   "id": "18dfb045",
   "metadata": {
    "execution": {
     "iopub.execute_input": "2023-02-26T15:59:02.070786Z",
     "iopub.status.busy": "2023-02-26T15:59:02.070251Z",
     "iopub.status.idle": "2023-02-26T15:59:13.833160Z",
     "shell.execute_reply": "2023-02-26T15:59:13.832464Z"
    }
   },
   "outputs": [
    {
     "name": "stdout",
     "output_type": "stream",
     "text": [
      "145 µs ± 415 ns per loop (mean ± std. dev. of 7 runs, 10,000 loops each)\n"
     ]
    }
   ],
   "source": [
    "%timeit Batch.cat(batches)"
   ]
  },
  {
   "cell_type": "code",
   "execution_count": 29,
   "id": "c6688e51",
   "metadata": {
    "execution": {
     "iopub.execute_input": "2023-02-26T15:59:13.836237Z",
     "iopub.status.busy": "2023-02-26T15:59:13.835889Z",
     "iopub.status.idle": "2023-02-26T15:59:16.357737Z",
     "shell.execute_reply": "2023-02-26T15:59:16.357162Z"
    }
   },
   "outputs": [
    {
     "name": "stdout",
     "output_type": "stream",
     "text": [
      "310 µs ± 781 ns per loop (mean ± std. dev. of 7 runs, 1,000 loops each)\n"
     ]
    }
   ],
   "source": [
    "batch = Batch({\n",
    "    'obs': torch.randn(8, 4, 84, 84),\n",
    "    'action': torch.randint(0, 6, size=(8, 1,)),\n",
    "    'reward': torch.rand(8, 1)}\n",
    ")\n",
    "\n",
    "%timeit list(Batch.split(batch, 1, shuffle=False, merge_last=True))"
   ]
  },
  {
   "cell_type": "code",
   "execution_count": null,
   "id": "2539fbd9",
   "metadata": {},
   "outputs": [],
   "source": []
  }
 ],
 "metadata": {
  "kernelspec": {
   "display_name": "Python 3 (ipykernel)",
   "language": "python",
   "name": "python3"
  },
  "language_info": {
   "codemirror_mode": {
    "name": "ipython",
    "version": 3
   },
   "file_extension": ".py",
   "mimetype": "text/x-python",
   "name": "python",
   "nbconvert_exporter": "python",
   "pygments_lexer": "ipython3",
   "version": "3.8.16"
  }
 },
 "nbformat": 4,
 "nbformat_minor": 5
}
