{
 "cells": [
  {
   "cell_type": "markdown",
   "id": "9d39d946",
   "metadata": {},
   "source": [
    "# Comparison Between TreeValue and Tianshou Batch"
   ]
  },
  {
   "cell_type": "markdown",
   "id": "3c6db2d4",
   "metadata": {},
   "source": [
    "In this section, we will take a look at the feature and performance of the [Tianshou Batch](https://github.com/thu-ml/tianshou) library, which is developed by Tsinghua Machine Learning Group."
   ]
  },
  {
   "cell_type": "markdown",
   "id": "069361b0",
   "metadata": {},
   "source": [
    "Before starting the comparison, let us define some thing."
   ]
  },
  {
   "cell_type": "code",
   "execution_count": 1,
   "id": "06fc8d26",
   "metadata": {
    "execution": {
     "iopub.execute_input": "2023-02-26T15:02:07.392544Z",
     "iopub.status.busy": "2023-02-26T15:02:07.391915Z",
     "iopub.status.idle": "2023-02-26T15:02:08.320598Z",
     "shell.execute_reply": "2023-02-26T15:02:08.319942Z"
    }
   },
   "outputs": [
    {
     "name": "stderr",
     "output_type": "stream",
     "text": [
      "/opt/hostedtoolcache/Python/3.8.16/x64/lib/python3.8/site-packages/tqdm/auto.py:22: TqdmWarning: IProgress not found. Please update jupyter and ipywidgets. See https://ipywidgets.readthedocs.io/en/stable/user_install.html\n",
      "  from .autonotebook import tqdm as notebook_tqdm\n"
     ]
    }
   ],
   "source": [
    "import torch \n",
    "\n",
    "_TREE_DATA_1 = {'a': 1, 'b': 2, 'x': {'c': 3, 'd': 4}}\n",
    "_TREE_DATA_2 = {\n",
    "    'a': torch.randn(2, 3), \n",
    "    'x': {\n",
    "        'c': torch.randn(3, 4)\n",
    "    },\n",
    "}\n",
    "_TREE_DATA_3 = {\n",
    "    'obs': torch.randn(4, 84, 84),\n",
    "    'action': torch.randint(0, 6, size=(1,)),\n",
    "    'reward': torch.rand(1),\n",
    "}"
   ]
  },
  {
   "cell_type": "markdown",
   "id": "83461b25",
   "metadata": {},
   "source": [
    "## Read and Write Operation"
   ]
  },
  {
   "cell_type": "markdown",
   "id": "067b3f73",
   "metadata": {},
   "source": [
    "Reading and writing are the two most common operations in the tree data structure based on the data model (TreeValue and Tianshou Batch both belong to this type), so this section will compare the reading and writing performance of these two libraries."
   ]
  },
  {
   "cell_type": "markdown",
   "id": "5d09a5b7",
   "metadata": {},
   "source": [
    "### TreeValue's Get and Set"
   ]
  },
  {
   "cell_type": "code",
   "execution_count": 2,
   "id": "9519c4bb",
   "metadata": {
    "execution": {
     "iopub.execute_input": "2023-02-26T15:02:08.324182Z",
     "iopub.status.busy": "2023-02-26T15:02:08.323672Z",
     "iopub.status.idle": "2023-02-26T15:02:08.357136Z",
     "shell.execute_reply": "2023-02-26T15:02:08.356463Z"
    }
   },
   "outputs": [],
   "source": [
    "from treevalue import FastTreeValue\n",
    "\n",
    "t = FastTreeValue(_TREE_DATA_2)"
   ]
  },
  {
   "cell_type": "code",
   "execution_count": 3,
   "id": "11c37677",
   "metadata": {
    "execution": {
     "iopub.execute_input": "2023-02-26T15:02:08.360541Z",
     "iopub.status.busy": "2023-02-26T15:02:08.359984Z",
     "iopub.status.idle": "2023-02-26T15:02:08.369426Z",
     "shell.execute_reply": "2023-02-26T15:02:08.368833Z"
    }
   },
   "outputs": [
    {
     "data": {
      "text/plain": [
       "<FastTreeValue 0x7f69045d53a0>\n",
       "├── 'a' --> tensor([[ 1.1653,  0.7952, -0.1437],\n",
       "│                   [-0.9115,  0.1096, -0.2945]])\n",
       "└── 'x' --> <FastTreeValue 0x7f690464e9d0>\n",
       "    └── 'c' --> tensor([[ 1.5585, -1.3677,  0.8756, -1.9274],\n",
       "                        [-0.2258,  1.0299, -0.3397,  0.6682],\n",
       "                        [ 0.1623, -0.6909,  0.8866, -0.2236]])"
      ]
     },
     "execution_count": 3,
     "metadata": {},
     "output_type": "execute_result"
    }
   ],
   "source": [
    "t"
   ]
  },
  {
   "cell_type": "code",
   "execution_count": 4,
   "id": "fd70b0b9",
   "metadata": {
    "execution": {
     "iopub.execute_input": "2023-02-26T15:02:08.372136Z",
     "iopub.status.busy": "2023-02-26T15:02:08.371773Z",
     "iopub.status.idle": "2023-02-26T15:02:08.376796Z",
     "shell.execute_reply": "2023-02-26T15:02:08.376156Z"
    }
   },
   "outputs": [
    {
     "data": {
      "text/plain": [
       "tensor([[ 1.1653,  0.7952, -0.1437],\n",
       "        [-0.9115,  0.1096, -0.2945]])"
      ]
     },
     "execution_count": 4,
     "metadata": {},
     "output_type": "execute_result"
    }
   ],
   "source": [
    "t.a"
   ]
  },
  {
   "cell_type": "code",
   "execution_count": 5,
   "id": "c18197bd",
   "metadata": {
    "execution": {
     "iopub.execute_input": "2023-02-26T15:02:08.379790Z",
     "iopub.status.busy": "2023-02-26T15:02:08.379286Z",
     "iopub.status.idle": "2023-02-26T15:02:13.165234Z",
     "shell.execute_reply": "2023-02-26T15:02:13.164486Z"
    }
   },
   "outputs": [
    {
     "name": "stdout",
     "output_type": "stream",
     "text": [
      "58.9 ns ± 0.0778 ns per loop (mean ± std. dev. of 7 runs, 10,000,000 loops each)\n"
     ]
    }
   ],
   "source": [
    "%timeit t.a"
   ]
  },
  {
   "cell_type": "code",
   "execution_count": 6,
   "id": "bd52f867",
   "metadata": {
    "execution": {
     "iopub.execute_input": "2023-02-26T15:02:13.168799Z",
     "iopub.status.busy": "2023-02-26T15:02:13.168108Z",
     "iopub.status.idle": "2023-02-26T15:02:13.175586Z",
     "shell.execute_reply": "2023-02-26T15:02:13.174891Z"
    }
   },
   "outputs": [
    {
     "data": {
      "text/plain": [
       "<FastTreeValue 0x7f69045d53a0>\n",
       "├── 'a' --> tensor([[ 0.9301,  1.8045, -0.7907],\n",
       "│                   [-0.5089, -0.6546, -0.4862]])\n",
       "└── 'x' --> <FastTreeValue 0x7f690464e9d0>\n",
       "    └── 'c' --> tensor([[ 1.5585, -1.3677,  0.8756, -1.9274],\n",
       "                        [-0.2258,  1.0299, -0.3397,  0.6682],\n",
       "                        [ 0.1623, -0.6909,  0.8866, -0.2236]])"
      ]
     },
     "execution_count": 6,
     "metadata": {},
     "output_type": "execute_result"
    }
   ],
   "source": [
    "new_value = torch.randn(2, 3)\n",
    "t.a = new_value\n",
    "\n",
    "t"
   ]
  },
  {
   "cell_type": "code",
   "execution_count": 7,
   "id": "bbe04d1c",
   "metadata": {
    "execution": {
     "iopub.execute_input": "2023-02-26T15:02:13.178935Z",
     "iopub.status.busy": "2023-02-26T15:02:13.178244Z",
     "iopub.status.idle": "2023-02-26T15:02:18.387837Z",
     "shell.execute_reply": "2023-02-26T15:02:18.387063Z"
    }
   },
   "outputs": [
    {
     "name": "stdout",
     "output_type": "stream",
     "text": [
      "64.1 ns ± 0.0428 ns per loop (mean ± std. dev. of 7 runs, 10,000,000 loops each)\n"
     ]
    }
   ],
   "source": [
    "%timeit t.a = new_value"
   ]
  },
  {
   "cell_type": "markdown",
   "id": "48c49731",
   "metadata": {},
   "source": [
    "### Tianshou Batch's Get and Set"
   ]
  },
  {
   "cell_type": "code",
   "execution_count": 8,
   "id": "f1bb14c1",
   "metadata": {
    "execution": {
     "iopub.execute_input": "2023-02-26T15:02:18.391195Z",
     "iopub.status.busy": "2023-02-26T15:02:18.390529Z",
     "iopub.status.idle": "2023-02-26T15:02:18.745553Z",
     "shell.execute_reply": "2023-02-26T15:02:18.744864Z"
    }
   },
   "outputs": [],
   "source": [
    "from tianshou.data import Batch\n",
    "\n",
    "b = Batch(**_TREE_DATA_2)"
   ]
  },
  {
   "cell_type": "code",
   "execution_count": 9,
   "id": "cb0777c3",
   "metadata": {
    "execution": {
     "iopub.execute_input": "2023-02-26T15:02:18.749315Z",
     "iopub.status.busy": "2023-02-26T15:02:18.748671Z",
     "iopub.status.idle": "2023-02-26T15:02:18.755127Z",
     "shell.execute_reply": "2023-02-26T15:02:18.754476Z"
    }
   },
   "outputs": [
    {
     "data": {
      "text/plain": [
       "Batch(\n",
       "    a: tensor([[ 1.1653,  0.7952, -0.1437],\n",
       "               [-0.9115,  0.1096, -0.2945]]),\n",
       "    x: Batch(\n",
       "           c: tensor([[ 1.5585, -1.3677,  0.8756, -1.9274],\n",
       "                      [-0.2258,  1.0299, -0.3397,  0.6682],\n",
       "                      [ 0.1623, -0.6909,  0.8866, -0.2236]]),\n",
       "       ),\n",
       ")"
      ]
     },
     "execution_count": 9,
     "metadata": {},
     "output_type": "execute_result"
    }
   ],
   "source": [
    "b"
   ]
  },
  {
   "cell_type": "code",
   "execution_count": 10,
   "id": "43ef8ea3",
   "metadata": {
    "execution": {
     "iopub.execute_input": "2023-02-26T15:02:18.757963Z",
     "iopub.status.busy": "2023-02-26T15:02:18.757488Z",
     "iopub.status.idle": "2023-02-26T15:02:18.762573Z",
     "shell.execute_reply": "2023-02-26T15:02:18.761944Z"
    }
   },
   "outputs": [
    {
     "data": {
      "text/plain": [
       "tensor([[ 1.1653,  0.7952, -0.1437],\n",
       "        [-0.9115,  0.1096, -0.2945]])"
      ]
     },
     "execution_count": 10,
     "metadata": {},
     "output_type": "execute_result"
    }
   ],
   "source": [
    "b.a"
   ]
  },
  {
   "cell_type": "code",
   "execution_count": 11,
   "id": "b785ab72",
   "metadata": {
    "execution": {
     "iopub.execute_input": "2023-02-26T15:02:18.765510Z",
     "iopub.status.busy": "2023-02-26T15:02:18.765146Z",
     "iopub.status.idle": "2023-02-26T15:02:23.191013Z",
     "shell.execute_reply": "2023-02-26T15:02:23.190227Z"
    }
   },
   "outputs": [
    {
     "name": "stdout",
     "output_type": "stream",
     "text": [
      "54.4 ns ± 0.058 ns per loop (mean ± std. dev. of 7 runs, 10,000,000 loops each)\n"
     ]
    }
   ],
   "source": [
    "%timeit b.a"
   ]
  },
  {
   "cell_type": "code",
   "execution_count": 12,
   "id": "ad54dc69",
   "metadata": {
    "execution": {
     "iopub.execute_input": "2023-02-26T15:02:23.193808Z",
     "iopub.status.busy": "2023-02-26T15:02:23.193456Z",
     "iopub.status.idle": "2023-02-26T15:02:23.199945Z",
     "shell.execute_reply": "2023-02-26T15:02:23.199352Z"
    }
   },
   "outputs": [
    {
     "data": {
      "text/plain": [
       "Batch(\n",
       "    a: tensor([[-0.3762,  0.7055, -0.6196],\n",
       "               [-0.7325,  0.5583, -0.6127]]),\n",
       "    x: Batch(\n",
       "           c: tensor([[ 1.5585, -1.3677,  0.8756, -1.9274],\n",
       "                      [-0.2258,  1.0299, -0.3397,  0.6682],\n",
       "                      [ 0.1623, -0.6909,  0.8866, -0.2236]]),\n",
       "       ),\n",
       ")"
      ]
     },
     "execution_count": 12,
     "metadata": {},
     "output_type": "execute_result"
    }
   ],
   "source": [
    "new_value = torch.randn(2, 3)\n",
    "b.a = new_value\n",
    "\n",
    "b"
   ]
  },
  {
   "cell_type": "code",
   "execution_count": 13,
   "id": "29b1d0bf",
   "metadata": {
    "execution": {
     "iopub.execute_input": "2023-02-26T15:02:23.202471Z",
     "iopub.status.busy": "2023-02-26T15:02:23.202125Z",
     "iopub.status.idle": "2023-02-26T15:02:27.155317Z",
     "shell.execute_reply": "2023-02-26T15:02:27.154507Z"
    }
   },
   "outputs": [
    {
     "name": "stdout",
     "output_type": "stream",
     "text": [
      "487 ns ± 0.124 ns per loop (mean ± std. dev. of 7 runs, 1,000,000 loops each)\n"
     ]
    }
   ],
   "source": [
    "%timeit b.a = new_value"
   ]
  },
  {
   "cell_type": "markdown",
   "id": "b61ad1d0",
   "metadata": {},
   "source": [
    "## Initialization"
   ]
  },
  {
   "cell_type": "markdown",
   "id": "d70f0d54",
   "metadata": {},
   "source": [
    "### TreeValue's Initialization"
   ]
  },
  {
   "cell_type": "code",
   "execution_count": 14,
   "id": "d32a679b",
   "metadata": {
    "execution": {
     "iopub.execute_input": "2023-02-26T15:02:27.158442Z",
     "iopub.status.busy": "2023-02-26T15:02:27.158201Z",
     "iopub.status.idle": "2023-02-26T15:02:34.241507Z",
     "shell.execute_reply": "2023-02-26T15:02:34.240780Z"
    }
   },
   "outputs": [
    {
     "name": "stdout",
     "output_type": "stream",
     "text": [
      "872 ns ± 0.315 ns per loop (mean ± std. dev. of 7 runs, 1,000,000 loops each)\n"
     ]
    }
   ],
   "source": [
    "%timeit FastTreeValue(_TREE_DATA_1)"
   ]
  },
  {
   "cell_type": "markdown",
   "id": "24f3707b",
   "metadata": {},
   "source": [
    "### Tianshou Batch's Initialization"
   ]
  },
  {
   "cell_type": "code",
   "execution_count": 15,
   "id": "ac3958df",
   "metadata": {
    "execution": {
     "iopub.execute_input": "2023-02-26T15:02:34.244602Z",
     "iopub.status.busy": "2023-02-26T15:02:34.244047Z",
     "iopub.status.idle": "2023-02-26T15:02:43.478878Z",
     "shell.execute_reply": "2023-02-26T15:02:43.478140Z"
    }
   },
   "outputs": [
    {
     "name": "stdout",
     "output_type": "stream",
     "text": [
      "11.4 µs ± 44.8 ns per loop (mean ± std. dev. of 7 runs, 100,000 loops each)\n"
     ]
    }
   ],
   "source": [
    "%timeit Batch(**_TREE_DATA_1)"
   ]
  },
  {
   "cell_type": "markdown",
   "id": "1ab82e2d",
   "metadata": {},
   "source": [
    "## Deep Copy Operation"
   ]
  },
  {
   "cell_type": "code",
   "execution_count": 16,
   "id": "210a9442",
   "metadata": {
    "execution": {
     "iopub.execute_input": "2023-02-26T15:02:43.481740Z",
     "iopub.status.busy": "2023-02-26T15:02:43.481381Z",
     "iopub.status.idle": "2023-02-26T15:02:43.485350Z",
     "shell.execute_reply": "2023-02-26T15:02:43.484754Z"
    }
   },
   "outputs": [],
   "source": [
    "import copy"
   ]
  },
  {
   "cell_type": "markdown",
   "id": "5a736274",
   "metadata": {},
   "source": [
    "### Deep Copy of TreeValue"
   ]
  },
  {
   "cell_type": "code",
   "execution_count": 17,
   "id": "f9bcadd6",
   "metadata": {
    "execution": {
     "iopub.execute_input": "2023-02-26T15:02:43.487841Z",
     "iopub.status.busy": "2023-02-26T15:02:43.487512Z",
     "iopub.status.idle": "2023-02-26T15:02:54.729464Z",
     "shell.execute_reply": "2023-02-26T15:02:54.728799Z"
    }
   },
   "outputs": [
    {
     "name": "stdout",
     "output_type": "stream",
     "text": [
      "139 µs ± 245 ns per loop (mean ± std. dev. of 7 runs, 10,000 loops each)\n"
     ]
    }
   ],
   "source": [
    "t3 = FastTreeValue(_TREE_DATA_3)\n",
    "%timeit copy.deepcopy(t3)"
   ]
  },
  {
   "cell_type": "markdown",
   "id": "bf8be7ea",
   "metadata": {},
   "source": [
    "### Deep Copy of Tianshou Batch"
   ]
  },
  {
   "cell_type": "code",
   "execution_count": 18,
   "id": "91998e6f",
   "metadata": {
    "execution": {
     "iopub.execute_input": "2023-02-26T15:02:54.732775Z",
     "iopub.status.busy": "2023-02-26T15:02:54.732536Z",
     "iopub.status.idle": "2023-02-26T15:03:06.172321Z",
     "shell.execute_reply": "2023-02-26T15:03:06.171663Z"
    }
   },
   "outputs": [
    {
     "name": "stdout",
     "output_type": "stream",
     "text": [
      "141 µs ± 626 ns per loop (mean ± std. dev. of 7 runs, 10,000 loops each)\n"
     ]
    }
   ],
   "source": [
    "b3 = Batch(**_TREE_DATA_3)\n",
    "%timeit copy.deepcopy(b3)"
   ]
  },
  {
   "cell_type": "markdown",
   "id": "223162fb",
   "metadata": {},
   "source": [
    "## Stack, Concat and Split Operation"
   ]
  },
  {
   "cell_type": "markdown",
   "id": "85fa4a73",
   "metadata": {},
   "source": [
    "### Performance of TreeValue"
   ]
  },
  {
   "cell_type": "code",
   "execution_count": 19,
   "id": "a0c2b697",
   "metadata": {
    "execution": {
     "iopub.execute_input": "2023-02-26T15:03:06.175814Z",
     "iopub.status.busy": "2023-02-26T15:03:06.175570Z",
     "iopub.status.idle": "2023-02-26T15:03:06.179549Z",
     "shell.execute_reply": "2023-02-26T15:03:06.178955Z"
    }
   },
   "outputs": [],
   "source": [
    "trees = [FastTreeValue(_TREE_DATA_2) for _ in range(8)]"
   ]
  },
  {
   "cell_type": "code",
   "execution_count": 20,
   "id": "017ea5a5",
   "metadata": {
    "execution": {
     "iopub.execute_input": "2023-02-26T15:03:06.182233Z",
     "iopub.status.busy": "2023-02-26T15:03:06.182007Z",
     "iopub.status.idle": "2023-02-26T15:03:06.190630Z",
     "shell.execute_reply": "2023-02-26T15:03:06.190050Z"
    }
   },
   "outputs": [
    {
     "data": {
      "text/plain": [
       "<FastTreeValue 0x7f68d8a2d970>\n",
       "├── 'a' --> tensor([[[ 1.1653,  0.7952, -0.1437],\n",
       "│                    [-0.9115,  0.1096, -0.2945]],\n",
       "│           \n",
       "│                   [[ 1.1653,  0.7952, -0.1437],\n",
       "│                    [-0.9115,  0.1096, -0.2945]],\n",
       "│           \n",
       "│                   [[ 1.1653,  0.7952, -0.1437],\n",
       "│                    [-0.9115,  0.1096, -0.2945]],\n",
       "│           \n",
       "│                   [[ 1.1653,  0.7952, -0.1437],\n",
       "│                    [-0.9115,  0.1096, -0.2945]],\n",
       "│           \n",
       "│                   [[ 1.1653,  0.7952, -0.1437],\n",
       "│                    [-0.9115,  0.1096, -0.2945]],\n",
       "│           \n",
       "│                   [[ 1.1653,  0.7952, -0.1437],\n",
       "│                    [-0.9115,  0.1096, -0.2945]],\n",
       "│           \n",
       "│                   [[ 1.1653,  0.7952, -0.1437],\n",
       "│                    [-0.9115,  0.1096, -0.2945]],\n",
       "│           \n",
       "│                   [[ 1.1653,  0.7952, -0.1437],\n",
       "│                    [-0.9115,  0.1096, -0.2945]]])\n",
       "└── 'x' --> <FastTreeValue 0x7f68579e23d0>\n",
       "    └── 'c' --> tensor([[[ 1.5585, -1.3677,  0.8756, -1.9274],\n",
       "                         [-0.2258,  1.0299, -0.3397,  0.6682],\n",
       "                         [ 0.1623, -0.6909,  0.8866, -0.2236]],\n",
       "                \n",
       "                        [[ 1.5585, -1.3677,  0.8756, -1.9274],\n",
       "                         [-0.2258,  1.0299, -0.3397,  0.6682],\n",
       "                         [ 0.1623, -0.6909,  0.8866, -0.2236]],\n",
       "                \n",
       "                        [[ 1.5585, -1.3677,  0.8756, -1.9274],\n",
       "                         [-0.2258,  1.0299, -0.3397,  0.6682],\n",
       "                         [ 0.1623, -0.6909,  0.8866, -0.2236]],\n",
       "                \n",
       "                        [[ 1.5585, -1.3677,  0.8756, -1.9274],\n",
       "                         [-0.2258,  1.0299, -0.3397,  0.6682],\n",
       "                         [ 0.1623, -0.6909,  0.8866, -0.2236]],\n",
       "                \n",
       "                        [[ 1.5585, -1.3677,  0.8756, -1.9274],\n",
       "                         [-0.2258,  1.0299, -0.3397,  0.6682],\n",
       "                         [ 0.1623, -0.6909,  0.8866, -0.2236]],\n",
       "                \n",
       "                        [[ 1.5585, -1.3677,  0.8756, -1.9274],\n",
       "                         [-0.2258,  1.0299, -0.3397,  0.6682],\n",
       "                         [ 0.1623, -0.6909,  0.8866, -0.2236]],\n",
       "                \n",
       "                        [[ 1.5585, -1.3677,  0.8756, -1.9274],\n",
       "                         [-0.2258,  1.0299, -0.3397,  0.6682],\n",
       "                         [ 0.1623, -0.6909,  0.8866, -0.2236]],\n",
       "                \n",
       "                        [[ 1.5585, -1.3677,  0.8756, -1.9274],\n",
       "                         [-0.2258,  1.0299, -0.3397,  0.6682],\n",
       "                         [ 0.1623, -0.6909,  0.8866, -0.2236]]])"
      ]
     },
     "execution_count": 20,
     "metadata": {},
     "output_type": "execute_result"
    }
   ],
   "source": [
    "t_stack = FastTreeValue.func(subside=True)(torch.stack)\n",
    "\n",
    "t_stack(trees)"
   ]
  },
  {
   "cell_type": "code",
   "execution_count": 21,
   "id": "f8b3f415",
   "metadata": {
    "execution": {
     "iopub.execute_input": "2023-02-26T15:03:06.193346Z",
     "iopub.status.busy": "2023-02-26T15:03:06.193118Z",
     "iopub.status.idle": "2023-02-26T15:03:08.837483Z",
     "shell.execute_reply": "2023-02-26T15:03:08.836774Z"
    }
   },
   "outputs": [
    {
     "name": "stdout",
     "output_type": "stream",
     "text": [
      "32.5 µs ± 153 ns per loop (mean ± std. dev. of 7 runs, 10,000 loops each)\n"
     ]
    }
   ],
   "source": [
    "%timeit t_stack(trees)"
   ]
  },
  {
   "cell_type": "code",
   "execution_count": 22,
   "id": "94b56771",
   "metadata": {
    "execution": {
     "iopub.execute_input": "2023-02-26T15:03:08.840329Z",
     "iopub.status.busy": "2023-02-26T15:03:08.839887Z",
     "iopub.status.idle": "2023-02-26T15:03:08.847618Z",
     "shell.execute_reply": "2023-02-26T15:03:08.847038Z"
    }
   },
   "outputs": [
    {
     "data": {
      "text/plain": [
       "<FastTreeValue 0x7f6857301e50>\n",
       "├── 'a' --> tensor([[ 1.1653,  0.7952, -0.1437],\n",
       "│                   [-0.9115,  0.1096, -0.2945],\n",
       "│                   [ 1.1653,  0.7952, -0.1437],\n",
       "│                   [-0.9115,  0.1096, -0.2945],\n",
       "│                   [ 1.1653,  0.7952, -0.1437],\n",
       "│                   [-0.9115,  0.1096, -0.2945],\n",
       "│                   [ 1.1653,  0.7952, -0.1437],\n",
       "│                   [-0.9115,  0.1096, -0.2945],\n",
       "│                   [ 1.1653,  0.7952, -0.1437],\n",
       "│                   [-0.9115,  0.1096, -0.2945],\n",
       "│                   [ 1.1653,  0.7952, -0.1437],\n",
       "│                   [-0.9115,  0.1096, -0.2945],\n",
       "│                   [ 1.1653,  0.7952, -0.1437],\n",
       "│                   [-0.9115,  0.1096, -0.2945],\n",
       "│                   [ 1.1653,  0.7952, -0.1437],\n",
       "│                   [-0.9115,  0.1096, -0.2945]])\n",
       "└── 'x' --> <FastTreeValue 0x7f68573016d0>\n",
       "    └── 'c' --> tensor([[ 1.5585, -1.3677,  0.8756, -1.9274],\n",
       "                        [-0.2258,  1.0299, -0.3397,  0.6682],\n",
       "                        [ 0.1623, -0.6909,  0.8866, -0.2236],\n",
       "                        [ 1.5585, -1.3677,  0.8756, -1.9274],\n",
       "                        [-0.2258,  1.0299, -0.3397,  0.6682],\n",
       "                        [ 0.1623, -0.6909,  0.8866, -0.2236],\n",
       "                        [ 1.5585, -1.3677,  0.8756, -1.9274],\n",
       "                        [-0.2258,  1.0299, -0.3397,  0.6682],\n",
       "                        [ 0.1623, -0.6909,  0.8866, -0.2236],\n",
       "                        [ 1.5585, -1.3677,  0.8756, -1.9274],\n",
       "                        [-0.2258,  1.0299, -0.3397,  0.6682],\n",
       "                        [ 0.1623, -0.6909,  0.8866, -0.2236],\n",
       "                        [ 1.5585, -1.3677,  0.8756, -1.9274],\n",
       "                        [-0.2258,  1.0299, -0.3397,  0.6682],\n",
       "                        [ 0.1623, -0.6909,  0.8866, -0.2236],\n",
       "                        [ 1.5585, -1.3677,  0.8756, -1.9274],\n",
       "                        [-0.2258,  1.0299, -0.3397,  0.6682],\n",
       "                        [ 0.1623, -0.6909,  0.8866, -0.2236],\n",
       "                        [ 1.5585, -1.3677,  0.8756, -1.9274],\n",
       "                        [-0.2258,  1.0299, -0.3397,  0.6682],\n",
       "                        [ 0.1623, -0.6909,  0.8866, -0.2236],\n",
       "                        [ 1.5585, -1.3677,  0.8756, -1.9274],\n",
       "                        [-0.2258,  1.0299, -0.3397,  0.6682],\n",
       "                        [ 0.1623, -0.6909,  0.8866, -0.2236]])"
      ]
     },
     "execution_count": 22,
     "metadata": {},
     "output_type": "execute_result"
    }
   ],
   "source": [
    "t_cat = FastTreeValue.func(subside=True)(torch.cat)\n",
    "\n",
    "t_cat(trees)"
   ]
  },
  {
   "cell_type": "code",
   "execution_count": 23,
   "id": "5e9c06a6",
   "metadata": {
    "execution": {
     "iopub.execute_input": "2023-02-26T15:03:08.850171Z",
     "iopub.status.busy": "2023-02-26T15:03:08.849831Z",
     "iopub.status.idle": "2023-02-26T15:03:11.284554Z",
     "shell.execute_reply": "2023-02-26T15:03:11.283850Z"
    }
   },
   "outputs": [
    {
     "name": "stdout",
     "output_type": "stream",
     "text": [
      "29.9 µs ± 88.4 ns per loop (mean ± std. dev. of 7 runs, 10,000 loops each)\n"
     ]
    }
   ],
   "source": [
    "%timeit t_cat(trees)"
   ]
  },
  {
   "cell_type": "code",
   "execution_count": 24,
   "id": "a3ab5c8f",
   "metadata": {
    "execution": {
     "iopub.execute_input": "2023-02-26T15:03:11.287352Z",
     "iopub.status.busy": "2023-02-26T15:03:11.286989Z",
     "iopub.status.idle": "2023-02-26T15:03:16.037393Z",
     "shell.execute_reply": "2023-02-26T15:03:16.036688Z"
    }
   },
   "outputs": [
    {
     "name": "stdout",
     "output_type": "stream",
     "text": [
      "58.4 µs ± 146 ns per loop (mean ± std. dev. of 7 runs, 10,000 loops each)\n"
     ]
    }
   ],
   "source": [
    "t_split = FastTreeValue.func(rise=True)(torch.split)\n",
    "tree = FastTreeValue({\n",
    "    'obs': torch.randn(8, 4, 84, 84),\n",
    "    'action': torch.randint(0, 6, size=(8, 1,)),\n",
    "    'reward': torch.rand(8, 1),\n",
    "})\n",
    "\n",
    "%timeit t_split(tree, 1)"
   ]
  },
  {
   "cell_type": "markdown",
   "id": "31c3ec0b",
   "metadata": {},
   "source": [
    "### Performance of Tianshou Batch"
   ]
  },
  {
   "cell_type": "code",
   "execution_count": 25,
   "id": "9ead828a",
   "metadata": {
    "execution": {
     "iopub.execute_input": "2023-02-26T15:03:16.040441Z",
     "iopub.status.busy": "2023-02-26T15:03:16.039893Z",
     "iopub.status.idle": "2023-02-26T15:03:16.048693Z",
     "shell.execute_reply": "2023-02-26T15:03:16.048117Z"
    }
   },
   "outputs": [
    {
     "data": {
      "text/plain": [
       "Batch(\n",
       "    a: tensor([[[ 1.1653,  0.7952, -0.1437],\n",
       "                [-0.9115,  0.1096, -0.2945]],\n",
       "       \n",
       "               [[ 1.1653,  0.7952, -0.1437],\n",
       "                [-0.9115,  0.1096, -0.2945]],\n",
       "       \n",
       "               [[ 1.1653,  0.7952, -0.1437],\n",
       "                [-0.9115,  0.1096, -0.2945]],\n",
       "       \n",
       "               [[ 1.1653,  0.7952, -0.1437],\n",
       "                [-0.9115,  0.1096, -0.2945]],\n",
       "       \n",
       "               [[ 1.1653,  0.7952, -0.1437],\n",
       "                [-0.9115,  0.1096, -0.2945]],\n",
       "       \n",
       "               [[ 1.1653,  0.7952, -0.1437],\n",
       "                [-0.9115,  0.1096, -0.2945]],\n",
       "       \n",
       "               [[ 1.1653,  0.7952, -0.1437],\n",
       "                [-0.9115,  0.1096, -0.2945]],\n",
       "       \n",
       "               [[ 1.1653,  0.7952, -0.1437],\n",
       "                [-0.9115,  0.1096, -0.2945]]]),\n",
       "    x: Batch(\n",
       "           c: tensor([[[ 1.5585, -1.3677,  0.8756, -1.9274],\n",
       "                       [-0.2258,  1.0299, -0.3397,  0.6682],\n",
       "                       [ 0.1623, -0.6909,  0.8866, -0.2236]],\n",
       "              \n",
       "                      [[ 1.5585, -1.3677,  0.8756, -1.9274],\n",
       "                       [-0.2258,  1.0299, -0.3397,  0.6682],\n",
       "                       [ 0.1623, -0.6909,  0.8866, -0.2236]],\n",
       "              \n",
       "                      [[ 1.5585, -1.3677,  0.8756, -1.9274],\n",
       "                       [-0.2258,  1.0299, -0.3397,  0.6682],\n",
       "                       [ 0.1623, -0.6909,  0.8866, -0.2236]],\n",
       "              \n",
       "                      [[ 1.5585, -1.3677,  0.8756, -1.9274],\n",
       "                       [-0.2258,  1.0299, -0.3397,  0.6682],\n",
       "                       [ 0.1623, -0.6909,  0.8866, -0.2236]],\n",
       "              \n",
       "                      [[ 1.5585, -1.3677,  0.8756, -1.9274],\n",
       "                       [-0.2258,  1.0299, -0.3397,  0.6682],\n",
       "                       [ 0.1623, -0.6909,  0.8866, -0.2236]],\n",
       "              \n",
       "                      [[ 1.5585, -1.3677,  0.8756, -1.9274],\n",
       "                       [-0.2258,  1.0299, -0.3397,  0.6682],\n",
       "                       [ 0.1623, -0.6909,  0.8866, -0.2236]],\n",
       "              \n",
       "                      [[ 1.5585, -1.3677,  0.8756, -1.9274],\n",
       "                       [-0.2258,  1.0299, -0.3397,  0.6682],\n",
       "                       [ 0.1623, -0.6909,  0.8866, -0.2236]],\n",
       "              \n",
       "                      [[ 1.5585, -1.3677,  0.8756, -1.9274],\n",
       "                       [-0.2258,  1.0299, -0.3397,  0.6682],\n",
       "                       [ 0.1623, -0.6909,  0.8866, -0.2236]]]),\n",
       "       ),\n",
       ")"
      ]
     },
     "execution_count": 25,
     "metadata": {},
     "output_type": "execute_result"
    }
   ],
   "source": [
    "batches = [Batch(**_TREE_DATA_2) for _ in range(8)]\n",
    "\n",
    "Batch.stack(batches)"
   ]
  },
  {
   "cell_type": "code",
   "execution_count": 26,
   "id": "ec9037a3",
   "metadata": {
    "execution": {
     "iopub.execute_input": "2023-02-26T15:03:16.051229Z",
     "iopub.status.busy": "2023-02-26T15:03:16.050918Z",
     "iopub.status.idle": "2023-02-26T15:03:22.486328Z",
     "shell.execute_reply": "2023-02-26T15:03:22.485606Z"
    }
   },
   "outputs": [
    {
     "name": "stdout",
     "output_type": "stream",
     "text": [
      "79.2 µs ± 92 ns per loop (mean ± std. dev. of 7 runs, 10,000 loops each)\n"
     ]
    }
   ],
   "source": [
    "%timeit Batch.stack(batches)"
   ]
  },
  {
   "cell_type": "code",
   "execution_count": 27,
   "id": "cb8ab77e",
   "metadata": {
    "execution": {
     "iopub.execute_input": "2023-02-26T15:03:22.489531Z",
     "iopub.status.busy": "2023-02-26T15:03:22.489020Z",
     "iopub.status.idle": "2023-02-26T15:03:22.496455Z",
     "shell.execute_reply": "2023-02-26T15:03:22.495872Z"
    }
   },
   "outputs": [
    {
     "data": {
      "text/plain": [
       "Batch(\n",
       "    a: tensor([[ 1.1653,  0.7952, -0.1437],\n",
       "               [-0.9115,  0.1096, -0.2945],\n",
       "               [ 1.1653,  0.7952, -0.1437],\n",
       "               [-0.9115,  0.1096, -0.2945],\n",
       "               [ 1.1653,  0.7952, -0.1437],\n",
       "               [-0.9115,  0.1096, -0.2945],\n",
       "               [ 1.1653,  0.7952, -0.1437],\n",
       "               [-0.9115,  0.1096, -0.2945],\n",
       "               [ 1.1653,  0.7952, -0.1437],\n",
       "               [-0.9115,  0.1096, -0.2945],\n",
       "               [ 1.1653,  0.7952, -0.1437],\n",
       "               [-0.9115,  0.1096, -0.2945],\n",
       "               [ 1.1653,  0.7952, -0.1437],\n",
       "               [-0.9115,  0.1096, -0.2945],\n",
       "               [ 1.1653,  0.7952, -0.1437],\n",
       "               [-0.9115,  0.1096, -0.2945]]),\n",
       "    x: Batch(\n",
       "           c: tensor([[ 1.5585, -1.3677,  0.8756, -1.9274],\n",
       "                      [-0.2258,  1.0299, -0.3397,  0.6682],\n",
       "                      [ 0.1623, -0.6909,  0.8866, -0.2236],\n",
       "                      [ 1.5585, -1.3677,  0.8756, -1.9274],\n",
       "                      [-0.2258,  1.0299, -0.3397,  0.6682],\n",
       "                      [ 0.1623, -0.6909,  0.8866, -0.2236],\n",
       "                      [ 1.5585, -1.3677,  0.8756, -1.9274],\n",
       "                      [-0.2258,  1.0299, -0.3397,  0.6682],\n",
       "                      [ 0.1623, -0.6909,  0.8866, -0.2236],\n",
       "                      [ 1.5585, -1.3677,  0.8756, -1.9274],\n",
       "                      [-0.2258,  1.0299, -0.3397,  0.6682],\n",
       "                      [ 0.1623, -0.6909,  0.8866, -0.2236],\n",
       "                      [ 1.5585, -1.3677,  0.8756, -1.9274],\n",
       "                      [-0.2258,  1.0299, -0.3397,  0.6682],\n",
       "                      [ 0.1623, -0.6909,  0.8866, -0.2236],\n",
       "                      [ 1.5585, -1.3677,  0.8756, -1.9274],\n",
       "                      [-0.2258,  1.0299, -0.3397,  0.6682],\n",
       "                      [ 0.1623, -0.6909,  0.8866, -0.2236],\n",
       "                      [ 1.5585, -1.3677,  0.8756, -1.9274],\n",
       "                      [-0.2258,  1.0299, -0.3397,  0.6682],\n",
       "                      [ 0.1623, -0.6909,  0.8866, -0.2236],\n",
       "                      [ 1.5585, -1.3677,  0.8756, -1.9274],\n",
       "                      [-0.2258,  1.0299, -0.3397,  0.6682],\n",
       "                      [ 0.1623, -0.6909,  0.8866, -0.2236]]),\n",
       "       ),\n",
       ")"
      ]
     },
     "execution_count": 27,
     "metadata": {},
     "output_type": "execute_result"
    }
   ],
   "source": [
    "Batch.cat(batches)"
   ]
  },
  {
   "cell_type": "code",
   "execution_count": 28,
   "id": "18dfb045",
   "metadata": {
    "execution": {
     "iopub.execute_input": "2023-02-26T15:03:22.499312Z",
     "iopub.status.busy": "2023-02-26T15:03:22.498808Z",
     "iopub.status.idle": "2023-02-26T15:03:34.373093Z",
     "shell.execute_reply": "2023-02-26T15:03:34.372264Z"
    }
   },
   "outputs": [
    {
     "name": "stdout",
     "output_type": "stream",
     "text": [
      "146 µs ± 330 ns per loop (mean ± std. dev. of 7 runs, 10,000 loops each)\n"
     ]
    }
   ],
   "source": [
    "%timeit Batch.cat(batches)"
   ]
  },
  {
   "cell_type": "code",
   "execution_count": 29,
   "id": "c6688e51",
   "metadata": {
    "execution": {
     "iopub.execute_input": "2023-02-26T15:03:34.375986Z",
     "iopub.status.busy": "2023-02-26T15:03:34.375616Z",
     "iopub.status.idle": "2023-02-26T15:03:36.871193Z",
     "shell.execute_reply": "2023-02-26T15:03:36.870435Z"
    }
   },
   "outputs": [
    {
     "name": "stdout",
     "output_type": "stream",
     "text": [
      "307 µs ± 1.81 µs per loop (mean ± std. dev. of 7 runs, 1,000 loops each)\n"
     ]
    }
   ],
   "source": [
    "batch = Batch({\n",
    "    'obs': torch.randn(8, 4, 84, 84),\n",
    "    'action': torch.randint(0, 6, size=(8, 1,)),\n",
    "    'reward': torch.rand(8, 1)}\n",
    ")\n",
    "\n",
    "%timeit list(Batch.split(batch, 1, shuffle=False, merge_last=True))"
   ]
  },
  {
   "cell_type": "code",
   "execution_count": null,
   "id": "2539fbd9",
   "metadata": {},
   "outputs": [],
   "source": []
  }
 ],
 "metadata": {
  "kernelspec": {
   "display_name": "Python 3 (ipykernel)",
   "language": "python",
   "name": "python3"
  },
  "language_info": {
   "codemirror_mode": {
    "name": "ipython",
    "version": 3
   },
   "file_extension": ".py",
   "mimetype": "text/x-python",
   "name": "python",
   "nbconvert_exporter": "python",
   "pygments_lexer": "ipython3",
   "version": "3.8.16"
  }
 },
 "nbformat": 4,
 "nbformat_minor": 5
}
