{
 "cells": [
  {
   "cell_type": "markdown",
   "id": "9d39d946",
   "metadata": {},
   "source": [
    "# Comparison Between TreeValue and Tianshou Batch"
   ]
  },
  {
   "cell_type": "markdown",
   "id": "3c6db2d4",
   "metadata": {},
   "source": [
    "In this section, we will take a look at the feature and performance of the [Tianshou Batch](https://github.com/thu-ml/tianshou) library, which is developed by Tsinghua Machine Learning Group."
   ]
  },
  {
   "cell_type": "markdown",
   "id": "069361b0",
   "metadata": {},
   "source": [
    "Before starting the comparison, let us define some thing."
   ]
  },
  {
   "cell_type": "code",
   "execution_count": 1,
   "id": "06fc8d26",
   "metadata": {
    "execution": {
     "iopub.execute_input": "2023-05-26T08:04:18.036366Z",
     "iopub.status.busy": "2023-05-26T08:04:18.035832Z",
     "iopub.status.idle": "2023-05-26T08:04:19.481533Z",
     "shell.execute_reply": "2023-05-26T08:04:19.480734Z"
    }
   },
   "outputs": [],
   "source": [
    "import torch \n",
    "\n",
    "_TREE_DATA_1 = {'a': 1, 'b': 2, 'x': {'c': 3, 'd': 4}}\n",
    "_TREE_DATA_2 = {\n",
    "    'a': torch.randn(2, 3), \n",
    "    'x': {\n",
    "        'c': torch.randn(3, 4)\n",
    "    },\n",
    "}\n",
    "_TREE_DATA_3 = {\n",
    "    'obs': torch.randn(4, 84, 84),\n",
    "    'action': torch.randint(0, 6, size=(1,)),\n",
    "    'reward': torch.rand(1),\n",
    "}"
   ]
  },
  {
   "cell_type": "markdown",
   "id": "83461b25",
   "metadata": {},
   "source": [
    "## Read and Write Operation"
   ]
  },
  {
   "cell_type": "markdown",
   "id": "067b3f73",
   "metadata": {},
   "source": [
    "Reading and writing are the two most common operations in the tree data structure based on the data model (TreeValue and Tianshou Batch both belong to this type), so this section will compare the reading and writing performance of these two libraries."
   ]
  },
  {
   "cell_type": "markdown",
   "id": "5d09a5b7",
   "metadata": {},
   "source": [
    "### TreeValue's Get and Set"
   ]
  },
  {
   "cell_type": "code",
   "execution_count": 2,
   "id": "9519c4bb",
   "metadata": {
    "execution": {
     "iopub.execute_input": "2023-05-26T08:04:19.486542Z",
     "iopub.status.busy": "2023-05-26T08:04:19.485968Z",
     "iopub.status.idle": "2023-05-26T08:04:19.517648Z",
     "shell.execute_reply": "2023-05-26T08:04:19.516931Z"
    }
   },
   "outputs": [],
   "source": [
    "from treevalue import FastTreeValue\n",
    "\n",
    "t = FastTreeValue(_TREE_DATA_2)"
   ]
  },
  {
   "cell_type": "code",
   "execution_count": 3,
   "id": "11c37677",
   "metadata": {
    "execution": {
     "iopub.execute_input": "2023-05-26T08:04:19.521970Z",
     "iopub.status.busy": "2023-05-26T08:04:19.521492Z",
     "iopub.status.idle": "2023-05-26T08:04:19.533355Z",
     "shell.execute_reply": "2023-05-26T08:04:19.532651Z"
    }
   },
   "outputs": [
    {
     "data": {
      "text/plain": [
       "<FastTreeValue 0x7f2920225370>\n",
       "├── 'a' --> tensor([[-0.0033,  0.1689,  0.1574],\n",
       "│                   [-0.5955, -2.2964,  0.9161]])\n",
       "└── 'x' --> <FastTreeValue 0x7f2920225ee0>\n",
       "    └── 'c' --> tensor([[ 1.9237, -0.6604,  0.4551, -0.9099],\n",
       "                        [ 0.4770, -0.6154,  1.4621, -1.2204],\n",
       "                        [ 0.7539,  0.0613,  1.5647,  0.4247]])"
      ]
     },
     "execution_count": 3,
     "metadata": {},
     "output_type": "execute_result"
    }
   ],
   "source": [
    "t"
   ]
  },
  {
   "cell_type": "code",
   "execution_count": 4,
   "id": "fd70b0b9",
   "metadata": {
    "execution": {
     "iopub.execute_input": "2023-05-26T08:04:19.536746Z",
     "iopub.status.busy": "2023-05-26T08:04:19.536281Z",
     "iopub.status.idle": "2023-05-26T08:04:19.543127Z",
     "shell.execute_reply": "2023-05-26T08:04:19.542520Z"
    }
   },
   "outputs": [
    {
     "data": {
      "text/plain": [
       "tensor([[-0.0033,  0.1689,  0.1574],\n",
       "        [-0.5955, -2.2964,  0.9161]])"
      ]
     },
     "execution_count": 4,
     "metadata": {},
     "output_type": "execute_result"
    }
   ],
   "source": [
    "t.a"
   ]
  },
  {
   "cell_type": "code",
   "execution_count": 5,
   "id": "c18197bd",
   "metadata": {
    "execution": {
     "iopub.execute_input": "2023-05-26T08:04:19.546552Z",
     "iopub.status.busy": "2023-05-26T08:04:19.545971Z",
     "iopub.status.idle": "2023-05-26T08:04:24.866108Z",
     "shell.execute_reply": "2023-05-26T08:04:24.865264Z"
    }
   },
   "outputs": [
    {
     "name": "stdout",
     "output_type": "stream",
     "text": [
      "65.6 ns ± 0.016 ns per loop (mean ± std. dev. of 7 runs, 10,000,000 loops each)\n"
     ]
    }
   ],
   "source": [
    "%timeit t.a"
   ]
  },
  {
   "cell_type": "code",
   "execution_count": 6,
   "id": "bd52f867",
   "metadata": {
    "execution": {
     "iopub.execute_input": "2023-05-26T08:04:24.870147Z",
     "iopub.status.busy": "2023-05-26T08:04:24.869551Z",
     "iopub.status.idle": "2023-05-26T08:04:24.876093Z",
     "shell.execute_reply": "2023-05-26T08:04:24.875360Z"
    }
   },
   "outputs": [
    {
     "data": {
      "text/plain": [
       "<FastTreeValue 0x7f2920225370>\n",
       "├── 'a' --> tensor([[-1.6752,  0.6100, -0.0267],\n",
       "│                   [ 0.1356, -1.7119,  0.1608]])\n",
       "└── 'x' --> <FastTreeValue 0x7f2920225ee0>\n",
       "    └── 'c' --> tensor([[ 1.9237, -0.6604,  0.4551, -0.9099],\n",
       "                        [ 0.4770, -0.6154,  1.4621, -1.2204],\n",
       "                        [ 0.7539,  0.0613,  1.5647,  0.4247]])"
      ]
     },
     "execution_count": 6,
     "metadata": {},
     "output_type": "execute_result"
    }
   ],
   "source": [
    "new_value = torch.randn(2, 3)\n",
    "t.a = new_value\n",
    "\n",
    "t"
   ]
  },
  {
   "cell_type": "code",
   "execution_count": 7,
   "id": "bbe04d1c",
   "metadata": {
    "execution": {
     "iopub.execute_input": "2023-05-26T08:04:24.879227Z",
     "iopub.status.busy": "2023-05-26T08:04:24.878775Z",
     "iopub.status.idle": "2023-05-26T08:04:30.788929Z",
     "shell.execute_reply": "2023-05-26T08:04:30.788165Z"
    }
   },
   "outputs": [
    {
     "name": "stdout",
     "output_type": "stream",
     "text": [
      "72.8 ns ± 0.0354 ns per loop (mean ± std. dev. of 7 runs, 10,000,000 loops each)\n"
     ]
    }
   ],
   "source": [
    "%timeit t.a = new_value"
   ]
  },
  {
   "cell_type": "markdown",
   "id": "48c49731",
   "metadata": {},
   "source": [
    "### Tianshou Batch's Get and Set"
   ]
  },
  {
   "cell_type": "code",
   "execution_count": 8,
   "id": "f1bb14c1",
   "metadata": {
    "execution": {
     "iopub.execute_input": "2023-05-26T08:04:30.792693Z",
     "iopub.status.busy": "2023-05-26T08:04:30.791945Z",
     "iopub.status.idle": "2023-05-26T08:04:31.203861Z",
     "shell.execute_reply": "2023-05-26T08:04:31.203053Z"
    }
   },
   "outputs": [],
   "source": [
    "from tianshou.data import Batch\n",
    "\n",
    "b = Batch(**_TREE_DATA_2)"
   ]
  },
  {
   "cell_type": "code",
   "execution_count": 9,
   "id": "cb0777c3",
   "metadata": {
    "execution": {
     "iopub.execute_input": "2023-05-26T08:04:31.208085Z",
     "iopub.status.busy": "2023-05-26T08:04:31.207483Z",
     "iopub.status.idle": "2023-05-26T08:04:31.214244Z",
     "shell.execute_reply": "2023-05-26T08:04:31.213543Z"
    }
   },
   "outputs": [
    {
     "data": {
      "text/plain": [
       "Batch(\n",
       "    a: tensor([[-0.0033,  0.1689,  0.1574],\n",
       "               [-0.5955, -2.2964,  0.9161]]),\n",
       "    x: Batch(\n",
       "           c: tensor([[ 1.9237, -0.6604,  0.4551, -0.9099],\n",
       "                      [ 0.4770, -0.6154,  1.4621, -1.2204],\n",
       "                      [ 0.7539,  0.0613,  1.5647,  0.4247]]),\n",
       "       ),\n",
       ")"
      ]
     },
     "execution_count": 9,
     "metadata": {},
     "output_type": "execute_result"
    }
   ],
   "source": [
    "b"
   ]
  },
  {
   "cell_type": "code",
   "execution_count": 10,
   "id": "43ef8ea3",
   "metadata": {
    "execution": {
     "iopub.execute_input": "2023-05-26T08:04:31.217711Z",
     "iopub.status.busy": "2023-05-26T08:04:31.217069Z",
     "iopub.status.idle": "2023-05-26T08:04:31.222386Z",
     "shell.execute_reply": "2023-05-26T08:04:31.221694Z"
    }
   },
   "outputs": [
    {
     "data": {
      "text/plain": [
       "tensor([[-0.0033,  0.1689,  0.1574],\n",
       "        [-0.5955, -2.2964,  0.9161]])"
      ]
     },
     "execution_count": 10,
     "metadata": {},
     "output_type": "execute_result"
    }
   ],
   "source": [
    "b.a"
   ]
  },
  {
   "cell_type": "code",
   "execution_count": 11,
   "id": "b785ab72",
   "metadata": {
    "execution": {
     "iopub.execute_input": "2023-05-26T08:04:31.225620Z",
     "iopub.status.busy": "2023-05-26T08:04:31.225165Z",
     "iopub.status.idle": "2023-05-26T08:04:35.991850Z",
     "shell.execute_reply": "2023-05-26T08:04:35.991113Z"
    }
   },
   "outputs": [
    {
     "name": "stdout",
     "output_type": "stream",
     "text": [
      "58.7 ns ± 0.0488 ns per loop (mean ± std. dev. of 7 runs, 10,000,000 loops each)\n"
     ]
    }
   ],
   "source": [
    "%timeit b.a"
   ]
  },
  {
   "cell_type": "code",
   "execution_count": 12,
   "id": "ad54dc69",
   "metadata": {
    "execution": {
     "iopub.execute_input": "2023-05-26T08:04:35.995364Z",
     "iopub.status.busy": "2023-05-26T08:04:35.994823Z",
     "iopub.status.idle": "2023-05-26T08:04:36.002591Z",
     "shell.execute_reply": "2023-05-26T08:04:36.001947Z"
    }
   },
   "outputs": [
    {
     "data": {
      "text/plain": [
       "Batch(\n",
       "    a: tensor([[ 1.2380, -0.2040, -0.7764],\n",
       "               [ 0.6612,  0.1167, -0.8407]]),\n",
       "    x: Batch(\n",
       "           c: tensor([[ 1.9237, -0.6604,  0.4551, -0.9099],\n",
       "                      [ 0.4770, -0.6154,  1.4621, -1.2204],\n",
       "                      [ 0.7539,  0.0613,  1.5647,  0.4247]]),\n",
       "       ),\n",
       ")"
      ]
     },
     "execution_count": 12,
     "metadata": {},
     "output_type": "execute_result"
    }
   ],
   "source": [
    "new_value = torch.randn(2, 3)\n",
    "b.a = new_value\n",
    "\n",
    "b"
   ]
  },
  {
   "cell_type": "code",
   "execution_count": 13,
   "id": "29b1d0bf",
   "metadata": {
    "execution": {
     "iopub.execute_input": "2023-05-26T08:04:36.005830Z",
     "iopub.status.busy": "2023-05-26T08:04:36.005423Z",
     "iopub.status.idle": "2023-05-26T08:04:40.022387Z",
     "shell.execute_reply": "2023-05-26T08:04:40.021649Z"
    }
   },
   "outputs": [
    {
     "name": "stdout",
     "output_type": "stream",
     "text": [
      "495 ns ± 0.0925 ns per loop (mean ± std. dev. of 7 runs, 1,000,000 loops each)\n"
     ]
    }
   ],
   "source": [
    "%timeit b.a = new_value"
   ]
  },
  {
   "cell_type": "markdown",
   "id": "b61ad1d0",
   "metadata": {},
   "source": [
    "## Initialization"
   ]
  },
  {
   "cell_type": "markdown",
   "id": "d70f0d54",
   "metadata": {},
   "source": [
    "### TreeValue's Initialization"
   ]
  },
  {
   "cell_type": "code",
   "execution_count": 14,
   "id": "d32a679b",
   "metadata": {
    "execution": {
     "iopub.execute_input": "2023-05-26T08:04:40.026232Z",
     "iopub.status.busy": "2023-05-26T08:04:40.025509Z",
     "iopub.status.idle": "2023-05-26T08:04:46.998533Z",
     "shell.execute_reply": "2023-05-26T08:04:46.997805Z"
    }
   },
   "outputs": [
    {
     "name": "stdout",
     "output_type": "stream",
     "text": [
      "858 ns ± 0.221 ns per loop (mean ± std. dev. of 7 runs, 1,000,000 loops each)\n"
     ]
    }
   ],
   "source": [
    "%timeit FastTreeValue(_TREE_DATA_1)"
   ]
  },
  {
   "cell_type": "markdown",
   "id": "24f3707b",
   "metadata": {},
   "source": [
    "### Tianshou Batch's Initialization"
   ]
  },
  {
   "cell_type": "code",
   "execution_count": 15,
   "id": "ac3958df",
   "metadata": {
    "execution": {
     "iopub.execute_input": "2023-05-26T08:04:47.002268Z",
     "iopub.status.busy": "2023-05-26T08:04:47.001602Z",
     "iopub.status.idle": "2023-05-26T08:04:55.620684Z",
     "shell.execute_reply": "2023-05-26T08:04:55.619932Z"
    }
   },
   "outputs": [
    {
     "name": "stdout",
     "output_type": "stream",
     "text": [
      "10.6 µs ± 16.8 ns per loop (mean ± std. dev. of 7 runs, 100,000 loops each)\n"
     ]
    }
   ],
   "source": [
    "%timeit Batch(**_TREE_DATA_1)"
   ]
  },
  {
   "cell_type": "markdown",
   "id": "1ab82e2d",
   "metadata": {},
   "source": [
    "## Deep Copy Operation"
   ]
  },
  {
   "cell_type": "code",
   "execution_count": 16,
   "id": "210a9442",
   "metadata": {
    "execution": {
     "iopub.execute_input": "2023-05-26T08:04:55.624430Z",
     "iopub.status.busy": "2023-05-26T08:04:55.623781Z",
     "iopub.status.idle": "2023-05-26T08:04:55.628555Z",
     "shell.execute_reply": "2023-05-26T08:04:55.627913Z"
    }
   },
   "outputs": [],
   "source": [
    "import copy"
   ]
  },
  {
   "cell_type": "markdown",
   "id": "5a736274",
   "metadata": {},
   "source": [
    "### Deep Copy of TreeValue"
   ]
  },
  {
   "cell_type": "code",
   "execution_count": 17,
   "id": "f9bcadd6",
   "metadata": {
    "execution": {
     "iopub.execute_input": "2023-05-26T08:04:55.631657Z",
     "iopub.status.busy": "2023-05-26T08:04:55.631212Z",
     "iopub.status.idle": "2023-05-26T08:05:07.311548Z",
     "shell.execute_reply": "2023-05-26T08:05:07.310733Z"
    }
   },
   "outputs": [
    {
     "name": "stdout",
     "output_type": "stream",
     "text": [
      "144 µs ± 900 ns per loop (mean ± std. dev. of 7 runs, 10,000 loops each)\n"
     ]
    }
   ],
   "source": [
    "t3 = FastTreeValue(_TREE_DATA_3)\n",
    "%timeit copy.deepcopy(t3)"
   ]
  },
  {
   "cell_type": "markdown",
   "id": "bf8be7ea",
   "metadata": {},
   "source": [
    "### Deep Copy of Tianshou Batch"
   ]
  },
  {
   "cell_type": "code",
   "execution_count": 18,
   "id": "91998e6f",
   "metadata": {
    "execution": {
     "iopub.execute_input": "2023-05-26T08:05:07.315268Z",
     "iopub.status.busy": "2023-05-26T08:05:07.314687Z",
     "iopub.status.idle": "2023-05-26T08:05:18.890355Z",
     "shell.execute_reply": "2023-05-26T08:05:18.889702Z"
    }
   },
   "outputs": [
    {
     "name": "stdout",
     "output_type": "stream",
     "text": [
      "143 µs ± 550 ns per loop (mean ± std. dev. of 7 runs, 10,000 loops each)\n"
     ]
    }
   ],
   "source": [
    "b3 = Batch(**_TREE_DATA_3)\n",
    "%timeit copy.deepcopy(b3)"
   ]
  },
  {
   "cell_type": "markdown",
   "id": "223162fb",
   "metadata": {},
   "source": [
    "## Stack, Concat and Split Operation"
   ]
  },
  {
   "cell_type": "markdown",
   "id": "85fa4a73",
   "metadata": {},
   "source": [
    "### Performance of TreeValue"
   ]
  },
  {
   "cell_type": "code",
   "execution_count": 19,
   "id": "a0c2b697",
   "metadata": {
    "execution": {
     "iopub.execute_input": "2023-05-26T08:05:18.893932Z",
     "iopub.status.busy": "2023-05-26T08:05:18.893380Z",
     "iopub.status.idle": "2023-05-26T08:05:18.896990Z",
     "shell.execute_reply": "2023-05-26T08:05:18.896434Z"
    }
   },
   "outputs": [],
   "source": [
    "trees = [FastTreeValue(_TREE_DATA_2) for _ in range(8)]"
   ]
  },
  {
   "cell_type": "code",
   "execution_count": 20,
   "id": "017ea5a5",
   "metadata": {
    "execution": {
     "iopub.execute_input": "2023-05-26T08:05:18.899933Z",
     "iopub.status.busy": "2023-05-26T08:05:18.899373Z",
     "iopub.status.idle": "2023-05-26T08:05:18.907264Z",
     "shell.execute_reply": "2023-05-26T08:05:18.906567Z"
    }
   },
   "outputs": [
    {
     "data": {
      "text/plain": [
       "<FastTreeValue 0x7f285d63cdc0>\n",
       "├── 'a' --> tensor([[[-0.0033,  0.1689,  0.1574],\n",
       "│                    [-0.5955, -2.2964,  0.9161]],\n",
       "│           \n",
       "│                   [[-0.0033,  0.1689,  0.1574],\n",
       "│                    [-0.5955, -2.2964,  0.9161]],\n",
       "│           \n",
       "│                   [[-0.0033,  0.1689,  0.1574],\n",
       "│                    [-0.5955, -2.2964,  0.9161]],\n",
       "│           \n",
       "│                   [[-0.0033,  0.1689,  0.1574],\n",
       "│                    [-0.5955, -2.2964,  0.9161]],\n",
       "│           \n",
       "│                   [[-0.0033,  0.1689,  0.1574],\n",
       "│                    [-0.5955, -2.2964,  0.9161]],\n",
       "│           \n",
       "│                   [[-0.0033,  0.1689,  0.1574],\n",
       "│                    [-0.5955, -2.2964,  0.9161]],\n",
       "│           \n",
       "│                   [[-0.0033,  0.1689,  0.1574],\n",
       "│                    [-0.5955, -2.2964,  0.9161]],\n",
       "│           \n",
       "│                   [[-0.0033,  0.1689,  0.1574],\n",
       "│                    [-0.5955, -2.2964,  0.9161]]])\n",
       "└── 'x' --> <FastTreeValue 0x7f285d621160>\n",
       "    └── 'c' --> tensor([[[ 1.9237, -0.6604,  0.4551, -0.9099],\n",
       "                         [ 0.4770, -0.6154,  1.4621, -1.2204],\n",
       "                         [ 0.7539,  0.0613,  1.5647,  0.4247]],\n",
       "                \n",
       "                        [[ 1.9237, -0.6604,  0.4551, -0.9099],\n",
       "                         [ 0.4770, -0.6154,  1.4621, -1.2204],\n",
       "                         [ 0.7539,  0.0613,  1.5647,  0.4247]],\n",
       "                \n",
       "                        [[ 1.9237, -0.6604,  0.4551, -0.9099],\n",
       "                         [ 0.4770, -0.6154,  1.4621, -1.2204],\n",
       "                         [ 0.7539,  0.0613,  1.5647,  0.4247]],\n",
       "                \n",
       "                        [[ 1.9237, -0.6604,  0.4551, -0.9099],\n",
       "                         [ 0.4770, -0.6154,  1.4621, -1.2204],\n",
       "                         [ 0.7539,  0.0613,  1.5647,  0.4247]],\n",
       "                \n",
       "                        [[ 1.9237, -0.6604,  0.4551, -0.9099],\n",
       "                         [ 0.4770, -0.6154,  1.4621, -1.2204],\n",
       "                         [ 0.7539,  0.0613,  1.5647,  0.4247]],\n",
       "                \n",
       "                        [[ 1.9237, -0.6604,  0.4551, -0.9099],\n",
       "                         [ 0.4770, -0.6154,  1.4621, -1.2204],\n",
       "                         [ 0.7539,  0.0613,  1.5647,  0.4247]],\n",
       "                \n",
       "                        [[ 1.9237, -0.6604,  0.4551, -0.9099],\n",
       "                         [ 0.4770, -0.6154,  1.4621, -1.2204],\n",
       "                         [ 0.7539,  0.0613,  1.5647,  0.4247]],\n",
       "                \n",
       "                        [[ 1.9237, -0.6604,  0.4551, -0.9099],\n",
       "                         [ 0.4770, -0.6154,  1.4621, -1.2204],\n",
       "                         [ 0.7539,  0.0613,  1.5647,  0.4247]]])"
      ]
     },
     "execution_count": 20,
     "metadata": {},
     "output_type": "execute_result"
    }
   ],
   "source": [
    "t_stack = FastTreeValue.func(subside=True)(torch.stack)\n",
    "\n",
    "t_stack(trees)"
   ]
  },
  {
   "cell_type": "code",
   "execution_count": 21,
   "id": "f8b3f415",
   "metadata": {
    "execution": {
     "iopub.execute_input": "2023-05-26T08:05:18.910232Z",
     "iopub.status.busy": "2023-05-26T08:05:18.910003Z",
     "iopub.status.idle": "2023-05-26T08:05:21.570974Z",
     "shell.execute_reply": "2023-05-26T08:05:21.570242Z"
    }
   },
   "outputs": [
    {
     "name": "stdout",
     "output_type": "stream",
     "text": [
      "32.7 µs ± 62.3 ns per loop (mean ± std. dev. of 7 runs, 10,000 loops each)\n"
     ]
    }
   ],
   "source": [
    "%timeit t_stack(trees)"
   ]
  },
  {
   "cell_type": "code",
   "execution_count": 22,
   "id": "94b56771",
   "metadata": {
    "execution": {
     "iopub.execute_input": "2023-05-26T08:05:21.574510Z",
     "iopub.status.busy": "2023-05-26T08:05:21.573948Z",
     "iopub.status.idle": "2023-05-26T08:05:21.581950Z",
     "shell.execute_reply": "2023-05-26T08:05:21.581259Z"
    }
   },
   "outputs": [
    {
     "data": {
      "text/plain": [
       "<FastTreeValue 0x7f285552e460>\n",
       "├── 'a' --> tensor([[-0.0033,  0.1689,  0.1574],\n",
       "│                   [-0.5955, -2.2964,  0.9161],\n",
       "│                   [-0.0033,  0.1689,  0.1574],\n",
       "│                   [-0.5955, -2.2964,  0.9161],\n",
       "│                   [-0.0033,  0.1689,  0.1574],\n",
       "│                   [-0.5955, -2.2964,  0.9161],\n",
       "│                   [-0.0033,  0.1689,  0.1574],\n",
       "│                   [-0.5955, -2.2964,  0.9161],\n",
       "│                   [-0.0033,  0.1689,  0.1574],\n",
       "│                   [-0.5955, -2.2964,  0.9161],\n",
       "│                   [-0.0033,  0.1689,  0.1574],\n",
       "│                   [-0.5955, -2.2964,  0.9161],\n",
       "│                   [-0.0033,  0.1689,  0.1574],\n",
       "│                   [-0.5955, -2.2964,  0.9161],\n",
       "│                   [-0.0033,  0.1689,  0.1574],\n",
       "│                   [-0.5955, -2.2964,  0.9161]])\n",
       "└── 'x' --> <FastTreeValue 0x7f285552e250>\n",
       "    └── 'c' --> tensor([[ 1.9237, -0.6604,  0.4551, -0.9099],\n",
       "                        [ 0.4770, -0.6154,  1.4621, -1.2204],\n",
       "                        [ 0.7539,  0.0613,  1.5647,  0.4247],\n",
       "                        [ 1.9237, -0.6604,  0.4551, -0.9099],\n",
       "                        [ 0.4770, -0.6154,  1.4621, -1.2204],\n",
       "                        [ 0.7539,  0.0613,  1.5647,  0.4247],\n",
       "                        [ 1.9237, -0.6604,  0.4551, -0.9099],\n",
       "                        [ 0.4770, -0.6154,  1.4621, -1.2204],\n",
       "                        [ 0.7539,  0.0613,  1.5647,  0.4247],\n",
       "                        [ 1.9237, -0.6604,  0.4551, -0.9099],\n",
       "                        [ 0.4770, -0.6154,  1.4621, -1.2204],\n",
       "                        [ 0.7539,  0.0613,  1.5647,  0.4247],\n",
       "                        [ 1.9237, -0.6604,  0.4551, -0.9099],\n",
       "                        [ 0.4770, -0.6154,  1.4621, -1.2204],\n",
       "                        [ 0.7539,  0.0613,  1.5647,  0.4247],\n",
       "                        [ 1.9237, -0.6604,  0.4551, -0.9099],\n",
       "                        [ 0.4770, -0.6154,  1.4621, -1.2204],\n",
       "                        [ 0.7539,  0.0613,  1.5647,  0.4247],\n",
       "                        [ 1.9237, -0.6604,  0.4551, -0.9099],\n",
       "                        [ 0.4770, -0.6154,  1.4621, -1.2204],\n",
       "                        [ 0.7539,  0.0613,  1.5647,  0.4247],\n",
       "                        [ 1.9237, -0.6604,  0.4551, -0.9099],\n",
       "                        [ 0.4770, -0.6154,  1.4621, -1.2204],\n",
       "                        [ 0.7539,  0.0613,  1.5647,  0.4247]])"
      ]
     },
     "execution_count": 22,
     "metadata": {},
     "output_type": "execute_result"
    }
   ],
   "source": [
    "t_cat = FastTreeValue.func(subside=True)(torch.cat)\n",
    "\n",
    "t_cat(trees)"
   ]
  },
  {
   "cell_type": "code",
   "execution_count": 23,
   "id": "5e9c06a6",
   "metadata": {
    "execution": {
     "iopub.execute_input": "2023-05-26T08:05:21.584989Z",
     "iopub.status.busy": "2023-05-26T08:05:21.584611Z",
     "iopub.status.idle": "2023-05-26T08:05:24.051105Z",
     "shell.execute_reply": "2023-05-26T08:05:24.050374Z"
    }
   },
   "outputs": [
    {
     "name": "stdout",
     "output_type": "stream",
     "text": [
      "30.3 µs ± 29.5 ns per loop (mean ± std. dev. of 7 runs, 10,000 loops each)\n"
     ]
    }
   ],
   "source": [
    "%timeit t_cat(trees)"
   ]
  },
  {
   "cell_type": "code",
   "execution_count": 24,
   "id": "a3ab5c8f",
   "metadata": {
    "execution": {
     "iopub.execute_input": "2023-05-26T08:05:24.054618Z",
     "iopub.status.busy": "2023-05-26T08:05:24.054127Z",
     "iopub.status.idle": "2023-05-26T08:05:29.666678Z",
     "shell.execute_reply": "2023-05-26T08:05:29.665949Z"
    }
   },
   "outputs": [
    {
     "name": "stdout",
     "output_type": "stream",
     "text": [
      "69 µs ± 67.9 ns per loop (mean ± std. dev. of 7 runs, 10,000 loops each)\n"
     ]
    }
   ],
   "source": [
    "t_split = FastTreeValue.func(rise=True)(torch.split)\n",
    "tree = FastTreeValue({\n",
    "    'obs': torch.randn(8, 4, 84, 84),\n",
    "    'action': torch.randint(0, 6, size=(8, 1,)),\n",
    "    'reward': torch.rand(8, 1),\n",
    "})\n",
    "\n",
    "%timeit t_split(tree, 1)"
   ]
  },
  {
   "cell_type": "markdown",
   "id": "31c3ec0b",
   "metadata": {},
   "source": [
    "### Performance of Tianshou Batch"
   ]
  },
  {
   "cell_type": "code",
   "execution_count": 25,
   "id": "9ead828a",
   "metadata": {
    "execution": {
     "iopub.execute_input": "2023-05-26T08:05:29.670264Z",
     "iopub.status.busy": "2023-05-26T08:05:29.669745Z",
     "iopub.status.idle": "2023-05-26T08:05:29.677973Z",
     "shell.execute_reply": "2023-05-26T08:05:29.677254Z"
    }
   },
   "outputs": [
    {
     "data": {
      "text/plain": [
       "Batch(\n",
       "    x: Batch(\n",
       "           c: tensor([[[ 1.9237, -0.6604,  0.4551, -0.9099],\n",
       "                       [ 0.4770, -0.6154,  1.4621, -1.2204],\n",
       "                       [ 0.7539,  0.0613,  1.5647,  0.4247]],\n",
       "              \n",
       "                      [[ 1.9237, -0.6604,  0.4551, -0.9099],\n",
       "                       [ 0.4770, -0.6154,  1.4621, -1.2204],\n",
       "                       [ 0.7539,  0.0613,  1.5647,  0.4247]],\n",
       "              \n",
       "                      [[ 1.9237, -0.6604,  0.4551, -0.9099],\n",
       "                       [ 0.4770, -0.6154,  1.4621, -1.2204],\n",
       "                       [ 0.7539,  0.0613,  1.5647,  0.4247]],\n",
       "              \n",
       "                      [[ 1.9237, -0.6604,  0.4551, -0.9099],\n",
       "                       [ 0.4770, -0.6154,  1.4621, -1.2204],\n",
       "                       [ 0.7539,  0.0613,  1.5647,  0.4247]],\n",
       "              \n",
       "                      [[ 1.9237, -0.6604,  0.4551, -0.9099],\n",
       "                       [ 0.4770, -0.6154,  1.4621, -1.2204],\n",
       "                       [ 0.7539,  0.0613,  1.5647,  0.4247]],\n",
       "              \n",
       "                      [[ 1.9237, -0.6604,  0.4551, -0.9099],\n",
       "                       [ 0.4770, -0.6154,  1.4621, -1.2204],\n",
       "                       [ 0.7539,  0.0613,  1.5647,  0.4247]],\n",
       "              \n",
       "                      [[ 1.9237, -0.6604,  0.4551, -0.9099],\n",
       "                       [ 0.4770, -0.6154,  1.4621, -1.2204],\n",
       "                       [ 0.7539,  0.0613,  1.5647,  0.4247]],\n",
       "              \n",
       "                      [[ 1.9237, -0.6604,  0.4551, -0.9099],\n",
       "                       [ 0.4770, -0.6154,  1.4621, -1.2204],\n",
       "                       [ 0.7539,  0.0613,  1.5647,  0.4247]]]),\n",
       "       ),\n",
       "    a: tensor([[[-0.0033,  0.1689,  0.1574],\n",
       "                [-0.5955, -2.2964,  0.9161]],\n",
       "       \n",
       "               [[-0.0033,  0.1689,  0.1574],\n",
       "                [-0.5955, -2.2964,  0.9161]],\n",
       "       \n",
       "               [[-0.0033,  0.1689,  0.1574],\n",
       "                [-0.5955, -2.2964,  0.9161]],\n",
       "       \n",
       "               [[-0.0033,  0.1689,  0.1574],\n",
       "                [-0.5955, -2.2964,  0.9161]],\n",
       "       \n",
       "               [[-0.0033,  0.1689,  0.1574],\n",
       "                [-0.5955, -2.2964,  0.9161]],\n",
       "       \n",
       "               [[-0.0033,  0.1689,  0.1574],\n",
       "                [-0.5955, -2.2964,  0.9161]],\n",
       "       \n",
       "               [[-0.0033,  0.1689,  0.1574],\n",
       "                [-0.5955, -2.2964,  0.9161]],\n",
       "       \n",
       "               [[-0.0033,  0.1689,  0.1574],\n",
       "                [-0.5955, -2.2964,  0.9161]]]),\n",
       ")"
      ]
     },
     "execution_count": 25,
     "metadata": {},
     "output_type": "execute_result"
    }
   ],
   "source": [
    "batches = [Batch(**_TREE_DATA_2) for _ in range(8)]\n",
    "\n",
    "Batch.stack(batches)"
   ]
  },
  {
   "cell_type": "code",
   "execution_count": 26,
   "id": "ec9037a3",
   "metadata": {
    "execution": {
     "iopub.execute_input": "2023-05-26T08:05:29.681232Z",
     "iopub.status.busy": "2023-05-26T08:05:29.680691Z",
     "iopub.status.idle": "2023-05-26T08:05:36.128704Z",
     "shell.execute_reply": "2023-05-26T08:05:36.127884Z"
    }
   },
   "outputs": [
    {
     "name": "stdout",
     "output_type": "stream",
     "text": [
      "79.3 µs ± 335 ns per loop (mean ± std. dev. of 7 runs, 10,000 loops each)\n"
     ]
    }
   ],
   "source": [
    "%timeit Batch.stack(batches)"
   ]
  },
  {
   "cell_type": "code",
   "execution_count": 27,
   "id": "cb8ab77e",
   "metadata": {
    "execution": {
     "iopub.execute_input": "2023-05-26T08:05:36.132966Z",
     "iopub.status.busy": "2023-05-26T08:05:36.132236Z",
     "iopub.status.idle": "2023-05-26T08:05:36.140396Z",
     "shell.execute_reply": "2023-05-26T08:05:36.139460Z"
    }
   },
   "outputs": [
    {
     "data": {
      "text/plain": [
       "Batch(\n",
       "    x: Batch(\n",
       "           c: tensor([[ 1.9237, -0.6604,  0.4551, -0.9099],\n",
       "                      [ 0.4770, -0.6154,  1.4621, -1.2204],\n",
       "                      [ 0.7539,  0.0613,  1.5647,  0.4247],\n",
       "                      [ 1.9237, -0.6604,  0.4551, -0.9099],\n",
       "                      [ 0.4770, -0.6154,  1.4621, -1.2204],\n",
       "                      [ 0.7539,  0.0613,  1.5647,  0.4247],\n",
       "                      [ 1.9237, -0.6604,  0.4551, -0.9099],\n",
       "                      [ 0.4770, -0.6154,  1.4621, -1.2204],\n",
       "                      [ 0.7539,  0.0613,  1.5647,  0.4247],\n",
       "                      [ 1.9237, -0.6604,  0.4551, -0.9099],\n",
       "                      [ 0.4770, -0.6154,  1.4621, -1.2204],\n",
       "                      [ 0.7539,  0.0613,  1.5647,  0.4247],\n",
       "                      [ 1.9237, -0.6604,  0.4551, -0.9099],\n",
       "                      [ 0.4770, -0.6154,  1.4621, -1.2204],\n",
       "                      [ 0.7539,  0.0613,  1.5647,  0.4247],\n",
       "                      [ 1.9237, -0.6604,  0.4551, -0.9099],\n",
       "                      [ 0.4770, -0.6154,  1.4621, -1.2204],\n",
       "                      [ 0.7539,  0.0613,  1.5647,  0.4247],\n",
       "                      [ 1.9237, -0.6604,  0.4551, -0.9099],\n",
       "                      [ 0.4770, -0.6154,  1.4621, -1.2204],\n",
       "                      [ 0.7539,  0.0613,  1.5647,  0.4247],\n",
       "                      [ 1.9237, -0.6604,  0.4551, -0.9099],\n",
       "                      [ 0.4770, -0.6154,  1.4621, -1.2204],\n",
       "                      [ 0.7539,  0.0613,  1.5647,  0.4247]]),\n",
       "       ),\n",
       "    a: tensor([[-0.0033,  0.1689,  0.1574],\n",
       "               [-0.5955, -2.2964,  0.9161],\n",
       "               [-0.0033,  0.1689,  0.1574],\n",
       "               [-0.5955, -2.2964,  0.9161],\n",
       "               [-0.0033,  0.1689,  0.1574],\n",
       "               [-0.5955, -2.2964,  0.9161],\n",
       "               [-0.0033,  0.1689,  0.1574],\n",
       "               [-0.5955, -2.2964,  0.9161],\n",
       "               [-0.0033,  0.1689,  0.1574],\n",
       "               [-0.5955, -2.2964,  0.9161],\n",
       "               [-0.0033,  0.1689,  0.1574],\n",
       "               [-0.5955, -2.2964,  0.9161],\n",
       "               [-0.0033,  0.1689,  0.1574],\n",
       "               [-0.5955, -2.2964,  0.9161],\n",
       "               [-0.0033,  0.1689,  0.1574],\n",
       "               [-0.5955, -2.2964,  0.9161]]),\n",
       ")"
      ]
     },
     "execution_count": 27,
     "metadata": {},
     "output_type": "execute_result"
    }
   ],
   "source": [
    "Batch.cat(batches)"
   ]
  },
  {
   "cell_type": "code",
   "execution_count": 28,
   "id": "18dfb045",
   "metadata": {
    "execution": {
     "iopub.execute_input": "2023-05-26T08:05:36.143579Z",
     "iopub.status.busy": "2023-05-26T08:05:36.143140Z",
     "iopub.status.idle": "2023-05-26T08:05:48.016128Z",
     "shell.execute_reply": "2023-05-26T08:05:48.015353Z"
    }
   },
   "outputs": [
    {
     "name": "stdout",
     "output_type": "stream",
     "text": [
      "146 µs ± 266 ns per loop (mean ± std. dev. of 7 runs, 10,000 loops each)\n"
     ]
    }
   ],
   "source": [
    "%timeit Batch.cat(batches)"
   ]
  },
  {
   "cell_type": "code",
   "execution_count": 29,
   "id": "c6688e51",
   "metadata": {
    "execution": {
     "iopub.execute_input": "2023-05-26T08:05:48.019832Z",
     "iopub.status.busy": "2023-05-26T08:05:48.019123Z",
     "iopub.status.idle": "2023-05-26T08:05:50.818258Z",
     "shell.execute_reply": "2023-05-26T08:05:50.817608Z"
    }
   },
   "outputs": [
    {
     "name": "stdout",
     "output_type": "stream",
     "text": [
      "344 µs ± 1.66 µs per loop (mean ± std. dev. of 7 runs, 1,000 loops each)\n"
     ]
    }
   ],
   "source": [
    "batch = Batch({\n",
    "    'obs': torch.randn(8, 4, 84, 84),\n",
    "    'action': torch.randint(0, 6, size=(8, 1,)),\n",
    "    'reward': torch.rand(8, 1)}\n",
    ")\n",
    "\n",
    "%timeit list(Batch.split(batch, 1, shuffle=False, merge_last=True))"
   ]
  },
  {
   "cell_type": "code",
   "execution_count": null,
   "id": "2539fbd9",
   "metadata": {},
   "outputs": [],
   "source": []
  }
 ],
 "metadata": {
  "kernelspec": {
   "display_name": "Python 3 (ipykernel)",
   "language": "python",
   "name": "python3"
  },
  "language_info": {
   "codemirror_mode": {
    "name": "ipython",
    "version": 3
   },
   "file_extension": ".py",
   "mimetype": "text/x-python",
   "name": "python",
   "nbconvert_exporter": "python",
   "pygments_lexer": "ipython3",
   "version": "3.8.16"
  }
 },
 "nbformat": 4,
 "nbformat_minor": 5
}
