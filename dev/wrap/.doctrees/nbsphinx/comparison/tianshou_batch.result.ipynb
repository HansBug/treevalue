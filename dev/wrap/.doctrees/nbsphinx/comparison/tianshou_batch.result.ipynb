{
 "cells": [
  {
   "cell_type": "markdown",
   "id": "9d39d946",
   "metadata": {},
   "source": [
    "# Comparison Between TreeValue and Tianshou Batch"
   ]
  },
  {
   "cell_type": "markdown",
   "id": "3c6db2d4",
   "metadata": {},
   "source": [
    "In this section, we will take a look at the feature and performance of the [Tianshou Batch](https://github.com/thu-ml/tianshou) library, which is developed by Tsinghua Machine Learning Group."
   ]
  },
  {
   "cell_type": "markdown",
   "id": "069361b0",
   "metadata": {},
   "source": [
    "Before starting the comparison, let us define some thing."
   ]
  },
  {
   "cell_type": "code",
   "execution_count": 1,
   "id": "06fc8d26",
   "metadata": {
    "execution": {
     "iopub.execute_input": "2023-02-27T11:39:25.856190Z",
     "iopub.status.busy": "2023-02-27T11:39:25.855795Z",
     "iopub.status.idle": "2023-02-27T11:39:26.844669Z",
     "shell.execute_reply": "2023-02-27T11:39:26.843866Z"
    }
   },
   "outputs": [
    {
     "name": "stderr",
     "output_type": "stream",
     "text": [
      "/opt/hostedtoolcache/Python/3.8.16/x64/lib/python3.8/site-packages/tqdm/auto.py:22: TqdmWarning: IProgress not found. Please update jupyter and ipywidgets. See https://ipywidgets.readthedocs.io/en/stable/user_install.html\n",
      "  from .autonotebook import tqdm as notebook_tqdm\n"
     ]
    }
   ],
   "source": [
    "import torch \n",
    "\n",
    "_TREE_DATA_1 = {'a': 1, 'b': 2, 'x': {'c': 3, 'd': 4}}\n",
    "_TREE_DATA_2 = {\n",
    "    'a': torch.randn(2, 3), \n",
    "    'x': {\n",
    "        'c': torch.randn(3, 4)\n",
    "    },\n",
    "}\n",
    "_TREE_DATA_3 = {\n",
    "    'obs': torch.randn(4, 84, 84),\n",
    "    'action': torch.randint(0, 6, size=(1,)),\n",
    "    'reward': torch.rand(1),\n",
    "}"
   ]
  },
  {
   "cell_type": "markdown",
   "id": "83461b25",
   "metadata": {},
   "source": [
    "## Read and Write Operation"
   ]
  },
  {
   "cell_type": "markdown",
   "id": "067b3f73",
   "metadata": {},
   "source": [
    "Reading and writing are the two most common operations in the tree data structure based on the data model (TreeValue and Tianshou Batch both belong to this type), so this section will compare the reading and writing performance of these two libraries."
   ]
  },
  {
   "cell_type": "markdown",
   "id": "5d09a5b7",
   "metadata": {},
   "source": [
    "### TreeValue's Get and Set"
   ]
  },
  {
   "cell_type": "code",
   "execution_count": 2,
   "id": "9519c4bb",
   "metadata": {
    "execution": {
     "iopub.execute_input": "2023-02-27T11:39:26.849116Z",
     "iopub.status.busy": "2023-02-27T11:39:26.848407Z",
     "iopub.status.idle": "2023-02-27T11:39:26.883928Z",
     "shell.execute_reply": "2023-02-27T11:39:26.883215Z"
    }
   },
   "outputs": [],
   "source": [
    "from treevalue import FastTreeValue\n",
    "\n",
    "t = FastTreeValue(_TREE_DATA_2)"
   ]
  },
  {
   "cell_type": "code",
   "execution_count": 3,
   "id": "11c37677",
   "metadata": {
    "execution": {
     "iopub.execute_input": "2023-02-27T11:39:26.887704Z",
     "iopub.status.busy": "2023-02-27T11:39:26.887075Z",
     "iopub.status.idle": "2023-02-27T11:39:26.897221Z",
     "shell.execute_reply": "2023-02-27T11:39:26.896601Z"
    }
   },
   "outputs": [
    {
     "data": {
      "text/plain": [
       "<FastTreeValue 0x7f1ea0f7ae80>\n",
       "├── 'a' --> tensor([[ 2.0097,  0.4762, -1.5782],\n",
       "│                   [-0.3751,  0.0518, -0.4334]])\n",
       "└── 'x' --> <FastTreeValue 0x7f1ea0f7afd0>\n",
       "    └── 'c' --> tensor([[ 1.4112, -1.0521,  0.5175,  2.3693],\n",
       "                        [ 0.0362, -0.3067,  0.6085, -1.8128],\n",
       "                        [-0.6217,  2.0139, -0.4573, -0.0803]])"
      ]
     },
     "execution_count": 3,
     "metadata": {},
     "output_type": "execute_result"
    }
   ],
   "source": [
    "t"
   ]
  },
  {
   "cell_type": "code",
   "execution_count": 4,
   "id": "fd70b0b9",
   "metadata": {
    "execution": {
     "iopub.execute_input": "2023-02-27T11:39:26.900056Z",
     "iopub.status.busy": "2023-02-27T11:39:26.899601Z",
     "iopub.status.idle": "2023-02-27T11:39:26.905492Z",
     "shell.execute_reply": "2023-02-27T11:39:26.904889Z"
    }
   },
   "outputs": [
    {
     "data": {
      "text/plain": [
       "tensor([[ 2.0097,  0.4762, -1.5782],\n",
       "        [-0.3751,  0.0518, -0.4334]])"
      ]
     },
     "execution_count": 4,
     "metadata": {},
     "output_type": "execute_result"
    }
   ],
   "source": [
    "t.a"
   ]
  },
  {
   "cell_type": "code",
   "execution_count": 5,
   "id": "c18197bd",
   "metadata": {
    "execution": {
     "iopub.execute_input": "2023-02-27T11:39:26.908410Z",
     "iopub.status.busy": "2023-02-27T11:39:26.907863Z",
     "iopub.status.idle": "2023-02-27T11:39:31.977396Z",
     "shell.execute_reply": "2023-02-27T11:39:31.976523Z"
    }
   },
   "outputs": [
    {
     "name": "stdout",
     "output_type": "stream",
     "text": [
      "62.4 ns ± 0.105 ns per loop (mean ± std. dev. of 7 runs, 10,000,000 loops each)\n"
     ]
    }
   ],
   "source": [
    "%timeit t.a"
   ]
  },
  {
   "cell_type": "code",
   "execution_count": 6,
   "id": "bd52f867",
   "metadata": {
    "execution": {
     "iopub.execute_input": "2023-02-27T11:39:31.981137Z",
     "iopub.status.busy": "2023-02-27T11:39:31.980468Z",
     "iopub.status.idle": "2023-02-27T11:39:31.987323Z",
     "shell.execute_reply": "2023-02-27T11:39:31.986620Z"
    }
   },
   "outputs": [
    {
     "data": {
      "text/plain": [
       "<FastTreeValue 0x7f1ea0f7ae80>\n",
       "├── 'a' --> tensor([[-0.2275, -0.0053, -0.4883],\n",
       "│                   [-1.8014, -1.3524, -0.4291]])\n",
       "└── 'x' --> <FastTreeValue 0x7f1ea0f7afd0>\n",
       "    └── 'c' --> tensor([[ 1.4112, -1.0521,  0.5175,  2.3693],\n",
       "                        [ 0.0362, -0.3067,  0.6085, -1.8128],\n",
       "                        [-0.6217,  2.0139, -0.4573, -0.0803]])"
      ]
     },
     "execution_count": 6,
     "metadata": {},
     "output_type": "execute_result"
    }
   ],
   "source": [
    "new_value = torch.randn(2, 3)\n",
    "t.a = new_value\n",
    "\n",
    "t"
   ]
  },
  {
   "cell_type": "code",
   "execution_count": 7,
   "id": "bbe04d1c",
   "metadata": {
    "execution": {
     "iopub.execute_input": "2023-02-27T11:39:31.990630Z",
     "iopub.status.busy": "2023-02-27T11:39:31.990045Z",
     "iopub.status.idle": "2023-02-27T11:39:37.711624Z",
     "shell.execute_reply": "2023-02-27T11:39:37.710742Z"
    }
   },
   "outputs": [
    {
     "name": "stdout",
     "output_type": "stream",
     "text": [
      "70.4 ns ± 0.0554 ns per loop (mean ± std. dev. of 7 runs, 10,000,000 loops each)\n"
     ]
    }
   ],
   "source": [
    "%timeit t.a = new_value"
   ]
  },
  {
   "cell_type": "markdown",
   "id": "48c49731",
   "metadata": {},
   "source": [
    "### Tianshou Batch's Get and Set"
   ]
  },
  {
   "cell_type": "code",
   "execution_count": 8,
   "id": "f1bb14c1",
   "metadata": {
    "execution": {
     "iopub.execute_input": "2023-02-27T11:39:37.715248Z",
     "iopub.status.busy": "2023-02-27T11:39:37.714844Z",
     "iopub.status.idle": "2023-02-27T11:39:38.085793Z",
     "shell.execute_reply": "2023-02-27T11:39:38.084542Z"
    }
   },
   "outputs": [],
   "source": [
    "from tianshou.data import Batch\n",
    "\n",
    "b = Batch(**_TREE_DATA_2)"
   ]
  },
  {
   "cell_type": "code",
   "execution_count": 9,
   "id": "cb0777c3",
   "metadata": {
    "execution": {
     "iopub.execute_input": "2023-02-27T11:39:38.089597Z",
     "iopub.status.busy": "2023-02-27T11:39:38.089115Z",
     "iopub.status.idle": "2023-02-27T11:39:38.095980Z",
     "shell.execute_reply": "2023-02-27T11:39:38.095351Z"
    }
   },
   "outputs": [
    {
     "data": {
      "text/plain": [
       "Batch(\n",
       "    a: tensor([[ 2.0097,  0.4762, -1.5782],\n",
       "               [-0.3751,  0.0518, -0.4334]]),\n",
       "    x: Batch(\n",
       "           c: tensor([[ 1.4112, -1.0521,  0.5175,  2.3693],\n",
       "                      [ 0.0362, -0.3067,  0.6085, -1.8128],\n",
       "                      [-0.6217,  2.0139, -0.4573, -0.0803]]),\n",
       "       ),\n",
       ")"
      ]
     },
     "execution_count": 9,
     "metadata": {},
     "output_type": "execute_result"
    }
   ],
   "source": [
    "b"
   ]
  },
  {
   "cell_type": "code",
   "execution_count": 10,
   "id": "43ef8ea3",
   "metadata": {
    "execution": {
     "iopub.execute_input": "2023-02-27T11:39:38.099195Z",
     "iopub.status.busy": "2023-02-27T11:39:38.098653Z",
     "iopub.status.idle": "2023-02-27T11:39:38.104586Z",
     "shell.execute_reply": "2023-02-27T11:39:38.103989Z"
    }
   },
   "outputs": [
    {
     "data": {
      "text/plain": [
       "tensor([[ 2.0097,  0.4762, -1.5782],\n",
       "        [-0.3751,  0.0518, -0.4334]])"
      ]
     },
     "execution_count": 10,
     "metadata": {},
     "output_type": "execute_result"
    }
   ],
   "source": [
    "b.a"
   ]
  },
  {
   "cell_type": "code",
   "execution_count": 11,
   "id": "b785ab72",
   "metadata": {
    "execution": {
     "iopub.execute_input": "2023-02-27T11:39:38.107047Z",
     "iopub.status.busy": "2023-02-27T11:39:38.106824Z",
     "iopub.status.idle": "2023-02-27T11:39:42.852346Z",
     "shell.execute_reply": "2023-02-27T11:39:42.851472Z"
    }
   },
   "outputs": [
    {
     "name": "stdout",
     "output_type": "stream",
     "text": [
      "58.3 ns ± 0.0449 ns per loop (mean ± std. dev. of 7 runs, 10,000,000 loops each)\n"
     ]
    }
   ],
   "source": [
    "%timeit b.a"
   ]
  },
  {
   "cell_type": "code",
   "execution_count": 12,
   "id": "ad54dc69",
   "metadata": {
    "execution": {
     "iopub.execute_input": "2023-02-27T11:39:42.855953Z",
     "iopub.status.busy": "2023-02-27T11:39:42.855350Z",
     "iopub.status.idle": "2023-02-27T11:39:42.862832Z",
     "shell.execute_reply": "2023-02-27T11:39:42.861865Z"
    }
   },
   "outputs": [
    {
     "data": {
      "text/plain": [
       "Batch(\n",
       "    a: tensor([[ 0.0941,  1.4889,  1.0317],\n",
       "               [-0.2321, -0.0324, -1.3299]]),\n",
       "    x: Batch(\n",
       "           c: tensor([[ 1.4112, -1.0521,  0.5175,  2.3693],\n",
       "                      [ 0.0362, -0.3067,  0.6085, -1.8128],\n",
       "                      [-0.6217,  2.0139, -0.4573, -0.0803]]),\n",
       "       ),\n",
       ")"
      ]
     },
     "execution_count": 12,
     "metadata": {},
     "output_type": "execute_result"
    }
   ],
   "source": [
    "new_value = torch.randn(2, 3)\n",
    "b.a = new_value\n",
    "\n",
    "b"
   ]
  },
  {
   "cell_type": "code",
   "execution_count": 13,
   "id": "29b1d0bf",
   "metadata": {
    "execution": {
     "iopub.execute_input": "2023-02-27T11:39:42.865542Z",
     "iopub.status.busy": "2023-02-27T11:39:42.865204Z",
     "iopub.status.idle": "2023-02-27T11:39:47.051026Z",
     "shell.execute_reply": "2023-02-27T11:39:47.050109Z"
    }
   },
   "outputs": [
    {
     "name": "stdout",
     "output_type": "stream",
     "text": [
      "514 ns ± 0.459 ns per loop (mean ± std. dev. of 7 runs, 1,000,000 loops each)\n"
     ]
    }
   ],
   "source": [
    "%timeit b.a = new_value"
   ]
  },
  {
   "cell_type": "markdown",
   "id": "b61ad1d0",
   "metadata": {},
   "source": [
    "## Initialization"
   ]
  },
  {
   "cell_type": "markdown",
   "id": "d70f0d54",
   "metadata": {},
   "source": [
    "### TreeValue's Initialization"
   ]
  },
  {
   "cell_type": "code",
   "execution_count": 14,
   "id": "d32a679b",
   "metadata": {
    "execution": {
     "iopub.execute_input": "2023-02-27T11:39:47.054720Z",
     "iopub.status.busy": "2023-02-27T11:39:47.054194Z",
     "iopub.status.idle": "2023-02-27T11:39:53.971310Z",
     "shell.execute_reply": "2023-02-27T11:39:53.970571Z"
    }
   },
   "outputs": [
    {
     "name": "stdout",
     "output_type": "stream",
     "text": [
      "850 ns ± 0.343 ns per loop (mean ± std. dev. of 7 runs, 1,000,000 loops each)\n"
     ]
    }
   ],
   "source": [
    "%timeit FastTreeValue(_TREE_DATA_1)"
   ]
  },
  {
   "cell_type": "markdown",
   "id": "24f3707b",
   "metadata": {},
   "source": [
    "### Tianshou Batch's Initialization"
   ]
  },
  {
   "cell_type": "code",
   "execution_count": 15,
   "id": "ac3958df",
   "metadata": {
    "execution": {
     "iopub.execute_input": "2023-02-27T11:39:53.975335Z",
     "iopub.status.busy": "2023-02-27T11:39:53.974850Z",
     "iopub.status.idle": "2023-02-27T11:40:03.102857Z",
     "shell.execute_reply": "2023-02-27T11:40:03.101955Z"
    }
   },
   "outputs": [
    {
     "name": "stdout",
     "output_type": "stream",
     "text": [
      "11.2 µs ± 38.7 ns per loop (mean ± std. dev. of 7 runs, 100,000 loops each)\n"
     ]
    }
   ],
   "source": [
    "%timeit Batch(**_TREE_DATA_1)"
   ]
  },
  {
   "cell_type": "markdown",
   "id": "1ab82e2d",
   "metadata": {},
   "source": [
    "## Deep Copy Operation"
   ]
  },
  {
   "cell_type": "code",
   "execution_count": 16,
   "id": "210a9442",
   "metadata": {
    "execution": {
     "iopub.execute_input": "2023-02-27T11:40:03.107016Z",
     "iopub.status.busy": "2023-02-27T11:40:03.106342Z",
     "iopub.status.idle": "2023-02-27T11:40:03.111446Z",
     "shell.execute_reply": "2023-02-27T11:40:03.110370Z"
    }
   },
   "outputs": [],
   "source": [
    "import copy"
   ]
  },
  {
   "cell_type": "markdown",
   "id": "5a736274",
   "metadata": {},
   "source": [
    "### Deep Copy of TreeValue"
   ]
  },
  {
   "cell_type": "code",
   "execution_count": 17,
   "id": "f9bcadd6",
   "metadata": {
    "execution": {
     "iopub.execute_input": "2023-02-27T11:40:03.114283Z",
     "iopub.status.busy": "2023-02-27T11:40:03.113881Z",
     "iopub.status.idle": "2023-02-27T11:40:14.739719Z",
     "shell.execute_reply": "2023-02-27T11:40:14.738569Z"
    }
   },
   "outputs": [
    {
     "name": "stdout",
     "output_type": "stream",
     "text": [
      "143 µs ± 640 ns per loop (mean ± std. dev. of 7 runs, 10,000 loops each)\n"
     ]
    }
   ],
   "source": [
    "t3 = FastTreeValue(_TREE_DATA_3)\n",
    "%timeit copy.deepcopy(t3)"
   ]
  },
  {
   "cell_type": "markdown",
   "id": "bf8be7ea",
   "metadata": {},
   "source": [
    "### Deep Copy of Tianshou Batch"
   ]
  },
  {
   "cell_type": "code",
   "execution_count": 18,
   "id": "91998e6f",
   "metadata": {
    "execution": {
     "iopub.execute_input": "2023-02-27T11:40:14.743139Z",
     "iopub.status.busy": "2023-02-27T11:40:14.742677Z",
     "iopub.status.idle": "2023-02-27T11:40:26.493222Z",
     "shell.execute_reply": "2023-02-27T11:40:26.492580Z"
    }
   },
   "outputs": [
    {
     "name": "stdout",
     "output_type": "stream",
     "text": [
      "145 µs ± 237 ns per loop (mean ± std. dev. of 7 runs, 10,000 loops each)\n"
     ]
    }
   ],
   "source": [
    "b3 = Batch(**_TREE_DATA_3)\n",
    "%timeit copy.deepcopy(b3)"
   ]
  },
  {
   "cell_type": "markdown",
   "id": "223162fb",
   "metadata": {},
   "source": [
    "## Stack, Concat and Split Operation"
   ]
  },
  {
   "cell_type": "markdown",
   "id": "85fa4a73",
   "metadata": {},
   "source": [
    "### Performance of TreeValue"
   ]
  },
  {
   "cell_type": "code",
   "execution_count": 19,
   "id": "a0c2b697",
   "metadata": {
    "execution": {
     "iopub.execute_input": "2023-02-27T11:40:26.496487Z",
     "iopub.status.busy": "2023-02-27T11:40:26.495972Z",
     "iopub.status.idle": "2023-02-27T11:40:26.499540Z",
     "shell.execute_reply": "2023-02-27T11:40:26.498968Z"
    }
   },
   "outputs": [],
   "source": [
    "trees = [FastTreeValue(_TREE_DATA_2) for _ in range(8)]"
   ]
  },
  {
   "cell_type": "code",
   "execution_count": 20,
   "id": "017ea5a5",
   "metadata": {
    "execution": {
     "iopub.execute_input": "2023-02-27T11:40:26.502173Z",
     "iopub.status.busy": "2023-02-27T11:40:26.501617Z",
     "iopub.status.idle": "2023-02-27T11:40:26.509347Z",
     "shell.execute_reply": "2023-02-27T11:40:26.508647Z"
    }
   },
   "outputs": [
    {
     "data": {
      "text/plain": [
       "<FastTreeValue 0x7f1ea0f7ad90>\n",
       "├── 'a' --> tensor([[[ 2.0097,  0.4762, -1.5782],\n",
       "│                    [-0.3751,  0.0518, -0.4334]],\n",
       "│           \n",
       "│                   [[ 2.0097,  0.4762, -1.5782],\n",
       "│                    [-0.3751,  0.0518, -0.4334]],\n",
       "│           \n",
       "│                   [[ 2.0097,  0.4762, -1.5782],\n",
       "│                    [-0.3751,  0.0518, -0.4334]],\n",
       "│           \n",
       "│                   [[ 2.0097,  0.4762, -1.5782],\n",
       "│                    [-0.3751,  0.0518, -0.4334]],\n",
       "│           \n",
       "│                   [[ 2.0097,  0.4762, -1.5782],\n",
       "│                    [-0.3751,  0.0518, -0.4334]],\n",
       "│           \n",
       "│                   [[ 2.0097,  0.4762, -1.5782],\n",
       "│                    [-0.3751,  0.0518, -0.4334]],\n",
       "│           \n",
       "│                   [[ 2.0097,  0.4762, -1.5782],\n",
       "│                    [-0.3751,  0.0518, -0.4334]],\n",
       "│           \n",
       "│                   [[ 2.0097,  0.4762, -1.5782],\n",
       "│                    [-0.3751,  0.0518, -0.4334]]])\n",
       "└── 'x' --> <FastTreeValue 0x7f1ea0f7af40>\n",
       "    └── 'c' --> tensor([[[ 1.4112, -1.0521,  0.5175,  2.3693],\n",
       "                         [ 0.0362, -0.3067,  0.6085, -1.8128],\n",
       "                         [-0.6217,  2.0139, -0.4573, -0.0803]],\n",
       "                \n",
       "                        [[ 1.4112, -1.0521,  0.5175,  2.3693],\n",
       "                         [ 0.0362, -0.3067,  0.6085, -1.8128],\n",
       "                         [-0.6217,  2.0139, -0.4573, -0.0803]],\n",
       "                \n",
       "                        [[ 1.4112, -1.0521,  0.5175,  2.3693],\n",
       "                         [ 0.0362, -0.3067,  0.6085, -1.8128],\n",
       "                         [-0.6217,  2.0139, -0.4573, -0.0803]],\n",
       "                \n",
       "                        [[ 1.4112, -1.0521,  0.5175,  2.3693],\n",
       "                         [ 0.0362, -0.3067,  0.6085, -1.8128],\n",
       "                         [-0.6217,  2.0139, -0.4573, -0.0803]],\n",
       "                \n",
       "                        [[ 1.4112, -1.0521,  0.5175,  2.3693],\n",
       "                         [ 0.0362, -0.3067,  0.6085, -1.8128],\n",
       "                         [-0.6217,  2.0139, -0.4573, -0.0803]],\n",
       "                \n",
       "                        [[ 1.4112, -1.0521,  0.5175,  2.3693],\n",
       "                         [ 0.0362, -0.3067,  0.6085, -1.8128],\n",
       "                         [-0.6217,  2.0139, -0.4573, -0.0803]],\n",
       "                \n",
       "                        [[ 1.4112, -1.0521,  0.5175,  2.3693],\n",
       "                         [ 0.0362, -0.3067,  0.6085, -1.8128],\n",
       "                         [-0.6217,  2.0139, -0.4573, -0.0803]],\n",
       "                \n",
       "                        [[ 1.4112, -1.0521,  0.5175,  2.3693],\n",
       "                         [ 0.0362, -0.3067,  0.6085, -1.8128],\n",
       "                         [-0.6217,  2.0139, -0.4573, -0.0803]]])"
      ]
     },
     "execution_count": 20,
     "metadata": {},
     "output_type": "execute_result"
    }
   ],
   "source": [
    "t_stack = FastTreeValue.func(subside=True)(torch.stack)\n",
    "\n",
    "t_stack(trees)"
   ]
  },
  {
   "cell_type": "code",
   "execution_count": 21,
   "id": "f8b3f415",
   "metadata": {
    "execution": {
     "iopub.execute_input": "2023-02-27T11:40:26.512174Z",
     "iopub.status.busy": "2023-02-27T11:40:26.511806Z",
     "iopub.status.idle": "2023-02-27T11:40:29.113015Z",
     "shell.execute_reply": "2023-02-27T11:40:29.112331Z"
    }
   },
   "outputs": [
    {
     "name": "stdout",
     "output_type": "stream",
     "text": [
      "32 µs ± 32 ns per loop (mean ± std. dev. of 7 runs, 10,000 loops each)\n"
     ]
    }
   ],
   "source": [
    "%timeit t_stack(trees)"
   ]
  },
  {
   "cell_type": "code",
   "execution_count": 22,
   "id": "94b56771",
   "metadata": {
    "execution": {
     "iopub.execute_input": "2023-02-27T11:40:29.116481Z",
     "iopub.status.busy": "2023-02-27T11:40:29.116065Z",
     "iopub.status.idle": "2023-02-27T11:40:29.123762Z",
     "shell.execute_reply": "2023-02-27T11:40:29.123056Z"
    }
   },
   "outputs": [
    {
     "data": {
      "text/plain": [
       "<FastTreeValue 0x7f1e783e1a60>\n",
       "├── 'a' --> tensor([[ 2.0097,  0.4762, -1.5782],\n",
       "│                   [-0.3751,  0.0518, -0.4334],\n",
       "│                   [ 2.0097,  0.4762, -1.5782],\n",
       "│                   [-0.3751,  0.0518, -0.4334],\n",
       "│                   [ 2.0097,  0.4762, -1.5782],\n",
       "│                   [-0.3751,  0.0518, -0.4334],\n",
       "│                   [ 2.0097,  0.4762, -1.5782],\n",
       "│                   [-0.3751,  0.0518, -0.4334],\n",
       "│                   [ 2.0097,  0.4762, -1.5782],\n",
       "│                   [-0.3751,  0.0518, -0.4334],\n",
       "│                   [ 2.0097,  0.4762, -1.5782],\n",
       "│                   [-0.3751,  0.0518, -0.4334],\n",
       "│                   [ 2.0097,  0.4762, -1.5782],\n",
       "│                   [-0.3751,  0.0518, -0.4334],\n",
       "│                   [ 2.0097,  0.4762, -1.5782],\n",
       "│                   [-0.3751,  0.0518, -0.4334]])\n",
       "└── 'x' --> <FastTreeValue 0x7f1df5318df0>\n",
       "    └── 'c' --> tensor([[ 1.4112, -1.0521,  0.5175,  2.3693],\n",
       "                        [ 0.0362, -0.3067,  0.6085, -1.8128],\n",
       "                        [-0.6217,  2.0139, -0.4573, -0.0803],\n",
       "                        [ 1.4112, -1.0521,  0.5175,  2.3693],\n",
       "                        [ 0.0362, -0.3067,  0.6085, -1.8128],\n",
       "                        [-0.6217,  2.0139, -0.4573, -0.0803],\n",
       "                        [ 1.4112, -1.0521,  0.5175,  2.3693],\n",
       "                        [ 0.0362, -0.3067,  0.6085, -1.8128],\n",
       "                        [-0.6217,  2.0139, -0.4573, -0.0803],\n",
       "                        [ 1.4112, -1.0521,  0.5175,  2.3693],\n",
       "                        [ 0.0362, -0.3067,  0.6085, -1.8128],\n",
       "                        [-0.6217,  2.0139, -0.4573, -0.0803],\n",
       "                        [ 1.4112, -1.0521,  0.5175,  2.3693],\n",
       "                        [ 0.0362, -0.3067,  0.6085, -1.8128],\n",
       "                        [-0.6217,  2.0139, -0.4573, -0.0803],\n",
       "                        [ 1.4112, -1.0521,  0.5175,  2.3693],\n",
       "                        [ 0.0362, -0.3067,  0.6085, -1.8128],\n",
       "                        [-0.6217,  2.0139, -0.4573, -0.0803],\n",
       "                        [ 1.4112, -1.0521,  0.5175,  2.3693],\n",
       "                        [ 0.0362, -0.3067,  0.6085, -1.8128],\n",
       "                        [-0.6217,  2.0139, -0.4573, -0.0803],\n",
       "                        [ 1.4112, -1.0521,  0.5175,  2.3693],\n",
       "                        [ 0.0362, -0.3067,  0.6085, -1.8128],\n",
       "                        [-0.6217,  2.0139, -0.4573, -0.0803]])"
      ]
     },
     "execution_count": 22,
     "metadata": {},
     "output_type": "execute_result"
    }
   ],
   "source": [
    "t_cat = FastTreeValue.func(subside=True)(torch.cat)\n",
    "\n",
    "t_cat(trees)"
   ]
  },
  {
   "cell_type": "code",
   "execution_count": 23,
   "id": "5e9c06a6",
   "metadata": {
    "execution": {
     "iopub.execute_input": "2023-02-27T11:40:29.126792Z",
     "iopub.status.busy": "2023-02-27T11:40:29.126339Z",
     "iopub.status.idle": "2023-02-27T11:40:31.589156Z",
     "shell.execute_reply": "2023-02-27T11:40:31.588288Z"
    }
   },
   "outputs": [
    {
     "name": "stdout",
     "output_type": "stream",
     "text": [
      "30.3 µs ± 30.6 ns per loop (mean ± std. dev. of 7 runs, 10,000 loops each)\n"
     ]
    }
   ],
   "source": [
    "%timeit t_cat(trees)"
   ]
  },
  {
   "cell_type": "code",
   "execution_count": 24,
   "id": "a3ab5c8f",
   "metadata": {
    "execution": {
     "iopub.execute_input": "2023-02-27T11:40:31.592688Z",
     "iopub.status.busy": "2023-02-27T11:40:31.592184Z",
     "iopub.status.idle": "2023-02-27T11:40:36.258719Z",
     "shell.execute_reply": "2023-02-27T11:40:36.257827Z"
    }
   },
   "outputs": [
    {
     "name": "stdout",
     "output_type": "stream",
     "text": [
      "57.4 µs ± 74.3 ns per loop (mean ± std. dev. of 7 runs, 10,000 loops each)\n"
     ]
    }
   ],
   "source": [
    "t_split = FastTreeValue.func(rise=True)(torch.split)\n",
    "tree = FastTreeValue({\n",
    "    'obs': torch.randn(8, 4, 84, 84),\n",
    "    'action': torch.randint(0, 6, size=(8, 1,)),\n",
    "    'reward': torch.rand(8, 1),\n",
    "})\n",
    "\n",
    "%timeit t_split(tree, 1)"
   ]
  },
  {
   "cell_type": "markdown",
   "id": "31c3ec0b",
   "metadata": {},
   "source": [
    "### Performance of Tianshou Batch"
   ]
  },
  {
   "cell_type": "code",
   "execution_count": 25,
   "id": "9ead828a",
   "metadata": {
    "execution": {
     "iopub.execute_input": "2023-02-27T11:40:36.262053Z",
     "iopub.status.busy": "2023-02-27T11:40:36.261670Z",
     "iopub.status.idle": "2023-02-27T11:40:36.270303Z",
     "shell.execute_reply": "2023-02-27T11:40:36.269675Z"
    }
   },
   "outputs": [
    {
     "data": {
      "text/plain": [
       "Batch(\n",
       "    x: Batch(\n",
       "           c: tensor([[[ 1.4112, -1.0521,  0.5175,  2.3693],\n",
       "                       [ 0.0362, -0.3067,  0.6085, -1.8128],\n",
       "                       [-0.6217,  2.0139, -0.4573, -0.0803]],\n",
       "              \n",
       "                      [[ 1.4112, -1.0521,  0.5175,  2.3693],\n",
       "                       [ 0.0362, -0.3067,  0.6085, -1.8128],\n",
       "                       [-0.6217,  2.0139, -0.4573, -0.0803]],\n",
       "              \n",
       "                      [[ 1.4112, -1.0521,  0.5175,  2.3693],\n",
       "                       [ 0.0362, -0.3067,  0.6085, -1.8128],\n",
       "                       [-0.6217,  2.0139, -0.4573, -0.0803]],\n",
       "              \n",
       "                      [[ 1.4112, -1.0521,  0.5175,  2.3693],\n",
       "                       [ 0.0362, -0.3067,  0.6085, -1.8128],\n",
       "                       [-0.6217,  2.0139, -0.4573, -0.0803]],\n",
       "              \n",
       "                      [[ 1.4112, -1.0521,  0.5175,  2.3693],\n",
       "                       [ 0.0362, -0.3067,  0.6085, -1.8128],\n",
       "                       [-0.6217,  2.0139, -0.4573, -0.0803]],\n",
       "              \n",
       "                      [[ 1.4112, -1.0521,  0.5175,  2.3693],\n",
       "                       [ 0.0362, -0.3067,  0.6085, -1.8128],\n",
       "                       [-0.6217,  2.0139, -0.4573, -0.0803]],\n",
       "              \n",
       "                      [[ 1.4112, -1.0521,  0.5175,  2.3693],\n",
       "                       [ 0.0362, -0.3067,  0.6085, -1.8128],\n",
       "                       [-0.6217,  2.0139, -0.4573, -0.0803]],\n",
       "              \n",
       "                      [[ 1.4112, -1.0521,  0.5175,  2.3693],\n",
       "                       [ 0.0362, -0.3067,  0.6085, -1.8128],\n",
       "                       [-0.6217,  2.0139, -0.4573, -0.0803]]]),\n",
       "       ),\n",
       "    a: tensor([[[ 2.0097,  0.4762, -1.5782],\n",
       "                [-0.3751,  0.0518, -0.4334]],\n",
       "       \n",
       "               [[ 2.0097,  0.4762, -1.5782],\n",
       "                [-0.3751,  0.0518, -0.4334]],\n",
       "       \n",
       "               [[ 2.0097,  0.4762, -1.5782],\n",
       "                [-0.3751,  0.0518, -0.4334]],\n",
       "       \n",
       "               [[ 2.0097,  0.4762, -1.5782],\n",
       "                [-0.3751,  0.0518, -0.4334]],\n",
       "       \n",
       "               [[ 2.0097,  0.4762, -1.5782],\n",
       "                [-0.3751,  0.0518, -0.4334]],\n",
       "       \n",
       "               [[ 2.0097,  0.4762, -1.5782],\n",
       "                [-0.3751,  0.0518, -0.4334]],\n",
       "       \n",
       "               [[ 2.0097,  0.4762, -1.5782],\n",
       "                [-0.3751,  0.0518, -0.4334]],\n",
       "       \n",
       "               [[ 2.0097,  0.4762, -1.5782],\n",
       "                [-0.3751,  0.0518, -0.4334]]]),\n",
       ")"
      ]
     },
     "execution_count": 25,
     "metadata": {},
     "output_type": "execute_result"
    }
   ],
   "source": [
    "batches = [Batch(**_TREE_DATA_2) for _ in range(8)]\n",
    "\n",
    "Batch.stack(batches)"
   ]
  },
  {
   "cell_type": "code",
   "execution_count": 26,
   "id": "ec9037a3",
   "metadata": {
    "execution": {
     "iopub.execute_input": "2023-02-27T11:40:36.273358Z",
     "iopub.status.busy": "2023-02-27T11:40:36.272903Z",
     "iopub.status.idle": "2023-02-27T11:40:42.628573Z",
     "shell.execute_reply": "2023-02-27T11:40:42.627684Z"
    }
   },
   "outputs": [
    {
     "name": "stdout",
     "output_type": "stream",
     "text": [
      "78.2 µs ± 134 ns per loop (mean ± std. dev. of 7 runs, 10,000 loops each)\n"
     ]
    }
   ],
   "source": [
    "%timeit Batch.stack(batches)"
   ]
  },
  {
   "cell_type": "code",
   "execution_count": 27,
   "id": "cb8ab77e",
   "metadata": {
    "execution": {
     "iopub.execute_input": "2023-02-27T11:40:42.631999Z",
     "iopub.status.busy": "2023-02-27T11:40:42.631552Z",
     "iopub.status.idle": "2023-02-27T11:40:42.640050Z",
     "shell.execute_reply": "2023-02-27T11:40:42.639427Z"
    }
   },
   "outputs": [
    {
     "data": {
      "text/plain": [
       "Batch(\n",
       "    x: Batch(\n",
       "           c: tensor([[ 1.4112, -1.0521,  0.5175,  2.3693],\n",
       "                      [ 0.0362, -0.3067,  0.6085, -1.8128],\n",
       "                      [-0.6217,  2.0139, -0.4573, -0.0803],\n",
       "                      [ 1.4112, -1.0521,  0.5175,  2.3693],\n",
       "                      [ 0.0362, -0.3067,  0.6085, -1.8128],\n",
       "                      [-0.6217,  2.0139, -0.4573, -0.0803],\n",
       "                      [ 1.4112, -1.0521,  0.5175,  2.3693],\n",
       "                      [ 0.0362, -0.3067,  0.6085, -1.8128],\n",
       "                      [-0.6217,  2.0139, -0.4573, -0.0803],\n",
       "                      [ 1.4112, -1.0521,  0.5175,  2.3693],\n",
       "                      [ 0.0362, -0.3067,  0.6085, -1.8128],\n",
       "                      [-0.6217,  2.0139, -0.4573, -0.0803],\n",
       "                      [ 1.4112, -1.0521,  0.5175,  2.3693],\n",
       "                      [ 0.0362, -0.3067,  0.6085, -1.8128],\n",
       "                      [-0.6217,  2.0139, -0.4573, -0.0803],\n",
       "                      [ 1.4112, -1.0521,  0.5175,  2.3693],\n",
       "                      [ 0.0362, -0.3067,  0.6085, -1.8128],\n",
       "                      [-0.6217,  2.0139, -0.4573, -0.0803],\n",
       "                      [ 1.4112, -1.0521,  0.5175,  2.3693],\n",
       "                      [ 0.0362, -0.3067,  0.6085, -1.8128],\n",
       "                      [-0.6217,  2.0139, -0.4573, -0.0803],\n",
       "                      [ 1.4112, -1.0521,  0.5175,  2.3693],\n",
       "                      [ 0.0362, -0.3067,  0.6085, -1.8128],\n",
       "                      [-0.6217,  2.0139, -0.4573, -0.0803]]),\n",
       "       ),\n",
       "    a: tensor([[ 2.0097,  0.4762, -1.5782],\n",
       "               [-0.3751,  0.0518, -0.4334],\n",
       "               [ 2.0097,  0.4762, -1.5782],\n",
       "               [-0.3751,  0.0518, -0.4334],\n",
       "               [ 2.0097,  0.4762, -1.5782],\n",
       "               [-0.3751,  0.0518, -0.4334],\n",
       "               [ 2.0097,  0.4762, -1.5782],\n",
       "               [-0.3751,  0.0518, -0.4334],\n",
       "               [ 2.0097,  0.4762, -1.5782],\n",
       "               [-0.3751,  0.0518, -0.4334],\n",
       "               [ 2.0097,  0.4762, -1.5782],\n",
       "               [-0.3751,  0.0518, -0.4334],\n",
       "               [ 2.0097,  0.4762, -1.5782],\n",
       "               [-0.3751,  0.0518, -0.4334],\n",
       "               [ 2.0097,  0.4762, -1.5782],\n",
       "               [-0.3751,  0.0518, -0.4334]]),\n",
       ")"
      ]
     },
     "execution_count": 27,
     "metadata": {},
     "output_type": "execute_result"
    }
   ],
   "source": [
    "Batch.cat(batches)"
   ]
  },
  {
   "cell_type": "code",
   "execution_count": 28,
   "id": "18dfb045",
   "metadata": {
    "execution": {
     "iopub.execute_input": "2023-02-27T11:40:42.642993Z",
     "iopub.status.busy": "2023-02-27T11:40:42.642539Z",
     "iopub.status.idle": "2023-02-27T11:40:55.162471Z",
     "shell.execute_reply": "2023-02-27T11:40:55.161616Z"
    }
   },
   "outputs": [
    {
     "name": "stdout",
     "output_type": "stream",
     "text": [
      "155 µs ± 3.46 µs per loop (mean ± std. dev. of 7 runs, 10,000 loops each)\n"
     ]
    }
   ],
   "source": [
    "%timeit Batch.cat(batches)"
   ]
  },
  {
   "cell_type": "code",
   "execution_count": 29,
   "id": "c6688e51",
   "metadata": {
    "execution": {
     "iopub.execute_input": "2023-02-27T11:40:55.166259Z",
     "iopub.status.busy": "2023-02-27T11:40:55.165836Z",
     "iopub.status.idle": "2023-02-27T11:40:57.884766Z",
     "shell.execute_reply": "2023-02-27T11:40:57.883940Z"
    }
   },
   "outputs": [
    {
     "name": "stdout",
     "output_type": "stream",
     "text": [
      "334 µs ± 4.36 µs per loop (mean ± std. dev. of 7 runs, 1,000 loops each)\n"
     ]
    }
   ],
   "source": [
    "batch = Batch({\n",
    "    'obs': torch.randn(8, 4, 84, 84),\n",
    "    'action': torch.randint(0, 6, size=(8, 1,)),\n",
    "    'reward': torch.rand(8, 1)}\n",
    ")\n",
    "\n",
    "%timeit list(Batch.split(batch, 1, shuffle=False, merge_last=True))"
   ]
  },
  {
   "cell_type": "code",
   "execution_count": null,
   "id": "2539fbd9",
   "metadata": {},
   "outputs": [],
   "source": []
  }
 ],
 "metadata": {
  "kernelspec": {
   "display_name": "Python 3 (ipykernel)",
   "language": "python",
   "name": "python3"
  },
  "language_info": {
   "codemirror_mode": {
    "name": "ipython",
    "version": 3
   },
   "file_extension": ".py",
   "mimetype": "text/x-python",
   "name": "python",
   "nbconvert_exporter": "python",
   "pygments_lexer": "ipython3",
   "version": "3.8.16"
  }
 },
 "nbformat": 4,
 "nbformat_minor": 5
}
