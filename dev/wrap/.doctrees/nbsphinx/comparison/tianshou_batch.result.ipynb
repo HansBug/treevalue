{
 "cells": [
  {
   "cell_type": "markdown",
   "id": "9d39d946",
   "metadata": {},
   "source": [
    "# Comparison Between TreeValue and Tianshou Batch"
   ]
  },
  {
   "cell_type": "markdown",
   "id": "3c6db2d4",
   "metadata": {},
   "source": [
    "In this section, we will take a look at the feature and performance of the [Tianshou Batch](https://github.com/thu-ml/tianshou) library, which is developed by Tsinghua Machine Learning Group."
   ]
  },
  {
   "cell_type": "markdown",
   "id": "069361b0",
   "metadata": {},
   "source": [
    "Before starting the comparison, let us define some thing."
   ]
  },
  {
   "cell_type": "code",
   "execution_count": 1,
   "id": "06fc8d26",
   "metadata": {
    "execution": {
     "iopub.execute_input": "2023-04-16T15:08:39.719663Z",
     "iopub.status.busy": "2023-04-16T15:08:39.719461Z",
     "iopub.status.idle": "2023-04-16T15:08:40.989416Z",
     "shell.execute_reply": "2023-04-16T15:08:40.988207Z"
    }
   },
   "outputs": [],
   "source": [
    "import torch \n",
    "\n",
    "_TREE_DATA_1 = {'a': 1, 'b': 2, 'x': {'c': 3, 'd': 4}}\n",
    "_TREE_DATA_2 = {\n",
    "    'a': torch.randn(2, 3), \n",
    "    'x': {\n",
    "        'c': torch.randn(3, 4)\n",
    "    },\n",
    "}\n",
    "_TREE_DATA_3 = {\n",
    "    'obs': torch.randn(4, 84, 84),\n",
    "    'action': torch.randint(0, 6, size=(1,)),\n",
    "    'reward': torch.rand(1),\n",
    "}"
   ]
  },
  {
   "cell_type": "markdown",
   "id": "83461b25",
   "metadata": {},
   "source": [
    "## Read and Write Operation"
   ]
  },
  {
   "cell_type": "markdown",
   "id": "067b3f73",
   "metadata": {},
   "source": [
    "Reading and writing are the two most common operations in the tree data structure based on the data model (TreeValue and Tianshou Batch both belong to this type), so this section will compare the reading and writing performance of these two libraries."
   ]
  },
  {
   "cell_type": "markdown",
   "id": "5d09a5b7",
   "metadata": {},
   "source": [
    "### TreeValue's Get and Set"
   ]
  },
  {
   "cell_type": "code",
   "execution_count": 2,
   "id": "9519c4bb",
   "metadata": {
    "execution": {
     "iopub.execute_input": "2023-04-16T15:08:40.992917Z",
     "iopub.status.busy": "2023-04-16T15:08:40.992502Z",
     "iopub.status.idle": "2023-04-16T15:08:41.019846Z",
     "shell.execute_reply": "2023-04-16T15:08:41.019274Z"
    }
   },
   "outputs": [],
   "source": [
    "from treevalue import FastTreeValue\n",
    "\n",
    "t = FastTreeValue(_TREE_DATA_2)"
   ]
  },
  {
   "cell_type": "code",
   "execution_count": 3,
   "id": "11c37677",
   "metadata": {
    "execution": {
     "iopub.execute_input": "2023-04-16T15:08:41.022446Z",
     "iopub.status.busy": "2023-04-16T15:08:41.022225Z",
     "iopub.status.idle": "2023-04-16T15:08:41.032622Z",
     "shell.execute_reply": "2023-04-16T15:08:41.031494Z"
    }
   },
   "outputs": [
    {
     "data": {
      "text/plain": [
       "<FastTreeValue 0x7f4ca4f64850>\n",
       "├── 'a' --> tensor([[-0.4081,  1.8504, -0.0261],\n",
       "│                   [-0.2306,  0.8374, -0.5673]])\n",
       "└── 'x' --> <FastTreeValue 0x7f4ca4f64e50>\n",
       "    └── 'c' --> tensor([[ 0.4883, -1.6991, -1.1008,  1.6312],\n",
       "                        [ 0.6688, -0.6292, -1.5267,  0.0973],\n",
       "                        [-0.7176,  0.0279,  0.3726, -0.9494]])"
      ]
     },
     "execution_count": 3,
     "metadata": {},
     "output_type": "execute_result"
    }
   ],
   "source": [
    "t"
   ]
  },
  {
   "cell_type": "code",
   "execution_count": 4,
   "id": "fd70b0b9",
   "metadata": {
    "execution": {
     "iopub.execute_input": "2023-04-16T15:08:41.035239Z",
     "iopub.status.busy": "2023-04-16T15:08:41.035027Z",
     "iopub.status.idle": "2023-04-16T15:08:41.039644Z",
     "shell.execute_reply": "2023-04-16T15:08:41.039024Z"
    }
   },
   "outputs": [
    {
     "data": {
      "text/plain": [
       "tensor([[-0.4081,  1.8504, -0.0261],\n",
       "        [-0.2306,  0.8374, -0.5673]])"
      ]
     },
     "execution_count": 4,
     "metadata": {},
     "output_type": "execute_result"
    }
   ],
   "source": [
    "t.a"
   ]
  },
  {
   "cell_type": "code",
   "execution_count": 5,
   "id": "c18197bd",
   "metadata": {
    "execution": {
     "iopub.execute_input": "2023-04-16T15:08:41.042723Z",
     "iopub.status.busy": "2023-04-16T15:08:41.042515Z",
     "iopub.status.idle": "2023-04-16T15:08:46.295488Z",
     "shell.execute_reply": "2023-04-16T15:08:46.294896Z"
    }
   },
   "outputs": [
    {
     "name": "stdout",
     "output_type": "stream",
     "text": [
      "64.4 ns ± 0.0644 ns per loop (mean ± std. dev. of 7 runs, 10,000,000 loops each)\n"
     ]
    }
   ],
   "source": [
    "%timeit t.a"
   ]
  },
  {
   "cell_type": "code",
   "execution_count": 6,
   "id": "bd52f867",
   "metadata": {
    "execution": {
     "iopub.execute_input": "2023-04-16T15:08:46.298590Z",
     "iopub.status.busy": "2023-04-16T15:08:46.297973Z",
     "iopub.status.idle": "2023-04-16T15:08:46.304019Z",
     "shell.execute_reply": "2023-04-16T15:08:46.303387Z"
    }
   },
   "outputs": [
    {
     "data": {
      "text/plain": [
       "<FastTreeValue 0x7f4ca4f64850>\n",
       "├── 'a' --> tensor([[-0.6112,  1.0969,  0.4097],\n",
       "│                   [ 0.2350, -0.1465, -0.8692]])\n",
       "└── 'x' --> <FastTreeValue 0x7f4ca4f64e50>\n",
       "    └── 'c' --> tensor([[ 0.4883, -1.6991, -1.1008,  1.6312],\n",
       "                        [ 0.6688, -0.6292, -1.5267,  0.0973],\n",
       "                        [-0.7176,  0.0279,  0.3726, -0.9494]])"
      ]
     },
     "execution_count": 6,
     "metadata": {},
     "output_type": "execute_result"
    }
   ],
   "source": [
    "new_value = torch.randn(2, 3)\n",
    "t.a = new_value\n",
    "\n",
    "t"
   ]
  },
  {
   "cell_type": "code",
   "execution_count": 7,
   "id": "bbe04d1c",
   "metadata": {
    "execution": {
     "iopub.execute_input": "2023-04-16T15:08:46.306633Z",
     "iopub.status.busy": "2023-04-16T15:08:46.306304Z",
     "iopub.status.idle": "2023-04-16T15:08:52.294700Z",
     "shell.execute_reply": "2023-04-16T15:08:52.293943Z"
    }
   },
   "outputs": [
    {
     "name": "stdout",
     "output_type": "stream",
     "text": [
      "73.7 ns ± 0.0166 ns per loop (mean ± std. dev. of 7 runs, 10,000,000 loops each)\n"
     ]
    }
   ],
   "source": [
    "%timeit t.a = new_value"
   ]
  },
  {
   "cell_type": "markdown",
   "id": "48c49731",
   "metadata": {},
   "source": [
    "### Tianshou Batch's Get and Set"
   ]
  },
  {
   "cell_type": "code",
   "execution_count": 8,
   "id": "f1bb14c1",
   "metadata": {
    "execution": {
     "iopub.execute_input": "2023-04-16T15:08:52.297963Z",
     "iopub.status.busy": "2023-04-16T15:08:52.297364Z",
     "iopub.status.idle": "2023-04-16T15:08:52.639952Z",
     "shell.execute_reply": "2023-04-16T15:08:52.639319Z"
    }
   },
   "outputs": [],
   "source": [
    "from tianshou.data import Batch\n",
    "\n",
    "b = Batch(**_TREE_DATA_2)"
   ]
  },
  {
   "cell_type": "code",
   "execution_count": 9,
   "id": "cb0777c3",
   "metadata": {
    "execution": {
     "iopub.execute_input": "2023-04-16T15:08:52.643387Z",
     "iopub.status.busy": "2023-04-16T15:08:52.642878Z",
     "iopub.status.idle": "2023-04-16T15:08:52.648285Z",
     "shell.execute_reply": "2023-04-16T15:08:52.647686Z"
    }
   },
   "outputs": [
    {
     "data": {
      "text/plain": [
       "Batch(\n",
       "    a: tensor([[-0.4081,  1.8504, -0.0261],\n",
       "               [-0.2306,  0.8374, -0.5673]]),\n",
       "    x: Batch(\n",
       "           c: tensor([[ 0.4883, -1.6991, -1.1008,  1.6312],\n",
       "                      [ 0.6688, -0.6292, -1.5267,  0.0973],\n",
       "                      [-0.7176,  0.0279,  0.3726, -0.9494]]),\n",
       "       ),\n",
       ")"
      ]
     },
     "execution_count": 9,
     "metadata": {},
     "output_type": "execute_result"
    }
   ],
   "source": [
    "b"
   ]
  },
  {
   "cell_type": "code",
   "execution_count": 10,
   "id": "43ef8ea3",
   "metadata": {
    "execution": {
     "iopub.execute_input": "2023-04-16T15:08:52.650968Z",
     "iopub.status.busy": "2023-04-16T15:08:52.650760Z",
     "iopub.status.idle": "2023-04-16T15:08:52.657720Z",
     "shell.execute_reply": "2023-04-16T15:08:52.656810Z"
    }
   },
   "outputs": [
    {
     "data": {
      "text/plain": [
       "tensor([[-0.4081,  1.8504, -0.0261],\n",
       "        [-0.2306,  0.8374, -0.5673]])"
      ]
     },
     "execution_count": 10,
     "metadata": {},
     "output_type": "execute_result"
    }
   ],
   "source": [
    "b.a"
   ]
  },
  {
   "cell_type": "code",
   "execution_count": 11,
   "id": "b785ab72",
   "metadata": {
    "execution": {
     "iopub.execute_input": "2023-04-16T15:08:52.660729Z",
     "iopub.status.busy": "2023-04-16T15:08:52.660407Z",
     "iopub.status.idle": "2023-04-16T15:08:57.776918Z",
     "shell.execute_reply": "2023-04-16T15:08:57.775781Z"
    }
   },
   "outputs": [
    {
     "name": "stdout",
     "output_type": "stream",
     "text": [
      "62.8 ns ± 0.0263 ns per loop (mean ± std. dev. of 7 runs, 10,000,000 loops each)\n"
     ]
    }
   ],
   "source": [
    "%timeit b.a"
   ]
  },
  {
   "cell_type": "code",
   "execution_count": 12,
   "id": "ad54dc69",
   "metadata": {
    "execution": {
     "iopub.execute_input": "2023-04-16T15:08:57.780353Z",
     "iopub.status.busy": "2023-04-16T15:08:57.779789Z",
     "iopub.status.idle": "2023-04-16T15:08:57.788002Z",
     "shell.execute_reply": "2023-04-16T15:08:57.787413Z"
    }
   },
   "outputs": [
    {
     "data": {
      "text/plain": [
       "Batch(\n",
       "    a: tensor([[-0.2574, -0.7656, -0.9422],\n",
       "               [-1.6217,  0.8526,  0.4803]]),\n",
       "    x: Batch(\n",
       "           c: tensor([[ 0.4883, -1.6991, -1.1008,  1.6312],\n",
       "                      [ 0.6688, -0.6292, -1.5267,  0.0973],\n",
       "                      [-0.7176,  0.0279,  0.3726, -0.9494]]),\n",
       "       ),\n",
       ")"
      ]
     },
     "execution_count": 12,
     "metadata": {},
     "output_type": "execute_result"
    }
   ],
   "source": [
    "new_value = torch.randn(2, 3)\n",
    "b.a = new_value\n",
    "\n",
    "b"
   ]
  },
  {
   "cell_type": "code",
   "execution_count": 13,
   "id": "29b1d0bf",
   "metadata": {
    "execution": {
     "iopub.execute_input": "2023-04-16T15:08:57.791030Z",
     "iopub.status.busy": "2023-04-16T15:08:57.790700Z",
     "iopub.status.idle": "2023-04-16T15:09:01.691540Z",
     "shell.execute_reply": "2023-04-16T15:09:01.690957Z"
    }
   },
   "outputs": [
    {
     "name": "stdout",
     "output_type": "stream",
     "text": [
      "480 ns ± 0.07 ns per loop (mean ± std. dev. of 7 runs, 1,000,000 loops each)\n"
     ]
    }
   ],
   "source": [
    "%timeit b.a = new_value"
   ]
  },
  {
   "cell_type": "markdown",
   "id": "b61ad1d0",
   "metadata": {},
   "source": [
    "## Initialization"
   ]
  },
  {
   "cell_type": "markdown",
   "id": "d70f0d54",
   "metadata": {},
   "source": [
    "### TreeValue's Initialization"
   ]
  },
  {
   "cell_type": "code",
   "execution_count": 14,
   "id": "d32a679b",
   "metadata": {
    "execution": {
     "iopub.execute_input": "2023-04-16T15:09:01.694779Z",
     "iopub.status.busy": "2023-04-16T15:09:01.694337Z",
     "iopub.status.idle": "2023-04-16T15:09:10.601906Z",
     "shell.execute_reply": "2023-04-16T15:09:10.600884Z"
    }
   },
   "outputs": [
    {
     "name": "stdout",
     "output_type": "stream",
     "text": [
      "1.1 µs ± 4.74 ns per loop (mean ± std. dev. of 7 runs, 1,000,000 loops each)\n"
     ]
    }
   ],
   "source": [
    "%timeit FastTreeValue(_TREE_DATA_1)"
   ]
  },
  {
   "cell_type": "markdown",
   "id": "24f3707b",
   "metadata": {},
   "source": [
    "### Tianshou Batch's Initialization"
   ]
  },
  {
   "cell_type": "code",
   "execution_count": 15,
   "id": "ac3958df",
   "metadata": {
    "execution": {
     "iopub.execute_input": "2023-04-16T15:09:10.605538Z",
     "iopub.status.busy": "2023-04-16T15:09:10.604973Z",
     "iopub.status.idle": "2023-04-16T15:09:19.761844Z",
     "shell.execute_reply": "2023-04-16T15:09:19.761268Z"
    }
   },
   "outputs": [
    {
     "name": "stdout",
     "output_type": "stream",
     "text": [
      "11.3 µs ± 120 ns per loop (mean ± std. dev. of 7 runs, 100,000 loops each)\n"
     ]
    }
   ],
   "source": [
    "%timeit Batch(**_TREE_DATA_1)"
   ]
  },
  {
   "cell_type": "markdown",
   "id": "1ab82e2d",
   "metadata": {},
   "source": [
    "## Deep Copy Operation"
   ]
  },
  {
   "cell_type": "code",
   "execution_count": 16,
   "id": "210a9442",
   "metadata": {
    "execution": {
     "iopub.execute_input": "2023-04-16T15:09:19.764968Z",
     "iopub.status.busy": "2023-04-16T15:09:19.764627Z",
     "iopub.status.idle": "2023-04-16T15:09:19.767675Z",
     "shell.execute_reply": "2023-04-16T15:09:19.767034Z"
    }
   },
   "outputs": [],
   "source": [
    "import copy"
   ]
  },
  {
   "cell_type": "markdown",
   "id": "5a736274",
   "metadata": {},
   "source": [
    "### Deep Copy of TreeValue"
   ]
  },
  {
   "cell_type": "code",
   "execution_count": 17,
   "id": "f9bcadd6",
   "metadata": {
    "execution": {
     "iopub.execute_input": "2023-04-16T15:09:19.770569Z",
     "iopub.status.busy": "2023-04-16T15:09:19.770232Z",
     "iopub.status.idle": "2023-04-16T15:09:31.149971Z",
     "shell.execute_reply": "2023-04-16T15:09:31.149425Z"
    }
   },
   "outputs": [
    {
     "name": "stdout",
     "output_type": "stream",
     "text": [
      "140 µs ± 876 ns per loop (mean ± std. dev. of 7 runs, 10,000 loops each)\n"
     ]
    }
   ],
   "source": [
    "t3 = FastTreeValue(_TREE_DATA_3)\n",
    "%timeit copy.deepcopy(t3)"
   ]
  },
  {
   "cell_type": "markdown",
   "id": "bf8be7ea",
   "metadata": {},
   "source": [
    "### Deep Copy of Tianshou Batch"
   ]
  },
  {
   "cell_type": "code",
   "execution_count": 18,
   "id": "91998e6f",
   "metadata": {
    "execution": {
     "iopub.execute_input": "2023-04-16T15:09:31.152982Z",
     "iopub.status.busy": "2023-04-16T15:09:31.152618Z",
     "iopub.status.idle": "2023-04-16T15:09:42.671474Z",
     "shell.execute_reply": "2023-04-16T15:09:42.670926Z"
    }
   },
   "outputs": [
    {
     "name": "stdout",
     "output_type": "stream",
     "text": [
      "142 µs ± 370 ns per loop (mean ± std. dev. of 7 runs, 10,000 loops each)\n"
     ]
    }
   ],
   "source": [
    "b3 = Batch(**_TREE_DATA_3)\n",
    "%timeit copy.deepcopy(b3)"
   ]
  },
  {
   "cell_type": "markdown",
   "id": "223162fb",
   "metadata": {},
   "source": [
    "## Stack, Concat and Split Operation"
   ]
  },
  {
   "cell_type": "markdown",
   "id": "85fa4a73",
   "metadata": {},
   "source": [
    "### Performance of TreeValue"
   ]
  },
  {
   "cell_type": "code",
   "execution_count": 19,
   "id": "a0c2b697",
   "metadata": {
    "execution": {
     "iopub.execute_input": "2023-04-16T15:09:42.674823Z",
     "iopub.status.busy": "2023-04-16T15:09:42.674570Z",
     "iopub.status.idle": "2023-04-16T15:09:42.678857Z",
     "shell.execute_reply": "2023-04-16T15:09:42.678012Z"
    }
   },
   "outputs": [],
   "source": [
    "trees = [FastTreeValue(_TREE_DATA_2) for _ in range(8)]"
   ]
  },
  {
   "cell_type": "code",
   "execution_count": 20,
   "id": "017ea5a5",
   "metadata": {
    "execution": {
     "iopub.execute_input": "2023-04-16T15:09:42.681612Z",
     "iopub.status.busy": "2023-04-16T15:09:42.681058Z",
     "iopub.status.idle": "2023-04-16T15:09:42.691105Z",
     "shell.execute_reply": "2023-04-16T15:09:42.690159Z"
    }
   },
   "outputs": [
    {
     "data": {
      "text/plain": [
       "<FastTreeValue 0x7f4ca53527f0>\n",
       "├── 'a' --> tensor([[[-0.4081,  1.8504, -0.0261],\n",
       "│                    [-0.2306,  0.8374, -0.5673]],\n",
       "│           \n",
       "│                   [[-0.4081,  1.8504, -0.0261],\n",
       "│                    [-0.2306,  0.8374, -0.5673]],\n",
       "│           \n",
       "│                   [[-0.4081,  1.8504, -0.0261],\n",
       "│                    [-0.2306,  0.8374, -0.5673]],\n",
       "│           \n",
       "│                   [[-0.4081,  1.8504, -0.0261],\n",
       "│                    [-0.2306,  0.8374, -0.5673]],\n",
       "│           \n",
       "│                   [[-0.4081,  1.8504, -0.0261],\n",
       "│                    [-0.2306,  0.8374, -0.5673]],\n",
       "│           \n",
       "│                   [[-0.4081,  1.8504, -0.0261],\n",
       "│                    [-0.2306,  0.8374, -0.5673]],\n",
       "│           \n",
       "│                   [[-0.4081,  1.8504, -0.0261],\n",
       "│                    [-0.2306,  0.8374, -0.5673]],\n",
       "│           \n",
       "│                   [[-0.4081,  1.8504, -0.0261],\n",
       "│                    [-0.2306,  0.8374, -0.5673]]])\n",
       "└── 'x' --> <FastTreeValue 0x7f4bd64d4f40>\n",
       "    └── 'c' --> tensor([[[ 0.4883, -1.6991, -1.1008,  1.6312],\n",
       "                         [ 0.6688, -0.6292, -1.5267,  0.0973],\n",
       "                         [-0.7176,  0.0279,  0.3726, -0.9494]],\n",
       "                \n",
       "                        [[ 0.4883, -1.6991, -1.1008,  1.6312],\n",
       "                         [ 0.6688, -0.6292, -1.5267,  0.0973],\n",
       "                         [-0.7176,  0.0279,  0.3726, -0.9494]],\n",
       "                \n",
       "                        [[ 0.4883, -1.6991, -1.1008,  1.6312],\n",
       "                         [ 0.6688, -0.6292, -1.5267,  0.0973],\n",
       "                         [-0.7176,  0.0279,  0.3726, -0.9494]],\n",
       "                \n",
       "                        [[ 0.4883, -1.6991, -1.1008,  1.6312],\n",
       "                         [ 0.6688, -0.6292, -1.5267,  0.0973],\n",
       "                         [-0.7176,  0.0279,  0.3726, -0.9494]],\n",
       "                \n",
       "                        [[ 0.4883, -1.6991, -1.1008,  1.6312],\n",
       "                         [ 0.6688, -0.6292, -1.5267,  0.0973],\n",
       "                         [-0.7176,  0.0279,  0.3726, -0.9494]],\n",
       "                \n",
       "                        [[ 0.4883, -1.6991, -1.1008,  1.6312],\n",
       "                         [ 0.6688, -0.6292, -1.5267,  0.0973],\n",
       "                         [-0.7176,  0.0279,  0.3726, -0.9494]],\n",
       "                \n",
       "                        [[ 0.4883, -1.6991, -1.1008,  1.6312],\n",
       "                         [ 0.6688, -0.6292, -1.5267,  0.0973],\n",
       "                         [-0.7176,  0.0279,  0.3726, -0.9494]],\n",
       "                \n",
       "                        [[ 0.4883, -1.6991, -1.1008,  1.6312],\n",
       "                         [ 0.6688, -0.6292, -1.5267,  0.0973],\n",
       "                         [-0.7176,  0.0279,  0.3726, -0.9494]]])"
      ]
     },
     "execution_count": 20,
     "metadata": {},
     "output_type": "execute_result"
    }
   ],
   "source": [
    "t_stack = FastTreeValue.func(subside=True)(torch.stack)\n",
    "\n",
    "t_stack(trees)"
   ]
  },
  {
   "cell_type": "code",
   "execution_count": 21,
   "id": "f8b3f415",
   "metadata": {
    "execution": {
     "iopub.execute_input": "2023-04-16T15:09:42.694556Z",
     "iopub.status.busy": "2023-04-16T15:09:42.694331Z",
     "iopub.status.idle": "2023-04-16T15:09:45.423560Z",
     "shell.execute_reply": "2023-04-16T15:09:45.422476Z"
    }
   },
   "outputs": [
    {
     "name": "stdout",
     "output_type": "stream",
     "text": [
      "33.5 µs ± 72.5 ns per loop (mean ± std. dev. of 7 runs, 10,000 loops each)\n"
     ]
    }
   ],
   "source": [
    "%timeit t_stack(trees)"
   ]
  },
  {
   "cell_type": "code",
   "execution_count": 22,
   "id": "94b56771",
   "metadata": {
    "execution": {
     "iopub.execute_input": "2023-04-16T15:09:45.427085Z",
     "iopub.status.busy": "2023-04-16T15:09:45.426737Z",
     "iopub.status.idle": "2023-04-16T15:09:45.435653Z",
     "shell.execute_reply": "2023-04-16T15:09:45.434456Z"
    }
   },
   "outputs": [
    {
     "data": {
      "text/plain": [
       "<FastTreeValue 0x7f4bdd1d8c70>\n",
       "├── 'a' --> tensor([[-0.4081,  1.8504, -0.0261],\n",
       "│                   [-0.2306,  0.8374, -0.5673],\n",
       "│                   [-0.4081,  1.8504, -0.0261],\n",
       "│                   [-0.2306,  0.8374, -0.5673],\n",
       "│                   [-0.4081,  1.8504, -0.0261],\n",
       "│                   [-0.2306,  0.8374, -0.5673],\n",
       "│                   [-0.4081,  1.8504, -0.0261],\n",
       "│                   [-0.2306,  0.8374, -0.5673],\n",
       "│                   [-0.4081,  1.8504, -0.0261],\n",
       "│                   [-0.2306,  0.8374, -0.5673],\n",
       "│                   [-0.4081,  1.8504, -0.0261],\n",
       "│                   [-0.2306,  0.8374, -0.5673],\n",
       "│                   [-0.4081,  1.8504, -0.0261],\n",
       "│                   [-0.2306,  0.8374, -0.5673],\n",
       "│                   [-0.4081,  1.8504, -0.0261],\n",
       "│                   [-0.2306,  0.8374, -0.5673]])\n",
       "└── 'x' --> <FastTreeValue 0x7f4be1fdeaf0>\n",
       "    └── 'c' --> tensor([[ 0.4883, -1.6991, -1.1008,  1.6312],\n",
       "                        [ 0.6688, -0.6292, -1.5267,  0.0973],\n",
       "                        [-0.7176,  0.0279,  0.3726, -0.9494],\n",
       "                        [ 0.4883, -1.6991, -1.1008,  1.6312],\n",
       "                        [ 0.6688, -0.6292, -1.5267,  0.0973],\n",
       "                        [-0.7176,  0.0279,  0.3726, -0.9494],\n",
       "                        [ 0.4883, -1.6991, -1.1008,  1.6312],\n",
       "                        [ 0.6688, -0.6292, -1.5267,  0.0973],\n",
       "                        [-0.7176,  0.0279,  0.3726, -0.9494],\n",
       "                        [ 0.4883, -1.6991, -1.1008,  1.6312],\n",
       "                        [ 0.6688, -0.6292, -1.5267,  0.0973],\n",
       "                        [-0.7176,  0.0279,  0.3726, -0.9494],\n",
       "                        [ 0.4883, -1.6991, -1.1008,  1.6312],\n",
       "                        [ 0.6688, -0.6292, -1.5267,  0.0973],\n",
       "                        [-0.7176,  0.0279,  0.3726, -0.9494],\n",
       "                        [ 0.4883, -1.6991, -1.1008,  1.6312],\n",
       "                        [ 0.6688, -0.6292, -1.5267,  0.0973],\n",
       "                        [-0.7176,  0.0279,  0.3726, -0.9494],\n",
       "                        [ 0.4883, -1.6991, -1.1008,  1.6312],\n",
       "                        [ 0.6688, -0.6292, -1.5267,  0.0973],\n",
       "                        [-0.7176,  0.0279,  0.3726, -0.9494],\n",
       "                        [ 0.4883, -1.6991, -1.1008,  1.6312],\n",
       "                        [ 0.6688, -0.6292, -1.5267,  0.0973],\n",
       "                        [-0.7176,  0.0279,  0.3726, -0.9494]])"
      ]
     },
     "execution_count": 22,
     "metadata": {},
     "output_type": "execute_result"
    }
   ],
   "source": [
    "t_cat = FastTreeValue.func(subside=True)(torch.cat)\n",
    "\n",
    "t_cat(trees)"
   ]
  },
  {
   "cell_type": "code",
   "execution_count": 23,
   "id": "5e9c06a6",
   "metadata": {
    "execution": {
     "iopub.execute_input": "2023-04-16T15:09:45.438624Z",
     "iopub.status.busy": "2023-04-16T15:09:45.438305Z",
     "iopub.status.idle": "2023-04-16T15:09:47.995111Z",
     "shell.execute_reply": "2023-04-16T15:09:47.994429Z"
    }
   },
   "outputs": [
    {
     "name": "stdout",
     "output_type": "stream",
     "text": [
      "31.4 µs ± 67.2 ns per loop (mean ± std. dev. of 7 runs, 10,000 loops each)\n"
     ]
    }
   ],
   "source": [
    "%timeit t_cat(trees)"
   ]
  },
  {
   "cell_type": "code",
   "execution_count": 24,
   "id": "a3ab5c8f",
   "metadata": {
    "execution": {
     "iopub.execute_input": "2023-04-16T15:09:47.998102Z",
     "iopub.status.busy": "2023-04-16T15:09:47.997747Z",
     "iopub.status.idle": "2023-04-16T15:09:53.551359Z",
     "shell.execute_reply": "2023-04-16T15:09:53.550622Z"
    }
   },
   "outputs": [
    {
     "name": "stdout",
     "output_type": "stream",
     "text": [
      "68.4 µs ± 108 ns per loop (mean ± std. dev. of 7 runs, 10,000 loops each)\n"
     ]
    }
   ],
   "source": [
    "t_split = FastTreeValue.func(rise=True)(torch.split)\n",
    "tree = FastTreeValue({\n",
    "    'obs': torch.randn(8, 4, 84, 84),\n",
    "    'action': torch.randint(0, 6, size=(8, 1,)),\n",
    "    'reward': torch.rand(8, 1),\n",
    "})\n",
    "\n",
    "%timeit t_split(tree, 1)"
   ]
  },
  {
   "cell_type": "markdown",
   "id": "31c3ec0b",
   "metadata": {},
   "source": [
    "### Performance of Tianshou Batch"
   ]
  },
  {
   "cell_type": "code",
   "execution_count": 25,
   "id": "9ead828a",
   "metadata": {
    "execution": {
     "iopub.execute_input": "2023-04-16T15:09:53.554637Z",
     "iopub.status.busy": "2023-04-16T15:09:53.554119Z",
     "iopub.status.idle": "2023-04-16T15:09:53.561468Z",
     "shell.execute_reply": "2023-04-16T15:09:53.560847Z"
    }
   },
   "outputs": [
    {
     "data": {
      "text/plain": [
       "Batch(\n",
       "    a: tensor([[[-0.4081,  1.8504, -0.0261],\n",
       "                [-0.2306,  0.8374, -0.5673]],\n",
       "       \n",
       "               [[-0.4081,  1.8504, -0.0261],\n",
       "                [-0.2306,  0.8374, -0.5673]],\n",
       "       \n",
       "               [[-0.4081,  1.8504, -0.0261],\n",
       "                [-0.2306,  0.8374, -0.5673]],\n",
       "       \n",
       "               [[-0.4081,  1.8504, -0.0261],\n",
       "                [-0.2306,  0.8374, -0.5673]],\n",
       "       \n",
       "               [[-0.4081,  1.8504, -0.0261],\n",
       "                [-0.2306,  0.8374, -0.5673]],\n",
       "       \n",
       "               [[-0.4081,  1.8504, -0.0261],\n",
       "                [-0.2306,  0.8374, -0.5673]],\n",
       "       \n",
       "               [[-0.4081,  1.8504, -0.0261],\n",
       "                [-0.2306,  0.8374, -0.5673]],\n",
       "       \n",
       "               [[-0.4081,  1.8504, -0.0261],\n",
       "                [-0.2306,  0.8374, -0.5673]]]),\n",
       "    x: Batch(\n",
       "           c: tensor([[[ 0.4883, -1.6991, -1.1008,  1.6312],\n",
       "                       [ 0.6688, -0.6292, -1.5267,  0.0973],\n",
       "                       [-0.7176,  0.0279,  0.3726, -0.9494]],\n",
       "              \n",
       "                      [[ 0.4883, -1.6991, -1.1008,  1.6312],\n",
       "                       [ 0.6688, -0.6292, -1.5267,  0.0973],\n",
       "                       [-0.7176,  0.0279,  0.3726, -0.9494]],\n",
       "              \n",
       "                      [[ 0.4883, -1.6991, -1.1008,  1.6312],\n",
       "                       [ 0.6688, -0.6292, -1.5267,  0.0973],\n",
       "                       [-0.7176,  0.0279,  0.3726, -0.9494]],\n",
       "              \n",
       "                      [[ 0.4883, -1.6991, -1.1008,  1.6312],\n",
       "                       [ 0.6688, -0.6292, -1.5267,  0.0973],\n",
       "                       [-0.7176,  0.0279,  0.3726, -0.9494]],\n",
       "              \n",
       "                      [[ 0.4883, -1.6991, -1.1008,  1.6312],\n",
       "                       [ 0.6688, -0.6292, -1.5267,  0.0973],\n",
       "                       [-0.7176,  0.0279,  0.3726, -0.9494]],\n",
       "              \n",
       "                      [[ 0.4883, -1.6991, -1.1008,  1.6312],\n",
       "                       [ 0.6688, -0.6292, -1.5267,  0.0973],\n",
       "                       [-0.7176,  0.0279,  0.3726, -0.9494]],\n",
       "              \n",
       "                      [[ 0.4883, -1.6991, -1.1008,  1.6312],\n",
       "                       [ 0.6688, -0.6292, -1.5267,  0.0973],\n",
       "                       [-0.7176,  0.0279,  0.3726, -0.9494]],\n",
       "              \n",
       "                      [[ 0.4883, -1.6991, -1.1008,  1.6312],\n",
       "                       [ 0.6688, -0.6292, -1.5267,  0.0973],\n",
       "                       [-0.7176,  0.0279,  0.3726, -0.9494]]]),\n",
       "       ),\n",
       ")"
      ]
     },
     "execution_count": 25,
     "metadata": {},
     "output_type": "execute_result"
    }
   ],
   "source": [
    "batches = [Batch(**_TREE_DATA_2) for _ in range(8)]\n",
    "\n",
    "Batch.stack(batches)"
   ]
  },
  {
   "cell_type": "code",
   "execution_count": 26,
   "id": "ec9037a3",
   "metadata": {
    "execution": {
     "iopub.execute_input": "2023-04-16T15:09:53.564155Z",
     "iopub.status.busy": "2023-04-16T15:09:53.563949Z",
     "iopub.status.idle": "2023-04-16T15:09:59.980052Z",
     "shell.execute_reply": "2023-04-16T15:09:59.979057Z"
    }
   },
   "outputs": [
    {
     "name": "stdout",
     "output_type": "stream",
     "text": [
      "78.9 µs ± 258 ns per loop (mean ± std. dev. of 7 runs, 10,000 loops each)\n"
     ]
    }
   ],
   "source": [
    "%timeit Batch.stack(batches)"
   ]
  },
  {
   "cell_type": "code",
   "execution_count": 27,
   "id": "cb8ab77e",
   "metadata": {
    "execution": {
     "iopub.execute_input": "2023-04-16T15:09:59.983514Z",
     "iopub.status.busy": "2023-04-16T15:09:59.983157Z",
     "iopub.status.idle": "2023-04-16T15:09:59.992552Z",
     "shell.execute_reply": "2023-04-16T15:09:59.991638Z"
    }
   },
   "outputs": [
    {
     "data": {
      "text/plain": [
       "Batch(\n",
       "    a: tensor([[-0.4081,  1.8504, -0.0261],\n",
       "               [-0.2306,  0.8374, -0.5673],\n",
       "               [-0.4081,  1.8504, -0.0261],\n",
       "               [-0.2306,  0.8374, -0.5673],\n",
       "               [-0.4081,  1.8504, -0.0261],\n",
       "               [-0.2306,  0.8374, -0.5673],\n",
       "               [-0.4081,  1.8504, -0.0261],\n",
       "               [-0.2306,  0.8374, -0.5673],\n",
       "               [-0.4081,  1.8504, -0.0261],\n",
       "               [-0.2306,  0.8374, -0.5673],\n",
       "               [-0.4081,  1.8504, -0.0261],\n",
       "               [-0.2306,  0.8374, -0.5673],\n",
       "               [-0.4081,  1.8504, -0.0261],\n",
       "               [-0.2306,  0.8374, -0.5673],\n",
       "               [-0.4081,  1.8504, -0.0261],\n",
       "               [-0.2306,  0.8374, -0.5673]]),\n",
       "    x: Batch(\n",
       "           c: tensor([[ 0.4883, -1.6991, -1.1008,  1.6312],\n",
       "                      [ 0.6688, -0.6292, -1.5267,  0.0973],\n",
       "                      [-0.7176,  0.0279,  0.3726, -0.9494],\n",
       "                      [ 0.4883, -1.6991, -1.1008,  1.6312],\n",
       "                      [ 0.6688, -0.6292, -1.5267,  0.0973],\n",
       "                      [-0.7176,  0.0279,  0.3726, -0.9494],\n",
       "                      [ 0.4883, -1.6991, -1.1008,  1.6312],\n",
       "                      [ 0.6688, -0.6292, -1.5267,  0.0973],\n",
       "                      [-0.7176,  0.0279,  0.3726, -0.9494],\n",
       "                      [ 0.4883, -1.6991, -1.1008,  1.6312],\n",
       "                      [ 0.6688, -0.6292, -1.5267,  0.0973],\n",
       "                      [-0.7176,  0.0279,  0.3726, -0.9494],\n",
       "                      [ 0.4883, -1.6991, -1.1008,  1.6312],\n",
       "                      [ 0.6688, -0.6292, -1.5267,  0.0973],\n",
       "                      [-0.7176,  0.0279,  0.3726, -0.9494],\n",
       "                      [ 0.4883, -1.6991, -1.1008,  1.6312],\n",
       "                      [ 0.6688, -0.6292, -1.5267,  0.0973],\n",
       "                      [-0.7176,  0.0279,  0.3726, -0.9494],\n",
       "                      [ 0.4883, -1.6991, -1.1008,  1.6312],\n",
       "                      [ 0.6688, -0.6292, -1.5267,  0.0973],\n",
       "                      [-0.7176,  0.0279,  0.3726, -0.9494],\n",
       "                      [ 0.4883, -1.6991, -1.1008,  1.6312],\n",
       "                      [ 0.6688, -0.6292, -1.5267,  0.0973],\n",
       "                      [-0.7176,  0.0279,  0.3726, -0.9494]]),\n",
       "       ),\n",
       ")"
      ]
     },
     "execution_count": 27,
     "metadata": {},
     "output_type": "execute_result"
    }
   ],
   "source": [
    "Batch.cat(batches)"
   ]
  },
  {
   "cell_type": "code",
   "execution_count": 28,
   "id": "18dfb045",
   "metadata": {
    "execution": {
     "iopub.execute_input": "2023-04-16T15:09:59.995360Z",
     "iopub.status.busy": "2023-04-16T15:09:59.995027Z",
     "iopub.status.idle": "2023-04-16T15:10:12.291090Z",
     "shell.execute_reply": "2023-04-16T15:10:12.290411Z"
    }
   },
   "outputs": [
    {
     "name": "stdout",
     "output_type": "stream",
     "text": [
      "151 µs ± 290 ns per loop (mean ± std. dev. of 7 runs, 10,000 loops each)\n"
     ]
    }
   ],
   "source": [
    "%timeit Batch.cat(batches)"
   ]
  },
  {
   "cell_type": "code",
   "execution_count": 29,
   "id": "c6688e51",
   "metadata": {
    "execution": {
     "iopub.execute_input": "2023-04-16T15:10:12.294531Z",
     "iopub.status.busy": "2023-04-16T15:10:12.294152Z",
     "iopub.status.idle": "2023-04-16T15:10:14.961962Z",
     "shell.execute_reply": "2023-04-16T15:10:14.960874Z"
    }
   },
   "outputs": [
    {
     "name": "stdout",
     "output_type": "stream",
     "text": [
      "328 µs ± 897 ns per loop (mean ± std. dev. of 7 runs, 1,000 loops each)\n"
     ]
    }
   ],
   "source": [
    "batch = Batch({\n",
    "    'obs': torch.randn(8, 4, 84, 84),\n",
    "    'action': torch.randint(0, 6, size=(8, 1,)),\n",
    "    'reward': torch.rand(8, 1)}\n",
    ")\n",
    "\n",
    "%timeit list(Batch.split(batch, 1, shuffle=False, merge_last=True))"
   ]
  },
  {
   "cell_type": "code",
   "execution_count": null,
   "id": "2539fbd9",
   "metadata": {},
   "outputs": [],
   "source": []
  }
 ],
 "metadata": {
  "kernelspec": {
   "display_name": "Python 3 (ipykernel)",
   "language": "python",
   "name": "python3"
  },
  "language_info": {
   "codemirror_mode": {
    "name": "ipython",
    "version": 3
   },
   "file_extension": ".py",
   "mimetype": "text/x-python",
   "name": "python",
   "nbconvert_exporter": "python",
   "pygments_lexer": "ipython3",
   "version": "3.8.16"
  }
 },
 "nbformat": 4,
 "nbformat_minor": 5
}
