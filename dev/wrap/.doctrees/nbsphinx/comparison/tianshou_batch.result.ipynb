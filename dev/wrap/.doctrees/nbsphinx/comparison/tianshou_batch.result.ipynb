{
 "cells": [
  {
   "cell_type": "markdown",
   "id": "9d39d946",
   "metadata": {},
   "source": [
    "# Comparison Between TreeValue and Tianshou Batch"
   ]
  },
  {
   "cell_type": "markdown",
   "id": "3c6db2d4",
   "metadata": {},
   "source": [
    "In this section, we will take a look at the feature and performance of the [Tianshou Batch](https://github.com/thu-ml/tianshou) library, which is developed by Tsinghua Machine Learning Group."
   ]
  },
  {
   "cell_type": "markdown",
   "id": "069361b0",
   "metadata": {},
   "source": [
    "Before starting the comparison, let us define some thing."
   ]
  },
  {
   "cell_type": "code",
   "execution_count": 1,
   "id": "06fc8d26",
   "metadata": {
    "execution": {
     "iopub.execute_input": "2023-02-26T17:00:18.337603Z",
     "iopub.status.busy": "2023-02-26T17:00:18.337290Z",
     "iopub.status.idle": "2023-02-26T17:00:19.363525Z",
     "shell.execute_reply": "2023-02-26T17:00:19.362679Z"
    }
   },
   "outputs": [
    {
     "name": "stderr",
     "output_type": "stream",
     "text": [
      "/opt/hostedtoolcache/Python/3.8.16/x64/lib/python3.8/site-packages/tqdm/auto.py:22: TqdmWarning: IProgress not found. Please update jupyter and ipywidgets. See https://ipywidgets.readthedocs.io/en/stable/user_install.html\n",
      "  from .autonotebook import tqdm as notebook_tqdm\n"
     ]
    }
   ],
   "source": [
    "import torch \n",
    "\n",
    "_TREE_DATA_1 = {'a': 1, 'b': 2, 'x': {'c': 3, 'd': 4}}\n",
    "_TREE_DATA_2 = {\n",
    "    'a': torch.randn(2, 3), \n",
    "    'x': {\n",
    "        'c': torch.randn(3, 4)\n",
    "    },\n",
    "}\n",
    "_TREE_DATA_3 = {\n",
    "    'obs': torch.randn(4, 84, 84),\n",
    "    'action': torch.randint(0, 6, size=(1,)),\n",
    "    'reward': torch.rand(1),\n",
    "}"
   ]
  },
  {
   "cell_type": "markdown",
   "id": "83461b25",
   "metadata": {},
   "source": [
    "## Read and Write Operation"
   ]
  },
  {
   "cell_type": "markdown",
   "id": "067b3f73",
   "metadata": {},
   "source": [
    "Reading and writing are the two most common operations in the tree data structure based on the data model (TreeValue and Tianshou Batch both belong to this type), so this section will compare the reading and writing performance of these two libraries."
   ]
  },
  {
   "cell_type": "markdown",
   "id": "5d09a5b7",
   "metadata": {},
   "source": [
    "### TreeValue's Get and Set"
   ]
  },
  {
   "cell_type": "code",
   "execution_count": 2,
   "id": "9519c4bb",
   "metadata": {
    "execution": {
     "iopub.execute_input": "2023-02-26T17:00:19.367835Z",
     "iopub.status.busy": "2023-02-26T17:00:19.367298Z",
     "iopub.status.idle": "2023-02-26T17:00:19.404589Z",
     "shell.execute_reply": "2023-02-26T17:00:19.403790Z"
    }
   },
   "outputs": [],
   "source": [
    "from treevalue import FastTreeValue\n",
    "\n",
    "t = FastTreeValue(_TREE_DATA_2)"
   ]
  },
  {
   "cell_type": "code",
   "execution_count": 3,
   "id": "11c37677",
   "metadata": {
    "execution": {
     "iopub.execute_input": "2023-02-26T17:00:19.408599Z",
     "iopub.status.busy": "2023-02-26T17:00:19.408131Z",
     "iopub.status.idle": "2023-02-26T17:00:19.417665Z",
     "shell.execute_reply": "2023-02-26T17:00:19.416899Z"
    }
   },
   "outputs": [
    {
     "data": {
      "text/plain": [
       "<FastTreeValue 0x7f25e0298c10>\n",
       "├── 'a' --> tensor([[-0.6659, -1.4148,  0.1034],\n",
       "│                   [ 2.3474, -0.5496,  0.6448]])\n",
       "└── 'x' --> <FastTreeValue 0x7f25e0298400>\n",
       "    └── 'c' --> tensor([[ 0.7854,  1.0524, -1.2328,  2.0520],\n",
       "                        [-1.3166, -0.5465,  0.5196, -0.0421],\n",
       "                        [ 0.3989,  0.0245, -0.4494,  0.1799]])"
      ]
     },
     "execution_count": 3,
     "metadata": {},
     "output_type": "execute_result"
    }
   ],
   "source": [
    "t"
   ]
  },
  {
   "cell_type": "code",
   "execution_count": 4,
   "id": "fd70b0b9",
   "metadata": {
    "execution": {
     "iopub.execute_input": "2023-02-26T17:00:19.421155Z",
     "iopub.status.busy": "2023-02-26T17:00:19.420495Z",
     "iopub.status.idle": "2023-02-26T17:00:19.425866Z",
     "shell.execute_reply": "2023-02-26T17:00:19.425154Z"
    }
   },
   "outputs": [
    {
     "data": {
      "text/plain": [
       "tensor([[-0.6659, -1.4148,  0.1034],\n",
       "        [ 2.3474, -0.5496,  0.6448]])"
      ]
     },
     "execution_count": 4,
     "metadata": {},
     "output_type": "execute_result"
    }
   ],
   "source": [
    "t.a"
   ]
  },
  {
   "cell_type": "code",
   "execution_count": 5,
   "id": "c18197bd",
   "metadata": {
    "execution": {
     "iopub.execute_input": "2023-02-26T17:00:19.429198Z",
     "iopub.status.busy": "2023-02-26T17:00:19.428612Z",
     "iopub.status.idle": "2023-02-26T17:00:24.472816Z",
     "shell.execute_reply": "2023-02-26T17:00:24.471755Z"
    }
   },
   "outputs": [
    {
     "name": "stdout",
     "output_type": "stream",
     "text": [
      "62.1 ns ± 0.0228 ns per loop (mean ± std. dev. of 7 runs, 10,000,000 loops each)\n"
     ]
    }
   ],
   "source": [
    "%timeit t.a"
   ]
  },
  {
   "cell_type": "code",
   "execution_count": 6,
   "id": "bd52f867",
   "metadata": {
    "execution": {
     "iopub.execute_input": "2023-02-26T17:00:24.476080Z",
     "iopub.status.busy": "2023-02-26T17:00:24.475557Z",
     "iopub.status.idle": "2023-02-26T17:00:24.482979Z",
     "shell.execute_reply": "2023-02-26T17:00:24.482271Z"
    }
   },
   "outputs": [
    {
     "data": {
      "text/plain": [
       "<FastTreeValue 0x7f25e0298c10>\n",
       "├── 'a' --> tensor([[-0.9354, -1.1591, -1.6061],\n",
       "│                   [ 0.6637,  0.2719,  0.3867]])\n",
       "└── 'x' --> <FastTreeValue 0x7f25e0298400>\n",
       "    └── 'c' --> tensor([[ 0.7854,  1.0524, -1.2328,  2.0520],\n",
       "                        [-1.3166, -0.5465,  0.5196, -0.0421],\n",
       "                        [ 0.3989,  0.0245, -0.4494,  0.1799]])"
      ]
     },
     "execution_count": 6,
     "metadata": {},
     "output_type": "execute_result"
    }
   ],
   "source": [
    "new_value = torch.randn(2, 3)\n",
    "t.a = new_value\n",
    "\n",
    "t"
   ]
  },
  {
   "cell_type": "code",
   "execution_count": 7,
   "id": "bbe04d1c",
   "metadata": {
    "execution": {
     "iopub.execute_input": "2023-02-26T17:00:24.486202Z",
     "iopub.status.busy": "2023-02-26T17:00:24.485781Z",
     "iopub.status.idle": "2023-02-26T17:00:30.234558Z",
     "shell.execute_reply": "2023-02-26T17:00:30.233714Z"
    }
   },
   "outputs": [
    {
     "name": "stdout",
     "output_type": "stream",
     "text": [
      "70.7 ns ± 0.0361 ns per loop (mean ± std. dev. of 7 runs, 10,000,000 loops each)\n"
     ]
    }
   ],
   "source": [
    "%timeit t.a = new_value"
   ]
  },
  {
   "cell_type": "markdown",
   "id": "48c49731",
   "metadata": {},
   "source": [
    "### Tianshou Batch's Get and Set"
   ]
  },
  {
   "cell_type": "code",
   "execution_count": 8,
   "id": "f1bb14c1",
   "metadata": {
    "execution": {
     "iopub.execute_input": "2023-02-26T17:00:30.237939Z",
     "iopub.status.busy": "2023-02-26T17:00:30.237335Z",
     "iopub.status.idle": "2023-02-26T17:00:30.617943Z",
     "shell.execute_reply": "2023-02-26T17:00:30.617113Z"
    }
   },
   "outputs": [],
   "source": [
    "from tianshou.data import Batch\n",
    "\n",
    "b = Batch(**_TREE_DATA_2)"
   ]
  },
  {
   "cell_type": "code",
   "execution_count": 9,
   "id": "cb0777c3",
   "metadata": {
    "execution": {
     "iopub.execute_input": "2023-02-26T17:00:30.621708Z",
     "iopub.status.busy": "2023-02-26T17:00:30.621157Z",
     "iopub.status.idle": "2023-02-26T17:00:30.628482Z",
     "shell.execute_reply": "2023-02-26T17:00:30.627637Z"
    }
   },
   "outputs": [
    {
     "data": {
      "text/plain": [
       "Batch(\n",
       "    a: tensor([[-0.6659, -1.4148,  0.1034],\n",
       "               [ 2.3474, -0.5496,  0.6448]]),\n",
       "    x: Batch(\n",
       "           c: tensor([[ 0.7854,  1.0524, -1.2328,  2.0520],\n",
       "                      [-1.3166, -0.5465,  0.5196, -0.0421],\n",
       "                      [ 0.3989,  0.0245, -0.4494,  0.1799]]),\n",
       "       ),\n",
       ")"
      ]
     },
     "execution_count": 9,
     "metadata": {},
     "output_type": "execute_result"
    }
   ],
   "source": [
    "b"
   ]
  },
  {
   "cell_type": "code",
   "execution_count": 10,
   "id": "43ef8ea3",
   "metadata": {
    "execution": {
     "iopub.execute_input": "2023-02-26T17:00:30.631769Z",
     "iopub.status.busy": "2023-02-26T17:00:30.631268Z",
     "iopub.status.idle": "2023-02-26T17:00:30.638154Z",
     "shell.execute_reply": "2023-02-26T17:00:30.637511Z"
    }
   },
   "outputs": [
    {
     "data": {
      "text/plain": [
       "tensor([[-0.6659, -1.4148,  0.1034],\n",
       "        [ 2.3474, -0.5496,  0.6448]])"
      ]
     },
     "execution_count": 10,
     "metadata": {},
     "output_type": "execute_result"
    }
   ],
   "source": [
    "b.a"
   ]
  },
  {
   "cell_type": "code",
   "execution_count": 11,
   "id": "b785ab72",
   "metadata": {
    "execution": {
     "iopub.execute_input": "2023-02-26T17:00:30.641389Z",
     "iopub.status.busy": "2023-02-26T17:00:30.640793Z",
     "iopub.status.idle": "2023-02-26T17:00:35.368370Z",
     "shell.execute_reply": "2023-02-26T17:00:35.367472Z"
    }
   },
   "outputs": [
    {
     "name": "stdout",
     "output_type": "stream",
     "text": [
      "58.3 ns ± 0.0423 ns per loop (mean ± std. dev. of 7 runs, 10,000,000 loops each)\n"
     ]
    }
   ],
   "source": [
    "%timeit b.a"
   ]
  },
  {
   "cell_type": "code",
   "execution_count": 12,
   "id": "ad54dc69",
   "metadata": {
    "execution": {
     "iopub.execute_input": "2023-02-26T17:00:35.371654Z",
     "iopub.status.busy": "2023-02-26T17:00:35.371189Z",
     "iopub.status.idle": "2023-02-26T17:00:35.377948Z",
     "shell.execute_reply": "2023-02-26T17:00:35.377210Z"
    }
   },
   "outputs": [
    {
     "data": {
      "text/plain": [
       "Batch(\n",
       "    a: tensor([[ 1.3015,  0.1315,  0.2054],\n",
       "               [-1.0404, -0.0256, -0.7416]]),\n",
       "    x: Batch(\n",
       "           c: tensor([[ 0.7854,  1.0524, -1.2328,  2.0520],\n",
       "                      [-1.3166, -0.5465,  0.5196, -0.0421],\n",
       "                      [ 0.3989,  0.0245, -0.4494,  0.1799]]),\n",
       "       ),\n",
       ")"
      ]
     },
     "execution_count": 12,
     "metadata": {},
     "output_type": "execute_result"
    }
   ],
   "source": [
    "new_value = torch.randn(2, 3)\n",
    "b.a = new_value\n",
    "\n",
    "b"
   ]
  },
  {
   "cell_type": "code",
   "execution_count": 13,
   "id": "29b1d0bf",
   "metadata": {
    "execution": {
     "iopub.execute_input": "2023-02-26T17:00:35.380745Z",
     "iopub.status.busy": "2023-02-26T17:00:35.380484Z",
     "iopub.status.idle": "2023-02-26T17:00:39.403517Z",
     "shell.execute_reply": "2023-02-26T17:00:39.402844Z"
    }
   },
   "outputs": [
    {
     "name": "stdout",
     "output_type": "stream",
     "text": [
      "495 ns ± 0.0649 ns per loop (mean ± std. dev. of 7 runs, 1,000,000 loops each)\n"
     ]
    }
   ],
   "source": [
    "%timeit b.a = new_value"
   ]
  },
  {
   "cell_type": "markdown",
   "id": "b61ad1d0",
   "metadata": {},
   "source": [
    "## Initialization"
   ]
  },
  {
   "cell_type": "markdown",
   "id": "d70f0d54",
   "metadata": {},
   "source": [
    "### TreeValue's Initialization"
   ]
  },
  {
   "cell_type": "code",
   "execution_count": 14,
   "id": "d32a679b",
   "metadata": {
    "execution": {
     "iopub.execute_input": "2023-02-26T17:00:39.407070Z",
     "iopub.status.busy": "2023-02-26T17:00:39.406481Z",
     "iopub.status.idle": "2023-02-26T17:00:46.388767Z",
     "shell.execute_reply": "2023-02-26T17:00:46.387855Z"
    }
   },
   "outputs": [
    {
     "name": "stdout",
     "output_type": "stream",
     "text": [
      "861 ns ± 0.642 ns per loop (mean ± std. dev. of 7 runs, 1,000,000 loops each)\n"
     ]
    }
   ],
   "source": [
    "%timeit FastTreeValue(_TREE_DATA_1)"
   ]
  },
  {
   "cell_type": "markdown",
   "id": "24f3707b",
   "metadata": {},
   "source": [
    "### Tianshou Batch's Initialization"
   ]
  },
  {
   "cell_type": "code",
   "execution_count": 15,
   "id": "ac3958df",
   "metadata": {
    "execution": {
     "iopub.execute_input": "2023-02-26T17:00:46.392929Z",
     "iopub.status.busy": "2023-02-26T17:00:46.392270Z",
     "iopub.status.idle": "2023-02-26T17:00:55.255848Z",
     "shell.execute_reply": "2023-02-26T17:00:55.254989Z"
    }
   },
   "outputs": [
    {
     "name": "stdout",
     "output_type": "stream",
     "text": [
      "10.9 µs ± 16 ns per loop (mean ± std. dev. of 7 runs, 100,000 loops each)\n"
     ]
    }
   ],
   "source": [
    "%timeit Batch(**_TREE_DATA_1)"
   ]
  },
  {
   "cell_type": "markdown",
   "id": "1ab82e2d",
   "metadata": {},
   "source": [
    "## Deep Copy Operation"
   ]
  },
  {
   "cell_type": "code",
   "execution_count": 16,
   "id": "210a9442",
   "metadata": {
    "execution": {
     "iopub.execute_input": "2023-02-26T17:00:55.259489Z",
     "iopub.status.busy": "2023-02-26T17:00:55.258821Z",
     "iopub.status.idle": "2023-02-26T17:00:55.262976Z",
     "shell.execute_reply": "2023-02-26T17:00:55.262250Z"
    }
   },
   "outputs": [],
   "source": [
    "import copy"
   ]
  },
  {
   "cell_type": "markdown",
   "id": "5a736274",
   "metadata": {},
   "source": [
    "### Deep Copy of TreeValue"
   ]
  },
  {
   "cell_type": "code",
   "execution_count": 17,
   "id": "f9bcadd6",
   "metadata": {
    "execution": {
     "iopub.execute_input": "2023-02-26T17:00:55.266271Z",
     "iopub.status.busy": "2023-02-26T17:00:55.265660Z",
     "iopub.status.idle": "2023-02-26T17:01:07.135862Z",
     "shell.execute_reply": "2023-02-26T17:01:07.135182Z"
    }
   },
   "outputs": [
    {
     "name": "stdout",
     "output_type": "stream",
     "text": [
      "146 µs ± 417 ns per loop (mean ± std. dev. of 7 runs, 10,000 loops each)\n"
     ]
    }
   ],
   "source": [
    "t3 = FastTreeValue(_TREE_DATA_3)\n",
    "%timeit copy.deepcopy(t3)"
   ]
  },
  {
   "cell_type": "markdown",
   "id": "bf8be7ea",
   "metadata": {},
   "source": [
    "### Deep Copy of Tianshou Batch"
   ]
  },
  {
   "cell_type": "code",
   "execution_count": 18,
   "id": "91998e6f",
   "metadata": {
    "execution": {
     "iopub.execute_input": "2023-02-26T17:01:07.139219Z",
     "iopub.status.busy": "2023-02-26T17:01:07.138512Z",
     "iopub.status.idle": "2023-02-26T17:01:18.868029Z",
     "shell.execute_reply": "2023-02-26T17:01:18.867389Z"
    }
   },
   "outputs": [
    {
     "name": "stdout",
     "output_type": "stream",
     "text": [
      "145 µs ± 243 ns per loop (mean ± std. dev. of 7 runs, 10,000 loops each)\n"
     ]
    }
   ],
   "source": [
    "b3 = Batch(**_TREE_DATA_3)\n",
    "%timeit copy.deepcopy(b3)"
   ]
  },
  {
   "cell_type": "markdown",
   "id": "223162fb",
   "metadata": {},
   "source": [
    "## Stack, Concat and Split Operation"
   ]
  },
  {
   "cell_type": "markdown",
   "id": "85fa4a73",
   "metadata": {},
   "source": [
    "### Performance of TreeValue"
   ]
  },
  {
   "cell_type": "code",
   "execution_count": 19,
   "id": "a0c2b697",
   "metadata": {
    "execution": {
     "iopub.execute_input": "2023-02-26T17:01:18.871180Z",
     "iopub.status.busy": "2023-02-26T17:01:18.870665Z",
     "iopub.status.idle": "2023-02-26T17:01:18.874202Z",
     "shell.execute_reply": "2023-02-26T17:01:18.873624Z"
    }
   },
   "outputs": [],
   "source": [
    "trees = [FastTreeValue(_TREE_DATA_2) for _ in range(8)]"
   ]
  },
  {
   "cell_type": "code",
   "execution_count": 20,
   "id": "017ea5a5",
   "metadata": {
    "execution": {
     "iopub.execute_input": "2023-02-26T17:01:18.877019Z",
     "iopub.status.busy": "2023-02-26T17:01:18.876395Z",
     "iopub.status.idle": "2023-02-26T17:01:18.883714Z",
     "shell.execute_reply": "2023-02-26T17:01:18.883140Z"
    }
   },
   "outputs": [
    {
     "data": {
      "text/plain": [
       "<FastTreeValue 0x7f2534f72fd0>\n",
       "├── 'a' --> tensor([[[-0.6659, -1.4148,  0.1034],\n",
       "│                    [ 2.3474, -0.5496,  0.6448]],\n",
       "│           \n",
       "│                   [[-0.6659, -1.4148,  0.1034],\n",
       "│                    [ 2.3474, -0.5496,  0.6448]],\n",
       "│           \n",
       "│                   [[-0.6659, -1.4148,  0.1034],\n",
       "│                    [ 2.3474, -0.5496,  0.6448]],\n",
       "│           \n",
       "│                   [[-0.6659, -1.4148,  0.1034],\n",
       "│                    [ 2.3474, -0.5496,  0.6448]],\n",
       "│           \n",
       "│                   [[-0.6659, -1.4148,  0.1034],\n",
       "│                    [ 2.3474, -0.5496,  0.6448]],\n",
       "│           \n",
       "│                   [[-0.6659, -1.4148,  0.1034],\n",
       "│                    [ 2.3474, -0.5496,  0.6448]],\n",
       "│           \n",
       "│                   [[-0.6659, -1.4148,  0.1034],\n",
       "│                    [ 2.3474, -0.5496,  0.6448]],\n",
       "│           \n",
       "│                   [[-0.6659, -1.4148,  0.1034],\n",
       "│                    [ 2.3474, -0.5496,  0.6448]]])\n",
       "└── 'x' --> <FastTreeValue 0x7f2534f72f40>\n",
       "    └── 'c' --> tensor([[[ 0.7854,  1.0524, -1.2328,  2.0520],\n",
       "                         [-1.3166, -0.5465,  0.5196, -0.0421],\n",
       "                         [ 0.3989,  0.0245, -0.4494,  0.1799]],\n",
       "                \n",
       "                        [[ 0.7854,  1.0524, -1.2328,  2.0520],\n",
       "                         [-1.3166, -0.5465,  0.5196, -0.0421],\n",
       "                         [ 0.3989,  0.0245, -0.4494,  0.1799]],\n",
       "                \n",
       "                        [[ 0.7854,  1.0524, -1.2328,  2.0520],\n",
       "                         [-1.3166, -0.5465,  0.5196, -0.0421],\n",
       "                         [ 0.3989,  0.0245, -0.4494,  0.1799]],\n",
       "                \n",
       "                        [[ 0.7854,  1.0524, -1.2328,  2.0520],\n",
       "                         [-1.3166, -0.5465,  0.5196, -0.0421],\n",
       "                         [ 0.3989,  0.0245, -0.4494,  0.1799]],\n",
       "                \n",
       "                        [[ 0.7854,  1.0524, -1.2328,  2.0520],\n",
       "                         [-1.3166, -0.5465,  0.5196, -0.0421],\n",
       "                         [ 0.3989,  0.0245, -0.4494,  0.1799]],\n",
       "                \n",
       "                        [[ 0.7854,  1.0524, -1.2328,  2.0520],\n",
       "                         [-1.3166, -0.5465,  0.5196, -0.0421],\n",
       "                         [ 0.3989,  0.0245, -0.4494,  0.1799]],\n",
       "                \n",
       "                        [[ 0.7854,  1.0524, -1.2328,  2.0520],\n",
       "                         [-1.3166, -0.5465,  0.5196, -0.0421],\n",
       "                         [ 0.3989,  0.0245, -0.4494,  0.1799]],\n",
       "                \n",
       "                        [[ 0.7854,  1.0524, -1.2328,  2.0520],\n",
       "                         [-1.3166, -0.5465,  0.5196, -0.0421],\n",
       "                         [ 0.3989,  0.0245, -0.4494,  0.1799]]])"
      ]
     },
     "execution_count": 20,
     "metadata": {},
     "output_type": "execute_result"
    }
   ],
   "source": [
    "t_stack = FastTreeValue.func(subside=True)(torch.stack)\n",
    "\n",
    "t_stack(trees)"
   ]
  },
  {
   "cell_type": "code",
   "execution_count": 21,
   "id": "f8b3f415",
   "metadata": {
    "execution": {
     "iopub.execute_input": "2023-02-26T17:01:18.886580Z",
     "iopub.status.busy": "2023-02-26T17:01:18.885941Z",
     "iopub.status.idle": "2023-02-26T17:01:21.548008Z",
     "shell.execute_reply": "2023-02-26T17:01:21.547087Z"
    }
   },
   "outputs": [
    {
     "name": "stdout",
     "output_type": "stream",
     "text": [
      "32.8 µs ± 148 ns per loop (mean ± std. dev. of 7 runs, 10,000 loops each)\n"
     ]
    }
   ],
   "source": [
    "%timeit t_stack(trees)"
   ]
  },
  {
   "cell_type": "code",
   "execution_count": 22,
   "id": "94b56771",
   "metadata": {
    "execution": {
     "iopub.execute_input": "2023-02-26T17:01:21.551207Z",
     "iopub.status.busy": "2023-02-26T17:01:21.550811Z",
     "iopub.status.idle": "2023-02-26T17:01:21.558539Z",
     "shell.execute_reply": "2023-02-26T17:01:21.557835Z"
    }
   },
   "outputs": [
    {
     "data": {
      "text/plain": [
       "<FastTreeValue 0x7f2534f4f580>\n",
       "├── 'a' --> tensor([[-0.6659, -1.4148,  0.1034],\n",
       "│                   [ 2.3474, -0.5496,  0.6448],\n",
       "│                   [-0.6659, -1.4148,  0.1034],\n",
       "│                   [ 2.3474, -0.5496,  0.6448],\n",
       "│                   [-0.6659, -1.4148,  0.1034],\n",
       "│                   [ 2.3474, -0.5496,  0.6448],\n",
       "│                   [-0.6659, -1.4148,  0.1034],\n",
       "│                   [ 2.3474, -0.5496,  0.6448],\n",
       "│                   [-0.6659, -1.4148,  0.1034],\n",
       "│                   [ 2.3474, -0.5496,  0.6448],\n",
       "│                   [-0.6659, -1.4148,  0.1034],\n",
       "│                   [ 2.3474, -0.5496,  0.6448],\n",
       "│                   [-0.6659, -1.4148,  0.1034],\n",
       "│                   [ 2.3474, -0.5496,  0.6448],\n",
       "│                   [-0.6659, -1.4148,  0.1034],\n",
       "│                   [ 2.3474, -0.5496,  0.6448]])\n",
       "└── 'x' --> <FastTreeValue 0x7f2534f4fc10>\n",
       "    └── 'c' --> tensor([[ 0.7854,  1.0524, -1.2328,  2.0520],\n",
       "                        [-1.3166, -0.5465,  0.5196, -0.0421],\n",
       "                        [ 0.3989,  0.0245, -0.4494,  0.1799],\n",
       "                        [ 0.7854,  1.0524, -1.2328,  2.0520],\n",
       "                        [-1.3166, -0.5465,  0.5196, -0.0421],\n",
       "                        [ 0.3989,  0.0245, -0.4494,  0.1799],\n",
       "                        [ 0.7854,  1.0524, -1.2328,  2.0520],\n",
       "                        [-1.3166, -0.5465,  0.5196, -0.0421],\n",
       "                        [ 0.3989,  0.0245, -0.4494,  0.1799],\n",
       "                        [ 0.7854,  1.0524, -1.2328,  2.0520],\n",
       "                        [-1.3166, -0.5465,  0.5196, -0.0421],\n",
       "                        [ 0.3989,  0.0245, -0.4494,  0.1799],\n",
       "                        [ 0.7854,  1.0524, -1.2328,  2.0520],\n",
       "                        [-1.3166, -0.5465,  0.5196, -0.0421],\n",
       "                        [ 0.3989,  0.0245, -0.4494,  0.1799],\n",
       "                        [ 0.7854,  1.0524, -1.2328,  2.0520],\n",
       "                        [-1.3166, -0.5465,  0.5196, -0.0421],\n",
       "                        [ 0.3989,  0.0245, -0.4494,  0.1799],\n",
       "                        [ 0.7854,  1.0524, -1.2328,  2.0520],\n",
       "                        [-1.3166, -0.5465,  0.5196, -0.0421],\n",
       "                        [ 0.3989,  0.0245, -0.4494,  0.1799],\n",
       "                        [ 0.7854,  1.0524, -1.2328,  2.0520],\n",
       "                        [-1.3166, -0.5465,  0.5196, -0.0421],\n",
       "                        [ 0.3989,  0.0245, -0.4494,  0.1799]])"
      ]
     },
     "execution_count": 22,
     "metadata": {},
     "output_type": "execute_result"
    }
   ],
   "source": [
    "t_cat = FastTreeValue.func(subside=True)(torch.cat)\n",
    "\n",
    "t_cat(trees)"
   ]
  },
  {
   "cell_type": "code",
   "execution_count": 23,
   "id": "5e9c06a6",
   "metadata": {
    "execution": {
     "iopub.execute_input": "2023-02-26T17:01:21.562132Z",
     "iopub.status.busy": "2023-02-26T17:01:21.561445Z",
     "iopub.status.idle": "2023-02-26T17:01:24.052115Z",
     "shell.execute_reply": "2023-02-26T17:01:24.051025Z"
    }
   },
   "outputs": [
    {
     "name": "stdout",
     "output_type": "stream",
     "text": [
      "30.6 µs ± 61.2 ns per loop (mean ± std. dev. of 7 runs, 10,000 loops each)\n"
     ]
    }
   ],
   "source": [
    "%timeit t_cat(trees)"
   ]
  },
  {
   "cell_type": "code",
   "execution_count": 24,
   "id": "a3ab5c8f",
   "metadata": {
    "execution": {
     "iopub.execute_input": "2023-02-26T17:01:24.055451Z",
     "iopub.status.busy": "2023-02-26T17:01:24.055007Z",
     "iopub.status.idle": "2023-02-26T17:01:28.684248Z",
     "shell.execute_reply": "2023-02-26T17:01:28.683376Z"
    }
   },
   "outputs": [
    {
     "name": "stdout",
     "output_type": "stream",
     "text": [
      "57 µs ± 139 ns per loop (mean ± std. dev. of 7 runs, 10,000 loops each)\n"
     ]
    }
   ],
   "source": [
    "t_split = FastTreeValue.func(rise=True)(torch.split)\n",
    "tree = FastTreeValue({\n",
    "    'obs': torch.randn(8, 4, 84, 84),\n",
    "    'action': torch.randint(0, 6, size=(8, 1,)),\n",
    "    'reward': torch.rand(8, 1),\n",
    "})\n",
    "\n",
    "%timeit t_split(tree, 1)"
   ]
  },
  {
   "cell_type": "markdown",
   "id": "31c3ec0b",
   "metadata": {},
   "source": [
    "### Performance of Tianshou Batch"
   ]
  },
  {
   "cell_type": "code",
   "execution_count": 25,
   "id": "9ead828a",
   "metadata": {
    "execution": {
     "iopub.execute_input": "2023-02-26T17:01:28.687828Z",
     "iopub.status.busy": "2023-02-26T17:01:28.687267Z",
     "iopub.status.idle": "2023-02-26T17:01:28.696532Z",
     "shell.execute_reply": "2023-02-26T17:01:28.695830Z"
    }
   },
   "outputs": [
    {
     "data": {
      "text/plain": [
       "Batch(\n",
       "    a: tensor([[[-0.6659, -1.4148,  0.1034],\n",
       "                [ 2.3474, -0.5496,  0.6448]],\n",
       "       \n",
       "               [[-0.6659, -1.4148,  0.1034],\n",
       "                [ 2.3474, -0.5496,  0.6448]],\n",
       "       \n",
       "               [[-0.6659, -1.4148,  0.1034],\n",
       "                [ 2.3474, -0.5496,  0.6448]],\n",
       "       \n",
       "               [[-0.6659, -1.4148,  0.1034],\n",
       "                [ 2.3474, -0.5496,  0.6448]],\n",
       "       \n",
       "               [[-0.6659, -1.4148,  0.1034],\n",
       "                [ 2.3474, -0.5496,  0.6448]],\n",
       "       \n",
       "               [[-0.6659, -1.4148,  0.1034],\n",
       "                [ 2.3474, -0.5496,  0.6448]],\n",
       "       \n",
       "               [[-0.6659, -1.4148,  0.1034],\n",
       "                [ 2.3474, -0.5496,  0.6448]],\n",
       "       \n",
       "               [[-0.6659, -1.4148,  0.1034],\n",
       "                [ 2.3474, -0.5496,  0.6448]]]),\n",
       "    x: Batch(\n",
       "           c: tensor([[[ 0.7854,  1.0524, -1.2328,  2.0520],\n",
       "                       [-1.3166, -0.5465,  0.5196, -0.0421],\n",
       "                       [ 0.3989,  0.0245, -0.4494,  0.1799]],\n",
       "              \n",
       "                      [[ 0.7854,  1.0524, -1.2328,  2.0520],\n",
       "                       [-1.3166, -0.5465,  0.5196, -0.0421],\n",
       "                       [ 0.3989,  0.0245, -0.4494,  0.1799]],\n",
       "              \n",
       "                      [[ 0.7854,  1.0524, -1.2328,  2.0520],\n",
       "                       [-1.3166, -0.5465,  0.5196, -0.0421],\n",
       "                       [ 0.3989,  0.0245, -0.4494,  0.1799]],\n",
       "              \n",
       "                      [[ 0.7854,  1.0524, -1.2328,  2.0520],\n",
       "                       [-1.3166, -0.5465,  0.5196, -0.0421],\n",
       "                       [ 0.3989,  0.0245, -0.4494,  0.1799]],\n",
       "              \n",
       "                      [[ 0.7854,  1.0524, -1.2328,  2.0520],\n",
       "                       [-1.3166, -0.5465,  0.5196, -0.0421],\n",
       "                       [ 0.3989,  0.0245, -0.4494,  0.1799]],\n",
       "              \n",
       "                      [[ 0.7854,  1.0524, -1.2328,  2.0520],\n",
       "                       [-1.3166, -0.5465,  0.5196, -0.0421],\n",
       "                       [ 0.3989,  0.0245, -0.4494,  0.1799]],\n",
       "              \n",
       "                      [[ 0.7854,  1.0524, -1.2328,  2.0520],\n",
       "                       [-1.3166, -0.5465,  0.5196, -0.0421],\n",
       "                       [ 0.3989,  0.0245, -0.4494,  0.1799]],\n",
       "              \n",
       "                      [[ 0.7854,  1.0524, -1.2328,  2.0520],\n",
       "                       [-1.3166, -0.5465,  0.5196, -0.0421],\n",
       "                       [ 0.3989,  0.0245, -0.4494,  0.1799]]]),\n",
       "       ),\n",
       ")"
      ]
     },
     "execution_count": 25,
     "metadata": {},
     "output_type": "execute_result"
    }
   ],
   "source": [
    "batches = [Batch(**_TREE_DATA_2) for _ in range(8)]\n",
    "\n",
    "Batch.stack(batches)"
   ]
  },
  {
   "cell_type": "code",
   "execution_count": 26,
   "id": "ec9037a3",
   "metadata": {
    "execution": {
     "iopub.execute_input": "2023-02-26T17:01:28.700187Z",
     "iopub.status.busy": "2023-02-26T17:01:28.699513Z",
     "iopub.status.idle": "2023-02-26T17:01:35.141382Z",
     "shell.execute_reply": "2023-02-26T17:01:35.140485Z"
    }
   },
   "outputs": [
    {
     "name": "stdout",
     "output_type": "stream",
     "text": [
      "79.2 µs ± 150 ns per loop (mean ± std. dev. of 7 runs, 10,000 loops each)\n"
     ]
    }
   ],
   "source": [
    "%timeit Batch.stack(batches)"
   ]
  },
  {
   "cell_type": "code",
   "execution_count": 27,
   "id": "cb8ab77e",
   "metadata": {
    "execution": {
     "iopub.execute_input": "2023-02-26T17:01:35.145217Z",
     "iopub.status.busy": "2023-02-26T17:01:35.144758Z",
     "iopub.status.idle": "2023-02-26T17:01:35.153822Z",
     "shell.execute_reply": "2023-02-26T17:01:35.152971Z"
    }
   },
   "outputs": [
    {
     "data": {
      "text/plain": [
       "Batch(\n",
       "    a: tensor([[-0.6659, -1.4148,  0.1034],\n",
       "               [ 2.3474, -0.5496,  0.6448],\n",
       "               [-0.6659, -1.4148,  0.1034],\n",
       "               [ 2.3474, -0.5496,  0.6448],\n",
       "               [-0.6659, -1.4148,  0.1034],\n",
       "               [ 2.3474, -0.5496,  0.6448],\n",
       "               [-0.6659, -1.4148,  0.1034],\n",
       "               [ 2.3474, -0.5496,  0.6448],\n",
       "               [-0.6659, -1.4148,  0.1034],\n",
       "               [ 2.3474, -0.5496,  0.6448],\n",
       "               [-0.6659, -1.4148,  0.1034],\n",
       "               [ 2.3474, -0.5496,  0.6448],\n",
       "               [-0.6659, -1.4148,  0.1034],\n",
       "               [ 2.3474, -0.5496,  0.6448],\n",
       "               [-0.6659, -1.4148,  0.1034],\n",
       "               [ 2.3474, -0.5496,  0.6448]]),\n",
       "    x: Batch(\n",
       "           c: tensor([[ 0.7854,  1.0524, -1.2328,  2.0520],\n",
       "                      [-1.3166, -0.5465,  0.5196, -0.0421],\n",
       "                      [ 0.3989,  0.0245, -0.4494,  0.1799],\n",
       "                      [ 0.7854,  1.0524, -1.2328,  2.0520],\n",
       "                      [-1.3166, -0.5465,  0.5196, -0.0421],\n",
       "                      [ 0.3989,  0.0245, -0.4494,  0.1799],\n",
       "                      [ 0.7854,  1.0524, -1.2328,  2.0520],\n",
       "                      [-1.3166, -0.5465,  0.5196, -0.0421],\n",
       "                      [ 0.3989,  0.0245, -0.4494,  0.1799],\n",
       "                      [ 0.7854,  1.0524, -1.2328,  2.0520],\n",
       "                      [-1.3166, -0.5465,  0.5196, -0.0421],\n",
       "                      [ 0.3989,  0.0245, -0.4494,  0.1799],\n",
       "                      [ 0.7854,  1.0524, -1.2328,  2.0520],\n",
       "                      [-1.3166, -0.5465,  0.5196, -0.0421],\n",
       "                      [ 0.3989,  0.0245, -0.4494,  0.1799],\n",
       "                      [ 0.7854,  1.0524, -1.2328,  2.0520],\n",
       "                      [-1.3166, -0.5465,  0.5196, -0.0421],\n",
       "                      [ 0.3989,  0.0245, -0.4494,  0.1799],\n",
       "                      [ 0.7854,  1.0524, -1.2328,  2.0520],\n",
       "                      [-1.3166, -0.5465,  0.5196, -0.0421],\n",
       "                      [ 0.3989,  0.0245, -0.4494,  0.1799],\n",
       "                      [ 0.7854,  1.0524, -1.2328,  2.0520],\n",
       "                      [-1.3166, -0.5465,  0.5196, -0.0421],\n",
       "                      [ 0.3989,  0.0245, -0.4494,  0.1799]]),\n",
       "       ),\n",
       ")"
      ]
     },
     "execution_count": 27,
     "metadata": {},
     "output_type": "execute_result"
    }
   ],
   "source": [
    "Batch.cat(batches)"
   ]
  },
  {
   "cell_type": "code",
   "execution_count": 28,
   "id": "18dfb045",
   "metadata": {
    "execution": {
     "iopub.execute_input": "2023-02-26T17:01:35.157177Z",
     "iopub.status.busy": "2023-02-26T17:01:35.156578Z",
     "iopub.status.idle": "2023-02-26T17:01:46.915366Z",
     "shell.execute_reply": "2023-02-26T17:01:46.914462Z"
    }
   },
   "outputs": [
    {
     "name": "stdout",
     "output_type": "stream",
     "text": [
      "145 µs ± 434 ns per loop (mean ± std. dev. of 7 runs, 10,000 loops each)\n"
     ]
    }
   ],
   "source": [
    "%timeit Batch.cat(batches)"
   ]
  },
  {
   "cell_type": "code",
   "execution_count": 29,
   "id": "c6688e51",
   "metadata": {
    "execution": {
     "iopub.execute_input": "2023-02-26T17:01:46.918806Z",
     "iopub.status.busy": "2023-02-26T17:01:46.918359Z",
     "iopub.status.idle": "2023-02-26T17:01:49.657029Z",
     "shell.execute_reply": "2023-02-26T17:01:49.656190Z"
    }
   },
   "outputs": [
    {
     "name": "stdout",
     "output_type": "stream",
     "text": [
      "337 µs ± 3.01 µs per loop (mean ± std. dev. of 7 runs, 1,000 loops each)\n"
     ]
    }
   ],
   "source": [
    "batch = Batch({\n",
    "    'obs': torch.randn(8, 4, 84, 84),\n",
    "    'action': torch.randint(0, 6, size=(8, 1,)),\n",
    "    'reward': torch.rand(8, 1)}\n",
    ")\n",
    "\n",
    "%timeit list(Batch.split(batch, 1, shuffle=False, merge_last=True))"
   ]
  },
  {
   "cell_type": "code",
   "execution_count": null,
   "id": "2539fbd9",
   "metadata": {},
   "outputs": [],
   "source": []
  }
 ],
 "metadata": {
  "kernelspec": {
   "display_name": "Python 3 (ipykernel)",
   "language": "python",
   "name": "python3"
  },
  "language_info": {
   "codemirror_mode": {
    "name": "ipython",
    "version": 3
   },
   "file_extension": ".py",
   "mimetype": "text/x-python",
   "name": "python",
   "nbconvert_exporter": "python",
   "pygments_lexer": "ipython3",
   "version": "3.8.16"
  }
 },
 "nbformat": 4,
 "nbformat_minor": 5
}
