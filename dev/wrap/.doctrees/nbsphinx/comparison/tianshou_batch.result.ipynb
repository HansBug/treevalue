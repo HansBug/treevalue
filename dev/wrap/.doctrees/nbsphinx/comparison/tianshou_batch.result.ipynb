{
 "cells": [
  {
   "cell_type": "markdown",
   "id": "9d39d946",
   "metadata": {},
   "source": [
    "# Comparison Between TreeValue and Tianshou Batch"
   ]
  },
  {
   "cell_type": "markdown",
   "id": "3c6db2d4",
   "metadata": {},
   "source": [
    "In this section, we will take a look at the feature and performance of the [Tianshou Batch](https://github.com/thu-ml/tianshou) library, which is developed by Tsinghua Machine Learning Group."
   ]
  },
  {
   "cell_type": "markdown",
   "id": "069361b0",
   "metadata": {},
   "source": [
    "Before starting the comparison, let us define some thing."
   ]
  },
  {
   "cell_type": "code",
   "execution_count": 1,
   "id": "06fc8d26",
   "metadata": {
    "execution": {
     "iopub.execute_input": "2023-10-20T08:35:27.595973Z",
     "iopub.status.busy": "2023-10-20T08:35:27.595565Z",
     "iopub.status.idle": "2023-10-20T08:35:29.059588Z",
     "shell.execute_reply": "2023-10-20T08:35:29.058855Z"
    }
   },
   "outputs": [],
   "source": [
    "import torch \n",
    "\n",
    "_TREE_DATA_1 = {'a': 1, 'b': 2, 'x': {'c': 3, 'd': 4}}\n",
    "_TREE_DATA_2 = {\n",
    "    'a': torch.randn(2, 3), \n",
    "    'x': {\n",
    "        'c': torch.randn(3, 4)\n",
    "    },\n",
    "}\n",
    "_TREE_DATA_3 = {\n",
    "    'obs': torch.randn(4, 84, 84),\n",
    "    'action': torch.randint(0, 6, size=(1,)),\n",
    "    'reward': torch.rand(1),\n",
    "}"
   ]
  },
  {
   "cell_type": "markdown",
   "id": "83461b25",
   "metadata": {},
   "source": [
    "## Read and Write Operation"
   ]
  },
  {
   "cell_type": "markdown",
   "id": "067b3f73",
   "metadata": {},
   "source": [
    "Reading and writing are the two most common operations in the tree data structure based on the data model (TreeValue and Tianshou Batch both belong to this type), so this section will compare the reading and writing performance of these two libraries."
   ]
  },
  {
   "cell_type": "markdown",
   "id": "5d09a5b7",
   "metadata": {},
   "source": [
    "### TreeValue's Get and Set"
   ]
  },
  {
   "cell_type": "code",
   "execution_count": 2,
   "id": "9519c4bb",
   "metadata": {
    "execution": {
     "iopub.execute_input": "2023-10-20T08:35:29.063687Z",
     "iopub.status.busy": "2023-10-20T08:35:29.063203Z",
     "iopub.status.idle": "2023-10-20T08:35:29.093557Z",
     "shell.execute_reply": "2023-10-20T08:35:29.092914Z"
    }
   },
   "outputs": [],
   "source": [
    "from treevalue import FastTreeValue\n",
    "\n",
    "t = FastTreeValue(_TREE_DATA_2)"
   ]
  },
  {
   "cell_type": "code",
   "execution_count": 3,
   "id": "11c37677",
   "metadata": {
    "execution": {
     "iopub.execute_input": "2023-10-20T08:35:29.096593Z",
     "iopub.status.busy": "2023-10-20T08:35:29.096147Z",
     "iopub.status.idle": "2023-10-20T08:35:29.106264Z",
     "shell.execute_reply": "2023-10-20T08:35:29.105655Z"
    }
   },
   "outputs": [
    {
     "data": {
      "text/plain": [
       "<FastTreeValue 0x7fe2d4ac6c40>\n",
       "├── 'a' --> tensor([[-2.1000,  0.5904,  0.5108],\n",
       "│                   [ 0.7393, -1.1363,  0.0743]])\n",
       "└── 'x' --> <FastTreeValue 0x7fe2d4ac6e50>\n",
       "    └── 'c' --> tensor([[-0.1092,  0.2905, -0.4219,  0.7781],\n",
       "                        [ 0.8802, -0.4592, -1.2742, -0.8595],\n",
       "                        [ 0.5969, -1.3623,  0.2230, -0.4164]])"
      ]
     },
     "execution_count": 3,
     "metadata": {},
     "output_type": "execute_result"
    }
   ],
   "source": [
    "t"
   ]
  },
  {
   "cell_type": "code",
   "execution_count": 4,
   "id": "fd70b0b9",
   "metadata": {
    "execution": {
     "iopub.execute_input": "2023-10-20T08:35:29.109152Z",
     "iopub.status.busy": "2023-10-20T08:35:29.108699Z",
     "iopub.status.idle": "2023-10-20T08:35:29.113602Z",
     "shell.execute_reply": "2023-10-20T08:35:29.112961Z"
    }
   },
   "outputs": [
    {
     "data": {
      "text/plain": [
       "tensor([[-2.1000,  0.5904,  0.5108],\n",
       "        [ 0.7393, -1.1363,  0.0743]])"
      ]
     },
     "execution_count": 4,
     "metadata": {},
     "output_type": "execute_result"
    }
   ],
   "source": [
    "t.a"
   ]
  },
  {
   "cell_type": "code",
   "execution_count": 5,
   "id": "c18197bd",
   "metadata": {
    "execution": {
     "iopub.execute_input": "2023-10-20T08:35:29.117103Z",
     "iopub.status.busy": "2023-10-20T08:35:29.116669Z",
     "iopub.status.idle": "2023-10-20T08:35:34.468950Z",
     "shell.execute_reply": "2023-10-20T08:35:34.468235Z"
    }
   },
   "outputs": [
    {
     "name": "stdout",
     "output_type": "stream",
     "text": [
      "66 ns ± 0.0962 ns per loop (mean ± std. dev. of 7 runs, 10,000,000 loops each)\n"
     ]
    }
   ],
   "source": [
    "%timeit t.a"
   ]
  },
  {
   "cell_type": "code",
   "execution_count": 6,
   "id": "bd52f867",
   "metadata": {
    "execution": {
     "iopub.execute_input": "2023-10-20T08:35:34.472355Z",
     "iopub.status.busy": "2023-10-20T08:35:34.471804Z",
     "iopub.status.idle": "2023-10-20T08:35:34.480394Z",
     "shell.execute_reply": "2023-10-20T08:35:34.479773Z"
    }
   },
   "outputs": [
    {
     "data": {
      "text/plain": [
       "<FastTreeValue 0x7fe2d4ac6c40>\n",
       "├── 'a' --> tensor([[-0.6924,  0.1709,  0.2756],\n",
       "│                   [-1.0050,  1.1657,  0.4360]])\n",
       "└── 'x' --> <FastTreeValue 0x7fe2d4ac6e50>\n",
       "    └── 'c' --> tensor([[-0.1092,  0.2905, -0.4219,  0.7781],\n",
       "                        [ 0.8802, -0.4592, -1.2742, -0.8595],\n",
       "                        [ 0.5969, -1.3623,  0.2230, -0.4164]])"
      ]
     },
     "execution_count": 6,
     "metadata": {},
     "output_type": "execute_result"
    }
   ],
   "source": [
    "new_value = torch.randn(2, 3)\n",
    "t.a = new_value\n",
    "\n",
    "t"
   ]
  },
  {
   "cell_type": "code",
   "execution_count": 7,
   "id": "bbe04d1c",
   "metadata": {
    "execution": {
     "iopub.execute_input": "2023-10-20T08:35:34.483588Z",
     "iopub.status.busy": "2023-10-20T08:35:34.483021Z",
     "iopub.status.idle": "2023-10-20T08:35:39.970366Z",
     "shell.execute_reply": "2023-10-20T08:35:39.969712Z"
    }
   },
   "outputs": [
    {
     "name": "stdout",
     "output_type": "stream",
     "text": [
      "67.7 ns ± 0.0786 ns per loop (mean ± std. dev. of 7 runs, 10,000,000 loops each)\n"
     ]
    }
   ],
   "source": [
    "%timeit t.a = new_value"
   ]
  },
  {
   "cell_type": "markdown",
   "id": "48c49731",
   "metadata": {},
   "source": [
    "### Tianshou Batch's Get and Set"
   ]
  },
  {
   "cell_type": "code",
   "execution_count": 8,
   "id": "f1bb14c1",
   "metadata": {
    "execution": {
     "iopub.execute_input": "2023-10-20T08:35:39.973643Z",
     "iopub.status.busy": "2023-10-20T08:35:39.973078Z",
     "iopub.status.idle": "2023-10-20T08:35:40.357359Z",
     "shell.execute_reply": "2023-10-20T08:35:40.356666Z"
    }
   },
   "outputs": [],
   "source": [
    "from tianshou.data import Batch\n",
    "\n",
    "b = Batch(**_TREE_DATA_2)"
   ]
  },
  {
   "cell_type": "code",
   "execution_count": 9,
   "id": "cb0777c3",
   "metadata": {
    "execution": {
     "iopub.execute_input": "2023-10-20T08:35:40.361181Z",
     "iopub.status.busy": "2023-10-20T08:35:40.360688Z",
     "iopub.status.idle": "2023-10-20T08:35:40.367917Z",
     "shell.execute_reply": "2023-10-20T08:35:40.367265Z"
    }
   },
   "outputs": [
    {
     "data": {
      "text/plain": [
       "Batch(\n",
       "    a: tensor([[-2.1000,  0.5904,  0.5108],\n",
       "               [ 0.7393, -1.1363,  0.0743]]),\n",
       "    x: Batch(\n",
       "           c: tensor([[-0.1092,  0.2905, -0.4219,  0.7781],\n",
       "                      [ 0.8802, -0.4592, -1.2742, -0.8595],\n",
       "                      [ 0.5969, -1.3623,  0.2230, -0.4164]]),\n",
       "       ),\n",
       ")"
      ]
     },
     "execution_count": 9,
     "metadata": {},
     "output_type": "execute_result"
    }
   ],
   "source": [
    "b"
   ]
  },
  {
   "cell_type": "code",
   "execution_count": 10,
   "id": "43ef8ea3",
   "metadata": {
    "execution": {
     "iopub.execute_input": "2023-10-20T08:35:40.370682Z",
     "iopub.status.busy": "2023-10-20T08:35:40.370322Z",
     "iopub.status.idle": "2023-10-20T08:35:40.375088Z",
     "shell.execute_reply": "2023-10-20T08:35:40.374437Z"
    }
   },
   "outputs": [
    {
     "data": {
      "text/plain": [
       "tensor([[-2.1000,  0.5904,  0.5108],\n",
       "        [ 0.7393, -1.1363,  0.0743]])"
      ]
     },
     "execution_count": 10,
     "metadata": {},
     "output_type": "execute_result"
    }
   ],
   "source": [
    "b.a"
   ]
  },
  {
   "cell_type": "code",
   "execution_count": 11,
   "id": "b785ab72",
   "metadata": {
    "execution": {
     "iopub.execute_input": "2023-10-20T08:35:40.377911Z",
     "iopub.status.busy": "2023-10-20T08:35:40.377687Z",
     "iopub.status.idle": "2023-10-20T08:35:44.818782Z",
     "shell.execute_reply": "2023-10-20T08:35:44.818080Z"
    }
   },
   "outputs": [
    {
     "name": "stdout",
     "output_type": "stream",
     "text": [
      "54.8 ns ± 0.0293 ns per loop (mean ± std. dev. of 7 runs, 10,000,000 loops each)\n"
     ]
    }
   ],
   "source": [
    "%timeit b.a"
   ]
  },
  {
   "cell_type": "code",
   "execution_count": 12,
   "id": "ad54dc69",
   "metadata": {
    "execution": {
     "iopub.execute_input": "2023-10-20T08:35:44.822213Z",
     "iopub.status.busy": "2023-10-20T08:35:44.821622Z",
     "iopub.status.idle": "2023-10-20T08:35:44.830310Z",
     "shell.execute_reply": "2023-10-20T08:35:44.829701Z"
    }
   },
   "outputs": [
    {
     "data": {
      "text/plain": [
       "Batch(\n",
       "    a: tensor([[-2.1293, -0.4173,  0.6356],\n",
       "               [-1.6237,  2.1675, -0.6240]]),\n",
       "    x: Batch(\n",
       "           c: tensor([[-0.1092,  0.2905, -0.4219,  0.7781],\n",
       "                      [ 0.8802, -0.4592, -1.2742, -0.8595],\n",
       "                      [ 0.5969, -1.3623,  0.2230, -0.4164]]),\n",
       "       ),\n",
       ")"
      ]
     },
     "execution_count": 12,
     "metadata": {},
     "output_type": "execute_result"
    }
   ],
   "source": [
    "new_value = torch.randn(2, 3)\n",
    "b.a = new_value\n",
    "\n",
    "b"
   ]
  },
  {
   "cell_type": "code",
   "execution_count": 13,
   "id": "29b1d0bf",
   "metadata": {
    "execution": {
     "iopub.execute_input": "2023-10-20T08:35:44.833359Z",
     "iopub.status.busy": "2023-10-20T08:35:44.832937Z",
     "iopub.status.idle": "2023-10-20T08:35:48.820789Z",
     "shell.execute_reply": "2023-10-20T08:35:48.820056Z"
    }
   },
   "outputs": [
    {
     "name": "stdout",
     "output_type": "stream",
     "text": [
      "491 ns ± 0.351 ns per loop (mean ± std. dev. of 7 runs, 1,000,000 loops each)\n"
     ]
    }
   ],
   "source": [
    "%timeit b.a = new_value"
   ]
  },
  {
   "cell_type": "markdown",
   "id": "b61ad1d0",
   "metadata": {},
   "source": [
    "## Initialization"
   ]
  },
  {
   "cell_type": "markdown",
   "id": "d70f0d54",
   "metadata": {},
   "source": [
    "### TreeValue's Initialization"
   ]
  },
  {
   "cell_type": "code",
   "execution_count": 14,
   "id": "d32a679b",
   "metadata": {
    "execution": {
     "iopub.execute_input": "2023-10-20T08:35:48.824361Z",
     "iopub.status.busy": "2023-10-20T08:35:48.823787Z",
     "iopub.status.idle": "2023-10-20T08:35:55.978386Z",
     "shell.execute_reply": "2023-10-20T08:35:55.977111Z"
    }
   },
   "outputs": [
    {
     "name": "stdout",
     "output_type": "stream",
     "text": [
      "882 ns ± 8.21 ns per loop (mean ± std. dev. of 7 runs, 1,000,000 loops each)\n"
     ]
    }
   ],
   "source": [
    "%timeit FastTreeValue(_TREE_DATA_1)"
   ]
  },
  {
   "cell_type": "markdown",
   "id": "24f3707b",
   "metadata": {},
   "source": [
    "### Tianshou Batch's Initialization"
   ]
  },
  {
   "cell_type": "code",
   "execution_count": 15,
   "id": "ac3958df",
   "metadata": {
    "execution": {
     "iopub.execute_input": "2023-10-20T08:35:55.981683Z",
     "iopub.status.busy": "2023-10-20T08:35:55.981219Z",
     "iopub.status.idle": "2023-10-20T08:36:05.127957Z",
     "shell.execute_reply": "2023-10-20T08:36:05.127252Z"
    }
   },
   "outputs": [
    {
     "name": "stdout",
     "output_type": "stream",
     "text": [
      "11.2 µs ± 55.1 ns per loop (mean ± std. dev. of 7 runs, 100,000 loops each)\n"
     ]
    }
   ],
   "source": [
    "%timeit Batch(**_TREE_DATA_1)"
   ]
  },
  {
   "cell_type": "markdown",
   "id": "1ab82e2d",
   "metadata": {},
   "source": [
    "## Deep Copy Operation"
   ]
  },
  {
   "cell_type": "code",
   "execution_count": 16,
   "id": "210a9442",
   "metadata": {
    "execution": {
     "iopub.execute_input": "2023-10-20T08:36:05.131559Z",
     "iopub.status.busy": "2023-10-20T08:36:05.131035Z",
     "iopub.status.idle": "2023-10-20T08:36:05.135416Z",
     "shell.execute_reply": "2023-10-20T08:36:05.134817Z"
    }
   },
   "outputs": [],
   "source": [
    "import copy"
   ]
  },
  {
   "cell_type": "markdown",
   "id": "5a736274",
   "metadata": {},
   "source": [
    "### Deep Copy of TreeValue"
   ]
  },
  {
   "cell_type": "code",
   "execution_count": 17,
   "id": "f9bcadd6",
   "metadata": {
    "execution": {
     "iopub.execute_input": "2023-10-20T08:36:05.138340Z",
     "iopub.status.busy": "2023-10-20T08:36:05.137901Z",
     "iopub.status.idle": "2023-10-20T08:36:16.751364Z",
     "shell.execute_reply": "2023-10-20T08:36:16.750764Z"
    }
   },
   "outputs": [
    {
     "name": "stdout",
     "output_type": "stream",
     "text": [
      "143 µs ± 577 ns per loop (mean ± std. dev. of 7 runs, 10,000 loops each)\n"
     ]
    }
   ],
   "source": [
    "t3 = FastTreeValue(_TREE_DATA_3)\n",
    "%timeit copy.deepcopy(t3)"
   ]
  },
  {
   "cell_type": "markdown",
   "id": "bf8be7ea",
   "metadata": {},
   "source": [
    "### Deep Copy of Tianshou Batch"
   ]
  },
  {
   "cell_type": "code",
   "execution_count": 18,
   "id": "91998e6f",
   "metadata": {
    "execution": {
     "iopub.execute_input": "2023-10-20T08:36:16.754820Z",
     "iopub.status.busy": "2023-10-20T08:36:16.754354Z",
     "iopub.status.idle": "2023-10-20T08:36:28.614315Z",
     "shell.execute_reply": "2023-10-20T08:36:28.613708Z"
    }
   },
   "outputs": [
    {
     "name": "stdout",
     "output_type": "stream",
     "text": [
      "146 µs ± 1.32 µs per loop (mean ± std. dev. of 7 runs, 10,000 loops each)\n"
     ]
    }
   ],
   "source": [
    "b3 = Batch(**_TREE_DATA_3)\n",
    "%timeit copy.deepcopy(b3)"
   ]
  },
  {
   "cell_type": "markdown",
   "id": "223162fb",
   "metadata": {},
   "source": [
    "## Stack, Concat and Split Operation"
   ]
  },
  {
   "cell_type": "markdown",
   "id": "85fa4a73",
   "metadata": {},
   "source": [
    "### Performance of TreeValue"
   ]
  },
  {
   "cell_type": "code",
   "execution_count": 19,
   "id": "a0c2b697",
   "metadata": {
    "execution": {
     "iopub.execute_input": "2023-10-20T08:36:28.617686Z",
     "iopub.status.busy": "2023-10-20T08:36:28.617451Z",
     "iopub.status.idle": "2023-10-20T08:36:28.621916Z",
     "shell.execute_reply": "2023-10-20T08:36:28.621315Z"
    }
   },
   "outputs": [],
   "source": [
    "trees = [FastTreeValue(_TREE_DATA_2) for _ in range(8)]"
   ]
  },
  {
   "cell_type": "code",
   "execution_count": 20,
   "id": "017ea5a5",
   "metadata": {
    "execution": {
     "iopub.execute_input": "2023-10-20T08:36:28.624911Z",
     "iopub.status.busy": "2023-10-20T08:36:28.624381Z",
     "iopub.status.idle": "2023-10-20T08:36:28.634417Z",
     "shell.execute_reply": "2023-10-20T08:36:28.633702Z"
    }
   },
   "outputs": [
    {
     "data": {
      "text/plain": [
       "<FastTreeValue 0x7fe1f5c1e700>\n",
       "├── 'a' --> tensor([[[-2.1000,  0.5904,  0.5108],\n",
       "│                    [ 0.7393, -1.1363,  0.0743]],\n",
       "│           \n",
       "│                   [[-2.1000,  0.5904,  0.5108],\n",
       "│                    [ 0.7393, -1.1363,  0.0743]],\n",
       "│           \n",
       "│                   [[-2.1000,  0.5904,  0.5108],\n",
       "│                    [ 0.7393, -1.1363,  0.0743]],\n",
       "│           \n",
       "│                   [[-2.1000,  0.5904,  0.5108],\n",
       "│                    [ 0.7393, -1.1363,  0.0743]],\n",
       "│           \n",
       "│                   [[-2.1000,  0.5904,  0.5108],\n",
       "│                    [ 0.7393, -1.1363,  0.0743]],\n",
       "│           \n",
       "│                   [[-2.1000,  0.5904,  0.5108],\n",
       "│                    [ 0.7393, -1.1363,  0.0743]],\n",
       "│           \n",
       "│                   [[-2.1000,  0.5904,  0.5108],\n",
       "│                    [ 0.7393, -1.1363,  0.0743]],\n",
       "│           \n",
       "│                   [[-2.1000,  0.5904,  0.5108],\n",
       "│                    [ 0.7393, -1.1363,  0.0743]]])\n",
       "└── 'x' --> <FastTreeValue 0x7fe2d7af1c10>\n",
       "    └── 'c' --> tensor([[[-0.1092,  0.2905, -0.4219,  0.7781],\n",
       "                         [ 0.8802, -0.4592, -1.2742, -0.8595],\n",
       "                         [ 0.5969, -1.3623,  0.2230, -0.4164]],\n",
       "                \n",
       "                        [[-0.1092,  0.2905, -0.4219,  0.7781],\n",
       "                         [ 0.8802, -0.4592, -1.2742, -0.8595],\n",
       "                         [ 0.5969, -1.3623,  0.2230, -0.4164]],\n",
       "                \n",
       "                        [[-0.1092,  0.2905, -0.4219,  0.7781],\n",
       "                         [ 0.8802, -0.4592, -1.2742, -0.8595],\n",
       "                         [ 0.5969, -1.3623,  0.2230, -0.4164]],\n",
       "                \n",
       "                        [[-0.1092,  0.2905, -0.4219,  0.7781],\n",
       "                         [ 0.8802, -0.4592, -1.2742, -0.8595],\n",
       "                         [ 0.5969, -1.3623,  0.2230, -0.4164]],\n",
       "                \n",
       "                        [[-0.1092,  0.2905, -0.4219,  0.7781],\n",
       "                         [ 0.8802, -0.4592, -1.2742, -0.8595],\n",
       "                         [ 0.5969, -1.3623,  0.2230, -0.4164]],\n",
       "                \n",
       "                        [[-0.1092,  0.2905, -0.4219,  0.7781],\n",
       "                         [ 0.8802, -0.4592, -1.2742, -0.8595],\n",
       "                         [ 0.5969, -1.3623,  0.2230, -0.4164]],\n",
       "                \n",
       "                        [[-0.1092,  0.2905, -0.4219,  0.7781],\n",
       "                         [ 0.8802, -0.4592, -1.2742, -0.8595],\n",
       "                         [ 0.5969, -1.3623,  0.2230, -0.4164]],\n",
       "                \n",
       "                        [[-0.1092,  0.2905, -0.4219,  0.7781],\n",
       "                         [ 0.8802, -0.4592, -1.2742, -0.8595],\n",
       "                         [ 0.5969, -1.3623,  0.2230, -0.4164]]])"
      ]
     },
     "execution_count": 20,
     "metadata": {},
     "output_type": "execute_result"
    }
   ],
   "source": [
    "t_stack = FastTreeValue.func(subside=True)(torch.stack)\n",
    "\n",
    "t_stack(trees)"
   ]
  },
  {
   "cell_type": "code",
   "execution_count": 21,
   "id": "f8b3f415",
   "metadata": {
    "execution": {
     "iopub.execute_input": "2023-10-20T08:36:28.637307Z",
     "iopub.status.busy": "2023-10-20T08:36:28.636961Z",
     "iopub.status.idle": "2023-10-20T08:36:31.338906Z",
     "shell.execute_reply": "2023-10-20T08:36:31.338248Z"
    }
   },
   "outputs": [
    {
     "name": "stdout",
     "output_type": "stream",
     "text": [
      "33.2 µs ± 140 ns per loop (mean ± std. dev. of 7 runs, 10,000 loops each)\n"
     ]
    }
   ],
   "source": [
    "%timeit t_stack(trees)"
   ]
  },
  {
   "cell_type": "code",
   "execution_count": 22,
   "id": "94b56771",
   "metadata": {
    "execution": {
     "iopub.execute_input": "2023-10-20T08:36:31.342394Z",
     "iopub.status.busy": "2023-10-20T08:36:31.341830Z",
     "iopub.status.idle": "2023-10-20T08:36:31.352222Z",
     "shell.execute_reply": "2023-10-20T08:36:31.351596Z"
    }
   },
   "outputs": [
    {
     "data": {
      "text/plain": [
       "<FastTreeValue 0x7fe2d4a6fc70>\n",
       "├── 'a' --> tensor([[-2.1000,  0.5904,  0.5108],\n",
       "│                   [ 0.7393, -1.1363,  0.0743],\n",
       "│                   [-2.1000,  0.5904,  0.5108],\n",
       "│                   [ 0.7393, -1.1363,  0.0743],\n",
       "│                   [-2.1000,  0.5904,  0.5108],\n",
       "│                   [ 0.7393, -1.1363,  0.0743],\n",
       "│                   [-2.1000,  0.5904,  0.5108],\n",
       "│                   [ 0.7393, -1.1363,  0.0743],\n",
       "│                   [-2.1000,  0.5904,  0.5108],\n",
       "│                   [ 0.7393, -1.1363,  0.0743],\n",
       "│                   [-2.1000,  0.5904,  0.5108],\n",
       "│                   [ 0.7393, -1.1363,  0.0743],\n",
       "│                   [-2.1000,  0.5904,  0.5108],\n",
       "│                   [ 0.7393, -1.1363,  0.0743],\n",
       "│                   [-2.1000,  0.5904,  0.5108],\n",
       "│                   [ 0.7393, -1.1363,  0.0743]])\n",
       "└── 'x' --> <FastTreeValue 0x7fe2d4a6fd90>\n",
       "    └── 'c' --> tensor([[-0.1092,  0.2905, -0.4219,  0.7781],\n",
       "                        [ 0.8802, -0.4592, -1.2742, -0.8595],\n",
       "                        [ 0.5969, -1.3623,  0.2230, -0.4164],\n",
       "                        [-0.1092,  0.2905, -0.4219,  0.7781],\n",
       "                        [ 0.8802, -0.4592, -1.2742, -0.8595],\n",
       "                        [ 0.5969, -1.3623,  0.2230, -0.4164],\n",
       "                        [-0.1092,  0.2905, -0.4219,  0.7781],\n",
       "                        [ 0.8802, -0.4592, -1.2742, -0.8595],\n",
       "                        [ 0.5969, -1.3623,  0.2230, -0.4164],\n",
       "                        [-0.1092,  0.2905, -0.4219,  0.7781],\n",
       "                        [ 0.8802, -0.4592, -1.2742, -0.8595],\n",
       "                        [ 0.5969, -1.3623,  0.2230, -0.4164],\n",
       "                        [-0.1092,  0.2905, -0.4219,  0.7781],\n",
       "                        [ 0.8802, -0.4592, -1.2742, -0.8595],\n",
       "                        [ 0.5969, -1.3623,  0.2230, -0.4164],\n",
       "                        [-0.1092,  0.2905, -0.4219,  0.7781],\n",
       "                        [ 0.8802, -0.4592, -1.2742, -0.8595],\n",
       "                        [ 0.5969, -1.3623,  0.2230, -0.4164],\n",
       "                        [-0.1092,  0.2905, -0.4219,  0.7781],\n",
       "                        [ 0.8802, -0.4592, -1.2742, -0.8595],\n",
       "                        [ 0.5969, -1.3623,  0.2230, -0.4164],\n",
       "                        [-0.1092,  0.2905, -0.4219,  0.7781],\n",
       "                        [ 0.8802, -0.4592, -1.2742, -0.8595],\n",
       "                        [ 0.5969, -1.3623,  0.2230, -0.4164]])"
      ]
     },
     "execution_count": 22,
     "metadata": {},
     "output_type": "execute_result"
    }
   ],
   "source": [
    "t_cat = FastTreeValue.func(subside=True)(torch.cat)\n",
    "\n",
    "t_cat(trees)"
   ]
  },
  {
   "cell_type": "code",
   "execution_count": 23,
   "id": "5e9c06a6",
   "metadata": {
    "execution": {
     "iopub.execute_input": "2023-10-20T08:36:31.355448Z",
     "iopub.status.busy": "2023-10-20T08:36:31.354901Z",
     "iopub.status.idle": "2023-10-20T08:36:33.910719Z",
     "shell.execute_reply": "2023-10-20T08:36:33.910028Z"
    }
   },
   "outputs": [
    {
     "name": "stdout",
     "output_type": "stream",
     "text": [
      "31.4 µs ± 77.3 ns per loop (mean ± std. dev. of 7 runs, 10,000 loops each)\n"
     ]
    }
   ],
   "source": [
    "%timeit t_cat(trees)"
   ]
  },
  {
   "cell_type": "code",
   "execution_count": 24,
   "id": "a3ab5c8f",
   "metadata": {
    "execution": {
     "iopub.execute_input": "2023-10-20T08:36:33.913887Z",
     "iopub.status.busy": "2023-10-20T08:36:33.913398Z",
     "iopub.status.idle": "2023-10-20T08:36:39.483118Z",
     "shell.execute_reply": "2023-10-20T08:36:39.482435Z"
    }
   },
   "outputs": [
    {
     "name": "stdout",
     "output_type": "stream",
     "text": [
      "68.5 µs ± 133 ns per loop (mean ± std. dev. of 7 runs, 10,000 loops each)\n"
     ]
    }
   ],
   "source": [
    "t_split = FastTreeValue.func(rise=True)(torch.split)\n",
    "tree = FastTreeValue({\n",
    "    'obs': torch.randn(8, 4, 84, 84),\n",
    "    'action': torch.randint(0, 6, size=(8, 1,)),\n",
    "    'reward': torch.rand(8, 1),\n",
    "})\n",
    "\n",
    "%timeit t_split(tree, 1)"
   ]
  },
  {
   "cell_type": "markdown",
   "id": "31c3ec0b",
   "metadata": {},
   "source": [
    "### Performance of Tianshou Batch"
   ]
  },
  {
   "cell_type": "code",
   "execution_count": 25,
   "id": "9ead828a",
   "metadata": {
    "execution": {
     "iopub.execute_input": "2023-10-20T08:36:39.486352Z",
     "iopub.status.busy": "2023-10-20T08:36:39.485898Z",
     "iopub.status.idle": "2023-10-20T08:36:39.494357Z",
     "shell.execute_reply": "2023-10-20T08:36:39.493773Z"
    }
   },
   "outputs": [
    {
     "data": {
      "text/plain": [
       "Batch(\n",
       "    a: tensor([[[-2.1000,  0.5904,  0.5108],\n",
       "                [ 0.7393, -1.1363,  0.0743]],\n",
       "       \n",
       "               [[-2.1000,  0.5904,  0.5108],\n",
       "                [ 0.7393, -1.1363,  0.0743]],\n",
       "       \n",
       "               [[-2.1000,  0.5904,  0.5108],\n",
       "                [ 0.7393, -1.1363,  0.0743]],\n",
       "       \n",
       "               [[-2.1000,  0.5904,  0.5108],\n",
       "                [ 0.7393, -1.1363,  0.0743]],\n",
       "       \n",
       "               [[-2.1000,  0.5904,  0.5108],\n",
       "                [ 0.7393, -1.1363,  0.0743]],\n",
       "       \n",
       "               [[-2.1000,  0.5904,  0.5108],\n",
       "                [ 0.7393, -1.1363,  0.0743]],\n",
       "       \n",
       "               [[-2.1000,  0.5904,  0.5108],\n",
       "                [ 0.7393, -1.1363,  0.0743]],\n",
       "       \n",
       "               [[-2.1000,  0.5904,  0.5108],\n",
       "                [ 0.7393, -1.1363,  0.0743]]]),\n",
       "    x: Batch(\n",
       "           c: tensor([[[-0.1092,  0.2905, -0.4219,  0.7781],\n",
       "                       [ 0.8802, -0.4592, -1.2742, -0.8595],\n",
       "                       [ 0.5969, -1.3623,  0.2230, -0.4164]],\n",
       "              \n",
       "                      [[-0.1092,  0.2905, -0.4219,  0.7781],\n",
       "                       [ 0.8802, -0.4592, -1.2742, -0.8595],\n",
       "                       [ 0.5969, -1.3623,  0.2230, -0.4164]],\n",
       "              \n",
       "                      [[-0.1092,  0.2905, -0.4219,  0.7781],\n",
       "                       [ 0.8802, -0.4592, -1.2742, -0.8595],\n",
       "                       [ 0.5969, -1.3623,  0.2230, -0.4164]],\n",
       "              \n",
       "                      [[-0.1092,  0.2905, -0.4219,  0.7781],\n",
       "                       [ 0.8802, -0.4592, -1.2742, -0.8595],\n",
       "                       [ 0.5969, -1.3623,  0.2230, -0.4164]],\n",
       "              \n",
       "                      [[-0.1092,  0.2905, -0.4219,  0.7781],\n",
       "                       [ 0.8802, -0.4592, -1.2742, -0.8595],\n",
       "                       [ 0.5969, -1.3623,  0.2230, -0.4164]],\n",
       "              \n",
       "                      [[-0.1092,  0.2905, -0.4219,  0.7781],\n",
       "                       [ 0.8802, -0.4592, -1.2742, -0.8595],\n",
       "                       [ 0.5969, -1.3623,  0.2230, -0.4164]],\n",
       "              \n",
       "                      [[-0.1092,  0.2905, -0.4219,  0.7781],\n",
       "                       [ 0.8802, -0.4592, -1.2742, -0.8595],\n",
       "                       [ 0.5969, -1.3623,  0.2230, -0.4164]],\n",
       "              \n",
       "                      [[-0.1092,  0.2905, -0.4219,  0.7781],\n",
       "                       [ 0.8802, -0.4592, -1.2742, -0.8595],\n",
       "                       [ 0.5969, -1.3623,  0.2230, -0.4164]]]),\n",
       "       ),\n",
       ")"
      ]
     },
     "execution_count": 25,
     "metadata": {},
     "output_type": "execute_result"
    }
   ],
   "source": [
    "batches = [Batch(**_TREE_DATA_2) for _ in range(8)]\n",
    "\n",
    "Batch.stack(batches)"
   ]
  },
  {
   "cell_type": "code",
   "execution_count": 26,
   "id": "ec9037a3",
   "metadata": {
    "execution": {
     "iopub.execute_input": "2023-10-20T08:36:39.497198Z",
     "iopub.status.busy": "2023-10-20T08:36:39.496753Z",
     "iopub.status.idle": "2023-10-20T08:36:46.060371Z",
     "shell.execute_reply": "2023-10-20T08:36:46.059662Z"
    }
   },
   "outputs": [
    {
     "name": "stdout",
     "output_type": "stream",
     "text": [
      "80.8 µs ± 95 ns per loop (mean ± std. dev. of 7 runs, 10,000 loops each)\n"
     ]
    }
   ],
   "source": [
    "%timeit Batch.stack(batches)"
   ]
  },
  {
   "cell_type": "code",
   "execution_count": 27,
   "id": "cb8ab77e",
   "metadata": {
    "execution": {
     "iopub.execute_input": "2023-10-20T08:36:46.063527Z",
     "iopub.status.busy": "2023-10-20T08:36:46.063047Z",
     "iopub.status.idle": "2023-10-20T08:36:46.071162Z",
     "shell.execute_reply": "2023-10-20T08:36:46.070561Z"
    }
   },
   "outputs": [
    {
     "data": {
      "text/plain": [
       "Batch(\n",
       "    a: tensor([[-2.1000,  0.5904,  0.5108],\n",
       "               [ 0.7393, -1.1363,  0.0743],\n",
       "               [-2.1000,  0.5904,  0.5108],\n",
       "               [ 0.7393, -1.1363,  0.0743],\n",
       "               [-2.1000,  0.5904,  0.5108],\n",
       "               [ 0.7393, -1.1363,  0.0743],\n",
       "               [-2.1000,  0.5904,  0.5108],\n",
       "               [ 0.7393, -1.1363,  0.0743],\n",
       "               [-2.1000,  0.5904,  0.5108],\n",
       "               [ 0.7393, -1.1363,  0.0743],\n",
       "               [-2.1000,  0.5904,  0.5108],\n",
       "               [ 0.7393, -1.1363,  0.0743],\n",
       "               [-2.1000,  0.5904,  0.5108],\n",
       "               [ 0.7393, -1.1363,  0.0743],\n",
       "               [-2.1000,  0.5904,  0.5108],\n",
       "               [ 0.7393, -1.1363,  0.0743]]),\n",
       "    x: Batch(\n",
       "           c: tensor([[-0.1092,  0.2905, -0.4219,  0.7781],\n",
       "                      [ 0.8802, -0.4592, -1.2742, -0.8595],\n",
       "                      [ 0.5969, -1.3623,  0.2230, -0.4164],\n",
       "                      [-0.1092,  0.2905, -0.4219,  0.7781],\n",
       "                      [ 0.8802, -0.4592, -1.2742, -0.8595],\n",
       "                      [ 0.5969, -1.3623,  0.2230, -0.4164],\n",
       "                      [-0.1092,  0.2905, -0.4219,  0.7781],\n",
       "                      [ 0.8802, -0.4592, -1.2742, -0.8595],\n",
       "                      [ 0.5969, -1.3623,  0.2230, -0.4164],\n",
       "                      [-0.1092,  0.2905, -0.4219,  0.7781],\n",
       "                      [ 0.8802, -0.4592, -1.2742, -0.8595],\n",
       "                      [ 0.5969, -1.3623,  0.2230, -0.4164],\n",
       "                      [-0.1092,  0.2905, -0.4219,  0.7781],\n",
       "                      [ 0.8802, -0.4592, -1.2742, -0.8595],\n",
       "                      [ 0.5969, -1.3623,  0.2230, -0.4164],\n",
       "                      [-0.1092,  0.2905, -0.4219,  0.7781],\n",
       "                      [ 0.8802, -0.4592, -1.2742, -0.8595],\n",
       "                      [ 0.5969, -1.3623,  0.2230, -0.4164],\n",
       "                      [-0.1092,  0.2905, -0.4219,  0.7781],\n",
       "                      [ 0.8802, -0.4592, -1.2742, -0.8595],\n",
       "                      [ 0.5969, -1.3623,  0.2230, -0.4164],\n",
       "                      [-0.1092,  0.2905, -0.4219,  0.7781],\n",
       "                      [ 0.8802, -0.4592, -1.2742, -0.8595],\n",
       "                      [ 0.5969, -1.3623,  0.2230, -0.4164]]),\n",
       "       ),\n",
       ")"
      ]
     },
     "execution_count": 27,
     "metadata": {},
     "output_type": "execute_result"
    }
   ],
   "source": [
    "Batch.cat(batches)"
   ]
  },
  {
   "cell_type": "code",
   "execution_count": 28,
   "id": "18dfb045",
   "metadata": {
    "execution": {
     "iopub.execute_input": "2023-10-20T08:36:46.074035Z",
     "iopub.status.busy": "2023-10-20T08:36:46.073606Z",
     "iopub.status.idle": "2023-10-20T08:36:58.409096Z",
     "shell.execute_reply": "2023-10-20T08:36:58.408385Z"
    }
   },
   "outputs": [
    {
     "name": "stdout",
     "output_type": "stream",
     "text": [
      "152 µs ± 402 ns per loop (mean ± std. dev. of 7 runs, 10,000 loops each)\n"
     ]
    }
   ],
   "source": [
    "%timeit Batch.cat(batches)"
   ]
  },
  {
   "cell_type": "code",
   "execution_count": 29,
   "id": "c6688e51",
   "metadata": {
    "execution": {
     "iopub.execute_input": "2023-10-20T08:36:58.412300Z",
     "iopub.status.busy": "2023-10-20T08:36:58.411854Z",
     "iopub.status.idle": "2023-10-20T08:37:01.363586Z",
     "shell.execute_reply": "2023-10-20T08:37:01.362947Z"
    }
   },
   "outputs": [
    {
     "name": "stdout",
     "output_type": "stream",
     "text": [
      "363 µs ± 8.23 µs per loop (mean ± std. dev. of 7 runs, 1,000 loops each)\n"
     ]
    }
   ],
   "source": [
    "batch = Batch({\n",
    "    'obs': torch.randn(8, 4, 84, 84),\n",
    "    'action': torch.randint(0, 6, size=(8, 1,)),\n",
    "    'reward': torch.rand(8, 1)}\n",
    ")\n",
    "\n",
    "%timeit list(Batch.split(batch, 1, shuffle=False, merge_last=True))"
   ]
  },
  {
   "cell_type": "code",
   "execution_count": null,
   "id": "2539fbd9",
   "metadata": {},
   "outputs": [],
   "source": []
  }
 ],
 "metadata": {
  "kernelspec": {
   "display_name": "Python 3 (ipykernel)",
   "language": "python",
   "name": "python3"
  },
  "language_info": {
   "codemirror_mode": {
    "name": "ipython",
    "version": 3
   },
   "file_extension": ".py",
   "mimetype": "text/x-python",
   "name": "python",
   "nbconvert_exporter": "python",
   "pygments_lexer": "ipython3",
   "version": "3.8.18"
  }
 },
 "nbformat": 4,
 "nbformat_minor": 5
}
