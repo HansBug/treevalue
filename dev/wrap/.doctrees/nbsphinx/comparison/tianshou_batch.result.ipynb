{
 "cells": [
  {
   "cell_type": "markdown",
   "id": "9d39d946",
   "metadata": {},
   "source": [
    "# Comparison Between TreeValue and Tianshou Batch"
   ]
  },
  {
   "cell_type": "markdown",
   "id": "3c6db2d4",
   "metadata": {},
   "source": [
    "In this section, we will take a look at the feature and performance of the [Tianshou Batch](https://github.com/thu-ml/tianshou) library, which is developed by Tsinghua Machine Learning Group."
   ]
  },
  {
   "cell_type": "markdown",
   "id": "069361b0",
   "metadata": {},
   "source": [
    "Before starting the comparison, let us define some thing."
   ]
  },
  {
   "cell_type": "code",
   "execution_count": 1,
   "id": "06fc8d26",
   "metadata": {
    "execution": {
     "iopub.execute_input": "2023-10-20T09:56:55.933344Z",
     "iopub.status.busy": "2023-10-20T09:56:55.932858Z",
     "iopub.status.idle": "2023-10-20T09:56:57.999823Z",
     "shell.execute_reply": "2023-10-20T09:56:57.998077Z"
    }
   },
   "outputs": [],
   "source": [
    "import torch \n",
    "\n",
    "_TREE_DATA_1 = {'a': 1, 'b': 2, 'x': {'c': 3, 'd': 4}}\n",
    "_TREE_DATA_2 = {\n",
    "    'a': torch.randn(2, 3), \n",
    "    'x': {\n",
    "        'c': torch.randn(3, 4)\n",
    "    },\n",
    "}\n",
    "_TREE_DATA_3 = {\n",
    "    'obs': torch.randn(4, 84, 84),\n",
    "    'action': torch.randint(0, 6, size=(1,)),\n",
    "    'reward': torch.rand(1),\n",
    "}"
   ]
  },
  {
   "cell_type": "markdown",
   "id": "83461b25",
   "metadata": {},
   "source": [
    "## Read and Write Operation"
   ]
  },
  {
   "cell_type": "markdown",
   "id": "067b3f73",
   "metadata": {},
   "source": [
    "Reading and writing are the two most common operations in the tree data structure based on the data model (TreeValue and Tianshou Batch both belong to this type), so this section will compare the reading and writing performance of these two libraries."
   ]
  },
  {
   "cell_type": "markdown",
   "id": "5d09a5b7",
   "metadata": {},
   "source": [
    "### TreeValue's Get and Set"
   ]
  },
  {
   "cell_type": "code",
   "execution_count": 2,
   "id": "9519c4bb",
   "metadata": {
    "execution": {
     "iopub.execute_input": "2023-10-20T09:56:58.007027Z",
     "iopub.status.busy": "2023-10-20T09:56:58.006132Z",
     "iopub.status.idle": "2023-10-20T09:56:58.051315Z",
     "shell.execute_reply": "2023-10-20T09:56:58.050299Z"
    }
   },
   "outputs": [],
   "source": [
    "from treevalue import FastTreeValue\n",
    "\n",
    "t = FastTreeValue(_TREE_DATA_2)"
   ]
  },
  {
   "cell_type": "code",
   "execution_count": 3,
   "id": "11c37677",
   "metadata": {
    "execution": {
     "iopub.execute_input": "2023-10-20T09:56:58.057039Z",
     "iopub.status.busy": "2023-10-20T09:56:58.056419Z",
     "iopub.status.idle": "2023-10-20T09:56:58.068020Z",
     "shell.execute_reply": "2023-10-20T09:56:58.067132Z"
    }
   },
   "outputs": [
    {
     "data": {
      "text/plain": [
       "<FastTreeValue 0x7f3b6e687d30>\n",
       "├── 'a' --> tensor([[ 0.4259,  0.0769, -1.6668],\n",
       "│                   [-0.2683, -0.5154,  0.4206]])\n",
       "└── 'x' --> <FastTreeValue 0x7f3b6e687c10>\n",
       "    └── 'c' --> tensor([[ 0.7213,  1.0835, -0.1337, -0.2306],\n",
       "                        [-1.4343, -1.1890,  2.6288,  1.0729],\n",
       "                        [-0.6382,  0.1467,  0.5808, -1.9629]])"
      ]
     },
     "execution_count": 3,
     "metadata": {},
     "output_type": "execute_result"
    }
   ],
   "source": [
    "t"
   ]
  },
  {
   "cell_type": "code",
   "execution_count": 4,
   "id": "fd70b0b9",
   "metadata": {
    "execution": {
     "iopub.execute_input": "2023-10-20T09:56:58.073773Z",
     "iopub.status.busy": "2023-10-20T09:56:58.072914Z",
     "iopub.status.idle": "2023-10-20T09:56:58.081336Z",
     "shell.execute_reply": "2023-10-20T09:56:58.080603Z"
    }
   },
   "outputs": [
    {
     "data": {
      "text/plain": [
       "tensor([[ 0.4259,  0.0769, -1.6668],\n",
       "        [-0.2683, -0.5154,  0.4206]])"
      ]
     },
     "execution_count": 4,
     "metadata": {},
     "output_type": "execute_result"
    }
   ],
   "source": [
    "t.a"
   ]
  },
  {
   "cell_type": "code",
   "execution_count": 5,
   "id": "c18197bd",
   "metadata": {
    "execution": {
     "iopub.execute_input": "2023-10-20T09:56:58.085163Z",
     "iopub.status.busy": "2023-10-20T09:56:58.084651Z",
     "iopub.status.idle": "2023-10-20T09:57:05.250241Z",
     "shell.execute_reply": "2023-10-20T09:57:05.249180Z"
    }
   },
   "outputs": [
    {
     "name": "stdout",
     "output_type": "stream",
     "text": [
      "88.3 ns ± 0.327 ns per loop (mean ± std. dev. of 7 runs, 10,000,000 loops each)\n"
     ]
    }
   ],
   "source": [
    "%timeit t.a"
   ]
  },
  {
   "cell_type": "code",
   "execution_count": 6,
   "id": "bd52f867",
   "metadata": {
    "execution": {
     "iopub.execute_input": "2023-10-20T09:57:05.254987Z",
     "iopub.status.busy": "2023-10-20T09:57:05.254452Z",
     "iopub.status.idle": "2023-10-20T09:57:05.262974Z",
     "shell.execute_reply": "2023-10-20T09:57:05.262059Z"
    }
   },
   "outputs": [
    {
     "data": {
      "text/plain": [
       "<FastTreeValue 0x7f3b6e687d30>\n",
       "├── 'a' --> tensor([[ 1.9027,  1.8413, -1.3463],\n",
       "│                   [-0.0810,  0.7662,  0.4652]])\n",
       "└── 'x' --> <FastTreeValue 0x7f3b6e687c10>\n",
       "    └── 'c' --> tensor([[ 0.7213,  1.0835, -0.1337, -0.2306],\n",
       "                        [-1.4343, -1.1890,  2.6288,  1.0729],\n",
       "                        [-0.6382,  0.1467,  0.5808, -1.9629]])"
      ]
     },
     "execution_count": 6,
     "metadata": {},
     "output_type": "execute_result"
    }
   ],
   "source": [
    "new_value = torch.randn(2, 3)\n",
    "t.a = new_value\n",
    "\n",
    "t"
   ]
  },
  {
   "cell_type": "code",
   "execution_count": 7,
   "id": "bbe04d1c",
   "metadata": {
    "execution": {
     "iopub.execute_input": "2023-10-20T09:57:05.267158Z",
     "iopub.status.busy": "2023-10-20T09:57:05.266686Z",
     "iopub.status.idle": "2023-10-20T09:57:12.876837Z",
     "shell.execute_reply": "2023-10-20T09:57:12.875956Z"
    }
   },
   "outputs": [
    {
     "name": "stdout",
     "output_type": "stream",
     "text": [
      "93.7 ns ± 0.508 ns per loop (mean ± std. dev. of 7 runs, 10,000,000 loops each)\n"
     ]
    }
   ],
   "source": [
    "%timeit t.a = new_value"
   ]
  },
  {
   "cell_type": "markdown",
   "id": "48c49731",
   "metadata": {},
   "source": [
    "### Tianshou Batch's Get and Set"
   ]
  },
  {
   "cell_type": "code",
   "execution_count": 8,
   "id": "f1bb14c1",
   "metadata": {
    "execution": {
     "iopub.execute_input": "2023-10-20T09:57:12.881978Z",
     "iopub.status.busy": "2023-10-20T09:57:12.881327Z",
     "iopub.status.idle": "2023-10-20T09:57:13.469907Z",
     "shell.execute_reply": "2023-10-20T09:57:13.468886Z"
    }
   },
   "outputs": [],
   "source": [
    "from tianshou.data import Batch\n",
    "\n",
    "b = Batch(**_TREE_DATA_2)"
   ]
  },
  {
   "cell_type": "code",
   "execution_count": 9,
   "id": "cb0777c3",
   "metadata": {
    "execution": {
     "iopub.execute_input": "2023-10-20T09:57:13.475868Z",
     "iopub.status.busy": "2023-10-20T09:57:13.475083Z",
     "iopub.status.idle": "2023-10-20T09:57:13.483933Z",
     "shell.execute_reply": "2023-10-20T09:57:13.483107Z"
    }
   },
   "outputs": [
    {
     "data": {
      "text/plain": [
       "Batch(\n",
       "    a: tensor([[ 0.4259,  0.0769, -1.6668],\n",
       "               [-0.2683, -0.5154,  0.4206]]),\n",
       "    x: Batch(\n",
       "           c: tensor([[ 0.7213,  1.0835, -0.1337, -0.2306],\n",
       "                      [-1.4343, -1.1890,  2.6288,  1.0729],\n",
       "                      [-0.6382,  0.1467,  0.5808, -1.9629]]),\n",
       "       ),\n",
       ")"
      ]
     },
     "execution_count": 9,
     "metadata": {},
     "output_type": "execute_result"
    }
   ],
   "source": [
    "b"
   ]
  },
  {
   "cell_type": "code",
   "execution_count": 10,
   "id": "43ef8ea3",
   "metadata": {
    "execution": {
     "iopub.execute_input": "2023-10-20T09:57:13.487624Z",
     "iopub.status.busy": "2023-10-20T09:57:13.487078Z",
     "iopub.status.idle": "2023-10-20T09:57:13.493265Z",
     "shell.execute_reply": "2023-10-20T09:57:13.492436Z"
    }
   },
   "outputs": [
    {
     "data": {
      "text/plain": [
       "tensor([[ 0.4259,  0.0769, -1.6668],\n",
       "        [-0.2683, -0.5154,  0.4206]])"
      ]
     },
     "execution_count": 10,
     "metadata": {},
     "output_type": "execute_result"
    }
   ],
   "source": [
    "b.a"
   ]
  },
  {
   "cell_type": "code",
   "execution_count": 11,
   "id": "b785ab72",
   "metadata": {
    "execution": {
     "iopub.execute_input": "2023-10-20T09:57:13.498038Z",
     "iopub.status.busy": "2023-10-20T09:57:13.497318Z",
     "iopub.status.idle": "2023-10-20T09:57:20.063239Z",
     "shell.execute_reply": "2023-10-20T09:57:20.062237Z"
    }
   },
   "outputs": [
    {
     "name": "stdout",
     "output_type": "stream",
     "text": [
      "80.8 ns ± 0.123 ns per loop (mean ± std. dev. of 7 runs, 10,000,000 loops each)\n"
     ]
    }
   ],
   "source": [
    "%timeit b.a"
   ]
  },
  {
   "cell_type": "code",
   "execution_count": 12,
   "id": "ad54dc69",
   "metadata": {
    "execution": {
     "iopub.execute_input": "2023-10-20T09:57:20.068410Z",
     "iopub.status.busy": "2023-10-20T09:57:20.067861Z",
     "iopub.status.idle": "2023-10-20T09:57:20.081191Z",
     "shell.execute_reply": "2023-10-20T09:57:20.079292Z"
    }
   },
   "outputs": [
    {
     "data": {
      "text/plain": [
       "Batch(\n",
       "    a: tensor([[-7.2869e-01, -5.1382e-01, -1.5532e-04],\n",
       "               [ 1.1427e+00, -2.8861e-01, -1.9751e+00]]),\n",
       "    x: Batch(\n",
       "           c: tensor([[ 0.7213,  1.0835, -0.1337, -0.2306],\n",
       "                      [-1.4343, -1.1890,  2.6288,  1.0729],\n",
       "                      [-0.6382,  0.1467,  0.5808, -1.9629]]),\n",
       "       ),\n",
       ")"
      ]
     },
     "execution_count": 12,
     "metadata": {},
     "output_type": "execute_result"
    }
   ],
   "source": [
    "new_value = torch.randn(2, 3)\n",
    "b.a = new_value\n",
    "\n",
    "b"
   ]
  },
  {
   "cell_type": "code",
   "execution_count": 13,
   "id": "29b1d0bf",
   "metadata": {
    "execution": {
     "iopub.execute_input": "2023-10-20T09:57:20.085697Z",
     "iopub.status.busy": "2023-10-20T09:57:20.085116Z",
     "iopub.status.idle": "2023-10-20T09:57:25.417152Z",
     "shell.execute_reply": "2023-10-20T09:57:25.416308Z"
    }
   },
   "outputs": [
    {
     "name": "stdout",
     "output_type": "stream",
     "text": [
      "651 ns ± 0.253 ns per loop (mean ± std. dev. of 7 runs, 1,000,000 loops each)\n"
     ]
    }
   ],
   "source": [
    "%timeit b.a = new_value"
   ]
  },
  {
   "cell_type": "markdown",
   "id": "b61ad1d0",
   "metadata": {},
   "source": [
    "## Initialization"
   ]
  },
  {
   "cell_type": "markdown",
   "id": "d70f0d54",
   "metadata": {},
   "source": [
    "### TreeValue's Initialization"
   ]
  },
  {
   "cell_type": "code",
   "execution_count": 14,
   "id": "d32a679b",
   "metadata": {
    "execution": {
     "iopub.execute_input": "2023-10-20T09:57:25.422271Z",
     "iopub.status.busy": "2023-10-20T09:57:25.421623Z",
     "iopub.status.idle": "2023-10-20T09:57:34.831016Z",
     "shell.execute_reply": "2023-10-20T09:57:34.830136Z"
    }
   },
   "outputs": [
    {
     "name": "stdout",
     "output_type": "stream",
     "text": [
      "1.16 µs ± 8.73 ns per loop (mean ± std. dev. of 7 runs, 1,000,000 loops each)\n"
     ]
    }
   ],
   "source": [
    "%timeit FastTreeValue(_TREE_DATA_1)"
   ]
  },
  {
   "cell_type": "markdown",
   "id": "24f3707b",
   "metadata": {},
   "source": [
    "### Tianshou Batch's Initialization"
   ]
  },
  {
   "cell_type": "code",
   "execution_count": 15,
   "id": "ac3958df",
   "metadata": {
    "execution": {
     "iopub.execute_input": "2023-10-20T09:57:34.835712Z",
     "iopub.status.busy": "2023-10-20T09:57:34.835220Z",
     "iopub.status.idle": "2023-10-20T09:57:45.018309Z",
     "shell.execute_reply": "2023-10-20T09:57:45.014712Z"
    }
   },
   "outputs": [
    {
     "name": "stdout",
     "output_type": "stream",
     "text": [
      "12.5 µs ± 19.6 ns per loop (mean ± std. dev. of 7 runs, 100,000 loops each)\n"
     ]
    }
   ],
   "source": [
    "%timeit Batch(**_TREE_DATA_1)"
   ]
  },
  {
   "cell_type": "markdown",
   "id": "1ab82e2d",
   "metadata": {},
   "source": [
    "## Deep Copy Operation"
   ]
  },
  {
   "cell_type": "code",
   "execution_count": 16,
   "id": "210a9442",
   "metadata": {
    "execution": {
     "iopub.execute_input": "2023-10-20T09:57:45.023112Z",
     "iopub.status.busy": "2023-10-20T09:57:45.022499Z",
     "iopub.status.idle": "2023-10-20T09:57:45.026750Z",
     "shell.execute_reply": "2023-10-20T09:57:45.025780Z"
    }
   },
   "outputs": [],
   "source": [
    "import copy"
   ]
  },
  {
   "cell_type": "markdown",
   "id": "5a736274",
   "metadata": {},
   "source": [
    "### Deep Copy of TreeValue"
   ]
  },
  {
   "cell_type": "code",
   "execution_count": 17,
   "id": "f9bcadd6",
   "metadata": {
    "execution": {
     "iopub.execute_input": "2023-10-20T09:57:45.031106Z",
     "iopub.status.busy": "2023-10-20T09:57:45.030424Z",
     "iopub.status.idle": "2023-10-20T09:57:59.727731Z",
     "shell.execute_reply": "2023-10-20T09:57:59.726823Z"
    }
   },
   "outputs": [
    {
     "name": "stdout",
     "output_type": "stream",
     "text": [
      "180 µs ± 4.07 µs per loop (mean ± std. dev. of 7 runs, 10,000 loops each)\n"
     ]
    }
   ],
   "source": [
    "t3 = FastTreeValue(_TREE_DATA_3)\n",
    "%timeit copy.deepcopy(t3)"
   ]
  },
  {
   "cell_type": "markdown",
   "id": "bf8be7ea",
   "metadata": {},
   "source": [
    "### Deep Copy of Tianshou Batch"
   ]
  },
  {
   "cell_type": "code",
   "execution_count": 18,
   "id": "91998e6f",
   "metadata": {
    "execution": {
     "iopub.execute_input": "2023-10-20T09:57:59.734486Z",
     "iopub.status.busy": "2023-10-20T09:57:59.732910Z",
     "iopub.status.idle": "2023-10-20T09:58:14.148006Z",
     "shell.execute_reply": "2023-10-20T09:58:14.146707Z"
    }
   },
   "outputs": [
    {
     "name": "stdout",
     "output_type": "stream",
     "text": [
      "178 µs ± 1.7 µs per loop (mean ± std. dev. of 7 runs, 10,000 loops each)\n"
     ]
    }
   ],
   "source": [
    "b3 = Batch(**_TREE_DATA_3)\n",
    "%timeit copy.deepcopy(b3)"
   ]
  },
  {
   "cell_type": "markdown",
   "id": "223162fb",
   "metadata": {},
   "source": [
    "## Stack, Concat and Split Operation"
   ]
  },
  {
   "cell_type": "markdown",
   "id": "85fa4a73",
   "metadata": {},
   "source": [
    "### Performance of TreeValue"
   ]
  },
  {
   "cell_type": "code",
   "execution_count": 19,
   "id": "a0c2b697",
   "metadata": {
    "execution": {
     "iopub.execute_input": "2023-10-20T09:58:14.152984Z",
     "iopub.status.busy": "2023-10-20T09:58:14.152118Z",
     "iopub.status.idle": "2023-10-20T09:58:14.156791Z",
     "shell.execute_reply": "2023-10-20T09:58:14.156042Z"
    }
   },
   "outputs": [],
   "source": [
    "trees = [FastTreeValue(_TREE_DATA_2) for _ in range(8)]"
   ]
  },
  {
   "cell_type": "code",
   "execution_count": 20,
   "id": "017ea5a5",
   "metadata": {
    "execution": {
     "iopub.execute_input": "2023-10-20T09:58:14.160503Z",
     "iopub.status.busy": "2023-10-20T09:58:14.159926Z",
     "iopub.status.idle": "2023-10-20T09:58:14.170389Z",
     "shell.execute_reply": "2023-10-20T09:58:14.169452Z"
    }
   },
   "outputs": [
    {
     "data": {
      "text/plain": [
       "<FastTreeValue 0x7f3a8f6da430>\n",
       "├── 'a' --> tensor([[[ 0.4259,  0.0769, -1.6668],\n",
       "│                    [-0.2683, -0.5154,  0.4206]],\n",
       "│           \n",
       "│                   [[ 0.4259,  0.0769, -1.6668],\n",
       "│                    [-0.2683, -0.5154,  0.4206]],\n",
       "│           \n",
       "│                   [[ 0.4259,  0.0769, -1.6668],\n",
       "│                    [-0.2683, -0.5154,  0.4206]],\n",
       "│           \n",
       "│                   [[ 0.4259,  0.0769, -1.6668],\n",
       "│                    [-0.2683, -0.5154,  0.4206]],\n",
       "│           \n",
       "│                   [[ 0.4259,  0.0769, -1.6668],\n",
       "│                    [-0.2683, -0.5154,  0.4206]],\n",
       "│           \n",
       "│                   [[ 0.4259,  0.0769, -1.6668],\n",
       "│                    [-0.2683, -0.5154,  0.4206]],\n",
       "│           \n",
       "│                   [[ 0.4259,  0.0769, -1.6668],\n",
       "│                    [-0.2683, -0.5154,  0.4206]],\n",
       "│           \n",
       "│                   [[ 0.4259,  0.0769, -1.6668],\n",
       "│                    [-0.2683, -0.5154,  0.4206]]])\n",
       "└── 'x' --> <FastTreeValue 0x7f3b6c61ba60>\n",
       "    └── 'c' --> tensor([[[ 0.7213,  1.0835, -0.1337, -0.2306],\n",
       "                         [-1.4343, -1.1890,  2.6288,  1.0729],\n",
       "                         [-0.6382,  0.1467,  0.5808, -1.9629]],\n",
       "                \n",
       "                        [[ 0.7213,  1.0835, -0.1337, -0.2306],\n",
       "                         [-1.4343, -1.1890,  2.6288,  1.0729],\n",
       "                         [-0.6382,  0.1467,  0.5808, -1.9629]],\n",
       "                \n",
       "                        [[ 0.7213,  1.0835, -0.1337, -0.2306],\n",
       "                         [-1.4343, -1.1890,  2.6288,  1.0729],\n",
       "                         [-0.6382,  0.1467,  0.5808, -1.9629]],\n",
       "                \n",
       "                        [[ 0.7213,  1.0835, -0.1337, -0.2306],\n",
       "                         [-1.4343, -1.1890,  2.6288,  1.0729],\n",
       "                         [-0.6382,  0.1467,  0.5808, -1.9629]],\n",
       "                \n",
       "                        [[ 0.7213,  1.0835, -0.1337, -0.2306],\n",
       "                         [-1.4343, -1.1890,  2.6288,  1.0729],\n",
       "                         [-0.6382,  0.1467,  0.5808, -1.9629]],\n",
       "                \n",
       "                        [[ 0.7213,  1.0835, -0.1337, -0.2306],\n",
       "                         [-1.4343, -1.1890,  2.6288,  1.0729],\n",
       "                         [-0.6382,  0.1467,  0.5808, -1.9629]],\n",
       "                \n",
       "                        [[ 0.7213,  1.0835, -0.1337, -0.2306],\n",
       "                         [-1.4343, -1.1890,  2.6288,  1.0729],\n",
       "                         [-0.6382,  0.1467,  0.5808, -1.9629]],\n",
       "                \n",
       "                        [[ 0.7213,  1.0835, -0.1337, -0.2306],\n",
       "                         [-1.4343, -1.1890,  2.6288,  1.0729],\n",
       "                         [-0.6382,  0.1467,  0.5808, -1.9629]]])"
      ]
     },
     "execution_count": 20,
     "metadata": {},
     "output_type": "execute_result"
    }
   ],
   "source": [
    "t_stack = FastTreeValue.func(subside=True)(torch.stack)\n",
    "\n",
    "t_stack(trees)"
   ]
  },
  {
   "cell_type": "code",
   "execution_count": 21,
   "id": "f8b3f415",
   "metadata": {
    "execution": {
     "iopub.execute_input": "2023-10-20T09:58:14.174626Z",
     "iopub.status.busy": "2023-10-20T09:58:14.173740Z",
     "iopub.status.idle": "2023-10-20T09:58:17.451483Z",
     "shell.execute_reply": "2023-10-20T09:58:17.450416Z"
    }
   },
   "outputs": [
    {
     "name": "stdout",
     "output_type": "stream",
     "text": [
      "40.3 µs ± 107 ns per loop (mean ± std. dev. of 7 runs, 10,000 loops each)\n"
     ]
    }
   ],
   "source": [
    "%timeit t_stack(trees)"
   ]
  },
  {
   "cell_type": "code",
   "execution_count": 22,
   "id": "94b56771",
   "metadata": {
    "execution": {
     "iopub.execute_input": "2023-10-20T09:58:17.456161Z",
     "iopub.status.busy": "2023-10-20T09:58:17.455418Z",
     "iopub.status.idle": "2023-10-20T09:58:17.466986Z",
     "shell.execute_reply": "2023-10-20T09:58:17.466167Z"
    }
   },
   "outputs": [
    {
     "data": {
      "text/plain": [
       "<FastTreeValue 0x7f3b6c61bf40>\n",
       "├── 'a' --> tensor([[ 0.4259,  0.0769, -1.6668],\n",
       "│                   [-0.2683, -0.5154,  0.4206],\n",
       "│                   [ 0.4259,  0.0769, -1.6668],\n",
       "│                   [-0.2683, -0.5154,  0.4206],\n",
       "│                   [ 0.4259,  0.0769, -1.6668],\n",
       "│                   [-0.2683, -0.5154,  0.4206],\n",
       "│                   [ 0.4259,  0.0769, -1.6668],\n",
       "│                   [-0.2683, -0.5154,  0.4206],\n",
       "│                   [ 0.4259,  0.0769, -1.6668],\n",
       "│                   [-0.2683, -0.5154,  0.4206],\n",
       "│                   [ 0.4259,  0.0769, -1.6668],\n",
       "│                   [-0.2683, -0.5154,  0.4206],\n",
       "│                   [ 0.4259,  0.0769, -1.6668],\n",
       "│                   [-0.2683, -0.5154,  0.4206],\n",
       "│                   [ 0.4259,  0.0769, -1.6668],\n",
       "│                   [-0.2683, -0.5154,  0.4206]])\n",
       "└── 'x' --> <FastTreeValue 0x7f3b5c1c9550>\n",
       "    └── 'c' --> tensor([[ 0.7213,  1.0835, -0.1337, -0.2306],\n",
       "                        [-1.4343, -1.1890,  2.6288,  1.0729],\n",
       "                        [-0.6382,  0.1467,  0.5808, -1.9629],\n",
       "                        [ 0.7213,  1.0835, -0.1337, -0.2306],\n",
       "                        [-1.4343, -1.1890,  2.6288,  1.0729],\n",
       "                        [-0.6382,  0.1467,  0.5808, -1.9629],\n",
       "                        [ 0.7213,  1.0835, -0.1337, -0.2306],\n",
       "                        [-1.4343, -1.1890,  2.6288,  1.0729],\n",
       "                        [-0.6382,  0.1467,  0.5808, -1.9629],\n",
       "                        [ 0.7213,  1.0835, -0.1337, -0.2306],\n",
       "                        [-1.4343, -1.1890,  2.6288,  1.0729],\n",
       "                        [-0.6382,  0.1467,  0.5808, -1.9629],\n",
       "                        [ 0.7213,  1.0835, -0.1337, -0.2306],\n",
       "                        [-1.4343, -1.1890,  2.6288,  1.0729],\n",
       "                        [-0.6382,  0.1467,  0.5808, -1.9629],\n",
       "                        [ 0.7213,  1.0835, -0.1337, -0.2306],\n",
       "                        [-1.4343, -1.1890,  2.6288,  1.0729],\n",
       "                        [-0.6382,  0.1467,  0.5808, -1.9629],\n",
       "                        [ 0.7213,  1.0835, -0.1337, -0.2306],\n",
       "                        [-1.4343, -1.1890,  2.6288,  1.0729],\n",
       "                        [-0.6382,  0.1467,  0.5808, -1.9629],\n",
       "                        [ 0.7213,  1.0835, -0.1337, -0.2306],\n",
       "                        [-1.4343, -1.1890,  2.6288,  1.0729],\n",
       "                        [-0.6382,  0.1467,  0.5808, -1.9629]])"
      ]
     },
     "execution_count": 22,
     "metadata": {},
     "output_type": "execute_result"
    }
   ],
   "source": [
    "t_cat = FastTreeValue.func(subside=True)(torch.cat)\n",
    "\n",
    "t_cat(trees)"
   ]
  },
  {
   "cell_type": "code",
   "execution_count": 23,
   "id": "5e9c06a6",
   "metadata": {
    "execution": {
     "iopub.execute_input": "2023-10-20T09:58:17.470821Z",
     "iopub.status.busy": "2023-10-20T09:58:17.470360Z",
     "iopub.status.idle": "2023-10-20T09:58:20.551200Z",
     "shell.execute_reply": "2023-10-20T09:58:20.549874Z"
    }
   },
   "outputs": [
    {
     "name": "stdout",
     "output_type": "stream",
     "text": [
      "37.8 µs ± 61.8 ns per loop (mean ± std. dev. of 7 runs, 10,000 loops each)\n"
     ]
    }
   ],
   "source": [
    "%timeit t_cat(trees)"
   ]
  },
  {
   "cell_type": "code",
   "execution_count": 24,
   "id": "a3ab5c8f",
   "metadata": {
    "execution": {
     "iopub.execute_input": "2023-10-20T09:58:20.556562Z",
     "iopub.status.busy": "2023-10-20T09:58:20.555821Z",
     "iopub.status.idle": "2023-10-20T09:58:26.786781Z",
     "shell.execute_reply": "2023-10-20T09:58:26.785644Z"
    }
   },
   "outputs": [
    {
     "name": "stdout",
     "output_type": "stream",
     "text": [
      "76.4 µs ± 56.2 ns per loop (mean ± std. dev. of 7 runs, 10,000 loops each)\n"
     ]
    }
   ],
   "source": [
    "t_split = FastTreeValue.func(rise=True)(torch.split)\n",
    "tree = FastTreeValue({\n",
    "    'obs': torch.randn(8, 4, 84, 84),\n",
    "    'action': torch.randint(0, 6, size=(8, 1,)),\n",
    "    'reward': torch.rand(8, 1),\n",
    "})\n",
    "\n",
    "%timeit t_split(tree, 1)"
   ]
  },
  {
   "cell_type": "markdown",
   "id": "31c3ec0b",
   "metadata": {},
   "source": [
    "### Performance of Tianshou Batch"
   ]
  },
  {
   "cell_type": "code",
   "execution_count": 25,
   "id": "9ead828a",
   "metadata": {
    "execution": {
     "iopub.execute_input": "2023-10-20T09:58:26.793047Z",
     "iopub.status.busy": "2023-10-20T09:58:26.792451Z",
     "iopub.status.idle": "2023-10-20T09:58:26.804105Z",
     "shell.execute_reply": "2023-10-20T09:58:26.803311Z"
    }
   },
   "outputs": [
    {
     "data": {
      "text/plain": [
       "Batch(\n",
       "    a: tensor([[[ 0.4259,  0.0769, -1.6668],\n",
       "                [-0.2683, -0.5154,  0.4206]],\n",
       "       \n",
       "               [[ 0.4259,  0.0769, -1.6668],\n",
       "                [-0.2683, -0.5154,  0.4206]],\n",
       "       \n",
       "               [[ 0.4259,  0.0769, -1.6668],\n",
       "                [-0.2683, -0.5154,  0.4206]],\n",
       "       \n",
       "               [[ 0.4259,  0.0769, -1.6668],\n",
       "                [-0.2683, -0.5154,  0.4206]],\n",
       "       \n",
       "               [[ 0.4259,  0.0769, -1.6668],\n",
       "                [-0.2683, -0.5154,  0.4206]],\n",
       "       \n",
       "               [[ 0.4259,  0.0769, -1.6668],\n",
       "                [-0.2683, -0.5154,  0.4206]],\n",
       "       \n",
       "               [[ 0.4259,  0.0769, -1.6668],\n",
       "                [-0.2683, -0.5154,  0.4206]],\n",
       "       \n",
       "               [[ 0.4259,  0.0769, -1.6668],\n",
       "                [-0.2683, -0.5154,  0.4206]]]),\n",
       "    x: Batch(\n",
       "           c: tensor([[[ 0.7213,  1.0835, -0.1337, -0.2306],\n",
       "                       [-1.4343, -1.1890,  2.6288,  1.0729],\n",
       "                       [-0.6382,  0.1467,  0.5808, -1.9629]],\n",
       "              \n",
       "                      [[ 0.7213,  1.0835, -0.1337, -0.2306],\n",
       "                       [-1.4343, -1.1890,  2.6288,  1.0729],\n",
       "                       [-0.6382,  0.1467,  0.5808, -1.9629]],\n",
       "              \n",
       "                      [[ 0.7213,  1.0835, -0.1337, -0.2306],\n",
       "                       [-1.4343, -1.1890,  2.6288,  1.0729],\n",
       "                       [-0.6382,  0.1467,  0.5808, -1.9629]],\n",
       "              \n",
       "                      [[ 0.7213,  1.0835, -0.1337, -0.2306],\n",
       "                       [-1.4343, -1.1890,  2.6288,  1.0729],\n",
       "                       [-0.6382,  0.1467,  0.5808, -1.9629]],\n",
       "              \n",
       "                      [[ 0.7213,  1.0835, -0.1337, -0.2306],\n",
       "                       [-1.4343, -1.1890,  2.6288,  1.0729],\n",
       "                       [-0.6382,  0.1467,  0.5808, -1.9629]],\n",
       "              \n",
       "                      [[ 0.7213,  1.0835, -0.1337, -0.2306],\n",
       "                       [-1.4343, -1.1890,  2.6288,  1.0729],\n",
       "                       [-0.6382,  0.1467,  0.5808, -1.9629]],\n",
       "              \n",
       "                      [[ 0.7213,  1.0835, -0.1337, -0.2306],\n",
       "                       [-1.4343, -1.1890,  2.6288,  1.0729],\n",
       "                       [-0.6382,  0.1467,  0.5808, -1.9629]],\n",
       "              \n",
       "                      [[ 0.7213,  1.0835, -0.1337, -0.2306],\n",
       "                       [-1.4343, -1.1890,  2.6288,  1.0729],\n",
       "                       [-0.6382,  0.1467,  0.5808, -1.9629]]]),\n",
       "       ),\n",
       ")"
      ]
     },
     "execution_count": 25,
     "metadata": {},
     "output_type": "execute_result"
    }
   ],
   "source": [
    "batches = [Batch(**_TREE_DATA_2) for _ in range(8)]\n",
    "\n",
    "Batch.stack(batches)"
   ]
  },
  {
   "cell_type": "code",
   "execution_count": 26,
   "id": "ec9037a3",
   "metadata": {
    "execution": {
     "iopub.execute_input": "2023-10-20T09:58:26.808179Z",
     "iopub.status.busy": "2023-10-20T09:58:26.807452Z",
     "iopub.status.idle": "2023-10-20T09:58:34.975204Z",
     "shell.execute_reply": "2023-10-20T09:58:34.973927Z"
    }
   },
   "outputs": [
    {
     "name": "stdout",
     "output_type": "stream",
     "text": [
      "100 µs ± 131 ns per loop (mean ± std. dev. of 7 runs, 10,000 loops each)\n"
     ]
    }
   ],
   "source": [
    "%timeit Batch.stack(batches)"
   ]
  },
  {
   "cell_type": "code",
   "execution_count": 27,
   "id": "cb8ab77e",
   "metadata": {
    "execution": {
     "iopub.execute_input": "2023-10-20T09:58:34.979889Z",
     "iopub.status.busy": "2023-10-20T09:58:34.979446Z",
     "iopub.status.idle": "2023-10-20T09:58:34.988485Z",
     "shell.execute_reply": "2023-10-20T09:58:34.987672Z"
    }
   },
   "outputs": [
    {
     "data": {
      "text/plain": [
       "Batch(\n",
       "    a: tensor([[ 0.4259,  0.0769, -1.6668],\n",
       "               [-0.2683, -0.5154,  0.4206],\n",
       "               [ 0.4259,  0.0769, -1.6668],\n",
       "               [-0.2683, -0.5154,  0.4206],\n",
       "               [ 0.4259,  0.0769, -1.6668],\n",
       "               [-0.2683, -0.5154,  0.4206],\n",
       "               [ 0.4259,  0.0769, -1.6668],\n",
       "               [-0.2683, -0.5154,  0.4206],\n",
       "               [ 0.4259,  0.0769, -1.6668],\n",
       "               [-0.2683, -0.5154,  0.4206],\n",
       "               [ 0.4259,  0.0769, -1.6668],\n",
       "               [-0.2683, -0.5154,  0.4206],\n",
       "               [ 0.4259,  0.0769, -1.6668],\n",
       "               [-0.2683, -0.5154,  0.4206],\n",
       "               [ 0.4259,  0.0769, -1.6668],\n",
       "               [-0.2683, -0.5154,  0.4206]]),\n",
       "    x: Batch(\n",
       "           c: tensor([[ 0.7213,  1.0835, -0.1337, -0.2306],\n",
       "                      [-1.4343, -1.1890,  2.6288,  1.0729],\n",
       "                      [-0.6382,  0.1467,  0.5808, -1.9629],\n",
       "                      [ 0.7213,  1.0835, -0.1337, -0.2306],\n",
       "                      [-1.4343, -1.1890,  2.6288,  1.0729],\n",
       "                      [-0.6382,  0.1467,  0.5808, -1.9629],\n",
       "                      [ 0.7213,  1.0835, -0.1337, -0.2306],\n",
       "                      [-1.4343, -1.1890,  2.6288,  1.0729],\n",
       "                      [-0.6382,  0.1467,  0.5808, -1.9629],\n",
       "                      [ 0.7213,  1.0835, -0.1337, -0.2306],\n",
       "                      [-1.4343, -1.1890,  2.6288,  1.0729],\n",
       "                      [-0.6382,  0.1467,  0.5808, -1.9629],\n",
       "                      [ 0.7213,  1.0835, -0.1337, -0.2306],\n",
       "                      [-1.4343, -1.1890,  2.6288,  1.0729],\n",
       "                      [-0.6382,  0.1467,  0.5808, -1.9629],\n",
       "                      [ 0.7213,  1.0835, -0.1337, -0.2306],\n",
       "                      [-1.4343, -1.1890,  2.6288,  1.0729],\n",
       "                      [-0.6382,  0.1467,  0.5808, -1.9629],\n",
       "                      [ 0.7213,  1.0835, -0.1337, -0.2306],\n",
       "                      [-1.4343, -1.1890,  2.6288,  1.0729],\n",
       "                      [-0.6382,  0.1467,  0.5808, -1.9629],\n",
       "                      [ 0.7213,  1.0835, -0.1337, -0.2306],\n",
       "                      [-1.4343, -1.1890,  2.6288,  1.0729],\n",
       "                      [-0.6382,  0.1467,  0.5808, -1.9629]]),\n",
       "       ),\n",
       ")"
      ]
     },
     "execution_count": 27,
     "metadata": {},
     "output_type": "execute_result"
    }
   ],
   "source": [
    "Batch.cat(batches)"
   ]
  },
  {
   "cell_type": "code",
   "execution_count": 28,
   "id": "18dfb045",
   "metadata": {
    "execution": {
     "iopub.execute_input": "2023-10-20T09:58:34.992298Z",
     "iopub.status.busy": "2023-10-20T09:58:34.991770Z",
     "iopub.status.idle": "2023-10-20T09:58:49.623770Z",
     "shell.execute_reply": "2023-10-20T09:58:49.622917Z"
    }
   },
   "outputs": [
    {
     "name": "stdout",
     "output_type": "stream",
     "text": [
      "180 µs ± 1.25 µs per loop (mean ± std. dev. of 7 runs, 10,000 loops each)\n"
     ]
    }
   ],
   "source": [
    "%timeit Batch.cat(batches)"
   ]
  },
  {
   "cell_type": "code",
   "execution_count": 29,
   "id": "c6688e51",
   "metadata": {
    "execution": {
     "iopub.execute_input": "2023-10-20T09:58:49.628525Z",
     "iopub.status.busy": "2023-10-20T09:58:49.627780Z",
     "iopub.status.idle": "2023-10-20T09:58:53.407535Z",
     "shell.execute_reply": "2023-10-20T09:58:53.406698Z"
    }
   },
   "outputs": [
    {
     "name": "stdout",
     "output_type": "stream",
     "text": [
      "467 µs ± 17.6 µs per loop (mean ± std. dev. of 7 runs, 1,000 loops each)\n"
     ]
    }
   ],
   "source": [
    "batch = Batch({\n",
    "    'obs': torch.randn(8, 4, 84, 84),\n",
    "    'action': torch.randint(0, 6, size=(8, 1,)),\n",
    "    'reward': torch.rand(8, 1)}\n",
    ")\n",
    "\n",
    "%timeit list(Batch.split(batch, 1, shuffle=False, merge_last=True))"
   ]
  },
  {
   "cell_type": "code",
   "execution_count": null,
   "id": "2539fbd9",
   "metadata": {},
   "outputs": [],
   "source": []
  }
 ],
 "metadata": {
  "kernelspec": {
   "display_name": "Python 3 (ipykernel)",
   "language": "python",
   "name": "python3"
  },
  "language_info": {
   "codemirror_mode": {
    "name": "ipython",
    "version": 3
   },
   "file_extension": ".py",
   "mimetype": "text/x-python",
   "name": "python",
   "nbconvert_exporter": "python",
   "pygments_lexer": "ipython3",
   "version": "3.8.18"
  }
 },
 "nbformat": 4,
 "nbformat_minor": 5
}
