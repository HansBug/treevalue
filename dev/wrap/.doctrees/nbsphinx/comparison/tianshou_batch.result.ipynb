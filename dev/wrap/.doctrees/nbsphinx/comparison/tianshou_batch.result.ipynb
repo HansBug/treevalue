{
 "cells": [
  {
   "cell_type": "markdown",
   "id": "9d39d946",
   "metadata": {},
   "source": [
    "# Comparison Between TreeValue and Tianshou Batch"
   ]
  },
  {
   "cell_type": "markdown",
   "id": "3c6db2d4",
   "metadata": {},
   "source": [
    "In this section, we will take a look at the feature and performance of the [Tianshou Batch](https://github.com/thu-ml/tianshou) library, which is developed by Tsinghua Machine Learning Group."
   ]
  },
  {
   "cell_type": "markdown",
   "id": "069361b0",
   "metadata": {},
   "source": [
    "Before starting the comparison, let us define some thing."
   ]
  },
  {
   "cell_type": "code",
   "execution_count": 1,
   "id": "06fc8d26",
   "metadata": {
    "execution": {
     "iopub.execute_input": "2023-03-06T19:29:51.676242Z",
     "iopub.status.busy": "2023-03-06T19:29:51.675720Z",
     "iopub.status.idle": "2023-03-06T19:29:52.871163Z",
     "shell.execute_reply": "2023-03-06T19:29:52.870123Z"
    }
   },
   "outputs": [
    {
     "name": "stderr",
     "output_type": "stream",
     "text": [
      "/opt/hostedtoolcache/Python/3.8.16/x64/lib/python3.8/site-packages/tqdm/auto.py:21: TqdmWarning: IProgress not found. Please update jupyter and ipywidgets. See https://ipywidgets.readthedocs.io/en/stable/user_install.html\n",
      "  from .autonotebook import tqdm as notebook_tqdm\n"
     ]
    }
   ],
   "source": [
    "import torch \n",
    "\n",
    "_TREE_DATA_1 = {'a': 1, 'b': 2, 'x': {'c': 3, 'd': 4}}\n",
    "_TREE_DATA_2 = {\n",
    "    'a': torch.randn(2, 3), \n",
    "    'x': {\n",
    "        'c': torch.randn(3, 4)\n",
    "    },\n",
    "}\n",
    "_TREE_DATA_3 = {\n",
    "    'obs': torch.randn(4, 84, 84),\n",
    "    'action': torch.randint(0, 6, size=(1,)),\n",
    "    'reward': torch.rand(1),\n",
    "}"
   ]
  },
  {
   "cell_type": "markdown",
   "id": "83461b25",
   "metadata": {},
   "source": [
    "## Read and Write Operation"
   ]
  },
  {
   "cell_type": "markdown",
   "id": "067b3f73",
   "metadata": {},
   "source": [
    "Reading and writing are the two most common operations in the tree data structure based on the data model (TreeValue and Tianshou Batch both belong to this type), so this section will compare the reading and writing performance of these two libraries."
   ]
  },
  {
   "cell_type": "markdown",
   "id": "5d09a5b7",
   "metadata": {},
   "source": [
    "### TreeValue's Get and Set"
   ]
  },
  {
   "cell_type": "code",
   "execution_count": 2,
   "id": "9519c4bb",
   "metadata": {
    "execution": {
     "iopub.execute_input": "2023-03-06T19:29:52.876055Z",
     "iopub.status.busy": "2023-03-06T19:29:52.875548Z",
     "iopub.status.idle": "2023-03-06T19:29:52.921823Z",
     "shell.execute_reply": "2023-03-06T19:29:52.920899Z"
    }
   },
   "outputs": [],
   "source": [
    "from treevalue import FastTreeValue\n",
    "\n",
    "t = FastTreeValue(_TREE_DATA_2)"
   ]
  },
  {
   "cell_type": "code",
   "execution_count": 3,
   "id": "11c37677",
   "metadata": {
    "execution": {
     "iopub.execute_input": "2023-03-06T19:29:52.925061Z",
     "iopub.status.busy": "2023-03-06T19:29:52.924757Z",
     "iopub.status.idle": "2023-03-06T19:29:52.935652Z",
     "shell.execute_reply": "2023-03-06T19:29:52.934714Z"
    }
   },
   "outputs": [
    {
     "data": {
      "text/plain": [
       "<FastTreeValue 0x7f5444c03f10>\n",
       "├── 'a' --> tensor([[-1.5743,  0.3775, -1.1941],\n",
       "│                   [ 1.3848,  0.9011, -0.8879]])\n",
       "└── 'x' --> <FastTreeValue 0x7f5444c03df0>\n",
       "    └── 'c' --> tensor([[ 0.0358, -1.6137, -1.4106, -0.9694],\n",
       "                        [-0.9107, -0.7029, -1.3674,  0.7502],\n",
       "                        [ 0.9555,  1.0081, -0.8387,  1.3931]])"
      ]
     },
     "execution_count": 3,
     "metadata": {},
     "output_type": "execute_result"
    }
   ],
   "source": [
    "t"
   ]
  },
  {
   "cell_type": "code",
   "execution_count": 4,
   "id": "fd70b0b9",
   "metadata": {
    "execution": {
     "iopub.execute_input": "2023-03-06T19:29:52.939331Z",
     "iopub.status.busy": "2023-03-06T19:29:52.938946Z",
     "iopub.status.idle": "2023-03-06T19:29:52.945543Z",
     "shell.execute_reply": "2023-03-06T19:29:52.944662Z"
    }
   },
   "outputs": [
    {
     "data": {
      "text/plain": [
       "tensor([[-1.5743,  0.3775, -1.1941],\n",
       "        [ 1.3848,  0.9011, -0.8879]])"
      ]
     },
     "execution_count": 4,
     "metadata": {},
     "output_type": "execute_result"
    }
   ],
   "source": [
    "t.a"
   ]
  },
  {
   "cell_type": "code",
   "execution_count": 5,
   "id": "c18197bd",
   "metadata": {
    "execution": {
     "iopub.execute_input": "2023-03-06T19:29:52.948891Z",
     "iopub.status.busy": "2023-03-06T19:29:52.948639Z",
     "iopub.status.idle": "2023-03-06T19:29:59.198102Z",
     "shell.execute_reply": "2023-03-06T19:29:59.196396Z"
    }
   },
   "outputs": [
    {
     "name": "stdout",
     "output_type": "stream",
     "text": [
      "76.4 ns ± 3.56 ns per loop (mean ± std. dev. of 7 runs, 10,000,000 loops each)\n"
     ]
    }
   ],
   "source": [
    "%timeit t.a"
   ]
  },
  {
   "cell_type": "code",
   "execution_count": 6,
   "id": "bd52f867",
   "metadata": {
    "execution": {
     "iopub.execute_input": "2023-03-06T19:29:59.201612Z",
     "iopub.status.busy": "2023-03-06T19:29:59.201335Z",
     "iopub.status.idle": "2023-03-06T19:29:59.209969Z",
     "shell.execute_reply": "2023-03-06T19:29:59.209124Z"
    }
   },
   "outputs": [
    {
     "data": {
      "text/plain": [
       "<FastTreeValue 0x7f5444c03f10>\n",
       "├── 'a' --> tensor([[0.3871, 0.7161, 0.8446],\n",
       "│                   [0.1139, 0.7433, 0.3537]])\n",
       "└── 'x' --> <FastTreeValue 0x7f5444c03df0>\n",
       "    └── 'c' --> tensor([[ 0.0358, -1.6137, -1.4106, -0.9694],\n",
       "                        [-0.9107, -0.7029, -1.3674,  0.7502],\n",
       "                        [ 0.9555,  1.0081, -0.8387,  1.3931]])"
      ]
     },
     "execution_count": 6,
     "metadata": {},
     "output_type": "execute_result"
    }
   ],
   "source": [
    "new_value = torch.randn(2, 3)\n",
    "t.a = new_value\n",
    "\n",
    "t"
   ]
  },
  {
   "cell_type": "code",
   "execution_count": 7,
   "id": "bbe04d1c",
   "metadata": {
    "execution": {
     "iopub.execute_input": "2023-03-06T19:29:59.213142Z",
     "iopub.status.busy": "2023-03-06T19:29:59.212699Z",
     "iopub.status.idle": "2023-03-06T19:30:05.613135Z",
     "shell.execute_reply": "2023-03-06T19:30:05.611759Z"
    }
   },
   "outputs": [
    {
     "name": "stdout",
     "output_type": "stream",
     "text": [
      "79.3 ns ± 2.4 ns per loop (mean ± std. dev. of 7 runs, 10,000,000 loops each)\n"
     ]
    }
   ],
   "source": [
    "%timeit t.a = new_value"
   ]
  },
  {
   "cell_type": "markdown",
   "id": "48c49731",
   "metadata": {},
   "source": [
    "### Tianshou Batch's Get and Set"
   ]
  },
  {
   "cell_type": "code",
   "execution_count": 8,
   "id": "f1bb14c1",
   "metadata": {
    "execution": {
     "iopub.execute_input": "2023-03-06T19:30:05.617228Z",
     "iopub.status.busy": "2023-03-06T19:30:05.616953Z",
     "iopub.status.idle": "2023-03-06T19:30:06.038054Z",
     "shell.execute_reply": "2023-03-06T19:30:06.037004Z"
    }
   },
   "outputs": [],
   "source": [
    "from tianshou.data import Batch\n",
    "\n",
    "b = Batch(**_TREE_DATA_2)"
   ]
  },
  {
   "cell_type": "code",
   "execution_count": 9,
   "id": "cb0777c3",
   "metadata": {
    "execution": {
     "iopub.execute_input": "2023-03-06T19:30:06.042282Z",
     "iopub.status.busy": "2023-03-06T19:30:06.041511Z",
     "iopub.status.idle": "2023-03-06T19:30:06.050066Z",
     "shell.execute_reply": "2023-03-06T19:30:06.049226Z"
    }
   },
   "outputs": [
    {
     "data": {
      "text/plain": [
       "Batch(\n",
       "    a: tensor([[-1.5743,  0.3775, -1.1941],\n",
       "               [ 1.3848,  0.9011, -0.8879]]),\n",
       "    x: Batch(\n",
       "           c: tensor([[ 0.0358, -1.6137, -1.4106, -0.9694],\n",
       "                      [-0.9107, -0.7029, -1.3674,  0.7502],\n",
       "                      [ 0.9555,  1.0081, -0.8387,  1.3931]]),\n",
       "       ),\n",
       ")"
      ]
     },
     "execution_count": 9,
     "metadata": {},
     "output_type": "execute_result"
    }
   ],
   "source": [
    "b"
   ]
  },
  {
   "cell_type": "code",
   "execution_count": 10,
   "id": "43ef8ea3",
   "metadata": {
    "execution": {
     "iopub.execute_input": "2023-03-06T19:30:06.053572Z",
     "iopub.status.busy": "2023-03-06T19:30:06.053239Z",
     "iopub.status.idle": "2023-03-06T19:30:06.061465Z",
     "shell.execute_reply": "2023-03-06T19:30:06.060685Z"
    }
   },
   "outputs": [
    {
     "data": {
      "text/plain": [
       "tensor([[-1.5743,  0.3775, -1.1941],\n",
       "        [ 1.3848,  0.9011, -0.8879]])"
      ]
     },
     "execution_count": 10,
     "metadata": {},
     "output_type": "execute_result"
    }
   ],
   "source": [
    "b.a"
   ]
  },
  {
   "cell_type": "code",
   "execution_count": 11,
   "id": "b785ab72",
   "metadata": {
    "execution": {
     "iopub.execute_input": "2023-03-06T19:30:06.064815Z",
     "iopub.status.busy": "2023-03-06T19:30:06.064398Z",
     "iopub.status.idle": "2023-03-06T19:30:11.278255Z",
     "shell.execute_reply": "2023-03-06T19:30:11.277094Z"
    }
   },
   "outputs": [
    {
     "name": "stdout",
     "output_type": "stream",
     "text": [
      "64 ns ± 1.22 ns per loop (mean ± std. dev. of 7 runs, 10,000,000 loops each)\n"
     ]
    }
   ],
   "source": [
    "%timeit b.a"
   ]
  },
  {
   "cell_type": "code",
   "execution_count": 12,
   "id": "ad54dc69",
   "metadata": {
    "execution": {
     "iopub.execute_input": "2023-03-06T19:30:11.282800Z",
     "iopub.status.busy": "2023-03-06T19:30:11.282481Z",
     "iopub.status.idle": "2023-03-06T19:30:11.289937Z",
     "shell.execute_reply": "2023-03-06T19:30:11.289155Z"
    }
   },
   "outputs": [
    {
     "data": {
      "text/plain": [
       "Batch(\n",
       "    a: tensor([[ 0.1246, -0.9731,  1.2495],\n",
       "               [ 0.3110,  0.7596,  0.2190]]),\n",
       "    x: Batch(\n",
       "           c: tensor([[ 0.0358, -1.6137, -1.4106, -0.9694],\n",
       "                      [-0.9107, -0.7029, -1.3674,  0.7502],\n",
       "                      [ 0.9555,  1.0081, -0.8387,  1.3931]]),\n",
       "       ),\n",
       ")"
      ]
     },
     "execution_count": 12,
     "metadata": {},
     "output_type": "execute_result"
    }
   ],
   "source": [
    "new_value = torch.randn(2, 3)\n",
    "b.a = new_value\n",
    "\n",
    "b"
   ]
  },
  {
   "cell_type": "code",
   "execution_count": 13,
   "id": "29b1d0bf",
   "metadata": {
    "execution": {
     "iopub.execute_input": "2023-03-06T19:30:11.293346Z",
     "iopub.status.busy": "2023-03-06T19:30:11.292951Z",
     "iopub.status.idle": "2023-03-06T19:30:15.904133Z",
     "shell.execute_reply": "2023-03-06T19:30:15.902945Z"
    }
   },
   "outputs": [
    {
     "name": "stdout",
     "output_type": "stream",
     "text": [
      "566 ns ± 9.96 ns per loop (mean ± std. dev. of 7 runs, 1,000,000 loops each)\n"
     ]
    }
   ],
   "source": [
    "%timeit b.a = new_value"
   ]
  },
  {
   "cell_type": "markdown",
   "id": "b61ad1d0",
   "metadata": {},
   "source": [
    "## Initialization"
   ]
  },
  {
   "cell_type": "markdown",
   "id": "d70f0d54",
   "metadata": {},
   "source": [
    "### TreeValue's Initialization"
   ]
  },
  {
   "cell_type": "code",
   "execution_count": 14,
   "id": "d32a679b",
   "metadata": {
    "execution": {
     "iopub.execute_input": "2023-03-06T19:30:15.907649Z",
     "iopub.status.busy": "2023-03-06T19:30:15.907325Z",
     "iopub.status.idle": "2023-03-06T19:30:23.733094Z",
     "shell.execute_reply": "2023-03-06T19:30:23.731727Z"
    }
   },
   "outputs": [
    {
     "name": "stdout",
     "output_type": "stream",
     "text": [
      "966 ns ± 27.1 ns per loop (mean ± std. dev. of 7 runs, 1,000,000 loops each)\n"
     ]
    }
   ],
   "source": [
    "%timeit FastTreeValue(_TREE_DATA_1)"
   ]
  },
  {
   "cell_type": "markdown",
   "id": "24f3707b",
   "metadata": {},
   "source": [
    "### Tianshou Batch's Initialization"
   ]
  },
  {
   "cell_type": "code",
   "execution_count": 15,
   "id": "ac3958df",
   "metadata": {
    "execution": {
     "iopub.execute_input": "2023-03-06T19:30:23.736607Z",
     "iopub.status.busy": "2023-03-06T19:30:23.736207Z",
     "iopub.status.idle": "2023-03-06T19:30:33.584819Z",
     "shell.execute_reply": "2023-03-06T19:30:33.583599Z"
    }
   },
   "outputs": [
    {
     "name": "stdout",
     "output_type": "stream",
     "text": [
      "12.1 µs ± 200 ns per loop (mean ± std. dev. of 7 runs, 100,000 loops each)\n"
     ]
    }
   ],
   "source": [
    "%timeit Batch(**_TREE_DATA_1)"
   ]
  },
  {
   "cell_type": "markdown",
   "id": "1ab82e2d",
   "metadata": {},
   "source": [
    "## Deep Copy Operation"
   ]
  },
  {
   "cell_type": "code",
   "execution_count": 16,
   "id": "210a9442",
   "metadata": {
    "execution": {
     "iopub.execute_input": "2023-03-06T19:30:33.588160Z",
     "iopub.status.busy": "2023-03-06T19:30:33.587880Z",
     "iopub.status.idle": "2023-03-06T19:30:33.593287Z",
     "shell.execute_reply": "2023-03-06T19:30:33.592523Z"
    }
   },
   "outputs": [],
   "source": [
    "import copy"
   ]
  },
  {
   "cell_type": "markdown",
   "id": "5a736274",
   "metadata": {},
   "source": [
    "### Deep Copy of TreeValue"
   ]
  },
  {
   "cell_type": "code",
   "execution_count": 17,
   "id": "f9bcadd6",
   "metadata": {
    "execution": {
     "iopub.execute_input": "2023-03-06T19:30:33.596460Z",
     "iopub.status.busy": "2023-03-06T19:30:33.596238Z",
     "iopub.status.idle": "2023-03-06T19:30:35.647209Z",
     "shell.execute_reply": "2023-03-06T19:30:35.645760Z"
    }
   },
   "outputs": [
    {
     "name": "stdout",
     "output_type": "stream",
     "text": [
      "253 µs ± 8.02 µs per loop (mean ± std. dev. of 7 runs, 1,000 loops each)\n"
     ]
    }
   ],
   "source": [
    "t3 = FastTreeValue(_TREE_DATA_3)\n",
    "%timeit copy.deepcopy(t3)"
   ]
  },
  {
   "cell_type": "markdown",
   "id": "bf8be7ea",
   "metadata": {},
   "source": [
    "### Deep Copy of Tianshou Batch"
   ]
  },
  {
   "cell_type": "code",
   "execution_count": 18,
   "id": "91998e6f",
   "metadata": {
    "execution": {
     "iopub.execute_input": "2023-03-06T19:30:35.651898Z",
     "iopub.status.busy": "2023-03-06T19:30:35.651330Z",
     "iopub.status.idle": "2023-03-06T19:30:37.726536Z",
     "shell.execute_reply": "2023-03-06T19:30:37.725705Z"
    }
   },
   "outputs": [
    {
     "name": "stdout",
     "output_type": "stream",
     "text": [
      "255 µs ± 7.03 µs per loop (mean ± std. dev. of 7 runs, 1,000 loops each)\n"
     ]
    }
   ],
   "source": [
    "b3 = Batch(**_TREE_DATA_3)\n",
    "%timeit copy.deepcopy(b3)"
   ]
  },
  {
   "cell_type": "markdown",
   "id": "223162fb",
   "metadata": {},
   "source": [
    "## Stack, Concat and Split Operation"
   ]
  },
  {
   "cell_type": "markdown",
   "id": "85fa4a73",
   "metadata": {},
   "source": [
    "### Performance of TreeValue"
   ]
  },
  {
   "cell_type": "code",
   "execution_count": 19,
   "id": "a0c2b697",
   "metadata": {
    "execution": {
     "iopub.execute_input": "2023-03-06T19:30:37.730653Z",
     "iopub.status.busy": "2023-03-06T19:30:37.730190Z",
     "iopub.status.idle": "2023-03-06T19:30:37.736060Z",
     "shell.execute_reply": "2023-03-06T19:30:37.735242Z"
    }
   },
   "outputs": [],
   "source": [
    "trees = [FastTreeValue(_TREE_DATA_2) for _ in range(8)]"
   ]
  },
  {
   "cell_type": "code",
   "execution_count": 20,
   "id": "017ea5a5",
   "metadata": {
    "execution": {
     "iopub.execute_input": "2023-03-06T19:30:37.739586Z",
     "iopub.status.busy": "2023-03-06T19:30:37.739080Z",
     "iopub.status.idle": "2023-03-06T19:30:37.748899Z",
     "shell.execute_reply": "2023-03-06T19:30:37.747731Z"
    }
   },
   "outputs": [
    {
     "data": {
      "text/plain": [
       "<FastTreeValue 0x7f539a8a3a60>\n",
       "├── 'a' --> tensor([[[-1.5743,  0.3775, -1.1941],\n",
       "│                    [ 1.3848,  0.9011, -0.8879]],\n",
       "│           \n",
       "│                   [[-1.5743,  0.3775, -1.1941],\n",
       "│                    [ 1.3848,  0.9011, -0.8879]],\n",
       "│           \n",
       "│                   [[-1.5743,  0.3775, -1.1941],\n",
       "│                    [ 1.3848,  0.9011, -0.8879]],\n",
       "│           \n",
       "│                   [[-1.5743,  0.3775, -1.1941],\n",
       "│                    [ 1.3848,  0.9011, -0.8879]],\n",
       "│           \n",
       "│                   [[-1.5743,  0.3775, -1.1941],\n",
       "│                    [ 1.3848,  0.9011, -0.8879]],\n",
       "│           \n",
       "│                   [[-1.5743,  0.3775, -1.1941],\n",
       "│                    [ 1.3848,  0.9011, -0.8879]],\n",
       "│           \n",
       "│                   [[-1.5743,  0.3775, -1.1941],\n",
       "│                    [ 1.3848,  0.9011, -0.8879]],\n",
       "│           \n",
       "│                   [[-1.5743,  0.3775, -1.1941],\n",
       "│                    [ 1.3848,  0.9011, -0.8879]]])\n",
       "└── 'x' --> <FastTreeValue 0x7f539a8d3f40>\n",
       "    └── 'c' --> tensor([[[ 0.0358, -1.6137, -1.4106, -0.9694],\n",
       "                         [-0.9107, -0.7029, -1.3674,  0.7502],\n",
       "                         [ 0.9555,  1.0081, -0.8387,  1.3931]],\n",
       "                \n",
       "                        [[ 0.0358, -1.6137, -1.4106, -0.9694],\n",
       "                         [-0.9107, -0.7029, -1.3674,  0.7502],\n",
       "                         [ 0.9555,  1.0081, -0.8387,  1.3931]],\n",
       "                \n",
       "                        [[ 0.0358, -1.6137, -1.4106, -0.9694],\n",
       "                         [-0.9107, -0.7029, -1.3674,  0.7502],\n",
       "                         [ 0.9555,  1.0081, -0.8387,  1.3931]],\n",
       "                \n",
       "                        [[ 0.0358, -1.6137, -1.4106, -0.9694],\n",
       "                         [-0.9107, -0.7029, -1.3674,  0.7502],\n",
       "                         [ 0.9555,  1.0081, -0.8387,  1.3931]],\n",
       "                \n",
       "                        [[ 0.0358, -1.6137, -1.4106, -0.9694],\n",
       "                         [-0.9107, -0.7029, -1.3674,  0.7502],\n",
       "                         [ 0.9555,  1.0081, -0.8387,  1.3931]],\n",
       "                \n",
       "                        [[ 0.0358, -1.6137, -1.4106, -0.9694],\n",
       "                         [-0.9107, -0.7029, -1.3674,  0.7502],\n",
       "                         [ 0.9555,  1.0081, -0.8387,  1.3931]],\n",
       "                \n",
       "                        [[ 0.0358, -1.6137, -1.4106, -0.9694],\n",
       "                         [-0.9107, -0.7029, -1.3674,  0.7502],\n",
       "                         [ 0.9555,  1.0081, -0.8387,  1.3931]],\n",
       "                \n",
       "                        [[ 0.0358, -1.6137, -1.4106, -0.9694],\n",
       "                         [-0.9107, -0.7029, -1.3674,  0.7502],\n",
       "                         [ 0.9555,  1.0081, -0.8387,  1.3931]]])"
      ]
     },
     "execution_count": 20,
     "metadata": {},
     "output_type": "execute_result"
    }
   ],
   "source": [
    "t_stack = FastTreeValue.func(subside=True)(torch.stack)\n",
    "\n",
    "t_stack(trees)"
   ]
  },
  {
   "cell_type": "code",
   "execution_count": 21,
   "id": "f8b3f415",
   "metadata": {
    "execution": {
     "iopub.execute_input": "2023-03-06T19:30:37.752202Z",
     "iopub.status.busy": "2023-03-06T19:30:37.751929Z",
     "iopub.status.idle": "2023-03-06T19:30:41.082222Z",
     "shell.execute_reply": "2023-03-06T19:30:41.081204Z"
    }
   },
   "outputs": [
    {
     "name": "stdout",
     "output_type": "stream",
     "text": [
      "40.8 µs ± 961 ns per loop (mean ± std. dev. of 7 runs, 10,000 loops each)\n"
     ]
    }
   ],
   "source": [
    "%timeit t_stack(trees)"
   ]
  },
  {
   "cell_type": "code",
   "execution_count": 22,
   "id": "94b56771",
   "metadata": {
    "execution": {
     "iopub.execute_input": "2023-03-06T19:30:41.086129Z",
     "iopub.status.busy": "2023-03-06T19:30:41.085649Z",
     "iopub.status.idle": "2023-03-06T19:30:41.094784Z",
     "shell.execute_reply": "2023-03-06T19:30:41.094051Z"
    }
   },
   "outputs": [
    {
     "data": {
      "text/plain": [
       "<FastTreeValue 0x7f539a8d5dc0>\n",
       "├── 'a' --> tensor([[-1.5743,  0.3775, -1.1941],\n",
       "│                   [ 1.3848,  0.9011, -0.8879],\n",
       "│                   [-1.5743,  0.3775, -1.1941],\n",
       "│                   [ 1.3848,  0.9011, -0.8879],\n",
       "│                   [-1.5743,  0.3775, -1.1941],\n",
       "│                   [ 1.3848,  0.9011, -0.8879],\n",
       "│                   [-1.5743,  0.3775, -1.1941],\n",
       "│                   [ 1.3848,  0.9011, -0.8879],\n",
       "│                   [-1.5743,  0.3775, -1.1941],\n",
       "│                   [ 1.3848,  0.9011, -0.8879],\n",
       "│                   [-1.5743,  0.3775, -1.1941],\n",
       "│                   [ 1.3848,  0.9011, -0.8879],\n",
       "│                   [-1.5743,  0.3775, -1.1941],\n",
       "│                   [ 1.3848,  0.9011, -0.8879],\n",
       "│                   [-1.5743,  0.3775, -1.1941],\n",
       "│                   [ 1.3848,  0.9011, -0.8879]])\n",
       "└── 'x' --> <FastTreeValue 0x7f539a8d5970>\n",
       "    └── 'c' --> tensor([[ 0.0358, -1.6137, -1.4106, -0.9694],\n",
       "                        [-0.9107, -0.7029, -1.3674,  0.7502],\n",
       "                        [ 0.9555,  1.0081, -0.8387,  1.3931],\n",
       "                        [ 0.0358, -1.6137, -1.4106, -0.9694],\n",
       "                        [-0.9107, -0.7029, -1.3674,  0.7502],\n",
       "                        [ 0.9555,  1.0081, -0.8387,  1.3931],\n",
       "                        [ 0.0358, -1.6137, -1.4106, -0.9694],\n",
       "                        [-0.9107, -0.7029, -1.3674,  0.7502],\n",
       "                        [ 0.9555,  1.0081, -0.8387,  1.3931],\n",
       "                        [ 0.0358, -1.6137, -1.4106, -0.9694],\n",
       "                        [-0.9107, -0.7029, -1.3674,  0.7502],\n",
       "                        [ 0.9555,  1.0081, -0.8387,  1.3931],\n",
       "                        [ 0.0358, -1.6137, -1.4106, -0.9694],\n",
       "                        [-0.9107, -0.7029, -1.3674,  0.7502],\n",
       "                        [ 0.9555,  1.0081, -0.8387,  1.3931],\n",
       "                        [ 0.0358, -1.6137, -1.4106, -0.9694],\n",
       "                        [-0.9107, -0.7029, -1.3674,  0.7502],\n",
       "                        [ 0.9555,  1.0081, -0.8387,  1.3931],\n",
       "                        [ 0.0358, -1.6137, -1.4106, -0.9694],\n",
       "                        [-0.9107, -0.7029, -1.3674,  0.7502],\n",
       "                        [ 0.9555,  1.0081, -0.8387,  1.3931],\n",
       "                        [ 0.0358, -1.6137, -1.4106, -0.9694],\n",
       "                        [-0.9107, -0.7029, -1.3674,  0.7502],\n",
       "                        [ 0.9555,  1.0081, -0.8387,  1.3931]])"
      ]
     },
     "execution_count": 22,
     "metadata": {},
     "output_type": "execute_result"
    }
   ],
   "source": [
    "t_cat = FastTreeValue.func(subside=True)(torch.cat)\n",
    "\n",
    "t_cat(trees)"
   ]
  },
  {
   "cell_type": "code",
   "execution_count": 23,
   "id": "5e9c06a6",
   "metadata": {
    "execution": {
     "iopub.execute_input": "2023-03-06T19:30:41.097491Z",
     "iopub.status.busy": "2023-03-06T19:30:41.097222Z",
     "iopub.status.idle": "2023-03-06T19:30:45.375814Z",
     "shell.execute_reply": "2023-03-06T19:30:45.374813Z"
    }
   },
   "outputs": [
    {
     "name": "stdout",
     "output_type": "stream",
     "text": [
      "54.9 µs ± 6.78 µs per loop (mean ± std. dev. of 7 runs, 10,000 loops each)\n"
     ]
    }
   ],
   "source": [
    "%timeit t_cat(trees)"
   ]
  },
  {
   "cell_type": "code",
   "execution_count": 24,
   "id": "a3ab5c8f",
   "metadata": {
    "execution": {
     "iopub.execute_input": "2023-03-06T19:30:45.379783Z",
     "iopub.status.busy": "2023-03-06T19:30:45.379034Z",
     "iopub.status.idle": "2023-03-06T19:30:51.256649Z",
     "shell.execute_reply": "2023-03-06T19:30:51.254733Z"
    }
   },
   "outputs": [
    {
     "name": "stdout",
     "output_type": "stream",
     "text": [
      "72.3 µs ± 1.92 µs per loop (mean ± std. dev. of 7 runs, 10,000 loops each)\n"
     ]
    }
   ],
   "source": [
    "t_split = FastTreeValue.func(rise=True)(torch.split)\n",
    "tree = FastTreeValue({\n",
    "    'obs': torch.randn(8, 4, 84, 84),\n",
    "    'action': torch.randint(0, 6, size=(8, 1,)),\n",
    "    'reward': torch.rand(8, 1),\n",
    "})\n",
    "\n",
    "%timeit t_split(tree, 1)"
   ]
  },
  {
   "cell_type": "markdown",
   "id": "31c3ec0b",
   "metadata": {},
   "source": [
    "### Performance of Tianshou Batch"
   ]
  },
  {
   "cell_type": "code",
   "execution_count": 25,
   "id": "9ead828a",
   "metadata": {
    "execution": {
     "iopub.execute_input": "2023-03-06T19:30:51.260680Z",
     "iopub.status.busy": "2023-03-06T19:30:51.260039Z",
     "iopub.status.idle": "2023-03-06T19:30:51.270670Z",
     "shell.execute_reply": "2023-03-06T19:30:51.269744Z"
    }
   },
   "outputs": [
    {
     "data": {
      "text/plain": [
       "Batch(\n",
       "    a: tensor([[[-1.5743,  0.3775, -1.1941],\n",
       "                [ 1.3848,  0.9011, -0.8879]],\n",
       "       \n",
       "               [[-1.5743,  0.3775, -1.1941],\n",
       "                [ 1.3848,  0.9011, -0.8879]],\n",
       "       \n",
       "               [[-1.5743,  0.3775, -1.1941],\n",
       "                [ 1.3848,  0.9011, -0.8879]],\n",
       "       \n",
       "               [[-1.5743,  0.3775, -1.1941],\n",
       "                [ 1.3848,  0.9011, -0.8879]],\n",
       "       \n",
       "               [[-1.5743,  0.3775, -1.1941],\n",
       "                [ 1.3848,  0.9011, -0.8879]],\n",
       "       \n",
       "               [[-1.5743,  0.3775, -1.1941],\n",
       "                [ 1.3848,  0.9011, -0.8879]],\n",
       "       \n",
       "               [[-1.5743,  0.3775, -1.1941],\n",
       "                [ 1.3848,  0.9011, -0.8879]],\n",
       "       \n",
       "               [[-1.5743,  0.3775, -1.1941],\n",
       "                [ 1.3848,  0.9011, -0.8879]]]),\n",
       "    x: Batch(\n",
       "           c: tensor([[[ 0.0358, -1.6137, -1.4106, -0.9694],\n",
       "                       [-0.9107, -0.7029, -1.3674,  0.7502],\n",
       "                       [ 0.9555,  1.0081, -0.8387,  1.3931]],\n",
       "              \n",
       "                      [[ 0.0358, -1.6137, -1.4106, -0.9694],\n",
       "                       [-0.9107, -0.7029, -1.3674,  0.7502],\n",
       "                       [ 0.9555,  1.0081, -0.8387,  1.3931]],\n",
       "              \n",
       "                      [[ 0.0358, -1.6137, -1.4106, -0.9694],\n",
       "                       [-0.9107, -0.7029, -1.3674,  0.7502],\n",
       "                       [ 0.9555,  1.0081, -0.8387,  1.3931]],\n",
       "              \n",
       "                      [[ 0.0358, -1.6137, -1.4106, -0.9694],\n",
       "                       [-0.9107, -0.7029, -1.3674,  0.7502],\n",
       "                       [ 0.9555,  1.0081, -0.8387,  1.3931]],\n",
       "              \n",
       "                      [[ 0.0358, -1.6137, -1.4106, -0.9694],\n",
       "                       [-0.9107, -0.7029, -1.3674,  0.7502],\n",
       "                       [ 0.9555,  1.0081, -0.8387,  1.3931]],\n",
       "              \n",
       "                      [[ 0.0358, -1.6137, -1.4106, -0.9694],\n",
       "                       [-0.9107, -0.7029, -1.3674,  0.7502],\n",
       "                       [ 0.9555,  1.0081, -0.8387,  1.3931]],\n",
       "              \n",
       "                      [[ 0.0358, -1.6137, -1.4106, -0.9694],\n",
       "                       [-0.9107, -0.7029, -1.3674,  0.7502],\n",
       "                       [ 0.9555,  1.0081, -0.8387,  1.3931]],\n",
       "              \n",
       "                      [[ 0.0358, -1.6137, -1.4106, -0.9694],\n",
       "                       [-0.9107, -0.7029, -1.3674,  0.7502],\n",
       "                       [ 0.9555,  1.0081, -0.8387,  1.3931]]]),\n",
       "       ),\n",
       ")"
      ]
     },
     "execution_count": 25,
     "metadata": {},
     "output_type": "execute_result"
    }
   ],
   "source": [
    "batches = [Batch(**_TREE_DATA_2) for _ in range(8)]\n",
    "\n",
    "Batch.stack(batches)"
   ]
  },
  {
   "cell_type": "code",
   "execution_count": 26,
   "id": "ec9037a3",
   "metadata": {
    "execution": {
     "iopub.execute_input": "2023-03-06T19:30:51.273701Z",
     "iopub.status.busy": "2023-03-06T19:30:51.273444Z",
     "iopub.status.idle": "2023-03-06T19:30:59.010002Z",
     "shell.execute_reply": "2023-03-06T19:30:59.009005Z"
    }
   },
   "outputs": [
    {
     "name": "stdout",
     "output_type": "stream",
     "text": [
      "94.7 µs ± 1.83 µs per loop (mean ± std. dev. of 7 runs, 10,000 loops each)\n"
     ]
    }
   ],
   "source": [
    "%timeit Batch.stack(batches)"
   ]
  },
  {
   "cell_type": "code",
   "execution_count": 27,
   "id": "cb8ab77e",
   "metadata": {
    "execution": {
     "iopub.execute_input": "2023-03-06T19:30:59.014255Z",
     "iopub.status.busy": "2023-03-06T19:30:59.013673Z",
     "iopub.status.idle": "2023-03-06T19:30:59.024158Z",
     "shell.execute_reply": "2023-03-06T19:30:59.022964Z"
    }
   },
   "outputs": [
    {
     "data": {
      "text/plain": [
       "Batch(\n",
       "    a: tensor([[-1.5743,  0.3775, -1.1941],\n",
       "               [ 1.3848,  0.9011, -0.8879],\n",
       "               [-1.5743,  0.3775, -1.1941],\n",
       "               [ 1.3848,  0.9011, -0.8879],\n",
       "               [-1.5743,  0.3775, -1.1941],\n",
       "               [ 1.3848,  0.9011, -0.8879],\n",
       "               [-1.5743,  0.3775, -1.1941],\n",
       "               [ 1.3848,  0.9011, -0.8879],\n",
       "               [-1.5743,  0.3775, -1.1941],\n",
       "               [ 1.3848,  0.9011, -0.8879],\n",
       "               [-1.5743,  0.3775, -1.1941],\n",
       "               [ 1.3848,  0.9011, -0.8879],\n",
       "               [-1.5743,  0.3775, -1.1941],\n",
       "               [ 1.3848,  0.9011, -0.8879],\n",
       "               [-1.5743,  0.3775, -1.1941],\n",
       "               [ 1.3848,  0.9011, -0.8879]]),\n",
       "    x: Batch(\n",
       "           c: tensor([[ 0.0358, -1.6137, -1.4106, -0.9694],\n",
       "                      [-0.9107, -0.7029, -1.3674,  0.7502],\n",
       "                      [ 0.9555,  1.0081, -0.8387,  1.3931],\n",
       "                      [ 0.0358, -1.6137, -1.4106, -0.9694],\n",
       "                      [-0.9107, -0.7029, -1.3674,  0.7502],\n",
       "                      [ 0.9555,  1.0081, -0.8387,  1.3931],\n",
       "                      [ 0.0358, -1.6137, -1.4106, -0.9694],\n",
       "                      [-0.9107, -0.7029, -1.3674,  0.7502],\n",
       "                      [ 0.9555,  1.0081, -0.8387,  1.3931],\n",
       "                      [ 0.0358, -1.6137, -1.4106, -0.9694],\n",
       "                      [-0.9107, -0.7029, -1.3674,  0.7502],\n",
       "                      [ 0.9555,  1.0081, -0.8387,  1.3931],\n",
       "                      [ 0.0358, -1.6137, -1.4106, -0.9694],\n",
       "                      [-0.9107, -0.7029, -1.3674,  0.7502],\n",
       "                      [ 0.9555,  1.0081, -0.8387,  1.3931],\n",
       "                      [ 0.0358, -1.6137, -1.4106, -0.9694],\n",
       "                      [-0.9107, -0.7029, -1.3674,  0.7502],\n",
       "                      [ 0.9555,  1.0081, -0.8387,  1.3931],\n",
       "                      [ 0.0358, -1.6137, -1.4106, -0.9694],\n",
       "                      [-0.9107, -0.7029, -1.3674,  0.7502],\n",
       "                      [ 0.9555,  1.0081, -0.8387,  1.3931],\n",
       "                      [ 0.0358, -1.6137, -1.4106, -0.9694],\n",
       "                      [-0.9107, -0.7029, -1.3674,  0.7502],\n",
       "                      [ 0.9555,  1.0081, -0.8387,  1.3931]]),\n",
       "       ),\n",
       ")"
      ]
     },
     "execution_count": 27,
     "metadata": {},
     "output_type": "execute_result"
    }
   ],
   "source": [
    "Batch.cat(batches)"
   ]
  },
  {
   "cell_type": "code",
   "execution_count": 28,
   "id": "18dfb045",
   "metadata": {
    "execution": {
     "iopub.execute_input": "2023-03-06T19:30:59.028249Z",
     "iopub.status.busy": "2023-03-06T19:30:59.027945Z",
     "iopub.status.idle": "2023-03-06T19:31:12.774018Z",
     "shell.execute_reply": "2023-03-06T19:31:12.773036Z"
    }
   },
   "outputs": [
    {
     "name": "stdout",
     "output_type": "stream",
     "text": [
      "169 µs ± 4.47 µs per loop (mean ± std. dev. of 7 runs, 10,000 loops each)\n"
     ]
    }
   ],
   "source": [
    "%timeit Batch.cat(batches)"
   ]
  },
  {
   "cell_type": "code",
   "execution_count": 29,
   "id": "c6688e51",
   "metadata": {
    "execution": {
     "iopub.execute_input": "2023-03-06T19:31:12.777734Z",
     "iopub.status.busy": "2023-03-06T19:31:12.777226Z",
     "iopub.status.idle": "2023-03-06T19:31:17.022569Z",
     "shell.execute_reply": "2023-03-06T19:31:17.021174Z"
    }
   },
   "outputs": [
    {
     "name": "stdout",
     "output_type": "stream",
     "text": [
      "522 µs ± 4.01 µs per loop (mean ± std. dev. of 7 runs, 1,000 loops each)\n"
     ]
    }
   ],
   "source": [
    "batch = Batch({\n",
    "    'obs': torch.randn(8, 4, 84, 84),\n",
    "    'action': torch.randint(0, 6, size=(8, 1,)),\n",
    "    'reward': torch.rand(8, 1)}\n",
    ")\n",
    "\n",
    "%timeit list(Batch.split(batch, 1, shuffle=False, merge_last=True))"
   ]
  },
  {
   "cell_type": "code",
   "execution_count": null,
   "id": "2539fbd9",
   "metadata": {},
   "outputs": [],
   "source": []
  }
 ],
 "metadata": {
  "kernelspec": {
   "display_name": "Python 3 (ipykernel)",
   "language": "python",
   "name": "python3"
  },
  "language_info": {
   "codemirror_mode": {
    "name": "ipython",
    "version": 3
   },
   "file_extension": ".py",
   "mimetype": "text/x-python",
   "name": "python",
   "nbconvert_exporter": "python",
   "pygments_lexer": "ipython3",
   "version": "3.8.16"
  }
 },
 "nbformat": 4,
 "nbformat_minor": 5
}
