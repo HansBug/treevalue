{
 "cells": [
  {
   "cell_type": "markdown",
   "id": "9d39d946",
   "metadata": {},
   "source": [
    "# Comparison Between TreeValue and Tianshou Batch"
   ]
  },
  {
   "cell_type": "markdown",
   "id": "3c6db2d4",
   "metadata": {},
   "source": [
    "In this section, we will take a look at the feature and performance of the [Tianshou Batch](https://github.com/thu-ml/tianshou) library, which is developed by Tsinghua Machine Learning Group."
   ]
  },
  {
   "cell_type": "markdown",
   "id": "069361b0",
   "metadata": {},
   "source": [
    "Before starting the comparison, let us define some thing."
   ]
  },
  {
   "cell_type": "code",
   "execution_count": 1,
   "id": "06fc8d26",
   "metadata": {
    "execution": {
     "iopub.execute_input": "2023-03-16T08:51:22.281649Z",
     "iopub.status.busy": "2023-03-16T08:51:22.281393Z",
     "iopub.status.idle": "2023-03-16T08:51:23.724132Z",
     "shell.execute_reply": "2023-03-16T08:51:23.723361Z"
    }
   },
   "outputs": [],
   "source": [
    "import torch \n",
    "\n",
    "_TREE_DATA_1 = {'a': 1, 'b': 2, 'x': {'c': 3, 'd': 4}}\n",
    "_TREE_DATA_2 = {\n",
    "    'a': torch.randn(2, 3), \n",
    "    'x': {\n",
    "        'c': torch.randn(3, 4)\n",
    "    },\n",
    "}\n",
    "_TREE_DATA_3 = {\n",
    "    'obs': torch.randn(4, 84, 84),\n",
    "    'action': torch.randint(0, 6, size=(1,)),\n",
    "    'reward': torch.rand(1),\n",
    "}"
   ]
  },
  {
   "cell_type": "markdown",
   "id": "83461b25",
   "metadata": {},
   "source": [
    "## Read and Write Operation"
   ]
  },
  {
   "cell_type": "markdown",
   "id": "067b3f73",
   "metadata": {},
   "source": [
    "Reading and writing are the two most common operations in the tree data structure based on the data model (TreeValue and Tianshou Batch both belong to this type), so this section will compare the reading and writing performance of these two libraries."
   ]
  },
  {
   "cell_type": "markdown",
   "id": "5d09a5b7",
   "metadata": {},
   "source": [
    "### TreeValue's Get and Set"
   ]
  },
  {
   "cell_type": "code",
   "execution_count": 2,
   "id": "9519c4bb",
   "metadata": {
    "execution": {
     "iopub.execute_input": "2023-03-16T08:51:23.727929Z",
     "iopub.status.busy": "2023-03-16T08:51:23.727605Z",
     "iopub.status.idle": "2023-03-16T08:51:23.756984Z",
     "shell.execute_reply": "2023-03-16T08:51:23.756266Z"
    }
   },
   "outputs": [],
   "source": [
    "from treevalue import FastTreeValue\n",
    "\n",
    "t = FastTreeValue(_TREE_DATA_2)"
   ]
  },
  {
   "cell_type": "code",
   "execution_count": 3,
   "id": "11c37677",
   "metadata": {
    "execution": {
     "iopub.execute_input": "2023-03-16T08:51:23.760759Z",
     "iopub.status.busy": "2023-03-16T08:51:23.760349Z",
     "iopub.status.idle": "2023-03-16T08:51:23.771161Z",
     "shell.execute_reply": "2023-03-16T08:51:23.770487Z"
    }
   },
   "outputs": [
    {
     "data": {
      "text/plain": [
       "<FastTreeValue 0x7fd1d8b234f0>\n",
       "├── 'a' --> tensor([[ 0.0497, -0.2613, -1.0780],\n",
       "│                   [ 1.0702, -1.7239, -0.4826]])\n",
       "└── 'x' --> <FastTreeValue 0x7fd1d8b23430>\n",
       "    └── 'c' --> tensor([[ 0.1050,  1.3988, -0.0629,  0.6221],\n",
       "                        [ 0.0488,  0.6910,  0.1519, -0.7510],\n",
       "                        [ 0.0831, -0.0805, -0.6696,  1.2325]])"
      ]
     },
     "execution_count": 3,
     "metadata": {},
     "output_type": "execute_result"
    }
   ],
   "source": [
    "t"
   ]
  },
  {
   "cell_type": "code",
   "execution_count": 4,
   "id": "fd70b0b9",
   "metadata": {
    "execution": {
     "iopub.execute_input": "2023-03-16T08:51:23.774361Z",
     "iopub.status.busy": "2023-03-16T08:51:23.773769Z",
     "iopub.status.idle": "2023-03-16T08:51:23.780393Z",
     "shell.execute_reply": "2023-03-16T08:51:23.779782Z"
    }
   },
   "outputs": [
    {
     "data": {
      "text/plain": [
       "tensor([[ 0.0497, -0.2613, -1.0780],\n",
       "        [ 1.0702, -1.7239, -0.4826]])"
      ]
     },
     "execution_count": 4,
     "metadata": {},
     "output_type": "execute_result"
    }
   ],
   "source": [
    "t.a"
   ]
  },
  {
   "cell_type": "code",
   "execution_count": 5,
   "id": "c18197bd",
   "metadata": {
    "execution": {
     "iopub.execute_input": "2023-03-16T08:51:23.783289Z",
     "iopub.status.busy": "2023-03-16T08:51:23.782934Z",
     "iopub.status.idle": "2023-03-16T08:51:28.930482Z",
     "shell.execute_reply": "2023-03-16T08:51:28.929710Z"
    }
   },
   "outputs": [
    {
     "name": "stdout",
     "output_type": "stream",
     "text": [
      "63.4 ns ± 0.0361 ns per loop (mean ± std. dev. of 7 runs, 10,000,000 loops each)\n"
     ]
    }
   ],
   "source": [
    "%timeit t.a"
   ]
  },
  {
   "cell_type": "code",
   "execution_count": 6,
   "id": "bd52f867",
   "metadata": {
    "execution": {
     "iopub.execute_input": "2023-03-16T08:51:28.933937Z",
     "iopub.status.busy": "2023-03-16T08:51:28.933385Z",
     "iopub.status.idle": "2023-03-16T08:51:28.940812Z",
     "shell.execute_reply": "2023-03-16T08:51:28.940144Z"
    }
   },
   "outputs": [
    {
     "data": {
      "text/plain": [
       "<FastTreeValue 0x7fd1d8b234f0>\n",
       "├── 'a' --> tensor([[-1.3751,  0.1744,  1.4436],\n",
       "│                   [ 2.2543, -2.1718,  0.8170]])\n",
       "└── 'x' --> <FastTreeValue 0x7fd1d8b23430>\n",
       "    └── 'c' --> tensor([[ 0.1050,  1.3988, -0.0629,  0.6221],\n",
       "                        [ 0.0488,  0.6910,  0.1519, -0.7510],\n",
       "                        [ 0.0831, -0.0805, -0.6696,  1.2325]])"
      ]
     },
     "execution_count": 6,
     "metadata": {},
     "output_type": "execute_result"
    }
   ],
   "source": [
    "new_value = torch.randn(2, 3)\n",
    "t.a = new_value\n",
    "\n",
    "t"
   ]
  },
  {
   "cell_type": "code",
   "execution_count": 7,
   "id": "bbe04d1c",
   "metadata": {
    "execution": {
     "iopub.execute_input": "2023-03-16T08:51:28.943778Z",
     "iopub.status.busy": "2023-03-16T08:51:28.943386Z",
     "iopub.status.idle": "2023-03-16T08:51:34.788357Z",
     "shell.execute_reply": "2023-03-16T08:51:34.787493Z"
    }
   },
   "outputs": [
    {
     "name": "stdout",
     "output_type": "stream",
     "text": [
      "72 ns ± 0.0535 ns per loop (mean ± std. dev. of 7 runs, 10,000,000 loops each)\n"
     ]
    }
   ],
   "source": [
    "%timeit t.a = new_value"
   ]
  },
  {
   "cell_type": "markdown",
   "id": "48c49731",
   "metadata": {},
   "source": [
    "### Tianshou Batch's Get and Set"
   ]
  },
  {
   "cell_type": "code",
   "execution_count": 8,
   "id": "f1bb14c1",
   "metadata": {
    "execution": {
     "iopub.execute_input": "2023-03-16T08:51:34.792071Z",
     "iopub.status.busy": "2023-03-16T08:51:34.791393Z",
     "iopub.status.idle": "2023-03-16T08:51:35.439261Z",
     "shell.execute_reply": "2023-03-16T08:51:35.438383Z"
    }
   },
   "outputs": [],
   "source": [
    "from tianshou.data import Batch\n",
    "\n",
    "b = Batch(**_TREE_DATA_2)"
   ]
  },
  {
   "cell_type": "code",
   "execution_count": 9,
   "id": "cb0777c3",
   "metadata": {
    "execution": {
     "iopub.execute_input": "2023-03-16T08:51:35.443370Z",
     "iopub.status.busy": "2023-03-16T08:51:35.442720Z",
     "iopub.status.idle": "2023-03-16T08:51:35.448941Z",
     "shell.execute_reply": "2023-03-16T08:51:35.448241Z"
    }
   },
   "outputs": [
    {
     "data": {
      "text/plain": [
       "Batch(\n",
       "    a: tensor([[ 0.0497, -0.2613, -1.0780],\n",
       "               [ 1.0702, -1.7239, -0.4826]]),\n",
       "    x: Batch(\n",
       "           c: tensor([[ 0.1050,  1.3988, -0.0629,  0.6221],\n",
       "                      [ 0.0488,  0.6910,  0.1519, -0.7510],\n",
       "                      [ 0.0831, -0.0805, -0.6696,  1.2325]]),\n",
       "       ),\n",
       ")"
      ]
     },
     "execution_count": 9,
     "metadata": {},
     "output_type": "execute_result"
    }
   ],
   "source": [
    "b"
   ]
  },
  {
   "cell_type": "code",
   "execution_count": 10,
   "id": "43ef8ea3",
   "metadata": {
    "execution": {
     "iopub.execute_input": "2023-03-16T08:51:35.452274Z",
     "iopub.status.busy": "2023-03-16T08:51:35.451628Z",
     "iopub.status.idle": "2023-03-16T08:51:35.456887Z",
     "shell.execute_reply": "2023-03-16T08:51:35.456213Z"
    }
   },
   "outputs": [
    {
     "data": {
      "text/plain": [
       "tensor([[ 0.0497, -0.2613, -1.0780],\n",
       "        [ 1.0702, -1.7239, -0.4826]])"
      ]
     },
     "execution_count": 10,
     "metadata": {},
     "output_type": "execute_result"
    }
   ],
   "source": [
    "b.a"
   ]
  },
  {
   "cell_type": "code",
   "execution_count": 11,
   "id": "b785ab72",
   "metadata": {
    "execution": {
     "iopub.execute_input": "2023-03-16T08:51:35.460105Z",
     "iopub.status.busy": "2023-03-16T08:51:35.459504Z",
     "iopub.status.idle": "2023-03-16T08:51:40.262397Z",
     "shell.execute_reply": "2023-03-16T08:51:40.261586Z"
    }
   },
   "outputs": [
    {
     "name": "stdout",
     "output_type": "stream",
     "text": [
      "59.2 ns ± 0.0751 ns per loop (mean ± std. dev. of 7 runs, 10,000,000 loops each)\n"
     ]
    }
   ],
   "source": [
    "%timeit b.a"
   ]
  },
  {
   "cell_type": "code",
   "execution_count": 12,
   "id": "ad54dc69",
   "metadata": {
    "execution": {
     "iopub.execute_input": "2023-03-16T08:51:40.266026Z",
     "iopub.status.busy": "2023-03-16T08:51:40.265421Z",
     "iopub.status.idle": "2023-03-16T08:51:40.271627Z",
     "shell.execute_reply": "2023-03-16T08:51:40.270950Z"
    }
   },
   "outputs": [
    {
     "data": {
      "text/plain": [
       "Batch(\n",
       "    a: tensor([[ 1.3270, -1.1534, -0.0359],\n",
       "               [-0.6373,  1.0504, -0.7586]]),\n",
       "    x: Batch(\n",
       "           c: tensor([[ 0.1050,  1.3988, -0.0629,  0.6221],\n",
       "                      [ 0.0488,  0.6910,  0.1519, -0.7510],\n",
       "                      [ 0.0831, -0.0805, -0.6696,  1.2325]]),\n",
       "       ),\n",
       ")"
      ]
     },
     "execution_count": 12,
     "metadata": {},
     "output_type": "execute_result"
    }
   ],
   "source": [
    "new_value = torch.randn(2, 3)\n",
    "b.a = new_value\n",
    "\n",
    "b"
   ]
  },
  {
   "cell_type": "code",
   "execution_count": 13,
   "id": "29b1d0bf",
   "metadata": {
    "execution": {
     "iopub.execute_input": "2023-03-16T08:51:40.274399Z",
     "iopub.status.busy": "2023-03-16T08:51:40.273938Z",
     "iopub.status.idle": "2023-03-16T08:51:44.322228Z",
     "shell.execute_reply": "2023-03-16T08:51:44.321343Z"
    }
   },
   "outputs": [
    {
     "name": "stdout",
     "output_type": "stream",
     "text": [
      "498 ns ± 0.15 ns per loop (mean ± std. dev. of 7 runs, 1,000,000 loops each)\n"
     ]
    }
   ],
   "source": [
    "%timeit b.a = new_value"
   ]
  },
  {
   "cell_type": "markdown",
   "id": "b61ad1d0",
   "metadata": {},
   "source": [
    "## Initialization"
   ]
  },
  {
   "cell_type": "markdown",
   "id": "d70f0d54",
   "metadata": {},
   "source": [
    "### TreeValue's Initialization"
   ]
  },
  {
   "cell_type": "code",
   "execution_count": 14,
   "id": "d32a679b",
   "metadata": {
    "execution": {
     "iopub.execute_input": "2023-03-16T08:51:44.325989Z",
     "iopub.status.busy": "2023-03-16T08:51:44.325584Z",
     "iopub.status.idle": "2023-03-16T08:51:51.237925Z",
     "shell.execute_reply": "2023-03-16T08:51:51.237072Z"
    }
   },
   "outputs": [
    {
     "name": "stdout",
     "output_type": "stream",
     "text": [
      "851 ns ± 0.787 ns per loop (mean ± std. dev. of 7 runs, 1,000,000 loops each)\n"
     ]
    }
   ],
   "source": [
    "%timeit FastTreeValue(_TREE_DATA_1)"
   ]
  },
  {
   "cell_type": "markdown",
   "id": "24f3707b",
   "metadata": {},
   "source": [
    "### Tianshou Batch's Initialization"
   ]
  },
  {
   "cell_type": "code",
   "execution_count": 15,
   "id": "ac3958df",
   "metadata": {
    "execution": {
     "iopub.execute_input": "2023-03-16T08:51:51.241775Z",
     "iopub.status.busy": "2023-03-16T08:51:51.241208Z",
     "iopub.status.idle": "2023-03-16T08:52:00.060286Z",
     "shell.execute_reply": "2023-03-16T08:52:00.059403Z"
    }
   },
   "outputs": [
    {
     "name": "stdout",
     "output_type": "stream",
     "text": [
      "10.9 µs ± 11.3 ns per loop (mean ± std. dev. of 7 runs, 100,000 loops each)\n"
     ]
    }
   ],
   "source": [
    "%timeit Batch(**_TREE_DATA_1)"
   ]
  },
  {
   "cell_type": "markdown",
   "id": "1ab82e2d",
   "metadata": {},
   "source": [
    "## Deep Copy Operation"
   ]
  },
  {
   "cell_type": "code",
   "execution_count": 16,
   "id": "210a9442",
   "metadata": {
    "execution": {
     "iopub.execute_input": "2023-03-16T08:52:00.063847Z",
     "iopub.status.busy": "2023-03-16T08:52:00.063307Z",
     "iopub.status.idle": "2023-03-16T08:52:00.067744Z",
     "shell.execute_reply": "2023-03-16T08:52:00.067086Z"
    }
   },
   "outputs": [],
   "source": [
    "import copy"
   ]
  },
  {
   "cell_type": "markdown",
   "id": "5a736274",
   "metadata": {},
   "source": [
    "### Deep Copy of TreeValue"
   ]
  },
  {
   "cell_type": "code",
   "execution_count": 17,
   "id": "f9bcadd6",
   "metadata": {
    "execution": {
     "iopub.execute_input": "2023-03-16T08:52:00.070907Z",
     "iopub.status.busy": "2023-03-16T08:52:00.070523Z",
     "iopub.status.idle": "2023-03-16T08:52:11.803199Z",
     "shell.execute_reply": "2023-03-16T08:52:11.802545Z"
    }
   },
   "outputs": [
    {
     "name": "stdout",
     "output_type": "stream",
     "text": [
      "144 µs ± 624 ns per loop (mean ± std. dev. of 7 runs, 10,000 loops each)\n"
     ]
    }
   ],
   "source": [
    "t3 = FastTreeValue(_TREE_DATA_3)\n",
    "%timeit copy.deepcopy(t3)"
   ]
  },
  {
   "cell_type": "markdown",
   "id": "bf8be7ea",
   "metadata": {},
   "source": [
    "### Deep Copy of Tianshou Batch"
   ]
  },
  {
   "cell_type": "code",
   "execution_count": 18,
   "id": "91998e6f",
   "metadata": {
    "execution": {
     "iopub.execute_input": "2023-03-16T08:52:11.806613Z",
     "iopub.status.busy": "2023-03-16T08:52:11.806074Z",
     "iopub.status.idle": "2023-03-16T08:52:23.619642Z",
     "shell.execute_reply": "2023-03-16T08:52:23.618874Z"
    }
   },
   "outputs": [
    {
     "name": "stdout",
     "output_type": "stream",
     "text": [
      "146 µs ± 1.59 µs per loop (mean ± std. dev. of 7 runs, 10,000 loops each)\n"
     ]
    }
   ],
   "source": [
    "b3 = Batch(**_TREE_DATA_3)\n",
    "%timeit copy.deepcopy(b3)"
   ]
  },
  {
   "cell_type": "markdown",
   "id": "223162fb",
   "metadata": {},
   "source": [
    "## Stack, Concat and Split Operation"
   ]
  },
  {
   "cell_type": "markdown",
   "id": "85fa4a73",
   "metadata": {},
   "source": [
    "### Performance of TreeValue"
   ]
  },
  {
   "cell_type": "code",
   "execution_count": 19,
   "id": "a0c2b697",
   "metadata": {
    "execution": {
     "iopub.execute_input": "2023-03-16T08:52:23.623162Z",
     "iopub.status.busy": "2023-03-16T08:52:23.622892Z",
     "iopub.status.idle": "2023-03-16T08:52:23.627044Z",
     "shell.execute_reply": "2023-03-16T08:52:23.626408Z"
    }
   },
   "outputs": [],
   "source": [
    "trees = [FastTreeValue(_TREE_DATA_2) for _ in range(8)]"
   ]
  },
  {
   "cell_type": "code",
   "execution_count": 20,
   "id": "017ea5a5",
   "metadata": {
    "execution": {
     "iopub.execute_input": "2023-03-16T08:52:23.630036Z",
     "iopub.status.busy": "2023-03-16T08:52:23.629795Z",
     "iopub.status.idle": "2023-03-16T08:52:23.638958Z",
     "shell.execute_reply": "2023-03-16T08:52:23.638342Z"
    }
   },
   "outputs": [
    {
     "data": {
      "text/plain": [
       "<FastTreeValue 0x7fd1d8b23040>\n",
       "├── 'a' --> tensor([[[ 0.0497, -0.2613, -1.0780],\n",
       "│                    [ 1.0702, -1.7239, -0.4826]],\n",
       "│           \n",
       "│                   [[ 0.0497, -0.2613, -1.0780],\n",
       "│                    [ 1.0702, -1.7239, -0.4826]],\n",
       "│           \n",
       "│                   [[ 0.0497, -0.2613, -1.0780],\n",
       "│                    [ 1.0702, -1.7239, -0.4826]],\n",
       "│           \n",
       "│                   [[ 0.0497, -0.2613, -1.0780],\n",
       "│                    [ 1.0702, -1.7239, -0.4826]],\n",
       "│           \n",
       "│                   [[ 0.0497, -0.2613, -1.0780],\n",
       "│                    [ 1.0702, -1.7239, -0.4826]],\n",
       "│           \n",
       "│                   [[ 0.0497, -0.2613, -1.0780],\n",
       "│                    [ 1.0702, -1.7239, -0.4826]],\n",
       "│           \n",
       "│                   [[ 0.0497, -0.2613, -1.0780],\n",
       "│                    [ 1.0702, -1.7239, -0.4826]],\n",
       "│           \n",
       "│                   [[ 0.0497, -0.2613, -1.0780],\n",
       "│                    [ 1.0702, -1.7239, -0.4826]]])\n",
       "└── 'x' --> <FastTreeValue 0x7fd1d8b237f0>\n",
       "    └── 'c' --> tensor([[[ 0.1050,  1.3988, -0.0629,  0.6221],\n",
       "                         [ 0.0488,  0.6910,  0.1519, -0.7510],\n",
       "                         [ 0.0831, -0.0805, -0.6696,  1.2325]],\n",
       "                \n",
       "                        [[ 0.1050,  1.3988, -0.0629,  0.6221],\n",
       "                         [ 0.0488,  0.6910,  0.1519, -0.7510],\n",
       "                         [ 0.0831, -0.0805, -0.6696,  1.2325]],\n",
       "                \n",
       "                        [[ 0.1050,  1.3988, -0.0629,  0.6221],\n",
       "                         [ 0.0488,  0.6910,  0.1519, -0.7510],\n",
       "                         [ 0.0831, -0.0805, -0.6696,  1.2325]],\n",
       "                \n",
       "                        [[ 0.1050,  1.3988, -0.0629,  0.6221],\n",
       "                         [ 0.0488,  0.6910,  0.1519, -0.7510],\n",
       "                         [ 0.0831, -0.0805, -0.6696,  1.2325]],\n",
       "                \n",
       "                        [[ 0.1050,  1.3988, -0.0629,  0.6221],\n",
       "                         [ 0.0488,  0.6910,  0.1519, -0.7510],\n",
       "                         [ 0.0831, -0.0805, -0.6696,  1.2325]],\n",
       "                \n",
       "                        [[ 0.1050,  1.3988, -0.0629,  0.6221],\n",
       "                         [ 0.0488,  0.6910,  0.1519, -0.7510],\n",
       "                         [ 0.0831, -0.0805, -0.6696,  1.2325]],\n",
       "                \n",
       "                        [[ 0.1050,  1.3988, -0.0629,  0.6221],\n",
       "                         [ 0.0488,  0.6910,  0.1519, -0.7510],\n",
       "                         [ 0.0831, -0.0805, -0.6696,  1.2325]],\n",
       "                \n",
       "                        [[ 0.1050,  1.3988, -0.0629,  0.6221],\n",
       "                         [ 0.0488,  0.6910,  0.1519, -0.7510],\n",
       "                         [ 0.0831, -0.0805, -0.6696,  1.2325]]])"
      ]
     },
     "execution_count": 20,
     "metadata": {},
     "output_type": "execute_result"
    }
   ],
   "source": [
    "t_stack = FastTreeValue.func(subside=True)(torch.stack)\n",
    "\n",
    "t_stack(trees)"
   ]
  },
  {
   "cell_type": "code",
   "execution_count": 21,
   "id": "f8b3f415",
   "metadata": {
    "execution": {
     "iopub.execute_input": "2023-03-16T08:52:23.641758Z",
     "iopub.status.busy": "2023-03-16T08:52:23.641526Z",
     "iopub.status.idle": "2023-03-16T08:52:26.387300Z",
     "shell.execute_reply": "2023-03-16T08:52:26.386442Z"
    }
   },
   "outputs": [
    {
     "name": "stdout",
     "output_type": "stream",
     "text": [
      "33.7 µs ± 59.2 ns per loop (mean ± std. dev. of 7 runs, 10,000 loops each)\n"
     ]
    }
   ],
   "source": [
    "%timeit t_stack(trees)"
   ]
  },
  {
   "cell_type": "code",
   "execution_count": 22,
   "id": "94b56771",
   "metadata": {
    "execution": {
     "iopub.execute_input": "2023-03-16T08:52:26.390764Z",
     "iopub.status.busy": "2023-03-16T08:52:26.390145Z",
     "iopub.status.idle": "2023-03-16T08:52:26.398883Z",
     "shell.execute_reply": "2023-03-16T08:52:26.398249Z"
    }
   },
   "outputs": [
    {
     "data": {
      "text/plain": [
       "<FastTreeValue 0x7fd100c39fd0>\n",
       "├── 'a' --> tensor([[ 0.0497, -0.2613, -1.0780],\n",
       "│                   [ 1.0702, -1.7239, -0.4826],\n",
       "│                   [ 0.0497, -0.2613, -1.0780],\n",
       "│                   [ 1.0702, -1.7239, -0.4826],\n",
       "│                   [ 0.0497, -0.2613, -1.0780],\n",
       "│                   [ 1.0702, -1.7239, -0.4826],\n",
       "│                   [ 0.0497, -0.2613, -1.0780],\n",
       "│                   [ 1.0702, -1.7239, -0.4826],\n",
       "│                   [ 0.0497, -0.2613, -1.0780],\n",
       "│                   [ 1.0702, -1.7239, -0.4826],\n",
       "│                   [ 0.0497, -0.2613, -1.0780],\n",
       "│                   [ 1.0702, -1.7239, -0.4826],\n",
       "│                   [ 0.0497, -0.2613, -1.0780],\n",
       "│                   [ 1.0702, -1.7239, -0.4826],\n",
       "│                   [ 0.0497, -0.2613, -1.0780],\n",
       "│                   [ 1.0702, -1.7239, -0.4826]])\n",
       "└── 'x' --> <FastTreeValue 0x7fd110cffe20>\n",
       "    └── 'c' --> tensor([[ 0.1050,  1.3988, -0.0629,  0.6221],\n",
       "                        [ 0.0488,  0.6910,  0.1519, -0.7510],\n",
       "                        [ 0.0831, -0.0805, -0.6696,  1.2325],\n",
       "                        [ 0.1050,  1.3988, -0.0629,  0.6221],\n",
       "                        [ 0.0488,  0.6910,  0.1519, -0.7510],\n",
       "                        [ 0.0831, -0.0805, -0.6696,  1.2325],\n",
       "                        [ 0.1050,  1.3988, -0.0629,  0.6221],\n",
       "                        [ 0.0488,  0.6910,  0.1519, -0.7510],\n",
       "                        [ 0.0831, -0.0805, -0.6696,  1.2325],\n",
       "                        [ 0.1050,  1.3988, -0.0629,  0.6221],\n",
       "                        [ 0.0488,  0.6910,  0.1519, -0.7510],\n",
       "                        [ 0.0831, -0.0805, -0.6696,  1.2325],\n",
       "                        [ 0.1050,  1.3988, -0.0629,  0.6221],\n",
       "                        [ 0.0488,  0.6910,  0.1519, -0.7510],\n",
       "                        [ 0.0831, -0.0805, -0.6696,  1.2325],\n",
       "                        [ 0.1050,  1.3988, -0.0629,  0.6221],\n",
       "                        [ 0.0488,  0.6910,  0.1519, -0.7510],\n",
       "                        [ 0.0831, -0.0805, -0.6696,  1.2325],\n",
       "                        [ 0.1050,  1.3988, -0.0629,  0.6221],\n",
       "                        [ 0.0488,  0.6910,  0.1519, -0.7510],\n",
       "                        [ 0.0831, -0.0805, -0.6696,  1.2325],\n",
       "                        [ 0.1050,  1.3988, -0.0629,  0.6221],\n",
       "                        [ 0.0488,  0.6910,  0.1519, -0.7510],\n",
       "                        [ 0.0831, -0.0805, -0.6696,  1.2325]])"
      ]
     },
     "execution_count": 22,
     "metadata": {},
     "output_type": "execute_result"
    }
   ],
   "source": [
    "t_cat = FastTreeValue.func(subside=True)(torch.cat)\n",
    "\n",
    "t_cat(trees)"
   ]
  },
  {
   "cell_type": "code",
   "execution_count": 23,
   "id": "5e9c06a6",
   "metadata": {
    "execution": {
     "iopub.execute_input": "2023-03-16T08:52:26.401666Z",
     "iopub.status.busy": "2023-03-16T08:52:26.401322Z",
     "iopub.status.idle": "2023-03-16T08:52:29.000194Z",
     "shell.execute_reply": "2023-03-16T08:52:28.999340Z"
    }
   },
   "outputs": [
    {
     "name": "stdout",
     "output_type": "stream",
     "text": [
      "31.9 µs ± 63.3 ns per loop (mean ± std. dev. of 7 runs, 10,000 loops each)\n"
     ]
    }
   ],
   "source": [
    "%timeit t_cat(trees)"
   ]
  },
  {
   "cell_type": "code",
   "execution_count": 24,
   "id": "a3ab5c8f",
   "metadata": {
    "execution": {
     "iopub.execute_input": "2023-03-16T08:52:29.003455Z",
     "iopub.status.busy": "2023-03-16T08:52:29.002944Z",
     "iopub.status.idle": "2023-03-16T08:52:34.388053Z",
     "shell.execute_reply": "2023-03-16T08:52:34.387191Z"
    }
   },
   "outputs": [
    {
     "name": "stdout",
     "output_type": "stream",
     "text": [
      "66.2 µs ± 69.4 ns per loop (mean ± std. dev. of 7 runs, 10,000 loops each)\n"
     ]
    }
   ],
   "source": [
    "t_split = FastTreeValue.func(rise=True)(torch.split)\n",
    "tree = FastTreeValue({\n",
    "    'obs': torch.randn(8, 4, 84, 84),\n",
    "    'action': torch.randint(0, 6, size=(8, 1,)),\n",
    "    'reward': torch.rand(8, 1),\n",
    "})\n",
    "\n",
    "%timeit t_split(tree, 1)"
   ]
  },
  {
   "cell_type": "markdown",
   "id": "31c3ec0b",
   "metadata": {},
   "source": [
    "### Performance of Tianshou Batch"
   ]
  },
  {
   "cell_type": "code",
   "execution_count": 25,
   "id": "9ead828a",
   "metadata": {
    "execution": {
     "iopub.execute_input": "2023-03-16T08:52:34.391856Z",
     "iopub.status.busy": "2023-03-16T08:52:34.391431Z",
     "iopub.status.idle": "2023-03-16T08:52:34.400188Z",
     "shell.execute_reply": "2023-03-16T08:52:34.399573Z"
    }
   },
   "outputs": [
    {
     "data": {
      "text/plain": [
       "Batch(\n",
       "    a: tensor([[[ 0.0497, -0.2613, -1.0780],\n",
       "                [ 1.0702, -1.7239, -0.4826]],\n",
       "       \n",
       "               [[ 0.0497, -0.2613, -1.0780],\n",
       "                [ 1.0702, -1.7239, -0.4826]],\n",
       "       \n",
       "               [[ 0.0497, -0.2613, -1.0780],\n",
       "                [ 1.0702, -1.7239, -0.4826]],\n",
       "       \n",
       "               [[ 0.0497, -0.2613, -1.0780],\n",
       "                [ 1.0702, -1.7239, -0.4826]],\n",
       "       \n",
       "               [[ 0.0497, -0.2613, -1.0780],\n",
       "                [ 1.0702, -1.7239, -0.4826]],\n",
       "       \n",
       "               [[ 0.0497, -0.2613, -1.0780],\n",
       "                [ 1.0702, -1.7239, -0.4826]],\n",
       "       \n",
       "               [[ 0.0497, -0.2613, -1.0780],\n",
       "                [ 1.0702, -1.7239, -0.4826]],\n",
       "       \n",
       "               [[ 0.0497, -0.2613, -1.0780],\n",
       "                [ 1.0702, -1.7239, -0.4826]]]),\n",
       "    x: Batch(\n",
       "           c: tensor([[[ 0.1050,  1.3988, -0.0629,  0.6221],\n",
       "                       [ 0.0488,  0.6910,  0.1519, -0.7510],\n",
       "                       [ 0.0831, -0.0805, -0.6696,  1.2325]],\n",
       "              \n",
       "                      [[ 0.1050,  1.3988, -0.0629,  0.6221],\n",
       "                       [ 0.0488,  0.6910,  0.1519, -0.7510],\n",
       "                       [ 0.0831, -0.0805, -0.6696,  1.2325]],\n",
       "              \n",
       "                      [[ 0.1050,  1.3988, -0.0629,  0.6221],\n",
       "                       [ 0.0488,  0.6910,  0.1519, -0.7510],\n",
       "                       [ 0.0831, -0.0805, -0.6696,  1.2325]],\n",
       "              \n",
       "                      [[ 0.1050,  1.3988, -0.0629,  0.6221],\n",
       "                       [ 0.0488,  0.6910,  0.1519, -0.7510],\n",
       "                       [ 0.0831, -0.0805, -0.6696,  1.2325]],\n",
       "              \n",
       "                      [[ 0.1050,  1.3988, -0.0629,  0.6221],\n",
       "                       [ 0.0488,  0.6910,  0.1519, -0.7510],\n",
       "                       [ 0.0831, -0.0805, -0.6696,  1.2325]],\n",
       "              \n",
       "                      [[ 0.1050,  1.3988, -0.0629,  0.6221],\n",
       "                       [ 0.0488,  0.6910,  0.1519, -0.7510],\n",
       "                       [ 0.0831, -0.0805, -0.6696,  1.2325]],\n",
       "              \n",
       "                      [[ 0.1050,  1.3988, -0.0629,  0.6221],\n",
       "                       [ 0.0488,  0.6910,  0.1519, -0.7510],\n",
       "                       [ 0.0831, -0.0805, -0.6696,  1.2325]],\n",
       "              \n",
       "                      [[ 0.1050,  1.3988, -0.0629,  0.6221],\n",
       "                       [ 0.0488,  0.6910,  0.1519, -0.7510],\n",
       "                       [ 0.0831, -0.0805, -0.6696,  1.2325]]]),\n",
       "       ),\n",
       ")"
      ]
     },
     "execution_count": 25,
     "metadata": {},
     "output_type": "execute_result"
    }
   ],
   "source": [
    "batches = [Batch(**_TREE_DATA_2) for _ in range(8)]\n",
    "\n",
    "Batch.stack(batches)"
   ]
  },
  {
   "cell_type": "code",
   "execution_count": 26,
   "id": "ec9037a3",
   "metadata": {
    "execution": {
     "iopub.execute_input": "2023-03-16T08:52:34.403203Z",
     "iopub.status.busy": "2023-03-16T08:52:34.402771Z",
     "iopub.status.idle": "2023-03-16T08:52:40.846570Z",
     "shell.execute_reply": "2023-03-16T08:52:40.845688Z"
    }
   },
   "outputs": [
    {
     "name": "stdout",
     "output_type": "stream",
     "text": [
      "79.3 µs ± 145 ns per loop (mean ± std. dev. of 7 runs, 10,000 loops each)\n"
     ]
    }
   ],
   "source": [
    "%timeit Batch.stack(batches)"
   ]
  },
  {
   "cell_type": "code",
   "execution_count": 27,
   "id": "cb8ab77e",
   "metadata": {
    "execution": {
     "iopub.execute_input": "2023-03-16T08:52:40.850040Z",
     "iopub.status.busy": "2023-03-16T08:52:40.849462Z",
     "iopub.status.idle": "2023-03-16T08:52:40.857597Z",
     "shell.execute_reply": "2023-03-16T08:52:40.856968Z"
    }
   },
   "outputs": [
    {
     "data": {
      "text/plain": [
       "Batch(\n",
       "    a: tensor([[ 0.0497, -0.2613, -1.0780],\n",
       "               [ 1.0702, -1.7239, -0.4826],\n",
       "               [ 0.0497, -0.2613, -1.0780],\n",
       "               [ 1.0702, -1.7239, -0.4826],\n",
       "               [ 0.0497, -0.2613, -1.0780],\n",
       "               [ 1.0702, -1.7239, -0.4826],\n",
       "               [ 0.0497, -0.2613, -1.0780],\n",
       "               [ 1.0702, -1.7239, -0.4826],\n",
       "               [ 0.0497, -0.2613, -1.0780],\n",
       "               [ 1.0702, -1.7239, -0.4826],\n",
       "               [ 0.0497, -0.2613, -1.0780],\n",
       "               [ 1.0702, -1.7239, -0.4826],\n",
       "               [ 0.0497, -0.2613, -1.0780],\n",
       "               [ 1.0702, -1.7239, -0.4826],\n",
       "               [ 0.0497, -0.2613, -1.0780],\n",
       "               [ 1.0702, -1.7239, -0.4826]]),\n",
       "    x: Batch(\n",
       "           c: tensor([[ 0.1050,  1.3988, -0.0629,  0.6221],\n",
       "                      [ 0.0488,  0.6910,  0.1519, -0.7510],\n",
       "                      [ 0.0831, -0.0805, -0.6696,  1.2325],\n",
       "                      [ 0.1050,  1.3988, -0.0629,  0.6221],\n",
       "                      [ 0.0488,  0.6910,  0.1519, -0.7510],\n",
       "                      [ 0.0831, -0.0805, -0.6696,  1.2325],\n",
       "                      [ 0.1050,  1.3988, -0.0629,  0.6221],\n",
       "                      [ 0.0488,  0.6910,  0.1519, -0.7510],\n",
       "                      [ 0.0831, -0.0805, -0.6696,  1.2325],\n",
       "                      [ 0.1050,  1.3988, -0.0629,  0.6221],\n",
       "                      [ 0.0488,  0.6910,  0.1519, -0.7510],\n",
       "                      [ 0.0831, -0.0805, -0.6696,  1.2325],\n",
       "                      [ 0.1050,  1.3988, -0.0629,  0.6221],\n",
       "                      [ 0.0488,  0.6910,  0.1519, -0.7510],\n",
       "                      [ 0.0831, -0.0805, -0.6696,  1.2325],\n",
       "                      [ 0.1050,  1.3988, -0.0629,  0.6221],\n",
       "                      [ 0.0488,  0.6910,  0.1519, -0.7510],\n",
       "                      [ 0.0831, -0.0805, -0.6696,  1.2325],\n",
       "                      [ 0.1050,  1.3988, -0.0629,  0.6221],\n",
       "                      [ 0.0488,  0.6910,  0.1519, -0.7510],\n",
       "                      [ 0.0831, -0.0805, -0.6696,  1.2325],\n",
       "                      [ 0.1050,  1.3988, -0.0629,  0.6221],\n",
       "                      [ 0.0488,  0.6910,  0.1519, -0.7510],\n",
       "                      [ 0.0831, -0.0805, -0.6696,  1.2325]]),\n",
       "       ),\n",
       ")"
      ]
     },
     "execution_count": 27,
     "metadata": {},
     "output_type": "execute_result"
    }
   ],
   "source": [
    "Batch.cat(batches)"
   ]
  },
  {
   "cell_type": "code",
   "execution_count": 28,
   "id": "18dfb045",
   "metadata": {
    "execution": {
     "iopub.execute_input": "2023-03-16T08:52:40.861006Z",
     "iopub.status.busy": "2023-03-16T08:52:40.860375Z",
     "iopub.status.idle": "2023-03-16T08:52:52.783074Z",
     "shell.execute_reply": "2023-03-16T08:52:52.782191Z"
    }
   },
   "outputs": [
    {
     "name": "stdout",
     "output_type": "stream",
     "text": [
      "147 µs ± 231 ns per loop (mean ± std. dev. of 7 runs, 10,000 loops each)\n"
     ]
    }
   ],
   "source": [
    "%timeit Batch.cat(batches)"
   ]
  },
  {
   "cell_type": "code",
   "execution_count": 29,
   "id": "c6688e51",
   "metadata": {
    "execution": {
     "iopub.execute_input": "2023-03-16T08:52:52.786995Z",
     "iopub.status.busy": "2023-03-16T08:52:52.786390Z",
     "iopub.status.idle": "2023-03-16T08:52:55.608316Z",
     "shell.execute_reply": "2023-03-16T08:52:55.607562Z"
    }
   },
   "outputs": [
    {
     "name": "stdout",
     "output_type": "stream",
     "text": [
      "346 µs ± 2.11 µs per loop (mean ± std. dev. of 7 runs, 1,000 loops each)\n"
     ]
    }
   ],
   "source": [
    "batch = Batch({\n",
    "    'obs': torch.randn(8, 4, 84, 84),\n",
    "    'action': torch.randint(0, 6, size=(8, 1,)),\n",
    "    'reward': torch.rand(8, 1)}\n",
    ")\n",
    "\n",
    "%timeit list(Batch.split(batch, 1, shuffle=False, merge_last=True))"
   ]
  },
  {
   "cell_type": "code",
   "execution_count": null,
   "id": "2539fbd9",
   "metadata": {},
   "outputs": [],
   "source": []
  }
 ],
 "metadata": {
  "kernelspec": {
   "display_name": "Python 3 (ipykernel)",
   "language": "python",
   "name": "python3"
  },
  "language_info": {
   "codemirror_mode": {
    "name": "ipython",
    "version": 3
   },
   "file_extension": ".py",
   "mimetype": "text/x-python",
   "name": "python",
   "nbconvert_exporter": "python",
   "pygments_lexer": "ipython3",
   "version": "3.8.16"
  }
 },
 "nbformat": 4,
 "nbformat_minor": 5
}
