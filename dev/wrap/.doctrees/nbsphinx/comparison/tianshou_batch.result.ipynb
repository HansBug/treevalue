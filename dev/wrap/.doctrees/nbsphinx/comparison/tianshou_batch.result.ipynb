{
 "cells": [
  {
   "cell_type": "markdown",
   "id": "9d39d946",
   "metadata": {},
   "source": [
    "# Comparison Between TreeValue and Tianshou Batch"
   ]
  },
  {
   "cell_type": "markdown",
   "id": "3c6db2d4",
   "metadata": {},
   "source": [
    "In this section, we will take a look at the feature and performance of the [Tianshou Batch](https://github.com/thu-ml/tianshou) library, which is developed by Tsinghua Machine Learning Group."
   ]
  },
  {
   "cell_type": "markdown",
   "id": "069361b0",
   "metadata": {},
   "source": [
    "Before starting the comparison, let us define some thing."
   ]
  },
  {
   "cell_type": "code",
   "execution_count": 1,
   "id": "06fc8d26",
   "metadata": {
    "execution": {
     "iopub.execute_input": "2023-02-26T15:54:13.277146Z",
     "iopub.status.busy": "2023-02-26T15:54:13.276724Z",
     "iopub.status.idle": "2023-02-26T15:54:14.243552Z",
     "shell.execute_reply": "2023-02-26T15:54:14.242770Z"
    }
   },
   "outputs": [
    {
     "name": "stderr",
     "output_type": "stream",
     "text": [
      "/opt/hostedtoolcache/Python/3.8.16/x64/lib/python3.8/site-packages/tqdm/auto.py:22: TqdmWarning: IProgress not found. Please update jupyter and ipywidgets. See https://ipywidgets.readthedocs.io/en/stable/user_install.html\n",
      "  from .autonotebook import tqdm as notebook_tqdm\n"
     ]
    }
   ],
   "source": [
    "import torch \n",
    "\n",
    "_TREE_DATA_1 = {'a': 1, 'b': 2, 'x': {'c': 3, 'd': 4}}\n",
    "_TREE_DATA_2 = {\n",
    "    'a': torch.randn(2, 3), \n",
    "    'x': {\n",
    "        'c': torch.randn(3, 4)\n",
    "    },\n",
    "}\n",
    "_TREE_DATA_3 = {\n",
    "    'obs': torch.randn(4, 84, 84),\n",
    "    'action': torch.randint(0, 6, size=(1,)),\n",
    "    'reward': torch.rand(1),\n",
    "}"
   ]
  },
  {
   "cell_type": "markdown",
   "id": "83461b25",
   "metadata": {},
   "source": [
    "## Read and Write Operation"
   ]
  },
  {
   "cell_type": "markdown",
   "id": "067b3f73",
   "metadata": {},
   "source": [
    "Reading and writing are the two most common operations in the tree data structure based on the data model (TreeValue and Tianshou Batch both belong to this type), so this section will compare the reading and writing performance of these two libraries."
   ]
  },
  {
   "cell_type": "markdown",
   "id": "5d09a5b7",
   "metadata": {},
   "source": [
    "### TreeValue's Get and Set"
   ]
  },
  {
   "cell_type": "code",
   "execution_count": 2,
   "id": "9519c4bb",
   "metadata": {
    "execution": {
     "iopub.execute_input": "2023-02-26T15:54:14.247759Z",
     "iopub.status.busy": "2023-02-26T15:54:14.247229Z",
     "iopub.status.idle": "2023-02-26T15:54:14.281722Z",
     "shell.execute_reply": "2023-02-26T15:54:14.281008Z"
    }
   },
   "outputs": [],
   "source": [
    "from treevalue import FastTreeValue\n",
    "\n",
    "t = FastTreeValue(_TREE_DATA_2)"
   ]
  },
  {
   "cell_type": "code",
   "execution_count": 3,
   "id": "11c37677",
   "metadata": {
    "execution": {
     "iopub.execute_input": "2023-02-26T15:54:14.285359Z",
     "iopub.status.busy": "2023-02-26T15:54:14.284899Z",
     "iopub.status.idle": "2023-02-26T15:54:14.294400Z",
     "shell.execute_reply": "2023-02-26T15:54:14.293790Z"
    }
   },
   "outputs": [
    {
     "data": {
      "text/plain": [
       "<FastTreeValue 0x7fd108f55220>\n",
       "├── 'a' --> tensor([[-1.5307, -0.5999,  0.1922],\n",
       "│                   [ 1.3266, -0.3408,  0.1445]])\n",
       "└── 'x' --> <FastTreeValue 0x7fd108f55850>\n",
       "    └── 'c' --> tensor([[-0.2967, -0.5528,  0.9899, -1.4097],\n",
       "                        [-0.0141, -0.9378,  0.2930, -0.8671],\n",
       "                        [ 0.4136,  0.3118, -1.8769, -1.0229]])"
      ]
     },
     "execution_count": 3,
     "metadata": {},
     "output_type": "execute_result"
    }
   ],
   "source": [
    "t"
   ]
  },
  {
   "cell_type": "code",
   "execution_count": 4,
   "id": "fd70b0b9",
   "metadata": {
    "execution": {
     "iopub.execute_input": "2023-02-26T15:54:14.297523Z",
     "iopub.status.busy": "2023-02-26T15:54:14.296980Z",
     "iopub.status.idle": "2023-02-26T15:54:14.303010Z",
     "shell.execute_reply": "2023-02-26T15:54:14.302341Z"
    }
   },
   "outputs": [
    {
     "data": {
      "text/plain": [
       "tensor([[-1.5307, -0.5999,  0.1922],\n",
       "        [ 1.3266, -0.3408,  0.1445]])"
      ]
     },
     "execution_count": 4,
     "metadata": {},
     "output_type": "execute_result"
    }
   ],
   "source": [
    "t.a"
   ]
  },
  {
   "cell_type": "code",
   "execution_count": 5,
   "id": "c18197bd",
   "metadata": {
    "execution": {
     "iopub.execute_input": "2023-02-26T15:54:14.306144Z",
     "iopub.status.busy": "2023-02-26T15:54:14.305586Z",
     "iopub.status.idle": "2023-02-26T15:54:19.386415Z",
     "shell.execute_reply": "2023-02-26T15:54:19.385506Z"
    }
   },
   "outputs": [
    {
     "name": "stdout",
     "output_type": "stream",
     "text": [
      "62.6 ns ± 0.102 ns per loop (mean ± std. dev. of 7 runs, 10,000,000 loops each)\n"
     ]
    }
   ],
   "source": [
    "%timeit t.a"
   ]
  },
  {
   "cell_type": "code",
   "execution_count": 6,
   "id": "bd52f867",
   "metadata": {
    "execution": {
     "iopub.execute_input": "2023-02-26T15:54:19.390131Z",
     "iopub.status.busy": "2023-02-26T15:54:19.389630Z",
     "iopub.status.idle": "2023-02-26T15:54:19.395884Z",
     "shell.execute_reply": "2023-02-26T15:54:19.395190Z"
    }
   },
   "outputs": [
    {
     "data": {
      "text/plain": [
       "<FastTreeValue 0x7fd108f55220>\n",
       "├── 'a' --> tensor([[ 3.1249, -1.4667,  0.1918],\n",
       "│                   [ 0.4995, -0.2743,  1.3068]])\n",
       "└── 'x' --> <FastTreeValue 0x7fd108f55850>\n",
       "    └── 'c' --> tensor([[-0.2967, -0.5528,  0.9899, -1.4097],\n",
       "                        [-0.0141, -0.9378,  0.2930, -0.8671],\n",
       "                        [ 0.4136,  0.3118, -1.8769, -1.0229]])"
      ]
     },
     "execution_count": 6,
     "metadata": {},
     "output_type": "execute_result"
    }
   ],
   "source": [
    "new_value = torch.randn(2, 3)\n",
    "t.a = new_value\n",
    "\n",
    "t"
   ]
  },
  {
   "cell_type": "code",
   "execution_count": 7,
   "id": "bbe04d1c",
   "metadata": {
    "execution": {
     "iopub.execute_input": "2023-02-26T15:54:19.398933Z",
     "iopub.status.busy": "2023-02-26T15:54:19.398386Z",
     "iopub.status.idle": "2023-02-26T15:54:25.118055Z",
     "shell.execute_reply": "2023-02-26T15:54:25.116975Z"
    }
   },
   "outputs": [
    {
     "name": "stdout",
     "output_type": "stream",
     "text": [
      "70.4 ns ± 0.0605 ns per loop (mean ± std. dev. of 7 runs, 10,000,000 loops each)\n"
     ]
    }
   ],
   "source": [
    "%timeit t.a = new_value"
   ]
  },
  {
   "cell_type": "markdown",
   "id": "48c49731",
   "metadata": {},
   "source": [
    "### Tianshou Batch's Get and Set"
   ]
  },
  {
   "cell_type": "code",
   "execution_count": 8,
   "id": "f1bb14c1",
   "metadata": {
    "execution": {
     "iopub.execute_input": "2023-02-26T15:54:25.121480Z",
     "iopub.status.busy": "2023-02-26T15:54:25.120911Z",
     "iopub.status.idle": "2023-02-26T15:54:25.475009Z",
     "shell.execute_reply": "2023-02-26T15:54:25.474236Z"
    }
   },
   "outputs": [],
   "source": [
    "from tianshou.data import Batch\n",
    "\n",
    "b = Batch(**_TREE_DATA_2)"
   ]
  },
  {
   "cell_type": "code",
   "execution_count": 9,
   "id": "cb0777c3",
   "metadata": {
    "execution": {
     "iopub.execute_input": "2023-02-26T15:54:25.478819Z",
     "iopub.status.busy": "2023-02-26T15:54:25.478245Z",
     "iopub.status.idle": "2023-02-26T15:54:25.483998Z",
     "shell.execute_reply": "2023-02-26T15:54:25.483312Z"
    }
   },
   "outputs": [
    {
     "data": {
      "text/plain": [
       "Batch(\n",
       "    a: tensor([[-1.5307, -0.5999,  0.1922],\n",
       "               [ 1.3266, -0.3408,  0.1445]]),\n",
       "    x: Batch(\n",
       "           c: tensor([[-0.2967, -0.5528,  0.9899, -1.4097],\n",
       "                      [-0.0141, -0.9378,  0.2930, -0.8671],\n",
       "                      [ 0.4136,  0.3118, -1.8769, -1.0229]]),\n",
       "       ),\n",
       ")"
      ]
     },
     "execution_count": 9,
     "metadata": {},
     "output_type": "execute_result"
    }
   ],
   "source": [
    "b"
   ]
  },
  {
   "cell_type": "code",
   "execution_count": 10,
   "id": "43ef8ea3",
   "metadata": {
    "execution": {
     "iopub.execute_input": "2023-02-26T15:54:25.487024Z",
     "iopub.status.busy": "2023-02-26T15:54:25.486402Z",
     "iopub.status.idle": "2023-02-26T15:54:25.492015Z",
     "shell.execute_reply": "2023-02-26T15:54:25.491357Z"
    }
   },
   "outputs": [
    {
     "data": {
      "text/plain": [
       "tensor([[-1.5307, -0.5999,  0.1922],\n",
       "        [ 1.3266, -0.3408,  0.1445]])"
      ]
     },
     "execution_count": 10,
     "metadata": {},
     "output_type": "execute_result"
    }
   ],
   "source": [
    "b.a"
   ]
  },
  {
   "cell_type": "code",
   "execution_count": 11,
   "id": "b785ab72",
   "metadata": {
    "execution": {
     "iopub.execute_input": "2023-02-26T15:54:25.495059Z",
     "iopub.status.busy": "2023-02-26T15:54:25.494536Z",
     "iopub.status.idle": "2023-02-26T15:54:30.258427Z",
     "shell.execute_reply": "2023-02-26T15:54:30.257510Z"
    }
   },
   "outputs": [
    {
     "name": "stdout",
     "output_type": "stream",
     "text": [
      "58.7 ns ± 0.0583 ns per loop (mean ± std. dev. of 7 runs, 10,000,000 loops each)\n"
     ]
    }
   ],
   "source": [
    "%timeit b.a"
   ]
  },
  {
   "cell_type": "code",
   "execution_count": 12,
   "id": "ad54dc69",
   "metadata": {
    "execution": {
     "iopub.execute_input": "2023-02-26T15:54:30.262146Z",
     "iopub.status.busy": "2023-02-26T15:54:30.261651Z",
     "iopub.status.idle": "2023-02-26T15:54:30.267756Z",
     "shell.execute_reply": "2023-02-26T15:54:30.267065Z"
    }
   },
   "outputs": [
    {
     "data": {
      "text/plain": [
       "Batch(\n",
       "    a: tensor([[ 1.1054,  1.2166, -0.9555],\n",
       "               [ 0.5881,  0.6057, -0.6482]]),\n",
       "    x: Batch(\n",
       "           c: tensor([[-0.2967, -0.5528,  0.9899, -1.4097],\n",
       "                      [-0.0141, -0.9378,  0.2930, -0.8671],\n",
       "                      [ 0.4136,  0.3118, -1.8769, -1.0229]]),\n",
       "       ),\n",
       ")"
      ]
     },
     "execution_count": 12,
     "metadata": {},
     "output_type": "execute_result"
    }
   ],
   "source": [
    "new_value = torch.randn(2, 3)\n",
    "b.a = new_value\n",
    "\n",
    "b"
   ]
  },
  {
   "cell_type": "code",
   "execution_count": 13,
   "id": "29b1d0bf",
   "metadata": {
    "execution": {
     "iopub.execute_input": "2023-02-26T15:54:30.270473Z",
     "iopub.status.busy": "2023-02-26T15:54:30.270093Z",
     "iopub.status.idle": "2023-02-26T15:54:34.301299Z",
     "shell.execute_reply": "2023-02-26T15:54:34.300406Z"
    }
   },
   "outputs": [
    {
     "name": "stdout",
     "output_type": "stream",
     "text": [
      "496 ns ± 1.57 ns per loop (mean ± std. dev. of 7 runs, 1,000,000 loops each)\n"
     ]
    }
   ],
   "source": [
    "%timeit b.a = new_value"
   ]
  },
  {
   "cell_type": "markdown",
   "id": "b61ad1d0",
   "metadata": {},
   "source": [
    "## Initialization"
   ]
  },
  {
   "cell_type": "markdown",
   "id": "d70f0d54",
   "metadata": {},
   "source": [
    "### TreeValue's Initialization"
   ]
  },
  {
   "cell_type": "code",
   "execution_count": 14,
   "id": "d32a679b",
   "metadata": {
    "execution": {
     "iopub.execute_input": "2023-02-26T15:54:34.305124Z",
     "iopub.status.busy": "2023-02-26T15:54:34.304560Z",
     "iopub.status.idle": "2023-02-26T15:54:41.454891Z",
     "shell.execute_reply": "2023-02-26T15:54:41.454020Z"
    }
   },
   "outputs": [
    {
     "name": "stdout",
     "output_type": "stream",
     "text": [
      "879 ns ± 0.258 ns per loop (mean ± std. dev. of 7 runs, 1,000,000 loops each)\n"
     ]
    }
   ],
   "source": [
    "%timeit FastTreeValue(_TREE_DATA_1)"
   ]
  },
  {
   "cell_type": "markdown",
   "id": "24f3707b",
   "metadata": {},
   "source": [
    "### Tianshou Batch's Initialization"
   ]
  },
  {
   "cell_type": "code",
   "execution_count": 15,
   "id": "ac3958df",
   "metadata": {
    "execution": {
     "iopub.execute_input": "2023-02-26T15:54:41.458592Z",
     "iopub.status.busy": "2023-02-26T15:54:41.458197Z",
     "iopub.status.idle": "2023-02-26T15:54:50.217705Z",
     "shell.execute_reply": "2023-02-26T15:54:50.216727Z"
    }
   },
   "outputs": [
    {
     "name": "stdout",
     "output_type": "stream",
     "text": [
      "10.8 µs ± 25.9 ns per loop (mean ± std. dev. of 7 runs, 100,000 loops each)\n"
     ]
    }
   ],
   "source": [
    "%timeit Batch(**_TREE_DATA_1)"
   ]
  },
  {
   "cell_type": "markdown",
   "id": "1ab82e2d",
   "metadata": {},
   "source": [
    "## Deep Copy Operation"
   ]
  },
  {
   "cell_type": "code",
   "execution_count": 16,
   "id": "210a9442",
   "metadata": {
    "execution": {
     "iopub.execute_input": "2023-02-26T15:54:50.221016Z",
     "iopub.status.busy": "2023-02-26T15:54:50.220607Z",
     "iopub.status.idle": "2023-02-26T15:54:50.225059Z",
     "shell.execute_reply": "2023-02-26T15:54:50.224427Z"
    }
   },
   "outputs": [],
   "source": [
    "import copy"
   ]
  },
  {
   "cell_type": "markdown",
   "id": "5a736274",
   "metadata": {},
   "source": [
    "### Deep Copy of TreeValue"
   ]
  },
  {
   "cell_type": "code",
   "execution_count": 17,
   "id": "f9bcadd6",
   "metadata": {
    "execution": {
     "iopub.execute_input": "2023-02-26T15:54:50.227750Z",
     "iopub.status.busy": "2023-02-26T15:54:50.227381Z",
     "iopub.status.idle": "2023-02-26T15:55:01.884200Z",
     "shell.execute_reply": "2023-02-26T15:55:01.883463Z"
    }
   },
   "outputs": [
    {
     "name": "stdout",
     "output_type": "stream",
     "text": [
      "144 µs ± 1.42 µs per loop (mean ± std. dev. of 7 runs, 10,000 loops each)\n"
     ]
    }
   ],
   "source": [
    "t3 = FastTreeValue(_TREE_DATA_3)\n",
    "%timeit copy.deepcopy(t3)"
   ]
  },
  {
   "cell_type": "markdown",
   "id": "bf8be7ea",
   "metadata": {},
   "source": [
    "### Deep Copy of Tianshou Batch"
   ]
  },
  {
   "cell_type": "code",
   "execution_count": 18,
   "id": "91998e6f",
   "metadata": {
    "execution": {
     "iopub.execute_input": "2023-02-26T15:55:01.887469Z",
     "iopub.status.busy": "2023-02-26T15:55:01.886969Z",
     "iopub.status.idle": "2023-02-26T15:55:13.551690Z",
     "shell.execute_reply": "2023-02-26T15:55:13.551058Z"
    }
   },
   "outputs": [
    {
     "name": "stdout",
     "output_type": "stream",
     "text": [
      "144 µs ± 372 ns per loop (mean ± std. dev. of 7 runs, 10,000 loops each)\n"
     ]
    }
   ],
   "source": [
    "b3 = Batch(**_TREE_DATA_3)\n",
    "%timeit copy.deepcopy(b3)"
   ]
  },
  {
   "cell_type": "markdown",
   "id": "223162fb",
   "metadata": {},
   "source": [
    "## Stack, Concat and Split Operation"
   ]
  },
  {
   "cell_type": "markdown",
   "id": "85fa4a73",
   "metadata": {},
   "source": [
    "### Performance of TreeValue"
   ]
  },
  {
   "cell_type": "code",
   "execution_count": 19,
   "id": "a0c2b697",
   "metadata": {
    "execution": {
     "iopub.execute_input": "2023-02-26T15:55:13.554773Z",
     "iopub.status.busy": "2023-02-26T15:55:13.554275Z",
     "iopub.status.idle": "2023-02-26T15:55:13.557820Z",
     "shell.execute_reply": "2023-02-26T15:55:13.557238Z"
    }
   },
   "outputs": [],
   "source": [
    "trees = [FastTreeValue(_TREE_DATA_2) for _ in range(8)]"
   ]
  },
  {
   "cell_type": "code",
   "execution_count": 20,
   "id": "017ea5a5",
   "metadata": {
    "execution": {
     "iopub.execute_input": "2023-02-26T15:55:13.560489Z",
     "iopub.status.busy": "2023-02-26T15:55:13.559837Z",
     "iopub.status.idle": "2023-02-26T15:55:13.567089Z",
     "shell.execute_reply": "2023-02-26T15:55:13.566538Z"
    }
   },
   "outputs": [
    {
     "data": {
      "text/plain": [
       "<FastTreeValue 0x7fd05bc07a90>\n",
       "├── 'a' --> tensor([[[-1.5307, -0.5999,  0.1922],\n",
       "│                    [ 1.3266, -0.3408,  0.1445]],\n",
       "│           \n",
       "│                   [[-1.5307, -0.5999,  0.1922],\n",
       "│                    [ 1.3266, -0.3408,  0.1445]],\n",
       "│           \n",
       "│                   [[-1.5307, -0.5999,  0.1922],\n",
       "│                    [ 1.3266, -0.3408,  0.1445]],\n",
       "│           \n",
       "│                   [[-1.5307, -0.5999,  0.1922],\n",
       "│                    [ 1.3266, -0.3408,  0.1445]],\n",
       "│           \n",
       "│                   [[-1.5307, -0.5999,  0.1922],\n",
       "│                    [ 1.3266, -0.3408,  0.1445]],\n",
       "│           \n",
       "│                   [[-1.5307, -0.5999,  0.1922],\n",
       "│                    [ 1.3266, -0.3408,  0.1445]],\n",
       "│           \n",
       "│                   [[-1.5307, -0.5999,  0.1922],\n",
       "│                    [ 1.3266, -0.3408,  0.1445]],\n",
       "│           \n",
       "│                   [[-1.5307, -0.5999,  0.1922],\n",
       "│                    [ 1.3266, -0.3408,  0.1445]]])\n",
       "└── 'x' --> <FastTreeValue 0x7fd0d7f5d3d0>\n",
       "    └── 'c' --> tensor([[[-0.2967, -0.5528,  0.9899, -1.4097],\n",
       "                         [-0.0141, -0.9378,  0.2930, -0.8671],\n",
       "                         [ 0.4136,  0.3118, -1.8769, -1.0229]],\n",
       "                \n",
       "                        [[-0.2967, -0.5528,  0.9899, -1.4097],\n",
       "                         [-0.0141, -0.9378,  0.2930, -0.8671],\n",
       "                         [ 0.4136,  0.3118, -1.8769, -1.0229]],\n",
       "                \n",
       "                        [[-0.2967, -0.5528,  0.9899, -1.4097],\n",
       "                         [-0.0141, -0.9378,  0.2930, -0.8671],\n",
       "                         [ 0.4136,  0.3118, -1.8769, -1.0229]],\n",
       "                \n",
       "                        [[-0.2967, -0.5528,  0.9899, -1.4097],\n",
       "                         [-0.0141, -0.9378,  0.2930, -0.8671],\n",
       "                         [ 0.4136,  0.3118, -1.8769, -1.0229]],\n",
       "                \n",
       "                        [[-0.2967, -0.5528,  0.9899, -1.4097],\n",
       "                         [-0.0141, -0.9378,  0.2930, -0.8671],\n",
       "                         [ 0.4136,  0.3118, -1.8769, -1.0229]],\n",
       "                \n",
       "                        [[-0.2967, -0.5528,  0.9899, -1.4097],\n",
       "                         [-0.0141, -0.9378,  0.2930, -0.8671],\n",
       "                         [ 0.4136,  0.3118, -1.8769, -1.0229]],\n",
       "                \n",
       "                        [[-0.2967, -0.5528,  0.9899, -1.4097],\n",
       "                         [-0.0141, -0.9378,  0.2930, -0.8671],\n",
       "                         [ 0.4136,  0.3118, -1.8769, -1.0229]],\n",
       "                \n",
       "                        [[-0.2967, -0.5528,  0.9899, -1.4097],\n",
       "                         [-0.0141, -0.9378,  0.2930, -0.8671],\n",
       "                         [ 0.4136,  0.3118, -1.8769, -1.0229]]])"
      ]
     },
     "execution_count": 20,
     "metadata": {},
     "output_type": "execute_result"
    }
   ],
   "source": [
    "t_stack = FastTreeValue.func(subside=True)(torch.stack)\n",
    "\n",
    "t_stack(trees)"
   ]
  },
  {
   "cell_type": "code",
   "execution_count": 21,
   "id": "f8b3f415",
   "metadata": {
    "execution": {
     "iopub.execute_input": "2023-02-26T15:55:13.569721Z",
     "iopub.status.busy": "2023-02-26T15:55:13.569060Z",
     "iopub.status.idle": "2023-02-26T15:55:16.139322Z",
     "shell.execute_reply": "2023-02-26T15:55:16.138244Z"
    }
   },
   "outputs": [
    {
     "name": "stdout",
     "output_type": "stream",
     "text": [
      "31.6 µs ± 59.1 ns per loop (mean ± std. dev. of 7 runs, 10,000 loops each)\n"
     ]
    }
   ],
   "source": [
    "%timeit t_stack(trees)"
   ]
  },
  {
   "cell_type": "code",
   "execution_count": 22,
   "id": "94b56771",
   "metadata": {
    "execution": {
     "iopub.execute_input": "2023-02-26T15:55:16.142282Z",
     "iopub.status.busy": "2023-02-26T15:55:16.141877Z",
     "iopub.status.idle": "2023-02-26T15:55:16.149723Z",
     "shell.execute_reply": "2023-02-26T15:55:16.149012Z"
    }
   },
   "outputs": [
    {
     "data": {
      "text/plain": [
       "<FastTreeValue 0x7fd05bc07df0>\n",
       "├── 'a' --> tensor([[-1.5307, -0.5999,  0.1922],\n",
       "│                   [ 1.3266, -0.3408,  0.1445],\n",
       "│                   [-1.5307, -0.5999,  0.1922],\n",
       "│                   [ 1.3266, -0.3408,  0.1445],\n",
       "│                   [-1.5307, -0.5999,  0.1922],\n",
       "│                   [ 1.3266, -0.3408,  0.1445],\n",
       "│                   [-1.5307, -0.5999,  0.1922],\n",
       "│                   [ 1.3266, -0.3408,  0.1445],\n",
       "│                   [-1.5307, -0.5999,  0.1922],\n",
       "│                   [ 1.3266, -0.3408,  0.1445],\n",
       "│                   [-1.5307, -0.5999,  0.1922],\n",
       "│                   [ 1.3266, -0.3408,  0.1445],\n",
       "│                   [-1.5307, -0.5999,  0.1922],\n",
       "│                   [ 1.3266, -0.3408,  0.1445],\n",
       "│                   [-1.5307, -0.5999,  0.1922],\n",
       "│                   [ 1.3266, -0.3408,  0.1445]])\n",
       "└── 'x' --> <FastTreeValue 0x7fd05bc07550>\n",
       "    └── 'c' --> tensor([[-0.2967, -0.5528,  0.9899, -1.4097],\n",
       "                        [-0.0141, -0.9378,  0.2930, -0.8671],\n",
       "                        [ 0.4136,  0.3118, -1.8769, -1.0229],\n",
       "                        [-0.2967, -0.5528,  0.9899, -1.4097],\n",
       "                        [-0.0141, -0.9378,  0.2930, -0.8671],\n",
       "                        [ 0.4136,  0.3118, -1.8769, -1.0229],\n",
       "                        [-0.2967, -0.5528,  0.9899, -1.4097],\n",
       "                        [-0.0141, -0.9378,  0.2930, -0.8671],\n",
       "                        [ 0.4136,  0.3118, -1.8769, -1.0229],\n",
       "                        [-0.2967, -0.5528,  0.9899, -1.4097],\n",
       "                        [-0.0141, -0.9378,  0.2930, -0.8671],\n",
       "                        [ 0.4136,  0.3118, -1.8769, -1.0229],\n",
       "                        [-0.2967, -0.5528,  0.9899, -1.4097],\n",
       "                        [-0.0141, -0.9378,  0.2930, -0.8671],\n",
       "                        [ 0.4136,  0.3118, -1.8769, -1.0229],\n",
       "                        [-0.2967, -0.5528,  0.9899, -1.4097],\n",
       "                        [-0.0141, -0.9378,  0.2930, -0.8671],\n",
       "                        [ 0.4136,  0.3118, -1.8769, -1.0229],\n",
       "                        [-0.2967, -0.5528,  0.9899, -1.4097],\n",
       "                        [-0.0141, -0.9378,  0.2930, -0.8671],\n",
       "                        [ 0.4136,  0.3118, -1.8769, -1.0229],\n",
       "                        [-0.2967, -0.5528,  0.9899, -1.4097],\n",
       "                        [-0.0141, -0.9378,  0.2930, -0.8671],\n",
       "                        [ 0.4136,  0.3118, -1.8769, -1.0229]])"
      ]
     },
     "execution_count": 22,
     "metadata": {},
     "output_type": "execute_result"
    }
   ],
   "source": [
    "t_cat = FastTreeValue.func(subside=True)(torch.cat)\n",
    "\n",
    "t_cat(trees)"
   ]
  },
  {
   "cell_type": "code",
   "execution_count": 23,
   "id": "5e9c06a6",
   "metadata": {
    "execution": {
     "iopub.execute_input": "2023-02-26T15:55:16.152424Z",
     "iopub.status.busy": "2023-02-26T15:55:16.152052Z",
     "iopub.status.idle": "2023-02-26T15:55:18.565335Z",
     "shell.execute_reply": "2023-02-26T15:55:18.564452Z"
    }
   },
   "outputs": [
    {
     "name": "stdout",
     "output_type": "stream",
     "text": [
      "29.7 µs ± 56.5 ns per loop (mean ± std. dev. of 7 runs, 10,000 loops each)\n"
     ]
    }
   ],
   "source": [
    "%timeit t_cat(trees)"
   ]
  },
  {
   "cell_type": "code",
   "execution_count": 24,
   "id": "a3ab5c8f",
   "metadata": {
    "execution": {
     "iopub.execute_input": "2023-02-26T15:55:18.569076Z",
     "iopub.status.busy": "2023-02-26T15:55:18.568667Z",
     "iopub.status.idle": "2023-02-26T15:55:23.236600Z",
     "shell.execute_reply": "2023-02-26T15:55:23.235694Z"
    }
   },
   "outputs": [
    {
     "name": "stdout",
     "output_type": "stream",
     "text": [
      "57.4 µs ± 68.1 ns per loop (mean ± std. dev. of 7 runs, 10,000 loops each)\n"
     ]
    }
   ],
   "source": [
    "t_split = FastTreeValue.func(rise=True)(torch.split)\n",
    "tree = FastTreeValue({\n",
    "    'obs': torch.randn(8, 4, 84, 84),\n",
    "    'action': torch.randint(0, 6, size=(8, 1,)),\n",
    "    'reward': torch.rand(8, 1),\n",
    "})\n",
    "\n",
    "%timeit t_split(tree, 1)"
   ]
  },
  {
   "cell_type": "markdown",
   "id": "31c3ec0b",
   "metadata": {},
   "source": [
    "### Performance of Tianshou Batch"
   ]
  },
  {
   "cell_type": "code",
   "execution_count": 25,
   "id": "9ead828a",
   "metadata": {
    "execution": {
     "iopub.execute_input": "2023-02-26T15:55:23.240614Z",
     "iopub.status.busy": "2023-02-26T15:55:23.240029Z",
     "iopub.status.idle": "2023-02-26T15:55:23.248477Z",
     "shell.execute_reply": "2023-02-26T15:55:23.247865Z"
    }
   },
   "outputs": [
    {
     "data": {
      "text/plain": [
       "Batch(\n",
       "    x: Batch(\n",
       "           c: tensor([[[-0.2967, -0.5528,  0.9899, -1.4097],\n",
       "                       [-0.0141, -0.9378,  0.2930, -0.8671],\n",
       "                       [ 0.4136,  0.3118, -1.8769, -1.0229]],\n",
       "              \n",
       "                      [[-0.2967, -0.5528,  0.9899, -1.4097],\n",
       "                       [-0.0141, -0.9378,  0.2930, -0.8671],\n",
       "                       [ 0.4136,  0.3118, -1.8769, -1.0229]],\n",
       "              \n",
       "                      [[-0.2967, -0.5528,  0.9899, -1.4097],\n",
       "                       [-0.0141, -0.9378,  0.2930, -0.8671],\n",
       "                       [ 0.4136,  0.3118, -1.8769, -1.0229]],\n",
       "              \n",
       "                      [[-0.2967, -0.5528,  0.9899, -1.4097],\n",
       "                       [-0.0141, -0.9378,  0.2930, -0.8671],\n",
       "                       [ 0.4136,  0.3118, -1.8769, -1.0229]],\n",
       "              \n",
       "                      [[-0.2967, -0.5528,  0.9899, -1.4097],\n",
       "                       [-0.0141, -0.9378,  0.2930, -0.8671],\n",
       "                       [ 0.4136,  0.3118, -1.8769, -1.0229]],\n",
       "              \n",
       "                      [[-0.2967, -0.5528,  0.9899, -1.4097],\n",
       "                       [-0.0141, -0.9378,  0.2930, -0.8671],\n",
       "                       [ 0.4136,  0.3118, -1.8769, -1.0229]],\n",
       "              \n",
       "                      [[-0.2967, -0.5528,  0.9899, -1.4097],\n",
       "                       [-0.0141, -0.9378,  0.2930, -0.8671],\n",
       "                       [ 0.4136,  0.3118, -1.8769, -1.0229]],\n",
       "              \n",
       "                      [[-0.2967, -0.5528,  0.9899, -1.4097],\n",
       "                       [-0.0141, -0.9378,  0.2930, -0.8671],\n",
       "                       [ 0.4136,  0.3118, -1.8769, -1.0229]]]),\n",
       "       ),\n",
       "    a: tensor([[[-1.5307, -0.5999,  0.1922],\n",
       "                [ 1.3266, -0.3408,  0.1445]],\n",
       "       \n",
       "               [[-1.5307, -0.5999,  0.1922],\n",
       "                [ 1.3266, -0.3408,  0.1445]],\n",
       "       \n",
       "               [[-1.5307, -0.5999,  0.1922],\n",
       "                [ 1.3266, -0.3408,  0.1445]],\n",
       "       \n",
       "               [[-1.5307, -0.5999,  0.1922],\n",
       "                [ 1.3266, -0.3408,  0.1445]],\n",
       "       \n",
       "               [[-1.5307, -0.5999,  0.1922],\n",
       "                [ 1.3266, -0.3408,  0.1445]],\n",
       "       \n",
       "               [[-1.5307, -0.5999,  0.1922],\n",
       "                [ 1.3266, -0.3408,  0.1445]],\n",
       "       \n",
       "               [[-1.5307, -0.5999,  0.1922],\n",
       "                [ 1.3266, -0.3408,  0.1445]],\n",
       "       \n",
       "               [[-1.5307, -0.5999,  0.1922],\n",
       "                [ 1.3266, -0.3408,  0.1445]]]),\n",
       ")"
      ]
     },
     "execution_count": 25,
     "metadata": {},
     "output_type": "execute_result"
    }
   ],
   "source": [
    "batches = [Batch(**_TREE_DATA_2) for _ in range(8)]\n",
    "\n",
    "Batch.stack(batches)"
   ]
  },
  {
   "cell_type": "code",
   "execution_count": 26,
   "id": "ec9037a3",
   "metadata": {
    "execution": {
     "iopub.execute_input": "2023-02-26T15:55:23.251571Z",
     "iopub.status.busy": "2023-02-26T15:55:23.251146Z",
     "iopub.status.idle": "2023-02-26T15:55:29.637433Z",
     "shell.execute_reply": "2023-02-26T15:55:29.636551Z"
    }
   },
   "outputs": [
    {
     "name": "stdout",
     "output_type": "stream",
     "text": [
      "78.6 µs ± 764 ns per loop (mean ± std. dev. of 7 runs, 10,000 loops each)\n"
     ]
    }
   ],
   "source": [
    "%timeit Batch.stack(batches)"
   ]
  },
  {
   "cell_type": "code",
   "execution_count": 27,
   "id": "cb8ab77e",
   "metadata": {
    "execution": {
     "iopub.execute_input": "2023-02-26T15:55:29.640727Z",
     "iopub.status.busy": "2023-02-26T15:55:29.640290Z",
     "iopub.status.idle": "2023-02-26T15:55:29.648769Z",
     "shell.execute_reply": "2023-02-26T15:55:29.647830Z"
    }
   },
   "outputs": [
    {
     "data": {
      "text/plain": [
       "Batch(\n",
       "    x: Batch(\n",
       "           c: tensor([[-0.2967, -0.5528,  0.9899, -1.4097],\n",
       "                      [-0.0141, -0.9378,  0.2930, -0.8671],\n",
       "                      [ 0.4136,  0.3118, -1.8769, -1.0229],\n",
       "                      [-0.2967, -0.5528,  0.9899, -1.4097],\n",
       "                      [-0.0141, -0.9378,  0.2930, -0.8671],\n",
       "                      [ 0.4136,  0.3118, -1.8769, -1.0229],\n",
       "                      [-0.2967, -0.5528,  0.9899, -1.4097],\n",
       "                      [-0.0141, -0.9378,  0.2930, -0.8671],\n",
       "                      [ 0.4136,  0.3118, -1.8769, -1.0229],\n",
       "                      [-0.2967, -0.5528,  0.9899, -1.4097],\n",
       "                      [-0.0141, -0.9378,  0.2930, -0.8671],\n",
       "                      [ 0.4136,  0.3118, -1.8769, -1.0229],\n",
       "                      [-0.2967, -0.5528,  0.9899, -1.4097],\n",
       "                      [-0.0141, -0.9378,  0.2930, -0.8671],\n",
       "                      [ 0.4136,  0.3118, -1.8769, -1.0229],\n",
       "                      [-0.2967, -0.5528,  0.9899, -1.4097],\n",
       "                      [-0.0141, -0.9378,  0.2930, -0.8671],\n",
       "                      [ 0.4136,  0.3118, -1.8769, -1.0229],\n",
       "                      [-0.2967, -0.5528,  0.9899, -1.4097],\n",
       "                      [-0.0141, -0.9378,  0.2930, -0.8671],\n",
       "                      [ 0.4136,  0.3118, -1.8769, -1.0229],\n",
       "                      [-0.2967, -0.5528,  0.9899, -1.4097],\n",
       "                      [-0.0141, -0.9378,  0.2930, -0.8671],\n",
       "                      [ 0.4136,  0.3118, -1.8769, -1.0229]]),\n",
       "       ),\n",
       "    a: tensor([[-1.5307, -0.5999,  0.1922],\n",
       "               [ 1.3266, -0.3408,  0.1445],\n",
       "               [-1.5307, -0.5999,  0.1922],\n",
       "               [ 1.3266, -0.3408,  0.1445],\n",
       "               [-1.5307, -0.5999,  0.1922],\n",
       "               [ 1.3266, -0.3408,  0.1445],\n",
       "               [-1.5307, -0.5999,  0.1922],\n",
       "               [ 1.3266, -0.3408,  0.1445],\n",
       "               [-1.5307, -0.5999,  0.1922],\n",
       "               [ 1.3266, -0.3408,  0.1445],\n",
       "               [-1.5307, -0.5999,  0.1922],\n",
       "               [ 1.3266, -0.3408,  0.1445],\n",
       "               [-1.5307, -0.5999,  0.1922],\n",
       "               [ 1.3266, -0.3408,  0.1445],\n",
       "               [-1.5307, -0.5999,  0.1922],\n",
       "               [ 1.3266, -0.3408,  0.1445]]),\n",
       ")"
      ]
     },
     "execution_count": 27,
     "metadata": {},
     "output_type": "execute_result"
    }
   ],
   "source": [
    "Batch.cat(batches)"
   ]
  },
  {
   "cell_type": "code",
   "execution_count": 28,
   "id": "18dfb045",
   "metadata": {
    "execution": {
     "iopub.execute_input": "2023-02-26T15:55:29.651510Z",
     "iopub.status.busy": "2023-02-26T15:55:29.651068Z",
     "iopub.status.idle": "2023-02-26T15:55:41.264995Z",
     "shell.execute_reply": "2023-02-26T15:55:41.264066Z"
    }
   },
   "outputs": [
    {
     "name": "stdout",
     "output_type": "stream",
     "text": [
      "143 µs ± 312 ns per loop (mean ± std. dev. of 7 runs, 10,000 loops each)\n"
     ]
    }
   ],
   "source": [
    "%timeit Batch.cat(batches)"
   ]
  },
  {
   "cell_type": "code",
   "execution_count": 29,
   "id": "c6688e51",
   "metadata": {
    "execution": {
     "iopub.execute_input": "2023-02-26T15:55:41.268924Z",
     "iopub.status.busy": "2023-02-26T15:55:41.268282Z",
     "iopub.status.idle": "2023-02-26T15:55:43.966639Z",
     "shell.execute_reply": "2023-02-26T15:55:43.965586Z"
    }
   },
   "outputs": [
    {
     "name": "stdout",
     "output_type": "stream",
     "text": [
      "332 µs ± 3.47 µs per loop (mean ± std. dev. of 7 runs, 1,000 loops each)\n"
     ]
    }
   ],
   "source": [
    "batch = Batch({\n",
    "    'obs': torch.randn(8, 4, 84, 84),\n",
    "    'action': torch.randint(0, 6, size=(8, 1,)),\n",
    "    'reward': torch.rand(8, 1)}\n",
    ")\n",
    "\n",
    "%timeit list(Batch.split(batch, 1, shuffle=False, merge_last=True))"
   ]
  },
  {
   "cell_type": "code",
   "execution_count": null,
   "id": "2539fbd9",
   "metadata": {},
   "outputs": [],
   "source": []
  }
 ],
 "metadata": {
  "kernelspec": {
   "display_name": "Python 3 (ipykernel)",
   "language": "python",
   "name": "python3"
  },
  "language_info": {
   "codemirror_mode": {
    "name": "ipython",
    "version": 3
   },
   "file_extension": ".py",
   "mimetype": "text/x-python",
   "name": "python",
   "nbconvert_exporter": "python",
   "pygments_lexer": "ipython3",
   "version": "3.8.16"
  }
 },
 "nbformat": 4,
 "nbformat_minor": 5
}
