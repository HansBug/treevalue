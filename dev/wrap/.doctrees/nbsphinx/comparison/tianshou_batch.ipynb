{
 "cells": [
  {
   "cell_type": "markdown",
   "id": "9d39d946",
   "metadata": {},
   "source": [
    "# Comparison Between TreeValue and Tianshou Batch"
   ]
  },
  {
   "cell_type": "markdown",
   "id": "3c6db2d4",
   "metadata": {},
   "source": [
    "In this section, we will take a look at the feature and performance of the [Tianshou Batch](https://github.com/thu-ml/tianshou) library, which is developed by Tsinghua Machine Learning Group."
   ]
  },
  {
   "cell_type": "markdown",
   "id": "069361b0",
   "metadata": {},
   "source": [
    "Before starting the comparison, let us define some thing."
   ]
  },
  {
   "cell_type": "code",
   "execution_count": 1,
   "id": "06fc8d26",
   "metadata": {
    "execution": {
     "iopub.execute_input": "2023-02-27T13:53:53.436277Z",
     "iopub.status.busy": "2023-02-27T13:53:53.435983Z",
     "iopub.status.idle": "2023-02-27T13:53:54.489296Z",
     "shell.execute_reply": "2023-02-27T13:53:54.488457Z"
    }
   },
   "outputs": [
    {
     "name": "stderr",
     "output_type": "stream",
     "text": [
      "/opt/hostedtoolcache/Python/3.8.16/x64/lib/python3.8/site-packages/tqdm/auto.py:22: TqdmWarning: IProgress not found. Please update jupyter and ipywidgets. See https://ipywidgets.readthedocs.io/en/stable/user_install.html\n",
      "  from .autonotebook import tqdm as notebook_tqdm\n"
     ]
    }
   ],
   "source": [
    "import torch \n",
    "\n",
    "_TREE_DATA_1 = {'a': 1, 'b': 2, 'x': {'c': 3, 'd': 4}}\n",
    "_TREE_DATA_2 = {\n",
    "    'a': torch.randn(2, 3), \n",
    "    'x': {\n",
    "        'c': torch.randn(3, 4)\n",
    "    },\n",
    "}\n",
    "_TREE_DATA_3 = {\n",
    "    'obs': torch.randn(4, 84, 84),\n",
    "    'action': torch.randint(0, 6, size=(1,)),\n",
    "    'reward': torch.rand(1),\n",
    "}"
   ]
  },
  {
   "cell_type": "markdown",
   "id": "83461b25",
   "metadata": {},
   "source": [
    "## Read and Write Operation"
   ]
  },
  {
   "cell_type": "markdown",
   "id": "067b3f73",
   "metadata": {},
   "source": [
    "Reading and writing are the two most common operations in the tree data structure based on the data model (TreeValue and Tianshou Batch both belong to this type), so this section will compare the reading and writing performance of these two libraries."
   ]
  },
  {
   "cell_type": "markdown",
   "id": "5d09a5b7",
   "metadata": {},
   "source": [
    "### TreeValue's Get and Set"
   ]
  },
  {
   "cell_type": "code",
   "execution_count": 2,
   "id": "9519c4bb",
   "metadata": {
    "execution": {
     "iopub.execute_input": "2023-02-27T13:53:54.493490Z",
     "iopub.status.busy": "2023-02-27T13:53:54.492971Z",
     "iopub.status.idle": "2023-02-27T13:53:54.800397Z",
     "shell.execute_reply": "2023-02-27T13:53:54.799546Z"
    }
   },
   "outputs": [],
   "source": [
    "from treevalue import FastTreeValue\n",
    "\n",
    "t = FastTreeValue(_TREE_DATA_2)"
   ]
  },
  {
   "cell_type": "code",
   "execution_count": 3,
   "id": "11c37677",
   "metadata": {
    "execution": {
     "iopub.execute_input": "2023-02-27T13:53:54.804366Z",
     "iopub.status.busy": "2023-02-27T13:53:54.803750Z",
     "iopub.status.idle": "2023-02-27T13:53:54.814332Z",
     "shell.execute_reply": "2023-02-27T13:53:54.813668Z"
    }
   },
   "outputs": [
    {
     "data": {
      "text/plain": [
       "<FastTreeValue 0x7f3a3499fa90>\n",
       "├── 'a' --> tensor([[-0.3139, -0.9896,  0.4035],\n",
       "│                   [ 0.4778,  1.5925, -0.5379]])\n",
       "└── 'x' --> <FastTreeValue 0x7f3a3499fa60>\n",
       "    └── 'c' --> tensor([[ 1.1137,  0.2588,  0.5976, -0.8652],\n",
       "                        [-0.6017,  1.1726, -1.1364,  0.7534],\n",
       "                        [ 0.8182, -1.7573,  0.1515, -0.9661]])"
      ]
     },
     "execution_count": 3,
     "metadata": {},
     "output_type": "execute_result"
    }
   ],
   "source": [
    "t"
   ]
  },
  {
   "cell_type": "code",
   "execution_count": 4,
   "id": "fd70b0b9",
   "metadata": {
    "execution": {
     "iopub.execute_input": "2023-02-27T13:53:54.817441Z",
     "iopub.status.busy": "2023-02-27T13:53:54.817052Z",
     "iopub.status.idle": "2023-02-27T13:53:54.824369Z",
     "shell.execute_reply": "2023-02-27T13:53:54.823672Z"
    }
   },
   "outputs": [
    {
     "data": {
      "text/plain": [
       "tensor([[-0.3139, -0.9896,  0.4035],\n",
       "        [ 0.4778,  1.5925, -0.5379]])"
      ]
     },
     "execution_count": 4,
     "metadata": {},
     "output_type": "execute_result"
    }
   ],
   "source": [
    "t.a"
   ]
  },
  {
   "cell_type": "code",
   "execution_count": 5,
   "id": "c18197bd",
   "metadata": {
    "execution": {
     "iopub.execute_input": "2023-02-27T13:53:54.827567Z",
     "iopub.status.busy": "2023-02-27T13:53:54.827172Z",
     "iopub.status.idle": "2023-02-27T13:54:00.337823Z",
     "shell.execute_reply": "2023-02-27T13:54:00.336924Z"
    }
   },
   "outputs": [
    {
     "name": "stdout",
     "output_type": "stream",
     "text": [
      "67.5 ns ± 0.0286 ns per loop (mean ± std. dev. of 7 runs, 10,000,000 loops each)\n"
     ]
    }
   ],
   "source": [
    "%timeit t.a"
   ]
  },
  {
   "cell_type": "code",
   "execution_count": 6,
   "id": "bd52f867",
   "metadata": {
    "execution": {
     "iopub.execute_input": "2023-02-27T13:54:00.341431Z",
     "iopub.status.busy": "2023-02-27T13:54:00.340918Z",
     "iopub.status.idle": "2023-02-27T13:54:00.348236Z",
     "shell.execute_reply": "2023-02-27T13:54:00.347559Z"
    }
   },
   "outputs": [
    {
     "data": {
      "text/plain": [
       "<FastTreeValue 0x7f3a3499fa90>\n",
       "├── 'a' --> tensor([[ 0.4759, -0.4802,  1.1278],\n",
       "│                   [-1.3560, -0.4022, -0.6245]])\n",
       "└── 'x' --> <FastTreeValue 0x7f3a3499fa60>\n",
       "    └── 'c' --> tensor([[ 1.1137,  0.2588,  0.5976, -0.8652],\n",
       "                        [-0.6017,  1.1726, -1.1364,  0.7534],\n",
       "                        [ 0.8182, -1.7573,  0.1515, -0.9661]])"
      ]
     },
     "execution_count": 6,
     "metadata": {},
     "output_type": "execute_result"
    }
   ],
   "source": [
    "new_value = torch.randn(2, 3)\n",
    "t.a = new_value\n",
    "\n",
    "t"
   ]
  },
  {
   "cell_type": "code",
   "execution_count": 7,
   "id": "bbe04d1c",
   "metadata": {
    "execution": {
     "iopub.execute_input": "2023-02-27T13:54:00.351350Z",
     "iopub.status.busy": "2023-02-27T13:54:00.350844Z",
     "iopub.status.idle": "2023-02-27T13:54:06.045615Z",
     "shell.execute_reply": "2023-02-27T13:54:06.044707Z"
    }
   },
   "outputs": [
    {
     "name": "stdout",
     "output_type": "stream",
     "text": [
      "70.1 ns ± 0.0189 ns per loop (mean ± std. dev. of 7 runs, 10,000,000 loops each)\n"
     ]
    }
   ],
   "source": [
    "%timeit t.a = new_value"
   ]
  },
  {
   "cell_type": "markdown",
   "id": "48c49731",
   "metadata": {},
   "source": [
    "### Tianshou Batch's Get and Set"
   ]
  },
  {
   "cell_type": "code",
   "execution_count": 8,
   "id": "f1bb14c1",
   "metadata": {
    "execution": {
     "iopub.execute_input": "2023-02-27T13:54:06.048831Z",
     "iopub.status.busy": "2023-02-27T13:54:06.048336Z",
     "iopub.status.idle": "2023-02-27T13:54:06.440377Z",
     "shell.execute_reply": "2023-02-27T13:54:06.439531Z"
    }
   },
   "outputs": [],
   "source": [
    "from tianshou.data import Batch\n",
    "\n",
    "b = Batch(**_TREE_DATA_2)"
   ]
  },
  {
   "cell_type": "code",
   "execution_count": 9,
   "id": "cb0777c3",
   "metadata": {
    "execution": {
     "iopub.execute_input": "2023-02-27T13:54:06.444268Z",
     "iopub.status.busy": "2023-02-27T13:54:06.443710Z",
     "iopub.status.idle": "2023-02-27T13:54:06.451674Z",
     "shell.execute_reply": "2023-02-27T13:54:06.451013Z"
    }
   },
   "outputs": [
    {
     "data": {
      "text/plain": [
       "Batch(\n",
       "    a: tensor([[-0.3139, -0.9896,  0.4035],\n",
       "               [ 0.4778,  1.5925, -0.5379]]),\n",
       "    x: Batch(\n",
       "           c: tensor([[ 1.1137,  0.2588,  0.5976, -0.8652],\n",
       "                      [-0.6017,  1.1726, -1.1364,  0.7534],\n",
       "                      [ 0.8182, -1.7573,  0.1515, -0.9661]]),\n",
       "       ),\n",
       ")"
      ]
     },
     "execution_count": 9,
     "metadata": {},
     "output_type": "execute_result"
    }
   ],
   "source": [
    "b"
   ]
  },
  {
   "cell_type": "code",
   "execution_count": 10,
   "id": "43ef8ea3",
   "metadata": {
    "execution": {
     "iopub.execute_input": "2023-02-27T13:54:06.454911Z",
     "iopub.status.busy": "2023-02-27T13:54:06.454450Z",
     "iopub.status.idle": "2023-02-27T13:54:06.461232Z",
     "shell.execute_reply": "2023-02-27T13:54:06.460539Z"
    }
   },
   "outputs": [
    {
     "data": {
      "text/plain": [
       "tensor([[-0.3139, -0.9896,  0.4035],\n",
       "        [ 0.4778,  1.5925, -0.5379]])"
      ]
     },
     "execution_count": 10,
     "metadata": {},
     "output_type": "execute_result"
    }
   ],
   "source": [
    "b.a"
   ]
  },
  {
   "cell_type": "code",
   "execution_count": 11,
   "id": "b785ab72",
   "metadata": {
    "execution": {
     "iopub.execute_input": "2023-02-27T13:54:06.464423Z",
     "iopub.status.busy": "2023-02-27T13:54:06.464032Z",
     "iopub.status.idle": "2023-02-27T13:54:11.413669Z",
     "shell.execute_reply": "2023-02-27T13:54:11.412858Z"
    }
   },
   "outputs": [
    {
     "name": "stdout",
     "output_type": "stream",
     "text": [
      "61.3 ns ± 0.0288 ns per loop (mean ± std. dev. of 7 runs, 10,000,000 loops each)\n"
     ]
    }
   ],
   "source": [
    "%timeit b.a"
   ]
  },
  {
   "cell_type": "code",
   "execution_count": 12,
   "id": "ad54dc69",
   "metadata": {
    "execution": {
     "iopub.execute_input": "2023-02-27T13:54:11.417220Z",
     "iopub.status.busy": "2023-02-27T13:54:11.416605Z",
     "iopub.status.idle": "2023-02-27T13:54:11.423645Z",
     "shell.execute_reply": "2023-02-27T13:54:11.422997Z"
    }
   },
   "outputs": [
    {
     "data": {
      "text/plain": [
       "Batch(\n",
       "    a: tensor([[ 0.0198, -0.3467,  0.2654],\n",
       "               [ 0.0076, -1.1334, -0.3651]]),\n",
       "    x: Batch(\n",
       "           c: tensor([[ 1.1137,  0.2588,  0.5976, -0.8652],\n",
       "                      [-0.6017,  1.1726, -1.1364,  0.7534],\n",
       "                      [ 0.8182, -1.7573,  0.1515, -0.9661]]),\n",
       "       ),\n",
       ")"
      ]
     },
     "execution_count": 12,
     "metadata": {},
     "output_type": "execute_result"
    }
   ],
   "source": [
    "new_value = torch.randn(2, 3)\n",
    "b.a = new_value\n",
    "\n",
    "b"
   ]
  },
  {
   "cell_type": "code",
   "execution_count": 13,
   "id": "29b1d0bf",
   "metadata": {
    "execution": {
     "iopub.execute_input": "2023-02-27T13:54:11.426755Z",
     "iopub.status.busy": "2023-02-27T13:54:11.426180Z",
     "iopub.status.idle": "2023-02-27T13:54:15.490550Z",
     "shell.execute_reply": "2023-02-27T13:54:15.489638Z"
    }
   },
   "outputs": [
    {
     "name": "stdout",
     "output_type": "stream",
     "text": [
      "500 ns ± 0.0708 ns per loop (mean ± std. dev. of 7 runs, 1,000,000 loops each)\n"
     ]
    }
   ],
   "source": [
    "%timeit b.a = new_value"
   ]
  },
  {
   "cell_type": "markdown",
   "id": "b61ad1d0",
   "metadata": {},
   "source": [
    "## Initialization"
   ]
  },
  {
   "cell_type": "markdown",
   "id": "d70f0d54",
   "metadata": {},
   "source": [
    "### TreeValue's Initialization"
   ]
  },
  {
   "cell_type": "code",
   "execution_count": 14,
   "id": "d32a679b",
   "metadata": {
    "execution": {
     "iopub.execute_input": "2023-02-27T13:54:15.494061Z",
     "iopub.status.busy": "2023-02-27T13:54:15.493586Z",
     "iopub.status.idle": "2023-02-27T13:54:21.367660Z",
     "shell.execute_reply": "2023-02-27T13:54:21.366771Z"
    }
   },
   "outputs": [
    {
     "name": "stdout",
     "output_type": "stream",
     "text": [
      "722 ns ± 0.0852 ns per loop (mean ± std. dev. of 7 runs, 1,000,000 loops each)\n"
     ]
    }
   ],
   "source": [
    "%timeit FastTreeValue(_TREE_DATA_1)"
   ]
  },
  {
   "cell_type": "markdown",
   "id": "24f3707b",
   "metadata": {},
   "source": [
    "### Tianshou Batch's Initialization"
   ]
  },
  {
   "cell_type": "code",
   "execution_count": 15,
   "id": "ac3958df",
   "metadata": {
    "execution": {
     "iopub.execute_input": "2023-02-27T13:54:21.371138Z",
     "iopub.status.busy": "2023-02-27T13:54:21.370691Z",
     "iopub.status.idle": "2023-02-27T13:54:30.303743Z",
     "shell.execute_reply": "2023-02-27T13:54:30.302791Z"
    }
   },
   "outputs": [
    {
     "name": "stdout",
     "output_type": "stream",
     "text": [
      "11 µs ± 38 ns per loop (mean ± std. dev. of 7 runs, 100,000 loops each)\n"
     ]
    }
   ],
   "source": [
    "%timeit Batch(**_TREE_DATA_1)"
   ]
  },
  {
   "cell_type": "markdown",
   "id": "1ab82e2d",
   "metadata": {},
   "source": [
    "## Deep Copy Operation"
   ]
  },
  {
   "cell_type": "code",
   "execution_count": 16,
   "id": "210a9442",
   "metadata": {
    "execution": {
     "iopub.execute_input": "2023-02-27T13:54:30.307086Z",
     "iopub.status.busy": "2023-02-27T13:54:30.306655Z",
     "iopub.status.idle": "2023-02-27T13:54:30.311039Z",
     "shell.execute_reply": "2023-02-27T13:54:30.310323Z"
    }
   },
   "outputs": [],
   "source": [
    "import copy"
   ]
  },
  {
   "cell_type": "markdown",
   "id": "5a736274",
   "metadata": {},
   "source": [
    "### Deep Copy of TreeValue"
   ]
  },
  {
   "cell_type": "code",
   "execution_count": 17,
   "id": "f9bcadd6",
   "metadata": {
    "execution": {
     "iopub.execute_input": "2023-02-27T13:54:30.314374Z",
     "iopub.status.busy": "2023-02-27T13:54:30.313692Z",
     "iopub.status.idle": "2023-02-27T13:54:42.175917Z",
     "shell.execute_reply": "2023-02-27T13:54:42.175083Z"
    }
   },
   "outputs": [
    {
     "name": "stdout",
     "output_type": "stream",
     "text": [
      "146 µs ± 1.31 µs per loop (mean ± std. dev. of 7 runs, 10,000 loops each)\n"
     ]
    }
   ],
   "source": [
    "t3 = FastTreeValue(_TREE_DATA_3)\n",
    "%timeit copy.deepcopy(t3)"
   ]
  },
  {
   "cell_type": "markdown",
   "id": "bf8be7ea",
   "metadata": {},
   "source": [
    "### Deep Copy of Tianshou Batch"
   ]
  },
  {
   "cell_type": "code",
   "execution_count": 18,
   "id": "91998e6f",
   "metadata": {
    "execution": {
     "iopub.execute_input": "2023-02-27T13:54:42.179395Z",
     "iopub.status.busy": "2023-02-27T13:54:42.178968Z",
     "iopub.status.idle": "2023-02-27T13:54:54.078767Z",
     "shell.execute_reply": "2023-02-27T13:54:54.077895Z"
    }
   },
   "outputs": [
    {
     "name": "stdout",
     "output_type": "stream",
     "text": [
      "147 µs ± 873 ns per loop (mean ± std. dev. of 7 runs, 10,000 loops each)\n"
     ]
    }
   ],
   "source": [
    "b3 = Batch(**_TREE_DATA_3)\n",
    "%timeit copy.deepcopy(b3)"
   ]
  },
  {
   "cell_type": "markdown",
   "id": "223162fb",
   "metadata": {},
   "source": [
    "## Stack, Concat and Split Operation"
   ]
  },
  {
   "cell_type": "markdown",
   "id": "85fa4a73",
   "metadata": {},
   "source": [
    "### Performance of TreeValue"
   ]
  },
  {
   "cell_type": "code",
   "execution_count": 19,
   "id": "a0c2b697",
   "metadata": {
    "execution": {
     "iopub.execute_input": "2023-02-27T13:54:54.082433Z",
     "iopub.status.busy": "2023-02-27T13:54:54.081979Z",
     "iopub.status.idle": "2023-02-27T13:54:54.087052Z",
     "shell.execute_reply": "2023-02-27T13:54:54.086333Z"
    }
   },
   "outputs": [],
   "source": [
    "trees = [FastTreeValue(_TREE_DATA_2) for _ in range(8)]"
   ]
  },
  {
   "cell_type": "code",
   "execution_count": 20,
   "id": "017ea5a5",
   "metadata": {
    "execution": {
     "iopub.execute_input": "2023-02-27T13:54:54.090462Z",
     "iopub.status.busy": "2023-02-27T13:54:54.089873Z",
     "iopub.status.idle": "2023-02-27T13:54:54.102061Z",
     "shell.execute_reply": "2023-02-27T13:54:54.100691Z"
    }
   },
   "outputs": [
    {
     "data": {
      "text/plain": [
       "<FastTreeValue 0x7f39868e8e80>\n",
       "├── 'a' --> tensor([[[-0.3139, -0.9896,  0.4035],\n",
       "│                    [ 0.4778,  1.5925, -0.5379]],\n",
       "│           \n",
       "│                   [[-0.3139, -0.9896,  0.4035],\n",
       "│                    [ 0.4778,  1.5925, -0.5379]],\n",
       "│           \n",
       "│                   [[-0.3139, -0.9896,  0.4035],\n",
       "│                    [ 0.4778,  1.5925, -0.5379]],\n",
       "│           \n",
       "│                   [[-0.3139, -0.9896,  0.4035],\n",
       "│                    [ 0.4778,  1.5925, -0.5379]],\n",
       "│           \n",
       "│                   [[-0.3139, -0.9896,  0.4035],\n",
       "│                    [ 0.4778,  1.5925, -0.5379]],\n",
       "│           \n",
       "│                   [[-0.3139, -0.9896,  0.4035],\n",
       "│                    [ 0.4778,  1.5925, -0.5379]],\n",
       "│           \n",
       "│                   [[-0.3139, -0.9896,  0.4035],\n",
       "│                    [ 0.4778,  1.5925, -0.5379]],\n",
       "│           \n",
       "│                   [[-0.3139, -0.9896,  0.4035],\n",
       "│                    [ 0.4778,  1.5925, -0.5379]]])\n",
       "└── 'x' --> <FastTreeValue 0x7f3a34997490>\n",
       "    └── 'c' --> tensor([[[ 1.1137,  0.2588,  0.5976, -0.8652],\n",
       "                         [-0.6017,  1.1726, -1.1364,  0.7534],\n",
       "                         [ 0.8182, -1.7573,  0.1515, -0.9661]],\n",
       "                \n",
       "                        [[ 1.1137,  0.2588,  0.5976, -0.8652],\n",
       "                         [-0.6017,  1.1726, -1.1364,  0.7534],\n",
       "                         [ 0.8182, -1.7573,  0.1515, -0.9661]],\n",
       "                \n",
       "                        [[ 1.1137,  0.2588,  0.5976, -0.8652],\n",
       "                         [-0.6017,  1.1726, -1.1364,  0.7534],\n",
       "                         [ 0.8182, -1.7573,  0.1515, -0.9661]],\n",
       "                \n",
       "                        [[ 1.1137,  0.2588,  0.5976, -0.8652],\n",
       "                         [-0.6017,  1.1726, -1.1364,  0.7534],\n",
       "                         [ 0.8182, -1.7573,  0.1515, -0.9661]],\n",
       "                \n",
       "                        [[ 1.1137,  0.2588,  0.5976, -0.8652],\n",
       "                         [-0.6017,  1.1726, -1.1364,  0.7534],\n",
       "                         [ 0.8182, -1.7573,  0.1515, -0.9661]],\n",
       "                \n",
       "                        [[ 1.1137,  0.2588,  0.5976, -0.8652],\n",
       "                         [-0.6017,  1.1726, -1.1364,  0.7534],\n",
       "                         [ 0.8182, -1.7573,  0.1515, -0.9661]],\n",
       "                \n",
       "                        [[ 1.1137,  0.2588,  0.5976, -0.8652],\n",
       "                         [-0.6017,  1.1726, -1.1364,  0.7534],\n",
       "                         [ 0.8182, -1.7573,  0.1515, -0.9661]],\n",
       "                \n",
       "                        [[ 1.1137,  0.2588,  0.5976, -0.8652],\n",
       "                         [-0.6017,  1.1726, -1.1364,  0.7534],\n",
       "                         [ 0.8182, -1.7573,  0.1515, -0.9661]]])"
      ]
     },
     "execution_count": 20,
     "metadata": {},
     "output_type": "execute_result"
    }
   ],
   "source": [
    "t_stack = FastTreeValue.func(subside=True)(torch.stack)\n",
    "\n",
    "t_stack(trees)"
   ]
  },
  {
   "cell_type": "code",
   "execution_count": 21,
   "id": "f8b3f415",
   "metadata": {
    "execution": {
     "iopub.execute_input": "2023-02-27T13:54:54.106493Z",
     "iopub.status.busy": "2023-02-27T13:54:54.105794Z",
     "iopub.status.idle": "2023-02-27T13:54:56.745776Z",
     "shell.execute_reply": "2023-02-27T13:54:56.744817Z"
    }
   },
   "outputs": [
    {
     "name": "stdout",
     "output_type": "stream",
     "text": [
      "32.3 µs ± 95 ns per loop (mean ± std. dev. of 7 runs, 10,000 loops each)\n"
     ]
    }
   ],
   "source": [
    "%timeit t_stack(trees)"
   ]
  },
  {
   "cell_type": "code",
   "execution_count": 22,
   "id": "94b56771",
   "metadata": {
    "execution": {
     "iopub.execute_input": "2023-02-27T13:54:56.749434Z",
     "iopub.status.busy": "2023-02-27T13:54:56.748949Z",
     "iopub.status.idle": "2023-02-27T13:54:56.758151Z",
     "shell.execute_reply": "2023-02-27T13:54:56.757451Z"
    }
   },
   "outputs": [
    {
     "data": {
      "text/plain": [
       "<FastTreeValue 0x7f39febd91f0>\n",
       "├── 'a' --> tensor([[-0.3139, -0.9896,  0.4035],\n",
       "│                   [ 0.4778,  1.5925, -0.5379],\n",
       "│                   [-0.3139, -0.9896,  0.4035],\n",
       "│                   [ 0.4778,  1.5925, -0.5379],\n",
       "│                   [-0.3139, -0.9896,  0.4035],\n",
       "│                   [ 0.4778,  1.5925, -0.5379],\n",
       "│                   [-0.3139, -0.9896,  0.4035],\n",
       "│                   [ 0.4778,  1.5925, -0.5379],\n",
       "│                   [-0.3139, -0.9896,  0.4035],\n",
       "│                   [ 0.4778,  1.5925, -0.5379],\n",
       "│                   [-0.3139, -0.9896,  0.4035],\n",
       "│                   [ 0.4778,  1.5925, -0.5379],\n",
       "│                   [-0.3139, -0.9896,  0.4035],\n",
       "│                   [ 0.4778,  1.5925, -0.5379],\n",
       "│                   [-0.3139, -0.9896,  0.4035],\n",
       "│                   [ 0.4778,  1.5925, -0.5379]])\n",
       "└── 'x' --> <FastTreeValue 0x7f397fc55fa0>\n",
       "    └── 'c' --> tensor([[ 1.1137,  0.2588,  0.5976, -0.8652],\n",
       "                        [-0.6017,  1.1726, -1.1364,  0.7534],\n",
       "                        [ 0.8182, -1.7573,  0.1515, -0.9661],\n",
       "                        [ 1.1137,  0.2588,  0.5976, -0.8652],\n",
       "                        [-0.6017,  1.1726, -1.1364,  0.7534],\n",
       "                        [ 0.8182, -1.7573,  0.1515, -0.9661],\n",
       "                        [ 1.1137,  0.2588,  0.5976, -0.8652],\n",
       "                        [-0.6017,  1.1726, -1.1364,  0.7534],\n",
       "                        [ 0.8182, -1.7573,  0.1515, -0.9661],\n",
       "                        [ 1.1137,  0.2588,  0.5976, -0.8652],\n",
       "                        [-0.6017,  1.1726, -1.1364,  0.7534],\n",
       "                        [ 0.8182, -1.7573,  0.1515, -0.9661],\n",
       "                        [ 1.1137,  0.2588,  0.5976, -0.8652],\n",
       "                        [-0.6017,  1.1726, -1.1364,  0.7534],\n",
       "                        [ 0.8182, -1.7573,  0.1515, -0.9661],\n",
       "                        [ 1.1137,  0.2588,  0.5976, -0.8652],\n",
       "                        [-0.6017,  1.1726, -1.1364,  0.7534],\n",
       "                        [ 0.8182, -1.7573,  0.1515, -0.9661],\n",
       "                        [ 1.1137,  0.2588,  0.5976, -0.8652],\n",
       "                        [-0.6017,  1.1726, -1.1364,  0.7534],\n",
       "                        [ 0.8182, -1.7573,  0.1515, -0.9661],\n",
       "                        [ 1.1137,  0.2588,  0.5976, -0.8652],\n",
       "                        [-0.6017,  1.1726, -1.1364,  0.7534],\n",
       "                        [ 0.8182, -1.7573,  0.1515, -0.9661]])"
      ]
     },
     "execution_count": 22,
     "metadata": {},
     "output_type": "execute_result"
    }
   ],
   "source": [
    "t_cat = FastTreeValue.func(subside=True)(torch.cat)\n",
    "\n",
    "t_cat(trees)"
   ]
  },
  {
   "cell_type": "code",
   "execution_count": 23,
   "id": "5e9c06a6",
   "metadata": {
    "execution": {
     "iopub.execute_input": "2023-02-27T13:54:56.761515Z",
     "iopub.status.busy": "2023-02-27T13:54:56.760932Z",
     "iopub.status.idle": "2023-02-27T13:54:59.239425Z",
     "shell.execute_reply": "2023-02-27T13:54:59.238498Z"
    }
   },
   "outputs": [
    {
     "name": "stdout",
     "output_type": "stream",
     "text": [
      "30.5 µs ± 52.9 ns per loop (mean ± std. dev. of 7 runs, 10,000 loops each)\n"
     ]
    }
   ],
   "source": [
    "%timeit t_cat(trees)"
   ]
  },
  {
   "cell_type": "code",
   "execution_count": 24,
   "id": "a3ab5c8f",
   "metadata": {
    "execution": {
     "iopub.execute_input": "2023-02-27T13:54:59.243045Z",
     "iopub.status.busy": "2023-02-27T13:54:59.242375Z",
     "iopub.status.idle": "2023-02-27T13:55:03.900866Z",
     "shell.execute_reply": "2023-02-27T13:55:03.899940Z"
    }
   },
   "outputs": [
    {
     "name": "stdout",
     "output_type": "stream",
     "text": [
      "56.8 µs ± 108 ns per loop (mean ± std. dev. of 7 runs, 10,000 loops each)\n"
     ]
    }
   ],
   "source": [
    "t_split = FastTreeValue.func(rise=True)(torch.split)\n",
    "tree = FastTreeValue({\n",
    "    'obs': torch.randn(8, 4, 84, 84),\n",
    "    'action': torch.randint(0, 6, size=(8, 1,)),\n",
    "    'reward': torch.rand(8, 1),\n",
    "})\n",
    "\n",
    "%timeit t_split(tree, 1)"
   ]
  },
  {
   "cell_type": "markdown",
   "id": "31c3ec0b",
   "metadata": {},
   "source": [
    "### Performance of Tianshou Batch"
   ]
  },
  {
   "cell_type": "code",
   "execution_count": 25,
   "id": "9ead828a",
   "metadata": {
    "execution": {
     "iopub.execute_input": "2023-02-27T13:55:03.904941Z",
     "iopub.status.busy": "2023-02-27T13:55:03.904309Z",
     "iopub.status.idle": "2023-02-27T13:55:03.923896Z",
     "shell.execute_reply": "2023-02-27T13:55:03.912746Z"
    }
   },
   "outputs": [
    {
     "data": {
      "text/plain": [
       "Batch(\n",
       "    x: Batch(\n",
       "           c: tensor([[[ 1.1137,  0.2588,  0.5976, -0.8652],\n",
       "                       [-0.6017,  1.1726, -1.1364,  0.7534],\n",
       "                       [ 0.8182, -1.7573,  0.1515, -0.9661]],\n",
       "              \n",
       "                      [[ 1.1137,  0.2588,  0.5976, -0.8652],\n",
       "                       [-0.6017,  1.1726, -1.1364,  0.7534],\n",
       "                       [ 0.8182, -1.7573,  0.1515, -0.9661]],\n",
       "              \n",
       "                      [[ 1.1137,  0.2588,  0.5976, -0.8652],\n",
       "                       [-0.6017,  1.1726, -1.1364,  0.7534],\n",
       "                       [ 0.8182, -1.7573,  0.1515, -0.9661]],\n",
       "              \n",
       "                      [[ 1.1137,  0.2588,  0.5976, -0.8652],\n",
       "                       [-0.6017,  1.1726, -1.1364,  0.7534],\n",
       "                       [ 0.8182, -1.7573,  0.1515, -0.9661]],\n",
       "              \n",
       "                      [[ 1.1137,  0.2588,  0.5976, -0.8652],\n",
       "                       [-0.6017,  1.1726, -1.1364,  0.7534],\n",
       "                       [ 0.8182, -1.7573,  0.1515, -0.9661]],\n",
       "              \n",
       "                      [[ 1.1137,  0.2588,  0.5976, -0.8652],\n",
       "                       [-0.6017,  1.1726, -1.1364,  0.7534],\n",
       "                       [ 0.8182, -1.7573,  0.1515, -0.9661]],\n",
       "              \n",
       "                      [[ 1.1137,  0.2588,  0.5976, -0.8652],\n",
       "                       [-0.6017,  1.1726, -1.1364,  0.7534],\n",
       "                       [ 0.8182, -1.7573,  0.1515, -0.9661]],\n",
       "              \n",
       "                      [[ 1.1137,  0.2588,  0.5976, -0.8652],\n",
       "                       [-0.6017,  1.1726, -1.1364,  0.7534],\n",
       "                       [ 0.8182, -1.7573,  0.1515, -0.9661]]]),\n",
       "       ),\n",
       "    a: tensor([[[-0.3139, -0.9896,  0.4035],\n",
       "                [ 0.4778,  1.5925, -0.5379]],\n",
       "       \n",
       "               [[-0.3139, -0.9896,  0.4035],\n",
       "                [ 0.4778,  1.5925, -0.5379]],\n",
       "       \n",
       "               [[-0.3139, -0.9896,  0.4035],\n",
       "                [ 0.4778,  1.5925, -0.5379]],\n",
       "       \n",
       "               [[-0.3139, -0.9896,  0.4035],\n",
       "                [ 0.4778,  1.5925, -0.5379]],\n",
       "       \n",
       "               [[-0.3139, -0.9896,  0.4035],\n",
       "                [ 0.4778,  1.5925, -0.5379]],\n",
       "       \n",
       "               [[-0.3139, -0.9896,  0.4035],\n",
       "                [ 0.4778,  1.5925, -0.5379]],\n",
       "       \n",
       "               [[-0.3139, -0.9896,  0.4035],\n",
       "                [ 0.4778,  1.5925, -0.5379]],\n",
       "       \n",
       "               [[-0.3139, -0.9896,  0.4035],\n",
       "                [ 0.4778,  1.5925, -0.5379]]]),\n",
       ")"
      ]
     },
     "execution_count": 25,
     "metadata": {},
     "output_type": "execute_result"
    }
   ],
   "source": [
    "batches = [Batch(**_TREE_DATA_2) for _ in range(8)]\n",
    "\n",
    "Batch.stack(batches)"
   ]
  },
  {
   "cell_type": "code",
   "execution_count": 26,
   "id": "ec9037a3",
   "metadata": {
    "execution": {
     "iopub.execute_input": "2023-02-27T13:55:03.934682Z",
     "iopub.status.busy": "2023-02-27T13:55:03.934069Z",
     "iopub.status.idle": "2023-02-27T13:55:10.402560Z",
     "shell.execute_reply": "2023-02-27T13:55:10.401653Z"
    }
   },
   "outputs": [
    {
     "name": "stdout",
     "output_type": "stream",
     "text": [
      "78.4 µs ± 236 ns per loop (mean ± std. dev. of 7 runs, 10,000 loops each)\n"
     ]
    }
   ],
   "source": [
    "%timeit Batch.stack(batches)"
   ]
  },
  {
   "cell_type": "code",
   "execution_count": 27,
   "id": "cb8ab77e",
   "metadata": {
    "execution": {
     "iopub.execute_input": "2023-02-27T13:55:10.406037Z",
     "iopub.status.busy": "2023-02-27T13:55:10.405496Z",
     "iopub.status.idle": "2023-02-27T13:55:10.414151Z",
     "shell.execute_reply": "2023-02-27T13:55:10.413460Z"
    }
   },
   "outputs": [
    {
     "data": {
      "text/plain": [
       "Batch(\n",
       "    x: Batch(\n",
       "           c: tensor([[ 1.1137,  0.2588,  0.5976, -0.8652],\n",
       "                      [-0.6017,  1.1726, -1.1364,  0.7534],\n",
       "                      [ 0.8182, -1.7573,  0.1515, -0.9661],\n",
       "                      [ 1.1137,  0.2588,  0.5976, -0.8652],\n",
       "                      [-0.6017,  1.1726, -1.1364,  0.7534],\n",
       "                      [ 0.8182, -1.7573,  0.1515, -0.9661],\n",
       "                      [ 1.1137,  0.2588,  0.5976, -0.8652],\n",
       "                      [-0.6017,  1.1726, -1.1364,  0.7534],\n",
       "                      [ 0.8182, -1.7573,  0.1515, -0.9661],\n",
       "                      [ 1.1137,  0.2588,  0.5976, -0.8652],\n",
       "                      [-0.6017,  1.1726, -1.1364,  0.7534],\n",
       "                      [ 0.8182, -1.7573,  0.1515, -0.9661],\n",
       "                      [ 1.1137,  0.2588,  0.5976, -0.8652],\n",
       "                      [-0.6017,  1.1726, -1.1364,  0.7534],\n",
       "                      [ 0.8182, -1.7573,  0.1515, -0.9661],\n",
       "                      [ 1.1137,  0.2588,  0.5976, -0.8652],\n",
       "                      [-0.6017,  1.1726, -1.1364,  0.7534],\n",
       "                      [ 0.8182, -1.7573,  0.1515, -0.9661],\n",
       "                      [ 1.1137,  0.2588,  0.5976, -0.8652],\n",
       "                      [-0.6017,  1.1726, -1.1364,  0.7534],\n",
       "                      [ 0.8182, -1.7573,  0.1515, -0.9661],\n",
       "                      [ 1.1137,  0.2588,  0.5976, -0.8652],\n",
       "                      [-0.6017,  1.1726, -1.1364,  0.7534],\n",
       "                      [ 0.8182, -1.7573,  0.1515, -0.9661]]),\n",
       "       ),\n",
       "    a: tensor([[-0.3139, -0.9896,  0.4035],\n",
       "               [ 0.4778,  1.5925, -0.5379],\n",
       "               [-0.3139, -0.9896,  0.4035],\n",
       "               [ 0.4778,  1.5925, -0.5379],\n",
       "               [-0.3139, -0.9896,  0.4035],\n",
       "               [ 0.4778,  1.5925, -0.5379],\n",
       "               [-0.3139, -0.9896,  0.4035],\n",
       "               [ 0.4778,  1.5925, -0.5379],\n",
       "               [-0.3139, -0.9896,  0.4035],\n",
       "               [ 0.4778,  1.5925, -0.5379],\n",
       "               [-0.3139, -0.9896,  0.4035],\n",
       "               [ 0.4778,  1.5925, -0.5379],\n",
       "               [-0.3139, -0.9896,  0.4035],\n",
       "               [ 0.4778,  1.5925, -0.5379],\n",
       "               [-0.3139, -0.9896,  0.4035],\n",
       "               [ 0.4778,  1.5925, -0.5379]]),\n",
       ")"
      ]
     },
     "execution_count": 27,
     "metadata": {},
     "output_type": "execute_result"
    }
   ],
   "source": [
    "Batch.cat(batches)"
   ]
  },
  {
   "cell_type": "code",
   "execution_count": 28,
   "id": "18dfb045",
   "metadata": {
    "execution": {
     "iopub.execute_input": "2023-02-27T13:55:10.417342Z",
     "iopub.status.busy": "2023-02-27T13:55:10.416856Z",
     "iopub.status.idle": "2023-02-27T13:55:21.998330Z",
     "shell.execute_reply": "2023-02-27T13:55:21.997462Z"
    }
   },
   "outputs": [
    {
     "name": "stdout",
     "output_type": "stream",
     "text": [
      "142 µs ± 148 ns per loop (mean ± std. dev. of 7 runs, 10,000 loops each)\n"
     ]
    }
   ],
   "source": [
    "%timeit Batch.cat(batches)"
   ]
  },
  {
   "cell_type": "code",
   "execution_count": 29,
   "id": "c6688e51",
   "metadata": {
    "execution": {
     "iopub.execute_input": "2023-02-27T13:55:22.001971Z",
     "iopub.status.busy": "2023-02-27T13:55:22.001406Z",
     "iopub.status.idle": "2023-02-27T13:55:24.693927Z",
     "shell.execute_reply": "2023-02-27T13:55:24.693247Z"
    }
   },
   "outputs": [
    {
     "name": "stdout",
     "output_type": "stream",
     "text": [
      "330 µs ± 2.75 µs per loop (mean ± std. dev. of 7 runs, 1,000 loops each)\n"
     ]
    }
   ],
   "source": [
    "batch = Batch({\n",
    "    'obs': torch.randn(8, 4, 84, 84),\n",
    "    'action': torch.randint(0, 6, size=(8, 1,)),\n",
    "    'reward': torch.rand(8, 1)}\n",
    ")\n",
    "\n",
    "%timeit list(Batch.split(batch, 1, shuffle=False, merge_last=True))"
   ]
  },
  {
   "cell_type": "code",
   "execution_count": null,
   "id": "2539fbd9",
   "metadata": {},
   "outputs": [],
   "source": []
  }
 ],
 "metadata": {
  "kernelspec": {
   "display_name": "Python 3 (ipykernel)",
   "language": "python",
   "name": "python3"
  },
  "language_info": {
   "codemirror_mode": {
    "name": "ipython",
    "version": 3
   },
   "file_extension": ".py",
   "mimetype": "text/x-python",
   "name": "python",
   "nbconvert_exporter": "python",
   "pygments_lexer": "ipython3",
   "version": "3.8.16"
  }
 },
 "nbformat": 4,
 "nbformat_minor": 5
}
