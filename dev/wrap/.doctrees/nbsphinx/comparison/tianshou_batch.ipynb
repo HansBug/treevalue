{
 "cells": [
  {
   "cell_type": "markdown",
   "id": "9d39d946",
   "metadata": {},
   "source": [
    "# Comparison Between TreeValue and Tianshou Batch"
   ]
  },
  {
   "cell_type": "markdown",
   "id": "3c6db2d4",
   "metadata": {},
   "source": [
    "In this section, we will take a look at the feature and performance of the [Tianshou Batch](https://github.com/thu-ml/tianshou) library, which is developed by Tsinghua Machine Learning Group."
   ]
  },
  {
   "cell_type": "markdown",
   "id": "069361b0",
   "metadata": {},
   "source": [
    "Before starting the comparison, let us define some thing."
   ]
  },
  {
   "cell_type": "code",
   "execution_count": 1,
   "id": "06fc8d26",
   "metadata": {
    "execution": {
     "iopub.execute_input": "2023-02-25T06:50:17.007899Z",
     "iopub.status.busy": "2023-02-25T06:50:17.007681Z",
     "iopub.status.idle": "2023-02-25T06:50:17.906891Z",
     "shell.execute_reply": "2023-02-25T06:50:17.906321Z"
    }
   },
   "outputs": [
    {
     "name": "stderr",
     "output_type": "stream",
     "text": [
      "/opt/hostedtoolcache/Python/3.8.16/x64/lib/python3.8/site-packages/tqdm/auto.py:22: TqdmWarning: IProgress not found. Please update jupyter and ipywidgets. See https://ipywidgets.readthedocs.io/en/stable/user_install.html\n",
      "  from .autonotebook import tqdm as notebook_tqdm\n"
     ]
    }
   ],
   "source": [
    "import torch \n",
    "\n",
    "_TREE_DATA_1 = {'a': 1, 'b': 2, 'x': {'c': 3, 'd': 4}}\n",
    "_TREE_DATA_2 = {\n",
    "    'a': torch.randn(2, 3), \n",
    "    'x': {\n",
    "        'c': torch.randn(3, 4)\n",
    "    },\n",
    "}\n",
    "_TREE_DATA_3 = {\n",
    "    'obs': torch.randn(4, 84, 84),\n",
    "    'action': torch.randint(0, 6, size=(1,)),\n",
    "    'reward': torch.rand(1),\n",
    "}"
   ]
  },
  {
   "cell_type": "markdown",
   "id": "83461b25",
   "metadata": {},
   "source": [
    "## Read and Write Operation"
   ]
  },
  {
   "cell_type": "markdown",
   "id": "067b3f73",
   "metadata": {},
   "source": [
    "Reading and writing are the two most common operations in the tree data structure based on the data model (TreeValue and Tianshou Batch both belong to this type), so this section will compare the reading and writing performance of these two libraries."
   ]
  },
  {
   "cell_type": "markdown",
   "id": "5d09a5b7",
   "metadata": {},
   "source": [
    "### TreeValue's Get and Set"
   ]
  },
  {
   "cell_type": "code",
   "execution_count": 2,
   "id": "9519c4bb",
   "metadata": {
    "execution": {
     "iopub.execute_input": "2023-02-25T06:50:17.910795Z",
     "iopub.status.busy": "2023-02-25T06:50:17.909864Z",
     "iopub.status.idle": "2023-02-25T06:50:17.942909Z",
     "shell.execute_reply": "2023-02-25T06:50:17.942329Z"
    }
   },
   "outputs": [],
   "source": [
    "from treevalue import FastTreeValue\n",
    "\n",
    "t = FastTreeValue(_TREE_DATA_2)"
   ]
  },
  {
   "cell_type": "code",
   "execution_count": 3,
   "id": "11c37677",
   "metadata": {
    "execution": {
     "iopub.execute_input": "2023-02-25T06:50:17.945673Z",
     "iopub.status.busy": "2023-02-25T06:50:17.945444Z",
     "iopub.status.idle": "2023-02-25T06:50:17.954131Z",
     "shell.execute_reply": "2023-02-25T06:50:17.953573Z"
    }
   },
   "outputs": [
    {
     "data": {
      "text/plain": [
       "<FastTreeValue 0x7fa250a53820>\n",
       "├── 'a' --> tensor([[-0.6577,  1.1266,  0.0993],\n",
       "│                   [ 0.3576,  0.0851, -0.7748]])\n",
       "└── 'x' --> <FastTreeValue 0x7fa250a53130>\n",
       "    └── 'c' --> tensor([[ 0.4248,  0.2888,  0.8925, -0.6063],\n",
       "                        [ 0.2922, -0.0568,  1.1804,  1.5707],\n",
       "                        [ 0.2536, -0.8390,  0.1134, -0.9493]])"
      ]
     },
     "execution_count": 3,
     "metadata": {},
     "output_type": "execute_result"
    }
   ],
   "source": [
    "t"
   ]
  },
  {
   "cell_type": "code",
   "execution_count": 4,
   "id": "fd70b0b9",
   "metadata": {
    "execution": {
     "iopub.execute_input": "2023-02-25T06:50:17.956712Z",
     "iopub.status.busy": "2023-02-25T06:50:17.956381Z",
     "iopub.status.idle": "2023-02-25T06:50:17.961565Z",
     "shell.execute_reply": "2023-02-25T06:50:17.961017Z"
    }
   },
   "outputs": [
    {
     "data": {
      "text/plain": [
       "tensor([[-0.6577,  1.1266,  0.0993],\n",
       "        [ 0.3576,  0.0851, -0.7748]])"
      ]
     },
     "execution_count": 4,
     "metadata": {},
     "output_type": "execute_result"
    }
   ],
   "source": [
    "t.a"
   ]
  },
  {
   "cell_type": "code",
   "execution_count": 5,
   "id": "c18197bd",
   "metadata": {
    "execution": {
     "iopub.execute_input": "2023-02-25T06:50:17.963881Z",
     "iopub.status.busy": "2023-02-25T06:50:17.963559Z",
     "iopub.status.idle": "2023-02-25T06:50:23.082250Z",
     "shell.execute_reply": "2023-02-25T06:50:23.081538Z"
    }
   },
   "outputs": [
    {
     "name": "stdout",
     "output_type": "stream",
     "text": [
      "63.8 ns ± 0.036 ns per loop (mean ± std. dev. of 7 runs, 10,000,000 loops each)\n"
     ]
    }
   ],
   "source": [
    "%timeit t.a"
   ]
  },
  {
   "cell_type": "code",
   "execution_count": 6,
   "id": "bd52f867",
   "metadata": {
    "execution": {
     "iopub.execute_input": "2023-02-25T06:50:23.085118Z",
     "iopub.status.busy": "2023-02-25T06:50:23.084598Z",
     "iopub.status.idle": "2023-02-25T06:50:23.090430Z",
     "shell.execute_reply": "2023-02-25T06:50:23.089817Z"
    }
   },
   "outputs": [
    {
     "data": {
      "text/plain": [
       "<FastTreeValue 0x7fa250a53820>\n",
       "├── 'a' --> tensor([[-1.6051, -0.9538, -1.8929],\n",
       "│                   [ 0.0312, -1.6531, -0.9355]])\n",
       "└── 'x' --> <FastTreeValue 0x7fa250a53130>\n",
       "    └── 'c' --> tensor([[ 0.4248,  0.2888,  0.8925, -0.6063],\n",
       "                        [ 0.2922, -0.0568,  1.1804,  1.5707],\n",
       "                        [ 0.2536, -0.8390,  0.1134, -0.9493]])"
      ]
     },
     "execution_count": 6,
     "metadata": {},
     "output_type": "execute_result"
    }
   ],
   "source": [
    "new_value = torch.randn(2, 3)\n",
    "t.a = new_value\n",
    "\n",
    "t"
   ]
  },
  {
   "cell_type": "code",
   "execution_count": 7,
   "id": "bbe04d1c",
   "metadata": {
    "execution": {
     "iopub.execute_input": "2023-02-25T06:50:23.092908Z",
     "iopub.status.busy": "2023-02-25T06:50:23.092576Z",
     "iopub.status.idle": "2023-02-25T06:50:28.220309Z",
     "shell.execute_reply": "2023-02-25T06:50:28.219597Z"
    }
   },
   "outputs": [
    {
     "name": "stdout",
     "output_type": "stream",
     "text": [
      "63.3 ns ± 0.0263 ns per loop (mean ± std. dev. of 7 runs, 10,000,000 loops each)\n"
     ]
    }
   ],
   "source": [
    "%timeit t.a = new_value"
   ]
  },
  {
   "cell_type": "markdown",
   "id": "48c49731",
   "metadata": {},
   "source": [
    "### Tianshou Batch's Get and Set"
   ]
  },
  {
   "cell_type": "code",
   "execution_count": 8,
   "id": "f1bb14c1",
   "metadata": {
    "execution": {
     "iopub.execute_input": "2023-02-25T06:50:28.223177Z",
     "iopub.status.busy": "2023-02-25T06:50:28.222647Z",
     "iopub.status.idle": "2023-02-25T06:50:28.548624Z",
     "shell.execute_reply": "2023-02-25T06:50:28.547967Z"
    }
   },
   "outputs": [],
   "source": [
    "from tianshou.data import Batch\n",
    "\n",
    "b = Batch(**_TREE_DATA_2)"
   ]
  },
  {
   "cell_type": "code",
   "execution_count": 9,
   "id": "cb0777c3",
   "metadata": {
    "execution": {
     "iopub.execute_input": "2023-02-25T06:50:28.551750Z",
     "iopub.status.busy": "2023-02-25T06:50:28.551247Z",
     "iopub.status.idle": "2023-02-25T06:50:28.557017Z",
     "shell.execute_reply": "2023-02-25T06:50:28.556469Z"
    }
   },
   "outputs": [
    {
     "data": {
      "text/plain": [
       "Batch(\n",
       "    a: tensor([[-0.6577,  1.1266,  0.0993],\n",
       "               [ 0.3576,  0.0851, -0.7748]]),\n",
       "    x: Batch(\n",
       "           c: tensor([[ 0.4248,  0.2888,  0.8925, -0.6063],\n",
       "                      [ 0.2922, -0.0568,  1.1804,  1.5707],\n",
       "                      [ 0.2536, -0.8390,  0.1134, -0.9493]]),\n",
       "       ),\n",
       ")"
      ]
     },
     "execution_count": 9,
     "metadata": {},
     "output_type": "execute_result"
    }
   ],
   "source": [
    "b"
   ]
  },
  {
   "cell_type": "code",
   "execution_count": 10,
   "id": "43ef8ea3",
   "metadata": {
    "execution": {
     "iopub.execute_input": "2023-02-25T06:50:28.559431Z",
     "iopub.status.busy": "2023-02-25T06:50:28.559126Z",
     "iopub.status.idle": "2023-02-25T06:50:28.563983Z",
     "shell.execute_reply": "2023-02-25T06:50:28.563365Z"
    }
   },
   "outputs": [
    {
     "data": {
      "text/plain": [
       "tensor([[-0.6577,  1.1266,  0.0993],\n",
       "        [ 0.3576,  0.0851, -0.7748]])"
      ]
     },
     "execution_count": 10,
     "metadata": {},
     "output_type": "execute_result"
    }
   ],
   "source": [
    "b.a"
   ]
  },
  {
   "cell_type": "code",
   "execution_count": 11,
   "id": "b785ab72",
   "metadata": {
    "execution": {
     "iopub.execute_input": "2023-02-25T06:50:28.566688Z",
     "iopub.status.busy": "2023-02-25T06:50:28.566211Z",
     "iopub.status.idle": "2023-02-25T06:50:33.070562Z",
     "shell.execute_reply": "2023-02-25T06:50:33.069864Z"
    }
   },
   "outputs": [
    {
     "name": "stdout",
     "output_type": "stream",
     "text": [
      "55.5 ns ± 0.0282 ns per loop (mean ± std. dev. of 7 runs, 10,000,000 loops each)\n"
     ]
    }
   ],
   "source": [
    "%timeit b.a"
   ]
  },
  {
   "cell_type": "code",
   "execution_count": 12,
   "id": "ad54dc69",
   "metadata": {
    "execution": {
     "iopub.execute_input": "2023-02-25T06:50:33.073750Z",
     "iopub.status.busy": "2023-02-25T06:50:33.073159Z",
     "iopub.status.idle": "2023-02-25T06:50:33.079538Z",
     "shell.execute_reply": "2023-02-25T06:50:33.078952Z"
    }
   },
   "outputs": [
    {
     "data": {
      "text/plain": [
       "Batch(\n",
       "    a: tensor([[-1.5104,  0.3684, -0.6002],\n",
       "               [ 0.2033,  0.6438, -0.3357]]),\n",
       "    x: Batch(\n",
       "           c: tensor([[ 0.4248,  0.2888,  0.8925, -0.6063],\n",
       "                      [ 0.2922, -0.0568,  1.1804,  1.5707],\n",
       "                      [ 0.2536, -0.8390,  0.1134, -0.9493]]),\n",
       "       ),\n",
       ")"
      ]
     },
     "execution_count": 12,
     "metadata": {},
     "output_type": "execute_result"
    }
   ],
   "source": [
    "new_value = torch.randn(2, 3)\n",
    "b.a = new_value\n",
    "\n",
    "b"
   ]
  },
  {
   "cell_type": "code",
   "execution_count": 13,
   "id": "29b1d0bf",
   "metadata": {
    "execution": {
     "iopub.execute_input": "2023-02-25T06:50:33.082130Z",
     "iopub.status.busy": "2023-02-25T06:50:33.081899Z",
     "iopub.status.idle": "2023-02-25T06:50:37.049635Z",
     "shell.execute_reply": "2023-02-25T06:50:37.048914Z"
    }
   },
   "outputs": [
    {
     "name": "stdout",
     "output_type": "stream",
     "text": [
      "488 ns ± 0.25 ns per loop (mean ± std. dev. of 7 runs, 1,000,000 loops each)\n"
     ]
    }
   ],
   "source": [
    "%timeit b.a = new_value"
   ]
  },
  {
   "cell_type": "markdown",
   "id": "b61ad1d0",
   "metadata": {},
   "source": [
    "## Initialization"
   ]
  },
  {
   "cell_type": "markdown",
   "id": "d70f0d54",
   "metadata": {},
   "source": [
    "### TreeValue's Initialization"
   ]
  },
  {
   "cell_type": "code",
   "execution_count": 14,
   "id": "d32a679b",
   "metadata": {
    "execution": {
     "iopub.execute_input": "2023-02-25T06:50:37.052888Z",
     "iopub.status.busy": "2023-02-25T06:50:37.052333Z",
     "iopub.status.idle": "2023-02-25T06:50:44.106214Z",
     "shell.execute_reply": "2023-02-25T06:50:44.105579Z"
    }
   },
   "outputs": [
    {
     "name": "stdout",
     "output_type": "stream",
     "text": [
      "869 ns ± 0.22 ns per loop (mean ± std. dev. of 7 runs, 1,000,000 loops each)\n"
     ]
    }
   ],
   "source": [
    "%timeit FastTreeValue(_TREE_DATA_1)"
   ]
  },
  {
   "cell_type": "markdown",
   "id": "24f3707b",
   "metadata": {},
   "source": [
    "### Tianshou Batch's Initialization"
   ]
  },
  {
   "cell_type": "code",
   "execution_count": 15,
   "id": "ac3958df",
   "metadata": {
    "execution": {
     "iopub.execute_input": "2023-02-25T06:50:44.109053Z",
     "iopub.status.busy": "2023-02-25T06:50:44.108523Z",
     "iopub.status.idle": "2023-02-25T06:50:53.387839Z",
     "shell.execute_reply": "2023-02-25T06:50:53.387101Z"
    }
   },
   "outputs": [
    {
     "name": "stdout",
     "output_type": "stream",
     "text": [
      "11.4 µs ± 33.1 ns per loop (mean ± std. dev. of 7 runs, 100,000 loops each)\n"
     ]
    }
   ],
   "source": [
    "%timeit Batch(**_TREE_DATA_1)"
   ]
  },
  {
   "cell_type": "markdown",
   "id": "1ab82e2d",
   "metadata": {},
   "source": [
    "## Deep Copy Operation"
   ]
  },
  {
   "cell_type": "code",
   "execution_count": 16,
   "id": "210a9442",
   "metadata": {
    "execution": {
     "iopub.execute_input": "2023-02-25T06:50:53.390972Z",
     "iopub.status.busy": "2023-02-25T06:50:53.390448Z",
     "iopub.status.idle": "2023-02-25T06:50:53.393950Z",
     "shell.execute_reply": "2023-02-25T06:50:53.393378Z"
    }
   },
   "outputs": [],
   "source": [
    "import copy"
   ]
  },
  {
   "cell_type": "markdown",
   "id": "5a736274",
   "metadata": {},
   "source": [
    "### Deep Copy of TreeValue"
   ]
  },
  {
   "cell_type": "code",
   "execution_count": 17,
   "id": "f9bcadd6",
   "metadata": {
    "execution": {
     "iopub.execute_input": "2023-02-25T06:50:53.396337Z",
     "iopub.status.busy": "2023-02-25T06:50:53.395995Z",
     "iopub.status.idle": "2023-02-25T06:51:04.452481Z",
     "shell.execute_reply": "2023-02-25T06:51:04.451925Z"
    }
   },
   "outputs": [
    {
     "name": "stdout",
     "output_type": "stream",
     "text": [
      "136 µs ± 243 ns per loop (mean ± std. dev. of 7 runs, 10,000 loops each)\n"
     ]
    }
   ],
   "source": [
    "t3 = FastTreeValue(_TREE_DATA_3)\n",
    "%timeit copy.deepcopy(t3)"
   ]
  },
  {
   "cell_type": "markdown",
   "id": "bf8be7ea",
   "metadata": {},
   "source": [
    "### Deep Copy of Tianshou Batch"
   ]
  },
  {
   "cell_type": "code",
   "execution_count": 18,
   "id": "91998e6f",
   "metadata": {
    "execution": {
     "iopub.execute_input": "2023-02-25T06:51:04.456401Z",
     "iopub.status.busy": "2023-02-25T06:51:04.455495Z",
     "iopub.status.idle": "2023-02-25T06:51:15.635725Z",
     "shell.execute_reply": "2023-02-25T06:51:15.635133Z"
    }
   },
   "outputs": [
    {
     "name": "stdout",
     "output_type": "stream",
     "text": [
      "138 µs ± 376 ns per loop (mean ± std. dev. of 7 runs, 10,000 loops each)\n"
     ]
    }
   ],
   "source": [
    "b3 = Batch(**_TREE_DATA_3)\n",
    "%timeit copy.deepcopy(b3)"
   ]
  },
  {
   "cell_type": "markdown",
   "id": "223162fb",
   "metadata": {},
   "source": [
    "## Stack, Concat and Split Operation"
   ]
  },
  {
   "cell_type": "markdown",
   "id": "85fa4a73",
   "metadata": {},
   "source": [
    "### Performance of TreeValue"
   ]
  },
  {
   "cell_type": "code",
   "execution_count": 19,
   "id": "a0c2b697",
   "metadata": {
    "execution": {
     "iopub.execute_input": "2023-02-25T06:51:15.639537Z",
     "iopub.status.busy": "2023-02-25T06:51:15.638589Z",
     "iopub.status.idle": "2023-02-25T06:51:15.642782Z",
     "shell.execute_reply": "2023-02-25T06:51:15.642269Z"
    }
   },
   "outputs": [],
   "source": [
    "trees = [FastTreeValue(_TREE_DATA_2) for _ in range(8)]"
   ]
  },
  {
   "cell_type": "code",
   "execution_count": 20,
   "id": "017ea5a5",
   "metadata": {
    "execution": {
     "iopub.execute_input": "2023-02-25T06:51:15.647271Z",
     "iopub.status.busy": "2023-02-25T06:51:15.645420Z",
     "iopub.status.idle": "2023-02-25T06:51:15.654046Z",
     "shell.execute_reply": "2023-02-25T06:51:15.653546Z"
    }
   },
   "outputs": [
    {
     "data": {
      "text/plain": [
       "<FastTreeValue 0x7fa1a571d880>\n",
       "├── 'a' --> tensor([[[-0.6577,  1.1266,  0.0993],\n",
       "│                    [ 0.3576,  0.0851, -0.7748]],\n",
       "│           \n",
       "│                   [[-0.6577,  1.1266,  0.0993],\n",
       "│                    [ 0.3576,  0.0851, -0.7748]],\n",
       "│           \n",
       "│                   [[-0.6577,  1.1266,  0.0993],\n",
       "│                    [ 0.3576,  0.0851, -0.7748]],\n",
       "│           \n",
       "│                   [[-0.6577,  1.1266,  0.0993],\n",
       "│                    [ 0.3576,  0.0851, -0.7748]],\n",
       "│           \n",
       "│                   [[-0.6577,  1.1266,  0.0993],\n",
       "│                    [ 0.3576,  0.0851, -0.7748]],\n",
       "│           \n",
       "│                   [[-0.6577,  1.1266,  0.0993],\n",
       "│                    [ 0.3576,  0.0851, -0.7748]],\n",
       "│           \n",
       "│                   [[-0.6577,  1.1266,  0.0993],\n",
       "│                    [ 0.3576,  0.0851, -0.7748]],\n",
       "│           \n",
       "│                   [[-0.6577,  1.1266,  0.0993],\n",
       "│                    [ 0.3576,  0.0851, -0.7748]]])\n",
       "└── 'x' --> <FastTreeValue 0x7fa1a571d310>\n",
       "    └── 'c' --> tensor([[[ 0.4248,  0.2888,  0.8925, -0.6063],\n",
       "                         [ 0.2922, -0.0568,  1.1804,  1.5707],\n",
       "                         [ 0.2536, -0.8390,  0.1134, -0.9493]],\n",
       "                \n",
       "                        [[ 0.4248,  0.2888,  0.8925, -0.6063],\n",
       "                         [ 0.2922, -0.0568,  1.1804,  1.5707],\n",
       "                         [ 0.2536, -0.8390,  0.1134, -0.9493]],\n",
       "                \n",
       "                        [[ 0.4248,  0.2888,  0.8925, -0.6063],\n",
       "                         [ 0.2922, -0.0568,  1.1804,  1.5707],\n",
       "                         [ 0.2536, -0.8390,  0.1134, -0.9493]],\n",
       "                \n",
       "                        [[ 0.4248,  0.2888,  0.8925, -0.6063],\n",
       "                         [ 0.2922, -0.0568,  1.1804,  1.5707],\n",
       "                         [ 0.2536, -0.8390,  0.1134, -0.9493]],\n",
       "                \n",
       "                        [[ 0.4248,  0.2888,  0.8925, -0.6063],\n",
       "                         [ 0.2922, -0.0568,  1.1804,  1.5707],\n",
       "                         [ 0.2536, -0.8390,  0.1134, -0.9493]],\n",
       "                \n",
       "                        [[ 0.4248,  0.2888,  0.8925, -0.6063],\n",
       "                         [ 0.2922, -0.0568,  1.1804,  1.5707],\n",
       "                         [ 0.2536, -0.8390,  0.1134, -0.9493]],\n",
       "                \n",
       "                        [[ 0.4248,  0.2888,  0.8925, -0.6063],\n",
       "                         [ 0.2922, -0.0568,  1.1804,  1.5707],\n",
       "                         [ 0.2536, -0.8390,  0.1134, -0.9493]],\n",
       "                \n",
       "                        [[ 0.4248,  0.2888,  0.8925, -0.6063],\n",
       "                         [ 0.2922, -0.0568,  1.1804,  1.5707],\n",
       "                         [ 0.2536, -0.8390,  0.1134, -0.9493]]])"
      ]
     },
     "execution_count": 20,
     "metadata": {},
     "output_type": "execute_result"
    }
   ],
   "source": [
    "t_stack = FastTreeValue.func(subside=True)(torch.stack)\n",
    "\n",
    "t_stack(trees)"
   ]
  },
  {
   "cell_type": "code",
   "execution_count": 21,
   "id": "f8b3f415",
   "metadata": {
    "execution": {
     "iopub.execute_input": "2023-02-25T06:51:15.656469Z",
     "iopub.status.busy": "2023-02-25T06:51:15.656094Z",
     "iopub.status.idle": "2023-02-25T06:51:18.264749Z",
     "shell.execute_reply": "2023-02-25T06:51:18.264061Z"
    }
   },
   "outputs": [
    {
     "name": "stdout",
     "output_type": "stream",
     "text": [
      "32.1 µs ± 30.8 ns per loop (mean ± std. dev. of 7 runs, 10,000 loops each)\n"
     ]
    }
   ],
   "source": [
    "%timeit t_stack(trees)"
   ]
  },
  {
   "cell_type": "code",
   "execution_count": 22,
   "id": "94b56771",
   "metadata": {
    "execution": {
     "iopub.execute_input": "2023-02-25T06:51:18.267683Z",
     "iopub.status.busy": "2023-02-25T06:51:18.267330Z",
     "iopub.status.idle": "2023-02-25T06:51:18.274979Z",
     "shell.execute_reply": "2023-02-25T06:51:18.274400Z"
    }
   },
   "outputs": [
    {
     "data": {
      "text/plain": [
       "<FastTreeValue 0x7fa1a573bf40>\n",
       "├── 'a' --> tensor([[-0.6577,  1.1266,  0.0993],\n",
       "│                   [ 0.3576,  0.0851, -0.7748],\n",
       "│                   [-0.6577,  1.1266,  0.0993],\n",
       "│                   [ 0.3576,  0.0851, -0.7748],\n",
       "│                   [-0.6577,  1.1266,  0.0993],\n",
       "│                   [ 0.3576,  0.0851, -0.7748],\n",
       "│                   [-0.6577,  1.1266,  0.0993],\n",
       "│                   [ 0.3576,  0.0851, -0.7748],\n",
       "│                   [-0.6577,  1.1266,  0.0993],\n",
       "│                   [ 0.3576,  0.0851, -0.7748],\n",
       "│                   [-0.6577,  1.1266,  0.0993],\n",
       "│                   [ 0.3576,  0.0851, -0.7748],\n",
       "│                   [-0.6577,  1.1266,  0.0993],\n",
       "│                   [ 0.3576,  0.0851, -0.7748],\n",
       "│                   [-0.6577,  1.1266,  0.0993],\n",
       "│                   [ 0.3576,  0.0851, -0.7748]])\n",
       "└── 'x' --> <FastTreeValue 0x7fa1a5d4f940>\n",
       "    └── 'c' --> tensor([[ 0.4248,  0.2888,  0.8925, -0.6063],\n",
       "                        [ 0.2922, -0.0568,  1.1804,  1.5707],\n",
       "                        [ 0.2536, -0.8390,  0.1134, -0.9493],\n",
       "                        [ 0.4248,  0.2888,  0.8925, -0.6063],\n",
       "                        [ 0.2922, -0.0568,  1.1804,  1.5707],\n",
       "                        [ 0.2536, -0.8390,  0.1134, -0.9493],\n",
       "                        [ 0.4248,  0.2888,  0.8925, -0.6063],\n",
       "                        [ 0.2922, -0.0568,  1.1804,  1.5707],\n",
       "                        [ 0.2536, -0.8390,  0.1134, -0.9493],\n",
       "                        [ 0.4248,  0.2888,  0.8925, -0.6063],\n",
       "                        [ 0.2922, -0.0568,  1.1804,  1.5707],\n",
       "                        [ 0.2536, -0.8390,  0.1134, -0.9493],\n",
       "                        [ 0.4248,  0.2888,  0.8925, -0.6063],\n",
       "                        [ 0.2922, -0.0568,  1.1804,  1.5707],\n",
       "                        [ 0.2536, -0.8390,  0.1134, -0.9493],\n",
       "                        [ 0.4248,  0.2888,  0.8925, -0.6063],\n",
       "                        [ 0.2922, -0.0568,  1.1804,  1.5707],\n",
       "                        [ 0.2536, -0.8390,  0.1134, -0.9493],\n",
       "                        [ 0.4248,  0.2888,  0.8925, -0.6063],\n",
       "                        [ 0.2922, -0.0568,  1.1804,  1.5707],\n",
       "                        [ 0.2536, -0.8390,  0.1134, -0.9493],\n",
       "                        [ 0.4248,  0.2888,  0.8925, -0.6063],\n",
       "                        [ 0.2922, -0.0568,  1.1804,  1.5707],\n",
       "                        [ 0.2536, -0.8390,  0.1134, -0.9493]])"
      ]
     },
     "execution_count": 22,
     "metadata": {},
     "output_type": "execute_result"
    }
   ],
   "source": [
    "t_cat = FastTreeValue.func(subside=True)(torch.cat)\n",
    "\n",
    "t_cat(trees)"
   ]
  },
  {
   "cell_type": "code",
   "execution_count": 23,
   "id": "5e9c06a6",
   "metadata": {
    "execution": {
     "iopub.execute_input": "2023-02-25T06:51:18.277619Z",
     "iopub.status.busy": "2023-02-25T06:51:18.277186Z",
     "iopub.status.idle": "2023-02-25T06:51:20.722204Z",
     "shell.execute_reply": "2023-02-25T06:51:20.721560Z"
    }
   },
   "outputs": [
    {
     "name": "stdout",
     "output_type": "stream",
     "text": [
      "30.1 µs ± 63.9 ns per loop (mean ± std. dev. of 7 runs, 10,000 loops each)\n"
     ]
    }
   ],
   "source": [
    "%timeit t_cat(trees)"
   ]
  },
  {
   "cell_type": "code",
   "execution_count": 24,
   "id": "a3ab5c8f",
   "metadata": {
    "execution": {
     "iopub.execute_input": "2023-02-25T06:51:20.725238Z",
     "iopub.status.busy": "2023-02-25T06:51:20.724713Z",
     "iopub.status.idle": "2023-02-25T06:51:25.625187Z",
     "shell.execute_reply": "2023-02-25T06:51:25.624434Z"
    }
   },
   "outputs": [
    {
     "name": "stdout",
     "output_type": "stream",
     "text": [
      "60.3 µs ± 182 ns per loop (mean ± std. dev. of 7 runs, 10,000 loops each)\n"
     ]
    }
   ],
   "source": [
    "t_split = FastTreeValue.func(rise=True)(torch.split)\n",
    "tree = FastTreeValue({\n",
    "    'obs': torch.randn(8, 4, 84, 84),\n",
    "    'action': torch.randint(0, 6, size=(8, 1,)),\n",
    "    'reward': torch.rand(8, 1),\n",
    "})\n",
    "\n",
    "%timeit t_split(tree, 1)"
   ]
  },
  {
   "cell_type": "markdown",
   "id": "31c3ec0b",
   "metadata": {},
   "source": [
    "### Performance of Tianshou Batch"
   ]
  },
  {
   "cell_type": "code",
   "execution_count": 25,
   "id": "9ead828a",
   "metadata": {
    "execution": {
     "iopub.execute_input": "2023-02-25T06:51:25.628048Z",
     "iopub.status.busy": "2023-02-25T06:51:25.627691Z",
     "iopub.status.idle": "2023-02-25T06:51:25.635996Z",
     "shell.execute_reply": "2023-02-25T06:51:25.635415Z"
    }
   },
   "outputs": [
    {
     "data": {
      "text/plain": [
       "Batch(\n",
       "    a: tensor([[[-0.6577,  1.1266,  0.0993],\n",
       "                [ 0.3576,  0.0851, -0.7748]],\n",
       "       \n",
       "               [[-0.6577,  1.1266,  0.0993],\n",
       "                [ 0.3576,  0.0851, -0.7748]],\n",
       "       \n",
       "               [[-0.6577,  1.1266,  0.0993],\n",
       "                [ 0.3576,  0.0851, -0.7748]],\n",
       "       \n",
       "               [[-0.6577,  1.1266,  0.0993],\n",
       "                [ 0.3576,  0.0851, -0.7748]],\n",
       "       \n",
       "               [[-0.6577,  1.1266,  0.0993],\n",
       "                [ 0.3576,  0.0851, -0.7748]],\n",
       "       \n",
       "               [[-0.6577,  1.1266,  0.0993],\n",
       "                [ 0.3576,  0.0851, -0.7748]],\n",
       "       \n",
       "               [[-0.6577,  1.1266,  0.0993],\n",
       "                [ 0.3576,  0.0851, -0.7748]],\n",
       "       \n",
       "               [[-0.6577,  1.1266,  0.0993],\n",
       "                [ 0.3576,  0.0851, -0.7748]]]),\n",
       "    x: Batch(\n",
       "           c: tensor([[[ 0.4248,  0.2888,  0.8925, -0.6063],\n",
       "                       [ 0.2922, -0.0568,  1.1804,  1.5707],\n",
       "                       [ 0.2536, -0.8390,  0.1134, -0.9493]],\n",
       "              \n",
       "                      [[ 0.4248,  0.2888,  0.8925, -0.6063],\n",
       "                       [ 0.2922, -0.0568,  1.1804,  1.5707],\n",
       "                       [ 0.2536, -0.8390,  0.1134, -0.9493]],\n",
       "              \n",
       "                      [[ 0.4248,  0.2888,  0.8925, -0.6063],\n",
       "                       [ 0.2922, -0.0568,  1.1804,  1.5707],\n",
       "                       [ 0.2536, -0.8390,  0.1134, -0.9493]],\n",
       "              \n",
       "                      [[ 0.4248,  0.2888,  0.8925, -0.6063],\n",
       "                       [ 0.2922, -0.0568,  1.1804,  1.5707],\n",
       "                       [ 0.2536, -0.8390,  0.1134, -0.9493]],\n",
       "              \n",
       "                      [[ 0.4248,  0.2888,  0.8925, -0.6063],\n",
       "                       [ 0.2922, -0.0568,  1.1804,  1.5707],\n",
       "                       [ 0.2536, -0.8390,  0.1134, -0.9493]],\n",
       "              \n",
       "                      [[ 0.4248,  0.2888,  0.8925, -0.6063],\n",
       "                       [ 0.2922, -0.0568,  1.1804,  1.5707],\n",
       "                       [ 0.2536, -0.8390,  0.1134, -0.9493]],\n",
       "              \n",
       "                      [[ 0.4248,  0.2888,  0.8925, -0.6063],\n",
       "                       [ 0.2922, -0.0568,  1.1804,  1.5707],\n",
       "                       [ 0.2536, -0.8390,  0.1134, -0.9493]],\n",
       "              \n",
       "                      [[ 0.4248,  0.2888,  0.8925, -0.6063],\n",
       "                       [ 0.2922, -0.0568,  1.1804,  1.5707],\n",
       "                       [ 0.2536, -0.8390,  0.1134, -0.9493]]]),\n",
       "       ),\n",
       ")"
      ]
     },
     "execution_count": 25,
     "metadata": {},
     "output_type": "execute_result"
    }
   ],
   "source": [
    "batches = [Batch(**_TREE_DATA_2) for _ in range(8)]\n",
    "\n",
    "Batch.stack(batches)"
   ]
  },
  {
   "cell_type": "code",
   "execution_count": 26,
   "id": "ec9037a3",
   "metadata": {
    "execution": {
     "iopub.execute_input": "2023-02-25T06:51:25.638415Z",
     "iopub.status.busy": "2023-02-25T06:51:25.638067Z",
     "iopub.status.idle": "2023-02-25T06:51:31.987264Z",
     "shell.execute_reply": "2023-02-25T06:51:31.986492Z"
    }
   },
   "outputs": [
    {
     "name": "stdout",
     "output_type": "stream",
     "text": [
      "78.1 µs ± 88.7 ns per loop (mean ± std. dev. of 7 runs, 10,000 loops each)\n"
     ]
    }
   ],
   "source": [
    "%timeit Batch.stack(batches)"
   ]
  },
  {
   "cell_type": "code",
   "execution_count": 27,
   "id": "cb8ab77e",
   "metadata": {
    "execution": {
     "iopub.execute_input": "2023-02-25T06:51:31.990005Z",
     "iopub.status.busy": "2023-02-25T06:51:31.989663Z",
     "iopub.status.idle": "2023-02-25T06:51:31.997020Z",
     "shell.execute_reply": "2023-02-25T06:51:31.996437Z"
    }
   },
   "outputs": [
    {
     "data": {
      "text/plain": [
       "Batch(\n",
       "    a: tensor([[-0.6577,  1.1266,  0.0993],\n",
       "               [ 0.3576,  0.0851, -0.7748],\n",
       "               [-0.6577,  1.1266,  0.0993],\n",
       "               [ 0.3576,  0.0851, -0.7748],\n",
       "               [-0.6577,  1.1266,  0.0993],\n",
       "               [ 0.3576,  0.0851, -0.7748],\n",
       "               [-0.6577,  1.1266,  0.0993],\n",
       "               [ 0.3576,  0.0851, -0.7748],\n",
       "               [-0.6577,  1.1266,  0.0993],\n",
       "               [ 0.3576,  0.0851, -0.7748],\n",
       "               [-0.6577,  1.1266,  0.0993],\n",
       "               [ 0.3576,  0.0851, -0.7748],\n",
       "               [-0.6577,  1.1266,  0.0993],\n",
       "               [ 0.3576,  0.0851, -0.7748],\n",
       "               [-0.6577,  1.1266,  0.0993],\n",
       "               [ 0.3576,  0.0851, -0.7748]]),\n",
       "    x: Batch(\n",
       "           c: tensor([[ 0.4248,  0.2888,  0.8925, -0.6063],\n",
       "                      [ 0.2922, -0.0568,  1.1804,  1.5707],\n",
       "                      [ 0.2536, -0.8390,  0.1134, -0.9493],\n",
       "                      [ 0.4248,  0.2888,  0.8925, -0.6063],\n",
       "                      [ 0.2922, -0.0568,  1.1804,  1.5707],\n",
       "                      [ 0.2536, -0.8390,  0.1134, -0.9493],\n",
       "                      [ 0.4248,  0.2888,  0.8925, -0.6063],\n",
       "                      [ 0.2922, -0.0568,  1.1804,  1.5707],\n",
       "                      [ 0.2536, -0.8390,  0.1134, -0.9493],\n",
       "                      [ 0.4248,  0.2888,  0.8925, -0.6063],\n",
       "                      [ 0.2922, -0.0568,  1.1804,  1.5707],\n",
       "                      [ 0.2536, -0.8390,  0.1134, -0.9493],\n",
       "                      [ 0.4248,  0.2888,  0.8925, -0.6063],\n",
       "                      [ 0.2922, -0.0568,  1.1804,  1.5707],\n",
       "                      [ 0.2536, -0.8390,  0.1134, -0.9493],\n",
       "                      [ 0.4248,  0.2888,  0.8925, -0.6063],\n",
       "                      [ 0.2922, -0.0568,  1.1804,  1.5707],\n",
       "                      [ 0.2536, -0.8390,  0.1134, -0.9493],\n",
       "                      [ 0.4248,  0.2888,  0.8925, -0.6063],\n",
       "                      [ 0.2922, -0.0568,  1.1804,  1.5707],\n",
       "                      [ 0.2536, -0.8390,  0.1134, -0.9493],\n",
       "                      [ 0.4248,  0.2888,  0.8925, -0.6063],\n",
       "                      [ 0.2922, -0.0568,  1.1804,  1.5707],\n",
       "                      [ 0.2536, -0.8390,  0.1134, -0.9493]]),\n",
       "       ),\n",
       ")"
      ]
     },
     "execution_count": 27,
     "metadata": {},
     "output_type": "execute_result"
    }
   ],
   "source": [
    "Batch.cat(batches)"
   ]
  },
  {
   "cell_type": "code",
   "execution_count": 28,
   "id": "18dfb045",
   "metadata": {
    "execution": {
     "iopub.execute_input": "2023-02-25T06:51:31.999400Z",
     "iopub.status.busy": "2023-02-25T06:51:31.999036Z",
     "iopub.status.idle": "2023-02-25T06:51:43.828123Z",
     "shell.execute_reply": "2023-02-25T06:51:43.827466Z"
    }
   },
   "outputs": [
    {
     "name": "stdout",
     "output_type": "stream",
     "text": [
      "146 µs ± 203 ns per loop (mean ± std. dev. of 7 runs, 10,000 loops each)\n"
     ]
    }
   ],
   "source": [
    "%timeit Batch.cat(batches)"
   ]
  },
  {
   "cell_type": "code",
   "execution_count": 29,
   "id": "c6688e51",
   "metadata": {
    "execution": {
     "iopub.execute_input": "2023-02-25T06:51:43.830870Z",
     "iopub.status.busy": "2023-02-25T06:51:43.830354Z",
     "iopub.status.idle": "2023-02-25T06:51:46.380650Z",
     "shell.execute_reply": "2023-02-25T06:51:46.379972Z"
    }
   },
   "outputs": [
    {
     "name": "stdout",
     "output_type": "stream",
     "text": [
      "312 µs ± 1.39 µs per loop (mean ± std. dev. of 7 runs, 1,000 loops each)\n"
     ]
    }
   ],
   "source": [
    "batch = Batch({\n",
    "    'obs': torch.randn(8, 4, 84, 84),\n",
    "    'action': torch.randint(0, 6, size=(8, 1,)),\n",
    "    'reward': torch.rand(8, 1)}\n",
    ")\n",
    "\n",
    "%timeit list(Batch.split(batch, 1, shuffle=False, merge_last=True))"
   ]
  },
  {
   "cell_type": "code",
   "execution_count": null,
   "id": "2539fbd9",
   "metadata": {},
   "outputs": [],
   "source": []
  }
 ],
 "metadata": {
  "kernelspec": {
   "display_name": "Python 3 (ipykernel)",
   "language": "python",
   "name": "python3"
  },
  "language_info": {
   "codemirror_mode": {
    "name": "ipython",
    "version": 3
   },
   "file_extension": ".py",
   "mimetype": "text/x-python",
   "name": "python",
   "nbconvert_exporter": "python",
   "pygments_lexer": "ipython3",
   "version": "3.8.16"
  }
 },
 "nbformat": 4,
 "nbformat_minor": 5
}
