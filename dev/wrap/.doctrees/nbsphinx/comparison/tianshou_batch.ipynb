{
 "cells": [
  {
   "cell_type": "markdown",
   "id": "9d39d946",
   "metadata": {},
   "source": [
    "# Comparison Between TreeValue and Tianshou Batch"
   ]
  },
  {
   "cell_type": "markdown",
   "id": "3c6db2d4",
   "metadata": {},
   "source": [
    "In this section, we will take a look at the feature and performance of the [Tianshou Batch](https://github.com/thu-ml/tianshou) library, which is developed by Tsinghua Machine Learning Group."
   ]
  },
  {
   "cell_type": "markdown",
   "id": "069361b0",
   "metadata": {},
   "source": [
    "Before starting the comparison, let us define some thing."
   ]
  },
  {
   "cell_type": "code",
   "execution_count": 1,
   "id": "06fc8d26",
   "metadata": {
    "execution": {
     "iopub.execute_input": "2023-02-28T05:56:29.089052Z",
     "iopub.status.busy": "2023-02-28T05:56:29.088790Z",
     "iopub.status.idle": "2023-02-28T05:56:30.023863Z",
     "shell.execute_reply": "2023-02-28T05:56:30.023139Z"
    }
   },
   "outputs": [
    {
     "name": "stderr",
     "output_type": "stream",
     "text": [
      "/opt/hostedtoolcache/Python/3.8.16/x64/lib/python3.8/site-packages/tqdm/auto.py:22: TqdmWarning: IProgress not found. Please update jupyter and ipywidgets. See https://ipywidgets.readthedocs.io/en/stable/user_install.html\n",
      "  from .autonotebook import tqdm as notebook_tqdm\n"
     ]
    }
   ],
   "source": [
    "import torch \n",
    "\n",
    "_TREE_DATA_1 = {'a': 1, 'b': 2, 'x': {'c': 3, 'd': 4}}\n",
    "_TREE_DATA_2 = {\n",
    "    'a': torch.randn(2, 3), \n",
    "    'x': {\n",
    "        'c': torch.randn(3, 4)\n",
    "    },\n",
    "}\n",
    "_TREE_DATA_3 = {\n",
    "    'obs': torch.randn(4, 84, 84),\n",
    "    'action': torch.randint(0, 6, size=(1,)),\n",
    "    'reward': torch.rand(1),\n",
    "}"
   ]
  },
  {
   "cell_type": "markdown",
   "id": "83461b25",
   "metadata": {},
   "source": [
    "## Read and Write Operation"
   ]
  },
  {
   "cell_type": "markdown",
   "id": "067b3f73",
   "metadata": {},
   "source": [
    "Reading and writing are the two most common operations in the tree data structure based on the data model (TreeValue and Tianshou Batch both belong to this type), so this section will compare the reading and writing performance of these two libraries."
   ]
  },
  {
   "cell_type": "markdown",
   "id": "5d09a5b7",
   "metadata": {},
   "source": [
    "### TreeValue's Get and Set"
   ]
  },
  {
   "cell_type": "code",
   "execution_count": 2,
   "id": "9519c4bb",
   "metadata": {
    "execution": {
     "iopub.execute_input": "2023-02-28T05:56:30.027361Z",
     "iopub.status.busy": "2023-02-28T05:56:30.026918Z",
     "iopub.status.idle": "2023-02-28T05:56:30.313498Z",
     "shell.execute_reply": "2023-02-28T05:56:30.312457Z"
    }
   },
   "outputs": [],
   "source": [
    "from treevalue import FastTreeValue\n",
    "\n",
    "t = FastTreeValue(_TREE_DATA_2)"
   ]
  },
  {
   "cell_type": "code",
   "execution_count": 3,
   "id": "11c37677",
   "metadata": {
    "execution": {
     "iopub.execute_input": "2023-02-28T05:56:30.317003Z",
     "iopub.status.busy": "2023-02-28T05:56:30.316550Z",
     "iopub.status.idle": "2023-02-28T05:56:30.327193Z",
     "shell.execute_reply": "2023-02-28T05:56:30.326427Z"
    }
   },
   "outputs": [
    {
     "data": {
      "text/plain": [
       "<FastTreeValue 0x7f9fa0421cd0>\n",
       "├── 'a' --> tensor([[-1.3318,  0.9827, -1.0321],\n",
       "│                   [-0.0648,  0.0106,  0.7378]])\n",
       "└── 'x' --> <FastTreeValue 0x7f9fa0421760>\n",
       "    └── 'c' --> tensor([[ 0.4494, -0.3140, -0.2337,  0.3891],\n",
       "                        [-1.7179,  0.2020,  1.1379,  0.4808],\n",
       "                        [-0.0093, -2.0655,  1.6609, -0.5265]])"
      ]
     },
     "execution_count": 3,
     "metadata": {},
     "output_type": "execute_result"
    }
   ],
   "source": [
    "t"
   ]
  },
  {
   "cell_type": "code",
   "execution_count": 4,
   "id": "fd70b0b9",
   "metadata": {
    "execution": {
     "iopub.execute_input": "2023-02-28T05:56:30.329965Z",
     "iopub.status.busy": "2023-02-28T05:56:30.329647Z",
     "iopub.status.idle": "2023-02-28T05:56:30.336224Z",
     "shell.execute_reply": "2023-02-28T05:56:30.335210Z"
    }
   },
   "outputs": [
    {
     "data": {
      "text/plain": [
       "tensor([[-1.3318,  0.9827, -1.0321],\n",
       "        [-0.0648,  0.0106,  0.7378]])"
      ]
     },
     "execution_count": 4,
     "metadata": {},
     "output_type": "execute_result"
    }
   ],
   "source": [
    "t.a"
   ]
  },
  {
   "cell_type": "code",
   "execution_count": 5,
   "id": "c18197bd",
   "metadata": {
    "execution": {
     "iopub.execute_input": "2023-02-28T05:56:30.338595Z",
     "iopub.status.busy": "2023-02-28T05:56:30.338253Z",
     "iopub.status.idle": "2023-02-28T05:56:35.425551Z",
     "shell.execute_reply": "2023-02-28T05:56:35.424703Z"
    }
   },
   "outputs": [
    {
     "name": "stdout",
     "output_type": "stream",
     "text": [
      "62.6 ns ± 0.172 ns per loop (mean ± std. dev. of 7 runs, 10,000,000 loops each)\n"
     ]
    }
   ],
   "source": [
    "%timeit t.a"
   ]
  },
  {
   "cell_type": "code",
   "execution_count": 6,
   "id": "bd52f867",
   "metadata": {
    "execution": {
     "iopub.execute_input": "2023-02-28T05:56:35.428892Z",
     "iopub.status.busy": "2023-02-28T05:56:35.428649Z",
     "iopub.status.idle": "2023-02-28T05:56:35.435464Z",
     "shell.execute_reply": "2023-02-28T05:56:35.434647Z"
    }
   },
   "outputs": [
    {
     "data": {
      "text/plain": [
       "<FastTreeValue 0x7f9fa0421cd0>\n",
       "├── 'a' --> tensor([[ 0.8381,  1.9364,  1.0099],\n",
       "│                   [-0.2453, -0.0662, -0.8854]])\n",
       "└── 'x' --> <FastTreeValue 0x7f9fa0421760>\n",
       "    └── 'c' --> tensor([[ 0.4494, -0.3140, -0.2337,  0.3891],\n",
       "                        [-1.7179,  0.2020,  1.1379,  0.4808],\n",
       "                        [-0.0093, -2.0655,  1.6609, -0.5265]])"
      ]
     },
     "execution_count": 6,
     "metadata": {},
     "output_type": "execute_result"
    }
   ],
   "source": [
    "new_value = torch.randn(2, 3)\n",
    "t.a = new_value\n",
    "\n",
    "t"
   ]
  },
  {
   "cell_type": "code",
   "execution_count": 7,
   "id": "bbe04d1c",
   "metadata": {
    "execution": {
     "iopub.execute_input": "2023-02-28T05:56:35.438174Z",
     "iopub.status.busy": "2023-02-28T05:56:35.437837Z",
     "iopub.status.idle": "2023-02-28T05:56:40.820388Z",
     "shell.execute_reply": "2023-02-28T05:56:40.819528Z"
    }
   },
   "outputs": [
    {
     "name": "stdout",
     "output_type": "stream",
     "text": [
      "66.3 ns ± 0.126 ns per loop (mean ± std. dev. of 7 runs, 10,000,000 loops each)\n"
     ]
    }
   ],
   "source": [
    "%timeit t.a = new_value"
   ]
  },
  {
   "cell_type": "markdown",
   "id": "48c49731",
   "metadata": {},
   "source": [
    "### Tianshou Batch's Get and Set"
   ]
  },
  {
   "cell_type": "code",
   "execution_count": 8,
   "id": "f1bb14c1",
   "metadata": {
    "execution": {
     "iopub.execute_input": "2023-02-28T05:56:40.824086Z",
     "iopub.status.busy": "2023-02-28T05:56:40.823419Z",
     "iopub.status.idle": "2023-02-28T05:56:41.171013Z",
     "shell.execute_reply": "2023-02-28T05:56:41.169803Z"
    }
   },
   "outputs": [],
   "source": [
    "from tianshou.data import Batch\n",
    "\n",
    "b = Batch(**_TREE_DATA_2)"
   ]
  },
  {
   "cell_type": "code",
   "execution_count": 9,
   "id": "cb0777c3",
   "metadata": {
    "execution": {
     "iopub.execute_input": "2023-02-28T05:56:41.174358Z",
     "iopub.status.busy": "2023-02-28T05:56:41.173889Z",
     "iopub.status.idle": "2023-02-28T05:56:41.179690Z",
     "shell.execute_reply": "2023-02-28T05:56:41.179019Z"
    }
   },
   "outputs": [
    {
     "data": {
      "text/plain": [
       "Batch(\n",
       "    a: tensor([[-1.3318,  0.9827, -1.0321],\n",
       "               [-0.0648,  0.0106,  0.7378]]),\n",
       "    x: Batch(\n",
       "           c: tensor([[ 0.4494, -0.3140, -0.2337,  0.3891],\n",
       "                      [-1.7179,  0.2020,  1.1379,  0.4808],\n",
       "                      [-0.0093, -2.0655,  1.6609, -0.5265]]),\n",
       "       ),\n",
       ")"
      ]
     },
     "execution_count": 9,
     "metadata": {},
     "output_type": "execute_result"
    }
   ],
   "source": [
    "b"
   ]
  },
  {
   "cell_type": "code",
   "execution_count": 10,
   "id": "43ef8ea3",
   "metadata": {
    "execution": {
     "iopub.execute_input": "2023-02-28T05:56:41.182423Z",
     "iopub.status.busy": "2023-02-28T05:56:41.181897Z",
     "iopub.status.idle": "2023-02-28T05:56:41.186761Z",
     "shell.execute_reply": "2023-02-28T05:56:41.186125Z"
    }
   },
   "outputs": [
    {
     "data": {
      "text/plain": [
       "tensor([[-1.3318,  0.9827, -1.0321],\n",
       "        [-0.0648,  0.0106,  0.7378]])"
      ]
     },
     "execution_count": 10,
     "metadata": {},
     "output_type": "execute_result"
    }
   ],
   "source": [
    "b.a"
   ]
  },
  {
   "cell_type": "code",
   "execution_count": 11,
   "id": "b785ab72",
   "metadata": {
    "execution": {
     "iopub.execute_input": "2023-02-28T05:56:41.189213Z",
     "iopub.status.busy": "2023-02-28T05:56:41.188870Z",
     "iopub.status.idle": "2023-02-28T05:56:46.074818Z",
     "shell.execute_reply": "2023-02-28T05:56:46.073970Z"
    }
   },
   "outputs": [
    {
     "name": "stdout",
     "output_type": "stream",
     "text": [
      "60.3 ns ± 0.0343 ns per loop (mean ± std. dev. of 7 runs, 10,000,000 loops each)\n"
     ]
    }
   ],
   "source": [
    "%timeit b.a"
   ]
  },
  {
   "cell_type": "code",
   "execution_count": 12,
   "id": "ad54dc69",
   "metadata": {
    "execution": {
     "iopub.execute_input": "2023-02-28T05:56:46.078010Z",
     "iopub.status.busy": "2023-02-28T05:56:46.077602Z",
     "iopub.status.idle": "2023-02-28T05:56:46.084591Z",
     "shell.execute_reply": "2023-02-28T05:56:46.083845Z"
    }
   },
   "outputs": [
    {
     "data": {
      "text/plain": [
       "Batch(\n",
       "    a: tensor([[-1.2537,  1.0353,  0.6541],\n",
       "               [-0.8020, -0.6218,  0.2179]]),\n",
       "    x: Batch(\n",
       "           c: tensor([[ 0.4494, -0.3140, -0.2337,  0.3891],\n",
       "                      [-1.7179,  0.2020,  1.1379,  0.4808],\n",
       "                      [-0.0093, -2.0655,  1.6609, -0.5265]]),\n",
       "       ),\n",
       ")"
      ]
     },
     "execution_count": 12,
     "metadata": {},
     "output_type": "execute_result"
    }
   ],
   "source": [
    "new_value = torch.randn(2, 3)\n",
    "b.a = new_value\n",
    "\n",
    "b"
   ]
  },
  {
   "cell_type": "code",
   "execution_count": 13,
   "id": "29b1d0bf",
   "metadata": {
    "execution": {
     "iopub.execute_input": "2023-02-28T05:56:46.087615Z",
     "iopub.status.busy": "2023-02-28T05:56:46.087065Z",
     "iopub.status.idle": "2023-02-28T05:56:50.076671Z",
     "shell.execute_reply": "2023-02-28T05:56:50.075792Z"
    }
   },
   "outputs": [
    {
     "name": "stdout",
     "output_type": "stream",
     "text": [
      "491 ns ± 0.0574 ns per loop (mean ± std. dev. of 7 runs, 1,000,000 loops each)\n"
     ]
    }
   ],
   "source": [
    "%timeit b.a = new_value"
   ]
  },
  {
   "cell_type": "markdown",
   "id": "b61ad1d0",
   "metadata": {},
   "source": [
    "## Initialization"
   ]
  },
  {
   "cell_type": "markdown",
   "id": "d70f0d54",
   "metadata": {},
   "source": [
    "### TreeValue's Initialization"
   ]
  },
  {
   "cell_type": "code",
   "execution_count": 14,
   "id": "d32a679b",
   "metadata": {
    "execution": {
     "iopub.execute_input": "2023-02-28T05:56:50.079827Z",
     "iopub.status.busy": "2023-02-28T05:56:50.079453Z",
     "iopub.status.idle": "2023-02-28T05:56:56.786826Z",
     "shell.execute_reply": "2023-02-28T05:56:56.785979Z"
    }
   },
   "outputs": [
    {
     "name": "stdout",
     "output_type": "stream",
     "text": [
      "827 ns ± 0.929 ns per loop (mean ± std. dev. of 7 runs, 1,000,000 loops each)\n"
     ]
    }
   ],
   "source": [
    "%timeit FastTreeValue(_TREE_DATA_1)"
   ]
  },
  {
   "cell_type": "markdown",
   "id": "24f3707b",
   "metadata": {},
   "source": [
    "### Tianshou Batch's Initialization"
   ]
  },
  {
   "cell_type": "code",
   "execution_count": 15,
   "id": "ac3958df",
   "metadata": {
    "execution": {
     "iopub.execute_input": "2023-02-28T05:56:56.790354Z",
     "iopub.status.busy": "2023-02-28T05:56:56.789617Z",
     "iopub.status.idle": "2023-02-28T05:57:05.560625Z",
     "shell.execute_reply": "2023-02-28T05:57:05.559831Z"
    }
   },
   "outputs": [
    {
     "name": "stdout",
     "output_type": "stream",
     "text": [
      "10.8 µs ± 15 ns per loop (mean ± std. dev. of 7 runs, 100,000 loops each)\n"
     ]
    }
   ],
   "source": [
    "%timeit Batch(**_TREE_DATA_1)"
   ]
  },
  {
   "cell_type": "markdown",
   "id": "1ab82e2d",
   "metadata": {},
   "source": [
    "## Deep Copy Operation"
   ]
  },
  {
   "cell_type": "code",
   "execution_count": 16,
   "id": "210a9442",
   "metadata": {
    "execution": {
     "iopub.execute_input": "2023-02-28T05:57:05.563804Z",
     "iopub.status.busy": "2023-02-28T05:57:05.563372Z",
     "iopub.status.idle": "2023-02-28T05:57:05.567438Z",
     "shell.execute_reply": "2023-02-28T05:57:05.566835Z"
    }
   },
   "outputs": [],
   "source": [
    "import copy"
   ]
  },
  {
   "cell_type": "markdown",
   "id": "5a736274",
   "metadata": {},
   "source": [
    "### Deep Copy of TreeValue"
   ]
  },
  {
   "cell_type": "code",
   "execution_count": 17,
   "id": "f9bcadd6",
   "metadata": {
    "execution": {
     "iopub.execute_input": "2023-02-28T05:57:05.570174Z",
     "iopub.status.busy": "2023-02-28T05:57:05.569764Z",
     "iopub.status.idle": "2023-02-28T05:57:17.123598Z",
     "shell.execute_reply": "2023-02-28T05:57:17.122942Z"
    }
   },
   "outputs": [
    {
     "name": "stdout",
     "output_type": "stream",
     "text": [
      "142 µs ± 1.12 µs per loop (mean ± std. dev. of 7 runs, 10,000 loops each)\n"
     ]
    }
   ],
   "source": [
    "t3 = FastTreeValue(_TREE_DATA_3)\n",
    "%timeit copy.deepcopy(t3)"
   ]
  },
  {
   "cell_type": "markdown",
   "id": "bf8be7ea",
   "metadata": {},
   "source": [
    "### Deep Copy of Tianshou Batch"
   ]
  },
  {
   "cell_type": "code",
   "execution_count": 18,
   "id": "91998e6f",
   "metadata": {
    "execution": {
     "iopub.execute_input": "2023-02-28T05:57:17.126619Z",
     "iopub.status.busy": "2023-02-28T05:57:17.126211Z",
     "iopub.status.idle": "2023-02-28T05:57:28.695987Z",
     "shell.execute_reply": "2023-02-28T05:57:28.695218Z"
    }
   },
   "outputs": [
    {
     "name": "stdout",
     "output_type": "stream",
     "text": [
      "143 µs ± 1.14 µs per loop (mean ± std. dev. of 7 runs, 10,000 loops each)\n"
     ]
    }
   ],
   "source": [
    "b3 = Batch(**_TREE_DATA_3)\n",
    "%timeit copy.deepcopy(b3)"
   ]
  },
  {
   "cell_type": "markdown",
   "id": "223162fb",
   "metadata": {},
   "source": [
    "## Stack, Concat and Split Operation"
   ]
  },
  {
   "cell_type": "markdown",
   "id": "85fa4a73",
   "metadata": {},
   "source": [
    "### Performance of TreeValue"
   ]
  },
  {
   "cell_type": "code",
   "execution_count": 19,
   "id": "a0c2b697",
   "metadata": {
    "execution": {
     "iopub.execute_input": "2023-02-28T05:57:28.699561Z",
     "iopub.status.busy": "2023-02-28T05:57:28.698987Z",
     "iopub.status.idle": "2023-02-28T05:57:28.702615Z",
     "shell.execute_reply": "2023-02-28T05:57:28.701947Z"
    }
   },
   "outputs": [],
   "source": [
    "trees = [FastTreeValue(_TREE_DATA_2) for _ in range(8)]"
   ]
  },
  {
   "cell_type": "code",
   "execution_count": 20,
   "id": "017ea5a5",
   "metadata": {
    "execution": {
     "iopub.execute_input": "2023-02-28T05:57:28.705367Z",
     "iopub.status.busy": "2023-02-28T05:57:28.704947Z",
     "iopub.status.idle": "2023-02-28T05:57:28.713073Z",
     "shell.execute_reply": "2023-02-28T05:57:28.712478Z"
    }
   },
   "outputs": [
    {
     "data": {
      "text/plain": [
       "<FastTreeValue 0x7f9fa0418910>\n",
       "├── 'a' --> tensor([[[-1.3318,  0.9827, -1.0321],\n",
       "│                    [-0.0648,  0.0106,  0.7378]],\n",
       "│           \n",
       "│                   [[-1.3318,  0.9827, -1.0321],\n",
       "│                    [-0.0648,  0.0106,  0.7378]],\n",
       "│           \n",
       "│                   [[-1.3318,  0.9827, -1.0321],\n",
       "│                    [-0.0648,  0.0106,  0.7378]],\n",
       "│           \n",
       "│                   [[-1.3318,  0.9827, -1.0321],\n",
       "│                    [-0.0648,  0.0106,  0.7378]],\n",
       "│           \n",
       "│                   [[-1.3318,  0.9827, -1.0321],\n",
       "│                    [-0.0648,  0.0106,  0.7378]],\n",
       "│           \n",
       "│                   [[-1.3318,  0.9827, -1.0321],\n",
       "│                    [-0.0648,  0.0106,  0.7378]],\n",
       "│           \n",
       "│                   [[-1.3318,  0.9827, -1.0321],\n",
       "│                    [-0.0648,  0.0106,  0.7378]],\n",
       "│           \n",
       "│                   [[-1.3318,  0.9827, -1.0321],\n",
       "│                    [-0.0648,  0.0106,  0.7378]]])\n",
       "└── 'x' --> <FastTreeValue 0x7f9ee9ccccd0>\n",
       "    └── 'c' --> tensor([[[ 0.4494, -0.3140, -0.2337,  0.3891],\n",
       "                         [-1.7179,  0.2020,  1.1379,  0.4808],\n",
       "                         [-0.0093, -2.0655,  1.6609, -0.5265]],\n",
       "                \n",
       "                        [[ 0.4494, -0.3140, -0.2337,  0.3891],\n",
       "                         [-1.7179,  0.2020,  1.1379,  0.4808],\n",
       "                         [-0.0093, -2.0655,  1.6609, -0.5265]],\n",
       "                \n",
       "                        [[ 0.4494, -0.3140, -0.2337,  0.3891],\n",
       "                         [-1.7179,  0.2020,  1.1379,  0.4808],\n",
       "                         [-0.0093, -2.0655,  1.6609, -0.5265]],\n",
       "                \n",
       "                        [[ 0.4494, -0.3140, -0.2337,  0.3891],\n",
       "                         [-1.7179,  0.2020,  1.1379,  0.4808],\n",
       "                         [-0.0093, -2.0655,  1.6609, -0.5265]],\n",
       "                \n",
       "                        [[ 0.4494, -0.3140, -0.2337,  0.3891],\n",
       "                         [-1.7179,  0.2020,  1.1379,  0.4808],\n",
       "                         [-0.0093, -2.0655,  1.6609, -0.5265]],\n",
       "                \n",
       "                        [[ 0.4494, -0.3140, -0.2337,  0.3891],\n",
       "                         [-1.7179,  0.2020,  1.1379,  0.4808],\n",
       "                         [-0.0093, -2.0655,  1.6609, -0.5265]],\n",
       "                \n",
       "                        [[ 0.4494, -0.3140, -0.2337,  0.3891],\n",
       "                         [-1.7179,  0.2020,  1.1379,  0.4808],\n",
       "                         [-0.0093, -2.0655,  1.6609, -0.5265]],\n",
       "                \n",
       "                        [[ 0.4494, -0.3140, -0.2337,  0.3891],\n",
       "                         [-1.7179,  0.2020,  1.1379,  0.4808],\n",
       "                         [-0.0093, -2.0655,  1.6609, -0.5265]]])"
      ]
     },
     "execution_count": 20,
     "metadata": {},
     "output_type": "execute_result"
    }
   ],
   "source": [
    "t_stack = FastTreeValue.func(subside=True)(torch.stack)\n",
    "\n",
    "t_stack(trees)"
   ]
  },
  {
   "cell_type": "code",
   "execution_count": 21,
   "id": "f8b3f415",
   "metadata": {
    "execution": {
     "iopub.execute_input": "2023-02-28T05:57:28.715807Z",
     "iopub.status.busy": "2023-02-28T05:57:28.715336Z",
     "iopub.status.idle": "2023-02-28T05:57:31.339102Z",
     "shell.execute_reply": "2023-02-28T05:57:31.338236Z"
    }
   },
   "outputs": [
    {
     "name": "stdout",
     "output_type": "stream",
     "text": [
      "32.2 µs ± 37.5 ns per loop (mean ± std. dev. of 7 runs, 10,000 loops each)\n"
     ]
    }
   ],
   "source": [
    "%timeit t_stack(trees)"
   ]
  },
  {
   "cell_type": "code",
   "execution_count": 22,
   "id": "94b56771",
   "metadata": {
    "execution": {
     "iopub.execute_input": "2023-02-28T05:57:31.342110Z",
     "iopub.status.busy": "2023-02-28T05:57:31.341650Z",
     "iopub.status.idle": "2023-02-28T05:57:31.350358Z",
     "shell.execute_reply": "2023-02-28T05:57:31.349292Z"
    }
   },
   "outputs": [
    {
     "data": {
      "text/plain": [
       "<FastTreeValue 0x7f9ee96b3b50>\n",
       "├── 'a' --> tensor([[-1.3318,  0.9827, -1.0321],\n",
       "│                   [-0.0648,  0.0106,  0.7378],\n",
       "│                   [-1.3318,  0.9827, -1.0321],\n",
       "│                   [-0.0648,  0.0106,  0.7378],\n",
       "│                   [-1.3318,  0.9827, -1.0321],\n",
       "│                   [-0.0648,  0.0106,  0.7378],\n",
       "│                   [-1.3318,  0.9827, -1.0321],\n",
       "│                   [-0.0648,  0.0106,  0.7378],\n",
       "│                   [-1.3318,  0.9827, -1.0321],\n",
       "│                   [-0.0648,  0.0106,  0.7378],\n",
       "│                   [-1.3318,  0.9827, -1.0321],\n",
       "│                   [-0.0648,  0.0106,  0.7378],\n",
       "│                   [-1.3318,  0.9827, -1.0321],\n",
       "│                   [-0.0648,  0.0106,  0.7378],\n",
       "│                   [-1.3318,  0.9827, -1.0321],\n",
       "│                   [-0.0648,  0.0106,  0.7378]])\n",
       "└── 'x' --> <FastTreeValue 0x7f9ee96b3910>\n",
       "    └── 'c' --> tensor([[ 0.4494, -0.3140, -0.2337,  0.3891],\n",
       "                        [-1.7179,  0.2020,  1.1379,  0.4808],\n",
       "                        [-0.0093, -2.0655,  1.6609, -0.5265],\n",
       "                        [ 0.4494, -0.3140, -0.2337,  0.3891],\n",
       "                        [-1.7179,  0.2020,  1.1379,  0.4808],\n",
       "                        [-0.0093, -2.0655,  1.6609, -0.5265],\n",
       "                        [ 0.4494, -0.3140, -0.2337,  0.3891],\n",
       "                        [-1.7179,  0.2020,  1.1379,  0.4808],\n",
       "                        [-0.0093, -2.0655,  1.6609, -0.5265],\n",
       "                        [ 0.4494, -0.3140, -0.2337,  0.3891],\n",
       "                        [-1.7179,  0.2020,  1.1379,  0.4808],\n",
       "                        [-0.0093, -2.0655,  1.6609, -0.5265],\n",
       "                        [ 0.4494, -0.3140, -0.2337,  0.3891],\n",
       "                        [-1.7179,  0.2020,  1.1379,  0.4808],\n",
       "                        [-0.0093, -2.0655,  1.6609, -0.5265],\n",
       "                        [ 0.4494, -0.3140, -0.2337,  0.3891],\n",
       "                        [-1.7179,  0.2020,  1.1379,  0.4808],\n",
       "                        [-0.0093, -2.0655,  1.6609, -0.5265],\n",
       "                        [ 0.4494, -0.3140, -0.2337,  0.3891],\n",
       "                        [-1.7179,  0.2020,  1.1379,  0.4808],\n",
       "                        [-0.0093, -2.0655,  1.6609, -0.5265],\n",
       "                        [ 0.4494, -0.3140, -0.2337,  0.3891],\n",
       "                        [-1.7179,  0.2020,  1.1379,  0.4808],\n",
       "                        [-0.0093, -2.0655,  1.6609, -0.5265]])"
      ]
     },
     "execution_count": 22,
     "metadata": {},
     "output_type": "execute_result"
    }
   ],
   "source": [
    "t_cat = FastTreeValue.func(subside=True)(torch.cat)\n",
    "\n",
    "t_cat(trees)"
   ]
  },
  {
   "cell_type": "code",
   "execution_count": 23,
   "id": "5e9c06a6",
   "metadata": {
    "execution": {
     "iopub.execute_input": "2023-02-28T05:57:31.352938Z",
     "iopub.status.busy": "2023-02-28T05:57:31.352516Z",
     "iopub.status.idle": "2023-02-28T05:57:33.822895Z",
     "shell.execute_reply": "2023-02-28T05:57:33.822057Z"
    }
   },
   "outputs": [
    {
     "name": "stdout",
     "output_type": "stream",
     "text": [
      "30.3 µs ± 50.8 ns per loop (mean ± std. dev. of 7 runs, 10,000 loops each)\n"
     ]
    }
   ],
   "source": [
    "%timeit t_cat(trees)"
   ]
  },
  {
   "cell_type": "code",
   "execution_count": 24,
   "id": "a3ab5c8f",
   "metadata": {
    "execution": {
     "iopub.execute_input": "2023-02-28T05:57:33.826334Z",
     "iopub.status.busy": "2023-02-28T05:57:33.825732Z",
     "iopub.status.idle": "2023-02-28T05:57:38.501039Z",
     "shell.execute_reply": "2023-02-28T05:57:38.500194Z"
    }
   },
   "outputs": [
    {
     "name": "stdout",
     "output_type": "stream",
     "text": [
      "57.5 µs ± 43.6 ns per loop (mean ± std. dev. of 7 runs, 10,000 loops each)\n"
     ]
    }
   ],
   "source": [
    "t_split = FastTreeValue.func(rise=True)(torch.split)\n",
    "tree = FastTreeValue({\n",
    "    'obs': torch.randn(8, 4, 84, 84),\n",
    "    'action': torch.randint(0, 6, size=(8, 1,)),\n",
    "    'reward': torch.rand(8, 1),\n",
    "})\n",
    "\n",
    "%timeit t_split(tree, 1)"
   ]
  },
  {
   "cell_type": "markdown",
   "id": "31c3ec0b",
   "metadata": {},
   "source": [
    "### Performance of Tianshou Batch"
   ]
  },
  {
   "cell_type": "code",
   "execution_count": 25,
   "id": "9ead828a",
   "metadata": {
    "execution": {
     "iopub.execute_input": "2023-02-28T05:57:38.504722Z",
     "iopub.status.busy": "2023-02-28T05:57:38.504168Z",
     "iopub.status.idle": "2023-02-28T05:57:38.512401Z",
     "shell.execute_reply": "2023-02-28T05:57:38.511666Z"
    }
   },
   "outputs": [
    {
     "data": {
      "text/plain": [
       "Batch(\n",
       "    x: Batch(\n",
       "           c: tensor([[[ 0.4494, -0.3140, -0.2337,  0.3891],\n",
       "                       [-1.7179,  0.2020,  1.1379,  0.4808],\n",
       "                       [-0.0093, -2.0655,  1.6609, -0.5265]],\n",
       "              \n",
       "                      [[ 0.4494, -0.3140, -0.2337,  0.3891],\n",
       "                       [-1.7179,  0.2020,  1.1379,  0.4808],\n",
       "                       [-0.0093, -2.0655,  1.6609, -0.5265]],\n",
       "              \n",
       "                      [[ 0.4494, -0.3140, -0.2337,  0.3891],\n",
       "                       [-1.7179,  0.2020,  1.1379,  0.4808],\n",
       "                       [-0.0093, -2.0655,  1.6609, -0.5265]],\n",
       "              \n",
       "                      [[ 0.4494, -0.3140, -0.2337,  0.3891],\n",
       "                       [-1.7179,  0.2020,  1.1379,  0.4808],\n",
       "                       [-0.0093, -2.0655,  1.6609, -0.5265]],\n",
       "              \n",
       "                      [[ 0.4494, -0.3140, -0.2337,  0.3891],\n",
       "                       [-1.7179,  0.2020,  1.1379,  0.4808],\n",
       "                       [-0.0093, -2.0655,  1.6609, -0.5265]],\n",
       "              \n",
       "                      [[ 0.4494, -0.3140, -0.2337,  0.3891],\n",
       "                       [-1.7179,  0.2020,  1.1379,  0.4808],\n",
       "                       [-0.0093, -2.0655,  1.6609, -0.5265]],\n",
       "              \n",
       "                      [[ 0.4494, -0.3140, -0.2337,  0.3891],\n",
       "                       [-1.7179,  0.2020,  1.1379,  0.4808],\n",
       "                       [-0.0093, -2.0655,  1.6609, -0.5265]],\n",
       "              \n",
       "                      [[ 0.4494, -0.3140, -0.2337,  0.3891],\n",
       "                       [-1.7179,  0.2020,  1.1379,  0.4808],\n",
       "                       [-0.0093, -2.0655,  1.6609, -0.5265]]]),\n",
       "       ),\n",
       "    a: tensor([[[-1.3318,  0.9827, -1.0321],\n",
       "                [-0.0648,  0.0106,  0.7378]],\n",
       "       \n",
       "               [[-1.3318,  0.9827, -1.0321],\n",
       "                [-0.0648,  0.0106,  0.7378]],\n",
       "       \n",
       "               [[-1.3318,  0.9827, -1.0321],\n",
       "                [-0.0648,  0.0106,  0.7378]],\n",
       "       \n",
       "               [[-1.3318,  0.9827, -1.0321],\n",
       "                [-0.0648,  0.0106,  0.7378]],\n",
       "       \n",
       "               [[-1.3318,  0.9827, -1.0321],\n",
       "                [-0.0648,  0.0106,  0.7378]],\n",
       "       \n",
       "               [[-1.3318,  0.9827, -1.0321],\n",
       "                [-0.0648,  0.0106,  0.7378]],\n",
       "       \n",
       "               [[-1.3318,  0.9827, -1.0321],\n",
       "                [-0.0648,  0.0106,  0.7378]],\n",
       "       \n",
       "               [[-1.3318,  0.9827, -1.0321],\n",
       "                [-0.0648,  0.0106,  0.7378]]]),\n",
       ")"
      ]
     },
     "execution_count": 25,
     "metadata": {},
     "output_type": "execute_result"
    }
   ],
   "source": [
    "batches = [Batch(**_TREE_DATA_2) for _ in range(8)]\n",
    "\n",
    "Batch.stack(batches)"
   ]
  },
  {
   "cell_type": "code",
   "execution_count": 26,
   "id": "ec9037a3",
   "metadata": {
    "execution": {
     "iopub.execute_input": "2023-02-28T05:57:38.515173Z",
     "iopub.status.busy": "2023-02-28T05:57:38.514839Z",
     "iopub.status.idle": "2023-02-28T05:57:44.856766Z",
     "shell.execute_reply": "2023-02-28T05:57:44.855880Z"
    }
   },
   "outputs": [
    {
     "name": "stdout",
     "output_type": "stream",
     "text": [
      "78.1 µs ± 500 ns per loop (mean ± std. dev. of 7 runs, 10,000 loops each)\n"
     ]
    }
   ],
   "source": [
    "%timeit Batch.stack(batches)"
   ]
  },
  {
   "cell_type": "code",
   "execution_count": 27,
   "id": "cb8ab77e",
   "metadata": {
    "execution": {
     "iopub.execute_input": "2023-02-28T05:57:44.860098Z",
     "iopub.status.busy": "2023-02-28T05:57:44.859495Z",
     "iopub.status.idle": "2023-02-28T05:57:44.867131Z",
     "shell.execute_reply": "2023-02-28T05:57:44.866525Z"
    }
   },
   "outputs": [
    {
     "data": {
      "text/plain": [
       "Batch(\n",
       "    x: Batch(\n",
       "           c: tensor([[ 0.4494, -0.3140, -0.2337,  0.3891],\n",
       "                      [-1.7179,  0.2020,  1.1379,  0.4808],\n",
       "                      [-0.0093, -2.0655,  1.6609, -0.5265],\n",
       "                      [ 0.4494, -0.3140, -0.2337,  0.3891],\n",
       "                      [-1.7179,  0.2020,  1.1379,  0.4808],\n",
       "                      [-0.0093, -2.0655,  1.6609, -0.5265],\n",
       "                      [ 0.4494, -0.3140, -0.2337,  0.3891],\n",
       "                      [-1.7179,  0.2020,  1.1379,  0.4808],\n",
       "                      [-0.0093, -2.0655,  1.6609, -0.5265],\n",
       "                      [ 0.4494, -0.3140, -0.2337,  0.3891],\n",
       "                      [-1.7179,  0.2020,  1.1379,  0.4808],\n",
       "                      [-0.0093, -2.0655,  1.6609, -0.5265],\n",
       "                      [ 0.4494, -0.3140, -0.2337,  0.3891],\n",
       "                      [-1.7179,  0.2020,  1.1379,  0.4808],\n",
       "                      [-0.0093, -2.0655,  1.6609, -0.5265],\n",
       "                      [ 0.4494, -0.3140, -0.2337,  0.3891],\n",
       "                      [-1.7179,  0.2020,  1.1379,  0.4808],\n",
       "                      [-0.0093, -2.0655,  1.6609, -0.5265],\n",
       "                      [ 0.4494, -0.3140, -0.2337,  0.3891],\n",
       "                      [-1.7179,  0.2020,  1.1379,  0.4808],\n",
       "                      [-0.0093, -2.0655,  1.6609, -0.5265],\n",
       "                      [ 0.4494, -0.3140, -0.2337,  0.3891],\n",
       "                      [-1.7179,  0.2020,  1.1379,  0.4808],\n",
       "                      [-0.0093, -2.0655,  1.6609, -0.5265]]),\n",
       "       ),\n",
       "    a: tensor([[-1.3318,  0.9827, -1.0321],\n",
       "               [-0.0648,  0.0106,  0.7378],\n",
       "               [-1.3318,  0.9827, -1.0321],\n",
       "               [-0.0648,  0.0106,  0.7378],\n",
       "               [-1.3318,  0.9827, -1.0321],\n",
       "               [-0.0648,  0.0106,  0.7378],\n",
       "               [-1.3318,  0.9827, -1.0321],\n",
       "               [-0.0648,  0.0106,  0.7378],\n",
       "               [-1.3318,  0.9827, -1.0321],\n",
       "               [-0.0648,  0.0106,  0.7378],\n",
       "               [-1.3318,  0.9827, -1.0321],\n",
       "               [-0.0648,  0.0106,  0.7378],\n",
       "               [-1.3318,  0.9827, -1.0321],\n",
       "               [-0.0648,  0.0106,  0.7378],\n",
       "               [-1.3318,  0.9827, -1.0321],\n",
       "               [-0.0648,  0.0106,  0.7378]]),\n",
       ")"
      ]
     },
     "execution_count": 27,
     "metadata": {},
     "output_type": "execute_result"
    }
   ],
   "source": [
    "Batch.cat(batches)"
   ]
  },
  {
   "cell_type": "code",
   "execution_count": 28,
   "id": "18dfb045",
   "metadata": {
    "execution": {
     "iopub.execute_input": "2023-02-28T05:57:44.869941Z",
     "iopub.status.busy": "2023-02-28T05:57:44.869587Z",
     "iopub.status.idle": "2023-02-28T05:57:56.532338Z",
     "shell.execute_reply": "2023-02-28T05:57:56.531349Z"
    }
   },
   "outputs": [
    {
     "name": "stdout",
     "output_type": "stream",
     "text": [
      "144 µs ± 224 ns per loop (mean ± std. dev. of 7 runs, 10,000 loops each)\n"
     ]
    }
   ],
   "source": [
    "%timeit Batch.cat(batches)"
   ]
  },
  {
   "cell_type": "code",
   "execution_count": 29,
   "id": "c6688e51",
   "metadata": {
    "execution": {
     "iopub.execute_input": "2023-02-28T05:57:56.535573Z",
     "iopub.status.busy": "2023-02-28T05:57:56.535325Z",
     "iopub.status.idle": "2023-02-28T05:57:59.181691Z",
     "shell.execute_reply": "2023-02-28T05:57:59.181068Z"
    }
   },
   "outputs": [
    {
     "name": "stdout",
     "output_type": "stream",
     "text": [
      "325 µs ± 2.56 µs per loop (mean ± std. dev. of 7 runs, 1,000 loops each)\n"
     ]
    }
   ],
   "source": [
    "batch = Batch({\n",
    "    'obs': torch.randn(8, 4, 84, 84),\n",
    "    'action': torch.randint(0, 6, size=(8, 1,)),\n",
    "    'reward': torch.rand(8, 1)}\n",
    ")\n",
    "\n",
    "%timeit list(Batch.split(batch, 1, shuffle=False, merge_last=True))"
   ]
  },
  {
   "cell_type": "code",
   "execution_count": null,
   "id": "2539fbd9",
   "metadata": {},
   "outputs": [],
   "source": []
  }
 ],
 "metadata": {
  "kernelspec": {
   "display_name": "Python 3 (ipykernel)",
   "language": "python",
   "name": "python3"
  },
  "language_info": {
   "codemirror_mode": {
    "name": "ipython",
    "version": 3
   },
   "file_extension": ".py",
   "mimetype": "text/x-python",
   "name": "python",
   "nbconvert_exporter": "python",
   "pygments_lexer": "ipython3",
   "version": "3.8.16"
  }
 },
 "nbformat": 4,
 "nbformat_minor": 5
}
