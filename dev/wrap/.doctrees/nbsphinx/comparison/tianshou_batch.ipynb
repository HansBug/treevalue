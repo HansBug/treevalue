{
 "cells": [
  {
   "cell_type": "markdown",
   "id": "9d39d946",
   "metadata": {},
   "source": [
    "# Comparison Between TreeValue and Tianshou Batch"
   ]
  },
  {
   "cell_type": "markdown",
   "id": "3c6db2d4",
   "metadata": {},
   "source": [
    "In this section, we will take a look at the feature and performance of the [Tianshou Batch](https://github.com/thu-ml/tianshou) library, which is developed by Tsinghua Machine Learning Group."
   ]
  },
  {
   "cell_type": "markdown",
   "id": "069361b0",
   "metadata": {},
   "source": [
    "Before starting the comparison, let us define some thing."
   ]
  },
  {
   "cell_type": "code",
   "execution_count": 1,
   "id": "06fc8d26",
   "metadata": {
    "execution": {
     "iopub.execute_input": "2023-02-25T18:34:53.049711Z",
     "iopub.status.busy": "2023-02-25T18:34:53.049365Z",
     "iopub.status.idle": "2023-02-25T18:34:53.982305Z",
     "shell.execute_reply": "2023-02-25T18:34:53.981607Z"
    }
   },
   "outputs": [
    {
     "name": "stderr",
     "output_type": "stream",
     "text": [
      "/opt/hostedtoolcache/Python/3.8.16/x64/lib/python3.8/site-packages/tqdm/auto.py:22: TqdmWarning: IProgress not found. Please update jupyter and ipywidgets. See https://ipywidgets.readthedocs.io/en/stable/user_install.html\n",
      "  from .autonotebook import tqdm as notebook_tqdm\n"
     ]
    }
   ],
   "source": [
    "import torch \n",
    "\n",
    "_TREE_DATA_1 = {'a': 1, 'b': 2, 'x': {'c': 3, 'd': 4}}\n",
    "_TREE_DATA_2 = {\n",
    "    'a': torch.randn(2, 3), \n",
    "    'x': {\n",
    "        'c': torch.randn(3, 4)\n",
    "    },\n",
    "}\n",
    "_TREE_DATA_3 = {\n",
    "    'obs': torch.randn(4, 84, 84),\n",
    "    'action': torch.randint(0, 6, size=(1,)),\n",
    "    'reward': torch.rand(1),\n",
    "}"
   ]
  },
  {
   "cell_type": "markdown",
   "id": "83461b25",
   "metadata": {},
   "source": [
    "## Read and Write Operation"
   ]
  },
  {
   "cell_type": "markdown",
   "id": "067b3f73",
   "metadata": {},
   "source": [
    "Reading and writing are the two most common operations in the tree data structure based on the data model (TreeValue and Tianshou Batch both belong to this type), so this section will compare the reading and writing performance of these two libraries."
   ]
  },
  {
   "cell_type": "markdown",
   "id": "5d09a5b7",
   "metadata": {},
   "source": [
    "### TreeValue's Get and Set"
   ]
  },
  {
   "cell_type": "code",
   "execution_count": 2,
   "id": "9519c4bb",
   "metadata": {
    "execution": {
     "iopub.execute_input": "2023-02-25T18:34:53.986014Z",
     "iopub.status.busy": "2023-02-25T18:34:53.985387Z",
     "iopub.status.idle": "2023-02-25T18:34:54.019248Z",
     "shell.execute_reply": "2023-02-25T18:34:54.018580Z"
    }
   },
   "outputs": [],
   "source": [
    "from treevalue import FastTreeValue\n",
    "\n",
    "t = FastTreeValue(_TREE_DATA_2)"
   ]
  },
  {
   "cell_type": "code",
   "execution_count": 3,
   "id": "11c37677",
   "metadata": {
    "execution": {
     "iopub.execute_input": "2023-02-25T18:34:54.022426Z",
     "iopub.status.busy": "2023-02-25T18:34:54.022059Z",
     "iopub.status.idle": "2023-02-25T18:34:54.031911Z",
     "shell.execute_reply": "2023-02-25T18:34:54.031308Z"
    }
   },
   "outputs": [
    {
     "data": {
      "text/plain": [
       "<FastTreeValue 0x7f309c138f70>\n",
       "├── 'a' --> tensor([[ 0.7027,  2.2995,  0.6211],\n",
       "│                   [ 0.7052,  0.1130, -0.7534]])\n",
       "└── 'x' --> <FastTreeValue 0x7f309c138f40>\n",
       "    └── 'c' --> tensor([[-0.5012,  0.4784,  0.0666,  0.5823],\n",
       "                        [-0.2759,  0.4881,  0.1142,  0.6298],\n",
       "                        [ 0.1480, -0.5355,  1.7297, -0.1985]])"
      ]
     },
     "execution_count": 3,
     "metadata": {},
     "output_type": "execute_result"
    }
   ],
   "source": [
    "t"
   ]
  },
  {
   "cell_type": "code",
   "execution_count": 4,
   "id": "fd70b0b9",
   "metadata": {
    "execution": {
     "iopub.execute_input": "2023-02-25T18:34:54.034773Z",
     "iopub.status.busy": "2023-02-25T18:34:54.034188Z",
     "iopub.status.idle": "2023-02-25T18:34:54.039542Z",
     "shell.execute_reply": "2023-02-25T18:34:54.038969Z"
    }
   },
   "outputs": [
    {
     "data": {
      "text/plain": [
       "tensor([[ 0.7027,  2.2995,  0.6211],\n",
       "        [ 0.7052,  0.1130, -0.7534]])"
      ]
     },
     "execution_count": 4,
     "metadata": {},
     "output_type": "execute_result"
    }
   ],
   "source": [
    "t.a"
   ]
  },
  {
   "cell_type": "code",
   "execution_count": 5,
   "id": "c18197bd",
   "metadata": {
    "execution": {
     "iopub.execute_input": "2023-02-25T18:34:54.042208Z",
     "iopub.status.busy": "2023-02-25T18:34:54.041889Z",
     "iopub.status.idle": "2023-02-25T18:34:59.027670Z",
     "shell.execute_reply": "2023-02-25T18:34:59.027002Z"
    }
   },
   "outputs": [
    {
     "name": "stdout",
     "output_type": "stream",
     "text": [
      "61.3 ns ± 0.0167 ns per loop (mean ± std. dev. of 7 runs, 10,000,000 loops each)\n"
     ]
    }
   ],
   "source": [
    "%timeit t.a"
   ]
  },
  {
   "cell_type": "code",
   "execution_count": 6,
   "id": "bd52f867",
   "metadata": {
    "execution": {
     "iopub.execute_input": "2023-02-25T18:34:59.030781Z",
     "iopub.status.busy": "2023-02-25T18:34:59.030297Z",
     "iopub.status.idle": "2023-02-25T18:34:59.037814Z",
     "shell.execute_reply": "2023-02-25T18:34:59.037196Z"
    }
   },
   "outputs": [
    {
     "data": {
      "text/plain": [
       "<FastTreeValue 0x7f309c138f70>\n",
       "├── 'a' --> tensor([[ 0.8709, -2.6227, -0.0210],\n",
       "│                   [-0.7228, -1.4850,  0.0877]])\n",
       "└── 'x' --> <FastTreeValue 0x7f309c138f40>\n",
       "    └── 'c' --> tensor([[-0.5012,  0.4784,  0.0666,  0.5823],\n",
       "                        [-0.2759,  0.4881,  0.1142,  0.6298],\n",
       "                        [ 0.1480, -0.5355,  1.7297, -0.1985]])"
      ]
     },
     "execution_count": 6,
     "metadata": {},
     "output_type": "execute_result"
    }
   ],
   "source": [
    "new_value = torch.randn(2, 3)\n",
    "t.a = new_value\n",
    "\n",
    "t"
   ]
  },
  {
   "cell_type": "code",
   "execution_count": 7,
   "id": "bbe04d1c",
   "metadata": {
    "execution": {
     "iopub.execute_input": "2023-02-25T18:34:59.040928Z",
     "iopub.status.busy": "2023-02-25T18:34:59.040250Z",
     "iopub.status.idle": "2023-02-25T18:35:04.620310Z",
     "shell.execute_reply": "2023-02-25T18:35:04.619557Z"
    }
   },
   "outputs": [
    {
     "name": "stdout",
     "output_type": "stream",
     "text": [
      "69.3 ns ± 0.0431 ns per loop (mean ± std. dev. of 7 runs, 10,000,000 loops each)\n"
     ]
    }
   ],
   "source": [
    "%timeit t.a = new_value"
   ]
  },
  {
   "cell_type": "markdown",
   "id": "48c49731",
   "metadata": {},
   "source": [
    "### Tianshou Batch's Get and Set"
   ]
  },
  {
   "cell_type": "code",
   "execution_count": 8,
   "id": "f1bb14c1",
   "metadata": {
    "execution": {
     "iopub.execute_input": "2023-02-25T18:35:04.623332Z",
     "iopub.status.busy": "2023-02-25T18:35:04.622931Z",
     "iopub.status.idle": "2023-02-25T18:35:04.955158Z",
     "shell.execute_reply": "2023-02-25T18:35:04.954464Z"
    }
   },
   "outputs": [],
   "source": [
    "from tianshou.data import Batch\n",
    "\n",
    "b = Batch(**_TREE_DATA_2)"
   ]
  },
  {
   "cell_type": "code",
   "execution_count": 9,
   "id": "cb0777c3",
   "metadata": {
    "execution": {
     "iopub.execute_input": "2023-02-25T18:35:04.958283Z",
     "iopub.status.busy": "2023-02-25T18:35:04.957750Z",
     "iopub.status.idle": "2023-02-25T18:35:04.963163Z",
     "shell.execute_reply": "2023-02-25T18:35:04.962539Z"
    }
   },
   "outputs": [
    {
     "data": {
      "text/plain": [
       "Batch(\n",
       "    a: tensor([[ 0.7027,  2.2995,  0.6211],\n",
       "               [ 0.7052,  0.1130, -0.7534]]),\n",
       "    x: Batch(\n",
       "           c: tensor([[-0.5012,  0.4784,  0.0666,  0.5823],\n",
       "                      [-0.2759,  0.4881,  0.1142,  0.6298],\n",
       "                      [ 0.1480, -0.5355,  1.7297, -0.1985]]),\n",
       "       ),\n",
       ")"
      ]
     },
     "execution_count": 9,
     "metadata": {},
     "output_type": "execute_result"
    }
   ],
   "source": [
    "b"
   ]
  },
  {
   "cell_type": "code",
   "execution_count": 10,
   "id": "43ef8ea3",
   "metadata": {
    "execution": {
     "iopub.execute_input": "2023-02-25T18:35:04.965655Z",
     "iopub.status.busy": "2023-02-25T18:35:04.965318Z",
     "iopub.status.idle": "2023-02-25T18:35:04.970309Z",
     "shell.execute_reply": "2023-02-25T18:35:04.969705Z"
    }
   },
   "outputs": [
    {
     "data": {
      "text/plain": [
       "tensor([[ 0.7027,  2.2995,  0.6211],\n",
       "        [ 0.7052,  0.1130, -0.7534]])"
      ]
     },
     "execution_count": 10,
     "metadata": {},
     "output_type": "execute_result"
    }
   ],
   "source": [
    "b.a"
   ]
  },
  {
   "cell_type": "code",
   "execution_count": 11,
   "id": "b785ab72",
   "metadata": {
    "execution": {
     "iopub.execute_input": "2023-02-25T18:35:04.972675Z",
     "iopub.status.busy": "2023-02-25T18:35:04.972333Z",
     "iopub.status.idle": "2023-02-25T18:35:09.374746Z",
     "shell.execute_reply": "2023-02-25T18:35:09.374038Z"
    }
   },
   "outputs": [
    {
     "name": "stdout",
     "output_type": "stream",
     "text": [
      "53.9 ns ± 0.0285 ns per loop (mean ± std. dev. of 7 runs, 10,000,000 loops each)\n"
     ]
    }
   ],
   "source": [
    "%timeit b.a"
   ]
  },
  {
   "cell_type": "code",
   "execution_count": 12,
   "id": "ad54dc69",
   "metadata": {
    "execution": {
     "iopub.execute_input": "2023-02-25T18:35:09.377942Z",
     "iopub.status.busy": "2023-02-25T18:35:09.377432Z",
     "iopub.status.idle": "2023-02-25T18:35:09.383909Z",
     "shell.execute_reply": "2023-02-25T18:35:09.383319Z"
    }
   },
   "outputs": [
    {
     "data": {
      "text/plain": [
       "Batch(\n",
       "    a: tensor([[ 0.2460, -1.5389, -0.3532],\n",
       "               [ 0.3847, -0.7262,  1.4160]]),\n",
       "    x: Batch(\n",
       "           c: tensor([[-0.5012,  0.4784,  0.0666,  0.5823],\n",
       "                      [-0.2759,  0.4881,  0.1142,  0.6298],\n",
       "                      [ 0.1480, -0.5355,  1.7297, -0.1985]]),\n",
       "       ),\n",
       ")"
      ]
     },
     "execution_count": 12,
     "metadata": {},
     "output_type": "execute_result"
    }
   ],
   "source": [
    "new_value = torch.randn(2, 3)\n",
    "b.a = new_value\n",
    "\n",
    "b"
   ]
  },
  {
   "cell_type": "code",
   "execution_count": 13,
   "id": "29b1d0bf",
   "metadata": {
    "execution": {
     "iopub.execute_input": "2023-02-25T18:35:09.386907Z",
     "iopub.status.busy": "2023-02-25T18:35:09.386361Z",
     "iopub.status.idle": "2023-02-25T18:35:13.259719Z",
     "shell.execute_reply": "2023-02-25T18:35:13.259050Z"
    }
   },
   "outputs": [
    {
     "name": "stdout",
     "output_type": "stream",
     "text": [
      "477 ns ± 0.0759 ns per loop (mean ± std. dev. of 7 runs, 1,000,000 loops each)\n"
     ]
    }
   ],
   "source": [
    "%timeit b.a = new_value"
   ]
  },
  {
   "cell_type": "markdown",
   "id": "b61ad1d0",
   "metadata": {},
   "source": [
    "## Initialization"
   ]
  },
  {
   "cell_type": "markdown",
   "id": "d70f0d54",
   "metadata": {},
   "source": [
    "### TreeValue's Initialization"
   ]
  },
  {
   "cell_type": "code",
   "execution_count": 14,
   "id": "d32a679b",
   "metadata": {
    "execution": {
     "iopub.execute_input": "2023-02-25T18:35:13.262834Z",
     "iopub.status.busy": "2023-02-25T18:35:13.262261Z",
     "iopub.status.idle": "2023-02-25T18:35:20.281512Z",
     "shell.execute_reply": "2023-02-25T18:35:20.280747Z"
    }
   },
   "outputs": [
    {
     "name": "stdout",
     "output_type": "stream",
     "text": [
      "864 ns ± 0.659 ns per loop (mean ± std. dev. of 7 runs, 1,000,000 loops each)\n"
     ]
    }
   ],
   "source": [
    "%timeit FastTreeValue(_TREE_DATA_1)"
   ]
  },
  {
   "cell_type": "markdown",
   "id": "24f3707b",
   "metadata": {},
   "source": [
    "### Tianshou Batch's Initialization"
   ]
  },
  {
   "cell_type": "code",
   "execution_count": 15,
   "id": "ac3958df",
   "metadata": {
    "execution": {
     "iopub.execute_input": "2023-02-25T18:35:20.284223Z",
     "iopub.status.busy": "2023-02-25T18:35:20.283883Z",
     "iopub.status.idle": "2023-02-25T18:35:29.735067Z",
     "shell.execute_reply": "2023-02-25T18:35:29.734405Z"
    }
   },
   "outputs": [
    {
     "name": "stdout",
     "output_type": "stream",
     "text": [
      "11.6 µs ± 37.2 ns per loop (mean ± std. dev. of 7 runs, 100,000 loops each)\n"
     ]
    }
   ],
   "source": [
    "%timeit Batch(**_TREE_DATA_1)"
   ]
  },
  {
   "cell_type": "markdown",
   "id": "1ab82e2d",
   "metadata": {},
   "source": [
    "## Deep Copy Operation"
   ]
  },
  {
   "cell_type": "code",
   "execution_count": 16,
   "id": "210a9442",
   "metadata": {
    "execution": {
     "iopub.execute_input": "2023-02-25T18:35:29.738126Z",
     "iopub.status.busy": "2023-02-25T18:35:29.737557Z",
     "iopub.status.idle": "2023-02-25T18:35:29.741760Z",
     "shell.execute_reply": "2023-02-25T18:35:29.740548Z"
    }
   },
   "outputs": [],
   "source": [
    "import copy"
   ]
  },
  {
   "cell_type": "markdown",
   "id": "5a736274",
   "metadata": {},
   "source": [
    "### Deep Copy of TreeValue"
   ]
  },
  {
   "cell_type": "code",
   "execution_count": 17,
   "id": "f9bcadd6",
   "metadata": {
    "execution": {
     "iopub.execute_input": "2023-02-25T18:35:29.744272Z",
     "iopub.status.busy": "2023-02-25T18:35:29.743939Z",
     "iopub.status.idle": "2023-02-25T18:35:40.786198Z",
     "shell.execute_reply": "2023-02-25T18:35:40.785644Z"
    }
   },
   "outputs": [
    {
     "name": "stdout",
     "output_type": "stream",
     "text": [
      "136 µs ± 347 ns per loop (mean ± std. dev. of 7 runs, 10,000 loops each)\n"
     ]
    }
   ],
   "source": [
    "t3 = FastTreeValue(_TREE_DATA_3)\n",
    "%timeit copy.deepcopy(t3)"
   ]
  },
  {
   "cell_type": "markdown",
   "id": "bf8be7ea",
   "metadata": {},
   "source": [
    "### Deep Copy of Tianshou Batch"
   ]
  },
  {
   "cell_type": "code",
   "execution_count": 18,
   "id": "91998e6f",
   "metadata": {
    "execution": {
     "iopub.execute_input": "2023-02-25T18:35:40.790042Z",
     "iopub.status.busy": "2023-02-25T18:35:40.789129Z",
     "iopub.status.idle": "2023-02-25T18:35:52.232798Z",
     "shell.execute_reply": "2023-02-25T18:35:52.232098Z"
    }
   },
   "outputs": [
    {
     "name": "stdout",
     "output_type": "stream",
     "text": [
      "141 µs ± 454 ns per loop (mean ± std. dev. of 7 runs, 10,000 loops each)\n"
     ]
    }
   ],
   "source": [
    "b3 = Batch(**_TREE_DATA_3)\n",
    "%timeit copy.deepcopy(b3)"
   ]
  },
  {
   "cell_type": "markdown",
   "id": "223162fb",
   "metadata": {},
   "source": [
    "## Stack, Concat and Split Operation"
   ]
  },
  {
   "cell_type": "markdown",
   "id": "85fa4a73",
   "metadata": {},
   "source": [
    "### Performance of TreeValue"
   ]
  },
  {
   "cell_type": "code",
   "execution_count": 19,
   "id": "a0c2b697",
   "metadata": {
    "execution": {
     "iopub.execute_input": "2023-02-25T18:35:52.235974Z",
     "iopub.status.busy": "2023-02-25T18:35:52.235626Z",
     "iopub.status.idle": "2023-02-25T18:35:52.239660Z",
     "shell.execute_reply": "2023-02-25T18:35:52.239059Z"
    }
   },
   "outputs": [],
   "source": [
    "trees = [FastTreeValue(_TREE_DATA_2) for _ in range(8)]"
   ]
  },
  {
   "cell_type": "code",
   "execution_count": 20,
   "id": "017ea5a5",
   "metadata": {
    "execution": {
     "iopub.execute_input": "2023-02-25T18:35:52.242326Z",
     "iopub.status.busy": "2023-02-25T18:35:52.242004Z",
     "iopub.status.idle": "2023-02-25T18:35:52.249734Z",
     "shell.execute_reply": "2023-02-25T18:35:52.249143Z"
    }
   },
   "outputs": [
    {
     "data": {
      "text/plain": [
       "<FastTreeValue 0x7f309c0e0670>\n",
       "├── 'a' --> tensor([[[ 0.7027,  2.2995,  0.6211],\n",
       "│                    [ 0.7052,  0.1130, -0.7534]],\n",
       "│           \n",
       "│                   [[ 0.7027,  2.2995,  0.6211],\n",
       "│                    [ 0.7052,  0.1130, -0.7534]],\n",
       "│           \n",
       "│                   [[ 0.7027,  2.2995,  0.6211],\n",
       "│                    [ 0.7052,  0.1130, -0.7534]],\n",
       "│           \n",
       "│                   [[ 0.7027,  2.2995,  0.6211],\n",
       "│                    [ 0.7052,  0.1130, -0.7534]],\n",
       "│           \n",
       "│                   [[ 0.7027,  2.2995,  0.6211],\n",
       "│                    [ 0.7052,  0.1130, -0.7534]],\n",
       "│           \n",
       "│                   [[ 0.7027,  2.2995,  0.6211],\n",
       "│                    [ 0.7052,  0.1130, -0.7534]],\n",
       "│           \n",
       "│                   [[ 0.7027,  2.2995,  0.6211],\n",
       "│                    [ 0.7052,  0.1130, -0.7534]],\n",
       "│           \n",
       "│                   [[ 0.7027,  2.2995,  0.6211],\n",
       "│                    [ 0.7052,  0.1130, -0.7534]]])\n",
       "└── 'x' --> <FastTreeValue 0x7f309c0e0e80>\n",
       "    └── 'c' --> tensor([[[-0.5012,  0.4784,  0.0666,  0.5823],\n",
       "                         [-0.2759,  0.4881,  0.1142,  0.6298],\n",
       "                         [ 0.1480, -0.5355,  1.7297, -0.1985]],\n",
       "                \n",
       "                        [[-0.5012,  0.4784,  0.0666,  0.5823],\n",
       "                         [-0.2759,  0.4881,  0.1142,  0.6298],\n",
       "                         [ 0.1480, -0.5355,  1.7297, -0.1985]],\n",
       "                \n",
       "                        [[-0.5012,  0.4784,  0.0666,  0.5823],\n",
       "                         [-0.2759,  0.4881,  0.1142,  0.6298],\n",
       "                         [ 0.1480, -0.5355,  1.7297, -0.1985]],\n",
       "                \n",
       "                        [[-0.5012,  0.4784,  0.0666,  0.5823],\n",
       "                         [-0.2759,  0.4881,  0.1142,  0.6298],\n",
       "                         [ 0.1480, -0.5355,  1.7297, -0.1985]],\n",
       "                \n",
       "                        [[-0.5012,  0.4784,  0.0666,  0.5823],\n",
       "                         [-0.2759,  0.4881,  0.1142,  0.6298],\n",
       "                         [ 0.1480, -0.5355,  1.7297, -0.1985]],\n",
       "                \n",
       "                        [[-0.5012,  0.4784,  0.0666,  0.5823],\n",
       "                         [-0.2759,  0.4881,  0.1142,  0.6298],\n",
       "                         [ 0.1480, -0.5355,  1.7297, -0.1985]],\n",
       "                \n",
       "                        [[-0.5012,  0.4784,  0.0666,  0.5823],\n",
       "                         [-0.2759,  0.4881,  0.1142,  0.6298],\n",
       "                         [ 0.1480, -0.5355,  1.7297, -0.1985]],\n",
       "                \n",
       "                        [[-0.5012,  0.4784,  0.0666,  0.5823],\n",
       "                         [-0.2759,  0.4881,  0.1142,  0.6298],\n",
       "                         [ 0.1480, -0.5355,  1.7297, -0.1985]]])"
      ]
     },
     "execution_count": 20,
     "metadata": {},
     "output_type": "execute_result"
    }
   ],
   "source": [
    "t_stack = FastTreeValue.func(subside=True)(torch.stack)\n",
    "\n",
    "t_stack(trees)"
   ]
  },
  {
   "cell_type": "code",
   "execution_count": 21,
   "id": "f8b3f415",
   "metadata": {
    "execution": {
     "iopub.execute_input": "2023-02-25T18:35:52.253071Z",
     "iopub.status.busy": "2023-02-25T18:35:52.252061Z",
     "iopub.status.idle": "2023-02-25T18:35:54.893844Z",
     "shell.execute_reply": "2023-02-25T18:35:54.893014Z"
    }
   },
   "outputs": [
    {
     "name": "stdout",
     "output_type": "stream",
     "text": [
      "32.5 µs ± 62.5 ns per loop (mean ± std. dev. of 7 runs, 10,000 loops each)\n"
     ]
    }
   ],
   "source": [
    "%timeit t_stack(trees)"
   ]
  },
  {
   "cell_type": "code",
   "execution_count": 22,
   "id": "94b56771",
   "metadata": {
    "execution": {
     "iopub.execute_input": "2023-02-25T18:35:54.896984Z",
     "iopub.status.busy": "2023-02-25T18:35:54.896402Z",
     "iopub.status.idle": "2023-02-25T18:35:54.904285Z",
     "shell.execute_reply": "2023-02-25T18:35:54.903692Z"
    }
   },
   "outputs": [
    {
     "data": {
      "text/plain": [
       "<FastTreeValue 0x7f2ff0dfa7f0>\n",
       "├── 'a' --> tensor([[ 0.7027,  2.2995,  0.6211],\n",
       "│                   [ 0.7052,  0.1130, -0.7534],\n",
       "│                   [ 0.7027,  2.2995,  0.6211],\n",
       "│                   [ 0.7052,  0.1130, -0.7534],\n",
       "│                   [ 0.7027,  2.2995,  0.6211],\n",
       "│                   [ 0.7052,  0.1130, -0.7534],\n",
       "│                   [ 0.7027,  2.2995,  0.6211],\n",
       "│                   [ 0.7052,  0.1130, -0.7534],\n",
       "│                   [ 0.7027,  2.2995,  0.6211],\n",
       "│                   [ 0.7052,  0.1130, -0.7534],\n",
       "│                   [ 0.7027,  2.2995,  0.6211],\n",
       "│                   [ 0.7052,  0.1130, -0.7534],\n",
       "│                   [ 0.7027,  2.2995,  0.6211],\n",
       "│                   [ 0.7052,  0.1130, -0.7534],\n",
       "│                   [ 0.7027,  2.2995,  0.6211],\n",
       "│                   [ 0.7052,  0.1130, -0.7534]])\n",
       "└── 'x' --> <FastTreeValue 0x7f2ff0dfa790>\n",
       "    └── 'c' --> tensor([[-0.5012,  0.4784,  0.0666,  0.5823],\n",
       "                        [-0.2759,  0.4881,  0.1142,  0.6298],\n",
       "                        [ 0.1480, -0.5355,  1.7297, -0.1985],\n",
       "                        [-0.5012,  0.4784,  0.0666,  0.5823],\n",
       "                        [-0.2759,  0.4881,  0.1142,  0.6298],\n",
       "                        [ 0.1480, -0.5355,  1.7297, -0.1985],\n",
       "                        [-0.5012,  0.4784,  0.0666,  0.5823],\n",
       "                        [-0.2759,  0.4881,  0.1142,  0.6298],\n",
       "                        [ 0.1480, -0.5355,  1.7297, -0.1985],\n",
       "                        [-0.5012,  0.4784,  0.0666,  0.5823],\n",
       "                        [-0.2759,  0.4881,  0.1142,  0.6298],\n",
       "                        [ 0.1480, -0.5355,  1.7297, -0.1985],\n",
       "                        [-0.5012,  0.4784,  0.0666,  0.5823],\n",
       "                        [-0.2759,  0.4881,  0.1142,  0.6298],\n",
       "                        [ 0.1480, -0.5355,  1.7297, -0.1985],\n",
       "                        [-0.5012,  0.4784,  0.0666,  0.5823],\n",
       "                        [-0.2759,  0.4881,  0.1142,  0.6298],\n",
       "                        [ 0.1480, -0.5355,  1.7297, -0.1985],\n",
       "                        [-0.5012,  0.4784,  0.0666,  0.5823],\n",
       "                        [-0.2759,  0.4881,  0.1142,  0.6298],\n",
       "                        [ 0.1480, -0.5355,  1.7297, -0.1985],\n",
       "                        [-0.5012,  0.4784,  0.0666,  0.5823],\n",
       "                        [-0.2759,  0.4881,  0.1142,  0.6298],\n",
       "                        [ 0.1480, -0.5355,  1.7297, -0.1985]])"
      ]
     },
     "execution_count": 22,
     "metadata": {},
     "output_type": "execute_result"
    }
   ],
   "source": [
    "t_cat = FastTreeValue.func(subside=True)(torch.cat)\n",
    "\n",
    "t_cat(trees)"
   ]
  },
  {
   "cell_type": "code",
   "execution_count": 23,
   "id": "5e9c06a6",
   "metadata": {
    "execution": {
     "iopub.execute_input": "2023-02-25T18:35:54.907094Z",
     "iopub.status.busy": "2023-02-25T18:35:54.906610Z",
     "iopub.status.idle": "2023-02-25T18:35:57.367647Z",
     "shell.execute_reply": "2023-02-25T18:35:57.366916Z"
    }
   },
   "outputs": [
    {
     "name": "stdout",
     "output_type": "stream",
     "text": [
      "30.3 µs ± 51.7 ns per loop (mean ± std. dev. of 7 runs, 10,000 loops each)\n"
     ]
    }
   ],
   "source": [
    "%timeit t_cat(trees)"
   ]
  },
  {
   "cell_type": "code",
   "execution_count": 24,
   "id": "a3ab5c8f",
   "metadata": {
    "execution": {
     "iopub.execute_input": "2023-02-25T18:35:57.370556Z",
     "iopub.status.busy": "2023-02-25T18:35:57.370212Z",
     "iopub.status.idle": "2023-02-25T18:36:02.049348Z",
     "shell.execute_reply": "2023-02-25T18:36:02.048569Z"
    }
   },
   "outputs": [
    {
     "name": "stdout",
     "output_type": "stream",
     "text": [
      "57.6 µs ± 51 ns per loop (mean ± std. dev. of 7 runs, 10,000 loops each)\n"
     ]
    }
   ],
   "source": [
    "t_split = FastTreeValue.func(rise=True)(torch.split)\n",
    "tree = FastTreeValue({\n",
    "    'obs': torch.randn(8, 4, 84, 84),\n",
    "    'action': torch.randint(0, 6, size=(8, 1,)),\n",
    "    'reward': torch.rand(8, 1),\n",
    "})\n",
    "\n",
    "%timeit t_split(tree, 1)"
   ]
  },
  {
   "cell_type": "markdown",
   "id": "31c3ec0b",
   "metadata": {},
   "source": [
    "### Performance of Tianshou Batch"
   ]
  },
  {
   "cell_type": "code",
   "execution_count": 25,
   "id": "9ead828a",
   "metadata": {
    "execution": {
     "iopub.execute_input": "2023-02-25T18:36:02.052117Z",
     "iopub.status.busy": "2023-02-25T18:36:02.051779Z",
     "iopub.status.idle": "2023-02-25T18:36:02.059573Z",
     "shell.execute_reply": "2023-02-25T18:36:02.058993Z"
    }
   },
   "outputs": [
    {
     "data": {
      "text/plain": [
       "Batch(\n",
       "    x: Batch(\n",
       "           c: tensor([[[-0.5012,  0.4784,  0.0666,  0.5823],\n",
       "                       [-0.2759,  0.4881,  0.1142,  0.6298],\n",
       "                       [ 0.1480, -0.5355,  1.7297, -0.1985]],\n",
       "              \n",
       "                      [[-0.5012,  0.4784,  0.0666,  0.5823],\n",
       "                       [-0.2759,  0.4881,  0.1142,  0.6298],\n",
       "                       [ 0.1480, -0.5355,  1.7297, -0.1985]],\n",
       "              \n",
       "                      [[-0.5012,  0.4784,  0.0666,  0.5823],\n",
       "                       [-0.2759,  0.4881,  0.1142,  0.6298],\n",
       "                       [ 0.1480, -0.5355,  1.7297, -0.1985]],\n",
       "              \n",
       "                      [[-0.5012,  0.4784,  0.0666,  0.5823],\n",
       "                       [-0.2759,  0.4881,  0.1142,  0.6298],\n",
       "                       [ 0.1480, -0.5355,  1.7297, -0.1985]],\n",
       "              \n",
       "                      [[-0.5012,  0.4784,  0.0666,  0.5823],\n",
       "                       [-0.2759,  0.4881,  0.1142,  0.6298],\n",
       "                       [ 0.1480, -0.5355,  1.7297, -0.1985]],\n",
       "              \n",
       "                      [[-0.5012,  0.4784,  0.0666,  0.5823],\n",
       "                       [-0.2759,  0.4881,  0.1142,  0.6298],\n",
       "                       [ 0.1480, -0.5355,  1.7297, -0.1985]],\n",
       "              \n",
       "                      [[-0.5012,  0.4784,  0.0666,  0.5823],\n",
       "                       [-0.2759,  0.4881,  0.1142,  0.6298],\n",
       "                       [ 0.1480, -0.5355,  1.7297, -0.1985]],\n",
       "              \n",
       "                      [[-0.5012,  0.4784,  0.0666,  0.5823],\n",
       "                       [-0.2759,  0.4881,  0.1142,  0.6298],\n",
       "                       [ 0.1480, -0.5355,  1.7297, -0.1985]]]),\n",
       "       ),\n",
       "    a: tensor([[[ 0.7027,  2.2995,  0.6211],\n",
       "                [ 0.7052,  0.1130, -0.7534]],\n",
       "       \n",
       "               [[ 0.7027,  2.2995,  0.6211],\n",
       "                [ 0.7052,  0.1130, -0.7534]],\n",
       "       \n",
       "               [[ 0.7027,  2.2995,  0.6211],\n",
       "                [ 0.7052,  0.1130, -0.7534]],\n",
       "       \n",
       "               [[ 0.7027,  2.2995,  0.6211],\n",
       "                [ 0.7052,  0.1130, -0.7534]],\n",
       "       \n",
       "               [[ 0.7027,  2.2995,  0.6211],\n",
       "                [ 0.7052,  0.1130, -0.7534]],\n",
       "       \n",
       "               [[ 0.7027,  2.2995,  0.6211],\n",
       "                [ 0.7052,  0.1130, -0.7534]],\n",
       "       \n",
       "               [[ 0.7027,  2.2995,  0.6211],\n",
       "                [ 0.7052,  0.1130, -0.7534]],\n",
       "       \n",
       "               [[ 0.7027,  2.2995,  0.6211],\n",
       "                [ 0.7052,  0.1130, -0.7534]]]),\n",
       ")"
      ]
     },
     "execution_count": 25,
     "metadata": {},
     "output_type": "execute_result"
    }
   ],
   "source": [
    "batches = [Batch(**_TREE_DATA_2) for _ in range(8)]\n",
    "\n",
    "Batch.stack(batches)"
   ]
  },
  {
   "cell_type": "code",
   "execution_count": 26,
   "id": "ec9037a3",
   "metadata": {
    "execution": {
     "iopub.execute_input": "2023-02-25T18:36:02.062249Z",
     "iopub.status.busy": "2023-02-25T18:36:02.061683Z",
     "iopub.status.idle": "2023-02-25T18:36:08.418658Z",
     "shell.execute_reply": "2023-02-25T18:36:08.417968Z"
    }
   },
   "outputs": [
    {
     "name": "stdout",
     "output_type": "stream",
     "text": [
      "78.3 µs ± 220 ns per loop (mean ± std. dev. of 7 runs, 10,000 loops each)\n"
     ]
    }
   ],
   "source": [
    "%timeit Batch.stack(batches)"
   ]
  },
  {
   "cell_type": "code",
   "execution_count": 27,
   "id": "cb8ab77e",
   "metadata": {
    "execution": {
     "iopub.execute_input": "2023-02-25T18:36:08.422187Z",
     "iopub.status.busy": "2023-02-25T18:36:08.421386Z",
     "iopub.status.idle": "2023-02-25T18:36:08.429017Z",
     "shell.execute_reply": "2023-02-25T18:36:08.428409Z"
    }
   },
   "outputs": [
    {
     "data": {
      "text/plain": [
       "Batch(\n",
       "    x: Batch(\n",
       "           c: tensor([[-0.5012,  0.4784,  0.0666,  0.5823],\n",
       "                      [-0.2759,  0.4881,  0.1142,  0.6298],\n",
       "                      [ 0.1480, -0.5355,  1.7297, -0.1985],\n",
       "                      [-0.5012,  0.4784,  0.0666,  0.5823],\n",
       "                      [-0.2759,  0.4881,  0.1142,  0.6298],\n",
       "                      [ 0.1480, -0.5355,  1.7297, -0.1985],\n",
       "                      [-0.5012,  0.4784,  0.0666,  0.5823],\n",
       "                      [-0.2759,  0.4881,  0.1142,  0.6298],\n",
       "                      [ 0.1480, -0.5355,  1.7297, -0.1985],\n",
       "                      [-0.5012,  0.4784,  0.0666,  0.5823],\n",
       "                      [-0.2759,  0.4881,  0.1142,  0.6298],\n",
       "                      [ 0.1480, -0.5355,  1.7297, -0.1985],\n",
       "                      [-0.5012,  0.4784,  0.0666,  0.5823],\n",
       "                      [-0.2759,  0.4881,  0.1142,  0.6298],\n",
       "                      [ 0.1480, -0.5355,  1.7297, -0.1985],\n",
       "                      [-0.5012,  0.4784,  0.0666,  0.5823],\n",
       "                      [-0.2759,  0.4881,  0.1142,  0.6298],\n",
       "                      [ 0.1480, -0.5355,  1.7297, -0.1985],\n",
       "                      [-0.5012,  0.4784,  0.0666,  0.5823],\n",
       "                      [-0.2759,  0.4881,  0.1142,  0.6298],\n",
       "                      [ 0.1480, -0.5355,  1.7297, -0.1985],\n",
       "                      [-0.5012,  0.4784,  0.0666,  0.5823],\n",
       "                      [-0.2759,  0.4881,  0.1142,  0.6298],\n",
       "                      [ 0.1480, -0.5355,  1.7297, -0.1985]]),\n",
       "       ),\n",
       "    a: tensor([[ 0.7027,  2.2995,  0.6211],\n",
       "               [ 0.7052,  0.1130, -0.7534],\n",
       "               [ 0.7027,  2.2995,  0.6211],\n",
       "               [ 0.7052,  0.1130, -0.7534],\n",
       "               [ 0.7027,  2.2995,  0.6211],\n",
       "               [ 0.7052,  0.1130, -0.7534],\n",
       "               [ 0.7027,  2.2995,  0.6211],\n",
       "               [ 0.7052,  0.1130, -0.7534],\n",
       "               [ 0.7027,  2.2995,  0.6211],\n",
       "               [ 0.7052,  0.1130, -0.7534],\n",
       "               [ 0.7027,  2.2995,  0.6211],\n",
       "               [ 0.7052,  0.1130, -0.7534],\n",
       "               [ 0.7027,  2.2995,  0.6211],\n",
       "               [ 0.7052,  0.1130, -0.7534],\n",
       "               [ 0.7027,  2.2995,  0.6211],\n",
       "               [ 0.7052,  0.1130, -0.7534]]),\n",
       ")"
      ]
     },
     "execution_count": 27,
     "metadata": {},
     "output_type": "execute_result"
    }
   ],
   "source": [
    "Batch.cat(batches)"
   ]
  },
  {
   "cell_type": "code",
   "execution_count": 28,
   "id": "18dfb045",
   "metadata": {
    "execution": {
     "iopub.execute_input": "2023-02-25T18:36:08.431826Z",
     "iopub.status.busy": "2023-02-25T18:36:08.431326Z",
     "iopub.status.idle": "2023-02-25T18:36:20.000237Z",
     "shell.execute_reply": "2023-02-25T18:36:19.999492Z"
    }
   },
   "outputs": [
    {
     "name": "stdout",
     "output_type": "stream",
     "text": [
      "143 µs ± 248 ns per loop (mean ± std. dev. of 7 runs, 10,000 loops each)\n"
     ]
    }
   ],
   "source": [
    "%timeit Batch.cat(batches)"
   ]
  },
  {
   "cell_type": "code",
   "execution_count": 29,
   "id": "c6688e51",
   "metadata": {
    "execution": {
     "iopub.execute_input": "2023-02-25T18:36:20.003385Z",
     "iopub.status.busy": "2023-02-25T18:36:20.002864Z",
     "iopub.status.idle": "2023-02-25T18:36:22.495554Z",
     "shell.execute_reply": "2023-02-25T18:36:22.494810Z"
    }
   },
   "outputs": [
    {
     "name": "stdout",
     "output_type": "stream",
     "text": [
      "306 µs ± 957 ns per loop (mean ± std. dev. of 7 runs, 1,000 loops each)\n"
     ]
    }
   ],
   "source": [
    "batch = Batch({\n",
    "    'obs': torch.randn(8, 4, 84, 84),\n",
    "    'action': torch.randint(0, 6, size=(8, 1,)),\n",
    "    'reward': torch.rand(8, 1)}\n",
    ")\n",
    "\n",
    "%timeit list(Batch.split(batch, 1, shuffle=False, merge_last=True))"
   ]
  },
  {
   "cell_type": "code",
   "execution_count": null,
   "id": "2539fbd9",
   "metadata": {},
   "outputs": [],
   "source": []
  }
 ],
 "metadata": {
  "kernelspec": {
   "display_name": "Python 3 (ipykernel)",
   "language": "python",
   "name": "python3"
  },
  "language_info": {
   "codemirror_mode": {
    "name": "ipython",
    "version": 3
   },
   "file_extension": ".py",
   "mimetype": "text/x-python",
   "name": "python",
   "nbconvert_exporter": "python",
   "pygments_lexer": "ipython3",
   "version": "3.8.16"
  }
 },
 "nbformat": 4,
 "nbformat_minor": 5
}
