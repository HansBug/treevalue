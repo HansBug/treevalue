{
 "cells": [
  {
   "cell_type": "markdown",
   "id": "9d39d946",
   "metadata": {},
   "source": [
    "# Comparison Between TreeValue and Tianshou Batch"
   ]
  },
  {
   "cell_type": "markdown",
   "id": "3c6db2d4",
   "metadata": {},
   "source": [
    "In this section, we will take a look at the feature and performance of the [Tianshou Batch](https://github.com/thu-ml/tianshou) library, which is developed by Tsinghua Machine Learning Group."
   ]
  },
  {
   "cell_type": "markdown",
   "id": "069361b0",
   "metadata": {},
   "source": [
    "Before starting the comparison, let us define some thing."
   ]
  },
  {
   "cell_type": "code",
   "execution_count": 1,
   "id": "06fc8d26",
   "metadata": {
    "execution": {
     "iopub.execute_input": "2023-02-26T05:27:17.859414Z",
     "iopub.status.busy": "2023-02-26T05:27:17.859200Z",
     "iopub.status.idle": "2023-02-26T05:27:18.796751Z",
     "shell.execute_reply": "2023-02-26T05:27:18.796040Z"
    }
   },
   "outputs": [
    {
     "name": "stderr",
     "output_type": "stream",
     "text": [
      "/opt/hostedtoolcache/Python/3.8.16/x64/lib/python3.8/site-packages/tqdm/auto.py:22: TqdmWarning: IProgress not found. Please update jupyter and ipywidgets. See https://ipywidgets.readthedocs.io/en/stable/user_install.html\n",
      "  from .autonotebook import tqdm as notebook_tqdm\n"
     ]
    }
   ],
   "source": [
    "import torch \n",
    "\n",
    "_TREE_DATA_1 = {'a': 1, 'b': 2, 'x': {'c': 3, 'd': 4}}\n",
    "_TREE_DATA_2 = {\n",
    "    'a': torch.randn(2, 3), \n",
    "    'x': {\n",
    "        'c': torch.randn(3, 4)\n",
    "    },\n",
    "}\n",
    "_TREE_DATA_3 = {\n",
    "    'obs': torch.randn(4, 84, 84),\n",
    "    'action': torch.randint(0, 6, size=(1,)),\n",
    "    'reward': torch.rand(1),\n",
    "}"
   ]
  },
  {
   "cell_type": "markdown",
   "id": "83461b25",
   "metadata": {},
   "source": [
    "## Read and Write Operation"
   ]
  },
  {
   "cell_type": "markdown",
   "id": "067b3f73",
   "metadata": {},
   "source": [
    "Reading and writing are the two most common operations in the tree data structure based on the data model (TreeValue and Tianshou Batch both belong to this type), so this section will compare the reading and writing performance of these two libraries."
   ]
  },
  {
   "cell_type": "markdown",
   "id": "5d09a5b7",
   "metadata": {},
   "source": [
    "### TreeValue's Get and Set"
   ]
  },
  {
   "cell_type": "code",
   "execution_count": 2,
   "id": "9519c4bb",
   "metadata": {
    "execution": {
     "iopub.execute_input": "2023-02-26T05:27:18.800027Z",
     "iopub.status.busy": "2023-02-26T05:27:18.799450Z",
     "iopub.status.idle": "2023-02-26T05:27:18.833049Z",
     "shell.execute_reply": "2023-02-26T05:27:18.832384Z"
    }
   },
   "outputs": [],
   "source": [
    "from treevalue import FastTreeValue\n",
    "\n",
    "t = FastTreeValue(_TREE_DATA_2)"
   ]
  },
  {
   "cell_type": "code",
   "execution_count": 3,
   "id": "11c37677",
   "metadata": {
    "execution": {
     "iopub.execute_input": "2023-02-26T05:27:18.836019Z",
     "iopub.status.busy": "2023-02-26T05:27:18.835466Z",
     "iopub.status.idle": "2023-02-26T05:27:18.844789Z",
     "shell.execute_reply": "2023-02-26T05:27:18.844197Z"
    }
   },
   "outputs": [
    {
     "data": {
      "text/plain": [
       "<FastTreeValue 0x7f40b86e1ee0>\n",
       "├── 'a' --> tensor([[-0.3776,  0.8561, -0.6487],\n",
       "│                   [ 0.4783, -0.8890, -1.1294]])\n",
       "└── 'x' --> <FastTreeValue 0x7f40b86e1fd0>\n",
       "    └── 'c' --> tensor([[ 0.2123,  0.9684, -0.3233, -1.5284],\n",
       "                        [-0.0228,  0.1428,  0.0943,  0.0094],\n",
       "                        [-0.0640,  0.0836, -0.2168, -1.0332]])"
      ]
     },
     "execution_count": 3,
     "metadata": {},
     "output_type": "execute_result"
    }
   ],
   "source": [
    "t"
   ]
  },
  {
   "cell_type": "code",
   "execution_count": 4,
   "id": "fd70b0b9",
   "metadata": {
    "execution": {
     "iopub.execute_input": "2023-02-26T05:27:18.847286Z",
     "iopub.status.busy": "2023-02-26T05:27:18.846955Z",
     "iopub.status.idle": "2023-02-26T05:27:18.851738Z",
     "shell.execute_reply": "2023-02-26T05:27:18.851119Z"
    }
   },
   "outputs": [
    {
     "data": {
      "text/plain": [
       "tensor([[-0.3776,  0.8561, -0.6487],\n",
       "        [ 0.4783, -0.8890, -1.1294]])"
      ]
     },
     "execution_count": 4,
     "metadata": {},
     "output_type": "execute_result"
    }
   ],
   "source": [
    "t.a"
   ]
  },
  {
   "cell_type": "code",
   "execution_count": 5,
   "id": "c18197bd",
   "metadata": {
    "execution": {
     "iopub.execute_input": "2023-02-26T05:27:18.854310Z",
     "iopub.status.busy": "2023-02-26T05:27:18.853790Z",
     "iopub.status.idle": "2023-02-26T05:27:23.590679Z",
     "shell.execute_reply": "2023-02-26T05:27:23.589917Z"
    }
   },
   "outputs": [
    {
     "name": "stdout",
     "output_type": "stream",
     "text": [
      "58.2 ns ± 0.0585 ns per loop (mean ± std. dev. of 7 runs, 10,000,000 loops each)\n"
     ]
    }
   ],
   "source": [
    "%timeit t.a"
   ]
  },
  {
   "cell_type": "code",
   "execution_count": 6,
   "id": "bd52f867",
   "metadata": {
    "execution": {
     "iopub.execute_input": "2023-02-26T05:27:23.593611Z",
     "iopub.status.busy": "2023-02-26T05:27:23.593266Z",
     "iopub.status.idle": "2023-02-26T05:27:23.600738Z",
     "shell.execute_reply": "2023-02-26T05:27:23.600158Z"
    }
   },
   "outputs": [
    {
     "data": {
      "text/plain": [
       "<FastTreeValue 0x7f40b86e1ee0>\n",
       "├── 'a' --> tensor([[ 1.1522, -0.6028,  0.0096],\n",
       "│                   [ 0.4601, -0.2388,  0.4723]])\n",
       "└── 'x' --> <FastTreeValue 0x7f40b86e1fd0>\n",
       "    └── 'c' --> tensor([[ 0.2123,  0.9684, -0.3233, -1.5284],\n",
       "                        [-0.0228,  0.1428,  0.0943,  0.0094],\n",
       "                        [-0.0640,  0.0836, -0.2168, -1.0332]])"
      ]
     },
     "execution_count": 6,
     "metadata": {},
     "output_type": "execute_result"
    }
   ],
   "source": [
    "new_value = torch.randn(2, 3)\n",
    "t.a = new_value\n",
    "\n",
    "t"
   ]
  },
  {
   "cell_type": "code",
   "execution_count": 7,
   "id": "bbe04d1c",
   "metadata": {
    "execution": {
     "iopub.execute_input": "2023-02-26T05:27:23.603406Z",
     "iopub.status.busy": "2023-02-26T05:27:23.603074Z",
     "iopub.status.idle": "2023-02-26T05:27:28.667748Z",
     "shell.execute_reply": "2023-02-26T05:27:28.666992Z"
    }
   },
   "outputs": [
    {
     "name": "stdout",
     "output_type": "stream",
     "text": [
      "62.3 ns ± 0.0577 ns per loop (mean ± std. dev. of 7 runs, 10,000,000 loops each)\n"
     ]
    }
   ],
   "source": [
    "%timeit t.a = new_value"
   ]
  },
  {
   "cell_type": "markdown",
   "id": "48c49731",
   "metadata": {},
   "source": [
    "### Tianshou Batch's Get and Set"
   ]
  },
  {
   "cell_type": "code",
   "execution_count": 8,
   "id": "f1bb14c1",
   "metadata": {
    "execution": {
     "iopub.execute_input": "2023-02-26T05:27:28.670516Z",
     "iopub.status.busy": "2023-02-26T05:27:28.670081Z",
     "iopub.status.idle": "2023-02-26T05:27:29.000966Z",
     "shell.execute_reply": "2023-02-26T05:27:29.000281Z"
    }
   },
   "outputs": [],
   "source": [
    "from tianshou.data import Batch\n",
    "\n",
    "b = Batch(**_TREE_DATA_2)"
   ]
  },
  {
   "cell_type": "code",
   "execution_count": 9,
   "id": "cb0777c3",
   "metadata": {
    "execution": {
     "iopub.execute_input": "2023-02-26T05:27:29.004411Z",
     "iopub.status.busy": "2023-02-26T05:27:29.003742Z",
     "iopub.status.idle": "2023-02-26T05:27:29.009197Z",
     "shell.execute_reply": "2023-02-26T05:27:29.008564Z"
    }
   },
   "outputs": [
    {
     "data": {
      "text/plain": [
       "Batch(\n",
       "    a: tensor([[-0.3776,  0.8561, -0.6487],\n",
       "               [ 0.4783, -0.8890, -1.1294]]),\n",
       "    x: Batch(\n",
       "           c: tensor([[ 0.2123,  0.9684, -0.3233, -1.5284],\n",
       "                      [-0.0228,  0.1428,  0.0943,  0.0094],\n",
       "                      [-0.0640,  0.0836, -0.2168, -1.0332]]),\n",
       "       ),\n",
       ")"
      ]
     },
     "execution_count": 9,
     "metadata": {},
     "output_type": "execute_result"
    }
   ],
   "source": [
    "b"
   ]
  },
  {
   "cell_type": "code",
   "execution_count": 10,
   "id": "43ef8ea3",
   "metadata": {
    "execution": {
     "iopub.execute_input": "2023-02-26T05:27:29.012056Z",
     "iopub.status.busy": "2023-02-26T05:27:29.011490Z",
     "iopub.status.idle": "2023-02-26T05:27:29.016764Z",
     "shell.execute_reply": "2023-02-26T05:27:29.016202Z"
    }
   },
   "outputs": [
    {
     "data": {
      "text/plain": [
       "tensor([[-0.3776,  0.8561, -0.6487],\n",
       "        [ 0.4783, -0.8890, -1.1294]])"
      ]
     },
     "execution_count": 10,
     "metadata": {},
     "output_type": "execute_result"
    }
   ],
   "source": [
    "b.a"
   ]
  },
  {
   "cell_type": "code",
   "execution_count": 11,
   "id": "b785ab72",
   "metadata": {
    "execution": {
     "iopub.execute_input": "2023-02-26T05:27:29.019103Z",
     "iopub.status.busy": "2023-02-26T05:27:29.018761Z",
     "iopub.status.idle": "2023-02-26T05:27:33.824288Z",
     "shell.execute_reply": "2023-02-26T05:27:33.823573Z"
    }
   },
   "outputs": [
    {
     "name": "stdout",
     "output_type": "stream",
     "text": [
      "59.1 ns ± 0.105 ns per loop (mean ± std. dev. of 7 runs, 10,000,000 loops each)\n"
     ]
    }
   ],
   "source": [
    "%timeit b.a"
   ]
  },
  {
   "cell_type": "code",
   "execution_count": 12,
   "id": "ad54dc69",
   "metadata": {
    "execution": {
     "iopub.execute_input": "2023-02-26T05:27:33.827464Z",
     "iopub.status.busy": "2023-02-26T05:27:33.826908Z",
     "iopub.status.idle": "2023-02-26T05:27:33.833317Z",
     "shell.execute_reply": "2023-02-26T05:27:33.832706Z"
    }
   },
   "outputs": [
    {
     "data": {
      "text/plain": [
       "Batch(\n",
       "    a: tensor([[ 1.6243, -1.0229,  1.5479],\n",
       "               [ 0.0511,  0.3427, -1.1228]]),\n",
       "    x: Batch(\n",
       "           c: tensor([[ 0.2123,  0.9684, -0.3233, -1.5284],\n",
       "                      [-0.0228,  0.1428,  0.0943,  0.0094],\n",
       "                      [-0.0640,  0.0836, -0.2168, -1.0332]]),\n",
       "       ),\n",
       ")"
      ]
     },
     "execution_count": 12,
     "metadata": {},
     "output_type": "execute_result"
    }
   ],
   "source": [
    "new_value = torch.randn(2, 3)\n",
    "b.a = new_value\n",
    "\n",
    "b"
   ]
  },
  {
   "cell_type": "code",
   "execution_count": 13,
   "id": "29b1d0bf",
   "metadata": {
    "execution": {
     "iopub.execute_input": "2023-02-26T05:27:33.835715Z",
     "iopub.status.busy": "2023-02-26T05:27:33.835374Z",
     "iopub.status.idle": "2023-02-26T05:27:37.744747Z",
     "shell.execute_reply": "2023-02-26T05:27:37.744088Z"
    }
   },
   "outputs": [
    {
     "name": "stdout",
     "output_type": "stream",
     "text": [
      "481 ns ± 0.104 ns per loop (mean ± std. dev. of 7 runs, 1,000,000 loops each)\n"
     ]
    }
   ],
   "source": [
    "%timeit b.a = new_value"
   ]
  },
  {
   "cell_type": "markdown",
   "id": "b61ad1d0",
   "metadata": {},
   "source": [
    "## Initialization"
   ]
  },
  {
   "cell_type": "markdown",
   "id": "d70f0d54",
   "metadata": {},
   "source": [
    "### TreeValue's Initialization"
   ]
  },
  {
   "cell_type": "code",
   "execution_count": 14,
   "id": "d32a679b",
   "metadata": {
    "execution": {
     "iopub.execute_input": "2023-02-26T05:27:37.747858Z",
     "iopub.status.busy": "2023-02-26T05:27:37.747383Z",
     "iopub.status.idle": "2023-02-26T05:27:44.804099Z",
     "shell.execute_reply": "2023-02-26T05:27:44.803430Z"
    }
   },
   "outputs": [
    {
     "name": "stdout",
     "output_type": "stream",
     "text": [
      "869 ns ± 0.326 ns per loop (mean ± std. dev. of 7 runs, 1,000,000 loops each)\n"
     ]
    }
   ],
   "source": [
    "%timeit FastTreeValue(_TREE_DATA_1)"
   ]
  },
  {
   "cell_type": "markdown",
   "id": "24f3707b",
   "metadata": {},
   "source": [
    "### Tianshou Batch's Initialization"
   ]
  },
  {
   "cell_type": "code",
   "execution_count": 15,
   "id": "ac3958df",
   "metadata": {
    "execution": {
     "iopub.execute_input": "2023-02-26T05:27:44.807283Z",
     "iopub.status.busy": "2023-02-26T05:27:44.806693Z",
     "iopub.status.idle": "2023-02-26T05:27:54.094883Z",
     "shell.execute_reply": "2023-02-26T05:27:54.094132Z"
    }
   },
   "outputs": [
    {
     "name": "stdout",
     "output_type": "stream",
     "text": [
      "11.5 µs ± 23.8 ns per loop (mean ± std. dev. of 7 runs, 100,000 loops each)\n"
     ]
    }
   ],
   "source": [
    "%timeit Batch(**_TREE_DATA_1)"
   ]
  },
  {
   "cell_type": "markdown",
   "id": "1ab82e2d",
   "metadata": {},
   "source": [
    "## Deep Copy Operation"
   ]
  },
  {
   "cell_type": "code",
   "execution_count": 16,
   "id": "210a9442",
   "metadata": {
    "execution": {
     "iopub.execute_input": "2023-02-26T05:27:54.098074Z",
     "iopub.status.busy": "2023-02-26T05:27:54.097573Z",
     "iopub.status.idle": "2023-02-26T05:27:54.102433Z",
     "shell.execute_reply": "2023-02-26T05:27:54.100889Z"
    }
   },
   "outputs": [],
   "source": [
    "import copy"
   ]
  },
  {
   "cell_type": "markdown",
   "id": "5a736274",
   "metadata": {},
   "source": [
    "### Deep Copy of TreeValue"
   ]
  },
  {
   "cell_type": "code",
   "execution_count": 17,
   "id": "f9bcadd6",
   "metadata": {
    "execution": {
     "iopub.execute_input": "2023-02-26T05:27:54.105055Z",
     "iopub.status.busy": "2023-02-26T05:27:54.104719Z",
     "iopub.status.idle": "2023-02-26T05:28:05.144816Z",
     "shell.execute_reply": "2023-02-26T05:28:05.144257Z"
    }
   },
   "outputs": [
    {
     "name": "stdout",
     "output_type": "stream",
     "text": [
      "136 µs ± 622 ns per loop (mean ± std. dev. of 7 runs, 10,000 loops each)\n"
     ]
    }
   ],
   "source": [
    "t3 = FastTreeValue(_TREE_DATA_3)\n",
    "%timeit copy.deepcopy(t3)"
   ]
  },
  {
   "cell_type": "markdown",
   "id": "bf8be7ea",
   "metadata": {},
   "source": [
    "### Deep Copy of Tianshou Batch"
   ]
  },
  {
   "cell_type": "code",
   "execution_count": 18,
   "id": "91998e6f",
   "metadata": {
    "execution": {
     "iopub.execute_input": "2023-02-26T05:28:05.147630Z",
     "iopub.status.busy": "2023-02-26T05:28:05.146952Z",
     "iopub.status.idle": "2023-02-26T05:28:16.455723Z",
     "shell.execute_reply": "2023-02-26T05:28:16.455157Z"
    }
   },
   "outputs": [
    {
     "name": "stdout",
     "output_type": "stream",
     "text": [
      "139 µs ± 355 ns per loop (mean ± std. dev. of 7 runs, 10,000 loops each)\n"
     ]
    }
   ],
   "source": [
    "b3 = Batch(**_TREE_DATA_3)\n",
    "%timeit copy.deepcopy(b3)"
   ]
  },
  {
   "cell_type": "markdown",
   "id": "223162fb",
   "metadata": {},
   "source": [
    "## Stack, Concat and Split Operation"
   ]
  },
  {
   "cell_type": "markdown",
   "id": "85fa4a73",
   "metadata": {},
   "source": [
    "### Performance of TreeValue"
   ]
  },
  {
   "cell_type": "code",
   "execution_count": 19,
   "id": "a0c2b697",
   "metadata": {
    "execution": {
     "iopub.execute_input": "2023-02-26T05:28:16.458464Z",
     "iopub.status.busy": "2023-02-26T05:28:16.458223Z",
     "iopub.status.idle": "2023-02-26T05:28:16.462901Z",
     "shell.execute_reply": "2023-02-26T05:28:16.461731Z"
    }
   },
   "outputs": [],
   "source": [
    "trees = [FastTreeValue(_TREE_DATA_2) for _ in range(8)]"
   ]
  },
  {
   "cell_type": "code",
   "execution_count": 20,
   "id": "017ea5a5",
   "metadata": {
    "execution": {
     "iopub.execute_input": "2023-02-26T05:28:16.465595Z",
     "iopub.status.busy": "2023-02-26T05:28:16.465372Z",
     "iopub.status.idle": "2023-02-26T05:28:16.473524Z",
     "shell.execute_reply": "2023-02-26T05:28:16.472943Z"
    }
   },
   "outputs": [
    {
     "data": {
      "text/plain": [
       "<FastTreeValue 0x7f40b874ef70>\n",
       "├── 'a' --> tensor([[[-0.3776,  0.8561, -0.6487],\n",
       "│                    [ 0.4783, -0.8890, -1.1294]],\n",
       "│           \n",
       "│                   [[-0.3776,  0.8561, -0.6487],\n",
       "│                    [ 0.4783, -0.8890, -1.1294]],\n",
       "│           \n",
       "│                   [[-0.3776,  0.8561, -0.6487],\n",
       "│                    [ 0.4783, -0.8890, -1.1294]],\n",
       "│           \n",
       "│                   [[-0.3776,  0.8561, -0.6487],\n",
       "│                    [ 0.4783, -0.8890, -1.1294]],\n",
       "│           \n",
       "│                   [[-0.3776,  0.8561, -0.6487],\n",
       "│                    [ 0.4783, -0.8890, -1.1294]],\n",
       "│           \n",
       "│                   [[-0.3776,  0.8561, -0.6487],\n",
       "│                    [ 0.4783, -0.8890, -1.1294]],\n",
       "│           \n",
       "│                   [[-0.3776,  0.8561, -0.6487],\n",
       "│                    [ 0.4783, -0.8890, -1.1294]],\n",
       "│           \n",
       "│                   [[-0.3776,  0.8561, -0.6487],\n",
       "│                    [ 0.4783, -0.8890, -1.1294]]])\n",
       "└── 'x' --> <FastTreeValue 0x7f400ca9fcd0>\n",
       "    └── 'c' --> tensor([[[ 0.2123,  0.9684, -0.3233, -1.5284],\n",
       "                         [-0.0228,  0.1428,  0.0943,  0.0094],\n",
       "                         [-0.0640,  0.0836, -0.2168, -1.0332]],\n",
       "                \n",
       "                        [[ 0.2123,  0.9684, -0.3233, -1.5284],\n",
       "                         [-0.0228,  0.1428,  0.0943,  0.0094],\n",
       "                         [-0.0640,  0.0836, -0.2168, -1.0332]],\n",
       "                \n",
       "                        [[ 0.2123,  0.9684, -0.3233, -1.5284],\n",
       "                         [-0.0228,  0.1428,  0.0943,  0.0094],\n",
       "                         [-0.0640,  0.0836, -0.2168, -1.0332]],\n",
       "                \n",
       "                        [[ 0.2123,  0.9684, -0.3233, -1.5284],\n",
       "                         [-0.0228,  0.1428,  0.0943,  0.0094],\n",
       "                         [-0.0640,  0.0836, -0.2168, -1.0332]],\n",
       "                \n",
       "                        [[ 0.2123,  0.9684, -0.3233, -1.5284],\n",
       "                         [-0.0228,  0.1428,  0.0943,  0.0094],\n",
       "                         [-0.0640,  0.0836, -0.2168, -1.0332]],\n",
       "                \n",
       "                        [[ 0.2123,  0.9684, -0.3233, -1.5284],\n",
       "                         [-0.0228,  0.1428,  0.0943,  0.0094],\n",
       "                         [-0.0640,  0.0836, -0.2168, -1.0332]],\n",
       "                \n",
       "                        [[ 0.2123,  0.9684, -0.3233, -1.5284],\n",
       "                         [-0.0228,  0.1428,  0.0943,  0.0094],\n",
       "                         [-0.0640,  0.0836, -0.2168, -1.0332]],\n",
       "                \n",
       "                        [[ 0.2123,  0.9684, -0.3233, -1.5284],\n",
       "                         [-0.0228,  0.1428,  0.0943,  0.0094],\n",
       "                         [-0.0640,  0.0836, -0.2168, -1.0332]]])"
      ]
     },
     "execution_count": 20,
     "metadata": {},
     "output_type": "execute_result"
    }
   ],
   "source": [
    "t_stack = FastTreeValue.func(subside=True)(torch.stack)\n",
    "\n",
    "t_stack(trees)"
   ]
  },
  {
   "cell_type": "code",
   "execution_count": 21,
   "id": "f8b3f415",
   "metadata": {
    "execution": {
     "iopub.execute_input": "2023-02-26T05:28:16.476119Z",
     "iopub.status.busy": "2023-02-26T05:28:16.475894Z",
     "iopub.status.idle": "2023-02-26T05:28:19.114073Z",
     "shell.execute_reply": "2023-02-26T05:28:19.113293Z"
    }
   },
   "outputs": [
    {
     "name": "stdout",
     "output_type": "stream",
     "text": [
      "32.4 µs ± 99.2 ns per loop (mean ± std. dev. of 7 runs, 10,000 loops each)\n"
     ]
    }
   ],
   "source": [
    "%timeit t_stack(trees)"
   ]
  },
  {
   "cell_type": "code",
   "execution_count": 22,
   "id": "94b56771",
   "metadata": {
    "execution": {
     "iopub.execute_input": "2023-02-26T05:28:19.117077Z",
     "iopub.status.busy": "2023-02-26T05:28:19.116711Z",
     "iopub.status.idle": "2023-02-26T05:28:19.126109Z",
     "shell.execute_reply": "2023-02-26T05:28:19.124829Z"
    }
   },
   "outputs": [
    {
     "data": {
      "text/plain": [
       "<FastTreeValue 0x7f4012fa7790>\n",
       "├── 'a' --> tensor([[-0.3776,  0.8561, -0.6487],\n",
       "│                   [ 0.4783, -0.8890, -1.1294],\n",
       "│                   [-0.3776,  0.8561, -0.6487],\n",
       "│                   [ 0.4783, -0.8890, -1.1294],\n",
       "│                   [-0.3776,  0.8561, -0.6487],\n",
       "│                   [ 0.4783, -0.8890, -1.1294],\n",
       "│                   [-0.3776,  0.8561, -0.6487],\n",
       "│                   [ 0.4783, -0.8890, -1.1294],\n",
       "│                   [-0.3776,  0.8561, -0.6487],\n",
       "│                   [ 0.4783, -0.8890, -1.1294],\n",
       "│                   [-0.3776,  0.8561, -0.6487],\n",
       "│                   [ 0.4783, -0.8890, -1.1294],\n",
       "│                   [-0.3776,  0.8561, -0.6487],\n",
       "│                   [ 0.4783, -0.8890, -1.1294],\n",
       "│                   [-0.3776,  0.8561, -0.6487],\n",
       "│                   [ 0.4783, -0.8890, -1.1294]])\n",
       "└── 'x' --> <FastTreeValue 0x7f4017296340>\n",
       "    └── 'c' --> tensor([[ 0.2123,  0.9684, -0.3233, -1.5284],\n",
       "                        [-0.0228,  0.1428,  0.0943,  0.0094],\n",
       "                        [-0.0640,  0.0836, -0.2168, -1.0332],\n",
       "                        [ 0.2123,  0.9684, -0.3233, -1.5284],\n",
       "                        [-0.0228,  0.1428,  0.0943,  0.0094],\n",
       "                        [-0.0640,  0.0836, -0.2168, -1.0332],\n",
       "                        [ 0.2123,  0.9684, -0.3233, -1.5284],\n",
       "                        [-0.0228,  0.1428,  0.0943,  0.0094],\n",
       "                        [-0.0640,  0.0836, -0.2168, -1.0332],\n",
       "                        [ 0.2123,  0.9684, -0.3233, -1.5284],\n",
       "                        [-0.0228,  0.1428,  0.0943,  0.0094],\n",
       "                        [-0.0640,  0.0836, -0.2168, -1.0332],\n",
       "                        [ 0.2123,  0.9684, -0.3233, -1.5284],\n",
       "                        [-0.0228,  0.1428,  0.0943,  0.0094],\n",
       "                        [-0.0640,  0.0836, -0.2168, -1.0332],\n",
       "                        [ 0.2123,  0.9684, -0.3233, -1.5284],\n",
       "                        [-0.0228,  0.1428,  0.0943,  0.0094],\n",
       "                        [-0.0640,  0.0836, -0.2168, -1.0332],\n",
       "                        [ 0.2123,  0.9684, -0.3233, -1.5284],\n",
       "                        [-0.0228,  0.1428,  0.0943,  0.0094],\n",
       "                        [-0.0640,  0.0836, -0.2168, -1.0332],\n",
       "                        [ 0.2123,  0.9684, -0.3233, -1.5284],\n",
       "                        [-0.0228,  0.1428,  0.0943,  0.0094],\n",
       "                        [-0.0640,  0.0836, -0.2168, -1.0332]])"
      ]
     },
     "execution_count": 22,
     "metadata": {},
     "output_type": "execute_result"
    }
   ],
   "source": [
    "t_cat = FastTreeValue.func(subside=True)(torch.cat)\n",
    "\n",
    "t_cat(trees)"
   ]
  },
  {
   "cell_type": "code",
   "execution_count": 23,
   "id": "5e9c06a6",
   "metadata": {
    "execution": {
     "iopub.execute_input": "2023-02-26T05:28:19.128971Z",
     "iopub.status.busy": "2023-02-26T05:28:19.128495Z",
     "iopub.status.idle": "2023-02-26T05:28:21.631950Z",
     "shell.execute_reply": "2023-02-26T05:28:21.630796Z"
    }
   },
   "outputs": [
    {
     "name": "stdout",
     "output_type": "stream",
     "text": [
      "30.8 µs ± 689 ns per loop (mean ± std. dev. of 7 runs, 10,000 loops each)\n"
     ]
    }
   ],
   "source": [
    "%timeit t_cat(trees)"
   ]
  },
  {
   "cell_type": "code",
   "execution_count": 24,
   "id": "a3ab5c8f",
   "metadata": {
    "execution": {
     "iopub.execute_input": "2023-02-26T05:28:21.635124Z",
     "iopub.status.busy": "2023-02-26T05:28:21.634556Z",
     "iopub.status.idle": "2023-02-26T05:28:26.405956Z",
     "shell.execute_reply": "2023-02-26T05:28:26.405300Z"
    }
   },
   "outputs": [
    {
     "name": "stdout",
     "output_type": "stream",
     "text": [
      "58.7 µs ± 94.5 ns per loop (mean ± std. dev. of 7 runs, 10,000 loops each)\n"
     ]
    }
   ],
   "source": [
    "t_split = FastTreeValue.func(rise=True)(torch.split)\n",
    "tree = FastTreeValue({\n",
    "    'obs': torch.randn(8, 4, 84, 84),\n",
    "    'action': torch.randint(0, 6, size=(8, 1,)),\n",
    "    'reward': torch.rand(8, 1),\n",
    "})\n",
    "\n",
    "%timeit t_split(tree, 1)"
   ]
  },
  {
   "cell_type": "markdown",
   "id": "31c3ec0b",
   "metadata": {},
   "source": [
    "### Performance of Tianshou Batch"
   ]
  },
  {
   "cell_type": "code",
   "execution_count": 25,
   "id": "9ead828a",
   "metadata": {
    "execution": {
     "iopub.execute_input": "2023-02-26T05:28:26.409082Z",
     "iopub.status.busy": "2023-02-26T05:28:26.408576Z",
     "iopub.status.idle": "2023-02-26T05:28:26.416826Z",
     "shell.execute_reply": "2023-02-26T05:28:26.415867Z"
    }
   },
   "outputs": [
    {
     "data": {
      "text/plain": [
       "Batch(\n",
       "    a: tensor([[[-0.3776,  0.8561, -0.6487],\n",
       "                [ 0.4783, -0.8890, -1.1294]],\n",
       "       \n",
       "               [[-0.3776,  0.8561, -0.6487],\n",
       "                [ 0.4783, -0.8890, -1.1294]],\n",
       "       \n",
       "               [[-0.3776,  0.8561, -0.6487],\n",
       "                [ 0.4783, -0.8890, -1.1294]],\n",
       "       \n",
       "               [[-0.3776,  0.8561, -0.6487],\n",
       "                [ 0.4783, -0.8890, -1.1294]],\n",
       "       \n",
       "               [[-0.3776,  0.8561, -0.6487],\n",
       "                [ 0.4783, -0.8890, -1.1294]],\n",
       "       \n",
       "               [[-0.3776,  0.8561, -0.6487],\n",
       "                [ 0.4783, -0.8890, -1.1294]],\n",
       "       \n",
       "               [[-0.3776,  0.8561, -0.6487],\n",
       "                [ 0.4783, -0.8890, -1.1294]],\n",
       "       \n",
       "               [[-0.3776,  0.8561, -0.6487],\n",
       "                [ 0.4783, -0.8890, -1.1294]]]),\n",
       "    x: Batch(\n",
       "           c: tensor([[[ 0.2123,  0.9684, -0.3233, -1.5284],\n",
       "                       [-0.0228,  0.1428,  0.0943,  0.0094],\n",
       "                       [-0.0640,  0.0836, -0.2168, -1.0332]],\n",
       "              \n",
       "                      [[ 0.2123,  0.9684, -0.3233, -1.5284],\n",
       "                       [-0.0228,  0.1428,  0.0943,  0.0094],\n",
       "                       [-0.0640,  0.0836, -0.2168, -1.0332]],\n",
       "              \n",
       "                      [[ 0.2123,  0.9684, -0.3233, -1.5284],\n",
       "                       [-0.0228,  0.1428,  0.0943,  0.0094],\n",
       "                       [-0.0640,  0.0836, -0.2168, -1.0332]],\n",
       "              \n",
       "                      [[ 0.2123,  0.9684, -0.3233, -1.5284],\n",
       "                       [-0.0228,  0.1428,  0.0943,  0.0094],\n",
       "                       [-0.0640,  0.0836, -0.2168, -1.0332]],\n",
       "              \n",
       "                      [[ 0.2123,  0.9684, -0.3233, -1.5284],\n",
       "                       [-0.0228,  0.1428,  0.0943,  0.0094],\n",
       "                       [-0.0640,  0.0836, -0.2168, -1.0332]],\n",
       "              \n",
       "                      [[ 0.2123,  0.9684, -0.3233, -1.5284],\n",
       "                       [-0.0228,  0.1428,  0.0943,  0.0094],\n",
       "                       [-0.0640,  0.0836, -0.2168, -1.0332]],\n",
       "              \n",
       "                      [[ 0.2123,  0.9684, -0.3233, -1.5284],\n",
       "                       [-0.0228,  0.1428,  0.0943,  0.0094],\n",
       "                       [-0.0640,  0.0836, -0.2168, -1.0332]],\n",
       "              \n",
       "                      [[ 0.2123,  0.9684, -0.3233, -1.5284],\n",
       "                       [-0.0228,  0.1428,  0.0943,  0.0094],\n",
       "                       [-0.0640,  0.0836, -0.2168, -1.0332]]]),\n",
       "       ),\n",
       ")"
      ]
     },
     "execution_count": 25,
     "metadata": {},
     "output_type": "execute_result"
    }
   ],
   "source": [
    "batches = [Batch(**_TREE_DATA_2) for _ in range(8)]\n",
    "\n",
    "Batch.stack(batches)"
   ]
  },
  {
   "cell_type": "code",
   "execution_count": 26,
   "id": "ec9037a3",
   "metadata": {
    "execution": {
     "iopub.execute_input": "2023-02-26T05:28:26.419543Z",
     "iopub.status.busy": "2023-02-26T05:28:26.419051Z",
     "iopub.status.idle": "2023-02-26T05:28:32.763849Z",
     "shell.execute_reply": "2023-02-26T05:28:32.762755Z"
    }
   },
   "outputs": [
    {
     "name": "stdout",
     "output_type": "stream",
     "text": [
      "78.1 µs ± 170 ns per loop (mean ± std. dev. of 7 runs, 10,000 loops each)\n"
     ]
    }
   ],
   "source": [
    "%timeit Batch.stack(batches)"
   ]
  },
  {
   "cell_type": "code",
   "execution_count": 27,
   "id": "cb8ab77e",
   "metadata": {
    "execution": {
     "iopub.execute_input": "2023-02-26T05:28:32.766918Z",
     "iopub.status.busy": "2023-02-26T05:28:32.766378Z",
     "iopub.status.idle": "2023-02-26T05:28:32.773921Z",
     "shell.execute_reply": "2023-02-26T05:28:32.773331Z"
    }
   },
   "outputs": [
    {
     "data": {
      "text/plain": [
       "Batch(\n",
       "    a: tensor([[-0.3776,  0.8561, -0.6487],\n",
       "               [ 0.4783, -0.8890, -1.1294],\n",
       "               [-0.3776,  0.8561, -0.6487],\n",
       "               [ 0.4783, -0.8890, -1.1294],\n",
       "               [-0.3776,  0.8561, -0.6487],\n",
       "               [ 0.4783, -0.8890, -1.1294],\n",
       "               [-0.3776,  0.8561, -0.6487],\n",
       "               [ 0.4783, -0.8890, -1.1294],\n",
       "               [-0.3776,  0.8561, -0.6487],\n",
       "               [ 0.4783, -0.8890, -1.1294],\n",
       "               [-0.3776,  0.8561, -0.6487],\n",
       "               [ 0.4783, -0.8890, -1.1294],\n",
       "               [-0.3776,  0.8561, -0.6487],\n",
       "               [ 0.4783, -0.8890, -1.1294],\n",
       "               [-0.3776,  0.8561, -0.6487],\n",
       "               [ 0.4783, -0.8890, -1.1294]]),\n",
       "    x: Batch(\n",
       "           c: tensor([[ 0.2123,  0.9684, -0.3233, -1.5284],\n",
       "                      [-0.0228,  0.1428,  0.0943,  0.0094],\n",
       "                      [-0.0640,  0.0836, -0.2168, -1.0332],\n",
       "                      [ 0.2123,  0.9684, -0.3233, -1.5284],\n",
       "                      [-0.0228,  0.1428,  0.0943,  0.0094],\n",
       "                      [-0.0640,  0.0836, -0.2168, -1.0332],\n",
       "                      [ 0.2123,  0.9684, -0.3233, -1.5284],\n",
       "                      [-0.0228,  0.1428,  0.0943,  0.0094],\n",
       "                      [-0.0640,  0.0836, -0.2168, -1.0332],\n",
       "                      [ 0.2123,  0.9684, -0.3233, -1.5284],\n",
       "                      [-0.0228,  0.1428,  0.0943,  0.0094],\n",
       "                      [-0.0640,  0.0836, -0.2168, -1.0332],\n",
       "                      [ 0.2123,  0.9684, -0.3233, -1.5284],\n",
       "                      [-0.0228,  0.1428,  0.0943,  0.0094],\n",
       "                      [-0.0640,  0.0836, -0.2168, -1.0332],\n",
       "                      [ 0.2123,  0.9684, -0.3233, -1.5284],\n",
       "                      [-0.0228,  0.1428,  0.0943,  0.0094],\n",
       "                      [-0.0640,  0.0836, -0.2168, -1.0332],\n",
       "                      [ 0.2123,  0.9684, -0.3233, -1.5284],\n",
       "                      [-0.0228,  0.1428,  0.0943,  0.0094],\n",
       "                      [-0.0640,  0.0836, -0.2168, -1.0332],\n",
       "                      [ 0.2123,  0.9684, -0.3233, -1.5284],\n",
       "                      [-0.0228,  0.1428,  0.0943,  0.0094],\n",
       "                      [-0.0640,  0.0836, -0.2168, -1.0332]]),\n",
       "       ),\n",
       ")"
      ]
     },
     "execution_count": 27,
     "metadata": {},
     "output_type": "execute_result"
    }
   ],
   "source": [
    "Batch.cat(batches)"
   ]
  },
  {
   "cell_type": "code",
   "execution_count": 28,
   "id": "18dfb045",
   "metadata": {
    "execution": {
     "iopub.execute_input": "2023-02-26T05:28:32.776306Z",
     "iopub.status.busy": "2023-02-26T05:28:32.775969Z",
     "iopub.status.idle": "2023-02-26T05:28:44.372113Z",
     "shell.execute_reply": "2023-02-26T05:28:44.371371Z"
    }
   },
   "outputs": [
    {
     "name": "stdout",
     "output_type": "stream",
     "text": [
      "143 µs ± 222 ns per loop (mean ± std. dev. of 7 runs, 10,000 loops each)\n"
     ]
    }
   ],
   "source": [
    "%timeit Batch.cat(batches)"
   ]
  },
  {
   "cell_type": "code",
   "execution_count": 29,
   "id": "c6688e51",
   "metadata": {
    "execution": {
     "iopub.execute_input": "2023-02-26T05:28:44.375269Z",
     "iopub.status.busy": "2023-02-26T05:28:44.374744Z",
     "iopub.status.idle": "2023-02-26T05:28:46.977727Z",
     "shell.execute_reply": "2023-02-26T05:28:46.976928Z"
    }
   },
   "outputs": [
    {
     "name": "stdout",
     "output_type": "stream",
     "text": [
      "320 µs ± 704 ns per loop (mean ± std. dev. of 7 runs, 1,000 loops each)\n"
     ]
    }
   ],
   "source": [
    "batch = Batch({\n",
    "    'obs': torch.randn(8, 4, 84, 84),\n",
    "    'action': torch.randint(0, 6, size=(8, 1,)),\n",
    "    'reward': torch.rand(8, 1)}\n",
    ")\n",
    "\n",
    "%timeit list(Batch.split(batch, 1, shuffle=False, merge_last=True))"
   ]
  },
  {
   "cell_type": "code",
   "execution_count": null,
   "id": "2539fbd9",
   "metadata": {},
   "outputs": [],
   "source": []
  }
 ],
 "metadata": {
  "kernelspec": {
   "display_name": "Python 3 (ipykernel)",
   "language": "python",
   "name": "python3"
  },
  "language_info": {
   "codemirror_mode": {
    "name": "ipython",
    "version": 3
   },
   "file_extension": ".py",
   "mimetype": "text/x-python",
   "name": "python",
   "nbconvert_exporter": "python",
   "pygments_lexer": "ipython3",
   "version": "3.8.16"
  }
 },
 "nbformat": 4,
 "nbformat_minor": 5
}
