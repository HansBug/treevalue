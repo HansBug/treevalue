{
 "cells": [
  {
   "cell_type": "markdown",
   "id": "9d39d946",
   "metadata": {},
   "source": [
    "# Comparison Between TreeValue and Tianshou Batch"
   ]
  },
  {
   "cell_type": "markdown",
   "id": "3c6db2d4",
   "metadata": {},
   "source": [
    "In this section, we will take a look at the feature and performance of the [Tianshou Batch](https://github.com/thu-ml/tianshou) library, which is developed by Tsinghua Machine Learning Group."
   ]
  },
  {
   "cell_type": "markdown",
   "id": "069361b0",
   "metadata": {},
   "source": [
    "Before starting the comparison, let us define some thing."
   ]
  },
  {
   "cell_type": "code",
   "execution_count": 1,
   "id": "06fc8d26",
   "metadata": {
    "execution": {
     "iopub.execute_input": "2023-02-27T15:02:26.556360Z",
     "iopub.status.busy": "2023-02-27T15:02:26.556081Z",
     "iopub.status.idle": "2023-02-27T15:02:27.788578Z",
     "shell.execute_reply": "2023-02-27T15:02:27.787340Z"
    }
   },
   "outputs": [
    {
     "name": "stderr",
     "output_type": "stream",
     "text": [
      "/opt/hostedtoolcache/Python/3.8.16/x64/lib/python3.8/site-packages/tqdm/auto.py:22: TqdmWarning: IProgress not found. Please update jupyter and ipywidgets. See https://ipywidgets.readthedocs.io/en/stable/user_install.html\n",
      "  from .autonotebook import tqdm as notebook_tqdm\n"
     ]
    }
   ],
   "source": [
    "import torch \n",
    "\n",
    "_TREE_DATA_1 = {'a': 1, 'b': 2, 'x': {'c': 3, 'd': 4}}\n",
    "_TREE_DATA_2 = {\n",
    "    'a': torch.randn(2, 3), \n",
    "    'x': {\n",
    "        'c': torch.randn(3, 4)\n",
    "    },\n",
    "}\n",
    "_TREE_DATA_3 = {\n",
    "    'obs': torch.randn(4, 84, 84),\n",
    "    'action': torch.randint(0, 6, size=(1,)),\n",
    "    'reward': torch.rand(1),\n",
    "}"
   ]
  },
  {
   "cell_type": "markdown",
   "id": "83461b25",
   "metadata": {},
   "source": [
    "## Read and Write Operation"
   ]
  },
  {
   "cell_type": "markdown",
   "id": "067b3f73",
   "metadata": {},
   "source": [
    "Reading and writing are the two most common operations in the tree data structure based on the data model (TreeValue and Tianshou Batch both belong to this type), so this section will compare the reading and writing performance of these two libraries."
   ]
  },
  {
   "cell_type": "markdown",
   "id": "5d09a5b7",
   "metadata": {},
   "source": [
    "### TreeValue's Get and Set"
   ]
  },
  {
   "cell_type": "code",
   "execution_count": 2,
   "id": "9519c4bb",
   "metadata": {
    "execution": {
     "iopub.execute_input": "2023-02-27T15:02:27.792804Z",
     "iopub.status.busy": "2023-02-27T15:02:27.792473Z",
     "iopub.status.idle": "2023-02-27T15:02:28.184214Z",
     "shell.execute_reply": "2023-02-27T15:02:28.183158Z"
    }
   },
   "outputs": [],
   "source": [
    "from treevalue import FastTreeValue\n",
    "\n",
    "t = FastTreeValue(_TREE_DATA_2)"
   ]
  },
  {
   "cell_type": "code",
   "execution_count": 3,
   "id": "11c37677",
   "metadata": {
    "execution": {
     "iopub.execute_input": "2023-02-27T15:02:28.188616Z",
     "iopub.status.busy": "2023-02-27T15:02:28.188090Z",
     "iopub.status.idle": "2023-02-27T15:02:28.202866Z",
     "shell.execute_reply": "2023-02-27T15:02:28.201817Z"
    }
   },
   "outputs": [
    {
     "data": {
      "text/plain": [
       "<FastTreeValue 0x7f2b4cedffd0>\n",
       "├── 'a' --> tensor([[-1.0113,  0.1614,  1.0607],\n",
       "│                   [-1.6470,  0.3665,  0.5079]])\n",
       "└── 'x' --> <FastTreeValue 0x7f2b4cedff70>\n",
       "    └── 'c' --> tensor([[ 0.6322,  1.0348, -1.6160, -0.7140],\n",
       "                        [ 2.2341,  0.3842,  1.3844, -0.7391],\n",
       "                        [-0.5186, -1.4723, -0.3009, -1.8914]])"
      ]
     },
     "execution_count": 3,
     "metadata": {},
     "output_type": "execute_result"
    }
   ],
   "source": [
    "t"
   ]
  },
  {
   "cell_type": "code",
   "execution_count": 4,
   "id": "fd70b0b9",
   "metadata": {
    "execution": {
     "iopub.execute_input": "2023-02-27T15:02:28.206348Z",
     "iopub.status.busy": "2023-02-27T15:02:28.206056Z",
     "iopub.status.idle": "2023-02-27T15:02:28.216071Z",
     "shell.execute_reply": "2023-02-27T15:02:28.213977Z"
    }
   },
   "outputs": [
    {
     "data": {
      "text/plain": [
       "tensor([[-1.0113,  0.1614,  1.0607],\n",
       "        [-1.6470,  0.3665,  0.5079]])"
      ]
     },
     "execution_count": 4,
     "metadata": {},
     "output_type": "execute_result"
    }
   ],
   "source": [
    "t.a"
   ]
  },
  {
   "cell_type": "code",
   "execution_count": 5,
   "id": "c18197bd",
   "metadata": {
    "execution": {
     "iopub.execute_input": "2023-02-27T15:02:28.219801Z",
     "iopub.status.busy": "2023-02-27T15:02:28.219523Z",
     "iopub.status.idle": "2023-02-27T15:02:34.601894Z",
     "shell.execute_reply": "2023-02-27T15:02:34.600774Z"
    }
   },
   "outputs": [
    {
     "name": "stdout",
     "output_type": "stream",
     "text": [
      "78 ns ± 1.96 ns per loop (mean ± std. dev. of 7 runs, 10,000,000 loops each)\n"
     ]
    }
   ],
   "source": [
    "%timeit t.a"
   ]
  },
  {
   "cell_type": "code",
   "execution_count": 6,
   "id": "bd52f867",
   "metadata": {
    "execution": {
     "iopub.execute_input": "2023-02-27T15:02:34.605966Z",
     "iopub.status.busy": "2023-02-27T15:02:34.605430Z",
     "iopub.status.idle": "2023-02-27T15:02:34.615340Z",
     "shell.execute_reply": "2023-02-27T15:02:34.614393Z"
    }
   },
   "outputs": [
    {
     "data": {
      "text/plain": [
       "<FastTreeValue 0x7f2b4cedffd0>\n",
       "├── 'a' --> tensor([[-1.6984,  1.1307,  0.1724],\n",
       "│                   [ 0.5878,  0.9564,  0.8859]])\n",
       "└── 'x' --> <FastTreeValue 0x7f2b4cedff70>\n",
       "    └── 'c' --> tensor([[ 0.6322,  1.0348, -1.6160, -0.7140],\n",
       "                        [ 2.2341,  0.3842,  1.3844, -0.7391],\n",
       "                        [-0.5186, -1.4723, -0.3009, -1.8914]])"
      ]
     },
     "execution_count": 6,
     "metadata": {},
     "output_type": "execute_result"
    }
   ],
   "source": [
    "new_value = torch.randn(2, 3)\n",
    "t.a = new_value\n",
    "\n",
    "t"
   ]
  },
  {
   "cell_type": "code",
   "execution_count": 7,
   "id": "bbe04d1c",
   "metadata": {
    "execution": {
     "iopub.execute_input": "2023-02-27T15:02:34.619250Z",
     "iopub.status.busy": "2023-02-27T15:02:34.618382Z",
     "iopub.status.idle": "2023-02-27T15:02:41.557831Z",
     "shell.execute_reply": "2023-02-27T15:02:41.556749Z"
    }
   },
   "outputs": [
    {
     "name": "stdout",
     "output_type": "stream",
     "text": [
      "85.1 ns ± 1.97 ns per loop (mean ± std. dev. of 7 runs, 10,000,000 loops each)\n"
     ]
    }
   ],
   "source": [
    "%timeit t.a = new_value"
   ]
  },
  {
   "cell_type": "markdown",
   "id": "48c49731",
   "metadata": {},
   "source": [
    "### Tianshou Batch's Get and Set"
   ]
  },
  {
   "cell_type": "code",
   "execution_count": 8,
   "id": "f1bb14c1",
   "metadata": {
    "execution": {
     "iopub.execute_input": "2023-02-27T15:02:41.561697Z",
     "iopub.status.busy": "2023-02-27T15:02:41.561184Z",
     "iopub.status.idle": "2023-02-27T15:02:42.021494Z",
     "shell.execute_reply": "2023-02-27T15:02:42.020347Z"
    }
   },
   "outputs": [],
   "source": [
    "from tianshou.data import Batch\n",
    "\n",
    "b = Batch(**_TREE_DATA_2)"
   ]
  },
  {
   "cell_type": "code",
   "execution_count": 9,
   "id": "cb0777c3",
   "metadata": {
    "execution": {
     "iopub.execute_input": "2023-02-27T15:02:42.025553Z",
     "iopub.status.busy": "2023-02-27T15:02:42.025127Z",
     "iopub.status.idle": "2023-02-27T15:02:42.033665Z",
     "shell.execute_reply": "2023-02-27T15:02:42.032585Z"
    }
   },
   "outputs": [
    {
     "data": {
      "text/plain": [
       "Batch(\n",
       "    a: tensor([[-1.0113,  0.1614,  1.0607],\n",
       "               [-1.6470,  0.3665,  0.5079]]),\n",
       "    x: Batch(\n",
       "           c: tensor([[ 0.6322,  1.0348, -1.6160, -0.7140],\n",
       "                      [ 2.2341,  0.3842,  1.3844, -0.7391],\n",
       "                      [-0.5186, -1.4723, -0.3009, -1.8914]]),\n",
       "       ),\n",
       ")"
      ]
     },
     "execution_count": 9,
     "metadata": {},
     "output_type": "execute_result"
    }
   ],
   "source": [
    "b"
   ]
  },
  {
   "cell_type": "code",
   "execution_count": 10,
   "id": "43ef8ea3",
   "metadata": {
    "execution": {
     "iopub.execute_input": "2023-02-27T15:02:42.037015Z",
     "iopub.status.busy": "2023-02-27T15:02:42.036675Z",
     "iopub.status.idle": "2023-02-27T15:02:42.043116Z",
     "shell.execute_reply": "2023-02-27T15:02:42.042128Z"
    }
   },
   "outputs": [
    {
     "data": {
      "text/plain": [
       "tensor([[-1.0113,  0.1614,  1.0607],\n",
       "        [-1.6470,  0.3665,  0.5079]])"
      ]
     },
     "execution_count": 10,
     "metadata": {},
     "output_type": "execute_result"
    }
   ],
   "source": [
    "b.a"
   ]
  },
  {
   "cell_type": "code",
   "execution_count": 11,
   "id": "b785ab72",
   "metadata": {
    "execution": {
     "iopub.execute_input": "2023-02-27T15:02:42.046445Z",
     "iopub.status.busy": "2023-02-27T15:02:42.046179Z",
     "iopub.status.idle": "2023-02-27T15:02:47.490540Z",
     "shell.execute_reply": "2023-02-27T15:02:47.489535Z"
    }
   },
   "outputs": [
    {
     "name": "stdout",
     "output_type": "stream",
     "text": [
      "67.6 ns ± 0.881 ns per loop (mean ± std. dev. of 7 runs, 10,000,000 loops each)\n"
     ]
    }
   ],
   "source": [
    "%timeit b.a"
   ]
  },
  {
   "cell_type": "code",
   "execution_count": 12,
   "id": "ad54dc69",
   "metadata": {
    "execution": {
     "iopub.execute_input": "2023-02-27T15:02:47.494155Z",
     "iopub.status.busy": "2023-02-27T15:02:47.493710Z",
     "iopub.status.idle": "2023-02-27T15:02:47.502201Z",
     "shell.execute_reply": "2023-02-27T15:02:47.501323Z"
    }
   },
   "outputs": [
    {
     "data": {
      "text/plain": [
       "Batch(\n",
       "    a: tensor([[-1.2617,  0.1541, -0.5914],\n",
       "               [ 0.8324,  0.1154,  0.8502]]),\n",
       "    x: Batch(\n",
       "           c: tensor([[ 0.6322,  1.0348, -1.6160, -0.7140],\n",
       "                      [ 2.2341,  0.3842,  1.3844, -0.7391],\n",
       "                      [-0.5186, -1.4723, -0.3009, -1.8914]]),\n",
       "       ),\n",
       ")"
      ]
     },
     "execution_count": 12,
     "metadata": {},
     "output_type": "execute_result"
    }
   ],
   "source": [
    "new_value = torch.randn(2, 3)\n",
    "b.a = new_value\n",
    "\n",
    "b"
   ]
  },
  {
   "cell_type": "code",
   "execution_count": 13,
   "id": "29b1d0bf",
   "metadata": {
    "execution": {
     "iopub.execute_input": "2023-02-27T15:02:47.505867Z",
     "iopub.status.busy": "2023-02-27T15:02:47.505336Z",
     "iopub.status.idle": "2023-02-27T15:02:52.622243Z",
     "shell.execute_reply": "2023-02-27T15:02:52.621173Z"
    }
   },
   "outputs": [
    {
     "name": "stdout",
     "output_type": "stream",
     "text": [
      "629 ns ± 5.81 ns per loop (mean ± std. dev. of 7 runs, 1,000,000 loops each)\n"
     ]
    }
   ],
   "source": [
    "%timeit b.a = new_value"
   ]
  },
  {
   "cell_type": "markdown",
   "id": "b61ad1d0",
   "metadata": {},
   "source": [
    "## Initialization"
   ]
  },
  {
   "cell_type": "markdown",
   "id": "d70f0d54",
   "metadata": {},
   "source": [
    "### TreeValue's Initialization"
   ]
  },
  {
   "cell_type": "code",
   "execution_count": 14,
   "id": "d32a679b",
   "metadata": {
    "execution": {
     "iopub.execute_input": "2023-02-27T15:02:52.626198Z",
     "iopub.status.busy": "2023-02-27T15:02:52.625881Z",
     "iopub.status.idle": "2023-02-27T15:03:00.670860Z",
     "shell.execute_reply": "2023-02-27T15:03:00.669871Z"
    }
   },
   "outputs": [
    {
     "name": "stdout",
     "output_type": "stream",
     "text": [
      "989 ns ± 9.95 ns per loop (mean ± std. dev. of 7 runs, 1,000,000 loops each)\n"
     ]
    }
   ],
   "source": [
    "%timeit FastTreeValue(_TREE_DATA_1)"
   ]
  },
  {
   "cell_type": "markdown",
   "id": "24f3707b",
   "metadata": {},
   "source": [
    "### Tianshou Batch's Initialization"
   ]
  },
  {
   "cell_type": "code",
   "execution_count": 15,
   "id": "ac3958df",
   "metadata": {
    "execution": {
     "iopub.execute_input": "2023-02-27T15:03:00.674430Z",
     "iopub.status.busy": "2023-02-27T15:03:00.674016Z",
     "iopub.status.idle": "2023-02-27T15:03:12.197831Z",
     "shell.execute_reply": "2023-02-27T15:03:12.196758Z"
    }
   },
   "outputs": [
    {
     "name": "stdout",
     "output_type": "stream",
     "text": [
      "14.2 µs ± 222 ns per loop (mean ± std. dev. of 7 runs, 100,000 loops each)\n"
     ]
    }
   ],
   "source": [
    "%timeit Batch(**_TREE_DATA_1)"
   ]
  },
  {
   "cell_type": "markdown",
   "id": "1ab82e2d",
   "metadata": {},
   "source": [
    "## Deep Copy Operation"
   ]
  },
  {
   "cell_type": "code",
   "execution_count": 16,
   "id": "210a9442",
   "metadata": {
    "execution": {
     "iopub.execute_input": "2023-02-27T15:03:12.201437Z",
     "iopub.status.busy": "2023-02-27T15:03:12.200845Z",
     "iopub.status.idle": "2023-02-27T15:03:12.207058Z",
     "shell.execute_reply": "2023-02-27T15:03:12.206053Z"
    }
   },
   "outputs": [],
   "source": [
    "import copy"
   ]
  },
  {
   "cell_type": "markdown",
   "id": "5a736274",
   "metadata": {},
   "source": [
    "### Deep Copy of TreeValue"
   ]
  },
  {
   "cell_type": "code",
   "execution_count": 17,
   "id": "f9bcadd6",
   "metadata": {
    "execution": {
     "iopub.execute_input": "2023-02-27T15:03:12.211141Z",
     "iopub.status.busy": "2023-02-27T15:03:12.210858Z",
     "iopub.status.idle": "2023-02-27T15:03:14.603729Z",
     "shell.execute_reply": "2023-02-27T15:03:14.602831Z"
    }
   },
   "outputs": [
    {
     "name": "stdout",
     "output_type": "stream",
     "text": [
      "294 µs ± 10.2 µs per loop (mean ± std. dev. of 7 runs, 1,000 loops each)\n"
     ]
    }
   ],
   "source": [
    "t3 = FastTreeValue(_TREE_DATA_3)\n",
    "%timeit copy.deepcopy(t3)"
   ]
  },
  {
   "cell_type": "markdown",
   "id": "bf8be7ea",
   "metadata": {},
   "source": [
    "### Deep Copy of Tianshou Batch"
   ]
  },
  {
   "cell_type": "code",
   "execution_count": 18,
   "id": "91998e6f",
   "metadata": {
    "execution": {
     "iopub.execute_input": "2023-02-27T15:03:14.607463Z",
     "iopub.status.busy": "2023-02-27T15:03:14.606880Z",
     "iopub.status.idle": "2023-02-27T15:03:16.884296Z",
     "shell.execute_reply": "2023-02-27T15:03:16.883372Z"
    }
   },
   "outputs": [
    {
     "name": "stdout",
     "output_type": "stream",
     "text": [
      "280 µs ± 15.2 µs per loop (mean ± std. dev. of 7 runs, 1,000 loops each)\n"
     ]
    }
   ],
   "source": [
    "b3 = Batch(**_TREE_DATA_3)\n",
    "%timeit copy.deepcopy(b3)"
   ]
  },
  {
   "cell_type": "markdown",
   "id": "223162fb",
   "metadata": {},
   "source": [
    "## Stack, Concat and Split Operation"
   ]
  },
  {
   "cell_type": "markdown",
   "id": "85fa4a73",
   "metadata": {},
   "source": [
    "### Performance of TreeValue"
   ]
  },
  {
   "cell_type": "code",
   "execution_count": 19,
   "id": "a0c2b697",
   "metadata": {
    "execution": {
     "iopub.execute_input": "2023-02-27T15:03:16.888049Z",
     "iopub.status.busy": "2023-02-27T15:03:16.887586Z",
     "iopub.status.idle": "2023-02-27T15:03:16.891920Z",
     "shell.execute_reply": "2023-02-27T15:03:16.891037Z"
    }
   },
   "outputs": [],
   "source": [
    "trees = [FastTreeValue(_TREE_DATA_2) for _ in range(8)]"
   ]
  },
  {
   "cell_type": "code",
   "execution_count": 20,
   "id": "017ea5a5",
   "metadata": {
    "execution": {
     "iopub.execute_input": "2023-02-27T15:03:16.895409Z",
     "iopub.status.busy": "2023-02-27T15:03:16.895109Z",
     "iopub.status.idle": "2023-02-27T15:03:16.905689Z",
     "shell.execute_reply": "2023-02-27T15:03:16.904654Z"
    }
   },
   "outputs": [
    {
     "data": {
      "text/plain": [
       "<FastTreeValue 0x7f2a9816eb50>\n",
       "├── 'a' --> tensor([[[-1.0113,  0.1614,  1.0607],\n",
       "│                    [-1.6470,  0.3665,  0.5079]],\n",
       "│           \n",
       "│                   [[-1.0113,  0.1614,  1.0607],\n",
       "│                    [-1.6470,  0.3665,  0.5079]],\n",
       "│           \n",
       "│                   [[-1.0113,  0.1614,  1.0607],\n",
       "│                    [-1.6470,  0.3665,  0.5079]],\n",
       "│           \n",
       "│                   [[-1.0113,  0.1614,  1.0607],\n",
       "│                    [-1.6470,  0.3665,  0.5079]],\n",
       "│           \n",
       "│                   [[-1.0113,  0.1614,  1.0607],\n",
       "│                    [-1.6470,  0.3665,  0.5079]],\n",
       "│           \n",
       "│                   [[-1.0113,  0.1614,  1.0607],\n",
       "│                    [-1.6470,  0.3665,  0.5079]],\n",
       "│           \n",
       "│                   [[-1.0113,  0.1614,  1.0607],\n",
       "│                    [-1.6470,  0.3665,  0.5079]],\n",
       "│           \n",
       "│                   [[-1.0113,  0.1614,  1.0607],\n",
       "│                    [-1.6470,  0.3665,  0.5079]]])\n",
       "└── 'x' --> <FastTreeValue 0x7f2a9816eb80>\n",
       "    └── 'c' --> tensor([[[ 0.6322,  1.0348, -1.6160, -0.7140],\n",
       "                         [ 2.2341,  0.3842,  1.3844, -0.7391],\n",
       "                         [-0.5186, -1.4723, -0.3009, -1.8914]],\n",
       "                \n",
       "                        [[ 0.6322,  1.0348, -1.6160, -0.7140],\n",
       "                         [ 2.2341,  0.3842,  1.3844, -0.7391],\n",
       "                         [-0.5186, -1.4723, -0.3009, -1.8914]],\n",
       "                \n",
       "                        [[ 0.6322,  1.0348, -1.6160, -0.7140],\n",
       "                         [ 2.2341,  0.3842,  1.3844, -0.7391],\n",
       "                         [-0.5186, -1.4723, -0.3009, -1.8914]],\n",
       "                \n",
       "                        [[ 0.6322,  1.0348, -1.6160, -0.7140],\n",
       "                         [ 2.2341,  0.3842,  1.3844, -0.7391],\n",
       "                         [-0.5186, -1.4723, -0.3009, -1.8914]],\n",
       "                \n",
       "                        [[ 0.6322,  1.0348, -1.6160, -0.7140],\n",
       "                         [ 2.2341,  0.3842,  1.3844, -0.7391],\n",
       "                         [-0.5186, -1.4723, -0.3009, -1.8914]],\n",
       "                \n",
       "                        [[ 0.6322,  1.0348, -1.6160, -0.7140],\n",
       "                         [ 2.2341,  0.3842,  1.3844, -0.7391],\n",
       "                         [-0.5186, -1.4723, -0.3009, -1.8914]],\n",
       "                \n",
       "                        [[ 0.6322,  1.0348, -1.6160, -0.7140],\n",
       "                         [ 2.2341,  0.3842,  1.3844, -0.7391],\n",
       "                         [-0.5186, -1.4723, -0.3009, -1.8914]],\n",
       "                \n",
       "                        [[ 0.6322,  1.0348, -1.6160, -0.7140],\n",
       "                         [ 2.2341,  0.3842,  1.3844, -0.7391],\n",
       "                         [-0.5186, -1.4723, -0.3009, -1.8914]]])"
      ]
     },
     "execution_count": 20,
     "metadata": {},
     "output_type": "execute_result"
    }
   ],
   "source": [
    "t_stack = FastTreeValue.func(subside=True)(torch.stack)\n",
    "\n",
    "t_stack(trees)"
   ]
  },
  {
   "cell_type": "code",
   "execution_count": 21,
   "id": "f8b3f415",
   "metadata": {
    "execution": {
     "iopub.execute_input": "2023-02-27T15:03:16.909233Z",
     "iopub.status.busy": "2023-02-27T15:03:16.908529Z",
     "iopub.status.idle": "2023-02-27T15:03:20.518577Z",
     "shell.execute_reply": "2023-02-27T15:03:20.517549Z"
    }
   },
   "outputs": [
    {
     "name": "stdout",
     "output_type": "stream",
     "text": [
      "44.4 µs ± 846 ns per loop (mean ± std. dev. of 7 runs, 10,000 loops each)\n"
     ]
    }
   ],
   "source": [
    "%timeit t_stack(trees)"
   ]
  },
  {
   "cell_type": "code",
   "execution_count": 22,
   "id": "94b56771",
   "metadata": {
    "execution": {
     "iopub.execute_input": "2023-02-27T15:03:20.522569Z",
     "iopub.status.busy": "2023-02-27T15:03:20.522254Z",
     "iopub.status.idle": "2023-02-27T15:03:20.532943Z",
     "shell.execute_reply": "2023-02-27T15:03:20.531926Z"
    }
   },
   "outputs": [
    {
     "data": {
      "text/plain": [
       "<FastTreeValue 0x7f2a981a0d60>\n",
       "├── 'a' --> tensor([[-1.0113,  0.1614,  1.0607],\n",
       "│                   [-1.6470,  0.3665,  0.5079],\n",
       "│                   [-1.0113,  0.1614,  1.0607],\n",
       "│                   [-1.6470,  0.3665,  0.5079],\n",
       "│                   [-1.0113,  0.1614,  1.0607],\n",
       "│                   [-1.6470,  0.3665,  0.5079],\n",
       "│                   [-1.0113,  0.1614,  1.0607],\n",
       "│                   [-1.6470,  0.3665,  0.5079],\n",
       "│                   [-1.0113,  0.1614,  1.0607],\n",
       "│                   [-1.6470,  0.3665,  0.5079],\n",
       "│                   [-1.0113,  0.1614,  1.0607],\n",
       "│                   [-1.6470,  0.3665,  0.5079],\n",
       "│                   [-1.0113,  0.1614,  1.0607],\n",
       "│                   [-1.6470,  0.3665,  0.5079],\n",
       "│                   [-1.0113,  0.1614,  1.0607],\n",
       "│                   [-1.6470,  0.3665,  0.5079]])\n",
       "└── 'x' --> <FastTreeValue 0x7f2a981a0970>\n",
       "    └── 'c' --> tensor([[ 0.6322,  1.0348, -1.6160, -0.7140],\n",
       "                        [ 2.2341,  0.3842,  1.3844, -0.7391],\n",
       "                        [-0.5186, -1.4723, -0.3009, -1.8914],\n",
       "                        [ 0.6322,  1.0348, -1.6160, -0.7140],\n",
       "                        [ 2.2341,  0.3842,  1.3844, -0.7391],\n",
       "                        [-0.5186, -1.4723, -0.3009, -1.8914],\n",
       "                        [ 0.6322,  1.0348, -1.6160, -0.7140],\n",
       "                        [ 2.2341,  0.3842,  1.3844, -0.7391],\n",
       "                        [-0.5186, -1.4723, -0.3009, -1.8914],\n",
       "                        [ 0.6322,  1.0348, -1.6160, -0.7140],\n",
       "                        [ 2.2341,  0.3842,  1.3844, -0.7391],\n",
       "                        [-0.5186, -1.4723, -0.3009, -1.8914],\n",
       "                        [ 0.6322,  1.0348, -1.6160, -0.7140],\n",
       "                        [ 2.2341,  0.3842,  1.3844, -0.7391],\n",
       "                        [-0.5186, -1.4723, -0.3009, -1.8914],\n",
       "                        [ 0.6322,  1.0348, -1.6160, -0.7140],\n",
       "                        [ 2.2341,  0.3842,  1.3844, -0.7391],\n",
       "                        [-0.5186, -1.4723, -0.3009, -1.8914],\n",
       "                        [ 0.6322,  1.0348, -1.6160, -0.7140],\n",
       "                        [ 2.2341,  0.3842,  1.3844, -0.7391],\n",
       "                        [-0.5186, -1.4723, -0.3009, -1.8914],\n",
       "                        [ 0.6322,  1.0348, -1.6160, -0.7140],\n",
       "                        [ 2.2341,  0.3842,  1.3844, -0.7391],\n",
       "                        [-0.5186, -1.4723, -0.3009, -1.8914]])"
      ]
     },
     "execution_count": 22,
     "metadata": {},
     "output_type": "execute_result"
    }
   ],
   "source": [
    "t_cat = FastTreeValue.func(subside=True)(torch.cat)\n",
    "\n",
    "t_cat(trees)"
   ]
  },
  {
   "cell_type": "code",
   "execution_count": 23,
   "id": "5e9c06a6",
   "metadata": {
    "execution": {
     "iopub.execute_input": "2023-02-27T15:03:20.536194Z",
     "iopub.status.busy": "2023-02-27T15:03:20.535899Z",
     "iopub.status.idle": "2023-02-27T15:03:23.992349Z",
     "shell.execute_reply": "2023-02-27T15:03:23.991294Z"
    }
   },
   "outputs": [
    {
     "name": "stdout",
     "output_type": "stream",
     "text": [
      "42.4 µs ± 862 ns per loop (mean ± std. dev. of 7 runs, 10,000 loops each)\n"
     ]
    }
   ],
   "source": [
    "%timeit t_cat(trees)"
   ]
  },
  {
   "cell_type": "code",
   "execution_count": 24,
   "id": "a3ab5c8f",
   "metadata": {
    "execution": {
     "iopub.execute_input": "2023-02-27T15:03:23.996494Z",
     "iopub.status.busy": "2023-02-27T15:03:23.995973Z",
     "iopub.status.idle": "2023-02-27T15:03:30.885095Z",
     "shell.execute_reply": "2023-02-27T15:03:30.884010Z"
    }
   },
   "outputs": [
    {
     "name": "stdout",
     "output_type": "stream",
     "text": [
      "85.1 µs ± 801 ns per loop (mean ± std. dev. of 7 runs, 10,000 loops each)\n"
     ]
    }
   ],
   "source": [
    "t_split = FastTreeValue.func(rise=True)(torch.split)\n",
    "tree = FastTreeValue({\n",
    "    'obs': torch.randn(8, 4, 84, 84),\n",
    "    'action': torch.randint(0, 6, size=(8, 1,)),\n",
    "    'reward': torch.rand(8, 1),\n",
    "})\n",
    "\n",
    "%timeit t_split(tree, 1)"
   ]
  },
  {
   "cell_type": "markdown",
   "id": "31c3ec0b",
   "metadata": {},
   "source": [
    "### Performance of Tianshou Batch"
   ]
  },
  {
   "cell_type": "code",
   "execution_count": 25,
   "id": "9ead828a",
   "metadata": {
    "execution": {
     "iopub.execute_input": "2023-02-27T15:03:30.889110Z",
     "iopub.status.busy": "2023-02-27T15:03:30.888548Z",
     "iopub.status.idle": "2023-02-27T15:03:30.906417Z",
     "shell.execute_reply": "2023-02-27T15:03:30.905307Z"
    }
   },
   "outputs": [
    {
     "data": {
      "text/plain": [
       "Batch(\n",
       "    x: Batch(\n",
       "           c: tensor([[[ 0.6322,  1.0348, -1.6160, -0.7140],\n",
       "                       [ 2.2341,  0.3842,  1.3844, -0.7391],\n",
       "                       [-0.5186, -1.4723, -0.3009, -1.8914]],\n",
       "              \n",
       "                      [[ 0.6322,  1.0348, -1.6160, -0.7140],\n",
       "                       [ 2.2341,  0.3842,  1.3844, -0.7391],\n",
       "                       [-0.5186, -1.4723, -0.3009, -1.8914]],\n",
       "              \n",
       "                      [[ 0.6322,  1.0348, -1.6160, -0.7140],\n",
       "                       [ 2.2341,  0.3842,  1.3844, -0.7391],\n",
       "                       [-0.5186, -1.4723, -0.3009, -1.8914]],\n",
       "              \n",
       "                      [[ 0.6322,  1.0348, -1.6160, -0.7140],\n",
       "                       [ 2.2341,  0.3842,  1.3844, -0.7391],\n",
       "                       [-0.5186, -1.4723, -0.3009, -1.8914]],\n",
       "              \n",
       "                      [[ 0.6322,  1.0348, -1.6160, -0.7140],\n",
       "                       [ 2.2341,  0.3842,  1.3844, -0.7391],\n",
       "                       [-0.5186, -1.4723, -0.3009, -1.8914]],\n",
       "              \n",
       "                      [[ 0.6322,  1.0348, -1.6160, -0.7140],\n",
       "                       [ 2.2341,  0.3842,  1.3844, -0.7391],\n",
       "                       [-0.5186, -1.4723, -0.3009, -1.8914]],\n",
       "              \n",
       "                      [[ 0.6322,  1.0348, -1.6160, -0.7140],\n",
       "                       [ 2.2341,  0.3842,  1.3844, -0.7391],\n",
       "                       [-0.5186, -1.4723, -0.3009, -1.8914]],\n",
       "              \n",
       "                      [[ 0.6322,  1.0348, -1.6160, -0.7140],\n",
       "                       [ 2.2341,  0.3842,  1.3844, -0.7391],\n",
       "                       [-0.5186, -1.4723, -0.3009, -1.8914]]]),\n",
       "       ),\n",
       "    a: tensor([[[-1.0113,  0.1614,  1.0607],\n",
       "                [-1.6470,  0.3665,  0.5079]],\n",
       "       \n",
       "               [[-1.0113,  0.1614,  1.0607],\n",
       "                [-1.6470,  0.3665,  0.5079]],\n",
       "       \n",
       "               [[-1.0113,  0.1614,  1.0607],\n",
       "                [-1.6470,  0.3665,  0.5079]],\n",
       "       \n",
       "               [[-1.0113,  0.1614,  1.0607],\n",
       "                [-1.6470,  0.3665,  0.5079]],\n",
       "       \n",
       "               [[-1.0113,  0.1614,  1.0607],\n",
       "                [-1.6470,  0.3665,  0.5079]],\n",
       "       \n",
       "               [[-1.0113,  0.1614,  1.0607],\n",
       "                [-1.6470,  0.3665,  0.5079]],\n",
       "       \n",
       "               [[-1.0113,  0.1614,  1.0607],\n",
       "                [-1.6470,  0.3665,  0.5079]],\n",
       "       \n",
       "               [[-1.0113,  0.1614,  1.0607],\n",
       "                [-1.6470,  0.3665,  0.5079]]]),\n",
       ")"
      ]
     },
     "execution_count": 25,
     "metadata": {},
     "output_type": "execute_result"
    }
   ],
   "source": [
    "batches = [Batch(**_TREE_DATA_2) for _ in range(8)]\n",
    "\n",
    "Batch.stack(batches)"
   ]
  },
  {
   "cell_type": "code",
   "execution_count": 26,
   "id": "ec9037a3",
   "metadata": {
    "execution": {
     "iopub.execute_input": "2023-02-27T15:03:30.910399Z",
     "iopub.status.busy": "2023-02-27T15:03:30.909890Z",
     "iopub.status.idle": "2023-02-27T15:03:39.452889Z",
     "shell.execute_reply": "2023-02-27T15:03:39.451846Z"
    }
   },
   "outputs": [
    {
     "name": "stdout",
     "output_type": "stream",
     "text": [
      "105 µs ± 1.75 µs per loop (mean ± std. dev. of 7 runs, 10,000 loops each)\n"
     ]
    }
   ],
   "source": [
    "%timeit Batch.stack(batches)"
   ]
  },
  {
   "cell_type": "code",
   "execution_count": 27,
   "id": "cb8ab77e",
   "metadata": {
    "execution": {
     "iopub.execute_input": "2023-02-27T15:03:39.456743Z",
     "iopub.status.busy": "2023-02-27T15:03:39.456441Z",
     "iopub.status.idle": "2023-02-27T15:03:39.466510Z",
     "shell.execute_reply": "2023-02-27T15:03:39.465507Z"
    }
   },
   "outputs": [
    {
     "data": {
      "text/plain": [
       "Batch(\n",
       "    x: Batch(\n",
       "           c: tensor([[ 0.6322,  1.0348, -1.6160, -0.7140],\n",
       "                      [ 2.2341,  0.3842,  1.3844, -0.7391],\n",
       "                      [-0.5186, -1.4723, -0.3009, -1.8914],\n",
       "                      [ 0.6322,  1.0348, -1.6160, -0.7140],\n",
       "                      [ 2.2341,  0.3842,  1.3844, -0.7391],\n",
       "                      [-0.5186, -1.4723, -0.3009, -1.8914],\n",
       "                      [ 0.6322,  1.0348, -1.6160, -0.7140],\n",
       "                      [ 2.2341,  0.3842,  1.3844, -0.7391],\n",
       "                      [-0.5186, -1.4723, -0.3009, -1.8914],\n",
       "                      [ 0.6322,  1.0348, -1.6160, -0.7140],\n",
       "                      [ 2.2341,  0.3842,  1.3844, -0.7391],\n",
       "                      [-0.5186, -1.4723, -0.3009, -1.8914],\n",
       "                      [ 0.6322,  1.0348, -1.6160, -0.7140],\n",
       "                      [ 2.2341,  0.3842,  1.3844, -0.7391],\n",
       "                      [-0.5186, -1.4723, -0.3009, -1.8914],\n",
       "                      [ 0.6322,  1.0348, -1.6160, -0.7140],\n",
       "                      [ 2.2341,  0.3842,  1.3844, -0.7391],\n",
       "                      [-0.5186, -1.4723, -0.3009, -1.8914],\n",
       "                      [ 0.6322,  1.0348, -1.6160, -0.7140],\n",
       "                      [ 2.2341,  0.3842,  1.3844, -0.7391],\n",
       "                      [-0.5186, -1.4723, -0.3009, -1.8914],\n",
       "                      [ 0.6322,  1.0348, -1.6160, -0.7140],\n",
       "                      [ 2.2341,  0.3842,  1.3844, -0.7391],\n",
       "                      [-0.5186, -1.4723, -0.3009, -1.8914]]),\n",
       "       ),\n",
       "    a: tensor([[-1.0113,  0.1614,  1.0607],\n",
       "               [-1.6470,  0.3665,  0.5079],\n",
       "               [-1.0113,  0.1614,  1.0607],\n",
       "               [-1.6470,  0.3665,  0.5079],\n",
       "               [-1.0113,  0.1614,  1.0607],\n",
       "               [-1.6470,  0.3665,  0.5079],\n",
       "               [-1.0113,  0.1614,  1.0607],\n",
       "               [-1.6470,  0.3665,  0.5079],\n",
       "               [-1.0113,  0.1614,  1.0607],\n",
       "               [-1.6470,  0.3665,  0.5079],\n",
       "               [-1.0113,  0.1614,  1.0607],\n",
       "               [-1.6470,  0.3665,  0.5079],\n",
       "               [-1.0113,  0.1614,  1.0607],\n",
       "               [-1.6470,  0.3665,  0.5079],\n",
       "               [-1.0113,  0.1614,  1.0607],\n",
       "               [-1.6470,  0.3665,  0.5079]]),\n",
       ")"
      ]
     },
     "execution_count": 27,
     "metadata": {},
     "output_type": "execute_result"
    }
   ],
   "source": [
    "Batch.cat(batches)"
   ]
  },
  {
   "cell_type": "code",
   "execution_count": 28,
   "id": "18dfb045",
   "metadata": {
    "execution": {
     "iopub.execute_input": "2023-02-27T15:03:39.469884Z",
     "iopub.status.busy": "2023-02-27T15:03:39.469442Z",
     "iopub.status.idle": "2023-02-27T15:03:55.248095Z",
     "shell.execute_reply": "2023-02-27T15:03:55.247045Z"
    }
   },
   "outputs": [
    {
     "name": "stdout",
     "output_type": "stream",
     "text": [
      "194 µs ± 3.24 µs per loop (mean ± std. dev. of 7 runs, 10,000 loops each)\n"
     ]
    }
   ],
   "source": [
    "%timeit Batch.cat(batches)"
   ]
  },
  {
   "cell_type": "code",
   "execution_count": 29,
   "id": "c6688e51",
   "metadata": {
    "execution": {
     "iopub.execute_input": "2023-02-27T15:03:55.251722Z",
     "iopub.status.busy": "2023-02-27T15:03:55.251256Z",
     "iopub.status.idle": "2023-02-27T15:04:00.120376Z",
     "shell.execute_reply": "2023-02-27T15:04:00.119529Z"
    }
   },
   "outputs": [
    {
     "name": "stdout",
     "output_type": "stream",
     "text": [
      "598 µs ± 11 µs per loop (mean ± std. dev. of 7 runs, 1,000 loops each)\n"
     ]
    }
   ],
   "source": [
    "batch = Batch({\n",
    "    'obs': torch.randn(8, 4, 84, 84),\n",
    "    'action': torch.randint(0, 6, size=(8, 1,)),\n",
    "    'reward': torch.rand(8, 1)}\n",
    ")\n",
    "\n",
    "%timeit list(Batch.split(batch, 1, shuffle=False, merge_last=True))"
   ]
  },
  {
   "cell_type": "code",
   "execution_count": null,
   "id": "2539fbd9",
   "metadata": {},
   "outputs": [],
   "source": []
  }
 ],
 "metadata": {
  "kernelspec": {
   "display_name": "Python 3 (ipykernel)",
   "language": "python",
   "name": "python3"
  },
  "language_info": {
   "codemirror_mode": {
    "name": "ipython",
    "version": 3
   },
   "file_extension": ".py",
   "mimetype": "text/x-python",
   "name": "python",
   "nbconvert_exporter": "python",
   "pygments_lexer": "ipython3",
   "version": "3.8.16"
  }
 },
 "nbformat": 4,
 "nbformat_minor": 5
}
