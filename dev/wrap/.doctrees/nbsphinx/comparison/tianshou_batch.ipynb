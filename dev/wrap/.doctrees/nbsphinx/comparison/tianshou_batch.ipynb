{
 "cells": [
  {
   "cell_type": "markdown",
   "id": "9d39d946",
   "metadata": {},
   "source": [
    "# Comparison Between TreeValue and Tianshou Batch"
   ]
  },
  {
   "cell_type": "markdown",
   "id": "3c6db2d4",
   "metadata": {},
   "source": [
    "In this section, we will take a look at the feature and performance of the [Tianshou Batch](https://github.com/thu-ml/tianshou) library, which is developed by Tsinghua Machine Learning Group."
   ]
  },
  {
   "cell_type": "markdown",
   "id": "069361b0",
   "metadata": {},
   "source": [
    "Before starting the comparison, let us define some thing."
   ]
  },
  {
   "cell_type": "code",
   "execution_count": 1,
   "id": "06fc8d26",
   "metadata": {
    "execution": {
     "iopub.execute_input": "2023-02-27T12:59:18.392839Z",
     "iopub.status.busy": "2023-02-27T12:59:18.392617Z",
     "iopub.status.idle": "2023-02-27T12:59:19.299201Z",
     "shell.execute_reply": "2023-02-27T12:59:19.298527Z"
    }
   },
   "outputs": [
    {
     "name": "stderr",
     "output_type": "stream",
     "text": [
      "/opt/hostedtoolcache/Python/3.8.16/x64/lib/python3.8/site-packages/tqdm/auto.py:22: TqdmWarning: IProgress not found. Please update jupyter and ipywidgets. See https://ipywidgets.readthedocs.io/en/stable/user_install.html\n",
      "  from .autonotebook import tqdm as notebook_tqdm\n"
     ]
    }
   ],
   "source": [
    "import torch \n",
    "\n",
    "_TREE_DATA_1 = {'a': 1, 'b': 2, 'x': {'c': 3, 'd': 4}}\n",
    "_TREE_DATA_2 = {\n",
    "    'a': torch.randn(2, 3), \n",
    "    'x': {\n",
    "        'c': torch.randn(3, 4)\n",
    "    },\n",
    "}\n",
    "_TREE_DATA_3 = {\n",
    "    'obs': torch.randn(4, 84, 84),\n",
    "    'action': torch.randint(0, 6, size=(1,)),\n",
    "    'reward': torch.rand(1),\n",
    "}"
   ]
  },
  {
   "cell_type": "markdown",
   "id": "83461b25",
   "metadata": {},
   "source": [
    "## Read and Write Operation"
   ]
  },
  {
   "cell_type": "markdown",
   "id": "067b3f73",
   "metadata": {},
   "source": [
    "Reading and writing are the two most common operations in the tree data structure based on the data model (TreeValue and Tianshou Batch both belong to this type), so this section will compare the reading and writing performance of these two libraries."
   ]
  },
  {
   "cell_type": "markdown",
   "id": "5d09a5b7",
   "metadata": {},
   "source": [
    "### TreeValue's Get and Set"
   ]
  },
  {
   "cell_type": "code",
   "execution_count": 2,
   "id": "9519c4bb",
   "metadata": {
    "execution": {
     "iopub.execute_input": "2023-02-27T12:59:19.302832Z",
     "iopub.status.busy": "2023-02-27T12:59:19.302229Z",
     "iopub.status.idle": "2023-02-27T12:59:19.579276Z",
     "shell.execute_reply": "2023-02-27T12:59:19.578604Z"
    }
   },
   "outputs": [],
   "source": [
    "from treevalue import FastTreeValue\n",
    "\n",
    "t = FastTreeValue(_TREE_DATA_2)"
   ]
  },
  {
   "cell_type": "code",
   "execution_count": 3,
   "id": "11c37677",
   "metadata": {
    "execution": {
     "iopub.execute_input": "2023-02-27T12:59:19.582762Z",
     "iopub.status.busy": "2023-02-27T12:59:19.582184Z",
     "iopub.status.idle": "2023-02-27T12:59:19.592248Z",
     "shell.execute_reply": "2023-02-27T12:59:19.591664Z"
    }
   },
   "outputs": [
    {
     "data": {
      "text/plain": [
       "<FastTreeValue 0x7ff6c0b94280>\n",
       "├── 'a' --> tensor([[ 0.1796,  0.3682, -0.1221],\n",
       "│                   [-0.4592, -0.5511, -0.4903]])\n",
       "└── 'x' --> <FastTreeValue 0x7ff6c0b94370>\n",
       "    └── 'c' --> tensor([[-1.8354, -0.0019, -0.2760, -1.4201],\n",
       "                        [-1.0434, -1.7258,  0.1108, -0.0780],\n",
       "                        [-0.3169,  1.0179,  0.3503,  0.7881]])"
      ]
     },
     "execution_count": 3,
     "metadata": {},
     "output_type": "execute_result"
    }
   ],
   "source": [
    "t"
   ]
  },
  {
   "cell_type": "code",
   "execution_count": 4,
   "id": "fd70b0b9",
   "metadata": {
    "execution": {
     "iopub.execute_input": "2023-02-27T12:59:19.595036Z",
     "iopub.status.busy": "2023-02-27T12:59:19.594556Z",
     "iopub.status.idle": "2023-02-27T12:59:19.600285Z",
     "shell.execute_reply": "2023-02-27T12:59:19.599716Z"
    }
   },
   "outputs": [
    {
     "data": {
      "text/plain": [
       "tensor([[ 0.1796,  0.3682, -0.1221],\n",
       "        [-0.4592, -0.5511, -0.4903]])"
      ]
     },
     "execution_count": 4,
     "metadata": {},
     "output_type": "execute_result"
    }
   ],
   "source": [
    "t.a"
   ]
  },
  {
   "cell_type": "code",
   "execution_count": 5,
   "id": "c18197bd",
   "metadata": {
    "execution": {
     "iopub.execute_input": "2023-02-27T12:59:19.603564Z",
     "iopub.status.busy": "2023-02-27T12:59:19.602592Z",
     "iopub.status.idle": "2023-02-27T12:59:24.496604Z",
     "shell.execute_reply": "2023-02-27T12:59:24.495866Z"
    }
   },
   "outputs": [
    {
     "name": "stdout",
     "output_type": "stream",
     "text": [
      "60.7 ns ± 0.0924 ns per loop (mean ± std. dev. of 7 runs, 10,000,000 loops each)\n"
     ]
    }
   ],
   "source": [
    "%timeit t.a"
   ]
  },
  {
   "cell_type": "code",
   "execution_count": 6,
   "id": "bd52f867",
   "metadata": {
    "execution": {
     "iopub.execute_input": "2023-02-27T12:59:24.499641Z",
     "iopub.status.busy": "2023-02-27T12:59:24.499280Z",
     "iopub.status.idle": "2023-02-27T12:59:24.505790Z",
     "shell.execute_reply": "2023-02-27T12:59:24.505221Z"
    }
   },
   "outputs": [
    {
     "data": {
      "text/plain": [
       "<FastTreeValue 0x7ff6c0b94280>\n",
       "├── 'a' --> tensor([[-0.7015,  0.7213, -1.0666],\n",
       "│                   [-2.2994, -0.1490,  0.6977]])\n",
       "└── 'x' --> <FastTreeValue 0x7ff6c0b94370>\n",
       "    └── 'c' --> tensor([[-1.8354, -0.0019, -0.2760, -1.4201],\n",
       "                        [-1.0434, -1.7258,  0.1108, -0.0780],\n",
       "                        [-0.3169,  1.0179,  0.3503,  0.7881]])"
      ]
     },
     "execution_count": 6,
     "metadata": {},
     "output_type": "execute_result"
    }
   ],
   "source": [
    "new_value = torch.randn(2, 3)\n",
    "t.a = new_value\n",
    "\n",
    "t"
   ]
  },
  {
   "cell_type": "code",
   "execution_count": 7,
   "id": "bbe04d1c",
   "metadata": {
    "execution": {
     "iopub.execute_input": "2023-02-27T12:59:24.508323Z",
     "iopub.status.busy": "2023-02-27T12:59:24.507811Z",
     "iopub.status.idle": "2023-02-27T12:59:29.610282Z",
     "shell.execute_reply": "2023-02-27T12:59:29.609557Z"
    }
   },
   "outputs": [
    {
     "name": "stdout",
     "output_type": "stream",
     "text": [
      "63.5 ns ± 0.0512 ns per loop (mean ± std. dev. of 7 runs, 10,000,000 loops each)\n"
     ]
    }
   ],
   "source": [
    "%timeit t.a = new_value"
   ]
  },
  {
   "cell_type": "markdown",
   "id": "48c49731",
   "metadata": {},
   "source": [
    "### Tianshou Batch's Get and Set"
   ]
  },
  {
   "cell_type": "code",
   "execution_count": 8,
   "id": "f1bb14c1",
   "metadata": {
    "execution": {
     "iopub.execute_input": "2023-02-27T12:59:29.613239Z",
     "iopub.status.busy": "2023-02-27T12:59:29.612709Z",
     "iopub.status.idle": "2023-02-27T12:59:29.942018Z",
     "shell.execute_reply": "2023-02-27T12:59:29.941329Z"
    }
   },
   "outputs": [],
   "source": [
    "from tianshou.data import Batch\n",
    "\n",
    "b = Batch(**_TREE_DATA_2)"
   ]
  },
  {
   "cell_type": "code",
   "execution_count": 9,
   "id": "cb0777c3",
   "metadata": {
    "execution": {
     "iopub.execute_input": "2023-02-27T12:59:29.945326Z",
     "iopub.status.busy": "2023-02-27T12:59:29.944638Z",
     "iopub.status.idle": "2023-02-27T12:59:29.950839Z",
     "shell.execute_reply": "2023-02-27T12:59:29.950255Z"
    }
   },
   "outputs": [
    {
     "data": {
      "text/plain": [
       "Batch(\n",
       "    a: tensor([[ 0.1796,  0.3682, -0.1221],\n",
       "               [-0.4592, -0.5511, -0.4903]]),\n",
       "    x: Batch(\n",
       "           c: tensor([[-1.8354, -0.0019, -0.2760, -1.4201],\n",
       "                      [-1.0434, -1.7258,  0.1108, -0.0780],\n",
       "                      [-0.3169,  1.0179,  0.3503,  0.7881]]),\n",
       "       ),\n",
       ")"
      ]
     },
     "execution_count": 9,
     "metadata": {},
     "output_type": "execute_result"
    }
   ],
   "source": [
    "b"
   ]
  },
  {
   "cell_type": "code",
   "execution_count": 10,
   "id": "43ef8ea3",
   "metadata": {
    "execution": {
     "iopub.execute_input": "2023-02-27T12:59:29.953695Z",
     "iopub.status.busy": "2023-02-27T12:59:29.953220Z",
     "iopub.status.idle": "2023-02-27T12:59:29.958858Z",
     "shell.execute_reply": "2023-02-27T12:59:29.958267Z"
    }
   },
   "outputs": [
    {
     "data": {
      "text/plain": [
       "tensor([[ 0.1796,  0.3682, -0.1221],\n",
       "        [-0.4592, -0.5511, -0.4903]])"
      ]
     },
     "execution_count": 10,
     "metadata": {},
     "output_type": "execute_result"
    }
   ],
   "source": [
    "b.a"
   ]
  },
  {
   "cell_type": "code",
   "execution_count": 11,
   "id": "b785ab72",
   "metadata": {
    "execution": {
     "iopub.execute_input": "2023-02-27T12:59:29.961593Z",
     "iopub.status.busy": "2023-02-27T12:59:29.961120Z",
     "iopub.status.idle": "2023-02-27T12:59:34.840605Z",
     "shell.execute_reply": "2023-02-27T12:59:34.839897Z"
    }
   },
   "outputs": [
    {
     "name": "stdout",
     "output_type": "stream",
     "text": [
      "60.2 ns ± 0.0172 ns per loop (mean ± std. dev. of 7 runs, 10,000,000 loops each)\n"
     ]
    }
   ],
   "source": [
    "%timeit b.a"
   ]
  },
  {
   "cell_type": "code",
   "execution_count": 12,
   "id": "ad54dc69",
   "metadata": {
    "execution": {
     "iopub.execute_input": "2023-02-27T12:59:34.843324Z",
     "iopub.status.busy": "2023-02-27T12:59:34.842963Z",
     "iopub.status.idle": "2023-02-27T12:59:34.849434Z",
     "shell.execute_reply": "2023-02-27T12:59:34.848812Z"
    }
   },
   "outputs": [
    {
     "data": {
      "text/plain": [
       "Batch(\n",
       "    a: tensor([[ 1.9789, -0.9663,  0.0320],\n",
       "               [ 0.3517, -0.3929,  0.8135]]),\n",
       "    x: Batch(\n",
       "           c: tensor([[-1.8354, -0.0019, -0.2760, -1.4201],\n",
       "                      [-1.0434, -1.7258,  0.1108, -0.0780],\n",
       "                      [-0.3169,  1.0179,  0.3503,  0.7881]]),\n",
       "       ),\n",
       ")"
      ]
     },
     "execution_count": 12,
     "metadata": {},
     "output_type": "execute_result"
    }
   ],
   "source": [
    "new_value = torch.randn(2, 3)\n",
    "b.a = new_value\n",
    "\n",
    "b"
   ]
  },
  {
   "cell_type": "code",
   "execution_count": 13,
   "id": "29b1d0bf",
   "metadata": {
    "execution": {
     "iopub.execute_input": "2023-02-27T12:59:34.851911Z",
     "iopub.status.busy": "2023-02-27T12:59:34.851582Z",
     "iopub.status.idle": "2023-02-27T12:59:38.743285Z",
     "shell.execute_reply": "2023-02-27T12:59:38.742619Z"
    }
   },
   "outputs": [
    {
     "name": "stdout",
     "output_type": "stream",
     "text": [
      "479 ns ± 0.248 ns per loop (mean ± std. dev. of 7 runs, 1,000,000 loops each)\n"
     ]
    }
   ],
   "source": [
    "%timeit b.a = new_value"
   ]
  },
  {
   "cell_type": "markdown",
   "id": "b61ad1d0",
   "metadata": {},
   "source": [
    "## Initialization"
   ]
  },
  {
   "cell_type": "markdown",
   "id": "d70f0d54",
   "metadata": {},
   "source": [
    "### TreeValue's Initialization"
   ]
  },
  {
   "cell_type": "code",
   "execution_count": 14,
   "id": "d32a679b",
   "metadata": {
    "execution": {
     "iopub.execute_input": "2023-02-27T12:59:38.746301Z",
     "iopub.status.busy": "2023-02-27T12:59:38.745694Z",
     "iopub.status.idle": "2023-02-27T12:59:45.417642Z",
     "shell.execute_reply": "2023-02-27T12:59:45.416881Z"
    }
   },
   "outputs": [
    {
     "name": "stdout",
     "output_type": "stream",
     "text": [
      "821 ns ± 0.274 ns per loop (mean ± std. dev. of 7 runs, 1,000,000 loops each)\n"
     ]
    }
   ],
   "source": [
    "%timeit FastTreeValue(_TREE_DATA_1)"
   ]
  },
  {
   "cell_type": "markdown",
   "id": "24f3707b",
   "metadata": {},
   "source": [
    "### Tianshou Batch's Initialization"
   ]
  },
  {
   "cell_type": "code",
   "execution_count": 15,
   "id": "ac3958df",
   "metadata": {
    "execution": {
     "iopub.execute_input": "2023-02-27T12:59:45.420665Z",
     "iopub.status.busy": "2023-02-27T12:59:45.420305Z",
     "iopub.status.idle": "2023-02-27T12:59:54.671953Z",
     "shell.execute_reply": "2023-02-27T12:59:54.671200Z"
    }
   },
   "outputs": [
    {
     "name": "stdout",
     "output_type": "stream",
     "text": [
      "11.4 µs ± 61.2 ns per loop (mean ± std. dev. of 7 runs, 100,000 loops each)\n"
     ]
    }
   ],
   "source": [
    "%timeit Batch(**_TREE_DATA_1)"
   ]
  },
  {
   "cell_type": "markdown",
   "id": "1ab82e2d",
   "metadata": {},
   "source": [
    "## Deep Copy Operation"
   ]
  },
  {
   "cell_type": "code",
   "execution_count": 16,
   "id": "210a9442",
   "metadata": {
    "execution": {
     "iopub.execute_input": "2023-02-27T12:59:54.675141Z",
     "iopub.status.busy": "2023-02-27T12:59:54.674637Z",
     "iopub.status.idle": "2023-02-27T12:59:54.678482Z",
     "shell.execute_reply": "2023-02-27T12:59:54.677836Z"
    }
   },
   "outputs": [],
   "source": [
    "import copy"
   ]
  },
  {
   "cell_type": "markdown",
   "id": "5a736274",
   "metadata": {},
   "source": [
    "### Deep Copy of TreeValue"
   ]
  },
  {
   "cell_type": "code",
   "execution_count": 17,
   "id": "f9bcadd6",
   "metadata": {
    "execution": {
     "iopub.execute_input": "2023-02-27T12:59:54.681110Z",
     "iopub.status.busy": "2023-02-27T12:59:54.680784Z",
     "iopub.status.idle": "2023-02-27T13:00:05.756749Z",
     "shell.execute_reply": "2023-02-27T13:00:05.756172Z"
    }
   },
   "outputs": [
    {
     "name": "stdout",
     "output_type": "stream",
     "text": [
      "136 µs ± 274 ns per loop (mean ± std. dev. of 7 runs, 10,000 loops each)\n"
     ]
    }
   ],
   "source": [
    "t3 = FastTreeValue(_TREE_DATA_3)\n",
    "%timeit copy.deepcopy(t3)"
   ]
  },
  {
   "cell_type": "markdown",
   "id": "bf8be7ea",
   "metadata": {},
   "source": [
    "### Deep Copy of Tianshou Batch"
   ]
  },
  {
   "cell_type": "code",
   "execution_count": 18,
   "id": "91998e6f",
   "metadata": {
    "execution": {
     "iopub.execute_input": "2023-02-27T13:00:05.760522Z",
     "iopub.status.busy": "2023-02-27T13:00:05.759610Z",
     "iopub.status.idle": "2023-02-27T13:00:17.009243Z",
     "shell.execute_reply": "2023-02-27T13:00:17.008644Z"
    }
   },
   "outputs": [
    {
     "name": "stdout",
     "output_type": "stream",
     "text": [
      "139 µs ± 263 ns per loop (mean ± std. dev. of 7 runs, 10,000 loops each)\n"
     ]
    }
   ],
   "source": [
    "b3 = Batch(**_TREE_DATA_3)\n",
    "%timeit copy.deepcopy(b3)"
   ]
  },
  {
   "cell_type": "markdown",
   "id": "223162fb",
   "metadata": {},
   "source": [
    "## Stack, Concat and Split Operation"
   ]
  },
  {
   "cell_type": "markdown",
   "id": "85fa4a73",
   "metadata": {},
   "source": [
    "### Performance of TreeValue"
   ]
  },
  {
   "cell_type": "code",
   "execution_count": 19,
   "id": "a0c2b697",
   "metadata": {
    "execution": {
     "iopub.execute_input": "2023-02-27T13:00:17.013097Z",
     "iopub.status.busy": "2023-02-27T13:00:17.012161Z",
     "iopub.status.idle": "2023-02-27T13:00:17.016332Z",
     "shell.execute_reply": "2023-02-27T13:00:17.015812Z"
    }
   },
   "outputs": [],
   "source": [
    "trees = [FastTreeValue(_TREE_DATA_2) for _ in range(8)]"
   ]
  },
  {
   "cell_type": "code",
   "execution_count": 20,
   "id": "017ea5a5",
   "metadata": {
    "execution": {
     "iopub.execute_input": "2023-02-27T13:00:17.019195Z",
     "iopub.status.busy": "2023-02-27T13:00:17.018723Z",
     "iopub.status.idle": "2023-02-27T13:00:17.025624Z",
     "shell.execute_reply": "2023-02-27T13:00:17.025112Z"
    }
   },
   "outputs": [
    {
     "data": {
      "text/plain": [
       "<FastTreeValue 0x7ff609e33610>\n",
       "├── 'a' --> tensor([[[ 0.1796,  0.3682, -0.1221],\n",
       "│                    [-0.4592, -0.5511, -0.4903]],\n",
       "│           \n",
       "│                   [[ 0.1796,  0.3682, -0.1221],\n",
       "│                    [-0.4592, -0.5511, -0.4903]],\n",
       "│           \n",
       "│                   [[ 0.1796,  0.3682, -0.1221],\n",
       "│                    [-0.4592, -0.5511, -0.4903]],\n",
       "│           \n",
       "│                   [[ 0.1796,  0.3682, -0.1221],\n",
       "│                    [-0.4592, -0.5511, -0.4903]],\n",
       "│           \n",
       "│                   [[ 0.1796,  0.3682, -0.1221],\n",
       "│                    [-0.4592, -0.5511, -0.4903]],\n",
       "│           \n",
       "│                   [[ 0.1796,  0.3682, -0.1221],\n",
       "│                    [-0.4592, -0.5511, -0.4903]],\n",
       "│           \n",
       "│                   [[ 0.1796,  0.3682, -0.1221],\n",
       "│                    [-0.4592, -0.5511, -0.4903]],\n",
       "│           \n",
       "│                   [[ 0.1796,  0.3682, -0.1221],\n",
       "│                    [-0.4592, -0.5511, -0.4903]]])\n",
       "└── 'x' --> <FastTreeValue 0x7ff609e33a00>\n",
       "    └── 'c' --> tensor([[[-1.8354, -0.0019, -0.2760, -1.4201],\n",
       "                         [-1.0434, -1.7258,  0.1108, -0.0780],\n",
       "                         [-0.3169,  1.0179,  0.3503,  0.7881]],\n",
       "                \n",
       "                        [[-1.8354, -0.0019, -0.2760, -1.4201],\n",
       "                         [-1.0434, -1.7258,  0.1108, -0.0780],\n",
       "                         [-0.3169,  1.0179,  0.3503,  0.7881]],\n",
       "                \n",
       "                        [[-1.8354, -0.0019, -0.2760, -1.4201],\n",
       "                         [-1.0434, -1.7258,  0.1108, -0.0780],\n",
       "                         [-0.3169,  1.0179,  0.3503,  0.7881]],\n",
       "                \n",
       "                        [[-1.8354, -0.0019, -0.2760, -1.4201],\n",
       "                         [-1.0434, -1.7258,  0.1108, -0.0780],\n",
       "                         [-0.3169,  1.0179,  0.3503,  0.7881]],\n",
       "                \n",
       "                        [[-1.8354, -0.0019, -0.2760, -1.4201],\n",
       "                         [-1.0434, -1.7258,  0.1108, -0.0780],\n",
       "                         [-0.3169,  1.0179,  0.3503,  0.7881]],\n",
       "                \n",
       "                        [[-1.8354, -0.0019, -0.2760, -1.4201],\n",
       "                         [-1.0434, -1.7258,  0.1108, -0.0780],\n",
       "                         [-0.3169,  1.0179,  0.3503,  0.7881]],\n",
       "                \n",
       "                        [[-1.8354, -0.0019, -0.2760, -1.4201],\n",
       "                         [-1.0434, -1.7258,  0.1108, -0.0780],\n",
       "                         [-0.3169,  1.0179,  0.3503,  0.7881]],\n",
       "                \n",
       "                        [[-1.8354, -0.0019, -0.2760, -1.4201],\n",
       "                         [-1.0434, -1.7258,  0.1108, -0.0780],\n",
       "                         [-0.3169,  1.0179,  0.3503,  0.7881]]])"
      ]
     },
     "execution_count": 20,
     "metadata": {},
     "output_type": "execute_result"
    }
   ],
   "source": [
    "t_stack = FastTreeValue.func(subside=True)(torch.stack)\n",
    "\n",
    "t_stack(trees)"
   ]
  },
  {
   "cell_type": "code",
   "execution_count": 21,
   "id": "f8b3f415",
   "metadata": {
    "execution": {
     "iopub.execute_input": "2023-02-27T13:00:17.028072Z",
     "iopub.status.busy": "2023-02-27T13:00:17.027508Z",
     "iopub.status.idle": "2023-02-27T13:00:19.666841Z",
     "shell.execute_reply": "2023-02-27T13:00:19.666073Z"
    }
   },
   "outputs": [
    {
     "name": "stdout",
     "output_type": "stream",
     "text": [
      "32.5 µs ± 80.2 ns per loop (mean ± std. dev. of 7 runs, 10,000 loops each)\n"
     ]
    }
   ],
   "source": [
    "%timeit t_stack(trees)"
   ]
  },
  {
   "cell_type": "code",
   "execution_count": 22,
   "id": "94b56771",
   "metadata": {
    "execution": {
     "iopub.execute_input": "2023-02-27T13:00:19.669884Z",
     "iopub.status.busy": "2023-02-27T13:00:19.669354Z",
     "iopub.status.idle": "2023-02-27T13:00:19.677161Z",
     "shell.execute_reply": "2023-02-27T13:00:19.676557Z"
    }
   },
   "outputs": [
    {
     "data": {
      "text/plain": [
       "<FastTreeValue 0x7ff609e33b80>\n",
       "├── 'a' --> tensor([[ 0.1796,  0.3682, -0.1221],\n",
       "│                   [-0.4592, -0.5511, -0.4903],\n",
       "│                   [ 0.1796,  0.3682, -0.1221],\n",
       "│                   [-0.4592, -0.5511, -0.4903],\n",
       "│                   [ 0.1796,  0.3682, -0.1221],\n",
       "│                   [-0.4592, -0.5511, -0.4903],\n",
       "│                   [ 0.1796,  0.3682, -0.1221],\n",
       "│                   [-0.4592, -0.5511, -0.4903],\n",
       "│                   [ 0.1796,  0.3682, -0.1221],\n",
       "│                   [-0.4592, -0.5511, -0.4903],\n",
       "│                   [ 0.1796,  0.3682, -0.1221],\n",
       "│                   [-0.4592, -0.5511, -0.4903],\n",
       "│                   [ 0.1796,  0.3682, -0.1221],\n",
       "│                   [-0.4592, -0.5511, -0.4903],\n",
       "│                   [ 0.1796,  0.3682, -0.1221],\n",
       "│                   [-0.4592, -0.5511, -0.4903]])\n",
       "└── 'x' --> <FastTreeValue 0x7ff6c0ba1700>\n",
       "    └── 'c' --> tensor([[-1.8354, -0.0019, -0.2760, -1.4201],\n",
       "                        [-1.0434, -1.7258,  0.1108, -0.0780],\n",
       "                        [-0.3169,  1.0179,  0.3503,  0.7881],\n",
       "                        [-1.8354, -0.0019, -0.2760, -1.4201],\n",
       "                        [-1.0434, -1.7258,  0.1108, -0.0780],\n",
       "                        [-0.3169,  1.0179,  0.3503,  0.7881],\n",
       "                        [-1.8354, -0.0019, -0.2760, -1.4201],\n",
       "                        [-1.0434, -1.7258,  0.1108, -0.0780],\n",
       "                        [-0.3169,  1.0179,  0.3503,  0.7881],\n",
       "                        [-1.8354, -0.0019, -0.2760, -1.4201],\n",
       "                        [-1.0434, -1.7258,  0.1108, -0.0780],\n",
       "                        [-0.3169,  1.0179,  0.3503,  0.7881],\n",
       "                        [-1.8354, -0.0019, -0.2760, -1.4201],\n",
       "                        [-1.0434, -1.7258,  0.1108, -0.0780],\n",
       "                        [-0.3169,  1.0179,  0.3503,  0.7881],\n",
       "                        [-1.8354, -0.0019, -0.2760, -1.4201],\n",
       "                        [-1.0434, -1.7258,  0.1108, -0.0780],\n",
       "                        [-0.3169,  1.0179,  0.3503,  0.7881],\n",
       "                        [-1.8354, -0.0019, -0.2760, -1.4201],\n",
       "                        [-1.0434, -1.7258,  0.1108, -0.0780],\n",
       "                        [-0.3169,  1.0179,  0.3503,  0.7881],\n",
       "                        [-1.8354, -0.0019, -0.2760, -1.4201],\n",
       "                        [-1.0434, -1.7258,  0.1108, -0.0780],\n",
       "                        [-0.3169,  1.0179,  0.3503,  0.7881]])"
      ]
     },
     "execution_count": 22,
     "metadata": {},
     "output_type": "execute_result"
    }
   ],
   "source": [
    "t_cat = FastTreeValue.func(subside=True)(torch.cat)\n",
    "\n",
    "t_cat(trees)"
   ]
  },
  {
   "cell_type": "code",
   "execution_count": 23,
   "id": "5e9c06a6",
   "metadata": {
    "execution": {
     "iopub.execute_input": "2023-02-27T13:00:19.679767Z",
     "iopub.status.busy": "2023-02-27T13:00:19.679453Z",
     "iopub.status.idle": "2023-02-27T13:00:22.180264Z",
     "shell.execute_reply": "2023-02-27T13:00:22.179537Z"
    }
   },
   "outputs": [
    {
     "name": "stdout",
     "output_type": "stream",
     "text": [
      "30.8 µs ± 86.9 ns per loop (mean ± std. dev. of 7 runs, 10,000 loops each)\n"
     ]
    }
   ],
   "source": [
    "%timeit t_cat(trees)"
   ]
  },
  {
   "cell_type": "code",
   "execution_count": 24,
   "id": "a3ab5c8f",
   "metadata": {
    "execution": {
     "iopub.execute_input": "2023-02-27T13:00:22.183245Z",
     "iopub.status.busy": "2023-02-27T13:00:22.182660Z",
     "iopub.status.idle": "2023-02-27T13:00:26.958728Z",
     "shell.execute_reply": "2023-02-27T13:00:26.958004Z"
    }
   },
   "outputs": [
    {
     "name": "stdout",
     "output_type": "stream",
     "text": [
      "58.9 µs ± 149 ns per loop (mean ± std. dev. of 7 runs, 10,000 loops each)\n"
     ]
    }
   ],
   "source": [
    "t_split = FastTreeValue.func(rise=True)(torch.split)\n",
    "tree = FastTreeValue({\n",
    "    'obs': torch.randn(8, 4, 84, 84),\n",
    "    'action': torch.randint(0, 6, size=(8, 1,)),\n",
    "    'reward': torch.rand(8, 1),\n",
    "})\n",
    "\n",
    "%timeit t_split(tree, 1)"
   ]
  },
  {
   "cell_type": "markdown",
   "id": "31c3ec0b",
   "metadata": {},
   "source": [
    "### Performance of Tianshou Batch"
   ]
  },
  {
   "cell_type": "code",
   "execution_count": 25,
   "id": "9ead828a",
   "metadata": {
    "execution": {
     "iopub.execute_input": "2023-02-27T13:00:26.961589Z",
     "iopub.status.busy": "2023-02-27T13:00:26.961237Z",
     "iopub.status.idle": "2023-02-27T13:00:26.969936Z",
     "shell.execute_reply": "2023-02-27T13:00:26.969354Z"
    }
   },
   "outputs": [
    {
     "data": {
      "text/plain": [
       "Batch(\n",
       "    a: tensor([[[ 0.1796,  0.3682, -0.1221],\n",
       "                [-0.4592, -0.5511, -0.4903]],\n",
       "       \n",
       "               [[ 0.1796,  0.3682, -0.1221],\n",
       "                [-0.4592, -0.5511, -0.4903]],\n",
       "       \n",
       "               [[ 0.1796,  0.3682, -0.1221],\n",
       "                [-0.4592, -0.5511, -0.4903]],\n",
       "       \n",
       "               [[ 0.1796,  0.3682, -0.1221],\n",
       "                [-0.4592, -0.5511, -0.4903]],\n",
       "       \n",
       "               [[ 0.1796,  0.3682, -0.1221],\n",
       "                [-0.4592, -0.5511, -0.4903]],\n",
       "       \n",
       "               [[ 0.1796,  0.3682, -0.1221],\n",
       "                [-0.4592, -0.5511, -0.4903]],\n",
       "       \n",
       "               [[ 0.1796,  0.3682, -0.1221],\n",
       "                [-0.4592, -0.5511, -0.4903]],\n",
       "       \n",
       "               [[ 0.1796,  0.3682, -0.1221],\n",
       "                [-0.4592, -0.5511, -0.4903]]]),\n",
       "    x: Batch(\n",
       "           c: tensor([[[-1.8354, -0.0019, -0.2760, -1.4201],\n",
       "                       [-1.0434, -1.7258,  0.1108, -0.0780],\n",
       "                       [-0.3169,  1.0179,  0.3503,  0.7881]],\n",
       "              \n",
       "                      [[-1.8354, -0.0019, -0.2760, -1.4201],\n",
       "                       [-1.0434, -1.7258,  0.1108, -0.0780],\n",
       "                       [-0.3169,  1.0179,  0.3503,  0.7881]],\n",
       "              \n",
       "                      [[-1.8354, -0.0019, -0.2760, -1.4201],\n",
       "                       [-1.0434, -1.7258,  0.1108, -0.0780],\n",
       "                       [-0.3169,  1.0179,  0.3503,  0.7881]],\n",
       "              \n",
       "                      [[-1.8354, -0.0019, -0.2760, -1.4201],\n",
       "                       [-1.0434, -1.7258,  0.1108, -0.0780],\n",
       "                       [-0.3169,  1.0179,  0.3503,  0.7881]],\n",
       "              \n",
       "                      [[-1.8354, -0.0019, -0.2760, -1.4201],\n",
       "                       [-1.0434, -1.7258,  0.1108, -0.0780],\n",
       "                       [-0.3169,  1.0179,  0.3503,  0.7881]],\n",
       "              \n",
       "                      [[-1.8354, -0.0019, -0.2760, -1.4201],\n",
       "                       [-1.0434, -1.7258,  0.1108, -0.0780],\n",
       "                       [-0.3169,  1.0179,  0.3503,  0.7881]],\n",
       "              \n",
       "                      [[-1.8354, -0.0019, -0.2760, -1.4201],\n",
       "                       [-1.0434, -1.7258,  0.1108, -0.0780],\n",
       "                       [-0.3169,  1.0179,  0.3503,  0.7881]],\n",
       "              \n",
       "                      [[-1.8354, -0.0019, -0.2760, -1.4201],\n",
       "                       [-1.0434, -1.7258,  0.1108, -0.0780],\n",
       "                       [-0.3169,  1.0179,  0.3503,  0.7881]]]),\n",
       "       ),\n",
       ")"
      ]
     },
     "execution_count": 25,
     "metadata": {},
     "output_type": "execute_result"
    }
   ],
   "source": [
    "batches = [Batch(**_TREE_DATA_2) for _ in range(8)]\n",
    "\n",
    "Batch.stack(batches)"
   ]
  },
  {
   "cell_type": "code",
   "execution_count": 26,
   "id": "ec9037a3",
   "metadata": {
    "execution": {
     "iopub.execute_input": "2023-02-27T13:00:26.972712Z",
     "iopub.status.busy": "2023-02-27T13:00:26.972222Z",
     "iopub.status.idle": "2023-02-27T13:00:33.367446Z",
     "shell.execute_reply": "2023-02-27T13:00:33.366691Z"
    }
   },
   "outputs": [
    {
     "name": "stdout",
     "output_type": "stream",
     "text": [
      "78.7 µs ± 199 ns per loop (mean ± std. dev. of 7 runs, 10,000 loops each)\n"
     ]
    }
   ],
   "source": [
    "%timeit Batch.stack(batches)"
   ]
  },
  {
   "cell_type": "code",
   "execution_count": 27,
   "id": "cb8ab77e",
   "metadata": {
    "execution": {
     "iopub.execute_input": "2023-02-27T13:00:33.370769Z",
     "iopub.status.busy": "2023-02-27T13:00:33.370191Z",
     "iopub.status.idle": "2023-02-27T13:00:33.377592Z",
     "shell.execute_reply": "2023-02-27T13:00:33.377007Z"
    }
   },
   "outputs": [
    {
     "data": {
      "text/plain": [
       "Batch(\n",
       "    a: tensor([[ 0.1796,  0.3682, -0.1221],\n",
       "               [-0.4592, -0.5511, -0.4903],\n",
       "               [ 0.1796,  0.3682, -0.1221],\n",
       "               [-0.4592, -0.5511, -0.4903],\n",
       "               [ 0.1796,  0.3682, -0.1221],\n",
       "               [-0.4592, -0.5511, -0.4903],\n",
       "               [ 0.1796,  0.3682, -0.1221],\n",
       "               [-0.4592, -0.5511, -0.4903],\n",
       "               [ 0.1796,  0.3682, -0.1221],\n",
       "               [-0.4592, -0.5511, -0.4903],\n",
       "               [ 0.1796,  0.3682, -0.1221],\n",
       "               [-0.4592, -0.5511, -0.4903],\n",
       "               [ 0.1796,  0.3682, -0.1221],\n",
       "               [-0.4592, -0.5511, -0.4903],\n",
       "               [ 0.1796,  0.3682, -0.1221],\n",
       "               [-0.4592, -0.5511, -0.4903]]),\n",
       "    x: Batch(\n",
       "           c: tensor([[-1.8354, -0.0019, -0.2760, -1.4201],\n",
       "                      [-1.0434, -1.7258,  0.1108, -0.0780],\n",
       "                      [-0.3169,  1.0179,  0.3503,  0.7881],\n",
       "                      [-1.8354, -0.0019, -0.2760, -1.4201],\n",
       "                      [-1.0434, -1.7258,  0.1108, -0.0780],\n",
       "                      [-0.3169,  1.0179,  0.3503,  0.7881],\n",
       "                      [-1.8354, -0.0019, -0.2760, -1.4201],\n",
       "                      [-1.0434, -1.7258,  0.1108, -0.0780],\n",
       "                      [-0.3169,  1.0179,  0.3503,  0.7881],\n",
       "                      [-1.8354, -0.0019, -0.2760, -1.4201],\n",
       "                      [-1.0434, -1.7258,  0.1108, -0.0780],\n",
       "                      [-0.3169,  1.0179,  0.3503,  0.7881],\n",
       "                      [-1.8354, -0.0019, -0.2760, -1.4201],\n",
       "                      [-1.0434, -1.7258,  0.1108, -0.0780],\n",
       "                      [-0.3169,  1.0179,  0.3503,  0.7881],\n",
       "                      [-1.8354, -0.0019, -0.2760, -1.4201],\n",
       "                      [-1.0434, -1.7258,  0.1108, -0.0780],\n",
       "                      [-0.3169,  1.0179,  0.3503,  0.7881],\n",
       "                      [-1.8354, -0.0019, -0.2760, -1.4201],\n",
       "                      [-1.0434, -1.7258,  0.1108, -0.0780],\n",
       "                      [-0.3169,  1.0179,  0.3503,  0.7881],\n",
       "                      [-1.8354, -0.0019, -0.2760, -1.4201],\n",
       "                      [-1.0434, -1.7258,  0.1108, -0.0780],\n",
       "                      [-0.3169,  1.0179,  0.3503,  0.7881]]),\n",
       "       ),\n",
       ")"
      ]
     },
     "execution_count": 27,
     "metadata": {},
     "output_type": "execute_result"
    }
   ],
   "source": [
    "Batch.cat(batches)"
   ]
  },
  {
   "cell_type": "code",
   "execution_count": 28,
   "id": "18dfb045",
   "metadata": {
    "execution": {
     "iopub.execute_input": "2023-02-27T13:00:33.379926Z",
     "iopub.status.busy": "2023-02-27T13:00:33.379590Z",
     "iopub.status.idle": "2023-02-27T13:00:45.014724Z",
     "shell.execute_reply": "2023-02-27T13:00:45.013992Z"
    }
   },
   "outputs": [
    {
     "name": "stdout",
     "output_type": "stream",
     "text": [
      "143 µs ± 376 ns per loop (mean ± std. dev. of 7 runs, 10,000 loops each)\n"
     ]
    }
   ],
   "source": [
    "%timeit Batch.cat(batches)"
   ]
  },
  {
   "cell_type": "code",
   "execution_count": 29,
   "id": "c6688e51",
   "metadata": {
    "execution": {
     "iopub.execute_input": "2023-02-27T13:00:45.017254Z",
     "iopub.status.busy": "2023-02-27T13:00:45.017006Z",
     "iopub.status.idle": "2023-02-27T13:00:47.537553Z",
     "shell.execute_reply": "2023-02-27T13:00:47.536955Z"
    }
   },
   "outputs": [
    {
     "name": "stdout",
     "output_type": "stream",
     "text": [
      "310 µs ± 3.6 µs per loop (mean ± std. dev. of 7 runs, 1,000 loops each)\n"
     ]
    }
   ],
   "source": [
    "batch = Batch({\n",
    "    'obs': torch.randn(8, 4, 84, 84),\n",
    "    'action': torch.randint(0, 6, size=(8, 1,)),\n",
    "    'reward': torch.rand(8, 1)}\n",
    ")\n",
    "\n",
    "%timeit list(Batch.split(batch, 1, shuffle=False, merge_last=True))"
   ]
  },
  {
   "cell_type": "code",
   "execution_count": null,
   "id": "2539fbd9",
   "metadata": {},
   "outputs": [],
   "source": []
  }
 ],
 "metadata": {
  "kernelspec": {
   "display_name": "Python 3 (ipykernel)",
   "language": "python",
   "name": "python3"
  },
  "language_info": {
   "codemirror_mode": {
    "name": "ipython",
    "version": 3
   },
   "file_extension": ".py",
   "mimetype": "text/x-python",
   "name": "python",
   "nbconvert_exporter": "python",
   "pygments_lexer": "ipython3",
   "version": "3.8.16"
  }
 },
 "nbformat": 4,
 "nbformat_minor": 5
}
