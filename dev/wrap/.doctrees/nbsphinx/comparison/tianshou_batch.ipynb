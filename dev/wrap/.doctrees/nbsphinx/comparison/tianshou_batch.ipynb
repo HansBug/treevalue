{
 "cells": [
  {
   "cell_type": "markdown",
   "id": "9d39d946",
   "metadata": {},
   "source": [
    "# Comparison Between TreeValue and Tianshou Batch"
   ]
  },
  {
   "cell_type": "markdown",
   "id": "3c6db2d4",
   "metadata": {},
   "source": [
    "In this section, we will take a look at the feature and performance of the [Tianshou Batch](https://github.com/thu-ml/tianshou) library, which is developed by Tsinghua Machine Learning Group."
   ]
  },
  {
   "cell_type": "markdown",
   "id": "069361b0",
   "metadata": {},
   "source": [
    "Before starting the comparison, let us define some thing."
   ]
  },
  {
   "cell_type": "code",
   "execution_count": 1,
   "id": "06fc8d26",
   "metadata": {
    "execution": {
     "iopub.execute_input": "2023-02-26T16:12:35.846062Z",
     "iopub.status.busy": "2023-02-26T16:12:35.845530Z",
     "iopub.status.idle": "2023-02-26T16:12:36.774201Z",
     "shell.execute_reply": "2023-02-26T16:12:36.773508Z"
    }
   },
   "outputs": [
    {
     "name": "stderr",
     "output_type": "stream",
     "text": [
      "/opt/hostedtoolcache/Python/3.8.16/x64/lib/python3.8/site-packages/tqdm/auto.py:22: TqdmWarning: IProgress not found. Please update jupyter and ipywidgets. See https://ipywidgets.readthedocs.io/en/stable/user_install.html\n",
      "  from .autonotebook import tqdm as notebook_tqdm\n"
     ]
    }
   ],
   "source": [
    "import torch \n",
    "\n",
    "_TREE_DATA_1 = {'a': 1, 'b': 2, 'x': {'c': 3, 'd': 4}}\n",
    "_TREE_DATA_2 = {\n",
    "    'a': torch.randn(2, 3), \n",
    "    'x': {\n",
    "        'c': torch.randn(3, 4)\n",
    "    },\n",
    "}\n",
    "_TREE_DATA_3 = {\n",
    "    'obs': torch.randn(4, 84, 84),\n",
    "    'action': torch.randint(0, 6, size=(1,)),\n",
    "    'reward': torch.rand(1),\n",
    "}"
   ]
  },
  {
   "cell_type": "markdown",
   "id": "83461b25",
   "metadata": {},
   "source": [
    "## Read and Write Operation"
   ]
  },
  {
   "cell_type": "markdown",
   "id": "067b3f73",
   "metadata": {},
   "source": [
    "Reading and writing are the two most common operations in the tree data structure based on the data model (TreeValue and Tianshou Batch both belong to this type), so this section will compare the reading and writing performance of these two libraries."
   ]
  },
  {
   "cell_type": "markdown",
   "id": "5d09a5b7",
   "metadata": {},
   "source": [
    "### TreeValue's Get and Set"
   ]
  },
  {
   "cell_type": "code",
   "execution_count": 2,
   "id": "9519c4bb",
   "metadata": {
    "execution": {
     "iopub.execute_input": "2023-02-26T16:12:36.777870Z",
     "iopub.status.busy": "2023-02-26T16:12:36.777247Z",
     "iopub.status.idle": "2023-02-26T16:12:36.810641Z",
     "shell.execute_reply": "2023-02-26T16:12:36.810018Z"
    }
   },
   "outputs": [],
   "source": [
    "from treevalue import FastTreeValue\n",
    "\n",
    "t = FastTreeValue(_TREE_DATA_2)"
   ]
  },
  {
   "cell_type": "code",
   "execution_count": 3,
   "id": "11c37677",
   "metadata": {
    "execution": {
     "iopub.execute_input": "2023-02-26T16:12:36.813600Z",
     "iopub.status.busy": "2023-02-26T16:12:36.813060Z",
     "iopub.status.idle": "2023-02-26T16:12:36.822302Z",
     "shell.execute_reply": "2023-02-26T16:12:36.821702Z"
    }
   },
   "outputs": [
    {
     "data": {
      "text/plain": [
       "<FastTreeValue 0x7f68181e1dc0>\n",
       "├── 'a' --> tensor([[ 1.3664,  0.5328, -0.6955],\n",
       "│                   [ 0.7239, -0.5734,  1.5344]])\n",
       "└── 'x' --> <FastTreeValue 0x7f68181e1d30>\n",
       "    └── 'c' --> tensor([[-0.1460,  1.6373, -0.0251, -1.8319],\n",
       "                        [-0.7678, -1.0869, -1.2274, -1.3800],\n",
       "                        [ 0.9530, -0.0147,  1.8584, -0.3584]])"
      ]
     },
     "execution_count": 3,
     "metadata": {},
     "output_type": "execute_result"
    }
   ],
   "source": [
    "t"
   ]
  },
  {
   "cell_type": "code",
   "execution_count": 4,
   "id": "fd70b0b9",
   "metadata": {
    "execution": {
     "iopub.execute_input": "2023-02-26T16:12:36.824741Z",
     "iopub.status.busy": "2023-02-26T16:12:36.824397Z",
     "iopub.status.idle": "2023-02-26T16:12:36.829946Z",
     "shell.execute_reply": "2023-02-26T16:12:36.829348Z"
    }
   },
   "outputs": [
    {
     "data": {
      "text/plain": [
       "tensor([[ 1.3664,  0.5328, -0.6955],\n",
       "        [ 0.7239, -0.5734,  1.5344]])"
      ]
     },
     "execution_count": 4,
     "metadata": {},
     "output_type": "execute_result"
    }
   ],
   "source": [
    "t.a"
   ]
  },
  {
   "cell_type": "code",
   "execution_count": 5,
   "id": "c18197bd",
   "metadata": {
    "execution": {
     "iopub.execute_input": "2023-02-26T16:12:36.832381Z",
     "iopub.status.busy": "2023-02-26T16:12:36.832030Z",
     "iopub.status.idle": "2023-02-26T16:12:41.915475Z",
     "shell.execute_reply": "2023-02-26T16:12:41.914723Z"
    }
   },
   "outputs": [
    {
     "name": "stdout",
     "output_type": "stream",
     "text": [
      "62.9 ns ± 0.027 ns per loop (mean ± std. dev. of 7 runs, 10,000,000 loops each)\n"
     ]
    }
   ],
   "source": [
    "%timeit t.a"
   ]
  },
  {
   "cell_type": "code",
   "execution_count": 6,
   "id": "bd52f867",
   "metadata": {
    "execution": {
     "iopub.execute_input": "2023-02-26T16:12:41.918661Z",
     "iopub.status.busy": "2023-02-26T16:12:41.918087Z",
     "iopub.status.idle": "2023-02-26T16:12:41.924137Z",
     "shell.execute_reply": "2023-02-26T16:12:41.923478Z"
    }
   },
   "outputs": [
    {
     "data": {
      "text/plain": [
       "<FastTreeValue 0x7f68181e1dc0>\n",
       "├── 'a' --> tensor([[ 0.5175, -1.2652, -0.7014],\n",
       "│                   [ 1.4347, -1.2194, -0.2773]])\n",
       "└── 'x' --> <FastTreeValue 0x7f68181e1d30>\n",
       "    └── 'c' --> tensor([[-0.1460,  1.6373, -0.0251, -1.8319],\n",
       "                        [-0.7678, -1.0869, -1.2274, -1.3800],\n",
       "                        [ 0.9530, -0.0147,  1.8584, -0.3584]])"
      ]
     },
     "execution_count": 6,
     "metadata": {},
     "output_type": "execute_result"
    }
   ],
   "source": [
    "new_value = torch.randn(2, 3)\n",
    "t.a = new_value\n",
    "\n",
    "t"
   ]
  },
  {
   "cell_type": "code",
   "execution_count": 7,
   "id": "bbe04d1c",
   "metadata": {
    "execution": {
     "iopub.execute_input": "2023-02-26T16:12:41.926534Z",
     "iopub.status.busy": "2023-02-26T16:12:41.926198Z",
     "iopub.status.idle": "2023-02-26T16:12:46.753396Z",
     "shell.execute_reply": "2023-02-26T16:12:46.752674Z"
    }
   },
   "outputs": [
    {
     "name": "stdout",
     "output_type": "stream",
     "text": [
      "59.4 ns ± 0.024 ns per loop (mean ± std. dev. of 7 runs, 10,000,000 loops each)\n"
     ]
    }
   ],
   "source": [
    "%timeit t.a = new_value"
   ]
  },
  {
   "cell_type": "markdown",
   "id": "48c49731",
   "metadata": {},
   "source": [
    "### Tianshou Batch's Get and Set"
   ]
  },
  {
   "cell_type": "code",
   "execution_count": 8,
   "id": "f1bb14c1",
   "metadata": {
    "execution": {
     "iopub.execute_input": "2023-02-26T16:12:46.756666Z",
     "iopub.status.busy": "2023-02-26T16:12:46.756021Z",
     "iopub.status.idle": "2023-02-26T16:12:47.090861Z",
     "shell.execute_reply": "2023-02-26T16:12:47.090160Z"
    }
   },
   "outputs": [],
   "source": [
    "from tianshou.data import Batch\n",
    "\n",
    "b = Batch(**_TREE_DATA_2)"
   ]
  },
  {
   "cell_type": "code",
   "execution_count": 9,
   "id": "cb0777c3",
   "metadata": {
    "execution": {
     "iopub.execute_input": "2023-02-26T16:12:47.093955Z",
     "iopub.status.busy": "2023-02-26T16:12:47.093630Z",
     "iopub.status.idle": "2023-02-26T16:12:47.100146Z",
     "shell.execute_reply": "2023-02-26T16:12:47.099577Z"
    }
   },
   "outputs": [
    {
     "data": {
      "text/plain": [
       "Batch(\n",
       "    a: tensor([[ 1.3664,  0.5328, -0.6955],\n",
       "               [ 0.7239, -0.5734,  1.5344]]),\n",
       "    x: Batch(\n",
       "           c: tensor([[-0.1460,  1.6373, -0.0251, -1.8319],\n",
       "                      [-0.7678, -1.0869, -1.2274, -1.3800],\n",
       "                      [ 0.9530, -0.0147,  1.8584, -0.3584]]),\n",
       "       ),\n",
       ")"
      ]
     },
     "execution_count": 9,
     "metadata": {},
     "output_type": "execute_result"
    }
   ],
   "source": [
    "b"
   ]
  },
  {
   "cell_type": "code",
   "execution_count": 10,
   "id": "43ef8ea3",
   "metadata": {
    "execution": {
     "iopub.execute_input": "2023-02-26T16:12:47.102944Z",
     "iopub.status.busy": "2023-02-26T16:12:47.102472Z",
     "iopub.status.idle": "2023-02-26T16:12:47.108473Z",
     "shell.execute_reply": "2023-02-26T16:12:47.107902Z"
    }
   },
   "outputs": [
    {
     "data": {
      "text/plain": [
       "tensor([[ 1.3664,  0.5328, -0.6955],\n",
       "        [ 0.7239, -0.5734,  1.5344]])"
      ]
     },
     "execution_count": 10,
     "metadata": {},
     "output_type": "execute_result"
    }
   ],
   "source": [
    "b.a"
   ]
  },
  {
   "cell_type": "code",
   "execution_count": 11,
   "id": "b785ab72",
   "metadata": {
    "execution": {
     "iopub.execute_input": "2023-02-26T16:12:47.111338Z",
     "iopub.status.busy": "2023-02-26T16:12:47.110723Z",
     "iopub.status.idle": "2023-02-26T16:12:51.892473Z",
     "shell.execute_reply": "2023-02-26T16:12:51.891765Z"
    }
   },
   "outputs": [
    {
     "name": "stdout",
     "output_type": "stream",
     "text": [
      "58.9 ns ± 0.0263 ns per loop (mean ± std. dev. of 7 runs, 10,000,000 loops each)\n"
     ]
    }
   ],
   "source": [
    "%timeit b.a"
   ]
  },
  {
   "cell_type": "code",
   "execution_count": 12,
   "id": "ad54dc69",
   "metadata": {
    "execution": {
     "iopub.execute_input": "2023-02-26T16:12:51.895293Z",
     "iopub.status.busy": "2023-02-26T16:12:51.895056Z",
     "iopub.status.idle": "2023-02-26T16:12:51.902041Z",
     "shell.execute_reply": "2023-02-26T16:12:51.901447Z"
    }
   },
   "outputs": [
    {
     "data": {
      "text/plain": [
       "Batch(\n",
       "    a: tensor([[ 1.7239, -0.3620,  0.2066],\n",
       "               [-1.1177,  0.6413, -1.2360]]),\n",
       "    x: Batch(\n",
       "           c: tensor([[-0.1460,  1.6373, -0.0251, -1.8319],\n",
       "                      [-0.7678, -1.0869, -1.2274, -1.3800],\n",
       "                      [ 0.9530, -0.0147,  1.8584, -0.3584]]),\n",
       "       ),\n",
       ")"
      ]
     },
     "execution_count": 12,
     "metadata": {},
     "output_type": "execute_result"
    }
   ],
   "source": [
    "new_value = torch.randn(2, 3)\n",
    "b.a = new_value\n",
    "\n",
    "b"
   ]
  },
  {
   "cell_type": "code",
   "execution_count": 13,
   "id": "29b1d0bf",
   "metadata": {
    "execution": {
     "iopub.execute_input": "2023-02-26T16:12:51.904692Z",
     "iopub.status.busy": "2023-02-26T16:12:51.904371Z",
     "iopub.status.idle": "2023-02-26T16:12:55.855803Z",
     "shell.execute_reply": "2023-02-26T16:12:55.855111Z"
    }
   },
   "outputs": [
    {
     "name": "stdout",
     "output_type": "stream",
     "text": [
      "487 ns ± 0.103 ns per loop (mean ± std. dev. of 7 runs, 1,000,000 loops each)\n"
     ]
    }
   ],
   "source": [
    "%timeit b.a = new_value"
   ]
  },
  {
   "cell_type": "markdown",
   "id": "b61ad1d0",
   "metadata": {},
   "source": [
    "## Initialization"
   ]
  },
  {
   "cell_type": "markdown",
   "id": "d70f0d54",
   "metadata": {},
   "source": [
    "### TreeValue's Initialization"
   ]
  },
  {
   "cell_type": "code",
   "execution_count": 14,
   "id": "d32a679b",
   "metadata": {
    "execution": {
     "iopub.execute_input": "2023-02-26T16:12:55.858986Z",
     "iopub.status.busy": "2023-02-26T16:12:55.858464Z",
     "iopub.status.idle": "2023-02-26T16:13:02.687907Z",
     "shell.execute_reply": "2023-02-26T16:13:02.687176Z"
    }
   },
   "outputs": [
    {
     "name": "stdout",
     "output_type": "stream",
     "text": [
      "842 ns ± 0.0575 ns per loop (mean ± std. dev. of 7 runs, 1,000,000 loops each)\n"
     ]
    }
   ],
   "source": [
    "%timeit FastTreeValue(_TREE_DATA_1)"
   ]
  },
  {
   "cell_type": "markdown",
   "id": "24f3707b",
   "metadata": {},
   "source": [
    "### Tianshou Batch's Initialization"
   ]
  },
  {
   "cell_type": "code",
   "execution_count": 15,
   "id": "ac3958df",
   "metadata": {
    "execution": {
     "iopub.execute_input": "2023-02-26T16:13:02.690877Z",
     "iopub.status.busy": "2023-02-26T16:13:02.690323Z",
     "iopub.status.idle": "2023-02-26T16:13:11.969203Z",
     "shell.execute_reply": "2023-02-26T16:13:11.968460Z"
    }
   },
   "outputs": [
    {
     "name": "stdout",
     "output_type": "stream",
     "text": [
      "11.4 µs ± 31.2 ns per loop (mean ± std. dev. of 7 runs, 100,000 loops each)\n"
     ]
    }
   ],
   "source": [
    "%timeit Batch(**_TREE_DATA_1)"
   ]
  },
  {
   "cell_type": "markdown",
   "id": "1ab82e2d",
   "metadata": {},
   "source": [
    "## Deep Copy Operation"
   ]
  },
  {
   "cell_type": "code",
   "execution_count": 16,
   "id": "210a9442",
   "metadata": {
    "execution": {
     "iopub.execute_input": "2023-02-26T16:13:11.972307Z",
     "iopub.status.busy": "2023-02-26T16:13:11.971794Z",
     "iopub.status.idle": "2023-02-26T16:13:11.975684Z",
     "shell.execute_reply": "2023-02-26T16:13:11.975094Z"
    }
   },
   "outputs": [],
   "source": [
    "import copy"
   ]
  },
  {
   "cell_type": "markdown",
   "id": "5a736274",
   "metadata": {},
   "source": [
    "### Deep Copy of TreeValue"
   ]
  },
  {
   "cell_type": "code",
   "execution_count": 17,
   "id": "f9bcadd6",
   "metadata": {
    "execution": {
     "iopub.execute_input": "2023-02-26T16:13:11.978255Z",
     "iopub.status.busy": "2023-02-26T16:13:11.977931Z",
     "iopub.status.idle": "2023-02-26T16:13:23.714950Z",
     "shell.execute_reply": "2023-02-26T16:13:23.714376Z"
    }
   },
   "outputs": [
    {
     "name": "stdout",
     "output_type": "stream",
     "text": [
      "145 µs ± 451 ns per loop (mean ± std. dev. of 7 runs, 10,000 loops each)\n"
     ]
    }
   ],
   "source": [
    "t3 = FastTreeValue(_TREE_DATA_3)\n",
    "%timeit copy.deepcopy(t3)"
   ]
  },
  {
   "cell_type": "markdown",
   "id": "bf8be7ea",
   "metadata": {},
   "source": [
    "### Deep Copy of Tianshou Batch"
   ]
  },
  {
   "cell_type": "code",
   "execution_count": 18,
   "id": "91998e6f",
   "metadata": {
    "execution": {
     "iopub.execute_input": "2023-02-26T16:13:23.717733Z",
     "iopub.status.busy": "2023-02-26T16:13:23.717056Z",
     "iopub.status.idle": "2023-02-26T16:13:35.224816Z",
     "shell.execute_reply": "2023-02-26T16:13:35.224260Z"
    }
   },
   "outputs": [
    {
     "name": "stdout",
     "output_type": "stream",
     "text": [
      "142 µs ± 401 ns per loop (mean ± std. dev. of 7 runs, 10,000 loops each)\n"
     ]
    }
   ],
   "source": [
    "b3 = Batch(**_TREE_DATA_3)\n",
    "%timeit copy.deepcopy(b3)"
   ]
  },
  {
   "cell_type": "markdown",
   "id": "223162fb",
   "metadata": {},
   "source": [
    "## Stack, Concat and Split Operation"
   ]
  },
  {
   "cell_type": "markdown",
   "id": "85fa4a73",
   "metadata": {},
   "source": [
    "### Performance of TreeValue"
   ]
  },
  {
   "cell_type": "code",
   "execution_count": 19,
   "id": "a0c2b697",
   "metadata": {
    "execution": {
     "iopub.execute_input": "2023-02-26T16:13:35.228200Z",
     "iopub.status.busy": "2023-02-26T16:13:35.227711Z",
     "iopub.status.idle": "2023-02-26T16:13:35.231997Z",
     "shell.execute_reply": "2023-02-26T16:13:35.231471Z"
    }
   },
   "outputs": [],
   "source": [
    "trees = [FastTreeValue(_TREE_DATA_2) for _ in range(8)]"
   ]
  },
  {
   "cell_type": "code",
   "execution_count": 20,
   "id": "017ea5a5",
   "metadata": {
    "execution": {
     "iopub.execute_input": "2023-02-26T16:13:35.235927Z",
     "iopub.status.busy": "2023-02-26T16:13:35.234821Z",
     "iopub.status.idle": "2023-02-26T16:13:35.243620Z",
     "shell.execute_reply": "2023-02-26T16:13:35.243087Z"
    }
   },
   "outputs": [
    {
     "data": {
      "text/plain": [
       "<FastTreeValue 0x7f6772af0850>\n",
       "├── 'a' --> tensor([[[ 1.3664,  0.5328, -0.6955],\n",
       "│                    [ 0.7239, -0.5734,  1.5344]],\n",
       "│           \n",
       "│                   [[ 1.3664,  0.5328, -0.6955],\n",
       "│                    [ 0.7239, -0.5734,  1.5344]],\n",
       "│           \n",
       "│                   [[ 1.3664,  0.5328, -0.6955],\n",
       "│                    [ 0.7239, -0.5734,  1.5344]],\n",
       "│           \n",
       "│                   [[ 1.3664,  0.5328, -0.6955],\n",
       "│                    [ 0.7239, -0.5734,  1.5344]],\n",
       "│           \n",
       "│                   [[ 1.3664,  0.5328, -0.6955],\n",
       "│                    [ 0.7239, -0.5734,  1.5344]],\n",
       "│           \n",
       "│                   [[ 1.3664,  0.5328, -0.6955],\n",
       "│                    [ 0.7239, -0.5734,  1.5344]],\n",
       "│           \n",
       "│                   [[ 1.3664,  0.5328, -0.6955],\n",
       "│                    [ 0.7239, -0.5734,  1.5344]],\n",
       "│           \n",
       "│                   [[ 1.3664,  0.5328, -0.6955],\n",
       "│                    [ 0.7239, -0.5734,  1.5344]]])\n",
       "└── 'x' --> <FastTreeValue 0x7f6772af0e20>\n",
       "    └── 'c' --> tensor([[[-0.1460,  1.6373, -0.0251, -1.8319],\n",
       "                         [-0.7678, -1.0869, -1.2274, -1.3800],\n",
       "                         [ 0.9530, -0.0147,  1.8584, -0.3584]],\n",
       "                \n",
       "                        [[-0.1460,  1.6373, -0.0251, -1.8319],\n",
       "                         [-0.7678, -1.0869, -1.2274, -1.3800],\n",
       "                         [ 0.9530, -0.0147,  1.8584, -0.3584]],\n",
       "                \n",
       "                        [[-0.1460,  1.6373, -0.0251, -1.8319],\n",
       "                         [-0.7678, -1.0869, -1.2274, -1.3800],\n",
       "                         [ 0.9530, -0.0147,  1.8584, -0.3584]],\n",
       "                \n",
       "                        [[-0.1460,  1.6373, -0.0251, -1.8319],\n",
       "                         [-0.7678, -1.0869, -1.2274, -1.3800],\n",
       "                         [ 0.9530, -0.0147,  1.8584, -0.3584]],\n",
       "                \n",
       "                        [[-0.1460,  1.6373, -0.0251, -1.8319],\n",
       "                         [-0.7678, -1.0869, -1.2274, -1.3800],\n",
       "                         [ 0.9530, -0.0147,  1.8584, -0.3584]],\n",
       "                \n",
       "                        [[-0.1460,  1.6373, -0.0251, -1.8319],\n",
       "                         [-0.7678, -1.0869, -1.2274, -1.3800],\n",
       "                         [ 0.9530, -0.0147,  1.8584, -0.3584]],\n",
       "                \n",
       "                        [[-0.1460,  1.6373, -0.0251, -1.8319],\n",
       "                         [-0.7678, -1.0869, -1.2274, -1.3800],\n",
       "                         [ 0.9530, -0.0147,  1.8584, -0.3584]],\n",
       "                \n",
       "                        [[-0.1460,  1.6373, -0.0251, -1.8319],\n",
       "                         [-0.7678, -1.0869, -1.2274, -1.3800],\n",
       "                         [ 0.9530, -0.0147,  1.8584, -0.3584]]])"
      ]
     },
     "execution_count": 20,
     "metadata": {},
     "output_type": "execute_result"
    }
   ],
   "source": [
    "t_stack = FastTreeValue.func(subside=True)(torch.stack)\n",
    "\n",
    "t_stack(trees)"
   ]
  },
  {
   "cell_type": "code",
   "execution_count": 21,
   "id": "f8b3f415",
   "metadata": {
    "execution": {
     "iopub.execute_input": "2023-02-26T16:13:35.246999Z",
     "iopub.status.busy": "2023-02-26T16:13:35.246004Z",
     "iopub.status.idle": "2023-02-26T16:13:37.890449Z",
     "shell.execute_reply": "2023-02-26T16:13:37.889707Z"
    }
   },
   "outputs": [
    {
     "name": "stdout",
     "output_type": "stream",
     "text": [
      "32.5 µs ± 75 ns per loop (mean ± std. dev. of 7 runs, 10,000 loops each)\n"
     ]
    }
   ],
   "source": [
    "%timeit t_stack(trees)"
   ]
  },
  {
   "cell_type": "code",
   "execution_count": 22,
   "id": "94b56771",
   "metadata": {
    "execution": {
     "iopub.execute_input": "2023-02-26T16:13:37.893605Z",
     "iopub.status.busy": "2023-02-26T16:13:37.893104Z",
     "iopub.status.idle": "2023-02-26T16:13:37.901647Z",
     "shell.execute_reply": "2023-02-26T16:13:37.901067Z"
    }
   },
   "outputs": [
    {
     "data": {
      "text/plain": [
       "<FastTreeValue 0x7f676bed3f40>\n",
       "├── 'a' --> tensor([[ 1.3664,  0.5328, -0.6955],\n",
       "│                   [ 0.7239, -0.5734,  1.5344],\n",
       "│                   [ 1.3664,  0.5328, -0.6955],\n",
       "│                   [ 0.7239, -0.5734,  1.5344],\n",
       "│                   [ 1.3664,  0.5328, -0.6955],\n",
       "│                   [ 0.7239, -0.5734,  1.5344],\n",
       "│                   [ 1.3664,  0.5328, -0.6955],\n",
       "│                   [ 0.7239, -0.5734,  1.5344],\n",
       "│                   [ 1.3664,  0.5328, -0.6955],\n",
       "│                   [ 0.7239, -0.5734,  1.5344],\n",
       "│                   [ 1.3664,  0.5328, -0.6955],\n",
       "│                   [ 0.7239, -0.5734,  1.5344],\n",
       "│                   [ 1.3664,  0.5328, -0.6955],\n",
       "│                   [ 0.7239, -0.5734,  1.5344],\n",
       "│                   [ 1.3664,  0.5328, -0.6955],\n",
       "│                   [ 0.7239, -0.5734,  1.5344]])\n",
       "└── 'x' --> <FastTreeValue 0x7f676bed3fd0>\n",
       "    └── 'c' --> tensor([[-0.1460,  1.6373, -0.0251, -1.8319],\n",
       "                        [-0.7678, -1.0869, -1.2274, -1.3800],\n",
       "                        [ 0.9530, -0.0147,  1.8584, -0.3584],\n",
       "                        [-0.1460,  1.6373, -0.0251, -1.8319],\n",
       "                        [-0.7678, -1.0869, -1.2274, -1.3800],\n",
       "                        [ 0.9530, -0.0147,  1.8584, -0.3584],\n",
       "                        [-0.1460,  1.6373, -0.0251, -1.8319],\n",
       "                        [-0.7678, -1.0869, -1.2274, -1.3800],\n",
       "                        [ 0.9530, -0.0147,  1.8584, -0.3584],\n",
       "                        [-0.1460,  1.6373, -0.0251, -1.8319],\n",
       "                        [-0.7678, -1.0869, -1.2274, -1.3800],\n",
       "                        [ 0.9530, -0.0147,  1.8584, -0.3584],\n",
       "                        [-0.1460,  1.6373, -0.0251, -1.8319],\n",
       "                        [-0.7678, -1.0869, -1.2274, -1.3800],\n",
       "                        [ 0.9530, -0.0147,  1.8584, -0.3584],\n",
       "                        [-0.1460,  1.6373, -0.0251, -1.8319],\n",
       "                        [-0.7678, -1.0869, -1.2274, -1.3800],\n",
       "                        [ 0.9530, -0.0147,  1.8584, -0.3584],\n",
       "                        [-0.1460,  1.6373, -0.0251, -1.8319],\n",
       "                        [-0.7678, -1.0869, -1.2274, -1.3800],\n",
       "                        [ 0.9530, -0.0147,  1.8584, -0.3584],\n",
       "                        [-0.1460,  1.6373, -0.0251, -1.8319],\n",
       "                        [-0.7678, -1.0869, -1.2274, -1.3800],\n",
       "                        [ 0.9530, -0.0147,  1.8584, -0.3584]])"
      ]
     },
     "execution_count": 22,
     "metadata": {},
     "output_type": "execute_result"
    }
   ],
   "source": [
    "t_cat = FastTreeValue.func(subside=True)(torch.cat)\n",
    "\n",
    "t_cat(trees)"
   ]
  },
  {
   "cell_type": "code",
   "execution_count": 23,
   "id": "5e9c06a6",
   "metadata": {
    "execution": {
     "iopub.execute_input": "2023-02-26T16:13:37.904868Z",
     "iopub.status.busy": "2023-02-26T16:13:37.903786Z",
     "iopub.status.idle": "2023-02-26T16:13:40.409952Z",
     "shell.execute_reply": "2023-02-26T16:13:40.409297Z"
    }
   },
   "outputs": [
    {
     "name": "stdout",
     "output_type": "stream",
     "text": [
      "30.8 µs ± 41.8 ns per loop (mean ± std. dev. of 7 runs, 10,000 loops each)\n"
     ]
    }
   ],
   "source": [
    "%timeit t_cat(trees)"
   ]
  },
  {
   "cell_type": "code",
   "execution_count": 24,
   "id": "a3ab5c8f",
   "metadata": {
    "execution": {
     "iopub.execute_input": "2023-02-26T16:13:40.413026Z",
     "iopub.status.busy": "2023-02-26T16:13:40.412521Z",
     "iopub.status.idle": "2023-02-26T16:13:45.333454Z",
     "shell.execute_reply": "2023-02-26T16:13:45.332716Z"
    }
   },
   "outputs": [
    {
     "name": "stdout",
     "output_type": "stream",
     "text": [
      "60.6 µs ± 1.04 µs per loop (mean ± std. dev. of 7 runs, 10,000 loops each)\n"
     ]
    }
   ],
   "source": [
    "t_split = FastTreeValue.func(rise=True)(torch.split)\n",
    "tree = FastTreeValue({\n",
    "    'obs': torch.randn(8, 4, 84, 84),\n",
    "    'action': torch.randint(0, 6, size=(8, 1,)),\n",
    "    'reward': torch.rand(8, 1),\n",
    "})\n",
    "\n",
    "%timeit t_split(tree, 1)"
   ]
  },
  {
   "cell_type": "markdown",
   "id": "31c3ec0b",
   "metadata": {},
   "source": [
    "### Performance of Tianshou Batch"
   ]
  },
  {
   "cell_type": "code",
   "execution_count": 25,
   "id": "9ead828a",
   "metadata": {
    "execution": {
     "iopub.execute_input": "2023-02-26T16:13:45.336473Z",
     "iopub.status.busy": "2023-02-26T16:13:45.336122Z",
     "iopub.status.idle": "2023-02-26T16:13:45.344045Z",
     "shell.execute_reply": "2023-02-26T16:13:45.343481Z"
    }
   },
   "outputs": [
    {
     "data": {
      "text/plain": [
       "Batch(\n",
       "    a: tensor([[[ 1.3664,  0.5328, -0.6955],\n",
       "                [ 0.7239, -0.5734,  1.5344]],\n",
       "       \n",
       "               [[ 1.3664,  0.5328, -0.6955],\n",
       "                [ 0.7239, -0.5734,  1.5344]],\n",
       "       \n",
       "               [[ 1.3664,  0.5328, -0.6955],\n",
       "                [ 0.7239, -0.5734,  1.5344]],\n",
       "       \n",
       "               [[ 1.3664,  0.5328, -0.6955],\n",
       "                [ 0.7239, -0.5734,  1.5344]],\n",
       "       \n",
       "               [[ 1.3664,  0.5328, -0.6955],\n",
       "                [ 0.7239, -0.5734,  1.5344]],\n",
       "       \n",
       "               [[ 1.3664,  0.5328, -0.6955],\n",
       "                [ 0.7239, -0.5734,  1.5344]],\n",
       "       \n",
       "               [[ 1.3664,  0.5328, -0.6955],\n",
       "                [ 0.7239, -0.5734,  1.5344]],\n",
       "       \n",
       "               [[ 1.3664,  0.5328, -0.6955],\n",
       "                [ 0.7239, -0.5734,  1.5344]]]),\n",
       "    x: Batch(\n",
       "           c: tensor([[[-0.1460,  1.6373, -0.0251, -1.8319],\n",
       "                       [-0.7678, -1.0869, -1.2274, -1.3800],\n",
       "                       [ 0.9530, -0.0147,  1.8584, -0.3584]],\n",
       "              \n",
       "                      [[-0.1460,  1.6373, -0.0251, -1.8319],\n",
       "                       [-0.7678, -1.0869, -1.2274, -1.3800],\n",
       "                       [ 0.9530, -0.0147,  1.8584, -0.3584]],\n",
       "              \n",
       "                      [[-0.1460,  1.6373, -0.0251, -1.8319],\n",
       "                       [-0.7678, -1.0869, -1.2274, -1.3800],\n",
       "                       [ 0.9530, -0.0147,  1.8584, -0.3584]],\n",
       "              \n",
       "                      [[-0.1460,  1.6373, -0.0251, -1.8319],\n",
       "                       [-0.7678, -1.0869, -1.2274, -1.3800],\n",
       "                       [ 0.9530, -0.0147,  1.8584, -0.3584]],\n",
       "              \n",
       "                      [[-0.1460,  1.6373, -0.0251, -1.8319],\n",
       "                       [-0.7678, -1.0869, -1.2274, -1.3800],\n",
       "                       [ 0.9530, -0.0147,  1.8584, -0.3584]],\n",
       "              \n",
       "                      [[-0.1460,  1.6373, -0.0251, -1.8319],\n",
       "                       [-0.7678, -1.0869, -1.2274, -1.3800],\n",
       "                       [ 0.9530, -0.0147,  1.8584, -0.3584]],\n",
       "              \n",
       "                      [[-0.1460,  1.6373, -0.0251, -1.8319],\n",
       "                       [-0.7678, -1.0869, -1.2274, -1.3800],\n",
       "                       [ 0.9530, -0.0147,  1.8584, -0.3584]],\n",
       "              \n",
       "                      [[-0.1460,  1.6373, -0.0251, -1.8319],\n",
       "                       [-0.7678, -1.0869, -1.2274, -1.3800],\n",
       "                       [ 0.9530, -0.0147,  1.8584, -0.3584]]]),\n",
       "       ),\n",
       ")"
      ]
     },
     "execution_count": 25,
     "metadata": {},
     "output_type": "execute_result"
    }
   ],
   "source": [
    "batches = [Batch(**_TREE_DATA_2) for _ in range(8)]\n",
    "\n",
    "Batch.stack(batches)"
   ]
  },
  {
   "cell_type": "code",
   "execution_count": 26,
   "id": "ec9037a3",
   "metadata": {
    "execution": {
     "iopub.execute_input": "2023-02-26T16:13:45.346887Z",
     "iopub.status.busy": "2023-02-26T16:13:45.346386Z",
     "iopub.status.idle": "2023-02-26T16:13:51.728247Z",
     "shell.execute_reply": "2023-02-26T16:13:51.727502Z"
    }
   },
   "outputs": [
    {
     "name": "stdout",
     "output_type": "stream",
     "text": [
      "78.6 µs ± 148 ns per loop (mean ± std. dev. of 7 runs, 10,000 loops each)\n"
     ]
    }
   ],
   "source": [
    "%timeit Batch.stack(batches)"
   ]
  },
  {
   "cell_type": "code",
   "execution_count": 27,
   "id": "cb8ab77e",
   "metadata": {
    "execution": {
     "iopub.execute_input": "2023-02-26T16:13:51.731229Z",
     "iopub.status.busy": "2023-02-26T16:13:51.730875Z",
     "iopub.status.idle": "2023-02-26T16:13:51.738288Z",
     "shell.execute_reply": "2023-02-26T16:13:51.737715Z"
    }
   },
   "outputs": [
    {
     "data": {
      "text/plain": [
       "Batch(\n",
       "    a: tensor([[ 1.3664,  0.5328, -0.6955],\n",
       "               [ 0.7239, -0.5734,  1.5344],\n",
       "               [ 1.3664,  0.5328, -0.6955],\n",
       "               [ 0.7239, -0.5734,  1.5344],\n",
       "               [ 1.3664,  0.5328, -0.6955],\n",
       "               [ 0.7239, -0.5734,  1.5344],\n",
       "               [ 1.3664,  0.5328, -0.6955],\n",
       "               [ 0.7239, -0.5734,  1.5344],\n",
       "               [ 1.3664,  0.5328, -0.6955],\n",
       "               [ 0.7239, -0.5734,  1.5344],\n",
       "               [ 1.3664,  0.5328, -0.6955],\n",
       "               [ 0.7239, -0.5734,  1.5344],\n",
       "               [ 1.3664,  0.5328, -0.6955],\n",
       "               [ 0.7239, -0.5734,  1.5344],\n",
       "               [ 1.3664,  0.5328, -0.6955],\n",
       "               [ 0.7239, -0.5734,  1.5344]]),\n",
       "    x: Batch(\n",
       "           c: tensor([[-0.1460,  1.6373, -0.0251, -1.8319],\n",
       "                      [-0.7678, -1.0869, -1.2274, -1.3800],\n",
       "                      [ 0.9530, -0.0147,  1.8584, -0.3584],\n",
       "                      [-0.1460,  1.6373, -0.0251, -1.8319],\n",
       "                      [-0.7678, -1.0869, -1.2274, -1.3800],\n",
       "                      [ 0.9530, -0.0147,  1.8584, -0.3584],\n",
       "                      [-0.1460,  1.6373, -0.0251, -1.8319],\n",
       "                      [-0.7678, -1.0869, -1.2274, -1.3800],\n",
       "                      [ 0.9530, -0.0147,  1.8584, -0.3584],\n",
       "                      [-0.1460,  1.6373, -0.0251, -1.8319],\n",
       "                      [-0.7678, -1.0869, -1.2274, -1.3800],\n",
       "                      [ 0.9530, -0.0147,  1.8584, -0.3584],\n",
       "                      [-0.1460,  1.6373, -0.0251, -1.8319],\n",
       "                      [-0.7678, -1.0869, -1.2274, -1.3800],\n",
       "                      [ 0.9530, -0.0147,  1.8584, -0.3584],\n",
       "                      [-0.1460,  1.6373, -0.0251, -1.8319],\n",
       "                      [-0.7678, -1.0869, -1.2274, -1.3800],\n",
       "                      [ 0.9530, -0.0147,  1.8584, -0.3584],\n",
       "                      [-0.1460,  1.6373, -0.0251, -1.8319],\n",
       "                      [-0.7678, -1.0869, -1.2274, -1.3800],\n",
       "                      [ 0.9530, -0.0147,  1.8584, -0.3584],\n",
       "                      [-0.1460,  1.6373, -0.0251, -1.8319],\n",
       "                      [-0.7678, -1.0869, -1.2274, -1.3800],\n",
       "                      [ 0.9530, -0.0147,  1.8584, -0.3584]]),\n",
       "       ),\n",
       ")"
      ]
     },
     "execution_count": 27,
     "metadata": {},
     "output_type": "execute_result"
    }
   ],
   "source": [
    "Batch.cat(batches)"
   ]
  },
  {
   "cell_type": "code",
   "execution_count": 28,
   "id": "18dfb045",
   "metadata": {
    "execution": {
     "iopub.execute_input": "2023-02-26T16:13:51.741090Z",
     "iopub.status.busy": "2023-02-26T16:13:51.740597Z",
     "iopub.status.idle": "2023-02-26T16:14:03.437379Z",
     "shell.execute_reply": "2023-02-26T16:14:03.436610Z"
    }
   },
   "outputs": [
    {
     "name": "stdout",
     "output_type": "stream",
     "text": [
      "144 µs ± 228 ns per loop (mean ± std. dev. of 7 runs, 10,000 loops each)\n"
     ]
    }
   ],
   "source": [
    "%timeit Batch.cat(batches)"
   ]
  },
  {
   "cell_type": "code",
   "execution_count": 29,
   "id": "c6688e51",
   "metadata": {
    "execution": {
     "iopub.execute_input": "2023-02-26T16:14:03.440392Z",
     "iopub.status.busy": "2023-02-26T16:14:03.440038Z",
     "iopub.status.idle": "2023-02-26T16:14:05.993792Z",
     "shell.execute_reply": "2023-02-26T16:14:05.993089Z"
    }
   },
   "outputs": [
    {
     "name": "stdout",
     "output_type": "stream",
     "text": [
      "314 µs ± 5.31 µs per loop (mean ± std. dev. of 7 runs, 1,000 loops each)\n"
     ]
    }
   ],
   "source": [
    "batch = Batch({\n",
    "    'obs': torch.randn(8, 4, 84, 84),\n",
    "    'action': torch.randint(0, 6, size=(8, 1,)),\n",
    "    'reward': torch.rand(8, 1)}\n",
    ")\n",
    "\n",
    "%timeit list(Batch.split(batch, 1, shuffle=False, merge_last=True))"
   ]
  },
  {
   "cell_type": "code",
   "execution_count": null,
   "id": "2539fbd9",
   "metadata": {},
   "outputs": [],
   "source": []
  }
 ],
 "metadata": {
  "kernelspec": {
   "display_name": "Python 3 (ipykernel)",
   "language": "python",
   "name": "python3"
  },
  "language_info": {
   "codemirror_mode": {
    "name": "ipython",
    "version": 3
   },
   "file_extension": ".py",
   "mimetype": "text/x-python",
   "name": "python",
   "nbconvert_exporter": "python",
   "pygments_lexer": "ipython3",
   "version": "3.8.16"
  }
 },
 "nbformat": 4,
 "nbformat_minor": 5
}
