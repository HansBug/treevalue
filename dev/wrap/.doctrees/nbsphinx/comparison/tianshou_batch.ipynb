{
 "cells": [
  {
   "cell_type": "markdown",
   "id": "9d39d946",
   "metadata": {},
   "source": [
    "# Comparison Between TreeValue and Tianshou Batch"
   ]
  },
  {
   "cell_type": "markdown",
   "id": "3c6db2d4",
   "metadata": {},
   "source": [
    "In this section, we will take a look at the feature and performance of the [Tianshou Batch](https://github.com/thu-ml/tianshou) library, which is developed by Tsinghua Machine Learning Group."
   ]
  },
  {
   "cell_type": "markdown",
   "id": "069361b0",
   "metadata": {},
   "source": [
    "Before starting the comparison, let us define some thing."
   ]
  },
  {
   "cell_type": "code",
   "execution_count": 1,
   "id": "06fc8d26",
   "metadata": {
    "execution": {
     "iopub.execute_input": "2023-02-27T10:04:00.310130Z",
     "iopub.status.busy": "2023-02-27T10:04:00.309741Z",
     "iopub.status.idle": "2023-02-27T10:04:01.845086Z",
     "shell.execute_reply": "2023-02-27T10:04:01.843933Z"
    }
   },
   "outputs": [
    {
     "name": "stderr",
     "output_type": "stream",
     "text": [
      "/opt/hostedtoolcache/Python/3.8.16/x64/lib/python3.8/site-packages/tqdm/auto.py:22: TqdmWarning: IProgress not found. Please update jupyter and ipywidgets. See https://ipywidgets.readthedocs.io/en/stable/user_install.html\n",
      "  from .autonotebook import tqdm as notebook_tqdm\n"
     ]
    }
   ],
   "source": [
    "import torch \n",
    "\n",
    "_TREE_DATA_1 = {'a': 1, 'b': 2, 'x': {'c': 3, 'd': 4}}\n",
    "_TREE_DATA_2 = {\n",
    "    'a': torch.randn(2, 3), \n",
    "    'x': {\n",
    "        'c': torch.randn(3, 4)\n",
    "    },\n",
    "}\n",
    "_TREE_DATA_3 = {\n",
    "    'obs': torch.randn(4, 84, 84),\n",
    "    'action': torch.randint(0, 6, size=(1,)),\n",
    "    'reward': torch.rand(1),\n",
    "}"
   ]
  },
  {
   "cell_type": "markdown",
   "id": "83461b25",
   "metadata": {},
   "source": [
    "## Read and Write Operation"
   ]
  },
  {
   "cell_type": "markdown",
   "id": "067b3f73",
   "metadata": {},
   "source": [
    "Reading and writing are the two most common operations in the tree data structure based on the data model (TreeValue and Tianshou Batch both belong to this type), so this section will compare the reading and writing performance of these two libraries."
   ]
  },
  {
   "cell_type": "markdown",
   "id": "5d09a5b7",
   "metadata": {},
   "source": [
    "### TreeValue's Get and Set"
   ]
  },
  {
   "cell_type": "code",
   "execution_count": 2,
   "id": "9519c4bb",
   "metadata": {
    "execution": {
     "iopub.execute_input": "2023-02-27T10:04:01.849999Z",
     "iopub.status.busy": "2023-02-27T10:04:01.849527Z",
     "iopub.status.idle": "2023-02-27T10:04:02.270480Z",
     "shell.execute_reply": "2023-02-27T10:04:02.269469Z"
    }
   },
   "outputs": [],
   "source": [
    "from treevalue import FastTreeValue\n",
    "\n",
    "t = FastTreeValue(_TREE_DATA_2)"
   ]
  },
  {
   "cell_type": "code",
   "execution_count": 3,
   "id": "11c37677",
   "metadata": {
    "execution": {
     "iopub.execute_input": "2023-02-27T10:04:02.274968Z",
     "iopub.status.busy": "2023-02-27T10:04:02.274397Z",
     "iopub.status.idle": "2023-02-27T10:04:02.289644Z",
     "shell.execute_reply": "2023-02-27T10:04:02.288219Z"
    }
   },
   "outputs": [
    {
     "data": {
      "text/plain": [
       "<FastTreeValue 0x7f7f241b8f70>\n",
       "├── 'a' --> tensor([[ 0.8769, -0.4029, -0.0827],\n",
       "│                   [ 0.3252, -0.1304,  0.5431]])\n",
       "└── 'x' --> <FastTreeValue 0x7f7f241b8d30>\n",
       "    └── 'c' --> tensor([[ 0.7474,  1.3314, -1.4700, -0.6149],\n",
       "                        [ 0.0976, -2.0761,  0.4639,  0.2172],\n",
       "                        [ 1.6092,  0.8168, -1.7655, -0.6879]])"
      ]
     },
     "execution_count": 3,
     "metadata": {},
     "output_type": "execute_result"
    }
   ],
   "source": [
    "t"
   ]
  },
  {
   "cell_type": "code",
   "execution_count": 4,
   "id": "fd70b0b9",
   "metadata": {
    "execution": {
     "iopub.execute_input": "2023-02-27T10:04:02.294795Z",
     "iopub.status.busy": "2023-02-27T10:04:02.294416Z",
     "iopub.status.idle": "2023-02-27T10:04:02.303070Z",
     "shell.execute_reply": "2023-02-27T10:04:02.302136Z"
    }
   },
   "outputs": [
    {
     "data": {
      "text/plain": [
       "tensor([[ 0.8769, -0.4029, -0.0827],\n",
       "        [ 0.3252, -0.1304,  0.5431]])"
      ]
     },
     "execution_count": 4,
     "metadata": {},
     "output_type": "execute_result"
    }
   ],
   "source": [
    "t.a"
   ]
  },
  {
   "cell_type": "code",
   "execution_count": 5,
   "id": "c18197bd",
   "metadata": {
    "execution": {
     "iopub.execute_input": "2023-02-27T10:04:02.306890Z",
     "iopub.status.busy": "2023-02-27T10:04:02.306277Z",
     "iopub.status.idle": "2023-02-27T10:04:08.755022Z",
     "shell.execute_reply": "2023-02-27T10:04:08.753922Z"
    }
   },
   "outputs": [
    {
     "name": "stdout",
     "output_type": "stream",
     "text": [
      "79.5 ns ± 0.797 ns per loop (mean ± std. dev. of 7 runs, 10,000,000 loops each)\n"
     ]
    }
   ],
   "source": [
    "%timeit t.a"
   ]
  },
  {
   "cell_type": "code",
   "execution_count": 6,
   "id": "bd52f867",
   "metadata": {
    "execution": {
     "iopub.execute_input": "2023-02-27T10:04:08.759320Z",
     "iopub.status.busy": "2023-02-27T10:04:08.758499Z",
     "iopub.status.idle": "2023-02-27T10:04:08.768803Z",
     "shell.execute_reply": "2023-02-27T10:04:08.767753Z"
    }
   },
   "outputs": [
    {
     "data": {
      "text/plain": [
       "<FastTreeValue 0x7f7f241b8f70>\n",
       "├── 'a' --> tensor([[-0.8736,  0.2295, -0.1274],\n",
       "│                   [-0.2980,  0.5142,  0.1896]])\n",
       "└── 'x' --> <FastTreeValue 0x7f7f241b8d30>\n",
       "    └── 'c' --> tensor([[ 0.7474,  1.3314, -1.4700, -0.6149],\n",
       "                        [ 0.0976, -2.0761,  0.4639,  0.2172],\n",
       "                        [ 1.6092,  0.8168, -1.7655, -0.6879]])"
      ]
     },
     "execution_count": 6,
     "metadata": {},
     "output_type": "execute_result"
    }
   ],
   "source": [
    "new_value = torch.randn(2, 3)\n",
    "t.a = new_value\n",
    "\n",
    "t"
   ]
  },
  {
   "cell_type": "code",
   "execution_count": 7,
   "id": "bbe04d1c",
   "metadata": {
    "execution": {
     "iopub.execute_input": "2023-02-27T10:04:08.773325Z",
     "iopub.status.busy": "2023-02-27T10:04:08.772658Z",
     "iopub.status.idle": "2023-02-27T10:04:16.172539Z",
     "shell.execute_reply": "2023-02-27T10:04:16.171436Z"
    }
   },
   "outputs": [
    {
     "name": "stdout",
     "output_type": "stream",
     "text": [
      "90.9 ns ± 0.699 ns per loop (mean ± std. dev. of 7 runs, 10,000,000 loops each)\n"
     ]
    }
   ],
   "source": [
    "%timeit t.a = new_value"
   ]
  },
  {
   "cell_type": "markdown",
   "id": "48c49731",
   "metadata": {},
   "source": [
    "### Tianshou Batch's Get and Set"
   ]
  },
  {
   "cell_type": "code",
   "execution_count": 8,
   "id": "f1bb14c1",
   "metadata": {
    "execution": {
     "iopub.execute_input": "2023-02-27T10:04:16.176767Z",
     "iopub.status.busy": "2023-02-27T10:04:16.176131Z",
     "iopub.status.idle": "2023-02-27T10:04:16.691039Z",
     "shell.execute_reply": "2023-02-27T10:04:16.689916Z"
    }
   },
   "outputs": [],
   "source": [
    "from tianshou.data import Batch\n",
    "\n",
    "b = Batch(**_TREE_DATA_2)"
   ]
  },
  {
   "cell_type": "code",
   "execution_count": 9,
   "id": "cb0777c3",
   "metadata": {
    "execution": {
     "iopub.execute_input": "2023-02-27T10:04:16.696201Z",
     "iopub.status.busy": "2023-02-27T10:04:16.695310Z",
     "iopub.status.idle": "2023-02-27T10:04:16.703323Z",
     "shell.execute_reply": "2023-02-27T10:04:16.702278Z"
    }
   },
   "outputs": [
    {
     "data": {
      "text/plain": [
       "Batch(\n",
       "    a: tensor([[ 0.8769, -0.4029, -0.0827],\n",
       "               [ 0.3252, -0.1304,  0.5431]]),\n",
       "    x: Batch(\n",
       "           c: tensor([[ 0.7474,  1.3314, -1.4700, -0.6149],\n",
       "                      [ 0.0976, -2.0761,  0.4639,  0.2172],\n",
       "                      [ 1.6092,  0.8168, -1.7655, -0.6879]]),\n",
       "       ),\n",
       ")"
      ]
     },
     "execution_count": 9,
     "metadata": {},
     "output_type": "execute_result"
    }
   ],
   "source": [
    "b"
   ]
  },
  {
   "cell_type": "code",
   "execution_count": 10,
   "id": "43ef8ea3",
   "metadata": {
    "execution": {
     "iopub.execute_input": "2023-02-27T10:04:16.707172Z",
     "iopub.status.busy": "2023-02-27T10:04:16.706580Z",
     "iopub.status.idle": "2023-02-27T10:04:16.713623Z",
     "shell.execute_reply": "2023-02-27T10:04:16.712495Z"
    }
   },
   "outputs": [
    {
     "data": {
      "text/plain": [
       "tensor([[ 0.8769, -0.4029, -0.0827],\n",
       "        [ 0.3252, -0.1304,  0.5431]])"
      ]
     },
     "execution_count": 10,
     "metadata": {},
     "output_type": "execute_result"
    }
   ],
   "source": [
    "b.a"
   ]
  },
  {
   "cell_type": "code",
   "execution_count": 11,
   "id": "b785ab72",
   "metadata": {
    "execution": {
     "iopub.execute_input": "2023-02-27T10:04:16.717835Z",
     "iopub.status.busy": "2023-02-27T10:04:16.717238Z",
     "iopub.status.idle": "2023-02-27T10:04:22.857440Z",
     "shell.execute_reply": "2023-02-27T10:04:22.855101Z"
    }
   },
   "outputs": [
    {
     "name": "stdout",
     "output_type": "stream",
     "text": [
      "76 ns ± 1.5 ns per loop (mean ± std. dev. of 7 runs, 10,000,000 loops each)\n"
     ]
    }
   ],
   "source": [
    "%timeit b.a"
   ]
  },
  {
   "cell_type": "code",
   "execution_count": 12,
   "id": "ad54dc69",
   "metadata": {
    "execution": {
     "iopub.execute_input": "2023-02-27T10:04:22.863233Z",
     "iopub.status.busy": "2023-02-27T10:04:22.862843Z",
     "iopub.status.idle": "2023-02-27T10:04:22.872471Z",
     "shell.execute_reply": "2023-02-27T10:04:22.871452Z"
    }
   },
   "outputs": [
    {
     "data": {
      "text/plain": [
       "Batch(\n",
       "    a: tensor([[-0.4494, -0.5239, -1.8917],\n",
       "               [-0.2111,  0.1991, -0.4237]]),\n",
       "    x: Batch(\n",
       "           c: tensor([[ 0.7474,  1.3314, -1.4700, -0.6149],\n",
       "                      [ 0.0976, -2.0761,  0.4639,  0.2172],\n",
       "                      [ 1.6092,  0.8168, -1.7655, -0.6879]]),\n",
       "       ),\n",
       ")"
      ]
     },
     "execution_count": 12,
     "metadata": {},
     "output_type": "execute_result"
    }
   ],
   "source": [
    "new_value = torch.randn(2, 3)\n",
    "b.a = new_value\n",
    "\n",
    "b"
   ]
  },
  {
   "cell_type": "code",
   "execution_count": 13,
   "id": "29b1d0bf",
   "metadata": {
    "execution": {
     "iopub.execute_input": "2023-02-27T10:04:22.878143Z",
     "iopub.status.busy": "2023-02-27T10:04:22.877795Z",
     "iopub.status.idle": "2023-02-27T10:04:28.463010Z",
     "shell.execute_reply": "2023-02-27T10:04:28.461900Z"
    }
   },
   "outputs": [
    {
     "name": "stdout",
     "output_type": "stream",
     "text": [
      "687 ns ± 15.9 ns per loop (mean ± std. dev. of 7 runs, 1,000,000 loops each)\n"
     ]
    }
   ],
   "source": [
    "%timeit b.a = new_value"
   ]
  },
  {
   "cell_type": "markdown",
   "id": "b61ad1d0",
   "metadata": {},
   "source": [
    "## Initialization"
   ]
  },
  {
   "cell_type": "markdown",
   "id": "d70f0d54",
   "metadata": {},
   "source": [
    "### TreeValue's Initialization"
   ]
  },
  {
   "cell_type": "code",
   "execution_count": 14,
   "id": "d32a679b",
   "metadata": {
    "execution": {
     "iopub.execute_input": "2023-02-27T10:04:28.467069Z",
     "iopub.status.busy": "2023-02-27T10:04:28.466718Z",
     "iopub.status.idle": "2023-02-27T10:04:37.159655Z",
     "shell.execute_reply": "2023-02-27T10:04:37.158558Z"
    }
   },
   "outputs": [
    {
     "name": "stdout",
     "output_type": "stream",
     "text": [
      "1.07 µs ± 11.8 ns per loop (mean ± std. dev. of 7 runs, 1,000,000 loops each)\n"
     ]
    }
   ],
   "source": [
    "%timeit FastTreeValue(_TREE_DATA_1)"
   ]
  },
  {
   "cell_type": "markdown",
   "id": "24f3707b",
   "metadata": {},
   "source": [
    "### Tianshou Batch's Initialization"
   ]
  },
  {
   "cell_type": "code",
   "execution_count": 15,
   "id": "ac3958df",
   "metadata": {
    "execution": {
     "iopub.execute_input": "2023-02-27T10:04:37.163637Z",
     "iopub.status.busy": "2023-02-27T10:04:37.163269Z",
     "iopub.status.idle": "2023-02-27T10:04:48.632586Z",
     "shell.execute_reply": "2023-02-27T10:04:48.631548Z"
    }
   },
   "outputs": [
    {
     "name": "stdout",
     "output_type": "stream",
     "text": [
      "14.1 µs ± 116 ns per loop (mean ± std. dev. of 7 runs, 100,000 loops each)\n"
     ]
    }
   ],
   "source": [
    "%timeit Batch(**_TREE_DATA_1)"
   ]
  },
  {
   "cell_type": "markdown",
   "id": "1ab82e2d",
   "metadata": {},
   "source": [
    "## Deep Copy Operation"
   ]
  },
  {
   "cell_type": "code",
   "execution_count": 16,
   "id": "210a9442",
   "metadata": {
    "execution": {
     "iopub.execute_input": "2023-02-27T10:04:48.636300Z",
     "iopub.status.busy": "2023-02-27T10:04:48.635954Z",
     "iopub.status.idle": "2023-02-27T10:04:48.640735Z",
     "shell.execute_reply": "2023-02-27T10:04:48.639486Z"
    }
   },
   "outputs": [],
   "source": [
    "import copy"
   ]
  },
  {
   "cell_type": "markdown",
   "id": "5a736274",
   "metadata": {},
   "source": [
    "### Deep Copy of TreeValue"
   ]
  },
  {
   "cell_type": "code",
   "execution_count": 17,
   "id": "f9bcadd6",
   "metadata": {
    "execution": {
     "iopub.execute_input": "2023-02-27T10:04:48.644314Z",
     "iopub.status.busy": "2023-02-27T10:04:48.643990Z",
     "iopub.status.idle": "2023-02-27T10:04:50.870158Z",
     "shell.execute_reply": "2023-02-27T10:04:50.869112Z"
    }
   },
   "outputs": [
    {
     "name": "stdout",
     "output_type": "stream",
     "text": [
      "274 µs ± 8.28 µs per loop (mean ± std. dev. of 7 runs, 1,000 loops each)\n"
     ]
    }
   ],
   "source": [
    "t3 = FastTreeValue(_TREE_DATA_3)\n",
    "%timeit copy.deepcopy(t3)"
   ]
  },
  {
   "cell_type": "markdown",
   "id": "bf8be7ea",
   "metadata": {},
   "source": [
    "### Deep Copy of Tianshou Batch"
   ]
  },
  {
   "cell_type": "code",
   "execution_count": 18,
   "id": "91998e6f",
   "metadata": {
    "execution": {
     "iopub.execute_input": "2023-02-27T10:04:50.874706Z",
     "iopub.status.busy": "2023-02-27T10:04:50.874030Z",
     "iopub.status.idle": "2023-02-27T10:04:53.071717Z",
     "shell.execute_reply": "2023-02-27T10:04:53.070642Z"
    }
   },
   "outputs": [
    {
     "name": "stdout",
     "output_type": "stream",
     "text": [
      "267 µs ± 17.4 µs per loop (mean ± std. dev. of 7 runs, 1,000 loops each)\n"
     ]
    }
   ],
   "source": [
    "b3 = Batch(**_TREE_DATA_3)\n",
    "%timeit copy.deepcopy(b3)"
   ]
  },
  {
   "cell_type": "markdown",
   "id": "223162fb",
   "metadata": {},
   "source": [
    "## Stack, Concat and Split Operation"
   ]
  },
  {
   "cell_type": "markdown",
   "id": "85fa4a73",
   "metadata": {},
   "source": [
    "### Performance of TreeValue"
   ]
  },
  {
   "cell_type": "code",
   "execution_count": 19,
   "id": "a0c2b697",
   "metadata": {
    "execution": {
     "iopub.execute_input": "2023-02-27T10:04:53.076328Z",
     "iopub.status.busy": "2023-02-27T10:04:53.075736Z",
     "iopub.status.idle": "2023-02-27T10:04:53.082780Z",
     "shell.execute_reply": "2023-02-27T10:04:53.081760Z"
    }
   },
   "outputs": [],
   "source": [
    "trees = [FastTreeValue(_TREE_DATA_2) for _ in range(8)]"
   ]
  },
  {
   "cell_type": "code",
   "execution_count": 20,
   "id": "017ea5a5",
   "metadata": {
    "execution": {
     "iopub.execute_input": "2023-02-27T10:04:53.087119Z",
     "iopub.status.busy": "2023-02-27T10:04:53.086463Z",
     "iopub.status.idle": "2023-02-27T10:04:53.099465Z",
     "shell.execute_reply": "2023-02-27T10:04:53.098503Z"
    }
   },
   "outputs": [
    {
     "data": {
      "text/plain": [
       "<FastTreeValue 0x7f7e6e41ff40>\n",
       "├── 'a' --> tensor([[[ 0.8769, -0.4029, -0.0827],\n",
       "│                    [ 0.3252, -0.1304,  0.5431]],\n",
       "│           \n",
       "│                   [[ 0.8769, -0.4029, -0.0827],\n",
       "│                    [ 0.3252, -0.1304,  0.5431]],\n",
       "│           \n",
       "│                   [[ 0.8769, -0.4029, -0.0827],\n",
       "│                    [ 0.3252, -0.1304,  0.5431]],\n",
       "│           \n",
       "│                   [[ 0.8769, -0.4029, -0.0827],\n",
       "│                    [ 0.3252, -0.1304,  0.5431]],\n",
       "│           \n",
       "│                   [[ 0.8769, -0.4029, -0.0827],\n",
       "│                    [ 0.3252, -0.1304,  0.5431]],\n",
       "│           \n",
       "│                   [[ 0.8769, -0.4029, -0.0827],\n",
       "│                    [ 0.3252, -0.1304,  0.5431]],\n",
       "│           \n",
       "│                   [[ 0.8769, -0.4029, -0.0827],\n",
       "│                    [ 0.3252, -0.1304,  0.5431]],\n",
       "│           \n",
       "│                   [[ 0.8769, -0.4029, -0.0827],\n",
       "│                    [ 0.3252, -0.1304,  0.5431]]])\n",
       "└── 'x' --> <FastTreeValue 0x7f7e6e3f88b0>\n",
       "    └── 'c' --> tensor([[[ 0.7474,  1.3314, -1.4700, -0.6149],\n",
       "                         [ 0.0976, -2.0761,  0.4639,  0.2172],\n",
       "                         [ 1.6092,  0.8168, -1.7655, -0.6879]],\n",
       "                \n",
       "                        [[ 0.7474,  1.3314, -1.4700, -0.6149],\n",
       "                         [ 0.0976, -2.0761,  0.4639,  0.2172],\n",
       "                         [ 1.6092,  0.8168, -1.7655, -0.6879]],\n",
       "                \n",
       "                        [[ 0.7474,  1.3314, -1.4700, -0.6149],\n",
       "                         [ 0.0976, -2.0761,  0.4639,  0.2172],\n",
       "                         [ 1.6092,  0.8168, -1.7655, -0.6879]],\n",
       "                \n",
       "                        [[ 0.7474,  1.3314, -1.4700, -0.6149],\n",
       "                         [ 0.0976, -2.0761,  0.4639,  0.2172],\n",
       "                         [ 1.6092,  0.8168, -1.7655, -0.6879]],\n",
       "                \n",
       "                        [[ 0.7474,  1.3314, -1.4700, -0.6149],\n",
       "                         [ 0.0976, -2.0761,  0.4639,  0.2172],\n",
       "                         [ 1.6092,  0.8168, -1.7655, -0.6879]],\n",
       "                \n",
       "                        [[ 0.7474,  1.3314, -1.4700, -0.6149],\n",
       "                         [ 0.0976, -2.0761,  0.4639,  0.2172],\n",
       "                         [ 1.6092,  0.8168, -1.7655, -0.6879]],\n",
       "                \n",
       "                        [[ 0.7474,  1.3314, -1.4700, -0.6149],\n",
       "                         [ 0.0976, -2.0761,  0.4639,  0.2172],\n",
       "                         [ 1.6092,  0.8168, -1.7655, -0.6879]],\n",
       "                \n",
       "                        [[ 0.7474,  1.3314, -1.4700, -0.6149],\n",
       "                         [ 0.0976, -2.0761,  0.4639,  0.2172],\n",
       "                         [ 1.6092,  0.8168, -1.7655, -0.6879]]])"
      ]
     },
     "execution_count": 20,
     "metadata": {},
     "output_type": "execute_result"
    }
   ],
   "source": [
    "t_stack = FastTreeValue.func(subside=True)(torch.stack)\n",
    "\n",
    "t_stack(trees)"
   ]
  },
  {
   "cell_type": "code",
   "execution_count": 21,
   "id": "f8b3f415",
   "metadata": {
    "execution": {
     "iopub.execute_input": "2023-02-27T10:04:53.103449Z",
     "iopub.status.busy": "2023-02-27T10:04:53.102835Z",
     "iopub.status.idle": "2023-02-27T10:04:56.862902Z",
     "shell.execute_reply": "2023-02-27T10:04:56.861798Z"
    }
   },
   "outputs": [
    {
     "name": "stdout",
     "output_type": "stream",
     "text": [
      "46.3 µs ± 552 ns per loop (mean ± std. dev. of 7 runs, 10,000 loops each)\n"
     ]
    }
   ],
   "source": [
    "%timeit t_stack(trees)"
   ]
  },
  {
   "cell_type": "code",
   "execution_count": 22,
   "id": "94b56771",
   "metadata": {
    "execution": {
     "iopub.execute_input": "2023-02-27T10:04:56.866759Z",
     "iopub.status.busy": "2023-02-27T10:04:56.866427Z",
     "iopub.status.idle": "2023-02-27T10:04:56.877361Z",
     "shell.execute_reply": "2023-02-27T10:04:56.876298Z"
    }
   },
   "outputs": [
    {
     "data": {
      "text/plain": [
       "<FastTreeValue 0x7f7e6e408040>\n",
       "├── 'a' --> tensor([[ 0.8769, -0.4029, -0.0827],\n",
       "│                   [ 0.3252, -0.1304,  0.5431],\n",
       "│                   [ 0.8769, -0.4029, -0.0827],\n",
       "│                   [ 0.3252, -0.1304,  0.5431],\n",
       "│                   [ 0.8769, -0.4029, -0.0827],\n",
       "│                   [ 0.3252, -0.1304,  0.5431],\n",
       "│                   [ 0.8769, -0.4029, -0.0827],\n",
       "│                   [ 0.3252, -0.1304,  0.5431],\n",
       "│                   [ 0.8769, -0.4029, -0.0827],\n",
       "│                   [ 0.3252, -0.1304,  0.5431],\n",
       "│                   [ 0.8769, -0.4029, -0.0827],\n",
       "│                   [ 0.3252, -0.1304,  0.5431],\n",
       "│                   [ 0.8769, -0.4029, -0.0827],\n",
       "│                   [ 0.3252, -0.1304,  0.5431],\n",
       "│                   [ 0.8769, -0.4029, -0.0827],\n",
       "│                   [ 0.3252, -0.1304,  0.5431]])\n",
       "└── 'x' --> <FastTreeValue 0x7f7e6f2a1460>\n",
       "    └── 'c' --> tensor([[ 0.7474,  1.3314, -1.4700, -0.6149],\n",
       "                        [ 0.0976, -2.0761,  0.4639,  0.2172],\n",
       "                        [ 1.6092,  0.8168, -1.7655, -0.6879],\n",
       "                        [ 0.7474,  1.3314, -1.4700, -0.6149],\n",
       "                        [ 0.0976, -2.0761,  0.4639,  0.2172],\n",
       "                        [ 1.6092,  0.8168, -1.7655, -0.6879],\n",
       "                        [ 0.7474,  1.3314, -1.4700, -0.6149],\n",
       "                        [ 0.0976, -2.0761,  0.4639,  0.2172],\n",
       "                        [ 1.6092,  0.8168, -1.7655, -0.6879],\n",
       "                        [ 0.7474,  1.3314, -1.4700, -0.6149],\n",
       "                        [ 0.0976, -2.0761,  0.4639,  0.2172],\n",
       "                        [ 1.6092,  0.8168, -1.7655, -0.6879],\n",
       "                        [ 0.7474,  1.3314, -1.4700, -0.6149],\n",
       "                        [ 0.0976, -2.0761,  0.4639,  0.2172],\n",
       "                        [ 1.6092,  0.8168, -1.7655, -0.6879],\n",
       "                        [ 0.7474,  1.3314, -1.4700, -0.6149],\n",
       "                        [ 0.0976, -2.0761,  0.4639,  0.2172],\n",
       "                        [ 1.6092,  0.8168, -1.7655, -0.6879],\n",
       "                        [ 0.7474,  1.3314, -1.4700, -0.6149],\n",
       "                        [ 0.0976, -2.0761,  0.4639,  0.2172],\n",
       "                        [ 1.6092,  0.8168, -1.7655, -0.6879],\n",
       "                        [ 0.7474,  1.3314, -1.4700, -0.6149],\n",
       "                        [ 0.0976, -2.0761,  0.4639,  0.2172],\n",
       "                        [ 1.6092,  0.8168, -1.7655, -0.6879]])"
      ]
     },
     "execution_count": 22,
     "metadata": {},
     "output_type": "execute_result"
    }
   ],
   "source": [
    "t_cat = FastTreeValue.func(subside=True)(torch.cat)\n",
    "\n",
    "t_cat(trees)"
   ]
  },
  {
   "cell_type": "code",
   "execution_count": 23,
   "id": "5e9c06a6",
   "metadata": {
    "execution": {
     "iopub.execute_input": "2023-02-27T10:04:56.881345Z",
     "iopub.status.busy": "2023-02-27T10:04:56.880655Z",
     "iopub.status.idle": "2023-02-27T10:05:00.428707Z",
     "shell.execute_reply": "2023-02-27T10:05:00.427625Z"
    }
   },
   "outputs": [
    {
     "name": "stdout",
     "output_type": "stream",
     "text": [
      "43.5 µs ± 1.14 µs per loop (mean ± std. dev. of 7 runs, 10,000 loops each)\n"
     ]
    }
   ],
   "source": [
    "%timeit t_cat(trees)"
   ]
  },
  {
   "cell_type": "code",
   "execution_count": 24,
   "id": "a3ab5c8f",
   "metadata": {
    "execution": {
     "iopub.execute_input": "2023-02-27T10:05:00.433436Z",
     "iopub.status.busy": "2023-02-27T10:05:00.432984Z",
     "iopub.status.idle": "2023-02-27T10:05:07.325703Z",
     "shell.execute_reply": "2023-02-27T10:05:07.324582Z"
    }
   },
   "outputs": [
    {
     "name": "stdout",
     "output_type": "stream",
     "text": [
      "84.7 µs ± 2.36 µs per loop (mean ± std. dev. of 7 runs, 10,000 loops each)\n"
     ]
    }
   ],
   "source": [
    "t_split = FastTreeValue.func(rise=True)(torch.split)\n",
    "tree = FastTreeValue({\n",
    "    'obs': torch.randn(8, 4, 84, 84),\n",
    "    'action': torch.randint(0, 6, size=(8, 1,)),\n",
    "    'reward': torch.rand(8, 1),\n",
    "})\n",
    "\n",
    "%timeit t_split(tree, 1)"
   ]
  },
  {
   "cell_type": "markdown",
   "id": "31c3ec0b",
   "metadata": {},
   "source": [
    "### Performance of Tianshou Batch"
   ]
  },
  {
   "cell_type": "code",
   "execution_count": 25,
   "id": "9ead828a",
   "metadata": {
    "execution": {
     "iopub.execute_input": "2023-02-27T10:05:07.329891Z",
     "iopub.status.busy": "2023-02-27T10:05:07.329520Z",
     "iopub.status.idle": "2023-02-27T10:05:07.342213Z",
     "shell.execute_reply": "2023-02-27T10:05:07.340557Z"
    }
   },
   "outputs": [
    {
     "data": {
      "text/plain": [
       "Batch(\n",
       "    x: Batch(\n",
       "           c: tensor([[[ 0.7474,  1.3314, -1.4700, -0.6149],\n",
       "                       [ 0.0976, -2.0761,  0.4639,  0.2172],\n",
       "                       [ 1.6092,  0.8168, -1.7655, -0.6879]],\n",
       "              \n",
       "                      [[ 0.7474,  1.3314, -1.4700, -0.6149],\n",
       "                       [ 0.0976, -2.0761,  0.4639,  0.2172],\n",
       "                       [ 1.6092,  0.8168, -1.7655, -0.6879]],\n",
       "              \n",
       "                      [[ 0.7474,  1.3314, -1.4700, -0.6149],\n",
       "                       [ 0.0976, -2.0761,  0.4639,  0.2172],\n",
       "                       [ 1.6092,  0.8168, -1.7655, -0.6879]],\n",
       "              \n",
       "                      [[ 0.7474,  1.3314, -1.4700, -0.6149],\n",
       "                       [ 0.0976, -2.0761,  0.4639,  0.2172],\n",
       "                       [ 1.6092,  0.8168, -1.7655, -0.6879]],\n",
       "              \n",
       "                      [[ 0.7474,  1.3314, -1.4700, -0.6149],\n",
       "                       [ 0.0976, -2.0761,  0.4639,  0.2172],\n",
       "                       [ 1.6092,  0.8168, -1.7655, -0.6879]],\n",
       "              \n",
       "                      [[ 0.7474,  1.3314, -1.4700, -0.6149],\n",
       "                       [ 0.0976, -2.0761,  0.4639,  0.2172],\n",
       "                       [ 1.6092,  0.8168, -1.7655, -0.6879]],\n",
       "              \n",
       "                      [[ 0.7474,  1.3314, -1.4700, -0.6149],\n",
       "                       [ 0.0976, -2.0761,  0.4639,  0.2172],\n",
       "                       [ 1.6092,  0.8168, -1.7655, -0.6879]],\n",
       "              \n",
       "                      [[ 0.7474,  1.3314, -1.4700, -0.6149],\n",
       "                       [ 0.0976, -2.0761,  0.4639,  0.2172],\n",
       "                       [ 1.6092,  0.8168, -1.7655, -0.6879]]]),\n",
       "       ),\n",
       "    a: tensor([[[ 0.8769, -0.4029, -0.0827],\n",
       "                [ 0.3252, -0.1304,  0.5431]],\n",
       "       \n",
       "               [[ 0.8769, -0.4029, -0.0827],\n",
       "                [ 0.3252, -0.1304,  0.5431]],\n",
       "       \n",
       "               [[ 0.8769, -0.4029, -0.0827],\n",
       "                [ 0.3252, -0.1304,  0.5431]],\n",
       "       \n",
       "               [[ 0.8769, -0.4029, -0.0827],\n",
       "                [ 0.3252, -0.1304,  0.5431]],\n",
       "       \n",
       "               [[ 0.8769, -0.4029, -0.0827],\n",
       "                [ 0.3252, -0.1304,  0.5431]],\n",
       "       \n",
       "               [[ 0.8769, -0.4029, -0.0827],\n",
       "                [ 0.3252, -0.1304,  0.5431]],\n",
       "       \n",
       "               [[ 0.8769, -0.4029, -0.0827],\n",
       "                [ 0.3252, -0.1304,  0.5431]],\n",
       "       \n",
       "               [[ 0.8769, -0.4029, -0.0827],\n",
       "                [ 0.3252, -0.1304,  0.5431]]]),\n",
       ")"
      ]
     },
     "execution_count": 25,
     "metadata": {},
     "output_type": "execute_result"
    }
   ],
   "source": [
    "batches = [Batch(**_TREE_DATA_2) for _ in range(8)]\n",
    "\n",
    "Batch.stack(batches)"
   ]
  },
  {
   "cell_type": "code",
   "execution_count": 26,
   "id": "ec9037a3",
   "metadata": {
    "execution": {
     "iopub.execute_input": "2023-02-27T10:05:07.346721Z",
     "iopub.status.busy": "2023-02-27T10:05:07.346341Z",
     "iopub.status.idle": "2023-02-27T10:05:16.317923Z",
     "shell.execute_reply": "2023-02-27T10:05:16.316796Z"
    }
   },
   "outputs": [
    {
     "name": "stdout",
     "output_type": "stream",
     "text": [
      "111 µs ± 2.49 µs per loop (mean ± std. dev. of 7 runs, 10,000 loops each)\n"
     ]
    }
   ],
   "source": [
    "%timeit Batch.stack(batches)"
   ]
  },
  {
   "cell_type": "code",
   "execution_count": 27,
   "id": "cb8ab77e",
   "metadata": {
    "execution": {
     "iopub.execute_input": "2023-02-27T10:05:16.322104Z",
     "iopub.status.busy": "2023-02-27T10:05:16.321744Z",
     "iopub.status.idle": "2023-02-27T10:05:16.332856Z",
     "shell.execute_reply": "2023-02-27T10:05:16.331789Z"
    }
   },
   "outputs": [
    {
     "data": {
      "text/plain": [
       "Batch(\n",
       "    x: Batch(\n",
       "           c: tensor([[ 0.7474,  1.3314, -1.4700, -0.6149],\n",
       "                      [ 0.0976, -2.0761,  0.4639,  0.2172],\n",
       "                      [ 1.6092,  0.8168, -1.7655, -0.6879],\n",
       "                      [ 0.7474,  1.3314, -1.4700, -0.6149],\n",
       "                      [ 0.0976, -2.0761,  0.4639,  0.2172],\n",
       "                      [ 1.6092,  0.8168, -1.7655, -0.6879],\n",
       "                      [ 0.7474,  1.3314, -1.4700, -0.6149],\n",
       "                      [ 0.0976, -2.0761,  0.4639,  0.2172],\n",
       "                      [ 1.6092,  0.8168, -1.7655, -0.6879],\n",
       "                      [ 0.7474,  1.3314, -1.4700, -0.6149],\n",
       "                      [ 0.0976, -2.0761,  0.4639,  0.2172],\n",
       "                      [ 1.6092,  0.8168, -1.7655, -0.6879],\n",
       "                      [ 0.7474,  1.3314, -1.4700, -0.6149],\n",
       "                      [ 0.0976, -2.0761,  0.4639,  0.2172],\n",
       "                      [ 1.6092,  0.8168, -1.7655, -0.6879],\n",
       "                      [ 0.7474,  1.3314, -1.4700, -0.6149],\n",
       "                      [ 0.0976, -2.0761,  0.4639,  0.2172],\n",
       "                      [ 1.6092,  0.8168, -1.7655, -0.6879],\n",
       "                      [ 0.7474,  1.3314, -1.4700, -0.6149],\n",
       "                      [ 0.0976, -2.0761,  0.4639,  0.2172],\n",
       "                      [ 1.6092,  0.8168, -1.7655, -0.6879],\n",
       "                      [ 0.7474,  1.3314, -1.4700, -0.6149],\n",
       "                      [ 0.0976, -2.0761,  0.4639,  0.2172],\n",
       "                      [ 1.6092,  0.8168, -1.7655, -0.6879]]),\n",
       "       ),\n",
       "    a: tensor([[ 0.8769, -0.4029, -0.0827],\n",
       "               [ 0.3252, -0.1304,  0.5431],\n",
       "               [ 0.8769, -0.4029, -0.0827],\n",
       "               [ 0.3252, -0.1304,  0.5431],\n",
       "               [ 0.8769, -0.4029, -0.0827],\n",
       "               [ 0.3252, -0.1304,  0.5431],\n",
       "               [ 0.8769, -0.4029, -0.0827],\n",
       "               [ 0.3252, -0.1304,  0.5431],\n",
       "               [ 0.8769, -0.4029, -0.0827],\n",
       "               [ 0.3252, -0.1304,  0.5431],\n",
       "               [ 0.8769, -0.4029, -0.0827],\n",
       "               [ 0.3252, -0.1304,  0.5431],\n",
       "               [ 0.8769, -0.4029, -0.0827],\n",
       "               [ 0.3252, -0.1304,  0.5431],\n",
       "               [ 0.8769, -0.4029, -0.0827],\n",
       "               [ 0.3252, -0.1304,  0.5431]]),\n",
       ")"
      ]
     },
     "execution_count": 27,
     "metadata": {},
     "output_type": "execute_result"
    }
   ],
   "source": [
    "Batch.cat(batches)"
   ]
  },
  {
   "cell_type": "code",
   "execution_count": 28,
   "id": "18dfb045",
   "metadata": {
    "execution": {
     "iopub.execute_input": "2023-02-27T10:05:16.336803Z",
     "iopub.status.busy": "2023-02-27T10:05:16.336466Z",
     "iopub.status.idle": "2023-02-27T10:05:32.370919Z",
     "shell.execute_reply": "2023-02-27T10:05:32.369871Z"
    }
   },
   "outputs": [
    {
     "name": "stdout",
     "output_type": "stream",
     "text": [
      "197 µs ± 2.38 µs per loop (mean ± std. dev. of 7 runs, 10,000 loops each)\n"
     ]
    }
   ],
   "source": [
    "%timeit Batch.cat(batches)"
   ]
  },
  {
   "cell_type": "code",
   "execution_count": 29,
   "id": "c6688e51",
   "metadata": {
    "execution": {
     "iopub.execute_input": "2023-02-27T10:05:32.375079Z",
     "iopub.status.busy": "2023-02-27T10:05:32.374757Z",
     "iopub.status.idle": "2023-02-27T10:05:37.085443Z",
     "shell.execute_reply": "2023-02-27T10:05:37.084340Z"
    }
   },
   "outputs": [
    {
     "name": "stdout",
     "output_type": "stream",
     "text": [
      "578 µs ± 22.1 µs per loop (mean ± std. dev. of 7 runs, 1,000 loops each)\n"
     ]
    }
   ],
   "source": [
    "batch = Batch({\n",
    "    'obs': torch.randn(8, 4, 84, 84),\n",
    "    'action': torch.randint(0, 6, size=(8, 1,)),\n",
    "    'reward': torch.rand(8, 1)}\n",
    ")\n",
    "\n",
    "%timeit list(Batch.split(batch, 1, shuffle=False, merge_last=True))"
   ]
  },
  {
   "cell_type": "code",
   "execution_count": null,
   "id": "2539fbd9",
   "metadata": {},
   "outputs": [],
   "source": []
  }
 ],
 "metadata": {
  "kernelspec": {
   "display_name": "Python 3 (ipykernel)",
   "language": "python",
   "name": "python3"
  },
  "language_info": {
   "codemirror_mode": {
    "name": "ipython",
    "version": 3
   },
   "file_extension": ".py",
   "mimetype": "text/x-python",
   "name": "python",
   "nbconvert_exporter": "python",
   "pygments_lexer": "ipython3",
   "version": "3.8.16"
  }
 },
 "nbformat": 4,
 "nbformat_minor": 5
}
