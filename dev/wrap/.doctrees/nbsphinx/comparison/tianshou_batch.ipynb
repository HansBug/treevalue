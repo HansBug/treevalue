{
 "cells": [
  {
   "cell_type": "markdown",
   "id": "9d39d946",
   "metadata": {},
   "source": [
    "# Comparison Between TreeValue and Tianshou Batch"
   ]
  },
  {
   "cell_type": "markdown",
   "id": "3c6db2d4",
   "metadata": {},
   "source": [
    "In this section, we will take a look at the feature and performance of the [Tianshou Batch](https://github.com/thu-ml/tianshou) library, which is developed by Tsinghua Machine Learning Group."
   ]
  },
  {
   "cell_type": "markdown",
   "id": "069361b0",
   "metadata": {},
   "source": [
    "Before starting the comparison, let us define some thing."
   ]
  },
  {
   "cell_type": "code",
   "execution_count": 1,
   "id": "06fc8d26",
   "metadata": {
    "execution": {
     "iopub.execute_input": "2023-02-26T16:59:07.950972Z",
     "iopub.status.busy": "2023-02-26T16:59:07.950540Z",
     "iopub.status.idle": "2023-02-26T16:59:08.906708Z",
     "shell.execute_reply": "2023-02-26T16:59:08.905896Z"
    }
   },
   "outputs": [
    {
     "name": "stderr",
     "output_type": "stream",
     "text": [
      "/opt/hostedtoolcache/Python/3.8.16/x64/lib/python3.8/site-packages/tqdm/auto.py:22: TqdmWarning: IProgress not found. Please update jupyter and ipywidgets. See https://ipywidgets.readthedocs.io/en/stable/user_install.html\n",
      "  from .autonotebook import tqdm as notebook_tqdm\n"
     ]
    }
   ],
   "source": [
    "import torch \n",
    "\n",
    "_TREE_DATA_1 = {'a': 1, 'b': 2, 'x': {'c': 3, 'd': 4}}\n",
    "_TREE_DATA_2 = {\n",
    "    'a': torch.randn(2, 3), \n",
    "    'x': {\n",
    "        'c': torch.randn(3, 4)\n",
    "    },\n",
    "}\n",
    "_TREE_DATA_3 = {\n",
    "    'obs': torch.randn(4, 84, 84),\n",
    "    'action': torch.randint(0, 6, size=(1,)),\n",
    "    'reward': torch.rand(1),\n",
    "}"
   ]
  },
  {
   "cell_type": "markdown",
   "id": "83461b25",
   "metadata": {},
   "source": [
    "## Read and Write Operation"
   ]
  },
  {
   "cell_type": "markdown",
   "id": "067b3f73",
   "metadata": {},
   "source": [
    "Reading and writing are the two most common operations in the tree data structure based on the data model (TreeValue and Tianshou Batch both belong to this type), so this section will compare the reading and writing performance of these two libraries."
   ]
  },
  {
   "cell_type": "markdown",
   "id": "5d09a5b7",
   "metadata": {},
   "source": [
    "### TreeValue's Get and Set"
   ]
  },
  {
   "cell_type": "code",
   "execution_count": 2,
   "id": "9519c4bb",
   "metadata": {
    "execution": {
     "iopub.execute_input": "2023-02-26T16:59:08.910641Z",
     "iopub.status.busy": "2023-02-26T16:59:08.910067Z",
     "iopub.status.idle": "2023-02-26T16:59:09.200502Z",
     "shell.execute_reply": "2023-02-26T16:59:09.199729Z"
    }
   },
   "outputs": [],
   "source": [
    "from treevalue import FastTreeValue\n",
    "\n",
    "t = FastTreeValue(_TREE_DATA_2)"
   ]
  },
  {
   "cell_type": "code",
   "execution_count": 3,
   "id": "11c37677",
   "metadata": {
    "execution": {
     "iopub.execute_input": "2023-02-26T16:59:09.204128Z",
     "iopub.status.busy": "2023-02-26T16:59:09.203667Z",
     "iopub.status.idle": "2023-02-26T16:59:09.213641Z",
     "shell.execute_reply": "2023-02-26T16:59:09.213008Z"
    }
   },
   "outputs": [
    {
     "data": {
      "text/plain": [
       "<FastTreeValue 0x7ff120d39d00>\n",
       "├── 'a' --> tensor([[-1.0647,  0.1554, -0.0996],\n",
       "│                   [-0.8743, -0.8145,  0.0585]])\n",
       "└── 'x' --> <FastTreeValue 0x7ff120d4efa0>\n",
       "    └── 'c' --> tensor([[-1.4610,  1.5212,  0.8402,  0.4299],\n",
       "                        [-0.3390, -0.1364, -0.5010, -0.6840],\n",
       "                        [ 1.2164, -0.4171, -0.5446, -0.8840]])"
      ]
     },
     "execution_count": 3,
     "metadata": {},
     "output_type": "execute_result"
    }
   ],
   "source": [
    "t"
   ]
  },
  {
   "cell_type": "code",
   "execution_count": 4,
   "id": "fd70b0b9",
   "metadata": {
    "execution": {
     "iopub.execute_input": "2023-02-26T16:59:09.216639Z",
     "iopub.status.busy": "2023-02-26T16:59:09.216066Z",
     "iopub.status.idle": "2023-02-26T16:59:09.221803Z",
     "shell.execute_reply": "2023-02-26T16:59:09.221180Z"
    }
   },
   "outputs": [
    {
     "data": {
      "text/plain": [
       "tensor([[-1.0647,  0.1554, -0.0996],\n",
       "        [-0.8743, -0.8145,  0.0585]])"
      ]
     },
     "execution_count": 4,
     "metadata": {},
     "output_type": "execute_result"
    }
   ],
   "source": [
    "t.a"
   ]
  },
  {
   "cell_type": "code",
   "execution_count": 5,
   "id": "c18197bd",
   "metadata": {
    "execution": {
     "iopub.execute_input": "2023-02-26T16:59:09.224797Z",
     "iopub.status.busy": "2023-02-26T16:59:09.224220Z",
     "iopub.status.idle": "2023-02-26T16:59:14.934995Z",
     "shell.execute_reply": "2023-02-26T16:59:14.934195Z"
    }
   },
   "outputs": [
    {
     "name": "stdout",
     "output_type": "stream",
     "text": [
      "70.9 ns ± 0.00928 ns per loop (mean ± std. dev. of 7 runs, 10,000,000 loops each)\n"
     ]
    }
   ],
   "source": [
    "%timeit t.a"
   ]
  },
  {
   "cell_type": "code",
   "execution_count": 6,
   "id": "bd52f867",
   "metadata": {
    "execution": {
     "iopub.execute_input": "2023-02-26T16:59:14.938281Z",
     "iopub.status.busy": "2023-02-26T16:59:14.937869Z",
     "iopub.status.idle": "2023-02-26T16:59:14.946192Z",
     "shell.execute_reply": "2023-02-26T16:59:14.945418Z"
    }
   },
   "outputs": [
    {
     "data": {
      "text/plain": [
       "<FastTreeValue 0x7ff120d39d00>\n",
       "├── 'a' --> tensor([[ 0.4111, -2.2646,  0.5644],\n",
       "│                   [ 0.3560,  2.9022,  0.0786]])\n",
       "└── 'x' --> <FastTreeValue 0x7ff120d4efa0>\n",
       "    └── 'c' --> tensor([[-1.4610,  1.5212,  0.8402,  0.4299],\n",
       "                        [-0.3390, -0.1364, -0.5010, -0.6840],\n",
       "                        [ 1.2164, -0.4171, -0.5446, -0.8840]])"
      ]
     },
     "execution_count": 6,
     "metadata": {},
     "output_type": "execute_result"
    }
   ],
   "source": [
    "new_value = torch.randn(2, 3)\n",
    "t.a = new_value\n",
    "\n",
    "t"
   ]
  },
  {
   "cell_type": "code",
   "execution_count": 7,
   "id": "bbe04d1c",
   "metadata": {
    "execution": {
     "iopub.execute_input": "2023-02-26T16:59:14.949812Z",
     "iopub.status.busy": "2023-02-26T16:59:14.948656Z",
     "iopub.status.idle": "2023-02-26T16:59:20.568950Z",
     "shell.execute_reply": "2023-02-26T16:59:20.568028Z"
    }
   },
   "outputs": [
    {
     "name": "stdout",
     "output_type": "stream",
     "text": [
      "69.2 ns ± 0.0621 ns per loop (mean ± std. dev. of 7 runs, 10,000,000 loops each)\n"
     ]
    }
   ],
   "source": [
    "%timeit t.a = new_value"
   ]
  },
  {
   "cell_type": "markdown",
   "id": "48c49731",
   "metadata": {},
   "source": [
    "### Tianshou Batch's Get and Set"
   ]
  },
  {
   "cell_type": "code",
   "execution_count": 8,
   "id": "f1bb14c1",
   "metadata": {
    "execution": {
     "iopub.execute_input": "2023-02-26T16:59:20.572365Z",
     "iopub.status.busy": "2023-02-26T16:59:20.571988Z",
     "iopub.status.idle": "2023-02-26T16:59:20.928490Z",
     "shell.execute_reply": "2023-02-26T16:59:20.927698Z"
    }
   },
   "outputs": [],
   "source": [
    "from tianshou.data import Batch\n",
    "\n",
    "b = Batch(**_TREE_DATA_2)"
   ]
  },
  {
   "cell_type": "code",
   "execution_count": 9,
   "id": "cb0777c3",
   "metadata": {
    "execution": {
     "iopub.execute_input": "2023-02-26T16:59:20.932595Z",
     "iopub.status.busy": "2023-02-26T16:59:20.931814Z",
     "iopub.status.idle": "2023-02-26T16:59:20.939468Z",
     "shell.execute_reply": "2023-02-26T16:59:20.938854Z"
    }
   },
   "outputs": [
    {
     "data": {
      "text/plain": [
       "Batch(\n",
       "    a: tensor([[-1.0647,  0.1554, -0.0996],\n",
       "               [-0.8743, -0.8145,  0.0585]]),\n",
       "    x: Batch(\n",
       "           c: tensor([[-1.4610,  1.5212,  0.8402,  0.4299],\n",
       "                      [-0.3390, -0.1364, -0.5010, -0.6840],\n",
       "                      [ 1.2164, -0.4171, -0.5446, -0.8840]]),\n",
       "       ),\n",
       ")"
      ]
     },
     "execution_count": 9,
     "metadata": {},
     "output_type": "execute_result"
    }
   ],
   "source": [
    "b"
   ]
  },
  {
   "cell_type": "code",
   "execution_count": 10,
   "id": "43ef8ea3",
   "metadata": {
    "execution": {
     "iopub.execute_input": "2023-02-26T16:59:20.942251Z",
     "iopub.status.busy": "2023-02-26T16:59:20.941828Z",
     "iopub.status.idle": "2023-02-26T16:59:20.947568Z",
     "shell.execute_reply": "2023-02-26T16:59:20.946950Z"
    }
   },
   "outputs": [
    {
     "data": {
      "text/plain": [
       "tensor([[-1.0647,  0.1554, -0.0996],\n",
       "        [-0.8743, -0.8145,  0.0585]])"
      ]
     },
     "execution_count": 10,
     "metadata": {},
     "output_type": "execute_result"
    }
   ],
   "source": [
    "b.a"
   ]
  },
  {
   "cell_type": "code",
   "execution_count": 11,
   "id": "b785ab72",
   "metadata": {
    "execution": {
     "iopub.execute_input": "2023-02-26T16:59:20.950580Z",
     "iopub.status.busy": "2023-02-26T16:59:20.950129Z",
     "iopub.status.idle": "2023-02-26T16:59:25.714889Z",
     "shell.execute_reply": "2023-02-26T16:59:25.713973Z"
    }
   },
   "outputs": [
    {
     "name": "stdout",
     "output_type": "stream",
     "text": [
      "58.6 ns ± 0.0947 ns per loop (mean ± std. dev. of 7 runs, 10,000,000 loops each)\n"
     ]
    }
   ],
   "source": [
    "%timeit b.a"
   ]
  },
  {
   "cell_type": "code",
   "execution_count": 12,
   "id": "ad54dc69",
   "metadata": {
    "execution": {
     "iopub.execute_input": "2023-02-26T16:59:25.718115Z",
     "iopub.status.busy": "2023-02-26T16:59:25.717699Z",
     "iopub.status.idle": "2023-02-26T16:59:25.724967Z",
     "shell.execute_reply": "2023-02-26T16:59:25.724339Z"
    }
   },
   "outputs": [
    {
     "data": {
      "text/plain": [
       "Batch(\n",
       "    a: tensor([[-0.3528,  0.3572, -0.4879],\n",
       "               [ 0.0138,  0.0475,  0.8865]]),\n",
       "    x: Batch(\n",
       "           c: tensor([[-1.4610,  1.5212,  0.8402,  0.4299],\n",
       "                      [-0.3390, -0.1364, -0.5010, -0.6840],\n",
       "                      [ 1.2164, -0.4171, -0.5446, -0.8840]]),\n",
       "       ),\n",
       ")"
      ]
     },
     "execution_count": 12,
     "metadata": {},
     "output_type": "execute_result"
    }
   ],
   "source": [
    "new_value = torch.randn(2, 3)\n",
    "b.a = new_value\n",
    "\n",
    "b"
   ]
  },
  {
   "cell_type": "code",
   "execution_count": 13,
   "id": "29b1d0bf",
   "metadata": {
    "execution": {
     "iopub.execute_input": "2023-02-26T16:59:25.727753Z",
     "iopub.status.busy": "2023-02-26T16:59:25.727201Z",
     "iopub.status.idle": "2023-02-26T16:59:29.695938Z",
     "shell.execute_reply": "2023-02-26T16:59:29.695020Z"
    }
   },
   "outputs": [
    {
     "name": "stdout",
     "output_type": "stream",
     "text": [
      "487 ns ± 0.161 ns per loop (mean ± std. dev. of 7 runs, 1,000,000 loops each)\n"
     ]
    }
   ],
   "source": [
    "%timeit b.a = new_value"
   ]
  },
  {
   "cell_type": "markdown",
   "id": "b61ad1d0",
   "metadata": {},
   "source": [
    "## Initialization"
   ]
  },
  {
   "cell_type": "markdown",
   "id": "d70f0d54",
   "metadata": {},
   "source": [
    "### TreeValue's Initialization"
   ]
  },
  {
   "cell_type": "code",
   "execution_count": 14,
   "id": "d32a679b",
   "metadata": {
    "execution": {
     "iopub.execute_input": "2023-02-26T16:59:29.699628Z",
     "iopub.status.busy": "2023-02-26T16:59:29.699131Z",
     "iopub.status.idle": "2023-02-26T16:59:36.229497Z",
     "shell.execute_reply": "2023-02-26T16:59:36.228594Z"
    }
   },
   "outputs": [
    {
     "name": "stdout",
     "output_type": "stream",
     "text": [
      "804 ns ± 0.511 ns per loop (mean ± std. dev. of 7 runs, 1,000,000 loops each)\n"
     ]
    }
   ],
   "source": [
    "%timeit FastTreeValue(_TREE_DATA_1)"
   ]
  },
  {
   "cell_type": "markdown",
   "id": "24f3707b",
   "metadata": {},
   "source": [
    "### Tianshou Batch's Initialization"
   ]
  },
  {
   "cell_type": "code",
   "execution_count": 15,
   "id": "ac3958df",
   "metadata": {
    "execution": {
     "iopub.execute_input": "2023-02-26T16:59:36.232935Z",
     "iopub.status.busy": "2023-02-26T16:59:36.232355Z",
     "iopub.status.idle": "2023-02-26T16:59:45.016804Z",
     "shell.execute_reply": "2023-02-26T16:59:45.015980Z"
    }
   },
   "outputs": [
    {
     "name": "stdout",
     "output_type": "stream",
     "text": [
      "10.8 µs ± 35 ns per loop (mean ± std. dev. of 7 runs, 100,000 loops each)\n"
     ]
    }
   ],
   "source": [
    "%timeit Batch(**_TREE_DATA_1)"
   ]
  },
  {
   "cell_type": "markdown",
   "id": "1ab82e2d",
   "metadata": {},
   "source": [
    "## Deep Copy Operation"
   ]
  },
  {
   "cell_type": "code",
   "execution_count": 16,
   "id": "210a9442",
   "metadata": {
    "execution": {
     "iopub.execute_input": "2023-02-26T16:59:45.020029Z",
     "iopub.status.busy": "2023-02-26T16:59:45.019631Z",
     "iopub.status.idle": "2023-02-26T16:59:45.023850Z",
     "shell.execute_reply": "2023-02-26T16:59:45.023163Z"
    }
   },
   "outputs": [],
   "source": [
    "import copy"
   ]
  },
  {
   "cell_type": "markdown",
   "id": "5a736274",
   "metadata": {},
   "source": [
    "### Deep Copy of TreeValue"
   ]
  },
  {
   "cell_type": "code",
   "execution_count": 17,
   "id": "f9bcadd6",
   "metadata": {
    "execution": {
     "iopub.execute_input": "2023-02-26T16:59:45.026685Z",
     "iopub.status.busy": "2023-02-26T16:59:45.026058Z",
     "iopub.status.idle": "2023-02-26T16:59:56.771093Z",
     "shell.execute_reply": "2023-02-26T16:59:56.770431Z"
    }
   },
   "outputs": [
    {
     "name": "stdout",
     "output_type": "stream",
     "text": [
      "145 µs ± 1.3 µs per loop (mean ± std. dev. of 7 runs, 10,000 loops each)\n"
     ]
    }
   ],
   "source": [
    "t3 = FastTreeValue(_TREE_DATA_3)\n",
    "%timeit copy.deepcopy(t3)"
   ]
  },
  {
   "cell_type": "markdown",
   "id": "bf8be7ea",
   "metadata": {},
   "source": [
    "### Deep Copy of Tianshou Batch"
   ]
  },
  {
   "cell_type": "code",
   "execution_count": 18,
   "id": "91998e6f",
   "metadata": {
    "execution": {
     "iopub.execute_input": "2023-02-26T16:59:56.774067Z",
     "iopub.status.busy": "2023-02-26T16:59:56.773537Z",
     "iopub.status.idle": "2023-02-26T17:00:08.536763Z",
     "shell.execute_reply": "2023-02-26T17:00:08.535947Z"
    }
   },
   "outputs": [
    {
     "name": "stdout",
     "output_type": "stream",
     "text": [
      "145 µs ± 1.32 µs per loop (mean ± std. dev. of 7 runs, 10,000 loops each)\n"
     ]
    }
   ],
   "source": [
    "b3 = Batch(**_TREE_DATA_3)\n",
    "%timeit copy.deepcopy(b3)"
   ]
  },
  {
   "cell_type": "markdown",
   "id": "223162fb",
   "metadata": {},
   "source": [
    "## Stack, Concat and Split Operation"
   ]
  },
  {
   "cell_type": "markdown",
   "id": "85fa4a73",
   "metadata": {},
   "source": [
    "### Performance of TreeValue"
   ]
  },
  {
   "cell_type": "code",
   "execution_count": 19,
   "id": "a0c2b697",
   "metadata": {
    "execution": {
     "iopub.execute_input": "2023-02-26T17:00:08.540070Z",
     "iopub.status.busy": "2023-02-26T17:00:08.539479Z",
     "iopub.status.idle": "2023-02-26T17:00:08.543989Z",
     "shell.execute_reply": "2023-02-26T17:00:08.543360Z"
    }
   },
   "outputs": [],
   "source": [
    "trees = [FastTreeValue(_TREE_DATA_2) for _ in range(8)]"
   ]
  },
  {
   "cell_type": "code",
   "execution_count": 20,
   "id": "017ea5a5",
   "metadata": {
    "execution": {
     "iopub.execute_input": "2023-02-26T17:00:08.546719Z",
     "iopub.status.busy": "2023-02-26T17:00:08.546267Z",
     "iopub.status.idle": "2023-02-26T17:00:08.554402Z",
     "shell.execute_reply": "2023-02-26T17:00:08.553775Z"
    }
   },
   "outputs": [
    {
     "data": {
      "text/plain": [
       "<FastTreeValue 0x7ff069f70850>\n",
       "├── 'a' --> tensor([[[-1.0647,  0.1554, -0.0996],\n",
       "│                    [-0.8743, -0.8145,  0.0585]],\n",
       "│           \n",
       "│                   [[-1.0647,  0.1554, -0.0996],\n",
       "│                    [-0.8743, -0.8145,  0.0585]],\n",
       "│           \n",
       "│                   [[-1.0647,  0.1554, -0.0996],\n",
       "│                    [-0.8743, -0.8145,  0.0585]],\n",
       "│           \n",
       "│                   [[-1.0647,  0.1554, -0.0996],\n",
       "│                    [-0.8743, -0.8145,  0.0585]],\n",
       "│           \n",
       "│                   [[-1.0647,  0.1554, -0.0996],\n",
       "│                    [-0.8743, -0.8145,  0.0585]],\n",
       "│           \n",
       "│                   [[-1.0647,  0.1554, -0.0996],\n",
       "│                    [-0.8743, -0.8145,  0.0585]],\n",
       "│           \n",
       "│                   [[-1.0647,  0.1554, -0.0996],\n",
       "│                    [-0.8743, -0.8145,  0.0585]],\n",
       "│           \n",
       "│                   [[-1.0647,  0.1554, -0.0996],\n",
       "│                    [-0.8743, -0.8145,  0.0585]]])\n",
       "└── 'x' --> <FastTreeValue 0x7ff069f70880>\n",
       "    └── 'c' --> tensor([[[-1.4610,  1.5212,  0.8402,  0.4299],\n",
       "                         [-0.3390, -0.1364, -0.5010, -0.6840],\n",
       "                         [ 1.2164, -0.4171, -0.5446, -0.8840]],\n",
       "                \n",
       "                        [[-1.4610,  1.5212,  0.8402,  0.4299],\n",
       "                         [-0.3390, -0.1364, -0.5010, -0.6840],\n",
       "                         [ 1.2164, -0.4171, -0.5446, -0.8840]],\n",
       "                \n",
       "                        [[-1.4610,  1.5212,  0.8402,  0.4299],\n",
       "                         [-0.3390, -0.1364, -0.5010, -0.6840],\n",
       "                         [ 1.2164, -0.4171, -0.5446, -0.8840]],\n",
       "                \n",
       "                        [[-1.4610,  1.5212,  0.8402,  0.4299],\n",
       "                         [-0.3390, -0.1364, -0.5010, -0.6840],\n",
       "                         [ 1.2164, -0.4171, -0.5446, -0.8840]],\n",
       "                \n",
       "                        [[-1.4610,  1.5212,  0.8402,  0.4299],\n",
       "                         [-0.3390, -0.1364, -0.5010, -0.6840],\n",
       "                         [ 1.2164, -0.4171, -0.5446, -0.8840]],\n",
       "                \n",
       "                        [[-1.4610,  1.5212,  0.8402,  0.4299],\n",
       "                         [-0.3390, -0.1364, -0.5010, -0.6840],\n",
       "                         [ 1.2164, -0.4171, -0.5446, -0.8840]],\n",
       "                \n",
       "                        [[-1.4610,  1.5212,  0.8402,  0.4299],\n",
       "                         [-0.3390, -0.1364, -0.5010, -0.6840],\n",
       "                         [ 1.2164, -0.4171, -0.5446, -0.8840]],\n",
       "                \n",
       "                        [[-1.4610,  1.5212,  0.8402,  0.4299],\n",
       "                         [-0.3390, -0.1364, -0.5010, -0.6840],\n",
       "                         [ 1.2164, -0.4171, -0.5446, -0.8840]]])"
      ]
     },
     "execution_count": 20,
     "metadata": {},
     "output_type": "execute_result"
    }
   ],
   "source": [
    "t_stack = FastTreeValue.func(subside=True)(torch.stack)\n",
    "\n",
    "t_stack(trees)"
   ]
  },
  {
   "cell_type": "code",
   "execution_count": 21,
   "id": "f8b3f415",
   "metadata": {
    "execution": {
     "iopub.execute_input": "2023-02-26T17:00:08.556952Z",
     "iopub.status.busy": "2023-02-26T17:00:08.556725Z",
     "iopub.status.idle": "2023-02-26T17:00:11.298977Z",
     "shell.execute_reply": "2023-02-26T17:00:11.298188Z"
    }
   },
   "outputs": [
    {
     "name": "stdout",
     "output_type": "stream",
     "text": [
      "33.7 µs ± 66.4 ns per loop (mean ± std. dev. of 7 runs, 10,000 loops each)\n"
     ]
    }
   ],
   "source": [
    "%timeit t_stack(trees)"
   ]
  },
  {
   "cell_type": "code",
   "execution_count": 22,
   "id": "94b56771",
   "metadata": {
    "execution": {
     "iopub.execute_input": "2023-02-26T17:00:11.302317Z",
     "iopub.status.busy": "2023-02-26T17:00:11.301735Z",
     "iopub.status.idle": "2023-02-26T17:00:11.309890Z",
     "shell.execute_reply": "2023-02-26T17:00:11.309249Z"
    }
   },
   "outputs": [
    {
     "data": {
      "text/plain": [
       "<FastTreeValue 0x7ff069f70610>\n",
       "├── 'a' --> tensor([[-1.0647,  0.1554, -0.0996],\n",
       "│                   [-0.8743, -0.8145,  0.0585],\n",
       "│                   [-1.0647,  0.1554, -0.0996],\n",
       "│                   [-0.8743, -0.8145,  0.0585],\n",
       "│                   [-1.0647,  0.1554, -0.0996],\n",
       "│                   [-0.8743, -0.8145,  0.0585],\n",
       "│                   [-1.0647,  0.1554, -0.0996],\n",
       "│                   [-0.8743, -0.8145,  0.0585],\n",
       "│                   [-1.0647,  0.1554, -0.0996],\n",
       "│                   [-0.8743, -0.8145,  0.0585],\n",
       "│                   [-1.0647,  0.1554, -0.0996],\n",
       "│                   [-0.8743, -0.8145,  0.0585],\n",
       "│                   [-1.0647,  0.1554, -0.0996],\n",
       "│                   [-0.8743, -0.8145,  0.0585],\n",
       "│                   [-1.0647,  0.1554, -0.0996],\n",
       "│                   [-0.8743, -0.8145,  0.0585]])\n",
       "└── 'x' --> <FastTreeValue 0x7ff069f93f40>\n",
       "    └── 'c' --> tensor([[-1.4610,  1.5212,  0.8402,  0.4299],\n",
       "                        [-0.3390, -0.1364, -0.5010, -0.6840],\n",
       "                        [ 1.2164, -0.4171, -0.5446, -0.8840],\n",
       "                        [-1.4610,  1.5212,  0.8402,  0.4299],\n",
       "                        [-0.3390, -0.1364, -0.5010, -0.6840],\n",
       "                        [ 1.2164, -0.4171, -0.5446, -0.8840],\n",
       "                        [-1.4610,  1.5212,  0.8402,  0.4299],\n",
       "                        [-0.3390, -0.1364, -0.5010, -0.6840],\n",
       "                        [ 1.2164, -0.4171, -0.5446, -0.8840],\n",
       "                        [-1.4610,  1.5212,  0.8402,  0.4299],\n",
       "                        [-0.3390, -0.1364, -0.5010, -0.6840],\n",
       "                        [ 1.2164, -0.4171, -0.5446, -0.8840],\n",
       "                        [-1.4610,  1.5212,  0.8402,  0.4299],\n",
       "                        [-0.3390, -0.1364, -0.5010, -0.6840],\n",
       "                        [ 1.2164, -0.4171, -0.5446, -0.8840],\n",
       "                        [-1.4610,  1.5212,  0.8402,  0.4299],\n",
       "                        [-0.3390, -0.1364, -0.5010, -0.6840],\n",
       "                        [ 1.2164, -0.4171, -0.5446, -0.8840],\n",
       "                        [-1.4610,  1.5212,  0.8402,  0.4299],\n",
       "                        [-0.3390, -0.1364, -0.5010, -0.6840],\n",
       "                        [ 1.2164, -0.4171, -0.5446, -0.8840],\n",
       "                        [-1.4610,  1.5212,  0.8402,  0.4299],\n",
       "                        [-0.3390, -0.1364, -0.5010, -0.6840],\n",
       "                        [ 1.2164, -0.4171, -0.5446, -0.8840]])"
      ]
     },
     "execution_count": 22,
     "metadata": {},
     "output_type": "execute_result"
    }
   ],
   "source": [
    "t_cat = FastTreeValue.func(subside=True)(torch.cat)\n",
    "\n",
    "t_cat(trees)"
   ]
  },
  {
   "cell_type": "code",
   "execution_count": 23,
   "id": "5e9c06a6",
   "metadata": {
    "execution": {
     "iopub.execute_input": "2023-02-26T17:00:11.312753Z",
     "iopub.status.busy": "2023-02-26T17:00:11.312190Z",
     "iopub.status.idle": "2023-02-26T17:00:13.854782Z",
     "shell.execute_reply": "2023-02-26T17:00:13.853865Z"
    }
   },
   "outputs": [
    {
     "name": "stdout",
     "output_type": "stream",
     "text": [
      "31.3 µs ± 61.8 ns per loop (mean ± std. dev. of 7 runs, 10,000 loops each)\n"
     ]
    }
   ],
   "source": [
    "%timeit t_cat(trees)"
   ]
  },
  {
   "cell_type": "code",
   "execution_count": 24,
   "id": "a3ab5c8f",
   "metadata": {
    "execution": {
     "iopub.execute_input": "2023-02-26T17:00:13.858101Z",
     "iopub.status.busy": "2023-02-26T17:00:13.857662Z",
     "iopub.status.idle": "2023-02-26T17:00:18.461899Z",
     "shell.execute_reply": "2023-02-26T17:00:18.460974Z"
    }
   },
   "outputs": [
    {
     "name": "stdout",
     "output_type": "stream",
     "text": [
      "56.7 µs ± 129 ns per loop (mean ± std. dev. of 7 runs, 10,000 loops each)\n"
     ]
    }
   ],
   "source": [
    "t_split = FastTreeValue.func(rise=True)(torch.split)\n",
    "tree = FastTreeValue({\n",
    "    'obs': torch.randn(8, 4, 84, 84),\n",
    "    'action': torch.randint(0, 6, size=(8, 1,)),\n",
    "    'reward': torch.rand(8, 1),\n",
    "})\n",
    "\n",
    "%timeit t_split(tree, 1)"
   ]
  },
  {
   "cell_type": "markdown",
   "id": "31c3ec0b",
   "metadata": {},
   "source": [
    "### Performance of Tianshou Batch"
   ]
  },
  {
   "cell_type": "code",
   "execution_count": 25,
   "id": "9ead828a",
   "metadata": {
    "execution": {
     "iopub.execute_input": "2023-02-26T17:00:18.465756Z",
     "iopub.status.busy": "2023-02-26T17:00:18.465140Z",
     "iopub.status.idle": "2023-02-26T17:00:18.473971Z",
     "shell.execute_reply": "2023-02-26T17:00:18.473311Z"
    }
   },
   "outputs": [
    {
     "data": {
      "text/plain": [
       "Batch(\n",
       "    a: tensor([[[-1.0647,  0.1554, -0.0996],\n",
       "                [-0.8743, -0.8145,  0.0585]],\n",
       "       \n",
       "               [[-1.0647,  0.1554, -0.0996],\n",
       "                [-0.8743, -0.8145,  0.0585]],\n",
       "       \n",
       "               [[-1.0647,  0.1554, -0.0996],\n",
       "                [-0.8743, -0.8145,  0.0585]],\n",
       "       \n",
       "               [[-1.0647,  0.1554, -0.0996],\n",
       "                [-0.8743, -0.8145,  0.0585]],\n",
       "       \n",
       "               [[-1.0647,  0.1554, -0.0996],\n",
       "                [-0.8743, -0.8145,  0.0585]],\n",
       "       \n",
       "               [[-1.0647,  0.1554, -0.0996],\n",
       "                [-0.8743, -0.8145,  0.0585]],\n",
       "       \n",
       "               [[-1.0647,  0.1554, -0.0996],\n",
       "                [-0.8743, -0.8145,  0.0585]],\n",
       "       \n",
       "               [[-1.0647,  0.1554, -0.0996],\n",
       "                [-0.8743, -0.8145,  0.0585]]]),\n",
       "    x: Batch(\n",
       "           c: tensor([[[-1.4610,  1.5212,  0.8402,  0.4299],\n",
       "                       [-0.3390, -0.1364, -0.5010, -0.6840],\n",
       "                       [ 1.2164, -0.4171, -0.5446, -0.8840]],\n",
       "              \n",
       "                      [[-1.4610,  1.5212,  0.8402,  0.4299],\n",
       "                       [-0.3390, -0.1364, -0.5010, -0.6840],\n",
       "                       [ 1.2164, -0.4171, -0.5446, -0.8840]],\n",
       "              \n",
       "                      [[-1.4610,  1.5212,  0.8402,  0.4299],\n",
       "                       [-0.3390, -0.1364, -0.5010, -0.6840],\n",
       "                       [ 1.2164, -0.4171, -0.5446, -0.8840]],\n",
       "              \n",
       "                      [[-1.4610,  1.5212,  0.8402,  0.4299],\n",
       "                       [-0.3390, -0.1364, -0.5010, -0.6840],\n",
       "                       [ 1.2164, -0.4171, -0.5446, -0.8840]],\n",
       "              \n",
       "                      [[-1.4610,  1.5212,  0.8402,  0.4299],\n",
       "                       [-0.3390, -0.1364, -0.5010, -0.6840],\n",
       "                       [ 1.2164, -0.4171, -0.5446, -0.8840]],\n",
       "              \n",
       "                      [[-1.4610,  1.5212,  0.8402,  0.4299],\n",
       "                       [-0.3390, -0.1364, -0.5010, -0.6840],\n",
       "                       [ 1.2164, -0.4171, -0.5446, -0.8840]],\n",
       "              \n",
       "                      [[-1.4610,  1.5212,  0.8402,  0.4299],\n",
       "                       [-0.3390, -0.1364, -0.5010, -0.6840],\n",
       "                       [ 1.2164, -0.4171, -0.5446, -0.8840]],\n",
       "              \n",
       "                      [[-1.4610,  1.5212,  0.8402,  0.4299],\n",
       "                       [-0.3390, -0.1364, -0.5010, -0.6840],\n",
       "                       [ 1.2164, -0.4171, -0.5446, -0.8840]]]),\n",
       "       ),\n",
       ")"
      ]
     },
     "execution_count": 25,
     "metadata": {},
     "output_type": "execute_result"
    }
   ],
   "source": [
    "batches = [Batch(**_TREE_DATA_2) for _ in range(8)]\n",
    "\n",
    "Batch.stack(batches)"
   ]
  },
  {
   "cell_type": "code",
   "execution_count": 26,
   "id": "ec9037a3",
   "metadata": {
    "execution": {
     "iopub.execute_input": "2023-02-26T17:00:18.477032Z",
     "iopub.status.busy": "2023-02-26T17:00:18.476498Z",
     "iopub.status.idle": "2023-02-26T17:00:24.862036Z",
     "shell.execute_reply": "2023-02-26T17:00:24.861103Z"
    }
   },
   "outputs": [
    {
     "name": "stdout",
     "output_type": "stream",
     "text": [
      "78.7 µs ± 118 ns per loop (mean ± std. dev. of 7 runs, 10,000 loops each)\n"
     ]
    }
   ],
   "source": [
    "%timeit Batch.stack(batches)"
   ]
  },
  {
   "cell_type": "code",
   "execution_count": 27,
   "id": "cb8ab77e",
   "metadata": {
    "execution": {
     "iopub.execute_input": "2023-02-26T17:00:24.865206Z",
     "iopub.status.busy": "2023-02-26T17:00:24.864719Z",
     "iopub.status.idle": "2023-02-26T17:00:24.872672Z",
     "shell.execute_reply": "2023-02-26T17:00:24.872031Z"
    }
   },
   "outputs": [
    {
     "data": {
      "text/plain": [
       "Batch(\n",
       "    a: tensor([[-1.0647,  0.1554, -0.0996],\n",
       "               [-0.8743, -0.8145,  0.0585],\n",
       "               [-1.0647,  0.1554, -0.0996],\n",
       "               [-0.8743, -0.8145,  0.0585],\n",
       "               [-1.0647,  0.1554, -0.0996],\n",
       "               [-0.8743, -0.8145,  0.0585],\n",
       "               [-1.0647,  0.1554, -0.0996],\n",
       "               [-0.8743, -0.8145,  0.0585],\n",
       "               [-1.0647,  0.1554, -0.0996],\n",
       "               [-0.8743, -0.8145,  0.0585],\n",
       "               [-1.0647,  0.1554, -0.0996],\n",
       "               [-0.8743, -0.8145,  0.0585],\n",
       "               [-1.0647,  0.1554, -0.0996],\n",
       "               [-0.8743, -0.8145,  0.0585],\n",
       "               [-1.0647,  0.1554, -0.0996],\n",
       "               [-0.8743, -0.8145,  0.0585]]),\n",
       "    x: Batch(\n",
       "           c: tensor([[-1.4610,  1.5212,  0.8402,  0.4299],\n",
       "                      [-0.3390, -0.1364, -0.5010, -0.6840],\n",
       "                      [ 1.2164, -0.4171, -0.5446, -0.8840],\n",
       "                      [-1.4610,  1.5212,  0.8402,  0.4299],\n",
       "                      [-0.3390, -0.1364, -0.5010, -0.6840],\n",
       "                      [ 1.2164, -0.4171, -0.5446, -0.8840],\n",
       "                      [-1.4610,  1.5212,  0.8402,  0.4299],\n",
       "                      [-0.3390, -0.1364, -0.5010, -0.6840],\n",
       "                      [ 1.2164, -0.4171, -0.5446, -0.8840],\n",
       "                      [-1.4610,  1.5212,  0.8402,  0.4299],\n",
       "                      [-0.3390, -0.1364, -0.5010, -0.6840],\n",
       "                      [ 1.2164, -0.4171, -0.5446, -0.8840],\n",
       "                      [-1.4610,  1.5212,  0.8402,  0.4299],\n",
       "                      [-0.3390, -0.1364, -0.5010, -0.6840],\n",
       "                      [ 1.2164, -0.4171, -0.5446, -0.8840],\n",
       "                      [-1.4610,  1.5212,  0.8402,  0.4299],\n",
       "                      [-0.3390, -0.1364, -0.5010, -0.6840],\n",
       "                      [ 1.2164, -0.4171, -0.5446, -0.8840],\n",
       "                      [-1.4610,  1.5212,  0.8402,  0.4299],\n",
       "                      [-0.3390, -0.1364, -0.5010, -0.6840],\n",
       "                      [ 1.2164, -0.4171, -0.5446, -0.8840],\n",
       "                      [-1.4610,  1.5212,  0.8402,  0.4299],\n",
       "                      [-0.3390, -0.1364, -0.5010, -0.6840],\n",
       "                      [ 1.2164, -0.4171, -0.5446, -0.8840]]),\n",
       "       ),\n",
       ")"
      ]
     },
     "execution_count": 27,
     "metadata": {},
     "output_type": "execute_result"
    }
   ],
   "source": [
    "Batch.cat(batches)"
   ]
  },
  {
   "cell_type": "code",
   "execution_count": 28,
   "id": "18dfb045",
   "metadata": {
    "execution": {
     "iopub.execute_input": "2023-02-26T17:00:24.875714Z",
     "iopub.status.busy": "2023-02-26T17:00:24.875332Z",
     "iopub.status.idle": "2023-02-26T17:00:36.663383Z",
     "shell.execute_reply": "2023-02-26T17:00:36.662478Z"
    }
   },
   "outputs": [
    {
     "name": "stdout",
     "output_type": "stream",
     "text": [
      "145 µs ± 173 ns per loop (mean ± std. dev. of 7 runs, 10,000 loops each)\n"
     ]
    }
   ],
   "source": [
    "%timeit Batch.cat(batches)"
   ]
  },
  {
   "cell_type": "code",
   "execution_count": 29,
   "id": "c6688e51",
   "metadata": {
    "execution": {
     "iopub.execute_input": "2023-02-26T17:00:36.666982Z",
     "iopub.status.busy": "2023-02-26T17:00:36.666480Z",
     "iopub.status.idle": "2023-02-26T17:00:39.456330Z",
     "shell.execute_reply": "2023-02-26T17:00:39.455480Z"
    }
   },
   "outputs": [
    {
     "name": "stdout",
     "output_type": "stream",
     "text": [
      "343 µs ± 4.38 µs per loop (mean ± std. dev. of 7 runs, 1,000 loops each)\n"
     ]
    }
   ],
   "source": [
    "batch = Batch({\n",
    "    'obs': torch.randn(8, 4, 84, 84),\n",
    "    'action': torch.randint(0, 6, size=(8, 1,)),\n",
    "    'reward': torch.rand(8, 1)}\n",
    ")\n",
    "\n",
    "%timeit list(Batch.split(batch, 1, shuffle=False, merge_last=True))"
   ]
  },
  {
   "cell_type": "code",
   "execution_count": null,
   "id": "2539fbd9",
   "metadata": {},
   "outputs": [],
   "source": []
  }
 ],
 "metadata": {
  "kernelspec": {
   "display_name": "Python 3 (ipykernel)",
   "language": "python",
   "name": "python3"
  },
  "language_info": {
   "codemirror_mode": {
    "name": "ipython",
    "version": 3
   },
   "file_extension": ".py",
   "mimetype": "text/x-python",
   "name": "python",
   "nbconvert_exporter": "python",
   "pygments_lexer": "ipython3",
   "version": "3.8.16"
  }
 },
 "nbformat": 4,
 "nbformat_minor": 5
}
