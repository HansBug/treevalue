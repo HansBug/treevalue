{
 "cells": [
  {
   "cell_type": "markdown",
   "id": "9d39d946",
   "metadata": {},
   "source": [
    "# Comparison Between TreeValue and Tianshou Batch"
   ]
  },
  {
   "cell_type": "markdown",
   "id": "3c6db2d4",
   "metadata": {},
   "source": [
    "In this section, we will take a look at the feature and performance of the [Tianshou Batch](https://github.com/thu-ml/tianshou) library, which is developed by Tsinghua Machine Learning Group."
   ]
  },
  {
   "cell_type": "markdown",
   "id": "069361b0",
   "metadata": {},
   "source": [
    "Before starting the comparison, let us define some thing."
   ]
  },
  {
   "cell_type": "code",
   "execution_count": 1,
   "id": "06fc8d26",
   "metadata": {
    "execution": {
     "iopub.execute_input": "2023-02-25T08:19:24.682672Z",
     "iopub.status.busy": "2023-02-25T08:19:24.682392Z",
     "iopub.status.idle": "2023-02-25T08:19:25.946137Z",
     "shell.execute_reply": "2023-02-25T08:19:25.945117Z"
    }
   },
   "outputs": [
    {
     "name": "stderr",
     "output_type": "stream",
     "text": [
      "/opt/hostedtoolcache/Python/3.8.16/x64/lib/python3.8/site-packages/tqdm/auto.py:22: TqdmWarning: IProgress not found. Please update jupyter and ipywidgets. See https://ipywidgets.readthedocs.io/en/stable/user_install.html\n",
      "  from .autonotebook import tqdm as notebook_tqdm\n"
     ]
    }
   ],
   "source": [
    "import torch \n",
    "\n",
    "_TREE_DATA_1 = {'a': 1, 'b': 2, 'x': {'c': 3, 'd': 4}}\n",
    "_TREE_DATA_2 = {\n",
    "    'a': torch.randn(2, 3), \n",
    "    'x': {\n",
    "        'c': torch.randn(3, 4)\n",
    "    },\n",
    "}\n",
    "_TREE_DATA_3 = {\n",
    "    'obs': torch.randn(4, 84, 84),\n",
    "    'action': torch.randint(0, 6, size=(1,)),\n",
    "    'reward': torch.rand(1),\n",
    "}"
   ]
  },
  {
   "cell_type": "markdown",
   "id": "83461b25",
   "metadata": {},
   "source": [
    "## Read and Write Operation"
   ]
  },
  {
   "cell_type": "markdown",
   "id": "067b3f73",
   "metadata": {},
   "source": [
    "Reading and writing are the two most common operations in the tree data structure based on the data model (TreeValue and Tianshou Batch both belong to this type), so this section will compare the reading and writing performance of these two libraries."
   ]
  },
  {
   "cell_type": "markdown",
   "id": "5d09a5b7",
   "metadata": {},
   "source": [
    "### TreeValue's Get and Set"
   ]
  },
  {
   "cell_type": "code",
   "execution_count": 2,
   "id": "9519c4bb",
   "metadata": {
    "execution": {
     "iopub.execute_input": "2023-02-25T08:19:25.950321Z",
     "iopub.status.busy": "2023-02-25T08:19:25.949970Z",
     "iopub.status.idle": "2023-02-25T08:19:25.995518Z",
     "shell.execute_reply": "2023-02-25T08:19:25.994557Z"
    }
   },
   "outputs": [],
   "source": [
    "from treevalue import FastTreeValue\n",
    "\n",
    "t = FastTreeValue(_TREE_DATA_2)"
   ]
  },
  {
   "cell_type": "code",
   "execution_count": 3,
   "id": "11c37677",
   "metadata": {
    "execution": {
     "iopub.execute_input": "2023-02-25T08:19:25.999460Z",
     "iopub.status.busy": "2023-02-25T08:19:25.999175Z",
     "iopub.status.idle": "2023-02-25T08:19:26.012606Z",
     "shell.execute_reply": "2023-02-25T08:19:26.011562Z"
    }
   },
   "outputs": [
    {
     "data": {
      "text/plain": [
       "<FastTreeValue 0x7f8f24b1fc70>\n",
       "├── 'a' --> tensor([[-1.1307, -0.1037, -0.0327],\n",
       "│                   [ 1.2484, -1.3821,  0.4463]])\n",
       "└── 'x' --> <FastTreeValue 0x7f8f24b1fc40>\n",
       "    └── 'c' --> tensor([[-0.6359, -0.4013,  1.2680, -0.3432],\n",
       "                        [ 0.7821, -2.2558, -1.0442,  1.3196],\n",
       "                        [ 0.5749,  0.1544, -0.2772, -0.1607]])"
      ]
     },
     "execution_count": 3,
     "metadata": {},
     "output_type": "execute_result"
    }
   ],
   "source": [
    "t"
   ]
  },
  {
   "cell_type": "code",
   "execution_count": 4,
   "id": "fd70b0b9",
   "metadata": {
    "execution": {
     "iopub.execute_input": "2023-02-25T08:19:26.016625Z",
     "iopub.status.busy": "2023-02-25T08:19:26.016104Z",
     "iopub.status.idle": "2023-02-25T08:19:26.024899Z",
     "shell.execute_reply": "2023-02-25T08:19:26.024028Z"
    }
   },
   "outputs": [
    {
     "data": {
      "text/plain": [
       "tensor([[-1.1307, -0.1037, -0.0327],\n",
       "        [ 1.2484, -1.3821,  0.4463]])"
      ]
     },
     "execution_count": 4,
     "metadata": {},
     "output_type": "execute_result"
    }
   ],
   "source": [
    "t.a"
   ]
  },
  {
   "cell_type": "code",
   "execution_count": 5,
   "id": "c18197bd",
   "metadata": {
    "execution": {
     "iopub.execute_input": "2023-02-25T08:19:26.028198Z",
     "iopub.status.busy": "2023-02-25T08:19:26.027901Z",
     "iopub.status.idle": "2023-02-25T08:19:32.212905Z",
     "shell.execute_reply": "2023-02-25T08:19:32.211940Z"
    }
   },
   "outputs": [
    {
     "name": "stdout",
     "output_type": "stream",
     "text": [
      "76.6 ns ± 0.619 ns per loop (mean ± std. dev. of 7 runs, 10,000,000 loops each)\n"
     ]
    }
   ],
   "source": [
    "%timeit t.a"
   ]
  },
  {
   "cell_type": "code",
   "execution_count": 6,
   "id": "bd52f867",
   "metadata": {
    "execution": {
     "iopub.execute_input": "2023-02-25T08:19:32.216896Z",
     "iopub.status.busy": "2023-02-25T08:19:32.216448Z",
     "iopub.status.idle": "2023-02-25T08:19:32.225472Z",
     "shell.execute_reply": "2023-02-25T08:19:32.224341Z"
    }
   },
   "outputs": [
    {
     "data": {
      "text/plain": [
       "<FastTreeValue 0x7f8f24b1fc70>\n",
       "├── 'a' --> tensor([[-0.1709, -0.0517, -1.1384],\n",
       "│                   [ 0.8243,  0.5507, -0.1473]])\n",
       "└── 'x' --> <FastTreeValue 0x7f8f24b1fc40>\n",
       "    └── 'c' --> tensor([[-0.6359, -0.4013,  1.2680, -0.3432],\n",
       "                        [ 0.7821, -2.2558, -1.0442,  1.3196],\n",
       "                        [ 0.5749,  0.1544, -0.2772, -0.1607]])"
      ]
     },
     "execution_count": 6,
     "metadata": {},
     "output_type": "execute_result"
    }
   ],
   "source": [
    "new_value = torch.randn(2, 3)\n",
    "t.a = new_value\n",
    "\n",
    "t"
   ]
  },
  {
   "cell_type": "code",
   "execution_count": 7,
   "id": "bbe04d1c",
   "metadata": {
    "execution": {
     "iopub.execute_input": "2023-02-25T08:19:32.228886Z",
     "iopub.status.busy": "2023-02-25T08:19:32.228588Z",
     "iopub.status.idle": "2023-02-25T08:19:38.742172Z",
     "shell.execute_reply": "2023-02-25T08:19:38.741186Z"
    }
   },
   "outputs": [
    {
     "name": "stdout",
     "output_type": "stream",
     "text": [
      "80.2 ns ± 1.08 ns per loop (mean ± std. dev. of 7 runs, 10,000,000 loops each)\n"
     ]
    }
   ],
   "source": [
    "%timeit t.a = new_value"
   ]
  },
  {
   "cell_type": "markdown",
   "id": "48c49731",
   "metadata": {},
   "source": [
    "### Tianshou Batch's Get and Set"
   ]
  },
  {
   "cell_type": "code",
   "execution_count": 8,
   "id": "f1bb14c1",
   "metadata": {
    "execution": {
     "iopub.execute_input": "2023-02-25T08:19:38.745732Z",
     "iopub.status.busy": "2023-02-25T08:19:38.745294Z",
     "iopub.status.idle": "2023-02-25T08:19:39.207885Z",
     "shell.execute_reply": "2023-02-25T08:19:39.206941Z"
    }
   },
   "outputs": [],
   "source": [
    "from tianshou.data import Batch\n",
    "\n",
    "b = Batch(**_TREE_DATA_2)"
   ]
  },
  {
   "cell_type": "code",
   "execution_count": 9,
   "id": "cb0777c3",
   "metadata": {
    "execution": {
     "iopub.execute_input": "2023-02-25T08:19:39.212018Z",
     "iopub.status.busy": "2023-02-25T08:19:39.211069Z",
     "iopub.status.idle": "2023-02-25T08:19:39.219887Z",
     "shell.execute_reply": "2023-02-25T08:19:39.218945Z"
    }
   },
   "outputs": [
    {
     "data": {
      "text/plain": [
       "Batch(\n",
       "    a: tensor([[-1.1307, -0.1037, -0.0327],\n",
       "               [ 1.2484, -1.3821,  0.4463]]),\n",
       "    x: Batch(\n",
       "           c: tensor([[-0.6359, -0.4013,  1.2680, -0.3432],\n",
       "                      [ 0.7821, -2.2558, -1.0442,  1.3196],\n",
       "                      [ 0.5749,  0.1544, -0.2772, -0.1607]]),\n",
       "       ),\n",
       ")"
      ]
     },
     "execution_count": 9,
     "metadata": {},
     "output_type": "execute_result"
    }
   ],
   "source": [
    "b"
   ]
  },
  {
   "cell_type": "code",
   "execution_count": 10,
   "id": "43ef8ea3",
   "metadata": {
    "execution": {
     "iopub.execute_input": "2023-02-25T08:19:39.223343Z",
     "iopub.status.busy": "2023-02-25T08:19:39.223066Z",
     "iopub.status.idle": "2023-02-25T08:19:39.230371Z",
     "shell.execute_reply": "2023-02-25T08:19:39.229477Z"
    }
   },
   "outputs": [
    {
     "data": {
      "text/plain": [
       "tensor([[-1.1307, -0.1037, -0.0327],\n",
       "        [ 1.2484, -1.3821,  0.4463]])"
      ]
     },
     "execution_count": 10,
     "metadata": {},
     "output_type": "execute_result"
    }
   ],
   "source": [
    "b.a"
   ]
  },
  {
   "cell_type": "code",
   "execution_count": 11,
   "id": "b785ab72",
   "metadata": {
    "execution": {
     "iopub.execute_input": "2023-02-25T08:19:39.233738Z",
     "iopub.status.busy": "2023-02-25T08:19:39.233463Z",
     "iopub.status.idle": "2023-02-25T08:19:45.176882Z",
     "shell.execute_reply": "2023-02-25T08:19:45.175887Z"
    }
   },
   "outputs": [
    {
     "name": "stdout",
     "output_type": "stream",
     "text": [
      "73.1 ns ± 1.25 ns per loop (mean ± std. dev. of 7 runs, 10,000,000 loops each)\n"
     ]
    }
   ],
   "source": [
    "%timeit b.a"
   ]
  },
  {
   "cell_type": "code",
   "execution_count": 12,
   "id": "ad54dc69",
   "metadata": {
    "execution": {
     "iopub.execute_input": "2023-02-25T08:19:45.180356Z",
     "iopub.status.busy": "2023-02-25T08:19:45.180071Z",
     "iopub.status.idle": "2023-02-25T08:19:45.188803Z",
     "shell.execute_reply": "2023-02-25T08:19:45.187902Z"
    }
   },
   "outputs": [
    {
     "data": {
      "text/plain": [
       "Batch(\n",
       "    a: tensor([[ 0.1929,  0.5072,  1.4841],\n",
       "               [ 0.3934, -0.4201,  0.0521]]),\n",
       "    x: Batch(\n",
       "           c: tensor([[-0.6359, -0.4013,  1.2680, -0.3432],\n",
       "                      [ 0.7821, -2.2558, -1.0442,  1.3196],\n",
       "                      [ 0.5749,  0.1544, -0.2772, -0.1607]]),\n",
       "       ),\n",
       ")"
      ]
     },
     "execution_count": 12,
     "metadata": {},
     "output_type": "execute_result"
    }
   ],
   "source": [
    "new_value = torch.randn(2, 3)\n",
    "b.a = new_value\n",
    "\n",
    "b"
   ]
  },
  {
   "cell_type": "code",
   "execution_count": 13,
   "id": "29b1d0bf",
   "metadata": {
    "execution": {
     "iopub.execute_input": "2023-02-25T08:19:45.192608Z",
     "iopub.status.busy": "2023-02-25T08:19:45.191946Z",
     "iopub.status.idle": "2023-02-25T08:19:50.347487Z",
     "shell.execute_reply": "2023-02-25T08:19:50.346523Z"
    }
   },
   "outputs": [
    {
     "name": "stdout",
     "output_type": "stream",
     "text": [
      "634 ns ± 13.4 ns per loop (mean ± std. dev. of 7 runs, 1,000,000 loops each)\n"
     ]
    }
   ],
   "source": [
    "%timeit b.a = new_value"
   ]
  },
  {
   "cell_type": "markdown",
   "id": "b61ad1d0",
   "metadata": {},
   "source": [
    "## Initialization"
   ]
  },
  {
   "cell_type": "markdown",
   "id": "d70f0d54",
   "metadata": {},
   "source": [
    "### TreeValue's Initialization"
   ]
  },
  {
   "cell_type": "code",
   "execution_count": 14,
   "id": "d32a679b",
   "metadata": {
    "execution": {
     "iopub.execute_input": "2023-02-25T08:19:50.351844Z",
     "iopub.status.busy": "2023-02-25T08:19:50.351161Z",
     "iopub.status.idle": "2023-02-25T08:19:59.038753Z",
     "shell.execute_reply": "2023-02-25T08:19:59.037592Z"
    }
   },
   "outputs": [
    {
     "name": "stdout",
     "output_type": "stream",
     "text": [
      "1.07 µs ± 16.6 ns per loop (mean ± std. dev. of 7 runs, 1,000,000 loops each)\n"
     ]
    }
   ],
   "source": [
    "%timeit FastTreeValue(_TREE_DATA_1)"
   ]
  },
  {
   "cell_type": "markdown",
   "id": "24f3707b",
   "metadata": {},
   "source": [
    "### Tianshou Batch's Initialization"
   ]
  },
  {
   "cell_type": "code",
   "execution_count": 15,
   "id": "ac3958df",
   "metadata": {
    "execution": {
     "iopub.execute_input": "2023-02-25T08:19:59.042216Z",
     "iopub.status.busy": "2023-02-25T08:19:59.041924Z",
     "iopub.status.idle": "2023-02-25T08:20:10.026757Z",
     "shell.execute_reply": "2023-02-25T08:20:10.025780Z"
    }
   },
   "outputs": [
    {
     "name": "stdout",
     "output_type": "stream",
     "text": [
      "13.5 µs ± 147 ns per loop (mean ± std. dev. of 7 runs, 100,000 loops each)\n"
     ]
    }
   ],
   "source": [
    "%timeit Batch(**_TREE_DATA_1)"
   ]
  },
  {
   "cell_type": "markdown",
   "id": "1ab82e2d",
   "metadata": {},
   "source": [
    "## Deep Copy Operation"
   ]
  },
  {
   "cell_type": "code",
   "execution_count": 16,
   "id": "210a9442",
   "metadata": {
    "execution": {
     "iopub.execute_input": "2023-02-25T08:20:10.030634Z",
     "iopub.status.busy": "2023-02-25T08:20:10.030349Z",
     "iopub.status.idle": "2023-02-25T08:20:10.035430Z",
     "shell.execute_reply": "2023-02-25T08:20:10.034581Z"
    }
   },
   "outputs": [],
   "source": [
    "import copy"
   ]
  },
  {
   "cell_type": "markdown",
   "id": "5a736274",
   "metadata": {},
   "source": [
    "### Deep Copy of TreeValue"
   ]
  },
  {
   "cell_type": "code",
   "execution_count": 17,
   "id": "f9bcadd6",
   "metadata": {
    "execution": {
     "iopub.execute_input": "2023-02-25T08:20:10.038828Z",
     "iopub.status.busy": "2023-02-25T08:20:10.038548Z",
     "iopub.status.idle": "2023-02-25T08:20:12.542232Z",
     "shell.execute_reply": "2023-02-25T08:20:12.541244Z"
    }
   },
   "outputs": [
    {
     "name": "stdout",
     "output_type": "stream",
     "text": [
      "308 µs ± 13 µs per loop (mean ± std. dev. of 7 runs, 1,000 loops each)\n"
     ]
    }
   ],
   "source": [
    "t3 = FastTreeValue(_TREE_DATA_3)\n",
    "%timeit copy.deepcopy(t3)"
   ]
  },
  {
   "cell_type": "markdown",
   "id": "bf8be7ea",
   "metadata": {},
   "source": [
    "### Deep Copy of Tianshou Batch"
   ]
  },
  {
   "cell_type": "code",
   "execution_count": 18,
   "id": "91998e6f",
   "metadata": {
    "execution": {
     "iopub.execute_input": "2023-02-25T08:20:12.547236Z",
     "iopub.status.busy": "2023-02-25T08:20:12.545629Z",
     "iopub.status.idle": "2023-02-25T08:20:14.867165Z",
     "shell.execute_reply": "2023-02-25T08:20:14.866198Z"
    }
   },
   "outputs": [
    {
     "name": "stdout",
     "output_type": "stream",
     "text": [
      "281 µs ± 14.5 µs per loop (mean ± std. dev. of 7 runs, 1,000 loops each)\n"
     ]
    }
   ],
   "source": [
    "b3 = Batch(**_TREE_DATA_3)\n",
    "%timeit copy.deepcopy(b3)"
   ]
  },
  {
   "cell_type": "markdown",
   "id": "223162fb",
   "metadata": {},
   "source": [
    "## Stack, Concat and Split Operation"
   ]
  },
  {
   "cell_type": "markdown",
   "id": "85fa4a73",
   "metadata": {},
   "source": [
    "### Performance of TreeValue"
   ]
  },
  {
   "cell_type": "code",
   "execution_count": 19,
   "id": "a0c2b697",
   "metadata": {
    "execution": {
     "iopub.execute_input": "2023-02-25T08:20:14.871112Z",
     "iopub.status.busy": "2023-02-25T08:20:14.870533Z",
     "iopub.status.idle": "2023-02-25T08:20:14.875188Z",
     "shell.execute_reply": "2023-02-25T08:20:14.874342Z"
    }
   },
   "outputs": [],
   "source": [
    "trees = [FastTreeValue(_TREE_DATA_2) for _ in range(8)]"
   ]
  },
  {
   "cell_type": "code",
   "execution_count": 20,
   "id": "017ea5a5",
   "metadata": {
    "execution": {
     "iopub.execute_input": "2023-02-25T08:20:14.878748Z",
     "iopub.status.busy": "2023-02-25T08:20:14.877946Z",
     "iopub.status.idle": "2023-02-25T08:20:14.888220Z",
     "shell.execute_reply": "2023-02-25T08:20:14.887333Z"
    }
   },
   "outputs": [
    {
     "data": {
      "text/plain": [
       "<FastTreeValue 0x7f8e7a87c9a0>\n",
       "├── 'a' --> tensor([[[-1.1307, -0.1037, -0.0327],\n",
       "│                    [ 1.2484, -1.3821,  0.4463]],\n",
       "│           \n",
       "│                   [[-1.1307, -0.1037, -0.0327],\n",
       "│                    [ 1.2484, -1.3821,  0.4463]],\n",
       "│           \n",
       "│                   [[-1.1307, -0.1037, -0.0327],\n",
       "│                    [ 1.2484, -1.3821,  0.4463]],\n",
       "│           \n",
       "│                   [[-1.1307, -0.1037, -0.0327],\n",
       "│                    [ 1.2484, -1.3821,  0.4463]],\n",
       "│           \n",
       "│                   [[-1.1307, -0.1037, -0.0327],\n",
       "│                    [ 1.2484, -1.3821,  0.4463]],\n",
       "│           \n",
       "│                   [[-1.1307, -0.1037, -0.0327],\n",
       "│                    [ 1.2484, -1.3821,  0.4463]],\n",
       "│           \n",
       "│                   [[-1.1307, -0.1037, -0.0327],\n",
       "│                    [ 1.2484, -1.3821,  0.4463]],\n",
       "│           \n",
       "│                   [[-1.1307, -0.1037, -0.0327],\n",
       "│                    [ 1.2484, -1.3821,  0.4463]]])\n",
       "└── 'x' --> <FastTreeValue 0x7f8e7a87c3a0>\n",
       "    └── 'c' --> tensor([[[-0.6359, -0.4013,  1.2680, -0.3432],\n",
       "                         [ 0.7821, -2.2558, -1.0442,  1.3196],\n",
       "                         [ 0.5749,  0.1544, -0.2772, -0.1607]],\n",
       "                \n",
       "                        [[-0.6359, -0.4013,  1.2680, -0.3432],\n",
       "                         [ 0.7821, -2.2558, -1.0442,  1.3196],\n",
       "                         [ 0.5749,  0.1544, -0.2772, -0.1607]],\n",
       "                \n",
       "                        [[-0.6359, -0.4013,  1.2680, -0.3432],\n",
       "                         [ 0.7821, -2.2558, -1.0442,  1.3196],\n",
       "                         [ 0.5749,  0.1544, -0.2772, -0.1607]],\n",
       "                \n",
       "                        [[-0.6359, -0.4013,  1.2680, -0.3432],\n",
       "                         [ 0.7821, -2.2558, -1.0442,  1.3196],\n",
       "                         [ 0.5749,  0.1544, -0.2772, -0.1607]],\n",
       "                \n",
       "                        [[-0.6359, -0.4013,  1.2680, -0.3432],\n",
       "                         [ 0.7821, -2.2558, -1.0442,  1.3196],\n",
       "                         [ 0.5749,  0.1544, -0.2772, -0.1607]],\n",
       "                \n",
       "                        [[-0.6359, -0.4013,  1.2680, -0.3432],\n",
       "                         [ 0.7821, -2.2558, -1.0442,  1.3196],\n",
       "                         [ 0.5749,  0.1544, -0.2772, -0.1607]],\n",
       "                \n",
       "                        [[-0.6359, -0.4013,  1.2680, -0.3432],\n",
       "                         [ 0.7821, -2.2558, -1.0442,  1.3196],\n",
       "                         [ 0.5749,  0.1544, -0.2772, -0.1607]],\n",
       "                \n",
       "                        [[-0.6359, -0.4013,  1.2680, -0.3432],\n",
       "                         [ 0.7821, -2.2558, -1.0442,  1.3196],\n",
       "                         [ 0.5749,  0.1544, -0.2772, -0.1607]]])"
      ]
     },
     "execution_count": 20,
     "metadata": {},
     "output_type": "execute_result"
    }
   ],
   "source": [
    "t_stack = FastTreeValue.func(subside=True)(torch.stack)\n",
    "\n",
    "t_stack(trees)"
   ]
  },
  {
   "cell_type": "code",
   "execution_count": 21,
   "id": "f8b3f415",
   "metadata": {
    "execution": {
     "iopub.execute_input": "2023-02-25T08:20:14.891766Z",
     "iopub.status.busy": "2023-02-25T08:20:14.891051Z",
     "iopub.status.idle": "2023-02-25T08:20:19.031849Z",
     "shell.execute_reply": "2023-02-25T08:20:19.030403Z"
    }
   },
   "outputs": [
    {
     "name": "stdout",
     "output_type": "stream",
     "text": [
      "51.8 µs ± 4.78 µs per loop (mean ± std. dev. of 7 runs, 10,000 loops each)\n"
     ]
    }
   ],
   "source": [
    "%timeit t_stack(trees)"
   ]
  },
  {
   "cell_type": "code",
   "execution_count": 22,
   "id": "94b56771",
   "metadata": {
    "execution": {
     "iopub.execute_input": "2023-02-25T08:20:19.035909Z",
     "iopub.status.busy": "2023-02-25T08:20:19.034971Z",
     "iopub.status.idle": "2023-02-25T08:20:19.045064Z",
     "shell.execute_reply": "2023-02-25T08:20:19.044038Z"
    }
   },
   "outputs": [
    {
     "data": {
      "text/plain": [
       "<FastTreeValue 0x7f8e7a87c2b0>\n",
       "├── 'a' --> tensor([[-1.1307, -0.1037, -0.0327],\n",
       "│                   [ 1.2484, -1.3821,  0.4463],\n",
       "│                   [-1.1307, -0.1037, -0.0327],\n",
       "│                   [ 1.2484, -1.3821,  0.4463],\n",
       "│                   [-1.1307, -0.1037, -0.0327],\n",
       "│                   [ 1.2484, -1.3821,  0.4463],\n",
       "│                   [-1.1307, -0.1037, -0.0327],\n",
       "│                   [ 1.2484, -1.3821,  0.4463],\n",
       "│                   [-1.1307, -0.1037, -0.0327],\n",
       "│                   [ 1.2484, -1.3821,  0.4463],\n",
       "│                   [-1.1307, -0.1037, -0.0327],\n",
       "│                   [ 1.2484, -1.3821,  0.4463],\n",
       "│                   [-1.1307, -0.1037, -0.0327],\n",
       "│                   [ 1.2484, -1.3821,  0.4463],\n",
       "│                   [-1.1307, -0.1037, -0.0327],\n",
       "│                   [ 1.2484, -1.3821,  0.4463]])\n",
       "└── 'x' --> <FastTreeValue 0x7f8e7a87c7f0>\n",
       "    └── 'c' --> tensor([[-0.6359, -0.4013,  1.2680, -0.3432],\n",
       "                        [ 0.7821, -2.2558, -1.0442,  1.3196],\n",
       "                        [ 0.5749,  0.1544, -0.2772, -0.1607],\n",
       "                        [-0.6359, -0.4013,  1.2680, -0.3432],\n",
       "                        [ 0.7821, -2.2558, -1.0442,  1.3196],\n",
       "                        [ 0.5749,  0.1544, -0.2772, -0.1607],\n",
       "                        [-0.6359, -0.4013,  1.2680, -0.3432],\n",
       "                        [ 0.7821, -2.2558, -1.0442,  1.3196],\n",
       "                        [ 0.5749,  0.1544, -0.2772, -0.1607],\n",
       "                        [-0.6359, -0.4013,  1.2680, -0.3432],\n",
       "                        [ 0.7821, -2.2558, -1.0442,  1.3196],\n",
       "                        [ 0.5749,  0.1544, -0.2772, -0.1607],\n",
       "                        [-0.6359, -0.4013,  1.2680, -0.3432],\n",
       "                        [ 0.7821, -2.2558, -1.0442,  1.3196],\n",
       "                        [ 0.5749,  0.1544, -0.2772, -0.1607],\n",
       "                        [-0.6359, -0.4013,  1.2680, -0.3432],\n",
       "                        [ 0.7821, -2.2558, -1.0442,  1.3196],\n",
       "                        [ 0.5749,  0.1544, -0.2772, -0.1607],\n",
       "                        [-0.6359, -0.4013,  1.2680, -0.3432],\n",
       "                        [ 0.7821, -2.2558, -1.0442,  1.3196],\n",
       "                        [ 0.5749,  0.1544, -0.2772, -0.1607],\n",
       "                        [-0.6359, -0.4013,  1.2680, -0.3432],\n",
       "                        [ 0.7821, -2.2558, -1.0442,  1.3196],\n",
       "                        [ 0.5749,  0.1544, -0.2772, -0.1607]])"
      ]
     },
     "execution_count": 22,
     "metadata": {},
     "output_type": "execute_result"
    }
   ],
   "source": [
    "t_cat = FastTreeValue.func(subside=True)(torch.cat)\n",
    "\n",
    "t_cat(trees)"
   ]
  },
  {
   "cell_type": "code",
   "execution_count": 23,
   "id": "5e9c06a6",
   "metadata": {
    "execution": {
     "iopub.execute_input": "2023-02-25T08:20:19.048416Z",
     "iopub.status.busy": "2023-02-25T08:20:19.048131Z",
     "iopub.status.idle": "2023-02-25T08:20:22.603142Z",
     "shell.execute_reply": "2023-02-25T08:20:22.602185Z"
    }
   },
   "outputs": [
    {
     "name": "stdout",
     "output_type": "stream",
     "text": [
      "43.5 µs ± 2.82 µs per loop (mean ± std. dev. of 7 runs, 10,000 loops each)\n"
     ]
    }
   ],
   "source": [
    "%timeit t_cat(trees)"
   ]
  },
  {
   "cell_type": "code",
   "execution_count": 24,
   "id": "a3ab5c8f",
   "metadata": {
    "execution": {
     "iopub.execute_input": "2023-02-25T08:20:22.606771Z",
     "iopub.status.busy": "2023-02-25T08:20:22.606486Z",
     "iopub.status.idle": "2023-02-25T08:20:29.410442Z",
     "shell.execute_reply": "2023-02-25T08:20:29.409462Z"
    }
   },
   "outputs": [
    {
     "name": "stdout",
     "output_type": "stream",
     "text": [
      "83.8 µs ± 2.91 µs per loop (mean ± std. dev. of 7 runs, 10,000 loops each)\n"
     ]
    }
   ],
   "source": [
    "t_split = FastTreeValue.func(rise=True)(torch.split)\n",
    "tree = FastTreeValue({\n",
    "    'obs': torch.randn(8, 4, 84, 84),\n",
    "    'action': torch.randint(0, 6, size=(8, 1,)),\n",
    "    'reward': torch.rand(8, 1),\n",
    "})\n",
    "\n",
    "%timeit t_split(tree, 1)"
   ]
  },
  {
   "cell_type": "markdown",
   "id": "31c3ec0b",
   "metadata": {},
   "source": [
    "### Performance of Tianshou Batch"
   ]
  },
  {
   "cell_type": "code",
   "execution_count": 25,
   "id": "9ead828a",
   "metadata": {
    "execution": {
     "iopub.execute_input": "2023-02-25T08:20:29.414671Z",
     "iopub.status.busy": "2023-02-25T08:20:29.414123Z",
     "iopub.status.idle": "2023-02-25T08:20:29.424868Z",
     "shell.execute_reply": "2023-02-25T08:20:29.424009Z"
    }
   },
   "outputs": [
    {
     "data": {
      "text/plain": [
       "Batch(\n",
       "    a: tensor([[[-1.1307, -0.1037, -0.0327],\n",
       "                [ 1.2484, -1.3821,  0.4463]],\n",
       "       \n",
       "               [[-1.1307, -0.1037, -0.0327],\n",
       "                [ 1.2484, -1.3821,  0.4463]],\n",
       "       \n",
       "               [[-1.1307, -0.1037, -0.0327],\n",
       "                [ 1.2484, -1.3821,  0.4463]],\n",
       "       \n",
       "               [[-1.1307, -0.1037, -0.0327],\n",
       "                [ 1.2484, -1.3821,  0.4463]],\n",
       "       \n",
       "               [[-1.1307, -0.1037, -0.0327],\n",
       "                [ 1.2484, -1.3821,  0.4463]],\n",
       "       \n",
       "               [[-1.1307, -0.1037, -0.0327],\n",
       "                [ 1.2484, -1.3821,  0.4463]],\n",
       "       \n",
       "               [[-1.1307, -0.1037, -0.0327],\n",
       "                [ 1.2484, -1.3821,  0.4463]],\n",
       "       \n",
       "               [[-1.1307, -0.1037, -0.0327],\n",
       "                [ 1.2484, -1.3821,  0.4463]]]),\n",
       "    x: Batch(\n",
       "           c: tensor([[[-0.6359, -0.4013,  1.2680, -0.3432],\n",
       "                       [ 0.7821, -2.2558, -1.0442,  1.3196],\n",
       "                       [ 0.5749,  0.1544, -0.2772, -0.1607]],\n",
       "              \n",
       "                      [[-0.6359, -0.4013,  1.2680, -0.3432],\n",
       "                       [ 0.7821, -2.2558, -1.0442,  1.3196],\n",
       "                       [ 0.5749,  0.1544, -0.2772, -0.1607]],\n",
       "              \n",
       "                      [[-0.6359, -0.4013,  1.2680, -0.3432],\n",
       "                       [ 0.7821, -2.2558, -1.0442,  1.3196],\n",
       "                       [ 0.5749,  0.1544, -0.2772, -0.1607]],\n",
       "              \n",
       "                      [[-0.6359, -0.4013,  1.2680, -0.3432],\n",
       "                       [ 0.7821, -2.2558, -1.0442,  1.3196],\n",
       "                       [ 0.5749,  0.1544, -0.2772, -0.1607]],\n",
       "              \n",
       "                      [[-0.6359, -0.4013,  1.2680, -0.3432],\n",
       "                       [ 0.7821, -2.2558, -1.0442,  1.3196],\n",
       "                       [ 0.5749,  0.1544, -0.2772, -0.1607]],\n",
       "              \n",
       "                      [[-0.6359, -0.4013,  1.2680, -0.3432],\n",
       "                       [ 0.7821, -2.2558, -1.0442,  1.3196],\n",
       "                       [ 0.5749,  0.1544, -0.2772, -0.1607]],\n",
       "              \n",
       "                      [[-0.6359, -0.4013,  1.2680, -0.3432],\n",
       "                       [ 0.7821, -2.2558, -1.0442,  1.3196],\n",
       "                       [ 0.5749,  0.1544, -0.2772, -0.1607]],\n",
       "              \n",
       "                      [[-0.6359, -0.4013,  1.2680, -0.3432],\n",
       "                       [ 0.7821, -2.2558, -1.0442,  1.3196],\n",
       "                       [ 0.5749,  0.1544, -0.2772, -0.1607]]]),\n",
       "       ),\n",
       ")"
      ]
     },
     "execution_count": 25,
     "metadata": {},
     "output_type": "execute_result"
    }
   ],
   "source": [
    "batches = [Batch(**_TREE_DATA_2) for _ in range(8)]\n",
    "\n",
    "Batch.stack(batches)"
   ]
  },
  {
   "cell_type": "code",
   "execution_count": 26,
   "id": "ec9037a3",
   "metadata": {
    "execution": {
     "iopub.execute_input": "2023-02-25T08:20:29.428283Z",
     "iopub.status.busy": "2023-02-25T08:20:29.427779Z",
     "iopub.status.idle": "2023-02-25T08:20:38.279872Z",
     "shell.execute_reply": "2023-02-25T08:20:38.278679Z"
    }
   },
   "outputs": [
    {
     "name": "stdout",
     "output_type": "stream",
     "text": [
      "109 µs ± 2.59 µs per loop (mean ± std. dev. of 7 runs, 10,000 loops each)\n"
     ]
    }
   ],
   "source": [
    "%timeit Batch.stack(batches)"
   ]
  },
  {
   "cell_type": "code",
   "execution_count": 27,
   "id": "cb8ab77e",
   "metadata": {
    "execution": {
     "iopub.execute_input": "2023-02-25T08:20:38.283363Z",
     "iopub.status.busy": "2023-02-25T08:20:38.283078Z",
     "iopub.status.idle": "2023-02-25T08:20:38.293121Z",
     "shell.execute_reply": "2023-02-25T08:20:38.292189Z"
    }
   },
   "outputs": [
    {
     "data": {
      "text/plain": [
       "Batch(\n",
       "    a: tensor([[-1.1307, -0.1037, -0.0327],\n",
       "               [ 1.2484, -1.3821,  0.4463],\n",
       "               [-1.1307, -0.1037, -0.0327],\n",
       "               [ 1.2484, -1.3821,  0.4463],\n",
       "               [-1.1307, -0.1037, -0.0327],\n",
       "               [ 1.2484, -1.3821,  0.4463],\n",
       "               [-1.1307, -0.1037, -0.0327],\n",
       "               [ 1.2484, -1.3821,  0.4463],\n",
       "               [-1.1307, -0.1037, -0.0327],\n",
       "               [ 1.2484, -1.3821,  0.4463],\n",
       "               [-1.1307, -0.1037, -0.0327],\n",
       "               [ 1.2484, -1.3821,  0.4463],\n",
       "               [-1.1307, -0.1037, -0.0327],\n",
       "               [ 1.2484, -1.3821,  0.4463],\n",
       "               [-1.1307, -0.1037, -0.0327],\n",
       "               [ 1.2484, -1.3821,  0.4463]]),\n",
       "    x: Batch(\n",
       "           c: tensor([[-0.6359, -0.4013,  1.2680, -0.3432],\n",
       "                      [ 0.7821, -2.2558, -1.0442,  1.3196],\n",
       "                      [ 0.5749,  0.1544, -0.2772, -0.1607],\n",
       "                      [-0.6359, -0.4013,  1.2680, -0.3432],\n",
       "                      [ 0.7821, -2.2558, -1.0442,  1.3196],\n",
       "                      [ 0.5749,  0.1544, -0.2772, -0.1607],\n",
       "                      [-0.6359, -0.4013,  1.2680, -0.3432],\n",
       "                      [ 0.7821, -2.2558, -1.0442,  1.3196],\n",
       "                      [ 0.5749,  0.1544, -0.2772, -0.1607],\n",
       "                      [-0.6359, -0.4013,  1.2680, -0.3432],\n",
       "                      [ 0.7821, -2.2558, -1.0442,  1.3196],\n",
       "                      [ 0.5749,  0.1544, -0.2772, -0.1607],\n",
       "                      [-0.6359, -0.4013,  1.2680, -0.3432],\n",
       "                      [ 0.7821, -2.2558, -1.0442,  1.3196],\n",
       "                      [ 0.5749,  0.1544, -0.2772, -0.1607],\n",
       "                      [-0.6359, -0.4013,  1.2680, -0.3432],\n",
       "                      [ 0.7821, -2.2558, -1.0442,  1.3196],\n",
       "                      [ 0.5749,  0.1544, -0.2772, -0.1607],\n",
       "                      [-0.6359, -0.4013,  1.2680, -0.3432],\n",
       "                      [ 0.7821, -2.2558, -1.0442,  1.3196],\n",
       "                      [ 0.5749,  0.1544, -0.2772, -0.1607],\n",
       "                      [-0.6359, -0.4013,  1.2680, -0.3432],\n",
       "                      [ 0.7821, -2.2558, -1.0442,  1.3196],\n",
       "                      [ 0.5749,  0.1544, -0.2772, -0.1607]]),\n",
       "       ),\n",
       ")"
      ]
     },
     "execution_count": 27,
     "metadata": {},
     "output_type": "execute_result"
    }
   ],
   "source": [
    "Batch.cat(batches)"
   ]
  },
  {
   "cell_type": "code",
   "execution_count": 28,
   "id": "18dfb045",
   "metadata": {
    "execution": {
     "iopub.execute_input": "2023-02-25T08:20:38.296206Z",
     "iopub.status.busy": "2023-02-25T08:20:38.295933Z",
     "iopub.status.idle": "2023-02-25T08:20:54.354672Z",
     "shell.execute_reply": "2023-02-25T08:20:54.353703Z"
    }
   },
   "outputs": [
    {
     "name": "stdout",
     "output_type": "stream",
     "text": [
      "198 µs ± 5.87 µs per loop (mean ± std. dev. of 7 runs, 10,000 loops each)\n"
     ]
    }
   ],
   "source": [
    "%timeit Batch.cat(batches)"
   ]
  },
  {
   "cell_type": "code",
   "execution_count": 29,
   "id": "c6688e51",
   "metadata": {
    "execution": {
     "iopub.execute_input": "2023-02-25T08:20:54.358292Z",
     "iopub.status.busy": "2023-02-25T08:20:54.357720Z",
     "iopub.status.idle": "2023-02-25T08:20:59.258270Z",
     "shell.execute_reply": "2023-02-25T08:20:59.256916Z"
    }
   },
   "outputs": [
    {
     "name": "stdout",
     "output_type": "stream",
     "text": [
      "606 µs ± 57.1 µs per loop (mean ± std. dev. of 7 runs, 1,000 loops each)\n"
     ]
    }
   ],
   "source": [
    "batch = Batch({\n",
    "    'obs': torch.randn(8, 4, 84, 84),\n",
    "    'action': torch.randint(0, 6, size=(8, 1,)),\n",
    "    'reward': torch.rand(8, 1)}\n",
    ")\n",
    "\n",
    "%timeit list(Batch.split(batch, 1, shuffle=False, merge_last=True))"
   ]
  },
  {
   "cell_type": "code",
   "execution_count": null,
   "id": "2539fbd9",
   "metadata": {},
   "outputs": [],
   "source": []
  }
 ],
 "metadata": {
  "kernelspec": {
   "display_name": "Python 3 (ipykernel)",
   "language": "python",
   "name": "python3"
  },
  "language_info": {
   "codemirror_mode": {
    "name": "ipython",
    "version": 3
   },
   "file_extension": ".py",
   "mimetype": "text/x-python",
   "name": "python",
   "nbconvert_exporter": "python",
   "pygments_lexer": "ipython3",
   "version": "3.8.16"
  }
 },
 "nbformat": 4,
 "nbformat_minor": 5
}
