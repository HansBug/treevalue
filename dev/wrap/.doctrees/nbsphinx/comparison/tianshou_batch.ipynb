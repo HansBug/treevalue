{
 "cells": [
  {
   "cell_type": "markdown",
   "id": "9d39d946",
   "metadata": {},
   "source": [
    "# Comparison Between TreeValue and Tianshou Batch"
   ]
  },
  {
   "cell_type": "markdown",
   "id": "3c6db2d4",
   "metadata": {},
   "source": [
    "In this section, we will take a look at the feature and performance of the [Tianshou Batch](https://github.com/thu-ml/tianshou) library, which is developed by Tsinghua Machine Learning Group."
   ]
  },
  {
   "cell_type": "markdown",
   "id": "069361b0",
   "metadata": {},
   "source": [
    "Before starting the comparison, let us define some thing."
   ]
  },
  {
   "cell_type": "code",
   "execution_count": 1,
   "id": "06fc8d26",
   "metadata": {
    "execution": {
     "iopub.execute_input": "2023-02-26T17:02:00.813126Z",
     "iopub.status.busy": "2023-02-26T17:02:00.812614Z",
     "iopub.status.idle": "2023-02-26T17:02:01.720873Z",
     "shell.execute_reply": "2023-02-26T17:02:01.719612Z"
    }
   },
   "outputs": [
    {
     "name": "stderr",
     "output_type": "stream",
     "text": [
      "/opt/hostedtoolcache/Python/3.8.16/x64/lib/python3.8/site-packages/tqdm/auto.py:22: TqdmWarning: IProgress not found. Please update jupyter and ipywidgets. See https://ipywidgets.readthedocs.io/en/stable/user_install.html\n",
      "  from .autonotebook import tqdm as notebook_tqdm\n"
     ]
    }
   ],
   "source": [
    "import torch \n",
    "\n",
    "_TREE_DATA_1 = {'a': 1, 'b': 2, 'x': {'c': 3, 'd': 4}}\n",
    "_TREE_DATA_2 = {\n",
    "    'a': torch.randn(2, 3), \n",
    "    'x': {\n",
    "        'c': torch.randn(3, 4)\n",
    "    },\n",
    "}\n",
    "_TREE_DATA_3 = {\n",
    "    'obs': torch.randn(4, 84, 84),\n",
    "    'action': torch.randint(0, 6, size=(1,)),\n",
    "    'reward': torch.rand(1),\n",
    "}"
   ]
  },
  {
   "cell_type": "markdown",
   "id": "83461b25",
   "metadata": {},
   "source": [
    "## Read and Write Operation"
   ]
  },
  {
   "cell_type": "markdown",
   "id": "067b3f73",
   "metadata": {},
   "source": [
    "Reading and writing are the two most common operations in the tree data structure based on the data model (TreeValue and Tianshou Batch both belong to this type), so this section will compare the reading and writing performance of these two libraries."
   ]
  },
  {
   "cell_type": "markdown",
   "id": "5d09a5b7",
   "metadata": {},
   "source": [
    "### TreeValue's Get and Set"
   ]
  },
  {
   "cell_type": "code",
   "execution_count": 2,
   "id": "9519c4bb",
   "metadata": {
    "execution": {
     "iopub.execute_input": "2023-02-26T17:02:01.724423Z",
     "iopub.status.busy": "2023-02-26T17:02:01.723789Z",
     "iopub.status.idle": "2023-02-26T17:02:02.000239Z",
     "shell.execute_reply": "2023-02-26T17:02:01.999509Z"
    }
   },
   "outputs": [],
   "source": [
    "from treevalue import FastTreeValue\n",
    "\n",
    "t = FastTreeValue(_TREE_DATA_2)"
   ]
  },
  {
   "cell_type": "code",
   "execution_count": 3,
   "id": "11c37677",
   "metadata": {
    "execution": {
     "iopub.execute_input": "2023-02-26T17:02:02.004194Z",
     "iopub.status.busy": "2023-02-26T17:02:02.003084Z",
     "iopub.status.idle": "2023-02-26T17:02:02.013291Z",
     "shell.execute_reply": "2023-02-26T17:02:02.012728Z"
    }
   },
   "outputs": [
    {
     "data": {
      "text/plain": [
       "<FastTreeValue 0x7f5b10d4c970>\n",
       "├── 'a' --> tensor([[-0.2873, -1.2421,  0.1464],\n",
       "│                   [-0.6610, -0.1442, -1.5657]])\n",
       "└── 'x' --> <FastTreeValue 0x7f5b10d4cf70>\n",
       "    └── 'c' --> tensor([[ 0.4665,  2.0195, -0.1632, -0.3297],\n",
       "                        [-0.6056,  0.9347, -1.3495, -1.7604],\n",
       "                        [-0.1045,  0.1545, -0.3433, -2.4865]])"
      ]
     },
     "execution_count": 3,
     "metadata": {},
     "output_type": "execute_result"
    }
   ],
   "source": [
    "t"
   ]
  },
  {
   "cell_type": "code",
   "execution_count": 4,
   "id": "fd70b0b9",
   "metadata": {
    "execution": {
     "iopub.execute_input": "2023-02-26T17:02:02.016029Z",
     "iopub.status.busy": "2023-02-26T17:02:02.015577Z",
     "iopub.status.idle": "2023-02-26T17:02:02.021141Z",
     "shell.execute_reply": "2023-02-26T17:02:02.020596Z"
    }
   },
   "outputs": [
    {
     "data": {
      "text/plain": [
       "tensor([[-0.2873, -1.2421,  0.1464],\n",
       "        [-0.6610, -0.1442, -1.5657]])"
      ]
     },
     "execution_count": 4,
     "metadata": {},
     "output_type": "execute_result"
    }
   ],
   "source": [
    "t.a"
   ]
  },
  {
   "cell_type": "code",
   "execution_count": 5,
   "id": "c18197bd",
   "metadata": {
    "execution": {
     "iopub.execute_input": "2023-02-26T17:02:02.023872Z",
     "iopub.status.busy": "2023-02-26T17:02:02.023405Z",
     "iopub.status.idle": "2023-02-26T17:02:06.782325Z",
     "shell.execute_reply": "2023-02-26T17:02:06.781643Z"
    }
   },
   "outputs": [
    {
     "name": "stdout",
     "output_type": "stream",
     "text": [
      "58.6 ns ± 0.0484 ns per loop (mean ± std. dev. of 7 runs, 10,000,000 loops each)\n"
     ]
    }
   ],
   "source": [
    "%timeit t.a"
   ]
  },
  {
   "cell_type": "code",
   "execution_count": 6,
   "id": "bd52f867",
   "metadata": {
    "execution": {
     "iopub.execute_input": "2023-02-26T17:02:06.785392Z",
     "iopub.status.busy": "2023-02-26T17:02:06.784877Z",
     "iopub.status.idle": "2023-02-26T17:02:06.792342Z",
     "shell.execute_reply": "2023-02-26T17:02:06.791756Z"
    }
   },
   "outputs": [
    {
     "data": {
      "text/plain": [
       "<FastTreeValue 0x7f5b10d4c970>\n",
       "├── 'a' --> tensor([[-0.0714, -0.3406, -0.2219],\n",
       "│                   [ 1.2379, -1.1599, -0.6488]])\n",
       "└── 'x' --> <FastTreeValue 0x7f5b10d4cf70>\n",
       "    └── 'c' --> tensor([[ 0.4665,  2.0195, -0.1632, -0.3297],\n",
       "                        [-0.6056,  0.9347, -1.3495, -1.7604],\n",
       "                        [-0.1045,  0.1545, -0.3433, -2.4865]])"
      ]
     },
     "execution_count": 6,
     "metadata": {},
     "output_type": "execute_result"
    }
   ],
   "source": [
    "new_value = torch.randn(2, 3)\n",
    "t.a = new_value\n",
    "\n",
    "t"
   ]
  },
  {
   "cell_type": "code",
   "execution_count": 7,
   "id": "bbe04d1c",
   "metadata": {
    "execution": {
     "iopub.execute_input": "2023-02-26T17:02:06.795475Z",
     "iopub.status.busy": "2023-02-26T17:02:06.794440Z",
     "iopub.status.idle": "2023-02-26T17:02:11.570913Z",
     "shell.execute_reply": "2023-02-26T17:02:11.570219Z"
    }
   },
   "outputs": [
    {
     "name": "stdout",
     "output_type": "stream",
     "text": [
      "58.8 ns ± 0.0317 ns per loop (mean ± std. dev. of 7 runs, 10,000,000 loops each)\n"
     ]
    }
   ],
   "source": [
    "%timeit t.a = new_value"
   ]
  },
  {
   "cell_type": "markdown",
   "id": "48c49731",
   "metadata": {},
   "source": [
    "### Tianshou Batch's Get and Set"
   ]
  },
  {
   "cell_type": "code",
   "execution_count": 8,
   "id": "f1bb14c1",
   "metadata": {
    "execution": {
     "iopub.execute_input": "2023-02-26T17:02:11.573534Z",
     "iopub.status.busy": "2023-02-26T17:02:11.573186Z",
     "iopub.status.idle": "2023-02-26T17:02:11.899791Z",
     "shell.execute_reply": "2023-02-26T17:02:11.899129Z"
    }
   },
   "outputs": [],
   "source": [
    "from tianshou.data import Batch\n",
    "\n",
    "b = Batch(**_TREE_DATA_2)"
   ]
  },
  {
   "cell_type": "code",
   "execution_count": 9,
   "id": "cb0777c3",
   "metadata": {
    "execution": {
     "iopub.execute_input": "2023-02-26T17:02:11.902972Z",
     "iopub.status.busy": "2023-02-26T17:02:11.902291Z",
     "iopub.status.idle": "2023-02-26T17:02:11.908441Z",
     "shell.execute_reply": "2023-02-26T17:02:11.907877Z"
    }
   },
   "outputs": [
    {
     "data": {
      "text/plain": [
       "Batch(\n",
       "    a: tensor([[-0.2873, -1.2421,  0.1464],\n",
       "               [-0.6610, -0.1442, -1.5657]]),\n",
       "    x: Batch(\n",
       "           c: tensor([[ 0.4665,  2.0195, -0.1632, -0.3297],\n",
       "                      [-0.6056,  0.9347, -1.3495, -1.7604],\n",
       "                      [-0.1045,  0.1545, -0.3433, -2.4865]]),\n",
       "       ),\n",
       ")"
      ]
     },
     "execution_count": 9,
     "metadata": {},
     "output_type": "execute_result"
    }
   ],
   "source": [
    "b"
   ]
  },
  {
   "cell_type": "code",
   "execution_count": 10,
   "id": "43ef8ea3",
   "metadata": {
    "execution": {
     "iopub.execute_input": "2023-02-26T17:02:11.911088Z",
     "iopub.status.busy": "2023-02-26T17:02:11.910545Z",
     "iopub.status.idle": "2023-02-26T17:02:11.915868Z",
     "shell.execute_reply": "2023-02-26T17:02:11.915304Z"
    }
   },
   "outputs": [
    {
     "data": {
      "text/plain": [
       "tensor([[-0.2873, -1.2421,  0.1464],\n",
       "        [-0.6610, -0.1442, -1.5657]])"
      ]
     },
     "execution_count": 10,
     "metadata": {},
     "output_type": "execute_result"
    }
   ],
   "source": [
    "b.a"
   ]
  },
  {
   "cell_type": "code",
   "execution_count": 11,
   "id": "b785ab72",
   "metadata": {
    "execution": {
     "iopub.execute_input": "2023-02-26T17:02:11.918549Z",
     "iopub.status.busy": "2023-02-26T17:02:11.918089Z",
     "iopub.status.idle": "2023-02-26T17:02:16.377426Z",
     "shell.execute_reply": "2023-02-26T17:02:16.376714Z"
    }
   },
   "outputs": [
    {
     "name": "stdout",
     "output_type": "stream",
     "text": [
      "55.1 ns ± 0.0546 ns per loop (mean ± std. dev. of 7 runs, 10,000,000 loops each)\n"
     ]
    }
   ],
   "source": [
    "%timeit b.a"
   ]
  },
  {
   "cell_type": "code",
   "execution_count": 12,
   "id": "ad54dc69",
   "metadata": {
    "execution": {
     "iopub.execute_input": "2023-02-26T17:02:16.380539Z",
     "iopub.status.busy": "2023-02-26T17:02:16.379966Z",
     "iopub.status.idle": "2023-02-26T17:02:16.386299Z",
     "shell.execute_reply": "2023-02-26T17:02:16.385727Z"
    }
   },
   "outputs": [
    {
     "data": {
      "text/plain": [
       "Batch(\n",
       "    a: tensor([[-0.2406,  0.8164,  0.9999],\n",
       "               [-1.1155, -0.9031,  0.1904]]),\n",
       "    x: Batch(\n",
       "           c: tensor([[ 0.4665,  2.0195, -0.1632, -0.3297],\n",
       "                      [-0.6056,  0.9347, -1.3495, -1.7604],\n",
       "                      [-0.1045,  0.1545, -0.3433, -2.4865]]),\n",
       "       ),\n",
       ")"
      ]
     },
     "execution_count": 12,
     "metadata": {},
     "output_type": "execute_result"
    }
   ],
   "source": [
    "new_value = torch.randn(2, 3)\n",
    "b.a = new_value\n",
    "\n",
    "b"
   ]
  },
  {
   "cell_type": "code",
   "execution_count": 13,
   "id": "29b1d0bf",
   "metadata": {
    "execution": {
     "iopub.execute_input": "2023-02-26T17:02:16.388970Z",
     "iopub.status.busy": "2023-02-26T17:02:16.388497Z",
     "iopub.status.idle": "2023-02-26T17:02:20.280295Z",
     "shell.execute_reply": "2023-02-26T17:02:20.279629Z"
    }
   },
   "outputs": [
    {
     "name": "stdout",
     "output_type": "stream",
     "text": [
      "479 ns ± 0.303 ns per loop (mean ± std. dev. of 7 runs, 1,000,000 loops each)\n"
     ]
    }
   ],
   "source": [
    "%timeit b.a = new_value"
   ]
  },
  {
   "cell_type": "markdown",
   "id": "b61ad1d0",
   "metadata": {},
   "source": [
    "## Initialization"
   ]
  },
  {
   "cell_type": "markdown",
   "id": "d70f0d54",
   "metadata": {},
   "source": [
    "### TreeValue's Initialization"
   ]
  },
  {
   "cell_type": "code",
   "execution_count": 14,
   "id": "d32a679b",
   "metadata": {
    "execution": {
     "iopub.execute_input": "2023-02-26T17:02:20.283626Z",
     "iopub.status.busy": "2023-02-26T17:02:20.283035Z",
     "iopub.status.idle": "2023-02-26T17:02:27.018868Z",
     "shell.execute_reply": "2023-02-26T17:02:27.018222Z"
    }
   },
   "outputs": [
    {
     "name": "stdout",
     "output_type": "stream",
     "text": [
      "830 ns ± 0.852 ns per loop (mean ± std. dev. of 7 runs, 1,000,000 loops each)\n"
     ]
    }
   ],
   "source": [
    "%timeit FastTreeValue(_TREE_DATA_1)"
   ]
  },
  {
   "cell_type": "markdown",
   "id": "24f3707b",
   "metadata": {},
   "source": [
    "### Tianshou Batch's Initialization"
   ]
  },
  {
   "cell_type": "code",
   "execution_count": 15,
   "id": "ac3958df",
   "metadata": {
    "execution": {
     "iopub.execute_input": "2023-02-26T17:02:27.021394Z",
     "iopub.status.busy": "2023-02-26T17:02:27.021171Z",
     "iopub.status.idle": "2023-02-26T17:02:36.350353Z",
     "shell.execute_reply": "2023-02-26T17:02:36.349616Z"
    }
   },
   "outputs": [
    {
     "name": "stdout",
     "output_type": "stream",
     "text": [
      "11.5 µs ± 17.4 ns per loop (mean ± std. dev. of 7 runs, 100,000 loops each)\n"
     ]
    }
   ],
   "source": [
    "%timeit Batch(**_TREE_DATA_1)"
   ]
  },
  {
   "cell_type": "markdown",
   "id": "1ab82e2d",
   "metadata": {},
   "source": [
    "## Deep Copy Operation"
   ]
  },
  {
   "cell_type": "code",
   "execution_count": 16,
   "id": "210a9442",
   "metadata": {
    "execution": {
     "iopub.execute_input": "2023-02-26T17:02:36.353341Z",
     "iopub.status.busy": "2023-02-26T17:02:36.352992Z",
     "iopub.status.idle": "2023-02-26T17:02:36.357155Z",
     "shell.execute_reply": "2023-02-26T17:02:36.356266Z"
    }
   },
   "outputs": [],
   "source": [
    "import copy"
   ]
  },
  {
   "cell_type": "markdown",
   "id": "5a736274",
   "metadata": {},
   "source": [
    "### Deep Copy of TreeValue"
   ]
  },
  {
   "cell_type": "code",
   "execution_count": 17,
   "id": "f9bcadd6",
   "metadata": {
    "execution": {
     "iopub.execute_input": "2023-02-26T17:02:36.359970Z",
     "iopub.status.busy": "2023-02-26T17:02:36.359498Z",
     "iopub.status.idle": "2023-02-26T17:02:47.341106Z",
     "shell.execute_reply": "2023-02-26T17:02:47.340523Z"
    }
   },
   "outputs": [
    {
     "name": "stdout",
     "output_type": "stream",
     "text": [
      "135 µs ± 617 ns per loop (mean ± std. dev. of 7 runs, 10,000 loops each)\n"
     ]
    }
   ],
   "source": [
    "t3 = FastTreeValue(_TREE_DATA_3)\n",
    "%timeit copy.deepcopy(t3)"
   ]
  },
  {
   "cell_type": "markdown",
   "id": "bf8be7ea",
   "metadata": {},
   "source": [
    "### Deep Copy of Tianshou Batch"
   ]
  },
  {
   "cell_type": "code",
   "execution_count": 18,
   "id": "91998e6f",
   "metadata": {
    "execution": {
     "iopub.execute_input": "2023-02-26T17:02:47.344825Z",
     "iopub.status.busy": "2023-02-26T17:02:47.343920Z",
     "iopub.status.idle": "2023-02-26T17:02:58.563819Z",
     "shell.execute_reply": "2023-02-26T17:02:58.563225Z"
    }
   },
   "outputs": [
    {
     "name": "stdout",
     "output_type": "stream",
     "text": [
      "138 µs ± 708 ns per loop (mean ± std. dev. of 7 runs, 10,000 loops each)\n"
     ]
    }
   ],
   "source": [
    "b3 = Batch(**_TREE_DATA_3)\n",
    "%timeit copy.deepcopy(b3)"
   ]
  },
  {
   "cell_type": "markdown",
   "id": "223162fb",
   "metadata": {},
   "source": [
    "## Stack, Concat and Split Operation"
   ]
  },
  {
   "cell_type": "markdown",
   "id": "85fa4a73",
   "metadata": {},
   "source": [
    "### Performance of TreeValue"
   ]
  },
  {
   "cell_type": "code",
   "execution_count": 19,
   "id": "a0c2b697",
   "metadata": {
    "execution": {
     "iopub.execute_input": "2023-02-26T17:02:58.567573Z",
     "iopub.status.busy": "2023-02-26T17:02:58.566663Z",
     "iopub.status.idle": "2023-02-26T17:02:58.570849Z",
     "shell.execute_reply": "2023-02-26T17:02:58.570324Z"
    }
   },
   "outputs": [],
   "source": [
    "trees = [FastTreeValue(_TREE_DATA_2) for _ in range(8)]"
   ]
  },
  {
   "cell_type": "code",
   "execution_count": 20,
   "id": "017ea5a5",
   "metadata": {
    "execution": {
     "iopub.execute_input": "2023-02-26T17:02:58.574345Z",
     "iopub.status.busy": "2023-02-26T17:02:58.573440Z",
     "iopub.status.idle": "2023-02-26T17:02:58.582041Z",
     "shell.execute_reply": "2023-02-26T17:02:58.581518Z"
    }
   },
   "outputs": [
    {
     "data": {
      "text/plain": [
       "<FastTreeValue 0x7f5a5bf86d30>\n",
       "├── 'a' --> tensor([[[-0.2873, -1.2421,  0.1464],\n",
       "│                    [-0.6610, -0.1442, -1.5657]],\n",
       "│           \n",
       "│                   [[-0.2873, -1.2421,  0.1464],\n",
       "│                    [-0.6610, -0.1442, -1.5657]],\n",
       "│           \n",
       "│                   [[-0.2873, -1.2421,  0.1464],\n",
       "│                    [-0.6610, -0.1442, -1.5657]],\n",
       "│           \n",
       "│                   [[-0.2873, -1.2421,  0.1464],\n",
       "│                    [-0.6610, -0.1442, -1.5657]],\n",
       "│           \n",
       "│                   [[-0.2873, -1.2421,  0.1464],\n",
       "│                    [-0.6610, -0.1442, -1.5657]],\n",
       "│           \n",
       "│                   [[-0.2873, -1.2421,  0.1464],\n",
       "│                    [-0.6610, -0.1442, -1.5657]],\n",
       "│           \n",
       "│                   [[-0.2873, -1.2421,  0.1464],\n",
       "│                    [-0.6610, -0.1442, -1.5657]],\n",
       "│           \n",
       "│                   [[-0.2873, -1.2421,  0.1464],\n",
       "│                    [-0.6610, -0.1442, -1.5657]]])\n",
       "└── 'x' --> <FastTreeValue 0x7f5a5bf86d60>\n",
       "    └── 'c' --> tensor([[[ 0.4665,  2.0195, -0.1632, -0.3297],\n",
       "                         [-0.6056,  0.9347, -1.3495, -1.7604],\n",
       "                         [-0.1045,  0.1545, -0.3433, -2.4865]],\n",
       "                \n",
       "                        [[ 0.4665,  2.0195, -0.1632, -0.3297],\n",
       "                         [-0.6056,  0.9347, -1.3495, -1.7604],\n",
       "                         [-0.1045,  0.1545, -0.3433, -2.4865]],\n",
       "                \n",
       "                        [[ 0.4665,  2.0195, -0.1632, -0.3297],\n",
       "                         [-0.6056,  0.9347, -1.3495, -1.7604],\n",
       "                         [-0.1045,  0.1545, -0.3433, -2.4865]],\n",
       "                \n",
       "                        [[ 0.4665,  2.0195, -0.1632, -0.3297],\n",
       "                         [-0.6056,  0.9347, -1.3495, -1.7604],\n",
       "                         [-0.1045,  0.1545, -0.3433, -2.4865]],\n",
       "                \n",
       "                        [[ 0.4665,  2.0195, -0.1632, -0.3297],\n",
       "                         [-0.6056,  0.9347, -1.3495, -1.7604],\n",
       "                         [-0.1045,  0.1545, -0.3433, -2.4865]],\n",
       "                \n",
       "                        [[ 0.4665,  2.0195, -0.1632, -0.3297],\n",
       "                         [-0.6056,  0.9347, -1.3495, -1.7604],\n",
       "                         [-0.1045,  0.1545, -0.3433, -2.4865]],\n",
       "                \n",
       "                        [[ 0.4665,  2.0195, -0.1632, -0.3297],\n",
       "                         [-0.6056,  0.9347, -1.3495, -1.7604],\n",
       "                         [-0.1045,  0.1545, -0.3433, -2.4865]],\n",
       "                \n",
       "                        [[ 0.4665,  2.0195, -0.1632, -0.3297],\n",
       "                         [-0.6056,  0.9347, -1.3495, -1.7604],\n",
       "                         [-0.1045,  0.1545, -0.3433, -2.4865]]])"
      ]
     },
     "execution_count": 20,
     "metadata": {},
     "output_type": "execute_result"
    }
   ],
   "source": [
    "t_stack = FastTreeValue.func(subside=True)(torch.stack)\n",
    "\n",
    "t_stack(trees)"
   ]
  },
  {
   "cell_type": "code",
   "execution_count": 21,
   "id": "f8b3f415",
   "metadata": {
    "execution": {
     "iopub.execute_input": "2023-02-26T17:02:58.585439Z",
     "iopub.status.busy": "2023-02-26T17:02:58.584563Z",
     "iopub.status.idle": "2023-02-26T17:03:01.248801Z",
     "shell.execute_reply": "2023-02-26T17:03:01.248096Z"
    }
   },
   "outputs": [
    {
     "name": "stdout",
     "output_type": "stream",
     "text": [
      "32.8 µs ± 68.6 ns per loop (mean ± std. dev. of 7 runs, 10,000 loops each)\n"
     ]
    }
   ],
   "source": [
    "%timeit t_stack(trees)"
   ]
  },
  {
   "cell_type": "code",
   "execution_count": 22,
   "id": "94b56771",
   "metadata": {
    "execution": {
     "iopub.execute_input": "2023-02-26T17:03:01.251526Z",
     "iopub.status.busy": "2023-02-26T17:03:01.251092Z",
     "iopub.status.idle": "2023-02-26T17:03:01.258745Z",
     "shell.execute_reply": "2023-02-26T17:03:01.258152Z"
    }
   },
   "outputs": [
    {
     "data": {
      "text/plain": [
       "<FastTreeValue 0x7f5a5bf863a0>\n",
       "├── 'a' --> tensor([[-0.2873, -1.2421,  0.1464],\n",
       "│                   [-0.6610, -0.1442, -1.5657],\n",
       "│                   [-0.2873, -1.2421,  0.1464],\n",
       "│                   [-0.6610, -0.1442, -1.5657],\n",
       "│                   [-0.2873, -1.2421,  0.1464],\n",
       "│                   [-0.6610, -0.1442, -1.5657],\n",
       "│                   [-0.2873, -1.2421,  0.1464],\n",
       "│                   [-0.6610, -0.1442, -1.5657],\n",
       "│                   [-0.2873, -1.2421,  0.1464],\n",
       "│                   [-0.6610, -0.1442, -1.5657],\n",
       "│                   [-0.2873, -1.2421,  0.1464],\n",
       "│                   [-0.6610, -0.1442, -1.5657],\n",
       "│                   [-0.2873, -1.2421,  0.1464],\n",
       "│                   [-0.6610, -0.1442, -1.5657],\n",
       "│                   [-0.2873, -1.2421,  0.1464],\n",
       "│                   [-0.6610, -0.1442, -1.5657]])\n",
       "└── 'x' --> <FastTreeValue 0x7f5a5bf86dc0>\n",
       "    └── 'c' --> tensor([[ 0.4665,  2.0195, -0.1632, -0.3297],\n",
       "                        [-0.6056,  0.9347, -1.3495, -1.7604],\n",
       "                        [-0.1045,  0.1545, -0.3433, -2.4865],\n",
       "                        [ 0.4665,  2.0195, -0.1632, -0.3297],\n",
       "                        [-0.6056,  0.9347, -1.3495, -1.7604],\n",
       "                        [-0.1045,  0.1545, -0.3433, -2.4865],\n",
       "                        [ 0.4665,  2.0195, -0.1632, -0.3297],\n",
       "                        [-0.6056,  0.9347, -1.3495, -1.7604],\n",
       "                        [-0.1045,  0.1545, -0.3433, -2.4865],\n",
       "                        [ 0.4665,  2.0195, -0.1632, -0.3297],\n",
       "                        [-0.6056,  0.9347, -1.3495, -1.7604],\n",
       "                        [-0.1045,  0.1545, -0.3433, -2.4865],\n",
       "                        [ 0.4665,  2.0195, -0.1632, -0.3297],\n",
       "                        [-0.6056,  0.9347, -1.3495, -1.7604],\n",
       "                        [-0.1045,  0.1545, -0.3433, -2.4865],\n",
       "                        [ 0.4665,  2.0195, -0.1632, -0.3297],\n",
       "                        [-0.6056,  0.9347, -1.3495, -1.7604],\n",
       "                        [-0.1045,  0.1545, -0.3433, -2.4865],\n",
       "                        [ 0.4665,  2.0195, -0.1632, -0.3297],\n",
       "                        [-0.6056,  0.9347, -1.3495, -1.7604],\n",
       "                        [-0.1045,  0.1545, -0.3433, -2.4865],\n",
       "                        [ 0.4665,  2.0195, -0.1632, -0.3297],\n",
       "                        [-0.6056,  0.9347, -1.3495, -1.7604],\n",
       "                        [-0.1045,  0.1545, -0.3433, -2.4865]])"
      ]
     },
     "execution_count": 22,
     "metadata": {},
     "output_type": "execute_result"
    }
   ],
   "source": [
    "t_cat = FastTreeValue.func(subside=True)(torch.cat)\n",
    "\n",
    "t_cat(trees)"
   ]
  },
  {
   "cell_type": "code",
   "execution_count": 23,
   "id": "5e9c06a6",
   "metadata": {
    "execution": {
     "iopub.execute_input": "2023-02-26T17:03:01.261039Z",
     "iopub.status.busy": "2023-02-26T17:03:01.260713Z",
     "iopub.status.idle": "2023-02-26T17:03:03.725417Z",
     "shell.execute_reply": "2023-02-26T17:03:03.724795Z"
    }
   },
   "outputs": [
    {
     "name": "stdout",
     "output_type": "stream",
     "text": [
      "30.3 µs ± 32.1 ns per loop (mean ± std. dev. of 7 runs, 10,000 loops each)\n"
     ]
    }
   ],
   "source": [
    "%timeit t_cat(trees)"
   ]
  },
  {
   "cell_type": "code",
   "execution_count": 24,
   "id": "a3ab5c8f",
   "metadata": {
    "execution": {
     "iopub.execute_input": "2023-02-26T17:03:03.728270Z",
     "iopub.status.busy": "2023-02-26T17:03:03.727764Z",
     "iopub.status.idle": "2023-02-26T17:03:08.538698Z",
     "shell.execute_reply": "2023-02-26T17:03:08.537946Z"
    }
   },
   "outputs": [
    {
     "name": "stdout",
     "output_type": "stream",
     "text": [
      "59.2 µs ± 72 ns per loop (mean ± std. dev. of 7 runs, 10,000 loops each)\n"
     ]
    }
   ],
   "source": [
    "t_split = FastTreeValue.func(rise=True)(torch.split)\n",
    "tree = FastTreeValue({\n",
    "    'obs': torch.randn(8, 4, 84, 84),\n",
    "    'action': torch.randint(0, 6, size=(8, 1,)),\n",
    "    'reward': torch.rand(8, 1),\n",
    "})\n",
    "\n",
    "%timeit t_split(tree, 1)"
   ]
  },
  {
   "cell_type": "markdown",
   "id": "31c3ec0b",
   "metadata": {},
   "source": [
    "### Performance of Tianshou Batch"
   ]
  },
  {
   "cell_type": "code",
   "execution_count": 25,
   "id": "9ead828a",
   "metadata": {
    "execution": {
     "iopub.execute_input": "2023-02-26T17:03:08.541656Z",
     "iopub.status.busy": "2023-02-26T17:03:08.541285Z",
     "iopub.status.idle": "2023-02-26T17:03:08.549921Z",
     "shell.execute_reply": "2023-02-26T17:03:08.549326Z"
    }
   },
   "outputs": [
    {
     "data": {
      "text/plain": [
       "Batch(\n",
       "    a: tensor([[[-0.2873, -1.2421,  0.1464],\n",
       "                [-0.6610, -0.1442, -1.5657]],\n",
       "       \n",
       "               [[-0.2873, -1.2421,  0.1464],\n",
       "                [-0.6610, -0.1442, -1.5657]],\n",
       "       \n",
       "               [[-0.2873, -1.2421,  0.1464],\n",
       "                [-0.6610, -0.1442, -1.5657]],\n",
       "       \n",
       "               [[-0.2873, -1.2421,  0.1464],\n",
       "                [-0.6610, -0.1442, -1.5657]],\n",
       "       \n",
       "               [[-0.2873, -1.2421,  0.1464],\n",
       "                [-0.6610, -0.1442, -1.5657]],\n",
       "       \n",
       "               [[-0.2873, -1.2421,  0.1464],\n",
       "                [-0.6610, -0.1442, -1.5657]],\n",
       "       \n",
       "               [[-0.2873, -1.2421,  0.1464],\n",
       "                [-0.6610, -0.1442, -1.5657]],\n",
       "       \n",
       "               [[-0.2873, -1.2421,  0.1464],\n",
       "                [-0.6610, -0.1442, -1.5657]]]),\n",
       "    x: Batch(\n",
       "           c: tensor([[[ 0.4665,  2.0195, -0.1632, -0.3297],\n",
       "                       [-0.6056,  0.9347, -1.3495, -1.7604],\n",
       "                       [-0.1045,  0.1545, -0.3433, -2.4865]],\n",
       "              \n",
       "                      [[ 0.4665,  2.0195, -0.1632, -0.3297],\n",
       "                       [-0.6056,  0.9347, -1.3495, -1.7604],\n",
       "                       [-0.1045,  0.1545, -0.3433, -2.4865]],\n",
       "              \n",
       "                      [[ 0.4665,  2.0195, -0.1632, -0.3297],\n",
       "                       [-0.6056,  0.9347, -1.3495, -1.7604],\n",
       "                       [-0.1045,  0.1545, -0.3433, -2.4865]],\n",
       "              \n",
       "                      [[ 0.4665,  2.0195, -0.1632, -0.3297],\n",
       "                       [-0.6056,  0.9347, -1.3495, -1.7604],\n",
       "                       [-0.1045,  0.1545, -0.3433, -2.4865]],\n",
       "              \n",
       "                      [[ 0.4665,  2.0195, -0.1632, -0.3297],\n",
       "                       [-0.6056,  0.9347, -1.3495, -1.7604],\n",
       "                       [-0.1045,  0.1545, -0.3433, -2.4865]],\n",
       "              \n",
       "                      [[ 0.4665,  2.0195, -0.1632, -0.3297],\n",
       "                       [-0.6056,  0.9347, -1.3495, -1.7604],\n",
       "                       [-0.1045,  0.1545, -0.3433, -2.4865]],\n",
       "              \n",
       "                      [[ 0.4665,  2.0195, -0.1632, -0.3297],\n",
       "                       [-0.6056,  0.9347, -1.3495, -1.7604],\n",
       "                       [-0.1045,  0.1545, -0.3433, -2.4865]],\n",
       "              \n",
       "                      [[ 0.4665,  2.0195, -0.1632, -0.3297],\n",
       "                       [-0.6056,  0.9347, -1.3495, -1.7604],\n",
       "                       [-0.1045,  0.1545, -0.3433, -2.4865]]]),\n",
       "       ),\n",
       ")"
      ]
     },
     "execution_count": 25,
     "metadata": {},
     "output_type": "execute_result"
    }
   ],
   "source": [
    "batches = [Batch(**_TREE_DATA_2) for _ in range(8)]\n",
    "\n",
    "Batch.stack(batches)"
   ]
  },
  {
   "cell_type": "code",
   "execution_count": 26,
   "id": "ec9037a3",
   "metadata": {
    "execution": {
     "iopub.execute_input": "2023-02-26T17:03:08.552609Z",
     "iopub.status.busy": "2023-02-26T17:03:08.552281Z",
     "iopub.status.idle": "2023-02-26T17:03:14.904145Z",
     "shell.execute_reply": "2023-02-26T17:03:14.903499Z"
    }
   },
   "outputs": [
    {
     "name": "stdout",
     "output_type": "stream",
     "text": [
      "78.2 µs ± 278 ns per loop (mean ± std. dev. of 7 runs, 10,000 loops each)\n"
     ]
    }
   ],
   "source": [
    "%timeit Batch.stack(batches)"
   ]
  },
  {
   "cell_type": "code",
   "execution_count": 27,
   "id": "cb8ab77e",
   "metadata": {
    "execution": {
     "iopub.execute_input": "2023-02-26T17:03:14.907117Z",
     "iopub.status.busy": "2023-02-26T17:03:14.906769Z",
     "iopub.status.idle": "2023-02-26T17:03:14.914007Z",
     "shell.execute_reply": "2023-02-26T17:03:14.913410Z"
    }
   },
   "outputs": [
    {
     "data": {
      "text/plain": [
       "Batch(\n",
       "    a: tensor([[-0.2873, -1.2421,  0.1464],\n",
       "               [-0.6610, -0.1442, -1.5657],\n",
       "               [-0.2873, -1.2421,  0.1464],\n",
       "               [-0.6610, -0.1442, -1.5657],\n",
       "               [-0.2873, -1.2421,  0.1464],\n",
       "               [-0.6610, -0.1442, -1.5657],\n",
       "               [-0.2873, -1.2421,  0.1464],\n",
       "               [-0.6610, -0.1442, -1.5657],\n",
       "               [-0.2873, -1.2421,  0.1464],\n",
       "               [-0.6610, -0.1442, -1.5657],\n",
       "               [-0.2873, -1.2421,  0.1464],\n",
       "               [-0.6610, -0.1442, -1.5657],\n",
       "               [-0.2873, -1.2421,  0.1464],\n",
       "               [-0.6610, -0.1442, -1.5657],\n",
       "               [-0.2873, -1.2421,  0.1464],\n",
       "               [-0.6610, -0.1442, -1.5657]]),\n",
       "    x: Batch(\n",
       "           c: tensor([[ 0.4665,  2.0195, -0.1632, -0.3297],\n",
       "                      [-0.6056,  0.9347, -1.3495, -1.7604],\n",
       "                      [-0.1045,  0.1545, -0.3433, -2.4865],\n",
       "                      [ 0.4665,  2.0195, -0.1632, -0.3297],\n",
       "                      [-0.6056,  0.9347, -1.3495, -1.7604],\n",
       "                      [-0.1045,  0.1545, -0.3433, -2.4865],\n",
       "                      [ 0.4665,  2.0195, -0.1632, -0.3297],\n",
       "                      [-0.6056,  0.9347, -1.3495, -1.7604],\n",
       "                      [-0.1045,  0.1545, -0.3433, -2.4865],\n",
       "                      [ 0.4665,  2.0195, -0.1632, -0.3297],\n",
       "                      [-0.6056,  0.9347, -1.3495, -1.7604],\n",
       "                      [-0.1045,  0.1545, -0.3433, -2.4865],\n",
       "                      [ 0.4665,  2.0195, -0.1632, -0.3297],\n",
       "                      [-0.6056,  0.9347, -1.3495, -1.7604],\n",
       "                      [-0.1045,  0.1545, -0.3433, -2.4865],\n",
       "                      [ 0.4665,  2.0195, -0.1632, -0.3297],\n",
       "                      [-0.6056,  0.9347, -1.3495, -1.7604],\n",
       "                      [-0.1045,  0.1545, -0.3433, -2.4865],\n",
       "                      [ 0.4665,  2.0195, -0.1632, -0.3297],\n",
       "                      [-0.6056,  0.9347, -1.3495, -1.7604],\n",
       "                      [-0.1045,  0.1545, -0.3433, -2.4865],\n",
       "                      [ 0.4665,  2.0195, -0.1632, -0.3297],\n",
       "                      [-0.6056,  0.9347, -1.3495, -1.7604],\n",
       "                      [-0.1045,  0.1545, -0.3433, -2.4865]]),\n",
       "       ),\n",
       ")"
      ]
     },
     "execution_count": 27,
     "metadata": {},
     "output_type": "execute_result"
    }
   ],
   "source": [
    "Batch.cat(batches)"
   ]
  },
  {
   "cell_type": "code",
   "execution_count": 28,
   "id": "18dfb045",
   "metadata": {
    "execution": {
     "iopub.execute_input": "2023-02-26T17:03:14.916714Z",
     "iopub.status.busy": "2023-02-26T17:03:14.916229Z",
     "iopub.status.idle": "2023-02-26T17:03:26.558494Z",
     "shell.execute_reply": "2023-02-26T17:03:26.557836Z"
    }
   },
   "outputs": [
    {
     "name": "stdout",
     "output_type": "stream",
     "text": [
      "143 µs ± 374 ns per loop (mean ± std. dev. of 7 runs, 10,000 loops each)\n"
     ]
    }
   ],
   "source": [
    "%timeit Batch.cat(batches)"
   ]
  },
  {
   "cell_type": "code",
   "execution_count": 29,
   "id": "c6688e51",
   "metadata": {
    "execution": {
     "iopub.execute_input": "2023-02-26T17:03:26.561418Z",
     "iopub.status.busy": "2023-02-26T17:03:26.560913Z",
     "iopub.status.idle": "2023-02-26T17:03:29.047334Z",
     "shell.execute_reply": "2023-02-26T17:03:29.046762Z"
    }
   },
   "outputs": [
    {
     "name": "stdout",
     "output_type": "stream",
     "text": [
      "306 µs ± 530 ns per loop (mean ± std. dev. of 7 runs, 1,000 loops each)\n"
     ]
    }
   ],
   "source": [
    "batch = Batch({\n",
    "    'obs': torch.randn(8, 4, 84, 84),\n",
    "    'action': torch.randint(0, 6, size=(8, 1,)),\n",
    "    'reward': torch.rand(8, 1)}\n",
    ")\n",
    "\n",
    "%timeit list(Batch.split(batch, 1, shuffle=False, merge_last=True))"
   ]
  },
  {
   "cell_type": "code",
   "execution_count": null,
   "id": "2539fbd9",
   "metadata": {},
   "outputs": [],
   "source": []
  }
 ],
 "metadata": {
  "kernelspec": {
   "display_name": "Python 3 (ipykernel)",
   "language": "python",
   "name": "python3"
  },
  "language_info": {
   "codemirror_mode": {
    "name": "ipython",
    "version": 3
   },
   "file_extension": ".py",
   "mimetype": "text/x-python",
   "name": "python",
   "nbconvert_exporter": "python",
   "pygments_lexer": "ipython3",
   "version": "3.8.16"
  }
 },
 "nbformat": 4,
 "nbformat_minor": 5
}
