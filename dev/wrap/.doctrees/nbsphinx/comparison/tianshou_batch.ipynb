{
 "cells": [
  {
   "cell_type": "markdown",
   "id": "9d39d946",
   "metadata": {},
   "source": [
    "# Comparison Between TreeValue and Tianshou Batch"
   ]
  },
  {
   "cell_type": "markdown",
   "id": "3c6db2d4",
   "metadata": {},
   "source": [
    "In this section, we will take a look at the feature and performance of the [Tianshou Batch](https://github.com/thu-ml/tianshou) library, which is developed by Tsinghua Machine Learning Group."
   ]
  },
  {
   "cell_type": "markdown",
   "id": "069361b0",
   "metadata": {},
   "source": [
    "Before starting the comparison, let us define some thing."
   ]
  },
  {
   "cell_type": "code",
   "execution_count": 1,
   "id": "06fc8d26",
   "metadata": {
    "execution": {
     "iopub.execute_input": "2023-03-06T12:28:10.735374Z",
     "iopub.status.busy": "2023-03-06T12:28:10.735084Z",
     "iopub.status.idle": "2023-03-06T12:28:11.988417Z",
     "shell.execute_reply": "2023-03-06T12:28:11.987206Z"
    }
   },
   "outputs": [
    {
     "name": "stderr",
     "output_type": "stream",
     "text": [
      "/opt/hostedtoolcache/Python/3.8.16/x64/lib/python3.8/site-packages/tqdm/auto.py:21: TqdmWarning: IProgress not found. Please update jupyter and ipywidgets. See https://ipywidgets.readthedocs.io/en/stable/user_install.html\n",
      "  from .autonotebook import tqdm as notebook_tqdm\n"
     ]
    }
   ],
   "source": [
    "import torch \n",
    "\n",
    "_TREE_DATA_1 = {'a': 1, 'b': 2, 'x': {'c': 3, 'd': 4}}\n",
    "_TREE_DATA_2 = {\n",
    "    'a': torch.randn(2, 3), \n",
    "    'x': {\n",
    "        'c': torch.randn(3, 4)\n",
    "    },\n",
    "}\n",
    "_TREE_DATA_3 = {\n",
    "    'obs': torch.randn(4, 84, 84),\n",
    "    'action': torch.randint(0, 6, size=(1,)),\n",
    "    'reward': torch.rand(1),\n",
    "}"
   ]
  },
  {
   "cell_type": "markdown",
   "id": "83461b25",
   "metadata": {},
   "source": [
    "## Read and Write Operation"
   ]
  },
  {
   "cell_type": "markdown",
   "id": "067b3f73",
   "metadata": {},
   "source": [
    "Reading and writing are the two most common operations in the tree data structure based on the data model (TreeValue and Tianshou Batch both belong to this type), so this section will compare the reading and writing performance of these two libraries."
   ]
  },
  {
   "cell_type": "markdown",
   "id": "5d09a5b7",
   "metadata": {},
   "source": [
    "### TreeValue's Get and Set"
   ]
  },
  {
   "cell_type": "code",
   "execution_count": 2,
   "id": "9519c4bb",
   "metadata": {
    "execution": {
     "iopub.execute_input": "2023-03-06T12:28:11.993437Z",
     "iopub.status.busy": "2023-03-06T12:28:11.992964Z",
     "iopub.status.idle": "2023-03-06T12:28:12.389587Z",
     "shell.execute_reply": "2023-03-06T12:28:12.388577Z"
    }
   },
   "outputs": [],
   "source": [
    "from treevalue import FastTreeValue\n",
    "\n",
    "t = FastTreeValue(_TREE_DATA_2)"
   ]
  },
  {
   "cell_type": "code",
   "execution_count": 3,
   "id": "11c37677",
   "metadata": {
    "execution": {
     "iopub.execute_input": "2023-03-06T12:28:12.393774Z",
     "iopub.status.busy": "2023-03-06T12:28:12.393384Z",
     "iopub.status.idle": "2023-03-06T12:28:12.406156Z",
     "shell.execute_reply": "2023-03-06T12:28:12.405190Z"
    }
   },
   "outputs": [
    {
     "data": {
      "text/plain": [
       "<FastTreeValue 0x7f57a82f2f70>\n",
       "├── 'a' --> tensor([[ 0.2408,  0.3960,  2.2436],\n",
       "│                   [ 0.3124,  1.3141, -0.7231]])\n",
       "└── 'x' --> <FastTreeValue 0x7f57a82f29d0>\n",
       "    └── 'c' --> tensor([[ 0.9380, -0.0145, -0.3961,  2.7245],\n",
       "                        [ 0.6035, -0.6274, -0.5217, -0.6471],\n",
       "                        [-0.4517,  0.7708,  0.4864, -0.8005]])"
      ]
     },
     "execution_count": 3,
     "metadata": {},
     "output_type": "execute_result"
    }
   ],
   "source": [
    "t"
   ]
  },
  {
   "cell_type": "code",
   "execution_count": 4,
   "id": "fd70b0b9",
   "metadata": {
    "execution": {
     "iopub.execute_input": "2023-03-06T12:28:12.410074Z",
     "iopub.status.busy": "2023-03-06T12:28:12.409766Z",
     "iopub.status.idle": "2023-03-06T12:28:12.418887Z",
     "shell.execute_reply": "2023-03-06T12:28:12.416237Z"
    }
   },
   "outputs": [
    {
     "data": {
      "text/plain": [
       "tensor([[ 0.2408,  0.3960,  2.2436],\n",
       "        [ 0.3124,  1.3141, -0.7231]])"
      ]
     },
     "execution_count": 4,
     "metadata": {},
     "output_type": "execute_result"
    }
   ],
   "source": [
    "t.a"
   ]
  },
  {
   "cell_type": "code",
   "execution_count": 5,
   "id": "c18197bd",
   "metadata": {
    "execution": {
     "iopub.execute_input": "2023-03-06T12:28:12.423403Z",
     "iopub.status.busy": "2023-03-06T12:28:12.422943Z",
     "iopub.status.idle": "2023-03-06T12:28:18.321167Z",
     "shell.execute_reply": "2023-03-06T12:28:18.320255Z"
    }
   },
   "outputs": [
    {
     "name": "stdout",
     "output_type": "stream",
     "text": [
      "72.5 ns ± 1.75 ns per loop (mean ± std. dev. of 7 runs, 10,000,000 loops each)\n"
     ]
    }
   ],
   "source": [
    "%timeit t.a"
   ]
  },
  {
   "cell_type": "code",
   "execution_count": 6,
   "id": "bd52f867",
   "metadata": {
    "execution": {
     "iopub.execute_input": "2023-03-06T12:28:18.324688Z",
     "iopub.status.busy": "2023-03-06T12:28:18.324223Z",
     "iopub.status.idle": "2023-03-06T12:28:18.332818Z",
     "shell.execute_reply": "2023-03-06T12:28:18.331967Z"
    }
   },
   "outputs": [
    {
     "data": {
      "text/plain": [
       "<FastTreeValue 0x7f57a82f2f70>\n",
       "├── 'a' --> tensor([[ 0.5388, -0.3685, -0.2813],\n",
       "│                   [ 0.3224, -0.2359,  1.0286]])\n",
       "└── 'x' --> <FastTreeValue 0x7f57a82f29d0>\n",
       "    └── 'c' --> tensor([[ 0.9380, -0.0145, -0.3961,  2.7245],\n",
       "                        [ 0.6035, -0.6274, -0.5217, -0.6471],\n",
       "                        [-0.4517,  0.7708,  0.4864, -0.8005]])"
      ]
     },
     "execution_count": 6,
     "metadata": {},
     "output_type": "execute_result"
    }
   ],
   "source": [
    "new_value = torch.randn(2, 3)\n",
    "t.a = new_value\n",
    "\n",
    "t"
   ]
  },
  {
   "cell_type": "code",
   "execution_count": 7,
   "id": "bbe04d1c",
   "metadata": {
    "execution": {
     "iopub.execute_input": "2023-03-06T12:28:18.336090Z",
     "iopub.status.busy": "2023-03-06T12:28:18.335503Z",
     "iopub.status.idle": "2023-03-06T12:28:24.318801Z",
     "shell.execute_reply": "2023-03-06T12:28:24.317858Z"
    }
   },
   "outputs": [
    {
     "name": "stdout",
     "output_type": "stream",
     "text": [
      "73.7 ns ± 2.62 ns per loop (mean ± std. dev. of 7 runs, 10,000,000 loops each)\n"
     ]
    }
   ],
   "source": [
    "%timeit t.a = new_value"
   ]
  },
  {
   "cell_type": "markdown",
   "id": "48c49731",
   "metadata": {},
   "source": [
    "### Tianshou Batch's Get and Set"
   ]
  },
  {
   "cell_type": "code",
   "execution_count": 8,
   "id": "f1bb14c1",
   "metadata": {
    "execution": {
     "iopub.execute_input": "2023-03-06T12:28:24.322477Z",
     "iopub.status.busy": "2023-03-06T12:28:24.322128Z",
     "iopub.status.idle": "2023-03-06T12:28:24.770058Z",
     "shell.execute_reply": "2023-03-06T12:28:24.769117Z"
    }
   },
   "outputs": [],
   "source": [
    "from tianshou.data import Batch\n",
    "\n",
    "b = Batch(**_TREE_DATA_2)"
   ]
  },
  {
   "cell_type": "code",
   "execution_count": 9,
   "id": "cb0777c3",
   "metadata": {
    "execution": {
     "iopub.execute_input": "2023-03-06T12:28:24.774279Z",
     "iopub.status.busy": "2023-03-06T12:28:24.773558Z",
     "iopub.status.idle": "2023-03-06T12:28:24.783745Z",
     "shell.execute_reply": "2023-03-06T12:28:24.782539Z"
    }
   },
   "outputs": [
    {
     "data": {
      "text/plain": [
       "Batch(\n",
       "    a: tensor([[ 0.2408,  0.3960,  2.2436],\n",
       "               [ 0.3124,  1.3141, -0.7231]]),\n",
       "    x: Batch(\n",
       "           c: tensor([[ 0.9380, -0.0145, -0.3961,  2.7245],\n",
       "                      [ 0.6035, -0.6274, -0.5217, -0.6471],\n",
       "                      [-0.4517,  0.7708,  0.4864, -0.8005]]),\n",
       "       ),\n",
       ")"
      ]
     },
     "execution_count": 9,
     "metadata": {},
     "output_type": "execute_result"
    }
   ],
   "source": [
    "b"
   ]
  },
  {
   "cell_type": "code",
   "execution_count": 10,
   "id": "43ef8ea3",
   "metadata": {
    "execution": {
     "iopub.execute_input": "2023-03-06T12:28:24.787815Z",
     "iopub.status.busy": "2023-03-06T12:28:24.787549Z",
     "iopub.status.idle": "2023-03-06T12:28:24.794644Z",
     "shell.execute_reply": "2023-03-06T12:28:24.793729Z"
    }
   },
   "outputs": [
    {
     "data": {
      "text/plain": [
       "tensor([[ 0.2408,  0.3960,  2.2436],\n",
       "        [ 0.3124,  1.3141, -0.7231]])"
      ]
     },
     "execution_count": 10,
     "metadata": {},
     "output_type": "execute_result"
    }
   ],
   "source": [
    "b.a"
   ]
  },
  {
   "cell_type": "code",
   "execution_count": 11,
   "id": "b785ab72",
   "metadata": {
    "execution": {
     "iopub.execute_input": "2023-03-06T12:28:24.797618Z",
     "iopub.status.busy": "2023-03-06T12:28:24.797338Z",
     "iopub.status.idle": "2023-03-06T12:28:30.435975Z",
     "shell.execute_reply": "2023-03-06T12:28:30.434982Z"
    }
   },
   "outputs": [
    {
     "name": "stdout",
     "output_type": "stream",
     "text": [
      "70.1 ns ± 1.23 ns per loop (mean ± std. dev. of 7 runs, 10,000,000 loops each)\n"
     ]
    }
   ],
   "source": [
    "%timeit b.a"
   ]
  },
  {
   "cell_type": "code",
   "execution_count": 12,
   "id": "ad54dc69",
   "metadata": {
    "execution": {
     "iopub.execute_input": "2023-03-06T12:28:30.440079Z",
     "iopub.status.busy": "2023-03-06T12:28:30.439574Z",
     "iopub.status.idle": "2023-03-06T12:28:30.447935Z",
     "shell.execute_reply": "2023-03-06T12:28:30.446879Z"
    }
   },
   "outputs": [
    {
     "data": {
      "text/plain": [
       "Batch(\n",
       "    a: tensor([[-0.9382, -0.8292, -0.5702],\n",
       "               [-0.7136,  0.1011, -0.4145]]),\n",
       "    x: Batch(\n",
       "           c: tensor([[ 0.9380, -0.0145, -0.3961,  2.7245],\n",
       "                      [ 0.6035, -0.6274, -0.5217, -0.6471],\n",
       "                      [-0.4517,  0.7708,  0.4864, -0.8005]]),\n",
       "       ),\n",
       ")"
      ]
     },
     "execution_count": 12,
     "metadata": {},
     "output_type": "execute_result"
    }
   ],
   "source": [
    "new_value = torch.randn(2, 3)\n",
    "b.a = new_value\n",
    "\n",
    "b"
   ]
  },
  {
   "cell_type": "code",
   "execution_count": 13,
   "id": "29b1d0bf",
   "metadata": {
    "execution": {
     "iopub.execute_input": "2023-03-06T12:28:30.450924Z",
     "iopub.status.busy": "2023-03-06T12:28:30.450653Z",
     "iopub.status.idle": "2023-03-06T12:28:35.336008Z",
     "shell.execute_reply": "2023-03-06T12:28:35.335010Z"
    }
   },
   "outputs": [
    {
     "name": "stdout",
     "output_type": "stream",
     "text": [
      "593 ns ± 22.1 ns per loop (mean ± std. dev. of 7 runs, 1,000,000 loops each)\n"
     ]
    }
   ],
   "source": [
    "%timeit b.a = new_value"
   ]
  },
  {
   "cell_type": "markdown",
   "id": "b61ad1d0",
   "metadata": {},
   "source": [
    "## Initialization"
   ]
  },
  {
   "cell_type": "markdown",
   "id": "d70f0d54",
   "metadata": {},
   "source": [
    "### TreeValue's Initialization"
   ]
  },
  {
   "cell_type": "code",
   "execution_count": 14,
   "id": "d32a679b",
   "metadata": {
    "execution": {
     "iopub.execute_input": "2023-03-06T12:28:35.339428Z",
     "iopub.status.busy": "2023-03-06T12:28:35.339165Z",
     "iopub.status.idle": "2023-03-06T12:28:43.051087Z",
     "shell.execute_reply": "2023-03-06T12:28:43.050014Z"
    }
   },
   "outputs": [
    {
     "name": "stdout",
     "output_type": "stream",
     "text": [
      "955 ns ± 21.8 ns per loop (mean ± std. dev. of 7 runs, 1,000,000 loops each)\n"
     ]
    }
   ],
   "source": [
    "%timeit FastTreeValue(_TREE_DATA_1)"
   ]
  },
  {
   "cell_type": "markdown",
   "id": "24f3707b",
   "metadata": {},
   "source": [
    "### Tianshou Batch's Initialization"
   ]
  },
  {
   "cell_type": "code",
   "execution_count": 15,
   "id": "ac3958df",
   "metadata": {
    "execution": {
     "iopub.execute_input": "2023-03-06T12:28:43.055124Z",
     "iopub.status.busy": "2023-03-06T12:28:43.054529Z",
     "iopub.status.idle": "2023-03-06T12:28:53.066588Z",
     "shell.execute_reply": "2023-03-06T12:28:53.065404Z"
    }
   },
   "outputs": [
    {
     "name": "stdout",
     "output_type": "stream",
     "text": [
      "12.3 µs ± 263 ns per loop (mean ± std. dev. of 7 runs, 100,000 loops each)\n"
     ]
    }
   ],
   "source": [
    "%timeit Batch(**_TREE_DATA_1)"
   ]
  },
  {
   "cell_type": "markdown",
   "id": "1ab82e2d",
   "metadata": {},
   "source": [
    "## Deep Copy Operation"
   ]
  },
  {
   "cell_type": "code",
   "execution_count": 16,
   "id": "210a9442",
   "metadata": {
    "execution": {
     "iopub.execute_input": "2023-03-06T12:28:53.070462Z",
     "iopub.status.busy": "2023-03-06T12:28:53.070151Z",
     "iopub.status.idle": "2023-03-06T12:28:53.074520Z",
     "shell.execute_reply": "2023-03-06T12:28:53.073702Z"
    }
   },
   "outputs": [],
   "source": [
    "import copy"
   ]
  },
  {
   "cell_type": "markdown",
   "id": "5a736274",
   "metadata": {},
   "source": [
    "### Deep Copy of TreeValue"
   ]
  },
  {
   "cell_type": "code",
   "execution_count": 17,
   "id": "f9bcadd6",
   "metadata": {
    "execution": {
     "iopub.execute_input": "2023-03-06T12:28:53.077986Z",
     "iopub.status.busy": "2023-03-06T12:28:53.077707Z",
     "iopub.status.idle": "2023-03-06T12:28:55.150778Z",
     "shell.execute_reply": "2023-03-06T12:28:55.149730Z"
    }
   },
   "outputs": [
    {
     "name": "stdout",
     "output_type": "stream",
     "text": [
      "256 µs ± 19.5 µs per loop (mean ± std. dev. of 7 runs, 1,000 loops each)\n"
     ]
    }
   ],
   "source": [
    "t3 = FastTreeValue(_TREE_DATA_3)\n",
    "%timeit copy.deepcopy(t3)"
   ]
  },
  {
   "cell_type": "markdown",
   "id": "bf8be7ea",
   "metadata": {},
   "source": [
    "### Deep Copy of Tianshou Batch"
   ]
  },
  {
   "cell_type": "code",
   "execution_count": 18,
   "id": "91998e6f",
   "metadata": {
    "execution": {
     "iopub.execute_input": "2023-03-06T12:28:55.154265Z",
     "iopub.status.busy": "2023-03-06T12:28:55.153660Z",
     "iopub.status.idle": "2023-03-06T12:28:57.162067Z",
     "shell.execute_reply": "2023-03-06T12:28:57.160420Z"
    }
   },
   "outputs": [
    {
     "name": "stdout",
     "output_type": "stream",
     "text": [
      "247 µs ± 4.84 µs per loop (mean ± std. dev. of 7 runs, 1,000 loops each)\n"
     ]
    }
   ],
   "source": [
    "b3 = Batch(**_TREE_DATA_3)\n",
    "%timeit copy.deepcopy(b3)"
   ]
  },
  {
   "cell_type": "markdown",
   "id": "223162fb",
   "metadata": {},
   "source": [
    "## Stack, Concat and Split Operation"
   ]
  },
  {
   "cell_type": "markdown",
   "id": "85fa4a73",
   "metadata": {},
   "source": [
    "### Performance of TreeValue"
   ]
  },
  {
   "cell_type": "code",
   "execution_count": 19,
   "id": "a0c2b697",
   "metadata": {
    "execution": {
     "iopub.execute_input": "2023-03-06T12:28:57.165694Z",
     "iopub.status.busy": "2023-03-06T12:28:57.165087Z",
     "iopub.status.idle": "2023-03-06T12:28:57.170191Z",
     "shell.execute_reply": "2023-03-06T12:28:57.169172Z"
    }
   },
   "outputs": [],
   "source": [
    "trees = [FastTreeValue(_TREE_DATA_2) for _ in range(8)]"
   ]
  },
  {
   "cell_type": "code",
   "execution_count": 20,
   "id": "017ea5a5",
   "metadata": {
    "execution": {
     "iopub.execute_input": "2023-03-06T12:28:57.173433Z",
     "iopub.status.busy": "2023-03-06T12:28:57.173170Z",
     "iopub.status.idle": "2023-03-06T12:28:57.181711Z",
     "shell.execute_reply": "2023-03-06T12:28:57.180698Z"
    }
   },
   "outputs": [
    {
     "data": {
      "text/plain": [
       "<FastTreeValue 0x7f56ee4f6f70>\n",
       "├── 'a' --> tensor([[[ 0.2408,  0.3960,  2.2436],\n",
       "│                    [ 0.3124,  1.3141, -0.7231]],\n",
       "│           \n",
       "│                   [[ 0.2408,  0.3960,  2.2436],\n",
       "│                    [ 0.3124,  1.3141, -0.7231]],\n",
       "│           \n",
       "│                   [[ 0.2408,  0.3960,  2.2436],\n",
       "│                    [ 0.3124,  1.3141, -0.7231]],\n",
       "│           \n",
       "│                   [[ 0.2408,  0.3960,  2.2436],\n",
       "│                    [ 0.3124,  1.3141, -0.7231]],\n",
       "│           \n",
       "│                   [[ 0.2408,  0.3960,  2.2436],\n",
       "│                    [ 0.3124,  1.3141, -0.7231]],\n",
       "│           \n",
       "│                   [[ 0.2408,  0.3960,  2.2436],\n",
       "│                    [ 0.3124,  1.3141, -0.7231]],\n",
       "│           \n",
       "│                   [[ 0.2408,  0.3960,  2.2436],\n",
       "│                    [ 0.3124,  1.3141, -0.7231]],\n",
       "│           \n",
       "│                   [[ 0.2408,  0.3960,  2.2436],\n",
       "│                    [ 0.3124,  1.3141, -0.7231]]])\n",
       "└── 'x' --> <FastTreeValue 0x7f56ee4f6fa0>\n",
       "    └── 'c' --> tensor([[[ 0.9380, -0.0145, -0.3961,  2.7245],\n",
       "                         [ 0.6035, -0.6274, -0.5217, -0.6471],\n",
       "                         [-0.4517,  0.7708,  0.4864, -0.8005]],\n",
       "                \n",
       "                        [[ 0.9380, -0.0145, -0.3961,  2.7245],\n",
       "                         [ 0.6035, -0.6274, -0.5217, -0.6471],\n",
       "                         [-0.4517,  0.7708,  0.4864, -0.8005]],\n",
       "                \n",
       "                        [[ 0.9380, -0.0145, -0.3961,  2.7245],\n",
       "                         [ 0.6035, -0.6274, -0.5217, -0.6471],\n",
       "                         [-0.4517,  0.7708,  0.4864, -0.8005]],\n",
       "                \n",
       "                        [[ 0.9380, -0.0145, -0.3961,  2.7245],\n",
       "                         [ 0.6035, -0.6274, -0.5217, -0.6471],\n",
       "                         [-0.4517,  0.7708,  0.4864, -0.8005]],\n",
       "                \n",
       "                        [[ 0.9380, -0.0145, -0.3961,  2.7245],\n",
       "                         [ 0.6035, -0.6274, -0.5217, -0.6471],\n",
       "                         [-0.4517,  0.7708,  0.4864, -0.8005]],\n",
       "                \n",
       "                        [[ 0.9380, -0.0145, -0.3961,  2.7245],\n",
       "                         [ 0.6035, -0.6274, -0.5217, -0.6471],\n",
       "                         [-0.4517,  0.7708,  0.4864, -0.8005]],\n",
       "                \n",
       "                        [[ 0.9380, -0.0145, -0.3961,  2.7245],\n",
       "                         [ 0.6035, -0.6274, -0.5217, -0.6471],\n",
       "                         [-0.4517,  0.7708,  0.4864, -0.8005]],\n",
       "                \n",
       "                        [[ 0.9380, -0.0145, -0.3961,  2.7245],\n",
       "                         [ 0.6035, -0.6274, -0.5217, -0.6471],\n",
       "                         [-0.4517,  0.7708,  0.4864, -0.8005]]])"
      ]
     },
     "execution_count": 20,
     "metadata": {},
     "output_type": "execute_result"
    }
   ],
   "source": [
    "t_stack = FastTreeValue.func(subside=True)(torch.stack)\n",
    "\n",
    "t_stack(trees)"
   ]
  },
  {
   "cell_type": "code",
   "execution_count": 21,
   "id": "f8b3f415",
   "metadata": {
    "execution": {
     "iopub.execute_input": "2023-03-06T12:28:57.184730Z",
     "iopub.status.busy": "2023-03-06T12:28:57.184481Z",
     "iopub.status.idle": "2023-03-06T12:29:00.829655Z",
     "shell.execute_reply": "2023-03-06T12:29:00.828703Z"
    }
   },
   "outputs": [
    {
     "name": "stdout",
     "output_type": "stream",
     "text": [
      "45.2 µs ± 1.82 µs per loop (mean ± std. dev. of 7 runs, 10,000 loops each)\n"
     ]
    }
   ],
   "source": [
    "%timeit t_stack(trees)"
   ]
  },
  {
   "cell_type": "code",
   "execution_count": 22,
   "id": "94b56771",
   "metadata": {
    "execution": {
     "iopub.execute_input": "2023-03-06T12:29:00.833427Z",
     "iopub.status.busy": "2023-03-06T12:29:00.833120Z",
     "iopub.status.idle": "2023-03-06T12:29:00.844684Z",
     "shell.execute_reply": "2023-03-06T12:29:00.843282Z"
    }
   },
   "outputs": [
    {
     "data": {
      "text/plain": [
       "<FastTreeValue 0x7f56ee4f6f10>\n",
       "├── 'a' --> tensor([[ 0.2408,  0.3960,  2.2436],\n",
       "│                   [ 0.3124,  1.3141, -0.7231],\n",
       "│                   [ 0.2408,  0.3960,  2.2436],\n",
       "│                   [ 0.3124,  1.3141, -0.7231],\n",
       "│                   [ 0.2408,  0.3960,  2.2436],\n",
       "│                   [ 0.3124,  1.3141, -0.7231],\n",
       "│                   [ 0.2408,  0.3960,  2.2436],\n",
       "│                   [ 0.3124,  1.3141, -0.7231],\n",
       "│                   [ 0.2408,  0.3960,  2.2436],\n",
       "│                   [ 0.3124,  1.3141, -0.7231],\n",
       "│                   [ 0.2408,  0.3960,  2.2436],\n",
       "│                   [ 0.3124,  1.3141, -0.7231],\n",
       "│                   [ 0.2408,  0.3960,  2.2436],\n",
       "│                   [ 0.3124,  1.3141, -0.7231],\n",
       "│                   [ 0.2408,  0.3960,  2.2436],\n",
       "│                   [ 0.3124,  1.3141, -0.7231]])\n",
       "└── 'x' --> <FastTreeValue 0x7f57a42844c0>\n",
       "    └── 'c' --> tensor([[ 0.9380, -0.0145, -0.3961,  2.7245],\n",
       "                        [ 0.6035, -0.6274, -0.5217, -0.6471],\n",
       "                        [-0.4517,  0.7708,  0.4864, -0.8005],\n",
       "                        [ 0.9380, -0.0145, -0.3961,  2.7245],\n",
       "                        [ 0.6035, -0.6274, -0.5217, -0.6471],\n",
       "                        [-0.4517,  0.7708,  0.4864, -0.8005],\n",
       "                        [ 0.9380, -0.0145, -0.3961,  2.7245],\n",
       "                        [ 0.6035, -0.6274, -0.5217, -0.6471],\n",
       "                        [-0.4517,  0.7708,  0.4864, -0.8005],\n",
       "                        [ 0.9380, -0.0145, -0.3961,  2.7245],\n",
       "                        [ 0.6035, -0.6274, -0.5217, -0.6471],\n",
       "                        [-0.4517,  0.7708,  0.4864, -0.8005],\n",
       "                        [ 0.9380, -0.0145, -0.3961,  2.7245],\n",
       "                        [ 0.6035, -0.6274, -0.5217, -0.6471],\n",
       "                        [-0.4517,  0.7708,  0.4864, -0.8005],\n",
       "                        [ 0.9380, -0.0145, -0.3961,  2.7245],\n",
       "                        [ 0.6035, -0.6274, -0.5217, -0.6471],\n",
       "                        [-0.4517,  0.7708,  0.4864, -0.8005],\n",
       "                        [ 0.9380, -0.0145, -0.3961,  2.7245],\n",
       "                        [ 0.6035, -0.6274, -0.5217, -0.6471],\n",
       "                        [-0.4517,  0.7708,  0.4864, -0.8005],\n",
       "                        [ 0.9380, -0.0145, -0.3961,  2.7245],\n",
       "                        [ 0.6035, -0.6274, -0.5217, -0.6471],\n",
       "                        [-0.4517,  0.7708,  0.4864, -0.8005]])"
      ]
     },
     "execution_count": 22,
     "metadata": {},
     "output_type": "execute_result"
    }
   ],
   "source": [
    "t_cat = FastTreeValue.func(subside=True)(torch.cat)\n",
    "\n",
    "t_cat(trees)"
   ]
  },
  {
   "cell_type": "code",
   "execution_count": 23,
   "id": "5e9c06a6",
   "metadata": {
    "execution": {
     "iopub.execute_input": "2023-03-06T12:29:00.848993Z",
     "iopub.status.busy": "2023-03-06T12:29:00.848604Z",
     "iopub.status.idle": "2023-03-06T12:29:04.052951Z",
     "shell.execute_reply": "2023-03-06T12:29:04.051875Z"
    }
   },
   "outputs": [
    {
     "name": "stdout",
     "output_type": "stream",
     "text": [
      "39.2 µs ± 711 ns per loop (mean ± std. dev. of 7 runs, 10,000 loops each)\n"
     ]
    }
   ],
   "source": [
    "%timeit t_cat(trees)"
   ]
  },
  {
   "cell_type": "code",
   "execution_count": 24,
   "id": "a3ab5c8f",
   "metadata": {
    "execution": {
     "iopub.execute_input": "2023-03-06T12:29:04.056679Z",
     "iopub.status.busy": "2023-03-06T12:29:04.056396Z",
     "iopub.status.idle": "2023-03-06T12:29:10.018672Z",
     "shell.execute_reply": "2023-03-06T12:29:10.017675Z"
    }
   },
   "outputs": [
    {
     "name": "stdout",
     "output_type": "stream",
     "text": [
      "73.5 µs ± 1.71 µs per loop (mean ± std. dev. of 7 runs, 10,000 loops each)\n"
     ]
    }
   ],
   "source": [
    "t_split = FastTreeValue.func(rise=True)(torch.split)\n",
    "tree = FastTreeValue({\n",
    "    'obs': torch.randn(8, 4, 84, 84),\n",
    "    'action': torch.randint(0, 6, size=(8, 1,)),\n",
    "    'reward': torch.rand(8, 1),\n",
    "})\n",
    "\n",
    "%timeit t_split(tree, 1)"
   ]
  },
  {
   "cell_type": "markdown",
   "id": "31c3ec0b",
   "metadata": {},
   "source": [
    "### Performance of Tianshou Batch"
   ]
  },
  {
   "cell_type": "code",
   "execution_count": 25,
   "id": "9ead828a",
   "metadata": {
    "execution": {
     "iopub.execute_input": "2023-03-06T12:29:10.023101Z",
     "iopub.status.busy": "2023-03-06T12:29:10.022441Z",
     "iopub.status.idle": "2023-03-06T12:29:10.032371Z",
     "shell.execute_reply": "2023-03-06T12:29:10.031627Z"
    }
   },
   "outputs": [
    {
     "data": {
      "text/plain": [
       "Batch(\n",
       "    a: tensor([[[ 0.2408,  0.3960,  2.2436],\n",
       "                [ 0.3124,  1.3141, -0.7231]],\n",
       "       \n",
       "               [[ 0.2408,  0.3960,  2.2436],\n",
       "                [ 0.3124,  1.3141, -0.7231]],\n",
       "       \n",
       "               [[ 0.2408,  0.3960,  2.2436],\n",
       "                [ 0.3124,  1.3141, -0.7231]],\n",
       "       \n",
       "               [[ 0.2408,  0.3960,  2.2436],\n",
       "                [ 0.3124,  1.3141, -0.7231]],\n",
       "       \n",
       "               [[ 0.2408,  0.3960,  2.2436],\n",
       "                [ 0.3124,  1.3141, -0.7231]],\n",
       "       \n",
       "               [[ 0.2408,  0.3960,  2.2436],\n",
       "                [ 0.3124,  1.3141, -0.7231]],\n",
       "       \n",
       "               [[ 0.2408,  0.3960,  2.2436],\n",
       "                [ 0.3124,  1.3141, -0.7231]],\n",
       "       \n",
       "               [[ 0.2408,  0.3960,  2.2436],\n",
       "                [ 0.3124,  1.3141, -0.7231]]]),\n",
       "    x: Batch(\n",
       "           c: tensor([[[ 0.9380, -0.0145, -0.3961,  2.7245],\n",
       "                       [ 0.6035, -0.6274, -0.5217, -0.6471],\n",
       "                       [-0.4517,  0.7708,  0.4864, -0.8005]],\n",
       "              \n",
       "                      [[ 0.9380, -0.0145, -0.3961,  2.7245],\n",
       "                       [ 0.6035, -0.6274, -0.5217, -0.6471],\n",
       "                       [-0.4517,  0.7708,  0.4864, -0.8005]],\n",
       "              \n",
       "                      [[ 0.9380, -0.0145, -0.3961,  2.7245],\n",
       "                       [ 0.6035, -0.6274, -0.5217, -0.6471],\n",
       "                       [-0.4517,  0.7708,  0.4864, -0.8005]],\n",
       "              \n",
       "                      [[ 0.9380, -0.0145, -0.3961,  2.7245],\n",
       "                       [ 0.6035, -0.6274, -0.5217, -0.6471],\n",
       "                       [-0.4517,  0.7708,  0.4864, -0.8005]],\n",
       "              \n",
       "                      [[ 0.9380, -0.0145, -0.3961,  2.7245],\n",
       "                       [ 0.6035, -0.6274, -0.5217, -0.6471],\n",
       "                       [-0.4517,  0.7708,  0.4864, -0.8005]],\n",
       "              \n",
       "                      [[ 0.9380, -0.0145, -0.3961,  2.7245],\n",
       "                       [ 0.6035, -0.6274, -0.5217, -0.6471],\n",
       "                       [-0.4517,  0.7708,  0.4864, -0.8005]],\n",
       "              \n",
       "                      [[ 0.9380, -0.0145, -0.3961,  2.7245],\n",
       "                       [ 0.6035, -0.6274, -0.5217, -0.6471],\n",
       "                       [-0.4517,  0.7708,  0.4864, -0.8005]],\n",
       "              \n",
       "                      [[ 0.9380, -0.0145, -0.3961,  2.7245],\n",
       "                       [ 0.6035, -0.6274, -0.5217, -0.6471],\n",
       "                       [-0.4517,  0.7708,  0.4864, -0.8005]]]),\n",
       "       ),\n",
       ")"
      ]
     },
     "execution_count": 25,
     "metadata": {},
     "output_type": "execute_result"
    }
   ],
   "source": [
    "batches = [Batch(**_TREE_DATA_2) for _ in range(8)]\n",
    "\n",
    "Batch.stack(batches)"
   ]
  },
  {
   "cell_type": "code",
   "execution_count": 26,
   "id": "ec9037a3",
   "metadata": {
    "execution": {
     "iopub.execute_input": "2023-03-06T12:29:10.036356Z",
     "iopub.status.busy": "2023-03-06T12:29:10.035872Z",
     "iopub.status.idle": "2023-03-06T12:29:18.166274Z",
     "shell.execute_reply": "2023-03-06T12:29:18.165316Z"
    }
   },
   "outputs": [
    {
     "name": "stdout",
     "output_type": "stream",
     "text": [
      "101 µs ± 3.02 µs per loop (mean ± std. dev. of 7 runs, 10,000 loops each)\n"
     ]
    }
   ],
   "source": [
    "%timeit Batch.stack(batches)"
   ]
  },
  {
   "cell_type": "code",
   "execution_count": 27,
   "id": "cb8ab77e",
   "metadata": {
    "execution": {
     "iopub.execute_input": "2023-03-06T12:29:18.170511Z",
     "iopub.status.busy": "2023-03-06T12:29:18.169950Z",
     "iopub.status.idle": "2023-03-06T12:29:18.178463Z",
     "shell.execute_reply": "2023-03-06T12:29:18.177367Z"
    }
   },
   "outputs": [
    {
     "data": {
      "text/plain": [
       "Batch(\n",
       "    a: tensor([[ 0.2408,  0.3960,  2.2436],\n",
       "               [ 0.3124,  1.3141, -0.7231],\n",
       "               [ 0.2408,  0.3960,  2.2436],\n",
       "               [ 0.3124,  1.3141, -0.7231],\n",
       "               [ 0.2408,  0.3960,  2.2436],\n",
       "               [ 0.3124,  1.3141, -0.7231],\n",
       "               [ 0.2408,  0.3960,  2.2436],\n",
       "               [ 0.3124,  1.3141, -0.7231],\n",
       "               [ 0.2408,  0.3960,  2.2436],\n",
       "               [ 0.3124,  1.3141, -0.7231],\n",
       "               [ 0.2408,  0.3960,  2.2436],\n",
       "               [ 0.3124,  1.3141, -0.7231],\n",
       "               [ 0.2408,  0.3960,  2.2436],\n",
       "               [ 0.3124,  1.3141, -0.7231],\n",
       "               [ 0.2408,  0.3960,  2.2436],\n",
       "               [ 0.3124,  1.3141, -0.7231]]),\n",
       "    x: Batch(\n",
       "           c: tensor([[ 0.9380, -0.0145, -0.3961,  2.7245],\n",
       "                      [ 0.6035, -0.6274, -0.5217, -0.6471],\n",
       "                      [-0.4517,  0.7708,  0.4864, -0.8005],\n",
       "                      [ 0.9380, -0.0145, -0.3961,  2.7245],\n",
       "                      [ 0.6035, -0.6274, -0.5217, -0.6471],\n",
       "                      [-0.4517,  0.7708,  0.4864, -0.8005],\n",
       "                      [ 0.9380, -0.0145, -0.3961,  2.7245],\n",
       "                      [ 0.6035, -0.6274, -0.5217, -0.6471],\n",
       "                      [-0.4517,  0.7708,  0.4864, -0.8005],\n",
       "                      [ 0.9380, -0.0145, -0.3961,  2.7245],\n",
       "                      [ 0.6035, -0.6274, -0.5217, -0.6471],\n",
       "                      [-0.4517,  0.7708,  0.4864, -0.8005],\n",
       "                      [ 0.9380, -0.0145, -0.3961,  2.7245],\n",
       "                      [ 0.6035, -0.6274, -0.5217, -0.6471],\n",
       "                      [-0.4517,  0.7708,  0.4864, -0.8005],\n",
       "                      [ 0.9380, -0.0145, -0.3961,  2.7245],\n",
       "                      [ 0.6035, -0.6274, -0.5217, -0.6471],\n",
       "                      [-0.4517,  0.7708,  0.4864, -0.8005],\n",
       "                      [ 0.9380, -0.0145, -0.3961,  2.7245],\n",
       "                      [ 0.6035, -0.6274, -0.5217, -0.6471],\n",
       "                      [-0.4517,  0.7708,  0.4864, -0.8005],\n",
       "                      [ 0.9380, -0.0145, -0.3961,  2.7245],\n",
       "                      [ 0.6035, -0.6274, -0.5217, -0.6471],\n",
       "                      [-0.4517,  0.7708,  0.4864, -0.8005]]),\n",
       "       ),\n",
       ")"
      ]
     },
     "execution_count": 27,
     "metadata": {},
     "output_type": "execute_result"
    }
   ],
   "source": [
    "Batch.cat(batches)"
   ]
  },
  {
   "cell_type": "code",
   "execution_count": 28,
   "id": "18dfb045",
   "metadata": {
    "execution": {
     "iopub.execute_input": "2023-03-06T12:29:18.181572Z",
     "iopub.status.busy": "2023-03-06T12:29:18.181304Z",
     "iopub.status.idle": "2023-03-06T12:29:32.524645Z",
     "shell.execute_reply": "2023-03-06T12:29:32.523713Z"
    }
   },
   "outputs": [
    {
     "name": "stdout",
     "output_type": "stream",
     "text": [
      "176 µs ± 5.67 µs per loop (mean ± std. dev. of 7 runs, 10,000 loops each)\n"
     ]
    }
   ],
   "source": [
    "%timeit Batch.cat(batches)"
   ]
  },
  {
   "cell_type": "code",
   "execution_count": 29,
   "id": "c6688e51",
   "metadata": {
    "execution": {
     "iopub.execute_input": "2023-03-06T12:29:32.528053Z",
     "iopub.status.busy": "2023-03-06T12:29:32.527438Z",
     "iopub.status.idle": "2023-03-06T12:29:36.998575Z",
     "shell.execute_reply": "2023-03-06T12:29:36.997595Z"
    }
   },
   "outputs": [
    {
     "name": "stdout",
     "output_type": "stream",
     "text": [
      "552 µs ± 10.1 µs per loop (mean ± std. dev. of 7 runs, 1,000 loops each)\n"
     ]
    }
   ],
   "source": [
    "batch = Batch({\n",
    "    'obs': torch.randn(8, 4, 84, 84),\n",
    "    'action': torch.randint(0, 6, size=(8, 1,)),\n",
    "    'reward': torch.rand(8, 1)}\n",
    ")\n",
    "\n",
    "%timeit list(Batch.split(batch, 1, shuffle=False, merge_last=True))"
   ]
  },
  {
   "cell_type": "code",
   "execution_count": null,
   "id": "2539fbd9",
   "metadata": {},
   "outputs": [],
   "source": []
  }
 ],
 "metadata": {
  "kernelspec": {
   "display_name": "Python 3 (ipykernel)",
   "language": "python",
   "name": "python3"
  },
  "language_info": {
   "codemirror_mode": {
    "name": "ipython",
    "version": 3
   },
   "file_extension": ".py",
   "mimetype": "text/x-python",
   "name": "python",
   "nbconvert_exporter": "python",
   "pygments_lexer": "ipython3",
   "version": "3.8.16"
  }
 },
 "nbformat": 4,
 "nbformat_minor": 5
}
