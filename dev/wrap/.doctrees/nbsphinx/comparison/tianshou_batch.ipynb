{
 "cells": [
  {
   "cell_type": "markdown",
   "id": "9d39d946",
   "metadata": {},
   "source": [
    "# Comparison Between TreeValue and Tianshou Batch"
   ]
  },
  {
   "cell_type": "markdown",
   "id": "3c6db2d4",
   "metadata": {},
   "source": [
    "In this section, we will take a look at the feature and performance of the [Tianshou Batch](https://github.com/thu-ml/tianshou) library, which is developed by Tsinghua Machine Learning Group."
   ]
  },
  {
   "cell_type": "markdown",
   "id": "069361b0",
   "metadata": {},
   "source": [
    "Before starting the comparison, let us define some thing."
   ]
  },
  {
   "cell_type": "code",
   "execution_count": 1,
   "id": "06fc8d26",
   "metadata": {
    "execution": {
     "iopub.execute_input": "2023-02-27T10:13:55.022293Z",
     "iopub.status.busy": "2023-02-27T10:13:55.022039Z",
     "iopub.status.idle": "2023-02-27T10:13:55.983387Z",
     "shell.execute_reply": "2023-02-27T10:13:55.982690Z"
    }
   },
   "outputs": [
    {
     "name": "stderr",
     "output_type": "stream",
     "text": [
      "/opt/hostedtoolcache/Python/3.8.16/x64/lib/python3.8/site-packages/tqdm/auto.py:22: TqdmWarning: IProgress not found. Please update jupyter and ipywidgets. See https://ipywidgets.readthedocs.io/en/stable/user_install.html\n",
      "  from .autonotebook import tqdm as notebook_tqdm\n"
     ]
    }
   ],
   "source": [
    "import torch \n",
    "\n",
    "_TREE_DATA_1 = {'a': 1, 'b': 2, 'x': {'c': 3, 'd': 4}}\n",
    "_TREE_DATA_2 = {\n",
    "    'a': torch.randn(2, 3), \n",
    "    'x': {\n",
    "        'c': torch.randn(3, 4)\n",
    "    },\n",
    "}\n",
    "_TREE_DATA_3 = {\n",
    "    'obs': torch.randn(4, 84, 84),\n",
    "    'action': torch.randint(0, 6, size=(1,)),\n",
    "    'reward': torch.rand(1),\n",
    "}"
   ]
  },
  {
   "cell_type": "markdown",
   "id": "83461b25",
   "metadata": {},
   "source": [
    "## Read and Write Operation"
   ]
  },
  {
   "cell_type": "markdown",
   "id": "067b3f73",
   "metadata": {},
   "source": [
    "Reading and writing are the two most common operations in the tree data structure based on the data model (TreeValue and Tianshou Batch both belong to this type), so this section will compare the reading and writing performance of these two libraries."
   ]
  },
  {
   "cell_type": "markdown",
   "id": "5d09a5b7",
   "metadata": {},
   "source": [
    "### TreeValue's Get and Set"
   ]
  },
  {
   "cell_type": "code",
   "execution_count": 2,
   "id": "9519c4bb",
   "metadata": {
    "execution": {
     "iopub.execute_input": "2023-02-27T10:13:55.986904Z",
     "iopub.status.busy": "2023-02-27T10:13:55.986484Z",
     "iopub.status.idle": "2023-02-27T10:13:56.272328Z",
     "shell.execute_reply": "2023-02-27T10:13:56.271624Z"
    }
   },
   "outputs": [],
   "source": [
    "from treevalue import FastTreeValue\n",
    "\n",
    "t = FastTreeValue(_TREE_DATA_2)"
   ]
  },
  {
   "cell_type": "code",
   "execution_count": 3,
   "id": "11c37677",
   "metadata": {
    "execution": {
     "iopub.execute_input": "2023-02-27T10:13:56.276413Z",
     "iopub.status.busy": "2023-02-27T10:13:56.275204Z",
     "iopub.status.idle": "2023-02-27T10:13:56.285423Z",
     "shell.execute_reply": "2023-02-27T10:13:56.284782Z"
    }
   },
   "outputs": [
    {
     "data": {
      "text/plain": [
       "<FastTreeValue 0x7f16e810e550>\n",
       "├── 'a' --> tensor([[-0.1509,  2.1238, -0.8176],\n",
       "│                   [ 0.9425, -0.0636, -0.3239]])\n",
       "└── 'x' --> <FastTreeValue 0x7f16e80f9e80>\n",
       "    └── 'c' --> tensor([[-0.9007,  0.5430, -0.0387, -0.1555],\n",
       "                        [-0.0841,  0.2319,  0.6464, -1.0973],\n",
       "                        [ 0.1694,  0.2925,  1.3997, -0.0962]])"
      ]
     },
     "execution_count": 3,
     "metadata": {},
     "output_type": "execute_result"
    }
   ],
   "source": [
    "t"
   ]
  },
  {
   "cell_type": "code",
   "execution_count": 4,
   "id": "fd70b0b9",
   "metadata": {
    "execution": {
     "iopub.execute_input": "2023-02-27T10:13:56.288444Z",
     "iopub.status.busy": "2023-02-27T10:13:56.288065Z",
     "iopub.status.idle": "2023-02-27T10:13:56.295059Z",
     "shell.execute_reply": "2023-02-27T10:13:56.294459Z"
    }
   },
   "outputs": [
    {
     "data": {
      "text/plain": [
       "tensor([[-0.1509,  2.1238, -0.8176],\n",
       "        [ 0.9425, -0.0636, -0.3239]])"
      ]
     },
     "execution_count": 4,
     "metadata": {},
     "output_type": "execute_result"
    }
   ],
   "source": [
    "t.a"
   ]
  },
  {
   "cell_type": "code",
   "execution_count": 5,
   "id": "c18197bd",
   "metadata": {
    "execution": {
     "iopub.execute_input": "2023-02-27T10:13:56.297968Z",
     "iopub.status.busy": "2023-02-27T10:13:56.297470Z",
     "iopub.status.idle": "2023-02-27T10:14:01.090548Z",
     "shell.execute_reply": "2023-02-27T10:14:01.089843Z"
    }
   },
   "outputs": [
    {
     "name": "stdout",
     "output_type": "stream",
     "text": [
      "58.9 ns ± 0.0612 ns per loop (mean ± std. dev. of 7 runs, 10,000,000 loops each)\n"
     ]
    }
   ],
   "source": [
    "%timeit t.a"
   ]
  },
  {
   "cell_type": "code",
   "execution_count": 6,
   "id": "bd52f867",
   "metadata": {
    "execution": {
     "iopub.execute_input": "2023-02-27T10:14:01.093402Z",
     "iopub.status.busy": "2023-02-27T10:14:01.093055Z",
     "iopub.status.idle": "2023-02-27T10:14:01.099603Z",
     "shell.execute_reply": "2023-02-27T10:14:01.098962Z"
    }
   },
   "outputs": [
    {
     "data": {
      "text/plain": [
       "<FastTreeValue 0x7f16e810e550>\n",
       "├── 'a' --> tensor([[-0.5621,  1.4266,  1.0028],\n",
       "│                   [ 0.9783,  1.4707,  0.1426]])\n",
       "└── 'x' --> <FastTreeValue 0x7f16e80f9e80>\n",
       "    └── 'c' --> tensor([[-0.9007,  0.5430, -0.0387, -0.1555],\n",
       "                        [-0.0841,  0.2319,  0.6464, -1.0973],\n",
       "                        [ 0.1694,  0.2925,  1.3997, -0.0962]])"
      ]
     },
     "execution_count": 6,
     "metadata": {},
     "output_type": "execute_result"
    }
   ],
   "source": [
    "new_value = torch.randn(2, 3)\n",
    "t.a = new_value\n",
    "\n",
    "t"
   ]
  },
  {
   "cell_type": "code",
   "execution_count": 7,
   "id": "bbe04d1c",
   "metadata": {
    "execution": {
     "iopub.execute_input": "2023-02-27T10:14:01.102154Z",
     "iopub.status.busy": "2023-02-27T10:14:01.101639Z",
     "iopub.status.idle": "2023-02-27T10:14:06.057672Z",
     "shell.execute_reply": "2023-02-27T10:14:06.056926Z"
    }
   },
   "outputs": [
    {
     "name": "stdout",
     "output_type": "stream",
     "text": [
      "61.2 ns ± 0.0518 ns per loop (mean ± std. dev. of 7 runs, 10,000,000 loops each)\n"
     ]
    }
   ],
   "source": [
    "%timeit t.a = new_value"
   ]
  },
  {
   "cell_type": "markdown",
   "id": "48c49731",
   "metadata": {},
   "source": [
    "### Tianshou Batch's Get and Set"
   ]
  },
  {
   "cell_type": "code",
   "execution_count": 8,
   "id": "f1bb14c1",
   "metadata": {
    "execution": {
     "iopub.execute_input": "2023-02-27T10:14:06.060490Z",
     "iopub.status.busy": "2023-02-27T10:14:06.060151Z",
     "iopub.status.idle": "2023-02-27T10:14:06.381809Z",
     "shell.execute_reply": "2023-02-27T10:14:06.381153Z"
    }
   },
   "outputs": [],
   "source": [
    "from tianshou.data import Batch\n",
    "\n",
    "b = Batch(**_TREE_DATA_2)"
   ]
  },
  {
   "cell_type": "code",
   "execution_count": 9,
   "id": "cb0777c3",
   "metadata": {
    "execution": {
     "iopub.execute_input": "2023-02-27T10:14:06.385033Z",
     "iopub.status.busy": "2023-02-27T10:14:06.384431Z",
     "iopub.status.idle": "2023-02-27T10:14:06.391032Z",
     "shell.execute_reply": "2023-02-27T10:14:06.389965Z"
    }
   },
   "outputs": [
    {
     "data": {
      "text/plain": [
       "Batch(\n",
       "    a: tensor([[-0.1509,  2.1238, -0.8176],\n",
       "               [ 0.9425, -0.0636, -0.3239]]),\n",
       "    x: Batch(\n",
       "           c: tensor([[-0.9007,  0.5430, -0.0387, -0.1555],\n",
       "                      [-0.0841,  0.2319,  0.6464, -1.0973],\n",
       "                      [ 0.1694,  0.2925,  1.3997, -0.0962]]),\n",
       "       ),\n",
       ")"
      ]
     },
     "execution_count": 9,
     "metadata": {},
     "output_type": "execute_result"
    }
   ],
   "source": [
    "b"
   ]
  },
  {
   "cell_type": "code",
   "execution_count": 10,
   "id": "43ef8ea3",
   "metadata": {
    "execution": {
     "iopub.execute_input": "2023-02-27T10:14:06.393660Z",
     "iopub.status.busy": "2023-02-27T10:14:06.393329Z",
     "iopub.status.idle": "2023-02-27T10:14:06.397921Z",
     "shell.execute_reply": "2023-02-27T10:14:06.397295Z"
    }
   },
   "outputs": [
    {
     "data": {
      "text/plain": [
       "tensor([[-0.1509,  2.1238, -0.8176],\n",
       "        [ 0.9425, -0.0636, -0.3239]])"
      ]
     },
     "execution_count": 10,
     "metadata": {},
     "output_type": "execute_result"
    }
   ],
   "source": [
    "b.a"
   ]
  },
  {
   "cell_type": "code",
   "execution_count": 11,
   "id": "b785ab72",
   "metadata": {
    "execution": {
     "iopub.execute_input": "2023-02-27T10:14:06.400770Z",
     "iopub.status.busy": "2023-02-27T10:14:06.400297Z",
     "iopub.status.idle": "2023-02-27T10:14:10.683929Z",
     "shell.execute_reply": "2023-02-27T10:14:10.683251Z"
    }
   },
   "outputs": [
    {
     "name": "stdout",
     "output_type": "stream",
     "text": [
      "52.7 ns ± 0.0561 ns per loop (mean ± std. dev. of 7 runs, 10,000,000 loops each)\n"
     ]
    }
   ],
   "source": [
    "%timeit b.a"
   ]
  },
  {
   "cell_type": "code",
   "execution_count": 12,
   "id": "ad54dc69",
   "metadata": {
    "execution": {
     "iopub.execute_input": "2023-02-27T10:14:10.687008Z",
     "iopub.status.busy": "2023-02-27T10:14:10.686446Z",
     "iopub.status.idle": "2023-02-27T10:14:10.692743Z",
     "shell.execute_reply": "2023-02-27T10:14:10.692156Z"
    }
   },
   "outputs": [
    {
     "data": {
      "text/plain": [
       "Batch(\n",
       "    a: tensor([[-1.1671,  0.1571,  1.1405],\n",
       "               [-0.0725,  0.8347,  1.2019]]),\n",
       "    x: Batch(\n",
       "           c: tensor([[-0.9007,  0.5430, -0.0387, -0.1555],\n",
       "                      [-0.0841,  0.2319,  0.6464, -1.0973],\n",
       "                      [ 0.1694,  0.2925,  1.3997, -0.0962]]),\n",
       "       ),\n",
       ")"
      ]
     },
     "execution_count": 12,
     "metadata": {},
     "output_type": "execute_result"
    }
   ],
   "source": [
    "new_value = torch.randn(2, 3)\n",
    "b.a = new_value\n",
    "\n",
    "b"
   ]
  },
  {
   "cell_type": "code",
   "execution_count": 13,
   "id": "29b1d0bf",
   "metadata": {
    "execution": {
     "iopub.execute_input": "2023-02-27T10:14:10.695114Z",
     "iopub.status.busy": "2023-02-27T10:14:10.694778Z",
     "iopub.status.idle": "2023-02-27T10:14:14.579518Z",
     "shell.execute_reply": "2023-02-27T10:14:14.578791Z"
    }
   },
   "outputs": [
    {
     "name": "stdout",
     "output_type": "stream",
     "text": [
      "478 ns ± 0.158 ns per loop (mean ± std. dev. of 7 runs, 1,000,000 loops each)\n"
     ]
    }
   ],
   "source": [
    "%timeit b.a = new_value"
   ]
  },
  {
   "cell_type": "markdown",
   "id": "b61ad1d0",
   "metadata": {},
   "source": [
    "## Initialization"
   ]
  },
  {
   "cell_type": "markdown",
   "id": "d70f0d54",
   "metadata": {},
   "source": [
    "### TreeValue's Initialization"
   ]
  },
  {
   "cell_type": "code",
   "execution_count": 14,
   "id": "d32a679b",
   "metadata": {
    "execution": {
     "iopub.execute_input": "2023-02-27T10:14:14.582413Z",
     "iopub.status.busy": "2023-02-27T10:14:14.581856Z",
     "iopub.status.idle": "2023-02-27T10:14:21.331763Z",
     "shell.execute_reply": "2023-02-27T10:14:21.331004Z"
    }
   },
   "outputs": [
    {
     "name": "stdout",
     "output_type": "stream",
     "text": [
      "832 ns ± 9.19 ns per loop (mean ± std. dev. of 7 runs, 1,000,000 loops each)\n"
     ]
    }
   ],
   "source": [
    "%timeit FastTreeValue(_TREE_DATA_1)"
   ]
  },
  {
   "cell_type": "markdown",
   "id": "24f3707b",
   "metadata": {},
   "source": [
    "### Tianshou Batch's Initialization"
   ]
  },
  {
   "cell_type": "code",
   "execution_count": 15,
   "id": "ac3958df",
   "metadata": {
    "execution": {
     "iopub.execute_input": "2023-02-27T10:14:21.334485Z",
     "iopub.status.busy": "2023-02-27T10:14:21.334095Z",
     "iopub.status.idle": "2023-02-27T10:14:30.678946Z",
     "shell.execute_reply": "2023-02-27T10:14:30.678149Z"
    }
   },
   "outputs": [
    {
     "name": "stdout",
     "output_type": "stream",
     "text": [
      "11.5 µs ± 39 ns per loop (mean ± std. dev. of 7 runs, 100,000 loops each)\n"
     ]
    }
   ],
   "source": [
    "%timeit Batch(**_TREE_DATA_1)"
   ]
  },
  {
   "cell_type": "markdown",
   "id": "1ab82e2d",
   "metadata": {},
   "source": [
    "## Deep Copy Operation"
   ]
  },
  {
   "cell_type": "code",
   "execution_count": 16,
   "id": "210a9442",
   "metadata": {
    "execution": {
     "iopub.execute_input": "2023-02-27T10:14:30.682020Z",
     "iopub.status.busy": "2023-02-27T10:14:30.681652Z",
     "iopub.status.idle": "2023-02-27T10:14:30.685743Z",
     "shell.execute_reply": "2023-02-27T10:14:30.685142Z"
    }
   },
   "outputs": [],
   "source": [
    "import copy"
   ]
  },
  {
   "cell_type": "markdown",
   "id": "5a736274",
   "metadata": {},
   "source": [
    "### Deep Copy of TreeValue"
   ]
  },
  {
   "cell_type": "code",
   "execution_count": 17,
   "id": "f9bcadd6",
   "metadata": {
    "execution": {
     "iopub.execute_input": "2023-02-27T10:14:30.688724Z",
     "iopub.status.busy": "2023-02-27T10:14:30.688233Z",
     "iopub.status.idle": "2023-02-27T10:14:41.871306Z",
     "shell.execute_reply": "2023-02-27T10:14:41.870715Z"
    }
   },
   "outputs": [
    {
     "name": "stdout",
     "output_type": "stream",
     "text": [
      "137 µs ± 544 ns per loop (mean ± std. dev. of 7 runs, 10,000 loops each)\n"
     ]
    }
   ],
   "source": [
    "t3 = FastTreeValue(_TREE_DATA_3)\n",
    "%timeit copy.deepcopy(t3)"
   ]
  },
  {
   "cell_type": "markdown",
   "id": "bf8be7ea",
   "metadata": {},
   "source": [
    "### Deep Copy of Tianshou Batch"
   ]
  },
  {
   "cell_type": "code",
   "execution_count": 18,
   "id": "91998e6f",
   "metadata": {
    "execution": {
     "iopub.execute_input": "2023-02-27T10:14:41.875301Z",
     "iopub.status.busy": "2023-02-27T10:14:41.874066Z",
     "iopub.status.idle": "2023-02-27T10:14:53.129375Z",
     "shell.execute_reply": "2023-02-27T10:14:53.128786Z"
    }
   },
   "outputs": [
    {
     "name": "stdout",
     "output_type": "stream",
     "text": [
      "139 µs ± 398 ns per loop (mean ± std. dev. of 7 runs, 10,000 loops each)\n"
     ]
    }
   ],
   "source": [
    "b3 = Batch(**_TREE_DATA_3)\n",
    "%timeit copy.deepcopy(b3)"
   ]
  },
  {
   "cell_type": "markdown",
   "id": "223162fb",
   "metadata": {},
   "source": [
    "## Stack, Concat and Split Operation"
   ]
  },
  {
   "cell_type": "markdown",
   "id": "85fa4a73",
   "metadata": {},
   "source": [
    "### Performance of TreeValue"
   ]
  },
  {
   "cell_type": "code",
   "execution_count": 19,
   "id": "a0c2b697",
   "metadata": {
    "execution": {
     "iopub.execute_input": "2023-02-27T10:14:53.132697Z",
     "iopub.status.busy": "2023-02-27T10:14:53.132182Z",
     "iopub.status.idle": "2023-02-27T10:14:53.136561Z",
     "shell.execute_reply": "2023-02-27T10:14:53.136032Z"
    }
   },
   "outputs": [],
   "source": [
    "trees = [FastTreeValue(_TREE_DATA_2) for _ in range(8)]"
   ]
  },
  {
   "cell_type": "code",
   "execution_count": 20,
   "id": "017ea5a5",
   "metadata": {
    "execution": {
     "iopub.execute_input": "2023-02-27T10:14:53.139508Z",
     "iopub.status.busy": "2023-02-27T10:14:53.139001Z",
     "iopub.status.idle": "2023-02-27T10:14:53.145921Z",
     "shell.execute_reply": "2023-02-27T10:14:53.145413Z"
    }
   },
   "outputs": [
    {
     "data": {
      "text/plain": [
       "<FastTreeValue 0x7f16313d5be0>\n",
       "├── 'a' --> tensor([[[-0.1509,  2.1238, -0.8176],\n",
       "│                    [ 0.9425, -0.0636, -0.3239]],\n",
       "│           \n",
       "│                   [[-0.1509,  2.1238, -0.8176],\n",
       "│                    [ 0.9425, -0.0636, -0.3239]],\n",
       "│           \n",
       "│                   [[-0.1509,  2.1238, -0.8176],\n",
       "│                    [ 0.9425, -0.0636, -0.3239]],\n",
       "│           \n",
       "│                   [[-0.1509,  2.1238, -0.8176],\n",
       "│                    [ 0.9425, -0.0636, -0.3239]],\n",
       "│           \n",
       "│                   [[-0.1509,  2.1238, -0.8176],\n",
       "│                    [ 0.9425, -0.0636, -0.3239]],\n",
       "│           \n",
       "│                   [[-0.1509,  2.1238, -0.8176],\n",
       "│                    [ 0.9425, -0.0636, -0.3239]],\n",
       "│           \n",
       "│                   [[-0.1509,  2.1238, -0.8176],\n",
       "│                    [ 0.9425, -0.0636, -0.3239]],\n",
       "│           \n",
       "│                   [[-0.1509,  2.1238, -0.8176],\n",
       "│                    [ 0.9425, -0.0636, -0.3239]]])\n",
       "└── 'x' --> <FastTreeValue 0x7f16313d5af0>\n",
       "    └── 'c' --> tensor([[[-0.9007,  0.5430, -0.0387, -0.1555],\n",
       "                         [-0.0841,  0.2319,  0.6464, -1.0973],\n",
       "                         [ 0.1694,  0.2925,  1.3997, -0.0962]],\n",
       "                \n",
       "                        [[-0.9007,  0.5430, -0.0387, -0.1555],\n",
       "                         [-0.0841,  0.2319,  0.6464, -1.0973],\n",
       "                         [ 0.1694,  0.2925,  1.3997, -0.0962]],\n",
       "                \n",
       "                        [[-0.9007,  0.5430, -0.0387, -0.1555],\n",
       "                         [-0.0841,  0.2319,  0.6464, -1.0973],\n",
       "                         [ 0.1694,  0.2925,  1.3997, -0.0962]],\n",
       "                \n",
       "                        [[-0.9007,  0.5430, -0.0387, -0.1555],\n",
       "                         [-0.0841,  0.2319,  0.6464, -1.0973],\n",
       "                         [ 0.1694,  0.2925,  1.3997, -0.0962]],\n",
       "                \n",
       "                        [[-0.9007,  0.5430, -0.0387, -0.1555],\n",
       "                         [-0.0841,  0.2319,  0.6464, -1.0973],\n",
       "                         [ 0.1694,  0.2925,  1.3997, -0.0962]],\n",
       "                \n",
       "                        [[-0.9007,  0.5430, -0.0387, -0.1555],\n",
       "                         [-0.0841,  0.2319,  0.6464, -1.0973],\n",
       "                         [ 0.1694,  0.2925,  1.3997, -0.0962]],\n",
       "                \n",
       "                        [[-0.9007,  0.5430, -0.0387, -0.1555],\n",
       "                         [-0.0841,  0.2319,  0.6464, -1.0973],\n",
       "                         [ 0.1694,  0.2925,  1.3997, -0.0962]],\n",
       "                \n",
       "                        [[-0.9007,  0.5430, -0.0387, -0.1555],\n",
       "                         [-0.0841,  0.2319,  0.6464, -1.0973],\n",
       "                         [ 0.1694,  0.2925,  1.3997, -0.0962]]])"
      ]
     },
     "execution_count": 20,
     "metadata": {},
     "output_type": "execute_result"
    }
   ],
   "source": [
    "t_stack = FastTreeValue.func(subside=True)(torch.stack)\n",
    "\n",
    "t_stack(trees)"
   ]
  },
  {
   "cell_type": "code",
   "execution_count": 21,
   "id": "f8b3f415",
   "metadata": {
    "execution": {
     "iopub.execute_input": "2023-02-27T10:14:53.148484Z",
     "iopub.status.busy": "2023-02-27T10:14:53.147903Z",
     "iopub.status.idle": "2023-02-27T10:14:55.800577Z",
     "shell.execute_reply": "2023-02-27T10:14:55.799829Z"
    }
   },
   "outputs": [
    {
     "name": "stdout",
     "output_type": "stream",
     "text": [
      "32.6 µs ± 66.9 ns per loop (mean ± std. dev. of 7 runs, 10,000 loops each)\n"
     ]
    }
   ],
   "source": [
    "%timeit t_stack(trees)"
   ]
  },
  {
   "cell_type": "code",
   "execution_count": 22,
   "id": "94b56771",
   "metadata": {
    "execution": {
     "iopub.execute_input": "2023-02-27T10:14:55.803380Z",
     "iopub.status.busy": "2023-02-27T10:14:55.802953Z",
     "iopub.status.idle": "2023-02-27T10:14:55.810769Z",
     "shell.execute_reply": "2023-02-27T10:14:55.810191Z"
    }
   },
   "outputs": [
    {
     "data": {
      "text/plain": [
       "<FastTreeValue 0x7f16e80a1d60>\n",
       "├── 'a' --> tensor([[-0.1509,  2.1238, -0.8176],\n",
       "│                   [ 0.9425, -0.0636, -0.3239],\n",
       "│                   [-0.1509,  2.1238, -0.8176],\n",
       "│                   [ 0.9425, -0.0636, -0.3239],\n",
       "│                   [-0.1509,  2.1238, -0.8176],\n",
       "│                   [ 0.9425, -0.0636, -0.3239],\n",
       "│                   [-0.1509,  2.1238, -0.8176],\n",
       "│                   [ 0.9425, -0.0636, -0.3239],\n",
       "│                   [-0.1509,  2.1238, -0.8176],\n",
       "│                   [ 0.9425, -0.0636, -0.3239],\n",
       "│                   [-0.1509,  2.1238, -0.8176],\n",
       "│                   [ 0.9425, -0.0636, -0.3239],\n",
       "│                   [-0.1509,  2.1238, -0.8176],\n",
       "│                   [ 0.9425, -0.0636, -0.3239],\n",
       "│                   [-0.1509,  2.1238, -0.8176],\n",
       "│                   [ 0.9425, -0.0636, -0.3239]])\n",
       "└── 'x' --> <FastTreeValue 0x7f16313d5c70>\n",
       "    └── 'c' --> tensor([[-0.9007,  0.5430, -0.0387, -0.1555],\n",
       "                        [-0.0841,  0.2319,  0.6464, -1.0973],\n",
       "                        [ 0.1694,  0.2925,  1.3997, -0.0962],\n",
       "                        [-0.9007,  0.5430, -0.0387, -0.1555],\n",
       "                        [-0.0841,  0.2319,  0.6464, -1.0973],\n",
       "                        [ 0.1694,  0.2925,  1.3997, -0.0962],\n",
       "                        [-0.9007,  0.5430, -0.0387, -0.1555],\n",
       "                        [-0.0841,  0.2319,  0.6464, -1.0973],\n",
       "                        [ 0.1694,  0.2925,  1.3997, -0.0962],\n",
       "                        [-0.9007,  0.5430, -0.0387, -0.1555],\n",
       "                        [-0.0841,  0.2319,  0.6464, -1.0973],\n",
       "                        [ 0.1694,  0.2925,  1.3997, -0.0962],\n",
       "                        [-0.9007,  0.5430, -0.0387, -0.1555],\n",
       "                        [-0.0841,  0.2319,  0.6464, -1.0973],\n",
       "                        [ 0.1694,  0.2925,  1.3997, -0.0962],\n",
       "                        [-0.9007,  0.5430, -0.0387, -0.1555],\n",
       "                        [-0.0841,  0.2319,  0.6464, -1.0973],\n",
       "                        [ 0.1694,  0.2925,  1.3997, -0.0962],\n",
       "                        [-0.9007,  0.5430, -0.0387, -0.1555],\n",
       "                        [-0.0841,  0.2319,  0.6464, -1.0973],\n",
       "                        [ 0.1694,  0.2925,  1.3997, -0.0962],\n",
       "                        [-0.9007,  0.5430, -0.0387, -0.1555],\n",
       "                        [-0.0841,  0.2319,  0.6464, -1.0973],\n",
       "                        [ 0.1694,  0.2925,  1.3997, -0.0962]])"
      ]
     },
     "execution_count": 22,
     "metadata": {},
     "output_type": "execute_result"
    }
   ],
   "source": [
    "t_cat = FastTreeValue.func(subside=True)(torch.cat)\n",
    "\n",
    "t_cat(trees)"
   ]
  },
  {
   "cell_type": "code",
   "execution_count": 23,
   "id": "5e9c06a6",
   "metadata": {
    "execution": {
     "iopub.execute_input": "2023-02-27T10:14:55.813131Z",
     "iopub.status.busy": "2023-02-27T10:14:55.812800Z",
     "iopub.status.idle": "2023-02-27T10:14:58.301194Z",
     "shell.execute_reply": "2023-02-27T10:14:58.300517Z"
    }
   },
   "outputs": [
    {
     "name": "stdout",
     "output_type": "stream",
     "text": [
      "30.5 µs ± 78.4 ns per loop (mean ± std. dev. of 7 runs, 10,000 loops each)\n"
     ]
    }
   ],
   "source": [
    "%timeit t_cat(trees)"
   ]
  },
  {
   "cell_type": "code",
   "execution_count": 24,
   "id": "a3ab5c8f",
   "metadata": {
    "execution": {
     "iopub.execute_input": "2023-02-27T10:14:58.304131Z",
     "iopub.status.busy": "2023-02-27T10:14:58.303790Z",
     "iopub.status.idle": "2023-02-27T10:15:02.958012Z",
     "shell.execute_reply": "2023-02-27T10:15:02.957248Z"
    }
   },
   "outputs": [
    {
     "name": "stdout",
     "output_type": "stream",
     "text": [
      "57.2 µs ± 53.1 ns per loop (mean ± std. dev. of 7 runs, 10,000 loops each)\n"
     ]
    }
   ],
   "source": [
    "t_split = FastTreeValue.func(rise=True)(torch.split)\n",
    "tree = FastTreeValue({\n",
    "    'obs': torch.randn(8, 4, 84, 84),\n",
    "    'action': torch.randint(0, 6, size=(8, 1,)),\n",
    "    'reward': torch.rand(8, 1),\n",
    "})\n",
    "\n",
    "%timeit t_split(tree, 1)"
   ]
  },
  {
   "cell_type": "markdown",
   "id": "31c3ec0b",
   "metadata": {},
   "source": [
    "### Performance of Tianshou Batch"
   ]
  },
  {
   "cell_type": "code",
   "execution_count": 25,
   "id": "9ead828a",
   "metadata": {
    "execution": {
     "iopub.execute_input": "2023-02-27T10:15:02.960948Z",
     "iopub.status.busy": "2023-02-27T10:15:02.960397Z",
     "iopub.status.idle": "2023-02-27T10:15:02.968223Z",
     "shell.execute_reply": "2023-02-27T10:15:02.967617Z"
    }
   },
   "outputs": [
    {
     "data": {
      "text/plain": [
       "Batch(\n",
       "    a: tensor([[[-0.1509,  2.1238, -0.8176],\n",
       "                [ 0.9425, -0.0636, -0.3239]],\n",
       "       \n",
       "               [[-0.1509,  2.1238, -0.8176],\n",
       "                [ 0.9425, -0.0636, -0.3239]],\n",
       "       \n",
       "               [[-0.1509,  2.1238, -0.8176],\n",
       "                [ 0.9425, -0.0636, -0.3239]],\n",
       "       \n",
       "               [[-0.1509,  2.1238, -0.8176],\n",
       "                [ 0.9425, -0.0636, -0.3239]],\n",
       "       \n",
       "               [[-0.1509,  2.1238, -0.8176],\n",
       "                [ 0.9425, -0.0636, -0.3239]],\n",
       "       \n",
       "               [[-0.1509,  2.1238, -0.8176],\n",
       "                [ 0.9425, -0.0636, -0.3239]],\n",
       "       \n",
       "               [[-0.1509,  2.1238, -0.8176],\n",
       "                [ 0.9425, -0.0636, -0.3239]],\n",
       "       \n",
       "               [[-0.1509,  2.1238, -0.8176],\n",
       "                [ 0.9425, -0.0636, -0.3239]]]),\n",
       "    x: Batch(\n",
       "           c: tensor([[[-0.9007,  0.5430, -0.0387, -0.1555],\n",
       "                       [-0.0841,  0.2319,  0.6464, -1.0973],\n",
       "                       [ 0.1694,  0.2925,  1.3997, -0.0962]],\n",
       "              \n",
       "                      [[-0.9007,  0.5430, -0.0387, -0.1555],\n",
       "                       [-0.0841,  0.2319,  0.6464, -1.0973],\n",
       "                       [ 0.1694,  0.2925,  1.3997, -0.0962]],\n",
       "              \n",
       "                      [[-0.9007,  0.5430, -0.0387, -0.1555],\n",
       "                       [-0.0841,  0.2319,  0.6464, -1.0973],\n",
       "                       [ 0.1694,  0.2925,  1.3997, -0.0962]],\n",
       "              \n",
       "                      [[-0.9007,  0.5430, -0.0387, -0.1555],\n",
       "                       [-0.0841,  0.2319,  0.6464, -1.0973],\n",
       "                       [ 0.1694,  0.2925,  1.3997, -0.0962]],\n",
       "              \n",
       "                      [[-0.9007,  0.5430, -0.0387, -0.1555],\n",
       "                       [-0.0841,  0.2319,  0.6464, -1.0973],\n",
       "                       [ 0.1694,  0.2925,  1.3997, -0.0962]],\n",
       "              \n",
       "                      [[-0.9007,  0.5430, -0.0387, -0.1555],\n",
       "                       [-0.0841,  0.2319,  0.6464, -1.0973],\n",
       "                       [ 0.1694,  0.2925,  1.3997, -0.0962]],\n",
       "              \n",
       "                      [[-0.9007,  0.5430, -0.0387, -0.1555],\n",
       "                       [-0.0841,  0.2319,  0.6464, -1.0973],\n",
       "                       [ 0.1694,  0.2925,  1.3997, -0.0962]],\n",
       "              \n",
       "                      [[-0.9007,  0.5430, -0.0387, -0.1555],\n",
       "                       [-0.0841,  0.2319,  0.6464, -1.0973],\n",
       "                       [ 0.1694,  0.2925,  1.3997, -0.0962]]]),\n",
       "       ),\n",
       ")"
      ]
     },
     "execution_count": 25,
     "metadata": {},
     "output_type": "execute_result"
    }
   ],
   "source": [
    "batches = [Batch(**_TREE_DATA_2) for _ in range(8)]\n",
    "\n",
    "Batch.stack(batches)"
   ]
  },
  {
   "cell_type": "code",
   "execution_count": 26,
   "id": "ec9037a3",
   "metadata": {
    "execution": {
     "iopub.execute_input": "2023-02-27T10:15:02.970705Z",
     "iopub.status.busy": "2023-02-27T10:15:02.970376Z",
     "iopub.status.idle": "2023-02-27T10:15:09.274430Z",
     "shell.execute_reply": "2023-02-27T10:15:09.273678Z"
    }
   },
   "outputs": [
    {
     "name": "stdout",
     "output_type": "stream",
     "text": [
      "77.6 µs ± 177 ns per loop (mean ± std. dev. of 7 runs, 10,000 loops each)\n"
     ]
    }
   ],
   "source": [
    "%timeit Batch.stack(batches)"
   ]
  },
  {
   "cell_type": "code",
   "execution_count": 27,
   "id": "cb8ab77e",
   "metadata": {
    "execution": {
     "iopub.execute_input": "2023-02-27T10:15:09.277147Z",
     "iopub.status.busy": "2023-02-27T10:15:09.276786Z",
     "iopub.status.idle": "2023-02-27T10:15:09.284194Z",
     "shell.execute_reply": "2023-02-27T10:15:09.283624Z"
    }
   },
   "outputs": [
    {
     "data": {
      "text/plain": [
       "Batch(\n",
       "    a: tensor([[-0.1509,  2.1238, -0.8176],\n",
       "               [ 0.9425, -0.0636, -0.3239],\n",
       "               [-0.1509,  2.1238, -0.8176],\n",
       "               [ 0.9425, -0.0636, -0.3239],\n",
       "               [-0.1509,  2.1238, -0.8176],\n",
       "               [ 0.9425, -0.0636, -0.3239],\n",
       "               [-0.1509,  2.1238, -0.8176],\n",
       "               [ 0.9425, -0.0636, -0.3239],\n",
       "               [-0.1509,  2.1238, -0.8176],\n",
       "               [ 0.9425, -0.0636, -0.3239],\n",
       "               [-0.1509,  2.1238, -0.8176],\n",
       "               [ 0.9425, -0.0636, -0.3239],\n",
       "               [-0.1509,  2.1238, -0.8176],\n",
       "               [ 0.9425, -0.0636, -0.3239],\n",
       "               [-0.1509,  2.1238, -0.8176],\n",
       "               [ 0.9425, -0.0636, -0.3239]]),\n",
       "    x: Batch(\n",
       "           c: tensor([[-0.9007,  0.5430, -0.0387, -0.1555],\n",
       "                      [-0.0841,  0.2319,  0.6464, -1.0973],\n",
       "                      [ 0.1694,  0.2925,  1.3997, -0.0962],\n",
       "                      [-0.9007,  0.5430, -0.0387, -0.1555],\n",
       "                      [-0.0841,  0.2319,  0.6464, -1.0973],\n",
       "                      [ 0.1694,  0.2925,  1.3997, -0.0962],\n",
       "                      [-0.9007,  0.5430, -0.0387, -0.1555],\n",
       "                      [-0.0841,  0.2319,  0.6464, -1.0973],\n",
       "                      [ 0.1694,  0.2925,  1.3997, -0.0962],\n",
       "                      [-0.9007,  0.5430, -0.0387, -0.1555],\n",
       "                      [-0.0841,  0.2319,  0.6464, -1.0973],\n",
       "                      [ 0.1694,  0.2925,  1.3997, -0.0962],\n",
       "                      [-0.9007,  0.5430, -0.0387, -0.1555],\n",
       "                      [-0.0841,  0.2319,  0.6464, -1.0973],\n",
       "                      [ 0.1694,  0.2925,  1.3997, -0.0962],\n",
       "                      [-0.9007,  0.5430, -0.0387, -0.1555],\n",
       "                      [-0.0841,  0.2319,  0.6464, -1.0973],\n",
       "                      [ 0.1694,  0.2925,  1.3997, -0.0962],\n",
       "                      [-0.9007,  0.5430, -0.0387, -0.1555],\n",
       "                      [-0.0841,  0.2319,  0.6464, -1.0973],\n",
       "                      [ 0.1694,  0.2925,  1.3997, -0.0962],\n",
       "                      [-0.9007,  0.5430, -0.0387, -0.1555],\n",
       "                      [-0.0841,  0.2319,  0.6464, -1.0973],\n",
       "                      [ 0.1694,  0.2925,  1.3997, -0.0962]]),\n",
       "       ),\n",
       ")"
      ]
     },
     "execution_count": 27,
     "metadata": {},
     "output_type": "execute_result"
    }
   ],
   "source": [
    "Batch.cat(batches)"
   ]
  },
  {
   "cell_type": "code",
   "execution_count": 28,
   "id": "18dfb045",
   "metadata": {
    "execution": {
     "iopub.execute_input": "2023-02-27T10:15:09.286822Z",
     "iopub.status.busy": "2023-02-27T10:15:09.286240Z",
     "iopub.status.idle": "2023-02-27T10:15:20.828367Z",
     "shell.execute_reply": "2023-02-27T10:15:20.827678Z"
    }
   },
   "outputs": [
    {
     "name": "stdout",
     "output_type": "stream",
     "text": [
      "142 µs ± 222 ns per loop (mean ± std. dev. of 7 runs, 10,000 loops each)\n"
     ]
    }
   ],
   "source": [
    "%timeit Batch.cat(batches)"
   ]
  },
  {
   "cell_type": "code",
   "execution_count": 29,
   "id": "c6688e51",
   "metadata": {
    "execution": {
     "iopub.execute_input": "2023-02-27T10:15:20.830993Z",
     "iopub.status.busy": "2023-02-27T10:15:20.830627Z",
     "iopub.status.idle": "2023-02-27T10:15:23.347515Z",
     "shell.execute_reply": "2023-02-27T10:15:23.346927Z"
    }
   },
   "outputs": [
    {
     "name": "stdout",
     "output_type": "stream",
     "text": [
      "309 µs ± 610 ns per loop (mean ± std. dev. of 7 runs, 1,000 loops each)\n"
     ]
    }
   ],
   "source": [
    "batch = Batch({\n",
    "    'obs': torch.randn(8, 4, 84, 84),\n",
    "    'action': torch.randint(0, 6, size=(8, 1,)),\n",
    "    'reward': torch.rand(8, 1)}\n",
    ")\n",
    "\n",
    "%timeit list(Batch.split(batch, 1, shuffle=False, merge_last=True))"
   ]
  },
  {
   "cell_type": "code",
   "execution_count": null,
   "id": "2539fbd9",
   "metadata": {},
   "outputs": [],
   "source": []
  }
 ],
 "metadata": {
  "kernelspec": {
   "display_name": "Python 3 (ipykernel)",
   "language": "python",
   "name": "python3"
  },
  "language_info": {
   "codemirror_mode": {
    "name": "ipython",
    "version": 3
   },
   "file_extension": ".py",
   "mimetype": "text/x-python",
   "name": "python",
   "nbconvert_exporter": "python",
   "pygments_lexer": "ipython3",
   "version": "3.8.16"
  }
 },
 "nbformat": 4,
 "nbformat_minor": 5
}
