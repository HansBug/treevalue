{
 "cells": [
  {
   "cell_type": "markdown",
   "id": "9d39d946",
   "metadata": {},
   "source": [
    "# Comparison Between TreeValue and Tianshou Batch"
   ]
  },
  {
   "cell_type": "markdown",
   "id": "3c6db2d4",
   "metadata": {},
   "source": [
    "In this section, we will take a look at the feature and performance of the [Tianshou Batch](https://github.com/thu-ml/tianshou) library, which is developed by Tsinghua Machine Learning Group."
   ]
  },
  {
   "cell_type": "markdown",
   "id": "069361b0",
   "metadata": {},
   "source": [
    "Before starting the comparison, let us define some thing."
   ]
  },
  {
   "cell_type": "code",
   "execution_count": 1,
   "id": "06fc8d26",
   "metadata": {
    "execution": {
     "iopub.execute_input": "2023-02-27T13:06:24.566207Z",
     "iopub.status.busy": "2023-02-27T13:06:24.565812Z",
     "iopub.status.idle": "2023-02-27T13:06:25.547202Z",
     "shell.execute_reply": "2023-02-27T13:06:25.546357Z"
    }
   },
   "outputs": [
    {
     "name": "stderr",
     "output_type": "stream",
     "text": [
      "/opt/hostedtoolcache/Python/3.8.16/x64/lib/python3.8/site-packages/tqdm/auto.py:22: TqdmWarning: IProgress not found. Please update jupyter and ipywidgets. See https://ipywidgets.readthedocs.io/en/stable/user_install.html\n",
      "  from .autonotebook import tqdm as notebook_tqdm\n"
     ]
    }
   ],
   "source": [
    "import torch \n",
    "\n",
    "_TREE_DATA_1 = {'a': 1, 'b': 2, 'x': {'c': 3, 'd': 4}}\n",
    "_TREE_DATA_2 = {\n",
    "    'a': torch.randn(2, 3), \n",
    "    'x': {\n",
    "        'c': torch.randn(3, 4)\n",
    "    },\n",
    "}\n",
    "_TREE_DATA_3 = {\n",
    "    'obs': torch.randn(4, 84, 84),\n",
    "    'action': torch.randint(0, 6, size=(1,)),\n",
    "    'reward': torch.rand(1),\n",
    "}"
   ]
  },
  {
   "cell_type": "markdown",
   "id": "83461b25",
   "metadata": {},
   "source": [
    "## Read and Write Operation"
   ]
  },
  {
   "cell_type": "markdown",
   "id": "067b3f73",
   "metadata": {},
   "source": [
    "Reading and writing are the two most common operations in the tree data structure based on the data model (TreeValue and Tianshou Batch both belong to this type), so this section will compare the reading and writing performance of these two libraries."
   ]
  },
  {
   "cell_type": "markdown",
   "id": "5d09a5b7",
   "metadata": {},
   "source": [
    "### TreeValue's Get and Set"
   ]
  },
  {
   "cell_type": "code",
   "execution_count": 2,
   "id": "9519c4bb",
   "metadata": {
    "execution": {
     "iopub.execute_input": "2023-02-27T13:06:25.551299Z",
     "iopub.status.busy": "2023-02-27T13:06:25.550710Z",
     "iopub.status.idle": "2023-02-27T13:06:25.842698Z",
     "shell.execute_reply": "2023-02-27T13:06:25.841895Z"
    }
   },
   "outputs": [],
   "source": [
    "from treevalue import FastTreeValue\n",
    "\n",
    "t = FastTreeValue(_TREE_DATA_2)"
   ]
  },
  {
   "cell_type": "code",
   "execution_count": 3,
   "id": "11c37677",
   "metadata": {
    "execution": {
     "iopub.execute_input": "2023-02-27T13:06:25.846652Z",
     "iopub.status.busy": "2023-02-27T13:06:25.846067Z",
     "iopub.status.idle": "2023-02-27T13:06:25.857254Z",
     "shell.execute_reply": "2023-02-27T13:06:25.856643Z"
    }
   },
   "outputs": [
    {
     "data": {
      "text/plain": [
       "<FastTreeValue 0x7f7f3c362370>\n",
       "├── 'a' --> tensor([[-1.0725, -0.9364, -1.3357],\n",
       "│                   [ 1.1236,  1.2205,  0.6759]])\n",
       "└── 'x' --> <FastTreeValue 0x7f7f3c3625b0>\n",
       "    └── 'c' --> tensor([[ 1.0114,  0.6016, -2.1302, -0.8440],\n",
       "                        [ 1.6805,  0.1583, -0.6914,  1.4604],\n",
       "                        [-0.1779,  0.0637,  0.7113,  0.9602]])"
      ]
     },
     "execution_count": 3,
     "metadata": {},
     "output_type": "execute_result"
    }
   ],
   "source": [
    "t"
   ]
  },
  {
   "cell_type": "code",
   "execution_count": 4,
   "id": "fd70b0b9",
   "metadata": {
    "execution": {
     "iopub.execute_input": "2023-02-27T13:06:25.860347Z",
     "iopub.status.busy": "2023-02-27T13:06:25.859930Z",
     "iopub.status.idle": "2023-02-27T13:06:25.866176Z",
     "shell.execute_reply": "2023-02-27T13:06:25.865575Z"
    }
   },
   "outputs": [
    {
     "data": {
      "text/plain": [
       "tensor([[-1.0725, -0.9364, -1.3357],\n",
       "        [ 1.1236,  1.2205,  0.6759]])"
      ]
     },
     "execution_count": 4,
     "metadata": {},
     "output_type": "execute_result"
    }
   ],
   "source": [
    "t.a"
   ]
  },
  {
   "cell_type": "code",
   "execution_count": 5,
   "id": "c18197bd",
   "metadata": {
    "execution": {
     "iopub.execute_input": "2023-02-27T13:06:25.869276Z",
     "iopub.status.busy": "2023-02-27T13:06:25.868737Z",
     "iopub.status.idle": "2023-02-27T13:06:31.015913Z",
     "shell.execute_reply": "2023-02-27T13:06:31.014987Z"
    }
   },
   "outputs": [
    {
     "name": "stdout",
     "output_type": "stream",
     "text": [
      "63.4 ns ± 0.0563 ns per loop (mean ± std. dev. of 7 runs, 10,000,000 loops each)\n"
     ]
    }
   ],
   "source": [
    "%timeit t.a"
   ]
  },
  {
   "cell_type": "code",
   "execution_count": 6,
   "id": "bd52f867",
   "metadata": {
    "execution": {
     "iopub.execute_input": "2023-02-27T13:06:31.019630Z",
     "iopub.status.busy": "2023-02-27T13:06:31.018989Z",
     "iopub.status.idle": "2023-02-27T13:06:31.026829Z",
     "shell.execute_reply": "2023-02-27T13:06:31.026194Z"
    }
   },
   "outputs": [
    {
     "data": {
      "text/plain": [
       "<FastTreeValue 0x7f7f3c362370>\n",
       "├── 'a' --> tensor([[ 0.2605,  0.4563,  0.8250],\n",
       "│                   [-0.2931,  2.0889,  0.2939]])\n",
       "└── 'x' --> <FastTreeValue 0x7f7f3c3625b0>\n",
       "    └── 'c' --> tensor([[ 1.0114,  0.6016, -2.1302, -0.8440],\n",
       "                        [ 1.6805,  0.1583, -0.6914,  1.4604],\n",
       "                        [-0.1779,  0.0637,  0.7113,  0.9602]])"
      ]
     },
     "execution_count": 6,
     "metadata": {},
     "output_type": "execute_result"
    }
   ],
   "source": [
    "new_value = torch.randn(2, 3)\n",
    "t.a = new_value\n",
    "\n",
    "t"
   ]
  },
  {
   "cell_type": "code",
   "execution_count": 7,
   "id": "bbe04d1c",
   "metadata": {
    "execution": {
     "iopub.execute_input": "2023-02-27T13:06:31.029886Z",
     "iopub.status.busy": "2023-02-27T13:06:31.029436Z",
     "iopub.status.idle": "2023-02-27T13:06:36.902855Z",
     "shell.execute_reply": "2023-02-27T13:06:36.901939Z"
    }
   },
   "outputs": [
    {
     "name": "stdout",
     "output_type": "stream",
     "text": [
      "72.4 ns ± 0.0625 ns per loop (mean ± std. dev. of 7 runs, 10,000,000 loops each)\n"
     ]
    }
   ],
   "source": [
    "%timeit t.a = new_value"
   ]
  },
  {
   "cell_type": "markdown",
   "id": "48c49731",
   "metadata": {},
   "source": [
    "### Tianshou Batch's Get and Set"
   ]
  },
  {
   "cell_type": "code",
   "execution_count": 8,
   "id": "f1bb14c1",
   "metadata": {
    "execution": {
     "iopub.execute_input": "2023-02-27T13:06:36.906296Z",
     "iopub.status.busy": "2023-02-27T13:06:36.905862Z",
     "iopub.status.idle": "2023-02-27T13:06:37.279694Z",
     "shell.execute_reply": "2023-02-27T13:06:37.278919Z"
    }
   },
   "outputs": [],
   "source": [
    "from tianshou.data import Batch\n",
    "\n",
    "b = Batch(**_TREE_DATA_2)"
   ]
  },
  {
   "cell_type": "code",
   "execution_count": 9,
   "id": "cb0777c3",
   "metadata": {
    "execution": {
     "iopub.execute_input": "2023-02-27T13:06:37.283871Z",
     "iopub.status.busy": "2023-02-27T13:06:37.283112Z",
     "iopub.status.idle": "2023-02-27T13:06:37.290023Z",
     "shell.execute_reply": "2023-02-27T13:06:37.289402Z"
    }
   },
   "outputs": [
    {
     "data": {
      "text/plain": [
       "Batch(\n",
       "    a: tensor([[-1.0725, -0.9364, -1.3357],\n",
       "               [ 1.1236,  1.2205,  0.6759]]),\n",
       "    x: Batch(\n",
       "           c: tensor([[ 1.0114,  0.6016, -2.1302, -0.8440],\n",
       "                      [ 1.6805,  0.1583, -0.6914,  1.4604],\n",
       "                      [-0.1779,  0.0637,  0.7113,  0.9602]]),\n",
       "       ),\n",
       ")"
      ]
     },
     "execution_count": 9,
     "metadata": {},
     "output_type": "execute_result"
    }
   ],
   "source": [
    "b"
   ]
  },
  {
   "cell_type": "code",
   "execution_count": 10,
   "id": "43ef8ea3",
   "metadata": {
    "execution": {
     "iopub.execute_input": "2023-02-27T13:06:37.292752Z",
     "iopub.status.busy": "2023-02-27T13:06:37.292317Z",
     "iopub.status.idle": "2023-02-27T13:06:37.298225Z",
     "shell.execute_reply": "2023-02-27T13:06:37.297633Z"
    }
   },
   "outputs": [
    {
     "data": {
      "text/plain": [
       "tensor([[-1.0725, -0.9364, -1.3357],\n",
       "        [ 1.1236,  1.2205,  0.6759]])"
      ]
     },
     "execution_count": 10,
     "metadata": {},
     "output_type": "execute_result"
    }
   ],
   "source": [
    "b.a"
   ]
  },
  {
   "cell_type": "code",
   "execution_count": 11,
   "id": "b785ab72",
   "metadata": {
    "execution": {
     "iopub.execute_input": "2023-02-27T13:06:37.301064Z",
     "iopub.status.busy": "2023-02-27T13:06:37.300546Z",
     "iopub.status.idle": "2023-02-27T13:06:42.047949Z",
     "shell.execute_reply": "2023-02-27T13:06:42.047079Z"
    }
   },
   "outputs": [
    {
     "name": "stdout",
     "output_type": "stream",
     "text": [
      "58.5 ns ± 0.0501 ns per loop (mean ± std. dev. of 7 runs, 10,000,000 loops each)\n"
     ]
    }
   ],
   "source": [
    "%timeit b.a"
   ]
  },
  {
   "cell_type": "code",
   "execution_count": 12,
   "id": "ad54dc69",
   "metadata": {
    "execution": {
     "iopub.execute_input": "2023-02-27T13:06:42.051278Z",
     "iopub.status.busy": "2023-02-27T13:06:42.050833Z",
     "iopub.status.idle": "2023-02-27T13:06:42.058002Z",
     "shell.execute_reply": "2023-02-27T13:06:42.057355Z"
    }
   },
   "outputs": [
    {
     "data": {
      "text/plain": [
       "Batch(\n",
       "    a: tensor([[-0.7404, -1.3821, -0.2305],\n",
       "               [-0.8545, -0.9762, -2.1347]]),\n",
       "    x: Batch(\n",
       "           c: tensor([[ 1.0114,  0.6016, -2.1302, -0.8440],\n",
       "                      [ 1.6805,  0.1583, -0.6914,  1.4604],\n",
       "                      [-0.1779,  0.0637,  0.7113,  0.9602]]),\n",
       "       ),\n",
       ")"
      ]
     },
     "execution_count": 12,
     "metadata": {},
     "output_type": "execute_result"
    }
   ],
   "source": [
    "new_value = torch.randn(2, 3)\n",
    "b.a = new_value\n",
    "\n",
    "b"
   ]
  },
  {
   "cell_type": "code",
   "execution_count": 13,
   "id": "29b1d0bf",
   "metadata": {
    "execution": {
     "iopub.execute_input": "2023-02-27T13:06:42.060732Z",
     "iopub.status.busy": "2023-02-27T13:06:42.060354Z",
     "iopub.status.idle": "2023-02-27T13:06:46.079271Z",
     "shell.execute_reply": "2023-02-27T13:06:46.078363Z"
    }
   },
   "outputs": [
    {
     "name": "stdout",
     "output_type": "stream",
     "text": [
      "494 ns ± 0.251 ns per loop (mean ± std. dev. of 7 runs, 1,000,000 loops each)\n"
     ]
    }
   ],
   "source": [
    "%timeit b.a = new_value"
   ]
  },
  {
   "cell_type": "markdown",
   "id": "b61ad1d0",
   "metadata": {},
   "source": [
    "## Initialization"
   ]
  },
  {
   "cell_type": "markdown",
   "id": "d70f0d54",
   "metadata": {},
   "source": [
    "### TreeValue's Initialization"
   ]
  },
  {
   "cell_type": "code",
   "execution_count": 14,
   "id": "d32a679b",
   "metadata": {
    "execution": {
     "iopub.execute_input": "2023-02-27T13:06:46.082890Z",
     "iopub.status.busy": "2023-02-27T13:06:46.082359Z",
     "iopub.status.idle": "2023-02-27T13:06:52.692784Z",
     "shell.execute_reply": "2023-02-27T13:06:52.691905Z"
    }
   },
   "outputs": [
    {
     "name": "stdout",
     "output_type": "stream",
     "text": [
      "814 ns ± 0.788 ns per loop (mean ± std. dev. of 7 runs, 1,000,000 loops each)\n"
     ]
    }
   ],
   "source": [
    "%timeit FastTreeValue(_TREE_DATA_1)"
   ]
  },
  {
   "cell_type": "markdown",
   "id": "24f3707b",
   "metadata": {},
   "source": [
    "### Tianshou Batch's Initialization"
   ]
  },
  {
   "cell_type": "code",
   "execution_count": 15,
   "id": "ac3958df",
   "metadata": {
    "execution": {
     "iopub.execute_input": "2023-02-27T13:06:52.696168Z",
     "iopub.status.busy": "2023-02-27T13:06:52.695731Z",
     "iopub.status.idle": "2023-02-27T13:07:01.525269Z",
     "shell.execute_reply": "2023-02-27T13:07:01.524199Z"
    }
   },
   "outputs": [
    {
     "name": "stdout",
     "output_type": "stream",
     "text": [
      "10.9 µs ± 23 ns per loop (mean ± std. dev. of 7 runs, 100,000 loops each)\n"
     ]
    }
   ],
   "source": [
    "%timeit Batch(**_TREE_DATA_1)"
   ]
  },
  {
   "cell_type": "markdown",
   "id": "1ab82e2d",
   "metadata": {},
   "source": [
    "## Deep Copy Operation"
   ]
  },
  {
   "cell_type": "code",
   "execution_count": 16,
   "id": "210a9442",
   "metadata": {
    "execution": {
     "iopub.execute_input": "2023-02-27T13:07:01.528963Z",
     "iopub.status.busy": "2023-02-27T13:07:01.528477Z",
     "iopub.status.idle": "2023-02-27T13:07:01.532738Z",
     "shell.execute_reply": "2023-02-27T13:07:01.532111Z"
    }
   },
   "outputs": [],
   "source": [
    "import copy"
   ]
  },
  {
   "cell_type": "markdown",
   "id": "5a736274",
   "metadata": {},
   "source": [
    "### Deep Copy of TreeValue"
   ]
  },
  {
   "cell_type": "code",
   "execution_count": 17,
   "id": "f9bcadd6",
   "metadata": {
    "execution": {
     "iopub.execute_input": "2023-02-27T13:07:01.535668Z",
     "iopub.status.busy": "2023-02-27T13:07:01.535317Z",
     "iopub.status.idle": "2023-02-27T13:07:13.404588Z",
     "shell.execute_reply": "2023-02-27T13:07:13.403798Z"
    }
   },
   "outputs": [
    {
     "name": "stdout",
     "output_type": "stream",
     "text": [
      "146 µs ± 379 ns per loop (mean ± std. dev. of 7 runs, 10,000 loops each)\n"
     ]
    }
   ],
   "source": [
    "t3 = FastTreeValue(_TREE_DATA_3)\n",
    "%timeit copy.deepcopy(t3)"
   ]
  },
  {
   "cell_type": "markdown",
   "id": "bf8be7ea",
   "metadata": {},
   "source": [
    "### Deep Copy of Tianshou Batch"
   ]
  },
  {
   "cell_type": "code",
   "execution_count": 18,
   "id": "91998e6f",
   "metadata": {
    "execution": {
     "iopub.execute_input": "2023-02-27T13:07:13.407830Z",
     "iopub.status.busy": "2023-02-27T13:07:13.407435Z",
     "iopub.status.idle": "2023-02-27T13:07:25.157974Z",
     "shell.execute_reply": "2023-02-27T13:07:25.157330Z"
    }
   },
   "outputs": [
    {
     "name": "stdout",
     "output_type": "stream",
     "text": [
      "145 µs ± 1.03 µs per loop (mean ± std. dev. of 7 runs, 10,000 loops each)\n"
     ]
    }
   ],
   "source": [
    "b3 = Batch(**_TREE_DATA_3)\n",
    "%timeit copy.deepcopy(b3)"
   ]
  },
  {
   "cell_type": "markdown",
   "id": "223162fb",
   "metadata": {},
   "source": [
    "## Stack, Concat and Split Operation"
   ]
  },
  {
   "cell_type": "markdown",
   "id": "85fa4a73",
   "metadata": {},
   "source": [
    "### Performance of TreeValue"
   ]
  },
  {
   "cell_type": "code",
   "execution_count": 19,
   "id": "a0c2b697",
   "metadata": {
    "execution": {
     "iopub.execute_input": "2023-02-27T13:07:25.161187Z",
     "iopub.status.busy": "2023-02-27T13:07:25.160767Z",
     "iopub.status.idle": "2023-02-27T13:07:25.164174Z",
     "shell.execute_reply": "2023-02-27T13:07:25.163588Z"
    }
   },
   "outputs": [],
   "source": [
    "trees = [FastTreeValue(_TREE_DATA_2) for _ in range(8)]"
   ]
  },
  {
   "cell_type": "code",
   "execution_count": 20,
   "id": "017ea5a5",
   "metadata": {
    "execution": {
     "iopub.execute_input": "2023-02-27T13:07:25.166899Z",
     "iopub.status.busy": "2023-02-27T13:07:25.166490Z",
     "iopub.status.idle": "2023-02-27T13:07:25.173651Z",
     "shell.execute_reply": "2023-02-27T13:07:25.173096Z"
    }
   },
   "outputs": [
    {
     "data": {
      "text/plain": [
       "<FastTreeValue 0x7f7e845fbdc0>\n",
       "├── 'a' --> tensor([[[-1.0725, -0.9364, -1.3357],\n",
       "│                    [ 1.1236,  1.2205,  0.6759]],\n",
       "│           \n",
       "│                   [[-1.0725, -0.9364, -1.3357],\n",
       "│                    [ 1.1236,  1.2205,  0.6759]],\n",
       "│           \n",
       "│                   [[-1.0725, -0.9364, -1.3357],\n",
       "│                    [ 1.1236,  1.2205,  0.6759]],\n",
       "│           \n",
       "│                   [[-1.0725, -0.9364, -1.3357],\n",
       "│                    [ 1.1236,  1.2205,  0.6759]],\n",
       "│           \n",
       "│                   [[-1.0725, -0.9364, -1.3357],\n",
       "│                    [ 1.1236,  1.2205,  0.6759]],\n",
       "│           \n",
       "│                   [[-1.0725, -0.9364, -1.3357],\n",
       "│                    [ 1.1236,  1.2205,  0.6759]],\n",
       "│           \n",
       "│                   [[-1.0725, -0.9364, -1.3357],\n",
       "│                    [ 1.1236,  1.2205,  0.6759]],\n",
       "│           \n",
       "│                   [[-1.0725, -0.9364, -1.3357],\n",
       "│                    [ 1.1236,  1.2205,  0.6759]]])\n",
       "└── 'x' --> <FastTreeValue 0x7f7e845fbc70>\n",
       "    └── 'c' --> tensor([[[ 1.0114,  0.6016, -2.1302, -0.8440],\n",
       "                         [ 1.6805,  0.1583, -0.6914,  1.4604],\n",
       "                         [-0.1779,  0.0637,  0.7113,  0.9602]],\n",
       "                \n",
       "                        [[ 1.0114,  0.6016, -2.1302, -0.8440],\n",
       "                         [ 1.6805,  0.1583, -0.6914,  1.4604],\n",
       "                         [-0.1779,  0.0637,  0.7113,  0.9602]],\n",
       "                \n",
       "                        [[ 1.0114,  0.6016, -2.1302, -0.8440],\n",
       "                         [ 1.6805,  0.1583, -0.6914,  1.4604],\n",
       "                         [-0.1779,  0.0637,  0.7113,  0.9602]],\n",
       "                \n",
       "                        [[ 1.0114,  0.6016, -2.1302, -0.8440],\n",
       "                         [ 1.6805,  0.1583, -0.6914,  1.4604],\n",
       "                         [-0.1779,  0.0637,  0.7113,  0.9602]],\n",
       "                \n",
       "                        [[ 1.0114,  0.6016, -2.1302, -0.8440],\n",
       "                         [ 1.6805,  0.1583, -0.6914,  1.4604],\n",
       "                         [-0.1779,  0.0637,  0.7113,  0.9602]],\n",
       "                \n",
       "                        [[ 1.0114,  0.6016, -2.1302, -0.8440],\n",
       "                         [ 1.6805,  0.1583, -0.6914,  1.4604],\n",
       "                         [-0.1779,  0.0637,  0.7113,  0.9602]],\n",
       "                \n",
       "                        [[ 1.0114,  0.6016, -2.1302, -0.8440],\n",
       "                         [ 1.6805,  0.1583, -0.6914,  1.4604],\n",
       "                         [-0.1779,  0.0637,  0.7113,  0.9602]],\n",
       "                \n",
       "                        [[ 1.0114,  0.6016, -2.1302, -0.8440],\n",
       "                         [ 1.6805,  0.1583, -0.6914,  1.4604],\n",
       "                         [-0.1779,  0.0637,  0.7113,  0.9602]]])"
      ]
     },
     "execution_count": 20,
     "metadata": {},
     "output_type": "execute_result"
    }
   ],
   "source": [
    "t_stack = FastTreeValue.func(subside=True)(torch.stack)\n",
    "\n",
    "t_stack(trees)"
   ]
  },
  {
   "cell_type": "code",
   "execution_count": 21,
   "id": "f8b3f415",
   "metadata": {
    "execution": {
     "iopub.execute_input": "2023-02-27T13:07:25.176304Z",
     "iopub.status.busy": "2023-02-27T13:07:25.175919Z",
     "iopub.status.idle": "2023-02-27T13:07:27.760277Z",
     "shell.execute_reply": "2023-02-27T13:07:27.759401Z"
    }
   },
   "outputs": [
    {
     "name": "stdout",
     "output_type": "stream",
     "text": [
      "31.8 µs ± 109 ns per loop (mean ± std. dev. of 7 runs, 10,000 loops each)\n"
     ]
    }
   ],
   "source": [
    "%timeit t_stack(trees)"
   ]
  },
  {
   "cell_type": "code",
   "execution_count": 22,
   "id": "94b56771",
   "metadata": {
    "execution": {
     "iopub.execute_input": "2023-02-27T13:07:27.764127Z",
     "iopub.status.busy": "2023-02-27T13:07:27.763695Z",
     "iopub.status.idle": "2023-02-27T13:07:27.772975Z",
     "shell.execute_reply": "2023-02-27T13:07:27.772328Z"
    }
   },
   "outputs": [
    {
     "data": {
      "text/plain": [
       "<FastTreeValue 0x7f7f3c326580>\n",
       "├── 'a' --> tensor([[-1.0725, -0.9364, -1.3357],\n",
       "│                   [ 1.1236,  1.2205,  0.6759],\n",
       "│                   [-1.0725, -0.9364, -1.3357],\n",
       "│                   [ 1.1236,  1.2205,  0.6759],\n",
       "│                   [-1.0725, -0.9364, -1.3357],\n",
       "│                   [ 1.1236,  1.2205,  0.6759],\n",
       "│                   [-1.0725, -0.9364, -1.3357],\n",
       "│                   [ 1.1236,  1.2205,  0.6759],\n",
       "│                   [-1.0725, -0.9364, -1.3357],\n",
       "│                   [ 1.1236,  1.2205,  0.6759],\n",
       "│                   [-1.0725, -0.9364, -1.3357],\n",
       "│                   [ 1.1236,  1.2205,  0.6759],\n",
       "│                   [-1.0725, -0.9364, -1.3357],\n",
       "│                   [ 1.1236,  1.2205,  0.6759],\n",
       "│                   [-1.0725, -0.9364, -1.3357],\n",
       "│                   [ 1.1236,  1.2205,  0.6759]])\n",
       "└── 'x' --> <FastTreeValue 0x7f7f108a8f70>\n",
       "    └── 'c' --> tensor([[ 1.0114,  0.6016, -2.1302, -0.8440],\n",
       "                        [ 1.6805,  0.1583, -0.6914,  1.4604],\n",
       "                        [-0.1779,  0.0637,  0.7113,  0.9602],\n",
       "                        [ 1.0114,  0.6016, -2.1302, -0.8440],\n",
       "                        [ 1.6805,  0.1583, -0.6914,  1.4604],\n",
       "                        [-0.1779,  0.0637,  0.7113,  0.9602],\n",
       "                        [ 1.0114,  0.6016, -2.1302, -0.8440],\n",
       "                        [ 1.6805,  0.1583, -0.6914,  1.4604],\n",
       "                        [-0.1779,  0.0637,  0.7113,  0.9602],\n",
       "                        [ 1.0114,  0.6016, -2.1302, -0.8440],\n",
       "                        [ 1.6805,  0.1583, -0.6914,  1.4604],\n",
       "                        [-0.1779,  0.0637,  0.7113,  0.9602],\n",
       "                        [ 1.0114,  0.6016, -2.1302, -0.8440],\n",
       "                        [ 1.6805,  0.1583, -0.6914,  1.4604],\n",
       "                        [-0.1779,  0.0637,  0.7113,  0.9602],\n",
       "                        [ 1.0114,  0.6016, -2.1302, -0.8440],\n",
       "                        [ 1.6805,  0.1583, -0.6914,  1.4604],\n",
       "                        [-0.1779,  0.0637,  0.7113,  0.9602],\n",
       "                        [ 1.0114,  0.6016, -2.1302, -0.8440],\n",
       "                        [ 1.6805,  0.1583, -0.6914,  1.4604],\n",
       "                        [-0.1779,  0.0637,  0.7113,  0.9602],\n",
       "                        [ 1.0114,  0.6016, -2.1302, -0.8440],\n",
       "                        [ 1.6805,  0.1583, -0.6914,  1.4604],\n",
       "                        [-0.1779,  0.0637,  0.7113,  0.9602]])"
      ]
     },
     "execution_count": 22,
     "metadata": {},
     "output_type": "execute_result"
    }
   ],
   "source": [
    "t_cat = FastTreeValue.func(subside=True)(torch.cat)\n",
    "\n",
    "t_cat(trees)"
   ]
  },
  {
   "cell_type": "code",
   "execution_count": 23,
   "id": "5e9c06a6",
   "metadata": {
    "execution": {
     "iopub.execute_input": "2023-02-27T13:07:27.775851Z",
     "iopub.status.busy": "2023-02-27T13:07:27.775469Z",
     "iopub.status.idle": "2023-02-27T13:07:30.215333Z",
     "shell.execute_reply": "2023-02-27T13:07:30.214471Z"
    }
   },
   "outputs": [
    {
     "name": "stdout",
     "output_type": "stream",
     "text": [
      "30 µs ± 73.9 ns per loop (mean ± std. dev. of 7 runs, 10,000 loops each)\n"
     ]
    }
   ],
   "source": [
    "%timeit t_cat(trees)"
   ]
  },
  {
   "cell_type": "code",
   "execution_count": 24,
   "id": "a3ab5c8f",
   "metadata": {
    "execution": {
     "iopub.execute_input": "2023-02-27T13:07:30.218627Z",
     "iopub.status.busy": "2023-02-27T13:07:30.218136Z",
     "iopub.status.idle": "2023-02-27T13:07:34.789389Z",
     "shell.execute_reply": "2023-02-27T13:07:34.788374Z"
    }
   },
   "outputs": [
    {
     "name": "stdout",
     "output_type": "stream",
     "text": [
      "56.2 µs ± 104 ns per loop (mean ± std. dev. of 7 runs, 10,000 loops each)\n"
     ]
    }
   ],
   "source": [
    "t_split = FastTreeValue.func(rise=True)(torch.split)\n",
    "tree = FastTreeValue({\n",
    "    'obs': torch.randn(8, 4, 84, 84),\n",
    "    'action': torch.randint(0, 6, size=(8, 1,)),\n",
    "    'reward': torch.rand(8, 1),\n",
    "})\n",
    "\n",
    "%timeit t_split(tree, 1)"
   ]
  },
  {
   "cell_type": "markdown",
   "id": "31c3ec0b",
   "metadata": {},
   "source": [
    "### Performance of Tianshou Batch"
   ]
  },
  {
   "cell_type": "code",
   "execution_count": 25,
   "id": "9ead828a",
   "metadata": {
    "execution": {
     "iopub.execute_input": "2023-02-27T13:07:34.792672Z",
     "iopub.status.busy": "2023-02-27T13:07:34.792181Z",
     "iopub.status.idle": "2023-02-27T13:07:34.801326Z",
     "shell.execute_reply": "2023-02-27T13:07:34.800165Z"
    }
   },
   "outputs": [
    {
     "data": {
      "text/plain": [
       "Batch(\n",
       "    x: Batch(\n",
       "           c: tensor([[[ 1.0114,  0.6016, -2.1302, -0.8440],\n",
       "                       [ 1.6805,  0.1583, -0.6914,  1.4604],\n",
       "                       [-0.1779,  0.0637,  0.7113,  0.9602]],\n",
       "              \n",
       "                      [[ 1.0114,  0.6016, -2.1302, -0.8440],\n",
       "                       [ 1.6805,  0.1583, -0.6914,  1.4604],\n",
       "                       [-0.1779,  0.0637,  0.7113,  0.9602]],\n",
       "              \n",
       "                      [[ 1.0114,  0.6016, -2.1302, -0.8440],\n",
       "                       [ 1.6805,  0.1583, -0.6914,  1.4604],\n",
       "                       [-0.1779,  0.0637,  0.7113,  0.9602]],\n",
       "              \n",
       "                      [[ 1.0114,  0.6016, -2.1302, -0.8440],\n",
       "                       [ 1.6805,  0.1583, -0.6914,  1.4604],\n",
       "                       [-0.1779,  0.0637,  0.7113,  0.9602]],\n",
       "              \n",
       "                      [[ 1.0114,  0.6016, -2.1302, -0.8440],\n",
       "                       [ 1.6805,  0.1583, -0.6914,  1.4604],\n",
       "                       [-0.1779,  0.0637,  0.7113,  0.9602]],\n",
       "              \n",
       "                      [[ 1.0114,  0.6016, -2.1302, -0.8440],\n",
       "                       [ 1.6805,  0.1583, -0.6914,  1.4604],\n",
       "                       [-0.1779,  0.0637,  0.7113,  0.9602]],\n",
       "              \n",
       "                      [[ 1.0114,  0.6016, -2.1302, -0.8440],\n",
       "                       [ 1.6805,  0.1583, -0.6914,  1.4604],\n",
       "                       [-0.1779,  0.0637,  0.7113,  0.9602]],\n",
       "              \n",
       "                      [[ 1.0114,  0.6016, -2.1302, -0.8440],\n",
       "                       [ 1.6805,  0.1583, -0.6914,  1.4604],\n",
       "                       [-0.1779,  0.0637,  0.7113,  0.9602]]]),\n",
       "       ),\n",
       "    a: tensor([[[-1.0725, -0.9364, -1.3357],\n",
       "                [ 1.1236,  1.2205,  0.6759]],\n",
       "       \n",
       "               [[-1.0725, -0.9364, -1.3357],\n",
       "                [ 1.1236,  1.2205,  0.6759]],\n",
       "       \n",
       "               [[-1.0725, -0.9364, -1.3357],\n",
       "                [ 1.1236,  1.2205,  0.6759]],\n",
       "       \n",
       "               [[-1.0725, -0.9364, -1.3357],\n",
       "                [ 1.1236,  1.2205,  0.6759]],\n",
       "       \n",
       "               [[-1.0725, -0.9364, -1.3357],\n",
       "                [ 1.1236,  1.2205,  0.6759]],\n",
       "       \n",
       "               [[-1.0725, -0.9364, -1.3357],\n",
       "                [ 1.1236,  1.2205,  0.6759]],\n",
       "       \n",
       "               [[-1.0725, -0.9364, -1.3357],\n",
       "                [ 1.1236,  1.2205,  0.6759]],\n",
       "       \n",
       "               [[-1.0725, -0.9364, -1.3357],\n",
       "                [ 1.1236,  1.2205,  0.6759]]]),\n",
       ")"
      ]
     },
     "execution_count": 25,
     "metadata": {},
     "output_type": "execute_result"
    }
   ],
   "source": [
    "batches = [Batch(**_TREE_DATA_2) for _ in range(8)]\n",
    "\n",
    "Batch.stack(batches)"
   ]
  },
  {
   "cell_type": "code",
   "execution_count": 26,
   "id": "ec9037a3",
   "metadata": {
    "execution": {
     "iopub.execute_input": "2023-02-27T13:07:34.804238Z",
     "iopub.status.busy": "2023-02-27T13:07:34.803608Z",
     "iopub.status.idle": "2023-02-27T13:07:41.130188Z",
     "shell.execute_reply": "2023-02-27T13:07:41.129385Z"
    }
   },
   "outputs": [
    {
     "name": "stdout",
     "output_type": "stream",
     "text": [
      "77.9 µs ± 362 ns per loop (mean ± std. dev. of 7 runs, 10,000 loops each)\n"
     ]
    }
   ],
   "source": [
    "%timeit Batch.stack(batches)"
   ]
  },
  {
   "cell_type": "code",
   "execution_count": 27,
   "id": "cb8ab77e",
   "metadata": {
    "execution": {
     "iopub.execute_input": "2023-02-27T13:07:41.133520Z",
     "iopub.status.busy": "2023-02-27T13:07:41.133216Z",
     "iopub.status.idle": "2023-02-27T13:07:41.141155Z",
     "shell.execute_reply": "2023-02-27T13:07:41.140514Z"
    }
   },
   "outputs": [
    {
     "data": {
      "text/plain": [
       "Batch(\n",
       "    x: Batch(\n",
       "           c: tensor([[ 1.0114,  0.6016, -2.1302, -0.8440],\n",
       "                      [ 1.6805,  0.1583, -0.6914,  1.4604],\n",
       "                      [-0.1779,  0.0637,  0.7113,  0.9602],\n",
       "                      [ 1.0114,  0.6016, -2.1302, -0.8440],\n",
       "                      [ 1.6805,  0.1583, -0.6914,  1.4604],\n",
       "                      [-0.1779,  0.0637,  0.7113,  0.9602],\n",
       "                      [ 1.0114,  0.6016, -2.1302, -0.8440],\n",
       "                      [ 1.6805,  0.1583, -0.6914,  1.4604],\n",
       "                      [-0.1779,  0.0637,  0.7113,  0.9602],\n",
       "                      [ 1.0114,  0.6016, -2.1302, -0.8440],\n",
       "                      [ 1.6805,  0.1583, -0.6914,  1.4604],\n",
       "                      [-0.1779,  0.0637,  0.7113,  0.9602],\n",
       "                      [ 1.0114,  0.6016, -2.1302, -0.8440],\n",
       "                      [ 1.6805,  0.1583, -0.6914,  1.4604],\n",
       "                      [-0.1779,  0.0637,  0.7113,  0.9602],\n",
       "                      [ 1.0114,  0.6016, -2.1302, -0.8440],\n",
       "                      [ 1.6805,  0.1583, -0.6914,  1.4604],\n",
       "                      [-0.1779,  0.0637,  0.7113,  0.9602],\n",
       "                      [ 1.0114,  0.6016, -2.1302, -0.8440],\n",
       "                      [ 1.6805,  0.1583, -0.6914,  1.4604],\n",
       "                      [-0.1779,  0.0637,  0.7113,  0.9602],\n",
       "                      [ 1.0114,  0.6016, -2.1302, -0.8440],\n",
       "                      [ 1.6805,  0.1583, -0.6914,  1.4604],\n",
       "                      [-0.1779,  0.0637,  0.7113,  0.9602]]),\n",
       "       ),\n",
       "    a: tensor([[-1.0725, -0.9364, -1.3357],\n",
       "               [ 1.1236,  1.2205,  0.6759],\n",
       "               [-1.0725, -0.9364, -1.3357],\n",
       "               [ 1.1236,  1.2205,  0.6759],\n",
       "               [-1.0725, -0.9364, -1.3357],\n",
       "               [ 1.1236,  1.2205,  0.6759],\n",
       "               [-1.0725, -0.9364, -1.3357],\n",
       "               [ 1.1236,  1.2205,  0.6759],\n",
       "               [-1.0725, -0.9364, -1.3357],\n",
       "               [ 1.1236,  1.2205,  0.6759],\n",
       "               [-1.0725, -0.9364, -1.3357],\n",
       "               [ 1.1236,  1.2205,  0.6759],\n",
       "               [-1.0725, -0.9364, -1.3357],\n",
       "               [ 1.1236,  1.2205,  0.6759],\n",
       "               [-1.0725, -0.9364, -1.3357],\n",
       "               [ 1.1236,  1.2205,  0.6759]]),\n",
       ")"
      ]
     },
     "execution_count": 27,
     "metadata": {},
     "output_type": "execute_result"
    }
   ],
   "source": [
    "Batch.cat(batches)"
   ]
  },
  {
   "cell_type": "code",
   "execution_count": 28,
   "id": "18dfb045",
   "metadata": {
    "execution": {
     "iopub.execute_input": "2023-02-27T13:07:41.144322Z",
     "iopub.status.busy": "2023-02-27T13:07:41.143772Z",
     "iopub.status.idle": "2023-02-27T13:07:52.947187Z",
     "shell.execute_reply": "2023-02-27T13:07:52.946236Z"
    }
   },
   "outputs": [
    {
     "name": "stdout",
     "output_type": "stream",
     "text": [
      "145 µs ± 548 ns per loop (mean ± std. dev. of 7 runs, 10,000 loops each)\n"
     ]
    }
   ],
   "source": [
    "%timeit Batch.cat(batches)"
   ]
  },
  {
   "cell_type": "code",
   "execution_count": 29,
   "id": "c6688e51",
   "metadata": {
    "execution": {
     "iopub.execute_input": "2023-02-27T13:07:52.950679Z",
     "iopub.status.busy": "2023-02-27T13:07:52.950239Z",
     "iopub.status.idle": "2023-02-27T13:07:55.587432Z",
     "shell.execute_reply": "2023-02-27T13:07:55.586482Z"
    }
   },
   "outputs": [
    {
     "name": "stdout",
     "output_type": "stream",
     "text": [
      "324 µs ± 950 ns per loop (mean ± std. dev. of 7 runs, 1,000 loops each)\n"
     ]
    }
   ],
   "source": [
    "batch = Batch({\n",
    "    'obs': torch.randn(8, 4, 84, 84),\n",
    "    'action': torch.randint(0, 6, size=(8, 1,)),\n",
    "    'reward': torch.rand(8, 1)}\n",
    ")\n",
    "\n",
    "%timeit list(Batch.split(batch, 1, shuffle=False, merge_last=True))"
   ]
  },
  {
   "cell_type": "code",
   "execution_count": null,
   "id": "2539fbd9",
   "metadata": {},
   "outputs": [],
   "source": []
  }
 ],
 "metadata": {
  "kernelspec": {
   "display_name": "Python 3 (ipykernel)",
   "language": "python",
   "name": "python3"
  },
  "language_info": {
   "codemirror_mode": {
    "name": "ipython",
    "version": 3
   },
   "file_extension": ".py",
   "mimetype": "text/x-python",
   "name": "python",
   "nbconvert_exporter": "python",
   "pygments_lexer": "ipython3",
   "version": "3.8.16"
  }
 },
 "nbformat": 4,
 "nbformat_minor": 5
}
