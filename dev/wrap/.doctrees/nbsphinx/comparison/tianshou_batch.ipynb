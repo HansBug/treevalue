{
 "cells": [
  {
   "cell_type": "markdown",
   "id": "9d39d946",
   "metadata": {},
   "source": [
    "# Comparison Between TreeValue and Tianshou Batch"
   ]
  },
  {
   "cell_type": "markdown",
   "id": "3c6db2d4",
   "metadata": {},
   "source": [
    "In this section, we will take a look at the feature and performance of the [Tianshou Batch](https://github.com/thu-ml/tianshou) library, which is developed by Tsinghua Machine Learning Group."
   ]
  },
  {
   "cell_type": "markdown",
   "id": "069361b0",
   "metadata": {},
   "source": [
    "Before starting the comparison, let us define some thing."
   ]
  },
  {
   "cell_type": "code",
   "execution_count": 1,
   "id": "06fc8d26",
   "metadata": {
    "execution": {
     "iopub.execute_input": "2023-02-26T15:52:23.602394Z",
     "iopub.status.busy": "2023-02-26T15:52:23.601429Z",
     "iopub.status.idle": "2023-02-26T15:52:24.827347Z",
     "shell.execute_reply": "2023-02-26T15:52:24.826293Z"
    }
   },
   "outputs": [
    {
     "name": "stderr",
     "output_type": "stream",
     "text": [
      "/opt/hostedtoolcache/Python/3.8.16/x64/lib/python3.8/site-packages/tqdm/auto.py:22: TqdmWarning: IProgress not found. Please update jupyter and ipywidgets. See https://ipywidgets.readthedocs.io/en/stable/user_install.html\n",
      "  from .autonotebook import tqdm as notebook_tqdm\n"
     ]
    }
   ],
   "source": [
    "import torch \n",
    "\n",
    "_TREE_DATA_1 = {'a': 1, 'b': 2, 'x': {'c': 3, 'd': 4}}\n",
    "_TREE_DATA_2 = {\n",
    "    'a': torch.randn(2, 3), \n",
    "    'x': {\n",
    "        'c': torch.randn(3, 4)\n",
    "    },\n",
    "}\n",
    "_TREE_DATA_3 = {\n",
    "    'obs': torch.randn(4, 84, 84),\n",
    "    'action': torch.randint(0, 6, size=(1,)),\n",
    "    'reward': torch.rand(1),\n",
    "}"
   ]
  },
  {
   "cell_type": "markdown",
   "id": "83461b25",
   "metadata": {},
   "source": [
    "## Read and Write Operation"
   ]
  },
  {
   "cell_type": "markdown",
   "id": "067b3f73",
   "metadata": {},
   "source": [
    "Reading and writing are the two most common operations in the tree data structure based on the data model (TreeValue and Tianshou Batch both belong to this type), so this section will compare the reading and writing performance of these two libraries."
   ]
  },
  {
   "cell_type": "markdown",
   "id": "5d09a5b7",
   "metadata": {},
   "source": [
    "### TreeValue's Get and Set"
   ]
  },
  {
   "cell_type": "code",
   "execution_count": 2,
   "id": "9519c4bb",
   "metadata": {
    "execution": {
     "iopub.execute_input": "2023-02-26T15:52:24.831550Z",
     "iopub.status.busy": "2023-02-26T15:52:24.831184Z",
     "iopub.status.idle": "2023-02-26T15:52:25.205196Z",
     "shell.execute_reply": "2023-02-26T15:52:25.204196Z"
    }
   },
   "outputs": [],
   "source": [
    "from treevalue import FastTreeValue\n",
    "\n",
    "t = FastTreeValue(_TREE_DATA_2)"
   ]
  },
  {
   "cell_type": "code",
   "execution_count": 3,
   "id": "11c37677",
   "metadata": {
    "execution": {
     "iopub.execute_input": "2023-02-26T15:52:25.209298Z",
     "iopub.status.busy": "2023-02-26T15:52:25.208933Z",
     "iopub.status.idle": "2023-02-26T15:52:25.220872Z",
     "shell.execute_reply": "2023-02-26T15:52:25.219917Z"
    }
   },
   "outputs": [
    {
     "data": {
      "text/plain": [
       "<FastTreeValue 0x7f7e00261ca0>\n",
       "├── 'a' --> tensor([[-0.3574, -0.7032,  0.6529],\n",
       "│                   [-1.1286, -0.5080,  0.1405]])\n",
       "└── 'x' --> <FastTreeValue 0x7f7e00261490>\n",
       "    └── 'c' --> tensor([[-0.7099,  0.1911, -2.1004,  1.2285],\n",
       "                        [ 0.2755,  0.4070, -0.9535, -0.5985],\n",
       "                        [-1.1073, -0.0925, -0.8500,  0.1077]])"
      ]
     },
     "execution_count": 3,
     "metadata": {},
     "output_type": "execute_result"
    }
   ],
   "source": [
    "t"
   ]
  },
  {
   "cell_type": "code",
   "execution_count": 4,
   "id": "fd70b0b9",
   "metadata": {
    "execution": {
     "iopub.execute_input": "2023-02-26T15:52:25.224267Z",
     "iopub.status.busy": "2023-02-26T15:52:25.223767Z",
     "iopub.status.idle": "2023-02-26T15:52:25.231805Z",
     "shell.execute_reply": "2023-02-26T15:52:25.230883Z"
    }
   },
   "outputs": [
    {
     "data": {
      "text/plain": [
       "tensor([[-0.3574, -0.7032,  0.6529],\n",
       "        [-1.1286, -0.5080,  0.1405]])"
      ]
     },
     "execution_count": 4,
     "metadata": {},
     "output_type": "execute_result"
    }
   ],
   "source": [
    "t.a"
   ]
  },
  {
   "cell_type": "code",
   "execution_count": 5,
   "id": "c18197bd",
   "metadata": {
    "execution": {
     "iopub.execute_input": "2023-02-26T15:52:25.235875Z",
     "iopub.status.busy": "2023-02-26T15:52:25.235243Z",
     "iopub.status.idle": "2023-02-26T15:52:31.383745Z",
     "shell.execute_reply": "2023-02-26T15:52:31.382683Z"
    }
   },
   "outputs": [
    {
     "name": "stdout",
     "output_type": "stream",
     "text": [
      "75.7 ns ± 1.24 ns per loop (mean ± std. dev. of 7 runs, 10,000,000 loops each)\n"
     ]
    }
   ],
   "source": [
    "%timeit t.a"
   ]
  },
  {
   "cell_type": "code",
   "execution_count": 6,
   "id": "bd52f867",
   "metadata": {
    "execution": {
     "iopub.execute_input": "2023-02-26T15:52:31.387771Z",
     "iopub.status.busy": "2023-02-26T15:52:31.387295Z",
     "iopub.status.idle": "2023-02-26T15:52:31.396342Z",
     "shell.execute_reply": "2023-02-26T15:52:31.395096Z"
    }
   },
   "outputs": [
    {
     "data": {
      "text/plain": [
       "<FastTreeValue 0x7f7e00261ca0>\n",
       "├── 'a' --> tensor([[ 0.3896, -0.4968, -0.6955],\n",
       "│                   [-0.4664, -0.3744, -1.9973]])\n",
       "└── 'x' --> <FastTreeValue 0x7f7e00261490>\n",
       "    └── 'c' --> tensor([[-0.7099,  0.1911, -2.1004,  1.2285],\n",
       "                        [ 0.2755,  0.4070, -0.9535, -0.5985],\n",
       "                        [-1.1073, -0.0925, -0.8500,  0.1077]])"
      ]
     },
     "execution_count": 6,
     "metadata": {},
     "output_type": "execute_result"
    }
   ],
   "source": [
    "new_value = torch.randn(2, 3)\n",
    "t.a = new_value\n",
    "\n",
    "t"
   ]
  },
  {
   "cell_type": "code",
   "execution_count": 7,
   "id": "bbe04d1c",
   "metadata": {
    "execution": {
     "iopub.execute_input": "2023-02-26T15:52:31.399780Z",
     "iopub.status.busy": "2023-02-26T15:52:31.399504Z",
     "iopub.status.idle": "2023-02-26T15:52:38.240132Z",
     "shell.execute_reply": "2023-02-26T15:52:38.239062Z"
    }
   },
   "outputs": [
    {
     "name": "stdout",
     "output_type": "stream",
     "text": [
      "84.4 ns ± 1.03 ns per loop (mean ± std. dev. of 7 runs, 10,000,000 loops each)\n"
     ]
    }
   ],
   "source": [
    "%timeit t.a = new_value"
   ]
  },
  {
   "cell_type": "markdown",
   "id": "48c49731",
   "metadata": {},
   "source": [
    "### Tianshou Batch's Get and Set"
   ]
  },
  {
   "cell_type": "code",
   "execution_count": 8,
   "id": "f1bb14c1",
   "metadata": {
    "execution": {
     "iopub.execute_input": "2023-02-26T15:52:38.244342Z",
     "iopub.status.busy": "2023-02-26T15:52:38.243572Z",
     "iopub.status.idle": "2023-02-26T15:52:38.694762Z",
     "shell.execute_reply": "2023-02-26T15:52:38.693745Z"
    }
   },
   "outputs": [],
   "source": [
    "from tianshou.data import Batch\n",
    "\n",
    "b = Batch(**_TREE_DATA_2)"
   ]
  },
  {
   "cell_type": "code",
   "execution_count": 9,
   "id": "cb0777c3",
   "metadata": {
    "execution": {
     "iopub.execute_input": "2023-02-26T15:52:38.698629Z",
     "iopub.status.busy": "2023-02-26T15:52:38.698230Z",
     "iopub.status.idle": "2023-02-26T15:52:38.706662Z",
     "shell.execute_reply": "2023-02-26T15:52:38.705735Z"
    }
   },
   "outputs": [
    {
     "data": {
      "text/plain": [
       "Batch(\n",
       "    a: tensor([[-0.3574, -0.7032,  0.6529],\n",
       "               [-1.1286, -0.5080,  0.1405]]),\n",
       "    x: Batch(\n",
       "           c: tensor([[-0.7099,  0.1911, -2.1004,  1.2285],\n",
       "                      [ 0.2755,  0.4070, -0.9535, -0.5985],\n",
       "                      [-1.1073, -0.0925, -0.8500,  0.1077]]),\n",
       "       ),\n",
       ")"
      ]
     },
     "execution_count": 9,
     "metadata": {},
     "output_type": "execute_result"
    }
   ],
   "source": [
    "b"
   ]
  },
  {
   "cell_type": "code",
   "execution_count": 10,
   "id": "43ef8ea3",
   "metadata": {
    "execution": {
     "iopub.execute_input": "2023-02-26T15:52:38.710512Z",
     "iopub.status.busy": "2023-02-26T15:52:38.710210Z",
     "iopub.status.idle": "2023-02-26T15:52:38.716832Z",
     "shell.execute_reply": "2023-02-26T15:52:38.715900Z"
    }
   },
   "outputs": [
    {
     "data": {
      "text/plain": [
       "tensor([[-0.3574, -0.7032,  0.6529],\n",
       "        [-1.1286, -0.5080,  0.1405]])"
      ]
     },
     "execution_count": 10,
     "metadata": {},
     "output_type": "execute_result"
    }
   ],
   "source": [
    "b.a"
   ]
  },
  {
   "cell_type": "code",
   "execution_count": 11,
   "id": "b785ab72",
   "metadata": {
    "execution": {
     "iopub.execute_input": "2023-02-26T15:52:38.720373Z",
     "iopub.status.busy": "2023-02-26T15:52:38.719820Z",
     "iopub.status.idle": "2023-02-26T15:52:44.491665Z",
     "shell.execute_reply": "2023-02-26T15:52:44.490590Z"
    }
   },
   "outputs": [
    {
     "name": "stdout",
     "output_type": "stream",
     "text": [
      "70.8 ns ± 1.42 ns per loop (mean ± std. dev. of 7 runs, 10,000,000 loops each)\n"
     ]
    }
   ],
   "source": [
    "%timeit b.a"
   ]
  },
  {
   "cell_type": "code",
   "execution_count": 12,
   "id": "ad54dc69",
   "metadata": {
    "execution": {
     "iopub.execute_input": "2023-02-26T15:52:44.495313Z",
     "iopub.status.busy": "2023-02-26T15:52:44.494708Z",
     "iopub.status.idle": "2023-02-26T15:52:44.503533Z",
     "shell.execute_reply": "2023-02-26T15:52:44.502503Z"
    }
   },
   "outputs": [
    {
     "data": {
      "text/plain": [
       "Batch(\n",
       "    a: tensor([[ 0.7762, -1.7316,  0.0786],\n",
       "               [-2.2128,  0.1379,  0.6481]]),\n",
       "    x: Batch(\n",
       "           c: tensor([[-0.7099,  0.1911, -2.1004,  1.2285],\n",
       "                      [ 0.2755,  0.4070, -0.9535, -0.5985],\n",
       "                      [-1.1073, -0.0925, -0.8500,  0.1077]]),\n",
       "       ),\n",
       ")"
      ]
     },
     "execution_count": 12,
     "metadata": {},
     "output_type": "execute_result"
    }
   ],
   "source": [
    "new_value = torch.randn(2, 3)\n",
    "b.a = new_value\n",
    "\n",
    "b"
   ]
  },
  {
   "cell_type": "code",
   "execution_count": 13,
   "id": "29b1d0bf",
   "metadata": {
    "execution": {
     "iopub.execute_input": "2023-02-26T15:52:44.506704Z",
     "iopub.status.busy": "2023-02-26T15:52:44.506172Z",
     "iopub.status.idle": "2023-02-26T15:52:49.587964Z",
     "shell.execute_reply": "2023-02-26T15:52:49.586884Z"
    }
   },
   "outputs": [
    {
     "name": "stdout",
     "output_type": "stream",
     "text": [
      "628 ns ± 8.67 ns per loop (mean ± std. dev. of 7 runs, 1,000,000 loops each)\n"
     ]
    }
   ],
   "source": [
    "%timeit b.a = new_value"
   ]
  },
  {
   "cell_type": "markdown",
   "id": "b61ad1d0",
   "metadata": {},
   "source": [
    "## Initialization"
   ]
  },
  {
   "cell_type": "markdown",
   "id": "d70f0d54",
   "metadata": {},
   "source": [
    "### TreeValue's Initialization"
   ]
  },
  {
   "cell_type": "code",
   "execution_count": 14,
   "id": "d32a679b",
   "metadata": {
    "execution": {
     "iopub.execute_input": "2023-02-26T15:52:49.591902Z",
     "iopub.status.busy": "2023-02-26T15:52:49.591330Z",
     "iopub.status.idle": "2023-02-26T15:52:58.002114Z",
     "shell.execute_reply": "2023-02-26T15:52:58.001089Z"
    }
   },
   "outputs": [
    {
     "name": "stdout",
     "output_type": "stream",
     "text": [
      "1.03 µs ± 16.2 ns per loop (mean ± std. dev. of 7 runs, 1,000,000 loops each)\n"
     ]
    }
   ],
   "source": [
    "%timeit FastTreeValue(_TREE_DATA_1)"
   ]
  },
  {
   "cell_type": "markdown",
   "id": "24f3707b",
   "metadata": {},
   "source": [
    "### Tianshou Batch's Initialization"
   ]
  },
  {
   "cell_type": "code",
   "execution_count": 15,
   "id": "ac3958df",
   "metadata": {
    "execution": {
     "iopub.execute_input": "2023-02-26T15:52:58.005872Z",
     "iopub.status.busy": "2023-02-26T15:52:58.005548Z",
     "iopub.status.idle": "2023-02-26T15:53:09.375915Z",
     "shell.execute_reply": "2023-02-26T15:53:09.374736Z"
    }
   },
   "outputs": [
    {
     "name": "stdout",
     "output_type": "stream",
     "text": [
      "14 µs ± 292 ns per loop (mean ± std. dev. of 7 runs, 100,000 loops each)\n"
     ]
    }
   ],
   "source": [
    "%timeit Batch(**_TREE_DATA_1)"
   ]
  },
  {
   "cell_type": "markdown",
   "id": "1ab82e2d",
   "metadata": {},
   "source": [
    "## Deep Copy Operation"
   ]
  },
  {
   "cell_type": "code",
   "execution_count": 16,
   "id": "210a9442",
   "metadata": {
    "execution": {
     "iopub.execute_input": "2023-02-26T15:53:09.379524Z",
     "iopub.status.busy": "2023-02-26T15:53:09.379226Z",
     "iopub.status.idle": "2023-02-26T15:53:09.384316Z",
     "shell.execute_reply": "2023-02-26T15:53:09.383298Z"
    }
   },
   "outputs": [],
   "source": [
    "import copy"
   ]
  },
  {
   "cell_type": "markdown",
   "id": "5a736274",
   "metadata": {},
   "source": [
    "### Deep Copy of TreeValue"
   ]
  },
  {
   "cell_type": "code",
   "execution_count": 17,
   "id": "f9bcadd6",
   "metadata": {
    "execution": {
     "iopub.execute_input": "2023-02-26T15:53:09.387417Z",
     "iopub.status.busy": "2023-02-26T15:53:09.387122Z",
     "iopub.status.idle": "2023-02-26T15:53:11.847820Z",
     "shell.execute_reply": "2023-02-26T15:53:11.846925Z"
    }
   },
   "outputs": [
    {
     "name": "stdout",
     "output_type": "stream",
     "text": [
      "294 µs ± 9.05 µs per loop (mean ± std. dev. of 7 runs, 1,000 loops each)\n"
     ]
    }
   ],
   "source": [
    "t3 = FastTreeValue(_TREE_DATA_3)\n",
    "%timeit copy.deepcopy(t3)"
   ]
  },
  {
   "cell_type": "markdown",
   "id": "bf8be7ea",
   "metadata": {},
   "source": [
    "### Deep Copy of Tianshou Batch"
   ]
  },
  {
   "cell_type": "code",
   "execution_count": 18,
   "id": "91998e6f",
   "metadata": {
    "execution": {
     "iopub.execute_input": "2023-02-26T15:53:11.851922Z",
     "iopub.status.busy": "2023-02-26T15:53:11.851429Z",
     "iopub.status.idle": "2023-02-26T15:53:14.085797Z",
     "shell.execute_reply": "2023-02-26T15:53:14.084854Z"
    }
   },
   "outputs": [
    {
     "name": "stdout",
     "output_type": "stream",
     "text": [
      "274 µs ± 7.75 µs per loop (mean ± std. dev. of 7 runs, 1,000 loops each)\n"
     ]
    }
   ],
   "source": [
    "b3 = Batch(**_TREE_DATA_3)\n",
    "%timeit copy.deepcopy(b3)"
   ]
  },
  {
   "cell_type": "markdown",
   "id": "223162fb",
   "metadata": {},
   "source": [
    "## Stack, Concat and Split Operation"
   ]
  },
  {
   "cell_type": "markdown",
   "id": "85fa4a73",
   "metadata": {},
   "source": [
    "### Performance of TreeValue"
   ]
  },
  {
   "cell_type": "code",
   "execution_count": 19,
   "id": "a0c2b697",
   "metadata": {
    "execution": {
     "iopub.execute_input": "2023-02-26T15:53:14.089477Z",
     "iopub.status.busy": "2023-02-26T15:53:14.088992Z",
     "iopub.status.idle": "2023-02-26T15:53:14.093068Z",
     "shell.execute_reply": "2023-02-26T15:53:14.092213Z"
    }
   },
   "outputs": [],
   "source": [
    "trees = [FastTreeValue(_TREE_DATA_2) for _ in range(8)]"
   ]
  },
  {
   "cell_type": "code",
   "execution_count": 20,
   "id": "017ea5a5",
   "metadata": {
    "execution": {
     "iopub.execute_input": "2023-02-26T15:53:14.096501Z",
     "iopub.status.busy": "2023-02-26T15:53:14.095921Z",
     "iopub.status.idle": "2023-02-26T15:53:14.105449Z",
     "shell.execute_reply": "2023-02-26T15:53:14.104412Z"
    }
   },
   "outputs": [
    {
     "data": {
      "text/plain": [
       "<FastTreeValue 0x7f7d501646a0>\n",
       "├── 'a' --> tensor([[[-0.3574, -0.7032,  0.6529],\n",
       "│                    [-1.1286, -0.5080,  0.1405]],\n",
       "│           \n",
       "│                   [[-0.3574, -0.7032,  0.6529],\n",
       "│                    [-1.1286, -0.5080,  0.1405]],\n",
       "│           \n",
       "│                   [[-0.3574, -0.7032,  0.6529],\n",
       "│                    [-1.1286, -0.5080,  0.1405]],\n",
       "│           \n",
       "│                   [[-0.3574, -0.7032,  0.6529],\n",
       "│                    [-1.1286, -0.5080,  0.1405]],\n",
       "│           \n",
       "│                   [[-0.3574, -0.7032,  0.6529],\n",
       "│                    [-1.1286, -0.5080,  0.1405]],\n",
       "│           \n",
       "│                   [[-0.3574, -0.7032,  0.6529],\n",
       "│                    [-1.1286, -0.5080,  0.1405]],\n",
       "│           \n",
       "│                   [[-0.3574, -0.7032,  0.6529],\n",
       "│                    [-1.1286, -0.5080,  0.1405]],\n",
       "│           \n",
       "│                   [[-0.3574, -0.7032,  0.6529],\n",
       "│                    [-1.1286, -0.5080,  0.1405]]])\n",
       "└── 'x' --> <FastTreeValue 0x7f7d50164400>\n",
       "    └── 'c' --> tensor([[[-0.7099,  0.1911, -2.1004,  1.2285],\n",
       "                         [ 0.2755,  0.4070, -0.9535, -0.5985],\n",
       "                         [-1.1073, -0.0925, -0.8500,  0.1077]],\n",
       "                \n",
       "                        [[-0.7099,  0.1911, -2.1004,  1.2285],\n",
       "                         [ 0.2755,  0.4070, -0.9535, -0.5985],\n",
       "                         [-1.1073, -0.0925, -0.8500,  0.1077]],\n",
       "                \n",
       "                        [[-0.7099,  0.1911, -2.1004,  1.2285],\n",
       "                         [ 0.2755,  0.4070, -0.9535, -0.5985],\n",
       "                         [-1.1073, -0.0925, -0.8500,  0.1077]],\n",
       "                \n",
       "                        [[-0.7099,  0.1911, -2.1004,  1.2285],\n",
       "                         [ 0.2755,  0.4070, -0.9535, -0.5985],\n",
       "                         [-1.1073, -0.0925, -0.8500,  0.1077]],\n",
       "                \n",
       "                        [[-0.7099,  0.1911, -2.1004,  1.2285],\n",
       "                         [ 0.2755,  0.4070, -0.9535, -0.5985],\n",
       "                         [-1.1073, -0.0925, -0.8500,  0.1077]],\n",
       "                \n",
       "                        [[-0.7099,  0.1911, -2.1004,  1.2285],\n",
       "                         [ 0.2755,  0.4070, -0.9535, -0.5985],\n",
       "                         [-1.1073, -0.0925, -0.8500,  0.1077]],\n",
       "                \n",
       "                        [[-0.7099,  0.1911, -2.1004,  1.2285],\n",
       "                         [ 0.2755,  0.4070, -0.9535, -0.5985],\n",
       "                         [-1.1073, -0.0925, -0.8500,  0.1077]],\n",
       "                \n",
       "                        [[-0.7099,  0.1911, -2.1004,  1.2285],\n",
       "                         [ 0.2755,  0.4070, -0.9535, -0.5985],\n",
       "                         [-1.1073, -0.0925, -0.8500,  0.1077]]])"
      ]
     },
     "execution_count": 20,
     "metadata": {},
     "output_type": "execute_result"
    }
   ],
   "source": [
    "t_stack = FastTreeValue.func(subside=True)(torch.stack)\n",
    "\n",
    "t_stack(trees)"
   ]
  },
  {
   "cell_type": "code",
   "execution_count": 21,
   "id": "f8b3f415",
   "metadata": {
    "execution": {
     "iopub.execute_input": "2023-02-26T15:53:14.109697Z",
     "iopub.status.busy": "2023-02-26T15:53:14.109061Z",
     "iopub.status.idle": "2023-02-26T15:53:18.076864Z",
     "shell.execute_reply": "2023-02-26T15:53:18.075699Z"
    }
   },
   "outputs": [
    {
     "name": "stdout",
     "output_type": "stream",
     "text": [
      "48.7 µs ± 800 ns per loop (mean ± std. dev. of 7 runs, 10,000 loops each)\n"
     ]
    }
   ],
   "source": [
    "%timeit t_stack(trees)"
   ]
  },
  {
   "cell_type": "code",
   "execution_count": 22,
   "id": "94b56771",
   "metadata": {
    "execution": {
     "iopub.execute_input": "2023-02-26T15:53:18.081401Z",
     "iopub.status.busy": "2023-02-26T15:53:18.081077Z",
     "iopub.status.idle": "2023-02-26T15:53:18.091615Z",
     "shell.execute_reply": "2023-02-26T15:53:18.090489Z"
    }
   },
   "outputs": [
    {
     "data": {
      "text/plain": [
       "<FastTreeValue 0x7f7d501645b0>\n",
       "├── 'a' --> tensor([[-0.3574, -0.7032,  0.6529],\n",
       "│                   [-1.1286, -0.5080,  0.1405],\n",
       "│                   [-0.3574, -0.7032,  0.6529],\n",
       "│                   [-1.1286, -0.5080,  0.1405],\n",
       "│                   [-0.3574, -0.7032,  0.6529],\n",
       "│                   [-1.1286, -0.5080,  0.1405],\n",
       "│                   [-0.3574, -0.7032,  0.6529],\n",
       "│                   [-1.1286, -0.5080,  0.1405],\n",
       "│                   [-0.3574, -0.7032,  0.6529],\n",
       "│                   [-1.1286, -0.5080,  0.1405],\n",
       "│                   [-0.3574, -0.7032,  0.6529],\n",
       "│                   [-1.1286, -0.5080,  0.1405],\n",
       "│                   [-0.3574, -0.7032,  0.6529],\n",
       "│                   [-1.1286, -0.5080,  0.1405],\n",
       "│                   [-0.3574, -0.7032,  0.6529],\n",
       "│                   [-1.1286, -0.5080,  0.1405]])\n",
       "└── 'x' --> <FastTreeValue 0x7f7dd82c3b80>\n",
       "    └── 'c' --> tensor([[-0.7099,  0.1911, -2.1004,  1.2285],\n",
       "                        [ 0.2755,  0.4070, -0.9535, -0.5985],\n",
       "                        [-1.1073, -0.0925, -0.8500,  0.1077],\n",
       "                        [-0.7099,  0.1911, -2.1004,  1.2285],\n",
       "                        [ 0.2755,  0.4070, -0.9535, -0.5985],\n",
       "                        [-1.1073, -0.0925, -0.8500,  0.1077],\n",
       "                        [-0.7099,  0.1911, -2.1004,  1.2285],\n",
       "                        [ 0.2755,  0.4070, -0.9535, -0.5985],\n",
       "                        [-1.1073, -0.0925, -0.8500,  0.1077],\n",
       "                        [-0.7099,  0.1911, -2.1004,  1.2285],\n",
       "                        [ 0.2755,  0.4070, -0.9535, -0.5985],\n",
       "                        [-1.1073, -0.0925, -0.8500,  0.1077],\n",
       "                        [-0.7099,  0.1911, -2.1004,  1.2285],\n",
       "                        [ 0.2755,  0.4070, -0.9535, -0.5985],\n",
       "                        [-1.1073, -0.0925, -0.8500,  0.1077],\n",
       "                        [-0.7099,  0.1911, -2.1004,  1.2285],\n",
       "                        [ 0.2755,  0.4070, -0.9535, -0.5985],\n",
       "                        [-1.1073, -0.0925, -0.8500,  0.1077],\n",
       "                        [-0.7099,  0.1911, -2.1004,  1.2285],\n",
       "                        [ 0.2755,  0.4070, -0.9535, -0.5985],\n",
       "                        [-1.1073, -0.0925, -0.8500,  0.1077],\n",
       "                        [-0.7099,  0.1911, -2.1004,  1.2285],\n",
       "                        [ 0.2755,  0.4070, -0.9535, -0.5985],\n",
       "                        [-1.1073, -0.0925, -0.8500,  0.1077]])"
      ]
     },
     "execution_count": 22,
     "metadata": {},
     "output_type": "execute_result"
    }
   ],
   "source": [
    "t_cat = FastTreeValue.func(subside=True)(torch.cat)\n",
    "\n",
    "t_cat(trees)"
   ]
  },
  {
   "cell_type": "code",
   "execution_count": 23,
   "id": "5e9c06a6",
   "metadata": {
    "execution": {
     "iopub.execute_input": "2023-02-26T15:53:18.095061Z",
     "iopub.status.busy": "2023-02-26T15:53:18.094766Z",
     "iopub.status.idle": "2023-02-26T15:53:21.557951Z",
     "shell.execute_reply": "2023-02-26T15:53:21.556693Z"
    }
   },
   "outputs": [
    {
     "name": "stdout",
     "output_type": "stream",
     "text": [
      "42.7 µs ± 1.39 µs per loop (mean ± std. dev. of 7 runs, 10,000 loops each)\n"
     ]
    }
   ],
   "source": [
    "%timeit t_cat(trees)"
   ]
  },
  {
   "cell_type": "code",
   "execution_count": 24,
   "id": "a3ab5c8f",
   "metadata": {
    "execution": {
     "iopub.execute_input": "2023-02-26T15:53:21.561682Z",
     "iopub.status.busy": "2023-02-26T15:53:21.561207Z",
     "iopub.status.idle": "2023-02-26T15:53:28.673027Z",
     "shell.execute_reply": "2023-02-26T15:53:28.671854Z"
    }
   },
   "outputs": [
    {
     "name": "stdout",
     "output_type": "stream",
     "text": [
      "87.5 µs ± 936 ns per loop (mean ± std. dev. of 7 runs, 10,000 loops each)\n"
     ]
    }
   ],
   "source": [
    "t_split = FastTreeValue.func(rise=True)(torch.split)\n",
    "tree = FastTreeValue({\n",
    "    'obs': torch.randn(8, 4, 84, 84),\n",
    "    'action': torch.randint(0, 6, size=(8, 1,)),\n",
    "    'reward': torch.rand(8, 1),\n",
    "})\n",
    "\n",
    "%timeit t_split(tree, 1)"
   ]
  },
  {
   "cell_type": "markdown",
   "id": "31c3ec0b",
   "metadata": {},
   "source": [
    "### Performance of Tianshou Batch"
   ]
  },
  {
   "cell_type": "code",
   "execution_count": 25,
   "id": "9ead828a",
   "metadata": {
    "execution": {
     "iopub.execute_input": "2023-02-26T15:53:28.676999Z",
     "iopub.status.busy": "2023-02-26T15:53:28.676666Z",
     "iopub.status.idle": "2023-02-26T15:53:28.687516Z",
     "shell.execute_reply": "2023-02-26T15:53:28.686584Z"
    }
   },
   "outputs": [
    {
     "data": {
      "text/plain": [
       "Batch(\n",
       "    a: tensor([[[-0.3574, -0.7032,  0.6529],\n",
       "                [-1.1286, -0.5080,  0.1405]],\n",
       "       \n",
       "               [[-0.3574, -0.7032,  0.6529],\n",
       "                [-1.1286, -0.5080,  0.1405]],\n",
       "       \n",
       "               [[-0.3574, -0.7032,  0.6529],\n",
       "                [-1.1286, -0.5080,  0.1405]],\n",
       "       \n",
       "               [[-0.3574, -0.7032,  0.6529],\n",
       "                [-1.1286, -0.5080,  0.1405]],\n",
       "       \n",
       "               [[-0.3574, -0.7032,  0.6529],\n",
       "                [-1.1286, -0.5080,  0.1405]],\n",
       "       \n",
       "               [[-0.3574, -0.7032,  0.6529],\n",
       "                [-1.1286, -0.5080,  0.1405]],\n",
       "       \n",
       "               [[-0.3574, -0.7032,  0.6529],\n",
       "                [-1.1286, -0.5080,  0.1405]],\n",
       "       \n",
       "               [[-0.3574, -0.7032,  0.6529],\n",
       "                [-1.1286, -0.5080,  0.1405]]]),\n",
       "    x: Batch(\n",
       "           c: tensor([[[-0.7099,  0.1911, -2.1004,  1.2285],\n",
       "                       [ 0.2755,  0.4070, -0.9535, -0.5985],\n",
       "                       [-1.1073, -0.0925, -0.8500,  0.1077]],\n",
       "              \n",
       "                      [[-0.7099,  0.1911, -2.1004,  1.2285],\n",
       "                       [ 0.2755,  0.4070, -0.9535, -0.5985],\n",
       "                       [-1.1073, -0.0925, -0.8500,  0.1077]],\n",
       "              \n",
       "                      [[-0.7099,  0.1911, -2.1004,  1.2285],\n",
       "                       [ 0.2755,  0.4070, -0.9535, -0.5985],\n",
       "                       [-1.1073, -0.0925, -0.8500,  0.1077]],\n",
       "              \n",
       "                      [[-0.7099,  0.1911, -2.1004,  1.2285],\n",
       "                       [ 0.2755,  0.4070, -0.9535, -0.5985],\n",
       "                       [-1.1073, -0.0925, -0.8500,  0.1077]],\n",
       "              \n",
       "                      [[-0.7099,  0.1911, -2.1004,  1.2285],\n",
       "                       [ 0.2755,  0.4070, -0.9535, -0.5985],\n",
       "                       [-1.1073, -0.0925, -0.8500,  0.1077]],\n",
       "              \n",
       "                      [[-0.7099,  0.1911, -2.1004,  1.2285],\n",
       "                       [ 0.2755,  0.4070, -0.9535, -0.5985],\n",
       "                       [-1.1073, -0.0925, -0.8500,  0.1077]],\n",
       "              \n",
       "                      [[-0.7099,  0.1911, -2.1004,  1.2285],\n",
       "                       [ 0.2755,  0.4070, -0.9535, -0.5985],\n",
       "                       [-1.1073, -0.0925, -0.8500,  0.1077]],\n",
       "              \n",
       "                      [[-0.7099,  0.1911, -2.1004,  1.2285],\n",
       "                       [ 0.2755,  0.4070, -0.9535, -0.5985],\n",
       "                       [-1.1073, -0.0925, -0.8500,  0.1077]]]),\n",
       "       ),\n",
       ")"
      ]
     },
     "execution_count": 25,
     "metadata": {},
     "output_type": "execute_result"
    }
   ],
   "source": [
    "batches = [Batch(**_TREE_DATA_2) for _ in range(8)]\n",
    "\n",
    "Batch.stack(batches)"
   ]
  },
  {
   "cell_type": "code",
   "execution_count": 26,
   "id": "ec9037a3",
   "metadata": {
    "execution": {
     "iopub.execute_input": "2023-02-26T15:53:28.690873Z",
     "iopub.status.busy": "2023-02-26T15:53:28.690586Z",
     "iopub.status.idle": "2023-02-26T15:53:37.469363Z",
     "shell.execute_reply": "2023-02-26T15:53:37.468319Z"
    }
   },
   "outputs": [
    {
     "name": "stdout",
     "output_type": "stream",
     "text": [
      "108 µs ± 1.2 µs per loop (mean ± std. dev. of 7 runs, 10,000 loops each)\n"
     ]
    }
   ],
   "source": [
    "%timeit Batch.stack(batches)"
   ]
  },
  {
   "cell_type": "code",
   "execution_count": 27,
   "id": "cb8ab77e",
   "metadata": {
    "execution": {
     "iopub.execute_input": "2023-02-26T15:53:37.472806Z",
     "iopub.status.busy": "2023-02-26T15:53:37.472501Z",
     "iopub.status.idle": "2023-02-26T15:53:37.482078Z",
     "shell.execute_reply": "2023-02-26T15:53:37.481203Z"
    }
   },
   "outputs": [
    {
     "data": {
      "text/plain": [
       "Batch(\n",
       "    a: tensor([[-0.3574, -0.7032,  0.6529],\n",
       "               [-1.1286, -0.5080,  0.1405],\n",
       "               [-0.3574, -0.7032,  0.6529],\n",
       "               [-1.1286, -0.5080,  0.1405],\n",
       "               [-0.3574, -0.7032,  0.6529],\n",
       "               [-1.1286, -0.5080,  0.1405],\n",
       "               [-0.3574, -0.7032,  0.6529],\n",
       "               [-1.1286, -0.5080,  0.1405],\n",
       "               [-0.3574, -0.7032,  0.6529],\n",
       "               [-1.1286, -0.5080,  0.1405],\n",
       "               [-0.3574, -0.7032,  0.6529],\n",
       "               [-1.1286, -0.5080,  0.1405],\n",
       "               [-0.3574, -0.7032,  0.6529],\n",
       "               [-1.1286, -0.5080,  0.1405],\n",
       "               [-0.3574, -0.7032,  0.6529],\n",
       "               [-1.1286, -0.5080,  0.1405]]),\n",
       "    x: Batch(\n",
       "           c: tensor([[-0.7099,  0.1911, -2.1004,  1.2285],\n",
       "                      [ 0.2755,  0.4070, -0.9535, -0.5985],\n",
       "                      [-1.1073, -0.0925, -0.8500,  0.1077],\n",
       "                      [-0.7099,  0.1911, -2.1004,  1.2285],\n",
       "                      [ 0.2755,  0.4070, -0.9535, -0.5985],\n",
       "                      [-1.1073, -0.0925, -0.8500,  0.1077],\n",
       "                      [-0.7099,  0.1911, -2.1004,  1.2285],\n",
       "                      [ 0.2755,  0.4070, -0.9535, -0.5985],\n",
       "                      [-1.1073, -0.0925, -0.8500,  0.1077],\n",
       "                      [-0.7099,  0.1911, -2.1004,  1.2285],\n",
       "                      [ 0.2755,  0.4070, -0.9535, -0.5985],\n",
       "                      [-1.1073, -0.0925, -0.8500,  0.1077],\n",
       "                      [-0.7099,  0.1911, -2.1004,  1.2285],\n",
       "                      [ 0.2755,  0.4070, -0.9535, -0.5985],\n",
       "                      [-1.1073, -0.0925, -0.8500,  0.1077],\n",
       "                      [-0.7099,  0.1911, -2.1004,  1.2285],\n",
       "                      [ 0.2755,  0.4070, -0.9535, -0.5985],\n",
       "                      [-1.1073, -0.0925, -0.8500,  0.1077],\n",
       "                      [-0.7099,  0.1911, -2.1004,  1.2285],\n",
       "                      [ 0.2755,  0.4070, -0.9535, -0.5985],\n",
       "                      [-1.1073, -0.0925, -0.8500,  0.1077],\n",
       "                      [-0.7099,  0.1911, -2.1004,  1.2285],\n",
       "                      [ 0.2755,  0.4070, -0.9535, -0.5985],\n",
       "                      [-1.1073, -0.0925, -0.8500,  0.1077]]),\n",
       "       ),\n",
       ")"
      ]
     },
     "execution_count": 27,
     "metadata": {},
     "output_type": "execute_result"
    }
   ],
   "source": [
    "Batch.cat(batches)"
   ]
  },
  {
   "cell_type": "code",
   "execution_count": 28,
   "id": "18dfb045",
   "metadata": {
    "execution": {
     "iopub.execute_input": "2023-02-26T15:53:37.485424Z",
     "iopub.status.busy": "2023-02-26T15:53:37.484906Z",
     "iopub.status.idle": "2023-02-26T15:53:52.855700Z",
     "shell.execute_reply": "2023-02-26T15:53:52.854584Z"
    }
   },
   "outputs": [
    {
     "name": "stdout",
     "output_type": "stream",
     "text": [
      "189 µs ± 1.5 µs per loop (mean ± std. dev. of 7 runs, 10,000 loops each)\n"
     ]
    }
   ],
   "source": [
    "%timeit Batch.cat(batches)"
   ]
  },
  {
   "cell_type": "code",
   "execution_count": 29,
   "id": "c6688e51",
   "metadata": {
    "execution": {
     "iopub.execute_input": "2023-02-26T15:53:52.859343Z",
     "iopub.status.busy": "2023-02-26T15:53:52.859020Z",
     "iopub.status.idle": "2023-02-26T15:53:57.631573Z",
     "shell.execute_reply": "2023-02-26T15:53:57.630546Z"
    }
   },
   "outputs": [
    {
     "name": "stdout",
     "output_type": "stream",
     "text": [
      "587 µs ± 6.33 µs per loop (mean ± std. dev. of 7 runs, 1,000 loops each)\n"
     ]
    }
   ],
   "source": [
    "batch = Batch({\n",
    "    'obs': torch.randn(8, 4, 84, 84),\n",
    "    'action': torch.randint(0, 6, size=(8, 1,)),\n",
    "    'reward': torch.rand(8, 1)}\n",
    ")\n",
    "\n",
    "%timeit list(Batch.split(batch, 1, shuffle=False, merge_last=True))"
   ]
  },
  {
   "cell_type": "code",
   "execution_count": null,
   "id": "2539fbd9",
   "metadata": {},
   "outputs": [],
   "source": []
  }
 ],
 "metadata": {
  "kernelspec": {
   "display_name": "Python 3 (ipykernel)",
   "language": "python",
   "name": "python3"
  },
  "language_info": {
   "codemirror_mode": {
    "name": "ipython",
    "version": 3
   },
   "file_extension": ".py",
   "mimetype": "text/x-python",
   "name": "python",
   "nbconvert_exporter": "python",
   "pygments_lexer": "ipython3",
   "version": "3.8.16"
  }
 },
 "nbformat": 4,
 "nbformat_minor": 5
}
