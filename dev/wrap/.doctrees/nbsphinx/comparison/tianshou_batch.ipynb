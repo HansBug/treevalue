{
 "cells": [
  {
   "cell_type": "markdown",
   "id": "9d39d946",
   "metadata": {},
   "source": [
    "# Comparison Between TreeValue and Tianshou Batch"
   ]
  },
  {
   "cell_type": "markdown",
   "id": "3c6db2d4",
   "metadata": {},
   "source": [
    "In this section, we will take a look at the feature and performance of the [Tianshou Batch](https://github.com/thu-ml/tianshou) library, which is developed by Tsinghua Machine Learning Group."
   ]
  },
  {
   "cell_type": "markdown",
   "id": "069361b0",
   "metadata": {},
   "source": [
    "Before starting the comparison, let us define some thing."
   ]
  },
  {
   "cell_type": "code",
   "execution_count": 1,
   "id": "06fc8d26",
   "metadata": {
    "execution": {
     "iopub.execute_input": "2023-02-27T12:32:07.845793Z",
     "iopub.status.busy": "2023-02-27T12:32:07.845551Z",
     "iopub.status.idle": "2023-02-27T12:32:08.796646Z",
     "shell.execute_reply": "2023-02-27T12:32:08.795915Z"
    }
   },
   "outputs": [
    {
     "name": "stderr",
     "output_type": "stream",
     "text": [
      "/opt/hostedtoolcache/Python/3.8.16/x64/lib/python3.8/site-packages/tqdm/auto.py:22: TqdmWarning: IProgress not found. Please update jupyter and ipywidgets. See https://ipywidgets.readthedocs.io/en/stable/user_install.html\n",
      "  from .autonotebook import tqdm as notebook_tqdm\n"
     ]
    }
   ],
   "source": [
    "import torch \n",
    "\n",
    "_TREE_DATA_1 = {'a': 1, 'b': 2, 'x': {'c': 3, 'd': 4}}\n",
    "_TREE_DATA_2 = {\n",
    "    'a': torch.randn(2, 3), \n",
    "    'x': {\n",
    "        'c': torch.randn(3, 4)\n",
    "    },\n",
    "}\n",
    "_TREE_DATA_3 = {\n",
    "    'obs': torch.randn(4, 84, 84),\n",
    "    'action': torch.randint(0, 6, size=(1,)),\n",
    "    'reward': torch.rand(1),\n",
    "}"
   ]
  },
  {
   "cell_type": "markdown",
   "id": "83461b25",
   "metadata": {},
   "source": [
    "## Read and Write Operation"
   ]
  },
  {
   "cell_type": "markdown",
   "id": "067b3f73",
   "metadata": {},
   "source": [
    "Reading and writing are the two most common operations in the tree data structure based on the data model (TreeValue and Tianshou Batch both belong to this type), so this section will compare the reading and writing performance of these two libraries."
   ]
  },
  {
   "cell_type": "markdown",
   "id": "5d09a5b7",
   "metadata": {},
   "source": [
    "### TreeValue's Get and Set"
   ]
  },
  {
   "cell_type": "code",
   "execution_count": 2,
   "id": "9519c4bb",
   "metadata": {
    "execution": {
     "iopub.execute_input": "2023-02-27T12:32:08.800048Z",
     "iopub.status.busy": "2023-02-27T12:32:08.799763Z",
     "iopub.status.idle": "2023-02-27T12:32:09.087672Z",
     "shell.execute_reply": "2023-02-27T12:32:09.086932Z"
    }
   },
   "outputs": [],
   "source": [
    "from treevalue import FastTreeValue\n",
    "\n",
    "t = FastTreeValue(_TREE_DATA_2)"
   ]
  },
  {
   "cell_type": "code",
   "execution_count": 3,
   "id": "11c37677",
   "metadata": {
    "execution": {
     "iopub.execute_input": "2023-02-27T12:32:09.091206Z",
     "iopub.status.busy": "2023-02-27T12:32:09.090696Z",
     "iopub.status.idle": "2023-02-27T12:32:09.101029Z",
     "shell.execute_reply": "2023-02-27T12:32:09.100314Z"
    }
   },
   "outputs": [
    {
     "data": {
      "text/plain": [
       "<FastTreeValue 0x7efef880f550>\n",
       "├── 'a' --> tensor([[-1.2227,  1.0143, -0.6879],\n",
       "│                   [ 1.0516,  1.5267, -0.8344]])\n",
       "└── 'x' --> <FastTreeValue 0x7efef880f190>\n",
       "    └── 'c' --> tensor([[ 0.2029,  1.3736, -0.1720,  0.6017],\n",
       "                        [ 0.6972,  2.6870,  0.0113,  1.2235],\n",
       "                        [ 0.0092, -0.4886,  1.4256, -0.0810]])"
      ]
     },
     "execution_count": 3,
     "metadata": {},
     "output_type": "execute_result"
    }
   ],
   "source": [
    "t"
   ]
  },
  {
   "cell_type": "code",
   "execution_count": 4,
   "id": "fd70b0b9",
   "metadata": {
    "execution": {
     "iopub.execute_input": "2023-02-27T12:32:09.104150Z",
     "iopub.status.busy": "2023-02-27T12:32:09.103507Z",
     "iopub.status.idle": "2023-02-27T12:32:09.109391Z",
     "shell.execute_reply": "2023-02-27T12:32:09.108810Z"
    }
   },
   "outputs": [
    {
     "data": {
      "text/plain": [
       "tensor([[-1.2227,  1.0143, -0.6879],\n",
       "        [ 1.0516,  1.5267, -0.8344]])"
      ]
     },
     "execution_count": 4,
     "metadata": {},
     "output_type": "execute_result"
    }
   ],
   "source": [
    "t.a"
   ]
  },
  {
   "cell_type": "code",
   "execution_count": 5,
   "id": "c18197bd",
   "metadata": {
    "execution": {
     "iopub.execute_input": "2023-02-27T12:32:09.112348Z",
     "iopub.status.busy": "2023-02-27T12:32:09.111844Z",
     "iopub.status.idle": "2023-02-27T12:32:14.342920Z",
     "shell.execute_reply": "2023-02-27T12:32:14.342153Z"
    }
   },
   "outputs": [
    {
     "name": "stdout",
     "output_type": "stream",
     "text": [
      "64.5 ns ± 0.495 ns per loop (mean ± std. dev. of 7 runs, 10,000,000 loops each)\n"
     ]
    }
   ],
   "source": [
    "%timeit t.a"
   ]
  },
  {
   "cell_type": "code",
   "execution_count": 6,
   "id": "bd52f867",
   "metadata": {
    "execution": {
     "iopub.execute_input": "2023-02-27T12:32:14.346302Z",
     "iopub.status.busy": "2023-02-27T12:32:14.345683Z",
     "iopub.status.idle": "2023-02-27T12:32:14.352553Z",
     "shell.execute_reply": "2023-02-27T12:32:14.351922Z"
    }
   },
   "outputs": [
    {
     "data": {
      "text/plain": [
       "<FastTreeValue 0x7efef880f550>\n",
       "├── 'a' --> tensor([[ 0.7179,  0.9966,  0.4454],\n",
       "│                   [-1.1645,  0.1632,  1.6681]])\n",
       "└── 'x' --> <FastTreeValue 0x7efef880f190>\n",
       "    └── 'c' --> tensor([[ 0.2029,  1.3736, -0.1720,  0.6017],\n",
       "                        [ 0.6972,  2.6870,  0.0113,  1.2235],\n",
       "                        [ 0.0092, -0.4886,  1.4256, -0.0810]])"
      ]
     },
     "execution_count": 6,
     "metadata": {},
     "output_type": "execute_result"
    }
   ],
   "source": [
    "new_value = torch.randn(2, 3)\n",
    "t.a = new_value\n",
    "\n",
    "t"
   ]
  },
  {
   "cell_type": "code",
   "execution_count": 7,
   "id": "bbe04d1c",
   "metadata": {
    "execution": {
     "iopub.execute_input": "2023-02-27T12:32:14.355804Z",
     "iopub.status.busy": "2023-02-27T12:32:14.355174Z",
     "iopub.status.idle": "2023-02-27T12:32:19.664186Z",
     "shell.execute_reply": "2023-02-27T12:32:19.663443Z"
    }
   },
   "outputs": [
    {
     "name": "stdout",
     "output_type": "stream",
     "text": [
      "64.9 ns ± 1.64 ns per loop (mean ± std. dev. of 7 runs, 10,000,000 loops each)\n"
     ]
    }
   ],
   "source": [
    "%timeit t.a = new_value"
   ]
  },
  {
   "cell_type": "markdown",
   "id": "48c49731",
   "metadata": {},
   "source": [
    "### Tianshou Batch's Get and Set"
   ]
  },
  {
   "cell_type": "code",
   "execution_count": 8,
   "id": "f1bb14c1",
   "metadata": {
    "execution": {
     "iopub.execute_input": "2023-02-27T12:32:19.667476Z",
     "iopub.status.busy": "2023-02-27T12:32:19.667071Z",
     "iopub.status.idle": "2023-02-27T12:32:20.017651Z",
     "shell.execute_reply": "2023-02-27T12:32:20.016951Z"
    }
   },
   "outputs": [],
   "source": [
    "from tianshou.data import Batch\n",
    "\n",
    "b = Batch(**_TREE_DATA_2)"
   ]
  },
  {
   "cell_type": "code",
   "execution_count": 9,
   "id": "cb0777c3",
   "metadata": {
    "execution": {
     "iopub.execute_input": "2023-02-27T12:32:20.021242Z",
     "iopub.status.busy": "2023-02-27T12:32:20.020566Z",
     "iopub.status.idle": "2023-02-27T12:32:20.026797Z",
     "shell.execute_reply": "2023-02-27T12:32:20.026204Z"
    }
   },
   "outputs": [
    {
     "data": {
      "text/plain": [
       "Batch(\n",
       "    a: tensor([[-1.2227,  1.0143, -0.6879],\n",
       "               [ 1.0516,  1.5267, -0.8344]]),\n",
       "    x: Batch(\n",
       "           c: tensor([[ 0.2029,  1.3736, -0.1720,  0.6017],\n",
       "                      [ 0.6972,  2.6870,  0.0113,  1.2235],\n",
       "                      [ 0.0092, -0.4886,  1.4256, -0.0810]]),\n",
       "       ),\n",
       ")"
      ]
     },
     "execution_count": 9,
     "metadata": {},
     "output_type": "execute_result"
    }
   ],
   "source": [
    "b"
   ]
  },
  {
   "cell_type": "code",
   "execution_count": 10,
   "id": "43ef8ea3",
   "metadata": {
    "execution": {
     "iopub.execute_input": "2023-02-27T12:32:20.029737Z",
     "iopub.status.busy": "2023-02-27T12:32:20.029374Z",
     "iopub.status.idle": "2023-02-27T12:32:20.035040Z",
     "shell.execute_reply": "2023-02-27T12:32:20.034418Z"
    }
   },
   "outputs": [
    {
     "data": {
      "text/plain": [
       "tensor([[-1.2227,  1.0143, -0.6879],\n",
       "        [ 1.0516,  1.5267, -0.8344]])"
      ]
     },
     "execution_count": 10,
     "metadata": {},
     "output_type": "execute_result"
    }
   ],
   "source": [
    "b.a"
   ]
  },
  {
   "cell_type": "code",
   "execution_count": 11,
   "id": "b785ab72",
   "metadata": {
    "execution": {
     "iopub.execute_input": "2023-02-27T12:32:20.037690Z",
     "iopub.status.busy": "2023-02-27T12:32:20.037338Z",
     "iopub.status.idle": "2023-02-27T12:32:25.229829Z",
     "shell.execute_reply": "2023-02-27T12:32:25.229118Z"
    }
   },
   "outputs": [
    {
     "name": "stdout",
     "output_type": "stream",
     "text": [
      "64.6 ns ± 0.0605 ns per loop (mean ± std. dev. of 7 runs, 10,000,000 loops each)\n"
     ]
    }
   ],
   "source": [
    "%timeit b.a"
   ]
  },
  {
   "cell_type": "code",
   "execution_count": 12,
   "id": "ad54dc69",
   "metadata": {
    "execution": {
     "iopub.execute_input": "2023-02-27T12:32:25.233298Z",
     "iopub.status.busy": "2023-02-27T12:32:25.232642Z",
     "iopub.status.idle": "2023-02-27T12:32:25.239396Z",
     "shell.execute_reply": "2023-02-27T12:32:25.238828Z"
    }
   },
   "outputs": [
    {
     "data": {
      "text/plain": [
       "Batch(\n",
       "    a: tensor([[ 0.3899,  1.0452, -0.5164],\n",
       "               [-1.2585, -1.1084, -0.5726]]),\n",
       "    x: Batch(\n",
       "           c: tensor([[ 0.2029,  1.3736, -0.1720,  0.6017],\n",
       "                      [ 0.6972,  2.6870,  0.0113,  1.2235],\n",
       "                      [ 0.0092, -0.4886,  1.4256, -0.0810]]),\n",
       "       ),\n",
       ")"
      ]
     },
     "execution_count": 12,
     "metadata": {},
     "output_type": "execute_result"
    }
   ],
   "source": [
    "new_value = torch.randn(2, 3)\n",
    "b.a = new_value\n",
    "\n",
    "b"
   ]
  },
  {
   "cell_type": "code",
   "execution_count": 13,
   "id": "29b1d0bf",
   "metadata": {
    "execution": {
     "iopub.execute_input": "2023-02-27T12:32:25.242130Z",
     "iopub.status.busy": "2023-02-27T12:32:25.241905Z",
     "iopub.status.idle": "2023-02-27T12:32:29.164792Z",
     "shell.execute_reply": "2023-02-27T12:32:29.163940Z"
    }
   },
   "outputs": [
    {
     "name": "stdout",
     "output_type": "stream",
     "text": [
      "483 ns ± 2 ns per loop (mean ± std. dev. of 7 runs, 1,000,000 loops each)\n"
     ]
    }
   ],
   "source": [
    "%timeit b.a = new_value"
   ]
  },
  {
   "cell_type": "markdown",
   "id": "b61ad1d0",
   "metadata": {},
   "source": [
    "## Initialization"
   ]
  },
  {
   "cell_type": "markdown",
   "id": "d70f0d54",
   "metadata": {},
   "source": [
    "### TreeValue's Initialization"
   ]
  },
  {
   "cell_type": "code",
   "execution_count": 14,
   "id": "d32a679b",
   "metadata": {
    "execution": {
     "iopub.execute_input": "2023-02-27T12:32:29.167918Z",
     "iopub.status.busy": "2023-02-27T12:32:29.167358Z",
     "iopub.status.idle": "2023-02-27T12:32:35.983664Z",
     "shell.execute_reply": "2023-02-27T12:32:35.982883Z"
    }
   },
   "outputs": [
    {
     "name": "stdout",
     "output_type": "stream",
     "text": [
      "838 ns ± 0.379 ns per loop (mean ± std. dev. of 7 runs, 1,000,000 loops each)\n"
     ]
    }
   ],
   "source": [
    "%timeit FastTreeValue(_TREE_DATA_1)"
   ]
  },
  {
   "cell_type": "markdown",
   "id": "24f3707b",
   "metadata": {},
   "source": [
    "### Tianshou Batch's Initialization"
   ]
  },
  {
   "cell_type": "code",
   "execution_count": 15,
   "id": "ac3958df",
   "metadata": {
    "execution": {
     "iopub.execute_input": "2023-02-27T12:32:35.986538Z",
     "iopub.status.busy": "2023-02-27T12:32:35.986306Z",
     "iopub.status.idle": "2023-02-27T12:32:45.161643Z",
     "shell.execute_reply": "2023-02-27T12:32:45.160842Z"
    }
   },
   "outputs": [
    {
     "name": "stdout",
     "output_type": "stream",
     "text": [
      "11.3 µs ± 17 ns per loop (mean ± std. dev. of 7 runs, 100,000 loops each)\n"
     ]
    }
   ],
   "source": [
    "%timeit Batch(**_TREE_DATA_1)"
   ]
  },
  {
   "cell_type": "markdown",
   "id": "1ab82e2d",
   "metadata": {},
   "source": [
    "## Deep Copy Operation"
   ]
  },
  {
   "cell_type": "code",
   "execution_count": 16,
   "id": "210a9442",
   "metadata": {
    "execution": {
     "iopub.execute_input": "2023-02-27T12:32:45.164740Z",
     "iopub.status.busy": "2023-02-27T12:32:45.164235Z",
     "iopub.status.idle": "2023-02-27T12:32:45.168174Z",
     "shell.execute_reply": "2023-02-27T12:32:45.167560Z"
    }
   },
   "outputs": [],
   "source": [
    "import copy"
   ]
  },
  {
   "cell_type": "markdown",
   "id": "5a736274",
   "metadata": {},
   "source": [
    "### Deep Copy of TreeValue"
   ]
  },
  {
   "cell_type": "code",
   "execution_count": 17,
   "id": "f9bcadd6",
   "metadata": {
    "execution": {
     "iopub.execute_input": "2023-02-27T12:32:45.170638Z",
     "iopub.status.busy": "2023-02-27T12:32:45.170274Z",
     "iopub.status.idle": "2023-02-27T12:32:56.316857Z",
     "shell.execute_reply": "2023-02-27T12:32:56.316242Z"
    }
   },
   "outputs": [
    {
     "name": "stdout",
     "output_type": "stream",
     "text": [
      "137 µs ± 511 ns per loop (mean ± std. dev. of 7 runs, 10,000 loops each)\n"
     ]
    }
   ],
   "source": [
    "t3 = FastTreeValue(_TREE_DATA_3)\n",
    "%timeit copy.deepcopy(t3)"
   ]
  },
  {
   "cell_type": "markdown",
   "id": "bf8be7ea",
   "metadata": {},
   "source": [
    "### Deep Copy of Tianshou Batch"
   ]
  },
  {
   "cell_type": "code",
   "execution_count": 18,
   "id": "91998e6f",
   "metadata": {
    "execution": {
     "iopub.execute_input": "2023-02-27T12:32:56.320909Z",
     "iopub.status.busy": "2023-02-27T12:32:56.320339Z",
     "iopub.status.idle": "2023-02-27T12:33:07.695301Z",
     "shell.execute_reply": "2023-02-27T12:33:07.694730Z"
    }
   },
   "outputs": [
    {
     "name": "stdout",
     "output_type": "stream",
     "text": [
      "140 µs ± 788 ns per loop (mean ± std. dev. of 7 runs, 10,000 loops each)\n"
     ]
    }
   ],
   "source": [
    "b3 = Batch(**_TREE_DATA_3)\n",
    "%timeit copy.deepcopy(b3)"
   ]
  },
  {
   "cell_type": "markdown",
   "id": "223162fb",
   "metadata": {},
   "source": [
    "## Stack, Concat and Split Operation"
   ]
  },
  {
   "cell_type": "markdown",
   "id": "85fa4a73",
   "metadata": {},
   "source": [
    "### Performance of TreeValue"
   ]
  },
  {
   "cell_type": "code",
   "execution_count": 19,
   "id": "a0c2b697",
   "metadata": {
    "execution": {
     "iopub.execute_input": "2023-02-27T12:33:07.698600Z",
     "iopub.status.busy": "2023-02-27T12:33:07.697613Z",
     "iopub.status.idle": "2023-02-27T12:33:07.701972Z",
     "shell.execute_reply": "2023-02-27T12:33:07.701449Z"
    }
   },
   "outputs": [],
   "source": [
    "trees = [FastTreeValue(_TREE_DATA_2) for _ in range(8)]"
   ]
  },
  {
   "cell_type": "code",
   "execution_count": 20,
   "id": "017ea5a5",
   "metadata": {
    "execution": {
     "iopub.execute_input": "2023-02-27T12:33:07.704947Z",
     "iopub.status.busy": "2023-02-27T12:33:07.704335Z",
     "iopub.status.idle": "2023-02-27T12:33:07.711478Z",
     "shell.execute_reply": "2023-02-27T12:33:07.710958Z"
    }
   },
   "outputs": [
    {
     "data": {
      "text/plain": [
       "<FastTreeValue 0x7efef87951f0>\n",
       "├── 'a' --> tensor([[[-1.2227,  1.0143, -0.6879],\n",
       "│                    [ 1.0516,  1.5267, -0.8344]],\n",
       "│           \n",
       "│                   [[-1.2227,  1.0143, -0.6879],\n",
       "│                    [ 1.0516,  1.5267, -0.8344]],\n",
       "│           \n",
       "│                   [[-1.2227,  1.0143, -0.6879],\n",
       "│                    [ 1.0516,  1.5267, -0.8344]],\n",
       "│           \n",
       "│                   [[-1.2227,  1.0143, -0.6879],\n",
       "│                    [ 1.0516,  1.5267, -0.8344]],\n",
       "│           \n",
       "│                   [[-1.2227,  1.0143, -0.6879],\n",
       "│                    [ 1.0516,  1.5267, -0.8344]],\n",
       "│           \n",
       "│                   [[-1.2227,  1.0143, -0.6879],\n",
       "│                    [ 1.0516,  1.5267, -0.8344]],\n",
       "│           \n",
       "│                   [[-1.2227,  1.0143, -0.6879],\n",
       "│                    [ 1.0516,  1.5267, -0.8344]],\n",
       "│           \n",
       "│                   [[-1.2227,  1.0143, -0.6879],\n",
       "│                    [ 1.0516,  1.5267, -0.8344]]])\n",
       "└── 'x' --> <FastTreeValue 0x7efef87957f0>\n",
       "    └── 'c' --> tensor([[[ 0.2029,  1.3736, -0.1720,  0.6017],\n",
       "                         [ 0.6972,  2.6870,  0.0113,  1.2235],\n",
       "                         [ 0.0092, -0.4886,  1.4256, -0.0810]],\n",
       "                \n",
       "                        [[ 0.2029,  1.3736, -0.1720,  0.6017],\n",
       "                         [ 0.6972,  2.6870,  0.0113,  1.2235],\n",
       "                         [ 0.0092, -0.4886,  1.4256, -0.0810]],\n",
       "                \n",
       "                        [[ 0.2029,  1.3736, -0.1720,  0.6017],\n",
       "                         [ 0.6972,  2.6870,  0.0113,  1.2235],\n",
       "                         [ 0.0092, -0.4886,  1.4256, -0.0810]],\n",
       "                \n",
       "                        [[ 0.2029,  1.3736, -0.1720,  0.6017],\n",
       "                         [ 0.6972,  2.6870,  0.0113,  1.2235],\n",
       "                         [ 0.0092, -0.4886,  1.4256, -0.0810]],\n",
       "                \n",
       "                        [[ 0.2029,  1.3736, -0.1720,  0.6017],\n",
       "                         [ 0.6972,  2.6870,  0.0113,  1.2235],\n",
       "                         [ 0.0092, -0.4886,  1.4256, -0.0810]],\n",
       "                \n",
       "                        [[ 0.2029,  1.3736, -0.1720,  0.6017],\n",
       "                         [ 0.6972,  2.6870,  0.0113,  1.2235],\n",
       "                         [ 0.0092, -0.4886,  1.4256, -0.0810]],\n",
       "                \n",
       "                        [[ 0.2029,  1.3736, -0.1720,  0.6017],\n",
       "                         [ 0.6972,  2.6870,  0.0113,  1.2235],\n",
       "                         [ 0.0092, -0.4886,  1.4256, -0.0810]],\n",
       "                \n",
       "                        [[ 0.2029,  1.3736, -0.1720,  0.6017],\n",
       "                         [ 0.6972,  2.6870,  0.0113,  1.2235],\n",
       "                         [ 0.0092, -0.4886,  1.4256, -0.0810]]])"
      ]
     },
     "execution_count": 20,
     "metadata": {},
     "output_type": "execute_result"
    }
   ],
   "source": [
    "t_stack = FastTreeValue.func(subside=True)(torch.stack)\n",
    "\n",
    "t_stack(trees)"
   ]
  },
  {
   "cell_type": "code",
   "execution_count": 21,
   "id": "f8b3f415",
   "metadata": {
    "execution": {
     "iopub.execute_input": "2023-02-27T12:33:07.714122Z",
     "iopub.status.busy": "2023-02-27T12:33:07.713504Z",
     "iopub.status.idle": "2023-02-27T12:33:10.345186Z",
     "shell.execute_reply": "2023-02-27T12:33:10.344459Z"
    }
   },
   "outputs": [
    {
     "name": "stdout",
     "output_type": "stream",
     "text": [
      "32.3 µs ± 44.5 ns per loop (mean ± std. dev. of 7 runs, 10,000 loops each)\n"
     ]
    }
   ],
   "source": [
    "%timeit t_stack(trees)"
   ]
  },
  {
   "cell_type": "code",
   "execution_count": 22,
   "id": "94b56771",
   "metadata": {
    "execution": {
     "iopub.execute_input": "2023-02-27T12:33:10.348094Z",
     "iopub.status.busy": "2023-02-27T12:33:10.347722Z",
     "iopub.status.idle": "2023-02-27T12:33:10.355488Z",
     "shell.execute_reply": "2023-02-27T12:33:10.354817Z"
    }
   },
   "outputs": [
    {
     "data": {
      "text/plain": [
       "<FastTreeValue 0x7efef87952e0>\n",
       "├── 'a' --> tensor([[-1.2227,  1.0143, -0.6879],\n",
       "│                   [ 1.0516,  1.5267, -0.8344],\n",
       "│                   [-1.2227,  1.0143, -0.6879],\n",
       "│                   [ 1.0516,  1.5267, -0.8344],\n",
       "│                   [-1.2227,  1.0143, -0.6879],\n",
       "│                   [ 1.0516,  1.5267, -0.8344],\n",
       "│                   [-1.2227,  1.0143, -0.6879],\n",
       "│                   [ 1.0516,  1.5267, -0.8344],\n",
       "│                   [-1.2227,  1.0143, -0.6879],\n",
       "│                   [ 1.0516,  1.5267, -0.8344],\n",
       "│                   [-1.2227,  1.0143, -0.6879],\n",
       "│                   [ 1.0516,  1.5267, -0.8344],\n",
       "│                   [-1.2227,  1.0143, -0.6879],\n",
       "│                   [ 1.0516,  1.5267, -0.8344],\n",
       "│                   [-1.2227,  1.0143, -0.6879],\n",
       "│                   [ 1.0516,  1.5267, -0.8344]])\n",
       "└── 'x' --> <FastTreeValue 0x7efe40a14a30>\n",
       "    └── 'c' --> tensor([[ 0.2029,  1.3736, -0.1720,  0.6017],\n",
       "                        [ 0.6972,  2.6870,  0.0113,  1.2235],\n",
       "                        [ 0.0092, -0.4886,  1.4256, -0.0810],\n",
       "                        [ 0.2029,  1.3736, -0.1720,  0.6017],\n",
       "                        [ 0.6972,  2.6870,  0.0113,  1.2235],\n",
       "                        [ 0.0092, -0.4886,  1.4256, -0.0810],\n",
       "                        [ 0.2029,  1.3736, -0.1720,  0.6017],\n",
       "                        [ 0.6972,  2.6870,  0.0113,  1.2235],\n",
       "                        [ 0.0092, -0.4886,  1.4256, -0.0810],\n",
       "                        [ 0.2029,  1.3736, -0.1720,  0.6017],\n",
       "                        [ 0.6972,  2.6870,  0.0113,  1.2235],\n",
       "                        [ 0.0092, -0.4886,  1.4256, -0.0810],\n",
       "                        [ 0.2029,  1.3736, -0.1720,  0.6017],\n",
       "                        [ 0.6972,  2.6870,  0.0113,  1.2235],\n",
       "                        [ 0.0092, -0.4886,  1.4256, -0.0810],\n",
       "                        [ 0.2029,  1.3736, -0.1720,  0.6017],\n",
       "                        [ 0.6972,  2.6870,  0.0113,  1.2235],\n",
       "                        [ 0.0092, -0.4886,  1.4256, -0.0810],\n",
       "                        [ 0.2029,  1.3736, -0.1720,  0.6017],\n",
       "                        [ 0.6972,  2.6870,  0.0113,  1.2235],\n",
       "                        [ 0.0092, -0.4886,  1.4256, -0.0810],\n",
       "                        [ 0.2029,  1.3736, -0.1720,  0.6017],\n",
       "                        [ 0.6972,  2.6870,  0.0113,  1.2235],\n",
       "                        [ 0.0092, -0.4886,  1.4256, -0.0810]])"
      ]
     },
     "execution_count": 22,
     "metadata": {},
     "output_type": "execute_result"
    }
   ],
   "source": [
    "t_cat = FastTreeValue.func(subside=True)(torch.cat)\n",
    "\n",
    "t_cat(trees)"
   ]
  },
  {
   "cell_type": "code",
   "execution_count": 23,
   "id": "5e9c06a6",
   "metadata": {
    "execution": {
     "iopub.execute_input": "2023-02-27T12:33:10.358048Z",
     "iopub.status.busy": "2023-02-27T12:33:10.357694Z",
     "iopub.status.idle": "2023-02-27T12:33:12.816237Z",
     "shell.execute_reply": "2023-02-27T12:33:12.815136Z"
    }
   },
   "outputs": [
    {
     "name": "stdout",
     "output_type": "stream",
     "text": [
      "30.1 µs ± 85.6 ns per loop (mean ± std. dev. of 7 runs, 10,000 loops each)\n"
     ]
    }
   ],
   "source": [
    "%timeit t_cat(trees)"
   ]
  },
  {
   "cell_type": "code",
   "execution_count": 24,
   "id": "a3ab5c8f",
   "metadata": {
    "execution": {
     "iopub.execute_input": "2023-02-27T12:33:12.819934Z",
     "iopub.status.busy": "2023-02-27T12:33:12.819277Z",
     "iopub.status.idle": "2023-02-27T12:33:17.477759Z",
     "shell.execute_reply": "2023-02-27T12:33:17.477054Z"
    }
   },
   "outputs": [
    {
     "name": "stdout",
     "output_type": "stream",
     "text": [
      "56.9 µs ± 57.3 ns per loop (mean ± std. dev. of 7 runs, 10,000 loops each)\n"
     ]
    }
   ],
   "source": [
    "t_split = FastTreeValue.func(rise=True)(torch.split)\n",
    "tree = FastTreeValue({\n",
    "    'obs': torch.randn(8, 4, 84, 84),\n",
    "    'action': torch.randint(0, 6, size=(8, 1,)),\n",
    "    'reward': torch.rand(8, 1),\n",
    "})\n",
    "\n",
    "%timeit t_split(tree, 1)"
   ]
  },
  {
   "cell_type": "markdown",
   "id": "31c3ec0b",
   "metadata": {},
   "source": [
    "### Performance of Tianshou Batch"
   ]
  },
  {
   "cell_type": "code",
   "execution_count": 25,
   "id": "9ead828a",
   "metadata": {
    "execution": {
     "iopub.execute_input": "2023-02-27T12:33:17.480816Z",
     "iopub.status.busy": "2023-02-27T12:33:17.480581Z",
     "iopub.status.idle": "2023-02-27T12:33:17.488252Z",
     "shell.execute_reply": "2023-02-27T12:33:17.487680Z"
    }
   },
   "outputs": [
    {
     "data": {
      "text/plain": [
       "Batch(\n",
       "    x: Batch(\n",
       "           c: tensor([[[ 0.2029,  1.3736, -0.1720,  0.6017],\n",
       "                       [ 0.6972,  2.6870,  0.0113,  1.2235],\n",
       "                       [ 0.0092, -0.4886,  1.4256, -0.0810]],\n",
       "              \n",
       "                      [[ 0.2029,  1.3736, -0.1720,  0.6017],\n",
       "                       [ 0.6972,  2.6870,  0.0113,  1.2235],\n",
       "                       [ 0.0092, -0.4886,  1.4256, -0.0810]],\n",
       "              \n",
       "                      [[ 0.2029,  1.3736, -0.1720,  0.6017],\n",
       "                       [ 0.6972,  2.6870,  0.0113,  1.2235],\n",
       "                       [ 0.0092, -0.4886,  1.4256, -0.0810]],\n",
       "              \n",
       "                      [[ 0.2029,  1.3736, -0.1720,  0.6017],\n",
       "                       [ 0.6972,  2.6870,  0.0113,  1.2235],\n",
       "                       [ 0.0092, -0.4886,  1.4256, -0.0810]],\n",
       "              \n",
       "                      [[ 0.2029,  1.3736, -0.1720,  0.6017],\n",
       "                       [ 0.6972,  2.6870,  0.0113,  1.2235],\n",
       "                       [ 0.0092, -0.4886,  1.4256, -0.0810]],\n",
       "              \n",
       "                      [[ 0.2029,  1.3736, -0.1720,  0.6017],\n",
       "                       [ 0.6972,  2.6870,  0.0113,  1.2235],\n",
       "                       [ 0.0092, -0.4886,  1.4256, -0.0810]],\n",
       "              \n",
       "                      [[ 0.2029,  1.3736, -0.1720,  0.6017],\n",
       "                       [ 0.6972,  2.6870,  0.0113,  1.2235],\n",
       "                       [ 0.0092, -0.4886,  1.4256, -0.0810]],\n",
       "              \n",
       "                      [[ 0.2029,  1.3736, -0.1720,  0.6017],\n",
       "                       [ 0.6972,  2.6870,  0.0113,  1.2235],\n",
       "                       [ 0.0092, -0.4886,  1.4256, -0.0810]]]),\n",
       "       ),\n",
       "    a: tensor([[[-1.2227,  1.0143, -0.6879],\n",
       "                [ 1.0516,  1.5267, -0.8344]],\n",
       "       \n",
       "               [[-1.2227,  1.0143, -0.6879],\n",
       "                [ 1.0516,  1.5267, -0.8344]],\n",
       "       \n",
       "               [[-1.2227,  1.0143, -0.6879],\n",
       "                [ 1.0516,  1.5267, -0.8344]],\n",
       "       \n",
       "               [[-1.2227,  1.0143, -0.6879],\n",
       "                [ 1.0516,  1.5267, -0.8344]],\n",
       "       \n",
       "               [[-1.2227,  1.0143, -0.6879],\n",
       "                [ 1.0516,  1.5267, -0.8344]],\n",
       "       \n",
       "               [[-1.2227,  1.0143, -0.6879],\n",
       "                [ 1.0516,  1.5267, -0.8344]],\n",
       "       \n",
       "               [[-1.2227,  1.0143, -0.6879],\n",
       "                [ 1.0516,  1.5267, -0.8344]],\n",
       "       \n",
       "               [[-1.2227,  1.0143, -0.6879],\n",
       "                [ 1.0516,  1.5267, -0.8344]]]),\n",
       ")"
      ]
     },
     "execution_count": 25,
     "metadata": {},
     "output_type": "execute_result"
    }
   ],
   "source": [
    "batches = [Batch(**_TREE_DATA_2) for _ in range(8)]\n",
    "\n",
    "Batch.stack(batches)"
   ]
  },
  {
   "cell_type": "code",
   "execution_count": 26,
   "id": "ec9037a3",
   "metadata": {
    "execution": {
     "iopub.execute_input": "2023-02-27T12:33:17.491045Z",
     "iopub.status.busy": "2023-02-27T12:33:17.490554Z",
     "iopub.status.idle": "2023-02-27T12:33:23.871745Z",
     "shell.execute_reply": "2023-02-27T12:33:23.870740Z"
    }
   },
   "outputs": [
    {
     "name": "stdout",
     "output_type": "stream",
     "text": [
      "78.5 µs ± 83.3 ns per loop (mean ± std. dev. of 7 runs, 10,000 loops each)\n"
     ]
    }
   ],
   "source": [
    "%timeit Batch.stack(batches)"
   ]
  },
  {
   "cell_type": "code",
   "execution_count": 27,
   "id": "cb8ab77e",
   "metadata": {
    "execution": {
     "iopub.execute_input": "2023-02-27T12:33:23.875207Z",
     "iopub.status.busy": "2023-02-27T12:33:23.874607Z",
     "iopub.status.idle": "2023-02-27T12:33:23.883795Z",
     "shell.execute_reply": "2023-02-27T12:33:23.883014Z"
    }
   },
   "outputs": [
    {
     "data": {
      "text/plain": [
       "Batch(\n",
       "    x: Batch(\n",
       "           c: tensor([[ 0.2029,  1.3736, -0.1720,  0.6017],\n",
       "                      [ 0.6972,  2.6870,  0.0113,  1.2235],\n",
       "                      [ 0.0092, -0.4886,  1.4256, -0.0810],\n",
       "                      [ 0.2029,  1.3736, -0.1720,  0.6017],\n",
       "                      [ 0.6972,  2.6870,  0.0113,  1.2235],\n",
       "                      [ 0.0092, -0.4886,  1.4256, -0.0810],\n",
       "                      [ 0.2029,  1.3736, -0.1720,  0.6017],\n",
       "                      [ 0.6972,  2.6870,  0.0113,  1.2235],\n",
       "                      [ 0.0092, -0.4886,  1.4256, -0.0810],\n",
       "                      [ 0.2029,  1.3736, -0.1720,  0.6017],\n",
       "                      [ 0.6972,  2.6870,  0.0113,  1.2235],\n",
       "                      [ 0.0092, -0.4886,  1.4256, -0.0810],\n",
       "                      [ 0.2029,  1.3736, -0.1720,  0.6017],\n",
       "                      [ 0.6972,  2.6870,  0.0113,  1.2235],\n",
       "                      [ 0.0092, -0.4886,  1.4256, -0.0810],\n",
       "                      [ 0.2029,  1.3736, -0.1720,  0.6017],\n",
       "                      [ 0.6972,  2.6870,  0.0113,  1.2235],\n",
       "                      [ 0.0092, -0.4886,  1.4256, -0.0810],\n",
       "                      [ 0.2029,  1.3736, -0.1720,  0.6017],\n",
       "                      [ 0.6972,  2.6870,  0.0113,  1.2235],\n",
       "                      [ 0.0092, -0.4886,  1.4256, -0.0810],\n",
       "                      [ 0.2029,  1.3736, -0.1720,  0.6017],\n",
       "                      [ 0.6972,  2.6870,  0.0113,  1.2235],\n",
       "                      [ 0.0092, -0.4886,  1.4256, -0.0810]]),\n",
       "       ),\n",
       "    a: tensor([[-1.2227,  1.0143, -0.6879],\n",
       "               [ 1.0516,  1.5267, -0.8344],\n",
       "               [-1.2227,  1.0143, -0.6879],\n",
       "               [ 1.0516,  1.5267, -0.8344],\n",
       "               [-1.2227,  1.0143, -0.6879],\n",
       "               [ 1.0516,  1.5267, -0.8344],\n",
       "               [-1.2227,  1.0143, -0.6879],\n",
       "               [ 1.0516,  1.5267, -0.8344],\n",
       "               [-1.2227,  1.0143, -0.6879],\n",
       "               [ 1.0516,  1.5267, -0.8344],\n",
       "               [-1.2227,  1.0143, -0.6879],\n",
       "               [ 1.0516,  1.5267, -0.8344],\n",
       "               [-1.2227,  1.0143, -0.6879],\n",
       "               [ 1.0516,  1.5267, -0.8344],\n",
       "               [-1.2227,  1.0143, -0.6879],\n",
       "               [ 1.0516,  1.5267, -0.8344]]),\n",
       ")"
      ]
     },
     "execution_count": 27,
     "metadata": {},
     "output_type": "execute_result"
    }
   ],
   "source": [
    "Batch.cat(batches)"
   ]
  },
  {
   "cell_type": "code",
   "execution_count": 28,
   "id": "18dfb045",
   "metadata": {
    "execution": {
     "iopub.execute_input": "2023-02-27T12:33:23.886822Z",
     "iopub.status.busy": "2023-02-27T12:33:23.886274Z",
     "iopub.status.idle": "2023-02-27T12:33:35.433185Z",
     "shell.execute_reply": "2023-02-27T12:33:35.432247Z"
    }
   },
   "outputs": [
    {
     "name": "stdout",
     "output_type": "stream",
     "text": [
      "142 µs ± 136 ns per loop (mean ± std. dev. of 7 runs, 10,000 loops each)\n"
     ]
    }
   ],
   "source": [
    "%timeit Batch.cat(batches)"
   ]
  },
  {
   "cell_type": "code",
   "execution_count": 29,
   "id": "c6688e51",
   "metadata": {
    "execution": {
     "iopub.execute_input": "2023-02-27T12:33:35.437485Z",
     "iopub.status.busy": "2023-02-27T12:33:35.436422Z",
     "iopub.status.idle": "2023-02-27T12:33:37.992375Z",
     "shell.execute_reply": "2023-02-27T12:33:37.991646Z"
    }
   },
   "outputs": [
    {
     "name": "stdout",
     "output_type": "stream",
     "text": [
      "311 µs ± 2.34 µs per loop (mean ± std. dev. of 7 runs, 1,000 loops each)\n"
     ]
    }
   ],
   "source": [
    "batch = Batch({\n",
    "    'obs': torch.randn(8, 4, 84, 84),\n",
    "    'action': torch.randint(0, 6, size=(8, 1,)),\n",
    "    'reward': torch.rand(8, 1)}\n",
    ")\n",
    "\n",
    "%timeit list(Batch.split(batch, 1, shuffle=False, merge_last=True))"
   ]
  },
  {
   "cell_type": "code",
   "execution_count": null,
   "id": "2539fbd9",
   "metadata": {},
   "outputs": [],
   "source": []
  }
 ],
 "metadata": {
  "kernelspec": {
   "display_name": "Python 3 (ipykernel)",
   "language": "python",
   "name": "python3"
  },
  "language_info": {
   "codemirror_mode": {
    "name": "ipython",
    "version": 3
   },
   "file_extension": ".py",
   "mimetype": "text/x-python",
   "name": "python",
   "nbconvert_exporter": "python",
   "pygments_lexer": "ipython3",
   "version": "3.8.16"
  }
 },
 "nbformat": 4,
 "nbformat_minor": 5
}
