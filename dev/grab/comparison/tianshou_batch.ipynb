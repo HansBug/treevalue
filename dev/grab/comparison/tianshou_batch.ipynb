{
 "cells": [
  {
   "cell_type": "markdown",
   "id": "9d39d946",
   "metadata": {},
   "source": [
    "# Comparison Between TreeValue and Tianshou Batch"
   ]
  },
  {
   "cell_type": "markdown",
   "id": "3c6db2d4",
   "metadata": {},
   "source": [
    "In this section, we will take a look at the feature and performance of the [Tianshou Batch](https://github.com/thu-ml/tianshou) library, which is developed by Tsinghua Machine Learning Group."
   ]
  },
  {
   "cell_type": "markdown",
   "id": "069361b0",
   "metadata": {},
   "source": [
    "Before starting the comparison, let us define some thing."
   ]
  },
  {
   "cell_type": "code",
   "execution_count": 1,
   "id": "06fc8d26",
   "metadata": {
    "execution": {
     "iopub.execute_input": "2023-01-24T16:18:09.527431Z",
     "iopub.status.busy": "2023-01-24T16:18:09.526928Z",
     "iopub.status.idle": "2023-01-24T16:18:10.452035Z",
     "shell.execute_reply": "2023-01-24T16:18:10.451319Z"
    }
   },
   "outputs": [
    {
     "name": "stderr",
     "output_type": "stream",
     "text": [
      "/opt/hostedtoolcache/Python/3.8.16/x64/lib/python3.8/site-packages/tqdm/auto.py:22: TqdmWarning: IProgress not found. Please update jupyter and ipywidgets. See https://ipywidgets.readthedocs.io/en/stable/user_install.html\n",
      "  from .autonotebook import tqdm as notebook_tqdm\n"
     ]
    }
   ],
   "source": [
    "import torch \n",
    "\n",
    "_TREE_DATA_1 = {'a': 1, 'b': 2, 'x': {'c': 3, 'd': 4}}\n",
    "_TREE_DATA_2 = {\n",
    "    'a': torch.randn(2, 3), \n",
    "    'x': {\n",
    "        'c': torch.randn(3, 4)\n",
    "    },\n",
    "}\n",
    "_TREE_DATA_3 = {\n",
    "    'obs': torch.randn(4, 84, 84),\n",
    "    'action': torch.randint(0, 6, size=(1,)),\n",
    "    'reward': torch.rand(1),\n",
    "}"
   ]
  },
  {
   "cell_type": "markdown",
   "id": "83461b25",
   "metadata": {},
   "source": [
    "## Read and Write Operation"
   ]
  },
  {
   "cell_type": "markdown",
   "id": "067b3f73",
   "metadata": {},
   "source": [
    "Reading and writing are the two most common operations in the tree data structure based on the data model (TreeValue and Tianshou Batch both belong to this type), so this section will compare the reading and writing performance of these two libraries."
   ]
  },
  {
   "cell_type": "markdown",
   "id": "5d09a5b7",
   "metadata": {},
   "source": [
    "### TreeValue's Get and Set"
   ]
  },
  {
   "cell_type": "code",
   "execution_count": 2,
   "id": "9519c4bb",
   "metadata": {
    "execution": {
     "iopub.execute_input": "2023-01-24T16:18:10.455695Z",
     "iopub.status.busy": "2023-01-24T16:18:10.455060Z",
     "iopub.status.idle": "2023-01-24T16:18:10.488313Z",
     "shell.execute_reply": "2023-01-24T16:18:10.487655Z"
    }
   },
   "outputs": [],
   "source": [
    "from treevalue import FastTreeValue\n",
    "\n",
    "t = FastTreeValue(_TREE_DATA_2)"
   ]
  },
  {
   "cell_type": "code",
   "execution_count": 3,
   "id": "11c37677",
   "metadata": {
    "execution": {
     "iopub.execute_input": "2023-01-24T16:18:10.491680Z",
     "iopub.status.busy": "2023-01-24T16:18:10.491212Z",
     "iopub.status.idle": "2023-01-24T16:18:10.499689Z",
     "shell.execute_reply": "2023-01-24T16:18:10.499038Z"
    }
   },
   "outputs": [
    {
     "data": {
      "text/plain": [
       "<FastTreeValue 0x7f898c8de1f0>\n",
       "├── 'a' --> tensor([[-0.0113, -1.1151,  1.1722],\n",
       "│                   [ 0.7259,  1.1265,  1.6400]])\n",
       "└── 'x' --> <FastTreeValue 0x7f898c8deac0>\n",
       "    └── 'c' --> tensor([[-0.9235,  0.0731,  0.0922,  0.9548],\n",
       "                        [-0.9627, -0.5606, -0.3010, -0.1171],\n",
       "                        [ 0.6720,  0.7402,  0.6757,  0.2325]])"
      ]
     },
     "execution_count": 3,
     "metadata": {},
     "output_type": "execute_result"
    }
   ],
   "source": [
    "t"
   ]
  },
  {
   "cell_type": "code",
   "execution_count": 4,
   "id": "fd70b0b9",
   "metadata": {
    "execution": {
     "iopub.execute_input": "2023-01-24T16:18:10.502588Z",
     "iopub.status.busy": "2023-01-24T16:18:10.502363Z",
     "iopub.status.idle": "2023-01-24T16:18:10.507207Z",
     "shell.execute_reply": "2023-01-24T16:18:10.506576Z"
    }
   },
   "outputs": [
    {
     "data": {
      "text/plain": [
       "tensor([[-0.0113, -1.1151,  1.1722],\n",
       "        [ 0.7259,  1.1265,  1.6400]])"
      ]
     },
     "execution_count": 4,
     "metadata": {},
     "output_type": "execute_result"
    }
   ],
   "source": [
    "t.a"
   ]
  },
  {
   "cell_type": "code",
   "execution_count": 5,
   "id": "c18197bd",
   "metadata": {
    "execution": {
     "iopub.execute_input": "2023-01-24T16:18:10.510539Z",
     "iopub.status.busy": "2023-01-24T16:18:10.510190Z",
     "iopub.status.idle": "2023-01-24T16:18:15.275971Z",
     "shell.execute_reply": "2023-01-24T16:18:15.275358Z"
    }
   },
   "outputs": [
    {
     "name": "stdout",
     "output_type": "stream",
     "text": [
      "58.6 ns ± 0.0526 ns per loop (mean ± std. dev. of 7 runs, 10,000,000 loops each)\n"
     ]
    }
   ],
   "source": [
    "%timeit t.a"
   ]
  },
  {
   "cell_type": "code",
   "execution_count": 6,
   "id": "bd52f867",
   "metadata": {
    "execution": {
     "iopub.execute_input": "2023-01-24T16:18:15.278892Z",
     "iopub.status.busy": "2023-01-24T16:18:15.278666Z",
     "iopub.status.idle": "2023-01-24T16:18:15.284960Z",
     "shell.execute_reply": "2023-01-24T16:18:15.284318Z"
    }
   },
   "outputs": [
    {
     "data": {
      "text/plain": [
       "<FastTreeValue 0x7f898c8de1f0>\n",
       "├── 'a' --> tensor([[-0.5188,  0.7814,  0.8601],\n",
       "│                   [ 1.4885,  0.1075, -0.3253]])\n",
       "└── 'x' --> <FastTreeValue 0x7f898c8deac0>\n",
       "    └── 'c' --> tensor([[-0.9235,  0.0731,  0.0922,  0.9548],\n",
       "                        [-0.9627, -0.5606, -0.3010, -0.1171],\n",
       "                        [ 0.6720,  0.7402,  0.6757,  0.2325]])"
      ]
     },
     "execution_count": 6,
     "metadata": {},
     "output_type": "execute_result"
    }
   ],
   "source": [
    "new_value = torch.randn(2, 3)\n",
    "t.a = new_value\n",
    "\n",
    "t"
   ]
  },
  {
   "cell_type": "code",
   "execution_count": 7,
   "id": "bbe04d1c",
   "metadata": {
    "execution": {
     "iopub.execute_input": "2023-01-24T16:18:15.287678Z",
     "iopub.status.busy": "2023-01-24T16:18:15.287470Z",
     "iopub.status.idle": "2023-01-24T16:18:20.025853Z",
     "shell.execute_reply": "2023-01-24T16:18:20.025247Z"
    }
   },
   "outputs": [
    {
     "name": "stdout",
     "output_type": "stream",
     "text": [
      "58 ns ± 0.0231 ns per loop (mean ± std. dev. of 7 runs, 10,000,000 loops each)\n"
     ]
    }
   ],
   "source": [
    "%timeit t.a = new_value"
   ]
  },
  {
   "cell_type": "markdown",
   "id": "48c49731",
   "metadata": {},
   "source": [
    "### Tianshou Batch's Get and Set"
   ]
  },
  {
   "cell_type": "code",
   "execution_count": 8,
   "id": "f1bb14c1",
   "metadata": {
    "execution": {
     "iopub.execute_input": "2023-01-24T16:18:20.029126Z",
     "iopub.status.busy": "2023-01-24T16:18:20.028582Z",
     "iopub.status.idle": "2023-01-24T16:18:20.366018Z",
     "shell.execute_reply": "2023-01-24T16:18:20.365334Z"
    }
   },
   "outputs": [],
   "source": [
    "from tianshou.data import Batch\n",
    "\n",
    "b = Batch(**_TREE_DATA_2)"
   ]
  },
  {
   "cell_type": "code",
   "execution_count": 9,
   "id": "cb0777c3",
   "metadata": {
    "execution": {
     "iopub.execute_input": "2023-01-24T16:18:20.370523Z",
     "iopub.status.busy": "2023-01-24T16:18:20.369110Z",
     "iopub.status.idle": "2023-01-24T16:18:20.376163Z",
     "shell.execute_reply": "2023-01-24T16:18:20.375575Z"
    }
   },
   "outputs": [
    {
     "data": {
      "text/plain": [
       "Batch(\n",
       "    a: tensor([[-0.0113, -1.1151,  1.1722],\n",
       "               [ 0.7259,  1.1265,  1.6400]]),\n",
       "    x: Batch(\n",
       "           c: tensor([[-0.9235,  0.0731,  0.0922,  0.9548],\n",
       "                      [-0.9627, -0.5606, -0.3010, -0.1171],\n",
       "                      [ 0.6720,  0.7402,  0.6757,  0.2325]]),\n",
       "       ),\n",
       ")"
      ]
     },
     "execution_count": 9,
     "metadata": {},
     "output_type": "execute_result"
    }
   ],
   "source": [
    "b"
   ]
  },
  {
   "cell_type": "code",
   "execution_count": 10,
   "id": "43ef8ea3",
   "metadata": {
    "execution": {
     "iopub.execute_input": "2023-01-24T16:18:20.378809Z",
     "iopub.status.busy": "2023-01-24T16:18:20.378590Z",
     "iopub.status.idle": "2023-01-24T16:18:20.384304Z",
     "shell.execute_reply": "2023-01-24T16:18:20.383720Z"
    }
   },
   "outputs": [
    {
     "data": {
      "text/plain": [
       "tensor([[-0.0113, -1.1151,  1.1722],\n",
       "        [ 0.7259,  1.1265,  1.6400]])"
      ]
     },
     "execution_count": 10,
     "metadata": {},
     "output_type": "execute_result"
    }
   ],
   "source": [
    "b.a"
   ]
  },
  {
   "cell_type": "code",
   "execution_count": 11,
   "id": "b785ab72",
   "metadata": {
    "execution": {
     "iopub.execute_input": "2023-01-24T16:18:20.386962Z",
     "iopub.status.busy": "2023-01-24T16:18:20.386756Z",
     "iopub.status.idle": "2023-01-24T16:18:24.954155Z",
     "shell.execute_reply": "2023-01-24T16:18:24.953158Z"
    }
   },
   "outputs": [
    {
     "name": "stdout",
     "output_type": "stream",
     "text": [
      "55.9 ns ± 0.0444 ns per loop (mean ± std. dev. of 7 runs, 10,000,000 loops each)\n"
     ]
    }
   ],
   "source": [
    "%timeit b.a"
   ]
  },
  {
   "cell_type": "code",
   "execution_count": 12,
   "id": "ad54dc69",
   "metadata": {
    "execution": {
     "iopub.execute_input": "2023-01-24T16:18:24.957757Z",
     "iopub.status.busy": "2023-01-24T16:18:24.957193Z",
     "iopub.status.idle": "2023-01-24T16:18:24.962958Z",
     "shell.execute_reply": "2023-01-24T16:18:24.962302Z"
    }
   },
   "outputs": [
    {
     "data": {
      "text/plain": [
       "Batch(\n",
       "    a: tensor([[-2.6222, -0.7740,  0.8048],\n",
       "               [-0.4885,  1.2544,  0.1452]]),\n",
       "    x: Batch(\n",
       "           c: tensor([[-0.9235,  0.0731,  0.0922,  0.9548],\n",
       "                      [-0.9627, -0.5606, -0.3010, -0.1171],\n",
       "                      [ 0.6720,  0.7402,  0.6757,  0.2325]]),\n",
       "       ),\n",
       ")"
      ]
     },
     "execution_count": 12,
     "metadata": {},
     "output_type": "execute_result"
    }
   ],
   "source": [
    "new_value = torch.randn(2, 3)\n",
    "b.a = new_value\n",
    "\n",
    "b"
   ]
  },
  {
   "cell_type": "code",
   "execution_count": 13,
   "id": "29b1d0bf",
   "metadata": {
    "execution": {
     "iopub.execute_input": "2023-01-24T16:18:24.965726Z",
     "iopub.status.busy": "2023-01-24T16:18:24.965508Z",
     "iopub.status.idle": "2023-01-24T16:18:28.855154Z",
     "shell.execute_reply": "2023-01-24T16:18:28.854570Z"
    }
   },
   "outputs": [
    {
     "name": "stdout",
     "output_type": "stream",
     "text": [
      "479 ns ± 0.17 ns per loop (mean ± std. dev. of 7 runs, 1,000,000 loops each)\n"
     ]
    }
   ],
   "source": [
    "%timeit b.a = new_value"
   ]
  },
  {
   "cell_type": "markdown",
   "id": "b61ad1d0",
   "metadata": {},
   "source": [
    "## Initialization"
   ]
  },
  {
   "cell_type": "markdown",
   "id": "d70f0d54",
   "metadata": {},
   "source": [
    "### TreeValue's Initialization"
   ]
  },
  {
   "cell_type": "code",
   "execution_count": 14,
   "id": "d32a679b",
   "metadata": {
    "execution": {
     "iopub.execute_input": "2023-01-24T16:18:28.858270Z",
     "iopub.status.busy": "2023-01-24T16:18:28.858041Z",
     "iopub.status.idle": "2023-01-24T16:18:35.680820Z",
     "shell.execute_reply": "2023-01-24T16:18:35.680226Z"
    }
   },
   "outputs": [
    {
     "name": "stdout",
     "output_type": "stream",
     "text": [
      "841 ns ± 8.84 ns per loop (mean ± std. dev. of 7 runs, 1,000,000 loops each)\n"
     ]
    }
   ],
   "source": [
    "%timeit FastTreeValue(_TREE_DATA_1)"
   ]
  },
  {
   "cell_type": "markdown",
   "id": "24f3707b",
   "metadata": {},
   "source": [
    "### Tianshou Batch's Initialization"
   ]
  },
  {
   "cell_type": "code",
   "execution_count": 15,
   "id": "ac3958df",
   "metadata": {
    "execution": {
     "iopub.execute_input": "2023-01-24T16:18:35.683753Z",
     "iopub.status.busy": "2023-01-24T16:18:35.683525Z",
     "iopub.status.idle": "2023-01-24T16:18:44.769335Z",
     "shell.execute_reply": "2023-01-24T16:18:44.768524Z"
    }
   },
   "outputs": [
    {
     "name": "stdout",
     "output_type": "stream",
     "text": [
      "11.2 µs ± 61.3 ns per loop (mean ± std. dev. of 7 runs, 100,000 loops each)\n"
     ]
    }
   ],
   "source": [
    "%timeit Batch(**_TREE_DATA_1)"
   ]
  },
  {
   "cell_type": "markdown",
   "id": "1ab82e2d",
   "metadata": {},
   "source": [
    "## Deep Copy Operation"
   ]
  },
  {
   "cell_type": "code",
   "execution_count": 16,
   "id": "210a9442",
   "metadata": {
    "execution": {
     "iopub.execute_input": "2023-01-24T16:18:44.772529Z",
     "iopub.status.busy": "2023-01-24T16:18:44.771965Z",
     "iopub.status.idle": "2023-01-24T16:18:44.775158Z",
     "shell.execute_reply": "2023-01-24T16:18:44.774515Z"
    }
   },
   "outputs": [],
   "source": [
    "import copy"
   ]
  },
  {
   "cell_type": "markdown",
   "id": "5a736274",
   "metadata": {},
   "source": [
    "### Deep Copy of TreeValue"
   ]
  },
  {
   "cell_type": "code",
   "execution_count": 17,
   "id": "f9bcadd6",
   "metadata": {
    "execution": {
     "iopub.execute_input": "2023-01-24T16:18:44.777961Z",
     "iopub.status.busy": "2023-01-24T16:18:44.777736Z",
     "iopub.status.idle": "2023-01-24T16:18:55.949498Z",
     "shell.execute_reply": "2023-01-24T16:18:55.948931Z"
    }
   },
   "outputs": [
    {
     "name": "stdout",
     "output_type": "stream",
     "text": [
      "138 µs ± 885 ns per loop (mean ± std. dev. of 7 runs, 10,000 loops each)\n"
     ]
    }
   ],
   "source": [
    "t3 = FastTreeValue(_TREE_DATA_3)\n",
    "%timeit copy.deepcopy(t3)"
   ]
  },
  {
   "cell_type": "markdown",
   "id": "bf8be7ea",
   "metadata": {},
   "source": [
    "### Deep Copy of Tianshou Batch"
   ]
  },
  {
   "cell_type": "code",
   "execution_count": 18,
   "id": "91998e6f",
   "metadata": {
    "execution": {
     "iopub.execute_input": "2023-01-24T16:18:55.952452Z",
     "iopub.status.busy": "2023-01-24T16:18:55.952098Z",
     "iopub.status.idle": "2023-01-24T16:19:07.160323Z",
     "shell.execute_reply": "2023-01-24T16:19:07.159755Z"
    }
   },
   "outputs": [
    {
     "name": "stdout",
     "output_type": "stream",
     "text": [
      "138 µs ± 262 ns per loop (mean ± std. dev. of 7 runs, 10,000 loops each)\n"
     ]
    }
   ],
   "source": [
    "b3 = Batch(**_TREE_DATA_3)\n",
    "%timeit copy.deepcopy(b3)"
   ]
  },
  {
   "cell_type": "markdown",
   "id": "223162fb",
   "metadata": {},
   "source": [
    "## Stack, Concat and Split Operation"
   ]
  },
  {
   "cell_type": "markdown",
   "id": "85fa4a73",
   "metadata": {},
   "source": [
    "### Performance of TreeValue"
   ]
  },
  {
   "cell_type": "code",
   "execution_count": 19,
   "id": "a0c2b697",
   "metadata": {
    "execution": {
     "iopub.execute_input": "2023-01-24T16:19:07.163895Z",
     "iopub.status.busy": "2023-01-24T16:19:07.163366Z",
     "iopub.status.idle": "2023-01-24T16:19:07.168303Z",
     "shell.execute_reply": "2023-01-24T16:19:07.167763Z"
    }
   },
   "outputs": [],
   "source": [
    "trees = [FastTreeValue(_TREE_DATA_2) for _ in range(8)]"
   ]
  },
  {
   "cell_type": "code",
   "execution_count": 20,
   "id": "017ea5a5",
   "metadata": {
    "execution": {
     "iopub.execute_input": "2023-01-24T16:19:07.171865Z",
     "iopub.status.busy": "2023-01-24T16:19:07.171381Z",
     "iopub.status.idle": "2023-01-24T16:19:07.180677Z",
     "shell.execute_reply": "2023-01-24T16:19:07.180075Z"
    }
   },
   "outputs": [
    {
     "data": {
      "text/plain": [
       "<FastTreeValue 0x7f88e0beca00>\n",
       "├── 'a' --> tensor([[[-0.0113, -1.1151,  1.1722],\n",
       "│                    [ 0.7259,  1.1265,  1.6400]],\n",
       "│           \n",
       "│                   [[-0.0113, -1.1151,  1.1722],\n",
       "│                    [ 0.7259,  1.1265,  1.6400]],\n",
       "│           \n",
       "│                   [[-0.0113, -1.1151,  1.1722],\n",
       "│                    [ 0.7259,  1.1265,  1.6400]],\n",
       "│           \n",
       "│                   [[-0.0113, -1.1151,  1.1722],\n",
       "│                    [ 0.7259,  1.1265,  1.6400]],\n",
       "│           \n",
       "│                   [[-0.0113, -1.1151,  1.1722],\n",
       "│                    [ 0.7259,  1.1265,  1.6400]],\n",
       "│           \n",
       "│                   [[-0.0113, -1.1151,  1.1722],\n",
       "│                    [ 0.7259,  1.1265,  1.6400]],\n",
       "│           \n",
       "│                   [[-0.0113, -1.1151,  1.1722],\n",
       "│                    [ 0.7259,  1.1265,  1.6400]],\n",
       "│           \n",
       "│                   [[-0.0113, -1.1151,  1.1722],\n",
       "│                    [ 0.7259,  1.1265,  1.6400]]])\n",
       "└── 'x' --> <FastTreeValue 0x7f88e0becbb0>\n",
       "    └── 'c' --> tensor([[[-0.9235,  0.0731,  0.0922,  0.9548],\n",
       "                         [-0.9627, -0.5606, -0.3010, -0.1171],\n",
       "                         [ 0.6720,  0.7402,  0.6757,  0.2325]],\n",
       "                \n",
       "                        [[-0.9235,  0.0731,  0.0922,  0.9548],\n",
       "                         [-0.9627, -0.5606, -0.3010, -0.1171],\n",
       "                         [ 0.6720,  0.7402,  0.6757,  0.2325]],\n",
       "                \n",
       "                        [[-0.9235,  0.0731,  0.0922,  0.9548],\n",
       "                         [-0.9627, -0.5606, -0.3010, -0.1171],\n",
       "                         [ 0.6720,  0.7402,  0.6757,  0.2325]],\n",
       "                \n",
       "                        [[-0.9235,  0.0731,  0.0922,  0.9548],\n",
       "                         [-0.9627, -0.5606, -0.3010, -0.1171],\n",
       "                         [ 0.6720,  0.7402,  0.6757,  0.2325]],\n",
       "                \n",
       "                        [[-0.9235,  0.0731,  0.0922,  0.9548],\n",
       "                         [-0.9627, -0.5606, -0.3010, -0.1171],\n",
       "                         [ 0.6720,  0.7402,  0.6757,  0.2325]],\n",
       "                \n",
       "                        [[-0.9235,  0.0731,  0.0922,  0.9548],\n",
       "                         [-0.9627, -0.5606, -0.3010, -0.1171],\n",
       "                         [ 0.6720,  0.7402,  0.6757,  0.2325]],\n",
       "                \n",
       "                        [[-0.9235,  0.0731,  0.0922,  0.9548],\n",
       "                         [-0.9627, -0.5606, -0.3010, -0.1171],\n",
       "                         [ 0.6720,  0.7402,  0.6757,  0.2325]],\n",
       "                \n",
       "                        [[-0.9235,  0.0731,  0.0922,  0.9548],\n",
       "                         [-0.9627, -0.5606, -0.3010, -0.1171],\n",
       "                         [ 0.6720,  0.7402,  0.6757,  0.2325]]])"
      ]
     },
     "execution_count": 20,
     "metadata": {},
     "output_type": "execute_result"
    }
   ],
   "source": [
    "t_stack = FastTreeValue.func(subside=True)(torch.stack)\n",
    "\n",
    "t_stack(trees)"
   ]
  },
  {
   "cell_type": "code",
   "execution_count": 21,
   "id": "f8b3f415",
   "metadata": {
    "execution": {
     "iopub.execute_input": "2023-01-24T16:19:07.183950Z",
     "iopub.status.busy": "2023-01-24T16:19:07.183494Z",
     "iopub.status.idle": "2023-01-24T16:19:09.798204Z",
     "shell.execute_reply": "2023-01-24T16:19:09.797431Z"
    }
   },
   "outputs": [
    {
     "name": "stdout",
     "output_type": "stream",
     "text": [
      "32.1 µs ± 21.6 ns per loop (mean ± std. dev. of 7 runs, 10,000 loops each)\n"
     ]
    }
   ],
   "source": [
    "%timeit t_stack(trees)"
   ]
  },
  {
   "cell_type": "code",
   "execution_count": 22,
   "id": "94b56771",
   "metadata": {
    "execution": {
     "iopub.execute_input": "2023-01-24T16:19:09.801451Z",
     "iopub.status.busy": "2023-01-24T16:19:09.801191Z",
     "iopub.status.idle": "2023-01-24T16:19:09.809341Z",
     "shell.execute_reply": "2023-01-24T16:19:09.808737Z"
    }
   },
   "outputs": [
    {
     "data": {
      "text/plain": [
       "<FastTreeValue 0x7f88e05b0340>\n",
       "├── 'a' --> tensor([[-0.0113, -1.1151,  1.1722],\n",
       "│                   [ 0.7259,  1.1265,  1.6400],\n",
       "│                   [-0.0113, -1.1151,  1.1722],\n",
       "│                   [ 0.7259,  1.1265,  1.6400],\n",
       "│                   [-0.0113, -1.1151,  1.1722],\n",
       "│                   [ 0.7259,  1.1265,  1.6400],\n",
       "│                   [-0.0113, -1.1151,  1.1722],\n",
       "│                   [ 0.7259,  1.1265,  1.6400],\n",
       "│                   [-0.0113, -1.1151,  1.1722],\n",
       "│                   [ 0.7259,  1.1265,  1.6400],\n",
       "│                   [-0.0113, -1.1151,  1.1722],\n",
       "│                   [ 0.7259,  1.1265,  1.6400],\n",
       "│                   [-0.0113, -1.1151,  1.1722],\n",
       "│                   [ 0.7259,  1.1265,  1.6400],\n",
       "│                   [-0.0113, -1.1151,  1.1722],\n",
       "│                   [ 0.7259,  1.1265,  1.6400]])\n",
       "└── 'x' --> <FastTreeValue 0x7f88e05b01c0>\n",
       "    └── 'c' --> tensor([[-0.9235,  0.0731,  0.0922,  0.9548],\n",
       "                        [-0.9627, -0.5606, -0.3010, -0.1171],\n",
       "                        [ 0.6720,  0.7402,  0.6757,  0.2325],\n",
       "                        [-0.9235,  0.0731,  0.0922,  0.9548],\n",
       "                        [-0.9627, -0.5606, -0.3010, -0.1171],\n",
       "                        [ 0.6720,  0.7402,  0.6757,  0.2325],\n",
       "                        [-0.9235,  0.0731,  0.0922,  0.9548],\n",
       "                        [-0.9627, -0.5606, -0.3010, -0.1171],\n",
       "                        [ 0.6720,  0.7402,  0.6757,  0.2325],\n",
       "                        [-0.9235,  0.0731,  0.0922,  0.9548],\n",
       "                        [-0.9627, -0.5606, -0.3010, -0.1171],\n",
       "                        [ 0.6720,  0.7402,  0.6757,  0.2325],\n",
       "                        [-0.9235,  0.0731,  0.0922,  0.9548],\n",
       "                        [-0.9627, -0.5606, -0.3010, -0.1171],\n",
       "                        [ 0.6720,  0.7402,  0.6757,  0.2325],\n",
       "                        [-0.9235,  0.0731,  0.0922,  0.9548],\n",
       "                        [-0.9627, -0.5606, -0.3010, -0.1171],\n",
       "                        [ 0.6720,  0.7402,  0.6757,  0.2325],\n",
       "                        [-0.9235,  0.0731,  0.0922,  0.9548],\n",
       "                        [-0.9627, -0.5606, -0.3010, -0.1171],\n",
       "                        [ 0.6720,  0.7402,  0.6757,  0.2325],\n",
       "                        [-0.9235,  0.0731,  0.0922,  0.9548],\n",
       "                        [-0.9627, -0.5606, -0.3010, -0.1171],\n",
       "                        [ 0.6720,  0.7402,  0.6757,  0.2325]])"
      ]
     },
     "execution_count": 22,
     "metadata": {},
     "output_type": "execute_result"
    }
   ],
   "source": [
    "t_cat = FastTreeValue.func(subside=True)(torch.cat)\n",
    "\n",
    "t_cat(trees)"
   ]
  },
  {
   "cell_type": "code",
   "execution_count": 23,
   "id": "5e9c06a6",
   "metadata": {
    "execution": {
     "iopub.execute_input": "2023-01-24T16:19:09.812088Z",
     "iopub.status.busy": "2023-01-24T16:19:09.811726Z",
     "iopub.status.idle": "2023-01-24T16:19:12.299297Z",
     "shell.execute_reply": "2023-01-24T16:19:12.298710Z"
    }
   },
   "outputs": [
    {
     "name": "stdout",
     "output_type": "stream",
     "text": [
      "30.3 µs ± 758 ns per loop (mean ± std. dev. of 7 runs, 10,000 loops each)\n"
     ]
    }
   ],
   "source": [
    "%timeit t_cat(trees)"
   ]
  },
  {
   "cell_type": "code",
   "execution_count": 24,
   "id": "a3ab5c8f",
   "metadata": {
    "execution": {
     "iopub.execute_input": "2023-01-24T16:19:12.302214Z",
     "iopub.status.busy": "2023-01-24T16:19:12.301988Z",
     "iopub.status.idle": "2023-01-24T16:19:16.927846Z",
     "shell.execute_reply": "2023-01-24T16:19:16.926890Z"
    }
   },
   "outputs": [
    {
     "name": "stdout",
     "output_type": "stream",
     "text": [
      "56.9 µs ± 245 ns per loop (mean ± std. dev. of 7 runs, 10,000 loops each)\n"
     ]
    }
   ],
   "source": [
    "t_split = FastTreeValue.func(rise=True)(torch.split)\n",
    "tree = FastTreeValue({\n",
    "    'obs': torch.randn(8, 4, 84, 84),\n",
    "    'action': torch.randint(0, 6, size=(8, 1,)),\n",
    "    'reward': torch.rand(8, 1),\n",
    "})\n",
    "\n",
    "%timeit t_split(tree, 1)"
   ]
  },
  {
   "cell_type": "markdown",
   "id": "31c3ec0b",
   "metadata": {},
   "source": [
    "### Performance of Tianshou Batch"
   ]
  },
  {
   "cell_type": "code",
   "execution_count": 25,
   "id": "9ead828a",
   "metadata": {
    "execution": {
     "iopub.execute_input": "2023-01-24T16:19:16.931380Z",
     "iopub.status.busy": "2023-01-24T16:19:16.931018Z",
     "iopub.status.idle": "2023-01-24T16:19:16.938765Z",
     "shell.execute_reply": "2023-01-24T16:19:16.938103Z"
    }
   },
   "outputs": [
    {
     "data": {
      "text/plain": [
       "Batch(\n",
       "    x: Batch(\n",
       "           c: tensor([[[-0.9235,  0.0731,  0.0922,  0.9548],\n",
       "                       [-0.9627, -0.5606, -0.3010, -0.1171],\n",
       "                       [ 0.6720,  0.7402,  0.6757,  0.2325]],\n",
       "              \n",
       "                      [[-0.9235,  0.0731,  0.0922,  0.9548],\n",
       "                       [-0.9627, -0.5606, -0.3010, -0.1171],\n",
       "                       [ 0.6720,  0.7402,  0.6757,  0.2325]],\n",
       "              \n",
       "                      [[-0.9235,  0.0731,  0.0922,  0.9548],\n",
       "                       [-0.9627, -0.5606, -0.3010, -0.1171],\n",
       "                       [ 0.6720,  0.7402,  0.6757,  0.2325]],\n",
       "              \n",
       "                      [[-0.9235,  0.0731,  0.0922,  0.9548],\n",
       "                       [-0.9627, -0.5606, -0.3010, -0.1171],\n",
       "                       [ 0.6720,  0.7402,  0.6757,  0.2325]],\n",
       "              \n",
       "                      [[-0.9235,  0.0731,  0.0922,  0.9548],\n",
       "                       [-0.9627, -0.5606, -0.3010, -0.1171],\n",
       "                       [ 0.6720,  0.7402,  0.6757,  0.2325]],\n",
       "              \n",
       "                      [[-0.9235,  0.0731,  0.0922,  0.9548],\n",
       "                       [-0.9627, -0.5606, -0.3010, -0.1171],\n",
       "                       [ 0.6720,  0.7402,  0.6757,  0.2325]],\n",
       "              \n",
       "                      [[-0.9235,  0.0731,  0.0922,  0.9548],\n",
       "                       [-0.9627, -0.5606, -0.3010, -0.1171],\n",
       "                       [ 0.6720,  0.7402,  0.6757,  0.2325]],\n",
       "              \n",
       "                      [[-0.9235,  0.0731,  0.0922,  0.9548],\n",
       "                       [-0.9627, -0.5606, -0.3010, -0.1171],\n",
       "                       [ 0.6720,  0.7402,  0.6757,  0.2325]]]),\n",
       "       ),\n",
       "    a: tensor([[[-0.0113, -1.1151,  1.1722],\n",
       "                [ 0.7259,  1.1265,  1.6400]],\n",
       "       \n",
       "               [[-0.0113, -1.1151,  1.1722],\n",
       "                [ 0.7259,  1.1265,  1.6400]],\n",
       "       \n",
       "               [[-0.0113, -1.1151,  1.1722],\n",
       "                [ 0.7259,  1.1265,  1.6400]],\n",
       "       \n",
       "               [[-0.0113, -1.1151,  1.1722],\n",
       "                [ 0.7259,  1.1265,  1.6400]],\n",
       "       \n",
       "               [[-0.0113, -1.1151,  1.1722],\n",
       "                [ 0.7259,  1.1265,  1.6400]],\n",
       "       \n",
       "               [[-0.0113, -1.1151,  1.1722],\n",
       "                [ 0.7259,  1.1265,  1.6400]],\n",
       "       \n",
       "               [[-0.0113, -1.1151,  1.1722],\n",
       "                [ 0.7259,  1.1265,  1.6400]],\n",
       "       \n",
       "               [[-0.0113, -1.1151,  1.1722],\n",
       "                [ 0.7259,  1.1265,  1.6400]]]),\n",
       ")"
      ]
     },
     "execution_count": 25,
     "metadata": {},
     "output_type": "execute_result"
    }
   ],
   "source": [
    "batches = [Batch(**_TREE_DATA_2) for _ in range(8)]\n",
    "\n",
    "Batch.stack(batches)"
   ]
  },
  {
   "cell_type": "code",
   "execution_count": 26,
   "id": "ec9037a3",
   "metadata": {
    "execution": {
     "iopub.execute_input": "2023-01-24T16:19:16.941405Z",
     "iopub.status.busy": "2023-01-24T16:19:16.941169Z",
     "iopub.status.idle": "2023-01-24T16:19:23.308624Z",
     "shell.execute_reply": "2023-01-24T16:19:23.307650Z"
    }
   },
   "outputs": [
    {
     "name": "stdout",
     "output_type": "stream",
     "text": [
      "78.4 µs ± 260 ns per loop (mean ± std. dev. of 7 runs, 10,000 loops each)\n"
     ]
    }
   ],
   "source": [
    "%timeit Batch.stack(batches)"
   ]
  },
  {
   "cell_type": "code",
   "execution_count": 27,
   "id": "cb8ab77e",
   "metadata": {
    "execution": {
     "iopub.execute_input": "2023-01-24T16:19:23.311676Z",
     "iopub.status.busy": "2023-01-24T16:19:23.311438Z",
     "iopub.status.idle": "2023-01-24T16:19:23.318073Z",
     "shell.execute_reply": "2023-01-24T16:19:23.317416Z"
    }
   },
   "outputs": [
    {
     "data": {
      "text/plain": [
       "Batch(\n",
       "    x: Batch(\n",
       "           c: tensor([[-0.9235,  0.0731,  0.0922,  0.9548],\n",
       "                      [-0.9627, -0.5606, -0.3010, -0.1171],\n",
       "                      [ 0.6720,  0.7402,  0.6757,  0.2325],\n",
       "                      [-0.9235,  0.0731,  0.0922,  0.9548],\n",
       "                      [-0.9627, -0.5606, -0.3010, -0.1171],\n",
       "                      [ 0.6720,  0.7402,  0.6757,  0.2325],\n",
       "                      [-0.9235,  0.0731,  0.0922,  0.9548],\n",
       "                      [-0.9627, -0.5606, -0.3010, -0.1171],\n",
       "                      [ 0.6720,  0.7402,  0.6757,  0.2325],\n",
       "                      [-0.9235,  0.0731,  0.0922,  0.9548],\n",
       "                      [-0.9627, -0.5606, -0.3010, -0.1171],\n",
       "                      [ 0.6720,  0.7402,  0.6757,  0.2325],\n",
       "                      [-0.9235,  0.0731,  0.0922,  0.9548],\n",
       "                      [-0.9627, -0.5606, -0.3010, -0.1171],\n",
       "                      [ 0.6720,  0.7402,  0.6757,  0.2325],\n",
       "                      [-0.9235,  0.0731,  0.0922,  0.9548],\n",
       "                      [-0.9627, -0.5606, -0.3010, -0.1171],\n",
       "                      [ 0.6720,  0.7402,  0.6757,  0.2325],\n",
       "                      [-0.9235,  0.0731,  0.0922,  0.9548],\n",
       "                      [-0.9627, -0.5606, -0.3010, -0.1171],\n",
       "                      [ 0.6720,  0.7402,  0.6757,  0.2325],\n",
       "                      [-0.9235,  0.0731,  0.0922,  0.9548],\n",
       "                      [-0.9627, -0.5606, -0.3010, -0.1171],\n",
       "                      [ 0.6720,  0.7402,  0.6757,  0.2325]]),\n",
       "       ),\n",
       "    a: tensor([[-0.0113, -1.1151,  1.1722],\n",
       "               [ 0.7259,  1.1265,  1.6400],\n",
       "               [-0.0113, -1.1151,  1.1722],\n",
       "               [ 0.7259,  1.1265,  1.6400],\n",
       "               [-0.0113, -1.1151,  1.1722],\n",
       "               [ 0.7259,  1.1265,  1.6400],\n",
       "               [-0.0113, -1.1151,  1.1722],\n",
       "               [ 0.7259,  1.1265,  1.6400],\n",
       "               [-0.0113, -1.1151,  1.1722],\n",
       "               [ 0.7259,  1.1265,  1.6400],\n",
       "               [-0.0113, -1.1151,  1.1722],\n",
       "               [ 0.7259,  1.1265,  1.6400],\n",
       "               [-0.0113, -1.1151,  1.1722],\n",
       "               [ 0.7259,  1.1265,  1.6400],\n",
       "               [-0.0113, -1.1151,  1.1722],\n",
       "               [ 0.7259,  1.1265,  1.6400]]),\n",
       ")"
      ]
     },
     "execution_count": 27,
     "metadata": {},
     "output_type": "execute_result"
    }
   ],
   "source": [
    "Batch.cat(batches)"
   ]
  },
  {
   "cell_type": "code",
   "execution_count": 28,
   "id": "18dfb045",
   "metadata": {
    "execution": {
     "iopub.execute_input": "2023-01-24T16:19:23.321054Z",
     "iopub.status.busy": "2023-01-24T16:19:23.320499Z",
     "iopub.status.idle": "2023-01-24T16:19:34.831004Z",
     "shell.execute_reply": "2023-01-24T16:19:34.830415Z"
    }
   },
   "outputs": [
    {
     "name": "stdout",
     "output_type": "stream",
     "text": [
      "142 µs ± 179 ns per loop (mean ± std. dev. of 7 runs, 10,000 loops each)\n"
     ]
    }
   ],
   "source": [
    "%timeit Batch.cat(batches)"
   ]
  },
  {
   "cell_type": "code",
   "execution_count": 29,
   "id": "c6688e51",
   "metadata": {
    "execution": {
     "iopub.execute_input": "2023-01-24T16:19:34.833987Z",
     "iopub.status.busy": "2023-01-24T16:19:34.833765Z",
     "iopub.status.idle": "2023-01-24T16:19:37.420169Z",
     "shell.execute_reply": "2023-01-24T16:19:37.419479Z"
    }
   },
   "outputs": [
    {
     "name": "stdout",
     "output_type": "stream",
     "text": [
      "318 µs ± 1.57 µs per loop (mean ± std. dev. of 7 runs, 1,000 loops each)\n"
     ]
    }
   ],
   "source": [
    "batch = Batch({\n",
    "    'obs': torch.randn(8, 4, 84, 84),\n",
    "    'action': torch.randint(0, 6, size=(8, 1,)),\n",
    "    'reward': torch.rand(8, 1)}\n",
    ")\n",
    "\n",
    "%timeit list(Batch.split(batch, 1, shuffle=False, merge_last=True))"
   ]
  },
  {
   "cell_type": "code",
   "execution_count": null,
   "id": "2539fbd9",
   "metadata": {},
   "outputs": [],
   "source": []
  }
 ],
 "metadata": {
  "kernelspec": {
   "display_name": "Python 3 (ipykernel)",
   "language": "python",
   "name": "python3"
  },
  "language_info": {
   "codemirror_mode": {
    "name": "ipython",
    "version": 3
   },
   "file_extension": ".py",
   "mimetype": "text/x-python",
   "name": "python",
   "nbconvert_exporter": "python",
   "pygments_lexer": "ipython3",
   "version": "3.8.16"
  }
 },
 "nbformat": 4,
 "nbformat_minor": 5
}
