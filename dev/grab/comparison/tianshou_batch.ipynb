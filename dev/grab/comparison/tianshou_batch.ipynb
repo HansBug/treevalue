{
 "cells": [
  {
   "cell_type": "markdown",
   "id": "9d39d946",
   "metadata": {},
   "source": [
    "# Comparison Between TreeValue and Tianshou Batch"
   ]
  },
  {
   "cell_type": "markdown",
   "id": "3c6db2d4",
   "metadata": {},
   "source": [
    "In this section, we will take a look at the feature and performance of the [Tianshou Batch](https://github.com/thu-ml/tianshou) library, which is developed by Tsinghua Machine Learning Group."
   ]
  },
  {
   "cell_type": "markdown",
   "id": "069361b0",
   "metadata": {},
   "source": [
    "Before starting the comparison, let us define some thing."
   ]
  },
  {
   "cell_type": "code",
   "execution_count": 1,
   "id": "06fc8d26",
   "metadata": {
    "execution": {
     "iopub.execute_input": "2023-01-24T17:26:33.842163Z",
     "iopub.status.busy": "2023-01-24T17:26:33.841632Z",
     "iopub.status.idle": "2023-01-24T17:26:34.788623Z",
     "shell.execute_reply": "2023-01-24T17:26:34.787919Z"
    }
   },
   "outputs": [
    {
     "name": "stderr",
     "output_type": "stream",
     "text": [
      "/opt/hostedtoolcache/Python/3.8.16/x64/lib/python3.8/site-packages/tqdm/auto.py:22: TqdmWarning: IProgress not found. Please update jupyter and ipywidgets. See https://ipywidgets.readthedocs.io/en/stable/user_install.html\n",
      "  from .autonotebook import tqdm as notebook_tqdm\n"
     ]
    }
   ],
   "source": [
    "import torch \n",
    "\n",
    "_TREE_DATA_1 = {'a': 1, 'b': 2, 'x': {'c': 3, 'd': 4}}\n",
    "_TREE_DATA_2 = {\n",
    "    'a': torch.randn(2, 3), \n",
    "    'x': {\n",
    "        'c': torch.randn(3, 4)\n",
    "    },\n",
    "}\n",
    "_TREE_DATA_3 = {\n",
    "    'obs': torch.randn(4, 84, 84),\n",
    "    'action': torch.randint(0, 6, size=(1,)),\n",
    "    'reward': torch.rand(1),\n",
    "}"
   ]
  },
  {
   "cell_type": "markdown",
   "id": "83461b25",
   "metadata": {},
   "source": [
    "## Read and Write Operation"
   ]
  },
  {
   "cell_type": "markdown",
   "id": "067b3f73",
   "metadata": {},
   "source": [
    "Reading and writing are the two most common operations in the tree data structure based on the data model (TreeValue and Tianshou Batch both belong to this type), so this section will compare the reading and writing performance of these two libraries."
   ]
  },
  {
   "cell_type": "markdown",
   "id": "5d09a5b7",
   "metadata": {},
   "source": [
    "### TreeValue's Get and Set"
   ]
  },
  {
   "cell_type": "code",
   "execution_count": 2,
   "id": "9519c4bb",
   "metadata": {
    "execution": {
     "iopub.execute_input": "2023-01-24T17:26:34.792808Z",
     "iopub.status.busy": "2023-01-24T17:26:34.792163Z",
     "iopub.status.idle": "2023-01-24T17:26:34.825927Z",
     "shell.execute_reply": "2023-01-24T17:26:34.825239Z"
    }
   },
   "outputs": [],
   "source": [
    "from treevalue import FastTreeValue\n",
    "\n",
    "t = FastTreeValue(_TREE_DATA_2)"
   ]
  },
  {
   "cell_type": "code",
   "execution_count": 3,
   "id": "11c37677",
   "metadata": {
    "execution": {
     "iopub.execute_input": "2023-01-24T17:26:34.829191Z",
     "iopub.status.busy": "2023-01-24T17:26:34.828724Z",
     "iopub.status.idle": "2023-01-24T17:26:34.838529Z",
     "shell.execute_reply": "2023-01-24T17:26:34.837857Z"
    }
   },
   "outputs": [
    {
     "data": {
      "text/plain": [
       "<FastTreeValue 0x7f41c879d4c0>\n",
       "├── 'a' --> tensor([[-1.7507, -0.9875,  0.0806],\n",
       "│                   [ 0.2455,  1.1326, -0.2698]])\n",
       "└── 'x' --> <FastTreeValue 0x7f41c879d3a0>\n",
       "    └── 'c' --> tensor([[ 1.5896, -0.0469,  0.8529, -0.7100],\n",
       "                        [-2.1702, -0.0126,  0.2901,  0.4673],\n",
       "                        [ 0.4248, -0.4162,  0.0881, -0.3487]])"
      ]
     },
     "execution_count": 3,
     "metadata": {},
     "output_type": "execute_result"
    }
   ],
   "source": [
    "t"
   ]
  },
  {
   "cell_type": "code",
   "execution_count": 4,
   "id": "fd70b0b9",
   "metadata": {
    "execution": {
     "iopub.execute_input": "2023-01-24T17:26:34.841856Z",
     "iopub.status.busy": "2023-01-24T17:26:34.841483Z",
     "iopub.status.idle": "2023-01-24T17:26:34.846590Z",
     "shell.execute_reply": "2023-01-24T17:26:34.845946Z"
    }
   },
   "outputs": [
    {
     "data": {
      "text/plain": [
       "tensor([[-1.7507, -0.9875,  0.0806],\n",
       "        [ 0.2455,  1.1326, -0.2698]])"
      ]
     },
     "execution_count": 4,
     "metadata": {},
     "output_type": "execute_result"
    }
   ],
   "source": [
    "t.a"
   ]
  },
  {
   "cell_type": "code",
   "execution_count": 5,
   "id": "c18197bd",
   "metadata": {
    "execution": {
     "iopub.execute_input": "2023-01-24T17:26:34.849848Z",
     "iopub.status.busy": "2023-01-24T17:26:34.849300Z",
     "iopub.status.idle": "2023-01-24T17:26:39.867488Z",
     "shell.execute_reply": "2023-01-24T17:26:39.866479Z"
    }
   },
   "outputs": [
    {
     "name": "stdout",
     "output_type": "stream",
     "text": [
      "61.7 ns ± 0.0595 ns per loop (mean ± std. dev. of 7 runs, 10,000,000 loops each)\n"
     ]
    }
   ],
   "source": [
    "%timeit t.a"
   ]
  },
  {
   "cell_type": "code",
   "execution_count": 6,
   "id": "bd52f867",
   "metadata": {
    "execution": {
     "iopub.execute_input": "2023-01-24T17:26:39.871036Z",
     "iopub.status.busy": "2023-01-24T17:26:39.870420Z",
     "iopub.status.idle": "2023-01-24T17:26:39.876750Z",
     "shell.execute_reply": "2023-01-24T17:26:39.876043Z"
    }
   },
   "outputs": [
    {
     "data": {
      "text/plain": [
       "<FastTreeValue 0x7f41c879d4c0>\n",
       "├── 'a' --> tensor([[ 0.2738, -0.2810,  0.5506],\n",
       "│                   [ 1.2446, -2.0847, -0.6467]])\n",
       "└── 'x' --> <FastTreeValue 0x7f41c879d3a0>\n",
       "    └── 'c' --> tensor([[ 1.5896, -0.0469,  0.8529, -0.7100],\n",
       "                        [-2.1702, -0.0126,  0.2901,  0.4673],\n",
       "                        [ 0.4248, -0.4162,  0.0881, -0.3487]])"
      ]
     },
     "execution_count": 6,
     "metadata": {},
     "output_type": "execute_result"
    }
   ],
   "source": [
    "new_value = torch.randn(2, 3)\n",
    "t.a = new_value\n",
    "\n",
    "t"
   ]
  },
  {
   "cell_type": "code",
   "execution_count": 7,
   "id": "bbe04d1c",
   "metadata": {
    "execution": {
     "iopub.execute_input": "2023-01-24T17:26:39.879694Z",
     "iopub.status.busy": "2023-01-24T17:26:39.879343Z",
     "iopub.status.idle": "2023-01-24T17:26:44.990664Z",
     "shell.execute_reply": "2023-01-24T17:26:44.990040Z"
    }
   },
   "outputs": [
    {
     "name": "stdout",
     "output_type": "stream",
     "text": [
      "62.8 ns ± 0.408 ns per loop (mean ± std. dev. of 7 runs, 10,000,000 loops each)\n"
     ]
    }
   ],
   "source": [
    "%timeit t.a = new_value"
   ]
  },
  {
   "cell_type": "markdown",
   "id": "48c49731",
   "metadata": {},
   "source": [
    "### Tianshou Batch's Get and Set"
   ]
  },
  {
   "cell_type": "code",
   "execution_count": 8,
   "id": "f1bb14c1",
   "metadata": {
    "execution": {
     "iopub.execute_input": "2023-01-24T17:26:44.994111Z",
     "iopub.status.busy": "2023-01-24T17:26:44.993543Z",
     "iopub.status.idle": "2023-01-24T17:26:45.340668Z",
     "shell.execute_reply": "2023-01-24T17:26:45.339976Z"
    }
   },
   "outputs": [],
   "source": [
    "from tianshou.data import Batch\n",
    "\n",
    "b = Batch(**_TREE_DATA_2)"
   ]
  },
  {
   "cell_type": "code",
   "execution_count": 9,
   "id": "cb0777c3",
   "metadata": {
    "execution": {
     "iopub.execute_input": "2023-01-24T17:26:45.344261Z",
     "iopub.status.busy": "2023-01-24T17:26:45.343659Z",
     "iopub.status.idle": "2023-01-24T17:26:45.349457Z",
     "shell.execute_reply": "2023-01-24T17:26:45.348796Z"
    }
   },
   "outputs": [
    {
     "data": {
      "text/plain": [
       "Batch(\n",
       "    a: tensor([[-1.7507, -0.9875,  0.0806],\n",
       "               [ 0.2455,  1.1326, -0.2698]]),\n",
       "    x: Batch(\n",
       "           c: tensor([[ 1.5896, -0.0469,  0.8529, -0.7100],\n",
       "                      [-2.1702, -0.0126,  0.2901,  0.4673],\n",
       "                      [ 0.4248, -0.4162,  0.0881, -0.3487]]),\n",
       "       ),\n",
       ")"
      ]
     },
     "execution_count": 9,
     "metadata": {},
     "output_type": "execute_result"
    }
   ],
   "source": [
    "b"
   ]
  },
  {
   "cell_type": "code",
   "execution_count": 10,
   "id": "43ef8ea3",
   "metadata": {
    "execution": {
     "iopub.execute_input": "2023-01-24T17:26:45.352746Z",
     "iopub.status.busy": "2023-01-24T17:26:45.352092Z",
     "iopub.status.idle": "2023-01-24T17:26:45.357351Z",
     "shell.execute_reply": "2023-01-24T17:26:45.356668Z"
    }
   },
   "outputs": [
    {
     "data": {
      "text/plain": [
       "tensor([[-1.7507, -0.9875,  0.0806],\n",
       "        [ 0.2455,  1.1326, -0.2698]])"
      ]
     },
     "execution_count": 10,
     "metadata": {},
     "output_type": "execute_result"
    }
   ],
   "source": [
    "b.a"
   ]
  },
  {
   "cell_type": "code",
   "execution_count": 11,
   "id": "b785ab72",
   "metadata": {
    "execution": {
     "iopub.execute_input": "2023-01-24T17:26:45.360296Z",
     "iopub.status.busy": "2023-01-24T17:26:45.359754Z",
     "iopub.status.idle": "2023-01-24T17:26:49.970777Z",
     "shell.execute_reply": "2023-01-24T17:26:49.970189Z"
    }
   },
   "outputs": [
    {
     "name": "stdout",
     "output_type": "stream",
     "text": [
      "56.5 ns ± 0.0612 ns per loop (mean ± std. dev. of 7 runs, 10,000,000 loops each)\n"
     ]
    }
   ],
   "source": [
    "%timeit b.a"
   ]
  },
  {
   "cell_type": "code",
   "execution_count": 12,
   "id": "ad54dc69",
   "metadata": {
    "execution": {
     "iopub.execute_input": "2023-01-24T17:26:49.974225Z",
     "iopub.status.busy": "2023-01-24T17:26:49.973587Z",
     "iopub.status.idle": "2023-01-24T17:26:49.979655Z",
     "shell.execute_reply": "2023-01-24T17:26:49.978937Z"
    }
   },
   "outputs": [
    {
     "data": {
      "text/plain": [
       "Batch(\n",
       "    a: tensor([[ 0.1817,  0.8708,  0.1509],\n",
       "               [-0.7102, -2.3056, -0.7651]]),\n",
       "    x: Batch(\n",
       "           c: tensor([[ 1.5896, -0.0469,  0.8529, -0.7100],\n",
       "                      [-2.1702, -0.0126,  0.2901,  0.4673],\n",
       "                      [ 0.4248, -0.4162,  0.0881, -0.3487]]),\n",
       "       ),\n",
       ")"
      ]
     },
     "execution_count": 12,
     "metadata": {},
     "output_type": "execute_result"
    }
   ],
   "source": [
    "new_value = torch.randn(2, 3)\n",
    "b.a = new_value\n",
    "\n",
    "b"
   ]
  },
  {
   "cell_type": "code",
   "execution_count": 13,
   "id": "29b1d0bf",
   "metadata": {
    "execution": {
     "iopub.execute_input": "2023-01-24T17:26:49.982435Z",
     "iopub.status.busy": "2023-01-24T17:26:49.982061Z",
     "iopub.status.idle": "2023-01-24T17:26:53.916934Z",
     "shell.execute_reply": "2023-01-24T17:26:53.916169Z"
    }
   },
   "outputs": [
    {
     "name": "stdout",
     "output_type": "stream",
     "text": [
      "484 ns ± 0.314 ns per loop (mean ± std. dev. of 7 runs, 1,000,000 loops each)\n"
     ]
    }
   ],
   "source": [
    "%timeit b.a = new_value"
   ]
  },
  {
   "cell_type": "markdown",
   "id": "b61ad1d0",
   "metadata": {},
   "source": [
    "## Initialization"
   ]
  },
  {
   "cell_type": "markdown",
   "id": "d70f0d54",
   "metadata": {},
   "source": [
    "### TreeValue's Initialization"
   ]
  },
  {
   "cell_type": "code",
   "execution_count": 14,
   "id": "d32a679b",
   "metadata": {
    "execution": {
     "iopub.execute_input": "2023-01-24T17:26:53.920179Z",
     "iopub.status.busy": "2023-01-24T17:26:53.919761Z",
     "iopub.status.idle": "2023-01-24T17:27:00.879318Z",
     "shell.execute_reply": "2023-01-24T17:27:00.878338Z"
    }
   },
   "outputs": [
    {
     "name": "stdout",
     "output_type": "stream",
     "text": [
      "857 ns ± 1.54 ns per loop (mean ± std. dev. of 7 runs, 1,000,000 loops each)\n"
     ]
    }
   ],
   "source": [
    "%timeit FastTreeValue(_TREE_DATA_1)"
   ]
  },
  {
   "cell_type": "markdown",
   "id": "24f3707b",
   "metadata": {},
   "source": [
    "### Tianshou Batch's Initialization"
   ]
  },
  {
   "cell_type": "code",
   "execution_count": 15,
   "id": "ac3958df",
   "metadata": {
    "execution": {
     "iopub.execute_input": "2023-01-24T17:27:00.882355Z",
     "iopub.status.busy": "2023-01-24T17:27:00.882129Z",
     "iopub.status.idle": "2023-01-24T17:27:09.990292Z",
     "shell.execute_reply": "2023-01-24T17:27:09.989280Z"
    }
   },
   "outputs": [
    {
     "name": "stdout",
     "output_type": "stream",
     "text": [
      "11.2 µs ± 29.2 ns per loop (mean ± std. dev. of 7 runs, 100,000 loops each)\n"
     ]
    }
   ],
   "source": [
    "%timeit Batch(**_TREE_DATA_1)"
   ]
  },
  {
   "cell_type": "markdown",
   "id": "1ab82e2d",
   "metadata": {},
   "source": [
    "## Deep Copy Operation"
   ]
  },
  {
   "cell_type": "code",
   "execution_count": 16,
   "id": "210a9442",
   "metadata": {
    "execution": {
     "iopub.execute_input": "2023-01-24T17:27:09.994302Z",
     "iopub.status.busy": "2023-01-24T17:27:09.993679Z",
     "iopub.status.idle": "2023-01-24T17:27:09.998367Z",
     "shell.execute_reply": "2023-01-24T17:27:09.997698Z"
    }
   },
   "outputs": [],
   "source": [
    "import copy"
   ]
  },
  {
   "cell_type": "markdown",
   "id": "5a736274",
   "metadata": {},
   "source": [
    "### Deep Copy of TreeValue"
   ]
  },
  {
   "cell_type": "code",
   "execution_count": 17,
   "id": "f9bcadd6",
   "metadata": {
    "execution": {
     "iopub.execute_input": "2023-01-24T17:27:10.001461Z",
     "iopub.status.busy": "2023-01-24T17:27:10.001047Z",
     "iopub.status.idle": "2023-01-24T17:27:21.002358Z",
     "shell.execute_reply": "2023-01-24T17:27:21.001789Z"
    }
   },
   "outputs": [
    {
     "name": "stdout",
     "output_type": "stream",
     "text": [
      "135 µs ± 1.6 µs per loop (mean ± std. dev. of 7 runs, 10,000 loops each)\n"
     ]
    }
   ],
   "source": [
    "t3 = FastTreeValue(_TREE_DATA_3)\n",
    "%timeit copy.deepcopy(t3)"
   ]
  },
  {
   "cell_type": "markdown",
   "id": "bf8be7ea",
   "metadata": {},
   "source": [
    "### Deep Copy of Tianshou Batch"
   ]
  },
  {
   "cell_type": "code",
   "execution_count": 18,
   "id": "91998e6f",
   "metadata": {
    "execution": {
     "iopub.execute_input": "2023-01-24T17:27:21.005695Z",
     "iopub.status.busy": "2023-01-24T17:27:21.005239Z",
     "iopub.status.idle": "2023-01-24T17:27:32.097199Z",
     "shell.execute_reply": "2023-01-24T17:27:32.096438Z"
    }
   },
   "outputs": [
    {
     "name": "stdout",
     "output_type": "stream",
     "text": [
      "136 µs ± 240 ns per loop (mean ± std. dev. of 7 runs, 10,000 loops each)\n"
     ]
    }
   ],
   "source": [
    "b3 = Batch(**_TREE_DATA_3)\n",
    "%timeit copy.deepcopy(b3)"
   ]
  },
  {
   "cell_type": "markdown",
   "id": "223162fb",
   "metadata": {},
   "source": [
    "## Stack, Concat and Split Operation"
   ]
  },
  {
   "cell_type": "markdown",
   "id": "85fa4a73",
   "metadata": {},
   "source": [
    "### Performance of TreeValue"
   ]
  },
  {
   "cell_type": "code",
   "execution_count": 19,
   "id": "a0c2b697",
   "metadata": {
    "execution": {
     "iopub.execute_input": "2023-01-24T17:27:32.100874Z",
     "iopub.status.busy": "2023-01-24T17:27:32.100353Z",
     "iopub.status.idle": "2023-01-24T17:27:32.105150Z",
     "shell.execute_reply": "2023-01-24T17:27:32.104525Z"
    }
   },
   "outputs": [],
   "source": [
    "trees = [FastTreeValue(_TREE_DATA_2) for _ in range(8)]"
   ]
  },
  {
   "cell_type": "code",
   "execution_count": 20,
   "id": "017ea5a5",
   "metadata": {
    "execution": {
     "iopub.execute_input": "2023-01-24T17:27:32.108416Z",
     "iopub.status.busy": "2023-01-24T17:27:32.108184Z",
     "iopub.status.idle": "2023-01-24T17:27:32.115603Z",
     "shell.execute_reply": "2023-01-24T17:27:32.114902Z"
    }
   },
   "outputs": [
    {
     "data": {
      "text/plain": [
       "<FastTreeValue 0x7f411d4b9b80>\n",
       "├── 'a' --> tensor([[[-1.7507, -0.9875,  0.0806],\n",
       "│                    [ 0.2455,  1.1326, -0.2698]],\n",
       "│           \n",
       "│                   [[-1.7507, -0.9875,  0.0806],\n",
       "│                    [ 0.2455,  1.1326, -0.2698]],\n",
       "│           \n",
       "│                   [[-1.7507, -0.9875,  0.0806],\n",
       "│                    [ 0.2455,  1.1326, -0.2698]],\n",
       "│           \n",
       "│                   [[-1.7507, -0.9875,  0.0806],\n",
       "│                    [ 0.2455,  1.1326, -0.2698]],\n",
       "│           \n",
       "│                   [[-1.7507, -0.9875,  0.0806],\n",
       "│                    [ 0.2455,  1.1326, -0.2698]],\n",
       "│           \n",
       "│                   [[-1.7507, -0.9875,  0.0806],\n",
       "│                    [ 0.2455,  1.1326, -0.2698]],\n",
       "│           \n",
       "│                   [[-1.7507, -0.9875,  0.0806],\n",
       "│                    [ 0.2455,  1.1326, -0.2698]],\n",
       "│           \n",
       "│                   [[-1.7507, -0.9875,  0.0806],\n",
       "│                    [ 0.2455,  1.1326, -0.2698]]])\n",
       "└── 'x' --> <FastTreeValue 0x7f411d4b9df0>\n",
       "    └── 'c' --> tensor([[[ 1.5896, -0.0469,  0.8529, -0.7100],\n",
       "                         [-2.1702, -0.0126,  0.2901,  0.4673],\n",
       "                         [ 0.4248, -0.4162,  0.0881, -0.3487]],\n",
       "                \n",
       "                        [[ 1.5896, -0.0469,  0.8529, -0.7100],\n",
       "                         [-2.1702, -0.0126,  0.2901,  0.4673],\n",
       "                         [ 0.4248, -0.4162,  0.0881, -0.3487]],\n",
       "                \n",
       "                        [[ 1.5896, -0.0469,  0.8529, -0.7100],\n",
       "                         [-2.1702, -0.0126,  0.2901,  0.4673],\n",
       "                         [ 0.4248, -0.4162,  0.0881, -0.3487]],\n",
       "                \n",
       "                        [[ 1.5896, -0.0469,  0.8529, -0.7100],\n",
       "                         [-2.1702, -0.0126,  0.2901,  0.4673],\n",
       "                         [ 0.4248, -0.4162,  0.0881, -0.3487]],\n",
       "                \n",
       "                        [[ 1.5896, -0.0469,  0.8529, -0.7100],\n",
       "                         [-2.1702, -0.0126,  0.2901,  0.4673],\n",
       "                         [ 0.4248, -0.4162,  0.0881, -0.3487]],\n",
       "                \n",
       "                        [[ 1.5896, -0.0469,  0.8529, -0.7100],\n",
       "                         [-2.1702, -0.0126,  0.2901,  0.4673],\n",
       "                         [ 0.4248, -0.4162,  0.0881, -0.3487]],\n",
       "                \n",
       "                        [[ 1.5896, -0.0469,  0.8529, -0.7100],\n",
       "                         [-2.1702, -0.0126,  0.2901,  0.4673],\n",
       "                         [ 0.4248, -0.4162,  0.0881, -0.3487]],\n",
       "                \n",
       "                        [[ 1.5896, -0.0469,  0.8529, -0.7100],\n",
       "                         [-2.1702, -0.0126,  0.2901,  0.4673],\n",
       "                         [ 0.4248, -0.4162,  0.0881, -0.3487]]])"
      ]
     },
     "execution_count": 20,
     "metadata": {},
     "output_type": "execute_result"
    }
   ],
   "source": [
    "t_stack = FastTreeValue.func(subside=True)(torch.stack)\n",
    "\n",
    "t_stack(trees)"
   ]
  },
  {
   "cell_type": "code",
   "execution_count": 21,
   "id": "f8b3f415",
   "metadata": {
    "execution": {
     "iopub.execute_input": "2023-01-24T17:27:32.118188Z",
     "iopub.status.busy": "2023-01-24T17:27:32.117960Z",
     "iopub.status.idle": "2023-01-24T17:27:34.717900Z",
     "shell.execute_reply": "2023-01-24T17:27:34.717300Z"
    }
   },
   "outputs": [
    {
     "name": "stdout",
     "output_type": "stream",
     "text": [
      "32 µs ± 90.5 ns per loop (mean ± std. dev. of 7 runs, 10,000 loops each)\n"
     ]
    }
   ],
   "source": [
    "%timeit t_stack(trees)"
   ]
  },
  {
   "cell_type": "code",
   "execution_count": 22,
   "id": "94b56771",
   "metadata": {
    "execution": {
     "iopub.execute_input": "2023-01-24T17:27:34.720938Z",
     "iopub.status.busy": "2023-01-24T17:27:34.720705Z",
     "iopub.status.idle": "2023-01-24T17:27:34.728182Z",
     "shell.execute_reply": "2023-01-24T17:27:34.727467Z"
    }
   },
   "outputs": [
    {
     "data": {
      "text/plain": [
       "<FastTreeValue 0x7f411d534f70>\n",
       "├── 'a' --> tensor([[-1.7507, -0.9875,  0.0806],\n",
       "│                   [ 0.2455,  1.1326, -0.2698],\n",
       "│                   [-1.7507, -0.9875,  0.0806],\n",
       "│                   [ 0.2455,  1.1326, -0.2698],\n",
       "│                   [-1.7507, -0.9875,  0.0806],\n",
       "│                   [ 0.2455,  1.1326, -0.2698],\n",
       "│                   [-1.7507, -0.9875,  0.0806],\n",
       "│                   [ 0.2455,  1.1326, -0.2698],\n",
       "│                   [-1.7507, -0.9875,  0.0806],\n",
       "│                   [ 0.2455,  1.1326, -0.2698],\n",
       "│                   [-1.7507, -0.9875,  0.0806],\n",
       "│                   [ 0.2455,  1.1326, -0.2698],\n",
       "│                   [-1.7507, -0.9875,  0.0806],\n",
       "│                   [ 0.2455,  1.1326, -0.2698],\n",
       "│                   [-1.7507, -0.9875,  0.0806],\n",
       "│                   [ 0.2455,  1.1326, -0.2698]])\n",
       "└── 'x' --> <FastTreeValue 0x7f41c87a3ca0>\n",
       "    └── 'c' --> tensor([[ 1.5896, -0.0469,  0.8529, -0.7100],\n",
       "                        [-2.1702, -0.0126,  0.2901,  0.4673],\n",
       "                        [ 0.4248, -0.4162,  0.0881, -0.3487],\n",
       "                        [ 1.5896, -0.0469,  0.8529, -0.7100],\n",
       "                        [-2.1702, -0.0126,  0.2901,  0.4673],\n",
       "                        [ 0.4248, -0.4162,  0.0881, -0.3487],\n",
       "                        [ 1.5896, -0.0469,  0.8529, -0.7100],\n",
       "                        [-2.1702, -0.0126,  0.2901,  0.4673],\n",
       "                        [ 0.4248, -0.4162,  0.0881, -0.3487],\n",
       "                        [ 1.5896, -0.0469,  0.8529, -0.7100],\n",
       "                        [-2.1702, -0.0126,  0.2901,  0.4673],\n",
       "                        [ 0.4248, -0.4162,  0.0881, -0.3487],\n",
       "                        [ 1.5896, -0.0469,  0.8529, -0.7100],\n",
       "                        [-2.1702, -0.0126,  0.2901,  0.4673],\n",
       "                        [ 0.4248, -0.4162,  0.0881, -0.3487],\n",
       "                        [ 1.5896, -0.0469,  0.8529, -0.7100],\n",
       "                        [-2.1702, -0.0126,  0.2901,  0.4673],\n",
       "                        [ 0.4248, -0.4162,  0.0881, -0.3487],\n",
       "                        [ 1.5896, -0.0469,  0.8529, -0.7100],\n",
       "                        [-2.1702, -0.0126,  0.2901,  0.4673],\n",
       "                        [ 0.4248, -0.4162,  0.0881, -0.3487],\n",
       "                        [ 1.5896, -0.0469,  0.8529, -0.7100],\n",
       "                        [-2.1702, -0.0126,  0.2901,  0.4673],\n",
       "                        [ 0.4248, -0.4162,  0.0881, -0.3487]])"
      ]
     },
     "execution_count": 22,
     "metadata": {},
     "output_type": "execute_result"
    }
   ],
   "source": [
    "t_cat = FastTreeValue.func(subside=True)(torch.cat)\n",
    "\n",
    "t_cat(trees)"
   ]
  },
  {
   "cell_type": "code",
   "execution_count": 23,
   "id": "5e9c06a6",
   "metadata": {
    "execution": {
     "iopub.execute_input": "2023-01-24T17:27:34.731081Z",
     "iopub.status.busy": "2023-01-24T17:27:34.730700Z",
     "iopub.status.idle": "2023-01-24T17:27:37.153166Z",
     "shell.execute_reply": "2023-01-24T17:27:37.152425Z"
    }
   },
   "outputs": [
    {
     "name": "stdout",
     "output_type": "stream",
     "text": [
      "29.8 µs ± 48.5 ns per loop (mean ± std. dev. of 7 runs, 10,000 loops each)\n"
     ]
    }
   ],
   "source": [
    "%timeit t_cat(trees)"
   ]
  },
  {
   "cell_type": "code",
   "execution_count": 24,
   "id": "a3ab5c8f",
   "metadata": {
    "execution": {
     "iopub.execute_input": "2023-01-24T17:27:37.156413Z",
     "iopub.status.busy": "2023-01-24T17:27:37.155775Z",
     "iopub.status.idle": "2023-01-24T17:27:41.724467Z",
     "shell.execute_reply": "2023-01-24T17:27:41.723881Z"
    }
   },
   "outputs": [
    {
     "name": "stdout",
     "output_type": "stream",
     "text": [
      "56.2 µs ± 69.2 ns per loop (mean ± std. dev. of 7 runs, 10,000 loops each)\n"
     ]
    }
   ],
   "source": [
    "t_split = FastTreeValue.func(rise=True)(torch.split)\n",
    "tree = FastTreeValue({\n",
    "    'obs': torch.randn(8, 4, 84, 84),\n",
    "    'action': torch.randint(0, 6, size=(8, 1,)),\n",
    "    'reward': torch.rand(8, 1),\n",
    "})\n",
    "\n",
    "%timeit t_split(tree, 1)"
   ]
  },
  {
   "cell_type": "markdown",
   "id": "31c3ec0b",
   "metadata": {},
   "source": [
    "### Performance of Tianshou Batch"
   ]
  },
  {
   "cell_type": "code",
   "execution_count": 25,
   "id": "9ead828a",
   "metadata": {
    "execution": {
     "iopub.execute_input": "2023-01-24T17:27:41.727602Z",
     "iopub.status.busy": "2023-01-24T17:27:41.727210Z",
     "iopub.status.idle": "2023-01-24T17:27:41.734758Z",
     "shell.execute_reply": "2023-01-24T17:27:41.734076Z"
    }
   },
   "outputs": [
    {
     "data": {
      "text/plain": [
       "Batch(\n",
       "    x: Batch(\n",
       "           c: tensor([[[ 1.5896, -0.0469,  0.8529, -0.7100],\n",
       "                       [-2.1702, -0.0126,  0.2901,  0.4673],\n",
       "                       [ 0.4248, -0.4162,  0.0881, -0.3487]],\n",
       "              \n",
       "                      [[ 1.5896, -0.0469,  0.8529, -0.7100],\n",
       "                       [-2.1702, -0.0126,  0.2901,  0.4673],\n",
       "                       [ 0.4248, -0.4162,  0.0881, -0.3487]],\n",
       "              \n",
       "                      [[ 1.5896, -0.0469,  0.8529, -0.7100],\n",
       "                       [-2.1702, -0.0126,  0.2901,  0.4673],\n",
       "                       [ 0.4248, -0.4162,  0.0881, -0.3487]],\n",
       "              \n",
       "                      [[ 1.5896, -0.0469,  0.8529, -0.7100],\n",
       "                       [-2.1702, -0.0126,  0.2901,  0.4673],\n",
       "                       [ 0.4248, -0.4162,  0.0881, -0.3487]],\n",
       "              \n",
       "                      [[ 1.5896, -0.0469,  0.8529, -0.7100],\n",
       "                       [-2.1702, -0.0126,  0.2901,  0.4673],\n",
       "                       [ 0.4248, -0.4162,  0.0881, -0.3487]],\n",
       "              \n",
       "                      [[ 1.5896, -0.0469,  0.8529, -0.7100],\n",
       "                       [-2.1702, -0.0126,  0.2901,  0.4673],\n",
       "                       [ 0.4248, -0.4162,  0.0881, -0.3487]],\n",
       "              \n",
       "                      [[ 1.5896, -0.0469,  0.8529, -0.7100],\n",
       "                       [-2.1702, -0.0126,  0.2901,  0.4673],\n",
       "                       [ 0.4248, -0.4162,  0.0881, -0.3487]],\n",
       "              \n",
       "                      [[ 1.5896, -0.0469,  0.8529, -0.7100],\n",
       "                       [-2.1702, -0.0126,  0.2901,  0.4673],\n",
       "                       [ 0.4248, -0.4162,  0.0881, -0.3487]]]),\n",
       "       ),\n",
       "    a: tensor([[[-1.7507, -0.9875,  0.0806],\n",
       "                [ 0.2455,  1.1326, -0.2698]],\n",
       "       \n",
       "               [[-1.7507, -0.9875,  0.0806],\n",
       "                [ 0.2455,  1.1326, -0.2698]],\n",
       "       \n",
       "               [[-1.7507, -0.9875,  0.0806],\n",
       "                [ 0.2455,  1.1326, -0.2698]],\n",
       "       \n",
       "               [[-1.7507, -0.9875,  0.0806],\n",
       "                [ 0.2455,  1.1326, -0.2698]],\n",
       "       \n",
       "               [[-1.7507, -0.9875,  0.0806],\n",
       "                [ 0.2455,  1.1326, -0.2698]],\n",
       "       \n",
       "               [[-1.7507, -0.9875,  0.0806],\n",
       "                [ 0.2455,  1.1326, -0.2698]],\n",
       "       \n",
       "               [[-1.7507, -0.9875,  0.0806],\n",
       "                [ 0.2455,  1.1326, -0.2698]],\n",
       "       \n",
       "               [[-1.7507, -0.9875,  0.0806],\n",
       "                [ 0.2455,  1.1326, -0.2698]]]),\n",
       ")"
      ]
     },
     "execution_count": 25,
     "metadata": {},
     "output_type": "execute_result"
    }
   ],
   "source": [
    "batches = [Batch(**_TREE_DATA_2) for _ in range(8)]\n",
    "\n",
    "Batch.stack(batches)"
   ]
  },
  {
   "cell_type": "code",
   "execution_count": 26,
   "id": "ec9037a3",
   "metadata": {
    "execution": {
     "iopub.execute_input": "2023-01-24T17:27:41.737740Z",
     "iopub.status.busy": "2023-01-24T17:27:41.737356Z",
     "iopub.status.idle": "2023-01-24T17:27:48.036887Z",
     "shell.execute_reply": "2023-01-24T17:27:48.036153Z"
    }
   },
   "outputs": [
    {
     "name": "stdout",
     "output_type": "stream",
     "text": [
      "77.5 µs ± 211 ns per loop (mean ± std. dev. of 7 runs, 10,000 loops each)\n"
     ]
    }
   ],
   "source": [
    "%timeit Batch.stack(batches)"
   ]
  },
  {
   "cell_type": "code",
   "execution_count": 27,
   "id": "cb8ab77e",
   "metadata": {
    "execution": {
     "iopub.execute_input": "2023-01-24T17:27:48.040778Z",
     "iopub.status.busy": "2023-01-24T17:27:48.040187Z",
     "iopub.status.idle": "2023-01-24T17:27:48.048384Z",
     "shell.execute_reply": "2023-01-24T17:27:48.047689Z"
    }
   },
   "outputs": [
    {
     "data": {
      "text/plain": [
       "Batch(\n",
       "    x: Batch(\n",
       "           c: tensor([[ 1.5896, -0.0469,  0.8529, -0.7100],\n",
       "                      [-2.1702, -0.0126,  0.2901,  0.4673],\n",
       "                      [ 0.4248, -0.4162,  0.0881, -0.3487],\n",
       "                      [ 1.5896, -0.0469,  0.8529, -0.7100],\n",
       "                      [-2.1702, -0.0126,  0.2901,  0.4673],\n",
       "                      [ 0.4248, -0.4162,  0.0881, -0.3487],\n",
       "                      [ 1.5896, -0.0469,  0.8529, -0.7100],\n",
       "                      [-2.1702, -0.0126,  0.2901,  0.4673],\n",
       "                      [ 0.4248, -0.4162,  0.0881, -0.3487],\n",
       "                      [ 1.5896, -0.0469,  0.8529, -0.7100],\n",
       "                      [-2.1702, -0.0126,  0.2901,  0.4673],\n",
       "                      [ 0.4248, -0.4162,  0.0881, -0.3487],\n",
       "                      [ 1.5896, -0.0469,  0.8529, -0.7100],\n",
       "                      [-2.1702, -0.0126,  0.2901,  0.4673],\n",
       "                      [ 0.4248, -0.4162,  0.0881, -0.3487],\n",
       "                      [ 1.5896, -0.0469,  0.8529, -0.7100],\n",
       "                      [-2.1702, -0.0126,  0.2901,  0.4673],\n",
       "                      [ 0.4248, -0.4162,  0.0881, -0.3487],\n",
       "                      [ 1.5896, -0.0469,  0.8529, -0.7100],\n",
       "                      [-2.1702, -0.0126,  0.2901,  0.4673],\n",
       "                      [ 0.4248, -0.4162,  0.0881, -0.3487],\n",
       "                      [ 1.5896, -0.0469,  0.8529, -0.7100],\n",
       "                      [-2.1702, -0.0126,  0.2901,  0.4673],\n",
       "                      [ 0.4248, -0.4162,  0.0881, -0.3487]]),\n",
       "       ),\n",
       "    a: tensor([[-1.7507, -0.9875,  0.0806],\n",
       "               [ 0.2455,  1.1326, -0.2698],\n",
       "               [-1.7507, -0.9875,  0.0806],\n",
       "               [ 0.2455,  1.1326, -0.2698],\n",
       "               [-1.7507, -0.9875,  0.0806],\n",
       "               [ 0.2455,  1.1326, -0.2698],\n",
       "               [-1.7507, -0.9875,  0.0806],\n",
       "               [ 0.2455,  1.1326, -0.2698],\n",
       "               [-1.7507, -0.9875,  0.0806],\n",
       "               [ 0.2455,  1.1326, -0.2698],\n",
       "               [-1.7507, -0.9875,  0.0806],\n",
       "               [ 0.2455,  1.1326, -0.2698],\n",
       "               [-1.7507, -0.9875,  0.0806],\n",
       "               [ 0.2455,  1.1326, -0.2698],\n",
       "               [-1.7507, -0.9875,  0.0806],\n",
       "               [ 0.2455,  1.1326, -0.2698]]),\n",
       ")"
      ]
     },
     "execution_count": 27,
     "metadata": {},
     "output_type": "execute_result"
    }
   ],
   "source": [
    "Batch.cat(batches)"
   ]
  },
  {
   "cell_type": "code",
   "execution_count": 28,
   "id": "18dfb045",
   "metadata": {
    "execution": {
     "iopub.execute_input": "2023-01-24T17:27:48.051292Z",
     "iopub.status.busy": "2023-01-24T17:27:48.051041Z",
     "iopub.status.idle": "2023-01-24T17:27:59.615306Z",
     "shell.execute_reply": "2023-01-24T17:27:59.614256Z"
    }
   },
   "outputs": [
    {
     "name": "stdout",
     "output_type": "stream",
     "text": [
      "142 µs ± 526 ns per loop (mean ± std. dev. of 7 runs, 10,000 loops each)\n"
     ]
    }
   ],
   "source": [
    "%timeit Batch.cat(batches)"
   ]
  },
  {
   "cell_type": "code",
   "execution_count": 29,
   "id": "c6688e51",
   "metadata": {
    "execution": {
     "iopub.execute_input": "2023-01-24T17:27:59.619028Z",
     "iopub.status.busy": "2023-01-24T17:27:59.618624Z",
     "iopub.status.idle": "2023-01-24T17:28:02.135190Z",
     "shell.execute_reply": "2023-01-24T17:28:02.134550Z"
    }
   },
   "outputs": [
    {
     "name": "stdout",
     "output_type": "stream",
     "text": [
      "309 µs ± 4 µs per loop (mean ± std. dev. of 7 runs, 1,000 loops each)\n"
     ]
    }
   ],
   "source": [
    "batch = Batch({\n",
    "    'obs': torch.randn(8, 4, 84, 84),\n",
    "    'action': torch.randint(0, 6, size=(8, 1,)),\n",
    "    'reward': torch.rand(8, 1)}\n",
    ")\n",
    "\n",
    "%timeit list(Batch.split(batch, 1, shuffle=False, merge_last=True))"
   ]
  },
  {
   "cell_type": "code",
   "execution_count": null,
   "id": "2539fbd9",
   "metadata": {},
   "outputs": [],
   "source": []
  }
 ],
 "metadata": {
  "kernelspec": {
   "display_name": "Python 3 (ipykernel)",
   "language": "python",
   "name": "python3"
  },
  "language_info": {
   "codemirror_mode": {
    "name": "ipython",
    "version": 3
   },
   "file_extension": ".py",
   "mimetype": "text/x-python",
   "name": "python",
   "nbconvert_exporter": "python",
   "pygments_lexer": "ipython3",
   "version": "3.8.16"
  }
 },
 "nbformat": 4,
 "nbformat_minor": 5
}
