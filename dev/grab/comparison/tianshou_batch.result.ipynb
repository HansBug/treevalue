{
 "cells": [
  {
   "cell_type": "markdown",
   "id": "9d39d946",
   "metadata": {},
   "source": [
    "# Comparison Between TreeValue and Tianshou Batch"
   ]
  },
  {
   "cell_type": "markdown",
   "id": "3c6db2d4",
   "metadata": {},
   "source": [
    "In this section, we will take a look at the feature and performance of the [Tianshou Batch](https://github.com/thu-ml/tianshou) library, which is developed by Tsinghua Machine Learning Group."
   ]
  },
  {
   "cell_type": "markdown",
   "id": "069361b0",
   "metadata": {},
   "source": [
    "Before starting the comparison, let us define some thing."
   ]
  },
  {
   "cell_type": "code",
   "execution_count": 1,
   "id": "06fc8d26",
   "metadata": {
    "execution": {
     "iopub.execute_input": "2023-01-25T10:08:47.728874Z",
     "iopub.status.busy": "2023-01-25T10:08:47.728567Z",
     "iopub.status.idle": "2023-01-25T10:08:48.925082Z",
     "shell.execute_reply": "2023-01-25T10:08:48.924118Z"
    }
   },
   "outputs": [
    {
     "name": "stderr",
     "output_type": "stream",
     "text": [
      "/opt/hostedtoolcache/Python/3.8.16/x64/lib/python3.8/site-packages/tqdm/auto.py:22: TqdmWarning: IProgress not found. Please update jupyter and ipywidgets. See https://ipywidgets.readthedocs.io/en/stable/user_install.html\n",
      "  from .autonotebook import tqdm as notebook_tqdm\n"
     ]
    }
   ],
   "source": [
    "import torch \n",
    "\n",
    "_TREE_DATA_1 = {'a': 1, 'b': 2, 'x': {'c': 3, 'd': 4}}\n",
    "_TREE_DATA_2 = {\n",
    "    'a': torch.randn(2, 3), \n",
    "    'x': {\n",
    "        'c': torch.randn(3, 4)\n",
    "    },\n",
    "}\n",
    "_TREE_DATA_3 = {\n",
    "    'obs': torch.randn(4, 84, 84),\n",
    "    'action': torch.randint(0, 6, size=(1,)),\n",
    "    'reward': torch.rand(1),\n",
    "}"
   ]
  },
  {
   "cell_type": "markdown",
   "id": "83461b25",
   "metadata": {},
   "source": [
    "## Read and Write Operation"
   ]
  },
  {
   "cell_type": "markdown",
   "id": "067b3f73",
   "metadata": {},
   "source": [
    "Reading and writing are the two most common operations in the tree data structure based on the data model (TreeValue and Tianshou Batch both belong to this type), so this section will compare the reading and writing performance of these two libraries."
   ]
  },
  {
   "cell_type": "markdown",
   "id": "5d09a5b7",
   "metadata": {},
   "source": [
    "### TreeValue's Get and Set"
   ]
  },
  {
   "cell_type": "code",
   "execution_count": 2,
   "id": "9519c4bb",
   "metadata": {
    "execution": {
     "iopub.execute_input": "2023-01-25T10:08:48.931243Z",
     "iopub.status.busy": "2023-01-25T10:08:48.930292Z",
     "iopub.status.idle": "2023-01-25T10:08:48.972123Z",
     "shell.execute_reply": "2023-01-25T10:08:48.971276Z"
    }
   },
   "outputs": [],
   "source": [
    "from treevalue import FastTreeValue\n",
    "\n",
    "t = FastTreeValue(_TREE_DATA_2)"
   ]
  },
  {
   "cell_type": "code",
   "execution_count": 3,
   "id": "11c37677",
   "metadata": {
    "execution": {
     "iopub.execute_input": "2023-01-25T10:08:48.977500Z",
     "iopub.status.busy": "2023-01-25T10:08:48.976571Z",
     "iopub.status.idle": "2023-01-25T10:08:48.988873Z",
     "shell.execute_reply": "2023-01-25T10:08:48.987871Z"
    }
   },
   "outputs": [
    {
     "data": {
      "text/plain": [
       "<FastTreeValue 0x7f35683e5d30>\n",
       "├── 'a' --> tensor([[-1.0803,  0.3495,  1.9116],\n",
       "│                   [-0.1099, -1.4414, -0.5323]])\n",
       "└── 'x' --> <FastTreeValue 0x7f35683e5970>\n",
       "    └── 'c' --> tensor([[ 0.4257,  0.5443, -1.5365,  1.3197],\n",
       "                        [ 2.1281, -1.5547, -0.1908,  0.2573],\n",
       "                        [-0.1966, -1.2311,  0.3959, -1.7758]])"
      ]
     },
     "execution_count": 3,
     "metadata": {},
     "output_type": "execute_result"
    }
   ],
   "source": [
    "t"
   ]
  },
  {
   "cell_type": "code",
   "execution_count": 4,
   "id": "fd70b0b9",
   "metadata": {
    "execution": {
     "iopub.execute_input": "2023-01-25T10:08:48.993175Z",
     "iopub.status.busy": "2023-01-25T10:08:48.992663Z",
     "iopub.status.idle": "2023-01-25T10:08:48.998591Z",
     "shell.execute_reply": "2023-01-25T10:08:48.997795Z"
    }
   },
   "outputs": [
    {
     "data": {
      "text/plain": [
       "tensor([[-1.0803,  0.3495,  1.9116],\n",
       "        [-0.1099, -1.4414, -0.5323]])"
      ]
     },
     "execution_count": 4,
     "metadata": {},
     "output_type": "execute_result"
    }
   ],
   "source": [
    "t.a"
   ]
  },
  {
   "cell_type": "code",
   "execution_count": 5,
   "id": "c18197bd",
   "metadata": {
    "execution": {
     "iopub.execute_input": "2023-01-25T10:08:49.002935Z",
     "iopub.status.busy": "2023-01-25T10:08:49.002500Z",
     "iopub.status.idle": "2023-01-25T10:08:55.995405Z",
     "shell.execute_reply": "2023-01-25T10:08:55.992690Z"
    }
   },
   "outputs": [
    {
     "name": "stdout",
     "output_type": "stream",
     "text": [
      "85.8 ns ± 0.0801 ns per loop (mean ± std. dev. of 7 runs, 10,000,000 loops each)\n"
     ]
    }
   ],
   "source": [
    "%timeit t.a"
   ]
  },
  {
   "cell_type": "code",
   "execution_count": 6,
   "id": "bd52f867",
   "metadata": {
    "execution": {
     "iopub.execute_input": "2023-01-25T10:08:56.000107Z",
     "iopub.status.busy": "2023-01-25T10:08:55.999781Z",
     "iopub.status.idle": "2023-01-25T10:08:56.007001Z",
     "shell.execute_reply": "2023-01-25T10:08:56.006177Z"
    }
   },
   "outputs": [
    {
     "data": {
      "text/plain": [
       "<FastTreeValue 0x7f35683e5d30>\n",
       "├── 'a' --> tensor([[ 1.3146, -0.9747,  1.4095],\n",
       "│                   [-0.6825,  0.1936,  0.4942]])\n",
       "└── 'x' --> <FastTreeValue 0x7f35683e5970>\n",
       "    └── 'c' --> tensor([[ 0.4257,  0.5443, -1.5365,  1.3197],\n",
       "                        [ 2.1281, -1.5547, -0.1908,  0.2573],\n",
       "                        [-0.1966, -1.2311,  0.3959, -1.7758]])"
      ]
     },
     "execution_count": 6,
     "metadata": {},
     "output_type": "execute_result"
    }
   ],
   "source": [
    "new_value = torch.randn(2, 3)\n",
    "t.a = new_value\n",
    "\n",
    "t"
   ]
  },
  {
   "cell_type": "code",
   "execution_count": 7,
   "id": "bbe04d1c",
   "metadata": {
    "execution": {
     "iopub.execute_input": "2023-01-25T10:08:56.010807Z",
     "iopub.status.busy": "2023-01-25T10:08:56.010149Z",
     "iopub.status.idle": "2023-01-25T10:09:03.028272Z",
     "shell.execute_reply": "2023-01-25T10:09:03.027420Z"
    }
   },
   "outputs": [
    {
     "name": "stdout",
     "output_type": "stream",
     "text": [
      "86.4 ns ± 0.385 ns per loop (mean ± std. dev. of 7 runs, 10,000,000 loops each)\n"
     ]
    }
   ],
   "source": [
    "%timeit t.a = new_value"
   ]
  },
  {
   "cell_type": "markdown",
   "id": "48c49731",
   "metadata": {},
   "source": [
    "### Tianshou Batch's Get and Set"
   ]
  },
  {
   "cell_type": "code",
   "execution_count": 8,
   "id": "f1bb14c1",
   "metadata": {
    "execution": {
     "iopub.execute_input": "2023-01-25T10:09:03.032621Z",
     "iopub.status.busy": "2023-01-25T10:09:03.032018Z",
     "iopub.status.idle": "2023-01-25T10:09:03.472578Z",
     "shell.execute_reply": "2023-01-25T10:09:03.471206Z"
    }
   },
   "outputs": [],
   "source": [
    "from tianshou.data import Batch\n",
    "\n",
    "b = Batch(**_TREE_DATA_2)"
   ]
  },
  {
   "cell_type": "code",
   "execution_count": 9,
   "id": "cb0777c3",
   "metadata": {
    "execution": {
     "iopub.execute_input": "2023-01-25T10:09:03.477692Z",
     "iopub.status.busy": "2023-01-25T10:09:03.477238Z",
     "iopub.status.idle": "2023-01-25T10:09:03.484572Z",
     "shell.execute_reply": "2023-01-25T10:09:03.483638Z"
    }
   },
   "outputs": [
    {
     "data": {
      "text/plain": [
       "Batch(\n",
       "    a: tensor([[-1.0803,  0.3495,  1.9116],\n",
       "               [-0.1099, -1.4414, -0.5323]]),\n",
       "    x: Batch(\n",
       "           c: tensor([[ 0.4257,  0.5443, -1.5365,  1.3197],\n",
       "                      [ 2.1281, -1.5547, -0.1908,  0.2573],\n",
       "                      [-0.1966, -1.2311,  0.3959, -1.7758]]),\n",
       "       ),\n",
       ")"
      ]
     },
     "execution_count": 9,
     "metadata": {},
     "output_type": "execute_result"
    }
   ],
   "source": [
    "b"
   ]
  },
  {
   "cell_type": "code",
   "execution_count": 10,
   "id": "43ef8ea3",
   "metadata": {
    "execution": {
     "iopub.execute_input": "2023-01-25T10:09:03.488530Z",
     "iopub.status.busy": "2023-01-25T10:09:03.487753Z",
     "iopub.status.idle": "2023-01-25T10:09:03.493972Z",
     "shell.execute_reply": "2023-01-25T10:09:03.493032Z"
    }
   },
   "outputs": [
    {
     "data": {
      "text/plain": [
       "tensor([[-1.0803,  0.3495,  1.9116],\n",
       "        [-0.1099, -1.4414, -0.5323]])"
      ]
     },
     "execution_count": 10,
     "metadata": {},
     "output_type": "execute_result"
    }
   ],
   "source": [
    "b.a"
   ]
  },
  {
   "cell_type": "code",
   "execution_count": 11,
   "id": "b785ab72",
   "metadata": {
    "execution": {
     "iopub.execute_input": "2023-01-25T10:09:03.497844Z",
     "iopub.status.busy": "2023-01-25T10:09:03.497188Z",
     "iopub.status.idle": "2023-01-25T10:09:09.221763Z",
     "shell.execute_reply": "2023-01-25T10:09:09.220772Z"
    }
   },
   "outputs": [
    {
     "name": "stdout",
     "output_type": "stream",
     "text": [
      "70.4 ns ± 0.532 ns per loop (mean ± std. dev. of 7 runs, 10,000,000 loops each)\n"
     ]
    }
   ],
   "source": [
    "%timeit b.a"
   ]
  },
  {
   "cell_type": "code",
   "execution_count": 12,
   "id": "ad54dc69",
   "metadata": {
    "execution": {
     "iopub.execute_input": "2023-01-25T10:09:09.226665Z",
     "iopub.status.busy": "2023-01-25T10:09:09.226358Z",
     "iopub.status.idle": "2023-01-25T10:09:09.233205Z",
     "shell.execute_reply": "2023-01-25T10:09:09.232367Z"
    }
   },
   "outputs": [
    {
     "data": {
      "text/plain": [
       "Batch(\n",
       "    a: tensor([[-1.3110, -0.7606, -1.3623],\n",
       "               [ 0.4021, -1.3403, -0.3975]]),\n",
       "    x: Batch(\n",
       "           c: tensor([[ 0.4257,  0.5443, -1.5365,  1.3197],\n",
       "                      [ 2.1281, -1.5547, -0.1908,  0.2573],\n",
       "                      [-0.1966, -1.2311,  0.3959, -1.7758]]),\n",
       "       ),\n",
       ")"
      ]
     },
     "execution_count": 12,
     "metadata": {},
     "output_type": "execute_result"
    }
   ],
   "source": [
    "new_value = torch.randn(2, 3)\n",
    "b.a = new_value\n",
    "\n",
    "b"
   ]
  },
  {
   "cell_type": "code",
   "execution_count": 13,
   "id": "29b1d0bf",
   "metadata": {
    "execution": {
     "iopub.execute_input": "2023-01-25T10:09:09.236999Z",
     "iopub.status.busy": "2023-01-25T10:09:09.236553Z",
     "iopub.status.idle": "2023-01-25T10:09:13.982629Z",
     "shell.execute_reply": "2023-01-25T10:09:13.981013Z"
    }
   },
   "outputs": [
    {
     "name": "stdout",
     "output_type": "stream",
     "text": [
      "583 ns ± 4.19 ns per loop (mean ± std. dev. of 7 runs, 1,000,000 loops each)\n"
     ]
    }
   ],
   "source": [
    "%timeit b.a = new_value"
   ]
  },
  {
   "cell_type": "markdown",
   "id": "b61ad1d0",
   "metadata": {},
   "source": [
    "## Initialization"
   ]
  },
  {
   "cell_type": "markdown",
   "id": "d70f0d54",
   "metadata": {},
   "source": [
    "### TreeValue's Initialization"
   ]
  },
  {
   "cell_type": "code",
   "execution_count": 14,
   "id": "d32a679b",
   "metadata": {
    "execution": {
     "iopub.execute_input": "2023-01-25T10:09:13.987394Z",
     "iopub.status.busy": "2023-01-25T10:09:13.986646Z",
     "iopub.status.idle": "2023-01-25T10:09:21.815510Z",
     "shell.execute_reply": "2023-01-25T10:09:21.814634Z"
    }
   },
   "outputs": [
    {
     "name": "stdout",
     "output_type": "stream",
     "text": [
      "965 ns ± 1.71 ns per loop (mean ± std. dev. of 7 runs, 1,000,000 loops each)\n"
     ]
    }
   ],
   "source": [
    "%timeit FastTreeValue(_TREE_DATA_1)"
   ]
  },
  {
   "cell_type": "markdown",
   "id": "24f3707b",
   "metadata": {},
   "source": [
    "### Tianshou Batch's Initialization"
   ]
  },
  {
   "cell_type": "code",
   "execution_count": 15,
   "id": "ac3958df",
   "metadata": {
    "execution": {
     "iopub.execute_input": "2023-01-25T10:09:21.819458Z",
     "iopub.status.busy": "2023-01-25T10:09:21.819155Z",
     "iopub.status.idle": "2023-01-25T10:09:31.734831Z",
     "shell.execute_reply": "2023-01-25T10:09:31.733506Z"
    }
   },
   "outputs": [
    {
     "name": "stdout",
     "output_type": "stream",
     "text": [
      "12.2 µs ± 63.4 ns per loop (mean ± std. dev. of 7 runs, 100,000 loops each)\n"
     ]
    }
   ],
   "source": [
    "%timeit Batch(**_TREE_DATA_1)"
   ]
  },
  {
   "cell_type": "markdown",
   "id": "1ab82e2d",
   "metadata": {},
   "source": [
    "## Deep Copy Operation"
   ]
  },
  {
   "cell_type": "code",
   "execution_count": 16,
   "id": "210a9442",
   "metadata": {
    "execution": {
     "iopub.execute_input": "2023-01-25T10:09:31.739330Z",
     "iopub.status.busy": "2023-01-25T10:09:31.738722Z",
     "iopub.status.idle": "2023-01-25T10:09:31.742640Z",
     "shell.execute_reply": "2023-01-25T10:09:31.741809Z"
    }
   },
   "outputs": [],
   "source": [
    "import copy"
   ]
  },
  {
   "cell_type": "markdown",
   "id": "5a736274",
   "metadata": {},
   "source": [
    "### Deep Copy of TreeValue"
   ]
  },
  {
   "cell_type": "code",
   "execution_count": 17,
   "id": "f9bcadd6",
   "metadata": {
    "execution": {
     "iopub.execute_input": "2023-01-25T10:09:31.746807Z",
     "iopub.status.busy": "2023-01-25T10:09:31.746250Z",
     "iopub.status.idle": "2023-01-25T10:09:45.389551Z",
     "shell.execute_reply": "2023-01-25T10:09:45.388799Z"
    }
   },
   "outputs": [
    {
     "name": "stdout",
     "output_type": "stream",
     "text": [
      "166 µs ± 1.94 µs per loop (mean ± std. dev. of 7 runs, 10,000 loops each)\n"
     ]
    }
   ],
   "source": [
    "t3 = FastTreeValue(_TREE_DATA_3)\n",
    "%timeit copy.deepcopy(t3)"
   ]
  },
  {
   "cell_type": "markdown",
   "id": "bf8be7ea",
   "metadata": {},
   "source": [
    "### Deep Copy of Tianshou Batch"
   ]
  },
  {
   "cell_type": "code",
   "execution_count": 18,
   "id": "91998e6f",
   "metadata": {
    "execution": {
     "iopub.execute_input": "2023-01-25T10:09:45.393109Z",
     "iopub.status.busy": "2023-01-25T10:09:45.392836Z",
     "iopub.status.idle": "2023-01-25T10:09:58.789841Z",
     "shell.execute_reply": "2023-01-25T10:09:58.788923Z"
    }
   },
   "outputs": [
    {
     "name": "stdout",
     "output_type": "stream",
     "text": [
      "165 µs ± 681 ns per loop (mean ± std. dev. of 7 runs, 10,000 loops each)\n"
     ]
    }
   ],
   "source": [
    "b3 = Batch(**_TREE_DATA_3)\n",
    "%timeit copy.deepcopy(b3)"
   ]
  },
  {
   "cell_type": "markdown",
   "id": "223162fb",
   "metadata": {},
   "source": [
    "## Stack, Concat and Split Operation"
   ]
  },
  {
   "cell_type": "markdown",
   "id": "85fa4a73",
   "metadata": {},
   "source": [
    "### Performance of TreeValue"
   ]
  },
  {
   "cell_type": "code",
   "execution_count": 19,
   "id": "a0c2b697",
   "metadata": {
    "execution": {
     "iopub.execute_input": "2023-01-25T10:09:58.794053Z",
     "iopub.status.busy": "2023-01-25T10:09:58.793749Z",
     "iopub.status.idle": "2023-01-25T10:09:58.799297Z",
     "shell.execute_reply": "2023-01-25T10:09:58.798578Z"
    }
   },
   "outputs": [],
   "source": [
    "trees = [FastTreeValue(_TREE_DATA_2) for _ in range(8)]"
   ]
  },
  {
   "cell_type": "code",
   "execution_count": 20,
   "id": "017ea5a5",
   "metadata": {
    "execution": {
     "iopub.execute_input": "2023-01-25T10:09:58.803454Z",
     "iopub.status.busy": "2023-01-25T10:09:58.802947Z",
     "iopub.status.idle": "2023-01-25T10:09:58.812646Z",
     "shell.execute_reply": "2023-01-25T10:09:58.811921Z"
    }
   },
   "outputs": [
    {
     "data": {
      "text/plain": [
       "<FastTreeValue 0x7f353c94d730>\n",
       "├── 'a' --> tensor([[[-1.0803,  0.3495,  1.9116],\n",
       "│                    [-0.1099, -1.4414, -0.5323]],\n",
       "│           \n",
       "│                   [[-1.0803,  0.3495,  1.9116],\n",
       "│                    [-0.1099, -1.4414, -0.5323]],\n",
       "│           \n",
       "│                   [[-1.0803,  0.3495,  1.9116],\n",
       "│                    [-0.1099, -1.4414, -0.5323]],\n",
       "│           \n",
       "│                   [[-1.0803,  0.3495,  1.9116],\n",
       "│                    [-0.1099, -1.4414, -0.5323]],\n",
       "│           \n",
       "│                   [[-1.0803,  0.3495,  1.9116],\n",
       "│                    [-0.1099, -1.4414, -0.5323]],\n",
       "│           \n",
       "│                   [[-1.0803,  0.3495,  1.9116],\n",
       "│                    [-0.1099, -1.4414, -0.5323]],\n",
       "│           \n",
       "│                   [[-1.0803,  0.3495,  1.9116],\n",
       "│                    [-0.1099, -1.4414, -0.5323]],\n",
       "│           \n",
       "│                   [[-1.0803,  0.3495,  1.9116],\n",
       "│                    [-0.1099, -1.4414, -0.5323]]])\n",
       "└── 'x' --> <FastTreeValue 0x7f35683f0eb0>\n",
       "    └── 'c' --> tensor([[[ 0.4257,  0.5443, -1.5365,  1.3197],\n",
       "                         [ 2.1281, -1.5547, -0.1908,  0.2573],\n",
       "                         [-0.1966, -1.2311,  0.3959, -1.7758]],\n",
       "                \n",
       "                        [[ 0.4257,  0.5443, -1.5365,  1.3197],\n",
       "                         [ 2.1281, -1.5547, -0.1908,  0.2573],\n",
       "                         [-0.1966, -1.2311,  0.3959, -1.7758]],\n",
       "                \n",
       "                        [[ 0.4257,  0.5443, -1.5365,  1.3197],\n",
       "                         [ 2.1281, -1.5547, -0.1908,  0.2573],\n",
       "                         [-0.1966, -1.2311,  0.3959, -1.7758]],\n",
       "                \n",
       "                        [[ 0.4257,  0.5443, -1.5365,  1.3197],\n",
       "                         [ 2.1281, -1.5547, -0.1908,  0.2573],\n",
       "                         [-0.1966, -1.2311,  0.3959, -1.7758]],\n",
       "                \n",
       "                        [[ 0.4257,  0.5443, -1.5365,  1.3197],\n",
       "                         [ 2.1281, -1.5547, -0.1908,  0.2573],\n",
       "                         [-0.1966, -1.2311,  0.3959, -1.7758]],\n",
       "                \n",
       "                        [[ 0.4257,  0.5443, -1.5365,  1.3197],\n",
       "                         [ 2.1281, -1.5547, -0.1908,  0.2573],\n",
       "                         [-0.1966, -1.2311,  0.3959, -1.7758]],\n",
       "                \n",
       "                        [[ 0.4257,  0.5443, -1.5365,  1.3197],\n",
       "                         [ 2.1281, -1.5547, -0.1908,  0.2573],\n",
       "                         [-0.1966, -1.2311,  0.3959, -1.7758]],\n",
       "                \n",
       "                        [[ 0.4257,  0.5443, -1.5365,  1.3197],\n",
       "                         [ 2.1281, -1.5547, -0.1908,  0.2573],\n",
       "                         [-0.1966, -1.2311,  0.3959, -1.7758]]])"
      ]
     },
     "execution_count": 20,
     "metadata": {},
     "output_type": "execute_result"
    }
   ],
   "source": [
    "t_stack = FastTreeValue.func(subside=True)(torch.stack)\n",
    "\n",
    "t_stack(trees)"
   ]
  },
  {
   "cell_type": "code",
   "execution_count": 21,
   "id": "f8b3f415",
   "metadata": {
    "execution": {
     "iopub.execute_input": "2023-01-25T10:09:58.815952Z",
     "iopub.status.busy": "2023-01-25T10:09:58.815678Z",
     "iopub.status.idle": "2023-01-25T10:10:01.890799Z",
     "shell.execute_reply": "2023-01-25T10:10:01.889846Z"
    }
   },
   "outputs": [
    {
     "name": "stdout",
     "output_type": "stream",
     "text": [
      "37.8 µs ± 258 ns per loop (mean ± std. dev. of 7 runs, 10,000 loops each)\n"
     ]
    }
   ],
   "source": [
    "%timeit t_stack(trees)"
   ]
  },
  {
   "cell_type": "code",
   "execution_count": 22,
   "id": "94b56771",
   "metadata": {
    "execution": {
     "iopub.execute_input": "2023-01-25T10:10:01.895120Z",
     "iopub.status.busy": "2023-01-25T10:10:01.894551Z",
     "iopub.status.idle": "2023-01-25T10:10:01.908121Z",
     "shell.execute_reply": "2023-01-25T10:10:01.907295Z"
    }
   },
   "outputs": [
    {
     "data": {
      "text/plain": [
       "<FastTreeValue 0x7f34bb0e9fd0>\n",
       "├── 'a' --> tensor([[-1.0803,  0.3495,  1.9116],\n",
       "│                   [-0.1099, -1.4414, -0.5323],\n",
       "│                   [-1.0803,  0.3495,  1.9116],\n",
       "│                   [-0.1099, -1.4414, -0.5323],\n",
       "│                   [-1.0803,  0.3495,  1.9116],\n",
       "│                   [-0.1099, -1.4414, -0.5323],\n",
       "│                   [-1.0803,  0.3495,  1.9116],\n",
       "│                   [-0.1099, -1.4414, -0.5323],\n",
       "│                   [-1.0803,  0.3495,  1.9116],\n",
       "│                   [-0.1099, -1.4414, -0.5323],\n",
       "│                   [-1.0803,  0.3495,  1.9116],\n",
       "│                   [-0.1099, -1.4414, -0.5323],\n",
       "│                   [-1.0803,  0.3495,  1.9116],\n",
       "│                   [-0.1099, -1.4414, -0.5323],\n",
       "│                   [-1.0803,  0.3495,  1.9116],\n",
       "│                   [-0.1099, -1.4414, -0.5323]])\n",
       "└── 'x' --> <FastTreeValue 0x7f34bb0dabb0>\n",
       "    └── 'c' --> tensor([[ 0.4257,  0.5443, -1.5365,  1.3197],\n",
       "                        [ 2.1281, -1.5547, -0.1908,  0.2573],\n",
       "                        [-0.1966, -1.2311,  0.3959, -1.7758],\n",
       "                        [ 0.4257,  0.5443, -1.5365,  1.3197],\n",
       "                        [ 2.1281, -1.5547, -0.1908,  0.2573],\n",
       "                        [-0.1966, -1.2311,  0.3959, -1.7758],\n",
       "                        [ 0.4257,  0.5443, -1.5365,  1.3197],\n",
       "                        [ 2.1281, -1.5547, -0.1908,  0.2573],\n",
       "                        [-0.1966, -1.2311,  0.3959, -1.7758],\n",
       "                        [ 0.4257,  0.5443, -1.5365,  1.3197],\n",
       "                        [ 2.1281, -1.5547, -0.1908,  0.2573],\n",
       "                        [-0.1966, -1.2311,  0.3959, -1.7758],\n",
       "                        [ 0.4257,  0.5443, -1.5365,  1.3197],\n",
       "                        [ 2.1281, -1.5547, -0.1908,  0.2573],\n",
       "                        [-0.1966, -1.2311,  0.3959, -1.7758],\n",
       "                        [ 0.4257,  0.5443, -1.5365,  1.3197],\n",
       "                        [ 2.1281, -1.5547, -0.1908,  0.2573],\n",
       "                        [-0.1966, -1.2311,  0.3959, -1.7758],\n",
       "                        [ 0.4257,  0.5443, -1.5365,  1.3197],\n",
       "                        [ 2.1281, -1.5547, -0.1908,  0.2573],\n",
       "                        [-0.1966, -1.2311,  0.3959, -1.7758],\n",
       "                        [ 0.4257,  0.5443, -1.5365,  1.3197],\n",
       "                        [ 2.1281, -1.5547, -0.1908,  0.2573],\n",
       "                        [-0.1966, -1.2311,  0.3959, -1.7758]])"
      ]
     },
     "execution_count": 22,
     "metadata": {},
     "output_type": "execute_result"
    }
   ],
   "source": [
    "t_cat = FastTreeValue.func(subside=True)(torch.cat)\n",
    "\n",
    "t_cat(trees)"
   ]
  },
  {
   "cell_type": "code",
   "execution_count": 23,
   "id": "5e9c06a6",
   "metadata": {
    "execution": {
     "iopub.execute_input": "2023-01-25T10:10:01.912583Z",
     "iopub.status.busy": "2023-01-25T10:10:01.912001Z",
     "iopub.status.idle": "2023-01-25T10:10:04.798119Z",
     "shell.execute_reply": "2023-01-25T10:10:04.796592Z"
    }
   },
   "outputs": [
    {
     "name": "stdout",
     "output_type": "stream",
     "text": [
      "35.4 µs ± 115 ns per loop (mean ± std. dev. of 7 runs, 10,000 loops each)\n"
     ]
    }
   ],
   "source": [
    "%timeit t_cat(trees)"
   ]
  },
  {
   "cell_type": "code",
   "execution_count": 24,
   "id": "a3ab5c8f",
   "metadata": {
    "execution": {
     "iopub.execute_input": "2023-01-25T10:10:04.803034Z",
     "iopub.status.busy": "2023-01-25T10:10:04.802193Z",
     "iopub.status.idle": "2023-01-25T10:10:10.231940Z",
     "shell.execute_reply": "2023-01-25T10:10:10.230731Z"
    }
   },
   "outputs": [
    {
     "name": "stdout",
     "output_type": "stream",
     "text": [
      "66.7 µs ± 2.68 µs per loop (mean ± std. dev. of 7 runs, 10,000 loops each)\n"
     ]
    }
   ],
   "source": [
    "t_split = FastTreeValue.func(rise=True)(torch.split)\n",
    "tree = FastTreeValue({\n",
    "    'obs': torch.randn(8, 4, 84, 84),\n",
    "    'action': torch.randint(0, 6, size=(8, 1,)),\n",
    "    'reward': torch.rand(8, 1),\n",
    "})\n",
    "\n",
    "%timeit t_split(tree, 1)"
   ]
  },
  {
   "cell_type": "markdown",
   "id": "31c3ec0b",
   "metadata": {},
   "source": [
    "### Performance of Tianshou Batch"
   ]
  },
  {
   "cell_type": "code",
   "execution_count": 25,
   "id": "9ead828a",
   "metadata": {
    "execution": {
     "iopub.execute_input": "2023-01-25T10:10:10.236687Z",
     "iopub.status.busy": "2023-01-25T10:10:10.235845Z",
     "iopub.status.idle": "2023-01-25T10:10:10.246355Z",
     "shell.execute_reply": "2023-01-25T10:10:10.245481Z"
    }
   },
   "outputs": [
    {
     "data": {
      "text/plain": [
       "Batch(\n",
       "    a: tensor([[[-1.0803,  0.3495,  1.9116],\n",
       "                [-0.1099, -1.4414, -0.5323]],\n",
       "       \n",
       "               [[-1.0803,  0.3495,  1.9116],\n",
       "                [-0.1099, -1.4414, -0.5323]],\n",
       "       \n",
       "               [[-1.0803,  0.3495,  1.9116],\n",
       "                [-0.1099, -1.4414, -0.5323]],\n",
       "       \n",
       "               [[-1.0803,  0.3495,  1.9116],\n",
       "                [-0.1099, -1.4414, -0.5323]],\n",
       "       \n",
       "               [[-1.0803,  0.3495,  1.9116],\n",
       "                [-0.1099, -1.4414, -0.5323]],\n",
       "       \n",
       "               [[-1.0803,  0.3495,  1.9116],\n",
       "                [-0.1099, -1.4414, -0.5323]],\n",
       "       \n",
       "               [[-1.0803,  0.3495,  1.9116],\n",
       "                [-0.1099, -1.4414, -0.5323]],\n",
       "       \n",
       "               [[-1.0803,  0.3495,  1.9116],\n",
       "                [-0.1099, -1.4414, -0.5323]]]),\n",
       "    x: Batch(\n",
       "           c: tensor([[[ 0.4257,  0.5443, -1.5365,  1.3197],\n",
       "                       [ 2.1281, -1.5547, -0.1908,  0.2573],\n",
       "                       [-0.1966, -1.2311,  0.3959, -1.7758]],\n",
       "              \n",
       "                      [[ 0.4257,  0.5443, -1.5365,  1.3197],\n",
       "                       [ 2.1281, -1.5547, -0.1908,  0.2573],\n",
       "                       [-0.1966, -1.2311,  0.3959, -1.7758]],\n",
       "              \n",
       "                      [[ 0.4257,  0.5443, -1.5365,  1.3197],\n",
       "                       [ 2.1281, -1.5547, -0.1908,  0.2573],\n",
       "                       [-0.1966, -1.2311,  0.3959, -1.7758]],\n",
       "              \n",
       "                      [[ 0.4257,  0.5443, -1.5365,  1.3197],\n",
       "                       [ 2.1281, -1.5547, -0.1908,  0.2573],\n",
       "                       [-0.1966, -1.2311,  0.3959, -1.7758]],\n",
       "              \n",
       "                      [[ 0.4257,  0.5443, -1.5365,  1.3197],\n",
       "                       [ 2.1281, -1.5547, -0.1908,  0.2573],\n",
       "                       [-0.1966, -1.2311,  0.3959, -1.7758]],\n",
       "              \n",
       "                      [[ 0.4257,  0.5443, -1.5365,  1.3197],\n",
       "                       [ 2.1281, -1.5547, -0.1908,  0.2573],\n",
       "                       [-0.1966, -1.2311,  0.3959, -1.7758]],\n",
       "              \n",
       "                      [[ 0.4257,  0.5443, -1.5365,  1.3197],\n",
       "                       [ 2.1281, -1.5547, -0.1908,  0.2573],\n",
       "                       [-0.1966, -1.2311,  0.3959, -1.7758]],\n",
       "              \n",
       "                      [[ 0.4257,  0.5443, -1.5365,  1.3197],\n",
       "                       [ 2.1281, -1.5547, -0.1908,  0.2573],\n",
       "                       [-0.1966, -1.2311,  0.3959, -1.7758]]]),\n",
       "       ),\n",
       ")"
      ]
     },
     "execution_count": 25,
     "metadata": {},
     "output_type": "execute_result"
    }
   ],
   "source": [
    "batches = [Batch(**_TREE_DATA_2) for _ in range(8)]\n",
    "\n",
    "Batch.stack(batches)"
   ]
  },
  {
   "cell_type": "code",
   "execution_count": 26,
   "id": "ec9037a3",
   "metadata": {
    "execution": {
     "iopub.execute_input": "2023-01-25T10:10:10.250078Z",
     "iopub.status.busy": "2023-01-25T10:10:10.249640Z",
     "iopub.status.idle": "2023-01-25T10:10:17.550519Z",
     "shell.execute_reply": "2023-01-25T10:10:17.549687Z"
    }
   },
   "outputs": [
    {
     "name": "stdout",
     "output_type": "stream",
     "text": [
      "89.7 µs ± 276 ns per loop (mean ± std. dev. of 7 runs, 10,000 loops each)\n"
     ]
    }
   ],
   "source": [
    "%timeit Batch.stack(batches)"
   ]
  },
  {
   "cell_type": "code",
   "execution_count": 27,
   "id": "cb8ab77e",
   "metadata": {
    "execution": {
     "iopub.execute_input": "2023-01-25T10:10:17.554449Z",
     "iopub.status.busy": "2023-01-25T10:10:17.553967Z",
     "iopub.status.idle": "2023-01-25T10:10:17.562320Z",
     "shell.execute_reply": "2023-01-25T10:10:17.561436Z"
    }
   },
   "outputs": [
    {
     "data": {
      "text/plain": [
       "Batch(\n",
       "    a: tensor([[-1.0803,  0.3495,  1.9116],\n",
       "               [-0.1099, -1.4414, -0.5323],\n",
       "               [-1.0803,  0.3495,  1.9116],\n",
       "               [-0.1099, -1.4414, -0.5323],\n",
       "               [-1.0803,  0.3495,  1.9116],\n",
       "               [-0.1099, -1.4414, -0.5323],\n",
       "               [-1.0803,  0.3495,  1.9116],\n",
       "               [-0.1099, -1.4414, -0.5323],\n",
       "               [-1.0803,  0.3495,  1.9116],\n",
       "               [-0.1099, -1.4414, -0.5323],\n",
       "               [-1.0803,  0.3495,  1.9116],\n",
       "               [-0.1099, -1.4414, -0.5323],\n",
       "               [-1.0803,  0.3495,  1.9116],\n",
       "               [-0.1099, -1.4414, -0.5323],\n",
       "               [-1.0803,  0.3495,  1.9116],\n",
       "               [-0.1099, -1.4414, -0.5323]]),\n",
       "    x: Batch(\n",
       "           c: tensor([[ 0.4257,  0.5443, -1.5365,  1.3197],\n",
       "                      [ 2.1281, -1.5547, -0.1908,  0.2573],\n",
       "                      [-0.1966, -1.2311,  0.3959, -1.7758],\n",
       "                      [ 0.4257,  0.5443, -1.5365,  1.3197],\n",
       "                      [ 2.1281, -1.5547, -0.1908,  0.2573],\n",
       "                      [-0.1966, -1.2311,  0.3959, -1.7758],\n",
       "                      [ 0.4257,  0.5443, -1.5365,  1.3197],\n",
       "                      [ 2.1281, -1.5547, -0.1908,  0.2573],\n",
       "                      [-0.1966, -1.2311,  0.3959, -1.7758],\n",
       "                      [ 0.4257,  0.5443, -1.5365,  1.3197],\n",
       "                      [ 2.1281, -1.5547, -0.1908,  0.2573],\n",
       "                      [-0.1966, -1.2311,  0.3959, -1.7758],\n",
       "                      [ 0.4257,  0.5443, -1.5365,  1.3197],\n",
       "                      [ 2.1281, -1.5547, -0.1908,  0.2573],\n",
       "                      [-0.1966, -1.2311,  0.3959, -1.7758],\n",
       "                      [ 0.4257,  0.5443, -1.5365,  1.3197],\n",
       "                      [ 2.1281, -1.5547, -0.1908,  0.2573],\n",
       "                      [-0.1966, -1.2311,  0.3959, -1.7758],\n",
       "                      [ 0.4257,  0.5443, -1.5365,  1.3197],\n",
       "                      [ 2.1281, -1.5547, -0.1908,  0.2573],\n",
       "                      [-0.1966, -1.2311,  0.3959, -1.7758],\n",
       "                      [ 0.4257,  0.5443, -1.5365,  1.3197],\n",
       "                      [ 2.1281, -1.5547, -0.1908,  0.2573],\n",
       "                      [-0.1966, -1.2311,  0.3959, -1.7758]]),\n",
       "       ),\n",
       ")"
      ]
     },
     "execution_count": 27,
     "metadata": {},
     "output_type": "execute_result"
    }
   ],
   "source": [
    "Batch.cat(batches)"
   ]
  },
  {
   "cell_type": "code",
   "execution_count": 28,
   "id": "18dfb045",
   "metadata": {
    "execution": {
     "iopub.execute_input": "2023-01-25T10:10:17.565909Z",
     "iopub.status.busy": "2023-01-25T10:10:17.565476Z",
     "iopub.status.idle": "2023-01-25T10:10:30.972534Z",
     "shell.execute_reply": "2023-01-25T10:10:30.970942Z"
    }
   },
   "outputs": [
    {
     "name": "stdout",
     "output_type": "stream",
     "text": [
      "165 µs ± 417 ns per loop (mean ± std. dev. of 7 runs, 10,000 loops each)\n"
     ]
    }
   ],
   "source": [
    "%timeit Batch.cat(batches)"
   ]
  },
  {
   "cell_type": "code",
   "execution_count": 29,
   "id": "c6688e51",
   "metadata": {
    "execution": {
     "iopub.execute_input": "2023-01-25T10:10:30.977295Z",
     "iopub.status.busy": "2023-01-25T10:10:30.976706Z",
     "iopub.status.idle": "2023-01-25T10:10:34.003024Z",
     "shell.execute_reply": "2023-01-25T10:10:34.002256Z"
    }
   },
   "outputs": [
    {
     "name": "stdout",
     "output_type": "stream",
     "text": [
      "371 µs ± 3.37 µs per loop (mean ± std. dev. of 7 runs, 1,000 loops each)\n"
     ]
    }
   ],
   "source": [
    "batch = Batch({\n",
    "    'obs': torch.randn(8, 4, 84, 84),\n",
    "    'action': torch.randint(0, 6, size=(8, 1,)),\n",
    "    'reward': torch.rand(8, 1)}\n",
    ")\n",
    "\n",
    "%timeit list(Batch.split(batch, 1, shuffle=False, merge_last=True))"
   ]
  },
  {
   "cell_type": "code",
   "execution_count": null,
   "id": "2539fbd9",
   "metadata": {},
   "outputs": [],
   "source": []
  }
 ],
 "metadata": {
  "kernelspec": {
   "display_name": "Python 3 (ipykernel)",
   "language": "python",
   "name": "python3"
  },
  "language_info": {
   "codemirror_mode": {
    "name": "ipython",
    "version": 3
   },
   "file_extension": ".py",
   "mimetype": "text/x-python",
   "name": "python",
   "nbconvert_exporter": "python",
   "pygments_lexer": "ipython3",
   "version": "3.8.16"
  }
 },
 "nbformat": 4,
 "nbformat_minor": 5
}
