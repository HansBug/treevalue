{
 "cells": [
  {
   "cell_type": "markdown",
   "id": "9d39d946",
   "metadata": {},
   "source": [
    "# Comparison Between TreeValue and Tianshou Batch"
   ]
  },
  {
   "cell_type": "markdown",
   "id": "3c6db2d4",
   "metadata": {},
   "source": [
    "In this section, we will take a look at the feature and performance of the [Tianshou Batch](https://github.com/thu-ml/tianshou) library, which is developed by Tsinghua Machine Learning Group."
   ]
  },
  {
   "cell_type": "markdown",
   "id": "069361b0",
   "metadata": {},
   "source": [
    "Before starting the comparison, let us define some thing."
   ]
  },
  {
   "cell_type": "code",
   "execution_count": 1,
   "id": "06fc8d26",
   "metadata": {
    "execution": {
     "iopub.execute_input": "2023-01-29T03:06:57.341208Z",
     "iopub.status.busy": "2023-01-29T03:06:57.340760Z",
     "iopub.status.idle": "2023-01-29T03:06:58.237336Z",
     "shell.execute_reply": "2023-01-29T03:06:58.236093Z"
    }
   },
   "outputs": [
    {
     "name": "stderr",
     "output_type": "stream",
     "text": [
      "/opt/hostedtoolcache/Python/3.8.16/x64/lib/python3.8/site-packages/tqdm/auto.py:22: TqdmWarning: IProgress not found. Please update jupyter and ipywidgets. See https://ipywidgets.readthedocs.io/en/stable/user_install.html\n",
      "  from .autonotebook import tqdm as notebook_tqdm\n"
     ]
    }
   ],
   "source": [
    "import torch \n",
    "\n",
    "_TREE_DATA_1 = {'a': 1, 'b': 2, 'x': {'c': 3, 'd': 4}}\n",
    "_TREE_DATA_2 = {\n",
    "    'a': torch.randn(2, 3), \n",
    "    'x': {\n",
    "        'c': torch.randn(3, 4)\n",
    "    },\n",
    "}\n",
    "_TREE_DATA_3 = {\n",
    "    'obs': torch.randn(4, 84, 84),\n",
    "    'action': torch.randint(0, 6, size=(1,)),\n",
    "    'reward': torch.rand(1),\n",
    "}"
   ]
  },
  {
   "cell_type": "markdown",
   "id": "83461b25",
   "metadata": {},
   "source": [
    "## Read and Write Operation"
   ]
  },
  {
   "cell_type": "markdown",
   "id": "067b3f73",
   "metadata": {},
   "source": [
    "Reading and writing are the two most common operations in the tree data structure based on the data model (TreeValue and Tianshou Batch both belong to this type), so this section will compare the reading and writing performance of these two libraries."
   ]
  },
  {
   "cell_type": "markdown",
   "id": "5d09a5b7",
   "metadata": {},
   "source": [
    "### TreeValue's Get and Set"
   ]
  },
  {
   "cell_type": "code",
   "execution_count": 2,
   "id": "9519c4bb",
   "metadata": {
    "execution": {
     "iopub.execute_input": "2023-01-29T03:06:58.240390Z",
     "iopub.status.busy": "2023-01-29T03:06:58.240123Z",
     "iopub.status.idle": "2023-01-29T03:06:58.272353Z",
     "shell.execute_reply": "2023-01-29T03:06:58.271776Z"
    }
   },
   "outputs": [],
   "source": [
    "from treevalue import FastTreeValue\n",
    "\n",
    "t = FastTreeValue(_TREE_DATA_2)"
   ]
  },
  {
   "cell_type": "code",
   "execution_count": 3,
   "id": "11c37677",
   "metadata": {
    "execution": {
     "iopub.execute_input": "2023-01-29T03:06:58.274929Z",
     "iopub.status.busy": "2023-01-29T03:06:58.274598Z",
     "iopub.status.idle": "2023-01-29T03:06:58.283502Z",
     "shell.execute_reply": "2023-01-29T03:06:58.282933Z"
    }
   },
   "outputs": [
    {
     "data": {
      "text/plain": [
       "<FastTreeValue 0x7f324c664130>\n",
       "├── 'a' --> tensor([[ 0.4513, -0.9724, -0.5296],\n",
       "│                   [ 0.3514, -0.5366,  0.6840]])\n",
       "└── 'x' --> <FastTreeValue 0x7f324c664070>\n",
       "    └── 'c' --> tensor([[-1.1569,  0.1718, -0.6007, -0.2880],\n",
       "                        [ 1.3647, -0.0194,  0.5076, -0.2821],\n",
       "                        [ 0.8438,  0.7964,  0.2256,  1.6040]])"
      ]
     },
     "execution_count": 3,
     "metadata": {},
     "output_type": "execute_result"
    }
   ],
   "source": [
    "t"
   ]
  },
  {
   "cell_type": "code",
   "execution_count": 4,
   "id": "fd70b0b9",
   "metadata": {
    "execution": {
     "iopub.execute_input": "2023-01-29T03:06:58.285894Z",
     "iopub.status.busy": "2023-01-29T03:06:58.285557Z",
     "iopub.status.idle": "2023-01-29T03:06:58.290202Z",
     "shell.execute_reply": "2023-01-29T03:06:58.289581Z"
    }
   },
   "outputs": [
    {
     "data": {
      "text/plain": [
       "tensor([[ 0.4513, -0.9724, -0.5296],\n",
       "        [ 0.3514, -0.5366,  0.6840]])"
      ]
     },
     "execution_count": 4,
     "metadata": {},
     "output_type": "execute_result"
    }
   ],
   "source": [
    "t.a"
   ]
  },
  {
   "cell_type": "code",
   "execution_count": 5,
   "id": "c18197bd",
   "metadata": {
    "execution": {
     "iopub.execute_input": "2023-01-29T03:06:58.293134Z",
     "iopub.status.busy": "2023-01-29T03:06:58.292646Z",
     "iopub.status.idle": "2023-01-29T03:07:03.129935Z",
     "shell.execute_reply": "2023-01-29T03:07:03.129066Z"
    }
   },
   "outputs": [
    {
     "name": "stdout",
     "output_type": "stream",
     "text": [
      "59.1 ns ± 0.056 ns per loop (mean ± std. dev. of 7 runs, 10,000,000 loops each)\n"
     ]
    }
   ],
   "source": [
    "%timeit t.a"
   ]
  },
  {
   "cell_type": "code",
   "execution_count": 6,
   "id": "bd52f867",
   "metadata": {
    "execution": {
     "iopub.execute_input": "2023-01-29T03:07:03.133117Z",
     "iopub.status.busy": "2023-01-29T03:07:03.132553Z",
     "iopub.status.idle": "2023-01-29T03:07:03.139141Z",
     "shell.execute_reply": "2023-01-29T03:07:03.138567Z"
    }
   },
   "outputs": [
    {
     "data": {
      "text/plain": [
       "<FastTreeValue 0x7f324c664130>\n",
       "├── 'a' --> tensor([[ 0.2868,  2.0820, -0.7874],\n",
       "│                   [ 2.7329,  0.8582,  0.7886]])\n",
       "└── 'x' --> <FastTreeValue 0x7f324c664070>\n",
       "    └── 'c' --> tensor([[-1.1569,  0.1718, -0.6007, -0.2880],\n",
       "                        [ 1.3647, -0.0194,  0.5076, -0.2821],\n",
       "                        [ 0.8438,  0.7964,  0.2256,  1.6040]])"
      ]
     },
     "execution_count": 6,
     "metadata": {},
     "output_type": "execute_result"
    }
   ],
   "source": [
    "new_value = torch.randn(2, 3)\n",
    "t.a = new_value\n",
    "\n",
    "t"
   ]
  },
  {
   "cell_type": "code",
   "execution_count": 7,
   "id": "bbe04d1c",
   "metadata": {
    "execution": {
     "iopub.execute_input": "2023-01-29T03:07:03.141909Z",
     "iopub.status.busy": "2023-01-29T03:07:03.141413Z",
     "iopub.status.idle": "2023-01-29T03:07:07.870466Z",
     "shell.execute_reply": "2023-01-29T03:07:07.869696Z"
    }
   },
   "outputs": [
    {
     "name": "stdout",
     "output_type": "stream",
     "text": [
      "58.2 ns ± 0.0295 ns per loop (mean ± std. dev. of 7 runs, 10,000,000 loops each)\n"
     ]
    }
   ],
   "source": [
    "%timeit t.a = new_value"
   ]
  },
  {
   "cell_type": "markdown",
   "id": "48c49731",
   "metadata": {},
   "source": [
    "### Tianshou Batch's Get and Set"
   ]
  },
  {
   "cell_type": "code",
   "execution_count": 8,
   "id": "f1bb14c1",
   "metadata": {
    "execution": {
     "iopub.execute_input": "2023-01-29T03:07:07.873364Z",
     "iopub.status.busy": "2023-01-29T03:07:07.873008Z",
     "iopub.status.idle": "2023-01-29T03:07:08.195320Z",
     "shell.execute_reply": "2023-01-29T03:07:08.194655Z"
    }
   },
   "outputs": [],
   "source": [
    "from tianshou.data import Batch\n",
    "\n",
    "b = Batch(**_TREE_DATA_2)"
   ]
  },
  {
   "cell_type": "code",
   "execution_count": 9,
   "id": "cb0777c3",
   "metadata": {
    "execution": {
     "iopub.execute_input": "2023-01-29T03:07:08.198865Z",
     "iopub.status.busy": "2023-01-29T03:07:08.198231Z",
     "iopub.status.idle": "2023-01-29T03:07:08.205267Z",
     "shell.execute_reply": "2023-01-29T03:07:08.204686Z"
    }
   },
   "outputs": [
    {
     "data": {
      "text/plain": [
       "Batch(\n",
       "    a: tensor([[ 0.4513, -0.9724, -0.5296],\n",
       "               [ 0.3514, -0.5366,  0.6840]]),\n",
       "    x: Batch(\n",
       "           c: tensor([[-1.1569,  0.1718, -0.6007, -0.2880],\n",
       "                      [ 1.3647, -0.0194,  0.5076, -0.2821],\n",
       "                      [ 0.8438,  0.7964,  0.2256,  1.6040]]),\n",
       "       ),\n",
       ")"
      ]
     },
     "execution_count": 9,
     "metadata": {},
     "output_type": "execute_result"
    }
   ],
   "source": [
    "b"
   ]
  },
  {
   "cell_type": "code",
   "execution_count": 10,
   "id": "43ef8ea3",
   "metadata": {
    "execution": {
     "iopub.execute_input": "2023-01-29T03:07:08.207999Z",
     "iopub.status.busy": "2023-01-29T03:07:08.207665Z",
     "iopub.status.idle": "2023-01-29T03:07:08.212942Z",
     "shell.execute_reply": "2023-01-29T03:07:08.212295Z"
    }
   },
   "outputs": [
    {
     "data": {
      "text/plain": [
       "tensor([[ 0.4513, -0.9724, -0.5296],\n",
       "        [ 0.3514, -0.5366,  0.6840]])"
      ]
     },
     "execution_count": 10,
     "metadata": {},
     "output_type": "execute_result"
    }
   ],
   "source": [
    "b.a"
   ]
  },
  {
   "cell_type": "code",
   "execution_count": 11,
   "id": "b785ab72",
   "metadata": {
    "execution": {
     "iopub.execute_input": "2023-01-29T03:07:08.215764Z",
     "iopub.status.busy": "2023-01-29T03:07:08.215293Z",
     "iopub.status.idle": "2023-01-29T03:07:12.709384Z",
     "shell.execute_reply": "2023-01-29T03:07:12.708700Z"
    }
   },
   "outputs": [
    {
     "name": "stdout",
     "output_type": "stream",
     "text": [
      "55.1 ns ± 0.0737 ns per loop (mean ± std. dev. of 7 runs, 10,000,000 loops each)\n"
     ]
    }
   ],
   "source": [
    "%timeit b.a"
   ]
  },
  {
   "cell_type": "code",
   "execution_count": 12,
   "id": "ad54dc69",
   "metadata": {
    "execution": {
     "iopub.execute_input": "2023-01-29T03:07:12.712408Z",
     "iopub.status.busy": "2023-01-29T03:07:12.712057Z",
     "iopub.status.idle": "2023-01-29T03:07:12.719101Z",
     "shell.execute_reply": "2023-01-29T03:07:12.717929Z"
    }
   },
   "outputs": [
    {
     "data": {
      "text/plain": [
       "Batch(\n",
       "    a: tensor([[-0.5744,  0.2339, -0.9821],\n",
       "               [-2.3618,  1.0731,  0.5992]]),\n",
       "    x: Batch(\n",
       "           c: tensor([[-1.1569,  0.1718, -0.6007, -0.2880],\n",
       "                      [ 1.3647, -0.0194,  0.5076, -0.2821],\n",
       "                      [ 0.8438,  0.7964,  0.2256,  1.6040]]),\n",
       "       ),\n",
       ")"
      ]
     },
     "execution_count": 12,
     "metadata": {},
     "output_type": "execute_result"
    }
   ],
   "source": [
    "new_value = torch.randn(2, 3)\n",
    "b.a = new_value\n",
    "\n",
    "b"
   ]
  },
  {
   "cell_type": "code",
   "execution_count": 13,
   "id": "29b1d0bf",
   "metadata": {
    "execution": {
     "iopub.execute_input": "2023-01-29T03:07:12.721522Z",
     "iopub.status.busy": "2023-01-29T03:07:12.721192Z",
     "iopub.status.idle": "2023-01-29T03:07:16.662407Z",
     "shell.execute_reply": "2023-01-29T03:07:16.661705Z"
    }
   },
   "outputs": [
    {
     "name": "stdout",
     "output_type": "stream",
     "text": [
      "484 ns ± 0.0905 ns per loop (mean ± std. dev. of 7 runs, 1,000,000 loops each)\n"
     ]
    }
   ],
   "source": [
    "%timeit b.a = new_value"
   ]
  },
  {
   "cell_type": "markdown",
   "id": "b61ad1d0",
   "metadata": {},
   "source": [
    "## Initialization"
   ]
  },
  {
   "cell_type": "markdown",
   "id": "d70f0d54",
   "metadata": {},
   "source": [
    "### TreeValue's Initialization"
   ]
  },
  {
   "cell_type": "code",
   "execution_count": 14,
   "id": "d32a679b",
   "metadata": {
    "execution": {
     "iopub.execute_input": "2023-01-29T03:07:16.665821Z",
     "iopub.status.busy": "2023-01-29T03:07:16.665318Z",
     "iopub.status.idle": "2023-01-29T03:07:23.561864Z",
     "shell.execute_reply": "2023-01-29T03:07:23.560958Z"
    }
   },
   "outputs": [
    {
     "name": "stdout",
     "output_type": "stream",
     "text": [
      "849 ns ± 0.259 ns per loop (mean ± std. dev. of 7 runs, 1,000,000 loops each)\n"
     ]
    }
   ],
   "source": [
    "%timeit FastTreeValue(_TREE_DATA_1)"
   ]
  },
  {
   "cell_type": "markdown",
   "id": "24f3707b",
   "metadata": {},
   "source": [
    "### Tianshou Batch's Initialization"
   ]
  },
  {
   "cell_type": "code",
   "execution_count": 15,
   "id": "ac3958df",
   "metadata": {
    "execution": {
     "iopub.execute_input": "2023-01-29T03:07:23.564999Z",
     "iopub.status.busy": "2023-01-29T03:07:23.564477Z",
     "iopub.status.idle": "2023-01-29T03:07:33.037815Z",
     "shell.execute_reply": "2023-01-29T03:07:33.037050Z"
    }
   },
   "outputs": [
    {
     "name": "stdout",
     "output_type": "stream",
     "text": [
      "11.7 µs ± 13.3 ns per loop (mean ± std. dev. of 7 runs, 100,000 loops each)\n"
     ]
    }
   ],
   "source": [
    "%timeit Batch(**_TREE_DATA_1)"
   ]
  },
  {
   "cell_type": "markdown",
   "id": "1ab82e2d",
   "metadata": {},
   "source": [
    "## Deep Copy Operation"
   ]
  },
  {
   "cell_type": "code",
   "execution_count": 16,
   "id": "210a9442",
   "metadata": {
    "execution": {
     "iopub.execute_input": "2023-01-29T03:07:33.040872Z",
     "iopub.status.busy": "2023-01-29T03:07:33.040510Z",
     "iopub.status.idle": "2023-01-29T03:07:33.044484Z",
     "shell.execute_reply": "2023-01-29T03:07:33.043878Z"
    }
   },
   "outputs": [],
   "source": [
    "import copy"
   ]
  },
  {
   "cell_type": "markdown",
   "id": "5a736274",
   "metadata": {},
   "source": [
    "### Deep Copy of TreeValue"
   ]
  },
  {
   "cell_type": "code",
   "execution_count": 17,
   "id": "f9bcadd6",
   "metadata": {
    "execution": {
     "iopub.execute_input": "2023-01-29T03:07:33.047171Z",
     "iopub.status.busy": "2023-01-29T03:07:33.046858Z",
     "iopub.status.idle": "2023-01-29T03:07:44.072645Z",
     "shell.execute_reply": "2023-01-29T03:07:44.072071Z"
    }
   },
   "outputs": [
    {
     "name": "stdout",
     "output_type": "stream",
     "text": [
      "136 µs ± 259 ns per loop (mean ± std. dev. of 7 runs, 10,000 loops each)\n"
     ]
    }
   ],
   "source": [
    "t3 = FastTreeValue(_TREE_DATA_3)\n",
    "%timeit copy.deepcopy(t3)"
   ]
  },
  {
   "cell_type": "markdown",
   "id": "bf8be7ea",
   "metadata": {},
   "source": [
    "### Deep Copy of Tianshou Batch"
   ]
  },
  {
   "cell_type": "code",
   "execution_count": 18,
   "id": "91998e6f",
   "metadata": {
    "execution": {
     "iopub.execute_input": "2023-01-29T03:07:44.076798Z",
     "iopub.status.busy": "2023-01-29T03:07:44.075553Z",
     "iopub.status.idle": "2023-01-29T03:07:55.494281Z",
     "shell.execute_reply": "2023-01-29T03:07:55.493693Z"
    }
   },
   "outputs": [
    {
     "name": "stdout",
     "output_type": "stream",
     "text": [
      "141 µs ± 3.29 µs per loop (mean ± std. dev. of 7 runs, 10,000 loops each)\n"
     ]
    }
   ],
   "source": [
    "b3 = Batch(**_TREE_DATA_3)\n",
    "%timeit copy.deepcopy(b3)"
   ]
  },
  {
   "cell_type": "markdown",
   "id": "223162fb",
   "metadata": {},
   "source": [
    "## Stack, Concat and Split Operation"
   ]
  },
  {
   "cell_type": "markdown",
   "id": "85fa4a73",
   "metadata": {},
   "source": [
    "### Performance of TreeValue"
   ]
  },
  {
   "cell_type": "code",
   "execution_count": 19,
   "id": "a0c2b697",
   "metadata": {
    "execution": {
     "iopub.execute_input": "2023-01-29T03:07:55.497626Z",
     "iopub.status.busy": "2023-01-29T03:07:55.497228Z",
     "iopub.status.idle": "2023-01-29T03:07:55.502230Z",
     "shell.execute_reply": "2023-01-29T03:07:55.500997Z"
    }
   },
   "outputs": [],
   "source": [
    "trees = [FastTreeValue(_TREE_DATA_2) for _ in range(8)]"
   ]
  },
  {
   "cell_type": "code",
   "execution_count": 20,
   "id": "017ea5a5",
   "metadata": {
    "execution": {
     "iopub.execute_input": "2023-01-29T03:07:55.504808Z",
     "iopub.status.busy": "2023-01-29T03:07:55.504278Z",
     "iopub.status.idle": "2023-01-29T03:07:55.511399Z",
     "shell.execute_reply": "2023-01-29T03:07:55.510790Z"
    }
   },
   "outputs": [
    {
     "data": {
      "text/plain": [
       "<FastTreeValue 0x7f31a238efa0>\n",
       "├── 'a' --> tensor([[[ 0.4513, -0.9724, -0.5296],\n",
       "│                    [ 0.3514, -0.5366,  0.6840]],\n",
       "│           \n",
       "│                   [[ 0.4513, -0.9724, -0.5296],\n",
       "│                    [ 0.3514, -0.5366,  0.6840]],\n",
       "│           \n",
       "│                   [[ 0.4513, -0.9724, -0.5296],\n",
       "│                    [ 0.3514, -0.5366,  0.6840]],\n",
       "│           \n",
       "│                   [[ 0.4513, -0.9724, -0.5296],\n",
       "│                    [ 0.3514, -0.5366,  0.6840]],\n",
       "│           \n",
       "│                   [[ 0.4513, -0.9724, -0.5296],\n",
       "│                    [ 0.3514, -0.5366,  0.6840]],\n",
       "│           \n",
       "│                   [[ 0.4513, -0.9724, -0.5296],\n",
       "│                    [ 0.3514, -0.5366,  0.6840]],\n",
       "│           \n",
       "│                   [[ 0.4513, -0.9724, -0.5296],\n",
       "│                    [ 0.3514, -0.5366,  0.6840]],\n",
       "│           \n",
       "│                   [[ 0.4513, -0.9724, -0.5296],\n",
       "│                    [ 0.3514, -0.5366,  0.6840]]])\n",
       "└── 'x' --> <FastTreeValue 0x7f324f6d5fa0>\n",
       "    └── 'c' --> tensor([[[-1.1569,  0.1718, -0.6007, -0.2880],\n",
       "                         [ 1.3647, -0.0194,  0.5076, -0.2821],\n",
       "                         [ 0.8438,  0.7964,  0.2256,  1.6040]],\n",
       "                \n",
       "                        [[-1.1569,  0.1718, -0.6007, -0.2880],\n",
       "                         [ 1.3647, -0.0194,  0.5076, -0.2821],\n",
       "                         [ 0.8438,  0.7964,  0.2256,  1.6040]],\n",
       "                \n",
       "                        [[-1.1569,  0.1718, -0.6007, -0.2880],\n",
       "                         [ 1.3647, -0.0194,  0.5076, -0.2821],\n",
       "                         [ 0.8438,  0.7964,  0.2256,  1.6040]],\n",
       "                \n",
       "                        [[-1.1569,  0.1718, -0.6007, -0.2880],\n",
       "                         [ 1.3647, -0.0194,  0.5076, -0.2821],\n",
       "                         [ 0.8438,  0.7964,  0.2256,  1.6040]],\n",
       "                \n",
       "                        [[-1.1569,  0.1718, -0.6007, -0.2880],\n",
       "                         [ 1.3647, -0.0194,  0.5076, -0.2821],\n",
       "                         [ 0.8438,  0.7964,  0.2256,  1.6040]],\n",
       "                \n",
       "                        [[-1.1569,  0.1718, -0.6007, -0.2880],\n",
       "                         [ 1.3647, -0.0194,  0.5076, -0.2821],\n",
       "                         [ 0.8438,  0.7964,  0.2256,  1.6040]],\n",
       "                \n",
       "                        [[-1.1569,  0.1718, -0.6007, -0.2880],\n",
       "                         [ 1.3647, -0.0194,  0.5076, -0.2821],\n",
       "                         [ 0.8438,  0.7964,  0.2256,  1.6040]],\n",
       "                \n",
       "                        [[-1.1569,  0.1718, -0.6007, -0.2880],\n",
       "                         [ 1.3647, -0.0194,  0.5076, -0.2821],\n",
       "                         [ 0.8438,  0.7964,  0.2256,  1.6040]]])"
      ]
     },
     "execution_count": 20,
     "metadata": {},
     "output_type": "execute_result"
    }
   ],
   "source": [
    "t_stack = FastTreeValue.func(subside=True)(torch.stack)\n",
    "\n",
    "t_stack(trees)"
   ]
  },
  {
   "cell_type": "code",
   "execution_count": 21,
   "id": "f8b3f415",
   "metadata": {
    "execution": {
     "iopub.execute_input": "2023-01-29T03:07:55.513774Z",
     "iopub.status.busy": "2023-01-29T03:07:55.513570Z",
     "iopub.status.idle": "2023-01-29T03:07:58.155143Z",
     "shell.execute_reply": "2023-01-29T03:07:58.154399Z"
    }
   },
   "outputs": [
    {
     "name": "stdout",
     "output_type": "stream",
     "text": [
      "32.5 µs ± 101 ns per loop (mean ± std. dev. of 7 runs, 10,000 loops each)\n"
     ]
    }
   ],
   "source": [
    "%timeit t_stack(trees)"
   ]
  },
  {
   "cell_type": "code",
   "execution_count": 22,
   "id": "94b56771",
   "metadata": {
    "execution": {
     "iopub.execute_input": "2023-01-29T03:07:58.158412Z",
     "iopub.status.busy": "2023-01-29T03:07:58.157816Z",
     "iopub.status.idle": "2023-01-29T03:07:58.165792Z",
     "shell.execute_reply": "2023-01-29T03:07:58.165178Z"
    }
   },
   "outputs": [
    {
     "data": {
      "text/plain": [
       "<FastTreeValue 0x7f324c67a760>\n",
       "├── 'a' --> tensor([[ 0.4513, -0.9724, -0.5296],\n",
       "│                   [ 0.3514, -0.5366,  0.6840],\n",
       "│                   [ 0.4513, -0.9724, -0.5296],\n",
       "│                   [ 0.3514, -0.5366,  0.6840],\n",
       "│                   [ 0.4513, -0.9724, -0.5296],\n",
       "│                   [ 0.3514, -0.5366,  0.6840],\n",
       "│                   [ 0.4513, -0.9724, -0.5296],\n",
       "│                   [ 0.3514, -0.5366,  0.6840],\n",
       "│                   [ 0.4513, -0.9724, -0.5296],\n",
       "│                   [ 0.3514, -0.5366,  0.6840],\n",
       "│                   [ 0.4513, -0.9724, -0.5296],\n",
       "│                   [ 0.3514, -0.5366,  0.6840],\n",
       "│                   [ 0.4513, -0.9724, -0.5296],\n",
       "│                   [ 0.3514, -0.5366,  0.6840],\n",
       "│                   [ 0.4513, -0.9724, -0.5296],\n",
       "│                   [ 0.3514, -0.5366,  0.6840]])\n",
       "└── 'x' --> <FastTreeValue 0x7f31a8fa5190>\n",
       "    └── 'c' --> tensor([[-1.1569,  0.1718, -0.6007, -0.2880],\n",
       "                        [ 1.3647, -0.0194,  0.5076, -0.2821],\n",
       "                        [ 0.8438,  0.7964,  0.2256,  1.6040],\n",
       "                        [-1.1569,  0.1718, -0.6007, -0.2880],\n",
       "                        [ 1.3647, -0.0194,  0.5076, -0.2821],\n",
       "                        [ 0.8438,  0.7964,  0.2256,  1.6040],\n",
       "                        [-1.1569,  0.1718, -0.6007, -0.2880],\n",
       "                        [ 1.3647, -0.0194,  0.5076, -0.2821],\n",
       "                        [ 0.8438,  0.7964,  0.2256,  1.6040],\n",
       "                        [-1.1569,  0.1718, -0.6007, -0.2880],\n",
       "                        [ 1.3647, -0.0194,  0.5076, -0.2821],\n",
       "                        [ 0.8438,  0.7964,  0.2256,  1.6040],\n",
       "                        [-1.1569,  0.1718, -0.6007, -0.2880],\n",
       "                        [ 1.3647, -0.0194,  0.5076, -0.2821],\n",
       "                        [ 0.8438,  0.7964,  0.2256,  1.6040],\n",
       "                        [-1.1569,  0.1718, -0.6007, -0.2880],\n",
       "                        [ 1.3647, -0.0194,  0.5076, -0.2821],\n",
       "                        [ 0.8438,  0.7964,  0.2256,  1.6040],\n",
       "                        [-1.1569,  0.1718, -0.6007, -0.2880],\n",
       "                        [ 1.3647, -0.0194,  0.5076, -0.2821],\n",
       "                        [ 0.8438,  0.7964,  0.2256,  1.6040],\n",
       "                        [-1.1569,  0.1718, -0.6007, -0.2880],\n",
       "                        [ 1.3647, -0.0194,  0.5076, -0.2821],\n",
       "                        [ 0.8438,  0.7964,  0.2256,  1.6040]])"
      ]
     },
     "execution_count": 22,
     "metadata": {},
     "output_type": "execute_result"
    }
   ],
   "source": [
    "t_cat = FastTreeValue.func(subside=True)(torch.cat)\n",
    "\n",
    "t_cat(trees)"
   ]
  },
  {
   "cell_type": "code",
   "execution_count": 23,
   "id": "5e9c06a6",
   "metadata": {
    "execution": {
     "iopub.execute_input": "2023-01-29T03:07:58.168773Z",
     "iopub.status.busy": "2023-01-29T03:07:58.168256Z",
     "iopub.status.idle": "2023-01-29T03:08:00.678794Z",
     "shell.execute_reply": "2023-01-29T03:08:00.678093Z"
    }
   },
   "outputs": [
    {
     "name": "stdout",
     "output_type": "stream",
     "text": [
      "30.9 µs ± 121 ns per loop (mean ± std. dev. of 7 runs, 10,000 loops each)\n"
     ]
    }
   ],
   "source": [
    "%timeit t_cat(trees)"
   ]
  },
  {
   "cell_type": "code",
   "execution_count": 24,
   "id": "a3ab5c8f",
   "metadata": {
    "execution": {
     "iopub.execute_input": "2023-01-29T03:08:00.681789Z",
     "iopub.status.busy": "2023-01-29T03:08:00.681206Z",
     "iopub.status.idle": "2023-01-29T03:08:05.350171Z",
     "shell.execute_reply": "2023-01-29T03:08:05.349591Z"
    }
   },
   "outputs": [
    {
     "name": "stdout",
     "output_type": "stream",
     "text": [
      "57.4 µs ± 105 ns per loop (mean ± std. dev. of 7 runs, 10,000 loops each)\n"
     ]
    }
   ],
   "source": [
    "t_split = FastTreeValue.func(rise=True)(torch.split)\n",
    "tree = FastTreeValue({\n",
    "    'obs': torch.randn(8, 4, 84, 84),\n",
    "    'action': torch.randint(0, 6, size=(8, 1,)),\n",
    "    'reward': torch.rand(8, 1),\n",
    "})\n",
    "\n",
    "%timeit t_split(tree, 1)"
   ]
  },
  {
   "cell_type": "markdown",
   "id": "31c3ec0b",
   "metadata": {},
   "source": [
    "### Performance of Tianshou Batch"
   ]
  },
  {
   "cell_type": "code",
   "execution_count": 25,
   "id": "9ead828a",
   "metadata": {
    "execution": {
     "iopub.execute_input": "2023-01-29T03:08:05.353787Z",
     "iopub.status.busy": "2023-01-29T03:08:05.353264Z",
     "iopub.status.idle": "2023-01-29T03:08:05.361088Z",
     "shell.execute_reply": "2023-01-29T03:08:05.360507Z"
    }
   },
   "outputs": [
    {
     "data": {
      "text/plain": [
       "Batch(\n",
       "    a: tensor([[[ 0.4513, -0.9724, -0.5296],\n",
       "                [ 0.3514, -0.5366,  0.6840]],\n",
       "       \n",
       "               [[ 0.4513, -0.9724, -0.5296],\n",
       "                [ 0.3514, -0.5366,  0.6840]],\n",
       "       \n",
       "               [[ 0.4513, -0.9724, -0.5296],\n",
       "                [ 0.3514, -0.5366,  0.6840]],\n",
       "       \n",
       "               [[ 0.4513, -0.9724, -0.5296],\n",
       "                [ 0.3514, -0.5366,  0.6840]],\n",
       "       \n",
       "               [[ 0.4513, -0.9724, -0.5296],\n",
       "                [ 0.3514, -0.5366,  0.6840]],\n",
       "       \n",
       "               [[ 0.4513, -0.9724, -0.5296],\n",
       "                [ 0.3514, -0.5366,  0.6840]],\n",
       "       \n",
       "               [[ 0.4513, -0.9724, -0.5296],\n",
       "                [ 0.3514, -0.5366,  0.6840]],\n",
       "       \n",
       "               [[ 0.4513, -0.9724, -0.5296],\n",
       "                [ 0.3514, -0.5366,  0.6840]]]),\n",
       "    x: Batch(\n",
       "           c: tensor([[[-1.1569,  0.1718, -0.6007, -0.2880],\n",
       "                       [ 1.3647, -0.0194,  0.5076, -0.2821],\n",
       "                       [ 0.8438,  0.7964,  0.2256,  1.6040]],\n",
       "              \n",
       "                      [[-1.1569,  0.1718, -0.6007, -0.2880],\n",
       "                       [ 1.3647, -0.0194,  0.5076, -0.2821],\n",
       "                       [ 0.8438,  0.7964,  0.2256,  1.6040]],\n",
       "              \n",
       "                      [[-1.1569,  0.1718, -0.6007, -0.2880],\n",
       "                       [ 1.3647, -0.0194,  0.5076, -0.2821],\n",
       "                       [ 0.8438,  0.7964,  0.2256,  1.6040]],\n",
       "              \n",
       "                      [[-1.1569,  0.1718, -0.6007, -0.2880],\n",
       "                       [ 1.3647, -0.0194,  0.5076, -0.2821],\n",
       "                       [ 0.8438,  0.7964,  0.2256,  1.6040]],\n",
       "              \n",
       "                      [[-1.1569,  0.1718, -0.6007, -0.2880],\n",
       "                       [ 1.3647, -0.0194,  0.5076, -0.2821],\n",
       "                       [ 0.8438,  0.7964,  0.2256,  1.6040]],\n",
       "              \n",
       "                      [[-1.1569,  0.1718, -0.6007, -0.2880],\n",
       "                       [ 1.3647, -0.0194,  0.5076, -0.2821],\n",
       "                       [ 0.8438,  0.7964,  0.2256,  1.6040]],\n",
       "              \n",
       "                      [[-1.1569,  0.1718, -0.6007, -0.2880],\n",
       "                       [ 1.3647, -0.0194,  0.5076, -0.2821],\n",
       "                       [ 0.8438,  0.7964,  0.2256,  1.6040]],\n",
       "              \n",
       "                      [[-1.1569,  0.1718, -0.6007, -0.2880],\n",
       "                       [ 1.3647, -0.0194,  0.5076, -0.2821],\n",
       "                       [ 0.8438,  0.7964,  0.2256,  1.6040]]]),\n",
       "       ),\n",
       ")"
      ]
     },
     "execution_count": 25,
     "metadata": {},
     "output_type": "execute_result"
    }
   ],
   "source": [
    "batches = [Batch(**_TREE_DATA_2) for _ in range(8)]\n",
    "\n",
    "Batch.stack(batches)"
   ]
  },
  {
   "cell_type": "code",
   "execution_count": 26,
   "id": "ec9037a3",
   "metadata": {
    "execution": {
     "iopub.execute_input": "2023-01-29T03:08:05.363821Z",
     "iopub.status.busy": "2023-01-29T03:08:05.363496Z",
     "iopub.status.idle": "2023-01-29T03:08:11.813319Z",
     "shell.execute_reply": "2023-01-29T03:08:11.812645Z"
    }
   },
   "outputs": [
    {
     "name": "stdout",
     "output_type": "stream",
     "text": [
      "79.4 µs ± 164 ns per loop (mean ± std. dev. of 7 runs, 10,000 loops each)\n"
     ]
    }
   ],
   "source": [
    "%timeit Batch.stack(batches)"
   ]
  },
  {
   "cell_type": "code",
   "execution_count": 27,
   "id": "cb8ab77e",
   "metadata": {
    "execution": {
     "iopub.execute_input": "2023-01-29T03:08:11.816564Z",
     "iopub.status.busy": "2023-01-29T03:08:11.816021Z",
     "iopub.status.idle": "2023-01-29T03:08:11.823943Z",
     "shell.execute_reply": "2023-01-29T03:08:11.823015Z"
    }
   },
   "outputs": [
    {
     "data": {
      "text/plain": [
       "Batch(\n",
       "    a: tensor([[ 0.4513, -0.9724, -0.5296],\n",
       "               [ 0.3514, -0.5366,  0.6840],\n",
       "               [ 0.4513, -0.9724, -0.5296],\n",
       "               [ 0.3514, -0.5366,  0.6840],\n",
       "               [ 0.4513, -0.9724, -0.5296],\n",
       "               [ 0.3514, -0.5366,  0.6840],\n",
       "               [ 0.4513, -0.9724, -0.5296],\n",
       "               [ 0.3514, -0.5366,  0.6840],\n",
       "               [ 0.4513, -0.9724, -0.5296],\n",
       "               [ 0.3514, -0.5366,  0.6840],\n",
       "               [ 0.4513, -0.9724, -0.5296],\n",
       "               [ 0.3514, -0.5366,  0.6840],\n",
       "               [ 0.4513, -0.9724, -0.5296],\n",
       "               [ 0.3514, -0.5366,  0.6840],\n",
       "               [ 0.4513, -0.9724, -0.5296],\n",
       "               [ 0.3514, -0.5366,  0.6840]]),\n",
       "    x: Batch(\n",
       "           c: tensor([[-1.1569,  0.1718, -0.6007, -0.2880],\n",
       "                      [ 1.3647, -0.0194,  0.5076, -0.2821],\n",
       "                      [ 0.8438,  0.7964,  0.2256,  1.6040],\n",
       "                      [-1.1569,  0.1718, -0.6007, -0.2880],\n",
       "                      [ 1.3647, -0.0194,  0.5076, -0.2821],\n",
       "                      [ 0.8438,  0.7964,  0.2256,  1.6040],\n",
       "                      [-1.1569,  0.1718, -0.6007, -0.2880],\n",
       "                      [ 1.3647, -0.0194,  0.5076, -0.2821],\n",
       "                      [ 0.8438,  0.7964,  0.2256,  1.6040],\n",
       "                      [-1.1569,  0.1718, -0.6007, -0.2880],\n",
       "                      [ 1.3647, -0.0194,  0.5076, -0.2821],\n",
       "                      [ 0.8438,  0.7964,  0.2256,  1.6040],\n",
       "                      [-1.1569,  0.1718, -0.6007, -0.2880],\n",
       "                      [ 1.3647, -0.0194,  0.5076, -0.2821],\n",
       "                      [ 0.8438,  0.7964,  0.2256,  1.6040],\n",
       "                      [-1.1569,  0.1718, -0.6007, -0.2880],\n",
       "                      [ 1.3647, -0.0194,  0.5076, -0.2821],\n",
       "                      [ 0.8438,  0.7964,  0.2256,  1.6040],\n",
       "                      [-1.1569,  0.1718, -0.6007, -0.2880],\n",
       "                      [ 1.3647, -0.0194,  0.5076, -0.2821],\n",
       "                      [ 0.8438,  0.7964,  0.2256,  1.6040],\n",
       "                      [-1.1569,  0.1718, -0.6007, -0.2880],\n",
       "                      [ 1.3647, -0.0194,  0.5076, -0.2821],\n",
       "                      [ 0.8438,  0.7964,  0.2256,  1.6040]]),\n",
       "       ),\n",
       ")"
      ]
     },
     "execution_count": 27,
     "metadata": {},
     "output_type": "execute_result"
    }
   ],
   "source": [
    "Batch.cat(batches)"
   ]
  },
  {
   "cell_type": "code",
   "execution_count": 28,
   "id": "18dfb045",
   "metadata": {
    "execution": {
     "iopub.execute_input": "2023-01-29T03:08:11.826873Z",
     "iopub.status.busy": "2023-01-29T03:08:11.826397Z",
     "iopub.status.idle": "2023-01-29T03:08:23.564954Z",
     "shell.execute_reply": "2023-01-29T03:08:23.564197Z"
    }
   },
   "outputs": [
    {
     "name": "stdout",
     "output_type": "stream",
     "text": [
      "144 µs ± 153 ns per loop (mean ± std. dev. of 7 runs, 10,000 loops each)\n"
     ]
    }
   ],
   "source": [
    "%timeit Batch.cat(batches)"
   ]
  },
  {
   "cell_type": "code",
   "execution_count": 29,
   "id": "c6688e51",
   "metadata": {
    "execution": {
     "iopub.execute_input": "2023-01-29T03:08:23.568386Z",
     "iopub.status.busy": "2023-01-29T03:08:23.567392Z",
     "iopub.status.idle": "2023-01-29T03:08:26.096491Z",
     "shell.execute_reply": "2023-01-29T03:08:26.095876Z"
    }
   },
   "outputs": [
    {
     "name": "stdout",
     "output_type": "stream",
     "text": [
      "310 µs ± 907 ns per loop (mean ± std. dev. of 7 runs, 1,000 loops each)\n"
     ]
    }
   ],
   "source": [
    "batch = Batch({\n",
    "    'obs': torch.randn(8, 4, 84, 84),\n",
    "    'action': torch.randint(0, 6, size=(8, 1,)),\n",
    "    'reward': torch.rand(8, 1)}\n",
    ")\n",
    "\n",
    "%timeit list(Batch.split(batch, 1, shuffle=False, merge_last=True))"
   ]
  },
  {
   "cell_type": "code",
   "execution_count": null,
   "id": "2539fbd9",
   "metadata": {},
   "outputs": [],
   "source": []
  }
 ],
 "metadata": {
  "kernelspec": {
   "display_name": "Python 3 (ipykernel)",
   "language": "python",
   "name": "python3"
  },
  "language_info": {
   "codemirror_mode": {
    "name": "ipython",
    "version": 3
   },
   "file_extension": ".py",
   "mimetype": "text/x-python",
   "name": "python",
   "nbconvert_exporter": "python",
   "pygments_lexer": "ipython3",
   "version": "3.8.16"
  }
 },
 "nbformat": 4,
 "nbformat_minor": 5
}
