{
 "cells": [
  {
   "cell_type": "markdown",
   "id": "9d39d946",
   "metadata": {},
   "source": [
    "# Comparison Between TreeValue and Tianshou Batch"
   ]
  },
  {
   "cell_type": "markdown",
   "id": "3c6db2d4",
   "metadata": {},
   "source": [
    "In this section, we will take a look at the feature and performance of the [Tianshou Batch](https://github.com/thu-ml/tianshou) library, which is developed by Tsinghua Machine Learning Group."
   ]
  },
  {
   "cell_type": "markdown",
   "id": "069361b0",
   "metadata": {},
   "source": [
    "Before starting the comparison, let us define some thing."
   ]
  },
  {
   "cell_type": "code",
   "execution_count": 1,
   "id": "06fc8d26",
   "metadata": {
    "execution": {
     "iopub.execute_input": "2023-01-24T15:40:38.889971Z",
     "iopub.status.busy": "2023-01-24T15:40:38.889556Z",
     "iopub.status.idle": "2023-01-24T15:40:39.844833Z",
     "shell.execute_reply": "2023-01-24T15:40:39.844103Z"
    }
   },
   "outputs": [
    {
     "name": "stderr",
     "output_type": "stream",
     "text": [
      "/opt/hostedtoolcache/Python/3.8.16/x64/lib/python3.8/site-packages/tqdm/auto.py:22: TqdmWarning: IProgress not found. Please update jupyter and ipywidgets. See https://ipywidgets.readthedocs.io/en/stable/user_install.html\n",
      "  from .autonotebook import tqdm as notebook_tqdm\n"
     ]
    }
   ],
   "source": [
    "import torch \n",
    "\n",
    "_TREE_DATA_1 = {'a': 1, 'b': 2, 'x': {'c': 3, 'd': 4}}\n",
    "_TREE_DATA_2 = {\n",
    "    'a': torch.randn(2, 3), \n",
    "    'x': {\n",
    "        'c': torch.randn(3, 4)\n",
    "    },\n",
    "}\n",
    "_TREE_DATA_3 = {\n",
    "    'obs': torch.randn(4, 84, 84),\n",
    "    'action': torch.randint(0, 6, size=(1,)),\n",
    "    'reward': torch.rand(1),\n",
    "}"
   ]
  },
  {
   "cell_type": "markdown",
   "id": "83461b25",
   "metadata": {},
   "source": [
    "## Read and Write Operation"
   ]
  },
  {
   "cell_type": "markdown",
   "id": "067b3f73",
   "metadata": {},
   "source": [
    "Reading and writing are the two most common operations in the tree data structure based on the data model (TreeValue and Tianshou Batch both belong to this type), so this section will compare the reading and writing performance of these two libraries."
   ]
  },
  {
   "cell_type": "markdown",
   "id": "5d09a5b7",
   "metadata": {},
   "source": [
    "### TreeValue's Get and Set"
   ]
  },
  {
   "cell_type": "code",
   "execution_count": 2,
   "id": "9519c4bb",
   "metadata": {
    "execution": {
     "iopub.execute_input": "2023-01-24T15:40:39.849967Z",
     "iopub.status.busy": "2023-01-24T15:40:39.848439Z",
     "iopub.status.idle": "2023-01-24T15:40:39.883772Z",
     "shell.execute_reply": "2023-01-24T15:40:39.883108Z"
    }
   },
   "outputs": [],
   "source": [
    "from treevalue import FastTreeValue\n",
    "\n",
    "t = FastTreeValue(_TREE_DATA_2)"
   ]
  },
  {
   "cell_type": "code",
   "execution_count": 3,
   "id": "11c37677",
   "metadata": {
    "execution": {
     "iopub.execute_input": "2023-01-24T15:40:39.887345Z",
     "iopub.status.busy": "2023-01-24T15:40:39.886819Z",
     "iopub.status.idle": "2023-01-24T15:40:39.897580Z",
     "shell.execute_reply": "2023-01-24T15:40:39.896929Z"
    }
   },
   "outputs": [
    {
     "data": {
      "text/plain": [
       "<FastTreeValue 0x7f350cfbe310>\n",
       "├── 'a' --> tensor([[-1.3875, -1.3430,  1.2040],\n",
       "│                   [ 0.0186,  0.7092,  0.1782]])\n",
       "└── 'x' --> <FastTreeValue 0x7f350cfbe3d0>\n",
       "    └── 'c' --> tensor([[ 0.6477, -0.4423,  0.8207, -1.5547],\n",
       "                        [-0.0033, -0.2649, -0.7218,  0.1888],\n",
       "                        [ 1.3174,  1.4163,  0.4638, -1.0683]])"
      ]
     },
     "execution_count": 3,
     "metadata": {},
     "output_type": "execute_result"
    }
   ],
   "source": [
    "t"
   ]
  },
  {
   "cell_type": "code",
   "execution_count": 4,
   "id": "fd70b0b9",
   "metadata": {
    "execution": {
     "iopub.execute_input": "2023-01-24T15:40:39.901097Z",
     "iopub.status.busy": "2023-01-24T15:40:39.900582Z",
     "iopub.status.idle": "2023-01-24T15:40:39.907506Z",
     "shell.execute_reply": "2023-01-24T15:40:39.906911Z"
    }
   },
   "outputs": [
    {
     "data": {
      "text/plain": [
       "tensor([[-1.3875, -1.3430,  1.2040],\n",
       "        [ 0.0186,  0.7092,  0.1782]])"
      ]
     },
     "execution_count": 4,
     "metadata": {},
     "output_type": "execute_result"
    }
   ],
   "source": [
    "t.a"
   ]
  },
  {
   "cell_type": "code",
   "execution_count": 5,
   "id": "c18197bd",
   "metadata": {
    "execution": {
     "iopub.execute_input": "2023-01-24T15:40:39.910954Z",
     "iopub.status.busy": "2023-01-24T15:40:39.910468Z",
     "iopub.status.idle": "2023-01-24T15:40:44.960916Z",
     "shell.execute_reply": "2023-01-24T15:40:44.959622Z"
    }
   },
   "outputs": [
    {
     "name": "stdout",
     "output_type": "stream",
     "text": [
      "62.3 ns ± 0.0207 ns per loop (mean ± std. dev. of 7 runs, 10,000,000 loops each)\n"
     ]
    }
   ],
   "source": [
    "%timeit t.a"
   ]
  },
  {
   "cell_type": "code",
   "execution_count": 6,
   "id": "bd52f867",
   "metadata": {
    "execution": {
     "iopub.execute_input": "2023-01-24T15:40:44.965049Z",
     "iopub.status.busy": "2023-01-24T15:40:44.964801Z",
     "iopub.status.idle": "2023-01-24T15:40:44.970677Z",
     "shell.execute_reply": "2023-01-24T15:40:44.970021Z"
    }
   },
   "outputs": [
    {
     "data": {
      "text/plain": [
       "<FastTreeValue 0x7f350cfbe310>\n",
       "├── 'a' --> tensor([[-0.4756, -0.6189,  0.0260],\n",
       "│                   [-0.8933, -0.1587,  0.2385]])\n",
       "└── 'x' --> <FastTreeValue 0x7f350cfbe3d0>\n",
       "    └── 'c' --> tensor([[ 0.6477, -0.4423,  0.8207, -1.5547],\n",
       "                        [-0.0033, -0.2649, -0.7218,  0.1888],\n",
       "                        [ 1.3174,  1.4163,  0.4638, -1.0683]])"
      ]
     },
     "execution_count": 6,
     "metadata": {},
     "output_type": "execute_result"
    }
   ],
   "source": [
    "new_value = torch.randn(2, 3)\n",
    "t.a = new_value\n",
    "\n",
    "t"
   ]
  },
  {
   "cell_type": "code",
   "execution_count": 7,
   "id": "bbe04d1c",
   "metadata": {
    "execution": {
     "iopub.execute_input": "2023-01-24T15:40:44.974161Z",
     "iopub.status.busy": "2023-01-24T15:40:44.973620Z",
     "iopub.status.idle": "2023-01-24T15:40:50.591973Z",
     "shell.execute_reply": "2023-01-24T15:40:50.591247Z"
    }
   },
   "outputs": [
    {
     "name": "stdout",
     "output_type": "stream",
     "text": [
      "69.5 ns ± 0.0287 ns per loop (mean ± std. dev. of 7 runs, 10,000,000 loops each)\n"
     ]
    }
   ],
   "source": [
    "%timeit t.a = new_value"
   ]
  },
  {
   "cell_type": "markdown",
   "id": "48c49731",
   "metadata": {},
   "source": [
    "### Tianshou Batch's Get and Set"
   ]
  },
  {
   "cell_type": "code",
   "execution_count": 8,
   "id": "f1bb14c1",
   "metadata": {
    "execution": {
     "iopub.execute_input": "2023-01-24T15:40:50.595625Z",
     "iopub.status.busy": "2023-01-24T15:40:50.595064Z",
     "iopub.status.idle": "2023-01-24T15:40:50.942067Z",
     "shell.execute_reply": "2023-01-24T15:40:50.941367Z"
    }
   },
   "outputs": [],
   "source": [
    "from tianshou.data import Batch\n",
    "\n",
    "b = Batch(**_TREE_DATA_2)"
   ]
  },
  {
   "cell_type": "code",
   "execution_count": 9,
   "id": "cb0777c3",
   "metadata": {
    "execution": {
     "iopub.execute_input": "2023-01-24T15:40:50.945799Z",
     "iopub.status.busy": "2023-01-24T15:40:50.945035Z",
     "iopub.status.idle": "2023-01-24T15:40:50.950728Z",
     "shell.execute_reply": "2023-01-24T15:40:50.950101Z"
    }
   },
   "outputs": [
    {
     "data": {
      "text/plain": [
       "Batch(\n",
       "    a: tensor([[-1.3875, -1.3430,  1.2040],\n",
       "               [ 0.0186,  0.7092,  0.1782]]),\n",
       "    x: Batch(\n",
       "           c: tensor([[ 0.6477, -0.4423,  0.8207, -1.5547],\n",
       "                      [-0.0033, -0.2649, -0.7218,  0.1888],\n",
       "                      [ 1.3174,  1.4163,  0.4638, -1.0683]]),\n",
       "       ),\n",
       ")"
      ]
     },
     "execution_count": 9,
     "metadata": {},
     "output_type": "execute_result"
    }
   ],
   "source": [
    "b"
   ]
  },
  {
   "cell_type": "code",
   "execution_count": 10,
   "id": "43ef8ea3",
   "metadata": {
    "execution": {
     "iopub.execute_input": "2023-01-24T15:40:50.953653Z",
     "iopub.status.busy": "2023-01-24T15:40:50.953194Z",
     "iopub.status.idle": "2023-01-24T15:40:50.957975Z",
     "shell.execute_reply": "2023-01-24T15:40:50.957347Z"
    }
   },
   "outputs": [
    {
     "data": {
      "text/plain": [
       "tensor([[-1.3875, -1.3430,  1.2040],\n",
       "        [ 0.0186,  0.7092,  0.1782]])"
      ]
     },
     "execution_count": 10,
     "metadata": {},
     "output_type": "execute_result"
    }
   ],
   "source": [
    "b.a"
   ]
  },
  {
   "cell_type": "code",
   "execution_count": 11,
   "id": "b785ab72",
   "metadata": {
    "execution": {
     "iopub.execute_input": "2023-01-24T15:40:50.960939Z",
     "iopub.status.busy": "2023-01-24T15:40:50.960716Z",
     "iopub.status.idle": "2023-01-24T15:40:55.729845Z",
     "shell.execute_reply": "2023-01-24T15:40:55.728908Z"
    }
   },
   "outputs": [
    {
     "name": "stdout",
     "output_type": "stream",
     "text": [
      "59.4 ns ± 0.581 ns per loop (mean ± std. dev. of 7 runs, 10,000,000 loops each)\n"
     ]
    }
   ],
   "source": [
    "%timeit b.a"
   ]
  },
  {
   "cell_type": "code",
   "execution_count": 12,
   "id": "ad54dc69",
   "metadata": {
    "execution": {
     "iopub.execute_input": "2023-01-24T15:40:55.733589Z",
     "iopub.status.busy": "2023-01-24T15:40:55.732987Z",
     "iopub.status.idle": "2023-01-24T15:40:55.739058Z",
     "shell.execute_reply": "2023-01-24T15:40:55.738354Z"
    }
   },
   "outputs": [
    {
     "data": {
      "text/plain": [
       "Batch(\n",
       "    a: tensor([[ 0.5158,  0.5694,  1.9901],\n",
       "               [-0.5177,  0.8187, -0.6208]]),\n",
       "    x: Batch(\n",
       "           c: tensor([[ 0.6477, -0.4423,  0.8207, -1.5547],\n",
       "                      [-0.0033, -0.2649, -0.7218,  0.1888],\n",
       "                      [ 1.3174,  1.4163,  0.4638, -1.0683]]),\n",
       "       ),\n",
       ")"
      ]
     },
     "execution_count": 12,
     "metadata": {},
     "output_type": "execute_result"
    }
   ],
   "source": [
    "new_value = torch.randn(2, 3)\n",
    "b.a = new_value\n",
    "\n",
    "b"
   ]
  },
  {
   "cell_type": "code",
   "execution_count": 13,
   "id": "29b1d0bf",
   "metadata": {
    "execution": {
     "iopub.execute_input": "2023-01-24T15:40:55.742053Z",
     "iopub.status.busy": "2023-01-24T15:40:55.741830Z",
     "iopub.status.idle": "2023-01-24T15:40:59.720649Z",
     "shell.execute_reply": "2023-01-24T15:40:59.719501Z"
    }
   },
   "outputs": [
    {
     "name": "stdout",
     "output_type": "stream",
     "text": [
      "489 ns ± 0.142 ns per loop (mean ± std. dev. of 7 runs, 1,000,000 loops each)\n"
     ]
    }
   ],
   "source": [
    "%timeit b.a = new_value"
   ]
  },
  {
   "cell_type": "markdown",
   "id": "b61ad1d0",
   "metadata": {},
   "source": [
    "## Initialization"
   ]
  },
  {
   "cell_type": "markdown",
   "id": "d70f0d54",
   "metadata": {},
   "source": [
    "### TreeValue's Initialization"
   ]
  },
  {
   "cell_type": "code",
   "execution_count": 14,
   "id": "d32a679b",
   "metadata": {
    "execution": {
     "iopub.execute_input": "2023-01-24T15:40:59.724186Z",
     "iopub.status.busy": "2023-01-24T15:40:59.723604Z",
     "iopub.status.idle": "2023-01-24T15:41:06.704678Z",
     "shell.execute_reply": "2023-01-24T15:41:06.703985Z"
    }
   },
   "outputs": [
    {
     "name": "stdout",
     "output_type": "stream",
     "text": [
      "860 ns ± 3.76 ns per loop (mean ± std. dev. of 7 runs, 1,000,000 loops each)\n"
     ]
    }
   ],
   "source": [
    "%timeit FastTreeValue(_TREE_DATA_1)"
   ]
  },
  {
   "cell_type": "markdown",
   "id": "24f3707b",
   "metadata": {},
   "source": [
    "### Tianshou Batch's Initialization"
   ]
  },
  {
   "cell_type": "code",
   "execution_count": 15,
   "id": "ac3958df",
   "metadata": {
    "execution": {
     "iopub.execute_input": "2023-01-24T15:41:06.708344Z",
     "iopub.status.busy": "2023-01-24T15:41:06.707680Z",
     "iopub.status.idle": "2023-01-24T15:41:15.907786Z",
     "shell.execute_reply": "2023-01-24T15:41:15.907189Z"
    }
   },
   "outputs": [
    {
     "name": "stdout",
     "output_type": "stream",
     "text": [
      "11.3 µs ± 12.3 ns per loop (mean ± std. dev. of 7 runs, 100,000 loops each)\n"
     ]
    }
   ],
   "source": [
    "%timeit Batch(**_TREE_DATA_1)"
   ]
  },
  {
   "cell_type": "markdown",
   "id": "1ab82e2d",
   "metadata": {},
   "source": [
    "## Deep Copy Operation"
   ]
  },
  {
   "cell_type": "code",
   "execution_count": 16,
   "id": "210a9442",
   "metadata": {
    "execution": {
     "iopub.execute_input": "2023-01-24T15:41:15.911239Z",
     "iopub.status.busy": "2023-01-24T15:41:15.910553Z",
     "iopub.status.idle": "2023-01-24T15:41:15.914000Z",
     "shell.execute_reply": "2023-01-24T15:41:15.913293Z"
    }
   },
   "outputs": [],
   "source": [
    "import copy"
   ]
  },
  {
   "cell_type": "markdown",
   "id": "5a736274",
   "metadata": {},
   "source": [
    "### Deep Copy of TreeValue"
   ]
  },
  {
   "cell_type": "code",
   "execution_count": 17,
   "id": "f9bcadd6",
   "metadata": {
    "execution": {
     "iopub.execute_input": "2023-01-24T15:41:15.917265Z",
     "iopub.status.busy": "2023-01-24T15:41:15.916822Z",
     "iopub.status.idle": "2023-01-24T15:41:27.316237Z",
     "shell.execute_reply": "2023-01-24T15:41:27.315669Z"
    }
   },
   "outputs": [
    {
     "name": "stdout",
     "output_type": "stream",
     "text": [
      "140 µs ± 1.9 µs per loop (mean ± std. dev. of 7 runs, 10,000 loops each)\n"
     ]
    }
   ],
   "source": [
    "t3 = FastTreeValue(_TREE_DATA_3)\n",
    "%timeit copy.deepcopy(t3)"
   ]
  },
  {
   "cell_type": "markdown",
   "id": "bf8be7ea",
   "metadata": {},
   "source": [
    "### Deep Copy of Tianshou Batch"
   ]
  },
  {
   "cell_type": "code",
   "execution_count": 18,
   "id": "91998e6f",
   "metadata": {
    "execution": {
     "iopub.execute_input": "2023-01-24T15:41:27.319742Z",
     "iopub.status.busy": "2023-01-24T15:41:27.319473Z",
     "iopub.status.idle": "2023-01-24T15:41:38.520031Z",
     "shell.execute_reply": "2023-01-24T15:41:38.519421Z"
    }
   },
   "outputs": [
    {
     "name": "stdout",
     "output_type": "stream",
     "text": [
      "138 µs ± 259 ns per loop (mean ± std. dev. of 7 runs, 10,000 loops each)\n"
     ]
    }
   ],
   "source": [
    "b3 = Batch(**_TREE_DATA_3)\n",
    "%timeit copy.deepcopy(b3)"
   ]
  },
  {
   "cell_type": "markdown",
   "id": "223162fb",
   "metadata": {},
   "source": [
    "## Stack, Concat and Split Operation"
   ]
  },
  {
   "cell_type": "markdown",
   "id": "85fa4a73",
   "metadata": {},
   "source": [
    "### Performance of TreeValue"
   ]
  },
  {
   "cell_type": "code",
   "execution_count": 19,
   "id": "a0c2b697",
   "metadata": {
    "execution": {
     "iopub.execute_input": "2023-01-24T15:41:38.523825Z",
     "iopub.status.busy": "2023-01-24T15:41:38.523360Z",
     "iopub.status.idle": "2023-01-24T15:41:38.526700Z",
     "shell.execute_reply": "2023-01-24T15:41:38.526158Z"
    }
   },
   "outputs": [],
   "source": [
    "trees = [FastTreeValue(_TREE_DATA_2) for _ in range(8)]"
   ]
  },
  {
   "cell_type": "code",
   "execution_count": 20,
   "id": "017ea5a5",
   "metadata": {
    "execution": {
     "iopub.execute_input": "2023-01-24T15:41:38.529579Z",
     "iopub.status.busy": "2023-01-24T15:41:38.529155Z",
     "iopub.status.idle": "2023-01-24T15:41:38.536231Z",
     "shell.execute_reply": "2023-01-24T15:41:38.535687Z"
    }
   },
   "outputs": [
    {
     "data": {
      "text/plain": [
       "<FastTreeValue 0x7f3467d06cd0>\n",
       "├── 'a' --> tensor([[[-1.3875, -1.3430,  1.2040],\n",
       "│                    [ 0.0186,  0.7092,  0.1782]],\n",
       "│           \n",
       "│                   [[-1.3875, -1.3430,  1.2040],\n",
       "│                    [ 0.0186,  0.7092,  0.1782]],\n",
       "│           \n",
       "│                   [[-1.3875, -1.3430,  1.2040],\n",
       "│                    [ 0.0186,  0.7092,  0.1782]],\n",
       "│           \n",
       "│                   [[-1.3875, -1.3430,  1.2040],\n",
       "│                    [ 0.0186,  0.7092,  0.1782]],\n",
       "│           \n",
       "│                   [[-1.3875, -1.3430,  1.2040],\n",
       "│                    [ 0.0186,  0.7092,  0.1782]],\n",
       "│           \n",
       "│                   [[-1.3875, -1.3430,  1.2040],\n",
       "│                    [ 0.0186,  0.7092,  0.1782]],\n",
       "│           \n",
       "│                   [[-1.3875, -1.3430,  1.2040],\n",
       "│                    [ 0.0186,  0.7092,  0.1782]],\n",
       "│           \n",
       "│                   [[-1.3875, -1.3430,  1.2040],\n",
       "│                    [ 0.0186,  0.7092,  0.1782]]])\n",
       "└── 'x' --> <FastTreeValue 0x7f346e91ffa0>\n",
       "    └── 'c' --> tensor([[[ 0.6477, -0.4423,  0.8207, -1.5547],\n",
       "                         [-0.0033, -0.2649, -0.7218,  0.1888],\n",
       "                         [ 1.3174,  1.4163,  0.4638, -1.0683]],\n",
       "                \n",
       "                        [[ 0.6477, -0.4423,  0.8207, -1.5547],\n",
       "                         [-0.0033, -0.2649, -0.7218,  0.1888],\n",
       "                         [ 1.3174,  1.4163,  0.4638, -1.0683]],\n",
       "                \n",
       "                        [[ 0.6477, -0.4423,  0.8207, -1.5547],\n",
       "                         [-0.0033, -0.2649, -0.7218,  0.1888],\n",
       "                         [ 1.3174,  1.4163,  0.4638, -1.0683]],\n",
       "                \n",
       "                        [[ 0.6477, -0.4423,  0.8207, -1.5547],\n",
       "                         [-0.0033, -0.2649, -0.7218,  0.1888],\n",
       "                         [ 1.3174,  1.4163,  0.4638, -1.0683]],\n",
       "                \n",
       "                        [[ 0.6477, -0.4423,  0.8207, -1.5547],\n",
       "                         [-0.0033, -0.2649, -0.7218,  0.1888],\n",
       "                         [ 1.3174,  1.4163,  0.4638, -1.0683]],\n",
       "                \n",
       "                        [[ 0.6477, -0.4423,  0.8207, -1.5547],\n",
       "                         [-0.0033, -0.2649, -0.7218,  0.1888],\n",
       "                         [ 1.3174,  1.4163,  0.4638, -1.0683]],\n",
       "                \n",
       "                        [[ 0.6477, -0.4423,  0.8207, -1.5547],\n",
       "                         [-0.0033, -0.2649, -0.7218,  0.1888],\n",
       "                         [ 1.3174,  1.4163,  0.4638, -1.0683]],\n",
       "                \n",
       "                        [[ 0.6477, -0.4423,  0.8207, -1.5547],\n",
       "                         [-0.0033, -0.2649, -0.7218,  0.1888],\n",
       "                         [ 1.3174,  1.4163,  0.4638, -1.0683]]])"
      ]
     },
     "execution_count": 20,
     "metadata": {},
     "output_type": "execute_result"
    }
   ],
   "source": [
    "t_stack = FastTreeValue.func(subside=True)(torch.stack)\n",
    "\n",
    "t_stack(trees)"
   ]
  },
  {
   "cell_type": "code",
   "execution_count": 21,
   "id": "f8b3f415",
   "metadata": {
    "execution": {
     "iopub.execute_input": "2023-01-24T15:41:38.539214Z",
     "iopub.status.busy": "2023-01-24T15:41:38.538786Z",
     "iopub.status.idle": "2023-01-24T15:41:41.172170Z",
     "shell.execute_reply": "2023-01-24T15:41:41.171385Z"
    }
   },
   "outputs": [
    {
     "name": "stdout",
     "output_type": "stream",
     "text": [
      "32.4 µs ± 86.1 ns per loop (mean ± std. dev. of 7 runs, 10,000 loops each)\n"
     ]
    }
   ],
   "source": [
    "%timeit t_stack(trees)"
   ]
  },
  {
   "cell_type": "code",
   "execution_count": 22,
   "id": "94b56771",
   "metadata": {
    "execution": {
     "iopub.execute_input": "2023-01-24T15:41:41.177059Z",
     "iopub.status.busy": "2023-01-24T15:41:41.176800Z",
     "iopub.status.idle": "2023-01-24T15:41:41.184675Z",
     "shell.execute_reply": "2023-01-24T15:41:41.184011Z"
    }
   },
   "outputs": [
    {
     "data": {
      "text/plain": [
       "<FastTreeValue 0x7f351404c2b0>\n",
       "├── 'a' --> tensor([[-1.3875, -1.3430,  1.2040],\n",
       "│                   [ 0.0186,  0.7092,  0.1782],\n",
       "│                   [-1.3875, -1.3430,  1.2040],\n",
       "│                   [ 0.0186,  0.7092,  0.1782],\n",
       "│                   [-1.3875, -1.3430,  1.2040],\n",
       "│                   [ 0.0186,  0.7092,  0.1782],\n",
       "│                   [-1.3875, -1.3430,  1.2040],\n",
       "│                   [ 0.0186,  0.7092,  0.1782],\n",
       "│                   [-1.3875, -1.3430,  1.2040],\n",
       "│                   [ 0.0186,  0.7092,  0.1782],\n",
       "│                   [-1.3875, -1.3430,  1.2040],\n",
       "│                   [ 0.0186,  0.7092,  0.1782],\n",
       "│                   [-1.3875, -1.3430,  1.2040],\n",
       "│                   [ 0.0186,  0.7092,  0.1782],\n",
       "│                   [-1.3875, -1.3430,  1.2040],\n",
       "│                   [ 0.0186,  0.7092,  0.1782]])\n",
       "└── 'x' --> <FastTreeValue 0x7f346ebf3af0>\n",
       "    └── 'c' --> tensor([[ 0.6477, -0.4423,  0.8207, -1.5547],\n",
       "                        [-0.0033, -0.2649, -0.7218,  0.1888],\n",
       "                        [ 1.3174,  1.4163,  0.4638, -1.0683],\n",
       "                        [ 0.6477, -0.4423,  0.8207, -1.5547],\n",
       "                        [-0.0033, -0.2649, -0.7218,  0.1888],\n",
       "                        [ 1.3174,  1.4163,  0.4638, -1.0683],\n",
       "                        [ 0.6477, -0.4423,  0.8207, -1.5547],\n",
       "                        [-0.0033, -0.2649, -0.7218,  0.1888],\n",
       "                        [ 1.3174,  1.4163,  0.4638, -1.0683],\n",
       "                        [ 0.6477, -0.4423,  0.8207, -1.5547],\n",
       "                        [-0.0033, -0.2649, -0.7218,  0.1888],\n",
       "                        [ 1.3174,  1.4163,  0.4638, -1.0683],\n",
       "                        [ 0.6477, -0.4423,  0.8207, -1.5547],\n",
       "                        [-0.0033, -0.2649, -0.7218,  0.1888],\n",
       "                        [ 1.3174,  1.4163,  0.4638, -1.0683],\n",
       "                        [ 0.6477, -0.4423,  0.8207, -1.5547],\n",
       "                        [-0.0033, -0.2649, -0.7218,  0.1888],\n",
       "                        [ 1.3174,  1.4163,  0.4638, -1.0683],\n",
       "                        [ 0.6477, -0.4423,  0.8207, -1.5547],\n",
       "                        [-0.0033, -0.2649, -0.7218,  0.1888],\n",
       "                        [ 1.3174,  1.4163,  0.4638, -1.0683],\n",
       "                        [ 0.6477, -0.4423,  0.8207, -1.5547],\n",
       "                        [-0.0033, -0.2649, -0.7218,  0.1888],\n",
       "                        [ 1.3174,  1.4163,  0.4638, -1.0683]])"
      ]
     },
     "execution_count": 22,
     "metadata": {},
     "output_type": "execute_result"
    }
   ],
   "source": [
    "t_cat = FastTreeValue.func(subside=True)(torch.cat)\n",
    "\n",
    "t_cat(trees)"
   ]
  },
  {
   "cell_type": "code",
   "execution_count": 23,
   "id": "5e9c06a6",
   "metadata": {
    "execution": {
     "iopub.execute_input": "2023-01-24T15:41:41.187907Z",
     "iopub.status.busy": "2023-01-24T15:41:41.187525Z",
     "iopub.status.idle": "2023-01-24T15:41:43.716245Z",
     "shell.execute_reply": "2023-01-24T15:41:43.715646Z"
    }
   },
   "outputs": [
    {
     "name": "stdout",
     "output_type": "stream",
     "text": [
      "31.1 µs ± 105 ns per loop (mean ± std. dev. of 7 runs, 10,000 loops each)\n"
     ]
    }
   ],
   "source": [
    "%timeit t_cat(trees)"
   ]
  },
  {
   "cell_type": "code",
   "execution_count": 24,
   "id": "a3ab5c8f",
   "metadata": {
    "execution": {
     "iopub.execute_input": "2023-01-24T15:41:43.719452Z",
     "iopub.status.busy": "2023-01-24T15:41:43.718849Z",
     "iopub.status.idle": "2023-01-24T15:41:48.367994Z",
     "shell.execute_reply": "2023-01-24T15:41:48.367406Z"
    }
   },
   "outputs": [
    {
     "name": "stdout",
     "output_type": "stream",
     "text": [
      "57.2 µs ± 81.2 ns per loop (mean ± std. dev. of 7 runs, 10,000 loops each)\n"
     ]
    }
   ],
   "source": [
    "t_split = FastTreeValue.func(rise=True)(torch.split)\n",
    "tree = FastTreeValue({\n",
    "    'obs': torch.randn(8, 4, 84, 84),\n",
    "    'action': torch.randint(0, 6, size=(8, 1,)),\n",
    "    'reward': torch.rand(8, 1),\n",
    "})\n",
    "\n",
    "%timeit t_split(tree, 1)"
   ]
  },
  {
   "cell_type": "markdown",
   "id": "31c3ec0b",
   "metadata": {},
   "source": [
    "### Performance of Tianshou Batch"
   ]
  },
  {
   "cell_type": "code",
   "execution_count": 25,
   "id": "9ead828a",
   "metadata": {
    "execution": {
     "iopub.execute_input": "2023-01-24T15:41:48.371280Z",
     "iopub.status.busy": "2023-01-24T15:41:48.370798Z",
     "iopub.status.idle": "2023-01-24T15:41:48.378162Z",
     "shell.execute_reply": "2023-01-24T15:41:48.377489Z"
    }
   },
   "outputs": [
    {
     "data": {
      "text/plain": [
       "Batch(\n",
       "    x: Batch(\n",
       "           c: tensor([[[ 0.6477, -0.4423,  0.8207, -1.5547],\n",
       "                       [-0.0033, -0.2649, -0.7218,  0.1888],\n",
       "                       [ 1.3174,  1.4163,  0.4638, -1.0683]],\n",
       "              \n",
       "                      [[ 0.6477, -0.4423,  0.8207, -1.5547],\n",
       "                       [-0.0033, -0.2649, -0.7218,  0.1888],\n",
       "                       [ 1.3174,  1.4163,  0.4638, -1.0683]],\n",
       "              \n",
       "                      [[ 0.6477, -0.4423,  0.8207, -1.5547],\n",
       "                       [-0.0033, -0.2649, -0.7218,  0.1888],\n",
       "                       [ 1.3174,  1.4163,  0.4638, -1.0683]],\n",
       "              \n",
       "                      [[ 0.6477, -0.4423,  0.8207, -1.5547],\n",
       "                       [-0.0033, -0.2649, -0.7218,  0.1888],\n",
       "                       [ 1.3174,  1.4163,  0.4638, -1.0683]],\n",
       "              \n",
       "                      [[ 0.6477, -0.4423,  0.8207, -1.5547],\n",
       "                       [-0.0033, -0.2649, -0.7218,  0.1888],\n",
       "                       [ 1.3174,  1.4163,  0.4638, -1.0683]],\n",
       "              \n",
       "                      [[ 0.6477, -0.4423,  0.8207, -1.5547],\n",
       "                       [-0.0033, -0.2649, -0.7218,  0.1888],\n",
       "                       [ 1.3174,  1.4163,  0.4638, -1.0683]],\n",
       "              \n",
       "                      [[ 0.6477, -0.4423,  0.8207, -1.5547],\n",
       "                       [-0.0033, -0.2649, -0.7218,  0.1888],\n",
       "                       [ 1.3174,  1.4163,  0.4638, -1.0683]],\n",
       "              \n",
       "                      [[ 0.6477, -0.4423,  0.8207, -1.5547],\n",
       "                       [-0.0033, -0.2649, -0.7218,  0.1888],\n",
       "                       [ 1.3174,  1.4163,  0.4638, -1.0683]]]),\n",
       "       ),\n",
       "    a: tensor([[[-1.3875, -1.3430,  1.2040],\n",
       "                [ 0.0186,  0.7092,  0.1782]],\n",
       "       \n",
       "               [[-1.3875, -1.3430,  1.2040],\n",
       "                [ 0.0186,  0.7092,  0.1782]],\n",
       "       \n",
       "               [[-1.3875, -1.3430,  1.2040],\n",
       "                [ 0.0186,  0.7092,  0.1782]],\n",
       "       \n",
       "               [[-1.3875, -1.3430,  1.2040],\n",
       "                [ 0.0186,  0.7092,  0.1782]],\n",
       "       \n",
       "               [[-1.3875, -1.3430,  1.2040],\n",
       "                [ 0.0186,  0.7092,  0.1782]],\n",
       "       \n",
       "               [[-1.3875, -1.3430,  1.2040],\n",
       "                [ 0.0186,  0.7092,  0.1782]],\n",
       "       \n",
       "               [[-1.3875, -1.3430,  1.2040],\n",
       "                [ 0.0186,  0.7092,  0.1782]],\n",
       "       \n",
       "               [[-1.3875, -1.3430,  1.2040],\n",
       "                [ 0.0186,  0.7092,  0.1782]]]),\n",
       ")"
      ]
     },
     "execution_count": 25,
     "metadata": {},
     "output_type": "execute_result"
    }
   ],
   "source": [
    "batches = [Batch(**_TREE_DATA_2) for _ in range(8)]\n",
    "\n",
    "Batch.stack(batches)"
   ]
  },
  {
   "cell_type": "code",
   "execution_count": 26,
   "id": "ec9037a3",
   "metadata": {
    "execution": {
     "iopub.execute_input": "2023-01-24T15:41:48.381123Z",
     "iopub.status.busy": "2023-01-24T15:41:48.380753Z",
     "iopub.status.idle": "2023-01-24T15:41:54.736198Z",
     "shell.execute_reply": "2023-01-24T15:41:54.735102Z"
    }
   },
   "outputs": [
    {
     "name": "stdout",
     "output_type": "stream",
     "text": [
      "78.3 µs ± 98.3 ns per loop (mean ± std. dev. of 7 runs, 10,000 loops each)\n"
     ]
    }
   ],
   "source": [
    "%timeit Batch.stack(batches)"
   ]
  },
  {
   "cell_type": "code",
   "execution_count": 27,
   "id": "cb8ab77e",
   "metadata": {
    "execution": {
     "iopub.execute_input": "2023-01-24T15:41:54.739342Z",
     "iopub.status.busy": "2023-01-24T15:41:54.738954Z",
     "iopub.status.idle": "2023-01-24T15:41:54.745948Z",
     "shell.execute_reply": "2023-01-24T15:41:54.745250Z"
    }
   },
   "outputs": [
    {
     "data": {
      "text/plain": [
       "Batch(\n",
       "    x: Batch(\n",
       "           c: tensor([[ 0.6477, -0.4423,  0.8207, -1.5547],\n",
       "                      [-0.0033, -0.2649, -0.7218,  0.1888],\n",
       "                      [ 1.3174,  1.4163,  0.4638, -1.0683],\n",
       "                      [ 0.6477, -0.4423,  0.8207, -1.5547],\n",
       "                      [-0.0033, -0.2649, -0.7218,  0.1888],\n",
       "                      [ 1.3174,  1.4163,  0.4638, -1.0683],\n",
       "                      [ 0.6477, -0.4423,  0.8207, -1.5547],\n",
       "                      [-0.0033, -0.2649, -0.7218,  0.1888],\n",
       "                      [ 1.3174,  1.4163,  0.4638, -1.0683],\n",
       "                      [ 0.6477, -0.4423,  0.8207, -1.5547],\n",
       "                      [-0.0033, -0.2649, -0.7218,  0.1888],\n",
       "                      [ 1.3174,  1.4163,  0.4638, -1.0683],\n",
       "                      [ 0.6477, -0.4423,  0.8207, -1.5547],\n",
       "                      [-0.0033, -0.2649, -0.7218,  0.1888],\n",
       "                      [ 1.3174,  1.4163,  0.4638, -1.0683],\n",
       "                      [ 0.6477, -0.4423,  0.8207, -1.5547],\n",
       "                      [-0.0033, -0.2649, -0.7218,  0.1888],\n",
       "                      [ 1.3174,  1.4163,  0.4638, -1.0683],\n",
       "                      [ 0.6477, -0.4423,  0.8207, -1.5547],\n",
       "                      [-0.0033, -0.2649, -0.7218,  0.1888],\n",
       "                      [ 1.3174,  1.4163,  0.4638, -1.0683],\n",
       "                      [ 0.6477, -0.4423,  0.8207, -1.5547],\n",
       "                      [-0.0033, -0.2649, -0.7218,  0.1888],\n",
       "                      [ 1.3174,  1.4163,  0.4638, -1.0683]]),\n",
       "       ),\n",
       "    a: tensor([[-1.3875, -1.3430,  1.2040],\n",
       "               [ 0.0186,  0.7092,  0.1782],\n",
       "               [-1.3875, -1.3430,  1.2040],\n",
       "               [ 0.0186,  0.7092,  0.1782],\n",
       "               [-1.3875, -1.3430,  1.2040],\n",
       "               [ 0.0186,  0.7092,  0.1782],\n",
       "               [-1.3875, -1.3430,  1.2040],\n",
       "               [ 0.0186,  0.7092,  0.1782],\n",
       "               [-1.3875, -1.3430,  1.2040],\n",
       "               [ 0.0186,  0.7092,  0.1782],\n",
       "               [-1.3875, -1.3430,  1.2040],\n",
       "               [ 0.0186,  0.7092,  0.1782],\n",
       "               [-1.3875, -1.3430,  1.2040],\n",
       "               [ 0.0186,  0.7092,  0.1782],\n",
       "               [-1.3875, -1.3430,  1.2040],\n",
       "               [ 0.0186,  0.7092,  0.1782]]),\n",
       ")"
      ]
     },
     "execution_count": 27,
     "metadata": {},
     "output_type": "execute_result"
    }
   ],
   "source": [
    "Batch.cat(batches)"
   ]
  },
  {
   "cell_type": "code",
   "execution_count": 28,
   "id": "18dfb045",
   "metadata": {
    "execution": {
     "iopub.execute_input": "2023-01-24T15:41:54.748859Z",
     "iopub.status.busy": "2023-01-24T15:41:54.748487Z",
     "iopub.status.idle": "2023-01-24T15:42:06.275994Z",
     "shell.execute_reply": "2023-01-24T15:42:06.274874Z"
    }
   },
   "outputs": [
    {
     "name": "stdout",
     "output_type": "stream",
     "text": [
      "142 µs ± 214 ns per loop (mean ± std. dev. of 7 runs, 10,000 loops each)\n"
     ]
    }
   ],
   "source": [
    "%timeit Batch.cat(batches)"
   ]
  },
  {
   "cell_type": "code",
   "execution_count": 29,
   "id": "c6688e51",
   "metadata": {
    "execution": {
     "iopub.execute_input": "2023-01-24T15:42:06.279375Z",
     "iopub.status.busy": "2023-01-24T15:42:06.278794Z",
     "iopub.status.idle": "2023-01-24T15:42:08.816919Z",
     "shell.execute_reply": "2023-01-24T15:42:08.816331Z"
    }
   },
   "outputs": [
    {
     "name": "stdout",
     "output_type": "stream",
     "text": [
      "312 µs ± 1.65 µs per loop (mean ± std. dev. of 7 runs, 1,000 loops each)\n"
     ]
    }
   ],
   "source": [
    "batch = Batch({\n",
    "    'obs': torch.randn(8, 4, 84, 84),\n",
    "    'action': torch.randint(0, 6, size=(8, 1,)),\n",
    "    'reward': torch.rand(8, 1)}\n",
    ")\n",
    "\n",
    "%timeit list(Batch.split(batch, 1, shuffle=False, merge_last=True))"
   ]
  },
  {
   "cell_type": "code",
   "execution_count": null,
   "id": "2539fbd9",
   "metadata": {},
   "outputs": [],
   "source": []
  }
 ],
 "metadata": {
  "kernelspec": {
   "display_name": "Python 3 (ipykernel)",
   "language": "python",
   "name": "python3"
  },
  "language_info": {
   "codemirror_mode": {
    "name": "ipython",
    "version": 3
   },
   "file_extension": ".py",
   "mimetype": "text/x-python",
   "name": "python",
   "nbconvert_exporter": "python",
   "pygments_lexer": "ipython3",
   "version": "3.8.16"
  }
 },
 "nbformat": 4,
 "nbformat_minor": 5
}
