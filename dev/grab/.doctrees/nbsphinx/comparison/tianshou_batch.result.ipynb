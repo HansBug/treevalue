{
 "cells": [
  {
   "cell_type": "markdown",
   "id": "9d39d946",
   "metadata": {},
   "source": [
    "# Comparison Between TreeValue and Tianshou Batch"
   ]
  },
  {
   "cell_type": "markdown",
   "id": "3c6db2d4",
   "metadata": {},
   "source": [
    "In this section, we will take a look at the feature and performance of the [Tianshou Batch](https://github.com/thu-ml/tianshou) library, which is developed by Tsinghua Machine Learning Group."
   ]
  },
  {
   "cell_type": "markdown",
   "id": "069361b0",
   "metadata": {},
   "source": [
    "Before starting the comparison, let us define some thing."
   ]
  },
  {
   "cell_type": "code",
   "execution_count": 1,
   "id": "06fc8d26",
   "metadata": {
    "execution": {
     "iopub.execute_input": "2023-01-24T16:49:02.183784Z",
     "iopub.status.busy": "2023-01-24T16:49:02.183541Z",
     "iopub.status.idle": "2023-01-24T16:49:03.110138Z",
     "shell.execute_reply": "2023-01-24T16:49:03.109458Z"
    }
   },
   "outputs": [
    {
     "name": "stderr",
     "output_type": "stream",
     "text": [
      "/opt/hostedtoolcache/Python/3.8.16/x64/lib/python3.8/site-packages/tqdm/auto.py:22: TqdmWarning: IProgress not found. Please update jupyter and ipywidgets. See https://ipywidgets.readthedocs.io/en/stable/user_install.html\n",
      "  from .autonotebook import tqdm as notebook_tqdm\n"
     ]
    }
   ],
   "source": [
    "import torch \n",
    "\n",
    "_TREE_DATA_1 = {'a': 1, 'b': 2, 'x': {'c': 3, 'd': 4}}\n",
    "_TREE_DATA_2 = {\n",
    "    'a': torch.randn(2, 3), \n",
    "    'x': {\n",
    "        'c': torch.randn(3, 4)\n",
    "    },\n",
    "}\n",
    "_TREE_DATA_3 = {\n",
    "    'obs': torch.randn(4, 84, 84),\n",
    "    'action': torch.randint(0, 6, size=(1,)),\n",
    "    'reward': torch.rand(1),\n",
    "}"
   ]
  },
  {
   "cell_type": "markdown",
   "id": "83461b25",
   "metadata": {},
   "source": [
    "## Read and Write Operation"
   ]
  },
  {
   "cell_type": "markdown",
   "id": "067b3f73",
   "metadata": {},
   "source": [
    "Reading and writing are the two most common operations in the tree data structure based on the data model (TreeValue and Tianshou Batch both belong to this type), so this section will compare the reading and writing performance of these two libraries."
   ]
  },
  {
   "cell_type": "markdown",
   "id": "5d09a5b7",
   "metadata": {},
   "source": [
    "### TreeValue's Get and Set"
   ]
  },
  {
   "cell_type": "code",
   "execution_count": 2,
   "id": "9519c4bb",
   "metadata": {
    "execution": {
     "iopub.execute_input": "2023-01-24T16:49:03.113755Z",
     "iopub.status.busy": "2023-01-24T16:49:03.113251Z",
     "iopub.status.idle": "2023-01-24T16:49:03.146130Z",
     "shell.execute_reply": "2023-01-24T16:49:03.145498Z"
    }
   },
   "outputs": [],
   "source": [
    "from treevalue import FastTreeValue\n",
    "\n",
    "t = FastTreeValue(_TREE_DATA_2)"
   ]
  },
  {
   "cell_type": "code",
   "execution_count": 3,
   "id": "11c37677",
   "metadata": {
    "execution": {
     "iopub.execute_input": "2023-01-24T16:49:03.149572Z",
     "iopub.status.busy": "2023-01-24T16:49:03.149002Z",
     "iopub.status.idle": "2023-01-24T16:49:03.157643Z",
     "shell.execute_reply": "2023-01-24T16:49:03.156987Z"
    }
   },
   "outputs": [
    {
     "data": {
      "text/plain": [
       "<FastTreeValue 0x7fac44870e80>\n",
       "├── 'a' --> tensor([[-0.4472, -0.2492, -1.1582],\n",
       "│                   [-0.3714, -0.3435, -0.6622]])\n",
       "└── 'x' --> <FastTreeValue 0x7fac44870eb0>\n",
       "    └── 'c' --> tensor([[-2.3993, -0.7059, -1.0204,  1.5734],\n",
       "                        [-0.5181, -0.8591,  0.2371, -0.4617],\n",
       "                        [-0.1982,  0.5489, -0.4995,  0.3107]])"
      ]
     },
     "execution_count": 3,
     "metadata": {},
     "output_type": "execute_result"
    }
   ],
   "source": [
    "t"
   ]
  },
  {
   "cell_type": "code",
   "execution_count": 4,
   "id": "fd70b0b9",
   "metadata": {
    "execution": {
     "iopub.execute_input": "2023-01-24T16:49:03.160693Z",
     "iopub.status.busy": "2023-01-24T16:49:03.160456Z",
     "iopub.status.idle": "2023-01-24T16:49:03.165589Z",
     "shell.execute_reply": "2023-01-24T16:49:03.164940Z"
    }
   },
   "outputs": [
    {
     "data": {
      "text/plain": [
       "tensor([[-0.4472, -0.2492, -1.1582],\n",
       "        [-0.3714, -0.3435, -0.6622]])"
      ]
     },
     "execution_count": 4,
     "metadata": {},
     "output_type": "execute_result"
    }
   ],
   "source": [
    "t.a"
   ]
  },
  {
   "cell_type": "code",
   "execution_count": 5,
   "id": "c18197bd",
   "metadata": {
    "execution": {
     "iopub.execute_input": "2023-01-24T16:49:03.168535Z",
     "iopub.status.busy": "2023-01-24T16:49:03.168319Z",
     "iopub.status.idle": "2023-01-24T16:49:08.482288Z",
     "shell.execute_reply": "2023-01-24T16:49:08.481696Z"
    }
   },
   "outputs": [
    {
     "name": "stdout",
     "output_type": "stream",
     "text": [
      "65.4 ns ± 0.109 ns per loop (mean ± std. dev. of 7 runs, 10,000,000 loops each)\n"
     ]
    }
   ],
   "source": [
    "%timeit t.a"
   ]
  },
  {
   "cell_type": "code",
   "execution_count": 6,
   "id": "bd52f867",
   "metadata": {
    "execution": {
     "iopub.execute_input": "2023-01-24T16:49:08.485192Z",
     "iopub.status.busy": "2023-01-24T16:49:08.484972Z",
     "iopub.status.idle": "2023-01-24T16:49:08.490817Z",
     "shell.execute_reply": "2023-01-24T16:49:08.490155Z"
    }
   },
   "outputs": [
    {
     "data": {
      "text/plain": [
       "<FastTreeValue 0x7fac44870e80>\n",
       "├── 'a' --> tensor([[-0.7737,  0.6632, -0.9945],\n",
       "│                   [-1.1975, -0.9079, -0.6268]])\n",
       "└── 'x' --> <FastTreeValue 0x7fac44870eb0>\n",
       "    └── 'c' --> tensor([[-2.3993, -0.7059, -1.0204,  1.5734],\n",
       "                        [-0.5181, -0.8591,  0.2371, -0.4617],\n",
       "                        [-0.1982,  0.5489, -0.4995,  0.3107]])"
      ]
     },
     "execution_count": 6,
     "metadata": {},
     "output_type": "execute_result"
    }
   ],
   "source": [
    "new_value = torch.randn(2, 3)\n",
    "t.a = new_value\n",
    "\n",
    "t"
   ]
  },
  {
   "cell_type": "code",
   "execution_count": 7,
   "id": "bbe04d1c",
   "metadata": {
    "execution": {
     "iopub.execute_input": "2023-01-24T16:49:08.493705Z",
     "iopub.status.busy": "2023-01-24T16:49:08.493339Z",
     "iopub.status.idle": "2023-01-24T16:49:14.058638Z",
     "shell.execute_reply": "2023-01-24T16:49:14.058046Z"
    }
   },
   "outputs": [
    {
     "name": "stdout",
     "output_type": "stream",
     "text": [
      "68.5 ns ± 0.0283 ns per loop (mean ± std. dev. of 7 runs, 10,000,000 loops each)\n"
     ]
    }
   ],
   "source": [
    "%timeit t.a = new_value"
   ]
  },
  {
   "cell_type": "markdown",
   "id": "48c49731",
   "metadata": {},
   "source": [
    "### Tianshou Batch's Get and Set"
   ]
  },
  {
   "cell_type": "code",
   "execution_count": 8,
   "id": "f1bb14c1",
   "metadata": {
    "execution": {
     "iopub.execute_input": "2023-01-24T16:49:14.062577Z",
     "iopub.status.busy": "2023-01-24T16:49:14.062080Z",
     "iopub.status.idle": "2023-01-24T16:49:14.408064Z",
     "shell.execute_reply": "2023-01-24T16:49:14.407348Z"
    }
   },
   "outputs": [],
   "source": [
    "from tianshou.data import Batch\n",
    "\n",
    "b = Batch(**_TREE_DATA_2)"
   ]
  },
  {
   "cell_type": "code",
   "execution_count": 9,
   "id": "cb0777c3",
   "metadata": {
    "execution": {
     "iopub.execute_input": "2023-01-24T16:49:14.411764Z",
     "iopub.status.busy": "2023-01-24T16:49:14.411011Z",
     "iopub.status.idle": "2023-01-24T16:49:14.416631Z",
     "shell.execute_reply": "2023-01-24T16:49:14.416009Z"
    }
   },
   "outputs": [
    {
     "data": {
      "text/plain": [
       "Batch(\n",
       "    a: tensor([[-0.4472, -0.2492, -1.1582],\n",
       "               [-0.3714, -0.3435, -0.6622]]),\n",
       "    x: Batch(\n",
       "           c: tensor([[-2.3993, -0.7059, -1.0204,  1.5734],\n",
       "                      [-0.5181, -0.8591,  0.2371, -0.4617],\n",
       "                      [-0.1982,  0.5489, -0.4995,  0.3107]]),\n",
       "       ),\n",
       ")"
      ]
     },
     "execution_count": 9,
     "metadata": {},
     "output_type": "execute_result"
    }
   ],
   "source": [
    "b"
   ]
  },
  {
   "cell_type": "code",
   "execution_count": 10,
   "id": "43ef8ea3",
   "metadata": {
    "execution": {
     "iopub.execute_input": "2023-01-24T16:49:14.419652Z",
     "iopub.status.busy": "2023-01-24T16:49:14.419124Z",
     "iopub.status.idle": "2023-01-24T16:49:14.423967Z",
     "shell.execute_reply": "2023-01-24T16:49:14.423291Z"
    }
   },
   "outputs": [
    {
     "data": {
      "text/plain": [
       "tensor([[-0.4472, -0.2492, -1.1582],\n",
       "        [-0.3714, -0.3435, -0.6622]])"
      ]
     },
     "execution_count": 10,
     "metadata": {},
     "output_type": "execute_result"
    }
   ],
   "source": [
    "b.a"
   ]
  },
  {
   "cell_type": "code",
   "execution_count": 11,
   "id": "b785ab72",
   "metadata": {
    "execution": {
     "iopub.execute_input": "2023-01-24T16:49:14.426976Z",
     "iopub.status.busy": "2023-01-24T16:49:14.426632Z",
     "iopub.status.idle": "2023-01-24T16:49:19.088296Z",
     "shell.execute_reply": "2023-01-24T16:49:19.087539Z"
    }
   },
   "outputs": [
    {
     "name": "stdout",
     "output_type": "stream",
     "text": [
      "57.4 ns ± 0.0546 ns per loop (mean ± std. dev. of 7 runs, 10,000,000 loops each)\n"
     ]
    }
   ],
   "source": [
    "%timeit b.a"
   ]
  },
  {
   "cell_type": "code",
   "execution_count": 12,
   "id": "ad54dc69",
   "metadata": {
    "execution": {
     "iopub.execute_input": "2023-01-24T16:49:19.091500Z",
     "iopub.status.busy": "2023-01-24T16:49:19.091258Z",
     "iopub.status.idle": "2023-01-24T16:49:19.097333Z",
     "shell.execute_reply": "2023-01-24T16:49:19.096633Z"
    }
   },
   "outputs": [
    {
     "data": {
      "text/plain": [
       "Batch(\n",
       "    a: tensor([[-2.6296, -0.7235,  2.9548],\n",
       "               [ 0.7702,  0.6441,  0.3842]]),\n",
       "    x: Batch(\n",
       "           c: tensor([[-2.3993, -0.7059, -1.0204,  1.5734],\n",
       "                      [-0.5181, -0.8591,  0.2371, -0.4617],\n",
       "                      [-0.1982,  0.5489, -0.4995,  0.3107]]),\n",
       "       ),\n",
       ")"
      ]
     },
     "execution_count": 12,
     "metadata": {},
     "output_type": "execute_result"
    }
   ],
   "source": [
    "new_value = torch.randn(2, 3)\n",
    "b.a = new_value\n",
    "\n",
    "b"
   ]
  },
  {
   "cell_type": "code",
   "execution_count": 13,
   "id": "29b1d0bf",
   "metadata": {
    "execution": {
     "iopub.execute_input": "2023-01-24T16:49:19.100276Z",
     "iopub.status.busy": "2023-01-24T16:49:19.100036Z",
     "iopub.status.idle": "2023-01-24T16:49:23.072971Z",
     "shell.execute_reply": "2023-01-24T16:49:23.072383Z"
    }
   },
   "outputs": [
    {
     "name": "stdout",
     "output_type": "stream",
     "text": [
      "489 ns ± 0.0685 ns per loop (mean ± std. dev. of 7 runs, 1,000,000 loops each)\n"
     ]
    }
   ],
   "source": [
    "%timeit b.a = new_value"
   ]
  },
  {
   "cell_type": "markdown",
   "id": "b61ad1d0",
   "metadata": {},
   "source": [
    "## Initialization"
   ]
  },
  {
   "cell_type": "markdown",
   "id": "d70f0d54",
   "metadata": {},
   "source": [
    "### TreeValue's Initialization"
   ]
  },
  {
   "cell_type": "code",
   "execution_count": 14,
   "id": "d32a679b",
   "metadata": {
    "execution": {
     "iopub.execute_input": "2023-01-24T16:49:23.076272Z",
     "iopub.status.busy": "2023-01-24T16:49:23.075800Z",
     "iopub.status.idle": "2023-01-24T16:49:29.929082Z",
     "shell.execute_reply": "2023-01-24T16:49:29.928498Z"
    }
   },
   "outputs": [
    {
     "name": "stdout",
     "output_type": "stream",
     "text": [
      "844 ns ± 0.14 ns per loop (mean ± std. dev. of 7 runs, 1,000,000 loops each)\n"
     ]
    }
   ],
   "source": [
    "%timeit FastTreeValue(_TREE_DATA_1)"
   ]
  },
  {
   "cell_type": "markdown",
   "id": "24f3707b",
   "metadata": {},
   "source": [
    "### Tianshou Batch's Initialization"
   ]
  },
  {
   "cell_type": "code",
   "execution_count": 15,
   "id": "ac3958df",
   "metadata": {
    "execution": {
     "iopub.execute_input": "2023-01-24T16:49:29.932195Z",
     "iopub.status.busy": "2023-01-24T16:49:29.931962Z",
     "iopub.status.idle": "2023-01-24T16:49:39.126128Z",
     "shell.execute_reply": "2023-01-24T16:49:39.125547Z"
    }
   },
   "outputs": [
    {
     "name": "stdout",
     "output_type": "stream",
     "text": [
      "11.3 µs ± 46.3 ns per loop (mean ± std. dev. of 7 runs, 100,000 loops each)\n"
     ]
    }
   ],
   "source": [
    "%timeit Batch(**_TREE_DATA_1)"
   ]
  },
  {
   "cell_type": "markdown",
   "id": "1ab82e2d",
   "metadata": {},
   "source": [
    "## Deep Copy Operation"
   ]
  },
  {
   "cell_type": "code",
   "execution_count": 16,
   "id": "210a9442",
   "metadata": {
    "execution": {
     "iopub.execute_input": "2023-01-24T16:49:39.129147Z",
     "iopub.status.busy": "2023-01-24T16:49:39.128751Z",
     "iopub.status.idle": "2023-01-24T16:49:39.131953Z",
     "shell.execute_reply": "2023-01-24T16:49:39.131272Z"
    }
   },
   "outputs": [],
   "source": [
    "import copy"
   ]
  },
  {
   "cell_type": "markdown",
   "id": "5a736274",
   "metadata": {},
   "source": [
    "### Deep Copy of TreeValue"
   ]
  },
  {
   "cell_type": "code",
   "execution_count": 17,
   "id": "f9bcadd6",
   "metadata": {
    "execution": {
     "iopub.execute_input": "2023-01-24T16:49:39.134850Z",
     "iopub.status.busy": "2023-01-24T16:49:39.134626Z",
     "iopub.status.idle": "2023-01-24T16:49:50.118461Z",
     "shell.execute_reply": "2023-01-24T16:49:50.117865Z"
    }
   },
   "outputs": [
    {
     "name": "stdout",
     "output_type": "stream",
     "text": [
      "135 µs ± 324 ns per loop (mean ± std. dev. of 7 runs, 10,000 loops each)\n"
     ]
    }
   ],
   "source": [
    "t3 = FastTreeValue(_TREE_DATA_3)\n",
    "%timeit copy.deepcopy(t3)"
   ]
  },
  {
   "cell_type": "markdown",
   "id": "bf8be7ea",
   "metadata": {},
   "source": [
    "### Deep Copy of Tianshou Batch"
   ]
  },
  {
   "cell_type": "code",
   "execution_count": 18,
   "id": "91998e6f",
   "metadata": {
    "execution": {
     "iopub.execute_input": "2023-01-24T16:49:50.122866Z",
     "iopub.status.busy": "2023-01-24T16:49:50.122202Z",
     "iopub.status.idle": "2023-01-24T16:50:01.560528Z",
     "shell.execute_reply": "2023-01-24T16:50:01.559952Z"
    }
   },
   "outputs": [
    {
     "name": "stdout",
     "output_type": "stream",
     "text": [
      "139 µs ± 489 ns per loop (mean ± std. dev. of 7 runs, 10,000 loops each)\n"
     ]
    }
   ],
   "source": [
    "b3 = Batch(**_TREE_DATA_3)\n",
    "%timeit copy.deepcopy(b3)"
   ]
  },
  {
   "cell_type": "markdown",
   "id": "223162fb",
   "metadata": {},
   "source": [
    "## Stack, Concat and Split Operation"
   ]
  },
  {
   "cell_type": "markdown",
   "id": "85fa4a73",
   "metadata": {},
   "source": [
    "### Performance of TreeValue"
   ]
  },
  {
   "cell_type": "code",
   "execution_count": 19,
   "id": "a0c2b697",
   "metadata": {
    "execution": {
     "iopub.execute_input": "2023-01-24T16:50:01.565396Z",
     "iopub.status.busy": "2023-01-24T16:50:01.564257Z",
     "iopub.status.idle": "2023-01-24T16:50:01.568995Z",
     "shell.execute_reply": "2023-01-24T16:50:01.568296Z"
    }
   },
   "outputs": [],
   "source": [
    "trees = [FastTreeValue(_TREE_DATA_2) for _ in range(8)]"
   ]
  },
  {
   "cell_type": "code",
   "execution_count": 20,
   "id": "017ea5a5",
   "metadata": {
    "execution": {
     "iopub.execute_input": "2023-01-24T16:50:01.571815Z",
     "iopub.status.busy": "2023-01-24T16:50:01.571586Z",
     "iopub.status.idle": "2023-01-24T16:50:01.578748Z",
     "shell.execute_reply": "2023-01-24T16:50:01.578107Z"
    }
   },
   "outputs": [
    {
     "data": {
      "text/plain": [
       "<FastTreeValue 0x7fab97576ee0>\n",
       "├── 'a' --> tensor([[[-0.4472, -0.2492, -1.1582],\n",
       "│                    [-0.3714, -0.3435, -0.6622]],\n",
       "│           \n",
       "│                   [[-0.4472, -0.2492, -1.1582],\n",
       "│                    [-0.3714, -0.3435, -0.6622]],\n",
       "│           \n",
       "│                   [[-0.4472, -0.2492, -1.1582],\n",
       "│                    [-0.3714, -0.3435, -0.6622]],\n",
       "│           \n",
       "│                   [[-0.4472, -0.2492, -1.1582],\n",
       "│                    [-0.3714, -0.3435, -0.6622]],\n",
       "│           \n",
       "│                   [[-0.4472, -0.2492, -1.1582],\n",
       "│                    [-0.3714, -0.3435, -0.6622]],\n",
       "│           \n",
       "│                   [[-0.4472, -0.2492, -1.1582],\n",
       "│                    [-0.3714, -0.3435, -0.6622]],\n",
       "│           \n",
       "│                   [[-0.4472, -0.2492, -1.1582],\n",
       "│                    [-0.3714, -0.3435, -0.6622]],\n",
       "│           \n",
       "│                   [[-0.4472, -0.2492, -1.1582],\n",
       "│                    [-0.3714, -0.3435, -0.6622]]])\n",
       "└── 'x' --> <FastTreeValue 0x7fac448644c0>\n",
       "    └── 'c' --> tensor([[[-2.3993, -0.7059, -1.0204,  1.5734],\n",
       "                         [-0.5181, -0.8591,  0.2371, -0.4617],\n",
       "                         [-0.1982,  0.5489, -0.4995,  0.3107]],\n",
       "                \n",
       "                        [[-2.3993, -0.7059, -1.0204,  1.5734],\n",
       "                         [-0.5181, -0.8591,  0.2371, -0.4617],\n",
       "                         [-0.1982,  0.5489, -0.4995,  0.3107]],\n",
       "                \n",
       "                        [[-2.3993, -0.7059, -1.0204,  1.5734],\n",
       "                         [-0.5181, -0.8591,  0.2371, -0.4617],\n",
       "                         [-0.1982,  0.5489, -0.4995,  0.3107]],\n",
       "                \n",
       "                        [[-2.3993, -0.7059, -1.0204,  1.5734],\n",
       "                         [-0.5181, -0.8591,  0.2371, -0.4617],\n",
       "                         [-0.1982,  0.5489, -0.4995,  0.3107]],\n",
       "                \n",
       "                        [[-2.3993, -0.7059, -1.0204,  1.5734],\n",
       "                         [-0.5181, -0.8591,  0.2371, -0.4617],\n",
       "                         [-0.1982,  0.5489, -0.4995,  0.3107]],\n",
       "                \n",
       "                        [[-2.3993, -0.7059, -1.0204,  1.5734],\n",
       "                         [-0.5181, -0.8591,  0.2371, -0.4617],\n",
       "                         [-0.1982,  0.5489, -0.4995,  0.3107]],\n",
       "                \n",
       "                        [[-2.3993, -0.7059, -1.0204,  1.5734],\n",
       "                         [-0.5181, -0.8591,  0.2371, -0.4617],\n",
       "                         [-0.1982,  0.5489, -0.4995,  0.3107]],\n",
       "                \n",
       "                        [[-2.3993, -0.7059, -1.0204,  1.5734],\n",
       "                         [-0.5181, -0.8591,  0.2371, -0.4617],\n",
       "                         [-0.1982,  0.5489, -0.4995,  0.3107]]])"
      ]
     },
     "execution_count": 20,
     "metadata": {},
     "output_type": "execute_result"
    }
   ],
   "source": [
    "t_stack = FastTreeValue.func(subside=True)(torch.stack)\n",
    "\n",
    "t_stack(trees)"
   ]
  },
  {
   "cell_type": "code",
   "execution_count": 21,
   "id": "f8b3f415",
   "metadata": {
    "execution": {
     "iopub.execute_input": "2023-01-24T16:50:01.581872Z",
     "iopub.status.busy": "2023-01-24T16:50:01.581321Z",
     "iopub.status.idle": "2023-01-24T16:50:04.183001Z",
     "shell.execute_reply": "2023-01-24T16:50:04.182232Z"
    }
   },
   "outputs": [
    {
     "name": "stdout",
     "output_type": "stream",
     "text": [
      "32 µs ± 70.2 ns per loop (mean ± std. dev. of 7 runs, 10,000 loops each)\n"
     ]
    }
   ],
   "source": [
    "%timeit t_stack(trees)"
   ]
  },
  {
   "cell_type": "code",
   "execution_count": 22,
   "id": "94b56771",
   "metadata": {
    "execution": {
     "iopub.execute_input": "2023-01-24T16:50:04.186515Z",
     "iopub.status.busy": "2023-01-24T16:50:04.185940Z",
     "iopub.status.idle": "2023-01-24T16:50:04.193643Z",
     "shell.execute_reply": "2023-01-24T16:50:04.192896Z"
    }
   },
   "outputs": [
    {
     "data": {
      "text/plain": [
       "<FastTreeValue 0x7fac4485f9d0>\n",
       "├── 'a' --> tensor([[-0.4472, -0.2492, -1.1582],\n",
       "│                   [-0.3714, -0.3435, -0.6622],\n",
       "│                   [-0.4472, -0.2492, -1.1582],\n",
       "│                   [-0.3714, -0.3435, -0.6622],\n",
       "│                   [-0.4472, -0.2492, -1.1582],\n",
       "│                   [-0.3714, -0.3435, -0.6622],\n",
       "│                   [-0.4472, -0.2492, -1.1582],\n",
       "│                   [-0.3714, -0.3435, -0.6622],\n",
       "│                   [-0.4472, -0.2492, -1.1582],\n",
       "│                   [-0.3714, -0.3435, -0.6622],\n",
       "│                   [-0.4472, -0.2492, -1.1582],\n",
       "│                   [-0.3714, -0.3435, -0.6622],\n",
       "│                   [-0.4472, -0.2492, -1.1582],\n",
       "│                   [-0.3714, -0.3435, -0.6622],\n",
       "│                   [-0.4472, -0.2492, -1.1582],\n",
       "│                   [-0.3714, -0.3435, -0.6622]])\n",
       "└── 'x' --> <FastTreeValue 0x7fac4485f340>\n",
       "    └── 'c' --> tensor([[-2.3993, -0.7059, -1.0204,  1.5734],\n",
       "                        [-0.5181, -0.8591,  0.2371, -0.4617],\n",
       "                        [-0.1982,  0.5489, -0.4995,  0.3107],\n",
       "                        [-2.3993, -0.7059, -1.0204,  1.5734],\n",
       "                        [-0.5181, -0.8591,  0.2371, -0.4617],\n",
       "                        [-0.1982,  0.5489, -0.4995,  0.3107],\n",
       "                        [-2.3993, -0.7059, -1.0204,  1.5734],\n",
       "                        [-0.5181, -0.8591,  0.2371, -0.4617],\n",
       "                        [-0.1982,  0.5489, -0.4995,  0.3107],\n",
       "                        [-2.3993, -0.7059, -1.0204,  1.5734],\n",
       "                        [-0.5181, -0.8591,  0.2371, -0.4617],\n",
       "                        [-0.1982,  0.5489, -0.4995,  0.3107],\n",
       "                        [-2.3993, -0.7059, -1.0204,  1.5734],\n",
       "                        [-0.5181, -0.8591,  0.2371, -0.4617],\n",
       "                        [-0.1982,  0.5489, -0.4995,  0.3107],\n",
       "                        [-2.3993, -0.7059, -1.0204,  1.5734],\n",
       "                        [-0.5181, -0.8591,  0.2371, -0.4617],\n",
       "                        [-0.1982,  0.5489, -0.4995,  0.3107],\n",
       "                        [-2.3993, -0.7059, -1.0204,  1.5734],\n",
       "                        [-0.5181, -0.8591,  0.2371, -0.4617],\n",
       "                        [-0.1982,  0.5489, -0.4995,  0.3107],\n",
       "                        [-2.3993, -0.7059, -1.0204,  1.5734],\n",
       "                        [-0.5181, -0.8591,  0.2371, -0.4617],\n",
       "                        [-0.1982,  0.5489, -0.4995,  0.3107]])"
      ]
     },
     "execution_count": 22,
     "metadata": {},
     "output_type": "execute_result"
    }
   ],
   "source": [
    "t_cat = FastTreeValue.func(subside=True)(torch.cat)\n",
    "\n",
    "t_cat(trees)"
   ]
  },
  {
   "cell_type": "code",
   "execution_count": 23,
   "id": "5e9c06a6",
   "metadata": {
    "execution": {
     "iopub.execute_input": "2023-01-24T16:50:04.197200Z",
     "iopub.status.busy": "2023-01-24T16:50:04.196484Z",
     "iopub.status.idle": "2023-01-24T16:50:06.639402Z",
     "shell.execute_reply": "2023-01-24T16:50:06.638805Z"
    }
   },
   "outputs": [
    {
     "name": "stdout",
     "output_type": "stream",
     "text": [
      "30 µs ± 80.8 ns per loop (mean ± std. dev. of 7 runs, 10,000 loops each)\n"
     ]
    }
   ],
   "source": [
    "%timeit t_cat(trees)"
   ]
  },
  {
   "cell_type": "code",
   "execution_count": 24,
   "id": "a3ab5c8f",
   "metadata": {
    "execution": {
     "iopub.execute_input": "2023-01-24T16:50:06.642619Z",
     "iopub.status.busy": "2023-01-24T16:50:06.642026Z",
     "iopub.status.idle": "2023-01-24T16:50:11.320187Z",
     "shell.execute_reply": "2023-01-24T16:50:11.319499Z"
    }
   },
   "outputs": [
    {
     "name": "stdout",
     "output_type": "stream",
     "text": [
      "57.6 µs ± 138 ns per loop (mean ± std. dev. of 7 runs, 10,000 loops each)\n"
     ]
    }
   ],
   "source": [
    "t_split = FastTreeValue.func(rise=True)(torch.split)\n",
    "tree = FastTreeValue({\n",
    "    'obs': torch.randn(8, 4, 84, 84),\n",
    "    'action': torch.randint(0, 6, size=(8, 1,)),\n",
    "    'reward': torch.rand(8, 1),\n",
    "})\n",
    "\n",
    "%timeit t_split(tree, 1)"
   ]
  },
  {
   "cell_type": "markdown",
   "id": "31c3ec0b",
   "metadata": {},
   "source": [
    "### Performance of Tianshou Batch"
   ]
  },
  {
   "cell_type": "code",
   "execution_count": 25,
   "id": "9ead828a",
   "metadata": {
    "execution": {
     "iopub.execute_input": "2023-01-24T16:50:11.323881Z",
     "iopub.status.busy": "2023-01-24T16:50:11.323478Z",
     "iopub.status.idle": "2023-01-24T16:50:11.331799Z",
     "shell.execute_reply": "2023-01-24T16:50:11.331187Z"
    }
   },
   "outputs": [
    {
     "data": {
      "text/plain": [
       "Batch(\n",
       "    x: Batch(\n",
       "           c: tensor([[[-2.3993, -0.7059, -1.0204,  1.5734],\n",
       "                       [-0.5181, -0.8591,  0.2371, -0.4617],\n",
       "                       [-0.1982,  0.5489, -0.4995,  0.3107]],\n",
       "              \n",
       "                      [[-2.3993, -0.7059, -1.0204,  1.5734],\n",
       "                       [-0.5181, -0.8591,  0.2371, -0.4617],\n",
       "                       [-0.1982,  0.5489, -0.4995,  0.3107]],\n",
       "              \n",
       "                      [[-2.3993, -0.7059, -1.0204,  1.5734],\n",
       "                       [-0.5181, -0.8591,  0.2371, -0.4617],\n",
       "                       [-0.1982,  0.5489, -0.4995,  0.3107]],\n",
       "              \n",
       "                      [[-2.3993, -0.7059, -1.0204,  1.5734],\n",
       "                       [-0.5181, -0.8591,  0.2371, -0.4617],\n",
       "                       [-0.1982,  0.5489, -0.4995,  0.3107]],\n",
       "              \n",
       "                      [[-2.3993, -0.7059, -1.0204,  1.5734],\n",
       "                       [-0.5181, -0.8591,  0.2371, -0.4617],\n",
       "                       [-0.1982,  0.5489, -0.4995,  0.3107]],\n",
       "              \n",
       "                      [[-2.3993, -0.7059, -1.0204,  1.5734],\n",
       "                       [-0.5181, -0.8591,  0.2371, -0.4617],\n",
       "                       [-0.1982,  0.5489, -0.4995,  0.3107]],\n",
       "              \n",
       "                      [[-2.3993, -0.7059, -1.0204,  1.5734],\n",
       "                       [-0.5181, -0.8591,  0.2371, -0.4617],\n",
       "                       [-0.1982,  0.5489, -0.4995,  0.3107]],\n",
       "              \n",
       "                      [[-2.3993, -0.7059, -1.0204,  1.5734],\n",
       "                       [-0.5181, -0.8591,  0.2371, -0.4617],\n",
       "                       [-0.1982,  0.5489, -0.4995,  0.3107]]]),\n",
       "       ),\n",
       "    a: tensor([[[-0.4472, -0.2492, -1.1582],\n",
       "                [-0.3714, -0.3435, -0.6622]],\n",
       "       \n",
       "               [[-0.4472, -0.2492, -1.1582],\n",
       "                [-0.3714, -0.3435, -0.6622]],\n",
       "       \n",
       "               [[-0.4472, -0.2492, -1.1582],\n",
       "                [-0.3714, -0.3435, -0.6622]],\n",
       "       \n",
       "               [[-0.4472, -0.2492, -1.1582],\n",
       "                [-0.3714, -0.3435, -0.6622]],\n",
       "       \n",
       "               [[-0.4472, -0.2492, -1.1582],\n",
       "                [-0.3714, -0.3435, -0.6622]],\n",
       "       \n",
       "               [[-0.4472, -0.2492, -1.1582],\n",
       "                [-0.3714, -0.3435, -0.6622]],\n",
       "       \n",
       "               [[-0.4472, -0.2492, -1.1582],\n",
       "                [-0.3714, -0.3435, -0.6622]],\n",
       "       \n",
       "               [[-0.4472, -0.2492, -1.1582],\n",
       "                [-0.3714, -0.3435, -0.6622]]]),\n",
       ")"
      ]
     },
     "execution_count": 25,
     "metadata": {},
     "output_type": "execute_result"
    }
   ],
   "source": [
    "batches = [Batch(**_TREE_DATA_2) for _ in range(8)]\n",
    "\n",
    "Batch.stack(batches)"
   ]
  },
  {
   "cell_type": "code",
   "execution_count": 26,
   "id": "ec9037a3",
   "metadata": {
    "execution": {
     "iopub.execute_input": "2023-01-24T16:50:11.335300Z",
     "iopub.status.busy": "2023-01-24T16:50:11.334791Z",
     "iopub.status.idle": "2023-01-24T16:50:17.737999Z",
     "shell.execute_reply": "2023-01-24T16:50:17.736959Z"
    }
   },
   "outputs": [
    {
     "name": "stdout",
     "output_type": "stream",
     "text": [
      "78.7 µs ± 169 ns per loop (mean ± std. dev. of 7 runs, 10,000 loops each)\n"
     ]
    }
   ],
   "source": [
    "%timeit Batch.stack(batches)"
   ]
  },
  {
   "cell_type": "code",
   "execution_count": 27,
   "id": "cb8ab77e",
   "metadata": {
    "execution": {
     "iopub.execute_input": "2023-01-24T16:50:17.741644Z",
     "iopub.status.busy": "2023-01-24T16:50:17.741258Z",
     "iopub.status.idle": "2023-01-24T16:50:17.749084Z",
     "shell.execute_reply": "2023-01-24T16:50:17.748436Z"
    }
   },
   "outputs": [
    {
     "data": {
      "text/plain": [
       "Batch(\n",
       "    x: Batch(\n",
       "           c: tensor([[-2.3993, -0.7059, -1.0204,  1.5734],\n",
       "                      [-0.5181, -0.8591,  0.2371, -0.4617],\n",
       "                      [-0.1982,  0.5489, -0.4995,  0.3107],\n",
       "                      [-2.3993, -0.7059, -1.0204,  1.5734],\n",
       "                      [-0.5181, -0.8591,  0.2371, -0.4617],\n",
       "                      [-0.1982,  0.5489, -0.4995,  0.3107],\n",
       "                      [-2.3993, -0.7059, -1.0204,  1.5734],\n",
       "                      [-0.5181, -0.8591,  0.2371, -0.4617],\n",
       "                      [-0.1982,  0.5489, -0.4995,  0.3107],\n",
       "                      [-2.3993, -0.7059, -1.0204,  1.5734],\n",
       "                      [-0.5181, -0.8591,  0.2371, -0.4617],\n",
       "                      [-0.1982,  0.5489, -0.4995,  0.3107],\n",
       "                      [-2.3993, -0.7059, -1.0204,  1.5734],\n",
       "                      [-0.5181, -0.8591,  0.2371, -0.4617],\n",
       "                      [-0.1982,  0.5489, -0.4995,  0.3107],\n",
       "                      [-2.3993, -0.7059, -1.0204,  1.5734],\n",
       "                      [-0.5181, -0.8591,  0.2371, -0.4617],\n",
       "                      [-0.1982,  0.5489, -0.4995,  0.3107],\n",
       "                      [-2.3993, -0.7059, -1.0204,  1.5734],\n",
       "                      [-0.5181, -0.8591,  0.2371, -0.4617],\n",
       "                      [-0.1982,  0.5489, -0.4995,  0.3107],\n",
       "                      [-2.3993, -0.7059, -1.0204,  1.5734],\n",
       "                      [-0.5181, -0.8591,  0.2371, -0.4617],\n",
       "                      [-0.1982,  0.5489, -0.4995,  0.3107]]),\n",
       "       ),\n",
       "    a: tensor([[-0.4472, -0.2492, -1.1582],\n",
       "               [-0.3714, -0.3435, -0.6622],\n",
       "               [-0.4472, -0.2492, -1.1582],\n",
       "               [-0.3714, -0.3435, -0.6622],\n",
       "               [-0.4472, -0.2492, -1.1582],\n",
       "               [-0.3714, -0.3435, -0.6622],\n",
       "               [-0.4472, -0.2492, -1.1582],\n",
       "               [-0.3714, -0.3435, -0.6622],\n",
       "               [-0.4472, -0.2492, -1.1582],\n",
       "               [-0.3714, -0.3435, -0.6622],\n",
       "               [-0.4472, -0.2492, -1.1582],\n",
       "               [-0.3714, -0.3435, -0.6622],\n",
       "               [-0.4472, -0.2492, -1.1582],\n",
       "               [-0.3714, -0.3435, -0.6622],\n",
       "               [-0.4472, -0.2492, -1.1582],\n",
       "               [-0.3714, -0.3435, -0.6622]]),\n",
       ")"
      ]
     },
     "execution_count": 27,
     "metadata": {},
     "output_type": "execute_result"
    }
   ],
   "source": [
    "Batch.cat(batches)"
   ]
  },
  {
   "cell_type": "code",
   "execution_count": 28,
   "id": "18dfb045",
   "metadata": {
    "execution": {
     "iopub.execute_input": "2023-01-24T16:50:17.752356Z",
     "iopub.status.busy": "2023-01-24T16:50:17.751984Z",
     "iopub.status.idle": "2023-01-24T16:50:29.249748Z",
     "shell.execute_reply": "2023-01-24T16:50:29.249134Z"
    }
   },
   "outputs": [
    {
     "name": "stdout",
     "output_type": "stream",
     "text": [
      "142 µs ± 486 ns per loop (mean ± std. dev. of 7 runs, 10,000 loops each)\n"
     ]
    }
   ],
   "source": [
    "%timeit Batch.cat(batches)"
   ]
  },
  {
   "cell_type": "code",
   "execution_count": 29,
   "id": "c6688e51",
   "metadata": {
    "execution": {
     "iopub.execute_input": "2023-01-24T16:50:29.253091Z",
     "iopub.status.busy": "2023-01-24T16:50:29.252588Z",
     "iopub.status.idle": "2023-01-24T16:50:31.758374Z",
     "shell.execute_reply": "2023-01-24T16:50:31.757607Z"
    }
   },
   "outputs": [
    {
     "name": "stdout",
     "output_type": "stream",
     "text": [
      "307 µs ± 482 ns per loop (mean ± std. dev. of 7 runs, 1,000 loops each)\n"
     ]
    }
   ],
   "source": [
    "batch = Batch({\n",
    "    'obs': torch.randn(8, 4, 84, 84),\n",
    "    'action': torch.randint(0, 6, size=(8, 1,)),\n",
    "    'reward': torch.rand(8, 1)}\n",
    ")\n",
    "\n",
    "%timeit list(Batch.split(batch, 1, shuffle=False, merge_last=True))"
   ]
  },
  {
   "cell_type": "code",
   "execution_count": null,
   "id": "2539fbd9",
   "metadata": {},
   "outputs": [],
   "source": []
  }
 ],
 "metadata": {
  "kernelspec": {
   "display_name": "Python 3 (ipykernel)",
   "language": "python",
   "name": "python3"
  },
  "language_info": {
   "codemirror_mode": {
    "name": "ipython",
    "version": 3
   },
   "file_extension": ".py",
   "mimetype": "text/x-python",
   "name": "python",
   "nbconvert_exporter": "python",
   "pygments_lexer": "ipython3",
   "version": "3.8.16"
  }
 },
 "nbformat": 4,
 "nbformat_minor": 5
}
