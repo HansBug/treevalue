{
 "cells": [
  {
   "cell_type": "markdown",
   "id": "9d39d946",
   "metadata": {},
   "source": [
    "# Comparison Between TreeValue and Tianshou Batch"
   ]
  },
  {
   "cell_type": "markdown",
   "id": "3c6db2d4",
   "metadata": {},
   "source": [
    "In this section, we will take a look at the feature and performance of the [Tianshou Batch](https://github.com/thu-ml/tianshou) library, which is developed by Tsinghua Machine Learning Group."
   ]
  },
  {
   "cell_type": "markdown",
   "id": "069361b0",
   "metadata": {},
   "source": [
    "Before starting the comparison, let us define some thing."
   ]
  },
  {
   "cell_type": "code",
   "execution_count": 1,
   "id": "06fc8d26",
   "metadata": {
    "execution": {
     "iopub.execute_input": "2023-01-29T03:43:04.529212Z",
     "iopub.status.busy": "2023-01-29T03:43:04.529009Z",
     "iopub.status.idle": "2023-01-29T03:43:05.416373Z",
     "shell.execute_reply": "2023-01-29T03:43:05.415707Z"
    }
   },
   "outputs": [
    {
     "name": "stderr",
     "output_type": "stream",
     "text": [
      "/opt/hostedtoolcache/Python/3.8.16/x64/lib/python3.8/site-packages/tqdm/auto.py:22: TqdmWarning: IProgress not found. Please update jupyter and ipywidgets. See https://ipywidgets.readthedocs.io/en/stable/user_install.html\n",
      "  from .autonotebook import tqdm as notebook_tqdm\n"
     ]
    }
   ],
   "source": [
    "import torch \n",
    "\n",
    "_TREE_DATA_1 = {'a': 1, 'b': 2, 'x': {'c': 3, 'd': 4}}\n",
    "_TREE_DATA_2 = {\n",
    "    'a': torch.randn(2, 3), \n",
    "    'x': {\n",
    "        'c': torch.randn(3, 4)\n",
    "    },\n",
    "}\n",
    "_TREE_DATA_3 = {\n",
    "    'obs': torch.randn(4, 84, 84),\n",
    "    'action': torch.randint(0, 6, size=(1,)),\n",
    "    'reward': torch.rand(1),\n",
    "}"
   ]
  },
  {
   "cell_type": "markdown",
   "id": "83461b25",
   "metadata": {},
   "source": [
    "## Read and Write Operation"
   ]
  },
  {
   "cell_type": "markdown",
   "id": "067b3f73",
   "metadata": {},
   "source": [
    "Reading and writing are the two most common operations in the tree data structure based on the data model (TreeValue and Tianshou Batch both belong to this type), so this section will compare the reading and writing performance of these two libraries."
   ]
  },
  {
   "cell_type": "markdown",
   "id": "5d09a5b7",
   "metadata": {},
   "source": [
    "### TreeValue's Get and Set"
   ]
  },
  {
   "cell_type": "code",
   "execution_count": 2,
   "id": "9519c4bb",
   "metadata": {
    "execution": {
     "iopub.execute_input": "2023-01-29T03:43:05.419575Z",
     "iopub.status.busy": "2023-01-29T03:43:05.419001Z",
     "iopub.status.idle": "2023-01-29T03:43:05.452004Z",
     "shell.execute_reply": "2023-01-29T03:43:05.450628Z"
    }
   },
   "outputs": [],
   "source": [
    "from treevalue import FastTreeValue\n",
    "\n",
    "t = FastTreeValue(_TREE_DATA_2)"
   ]
  },
  {
   "cell_type": "code",
   "execution_count": 3,
   "id": "11c37677",
   "metadata": {
    "execution": {
     "iopub.execute_input": "2023-01-29T03:43:05.454482Z",
     "iopub.status.busy": "2023-01-29T03:43:05.454160Z",
     "iopub.status.idle": "2023-01-29T03:43:05.463427Z",
     "shell.execute_reply": "2023-01-29T03:43:05.462521Z"
    }
   },
   "outputs": [
    {
     "data": {
      "text/plain": [
       "<FastTreeValue 0x7f4fd8164ee0>\n",
       "├── 'a' --> tensor([[ 2.0230, -0.5560,  1.1181],\n",
       "│                   [ 0.1663,  0.3035, -0.1645]])\n",
       "└── 'x' --> <FastTreeValue 0x7f4fdd1efbe0>\n",
       "    └── 'c' --> tensor([[ 0.3764,  0.3948, -0.2520, -0.3134],\n",
       "                        [ 0.6965,  0.4104, -0.0521,  0.5239],\n",
       "                        [ 2.2649,  1.4015,  0.6586,  1.4763]])"
      ]
     },
     "execution_count": 3,
     "metadata": {},
     "output_type": "execute_result"
    }
   ],
   "source": [
    "t"
   ]
  },
  {
   "cell_type": "code",
   "execution_count": 4,
   "id": "fd70b0b9",
   "metadata": {
    "execution": {
     "iopub.execute_input": "2023-01-29T03:43:05.465796Z",
     "iopub.status.busy": "2023-01-29T03:43:05.465452Z",
     "iopub.status.idle": "2023-01-29T03:43:05.470067Z",
     "shell.execute_reply": "2023-01-29T03:43:05.469464Z"
    }
   },
   "outputs": [
    {
     "data": {
      "text/plain": [
       "tensor([[ 2.0230, -0.5560,  1.1181],\n",
       "        [ 0.1663,  0.3035, -0.1645]])"
      ]
     },
     "execution_count": 4,
     "metadata": {},
     "output_type": "execute_result"
    }
   ],
   "source": [
    "t.a"
   ]
  },
  {
   "cell_type": "code",
   "execution_count": 5,
   "id": "c18197bd",
   "metadata": {
    "execution": {
     "iopub.execute_input": "2023-01-29T03:43:05.472676Z",
     "iopub.status.busy": "2023-01-29T03:43:05.472140Z",
     "iopub.status.idle": "2023-01-29T03:43:10.472351Z",
     "shell.execute_reply": "2023-01-29T03:43:10.471680Z"
    }
   },
   "outputs": [
    {
     "name": "stdout",
     "output_type": "stream",
     "text": [
      "61.5 ns ± 0.0903 ns per loop (mean ± std. dev. of 7 runs, 10,000,000 loops each)\n"
     ]
    }
   ],
   "source": [
    "%timeit t.a"
   ]
  },
  {
   "cell_type": "code",
   "execution_count": 6,
   "id": "bd52f867",
   "metadata": {
    "execution": {
     "iopub.execute_input": "2023-01-29T03:43:10.475359Z",
     "iopub.status.busy": "2023-01-29T03:43:10.474998Z",
     "iopub.status.idle": "2023-01-29T03:43:10.481836Z",
     "shell.execute_reply": "2023-01-29T03:43:10.481171Z"
    }
   },
   "outputs": [
    {
     "data": {
      "text/plain": [
       "<FastTreeValue 0x7f4fd8164ee0>\n",
       "├── 'a' --> tensor([[ 0.3974, -1.4951,  0.3751],\n",
       "│                   [-1.3653,  1.6876,  0.3010]])\n",
       "└── 'x' --> <FastTreeValue 0x7f4fdd1efbe0>\n",
       "    └── 'c' --> tensor([[ 0.3764,  0.3948, -0.2520, -0.3134],\n",
       "                        [ 0.6965,  0.4104, -0.0521,  0.5239],\n",
       "                        [ 2.2649,  1.4015,  0.6586,  1.4763]])"
      ]
     },
     "execution_count": 6,
     "metadata": {},
     "output_type": "execute_result"
    }
   ],
   "source": [
    "new_value = torch.randn(2, 3)\n",
    "t.a = new_value\n",
    "\n",
    "t"
   ]
  },
  {
   "cell_type": "code",
   "execution_count": 7,
   "id": "bbe04d1c",
   "metadata": {
    "execution": {
     "iopub.execute_input": "2023-01-29T03:43:10.484726Z",
     "iopub.status.busy": "2023-01-29T03:43:10.484201Z",
     "iopub.status.idle": "2023-01-29T03:43:15.322039Z",
     "shell.execute_reply": "2023-01-29T03:43:15.321368Z"
    }
   },
   "outputs": [
    {
     "name": "stdout",
     "output_type": "stream",
     "text": [
      "59.6 ns ± 0.0199 ns per loop (mean ± std. dev. of 7 runs, 10,000,000 loops each)\n"
     ]
    }
   ],
   "source": [
    "%timeit t.a = new_value"
   ]
  },
  {
   "cell_type": "markdown",
   "id": "48c49731",
   "metadata": {},
   "source": [
    "### Tianshou Batch's Get and Set"
   ]
  },
  {
   "cell_type": "code",
   "execution_count": 8,
   "id": "f1bb14c1",
   "metadata": {
    "execution": {
     "iopub.execute_input": "2023-01-29T03:43:15.325368Z",
     "iopub.status.busy": "2023-01-29T03:43:15.324865Z",
     "iopub.status.idle": "2023-01-29T03:43:15.646510Z",
     "shell.execute_reply": "2023-01-29T03:43:15.645858Z"
    }
   },
   "outputs": [],
   "source": [
    "from tianshou.data import Batch\n",
    "\n",
    "b = Batch(**_TREE_DATA_2)"
   ]
  },
  {
   "cell_type": "code",
   "execution_count": 9,
   "id": "cb0777c3",
   "metadata": {
    "execution": {
     "iopub.execute_input": "2023-01-29T03:43:15.649692Z",
     "iopub.status.busy": "2023-01-29T03:43:15.649115Z",
     "iopub.status.idle": "2023-01-29T03:43:15.655121Z",
     "shell.execute_reply": "2023-01-29T03:43:15.654542Z"
    }
   },
   "outputs": [
    {
     "data": {
      "text/plain": [
       "Batch(\n",
       "    a: tensor([[ 2.0230, -0.5560,  1.1181],\n",
       "               [ 0.1663,  0.3035, -0.1645]]),\n",
       "    x: Batch(\n",
       "           c: tensor([[ 0.3764,  0.3948, -0.2520, -0.3134],\n",
       "                      [ 0.6965,  0.4104, -0.0521,  0.5239],\n",
       "                      [ 2.2649,  1.4015,  0.6586,  1.4763]]),\n",
       "       ),\n",
       ")"
      ]
     },
     "execution_count": 9,
     "metadata": {},
     "output_type": "execute_result"
    }
   ],
   "source": [
    "b"
   ]
  },
  {
   "cell_type": "code",
   "execution_count": 10,
   "id": "43ef8ea3",
   "metadata": {
    "execution": {
     "iopub.execute_input": "2023-01-29T03:43:15.657555Z",
     "iopub.status.busy": "2023-01-29T03:43:15.657134Z",
     "iopub.status.idle": "2023-01-29T03:43:15.662656Z",
     "shell.execute_reply": "2023-01-29T03:43:15.662089Z"
    }
   },
   "outputs": [
    {
     "data": {
      "text/plain": [
       "tensor([[ 2.0230, -0.5560,  1.1181],\n",
       "        [ 0.1663,  0.3035, -0.1645]])"
      ]
     },
     "execution_count": 10,
     "metadata": {},
     "output_type": "execute_result"
    }
   ],
   "source": [
    "b.a"
   ]
  },
  {
   "cell_type": "code",
   "execution_count": 11,
   "id": "b785ab72",
   "metadata": {
    "execution": {
     "iopub.execute_input": "2023-01-29T03:43:15.665392Z",
     "iopub.status.busy": "2023-01-29T03:43:15.664906Z",
     "iopub.status.idle": "2023-01-29T03:43:19.833645Z",
     "shell.execute_reply": "2023-01-29T03:43:19.832904Z"
    }
   },
   "outputs": [
    {
     "name": "stdout",
     "output_type": "stream",
     "text": [
      "51.3 ns ± 0.0263 ns per loop (mean ± std. dev. of 7 runs, 10,000,000 loops each)\n"
     ]
    }
   ],
   "source": [
    "%timeit b.a"
   ]
  },
  {
   "cell_type": "code",
   "execution_count": 12,
   "id": "ad54dc69",
   "metadata": {
    "execution": {
     "iopub.execute_input": "2023-01-29T03:43:19.836827Z",
     "iopub.status.busy": "2023-01-29T03:43:19.836240Z",
     "iopub.status.idle": "2023-01-29T03:43:19.843225Z",
     "shell.execute_reply": "2023-01-29T03:43:19.842135Z"
    }
   },
   "outputs": [
    {
     "data": {
      "text/plain": [
       "Batch(\n",
       "    a: tensor([[-0.1015, -0.0649, -1.7227],\n",
       "               [ 0.1771, -0.5924, -1.7783]]),\n",
       "    x: Batch(\n",
       "           c: tensor([[ 0.3764,  0.3948, -0.2520, -0.3134],\n",
       "                      [ 0.6965,  0.4104, -0.0521,  0.5239],\n",
       "                      [ 2.2649,  1.4015,  0.6586,  1.4763]]),\n",
       "       ),\n",
       ")"
      ]
     },
     "execution_count": 12,
     "metadata": {},
     "output_type": "execute_result"
    }
   ],
   "source": [
    "new_value = torch.randn(2, 3)\n",
    "b.a = new_value\n",
    "\n",
    "b"
   ]
  },
  {
   "cell_type": "code",
   "execution_count": 13,
   "id": "29b1d0bf",
   "metadata": {
    "execution": {
     "iopub.execute_input": "2023-01-29T03:43:19.846044Z",
     "iopub.status.busy": "2023-01-29T03:43:19.845551Z",
     "iopub.status.idle": "2023-01-29T03:43:23.758132Z",
     "shell.execute_reply": "2023-01-29T03:43:23.757371Z"
    }
   },
   "outputs": [
    {
     "name": "stdout",
     "output_type": "stream",
     "text": [
      "482 ns ± 0.305 ns per loop (mean ± std. dev. of 7 runs, 1,000,000 loops each)\n"
     ]
    }
   ],
   "source": [
    "%timeit b.a = new_value"
   ]
  },
  {
   "cell_type": "markdown",
   "id": "b61ad1d0",
   "metadata": {},
   "source": [
    "## Initialization"
   ]
  },
  {
   "cell_type": "markdown",
   "id": "d70f0d54",
   "metadata": {},
   "source": [
    "### TreeValue's Initialization"
   ]
  },
  {
   "cell_type": "code",
   "execution_count": 14,
   "id": "d32a679b",
   "metadata": {
    "execution": {
     "iopub.execute_input": "2023-01-29T03:43:23.761103Z",
     "iopub.status.busy": "2023-01-29T03:43:23.760584Z",
     "iopub.status.idle": "2023-01-29T03:43:30.744829Z",
     "shell.execute_reply": "2023-01-29T03:43:30.744057Z"
    }
   },
   "outputs": [
    {
     "name": "stdout",
     "output_type": "stream",
     "text": [
      "859 ns ± 5.19 ns per loop (mean ± std. dev. of 7 runs, 1,000,000 loops each)\n"
     ]
    }
   ],
   "source": [
    "%timeit FastTreeValue(_TREE_DATA_1)"
   ]
  },
  {
   "cell_type": "markdown",
   "id": "24f3707b",
   "metadata": {},
   "source": [
    "### Tianshou Batch's Initialization"
   ]
  },
  {
   "cell_type": "code",
   "execution_count": 15,
   "id": "ac3958df",
   "metadata": {
    "execution": {
     "iopub.execute_input": "2023-01-29T03:43:30.748009Z",
     "iopub.status.busy": "2023-01-29T03:43:30.747503Z",
     "iopub.status.idle": "2023-01-29T03:43:39.861151Z",
     "shell.execute_reply": "2023-01-29T03:43:39.860390Z"
    }
   },
   "outputs": [
    {
     "name": "stdout",
     "output_type": "stream",
     "text": [
      "11.2 µs ± 46.5 ns per loop (mean ± std. dev. of 7 runs, 100,000 loops each)\n"
     ]
    }
   ],
   "source": [
    "%timeit Batch(**_TREE_DATA_1)"
   ]
  },
  {
   "cell_type": "markdown",
   "id": "1ab82e2d",
   "metadata": {},
   "source": [
    "## Deep Copy Operation"
   ]
  },
  {
   "cell_type": "code",
   "execution_count": 16,
   "id": "210a9442",
   "metadata": {
    "execution": {
     "iopub.execute_input": "2023-01-29T03:43:39.863922Z",
     "iopub.status.busy": "2023-01-29T03:43:39.863582Z",
     "iopub.status.idle": "2023-01-29T03:43:39.868036Z",
     "shell.execute_reply": "2023-01-29T03:43:39.866882Z"
    }
   },
   "outputs": [],
   "source": [
    "import copy"
   ]
  },
  {
   "cell_type": "markdown",
   "id": "5a736274",
   "metadata": {},
   "source": [
    "### Deep Copy of TreeValue"
   ]
  },
  {
   "cell_type": "code",
   "execution_count": 17,
   "id": "f9bcadd6",
   "metadata": {
    "execution": {
     "iopub.execute_input": "2023-01-29T03:43:39.870913Z",
     "iopub.status.busy": "2023-01-29T03:43:39.870412Z",
     "iopub.status.idle": "2023-01-29T03:43:51.149550Z",
     "shell.execute_reply": "2023-01-29T03:43:51.148844Z"
    }
   },
   "outputs": [
    {
     "name": "stdout",
     "output_type": "stream",
     "text": [
      "139 µs ± 2.16 µs per loop (mean ± std. dev. of 7 runs, 10,000 loops each)\n"
     ]
    }
   ],
   "source": [
    "t3 = FastTreeValue(_TREE_DATA_3)\n",
    "%timeit copy.deepcopy(t3)"
   ]
  },
  {
   "cell_type": "markdown",
   "id": "bf8be7ea",
   "metadata": {},
   "source": [
    "### Deep Copy of Tianshou Batch"
   ]
  },
  {
   "cell_type": "code",
   "execution_count": 18,
   "id": "91998e6f",
   "metadata": {
    "execution": {
     "iopub.execute_input": "2023-01-29T03:43:51.152617Z",
     "iopub.status.busy": "2023-01-29T03:43:51.152350Z",
     "iopub.status.idle": "2023-01-29T03:44:02.555408Z",
     "shell.execute_reply": "2023-01-29T03:44:02.554820Z"
    }
   },
   "outputs": [
    {
     "name": "stdout",
     "output_type": "stream",
     "text": [
      "140 µs ± 344 ns per loop (mean ± std. dev. of 7 runs, 10,000 loops each)\n"
     ]
    }
   ],
   "source": [
    "b3 = Batch(**_TREE_DATA_3)\n",
    "%timeit copy.deepcopy(b3)"
   ]
  },
  {
   "cell_type": "markdown",
   "id": "223162fb",
   "metadata": {},
   "source": [
    "## Stack, Concat and Split Operation"
   ]
  },
  {
   "cell_type": "markdown",
   "id": "85fa4a73",
   "metadata": {},
   "source": [
    "### Performance of TreeValue"
   ]
  },
  {
   "cell_type": "code",
   "execution_count": 19,
   "id": "a0c2b697",
   "metadata": {
    "execution": {
     "iopub.execute_input": "2023-01-29T03:44:02.559006Z",
     "iopub.status.busy": "2023-01-29T03:44:02.557891Z",
     "iopub.status.idle": "2023-01-29T03:44:02.562246Z",
     "shell.execute_reply": "2023-01-29T03:44:02.561656Z"
    }
   },
   "outputs": [],
   "source": [
    "trees = [FastTreeValue(_TREE_DATA_2) for _ in range(8)]"
   ]
  },
  {
   "cell_type": "code",
   "execution_count": 20,
   "id": "017ea5a5",
   "metadata": {
    "execution": {
     "iopub.execute_input": "2023-01-29T03:44:02.565005Z",
     "iopub.status.busy": "2023-01-29T03:44:02.564562Z",
     "iopub.status.idle": "2023-01-29T03:44:02.573042Z",
     "shell.execute_reply": "2023-01-29T03:44:02.572477Z"
    }
   },
   "outputs": [
    {
     "data": {
      "text/plain": [
       "<FastTreeValue 0x7f4fdd1d8340>\n",
       "├── 'a' --> tensor([[[ 2.0230, -0.5560,  1.1181],\n",
       "│                    [ 0.1663,  0.3035, -0.1645]],\n",
       "│           \n",
       "│                   [[ 2.0230, -0.5560,  1.1181],\n",
       "│                    [ 0.1663,  0.3035, -0.1645]],\n",
       "│           \n",
       "│                   [[ 2.0230, -0.5560,  1.1181],\n",
       "│                    [ 0.1663,  0.3035, -0.1645]],\n",
       "│           \n",
       "│                   [[ 2.0230, -0.5560,  1.1181],\n",
       "│                    [ 0.1663,  0.3035, -0.1645]],\n",
       "│           \n",
       "│                   [[ 2.0230, -0.5560,  1.1181],\n",
       "│                    [ 0.1663,  0.3035, -0.1645]],\n",
       "│           \n",
       "│                   [[ 2.0230, -0.5560,  1.1181],\n",
       "│                    [ 0.1663,  0.3035, -0.1645]],\n",
       "│           \n",
       "│                   [[ 2.0230, -0.5560,  1.1181],\n",
       "│                    [ 0.1663,  0.3035, -0.1645]],\n",
       "│           \n",
       "│                   [[ 2.0230, -0.5560,  1.1181],\n",
       "│                    [ 0.1663,  0.3035, -0.1645]]])\n",
       "└── 'x' --> <FastTreeValue 0x7f4fd816afa0>\n",
       "    └── 'c' --> tensor([[[ 0.3764,  0.3948, -0.2520, -0.3134],\n",
       "                         [ 0.6965,  0.4104, -0.0521,  0.5239],\n",
       "                         [ 2.2649,  1.4015,  0.6586,  1.4763]],\n",
       "                \n",
       "                        [[ 0.3764,  0.3948, -0.2520, -0.3134],\n",
       "                         [ 0.6965,  0.4104, -0.0521,  0.5239],\n",
       "                         [ 2.2649,  1.4015,  0.6586,  1.4763]],\n",
       "                \n",
       "                        [[ 0.3764,  0.3948, -0.2520, -0.3134],\n",
       "                         [ 0.6965,  0.4104, -0.0521,  0.5239],\n",
       "                         [ 2.2649,  1.4015,  0.6586,  1.4763]],\n",
       "                \n",
       "                        [[ 0.3764,  0.3948, -0.2520, -0.3134],\n",
       "                         [ 0.6965,  0.4104, -0.0521,  0.5239],\n",
       "                         [ 2.2649,  1.4015,  0.6586,  1.4763]],\n",
       "                \n",
       "                        [[ 0.3764,  0.3948, -0.2520, -0.3134],\n",
       "                         [ 0.6965,  0.4104, -0.0521,  0.5239],\n",
       "                         [ 2.2649,  1.4015,  0.6586,  1.4763]],\n",
       "                \n",
       "                        [[ 0.3764,  0.3948, -0.2520, -0.3134],\n",
       "                         [ 0.6965,  0.4104, -0.0521,  0.5239],\n",
       "                         [ 2.2649,  1.4015,  0.6586,  1.4763]],\n",
       "                \n",
       "                        [[ 0.3764,  0.3948, -0.2520, -0.3134],\n",
       "                         [ 0.6965,  0.4104, -0.0521,  0.5239],\n",
       "                         [ 2.2649,  1.4015,  0.6586,  1.4763]],\n",
       "                \n",
       "                        [[ 0.3764,  0.3948, -0.2520, -0.3134],\n",
       "                         [ 0.6965,  0.4104, -0.0521,  0.5239],\n",
       "                         [ 2.2649,  1.4015,  0.6586,  1.4763]]])"
      ]
     },
     "execution_count": 20,
     "metadata": {},
     "output_type": "execute_result"
    }
   ],
   "source": [
    "t_stack = FastTreeValue.func(subside=True)(torch.stack)\n",
    "\n",
    "t_stack(trees)"
   ]
  },
  {
   "cell_type": "code",
   "execution_count": 21,
   "id": "f8b3f415",
   "metadata": {
    "execution": {
     "iopub.execute_input": "2023-01-29T03:44:02.575814Z",
     "iopub.status.busy": "2023-01-29T03:44:02.575382Z",
     "iopub.status.idle": "2023-01-29T03:44:05.174366Z",
     "shell.execute_reply": "2023-01-29T03:44:05.173712Z"
    }
   },
   "outputs": [
    {
     "name": "stdout",
     "output_type": "stream",
     "text": [
      "31.9 µs ± 65.4 ns per loop (mean ± std. dev. of 7 runs, 10,000 loops each)\n"
     ]
    }
   ],
   "source": [
    "%timeit t_stack(trees)"
   ]
  },
  {
   "cell_type": "code",
   "execution_count": 22,
   "id": "94b56771",
   "metadata": {
    "execution": {
     "iopub.execute_input": "2023-01-29T03:44:05.177190Z",
     "iopub.status.busy": "2023-01-29T03:44:05.176849Z",
     "iopub.status.idle": "2023-01-29T03:44:05.185154Z",
     "shell.execute_reply": "2023-01-29T03:44:05.184574Z"
    }
   },
   "outputs": [
    {
     "data": {
      "text/plain": [
       "<FastTreeValue 0x7f4f34ce2610>\n",
       "├── 'a' --> tensor([[ 2.0230, -0.5560,  1.1181],\n",
       "│                   [ 0.1663,  0.3035, -0.1645],\n",
       "│                   [ 2.0230, -0.5560,  1.1181],\n",
       "│                   [ 0.1663,  0.3035, -0.1645],\n",
       "│                   [ 2.0230, -0.5560,  1.1181],\n",
       "│                   [ 0.1663,  0.3035, -0.1645],\n",
       "│                   [ 2.0230, -0.5560,  1.1181],\n",
       "│                   [ 0.1663,  0.3035, -0.1645],\n",
       "│                   [ 2.0230, -0.5560,  1.1181],\n",
       "│                   [ 0.1663,  0.3035, -0.1645],\n",
       "│                   [ 2.0230, -0.5560,  1.1181],\n",
       "│                   [ 0.1663,  0.3035, -0.1645],\n",
       "│                   [ 2.0230, -0.5560,  1.1181],\n",
       "│                   [ 0.1663,  0.3035, -0.1645],\n",
       "│                   [ 2.0230, -0.5560,  1.1181],\n",
       "│                   [ 0.1663,  0.3035, -0.1645]])\n",
       "└── 'x' --> <FastTreeValue 0x7f4fdb1ac490>\n",
       "    └── 'c' --> tensor([[ 0.3764,  0.3948, -0.2520, -0.3134],\n",
       "                        [ 0.6965,  0.4104, -0.0521,  0.5239],\n",
       "                        [ 2.2649,  1.4015,  0.6586,  1.4763],\n",
       "                        [ 0.3764,  0.3948, -0.2520, -0.3134],\n",
       "                        [ 0.6965,  0.4104, -0.0521,  0.5239],\n",
       "                        [ 2.2649,  1.4015,  0.6586,  1.4763],\n",
       "                        [ 0.3764,  0.3948, -0.2520, -0.3134],\n",
       "                        [ 0.6965,  0.4104, -0.0521,  0.5239],\n",
       "                        [ 2.2649,  1.4015,  0.6586,  1.4763],\n",
       "                        [ 0.3764,  0.3948, -0.2520, -0.3134],\n",
       "                        [ 0.6965,  0.4104, -0.0521,  0.5239],\n",
       "                        [ 2.2649,  1.4015,  0.6586,  1.4763],\n",
       "                        [ 0.3764,  0.3948, -0.2520, -0.3134],\n",
       "                        [ 0.6965,  0.4104, -0.0521,  0.5239],\n",
       "                        [ 2.2649,  1.4015,  0.6586,  1.4763],\n",
       "                        [ 0.3764,  0.3948, -0.2520, -0.3134],\n",
       "                        [ 0.6965,  0.4104, -0.0521,  0.5239],\n",
       "                        [ 2.2649,  1.4015,  0.6586,  1.4763],\n",
       "                        [ 0.3764,  0.3948, -0.2520, -0.3134],\n",
       "                        [ 0.6965,  0.4104, -0.0521,  0.5239],\n",
       "                        [ 2.2649,  1.4015,  0.6586,  1.4763],\n",
       "                        [ 0.3764,  0.3948, -0.2520, -0.3134],\n",
       "                        [ 0.6965,  0.4104, -0.0521,  0.5239],\n",
       "                        [ 2.2649,  1.4015,  0.6586,  1.4763]])"
      ]
     },
     "execution_count": 22,
     "metadata": {},
     "output_type": "execute_result"
    }
   ],
   "source": [
    "t_cat = FastTreeValue.func(subside=True)(torch.cat)\n",
    "\n",
    "t_cat(trees)"
   ]
  },
  {
   "cell_type": "code",
   "execution_count": 23,
   "id": "5e9c06a6",
   "metadata": {
    "execution": {
     "iopub.execute_input": "2023-01-29T03:44:05.187489Z",
     "iopub.status.busy": "2023-01-29T03:44:05.187153Z",
     "iopub.status.idle": "2023-01-29T03:44:07.629457Z",
     "shell.execute_reply": "2023-01-29T03:44:07.628814Z"
    }
   },
   "outputs": [
    {
     "name": "stdout",
     "output_type": "stream",
     "text": [
      "30 µs ± 181 ns per loop (mean ± std. dev. of 7 runs, 10,000 loops each)\n"
     ]
    }
   ],
   "source": [
    "%timeit t_cat(trees)"
   ]
  },
  {
   "cell_type": "code",
   "execution_count": 24,
   "id": "a3ab5c8f",
   "metadata": {
    "execution": {
     "iopub.execute_input": "2023-01-29T03:44:07.632525Z",
     "iopub.status.busy": "2023-01-29T03:44:07.631952Z",
     "iopub.status.idle": "2023-01-29T03:44:12.452140Z",
     "shell.execute_reply": "2023-01-29T03:44:12.451388Z"
    }
   },
   "outputs": [
    {
     "name": "stdout",
     "output_type": "stream",
     "text": [
      "59.3 µs ± 67.6 ns per loop (mean ± std. dev. of 7 runs, 10,000 loops each)\n"
     ]
    }
   ],
   "source": [
    "t_split = FastTreeValue.func(rise=True)(torch.split)\n",
    "tree = FastTreeValue({\n",
    "    'obs': torch.randn(8, 4, 84, 84),\n",
    "    'action': torch.randint(0, 6, size=(8, 1,)),\n",
    "    'reward': torch.rand(8, 1),\n",
    "})\n",
    "\n",
    "%timeit t_split(tree, 1)"
   ]
  },
  {
   "cell_type": "markdown",
   "id": "31c3ec0b",
   "metadata": {},
   "source": [
    "### Performance of Tianshou Batch"
   ]
  },
  {
   "cell_type": "code",
   "execution_count": 25,
   "id": "9ead828a",
   "metadata": {
    "execution": {
     "iopub.execute_input": "2023-01-29T03:44:12.455353Z",
     "iopub.status.busy": "2023-01-29T03:44:12.454832Z",
     "iopub.status.idle": "2023-01-29T03:44:12.462685Z",
     "shell.execute_reply": "2023-01-29T03:44:12.462109Z"
    }
   },
   "outputs": [
    {
     "data": {
      "text/plain": [
       "Batch(\n",
       "    a: tensor([[[ 2.0230, -0.5560,  1.1181],\n",
       "                [ 0.1663,  0.3035, -0.1645]],\n",
       "       \n",
       "               [[ 2.0230, -0.5560,  1.1181],\n",
       "                [ 0.1663,  0.3035, -0.1645]],\n",
       "       \n",
       "               [[ 2.0230, -0.5560,  1.1181],\n",
       "                [ 0.1663,  0.3035, -0.1645]],\n",
       "       \n",
       "               [[ 2.0230, -0.5560,  1.1181],\n",
       "                [ 0.1663,  0.3035, -0.1645]],\n",
       "       \n",
       "               [[ 2.0230, -0.5560,  1.1181],\n",
       "                [ 0.1663,  0.3035, -0.1645]],\n",
       "       \n",
       "               [[ 2.0230, -0.5560,  1.1181],\n",
       "                [ 0.1663,  0.3035, -0.1645]],\n",
       "       \n",
       "               [[ 2.0230, -0.5560,  1.1181],\n",
       "                [ 0.1663,  0.3035, -0.1645]],\n",
       "       \n",
       "               [[ 2.0230, -0.5560,  1.1181],\n",
       "                [ 0.1663,  0.3035, -0.1645]]]),\n",
       "    x: Batch(\n",
       "           c: tensor([[[ 0.3764,  0.3948, -0.2520, -0.3134],\n",
       "                       [ 0.6965,  0.4104, -0.0521,  0.5239],\n",
       "                       [ 2.2649,  1.4015,  0.6586,  1.4763]],\n",
       "              \n",
       "                      [[ 0.3764,  0.3948, -0.2520, -0.3134],\n",
       "                       [ 0.6965,  0.4104, -0.0521,  0.5239],\n",
       "                       [ 2.2649,  1.4015,  0.6586,  1.4763]],\n",
       "              \n",
       "                      [[ 0.3764,  0.3948, -0.2520, -0.3134],\n",
       "                       [ 0.6965,  0.4104, -0.0521,  0.5239],\n",
       "                       [ 2.2649,  1.4015,  0.6586,  1.4763]],\n",
       "              \n",
       "                      [[ 0.3764,  0.3948, -0.2520, -0.3134],\n",
       "                       [ 0.6965,  0.4104, -0.0521,  0.5239],\n",
       "                       [ 2.2649,  1.4015,  0.6586,  1.4763]],\n",
       "              \n",
       "                      [[ 0.3764,  0.3948, -0.2520, -0.3134],\n",
       "                       [ 0.6965,  0.4104, -0.0521,  0.5239],\n",
       "                       [ 2.2649,  1.4015,  0.6586,  1.4763]],\n",
       "              \n",
       "                      [[ 0.3764,  0.3948, -0.2520, -0.3134],\n",
       "                       [ 0.6965,  0.4104, -0.0521,  0.5239],\n",
       "                       [ 2.2649,  1.4015,  0.6586,  1.4763]],\n",
       "              \n",
       "                      [[ 0.3764,  0.3948, -0.2520, -0.3134],\n",
       "                       [ 0.6965,  0.4104, -0.0521,  0.5239],\n",
       "                       [ 2.2649,  1.4015,  0.6586,  1.4763]],\n",
       "              \n",
       "                      [[ 0.3764,  0.3948, -0.2520, -0.3134],\n",
       "                       [ 0.6965,  0.4104, -0.0521,  0.5239],\n",
       "                       [ 2.2649,  1.4015,  0.6586,  1.4763]]]),\n",
       "       ),\n",
       ")"
      ]
     },
     "execution_count": 25,
     "metadata": {},
     "output_type": "execute_result"
    }
   ],
   "source": [
    "batches = [Batch(**_TREE_DATA_2) for _ in range(8)]\n",
    "\n",
    "Batch.stack(batches)"
   ]
  },
  {
   "cell_type": "code",
   "execution_count": 26,
   "id": "ec9037a3",
   "metadata": {
    "execution": {
     "iopub.execute_input": "2023-01-29T03:44:12.465240Z",
     "iopub.status.busy": "2023-01-29T03:44:12.464926Z",
     "iopub.status.idle": "2023-01-29T03:44:18.813479Z",
     "shell.execute_reply": "2023-01-29T03:44:18.812488Z"
    }
   },
   "outputs": [
    {
     "name": "stdout",
     "output_type": "stream",
     "text": [
      "78.1 µs ± 103 ns per loop (mean ± std. dev. of 7 runs, 10,000 loops each)\n"
     ]
    }
   ],
   "source": [
    "%timeit Batch.stack(batches)"
   ]
  },
  {
   "cell_type": "code",
   "execution_count": 27,
   "id": "cb8ab77e",
   "metadata": {
    "execution": {
     "iopub.execute_input": "2023-01-29T03:44:18.816326Z",
     "iopub.status.busy": "2023-01-29T03:44:18.815777Z",
     "iopub.status.idle": "2023-01-29T03:44:18.823551Z",
     "shell.execute_reply": "2023-01-29T03:44:18.822653Z"
    }
   },
   "outputs": [
    {
     "data": {
      "text/plain": [
       "Batch(\n",
       "    a: tensor([[ 2.0230, -0.5560,  1.1181],\n",
       "               [ 0.1663,  0.3035, -0.1645],\n",
       "               [ 2.0230, -0.5560,  1.1181],\n",
       "               [ 0.1663,  0.3035, -0.1645],\n",
       "               [ 2.0230, -0.5560,  1.1181],\n",
       "               [ 0.1663,  0.3035, -0.1645],\n",
       "               [ 2.0230, -0.5560,  1.1181],\n",
       "               [ 0.1663,  0.3035, -0.1645],\n",
       "               [ 2.0230, -0.5560,  1.1181],\n",
       "               [ 0.1663,  0.3035, -0.1645],\n",
       "               [ 2.0230, -0.5560,  1.1181],\n",
       "               [ 0.1663,  0.3035, -0.1645],\n",
       "               [ 2.0230, -0.5560,  1.1181],\n",
       "               [ 0.1663,  0.3035, -0.1645],\n",
       "               [ 2.0230, -0.5560,  1.1181],\n",
       "               [ 0.1663,  0.3035, -0.1645]]),\n",
       "    x: Batch(\n",
       "           c: tensor([[ 0.3764,  0.3948, -0.2520, -0.3134],\n",
       "                      [ 0.6965,  0.4104, -0.0521,  0.5239],\n",
       "                      [ 2.2649,  1.4015,  0.6586,  1.4763],\n",
       "                      [ 0.3764,  0.3948, -0.2520, -0.3134],\n",
       "                      [ 0.6965,  0.4104, -0.0521,  0.5239],\n",
       "                      [ 2.2649,  1.4015,  0.6586,  1.4763],\n",
       "                      [ 0.3764,  0.3948, -0.2520, -0.3134],\n",
       "                      [ 0.6965,  0.4104, -0.0521,  0.5239],\n",
       "                      [ 2.2649,  1.4015,  0.6586,  1.4763],\n",
       "                      [ 0.3764,  0.3948, -0.2520, -0.3134],\n",
       "                      [ 0.6965,  0.4104, -0.0521,  0.5239],\n",
       "                      [ 2.2649,  1.4015,  0.6586,  1.4763],\n",
       "                      [ 0.3764,  0.3948, -0.2520, -0.3134],\n",
       "                      [ 0.6965,  0.4104, -0.0521,  0.5239],\n",
       "                      [ 2.2649,  1.4015,  0.6586,  1.4763],\n",
       "                      [ 0.3764,  0.3948, -0.2520, -0.3134],\n",
       "                      [ 0.6965,  0.4104, -0.0521,  0.5239],\n",
       "                      [ 2.2649,  1.4015,  0.6586,  1.4763],\n",
       "                      [ 0.3764,  0.3948, -0.2520, -0.3134],\n",
       "                      [ 0.6965,  0.4104, -0.0521,  0.5239],\n",
       "                      [ 2.2649,  1.4015,  0.6586,  1.4763],\n",
       "                      [ 0.3764,  0.3948, -0.2520, -0.3134],\n",
       "                      [ 0.6965,  0.4104, -0.0521,  0.5239],\n",
       "                      [ 2.2649,  1.4015,  0.6586,  1.4763]]),\n",
       "       ),\n",
       ")"
      ]
     },
     "execution_count": 27,
     "metadata": {},
     "output_type": "execute_result"
    }
   ],
   "source": [
    "Batch.cat(batches)"
   ]
  },
  {
   "cell_type": "code",
   "execution_count": 28,
   "id": "18dfb045",
   "metadata": {
    "execution": {
     "iopub.execute_input": "2023-01-29T03:44:18.826132Z",
     "iopub.status.busy": "2023-01-29T03:44:18.825592Z",
     "iopub.status.idle": "2023-01-29T03:44:30.412470Z",
     "shell.execute_reply": "2023-01-29T03:44:30.411665Z"
    }
   },
   "outputs": [
    {
     "name": "stdout",
     "output_type": "stream",
     "text": [
      "143 µs ± 222 ns per loop (mean ± std. dev. of 7 runs, 10,000 loops each)\n"
     ]
    }
   ],
   "source": [
    "%timeit Batch.cat(batches)"
   ]
  },
  {
   "cell_type": "code",
   "execution_count": 29,
   "id": "c6688e51",
   "metadata": {
    "execution": {
     "iopub.execute_input": "2023-01-29T03:44:30.415209Z",
     "iopub.status.busy": "2023-01-29T03:44:30.414860Z",
     "iopub.status.idle": "2023-01-29T03:44:33.182344Z",
     "shell.execute_reply": "2023-01-29T03:44:33.181652Z"
    }
   },
   "outputs": [
    {
     "name": "stdout",
     "output_type": "stream",
     "text": [
      "340 µs ± 4.07 µs per loop (mean ± std. dev. of 7 runs, 1,000 loops each)\n"
     ]
    }
   ],
   "source": [
    "batch = Batch({\n",
    "    'obs': torch.randn(8, 4, 84, 84),\n",
    "    'action': torch.randint(0, 6, size=(8, 1,)),\n",
    "    'reward': torch.rand(8, 1)}\n",
    ")\n",
    "\n",
    "%timeit list(Batch.split(batch, 1, shuffle=False, merge_last=True))"
   ]
  },
  {
   "cell_type": "code",
   "execution_count": null,
   "id": "2539fbd9",
   "metadata": {},
   "outputs": [],
   "source": []
  }
 ],
 "metadata": {
  "kernelspec": {
   "display_name": "Python 3 (ipykernel)",
   "language": "python",
   "name": "python3"
  },
  "language_info": {
   "codemirror_mode": {
    "name": "ipython",
    "version": 3
   },
   "file_extension": ".py",
   "mimetype": "text/x-python",
   "name": "python",
   "nbconvert_exporter": "python",
   "pygments_lexer": "ipython3",
   "version": "3.8.16"
  }
 },
 "nbformat": 4,
 "nbformat_minor": 5
}
