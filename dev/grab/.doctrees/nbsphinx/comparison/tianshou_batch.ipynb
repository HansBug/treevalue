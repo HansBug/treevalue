{
 "cells": [
  {
   "cell_type": "markdown",
   "id": "9d39d946",
   "metadata": {},
   "source": [
    "# Comparison Between TreeValue and Tianshou Batch"
   ]
  },
  {
   "cell_type": "markdown",
   "id": "3c6db2d4",
   "metadata": {},
   "source": [
    "In this section, we will take a look at the feature and performance of the [Tianshou Batch](https://github.com/thu-ml/tianshou) library, which is developed by Tsinghua Machine Learning Group."
   ]
  },
  {
   "cell_type": "markdown",
   "id": "069361b0",
   "metadata": {},
   "source": [
    "Before starting the comparison, let us define some thing."
   ]
  },
  {
   "cell_type": "code",
   "execution_count": 1,
   "id": "06fc8d26",
   "metadata": {
    "execution": {
     "iopub.execute_input": "2023-01-25T10:51:03.537295Z",
     "iopub.status.busy": "2023-01-25T10:51:03.536832Z",
     "iopub.status.idle": "2023-01-25T10:51:04.708957Z",
     "shell.execute_reply": "2023-01-25T10:51:04.707975Z"
    }
   },
   "outputs": [
    {
     "name": "stderr",
     "output_type": "stream",
     "text": [
      "/opt/hostedtoolcache/Python/3.8.16/x64/lib/python3.8/site-packages/tqdm/auto.py:22: TqdmWarning: IProgress not found. Please update jupyter and ipywidgets. See https://ipywidgets.readthedocs.io/en/stable/user_install.html\n",
      "  from .autonotebook import tqdm as notebook_tqdm\n"
     ]
    }
   ],
   "source": [
    "import torch \n",
    "\n",
    "_TREE_DATA_1 = {'a': 1, 'b': 2, 'x': {'c': 3, 'd': 4}}\n",
    "_TREE_DATA_2 = {\n",
    "    'a': torch.randn(2, 3), \n",
    "    'x': {\n",
    "        'c': torch.randn(3, 4)\n",
    "    },\n",
    "}\n",
    "_TREE_DATA_3 = {\n",
    "    'obs': torch.randn(4, 84, 84),\n",
    "    'action': torch.randint(0, 6, size=(1,)),\n",
    "    'reward': torch.rand(1),\n",
    "}"
   ]
  },
  {
   "cell_type": "markdown",
   "id": "83461b25",
   "metadata": {},
   "source": [
    "## Read and Write Operation"
   ]
  },
  {
   "cell_type": "markdown",
   "id": "067b3f73",
   "metadata": {},
   "source": [
    "Reading and writing are the two most common operations in the tree data structure based on the data model (TreeValue and Tianshou Batch both belong to this type), so this section will compare the reading and writing performance of these two libraries."
   ]
  },
  {
   "cell_type": "markdown",
   "id": "5d09a5b7",
   "metadata": {},
   "source": [
    "### TreeValue's Get and Set"
   ]
  },
  {
   "cell_type": "code",
   "execution_count": 2,
   "id": "9519c4bb",
   "metadata": {
    "execution": {
     "iopub.execute_input": "2023-01-25T10:51:04.715511Z",
     "iopub.status.busy": "2023-01-25T10:51:04.714883Z",
     "iopub.status.idle": "2023-01-25T10:51:04.759967Z",
     "shell.execute_reply": "2023-01-25T10:51:04.758972Z"
    }
   },
   "outputs": [],
   "source": [
    "from treevalue import FastTreeValue\n",
    "\n",
    "t = FastTreeValue(_TREE_DATA_2)"
   ]
  },
  {
   "cell_type": "code",
   "execution_count": 3,
   "id": "11c37677",
   "metadata": {
    "execution": {
     "iopub.execute_input": "2023-01-25T10:51:04.764270Z",
     "iopub.status.busy": "2023-01-25T10:51:04.763948Z",
     "iopub.status.idle": "2023-01-25T10:51:04.774270Z",
     "shell.execute_reply": "2023-01-25T10:51:04.773615Z"
    }
   },
   "outputs": [
    {
     "data": {
      "text/plain": [
       "<FastTreeValue 0x7fbac03d2460>\n",
       "├── 'a' --> tensor([[-1.9692, -1.4157, -0.1254],\n",
       "│                   [-1.0452, -0.8637,  1.1003]])\n",
       "└── 'x' --> <FastTreeValue 0x7fbac03d23a0>\n",
       "    └── 'c' --> tensor([[-0.3311, -0.6493, -0.9600, -0.2359],\n",
       "                        [ 2.0764, -0.8973, -2.5271, -0.6419],\n",
       "                        [ 0.3659, -1.2581,  0.4015,  0.5354]])"
      ]
     },
     "execution_count": 3,
     "metadata": {},
     "output_type": "execute_result"
    }
   ],
   "source": [
    "t"
   ]
  },
  {
   "cell_type": "code",
   "execution_count": 4,
   "id": "fd70b0b9",
   "metadata": {
    "execution": {
     "iopub.execute_input": "2023-01-25T10:51:04.777873Z",
     "iopub.status.busy": "2023-01-25T10:51:04.777324Z",
     "iopub.status.idle": "2023-01-25T10:51:04.783359Z",
     "shell.execute_reply": "2023-01-25T10:51:04.782550Z"
    }
   },
   "outputs": [
    {
     "data": {
      "text/plain": [
       "tensor([[-1.9692, -1.4157, -0.1254],\n",
       "        [-1.0452, -0.8637,  1.1003]])"
      ]
     },
     "execution_count": 4,
     "metadata": {},
     "output_type": "execute_result"
    }
   ],
   "source": [
    "t.a"
   ]
  },
  {
   "cell_type": "code",
   "execution_count": 5,
   "id": "c18197bd",
   "metadata": {
    "execution": {
     "iopub.execute_input": "2023-01-25T10:51:04.790033Z",
     "iopub.status.busy": "2023-01-25T10:51:04.789331Z",
     "iopub.status.idle": "2023-01-25T10:51:11.061566Z",
     "shell.execute_reply": "2023-01-25T10:51:11.060542Z"
    }
   },
   "outputs": [
    {
     "name": "stdout",
     "output_type": "stream",
     "text": [
      "77.2 ns ± 0.135 ns per loop (mean ± std. dev. of 7 runs, 10,000,000 loops each)\n"
     ]
    }
   ],
   "source": [
    "%timeit t.a"
   ]
  },
  {
   "cell_type": "code",
   "execution_count": 6,
   "id": "bd52f867",
   "metadata": {
    "execution": {
     "iopub.execute_input": "2023-01-25T10:51:11.071289Z",
     "iopub.status.busy": "2023-01-25T10:51:11.070939Z",
     "iopub.status.idle": "2023-01-25T10:51:11.078901Z",
     "shell.execute_reply": "2023-01-25T10:51:11.078028Z"
    }
   },
   "outputs": [
    {
     "data": {
      "text/plain": [
       "<FastTreeValue 0x7fbac03d2460>\n",
       "├── 'a' --> tensor([[ 0.7377,  0.1620, -1.3687],\n",
       "│                   [ 0.3111, -0.6096, -0.0665]])\n",
       "└── 'x' --> <FastTreeValue 0x7fbac03d23a0>\n",
       "    └── 'c' --> tensor([[-0.3311, -0.6493, -0.9600, -0.2359],\n",
       "                        [ 2.0764, -0.8973, -2.5271, -0.6419],\n",
       "                        [ 0.3659, -1.2581,  0.4015,  0.5354]])"
      ]
     },
     "execution_count": 6,
     "metadata": {},
     "output_type": "execute_result"
    }
   ],
   "source": [
    "new_value = torch.randn(2, 3)\n",
    "t.a = new_value\n",
    "\n",
    "t"
   ]
  },
  {
   "cell_type": "code",
   "execution_count": 7,
   "id": "bbe04d1c",
   "metadata": {
    "execution": {
     "iopub.execute_input": "2023-01-25T10:51:11.082872Z",
     "iopub.status.busy": "2023-01-25T10:51:11.082194Z",
     "iopub.status.idle": "2023-01-25T10:51:17.728573Z",
     "shell.execute_reply": "2023-01-25T10:51:17.727007Z"
    }
   },
   "outputs": [
    {
     "name": "stdout",
     "output_type": "stream",
     "text": [
      "81.8 ns ± 0.145 ns per loop (mean ± std. dev. of 7 runs, 10,000,000 loops each)\n"
     ]
    }
   ],
   "source": [
    "%timeit t.a = new_value"
   ]
  },
  {
   "cell_type": "markdown",
   "id": "48c49731",
   "metadata": {},
   "source": [
    "### Tianshou Batch's Get and Set"
   ]
  },
  {
   "cell_type": "code",
   "execution_count": 8,
   "id": "f1bb14c1",
   "metadata": {
    "execution": {
     "iopub.execute_input": "2023-01-25T10:51:17.732388Z",
     "iopub.status.busy": "2023-01-25T10:51:17.731786Z",
     "iopub.status.idle": "2023-01-25T10:51:18.149847Z",
     "shell.execute_reply": "2023-01-25T10:51:18.148257Z"
    }
   },
   "outputs": [],
   "source": [
    "from tianshou.data import Batch\n",
    "\n",
    "b = Batch(**_TREE_DATA_2)"
   ]
  },
  {
   "cell_type": "code",
   "execution_count": 9,
   "id": "cb0777c3",
   "metadata": {
    "execution": {
     "iopub.execute_input": "2023-01-25T10:51:18.156123Z",
     "iopub.status.busy": "2023-01-25T10:51:18.155507Z",
     "iopub.status.idle": "2023-01-25T10:51:18.162427Z",
     "shell.execute_reply": "2023-01-25T10:51:18.161618Z"
    }
   },
   "outputs": [
    {
     "data": {
      "text/plain": [
       "Batch(\n",
       "    a: tensor([[-1.9692, -1.4157, -0.1254],\n",
       "               [-1.0452, -0.8637,  1.1003]]),\n",
       "    x: Batch(\n",
       "           c: tensor([[-0.3311, -0.6493, -0.9600, -0.2359],\n",
       "                      [ 2.0764, -0.8973, -2.5271, -0.6419],\n",
       "                      [ 0.3659, -1.2581,  0.4015,  0.5354]]),\n",
       "       ),\n",
       ")"
      ]
     },
     "execution_count": 9,
     "metadata": {},
     "output_type": "execute_result"
    }
   ],
   "source": [
    "b"
   ]
  },
  {
   "cell_type": "code",
   "execution_count": 10,
   "id": "43ef8ea3",
   "metadata": {
    "execution": {
     "iopub.execute_input": "2023-01-25T10:51:18.166319Z",
     "iopub.status.busy": "2023-01-25T10:51:18.165591Z",
     "iopub.status.idle": "2023-01-25T10:51:18.171670Z",
     "shell.execute_reply": "2023-01-25T10:51:18.170858Z"
    }
   },
   "outputs": [
    {
     "data": {
      "text/plain": [
       "tensor([[-1.9692, -1.4157, -0.1254],\n",
       "        [-1.0452, -0.8637,  1.1003]])"
      ]
     },
     "execution_count": 10,
     "metadata": {},
     "output_type": "execute_result"
    }
   ],
   "source": [
    "b.a"
   ]
  },
  {
   "cell_type": "code",
   "execution_count": 11,
   "id": "b785ab72",
   "metadata": {
    "execution": {
     "iopub.execute_input": "2023-01-25T10:51:18.175158Z",
     "iopub.status.busy": "2023-01-25T10:51:18.174722Z",
     "iopub.status.idle": "2023-01-25T10:51:23.897759Z",
     "shell.execute_reply": "2023-01-25T10:51:23.896835Z"
    }
   },
   "outputs": [
    {
     "name": "stdout",
     "output_type": "stream",
     "text": [
      "70.3 ns ± 0.185 ns per loop (mean ± std. dev. of 7 runs, 10,000,000 loops each)\n"
     ]
    }
   ],
   "source": [
    "%timeit b.a"
   ]
  },
  {
   "cell_type": "code",
   "execution_count": 12,
   "id": "ad54dc69",
   "metadata": {
    "execution": {
     "iopub.execute_input": "2023-01-25T10:51:23.901521Z",
     "iopub.status.busy": "2023-01-25T10:51:23.900953Z",
     "iopub.status.idle": "2023-01-25T10:51:23.909801Z",
     "shell.execute_reply": "2023-01-25T10:51:23.908720Z"
    }
   },
   "outputs": [
    {
     "data": {
      "text/plain": [
       "Batch(\n",
       "    a: tensor([[-1.8147,  1.2047, -1.0598],\n",
       "               [-0.5690,  0.3768,  1.0704]]),\n",
       "    x: Batch(\n",
       "           c: tensor([[-0.3311, -0.6493, -0.9600, -0.2359],\n",
       "                      [ 2.0764, -0.8973, -2.5271, -0.6419],\n",
       "                      [ 0.3659, -1.2581,  0.4015,  0.5354]]),\n",
       "       ),\n",
       ")"
      ]
     },
     "execution_count": 12,
     "metadata": {},
     "output_type": "execute_result"
    }
   ],
   "source": [
    "new_value = torch.randn(2, 3)\n",
    "b.a = new_value\n",
    "\n",
    "b"
   ]
  },
  {
   "cell_type": "code",
   "execution_count": 13,
   "id": "29b1d0bf",
   "metadata": {
    "execution": {
     "iopub.execute_input": "2023-01-25T10:51:23.914382Z",
     "iopub.status.busy": "2023-01-25T10:51:23.913551Z",
     "iopub.status.idle": "2023-01-25T10:51:28.728373Z",
     "shell.execute_reply": "2023-01-25T10:51:28.726928Z"
    }
   },
   "outputs": [
    {
     "name": "stdout",
     "output_type": "stream",
     "text": [
      "588 ns ± 1.7 ns per loop (mean ± std. dev. of 7 runs, 1,000,000 loops each)\n"
     ]
    }
   ],
   "source": [
    "%timeit b.a = new_value"
   ]
  },
  {
   "cell_type": "markdown",
   "id": "b61ad1d0",
   "metadata": {},
   "source": [
    "## Initialization"
   ]
  },
  {
   "cell_type": "markdown",
   "id": "d70f0d54",
   "metadata": {},
   "source": [
    "### TreeValue's Initialization"
   ]
  },
  {
   "cell_type": "code",
   "execution_count": 14,
   "id": "d32a679b",
   "metadata": {
    "execution": {
     "iopub.execute_input": "2023-01-25T10:51:28.733463Z",
     "iopub.status.busy": "2023-01-25T10:51:28.732597Z",
     "iopub.status.idle": "2023-01-25T10:51:36.722106Z",
     "shell.execute_reply": "2023-01-25T10:51:36.721355Z"
    }
   },
   "outputs": [
    {
     "name": "stdout",
     "output_type": "stream",
     "text": [
      "983 ns ± 1.77 ns per loop (mean ± std. dev. of 7 runs, 1,000,000 loops each)\n"
     ]
    }
   ],
   "source": [
    "%timeit FastTreeValue(_TREE_DATA_1)"
   ]
  },
  {
   "cell_type": "markdown",
   "id": "24f3707b",
   "metadata": {},
   "source": [
    "### Tianshou Batch's Initialization"
   ]
  },
  {
   "cell_type": "code",
   "execution_count": 15,
   "id": "ac3958df",
   "metadata": {
    "execution": {
     "iopub.execute_input": "2023-01-25T10:51:36.726151Z",
     "iopub.status.busy": "2023-01-25T10:51:36.725406Z",
     "iopub.status.idle": "2023-01-25T10:51:46.601095Z",
     "shell.execute_reply": "2023-01-25T10:51:46.600064Z"
    }
   },
   "outputs": [
    {
     "name": "stdout",
     "output_type": "stream",
     "text": [
      "12.2 µs ± 59.4 ns per loop (mean ± std. dev. of 7 runs, 100,000 loops each)\n"
     ]
    }
   ],
   "source": [
    "%timeit Batch(**_TREE_DATA_1)"
   ]
  },
  {
   "cell_type": "markdown",
   "id": "1ab82e2d",
   "metadata": {},
   "source": [
    "## Deep Copy Operation"
   ]
  },
  {
   "cell_type": "code",
   "execution_count": 16,
   "id": "210a9442",
   "metadata": {
    "execution": {
     "iopub.execute_input": "2023-01-25T10:51:46.605351Z",
     "iopub.status.busy": "2023-01-25T10:51:46.604659Z",
     "iopub.status.idle": "2023-01-25T10:51:46.609844Z",
     "shell.execute_reply": "2023-01-25T10:51:46.609033Z"
    }
   },
   "outputs": [],
   "source": [
    "import copy"
   ]
  },
  {
   "cell_type": "markdown",
   "id": "5a736274",
   "metadata": {},
   "source": [
    "### Deep Copy of TreeValue"
   ]
  },
  {
   "cell_type": "code",
   "execution_count": 17,
   "id": "f9bcadd6",
   "metadata": {
    "execution": {
     "iopub.execute_input": "2023-01-25T10:51:46.613586Z",
     "iopub.status.busy": "2023-01-25T10:51:46.613146Z",
     "iopub.status.idle": "2023-01-25T10:52:00.502000Z",
     "shell.execute_reply": "2023-01-25T10:52:00.501256Z"
    }
   },
   "outputs": [
    {
     "name": "stdout",
     "output_type": "stream",
     "text": [
      "171 µs ± 1.06 µs per loop (mean ± std. dev. of 7 runs, 10,000 loops each)\n"
     ]
    }
   ],
   "source": [
    "t3 = FastTreeValue(_TREE_DATA_3)\n",
    "%timeit copy.deepcopy(t3)"
   ]
  },
  {
   "cell_type": "markdown",
   "id": "bf8be7ea",
   "metadata": {},
   "source": [
    "### Deep Copy of Tianshou Batch"
   ]
  },
  {
   "cell_type": "code",
   "execution_count": 18,
   "id": "91998e6f",
   "metadata": {
    "execution": {
     "iopub.execute_input": "2023-01-25T10:52:00.505885Z",
     "iopub.status.busy": "2023-01-25T10:52:00.505246Z",
     "iopub.status.idle": "2023-01-25T10:52:14.249826Z",
     "shell.execute_reply": "2023-01-25T10:52:14.248805Z"
    }
   },
   "outputs": [
    {
     "name": "stdout",
     "output_type": "stream",
     "text": [
      "169 µs ± 808 ns per loop (mean ± std. dev. of 7 runs, 10,000 loops each)\n"
     ]
    }
   ],
   "source": [
    "b3 = Batch(**_TREE_DATA_3)\n",
    "%timeit copy.deepcopy(b3)"
   ]
  },
  {
   "cell_type": "markdown",
   "id": "223162fb",
   "metadata": {},
   "source": [
    "## Stack, Concat and Split Operation"
   ]
  },
  {
   "cell_type": "markdown",
   "id": "85fa4a73",
   "metadata": {},
   "source": [
    "### Performance of TreeValue"
   ]
  },
  {
   "cell_type": "code",
   "execution_count": 19,
   "id": "a0c2b697",
   "metadata": {
    "execution": {
     "iopub.execute_input": "2023-01-25T10:52:14.253766Z",
     "iopub.status.busy": "2023-01-25T10:52:14.253457Z",
     "iopub.status.idle": "2023-01-25T10:52:14.258805Z",
     "shell.execute_reply": "2023-01-25T10:52:14.258030Z"
    }
   },
   "outputs": [],
   "source": [
    "trees = [FastTreeValue(_TREE_DATA_2) for _ in range(8)]"
   ]
  },
  {
   "cell_type": "code",
   "execution_count": 20,
   "id": "017ea5a5",
   "metadata": {
    "execution": {
     "iopub.execute_input": "2023-01-25T10:52:14.262498Z",
     "iopub.status.busy": "2023-01-25T10:52:14.261849Z",
     "iopub.status.idle": "2023-01-25T10:52:14.270512Z",
     "shell.execute_reply": "2023-01-25T10:52:14.269681Z"
    }
   },
   "outputs": [
    {
     "data": {
      "text/plain": [
       "<FastTreeValue 0x7fba141b8fd0>\n",
       "├── 'a' --> tensor([[[-1.9692, -1.4157, -0.1254],\n",
       "│                    [-1.0452, -0.8637,  1.1003]],\n",
       "│           \n",
       "│                   [[-1.9692, -1.4157, -0.1254],\n",
       "│                    [-1.0452, -0.8637,  1.1003]],\n",
       "│           \n",
       "│                   [[-1.9692, -1.4157, -0.1254],\n",
       "│                    [-1.0452, -0.8637,  1.1003]],\n",
       "│           \n",
       "│                   [[-1.9692, -1.4157, -0.1254],\n",
       "│                    [-1.0452, -0.8637,  1.1003]],\n",
       "│           \n",
       "│                   [[-1.9692, -1.4157, -0.1254],\n",
       "│                    [-1.0452, -0.8637,  1.1003]],\n",
       "│           \n",
       "│                   [[-1.9692, -1.4157, -0.1254],\n",
       "│                    [-1.0452, -0.8637,  1.1003]],\n",
       "│           \n",
       "│                   [[-1.9692, -1.4157, -0.1254],\n",
       "│                    [-1.0452, -0.8637,  1.1003]],\n",
       "│           \n",
       "│                   [[-1.9692, -1.4157, -0.1254],\n",
       "│                    [-1.0452, -0.8637,  1.1003]]])\n",
       "└── 'x' --> <FastTreeValue 0x7fba141b8c70>\n",
       "    └── 'c' --> tensor([[[-0.3311, -0.6493, -0.9600, -0.2359],\n",
       "                         [ 2.0764, -0.8973, -2.5271, -0.6419],\n",
       "                         [ 0.3659, -1.2581,  0.4015,  0.5354]],\n",
       "                \n",
       "                        [[-0.3311, -0.6493, -0.9600, -0.2359],\n",
       "                         [ 2.0764, -0.8973, -2.5271, -0.6419],\n",
       "                         [ 0.3659, -1.2581,  0.4015,  0.5354]],\n",
       "                \n",
       "                        [[-0.3311, -0.6493, -0.9600, -0.2359],\n",
       "                         [ 2.0764, -0.8973, -2.5271, -0.6419],\n",
       "                         [ 0.3659, -1.2581,  0.4015,  0.5354]],\n",
       "                \n",
       "                        [[-0.3311, -0.6493, -0.9600, -0.2359],\n",
       "                         [ 2.0764, -0.8973, -2.5271, -0.6419],\n",
       "                         [ 0.3659, -1.2581,  0.4015,  0.5354]],\n",
       "                \n",
       "                        [[-0.3311, -0.6493, -0.9600, -0.2359],\n",
       "                         [ 2.0764, -0.8973, -2.5271, -0.6419],\n",
       "                         [ 0.3659, -1.2581,  0.4015,  0.5354]],\n",
       "                \n",
       "                        [[-0.3311, -0.6493, -0.9600, -0.2359],\n",
       "                         [ 2.0764, -0.8973, -2.5271, -0.6419],\n",
       "                         [ 0.3659, -1.2581,  0.4015,  0.5354]],\n",
       "                \n",
       "                        [[-0.3311, -0.6493, -0.9600, -0.2359],\n",
       "                         [ 2.0764, -0.8973, -2.5271, -0.6419],\n",
       "                         [ 0.3659, -1.2581,  0.4015,  0.5354]],\n",
       "                \n",
       "                        [[-0.3311, -0.6493, -0.9600, -0.2359],\n",
       "                         [ 2.0764, -0.8973, -2.5271, -0.6419],\n",
       "                         [ 0.3659, -1.2581,  0.4015,  0.5354]]])"
      ]
     },
     "execution_count": 20,
     "metadata": {},
     "output_type": "execute_result"
    }
   ],
   "source": [
    "t_stack = FastTreeValue.func(subside=True)(torch.stack)\n",
    "\n",
    "t_stack(trees)"
   ]
  },
  {
   "cell_type": "code",
   "execution_count": 21,
   "id": "f8b3f415",
   "metadata": {
    "execution": {
     "iopub.execute_input": "2023-01-25T10:52:14.273780Z",
     "iopub.status.busy": "2023-01-25T10:52:14.273375Z",
     "iopub.status.idle": "2023-01-25T10:52:17.369703Z",
     "shell.execute_reply": "2023-01-25T10:52:17.367723Z"
    }
   },
   "outputs": [
    {
     "name": "stdout",
     "output_type": "stream",
     "text": [
      "38.1 µs ± 145 ns per loop (mean ± std. dev. of 7 runs, 10,000 loops each)\n"
     ]
    }
   ],
   "source": [
    "%timeit t_stack(trees)"
   ]
  },
  {
   "cell_type": "code",
   "execution_count": 22,
   "id": "94b56771",
   "metadata": {
    "execution": {
     "iopub.execute_input": "2023-01-25T10:52:17.374068Z",
     "iopub.status.busy": "2023-01-25T10:52:17.373758Z",
     "iopub.status.idle": "2023-01-25T10:52:17.382266Z",
     "shell.execute_reply": "2023-01-25T10:52:17.381454Z"
    }
   },
   "outputs": [
    {
     "data": {
      "text/plain": [
       "<FastTreeValue 0x7fba140d40a0>\n",
       "├── 'a' --> tensor([[-1.9692, -1.4157, -0.1254],\n",
       "│                   [-1.0452, -0.8637,  1.1003],\n",
       "│                   [-1.9692, -1.4157, -0.1254],\n",
       "│                   [-1.0452, -0.8637,  1.1003],\n",
       "│                   [-1.9692, -1.4157, -0.1254],\n",
       "│                   [-1.0452, -0.8637,  1.1003],\n",
       "│                   [-1.9692, -1.4157, -0.1254],\n",
       "│                   [-1.0452, -0.8637,  1.1003],\n",
       "│                   [-1.9692, -1.4157, -0.1254],\n",
       "│                   [-1.0452, -0.8637,  1.1003],\n",
       "│                   [-1.9692, -1.4157, -0.1254],\n",
       "│                   [-1.0452, -0.8637,  1.1003],\n",
       "│                   [-1.9692, -1.4157, -0.1254],\n",
       "│                   [-1.0452, -0.8637,  1.1003],\n",
       "│                   [-1.9692, -1.4157, -0.1254],\n",
       "│                   [-1.0452, -0.8637,  1.1003]])\n",
       "└── 'x' --> <FastTreeValue 0x7fbac03d2580>\n",
       "    └── 'c' --> tensor([[-0.3311, -0.6493, -0.9600, -0.2359],\n",
       "                        [ 2.0764, -0.8973, -2.5271, -0.6419],\n",
       "                        [ 0.3659, -1.2581,  0.4015,  0.5354],\n",
       "                        [-0.3311, -0.6493, -0.9600, -0.2359],\n",
       "                        [ 2.0764, -0.8973, -2.5271, -0.6419],\n",
       "                        [ 0.3659, -1.2581,  0.4015,  0.5354],\n",
       "                        [-0.3311, -0.6493, -0.9600, -0.2359],\n",
       "                        [ 2.0764, -0.8973, -2.5271, -0.6419],\n",
       "                        [ 0.3659, -1.2581,  0.4015,  0.5354],\n",
       "                        [-0.3311, -0.6493, -0.9600, -0.2359],\n",
       "                        [ 2.0764, -0.8973, -2.5271, -0.6419],\n",
       "                        [ 0.3659, -1.2581,  0.4015,  0.5354],\n",
       "                        [-0.3311, -0.6493, -0.9600, -0.2359],\n",
       "                        [ 2.0764, -0.8973, -2.5271, -0.6419],\n",
       "                        [ 0.3659, -1.2581,  0.4015,  0.5354],\n",
       "                        [-0.3311, -0.6493, -0.9600, -0.2359],\n",
       "                        [ 2.0764, -0.8973, -2.5271, -0.6419],\n",
       "                        [ 0.3659, -1.2581,  0.4015,  0.5354],\n",
       "                        [-0.3311, -0.6493, -0.9600, -0.2359],\n",
       "                        [ 2.0764, -0.8973, -2.5271, -0.6419],\n",
       "                        [ 0.3659, -1.2581,  0.4015,  0.5354],\n",
       "                        [-0.3311, -0.6493, -0.9600, -0.2359],\n",
       "                        [ 2.0764, -0.8973, -2.5271, -0.6419],\n",
       "                        [ 0.3659, -1.2581,  0.4015,  0.5354]])"
      ]
     },
     "execution_count": 22,
     "metadata": {},
     "output_type": "execute_result"
    }
   ],
   "source": [
    "t_cat = FastTreeValue.func(subside=True)(torch.cat)\n",
    "\n",
    "t_cat(trees)"
   ]
  },
  {
   "cell_type": "code",
   "execution_count": 23,
   "id": "5e9c06a6",
   "metadata": {
    "execution": {
     "iopub.execute_input": "2023-01-25T10:52:17.385851Z",
     "iopub.status.busy": "2023-01-25T10:52:17.385571Z",
     "iopub.status.idle": "2023-01-25T10:52:20.263968Z",
     "shell.execute_reply": "2023-01-25T10:52:20.263224Z"
    }
   },
   "outputs": [
    {
     "name": "stdout",
     "output_type": "stream",
     "text": [
      "35.4 µs ± 174 ns per loop (mean ± std. dev. of 7 runs, 10,000 loops each)\n"
     ]
    }
   ],
   "source": [
    "%timeit t_cat(trees)"
   ]
  },
  {
   "cell_type": "code",
   "execution_count": 24,
   "id": "a3ab5c8f",
   "metadata": {
    "execution": {
     "iopub.execute_input": "2023-01-25T10:52:20.270270Z",
     "iopub.status.busy": "2023-01-25T10:52:20.267780Z",
     "iopub.status.idle": "2023-01-25T10:52:25.557070Z",
     "shell.execute_reply": "2023-01-25T10:52:25.555616Z"
    }
   },
   "outputs": [
    {
     "name": "stdout",
     "output_type": "stream",
     "text": [
      "64.7 µs ± 1.62 µs per loop (mean ± std. dev. of 7 runs, 10,000 loops each)\n"
     ]
    }
   ],
   "source": [
    "t_split = FastTreeValue.func(rise=True)(torch.split)\n",
    "tree = FastTreeValue({\n",
    "    'obs': torch.randn(8, 4, 84, 84),\n",
    "    'action': torch.randint(0, 6, size=(8, 1,)),\n",
    "    'reward': torch.rand(8, 1),\n",
    "})\n",
    "\n",
    "%timeit t_split(tree, 1)"
   ]
  },
  {
   "cell_type": "markdown",
   "id": "31c3ec0b",
   "metadata": {},
   "source": [
    "### Performance of Tianshou Batch"
   ]
  },
  {
   "cell_type": "code",
   "execution_count": 25,
   "id": "9ead828a",
   "metadata": {
    "execution": {
     "iopub.execute_input": "2023-01-25T10:52:25.562091Z",
     "iopub.status.busy": "2023-01-25T10:52:25.561235Z",
     "iopub.status.idle": "2023-01-25T10:52:25.576182Z",
     "shell.execute_reply": "2023-01-25T10:52:25.575342Z"
    }
   },
   "outputs": [
    {
     "data": {
      "text/plain": [
       "Batch(\n",
       "    a: tensor([[[-1.9692, -1.4157, -0.1254],\n",
       "                [-1.0452, -0.8637,  1.1003]],\n",
       "       \n",
       "               [[-1.9692, -1.4157, -0.1254],\n",
       "                [-1.0452, -0.8637,  1.1003]],\n",
       "       \n",
       "               [[-1.9692, -1.4157, -0.1254],\n",
       "                [-1.0452, -0.8637,  1.1003]],\n",
       "       \n",
       "               [[-1.9692, -1.4157, -0.1254],\n",
       "                [-1.0452, -0.8637,  1.1003]],\n",
       "       \n",
       "               [[-1.9692, -1.4157, -0.1254],\n",
       "                [-1.0452, -0.8637,  1.1003]],\n",
       "       \n",
       "               [[-1.9692, -1.4157, -0.1254],\n",
       "                [-1.0452, -0.8637,  1.1003]],\n",
       "       \n",
       "               [[-1.9692, -1.4157, -0.1254],\n",
       "                [-1.0452, -0.8637,  1.1003]],\n",
       "       \n",
       "               [[-1.9692, -1.4157, -0.1254],\n",
       "                [-1.0452, -0.8637,  1.1003]]]),\n",
       "    x: Batch(\n",
       "           c: tensor([[[-0.3311, -0.6493, -0.9600, -0.2359],\n",
       "                       [ 2.0764, -0.8973, -2.5271, -0.6419],\n",
       "                       [ 0.3659, -1.2581,  0.4015,  0.5354]],\n",
       "              \n",
       "                      [[-0.3311, -0.6493, -0.9600, -0.2359],\n",
       "                       [ 2.0764, -0.8973, -2.5271, -0.6419],\n",
       "                       [ 0.3659, -1.2581,  0.4015,  0.5354]],\n",
       "              \n",
       "                      [[-0.3311, -0.6493, -0.9600, -0.2359],\n",
       "                       [ 2.0764, -0.8973, -2.5271, -0.6419],\n",
       "                       [ 0.3659, -1.2581,  0.4015,  0.5354]],\n",
       "              \n",
       "                      [[-0.3311, -0.6493, -0.9600, -0.2359],\n",
       "                       [ 2.0764, -0.8973, -2.5271, -0.6419],\n",
       "                       [ 0.3659, -1.2581,  0.4015,  0.5354]],\n",
       "              \n",
       "                      [[-0.3311, -0.6493, -0.9600, -0.2359],\n",
       "                       [ 2.0764, -0.8973, -2.5271, -0.6419],\n",
       "                       [ 0.3659, -1.2581,  0.4015,  0.5354]],\n",
       "              \n",
       "                      [[-0.3311, -0.6493, -0.9600, -0.2359],\n",
       "                       [ 2.0764, -0.8973, -2.5271, -0.6419],\n",
       "                       [ 0.3659, -1.2581,  0.4015,  0.5354]],\n",
       "              \n",
       "                      [[-0.3311, -0.6493, -0.9600, -0.2359],\n",
       "                       [ 2.0764, -0.8973, -2.5271, -0.6419],\n",
       "                       [ 0.3659, -1.2581,  0.4015,  0.5354]],\n",
       "              \n",
       "                      [[-0.3311, -0.6493, -0.9600, -0.2359],\n",
       "                       [ 2.0764, -0.8973, -2.5271, -0.6419],\n",
       "                       [ 0.3659, -1.2581,  0.4015,  0.5354]]]),\n",
       "       ),\n",
       ")"
      ]
     },
     "execution_count": 25,
     "metadata": {},
     "output_type": "execute_result"
    }
   ],
   "source": [
    "batches = [Batch(**_TREE_DATA_2) for _ in range(8)]\n",
    "\n",
    "Batch.stack(batches)"
   ]
  },
  {
   "cell_type": "code",
   "execution_count": 26,
   "id": "ec9037a3",
   "metadata": {
    "execution": {
     "iopub.execute_input": "2023-01-25T10:52:25.579885Z",
     "iopub.status.busy": "2023-01-25T10:52:25.579421Z",
     "iopub.status.idle": "2023-01-25T10:52:32.981154Z",
     "shell.execute_reply": "2023-01-25T10:52:32.980366Z"
    }
   },
   "outputs": [
    {
     "name": "stdout",
     "output_type": "stream",
     "text": [
      "90.3 µs ± 301 ns per loop (mean ± std. dev. of 7 runs, 10,000 loops each)\n"
     ]
    }
   ],
   "source": [
    "%timeit Batch.stack(batches)"
   ]
  },
  {
   "cell_type": "code",
   "execution_count": 27,
   "id": "cb8ab77e",
   "metadata": {
    "execution": {
     "iopub.execute_input": "2023-01-25T10:52:32.984932Z",
     "iopub.status.busy": "2023-01-25T10:52:32.984363Z",
     "iopub.status.idle": "2023-01-25T10:52:32.992546Z",
     "shell.execute_reply": "2023-01-25T10:52:32.991736Z"
    }
   },
   "outputs": [
    {
     "data": {
      "text/plain": [
       "Batch(\n",
       "    a: tensor([[-1.9692, -1.4157, -0.1254],\n",
       "               [-1.0452, -0.8637,  1.1003],\n",
       "               [-1.9692, -1.4157, -0.1254],\n",
       "               [-1.0452, -0.8637,  1.1003],\n",
       "               [-1.9692, -1.4157, -0.1254],\n",
       "               [-1.0452, -0.8637,  1.1003],\n",
       "               [-1.9692, -1.4157, -0.1254],\n",
       "               [-1.0452, -0.8637,  1.1003],\n",
       "               [-1.9692, -1.4157, -0.1254],\n",
       "               [-1.0452, -0.8637,  1.1003],\n",
       "               [-1.9692, -1.4157, -0.1254],\n",
       "               [-1.0452, -0.8637,  1.1003],\n",
       "               [-1.9692, -1.4157, -0.1254],\n",
       "               [-1.0452, -0.8637,  1.1003],\n",
       "               [-1.9692, -1.4157, -0.1254],\n",
       "               [-1.0452, -0.8637,  1.1003]]),\n",
       "    x: Batch(\n",
       "           c: tensor([[-0.3311, -0.6493, -0.9600, -0.2359],\n",
       "                      [ 2.0764, -0.8973, -2.5271, -0.6419],\n",
       "                      [ 0.3659, -1.2581,  0.4015,  0.5354],\n",
       "                      [-0.3311, -0.6493, -0.9600, -0.2359],\n",
       "                      [ 2.0764, -0.8973, -2.5271, -0.6419],\n",
       "                      [ 0.3659, -1.2581,  0.4015,  0.5354],\n",
       "                      [-0.3311, -0.6493, -0.9600, -0.2359],\n",
       "                      [ 2.0764, -0.8973, -2.5271, -0.6419],\n",
       "                      [ 0.3659, -1.2581,  0.4015,  0.5354],\n",
       "                      [-0.3311, -0.6493, -0.9600, -0.2359],\n",
       "                      [ 2.0764, -0.8973, -2.5271, -0.6419],\n",
       "                      [ 0.3659, -1.2581,  0.4015,  0.5354],\n",
       "                      [-0.3311, -0.6493, -0.9600, -0.2359],\n",
       "                      [ 2.0764, -0.8973, -2.5271, -0.6419],\n",
       "                      [ 0.3659, -1.2581,  0.4015,  0.5354],\n",
       "                      [-0.3311, -0.6493, -0.9600, -0.2359],\n",
       "                      [ 2.0764, -0.8973, -2.5271, -0.6419],\n",
       "                      [ 0.3659, -1.2581,  0.4015,  0.5354],\n",
       "                      [-0.3311, -0.6493, -0.9600, -0.2359],\n",
       "                      [ 2.0764, -0.8973, -2.5271, -0.6419],\n",
       "                      [ 0.3659, -1.2581,  0.4015,  0.5354],\n",
       "                      [-0.3311, -0.6493, -0.9600, -0.2359],\n",
       "                      [ 2.0764, -0.8973, -2.5271, -0.6419],\n",
       "                      [ 0.3659, -1.2581,  0.4015,  0.5354]]),\n",
       "       ),\n",
       ")"
      ]
     },
     "execution_count": 27,
     "metadata": {},
     "output_type": "execute_result"
    }
   ],
   "source": [
    "Batch.cat(batches)"
   ]
  },
  {
   "cell_type": "code",
   "execution_count": 28,
   "id": "18dfb045",
   "metadata": {
    "execution": {
     "iopub.execute_input": "2023-01-25T10:52:32.996002Z",
     "iopub.status.busy": "2023-01-25T10:52:32.995560Z",
     "iopub.status.idle": "2023-01-25T10:52:47.367453Z",
     "shell.execute_reply": "2023-01-25T10:52:47.366083Z"
    }
   },
   "outputs": [
    {
     "name": "stdout",
     "output_type": "stream",
     "text": [
      "176 µs ± 6.18 µs per loop (mean ± std. dev. of 7 runs, 10,000 loops each)\n"
     ]
    }
   ],
   "source": [
    "%timeit Batch.cat(batches)"
   ]
  },
  {
   "cell_type": "code",
   "execution_count": 29,
   "id": "c6688e51",
   "metadata": {
    "execution": {
     "iopub.execute_input": "2023-01-25T10:52:47.372361Z",
     "iopub.status.busy": "2023-01-25T10:52:47.371578Z",
     "iopub.status.idle": "2023-01-25T10:52:50.536430Z",
     "shell.execute_reply": "2023-01-25T10:52:50.535495Z"
    }
   },
   "outputs": [
    {
     "name": "stdout",
     "output_type": "stream",
     "text": [
      "387 µs ± 2.85 µs per loop (mean ± std. dev. of 7 runs, 1,000 loops each)\n"
     ]
    }
   ],
   "source": [
    "batch = Batch({\n",
    "    'obs': torch.randn(8, 4, 84, 84),\n",
    "    'action': torch.randint(0, 6, size=(8, 1,)),\n",
    "    'reward': torch.rand(8, 1)}\n",
    ")\n",
    "\n",
    "%timeit list(Batch.split(batch, 1, shuffle=False, merge_last=True))"
   ]
  },
  {
   "cell_type": "code",
   "execution_count": null,
   "id": "2539fbd9",
   "metadata": {},
   "outputs": [],
   "source": []
  }
 ],
 "metadata": {
  "kernelspec": {
   "display_name": "Python 3 (ipykernel)",
   "language": "python",
   "name": "python3"
  },
  "language_info": {
   "codemirror_mode": {
    "name": "ipython",
    "version": 3
   },
   "file_extension": ".py",
   "mimetype": "text/x-python",
   "name": "python",
   "nbconvert_exporter": "python",
   "pygments_lexer": "ipython3",
   "version": "3.8.16"
  }
 },
 "nbformat": 4,
 "nbformat_minor": 5
}
