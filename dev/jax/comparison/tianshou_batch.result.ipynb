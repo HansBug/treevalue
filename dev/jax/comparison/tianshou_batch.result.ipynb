{
 "cells": [
  {
   "cell_type": "markdown",
   "id": "9d39d946",
   "metadata": {},
   "source": [
    "# Comparison Between TreeValue and Tianshou Batch"
   ]
  },
  {
   "cell_type": "markdown",
   "id": "3c6db2d4",
   "metadata": {},
   "source": [
    "In this section, we will take a look at the feature and performance of the [Tianshou Batch](https://github.com/thu-ml/tianshou) library, which is developed by Tsinghua Machine Learning Group."
   ]
  },
  {
   "cell_type": "markdown",
   "id": "069361b0",
   "metadata": {},
   "source": [
    "Before starting the comparison, let us define some thing."
   ]
  },
  {
   "cell_type": "code",
   "execution_count": 1,
   "id": "06fc8d26",
   "metadata": {
    "execution": {
     "iopub.execute_input": "2023-02-26T13:58:16.232258Z",
     "iopub.status.busy": "2023-02-26T13:58:16.231444Z",
     "iopub.status.idle": "2023-02-26T13:58:17.443121Z",
     "shell.execute_reply": "2023-02-26T13:58:17.441900Z"
    }
   },
   "outputs": [
    {
     "name": "stderr",
     "output_type": "stream",
     "text": [
      "/opt/hostedtoolcache/Python/3.8.16/x64/lib/python3.8/site-packages/tqdm/auto.py:22: TqdmWarning: IProgress not found. Please update jupyter and ipywidgets. See https://ipywidgets.readthedocs.io/en/stable/user_install.html\n",
      "  from .autonotebook import tqdm as notebook_tqdm\n"
     ]
    }
   ],
   "source": [
    "import torch \n",
    "\n",
    "_TREE_DATA_1 = {'a': 1, 'b': 2, 'x': {'c': 3, 'd': 4}}\n",
    "_TREE_DATA_2 = {\n",
    "    'a': torch.randn(2, 3), \n",
    "    'x': {\n",
    "        'c': torch.randn(3, 4)\n",
    "    },\n",
    "}\n",
    "_TREE_DATA_3 = {\n",
    "    'obs': torch.randn(4, 84, 84),\n",
    "    'action': torch.randint(0, 6, size=(1,)),\n",
    "    'reward': torch.rand(1),\n",
    "}"
   ]
  },
  {
   "cell_type": "markdown",
   "id": "83461b25",
   "metadata": {},
   "source": [
    "## Read and Write Operation"
   ]
  },
  {
   "cell_type": "markdown",
   "id": "067b3f73",
   "metadata": {},
   "source": [
    "Reading and writing are the two most common operations in the tree data structure based on the data model (TreeValue and Tianshou Batch both belong to this type), so this section will compare the reading and writing performance of these two libraries."
   ]
  },
  {
   "cell_type": "markdown",
   "id": "5d09a5b7",
   "metadata": {},
   "source": [
    "### TreeValue's Get and Set"
   ]
  },
  {
   "cell_type": "code",
   "execution_count": 2,
   "id": "9519c4bb",
   "metadata": {
    "execution": {
     "iopub.execute_input": "2023-02-26T13:58:17.448191Z",
     "iopub.status.busy": "2023-02-26T13:58:17.447405Z",
     "iopub.status.idle": "2023-02-26T13:58:17.814530Z",
     "shell.execute_reply": "2023-02-26T13:58:17.813429Z"
    }
   },
   "outputs": [],
   "source": [
    "from treevalue import FastTreeValue\n",
    "\n",
    "t = FastTreeValue(_TREE_DATA_2)"
   ]
  },
  {
   "cell_type": "code",
   "execution_count": 3,
   "id": "11c37677",
   "metadata": {
    "execution": {
     "iopub.execute_input": "2023-02-26T13:58:17.819400Z",
     "iopub.status.busy": "2023-02-26T13:58:17.818656Z",
     "iopub.status.idle": "2023-02-26T13:58:17.830474Z",
     "shell.execute_reply": "2023-02-26T13:58:17.829508Z"
    }
   },
   "outputs": [
    {
     "data": {
      "text/plain": [
       "<FastTreeValue 0x7f48e0f5f940>\n",
       "├── 'a' --> tensor([[ 0.0421, -1.0498,  0.2443],\n",
       "│                   [-1.6149, -0.4498, -0.3010]])\n",
       "└── 'x' --> <FastTreeValue 0x7f48e0f5f4f0>\n",
       "    └── 'c' --> tensor([[-0.5066,  0.2429, -0.2976,  0.6565],\n",
       "                        [-0.2780, -0.2700, -1.9849, -0.3109],\n",
       "                        [ 0.2164, -0.5135, -1.0767,  2.2482]])"
      ]
     },
     "execution_count": 3,
     "metadata": {},
     "output_type": "execute_result"
    }
   ],
   "source": [
    "t"
   ]
  },
  {
   "cell_type": "code",
   "execution_count": 4,
   "id": "fd70b0b9",
   "metadata": {
    "execution": {
     "iopub.execute_input": "2023-02-26T13:58:17.834626Z",
     "iopub.status.busy": "2023-02-26T13:58:17.834076Z",
     "iopub.status.idle": "2023-02-26T13:58:17.840718Z",
     "shell.execute_reply": "2023-02-26T13:58:17.839733Z"
    }
   },
   "outputs": [
    {
     "data": {
      "text/plain": [
       "tensor([[ 0.0421, -1.0498,  0.2443],\n",
       "        [-1.6149, -0.4498, -0.3010]])"
      ]
     },
     "execution_count": 4,
     "metadata": {},
     "output_type": "execute_result"
    }
   ],
   "source": [
    "t.a"
   ]
  },
  {
   "cell_type": "code",
   "execution_count": 5,
   "id": "c18197bd",
   "metadata": {
    "execution": {
     "iopub.execute_input": "2023-02-26T13:58:17.844172Z",
     "iopub.status.busy": "2023-02-26T13:58:17.843678Z",
     "iopub.status.idle": "2023-02-26T13:58:24.416275Z",
     "shell.execute_reply": "2023-02-26T13:58:24.415286Z"
    }
   },
   "outputs": [
    {
     "name": "stdout",
     "output_type": "stream",
     "text": [
      "81.1 ns ± 1.06 ns per loop (mean ± std. dev. of 7 runs, 10,000,000 loops each)\n"
     ]
    }
   ],
   "source": [
    "%timeit t.a"
   ]
  },
  {
   "cell_type": "code",
   "execution_count": 6,
   "id": "bd52f867",
   "metadata": {
    "execution": {
     "iopub.execute_input": "2023-02-26T13:58:24.420459Z",
     "iopub.status.busy": "2023-02-26T13:58:24.419932Z",
     "iopub.status.idle": "2023-02-26T13:58:24.428271Z",
     "shell.execute_reply": "2023-02-26T13:58:24.427216Z"
    }
   },
   "outputs": [
    {
     "data": {
      "text/plain": [
       "<FastTreeValue 0x7f48e0f5f940>\n",
       "├── 'a' --> tensor([[ 0.2154, -0.6978, -0.0261],\n",
       "│                   [ 0.8041, -0.6789, -0.9458]])\n",
       "└── 'x' --> <FastTreeValue 0x7f48e0f5f4f0>\n",
       "    └── 'c' --> tensor([[-0.5066,  0.2429, -0.2976,  0.6565],\n",
       "                        [-0.2780, -0.2700, -1.9849, -0.3109],\n",
       "                        [ 0.2164, -0.5135, -1.0767,  2.2482]])"
      ]
     },
     "execution_count": 6,
     "metadata": {},
     "output_type": "execute_result"
    }
   ],
   "source": [
    "new_value = torch.randn(2, 3)\n",
    "t.a = new_value\n",
    "\n",
    "t"
   ]
  },
  {
   "cell_type": "code",
   "execution_count": 7,
   "id": "bbe04d1c",
   "metadata": {
    "execution": {
     "iopub.execute_input": "2023-02-26T13:58:24.431782Z",
     "iopub.status.busy": "2023-02-26T13:58:24.431251Z",
     "iopub.status.idle": "2023-02-26T13:58:31.070735Z",
     "shell.execute_reply": "2023-02-26T13:58:31.069526Z"
    }
   },
   "outputs": [
    {
     "name": "stdout",
     "output_type": "stream",
     "text": [
      "81.4 ns ± 0.563 ns per loop (mean ± std. dev. of 7 runs, 10,000,000 loops each)\n"
     ]
    }
   ],
   "source": [
    "%timeit t.a = new_value"
   ]
  },
  {
   "cell_type": "markdown",
   "id": "48c49731",
   "metadata": {},
   "source": [
    "### Tianshou Batch's Get and Set"
   ]
  },
  {
   "cell_type": "code",
   "execution_count": 8,
   "id": "f1bb14c1",
   "metadata": {
    "execution": {
     "iopub.execute_input": "2023-02-26T13:58:31.074828Z",
     "iopub.status.busy": "2023-02-26T13:58:31.074533Z",
     "iopub.status.idle": "2023-02-26T13:58:31.537893Z",
     "shell.execute_reply": "2023-02-26T13:58:31.535798Z"
    }
   },
   "outputs": [],
   "source": [
    "from tianshou.data import Batch\n",
    "\n",
    "b = Batch(**_TREE_DATA_2)"
   ]
  },
  {
   "cell_type": "code",
   "execution_count": 9,
   "id": "cb0777c3",
   "metadata": {
    "execution": {
     "iopub.execute_input": "2023-02-26T13:58:31.542640Z",
     "iopub.status.busy": "2023-02-26T13:58:31.541954Z",
     "iopub.status.idle": "2023-02-26T13:58:31.551461Z",
     "shell.execute_reply": "2023-02-26T13:58:31.550453Z"
    }
   },
   "outputs": [
    {
     "data": {
      "text/plain": [
       "Batch(\n",
       "    a: tensor([[ 0.0421, -1.0498,  0.2443],\n",
       "               [-1.6149, -0.4498, -0.3010]]),\n",
       "    x: Batch(\n",
       "           c: tensor([[-0.5066,  0.2429, -0.2976,  0.6565],\n",
       "                      [-0.2780, -0.2700, -1.9849, -0.3109],\n",
       "                      [ 0.2164, -0.5135, -1.0767,  2.2482]]),\n",
       "       ),\n",
       ")"
      ]
     },
     "execution_count": 9,
     "metadata": {},
     "output_type": "execute_result"
    }
   ],
   "source": [
    "b"
   ]
  },
  {
   "cell_type": "code",
   "execution_count": 10,
   "id": "43ef8ea3",
   "metadata": {
    "execution": {
     "iopub.execute_input": "2023-02-26T13:58:31.554947Z",
     "iopub.status.busy": "2023-02-26T13:58:31.554648Z",
     "iopub.status.idle": "2023-02-26T13:58:31.562445Z",
     "shell.execute_reply": "2023-02-26T13:58:31.561442Z"
    }
   },
   "outputs": [
    {
     "data": {
      "text/plain": [
       "tensor([[ 0.0421, -1.0498,  0.2443],\n",
       "        [-1.6149, -0.4498, -0.3010]])"
      ]
     },
     "execution_count": 10,
     "metadata": {},
     "output_type": "execute_result"
    }
   ],
   "source": [
    "b.a"
   ]
  },
  {
   "cell_type": "code",
   "execution_count": 11,
   "id": "b785ab72",
   "metadata": {
    "execution": {
     "iopub.execute_input": "2023-02-26T13:58:31.565587Z",
     "iopub.status.busy": "2023-02-26T13:58:31.565283Z",
     "iopub.status.idle": "2023-02-26T13:58:36.887699Z",
     "shell.execute_reply": "2023-02-26T13:58:36.886624Z"
    }
   },
   "outputs": [
    {
     "name": "stdout",
     "output_type": "stream",
     "text": [
      "65.1 ns ± 1.33 ns per loop (mean ± std. dev. of 7 runs, 10,000,000 loops each)\n"
     ]
    }
   ],
   "source": [
    "%timeit b.a"
   ]
  },
  {
   "cell_type": "code",
   "execution_count": 12,
   "id": "ad54dc69",
   "metadata": {
    "execution": {
     "iopub.execute_input": "2023-02-26T13:58:36.891236Z",
     "iopub.status.busy": "2023-02-26T13:58:36.890742Z",
     "iopub.status.idle": "2023-02-26T13:58:36.898306Z",
     "shell.execute_reply": "2023-02-26T13:58:36.897430Z"
    }
   },
   "outputs": [
    {
     "data": {
      "text/plain": [
       "Batch(\n",
       "    a: tensor([[ 0.7513, -0.0534,  2.4228],\n",
       "               [ 0.5126, -0.3575,  0.3762]]),\n",
       "    x: Batch(\n",
       "           c: tensor([[-0.5066,  0.2429, -0.2976,  0.6565],\n",
       "                      [-0.2780, -0.2700, -1.9849, -0.3109],\n",
       "                      [ 0.2164, -0.5135, -1.0767,  2.2482]]),\n",
       "       ),\n",
       ")"
      ]
     },
     "execution_count": 12,
     "metadata": {},
     "output_type": "execute_result"
    }
   ],
   "source": [
    "new_value = torch.randn(2, 3)\n",
    "b.a = new_value\n",
    "\n",
    "b"
   ]
  },
  {
   "cell_type": "code",
   "execution_count": 13,
   "id": "29b1d0bf",
   "metadata": {
    "execution": {
     "iopub.execute_input": "2023-02-26T13:58:36.901467Z",
     "iopub.status.busy": "2023-02-26T13:58:36.900943Z",
     "iopub.status.idle": "2023-02-26T13:58:41.828226Z",
     "shell.execute_reply": "2023-02-26T13:58:41.827149Z"
    }
   },
   "outputs": [
    {
     "name": "stdout",
     "output_type": "stream",
     "text": [
      "606 ns ± 10.7 ns per loop (mean ± std. dev. of 7 runs, 1,000,000 loops each)\n"
     ]
    }
   ],
   "source": [
    "%timeit b.a = new_value"
   ]
  },
  {
   "cell_type": "markdown",
   "id": "b61ad1d0",
   "metadata": {},
   "source": [
    "## Initialization"
   ]
  },
  {
   "cell_type": "markdown",
   "id": "d70f0d54",
   "metadata": {},
   "source": [
    "### TreeValue's Initialization"
   ]
  },
  {
   "cell_type": "code",
   "execution_count": 14,
   "id": "d32a679b",
   "metadata": {
    "execution": {
     "iopub.execute_input": "2023-02-26T13:58:41.832797Z",
     "iopub.status.busy": "2023-02-26T13:58:41.832070Z",
     "iopub.status.idle": "2023-02-26T13:58:49.981077Z",
     "shell.execute_reply": "2023-02-26T13:58:49.980012Z"
    }
   },
   "outputs": [
    {
     "name": "stdout",
     "output_type": "stream",
     "text": [
      "1 µs ± 13.8 ns per loop (mean ± std. dev. of 7 runs, 1,000,000 loops each)\n"
     ]
    }
   ],
   "source": [
    "%timeit FastTreeValue(_TREE_DATA_1)"
   ]
  },
  {
   "cell_type": "markdown",
   "id": "24f3707b",
   "metadata": {},
   "source": [
    "### Tianshou Batch's Initialization"
   ]
  },
  {
   "cell_type": "code",
   "execution_count": 15,
   "id": "ac3958df",
   "metadata": {
    "execution": {
     "iopub.execute_input": "2023-02-26T13:58:49.985187Z",
     "iopub.status.busy": "2023-02-26T13:58:49.984649Z",
     "iopub.status.idle": "2023-02-26T13:59:00.725063Z",
     "shell.execute_reply": "2023-02-26T13:59:00.723973Z"
    }
   },
   "outputs": [
    {
     "name": "stdout",
     "output_type": "stream",
     "text": [
      "13.2 µs ± 80.3 ns per loop (mean ± std. dev. of 7 runs, 100,000 loops each)\n"
     ]
    }
   ],
   "source": [
    "%timeit Batch(**_TREE_DATA_1)"
   ]
  },
  {
   "cell_type": "markdown",
   "id": "1ab82e2d",
   "metadata": {},
   "source": [
    "## Deep Copy Operation"
   ]
  },
  {
   "cell_type": "code",
   "execution_count": 16,
   "id": "210a9442",
   "metadata": {
    "execution": {
     "iopub.execute_input": "2023-02-26T13:59:00.729059Z",
     "iopub.status.busy": "2023-02-26T13:59:00.728457Z",
     "iopub.status.idle": "2023-02-26T13:59:00.734160Z",
     "shell.execute_reply": "2023-02-26T13:59:00.733154Z"
    }
   },
   "outputs": [],
   "source": [
    "import copy"
   ]
  },
  {
   "cell_type": "markdown",
   "id": "5a736274",
   "metadata": {},
   "source": [
    "### Deep Copy of TreeValue"
   ]
  },
  {
   "cell_type": "code",
   "execution_count": 17,
   "id": "f9bcadd6",
   "metadata": {
    "execution": {
     "iopub.execute_input": "2023-02-26T13:59:00.737782Z",
     "iopub.status.busy": "2023-02-26T13:59:00.737234Z",
     "iopub.status.idle": "2023-02-26T13:59:03.187753Z",
     "shell.execute_reply": "2023-02-26T13:59:03.186754Z"
    }
   },
   "outputs": [
    {
     "name": "stdout",
     "output_type": "stream",
     "text": [
      "303 µs ± 3.02 µs per loop (mean ± std. dev. of 7 runs, 1,000 loops each)\n"
     ]
    }
   ],
   "source": [
    "t3 = FastTreeValue(_TREE_DATA_3)\n",
    "%timeit copy.deepcopy(t3)"
   ]
  },
  {
   "cell_type": "markdown",
   "id": "bf8be7ea",
   "metadata": {},
   "source": [
    "### Deep Copy of Tianshou Batch"
   ]
  },
  {
   "cell_type": "code",
   "execution_count": 18,
   "id": "91998e6f",
   "metadata": {
    "execution": {
     "iopub.execute_input": "2023-02-26T13:59:03.191509Z",
     "iopub.status.busy": "2023-02-26T13:59:03.190942Z",
     "iopub.status.idle": "2023-02-26T13:59:05.574289Z",
     "shell.execute_reply": "2023-02-26T13:59:05.573375Z"
    }
   },
   "outputs": [
    {
     "name": "stdout",
     "output_type": "stream",
     "text": [
      "293 µs ± 6.95 µs per loop (mean ± std. dev. of 7 runs, 1,000 loops each)\n"
     ]
    }
   ],
   "source": [
    "b3 = Batch(**_TREE_DATA_3)\n",
    "%timeit copy.deepcopy(b3)"
   ]
  },
  {
   "cell_type": "markdown",
   "id": "223162fb",
   "metadata": {},
   "source": [
    "## Stack, Concat and Split Operation"
   ]
  },
  {
   "cell_type": "markdown",
   "id": "85fa4a73",
   "metadata": {},
   "source": [
    "### Performance of TreeValue"
   ]
  },
  {
   "cell_type": "code",
   "execution_count": 19,
   "id": "a0c2b697",
   "metadata": {
    "execution": {
     "iopub.execute_input": "2023-02-26T13:59:05.577957Z",
     "iopub.status.busy": "2023-02-26T13:59:05.577458Z",
     "iopub.status.idle": "2023-02-26T13:59:05.581902Z",
     "shell.execute_reply": "2023-02-26T13:59:05.581081Z"
    }
   },
   "outputs": [],
   "source": [
    "trees = [FastTreeValue(_TREE_DATA_2) for _ in range(8)]"
   ]
  },
  {
   "cell_type": "code",
   "execution_count": 20,
   "id": "017ea5a5",
   "metadata": {
    "execution": {
     "iopub.execute_input": "2023-02-26T13:59:05.586318Z",
     "iopub.status.busy": "2023-02-26T13:59:05.585595Z",
     "iopub.status.idle": "2023-02-26T13:59:05.595919Z",
     "shell.execute_reply": "2023-02-26T13:59:05.595050Z"
    }
   },
   "outputs": [
    {
     "data": {
      "text/plain": [
       "<FastTreeValue 0x7f48e0f52220>\n",
       "├── 'a' --> tensor([[[ 0.0421, -1.0498,  0.2443],\n",
       "│                    [-1.6149, -0.4498, -0.3010]],\n",
       "│           \n",
       "│                   [[ 0.0421, -1.0498,  0.2443],\n",
       "│                    [-1.6149, -0.4498, -0.3010]],\n",
       "│           \n",
       "│                   [[ 0.0421, -1.0498,  0.2443],\n",
       "│                    [-1.6149, -0.4498, -0.3010]],\n",
       "│           \n",
       "│                   [[ 0.0421, -1.0498,  0.2443],\n",
       "│                    [-1.6149, -0.4498, -0.3010]],\n",
       "│           \n",
       "│                   [[ 0.0421, -1.0498,  0.2443],\n",
       "│                    [-1.6149, -0.4498, -0.3010]],\n",
       "│           \n",
       "│                   [[ 0.0421, -1.0498,  0.2443],\n",
       "│                    [-1.6149, -0.4498, -0.3010]],\n",
       "│           \n",
       "│                   [[ 0.0421, -1.0498,  0.2443],\n",
       "│                    [-1.6149, -0.4498, -0.3010]],\n",
       "│           \n",
       "│                   [[ 0.0421, -1.0498,  0.2443],\n",
       "│                    [-1.6149, -0.4498, -0.3010]]])\n",
       "└── 'x' --> <FastTreeValue 0x7f48e0f52040>\n",
       "    └── 'c' --> tensor([[[-0.5066,  0.2429, -0.2976,  0.6565],\n",
       "                         [-0.2780, -0.2700, -1.9849, -0.3109],\n",
       "                         [ 0.2164, -0.5135, -1.0767,  2.2482]],\n",
       "                \n",
       "                        [[-0.5066,  0.2429, -0.2976,  0.6565],\n",
       "                         [-0.2780, -0.2700, -1.9849, -0.3109],\n",
       "                         [ 0.2164, -0.5135, -1.0767,  2.2482]],\n",
       "                \n",
       "                        [[-0.5066,  0.2429, -0.2976,  0.6565],\n",
       "                         [-0.2780, -0.2700, -1.9849, -0.3109],\n",
       "                         [ 0.2164, -0.5135, -1.0767,  2.2482]],\n",
       "                \n",
       "                        [[-0.5066,  0.2429, -0.2976,  0.6565],\n",
       "                         [-0.2780, -0.2700, -1.9849, -0.3109],\n",
       "                         [ 0.2164, -0.5135, -1.0767,  2.2482]],\n",
       "                \n",
       "                        [[-0.5066,  0.2429, -0.2976,  0.6565],\n",
       "                         [-0.2780, -0.2700, -1.9849, -0.3109],\n",
       "                         [ 0.2164, -0.5135, -1.0767,  2.2482]],\n",
       "                \n",
       "                        [[-0.5066,  0.2429, -0.2976,  0.6565],\n",
       "                         [-0.2780, -0.2700, -1.9849, -0.3109],\n",
       "                         [ 0.2164, -0.5135, -1.0767,  2.2482]],\n",
       "                \n",
       "                        [[-0.5066,  0.2429, -0.2976,  0.6565],\n",
       "                         [-0.2780, -0.2700, -1.9849, -0.3109],\n",
       "                         [ 0.2164, -0.5135, -1.0767,  2.2482]],\n",
       "                \n",
       "                        [[-0.5066,  0.2429, -0.2976,  0.6565],\n",
       "                         [-0.2780, -0.2700, -1.9849, -0.3109],\n",
       "                         [ 0.2164, -0.5135, -1.0767,  2.2482]]])"
      ]
     },
     "execution_count": 20,
     "metadata": {},
     "output_type": "execute_result"
    }
   ],
   "source": [
    "t_stack = FastTreeValue.func(subside=True)(torch.stack)\n",
    "\n",
    "t_stack(trees)"
   ]
  },
  {
   "cell_type": "code",
   "execution_count": 21,
   "id": "f8b3f415",
   "metadata": {
    "execution": {
     "iopub.execute_input": "2023-02-26T13:59:05.599215Z",
     "iopub.status.busy": "2023-02-26T13:59:05.598922Z",
     "iopub.status.idle": "2023-02-26T13:59:09.546932Z",
     "shell.execute_reply": "2023-02-26T13:59:09.545802Z"
    }
   },
   "outputs": [
    {
     "name": "stdout",
     "output_type": "stream",
     "text": [
      "48.4 µs ± 1.07 µs per loop (mean ± std. dev. of 7 runs, 10,000 loops each)\n"
     ]
    }
   ],
   "source": [
    "%timeit t_stack(trees)"
   ]
  },
  {
   "cell_type": "code",
   "execution_count": 22,
   "id": "94b56771",
   "metadata": {
    "execution": {
     "iopub.execute_input": "2023-02-26T13:59:09.550757Z",
     "iopub.status.busy": "2023-02-26T13:59:09.550334Z",
     "iopub.status.idle": "2023-02-26T13:59:09.561490Z",
     "shell.execute_reply": "2023-02-26T13:59:09.560488Z"
    }
   },
   "outputs": [
    {
     "data": {
      "text/plain": [
       "<FastTreeValue 0x7f482b240f40>\n",
       "├── 'a' --> tensor([[ 0.0421, -1.0498,  0.2443],\n",
       "│                   [-1.6149, -0.4498, -0.3010],\n",
       "│                   [ 0.0421, -1.0498,  0.2443],\n",
       "│                   [-1.6149, -0.4498, -0.3010],\n",
       "│                   [ 0.0421, -1.0498,  0.2443],\n",
       "│                   [-1.6149, -0.4498, -0.3010],\n",
       "│                   [ 0.0421, -1.0498,  0.2443],\n",
       "│                   [-1.6149, -0.4498, -0.3010],\n",
       "│                   [ 0.0421, -1.0498,  0.2443],\n",
       "│                   [-1.6149, -0.4498, -0.3010],\n",
       "│                   [ 0.0421, -1.0498,  0.2443],\n",
       "│                   [-1.6149, -0.4498, -0.3010],\n",
       "│                   [ 0.0421, -1.0498,  0.2443],\n",
       "│                   [-1.6149, -0.4498, -0.3010],\n",
       "│                   [ 0.0421, -1.0498,  0.2443],\n",
       "│                   [-1.6149, -0.4498, -0.3010]])\n",
       "└── 'x' --> <FastTreeValue 0x7f48e0fb9d60>\n",
       "    └── 'c' --> tensor([[-0.5066,  0.2429, -0.2976,  0.6565],\n",
       "                        [-0.2780, -0.2700, -1.9849, -0.3109],\n",
       "                        [ 0.2164, -0.5135, -1.0767,  2.2482],\n",
       "                        [-0.5066,  0.2429, -0.2976,  0.6565],\n",
       "                        [-0.2780, -0.2700, -1.9849, -0.3109],\n",
       "                        [ 0.2164, -0.5135, -1.0767,  2.2482],\n",
       "                        [-0.5066,  0.2429, -0.2976,  0.6565],\n",
       "                        [-0.2780, -0.2700, -1.9849, -0.3109],\n",
       "                        [ 0.2164, -0.5135, -1.0767,  2.2482],\n",
       "                        [-0.5066,  0.2429, -0.2976,  0.6565],\n",
       "                        [-0.2780, -0.2700, -1.9849, -0.3109],\n",
       "                        [ 0.2164, -0.5135, -1.0767,  2.2482],\n",
       "                        [-0.5066,  0.2429, -0.2976,  0.6565],\n",
       "                        [-0.2780, -0.2700, -1.9849, -0.3109],\n",
       "                        [ 0.2164, -0.5135, -1.0767,  2.2482],\n",
       "                        [-0.5066,  0.2429, -0.2976,  0.6565],\n",
       "                        [-0.2780, -0.2700, -1.9849, -0.3109],\n",
       "                        [ 0.2164, -0.5135, -1.0767,  2.2482],\n",
       "                        [-0.5066,  0.2429, -0.2976,  0.6565],\n",
       "                        [-0.2780, -0.2700, -1.9849, -0.3109],\n",
       "                        [ 0.2164, -0.5135, -1.0767,  2.2482],\n",
       "                        [-0.5066,  0.2429, -0.2976,  0.6565],\n",
       "                        [-0.2780, -0.2700, -1.9849, -0.3109],\n",
       "                        [ 0.2164, -0.5135, -1.0767,  2.2482]])"
      ]
     },
     "execution_count": 22,
     "metadata": {},
     "output_type": "execute_result"
    }
   ],
   "source": [
    "t_cat = FastTreeValue.func(subside=True)(torch.cat)\n",
    "\n",
    "t_cat(trees)"
   ]
  },
  {
   "cell_type": "code",
   "execution_count": 23,
   "id": "5e9c06a6",
   "metadata": {
    "execution": {
     "iopub.execute_input": "2023-02-26T13:59:09.565036Z",
     "iopub.status.busy": "2023-02-26T13:59:09.564735Z",
     "iopub.status.idle": "2023-02-26T13:59:13.146655Z",
     "shell.execute_reply": "2023-02-26T13:59:13.145693Z"
    }
   },
   "outputs": [
    {
     "name": "stdout",
     "output_type": "stream",
     "text": [
      "44.2 µs ± 633 ns per loop (mean ± std. dev. of 7 runs, 10,000 loops each)\n"
     ]
    }
   ],
   "source": [
    "%timeit t_cat(trees)"
   ]
  },
  {
   "cell_type": "code",
   "execution_count": 24,
   "id": "a3ab5c8f",
   "metadata": {
    "execution": {
     "iopub.execute_input": "2023-02-26T13:59:13.151417Z",
     "iopub.status.busy": "2023-02-26T13:59:13.150889Z",
     "iopub.status.idle": "2023-02-26T13:59:19.921207Z",
     "shell.execute_reply": "2023-02-26T13:59:19.920080Z"
    }
   },
   "outputs": [
    {
     "name": "stdout",
     "output_type": "stream",
     "text": [
      "83.3 µs ± 1.32 µs per loop (mean ± std. dev. of 7 runs, 10,000 loops each)\n"
     ]
    }
   ],
   "source": [
    "t_split = FastTreeValue.func(rise=True)(torch.split)\n",
    "tree = FastTreeValue({\n",
    "    'obs': torch.randn(8, 4, 84, 84),\n",
    "    'action': torch.randint(0, 6, size=(8, 1,)),\n",
    "    'reward': torch.rand(8, 1),\n",
    "})\n",
    "\n",
    "%timeit t_split(tree, 1)"
   ]
  },
  {
   "cell_type": "markdown",
   "id": "31c3ec0b",
   "metadata": {},
   "source": [
    "### Performance of Tianshou Batch"
   ]
  },
  {
   "cell_type": "code",
   "execution_count": 25,
   "id": "9ead828a",
   "metadata": {
    "execution": {
     "iopub.execute_input": "2023-02-26T13:59:19.925110Z",
     "iopub.status.busy": "2023-02-26T13:59:19.924774Z",
     "iopub.status.idle": "2023-02-26T13:59:19.935843Z",
     "shell.execute_reply": "2023-02-26T13:59:19.934921Z"
    }
   },
   "outputs": [
    {
     "data": {
      "text/plain": [
       "Batch(\n",
       "    x: Batch(\n",
       "           c: tensor([[[-0.5066,  0.2429, -0.2976,  0.6565],\n",
       "                       [-0.2780, -0.2700, -1.9849, -0.3109],\n",
       "                       [ 0.2164, -0.5135, -1.0767,  2.2482]],\n",
       "              \n",
       "                      [[-0.5066,  0.2429, -0.2976,  0.6565],\n",
       "                       [-0.2780, -0.2700, -1.9849, -0.3109],\n",
       "                       [ 0.2164, -0.5135, -1.0767,  2.2482]],\n",
       "              \n",
       "                      [[-0.5066,  0.2429, -0.2976,  0.6565],\n",
       "                       [-0.2780, -0.2700, -1.9849, -0.3109],\n",
       "                       [ 0.2164, -0.5135, -1.0767,  2.2482]],\n",
       "              \n",
       "                      [[-0.5066,  0.2429, -0.2976,  0.6565],\n",
       "                       [-0.2780, -0.2700, -1.9849, -0.3109],\n",
       "                       [ 0.2164, -0.5135, -1.0767,  2.2482]],\n",
       "              \n",
       "                      [[-0.5066,  0.2429, -0.2976,  0.6565],\n",
       "                       [-0.2780, -0.2700, -1.9849, -0.3109],\n",
       "                       [ 0.2164, -0.5135, -1.0767,  2.2482]],\n",
       "              \n",
       "                      [[-0.5066,  0.2429, -0.2976,  0.6565],\n",
       "                       [-0.2780, -0.2700, -1.9849, -0.3109],\n",
       "                       [ 0.2164, -0.5135, -1.0767,  2.2482]],\n",
       "              \n",
       "                      [[-0.5066,  0.2429, -0.2976,  0.6565],\n",
       "                       [-0.2780, -0.2700, -1.9849, -0.3109],\n",
       "                       [ 0.2164, -0.5135, -1.0767,  2.2482]],\n",
       "              \n",
       "                      [[-0.5066,  0.2429, -0.2976,  0.6565],\n",
       "                       [-0.2780, -0.2700, -1.9849, -0.3109],\n",
       "                       [ 0.2164, -0.5135, -1.0767,  2.2482]]]),\n",
       "       ),\n",
       "    a: tensor([[[ 0.0421, -1.0498,  0.2443],\n",
       "                [-1.6149, -0.4498, -0.3010]],\n",
       "       \n",
       "               [[ 0.0421, -1.0498,  0.2443],\n",
       "                [-1.6149, -0.4498, -0.3010]],\n",
       "       \n",
       "               [[ 0.0421, -1.0498,  0.2443],\n",
       "                [-1.6149, -0.4498, -0.3010]],\n",
       "       \n",
       "               [[ 0.0421, -1.0498,  0.2443],\n",
       "                [-1.6149, -0.4498, -0.3010]],\n",
       "       \n",
       "               [[ 0.0421, -1.0498,  0.2443],\n",
       "                [-1.6149, -0.4498, -0.3010]],\n",
       "       \n",
       "               [[ 0.0421, -1.0498,  0.2443],\n",
       "                [-1.6149, -0.4498, -0.3010]],\n",
       "       \n",
       "               [[ 0.0421, -1.0498,  0.2443],\n",
       "                [-1.6149, -0.4498, -0.3010]],\n",
       "       \n",
       "               [[ 0.0421, -1.0498,  0.2443],\n",
       "                [-1.6149, -0.4498, -0.3010]]]),\n",
       ")"
      ]
     },
     "execution_count": 25,
     "metadata": {},
     "output_type": "execute_result"
    }
   ],
   "source": [
    "batches = [Batch(**_TREE_DATA_2) for _ in range(8)]\n",
    "\n",
    "Batch.stack(batches)"
   ]
  },
  {
   "cell_type": "code",
   "execution_count": 26,
   "id": "ec9037a3",
   "metadata": {
    "execution": {
     "iopub.execute_input": "2023-02-26T13:59:19.939411Z",
     "iopub.status.busy": "2023-02-26T13:59:19.939115Z",
     "iopub.status.idle": "2023-02-26T13:59:28.327598Z",
     "shell.execute_reply": "2023-02-26T13:59:28.326460Z"
    }
   },
   "outputs": [
    {
     "name": "stdout",
     "output_type": "stream",
     "text": [
      "104 µs ± 1.64 µs per loop (mean ± std. dev. of 7 runs, 10,000 loops each)\n"
     ]
    }
   ],
   "source": [
    "%timeit Batch.stack(batches)"
   ]
  },
  {
   "cell_type": "code",
   "execution_count": 27,
   "id": "cb8ab77e",
   "metadata": {
    "execution": {
     "iopub.execute_input": "2023-02-26T13:59:28.331438Z",
     "iopub.status.busy": "2023-02-26T13:59:28.330933Z",
     "iopub.status.idle": "2023-02-26T13:59:28.341332Z",
     "shell.execute_reply": "2023-02-26T13:59:28.340415Z"
    }
   },
   "outputs": [
    {
     "data": {
      "text/plain": [
       "Batch(\n",
       "    x: Batch(\n",
       "           c: tensor([[-0.5066,  0.2429, -0.2976,  0.6565],\n",
       "                      [-0.2780, -0.2700, -1.9849, -0.3109],\n",
       "                      [ 0.2164, -0.5135, -1.0767,  2.2482],\n",
       "                      [-0.5066,  0.2429, -0.2976,  0.6565],\n",
       "                      [-0.2780, -0.2700, -1.9849, -0.3109],\n",
       "                      [ 0.2164, -0.5135, -1.0767,  2.2482],\n",
       "                      [-0.5066,  0.2429, -0.2976,  0.6565],\n",
       "                      [-0.2780, -0.2700, -1.9849, -0.3109],\n",
       "                      [ 0.2164, -0.5135, -1.0767,  2.2482],\n",
       "                      [-0.5066,  0.2429, -0.2976,  0.6565],\n",
       "                      [-0.2780, -0.2700, -1.9849, -0.3109],\n",
       "                      [ 0.2164, -0.5135, -1.0767,  2.2482],\n",
       "                      [-0.5066,  0.2429, -0.2976,  0.6565],\n",
       "                      [-0.2780, -0.2700, -1.9849, -0.3109],\n",
       "                      [ 0.2164, -0.5135, -1.0767,  2.2482],\n",
       "                      [-0.5066,  0.2429, -0.2976,  0.6565],\n",
       "                      [-0.2780, -0.2700, -1.9849, -0.3109],\n",
       "                      [ 0.2164, -0.5135, -1.0767,  2.2482],\n",
       "                      [-0.5066,  0.2429, -0.2976,  0.6565],\n",
       "                      [-0.2780, -0.2700, -1.9849, -0.3109],\n",
       "                      [ 0.2164, -0.5135, -1.0767,  2.2482],\n",
       "                      [-0.5066,  0.2429, -0.2976,  0.6565],\n",
       "                      [-0.2780, -0.2700, -1.9849, -0.3109],\n",
       "                      [ 0.2164, -0.5135, -1.0767,  2.2482]]),\n",
       "       ),\n",
       "    a: tensor([[ 0.0421, -1.0498,  0.2443],\n",
       "               [-1.6149, -0.4498, -0.3010],\n",
       "               [ 0.0421, -1.0498,  0.2443],\n",
       "               [-1.6149, -0.4498, -0.3010],\n",
       "               [ 0.0421, -1.0498,  0.2443],\n",
       "               [-1.6149, -0.4498, -0.3010],\n",
       "               [ 0.0421, -1.0498,  0.2443],\n",
       "               [-1.6149, -0.4498, -0.3010],\n",
       "               [ 0.0421, -1.0498,  0.2443],\n",
       "               [-1.6149, -0.4498, -0.3010],\n",
       "               [ 0.0421, -1.0498,  0.2443],\n",
       "               [-1.6149, -0.4498, -0.3010],\n",
       "               [ 0.0421, -1.0498,  0.2443],\n",
       "               [-1.6149, -0.4498, -0.3010],\n",
       "               [ 0.0421, -1.0498,  0.2443],\n",
       "               [-1.6149, -0.4498, -0.3010]]),\n",
       ")"
      ]
     },
     "execution_count": 27,
     "metadata": {},
     "output_type": "execute_result"
    }
   ],
   "source": [
    "Batch.cat(batches)"
   ]
  },
  {
   "cell_type": "code",
   "execution_count": 28,
   "id": "18dfb045",
   "metadata": {
    "execution": {
     "iopub.execute_input": "2023-02-26T13:59:28.345087Z",
     "iopub.status.busy": "2023-02-26T13:59:28.344490Z",
     "iopub.status.idle": "2023-02-26T13:59:43.443713Z",
     "shell.execute_reply": "2023-02-26T13:59:43.442653Z"
    }
   },
   "outputs": [
    {
     "name": "stdout",
     "output_type": "stream",
     "text": [
      "186 µs ± 2.64 µs per loop (mean ± std. dev. of 7 runs, 10,000 loops each)\n"
     ]
    }
   ],
   "source": [
    "%timeit Batch.cat(batches)"
   ]
  },
  {
   "cell_type": "code",
   "execution_count": 29,
   "id": "c6688e51",
   "metadata": {
    "execution": {
     "iopub.execute_input": "2023-02-26T13:59:43.447515Z",
     "iopub.status.busy": "2023-02-26T13:59:43.446962Z",
     "iopub.status.idle": "2023-02-26T13:59:48.543387Z",
     "shell.execute_reply": "2023-02-26T13:59:48.542475Z"
    }
   },
   "outputs": [
    {
     "name": "stdout",
     "output_type": "stream",
     "text": [
      "627 µs ± 14.2 µs per loop (mean ± std. dev. of 7 runs, 1,000 loops each)\n"
     ]
    }
   ],
   "source": [
    "batch = Batch({\n",
    "    'obs': torch.randn(8, 4, 84, 84),\n",
    "    'action': torch.randint(0, 6, size=(8, 1,)),\n",
    "    'reward': torch.rand(8, 1)}\n",
    ")\n",
    "\n",
    "%timeit list(Batch.split(batch, 1, shuffle=False, merge_last=True))"
   ]
  },
  {
   "cell_type": "code",
   "execution_count": null,
   "id": "2539fbd9",
   "metadata": {},
   "outputs": [],
   "source": []
  }
 ],
 "metadata": {
  "kernelspec": {
   "display_name": "Python 3 (ipykernel)",
   "language": "python",
   "name": "python3"
  },
  "language_info": {
   "codemirror_mode": {
    "name": "ipython",
    "version": 3
   },
   "file_extension": ".py",
   "mimetype": "text/x-python",
   "name": "python",
   "nbconvert_exporter": "python",
   "pygments_lexer": "ipython3",
   "version": "3.8.16"
  }
 },
 "nbformat": 4,
 "nbformat_minor": 5
}
