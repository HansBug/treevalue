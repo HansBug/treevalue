{
 "cells": [
  {
   "cell_type": "markdown",
   "id": "9d39d946",
   "metadata": {},
   "source": [
    "# Comparison Between TreeValue and Tianshou Batch"
   ]
  },
  {
   "cell_type": "markdown",
   "id": "3c6db2d4",
   "metadata": {},
   "source": [
    "In this section, we will take a look at the feature and performance of the [Tianshou Batch](https://github.com/thu-ml/tianshou) library, which is developed by Tsinghua Machine Learning Group."
   ]
  },
  {
   "cell_type": "markdown",
   "id": "069361b0",
   "metadata": {},
   "source": [
    "Before starting the comparison, let us define some thing."
   ]
  },
  {
   "cell_type": "code",
   "execution_count": 1,
   "id": "06fc8d26",
   "metadata": {
    "execution": {
     "iopub.execute_input": "2023-02-26T15:58:55.021920Z",
     "iopub.status.busy": "2023-02-26T15:58:55.021703Z",
     "iopub.status.idle": "2023-02-26T15:58:55.928595Z",
     "shell.execute_reply": "2023-02-26T15:58:55.927909Z"
    }
   },
   "outputs": [
    {
     "name": "stderr",
     "output_type": "stream",
     "text": [
      "/opt/hostedtoolcache/Python/3.8.16/x64/lib/python3.8/site-packages/tqdm/auto.py:22: TqdmWarning: IProgress not found. Please update jupyter and ipywidgets. See https://ipywidgets.readthedocs.io/en/stable/user_install.html\n",
      "  from .autonotebook import tqdm as notebook_tqdm\n"
     ]
    }
   ],
   "source": [
    "import torch \n",
    "\n",
    "_TREE_DATA_1 = {'a': 1, 'b': 2, 'x': {'c': 3, 'd': 4}}\n",
    "_TREE_DATA_2 = {\n",
    "    'a': torch.randn(2, 3), \n",
    "    'x': {\n",
    "        'c': torch.randn(3, 4)\n",
    "    },\n",
    "}\n",
    "_TREE_DATA_3 = {\n",
    "    'obs': torch.randn(4, 84, 84),\n",
    "    'action': torch.randint(0, 6, size=(1,)),\n",
    "    'reward': torch.rand(1),\n",
    "}"
   ]
  },
  {
   "cell_type": "markdown",
   "id": "83461b25",
   "metadata": {},
   "source": [
    "## Read and Write Operation"
   ]
  },
  {
   "cell_type": "markdown",
   "id": "067b3f73",
   "metadata": {},
   "source": [
    "Reading and writing are the two most common operations in the tree data structure based on the data model (TreeValue and Tianshou Batch both belong to this type), so this section will compare the reading and writing performance of these two libraries."
   ]
  },
  {
   "cell_type": "markdown",
   "id": "5d09a5b7",
   "metadata": {},
   "source": [
    "### TreeValue's Get and Set"
   ]
  },
  {
   "cell_type": "code",
   "execution_count": 2,
   "id": "9519c4bb",
   "metadata": {
    "execution": {
     "iopub.execute_input": "2023-02-26T15:58:55.932047Z",
     "iopub.status.busy": "2023-02-26T15:58:55.931472Z",
     "iopub.status.idle": "2023-02-26T15:58:55.963986Z",
     "shell.execute_reply": "2023-02-26T15:58:55.963388Z"
    }
   },
   "outputs": [],
   "source": [
    "from treevalue import FastTreeValue\n",
    "\n",
    "t = FastTreeValue(_TREE_DATA_2)"
   ]
  },
  {
   "cell_type": "code",
   "execution_count": 3,
   "id": "11c37677",
   "metadata": {
    "execution": {
     "iopub.execute_input": "2023-02-26T15:58:55.966776Z",
     "iopub.status.busy": "2023-02-26T15:58:55.966271Z",
     "iopub.status.idle": "2023-02-26T15:58:55.975232Z",
     "shell.execute_reply": "2023-02-26T15:58:55.974631Z"
    }
   },
   "outputs": [
    {
     "data": {
      "text/plain": [
       "<FastTreeValue 0x7f8500762fa0>\n",
       "├── 'a' --> tensor([[-0.3719, -0.0617, -0.7929],\n",
       "│                   [-0.8787, -0.8276,  0.0789]])\n",
       "└── 'x' --> <FastTreeValue 0x7f8500762f70>\n",
       "    └── 'c' --> tensor([[ 0.8453, -1.3067, -0.5482, -2.0179],\n",
       "                        [ 1.4746, -0.8145, -0.0257,  0.6085],\n",
       "                        [-0.1082, -0.8685, -0.0549,  1.0889]])"
      ]
     },
     "execution_count": 3,
     "metadata": {},
     "output_type": "execute_result"
    }
   ],
   "source": [
    "t"
   ]
  },
  {
   "cell_type": "code",
   "execution_count": 4,
   "id": "fd70b0b9",
   "metadata": {
    "execution": {
     "iopub.execute_input": "2023-02-26T15:58:55.977689Z",
     "iopub.status.busy": "2023-02-26T15:58:55.977368Z",
     "iopub.status.idle": "2023-02-26T15:58:55.982759Z",
     "shell.execute_reply": "2023-02-26T15:58:55.982175Z"
    }
   },
   "outputs": [
    {
     "data": {
      "text/plain": [
       "tensor([[-0.3719, -0.0617, -0.7929],\n",
       "        [-0.8787, -0.8276,  0.0789]])"
      ]
     },
     "execution_count": 4,
     "metadata": {},
     "output_type": "execute_result"
    }
   ],
   "source": [
    "t.a"
   ]
  },
  {
   "cell_type": "code",
   "execution_count": 5,
   "id": "c18197bd",
   "metadata": {
    "execution": {
     "iopub.execute_input": "2023-02-26T15:58:55.985791Z",
     "iopub.status.busy": "2023-02-26T15:58:55.985311Z",
     "iopub.status.idle": "2023-02-26T15:59:00.888317Z",
     "shell.execute_reply": "2023-02-26T15:59:00.887658Z"
    }
   },
   "outputs": [
    {
     "name": "stdout",
     "output_type": "stream",
     "text": [
      "60.3 ns ± 0.0412 ns per loop (mean ± std. dev. of 7 runs, 10,000,000 loops each)\n"
     ]
    }
   ],
   "source": [
    "%timeit t.a"
   ]
  },
  {
   "cell_type": "code",
   "execution_count": 6,
   "id": "bd52f867",
   "metadata": {
    "execution": {
     "iopub.execute_input": "2023-02-26T15:59:00.891152Z",
     "iopub.status.busy": "2023-02-26T15:59:00.890723Z",
     "iopub.status.idle": "2023-02-26T15:59:00.897194Z",
     "shell.execute_reply": "2023-02-26T15:59:00.896613Z"
    }
   },
   "outputs": [
    {
     "data": {
      "text/plain": [
       "<FastTreeValue 0x7f8500762fa0>\n",
       "├── 'a' --> tensor([[ 2.0602, -1.0968, -1.6932],\n",
       "│                   [-0.6504, -0.3734, -0.2428]])\n",
       "└── 'x' --> <FastTreeValue 0x7f8500762f70>\n",
       "    └── 'c' --> tensor([[ 0.8453, -1.3067, -0.5482, -2.0179],\n",
       "                        [ 1.4746, -0.8145, -0.0257,  0.6085],\n",
       "                        [-0.1082, -0.8685, -0.0549,  1.0889]])"
      ]
     },
     "execution_count": 6,
     "metadata": {},
     "output_type": "execute_result"
    }
   ],
   "source": [
    "new_value = torch.randn(2, 3)\n",
    "t.a = new_value\n",
    "\n",
    "t"
   ]
  },
  {
   "cell_type": "code",
   "execution_count": 7,
   "id": "bbe04d1c",
   "metadata": {
    "execution": {
     "iopub.execute_input": "2023-02-26T15:59:00.899398Z",
     "iopub.status.busy": "2023-02-26T15:59:00.899194Z",
     "iopub.status.idle": "2023-02-26T15:59:05.947595Z",
     "shell.execute_reply": "2023-02-26T15:59:05.946859Z"
    }
   },
   "outputs": [
    {
     "name": "stdout",
     "output_type": "stream",
     "text": [
      "62.1 ns ± 0.118 ns per loop (mean ± std. dev. of 7 runs, 10,000,000 loops each)\n"
     ]
    }
   ],
   "source": [
    "%timeit t.a = new_value"
   ]
  },
  {
   "cell_type": "markdown",
   "id": "48c49731",
   "metadata": {},
   "source": [
    "### Tianshou Batch's Get and Set"
   ]
  },
  {
   "cell_type": "code",
   "execution_count": 8,
   "id": "f1bb14c1",
   "metadata": {
    "execution": {
     "iopub.execute_input": "2023-02-26T15:59:05.950498Z",
     "iopub.status.busy": "2023-02-26T15:59:05.949972Z",
     "iopub.status.idle": "2023-02-26T15:59:06.276087Z",
     "shell.execute_reply": "2023-02-26T15:59:06.275408Z"
    }
   },
   "outputs": [],
   "source": [
    "from tianshou.data import Batch\n",
    "\n",
    "b = Batch(**_TREE_DATA_2)"
   ]
  },
  {
   "cell_type": "code",
   "execution_count": 9,
   "id": "cb0777c3",
   "metadata": {
    "execution": {
     "iopub.execute_input": "2023-02-26T15:59:06.279358Z",
     "iopub.status.busy": "2023-02-26T15:59:06.278721Z",
     "iopub.status.idle": "2023-02-26T15:59:06.285380Z",
     "shell.execute_reply": "2023-02-26T15:59:06.284804Z"
    }
   },
   "outputs": [
    {
     "data": {
      "text/plain": [
       "Batch(\n",
       "    a: tensor([[-0.3719, -0.0617, -0.7929],\n",
       "               [-0.8787, -0.8276,  0.0789]]),\n",
       "    x: Batch(\n",
       "           c: tensor([[ 0.8453, -1.3067, -0.5482, -2.0179],\n",
       "                      [ 1.4746, -0.8145, -0.0257,  0.6085],\n",
       "                      [-0.1082, -0.8685, -0.0549,  1.0889]]),\n",
       "       ),\n",
       ")"
      ]
     },
     "execution_count": 9,
     "metadata": {},
     "output_type": "execute_result"
    }
   ],
   "source": [
    "b"
   ]
  },
  {
   "cell_type": "code",
   "execution_count": 10,
   "id": "43ef8ea3",
   "metadata": {
    "execution": {
     "iopub.execute_input": "2023-02-26T15:59:06.287799Z",
     "iopub.status.busy": "2023-02-26T15:59:06.287482Z",
     "iopub.status.idle": "2023-02-26T15:59:06.292993Z",
     "shell.execute_reply": "2023-02-26T15:59:06.292431Z"
    }
   },
   "outputs": [
    {
     "data": {
      "text/plain": [
       "tensor([[-0.3719, -0.0617, -0.7929],\n",
       "        [-0.8787, -0.8276,  0.0789]])"
      ]
     },
     "execution_count": 10,
     "metadata": {},
     "output_type": "execute_result"
    }
   ],
   "source": [
    "b.a"
   ]
  },
  {
   "cell_type": "code",
   "execution_count": 11,
   "id": "b785ab72",
   "metadata": {
    "execution": {
     "iopub.execute_input": "2023-02-26T15:59:06.295758Z",
     "iopub.status.busy": "2023-02-26T15:59:06.295282Z",
     "iopub.status.idle": "2023-02-26T15:59:10.784174Z",
     "shell.execute_reply": "2023-02-26T15:59:10.783463Z"
    }
   },
   "outputs": [
    {
     "name": "stdout",
     "output_type": "stream",
     "text": [
      "54.8 ns ± 0.144 ns per loop (mean ± std. dev. of 7 runs, 10,000,000 loops each)\n"
     ]
    }
   ],
   "source": [
    "%timeit b.a"
   ]
  },
  {
   "cell_type": "code",
   "execution_count": 12,
   "id": "ad54dc69",
   "metadata": {
    "execution": {
     "iopub.execute_input": "2023-02-26T15:59:10.787251Z",
     "iopub.status.busy": "2023-02-26T15:59:10.786736Z",
     "iopub.status.idle": "2023-02-26T15:59:10.793066Z",
     "shell.execute_reply": "2023-02-26T15:59:10.792487Z"
    }
   },
   "outputs": [
    {
     "data": {
      "text/plain": [
       "Batch(\n",
       "    a: tensor([[ 1.0166, -0.7335, -2.7005],\n",
       "               [-1.0974, -0.6897,  1.2315]]),\n",
       "    x: Batch(\n",
       "           c: tensor([[ 0.8453, -1.3067, -0.5482, -2.0179],\n",
       "                      [ 1.4746, -0.8145, -0.0257,  0.6085],\n",
       "                      [-0.1082, -0.8685, -0.0549,  1.0889]]),\n",
       "       ),\n",
       ")"
      ]
     },
     "execution_count": 12,
     "metadata": {},
     "output_type": "execute_result"
    }
   ],
   "source": [
    "new_value = torch.randn(2, 3)\n",
    "b.a = new_value\n",
    "\n",
    "b"
   ]
  },
  {
   "cell_type": "code",
   "execution_count": 13,
   "id": "29b1d0bf",
   "metadata": {
    "execution": {
     "iopub.execute_input": "2023-02-26T15:59:10.795954Z",
     "iopub.status.busy": "2023-02-26T15:59:10.795409Z",
     "iopub.status.idle": "2023-02-26T15:59:14.703199Z",
     "shell.execute_reply": "2023-02-26T15:59:14.702423Z"
    }
   },
   "outputs": [
    {
     "name": "stdout",
     "output_type": "stream",
     "text": [
      "481 ns ± 0.12 ns per loop (mean ± std. dev. of 7 runs, 1,000,000 loops each)\n"
     ]
    }
   ],
   "source": [
    "%timeit b.a = new_value"
   ]
  },
  {
   "cell_type": "markdown",
   "id": "b61ad1d0",
   "metadata": {},
   "source": [
    "## Initialization"
   ]
  },
  {
   "cell_type": "markdown",
   "id": "d70f0d54",
   "metadata": {},
   "source": [
    "### TreeValue's Initialization"
   ]
  },
  {
   "cell_type": "code",
   "execution_count": 14,
   "id": "d32a679b",
   "metadata": {
    "execution": {
     "iopub.execute_input": "2023-02-26T15:59:14.706185Z",
     "iopub.status.busy": "2023-02-26T15:59:14.705658Z",
     "iopub.status.idle": "2023-02-26T15:59:21.473144Z",
     "shell.execute_reply": "2023-02-26T15:59:21.472374Z"
    }
   },
   "outputs": [
    {
     "name": "stdout",
     "output_type": "stream",
     "text": [
      "833 ns ± 0.161 ns per loop (mean ± std. dev. of 7 runs, 1,000,000 loops each)\n"
     ]
    }
   ],
   "source": [
    "%timeit FastTreeValue(_TREE_DATA_1)"
   ]
  },
  {
   "cell_type": "markdown",
   "id": "24f3707b",
   "metadata": {},
   "source": [
    "### Tianshou Batch's Initialization"
   ]
  },
  {
   "cell_type": "code",
   "execution_count": 15,
   "id": "ac3958df",
   "metadata": {
    "execution": {
     "iopub.execute_input": "2023-02-26T15:59:21.476122Z",
     "iopub.status.busy": "2023-02-26T15:59:21.475489Z",
     "iopub.status.idle": "2023-02-26T15:59:30.919278Z",
     "shell.execute_reply": "2023-02-26T15:59:30.918613Z"
    }
   },
   "outputs": [
    {
     "name": "stdout",
     "output_type": "stream",
     "text": [
      "11.6 µs ± 19.4 ns per loop (mean ± std. dev. of 7 runs, 100,000 loops each)\n"
     ]
    }
   ],
   "source": [
    "%timeit Batch(**_TREE_DATA_1)"
   ]
  },
  {
   "cell_type": "markdown",
   "id": "1ab82e2d",
   "metadata": {},
   "source": [
    "## Deep Copy Operation"
   ]
  },
  {
   "cell_type": "code",
   "execution_count": 16,
   "id": "210a9442",
   "metadata": {
    "execution": {
     "iopub.execute_input": "2023-02-26T15:59:30.922094Z",
     "iopub.status.busy": "2023-02-26T15:59:30.921852Z",
     "iopub.status.idle": "2023-02-26T15:59:30.925619Z",
     "shell.execute_reply": "2023-02-26T15:59:30.925008Z"
    }
   },
   "outputs": [],
   "source": [
    "import copy"
   ]
  },
  {
   "cell_type": "markdown",
   "id": "5a736274",
   "metadata": {},
   "source": [
    "### Deep Copy of TreeValue"
   ]
  },
  {
   "cell_type": "code",
   "execution_count": 17,
   "id": "f9bcadd6",
   "metadata": {
    "execution": {
     "iopub.execute_input": "2023-02-26T15:59:30.928427Z",
     "iopub.status.busy": "2023-02-26T15:59:30.927930Z",
     "iopub.status.idle": "2023-02-26T15:59:42.004723Z",
     "shell.execute_reply": "2023-02-26T15:59:42.004149Z"
    }
   },
   "outputs": [
    {
     "name": "stdout",
     "output_type": "stream",
     "text": [
      "136 µs ± 570 ns per loop (mean ± std. dev. of 7 runs, 10,000 loops each)\n"
     ]
    }
   ],
   "source": [
    "t3 = FastTreeValue(_TREE_DATA_3)\n",
    "%timeit copy.deepcopy(t3)"
   ]
  },
  {
   "cell_type": "markdown",
   "id": "bf8be7ea",
   "metadata": {},
   "source": [
    "### Deep Copy of Tianshou Batch"
   ]
  },
  {
   "cell_type": "code",
   "execution_count": 18,
   "id": "91998e6f",
   "metadata": {
    "execution": {
     "iopub.execute_input": "2023-02-26T15:59:42.007748Z",
     "iopub.status.busy": "2023-02-26T15:59:42.007111Z",
     "iopub.status.idle": "2023-02-26T15:59:53.156558Z",
     "shell.execute_reply": "2023-02-26T15:59:53.155991Z"
    }
   },
   "outputs": [
    {
     "name": "stdout",
     "output_type": "stream",
     "text": [
      "137 µs ± 385 ns per loop (mean ± std. dev. of 7 runs, 10,000 loops each)\n"
     ]
    }
   ],
   "source": [
    "b3 = Batch(**_TREE_DATA_3)\n",
    "%timeit copy.deepcopy(b3)"
   ]
  },
  {
   "cell_type": "markdown",
   "id": "223162fb",
   "metadata": {},
   "source": [
    "## Stack, Concat and Split Operation"
   ]
  },
  {
   "cell_type": "markdown",
   "id": "85fa4a73",
   "metadata": {},
   "source": [
    "### Performance of TreeValue"
   ]
  },
  {
   "cell_type": "code",
   "execution_count": 19,
   "id": "a0c2b697",
   "metadata": {
    "execution": {
     "iopub.execute_input": "2023-02-26T15:59:53.159653Z",
     "iopub.status.busy": "2023-02-26T15:59:53.158927Z",
     "iopub.status.idle": "2023-02-26T15:59:53.162489Z",
     "shell.execute_reply": "2023-02-26T15:59:53.161965Z"
    }
   },
   "outputs": [],
   "source": [
    "trees = [FastTreeValue(_TREE_DATA_2) for _ in range(8)]"
   ]
  },
  {
   "cell_type": "code",
   "execution_count": 20,
   "id": "017ea5a5",
   "metadata": {
    "execution": {
     "iopub.execute_input": "2023-02-26T15:59:53.164991Z",
     "iopub.status.busy": "2023-02-26T15:59:53.164419Z",
     "iopub.status.idle": "2023-02-26T15:59:53.171380Z",
     "shell.execute_reply": "2023-02-26T15:59:53.170853Z"
    }
   },
   "outputs": [
    {
     "data": {
      "text/plain": [
       "<FastTreeValue 0x7f8500762670>\n",
       "├── 'a' --> tensor([[[-0.3719, -0.0617, -0.7929],\n",
       "│                    [-0.8787, -0.8276,  0.0789]],\n",
       "│           \n",
       "│                   [[-0.3719, -0.0617, -0.7929],\n",
       "│                    [-0.8787, -0.8276,  0.0789]],\n",
       "│           \n",
       "│                   [[-0.3719, -0.0617, -0.7929],\n",
       "│                    [-0.8787, -0.8276,  0.0789]],\n",
       "│           \n",
       "│                   [[-0.3719, -0.0617, -0.7929],\n",
       "│                    [-0.8787, -0.8276,  0.0789]],\n",
       "│           \n",
       "│                   [[-0.3719, -0.0617, -0.7929],\n",
       "│                    [-0.8787, -0.8276,  0.0789]],\n",
       "│           \n",
       "│                   [[-0.3719, -0.0617, -0.7929],\n",
       "│                    [-0.8787, -0.8276,  0.0789]],\n",
       "│           \n",
       "│                   [[-0.3719, -0.0617, -0.7929],\n",
       "│                    [-0.8787, -0.8276,  0.0789]],\n",
       "│           \n",
       "│                   [[-0.3719, -0.0617, -0.7929],\n",
       "│                    [-0.8787, -0.8276,  0.0789]]])\n",
       "└── 'x' --> <FastTreeValue 0x7f8500762d30>\n",
       "    └── 'c' --> tensor([[[ 0.8453, -1.3067, -0.5482, -2.0179],\n",
       "                         [ 1.4746, -0.8145, -0.0257,  0.6085],\n",
       "                         [-0.1082, -0.8685, -0.0549,  1.0889]],\n",
       "                \n",
       "                        [[ 0.8453, -1.3067, -0.5482, -2.0179],\n",
       "                         [ 1.4746, -0.8145, -0.0257,  0.6085],\n",
       "                         [-0.1082, -0.8685, -0.0549,  1.0889]],\n",
       "                \n",
       "                        [[ 0.8453, -1.3067, -0.5482, -2.0179],\n",
       "                         [ 1.4746, -0.8145, -0.0257,  0.6085],\n",
       "                         [-0.1082, -0.8685, -0.0549,  1.0889]],\n",
       "                \n",
       "                        [[ 0.8453, -1.3067, -0.5482, -2.0179],\n",
       "                         [ 1.4746, -0.8145, -0.0257,  0.6085],\n",
       "                         [-0.1082, -0.8685, -0.0549,  1.0889]],\n",
       "                \n",
       "                        [[ 0.8453, -1.3067, -0.5482, -2.0179],\n",
       "                         [ 1.4746, -0.8145, -0.0257,  0.6085],\n",
       "                         [-0.1082, -0.8685, -0.0549,  1.0889]],\n",
       "                \n",
       "                        [[ 0.8453, -1.3067, -0.5482, -2.0179],\n",
       "                         [ 1.4746, -0.8145, -0.0257,  0.6085],\n",
       "                         [-0.1082, -0.8685, -0.0549,  1.0889]],\n",
       "                \n",
       "                        [[ 0.8453, -1.3067, -0.5482, -2.0179],\n",
       "                         [ 1.4746, -0.8145, -0.0257,  0.6085],\n",
       "                         [-0.1082, -0.8685, -0.0549,  1.0889]],\n",
       "                \n",
       "                        [[ 0.8453, -1.3067, -0.5482, -2.0179],\n",
       "                         [ 1.4746, -0.8145, -0.0257,  0.6085],\n",
       "                         [-0.1082, -0.8685, -0.0549,  1.0889]]])"
      ]
     },
     "execution_count": 20,
     "metadata": {},
     "output_type": "execute_result"
    }
   ],
   "source": [
    "t_stack = FastTreeValue.func(subside=True)(torch.stack)\n",
    "\n",
    "t_stack(trees)"
   ]
  },
  {
   "cell_type": "code",
   "execution_count": 21,
   "id": "f8b3f415",
   "metadata": {
    "execution": {
     "iopub.execute_input": "2023-02-26T15:59:53.173883Z",
     "iopub.status.busy": "2023-02-26T15:59:53.173326Z",
     "iopub.status.idle": "2023-02-26T15:59:55.787370Z",
     "shell.execute_reply": "2023-02-26T15:59:55.786580Z"
    }
   },
   "outputs": [
    {
     "name": "stdout",
     "output_type": "stream",
     "text": [
      "32.2 µs ± 59.5 ns per loop (mean ± std. dev. of 7 runs, 10,000 loops each)\n"
     ]
    }
   ],
   "source": [
    "%timeit t_stack(trees)"
   ]
  },
  {
   "cell_type": "code",
   "execution_count": 22,
   "id": "94b56771",
   "metadata": {
    "execution": {
     "iopub.execute_input": "2023-02-26T15:59:55.790339Z",
     "iopub.status.busy": "2023-02-26T15:59:55.789815Z",
     "iopub.status.idle": "2023-02-26T15:59:55.797603Z",
     "shell.execute_reply": "2023-02-26T15:59:55.796989Z"
    }
   },
   "outputs": [
    {
     "data": {
      "text/plain": [
       "<FastTreeValue 0x7f8453429fa0>\n",
       "├── 'a' --> tensor([[-0.3719, -0.0617, -0.7929],\n",
       "│                   [-0.8787, -0.8276,  0.0789],\n",
       "│                   [-0.3719, -0.0617, -0.7929],\n",
       "│                   [-0.8787, -0.8276,  0.0789],\n",
       "│                   [-0.3719, -0.0617, -0.7929],\n",
       "│                   [-0.8787, -0.8276,  0.0789],\n",
       "│                   [-0.3719, -0.0617, -0.7929],\n",
       "│                   [-0.8787, -0.8276,  0.0789],\n",
       "│                   [-0.3719, -0.0617, -0.7929],\n",
       "│                   [-0.8787, -0.8276,  0.0789],\n",
       "│                   [-0.3719, -0.0617, -0.7929],\n",
       "│                   [-0.8787, -0.8276,  0.0789],\n",
       "│                   [-0.3719, -0.0617, -0.7929],\n",
       "│                   [-0.8787, -0.8276,  0.0789],\n",
       "│                   [-0.3719, -0.0617, -0.7929],\n",
       "│                   [-0.8787, -0.8276,  0.0789]])\n",
       "└── 'x' --> <FastTreeValue 0x7f8453429eb0>\n",
       "    └── 'c' --> tensor([[ 0.8453, -1.3067, -0.5482, -2.0179],\n",
       "                        [ 1.4746, -0.8145, -0.0257,  0.6085],\n",
       "                        [-0.1082, -0.8685, -0.0549,  1.0889],\n",
       "                        [ 0.8453, -1.3067, -0.5482, -2.0179],\n",
       "                        [ 1.4746, -0.8145, -0.0257,  0.6085],\n",
       "                        [-0.1082, -0.8685, -0.0549,  1.0889],\n",
       "                        [ 0.8453, -1.3067, -0.5482, -2.0179],\n",
       "                        [ 1.4746, -0.8145, -0.0257,  0.6085],\n",
       "                        [-0.1082, -0.8685, -0.0549,  1.0889],\n",
       "                        [ 0.8453, -1.3067, -0.5482, -2.0179],\n",
       "                        [ 1.4746, -0.8145, -0.0257,  0.6085],\n",
       "                        [-0.1082, -0.8685, -0.0549,  1.0889],\n",
       "                        [ 0.8453, -1.3067, -0.5482, -2.0179],\n",
       "                        [ 1.4746, -0.8145, -0.0257,  0.6085],\n",
       "                        [-0.1082, -0.8685, -0.0549,  1.0889],\n",
       "                        [ 0.8453, -1.3067, -0.5482, -2.0179],\n",
       "                        [ 1.4746, -0.8145, -0.0257,  0.6085],\n",
       "                        [-0.1082, -0.8685, -0.0549,  1.0889],\n",
       "                        [ 0.8453, -1.3067, -0.5482, -2.0179],\n",
       "                        [ 1.4746, -0.8145, -0.0257,  0.6085],\n",
       "                        [-0.1082, -0.8685, -0.0549,  1.0889],\n",
       "                        [ 0.8453, -1.3067, -0.5482, -2.0179],\n",
       "                        [ 1.4746, -0.8145, -0.0257,  0.6085],\n",
       "                        [-0.1082, -0.8685, -0.0549,  1.0889]])"
      ]
     },
     "execution_count": 22,
     "metadata": {},
     "output_type": "execute_result"
    }
   ],
   "source": [
    "t_cat = FastTreeValue.func(subside=True)(torch.cat)\n",
    "\n",
    "t_cat(trees)"
   ]
  },
  {
   "cell_type": "code",
   "execution_count": 23,
   "id": "5e9c06a6",
   "metadata": {
    "execution": {
     "iopub.execute_input": "2023-02-26T15:59:55.800279Z",
     "iopub.status.busy": "2023-02-26T15:59:55.799717Z",
     "iopub.status.idle": "2023-02-26T15:59:58.242572Z",
     "shell.execute_reply": "2023-02-26T15:59:58.241914Z"
    }
   },
   "outputs": [
    {
     "name": "stdout",
     "output_type": "stream",
     "text": [
      "30 µs ± 23.9 ns per loop (mean ± std. dev. of 7 runs, 10,000 loops each)\n"
     ]
    }
   ],
   "source": [
    "%timeit t_cat(trees)"
   ]
  },
  {
   "cell_type": "code",
   "execution_count": 24,
   "id": "a3ab5c8f",
   "metadata": {
    "execution": {
     "iopub.execute_input": "2023-02-26T15:59:58.245475Z",
     "iopub.status.busy": "2023-02-26T15:59:58.245120Z",
     "iopub.status.idle": "2023-02-26T16:00:03.145289Z",
     "shell.execute_reply": "2023-02-26T16:00:03.144560Z"
    }
   },
   "outputs": [
    {
     "name": "stdout",
     "output_type": "stream",
     "text": [
      "60.2 µs ± 377 ns per loop (mean ± std. dev. of 7 runs, 10,000 loops each)\n"
     ]
    }
   ],
   "source": [
    "t_split = FastTreeValue.func(rise=True)(torch.split)\n",
    "tree = FastTreeValue({\n",
    "    'obs': torch.randn(8, 4, 84, 84),\n",
    "    'action': torch.randint(0, 6, size=(8, 1,)),\n",
    "    'reward': torch.rand(8, 1),\n",
    "})\n",
    "\n",
    "%timeit t_split(tree, 1)"
   ]
  },
  {
   "cell_type": "markdown",
   "id": "31c3ec0b",
   "metadata": {},
   "source": [
    "### Performance of Tianshou Batch"
   ]
  },
  {
   "cell_type": "code",
   "execution_count": 25,
   "id": "9ead828a",
   "metadata": {
    "execution": {
     "iopub.execute_input": "2023-02-26T16:00:03.148264Z",
     "iopub.status.busy": "2023-02-26T16:00:03.147634Z",
     "iopub.status.idle": "2023-02-26T16:00:03.155549Z",
     "shell.execute_reply": "2023-02-26T16:00:03.154960Z"
    }
   },
   "outputs": [
    {
     "data": {
      "text/plain": [
       "Batch(\n",
       "    x: Batch(\n",
       "           c: tensor([[[ 0.8453, -1.3067, -0.5482, -2.0179],\n",
       "                       [ 1.4746, -0.8145, -0.0257,  0.6085],\n",
       "                       [-0.1082, -0.8685, -0.0549,  1.0889]],\n",
       "              \n",
       "                      [[ 0.8453, -1.3067, -0.5482, -2.0179],\n",
       "                       [ 1.4746, -0.8145, -0.0257,  0.6085],\n",
       "                       [-0.1082, -0.8685, -0.0549,  1.0889]],\n",
       "              \n",
       "                      [[ 0.8453, -1.3067, -0.5482, -2.0179],\n",
       "                       [ 1.4746, -0.8145, -0.0257,  0.6085],\n",
       "                       [-0.1082, -0.8685, -0.0549,  1.0889]],\n",
       "              \n",
       "                      [[ 0.8453, -1.3067, -0.5482, -2.0179],\n",
       "                       [ 1.4746, -0.8145, -0.0257,  0.6085],\n",
       "                       [-0.1082, -0.8685, -0.0549,  1.0889]],\n",
       "              \n",
       "                      [[ 0.8453, -1.3067, -0.5482, -2.0179],\n",
       "                       [ 1.4746, -0.8145, -0.0257,  0.6085],\n",
       "                       [-0.1082, -0.8685, -0.0549,  1.0889]],\n",
       "              \n",
       "                      [[ 0.8453, -1.3067, -0.5482, -2.0179],\n",
       "                       [ 1.4746, -0.8145, -0.0257,  0.6085],\n",
       "                       [-0.1082, -0.8685, -0.0549,  1.0889]],\n",
       "              \n",
       "                      [[ 0.8453, -1.3067, -0.5482, -2.0179],\n",
       "                       [ 1.4746, -0.8145, -0.0257,  0.6085],\n",
       "                       [-0.1082, -0.8685, -0.0549,  1.0889]],\n",
       "              \n",
       "                      [[ 0.8453, -1.3067, -0.5482, -2.0179],\n",
       "                       [ 1.4746, -0.8145, -0.0257,  0.6085],\n",
       "                       [-0.1082, -0.8685, -0.0549,  1.0889]]]),\n",
       "       ),\n",
       "    a: tensor([[[-0.3719, -0.0617, -0.7929],\n",
       "                [-0.8787, -0.8276,  0.0789]],\n",
       "       \n",
       "               [[-0.3719, -0.0617, -0.7929],\n",
       "                [-0.8787, -0.8276,  0.0789]],\n",
       "       \n",
       "               [[-0.3719, -0.0617, -0.7929],\n",
       "                [-0.8787, -0.8276,  0.0789]],\n",
       "       \n",
       "               [[-0.3719, -0.0617, -0.7929],\n",
       "                [-0.8787, -0.8276,  0.0789]],\n",
       "       \n",
       "               [[-0.3719, -0.0617, -0.7929],\n",
       "                [-0.8787, -0.8276,  0.0789]],\n",
       "       \n",
       "               [[-0.3719, -0.0617, -0.7929],\n",
       "                [-0.8787, -0.8276,  0.0789]],\n",
       "       \n",
       "               [[-0.3719, -0.0617, -0.7929],\n",
       "                [-0.8787, -0.8276,  0.0789]],\n",
       "       \n",
       "               [[-0.3719, -0.0617, -0.7929],\n",
       "                [-0.8787, -0.8276,  0.0789]]]),\n",
       ")"
      ]
     },
     "execution_count": 25,
     "metadata": {},
     "output_type": "execute_result"
    }
   ],
   "source": [
    "batches = [Batch(**_TREE_DATA_2) for _ in range(8)]\n",
    "\n",
    "Batch.stack(batches)"
   ]
  },
  {
   "cell_type": "code",
   "execution_count": 26,
   "id": "ec9037a3",
   "metadata": {
    "execution": {
     "iopub.execute_input": "2023-02-26T16:00:03.157907Z",
     "iopub.status.busy": "2023-02-26T16:00:03.157562Z",
     "iopub.status.idle": "2023-02-26T16:00:09.518953Z",
     "shell.execute_reply": "2023-02-26T16:00:09.518258Z"
    }
   },
   "outputs": [
    {
     "name": "stdout",
     "output_type": "stream",
     "text": [
      "78.3 µs ± 53.8 ns per loop (mean ± std. dev. of 7 runs, 10,000 loops each)\n"
     ]
    }
   ],
   "source": [
    "%timeit Batch.stack(batches)"
   ]
  },
  {
   "cell_type": "code",
   "execution_count": 27,
   "id": "cb8ab77e",
   "metadata": {
    "execution": {
     "iopub.execute_input": "2023-02-26T16:00:09.521783Z",
     "iopub.status.busy": "2023-02-26T16:00:09.521427Z",
     "iopub.status.idle": "2023-02-26T16:00:09.528829Z",
     "shell.execute_reply": "2023-02-26T16:00:09.528225Z"
    }
   },
   "outputs": [
    {
     "data": {
      "text/plain": [
       "Batch(\n",
       "    x: Batch(\n",
       "           c: tensor([[ 0.8453, -1.3067, -0.5482, -2.0179],\n",
       "                      [ 1.4746, -0.8145, -0.0257,  0.6085],\n",
       "                      [-0.1082, -0.8685, -0.0549,  1.0889],\n",
       "                      [ 0.8453, -1.3067, -0.5482, -2.0179],\n",
       "                      [ 1.4746, -0.8145, -0.0257,  0.6085],\n",
       "                      [-0.1082, -0.8685, -0.0549,  1.0889],\n",
       "                      [ 0.8453, -1.3067, -0.5482, -2.0179],\n",
       "                      [ 1.4746, -0.8145, -0.0257,  0.6085],\n",
       "                      [-0.1082, -0.8685, -0.0549,  1.0889],\n",
       "                      [ 0.8453, -1.3067, -0.5482, -2.0179],\n",
       "                      [ 1.4746, -0.8145, -0.0257,  0.6085],\n",
       "                      [-0.1082, -0.8685, -0.0549,  1.0889],\n",
       "                      [ 0.8453, -1.3067, -0.5482, -2.0179],\n",
       "                      [ 1.4746, -0.8145, -0.0257,  0.6085],\n",
       "                      [-0.1082, -0.8685, -0.0549,  1.0889],\n",
       "                      [ 0.8453, -1.3067, -0.5482, -2.0179],\n",
       "                      [ 1.4746, -0.8145, -0.0257,  0.6085],\n",
       "                      [-0.1082, -0.8685, -0.0549,  1.0889],\n",
       "                      [ 0.8453, -1.3067, -0.5482, -2.0179],\n",
       "                      [ 1.4746, -0.8145, -0.0257,  0.6085],\n",
       "                      [-0.1082, -0.8685, -0.0549,  1.0889],\n",
       "                      [ 0.8453, -1.3067, -0.5482, -2.0179],\n",
       "                      [ 1.4746, -0.8145, -0.0257,  0.6085],\n",
       "                      [-0.1082, -0.8685, -0.0549,  1.0889]]),\n",
       "       ),\n",
       "    a: tensor([[-0.3719, -0.0617, -0.7929],\n",
       "               [-0.8787, -0.8276,  0.0789],\n",
       "               [-0.3719, -0.0617, -0.7929],\n",
       "               [-0.8787, -0.8276,  0.0789],\n",
       "               [-0.3719, -0.0617, -0.7929],\n",
       "               [-0.8787, -0.8276,  0.0789],\n",
       "               [-0.3719, -0.0617, -0.7929],\n",
       "               [-0.8787, -0.8276,  0.0789],\n",
       "               [-0.3719, -0.0617, -0.7929],\n",
       "               [-0.8787, -0.8276,  0.0789],\n",
       "               [-0.3719, -0.0617, -0.7929],\n",
       "               [-0.8787, -0.8276,  0.0789],\n",
       "               [-0.3719, -0.0617, -0.7929],\n",
       "               [-0.8787, -0.8276,  0.0789],\n",
       "               [-0.3719, -0.0617, -0.7929],\n",
       "               [-0.8787, -0.8276,  0.0789]]),\n",
       ")"
      ]
     },
     "execution_count": 27,
     "metadata": {},
     "output_type": "execute_result"
    }
   ],
   "source": [
    "Batch.cat(batches)"
   ]
  },
  {
   "cell_type": "code",
   "execution_count": 28,
   "id": "18dfb045",
   "metadata": {
    "execution": {
     "iopub.execute_input": "2023-02-26T16:00:09.531357Z",
     "iopub.status.busy": "2023-02-26T16:00:09.531150Z",
     "iopub.status.idle": "2023-02-26T16:00:21.004462Z",
     "shell.execute_reply": "2023-02-26T16:00:21.003796Z"
    }
   },
   "outputs": [
    {
     "name": "stdout",
     "output_type": "stream",
     "text": [
      "141 µs ± 124 ns per loop (mean ± std. dev. of 7 runs, 10,000 loops each)\n"
     ]
    }
   ],
   "source": [
    "%timeit Batch.cat(batches)"
   ]
  },
  {
   "cell_type": "code",
   "execution_count": 29,
   "id": "c6688e51",
   "metadata": {
    "execution": {
     "iopub.execute_input": "2023-02-26T16:00:21.007412Z",
     "iopub.status.busy": "2023-02-26T16:00:21.007063Z",
     "iopub.status.idle": "2023-02-26T16:00:23.465884Z",
     "shell.execute_reply": "2023-02-26T16:00:23.465196Z"
    }
   },
   "outputs": [
    {
     "name": "stdout",
     "output_type": "stream",
     "text": [
      "302 µs ± 803 ns per loop (mean ± std. dev. of 7 runs, 1,000 loops each)\n"
     ]
    }
   ],
   "source": [
    "batch = Batch({\n",
    "    'obs': torch.randn(8, 4, 84, 84),\n",
    "    'action': torch.randint(0, 6, size=(8, 1,)),\n",
    "    'reward': torch.rand(8, 1)}\n",
    ")\n",
    "\n",
    "%timeit list(Batch.split(batch, 1, shuffle=False, merge_last=True))"
   ]
  },
  {
   "cell_type": "code",
   "execution_count": null,
   "id": "2539fbd9",
   "metadata": {},
   "outputs": [],
   "source": []
  }
 ],
 "metadata": {
  "kernelspec": {
   "display_name": "Python 3 (ipykernel)",
   "language": "python",
   "name": "python3"
  },
  "language_info": {
   "codemirror_mode": {
    "name": "ipython",
    "version": 3
   },
   "file_extension": ".py",
   "mimetype": "text/x-python",
   "name": "python",
   "nbconvert_exporter": "python",
   "pygments_lexer": "ipython3",
   "version": "3.8.16"
  }
 },
 "nbformat": 4,
 "nbformat_minor": 5
}
