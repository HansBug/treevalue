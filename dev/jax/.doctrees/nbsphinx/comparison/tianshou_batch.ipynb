{
 "cells": [
  {
   "cell_type": "markdown",
   "id": "9d39d946",
   "metadata": {},
   "source": [
    "# Comparison Between TreeValue and Tianshou Batch"
   ]
  },
  {
   "cell_type": "markdown",
   "id": "3c6db2d4",
   "metadata": {},
   "source": [
    "In this section, we will take a look at the feature and performance of the [Tianshou Batch](https://github.com/thu-ml/tianshou) library, which is developed by Tsinghua Machine Learning Group."
   ]
  },
  {
   "cell_type": "markdown",
   "id": "069361b0",
   "metadata": {},
   "source": [
    "Before starting the comparison, let us define some thing."
   ]
  },
  {
   "cell_type": "code",
   "execution_count": 1,
   "id": "06fc8d26",
   "metadata": {
    "execution": {
     "iopub.execute_input": "2023-02-26T14:55:06.907264Z",
     "iopub.status.busy": "2023-02-26T14:55:06.906466Z",
     "iopub.status.idle": "2023-02-26T14:55:08.072628Z",
     "shell.execute_reply": "2023-02-26T14:55:08.067971Z"
    }
   },
   "outputs": [
    {
     "name": "stderr",
     "output_type": "stream",
     "text": [
      "/opt/hostedtoolcache/Python/3.8.16/x64/lib/python3.8/site-packages/tqdm/auto.py:22: TqdmWarning: IProgress not found. Please update jupyter and ipywidgets. See https://ipywidgets.readthedocs.io/en/stable/user_install.html\n",
      "  from .autonotebook import tqdm as notebook_tqdm\n"
     ]
    }
   ],
   "source": [
    "import torch \n",
    "\n",
    "_TREE_DATA_1 = {'a': 1, 'b': 2, 'x': {'c': 3, 'd': 4}}\n",
    "_TREE_DATA_2 = {\n",
    "    'a': torch.randn(2, 3), \n",
    "    'x': {\n",
    "        'c': torch.randn(3, 4)\n",
    "    },\n",
    "}\n",
    "_TREE_DATA_3 = {\n",
    "    'obs': torch.randn(4, 84, 84),\n",
    "    'action': torch.randint(0, 6, size=(1,)),\n",
    "    'reward': torch.rand(1),\n",
    "}"
   ]
  },
  {
   "cell_type": "markdown",
   "id": "83461b25",
   "metadata": {},
   "source": [
    "## Read and Write Operation"
   ]
  },
  {
   "cell_type": "markdown",
   "id": "067b3f73",
   "metadata": {},
   "source": [
    "Reading and writing are the two most common operations in the tree data structure based on the data model (TreeValue and Tianshou Batch both belong to this type), so this section will compare the reading and writing performance of these two libraries."
   ]
  },
  {
   "cell_type": "markdown",
   "id": "5d09a5b7",
   "metadata": {},
   "source": [
    "### TreeValue's Get and Set"
   ]
  },
  {
   "cell_type": "code",
   "execution_count": 2,
   "id": "9519c4bb",
   "metadata": {
    "execution": {
     "iopub.execute_input": "2023-02-26T14:55:08.077802Z",
     "iopub.status.busy": "2023-02-26T14:55:08.077451Z",
     "iopub.status.idle": "2023-02-26T14:55:08.440857Z",
     "shell.execute_reply": "2023-02-26T14:55:08.439847Z"
    }
   },
   "outputs": [],
   "source": [
    "from treevalue import FastTreeValue\n",
    "\n",
    "t = FastTreeValue(_TREE_DATA_2)"
   ]
  },
  {
   "cell_type": "code",
   "execution_count": 3,
   "id": "11c37677",
   "metadata": {
    "execution": {
     "iopub.execute_input": "2023-02-26T14:55:08.444645Z",
     "iopub.status.busy": "2023-02-26T14:55:08.444286Z",
     "iopub.status.idle": "2023-02-26T14:55:08.459262Z",
     "shell.execute_reply": "2023-02-26T14:55:08.458346Z"
    }
   },
   "outputs": [
    {
     "data": {
      "text/plain": [
       "<FastTreeValue 0x7f9684660be0>\n",
       "├── 'a' --> tensor([[ 1.3906, -0.7060,  1.5600],\n",
       "│                   [ 1.3181, -1.0069, -1.0808]])\n",
       "└── 'x' --> <FastTreeValue 0x7f9684660bb0>\n",
       "    └── 'c' --> tensor([[ 1.4424,  0.4607, -0.8687, -0.1770],\n",
       "                        [ 0.4459,  0.4218,  0.1039,  0.3253],\n",
       "                        [-0.4717, -0.0106, -1.9308,  0.3745]])"
      ]
     },
     "execution_count": 3,
     "metadata": {},
     "output_type": "execute_result"
    }
   ],
   "source": [
    "t"
   ]
  },
  {
   "cell_type": "code",
   "execution_count": 4,
   "id": "fd70b0b9",
   "metadata": {
    "execution": {
     "iopub.execute_input": "2023-02-26T14:55:08.462884Z",
     "iopub.status.busy": "2023-02-26T14:55:08.462285Z",
     "iopub.status.idle": "2023-02-26T14:55:08.469826Z",
     "shell.execute_reply": "2023-02-26T14:55:08.468943Z"
    }
   },
   "outputs": [
    {
     "data": {
      "text/plain": [
       "tensor([[ 1.3906, -0.7060,  1.5600],\n",
       "        [ 1.3181, -1.0069, -1.0808]])"
      ]
     },
     "execution_count": 4,
     "metadata": {},
     "output_type": "execute_result"
    }
   ],
   "source": [
    "t.a"
   ]
  },
  {
   "cell_type": "code",
   "execution_count": 5,
   "id": "c18197bd",
   "metadata": {
    "execution": {
     "iopub.execute_input": "2023-02-26T14:55:08.473514Z",
     "iopub.status.busy": "2023-02-26T14:55:08.472975Z",
     "iopub.status.idle": "2023-02-26T14:55:13.781560Z",
     "shell.execute_reply": "2023-02-26T14:55:13.780617Z"
    }
   },
   "outputs": [
    {
     "name": "stdout",
     "output_type": "stream",
     "text": [
      "65.3 ns ± 1.05 ns per loop (mean ± std. dev. of 7 runs, 10,000,000 loops each)\n"
     ]
    }
   ],
   "source": [
    "%timeit t.a"
   ]
  },
  {
   "cell_type": "code",
   "execution_count": 6,
   "id": "bd52f867",
   "metadata": {
    "execution": {
     "iopub.execute_input": "2023-02-26T14:55:13.785052Z",
     "iopub.status.busy": "2023-02-26T14:55:13.784359Z",
     "iopub.status.idle": "2023-02-26T14:55:13.794187Z",
     "shell.execute_reply": "2023-02-26T14:55:13.793298Z"
    }
   },
   "outputs": [
    {
     "data": {
      "text/plain": [
       "<FastTreeValue 0x7f9684660be0>\n",
       "├── 'a' --> tensor([[-0.9602,  0.1450,  2.1498],\n",
       "│                   [-0.5997,  0.8573,  0.7193]])\n",
       "└── 'x' --> <FastTreeValue 0x7f9684660bb0>\n",
       "    └── 'c' --> tensor([[ 1.4424,  0.4607, -0.8687, -0.1770],\n",
       "                        [ 0.4459,  0.4218,  0.1039,  0.3253],\n",
       "                        [-0.4717, -0.0106, -1.9308,  0.3745]])"
      ]
     },
     "execution_count": 6,
     "metadata": {},
     "output_type": "execute_result"
    }
   ],
   "source": [
    "new_value = torch.randn(2, 3)\n",
    "t.a = new_value\n",
    "\n",
    "t"
   ]
  },
  {
   "cell_type": "code",
   "execution_count": 7,
   "id": "bbe04d1c",
   "metadata": {
    "execution": {
     "iopub.execute_input": "2023-02-26T14:55:13.797668Z",
     "iopub.status.busy": "2023-02-26T14:55:13.797219Z",
     "iopub.status.idle": "2023-02-26T14:55:19.520069Z",
     "shell.execute_reply": "2023-02-26T14:55:19.519105Z"
    }
   },
   "outputs": [
    {
     "name": "stdout",
     "output_type": "stream",
     "text": [
      "70.7 ns ± 1.67 ns per loop (mean ± std. dev. of 7 runs, 10,000,000 loops each)\n"
     ]
    }
   ],
   "source": [
    "%timeit t.a = new_value"
   ]
  },
  {
   "cell_type": "markdown",
   "id": "48c49731",
   "metadata": {},
   "source": [
    "### Tianshou Batch's Get and Set"
   ]
  },
  {
   "cell_type": "code",
   "execution_count": 8,
   "id": "f1bb14c1",
   "metadata": {
    "execution": {
     "iopub.execute_input": "2023-02-26T14:55:19.523668Z",
     "iopub.status.busy": "2023-02-26T14:55:19.523142Z",
     "iopub.status.idle": "2023-02-26T14:55:19.933044Z",
     "shell.execute_reply": "2023-02-26T14:55:19.931978Z"
    }
   },
   "outputs": [],
   "source": [
    "from tianshou.data import Batch\n",
    "\n",
    "b = Batch(**_TREE_DATA_2)"
   ]
  },
  {
   "cell_type": "code",
   "execution_count": 9,
   "id": "cb0777c3",
   "metadata": {
    "execution": {
     "iopub.execute_input": "2023-02-26T14:55:19.936804Z",
     "iopub.status.busy": "2023-02-26T14:55:19.936452Z",
     "iopub.status.idle": "2023-02-26T14:55:19.945509Z",
     "shell.execute_reply": "2023-02-26T14:55:19.944635Z"
    }
   },
   "outputs": [
    {
     "data": {
      "text/plain": [
       "Batch(\n",
       "    a: tensor([[ 1.3906, -0.7060,  1.5600],\n",
       "               [ 1.3181, -1.0069, -1.0808]]),\n",
       "    x: Batch(\n",
       "           c: tensor([[ 1.4424,  0.4607, -0.8687, -0.1770],\n",
       "                      [ 0.4459,  0.4218,  0.1039,  0.3253],\n",
       "                      [-0.4717, -0.0106, -1.9308,  0.3745]]),\n",
       "       ),\n",
       ")"
      ]
     },
     "execution_count": 9,
     "metadata": {},
     "output_type": "execute_result"
    }
   ],
   "source": [
    "b"
   ]
  },
  {
   "cell_type": "code",
   "execution_count": 10,
   "id": "43ef8ea3",
   "metadata": {
    "execution": {
     "iopub.execute_input": "2023-02-26T14:55:19.948690Z",
     "iopub.status.busy": "2023-02-26T14:55:19.948175Z",
     "iopub.status.idle": "2023-02-26T14:55:19.956026Z",
     "shell.execute_reply": "2023-02-26T14:55:19.955220Z"
    }
   },
   "outputs": [
    {
     "data": {
      "text/plain": [
       "tensor([[ 1.3906, -0.7060,  1.5600],\n",
       "        [ 1.3181, -1.0069, -1.0808]])"
      ]
     },
     "execution_count": 10,
     "metadata": {},
     "output_type": "execute_result"
    }
   ],
   "source": [
    "b.a"
   ]
  },
  {
   "cell_type": "code",
   "execution_count": 11,
   "id": "b785ab72",
   "metadata": {
    "execution": {
     "iopub.execute_input": "2023-02-26T14:55:19.959034Z",
     "iopub.status.busy": "2023-02-26T14:55:19.958735Z",
     "iopub.status.idle": "2023-02-26T14:55:24.827462Z",
     "shell.execute_reply": "2023-02-26T14:55:24.826454Z"
    }
   },
   "outputs": [
    {
     "name": "stdout",
     "output_type": "stream",
     "text": [
      "60 ns ± 2 ns per loop (mean ± std. dev. of 7 runs, 10,000,000 loops each)\n"
     ]
    }
   ],
   "source": [
    "%timeit b.a"
   ]
  },
  {
   "cell_type": "code",
   "execution_count": 12,
   "id": "ad54dc69",
   "metadata": {
    "execution": {
     "iopub.execute_input": "2023-02-26T14:55:24.831192Z",
     "iopub.status.busy": "2023-02-26T14:55:24.830513Z",
     "iopub.status.idle": "2023-02-26T14:55:24.838763Z",
     "shell.execute_reply": "2023-02-26T14:55:24.837720Z"
    }
   },
   "outputs": [
    {
     "data": {
      "text/plain": [
       "Batch(\n",
       "    a: tensor([[ 2.6850,  0.6207,  0.0541],\n",
       "               [ 1.6581,  0.7785, -2.1379]]),\n",
       "    x: Batch(\n",
       "           c: tensor([[ 1.4424,  0.4607, -0.8687, -0.1770],\n",
       "                      [ 0.4459,  0.4218,  0.1039,  0.3253],\n",
       "                      [-0.4717, -0.0106, -1.9308,  0.3745]]),\n",
       "       ),\n",
       ")"
      ]
     },
     "execution_count": 12,
     "metadata": {},
     "output_type": "execute_result"
    }
   ],
   "source": [
    "new_value = torch.randn(2, 3)\n",
    "b.a = new_value\n",
    "\n",
    "b"
   ]
  },
  {
   "cell_type": "code",
   "execution_count": 13,
   "id": "29b1d0bf",
   "metadata": {
    "execution": {
     "iopub.execute_input": "2023-02-26T14:55:24.842516Z",
     "iopub.status.busy": "2023-02-26T14:55:24.841900Z",
     "iopub.status.idle": "2023-02-26T14:55:29.552236Z",
     "shell.execute_reply": "2023-02-26T14:55:29.551233Z"
    }
   },
   "outputs": [
    {
     "name": "stdout",
     "output_type": "stream",
     "text": [
      "581 ns ± 9.83 ns per loop (mean ± std. dev. of 7 runs, 1,000,000 loops each)\n"
     ]
    }
   ],
   "source": [
    "%timeit b.a = new_value"
   ]
  },
  {
   "cell_type": "markdown",
   "id": "b61ad1d0",
   "metadata": {},
   "source": [
    "## Initialization"
   ]
  },
  {
   "cell_type": "markdown",
   "id": "d70f0d54",
   "metadata": {},
   "source": [
    "### TreeValue's Initialization"
   ]
  },
  {
   "cell_type": "code",
   "execution_count": 14,
   "id": "d32a679b",
   "metadata": {
    "execution": {
     "iopub.execute_input": "2023-02-26T14:55:29.555695Z",
     "iopub.status.busy": "2023-02-26T14:55:29.555267Z",
     "iopub.status.idle": "2023-02-26T14:55:37.113297Z",
     "shell.execute_reply": "2023-02-26T14:55:37.112333Z"
    }
   },
   "outputs": [
    {
     "name": "stdout",
     "output_type": "stream",
     "text": [
      "922 ns ± 8.29 ns per loop (mean ± std. dev. of 7 runs, 1,000,000 loops each)\n"
     ]
    }
   ],
   "source": [
    "%timeit FastTreeValue(_TREE_DATA_1)"
   ]
  },
  {
   "cell_type": "markdown",
   "id": "24f3707b",
   "metadata": {},
   "source": [
    "### Tianshou Batch's Initialization"
   ]
  },
  {
   "cell_type": "code",
   "execution_count": 15,
   "id": "ac3958df",
   "metadata": {
    "execution": {
     "iopub.execute_input": "2023-02-26T14:55:37.116457Z",
     "iopub.status.busy": "2023-02-26T14:55:37.116138Z",
     "iopub.status.idle": "2023-02-26T14:55:46.756421Z",
     "shell.execute_reply": "2023-02-26T14:55:46.755446Z"
    }
   },
   "outputs": [
    {
     "name": "stdout",
     "output_type": "stream",
     "text": [
      "11.9 µs ± 120 ns per loop (mean ± std. dev. of 7 runs, 100,000 loops each)\n"
     ]
    }
   ],
   "source": [
    "%timeit Batch(**_TREE_DATA_1)"
   ]
  },
  {
   "cell_type": "markdown",
   "id": "1ab82e2d",
   "metadata": {},
   "source": [
    "## Deep Copy Operation"
   ]
  },
  {
   "cell_type": "code",
   "execution_count": 16,
   "id": "210a9442",
   "metadata": {
    "execution": {
     "iopub.execute_input": "2023-02-26T14:55:46.759909Z",
     "iopub.status.busy": "2023-02-26T14:55:46.759466Z",
     "iopub.status.idle": "2023-02-26T14:55:46.764587Z",
     "shell.execute_reply": "2023-02-26T14:55:46.763555Z"
    }
   },
   "outputs": [],
   "source": [
    "import copy"
   ]
  },
  {
   "cell_type": "markdown",
   "id": "5a736274",
   "metadata": {},
   "source": [
    "### Deep Copy of TreeValue"
   ]
  },
  {
   "cell_type": "code",
   "execution_count": 17,
   "id": "f9bcadd6",
   "metadata": {
    "execution": {
     "iopub.execute_input": "2023-02-26T14:55:46.767986Z",
     "iopub.status.busy": "2023-02-26T14:55:46.767448Z",
     "iopub.status.idle": "2023-02-26T14:55:49.044919Z",
     "shell.execute_reply": "2023-02-26T14:55:49.043892Z"
    }
   },
   "outputs": [
    {
     "name": "stdout",
     "output_type": "stream",
     "text": [
      "281 µs ± 8.56 µs per loop (mean ± std. dev. of 7 runs, 1,000 loops each)\n"
     ]
    }
   ],
   "source": [
    "t3 = FastTreeValue(_TREE_DATA_3)\n",
    "%timeit copy.deepcopy(t3)"
   ]
  },
  {
   "cell_type": "markdown",
   "id": "bf8be7ea",
   "metadata": {},
   "source": [
    "### Deep Copy of Tianshou Batch"
   ]
  },
  {
   "cell_type": "code",
   "execution_count": 18,
   "id": "91998e6f",
   "metadata": {
    "execution": {
     "iopub.execute_input": "2023-02-26T14:55:49.048583Z",
     "iopub.status.busy": "2023-02-26T14:55:49.048289Z",
     "iopub.status.idle": "2023-02-26T14:55:51.083678Z",
     "shell.execute_reply": "2023-02-26T14:55:51.082854Z"
    }
   },
   "outputs": [
    {
     "name": "stdout",
     "output_type": "stream",
     "text": [
      "250 µs ± 7.68 µs per loop (mean ± std. dev. of 7 runs, 1,000 loops each)\n"
     ]
    }
   ],
   "source": [
    "b3 = Batch(**_TREE_DATA_3)\n",
    "%timeit copy.deepcopy(b3)"
   ]
  },
  {
   "cell_type": "markdown",
   "id": "223162fb",
   "metadata": {},
   "source": [
    "## Stack, Concat and Split Operation"
   ]
  },
  {
   "cell_type": "markdown",
   "id": "85fa4a73",
   "metadata": {},
   "source": [
    "### Performance of TreeValue"
   ]
  },
  {
   "cell_type": "code",
   "execution_count": 19,
   "id": "a0c2b697",
   "metadata": {
    "execution": {
     "iopub.execute_input": "2023-02-26T14:55:51.087260Z",
     "iopub.status.busy": "2023-02-26T14:55:51.086510Z",
     "iopub.status.idle": "2023-02-26T14:55:51.090882Z",
     "shell.execute_reply": "2023-02-26T14:55:51.089943Z"
    }
   },
   "outputs": [],
   "source": [
    "trees = [FastTreeValue(_TREE_DATA_2) for _ in range(8)]"
   ]
  },
  {
   "cell_type": "code",
   "execution_count": 20,
   "id": "017ea5a5",
   "metadata": {
    "execution": {
     "iopub.execute_input": "2023-02-26T14:55:51.094036Z",
     "iopub.status.busy": "2023-02-26T14:55:51.093312Z",
     "iopub.status.idle": "2023-02-26T14:55:51.102177Z",
     "shell.execute_reply": "2023-02-26T14:55:51.101404Z"
    }
   },
   "outputs": [
    {
     "data": {
      "text/plain": [
       "<FastTreeValue 0x7f95ce965df0>\n",
       "├── 'a' --> tensor([[[ 1.3906, -0.7060,  1.5600],\n",
       "│                    [ 1.3181, -1.0069, -1.0808]],\n",
       "│           \n",
       "│                   [[ 1.3906, -0.7060,  1.5600],\n",
       "│                    [ 1.3181, -1.0069, -1.0808]],\n",
       "│           \n",
       "│                   [[ 1.3906, -0.7060,  1.5600],\n",
       "│                    [ 1.3181, -1.0069, -1.0808]],\n",
       "│           \n",
       "│                   [[ 1.3906, -0.7060,  1.5600],\n",
       "│                    [ 1.3181, -1.0069, -1.0808]],\n",
       "│           \n",
       "│                   [[ 1.3906, -0.7060,  1.5600],\n",
       "│                    [ 1.3181, -1.0069, -1.0808]],\n",
       "│           \n",
       "│                   [[ 1.3906, -0.7060,  1.5600],\n",
       "│                    [ 1.3181, -1.0069, -1.0808]],\n",
       "│           \n",
       "│                   [[ 1.3906, -0.7060,  1.5600],\n",
       "│                    [ 1.3181, -1.0069, -1.0808]],\n",
       "│           \n",
       "│                   [[ 1.3906, -0.7060,  1.5600],\n",
       "│                    [ 1.3181, -1.0069, -1.0808]]])\n",
       "└── 'x' --> <FastTreeValue 0x7f95ce965af0>\n",
       "    └── 'c' --> tensor([[[ 1.4424,  0.4607, -0.8687, -0.1770],\n",
       "                         [ 0.4459,  0.4218,  0.1039,  0.3253],\n",
       "                         [-0.4717, -0.0106, -1.9308,  0.3745]],\n",
       "                \n",
       "                        [[ 1.4424,  0.4607, -0.8687, -0.1770],\n",
       "                         [ 0.4459,  0.4218,  0.1039,  0.3253],\n",
       "                         [-0.4717, -0.0106, -1.9308,  0.3745]],\n",
       "                \n",
       "                        [[ 1.4424,  0.4607, -0.8687, -0.1770],\n",
       "                         [ 0.4459,  0.4218,  0.1039,  0.3253],\n",
       "                         [-0.4717, -0.0106, -1.9308,  0.3745]],\n",
       "                \n",
       "                        [[ 1.4424,  0.4607, -0.8687, -0.1770],\n",
       "                         [ 0.4459,  0.4218,  0.1039,  0.3253],\n",
       "                         [-0.4717, -0.0106, -1.9308,  0.3745]],\n",
       "                \n",
       "                        [[ 1.4424,  0.4607, -0.8687, -0.1770],\n",
       "                         [ 0.4459,  0.4218,  0.1039,  0.3253],\n",
       "                         [-0.4717, -0.0106, -1.9308,  0.3745]],\n",
       "                \n",
       "                        [[ 1.4424,  0.4607, -0.8687, -0.1770],\n",
       "                         [ 0.4459,  0.4218,  0.1039,  0.3253],\n",
       "                         [-0.4717, -0.0106, -1.9308,  0.3745]],\n",
       "                \n",
       "                        [[ 1.4424,  0.4607, -0.8687, -0.1770],\n",
       "                         [ 0.4459,  0.4218,  0.1039,  0.3253],\n",
       "                         [-0.4717, -0.0106, -1.9308,  0.3745]],\n",
       "                \n",
       "                        [[ 1.4424,  0.4607, -0.8687, -0.1770],\n",
       "                         [ 0.4459,  0.4218,  0.1039,  0.3253],\n",
       "                         [-0.4717, -0.0106, -1.9308,  0.3745]]])"
      ]
     },
     "execution_count": 20,
     "metadata": {},
     "output_type": "execute_result"
    }
   ],
   "source": [
    "t_stack = FastTreeValue.func(subside=True)(torch.stack)\n",
    "\n",
    "t_stack(trees)"
   ]
  },
  {
   "cell_type": "code",
   "execution_count": 21,
   "id": "f8b3f415",
   "metadata": {
    "execution": {
     "iopub.execute_input": "2023-02-26T14:55:51.105767Z",
     "iopub.status.busy": "2023-02-26T14:55:51.105275Z",
     "iopub.status.idle": "2023-02-26T14:55:54.628829Z",
     "shell.execute_reply": "2023-02-26T14:55:54.627742Z"
    }
   },
   "outputs": [
    {
     "name": "stdout",
     "output_type": "stream",
     "text": [
      "43.5 µs ± 662 ns per loop (mean ± std. dev. of 7 runs, 10,000 loops each)\n"
     ]
    }
   ],
   "source": [
    "%timeit t_stack(trees)"
   ]
  },
  {
   "cell_type": "code",
   "execution_count": 22,
   "id": "94b56771",
   "metadata": {
    "execution": {
     "iopub.execute_input": "2023-02-26T14:55:54.632270Z",
     "iopub.status.busy": "2023-02-26T14:55:54.631970Z",
     "iopub.status.idle": "2023-02-26T14:55:54.641560Z",
     "shell.execute_reply": "2023-02-26T14:55:54.640787Z"
    }
   },
   "outputs": [
    {
     "data": {
      "text/plain": [
       "<FastTreeValue 0x7f95d5558f10>\n",
       "├── 'a' --> tensor([[ 1.3906, -0.7060,  1.5600],\n",
       "│                   [ 1.3181, -1.0069, -1.0808],\n",
       "│                   [ 1.3906, -0.7060,  1.5600],\n",
       "│                   [ 1.3181, -1.0069, -1.0808],\n",
       "│                   [ 1.3906, -0.7060,  1.5600],\n",
       "│                   [ 1.3181, -1.0069, -1.0808],\n",
       "│                   [ 1.3906, -0.7060,  1.5600],\n",
       "│                   [ 1.3181, -1.0069, -1.0808],\n",
       "│                   [ 1.3906, -0.7060,  1.5600],\n",
       "│                   [ 1.3181, -1.0069, -1.0808],\n",
       "│                   [ 1.3906, -0.7060,  1.5600],\n",
       "│                   [ 1.3181, -1.0069, -1.0808],\n",
       "│                   [ 1.3906, -0.7060,  1.5600],\n",
       "│                   [ 1.3181, -1.0069, -1.0808],\n",
       "│                   [ 1.3906, -0.7060,  1.5600],\n",
       "│                   [ 1.3181, -1.0069, -1.0808]])\n",
       "└── 'x' --> <FastTreeValue 0x7f95cd90df40>\n",
       "    └── 'c' --> tensor([[ 1.4424,  0.4607, -0.8687, -0.1770],\n",
       "                        [ 0.4459,  0.4218,  0.1039,  0.3253],\n",
       "                        [-0.4717, -0.0106, -1.9308,  0.3745],\n",
       "                        [ 1.4424,  0.4607, -0.8687, -0.1770],\n",
       "                        [ 0.4459,  0.4218,  0.1039,  0.3253],\n",
       "                        [-0.4717, -0.0106, -1.9308,  0.3745],\n",
       "                        [ 1.4424,  0.4607, -0.8687, -0.1770],\n",
       "                        [ 0.4459,  0.4218,  0.1039,  0.3253],\n",
       "                        [-0.4717, -0.0106, -1.9308,  0.3745],\n",
       "                        [ 1.4424,  0.4607, -0.8687, -0.1770],\n",
       "                        [ 0.4459,  0.4218,  0.1039,  0.3253],\n",
       "                        [-0.4717, -0.0106, -1.9308,  0.3745],\n",
       "                        [ 1.4424,  0.4607, -0.8687, -0.1770],\n",
       "                        [ 0.4459,  0.4218,  0.1039,  0.3253],\n",
       "                        [-0.4717, -0.0106, -1.9308,  0.3745],\n",
       "                        [ 1.4424,  0.4607, -0.8687, -0.1770],\n",
       "                        [ 0.4459,  0.4218,  0.1039,  0.3253],\n",
       "                        [-0.4717, -0.0106, -1.9308,  0.3745],\n",
       "                        [ 1.4424,  0.4607, -0.8687, -0.1770],\n",
       "                        [ 0.4459,  0.4218,  0.1039,  0.3253],\n",
       "                        [-0.4717, -0.0106, -1.9308,  0.3745],\n",
       "                        [ 1.4424,  0.4607, -0.8687, -0.1770],\n",
       "                        [ 0.4459,  0.4218,  0.1039,  0.3253],\n",
       "                        [-0.4717, -0.0106, -1.9308,  0.3745]])"
      ]
     },
     "execution_count": 22,
     "metadata": {},
     "output_type": "execute_result"
    }
   ],
   "source": [
    "t_cat = FastTreeValue.func(subside=True)(torch.cat)\n",
    "\n",
    "t_cat(trees)"
   ]
  },
  {
   "cell_type": "code",
   "execution_count": 23,
   "id": "5e9c06a6",
   "metadata": {
    "execution": {
     "iopub.execute_input": "2023-02-26T14:55:54.644798Z",
     "iopub.status.busy": "2023-02-26T14:55:54.644317Z",
     "iopub.status.idle": "2023-02-26T14:55:57.959122Z",
     "shell.execute_reply": "2023-02-26T14:55:57.958193Z"
    }
   },
   "outputs": [
    {
     "name": "stdout",
     "output_type": "stream",
     "text": [
      "40.8 µs ± 420 ns per loop (mean ± std. dev. of 7 runs, 10,000 loops each)\n"
     ]
    }
   ],
   "source": [
    "%timeit t_cat(trees)"
   ]
  },
  {
   "cell_type": "code",
   "execution_count": 24,
   "id": "a3ab5c8f",
   "metadata": {
    "execution": {
     "iopub.execute_input": "2023-02-26T14:55:57.962822Z",
     "iopub.status.busy": "2023-02-26T14:55:57.962239Z",
     "iopub.status.idle": "2023-02-26T14:56:03.909360Z",
     "shell.execute_reply": "2023-02-26T14:56:03.908378Z"
    }
   },
   "outputs": [
    {
     "name": "stdout",
     "output_type": "stream",
     "text": [
      "72.8 µs ± 750 ns per loop (mean ± std. dev. of 7 runs, 10,000 loops each)\n"
     ]
    }
   ],
   "source": [
    "t_split = FastTreeValue.func(rise=True)(torch.split)\n",
    "tree = FastTreeValue({\n",
    "    'obs': torch.randn(8, 4, 84, 84),\n",
    "    'action': torch.randint(0, 6, size=(8, 1,)),\n",
    "    'reward': torch.rand(8, 1),\n",
    "})\n",
    "\n",
    "%timeit t_split(tree, 1)"
   ]
  },
  {
   "cell_type": "markdown",
   "id": "31c3ec0b",
   "metadata": {},
   "source": [
    "### Performance of Tianshou Batch"
   ]
  },
  {
   "cell_type": "code",
   "execution_count": 25,
   "id": "9ead828a",
   "metadata": {
    "execution": {
     "iopub.execute_input": "2023-02-26T14:56:03.912847Z",
     "iopub.status.busy": "2023-02-26T14:56:03.912178Z",
     "iopub.status.idle": "2023-02-26T14:56:03.922022Z",
     "shell.execute_reply": "2023-02-26T14:56:03.921087Z"
    }
   },
   "outputs": [
    {
     "data": {
      "text/plain": [
       "Batch(\n",
       "    a: tensor([[[ 1.3906, -0.7060,  1.5600],\n",
       "                [ 1.3181, -1.0069, -1.0808]],\n",
       "       \n",
       "               [[ 1.3906, -0.7060,  1.5600],\n",
       "                [ 1.3181, -1.0069, -1.0808]],\n",
       "       \n",
       "               [[ 1.3906, -0.7060,  1.5600],\n",
       "                [ 1.3181, -1.0069, -1.0808]],\n",
       "       \n",
       "               [[ 1.3906, -0.7060,  1.5600],\n",
       "                [ 1.3181, -1.0069, -1.0808]],\n",
       "       \n",
       "               [[ 1.3906, -0.7060,  1.5600],\n",
       "                [ 1.3181, -1.0069, -1.0808]],\n",
       "       \n",
       "               [[ 1.3906, -0.7060,  1.5600],\n",
       "                [ 1.3181, -1.0069, -1.0808]],\n",
       "       \n",
       "               [[ 1.3906, -0.7060,  1.5600],\n",
       "                [ 1.3181, -1.0069, -1.0808]],\n",
       "       \n",
       "               [[ 1.3906, -0.7060,  1.5600],\n",
       "                [ 1.3181, -1.0069, -1.0808]]]),\n",
       "    x: Batch(\n",
       "           c: tensor([[[ 1.4424,  0.4607, -0.8687, -0.1770],\n",
       "                       [ 0.4459,  0.4218,  0.1039,  0.3253],\n",
       "                       [-0.4717, -0.0106, -1.9308,  0.3745]],\n",
       "              \n",
       "                      [[ 1.4424,  0.4607, -0.8687, -0.1770],\n",
       "                       [ 0.4459,  0.4218,  0.1039,  0.3253],\n",
       "                       [-0.4717, -0.0106, -1.9308,  0.3745]],\n",
       "              \n",
       "                      [[ 1.4424,  0.4607, -0.8687, -0.1770],\n",
       "                       [ 0.4459,  0.4218,  0.1039,  0.3253],\n",
       "                       [-0.4717, -0.0106, -1.9308,  0.3745]],\n",
       "              \n",
       "                      [[ 1.4424,  0.4607, -0.8687, -0.1770],\n",
       "                       [ 0.4459,  0.4218,  0.1039,  0.3253],\n",
       "                       [-0.4717, -0.0106, -1.9308,  0.3745]],\n",
       "              \n",
       "                      [[ 1.4424,  0.4607, -0.8687, -0.1770],\n",
       "                       [ 0.4459,  0.4218,  0.1039,  0.3253],\n",
       "                       [-0.4717, -0.0106, -1.9308,  0.3745]],\n",
       "              \n",
       "                      [[ 1.4424,  0.4607, -0.8687, -0.1770],\n",
       "                       [ 0.4459,  0.4218,  0.1039,  0.3253],\n",
       "                       [-0.4717, -0.0106, -1.9308,  0.3745]],\n",
       "              \n",
       "                      [[ 1.4424,  0.4607, -0.8687, -0.1770],\n",
       "                       [ 0.4459,  0.4218,  0.1039,  0.3253],\n",
       "                       [-0.4717, -0.0106, -1.9308,  0.3745]],\n",
       "              \n",
       "                      [[ 1.4424,  0.4607, -0.8687, -0.1770],\n",
       "                       [ 0.4459,  0.4218,  0.1039,  0.3253],\n",
       "                       [-0.4717, -0.0106, -1.9308,  0.3745]]]),\n",
       "       ),\n",
       ")"
      ]
     },
     "execution_count": 25,
     "metadata": {},
     "output_type": "execute_result"
    }
   ],
   "source": [
    "batches = [Batch(**_TREE_DATA_2) for _ in range(8)]\n",
    "\n",
    "Batch.stack(batches)"
   ]
  },
  {
   "cell_type": "code",
   "execution_count": 26,
   "id": "ec9037a3",
   "metadata": {
    "execution": {
     "iopub.execute_input": "2023-02-26T14:56:03.925075Z",
     "iopub.status.busy": "2023-02-26T14:56:03.924830Z",
     "iopub.status.idle": "2023-02-26T14:56:11.631807Z",
     "shell.execute_reply": "2023-02-26T14:56:11.630658Z"
    }
   },
   "outputs": [
    {
     "name": "stdout",
     "output_type": "stream",
     "text": [
      "95.1 µs ± 1.56 µs per loop (mean ± std. dev. of 7 runs, 10,000 loops each)\n"
     ]
    }
   ],
   "source": [
    "%timeit Batch.stack(batches)"
   ]
  },
  {
   "cell_type": "code",
   "execution_count": 27,
   "id": "cb8ab77e",
   "metadata": {
    "execution": {
     "iopub.execute_input": "2023-02-26T14:56:11.635301Z",
     "iopub.status.busy": "2023-02-26T14:56:11.634591Z",
     "iopub.status.idle": "2023-02-26T14:56:11.644215Z",
     "shell.execute_reply": "2023-02-26T14:56:11.643389Z"
    }
   },
   "outputs": [
    {
     "data": {
      "text/plain": [
       "Batch(\n",
       "    a: tensor([[ 1.3906, -0.7060,  1.5600],\n",
       "               [ 1.3181, -1.0069, -1.0808],\n",
       "               [ 1.3906, -0.7060,  1.5600],\n",
       "               [ 1.3181, -1.0069, -1.0808],\n",
       "               [ 1.3906, -0.7060,  1.5600],\n",
       "               [ 1.3181, -1.0069, -1.0808],\n",
       "               [ 1.3906, -0.7060,  1.5600],\n",
       "               [ 1.3181, -1.0069, -1.0808],\n",
       "               [ 1.3906, -0.7060,  1.5600],\n",
       "               [ 1.3181, -1.0069, -1.0808],\n",
       "               [ 1.3906, -0.7060,  1.5600],\n",
       "               [ 1.3181, -1.0069, -1.0808],\n",
       "               [ 1.3906, -0.7060,  1.5600],\n",
       "               [ 1.3181, -1.0069, -1.0808],\n",
       "               [ 1.3906, -0.7060,  1.5600],\n",
       "               [ 1.3181, -1.0069, -1.0808]]),\n",
       "    x: Batch(\n",
       "           c: tensor([[ 1.4424,  0.4607, -0.8687, -0.1770],\n",
       "                      [ 0.4459,  0.4218,  0.1039,  0.3253],\n",
       "                      [-0.4717, -0.0106, -1.9308,  0.3745],\n",
       "                      [ 1.4424,  0.4607, -0.8687, -0.1770],\n",
       "                      [ 0.4459,  0.4218,  0.1039,  0.3253],\n",
       "                      [-0.4717, -0.0106, -1.9308,  0.3745],\n",
       "                      [ 1.4424,  0.4607, -0.8687, -0.1770],\n",
       "                      [ 0.4459,  0.4218,  0.1039,  0.3253],\n",
       "                      [-0.4717, -0.0106, -1.9308,  0.3745],\n",
       "                      [ 1.4424,  0.4607, -0.8687, -0.1770],\n",
       "                      [ 0.4459,  0.4218,  0.1039,  0.3253],\n",
       "                      [-0.4717, -0.0106, -1.9308,  0.3745],\n",
       "                      [ 1.4424,  0.4607, -0.8687, -0.1770],\n",
       "                      [ 0.4459,  0.4218,  0.1039,  0.3253],\n",
       "                      [-0.4717, -0.0106, -1.9308,  0.3745],\n",
       "                      [ 1.4424,  0.4607, -0.8687, -0.1770],\n",
       "                      [ 0.4459,  0.4218,  0.1039,  0.3253],\n",
       "                      [-0.4717, -0.0106, -1.9308,  0.3745],\n",
       "                      [ 1.4424,  0.4607, -0.8687, -0.1770],\n",
       "                      [ 0.4459,  0.4218,  0.1039,  0.3253],\n",
       "                      [-0.4717, -0.0106, -1.9308,  0.3745],\n",
       "                      [ 1.4424,  0.4607, -0.8687, -0.1770],\n",
       "                      [ 0.4459,  0.4218,  0.1039,  0.3253],\n",
       "                      [-0.4717, -0.0106, -1.9308,  0.3745]]),\n",
       "       ),\n",
       ")"
      ]
     },
     "execution_count": 27,
     "metadata": {},
     "output_type": "execute_result"
    }
   ],
   "source": [
    "Batch.cat(batches)"
   ]
  },
  {
   "cell_type": "code",
   "execution_count": 28,
   "id": "18dfb045",
   "metadata": {
    "execution": {
     "iopub.execute_input": "2023-02-26T14:56:11.647556Z",
     "iopub.status.busy": "2023-02-26T14:56:11.647090Z",
     "iopub.status.idle": "2023-02-26T14:56:25.837221Z",
     "shell.execute_reply": "2023-02-26T14:56:25.836247Z"
    }
   },
   "outputs": [
    {
     "name": "stdout",
     "output_type": "stream",
     "text": [
      "176 µs ± 4.25 µs per loop (mean ± std. dev. of 7 runs, 10,000 loops each)\n"
     ]
    }
   ],
   "source": [
    "%timeit Batch.cat(batches)"
   ]
  },
  {
   "cell_type": "code",
   "execution_count": 29,
   "id": "c6688e51",
   "metadata": {
    "execution": {
     "iopub.execute_input": "2023-02-26T14:56:25.840602Z",
     "iopub.status.busy": "2023-02-26T14:56:25.840133Z",
     "iopub.status.idle": "2023-02-26T14:56:30.415736Z",
     "shell.execute_reply": "2023-02-26T14:56:30.414580Z"
    }
   },
   "outputs": [
    {
     "name": "stdout",
     "output_type": "stream",
     "text": [
      "561 µs ± 13.9 µs per loop (mean ± std. dev. of 7 runs, 1,000 loops each)\n"
     ]
    }
   ],
   "source": [
    "batch = Batch({\n",
    "    'obs': torch.randn(8, 4, 84, 84),\n",
    "    'action': torch.randint(0, 6, size=(8, 1,)),\n",
    "    'reward': torch.rand(8, 1)}\n",
    ")\n",
    "\n",
    "%timeit list(Batch.split(batch, 1, shuffle=False, merge_last=True))"
   ]
  },
  {
   "cell_type": "code",
   "execution_count": null,
   "id": "2539fbd9",
   "metadata": {},
   "outputs": [],
   "source": []
  }
 ],
 "metadata": {
  "kernelspec": {
   "display_name": "Python 3 (ipykernel)",
   "language": "python",
   "name": "python3"
  },
  "language_info": {
   "codemirror_mode": {
    "name": "ipython",
    "version": 3
   },
   "file_extension": ".py",
   "mimetype": "text/x-python",
   "name": "python",
   "nbconvert_exporter": "python",
   "pygments_lexer": "ipython3",
   "version": "3.8.16"
  }
 },
 "nbformat": 4,
 "nbformat_minor": 5
}
