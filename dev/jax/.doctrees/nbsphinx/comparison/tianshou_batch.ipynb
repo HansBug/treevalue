{
 "cells": [
  {
   "cell_type": "markdown",
   "id": "9d39d946",
   "metadata": {},
   "source": [
    "# Comparison Between TreeValue and Tianshou Batch"
   ]
  },
  {
   "cell_type": "markdown",
   "id": "3c6db2d4",
   "metadata": {},
   "source": [
    "In this section, we will take a look at the feature and performance of the [Tianshou Batch](https://github.com/thu-ml/tianshou) library, which is developed by Tsinghua Machine Learning Group."
   ]
  },
  {
   "cell_type": "markdown",
   "id": "069361b0",
   "metadata": {},
   "source": [
    "Before starting the comparison, let us define some thing."
   ]
  },
  {
   "cell_type": "code",
   "execution_count": 1,
   "id": "06fc8d26",
   "metadata": {
    "execution": {
     "iopub.execute_input": "2023-02-26T15:06:28.430818Z",
     "iopub.status.busy": "2023-02-26T15:06:28.429506Z",
     "iopub.status.idle": "2023-02-26T15:06:29.618352Z",
     "shell.execute_reply": "2023-02-26T15:06:29.617332Z"
    }
   },
   "outputs": [
    {
     "name": "stderr",
     "output_type": "stream",
     "text": [
      "/opt/hostedtoolcache/Python/3.8.16/x64/lib/python3.8/site-packages/tqdm/auto.py:22: TqdmWarning: IProgress not found. Please update jupyter and ipywidgets. See https://ipywidgets.readthedocs.io/en/stable/user_install.html\n",
      "  from .autonotebook import tqdm as notebook_tqdm\n"
     ]
    }
   ],
   "source": [
    "import torch \n",
    "\n",
    "_TREE_DATA_1 = {'a': 1, 'b': 2, 'x': {'c': 3, 'd': 4}}\n",
    "_TREE_DATA_2 = {\n",
    "    'a': torch.randn(2, 3), \n",
    "    'x': {\n",
    "        'c': torch.randn(3, 4)\n",
    "    },\n",
    "}\n",
    "_TREE_DATA_3 = {\n",
    "    'obs': torch.randn(4, 84, 84),\n",
    "    'action': torch.randint(0, 6, size=(1,)),\n",
    "    'reward': torch.rand(1),\n",
    "}"
   ]
  },
  {
   "cell_type": "markdown",
   "id": "83461b25",
   "metadata": {},
   "source": [
    "## Read and Write Operation"
   ]
  },
  {
   "cell_type": "markdown",
   "id": "067b3f73",
   "metadata": {},
   "source": [
    "Reading and writing are the two most common operations in the tree data structure based on the data model (TreeValue and Tianshou Batch both belong to this type), so this section will compare the reading and writing performance of these two libraries."
   ]
  },
  {
   "cell_type": "markdown",
   "id": "5d09a5b7",
   "metadata": {},
   "source": [
    "### TreeValue's Get and Set"
   ]
  },
  {
   "cell_type": "code",
   "execution_count": 2,
   "id": "9519c4bb",
   "metadata": {
    "execution": {
     "iopub.execute_input": "2023-02-26T15:06:29.622845Z",
     "iopub.status.busy": "2023-02-26T15:06:29.622474Z",
     "iopub.status.idle": "2023-02-26T15:06:29.979007Z",
     "shell.execute_reply": "2023-02-26T15:06:29.978012Z"
    }
   },
   "outputs": [],
   "source": [
    "from treevalue import FastTreeValue\n",
    "\n",
    "t = FastTreeValue(_TREE_DATA_2)"
   ]
  },
  {
   "cell_type": "code",
   "execution_count": 3,
   "id": "11c37677",
   "metadata": {
    "execution": {
     "iopub.execute_input": "2023-02-26T15:06:29.983314Z",
     "iopub.status.busy": "2023-02-26T15:06:29.982966Z",
     "iopub.status.idle": "2023-02-26T15:06:29.995648Z",
     "shell.execute_reply": "2023-02-26T15:06:29.994800Z"
    }
   },
   "outputs": [
    {
     "data": {
      "text/plain": [
       "<FastTreeValue 0x7fc4b0e5bb20>\n",
       "├── 'a' --> tensor([[ 0.4524, -2.3444,  0.9916],\n",
       "│                   [ 0.5875,  1.0119,  0.5265]])\n",
       "└── 'x' --> <FastTreeValue 0x7fc4b0e5b430>\n",
       "    └── 'c' --> tensor([[-1.2668, -1.4606,  0.7595,  0.0697],\n",
       "                        [-0.2882, -1.3151,  1.6360,  0.0947],\n",
       "                        [-0.6882, -0.7341,  0.0189, -0.3057]])"
      ]
     },
     "execution_count": 3,
     "metadata": {},
     "output_type": "execute_result"
    }
   ],
   "source": [
    "t"
   ]
  },
  {
   "cell_type": "code",
   "execution_count": 4,
   "id": "fd70b0b9",
   "metadata": {
    "execution": {
     "iopub.execute_input": "2023-02-26T15:06:29.998994Z",
     "iopub.status.busy": "2023-02-26T15:06:29.998748Z",
     "iopub.status.idle": "2023-02-26T15:06:30.006562Z",
     "shell.execute_reply": "2023-02-26T15:06:30.005660Z"
    }
   },
   "outputs": [
    {
     "data": {
      "text/plain": [
       "tensor([[ 0.4524, -2.3444,  0.9916],\n",
       "        [ 0.5875,  1.0119,  0.5265]])"
      ]
     },
     "execution_count": 4,
     "metadata": {},
     "output_type": "execute_result"
    }
   ],
   "source": [
    "t.a"
   ]
  },
  {
   "cell_type": "code",
   "execution_count": 5,
   "id": "c18197bd",
   "metadata": {
    "execution": {
     "iopub.execute_input": "2023-02-26T15:06:30.009956Z",
     "iopub.status.busy": "2023-02-26T15:06:30.009629Z",
     "iopub.status.idle": "2023-02-26T15:06:36.169050Z",
     "shell.execute_reply": "2023-02-26T15:06:36.168055Z"
    }
   },
   "outputs": [
    {
     "name": "stdout",
     "output_type": "stream",
     "text": [
      "76 ns ± 1.03 ns per loop (mean ± std. dev. of 7 runs, 10,000,000 loops each)\n"
     ]
    }
   ],
   "source": [
    "%timeit t.a"
   ]
  },
  {
   "cell_type": "code",
   "execution_count": 6,
   "id": "bd52f867",
   "metadata": {
    "execution": {
     "iopub.execute_input": "2023-02-26T15:06:36.172718Z",
     "iopub.status.busy": "2023-02-26T15:06:36.172202Z",
     "iopub.status.idle": "2023-02-26T15:06:36.180833Z",
     "shell.execute_reply": "2023-02-26T15:06:36.180021Z"
    }
   },
   "outputs": [
    {
     "data": {
      "text/plain": [
       "<FastTreeValue 0x7fc4b0e5bb20>\n",
       "├── 'a' --> tensor([[-0.5484,  0.8148, -0.9455],\n",
       "│                   [ 0.9709,  0.2113, -0.2732]])\n",
       "└── 'x' --> <FastTreeValue 0x7fc4b0e5b430>\n",
       "    └── 'c' --> tensor([[-1.2668, -1.4606,  0.7595,  0.0697],\n",
       "                        [-0.2882, -1.3151,  1.6360,  0.0947],\n",
       "                        [-0.6882, -0.7341,  0.0189, -0.3057]])"
      ]
     },
     "execution_count": 6,
     "metadata": {},
     "output_type": "execute_result"
    }
   ],
   "source": [
    "new_value = torch.randn(2, 3)\n",
    "t.a = new_value\n",
    "\n",
    "t"
   ]
  },
  {
   "cell_type": "code",
   "execution_count": 7,
   "id": "bbe04d1c",
   "metadata": {
    "execution": {
     "iopub.execute_input": "2023-02-26T15:06:36.184565Z",
     "iopub.status.busy": "2023-02-26T15:06:36.184087Z",
     "iopub.status.idle": "2023-02-26T15:06:42.684629Z",
     "shell.execute_reply": "2023-02-26T15:06:42.683603Z"
    }
   },
   "outputs": [
    {
     "name": "stdout",
     "output_type": "stream",
     "text": [
      "79.9 ns ± 1.25 ns per loop (mean ± std. dev. of 7 runs, 10,000,000 loops each)\n"
     ]
    }
   ],
   "source": [
    "%timeit t.a = new_value"
   ]
  },
  {
   "cell_type": "markdown",
   "id": "48c49731",
   "metadata": {},
   "source": [
    "### Tianshou Batch's Get and Set"
   ]
  },
  {
   "cell_type": "code",
   "execution_count": 8,
   "id": "f1bb14c1",
   "metadata": {
    "execution": {
     "iopub.execute_input": "2023-02-26T15:06:42.688227Z",
     "iopub.status.busy": "2023-02-26T15:06:42.687929Z",
     "iopub.status.idle": "2023-02-26T15:06:43.157894Z",
     "shell.execute_reply": "2023-02-26T15:06:43.156863Z"
    }
   },
   "outputs": [],
   "source": [
    "from tianshou.data import Batch\n",
    "\n",
    "b = Batch(**_TREE_DATA_2)"
   ]
  },
  {
   "cell_type": "code",
   "execution_count": 9,
   "id": "cb0777c3",
   "metadata": {
    "execution": {
     "iopub.execute_input": "2023-02-26T15:06:43.162383Z",
     "iopub.status.busy": "2023-02-26T15:06:43.161816Z",
     "iopub.status.idle": "2023-02-26T15:06:43.171164Z",
     "shell.execute_reply": "2023-02-26T15:06:43.170338Z"
    }
   },
   "outputs": [
    {
     "data": {
      "text/plain": [
       "Batch(\n",
       "    a: tensor([[ 0.4524, -2.3444,  0.9916],\n",
       "               [ 0.5875,  1.0119,  0.5265]]),\n",
       "    x: Batch(\n",
       "           c: tensor([[-1.2668, -1.4606,  0.7595,  0.0697],\n",
       "                      [-0.2882, -1.3151,  1.6360,  0.0947],\n",
       "                      [-0.6882, -0.7341,  0.0189, -0.3057]]),\n",
       "       ),\n",
       ")"
      ]
     },
     "execution_count": 9,
     "metadata": {},
     "output_type": "execute_result"
    }
   ],
   "source": [
    "b"
   ]
  },
  {
   "cell_type": "code",
   "execution_count": 10,
   "id": "43ef8ea3",
   "metadata": {
    "execution": {
     "iopub.execute_input": "2023-02-26T15:06:43.174557Z",
     "iopub.status.busy": "2023-02-26T15:06:43.174255Z",
     "iopub.status.idle": "2023-02-26T15:06:43.180434Z",
     "shell.execute_reply": "2023-02-26T15:06:43.179552Z"
    }
   },
   "outputs": [
    {
     "data": {
      "text/plain": [
       "tensor([[ 0.4524, -2.3444,  0.9916],\n",
       "        [ 0.5875,  1.0119,  0.5265]])"
      ]
     },
     "execution_count": 10,
     "metadata": {},
     "output_type": "execute_result"
    }
   ],
   "source": [
    "b.a"
   ]
  },
  {
   "cell_type": "code",
   "execution_count": 11,
   "id": "b785ab72",
   "metadata": {
    "execution": {
     "iopub.execute_input": "2023-02-26T15:06:43.184000Z",
     "iopub.status.busy": "2023-02-26T15:06:43.183720Z",
     "iopub.status.idle": "2023-02-26T15:06:48.554433Z",
     "shell.execute_reply": "2023-02-26T15:06:48.553379Z"
    }
   },
   "outputs": [
    {
     "name": "stdout",
     "output_type": "stream",
     "text": [
      "65.7 ns ± 1.31 ns per loop (mean ± std. dev. of 7 runs, 10,000,000 loops each)\n"
     ]
    }
   ],
   "source": [
    "%timeit b.a"
   ]
  },
  {
   "cell_type": "code",
   "execution_count": 12,
   "id": "ad54dc69",
   "metadata": {
    "execution": {
     "iopub.execute_input": "2023-02-26T15:06:48.557923Z",
     "iopub.status.busy": "2023-02-26T15:06:48.557676Z",
     "iopub.status.idle": "2023-02-26T15:06:48.565552Z",
     "shell.execute_reply": "2023-02-26T15:06:48.564722Z"
    }
   },
   "outputs": [
    {
     "data": {
      "text/plain": [
       "Batch(\n",
       "    a: tensor([[ 1.7997, -0.9267, -0.4145],\n",
       "               [ 1.9690, -1.1728,  0.8529]]),\n",
       "    x: Batch(\n",
       "           c: tensor([[-1.2668, -1.4606,  0.7595,  0.0697],\n",
       "                      [-0.2882, -1.3151,  1.6360,  0.0947],\n",
       "                      [-0.6882, -0.7341,  0.0189, -0.3057]]),\n",
       "       ),\n",
       ")"
      ]
     },
     "execution_count": 12,
     "metadata": {},
     "output_type": "execute_result"
    }
   ],
   "source": [
    "new_value = torch.randn(2, 3)\n",
    "b.a = new_value\n",
    "\n",
    "b"
   ]
  },
  {
   "cell_type": "code",
   "execution_count": 13,
   "id": "29b1d0bf",
   "metadata": {
    "execution": {
     "iopub.execute_input": "2023-02-26T15:06:48.568669Z",
     "iopub.status.busy": "2023-02-26T15:06:48.568395Z",
     "iopub.status.idle": "2023-02-26T15:06:53.452078Z",
     "shell.execute_reply": "2023-02-26T15:06:53.451084Z"
    }
   },
   "outputs": [
    {
     "name": "stdout",
     "output_type": "stream",
     "text": [
      "603 ns ± 11.3 ns per loop (mean ± std. dev. of 7 runs, 1,000,000 loops each)\n"
     ]
    }
   ],
   "source": [
    "%timeit b.a = new_value"
   ]
  },
  {
   "cell_type": "markdown",
   "id": "b61ad1d0",
   "metadata": {},
   "source": [
    "## Initialization"
   ]
  },
  {
   "cell_type": "markdown",
   "id": "d70f0d54",
   "metadata": {},
   "source": [
    "### TreeValue's Initialization"
   ]
  },
  {
   "cell_type": "code",
   "execution_count": 14,
   "id": "d32a679b",
   "metadata": {
    "execution": {
     "iopub.execute_input": "2023-02-26T15:06:53.455893Z",
     "iopub.status.busy": "2023-02-26T15:06:53.455366Z",
     "iopub.status.idle": "2023-02-26T15:07:01.883475Z",
     "shell.execute_reply": "2023-02-26T15:07:01.882526Z"
    }
   },
   "outputs": [
    {
     "name": "stdout",
     "output_type": "stream",
     "text": [
      "1.04 µs ± 14.5 ns per loop (mean ± std. dev. of 7 runs, 1,000,000 loops each)\n"
     ]
    }
   ],
   "source": [
    "%timeit FastTreeValue(_TREE_DATA_1)"
   ]
  },
  {
   "cell_type": "markdown",
   "id": "24f3707b",
   "metadata": {},
   "source": [
    "### Tianshou Batch's Initialization"
   ]
  },
  {
   "cell_type": "code",
   "execution_count": 15,
   "id": "ac3958df",
   "metadata": {
    "execution": {
     "iopub.execute_input": "2023-02-26T15:07:01.886852Z",
     "iopub.status.busy": "2023-02-26T15:07:01.886570Z",
     "iopub.status.idle": "2023-02-26T15:07:12.568096Z",
     "shell.execute_reply": "2023-02-26T15:07:12.567119Z"
    }
   },
   "outputs": [
    {
     "name": "stdout",
     "output_type": "stream",
     "text": [
      "13.1 µs ± 258 ns per loop (mean ± std. dev. of 7 runs, 100,000 loops each)\n"
     ]
    }
   ],
   "source": [
    "%timeit Batch(**_TREE_DATA_1)"
   ]
  },
  {
   "cell_type": "markdown",
   "id": "1ab82e2d",
   "metadata": {},
   "source": [
    "## Deep Copy Operation"
   ]
  },
  {
   "cell_type": "code",
   "execution_count": 16,
   "id": "210a9442",
   "metadata": {
    "execution": {
     "iopub.execute_input": "2023-02-26T15:07:12.571658Z",
     "iopub.status.busy": "2023-02-26T15:07:12.571209Z",
     "iopub.status.idle": "2023-02-26T15:07:12.576300Z",
     "shell.execute_reply": "2023-02-26T15:07:12.575472Z"
    }
   },
   "outputs": [],
   "source": [
    "import copy"
   ]
  },
  {
   "cell_type": "markdown",
   "id": "5a736274",
   "metadata": {},
   "source": [
    "### Deep Copy of TreeValue"
   ]
  },
  {
   "cell_type": "code",
   "execution_count": 17,
   "id": "f9bcadd6",
   "metadata": {
    "execution": {
     "iopub.execute_input": "2023-02-26T15:07:12.580059Z",
     "iopub.status.busy": "2023-02-26T15:07:12.579577Z",
     "iopub.status.idle": "2023-02-26T15:07:14.941932Z",
     "shell.execute_reply": "2023-02-26T15:07:14.941111Z"
    }
   },
   "outputs": [
    {
     "name": "stdout",
     "output_type": "stream",
     "text": [
      "283 µs ± 6.66 µs per loop (mean ± std. dev. of 7 runs, 1,000 loops each)\n"
     ]
    }
   ],
   "source": [
    "t3 = FastTreeValue(_TREE_DATA_3)\n",
    "%timeit copy.deepcopy(t3)"
   ]
  },
  {
   "cell_type": "markdown",
   "id": "bf8be7ea",
   "metadata": {},
   "source": [
    "### Deep Copy of Tianshou Batch"
   ]
  },
  {
   "cell_type": "code",
   "execution_count": 18,
   "id": "91998e6f",
   "metadata": {
    "execution": {
     "iopub.execute_input": "2023-02-26T15:07:14.945365Z",
     "iopub.status.busy": "2023-02-26T15:07:14.944936Z",
     "iopub.status.idle": "2023-02-26T15:07:17.188164Z",
     "shell.execute_reply": "2023-02-26T15:07:17.187315Z"
    }
   },
   "outputs": [
    {
     "name": "stdout",
     "output_type": "stream",
     "text": [
      "273 µs ± 4.25 µs per loop (mean ± std. dev. of 7 runs, 1,000 loops each)\n"
     ]
    }
   ],
   "source": [
    "b3 = Batch(**_TREE_DATA_3)\n",
    "%timeit copy.deepcopy(b3)"
   ]
  },
  {
   "cell_type": "markdown",
   "id": "223162fb",
   "metadata": {},
   "source": [
    "## Stack, Concat and Split Operation"
   ]
  },
  {
   "cell_type": "markdown",
   "id": "85fa4a73",
   "metadata": {},
   "source": [
    "### Performance of TreeValue"
   ]
  },
  {
   "cell_type": "code",
   "execution_count": 19,
   "id": "a0c2b697",
   "metadata": {
    "execution": {
     "iopub.execute_input": "2023-02-26T15:07:17.191593Z",
     "iopub.status.busy": "2023-02-26T15:07:17.191062Z",
     "iopub.status.idle": "2023-02-26T15:07:17.195333Z",
     "shell.execute_reply": "2023-02-26T15:07:17.194491Z"
    }
   },
   "outputs": [],
   "source": [
    "trees = [FastTreeValue(_TREE_DATA_2) for _ in range(8)]"
   ]
  },
  {
   "cell_type": "code",
   "execution_count": 20,
   "id": "017ea5a5",
   "metadata": {
    "execution": {
     "iopub.execute_input": "2023-02-26T15:07:17.198760Z",
     "iopub.status.busy": "2023-02-26T15:07:17.198362Z",
     "iopub.status.idle": "2023-02-26T15:07:17.214137Z",
     "shell.execute_reply": "2023-02-26T15:07:17.213260Z"
    }
   },
   "outputs": [
    {
     "data": {
      "text/plain": [
       "<FastTreeValue 0x7fc4844341f0>\n",
       "├── 'a' --> tensor([[[ 0.4524, -2.3444,  0.9916],\n",
       "│                    [ 0.5875,  1.0119,  0.5265]],\n",
       "│           \n",
       "│                   [[ 0.4524, -2.3444,  0.9916],\n",
       "│                    [ 0.5875,  1.0119,  0.5265]],\n",
       "│           \n",
       "│                   [[ 0.4524, -2.3444,  0.9916],\n",
       "│                    [ 0.5875,  1.0119,  0.5265]],\n",
       "│           \n",
       "│                   [[ 0.4524, -2.3444,  0.9916],\n",
       "│                    [ 0.5875,  1.0119,  0.5265]],\n",
       "│           \n",
       "│                   [[ 0.4524, -2.3444,  0.9916],\n",
       "│                    [ 0.5875,  1.0119,  0.5265]],\n",
       "│           \n",
       "│                   [[ 0.4524, -2.3444,  0.9916],\n",
       "│                    [ 0.5875,  1.0119,  0.5265]],\n",
       "│           \n",
       "│                   [[ 0.4524, -2.3444,  0.9916],\n",
       "│                    [ 0.5875,  1.0119,  0.5265]],\n",
       "│           \n",
       "│                   [[ 0.4524, -2.3444,  0.9916],\n",
       "│                    [ 0.5875,  1.0119,  0.5265]]])\n",
       "└── 'x' --> <FastTreeValue 0x7fc4844342e0>\n",
       "    └── 'c' --> tensor([[[-1.2668, -1.4606,  0.7595,  0.0697],\n",
       "                         [-0.2882, -1.3151,  1.6360,  0.0947],\n",
       "                         [-0.6882, -0.7341,  0.0189, -0.3057]],\n",
       "                \n",
       "                        [[-1.2668, -1.4606,  0.7595,  0.0697],\n",
       "                         [-0.2882, -1.3151,  1.6360,  0.0947],\n",
       "                         [-0.6882, -0.7341,  0.0189, -0.3057]],\n",
       "                \n",
       "                        [[-1.2668, -1.4606,  0.7595,  0.0697],\n",
       "                         [-0.2882, -1.3151,  1.6360,  0.0947],\n",
       "                         [-0.6882, -0.7341,  0.0189, -0.3057]],\n",
       "                \n",
       "                        [[-1.2668, -1.4606,  0.7595,  0.0697],\n",
       "                         [-0.2882, -1.3151,  1.6360,  0.0947],\n",
       "                         [-0.6882, -0.7341,  0.0189, -0.3057]],\n",
       "                \n",
       "                        [[-1.2668, -1.4606,  0.7595,  0.0697],\n",
       "                         [-0.2882, -1.3151,  1.6360,  0.0947],\n",
       "                         [-0.6882, -0.7341,  0.0189, -0.3057]],\n",
       "                \n",
       "                        [[-1.2668, -1.4606,  0.7595,  0.0697],\n",
       "                         [-0.2882, -1.3151,  1.6360,  0.0947],\n",
       "                         [-0.6882, -0.7341,  0.0189, -0.3057]],\n",
       "                \n",
       "                        [[-1.2668, -1.4606,  0.7595,  0.0697],\n",
       "                         [-0.2882, -1.3151,  1.6360,  0.0947],\n",
       "                         [-0.6882, -0.7341,  0.0189, -0.3057]],\n",
       "                \n",
       "                        [[-1.2668, -1.4606,  0.7595,  0.0697],\n",
       "                         [-0.2882, -1.3151,  1.6360,  0.0947],\n",
       "                         [-0.6882, -0.7341,  0.0189, -0.3057]]])"
      ]
     },
     "execution_count": 20,
     "metadata": {},
     "output_type": "execute_result"
    }
   ],
   "source": [
    "t_stack = FastTreeValue.func(subside=True)(torch.stack)\n",
    "\n",
    "t_stack(trees)"
   ]
  },
  {
   "cell_type": "code",
   "execution_count": 21,
   "id": "f8b3f415",
   "metadata": {
    "execution": {
     "iopub.execute_input": "2023-02-26T15:07:17.218057Z",
     "iopub.status.busy": "2023-02-26T15:07:17.217391Z",
     "iopub.status.idle": "2023-02-26T15:07:20.919716Z",
     "shell.execute_reply": "2023-02-26T15:07:20.918662Z"
    }
   },
   "outputs": [
    {
     "name": "stdout",
     "output_type": "stream",
     "text": [
      "45.4 µs ± 856 ns per loop (mean ± std. dev. of 7 runs, 10,000 loops each)\n"
     ]
    }
   ],
   "source": [
    "%timeit t_stack(trees)"
   ]
  },
  {
   "cell_type": "code",
   "execution_count": 22,
   "id": "94b56771",
   "metadata": {
    "execution": {
     "iopub.execute_input": "2023-02-26T15:07:20.923491Z",
     "iopub.status.busy": "2023-02-26T15:07:20.923016Z",
     "iopub.status.idle": "2023-02-26T15:07:20.932918Z",
     "shell.execute_reply": "2023-02-26T15:07:20.932094Z"
    }
   },
   "outputs": [
    {
     "data": {
      "text/plain": [
       "<FastTreeValue 0x7fc4b0ecf550>\n",
       "├── 'a' --> tensor([[ 0.4524, -2.3444,  0.9916],\n",
       "│                   [ 0.5875,  1.0119,  0.5265],\n",
       "│                   [ 0.4524, -2.3444,  0.9916],\n",
       "│                   [ 0.5875,  1.0119,  0.5265],\n",
       "│                   [ 0.4524, -2.3444,  0.9916],\n",
       "│                   [ 0.5875,  1.0119,  0.5265],\n",
       "│                   [ 0.4524, -2.3444,  0.9916],\n",
       "│                   [ 0.5875,  1.0119,  0.5265],\n",
       "│                   [ 0.4524, -2.3444,  0.9916],\n",
       "│                   [ 0.5875,  1.0119,  0.5265],\n",
       "│                   [ 0.4524, -2.3444,  0.9916],\n",
       "│                   [ 0.5875,  1.0119,  0.5265],\n",
       "│                   [ 0.4524, -2.3444,  0.9916],\n",
       "│                   [ 0.5875,  1.0119,  0.5265],\n",
       "│                   [ 0.4524, -2.3444,  0.9916],\n",
       "│                   [ 0.5875,  1.0119,  0.5265]])\n",
       "└── 'x' --> <FastTreeValue 0x7fc4b0ebaf40>\n",
       "    └── 'c' --> tensor([[-1.2668, -1.4606,  0.7595,  0.0697],\n",
       "                        [-0.2882, -1.3151,  1.6360,  0.0947],\n",
       "                        [-0.6882, -0.7341,  0.0189, -0.3057],\n",
       "                        [-1.2668, -1.4606,  0.7595,  0.0697],\n",
       "                        [-0.2882, -1.3151,  1.6360,  0.0947],\n",
       "                        [-0.6882, -0.7341,  0.0189, -0.3057],\n",
       "                        [-1.2668, -1.4606,  0.7595,  0.0697],\n",
       "                        [-0.2882, -1.3151,  1.6360,  0.0947],\n",
       "                        [-0.6882, -0.7341,  0.0189, -0.3057],\n",
       "                        [-1.2668, -1.4606,  0.7595,  0.0697],\n",
       "                        [-0.2882, -1.3151,  1.6360,  0.0947],\n",
       "                        [-0.6882, -0.7341,  0.0189, -0.3057],\n",
       "                        [-1.2668, -1.4606,  0.7595,  0.0697],\n",
       "                        [-0.2882, -1.3151,  1.6360,  0.0947],\n",
       "                        [-0.6882, -0.7341,  0.0189, -0.3057],\n",
       "                        [-1.2668, -1.4606,  0.7595,  0.0697],\n",
       "                        [-0.2882, -1.3151,  1.6360,  0.0947],\n",
       "                        [-0.6882, -0.7341,  0.0189, -0.3057],\n",
       "                        [-1.2668, -1.4606,  0.7595,  0.0697],\n",
       "                        [-0.2882, -1.3151,  1.6360,  0.0947],\n",
       "                        [-0.6882, -0.7341,  0.0189, -0.3057],\n",
       "                        [-1.2668, -1.4606,  0.7595,  0.0697],\n",
       "                        [-0.2882, -1.3151,  1.6360,  0.0947],\n",
       "                        [-0.6882, -0.7341,  0.0189, -0.3057]])"
      ]
     },
     "execution_count": 22,
     "metadata": {},
     "output_type": "execute_result"
    }
   ],
   "source": [
    "t_cat = FastTreeValue.func(subside=True)(torch.cat)\n",
    "\n",
    "t_cat(trees)"
   ]
  },
  {
   "cell_type": "code",
   "execution_count": 23,
   "id": "5e9c06a6",
   "metadata": {
    "execution": {
     "iopub.execute_input": "2023-02-26T15:07:20.936376Z",
     "iopub.status.busy": "2023-02-26T15:07:20.935822Z",
     "iopub.status.idle": "2023-02-26T15:07:24.264505Z",
     "shell.execute_reply": "2023-02-26T15:07:24.263447Z"
    }
   },
   "outputs": [
    {
     "name": "stdout",
     "output_type": "stream",
     "text": [
      "41 µs ± 490 ns per loop (mean ± std. dev. of 7 runs, 10,000 loops each)\n"
     ]
    }
   ],
   "source": [
    "%timeit t_cat(trees)"
   ]
  },
  {
   "cell_type": "code",
   "execution_count": 24,
   "id": "a3ab5c8f",
   "metadata": {
    "execution": {
     "iopub.execute_input": "2023-02-26T15:07:24.268245Z",
     "iopub.status.busy": "2023-02-26T15:07:24.267938Z",
     "iopub.status.idle": "2023-02-26T15:07:30.883138Z",
     "shell.execute_reply": "2023-02-26T15:07:30.882107Z"
    }
   },
   "outputs": [
    {
     "name": "stdout",
     "output_type": "stream",
     "text": [
      "81.7 µs ± 1.88 µs per loop (mean ± std. dev. of 7 runs, 10,000 loops each)\n"
     ]
    }
   ],
   "source": [
    "t_split = FastTreeValue.func(rise=True)(torch.split)\n",
    "tree = FastTreeValue({\n",
    "    'obs': torch.randn(8, 4, 84, 84),\n",
    "    'action': torch.randint(0, 6, size=(8, 1,)),\n",
    "    'reward': torch.rand(8, 1),\n",
    "})\n",
    "\n",
    "%timeit t_split(tree, 1)"
   ]
  },
  {
   "cell_type": "markdown",
   "id": "31c3ec0b",
   "metadata": {},
   "source": [
    "### Performance of Tianshou Batch"
   ]
  },
  {
   "cell_type": "code",
   "execution_count": 25,
   "id": "9ead828a",
   "metadata": {
    "execution": {
     "iopub.execute_input": "2023-02-26T15:07:30.889296Z",
     "iopub.status.busy": "2023-02-26T15:07:30.886252Z",
     "iopub.status.idle": "2023-02-26T15:07:30.899211Z",
     "shell.execute_reply": "2023-02-26T15:07:30.898236Z"
    }
   },
   "outputs": [
    {
     "data": {
      "text/plain": [
       "Batch(\n",
       "    a: tensor([[[ 0.4524, -2.3444,  0.9916],\n",
       "                [ 0.5875,  1.0119,  0.5265]],\n",
       "       \n",
       "               [[ 0.4524, -2.3444,  0.9916],\n",
       "                [ 0.5875,  1.0119,  0.5265]],\n",
       "       \n",
       "               [[ 0.4524, -2.3444,  0.9916],\n",
       "                [ 0.5875,  1.0119,  0.5265]],\n",
       "       \n",
       "               [[ 0.4524, -2.3444,  0.9916],\n",
       "                [ 0.5875,  1.0119,  0.5265]],\n",
       "       \n",
       "               [[ 0.4524, -2.3444,  0.9916],\n",
       "                [ 0.5875,  1.0119,  0.5265]],\n",
       "       \n",
       "               [[ 0.4524, -2.3444,  0.9916],\n",
       "                [ 0.5875,  1.0119,  0.5265]],\n",
       "       \n",
       "               [[ 0.4524, -2.3444,  0.9916],\n",
       "                [ 0.5875,  1.0119,  0.5265]],\n",
       "       \n",
       "               [[ 0.4524, -2.3444,  0.9916],\n",
       "                [ 0.5875,  1.0119,  0.5265]]]),\n",
       "    x: Batch(\n",
       "           c: tensor([[[-1.2668, -1.4606,  0.7595,  0.0697],\n",
       "                       [-0.2882, -1.3151,  1.6360,  0.0947],\n",
       "                       [-0.6882, -0.7341,  0.0189, -0.3057]],\n",
       "              \n",
       "                      [[-1.2668, -1.4606,  0.7595,  0.0697],\n",
       "                       [-0.2882, -1.3151,  1.6360,  0.0947],\n",
       "                       [-0.6882, -0.7341,  0.0189, -0.3057]],\n",
       "              \n",
       "                      [[-1.2668, -1.4606,  0.7595,  0.0697],\n",
       "                       [-0.2882, -1.3151,  1.6360,  0.0947],\n",
       "                       [-0.6882, -0.7341,  0.0189, -0.3057]],\n",
       "              \n",
       "                      [[-1.2668, -1.4606,  0.7595,  0.0697],\n",
       "                       [-0.2882, -1.3151,  1.6360,  0.0947],\n",
       "                       [-0.6882, -0.7341,  0.0189, -0.3057]],\n",
       "              \n",
       "                      [[-1.2668, -1.4606,  0.7595,  0.0697],\n",
       "                       [-0.2882, -1.3151,  1.6360,  0.0947],\n",
       "                       [-0.6882, -0.7341,  0.0189, -0.3057]],\n",
       "              \n",
       "                      [[-1.2668, -1.4606,  0.7595,  0.0697],\n",
       "                       [-0.2882, -1.3151,  1.6360,  0.0947],\n",
       "                       [-0.6882, -0.7341,  0.0189, -0.3057]],\n",
       "              \n",
       "                      [[-1.2668, -1.4606,  0.7595,  0.0697],\n",
       "                       [-0.2882, -1.3151,  1.6360,  0.0947],\n",
       "                       [-0.6882, -0.7341,  0.0189, -0.3057]],\n",
       "              \n",
       "                      [[-1.2668, -1.4606,  0.7595,  0.0697],\n",
       "                       [-0.2882, -1.3151,  1.6360,  0.0947],\n",
       "                       [-0.6882, -0.7341,  0.0189, -0.3057]]]),\n",
       "       ),\n",
       ")"
      ]
     },
     "execution_count": 25,
     "metadata": {},
     "output_type": "execute_result"
    }
   ],
   "source": [
    "batches = [Batch(**_TREE_DATA_2) for _ in range(8)]\n",
    "\n",
    "Batch.stack(batches)"
   ]
  },
  {
   "cell_type": "code",
   "execution_count": 26,
   "id": "ec9037a3",
   "metadata": {
    "execution": {
     "iopub.execute_input": "2023-02-26T15:07:30.902739Z",
     "iopub.status.busy": "2023-02-26T15:07:30.902163Z",
     "iopub.status.idle": "2023-02-26T15:07:39.444727Z",
     "shell.execute_reply": "2023-02-26T15:07:39.443756Z"
    }
   },
   "outputs": [
    {
     "name": "stdout",
     "output_type": "stream",
     "text": [
      "105 µs ± 992 ns per loop (mean ± std. dev. of 7 runs, 10,000 loops each)\n"
     ]
    }
   ],
   "source": [
    "%timeit Batch.stack(batches)"
   ]
  },
  {
   "cell_type": "code",
   "execution_count": 27,
   "id": "cb8ab77e",
   "metadata": {
    "execution": {
     "iopub.execute_input": "2023-02-26T15:07:39.448416Z",
     "iopub.status.busy": "2023-02-26T15:07:39.447893Z",
     "iopub.status.idle": "2023-02-26T15:07:39.457359Z",
     "shell.execute_reply": "2023-02-26T15:07:39.456500Z"
    }
   },
   "outputs": [
    {
     "data": {
      "text/plain": [
       "Batch(\n",
       "    a: tensor([[ 0.4524, -2.3444,  0.9916],\n",
       "               [ 0.5875,  1.0119,  0.5265],\n",
       "               [ 0.4524, -2.3444,  0.9916],\n",
       "               [ 0.5875,  1.0119,  0.5265],\n",
       "               [ 0.4524, -2.3444,  0.9916],\n",
       "               [ 0.5875,  1.0119,  0.5265],\n",
       "               [ 0.4524, -2.3444,  0.9916],\n",
       "               [ 0.5875,  1.0119,  0.5265],\n",
       "               [ 0.4524, -2.3444,  0.9916],\n",
       "               [ 0.5875,  1.0119,  0.5265],\n",
       "               [ 0.4524, -2.3444,  0.9916],\n",
       "               [ 0.5875,  1.0119,  0.5265],\n",
       "               [ 0.4524, -2.3444,  0.9916],\n",
       "               [ 0.5875,  1.0119,  0.5265],\n",
       "               [ 0.4524, -2.3444,  0.9916],\n",
       "               [ 0.5875,  1.0119,  0.5265]]),\n",
       "    x: Batch(\n",
       "           c: tensor([[-1.2668, -1.4606,  0.7595,  0.0697],\n",
       "                      [-0.2882, -1.3151,  1.6360,  0.0947],\n",
       "                      [-0.6882, -0.7341,  0.0189, -0.3057],\n",
       "                      [-1.2668, -1.4606,  0.7595,  0.0697],\n",
       "                      [-0.2882, -1.3151,  1.6360,  0.0947],\n",
       "                      [-0.6882, -0.7341,  0.0189, -0.3057],\n",
       "                      [-1.2668, -1.4606,  0.7595,  0.0697],\n",
       "                      [-0.2882, -1.3151,  1.6360,  0.0947],\n",
       "                      [-0.6882, -0.7341,  0.0189, -0.3057],\n",
       "                      [-1.2668, -1.4606,  0.7595,  0.0697],\n",
       "                      [-0.2882, -1.3151,  1.6360,  0.0947],\n",
       "                      [-0.6882, -0.7341,  0.0189, -0.3057],\n",
       "                      [-1.2668, -1.4606,  0.7595,  0.0697],\n",
       "                      [-0.2882, -1.3151,  1.6360,  0.0947],\n",
       "                      [-0.6882, -0.7341,  0.0189, -0.3057],\n",
       "                      [-1.2668, -1.4606,  0.7595,  0.0697],\n",
       "                      [-0.2882, -1.3151,  1.6360,  0.0947],\n",
       "                      [-0.6882, -0.7341,  0.0189, -0.3057],\n",
       "                      [-1.2668, -1.4606,  0.7595,  0.0697],\n",
       "                      [-0.2882, -1.3151,  1.6360,  0.0947],\n",
       "                      [-0.6882, -0.7341,  0.0189, -0.3057],\n",
       "                      [-1.2668, -1.4606,  0.7595,  0.0697],\n",
       "                      [-0.2882, -1.3151,  1.6360,  0.0947],\n",
       "                      [-0.6882, -0.7341,  0.0189, -0.3057]]),\n",
       "       ),\n",
       ")"
      ]
     },
     "execution_count": 27,
     "metadata": {},
     "output_type": "execute_result"
    }
   ],
   "source": [
    "Batch.cat(batches)"
   ]
  },
  {
   "cell_type": "code",
   "execution_count": 28,
   "id": "18dfb045",
   "metadata": {
    "execution": {
     "iopub.execute_input": "2023-02-26T15:07:39.460797Z",
     "iopub.status.busy": "2023-02-26T15:07:39.460483Z",
     "iopub.status.idle": "2023-02-26T15:07:54.628767Z",
     "shell.execute_reply": "2023-02-26T15:07:54.627789Z"
    }
   },
   "outputs": [
    {
     "name": "stdout",
     "output_type": "stream",
     "text": [
      "187 µs ± 1.83 µs per loop (mean ± std. dev. of 7 runs, 10,000 loops each)\n"
     ]
    }
   ],
   "source": [
    "%timeit Batch.cat(batches)"
   ]
  },
  {
   "cell_type": "code",
   "execution_count": 29,
   "id": "c6688e51",
   "metadata": {
    "execution": {
     "iopub.execute_input": "2023-02-26T15:07:54.632767Z",
     "iopub.status.busy": "2023-02-26T15:07:54.632371Z",
     "iopub.status.idle": "2023-02-26T15:07:59.366067Z",
     "shell.execute_reply": "2023-02-26T15:07:59.365135Z"
    }
   },
   "outputs": [
    {
     "name": "stdout",
     "output_type": "stream",
     "text": [
      "581 µs ± 12.4 µs per loop (mean ± std. dev. of 7 runs, 1,000 loops each)\n"
     ]
    }
   ],
   "source": [
    "batch = Batch({\n",
    "    'obs': torch.randn(8, 4, 84, 84),\n",
    "    'action': torch.randint(0, 6, size=(8, 1,)),\n",
    "    'reward': torch.rand(8, 1)}\n",
    ")\n",
    "\n",
    "%timeit list(Batch.split(batch, 1, shuffle=False, merge_last=True))"
   ]
  },
  {
   "cell_type": "code",
   "execution_count": null,
   "id": "2539fbd9",
   "metadata": {},
   "outputs": [],
   "source": []
  }
 ],
 "metadata": {
  "kernelspec": {
   "display_name": "Python 3 (ipykernel)",
   "language": "python",
   "name": "python3"
  },
  "language_info": {
   "codemirror_mode": {
    "name": "ipython",
    "version": 3
   },
   "file_extension": ".py",
   "mimetype": "text/x-python",
   "name": "python",
   "nbconvert_exporter": "python",
   "pygments_lexer": "ipython3",
   "version": "3.8.16"
  }
 },
 "nbformat": 4,
 "nbformat_minor": 5
}
