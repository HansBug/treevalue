{
 "cells": [
  {
   "cell_type": "markdown",
   "id": "9d39d946",
   "metadata": {},
   "source": [
    "# Comparison Between TreeValue and Tianshou Batch"
   ]
  },
  {
   "cell_type": "markdown",
   "id": "3c6db2d4",
   "metadata": {},
   "source": [
    "In this section, we will take a look at the feature and performance of the [Tianshou Batch](https://github.com/thu-ml/tianshou) library, which is developed by Tsinghua Machine Learning Group."
   ]
  },
  {
   "cell_type": "markdown",
   "id": "069361b0",
   "metadata": {},
   "source": [
    "Before starting the comparison, let us define some thing."
   ]
  },
  {
   "cell_type": "code",
   "execution_count": 1,
   "id": "06fc8d26",
   "metadata": {
    "execution": {
     "iopub.execute_input": "2023-02-26T14:49:18.740397Z",
     "iopub.status.busy": "2023-02-26T14:49:18.739852Z",
     "iopub.status.idle": "2023-02-26T14:49:19.641661Z",
     "shell.execute_reply": "2023-02-26T14:49:19.641003Z"
    }
   },
   "outputs": [
    {
     "name": "stderr",
     "output_type": "stream",
     "text": [
      "/opt/hostedtoolcache/Python/3.8.16/x64/lib/python3.8/site-packages/tqdm/auto.py:22: TqdmWarning: IProgress not found. Please update jupyter and ipywidgets. See https://ipywidgets.readthedocs.io/en/stable/user_install.html\n",
      "  from .autonotebook import tqdm as notebook_tqdm\n"
     ]
    }
   ],
   "source": [
    "import torch \n",
    "\n",
    "_TREE_DATA_1 = {'a': 1, 'b': 2, 'x': {'c': 3, 'd': 4}}\n",
    "_TREE_DATA_2 = {\n",
    "    'a': torch.randn(2, 3), \n",
    "    'x': {\n",
    "        'c': torch.randn(3, 4)\n",
    "    },\n",
    "}\n",
    "_TREE_DATA_3 = {\n",
    "    'obs': torch.randn(4, 84, 84),\n",
    "    'action': torch.randint(0, 6, size=(1,)),\n",
    "    'reward': torch.rand(1),\n",
    "}"
   ]
  },
  {
   "cell_type": "markdown",
   "id": "83461b25",
   "metadata": {},
   "source": [
    "## Read and Write Operation"
   ]
  },
  {
   "cell_type": "markdown",
   "id": "067b3f73",
   "metadata": {},
   "source": [
    "Reading and writing are the two most common operations in the tree data structure based on the data model (TreeValue and Tianshou Batch both belong to this type), so this section will compare the reading and writing performance of these two libraries."
   ]
  },
  {
   "cell_type": "markdown",
   "id": "5d09a5b7",
   "metadata": {},
   "source": [
    "### TreeValue's Get and Set"
   ]
  },
  {
   "cell_type": "code",
   "execution_count": 2,
   "id": "9519c4bb",
   "metadata": {
    "execution": {
     "iopub.execute_input": "2023-02-26T14:49:19.644849Z",
     "iopub.status.busy": "2023-02-26T14:49:19.644360Z",
     "iopub.status.idle": "2023-02-26T14:49:19.921059Z",
     "shell.execute_reply": "2023-02-26T14:49:19.920107Z"
    }
   },
   "outputs": [],
   "source": [
    "from treevalue import FastTreeValue\n",
    "\n",
    "t = FastTreeValue(_TREE_DATA_2)"
   ]
  },
  {
   "cell_type": "code",
   "execution_count": 3,
   "id": "11c37677",
   "metadata": {
    "execution": {
     "iopub.execute_input": "2023-02-26T14:49:19.924219Z",
     "iopub.status.busy": "2023-02-26T14:49:19.923629Z",
     "iopub.status.idle": "2023-02-26T14:49:19.931959Z",
     "shell.execute_reply": "2023-02-26T14:49:19.931340Z"
    }
   },
   "outputs": [
    {
     "data": {
      "text/plain": [
       "<FastTreeValue 0x7f71c001f3d0>\n",
       "├── 'a' --> tensor([[-0.8520,  0.7400,  1.0168],\n",
       "│                   [-0.7716, -0.1605, -0.0578]])\n",
       "└── 'x' --> <FastTreeValue 0x7f71c001fdf0>\n",
       "    └── 'c' --> tensor([[ 0.0490, -1.2201,  0.3432,  1.0398],\n",
       "                        [-2.1274,  0.6964,  0.6915, -0.7288],\n",
       "                        [-0.8029,  1.7824, -0.2082, -0.7766]])"
      ]
     },
     "execution_count": 3,
     "metadata": {},
     "output_type": "execute_result"
    }
   ],
   "source": [
    "t"
   ]
  },
  {
   "cell_type": "code",
   "execution_count": 4,
   "id": "fd70b0b9",
   "metadata": {
    "execution": {
     "iopub.execute_input": "2023-02-26T14:49:19.934638Z",
     "iopub.status.busy": "2023-02-26T14:49:19.934296Z",
     "iopub.status.idle": "2023-02-26T14:49:19.938926Z",
     "shell.execute_reply": "2023-02-26T14:49:19.938311Z"
    }
   },
   "outputs": [
    {
     "data": {
      "text/plain": [
       "tensor([[-0.8520,  0.7400,  1.0168],\n",
       "        [-0.7716, -0.1605, -0.0578]])"
      ]
     },
     "execution_count": 4,
     "metadata": {},
     "output_type": "execute_result"
    }
   ],
   "source": [
    "t.a"
   ]
  },
  {
   "cell_type": "code",
   "execution_count": 5,
   "id": "c18197bd",
   "metadata": {
    "execution": {
     "iopub.execute_input": "2023-02-26T14:49:19.941444Z",
     "iopub.status.busy": "2023-02-26T14:49:19.941103Z",
     "iopub.status.idle": "2023-02-26T14:49:24.795159Z",
     "shell.execute_reply": "2023-02-26T14:49:24.794419Z"
    }
   },
   "outputs": [
    {
     "name": "stdout",
     "output_type": "stream",
     "text": [
      "59.8 ns ± 0.0503 ns per loop (mean ± std. dev. of 7 runs, 10,000,000 loops each)\n"
     ]
    }
   ],
   "source": [
    "%timeit t.a"
   ]
  },
  {
   "cell_type": "code",
   "execution_count": 6,
   "id": "bd52f867",
   "metadata": {
    "execution": {
     "iopub.execute_input": "2023-02-26T14:49:24.798338Z",
     "iopub.status.busy": "2023-02-26T14:49:24.797831Z",
     "iopub.status.idle": "2023-02-26T14:49:24.804527Z",
     "shell.execute_reply": "2023-02-26T14:49:24.803952Z"
    }
   },
   "outputs": [
    {
     "data": {
      "text/plain": [
       "<FastTreeValue 0x7f71c001f3d0>\n",
       "├── 'a' --> tensor([[-0.1601, -0.6404,  2.6733],\n",
       "│                   [ 1.1270, -0.2742, -1.1442]])\n",
       "└── 'x' --> <FastTreeValue 0x7f71c001fdf0>\n",
       "    └── 'c' --> tensor([[ 0.0490, -1.2201,  0.3432,  1.0398],\n",
       "                        [-2.1274,  0.6964,  0.6915, -0.7288],\n",
       "                        [-0.8029,  1.7824, -0.2082, -0.7766]])"
      ]
     },
     "execution_count": 6,
     "metadata": {},
     "output_type": "execute_result"
    }
   ],
   "source": [
    "new_value = torch.randn(2, 3)\n",
    "t.a = new_value\n",
    "\n",
    "t"
   ]
  },
  {
   "cell_type": "code",
   "execution_count": 7,
   "id": "bbe04d1c",
   "metadata": {
    "execution": {
     "iopub.execute_input": "2023-02-26T14:49:24.806806Z",
     "iopub.status.busy": "2023-02-26T14:49:24.806599Z",
     "iopub.status.idle": "2023-02-26T14:49:29.627887Z",
     "shell.execute_reply": "2023-02-26T14:49:29.627133Z"
    }
   },
   "outputs": [
    {
     "name": "stdout",
     "output_type": "stream",
     "text": [
      "59.4 ns ± 0.0343 ns per loop (mean ± std. dev. of 7 runs, 10,000,000 loops each)\n"
     ]
    }
   ],
   "source": [
    "%timeit t.a = new_value"
   ]
  },
  {
   "cell_type": "markdown",
   "id": "48c49731",
   "metadata": {},
   "source": [
    "### Tianshou Batch's Get and Set"
   ]
  },
  {
   "cell_type": "code",
   "execution_count": 8,
   "id": "f1bb14c1",
   "metadata": {
    "execution": {
     "iopub.execute_input": "2023-02-26T14:49:29.630982Z",
     "iopub.status.busy": "2023-02-26T14:49:29.630589Z",
     "iopub.status.idle": "2023-02-26T14:49:29.956607Z",
     "shell.execute_reply": "2023-02-26T14:49:29.955536Z"
    }
   },
   "outputs": [],
   "source": [
    "from tianshou.data import Batch\n",
    "\n",
    "b = Batch(**_TREE_DATA_2)"
   ]
  },
  {
   "cell_type": "code",
   "execution_count": 9,
   "id": "cb0777c3",
   "metadata": {
    "execution": {
     "iopub.execute_input": "2023-02-26T14:49:29.959867Z",
     "iopub.status.busy": "2023-02-26T14:49:29.959432Z",
     "iopub.status.idle": "2023-02-26T14:49:29.966287Z",
     "shell.execute_reply": "2023-02-26T14:49:29.965716Z"
    }
   },
   "outputs": [
    {
     "data": {
      "text/plain": [
       "Batch(\n",
       "    a: tensor([[-0.8520,  0.7400,  1.0168],\n",
       "               [-0.7716, -0.1605, -0.0578]]),\n",
       "    x: Batch(\n",
       "           c: tensor([[ 0.0490, -1.2201,  0.3432,  1.0398],\n",
       "                      [-2.1274,  0.6964,  0.6915, -0.7288],\n",
       "                      [-0.8029,  1.7824, -0.2082, -0.7766]]),\n",
       "       ),\n",
       ")"
      ]
     },
     "execution_count": 9,
     "metadata": {},
     "output_type": "execute_result"
    }
   ],
   "source": [
    "b"
   ]
  },
  {
   "cell_type": "code",
   "execution_count": 10,
   "id": "43ef8ea3",
   "metadata": {
    "execution": {
     "iopub.execute_input": "2023-02-26T14:49:29.969303Z",
     "iopub.status.busy": "2023-02-26T14:49:29.968826Z",
     "iopub.status.idle": "2023-02-26T14:49:29.974585Z",
     "shell.execute_reply": "2023-02-26T14:49:29.974012Z"
    }
   },
   "outputs": [
    {
     "data": {
      "text/plain": [
       "tensor([[-0.8520,  0.7400,  1.0168],\n",
       "        [-0.7716, -0.1605, -0.0578]])"
      ]
     },
     "execution_count": 10,
     "metadata": {},
     "output_type": "execute_result"
    }
   ],
   "source": [
    "b.a"
   ]
  },
  {
   "cell_type": "code",
   "execution_count": 11,
   "id": "b785ab72",
   "metadata": {
    "execution": {
     "iopub.execute_input": "2023-02-26T14:49:29.977340Z",
     "iopub.status.busy": "2023-02-26T14:49:29.976871Z",
     "iopub.status.idle": "2023-02-26T14:49:34.354271Z",
     "shell.execute_reply": "2023-02-26T14:49:34.353197Z"
    }
   },
   "outputs": [
    {
     "name": "stdout",
     "output_type": "stream",
     "text": [
      "54.3 ns ± 0.0533 ns per loop (mean ± std. dev. of 7 runs, 10,000,000 loops each)\n"
     ]
    }
   ],
   "source": [
    "%timeit b.a"
   ]
  },
  {
   "cell_type": "code",
   "execution_count": 12,
   "id": "ad54dc69",
   "metadata": {
    "execution": {
     "iopub.execute_input": "2023-02-26T14:49:34.357293Z",
     "iopub.status.busy": "2023-02-26T14:49:34.356957Z",
     "iopub.status.idle": "2023-02-26T14:49:34.363309Z",
     "shell.execute_reply": "2023-02-26T14:49:34.362708Z"
    }
   },
   "outputs": [
    {
     "data": {
      "text/plain": [
       "Batch(\n",
       "    a: tensor([[-0.3892, -0.5003,  0.4958],\n",
       "               [-0.4589, -1.2427,  0.7697]]),\n",
       "    x: Batch(\n",
       "           c: tensor([[ 0.0490, -1.2201,  0.3432,  1.0398],\n",
       "                      [-2.1274,  0.6964,  0.6915, -0.7288],\n",
       "                      [-0.8029,  1.7824, -0.2082, -0.7766]]),\n",
       "       ),\n",
       ")"
      ]
     },
     "execution_count": 12,
     "metadata": {},
     "output_type": "execute_result"
    }
   ],
   "source": [
    "new_value = torch.randn(2, 3)\n",
    "b.a = new_value\n",
    "\n",
    "b"
   ]
  },
  {
   "cell_type": "code",
   "execution_count": 13,
   "id": "29b1d0bf",
   "metadata": {
    "execution": {
     "iopub.execute_input": "2023-02-26T14:49:34.365601Z",
     "iopub.status.busy": "2023-02-26T14:49:34.365394Z",
     "iopub.status.idle": "2023-02-26T14:49:38.264977Z",
     "shell.execute_reply": "2023-02-26T14:49:38.264250Z"
    }
   },
   "outputs": [
    {
     "name": "stdout",
     "output_type": "stream",
     "text": [
      "480 ns ± 0.0897 ns per loop (mean ± std. dev. of 7 runs, 1,000,000 loops each)\n"
     ]
    }
   ],
   "source": [
    "%timeit b.a = new_value"
   ]
  },
  {
   "cell_type": "markdown",
   "id": "b61ad1d0",
   "metadata": {},
   "source": [
    "## Initialization"
   ]
  },
  {
   "cell_type": "markdown",
   "id": "d70f0d54",
   "metadata": {},
   "source": [
    "### TreeValue's Initialization"
   ]
  },
  {
   "cell_type": "code",
   "execution_count": 14,
   "id": "d32a679b",
   "metadata": {
    "execution": {
     "iopub.execute_input": "2023-02-26T14:49:38.268201Z",
     "iopub.status.busy": "2023-02-26T14:49:38.267844Z",
     "iopub.status.idle": "2023-02-26T14:49:45.531963Z",
     "shell.execute_reply": "2023-02-26T14:49:45.531274Z"
    }
   },
   "outputs": [
    {
     "name": "stdout",
     "output_type": "stream",
     "text": [
      "895 ns ± 0.169 ns per loop (mean ± std. dev. of 7 runs, 1,000,000 loops each)\n"
     ]
    }
   ],
   "source": [
    "%timeit FastTreeValue(_TREE_DATA_1)"
   ]
  },
  {
   "cell_type": "markdown",
   "id": "24f3707b",
   "metadata": {},
   "source": [
    "### Tianshou Batch's Initialization"
   ]
  },
  {
   "cell_type": "code",
   "execution_count": 15,
   "id": "ac3958df",
   "metadata": {
    "execution": {
     "iopub.execute_input": "2023-02-26T14:49:45.535051Z",
     "iopub.status.busy": "2023-02-26T14:49:45.534674Z",
     "iopub.status.idle": "2023-02-26T14:49:54.959201Z",
     "shell.execute_reply": "2023-02-26T14:49:54.958451Z"
    }
   },
   "outputs": [
    {
     "name": "stdout",
     "output_type": "stream",
     "text": [
      "11.6 µs ± 31.8 ns per loop (mean ± std. dev. of 7 runs, 100,000 loops each)\n"
     ]
    }
   ],
   "source": [
    "%timeit Batch(**_TREE_DATA_1)"
   ]
  },
  {
   "cell_type": "markdown",
   "id": "1ab82e2d",
   "metadata": {},
   "source": [
    "## Deep Copy Operation"
   ]
  },
  {
   "cell_type": "code",
   "execution_count": 16,
   "id": "210a9442",
   "metadata": {
    "execution": {
     "iopub.execute_input": "2023-02-26T14:49:54.962026Z",
     "iopub.status.busy": "2023-02-26T14:49:54.961686Z",
     "iopub.status.idle": "2023-02-26T14:49:54.964947Z",
     "shell.execute_reply": "2023-02-26T14:49:54.964149Z"
    }
   },
   "outputs": [],
   "source": [
    "import copy"
   ]
  },
  {
   "cell_type": "markdown",
   "id": "5a736274",
   "metadata": {},
   "source": [
    "### Deep Copy of TreeValue"
   ]
  },
  {
   "cell_type": "code",
   "execution_count": 17,
   "id": "f9bcadd6",
   "metadata": {
    "execution": {
     "iopub.execute_input": "2023-02-26T14:49:54.967552Z",
     "iopub.status.busy": "2023-02-26T14:49:54.967212Z",
     "iopub.status.idle": "2023-02-26T14:50:06.059027Z",
     "shell.execute_reply": "2023-02-26T14:50:06.058393Z"
    }
   },
   "outputs": [
    {
     "name": "stdout",
     "output_type": "stream",
     "text": [
      "137 µs ± 730 ns per loop (mean ± std. dev. of 7 runs, 10,000 loops each)\n"
     ]
    }
   ],
   "source": [
    "t3 = FastTreeValue(_TREE_DATA_3)\n",
    "%timeit copy.deepcopy(t3)"
   ]
  },
  {
   "cell_type": "markdown",
   "id": "bf8be7ea",
   "metadata": {},
   "source": [
    "### Deep Copy of Tianshou Batch"
   ]
  },
  {
   "cell_type": "code",
   "execution_count": 18,
   "id": "91998e6f",
   "metadata": {
    "execution": {
     "iopub.execute_input": "2023-02-26T14:50:06.063014Z",
     "iopub.status.busy": "2023-02-26T14:50:06.062023Z",
     "iopub.status.idle": "2023-02-26T14:50:17.282831Z",
     "shell.execute_reply": "2023-02-26T14:50:17.282225Z"
    }
   },
   "outputs": [
    {
     "name": "stdout",
     "output_type": "stream",
     "text": [
      "138 µs ± 544 ns per loop (mean ± std. dev. of 7 runs, 10,000 loops each)\n"
     ]
    }
   ],
   "source": [
    "b3 = Batch(**_TREE_DATA_3)\n",
    "%timeit copy.deepcopy(b3)"
   ]
  },
  {
   "cell_type": "markdown",
   "id": "223162fb",
   "metadata": {},
   "source": [
    "## Stack, Concat and Split Operation"
   ]
  },
  {
   "cell_type": "markdown",
   "id": "85fa4a73",
   "metadata": {},
   "source": [
    "### Performance of TreeValue"
   ]
  },
  {
   "cell_type": "code",
   "execution_count": 19,
   "id": "a0c2b697",
   "metadata": {
    "execution": {
     "iopub.execute_input": "2023-02-26T14:50:17.286803Z",
     "iopub.status.busy": "2023-02-26T14:50:17.285849Z",
     "iopub.status.idle": "2023-02-26T14:50:17.290130Z",
     "shell.execute_reply": "2023-02-26T14:50:17.289610Z"
    }
   },
   "outputs": [],
   "source": [
    "trees = [FastTreeValue(_TREE_DATA_2) for _ in range(8)]"
   ]
  },
  {
   "cell_type": "code",
   "execution_count": 20,
   "id": "017ea5a5",
   "metadata": {
    "execution": {
     "iopub.execute_input": "2023-02-26T14:50:17.292840Z",
     "iopub.status.busy": "2023-02-26T14:50:17.292456Z",
     "iopub.status.idle": "2023-02-26T14:50:17.299424Z",
     "shell.execute_reply": "2023-02-26T14:50:17.298911Z"
    }
   },
   "outputs": [
    {
     "data": {
      "text/plain": [
       "<FastTreeValue 0x7f71c0012100>\n",
       "├── 'a' --> tensor([[[-0.8520,  0.7400,  1.0168],\n",
       "│                    [-0.7716, -0.1605, -0.0578]],\n",
       "│           \n",
       "│                   [[-0.8520,  0.7400,  1.0168],\n",
       "│                    [-0.7716, -0.1605, -0.0578]],\n",
       "│           \n",
       "│                   [[-0.8520,  0.7400,  1.0168],\n",
       "│                    [-0.7716, -0.1605, -0.0578]],\n",
       "│           \n",
       "│                   [[-0.8520,  0.7400,  1.0168],\n",
       "│                    [-0.7716, -0.1605, -0.0578]],\n",
       "│           \n",
       "│                   [[-0.8520,  0.7400,  1.0168],\n",
       "│                    [-0.7716, -0.1605, -0.0578]],\n",
       "│           \n",
       "│                   [[-0.8520,  0.7400,  1.0168],\n",
       "│                    [-0.7716, -0.1605, -0.0578]],\n",
       "│           \n",
       "│                   [[-0.8520,  0.7400,  1.0168],\n",
       "│                    [-0.7716, -0.1605, -0.0578]],\n",
       "│           \n",
       "│                   [[-0.8520,  0.7400,  1.0168],\n",
       "│                    [-0.7716, -0.1605, -0.0578]]])\n",
       "└── 'x' --> <FastTreeValue 0x7f71c0012370>\n",
       "    └── 'c' --> tensor([[[ 0.0490, -1.2201,  0.3432,  1.0398],\n",
       "                         [-2.1274,  0.6964,  0.6915, -0.7288],\n",
       "                         [-0.8029,  1.7824, -0.2082, -0.7766]],\n",
       "                \n",
       "                        [[ 0.0490, -1.2201,  0.3432,  1.0398],\n",
       "                         [-2.1274,  0.6964,  0.6915, -0.7288],\n",
       "                         [-0.8029,  1.7824, -0.2082, -0.7766]],\n",
       "                \n",
       "                        [[ 0.0490, -1.2201,  0.3432,  1.0398],\n",
       "                         [-2.1274,  0.6964,  0.6915, -0.7288],\n",
       "                         [-0.8029,  1.7824, -0.2082, -0.7766]],\n",
       "                \n",
       "                        [[ 0.0490, -1.2201,  0.3432,  1.0398],\n",
       "                         [-2.1274,  0.6964,  0.6915, -0.7288],\n",
       "                         [-0.8029,  1.7824, -0.2082, -0.7766]],\n",
       "                \n",
       "                        [[ 0.0490, -1.2201,  0.3432,  1.0398],\n",
       "                         [-2.1274,  0.6964,  0.6915, -0.7288],\n",
       "                         [-0.8029,  1.7824, -0.2082, -0.7766]],\n",
       "                \n",
       "                        [[ 0.0490, -1.2201,  0.3432,  1.0398],\n",
       "                         [-2.1274,  0.6964,  0.6915, -0.7288],\n",
       "                         [-0.8029,  1.7824, -0.2082, -0.7766]],\n",
       "                \n",
       "                        [[ 0.0490, -1.2201,  0.3432,  1.0398],\n",
       "                         [-2.1274,  0.6964,  0.6915, -0.7288],\n",
       "                         [-0.8029,  1.7824, -0.2082, -0.7766]],\n",
       "                \n",
       "                        [[ 0.0490, -1.2201,  0.3432,  1.0398],\n",
       "                         [-2.1274,  0.6964,  0.6915, -0.7288],\n",
       "                         [-0.8029,  1.7824, -0.2082, -0.7766]]])"
      ]
     },
     "execution_count": 20,
     "metadata": {},
     "output_type": "execute_result"
    }
   ],
   "source": [
    "t_stack = FastTreeValue.func(subside=True)(torch.stack)\n",
    "\n",
    "t_stack(trees)"
   ]
  },
  {
   "cell_type": "code",
   "execution_count": 21,
   "id": "f8b3f415",
   "metadata": {
    "execution": {
     "iopub.execute_input": "2023-02-26T14:50:17.302213Z",
     "iopub.status.busy": "2023-02-26T14:50:17.301648Z",
     "iopub.status.idle": "2023-02-26T14:50:19.945112Z",
     "shell.execute_reply": "2023-02-26T14:50:19.944386Z"
    }
   },
   "outputs": [
    {
     "name": "stdout",
     "output_type": "stream",
     "text": [
      "32.5 µs ± 31.6 ns per loop (mean ± std. dev. of 7 runs, 10,000 loops each)\n"
     ]
    }
   ],
   "source": [
    "%timeit t_stack(trees)"
   ]
  },
  {
   "cell_type": "code",
   "execution_count": 22,
   "id": "94b56771",
   "metadata": {
    "execution": {
     "iopub.execute_input": "2023-02-26T14:50:19.948380Z",
     "iopub.status.busy": "2023-02-26T14:50:19.947793Z",
     "iopub.status.idle": "2023-02-26T14:50:19.956888Z",
     "shell.execute_reply": "2023-02-26T14:50:19.956283Z"
    }
   },
   "outputs": [
    {
     "data": {
      "text/plain": [
       "<FastTreeValue 0x7f71c008b9d0>\n",
       "├── 'a' --> tensor([[-0.8520,  0.7400,  1.0168],\n",
       "│                   [-0.7716, -0.1605, -0.0578],\n",
       "│                   [-0.8520,  0.7400,  1.0168],\n",
       "│                   [-0.7716, -0.1605, -0.0578],\n",
       "│                   [-0.8520,  0.7400,  1.0168],\n",
       "│                   [-0.7716, -0.1605, -0.0578],\n",
       "│                   [-0.8520,  0.7400,  1.0168],\n",
       "│                   [-0.7716, -0.1605, -0.0578],\n",
       "│                   [-0.8520,  0.7400,  1.0168],\n",
       "│                   [-0.7716, -0.1605, -0.0578],\n",
       "│                   [-0.8520,  0.7400,  1.0168],\n",
       "│                   [-0.7716, -0.1605, -0.0578],\n",
       "│                   [-0.8520,  0.7400,  1.0168],\n",
       "│                   [-0.7716, -0.1605, -0.0578],\n",
       "│                   [-0.8520,  0.7400,  1.0168],\n",
       "│                   [-0.7716, -0.1605, -0.0578]])\n",
       "└── 'x' --> <FastTreeValue 0x7f71c0016790>\n",
       "    └── 'c' --> tensor([[ 0.0490, -1.2201,  0.3432,  1.0398],\n",
       "                        [-2.1274,  0.6964,  0.6915, -0.7288],\n",
       "                        [-0.8029,  1.7824, -0.2082, -0.7766],\n",
       "                        [ 0.0490, -1.2201,  0.3432,  1.0398],\n",
       "                        [-2.1274,  0.6964,  0.6915, -0.7288],\n",
       "                        [-0.8029,  1.7824, -0.2082, -0.7766],\n",
       "                        [ 0.0490, -1.2201,  0.3432,  1.0398],\n",
       "                        [-2.1274,  0.6964,  0.6915, -0.7288],\n",
       "                        [-0.8029,  1.7824, -0.2082, -0.7766],\n",
       "                        [ 0.0490, -1.2201,  0.3432,  1.0398],\n",
       "                        [-2.1274,  0.6964,  0.6915, -0.7288],\n",
       "                        [-0.8029,  1.7824, -0.2082, -0.7766],\n",
       "                        [ 0.0490, -1.2201,  0.3432,  1.0398],\n",
       "                        [-2.1274,  0.6964,  0.6915, -0.7288],\n",
       "                        [-0.8029,  1.7824, -0.2082, -0.7766],\n",
       "                        [ 0.0490, -1.2201,  0.3432,  1.0398],\n",
       "                        [-2.1274,  0.6964,  0.6915, -0.7288],\n",
       "                        [-0.8029,  1.7824, -0.2082, -0.7766],\n",
       "                        [ 0.0490, -1.2201,  0.3432,  1.0398],\n",
       "                        [-2.1274,  0.6964,  0.6915, -0.7288],\n",
       "                        [-0.8029,  1.7824, -0.2082, -0.7766],\n",
       "                        [ 0.0490, -1.2201,  0.3432,  1.0398],\n",
       "                        [-2.1274,  0.6964,  0.6915, -0.7288],\n",
       "                        [-0.8029,  1.7824, -0.2082, -0.7766]])"
      ]
     },
     "execution_count": 22,
     "metadata": {},
     "output_type": "execute_result"
    }
   ],
   "source": [
    "t_cat = FastTreeValue.func(subside=True)(torch.cat)\n",
    "\n",
    "t_cat(trees)"
   ]
  },
  {
   "cell_type": "code",
   "execution_count": 23,
   "id": "5e9c06a6",
   "metadata": {
    "execution": {
     "iopub.execute_input": "2023-02-26T14:50:19.959864Z",
     "iopub.status.busy": "2023-02-26T14:50:19.959375Z",
     "iopub.status.idle": "2023-02-26T14:50:22.423079Z",
     "shell.execute_reply": "2023-02-26T14:50:22.422402Z"
    }
   },
   "outputs": [
    {
     "name": "stdout",
     "output_type": "stream",
     "text": [
      "30.3 µs ± 45.7 ns per loop (mean ± std. dev. of 7 runs, 10,000 loops each)\n"
     ]
    }
   ],
   "source": [
    "%timeit t_cat(trees)"
   ]
  },
  {
   "cell_type": "code",
   "execution_count": 24,
   "id": "a3ab5c8f",
   "metadata": {
    "execution": {
     "iopub.execute_input": "2023-02-26T14:50:22.426009Z",
     "iopub.status.busy": "2023-02-26T14:50:22.425663Z",
     "iopub.status.idle": "2023-02-26T14:50:27.172414Z",
     "shell.execute_reply": "2023-02-26T14:50:27.171689Z"
    }
   },
   "outputs": [
    {
     "name": "stdout",
     "output_type": "stream",
     "text": [
      "58.4 µs ± 77.5 ns per loop (mean ± std. dev. of 7 runs, 10,000 loops each)\n"
     ]
    }
   ],
   "source": [
    "t_split = FastTreeValue.func(rise=True)(torch.split)\n",
    "tree = FastTreeValue({\n",
    "    'obs': torch.randn(8, 4, 84, 84),\n",
    "    'action': torch.randint(0, 6, size=(8, 1,)),\n",
    "    'reward': torch.rand(8, 1),\n",
    "})\n",
    "\n",
    "%timeit t_split(tree, 1)"
   ]
  },
  {
   "cell_type": "markdown",
   "id": "31c3ec0b",
   "metadata": {},
   "source": [
    "### Performance of Tianshou Batch"
   ]
  },
  {
   "cell_type": "code",
   "execution_count": 25,
   "id": "9ead828a",
   "metadata": {
    "execution": {
     "iopub.execute_input": "2023-02-26T14:50:27.175441Z",
     "iopub.status.busy": "2023-02-26T14:50:27.175074Z",
     "iopub.status.idle": "2023-02-26T14:50:27.183349Z",
     "shell.execute_reply": "2023-02-26T14:50:27.182716Z"
    }
   },
   "outputs": [
    {
     "data": {
      "text/plain": [
       "Batch(\n",
       "    a: tensor([[[-0.8520,  0.7400,  1.0168],\n",
       "                [-0.7716, -0.1605, -0.0578]],\n",
       "       \n",
       "               [[-0.8520,  0.7400,  1.0168],\n",
       "                [-0.7716, -0.1605, -0.0578]],\n",
       "       \n",
       "               [[-0.8520,  0.7400,  1.0168],\n",
       "                [-0.7716, -0.1605, -0.0578]],\n",
       "       \n",
       "               [[-0.8520,  0.7400,  1.0168],\n",
       "                [-0.7716, -0.1605, -0.0578]],\n",
       "       \n",
       "               [[-0.8520,  0.7400,  1.0168],\n",
       "                [-0.7716, -0.1605, -0.0578]],\n",
       "       \n",
       "               [[-0.8520,  0.7400,  1.0168],\n",
       "                [-0.7716, -0.1605, -0.0578]],\n",
       "       \n",
       "               [[-0.8520,  0.7400,  1.0168],\n",
       "                [-0.7716, -0.1605, -0.0578]],\n",
       "       \n",
       "               [[-0.8520,  0.7400,  1.0168],\n",
       "                [-0.7716, -0.1605, -0.0578]]]),\n",
       "    x: Batch(\n",
       "           c: tensor([[[ 0.0490, -1.2201,  0.3432,  1.0398],\n",
       "                       [-2.1274,  0.6964,  0.6915, -0.7288],\n",
       "                       [-0.8029,  1.7824, -0.2082, -0.7766]],\n",
       "              \n",
       "                      [[ 0.0490, -1.2201,  0.3432,  1.0398],\n",
       "                       [-2.1274,  0.6964,  0.6915, -0.7288],\n",
       "                       [-0.8029,  1.7824, -0.2082, -0.7766]],\n",
       "              \n",
       "                      [[ 0.0490, -1.2201,  0.3432,  1.0398],\n",
       "                       [-2.1274,  0.6964,  0.6915, -0.7288],\n",
       "                       [-0.8029,  1.7824, -0.2082, -0.7766]],\n",
       "              \n",
       "                      [[ 0.0490, -1.2201,  0.3432,  1.0398],\n",
       "                       [-2.1274,  0.6964,  0.6915, -0.7288],\n",
       "                       [-0.8029,  1.7824, -0.2082, -0.7766]],\n",
       "              \n",
       "                      [[ 0.0490, -1.2201,  0.3432,  1.0398],\n",
       "                       [-2.1274,  0.6964,  0.6915, -0.7288],\n",
       "                       [-0.8029,  1.7824, -0.2082, -0.7766]],\n",
       "              \n",
       "                      [[ 0.0490, -1.2201,  0.3432,  1.0398],\n",
       "                       [-2.1274,  0.6964,  0.6915, -0.7288],\n",
       "                       [-0.8029,  1.7824, -0.2082, -0.7766]],\n",
       "              \n",
       "                      [[ 0.0490, -1.2201,  0.3432,  1.0398],\n",
       "                       [-2.1274,  0.6964,  0.6915, -0.7288],\n",
       "                       [-0.8029,  1.7824, -0.2082, -0.7766]],\n",
       "              \n",
       "                      [[ 0.0490, -1.2201,  0.3432,  1.0398],\n",
       "                       [-2.1274,  0.6964,  0.6915, -0.7288],\n",
       "                       [-0.8029,  1.7824, -0.2082, -0.7766]]]),\n",
       "       ),\n",
       ")"
      ]
     },
     "execution_count": 25,
     "metadata": {},
     "output_type": "execute_result"
    }
   ],
   "source": [
    "batches = [Batch(**_TREE_DATA_2) for _ in range(8)]\n",
    "\n",
    "Batch.stack(batches)"
   ]
  },
  {
   "cell_type": "code",
   "execution_count": 26,
   "id": "ec9037a3",
   "metadata": {
    "execution": {
     "iopub.execute_input": "2023-02-26T14:50:27.186125Z",
     "iopub.status.busy": "2023-02-26T14:50:27.185786Z",
     "iopub.status.idle": "2023-02-26T14:50:33.498360Z",
     "shell.execute_reply": "2023-02-26T14:50:33.497641Z"
    }
   },
   "outputs": [
    {
     "name": "stdout",
     "output_type": "stream",
     "text": [
      "77.6 µs ± 143 ns per loop (mean ± std. dev. of 7 runs, 10,000 loops each)\n"
     ]
    }
   ],
   "source": [
    "%timeit Batch.stack(batches)"
   ]
  },
  {
   "cell_type": "code",
   "execution_count": 27,
   "id": "cb8ab77e",
   "metadata": {
    "execution": {
     "iopub.execute_input": "2023-02-26T14:50:33.501416Z",
     "iopub.status.busy": "2023-02-26T14:50:33.500827Z",
     "iopub.status.idle": "2023-02-26T14:50:33.508263Z",
     "shell.execute_reply": "2023-02-26T14:50:33.507632Z"
    }
   },
   "outputs": [
    {
     "data": {
      "text/plain": [
       "Batch(\n",
       "    a: tensor([[-0.8520,  0.7400,  1.0168],\n",
       "               [-0.7716, -0.1605, -0.0578],\n",
       "               [-0.8520,  0.7400,  1.0168],\n",
       "               [-0.7716, -0.1605, -0.0578],\n",
       "               [-0.8520,  0.7400,  1.0168],\n",
       "               [-0.7716, -0.1605, -0.0578],\n",
       "               [-0.8520,  0.7400,  1.0168],\n",
       "               [-0.7716, -0.1605, -0.0578],\n",
       "               [-0.8520,  0.7400,  1.0168],\n",
       "               [-0.7716, -0.1605, -0.0578],\n",
       "               [-0.8520,  0.7400,  1.0168],\n",
       "               [-0.7716, -0.1605, -0.0578],\n",
       "               [-0.8520,  0.7400,  1.0168],\n",
       "               [-0.7716, -0.1605, -0.0578],\n",
       "               [-0.8520,  0.7400,  1.0168],\n",
       "               [-0.7716, -0.1605, -0.0578]]),\n",
       "    x: Batch(\n",
       "           c: tensor([[ 0.0490, -1.2201,  0.3432,  1.0398],\n",
       "                      [-2.1274,  0.6964,  0.6915, -0.7288],\n",
       "                      [-0.8029,  1.7824, -0.2082, -0.7766],\n",
       "                      [ 0.0490, -1.2201,  0.3432,  1.0398],\n",
       "                      [-2.1274,  0.6964,  0.6915, -0.7288],\n",
       "                      [-0.8029,  1.7824, -0.2082, -0.7766],\n",
       "                      [ 0.0490, -1.2201,  0.3432,  1.0398],\n",
       "                      [-2.1274,  0.6964,  0.6915, -0.7288],\n",
       "                      [-0.8029,  1.7824, -0.2082, -0.7766],\n",
       "                      [ 0.0490, -1.2201,  0.3432,  1.0398],\n",
       "                      [-2.1274,  0.6964,  0.6915, -0.7288],\n",
       "                      [-0.8029,  1.7824, -0.2082, -0.7766],\n",
       "                      [ 0.0490, -1.2201,  0.3432,  1.0398],\n",
       "                      [-2.1274,  0.6964,  0.6915, -0.7288],\n",
       "                      [-0.8029,  1.7824, -0.2082, -0.7766],\n",
       "                      [ 0.0490, -1.2201,  0.3432,  1.0398],\n",
       "                      [-2.1274,  0.6964,  0.6915, -0.7288],\n",
       "                      [-0.8029,  1.7824, -0.2082, -0.7766],\n",
       "                      [ 0.0490, -1.2201,  0.3432,  1.0398],\n",
       "                      [-2.1274,  0.6964,  0.6915, -0.7288],\n",
       "                      [-0.8029,  1.7824, -0.2082, -0.7766],\n",
       "                      [ 0.0490, -1.2201,  0.3432,  1.0398],\n",
       "                      [-2.1274,  0.6964,  0.6915, -0.7288],\n",
       "                      [-0.8029,  1.7824, -0.2082, -0.7766]]),\n",
       "       ),\n",
       ")"
      ]
     },
     "execution_count": 27,
     "metadata": {},
     "output_type": "execute_result"
    }
   ],
   "source": [
    "Batch.cat(batches)"
   ]
  },
  {
   "cell_type": "code",
   "execution_count": 28,
   "id": "18dfb045",
   "metadata": {
    "execution": {
     "iopub.execute_input": "2023-02-26T14:50:33.510570Z",
     "iopub.status.busy": "2023-02-26T14:50:33.510362Z",
     "iopub.status.idle": "2023-02-26T14:50:45.007347Z",
     "shell.execute_reply": "2023-02-26T14:50:45.006573Z"
    }
   },
   "outputs": [
    {
     "name": "stdout",
     "output_type": "stream",
     "text": [
      "142 µs ± 247 ns per loop (mean ± std. dev. of 7 runs, 10,000 loops each)\n"
     ]
    }
   ],
   "source": [
    "%timeit Batch.cat(batches)"
   ]
  },
  {
   "cell_type": "code",
   "execution_count": 29,
   "id": "c6688e51",
   "metadata": {
    "execution": {
     "iopub.execute_input": "2023-02-26T14:50:45.010129Z",
     "iopub.status.busy": "2023-02-26T14:50:45.009787Z",
     "iopub.status.idle": "2023-02-26T14:50:47.625269Z",
     "shell.execute_reply": "2023-02-26T14:50:47.624686Z"
    }
   },
   "outputs": [
    {
     "name": "stdout",
     "output_type": "stream",
     "text": [
      "321 µs ± 2.91 µs per loop (mean ± std. dev. of 7 runs, 1,000 loops each)\n"
     ]
    }
   ],
   "source": [
    "batch = Batch({\n",
    "    'obs': torch.randn(8, 4, 84, 84),\n",
    "    'action': torch.randint(0, 6, size=(8, 1,)),\n",
    "    'reward': torch.rand(8, 1)}\n",
    ")\n",
    "\n",
    "%timeit list(Batch.split(batch, 1, shuffle=False, merge_last=True))"
   ]
  },
  {
   "cell_type": "code",
   "execution_count": null,
   "id": "2539fbd9",
   "metadata": {},
   "outputs": [],
   "source": []
  }
 ],
 "metadata": {
  "kernelspec": {
   "display_name": "Python 3 (ipykernel)",
   "language": "python",
   "name": "python3"
  },
  "language_info": {
   "codemirror_mode": {
    "name": "ipython",
    "version": 3
   },
   "file_extension": ".py",
   "mimetype": "text/x-python",
   "name": "python",
   "nbconvert_exporter": "python",
   "pygments_lexer": "ipython3",
   "version": "3.8.16"
  }
 },
 "nbformat": 4,
 "nbformat_minor": 5
}
