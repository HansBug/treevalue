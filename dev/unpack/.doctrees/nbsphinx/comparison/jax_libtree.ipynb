{
 "cells": [
  {
   "cell_type": "markdown",
   "id": "1a1cab6c",
   "metadata": {},
   "source": [
    "# Comparison Between TreeValue and Jax LibTree"
   ]
  },
  {
   "cell_type": "markdown",
   "id": "a9426f1e",
   "metadata": {},
   "source": [
    "In this section, we will take a look at the feature and performance of the [jax-libtree](https://jax.readthedocs.io/en/latest/pytrees.html) library, which is developed by Google."
   ]
  },
  {
   "cell_type": "code",
   "execution_count": 1,
   "id": "0f4b6d16",
   "metadata": {
    "execution": {
     "iopub.execute_input": "2023-02-27T12:22:40.161924Z",
     "iopub.status.busy": "2023-02-27T12:22:40.161314Z",
     "iopub.status.idle": "2023-02-27T12:22:40.170428Z",
     "shell.execute_reply": "2023-02-27T12:22:40.169728Z"
    }
   },
   "outputs": [],
   "source": [
    "_TREE_DATA_1 = {'a': 1, 'b': 2, 'x': {'c': 3, 'd': 4}}"
   ]
  },
  {
   "cell_type": "markdown",
   "id": "b1085059",
   "metadata": {},
   "source": [
    "## Mapping Operation"
   ]
  },
  {
   "cell_type": "markdown",
   "id": "4ded33f7",
   "metadata": {},
   "source": [
    "### TreeValue's Mapping"
   ]
  },
  {
   "cell_type": "code",
   "execution_count": 2,
   "id": "aa9abbed",
   "metadata": {
    "execution": {
     "iopub.execute_input": "2023-02-27T12:22:40.173328Z",
     "iopub.status.busy": "2023-02-27T12:22:40.173100Z",
     "iopub.status.idle": "2023-02-27T12:22:41.412669Z",
     "shell.execute_reply": "2023-02-27T12:22:41.411988Z"
    }
   },
   "outputs": [
    {
     "name": "stderr",
     "output_type": "stream",
     "text": [
      "/opt/hostedtoolcache/Python/3.8.16/x64/lib/python3.8/site-packages/tqdm/auto.py:22: TqdmWarning: IProgress not found. Please update jupyter and ipywidgets. See https://ipywidgets.readthedocs.io/en/stable/user_install.html\n",
      "  from .autonotebook import tqdm as notebook_tqdm\n"
     ]
    },
    {
     "data": {
      "text/plain": [
       "<FastTreeValue 0x7fd548320610>\n",
       "├── 'a' --> 1\n",
       "├── 'b' --> 4\n",
       "└── 'x' --> <FastTreeValue 0x7fd548320e80>\n",
       "    ├── 'c' --> 9\n",
       "    └── 'd' --> 16"
      ]
     },
     "execution_count": 2,
     "metadata": {},
     "output_type": "execute_result"
    }
   ],
   "source": [
    "from treevalue import mapping, FastTreeValue\n",
    "\n",
    "t = FastTreeValue(_TREE_DATA_1)\n",
    "mapping(t, lambda x: x ** 2)"
   ]
  },
  {
   "cell_type": "code",
   "execution_count": 3,
   "id": "4dc3420b",
   "metadata": {
    "execution": {
     "iopub.execute_input": "2023-02-27T12:22:41.415855Z",
     "iopub.status.busy": "2023-02-27T12:22:41.415209Z",
     "iopub.status.idle": "2023-02-27T12:22:44.055351Z",
     "shell.execute_reply": "2023-02-27T12:22:44.054525Z"
    }
   },
   "outputs": [
    {
     "name": "stdout",
     "output_type": "stream",
     "text": [
      "3.25 µs ± 2.69 ns per loop (mean ± std. dev. of 7 runs, 100,000 loops each)\n"
     ]
    }
   ],
   "source": [
    "%timeit mapping(t, lambda x: x ** 2)"
   ]
  },
  {
   "cell_type": "code",
   "execution_count": 4,
   "id": "289e14c6",
   "metadata": {
    "execution": {
     "iopub.execute_input": "2023-02-27T12:22:44.058230Z",
     "iopub.status.busy": "2023-02-27T12:22:44.057977Z",
     "iopub.status.idle": "2023-02-27T12:22:44.064793Z",
     "shell.execute_reply": "2023-02-27T12:22:44.064148Z"
    }
   },
   "outputs": [
    {
     "data": {
      "text/plain": [
       "<FastTreeValue 0x7fd548320940>\n",
       "├── 'a' --> (1, ('a',))\n",
       "├── 'b' --> (4, ('b',))\n",
       "└── 'x' --> <FastTreeValue 0x7fd548320cd0>\n",
       "    ├── 'c' --> (9, ('x', 'c'))\n",
       "    └── 'd' --> (16, ('x', 'd'))"
      ]
     },
     "execution_count": 4,
     "metadata": {},
     "output_type": "execute_result"
    }
   ],
   "source": [
    "mapping(t, lambda x, p: (x ** 2, p))"
   ]
  },
  {
   "cell_type": "code",
   "execution_count": 5,
   "id": "fce10189",
   "metadata": {
    "execution": {
     "iopub.execute_input": "2023-02-27T12:22:44.067162Z",
     "iopub.status.busy": "2023-02-27T12:22:44.066938Z",
     "iopub.status.idle": "2023-02-27T12:22:46.894655Z",
     "shell.execute_reply": "2023-02-27T12:22:46.893750Z"
    }
   },
   "outputs": [
    {
     "name": "stdout",
     "output_type": "stream",
     "text": [
      "3.47 µs ± 8.68 ns per loop (mean ± std. dev. of 7 runs, 100,000 loops each)\n"
     ]
    }
   ],
   "source": [
    "%timeit mapping(t, lambda x, p: (x ** 2, p))"
   ]
  },
  {
   "cell_type": "markdown",
   "id": "18d4346d",
   "metadata": {},
   "source": [
    "### pytree's tree_map"
   ]
  },
  {
   "cell_type": "code",
   "execution_count": 6,
   "id": "91b8e706",
   "metadata": {
    "execution": {
     "iopub.execute_input": "2023-02-27T12:22:46.898012Z",
     "iopub.status.busy": "2023-02-27T12:22:46.897598Z",
     "iopub.status.idle": "2023-02-27T12:22:46.904570Z",
     "shell.execute_reply": "2023-02-27T12:22:46.903804Z"
    }
   },
   "outputs": [
    {
     "data": {
      "text/plain": [
       "{'a': 1, 'b': 4, 'x': {'c': 9, 'd': 16}}"
      ]
     },
     "execution_count": 6,
     "metadata": {},
     "output_type": "execute_result"
    }
   ],
   "source": [
    "from jax.tree_util import tree_map\n",
    "\n",
    "tree_map(lambda x: x ** 2, _TREE_DATA_1)"
   ]
  },
  {
   "cell_type": "code",
   "execution_count": 7,
   "id": "41fa094b",
   "metadata": {
    "execution": {
     "iopub.execute_input": "2023-02-27T12:22:46.907845Z",
     "iopub.status.busy": "2023-02-27T12:22:46.907496Z",
     "iopub.status.idle": "2023-02-27T12:22:51.636453Z",
     "shell.execute_reply": "2023-02-27T12:22:51.635757Z"
    }
   },
   "outputs": [
    {
     "name": "stdout",
     "output_type": "stream",
     "text": [
      "5.81 µs ± 19.2 ns per loop (mean ± std. dev. of 7 runs, 100,000 loops each)\n"
     ]
    }
   ],
   "source": [
    "%timeit tree_map(lambda x: x ** 2, _TREE_DATA_1)"
   ]
  },
  {
   "cell_type": "markdown",
   "id": "36191201",
   "metadata": {},
   "source": [
    "## Flatten and Unflatten Operation"
   ]
  },
  {
   "cell_type": "markdown",
   "id": "a733f250",
   "metadata": {},
   "source": [
    "### TreeValue's Performance"
   ]
  },
  {
   "cell_type": "code",
   "execution_count": 8,
   "id": "676f03c0",
   "metadata": {
    "execution": {
     "iopub.execute_input": "2023-02-27T12:22:51.639445Z",
     "iopub.status.busy": "2023-02-27T12:22:51.639156Z",
     "iopub.status.idle": "2023-02-27T12:22:51.648497Z",
     "shell.execute_reply": "2023-02-27T12:22:51.647630Z"
    }
   },
   "outputs": [
    {
     "data": {
      "text/plain": [
       "[(('a',), 1), (('b',), 2), (('x', 'c'), 3), (('x', 'd'), 4)]"
      ]
     },
     "execution_count": 8,
     "metadata": {},
     "output_type": "execute_result"
    }
   ],
   "source": [
    "from treevalue import flatten, flatten_keys, flatten_values\n",
    "\n",
    "t_flatted = flatten(t)\n",
    "t_flatted"
   ]
  },
  {
   "cell_type": "code",
   "execution_count": 9,
   "id": "7ca0363d",
   "metadata": {
    "execution": {
     "iopub.execute_input": "2023-02-27T12:22:51.652150Z",
     "iopub.status.busy": "2023-02-27T12:22:51.651895Z",
     "iopub.status.idle": "2023-02-27T12:22:57.520984Z",
     "shell.execute_reply": "2023-02-27T12:22:57.520059Z"
    }
   },
   "outputs": [
    {
     "name": "stdout",
     "output_type": "stream",
     "text": [
      "724 ns ± 12 ns per loop (mean ± std. dev. of 7 runs, 1,000,000 loops each)\n"
     ]
    }
   ],
   "source": [
    "%timeit flatten(t)"
   ]
  },
  {
   "cell_type": "code",
   "execution_count": 10,
   "id": "62d3bd2d",
   "metadata": {
    "execution": {
     "iopub.execute_input": "2023-02-27T12:22:57.524340Z",
     "iopub.status.busy": "2023-02-27T12:22:57.523682Z",
     "iopub.status.idle": "2023-02-27T12:22:57.530065Z",
     "shell.execute_reply": "2023-02-27T12:22:57.529418Z"
    }
   },
   "outputs": [
    {
     "data": {
      "text/plain": [
       "[('a',), ('b',), ('x', 'c'), ('x', 'd')]"
      ]
     },
     "execution_count": 10,
     "metadata": {},
     "output_type": "execute_result"
    }
   ],
   "source": [
    "from treevalue import flatten_keys\n",
    "\n",
    "flatten_keys(t)"
   ]
  },
  {
   "cell_type": "code",
   "execution_count": 11,
   "id": "58fbf8c4",
   "metadata": {
    "execution": {
     "iopub.execute_input": "2023-02-27T12:22:57.532778Z",
     "iopub.status.busy": "2023-02-27T12:22:57.532398Z",
     "iopub.status.idle": "2023-02-27T12:23:02.775580Z",
     "shell.execute_reply": "2023-02-27T12:23:02.774812Z"
    }
   },
   "outputs": [
    {
     "name": "stdout",
     "output_type": "stream",
     "text": [
      "642 ns ± 5.99 ns per loop (mean ± std. dev. of 7 runs, 1,000,000 loops each)\n"
     ]
    }
   ],
   "source": [
    "%timeit flatten_keys(t)"
   ]
  },
  {
   "cell_type": "code",
   "execution_count": 12,
   "id": "1448e341",
   "metadata": {
    "execution": {
     "iopub.execute_input": "2023-02-27T12:23:02.778507Z",
     "iopub.status.busy": "2023-02-27T12:23:02.777946Z",
     "iopub.status.idle": "2023-02-27T12:23:02.783940Z",
     "shell.execute_reply": "2023-02-27T12:23:02.783323Z"
    }
   },
   "outputs": [
    {
     "data": {
      "text/plain": [
       "[1, 2, 3, 4]"
      ]
     },
     "execution_count": 12,
     "metadata": {},
     "output_type": "execute_result"
    }
   ],
   "source": [
    "from treevalue import flatten_values\n",
    "\n",
    "flatten_values(t)"
   ]
  },
  {
   "cell_type": "code",
   "execution_count": 13,
   "id": "956cf1c1",
   "metadata": {
    "execution": {
     "iopub.execute_input": "2023-02-27T12:23:02.786416Z",
     "iopub.status.busy": "2023-02-27T12:23:02.786064Z",
     "iopub.status.idle": "2023-02-27T12:23:06.676028Z",
     "shell.execute_reply": "2023-02-27T12:23:06.675285Z"
    }
   },
   "outputs": [
    {
     "name": "stdout",
     "output_type": "stream",
     "text": [
      "475 ns ± 5.53 ns per loop (mean ± std. dev. of 7 runs, 1,000,000 loops each)\n"
     ]
    }
   ],
   "source": [
    "%timeit flatten_values(t)"
   ]
  },
  {
   "cell_type": "code",
   "execution_count": 14,
   "id": "f35e3a6d",
   "metadata": {
    "execution": {
     "iopub.execute_input": "2023-02-27T12:23:06.678719Z",
     "iopub.status.busy": "2023-02-27T12:23:06.678356Z",
     "iopub.status.idle": "2023-02-27T12:23:06.684404Z",
     "shell.execute_reply": "2023-02-27T12:23:06.683811Z"
    }
   },
   "outputs": [
    {
     "data": {
      "text/plain": [
       "<TreeValue 0x7fd548378fd0>\n",
       "├── 'a' --> 1\n",
       "├── 'b' --> 2\n",
       "└── 'x' --> <TreeValue 0x7fd548378d90>\n",
       "    ├── 'c' --> 3\n",
       "    └── 'd' --> 4"
      ]
     },
     "execution_count": 14,
     "metadata": {},
     "output_type": "execute_result"
    }
   ],
   "source": [
    "from treevalue import unflatten\n",
    "\n",
    "unflatten(t_flatted)"
   ]
  },
  {
   "cell_type": "code",
   "execution_count": 15,
   "id": "52980ab8",
   "metadata": {
    "execution": {
     "iopub.execute_input": "2023-02-27T12:23:06.686844Z",
     "iopub.status.busy": "2023-02-27T12:23:06.686481Z",
     "iopub.status.idle": "2023-02-27T12:23:13.670880Z",
     "shell.execute_reply": "2023-02-27T12:23:13.670123Z"
    }
   },
   "outputs": [
    {
     "name": "stdout",
     "output_type": "stream",
     "text": [
      "860 ns ± 5.43 ns per loop (mean ± std. dev. of 7 runs, 1,000,000 loops each)\n"
     ]
    }
   ],
   "source": [
    "%timeit unflatten(t_flatted)"
   ]
  },
  {
   "cell_type": "markdown",
   "id": "0ff80a6c",
   "metadata": {},
   "source": [
    "### pytree's Performance"
   ]
  },
  {
   "cell_type": "code",
   "execution_count": 16,
   "id": "e89fc565",
   "metadata": {
    "execution": {
     "iopub.execute_input": "2023-02-27T12:23:13.673759Z",
     "iopub.status.busy": "2023-02-27T12:23:13.673393Z",
     "iopub.status.idle": "2023-02-27T12:23:13.678418Z",
     "shell.execute_reply": "2023-02-27T12:23:13.677812Z"
    }
   },
   "outputs": [
    {
     "name": "stdout",
     "output_type": "stream",
     "text": [
      "Leaves: [1, 2, 3, 4]\n",
      "Treedef: PyTreeDef({'a': *, 'b': *, 'x': {'c': *, 'd': *}})\n"
     ]
    }
   ],
   "source": [
    "from jax.tree_util import tree_flatten\n",
    "\n",
    "leaves, treedef = tree_flatten(_TREE_DATA_1)\n",
    "print('Leaves:', leaves)\n",
    "print('Treedef:', treedef)"
   ]
  },
  {
   "cell_type": "code",
   "execution_count": 17,
   "id": "5d59c4d3",
   "metadata": {
    "execution": {
     "iopub.execute_input": "2023-02-27T12:23:13.680939Z",
     "iopub.status.busy": "2023-02-27T12:23:13.680577Z",
     "iopub.status.idle": "2023-02-27T12:23:29.594245Z",
     "shell.execute_reply": "2023-02-27T12:23:29.593559Z"
    }
   },
   "outputs": [
    {
     "name": "stdout",
     "output_type": "stream",
     "text": [
      "1.96 µs ± 1.56 ns per loop (mean ± std. dev. of 7 runs, 1,000,000 loops each)\n"
     ]
    }
   ],
   "source": [
    "%timeit tree_flatten(_TREE_DATA_1)"
   ]
  },
  {
   "cell_type": "code",
   "execution_count": 18,
   "id": "bcb1318c",
   "metadata": {
    "execution": {
     "iopub.execute_input": "2023-02-27T12:23:29.596788Z",
     "iopub.status.busy": "2023-02-27T12:23:29.596564Z",
     "iopub.status.idle": "2023-02-27T12:23:29.601701Z",
     "shell.execute_reply": "2023-02-27T12:23:29.600982Z"
    }
   },
   "outputs": [
    {
     "data": {
      "text/plain": [
       "{'a': 1, 'b': 2, 'x': {'c': 3, 'd': 4}}"
      ]
     },
     "execution_count": 18,
     "metadata": {},
     "output_type": "execute_result"
    }
   ],
   "source": [
    "from jax.tree_util import tree_unflatten\n",
    "\n",
    "tree_unflatten(treedef, leaves)"
   ]
  },
  {
   "cell_type": "code",
   "execution_count": 19,
   "id": "638b5144",
   "metadata": {
    "execution": {
     "iopub.execute_input": "2023-02-27T12:23:29.604312Z",
     "iopub.status.busy": "2023-02-27T12:23:29.604100Z",
     "iopub.status.idle": "2023-02-27T12:23:37.393597Z",
     "shell.execute_reply": "2023-02-27T12:23:37.392771Z"
    }
   },
   "outputs": [
    {
     "name": "stdout",
     "output_type": "stream",
     "text": [
      "960 ns ± 6.15 ns per loop (mean ± std. dev. of 7 runs, 1,000,000 loops each)\n"
     ]
    }
   ],
   "source": [
    "%timeit tree_unflatten(treedef, leaves)"
   ]
  },
  {
   "cell_type": "markdown",
   "id": "ffd1522b",
   "metadata": {},
   "source": [
    "## All Operation"
   ]
  },
  {
   "cell_type": "markdown",
   "id": "112c91a1",
   "metadata": {},
   "source": [
    "### TreeValue's Performance"
   ]
  },
  {
   "cell_type": "code",
   "execution_count": 20,
   "id": "1b9c1c51",
   "metadata": {
    "execution": {
     "iopub.execute_input": "2023-02-27T12:23:37.396885Z",
     "iopub.status.busy": "2023-02-27T12:23:37.396311Z",
     "iopub.status.idle": "2023-02-27T12:23:37.402112Z",
     "shell.execute_reply": "2023-02-27T12:23:37.401546Z"
    }
   },
   "outputs": [
    {
     "data": {
      "text/plain": [
       "True"
      ]
     },
     "execution_count": 20,
     "metadata": {},
     "output_type": "execute_result"
    }
   ],
   "source": [
    "all(flatten_values(t))"
   ]
  },
  {
   "cell_type": "code",
   "execution_count": 21,
   "id": "fb8b0b2d",
   "metadata": {
    "execution": {
     "iopub.execute_input": "2023-02-27T12:23:37.404663Z",
     "iopub.status.busy": "2023-02-27T12:23:37.404319Z",
     "iopub.status.idle": "2023-02-27T12:23:42.259031Z",
     "shell.execute_reply": "2023-02-27T12:23:42.258264Z"
    }
   },
   "outputs": [
    {
     "name": "stdout",
     "output_type": "stream",
     "text": [
      "597 ns ± 0.209 ns per loop (mean ± std. dev. of 7 runs, 1,000,000 loops each)\n"
     ]
    }
   ],
   "source": [
    "%timeit all(flatten_values(t))"
   ]
  },
  {
   "cell_type": "markdown",
   "id": "86462abd",
   "metadata": {},
   "source": [
    "### pytree.tree_all's performance"
   ]
  },
  {
   "cell_type": "code",
   "execution_count": 22,
   "id": "64d39484",
   "metadata": {
    "execution": {
     "iopub.execute_input": "2023-02-27T12:23:42.262156Z",
     "iopub.status.busy": "2023-02-27T12:23:42.261566Z",
     "iopub.status.idle": "2023-02-27T12:23:42.265642Z",
     "shell.execute_reply": "2023-02-27T12:23:42.265047Z"
    }
   },
   "outputs": [],
   "source": [
    "from jax.tree_util import tree_all"
   ]
  },
  {
   "cell_type": "code",
   "execution_count": 23,
   "id": "6a8427db",
   "metadata": {
    "execution": {
     "iopub.execute_input": "2023-02-27T12:23:42.268206Z",
     "iopub.status.busy": "2023-02-27T12:23:42.267893Z",
     "iopub.status.idle": "2023-02-27T12:23:42.273508Z",
     "shell.execute_reply": "2023-02-27T12:23:42.272935Z"
    }
   },
   "outputs": [
    {
     "data": {
      "text/plain": [
       "True"
      ]
     },
     "execution_count": 23,
     "metadata": {},
     "output_type": "execute_result"
    }
   ],
   "source": [
    "tree_all(_TREE_DATA_1)"
   ]
  },
  {
   "cell_type": "code",
   "execution_count": 24,
   "id": "e4a4cd59",
   "metadata": {
    "execution": {
     "iopub.execute_input": "2023-02-27T12:23:42.275822Z",
     "iopub.status.busy": "2023-02-27T12:23:42.275471Z",
     "iopub.status.idle": "2023-02-27T12:23:44.074316Z",
     "shell.execute_reply": "2023-02-27T12:23:44.073625Z"
    }
   },
   "outputs": [
    {
     "name": "stdout",
     "output_type": "stream",
     "text": [
      "2.21 µs ± 4.21 ns per loop (mean ± std. dev. of 7 runs, 100,000 loops each)\n"
     ]
    }
   ],
   "source": [
    "%timeit tree_all(_TREE_DATA_1)"
   ]
  },
  {
   "cell_type": "markdown",
   "id": "f0221182",
   "metadata": {},
   "source": [
    "## Reduce Operation"
   ]
  },
  {
   "cell_type": "markdown",
   "id": "646b4a2e",
   "metadata": {},
   "source": [
    "### TreeValue's Reduce"
   ]
  },
  {
   "cell_type": "code",
   "execution_count": 25,
   "id": "105e9001",
   "metadata": {
    "execution": {
     "iopub.execute_input": "2023-02-27T12:23:44.077425Z",
     "iopub.status.busy": "2023-02-27T12:23:44.076859Z",
     "iopub.status.idle": "2023-02-27T12:23:44.083288Z",
     "shell.execute_reply": "2023-02-27T12:23:44.082699Z"
    }
   },
   "outputs": [
    {
     "data": {
      "text/plain": [
       "10"
      ]
     },
     "execution_count": 25,
     "metadata": {},
     "output_type": "execute_result"
    }
   ],
   "source": [
    "from functools import reduce\n",
    "\n",
    "def _flatten_reduce(tree):\n",
    "    values = flatten_values(tree)\n",
    "    return reduce(lambda x, y: x + y, values)\n",
    "\n",
    "_flatten_reduce(t)"
   ]
  },
  {
   "cell_type": "code",
   "execution_count": 26,
   "id": "71c145c0",
   "metadata": {
    "execution": {
     "iopub.execute_input": "2023-02-27T12:23:44.086158Z",
     "iopub.status.busy": "2023-02-27T12:23:44.085663Z",
     "iopub.status.idle": "2023-02-27T12:23:53.429337Z",
     "shell.execute_reply": "2023-02-27T12:23:53.428581Z"
    }
   },
   "outputs": [
    {
     "name": "stdout",
     "output_type": "stream",
     "text": [
      "1.15 µs ± 7.02 ns per loop (mean ± std. dev. of 7 runs, 1,000,000 loops each)\n"
     ]
    }
   ],
   "source": [
    "%timeit _flatten_reduce(t)"
   ]
  },
  {
   "cell_type": "code",
   "execution_count": 27,
   "id": "20b34964",
   "metadata": {
    "execution": {
     "iopub.execute_input": "2023-02-27T12:23:53.432108Z",
     "iopub.status.busy": "2023-02-27T12:23:53.431757Z",
     "iopub.status.idle": "2023-02-27T12:23:53.438030Z",
     "shell.execute_reply": "2023-02-27T12:23:53.437456Z"
    }
   },
   "outputs": [
    {
     "data": {
      "text/plain": [
       "10"
      ]
     },
     "execution_count": 27,
     "metadata": {},
     "output_type": "execute_result"
    }
   ],
   "source": [
    "def _flatten_reduce_with_init(tree):\n",
    "    values = flatten_values(tree)\n",
    "    return reduce(lambda x, y: x + y, values, 0)\n",
    "\n",
    "_flatten_reduce_with_init(t)"
   ]
  },
  {
   "cell_type": "code",
   "execution_count": 28,
   "id": "ca8562c5",
   "metadata": {
    "execution": {
     "iopub.execute_input": "2023-02-27T12:23:53.440337Z",
     "iopub.status.busy": "2023-02-27T12:23:53.439990Z",
     "iopub.status.idle": "2023-02-27T12:24:03.636458Z",
     "shell.execute_reply": "2023-02-27T12:24:03.635789Z"
    }
   },
   "outputs": [
    {
     "name": "stdout",
     "output_type": "stream",
     "text": [
      "1.25 µs ± 11.7 ns per loop (mean ± std. dev. of 7 runs, 1,000,000 loops each)\n"
     ]
    }
   ],
   "source": [
    "%timeit _flatten_reduce_with_init(t)"
   ]
  },
  {
   "cell_type": "markdown",
   "id": "12b2a28a",
   "metadata": {},
   "source": [
    "### pytree.tree_reduce"
   ]
  },
  {
   "cell_type": "code",
   "execution_count": 29,
   "id": "14e9237e",
   "metadata": {
    "execution": {
     "iopub.execute_input": "2023-02-27T12:24:03.639649Z",
     "iopub.status.busy": "2023-02-27T12:24:03.639111Z",
     "iopub.status.idle": "2023-02-27T12:24:03.645326Z",
     "shell.execute_reply": "2023-02-27T12:24:03.644733Z"
    }
   },
   "outputs": [
    {
     "data": {
      "text/plain": [
       "10"
      ]
     },
     "execution_count": 29,
     "metadata": {},
     "output_type": "execute_result"
    }
   ],
   "source": [
    "from jax.tree_util import tree_reduce\n",
    "\n",
    "tree_reduce(lambda x, y: x + y, _TREE_DATA_1)"
   ]
  },
  {
   "cell_type": "code",
   "execution_count": 30,
   "id": "f6c5cfda",
   "metadata": {
    "execution": {
     "iopub.execute_input": "2023-02-27T12:24:03.648160Z",
     "iopub.status.busy": "2023-02-27T12:24:03.647671Z",
     "iopub.status.idle": "2023-02-27T12:24:05.990742Z",
     "shell.execute_reply": "2023-02-27T12:24:05.989974Z"
    }
   },
   "outputs": [
    {
     "name": "stdout",
     "output_type": "stream",
     "text": [
      "2.88 µs ± 7.87 ns per loop (mean ± std. dev. of 7 runs, 100,000 loops each)\n"
     ]
    }
   ],
   "source": [
    "%timeit tree_reduce(lambda x, y: x + y, _TREE_DATA_1)"
   ]
  },
  {
   "cell_type": "code",
   "execution_count": 31,
   "id": "e79fb73b",
   "metadata": {
    "execution": {
     "iopub.execute_input": "2023-02-27T12:24:05.993442Z",
     "iopub.status.busy": "2023-02-27T12:24:05.993083Z",
     "iopub.status.idle": "2023-02-27T12:24:05.999090Z",
     "shell.execute_reply": "2023-02-27T12:24:05.998485Z"
    }
   },
   "outputs": [
    {
     "data": {
      "text/plain": [
       "10"
      ]
     },
     "execution_count": 31,
     "metadata": {},
     "output_type": "execute_result"
    }
   ],
   "source": [
    "tree_reduce(lambda x, y: x + y, _TREE_DATA_1, 0)"
   ]
  },
  {
   "cell_type": "code",
   "execution_count": 32,
   "id": "af47dd74",
   "metadata": {
    "execution": {
     "iopub.execute_input": "2023-02-27T12:24:06.001757Z",
     "iopub.status.busy": "2023-02-27T12:24:06.001404Z",
     "iopub.status.idle": "2023-02-27T12:24:08.478387Z",
     "shell.execute_reply": "2023-02-27T12:24:08.477470Z"
    }
   },
   "outputs": [
    {
     "name": "stdout",
     "output_type": "stream",
     "text": [
      "3.04 µs ± 8.22 ns per loop (mean ± std. dev. of 7 runs, 100,000 loops each)\n"
     ]
    }
   ],
   "source": [
    "%timeit tree_reduce(lambda x, y: x + y, _TREE_DATA_1, 0)"
   ]
  },
  {
   "cell_type": "markdown",
   "id": "6e58b70f",
   "metadata": {},
   "source": [
    "## Structure Transpose"
   ]
  },
  {
   "cell_type": "markdown",
   "id": "a4a31f9e",
   "metadata": {},
   "source": [
    "### Subside and Rise in TreeValue"
   ]
  },
  {
   "cell_type": "code",
   "execution_count": 33,
   "id": "b6af689f",
   "metadata": {
    "execution": {
     "iopub.execute_input": "2023-02-27T12:24:08.482265Z",
     "iopub.status.busy": "2023-02-27T12:24:08.481610Z",
     "iopub.status.idle": "2023-02-27T12:24:08.491219Z",
     "shell.execute_reply": "2023-02-27T12:24:08.490596Z"
    }
   },
   "outputs": [
    {
     "data": {
      "text/plain": [
       "<FastTreeValue 0x7fd548318490>\n",
       "├── 'a' --> {'a': 1, 'b': 10, 'c': {'x': 100, 'y': 400}}\n",
       "└── 'b' --> <FastTreeValue 0x7fd548318a60>\n",
       "    ├── 'x' --> {'a': 2, 'b': 20, 'c': {'x': 200, 'y': 500}}\n",
       "    └── 'y' --> {'a': 3, 'b': 30, 'c': {'x': 300, 'y': 600}}"
      ]
     },
     "execution_count": 33,
     "metadata": {},
     "output_type": "execute_result"
    }
   ],
   "source": [
    "from treevalue import subside\n",
    "\n",
    "value = {\n",
    "    'a': FastTreeValue({'a': 1, 'b': {'x': 2, 'y': 3}}),\n",
    "    'b': FastTreeValue({'a': 10, 'b': {'x': 20, 'y': 30}}),\n",
    "    'c': {\n",
    "        'x': FastTreeValue({'a': 100, 'b': {'x': 200, 'y': 300}}),\n",
    "        'y': FastTreeValue({'a': 400, 'b': {'x': 500, 'y': 600}}),\n",
    "    },\n",
    "}\n",
    "subside(value)"
   ]
  },
  {
   "cell_type": "code",
   "execution_count": 34,
   "id": "b85caa84",
   "metadata": {
    "execution": {
     "iopub.execute_input": "2023-02-27T12:24:08.494172Z",
     "iopub.status.busy": "2023-02-27T12:24:08.493790Z",
     "iopub.status.idle": "2023-02-27T12:24:20.034609Z",
     "shell.execute_reply": "2023-02-27T12:24:20.033834Z"
    }
   },
   "outputs": [
    {
     "name": "stdout",
     "output_type": "stream",
     "text": [
      "14.2 µs ± 19.8 ns per loop (mean ± std. dev. of 7 runs, 100,000 loops each)\n"
     ]
    }
   ],
   "source": [
    "%timeit subside(value)"
   ]
  },
  {
   "cell_type": "code",
   "execution_count": 35,
   "id": "f304d286",
   "metadata": {
    "execution": {
     "iopub.execute_input": "2023-02-27T12:24:20.037552Z",
     "iopub.status.busy": "2023-02-27T12:24:20.037010Z",
     "iopub.status.idle": "2023-02-27T12:24:20.050080Z",
     "shell.execute_reply": "2023-02-27T12:24:20.049486Z"
    }
   },
   "outputs": [
    {
     "data": {
      "text/plain": [
       "{'a': <FastTreeValue 0x7fd548320d60>\n",
       " ├── 'a' --> 1\n",
       " ├── 'b' --> 10\n",
       " └── 'c' --> <FastTreeValue 0x7fd5483205b0>\n",
       "     ├── 'x' --> 100\n",
       "     └── 'y' --> 400,\n",
       " 'b': {'x': <FastTreeValue 0x7fd548320c70>\n",
       "  ├── 'a' --> 2\n",
       "  ├── 'b' --> 20\n",
       "  └── 'c' --> <FastTreeValue 0x7fd548320dc0>\n",
       "      ├── 'x' --> 200\n",
       "      └── 'y' --> 500,\n",
       "  'y': <FastTreeValue 0x7fd548320bb0>\n",
       "  ├── 'a' --> 3\n",
       "  ├── 'b' --> 30\n",
       "  └── 'c' --> <FastTreeValue 0x7fd548320fa0>\n",
       "      ├── 'x' --> 300\n",
       "      └── 'y' --> 600}}"
      ]
     },
     "execution_count": 35,
     "metadata": {},
     "output_type": "execute_result"
    }
   ],
   "source": [
    "from treevalue import raw, rise\n",
    "\n",
    "value = FastTreeValue({\n",
    "    'a': raw({'a': 1, 'b': {'x': 2, 'y': 3}}),\n",
    "    'b': raw({'a': 10, 'b': {'x': 20, 'y': 30}}),\n",
    "    'c': {\n",
    "        'x': raw({'a': 100, 'b': {'x': 200, 'y': 300}}),\n",
    "        'y': raw({'a': 400, 'b': {'x': 500, 'y': 600}}),\n",
    "    },\n",
    "})\n",
    "rise(value)"
   ]
  },
  {
   "cell_type": "code",
   "execution_count": 36,
   "id": "62d34321",
   "metadata": {
    "execution": {
     "iopub.execute_input": "2023-02-27T12:24:20.052675Z",
     "iopub.status.busy": "2023-02-27T12:24:20.052310Z",
     "iopub.status.idle": "2023-02-27T12:24:32.811342Z",
     "shell.execute_reply": "2023-02-27T12:24:32.810433Z"
    }
   },
   "outputs": [
    {
     "name": "stdout",
     "output_type": "stream",
     "text": [
      "15.7 µs ± 30.4 ns per loop (mean ± std. dev. of 7 runs, 100,000 loops each)\n"
     ]
    }
   ],
   "source": [
    "%timeit rise(value)"
   ]
  },
  {
   "cell_type": "code",
   "execution_count": 37,
   "id": "f0ed4793",
   "metadata": {
    "execution": {
     "iopub.execute_input": "2023-02-27T12:24:32.814382Z",
     "iopub.status.busy": "2023-02-27T12:24:32.814012Z",
     "iopub.status.idle": "2023-02-27T12:24:32.820672Z",
     "shell.execute_reply": "2023-02-27T12:24:32.820076Z"
    }
   },
   "outputs": [
    {
     "data": {
      "text/plain": [
       "{'a': <FastTreeValue 0x7fd4991d7760>\n",
       " ├── 'a' --> 1\n",
       " ├── 'b' --> 10\n",
       " └── 'c' --> <FastTreeValue 0x7fd4991d7b80>\n",
       "     ├── 'x' --> 100\n",
       "     └── 'y' --> 400,\n",
       " 'b': {'x': <FastTreeValue 0x7fd4991d79a0>\n",
       "  ├── 'a' --> 2\n",
       "  ├── 'b' --> 20\n",
       "  └── 'c' --> <FastTreeValue 0x7fd4991d7370>\n",
       "      ├── 'x' --> 200\n",
       "      └── 'y' --> 500,\n",
       "  'y': <FastTreeValue 0x7fd4991d7790>\n",
       "  ├── 'a' --> 3\n",
       "  ├── 'b' --> 30\n",
       "  └── 'c' --> <FastTreeValue 0x7fd4991d7ca0>\n",
       "      ├── 'x' --> 300\n",
       "      └── 'y' --> 600}}"
      ]
     },
     "execution_count": 37,
     "metadata": {},
     "output_type": "execute_result"
    }
   ],
   "source": [
    "vt = {'a': None, 'b': {'x': None, 'y': None}}\n",
    "rise(value, template=vt)"
   ]
  },
  {
   "cell_type": "code",
   "execution_count": 38,
   "id": "a6ad3639",
   "metadata": {
    "execution": {
     "iopub.execute_input": "2023-02-27T12:24:32.823299Z",
     "iopub.status.busy": "2023-02-27T12:24:32.822966Z",
     "iopub.status.idle": "2023-02-27T12:24:42.943161Z",
     "shell.execute_reply": "2023-02-27T12:24:42.942386Z"
    }
   },
   "outputs": [
    {
     "name": "stdout",
     "output_type": "stream",
     "text": [
      "12.5 µs ± 25.9 ns per loop (mean ± std. dev. of 7 runs, 100,000 loops each)\n"
     ]
    }
   ],
   "source": [
    "%timeit rise(value, template=vt)"
   ]
  },
  {
   "cell_type": "markdown",
   "id": "19ee26c6",
   "metadata": {},
   "source": [
    "### pytree.tree_transpose"
   ]
  },
  {
   "cell_type": "code",
   "execution_count": 39,
   "id": "7f24f0f6",
   "metadata": {
    "execution": {
     "iopub.execute_input": "2023-02-27T12:24:42.946010Z",
     "iopub.status.busy": "2023-02-27T12:24:42.945648Z",
     "iopub.status.idle": "2023-02-27T12:24:42.954779Z",
     "shell.execute_reply": "2023-02-27T12:24:42.954198Z"
    }
   },
   "outputs": [
    {
     "data": {
      "text/plain": [
       "{'a': {'a': 1, 'b': 10, 'c': {'x': 100, 'y': 400}},\n",
       " 'b': {'x': {'a': 2, 'b': 20, 'c': {'x': 200, 'y': 500}},\n",
       "  'y': {'a': 3, 'b': 30, 'c': {'x': 300, 'y': 600}}}}"
      ]
     },
     "execution_count": 39,
     "metadata": {},
     "output_type": "execute_result"
    }
   ],
   "source": [
    "from jax.tree_util import tree_structure, tree_transpose\n",
    "\n",
    "sto = tree_structure({'a': 1, 'b': 2, 'c': {'x': 3, 'y': 4}})\n",
    "sti = tree_structure({'a': 1, 'b': {'x': 2, 'y': 3}})\n",
    "\n",
    "value = (\n",
    "    {'a': 1, 'b': {'x': 2, 'y': 3}},\n",
    "    {\n",
    "        'a': {'a': 10, 'b': {'x': 20, 'y': 30}},\n",
    "        'b': [\n",
    "            {'a': 100, 'b': {'x': 200, 'y': 300}},\n",
    "            {'a': 400, 'b': {'x': 500, 'y': 600}},\n",
    "        ],\n",
    "    }\n",
    ")\n",
    "tree_transpose(sto, sti, value)"
   ]
  },
  {
   "cell_type": "code",
   "execution_count": 40,
   "id": "d04072f3",
   "metadata": {
    "execution": {
     "iopub.execute_input": "2023-02-27T12:24:42.957166Z",
     "iopub.status.busy": "2023-02-27T12:24:42.956824Z",
     "iopub.status.idle": "2023-02-27T12:24:54.587287Z",
     "shell.execute_reply": "2023-02-27T12:24:54.586432Z"
    }
   },
   "outputs": [
    {
     "name": "stdout",
     "output_type": "stream",
     "text": [
      "14.3 µs ± 16.1 ns per loop (mean ± std. dev. of 7 runs, 100,000 loops each)\n"
     ]
    }
   ],
   "source": [
    "%timeit tree_transpose(sto, sti, value)"
   ]
  },
  {
   "cell_type": "code",
   "execution_count": null,
   "id": "f2a580a3",
   "metadata": {},
   "outputs": [],
   "source": []
  }
 ],
 "metadata": {
  "kernelspec": {
   "display_name": "Python 3 (ipykernel)",
   "language": "python",
   "name": "python3"
  },
  "language_info": {
   "codemirror_mode": {
    "name": "ipython",
    "version": 3
   },
   "file_extension": ".py",
   "mimetype": "text/x-python",
   "name": "python",
   "nbconvert_exporter": "python",
   "pygments_lexer": "ipython3",
   "version": "3.8.16"
  }
 },
 "nbformat": 4,
 "nbformat_minor": 5
}
