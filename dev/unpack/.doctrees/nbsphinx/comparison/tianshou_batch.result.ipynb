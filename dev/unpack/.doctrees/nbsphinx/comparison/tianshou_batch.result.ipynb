{
 "cells": [
  {
   "cell_type": "markdown",
   "id": "9d39d946",
   "metadata": {},
   "source": [
    "# Comparison Between TreeValue and Tianshou Batch"
   ]
  },
  {
   "cell_type": "markdown",
   "id": "3c6db2d4",
   "metadata": {},
   "source": [
    "In this section, we will take a look at the feature and performance of the [Tianshou Batch](https://github.com/thu-ml/tianshou) library, which is developed by Tsinghua Machine Learning Group."
   ]
  },
  {
   "cell_type": "markdown",
   "id": "069361b0",
   "metadata": {},
   "source": [
    "Before starting the comparison, let us define some thing."
   ]
  },
  {
   "cell_type": "code",
   "execution_count": 1,
   "id": "06fc8d26",
   "metadata": {
    "execution": {
     "iopub.execute_input": "2023-02-27T08:00:08.175163Z",
     "iopub.status.busy": "2023-02-27T08:00:08.174952Z",
     "iopub.status.idle": "2023-02-27T08:00:09.091241Z",
     "shell.execute_reply": "2023-02-27T08:00:09.090565Z"
    }
   },
   "outputs": [
    {
     "name": "stderr",
     "output_type": "stream",
     "text": [
      "/opt/hostedtoolcache/Python/3.8.16/x64/lib/python3.8/site-packages/tqdm/auto.py:22: TqdmWarning: IProgress not found. Please update jupyter and ipywidgets. See https://ipywidgets.readthedocs.io/en/stable/user_install.html\n",
      "  from .autonotebook import tqdm as notebook_tqdm\n"
     ]
    }
   ],
   "source": [
    "import torch \n",
    "\n",
    "_TREE_DATA_1 = {'a': 1, 'b': 2, 'x': {'c': 3, 'd': 4}}\n",
    "_TREE_DATA_2 = {\n",
    "    'a': torch.randn(2, 3), \n",
    "    'x': {\n",
    "        'c': torch.randn(3, 4)\n",
    "    },\n",
    "}\n",
    "_TREE_DATA_3 = {\n",
    "    'obs': torch.randn(4, 84, 84),\n",
    "    'action': torch.randint(0, 6, size=(1,)),\n",
    "    'reward': torch.rand(1),\n",
    "}"
   ]
  },
  {
   "cell_type": "markdown",
   "id": "83461b25",
   "metadata": {},
   "source": [
    "## Read and Write Operation"
   ]
  },
  {
   "cell_type": "markdown",
   "id": "067b3f73",
   "metadata": {},
   "source": [
    "Reading and writing are the two most common operations in the tree data structure based on the data model (TreeValue and Tianshou Batch both belong to this type), so this section will compare the reading and writing performance of these two libraries."
   ]
  },
  {
   "cell_type": "markdown",
   "id": "5d09a5b7",
   "metadata": {},
   "source": [
    "### TreeValue's Get and Set"
   ]
  },
  {
   "cell_type": "code",
   "execution_count": 2,
   "id": "9519c4bb",
   "metadata": {
    "execution": {
     "iopub.execute_input": "2023-02-27T08:00:09.094400Z",
     "iopub.status.busy": "2023-02-27T08:00:09.094100Z",
     "iopub.status.idle": "2023-02-27T08:00:09.373061Z",
     "shell.execute_reply": "2023-02-27T08:00:09.372388Z"
    }
   },
   "outputs": [],
   "source": [
    "from treevalue import FastTreeValue\n",
    "\n",
    "t = FastTreeValue(_TREE_DATA_2)"
   ]
  },
  {
   "cell_type": "code",
   "execution_count": 3,
   "id": "11c37677",
   "metadata": {
    "execution": {
     "iopub.execute_input": "2023-02-27T08:00:09.377155Z",
     "iopub.status.busy": "2023-02-27T08:00:09.375968Z",
     "iopub.status.idle": "2023-02-27T08:00:09.386719Z",
     "shell.execute_reply": "2023-02-27T08:00:09.386112Z"
    }
   },
   "outputs": [
    {
     "data": {
      "text/plain": [
       "<FastTreeValue 0x7f3640059af0>\n",
       "├── 'a' --> tensor([[ 0.0921,  0.4500, -0.0551],\n",
       "│                   [-0.7410,  1.9680, -0.6537]])\n",
       "└── 'x' --> <FastTreeValue 0x7f3640059940>\n",
       "    └── 'c' --> tensor([[-0.0095,  1.4761, -1.0964, -0.5983],\n",
       "                        [-0.6769,  1.7113,  0.5884,  0.0904],\n",
       "                        [ 2.3243,  1.0271,  0.3874,  0.8383]])"
      ]
     },
     "execution_count": 3,
     "metadata": {},
     "output_type": "execute_result"
    }
   ],
   "source": [
    "t"
   ]
  },
  {
   "cell_type": "code",
   "execution_count": 4,
   "id": "fd70b0b9",
   "metadata": {
    "execution": {
     "iopub.execute_input": "2023-02-27T08:00:09.389572Z",
     "iopub.status.busy": "2023-02-27T08:00:09.389114Z",
     "iopub.status.idle": "2023-02-27T08:00:09.394987Z",
     "shell.execute_reply": "2023-02-27T08:00:09.394420Z"
    }
   },
   "outputs": [
    {
     "data": {
      "text/plain": [
       "tensor([[ 0.0921,  0.4500, -0.0551],\n",
       "        [-0.7410,  1.9680, -0.6537]])"
      ]
     },
     "execution_count": 4,
     "metadata": {},
     "output_type": "execute_result"
    }
   ],
   "source": [
    "t.a"
   ]
  },
  {
   "cell_type": "code",
   "execution_count": 5,
   "id": "c18197bd",
   "metadata": {
    "execution": {
     "iopub.execute_input": "2023-02-27T08:00:09.397790Z",
     "iopub.status.busy": "2023-02-27T08:00:09.397344Z",
     "iopub.status.idle": "2023-02-27T08:00:14.127498Z",
     "shell.execute_reply": "2023-02-27T08:00:14.126788Z"
    }
   },
   "outputs": [
    {
     "name": "stdout",
     "output_type": "stream",
     "text": [
      "58 ns ± 0.0554 ns per loop (mean ± std. dev. of 7 runs, 10,000,000 loops each)\n"
     ]
    }
   ],
   "source": [
    "%timeit t.a"
   ]
  },
  {
   "cell_type": "code",
   "execution_count": 6,
   "id": "bd52f867",
   "metadata": {
    "execution": {
     "iopub.execute_input": "2023-02-27T08:00:14.130776Z",
     "iopub.status.busy": "2023-02-27T08:00:14.130181Z",
     "iopub.status.idle": "2023-02-27T08:00:14.136878Z",
     "shell.execute_reply": "2023-02-27T08:00:14.136296Z"
    }
   },
   "outputs": [
    {
     "data": {
      "text/plain": [
       "<FastTreeValue 0x7f3640059af0>\n",
       "├── 'a' --> tensor([[ 2.0797, -0.2619,  0.4085],\n",
       "│                   [-0.4121, -2.1026, -1.8509]])\n",
       "└── 'x' --> <FastTreeValue 0x7f3640059940>\n",
       "    └── 'c' --> tensor([[-0.0095,  1.4761, -1.0964, -0.5983],\n",
       "                        [-0.6769,  1.7113,  0.5884,  0.0904],\n",
       "                        [ 2.3243,  1.0271,  0.3874,  0.8383]])"
      ]
     },
     "execution_count": 6,
     "metadata": {},
     "output_type": "execute_result"
    }
   ],
   "source": [
    "new_value = torch.randn(2, 3)\n",
    "t.a = new_value\n",
    "\n",
    "t"
   ]
  },
  {
   "cell_type": "code",
   "execution_count": 7,
   "id": "bbe04d1c",
   "metadata": {
    "execution": {
     "iopub.execute_input": "2023-02-27T08:00:14.139846Z",
     "iopub.status.busy": "2023-02-27T08:00:14.139290Z",
     "iopub.status.idle": "2023-02-27T08:00:18.949340Z",
     "shell.execute_reply": "2023-02-27T08:00:18.948622Z"
    }
   },
   "outputs": [
    {
     "name": "stdout",
     "output_type": "stream",
     "text": [
      "58.9 ns ± 0.0435 ns per loop (mean ± std. dev. of 7 runs, 10,000,000 loops each)\n"
     ]
    }
   ],
   "source": [
    "%timeit t.a = new_value"
   ]
  },
  {
   "cell_type": "markdown",
   "id": "48c49731",
   "metadata": {},
   "source": [
    "### Tianshou Batch's Get and Set"
   ]
  },
  {
   "cell_type": "code",
   "execution_count": 8,
   "id": "f1bb14c1",
   "metadata": {
    "execution": {
     "iopub.execute_input": "2023-02-27T08:00:18.952710Z",
     "iopub.status.busy": "2023-02-27T08:00:18.952124Z",
     "iopub.status.idle": "2023-02-27T08:00:19.285534Z",
     "shell.execute_reply": "2023-02-27T08:00:19.284865Z"
    }
   },
   "outputs": [],
   "source": [
    "from tianshou.data import Batch\n",
    "\n",
    "b = Batch(**_TREE_DATA_2)"
   ]
  },
  {
   "cell_type": "code",
   "execution_count": 9,
   "id": "cb0777c3",
   "metadata": {
    "execution": {
     "iopub.execute_input": "2023-02-27T08:00:19.288735Z",
     "iopub.status.busy": "2023-02-27T08:00:19.288420Z",
     "iopub.status.idle": "2023-02-27T08:00:19.294339Z",
     "shell.execute_reply": "2023-02-27T08:00:19.293758Z"
    }
   },
   "outputs": [
    {
     "data": {
      "text/plain": [
       "Batch(\n",
       "    a: tensor([[ 0.0921,  0.4500, -0.0551],\n",
       "               [-0.7410,  1.9680, -0.6537]]),\n",
       "    x: Batch(\n",
       "           c: tensor([[-0.0095,  1.4761, -1.0964, -0.5983],\n",
       "                      [-0.6769,  1.7113,  0.5884,  0.0904],\n",
       "                      [ 2.3243,  1.0271,  0.3874,  0.8383]]),\n",
       "       ),\n",
       ")"
      ]
     },
     "execution_count": 9,
     "metadata": {},
     "output_type": "execute_result"
    }
   ],
   "source": [
    "b"
   ]
  },
  {
   "cell_type": "code",
   "execution_count": 10,
   "id": "43ef8ea3",
   "metadata": {
    "execution": {
     "iopub.execute_input": "2023-02-27T08:00:19.297082Z",
     "iopub.status.busy": "2023-02-27T08:00:19.296494Z",
     "iopub.status.idle": "2023-02-27T08:00:19.301846Z",
     "shell.execute_reply": "2023-02-27T08:00:19.301278Z"
    }
   },
   "outputs": [
    {
     "data": {
      "text/plain": [
       "tensor([[ 0.0921,  0.4500, -0.0551],\n",
       "        [-0.7410,  1.9680, -0.6537]])"
      ]
     },
     "execution_count": 10,
     "metadata": {},
     "output_type": "execute_result"
    }
   ],
   "source": [
    "b.a"
   ]
  },
  {
   "cell_type": "code",
   "execution_count": 11,
   "id": "b785ab72",
   "metadata": {
    "execution": {
     "iopub.execute_input": "2023-02-27T08:00:19.304233Z",
     "iopub.status.busy": "2023-02-27T08:00:19.303897Z",
     "iopub.status.idle": "2023-02-27T08:00:24.149921Z",
     "shell.execute_reply": "2023-02-27T08:00:24.149173Z"
    }
   },
   "outputs": [
    {
     "name": "stdout",
     "output_type": "stream",
     "text": [
      "59.7 ns ± 0.0358 ns per loop (mean ± std. dev. of 7 runs, 10,000,000 loops each)\n"
     ]
    }
   ],
   "source": [
    "%timeit b.a"
   ]
  },
  {
   "cell_type": "code",
   "execution_count": 12,
   "id": "ad54dc69",
   "metadata": {
    "execution": {
     "iopub.execute_input": "2023-02-27T08:00:24.152930Z",
     "iopub.status.busy": "2023-02-27T08:00:24.152384Z",
     "iopub.status.idle": "2023-02-27T08:00:24.158156Z",
     "shell.execute_reply": "2023-02-27T08:00:24.157519Z"
    }
   },
   "outputs": [
    {
     "data": {
      "text/plain": [
       "Batch(\n",
       "    a: tensor([[ 0.4319,  0.1050, -0.4790],\n",
       "               [ 0.4189,  1.3031, -0.9238]]),\n",
       "    x: Batch(\n",
       "           c: tensor([[-0.0095,  1.4761, -1.0964, -0.5983],\n",
       "                      [-0.6769,  1.7113,  0.5884,  0.0904],\n",
       "                      [ 2.3243,  1.0271,  0.3874,  0.8383]]),\n",
       "       ),\n",
       ")"
      ]
     },
     "execution_count": 12,
     "metadata": {},
     "output_type": "execute_result"
    }
   ],
   "source": [
    "new_value = torch.randn(2, 3)\n",
    "b.a = new_value\n",
    "\n",
    "b"
   ]
  },
  {
   "cell_type": "code",
   "execution_count": 13,
   "id": "29b1d0bf",
   "metadata": {
    "execution": {
     "iopub.execute_input": "2023-02-27T08:00:24.160950Z",
     "iopub.status.busy": "2023-02-27T08:00:24.160341Z",
     "iopub.status.idle": "2023-02-27T08:00:28.052642Z",
     "shell.execute_reply": "2023-02-27T08:00:28.051922Z"
    }
   },
   "outputs": [
    {
     "name": "stdout",
     "output_type": "stream",
     "text": [
      "479 ns ± 0.0705 ns per loop (mean ± std. dev. of 7 runs, 1,000,000 loops each)\n"
     ]
    }
   ],
   "source": [
    "%timeit b.a = new_value"
   ]
  },
  {
   "cell_type": "markdown",
   "id": "b61ad1d0",
   "metadata": {},
   "source": [
    "## Initialization"
   ]
  },
  {
   "cell_type": "markdown",
   "id": "d70f0d54",
   "metadata": {},
   "source": [
    "### TreeValue's Initialization"
   ]
  },
  {
   "cell_type": "code",
   "execution_count": 14,
   "id": "d32a679b",
   "metadata": {
    "execution": {
     "iopub.execute_input": "2023-02-27T08:00:28.055762Z",
     "iopub.status.busy": "2023-02-27T08:00:28.055191Z",
     "iopub.status.idle": "2023-02-27T08:00:34.882064Z",
     "shell.execute_reply": "2023-02-27T08:00:34.881404Z"
    }
   },
   "outputs": [
    {
     "name": "stdout",
     "output_type": "stream",
     "text": [
      "840 ns ± 5.56 ns per loop (mean ± std. dev. of 7 runs, 1,000,000 loops each)\n"
     ]
    }
   ],
   "source": [
    "%timeit FastTreeValue(_TREE_DATA_1)"
   ]
  },
  {
   "cell_type": "markdown",
   "id": "24f3707b",
   "metadata": {},
   "source": [
    "### Tianshou Batch's Initialization"
   ]
  },
  {
   "cell_type": "code",
   "execution_count": 15,
   "id": "ac3958df",
   "metadata": {
    "execution": {
     "iopub.execute_input": "2023-02-27T08:00:34.885201Z",
     "iopub.status.busy": "2023-02-27T08:00:34.884735Z",
     "iopub.status.idle": "2023-02-27T08:00:44.241844Z",
     "shell.execute_reply": "2023-02-27T08:00:44.241089Z"
    }
   },
   "outputs": [
    {
     "name": "stdout",
     "output_type": "stream",
     "text": [
      "11.5 µs ± 29.9 ns per loop (mean ± std. dev. of 7 runs, 100,000 loops each)\n"
     ]
    }
   ],
   "source": [
    "%timeit Batch(**_TREE_DATA_1)"
   ]
  },
  {
   "cell_type": "markdown",
   "id": "1ab82e2d",
   "metadata": {},
   "source": [
    "## Deep Copy Operation"
   ]
  },
  {
   "cell_type": "code",
   "execution_count": 16,
   "id": "210a9442",
   "metadata": {
    "execution": {
     "iopub.execute_input": "2023-02-27T08:00:44.244594Z",
     "iopub.status.busy": "2023-02-27T08:00:44.244221Z",
     "iopub.status.idle": "2023-02-27T08:00:44.248212Z",
     "shell.execute_reply": "2023-02-27T08:00:44.247638Z"
    }
   },
   "outputs": [],
   "source": [
    "import copy"
   ]
  },
  {
   "cell_type": "markdown",
   "id": "5a736274",
   "metadata": {},
   "source": [
    "### Deep Copy of TreeValue"
   ]
  },
  {
   "cell_type": "code",
   "execution_count": 17,
   "id": "f9bcadd6",
   "metadata": {
    "execution": {
     "iopub.execute_input": "2023-02-27T08:00:44.250736Z",
     "iopub.status.busy": "2023-02-27T08:00:44.250407Z",
     "iopub.status.idle": "2023-02-27T08:00:55.360075Z",
     "shell.execute_reply": "2023-02-27T08:00:55.359515Z"
    }
   },
   "outputs": [
    {
     "name": "stdout",
     "output_type": "stream",
     "text": [
      "137 µs ± 809 ns per loop (mean ± std. dev. of 7 runs, 10,000 loops each)\n"
     ]
    }
   ],
   "source": [
    "t3 = FastTreeValue(_TREE_DATA_3)\n",
    "%timeit copy.deepcopy(t3)"
   ]
  },
  {
   "cell_type": "markdown",
   "id": "bf8be7ea",
   "metadata": {},
   "source": [
    "### Deep Copy of Tianshou Batch"
   ]
  },
  {
   "cell_type": "code",
   "execution_count": 18,
   "id": "91998e6f",
   "metadata": {
    "execution": {
     "iopub.execute_input": "2023-02-27T08:00:55.363542Z",
     "iopub.status.busy": "2023-02-27T08:00:55.363052Z",
     "iopub.status.idle": "2023-02-27T08:01:06.627551Z",
     "shell.execute_reply": "2023-02-27T08:01:06.626963Z"
    }
   },
   "outputs": [
    {
     "name": "stdout",
     "output_type": "stream",
     "text": [
      "139 µs ± 321 ns per loop (mean ± std. dev. of 7 runs, 10,000 loops each)\n"
     ]
    }
   ],
   "source": [
    "b3 = Batch(**_TREE_DATA_3)\n",
    "%timeit copy.deepcopy(b3)"
   ]
  },
  {
   "cell_type": "markdown",
   "id": "223162fb",
   "metadata": {},
   "source": [
    "## Stack, Concat and Split Operation"
   ]
  },
  {
   "cell_type": "markdown",
   "id": "85fa4a73",
   "metadata": {},
   "source": [
    "### Performance of TreeValue"
   ]
  },
  {
   "cell_type": "code",
   "execution_count": 19,
   "id": "a0c2b697",
   "metadata": {
    "execution": {
     "iopub.execute_input": "2023-02-27T08:01:06.630949Z",
     "iopub.status.busy": "2023-02-27T08:01:06.630517Z",
     "iopub.status.idle": "2023-02-27T08:01:06.633762Z",
     "shell.execute_reply": "2023-02-27T08:01:06.633231Z"
    }
   },
   "outputs": [],
   "source": [
    "trees = [FastTreeValue(_TREE_DATA_2) for _ in range(8)]"
   ]
  },
  {
   "cell_type": "code",
   "execution_count": 20,
   "id": "017ea5a5",
   "metadata": {
    "execution": {
     "iopub.execute_input": "2023-02-27T08:01:06.636257Z",
     "iopub.status.busy": "2023-02-27T08:01:06.635784Z",
     "iopub.status.idle": "2023-02-27T08:01:06.643050Z",
     "shell.execute_reply": "2023-02-27T08:01:06.642507Z"
    }
   },
   "outputs": [
    {
     "data": {
      "text/plain": [
       "<FastTreeValue 0x7f3589347fa0>\n",
       "├── 'a' --> tensor([[[ 0.0921,  0.4500, -0.0551],\n",
       "│                    [-0.7410,  1.9680, -0.6537]],\n",
       "│           \n",
       "│                   [[ 0.0921,  0.4500, -0.0551],\n",
       "│                    [-0.7410,  1.9680, -0.6537]],\n",
       "│           \n",
       "│                   [[ 0.0921,  0.4500, -0.0551],\n",
       "│                    [-0.7410,  1.9680, -0.6537]],\n",
       "│           \n",
       "│                   [[ 0.0921,  0.4500, -0.0551],\n",
       "│                    [-0.7410,  1.9680, -0.6537]],\n",
       "│           \n",
       "│                   [[ 0.0921,  0.4500, -0.0551],\n",
       "│                    [-0.7410,  1.9680, -0.6537]],\n",
       "│           \n",
       "│                   [[ 0.0921,  0.4500, -0.0551],\n",
       "│                    [-0.7410,  1.9680, -0.6537]],\n",
       "│           \n",
       "│                   [[ 0.0921,  0.4500, -0.0551],\n",
       "│                    [-0.7410,  1.9680, -0.6537]],\n",
       "│           \n",
       "│                   [[ 0.0921,  0.4500, -0.0551],\n",
       "│                    [-0.7410,  1.9680, -0.6537]]])\n",
       "└── 'x' --> <FastTreeValue 0x7f35893470a0>\n",
       "    └── 'c' --> tensor([[[-0.0095,  1.4761, -1.0964, -0.5983],\n",
       "                         [-0.6769,  1.7113,  0.5884,  0.0904],\n",
       "                         [ 2.3243,  1.0271,  0.3874,  0.8383]],\n",
       "                \n",
       "                        [[-0.0095,  1.4761, -1.0964, -0.5983],\n",
       "                         [-0.6769,  1.7113,  0.5884,  0.0904],\n",
       "                         [ 2.3243,  1.0271,  0.3874,  0.8383]],\n",
       "                \n",
       "                        [[-0.0095,  1.4761, -1.0964, -0.5983],\n",
       "                         [-0.6769,  1.7113,  0.5884,  0.0904],\n",
       "                         [ 2.3243,  1.0271,  0.3874,  0.8383]],\n",
       "                \n",
       "                        [[-0.0095,  1.4761, -1.0964, -0.5983],\n",
       "                         [-0.6769,  1.7113,  0.5884,  0.0904],\n",
       "                         [ 2.3243,  1.0271,  0.3874,  0.8383]],\n",
       "                \n",
       "                        [[-0.0095,  1.4761, -1.0964, -0.5983],\n",
       "                         [-0.6769,  1.7113,  0.5884,  0.0904],\n",
       "                         [ 2.3243,  1.0271,  0.3874,  0.8383]],\n",
       "                \n",
       "                        [[-0.0095,  1.4761, -1.0964, -0.5983],\n",
       "                         [-0.6769,  1.7113,  0.5884,  0.0904],\n",
       "                         [ 2.3243,  1.0271,  0.3874,  0.8383]],\n",
       "                \n",
       "                        [[-0.0095,  1.4761, -1.0964, -0.5983],\n",
       "                         [-0.6769,  1.7113,  0.5884,  0.0904],\n",
       "                         [ 2.3243,  1.0271,  0.3874,  0.8383]],\n",
       "                \n",
       "                        [[-0.0095,  1.4761, -1.0964, -0.5983],\n",
       "                         [-0.6769,  1.7113,  0.5884,  0.0904],\n",
       "                         [ 2.3243,  1.0271,  0.3874,  0.8383]]])"
      ]
     },
     "execution_count": 20,
     "metadata": {},
     "output_type": "execute_result"
    }
   ],
   "source": [
    "t_stack = FastTreeValue.func(subside=True)(torch.stack)\n",
    "\n",
    "t_stack(trees)"
   ]
  },
  {
   "cell_type": "code",
   "execution_count": 21,
   "id": "f8b3f415",
   "metadata": {
    "execution": {
     "iopub.execute_input": "2023-02-27T08:01:06.645725Z",
     "iopub.status.busy": "2023-02-27T08:01:06.645084Z",
     "iopub.status.idle": "2023-02-27T08:01:09.249621Z",
     "shell.execute_reply": "2023-02-27T08:01:09.248883Z"
    }
   },
   "outputs": [
    {
     "name": "stdout",
     "output_type": "stream",
     "text": [
      "32 µs ± 73.7 ns per loop (mean ± std. dev. of 7 runs, 10,000 loops each)\n"
     ]
    }
   ],
   "source": [
    "%timeit t_stack(trees)"
   ]
  },
  {
   "cell_type": "code",
   "execution_count": 22,
   "id": "94b56771",
   "metadata": {
    "execution": {
     "iopub.execute_input": "2023-02-27T08:01:09.252400Z",
     "iopub.status.busy": "2023-02-27T08:01:09.252035Z",
     "iopub.status.idle": "2023-02-27T08:01:09.259532Z",
     "shell.execute_reply": "2023-02-27T08:01:09.258845Z"
    }
   },
   "outputs": [
    {
     "data": {
      "text/plain": [
       "<FastTreeValue 0x7f36400cd070>\n",
       "├── 'a' --> tensor([[ 0.0921,  0.4500, -0.0551],\n",
       "│                   [-0.7410,  1.9680, -0.6537],\n",
       "│                   [ 0.0921,  0.4500, -0.0551],\n",
       "│                   [-0.7410,  1.9680, -0.6537],\n",
       "│                   [ 0.0921,  0.4500, -0.0551],\n",
       "│                   [-0.7410,  1.9680, -0.6537],\n",
       "│                   [ 0.0921,  0.4500, -0.0551],\n",
       "│                   [-0.7410,  1.9680, -0.6537],\n",
       "│                   [ 0.0921,  0.4500, -0.0551],\n",
       "│                   [-0.7410,  1.9680, -0.6537],\n",
       "│                   [ 0.0921,  0.4500, -0.0551],\n",
       "│                   [-0.7410,  1.9680, -0.6537],\n",
       "│                   [ 0.0921,  0.4500, -0.0551],\n",
       "│                   [-0.7410,  1.9680, -0.6537],\n",
       "│                   [ 0.0921,  0.4500, -0.0551],\n",
       "│                   [-0.7410,  1.9680, -0.6537]])\n",
       "└── 'x' --> <FastTreeValue 0x7f36400cd430>\n",
       "    └── 'c' --> tensor([[-0.0095,  1.4761, -1.0964, -0.5983],\n",
       "                        [-0.6769,  1.7113,  0.5884,  0.0904],\n",
       "                        [ 2.3243,  1.0271,  0.3874,  0.8383],\n",
       "                        [-0.0095,  1.4761, -1.0964, -0.5983],\n",
       "                        [-0.6769,  1.7113,  0.5884,  0.0904],\n",
       "                        [ 2.3243,  1.0271,  0.3874,  0.8383],\n",
       "                        [-0.0095,  1.4761, -1.0964, -0.5983],\n",
       "                        [-0.6769,  1.7113,  0.5884,  0.0904],\n",
       "                        [ 2.3243,  1.0271,  0.3874,  0.8383],\n",
       "                        [-0.0095,  1.4761, -1.0964, -0.5983],\n",
       "                        [-0.6769,  1.7113,  0.5884,  0.0904],\n",
       "                        [ 2.3243,  1.0271,  0.3874,  0.8383],\n",
       "                        [-0.0095,  1.4761, -1.0964, -0.5983],\n",
       "                        [-0.6769,  1.7113,  0.5884,  0.0904],\n",
       "                        [ 2.3243,  1.0271,  0.3874,  0.8383],\n",
       "                        [-0.0095,  1.4761, -1.0964, -0.5983],\n",
       "                        [-0.6769,  1.7113,  0.5884,  0.0904],\n",
       "                        [ 2.3243,  1.0271,  0.3874,  0.8383],\n",
       "                        [-0.0095,  1.4761, -1.0964, -0.5983],\n",
       "                        [-0.6769,  1.7113,  0.5884,  0.0904],\n",
       "                        [ 2.3243,  1.0271,  0.3874,  0.8383],\n",
       "                        [-0.0095,  1.4761, -1.0964, -0.5983],\n",
       "                        [-0.6769,  1.7113,  0.5884,  0.0904],\n",
       "                        [ 2.3243,  1.0271,  0.3874,  0.8383]])"
      ]
     },
     "execution_count": 22,
     "metadata": {},
     "output_type": "execute_result"
    }
   ],
   "source": [
    "t_cat = FastTreeValue.func(subside=True)(torch.cat)\n",
    "\n",
    "t_cat(trees)"
   ]
  },
  {
   "cell_type": "code",
   "execution_count": 23,
   "id": "5e9c06a6",
   "metadata": {
    "execution": {
     "iopub.execute_input": "2023-02-27T08:01:09.262291Z",
     "iopub.status.busy": "2023-02-27T08:01:09.261738Z",
     "iopub.status.idle": "2023-02-27T08:01:11.710993Z",
     "shell.execute_reply": "2023-02-27T08:01:11.710270Z"
    }
   },
   "outputs": [
    {
     "name": "stdout",
     "output_type": "stream",
     "text": [
      "30.1 µs ± 94.3 ns per loop (mean ± std. dev. of 7 runs, 10,000 loops each)\n"
     ]
    }
   ],
   "source": [
    "%timeit t_cat(trees)"
   ]
  },
  {
   "cell_type": "code",
   "execution_count": 24,
   "id": "a3ab5c8f",
   "metadata": {
    "execution": {
     "iopub.execute_input": "2023-02-27T08:01:11.713861Z",
     "iopub.status.busy": "2023-02-27T08:01:11.713497Z",
     "iopub.status.idle": "2023-02-27T08:01:16.340733Z",
     "shell.execute_reply": "2023-02-27T08:01:16.340017Z"
    }
   },
   "outputs": [
    {
     "name": "stdout",
     "output_type": "stream",
     "text": [
      "56.9 µs ± 54.5 ns per loop (mean ± std. dev. of 7 runs, 10,000 loops each)\n"
     ]
    }
   ],
   "source": [
    "t_split = FastTreeValue.func(rise=True)(torch.split)\n",
    "tree = FastTreeValue({\n",
    "    'obs': torch.randn(8, 4, 84, 84),\n",
    "    'action': torch.randint(0, 6, size=(8, 1,)),\n",
    "    'reward': torch.rand(8, 1),\n",
    "})\n",
    "\n",
    "%timeit t_split(tree, 1)"
   ]
  },
  {
   "cell_type": "markdown",
   "id": "31c3ec0b",
   "metadata": {},
   "source": [
    "### Performance of Tianshou Batch"
   ]
  },
  {
   "cell_type": "code",
   "execution_count": 25,
   "id": "9ead828a",
   "metadata": {
    "execution": {
     "iopub.execute_input": "2023-02-27T08:01:16.343844Z",
     "iopub.status.busy": "2023-02-27T08:01:16.343488Z",
     "iopub.status.idle": "2023-02-27T08:01:16.351550Z",
     "shell.execute_reply": "2023-02-27T08:01:16.350965Z"
    }
   },
   "outputs": [
    {
     "data": {
      "text/plain": [
       "Batch(\n",
       "    a: tensor([[[ 0.0921,  0.4500, -0.0551],\n",
       "                [-0.7410,  1.9680, -0.6537]],\n",
       "       \n",
       "               [[ 0.0921,  0.4500, -0.0551],\n",
       "                [-0.7410,  1.9680, -0.6537]],\n",
       "       \n",
       "               [[ 0.0921,  0.4500, -0.0551],\n",
       "                [-0.7410,  1.9680, -0.6537]],\n",
       "       \n",
       "               [[ 0.0921,  0.4500, -0.0551],\n",
       "                [-0.7410,  1.9680, -0.6537]],\n",
       "       \n",
       "               [[ 0.0921,  0.4500, -0.0551],\n",
       "                [-0.7410,  1.9680, -0.6537]],\n",
       "       \n",
       "               [[ 0.0921,  0.4500, -0.0551],\n",
       "                [-0.7410,  1.9680, -0.6537]],\n",
       "       \n",
       "               [[ 0.0921,  0.4500, -0.0551],\n",
       "                [-0.7410,  1.9680, -0.6537]],\n",
       "       \n",
       "               [[ 0.0921,  0.4500, -0.0551],\n",
       "                [-0.7410,  1.9680, -0.6537]]]),\n",
       "    x: Batch(\n",
       "           c: tensor([[[-0.0095,  1.4761, -1.0964, -0.5983],\n",
       "                       [-0.6769,  1.7113,  0.5884,  0.0904],\n",
       "                       [ 2.3243,  1.0271,  0.3874,  0.8383]],\n",
       "              \n",
       "                      [[-0.0095,  1.4761, -1.0964, -0.5983],\n",
       "                       [-0.6769,  1.7113,  0.5884,  0.0904],\n",
       "                       [ 2.3243,  1.0271,  0.3874,  0.8383]],\n",
       "              \n",
       "                      [[-0.0095,  1.4761, -1.0964, -0.5983],\n",
       "                       [-0.6769,  1.7113,  0.5884,  0.0904],\n",
       "                       [ 2.3243,  1.0271,  0.3874,  0.8383]],\n",
       "              \n",
       "                      [[-0.0095,  1.4761, -1.0964, -0.5983],\n",
       "                       [-0.6769,  1.7113,  0.5884,  0.0904],\n",
       "                       [ 2.3243,  1.0271,  0.3874,  0.8383]],\n",
       "              \n",
       "                      [[-0.0095,  1.4761, -1.0964, -0.5983],\n",
       "                       [-0.6769,  1.7113,  0.5884,  0.0904],\n",
       "                       [ 2.3243,  1.0271,  0.3874,  0.8383]],\n",
       "              \n",
       "                      [[-0.0095,  1.4761, -1.0964, -0.5983],\n",
       "                       [-0.6769,  1.7113,  0.5884,  0.0904],\n",
       "                       [ 2.3243,  1.0271,  0.3874,  0.8383]],\n",
       "              \n",
       "                      [[-0.0095,  1.4761, -1.0964, -0.5983],\n",
       "                       [-0.6769,  1.7113,  0.5884,  0.0904],\n",
       "                       [ 2.3243,  1.0271,  0.3874,  0.8383]],\n",
       "              \n",
       "                      [[-0.0095,  1.4761, -1.0964, -0.5983],\n",
       "                       [-0.6769,  1.7113,  0.5884,  0.0904],\n",
       "                       [ 2.3243,  1.0271,  0.3874,  0.8383]]]),\n",
       "       ),\n",
       ")"
      ]
     },
     "execution_count": 25,
     "metadata": {},
     "output_type": "execute_result"
    }
   ],
   "source": [
    "batches = [Batch(**_TREE_DATA_2) for _ in range(8)]\n",
    "\n",
    "Batch.stack(batches)"
   ]
  },
  {
   "cell_type": "code",
   "execution_count": 26,
   "id": "ec9037a3",
   "metadata": {
    "execution": {
     "iopub.execute_input": "2023-02-27T08:01:16.354216Z",
     "iopub.status.busy": "2023-02-27T08:01:16.353881Z",
     "iopub.status.idle": "2023-02-27T08:01:22.636045Z",
     "shell.execute_reply": "2023-02-27T08:01:22.635326Z"
    }
   },
   "outputs": [
    {
     "name": "stdout",
     "output_type": "stream",
     "text": [
      "77.3 µs ± 168 ns per loop (mean ± std. dev. of 7 runs, 10,000 loops each)\n"
     ]
    }
   ],
   "source": [
    "%timeit Batch.stack(batches)"
   ]
  },
  {
   "cell_type": "code",
   "execution_count": 27,
   "id": "cb8ab77e",
   "metadata": {
    "execution": {
     "iopub.execute_input": "2023-02-27T08:01:22.638872Z",
     "iopub.status.busy": "2023-02-27T08:01:22.638518Z",
     "iopub.status.idle": "2023-02-27T08:01:22.645991Z",
     "shell.execute_reply": "2023-02-27T08:01:22.645387Z"
    }
   },
   "outputs": [
    {
     "data": {
      "text/plain": [
       "Batch(\n",
       "    a: tensor([[ 0.0921,  0.4500, -0.0551],\n",
       "               [-0.7410,  1.9680, -0.6537],\n",
       "               [ 0.0921,  0.4500, -0.0551],\n",
       "               [-0.7410,  1.9680, -0.6537],\n",
       "               [ 0.0921,  0.4500, -0.0551],\n",
       "               [-0.7410,  1.9680, -0.6537],\n",
       "               [ 0.0921,  0.4500, -0.0551],\n",
       "               [-0.7410,  1.9680, -0.6537],\n",
       "               [ 0.0921,  0.4500, -0.0551],\n",
       "               [-0.7410,  1.9680, -0.6537],\n",
       "               [ 0.0921,  0.4500, -0.0551],\n",
       "               [-0.7410,  1.9680, -0.6537],\n",
       "               [ 0.0921,  0.4500, -0.0551],\n",
       "               [-0.7410,  1.9680, -0.6537],\n",
       "               [ 0.0921,  0.4500, -0.0551],\n",
       "               [-0.7410,  1.9680, -0.6537]]),\n",
       "    x: Batch(\n",
       "           c: tensor([[-0.0095,  1.4761, -1.0964, -0.5983],\n",
       "                      [-0.6769,  1.7113,  0.5884,  0.0904],\n",
       "                      [ 2.3243,  1.0271,  0.3874,  0.8383],\n",
       "                      [-0.0095,  1.4761, -1.0964, -0.5983],\n",
       "                      [-0.6769,  1.7113,  0.5884,  0.0904],\n",
       "                      [ 2.3243,  1.0271,  0.3874,  0.8383],\n",
       "                      [-0.0095,  1.4761, -1.0964, -0.5983],\n",
       "                      [-0.6769,  1.7113,  0.5884,  0.0904],\n",
       "                      [ 2.3243,  1.0271,  0.3874,  0.8383],\n",
       "                      [-0.0095,  1.4761, -1.0964, -0.5983],\n",
       "                      [-0.6769,  1.7113,  0.5884,  0.0904],\n",
       "                      [ 2.3243,  1.0271,  0.3874,  0.8383],\n",
       "                      [-0.0095,  1.4761, -1.0964, -0.5983],\n",
       "                      [-0.6769,  1.7113,  0.5884,  0.0904],\n",
       "                      [ 2.3243,  1.0271,  0.3874,  0.8383],\n",
       "                      [-0.0095,  1.4761, -1.0964, -0.5983],\n",
       "                      [-0.6769,  1.7113,  0.5884,  0.0904],\n",
       "                      [ 2.3243,  1.0271,  0.3874,  0.8383],\n",
       "                      [-0.0095,  1.4761, -1.0964, -0.5983],\n",
       "                      [-0.6769,  1.7113,  0.5884,  0.0904],\n",
       "                      [ 2.3243,  1.0271,  0.3874,  0.8383],\n",
       "                      [-0.0095,  1.4761, -1.0964, -0.5983],\n",
       "                      [-0.6769,  1.7113,  0.5884,  0.0904],\n",
       "                      [ 2.3243,  1.0271,  0.3874,  0.8383]]),\n",
       "       ),\n",
       ")"
      ]
     },
     "execution_count": 27,
     "metadata": {},
     "output_type": "execute_result"
    }
   ],
   "source": [
    "Batch.cat(batches)"
   ]
  },
  {
   "cell_type": "code",
   "execution_count": 28,
   "id": "18dfb045",
   "metadata": {
    "execution": {
     "iopub.execute_input": "2023-02-27T08:01:22.648618Z",
     "iopub.status.busy": "2023-02-27T08:01:22.648275Z",
     "iopub.status.idle": "2023-02-27T08:01:34.257705Z",
     "shell.execute_reply": "2023-02-27T08:01:34.257051Z"
    }
   },
   "outputs": [
    {
     "name": "stdout",
     "output_type": "stream",
     "text": [
      "143 µs ± 246 ns per loop (mean ± std. dev. of 7 runs, 10,000 loops each)\n"
     ]
    }
   ],
   "source": [
    "%timeit Batch.cat(batches)"
   ]
  },
  {
   "cell_type": "code",
   "execution_count": 29,
   "id": "c6688e51",
   "metadata": {
    "execution": {
     "iopub.execute_input": "2023-02-27T08:01:34.260709Z",
     "iopub.status.busy": "2023-02-27T08:01:34.260061Z",
     "iopub.status.idle": "2023-02-27T08:01:36.801046Z",
     "shell.execute_reply": "2023-02-27T08:01:36.800374Z"
    }
   },
   "outputs": [
    {
     "name": "stdout",
     "output_type": "stream",
     "text": [
      "312 µs ± 1.07 µs per loop (mean ± std. dev. of 7 runs, 1,000 loops each)\n"
     ]
    }
   ],
   "source": [
    "batch = Batch({\n",
    "    'obs': torch.randn(8, 4, 84, 84),\n",
    "    'action': torch.randint(0, 6, size=(8, 1,)),\n",
    "    'reward': torch.rand(8, 1)}\n",
    ")\n",
    "\n",
    "%timeit list(Batch.split(batch, 1, shuffle=False, merge_last=True))"
   ]
  },
  {
   "cell_type": "code",
   "execution_count": null,
   "id": "2539fbd9",
   "metadata": {},
   "outputs": [],
   "source": []
  }
 ],
 "metadata": {
  "kernelspec": {
   "display_name": "Python 3 (ipykernel)",
   "language": "python",
   "name": "python3"
  },
  "language_info": {
   "codemirror_mode": {
    "name": "ipython",
    "version": 3
   },
   "file_extension": ".py",
   "mimetype": "text/x-python",
   "name": "python",
   "nbconvert_exporter": "python",
   "pygments_lexer": "ipython3",
   "version": "3.8.16"
  }
 },
 "nbformat": 4,
 "nbformat_minor": 5
}
