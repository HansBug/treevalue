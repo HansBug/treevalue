{
 "cells": [
  {
   "cell_type": "markdown",
   "id": "9d39d946",
   "metadata": {},
   "source": [
    "# Comparison Between TreeValue and Tianshou Batch"
   ]
  },
  {
   "cell_type": "markdown",
   "id": "3c6db2d4",
   "metadata": {},
   "source": [
    "In this section, we will take a look at the feature and performance of the [Tianshou Batch](https://github.com/thu-ml/tianshou) library, which is developed by Tsinghua Machine Learning Group."
   ]
  },
  {
   "cell_type": "markdown",
   "id": "069361b0",
   "metadata": {},
   "source": [
    "Before starting the comparison, let us define some thing."
   ]
  },
  {
   "cell_type": "code",
   "execution_count": 1,
   "id": "06fc8d26",
   "metadata": {
    "execution": {
     "iopub.execute_input": "2023-02-27T09:08:50.215124Z",
     "iopub.status.busy": "2023-02-27T09:08:50.214768Z",
     "iopub.status.idle": "2023-02-27T09:08:51.135506Z",
     "shell.execute_reply": "2023-02-27T09:08:51.134829Z"
    }
   },
   "outputs": [
    {
     "name": "stderr",
     "output_type": "stream",
     "text": [
      "/opt/hostedtoolcache/Python/3.8.16/x64/lib/python3.8/site-packages/tqdm/auto.py:22: TqdmWarning: IProgress not found. Please update jupyter and ipywidgets. See https://ipywidgets.readthedocs.io/en/stable/user_install.html\n",
      "  from .autonotebook import tqdm as notebook_tqdm\n"
     ]
    }
   ],
   "source": [
    "import torch \n",
    "\n",
    "_TREE_DATA_1 = {'a': 1, 'b': 2, 'x': {'c': 3, 'd': 4}}\n",
    "_TREE_DATA_2 = {\n",
    "    'a': torch.randn(2, 3), \n",
    "    'x': {\n",
    "        'c': torch.randn(3, 4)\n",
    "    },\n",
    "}\n",
    "_TREE_DATA_3 = {\n",
    "    'obs': torch.randn(4, 84, 84),\n",
    "    'action': torch.randint(0, 6, size=(1,)),\n",
    "    'reward': torch.rand(1),\n",
    "}"
   ]
  },
  {
   "cell_type": "markdown",
   "id": "83461b25",
   "metadata": {},
   "source": [
    "## Read and Write Operation"
   ]
  },
  {
   "cell_type": "markdown",
   "id": "067b3f73",
   "metadata": {},
   "source": [
    "Reading and writing are the two most common operations in the tree data structure based on the data model (TreeValue and Tianshou Batch both belong to this type), so this section will compare the reading and writing performance of these two libraries."
   ]
  },
  {
   "cell_type": "markdown",
   "id": "5d09a5b7",
   "metadata": {},
   "source": [
    "### TreeValue's Get and Set"
   ]
  },
  {
   "cell_type": "code",
   "execution_count": 2,
   "id": "9519c4bb",
   "metadata": {
    "execution": {
     "iopub.execute_input": "2023-02-27T09:08:51.138917Z",
     "iopub.status.busy": "2023-02-27T09:08:51.138494Z",
     "iopub.status.idle": "2023-02-27T09:08:51.415839Z",
     "shell.execute_reply": "2023-02-27T09:08:51.415161Z"
    }
   },
   "outputs": [],
   "source": [
    "from treevalue import FastTreeValue\n",
    "\n",
    "t = FastTreeValue(_TREE_DATA_2)"
   ]
  },
  {
   "cell_type": "code",
   "execution_count": 3,
   "id": "11c37677",
   "metadata": {
    "execution": {
     "iopub.execute_input": "2023-02-27T09:08:51.419905Z",
     "iopub.status.busy": "2023-02-27T09:08:51.418763Z",
     "iopub.status.idle": "2023-02-27T09:08:51.429321Z",
     "shell.execute_reply": "2023-02-27T09:08:51.428741Z"
    }
   },
   "outputs": [
    {
     "data": {
      "text/plain": [
       "<FastTreeValue 0x7fd9d81a1d90>\n",
       "├── 'a' --> tensor([[ 0.3655, -0.8296,  1.4827],\n",
       "│                   [ 0.5637, -0.1485, -1.1505]])\n",
       "└── 'x' --> <FastTreeValue 0x7fd9d819a760>\n",
       "    └── 'c' --> tensor([[ 0.7795, -0.6993, -0.1945,  0.1362],\n",
       "                        [-0.3711,  1.2983, -0.2928,  0.8376],\n",
       "                        [ 2.1103,  0.4199, -3.4788, -0.7593]])"
      ]
     },
     "execution_count": 3,
     "metadata": {},
     "output_type": "execute_result"
    }
   ],
   "source": [
    "t"
   ]
  },
  {
   "cell_type": "code",
   "execution_count": 4,
   "id": "fd70b0b9",
   "metadata": {
    "execution": {
     "iopub.execute_input": "2023-02-27T09:08:51.432036Z",
     "iopub.status.busy": "2023-02-27T09:08:51.431705Z",
     "iopub.status.idle": "2023-02-27T09:08:51.437096Z",
     "shell.execute_reply": "2023-02-27T09:08:51.436514Z"
    }
   },
   "outputs": [
    {
     "data": {
      "text/plain": [
       "tensor([[ 0.3655, -0.8296,  1.4827],\n",
       "        [ 0.5637, -0.1485, -1.1505]])"
      ]
     },
     "execution_count": 4,
     "metadata": {},
     "output_type": "execute_result"
    }
   ],
   "source": [
    "t.a"
   ]
  },
  {
   "cell_type": "code",
   "execution_count": 5,
   "id": "c18197bd",
   "metadata": {
    "execution": {
     "iopub.execute_input": "2023-02-27T09:08:51.439570Z",
     "iopub.status.busy": "2023-02-27T09:08:51.439222Z",
     "iopub.status.idle": "2023-02-27T09:08:56.419507Z",
     "shell.execute_reply": "2023-02-27T09:08:56.418790Z"
    }
   },
   "outputs": [
    {
     "name": "stdout",
     "output_type": "stream",
     "text": [
      "61.5 ns ± 0.0262 ns per loop (mean ± std. dev. of 7 runs, 10,000,000 loops each)\n"
     ]
    }
   ],
   "source": [
    "%timeit t.a"
   ]
  },
  {
   "cell_type": "code",
   "execution_count": 6,
   "id": "bd52f867",
   "metadata": {
    "execution": {
     "iopub.execute_input": "2023-02-27T09:08:56.422135Z",
     "iopub.status.busy": "2023-02-27T09:08:56.421767Z",
     "iopub.status.idle": "2023-02-27T09:08:56.428572Z",
     "shell.execute_reply": "2023-02-27T09:08:56.427979Z"
    }
   },
   "outputs": [
    {
     "data": {
      "text/plain": [
       "<FastTreeValue 0x7fd9d81a1d90>\n",
       "├── 'a' --> tensor([[-0.0331,  1.0394,  0.9173],\n",
       "│                   [-1.0225, -1.4047,  0.1485]])\n",
       "└── 'x' --> <FastTreeValue 0x7fd9d819a760>\n",
       "    └── 'c' --> tensor([[ 0.7795, -0.6993, -0.1945,  0.1362],\n",
       "                        [-0.3711,  1.2983, -0.2928,  0.8376],\n",
       "                        [ 2.1103,  0.4199, -3.4788, -0.7593]])"
      ]
     },
     "execution_count": 6,
     "metadata": {},
     "output_type": "execute_result"
    }
   ],
   "source": [
    "new_value = torch.randn(2, 3)\n",
    "t.a = new_value\n",
    "\n",
    "t"
   ]
  },
  {
   "cell_type": "code",
   "execution_count": 7,
   "id": "bbe04d1c",
   "metadata": {
    "execution": {
     "iopub.execute_input": "2023-02-27T09:08:56.431026Z",
     "iopub.status.busy": "2023-02-27T09:08:56.430680Z",
     "iopub.status.idle": "2023-02-27T09:09:01.281481Z",
     "shell.execute_reply": "2023-02-27T09:09:01.280728Z"
    }
   },
   "outputs": [
    {
     "name": "stdout",
     "output_type": "stream",
     "text": [
      "59.8 ns ± 0.0257 ns per loop (mean ± std. dev. of 7 runs, 10,000,000 loops each)\n"
     ]
    }
   ],
   "source": [
    "%timeit t.a = new_value"
   ]
  },
  {
   "cell_type": "markdown",
   "id": "48c49731",
   "metadata": {},
   "source": [
    "### Tianshou Batch's Get and Set"
   ]
  },
  {
   "cell_type": "code",
   "execution_count": 8,
   "id": "f1bb14c1",
   "metadata": {
    "execution": {
     "iopub.execute_input": "2023-02-27T09:09:01.284798Z",
     "iopub.status.busy": "2023-02-27T09:09:01.284146Z",
     "iopub.status.idle": "2023-02-27T09:09:01.619098Z",
     "shell.execute_reply": "2023-02-27T09:09:01.618399Z"
    }
   },
   "outputs": [],
   "source": [
    "from tianshou.data import Batch\n",
    "\n",
    "b = Batch(**_TREE_DATA_2)"
   ]
  },
  {
   "cell_type": "code",
   "execution_count": 9,
   "id": "cb0777c3",
   "metadata": {
    "execution": {
     "iopub.execute_input": "2023-02-27T09:09:01.622160Z",
     "iopub.status.busy": "2023-02-27T09:09:01.621827Z",
     "iopub.status.idle": "2023-02-27T09:09:01.627567Z",
     "shell.execute_reply": "2023-02-27T09:09:01.626949Z"
    }
   },
   "outputs": [
    {
     "data": {
      "text/plain": [
       "Batch(\n",
       "    a: tensor([[ 0.3655, -0.8296,  1.4827],\n",
       "               [ 0.5637, -0.1485, -1.1505]]),\n",
       "    x: Batch(\n",
       "           c: tensor([[ 0.7795, -0.6993, -0.1945,  0.1362],\n",
       "                      [-0.3711,  1.2983, -0.2928,  0.8376],\n",
       "                      [ 2.1103,  0.4199, -3.4788, -0.7593]]),\n",
       "       ),\n",
       ")"
      ]
     },
     "execution_count": 9,
     "metadata": {},
     "output_type": "execute_result"
    }
   ],
   "source": [
    "b"
   ]
  },
  {
   "cell_type": "code",
   "execution_count": 10,
   "id": "43ef8ea3",
   "metadata": {
    "execution": {
     "iopub.execute_input": "2023-02-27T09:09:01.630028Z",
     "iopub.status.busy": "2023-02-27T09:09:01.629815Z",
     "iopub.status.idle": "2023-02-27T09:09:01.635127Z",
     "shell.execute_reply": "2023-02-27T09:09:01.634556Z"
    }
   },
   "outputs": [
    {
     "data": {
      "text/plain": [
       "tensor([[ 0.3655, -0.8296,  1.4827],\n",
       "        [ 0.5637, -0.1485, -1.1505]])"
      ]
     },
     "execution_count": 10,
     "metadata": {},
     "output_type": "execute_result"
    }
   ],
   "source": [
    "b.a"
   ]
  },
  {
   "cell_type": "code",
   "execution_count": 11,
   "id": "b785ab72",
   "metadata": {
    "execution": {
     "iopub.execute_input": "2023-02-27T09:09:01.637788Z",
     "iopub.status.busy": "2023-02-27T09:09:01.637461Z",
     "iopub.status.idle": "2023-02-27T09:09:06.442104Z",
     "shell.execute_reply": "2023-02-27T09:09:06.441383Z"
    }
   },
   "outputs": [
    {
     "name": "stdout",
     "output_type": "stream",
     "text": [
      "58.7 ns ± 0.317 ns per loop (mean ± std. dev. of 7 runs, 10,000,000 loops each)\n"
     ]
    }
   ],
   "source": [
    "%timeit b.a"
   ]
  },
  {
   "cell_type": "code",
   "execution_count": 12,
   "id": "ad54dc69",
   "metadata": {
    "execution": {
     "iopub.execute_input": "2023-02-27T09:09:06.445352Z",
     "iopub.status.busy": "2023-02-27T09:09:06.444804Z",
     "iopub.status.idle": "2023-02-27T09:09:06.452424Z",
     "shell.execute_reply": "2023-02-27T09:09:06.451795Z"
    }
   },
   "outputs": [
    {
     "data": {
      "text/plain": [
       "Batch(\n",
       "    a: tensor([[-2.1897,  0.1998, -0.5254],\n",
       "               [ 0.3614,  1.4583,  0.9591]]),\n",
       "    x: Batch(\n",
       "           c: tensor([[ 0.7795, -0.6993, -0.1945,  0.1362],\n",
       "                      [-0.3711,  1.2983, -0.2928,  0.8376],\n",
       "                      [ 2.1103,  0.4199, -3.4788, -0.7593]]),\n",
       "       ),\n",
       ")"
      ]
     },
     "execution_count": 12,
     "metadata": {},
     "output_type": "execute_result"
    }
   ],
   "source": [
    "new_value = torch.randn(2, 3)\n",
    "b.a = new_value\n",
    "\n",
    "b"
   ]
  },
  {
   "cell_type": "code",
   "execution_count": 13,
   "id": "29b1d0bf",
   "metadata": {
    "execution": {
     "iopub.execute_input": "2023-02-27T09:09:06.455292Z",
     "iopub.status.busy": "2023-02-27T09:09:06.454930Z",
     "iopub.status.idle": "2023-02-27T09:09:10.450853Z",
     "shell.execute_reply": "2023-02-27T09:09:10.450078Z"
    }
   },
   "outputs": [
    {
     "name": "stdout",
     "output_type": "stream",
     "text": [
      "491 ns ± 0.2 ns per loop (mean ± std. dev. of 7 runs, 1,000,000 loops each)\n"
     ]
    }
   ],
   "source": [
    "%timeit b.a = new_value"
   ]
  },
  {
   "cell_type": "markdown",
   "id": "b61ad1d0",
   "metadata": {},
   "source": [
    "## Initialization"
   ]
  },
  {
   "cell_type": "markdown",
   "id": "d70f0d54",
   "metadata": {},
   "source": [
    "### TreeValue's Initialization"
   ]
  },
  {
   "cell_type": "code",
   "execution_count": 14,
   "id": "d32a679b",
   "metadata": {
    "execution": {
     "iopub.execute_input": "2023-02-27T09:09:10.453487Z",
     "iopub.status.busy": "2023-02-27T09:09:10.453271Z",
     "iopub.status.idle": "2023-02-27T09:09:17.211892Z",
     "shell.execute_reply": "2023-02-27T09:09:17.211145Z"
    }
   },
   "outputs": [
    {
     "name": "stdout",
     "output_type": "stream",
     "text": [
      "832 ns ± 1.04 ns per loop (mean ± std. dev. of 7 runs, 1,000,000 loops each)\n"
     ]
    }
   ],
   "source": [
    "%timeit FastTreeValue(_TREE_DATA_1)"
   ]
  },
  {
   "cell_type": "markdown",
   "id": "24f3707b",
   "metadata": {},
   "source": [
    "### Tianshou Batch's Initialization"
   ]
  },
  {
   "cell_type": "code",
   "execution_count": 15,
   "id": "ac3958df",
   "metadata": {
    "execution": {
     "iopub.execute_input": "2023-02-27T09:09:17.214684Z",
     "iopub.status.busy": "2023-02-27T09:09:17.214313Z",
     "iopub.status.idle": "2023-02-27T09:09:26.335234Z",
     "shell.execute_reply": "2023-02-27T09:09:26.334469Z"
    }
   },
   "outputs": [
    {
     "name": "stdout",
     "output_type": "stream",
     "text": [
      "11.2 µs ± 57.8 ns per loop (mean ± std. dev. of 7 runs, 100,000 loops each)\n"
     ]
    }
   ],
   "source": [
    "%timeit Batch(**_TREE_DATA_1)"
   ]
  },
  {
   "cell_type": "markdown",
   "id": "1ab82e2d",
   "metadata": {},
   "source": [
    "## Deep Copy Operation"
   ]
  },
  {
   "cell_type": "code",
   "execution_count": 16,
   "id": "210a9442",
   "metadata": {
    "execution": {
     "iopub.execute_input": "2023-02-27T09:09:26.338453Z",
     "iopub.status.busy": "2023-02-27T09:09:26.337789Z",
     "iopub.status.idle": "2023-02-27T09:09:26.341592Z",
     "shell.execute_reply": "2023-02-27T09:09:26.340931Z"
    }
   },
   "outputs": [],
   "source": [
    "import copy"
   ]
  },
  {
   "cell_type": "markdown",
   "id": "5a736274",
   "metadata": {},
   "source": [
    "### Deep Copy of TreeValue"
   ]
  },
  {
   "cell_type": "code",
   "execution_count": 17,
   "id": "f9bcadd6",
   "metadata": {
    "execution": {
     "iopub.execute_input": "2023-02-27T09:09:26.344370Z",
     "iopub.status.busy": "2023-02-27T09:09:26.344139Z",
     "iopub.status.idle": "2023-02-27T09:09:37.684365Z",
     "shell.execute_reply": "2023-02-27T09:09:37.683801Z"
    }
   },
   "outputs": [
    {
     "name": "stdout",
     "output_type": "stream",
     "text": [
      "140 µs ± 556 ns per loop (mean ± std. dev. of 7 runs, 10,000 loops each)\n"
     ]
    }
   ],
   "source": [
    "t3 = FastTreeValue(_TREE_DATA_3)\n",
    "%timeit copy.deepcopy(t3)"
   ]
  },
  {
   "cell_type": "markdown",
   "id": "bf8be7ea",
   "metadata": {},
   "source": [
    "### Deep Copy of Tianshou Batch"
   ]
  },
  {
   "cell_type": "code",
   "execution_count": 18,
   "id": "91998e6f",
   "metadata": {
    "execution": {
     "iopub.execute_input": "2023-02-27T09:09:37.687313Z",
     "iopub.status.busy": "2023-02-27T09:09:37.686640Z",
     "iopub.status.idle": "2023-02-27T09:09:49.260585Z",
     "shell.execute_reply": "2023-02-27T09:09:49.260025Z"
    }
   },
   "outputs": [
    {
     "name": "stdout",
     "output_type": "stream",
     "text": [
      "143 µs ± 506 ns per loop (mean ± std. dev. of 7 runs, 10,000 loops each)\n"
     ]
    }
   ],
   "source": [
    "b3 = Batch(**_TREE_DATA_3)\n",
    "%timeit copy.deepcopy(b3)"
   ]
  },
  {
   "cell_type": "markdown",
   "id": "223162fb",
   "metadata": {},
   "source": [
    "## Stack, Concat and Split Operation"
   ]
  },
  {
   "cell_type": "markdown",
   "id": "85fa4a73",
   "metadata": {},
   "source": [
    "### Performance of TreeValue"
   ]
  },
  {
   "cell_type": "code",
   "execution_count": 19,
   "id": "a0c2b697",
   "metadata": {
    "execution": {
     "iopub.execute_input": "2023-02-27T09:09:49.264001Z",
     "iopub.status.busy": "2023-02-27T09:09:49.262793Z",
     "iopub.status.idle": "2023-02-27T09:09:49.267273Z",
     "shell.execute_reply": "2023-02-27T09:09:49.266746Z"
    }
   },
   "outputs": [],
   "source": [
    "trees = [FastTreeValue(_TREE_DATA_2) for _ in range(8)]"
   ]
  },
  {
   "cell_type": "code",
   "execution_count": 20,
   "id": "017ea5a5",
   "metadata": {
    "execution": {
     "iopub.execute_input": "2023-02-27T09:09:49.270336Z",
     "iopub.status.busy": "2023-02-27T09:09:49.269762Z",
     "iopub.status.idle": "2023-02-27T09:09:49.276631Z",
     "shell.execute_reply": "2023-02-27T09:09:49.276131Z"
    }
   },
   "outputs": [
    {
     "data": {
      "text/plain": [
       "<FastTreeValue 0x7fd921461e50>\n",
       "├── 'a' --> tensor([[[ 0.3655, -0.8296,  1.4827],\n",
       "│                    [ 0.5637, -0.1485, -1.1505]],\n",
       "│           \n",
       "│                   [[ 0.3655, -0.8296,  1.4827],\n",
       "│                    [ 0.5637, -0.1485, -1.1505]],\n",
       "│           \n",
       "│                   [[ 0.3655, -0.8296,  1.4827],\n",
       "│                    [ 0.5637, -0.1485, -1.1505]],\n",
       "│           \n",
       "│                   [[ 0.3655, -0.8296,  1.4827],\n",
       "│                    [ 0.5637, -0.1485, -1.1505]],\n",
       "│           \n",
       "│                   [[ 0.3655, -0.8296,  1.4827],\n",
       "│                    [ 0.5637, -0.1485, -1.1505]],\n",
       "│           \n",
       "│                   [[ 0.3655, -0.8296,  1.4827],\n",
       "│                    [ 0.5637, -0.1485, -1.1505]],\n",
       "│           \n",
       "│                   [[ 0.3655, -0.8296,  1.4827],\n",
       "│                    [ 0.5637, -0.1485, -1.1505]],\n",
       "│           \n",
       "│                   [[ 0.3655, -0.8296,  1.4827],\n",
       "│                    [ 0.5637, -0.1485, -1.1505]]])\n",
       "└── 'x' --> <FastTreeValue 0x7fd921461dc0>\n",
       "    └── 'c' --> tensor([[[ 0.7795, -0.6993, -0.1945,  0.1362],\n",
       "                         [-0.3711,  1.2983, -0.2928,  0.8376],\n",
       "                         [ 2.1103,  0.4199, -3.4788, -0.7593]],\n",
       "                \n",
       "                        [[ 0.7795, -0.6993, -0.1945,  0.1362],\n",
       "                         [-0.3711,  1.2983, -0.2928,  0.8376],\n",
       "                         [ 2.1103,  0.4199, -3.4788, -0.7593]],\n",
       "                \n",
       "                        [[ 0.7795, -0.6993, -0.1945,  0.1362],\n",
       "                         [-0.3711,  1.2983, -0.2928,  0.8376],\n",
       "                         [ 2.1103,  0.4199, -3.4788, -0.7593]],\n",
       "                \n",
       "                        [[ 0.7795, -0.6993, -0.1945,  0.1362],\n",
       "                         [-0.3711,  1.2983, -0.2928,  0.8376],\n",
       "                         [ 2.1103,  0.4199, -3.4788, -0.7593]],\n",
       "                \n",
       "                        [[ 0.7795, -0.6993, -0.1945,  0.1362],\n",
       "                         [-0.3711,  1.2983, -0.2928,  0.8376],\n",
       "                         [ 2.1103,  0.4199, -3.4788, -0.7593]],\n",
       "                \n",
       "                        [[ 0.7795, -0.6993, -0.1945,  0.1362],\n",
       "                         [-0.3711,  1.2983, -0.2928,  0.8376],\n",
       "                         [ 2.1103,  0.4199, -3.4788, -0.7593]],\n",
       "                \n",
       "                        [[ 0.7795, -0.6993, -0.1945,  0.1362],\n",
       "                         [-0.3711,  1.2983, -0.2928,  0.8376],\n",
       "                         [ 2.1103,  0.4199, -3.4788, -0.7593]],\n",
       "                \n",
       "                        [[ 0.7795, -0.6993, -0.1945,  0.1362],\n",
       "                         [-0.3711,  1.2983, -0.2928,  0.8376],\n",
       "                         [ 2.1103,  0.4199, -3.4788, -0.7593]]])"
      ]
     },
     "execution_count": 20,
     "metadata": {},
     "output_type": "execute_result"
    }
   ],
   "source": [
    "t_stack = FastTreeValue.func(subside=True)(torch.stack)\n",
    "\n",
    "t_stack(trees)"
   ]
  },
  {
   "cell_type": "code",
   "execution_count": 21,
   "id": "f8b3f415",
   "metadata": {
    "execution": {
     "iopub.execute_input": "2023-02-27T09:09:49.279141Z",
     "iopub.status.busy": "2023-02-27T09:09:49.278559Z",
     "iopub.status.idle": "2023-02-27T09:09:51.903281Z",
     "shell.execute_reply": "2023-02-27T09:09:51.902541Z"
    }
   },
   "outputs": [
    {
     "name": "stdout",
     "output_type": "stream",
     "text": [
      "32.3 µs ± 62.9 ns per loop (mean ± std. dev. of 7 runs, 10,000 loops each)\n"
     ]
    }
   ],
   "source": [
    "%timeit t_stack(trees)"
   ]
  },
  {
   "cell_type": "code",
   "execution_count": 22,
   "id": "94b56771",
   "metadata": {
    "execution": {
     "iopub.execute_input": "2023-02-27T09:09:51.906335Z",
     "iopub.status.busy": "2023-02-27T09:09:51.905960Z",
     "iopub.status.idle": "2023-02-27T09:09:51.914711Z",
     "shell.execute_reply": "2023-02-27T09:09:51.914112Z"
    }
   },
   "outputs": [
    {
     "data": {
      "text/plain": [
       "<FastTreeValue 0x7fd9280b2ee0>\n",
       "├── 'a' --> tensor([[ 0.3655, -0.8296,  1.4827],\n",
       "│                   [ 0.5637, -0.1485, -1.1505],\n",
       "│                   [ 0.3655, -0.8296,  1.4827],\n",
       "│                   [ 0.5637, -0.1485, -1.1505],\n",
       "│                   [ 0.3655, -0.8296,  1.4827],\n",
       "│                   [ 0.5637, -0.1485, -1.1505],\n",
       "│                   [ 0.3655, -0.8296,  1.4827],\n",
       "│                   [ 0.5637, -0.1485, -1.1505],\n",
       "│                   [ 0.3655, -0.8296,  1.4827],\n",
       "│                   [ 0.5637, -0.1485, -1.1505],\n",
       "│                   [ 0.3655, -0.8296,  1.4827],\n",
       "│                   [ 0.5637, -0.1485, -1.1505],\n",
       "│                   [ 0.3655, -0.8296,  1.4827],\n",
       "│                   [ 0.5637, -0.1485, -1.1505],\n",
       "│                   [ 0.3655, -0.8296,  1.4827],\n",
       "│                   [ 0.5637, -0.1485, -1.1505]])\n",
       "└── 'x' --> <FastTreeValue 0x7fd932b67f70>\n",
       "    └── 'c' --> tensor([[ 0.7795, -0.6993, -0.1945,  0.1362],\n",
       "                        [-0.3711,  1.2983, -0.2928,  0.8376],\n",
       "                        [ 2.1103,  0.4199, -3.4788, -0.7593],\n",
       "                        [ 0.7795, -0.6993, -0.1945,  0.1362],\n",
       "                        [-0.3711,  1.2983, -0.2928,  0.8376],\n",
       "                        [ 2.1103,  0.4199, -3.4788, -0.7593],\n",
       "                        [ 0.7795, -0.6993, -0.1945,  0.1362],\n",
       "                        [-0.3711,  1.2983, -0.2928,  0.8376],\n",
       "                        [ 2.1103,  0.4199, -3.4788, -0.7593],\n",
       "                        [ 0.7795, -0.6993, -0.1945,  0.1362],\n",
       "                        [-0.3711,  1.2983, -0.2928,  0.8376],\n",
       "                        [ 2.1103,  0.4199, -3.4788, -0.7593],\n",
       "                        [ 0.7795, -0.6993, -0.1945,  0.1362],\n",
       "                        [-0.3711,  1.2983, -0.2928,  0.8376],\n",
       "                        [ 2.1103,  0.4199, -3.4788, -0.7593],\n",
       "                        [ 0.7795, -0.6993, -0.1945,  0.1362],\n",
       "                        [-0.3711,  1.2983, -0.2928,  0.8376],\n",
       "                        [ 2.1103,  0.4199, -3.4788, -0.7593],\n",
       "                        [ 0.7795, -0.6993, -0.1945,  0.1362],\n",
       "                        [-0.3711,  1.2983, -0.2928,  0.8376],\n",
       "                        [ 2.1103,  0.4199, -3.4788, -0.7593],\n",
       "                        [ 0.7795, -0.6993, -0.1945,  0.1362],\n",
       "                        [-0.3711,  1.2983, -0.2928,  0.8376],\n",
       "                        [ 2.1103,  0.4199, -3.4788, -0.7593]])"
      ]
     },
     "execution_count": 22,
     "metadata": {},
     "output_type": "execute_result"
    }
   ],
   "source": [
    "t_cat = FastTreeValue.func(subside=True)(torch.cat)\n",
    "\n",
    "t_cat(trees)"
   ]
  },
  {
   "cell_type": "code",
   "execution_count": 23,
   "id": "5e9c06a6",
   "metadata": {
    "execution": {
     "iopub.execute_input": "2023-02-27T09:09:51.917424Z",
     "iopub.status.busy": "2023-02-27T09:09:51.917072Z",
     "iopub.status.idle": "2023-02-27T09:09:54.370889Z",
     "shell.execute_reply": "2023-02-27T09:09:54.370105Z"
    }
   },
   "outputs": [
    {
     "name": "stdout",
     "output_type": "stream",
     "text": [
      "30.2 µs ± 29.3 ns per loop (mean ± std. dev. of 7 runs, 10,000 loops each)\n"
     ]
    }
   ],
   "source": [
    "%timeit t_cat(trees)"
   ]
  },
  {
   "cell_type": "code",
   "execution_count": 24,
   "id": "a3ab5c8f",
   "metadata": {
    "execution": {
     "iopub.execute_input": "2023-02-27T09:09:54.374299Z",
     "iopub.status.busy": "2023-02-27T09:09:54.373885Z",
     "iopub.status.idle": "2023-02-27T09:09:59.264380Z",
     "shell.execute_reply": "2023-02-27T09:09:59.263709Z"
    }
   },
   "outputs": [
    {
     "name": "stdout",
     "output_type": "stream",
     "text": [
      "60.2 µs ± 340 ns per loop (mean ± std. dev. of 7 runs, 10,000 loops each)\n"
     ]
    }
   ],
   "source": [
    "t_split = FastTreeValue.func(rise=True)(torch.split)\n",
    "tree = FastTreeValue({\n",
    "    'obs': torch.randn(8, 4, 84, 84),\n",
    "    'action': torch.randint(0, 6, size=(8, 1,)),\n",
    "    'reward': torch.rand(8, 1),\n",
    "})\n",
    "\n",
    "%timeit t_split(tree, 1)"
   ]
  },
  {
   "cell_type": "markdown",
   "id": "31c3ec0b",
   "metadata": {},
   "source": [
    "### Performance of Tianshou Batch"
   ]
  },
  {
   "cell_type": "code",
   "execution_count": 25,
   "id": "9ead828a",
   "metadata": {
    "execution": {
     "iopub.execute_input": "2023-02-27T09:09:59.267358Z",
     "iopub.status.busy": "2023-02-27T09:09:59.266996Z",
     "iopub.status.idle": "2023-02-27T09:09:59.275707Z",
     "shell.execute_reply": "2023-02-27T09:09:59.275102Z"
    }
   },
   "outputs": [
    {
     "data": {
      "text/plain": [
       "Batch(\n",
       "    x: Batch(\n",
       "           c: tensor([[[ 0.7795, -0.6993, -0.1945,  0.1362],\n",
       "                       [-0.3711,  1.2983, -0.2928,  0.8376],\n",
       "                       [ 2.1103,  0.4199, -3.4788, -0.7593]],\n",
       "              \n",
       "                      [[ 0.7795, -0.6993, -0.1945,  0.1362],\n",
       "                       [-0.3711,  1.2983, -0.2928,  0.8376],\n",
       "                       [ 2.1103,  0.4199, -3.4788, -0.7593]],\n",
       "              \n",
       "                      [[ 0.7795, -0.6993, -0.1945,  0.1362],\n",
       "                       [-0.3711,  1.2983, -0.2928,  0.8376],\n",
       "                       [ 2.1103,  0.4199, -3.4788, -0.7593]],\n",
       "              \n",
       "                      [[ 0.7795, -0.6993, -0.1945,  0.1362],\n",
       "                       [-0.3711,  1.2983, -0.2928,  0.8376],\n",
       "                       [ 2.1103,  0.4199, -3.4788, -0.7593]],\n",
       "              \n",
       "                      [[ 0.7795, -0.6993, -0.1945,  0.1362],\n",
       "                       [-0.3711,  1.2983, -0.2928,  0.8376],\n",
       "                       [ 2.1103,  0.4199, -3.4788, -0.7593]],\n",
       "              \n",
       "                      [[ 0.7795, -0.6993, -0.1945,  0.1362],\n",
       "                       [-0.3711,  1.2983, -0.2928,  0.8376],\n",
       "                       [ 2.1103,  0.4199, -3.4788, -0.7593]],\n",
       "              \n",
       "                      [[ 0.7795, -0.6993, -0.1945,  0.1362],\n",
       "                       [-0.3711,  1.2983, -0.2928,  0.8376],\n",
       "                       [ 2.1103,  0.4199, -3.4788, -0.7593]],\n",
       "              \n",
       "                      [[ 0.7795, -0.6993, -0.1945,  0.1362],\n",
       "                       [-0.3711,  1.2983, -0.2928,  0.8376],\n",
       "                       [ 2.1103,  0.4199, -3.4788, -0.7593]]]),\n",
       "       ),\n",
       "    a: tensor([[[ 0.3655, -0.8296,  1.4827],\n",
       "                [ 0.5637, -0.1485, -1.1505]],\n",
       "       \n",
       "               [[ 0.3655, -0.8296,  1.4827],\n",
       "                [ 0.5637, -0.1485, -1.1505]],\n",
       "       \n",
       "               [[ 0.3655, -0.8296,  1.4827],\n",
       "                [ 0.5637, -0.1485, -1.1505]],\n",
       "       \n",
       "               [[ 0.3655, -0.8296,  1.4827],\n",
       "                [ 0.5637, -0.1485, -1.1505]],\n",
       "       \n",
       "               [[ 0.3655, -0.8296,  1.4827],\n",
       "                [ 0.5637, -0.1485, -1.1505]],\n",
       "       \n",
       "               [[ 0.3655, -0.8296,  1.4827],\n",
       "                [ 0.5637, -0.1485, -1.1505]],\n",
       "       \n",
       "               [[ 0.3655, -0.8296,  1.4827],\n",
       "                [ 0.5637, -0.1485, -1.1505]],\n",
       "       \n",
       "               [[ 0.3655, -0.8296,  1.4827],\n",
       "                [ 0.5637, -0.1485, -1.1505]]]),\n",
       ")"
      ]
     },
     "execution_count": 25,
     "metadata": {},
     "output_type": "execute_result"
    }
   ],
   "source": [
    "batches = [Batch(**_TREE_DATA_2) for _ in range(8)]\n",
    "\n",
    "Batch.stack(batches)"
   ]
  },
  {
   "cell_type": "code",
   "execution_count": 26,
   "id": "ec9037a3",
   "metadata": {
    "execution": {
     "iopub.execute_input": "2023-02-27T09:09:59.279034Z",
     "iopub.status.busy": "2023-02-27T09:09:59.278027Z",
     "iopub.status.idle": "2023-02-27T09:10:05.561730Z",
     "shell.execute_reply": "2023-02-27T09:10:05.561053Z"
    }
   },
   "outputs": [
    {
     "name": "stdout",
     "output_type": "stream",
     "text": [
      "77.4 µs ± 96.4 ns per loop (mean ± std. dev. of 7 runs, 10,000 loops each)\n"
     ]
    }
   ],
   "source": [
    "%timeit Batch.stack(batches)"
   ]
  },
  {
   "cell_type": "code",
   "execution_count": 27,
   "id": "cb8ab77e",
   "metadata": {
    "execution": {
     "iopub.execute_input": "2023-02-27T09:10:05.564840Z",
     "iopub.status.busy": "2023-02-27T09:10:05.564328Z",
     "iopub.status.idle": "2023-02-27T09:10:05.571629Z",
     "shell.execute_reply": "2023-02-27T09:10:05.570948Z"
    }
   },
   "outputs": [
    {
     "data": {
      "text/plain": [
       "Batch(\n",
       "    x: Batch(\n",
       "           c: tensor([[ 0.7795, -0.6993, -0.1945,  0.1362],\n",
       "                      [-0.3711,  1.2983, -0.2928,  0.8376],\n",
       "                      [ 2.1103,  0.4199, -3.4788, -0.7593],\n",
       "                      [ 0.7795, -0.6993, -0.1945,  0.1362],\n",
       "                      [-0.3711,  1.2983, -0.2928,  0.8376],\n",
       "                      [ 2.1103,  0.4199, -3.4788, -0.7593],\n",
       "                      [ 0.7795, -0.6993, -0.1945,  0.1362],\n",
       "                      [-0.3711,  1.2983, -0.2928,  0.8376],\n",
       "                      [ 2.1103,  0.4199, -3.4788, -0.7593],\n",
       "                      [ 0.7795, -0.6993, -0.1945,  0.1362],\n",
       "                      [-0.3711,  1.2983, -0.2928,  0.8376],\n",
       "                      [ 2.1103,  0.4199, -3.4788, -0.7593],\n",
       "                      [ 0.7795, -0.6993, -0.1945,  0.1362],\n",
       "                      [-0.3711,  1.2983, -0.2928,  0.8376],\n",
       "                      [ 2.1103,  0.4199, -3.4788, -0.7593],\n",
       "                      [ 0.7795, -0.6993, -0.1945,  0.1362],\n",
       "                      [-0.3711,  1.2983, -0.2928,  0.8376],\n",
       "                      [ 2.1103,  0.4199, -3.4788, -0.7593],\n",
       "                      [ 0.7795, -0.6993, -0.1945,  0.1362],\n",
       "                      [-0.3711,  1.2983, -0.2928,  0.8376],\n",
       "                      [ 2.1103,  0.4199, -3.4788, -0.7593],\n",
       "                      [ 0.7795, -0.6993, -0.1945,  0.1362],\n",
       "                      [-0.3711,  1.2983, -0.2928,  0.8376],\n",
       "                      [ 2.1103,  0.4199, -3.4788, -0.7593]]),\n",
       "       ),\n",
       "    a: tensor([[ 0.3655, -0.8296,  1.4827],\n",
       "               [ 0.5637, -0.1485, -1.1505],\n",
       "               [ 0.3655, -0.8296,  1.4827],\n",
       "               [ 0.5637, -0.1485, -1.1505],\n",
       "               [ 0.3655, -0.8296,  1.4827],\n",
       "               [ 0.5637, -0.1485, -1.1505],\n",
       "               [ 0.3655, -0.8296,  1.4827],\n",
       "               [ 0.5637, -0.1485, -1.1505],\n",
       "               [ 0.3655, -0.8296,  1.4827],\n",
       "               [ 0.5637, -0.1485, -1.1505],\n",
       "               [ 0.3655, -0.8296,  1.4827],\n",
       "               [ 0.5637, -0.1485, -1.1505],\n",
       "               [ 0.3655, -0.8296,  1.4827],\n",
       "               [ 0.5637, -0.1485, -1.1505],\n",
       "               [ 0.3655, -0.8296,  1.4827],\n",
       "               [ 0.5637, -0.1485, -1.1505]]),\n",
       ")"
      ]
     },
     "execution_count": 27,
     "metadata": {},
     "output_type": "execute_result"
    }
   ],
   "source": [
    "Batch.cat(batches)"
   ]
  },
  {
   "cell_type": "code",
   "execution_count": 28,
   "id": "18dfb045",
   "metadata": {
    "execution": {
     "iopub.execute_input": "2023-02-27T09:10:05.574213Z",
     "iopub.status.busy": "2023-02-27T09:10:05.573969Z",
     "iopub.status.idle": "2023-02-27T09:10:17.140338Z",
     "shell.execute_reply": "2023-02-27T09:10:17.139598Z"
    }
   },
   "outputs": [
    {
     "name": "stdout",
     "output_type": "stream",
     "text": [
      "142 µs ± 286 ns per loop (mean ± std. dev. of 7 runs, 10,000 loops each)\n"
     ]
    }
   ],
   "source": [
    "%timeit Batch.cat(batches)"
   ]
  },
  {
   "cell_type": "code",
   "execution_count": 29,
   "id": "c6688e51",
   "metadata": {
    "execution": {
     "iopub.execute_input": "2023-02-27T09:10:17.143087Z",
     "iopub.status.busy": "2023-02-27T09:10:17.142742Z",
     "iopub.status.idle": "2023-02-27T09:10:19.744134Z",
     "shell.execute_reply": "2023-02-27T09:10:19.743437Z"
    }
   },
   "outputs": [
    {
     "name": "stdout",
     "output_type": "stream",
     "text": [
      "320 µs ± 11.9 µs per loop (mean ± std. dev. of 7 runs, 1,000 loops each)\n"
     ]
    }
   ],
   "source": [
    "batch = Batch({\n",
    "    'obs': torch.randn(8, 4, 84, 84),\n",
    "    'action': torch.randint(0, 6, size=(8, 1,)),\n",
    "    'reward': torch.rand(8, 1)}\n",
    ")\n",
    "\n",
    "%timeit list(Batch.split(batch, 1, shuffle=False, merge_last=True))"
   ]
  },
  {
   "cell_type": "code",
   "execution_count": null,
   "id": "2539fbd9",
   "metadata": {},
   "outputs": [],
   "source": []
  }
 ],
 "metadata": {
  "kernelspec": {
   "display_name": "Python 3 (ipykernel)",
   "language": "python",
   "name": "python3"
  },
  "language_info": {
   "codemirror_mode": {
    "name": "ipython",
    "version": 3
   },
   "file_extension": ".py",
   "mimetype": "text/x-python",
   "name": "python",
   "nbconvert_exporter": "python",
   "pygments_lexer": "ipython3",
   "version": "3.8.16"
  }
 },
 "nbformat": 4,
 "nbformat_minor": 5
}
