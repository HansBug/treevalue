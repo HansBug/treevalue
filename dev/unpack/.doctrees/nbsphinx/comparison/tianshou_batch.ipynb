{
 "cells": [
  {
   "cell_type": "markdown",
   "id": "9d39d946",
   "metadata": {},
   "source": [
    "# Comparison Between TreeValue and Tianshou Batch"
   ]
  },
  {
   "cell_type": "markdown",
   "id": "3c6db2d4",
   "metadata": {},
   "source": [
    "In this section, we will take a look at the feature and performance of the [Tianshou Batch](https://github.com/thu-ml/tianshou) library, which is developed by Tsinghua Machine Learning Group."
   ]
  },
  {
   "cell_type": "markdown",
   "id": "069361b0",
   "metadata": {},
   "source": [
    "Before starting the comparison, let us define some thing."
   ]
  },
  {
   "cell_type": "code",
   "execution_count": 1,
   "id": "06fc8d26",
   "metadata": {
    "execution": {
     "iopub.execute_input": "2023-02-27T12:51:42.988546Z",
     "iopub.status.busy": "2023-02-27T12:51:42.988262Z",
     "iopub.status.idle": "2023-02-27T12:51:43.998552Z",
     "shell.execute_reply": "2023-02-27T12:51:43.997723Z"
    }
   },
   "outputs": [
    {
     "name": "stderr",
     "output_type": "stream",
     "text": [
      "/opt/hostedtoolcache/Python/3.8.16/x64/lib/python3.8/site-packages/tqdm/auto.py:22: TqdmWarning: IProgress not found. Please update jupyter and ipywidgets. See https://ipywidgets.readthedocs.io/en/stable/user_install.html\n",
      "  from .autonotebook import tqdm as notebook_tqdm\n"
     ]
    }
   ],
   "source": [
    "import torch \n",
    "\n",
    "_TREE_DATA_1 = {'a': 1, 'b': 2, 'x': {'c': 3, 'd': 4}}\n",
    "_TREE_DATA_2 = {\n",
    "    'a': torch.randn(2, 3), \n",
    "    'x': {\n",
    "        'c': torch.randn(3, 4)\n",
    "    },\n",
    "}\n",
    "_TREE_DATA_3 = {\n",
    "    'obs': torch.randn(4, 84, 84),\n",
    "    'action': torch.randint(0, 6, size=(1,)),\n",
    "    'reward': torch.rand(1),\n",
    "}"
   ]
  },
  {
   "cell_type": "markdown",
   "id": "83461b25",
   "metadata": {},
   "source": [
    "## Read and Write Operation"
   ]
  },
  {
   "cell_type": "markdown",
   "id": "067b3f73",
   "metadata": {},
   "source": [
    "Reading and writing are the two most common operations in the tree data structure based on the data model (TreeValue and Tianshou Batch both belong to this type), so this section will compare the reading and writing performance of these two libraries."
   ]
  },
  {
   "cell_type": "markdown",
   "id": "5d09a5b7",
   "metadata": {},
   "source": [
    "### TreeValue's Get and Set"
   ]
  },
  {
   "cell_type": "code",
   "execution_count": 2,
   "id": "9519c4bb",
   "metadata": {
    "execution": {
     "iopub.execute_input": "2023-02-27T12:51:44.002705Z",
     "iopub.status.busy": "2023-02-27T12:51:44.001942Z",
     "iopub.status.idle": "2023-02-27T12:51:44.300116Z",
     "shell.execute_reply": "2023-02-27T12:51:44.299250Z"
    }
   },
   "outputs": [],
   "source": [
    "from treevalue import FastTreeValue\n",
    "\n",
    "t = FastTreeValue(_TREE_DATA_2)"
   ]
  },
  {
   "cell_type": "code",
   "execution_count": 3,
   "id": "11c37677",
   "metadata": {
    "execution": {
     "iopub.execute_input": "2023-02-27T12:51:44.303963Z",
     "iopub.status.busy": "2023-02-27T12:51:44.303438Z",
     "iopub.status.idle": "2023-02-27T12:51:44.313842Z",
     "shell.execute_reply": "2023-02-27T12:51:44.313086Z"
    }
   },
   "outputs": [
    {
     "data": {
      "text/plain": [
       "<FastTreeValue 0x7f1aac198c40>\n",
       "├── 'a' --> tensor([[-0.4406, -1.0021, -0.1355],\n",
       "│                   [ 0.8399, -1.0085, -0.1131]])\n",
       "└── 'x' --> <FastTreeValue 0x7f1aac198b80>\n",
       "    └── 'c' --> tensor([[ 0.0763, -0.0909,  0.9921, -0.7996],\n",
       "                        [-0.4322,  2.0187,  1.3912, -1.7986],\n",
       "                        [ 0.6306,  0.0748,  0.0459, -0.1235]])"
      ]
     },
     "execution_count": 3,
     "metadata": {},
     "output_type": "execute_result"
    }
   ],
   "source": [
    "t"
   ]
  },
  {
   "cell_type": "code",
   "execution_count": 4,
   "id": "fd70b0b9",
   "metadata": {
    "execution": {
     "iopub.execute_input": "2023-02-27T12:51:44.317288Z",
     "iopub.status.busy": "2023-02-27T12:51:44.316668Z",
     "iopub.status.idle": "2023-02-27T12:51:44.323197Z",
     "shell.execute_reply": "2023-02-27T12:51:44.322577Z"
    }
   },
   "outputs": [
    {
     "data": {
      "text/plain": [
       "tensor([[-0.4406, -1.0021, -0.1355],\n",
       "        [ 0.8399, -1.0085, -0.1131]])"
      ]
     },
     "execution_count": 4,
     "metadata": {},
     "output_type": "execute_result"
    }
   ],
   "source": [
    "t.a"
   ]
  },
  {
   "cell_type": "code",
   "execution_count": 5,
   "id": "c18197bd",
   "metadata": {
    "execution": {
     "iopub.execute_input": "2023-02-27T12:51:44.325954Z",
     "iopub.status.busy": "2023-02-27T12:51:44.325494Z",
     "iopub.status.idle": "2023-02-27T12:51:49.513707Z",
     "shell.execute_reply": "2023-02-27T12:51:49.512799Z"
    }
   },
   "outputs": [
    {
     "name": "stdout",
     "output_type": "stream",
     "text": [
      "63.9 ns ± 0.0568 ns per loop (mean ± std. dev. of 7 runs, 10,000,000 loops each)\n"
     ]
    }
   ],
   "source": [
    "%timeit t.a"
   ]
  },
  {
   "cell_type": "code",
   "execution_count": 6,
   "id": "bd52f867",
   "metadata": {
    "execution": {
     "iopub.execute_input": "2023-02-27T12:51:49.517612Z",
     "iopub.status.busy": "2023-02-27T12:51:49.516979Z",
     "iopub.status.idle": "2023-02-27T12:51:49.524530Z",
     "shell.execute_reply": "2023-02-27T12:51:49.523837Z"
    }
   },
   "outputs": [
    {
     "data": {
      "text/plain": [
       "<FastTreeValue 0x7f1aac198c40>\n",
       "├── 'a' --> tensor([[ 0.4904,  0.2267,  1.0148],\n",
       "│                   [ 0.4124, -0.3059, -1.5594]])\n",
       "└── 'x' --> <FastTreeValue 0x7f1aac198b80>\n",
       "    └── 'c' --> tensor([[ 0.0763, -0.0909,  0.9921, -0.7996],\n",
       "                        [-0.4322,  2.0187,  1.3912, -1.7986],\n",
       "                        [ 0.6306,  0.0748,  0.0459, -0.1235]])"
      ]
     },
     "execution_count": 6,
     "metadata": {},
     "output_type": "execute_result"
    }
   ],
   "source": [
    "new_value = torch.randn(2, 3)\n",
    "t.a = new_value\n",
    "\n",
    "t"
   ]
  },
  {
   "cell_type": "code",
   "execution_count": 7,
   "id": "bbe04d1c",
   "metadata": {
    "execution": {
     "iopub.execute_input": "2023-02-27T12:51:49.527628Z",
     "iopub.status.busy": "2023-02-27T12:51:49.527128Z",
     "iopub.status.idle": "2023-02-27T12:51:54.929070Z",
     "shell.execute_reply": "2023-02-27T12:51:54.928165Z"
    }
   },
   "outputs": [
    {
     "name": "stdout",
     "output_type": "stream",
     "text": [
      "66.6 ns ± 0.148 ns per loop (mean ± std. dev. of 7 runs, 10,000,000 loops each)\n"
     ]
    }
   ],
   "source": [
    "%timeit t.a = new_value"
   ]
  },
  {
   "cell_type": "markdown",
   "id": "48c49731",
   "metadata": {},
   "source": [
    "### Tianshou Batch's Get and Set"
   ]
  },
  {
   "cell_type": "code",
   "execution_count": 8,
   "id": "f1bb14c1",
   "metadata": {
    "execution": {
     "iopub.execute_input": "2023-02-27T12:51:54.932701Z",
     "iopub.status.busy": "2023-02-27T12:51:54.932097Z",
     "iopub.status.idle": "2023-02-27T12:51:55.313210Z",
     "shell.execute_reply": "2023-02-27T12:51:55.312381Z"
    }
   },
   "outputs": [],
   "source": [
    "from tianshou.data import Batch\n",
    "\n",
    "b = Batch(**_TREE_DATA_2)"
   ]
  },
  {
   "cell_type": "code",
   "execution_count": 9,
   "id": "cb0777c3",
   "metadata": {
    "execution": {
     "iopub.execute_input": "2023-02-27T12:51:55.317249Z",
     "iopub.status.busy": "2023-02-27T12:51:55.316617Z",
     "iopub.status.idle": "2023-02-27T12:51:55.323429Z",
     "shell.execute_reply": "2023-02-27T12:51:55.322787Z"
    }
   },
   "outputs": [
    {
     "data": {
      "text/plain": [
       "Batch(\n",
       "    a: tensor([[-0.4406, -1.0021, -0.1355],\n",
       "               [ 0.8399, -1.0085, -0.1131]]),\n",
       "    x: Batch(\n",
       "           c: tensor([[ 0.0763, -0.0909,  0.9921, -0.7996],\n",
       "                      [-0.4322,  2.0187,  1.3912, -1.7986],\n",
       "                      [ 0.6306,  0.0748,  0.0459, -0.1235]]),\n",
       "       ),\n",
       ")"
      ]
     },
     "execution_count": 9,
     "metadata": {},
     "output_type": "execute_result"
    }
   ],
   "source": [
    "b"
   ]
  },
  {
   "cell_type": "code",
   "execution_count": 10,
   "id": "43ef8ea3",
   "metadata": {
    "execution": {
     "iopub.execute_input": "2023-02-27T12:51:55.326322Z",
     "iopub.status.busy": "2023-02-27T12:51:55.325858Z",
     "iopub.status.idle": "2023-02-27T12:51:55.330878Z",
     "shell.execute_reply": "2023-02-27T12:51:55.330205Z"
    }
   },
   "outputs": [
    {
     "data": {
      "text/plain": [
       "tensor([[-0.4406, -1.0021, -0.1355],\n",
       "        [ 0.8399, -1.0085, -0.1131]])"
      ]
     },
     "execution_count": 10,
     "metadata": {},
     "output_type": "execute_result"
    }
   ],
   "source": [
    "b.a"
   ]
  },
  {
   "cell_type": "code",
   "execution_count": 11,
   "id": "b785ab72",
   "metadata": {
    "execution": {
     "iopub.execute_input": "2023-02-27T12:51:55.333779Z",
     "iopub.status.busy": "2023-02-27T12:51:55.333238Z",
     "iopub.status.idle": "2023-02-27T12:52:00.046742Z",
     "shell.execute_reply": "2023-02-27T12:52:00.045847Z"
    }
   },
   "outputs": [
    {
     "name": "stdout",
     "output_type": "stream",
     "text": [
      "58 ns ± 0.0687 ns per loop (mean ± std. dev. of 7 runs, 10,000,000 loops each)\n"
     ]
    }
   ],
   "source": [
    "%timeit b.a"
   ]
  },
  {
   "cell_type": "code",
   "execution_count": 12,
   "id": "ad54dc69",
   "metadata": {
    "execution": {
     "iopub.execute_input": "2023-02-27T12:52:00.050526Z",
     "iopub.status.busy": "2023-02-27T12:52:00.049860Z",
     "iopub.status.idle": "2023-02-27T12:52:00.056282Z",
     "shell.execute_reply": "2023-02-27T12:52:00.055589Z"
    }
   },
   "outputs": [
    {
     "data": {
      "text/plain": [
       "Batch(\n",
       "    a: tensor([[-0.7768, -0.9710, -0.5246],\n",
       "               [ 0.8231, -0.3547,  0.1060]]),\n",
       "    x: Batch(\n",
       "           c: tensor([[ 0.0763, -0.0909,  0.9921, -0.7996],\n",
       "                      [-0.4322,  2.0187,  1.3912, -1.7986],\n",
       "                      [ 0.6306,  0.0748,  0.0459, -0.1235]]),\n",
       "       ),\n",
       ")"
      ]
     },
     "execution_count": 12,
     "metadata": {},
     "output_type": "execute_result"
    }
   ],
   "source": [
    "new_value = torch.randn(2, 3)\n",
    "b.a = new_value\n",
    "\n",
    "b"
   ]
  },
  {
   "cell_type": "code",
   "execution_count": 13,
   "id": "29b1d0bf",
   "metadata": {
    "execution": {
     "iopub.execute_input": "2023-02-27T12:52:00.059155Z",
     "iopub.status.busy": "2023-02-27T12:52:00.058581Z",
     "iopub.status.idle": "2023-02-27T12:52:04.187964Z",
     "shell.execute_reply": "2023-02-27T12:52:04.187075Z"
    }
   },
   "outputs": [
    {
     "name": "stdout",
     "output_type": "stream",
     "text": [
      "510 ns ± 0.159 ns per loop (mean ± std. dev. of 7 runs, 1,000,000 loops each)\n"
     ]
    }
   ],
   "source": [
    "%timeit b.a = new_value"
   ]
  },
  {
   "cell_type": "markdown",
   "id": "b61ad1d0",
   "metadata": {},
   "source": [
    "## Initialization"
   ]
  },
  {
   "cell_type": "markdown",
   "id": "d70f0d54",
   "metadata": {},
   "source": [
    "### TreeValue's Initialization"
   ]
  },
  {
   "cell_type": "code",
   "execution_count": 14,
   "id": "d32a679b",
   "metadata": {
    "execution": {
     "iopub.execute_input": "2023-02-27T12:52:04.191431Z",
     "iopub.status.busy": "2023-02-27T12:52:04.190908Z",
     "iopub.status.idle": "2023-02-27T12:52:10.761334Z",
     "shell.execute_reply": "2023-02-27T12:52:10.760130Z"
    }
   },
   "outputs": [
    {
     "name": "stdout",
     "output_type": "stream",
     "text": [
      "807 ns ± 0.195 ns per loop (mean ± std. dev. of 7 runs, 1,000,000 loops each)\n"
     ]
    }
   ],
   "source": [
    "%timeit FastTreeValue(_TREE_DATA_1)"
   ]
  },
  {
   "cell_type": "markdown",
   "id": "24f3707b",
   "metadata": {},
   "source": [
    "### Tianshou Batch's Initialization"
   ]
  },
  {
   "cell_type": "code",
   "execution_count": 15,
   "id": "ac3958df",
   "metadata": {
    "execution": {
     "iopub.execute_input": "2023-02-27T12:52:10.764785Z",
     "iopub.status.busy": "2023-02-27T12:52:10.764353Z",
     "iopub.status.idle": "2023-02-27T12:52:19.558205Z",
     "shell.execute_reply": "2023-02-27T12:52:19.557321Z"
    }
   },
   "outputs": [
    {
     "name": "stdout",
     "output_type": "stream",
     "text": [
      "10.8 µs ± 56.3 ns per loop (mean ± std. dev. of 7 runs, 100,000 loops each)\n"
     ]
    }
   ],
   "source": [
    "%timeit Batch(**_TREE_DATA_1)"
   ]
  },
  {
   "cell_type": "markdown",
   "id": "1ab82e2d",
   "metadata": {},
   "source": [
    "## Deep Copy Operation"
   ]
  },
  {
   "cell_type": "code",
   "execution_count": 16,
   "id": "210a9442",
   "metadata": {
    "execution": {
     "iopub.execute_input": "2023-02-27T12:52:19.562080Z",
     "iopub.status.busy": "2023-02-27T12:52:19.561556Z",
     "iopub.status.idle": "2023-02-27T12:52:19.565816Z",
     "shell.execute_reply": "2023-02-27T12:52:19.565100Z"
    }
   },
   "outputs": [],
   "source": [
    "import copy"
   ]
  },
  {
   "cell_type": "markdown",
   "id": "5a736274",
   "metadata": {},
   "source": [
    "### Deep Copy of TreeValue"
   ]
  },
  {
   "cell_type": "code",
   "execution_count": 17,
   "id": "f9bcadd6",
   "metadata": {
    "execution": {
     "iopub.execute_input": "2023-02-27T12:52:19.568737Z",
     "iopub.status.busy": "2023-02-27T12:52:19.568374Z",
     "iopub.status.idle": "2023-02-27T12:52:31.197431Z",
     "shell.execute_reply": "2023-02-27T12:52:31.196782Z"
    }
   },
   "outputs": [
    {
     "name": "stdout",
     "output_type": "stream",
     "text": [
      "143 µs ± 1.68 µs per loop (mean ± std. dev. of 7 runs, 10,000 loops each)\n"
     ]
    }
   ],
   "source": [
    "t3 = FastTreeValue(_TREE_DATA_3)\n",
    "%timeit copy.deepcopy(t3)"
   ]
  },
  {
   "cell_type": "markdown",
   "id": "bf8be7ea",
   "metadata": {},
   "source": [
    "### Deep Copy of Tianshou Batch"
   ]
  },
  {
   "cell_type": "code",
   "execution_count": 18,
   "id": "91998e6f",
   "metadata": {
    "execution": {
     "iopub.execute_input": "2023-02-27T12:52:31.200330Z",
     "iopub.status.busy": "2023-02-27T12:52:31.199894Z",
     "iopub.status.idle": "2023-02-27T12:52:42.788818Z",
     "shell.execute_reply": "2023-02-27T12:52:42.788148Z"
    }
   },
   "outputs": [
    {
     "name": "stdout",
     "output_type": "stream",
     "text": [
      "143 µs ± 476 ns per loop (mean ± std. dev. of 7 runs, 10,000 loops each)\n"
     ]
    }
   ],
   "source": [
    "b3 = Batch(**_TREE_DATA_3)\n",
    "%timeit copy.deepcopy(b3)"
   ]
  },
  {
   "cell_type": "markdown",
   "id": "223162fb",
   "metadata": {},
   "source": [
    "## Stack, Concat and Split Operation"
   ]
  },
  {
   "cell_type": "markdown",
   "id": "85fa4a73",
   "metadata": {},
   "source": [
    "### Performance of TreeValue"
   ]
  },
  {
   "cell_type": "code",
   "execution_count": 19,
   "id": "a0c2b697",
   "metadata": {
    "execution": {
     "iopub.execute_input": "2023-02-27T12:52:42.791736Z",
     "iopub.status.busy": "2023-02-27T12:52:42.791305Z",
     "iopub.status.idle": "2023-02-27T12:52:42.795015Z",
     "shell.execute_reply": "2023-02-27T12:52:42.794452Z"
    }
   },
   "outputs": [],
   "source": [
    "trees = [FastTreeValue(_TREE_DATA_2) for _ in range(8)]"
   ]
  },
  {
   "cell_type": "code",
   "execution_count": 20,
   "id": "017ea5a5",
   "metadata": {
    "execution": {
     "iopub.execute_input": "2023-02-27T12:52:42.797815Z",
     "iopub.status.busy": "2023-02-27T12:52:42.797111Z",
     "iopub.status.idle": "2023-02-27T12:52:42.804675Z",
     "shell.execute_reply": "2023-02-27T12:52:42.804112Z"
    }
   },
   "outputs": [
    {
     "data": {
      "text/plain": [
       "<FastTreeValue 0x7f19f7428a60>\n",
       "├── 'a' --> tensor([[[-0.4406, -1.0021, -0.1355],\n",
       "│                    [ 0.8399, -1.0085, -0.1131]],\n",
       "│           \n",
       "│                   [[-0.4406, -1.0021, -0.1355],\n",
       "│                    [ 0.8399, -1.0085, -0.1131]],\n",
       "│           \n",
       "│                   [[-0.4406, -1.0021, -0.1355],\n",
       "│                    [ 0.8399, -1.0085, -0.1131]],\n",
       "│           \n",
       "│                   [[-0.4406, -1.0021, -0.1355],\n",
       "│                    [ 0.8399, -1.0085, -0.1131]],\n",
       "│           \n",
       "│                   [[-0.4406, -1.0021, -0.1355],\n",
       "│                    [ 0.8399, -1.0085, -0.1131]],\n",
       "│           \n",
       "│                   [[-0.4406, -1.0021, -0.1355],\n",
       "│                    [ 0.8399, -1.0085, -0.1131]],\n",
       "│           \n",
       "│                   [[-0.4406, -1.0021, -0.1355],\n",
       "│                    [ 0.8399, -1.0085, -0.1131]],\n",
       "│           \n",
       "│                   [[-0.4406, -1.0021, -0.1355],\n",
       "│                    [ 0.8399, -1.0085, -0.1131]]])\n",
       "└── 'x' --> <FastTreeValue 0x7f19f7428b20>\n",
       "    └── 'c' --> tensor([[[ 0.0763, -0.0909,  0.9921, -0.7996],\n",
       "                         [-0.4322,  2.0187,  1.3912, -1.7986],\n",
       "                         [ 0.6306,  0.0748,  0.0459, -0.1235]],\n",
       "                \n",
       "                        [[ 0.0763, -0.0909,  0.9921, -0.7996],\n",
       "                         [-0.4322,  2.0187,  1.3912, -1.7986],\n",
       "                         [ 0.6306,  0.0748,  0.0459, -0.1235]],\n",
       "                \n",
       "                        [[ 0.0763, -0.0909,  0.9921, -0.7996],\n",
       "                         [-0.4322,  2.0187,  1.3912, -1.7986],\n",
       "                         [ 0.6306,  0.0748,  0.0459, -0.1235]],\n",
       "                \n",
       "                        [[ 0.0763, -0.0909,  0.9921, -0.7996],\n",
       "                         [-0.4322,  2.0187,  1.3912, -1.7986],\n",
       "                         [ 0.6306,  0.0748,  0.0459, -0.1235]],\n",
       "                \n",
       "                        [[ 0.0763, -0.0909,  0.9921, -0.7996],\n",
       "                         [-0.4322,  2.0187,  1.3912, -1.7986],\n",
       "                         [ 0.6306,  0.0748,  0.0459, -0.1235]],\n",
       "                \n",
       "                        [[ 0.0763, -0.0909,  0.9921, -0.7996],\n",
       "                         [-0.4322,  2.0187,  1.3912, -1.7986],\n",
       "                         [ 0.6306,  0.0748,  0.0459, -0.1235]],\n",
       "                \n",
       "                        [[ 0.0763, -0.0909,  0.9921, -0.7996],\n",
       "                         [-0.4322,  2.0187,  1.3912, -1.7986],\n",
       "                         [ 0.6306,  0.0748,  0.0459, -0.1235]],\n",
       "                \n",
       "                        [[ 0.0763, -0.0909,  0.9921, -0.7996],\n",
       "                         [-0.4322,  2.0187,  1.3912, -1.7986],\n",
       "                         [ 0.6306,  0.0748,  0.0459, -0.1235]]])"
      ]
     },
     "execution_count": 20,
     "metadata": {},
     "output_type": "execute_result"
    }
   ],
   "source": [
    "t_stack = FastTreeValue.func(subside=True)(torch.stack)\n",
    "\n",
    "t_stack(trees)"
   ]
  },
  {
   "cell_type": "code",
   "execution_count": 21,
   "id": "f8b3f415",
   "metadata": {
    "execution": {
     "iopub.execute_input": "2023-02-27T12:52:42.807322Z",
     "iopub.status.busy": "2023-02-27T12:52:42.806643Z",
     "iopub.status.idle": "2023-02-27T12:52:45.337311Z",
     "shell.execute_reply": "2023-02-27T12:52:45.336417Z"
    }
   },
   "outputs": [
    {
     "name": "stdout",
     "output_type": "stream",
     "text": [
      "31.1 µs ± 80.6 ns per loop (mean ± std. dev. of 7 runs, 10,000 loops each)\n"
     ]
    }
   ],
   "source": [
    "%timeit t_stack(trees)"
   ]
  },
  {
   "cell_type": "code",
   "execution_count": 22,
   "id": "94b56771",
   "metadata": {
    "execution": {
     "iopub.execute_input": "2023-02-27T12:52:45.340977Z",
     "iopub.status.busy": "2023-02-27T12:52:45.340377Z",
     "iopub.status.idle": "2023-02-27T12:52:45.348758Z",
     "shell.execute_reply": "2023-02-27T12:52:45.348110Z"
    }
   },
   "outputs": [
    {
     "data": {
      "text/plain": [
       "<FastTreeValue 0x7f1a091d62b0>\n",
       "├── 'a' --> tensor([[-0.4406, -1.0021, -0.1355],\n",
       "│                   [ 0.8399, -1.0085, -0.1131],\n",
       "│                   [-0.4406, -1.0021, -0.1355],\n",
       "│                   [ 0.8399, -1.0085, -0.1131],\n",
       "│                   [-0.4406, -1.0021, -0.1355],\n",
       "│                   [ 0.8399, -1.0085, -0.1131],\n",
       "│                   [-0.4406, -1.0021, -0.1355],\n",
       "│                   [ 0.8399, -1.0085, -0.1131],\n",
       "│                   [-0.4406, -1.0021, -0.1355],\n",
       "│                   [ 0.8399, -1.0085, -0.1131],\n",
       "│                   [-0.4406, -1.0021, -0.1355],\n",
       "│                   [ 0.8399, -1.0085, -0.1131],\n",
       "│                   [-0.4406, -1.0021, -0.1355],\n",
       "│                   [ 0.8399, -1.0085, -0.1131],\n",
       "│                   [-0.4406, -1.0021, -0.1355],\n",
       "│                   [ 0.8399, -1.0085, -0.1131]])\n",
       "└── 'x' --> <FastTreeValue 0x7f19f7521460>\n",
       "    └── 'c' --> tensor([[ 0.0763, -0.0909,  0.9921, -0.7996],\n",
       "                        [-0.4322,  2.0187,  1.3912, -1.7986],\n",
       "                        [ 0.6306,  0.0748,  0.0459, -0.1235],\n",
       "                        [ 0.0763, -0.0909,  0.9921, -0.7996],\n",
       "                        [-0.4322,  2.0187,  1.3912, -1.7986],\n",
       "                        [ 0.6306,  0.0748,  0.0459, -0.1235],\n",
       "                        [ 0.0763, -0.0909,  0.9921, -0.7996],\n",
       "                        [-0.4322,  2.0187,  1.3912, -1.7986],\n",
       "                        [ 0.6306,  0.0748,  0.0459, -0.1235],\n",
       "                        [ 0.0763, -0.0909,  0.9921, -0.7996],\n",
       "                        [-0.4322,  2.0187,  1.3912, -1.7986],\n",
       "                        [ 0.6306,  0.0748,  0.0459, -0.1235],\n",
       "                        [ 0.0763, -0.0909,  0.9921, -0.7996],\n",
       "                        [-0.4322,  2.0187,  1.3912, -1.7986],\n",
       "                        [ 0.6306,  0.0748,  0.0459, -0.1235],\n",
       "                        [ 0.0763, -0.0909,  0.9921, -0.7996],\n",
       "                        [-0.4322,  2.0187,  1.3912, -1.7986],\n",
       "                        [ 0.6306,  0.0748,  0.0459, -0.1235],\n",
       "                        [ 0.0763, -0.0909,  0.9921, -0.7996],\n",
       "                        [-0.4322,  2.0187,  1.3912, -1.7986],\n",
       "                        [ 0.6306,  0.0748,  0.0459, -0.1235],\n",
       "                        [ 0.0763, -0.0909,  0.9921, -0.7996],\n",
       "                        [-0.4322,  2.0187,  1.3912, -1.7986],\n",
       "                        [ 0.6306,  0.0748,  0.0459, -0.1235]])"
      ]
     },
     "execution_count": 22,
     "metadata": {},
     "output_type": "execute_result"
    }
   ],
   "source": [
    "t_cat = FastTreeValue.func(subside=True)(torch.cat)\n",
    "\n",
    "t_cat(trees)"
   ]
  },
  {
   "cell_type": "code",
   "execution_count": 23,
   "id": "5e9c06a6",
   "metadata": {
    "execution": {
     "iopub.execute_input": "2023-02-27T12:52:45.351585Z",
     "iopub.status.busy": "2023-02-27T12:52:45.351017Z",
     "iopub.status.idle": "2023-02-27T12:52:47.757115Z",
     "shell.execute_reply": "2023-02-27T12:52:47.756170Z"
    }
   },
   "outputs": [
    {
     "name": "stdout",
     "output_type": "stream",
     "text": [
      "29.6 µs ± 84.6 ns per loop (mean ± std. dev. of 7 runs, 10,000 loops each)\n"
     ]
    }
   ],
   "source": [
    "%timeit t_cat(trees)"
   ]
  },
  {
   "cell_type": "code",
   "execution_count": 24,
   "id": "a3ab5c8f",
   "metadata": {
    "execution": {
     "iopub.execute_input": "2023-02-27T12:52:47.760496Z",
     "iopub.status.busy": "2023-02-27T12:52:47.760221Z",
     "iopub.status.idle": "2023-02-27T12:52:52.359382Z",
     "shell.execute_reply": "2023-02-27T12:52:52.358536Z"
    }
   },
   "outputs": [
    {
     "name": "stdout",
     "output_type": "stream",
     "text": [
      "56.5 µs ± 59.8 ns per loop (mean ± std. dev. of 7 runs, 10,000 loops each)\n"
     ]
    }
   ],
   "source": [
    "t_split = FastTreeValue.func(rise=True)(torch.split)\n",
    "tree = FastTreeValue({\n",
    "    'obs': torch.randn(8, 4, 84, 84),\n",
    "    'action': torch.randint(0, 6, size=(8, 1,)),\n",
    "    'reward': torch.rand(8, 1),\n",
    "})\n",
    "\n",
    "%timeit t_split(tree, 1)"
   ]
  },
  {
   "cell_type": "markdown",
   "id": "31c3ec0b",
   "metadata": {},
   "source": [
    "### Performance of Tianshou Batch"
   ]
  },
  {
   "cell_type": "code",
   "execution_count": 25,
   "id": "9ead828a",
   "metadata": {
    "execution": {
     "iopub.execute_input": "2023-02-27T12:52:52.362749Z",
     "iopub.status.busy": "2023-02-27T12:52:52.362316Z",
     "iopub.status.idle": "2023-02-27T12:52:52.371311Z",
     "shell.execute_reply": "2023-02-27T12:52:52.370628Z"
    }
   },
   "outputs": [
    {
     "data": {
      "text/plain": [
       "Batch(\n",
       "    x: Batch(\n",
       "           c: tensor([[[ 0.0763, -0.0909,  0.9921, -0.7996],\n",
       "                       [-0.4322,  2.0187,  1.3912, -1.7986],\n",
       "                       [ 0.6306,  0.0748,  0.0459, -0.1235]],\n",
       "              \n",
       "                      [[ 0.0763, -0.0909,  0.9921, -0.7996],\n",
       "                       [-0.4322,  2.0187,  1.3912, -1.7986],\n",
       "                       [ 0.6306,  0.0748,  0.0459, -0.1235]],\n",
       "              \n",
       "                      [[ 0.0763, -0.0909,  0.9921, -0.7996],\n",
       "                       [-0.4322,  2.0187,  1.3912, -1.7986],\n",
       "                       [ 0.6306,  0.0748,  0.0459, -0.1235]],\n",
       "              \n",
       "                      [[ 0.0763, -0.0909,  0.9921, -0.7996],\n",
       "                       [-0.4322,  2.0187,  1.3912, -1.7986],\n",
       "                       [ 0.6306,  0.0748,  0.0459, -0.1235]],\n",
       "              \n",
       "                      [[ 0.0763, -0.0909,  0.9921, -0.7996],\n",
       "                       [-0.4322,  2.0187,  1.3912, -1.7986],\n",
       "                       [ 0.6306,  0.0748,  0.0459, -0.1235]],\n",
       "              \n",
       "                      [[ 0.0763, -0.0909,  0.9921, -0.7996],\n",
       "                       [-0.4322,  2.0187,  1.3912, -1.7986],\n",
       "                       [ 0.6306,  0.0748,  0.0459, -0.1235]],\n",
       "              \n",
       "                      [[ 0.0763, -0.0909,  0.9921, -0.7996],\n",
       "                       [-0.4322,  2.0187,  1.3912, -1.7986],\n",
       "                       [ 0.6306,  0.0748,  0.0459, -0.1235]],\n",
       "              \n",
       "                      [[ 0.0763, -0.0909,  0.9921, -0.7996],\n",
       "                       [-0.4322,  2.0187,  1.3912, -1.7986],\n",
       "                       [ 0.6306,  0.0748,  0.0459, -0.1235]]]),\n",
       "       ),\n",
       "    a: tensor([[[-0.4406, -1.0021, -0.1355],\n",
       "                [ 0.8399, -1.0085, -0.1131]],\n",
       "       \n",
       "               [[-0.4406, -1.0021, -0.1355],\n",
       "                [ 0.8399, -1.0085, -0.1131]],\n",
       "       \n",
       "               [[-0.4406, -1.0021, -0.1355],\n",
       "                [ 0.8399, -1.0085, -0.1131]],\n",
       "       \n",
       "               [[-0.4406, -1.0021, -0.1355],\n",
       "                [ 0.8399, -1.0085, -0.1131]],\n",
       "       \n",
       "               [[-0.4406, -1.0021, -0.1355],\n",
       "                [ 0.8399, -1.0085, -0.1131]],\n",
       "       \n",
       "               [[-0.4406, -1.0021, -0.1355],\n",
       "                [ 0.8399, -1.0085, -0.1131]],\n",
       "       \n",
       "               [[-0.4406, -1.0021, -0.1355],\n",
       "                [ 0.8399, -1.0085, -0.1131]],\n",
       "       \n",
       "               [[-0.4406, -1.0021, -0.1355],\n",
       "                [ 0.8399, -1.0085, -0.1131]]]),\n",
       ")"
      ]
     },
     "execution_count": 25,
     "metadata": {},
     "output_type": "execute_result"
    }
   ],
   "source": [
    "batches = [Batch(**_TREE_DATA_2) for _ in range(8)]\n",
    "\n",
    "Batch.stack(batches)"
   ]
  },
  {
   "cell_type": "code",
   "execution_count": 26,
   "id": "ec9037a3",
   "metadata": {
    "execution": {
     "iopub.execute_input": "2023-02-27T12:52:52.374282Z",
     "iopub.status.busy": "2023-02-27T12:52:52.373785Z",
     "iopub.status.idle": "2023-02-27T12:52:58.691812Z",
     "shell.execute_reply": "2023-02-27T12:52:58.690880Z"
    }
   },
   "outputs": [
    {
     "name": "stdout",
     "output_type": "stream",
     "text": [
      "77.8 µs ± 196 ns per loop (mean ± std. dev. of 7 runs, 10,000 loops each)\n"
     ]
    }
   ],
   "source": [
    "%timeit Batch.stack(batches)"
   ]
  },
  {
   "cell_type": "code",
   "execution_count": 27,
   "id": "cb8ab77e",
   "metadata": {
    "execution": {
     "iopub.execute_input": "2023-02-27T12:52:58.695131Z",
     "iopub.status.busy": "2023-02-27T12:52:58.694690Z",
     "iopub.status.idle": "2023-02-27T12:52:58.702913Z",
     "shell.execute_reply": "2023-02-27T12:52:58.702272Z"
    }
   },
   "outputs": [
    {
     "data": {
      "text/plain": [
       "Batch(\n",
       "    x: Batch(\n",
       "           c: tensor([[ 0.0763, -0.0909,  0.9921, -0.7996],\n",
       "                      [-0.4322,  2.0187,  1.3912, -1.7986],\n",
       "                      [ 0.6306,  0.0748,  0.0459, -0.1235],\n",
       "                      [ 0.0763, -0.0909,  0.9921, -0.7996],\n",
       "                      [-0.4322,  2.0187,  1.3912, -1.7986],\n",
       "                      [ 0.6306,  0.0748,  0.0459, -0.1235],\n",
       "                      [ 0.0763, -0.0909,  0.9921, -0.7996],\n",
       "                      [-0.4322,  2.0187,  1.3912, -1.7986],\n",
       "                      [ 0.6306,  0.0748,  0.0459, -0.1235],\n",
       "                      [ 0.0763, -0.0909,  0.9921, -0.7996],\n",
       "                      [-0.4322,  2.0187,  1.3912, -1.7986],\n",
       "                      [ 0.6306,  0.0748,  0.0459, -0.1235],\n",
       "                      [ 0.0763, -0.0909,  0.9921, -0.7996],\n",
       "                      [-0.4322,  2.0187,  1.3912, -1.7986],\n",
       "                      [ 0.6306,  0.0748,  0.0459, -0.1235],\n",
       "                      [ 0.0763, -0.0909,  0.9921, -0.7996],\n",
       "                      [-0.4322,  2.0187,  1.3912, -1.7986],\n",
       "                      [ 0.6306,  0.0748,  0.0459, -0.1235],\n",
       "                      [ 0.0763, -0.0909,  0.9921, -0.7996],\n",
       "                      [-0.4322,  2.0187,  1.3912, -1.7986],\n",
       "                      [ 0.6306,  0.0748,  0.0459, -0.1235],\n",
       "                      [ 0.0763, -0.0909,  0.9921, -0.7996],\n",
       "                      [-0.4322,  2.0187,  1.3912, -1.7986],\n",
       "                      [ 0.6306,  0.0748,  0.0459, -0.1235]]),\n",
       "       ),\n",
       "    a: tensor([[-0.4406, -1.0021, -0.1355],\n",
       "               [ 0.8399, -1.0085, -0.1131],\n",
       "               [-0.4406, -1.0021, -0.1355],\n",
       "               [ 0.8399, -1.0085, -0.1131],\n",
       "               [-0.4406, -1.0021, -0.1355],\n",
       "               [ 0.8399, -1.0085, -0.1131],\n",
       "               [-0.4406, -1.0021, -0.1355],\n",
       "               [ 0.8399, -1.0085, -0.1131],\n",
       "               [-0.4406, -1.0021, -0.1355],\n",
       "               [ 0.8399, -1.0085, -0.1131],\n",
       "               [-0.4406, -1.0021, -0.1355],\n",
       "               [ 0.8399, -1.0085, -0.1131],\n",
       "               [-0.4406, -1.0021, -0.1355],\n",
       "               [ 0.8399, -1.0085, -0.1131],\n",
       "               [-0.4406, -1.0021, -0.1355],\n",
       "               [ 0.8399, -1.0085, -0.1131]]),\n",
       ")"
      ]
     },
     "execution_count": 27,
     "metadata": {},
     "output_type": "execute_result"
    }
   ],
   "source": [
    "Batch.cat(batches)"
   ]
  },
  {
   "cell_type": "code",
   "execution_count": 28,
   "id": "18dfb045",
   "metadata": {
    "execution": {
     "iopub.execute_input": "2023-02-27T12:52:58.705941Z",
     "iopub.status.busy": "2023-02-27T12:52:58.705571Z",
     "iopub.status.idle": "2023-02-27T12:53:10.371757Z",
     "shell.execute_reply": "2023-02-27T12:53:10.370880Z"
    }
   },
   "outputs": [
    {
     "name": "stdout",
     "output_type": "stream",
     "text": [
      "144 µs ± 193 ns per loop (mean ± std. dev. of 7 runs, 10,000 loops each)\n"
     ]
    }
   ],
   "source": [
    "%timeit Batch.cat(batches)"
   ]
  },
  {
   "cell_type": "code",
   "execution_count": 29,
   "id": "c6688e51",
   "metadata": {
    "execution": {
     "iopub.execute_input": "2023-02-27T12:53:10.375531Z",
     "iopub.status.busy": "2023-02-27T12:53:10.375056Z",
     "iopub.status.idle": "2023-02-27T12:53:12.991265Z",
     "shell.execute_reply": "2023-02-27T12:53:12.990564Z"
    }
   },
   "outputs": [
    {
     "name": "stdout",
     "output_type": "stream",
     "text": [
      "321 µs ± 1.03 µs per loop (mean ± std. dev. of 7 runs, 1,000 loops each)\n"
     ]
    }
   ],
   "source": [
    "batch = Batch({\n",
    "    'obs': torch.randn(8, 4, 84, 84),\n",
    "    'action': torch.randint(0, 6, size=(8, 1,)),\n",
    "    'reward': torch.rand(8, 1)}\n",
    ")\n",
    "\n",
    "%timeit list(Batch.split(batch, 1, shuffle=False, merge_last=True))"
   ]
  },
  {
   "cell_type": "code",
   "execution_count": null,
   "id": "2539fbd9",
   "metadata": {},
   "outputs": [],
   "source": []
  }
 ],
 "metadata": {
  "kernelspec": {
   "display_name": "Python 3 (ipykernel)",
   "language": "python",
   "name": "python3"
  },
  "language_info": {
   "codemirror_mode": {
    "name": "ipython",
    "version": 3
   },
   "file_extension": ".py",
   "mimetype": "text/x-python",
   "name": "python",
   "nbconvert_exporter": "python",
   "pygments_lexer": "ipython3",
   "version": "3.8.16"
  }
 },
 "nbformat": 4,
 "nbformat_minor": 5
}
