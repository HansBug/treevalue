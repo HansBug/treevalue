{
 "cells": [
  {
   "cell_type": "markdown",
   "id": "9d39d946",
   "metadata": {},
   "source": [
    "# Comparison Between TreeValue and Tianshou Batch"
   ]
  },
  {
   "cell_type": "markdown",
   "id": "3c6db2d4",
   "metadata": {},
   "source": [
    "In this section, we will take a look at the feature and performance of the [Tianshou Batch](https://github.com/thu-ml/tianshou) library, which is developed by Tsinghua Machine Learning Group."
   ]
  },
  {
   "cell_type": "markdown",
   "id": "069361b0",
   "metadata": {},
   "source": [
    "Before starting the comparison, let us define some thing."
   ]
  },
  {
   "cell_type": "code",
   "execution_count": 1,
   "id": "06fc8d26",
   "metadata": {
    "execution": {
     "iopub.execute_input": "2023-02-27T12:24:58.877372Z",
     "iopub.status.busy": "2023-02-27T12:24:58.877156Z",
     "iopub.status.idle": "2023-02-27T12:24:59.818202Z",
     "shell.execute_reply": "2023-02-27T12:24:59.817512Z"
    }
   },
   "outputs": [
    {
     "name": "stderr",
     "output_type": "stream",
     "text": [
      "/opt/hostedtoolcache/Python/3.8.16/x64/lib/python3.8/site-packages/tqdm/auto.py:22: TqdmWarning: IProgress not found. Please update jupyter and ipywidgets. See https://ipywidgets.readthedocs.io/en/stable/user_install.html\n",
      "  from .autonotebook import tqdm as notebook_tqdm\n"
     ]
    }
   ],
   "source": [
    "import torch \n",
    "\n",
    "_TREE_DATA_1 = {'a': 1, 'b': 2, 'x': {'c': 3, 'd': 4}}\n",
    "_TREE_DATA_2 = {\n",
    "    'a': torch.randn(2, 3), \n",
    "    'x': {\n",
    "        'c': torch.randn(3, 4)\n",
    "    },\n",
    "}\n",
    "_TREE_DATA_3 = {\n",
    "    'obs': torch.randn(4, 84, 84),\n",
    "    'action': torch.randint(0, 6, size=(1,)),\n",
    "    'reward': torch.rand(1),\n",
    "}"
   ]
  },
  {
   "cell_type": "markdown",
   "id": "83461b25",
   "metadata": {},
   "source": [
    "## Read and Write Operation"
   ]
  },
  {
   "cell_type": "markdown",
   "id": "067b3f73",
   "metadata": {},
   "source": [
    "Reading and writing are the two most common operations in the tree data structure based on the data model (TreeValue and Tianshou Batch both belong to this type), so this section will compare the reading and writing performance of these two libraries."
   ]
  },
  {
   "cell_type": "markdown",
   "id": "5d09a5b7",
   "metadata": {},
   "source": [
    "### TreeValue's Get and Set"
   ]
  },
  {
   "cell_type": "code",
   "execution_count": 2,
   "id": "9519c4bb",
   "metadata": {
    "execution": {
     "iopub.execute_input": "2023-02-27T12:24:59.821731Z",
     "iopub.status.busy": "2023-02-27T12:24:59.821201Z",
     "iopub.status.idle": "2023-02-27T12:25:00.104089Z",
     "shell.execute_reply": "2023-02-27T12:25:00.103374Z"
    }
   },
   "outputs": [],
   "source": [
    "from treevalue import FastTreeValue\n",
    "\n",
    "t = FastTreeValue(_TREE_DATA_2)"
   ]
  },
  {
   "cell_type": "code",
   "execution_count": 3,
   "id": "11c37677",
   "metadata": {
    "execution": {
     "iopub.execute_input": "2023-02-27T12:25:00.107430Z",
     "iopub.status.busy": "2023-02-27T12:25:00.106798Z",
     "iopub.status.idle": "2023-02-27T12:25:00.116606Z",
     "shell.execute_reply": "2023-02-27T12:25:00.115986Z"
    }
   },
   "outputs": [
    {
     "data": {
      "text/plain": [
       "<FastTreeValue 0x7fed40519c10>\n",
       "├── 'a' --> tensor([[-0.5337, -1.2711, -0.8742],\n",
       "│                   [-2.1289,  0.7022,  0.4937]])\n",
       "└── 'x' --> <FastTreeValue 0x7fed40579f70>\n",
       "    └── 'c' --> tensor([[-1.0691, -0.4151, -0.1068,  0.3666],\n",
       "                        [ 1.5807,  1.1638, -1.0991, -0.3018],\n",
       "                        [-0.8781, -1.1121,  0.7435, -0.6257]])"
      ]
     },
     "execution_count": 3,
     "metadata": {},
     "output_type": "execute_result"
    }
   ],
   "source": [
    "t"
   ]
  },
  {
   "cell_type": "code",
   "execution_count": 4,
   "id": "fd70b0b9",
   "metadata": {
    "execution": {
     "iopub.execute_input": "2023-02-27T12:25:00.119719Z",
     "iopub.status.busy": "2023-02-27T12:25:00.119195Z",
     "iopub.status.idle": "2023-02-27T12:25:00.125516Z",
     "shell.execute_reply": "2023-02-27T12:25:00.124925Z"
    }
   },
   "outputs": [
    {
     "data": {
      "text/plain": [
       "tensor([[-0.5337, -1.2711, -0.8742],\n",
       "        [-2.1289,  0.7022,  0.4937]])"
      ]
     },
     "execution_count": 4,
     "metadata": {},
     "output_type": "execute_result"
    }
   ],
   "source": [
    "t.a"
   ]
  },
  {
   "cell_type": "code",
   "execution_count": 5,
   "id": "c18197bd",
   "metadata": {
    "execution": {
     "iopub.execute_input": "2023-02-27T12:25:00.127992Z",
     "iopub.status.busy": "2023-02-27T12:25:00.127634Z",
     "iopub.status.idle": "2023-02-27T12:25:04.859074Z",
     "shell.execute_reply": "2023-02-27T12:25:04.858304Z"
    }
   },
   "outputs": [
    {
     "name": "stdout",
     "output_type": "stream",
     "text": [
      "58.2 ns ± 0.0814 ns per loop (mean ± std. dev. of 7 runs, 10,000,000 loops each)\n"
     ]
    }
   ],
   "source": [
    "%timeit t.a"
   ]
  },
  {
   "cell_type": "code",
   "execution_count": 6,
   "id": "bd52f867",
   "metadata": {
    "execution": {
     "iopub.execute_input": "2023-02-27T12:25:04.862144Z",
     "iopub.status.busy": "2023-02-27T12:25:04.861915Z",
     "iopub.status.idle": "2023-02-27T12:25:04.868308Z",
     "shell.execute_reply": "2023-02-27T12:25:04.867676Z"
    }
   },
   "outputs": [
    {
     "data": {
      "text/plain": [
       "<FastTreeValue 0x7fed40519c10>\n",
       "├── 'a' --> tensor([[ 1.1419, -3.1555, -0.3321],\n",
       "│                   [ 0.4580, -0.3285,  0.5650]])\n",
       "└── 'x' --> <FastTreeValue 0x7fed40579f70>\n",
       "    └── 'c' --> tensor([[-1.0691, -0.4151, -0.1068,  0.3666],\n",
       "                        [ 1.5807,  1.1638, -1.0991, -0.3018],\n",
       "                        [-0.8781, -1.1121,  0.7435, -0.6257]])"
      ]
     },
     "execution_count": 6,
     "metadata": {},
     "output_type": "execute_result"
    }
   ],
   "source": [
    "new_value = torch.randn(2, 3)\n",
    "t.a = new_value\n",
    "\n",
    "t"
   ]
  },
  {
   "cell_type": "code",
   "execution_count": 7,
   "id": "bbe04d1c",
   "metadata": {
    "execution": {
     "iopub.execute_input": "2023-02-27T12:25:04.871688Z",
     "iopub.status.busy": "2023-02-27T12:25:04.871352Z",
     "iopub.status.idle": "2023-02-27T12:25:09.614089Z",
     "shell.execute_reply": "2023-02-27T12:25:09.613166Z"
    }
   },
   "outputs": [
    {
     "name": "stdout",
     "output_type": "stream",
     "text": [
      "58.4 ns ± 0.0258 ns per loop (mean ± std. dev. of 7 runs, 10,000,000 loops each)\n"
     ]
    }
   ],
   "source": [
    "%timeit t.a = new_value"
   ]
  },
  {
   "cell_type": "markdown",
   "id": "48c49731",
   "metadata": {},
   "source": [
    "### Tianshou Batch's Get and Set"
   ]
  },
  {
   "cell_type": "code",
   "execution_count": 8,
   "id": "f1bb14c1",
   "metadata": {
    "execution": {
     "iopub.execute_input": "2023-02-27T12:25:09.617505Z",
     "iopub.status.busy": "2023-02-27T12:25:09.616732Z",
     "iopub.status.idle": "2023-02-27T12:25:09.976043Z",
     "shell.execute_reply": "2023-02-27T12:25:09.975312Z"
    }
   },
   "outputs": [],
   "source": [
    "from tianshou.data import Batch\n",
    "\n",
    "b = Batch(**_TREE_DATA_2)"
   ]
  },
  {
   "cell_type": "code",
   "execution_count": 9,
   "id": "cb0777c3",
   "metadata": {
    "execution": {
     "iopub.execute_input": "2023-02-27T12:25:09.979477Z",
     "iopub.status.busy": "2023-02-27T12:25:09.978756Z",
     "iopub.status.idle": "2023-02-27T12:25:09.984425Z",
     "shell.execute_reply": "2023-02-27T12:25:09.983810Z"
    }
   },
   "outputs": [
    {
     "data": {
      "text/plain": [
       "Batch(\n",
       "    a: tensor([[-0.5337, -1.2711, -0.8742],\n",
       "               [-2.1289,  0.7022,  0.4937]]),\n",
       "    x: Batch(\n",
       "           c: tensor([[-1.0691, -0.4151, -0.1068,  0.3666],\n",
       "                      [ 1.5807,  1.1638, -1.0991, -0.3018],\n",
       "                      [-0.8781, -1.1121,  0.7435, -0.6257]]),\n",
       "       ),\n",
       ")"
      ]
     },
     "execution_count": 9,
     "metadata": {},
     "output_type": "execute_result"
    }
   ],
   "source": [
    "b"
   ]
  },
  {
   "cell_type": "code",
   "execution_count": 10,
   "id": "43ef8ea3",
   "metadata": {
    "execution": {
     "iopub.execute_input": "2023-02-27T12:25:09.987200Z",
     "iopub.status.busy": "2023-02-27T12:25:09.986587Z",
     "iopub.status.idle": "2023-02-27T12:25:09.991309Z",
     "shell.execute_reply": "2023-02-27T12:25:09.990702Z"
    }
   },
   "outputs": [
    {
     "data": {
      "text/plain": [
       "tensor([[-0.5337, -1.2711, -0.8742],\n",
       "        [-2.1289,  0.7022,  0.4937]])"
      ]
     },
     "execution_count": 10,
     "metadata": {},
     "output_type": "execute_result"
    }
   ],
   "source": [
    "b.a"
   ]
  },
  {
   "cell_type": "code",
   "execution_count": 11,
   "id": "b785ab72",
   "metadata": {
    "execution": {
     "iopub.execute_input": "2023-02-27T12:25:09.993695Z",
     "iopub.status.busy": "2023-02-27T12:25:09.993360Z",
     "iopub.status.idle": "2023-02-27T12:25:14.190567Z",
     "shell.execute_reply": "2023-02-27T12:25:14.189762Z"
    }
   },
   "outputs": [
    {
     "name": "stdout",
     "output_type": "stream",
     "text": [
      "51.2 ns ± 0.045 ns per loop (mean ± std. dev. of 7 runs, 10,000,000 loops each)\n"
     ]
    }
   ],
   "source": [
    "%timeit b.a"
   ]
  },
  {
   "cell_type": "code",
   "execution_count": 12,
   "id": "ad54dc69",
   "metadata": {
    "execution": {
     "iopub.execute_input": "2023-02-27T12:25:14.193444Z",
     "iopub.status.busy": "2023-02-27T12:25:14.193038Z",
     "iopub.status.idle": "2023-02-27T12:25:14.199135Z",
     "shell.execute_reply": "2023-02-27T12:25:14.198508Z"
    }
   },
   "outputs": [
    {
     "data": {
      "text/plain": [
       "Batch(\n",
       "    a: tensor([[-0.9679,  0.6757,  0.5367],\n",
       "               [ 0.3844, -1.0270,  1.6658]]),\n",
       "    x: Batch(\n",
       "           c: tensor([[-1.0691, -0.4151, -0.1068,  0.3666],\n",
       "                      [ 1.5807,  1.1638, -1.0991, -0.3018],\n",
       "                      [-0.8781, -1.1121,  0.7435, -0.6257]]),\n",
       "       ),\n",
       ")"
      ]
     },
     "execution_count": 12,
     "metadata": {},
     "output_type": "execute_result"
    }
   ],
   "source": [
    "new_value = torch.randn(2, 3)\n",
    "b.a = new_value\n",
    "\n",
    "b"
   ]
  },
  {
   "cell_type": "code",
   "execution_count": 13,
   "id": "29b1d0bf",
   "metadata": {
    "execution": {
     "iopub.execute_input": "2023-02-27T12:25:14.201580Z",
     "iopub.status.busy": "2023-02-27T12:25:14.201217Z",
     "iopub.status.idle": "2023-02-27T12:25:18.165937Z",
     "shell.execute_reply": "2023-02-27T12:25:18.165191Z"
    }
   },
   "outputs": [
    {
     "name": "stdout",
     "output_type": "stream",
     "text": [
      "488 ns ± 0.179 ns per loop (mean ± std. dev. of 7 runs, 1,000,000 loops each)\n"
     ]
    }
   ],
   "source": [
    "%timeit b.a = new_value"
   ]
  },
  {
   "cell_type": "markdown",
   "id": "b61ad1d0",
   "metadata": {},
   "source": [
    "## Initialization"
   ]
  },
  {
   "cell_type": "markdown",
   "id": "d70f0d54",
   "metadata": {},
   "source": [
    "### TreeValue's Initialization"
   ]
  },
  {
   "cell_type": "code",
   "execution_count": 14,
   "id": "d32a679b",
   "metadata": {
    "execution": {
     "iopub.execute_input": "2023-02-27T12:25:18.169133Z",
     "iopub.status.busy": "2023-02-27T12:25:18.168553Z",
     "iopub.status.idle": "2023-02-27T12:25:24.960364Z",
     "shell.execute_reply": "2023-02-27T12:25:24.959628Z"
    }
   },
   "outputs": [
    {
     "name": "stdout",
     "output_type": "stream",
     "text": [
      "836 ns ± 0.252 ns per loop (mean ± std. dev. of 7 runs, 1,000,000 loops each)\n"
     ]
    }
   ],
   "source": [
    "%timeit FastTreeValue(_TREE_DATA_1)"
   ]
  },
  {
   "cell_type": "markdown",
   "id": "24f3707b",
   "metadata": {},
   "source": [
    "### Tianshou Batch's Initialization"
   ]
  },
  {
   "cell_type": "code",
   "execution_count": 15,
   "id": "ac3958df",
   "metadata": {
    "execution": {
     "iopub.execute_input": "2023-02-27T12:25:24.963084Z",
     "iopub.status.busy": "2023-02-27T12:25:24.962750Z",
     "iopub.status.idle": "2023-02-27T12:25:34.170837Z",
     "shell.execute_reply": "2023-02-27T12:25:34.170035Z"
    }
   },
   "outputs": [
    {
     "name": "stdout",
     "output_type": "stream",
     "text": [
      "11.3 µs ± 37.9 ns per loop (mean ± std. dev. of 7 runs, 100,000 loops each)\n"
     ]
    }
   ],
   "source": [
    "%timeit Batch(**_TREE_DATA_1)"
   ]
  },
  {
   "cell_type": "markdown",
   "id": "1ab82e2d",
   "metadata": {},
   "source": [
    "## Deep Copy Operation"
   ]
  },
  {
   "cell_type": "code",
   "execution_count": 16,
   "id": "210a9442",
   "metadata": {
    "execution": {
     "iopub.execute_input": "2023-02-27T12:25:34.174174Z",
     "iopub.status.busy": "2023-02-27T12:25:34.173616Z",
     "iopub.status.idle": "2023-02-27T12:25:34.176960Z",
     "shell.execute_reply": "2023-02-27T12:25:34.176329Z"
    }
   },
   "outputs": [],
   "source": [
    "import copy"
   ]
  },
  {
   "cell_type": "markdown",
   "id": "5a736274",
   "metadata": {},
   "source": [
    "### Deep Copy of TreeValue"
   ]
  },
  {
   "cell_type": "code",
   "execution_count": 17,
   "id": "f9bcadd6",
   "metadata": {
    "execution": {
     "iopub.execute_input": "2023-02-27T12:25:34.179863Z",
     "iopub.status.busy": "2023-02-27T12:25:34.179483Z",
     "iopub.status.idle": "2023-02-27T12:25:45.575511Z",
     "shell.execute_reply": "2023-02-27T12:25:45.574933Z"
    }
   },
   "outputs": [
    {
     "name": "stdout",
     "output_type": "stream",
     "text": [
      "140 µs ± 256 ns per loop (mean ± std. dev. of 7 runs, 10,000 loops each)\n"
     ]
    }
   ],
   "source": [
    "t3 = FastTreeValue(_TREE_DATA_3)\n",
    "%timeit copy.deepcopy(t3)"
   ]
  },
  {
   "cell_type": "markdown",
   "id": "bf8be7ea",
   "metadata": {},
   "source": [
    "### Deep Copy of Tianshou Batch"
   ]
  },
  {
   "cell_type": "code",
   "execution_count": 18,
   "id": "91998e6f",
   "metadata": {
    "execution": {
     "iopub.execute_input": "2023-02-27T12:25:45.578594Z",
     "iopub.status.busy": "2023-02-27T12:25:45.578236Z",
     "iopub.status.idle": "2023-02-27T12:25:57.145248Z",
     "shell.execute_reply": "2023-02-27T12:25:57.144686Z"
    }
   },
   "outputs": [
    {
     "name": "stdout",
     "output_type": "stream",
     "text": [
      "142 µs ± 220 ns per loop (mean ± std. dev. of 7 runs, 10,000 loops each)\n"
     ]
    }
   ],
   "source": [
    "b3 = Batch(**_TREE_DATA_3)\n",
    "%timeit copy.deepcopy(b3)"
   ]
  },
  {
   "cell_type": "markdown",
   "id": "223162fb",
   "metadata": {},
   "source": [
    "## Stack, Concat and Split Operation"
   ]
  },
  {
   "cell_type": "markdown",
   "id": "85fa4a73",
   "metadata": {},
   "source": [
    "### Performance of TreeValue"
   ]
  },
  {
   "cell_type": "code",
   "execution_count": 19,
   "id": "a0c2b697",
   "metadata": {
    "execution": {
     "iopub.execute_input": "2023-02-27T12:25:57.149259Z",
     "iopub.status.busy": "2023-02-27T12:25:57.148308Z",
     "iopub.status.idle": "2023-02-27T12:25:57.152545Z",
     "shell.execute_reply": "2023-02-27T12:25:57.152016Z"
    }
   },
   "outputs": [],
   "source": [
    "trees = [FastTreeValue(_TREE_DATA_2) for _ in range(8)]"
   ]
  },
  {
   "cell_type": "code",
   "execution_count": 20,
   "id": "017ea5a5",
   "metadata": {
    "execution": {
     "iopub.execute_input": "2023-02-27T12:25:57.156168Z",
     "iopub.status.busy": "2023-02-27T12:25:57.155246Z",
     "iopub.status.idle": "2023-02-27T12:25:57.164210Z",
     "shell.execute_reply": "2023-02-27T12:25:57.163659Z"
    }
   },
   "outputs": [
    {
     "data": {
      "text/plain": [
       "<FastTreeValue 0x7fed40514130>\n",
       "├── 'a' --> tensor([[[-0.5337, -1.2711, -0.8742],\n",
       "│                    [-2.1289,  0.7022,  0.4937]],\n",
       "│           \n",
       "│                   [[-0.5337, -1.2711, -0.8742],\n",
       "│                    [-2.1289,  0.7022,  0.4937]],\n",
       "│           \n",
       "│                   [[-0.5337, -1.2711, -0.8742],\n",
       "│                    [-2.1289,  0.7022,  0.4937]],\n",
       "│           \n",
       "│                   [[-0.5337, -1.2711, -0.8742],\n",
       "│                    [-2.1289,  0.7022,  0.4937]],\n",
       "│           \n",
       "│                   [[-0.5337, -1.2711, -0.8742],\n",
       "│                    [-2.1289,  0.7022,  0.4937]],\n",
       "│           \n",
       "│                   [[-0.5337, -1.2711, -0.8742],\n",
       "│                    [-2.1289,  0.7022,  0.4937]],\n",
       "│           \n",
       "│                   [[-0.5337, -1.2711, -0.8742],\n",
       "│                    [-2.1289,  0.7022,  0.4937]],\n",
       "│           \n",
       "│                   [[-0.5337, -1.2711, -0.8742],\n",
       "│                    [-2.1289,  0.7022,  0.4937]]])\n",
       "└── 'x' --> <FastTreeValue 0x7fec903eabb0>\n",
       "    └── 'c' --> tensor([[[-1.0691, -0.4151, -0.1068,  0.3666],\n",
       "                         [ 1.5807,  1.1638, -1.0991, -0.3018],\n",
       "                         [-0.8781, -1.1121,  0.7435, -0.6257]],\n",
       "                \n",
       "                        [[-1.0691, -0.4151, -0.1068,  0.3666],\n",
       "                         [ 1.5807,  1.1638, -1.0991, -0.3018],\n",
       "                         [-0.8781, -1.1121,  0.7435, -0.6257]],\n",
       "                \n",
       "                        [[-1.0691, -0.4151, -0.1068,  0.3666],\n",
       "                         [ 1.5807,  1.1638, -1.0991, -0.3018],\n",
       "                         [-0.8781, -1.1121,  0.7435, -0.6257]],\n",
       "                \n",
       "                        [[-1.0691, -0.4151, -0.1068,  0.3666],\n",
       "                         [ 1.5807,  1.1638, -1.0991, -0.3018],\n",
       "                         [-0.8781, -1.1121,  0.7435, -0.6257]],\n",
       "                \n",
       "                        [[-1.0691, -0.4151, -0.1068,  0.3666],\n",
       "                         [ 1.5807,  1.1638, -1.0991, -0.3018],\n",
       "                         [-0.8781, -1.1121,  0.7435, -0.6257]],\n",
       "                \n",
       "                        [[-1.0691, -0.4151, -0.1068,  0.3666],\n",
       "                         [ 1.5807,  1.1638, -1.0991, -0.3018],\n",
       "                         [-0.8781, -1.1121,  0.7435, -0.6257]],\n",
       "                \n",
       "                        [[-1.0691, -0.4151, -0.1068,  0.3666],\n",
       "                         [ 1.5807,  1.1638, -1.0991, -0.3018],\n",
       "                         [-0.8781, -1.1121,  0.7435, -0.6257]],\n",
       "                \n",
       "                        [[-1.0691, -0.4151, -0.1068,  0.3666],\n",
       "                         [ 1.5807,  1.1638, -1.0991, -0.3018],\n",
       "                         [-0.8781, -1.1121,  0.7435, -0.6257]]])"
      ]
     },
     "execution_count": 20,
     "metadata": {},
     "output_type": "execute_result"
    }
   ],
   "source": [
    "t_stack = FastTreeValue.func(subside=True)(torch.stack)\n",
    "\n",
    "t_stack(trees)"
   ]
  },
  {
   "cell_type": "code",
   "execution_count": 21,
   "id": "f8b3f415",
   "metadata": {
    "execution": {
     "iopub.execute_input": "2023-02-27T12:25:57.167760Z",
     "iopub.status.busy": "2023-02-27T12:25:57.166869Z",
     "iopub.status.idle": "2023-02-27T12:25:59.789098Z",
     "shell.execute_reply": "2023-02-27T12:25:59.788363Z"
    }
   },
   "outputs": [
    {
     "name": "stdout",
     "output_type": "stream",
     "text": [
      "32.2 µs ± 124 ns per loop (mean ± std. dev. of 7 runs, 10,000 loops each)\n"
     ]
    }
   ],
   "source": [
    "%timeit t_stack(trees)"
   ]
  },
  {
   "cell_type": "code",
   "execution_count": 22,
   "id": "94b56771",
   "metadata": {
    "execution": {
     "iopub.execute_input": "2023-02-27T12:25:59.792332Z",
     "iopub.status.busy": "2023-02-27T12:25:59.791826Z",
     "iopub.status.idle": "2023-02-27T12:25:59.800928Z",
     "shell.execute_reply": "2023-02-27T12:25:59.800327Z"
    }
   },
   "outputs": [
    {
     "data": {
      "text/plain": [
       "<FastTreeValue 0x7fec89dbdc40>\n",
       "├── 'a' --> tensor([[-0.5337, -1.2711, -0.8742],\n",
       "│                   [-2.1289,  0.7022,  0.4937],\n",
       "│                   [-0.5337, -1.2711, -0.8742],\n",
       "│                   [-2.1289,  0.7022,  0.4937],\n",
       "│                   [-0.5337, -1.2711, -0.8742],\n",
       "│                   [-2.1289,  0.7022,  0.4937],\n",
       "│                   [-0.5337, -1.2711, -0.8742],\n",
       "│                   [-2.1289,  0.7022,  0.4937],\n",
       "│                   [-0.5337, -1.2711, -0.8742],\n",
       "│                   [-2.1289,  0.7022,  0.4937],\n",
       "│                   [-0.5337, -1.2711, -0.8742],\n",
       "│                   [-2.1289,  0.7022,  0.4937],\n",
       "│                   [-0.5337, -1.2711, -0.8742],\n",
       "│                   [-2.1289,  0.7022,  0.4937],\n",
       "│                   [-0.5337, -1.2711, -0.8742],\n",
       "│                   [-2.1289,  0.7022,  0.4937]])\n",
       "└── 'x' --> <FastTreeValue 0x7fec897f17c0>\n",
       "    └── 'c' --> tensor([[-1.0691, -0.4151, -0.1068,  0.3666],\n",
       "                        [ 1.5807,  1.1638, -1.0991, -0.3018],\n",
       "                        [-0.8781, -1.1121,  0.7435, -0.6257],\n",
       "                        [-1.0691, -0.4151, -0.1068,  0.3666],\n",
       "                        [ 1.5807,  1.1638, -1.0991, -0.3018],\n",
       "                        [-0.8781, -1.1121,  0.7435, -0.6257],\n",
       "                        [-1.0691, -0.4151, -0.1068,  0.3666],\n",
       "                        [ 1.5807,  1.1638, -1.0991, -0.3018],\n",
       "                        [-0.8781, -1.1121,  0.7435, -0.6257],\n",
       "                        [-1.0691, -0.4151, -0.1068,  0.3666],\n",
       "                        [ 1.5807,  1.1638, -1.0991, -0.3018],\n",
       "                        [-0.8781, -1.1121,  0.7435, -0.6257],\n",
       "                        [-1.0691, -0.4151, -0.1068,  0.3666],\n",
       "                        [ 1.5807,  1.1638, -1.0991, -0.3018],\n",
       "                        [-0.8781, -1.1121,  0.7435, -0.6257],\n",
       "                        [-1.0691, -0.4151, -0.1068,  0.3666],\n",
       "                        [ 1.5807,  1.1638, -1.0991, -0.3018],\n",
       "                        [-0.8781, -1.1121,  0.7435, -0.6257],\n",
       "                        [-1.0691, -0.4151, -0.1068,  0.3666],\n",
       "                        [ 1.5807,  1.1638, -1.0991, -0.3018],\n",
       "                        [-0.8781, -1.1121,  0.7435, -0.6257],\n",
       "                        [-1.0691, -0.4151, -0.1068,  0.3666],\n",
       "                        [ 1.5807,  1.1638, -1.0991, -0.3018],\n",
       "                        [-0.8781, -1.1121,  0.7435, -0.6257]])"
      ]
     },
     "execution_count": 22,
     "metadata": {},
     "output_type": "execute_result"
    }
   ],
   "source": [
    "t_cat = FastTreeValue.func(subside=True)(torch.cat)\n",
    "\n",
    "t_cat(trees)"
   ]
  },
  {
   "cell_type": "code",
   "execution_count": 23,
   "id": "5e9c06a6",
   "metadata": {
    "execution": {
     "iopub.execute_input": "2023-02-27T12:25:59.803841Z",
     "iopub.status.busy": "2023-02-27T12:25:59.803263Z",
     "iopub.status.idle": "2023-02-27T12:26:02.292547Z",
     "shell.execute_reply": "2023-02-27T12:26:02.291723Z"
    }
   },
   "outputs": [
    {
     "name": "stdout",
     "output_type": "stream",
     "text": [
      "30.5 µs ± 127 ns per loop (mean ± std. dev. of 7 runs, 10,000 loops each)\n"
     ]
    }
   ],
   "source": [
    "%timeit t_cat(trees)"
   ]
  },
  {
   "cell_type": "code",
   "execution_count": 24,
   "id": "a3ab5c8f",
   "metadata": {
    "execution": {
     "iopub.execute_input": "2023-02-27T12:26:02.295678Z",
     "iopub.status.busy": "2023-02-27T12:26:02.295058Z",
     "iopub.status.idle": "2023-02-27T12:26:07.813783Z",
     "shell.execute_reply": "2023-02-27T12:26:07.812986Z"
    }
   },
   "outputs": [
    {
     "name": "stdout",
     "output_type": "stream",
     "text": [
      "68.1 µs ± 150 ns per loop (mean ± std. dev. of 7 runs, 10,000 loops each)\n"
     ]
    }
   ],
   "source": [
    "t_split = FastTreeValue.func(rise=True)(torch.split)\n",
    "tree = FastTreeValue({\n",
    "    'obs': torch.randn(8, 4, 84, 84),\n",
    "    'action': torch.randint(0, 6, size=(8, 1,)),\n",
    "    'reward': torch.rand(8, 1),\n",
    "})\n",
    "\n",
    "%timeit t_split(tree, 1)"
   ]
  },
  {
   "cell_type": "markdown",
   "id": "31c3ec0b",
   "metadata": {},
   "source": [
    "### Performance of Tianshou Batch"
   ]
  },
  {
   "cell_type": "code",
   "execution_count": 25,
   "id": "9ead828a",
   "metadata": {
    "execution": {
     "iopub.execute_input": "2023-02-27T12:26:07.816823Z",
     "iopub.status.busy": "2023-02-27T12:26:07.816453Z",
     "iopub.status.idle": "2023-02-27T12:26:07.824538Z",
     "shell.execute_reply": "2023-02-27T12:26:07.823875Z"
    }
   },
   "outputs": [
    {
     "data": {
      "text/plain": [
       "Batch(\n",
       "    x: Batch(\n",
       "           c: tensor([[[-1.0691, -0.4151, -0.1068,  0.3666],\n",
       "                       [ 1.5807,  1.1638, -1.0991, -0.3018],\n",
       "                       [-0.8781, -1.1121,  0.7435, -0.6257]],\n",
       "              \n",
       "                      [[-1.0691, -0.4151, -0.1068,  0.3666],\n",
       "                       [ 1.5807,  1.1638, -1.0991, -0.3018],\n",
       "                       [-0.8781, -1.1121,  0.7435, -0.6257]],\n",
       "              \n",
       "                      [[-1.0691, -0.4151, -0.1068,  0.3666],\n",
       "                       [ 1.5807,  1.1638, -1.0991, -0.3018],\n",
       "                       [-0.8781, -1.1121,  0.7435, -0.6257]],\n",
       "              \n",
       "                      [[-1.0691, -0.4151, -0.1068,  0.3666],\n",
       "                       [ 1.5807,  1.1638, -1.0991, -0.3018],\n",
       "                       [-0.8781, -1.1121,  0.7435, -0.6257]],\n",
       "              \n",
       "                      [[-1.0691, -0.4151, -0.1068,  0.3666],\n",
       "                       [ 1.5807,  1.1638, -1.0991, -0.3018],\n",
       "                       [-0.8781, -1.1121,  0.7435, -0.6257]],\n",
       "              \n",
       "                      [[-1.0691, -0.4151, -0.1068,  0.3666],\n",
       "                       [ 1.5807,  1.1638, -1.0991, -0.3018],\n",
       "                       [-0.8781, -1.1121,  0.7435, -0.6257]],\n",
       "              \n",
       "                      [[-1.0691, -0.4151, -0.1068,  0.3666],\n",
       "                       [ 1.5807,  1.1638, -1.0991, -0.3018],\n",
       "                       [-0.8781, -1.1121,  0.7435, -0.6257]],\n",
       "              \n",
       "                      [[-1.0691, -0.4151, -0.1068,  0.3666],\n",
       "                       [ 1.5807,  1.1638, -1.0991, -0.3018],\n",
       "                       [-0.8781, -1.1121,  0.7435, -0.6257]]]),\n",
       "       ),\n",
       "    a: tensor([[[-0.5337, -1.2711, -0.8742],\n",
       "                [-2.1289,  0.7022,  0.4937]],\n",
       "       \n",
       "               [[-0.5337, -1.2711, -0.8742],\n",
       "                [-2.1289,  0.7022,  0.4937]],\n",
       "       \n",
       "               [[-0.5337, -1.2711, -0.8742],\n",
       "                [-2.1289,  0.7022,  0.4937]],\n",
       "       \n",
       "               [[-0.5337, -1.2711, -0.8742],\n",
       "                [-2.1289,  0.7022,  0.4937]],\n",
       "       \n",
       "               [[-0.5337, -1.2711, -0.8742],\n",
       "                [-2.1289,  0.7022,  0.4937]],\n",
       "       \n",
       "               [[-0.5337, -1.2711, -0.8742],\n",
       "                [-2.1289,  0.7022,  0.4937]],\n",
       "       \n",
       "               [[-0.5337, -1.2711, -0.8742],\n",
       "                [-2.1289,  0.7022,  0.4937]],\n",
       "       \n",
       "               [[-0.5337, -1.2711, -0.8742],\n",
       "                [-2.1289,  0.7022,  0.4937]]]),\n",
       ")"
      ]
     },
     "execution_count": 25,
     "metadata": {},
     "output_type": "execute_result"
    }
   ],
   "source": [
    "batches = [Batch(**_TREE_DATA_2) for _ in range(8)]\n",
    "\n",
    "Batch.stack(batches)"
   ]
  },
  {
   "cell_type": "code",
   "execution_count": 26,
   "id": "ec9037a3",
   "metadata": {
    "execution": {
     "iopub.execute_input": "2023-02-27T12:26:07.827356Z",
     "iopub.status.busy": "2023-02-27T12:26:07.826859Z",
     "iopub.status.idle": "2023-02-27T12:26:14.174393Z",
     "shell.execute_reply": "2023-02-27T12:26:14.173644Z"
    }
   },
   "outputs": [
    {
     "name": "stdout",
     "output_type": "stream",
     "text": [
      "78.2 µs ± 133 ns per loop (mean ± std. dev. of 7 runs, 10,000 loops each)\n"
     ]
    }
   ],
   "source": [
    "%timeit Batch.stack(batches)"
   ]
  },
  {
   "cell_type": "code",
   "execution_count": 27,
   "id": "cb8ab77e",
   "metadata": {
    "execution": {
     "iopub.execute_input": "2023-02-27T12:26:14.177188Z",
     "iopub.status.busy": "2023-02-27T12:26:14.176744Z",
     "iopub.status.idle": "2023-02-27T12:26:14.184119Z",
     "shell.execute_reply": "2023-02-27T12:26:14.183505Z"
    }
   },
   "outputs": [
    {
     "data": {
      "text/plain": [
       "Batch(\n",
       "    x: Batch(\n",
       "           c: tensor([[-1.0691, -0.4151, -0.1068,  0.3666],\n",
       "                      [ 1.5807,  1.1638, -1.0991, -0.3018],\n",
       "                      [-0.8781, -1.1121,  0.7435, -0.6257],\n",
       "                      [-1.0691, -0.4151, -0.1068,  0.3666],\n",
       "                      [ 1.5807,  1.1638, -1.0991, -0.3018],\n",
       "                      [-0.8781, -1.1121,  0.7435, -0.6257],\n",
       "                      [-1.0691, -0.4151, -0.1068,  0.3666],\n",
       "                      [ 1.5807,  1.1638, -1.0991, -0.3018],\n",
       "                      [-0.8781, -1.1121,  0.7435, -0.6257],\n",
       "                      [-1.0691, -0.4151, -0.1068,  0.3666],\n",
       "                      [ 1.5807,  1.1638, -1.0991, -0.3018],\n",
       "                      [-0.8781, -1.1121,  0.7435, -0.6257],\n",
       "                      [-1.0691, -0.4151, -0.1068,  0.3666],\n",
       "                      [ 1.5807,  1.1638, -1.0991, -0.3018],\n",
       "                      [-0.8781, -1.1121,  0.7435, -0.6257],\n",
       "                      [-1.0691, -0.4151, -0.1068,  0.3666],\n",
       "                      [ 1.5807,  1.1638, -1.0991, -0.3018],\n",
       "                      [-0.8781, -1.1121,  0.7435, -0.6257],\n",
       "                      [-1.0691, -0.4151, -0.1068,  0.3666],\n",
       "                      [ 1.5807,  1.1638, -1.0991, -0.3018],\n",
       "                      [-0.8781, -1.1121,  0.7435, -0.6257],\n",
       "                      [-1.0691, -0.4151, -0.1068,  0.3666],\n",
       "                      [ 1.5807,  1.1638, -1.0991, -0.3018],\n",
       "                      [-0.8781, -1.1121,  0.7435, -0.6257]]),\n",
       "       ),\n",
       "    a: tensor([[-0.5337, -1.2711, -0.8742],\n",
       "               [-2.1289,  0.7022,  0.4937],\n",
       "               [-0.5337, -1.2711, -0.8742],\n",
       "               [-2.1289,  0.7022,  0.4937],\n",
       "               [-0.5337, -1.2711, -0.8742],\n",
       "               [-2.1289,  0.7022,  0.4937],\n",
       "               [-0.5337, -1.2711, -0.8742],\n",
       "               [-2.1289,  0.7022,  0.4937],\n",
       "               [-0.5337, -1.2711, -0.8742],\n",
       "               [-2.1289,  0.7022,  0.4937],\n",
       "               [-0.5337, -1.2711, -0.8742],\n",
       "               [-2.1289,  0.7022,  0.4937],\n",
       "               [-0.5337, -1.2711, -0.8742],\n",
       "               [-2.1289,  0.7022,  0.4937],\n",
       "               [-0.5337, -1.2711, -0.8742],\n",
       "               [-2.1289,  0.7022,  0.4937]]),\n",
       ")"
      ]
     },
     "execution_count": 27,
     "metadata": {},
     "output_type": "execute_result"
    }
   ],
   "source": [
    "Batch.cat(batches)"
   ]
  },
  {
   "cell_type": "code",
   "execution_count": 28,
   "id": "18dfb045",
   "metadata": {
    "execution": {
     "iopub.execute_input": "2023-02-27T12:26:14.186589Z",
     "iopub.status.busy": "2023-02-27T12:26:14.186240Z",
     "iopub.status.idle": "2023-02-27T12:26:27.338677Z",
     "shell.execute_reply": "2023-02-27T12:26:27.337929Z"
    }
   },
   "outputs": [
    {
     "name": "stdout",
     "output_type": "stream",
     "text": [
      "162 µs ± 310 ns per loop (mean ± std. dev. of 7 runs, 10,000 loops each)\n"
     ]
    }
   ],
   "source": [
    "%timeit Batch.cat(batches)"
   ]
  },
  {
   "cell_type": "code",
   "execution_count": 29,
   "id": "c6688e51",
   "metadata": {
    "execution": {
     "iopub.execute_input": "2023-02-27T12:26:27.341487Z",
     "iopub.status.busy": "2023-02-27T12:26:27.340894Z",
     "iopub.status.idle": "2023-02-27T12:26:29.932953Z",
     "shell.execute_reply": "2023-02-27T12:26:29.932366Z"
    }
   },
   "outputs": [
    {
     "name": "stdout",
     "output_type": "stream",
     "text": [
      "315 µs ± 3.01 µs per loop (mean ± std. dev. of 7 runs, 1,000 loops each)\n"
     ]
    }
   ],
   "source": [
    "batch = Batch({\n",
    "    'obs': torch.randn(8, 4, 84, 84),\n",
    "    'action': torch.randint(0, 6, size=(8, 1,)),\n",
    "    'reward': torch.rand(8, 1)}\n",
    ")\n",
    "\n",
    "%timeit list(Batch.split(batch, 1, shuffle=False, merge_last=True))"
   ]
  },
  {
   "cell_type": "code",
   "execution_count": null,
   "id": "2539fbd9",
   "metadata": {},
   "outputs": [],
   "source": []
  }
 ],
 "metadata": {
  "kernelspec": {
   "display_name": "Python 3 (ipykernel)",
   "language": "python",
   "name": "python3"
  },
  "language_info": {
   "codemirror_mode": {
    "name": "ipython",
    "version": 3
   },
   "file_extension": ".py",
   "mimetype": "text/x-python",
   "name": "python",
   "nbconvert_exporter": "python",
   "pygments_lexer": "ipython3",
   "version": "3.8.16"
  }
 },
 "nbformat": 4,
 "nbformat_minor": 5
}
