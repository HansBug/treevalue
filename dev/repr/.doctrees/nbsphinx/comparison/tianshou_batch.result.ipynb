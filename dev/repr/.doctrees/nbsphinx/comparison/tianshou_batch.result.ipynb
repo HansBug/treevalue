{
 "cells": [
  {
   "cell_type": "markdown",
   "id": "9d39d946",
   "metadata": {},
   "source": [
    "# Comparison Between TreeValue and Tianshou Batch"
   ]
  },
  {
   "cell_type": "markdown",
   "id": "3c6db2d4",
   "metadata": {},
   "source": [
    "In this section, we will take a look at the feature and performance of the [Tianshou Batch](https://github.com/thu-ml/tianshou) library, which is developed by Tsinghua Machine Learning Group."
   ]
  },
  {
   "cell_type": "markdown",
   "id": "069361b0",
   "metadata": {},
   "source": [
    "Before starting the comparison, let us define some thing."
   ]
  },
  {
   "cell_type": "code",
   "execution_count": 1,
   "id": "06fc8d26",
   "metadata": {
    "execution": {
     "iopub.execute_input": "2023-02-23T08:11:38.674148Z",
     "iopub.status.busy": "2023-02-23T08:11:38.673930Z",
     "iopub.status.idle": "2023-02-23T08:11:39.585213Z",
     "shell.execute_reply": "2023-02-23T08:11:39.584560Z"
    }
   },
   "outputs": [
    {
     "name": "stderr",
     "output_type": "stream",
     "text": [
      "/opt/hostedtoolcache/Python/3.8.16/x64/lib/python3.8/site-packages/tqdm/auto.py:22: TqdmWarning: IProgress not found. Please update jupyter and ipywidgets. See https://ipywidgets.readthedocs.io/en/stable/user_install.html\n",
      "  from .autonotebook import tqdm as notebook_tqdm\n"
     ]
    }
   ],
   "source": [
    "import torch \n",
    "\n",
    "_TREE_DATA_1 = {'a': 1, 'b': 2, 'x': {'c': 3, 'd': 4}}\n",
    "_TREE_DATA_2 = {\n",
    "    'a': torch.randn(2, 3), \n",
    "    'x': {\n",
    "        'c': torch.randn(3, 4)\n",
    "    },\n",
    "}\n",
    "_TREE_DATA_3 = {\n",
    "    'obs': torch.randn(4, 84, 84),\n",
    "    'action': torch.randint(0, 6, size=(1,)),\n",
    "    'reward': torch.rand(1),\n",
    "}"
   ]
  },
  {
   "cell_type": "markdown",
   "id": "83461b25",
   "metadata": {},
   "source": [
    "## Read and Write Operation"
   ]
  },
  {
   "cell_type": "markdown",
   "id": "067b3f73",
   "metadata": {},
   "source": [
    "Reading and writing are the two most common operations in the tree data structure based on the data model (TreeValue and Tianshou Batch both belong to this type), so this section will compare the reading and writing performance of these two libraries."
   ]
  },
  {
   "cell_type": "markdown",
   "id": "5d09a5b7",
   "metadata": {},
   "source": [
    "### TreeValue's Get and Set"
   ]
  },
  {
   "cell_type": "code",
   "execution_count": 2,
   "id": "9519c4bb",
   "metadata": {
    "execution": {
     "iopub.execute_input": "2023-02-23T08:11:39.588884Z",
     "iopub.status.busy": "2023-02-23T08:11:39.588291Z",
     "iopub.status.idle": "2023-02-23T08:11:39.620963Z",
     "shell.execute_reply": "2023-02-23T08:11:39.620333Z"
    }
   },
   "outputs": [],
   "source": [
    "from treevalue import FastTreeValue\n",
    "\n",
    "t = FastTreeValue(_TREE_DATA_2)"
   ]
  },
  {
   "cell_type": "code",
   "execution_count": 3,
   "id": "11c37677",
   "metadata": {
    "execution": {
     "iopub.execute_input": "2023-02-23T08:11:39.623770Z",
     "iopub.status.busy": "2023-02-23T08:11:39.623420Z",
     "iopub.status.idle": "2023-02-23T08:11:39.632780Z",
     "shell.execute_reply": "2023-02-23T08:11:39.632200Z"
    }
   },
   "outputs": [
    {
     "data": {
      "text/plain": [
       "<FastTreeValue 0x7fbcf083ad90>\n",
       "├── 'a' --> tensor([[-0.8240,  2.0740,  1.7117],\n",
       "│                   [ 1.4386, -0.1540,  1.9880]])\n",
       "└── 'x' --> <FastTreeValue 0x7fbcf083ad30>\n",
       "    └── 'c' --> tensor([[ 0.3599, -1.0203,  0.6055,  0.3434],\n",
       "                        [ 0.7556, -0.7693, -1.4416, -0.9504],\n",
       "                        [-0.7673, -0.3957,  0.3928,  0.9178]])"
      ]
     },
     "execution_count": 3,
     "metadata": {},
     "output_type": "execute_result"
    }
   ],
   "source": [
    "t"
   ]
  },
  {
   "cell_type": "code",
   "execution_count": 4,
   "id": "fd70b0b9",
   "metadata": {
    "execution": {
     "iopub.execute_input": "2023-02-23T08:11:39.635555Z",
     "iopub.status.busy": "2023-02-23T08:11:39.635216Z",
     "iopub.status.idle": "2023-02-23T08:11:39.641117Z",
     "shell.execute_reply": "2023-02-23T08:11:39.640563Z"
    }
   },
   "outputs": [
    {
     "data": {
      "text/plain": [
       "tensor([[-0.8240,  2.0740,  1.7117],\n",
       "        [ 1.4386, -0.1540,  1.9880]])"
      ]
     },
     "execution_count": 4,
     "metadata": {},
     "output_type": "execute_result"
    }
   ],
   "source": [
    "t.a"
   ]
  },
  {
   "cell_type": "code",
   "execution_count": 5,
   "id": "c18197bd",
   "metadata": {
    "execution": {
     "iopub.execute_input": "2023-02-23T08:11:39.643671Z",
     "iopub.status.busy": "2023-02-23T08:11:39.643346Z",
     "iopub.status.idle": "2023-02-23T08:11:44.771502Z",
     "shell.execute_reply": "2023-02-23T08:11:44.770757Z"
    }
   },
   "outputs": [
    {
     "name": "stdout",
     "output_type": "stream",
     "text": [
      "63.2 ns ± 0.0487 ns per loop (mean ± std. dev. of 7 runs, 10,000,000 loops each)\n"
     ]
    }
   ],
   "source": [
    "%timeit t.a"
   ]
  },
  {
   "cell_type": "code",
   "execution_count": 6,
   "id": "bd52f867",
   "metadata": {
    "execution": {
     "iopub.execute_input": "2023-02-23T08:11:44.774112Z",
     "iopub.status.busy": "2023-02-23T08:11:44.773884Z",
     "iopub.status.idle": "2023-02-23T08:11:44.780421Z",
     "shell.execute_reply": "2023-02-23T08:11:44.779844Z"
    }
   },
   "outputs": [
    {
     "data": {
      "text/plain": [
       "<FastTreeValue 0x7fbcf083ad90>\n",
       "├── 'a' --> tensor([[-0.0109, -0.0888, -0.2369],\n",
       "│                   [ 1.0838, -2.0128, -0.8315]])\n",
       "└── 'x' --> <FastTreeValue 0x7fbcf083ad30>\n",
       "    └── 'c' --> tensor([[ 0.3599, -1.0203,  0.6055,  0.3434],\n",
       "                        [ 0.7556, -0.7693, -1.4416, -0.9504],\n",
       "                        [-0.7673, -0.3957,  0.3928,  0.9178]])"
      ]
     },
     "execution_count": 6,
     "metadata": {},
     "output_type": "execute_result"
    }
   ],
   "source": [
    "new_value = torch.randn(2, 3)\n",
    "t.a = new_value\n",
    "\n",
    "t"
   ]
  },
  {
   "cell_type": "code",
   "execution_count": 7,
   "id": "bbe04d1c",
   "metadata": {
    "execution": {
     "iopub.execute_input": "2023-02-23T08:11:44.783425Z",
     "iopub.status.busy": "2023-02-23T08:11:44.782804Z",
     "iopub.status.idle": "2023-02-23T08:11:49.994502Z",
     "shell.execute_reply": "2023-02-23T08:11:49.993787Z"
    }
   },
   "outputs": [
    {
     "name": "stdout",
     "output_type": "stream",
     "text": [
      "64 ns ± 0.0444 ns per loop (mean ± std. dev. of 7 runs, 10,000,000 loops each)\n"
     ]
    }
   ],
   "source": [
    "%timeit t.a = new_value"
   ]
  },
  {
   "cell_type": "markdown",
   "id": "48c49731",
   "metadata": {},
   "source": [
    "### Tianshou Batch's Get and Set"
   ]
  },
  {
   "cell_type": "code",
   "execution_count": 8,
   "id": "f1bb14c1",
   "metadata": {
    "execution": {
     "iopub.execute_input": "2023-02-23T08:11:49.997690Z",
     "iopub.status.busy": "2023-02-23T08:11:49.997246Z",
     "iopub.status.idle": "2023-02-23T08:11:50.330192Z",
     "shell.execute_reply": "2023-02-23T08:11:50.329505Z"
    }
   },
   "outputs": [],
   "source": [
    "from tianshou.data import Batch\n",
    "\n",
    "b = Batch(**_TREE_DATA_2)"
   ]
  },
  {
   "cell_type": "code",
   "execution_count": 9,
   "id": "cb0777c3",
   "metadata": {
    "execution": {
     "iopub.execute_input": "2023-02-23T08:11:50.333655Z",
     "iopub.status.busy": "2023-02-23T08:11:50.332938Z",
     "iopub.status.idle": "2023-02-23T08:11:50.338975Z",
     "shell.execute_reply": "2023-02-23T08:11:50.338333Z"
    }
   },
   "outputs": [
    {
     "data": {
      "text/plain": [
       "Batch(\n",
       "    a: tensor([[-0.8240,  2.0740,  1.7117],\n",
       "               [ 1.4386, -0.1540,  1.9880]]),\n",
       "    x: Batch(\n",
       "           c: tensor([[ 0.3599, -1.0203,  0.6055,  0.3434],\n",
       "                      [ 0.7556, -0.7693, -1.4416, -0.9504],\n",
       "                      [-0.7673, -0.3957,  0.3928,  0.9178]]),\n",
       "       ),\n",
       ")"
      ]
     },
     "execution_count": 9,
     "metadata": {},
     "output_type": "execute_result"
    }
   ],
   "source": [
    "b"
   ]
  },
  {
   "cell_type": "code",
   "execution_count": 10,
   "id": "43ef8ea3",
   "metadata": {
    "execution": {
     "iopub.execute_input": "2023-02-23T08:11:50.341757Z",
     "iopub.status.busy": "2023-02-23T08:11:50.341416Z",
     "iopub.status.idle": "2023-02-23T08:11:50.345985Z",
     "shell.execute_reply": "2023-02-23T08:11:50.345365Z"
    }
   },
   "outputs": [
    {
     "data": {
      "text/plain": [
       "tensor([[-0.8240,  2.0740,  1.7117],\n",
       "        [ 1.4386, -0.1540,  1.9880]])"
      ]
     },
     "execution_count": 10,
     "metadata": {},
     "output_type": "execute_result"
    }
   ],
   "source": [
    "b.a"
   ]
  },
  {
   "cell_type": "code",
   "execution_count": 11,
   "id": "b785ab72",
   "metadata": {
    "execution": {
     "iopub.execute_input": "2023-02-23T08:11:50.348484Z",
     "iopub.status.busy": "2023-02-23T08:11:50.348154Z",
     "iopub.status.idle": "2023-02-23T08:11:54.632184Z",
     "shell.execute_reply": "2023-02-23T08:11:54.631481Z"
    }
   },
   "outputs": [
    {
     "name": "stdout",
     "output_type": "stream",
     "text": [
      "53 ns ± 0.0439 ns per loop (mean ± std. dev. of 7 runs, 10,000,000 loops each)\n"
     ]
    }
   ],
   "source": [
    "%timeit b.a"
   ]
  },
  {
   "cell_type": "code",
   "execution_count": 12,
   "id": "ad54dc69",
   "metadata": {
    "execution": {
     "iopub.execute_input": "2023-02-23T08:11:54.634956Z",
     "iopub.status.busy": "2023-02-23T08:11:54.634609Z",
     "iopub.status.idle": "2023-02-23T08:11:54.640890Z",
     "shell.execute_reply": "2023-02-23T08:11:54.640306Z"
    }
   },
   "outputs": [
    {
     "data": {
      "text/plain": [
       "Batch(\n",
       "    a: tensor([[-0.0570, -1.5393,  1.6000],\n",
       "               [ 0.4585,  1.0593,  0.0380]]),\n",
       "    x: Batch(\n",
       "           c: tensor([[ 0.3599, -1.0203,  0.6055,  0.3434],\n",
       "                      [ 0.7556, -0.7693, -1.4416, -0.9504],\n",
       "                      [-0.7673, -0.3957,  0.3928,  0.9178]]),\n",
       "       ),\n",
       ")"
      ]
     },
     "execution_count": 12,
     "metadata": {},
     "output_type": "execute_result"
    }
   ],
   "source": [
    "new_value = torch.randn(2, 3)\n",
    "b.a = new_value\n",
    "\n",
    "b"
   ]
  },
  {
   "cell_type": "code",
   "execution_count": 13,
   "id": "29b1d0bf",
   "metadata": {
    "execution": {
     "iopub.execute_input": "2023-02-23T08:11:54.643317Z",
     "iopub.status.busy": "2023-02-23T08:11:54.642982Z",
     "iopub.status.idle": "2023-02-23T08:11:58.545639Z",
     "shell.execute_reply": "2023-02-23T08:11:58.544875Z"
    }
   },
   "outputs": [
    {
     "name": "stdout",
     "output_type": "stream",
     "text": [
      "480 ns ± 0.192 ns per loop (mean ± std. dev. of 7 runs, 1,000,000 loops each)\n"
     ]
    }
   ],
   "source": [
    "%timeit b.a = new_value"
   ]
  },
  {
   "cell_type": "markdown",
   "id": "b61ad1d0",
   "metadata": {},
   "source": [
    "## Initialization"
   ]
  },
  {
   "cell_type": "markdown",
   "id": "d70f0d54",
   "metadata": {},
   "source": [
    "### TreeValue's Initialization"
   ]
  },
  {
   "cell_type": "code",
   "execution_count": 14,
   "id": "d32a679b",
   "metadata": {
    "execution": {
     "iopub.execute_input": "2023-02-23T08:11:58.548497Z",
     "iopub.status.busy": "2023-02-23T08:11:58.548129Z",
     "iopub.status.idle": "2023-02-23T08:12:05.308505Z",
     "shell.execute_reply": "2023-02-23T08:12:05.307793Z"
    }
   },
   "outputs": [
    {
     "name": "stdout",
     "output_type": "stream",
     "text": [
      "832 ns ± 1.53 ns per loop (mean ± std. dev. of 7 runs, 1,000,000 loops each)\n"
     ]
    }
   ],
   "source": [
    "%timeit FastTreeValue(_TREE_DATA_1)"
   ]
  },
  {
   "cell_type": "markdown",
   "id": "24f3707b",
   "metadata": {},
   "source": [
    "### Tianshou Batch's Initialization"
   ]
  },
  {
   "cell_type": "code",
   "execution_count": 15,
   "id": "ac3958df",
   "metadata": {
    "execution": {
     "iopub.execute_input": "2023-02-23T08:12:05.311654Z",
     "iopub.status.busy": "2023-02-23T08:12:05.311292Z",
     "iopub.status.idle": "2023-02-23T08:12:14.688065Z",
     "shell.execute_reply": "2023-02-23T08:12:14.687360Z"
    }
   },
   "outputs": [
    {
     "name": "stdout",
     "output_type": "stream",
     "text": [
      "11.5 µs ± 71 ns per loop (mean ± std. dev. of 7 runs, 100,000 loops each)\n"
     ]
    }
   ],
   "source": [
    "%timeit Batch(**_TREE_DATA_1)"
   ]
  },
  {
   "cell_type": "markdown",
   "id": "1ab82e2d",
   "metadata": {},
   "source": [
    "## Deep Copy Operation"
   ]
  },
  {
   "cell_type": "code",
   "execution_count": 16,
   "id": "210a9442",
   "metadata": {
    "execution": {
     "iopub.execute_input": "2023-02-23T08:12:14.691348Z",
     "iopub.status.busy": "2023-02-23T08:12:14.690821Z",
     "iopub.status.idle": "2023-02-23T08:12:14.694809Z",
     "shell.execute_reply": "2023-02-23T08:12:14.694229Z"
    }
   },
   "outputs": [],
   "source": [
    "import copy"
   ]
  },
  {
   "cell_type": "markdown",
   "id": "5a736274",
   "metadata": {},
   "source": [
    "### Deep Copy of TreeValue"
   ]
  },
  {
   "cell_type": "code",
   "execution_count": 17,
   "id": "f9bcadd6",
   "metadata": {
    "execution": {
     "iopub.execute_input": "2023-02-23T08:12:14.697536Z",
     "iopub.status.busy": "2023-02-23T08:12:14.697209Z",
     "iopub.status.idle": "2023-02-23T08:12:25.769304Z",
     "shell.execute_reply": "2023-02-23T08:12:25.768711Z"
    }
   },
   "outputs": [
    {
     "name": "stdout",
     "output_type": "stream",
     "text": [
      "136 µs ± 636 ns per loop (mean ± std. dev. of 7 runs, 10,000 loops each)\n"
     ]
    }
   ],
   "source": [
    "t3 = FastTreeValue(_TREE_DATA_3)\n",
    "%timeit copy.deepcopy(t3)"
   ]
  },
  {
   "cell_type": "markdown",
   "id": "bf8be7ea",
   "metadata": {},
   "source": [
    "### Deep Copy of Tianshou Batch"
   ]
  },
  {
   "cell_type": "code",
   "execution_count": 18,
   "id": "91998e6f",
   "metadata": {
    "execution": {
     "iopub.execute_input": "2023-02-23T08:12:25.773224Z",
     "iopub.status.busy": "2023-02-23T08:12:25.772282Z",
     "iopub.status.idle": "2023-02-23T08:12:37.222629Z",
     "shell.execute_reply": "2023-02-23T08:12:37.222037Z"
    }
   },
   "outputs": [
    {
     "name": "stdout",
     "output_type": "stream",
     "text": [
      "141 µs ± 3.39 µs per loop (mean ± std. dev. of 7 runs, 10,000 loops each)\n"
     ]
    }
   ],
   "source": [
    "b3 = Batch(**_TREE_DATA_3)\n",
    "%timeit copy.deepcopy(b3)"
   ]
  },
  {
   "cell_type": "markdown",
   "id": "223162fb",
   "metadata": {},
   "source": [
    "## Stack, Concat and Split Operation"
   ]
  },
  {
   "cell_type": "markdown",
   "id": "85fa4a73",
   "metadata": {},
   "source": [
    "### Performance of TreeValue"
   ]
  },
  {
   "cell_type": "code",
   "execution_count": 19,
   "id": "a0c2b697",
   "metadata": {
    "execution": {
     "iopub.execute_input": "2023-02-23T08:12:37.226569Z",
     "iopub.status.busy": "2023-02-23T08:12:37.225606Z",
     "iopub.status.idle": "2023-02-23T08:12:37.229891Z",
     "shell.execute_reply": "2023-02-23T08:12:37.229357Z"
    }
   },
   "outputs": [],
   "source": [
    "trees = [FastTreeValue(_TREE_DATA_2) for _ in range(8)]"
   ]
  },
  {
   "cell_type": "code",
   "execution_count": 20,
   "id": "017ea5a5",
   "metadata": {
    "execution": {
     "iopub.execute_input": "2023-02-23T08:12:37.233428Z",
     "iopub.status.busy": "2023-02-23T08:12:37.232509Z",
     "iopub.status.idle": "2023-02-23T08:12:37.241269Z",
     "shell.execute_reply": "2023-02-23T08:12:37.240745Z"
    }
   },
   "outputs": [
    {
     "data": {
      "text/plain": [
       "<FastTreeValue 0x7fbc454b4eb0>\n",
       "├── 'a' --> tensor([[[-0.8240,  2.0740,  1.7117],\n",
       "│                    [ 1.4386, -0.1540,  1.9880]],\n",
       "│           \n",
       "│                   [[-0.8240,  2.0740,  1.7117],\n",
       "│                    [ 1.4386, -0.1540,  1.9880]],\n",
       "│           \n",
       "│                   [[-0.8240,  2.0740,  1.7117],\n",
       "│                    [ 1.4386, -0.1540,  1.9880]],\n",
       "│           \n",
       "│                   [[-0.8240,  2.0740,  1.7117],\n",
       "│                    [ 1.4386, -0.1540,  1.9880]],\n",
       "│           \n",
       "│                   [[-0.8240,  2.0740,  1.7117],\n",
       "│                    [ 1.4386, -0.1540,  1.9880]],\n",
       "│           \n",
       "│                   [[-0.8240,  2.0740,  1.7117],\n",
       "│                    [ 1.4386, -0.1540,  1.9880]],\n",
       "│           \n",
       "│                   [[-0.8240,  2.0740,  1.7117],\n",
       "│                    [ 1.4386, -0.1540,  1.9880]],\n",
       "│           \n",
       "│                   [[-0.8240,  2.0740,  1.7117],\n",
       "│                    [ 1.4386, -0.1540,  1.9880]]])\n",
       "└── 'x' --> <FastTreeValue 0x7fbc454b4e80>\n",
       "    └── 'c' --> tensor([[[ 0.3599, -1.0203,  0.6055,  0.3434],\n",
       "                         [ 0.7556, -0.7693, -1.4416, -0.9504],\n",
       "                         [-0.7673, -0.3957,  0.3928,  0.9178]],\n",
       "                \n",
       "                        [[ 0.3599, -1.0203,  0.6055,  0.3434],\n",
       "                         [ 0.7556, -0.7693, -1.4416, -0.9504],\n",
       "                         [-0.7673, -0.3957,  0.3928,  0.9178]],\n",
       "                \n",
       "                        [[ 0.3599, -1.0203,  0.6055,  0.3434],\n",
       "                         [ 0.7556, -0.7693, -1.4416, -0.9504],\n",
       "                         [-0.7673, -0.3957,  0.3928,  0.9178]],\n",
       "                \n",
       "                        [[ 0.3599, -1.0203,  0.6055,  0.3434],\n",
       "                         [ 0.7556, -0.7693, -1.4416, -0.9504],\n",
       "                         [-0.7673, -0.3957,  0.3928,  0.9178]],\n",
       "                \n",
       "                        [[ 0.3599, -1.0203,  0.6055,  0.3434],\n",
       "                         [ 0.7556, -0.7693, -1.4416, -0.9504],\n",
       "                         [-0.7673, -0.3957,  0.3928,  0.9178]],\n",
       "                \n",
       "                        [[ 0.3599, -1.0203,  0.6055,  0.3434],\n",
       "                         [ 0.7556, -0.7693, -1.4416, -0.9504],\n",
       "                         [-0.7673, -0.3957,  0.3928,  0.9178]],\n",
       "                \n",
       "                        [[ 0.3599, -1.0203,  0.6055,  0.3434],\n",
       "                         [ 0.7556, -0.7693, -1.4416, -0.9504],\n",
       "                         [-0.7673, -0.3957,  0.3928,  0.9178]],\n",
       "                \n",
       "                        [[ 0.3599, -1.0203,  0.6055,  0.3434],\n",
       "                         [ 0.7556, -0.7693, -1.4416, -0.9504],\n",
       "                         [-0.7673, -0.3957,  0.3928,  0.9178]]])"
      ]
     },
     "execution_count": 20,
     "metadata": {},
     "output_type": "execute_result"
    }
   ],
   "source": [
    "t_stack = FastTreeValue.func(subside=True)(torch.stack)\n",
    "\n",
    "t_stack(trees)"
   ]
  },
  {
   "cell_type": "code",
   "execution_count": 21,
   "id": "f8b3f415",
   "metadata": {
    "execution": {
     "iopub.execute_input": "2023-02-23T08:12:37.244787Z",
     "iopub.status.busy": "2023-02-23T08:12:37.243869Z",
     "iopub.status.idle": "2023-02-23T08:12:39.838175Z",
     "shell.execute_reply": "2023-02-23T08:12:39.837459Z"
    }
   },
   "outputs": [
    {
     "name": "stdout",
     "output_type": "stream",
     "text": [
      "31.9 µs ± 66.5 ns per loop (mean ± std. dev. of 7 runs, 10,000 loops each)\n"
     ]
    }
   ],
   "source": [
    "%timeit t_stack(trees)"
   ]
  },
  {
   "cell_type": "code",
   "execution_count": 22,
   "id": "94b56771",
   "metadata": {
    "execution": {
     "iopub.execute_input": "2023-02-23T08:12:39.841269Z",
     "iopub.status.busy": "2023-02-23T08:12:39.840905Z",
     "iopub.status.idle": "2023-02-23T08:12:39.849637Z",
     "shell.execute_reply": "2023-02-23T08:12:39.849023Z"
    }
   },
   "outputs": [
    {
     "data": {
      "text/plain": [
       "<FastTreeValue 0x7fbc454fff10>\n",
       "├── 'a' --> tensor([[-0.8240,  2.0740,  1.7117],\n",
       "│                   [ 1.4386, -0.1540,  1.9880],\n",
       "│                   [-0.8240,  2.0740,  1.7117],\n",
       "│                   [ 1.4386, -0.1540,  1.9880],\n",
       "│                   [-0.8240,  2.0740,  1.7117],\n",
       "│                   [ 1.4386, -0.1540,  1.9880],\n",
       "│                   [-0.8240,  2.0740,  1.7117],\n",
       "│                   [ 1.4386, -0.1540,  1.9880],\n",
       "│                   [-0.8240,  2.0740,  1.7117],\n",
       "│                   [ 1.4386, -0.1540,  1.9880],\n",
       "│                   [-0.8240,  2.0740,  1.7117],\n",
       "│                   [ 1.4386, -0.1540,  1.9880],\n",
       "│                   [-0.8240,  2.0740,  1.7117],\n",
       "│                   [ 1.4386, -0.1540,  1.9880],\n",
       "│                   [-0.8240,  2.0740,  1.7117],\n",
       "│                   [ 1.4386, -0.1540,  1.9880]])\n",
       "└── 'x' --> <FastTreeValue 0x7fbc454ff370>\n",
       "    └── 'c' --> tensor([[ 0.3599, -1.0203,  0.6055,  0.3434],\n",
       "                        [ 0.7556, -0.7693, -1.4416, -0.9504],\n",
       "                        [-0.7673, -0.3957,  0.3928,  0.9178],\n",
       "                        [ 0.3599, -1.0203,  0.6055,  0.3434],\n",
       "                        [ 0.7556, -0.7693, -1.4416, -0.9504],\n",
       "                        [-0.7673, -0.3957,  0.3928,  0.9178],\n",
       "                        [ 0.3599, -1.0203,  0.6055,  0.3434],\n",
       "                        [ 0.7556, -0.7693, -1.4416, -0.9504],\n",
       "                        [-0.7673, -0.3957,  0.3928,  0.9178],\n",
       "                        [ 0.3599, -1.0203,  0.6055,  0.3434],\n",
       "                        [ 0.7556, -0.7693, -1.4416, -0.9504],\n",
       "                        [-0.7673, -0.3957,  0.3928,  0.9178],\n",
       "                        [ 0.3599, -1.0203,  0.6055,  0.3434],\n",
       "                        [ 0.7556, -0.7693, -1.4416, -0.9504],\n",
       "                        [-0.7673, -0.3957,  0.3928,  0.9178],\n",
       "                        [ 0.3599, -1.0203,  0.6055,  0.3434],\n",
       "                        [ 0.7556, -0.7693, -1.4416, -0.9504],\n",
       "                        [-0.7673, -0.3957,  0.3928,  0.9178],\n",
       "                        [ 0.3599, -1.0203,  0.6055,  0.3434],\n",
       "                        [ 0.7556, -0.7693, -1.4416, -0.9504],\n",
       "                        [-0.7673, -0.3957,  0.3928,  0.9178],\n",
       "                        [ 0.3599, -1.0203,  0.6055,  0.3434],\n",
       "                        [ 0.7556, -0.7693, -1.4416, -0.9504],\n",
       "                        [-0.7673, -0.3957,  0.3928,  0.9178]])"
      ]
     },
     "execution_count": 22,
     "metadata": {},
     "output_type": "execute_result"
    }
   ],
   "source": [
    "t_cat = FastTreeValue.func(subside=True)(torch.cat)\n",
    "\n",
    "t_cat(trees)"
   ]
  },
  {
   "cell_type": "code",
   "execution_count": 23,
   "id": "5e9c06a6",
   "metadata": {
    "execution": {
     "iopub.execute_input": "2023-02-23T08:12:39.852660Z",
     "iopub.status.busy": "2023-02-23T08:12:39.852045Z",
     "iopub.status.idle": "2023-02-23T08:12:42.273721Z",
     "shell.execute_reply": "2023-02-23T08:12:42.273000Z"
    }
   },
   "outputs": [
    {
     "name": "stdout",
     "output_type": "stream",
     "text": [
      "29.8 µs ± 60.6 ns per loop (mean ± std. dev. of 7 runs, 10,000 loops each)\n"
     ]
    }
   ],
   "source": [
    "%timeit t_cat(trees)"
   ]
  },
  {
   "cell_type": "code",
   "execution_count": 24,
   "id": "a3ab5c8f",
   "metadata": {
    "execution": {
     "iopub.execute_input": "2023-02-23T08:12:42.276519Z",
     "iopub.status.busy": "2023-02-23T08:12:42.276169Z",
     "iopub.status.idle": "2023-02-23T08:12:46.877964Z",
     "shell.execute_reply": "2023-02-23T08:12:46.877204Z"
    }
   },
   "outputs": [
    {
     "name": "stdout",
     "output_type": "stream",
     "text": [
      "56.5 µs ± 72.8 ns per loop (mean ± std. dev. of 7 runs, 10,000 loops each)\n"
     ]
    }
   ],
   "source": [
    "t_split = FastTreeValue.func(rise=True)(torch.split)\n",
    "tree = FastTreeValue({\n",
    "    'obs': torch.randn(8, 4, 84, 84),\n",
    "    'action': torch.randint(0, 6, size=(8, 1,)),\n",
    "    'reward': torch.rand(8, 1),\n",
    "})\n",
    "\n",
    "%timeit t_split(tree, 1)"
   ]
  },
  {
   "cell_type": "markdown",
   "id": "31c3ec0b",
   "metadata": {},
   "source": [
    "### Performance of Tianshou Batch"
   ]
  },
  {
   "cell_type": "code",
   "execution_count": 25,
   "id": "9ead828a",
   "metadata": {
    "execution": {
     "iopub.execute_input": "2023-02-23T08:12:46.880770Z",
     "iopub.status.busy": "2023-02-23T08:12:46.880432Z",
     "iopub.status.idle": "2023-02-23T08:12:46.888256Z",
     "shell.execute_reply": "2023-02-23T08:12:46.887679Z"
    }
   },
   "outputs": [
    {
     "data": {
      "text/plain": [
       "Batch(\n",
       "    x: Batch(\n",
       "           c: tensor([[[ 0.3599, -1.0203,  0.6055,  0.3434],\n",
       "                       [ 0.7556, -0.7693, -1.4416, -0.9504],\n",
       "                       [-0.7673, -0.3957,  0.3928,  0.9178]],\n",
       "              \n",
       "                      [[ 0.3599, -1.0203,  0.6055,  0.3434],\n",
       "                       [ 0.7556, -0.7693, -1.4416, -0.9504],\n",
       "                       [-0.7673, -0.3957,  0.3928,  0.9178]],\n",
       "              \n",
       "                      [[ 0.3599, -1.0203,  0.6055,  0.3434],\n",
       "                       [ 0.7556, -0.7693, -1.4416, -0.9504],\n",
       "                       [-0.7673, -0.3957,  0.3928,  0.9178]],\n",
       "              \n",
       "                      [[ 0.3599, -1.0203,  0.6055,  0.3434],\n",
       "                       [ 0.7556, -0.7693, -1.4416, -0.9504],\n",
       "                       [-0.7673, -0.3957,  0.3928,  0.9178]],\n",
       "              \n",
       "                      [[ 0.3599, -1.0203,  0.6055,  0.3434],\n",
       "                       [ 0.7556, -0.7693, -1.4416, -0.9504],\n",
       "                       [-0.7673, -0.3957,  0.3928,  0.9178]],\n",
       "              \n",
       "                      [[ 0.3599, -1.0203,  0.6055,  0.3434],\n",
       "                       [ 0.7556, -0.7693, -1.4416, -0.9504],\n",
       "                       [-0.7673, -0.3957,  0.3928,  0.9178]],\n",
       "              \n",
       "                      [[ 0.3599, -1.0203,  0.6055,  0.3434],\n",
       "                       [ 0.7556, -0.7693, -1.4416, -0.9504],\n",
       "                       [-0.7673, -0.3957,  0.3928,  0.9178]],\n",
       "              \n",
       "                      [[ 0.3599, -1.0203,  0.6055,  0.3434],\n",
       "                       [ 0.7556, -0.7693, -1.4416, -0.9504],\n",
       "                       [-0.7673, -0.3957,  0.3928,  0.9178]]]),\n",
       "       ),\n",
       "    a: tensor([[[-0.8240,  2.0740,  1.7117],\n",
       "                [ 1.4386, -0.1540,  1.9880]],\n",
       "       \n",
       "               [[-0.8240,  2.0740,  1.7117],\n",
       "                [ 1.4386, -0.1540,  1.9880]],\n",
       "       \n",
       "               [[-0.8240,  2.0740,  1.7117],\n",
       "                [ 1.4386, -0.1540,  1.9880]],\n",
       "       \n",
       "               [[-0.8240,  2.0740,  1.7117],\n",
       "                [ 1.4386, -0.1540,  1.9880]],\n",
       "       \n",
       "               [[-0.8240,  2.0740,  1.7117],\n",
       "                [ 1.4386, -0.1540,  1.9880]],\n",
       "       \n",
       "               [[-0.8240,  2.0740,  1.7117],\n",
       "                [ 1.4386, -0.1540,  1.9880]],\n",
       "       \n",
       "               [[-0.8240,  2.0740,  1.7117],\n",
       "                [ 1.4386, -0.1540,  1.9880]],\n",
       "       \n",
       "               [[-0.8240,  2.0740,  1.7117],\n",
       "                [ 1.4386, -0.1540,  1.9880]]]),\n",
       ")"
      ]
     },
     "execution_count": 25,
     "metadata": {},
     "output_type": "execute_result"
    }
   ],
   "source": [
    "batches = [Batch(**_TREE_DATA_2) for _ in range(8)]\n",
    "\n",
    "Batch.stack(batches)"
   ]
  },
  {
   "cell_type": "code",
   "execution_count": 26,
   "id": "ec9037a3",
   "metadata": {
    "execution": {
     "iopub.execute_input": "2023-02-23T08:12:46.891192Z",
     "iopub.status.busy": "2023-02-23T08:12:46.890641Z",
     "iopub.status.idle": "2023-02-23T08:12:53.219528Z",
     "shell.execute_reply": "2023-02-23T08:12:53.218786Z"
    }
   },
   "outputs": [
    {
     "name": "stdout",
     "output_type": "stream",
     "text": [
      "77.8 µs ± 137 ns per loop (mean ± std. dev. of 7 runs, 10,000 loops each)\n"
     ]
    }
   ],
   "source": [
    "%timeit Batch.stack(batches)"
   ]
  },
  {
   "cell_type": "code",
   "execution_count": 27,
   "id": "cb8ab77e",
   "metadata": {
    "execution": {
     "iopub.execute_input": "2023-02-23T08:12:53.222531Z",
     "iopub.status.busy": "2023-02-23T08:12:53.221939Z",
     "iopub.status.idle": "2023-02-23T08:12:53.229451Z",
     "shell.execute_reply": "2023-02-23T08:12:53.228876Z"
    }
   },
   "outputs": [
    {
     "data": {
      "text/plain": [
       "Batch(\n",
       "    x: Batch(\n",
       "           c: tensor([[ 0.3599, -1.0203,  0.6055,  0.3434],\n",
       "                      [ 0.7556, -0.7693, -1.4416, -0.9504],\n",
       "                      [-0.7673, -0.3957,  0.3928,  0.9178],\n",
       "                      [ 0.3599, -1.0203,  0.6055,  0.3434],\n",
       "                      [ 0.7556, -0.7693, -1.4416, -0.9504],\n",
       "                      [-0.7673, -0.3957,  0.3928,  0.9178],\n",
       "                      [ 0.3599, -1.0203,  0.6055,  0.3434],\n",
       "                      [ 0.7556, -0.7693, -1.4416, -0.9504],\n",
       "                      [-0.7673, -0.3957,  0.3928,  0.9178],\n",
       "                      [ 0.3599, -1.0203,  0.6055,  0.3434],\n",
       "                      [ 0.7556, -0.7693, -1.4416, -0.9504],\n",
       "                      [-0.7673, -0.3957,  0.3928,  0.9178],\n",
       "                      [ 0.3599, -1.0203,  0.6055,  0.3434],\n",
       "                      [ 0.7556, -0.7693, -1.4416, -0.9504],\n",
       "                      [-0.7673, -0.3957,  0.3928,  0.9178],\n",
       "                      [ 0.3599, -1.0203,  0.6055,  0.3434],\n",
       "                      [ 0.7556, -0.7693, -1.4416, -0.9504],\n",
       "                      [-0.7673, -0.3957,  0.3928,  0.9178],\n",
       "                      [ 0.3599, -1.0203,  0.6055,  0.3434],\n",
       "                      [ 0.7556, -0.7693, -1.4416, -0.9504],\n",
       "                      [-0.7673, -0.3957,  0.3928,  0.9178],\n",
       "                      [ 0.3599, -1.0203,  0.6055,  0.3434],\n",
       "                      [ 0.7556, -0.7693, -1.4416, -0.9504],\n",
       "                      [-0.7673, -0.3957,  0.3928,  0.9178]]),\n",
       "       ),\n",
       "    a: tensor([[-0.8240,  2.0740,  1.7117],\n",
       "               [ 1.4386, -0.1540,  1.9880],\n",
       "               [-0.8240,  2.0740,  1.7117],\n",
       "               [ 1.4386, -0.1540,  1.9880],\n",
       "               [-0.8240,  2.0740,  1.7117],\n",
       "               [ 1.4386, -0.1540,  1.9880],\n",
       "               [-0.8240,  2.0740,  1.7117],\n",
       "               [ 1.4386, -0.1540,  1.9880],\n",
       "               [-0.8240,  2.0740,  1.7117],\n",
       "               [ 1.4386, -0.1540,  1.9880],\n",
       "               [-0.8240,  2.0740,  1.7117],\n",
       "               [ 1.4386, -0.1540,  1.9880],\n",
       "               [-0.8240,  2.0740,  1.7117],\n",
       "               [ 1.4386, -0.1540,  1.9880],\n",
       "               [-0.8240,  2.0740,  1.7117],\n",
       "               [ 1.4386, -0.1540,  1.9880]]),\n",
       ")"
      ]
     },
     "execution_count": 27,
     "metadata": {},
     "output_type": "execute_result"
    }
   ],
   "source": [
    "Batch.cat(batches)"
   ]
  },
  {
   "cell_type": "code",
   "execution_count": 28,
   "id": "18dfb045",
   "metadata": {
    "execution": {
     "iopub.execute_input": "2023-02-23T08:12:53.232384Z",
     "iopub.status.busy": "2023-02-23T08:12:53.231875Z",
     "iopub.status.idle": "2023-02-23T08:13:04.756002Z",
     "shell.execute_reply": "2023-02-23T08:13:04.755341Z"
    }
   },
   "outputs": [
    {
     "name": "stdout",
     "output_type": "stream",
     "text": [
      "142 µs ± 337 ns per loop (mean ± std. dev. of 7 runs, 10,000 loops each)\n"
     ]
    }
   ],
   "source": [
    "%timeit Batch.cat(batches)"
   ]
  },
  {
   "cell_type": "code",
   "execution_count": 29,
   "id": "c6688e51",
   "metadata": {
    "execution": {
     "iopub.execute_input": "2023-02-23T08:13:04.759122Z",
     "iopub.status.busy": "2023-02-23T08:13:04.758765Z",
     "iopub.status.idle": "2023-02-23T08:13:07.252054Z",
     "shell.execute_reply": "2023-02-23T08:13:07.251503Z"
    }
   },
   "outputs": [
    {
     "name": "stdout",
     "output_type": "stream",
     "text": [
      "307 µs ± 2.18 µs per loop (mean ± std. dev. of 7 runs, 1,000 loops each)\n"
     ]
    }
   ],
   "source": [
    "batch = Batch({\n",
    "    'obs': torch.randn(8, 4, 84, 84),\n",
    "    'action': torch.randint(0, 6, size=(8, 1,)),\n",
    "    'reward': torch.rand(8, 1)}\n",
    ")\n",
    "\n",
    "%timeit list(Batch.split(batch, 1, shuffle=False, merge_last=True))"
   ]
  },
  {
   "cell_type": "code",
   "execution_count": null,
   "id": "2539fbd9",
   "metadata": {},
   "outputs": [],
   "source": []
  }
 ],
 "metadata": {
  "kernelspec": {
   "display_name": "Python 3 (ipykernel)",
   "language": "python",
   "name": "python3"
  },
  "language_info": {
   "codemirror_mode": {
    "name": "ipython",
    "version": 3
   },
   "file_extension": ".py",
   "mimetype": "text/x-python",
   "name": "python",
   "nbconvert_exporter": "python",
   "pygments_lexer": "ipython3",
   "version": "3.8.16"
  }
 },
 "nbformat": 4,
 "nbformat_minor": 5
}
