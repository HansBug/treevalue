{
 "cells": [
  {
   "cell_type": "markdown",
   "id": "9d39d946",
   "metadata": {},
   "source": [
    "# Comparison Between TreeValue and Tianshou Batch"
   ]
  },
  {
   "cell_type": "markdown",
   "id": "3c6db2d4",
   "metadata": {},
   "source": [
    "In this section, we will take a look at the feature and performance of the [Tianshou Batch](https://github.com/thu-ml/tianshou) library, which is developed by Tsinghua Machine Learning Group."
   ]
  },
  {
   "cell_type": "markdown",
   "id": "069361b0",
   "metadata": {},
   "source": [
    "Before starting the comparison, let us define some thing."
   ]
  },
  {
   "cell_type": "code",
   "execution_count": 1,
   "id": "06fc8d26",
   "metadata": {
    "execution": {
     "iopub.execute_input": "2023-02-23T08:05:35.630028Z",
     "iopub.status.busy": "2023-02-23T08:05:35.629756Z",
     "iopub.status.idle": "2023-02-23T08:05:36.641264Z",
     "shell.execute_reply": "2023-02-23T08:05:36.640477Z"
    }
   },
   "outputs": [
    {
     "name": "stderr",
     "output_type": "stream",
     "text": [
      "/opt/hostedtoolcache/Python/3.8.16/x64/lib/python3.8/site-packages/tqdm/auto.py:22: TqdmWarning: IProgress not found. Please update jupyter and ipywidgets. See https://ipywidgets.readthedocs.io/en/stable/user_install.html\n",
      "  from .autonotebook import tqdm as notebook_tqdm\n"
     ]
    }
   ],
   "source": [
    "import torch \n",
    "\n",
    "_TREE_DATA_1 = {'a': 1, 'b': 2, 'x': {'c': 3, 'd': 4}}\n",
    "_TREE_DATA_2 = {\n",
    "    'a': torch.randn(2, 3), \n",
    "    'x': {\n",
    "        'c': torch.randn(3, 4)\n",
    "    },\n",
    "}\n",
    "_TREE_DATA_3 = {\n",
    "    'obs': torch.randn(4, 84, 84),\n",
    "    'action': torch.randint(0, 6, size=(1,)),\n",
    "    'reward': torch.rand(1),\n",
    "}"
   ]
  },
  {
   "cell_type": "markdown",
   "id": "83461b25",
   "metadata": {},
   "source": [
    "## Read and Write Operation"
   ]
  },
  {
   "cell_type": "markdown",
   "id": "067b3f73",
   "metadata": {},
   "source": [
    "Reading and writing are the two most common operations in the tree data structure based on the data model (TreeValue and Tianshou Batch both belong to this type), so this section will compare the reading and writing performance of these two libraries."
   ]
  },
  {
   "cell_type": "markdown",
   "id": "5d09a5b7",
   "metadata": {},
   "source": [
    "### TreeValue's Get and Set"
   ]
  },
  {
   "cell_type": "code",
   "execution_count": 2,
   "id": "9519c4bb",
   "metadata": {
    "execution": {
     "iopub.execute_input": "2023-02-23T08:05:36.645349Z",
     "iopub.status.busy": "2023-02-23T08:05:36.644876Z",
     "iopub.status.idle": "2023-02-23T08:05:36.679591Z",
     "shell.execute_reply": "2023-02-23T08:05:36.678906Z"
    }
   },
   "outputs": [],
   "source": [
    "from treevalue import FastTreeValue\n",
    "\n",
    "t = FastTreeValue(_TREE_DATA_2)"
   ]
  },
  {
   "cell_type": "code",
   "execution_count": 3,
   "id": "11c37677",
   "metadata": {
    "execution": {
     "iopub.execute_input": "2023-02-23T08:05:36.683271Z",
     "iopub.status.busy": "2023-02-23T08:05:36.682782Z",
     "iopub.status.idle": "2023-02-23T08:05:36.692988Z",
     "shell.execute_reply": "2023-02-23T08:05:36.692374Z"
    }
   },
   "outputs": [
    {
     "data": {
      "text/plain": [
       "<FastTreeValue 0x7fc9401182e0>\n",
       "├── 'a' --> tensor([[ 1.4557, -0.8750,  0.9974],\n",
       "│                   [-0.4267, -2.5494, -0.8116]])\n",
       "└── 'x' --> <FastTreeValue 0x7fc940118700>\n",
       "    └── 'c' --> tensor([[ 1.5550,  1.7717,  0.8875, -0.2871],\n",
       "                        [-0.0854, -0.6550,  0.6069, -0.3160],\n",
       "                        [-0.1392,  1.0513,  1.9036, -1.3792]])"
      ]
     },
     "execution_count": 3,
     "metadata": {},
     "output_type": "execute_result"
    }
   ],
   "source": [
    "t"
   ]
  },
  {
   "cell_type": "code",
   "execution_count": 4,
   "id": "fd70b0b9",
   "metadata": {
    "execution": {
     "iopub.execute_input": "2023-02-23T08:05:36.696004Z",
     "iopub.status.busy": "2023-02-23T08:05:36.695649Z",
     "iopub.status.idle": "2023-02-23T08:05:36.700462Z",
     "shell.execute_reply": "2023-02-23T08:05:36.699811Z"
    }
   },
   "outputs": [
    {
     "data": {
      "text/plain": [
       "tensor([[ 1.4557, -0.8750,  0.9974],\n",
       "        [-0.4267, -2.5494, -0.8116]])"
      ]
     },
     "execution_count": 4,
     "metadata": {},
     "output_type": "execute_result"
    }
   ],
   "source": [
    "t.a"
   ]
  },
  {
   "cell_type": "code",
   "execution_count": 5,
   "id": "c18197bd",
   "metadata": {
    "execution": {
     "iopub.execute_input": "2023-02-23T08:05:36.703538Z",
     "iopub.status.busy": "2023-02-23T08:05:36.702979Z",
     "iopub.status.idle": "2023-02-23T08:05:41.888483Z",
     "shell.execute_reply": "2023-02-23T08:05:41.887168Z"
    }
   },
   "outputs": [
    {
     "name": "stdout",
     "output_type": "stream",
     "text": [
      "63.8 ns ± 0.061 ns per loop (mean ± std. dev. of 7 runs, 10,000,000 loops each)\n"
     ]
    }
   ],
   "source": [
    "%timeit t.a"
   ]
  },
  {
   "cell_type": "code",
   "execution_count": 6,
   "id": "bd52f867",
   "metadata": {
    "execution": {
     "iopub.execute_input": "2023-02-23T08:05:41.892186Z",
     "iopub.status.busy": "2023-02-23T08:05:41.891681Z",
     "iopub.status.idle": "2023-02-23T08:05:41.898987Z",
     "shell.execute_reply": "2023-02-23T08:05:41.898348Z"
    }
   },
   "outputs": [
    {
     "data": {
      "text/plain": [
       "<FastTreeValue 0x7fc9401182e0>\n",
       "├── 'a' --> tensor([[ 0.0604,  0.6563,  2.0124],\n",
       "│                   [-0.0947,  0.0063, -0.3051]])\n",
       "└── 'x' --> <FastTreeValue 0x7fc940118700>\n",
       "    └── 'c' --> tensor([[ 1.5550,  1.7717,  0.8875, -0.2871],\n",
       "                        [-0.0854, -0.6550,  0.6069, -0.3160],\n",
       "                        [-0.1392,  1.0513,  1.9036, -1.3792]])"
      ]
     },
     "execution_count": 6,
     "metadata": {},
     "output_type": "execute_result"
    }
   ],
   "source": [
    "new_value = torch.randn(2, 3)\n",
    "t.a = new_value\n",
    "\n",
    "t"
   ]
  },
  {
   "cell_type": "code",
   "execution_count": 7,
   "id": "bbe04d1c",
   "metadata": {
    "execution": {
     "iopub.execute_input": "2023-02-23T08:05:41.901648Z",
     "iopub.status.busy": "2023-02-23T08:05:41.901281Z",
     "iopub.status.idle": "2023-02-23T08:05:47.588556Z",
     "shell.execute_reply": "2023-02-23T08:05:47.587444Z"
    }
   },
   "outputs": [
    {
     "name": "stdout",
     "output_type": "stream",
     "text": [
      "70 ns ± 0.119 ns per loop (mean ± std. dev. of 7 runs, 10,000,000 loops each)\n"
     ]
    }
   ],
   "source": [
    "%timeit t.a = new_value"
   ]
  },
  {
   "cell_type": "markdown",
   "id": "48c49731",
   "metadata": {},
   "source": [
    "### Tianshou Batch's Get and Set"
   ]
  },
  {
   "cell_type": "code",
   "execution_count": 8,
   "id": "f1bb14c1",
   "metadata": {
    "execution": {
     "iopub.execute_input": "2023-02-23T08:05:47.592551Z",
     "iopub.status.busy": "2023-02-23T08:05:47.591822Z",
     "iopub.status.idle": "2023-02-23T08:05:47.975255Z",
     "shell.execute_reply": "2023-02-23T08:05:47.974482Z"
    }
   },
   "outputs": [],
   "source": [
    "from tianshou.data import Batch\n",
    "\n",
    "b = Batch(**_TREE_DATA_2)"
   ]
  },
  {
   "cell_type": "code",
   "execution_count": 9,
   "id": "cb0777c3",
   "metadata": {
    "execution": {
     "iopub.execute_input": "2023-02-23T08:05:47.979325Z",
     "iopub.status.busy": "2023-02-23T08:05:47.978935Z",
     "iopub.status.idle": "2023-02-23T08:05:47.985853Z",
     "shell.execute_reply": "2023-02-23T08:05:47.985128Z"
    }
   },
   "outputs": [
    {
     "data": {
      "text/plain": [
       "Batch(\n",
       "    a: tensor([[ 1.4557, -0.8750,  0.9974],\n",
       "               [-0.4267, -2.5494, -0.8116]]),\n",
       "    x: Batch(\n",
       "           c: tensor([[ 1.5550,  1.7717,  0.8875, -0.2871],\n",
       "                      [-0.0854, -0.6550,  0.6069, -0.3160],\n",
       "                      [-0.1392,  1.0513,  1.9036, -1.3792]]),\n",
       "       ),\n",
       ")"
      ]
     },
     "execution_count": 9,
     "metadata": {},
     "output_type": "execute_result"
    }
   ],
   "source": [
    "b"
   ]
  },
  {
   "cell_type": "code",
   "execution_count": 10,
   "id": "43ef8ea3",
   "metadata": {
    "execution": {
     "iopub.execute_input": "2023-02-23T08:05:47.989144Z",
     "iopub.status.busy": "2023-02-23T08:05:47.988565Z",
     "iopub.status.idle": "2023-02-23T08:05:47.995778Z",
     "shell.execute_reply": "2023-02-23T08:05:47.995108Z"
    }
   },
   "outputs": [
    {
     "data": {
      "text/plain": [
       "tensor([[ 1.4557, -0.8750,  0.9974],\n",
       "        [-0.4267, -2.5494, -0.8116]])"
      ]
     },
     "execution_count": 10,
     "metadata": {},
     "output_type": "execute_result"
    }
   ],
   "source": [
    "b.a"
   ]
  },
  {
   "cell_type": "code",
   "execution_count": 11,
   "id": "b785ab72",
   "metadata": {
    "execution": {
     "iopub.execute_input": "2023-02-23T08:05:47.999188Z",
     "iopub.status.busy": "2023-02-23T08:05:47.998580Z",
     "iopub.status.idle": "2023-02-23T08:05:52.691874Z",
     "shell.execute_reply": "2023-02-23T08:05:52.690947Z"
    }
   },
   "outputs": [
    {
     "name": "stdout",
     "output_type": "stream",
     "text": [
      "57.8 ns ± 0.139 ns per loop (mean ± std. dev. of 7 runs, 10,000,000 loops each)\n"
     ]
    }
   ],
   "source": [
    "%timeit b.a"
   ]
  },
  {
   "cell_type": "code",
   "execution_count": 12,
   "id": "ad54dc69",
   "metadata": {
    "execution": {
     "iopub.execute_input": "2023-02-23T08:05:52.695396Z",
     "iopub.status.busy": "2023-02-23T08:05:52.694974Z",
     "iopub.status.idle": "2023-02-23T08:05:52.704213Z",
     "shell.execute_reply": "2023-02-23T08:05:52.702221Z"
    }
   },
   "outputs": [
    {
     "data": {
      "text/plain": [
       "Batch(\n",
       "    a: tensor([[-0.0845,  0.1974,  0.4168],\n",
       "               [ 0.9878,  1.6085,  0.2184]]),\n",
       "    x: Batch(\n",
       "           c: tensor([[ 1.5550,  1.7717,  0.8875, -0.2871],\n",
       "                      [-0.0854, -0.6550,  0.6069, -0.3160],\n",
       "                      [-0.1392,  1.0513,  1.9036, -1.3792]]),\n",
       "       ),\n",
       ")"
      ]
     },
     "execution_count": 12,
     "metadata": {},
     "output_type": "execute_result"
    }
   ],
   "source": [
    "new_value = torch.randn(2, 3)\n",
    "b.a = new_value\n",
    "\n",
    "b"
   ]
  },
  {
   "cell_type": "code",
   "execution_count": 13,
   "id": "29b1d0bf",
   "metadata": {
    "execution": {
     "iopub.execute_input": "2023-02-23T08:05:52.709372Z",
     "iopub.status.busy": "2023-02-23T08:05:52.708773Z",
     "iopub.status.idle": "2023-02-23T08:05:56.836022Z",
     "shell.execute_reply": "2023-02-23T08:05:56.835227Z"
    }
   },
   "outputs": [
    {
     "name": "stdout",
     "output_type": "stream",
     "text": [
      "508 ns ± 0.144 ns per loop (mean ± std. dev. of 7 runs, 1,000,000 loops each)\n"
     ]
    }
   ],
   "source": [
    "%timeit b.a = new_value"
   ]
  },
  {
   "cell_type": "markdown",
   "id": "b61ad1d0",
   "metadata": {},
   "source": [
    "## Initialization"
   ]
  },
  {
   "cell_type": "markdown",
   "id": "d70f0d54",
   "metadata": {},
   "source": [
    "### TreeValue's Initialization"
   ]
  },
  {
   "cell_type": "code",
   "execution_count": 14,
   "id": "d32a679b",
   "metadata": {
    "execution": {
     "iopub.execute_input": "2023-02-23T08:05:56.839707Z",
     "iopub.status.busy": "2023-02-23T08:05:56.839067Z",
     "iopub.status.idle": "2023-02-23T08:06:03.406084Z",
     "shell.execute_reply": "2023-02-23T08:06:03.405415Z"
    }
   },
   "outputs": [
    {
     "name": "stdout",
     "output_type": "stream",
     "text": [
      "809 ns ± 1.1 ns per loop (mean ± std. dev. of 7 runs, 1,000,000 loops each)\n"
     ]
    }
   ],
   "source": [
    "%timeit FastTreeValue(_TREE_DATA_1)"
   ]
  },
  {
   "cell_type": "markdown",
   "id": "24f3707b",
   "metadata": {},
   "source": [
    "### Tianshou Batch's Initialization"
   ]
  },
  {
   "cell_type": "code",
   "execution_count": 15,
   "id": "ac3958df",
   "metadata": {
    "execution": {
     "iopub.execute_input": "2023-02-23T08:06:03.409900Z",
     "iopub.status.busy": "2023-02-23T08:06:03.409312Z",
     "iopub.status.idle": "2023-02-23T08:06:12.393630Z",
     "shell.execute_reply": "2023-02-23T08:06:12.392761Z"
    }
   },
   "outputs": [
    {
     "name": "stdout",
     "output_type": "stream",
     "text": [
      "11.1 µs ± 8.12 ns per loop (mean ± std. dev. of 7 runs, 100,000 loops each)\n"
     ]
    }
   ],
   "source": [
    "%timeit Batch(**_TREE_DATA_1)"
   ]
  },
  {
   "cell_type": "markdown",
   "id": "1ab82e2d",
   "metadata": {},
   "source": [
    "## Deep Copy Operation"
   ]
  },
  {
   "cell_type": "code",
   "execution_count": 16,
   "id": "210a9442",
   "metadata": {
    "execution": {
     "iopub.execute_input": "2023-02-23T08:06:12.397228Z",
     "iopub.status.busy": "2023-02-23T08:06:12.396630Z",
     "iopub.status.idle": "2023-02-23T08:06:12.400903Z",
     "shell.execute_reply": "2023-02-23T08:06:12.400281Z"
    }
   },
   "outputs": [],
   "source": [
    "import copy"
   ]
  },
  {
   "cell_type": "markdown",
   "id": "5a736274",
   "metadata": {},
   "source": [
    "### Deep Copy of TreeValue"
   ]
  },
  {
   "cell_type": "code",
   "execution_count": 17,
   "id": "f9bcadd6",
   "metadata": {
    "execution": {
     "iopub.execute_input": "2023-02-23T08:06:12.403849Z",
     "iopub.status.busy": "2023-02-23T08:06:12.403342Z",
     "iopub.status.idle": "2023-02-23T08:06:24.021422Z",
     "shell.execute_reply": "2023-02-23T08:06:24.020781Z"
    }
   },
   "outputs": [
    {
     "name": "stdout",
     "output_type": "stream",
     "text": [
      "143 µs ± 3.73 µs per loop (mean ± std. dev. of 7 runs, 10,000 loops each)\n"
     ]
    }
   ],
   "source": [
    "t3 = FastTreeValue(_TREE_DATA_3)\n",
    "%timeit copy.deepcopy(t3)"
   ]
  },
  {
   "cell_type": "markdown",
   "id": "bf8be7ea",
   "metadata": {},
   "source": [
    "### Deep Copy of Tianshou Batch"
   ]
  },
  {
   "cell_type": "code",
   "execution_count": 18,
   "id": "91998e6f",
   "metadata": {
    "execution": {
     "iopub.execute_input": "2023-02-23T08:06:24.024793Z",
     "iopub.status.busy": "2023-02-23T08:06:24.024110Z",
     "iopub.status.idle": "2023-02-23T08:06:35.557650Z",
     "shell.execute_reply": "2023-02-23T08:06:35.556802Z"
    }
   },
   "outputs": [
    {
     "name": "stdout",
     "output_type": "stream",
     "text": [
      "142 µs ± 293 ns per loop (mean ± std. dev. of 7 runs, 10,000 loops each)\n"
     ]
    }
   ],
   "source": [
    "b3 = Batch(**_TREE_DATA_3)\n",
    "%timeit copy.deepcopy(b3)"
   ]
  },
  {
   "cell_type": "markdown",
   "id": "223162fb",
   "metadata": {},
   "source": [
    "## Stack, Concat and Split Operation"
   ]
  },
  {
   "cell_type": "markdown",
   "id": "85fa4a73",
   "metadata": {},
   "source": [
    "### Performance of TreeValue"
   ]
  },
  {
   "cell_type": "code",
   "execution_count": 19,
   "id": "a0c2b697",
   "metadata": {
    "execution": {
     "iopub.execute_input": "2023-02-23T08:06:35.561391Z",
     "iopub.status.busy": "2023-02-23T08:06:35.560975Z",
     "iopub.status.idle": "2023-02-23T08:06:35.566385Z",
     "shell.execute_reply": "2023-02-23T08:06:35.565712Z"
    }
   },
   "outputs": [],
   "source": [
    "trees = [FastTreeValue(_TREE_DATA_2) for _ in range(8)]"
   ]
  },
  {
   "cell_type": "code",
   "execution_count": 20,
   "id": "017ea5a5",
   "metadata": {
    "execution": {
     "iopub.execute_input": "2023-02-23T08:06:35.569567Z",
     "iopub.status.busy": "2023-02-23T08:06:35.569049Z",
     "iopub.status.idle": "2023-02-23T08:06:35.577569Z",
     "shell.execute_reply": "2023-02-23T08:06:35.576954Z"
    }
   },
   "outputs": [
    {
     "data": {
      "text/plain": [
       "<FastTreeValue 0x7fc894e02f40>\n",
       "├── 'a' --> tensor([[[ 1.4557, -0.8750,  0.9974],\n",
       "│                    [-0.4267, -2.5494, -0.8116]],\n",
       "│           \n",
       "│                   [[ 1.4557, -0.8750,  0.9974],\n",
       "│                    [-0.4267, -2.5494, -0.8116]],\n",
       "│           \n",
       "│                   [[ 1.4557, -0.8750,  0.9974],\n",
       "│                    [-0.4267, -2.5494, -0.8116]],\n",
       "│           \n",
       "│                   [[ 1.4557, -0.8750,  0.9974],\n",
       "│                    [-0.4267, -2.5494, -0.8116]],\n",
       "│           \n",
       "│                   [[ 1.4557, -0.8750,  0.9974],\n",
       "│                    [-0.4267, -2.5494, -0.8116]],\n",
       "│           \n",
       "│                   [[ 1.4557, -0.8750,  0.9974],\n",
       "│                    [-0.4267, -2.5494, -0.8116]],\n",
       "│           \n",
       "│                   [[ 1.4557, -0.8750,  0.9974],\n",
       "│                    [-0.4267, -2.5494, -0.8116]],\n",
       "│           \n",
       "│                   [[ 1.4557, -0.8750,  0.9974],\n",
       "│                    [-0.4267, -2.5494, -0.8116]]])\n",
       "└── 'x' --> <FastTreeValue 0x7fc894edd3d0>\n",
       "    └── 'c' --> tensor([[[ 1.5550,  1.7717,  0.8875, -0.2871],\n",
       "                         [-0.0854, -0.6550,  0.6069, -0.3160],\n",
       "                         [-0.1392,  1.0513,  1.9036, -1.3792]],\n",
       "                \n",
       "                        [[ 1.5550,  1.7717,  0.8875, -0.2871],\n",
       "                         [-0.0854, -0.6550,  0.6069, -0.3160],\n",
       "                         [-0.1392,  1.0513,  1.9036, -1.3792]],\n",
       "                \n",
       "                        [[ 1.5550,  1.7717,  0.8875, -0.2871],\n",
       "                         [-0.0854, -0.6550,  0.6069, -0.3160],\n",
       "                         [-0.1392,  1.0513,  1.9036, -1.3792]],\n",
       "                \n",
       "                        [[ 1.5550,  1.7717,  0.8875, -0.2871],\n",
       "                         [-0.0854, -0.6550,  0.6069, -0.3160],\n",
       "                         [-0.1392,  1.0513,  1.9036, -1.3792]],\n",
       "                \n",
       "                        [[ 1.5550,  1.7717,  0.8875, -0.2871],\n",
       "                         [-0.0854, -0.6550,  0.6069, -0.3160],\n",
       "                         [-0.1392,  1.0513,  1.9036, -1.3792]],\n",
       "                \n",
       "                        [[ 1.5550,  1.7717,  0.8875, -0.2871],\n",
       "                         [-0.0854, -0.6550,  0.6069, -0.3160],\n",
       "                         [-0.1392,  1.0513,  1.9036, -1.3792]],\n",
       "                \n",
       "                        [[ 1.5550,  1.7717,  0.8875, -0.2871],\n",
       "                         [-0.0854, -0.6550,  0.6069, -0.3160],\n",
       "                         [-0.1392,  1.0513,  1.9036, -1.3792]],\n",
       "                \n",
       "                        [[ 1.5550,  1.7717,  0.8875, -0.2871],\n",
       "                         [-0.0854, -0.6550,  0.6069, -0.3160],\n",
       "                         [-0.1392,  1.0513,  1.9036, -1.3792]]])"
      ]
     },
     "execution_count": 20,
     "metadata": {},
     "output_type": "execute_result"
    }
   ],
   "source": [
    "t_stack = FastTreeValue.func(subside=True)(torch.stack)\n",
    "\n",
    "t_stack(trees)"
   ]
  },
  {
   "cell_type": "code",
   "execution_count": 21,
   "id": "f8b3f415",
   "metadata": {
    "execution": {
     "iopub.execute_input": "2023-02-23T08:06:35.580575Z",
     "iopub.status.busy": "2023-02-23T08:06:35.580149Z",
     "iopub.status.idle": "2023-02-23T08:06:38.118002Z",
     "shell.execute_reply": "2023-02-23T08:06:38.116964Z"
    }
   },
   "outputs": [
    {
     "name": "stdout",
     "output_type": "stream",
     "text": [
      "31.2 µs ± 36.7 ns per loop (mean ± std. dev. of 7 runs, 10,000 loops each)\n"
     ]
    }
   ],
   "source": [
    "%timeit t_stack(trees)"
   ]
  },
  {
   "cell_type": "code",
   "execution_count": 22,
   "id": "94b56771",
   "metadata": {
    "execution": {
     "iopub.execute_input": "2023-02-23T08:06:38.121528Z",
     "iopub.status.busy": "2023-02-23T08:06:38.120903Z",
     "iopub.status.idle": "2023-02-23T08:06:38.129932Z",
     "shell.execute_reply": "2023-02-23T08:06:38.129260Z"
    }
   },
   "outputs": [
    {
     "data": {
      "text/plain": [
       "<FastTreeValue 0x7fc894de8160>\n",
       "├── 'a' --> tensor([[ 1.4557, -0.8750,  0.9974],\n",
       "│                   [-0.4267, -2.5494, -0.8116],\n",
       "│                   [ 1.4557, -0.8750,  0.9974],\n",
       "│                   [-0.4267, -2.5494, -0.8116],\n",
       "│                   [ 1.4557, -0.8750,  0.9974],\n",
       "│                   [-0.4267, -2.5494, -0.8116],\n",
       "│                   [ 1.4557, -0.8750,  0.9974],\n",
       "│                   [-0.4267, -2.5494, -0.8116],\n",
       "│                   [ 1.4557, -0.8750,  0.9974],\n",
       "│                   [-0.4267, -2.5494, -0.8116],\n",
       "│                   [ 1.4557, -0.8750,  0.9974],\n",
       "│                   [-0.4267, -2.5494, -0.8116],\n",
       "│                   [ 1.4557, -0.8750,  0.9974],\n",
       "│                   [-0.4267, -2.5494, -0.8116],\n",
       "│                   [ 1.4557, -0.8750,  0.9974],\n",
       "│                   [-0.4267, -2.5494, -0.8116]])\n",
       "└── 'x' --> <FastTreeValue 0x7fc89ba63370>\n",
       "    └── 'c' --> tensor([[ 1.5550,  1.7717,  0.8875, -0.2871],\n",
       "                        [-0.0854, -0.6550,  0.6069, -0.3160],\n",
       "                        [-0.1392,  1.0513,  1.9036, -1.3792],\n",
       "                        [ 1.5550,  1.7717,  0.8875, -0.2871],\n",
       "                        [-0.0854, -0.6550,  0.6069, -0.3160],\n",
       "                        [-0.1392,  1.0513,  1.9036, -1.3792],\n",
       "                        [ 1.5550,  1.7717,  0.8875, -0.2871],\n",
       "                        [-0.0854, -0.6550,  0.6069, -0.3160],\n",
       "                        [-0.1392,  1.0513,  1.9036, -1.3792],\n",
       "                        [ 1.5550,  1.7717,  0.8875, -0.2871],\n",
       "                        [-0.0854, -0.6550,  0.6069, -0.3160],\n",
       "                        [-0.1392,  1.0513,  1.9036, -1.3792],\n",
       "                        [ 1.5550,  1.7717,  0.8875, -0.2871],\n",
       "                        [-0.0854, -0.6550,  0.6069, -0.3160],\n",
       "                        [-0.1392,  1.0513,  1.9036, -1.3792],\n",
       "                        [ 1.5550,  1.7717,  0.8875, -0.2871],\n",
       "                        [-0.0854, -0.6550,  0.6069, -0.3160],\n",
       "                        [-0.1392,  1.0513,  1.9036, -1.3792],\n",
       "                        [ 1.5550,  1.7717,  0.8875, -0.2871],\n",
       "                        [-0.0854, -0.6550,  0.6069, -0.3160],\n",
       "                        [-0.1392,  1.0513,  1.9036, -1.3792],\n",
       "                        [ 1.5550,  1.7717,  0.8875, -0.2871],\n",
       "                        [-0.0854, -0.6550,  0.6069, -0.3160],\n",
       "                        [-0.1392,  1.0513,  1.9036, -1.3792]])"
      ]
     },
     "execution_count": 22,
     "metadata": {},
     "output_type": "execute_result"
    }
   ],
   "source": [
    "t_cat = FastTreeValue.func(subside=True)(torch.cat)\n",
    "\n",
    "t_cat(trees)"
   ]
  },
  {
   "cell_type": "code",
   "execution_count": 23,
   "id": "5e9c06a6",
   "metadata": {
    "execution": {
     "iopub.execute_input": "2023-02-23T08:06:38.133362Z",
     "iopub.status.busy": "2023-02-23T08:06:38.132868Z",
     "iopub.status.idle": "2023-02-23T08:06:40.535127Z",
     "shell.execute_reply": "2023-02-23T08:06:40.534242Z"
    }
   },
   "outputs": [
    {
     "name": "stdout",
     "output_type": "stream",
     "text": [
      "29.5 µs ± 23.5 ns per loop (mean ± std. dev. of 7 runs, 10,000 loops each)\n"
     ]
    }
   ],
   "source": [
    "%timeit t_cat(trees)"
   ]
  },
  {
   "cell_type": "code",
   "execution_count": 24,
   "id": "a3ab5c8f",
   "metadata": {
    "execution": {
     "iopub.execute_input": "2023-02-23T08:06:40.538651Z",
     "iopub.status.busy": "2023-02-23T08:06:40.538266Z",
     "iopub.status.idle": "2023-02-23T08:06:45.047146Z",
     "shell.execute_reply": "2023-02-23T08:06:45.046194Z"
    }
   },
   "outputs": [
    {
     "name": "stdout",
     "output_type": "stream",
     "text": [
      "55.3 µs ± 79.7 ns per loop (mean ± std. dev. of 7 runs, 10,000 loops each)\n"
     ]
    }
   ],
   "source": [
    "t_split = FastTreeValue.func(rise=True)(torch.split)\n",
    "tree = FastTreeValue({\n",
    "    'obs': torch.randn(8, 4, 84, 84),\n",
    "    'action': torch.randint(0, 6, size=(8, 1,)),\n",
    "    'reward': torch.rand(8, 1),\n",
    "})\n",
    "\n",
    "%timeit t_split(tree, 1)"
   ]
  },
  {
   "cell_type": "markdown",
   "id": "31c3ec0b",
   "metadata": {},
   "source": [
    "### Performance of Tianshou Batch"
   ]
  },
  {
   "cell_type": "code",
   "execution_count": 25,
   "id": "9ead828a",
   "metadata": {
    "execution": {
     "iopub.execute_input": "2023-02-23T08:06:45.050952Z",
     "iopub.status.busy": "2023-02-23T08:06:45.050329Z",
     "iopub.status.idle": "2023-02-23T08:06:45.058926Z",
     "shell.execute_reply": "2023-02-23T08:06:45.058275Z"
    }
   },
   "outputs": [
    {
     "data": {
      "text/plain": [
       "Batch(\n",
       "    x: Batch(\n",
       "           c: tensor([[[ 1.5550,  1.7717,  0.8875, -0.2871],\n",
       "                       [-0.0854, -0.6550,  0.6069, -0.3160],\n",
       "                       [-0.1392,  1.0513,  1.9036, -1.3792]],\n",
       "              \n",
       "                      [[ 1.5550,  1.7717,  0.8875, -0.2871],\n",
       "                       [-0.0854, -0.6550,  0.6069, -0.3160],\n",
       "                       [-0.1392,  1.0513,  1.9036, -1.3792]],\n",
       "              \n",
       "                      [[ 1.5550,  1.7717,  0.8875, -0.2871],\n",
       "                       [-0.0854, -0.6550,  0.6069, -0.3160],\n",
       "                       [-0.1392,  1.0513,  1.9036, -1.3792]],\n",
       "              \n",
       "                      [[ 1.5550,  1.7717,  0.8875, -0.2871],\n",
       "                       [-0.0854, -0.6550,  0.6069, -0.3160],\n",
       "                       [-0.1392,  1.0513,  1.9036, -1.3792]],\n",
       "              \n",
       "                      [[ 1.5550,  1.7717,  0.8875, -0.2871],\n",
       "                       [-0.0854, -0.6550,  0.6069, -0.3160],\n",
       "                       [-0.1392,  1.0513,  1.9036, -1.3792]],\n",
       "              \n",
       "                      [[ 1.5550,  1.7717,  0.8875, -0.2871],\n",
       "                       [-0.0854, -0.6550,  0.6069, -0.3160],\n",
       "                       [-0.1392,  1.0513,  1.9036, -1.3792]],\n",
       "              \n",
       "                      [[ 1.5550,  1.7717,  0.8875, -0.2871],\n",
       "                       [-0.0854, -0.6550,  0.6069, -0.3160],\n",
       "                       [-0.1392,  1.0513,  1.9036, -1.3792]],\n",
       "              \n",
       "                      [[ 1.5550,  1.7717,  0.8875, -0.2871],\n",
       "                       [-0.0854, -0.6550,  0.6069, -0.3160],\n",
       "                       [-0.1392,  1.0513,  1.9036, -1.3792]]]),\n",
       "       ),\n",
       "    a: tensor([[[ 1.4557, -0.8750,  0.9974],\n",
       "                [-0.4267, -2.5494, -0.8116]],\n",
       "       \n",
       "               [[ 1.4557, -0.8750,  0.9974],\n",
       "                [-0.4267, -2.5494, -0.8116]],\n",
       "       \n",
       "               [[ 1.4557, -0.8750,  0.9974],\n",
       "                [-0.4267, -2.5494, -0.8116]],\n",
       "       \n",
       "               [[ 1.4557, -0.8750,  0.9974],\n",
       "                [-0.4267, -2.5494, -0.8116]],\n",
       "       \n",
       "               [[ 1.4557, -0.8750,  0.9974],\n",
       "                [-0.4267, -2.5494, -0.8116]],\n",
       "       \n",
       "               [[ 1.4557, -0.8750,  0.9974],\n",
       "                [-0.4267, -2.5494, -0.8116]],\n",
       "       \n",
       "               [[ 1.4557, -0.8750,  0.9974],\n",
       "                [-0.4267, -2.5494, -0.8116]],\n",
       "       \n",
       "               [[ 1.4557, -0.8750,  0.9974],\n",
       "                [-0.4267, -2.5494, -0.8116]]]),\n",
       ")"
      ]
     },
     "execution_count": 25,
     "metadata": {},
     "output_type": "execute_result"
    }
   ],
   "source": [
    "batches = [Batch(**_TREE_DATA_2) for _ in range(8)]\n",
    "\n",
    "Batch.stack(batches)"
   ]
  },
  {
   "cell_type": "code",
   "execution_count": 26,
   "id": "ec9037a3",
   "metadata": {
    "execution": {
     "iopub.execute_input": "2023-02-23T08:06:45.062175Z",
     "iopub.status.busy": "2023-02-23T08:06:45.061609Z",
     "iopub.status.idle": "2023-02-23T08:06:51.394256Z",
     "shell.execute_reply": "2023-02-23T08:06:51.393405Z"
    }
   },
   "outputs": [
    {
     "name": "stdout",
     "output_type": "stream",
     "text": [
      "78 µs ± 141 ns per loop (mean ± std. dev. of 7 runs, 10,000 loops each)\n"
     ]
    }
   ],
   "source": [
    "%timeit Batch.stack(batches)"
   ]
  },
  {
   "cell_type": "code",
   "execution_count": 27,
   "id": "cb8ab77e",
   "metadata": {
    "execution": {
     "iopub.execute_input": "2023-02-23T08:06:51.398498Z",
     "iopub.status.busy": "2023-02-23T08:06:51.397830Z",
     "iopub.status.idle": "2023-02-23T08:06:51.407975Z",
     "shell.execute_reply": "2023-02-23T08:06:51.407310Z"
    }
   },
   "outputs": [
    {
     "data": {
      "text/plain": [
       "Batch(\n",
       "    x: Batch(\n",
       "           c: tensor([[ 1.5550,  1.7717,  0.8875, -0.2871],\n",
       "                      [-0.0854, -0.6550,  0.6069, -0.3160],\n",
       "                      [-0.1392,  1.0513,  1.9036, -1.3792],\n",
       "                      [ 1.5550,  1.7717,  0.8875, -0.2871],\n",
       "                      [-0.0854, -0.6550,  0.6069, -0.3160],\n",
       "                      [-0.1392,  1.0513,  1.9036, -1.3792],\n",
       "                      [ 1.5550,  1.7717,  0.8875, -0.2871],\n",
       "                      [-0.0854, -0.6550,  0.6069, -0.3160],\n",
       "                      [-0.1392,  1.0513,  1.9036, -1.3792],\n",
       "                      [ 1.5550,  1.7717,  0.8875, -0.2871],\n",
       "                      [-0.0854, -0.6550,  0.6069, -0.3160],\n",
       "                      [-0.1392,  1.0513,  1.9036, -1.3792],\n",
       "                      [ 1.5550,  1.7717,  0.8875, -0.2871],\n",
       "                      [-0.0854, -0.6550,  0.6069, -0.3160],\n",
       "                      [-0.1392,  1.0513,  1.9036, -1.3792],\n",
       "                      [ 1.5550,  1.7717,  0.8875, -0.2871],\n",
       "                      [-0.0854, -0.6550,  0.6069, -0.3160],\n",
       "                      [-0.1392,  1.0513,  1.9036, -1.3792],\n",
       "                      [ 1.5550,  1.7717,  0.8875, -0.2871],\n",
       "                      [-0.0854, -0.6550,  0.6069, -0.3160],\n",
       "                      [-0.1392,  1.0513,  1.9036, -1.3792],\n",
       "                      [ 1.5550,  1.7717,  0.8875, -0.2871],\n",
       "                      [-0.0854, -0.6550,  0.6069, -0.3160],\n",
       "                      [-0.1392,  1.0513,  1.9036, -1.3792]]),\n",
       "       ),\n",
       "    a: tensor([[ 1.4557, -0.8750,  0.9974],\n",
       "               [-0.4267, -2.5494, -0.8116],\n",
       "               [ 1.4557, -0.8750,  0.9974],\n",
       "               [-0.4267, -2.5494, -0.8116],\n",
       "               [ 1.4557, -0.8750,  0.9974],\n",
       "               [-0.4267, -2.5494, -0.8116],\n",
       "               [ 1.4557, -0.8750,  0.9974],\n",
       "               [-0.4267, -2.5494, -0.8116],\n",
       "               [ 1.4557, -0.8750,  0.9974],\n",
       "               [-0.4267, -2.5494, -0.8116],\n",
       "               [ 1.4557, -0.8750,  0.9974],\n",
       "               [-0.4267, -2.5494, -0.8116],\n",
       "               [ 1.4557, -0.8750,  0.9974],\n",
       "               [-0.4267, -2.5494, -0.8116],\n",
       "               [ 1.4557, -0.8750,  0.9974],\n",
       "               [-0.4267, -2.5494, -0.8116]]),\n",
       ")"
      ]
     },
     "execution_count": 27,
     "metadata": {},
     "output_type": "execute_result"
    }
   ],
   "source": [
    "Batch.cat(batches)"
   ]
  },
  {
   "cell_type": "code",
   "execution_count": 28,
   "id": "18dfb045",
   "metadata": {
    "execution": {
     "iopub.execute_input": "2023-02-23T08:06:51.411101Z",
     "iopub.status.busy": "2023-02-23T08:06:51.410721Z",
     "iopub.status.idle": "2023-02-23T08:07:03.075775Z",
     "shell.execute_reply": "2023-02-23T08:07:03.074874Z"
    }
   },
   "outputs": [
    {
     "name": "stdout",
     "output_type": "stream",
     "text": [
      "144 µs ± 201 ns per loop (mean ± std. dev. of 7 runs, 10,000 loops each)\n"
     ]
    }
   ],
   "source": [
    "%timeit Batch.cat(batches)"
   ]
  },
  {
   "cell_type": "code",
   "execution_count": 29,
   "id": "c6688e51",
   "metadata": {
    "execution": {
     "iopub.execute_input": "2023-02-23T08:07:03.079512Z",
     "iopub.status.busy": "2023-02-23T08:07:03.078881Z",
     "iopub.status.idle": "2023-02-23T08:07:05.819801Z",
     "shell.execute_reply": "2023-02-23T08:07:05.818965Z"
    }
   },
   "outputs": [
    {
     "name": "stdout",
     "output_type": "stream",
     "text": [
      "337 µs ± 3.21 µs per loop (mean ± std. dev. of 7 runs, 1,000 loops each)\n"
     ]
    }
   ],
   "source": [
    "batch = Batch({\n",
    "    'obs': torch.randn(8, 4, 84, 84),\n",
    "    'action': torch.randint(0, 6, size=(8, 1,)),\n",
    "    'reward': torch.rand(8, 1)}\n",
    ")\n",
    "\n",
    "%timeit list(Batch.split(batch, 1, shuffle=False, merge_last=True))"
   ]
  },
  {
   "cell_type": "code",
   "execution_count": null,
   "id": "2539fbd9",
   "metadata": {},
   "outputs": [],
   "source": []
  }
 ],
 "metadata": {
  "kernelspec": {
   "display_name": "Python 3 (ipykernel)",
   "language": "python",
   "name": "python3"
  },
  "language_info": {
   "codemirror_mode": {
    "name": "ipython",
    "version": 3
   },
   "file_extension": ".py",
   "mimetype": "text/x-python",
   "name": "python",
   "nbconvert_exporter": "python",
   "pygments_lexer": "ipython3",
   "version": "3.8.16"
  }
 },
 "nbformat": 4,
 "nbformat_minor": 5
}
