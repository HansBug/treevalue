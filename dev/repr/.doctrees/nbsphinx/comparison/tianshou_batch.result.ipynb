{
 "cells": [
  {
   "cell_type": "markdown",
   "id": "9d39d946",
   "metadata": {},
   "source": [
    "# Comparison Between TreeValue and Tianshou Batch"
   ]
  },
  {
   "cell_type": "markdown",
   "id": "3c6db2d4",
   "metadata": {},
   "source": [
    "In this section, we will take a look at the feature and performance of the [Tianshou Batch](https://github.com/thu-ml/tianshou) library, which is developed by Tsinghua Machine Learning Group."
   ]
  },
  {
   "cell_type": "markdown",
   "id": "069361b0",
   "metadata": {},
   "source": [
    "Before starting the comparison, let us define some thing."
   ]
  },
  {
   "cell_type": "code",
   "execution_count": 1,
   "id": "06fc8d26",
   "metadata": {
    "execution": {
     "iopub.execute_input": "2023-02-23T07:58:16.968657Z",
     "iopub.status.busy": "2023-02-23T07:58:16.968206Z",
     "iopub.status.idle": "2023-02-23T07:58:18.141322Z",
     "shell.execute_reply": "2023-02-23T07:58:18.140425Z"
    }
   },
   "outputs": [
    {
     "name": "stderr",
     "output_type": "stream",
     "text": [
      "/opt/hostedtoolcache/Python/3.8.16/x64/lib/python3.8/site-packages/tqdm/auto.py:22: TqdmWarning: IProgress not found. Please update jupyter and ipywidgets. See https://ipywidgets.readthedocs.io/en/stable/user_install.html\n",
      "  from .autonotebook import tqdm as notebook_tqdm\n"
     ]
    }
   ],
   "source": [
    "import torch \n",
    "\n",
    "_TREE_DATA_1 = {'a': 1, 'b': 2, 'x': {'c': 3, 'd': 4}}\n",
    "_TREE_DATA_2 = {\n",
    "    'a': torch.randn(2, 3), \n",
    "    'x': {\n",
    "        'c': torch.randn(3, 4)\n",
    "    },\n",
    "}\n",
    "_TREE_DATA_3 = {\n",
    "    'obs': torch.randn(4, 84, 84),\n",
    "    'action': torch.randint(0, 6, size=(1,)),\n",
    "    'reward': torch.rand(1),\n",
    "}"
   ]
  },
  {
   "cell_type": "markdown",
   "id": "83461b25",
   "metadata": {},
   "source": [
    "## Read and Write Operation"
   ]
  },
  {
   "cell_type": "markdown",
   "id": "067b3f73",
   "metadata": {},
   "source": [
    "Reading and writing are the two most common operations in the tree data structure based on the data model (TreeValue and Tianshou Batch both belong to this type), so this section will compare the reading and writing performance of these two libraries."
   ]
  },
  {
   "cell_type": "markdown",
   "id": "5d09a5b7",
   "metadata": {},
   "source": [
    "### TreeValue's Get and Set"
   ]
  },
  {
   "cell_type": "code",
   "execution_count": 2,
   "id": "9519c4bb",
   "metadata": {
    "execution": {
     "iopub.execute_input": "2023-02-23T07:58:18.145690Z",
     "iopub.status.busy": "2023-02-23T07:58:18.145333Z",
     "iopub.status.idle": "2023-02-23T07:58:18.186569Z",
     "shell.execute_reply": "2023-02-23T07:58:18.185561Z"
    }
   },
   "outputs": [],
   "source": [
    "from treevalue import FastTreeValue\n",
    "\n",
    "t = FastTreeValue(_TREE_DATA_2)"
   ]
  },
  {
   "cell_type": "code",
   "execution_count": 3,
   "id": "11c37677",
   "metadata": {
    "execution": {
     "iopub.execute_input": "2023-02-23T07:58:18.190164Z",
     "iopub.status.busy": "2023-02-23T07:58:18.189850Z",
     "iopub.status.idle": "2023-02-23T07:58:18.202430Z",
     "shell.execute_reply": "2023-02-23T07:58:18.201696Z"
    }
   },
   "outputs": [
    {
     "data": {
      "text/plain": [
       "<FastTreeValue 0x7f2adcace4f0>\n",
       "├── 'a' --> tensor([[ 1.7414,  0.4205, -1.4305],\n",
       "│                   [-0.2482, -0.1569,  0.0875]])\n",
       "└── 'x' --> <FastTreeValue 0x7f2adcace070>\n",
       "    └── 'c' --> tensor([[ 0.8068, -0.8125,  0.1606,  0.9079],\n",
       "                        [-0.5254, -1.5859, -0.7631, -1.6879],\n",
       "                        [ 0.7782, -0.6509,  1.1106,  1.2761]])"
      ]
     },
     "execution_count": 3,
     "metadata": {},
     "output_type": "execute_result"
    }
   ],
   "source": [
    "t"
   ]
  },
  {
   "cell_type": "code",
   "execution_count": 4,
   "id": "fd70b0b9",
   "metadata": {
    "execution": {
     "iopub.execute_input": "2023-02-23T07:58:18.206023Z",
     "iopub.status.busy": "2023-02-23T07:58:18.205441Z",
     "iopub.status.idle": "2023-02-23T07:58:18.212531Z",
     "shell.execute_reply": "2023-02-23T07:58:18.211842Z"
    }
   },
   "outputs": [
    {
     "data": {
      "text/plain": [
       "tensor([[ 1.7414,  0.4205, -1.4305],\n",
       "        [-0.2482, -0.1569,  0.0875]])"
      ]
     },
     "execution_count": 4,
     "metadata": {},
     "output_type": "execute_result"
    }
   ],
   "source": [
    "t.a"
   ]
  },
  {
   "cell_type": "code",
   "execution_count": 5,
   "id": "c18197bd",
   "metadata": {
    "execution": {
     "iopub.execute_input": "2023-02-23T07:58:18.216079Z",
     "iopub.status.busy": "2023-02-23T07:58:18.215382Z",
     "iopub.status.idle": "2023-02-23T07:58:24.438892Z",
     "shell.execute_reply": "2023-02-23T07:58:24.437877Z"
    }
   },
   "outputs": [
    {
     "name": "stdout",
     "output_type": "stream",
     "text": [
      "76.6 ns ± 0.195 ns per loop (mean ± std. dev. of 7 runs, 10,000,000 loops each)\n"
     ]
    }
   ],
   "source": [
    "%timeit t.a"
   ]
  },
  {
   "cell_type": "code",
   "execution_count": 6,
   "id": "bd52f867",
   "metadata": {
    "execution": {
     "iopub.execute_input": "2023-02-23T07:58:24.442979Z",
     "iopub.status.busy": "2023-02-23T07:58:24.442494Z",
     "iopub.status.idle": "2023-02-23T07:58:24.449858Z",
     "shell.execute_reply": "2023-02-23T07:58:24.449055Z"
    }
   },
   "outputs": [
    {
     "data": {
      "text/plain": [
       "<FastTreeValue 0x7f2adcace4f0>\n",
       "├── 'a' --> tensor([[-1.7038,  0.3012, -0.5718],\n",
       "│                   [-1.0749,  0.0925, -0.2006]])\n",
       "└── 'x' --> <FastTreeValue 0x7f2adcace070>\n",
       "    └── 'c' --> tensor([[ 0.8068, -0.8125,  0.1606,  0.9079],\n",
       "                        [-0.5254, -1.5859, -0.7631, -1.6879],\n",
       "                        [ 0.7782, -0.6509,  1.1106,  1.2761]])"
      ]
     },
     "execution_count": 6,
     "metadata": {},
     "output_type": "execute_result"
    }
   ],
   "source": [
    "new_value = torch.randn(2, 3)\n",
    "t.a = new_value\n",
    "\n",
    "t"
   ]
  },
  {
   "cell_type": "code",
   "execution_count": 7,
   "id": "bbe04d1c",
   "metadata": {
    "execution": {
     "iopub.execute_input": "2023-02-23T07:58:24.453183Z",
     "iopub.status.busy": "2023-02-23T07:58:24.452556Z",
     "iopub.status.idle": "2023-02-23T07:58:31.012296Z",
     "shell.execute_reply": "2023-02-23T07:58:31.011256Z"
    }
   },
   "outputs": [
    {
     "name": "stdout",
     "output_type": "stream",
     "text": [
      "80.8 ns ± 0.147 ns per loop (mean ± std. dev. of 7 runs, 10,000,000 loops each)\n"
     ]
    }
   ],
   "source": [
    "%timeit t.a = new_value"
   ]
  },
  {
   "cell_type": "markdown",
   "id": "48c49731",
   "metadata": {},
   "source": [
    "### Tianshou Batch's Get and Set"
   ]
  },
  {
   "cell_type": "code",
   "execution_count": 8,
   "id": "f1bb14c1",
   "metadata": {
    "execution": {
     "iopub.execute_input": "2023-02-23T07:58:31.016687Z",
     "iopub.status.busy": "2023-02-23T07:58:31.016133Z",
     "iopub.status.idle": "2023-02-23T07:58:31.425821Z",
     "shell.execute_reply": "2023-02-23T07:58:31.424721Z"
    }
   },
   "outputs": [],
   "source": [
    "from tianshou.data import Batch\n",
    "\n",
    "b = Batch(**_TREE_DATA_2)"
   ]
  },
  {
   "cell_type": "code",
   "execution_count": 9,
   "id": "cb0777c3",
   "metadata": {
    "execution": {
     "iopub.execute_input": "2023-02-23T07:58:31.430283Z",
     "iopub.status.busy": "2023-02-23T07:58:31.429658Z",
     "iopub.status.idle": "2023-02-23T07:58:31.437533Z",
     "shell.execute_reply": "2023-02-23T07:58:31.436819Z"
    }
   },
   "outputs": [
    {
     "data": {
      "text/plain": [
       "Batch(\n",
       "    a: tensor([[ 1.7414,  0.4205, -1.4305],\n",
       "               [-0.2482, -0.1569,  0.0875]]),\n",
       "    x: Batch(\n",
       "           c: tensor([[ 0.8068, -0.8125,  0.1606,  0.9079],\n",
       "                      [-0.5254, -1.5859, -0.7631, -1.6879],\n",
       "                      [ 0.7782, -0.6509,  1.1106,  1.2761]]),\n",
       "       ),\n",
       ")"
      ]
     },
     "execution_count": 9,
     "metadata": {},
     "output_type": "execute_result"
    }
   ],
   "source": [
    "b"
   ]
  },
  {
   "cell_type": "code",
   "execution_count": 10,
   "id": "43ef8ea3",
   "metadata": {
    "execution": {
     "iopub.execute_input": "2023-02-23T07:58:31.440700Z",
     "iopub.status.busy": "2023-02-23T07:58:31.440300Z",
     "iopub.status.idle": "2023-02-23T07:58:31.446106Z",
     "shell.execute_reply": "2023-02-23T07:58:31.445282Z"
    }
   },
   "outputs": [
    {
     "data": {
      "text/plain": [
       "tensor([[ 1.7414,  0.4205, -1.4305],\n",
       "        [-0.2482, -0.1569,  0.0875]])"
      ]
     },
     "execution_count": 10,
     "metadata": {},
     "output_type": "execute_result"
    }
   ],
   "source": [
    "b.a"
   ]
  },
  {
   "cell_type": "code",
   "execution_count": 11,
   "id": "b785ab72",
   "metadata": {
    "execution": {
     "iopub.execute_input": "2023-02-23T07:58:31.449317Z",
     "iopub.status.busy": "2023-02-23T07:58:31.448894Z",
     "iopub.status.idle": "2023-02-23T07:58:37.218851Z",
     "shell.execute_reply": "2023-02-23T07:58:37.217403Z"
    }
   },
   "outputs": [
    {
     "name": "stdout",
     "output_type": "stream",
     "text": [
      "70.9 ns ± 0.0712 ns per loop (mean ± std. dev. of 7 runs, 10,000,000 loops each)\n"
     ]
    }
   ],
   "source": [
    "%timeit b.a"
   ]
  },
  {
   "cell_type": "code",
   "execution_count": 12,
   "id": "ad54dc69",
   "metadata": {
    "execution": {
     "iopub.execute_input": "2023-02-23T07:58:37.223128Z",
     "iopub.status.busy": "2023-02-23T07:58:37.222438Z",
     "iopub.status.idle": "2023-02-23T07:58:37.230269Z",
     "shell.execute_reply": "2023-02-23T07:58:37.229509Z"
    }
   },
   "outputs": [
    {
     "data": {
      "text/plain": [
       "Batch(\n",
       "    a: tensor([[ 0.0939, -0.5881, -1.6384],\n",
       "               [-0.3145,  1.0813, -0.1367]]),\n",
       "    x: Batch(\n",
       "           c: tensor([[ 0.8068, -0.8125,  0.1606,  0.9079],\n",
       "                      [-0.5254, -1.5859, -0.7631, -1.6879],\n",
       "                      [ 0.7782, -0.6509,  1.1106,  1.2761]]),\n",
       "       ),\n",
       ")"
      ]
     },
     "execution_count": 12,
     "metadata": {},
     "output_type": "execute_result"
    }
   ],
   "source": [
    "new_value = torch.randn(2, 3)\n",
    "b.a = new_value\n",
    "\n",
    "b"
   ]
  },
  {
   "cell_type": "code",
   "execution_count": 13,
   "id": "29b1d0bf",
   "metadata": {
    "execution": {
     "iopub.execute_input": "2023-02-23T07:58:37.233465Z",
     "iopub.status.busy": "2023-02-23T07:58:37.233021Z",
     "iopub.status.idle": "2023-02-23T07:58:42.041860Z",
     "shell.execute_reply": "2023-02-23T07:58:42.040651Z"
    }
   },
   "outputs": [
    {
     "name": "stdout",
     "output_type": "stream",
     "text": [
      "591 ns ± 0.808 ns per loop (mean ± std. dev. of 7 runs, 1,000,000 loops each)\n"
     ]
    }
   ],
   "source": [
    "%timeit b.a = new_value"
   ]
  },
  {
   "cell_type": "markdown",
   "id": "b61ad1d0",
   "metadata": {},
   "source": [
    "## Initialization"
   ]
  },
  {
   "cell_type": "markdown",
   "id": "d70f0d54",
   "metadata": {},
   "source": [
    "### TreeValue's Initialization"
   ]
  },
  {
   "cell_type": "code",
   "execution_count": 14,
   "id": "d32a679b",
   "metadata": {
    "execution": {
     "iopub.execute_input": "2023-02-23T07:58:42.045979Z",
     "iopub.status.busy": "2023-02-23T07:58:42.045395Z",
     "iopub.status.idle": "2023-02-23T07:58:49.968950Z",
     "shell.execute_reply": "2023-02-23T07:58:49.967697Z"
    }
   },
   "outputs": [
    {
     "name": "stdout",
     "output_type": "stream",
     "text": [
      "976 ns ± 2.77 ns per loop (mean ± std. dev. of 7 runs, 1,000,000 loops each)\n"
     ]
    }
   ],
   "source": [
    "%timeit FastTreeValue(_TREE_DATA_1)"
   ]
  },
  {
   "cell_type": "markdown",
   "id": "24f3707b",
   "metadata": {},
   "source": [
    "### Tianshou Batch's Initialization"
   ]
  },
  {
   "cell_type": "code",
   "execution_count": 15,
   "id": "ac3958df",
   "metadata": {
    "execution": {
     "iopub.execute_input": "2023-02-23T07:58:49.973140Z",
     "iopub.status.busy": "2023-02-23T07:58:49.972677Z",
     "iopub.status.idle": "2023-02-23T07:59:00.090622Z",
     "shell.execute_reply": "2023-02-23T07:59:00.089357Z"
    }
   },
   "outputs": [
    {
     "name": "stdout",
     "output_type": "stream",
     "text": [
      "12.4 µs ± 37.7 ns per loop (mean ± std. dev. of 7 runs, 100,000 loops each)\n"
     ]
    }
   ],
   "source": [
    "%timeit Batch(**_TREE_DATA_1)"
   ]
  },
  {
   "cell_type": "markdown",
   "id": "1ab82e2d",
   "metadata": {},
   "source": [
    "## Deep Copy Operation"
   ]
  },
  {
   "cell_type": "code",
   "execution_count": 16,
   "id": "210a9442",
   "metadata": {
    "execution": {
     "iopub.execute_input": "2023-02-23T07:59:00.094477Z",
     "iopub.status.busy": "2023-02-23T07:59:00.094164Z",
     "iopub.status.idle": "2023-02-23T07:59:00.098779Z",
     "shell.execute_reply": "2023-02-23T07:59:00.098046Z"
    }
   },
   "outputs": [],
   "source": [
    "import copy"
   ]
  },
  {
   "cell_type": "markdown",
   "id": "5a736274",
   "metadata": {},
   "source": [
    "### Deep Copy of TreeValue"
   ]
  },
  {
   "cell_type": "code",
   "execution_count": 17,
   "id": "f9bcadd6",
   "metadata": {
    "execution": {
     "iopub.execute_input": "2023-02-23T07:59:00.102017Z",
     "iopub.status.busy": "2023-02-23T07:59:00.101747Z",
     "iopub.status.idle": "2023-02-23T07:59:13.711468Z",
     "shell.execute_reply": "2023-02-23T07:59:13.710737Z"
    }
   },
   "outputs": [
    {
     "name": "stdout",
     "output_type": "stream",
     "text": [
      "168 µs ± 672 ns per loop (mean ± std. dev. of 7 runs, 10,000 loops each)\n"
     ]
    }
   ],
   "source": [
    "t3 = FastTreeValue(_TREE_DATA_3)\n",
    "%timeit copy.deepcopy(t3)"
   ]
  },
  {
   "cell_type": "markdown",
   "id": "bf8be7ea",
   "metadata": {},
   "source": [
    "### Deep Copy of Tianshou Batch"
   ]
  },
  {
   "cell_type": "code",
   "execution_count": 18,
   "id": "91998e6f",
   "metadata": {
    "execution": {
     "iopub.execute_input": "2023-02-23T07:59:13.715049Z",
     "iopub.status.busy": "2023-02-23T07:59:13.714483Z",
     "iopub.status.idle": "2023-02-23T07:59:27.242052Z",
     "shell.execute_reply": "2023-02-23T07:59:27.241319Z"
    }
   },
   "outputs": [
    {
     "name": "stdout",
     "output_type": "stream",
     "text": [
      "167 µs ± 906 ns per loop (mean ± std. dev. of 7 runs, 10,000 loops each)\n"
     ]
    }
   ],
   "source": [
    "b3 = Batch(**_TREE_DATA_3)\n",
    "%timeit copy.deepcopy(b3)"
   ]
  },
  {
   "cell_type": "markdown",
   "id": "223162fb",
   "metadata": {},
   "source": [
    "## Stack, Concat and Split Operation"
   ]
  },
  {
   "cell_type": "markdown",
   "id": "85fa4a73",
   "metadata": {},
   "source": [
    "### Performance of TreeValue"
   ]
  },
  {
   "cell_type": "code",
   "execution_count": 19,
   "id": "a0c2b697",
   "metadata": {
    "execution": {
     "iopub.execute_input": "2023-02-23T07:59:27.245692Z",
     "iopub.status.busy": "2023-02-23T07:59:27.245135Z",
     "iopub.status.idle": "2023-02-23T07:59:27.249007Z",
     "shell.execute_reply": "2023-02-23T07:59:27.248351Z"
    }
   },
   "outputs": [],
   "source": [
    "trees = [FastTreeValue(_TREE_DATA_2) for _ in range(8)]"
   ]
  },
  {
   "cell_type": "code",
   "execution_count": 20,
   "id": "017ea5a5",
   "metadata": {
    "execution": {
     "iopub.execute_input": "2023-02-23T07:59:27.252057Z",
     "iopub.status.busy": "2023-02-23T07:59:27.251525Z",
     "iopub.status.idle": "2023-02-23T07:59:27.259686Z",
     "shell.execute_reply": "2023-02-23T07:59:27.259091Z"
    }
   },
   "outputs": [
    {
     "data": {
      "text/plain": [
       "<FastTreeValue 0x7f2a2f6e8d60>\n",
       "├── 'a' --> tensor([[[ 1.7414,  0.4205, -1.4305],\n",
       "│                    [-0.2482, -0.1569,  0.0875]],\n",
       "│           \n",
       "│                   [[ 1.7414,  0.4205, -1.4305],\n",
       "│                    [-0.2482, -0.1569,  0.0875]],\n",
       "│           \n",
       "│                   [[ 1.7414,  0.4205, -1.4305],\n",
       "│                    [-0.2482, -0.1569,  0.0875]],\n",
       "│           \n",
       "│                   [[ 1.7414,  0.4205, -1.4305],\n",
       "│                    [-0.2482, -0.1569,  0.0875]],\n",
       "│           \n",
       "│                   [[ 1.7414,  0.4205, -1.4305],\n",
       "│                    [-0.2482, -0.1569,  0.0875]],\n",
       "│           \n",
       "│                   [[ 1.7414,  0.4205, -1.4305],\n",
       "│                    [-0.2482, -0.1569,  0.0875]],\n",
       "│           \n",
       "│                   [[ 1.7414,  0.4205, -1.4305],\n",
       "│                    [-0.2482, -0.1569,  0.0875]],\n",
       "│           \n",
       "│                   [[ 1.7414,  0.4205, -1.4305],\n",
       "│                    [-0.2482, -0.1569,  0.0875]]])\n",
       "└── 'x' --> <FastTreeValue 0x7f2a2f6e8e50>\n",
       "    └── 'c' --> tensor([[[ 0.8068, -0.8125,  0.1606,  0.9079],\n",
       "                         [-0.5254, -1.5859, -0.7631, -1.6879],\n",
       "                         [ 0.7782, -0.6509,  1.1106,  1.2761]],\n",
       "                \n",
       "                        [[ 0.8068, -0.8125,  0.1606,  0.9079],\n",
       "                         [-0.5254, -1.5859, -0.7631, -1.6879],\n",
       "                         [ 0.7782, -0.6509,  1.1106,  1.2761]],\n",
       "                \n",
       "                        [[ 0.8068, -0.8125,  0.1606,  0.9079],\n",
       "                         [-0.5254, -1.5859, -0.7631, -1.6879],\n",
       "                         [ 0.7782, -0.6509,  1.1106,  1.2761]],\n",
       "                \n",
       "                        [[ 0.8068, -0.8125,  0.1606,  0.9079],\n",
       "                         [-0.5254, -1.5859, -0.7631, -1.6879],\n",
       "                         [ 0.7782, -0.6509,  1.1106,  1.2761]],\n",
       "                \n",
       "                        [[ 0.8068, -0.8125,  0.1606,  0.9079],\n",
       "                         [-0.5254, -1.5859, -0.7631, -1.6879],\n",
       "                         [ 0.7782, -0.6509,  1.1106,  1.2761]],\n",
       "                \n",
       "                        [[ 0.8068, -0.8125,  0.1606,  0.9079],\n",
       "                         [-0.5254, -1.5859, -0.7631, -1.6879],\n",
       "                         [ 0.7782, -0.6509,  1.1106,  1.2761]],\n",
       "                \n",
       "                        [[ 0.8068, -0.8125,  0.1606,  0.9079],\n",
       "                         [-0.5254, -1.5859, -0.7631, -1.6879],\n",
       "                         [ 0.7782, -0.6509,  1.1106,  1.2761]],\n",
       "                \n",
       "                        [[ 0.8068, -0.8125,  0.1606,  0.9079],\n",
       "                         [-0.5254, -1.5859, -0.7631, -1.6879],\n",
       "                         [ 0.7782, -0.6509,  1.1106,  1.2761]]])"
      ]
     },
     "execution_count": 20,
     "metadata": {},
     "output_type": "execute_result"
    }
   ],
   "source": [
    "t_stack = FastTreeValue.func(subside=True)(torch.stack)\n",
    "\n",
    "t_stack(trees)"
   ]
  },
  {
   "cell_type": "code",
   "execution_count": 21,
   "id": "f8b3f415",
   "metadata": {
    "execution": {
     "iopub.execute_input": "2023-02-23T07:59:27.262711Z",
     "iopub.status.busy": "2023-02-23T07:59:27.262177Z",
     "iopub.status.idle": "2023-02-23T07:59:30.293296Z",
     "shell.execute_reply": "2023-02-23T07:59:30.291536Z"
    }
   },
   "outputs": [
    {
     "name": "stdout",
     "output_type": "stream",
     "text": [
      "37.3 µs ± 78.4 ns per loop (mean ± std. dev. of 7 runs, 10,000 loops each)\n"
     ]
    }
   ],
   "source": [
    "%timeit t_stack(trees)"
   ]
  },
  {
   "cell_type": "code",
   "execution_count": 22,
   "id": "94b56771",
   "metadata": {
    "execution": {
     "iopub.execute_input": "2023-02-23T07:59:30.296911Z",
     "iopub.status.busy": "2023-02-23T07:59:30.296620Z",
     "iopub.status.idle": "2023-02-23T07:59:30.305135Z",
     "shell.execute_reply": "2023-02-23T07:59:30.304289Z"
    }
   },
   "outputs": [
    {
     "data": {
      "text/plain": [
       "<FastTreeValue 0x7f2ab3f2b580>\n",
       "├── 'a' --> tensor([[ 1.7414,  0.4205, -1.4305],\n",
       "│                   [-0.2482, -0.1569,  0.0875],\n",
       "│                   [ 1.7414,  0.4205, -1.4305],\n",
       "│                   [-0.2482, -0.1569,  0.0875],\n",
       "│                   [ 1.7414,  0.4205, -1.4305],\n",
       "│                   [-0.2482, -0.1569,  0.0875],\n",
       "│                   [ 1.7414,  0.4205, -1.4305],\n",
       "│                   [-0.2482, -0.1569,  0.0875],\n",
       "│                   [ 1.7414,  0.4205, -1.4305],\n",
       "│                   [-0.2482, -0.1569,  0.0875],\n",
       "│                   [ 1.7414,  0.4205, -1.4305],\n",
       "│                   [-0.2482, -0.1569,  0.0875],\n",
       "│                   [ 1.7414,  0.4205, -1.4305],\n",
       "│                   [-0.2482, -0.1569,  0.0875],\n",
       "│                   [ 1.7414,  0.4205, -1.4305],\n",
       "│                   [-0.2482, -0.1569,  0.0875]])\n",
       "└── 'x' --> <FastTreeValue 0x7f2ab3f2b700>\n",
       "    └── 'c' --> tensor([[ 0.8068, -0.8125,  0.1606,  0.9079],\n",
       "                        [-0.5254, -1.5859, -0.7631, -1.6879],\n",
       "                        [ 0.7782, -0.6509,  1.1106,  1.2761],\n",
       "                        [ 0.8068, -0.8125,  0.1606,  0.9079],\n",
       "                        [-0.5254, -1.5859, -0.7631, -1.6879],\n",
       "                        [ 0.7782, -0.6509,  1.1106,  1.2761],\n",
       "                        [ 0.8068, -0.8125,  0.1606,  0.9079],\n",
       "                        [-0.5254, -1.5859, -0.7631, -1.6879],\n",
       "                        [ 0.7782, -0.6509,  1.1106,  1.2761],\n",
       "                        [ 0.8068, -0.8125,  0.1606,  0.9079],\n",
       "                        [-0.5254, -1.5859, -0.7631, -1.6879],\n",
       "                        [ 0.7782, -0.6509,  1.1106,  1.2761],\n",
       "                        [ 0.8068, -0.8125,  0.1606,  0.9079],\n",
       "                        [-0.5254, -1.5859, -0.7631, -1.6879],\n",
       "                        [ 0.7782, -0.6509,  1.1106,  1.2761],\n",
       "                        [ 0.8068, -0.8125,  0.1606,  0.9079],\n",
       "                        [-0.5254, -1.5859, -0.7631, -1.6879],\n",
       "                        [ 0.7782, -0.6509,  1.1106,  1.2761],\n",
       "                        [ 0.8068, -0.8125,  0.1606,  0.9079],\n",
       "                        [-0.5254, -1.5859, -0.7631, -1.6879],\n",
       "                        [ 0.7782, -0.6509,  1.1106,  1.2761],\n",
       "                        [ 0.8068, -0.8125,  0.1606,  0.9079],\n",
       "                        [-0.5254, -1.5859, -0.7631, -1.6879],\n",
       "                        [ 0.7782, -0.6509,  1.1106,  1.2761]])"
      ]
     },
     "execution_count": 22,
     "metadata": {},
     "output_type": "execute_result"
    }
   ],
   "source": [
    "t_cat = FastTreeValue.func(subside=True)(torch.cat)\n",
    "\n",
    "t_cat(trees)"
   ]
  },
  {
   "cell_type": "code",
   "execution_count": 23,
   "id": "5e9c06a6",
   "metadata": {
    "execution": {
     "iopub.execute_input": "2023-02-23T07:59:30.308122Z",
     "iopub.status.busy": "2023-02-23T07:59:30.307856Z",
     "iopub.status.idle": "2023-02-23T07:59:33.175030Z",
     "shell.execute_reply": "2023-02-23T07:59:33.174092Z"
    }
   },
   "outputs": [
    {
     "name": "stdout",
     "output_type": "stream",
     "text": [
      "35.2 µs ± 179 ns per loop (mean ± std. dev. of 7 runs, 10,000 loops each)\n"
     ]
    }
   ],
   "source": [
    "%timeit t_cat(trees)"
   ]
  },
  {
   "cell_type": "code",
   "execution_count": 24,
   "id": "a3ab5c8f",
   "metadata": {
    "execution": {
     "iopub.execute_input": "2023-02-23T07:59:33.178794Z",
     "iopub.status.busy": "2023-02-23T07:59:33.178089Z",
     "iopub.status.idle": "2023-02-23T07:59:38.506711Z",
     "shell.execute_reply": "2023-02-23T07:59:38.505594Z"
    }
   },
   "outputs": [
    {
     "name": "stdout",
     "output_type": "stream",
     "text": [
      "65.5 µs ± 86.4 ns per loop (mean ± std. dev. of 7 runs, 10,000 loops each)\n"
     ]
    }
   ],
   "source": [
    "t_split = FastTreeValue.func(rise=True)(torch.split)\n",
    "tree = FastTreeValue({\n",
    "    'obs': torch.randn(8, 4, 84, 84),\n",
    "    'action': torch.randint(0, 6, size=(8, 1,)),\n",
    "    'reward': torch.rand(8, 1),\n",
    "})\n",
    "\n",
    "%timeit t_split(tree, 1)"
   ]
  },
  {
   "cell_type": "markdown",
   "id": "31c3ec0b",
   "metadata": {},
   "source": [
    "### Performance of Tianshou Batch"
   ]
  },
  {
   "cell_type": "code",
   "execution_count": 25,
   "id": "9ead828a",
   "metadata": {
    "execution": {
     "iopub.execute_input": "2023-02-23T07:59:38.510819Z",
     "iopub.status.busy": "2023-02-23T07:59:38.510279Z",
     "iopub.status.idle": "2023-02-23T07:59:38.520627Z",
     "shell.execute_reply": "2023-02-23T07:59:38.519801Z"
    }
   },
   "outputs": [
    {
     "data": {
      "text/plain": [
       "Batch(\n",
       "    a: tensor([[[ 1.7414,  0.4205, -1.4305],\n",
       "                [-0.2482, -0.1569,  0.0875]],\n",
       "       \n",
       "               [[ 1.7414,  0.4205, -1.4305],\n",
       "                [-0.2482, -0.1569,  0.0875]],\n",
       "       \n",
       "               [[ 1.7414,  0.4205, -1.4305],\n",
       "                [-0.2482, -0.1569,  0.0875]],\n",
       "       \n",
       "               [[ 1.7414,  0.4205, -1.4305],\n",
       "                [-0.2482, -0.1569,  0.0875]],\n",
       "       \n",
       "               [[ 1.7414,  0.4205, -1.4305],\n",
       "                [-0.2482, -0.1569,  0.0875]],\n",
       "       \n",
       "               [[ 1.7414,  0.4205, -1.4305],\n",
       "                [-0.2482, -0.1569,  0.0875]],\n",
       "       \n",
       "               [[ 1.7414,  0.4205, -1.4305],\n",
       "                [-0.2482, -0.1569,  0.0875]],\n",
       "       \n",
       "               [[ 1.7414,  0.4205, -1.4305],\n",
       "                [-0.2482, -0.1569,  0.0875]]]),\n",
       "    x: Batch(\n",
       "           c: tensor([[[ 0.8068, -0.8125,  0.1606,  0.9079],\n",
       "                       [-0.5254, -1.5859, -0.7631, -1.6879],\n",
       "                       [ 0.7782, -0.6509,  1.1106,  1.2761]],\n",
       "              \n",
       "                      [[ 0.8068, -0.8125,  0.1606,  0.9079],\n",
       "                       [-0.5254, -1.5859, -0.7631, -1.6879],\n",
       "                       [ 0.7782, -0.6509,  1.1106,  1.2761]],\n",
       "              \n",
       "                      [[ 0.8068, -0.8125,  0.1606,  0.9079],\n",
       "                       [-0.5254, -1.5859, -0.7631, -1.6879],\n",
       "                       [ 0.7782, -0.6509,  1.1106,  1.2761]],\n",
       "              \n",
       "                      [[ 0.8068, -0.8125,  0.1606,  0.9079],\n",
       "                       [-0.5254, -1.5859, -0.7631, -1.6879],\n",
       "                       [ 0.7782, -0.6509,  1.1106,  1.2761]],\n",
       "              \n",
       "                      [[ 0.8068, -0.8125,  0.1606,  0.9079],\n",
       "                       [-0.5254, -1.5859, -0.7631, -1.6879],\n",
       "                       [ 0.7782, -0.6509,  1.1106,  1.2761]],\n",
       "              \n",
       "                      [[ 0.8068, -0.8125,  0.1606,  0.9079],\n",
       "                       [-0.5254, -1.5859, -0.7631, -1.6879],\n",
       "                       [ 0.7782, -0.6509,  1.1106,  1.2761]],\n",
       "              \n",
       "                      [[ 0.8068, -0.8125,  0.1606,  0.9079],\n",
       "                       [-0.5254, -1.5859, -0.7631, -1.6879],\n",
       "                       [ 0.7782, -0.6509,  1.1106,  1.2761]],\n",
       "              \n",
       "                      [[ 0.8068, -0.8125,  0.1606,  0.9079],\n",
       "                       [-0.5254, -1.5859, -0.7631, -1.6879],\n",
       "                       [ 0.7782, -0.6509,  1.1106,  1.2761]]]),\n",
       "       ),\n",
       ")"
      ]
     },
     "execution_count": 25,
     "metadata": {},
     "output_type": "execute_result"
    }
   ],
   "source": [
    "batches = [Batch(**_TREE_DATA_2) for _ in range(8)]\n",
    "\n",
    "Batch.stack(batches)"
   ]
  },
  {
   "cell_type": "code",
   "execution_count": 26,
   "id": "ec9037a3",
   "metadata": {
    "execution": {
     "iopub.execute_input": "2023-02-23T07:59:38.524295Z",
     "iopub.status.busy": "2023-02-23T07:59:38.523630Z",
     "iopub.status.idle": "2023-02-23T07:59:45.941942Z",
     "shell.execute_reply": "2023-02-23T07:59:45.941014Z"
    }
   },
   "outputs": [
    {
     "name": "stdout",
     "output_type": "stream",
     "text": [
      "91.2 µs ± 276 ns per loop (mean ± std. dev. of 7 runs, 10,000 loops each)\n"
     ]
    }
   ],
   "source": [
    "%timeit Batch.stack(batches)"
   ]
  },
  {
   "cell_type": "code",
   "execution_count": 27,
   "id": "cb8ab77e",
   "metadata": {
    "execution": {
     "iopub.execute_input": "2023-02-23T07:59:45.945914Z",
     "iopub.status.busy": "2023-02-23T07:59:45.945245Z",
     "iopub.status.idle": "2023-02-23T07:59:45.954226Z",
     "shell.execute_reply": "2023-02-23T07:59:45.953489Z"
    }
   },
   "outputs": [
    {
     "data": {
      "text/plain": [
       "Batch(\n",
       "    a: tensor([[ 1.7414,  0.4205, -1.4305],\n",
       "               [-0.2482, -0.1569,  0.0875],\n",
       "               [ 1.7414,  0.4205, -1.4305],\n",
       "               [-0.2482, -0.1569,  0.0875],\n",
       "               [ 1.7414,  0.4205, -1.4305],\n",
       "               [-0.2482, -0.1569,  0.0875],\n",
       "               [ 1.7414,  0.4205, -1.4305],\n",
       "               [-0.2482, -0.1569,  0.0875],\n",
       "               [ 1.7414,  0.4205, -1.4305],\n",
       "               [-0.2482, -0.1569,  0.0875],\n",
       "               [ 1.7414,  0.4205, -1.4305],\n",
       "               [-0.2482, -0.1569,  0.0875],\n",
       "               [ 1.7414,  0.4205, -1.4305],\n",
       "               [-0.2482, -0.1569,  0.0875],\n",
       "               [ 1.7414,  0.4205, -1.4305],\n",
       "               [-0.2482, -0.1569,  0.0875]]),\n",
       "    x: Batch(\n",
       "           c: tensor([[ 0.8068, -0.8125,  0.1606,  0.9079],\n",
       "                      [-0.5254, -1.5859, -0.7631, -1.6879],\n",
       "                      [ 0.7782, -0.6509,  1.1106,  1.2761],\n",
       "                      [ 0.8068, -0.8125,  0.1606,  0.9079],\n",
       "                      [-0.5254, -1.5859, -0.7631, -1.6879],\n",
       "                      [ 0.7782, -0.6509,  1.1106,  1.2761],\n",
       "                      [ 0.8068, -0.8125,  0.1606,  0.9079],\n",
       "                      [-0.5254, -1.5859, -0.7631, -1.6879],\n",
       "                      [ 0.7782, -0.6509,  1.1106,  1.2761],\n",
       "                      [ 0.8068, -0.8125,  0.1606,  0.9079],\n",
       "                      [-0.5254, -1.5859, -0.7631, -1.6879],\n",
       "                      [ 0.7782, -0.6509,  1.1106,  1.2761],\n",
       "                      [ 0.8068, -0.8125,  0.1606,  0.9079],\n",
       "                      [-0.5254, -1.5859, -0.7631, -1.6879],\n",
       "                      [ 0.7782, -0.6509,  1.1106,  1.2761],\n",
       "                      [ 0.8068, -0.8125,  0.1606,  0.9079],\n",
       "                      [-0.5254, -1.5859, -0.7631, -1.6879],\n",
       "                      [ 0.7782, -0.6509,  1.1106,  1.2761],\n",
       "                      [ 0.8068, -0.8125,  0.1606,  0.9079],\n",
       "                      [-0.5254, -1.5859, -0.7631, -1.6879],\n",
       "                      [ 0.7782, -0.6509,  1.1106,  1.2761],\n",
       "                      [ 0.8068, -0.8125,  0.1606,  0.9079],\n",
       "                      [-0.5254, -1.5859, -0.7631, -1.6879],\n",
       "                      [ 0.7782, -0.6509,  1.1106,  1.2761]]),\n",
       "       ),\n",
       ")"
      ]
     },
     "execution_count": 27,
     "metadata": {},
     "output_type": "execute_result"
    }
   ],
   "source": [
    "Batch.cat(batches)"
   ]
  },
  {
   "cell_type": "code",
   "execution_count": 28,
   "id": "18dfb045",
   "metadata": {
    "execution": {
     "iopub.execute_input": "2023-02-23T07:59:45.957624Z",
     "iopub.status.busy": "2023-02-23T07:59:45.957186Z",
     "iopub.status.idle": "2023-02-23T07:59:59.697382Z",
     "shell.execute_reply": "2023-02-23T07:59:59.696129Z"
    }
   },
   "outputs": [
    {
     "name": "stdout",
     "output_type": "stream",
     "text": [
      "169 µs ± 371 ns per loop (mean ± std. dev. of 7 runs, 10,000 loops each)\n"
     ]
    }
   ],
   "source": [
    "%timeit Batch.cat(batches)"
   ]
  },
  {
   "cell_type": "code",
   "execution_count": 29,
   "id": "c6688e51",
   "metadata": {
    "execution": {
     "iopub.execute_input": "2023-02-23T07:59:59.701775Z",
     "iopub.status.busy": "2023-02-23T07:59:59.701028Z",
     "iopub.status.idle": "2023-02-23T08:00:02.772610Z",
     "shell.execute_reply": "2023-02-23T08:00:02.771855Z"
    }
   },
   "outputs": [
    {
     "name": "stdout",
     "output_type": "stream",
     "text": [
      "377 µs ± 2.2 µs per loop (mean ± std. dev. of 7 runs, 1,000 loops each)\n"
     ]
    }
   ],
   "source": [
    "batch = Batch({\n",
    "    'obs': torch.randn(8, 4, 84, 84),\n",
    "    'action': torch.randint(0, 6, size=(8, 1,)),\n",
    "    'reward': torch.rand(8, 1)}\n",
    ")\n",
    "\n",
    "%timeit list(Batch.split(batch, 1, shuffle=False, merge_last=True))"
   ]
  },
  {
   "cell_type": "code",
   "execution_count": null,
   "id": "2539fbd9",
   "metadata": {},
   "outputs": [],
   "source": []
  }
 ],
 "metadata": {
  "kernelspec": {
   "display_name": "Python 3 (ipykernel)",
   "language": "python",
   "name": "python3"
  },
  "language_info": {
   "codemirror_mode": {
    "name": "ipython",
    "version": 3
   },
   "file_extension": ".py",
   "mimetype": "text/x-python",
   "name": "python",
   "nbconvert_exporter": "python",
   "pygments_lexer": "ipython3",
   "version": "3.8.16"
  }
 },
 "nbformat": 4,
 "nbformat_minor": 5
}
