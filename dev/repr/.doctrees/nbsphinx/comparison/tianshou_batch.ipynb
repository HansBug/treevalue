{
 "cells": [
  {
   "cell_type": "markdown",
   "id": "9d39d946",
   "metadata": {},
   "source": [
    "# Comparison Between TreeValue and Tianshou Batch"
   ]
  },
  {
   "cell_type": "markdown",
   "id": "3c6db2d4",
   "metadata": {},
   "source": [
    "In this section, we will take a look at the feature and performance of the [Tianshou Batch](https://github.com/thu-ml/tianshou) library, which is developed by Tsinghua Machine Learning Group."
   ]
  },
  {
   "cell_type": "markdown",
   "id": "069361b0",
   "metadata": {},
   "source": [
    "Before starting the comparison, let us define some thing."
   ]
  },
  {
   "cell_type": "code",
   "execution_count": 1,
   "id": "06fc8d26",
   "metadata": {
    "execution": {
     "iopub.execute_input": "2023-02-26T16:52:00.880882Z",
     "iopub.status.busy": "2023-02-26T16:52:00.880630Z",
     "iopub.status.idle": "2023-02-26T16:52:01.856577Z",
     "shell.execute_reply": "2023-02-26T16:52:01.855777Z"
    }
   },
   "outputs": [
    {
     "name": "stderr",
     "output_type": "stream",
     "text": [
      "/opt/hostedtoolcache/Python/3.8.16/x64/lib/python3.8/site-packages/tqdm/auto.py:22: TqdmWarning: IProgress not found. Please update jupyter and ipywidgets. See https://ipywidgets.readthedocs.io/en/stable/user_install.html\n",
      "  from .autonotebook import tqdm as notebook_tqdm\n"
     ]
    }
   ],
   "source": [
    "import torch \n",
    "\n",
    "_TREE_DATA_1 = {'a': 1, 'b': 2, 'x': {'c': 3, 'd': 4}}\n",
    "_TREE_DATA_2 = {\n",
    "    'a': torch.randn(2, 3), \n",
    "    'x': {\n",
    "        'c': torch.randn(3, 4)\n",
    "    },\n",
    "}\n",
    "_TREE_DATA_3 = {\n",
    "    'obs': torch.randn(4, 84, 84),\n",
    "    'action': torch.randint(0, 6, size=(1,)),\n",
    "    'reward': torch.rand(1),\n",
    "}"
   ]
  },
  {
   "cell_type": "markdown",
   "id": "83461b25",
   "metadata": {},
   "source": [
    "## Read and Write Operation"
   ]
  },
  {
   "cell_type": "markdown",
   "id": "067b3f73",
   "metadata": {},
   "source": [
    "Reading and writing are the two most common operations in the tree data structure based on the data model (TreeValue and Tianshou Batch both belong to this type), so this section will compare the reading and writing performance of these two libraries."
   ]
  },
  {
   "cell_type": "markdown",
   "id": "5d09a5b7",
   "metadata": {},
   "source": [
    "### TreeValue's Get and Set"
   ]
  },
  {
   "cell_type": "code",
   "execution_count": 2,
   "id": "9519c4bb",
   "metadata": {
    "execution": {
     "iopub.execute_input": "2023-02-26T16:52:01.860703Z",
     "iopub.status.busy": "2023-02-26T16:52:01.860151Z",
     "iopub.status.idle": "2023-02-26T16:52:02.152251Z",
     "shell.execute_reply": "2023-02-26T16:52:02.151449Z"
    }
   },
   "outputs": [],
   "source": [
    "from treevalue import FastTreeValue\n",
    "\n",
    "t = FastTreeValue(_TREE_DATA_2)"
   ]
  },
  {
   "cell_type": "code",
   "execution_count": 3,
   "id": "11c37677",
   "metadata": {
    "execution": {
     "iopub.execute_input": "2023-02-26T16:52:02.156124Z",
     "iopub.status.busy": "2023-02-26T16:52:02.155579Z",
     "iopub.status.idle": "2023-02-26T16:52:02.164658Z",
     "shell.execute_reply": "2023-02-26T16:52:02.163927Z"
    }
   },
   "outputs": [
    {
     "data": {
      "text/plain": [
       "<FastTreeValue 0x7eff504e18e0>\n",
       "├── 'a' --> tensor([[ 0.7288,  0.5916,  0.8765],\n",
       "│                   [ 0.9317, -0.3995, -0.4256]])\n",
       "└── 'x' --> <FastTreeValue 0x7eff504e1d90>\n",
       "    └── 'c' --> tensor([[ 0.1814, -0.3938,  1.3011, -0.2611],\n",
       "                        [ 0.5310, -0.3410,  1.9829, -0.6226],\n",
       "                        [-0.4469, -1.0084, -0.3082,  0.5617]])"
      ]
     },
     "execution_count": 3,
     "metadata": {},
     "output_type": "execute_result"
    }
   ],
   "source": [
    "t"
   ]
  },
  {
   "cell_type": "code",
   "execution_count": 4,
   "id": "fd70b0b9",
   "metadata": {
    "execution": {
     "iopub.execute_input": "2023-02-26T16:52:02.167588Z",
     "iopub.status.busy": "2023-02-26T16:52:02.167118Z",
     "iopub.status.idle": "2023-02-26T16:52:02.172280Z",
     "shell.execute_reply": "2023-02-26T16:52:02.171583Z"
    }
   },
   "outputs": [
    {
     "data": {
      "text/plain": [
       "tensor([[ 0.7288,  0.5916,  0.8765],\n",
       "        [ 0.9317, -0.3995, -0.4256]])"
      ]
     },
     "execution_count": 4,
     "metadata": {},
     "output_type": "execute_result"
    }
   ],
   "source": [
    "t.a"
   ]
  },
  {
   "cell_type": "code",
   "execution_count": 5,
   "id": "c18197bd",
   "metadata": {
    "execution": {
     "iopub.execute_input": "2023-02-26T16:52:02.175550Z",
     "iopub.status.busy": "2023-02-26T16:52:02.174934Z",
     "iopub.status.idle": "2023-02-26T16:52:07.778582Z",
     "shell.execute_reply": "2023-02-26T16:52:07.777675Z"
    }
   },
   "outputs": [
    {
     "name": "stdout",
     "output_type": "stream",
     "text": [
      "69 ns ± 0.123 ns per loop (mean ± std. dev. of 7 runs, 10,000,000 loops each)\n"
     ]
    }
   ],
   "source": [
    "%timeit t.a"
   ]
  },
  {
   "cell_type": "code",
   "execution_count": 6,
   "id": "bd52f867",
   "metadata": {
    "execution": {
     "iopub.execute_input": "2023-02-26T16:52:07.782174Z",
     "iopub.status.busy": "2023-02-26T16:52:07.781596Z",
     "iopub.status.idle": "2023-02-26T16:52:07.789236Z",
     "shell.execute_reply": "2023-02-26T16:52:07.788055Z"
    }
   },
   "outputs": [
    {
     "data": {
      "text/plain": [
       "<FastTreeValue 0x7eff504e18e0>\n",
       "├── 'a' --> tensor([[ 0.2534,  0.4913,  0.5760],\n",
       "│                   [-0.0121,  1.3722, -1.0286]])\n",
       "└── 'x' --> <FastTreeValue 0x7eff504e1d90>\n",
       "    └── 'c' --> tensor([[ 0.1814, -0.3938,  1.3011, -0.2611],\n",
       "                        [ 0.5310, -0.3410,  1.9829, -0.6226],\n",
       "                        [-0.4469, -1.0084, -0.3082,  0.5617]])"
      ]
     },
     "execution_count": 6,
     "metadata": {},
     "output_type": "execute_result"
    }
   ],
   "source": [
    "new_value = torch.randn(2, 3)\n",
    "t.a = new_value\n",
    "\n",
    "t"
   ]
  },
  {
   "cell_type": "code",
   "execution_count": 7,
   "id": "bbe04d1c",
   "metadata": {
    "execution": {
     "iopub.execute_input": "2023-02-26T16:52:07.792149Z",
     "iopub.status.busy": "2023-02-26T16:52:07.791779Z",
     "iopub.status.idle": "2023-02-26T16:52:13.610096Z",
     "shell.execute_reply": "2023-02-26T16:52:13.609181Z"
    }
   },
   "outputs": [
    {
     "name": "stdout",
     "output_type": "stream",
     "text": [
      "71.7 ns ± 0.0583 ns per loop (mean ± std. dev. of 7 runs, 10,000,000 loops each)\n"
     ]
    }
   ],
   "source": [
    "%timeit t.a = new_value"
   ]
  },
  {
   "cell_type": "markdown",
   "id": "48c49731",
   "metadata": {},
   "source": [
    "### Tianshou Batch's Get and Set"
   ]
  },
  {
   "cell_type": "code",
   "execution_count": 8,
   "id": "f1bb14c1",
   "metadata": {
    "execution": {
     "iopub.execute_input": "2023-02-26T16:52:13.614504Z",
     "iopub.status.busy": "2023-02-26T16:52:13.613075Z",
     "iopub.status.idle": "2023-02-26T16:52:13.969082Z",
     "shell.execute_reply": "2023-02-26T16:52:13.968325Z"
    }
   },
   "outputs": [],
   "source": [
    "from tianshou.data import Batch\n",
    "\n",
    "b = Batch(**_TREE_DATA_2)"
   ]
  },
  {
   "cell_type": "code",
   "execution_count": 9,
   "id": "cb0777c3",
   "metadata": {
    "execution": {
     "iopub.execute_input": "2023-02-26T16:52:13.972467Z",
     "iopub.status.busy": "2023-02-26T16:52:13.971945Z",
     "iopub.status.idle": "2023-02-26T16:52:13.977982Z",
     "shell.execute_reply": "2023-02-26T16:52:13.977229Z"
    }
   },
   "outputs": [
    {
     "data": {
      "text/plain": [
       "Batch(\n",
       "    a: tensor([[ 0.7288,  0.5916,  0.8765],\n",
       "               [ 0.9317, -0.3995, -0.4256]]),\n",
       "    x: Batch(\n",
       "           c: tensor([[ 0.1814, -0.3938,  1.3011, -0.2611],\n",
       "                      [ 0.5310, -0.3410,  1.9829, -0.6226],\n",
       "                      [-0.4469, -1.0084, -0.3082,  0.5617]]),\n",
       "       ),\n",
       ")"
      ]
     },
     "execution_count": 9,
     "metadata": {},
     "output_type": "execute_result"
    }
   ],
   "source": [
    "b"
   ]
  },
  {
   "cell_type": "code",
   "execution_count": 10,
   "id": "43ef8ea3",
   "metadata": {
    "execution": {
     "iopub.execute_input": "2023-02-26T16:52:13.980704Z",
     "iopub.status.busy": "2023-02-26T16:52:13.980254Z",
     "iopub.status.idle": "2023-02-26T16:52:13.985127Z",
     "shell.execute_reply": "2023-02-26T16:52:13.984447Z"
    }
   },
   "outputs": [
    {
     "data": {
      "text/plain": [
       "tensor([[ 0.7288,  0.5916,  0.8765],\n",
       "        [ 0.9317, -0.3995, -0.4256]])"
      ]
     },
     "execution_count": 10,
     "metadata": {},
     "output_type": "execute_result"
    }
   ],
   "source": [
    "b.a"
   ]
  },
  {
   "cell_type": "code",
   "execution_count": 11,
   "id": "b785ab72",
   "metadata": {
    "execution": {
     "iopub.execute_input": "2023-02-26T16:52:13.987671Z",
     "iopub.status.busy": "2023-02-26T16:52:13.987306Z",
     "iopub.status.idle": "2023-02-26T16:52:18.725187Z",
     "shell.execute_reply": "2023-02-26T16:52:18.724281Z"
    }
   },
   "outputs": [
    {
     "name": "stdout",
     "output_type": "stream",
     "text": [
      "58.5 ns ± 0.0838 ns per loop (mean ± std. dev. of 7 runs, 10,000,000 loops each)\n"
     ]
    }
   ],
   "source": [
    "%timeit b.a"
   ]
  },
  {
   "cell_type": "code",
   "execution_count": 12,
   "id": "ad54dc69",
   "metadata": {
    "execution": {
     "iopub.execute_input": "2023-02-26T16:52:18.728791Z",
     "iopub.status.busy": "2023-02-26T16:52:18.728279Z",
     "iopub.status.idle": "2023-02-26T16:52:18.734377Z",
     "shell.execute_reply": "2023-02-26T16:52:18.733699Z"
    }
   },
   "outputs": [
    {
     "data": {
      "text/plain": [
       "Batch(\n",
       "    a: tensor([[ 1.2283, -0.0040,  1.2891],\n",
       "               [-0.2007, -0.3053,  0.6105]]),\n",
       "    x: Batch(\n",
       "           c: tensor([[ 0.1814, -0.3938,  1.3011, -0.2611],\n",
       "                      [ 0.5310, -0.3410,  1.9829, -0.6226],\n",
       "                      [-0.4469, -1.0084, -0.3082,  0.5617]]),\n",
       "       ),\n",
       ")"
      ]
     },
     "execution_count": 12,
     "metadata": {},
     "output_type": "execute_result"
    }
   ],
   "source": [
    "new_value = torch.randn(2, 3)\n",
    "b.a = new_value\n",
    "\n",
    "b"
   ]
  },
  {
   "cell_type": "code",
   "execution_count": 13,
   "id": "29b1d0bf",
   "metadata": {
    "execution": {
     "iopub.execute_input": "2023-02-26T16:52:18.736929Z",
     "iopub.status.busy": "2023-02-26T16:52:18.736559Z",
     "iopub.status.idle": "2023-02-26T16:52:22.694291Z",
     "shell.execute_reply": "2023-02-26T16:52:22.693381Z"
    }
   },
   "outputs": [
    {
     "name": "stdout",
     "output_type": "stream",
     "text": [
      "487 ns ± 0.292 ns per loop (mean ± std. dev. of 7 runs, 1,000,000 loops each)\n"
     ]
    }
   ],
   "source": [
    "%timeit b.a = new_value"
   ]
  },
  {
   "cell_type": "markdown",
   "id": "b61ad1d0",
   "metadata": {},
   "source": [
    "## Initialization"
   ]
  },
  {
   "cell_type": "markdown",
   "id": "d70f0d54",
   "metadata": {},
   "source": [
    "### TreeValue's Initialization"
   ]
  },
  {
   "cell_type": "code",
   "execution_count": 14,
   "id": "d32a679b",
   "metadata": {
    "execution": {
     "iopub.execute_input": "2023-02-26T16:52:22.698121Z",
     "iopub.status.busy": "2023-02-26T16:52:22.697414Z",
     "iopub.status.idle": "2023-02-26T16:52:29.258224Z",
     "shell.execute_reply": "2023-02-26T16:52:29.257298Z"
    }
   },
   "outputs": [
    {
     "name": "stdout",
     "output_type": "stream",
     "text": [
      "805 ns ± 0.109 ns per loop (mean ± std. dev. of 7 runs, 1,000,000 loops each)\n"
     ]
    }
   ],
   "source": [
    "%timeit FastTreeValue(_TREE_DATA_1)"
   ]
  },
  {
   "cell_type": "markdown",
   "id": "24f3707b",
   "metadata": {},
   "source": [
    "### Tianshou Batch's Initialization"
   ]
  },
  {
   "cell_type": "code",
   "execution_count": 15,
   "id": "ac3958df",
   "metadata": {
    "execution": {
     "iopub.execute_input": "2023-02-26T16:52:29.261944Z",
     "iopub.status.busy": "2023-02-26T16:52:29.261412Z",
     "iopub.status.idle": "2023-02-26T16:52:37.838511Z",
     "shell.execute_reply": "2023-02-26T16:52:37.837611Z"
    }
   },
   "outputs": [
    {
     "name": "stdout",
     "output_type": "stream",
     "text": [
      "10.6 µs ± 23 ns per loop (mean ± std. dev. of 7 runs, 100,000 loops each)\n"
     ]
    }
   ],
   "source": [
    "%timeit Batch(**_TREE_DATA_1)"
   ]
  },
  {
   "cell_type": "markdown",
   "id": "1ab82e2d",
   "metadata": {},
   "source": [
    "## Deep Copy Operation"
   ]
  },
  {
   "cell_type": "code",
   "execution_count": 16,
   "id": "210a9442",
   "metadata": {
    "execution": {
     "iopub.execute_input": "2023-02-26T16:52:37.841679Z",
     "iopub.status.busy": "2023-02-26T16:52:37.841276Z",
     "iopub.status.idle": "2023-02-26T16:52:37.845420Z",
     "shell.execute_reply": "2023-02-26T16:52:37.844793Z"
    }
   },
   "outputs": [],
   "source": [
    "import copy"
   ]
  },
  {
   "cell_type": "markdown",
   "id": "5a736274",
   "metadata": {},
   "source": [
    "### Deep Copy of TreeValue"
   ]
  },
  {
   "cell_type": "code",
   "execution_count": 17,
   "id": "f9bcadd6",
   "metadata": {
    "execution": {
     "iopub.execute_input": "2023-02-26T16:52:37.848284Z",
     "iopub.status.busy": "2023-02-26T16:52:37.847698Z",
     "iopub.status.idle": "2023-02-26T16:52:49.637712Z",
     "shell.execute_reply": "2023-02-26T16:52:49.637013Z"
    }
   },
   "outputs": [
    {
     "name": "stdout",
     "output_type": "stream",
     "text": [
      "145 µs ± 387 ns per loop (mean ± std. dev. of 7 runs, 10,000 loops each)\n"
     ]
    }
   ],
   "source": [
    "t3 = FastTreeValue(_TREE_DATA_3)\n",
    "%timeit copy.deepcopy(t3)"
   ]
  },
  {
   "cell_type": "markdown",
   "id": "bf8be7ea",
   "metadata": {},
   "source": [
    "### Deep Copy of Tianshou Batch"
   ]
  },
  {
   "cell_type": "code",
   "execution_count": 18,
   "id": "91998e6f",
   "metadata": {
    "execution": {
     "iopub.execute_input": "2023-02-26T16:52:49.641300Z",
     "iopub.status.busy": "2023-02-26T16:52:49.640767Z",
     "iopub.status.idle": "2023-02-26T16:53:01.364608Z",
     "shell.execute_reply": "2023-02-26T16:53:01.363803Z"
    }
   },
   "outputs": [
    {
     "name": "stdout",
     "output_type": "stream",
     "text": [
      "144 µs ± 2.05 µs per loop (mean ± std. dev. of 7 runs, 10,000 loops each)\n"
     ]
    }
   ],
   "source": [
    "b3 = Batch(**_TREE_DATA_3)\n",
    "%timeit copy.deepcopy(b3)"
   ]
  },
  {
   "cell_type": "markdown",
   "id": "223162fb",
   "metadata": {},
   "source": [
    "## Stack, Concat and Split Operation"
   ]
  },
  {
   "cell_type": "markdown",
   "id": "85fa4a73",
   "metadata": {},
   "source": [
    "### Performance of TreeValue"
   ]
  },
  {
   "cell_type": "code",
   "execution_count": 19,
   "id": "a0c2b697",
   "metadata": {
    "execution": {
     "iopub.execute_input": "2023-02-26T16:53:01.367821Z",
     "iopub.status.busy": "2023-02-26T16:53:01.367317Z",
     "iopub.status.idle": "2023-02-26T16:53:01.372116Z",
     "shell.execute_reply": "2023-02-26T16:53:01.371200Z"
    }
   },
   "outputs": [],
   "source": [
    "trees = [FastTreeValue(_TREE_DATA_2) for _ in range(8)]"
   ]
  },
  {
   "cell_type": "code",
   "execution_count": 20,
   "id": "017ea5a5",
   "metadata": {
    "execution": {
     "iopub.execute_input": "2023-02-26T16:53:01.374759Z",
     "iopub.status.busy": "2023-02-26T16:53:01.374316Z",
     "iopub.status.idle": "2023-02-26T16:53:01.382454Z",
     "shell.execute_reply": "2023-02-26T16:53:01.381833Z"
    }
   },
   "outputs": [
    {
     "data": {
      "text/plain": [
       "<FastTreeValue 0x7efe9985e580>\n",
       "├── 'a' --> tensor([[[ 0.7288,  0.5916,  0.8765],\n",
       "│                    [ 0.9317, -0.3995, -0.4256]],\n",
       "│           \n",
       "│                   [[ 0.7288,  0.5916,  0.8765],\n",
       "│                    [ 0.9317, -0.3995, -0.4256]],\n",
       "│           \n",
       "│                   [[ 0.7288,  0.5916,  0.8765],\n",
       "│                    [ 0.9317, -0.3995, -0.4256]],\n",
       "│           \n",
       "│                   [[ 0.7288,  0.5916,  0.8765],\n",
       "│                    [ 0.9317, -0.3995, -0.4256]],\n",
       "│           \n",
       "│                   [[ 0.7288,  0.5916,  0.8765],\n",
       "│                    [ 0.9317, -0.3995, -0.4256]],\n",
       "│           \n",
       "│                   [[ 0.7288,  0.5916,  0.8765],\n",
       "│                    [ 0.9317, -0.3995, -0.4256]],\n",
       "│           \n",
       "│                   [[ 0.7288,  0.5916,  0.8765],\n",
       "│                    [ 0.9317, -0.3995, -0.4256]],\n",
       "│           \n",
       "│                   [[ 0.7288,  0.5916,  0.8765],\n",
       "│                    [ 0.9317, -0.3995, -0.4256]]])\n",
       "└── 'x' --> <FastTreeValue 0x7efe99de5b80>\n",
       "    └── 'c' --> tensor([[[ 0.1814, -0.3938,  1.3011, -0.2611],\n",
       "                         [ 0.5310, -0.3410,  1.9829, -0.6226],\n",
       "                         [-0.4469, -1.0084, -0.3082,  0.5617]],\n",
       "                \n",
       "                        [[ 0.1814, -0.3938,  1.3011, -0.2611],\n",
       "                         [ 0.5310, -0.3410,  1.9829, -0.6226],\n",
       "                         [-0.4469, -1.0084, -0.3082,  0.5617]],\n",
       "                \n",
       "                        [[ 0.1814, -0.3938,  1.3011, -0.2611],\n",
       "                         [ 0.5310, -0.3410,  1.9829, -0.6226],\n",
       "                         [-0.4469, -1.0084, -0.3082,  0.5617]],\n",
       "                \n",
       "                        [[ 0.1814, -0.3938,  1.3011, -0.2611],\n",
       "                         [ 0.5310, -0.3410,  1.9829, -0.6226],\n",
       "                         [-0.4469, -1.0084, -0.3082,  0.5617]],\n",
       "                \n",
       "                        [[ 0.1814, -0.3938,  1.3011, -0.2611],\n",
       "                         [ 0.5310, -0.3410,  1.9829, -0.6226],\n",
       "                         [-0.4469, -1.0084, -0.3082,  0.5617]],\n",
       "                \n",
       "                        [[ 0.1814, -0.3938,  1.3011, -0.2611],\n",
       "                         [ 0.5310, -0.3410,  1.9829, -0.6226],\n",
       "                         [-0.4469, -1.0084, -0.3082,  0.5617]],\n",
       "                \n",
       "                        [[ 0.1814, -0.3938,  1.3011, -0.2611],\n",
       "                         [ 0.5310, -0.3410,  1.9829, -0.6226],\n",
       "                         [-0.4469, -1.0084, -0.3082,  0.5617]],\n",
       "                \n",
       "                        [[ 0.1814, -0.3938,  1.3011, -0.2611],\n",
       "                         [ 0.5310, -0.3410,  1.9829, -0.6226],\n",
       "                         [-0.4469, -1.0084, -0.3082,  0.5617]]])"
      ]
     },
     "execution_count": 20,
     "metadata": {},
     "output_type": "execute_result"
    }
   ],
   "source": [
    "t_stack = FastTreeValue.func(subside=True)(torch.stack)\n",
    "\n",
    "t_stack(trees)"
   ]
  },
  {
   "cell_type": "code",
   "execution_count": 21,
   "id": "f8b3f415",
   "metadata": {
    "execution": {
     "iopub.execute_input": "2023-02-26T16:53:01.385267Z",
     "iopub.status.busy": "2023-02-26T16:53:01.384732Z",
     "iopub.status.idle": "2023-02-26T16:53:03.995876Z",
     "shell.execute_reply": "2023-02-26T16:53:03.994951Z"
    }
   },
   "outputs": [
    {
     "name": "stdout",
     "output_type": "stream",
     "text": [
      "32.1 µs ± 38.8 ns per loop (mean ± std. dev. of 7 runs, 10,000 loops each)\n"
     ]
    }
   ],
   "source": [
    "%timeit t_stack(trees)"
   ]
  },
  {
   "cell_type": "code",
   "execution_count": 22,
   "id": "94b56771",
   "metadata": {
    "execution": {
     "iopub.execute_input": "2023-02-26T16:53:03.999171Z",
     "iopub.status.busy": "2023-02-26T16:53:03.998471Z",
     "iopub.status.idle": "2023-02-26T16:53:04.006469Z",
     "shell.execute_reply": "2023-02-26T16:53:04.005718Z"
    }
   },
   "outputs": [
    {
     "data": {
      "text/plain": [
       "<FastTreeValue 0x7eff50539ca0>\n",
       "├── 'a' --> tensor([[ 0.7288,  0.5916,  0.8765],\n",
       "│                   [ 0.9317, -0.3995, -0.4256],\n",
       "│                   [ 0.7288,  0.5916,  0.8765],\n",
       "│                   [ 0.9317, -0.3995, -0.4256],\n",
       "│                   [ 0.7288,  0.5916,  0.8765],\n",
       "│                   [ 0.9317, -0.3995, -0.4256],\n",
       "│                   [ 0.7288,  0.5916,  0.8765],\n",
       "│                   [ 0.9317, -0.3995, -0.4256],\n",
       "│                   [ 0.7288,  0.5916,  0.8765],\n",
       "│                   [ 0.9317, -0.3995, -0.4256],\n",
       "│                   [ 0.7288,  0.5916,  0.8765],\n",
       "│                   [ 0.9317, -0.3995, -0.4256],\n",
       "│                   [ 0.7288,  0.5916,  0.8765],\n",
       "│                   [ 0.9317, -0.3995, -0.4256],\n",
       "│                   [ 0.7288,  0.5916,  0.8765],\n",
       "│                   [ 0.9317, -0.3995, -0.4256]])\n",
       "└── 'x' --> <FastTreeValue 0x7efea03d0fa0>\n",
       "    └── 'c' --> tensor([[ 0.1814, -0.3938,  1.3011, -0.2611],\n",
       "                        [ 0.5310, -0.3410,  1.9829, -0.6226],\n",
       "                        [-0.4469, -1.0084, -0.3082,  0.5617],\n",
       "                        [ 0.1814, -0.3938,  1.3011, -0.2611],\n",
       "                        [ 0.5310, -0.3410,  1.9829, -0.6226],\n",
       "                        [-0.4469, -1.0084, -0.3082,  0.5617],\n",
       "                        [ 0.1814, -0.3938,  1.3011, -0.2611],\n",
       "                        [ 0.5310, -0.3410,  1.9829, -0.6226],\n",
       "                        [-0.4469, -1.0084, -0.3082,  0.5617],\n",
       "                        [ 0.1814, -0.3938,  1.3011, -0.2611],\n",
       "                        [ 0.5310, -0.3410,  1.9829, -0.6226],\n",
       "                        [-0.4469, -1.0084, -0.3082,  0.5617],\n",
       "                        [ 0.1814, -0.3938,  1.3011, -0.2611],\n",
       "                        [ 0.5310, -0.3410,  1.9829, -0.6226],\n",
       "                        [-0.4469, -1.0084, -0.3082,  0.5617],\n",
       "                        [ 0.1814, -0.3938,  1.3011, -0.2611],\n",
       "                        [ 0.5310, -0.3410,  1.9829, -0.6226],\n",
       "                        [-0.4469, -1.0084, -0.3082,  0.5617],\n",
       "                        [ 0.1814, -0.3938,  1.3011, -0.2611],\n",
       "                        [ 0.5310, -0.3410,  1.9829, -0.6226],\n",
       "                        [-0.4469, -1.0084, -0.3082,  0.5617],\n",
       "                        [ 0.1814, -0.3938,  1.3011, -0.2611],\n",
       "                        [ 0.5310, -0.3410,  1.9829, -0.6226],\n",
       "                        [-0.4469, -1.0084, -0.3082,  0.5617]])"
      ]
     },
     "execution_count": 22,
     "metadata": {},
     "output_type": "execute_result"
    }
   ],
   "source": [
    "t_cat = FastTreeValue.func(subside=True)(torch.cat)\n",
    "\n",
    "t_cat(trees)"
   ]
  },
  {
   "cell_type": "code",
   "execution_count": 23,
   "id": "5e9c06a6",
   "metadata": {
    "execution": {
     "iopub.execute_input": "2023-02-26T16:53:04.009455Z",
     "iopub.status.busy": "2023-02-26T16:53:04.008866Z",
     "iopub.status.idle": "2023-02-26T16:53:06.492472Z",
     "shell.execute_reply": "2023-02-26T16:53:06.491531Z"
    }
   },
   "outputs": [
    {
     "name": "stdout",
     "output_type": "stream",
     "text": [
      "30.5 µs ± 91.4 ns per loop (mean ± std. dev. of 7 runs, 10,000 loops each)\n"
     ]
    }
   ],
   "source": [
    "%timeit t_cat(trees)"
   ]
  },
  {
   "cell_type": "code",
   "execution_count": 24,
   "id": "a3ab5c8f",
   "metadata": {
    "execution": {
     "iopub.execute_input": "2023-02-26T16:53:06.496095Z",
     "iopub.status.busy": "2023-02-26T16:53:06.495664Z",
     "iopub.status.idle": "2023-02-26T16:53:11.117412Z",
     "shell.execute_reply": "2023-02-26T16:53:11.115943Z"
    }
   },
   "outputs": [
    {
     "name": "stdout",
     "output_type": "stream",
     "text": [
      "56.8 µs ± 77.7 ns per loop (mean ± std. dev. of 7 runs, 10,000 loops each)\n"
     ]
    }
   ],
   "source": [
    "t_split = FastTreeValue.func(rise=True)(torch.split)\n",
    "tree = FastTreeValue({\n",
    "    'obs': torch.randn(8, 4, 84, 84),\n",
    "    'action': torch.randint(0, 6, size=(8, 1,)),\n",
    "    'reward': torch.rand(8, 1),\n",
    "})\n",
    "\n",
    "%timeit t_split(tree, 1)"
   ]
  },
  {
   "cell_type": "markdown",
   "id": "31c3ec0b",
   "metadata": {},
   "source": [
    "### Performance of Tianshou Batch"
   ]
  },
  {
   "cell_type": "code",
   "execution_count": 25,
   "id": "9ead828a",
   "metadata": {
    "execution": {
     "iopub.execute_input": "2023-02-26T16:53:11.120793Z",
     "iopub.status.busy": "2023-02-26T16:53:11.120268Z",
     "iopub.status.idle": "2023-02-26T16:53:11.128543Z",
     "shell.execute_reply": "2023-02-26T16:53:11.127906Z"
    }
   },
   "outputs": [
    {
     "data": {
      "text/plain": [
       "Batch(\n",
       "    a: tensor([[[ 0.7288,  0.5916,  0.8765],\n",
       "                [ 0.9317, -0.3995, -0.4256]],\n",
       "       \n",
       "               [[ 0.7288,  0.5916,  0.8765],\n",
       "                [ 0.9317, -0.3995, -0.4256]],\n",
       "       \n",
       "               [[ 0.7288,  0.5916,  0.8765],\n",
       "                [ 0.9317, -0.3995, -0.4256]],\n",
       "       \n",
       "               [[ 0.7288,  0.5916,  0.8765],\n",
       "                [ 0.9317, -0.3995, -0.4256]],\n",
       "       \n",
       "               [[ 0.7288,  0.5916,  0.8765],\n",
       "                [ 0.9317, -0.3995, -0.4256]],\n",
       "       \n",
       "               [[ 0.7288,  0.5916,  0.8765],\n",
       "                [ 0.9317, -0.3995, -0.4256]],\n",
       "       \n",
       "               [[ 0.7288,  0.5916,  0.8765],\n",
       "                [ 0.9317, -0.3995, -0.4256]],\n",
       "       \n",
       "               [[ 0.7288,  0.5916,  0.8765],\n",
       "                [ 0.9317, -0.3995, -0.4256]]]),\n",
       "    x: Batch(\n",
       "           c: tensor([[[ 0.1814, -0.3938,  1.3011, -0.2611],\n",
       "                       [ 0.5310, -0.3410,  1.9829, -0.6226],\n",
       "                       [-0.4469, -1.0084, -0.3082,  0.5617]],\n",
       "              \n",
       "                      [[ 0.1814, -0.3938,  1.3011, -0.2611],\n",
       "                       [ 0.5310, -0.3410,  1.9829, -0.6226],\n",
       "                       [-0.4469, -1.0084, -0.3082,  0.5617]],\n",
       "              \n",
       "                      [[ 0.1814, -0.3938,  1.3011, -0.2611],\n",
       "                       [ 0.5310, -0.3410,  1.9829, -0.6226],\n",
       "                       [-0.4469, -1.0084, -0.3082,  0.5617]],\n",
       "              \n",
       "                      [[ 0.1814, -0.3938,  1.3011, -0.2611],\n",
       "                       [ 0.5310, -0.3410,  1.9829, -0.6226],\n",
       "                       [-0.4469, -1.0084, -0.3082,  0.5617]],\n",
       "              \n",
       "                      [[ 0.1814, -0.3938,  1.3011, -0.2611],\n",
       "                       [ 0.5310, -0.3410,  1.9829, -0.6226],\n",
       "                       [-0.4469, -1.0084, -0.3082,  0.5617]],\n",
       "              \n",
       "                      [[ 0.1814, -0.3938,  1.3011, -0.2611],\n",
       "                       [ 0.5310, -0.3410,  1.9829, -0.6226],\n",
       "                       [-0.4469, -1.0084, -0.3082,  0.5617]],\n",
       "              \n",
       "                      [[ 0.1814, -0.3938,  1.3011, -0.2611],\n",
       "                       [ 0.5310, -0.3410,  1.9829, -0.6226],\n",
       "                       [-0.4469, -1.0084, -0.3082,  0.5617]],\n",
       "              \n",
       "                      [[ 0.1814, -0.3938,  1.3011, -0.2611],\n",
       "                       [ 0.5310, -0.3410,  1.9829, -0.6226],\n",
       "                       [-0.4469, -1.0084, -0.3082,  0.5617]]]),\n",
       "       ),\n",
       ")"
      ]
     },
     "execution_count": 25,
     "metadata": {},
     "output_type": "execute_result"
    }
   ],
   "source": [
    "batches = [Batch(**_TREE_DATA_2) for _ in range(8)]\n",
    "\n",
    "Batch.stack(batches)"
   ]
  },
  {
   "cell_type": "code",
   "execution_count": 26,
   "id": "ec9037a3",
   "metadata": {
    "execution": {
     "iopub.execute_input": "2023-02-26T16:53:11.131537Z",
     "iopub.status.busy": "2023-02-26T16:53:11.130950Z",
     "iopub.status.idle": "2023-02-26T16:53:17.476116Z",
     "shell.execute_reply": "2023-02-26T16:53:17.475211Z"
    }
   },
   "outputs": [
    {
     "name": "stdout",
     "output_type": "stream",
     "text": [
      "78.2 µs ± 502 ns per loop (mean ± std. dev. of 7 runs, 10,000 loops each)\n"
     ]
    }
   ],
   "source": [
    "%timeit Batch.stack(batches)"
   ]
  },
  {
   "cell_type": "code",
   "execution_count": 27,
   "id": "cb8ab77e",
   "metadata": {
    "execution": {
     "iopub.execute_input": "2023-02-26T16:53:17.479203Z",
     "iopub.status.busy": "2023-02-26T16:53:17.478700Z",
     "iopub.status.idle": "2023-02-26T16:53:17.487373Z",
     "shell.execute_reply": "2023-02-26T16:53:17.486714Z"
    }
   },
   "outputs": [
    {
     "data": {
      "text/plain": [
       "Batch(\n",
       "    a: tensor([[ 0.7288,  0.5916,  0.8765],\n",
       "               [ 0.9317, -0.3995, -0.4256],\n",
       "               [ 0.7288,  0.5916,  0.8765],\n",
       "               [ 0.9317, -0.3995, -0.4256],\n",
       "               [ 0.7288,  0.5916,  0.8765],\n",
       "               [ 0.9317, -0.3995, -0.4256],\n",
       "               [ 0.7288,  0.5916,  0.8765],\n",
       "               [ 0.9317, -0.3995, -0.4256],\n",
       "               [ 0.7288,  0.5916,  0.8765],\n",
       "               [ 0.9317, -0.3995, -0.4256],\n",
       "               [ 0.7288,  0.5916,  0.8765],\n",
       "               [ 0.9317, -0.3995, -0.4256],\n",
       "               [ 0.7288,  0.5916,  0.8765],\n",
       "               [ 0.9317, -0.3995, -0.4256],\n",
       "               [ 0.7288,  0.5916,  0.8765],\n",
       "               [ 0.9317, -0.3995, -0.4256]]),\n",
       "    x: Batch(\n",
       "           c: tensor([[ 0.1814, -0.3938,  1.3011, -0.2611],\n",
       "                      [ 0.5310, -0.3410,  1.9829, -0.6226],\n",
       "                      [-0.4469, -1.0084, -0.3082,  0.5617],\n",
       "                      [ 0.1814, -0.3938,  1.3011, -0.2611],\n",
       "                      [ 0.5310, -0.3410,  1.9829, -0.6226],\n",
       "                      [-0.4469, -1.0084, -0.3082,  0.5617],\n",
       "                      [ 0.1814, -0.3938,  1.3011, -0.2611],\n",
       "                      [ 0.5310, -0.3410,  1.9829, -0.6226],\n",
       "                      [-0.4469, -1.0084, -0.3082,  0.5617],\n",
       "                      [ 0.1814, -0.3938,  1.3011, -0.2611],\n",
       "                      [ 0.5310, -0.3410,  1.9829, -0.6226],\n",
       "                      [-0.4469, -1.0084, -0.3082,  0.5617],\n",
       "                      [ 0.1814, -0.3938,  1.3011, -0.2611],\n",
       "                      [ 0.5310, -0.3410,  1.9829, -0.6226],\n",
       "                      [-0.4469, -1.0084, -0.3082,  0.5617],\n",
       "                      [ 0.1814, -0.3938,  1.3011, -0.2611],\n",
       "                      [ 0.5310, -0.3410,  1.9829, -0.6226],\n",
       "                      [-0.4469, -1.0084, -0.3082,  0.5617],\n",
       "                      [ 0.1814, -0.3938,  1.3011, -0.2611],\n",
       "                      [ 0.5310, -0.3410,  1.9829, -0.6226],\n",
       "                      [-0.4469, -1.0084, -0.3082,  0.5617],\n",
       "                      [ 0.1814, -0.3938,  1.3011, -0.2611],\n",
       "                      [ 0.5310, -0.3410,  1.9829, -0.6226],\n",
       "                      [-0.4469, -1.0084, -0.3082,  0.5617]]),\n",
       "       ),\n",
       ")"
      ]
     },
     "execution_count": 27,
     "metadata": {},
     "output_type": "execute_result"
    }
   ],
   "source": [
    "Batch.cat(batches)"
   ]
  },
  {
   "cell_type": "code",
   "execution_count": 28,
   "id": "18dfb045",
   "metadata": {
    "execution": {
     "iopub.execute_input": "2023-02-26T16:53:17.490448Z",
     "iopub.status.busy": "2023-02-26T16:53:17.489990Z",
     "iopub.status.idle": "2023-02-26T16:53:29.168833Z",
     "shell.execute_reply": "2023-02-26T16:53:29.167905Z"
    }
   },
   "outputs": [
    {
     "name": "stdout",
     "output_type": "stream",
     "text": [
      "144 µs ± 247 ns per loop (mean ± std. dev. of 7 runs, 10,000 loops each)\n"
     ]
    }
   ],
   "source": [
    "%timeit Batch.cat(batches)"
   ]
  },
  {
   "cell_type": "code",
   "execution_count": 29,
   "id": "c6688e51",
   "metadata": {
    "execution": {
     "iopub.execute_input": "2023-02-26T16:53:29.172201Z",
     "iopub.status.busy": "2023-02-26T16:53:29.171724Z",
     "iopub.status.idle": "2023-02-26T16:53:31.929184Z",
     "shell.execute_reply": "2023-02-26T16:53:31.928524Z"
    }
   },
   "outputs": [
    {
     "name": "stdout",
     "output_type": "stream",
     "text": [
      "339 µs ± 2.5 µs per loop (mean ± std. dev. of 7 runs, 1,000 loops each)\n"
     ]
    }
   ],
   "source": [
    "batch = Batch({\n",
    "    'obs': torch.randn(8, 4, 84, 84),\n",
    "    'action': torch.randint(0, 6, size=(8, 1,)),\n",
    "    'reward': torch.rand(8, 1)}\n",
    ")\n",
    "\n",
    "%timeit list(Batch.split(batch, 1, shuffle=False, merge_last=True))"
   ]
  },
  {
   "cell_type": "code",
   "execution_count": null,
   "id": "2539fbd9",
   "metadata": {},
   "outputs": [],
   "source": []
  }
 ],
 "metadata": {
  "kernelspec": {
   "display_name": "Python 3 (ipykernel)",
   "language": "python",
   "name": "python3"
  },
  "language_info": {
   "codemirror_mode": {
    "name": "ipython",
    "version": 3
   },
   "file_extension": ".py",
   "mimetype": "text/x-python",
   "name": "python",
   "nbconvert_exporter": "python",
   "pygments_lexer": "ipython3",
   "version": "3.8.16"
  }
 },
 "nbformat": 4,
 "nbformat_minor": 5
}
