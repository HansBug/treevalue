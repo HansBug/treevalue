{
 "cells": [
  {
   "cell_type": "markdown",
   "id": "9d39d946",
   "metadata": {},
   "source": [
    "# Comparison Between TreeValue and Tianshou Batch"
   ]
  },
  {
   "cell_type": "markdown",
   "id": "3c6db2d4",
   "metadata": {},
   "source": [
    "In this section, we will take a look at the feature and performance of the [Tianshou Batch](https://github.com/thu-ml/tianshou) library, which is developed by Tsinghua Machine Learning Group."
   ]
  },
  {
   "cell_type": "markdown",
   "id": "069361b0",
   "metadata": {},
   "source": [
    "Before starting the comparison, let us define some thing."
   ]
  },
  {
   "cell_type": "code",
   "execution_count": 1,
   "id": "06fc8d26",
   "metadata": {
    "execution": {
     "iopub.execute_input": "2023-02-26T15:58:13.457020Z",
     "iopub.status.busy": "2023-02-26T15:58:13.456737Z",
     "iopub.status.idle": "2023-02-26T15:58:14.718301Z",
     "shell.execute_reply": "2023-02-26T15:58:14.717242Z"
    }
   },
   "outputs": [
    {
     "name": "stderr",
     "output_type": "stream",
     "text": [
      "/opt/hostedtoolcache/Python/3.8.16/x64/lib/python3.8/site-packages/tqdm/auto.py:22: TqdmWarning: IProgress not found. Please update jupyter and ipywidgets. See https://ipywidgets.readthedocs.io/en/stable/user_install.html\n",
      "  from .autonotebook import tqdm as notebook_tqdm\n"
     ]
    }
   ],
   "source": [
    "import torch \n",
    "\n",
    "_TREE_DATA_1 = {'a': 1, 'b': 2, 'x': {'c': 3, 'd': 4}}\n",
    "_TREE_DATA_2 = {\n",
    "    'a': torch.randn(2, 3), \n",
    "    'x': {\n",
    "        'c': torch.randn(3, 4)\n",
    "    },\n",
    "}\n",
    "_TREE_DATA_3 = {\n",
    "    'obs': torch.randn(4, 84, 84),\n",
    "    'action': torch.randint(0, 6, size=(1,)),\n",
    "    'reward': torch.rand(1),\n",
    "}"
   ]
  },
  {
   "cell_type": "markdown",
   "id": "83461b25",
   "metadata": {},
   "source": [
    "## Read and Write Operation"
   ]
  },
  {
   "cell_type": "markdown",
   "id": "067b3f73",
   "metadata": {},
   "source": [
    "Reading and writing are the two most common operations in the tree data structure based on the data model (TreeValue and Tianshou Batch both belong to this type), so this section will compare the reading and writing performance of these two libraries."
   ]
  },
  {
   "cell_type": "markdown",
   "id": "5d09a5b7",
   "metadata": {},
   "source": [
    "### TreeValue's Get and Set"
   ]
  },
  {
   "cell_type": "code",
   "execution_count": 2,
   "id": "9519c4bb",
   "metadata": {
    "execution": {
     "iopub.execute_input": "2023-02-26T15:58:14.722808Z",
     "iopub.status.busy": "2023-02-26T15:58:14.722040Z",
     "iopub.status.idle": "2023-02-26T15:58:15.141236Z",
     "shell.execute_reply": "2023-02-26T15:58:15.140124Z"
    }
   },
   "outputs": [],
   "source": [
    "from treevalue import FastTreeValue\n",
    "\n",
    "t = FastTreeValue(_TREE_DATA_2)"
   ]
  },
  {
   "cell_type": "code",
   "execution_count": 3,
   "id": "11c37677",
   "metadata": {
    "execution": {
     "iopub.execute_input": "2023-02-26T15:58:15.145501Z",
     "iopub.status.busy": "2023-02-26T15:58:15.145098Z",
     "iopub.status.idle": "2023-02-26T15:58:15.158529Z",
     "shell.execute_reply": "2023-02-26T15:58:15.157517Z"
    }
   },
   "outputs": [
    {
     "data": {
      "text/plain": [
       "<FastTreeValue 0x7fdd6ca9ff70>\n",
       "├── 'a' --> tensor([[ 0.2406,  0.4692, -0.6627],\n",
       "│                   [ 0.4707, -0.7689,  0.1866]])\n",
       "└── 'x' --> <FastTreeValue 0x7fdd6ca9feb0>\n",
       "    └── 'c' --> tensor([[-0.4983,  0.7586,  1.2614,  1.0815],\n",
       "                        [-0.2098,  0.7423, -0.7890,  2.3382],\n",
       "                        [ 0.6822,  2.6437,  0.1399,  0.2523]])"
      ]
     },
     "execution_count": 3,
     "metadata": {},
     "output_type": "execute_result"
    }
   ],
   "source": [
    "t"
   ]
  },
  {
   "cell_type": "code",
   "execution_count": 4,
   "id": "fd70b0b9",
   "metadata": {
    "execution": {
     "iopub.execute_input": "2023-02-26T15:58:15.162212Z",
     "iopub.status.busy": "2023-02-26T15:58:15.161900Z",
     "iopub.status.idle": "2023-02-26T15:58:15.170047Z",
     "shell.execute_reply": "2023-02-26T15:58:15.169146Z"
    }
   },
   "outputs": [
    {
     "data": {
      "text/plain": [
       "tensor([[ 0.2406,  0.4692, -0.6627],\n",
       "        [ 0.4707, -0.7689,  0.1866]])"
      ]
     },
     "execution_count": 4,
     "metadata": {},
     "output_type": "execute_result"
    }
   ],
   "source": [
    "t.a"
   ]
  },
  {
   "cell_type": "code",
   "execution_count": 5,
   "id": "c18197bd",
   "metadata": {
    "execution": {
     "iopub.execute_input": "2023-02-26T15:58:15.174025Z",
     "iopub.status.busy": "2023-02-26T15:58:15.173473Z",
     "iopub.status.idle": "2023-02-26T15:58:21.066290Z",
     "shell.execute_reply": "2023-02-26T15:58:21.065303Z"
    }
   },
   "outputs": [
    {
     "name": "stdout",
     "output_type": "stream",
     "text": [
      "72.5 ns ± 1.12 ns per loop (mean ± std. dev. of 7 runs, 10,000,000 loops each)\n"
     ]
    }
   ],
   "source": [
    "%timeit t.a"
   ]
  },
  {
   "cell_type": "code",
   "execution_count": 6,
   "id": "bd52f867",
   "metadata": {
    "execution": {
     "iopub.execute_input": "2023-02-26T15:58:21.070439Z",
     "iopub.status.busy": "2023-02-26T15:58:21.069959Z",
     "iopub.status.idle": "2023-02-26T15:58:21.079154Z",
     "shell.execute_reply": "2023-02-26T15:58:21.078251Z"
    }
   },
   "outputs": [
    {
     "data": {
      "text/plain": [
       "<FastTreeValue 0x7fdd6ca9ff70>\n",
       "├── 'a' --> tensor([[-0.5499, -0.0228, -0.9702],\n",
       "│                   [-0.9479,  0.3183,  0.1676]])\n",
       "└── 'x' --> <FastTreeValue 0x7fdd6ca9feb0>\n",
       "    └── 'c' --> tensor([[-0.4983,  0.7586,  1.2614,  1.0815],\n",
       "                        [-0.2098,  0.7423, -0.7890,  2.3382],\n",
       "                        [ 0.6822,  2.6437,  0.1399,  0.2523]])"
      ]
     },
     "execution_count": 6,
     "metadata": {},
     "output_type": "execute_result"
    }
   ],
   "source": [
    "new_value = torch.randn(2, 3)\n",
    "t.a = new_value\n",
    "\n",
    "t"
   ]
  },
  {
   "cell_type": "code",
   "execution_count": 7,
   "id": "bbe04d1c",
   "metadata": {
    "execution": {
     "iopub.execute_input": "2023-02-26T15:58:21.082740Z",
     "iopub.status.busy": "2023-02-26T15:58:21.082367Z",
     "iopub.status.idle": "2023-02-26T15:58:27.437657Z",
     "shell.execute_reply": "2023-02-26T15:58:27.436639Z"
    }
   },
   "outputs": [
    {
     "name": "stdout",
     "output_type": "stream",
     "text": [
      "78.2 ns ± 0.692 ns per loop (mean ± std. dev. of 7 runs, 10,000,000 loops each)\n"
     ]
    }
   ],
   "source": [
    "%timeit t.a = new_value"
   ]
  },
  {
   "cell_type": "markdown",
   "id": "48c49731",
   "metadata": {},
   "source": [
    "### Tianshou Batch's Get and Set"
   ]
  },
  {
   "cell_type": "code",
   "execution_count": 8,
   "id": "f1bb14c1",
   "metadata": {
    "execution": {
     "iopub.execute_input": "2023-02-26T15:58:27.442037Z",
     "iopub.status.busy": "2023-02-26T15:58:27.441616Z",
     "iopub.status.idle": "2023-02-26T15:58:27.892780Z",
     "shell.execute_reply": "2023-02-26T15:58:27.891631Z"
    }
   },
   "outputs": [],
   "source": [
    "from tianshou.data import Batch\n",
    "\n",
    "b = Batch(**_TREE_DATA_2)"
   ]
  },
  {
   "cell_type": "code",
   "execution_count": 9,
   "id": "cb0777c3",
   "metadata": {
    "execution": {
     "iopub.execute_input": "2023-02-26T15:58:27.897137Z",
     "iopub.status.busy": "2023-02-26T15:58:27.896716Z",
     "iopub.status.idle": "2023-02-26T15:58:27.905836Z",
     "shell.execute_reply": "2023-02-26T15:58:27.904831Z"
    }
   },
   "outputs": [
    {
     "data": {
      "text/plain": [
       "Batch(\n",
       "    a: tensor([[ 0.2406,  0.4692, -0.6627],\n",
       "               [ 0.4707, -0.7689,  0.1866]]),\n",
       "    x: Batch(\n",
       "           c: tensor([[-0.4983,  0.7586,  1.2614,  1.0815],\n",
       "                      [-0.2098,  0.7423, -0.7890,  2.3382],\n",
       "                      [ 0.6822,  2.6437,  0.1399,  0.2523]]),\n",
       "       ),\n",
       ")"
      ]
     },
     "execution_count": 9,
     "metadata": {},
     "output_type": "execute_result"
    }
   ],
   "source": [
    "b"
   ]
  },
  {
   "cell_type": "code",
   "execution_count": 10,
   "id": "43ef8ea3",
   "metadata": {
    "execution": {
     "iopub.execute_input": "2023-02-26T15:58:27.909363Z",
     "iopub.status.busy": "2023-02-26T15:58:27.909067Z",
     "iopub.status.idle": "2023-02-26T15:58:27.916632Z",
     "shell.execute_reply": "2023-02-26T15:58:27.915667Z"
    }
   },
   "outputs": [
    {
     "data": {
      "text/plain": [
       "tensor([[ 0.2406,  0.4692, -0.6627],\n",
       "        [ 0.4707, -0.7689,  0.1866]])"
      ]
     },
     "execution_count": 10,
     "metadata": {},
     "output_type": "execute_result"
    }
   ],
   "source": [
    "b.a"
   ]
  },
  {
   "cell_type": "code",
   "execution_count": 11,
   "id": "b785ab72",
   "metadata": {
    "execution": {
     "iopub.execute_input": "2023-02-26T15:58:27.919974Z",
     "iopub.status.busy": "2023-02-26T15:58:27.919674Z",
     "iopub.status.idle": "2023-02-26T15:58:33.283645Z",
     "shell.execute_reply": "2023-02-26T15:58:33.282612Z"
    }
   },
   "outputs": [
    {
     "name": "stdout",
     "output_type": "stream",
     "text": [
      "65.9 ns ± 0.885 ns per loop (mean ± std. dev. of 7 runs, 10,000,000 loops each)\n"
     ]
    }
   ],
   "source": [
    "%timeit b.a"
   ]
  },
  {
   "cell_type": "code",
   "execution_count": 12,
   "id": "ad54dc69",
   "metadata": {
    "execution": {
     "iopub.execute_input": "2023-02-26T15:58:33.287570Z",
     "iopub.status.busy": "2023-02-26T15:58:33.287265Z",
     "iopub.status.idle": "2023-02-26T15:58:33.296028Z",
     "shell.execute_reply": "2023-02-26T15:58:33.295027Z"
    }
   },
   "outputs": [
    {
     "data": {
      "text/plain": [
       "Batch(\n",
       "    a: tensor([[-2.2743,  1.0135, -1.6793],\n",
       "               [-3.4497, -1.2641,  0.2475]]),\n",
       "    x: Batch(\n",
       "           c: tensor([[-0.4983,  0.7586,  1.2614,  1.0815],\n",
       "                      [-0.2098,  0.7423, -0.7890,  2.3382],\n",
       "                      [ 0.6822,  2.6437,  0.1399,  0.2523]]),\n",
       "       ),\n",
       ")"
      ]
     },
     "execution_count": 12,
     "metadata": {},
     "output_type": "execute_result"
    }
   ],
   "source": [
    "new_value = torch.randn(2, 3)\n",
    "b.a = new_value\n",
    "\n",
    "b"
   ]
  },
  {
   "cell_type": "code",
   "execution_count": 13,
   "id": "29b1d0bf",
   "metadata": {
    "execution": {
     "iopub.execute_input": "2023-02-26T15:58:33.299774Z",
     "iopub.status.busy": "2023-02-26T15:58:33.299479Z",
     "iopub.status.idle": "2023-02-26T15:58:38.221774Z",
     "shell.execute_reply": "2023-02-26T15:58:38.220731Z"
    }
   },
   "outputs": [
    {
     "name": "stdout",
     "output_type": "stream",
     "text": [
      "607 ns ± 9.86 ns per loop (mean ± std. dev. of 7 runs, 1,000,000 loops each)\n"
     ]
    }
   ],
   "source": [
    "%timeit b.a = new_value"
   ]
  },
  {
   "cell_type": "markdown",
   "id": "b61ad1d0",
   "metadata": {},
   "source": [
    "## Initialization"
   ]
  },
  {
   "cell_type": "markdown",
   "id": "d70f0d54",
   "metadata": {},
   "source": [
    "### TreeValue's Initialization"
   ]
  },
  {
   "cell_type": "code",
   "execution_count": 14,
   "id": "d32a679b",
   "metadata": {
    "execution": {
     "iopub.execute_input": "2023-02-26T15:58:38.225892Z",
     "iopub.status.busy": "2023-02-26T15:58:38.225305Z",
     "iopub.status.idle": "2023-02-26T15:58:46.289454Z",
     "shell.execute_reply": "2023-02-26T15:58:46.288065Z"
    }
   },
   "outputs": [
    {
     "name": "stdout",
     "output_type": "stream",
     "text": [
      "994 ns ± 13.5 ns per loop (mean ± std. dev. of 7 runs, 1,000,000 loops each)\n"
     ]
    }
   ],
   "source": [
    "%timeit FastTreeValue(_TREE_DATA_1)"
   ]
  },
  {
   "cell_type": "markdown",
   "id": "24f3707b",
   "metadata": {},
   "source": [
    "### Tianshou Batch's Initialization"
   ]
  },
  {
   "cell_type": "code",
   "execution_count": 15,
   "id": "ac3958df",
   "metadata": {
    "execution": {
     "iopub.execute_input": "2023-02-26T15:58:46.292960Z",
     "iopub.status.busy": "2023-02-26T15:58:46.292450Z",
     "iopub.status.idle": "2023-02-26T15:58:57.205330Z",
     "shell.execute_reply": "2023-02-26T15:58:57.204333Z"
    }
   },
   "outputs": [
    {
     "name": "stdout",
     "output_type": "stream",
     "text": [
      "13.4 µs ± 188 ns per loop (mean ± std. dev. of 7 runs, 100,000 loops each)\n"
     ]
    }
   ],
   "source": [
    "%timeit Batch(**_TREE_DATA_1)"
   ]
  },
  {
   "cell_type": "markdown",
   "id": "1ab82e2d",
   "metadata": {},
   "source": [
    "## Deep Copy Operation"
   ]
  },
  {
   "cell_type": "code",
   "execution_count": 16,
   "id": "210a9442",
   "metadata": {
    "execution": {
     "iopub.execute_input": "2023-02-26T15:58:57.208960Z",
     "iopub.status.busy": "2023-02-26T15:58:57.208645Z",
     "iopub.status.idle": "2023-02-26T15:58:57.213607Z",
     "shell.execute_reply": "2023-02-26T15:58:57.212528Z"
    }
   },
   "outputs": [],
   "source": [
    "import copy"
   ]
  },
  {
   "cell_type": "markdown",
   "id": "5a736274",
   "metadata": {},
   "source": [
    "### Deep Copy of TreeValue"
   ]
  },
  {
   "cell_type": "code",
   "execution_count": 17,
   "id": "f9bcadd6",
   "metadata": {
    "execution": {
     "iopub.execute_input": "2023-02-26T15:58:57.217093Z",
     "iopub.status.busy": "2023-02-26T15:58:57.216613Z",
     "iopub.status.idle": "2023-02-26T15:58:59.598681Z",
     "shell.execute_reply": "2023-02-26T15:58:59.597813Z"
    }
   },
   "outputs": [
    {
     "name": "stdout",
     "output_type": "stream",
     "text": [
      "292 µs ± 5.76 µs per loop (mean ± std. dev. of 7 runs, 1,000 loops each)\n"
     ]
    }
   ],
   "source": [
    "t3 = FastTreeValue(_TREE_DATA_3)\n",
    "%timeit copy.deepcopy(t3)"
   ]
  },
  {
   "cell_type": "markdown",
   "id": "bf8be7ea",
   "metadata": {},
   "source": [
    "### Deep Copy of Tianshou Batch"
   ]
  },
  {
   "cell_type": "code",
   "execution_count": 18,
   "id": "91998e6f",
   "metadata": {
    "execution": {
     "iopub.execute_input": "2023-02-26T15:58:59.602561Z",
     "iopub.status.busy": "2023-02-26T15:58:59.601973Z",
     "iopub.status.idle": "2023-02-26T15:59:01.784429Z",
     "shell.execute_reply": "2023-02-26T15:59:01.783540Z"
    }
   },
   "outputs": [
    {
     "name": "stdout",
     "output_type": "stream",
     "text": [
      "269 µs ± 7.17 µs per loop (mean ± std. dev. of 7 runs, 1,000 loops each)\n"
     ]
    }
   ],
   "source": [
    "b3 = Batch(**_TREE_DATA_3)\n",
    "%timeit copy.deepcopy(b3)"
   ]
  },
  {
   "cell_type": "markdown",
   "id": "223162fb",
   "metadata": {},
   "source": [
    "## Stack, Concat and Split Operation"
   ]
  },
  {
   "cell_type": "markdown",
   "id": "85fa4a73",
   "metadata": {},
   "source": [
    "### Performance of TreeValue"
   ]
  },
  {
   "cell_type": "code",
   "execution_count": 19,
   "id": "a0c2b697",
   "metadata": {
    "execution": {
     "iopub.execute_input": "2023-02-26T15:59:01.788134Z",
     "iopub.status.busy": "2023-02-26T15:59:01.787824Z",
     "iopub.status.idle": "2023-02-26T15:59:01.793416Z",
     "shell.execute_reply": "2023-02-26T15:59:01.792447Z"
    }
   },
   "outputs": [],
   "source": [
    "trees = [FastTreeValue(_TREE_DATA_2) for _ in range(8)]"
   ]
  },
  {
   "cell_type": "code",
   "execution_count": 20,
   "id": "017ea5a5",
   "metadata": {
    "execution": {
     "iopub.execute_input": "2023-02-26T15:59:01.796716Z",
     "iopub.status.busy": "2023-02-26T15:59:01.796396Z",
     "iopub.status.idle": "2023-02-26T15:59:01.806036Z",
     "shell.execute_reply": "2023-02-26T15:59:01.805053Z"
    }
   },
   "outputs": [
    {
     "data": {
      "text/plain": [
       "<FastTreeValue 0x7fdcbe9a7f70>\n",
       "├── 'a' --> tensor([[[ 0.2406,  0.4692, -0.6627],\n",
       "│                    [ 0.4707, -0.7689,  0.1866]],\n",
       "│           \n",
       "│                   [[ 0.2406,  0.4692, -0.6627],\n",
       "│                    [ 0.4707, -0.7689,  0.1866]],\n",
       "│           \n",
       "│                   [[ 0.2406,  0.4692, -0.6627],\n",
       "│                    [ 0.4707, -0.7689,  0.1866]],\n",
       "│           \n",
       "│                   [[ 0.2406,  0.4692, -0.6627],\n",
       "│                    [ 0.4707, -0.7689,  0.1866]],\n",
       "│           \n",
       "│                   [[ 0.2406,  0.4692, -0.6627],\n",
       "│                    [ 0.4707, -0.7689,  0.1866]],\n",
       "│           \n",
       "│                   [[ 0.2406,  0.4692, -0.6627],\n",
       "│                    [ 0.4707, -0.7689,  0.1866]],\n",
       "│           \n",
       "│                   [[ 0.2406,  0.4692, -0.6627],\n",
       "│                    [ 0.4707, -0.7689,  0.1866]],\n",
       "│           \n",
       "│                   [[ 0.2406,  0.4692, -0.6627],\n",
       "│                    [ 0.4707, -0.7689,  0.1866]]])\n",
       "└── 'x' --> <FastTreeValue 0x7fdd6ca66430>\n",
       "    └── 'c' --> tensor([[[-0.4983,  0.7586,  1.2614,  1.0815],\n",
       "                         [-0.2098,  0.7423, -0.7890,  2.3382],\n",
       "                         [ 0.6822,  2.6437,  0.1399,  0.2523]],\n",
       "                \n",
       "                        [[-0.4983,  0.7586,  1.2614,  1.0815],\n",
       "                         [-0.2098,  0.7423, -0.7890,  2.3382],\n",
       "                         [ 0.6822,  2.6437,  0.1399,  0.2523]],\n",
       "                \n",
       "                        [[-0.4983,  0.7586,  1.2614,  1.0815],\n",
       "                         [-0.2098,  0.7423, -0.7890,  2.3382],\n",
       "                         [ 0.6822,  2.6437,  0.1399,  0.2523]],\n",
       "                \n",
       "                        [[-0.4983,  0.7586,  1.2614,  1.0815],\n",
       "                         [-0.2098,  0.7423, -0.7890,  2.3382],\n",
       "                         [ 0.6822,  2.6437,  0.1399,  0.2523]],\n",
       "                \n",
       "                        [[-0.4983,  0.7586,  1.2614,  1.0815],\n",
       "                         [-0.2098,  0.7423, -0.7890,  2.3382],\n",
       "                         [ 0.6822,  2.6437,  0.1399,  0.2523]],\n",
       "                \n",
       "                        [[-0.4983,  0.7586,  1.2614,  1.0815],\n",
       "                         [-0.2098,  0.7423, -0.7890,  2.3382],\n",
       "                         [ 0.6822,  2.6437,  0.1399,  0.2523]],\n",
       "                \n",
       "                        [[-0.4983,  0.7586,  1.2614,  1.0815],\n",
       "                         [-0.2098,  0.7423, -0.7890,  2.3382],\n",
       "                         [ 0.6822,  2.6437,  0.1399,  0.2523]],\n",
       "                \n",
       "                        [[-0.4983,  0.7586,  1.2614,  1.0815],\n",
       "                         [-0.2098,  0.7423, -0.7890,  2.3382],\n",
       "                         [ 0.6822,  2.6437,  0.1399,  0.2523]]])"
      ]
     },
     "execution_count": 20,
     "metadata": {},
     "output_type": "execute_result"
    }
   ],
   "source": [
    "t_stack = FastTreeValue.func(subside=True)(torch.stack)\n",
    "\n",
    "t_stack(trees)"
   ]
  },
  {
   "cell_type": "code",
   "execution_count": 21,
   "id": "f8b3f415",
   "metadata": {
    "execution": {
     "iopub.execute_input": "2023-02-26T15:59:01.809272Z",
     "iopub.status.busy": "2023-02-26T15:59:01.808973Z",
     "iopub.status.idle": "2023-02-26T15:59:05.450218Z",
     "shell.execute_reply": "2023-02-26T15:59:05.449242Z"
    }
   },
   "outputs": [
    {
     "name": "stdout",
     "output_type": "stream",
     "text": [
      "44.7 µs ± 962 ns per loop (mean ± std. dev. of 7 runs, 10,000 loops each)\n"
     ]
    }
   ],
   "source": [
    "%timeit t_stack(trees)"
   ]
  },
  {
   "cell_type": "code",
   "execution_count": 22,
   "id": "94b56771",
   "metadata": {
    "execution": {
     "iopub.execute_input": "2023-02-26T15:59:05.453986Z",
     "iopub.status.busy": "2023-02-26T15:59:05.453432Z",
     "iopub.status.idle": "2023-02-26T15:59:05.463276Z",
     "shell.execute_reply": "2023-02-26T15:59:05.462036Z"
    }
   },
   "outputs": [
    {
     "data": {
      "text/plain": [
       "<FastTreeValue 0x7fdd6ca98b80>\n",
       "├── 'a' --> tensor([[ 0.2406,  0.4692, -0.6627],\n",
       "│                   [ 0.4707, -0.7689,  0.1866],\n",
       "│                   [ 0.2406,  0.4692, -0.6627],\n",
       "│                   [ 0.4707, -0.7689,  0.1866],\n",
       "│                   [ 0.2406,  0.4692, -0.6627],\n",
       "│                   [ 0.4707, -0.7689,  0.1866],\n",
       "│                   [ 0.2406,  0.4692, -0.6627],\n",
       "│                   [ 0.4707, -0.7689,  0.1866],\n",
       "│                   [ 0.2406,  0.4692, -0.6627],\n",
       "│                   [ 0.4707, -0.7689,  0.1866],\n",
       "│                   [ 0.2406,  0.4692, -0.6627],\n",
       "│                   [ 0.4707, -0.7689,  0.1866],\n",
       "│                   [ 0.2406,  0.4692, -0.6627],\n",
       "│                   [ 0.4707, -0.7689,  0.1866],\n",
       "│                   [ 0.2406,  0.4692, -0.6627],\n",
       "│                   [ 0.4707, -0.7689,  0.1866]])\n",
       "└── 'x' --> <FastTreeValue 0x7fdcb6d6bf40>\n",
       "    └── 'c' --> tensor([[-0.4983,  0.7586,  1.2614,  1.0815],\n",
       "                        [-0.2098,  0.7423, -0.7890,  2.3382],\n",
       "                        [ 0.6822,  2.6437,  0.1399,  0.2523],\n",
       "                        [-0.4983,  0.7586,  1.2614,  1.0815],\n",
       "                        [-0.2098,  0.7423, -0.7890,  2.3382],\n",
       "                        [ 0.6822,  2.6437,  0.1399,  0.2523],\n",
       "                        [-0.4983,  0.7586,  1.2614,  1.0815],\n",
       "                        [-0.2098,  0.7423, -0.7890,  2.3382],\n",
       "                        [ 0.6822,  2.6437,  0.1399,  0.2523],\n",
       "                        [-0.4983,  0.7586,  1.2614,  1.0815],\n",
       "                        [-0.2098,  0.7423, -0.7890,  2.3382],\n",
       "                        [ 0.6822,  2.6437,  0.1399,  0.2523],\n",
       "                        [-0.4983,  0.7586,  1.2614,  1.0815],\n",
       "                        [-0.2098,  0.7423, -0.7890,  2.3382],\n",
       "                        [ 0.6822,  2.6437,  0.1399,  0.2523],\n",
       "                        [-0.4983,  0.7586,  1.2614,  1.0815],\n",
       "                        [-0.2098,  0.7423, -0.7890,  2.3382],\n",
       "                        [ 0.6822,  2.6437,  0.1399,  0.2523],\n",
       "                        [-0.4983,  0.7586,  1.2614,  1.0815],\n",
       "                        [-0.2098,  0.7423, -0.7890,  2.3382],\n",
       "                        [ 0.6822,  2.6437,  0.1399,  0.2523],\n",
       "                        [-0.4983,  0.7586,  1.2614,  1.0815],\n",
       "                        [-0.2098,  0.7423, -0.7890,  2.3382],\n",
       "                        [ 0.6822,  2.6437,  0.1399,  0.2523]])"
      ]
     },
     "execution_count": 22,
     "metadata": {},
     "output_type": "execute_result"
    }
   ],
   "source": [
    "t_cat = FastTreeValue.func(subside=True)(torch.cat)\n",
    "\n",
    "t_cat(trees)"
   ]
  },
  {
   "cell_type": "code",
   "execution_count": 23,
   "id": "5e9c06a6",
   "metadata": {
    "execution": {
     "iopub.execute_input": "2023-02-26T15:59:05.466885Z",
     "iopub.status.busy": "2023-02-26T15:59:05.466289Z",
     "iopub.status.idle": "2023-02-26T15:59:08.884616Z",
     "shell.execute_reply": "2023-02-26T15:59:08.883522Z"
    }
   },
   "outputs": [
    {
     "name": "stdout",
     "output_type": "stream",
     "text": [
      "42.2 µs ± 785 ns per loop (mean ± std. dev. of 7 runs, 10,000 loops each)\n"
     ]
    }
   ],
   "source": [
    "%timeit t_cat(trees)"
   ]
  },
  {
   "cell_type": "code",
   "execution_count": 24,
   "id": "a3ab5c8f",
   "metadata": {
    "execution": {
     "iopub.execute_input": "2023-02-26T15:59:08.888596Z",
     "iopub.status.busy": "2023-02-26T15:59:08.888016Z",
     "iopub.status.idle": "2023-02-26T15:59:15.247847Z",
     "shell.execute_reply": "2023-02-26T15:59:15.246828Z"
    }
   },
   "outputs": [
    {
     "name": "stdout",
     "output_type": "stream",
     "text": [
      "78.5 µs ± 1.1 µs per loop (mean ± std. dev. of 7 runs, 10,000 loops each)\n"
     ]
    }
   ],
   "source": [
    "t_split = FastTreeValue.func(rise=True)(torch.split)\n",
    "tree = FastTreeValue({\n",
    "    'obs': torch.randn(8, 4, 84, 84),\n",
    "    'action': torch.randint(0, 6, size=(8, 1,)),\n",
    "    'reward': torch.rand(8, 1),\n",
    "})\n",
    "\n",
    "%timeit t_split(tree, 1)"
   ]
  },
  {
   "cell_type": "markdown",
   "id": "31c3ec0b",
   "metadata": {},
   "source": [
    "### Performance of Tianshou Batch"
   ]
  },
  {
   "cell_type": "code",
   "execution_count": 25,
   "id": "9ead828a",
   "metadata": {
    "execution": {
     "iopub.execute_input": "2023-02-26T15:59:15.251398Z",
     "iopub.status.busy": "2023-02-26T15:59:15.250964Z",
     "iopub.status.idle": "2023-02-26T15:59:15.261641Z",
     "shell.execute_reply": "2023-02-26T15:59:15.260617Z"
    }
   },
   "outputs": [
    {
     "data": {
      "text/plain": [
       "Batch(\n",
       "    a: tensor([[[ 0.2406,  0.4692, -0.6627],\n",
       "                [ 0.4707, -0.7689,  0.1866]],\n",
       "       \n",
       "               [[ 0.2406,  0.4692, -0.6627],\n",
       "                [ 0.4707, -0.7689,  0.1866]],\n",
       "       \n",
       "               [[ 0.2406,  0.4692, -0.6627],\n",
       "                [ 0.4707, -0.7689,  0.1866]],\n",
       "       \n",
       "               [[ 0.2406,  0.4692, -0.6627],\n",
       "                [ 0.4707, -0.7689,  0.1866]],\n",
       "       \n",
       "               [[ 0.2406,  0.4692, -0.6627],\n",
       "                [ 0.4707, -0.7689,  0.1866]],\n",
       "       \n",
       "               [[ 0.2406,  0.4692, -0.6627],\n",
       "                [ 0.4707, -0.7689,  0.1866]],\n",
       "       \n",
       "               [[ 0.2406,  0.4692, -0.6627],\n",
       "                [ 0.4707, -0.7689,  0.1866]],\n",
       "       \n",
       "               [[ 0.2406,  0.4692, -0.6627],\n",
       "                [ 0.4707, -0.7689,  0.1866]]]),\n",
       "    x: Batch(\n",
       "           c: tensor([[[-0.4983,  0.7586,  1.2614,  1.0815],\n",
       "                       [-0.2098,  0.7423, -0.7890,  2.3382],\n",
       "                       [ 0.6822,  2.6437,  0.1399,  0.2523]],\n",
       "              \n",
       "                      [[-0.4983,  0.7586,  1.2614,  1.0815],\n",
       "                       [-0.2098,  0.7423, -0.7890,  2.3382],\n",
       "                       [ 0.6822,  2.6437,  0.1399,  0.2523]],\n",
       "              \n",
       "                      [[-0.4983,  0.7586,  1.2614,  1.0815],\n",
       "                       [-0.2098,  0.7423, -0.7890,  2.3382],\n",
       "                       [ 0.6822,  2.6437,  0.1399,  0.2523]],\n",
       "              \n",
       "                      [[-0.4983,  0.7586,  1.2614,  1.0815],\n",
       "                       [-0.2098,  0.7423, -0.7890,  2.3382],\n",
       "                       [ 0.6822,  2.6437,  0.1399,  0.2523]],\n",
       "              \n",
       "                      [[-0.4983,  0.7586,  1.2614,  1.0815],\n",
       "                       [-0.2098,  0.7423, -0.7890,  2.3382],\n",
       "                       [ 0.6822,  2.6437,  0.1399,  0.2523]],\n",
       "              \n",
       "                      [[-0.4983,  0.7586,  1.2614,  1.0815],\n",
       "                       [-0.2098,  0.7423, -0.7890,  2.3382],\n",
       "                       [ 0.6822,  2.6437,  0.1399,  0.2523]],\n",
       "              \n",
       "                      [[-0.4983,  0.7586,  1.2614,  1.0815],\n",
       "                       [-0.2098,  0.7423, -0.7890,  2.3382],\n",
       "                       [ 0.6822,  2.6437,  0.1399,  0.2523]],\n",
       "              \n",
       "                      [[-0.4983,  0.7586,  1.2614,  1.0815],\n",
       "                       [-0.2098,  0.7423, -0.7890,  2.3382],\n",
       "                       [ 0.6822,  2.6437,  0.1399,  0.2523]]]),\n",
       "       ),\n",
       ")"
      ]
     },
     "execution_count": 25,
     "metadata": {},
     "output_type": "execute_result"
    }
   ],
   "source": [
    "batches = [Batch(**_TREE_DATA_2) for _ in range(8)]\n",
    "\n",
    "Batch.stack(batches)"
   ]
  },
  {
   "cell_type": "code",
   "execution_count": 26,
   "id": "ec9037a3",
   "metadata": {
    "execution": {
     "iopub.execute_input": "2023-02-26T15:59:15.265143Z",
     "iopub.status.busy": "2023-02-26T15:59:15.264706Z",
     "iopub.status.idle": "2023-02-26T15:59:23.770534Z",
     "shell.execute_reply": "2023-02-26T15:59:23.769569Z"
    }
   },
   "outputs": [
    {
     "name": "stdout",
     "output_type": "stream",
     "text": [
      "105 µs ± 2.99 µs per loop (mean ± std. dev. of 7 runs, 10,000 loops each)\n"
     ]
    }
   ],
   "source": [
    "%timeit Batch.stack(batches)"
   ]
  },
  {
   "cell_type": "code",
   "execution_count": 27,
   "id": "cb8ab77e",
   "metadata": {
    "execution": {
     "iopub.execute_input": "2023-02-26T15:59:23.773954Z",
     "iopub.status.busy": "2023-02-26T15:59:23.773388Z",
     "iopub.status.idle": "2023-02-26T15:59:23.783437Z",
     "shell.execute_reply": "2023-02-26T15:59:23.782403Z"
    }
   },
   "outputs": [
    {
     "data": {
      "text/plain": [
       "Batch(\n",
       "    a: tensor([[ 0.2406,  0.4692, -0.6627],\n",
       "               [ 0.4707, -0.7689,  0.1866],\n",
       "               [ 0.2406,  0.4692, -0.6627],\n",
       "               [ 0.4707, -0.7689,  0.1866],\n",
       "               [ 0.2406,  0.4692, -0.6627],\n",
       "               [ 0.4707, -0.7689,  0.1866],\n",
       "               [ 0.2406,  0.4692, -0.6627],\n",
       "               [ 0.4707, -0.7689,  0.1866],\n",
       "               [ 0.2406,  0.4692, -0.6627],\n",
       "               [ 0.4707, -0.7689,  0.1866],\n",
       "               [ 0.2406,  0.4692, -0.6627],\n",
       "               [ 0.4707, -0.7689,  0.1866],\n",
       "               [ 0.2406,  0.4692, -0.6627],\n",
       "               [ 0.4707, -0.7689,  0.1866],\n",
       "               [ 0.2406,  0.4692, -0.6627],\n",
       "               [ 0.4707, -0.7689,  0.1866]]),\n",
       "    x: Batch(\n",
       "           c: tensor([[-0.4983,  0.7586,  1.2614,  1.0815],\n",
       "                      [-0.2098,  0.7423, -0.7890,  2.3382],\n",
       "                      [ 0.6822,  2.6437,  0.1399,  0.2523],\n",
       "                      [-0.4983,  0.7586,  1.2614,  1.0815],\n",
       "                      [-0.2098,  0.7423, -0.7890,  2.3382],\n",
       "                      [ 0.6822,  2.6437,  0.1399,  0.2523],\n",
       "                      [-0.4983,  0.7586,  1.2614,  1.0815],\n",
       "                      [-0.2098,  0.7423, -0.7890,  2.3382],\n",
       "                      [ 0.6822,  2.6437,  0.1399,  0.2523],\n",
       "                      [-0.4983,  0.7586,  1.2614,  1.0815],\n",
       "                      [-0.2098,  0.7423, -0.7890,  2.3382],\n",
       "                      [ 0.6822,  2.6437,  0.1399,  0.2523],\n",
       "                      [-0.4983,  0.7586,  1.2614,  1.0815],\n",
       "                      [-0.2098,  0.7423, -0.7890,  2.3382],\n",
       "                      [ 0.6822,  2.6437,  0.1399,  0.2523],\n",
       "                      [-0.4983,  0.7586,  1.2614,  1.0815],\n",
       "                      [-0.2098,  0.7423, -0.7890,  2.3382],\n",
       "                      [ 0.6822,  2.6437,  0.1399,  0.2523],\n",
       "                      [-0.4983,  0.7586,  1.2614,  1.0815],\n",
       "                      [-0.2098,  0.7423, -0.7890,  2.3382],\n",
       "                      [ 0.6822,  2.6437,  0.1399,  0.2523],\n",
       "                      [-0.4983,  0.7586,  1.2614,  1.0815],\n",
       "                      [-0.2098,  0.7423, -0.7890,  2.3382],\n",
       "                      [ 0.6822,  2.6437,  0.1399,  0.2523]]),\n",
       "       ),\n",
       ")"
      ]
     },
     "execution_count": 27,
     "metadata": {},
     "output_type": "execute_result"
    }
   ],
   "source": [
    "Batch.cat(batches)"
   ]
  },
  {
   "cell_type": "code",
   "execution_count": 28,
   "id": "18dfb045",
   "metadata": {
    "execution": {
     "iopub.execute_input": "2023-02-26T15:59:23.787032Z",
     "iopub.status.busy": "2023-02-26T15:59:23.786746Z",
     "iopub.status.idle": "2023-02-26T15:59:38.480878Z",
     "shell.execute_reply": "2023-02-26T15:59:38.479724Z"
    }
   },
   "outputs": [
    {
     "name": "stdout",
     "output_type": "stream",
     "text": [
      "181 µs ± 1.74 µs per loop (mean ± std. dev. of 7 runs, 10,000 loops each)\n"
     ]
    }
   ],
   "source": [
    "%timeit Batch.cat(batches)"
   ]
  },
  {
   "cell_type": "code",
   "execution_count": 29,
   "id": "c6688e51",
   "metadata": {
    "execution": {
     "iopub.execute_input": "2023-02-26T15:59:38.484474Z",
     "iopub.status.busy": "2023-02-26T15:59:38.484161Z",
     "iopub.status.idle": "2023-02-26T15:59:43.004107Z",
     "shell.execute_reply": "2023-02-26T15:59:43.003204Z"
    }
   },
   "outputs": [
    {
     "name": "stdout",
     "output_type": "stream",
     "text": [
      "557 µs ± 9.37 µs per loop (mean ± std. dev. of 7 runs, 1,000 loops each)\n"
     ]
    }
   ],
   "source": [
    "batch = Batch({\n",
    "    'obs': torch.randn(8, 4, 84, 84),\n",
    "    'action': torch.randint(0, 6, size=(8, 1,)),\n",
    "    'reward': torch.rand(8, 1)}\n",
    ")\n",
    "\n",
    "%timeit list(Batch.split(batch, 1, shuffle=False, merge_last=True))"
   ]
  },
  {
   "cell_type": "code",
   "execution_count": null,
   "id": "2539fbd9",
   "metadata": {},
   "outputs": [],
   "source": []
  }
 ],
 "metadata": {
  "kernelspec": {
   "display_name": "Python 3 (ipykernel)",
   "language": "python",
   "name": "python3"
  },
  "language_info": {
   "codemirror_mode": {
    "name": "ipython",
    "version": 3
   },
   "file_extension": ".py",
   "mimetype": "text/x-python",
   "name": "python",
   "nbconvert_exporter": "python",
   "pygments_lexer": "ipython3",
   "version": "3.8.16"
  }
 },
 "nbformat": 4,
 "nbformat_minor": 5
}
