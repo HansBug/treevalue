{
 "cells": [
  {
   "cell_type": "markdown",
   "id": "9d39d946",
   "metadata": {},
   "source": [
    "# Comparison Between TreeValue and Tianshou Batch"
   ]
  },
  {
   "cell_type": "markdown",
   "id": "3c6db2d4",
   "metadata": {},
   "source": [
    "In this section, we will take a look at the feature and performance of the [Tianshou Batch](https://github.com/thu-ml/tianshou) library, which is developed by Tsinghua Machine Learning Group."
   ]
  },
  {
   "cell_type": "markdown",
   "id": "069361b0",
   "metadata": {},
   "source": [
    "Before starting the comparison, let us define some thing."
   ]
  },
  {
   "cell_type": "code",
   "execution_count": 1,
   "id": "06fc8d26",
   "metadata": {
    "execution": {
     "iopub.execute_input": "2023-02-27T12:44:25.636315Z",
     "iopub.status.busy": "2023-02-27T12:44:25.636075Z",
     "iopub.status.idle": "2023-02-27T12:44:26.615861Z",
     "shell.execute_reply": "2023-02-27T12:44:26.614545Z"
    }
   },
   "outputs": [
    {
     "name": "stderr",
     "output_type": "stream",
     "text": [
      "/opt/hostedtoolcache/Python/3.8.16/x64/lib/python3.8/site-packages/tqdm/auto.py:22: TqdmWarning: IProgress not found. Please update jupyter and ipywidgets. See https://ipywidgets.readthedocs.io/en/stable/user_install.html\n",
      "  from .autonotebook import tqdm as notebook_tqdm\n"
     ]
    }
   ],
   "source": [
    "import torch \n",
    "\n",
    "_TREE_DATA_1 = {'a': 1, 'b': 2, 'x': {'c': 3, 'd': 4}}\n",
    "_TREE_DATA_2 = {\n",
    "    'a': torch.randn(2, 3), \n",
    "    'x': {\n",
    "        'c': torch.randn(3, 4)\n",
    "    },\n",
    "}\n",
    "_TREE_DATA_3 = {\n",
    "    'obs': torch.randn(4, 84, 84),\n",
    "    'action': torch.randint(0, 6, size=(1,)),\n",
    "    'reward': torch.rand(1),\n",
    "}"
   ]
  },
  {
   "cell_type": "markdown",
   "id": "83461b25",
   "metadata": {},
   "source": [
    "## Read and Write Operation"
   ]
  },
  {
   "cell_type": "markdown",
   "id": "067b3f73",
   "metadata": {},
   "source": [
    "Reading and writing are the two most common operations in the tree data structure based on the data model (TreeValue and Tianshou Batch both belong to this type), so this section will compare the reading and writing performance of these two libraries."
   ]
  },
  {
   "cell_type": "markdown",
   "id": "5d09a5b7",
   "metadata": {},
   "source": [
    "### TreeValue's Get and Set"
   ]
  },
  {
   "cell_type": "code",
   "execution_count": 2,
   "id": "9519c4bb",
   "metadata": {
    "execution": {
     "iopub.execute_input": "2023-02-27T12:44:26.620186Z",
     "iopub.status.busy": "2023-02-27T12:44:26.619353Z",
     "iopub.status.idle": "2023-02-27T12:44:26.910747Z",
     "shell.execute_reply": "2023-02-27T12:44:26.909485Z"
    }
   },
   "outputs": [],
   "source": [
    "from treevalue import FastTreeValue\n",
    "\n",
    "t = FastTreeValue(_TREE_DATA_2)"
   ]
  },
  {
   "cell_type": "code",
   "execution_count": 3,
   "id": "11c37677",
   "metadata": {
    "execution": {
     "iopub.execute_input": "2023-02-27T12:44:26.914546Z",
     "iopub.status.busy": "2023-02-27T12:44:26.914060Z",
     "iopub.status.idle": "2023-02-27T12:44:26.924592Z",
     "shell.execute_reply": "2023-02-27T12:44:26.923399Z"
    }
   },
   "outputs": [
    {
     "data": {
      "text/plain": [
       "<FastTreeValue 0x7fed6cd4a100>\n",
       "├── 'a' --> tensor([[ 0.9889, -0.3573,  0.5165],\n",
       "│                   [ 1.5832, -0.6554, -0.5770]])\n",
       "└── 'x' --> <FastTreeValue 0x7fed6cd4a280>\n",
       "    └── 'c' --> tensor([[-0.1608,  0.0706, -0.1903,  0.0179],\n",
       "                        [ 0.1710, -0.3235, -1.7786, -1.3428],\n",
       "                        [-2.3486, -0.1342,  0.2478, -0.5605]])"
      ]
     },
     "execution_count": 3,
     "metadata": {},
     "output_type": "execute_result"
    }
   ],
   "source": [
    "t"
   ]
  },
  {
   "cell_type": "code",
   "execution_count": 4,
   "id": "fd70b0b9",
   "metadata": {
    "execution": {
     "iopub.execute_input": "2023-02-27T12:44:26.927357Z",
     "iopub.status.busy": "2023-02-27T12:44:26.926940Z",
     "iopub.status.idle": "2023-02-27T12:44:26.931736Z",
     "shell.execute_reply": "2023-02-27T12:44:26.931079Z"
    }
   },
   "outputs": [
    {
     "data": {
      "text/plain": [
       "tensor([[ 0.9889, -0.3573,  0.5165],\n",
       "        [ 1.5832, -0.6554, -0.5770]])"
      ]
     },
     "execution_count": 4,
     "metadata": {},
     "output_type": "execute_result"
    }
   ],
   "source": [
    "t.a"
   ]
  },
  {
   "cell_type": "code",
   "execution_count": 5,
   "id": "c18197bd",
   "metadata": {
    "execution": {
     "iopub.execute_input": "2023-02-27T12:44:26.934219Z",
     "iopub.status.busy": "2023-02-27T12:44:26.933872Z",
     "iopub.status.idle": "2023-02-27T12:44:32.226350Z",
     "shell.execute_reply": "2023-02-27T12:44:32.225473Z"
    }
   },
   "outputs": [
    {
     "name": "stdout",
     "output_type": "stream",
     "text": [
      "65.2 ns ± 0.0672 ns per loop (mean ± std. dev. of 7 runs, 10,000,000 loops each)\n"
     ]
    }
   ],
   "source": [
    "%timeit t.a"
   ]
  },
  {
   "cell_type": "code",
   "execution_count": 6,
   "id": "bd52f867",
   "metadata": {
    "execution": {
     "iopub.execute_input": "2023-02-27T12:44:32.230024Z",
     "iopub.status.busy": "2023-02-27T12:44:32.229372Z",
     "iopub.status.idle": "2023-02-27T12:44:32.235952Z",
     "shell.execute_reply": "2023-02-27T12:44:32.235262Z"
    }
   },
   "outputs": [
    {
     "data": {
      "text/plain": [
       "<FastTreeValue 0x7fed6cd4a100>\n",
       "├── 'a' --> tensor([[-1.0206,  0.0066,  0.2278],\n",
       "│                   [ 1.8044,  1.2723,  1.1998]])\n",
       "└── 'x' --> <FastTreeValue 0x7fed6cd4a280>\n",
       "    └── 'c' --> tensor([[-0.1608,  0.0706, -0.1903,  0.0179],\n",
       "                        [ 0.1710, -0.3235, -1.7786, -1.3428],\n",
       "                        [-2.3486, -0.1342,  0.2478, -0.5605]])"
      ]
     },
     "execution_count": 6,
     "metadata": {},
     "output_type": "execute_result"
    }
   ],
   "source": [
    "new_value = torch.randn(2, 3)\n",
    "t.a = new_value\n",
    "\n",
    "t"
   ]
  },
  {
   "cell_type": "code",
   "execution_count": 7,
   "id": "bbe04d1c",
   "metadata": {
    "execution": {
     "iopub.execute_input": "2023-02-27T12:44:32.238895Z",
     "iopub.status.busy": "2023-02-27T12:44:32.238511Z",
     "iopub.status.idle": "2023-02-27T12:44:37.781701Z",
     "shell.execute_reply": "2023-02-27T12:44:37.780845Z"
    }
   },
   "outputs": [
    {
     "name": "stdout",
     "output_type": "stream",
     "text": [
      "68.3 ns ± 0.135 ns per loop (mean ± std. dev. of 7 runs, 10,000,000 loops each)\n"
     ]
    }
   ],
   "source": [
    "%timeit t.a = new_value"
   ]
  },
  {
   "cell_type": "markdown",
   "id": "48c49731",
   "metadata": {},
   "source": [
    "### Tianshou Batch's Get and Set"
   ]
  },
  {
   "cell_type": "code",
   "execution_count": 8,
   "id": "f1bb14c1",
   "metadata": {
    "execution": {
     "iopub.execute_input": "2023-02-27T12:44:37.785295Z",
     "iopub.status.busy": "2023-02-27T12:44:37.784882Z",
     "iopub.status.idle": "2023-02-27T12:44:38.150780Z",
     "shell.execute_reply": "2023-02-27T12:44:38.150018Z"
    }
   },
   "outputs": [],
   "source": [
    "from tianshou.data import Batch\n",
    "\n",
    "b = Batch(**_TREE_DATA_2)"
   ]
  },
  {
   "cell_type": "code",
   "execution_count": 9,
   "id": "cb0777c3",
   "metadata": {
    "execution": {
     "iopub.execute_input": "2023-02-27T12:44:38.154900Z",
     "iopub.status.busy": "2023-02-27T12:44:38.154264Z",
     "iopub.status.idle": "2023-02-27T12:44:38.161270Z",
     "shell.execute_reply": "2023-02-27T12:44:38.160229Z"
    }
   },
   "outputs": [
    {
     "data": {
      "text/plain": [
       "Batch(\n",
       "    a: tensor([[ 0.9889, -0.3573,  0.5165],\n",
       "               [ 1.5832, -0.6554, -0.5770]]),\n",
       "    x: Batch(\n",
       "           c: tensor([[-0.1608,  0.0706, -0.1903,  0.0179],\n",
       "                      [ 0.1710, -0.3235, -1.7786, -1.3428],\n",
       "                      [-2.3486, -0.1342,  0.2478, -0.5605]]),\n",
       "       ),\n",
       ")"
      ]
     },
     "execution_count": 9,
     "metadata": {},
     "output_type": "execute_result"
    }
   ],
   "source": [
    "b"
   ]
  },
  {
   "cell_type": "code",
   "execution_count": 10,
   "id": "43ef8ea3",
   "metadata": {
    "execution": {
     "iopub.execute_input": "2023-02-27T12:44:38.163895Z",
     "iopub.status.busy": "2023-02-27T12:44:38.163529Z",
     "iopub.status.idle": "2023-02-27T12:44:38.168974Z",
     "shell.execute_reply": "2023-02-27T12:44:38.168381Z"
    }
   },
   "outputs": [
    {
     "data": {
      "text/plain": [
       "tensor([[ 0.9889, -0.3573,  0.5165],\n",
       "        [ 1.5832, -0.6554, -0.5770]])"
      ]
     },
     "execution_count": 10,
     "metadata": {},
     "output_type": "execute_result"
    }
   ],
   "source": [
    "b.a"
   ]
  },
  {
   "cell_type": "code",
   "execution_count": 11,
   "id": "b785ab72",
   "metadata": {
    "execution": {
     "iopub.execute_input": "2023-02-27T12:44:38.171604Z",
     "iopub.status.busy": "2023-02-27T12:44:38.171254Z",
     "iopub.status.idle": "2023-02-27T12:44:42.971462Z",
     "shell.execute_reply": "2023-02-27T12:44:42.970603Z"
    }
   },
   "outputs": [
    {
     "name": "stdout",
     "output_type": "stream",
     "text": [
      "59.1 ns ± 0.0618 ns per loop (mean ± std. dev. of 7 runs, 10,000,000 loops each)\n"
     ]
    }
   ],
   "source": [
    "%timeit b.a"
   ]
  },
  {
   "cell_type": "code",
   "execution_count": 12,
   "id": "ad54dc69",
   "metadata": {
    "execution": {
     "iopub.execute_input": "2023-02-27T12:44:42.975058Z",
     "iopub.status.busy": "2023-02-27T12:44:42.974632Z",
     "iopub.status.idle": "2023-02-27T12:44:42.981763Z",
     "shell.execute_reply": "2023-02-27T12:44:42.981085Z"
    }
   },
   "outputs": [
    {
     "data": {
      "text/plain": [
       "Batch(\n",
       "    a: tensor([[ 1.9954,  0.0837, -0.0721],\n",
       "               [-2.3077, -1.7276, -0.9639]]),\n",
       "    x: Batch(\n",
       "           c: tensor([[-0.1608,  0.0706, -0.1903,  0.0179],\n",
       "                      [ 0.1710, -0.3235, -1.7786, -1.3428],\n",
       "                      [-2.3486, -0.1342,  0.2478, -0.5605]]),\n",
       "       ),\n",
       ")"
      ]
     },
     "execution_count": 12,
     "metadata": {},
     "output_type": "execute_result"
    }
   ],
   "source": [
    "new_value = torch.randn(2, 3)\n",
    "b.a = new_value\n",
    "\n",
    "b"
   ]
  },
  {
   "cell_type": "code",
   "execution_count": 13,
   "id": "29b1d0bf",
   "metadata": {
    "execution": {
     "iopub.execute_input": "2023-02-27T12:44:42.984920Z",
     "iopub.status.busy": "2023-02-27T12:44:42.984403Z",
     "iopub.status.idle": "2023-02-27T12:44:47.072121Z",
     "shell.execute_reply": "2023-02-27T12:44:47.071257Z"
    }
   },
   "outputs": [
    {
     "name": "stdout",
     "output_type": "stream",
     "text": [
      "504 ns ± 0.112 ns per loop (mean ± std. dev. of 7 runs, 1,000,000 loops each)\n"
     ]
    }
   ],
   "source": [
    "%timeit b.a = new_value"
   ]
  },
  {
   "cell_type": "markdown",
   "id": "b61ad1d0",
   "metadata": {},
   "source": [
    "## Initialization"
   ]
  },
  {
   "cell_type": "markdown",
   "id": "d70f0d54",
   "metadata": {},
   "source": [
    "### TreeValue's Initialization"
   ]
  },
  {
   "cell_type": "code",
   "execution_count": 14,
   "id": "d32a679b",
   "metadata": {
    "execution": {
     "iopub.execute_input": "2023-02-27T12:44:47.075753Z",
     "iopub.status.busy": "2023-02-27T12:44:47.075106Z",
     "iopub.status.idle": "2023-02-27T12:44:53.753897Z",
     "shell.execute_reply": "2023-02-27T12:44:53.753041Z"
    }
   },
   "outputs": [
    {
     "name": "stdout",
     "output_type": "stream",
     "text": [
      "820 ns ± 0.926 ns per loop (mean ± std. dev. of 7 runs, 1,000,000 loops each)\n"
     ]
    }
   ],
   "source": [
    "%timeit FastTreeValue(_TREE_DATA_1)"
   ]
  },
  {
   "cell_type": "markdown",
   "id": "24f3707b",
   "metadata": {},
   "source": [
    "### Tianshou Batch's Initialization"
   ]
  },
  {
   "cell_type": "code",
   "execution_count": 15,
   "id": "ac3958df",
   "metadata": {
    "execution": {
     "iopub.execute_input": "2023-02-27T12:44:53.757154Z",
     "iopub.status.busy": "2023-02-27T12:44:53.756752Z",
     "iopub.status.idle": "2023-02-27T12:45:02.577787Z",
     "shell.execute_reply": "2023-02-27T12:45:02.576923Z"
    }
   },
   "outputs": [
    {
     "name": "stdout",
     "output_type": "stream",
     "text": [
      "10.9 µs ± 22.7 ns per loop (mean ± std. dev. of 7 runs, 100,000 loops each)\n"
     ]
    }
   ],
   "source": [
    "%timeit Batch(**_TREE_DATA_1)"
   ]
  },
  {
   "cell_type": "markdown",
   "id": "1ab82e2d",
   "metadata": {},
   "source": [
    "## Deep Copy Operation"
   ]
  },
  {
   "cell_type": "code",
   "execution_count": 16,
   "id": "210a9442",
   "metadata": {
    "execution": {
     "iopub.execute_input": "2023-02-27T12:45:02.581563Z",
     "iopub.status.busy": "2023-02-27T12:45:02.581155Z",
     "iopub.status.idle": "2023-02-27T12:45:02.585534Z",
     "shell.execute_reply": "2023-02-27T12:45:02.584915Z"
    }
   },
   "outputs": [],
   "source": [
    "import copy"
   ]
  },
  {
   "cell_type": "markdown",
   "id": "5a736274",
   "metadata": {},
   "source": [
    "### Deep Copy of TreeValue"
   ]
  },
  {
   "cell_type": "code",
   "execution_count": 17,
   "id": "f9bcadd6",
   "metadata": {
    "execution": {
     "iopub.execute_input": "2023-02-27T12:45:02.588415Z",
     "iopub.status.busy": "2023-02-27T12:45:02.588053Z",
     "iopub.status.idle": "2023-02-27T12:45:14.210272Z",
     "shell.execute_reply": "2023-02-27T12:45:14.209638Z"
    }
   },
   "outputs": [
    {
     "name": "stdout",
     "output_type": "stream",
     "text": [
      "143 µs ± 361 ns per loop (mean ± std. dev. of 7 runs, 10,000 loops each)\n"
     ]
    }
   ],
   "source": [
    "t3 = FastTreeValue(_TREE_DATA_3)\n",
    "%timeit copy.deepcopy(t3)"
   ]
  },
  {
   "cell_type": "markdown",
   "id": "bf8be7ea",
   "metadata": {},
   "source": [
    "### Deep Copy of Tianshou Batch"
   ]
  },
  {
   "cell_type": "code",
   "execution_count": 18,
   "id": "91998e6f",
   "metadata": {
    "execution": {
     "iopub.execute_input": "2023-02-27T12:45:14.213334Z",
     "iopub.status.busy": "2023-02-27T12:45:14.212934Z",
     "iopub.status.idle": "2023-02-27T12:45:25.693670Z",
     "shell.execute_reply": "2023-02-27T12:45:25.692860Z"
    }
   },
   "outputs": [
    {
     "name": "stdout",
     "output_type": "stream",
     "text": [
      "141 µs ± 334 ns per loop (mean ± std. dev. of 7 runs, 10,000 loops each)\n"
     ]
    }
   ],
   "source": [
    "b3 = Batch(**_TREE_DATA_3)\n",
    "%timeit copy.deepcopy(b3)"
   ]
  },
  {
   "cell_type": "markdown",
   "id": "223162fb",
   "metadata": {},
   "source": [
    "## Stack, Concat and Split Operation"
   ]
  },
  {
   "cell_type": "markdown",
   "id": "85fa4a73",
   "metadata": {},
   "source": [
    "### Performance of TreeValue"
   ]
  },
  {
   "cell_type": "code",
   "execution_count": 19,
   "id": "a0c2b697",
   "metadata": {
    "execution": {
     "iopub.execute_input": "2023-02-27T12:45:25.697273Z",
     "iopub.status.busy": "2023-02-27T12:45:25.696887Z",
     "iopub.status.idle": "2023-02-27T12:45:25.702314Z",
     "shell.execute_reply": "2023-02-27T12:45:25.700535Z"
    }
   },
   "outputs": [],
   "source": [
    "trees = [FastTreeValue(_TREE_DATA_2) for _ in range(8)]"
   ]
  },
  {
   "cell_type": "code",
   "execution_count": 20,
   "id": "017ea5a5",
   "metadata": {
    "execution": {
     "iopub.execute_input": "2023-02-27T12:45:25.705376Z",
     "iopub.status.busy": "2023-02-27T12:45:25.704892Z",
     "iopub.status.idle": "2023-02-27T12:45:25.713960Z",
     "shell.execute_reply": "2023-02-27T12:45:25.713346Z"
    }
   },
   "outputs": [
    {
     "data": {
      "text/plain": [
       "<FastTreeValue 0x7fecb5615820>\n",
       "├── 'a' --> tensor([[[ 0.9889, -0.3573,  0.5165],\n",
       "│                    [ 1.5832, -0.6554, -0.5770]],\n",
       "│           \n",
       "│                   [[ 0.9889, -0.3573,  0.5165],\n",
       "│                    [ 1.5832, -0.6554, -0.5770]],\n",
       "│           \n",
       "│                   [[ 0.9889, -0.3573,  0.5165],\n",
       "│                    [ 1.5832, -0.6554, -0.5770]],\n",
       "│           \n",
       "│                   [[ 0.9889, -0.3573,  0.5165],\n",
       "│                    [ 1.5832, -0.6554, -0.5770]],\n",
       "│           \n",
       "│                   [[ 0.9889, -0.3573,  0.5165],\n",
       "│                    [ 1.5832, -0.6554, -0.5770]],\n",
       "│           \n",
       "│                   [[ 0.9889, -0.3573,  0.5165],\n",
       "│                    [ 1.5832, -0.6554, -0.5770]],\n",
       "│           \n",
       "│                   [[ 0.9889, -0.3573,  0.5165],\n",
       "│                    [ 1.5832, -0.6554, -0.5770]],\n",
       "│           \n",
       "│                   [[ 0.9889, -0.3573,  0.5165],\n",
       "│                    [ 1.5832, -0.6554, -0.5770]]])\n",
       "└── 'x' --> <FastTreeValue 0x7fed402e7ca0>\n",
       "    └── 'c' --> tensor([[[-0.1608,  0.0706, -0.1903,  0.0179],\n",
       "                         [ 0.1710, -0.3235, -1.7786, -1.3428],\n",
       "                         [-2.3486, -0.1342,  0.2478, -0.5605]],\n",
       "                \n",
       "                        [[-0.1608,  0.0706, -0.1903,  0.0179],\n",
       "                         [ 0.1710, -0.3235, -1.7786, -1.3428],\n",
       "                         [-2.3486, -0.1342,  0.2478, -0.5605]],\n",
       "                \n",
       "                        [[-0.1608,  0.0706, -0.1903,  0.0179],\n",
       "                         [ 0.1710, -0.3235, -1.7786, -1.3428],\n",
       "                         [-2.3486, -0.1342,  0.2478, -0.5605]],\n",
       "                \n",
       "                        [[-0.1608,  0.0706, -0.1903,  0.0179],\n",
       "                         [ 0.1710, -0.3235, -1.7786, -1.3428],\n",
       "                         [-2.3486, -0.1342,  0.2478, -0.5605]],\n",
       "                \n",
       "                        [[-0.1608,  0.0706, -0.1903,  0.0179],\n",
       "                         [ 0.1710, -0.3235, -1.7786, -1.3428],\n",
       "                         [-2.3486, -0.1342,  0.2478, -0.5605]],\n",
       "                \n",
       "                        [[-0.1608,  0.0706, -0.1903,  0.0179],\n",
       "                         [ 0.1710, -0.3235, -1.7786, -1.3428],\n",
       "                         [-2.3486, -0.1342,  0.2478, -0.5605]],\n",
       "                \n",
       "                        [[-0.1608,  0.0706, -0.1903,  0.0179],\n",
       "                         [ 0.1710, -0.3235, -1.7786, -1.3428],\n",
       "                         [-2.3486, -0.1342,  0.2478, -0.5605]],\n",
       "                \n",
       "                        [[-0.1608,  0.0706, -0.1903,  0.0179],\n",
       "                         [ 0.1710, -0.3235, -1.7786, -1.3428],\n",
       "                         [-2.3486, -0.1342,  0.2478, -0.5605]]])"
      ]
     },
     "execution_count": 20,
     "metadata": {},
     "output_type": "execute_result"
    }
   ],
   "source": [
    "t_stack = FastTreeValue.func(subside=True)(torch.stack)\n",
    "\n",
    "t_stack(trees)"
   ]
  },
  {
   "cell_type": "code",
   "execution_count": 21,
   "id": "f8b3f415",
   "metadata": {
    "execution": {
     "iopub.execute_input": "2023-02-27T12:45:25.716675Z",
     "iopub.status.busy": "2023-02-27T12:45:25.716353Z",
     "iopub.status.idle": "2023-02-27T12:45:28.407892Z",
     "shell.execute_reply": "2023-02-27T12:45:28.407033Z"
    }
   },
   "outputs": [
    {
     "name": "stdout",
     "output_type": "stream",
     "text": [
      "33 µs ± 64.8 ns per loop (mean ± std. dev. of 7 runs, 10,000 loops each)\n"
     ]
    }
   ],
   "source": [
    "%timeit t_stack(trees)"
   ]
  },
  {
   "cell_type": "code",
   "execution_count": 22,
   "id": "94b56771",
   "metadata": {
    "execution": {
     "iopub.execute_input": "2023-02-27T12:45:28.412183Z",
     "iopub.status.busy": "2023-02-27T12:45:28.411033Z",
     "iopub.status.idle": "2023-02-27T12:45:28.420373Z",
     "shell.execute_reply": "2023-02-27T12:45:28.419744Z"
    }
   },
   "outputs": [
    {
     "data": {
      "text/plain": [
       "<FastTreeValue 0x7fed6cd151f0>\n",
       "├── 'a' --> tensor([[ 0.9889, -0.3573,  0.5165],\n",
       "│                   [ 1.5832, -0.6554, -0.5770],\n",
       "│                   [ 0.9889, -0.3573,  0.5165],\n",
       "│                   [ 1.5832, -0.6554, -0.5770],\n",
       "│                   [ 0.9889, -0.3573,  0.5165],\n",
       "│                   [ 1.5832, -0.6554, -0.5770],\n",
       "│                   [ 0.9889, -0.3573,  0.5165],\n",
       "│                   [ 1.5832, -0.6554, -0.5770],\n",
       "│                   [ 0.9889, -0.3573,  0.5165],\n",
       "│                   [ 1.5832, -0.6554, -0.5770],\n",
       "│                   [ 0.9889, -0.3573,  0.5165],\n",
       "│                   [ 1.5832, -0.6554, -0.5770],\n",
       "│                   [ 0.9889, -0.3573,  0.5165],\n",
       "│                   [ 1.5832, -0.6554, -0.5770],\n",
       "│                   [ 0.9889, -0.3573,  0.5165],\n",
       "│                   [ 1.5832, -0.6554, -0.5770]])\n",
       "└── 'x' --> <FastTreeValue 0x7fed6cd7adf0>\n",
       "    └── 'c' --> tensor([[-0.1608,  0.0706, -0.1903,  0.0179],\n",
       "                        [ 0.1710, -0.3235, -1.7786, -1.3428],\n",
       "                        [-2.3486, -0.1342,  0.2478, -0.5605],\n",
       "                        [-0.1608,  0.0706, -0.1903,  0.0179],\n",
       "                        [ 0.1710, -0.3235, -1.7786, -1.3428],\n",
       "                        [-2.3486, -0.1342,  0.2478, -0.5605],\n",
       "                        [-0.1608,  0.0706, -0.1903,  0.0179],\n",
       "                        [ 0.1710, -0.3235, -1.7786, -1.3428],\n",
       "                        [-2.3486, -0.1342,  0.2478, -0.5605],\n",
       "                        [-0.1608,  0.0706, -0.1903,  0.0179],\n",
       "                        [ 0.1710, -0.3235, -1.7786, -1.3428],\n",
       "                        [-2.3486, -0.1342,  0.2478, -0.5605],\n",
       "                        [-0.1608,  0.0706, -0.1903,  0.0179],\n",
       "                        [ 0.1710, -0.3235, -1.7786, -1.3428],\n",
       "                        [-2.3486, -0.1342,  0.2478, -0.5605],\n",
       "                        [-0.1608,  0.0706, -0.1903,  0.0179],\n",
       "                        [ 0.1710, -0.3235, -1.7786, -1.3428],\n",
       "                        [-2.3486, -0.1342,  0.2478, -0.5605],\n",
       "                        [-0.1608,  0.0706, -0.1903,  0.0179],\n",
       "                        [ 0.1710, -0.3235, -1.7786, -1.3428],\n",
       "                        [-2.3486, -0.1342,  0.2478, -0.5605],\n",
       "                        [-0.1608,  0.0706, -0.1903,  0.0179],\n",
       "                        [ 0.1710, -0.3235, -1.7786, -1.3428],\n",
       "                        [-2.3486, -0.1342,  0.2478, -0.5605]])"
      ]
     },
     "execution_count": 22,
     "metadata": {},
     "output_type": "execute_result"
    }
   ],
   "source": [
    "t_cat = FastTreeValue.func(subside=True)(torch.cat)\n",
    "\n",
    "t_cat(trees)"
   ]
  },
  {
   "cell_type": "code",
   "execution_count": 23,
   "id": "5e9c06a6",
   "metadata": {
    "execution": {
     "iopub.execute_input": "2023-02-27T12:45:28.423529Z",
     "iopub.status.busy": "2023-02-27T12:45:28.422941Z",
     "iopub.status.idle": "2023-02-27T12:45:30.937092Z",
     "shell.execute_reply": "2023-02-27T12:45:30.936201Z"
    }
   },
   "outputs": [
    {
     "name": "stdout",
     "output_type": "stream",
     "text": [
      "30.9 µs ± 66.9 ns per loop (mean ± std. dev. of 7 runs, 10,000 loops each)\n"
     ]
    }
   ],
   "source": [
    "%timeit t_cat(trees)"
   ]
  },
  {
   "cell_type": "code",
   "execution_count": 24,
   "id": "a3ab5c8f",
   "metadata": {
    "execution": {
     "iopub.execute_input": "2023-02-27T12:45:30.940655Z",
     "iopub.status.busy": "2023-02-27T12:45:30.940139Z",
     "iopub.status.idle": "2023-02-27T12:45:35.633142Z",
     "shell.execute_reply": "2023-02-27T12:45:35.632287Z"
    }
   },
   "outputs": [
    {
     "name": "stdout",
     "output_type": "stream",
     "text": [
      "57.7 µs ± 64.6 ns per loop (mean ± std. dev. of 7 runs, 10,000 loops each)\n"
     ]
    }
   ],
   "source": [
    "t_split = FastTreeValue.func(rise=True)(torch.split)\n",
    "tree = FastTreeValue({\n",
    "    'obs': torch.randn(8, 4, 84, 84),\n",
    "    'action': torch.randint(0, 6, size=(8, 1,)),\n",
    "    'reward': torch.rand(8, 1),\n",
    "})\n",
    "\n",
    "%timeit t_split(tree, 1)"
   ]
  },
  {
   "cell_type": "markdown",
   "id": "31c3ec0b",
   "metadata": {},
   "source": [
    "### Performance of Tianshou Batch"
   ]
  },
  {
   "cell_type": "code",
   "execution_count": 25,
   "id": "9ead828a",
   "metadata": {
    "execution": {
     "iopub.execute_input": "2023-02-27T12:45:35.636935Z",
     "iopub.status.busy": "2023-02-27T12:45:35.636452Z",
     "iopub.status.idle": "2023-02-27T12:45:35.646212Z",
     "shell.execute_reply": "2023-02-27T12:45:35.644810Z"
    }
   },
   "outputs": [
    {
     "data": {
      "text/plain": [
       "Batch(\n",
       "    a: tensor([[[ 0.9889, -0.3573,  0.5165],\n",
       "                [ 1.5832, -0.6554, -0.5770]],\n",
       "       \n",
       "               [[ 0.9889, -0.3573,  0.5165],\n",
       "                [ 1.5832, -0.6554, -0.5770]],\n",
       "       \n",
       "               [[ 0.9889, -0.3573,  0.5165],\n",
       "                [ 1.5832, -0.6554, -0.5770]],\n",
       "       \n",
       "               [[ 0.9889, -0.3573,  0.5165],\n",
       "                [ 1.5832, -0.6554, -0.5770]],\n",
       "       \n",
       "               [[ 0.9889, -0.3573,  0.5165],\n",
       "                [ 1.5832, -0.6554, -0.5770]],\n",
       "       \n",
       "               [[ 0.9889, -0.3573,  0.5165],\n",
       "                [ 1.5832, -0.6554, -0.5770]],\n",
       "       \n",
       "               [[ 0.9889, -0.3573,  0.5165],\n",
       "                [ 1.5832, -0.6554, -0.5770]],\n",
       "       \n",
       "               [[ 0.9889, -0.3573,  0.5165],\n",
       "                [ 1.5832, -0.6554, -0.5770]]]),\n",
       "    x: Batch(\n",
       "           c: tensor([[[-0.1608,  0.0706, -0.1903,  0.0179],\n",
       "                       [ 0.1710, -0.3235, -1.7786, -1.3428],\n",
       "                       [-2.3486, -0.1342,  0.2478, -0.5605]],\n",
       "              \n",
       "                      [[-0.1608,  0.0706, -0.1903,  0.0179],\n",
       "                       [ 0.1710, -0.3235, -1.7786, -1.3428],\n",
       "                       [-2.3486, -0.1342,  0.2478, -0.5605]],\n",
       "              \n",
       "                      [[-0.1608,  0.0706, -0.1903,  0.0179],\n",
       "                       [ 0.1710, -0.3235, -1.7786, -1.3428],\n",
       "                       [-2.3486, -0.1342,  0.2478, -0.5605]],\n",
       "              \n",
       "                      [[-0.1608,  0.0706, -0.1903,  0.0179],\n",
       "                       [ 0.1710, -0.3235, -1.7786, -1.3428],\n",
       "                       [-2.3486, -0.1342,  0.2478, -0.5605]],\n",
       "              \n",
       "                      [[-0.1608,  0.0706, -0.1903,  0.0179],\n",
       "                       [ 0.1710, -0.3235, -1.7786, -1.3428],\n",
       "                       [-2.3486, -0.1342,  0.2478, -0.5605]],\n",
       "              \n",
       "                      [[-0.1608,  0.0706, -0.1903,  0.0179],\n",
       "                       [ 0.1710, -0.3235, -1.7786, -1.3428],\n",
       "                       [-2.3486, -0.1342,  0.2478, -0.5605]],\n",
       "              \n",
       "                      [[-0.1608,  0.0706, -0.1903,  0.0179],\n",
       "                       [ 0.1710, -0.3235, -1.7786, -1.3428],\n",
       "                       [-2.3486, -0.1342,  0.2478, -0.5605]],\n",
       "              \n",
       "                      [[-0.1608,  0.0706, -0.1903,  0.0179],\n",
       "                       [ 0.1710, -0.3235, -1.7786, -1.3428],\n",
       "                       [-2.3486, -0.1342,  0.2478, -0.5605]]]),\n",
       "       ),\n",
       ")"
      ]
     },
     "execution_count": 25,
     "metadata": {},
     "output_type": "execute_result"
    }
   ],
   "source": [
    "batches = [Batch(**_TREE_DATA_2) for _ in range(8)]\n",
    "\n",
    "Batch.stack(batches)"
   ]
  },
  {
   "cell_type": "code",
   "execution_count": 26,
   "id": "ec9037a3",
   "metadata": {
    "execution": {
     "iopub.execute_input": "2023-02-27T12:45:35.648856Z",
     "iopub.status.busy": "2023-02-27T12:45:35.648489Z",
     "iopub.status.idle": "2023-02-27T12:45:41.959505Z",
     "shell.execute_reply": "2023-02-27T12:45:41.958645Z"
    }
   },
   "outputs": [
    {
     "name": "stdout",
     "output_type": "stream",
     "text": [
      "77.7 µs ± 319 ns per loop (mean ± std. dev. of 7 runs, 10,000 loops each)\n"
     ]
    }
   ],
   "source": [
    "%timeit Batch.stack(batches)"
   ]
  },
  {
   "cell_type": "code",
   "execution_count": 27,
   "id": "cb8ab77e",
   "metadata": {
    "execution": {
     "iopub.execute_input": "2023-02-27T12:45:41.962816Z",
     "iopub.status.busy": "2023-02-27T12:45:41.962353Z",
     "iopub.status.idle": "2023-02-27T12:45:41.970973Z",
     "shell.execute_reply": "2023-02-27T12:45:41.969796Z"
    }
   },
   "outputs": [
    {
     "data": {
      "text/plain": [
       "Batch(\n",
       "    a: tensor([[ 0.9889, -0.3573,  0.5165],\n",
       "               [ 1.5832, -0.6554, -0.5770],\n",
       "               [ 0.9889, -0.3573,  0.5165],\n",
       "               [ 1.5832, -0.6554, -0.5770],\n",
       "               [ 0.9889, -0.3573,  0.5165],\n",
       "               [ 1.5832, -0.6554, -0.5770],\n",
       "               [ 0.9889, -0.3573,  0.5165],\n",
       "               [ 1.5832, -0.6554, -0.5770],\n",
       "               [ 0.9889, -0.3573,  0.5165],\n",
       "               [ 1.5832, -0.6554, -0.5770],\n",
       "               [ 0.9889, -0.3573,  0.5165],\n",
       "               [ 1.5832, -0.6554, -0.5770],\n",
       "               [ 0.9889, -0.3573,  0.5165],\n",
       "               [ 1.5832, -0.6554, -0.5770],\n",
       "               [ 0.9889, -0.3573,  0.5165],\n",
       "               [ 1.5832, -0.6554, -0.5770]]),\n",
       "    x: Batch(\n",
       "           c: tensor([[-0.1608,  0.0706, -0.1903,  0.0179],\n",
       "                      [ 0.1710, -0.3235, -1.7786, -1.3428],\n",
       "                      [-2.3486, -0.1342,  0.2478, -0.5605],\n",
       "                      [-0.1608,  0.0706, -0.1903,  0.0179],\n",
       "                      [ 0.1710, -0.3235, -1.7786, -1.3428],\n",
       "                      [-2.3486, -0.1342,  0.2478, -0.5605],\n",
       "                      [-0.1608,  0.0706, -0.1903,  0.0179],\n",
       "                      [ 0.1710, -0.3235, -1.7786, -1.3428],\n",
       "                      [-2.3486, -0.1342,  0.2478, -0.5605],\n",
       "                      [-0.1608,  0.0706, -0.1903,  0.0179],\n",
       "                      [ 0.1710, -0.3235, -1.7786, -1.3428],\n",
       "                      [-2.3486, -0.1342,  0.2478, -0.5605],\n",
       "                      [-0.1608,  0.0706, -0.1903,  0.0179],\n",
       "                      [ 0.1710, -0.3235, -1.7786, -1.3428],\n",
       "                      [-2.3486, -0.1342,  0.2478, -0.5605],\n",
       "                      [-0.1608,  0.0706, -0.1903,  0.0179],\n",
       "                      [ 0.1710, -0.3235, -1.7786, -1.3428],\n",
       "                      [-2.3486, -0.1342,  0.2478, -0.5605],\n",
       "                      [-0.1608,  0.0706, -0.1903,  0.0179],\n",
       "                      [ 0.1710, -0.3235, -1.7786, -1.3428],\n",
       "                      [-2.3486, -0.1342,  0.2478, -0.5605],\n",
       "                      [-0.1608,  0.0706, -0.1903,  0.0179],\n",
       "                      [ 0.1710, -0.3235, -1.7786, -1.3428],\n",
       "                      [-2.3486, -0.1342,  0.2478, -0.5605]]),\n",
       "       ),\n",
       ")"
      ]
     },
     "execution_count": 27,
     "metadata": {},
     "output_type": "execute_result"
    }
   ],
   "source": [
    "Batch.cat(batches)"
   ]
  },
  {
   "cell_type": "code",
   "execution_count": 28,
   "id": "18dfb045",
   "metadata": {
    "execution": {
     "iopub.execute_input": "2023-02-27T12:45:41.973784Z",
     "iopub.status.busy": "2023-02-27T12:45:41.973212Z",
     "iopub.status.idle": "2023-02-27T12:45:55.297121Z",
     "shell.execute_reply": "2023-02-27T12:45:55.296240Z"
    }
   },
   "outputs": [
    {
     "name": "stdout",
     "output_type": "stream",
     "text": [
      "164 µs ± 164 ns per loop (mean ± std. dev. of 7 runs, 10,000 loops each)\n"
     ]
    }
   ],
   "source": [
    "%timeit Batch.cat(batches)"
   ]
  },
  {
   "cell_type": "code",
   "execution_count": 29,
   "id": "c6688e51",
   "metadata": {
    "execution": {
     "iopub.execute_input": "2023-02-27T12:45:55.300761Z",
     "iopub.status.busy": "2023-02-27T12:45:55.300046Z",
     "iopub.status.idle": "2023-02-27T12:45:57.974211Z",
     "shell.execute_reply": "2023-02-27T12:45:57.973264Z"
    }
   },
   "outputs": [
    {
     "name": "stdout",
     "output_type": "stream",
     "text": [
      "328 µs ± 2.25 µs per loop (mean ± std. dev. of 7 runs, 1,000 loops each)\n"
     ]
    }
   ],
   "source": [
    "batch = Batch({\n",
    "    'obs': torch.randn(8, 4, 84, 84),\n",
    "    'action': torch.randint(0, 6, size=(8, 1,)),\n",
    "    'reward': torch.rand(8, 1)}\n",
    ")\n",
    "\n",
    "%timeit list(Batch.split(batch, 1, shuffle=False, merge_last=True))"
   ]
  },
  {
   "cell_type": "code",
   "execution_count": null,
   "id": "2539fbd9",
   "metadata": {},
   "outputs": [],
   "source": []
  }
 ],
 "metadata": {
  "kernelspec": {
   "display_name": "Python 3 (ipykernel)",
   "language": "python",
   "name": "python3"
  },
  "language_info": {
   "codemirror_mode": {
    "name": "ipython",
    "version": 3
   },
   "file_extension": ".py",
   "mimetype": "text/x-python",
   "name": "python",
   "nbconvert_exporter": "python",
   "pygments_lexer": "ipython3",
   "version": "3.8.16"
  }
 },
 "nbformat": 4,
 "nbformat_minor": 5
}
