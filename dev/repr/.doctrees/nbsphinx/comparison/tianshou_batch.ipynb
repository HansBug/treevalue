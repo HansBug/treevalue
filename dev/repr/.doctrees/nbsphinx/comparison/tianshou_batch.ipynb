{
 "cells": [
  {
   "cell_type": "markdown",
   "id": "9d39d946",
   "metadata": {},
   "source": [
    "# Comparison Between TreeValue and Tianshou Batch"
   ]
  },
  {
   "cell_type": "markdown",
   "id": "3c6db2d4",
   "metadata": {},
   "source": [
    "In this section, we will take a look at the feature and performance of the [Tianshou Batch](https://github.com/thu-ml/tianshou) library, which is developed by Tsinghua Machine Learning Group."
   ]
  },
  {
   "cell_type": "markdown",
   "id": "069361b0",
   "metadata": {},
   "source": [
    "Before starting the comparison, let us define some thing."
   ]
  },
  {
   "cell_type": "code",
   "execution_count": 1,
   "id": "06fc8d26",
   "metadata": {
    "execution": {
     "iopub.execute_input": "2023-02-27T09:59:35.040557Z",
     "iopub.status.busy": "2023-02-27T09:59:35.040002Z",
     "iopub.status.idle": "2023-02-27T09:59:36.013912Z",
     "shell.execute_reply": "2023-02-27T09:59:36.013198Z"
    }
   },
   "outputs": [
    {
     "name": "stderr",
     "output_type": "stream",
     "text": [
      "/opt/hostedtoolcache/Python/3.8.16/x64/lib/python3.8/site-packages/tqdm/auto.py:22: TqdmWarning: IProgress not found. Please update jupyter and ipywidgets. See https://ipywidgets.readthedocs.io/en/stable/user_install.html\n",
      "  from .autonotebook import tqdm as notebook_tqdm\n"
     ]
    }
   ],
   "source": [
    "import torch \n",
    "\n",
    "_TREE_DATA_1 = {'a': 1, 'b': 2, 'x': {'c': 3, 'd': 4}}\n",
    "_TREE_DATA_2 = {\n",
    "    'a': torch.randn(2, 3), \n",
    "    'x': {\n",
    "        'c': torch.randn(3, 4)\n",
    "    },\n",
    "}\n",
    "_TREE_DATA_3 = {\n",
    "    'obs': torch.randn(4, 84, 84),\n",
    "    'action': torch.randint(0, 6, size=(1,)),\n",
    "    'reward': torch.rand(1),\n",
    "}"
   ]
  },
  {
   "cell_type": "markdown",
   "id": "83461b25",
   "metadata": {},
   "source": [
    "## Read and Write Operation"
   ]
  },
  {
   "cell_type": "markdown",
   "id": "067b3f73",
   "metadata": {},
   "source": [
    "Reading and writing are the two most common operations in the tree data structure based on the data model (TreeValue and Tianshou Batch both belong to this type), so this section will compare the reading and writing performance of these two libraries."
   ]
  },
  {
   "cell_type": "markdown",
   "id": "5d09a5b7",
   "metadata": {},
   "source": [
    "### TreeValue's Get and Set"
   ]
  },
  {
   "cell_type": "code",
   "execution_count": 2,
   "id": "9519c4bb",
   "metadata": {
    "execution": {
     "iopub.execute_input": "2023-02-27T09:59:36.017568Z",
     "iopub.status.busy": "2023-02-27T09:59:36.016942Z",
     "iopub.status.idle": "2023-02-27T09:59:36.308099Z",
     "shell.execute_reply": "2023-02-27T09:59:36.307413Z"
    }
   },
   "outputs": [],
   "source": [
    "from treevalue import FastTreeValue\n",
    "\n",
    "t = FastTreeValue(_TREE_DATA_2)"
   ]
  },
  {
   "cell_type": "code",
   "execution_count": 3,
   "id": "11c37677",
   "metadata": {
    "execution": {
     "iopub.execute_input": "2023-02-27T09:59:36.311654Z",
     "iopub.status.busy": "2023-02-27T09:59:36.311049Z",
     "iopub.status.idle": "2023-02-27T09:59:36.320661Z",
     "shell.execute_reply": "2023-02-27T09:59:36.320064Z"
    }
   },
   "outputs": [
    {
     "data": {
      "text/plain": [
       "<FastTreeValue 0x7fa5ecca0f40>\n",
       "├── 'a' --> tensor([[ 0.8140, -0.0181,  0.4719],\n",
       "│                   [-0.6035,  1.3166,  0.2733]])\n",
       "└── 'x' --> <FastTreeValue 0x7fa5ecca0f10>\n",
       "    └── 'c' --> tensor([[ 0.6333, -1.7667, -0.8784,  0.2224],\n",
       "                        [-1.5923,  0.0482, -1.1485,  1.2433],\n",
       "                        [ 0.1746,  0.1556,  0.4432,  0.4610]])"
      ]
     },
     "execution_count": 3,
     "metadata": {},
     "output_type": "execute_result"
    }
   ],
   "source": [
    "t"
   ]
  },
  {
   "cell_type": "code",
   "execution_count": 4,
   "id": "fd70b0b9",
   "metadata": {
    "execution": {
     "iopub.execute_input": "2023-02-27T09:59:36.323329Z",
     "iopub.status.busy": "2023-02-27T09:59:36.322950Z",
     "iopub.status.idle": "2023-02-27T09:59:36.328637Z",
     "shell.execute_reply": "2023-02-27T09:59:36.328053Z"
    }
   },
   "outputs": [
    {
     "data": {
      "text/plain": [
       "tensor([[ 0.8140, -0.0181,  0.4719],\n",
       "        [-0.6035,  1.3166,  0.2733]])"
      ]
     },
     "execution_count": 4,
     "metadata": {},
     "output_type": "execute_result"
    }
   ],
   "source": [
    "t.a"
   ]
  },
  {
   "cell_type": "code",
   "execution_count": 5,
   "id": "c18197bd",
   "metadata": {
    "execution": {
     "iopub.execute_input": "2023-02-27T09:59:36.331063Z",
     "iopub.status.busy": "2023-02-27T09:59:36.330707Z",
     "iopub.status.idle": "2023-02-27T09:59:41.094065Z",
     "shell.execute_reply": "2023-02-27T09:59:41.093293Z"
    }
   },
   "outputs": [
    {
     "name": "stdout",
     "output_type": "stream",
     "text": [
      "58.6 ns ± 0.0549 ns per loop (mean ± std. dev. of 7 runs, 10,000,000 loops each)\n"
     ]
    }
   ],
   "source": [
    "%timeit t.a"
   ]
  },
  {
   "cell_type": "code",
   "execution_count": 6,
   "id": "bd52f867",
   "metadata": {
    "execution": {
     "iopub.execute_input": "2023-02-27T09:59:41.096879Z",
     "iopub.status.busy": "2023-02-27T09:59:41.096528Z",
     "iopub.status.idle": "2023-02-27T09:59:41.103108Z",
     "shell.execute_reply": "2023-02-27T09:59:41.102532Z"
    }
   },
   "outputs": [
    {
     "data": {
      "text/plain": [
       "<FastTreeValue 0x7fa5ecca0f40>\n",
       "├── 'a' --> tensor([[-0.1420,  0.7053,  0.8932],\n",
       "│                   [ 0.5154, -0.5341, -0.2231]])\n",
       "└── 'x' --> <FastTreeValue 0x7fa5ecca0f10>\n",
       "    └── 'c' --> tensor([[ 0.6333, -1.7667, -0.8784,  0.2224],\n",
       "                        [-1.5923,  0.0482, -1.1485,  1.2433],\n",
       "                        [ 0.1746,  0.1556,  0.4432,  0.4610]])"
      ]
     },
     "execution_count": 6,
     "metadata": {},
     "output_type": "execute_result"
    }
   ],
   "source": [
    "new_value = torch.randn(2, 3)\n",
    "t.a = new_value\n",
    "\n",
    "t"
   ]
  },
  {
   "cell_type": "code",
   "execution_count": 7,
   "id": "bbe04d1c",
   "metadata": {
    "execution": {
     "iopub.execute_input": "2023-02-27T09:59:41.105659Z",
     "iopub.status.busy": "2023-02-27T09:59:41.105179Z",
     "iopub.status.idle": "2023-02-27T09:59:46.033279Z",
     "shell.execute_reply": "2023-02-27T09:59:46.032518Z"
    }
   },
   "outputs": [
    {
     "name": "stdout",
     "output_type": "stream",
     "text": [
      "60.7 ns ± 0.0154 ns per loop (mean ± std. dev. of 7 runs, 10,000,000 loops each)\n"
     ]
    }
   ],
   "source": [
    "%timeit t.a = new_value"
   ]
  },
  {
   "cell_type": "markdown",
   "id": "48c49731",
   "metadata": {},
   "source": [
    "### Tianshou Batch's Get and Set"
   ]
  },
  {
   "cell_type": "code",
   "execution_count": 8,
   "id": "f1bb14c1",
   "metadata": {
    "execution": {
     "iopub.execute_input": "2023-02-27T09:59:46.036567Z",
     "iopub.status.busy": "2023-02-27T09:59:46.035968Z",
     "iopub.status.idle": "2023-02-27T09:59:46.366576Z",
     "shell.execute_reply": "2023-02-27T09:59:46.365879Z"
    }
   },
   "outputs": [],
   "source": [
    "from tianshou.data import Batch\n",
    "\n",
    "b = Batch(**_TREE_DATA_2)"
   ]
  },
  {
   "cell_type": "code",
   "execution_count": 9,
   "id": "cb0777c3",
   "metadata": {
    "execution": {
     "iopub.execute_input": "2023-02-27T09:59:46.369671Z",
     "iopub.status.busy": "2023-02-27T09:59:46.369341Z",
     "iopub.status.idle": "2023-02-27T09:59:46.375215Z",
     "shell.execute_reply": "2023-02-27T09:59:46.374632Z"
    }
   },
   "outputs": [
    {
     "data": {
      "text/plain": [
       "Batch(\n",
       "    a: tensor([[ 0.8140, -0.0181,  0.4719],\n",
       "               [-0.6035,  1.3166,  0.2733]]),\n",
       "    x: Batch(\n",
       "           c: tensor([[ 0.6333, -1.7667, -0.8784,  0.2224],\n",
       "                      [-1.5923,  0.0482, -1.1485,  1.2433],\n",
       "                      [ 0.1746,  0.1556,  0.4432,  0.4610]]),\n",
       "       ),\n",
       ")"
      ]
     },
     "execution_count": 9,
     "metadata": {},
     "output_type": "execute_result"
    }
   ],
   "source": [
    "b"
   ]
  },
  {
   "cell_type": "code",
   "execution_count": 10,
   "id": "43ef8ea3",
   "metadata": {
    "execution": {
     "iopub.execute_input": "2023-02-27T09:59:46.378065Z",
     "iopub.status.busy": "2023-02-27T09:59:46.377596Z",
     "iopub.status.idle": "2023-02-27T09:59:46.383387Z",
     "shell.execute_reply": "2023-02-27T09:59:46.382824Z"
    }
   },
   "outputs": [
    {
     "data": {
      "text/plain": [
       "tensor([[ 0.8140, -0.0181,  0.4719],\n",
       "        [-0.6035,  1.3166,  0.2733]])"
      ]
     },
     "execution_count": 10,
     "metadata": {},
     "output_type": "execute_result"
    }
   ],
   "source": [
    "b.a"
   ]
  },
  {
   "cell_type": "code",
   "execution_count": 11,
   "id": "b785ab72",
   "metadata": {
    "execution": {
     "iopub.execute_input": "2023-02-27T09:59:46.386643Z",
     "iopub.status.busy": "2023-02-27T09:59:46.385669Z",
     "iopub.status.idle": "2023-02-27T09:59:50.881846Z",
     "shell.execute_reply": "2023-02-27T09:59:50.881122Z"
    }
   },
   "outputs": [
    {
     "name": "stdout",
     "output_type": "stream",
     "text": [
      "55.4 ns ± 0.0268 ns per loop (mean ± std. dev. of 7 runs, 10,000,000 loops each)\n"
     ]
    }
   ],
   "source": [
    "%timeit b.a"
   ]
  },
  {
   "cell_type": "code",
   "execution_count": 12,
   "id": "ad54dc69",
   "metadata": {
    "execution": {
     "iopub.execute_input": "2023-02-27T09:59:50.884991Z",
     "iopub.status.busy": "2023-02-27T09:59:50.884607Z",
     "iopub.status.idle": "2023-02-27T09:59:50.891224Z",
     "shell.execute_reply": "2023-02-27T09:59:50.890598Z"
    }
   },
   "outputs": [
    {
     "data": {
      "text/plain": [
       "Batch(\n",
       "    a: tensor([[ 0.8685, -0.0156,  0.0111],\n",
       "               [-0.8088,  0.1826,  0.9408]]),\n",
       "    x: Batch(\n",
       "           c: tensor([[ 0.6333, -1.7667, -0.8784,  0.2224],\n",
       "                      [-1.5923,  0.0482, -1.1485,  1.2433],\n",
       "                      [ 0.1746,  0.1556,  0.4432,  0.4610]]),\n",
       "       ),\n",
       ")"
      ]
     },
     "execution_count": 12,
     "metadata": {},
     "output_type": "execute_result"
    }
   ],
   "source": [
    "new_value = torch.randn(2, 3)\n",
    "b.a = new_value\n",
    "\n",
    "b"
   ]
  },
  {
   "cell_type": "code",
   "execution_count": 13,
   "id": "29b1d0bf",
   "metadata": {
    "execution": {
     "iopub.execute_input": "2023-02-27T09:59:50.893963Z",
     "iopub.status.busy": "2023-02-27T09:59:50.893712Z",
     "iopub.status.idle": "2023-02-27T09:59:54.817293Z",
     "shell.execute_reply": "2023-02-27T09:59:54.816544Z"
    }
   },
   "outputs": [
    {
     "name": "stdout",
     "output_type": "stream",
     "text": [
      "484 ns ± 0.182 ns per loop (mean ± std. dev. of 7 runs, 1,000,000 loops each)\n"
     ]
    }
   ],
   "source": [
    "%timeit b.a = new_value"
   ]
  },
  {
   "cell_type": "markdown",
   "id": "b61ad1d0",
   "metadata": {},
   "source": [
    "## Initialization"
   ]
  },
  {
   "cell_type": "markdown",
   "id": "d70f0d54",
   "metadata": {},
   "source": [
    "### TreeValue's Initialization"
   ]
  },
  {
   "cell_type": "code",
   "execution_count": 14,
   "id": "d32a679b",
   "metadata": {
    "execution": {
     "iopub.execute_input": "2023-02-27T09:59:54.820436Z",
     "iopub.status.busy": "2023-02-27T09:59:54.820079Z",
     "iopub.status.idle": "2023-02-27T10:00:01.681220Z",
     "shell.execute_reply": "2023-02-27T10:00:01.680450Z"
    }
   },
   "outputs": [
    {
     "name": "stdout",
     "output_type": "stream",
     "text": [
      "847 ns ± 18.3 ns per loop (mean ± std. dev. of 7 runs, 1,000,000 loops each)\n"
     ]
    }
   ],
   "source": [
    "%timeit FastTreeValue(_TREE_DATA_1)"
   ]
  },
  {
   "cell_type": "markdown",
   "id": "24f3707b",
   "metadata": {},
   "source": [
    "### Tianshou Batch's Initialization"
   ]
  },
  {
   "cell_type": "code",
   "execution_count": 15,
   "id": "ac3958df",
   "metadata": {
    "execution": {
     "iopub.execute_input": "2023-02-27T10:00:01.684317Z",
     "iopub.status.busy": "2023-02-27T10:00:01.683949Z",
     "iopub.status.idle": "2023-02-27T10:00:10.886321Z",
     "shell.execute_reply": "2023-02-27T10:00:10.885576Z"
    }
   },
   "outputs": [
    {
     "name": "stdout",
     "output_type": "stream",
     "text": [
      "11.3 µs ± 35.6 ns per loop (mean ± std. dev. of 7 runs, 100,000 loops each)\n"
     ]
    }
   ],
   "source": [
    "%timeit Batch(**_TREE_DATA_1)"
   ]
  },
  {
   "cell_type": "markdown",
   "id": "1ab82e2d",
   "metadata": {},
   "source": [
    "## Deep Copy Operation"
   ]
  },
  {
   "cell_type": "code",
   "execution_count": 16,
   "id": "210a9442",
   "metadata": {
    "execution": {
     "iopub.execute_input": "2023-02-27T10:00:10.889115Z",
     "iopub.status.busy": "2023-02-27T10:00:10.888755Z",
     "iopub.status.idle": "2023-02-27T10:00:10.892580Z",
     "shell.execute_reply": "2023-02-27T10:00:10.891997Z"
    }
   },
   "outputs": [],
   "source": [
    "import copy"
   ]
  },
  {
   "cell_type": "markdown",
   "id": "5a736274",
   "metadata": {},
   "source": [
    "### Deep Copy of TreeValue"
   ]
  },
  {
   "cell_type": "code",
   "execution_count": 17,
   "id": "f9bcadd6",
   "metadata": {
    "execution": {
     "iopub.execute_input": "2023-02-27T10:00:10.894831Z",
     "iopub.status.busy": "2023-02-27T10:00:10.894631Z",
     "iopub.status.idle": "2023-02-27T10:00:22.036150Z",
     "shell.execute_reply": "2023-02-27T10:00:22.035565Z"
    }
   },
   "outputs": [
    {
     "name": "stdout",
     "output_type": "stream",
     "text": [
      "137 µs ± 536 ns per loop (mean ± std. dev. of 7 runs, 10,000 loops each)\n"
     ]
    }
   ],
   "source": [
    "t3 = FastTreeValue(_TREE_DATA_3)\n",
    "%timeit copy.deepcopy(t3)"
   ]
  },
  {
   "cell_type": "markdown",
   "id": "bf8be7ea",
   "metadata": {},
   "source": [
    "### Deep Copy of Tianshou Batch"
   ]
  },
  {
   "cell_type": "code",
   "execution_count": 18,
   "id": "91998e6f",
   "metadata": {
    "execution": {
     "iopub.execute_input": "2023-02-27T10:00:22.039450Z",
     "iopub.status.busy": "2023-02-27T10:00:22.038501Z",
     "iopub.status.idle": "2023-02-27T10:00:33.471639Z",
     "shell.execute_reply": "2023-02-27T10:00:33.471054Z"
    }
   },
   "outputs": [
    {
     "name": "stdout",
     "output_type": "stream",
     "text": [
      "141 µs ± 489 ns per loop (mean ± std. dev. of 7 runs, 10,000 loops each)\n"
     ]
    }
   ],
   "source": [
    "b3 = Batch(**_TREE_DATA_3)\n",
    "%timeit copy.deepcopy(b3)"
   ]
  },
  {
   "cell_type": "markdown",
   "id": "223162fb",
   "metadata": {},
   "source": [
    "## Stack, Concat and Split Operation"
   ]
  },
  {
   "cell_type": "markdown",
   "id": "85fa4a73",
   "metadata": {},
   "source": [
    "### Performance of TreeValue"
   ]
  },
  {
   "cell_type": "code",
   "execution_count": 19,
   "id": "a0c2b697",
   "metadata": {
    "execution": {
     "iopub.execute_input": "2023-02-27T10:00:33.474776Z",
     "iopub.status.busy": "2023-02-27T10:00:33.474538Z",
     "iopub.status.idle": "2023-02-27T10:00:33.478402Z",
     "shell.execute_reply": "2023-02-27T10:00:33.477785Z"
    }
   },
   "outputs": [],
   "source": [
    "trees = [FastTreeValue(_TREE_DATA_2) for _ in range(8)]"
   ]
  },
  {
   "cell_type": "code",
   "execution_count": 20,
   "id": "017ea5a5",
   "metadata": {
    "execution": {
     "iopub.execute_input": "2023-02-27T10:00:33.481070Z",
     "iopub.status.busy": "2023-02-27T10:00:33.480730Z",
     "iopub.status.idle": "2023-02-27T10:00:33.488625Z",
     "shell.execute_reply": "2023-02-27T10:00:33.488029Z"
    }
   },
   "outputs": [
    {
     "data": {
      "text/plain": [
       "<FastTreeValue 0x7fa536f6feb0>\n",
       "├── 'a' --> tensor([[[ 0.8140, -0.0181,  0.4719],\n",
       "│                    [-0.6035,  1.3166,  0.2733]],\n",
       "│           \n",
       "│                   [[ 0.8140, -0.0181,  0.4719],\n",
       "│                    [-0.6035,  1.3166,  0.2733]],\n",
       "│           \n",
       "│                   [[ 0.8140, -0.0181,  0.4719],\n",
       "│                    [-0.6035,  1.3166,  0.2733]],\n",
       "│           \n",
       "│                   [[ 0.8140, -0.0181,  0.4719],\n",
       "│                    [-0.6035,  1.3166,  0.2733]],\n",
       "│           \n",
       "│                   [[ 0.8140, -0.0181,  0.4719],\n",
       "│                    [-0.6035,  1.3166,  0.2733]],\n",
       "│           \n",
       "│                   [[ 0.8140, -0.0181,  0.4719],\n",
       "│                    [-0.6035,  1.3166,  0.2733]],\n",
       "│           \n",
       "│                   [[ 0.8140, -0.0181,  0.4719],\n",
       "│                    [-0.6035,  1.3166,  0.2733]],\n",
       "│           \n",
       "│                   [[ 0.8140, -0.0181,  0.4719],\n",
       "│                    [-0.6035,  1.3166,  0.2733]]])\n",
       "└── 'x' --> <FastTreeValue 0x7fa536f6fac0>\n",
       "    └── 'c' --> tensor([[[ 0.6333, -1.7667, -0.8784,  0.2224],\n",
       "                         [-1.5923,  0.0482, -1.1485,  1.2433],\n",
       "                         [ 0.1746,  0.1556,  0.4432,  0.4610]],\n",
       "                \n",
       "                        [[ 0.6333, -1.7667, -0.8784,  0.2224],\n",
       "                         [-1.5923,  0.0482, -1.1485,  1.2433],\n",
       "                         [ 0.1746,  0.1556,  0.4432,  0.4610]],\n",
       "                \n",
       "                        [[ 0.6333, -1.7667, -0.8784,  0.2224],\n",
       "                         [-1.5923,  0.0482, -1.1485,  1.2433],\n",
       "                         [ 0.1746,  0.1556,  0.4432,  0.4610]],\n",
       "                \n",
       "                        [[ 0.6333, -1.7667, -0.8784,  0.2224],\n",
       "                         [-1.5923,  0.0482, -1.1485,  1.2433],\n",
       "                         [ 0.1746,  0.1556,  0.4432,  0.4610]],\n",
       "                \n",
       "                        [[ 0.6333, -1.7667, -0.8784,  0.2224],\n",
       "                         [-1.5923,  0.0482, -1.1485,  1.2433],\n",
       "                         [ 0.1746,  0.1556,  0.4432,  0.4610]],\n",
       "                \n",
       "                        [[ 0.6333, -1.7667, -0.8784,  0.2224],\n",
       "                         [-1.5923,  0.0482, -1.1485,  1.2433],\n",
       "                         [ 0.1746,  0.1556,  0.4432,  0.4610]],\n",
       "                \n",
       "                        [[ 0.6333, -1.7667, -0.8784,  0.2224],\n",
       "                         [-1.5923,  0.0482, -1.1485,  1.2433],\n",
       "                         [ 0.1746,  0.1556,  0.4432,  0.4610]],\n",
       "                \n",
       "                        [[ 0.6333, -1.7667, -0.8784,  0.2224],\n",
       "                         [-1.5923,  0.0482, -1.1485,  1.2433],\n",
       "                         [ 0.1746,  0.1556,  0.4432,  0.4610]]])"
      ]
     },
     "execution_count": 20,
     "metadata": {},
     "output_type": "execute_result"
    }
   ],
   "source": [
    "t_stack = FastTreeValue.func(subside=True)(torch.stack)\n",
    "\n",
    "t_stack(trees)"
   ]
  },
  {
   "cell_type": "code",
   "execution_count": 21,
   "id": "f8b3f415",
   "metadata": {
    "execution": {
     "iopub.execute_input": "2023-02-27T10:00:33.490951Z",
     "iopub.status.busy": "2023-02-27T10:00:33.490611Z",
     "iopub.status.idle": "2023-02-27T10:00:36.094761Z",
     "shell.execute_reply": "2023-02-27T10:00:36.094007Z"
    }
   },
   "outputs": [
    {
     "name": "stdout",
     "output_type": "stream",
     "text": [
      "32 µs ± 37.8 ns per loop (mean ± std. dev. of 7 runs, 10,000 loops each)\n"
     ]
    }
   ],
   "source": [
    "%timeit t_stack(trees)"
   ]
  },
  {
   "cell_type": "code",
   "execution_count": 22,
   "id": "94b56771",
   "metadata": {
    "execution": {
     "iopub.execute_input": "2023-02-27T10:00:36.097475Z",
     "iopub.status.busy": "2023-02-27T10:00:36.097116Z",
     "iopub.status.idle": "2023-02-27T10:00:36.104928Z",
     "shell.execute_reply": "2023-02-27T10:00:36.104359Z"
    }
   },
   "outputs": [
    {
     "data": {
      "text/plain": [
       "<FastTreeValue 0x7fa53dbdaf70>\n",
       "├── 'a' --> tensor([[ 0.8140, -0.0181,  0.4719],\n",
       "│                   [-0.6035,  1.3166,  0.2733],\n",
       "│                   [ 0.8140, -0.0181,  0.4719],\n",
       "│                   [-0.6035,  1.3166,  0.2733],\n",
       "│                   [ 0.8140, -0.0181,  0.4719],\n",
       "│                   [-0.6035,  1.3166,  0.2733],\n",
       "│                   [ 0.8140, -0.0181,  0.4719],\n",
       "│                   [-0.6035,  1.3166,  0.2733],\n",
       "│                   [ 0.8140, -0.0181,  0.4719],\n",
       "│                   [-0.6035,  1.3166,  0.2733],\n",
       "│                   [ 0.8140, -0.0181,  0.4719],\n",
       "│                   [-0.6035,  1.3166,  0.2733],\n",
       "│                   [ 0.8140, -0.0181,  0.4719],\n",
       "│                   [-0.6035,  1.3166,  0.2733],\n",
       "│                   [ 0.8140, -0.0181,  0.4719],\n",
       "│                   [-0.6035,  1.3166,  0.2733]])\n",
       "└── 'x' --> <FastTreeValue 0x7fa5eccf8e50>\n",
       "    └── 'c' --> tensor([[ 0.6333, -1.7667, -0.8784,  0.2224],\n",
       "                        [-1.5923,  0.0482, -1.1485,  1.2433],\n",
       "                        [ 0.1746,  0.1556,  0.4432,  0.4610],\n",
       "                        [ 0.6333, -1.7667, -0.8784,  0.2224],\n",
       "                        [-1.5923,  0.0482, -1.1485,  1.2433],\n",
       "                        [ 0.1746,  0.1556,  0.4432,  0.4610],\n",
       "                        [ 0.6333, -1.7667, -0.8784,  0.2224],\n",
       "                        [-1.5923,  0.0482, -1.1485,  1.2433],\n",
       "                        [ 0.1746,  0.1556,  0.4432,  0.4610],\n",
       "                        [ 0.6333, -1.7667, -0.8784,  0.2224],\n",
       "                        [-1.5923,  0.0482, -1.1485,  1.2433],\n",
       "                        [ 0.1746,  0.1556,  0.4432,  0.4610],\n",
       "                        [ 0.6333, -1.7667, -0.8784,  0.2224],\n",
       "                        [-1.5923,  0.0482, -1.1485,  1.2433],\n",
       "                        [ 0.1746,  0.1556,  0.4432,  0.4610],\n",
       "                        [ 0.6333, -1.7667, -0.8784,  0.2224],\n",
       "                        [-1.5923,  0.0482, -1.1485,  1.2433],\n",
       "                        [ 0.1746,  0.1556,  0.4432,  0.4610],\n",
       "                        [ 0.6333, -1.7667, -0.8784,  0.2224],\n",
       "                        [-1.5923,  0.0482, -1.1485,  1.2433],\n",
       "                        [ 0.1746,  0.1556,  0.4432,  0.4610],\n",
       "                        [ 0.6333, -1.7667, -0.8784,  0.2224],\n",
       "                        [-1.5923,  0.0482, -1.1485,  1.2433],\n",
       "                        [ 0.1746,  0.1556,  0.4432,  0.4610]])"
      ]
     },
     "execution_count": 22,
     "metadata": {},
     "output_type": "execute_result"
    }
   ],
   "source": [
    "t_cat = FastTreeValue.func(subside=True)(torch.cat)\n",
    "\n",
    "t_cat(trees)"
   ]
  },
  {
   "cell_type": "code",
   "execution_count": 23,
   "id": "5e9c06a6",
   "metadata": {
    "execution": {
     "iopub.execute_input": "2023-02-27T10:00:36.107313Z",
     "iopub.status.busy": "2023-02-27T10:00:36.106973Z",
     "iopub.status.idle": "2023-02-27T10:00:38.545280Z",
     "shell.execute_reply": "2023-02-27T10:00:38.544592Z"
    }
   },
   "outputs": [
    {
     "name": "stdout",
     "output_type": "stream",
     "text": [
      "30 µs ± 250 ns per loop (mean ± std. dev. of 7 runs, 10,000 loops each)\n"
     ]
    }
   ],
   "source": [
    "%timeit t_cat(trees)"
   ]
  },
  {
   "cell_type": "code",
   "execution_count": 24,
   "id": "a3ab5c8f",
   "metadata": {
    "execution": {
     "iopub.execute_input": "2023-02-27T10:00:38.548181Z",
     "iopub.status.busy": "2023-02-27T10:00:38.547612Z",
     "iopub.status.idle": "2023-02-27T10:00:43.423222Z",
     "shell.execute_reply": "2023-02-27T10:00:43.422489Z"
    }
   },
   "outputs": [
    {
     "name": "stdout",
     "output_type": "stream",
     "text": [
      "60 µs ± 28.7 ns per loop (mean ± std. dev. of 7 runs, 10,000 loops each)\n"
     ]
    }
   ],
   "source": [
    "t_split = FastTreeValue.func(rise=True)(torch.split)\n",
    "tree = FastTreeValue({\n",
    "    'obs': torch.randn(8, 4, 84, 84),\n",
    "    'action': torch.randint(0, 6, size=(8, 1,)),\n",
    "    'reward': torch.rand(8, 1),\n",
    "})\n",
    "\n",
    "%timeit t_split(tree, 1)"
   ]
  },
  {
   "cell_type": "markdown",
   "id": "31c3ec0b",
   "metadata": {},
   "source": [
    "### Performance of Tianshou Batch"
   ]
  },
  {
   "cell_type": "code",
   "execution_count": 25,
   "id": "9ead828a",
   "metadata": {
    "execution": {
     "iopub.execute_input": "2023-02-27T10:00:43.426262Z",
     "iopub.status.busy": "2023-02-27T10:00:43.425887Z",
     "iopub.status.idle": "2023-02-27T10:00:43.433895Z",
     "shell.execute_reply": "2023-02-27T10:00:43.433310Z"
    }
   },
   "outputs": [
    {
     "data": {
      "text/plain": [
       "Batch(\n",
       "    a: tensor([[[ 0.8140, -0.0181,  0.4719],\n",
       "                [-0.6035,  1.3166,  0.2733]],\n",
       "       \n",
       "               [[ 0.8140, -0.0181,  0.4719],\n",
       "                [-0.6035,  1.3166,  0.2733]],\n",
       "       \n",
       "               [[ 0.8140, -0.0181,  0.4719],\n",
       "                [-0.6035,  1.3166,  0.2733]],\n",
       "       \n",
       "               [[ 0.8140, -0.0181,  0.4719],\n",
       "                [-0.6035,  1.3166,  0.2733]],\n",
       "       \n",
       "               [[ 0.8140, -0.0181,  0.4719],\n",
       "                [-0.6035,  1.3166,  0.2733]],\n",
       "       \n",
       "               [[ 0.8140, -0.0181,  0.4719],\n",
       "                [-0.6035,  1.3166,  0.2733]],\n",
       "       \n",
       "               [[ 0.8140, -0.0181,  0.4719],\n",
       "                [-0.6035,  1.3166,  0.2733]],\n",
       "       \n",
       "               [[ 0.8140, -0.0181,  0.4719],\n",
       "                [-0.6035,  1.3166,  0.2733]]]),\n",
       "    x: Batch(\n",
       "           c: tensor([[[ 0.6333, -1.7667, -0.8784,  0.2224],\n",
       "                       [-1.5923,  0.0482, -1.1485,  1.2433],\n",
       "                       [ 0.1746,  0.1556,  0.4432,  0.4610]],\n",
       "              \n",
       "                      [[ 0.6333, -1.7667, -0.8784,  0.2224],\n",
       "                       [-1.5923,  0.0482, -1.1485,  1.2433],\n",
       "                       [ 0.1746,  0.1556,  0.4432,  0.4610]],\n",
       "              \n",
       "                      [[ 0.6333, -1.7667, -0.8784,  0.2224],\n",
       "                       [-1.5923,  0.0482, -1.1485,  1.2433],\n",
       "                       [ 0.1746,  0.1556,  0.4432,  0.4610]],\n",
       "              \n",
       "                      [[ 0.6333, -1.7667, -0.8784,  0.2224],\n",
       "                       [-1.5923,  0.0482, -1.1485,  1.2433],\n",
       "                       [ 0.1746,  0.1556,  0.4432,  0.4610]],\n",
       "              \n",
       "                      [[ 0.6333, -1.7667, -0.8784,  0.2224],\n",
       "                       [-1.5923,  0.0482, -1.1485,  1.2433],\n",
       "                       [ 0.1746,  0.1556,  0.4432,  0.4610]],\n",
       "              \n",
       "                      [[ 0.6333, -1.7667, -0.8784,  0.2224],\n",
       "                       [-1.5923,  0.0482, -1.1485,  1.2433],\n",
       "                       [ 0.1746,  0.1556,  0.4432,  0.4610]],\n",
       "              \n",
       "                      [[ 0.6333, -1.7667, -0.8784,  0.2224],\n",
       "                       [-1.5923,  0.0482, -1.1485,  1.2433],\n",
       "                       [ 0.1746,  0.1556,  0.4432,  0.4610]],\n",
       "              \n",
       "                      [[ 0.6333, -1.7667, -0.8784,  0.2224],\n",
       "                       [-1.5923,  0.0482, -1.1485,  1.2433],\n",
       "                       [ 0.1746,  0.1556,  0.4432,  0.4610]]]),\n",
       "       ),\n",
       ")"
      ]
     },
     "execution_count": 25,
     "metadata": {},
     "output_type": "execute_result"
    }
   ],
   "source": [
    "batches = [Batch(**_TREE_DATA_2) for _ in range(8)]\n",
    "\n",
    "Batch.stack(batches)"
   ]
  },
  {
   "cell_type": "code",
   "execution_count": 26,
   "id": "ec9037a3",
   "metadata": {
    "execution": {
     "iopub.execute_input": "2023-02-27T10:00:43.436563Z",
     "iopub.status.busy": "2023-02-27T10:00:43.436232Z",
     "iopub.status.idle": "2023-02-27T10:00:49.831483Z",
     "shell.execute_reply": "2023-02-27T10:00:49.830781Z"
    }
   },
   "outputs": [
    {
     "name": "stdout",
     "output_type": "stream",
     "text": [
      "78.6 µs ± 331 ns per loop (mean ± std. dev. of 7 runs, 10,000 loops each)\n"
     ]
    }
   ],
   "source": [
    "%timeit Batch.stack(batches)"
   ]
  },
  {
   "cell_type": "code",
   "execution_count": 27,
   "id": "cb8ab77e",
   "metadata": {
    "execution": {
     "iopub.execute_input": "2023-02-27T10:00:49.834925Z",
     "iopub.status.busy": "2023-02-27T10:00:49.834552Z",
     "iopub.status.idle": "2023-02-27T10:00:49.842393Z",
     "shell.execute_reply": "2023-02-27T10:00:49.841806Z"
    }
   },
   "outputs": [
    {
     "data": {
      "text/plain": [
       "Batch(\n",
       "    a: tensor([[ 0.8140, -0.0181,  0.4719],\n",
       "               [-0.6035,  1.3166,  0.2733],\n",
       "               [ 0.8140, -0.0181,  0.4719],\n",
       "               [-0.6035,  1.3166,  0.2733],\n",
       "               [ 0.8140, -0.0181,  0.4719],\n",
       "               [-0.6035,  1.3166,  0.2733],\n",
       "               [ 0.8140, -0.0181,  0.4719],\n",
       "               [-0.6035,  1.3166,  0.2733],\n",
       "               [ 0.8140, -0.0181,  0.4719],\n",
       "               [-0.6035,  1.3166,  0.2733],\n",
       "               [ 0.8140, -0.0181,  0.4719],\n",
       "               [-0.6035,  1.3166,  0.2733],\n",
       "               [ 0.8140, -0.0181,  0.4719],\n",
       "               [-0.6035,  1.3166,  0.2733],\n",
       "               [ 0.8140, -0.0181,  0.4719],\n",
       "               [-0.6035,  1.3166,  0.2733]]),\n",
       "    x: Batch(\n",
       "           c: tensor([[ 0.6333, -1.7667, -0.8784,  0.2224],\n",
       "                      [-1.5923,  0.0482, -1.1485,  1.2433],\n",
       "                      [ 0.1746,  0.1556,  0.4432,  0.4610],\n",
       "                      [ 0.6333, -1.7667, -0.8784,  0.2224],\n",
       "                      [-1.5923,  0.0482, -1.1485,  1.2433],\n",
       "                      [ 0.1746,  0.1556,  0.4432,  0.4610],\n",
       "                      [ 0.6333, -1.7667, -0.8784,  0.2224],\n",
       "                      [-1.5923,  0.0482, -1.1485,  1.2433],\n",
       "                      [ 0.1746,  0.1556,  0.4432,  0.4610],\n",
       "                      [ 0.6333, -1.7667, -0.8784,  0.2224],\n",
       "                      [-1.5923,  0.0482, -1.1485,  1.2433],\n",
       "                      [ 0.1746,  0.1556,  0.4432,  0.4610],\n",
       "                      [ 0.6333, -1.7667, -0.8784,  0.2224],\n",
       "                      [-1.5923,  0.0482, -1.1485,  1.2433],\n",
       "                      [ 0.1746,  0.1556,  0.4432,  0.4610],\n",
       "                      [ 0.6333, -1.7667, -0.8784,  0.2224],\n",
       "                      [-1.5923,  0.0482, -1.1485,  1.2433],\n",
       "                      [ 0.1746,  0.1556,  0.4432,  0.4610],\n",
       "                      [ 0.6333, -1.7667, -0.8784,  0.2224],\n",
       "                      [-1.5923,  0.0482, -1.1485,  1.2433],\n",
       "                      [ 0.1746,  0.1556,  0.4432,  0.4610],\n",
       "                      [ 0.6333, -1.7667, -0.8784,  0.2224],\n",
       "                      [-1.5923,  0.0482, -1.1485,  1.2433],\n",
       "                      [ 0.1746,  0.1556,  0.4432,  0.4610]]),\n",
       "       ),\n",
       ")"
      ]
     },
     "execution_count": 27,
     "metadata": {},
     "output_type": "execute_result"
    }
   ],
   "source": [
    "Batch.cat(batches)"
   ]
  },
  {
   "cell_type": "code",
   "execution_count": 28,
   "id": "18dfb045",
   "metadata": {
    "execution": {
     "iopub.execute_input": "2023-02-27T10:00:49.845039Z",
     "iopub.status.busy": "2023-02-27T10:00:49.844702Z",
     "iopub.status.idle": "2023-02-27T10:01:01.507903Z",
     "shell.execute_reply": "2023-02-27T10:01:01.507074Z"
    }
   },
   "outputs": [
    {
     "name": "stdout",
     "output_type": "stream",
     "text": [
      "144 µs ± 314 ns per loop (mean ± std. dev. of 7 runs, 10,000 loops each)\n"
     ]
    }
   ],
   "source": [
    "%timeit Batch.cat(batches)"
   ]
  },
  {
   "cell_type": "code",
   "execution_count": 29,
   "id": "c6688e51",
   "metadata": {
    "execution": {
     "iopub.execute_input": "2023-02-27T10:01:01.511665Z",
     "iopub.status.busy": "2023-02-27T10:01:01.511000Z",
     "iopub.status.idle": "2023-02-27T10:01:04.431780Z",
     "shell.execute_reply": "2023-02-27T10:01:04.431213Z"
    }
   },
   "outputs": [
    {
     "name": "stdout",
     "output_type": "stream",
     "text": [
      "359 µs ± 1.08 µs per loop (mean ± std. dev. of 7 runs, 1,000 loops each)\n"
     ]
    }
   ],
   "source": [
    "batch = Batch({\n",
    "    'obs': torch.randn(8, 4, 84, 84),\n",
    "    'action': torch.randint(0, 6, size=(8, 1,)),\n",
    "    'reward': torch.rand(8, 1)}\n",
    ")\n",
    "\n",
    "%timeit list(Batch.split(batch, 1, shuffle=False, merge_last=True))"
   ]
  },
  {
   "cell_type": "code",
   "execution_count": null,
   "id": "2539fbd9",
   "metadata": {},
   "outputs": [],
   "source": []
  }
 ],
 "metadata": {
  "kernelspec": {
   "display_name": "Python 3 (ipykernel)",
   "language": "python",
   "name": "python3"
  },
  "language_info": {
   "codemirror_mode": {
    "name": "ipython",
    "version": 3
   },
   "file_extension": ".py",
   "mimetype": "text/x-python",
   "name": "python",
   "nbconvert_exporter": "python",
   "pygments_lexer": "ipython3",
   "version": "3.8.16"
  }
 },
 "nbformat": 4,
 "nbformat_minor": 5
}
