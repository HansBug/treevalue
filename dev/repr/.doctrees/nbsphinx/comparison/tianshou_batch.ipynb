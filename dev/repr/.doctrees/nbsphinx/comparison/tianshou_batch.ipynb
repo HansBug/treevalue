{
 "cells": [
  {
   "cell_type": "markdown",
   "id": "9d39d946",
   "metadata": {},
   "source": [
    "# Comparison Between TreeValue and Tianshou Batch"
   ]
  },
  {
   "cell_type": "markdown",
   "id": "3c6db2d4",
   "metadata": {},
   "source": [
    "In this section, we will take a look at the feature and performance of the [Tianshou Batch](https://github.com/thu-ml/tianshou) library, which is developed by Tsinghua Machine Learning Group."
   ]
  },
  {
   "cell_type": "markdown",
   "id": "069361b0",
   "metadata": {},
   "source": [
    "Before starting the comparison, let us define some thing."
   ]
  },
  {
   "cell_type": "code",
   "execution_count": 1,
   "id": "06fc8d26",
   "metadata": {
    "execution": {
     "iopub.execute_input": "2023-02-27T13:16:11.631674Z",
     "iopub.status.busy": "2023-02-27T13:16:11.631193Z",
     "iopub.status.idle": "2023-02-27T13:16:12.814856Z",
     "shell.execute_reply": "2023-02-27T13:16:12.813793Z"
    }
   },
   "outputs": [
    {
     "name": "stderr",
     "output_type": "stream",
     "text": [
      "/opt/hostedtoolcache/Python/3.8.16/x64/lib/python3.8/site-packages/tqdm/auto.py:22: TqdmWarning: IProgress not found. Please update jupyter and ipywidgets. See https://ipywidgets.readthedocs.io/en/stable/user_install.html\n",
      "  from .autonotebook import tqdm as notebook_tqdm\n"
     ]
    }
   ],
   "source": [
    "import torch \n",
    "\n",
    "_TREE_DATA_1 = {'a': 1, 'b': 2, 'x': {'c': 3, 'd': 4}}\n",
    "_TREE_DATA_2 = {\n",
    "    'a': torch.randn(2, 3), \n",
    "    'x': {\n",
    "        'c': torch.randn(3, 4)\n",
    "    },\n",
    "}\n",
    "_TREE_DATA_3 = {\n",
    "    'obs': torch.randn(4, 84, 84),\n",
    "    'action': torch.randint(0, 6, size=(1,)),\n",
    "    'reward': torch.rand(1),\n",
    "}"
   ]
  },
  {
   "cell_type": "markdown",
   "id": "83461b25",
   "metadata": {},
   "source": [
    "## Read and Write Operation"
   ]
  },
  {
   "cell_type": "markdown",
   "id": "067b3f73",
   "metadata": {},
   "source": [
    "Reading and writing are the two most common operations in the tree data structure based on the data model (TreeValue and Tianshou Batch both belong to this type), so this section will compare the reading and writing performance of these two libraries."
   ]
  },
  {
   "cell_type": "markdown",
   "id": "5d09a5b7",
   "metadata": {},
   "source": [
    "### TreeValue's Get and Set"
   ]
  },
  {
   "cell_type": "code",
   "execution_count": 2,
   "id": "9519c4bb",
   "metadata": {
    "execution": {
     "iopub.execute_input": "2023-02-27T13:16:12.820037Z",
     "iopub.status.busy": "2023-02-27T13:16:12.819504Z",
     "iopub.status.idle": "2023-02-27T13:16:13.167997Z",
     "shell.execute_reply": "2023-02-27T13:16:13.166988Z"
    }
   },
   "outputs": [],
   "source": [
    "from treevalue import FastTreeValue\n",
    "\n",
    "t = FastTreeValue(_TREE_DATA_2)"
   ]
  },
  {
   "cell_type": "code",
   "execution_count": 3,
   "id": "11c37677",
   "metadata": {
    "execution": {
     "iopub.execute_input": "2023-02-27T13:16:13.171815Z",
     "iopub.status.busy": "2023-02-27T13:16:13.171205Z",
     "iopub.status.idle": "2023-02-27T13:16:13.182064Z",
     "shell.execute_reply": "2023-02-27T13:16:13.181103Z"
    }
   },
   "outputs": [
    {
     "data": {
      "text/plain": [
       "<FastTreeValue 0x7fdbe0d21d00>\n",
       "├── 'a' --> tensor([[ 0.3944, -0.3479, -0.0087],\n",
       "│                   [ 0.7319,  2.1621, -0.3960]])\n",
       "└── 'x' --> <FastTreeValue 0x7fdbe0d1aaf0>\n",
       "    └── 'c' --> tensor([[ 0.9232, -0.2992,  0.9040,  0.4002],\n",
       "                        [ 0.0252,  0.1823, -2.5212, -0.8786],\n",
       "                        [-1.7766, -1.4758,  1.3622, -0.6583]])"
      ]
     },
     "execution_count": 3,
     "metadata": {},
     "output_type": "execute_result"
    }
   ],
   "source": [
    "t"
   ]
  },
  {
   "cell_type": "code",
   "execution_count": 4,
   "id": "fd70b0b9",
   "metadata": {
    "execution": {
     "iopub.execute_input": "2023-02-27T13:16:13.186022Z",
     "iopub.status.busy": "2023-02-27T13:16:13.185612Z",
     "iopub.status.idle": "2023-02-27T13:16:13.192202Z",
     "shell.execute_reply": "2023-02-27T13:16:13.191432Z"
    }
   },
   "outputs": [
    {
     "data": {
      "text/plain": [
       "tensor([[ 0.3944, -0.3479, -0.0087],\n",
       "        [ 0.7319,  2.1621, -0.3960]])"
      ]
     },
     "execution_count": 4,
     "metadata": {},
     "output_type": "execute_result"
    }
   ],
   "source": [
    "t.a"
   ]
  },
  {
   "cell_type": "code",
   "execution_count": 5,
   "id": "c18197bd",
   "metadata": {
    "execution": {
     "iopub.execute_input": "2023-02-27T13:16:13.195508Z",
     "iopub.status.busy": "2023-02-27T13:16:13.195124Z",
     "iopub.status.idle": "2023-02-27T13:16:19.477809Z",
     "shell.execute_reply": "2023-02-27T13:16:19.476757Z"
    }
   },
   "outputs": [
    {
     "name": "stdout",
     "output_type": "stream",
     "text": [
      "77.4 ns ± 0.171 ns per loop (mean ± std. dev. of 7 runs, 10,000,000 loops each)\n"
     ]
    }
   ],
   "source": [
    "%timeit t.a"
   ]
  },
  {
   "cell_type": "code",
   "execution_count": 6,
   "id": "bd52f867",
   "metadata": {
    "execution": {
     "iopub.execute_input": "2023-02-27T13:16:19.481858Z",
     "iopub.status.busy": "2023-02-27T13:16:19.481127Z",
     "iopub.status.idle": "2023-02-27T13:16:19.490096Z",
     "shell.execute_reply": "2023-02-27T13:16:19.489238Z"
    }
   },
   "outputs": [
    {
     "data": {
      "text/plain": [
       "<FastTreeValue 0x7fdbe0d21d00>\n",
       "├── 'a' --> tensor([[ 1.0624, -0.8948,  0.1961],\n",
       "│                   [ 1.8121, -0.4240, -0.5282]])\n",
       "└── 'x' --> <FastTreeValue 0x7fdbe0d1aaf0>\n",
       "    └── 'c' --> tensor([[ 0.9232, -0.2992,  0.9040,  0.4002],\n",
       "                        [ 0.0252,  0.1823, -2.5212, -0.8786],\n",
       "                        [-1.7766, -1.4758,  1.3622, -0.6583]])"
      ]
     },
     "execution_count": 6,
     "metadata": {},
     "output_type": "execute_result"
    }
   ],
   "source": [
    "new_value = torch.randn(2, 3)\n",
    "t.a = new_value\n",
    "\n",
    "t"
   ]
  },
  {
   "cell_type": "code",
   "execution_count": 7,
   "id": "bbe04d1c",
   "metadata": {
    "execution": {
     "iopub.execute_input": "2023-02-27T13:16:19.493941Z",
     "iopub.status.busy": "2023-02-27T13:16:19.493291Z",
     "iopub.status.idle": "2023-02-27T13:16:26.124085Z",
     "shell.execute_reply": "2023-02-27T13:16:26.122885Z"
    }
   },
   "outputs": [
    {
     "name": "stdout",
     "output_type": "stream",
     "text": [
      "81.6 ns ± 0.308 ns per loop (mean ± std. dev. of 7 runs, 10,000,000 loops each)\n"
     ]
    }
   ],
   "source": [
    "%timeit t.a = new_value"
   ]
  },
  {
   "cell_type": "markdown",
   "id": "48c49731",
   "metadata": {},
   "source": [
    "### Tianshou Batch's Get and Set"
   ]
  },
  {
   "cell_type": "code",
   "execution_count": 8,
   "id": "f1bb14c1",
   "metadata": {
    "execution": {
     "iopub.execute_input": "2023-02-27T13:16:26.127869Z",
     "iopub.status.busy": "2023-02-27T13:16:26.127287Z",
     "iopub.status.idle": "2023-02-27T13:16:26.545189Z",
     "shell.execute_reply": "2023-02-27T13:16:26.544317Z"
    }
   },
   "outputs": [],
   "source": [
    "from tianshou.data import Batch\n",
    "\n",
    "b = Batch(**_TREE_DATA_2)"
   ]
  },
  {
   "cell_type": "code",
   "execution_count": 9,
   "id": "cb0777c3",
   "metadata": {
    "execution": {
     "iopub.execute_input": "2023-02-27T13:16:26.549029Z",
     "iopub.status.busy": "2023-02-27T13:16:26.548364Z",
     "iopub.status.idle": "2023-02-27T13:16:26.557171Z",
     "shell.execute_reply": "2023-02-27T13:16:26.556467Z"
    }
   },
   "outputs": [
    {
     "data": {
      "text/plain": [
       "Batch(\n",
       "    a: tensor([[ 0.3944, -0.3479, -0.0087],\n",
       "               [ 0.7319,  2.1621, -0.3960]]),\n",
       "    x: Batch(\n",
       "           c: tensor([[ 0.9232, -0.2992,  0.9040,  0.4002],\n",
       "                      [ 0.0252,  0.1823, -2.5212, -0.8786],\n",
       "                      [-1.7766, -1.4758,  1.3622, -0.6583]]),\n",
       "       ),\n",
       ")"
      ]
     },
     "execution_count": 9,
     "metadata": {},
     "output_type": "execute_result"
    }
   ],
   "source": [
    "b"
   ]
  },
  {
   "cell_type": "code",
   "execution_count": 10,
   "id": "43ef8ea3",
   "metadata": {
    "execution": {
     "iopub.execute_input": "2023-02-27T13:16:26.560532Z",
     "iopub.status.busy": "2023-02-27T13:16:26.559898Z",
     "iopub.status.idle": "2023-02-27T13:16:26.566810Z",
     "shell.execute_reply": "2023-02-27T13:16:26.566099Z"
    }
   },
   "outputs": [
    {
     "data": {
      "text/plain": [
       "tensor([[ 0.3944, -0.3479, -0.0087],\n",
       "        [ 0.7319,  2.1621, -0.3960]])"
      ]
     },
     "execution_count": 10,
     "metadata": {},
     "output_type": "execute_result"
    }
   ],
   "source": [
    "b.a"
   ]
  },
  {
   "cell_type": "code",
   "execution_count": 11,
   "id": "b785ab72",
   "metadata": {
    "execution": {
     "iopub.execute_input": "2023-02-27T13:16:26.570408Z",
     "iopub.status.busy": "2023-02-27T13:16:26.569674Z",
     "iopub.status.idle": "2023-02-27T13:16:32.152895Z",
     "shell.execute_reply": "2023-02-27T13:16:32.151700Z"
    }
   },
   "outputs": [
    {
     "name": "stdout",
     "output_type": "stream",
     "text": [
      "68.6 ns ± 0.0822 ns per loop (mean ± std. dev. of 7 runs, 10,000,000 loops each)\n"
     ]
    }
   ],
   "source": [
    "%timeit b.a"
   ]
  },
  {
   "cell_type": "code",
   "execution_count": 12,
   "id": "ad54dc69",
   "metadata": {
    "execution": {
     "iopub.execute_input": "2023-02-27T13:16:32.156680Z",
     "iopub.status.busy": "2023-02-27T13:16:32.156125Z",
     "iopub.status.idle": "2023-02-27T13:16:32.165451Z",
     "shell.execute_reply": "2023-02-27T13:16:32.164692Z"
    }
   },
   "outputs": [
    {
     "data": {
      "text/plain": [
       "Batch(\n",
       "    a: tensor([[-1.4297,  1.4878, -1.1435],\n",
       "               [-0.5496,  0.3679,  0.5675]]),\n",
       "    x: Batch(\n",
       "           c: tensor([[ 0.9232, -0.2992,  0.9040,  0.4002],\n",
       "                      [ 0.0252,  0.1823, -2.5212, -0.8786],\n",
       "                      [-1.7766, -1.4758,  1.3622, -0.6583]]),\n",
       "       ),\n",
       ")"
      ]
     },
     "execution_count": 12,
     "metadata": {},
     "output_type": "execute_result"
    }
   ],
   "source": [
    "new_value = torch.randn(2, 3)\n",
    "b.a = new_value\n",
    "\n",
    "b"
   ]
  },
  {
   "cell_type": "code",
   "execution_count": 13,
   "id": "29b1d0bf",
   "metadata": {
    "execution": {
     "iopub.execute_input": "2023-02-27T13:16:32.168944Z",
     "iopub.status.busy": "2023-02-27T13:16:32.168419Z",
     "iopub.status.idle": "2023-02-27T13:16:36.931533Z",
     "shell.execute_reply": "2023-02-27T13:16:36.930646Z"
    }
   },
   "outputs": [
    {
     "name": "stdout",
     "output_type": "stream",
     "text": [
      "581 ns ± 1.84 ns per loop (mean ± std. dev. of 7 runs, 1,000,000 loops each)\n"
     ]
    }
   ],
   "source": [
    "%timeit b.a = new_value"
   ]
  },
  {
   "cell_type": "markdown",
   "id": "b61ad1d0",
   "metadata": {},
   "source": [
    "## Initialization"
   ]
  },
  {
   "cell_type": "markdown",
   "id": "d70f0d54",
   "metadata": {},
   "source": [
    "### TreeValue's Initialization"
   ]
  },
  {
   "cell_type": "code",
   "execution_count": 14,
   "id": "d32a679b",
   "metadata": {
    "execution": {
     "iopub.execute_input": "2023-02-27T13:16:36.935121Z",
     "iopub.status.busy": "2023-02-27T13:16:36.934586Z",
     "iopub.status.idle": "2023-02-27T13:16:44.781674Z",
     "shell.execute_reply": "2023-02-27T13:16:44.780744Z"
    }
   },
   "outputs": [
    {
     "name": "stdout",
     "output_type": "stream",
     "text": [
      "967 ns ± 2.99 ns per loop (mean ± std. dev. of 7 runs, 1,000,000 loops each)\n"
     ]
    }
   ],
   "source": [
    "%timeit FastTreeValue(_TREE_DATA_1)"
   ]
  },
  {
   "cell_type": "markdown",
   "id": "24f3707b",
   "metadata": {},
   "source": [
    "### Tianshou Batch's Initialization"
   ]
  },
  {
   "cell_type": "code",
   "execution_count": 15,
   "id": "ac3958df",
   "metadata": {
    "execution": {
     "iopub.execute_input": "2023-02-27T13:16:44.785547Z",
     "iopub.status.busy": "2023-02-27T13:16:44.784912Z",
     "iopub.status.idle": "2023-02-27T13:16:54.630769Z",
     "shell.execute_reply": "2023-02-27T13:16:54.629842Z"
    }
   },
   "outputs": [
    {
     "name": "stdout",
     "output_type": "stream",
     "text": [
      "12.1 µs ± 34.9 ns per loop (mean ± std. dev. of 7 runs, 100,000 loops each)\n"
     ]
    }
   ],
   "source": [
    "%timeit Batch(**_TREE_DATA_1)"
   ]
  },
  {
   "cell_type": "markdown",
   "id": "1ab82e2d",
   "metadata": {},
   "source": [
    "## Deep Copy Operation"
   ]
  },
  {
   "cell_type": "code",
   "execution_count": 16,
   "id": "210a9442",
   "metadata": {
    "execution": {
     "iopub.execute_input": "2023-02-27T13:16:54.634555Z",
     "iopub.status.busy": "2023-02-27T13:16:54.634011Z",
     "iopub.status.idle": "2023-02-27T13:16:54.638884Z",
     "shell.execute_reply": "2023-02-27T13:16:54.638011Z"
    }
   },
   "outputs": [],
   "source": [
    "import copy"
   ]
  },
  {
   "cell_type": "markdown",
   "id": "5a736274",
   "metadata": {},
   "source": [
    "### Deep Copy of TreeValue"
   ]
  },
  {
   "cell_type": "code",
   "execution_count": 17,
   "id": "f9bcadd6",
   "metadata": {
    "execution": {
     "iopub.execute_input": "2023-02-27T13:16:54.642419Z",
     "iopub.status.busy": "2023-02-27T13:16:54.642012Z",
     "iopub.status.idle": "2023-02-27T13:17:08.648799Z",
     "shell.execute_reply": "2023-02-27T13:17:08.648043Z"
    }
   },
   "outputs": [
    {
     "name": "stdout",
     "output_type": "stream",
     "text": [
      "173 µs ± 820 ns per loop (mean ± std. dev. of 7 runs, 10,000 loops each)\n"
     ]
    }
   ],
   "source": [
    "t3 = FastTreeValue(_TREE_DATA_3)\n",
    "%timeit copy.deepcopy(t3)"
   ]
  },
  {
   "cell_type": "markdown",
   "id": "bf8be7ea",
   "metadata": {},
   "source": [
    "### Deep Copy of Tianshou Batch"
   ]
  },
  {
   "cell_type": "code",
   "execution_count": 18,
   "id": "91998e6f",
   "metadata": {
    "execution": {
     "iopub.execute_input": "2023-02-27T13:17:08.652362Z",
     "iopub.status.busy": "2023-02-27T13:17:08.652079Z",
     "iopub.status.idle": "2023-02-27T13:17:22.380624Z",
     "shell.execute_reply": "2023-02-27T13:17:22.379907Z"
    }
   },
   "outputs": [
    {
     "name": "stdout",
     "output_type": "stream",
     "text": [
      "169 µs ± 486 ns per loop (mean ± std. dev. of 7 runs, 10,000 loops each)\n"
     ]
    }
   ],
   "source": [
    "b3 = Batch(**_TREE_DATA_3)\n",
    "%timeit copy.deepcopy(b3)"
   ]
  },
  {
   "cell_type": "markdown",
   "id": "223162fb",
   "metadata": {},
   "source": [
    "## Stack, Concat and Split Operation"
   ]
  },
  {
   "cell_type": "markdown",
   "id": "85fa4a73",
   "metadata": {},
   "source": [
    "### Performance of TreeValue"
   ]
  },
  {
   "cell_type": "code",
   "execution_count": 19,
   "id": "a0c2b697",
   "metadata": {
    "execution": {
     "iopub.execute_input": "2023-02-27T13:17:22.384019Z",
     "iopub.status.busy": "2023-02-27T13:17:22.383457Z",
     "iopub.status.idle": "2023-02-27T13:17:22.387345Z",
     "shell.execute_reply": "2023-02-27T13:17:22.386699Z"
    }
   },
   "outputs": [],
   "source": [
    "trees = [FastTreeValue(_TREE_DATA_2) for _ in range(8)]"
   ]
  },
  {
   "cell_type": "code",
   "execution_count": 20,
   "id": "017ea5a5",
   "metadata": {
    "execution": {
     "iopub.execute_input": "2023-02-27T13:17:22.390219Z",
     "iopub.status.busy": "2023-02-27T13:17:22.389693Z",
     "iopub.status.idle": "2023-02-27T13:17:22.397814Z",
     "shell.execute_reply": "2023-02-27T13:17:22.397186Z"
    }
   },
   "outputs": [
    {
     "data": {
      "text/plain": [
       "<FastTreeValue 0x7fdbe0d8e9d0>\n",
       "├── 'a' --> tensor([[[ 0.3944, -0.3479, -0.0087],\n",
       "│                    [ 0.7319,  2.1621, -0.3960]],\n",
       "│           \n",
       "│                   [[ 0.3944, -0.3479, -0.0087],\n",
       "│                    [ 0.7319,  2.1621, -0.3960]],\n",
       "│           \n",
       "│                   [[ 0.3944, -0.3479, -0.0087],\n",
       "│                    [ 0.7319,  2.1621, -0.3960]],\n",
       "│           \n",
       "│                   [[ 0.3944, -0.3479, -0.0087],\n",
       "│                    [ 0.7319,  2.1621, -0.3960]],\n",
       "│           \n",
       "│                   [[ 0.3944, -0.3479, -0.0087],\n",
       "│                    [ 0.7319,  2.1621, -0.3960]],\n",
       "│           \n",
       "│                   [[ 0.3944, -0.3479, -0.0087],\n",
       "│                    [ 0.7319,  2.1621, -0.3960]],\n",
       "│           \n",
       "│                   [[ 0.3944, -0.3479, -0.0087],\n",
       "│                    [ 0.7319,  2.1621, -0.3960]],\n",
       "│           \n",
       "│                   [[ 0.3944, -0.3479, -0.0087],\n",
       "│                    [ 0.7319,  2.1621, -0.3960]]])\n",
       "└── 'x' --> <FastTreeValue 0x7fdb29fa1d30>\n",
       "    └── 'c' --> tensor([[[ 0.9232, -0.2992,  0.9040,  0.4002],\n",
       "                         [ 0.0252,  0.1823, -2.5212, -0.8786],\n",
       "                         [-1.7766, -1.4758,  1.3622, -0.6583]],\n",
       "                \n",
       "                        [[ 0.9232, -0.2992,  0.9040,  0.4002],\n",
       "                         [ 0.0252,  0.1823, -2.5212, -0.8786],\n",
       "                         [-1.7766, -1.4758,  1.3622, -0.6583]],\n",
       "                \n",
       "                        [[ 0.9232, -0.2992,  0.9040,  0.4002],\n",
       "                         [ 0.0252,  0.1823, -2.5212, -0.8786],\n",
       "                         [-1.7766, -1.4758,  1.3622, -0.6583]],\n",
       "                \n",
       "                        [[ 0.9232, -0.2992,  0.9040,  0.4002],\n",
       "                         [ 0.0252,  0.1823, -2.5212, -0.8786],\n",
       "                         [-1.7766, -1.4758,  1.3622, -0.6583]],\n",
       "                \n",
       "                        [[ 0.9232, -0.2992,  0.9040,  0.4002],\n",
       "                         [ 0.0252,  0.1823, -2.5212, -0.8786],\n",
       "                         [-1.7766, -1.4758,  1.3622, -0.6583]],\n",
       "                \n",
       "                        [[ 0.9232, -0.2992,  0.9040,  0.4002],\n",
       "                         [ 0.0252,  0.1823, -2.5212, -0.8786],\n",
       "                         [-1.7766, -1.4758,  1.3622, -0.6583]],\n",
       "                \n",
       "                        [[ 0.9232, -0.2992,  0.9040,  0.4002],\n",
       "                         [ 0.0252,  0.1823, -2.5212, -0.8786],\n",
       "                         [-1.7766, -1.4758,  1.3622, -0.6583]],\n",
       "                \n",
       "                        [[ 0.9232, -0.2992,  0.9040,  0.4002],\n",
       "                         [ 0.0252,  0.1823, -2.5212, -0.8786],\n",
       "                         [-1.7766, -1.4758,  1.3622, -0.6583]]])"
      ]
     },
     "execution_count": 20,
     "metadata": {},
     "output_type": "execute_result"
    }
   ],
   "source": [
    "t_stack = FastTreeValue.func(subside=True)(torch.stack)\n",
    "\n",
    "t_stack(trees)"
   ]
  },
  {
   "cell_type": "code",
   "execution_count": 21,
   "id": "f8b3f415",
   "metadata": {
    "execution": {
     "iopub.execute_input": "2023-02-27T13:17:22.400849Z",
     "iopub.status.busy": "2023-02-27T13:17:22.400163Z",
     "iopub.status.idle": "2023-02-27T13:17:25.496854Z",
     "shell.execute_reply": "2023-02-27T13:17:25.495951Z"
    }
   },
   "outputs": [
    {
     "name": "stdout",
     "output_type": "stream",
     "text": [
      "38.1 µs ± 82 ns per loop (mean ± std. dev. of 7 runs, 10,000 loops each)\n"
     ]
    }
   ],
   "source": [
    "%timeit t_stack(trees)"
   ]
  },
  {
   "cell_type": "code",
   "execution_count": 22,
   "id": "94b56771",
   "metadata": {
    "execution": {
     "iopub.execute_input": "2023-02-27T13:17:25.500619Z",
     "iopub.status.busy": "2023-02-27T13:17:25.500070Z",
     "iopub.status.idle": "2023-02-27T13:17:25.511978Z",
     "shell.execute_reply": "2023-02-27T13:17:25.511230Z"
    }
   },
   "outputs": [
    {
     "data": {
      "text/plain": [
       "<FastTreeValue 0x7fdb29fa1b50>\n",
       "├── 'a' --> tensor([[ 0.3944, -0.3479, -0.0087],\n",
       "│                   [ 0.7319,  2.1621, -0.3960],\n",
       "│                   [ 0.3944, -0.3479, -0.0087],\n",
       "│                   [ 0.7319,  2.1621, -0.3960],\n",
       "│                   [ 0.3944, -0.3479, -0.0087],\n",
       "│                   [ 0.7319,  2.1621, -0.3960],\n",
       "│                   [ 0.3944, -0.3479, -0.0087],\n",
       "│                   [ 0.7319,  2.1621, -0.3960],\n",
       "│                   [ 0.3944, -0.3479, -0.0087],\n",
       "│                   [ 0.7319,  2.1621, -0.3960],\n",
       "│                   [ 0.3944, -0.3479, -0.0087],\n",
       "│                   [ 0.7319,  2.1621, -0.3960],\n",
       "│                   [ 0.3944, -0.3479, -0.0087],\n",
       "│                   [ 0.7319,  2.1621, -0.3960],\n",
       "│                   [ 0.3944, -0.3479, -0.0087],\n",
       "│                   [ 0.7319,  2.1621, -0.3960]])\n",
       "└── 'x' --> <FastTreeValue 0x7fdbb89fa2b0>\n",
       "    └── 'c' --> tensor([[ 0.9232, -0.2992,  0.9040,  0.4002],\n",
       "                        [ 0.0252,  0.1823, -2.5212, -0.8786],\n",
       "                        [-1.7766, -1.4758,  1.3622, -0.6583],\n",
       "                        [ 0.9232, -0.2992,  0.9040,  0.4002],\n",
       "                        [ 0.0252,  0.1823, -2.5212, -0.8786],\n",
       "                        [-1.7766, -1.4758,  1.3622, -0.6583],\n",
       "                        [ 0.9232, -0.2992,  0.9040,  0.4002],\n",
       "                        [ 0.0252,  0.1823, -2.5212, -0.8786],\n",
       "                        [-1.7766, -1.4758,  1.3622, -0.6583],\n",
       "                        [ 0.9232, -0.2992,  0.9040,  0.4002],\n",
       "                        [ 0.0252,  0.1823, -2.5212, -0.8786],\n",
       "                        [-1.7766, -1.4758,  1.3622, -0.6583],\n",
       "                        [ 0.9232, -0.2992,  0.9040,  0.4002],\n",
       "                        [ 0.0252,  0.1823, -2.5212, -0.8786],\n",
       "                        [-1.7766, -1.4758,  1.3622, -0.6583],\n",
       "                        [ 0.9232, -0.2992,  0.9040,  0.4002],\n",
       "                        [ 0.0252,  0.1823, -2.5212, -0.8786],\n",
       "                        [-1.7766, -1.4758,  1.3622, -0.6583],\n",
       "                        [ 0.9232, -0.2992,  0.9040,  0.4002],\n",
       "                        [ 0.0252,  0.1823, -2.5212, -0.8786],\n",
       "                        [-1.7766, -1.4758,  1.3622, -0.6583],\n",
       "                        [ 0.9232, -0.2992,  0.9040,  0.4002],\n",
       "                        [ 0.0252,  0.1823, -2.5212, -0.8786],\n",
       "                        [-1.7766, -1.4758,  1.3622, -0.6583]])"
      ]
     },
     "execution_count": 22,
     "metadata": {},
     "output_type": "execute_result"
    }
   ],
   "source": [
    "t_cat = FastTreeValue.func(subside=True)(torch.cat)\n",
    "\n",
    "t_cat(trees)"
   ]
  },
  {
   "cell_type": "code",
   "execution_count": 23,
   "id": "5e9c06a6",
   "metadata": {
    "execution": {
     "iopub.execute_input": "2023-02-27T13:17:25.515548Z",
     "iopub.status.busy": "2023-02-27T13:17:25.515021Z",
     "iopub.status.idle": "2023-02-27T13:17:28.453298Z",
     "shell.execute_reply": "2023-02-27T13:17:28.452315Z"
    }
   },
   "outputs": [
    {
     "name": "stdout",
     "output_type": "stream",
     "text": [
      "36.1 µs ± 89.4 ns per loop (mean ± std. dev. of 7 runs, 10,000 loops each)\n"
     ]
    }
   ],
   "source": [
    "%timeit t_cat(trees)"
   ]
  },
  {
   "cell_type": "code",
   "execution_count": 24,
   "id": "a3ab5c8f",
   "metadata": {
    "execution": {
     "iopub.execute_input": "2023-02-27T13:17:28.457027Z",
     "iopub.status.busy": "2023-02-27T13:17:28.456577Z",
     "iopub.status.idle": "2023-02-27T13:17:34.925378Z",
     "shell.execute_reply": "2023-02-27T13:17:34.923903Z"
    }
   },
   "outputs": [
    {
     "name": "stdout",
     "output_type": "stream",
     "text": [
      "79.9 µs ± 136 ns per loop (mean ± std. dev. of 7 runs, 10,000 loops each)\n"
     ]
    }
   ],
   "source": [
    "t_split = FastTreeValue.func(rise=True)(torch.split)\n",
    "tree = FastTreeValue({\n",
    "    'obs': torch.randn(8, 4, 84, 84),\n",
    "    'action': torch.randint(0, 6, size=(8, 1,)),\n",
    "    'reward': torch.rand(8, 1),\n",
    "})\n",
    "\n",
    "%timeit t_split(tree, 1)"
   ]
  },
  {
   "cell_type": "markdown",
   "id": "31c3ec0b",
   "metadata": {},
   "source": [
    "### Performance of Tianshou Batch"
   ]
  },
  {
   "cell_type": "code",
   "execution_count": 25,
   "id": "9ead828a",
   "metadata": {
    "execution": {
     "iopub.execute_input": "2023-02-27T13:17:34.930674Z",
     "iopub.status.busy": "2023-02-27T13:17:34.930088Z",
     "iopub.status.idle": "2023-02-27T13:17:34.942273Z",
     "shell.execute_reply": "2023-02-27T13:17:34.941099Z"
    }
   },
   "outputs": [
    {
     "data": {
      "text/plain": [
       "Batch(\n",
       "    x: Batch(\n",
       "           c: tensor([[[ 0.9232, -0.2992,  0.9040,  0.4002],\n",
       "                       [ 0.0252,  0.1823, -2.5212, -0.8786],\n",
       "                       [-1.7766, -1.4758,  1.3622, -0.6583]],\n",
       "              \n",
       "                      [[ 0.9232, -0.2992,  0.9040,  0.4002],\n",
       "                       [ 0.0252,  0.1823, -2.5212, -0.8786],\n",
       "                       [-1.7766, -1.4758,  1.3622, -0.6583]],\n",
       "              \n",
       "                      [[ 0.9232, -0.2992,  0.9040,  0.4002],\n",
       "                       [ 0.0252,  0.1823, -2.5212, -0.8786],\n",
       "                       [-1.7766, -1.4758,  1.3622, -0.6583]],\n",
       "              \n",
       "                      [[ 0.9232, -0.2992,  0.9040,  0.4002],\n",
       "                       [ 0.0252,  0.1823, -2.5212, -0.8786],\n",
       "                       [-1.7766, -1.4758,  1.3622, -0.6583]],\n",
       "              \n",
       "                      [[ 0.9232, -0.2992,  0.9040,  0.4002],\n",
       "                       [ 0.0252,  0.1823, -2.5212, -0.8786],\n",
       "                       [-1.7766, -1.4758,  1.3622, -0.6583]],\n",
       "              \n",
       "                      [[ 0.9232, -0.2992,  0.9040,  0.4002],\n",
       "                       [ 0.0252,  0.1823, -2.5212, -0.8786],\n",
       "                       [-1.7766, -1.4758,  1.3622, -0.6583]],\n",
       "              \n",
       "                      [[ 0.9232, -0.2992,  0.9040,  0.4002],\n",
       "                       [ 0.0252,  0.1823, -2.5212, -0.8786],\n",
       "                       [-1.7766, -1.4758,  1.3622, -0.6583]],\n",
       "              \n",
       "                      [[ 0.9232, -0.2992,  0.9040,  0.4002],\n",
       "                       [ 0.0252,  0.1823, -2.5212, -0.8786],\n",
       "                       [-1.7766, -1.4758,  1.3622, -0.6583]]]),\n",
       "       ),\n",
       "    a: tensor([[[ 0.3944, -0.3479, -0.0087],\n",
       "                [ 0.7319,  2.1621, -0.3960]],\n",
       "       \n",
       "               [[ 0.3944, -0.3479, -0.0087],\n",
       "                [ 0.7319,  2.1621, -0.3960]],\n",
       "       \n",
       "               [[ 0.3944, -0.3479, -0.0087],\n",
       "                [ 0.7319,  2.1621, -0.3960]],\n",
       "       \n",
       "               [[ 0.3944, -0.3479, -0.0087],\n",
       "                [ 0.7319,  2.1621, -0.3960]],\n",
       "       \n",
       "               [[ 0.3944, -0.3479, -0.0087],\n",
       "                [ 0.7319,  2.1621, -0.3960]],\n",
       "       \n",
       "               [[ 0.3944, -0.3479, -0.0087],\n",
       "                [ 0.7319,  2.1621, -0.3960]],\n",
       "       \n",
       "               [[ 0.3944, -0.3479, -0.0087],\n",
       "                [ 0.7319,  2.1621, -0.3960]],\n",
       "       \n",
       "               [[ 0.3944, -0.3479, -0.0087],\n",
       "                [ 0.7319,  2.1621, -0.3960]]]),\n",
       ")"
      ]
     },
     "execution_count": 25,
     "metadata": {},
     "output_type": "execute_result"
    }
   ],
   "source": [
    "batches = [Batch(**_TREE_DATA_2) for _ in range(8)]\n",
    "\n",
    "Batch.stack(batches)"
   ]
  },
  {
   "cell_type": "code",
   "execution_count": 26,
   "id": "ec9037a3",
   "metadata": {
    "execution": {
     "iopub.execute_input": "2023-02-27T13:17:34.946173Z",
     "iopub.status.busy": "2023-02-27T13:17:34.945473Z",
     "iopub.status.idle": "2023-02-27T13:17:42.442667Z",
     "shell.execute_reply": "2023-02-27T13:17:42.441526Z"
    }
   },
   "outputs": [
    {
     "name": "stdout",
     "output_type": "stream",
     "text": [
      "91.7 µs ± 485 ns per loop (mean ± std. dev. of 7 runs, 10,000 loops each)\n"
     ]
    }
   ],
   "source": [
    "%timeit Batch.stack(batches)"
   ]
  },
  {
   "cell_type": "code",
   "execution_count": 27,
   "id": "cb8ab77e",
   "metadata": {
    "execution": {
     "iopub.execute_input": "2023-02-27T13:17:42.447120Z",
     "iopub.status.busy": "2023-02-27T13:17:42.446389Z",
     "iopub.status.idle": "2023-02-27T13:17:42.455791Z",
     "shell.execute_reply": "2023-02-27T13:17:42.455078Z"
    }
   },
   "outputs": [
    {
     "data": {
      "text/plain": [
       "Batch(\n",
       "    x: Batch(\n",
       "           c: tensor([[ 0.9232, -0.2992,  0.9040,  0.4002],\n",
       "                      [ 0.0252,  0.1823, -2.5212, -0.8786],\n",
       "                      [-1.7766, -1.4758,  1.3622, -0.6583],\n",
       "                      [ 0.9232, -0.2992,  0.9040,  0.4002],\n",
       "                      [ 0.0252,  0.1823, -2.5212, -0.8786],\n",
       "                      [-1.7766, -1.4758,  1.3622, -0.6583],\n",
       "                      [ 0.9232, -0.2992,  0.9040,  0.4002],\n",
       "                      [ 0.0252,  0.1823, -2.5212, -0.8786],\n",
       "                      [-1.7766, -1.4758,  1.3622, -0.6583],\n",
       "                      [ 0.9232, -0.2992,  0.9040,  0.4002],\n",
       "                      [ 0.0252,  0.1823, -2.5212, -0.8786],\n",
       "                      [-1.7766, -1.4758,  1.3622, -0.6583],\n",
       "                      [ 0.9232, -0.2992,  0.9040,  0.4002],\n",
       "                      [ 0.0252,  0.1823, -2.5212, -0.8786],\n",
       "                      [-1.7766, -1.4758,  1.3622, -0.6583],\n",
       "                      [ 0.9232, -0.2992,  0.9040,  0.4002],\n",
       "                      [ 0.0252,  0.1823, -2.5212, -0.8786],\n",
       "                      [-1.7766, -1.4758,  1.3622, -0.6583],\n",
       "                      [ 0.9232, -0.2992,  0.9040,  0.4002],\n",
       "                      [ 0.0252,  0.1823, -2.5212, -0.8786],\n",
       "                      [-1.7766, -1.4758,  1.3622, -0.6583],\n",
       "                      [ 0.9232, -0.2992,  0.9040,  0.4002],\n",
       "                      [ 0.0252,  0.1823, -2.5212, -0.8786],\n",
       "                      [-1.7766, -1.4758,  1.3622, -0.6583]]),\n",
       "       ),\n",
       "    a: tensor([[ 0.3944, -0.3479, -0.0087],\n",
       "               [ 0.7319,  2.1621, -0.3960],\n",
       "               [ 0.3944, -0.3479, -0.0087],\n",
       "               [ 0.7319,  2.1621, -0.3960],\n",
       "               [ 0.3944, -0.3479, -0.0087],\n",
       "               [ 0.7319,  2.1621, -0.3960],\n",
       "               [ 0.3944, -0.3479, -0.0087],\n",
       "               [ 0.7319,  2.1621, -0.3960],\n",
       "               [ 0.3944, -0.3479, -0.0087],\n",
       "               [ 0.7319,  2.1621, -0.3960],\n",
       "               [ 0.3944, -0.3479, -0.0087],\n",
       "               [ 0.7319,  2.1621, -0.3960],\n",
       "               [ 0.3944, -0.3479, -0.0087],\n",
       "               [ 0.7319,  2.1621, -0.3960],\n",
       "               [ 0.3944, -0.3479, -0.0087],\n",
       "               [ 0.7319,  2.1621, -0.3960]]),\n",
       ")"
      ]
     },
     "execution_count": 27,
     "metadata": {},
     "output_type": "execute_result"
    }
   ],
   "source": [
    "Batch.cat(batches)"
   ]
  },
  {
   "cell_type": "code",
   "execution_count": 28,
   "id": "18dfb045",
   "metadata": {
    "execution": {
     "iopub.execute_input": "2023-02-27T13:17:42.459155Z",
     "iopub.status.busy": "2023-02-27T13:17:42.458721Z",
     "iopub.status.idle": "2023-02-27T13:17:56.041327Z",
     "shell.execute_reply": "2023-02-27T13:17:56.040057Z"
    }
   },
   "outputs": [
    {
     "name": "stdout",
     "output_type": "stream",
     "text": [
      "166 µs ± 475 ns per loop (mean ± std. dev. of 7 runs, 10,000 loops each)\n"
     ]
    }
   ],
   "source": [
    "%timeit Batch.cat(batches)"
   ]
  },
  {
   "cell_type": "code",
   "execution_count": 29,
   "id": "c6688e51",
   "metadata": {
    "execution": {
     "iopub.execute_input": "2023-02-27T13:17:56.045140Z",
     "iopub.status.busy": "2023-02-27T13:17:56.044693Z",
     "iopub.status.idle": "2023-02-27T13:17:59.239629Z",
     "shell.execute_reply": "2023-02-27T13:17:59.238815Z"
    }
   },
   "outputs": [
    {
     "name": "stdout",
     "output_type": "stream",
     "text": [
      "393 µs ± 878 ns per loop (mean ± std. dev. of 7 runs, 1,000 loops each)\n"
     ]
    }
   ],
   "source": [
    "batch = Batch({\n",
    "    'obs': torch.randn(8, 4, 84, 84),\n",
    "    'action': torch.randint(0, 6, size=(8, 1,)),\n",
    "    'reward': torch.rand(8, 1)}\n",
    ")\n",
    "\n",
    "%timeit list(Batch.split(batch, 1, shuffle=False, merge_last=True))"
   ]
  },
  {
   "cell_type": "code",
   "execution_count": null,
   "id": "2539fbd9",
   "metadata": {},
   "outputs": [],
   "source": []
  }
 ],
 "metadata": {
  "kernelspec": {
   "display_name": "Python 3 (ipykernel)",
   "language": "python",
   "name": "python3"
  },
  "language_info": {
   "codemirror_mode": {
    "name": "ipython",
    "version": 3
   },
   "file_extension": ".py",
   "mimetype": "text/x-python",
   "name": "python",
   "nbconvert_exporter": "python",
   "pygments_lexer": "ipython3",
   "version": "3.8.16"
  }
 },
 "nbformat": 4,
 "nbformat_minor": 5
}
