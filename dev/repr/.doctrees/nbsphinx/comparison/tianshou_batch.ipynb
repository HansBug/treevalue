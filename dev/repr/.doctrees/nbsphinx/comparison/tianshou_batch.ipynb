{
 "cells": [
  {
   "cell_type": "markdown",
   "id": "9d39d946",
   "metadata": {},
   "source": [
    "# Comparison Between TreeValue and Tianshou Batch"
   ]
  },
  {
   "cell_type": "markdown",
   "id": "3c6db2d4",
   "metadata": {},
   "source": [
    "In this section, we will take a look at the feature and performance of the [Tianshou Batch](https://github.com/thu-ml/tianshou) library, which is developed by Tsinghua Machine Learning Group."
   ]
  },
  {
   "cell_type": "markdown",
   "id": "069361b0",
   "metadata": {},
   "source": [
    "Before starting the comparison, let us define some thing."
   ]
  },
  {
   "cell_type": "code",
   "execution_count": 1,
   "id": "06fc8d26",
   "metadata": {
    "execution": {
     "iopub.execute_input": "2023-02-23T08:47:49.401061Z",
     "iopub.status.busy": "2023-02-23T08:47:49.400381Z",
     "iopub.status.idle": "2023-02-23T08:47:50.513075Z",
     "shell.execute_reply": "2023-02-23T08:47:50.512132Z"
    }
   },
   "outputs": [
    {
     "name": "stderr",
     "output_type": "stream",
     "text": [
      "/opt/hostedtoolcache/Python/3.8.16/x64/lib/python3.8/site-packages/tqdm/auto.py:22: TqdmWarning: IProgress not found. Please update jupyter and ipywidgets. See https://ipywidgets.readthedocs.io/en/stable/user_install.html\n",
      "  from .autonotebook import tqdm as notebook_tqdm\n"
     ]
    }
   ],
   "source": [
    "import torch \n",
    "\n",
    "_TREE_DATA_1 = {'a': 1, 'b': 2, 'x': {'c': 3, 'd': 4}}\n",
    "_TREE_DATA_2 = {\n",
    "    'a': torch.randn(2, 3), \n",
    "    'x': {\n",
    "        'c': torch.randn(3, 4)\n",
    "    },\n",
    "}\n",
    "_TREE_DATA_3 = {\n",
    "    'obs': torch.randn(4, 84, 84),\n",
    "    'action': torch.randint(0, 6, size=(1,)),\n",
    "    'reward': torch.rand(1),\n",
    "}"
   ]
  },
  {
   "cell_type": "markdown",
   "id": "83461b25",
   "metadata": {},
   "source": [
    "## Read and Write Operation"
   ]
  },
  {
   "cell_type": "markdown",
   "id": "067b3f73",
   "metadata": {},
   "source": [
    "Reading and writing are the two most common operations in the tree data structure based on the data model (TreeValue and Tianshou Batch both belong to this type), so this section will compare the reading and writing performance of these two libraries."
   ]
  },
  {
   "cell_type": "markdown",
   "id": "5d09a5b7",
   "metadata": {},
   "source": [
    "### TreeValue's Get and Set"
   ]
  },
  {
   "cell_type": "code",
   "execution_count": 2,
   "id": "9519c4bb",
   "metadata": {
    "execution": {
     "iopub.execute_input": "2023-02-23T08:47:50.516887Z",
     "iopub.status.busy": "2023-02-23T08:47:50.516283Z",
     "iopub.status.idle": "2023-02-23T08:47:50.556436Z",
     "shell.execute_reply": "2023-02-23T08:47:50.555142Z"
    }
   },
   "outputs": [],
   "source": [
    "from treevalue import FastTreeValue\n",
    "\n",
    "t = FastTreeValue(_TREE_DATA_2)"
   ]
  },
  {
   "cell_type": "code",
   "execution_count": 3,
   "id": "11c37677",
   "metadata": {
    "execution": {
     "iopub.execute_input": "2023-02-23T08:47:50.561043Z",
     "iopub.status.busy": "2023-02-23T08:47:50.560030Z",
     "iopub.status.idle": "2023-02-23T08:47:50.570377Z",
     "shell.execute_reply": "2023-02-23T08:47:50.569548Z"
    }
   },
   "outputs": [
    {
     "data": {
      "text/plain": [
       "<FastTreeValue 0x7f5c10b1ab20>\n",
       "├── 'a' --> tensor([[-0.2734, -2.8597, -1.3077],\n",
       "│                   [-0.0115, -0.3143,  0.4194]])\n",
       "└── 'x' --> <FastTreeValue 0x7f5c10b1aa90>\n",
       "    └── 'c' --> tensor([[ 1.4982, -1.8341,  0.5934,  1.2519],\n",
       "                        [-0.8765,  1.0085, -0.1124,  0.6715],\n",
       "                        [-1.4403, -0.1020, -0.6013, -1.1306]])"
      ]
     },
     "execution_count": 3,
     "metadata": {},
     "output_type": "execute_result"
    }
   ],
   "source": [
    "t"
   ]
  },
  {
   "cell_type": "code",
   "execution_count": 4,
   "id": "fd70b0b9",
   "metadata": {
    "execution": {
     "iopub.execute_input": "2023-02-23T08:47:50.573513Z",
     "iopub.status.busy": "2023-02-23T08:47:50.573008Z",
     "iopub.status.idle": "2023-02-23T08:47:50.578571Z",
     "shell.execute_reply": "2023-02-23T08:47:50.577754Z"
    }
   },
   "outputs": [
    {
     "data": {
      "text/plain": [
       "tensor([[-0.2734, -2.8597, -1.3077],\n",
       "        [-0.0115, -0.3143,  0.4194]])"
      ]
     },
     "execution_count": 4,
     "metadata": {},
     "output_type": "execute_result"
    }
   ],
   "source": [
    "t.a"
   ]
  },
  {
   "cell_type": "code",
   "execution_count": 5,
   "id": "c18197bd",
   "metadata": {
    "execution": {
     "iopub.execute_input": "2023-02-23T08:47:50.582053Z",
     "iopub.status.busy": "2023-02-23T08:47:50.581484Z",
     "iopub.status.idle": "2023-02-23T08:47:57.020823Z",
     "shell.execute_reply": "2023-02-23T08:47:57.019522Z"
    }
   },
   "outputs": [
    {
     "name": "stdout",
     "output_type": "stream",
     "text": [
      "79.2 ns ± 0.593 ns per loop (mean ± std. dev. of 7 runs, 10,000,000 loops each)\n"
     ]
    }
   ],
   "source": [
    "%timeit t.a"
   ]
  },
  {
   "cell_type": "code",
   "execution_count": 6,
   "id": "bd52f867",
   "metadata": {
    "execution": {
     "iopub.execute_input": "2023-02-23T08:47:57.025191Z",
     "iopub.status.busy": "2023-02-23T08:47:57.024494Z",
     "iopub.status.idle": "2023-02-23T08:47:57.032384Z",
     "shell.execute_reply": "2023-02-23T08:47:57.031668Z"
    }
   },
   "outputs": [
    {
     "data": {
      "text/plain": [
       "<FastTreeValue 0x7f5c10b1ab20>\n",
       "├── 'a' --> tensor([[ 1.6245, -0.2157, -0.6601],\n",
       "│                   [ 1.4582, -0.7691,  1.2887]])\n",
       "└── 'x' --> <FastTreeValue 0x7f5c10b1aa90>\n",
       "    └── 'c' --> tensor([[ 1.4982, -1.8341,  0.5934,  1.2519],\n",
       "                        [-0.8765,  1.0085, -0.1124,  0.6715],\n",
       "                        [-1.4403, -0.1020, -0.6013, -1.1306]])"
      ]
     },
     "execution_count": 6,
     "metadata": {},
     "output_type": "execute_result"
    }
   ],
   "source": [
    "new_value = torch.randn(2, 3)\n",
    "t.a = new_value\n",
    "\n",
    "t"
   ]
  },
  {
   "cell_type": "code",
   "execution_count": 7,
   "id": "bbe04d1c",
   "metadata": {
    "execution": {
     "iopub.execute_input": "2023-02-23T08:47:57.035820Z",
     "iopub.status.busy": "2023-02-23T08:47:57.035306Z",
     "iopub.status.idle": "2023-02-23T08:48:03.732884Z",
     "shell.execute_reply": "2023-02-23T08:48:03.731958Z"
    }
   },
   "outputs": [
    {
     "name": "stdout",
     "output_type": "stream",
     "text": [
      "82.4 ns ± 0.125 ns per loop (mean ± std. dev. of 7 runs, 10,000,000 loops each)\n"
     ]
    }
   ],
   "source": [
    "%timeit t.a = new_value"
   ]
  },
  {
   "cell_type": "markdown",
   "id": "48c49731",
   "metadata": {},
   "source": [
    "### Tianshou Batch's Get and Set"
   ]
  },
  {
   "cell_type": "code",
   "execution_count": 8,
   "id": "f1bb14c1",
   "metadata": {
    "execution": {
     "iopub.execute_input": "2023-02-23T08:48:03.736743Z",
     "iopub.status.busy": "2023-02-23T08:48:03.736147Z",
     "iopub.status.idle": "2023-02-23T08:48:04.146053Z",
     "shell.execute_reply": "2023-02-23T08:48:04.144854Z"
    }
   },
   "outputs": [],
   "source": [
    "from tianshou.data import Batch\n",
    "\n",
    "b = Batch(**_TREE_DATA_2)"
   ]
  },
  {
   "cell_type": "code",
   "execution_count": 9,
   "id": "cb0777c3",
   "metadata": {
    "execution": {
     "iopub.execute_input": "2023-02-23T08:48:04.150566Z",
     "iopub.status.busy": "2023-02-23T08:48:04.150137Z",
     "iopub.status.idle": "2023-02-23T08:48:04.158363Z",
     "shell.execute_reply": "2023-02-23T08:48:04.157592Z"
    }
   },
   "outputs": [
    {
     "data": {
      "text/plain": [
       "Batch(\n",
       "    a: tensor([[-0.2734, -2.8597, -1.3077],\n",
       "               [-0.0115, -0.3143,  0.4194]]),\n",
       "    x: Batch(\n",
       "           c: tensor([[ 1.4982, -1.8341,  0.5934,  1.2519],\n",
       "                      [-0.8765,  1.0085, -0.1124,  0.6715],\n",
       "                      [-1.4403, -0.1020, -0.6013, -1.1306]]),\n",
       "       ),\n",
       ")"
      ]
     },
     "execution_count": 9,
     "metadata": {},
     "output_type": "execute_result"
    }
   ],
   "source": [
    "b"
   ]
  },
  {
   "cell_type": "code",
   "execution_count": 10,
   "id": "43ef8ea3",
   "metadata": {
    "execution": {
     "iopub.execute_input": "2023-02-23T08:48:04.161550Z",
     "iopub.status.busy": "2023-02-23T08:48:04.161156Z",
     "iopub.status.idle": "2023-02-23T08:48:04.166755Z",
     "shell.execute_reply": "2023-02-23T08:48:04.165957Z"
    }
   },
   "outputs": [
    {
     "data": {
      "text/plain": [
       "tensor([[-0.2734, -2.8597, -1.3077],\n",
       "        [-0.0115, -0.3143,  0.4194]])"
      ]
     },
     "execution_count": 10,
     "metadata": {},
     "output_type": "execute_result"
    }
   ],
   "source": [
    "b.a"
   ]
  },
  {
   "cell_type": "code",
   "execution_count": 11,
   "id": "b785ab72",
   "metadata": {
    "execution": {
     "iopub.execute_input": "2023-02-23T08:48:04.170007Z",
     "iopub.status.busy": "2023-02-23T08:48:04.169590Z",
     "iopub.status.idle": "2023-02-23T08:48:10.220367Z",
     "shell.execute_reply": "2023-02-23T08:48:10.219449Z"
    }
   },
   "outputs": [
    {
     "name": "stdout",
     "output_type": "stream",
     "text": [
      "74.5 ns ± 0.148 ns per loop (mean ± std. dev. of 7 runs, 10,000,000 loops each)\n"
     ]
    }
   ],
   "source": [
    "%timeit b.a"
   ]
  },
  {
   "cell_type": "code",
   "execution_count": 12,
   "id": "ad54dc69",
   "metadata": {
    "execution": {
     "iopub.execute_input": "2023-02-23T08:48:10.224058Z",
     "iopub.status.busy": "2023-02-23T08:48:10.223386Z",
     "iopub.status.idle": "2023-02-23T08:48:10.231262Z",
     "shell.execute_reply": "2023-02-23T08:48:10.230503Z"
    }
   },
   "outputs": [
    {
     "data": {
      "text/plain": [
       "Batch(\n",
       "    a: tensor([[ 0.1603, -0.4303,  0.3953],\n",
       "               [ 0.6644,  0.9413, -0.8884]]),\n",
       "    x: Batch(\n",
       "           c: tensor([[ 1.4982, -1.8341,  0.5934,  1.2519],\n",
       "                      [-0.8765,  1.0085, -0.1124,  0.6715],\n",
       "                      [-1.4403, -0.1020, -0.6013, -1.1306]]),\n",
       "       ),\n",
       ")"
      ]
     },
     "execution_count": 12,
     "metadata": {},
     "output_type": "execute_result"
    }
   ],
   "source": [
    "new_value = torch.randn(2, 3)\n",
    "b.a = new_value\n",
    "\n",
    "b"
   ]
  },
  {
   "cell_type": "code",
   "execution_count": 13,
   "id": "29b1d0bf",
   "metadata": {
    "execution": {
     "iopub.execute_input": "2023-02-23T08:48:10.234787Z",
     "iopub.status.busy": "2023-02-23T08:48:10.234275Z",
     "iopub.status.idle": "2023-02-23T08:48:15.137408Z",
     "shell.execute_reply": "2023-02-23T08:48:15.136376Z"
    }
   },
   "outputs": [
    {
     "name": "stdout",
     "output_type": "stream",
     "text": [
      "604 ns ± 1.49 ns per loop (mean ± std. dev. of 7 runs, 1,000,000 loops each)\n"
     ]
    }
   ],
   "source": [
    "%timeit b.a = new_value"
   ]
  },
  {
   "cell_type": "markdown",
   "id": "b61ad1d0",
   "metadata": {},
   "source": [
    "## Initialization"
   ]
  },
  {
   "cell_type": "markdown",
   "id": "d70f0d54",
   "metadata": {},
   "source": [
    "### TreeValue's Initialization"
   ]
  },
  {
   "cell_type": "code",
   "execution_count": 14,
   "id": "d32a679b",
   "metadata": {
    "execution": {
     "iopub.execute_input": "2023-02-23T08:48:15.141579Z",
     "iopub.status.busy": "2023-02-23T08:48:15.141000Z",
     "iopub.status.idle": "2023-02-23T08:48:23.072698Z",
     "shell.execute_reply": "2023-02-23T08:48:23.071396Z"
    }
   },
   "outputs": [
    {
     "name": "stdout",
     "output_type": "stream",
     "text": [
      "980 ns ± 1.86 ns per loop (mean ± std. dev. of 7 runs, 1,000,000 loops each)\n"
     ]
    }
   ],
   "source": [
    "%timeit FastTreeValue(_TREE_DATA_1)"
   ]
  },
  {
   "cell_type": "markdown",
   "id": "24f3707b",
   "metadata": {},
   "source": [
    "### Tianshou Batch's Initialization"
   ]
  },
  {
   "cell_type": "code",
   "execution_count": 15,
   "id": "ac3958df",
   "metadata": {
    "execution": {
     "iopub.execute_input": "2023-02-23T08:48:23.076384Z",
     "iopub.status.busy": "2023-02-23T08:48:23.075832Z",
     "iopub.status.idle": "2023-02-23T08:48:33.053707Z",
     "shell.execute_reply": "2023-02-23T08:48:33.052414Z"
    }
   },
   "outputs": [
    {
     "name": "stdout",
     "output_type": "stream",
     "text": [
      "12.3 µs ± 58.5 ns per loop (mean ± std. dev. of 7 runs, 100,000 loops each)\n"
     ]
    }
   ],
   "source": [
    "%timeit Batch(**_TREE_DATA_1)"
   ]
  },
  {
   "cell_type": "markdown",
   "id": "1ab82e2d",
   "metadata": {},
   "source": [
    "## Deep Copy Operation"
   ]
  },
  {
   "cell_type": "code",
   "execution_count": 16,
   "id": "210a9442",
   "metadata": {
    "execution": {
     "iopub.execute_input": "2023-02-23T08:48:33.058355Z",
     "iopub.status.busy": "2023-02-23T08:48:33.057485Z",
     "iopub.status.idle": "2023-02-23T08:48:33.062904Z",
     "shell.execute_reply": "2023-02-23T08:48:33.062173Z"
    }
   },
   "outputs": [],
   "source": [
    "import copy"
   ]
  },
  {
   "cell_type": "markdown",
   "id": "5a736274",
   "metadata": {},
   "source": [
    "### Deep Copy of TreeValue"
   ]
  },
  {
   "cell_type": "code",
   "execution_count": 17,
   "id": "f9bcadd6",
   "metadata": {
    "execution": {
     "iopub.execute_input": "2023-02-23T08:48:33.066267Z",
     "iopub.status.busy": "2023-02-23T08:48:33.065640Z",
     "iopub.status.idle": "2023-02-23T08:48:46.848566Z",
     "shell.execute_reply": "2023-02-23T08:48:46.847847Z"
    }
   },
   "outputs": [
    {
     "name": "stdout",
     "output_type": "stream",
     "text": [
      "170 µs ± 2.92 µs per loop (mean ± std. dev. of 7 runs, 10,000 loops each)\n"
     ]
    }
   ],
   "source": [
    "t3 = FastTreeValue(_TREE_DATA_3)\n",
    "%timeit copy.deepcopy(t3)"
   ]
  },
  {
   "cell_type": "markdown",
   "id": "bf8be7ea",
   "metadata": {},
   "source": [
    "### Deep Copy of Tianshou Batch"
   ]
  },
  {
   "cell_type": "code",
   "execution_count": 18,
   "id": "91998e6f",
   "metadata": {
    "execution": {
     "iopub.execute_input": "2023-02-23T08:48:46.852083Z",
     "iopub.status.busy": "2023-02-23T08:48:46.851509Z",
     "iopub.status.idle": "2023-02-23T08:49:00.352930Z",
     "shell.execute_reply": "2023-02-23T08:49:00.352187Z"
    }
   },
   "outputs": [
    {
     "name": "stdout",
     "output_type": "stream",
     "text": [
      "166 µs ± 1.46 µs per loop (mean ± std. dev. of 7 runs, 10,000 loops each)\n"
     ]
    }
   ],
   "source": [
    "b3 = Batch(**_TREE_DATA_3)\n",
    "%timeit copy.deepcopy(b3)"
   ]
  },
  {
   "cell_type": "markdown",
   "id": "223162fb",
   "metadata": {},
   "source": [
    "## Stack, Concat and Split Operation"
   ]
  },
  {
   "cell_type": "markdown",
   "id": "85fa4a73",
   "metadata": {},
   "source": [
    "### Performance of TreeValue"
   ]
  },
  {
   "cell_type": "code",
   "execution_count": 19,
   "id": "a0c2b697",
   "metadata": {
    "execution": {
     "iopub.execute_input": "2023-02-23T08:49:00.357876Z",
     "iopub.status.busy": "2023-02-23T08:49:00.356439Z",
     "iopub.status.idle": "2023-02-23T08:49:00.361832Z",
     "shell.execute_reply": "2023-02-23T08:49:00.361184Z"
    }
   },
   "outputs": [],
   "source": [
    "trees = [FastTreeValue(_TREE_DATA_2) for _ in range(8)]"
   ]
  },
  {
   "cell_type": "code",
   "execution_count": 20,
   "id": "017ea5a5",
   "metadata": {
    "execution": {
     "iopub.execute_input": "2023-02-23T08:49:00.365283Z",
     "iopub.status.busy": "2023-02-23T08:49:00.364579Z",
     "iopub.status.idle": "2023-02-23T08:49:00.372647Z",
     "shell.execute_reply": "2023-02-23T08:49:00.371977Z"
    }
   },
   "outputs": [
    {
     "data": {
      "text/plain": [
       "<FastTreeValue 0x7f5c10b1a490>\n",
       "├── 'a' --> tensor([[[-0.2734, -2.8597, -1.3077],\n",
       "│                    [-0.0115, -0.3143,  0.4194]],\n",
       "│           \n",
       "│                   [[-0.2734, -2.8597, -1.3077],\n",
       "│                    [-0.0115, -0.3143,  0.4194]],\n",
       "│           \n",
       "│                   [[-0.2734, -2.8597, -1.3077],\n",
       "│                    [-0.0115, -0.3143,  0.4194]],\n",
       "│           \n",
       "│                   [[-0.2734, -2.8597, -1.3077],\n",
       "│                    [-0.0115, -0.3143,  0.4194]],\n",
       "│           \n",
       "│                   [[-0.2734, -2.8597, -1.3077],\n",
       "│                    [-0.0115, -0.3143,  0.4194]],\n",
       "│           \n",
       "│                   [[-0.2734, -2.8597, -1.3077],\n",
       "│                    [-0.0115, -0.3143,  0.4194]],\n",
       "│           \n",
       "│                   [[-0.2734, -2.8597, -1.3077],\n",
       "│                    [-0.0115, -0.3143,  0.4194]],\n",
       "│           \n",
       "│                   [[-0.2734, -2.8597, -1.3077],\n",
       "│                    [-0.0115, -0.3143,  0.4194]]])\n",
       "└── 'x' --> <FastTreeValue 0x7f5be81052b0>\n",
       "    └── 'c' --> tensor([[[ 1.4982, -1.8341,  0.5934,  1.2519],\n",
       "                         [-0.8765,  1.0085, -0.1124,  0.6715],\n",
       "                         [-1.4403, -0.1020, -0.6013, -1.1306]],\n",
       "                \n",
       "                        [[ 1.4982, -1.8341,  0.5934,  1.2519],\n",
       "                         [-0.8765,  1.0085, -0.1124,  0.6715],\n",
       "                         [-1.4403, -0.1020, -0.6013, -1.1306]],\n",
       "                \n",
       "                        [[ 1.4982, -1.8341,  0.5934,  1.2519],\n",
       "                         [-0.8765,  1.0085, -0.1124,  0.6715],\n",
       "                         [-1.4403, -0.1020, -0.6013, -1.1306]],\n",
       "                \n",
       "                        [[ 1.4982, -1.8341,  0.5934,  1.2519],\n",
       "                         [-0.8765,  1.0085, -0.1124,  0.6715],\n",
       "                         [-1.4403, -0.1020, -0.6013, -1.1306]],\n",
       "                \n",
       "                        [[ 1.4982, -1.8341,  0.5934,  1.2519],\n",
       "                         [-0.8765,  1.0085, -0.1124,  0.6715],\n",
       "                         [-1.4403, -0.1020, -0.6013, -1.1306]],\n",
       "                \n",
       "                        [[ 1.4982, -1.8341,  0.5934,  1.2519],\n",
       "                         [-0.8765,  1.0085, -0.1124,  0.6715],\n",
       "                         [-1.4403, -0.1020, -0.6013, -1.1306]],\n",
       "                \n",
       "                        [[ 1.4982, -1.8341,  0.5934,  1.2519],\n",
       "                         [-0.8765,  1.0085, -0.1124,  0.6715],\n",
       "                         [-1.4403, -0.1020, -0.6013, -1.1306]],\n",
       "                \n",
       "                        [[ 1.4982, -1.8341,  0.5934,  1.2519],\n",
       "                         [-0.8765,  1.0085, -0.1124,  0.6715],\n",
       "                         [-1.4403, -0.1020, -0.6013, -1.1306]]])"
      ]
     },
     "execution_count": 20,
     "metadata": {},
     "output_type": "execute_result"
    }
   ],
   "source": [
    "t_stack = FastTreeValue.func(subside=True)(torch.stack)\n",
    "\n",
    "t_stack(trees)"
   ]
  },
  {
   "cell_type": "code",
   "execution_count": 21,
   "id": "f8b3f415",
   "metadata": {
    "execution": {
     "iopub.execute_input": "2023-02-23T08:49:00.375642Z",
     "iopub.status.busy": "2023-02-23T08:49:00.374964Z",
     "iopub.status.idle": "2023-02-23T08:49:03.384424Z",
     "shell.execute_reply": "2023-02-23T08:49:03.383478Z"
    }
   },
   "outputs": [
    {
     "name": "stdout",
     "output_type": "stream",
     "text": [
      "37 µs ± 81.1 ns per loop (mean ± std. dev. of 7 runs, 10,000 loops each)\n"
     ]
    }
   ],
   "source": [
    "%timeit t_stack(trees)"
   ]
  },
  {
   "cell_type": "code",
   "execution_count": 22,
   "id": "94b56771",
   "metadata": {
    "execution": {
     "iopub.execute_input": "2023-02-23T08:49:03.388114Z",
     "iopub.status.busy": "2023-02-23T08:49:03.387578Z",
     "iopub.status.idle": "2023-02-23T08:49:03.396089Z",
     "shell.execute_reply": "2023-02-23T08:49:03.395282Z"
    }
   },
   "outputs": [
    {
     "data": {
      "text/plain": [
       "<FastTreeValue 0x7f5b647ffdc0>\n",
       "├── 'a' --> tensor([[-0.2734, -2.8597, -1.3077],\n",
       "│                   [-0.0115, -0.3143,  0.4194],\n",
       "│                   [-0.2734, -2.8597, -1.3077],\n",
       "│                   [-0.0115, -0.3143,  0.4194],\n",
       "│                   [-0.2734, -2.8597, -1.3077],\n",
       "│                   [-0.0115, -0.3143,  0.4194],\n",
       "│                   [-0.2734, -2.8597, -1.3077],\n",
       "│                   [-0.0115, -0.3143,  0.4194],\n",
       "│                   [-0.2734, -2.8597, -1.3077],\n",
       "│                   [-0.0115, -0.3143,  0.4194],\n",
       "│                   [-0.2734, -2.8597, -1.3077],\n",
       "│                   [-0.0115, -0.3143,  0.4194],\n",
       "│                   [-0.2734, -2.8597, -1.3077],\n",
       "│                   [-0.0115, -0.3143,  0.4194],\n",
       "│                   [-0.2734, -2.8597, -1.3077],\n",
       "│                   [-0.0115, -0.3143,  0.4194]])\n",
       "└── 'x' --> <FastTreeValue 0x7f5b647ffe50>\n",
       "    └── 'c' --> tensor([[ 1.4982, -1.8341,  0.5934,  1.2519],\n",
       "                        [-0.8765,  1.0085, -0.1124,  0.6715],\n",
       "                        [-1.4403, -0.1020, -0.6013, -1.1306],\n",
       "                        [ 1.4982, -1.8341,  0.5934,  1.2519],\n",
       "                        [-0.8765,  1.0085, -0.1124,  0.6715],\n",
       "                        [-1.4403, -0.1020, -0.6013, -1.1306],\n",
       "                        [ 1.4982, -1.8341,  0.5934,  1.2519],\n",
       "                        [-0.8765,  1.0085, -0.1124,  0.6715],\n",
       "                        [-1.4403, -0.1020, -0.6013, -1.1306],\n",
       "                        [ 1.4982, -1.8341,  0.5934,  1.2519],\n",
       "                        [-0.8765,  1.0085, -0.1124,  0.6715],\n",
       "                        [-1.4403, -0.1020, -0.6013, -1.1306],\n",
       "                        [ 1.4982, -1.8341,  0.5934,  1.2519],\n",
       "                        [-0.8765,  1.0085, -0.1124,  0.6715],\n",
       "                        [-1.4403, -0.1020, -0.6013, -1.1306],\n",
       "                        [ 1.4982, -1.8341,  0.5934,  1.2519],\n",
       "                        [-0.8765,  1.0085, -0.1124,  0.6715],\n",
       "                        [-1.4403, -0.1020, -0.6013, -1.1306],\n",
       "                        [ 1.4982, -1.8341,  0.5934,  1.2519],\n",
       "                        [-0.8765,  1.0085, -0.1124,  0.6715],\n",
       "                        [-1.4403, -0.1020, -0.6013, -1.1306],\n",
       "                        [ 1.4982, -1.8341,  0.5934,  1.2519],\n",
       "                        [-0.8765,  1.0085, -0.1124,  0.6715],\n",
       "                        [-1.4403, -0.1020, -0.6013, -1.1306]])"
      ]
     },
     "execution_count": 22,
     "metadata": {},
     "output_type": "execute_result"
    }
   ],
   "source": [
    "t_cat = FastTreeValue.func(subside=True)(torch.cat)\n",
    "\n",
    "t_cat(trees)"
   ]
  },
  {
   "cell_type": "code",
   "execution_count": 23,
   "id": "5e9c06a6",
   "metadata": {
    "execution": {
     "iopub.execute_input": "2023-02-23T08:49:03.399638Z",
     "iopub.status.busy": "2023-02-23T08:49:03.398844Z",
     "iopub.status.idle": "2023-02-23T08:49:06.257554Z",
     "shell.execute_reply": "2023-02-23T08:49:06.256255Z"
    }
   },
   "outputs": [
    {
     "name": "stdout",
     "output_type": "stream",
     "text": [
      "35.3 µs ± 238 ns per loop (mean ± std. dev. of 7 runs, 10,000 loops each)\n"
     ]
    }
   ],
   "source": [
    "%timeit t_cat(trees)"
   ]
  },
  {
   "cell_type": "code",
   "execution_count": 24,
   "id": "a3ab5c8f",
   "metadata": {
    "execution": {
     "iopub.execute_input": "2023-02-23T08:49:06.262195Z",
     "iopub.status.busy": "2023-02-23T08:49:06.261339Z",
     "iopub.status.idle": "2023-02-23T08:49:11.529922Z",
     "shell.execute_reply": "2023-02-23T08:49:11.529022Z"
    }
   },
   "outputs": [
    {
     "name": "stdout",
     "output_type": "stream",
     "text": [
      "64.7 µs ± 271 ns per loop (mean ± std. dev. of 7 runs, 10,000 loops each)\n"
     ]
    }
   ],
   "source": [
    "t_split = FastTreeValue.func(rise=True)(torch.split)\n",
    "tree = FastTreeValue({\n",
    "    'obs': torch.randn(8, 4, 84, 84),\n",
    "    'action': torch.randint(0, 6, size=(8, 1,)),\n",
    "    'reward': torch.rand(8, 1),\n",
    "})\n",
    "\n",
    "%timeit t_split(tree, 1)"
   ]
  },
  {
   "cell_type": "markdown",
   "id": "31c3ec0b",
   "metadata": {},
   "source": [
    "### Performance of Tianshou Batch"
   ]
  },
  {
   "cell_type": "code",
   "execution_count": 25,
   "id": "9ead828a",
   "metadata": {
    "execution": {
     "iopub.execute_input": "2023-02-23T08:49:11.533648Z",
     "iopub.status.busy": "2023-02-23T08:49:11.532984Z",
     "iopub.status.idle": "2023-02-23T08:49:11.542320Z",
     "shell.execute_reply": "2023-02-23T08:49:11.541569Z"
    }
   },
   "outputs": [
    {
     "data": {
      "text/plain": [
       "Batch(\n",
       "    x: Batch(\n",
       "           c: tensor([[[ 1.4982, -1.8341,  0.5934,  1.2519],\n",
       "                       [-0.8765,  1.0085, -0.1124,  0.6715],\n",
       "                       [-1.4403, -0.1020, -0.6013, -1.1306]],\n",
       "              \n",
       "                      [[ 1.4982, -1.8341,  0.5934,  1.2519],\n",
       "                       [-0.8765,  1.0085, -0.1124,  0.6715],\n",
       "                       [-1.4403, -0.1020, -0.6013, -1.1306]],\n",
       "              \n",
       "                      [[ 1.4982, -1.8341,  0.5934,  1.2519],\n",
       "                       [-0.8765,  1.0085, -0.1124,  0.6715],\n",
       "                       [-1.4403, -0.1020, -0.6013, -1.1306]],\n",
       "              \n",
       "                      [[ 1.4982, -1.8341,  0.5934,  1.2519],\n",
       "                       [-0.8765,  1.0085, -0.1124,  0.6715],\n",
       "                       [-1.4403, -0.1020, -0.6013, -1.1306]],\n",
       "              \n",
       "                      [[ 1.4982, -1.8341,  0.5934,  1.2519],\n",
       "                       [-0.8765,  1.0085, -0.1124,  0.6715],\n",
       "                       [-1.4403, -0.1020, -0.6013, -1.1306]],\n",
       "              \n",
       "                      [[ 1.4982, -1.8341,  0.5934,  1.2519],\n",
       "                       [-0.8765,  1.0085, -0.1124,  0.6715],\n",
       "                       [-1.4403, -0.1020, -0.6013, -1.1306]],\n",
       "              \n",
       "                      [[ 1.4982, -1.8341,  0.5934,  1.2519],\n",
       "                       [-0.8765,  1.0085, -0.1124,  0.6715],\n",
       "                       [-1.4403, -0.1020, -0.6013, -1.1306]],\n",
       "              \n",
       "                      [[ 1.4982, -1.8341,  0.5934,  1.2519],\n",
       "                       [-0.8765,  1.0085, -0.1124,  0.6715],\n",
       "                       [-1.4403, -0.1020, -0.6013, -1.1306]]]),\n",
       "       ),\n",
       "    a: tensor([[[-0.2734, -2.8597, -1.3077],\n",
       "                [-0.0115, -0.3143,  0.4194]],\n",
       "       \n",
       "               [[-0.2734, -2.8597, -1.3077],\n",
       "                [-0.0115, -0.3143,  0.4194]],\n",
       "       \n",
       "               [[-0.2734, -2.8597, -1.3077],\n",
       "                [-0.0115, -0.3143,  0.4194]],\n",
       "       \n",
       "               [[-0.2734, -2.8597, -1.3077],\n",
       "                [-0.0115, -0.3143,  0.4194]],\n",
       "       \n",
       "               [[-0.2734, -2.8597, -1.3077],\n",
       "                [-0.0115, -0.3143,  0.4194]],\n",
       "       \n",
       "               [[-0.2734, -2.8597, -1.3077],\n",
       "                [-0.0115, -0.3143,  0.4194]],\n",
       "       \n",
       "               [[-0.2734, -2.8597, -1.3077],\n",
       "                [-0.0115, -0.3143,  0.4194]],\n",
       "       \n",
       "               [[-0.2734, -2.8597, -1.3077],\n",
       "                [-0.0115, -0.3143,  0.4194]]]),\n",
       ")"
      ]
     },
     "execution_count": 25,
     "metadata": {},
     "output_type": "execute_result"
    }
   ],
   "source": [
    "batches = [Batch(**_TREE_DATA_2) for _ in range(8)]\n",
    "\n",
    "Batch.stack(batches)"
   ]
  },
  {
   "cell_type": "code",
   "execution_count": 26,
   "id": "ec9037a3",
   "metadata": {
    "execution": {
     "iopub.execute_input": "2023-02-23T08:49:11.545548Z",
     "iopub.status.busy": "2023-02-23T08:49:11.545025Z",
     "iopub.status.idle": "2023-02-23T08:49:18.890226Z",
     "shell.execute_reply": "2023-02-23T08:49:18.889274Z"
    }
   },
   "outputs": [
    {
     "name": "stdout",
     "output_type": "stream",
     "text": [
      "90.4 µs ± 336 ns per loop (mean ± std. dev. of 7 runs, 10,000 loops each)\n"
     ]
    }
   ],
   "source": [
    "%timeit Batch.stack(batches)"
   ]
  },
  {
   "cell_type": "code",
   "execution_count": 27,
   "id": "cb8ab77e",
   "metadata": {
    "execution": {
     "iopub.execute_input": "2023-02-23T08:49:18.894764Z",
     "iopub.status.busy": "2023-02-23T08:49:18.893089Z",
     "iopub.status.idle": "2023-02-23T08:49:18.904330Z",
     "shell.execute_reply": "2023-02-23T08:49:18.903600Z"
    }
   },
   "outputs": [
    {
     "data": {
      "text/plain": [
       "Batch(\n",
       "    x: Batch(\n",
       "           c: tensor([[ 1.4982, -1.8341,  0.5934,  1.2519],\n",
       "                      [-0.8765,  1.0085, -0.1124,  0.6715],\n",
       "                      [-1.4403, -0.1020, -0.6013, -1.1306],\n",
       "                      [ 1.4982, -1.8341,  0.5934,  1.2519],\n",
       "                      [-0.8765,  1.0085, -0.1124,  0.6715],\n",
       "                      [-1.4403, -0.1020, -0.6013, -1.1306],\n",
       "                      [ 1.4982, -1.8341,  0.5934,  1.2519],\n",
       "                      [-0.8765,  1.0085, -0.1124,  0.6715],\n",
       "                      [-1.4403, -0.1020, -0.6013, -1.1306],\n",
       "                      [ 1.4982, -1.8341,  0.5934,  1.2519],\n",
       "                      [-0.8765,  1.0085, -0.1124,  0.6715],\n",
       "                      [-1.4403, -0.1020, -0.6013, -1.1306],\n",
       "                      [ 1.4982, -1.8341,  0.5934,  1.2519],\n",
       "                      [-0.8765,  1.0085, -0.1124,  0.6715],\n",
       "                      [-1.4403, -0.1020, -0.6013, -1.1306],\n",
       "                      [ 1.4982, -1.8341,  0.5934,  1.2519],\n",
       "                      [-0.8765,  1.0085, -0.1124,  0.6715],\n",
       "                      [-1.4403, -0.1020, -0.6013, -1.1306],\n",
       "                      [ 1.4982, -1.8341,  0.5934,  1.2519],\n",
       "                      [-0.8765,  1.0085, -0.1124,  0.6715],\n",
       "                      [-1.4403, -0.1020, -0.6013, -1.1306],\n",
       "                      [ 1.4982, -1.8341,  0.5934,  1.2519],\n",
       "                      [-0.8765,  1.0085, -0.1124,  0.6715],\n",
       "                      [-1.4403, -0.1020, -0.6013, -1.1306]]),\n",
       "       ),\n",
       "    a: tensor([[-0.2734, -2.8597, -1.3077],\n",
       "               [-0.0115, -0.3143,  0.4194],\n",
       "               [-0.2734, -2.8597, -1.3077],\n",
       "               [-0.0115, -0.3143,  0.4194],\n",
       "               [-0.2734, -2.8597, -1.3077],\n",
       "               [-0.0115, -0.3143,  0.4194],\n",
       "               [-0.2734, -2.8597, -1.3077],\n",
       "               [-0.0115, -0.3143,  0.4194],\n",
       "               [-0.2734, -2.8597, -1.3077],\n",
       "               [-0.0115, -0.3143,  0.4194],\n",
       "               [-0.2734, -2.8597, -1.3077],\n",
       "               [-0.0115, -0.3143,  0.4194],\n",
       "               [-0.2734, -2.8597, -1.3077],\n",
       "               [-0.0115, -0.3143,  0.4194],\n",
       "               [-0.2734, -2.8597, -1.3077],\n",
       "               [-0.0115, -0.3143,  0.4194]]),\n",
       ")"
      ]
     },
     "execution_count": 27,
     "metadata": {},
     "output_type": "execute_result"
    }
   ],
   "source": [
    "Batch.cat(batches)"
   ]
  },
  {
   "cell_type": "code",
   "execution_count": 28,
   "id": "18dfb045",
   "metadata": {
    "execution": {
     "iopub.execute_input": "2023-02-23T08:49:18.907378Z",
     "iopub.status.busy": "2023-02-23T08:49:18.906879Z",
     "iopub.status.idle": "2023-02-23T08:49:32.384480Z",
     "shell.execute_reply": "2023-02-23T08:49:32.382931Z"
    }
   },
   "outputs": [
    {
     "name": "stdout",
     "output_type": "stream",
     "text": [
      "166 µs ± 512 ns per loop (mean ± std. dev. of 7 runs, 10,000 loops each)\n"
     ]
    }
   ],
   "source": [
    "%timeit Batch.cat(batches)"
   ]
  },
  {
   "cell_type": "code",
   "execution_count": 29,
   "id": "c6688e51",
   "metadata": {
    "execution": {
     "iopub.execute_input": "2023-02-23T08:49:32.387778Z",
     "iopub.status.busy": "2023-02-23T08:49:32.387331Z",
     "iopub.status.idle": "2023-02-23T08:49:35.451614Z",
     "shell.execute_reply": "2023-02-23T08:49:35.450733Z"
    }
   },
   "outputs": [
    {
     "name": "stdout",
     "output_type": "stream",
     "text": [
      "377 µs ± 2.58 µs per loop (mean ± std. dev. of 7 runs, 1,000 loops each)\n"
     ]
    }
   ],
   "source": [
    "batch = Batch({\n",
    "    'obs': torch.randn(8, 4, 84, 84),\n",
    "    'action': torch.randint(0, 6, size=(8, 1,)),\n",
    "    'reward': torch.rand(8, 1)}\n",
    ")\n",
    "\n",
    "%timeit list(Batch.split(batch, 1, shuffle=False, merge_last=True))"
   ]
  },
  {
   "cell_type": "code",
   "execution_count": null,
   "id": "2539fbd9",
   "metadata": {},
   "outputs": [],
   "source": []
  }
 ],
 "metadata": {
  "kernelspec": {
   "display_name": "Python 3 (ipykernel)",
   "language": "python",
   "name": "python3"
  },
  "language_info": {
   "codemirror_mode": {
    "name": "ipython",
    "version": 3
   },
   "file_extension": ".py",
   "mimetype": "text/x-python",
   "name": "python",
   "nbconvert_exporter": "python",
   "pygments_lexer": "ipython3",
   "version": "3.8.16"
  }
 },
 "nbformat": 4,
 "nbformat_minor": 5
}
