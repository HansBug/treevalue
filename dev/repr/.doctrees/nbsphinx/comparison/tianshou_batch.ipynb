{
 "cells": [
  {
   "cell_type": "markdown",
   "id": "9d39d946",
   "metadata": {},
   "source": [
    "# Comparison Between TreeValue and Tianshou Batch"
   ]
  },
  {
   "cell_type": "markdown",
   "id": "3c6db2d4",
   "metadata": {},
   "source": [
    "In this section, we will take a look at the feature and performance of the [Tianshou Batch](https://github.com/thu-ml/tianshou) library, which is developed by Tsinghua Machine Learning Group."
   ]
  },
  {
   "cell_type": "markdown",
   "id": "069361b0",
   "metadata": {},
   "source": [
    "Before starting the comparison, let us define some thing."
   ]
  },
  {
   "cell_type": "code",
   "execution_count": 1,
   "id": "06fc8d26",
   "metadata": {
    "execution": {
     "iopub.execute_input": "2023-02-27T12:10:34.634901Z",
     "iopub.status.busy": "2023-02-27T12:10:34.634660Z",
     "iopub.status.idle": "2023-02-27T12:10:35.581511Z",
     "shell.execute_reply": "2023-02-27T12:10:35.580756Z"
    }
   },
   "outputs": [
    {
     "name": "stderr",
     "output_type": "stream",
     "text": [
      "/opt/hostedtoolcache/Python/3.8.16/x64/lib/python3.8/site-packages/tqdm/auto.py:22: TqdmWarning: IProgress not found. Please update jupyter and ipywidgets. See https://ipywidgets.readthedocs.io/en/stable/user_install.html\n",
      "  from .autonotebook import tqdm as notebook_tqdm\n"
     ]
    }
   ],
   "source": [
    "import torch \n",
    "\n",
    "_TREE_DATA_1 = {'a': 1, 'b': 2, 'x': {'c': 3, 'd': 4}}\n",
    "_TREE_DATA_2 = {\n",
    "    'a': torch.randn(2, 3), \n",
    "    'x': {\n",
    "        'c': torch.randn(3, 4)\n",
    "    },\n",
    "}\n",
    "_TREE_DATA_3 = {\n",
    "    'obs': torch.randn(4, 84, 84),\n",
    "    'action': torch.randint(0, 6, size=(1,)),\n",
    "    'reward': torch.rand(1),\n",
    "}"
   ]
  },
  {
   "cell_type": "markdown",
   "id": "83461b25",
   "metadata": {},
   "source": [
    "## Read and Write Operation"
   ]
  },
  {
   "cell_type": "markdown",
   "id": "067b3f73",
   "metadata": {},
   "source": [
    "Reading and writing are the two most common operations in the tree data structure based on the data model (TreeValue and Tianshou Batch both belong to this type), so this section will compare the reading and writing performance of these two libraries."
   ]
  },
  {
   "cell_type": "markdown",
   "id": "5d09a5b7",
   "metadata": {},
   "source": [
    "### TreeValue's Get and Set"
   ]
  },
  {
   "cell_type": "code",
   "execution_count": 2,
   "id": "9519c4bb",
   "metadata": {
    "execution": {
     "iopub.execute_input": "2023-02-27T12:10:35.584963Z",
     "iopub.status.busy": "2023-02-27T12:10:35.584641Z",
     "iopub.status.idle": "2023-02-27T12:10:35.872180Z",
     "shell.execute_reply": "2023-02-27T12:10:35.871477Z"
    }
   },
   "outputs": [],
   "source": [
    "from treevalue import FastTreeValue\n",
    "\n",
    "t = FastTreeValue(_TREE_DATA_2)"
   ]
  },
  {
   "cell_type": "code",
   "execution_count": 3,
   "id": "11c37677",
   "metadata": {
    "execution": {
     "iopub.execute_input": "2023-02-27T12:10:35.876412Z",
     "iopub.status.busy": "2023-02-27T12:10:35.875173Z",
     "iopub.status.idle": "2023-02-27T12:10:35.886433Z",
     "shell.execute_reply": "2023-02-27T12:10:35.885769Z"
    }
   },
   "outputs": [
    {
     "data": {
      "text/plain": [
       "<FastTreeValue 0x7f899cc58580>\n",
       "├── 'a' --> tensor([[-1.0312,  1.5261,  0.6664],\n",
       "│                   [-0.0090, -0.1369,  0.9733]])\n",
       "└── 'x' --> <FastTreeValue 0x7f899ccb8fd0>\n",
       "    └── 'c' --> tensor([[-0.4424,  0.8297, -1.0981, -0.1495],\n",
       "                        [-0.6674, -1.0596,  1.2626, -1.4390],\n",
       "                        [-0.8467,  0.1597,  0.4012,  0.7591]])"
      ]
     },
     "execution_count": 3,
     "metadata": {},
     "output_type": "execute_result"
    }
   ],
   "source": [
    "t"
   ]
  },
  {
   "cell_type": "code",
   "execution_count": 4,
   "id": "fd70b0b9",
   "metadata": {
    "execution": {
     "iopub.execute_input": "2023-02-27T12:10:35.889485Z",
     "iopub.status.busy": "2023-02-27T12:10:35.889098Z",
     "iopub.status.idle": "2023-02-27T12:10:35.896146Z",
     "shell.execute_reply": "2023-02-27T12:10:35.895274Z"
    }
   },
   "outputs": [
    {
     "data": {
      "text/plain": [
       "tensor([[-1.0312,  1.5261,  0.6664],\n",
       "        [-0.0090, -0.1369,  0.9733]])"
      ]
     },
     "execution_count": 4,
     "metadata": {},
     "output_type": "execute_result"
    }
   ],
   "source": [
    "t.a"
   ]
  },
  {
   "cell_type": "code",
   "execution_count": 5,
   "id": "c18197bd",
   "metadata": {
    "execution": {
     "iopub.execute_input": "2023-02-27T12:10:35.899876Z",
     "iopub.status.busy": "2023-02-27T12:10:35.899466Z",
     "iopub.status.idle": "2023-02-27T12:10:41.247732Z",
     "shell.execute_reply": "2023-02-27T12:10:41.246946Z"
    }
   },
   "outputs": [
    {
     "name": "stdout",
     "output_type": "stream",
     "text": [
      "65.8 ns ± 0.0258 ns per loop (mean ± std. dev. of 7 runs, 10,000,000 loops each)\n"
     ]
    }
   ],
   "source": [
    "%timeit t.a"
   ]
  },
  {
   "cell_type": "code",
   "execution_count": 6,
   "id": "bd52f867",
   "metadata": {
    "execution": {
     "iopub.execute_input": "2023-02-27T12:10:41.250592Z",
     "iopub.status.busy": "2023-02-27T12:10:41.250232Z",
     "iopub.status.idle": "2023-02-27T12:10:41.257454Z",
     "shell.execute_reply": "2023-02-27T12:10:41.256352Z"
    }
   },
   "outputs": [
    {
     "data": {
      "text/plain": [
       "<FastTreeValue 0x7f899cc58580>\n",
       "├── 'a' --> tensor([[ 0.5699, -0.9392, -1.3374],\n",
       "│                   [ 0.2876,  0.3043, -1.2834]])\n",
       "└── 'x' --> <FastTreeValue 0x7f899ccb8fd0>\n",
       "    └── 'c' --> tensor([[-0.4424,  0.8297, -1.0981, -0.1495],\n",
       "                        [-0.6674, -1.0596,  1.2626, -1.4390],\n",
       "                        [-0.8467,  0.1597,  0.4012,  0.7591]])"
      ]
     },
     "execution_count": 6,
     "metadata": {},
     "output_type": "execute_result"
    }
   ],
   "source": [
    "new_value = torch.randn(2, 3)\n",
    "t.a = new_value\n",
    "\n",
    "t"
   ]
  },
  {
   "cell_type": "code",
   "execution_count": 7,
   "id": "bbe04d1c",
   "metadata": {
    "execution": {
     "iopub.execute_input": "2023-02-27T12:10:41.260368Z",
     "iopub.status.busy": "2023-02-27T12:10:41.259836Z",
     "iopub.status.idle": "2023-02-27T12:10:46.300567Z",
     "shell.execute_reply": "2023-02-27T12:10:46.299485Z"
    }
   },
   "outputs": [
    {
     "name": "stdout",
     "output_type": "stream",
     "text": [
      "62.1 ns ± 0.0338 ns per loop (mean ± std. dev. of 7 runs, 10,000,000 loops each)\n"
     ]
    }
   ],
   "source": [
    "%timeit t.a = new_value"
   ]
  },
  {
   "cell_type": "markdown",
   "id": "48c49731",
   "metadata": {},
   "source": [
    "### Tianshou Batch's Get and Set"
   ]
  },
  {
   "cell_type": "code",
   "execution_count": 8,
   "id": "f1bb14c1",
   "metadata": {
    "execution": {
     "iopub.execute_input": "2023-02-27T12:10:46.303877Z",
     "iopub.status.busy": "2023-02-27T12:10:46.303473Z",
     "iopub.status.idle": "2023-02-27T12:10:46.660193Z",
     "shell.execute_reply": "2023-02-27T12:10:46.659314Z"
    }
   },
   "outputs": [],
   "source": [
    "from tianshou.data import Batch\n",
    "\n",
    "b = Batch(**_TREE_DATA_2)"
   ]
  },
  {
   "cell_type": "code",
   "execution_count": 9,
   "id": "cb0777c3",
   "metadata": {
    "execution": {
     "iopub.execute_input": "2023-02-27T12:10:46.663512Z",
     "iopub.status.busy": "2023-02-27T12:10:46.663149Z",
     "iopub.status.idle": "2023-02-27T12:10:46.673169Z",
     "shell.execute_reply": "2023-02-27T12:10:46.672433Z"
    }
   },
   "outputs": [
    {
     "data": {
      "text/plain": [
       "Batch(\n",
       "    a: tensor([[-1.0312,  1.5261,  0.6664],\n",
       "               [-0.0090, -0.1369,  0.9733]]),\n",
       "    x: Batch(\n",
       "           c: tensor([[-0.4424,  0.8297, -1.0981, -0.1495],\n",
       "                      [-0.6674, -1.0596,  1.2626, -1.4390],\n",
       "                      [-0.8467,  0.1597,  0.4012,  0.7591]]),\n",
       "       ),\n",
       ")"
      ]
     },
     "execution_count": 9,
     "metadata": {},
     "output_type": "execute_result"
    }
   ],
   "source": [
    "b"
   ]
  },
  {
   "cell_type": "code",
   "execution_count": 10,
   "id": "43ef8ea3",
   "metadata": {
    "execution": {
     "iopub.execute_input": "2023-02-27T12:10:46.675999Z",
     "iopub.status.busy": "2023-02-27T12:10:46.675613Z",
     "iopub.status.idle": "2023-02-27T12:10:46.681666Z",
     "shell.execute_reply": "2023-02-27T12:10:46.681008Z"
    }
   },
   "outputs": [
    {
     "data": {
      "text/plain": [
       "tensor([[-1.0312,  1.5261,  0.6664],\n",
       "        [-0.0090, -0.1369,  0.9733]])"
      ]
     },
     "execution_count": 10,
     "metadata": {},
     "output_type": "execute_result"
    }
   ],
   "source": [
    "b.a"
   ]
  },
  {
   "cell_type": "code",
   "execution_count": 11,
   "id": "b785ab72",
   "metadata": {
    "execution": {
     "iopub.execute_input": "2023-02-27T12:10:46.684691Z",
     "iopub.status.busy": "2023-02-27T12:10:46.684290Z",
     "iopub.status.idle": "2023-02-27T12:10:51.258432Z",
     "shell.execute_reply": "2023-02-27T12:10:51.257638Z"
    }
   },
   "outputs": [
    {
     "name": "stdout",
     "output_type": "stream",
     "text": [
      "56.4 ns ± 0.0392 ns per loop (mean ± std. dev. of 7 runs, 10,000,000 loops each)\n"
     ]
    }
   ],
   "source": [
    "%timeit b.a"
   ]
  },
  {
   "cell_type": "code",
   "execution_count": 12,
   "id": "ad54dc69",
   "metadata": {
    "execution": {
     "iopub.execute_input": "2023-02-27T12:10:51.261830Z",
     "iopub.status.busy": "2023-02-27T12:10:51.261197Z",
     "iopub.status.idle": "2023-02-27T12:10:51.267503Z",
     "shell.execute_reply": "2023-02-27T12:10:51.266824Z"
    }
   },
   "outputs": [
    {
     "data": {
      "text/plain": [
       "Batch(\n",
       "    a: tensor([[ 1.4604,  0.1842, -0.3352],\n",
       "               [ 2.5018,  0.7386, -1.1681]]),\n",
       "    x: Batch(\n",
       "           c: tensor([[-0.4424,  0.8297, -1.0981, -0.1495],\n",
       "                      [-0.6674, -1.0596,  1.2626, -1.4390],\n",
       "                      [-0.8467,  0.1597,  0.4012,  0.7591]]),\n",
       "       ),\n",
       ")"
      ]
     },
     "execution_count": 12,
     "metadata": {},
     "output_type": "execute_result"
    }
   ],
   "source": [
    "new_value = torch.randn(2, 3)\n",
    "b.a = new_value\n",
    "\n",
    "b"
   ]
  },
  {
   "cell_type": "code",
   "execution_count": 13,
   "id": "29b1d0bf",
   "metadata": {
    "execution": {
     "iopub.execute_input": "2023-02-27T12:10:51.270431Z",
     "iopub.status.busy": "2023-02-27T12:10:51.269788Z",
     "iopub.status.idle": "2023-02-27T12:10:55.527399Z",
     "shell.execute_reply": "2023-02-27T12:10:55.526529Z"
    }
   },
   "outputs": [
    {
     "name": "stdout",
     "output_type": "stream",
     "text": [
      "524 ns ± 0.873 ns per loop (mean ± std. dev. of 7 runs, 1,000,000 loops each)\n"
     ]
    }
   ],
   "source": [
    "%timeit b.a = new_value"
   ]
  },
  {
   "cell_type": "markdown",
   "id": "b61ad1d0",
   "metadata": {},
   "source": [
    "## Initialization"
   ]
  },
  {
   "cell_type": "markdown",
   "id": "d70f0d54",
   "metadata": {},
   "source": [
    "### TreeValue's Initialization"
   ]
  },
  {
   "cell_type": "code",
   "execution_count": 14,
   "id": "d32a679b",
   "metadata": {
    "execution": {
     "iopub.execute_input": "2023-02-27T12:10:55.530862Z",
     "iopub.status.busy": "2023-02-27T12:10:55.530461Z",
     "iopub.status.idle": "2023-02-27T12:11:02.359042Z",
     "shell.execute_reply": "2023-02-27T12:11:02.358314Z"
    }
   },
   "outputs": [
    {
     "name": "stdout",
     "output_type": "stream",
     "text": [
      "842 ns ± 0.171 ns per loop (mean ± std. dev. of 7 runs, 1,000,000 loops each)\n"
     ]
    }
   ],
   "source": [
    "%timeit FastTreeValue(_TREE_DATA_1)"
   ]
  },
  {
   "cell_type": "markdown",
   "id": "24f3707b",
   "metadata": {},
   "source": [
    "### Tianshou Batch's Initialization"
   ]
  },
  {
   "cell_type": "code",
   "execution_count": 15,
   "id": "ac3958df",
   "metadata": {
    "execution": {
     "iopub.execute_input": "2023-02-27T12:11:02.361819Z",
     "iopub.status.busy": "2023-02-27T12:11:02.361572Z",
     "iopub.status.idle": "2023-02-27T12:11:11.729971Z",
     "shell.execute_reply": "2023-02-27T12:11:11.729231Z"
    }
   },
   "outputs": [
    {
     "name": "stdout",
     "output_type": "stream",
     "text": [
      "11.5 µs ± 24.3 ns per loop (mean ± std. dev. of 7 runs, 100,000 loops each)\n"
     ]
    }
   ],
   "source": [
    "%timeit Batch(**_TREE_DATA_1)"
   ]
  },
  {
   "cell_type": "markdown",
   "id": "1ab82e2d",
   "metadata": {},
   "source": [
    "## Deep Copy Operation"
   ]
  },
  {
   "cell_type": "code",
   "execution_count": 16,
   "id": "210a9442",
   "metadata": {
    "execution": {
     "iopub.execute_input": "2023-02-27T12:11:11.733102Z",
     "iopub.status.busy": "2023-02-27T12:11:11.732728Z",
     "iopub.status.idle": "2023-02-27T12:11:11.736701Z",
     "shell.execute_reply": "2023-02-27T12:11:11.736102Z"
    }
   },
   "outputs": [],
   "source": [
    "import copy"
   ]
  },
  {
   "cell_type": "markdown",
   "id": "5a736274",
   "metadata": {},
   "source": [
    "### Deep Copy of TreeValue"
   ]
  },
  {
   "cell_type": "code",
   "execution_count": 17,
   "id": "f9bcadd6",
   "metadata": {
    "execution": {
     "iopub.execute_input": "2023-02-27T12:11:11.739615Z",
     "iopub.status.busy": "2023-02-27T12:11:11.739094Z",
     "iopub.status.idle": "2023-02-27T12:11:22.939956Z",
     "shell.execute_reply": "2023-02-27T12:11:22.939391Z"
    }
   },
   "outputs": [
    {
     "name": "stdout",
     "output_type": "stream",
     "text": [
      "138 µs ± 286 ns per loop (mean ± std. dev. of 7 runs, 10,000 loops each)\n"
     ]
    }
   ],
   "source": [
    "t3 = FastTreeValue(_TREE_DATA_3)\n",
    "%timeit copy.deepcopy(t3)"
   ]
  },
  {
   "cell_type": "markdown",
   "id": "bf8be7ea",
   "metadata": {},
   "source": [
    "### Deep Copy of Tianshou Batch"
   ]
  },
  {
   "cell_type": "code",
   "execution_count": 18,
   "id": "91998e6f",
   "metadata": {
    "execution": {
     "iopub.execute_input": "2023-02-27T12:11:22.942748Z",
     "iopub.status.busy": "2023-02-27T12:11:22.942254Z",
     "iopub.status.idle": "2023-02-27T12:11:34.326221Z",
     "shell.execute_reply": "2023-02-27T12:11:34.325549Z"
    }
   },
   "outputs": [
    {
     "name": "stdout",
     "output_type": "stream",
     "text": [
      "140 µs ± 468 ns per loop (mean ± std. dev. of 7 runs, 10,000 loops each)\n"
     ]
    }
   ],
   "source": [
    "b3 = Batch(**_TREE_DATA_3)\n",
    "%timeit copy.deepcopy(b3)"
   ]
  },
  {
   "cell_type": "markdown",
   "id": "223162fb",
   "metadata": {},
   "source": [
    "## Stack, Concat and Split Operation"
   ]
  },
  {
   "cell_type": "markdown",
   "id": "85fa4a73",
   "metadata": {},
   "source": [
    "### Performance of TreeValue"
   ]
  },
  {
   "cell_type": "code",
   "execution_count": 19,
   "id": "a0c2b697",
   "metadata": {
    "execution": {
     "iopub.execute_input": "2023-02-27T12:11:34.329466Z",
     "iopub.status.busy": "2023-02-27T12:11:34.329223Z",
     "iopub.status.idle": "2023-02-27T12:11:34.332805Z",
     "shell.execute_reply": "2023-02-27T12:11:34.332293Z"
    }
   },
   "outputs": [],
   "source": [
    "trees = [FastTreeValue(_TREE_DATA_2) for _ in range(8)]"
   ]
  },
  {
   "cell_type": "code",
   "execution_count": 20,
   "id": "017ea5a5",
   "metadata": {
    "execution": {
     "iopub.execute_input": "2023-02-27T12:11:34.335406Z",
     "iopub.status.busy": "2023-02-27T12:11:34.334834Z",
     "iopub.status.idle": "2023-02-27T12:11:34.341711Z",
     "shell.execute_reply": "2023-02-27T12:11:34.341203Z"
    }
   },
   "outputs": [
    {
     "data": {
      "text/plain": [
       "<FastTreeValue 0x7f88e6f6c790>\n",
       "├── 'a' --> tensor([[[-1.0312,  1.5261,  0.6664],\n",
       "│                    [-0.0090, -0.1369,  0.9733]],\n",
       "│           \n",
       "│                   [[-1.0312,  1.5261,  0.6664],\n",
       "│                    [-0.0090, -0.1369,  0.9733]],\n",
       "│           \n",
       "│                   [[-1.0312,  1.5261,  0.6664],\n",
       "│                    [-0.0090, -0.1369,  0.9733]],\n",
       "│           \n",
       "│                   [[-1.0312,  1.5261,  0.6664],\n",
       "│                    [-0.0090, -0.1369,  0.9733]],\n",
       "│           \n",
       "│                   [[-1.0312,  1.5261,  0.6664],\n",
       "│                    [-0.0090, -0.1369,  0.9733]],\n",
       "│           \n",
       "│                   [[-1.0312,  1.5261,  0.6664],\n",
       "│                    [-0.0090, -0.1369,  0.9733]],\n",
       "│           \n",
       "│                   [[-1.0312,  1.5261,  0.6664],\n",
       "│                    [-0.0090, -0.1369,  0.9733]],\n",
       "│           \n",
       "│                   [[-1.0312,  1.5261,  0.6664],\n",
       "│                    [-0.0090, -0.1369,  0.9733]]])\n",
       "└── 'x' --> <FastTreeValue 0x7f88e6f6c580>\n",
       "    └── 'c' --> tensor([[[-0.4424,  0.8297, -1.0981, -0.1495],\n",
       "                         [-0.6674, -1.0596,  1.2626, -1.4390],\n",
       "                         [-0.8467,  0.1597,  0.4012,  0.7591]],\n",
       "                \n",
       "                        [[-0.4424,  0.8297, -1.0981, -0.1495],\n",
       "                         [-0.6674, -1.0596,  1.2626, -1.4390],\n",
       "                         [-0.8467,  0.1597,  0.4012,  0.7591]],\n",
       "                \n",
       "                        [[-0.4424,  0.8297, -1.0981, -0.1495],\n",
       "                         [-0.6674, -1.0596,  1.2626, -1.4390],\n",
       "                         [-0.8467,  0.1597,  0.4012,  0.7591]],\n",
       "                \n",
       "                        [[-0.4424,  0.8297, -1.0981, -0.1495],\n",
       "                         [-0.6674, -1.0596,  1.2626, -1.4390],\n",
       "                         [-0.8467,  0.1597,  0.4012,  0.7591]],\n",
       "                \n",
       "                        [[-0.4424,  0.8297, -1.0981, -0.1495],\n",
       "                         [-0.6674, -1.0596,  1.2626, -1.4390],\n",
       "                         [-0.8467,  0.1597,  0.4012,  0.7591]],\n",
       "                \n",
       "                        [[-0.4424,  0.8297, -1.0981, -0.1495],\n",
       "                         [-0.6674, -1.0596,  1.2626, -1.4390],\n",
       "                         [-0.8467,  0.1597,  0.4012,  0.7591]],\n",
       "                \n",
       "                        [[-0.4424,  0.8297, -1.0981, -0.1495],\n",
       "                         [-0.6674, -1.0596,  1.2626, -1.4390],\n",
       "                         [-0.8467,  0.1597,  0.4012,  0.7591]],\n",
       "                \n",
       "                        [[-0.4424,  0.8297, -1.0981, -0.1495],\n",
       "                         [-0.6674, -1.0596,  1.2626, -1.4390],\n",
       "                         [-0.8467,  0.1597,  0.4012,  0.7591]]])"
      ]
     },
     "execution_count": 20,
     "metadata": {},
     "output_type": "execute_result"
    }
   ],
   "source": [
    "t_stack = FastTreeValue.func(subside=True)(torch.stack)\n",
    "\n",
    "t_stack(trees)"
   ]
  },
  {
   "cell_type": "code",
   "execution_count": 21,
   "id": "f8b3f415",
   "metadata": {
    "execution": {
     "iopub.execute_input": "2023-02-27T12:11:34.344147Z",
     "iopub.status.busy": "2023-02-27T12:11:34.343569Z",
     "iopub.status.idle": "2023-02-27T12:11:36.880523Z",
     "shell.execute_reply": "2023-02-27T12:11:36.879777Z"
    }
   },
   "outputs": [
    {
     "name": "stdout",
     "output_type": "stream",
     "text": [
      "31.2 µs ± 63 ns per loop (mean ± std. dev. of 7 runs, 10,000 loops each)\n"
     ]
    }
   ],
   "source": [
    "%timeit t_stack(trees)"
   ]
  },
  {
   "cell_type": "code",
   "execution_count": 22,
   "id": "94b56771",
   "metadata": {
    "execution": {
     "iopub.execute_input": "2023-02-27T12:11:36.883663Z",
     "iopub.status.busy": "2023-02-27T12:11:36.883142Z",
     "iopub.status.idle": "2023-02-27T12:11:36.891888Z",
     "shell.execute_reply": "2023-02-27T12:11:36.891294Z"
    }
   },
   "outputs": [
    {
     "data": {
      "text/plain": [
       "<FastTreeValue 0x7f88e779ff70>\n",
       "├── 'a' --> tensor([[-1.0312,  1.5261,  0.6664],\n",
       "│                   [-0.0090, -0.1369,  0.9733],\n",
       "│                   [-1.0312,  1.5261,  0.6664],\n",
       "│                   [-0.0090, -0.1369,  0.9733],\n",
       "│                   [-1.0312,  1.5261,  0.6664],\n",
       "│                   [-0.0090, -0.1369,  0.9733],\n",
       "│                   [-1.0312,  1.5261,  0.6664],\n",
       "│                   [-0.0090, -0.1369,  0.9733],\n",
       "│                   [-1.0312,  1.5261,  0.6664],\n",
       "│                   [-0.0090, -0.1369,  0.9733],\n",
       "│                   [-1.0312,  1.5261,  0.6664],\n",
       "│                   [-0.0090, -0.1369,  0.9733],\n",
       "│                   [-1.0312,  1.5261,  0.6664],\n",
       "│                   [-0.0090, -0.1369,  0.9733],\n",
       "│                   [-1.0312,  1.5261,  0.6664],\n",
       "│                   [-0.0090, -0.1369,  0.9733]])\n",
       "└── 'x' --> <FastTreeValue 0x7f88e7543b80>\n",
       "    └── 'c' --> tensor([[-0.4424,  0.8297, -1.0981, -0.1495],\n",
       "                        [-0.6674, -1.0596,  1.2626, -1.4390],\n",
       "                        [-0.8467,  0.1597,  0.4012,  0.7591],\n",
       "                        [-0.4424,  0.8297, -1.0981, -0.1495],\n",
       "                        [-0.6674, -1.0596,  1.2626, -1.4390],\n",
       "                        [-0.8467,  0.1597,  0.4012,  0.7591],\n",
       "                        [-0.4424,  0.8297, -1.0981, -0.1495],\n",
       "                        [-0.6674, -1.0596,  1.2626, -1.4390],\n",
       "                        [-0.8467,  0.1597,  0.4012,  0.7591],\n",
       "                        [-0.4424,  0.8297, -1.0981, -0.1495],\n",
       "                        [-0.6674, -1.0596,  1.2626, -1.4390],\n",
       "                        [-0.8467,  0.1597,  0.4012,  0.7591],\n",
       "                        [-0.4424,  0.8297, -1.0981, -0.1495],\n",
       "                        [-0.6674, -1.0596,  1.2626, -1.4390],\n",
       "                        [-0.8467,  0.1597,  0.4012,  0.7591],\n",
       "                        [-0.4424,  0.8297, -1.0981, -0.1495],\n",
       "                        [-0.6674, -1.0596,  1.2626, -1.4390],\n",
       "                        [-0.8467,  0.1597,  0.4012,  0.7591],\n",
       "                        [-0.4424,  0.8297, -1.0981, -0.1495],\n",
       "                        [-0.6674, -1.0596,  1.2626, -1.4390],\n",
       "                        [-0.8467,  0.1597,  0.4012,  0.7591],\n",
       "                        [-0.4424,  0.8297, -1.0981, -0.1495],\n",
       "                        [-0.6674, -1.0596,  1.2626, -1.4390],\n",
       "                        [-0.8467,  0.1597,  0.4012,  0.7591]])"
      ]
     },
     "execution_count": 22,
     "metadata": {},
     "output_type": "execute_result"
    }
   ],
   "source": [
    "t_cat = FastTreeValue.func(subside=True)(torch.cat)\n",
    "\n",
    "t_cat(trees)"
   ]
  },
  {
   "cell_type": "code",
   "execution_count": 23,
   "id": "5e9c06a6",
   "metadata": {
    "execution": {
     "iopub.execute_input": "2023-02-27T12:11:36.894787Z",
     "iopub.status.busy": "2023-02-27T12:11:36.894337Z",
     "iopub.status.idle": "2023-02-27T12:11:39.294059Z",
     "shell.execute_reply": "2023-02-27T12:11:39.293389Z"
    }
   },
   "outputs": [
    {
     "name": "stdout",
     "output_type": "stream",
     "text": [
      "29.5 µs ± 56.2 ns per loop (mean ± std. dev. of 7 runs, 10,000 loops each)\n"
     ]
    }
   ],
   "source": [
    "%timeit t_cat(trees)"
   ]
  },
  {
   "cell_type": "code",
   "execution_count": 24,
   "id": "a3ab5c8f",
   "metadata": {
    "execution": {
     "iopub.execute_input": "2023-02-27T12:11:39.296850Z",
     "iopub.status.busy": "2023-02-27T12:11:39.296492Z",
     "iopub.status.idle": "2023-02-27T12:11:44.071445Z",
     "shell.execute_reply": "2023-02-27T12:11:44.070681Z"
    }
   },
   "outputs": [
    {
     "name": "stdout",
     "output_type": "stream",
     "text": [
      "58.8 µs ± 606 ns per loop (mean ± std. dev. of 7 runs, 10,000 loops each)\n"
     ]
    }
   ],
   "source": [
    "t_split = FastTreeValue.func(rise=True)(torch.split)\n",
    "tree = FastTreeValue({\n",
    "    'obs': torch.randn(8, 4, 84, 84),\n",
    "    'action': torch.randint(0, 6, size=(8, 1,)),\n",
    "    'reward': torch.rand(8, 1),\n",
    "})\n",
    "\n",
    "%timeit t_split(tree, 1)"
   ]
  },
  {
   "cell_type": "markdown",
   "id": "31c3ec0b",
   "metadata": {},
   "source": [
    "### Performance of Tianshou Batch"
   ]
  },
  {
   "cell_type": "code",
   "execution_count": 25,
   "id": "9ead828a",
   "metadata": {
    "execution": {
     "iopub.execute_input": "2023-02-27T12:11:44.074514Z",
     "iopub.status.busy": "2023-02-27T12:11:44.074148Z",
     "iopub.status.idle": "2023-02-27T12:11:44.082951Z",
     "shell.execute_reply": "2023-02-27T12:11:44.082334Z"
    }
   },
   "outputs": [
    {
     "data": {
      "text/plain": [
       "Batch(\n",
       "    x: Batch(\n",
       "           c: tensor([[[-0.4424,  0.8297, -1.0981, -0.1495],\n",
       "                       [-0.6674, -1.0596,  1.2626, -1.4390],\n",
       "                       [-0.8467,  0.1597,  0.4012,  0.7591]],\n",
       "              \n",
       "                      [[-0.4424,  0.8297, -1.0981, -0.1495],\n",
       "                       [-0.6674, -1.0596,  1.2626, -1.4390],\n",
       "                       [-0.8467,  0.1597,  0.4012,  0.7591]],\n",
       "              \n",
       "                      [[-0.4424,  0.8297, -1.0981, -0.1495],\n",
       "                       [-0.6674, -1.0596,  1.2626, -1.4390],\n",
       "                       [-0.8467,  0.1597,  0.4012,  0.7591]],\n",
       "              \n",
       "                      [[-0.4424,  0.8297, -1.0981, -0.1495],\n",
       "                       [-0.6674, -1.0596,  1.2626, -1.4390],\n",
       "                       [-0.8467,  0.1597,  0.4012,  0.7591]],\n",
       "              \n",
       "                      [[-0.4424,  0.8297, -1.0981, -0.1495],\n",
       "                       [-0.6674, -1.0596,  1.2626, -1.4390],\n",
       "                       [-0.8467,  0.1597,  0.4012,  0.7591]],\n",
       "              \n",
       "                      [[-0.4424,  0.8297, -1.0981, -0.1495],\n",
       "                       [-0.6674, -1.0596,  1.2626, -1.4390],\n",
       "                       [-0.8467,  0.1597,  0.4012,  0.7591]],\n",
       "              \n",
       "                      [[-0.4424,  0.8297, -1.0981, -0.1495],\n",
       "                       [-0.6674, -1.0596,  1.2626, -1.4390],\n",
       "                       [-0.8467,  0.1597,  0.4012,  0.7591]],\n",
       "              \n",
       "                      [[-0.4424,  0.8297, -1.0981, -0.1495],\n",
       "                       [-0.6674, -1.0596,  1.2626, -1.4390],\n",
       "                       [-0.8467,  0.1597,  0.4012,  0.7591]]]),\n",
       "       ),\n",
       "    a: tensor([[[-1.0312,  1.5261,  0.6664],\n",
       "                [-0.0090, -0.1369,  0.9733]],\n",
       "       \n",
       "               [[-1.0312,  1.5261,  0.6664],\n",
       "                [-0.0090, -0.1369,  0.9733]],\n",
       "       \n",
       "               [[-1.0312,  1.5261,  0.6664],\n",
       "                [-0.0090, -0.1369,  0.9733]],\n",
       "       \n",
       "               [[-1.0312,  1.5261,  0.6664],\n",
       "                [-0.0090, -0.1369,  0.9733]],\n",
       "       \n",
       "               [[-1.0312,  1.5261,  0.6664],\n",
       "                [-0.0090, -0.1369,  0.9733]],\n",
       "       \n",
       "               [[-1.0312,  1.5261,  0.6664],\n",
       "                [-0.0090, -0.1369,  0.9733]],\n",
       "       \n",
       "               [[-1.0312,  1.5261,  0.6664],\n",
       "                [-0.0090, -0.1369,  0.9733]],\n",
       "       \n",
       "               [[-1.0312,  1.5261,  0.6664],\n",
       "                [-0.0090, -0.1369,  0.9733]]]),\n",
       ")"
      ]
     },
     "execution_count": 25,
     "metadata": {},
     "output_type": "execute_result"
    }
   ],
   "source": [
    "batches = [Batch(**_TREE_DATA_2) for _ in range(8)]\n",
    "\n",
    "Batch.stack(batches)"
   ]
  },
  {
   "cell_type": "code",
   "execution_count": 26,
   "id": "ec9037a3",
   "metadata": {
    "execution": {
     "iopub.execute_input": "2023-02-27T12:11:44.085779Z",
     "iopub.status.busy": "2023-02-27T12:11:44.085421Z",
     "iopub.status.idle": "2023-02-27T12:11:50.800860Z",
     "shell.execute_reply": "2023-02-27T12:11:50.800187Z"
    }
   },
   "outputs": [
    {
     "name": "stdout",
     "output_type": "stream",
     "text": [
      "82.7 µs ± 286 ns per loop (mean ± std. dev. of 7 runs, 10,000 loops each)\n"
     ]
    }
   ],
   "source": [
    "%timeit Batch.stack(batches)"
   ]
  },
  {
   "cell_type": "code",
   "execution_count": 27,
   "id": "cb8ab77e",
   "metadata": {
    "execution": {
     "iopub.execute_input": "2023-02-27T12:11:50.804080Z",
     "iopub.status.busy": "2023-02-27T12:11:50.803515Z",
     "iopub.status.idle": "2023-02-27T12:11:50.810841Z",
     "shell.execute_reply": "2023-02-27T12:11:50.810258Z"
    }
   },
   "outputs": [
    {
     "data": {
      "text/plain": [
       "Batch(\n",
       "    x: Batch(\n",
       "           c: tensor([[-0.4424,  0.8297, -1.0981, -0.1495],\n",
       "                      [-0.6674, -1.0596,  1.2626, -1.4390],\n",
       "                      [-0.8467,  0.1597,  0.4012,  0.7591],\n",
       "                      [-0.4424,  0.8297, -1.0981, -0.1495],\n",
       "                      [-0.6674, -1.0596,  1.2626, -1.4390],\n",
       "                      [-0.8467,  0.1597,  0.4012,  0.7591],\n",
       "                      [-0.4424,  0.8297, -1.0981, -0.1495],\n",
       "                      [-0.6674, -1.0596,  1.2626, -1.4390],\n",
       "                      [-0.8467,  0.1597,  0.4012,  0.7591],\n",
       "                      [-0.4424,  0.8297, -1.0981, -0.1495],\n",
       "                      [-0.6674, -1.0596,  1.2626, -1.4390],\n",
       "                      [-0.8467,  0.1597,  0.4012,  0.7591],\n",
       "                      [-0.4424,  0.8297, -1.0981, -0.1495],\n",
       "                      [-0.6674, -1.0596,  1.2626, -1.4390],\n",
       "                      [-0.8467,  0.1597,  0.4012,  0.7591],\n",
       "                      [-0.4424,  0.8297, -1.0981, -0.1495],\n",
       "                      [-0.6674, -1.0596,  1.2626, -1.4390],\n",
       "                      [-0.8467,  0.1597,  0.4012,  0.7591],\n",
       "                      [-0.4424,  0.8297, -1.0981, -0.1495],\n",
       "                      [-0.6674, -1.0596,  1.2626, -1.4390],\n",
       "                      [-0.8467,  0.1597,  0.4012,  0.7591],\n",
       "                      [-0.4424,  0.8297, -1.0981, -0.1495],\n",
       "                      [-0.6674, -1.0596,  1.2626, -1.4390],\n",
       "                      [-0.8467,  0.1597,  0.4012,  0.7591]]),\n",
       "       ),\n",
       "    a: tensor([[-1.0312,  1.5261,  0.6664],\n",
       "               [-0.0090, -0.1369,  0.9733],\n",
       "               [-1.0312,  1.5261,  0.6664],\n",
       "               [-0.0090, -0.1369,  0.9733],\n",
       "               [-1.0312,  1.5261,  0.6664],\n",
       "               [-0.0090, -0.1369,  0.9733],\n",
       "               [-1.0312,  1.5261,  0.6664],\n",
       "               [-0.0090, -0.1369,  0.9733],\n",
       "               [-1.0312,  1.5261,  0.6664],\n",
       "               [-0.0090, -0.1369,  0.9733],\n",
       "               [-1.0312,  1.5261,  0.6664],\n",
       "               [-0.0090, -0.1369,  0.9733],\n",
       "               [-1.0312,  1.5261,  0.6664],\n",
       "               [-0.0090, -0.1369,  0.9733],\n",
       "               [-1.0312,  1.5261,  0.6664],\n",
       "               [-0.0090, -0.1369,  0.9733]]),\n",
       ")"
      ]
     },
     "execution_count": 27,
     "metadata": {},
     "output_type": "execute_result"
    }
   ],
   "source": [
    "Batch.cat(batches)"
   ]
  },
  {
   "cell_type": "code",
   "execution_count": 28,
   "id": "18dfb045",
   "metadata": {
    "execution": {
     "iopub.execute_input": "2023-02-27T12:11:50.813472Z",
     "iopub.status.busy": "2023-02-27T12:11:50.813151Z",
     "iopub.status.idle": "2023-02-27T12:12:02.828211Z",
     "shell.execute_reply": "2023-02-27T12:12:02.827591Z"
    }
   },
   "outputs": [
    {
     "name": "stdout",
     "output_type": "stream",
     "text": [
      "148 µs ± 182 ns per loop (mean ± std. dev. of 7 runs, 10,000 loops each)\n"
     ]
    }
   ],
   "source": [
    "%timeit Batch.cat(batches)"
   ]
  },
  {
   "cell_type": "code",
   "execution_count": 29,
   "id": "c6688e51",
   "metadata": {
    "execution": {
     "iopub.execute_input": "2023-02-27T12:12:02.831035Z",
     "iopub.status.busy": "2023-02-27T12:12:02.830509Z",
     "iopub.status.idle": "2023-02-27T12:12:05.343286Z",
     "shell.execute_reply": "2023-02-27T12:12:05.342697Z"
    }
   },
   "outputs": [
    {
     "name": "stdout",
     "output_type": "stream",
     "text": [
      "308 µs ± 1.97 µs per loop (mean ± std. dev. of 7 runs, 1,000 loops each)\n"
     ]
    }
   ],
   "source": [
    "batch = Batch({\n",
    "    'obs': torch.randn(8, 4, 84, 84),\n",
    "    'action': torch.randint(0, 6, size=(8, 1,)),\n",
    "    'reward': torch.rand(8, 1)}\n",
    ")\n",
    "\n",
    "%timeit list(Batch.split(batch, 1, shuffle=False, merge_last=True))"
   ]
  },
  {
   "cell_type": "code",
   "execution_count": null,
   "id": "2539fbd9",
   "metadata": {},
   "outputs": [],
   "source": []
  }
 ],
 "metadata": {
  "kernelspec": {
   "display_name": "Python 3 (ipykernel)",
   "language": "python",
   "name": "python3"
  },
  "language_info": {
   "codemirror_mode": {
    "name": "ipython",
    "version": 3
   },
   "file_extension": ".py",
   "mimetype": "text/x-python",
   "name": "python",
   "nbconvert_exporter": "python",
   "pygments_lexer": "ipython3",
   "version": "3.8.16"
  }
 },
 "nbformat": 4,
 "nbformat_minor": 5
}
