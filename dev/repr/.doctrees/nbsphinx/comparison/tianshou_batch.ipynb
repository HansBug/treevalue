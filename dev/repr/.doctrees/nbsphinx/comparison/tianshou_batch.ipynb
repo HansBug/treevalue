{
 "cells": [
  {
   "cell_type": "markdown",
   "id": "9d39d946",
   "metadata": {},
   "source": [
    "# Comparison Between TreeValue and Tianshou Batch"
   ]
  },
  {
   "cell_type": "markdown",
   "id": "3c6db2d4",
   "metadata": {},
   "source": [
    "In this section, we will take a look at the feature and performance of the [Tianshou Batch](https://github.com/thu-ml/tianshou) library, which is developed by Tsinghua Machine Learning Group."
   ]
  },
  {
   "cell_type": "markdown",
   "id": "069361b0",
   "metadata": {},
   "source": [
    "Before starting the comparison, let us define some thing."
   ]
  },
  {
   "cell_type": "code",
   "execution_count": 1,
   "id": "06fc8d26",
   "metadata": {
    "execution": {
     "iopub.execute_input": "2023-02-24T08:32:39.091970Z",
     "iopub.status.busy": "2023-02-24T08:32:39.091711Z",
     "iopub.status.idle": "2023-02-24T08:32:40.065859Z",
     "shell.execute_reply": "2023-02-24T08:32:40.065121Z"
    }
   },
   "outputs": [
    {
     "name": "stderr",
     "output_type": "stream",
     "text": [
      "/opt/hostedtoolcache/Python/3.8.16/x64/lib/python3.8/site-packages/tqdm/auto.py:22: TqdmWarning: IProgress not found. Please update jupyter and ipywidgets. See https://ipywidgets.readthedocs.io/en/stable/user_install.html\n",
      "  from .autonotebook import tqdm as notebook_tqdm\n"
     ]
    }
   ],
   "source": [
    "import torch \n",
    "\n",
    "_TREE_DATA_1 = {'a': 1, 'b': 2, 'x': {'c': 3, 'd': 4}}\n",
    "_TREE_DATA_2 = {\n",
    "    'a': torch.randn(2, 3), \n",
    "    'x': {\n",
    "        'c': torch.randn(3, 4)\n",
    "    },\n",
    "}\n",
    "_TREE_DATA_3 = {\n",
    "    'obs': torch.randn(4, 84, 84),\n",
    "    'action': torch.randint(0, 6, size=(1,)),\n",
    "    'reward': torch.rand(1),\n",
    "}"
   ]
  },
  {
   "cell_type": "markdown",
   "id": "83461b25",
   "metadata": {},
   "source": [
    "## Read and Write Operation"
   ]
  },
  {
   "cell_type": "markdown",
   "id": "067b3f73",
   "metadata": {},
   "source": [
    "Reading and writing are the two most common operations in the tree data structure based on the data model (TreeValue and Tianshou Batch both belong to this type), so this section will compare the reading and writing performance of these two libraries."
   ]
  },
  {
   "cell_type": "markdown",
   "id": "5d09a5b7",
   "metadata": {},
   "source": [
    "### TreeValue's Get and Set"
   ]
  },
  {
   "cell_type": "code",
   "execution_count": 2,
   "id": "9519c4bb",
   "metadata": {
    "execution": {
     "iopub.execute_input": "2023-02-24T08:32:40.069876Z",
     "iopub.status.busy": "2023-02-24T08:32:40.069117Z",
     "iopub.status.idle": "2023-02-24T08:32:40.103966Z",
     "shell.execute_reply": "2023-02-24T08:32:40.103276Z"
    }
   },
   "outputs": [],
   "source": [
    "from treevalue import FastTreeValue\n",
    "\n",
    "t = FastTreeValue(_TREE_DATA_2)"
   ]
  },
  {
   "cell_type": "code",
   "execution_count": 3,
   "id": "11c37677",
   "metadata": {
    "execution": {
     "iopub.execute_input": "2023-02-24T08:32:40.107561Z",
     "iopub.status.busy": "2023-02-24T08:32:40.106948Z",
     "iopub.status.idle": "2023-02-24T08:32:40.117346Z",
     "shell.execute_reply": "2023-02-24T08:32:40.116693Z"
    }
   },
   "outputs": [
    {
     "data": {
      "text/plain": [
       "<FastTreeValue 0x7f42c0e0d1f0>\n",
       "├── 'a' --> tensor([[ 0.6537,  0.6462, -1.1670],\n",
       "│                   [-0.1494, -0.1912,  0.7418]])\n",
       "└── 'x' --> <FastTreeValue 0x7f42c0e0df10>\n",
       "    └── 'c' --> tensor([[-0.1107,  0.4488,  1.0056, -1.7518],\n",
       "                        [-0.8434,  1.5024, -0.4146,  0.1262],\n",
       "                        [-1.4129,  1.2946, -0.5745, -0.7119]])"
      ]
     },
     "execution_count": 3,
     "metadata": {},
     "output_type": "execute_result"
    }
   ],
   "source": [
    "t"
   ]
  },
  {
   "cell_type": "code",
   "execution_count": 4,
   "id": "fd70b0b9",
   "metadata": {
    "execution": {
     "iopub.execute_input": "2023-02-24T08:32:40.120396Z",
     "iopub.status.busy": "2023-02-24T08:32:40.120009Z",
     "iopub.status.idle": "2023-02-24T08:32:40.126472Z",
     "shell.execute_reply": "2023-02-24T08:32:40.125839Z"
    }
   },
   "outputs": [
    {
     "data": {
      "text/plain": [
       "tensor([[ 0.6537,  0.6462, -1.1670],\n",
       "        [-0.1494, -0.1912,  0.7418]])"
      ]
     },
     "execution_count": 4,
     "metadata": {},
     "output_type": "execute_result"
    }
   ],
   "source": [
    "t.a"
   ]
  },
  {
   "cell_type": "code",
   "execution_count": 5,
   "id": "c18197bd",
   "metadata": {
    "execution": {
     "iopub.execute_input": "2023-02-24T08:32:40.129527Z",
     "iopub.status.busy": "2023-02-24T08:32:40.129137Z",
     "iopub.status.idle": "2023-02-24T08:32:45.418894Z",
     "shell.execute_reply": "2023-02-24T08:32:45.418059Z"
    }
   },
   "outputs": [
    {
     "name": "stdout",
     "output_type": "stream",
     "text": [
      "65 ns ± 0.0336 ns per loop (mean ± std. dev. of 7 runs, 10,000,000 loops each)\n"
     ]
    }
   ],
   "source": [
    "%timeit t.a"
   ]
  },
  {
   "cell_type": "code",
   "execution_count": 6,
   "id": "bd52f867",
   "metadata": {
    "execution": {
     "iopub.execute_input": "2023-02-24T08:32:45.422284Z",
     "iopub.status.busy": "2023-02-24T08:32:45.421692Z",
     "iopub.status.idle": "2023-02-24T08:32:45.428927Z",
     "shell.execute_reply": "2023-02-24T08:32:45.428229Z"
    }
   },
   "outputs": [
    {
     "data": {
      "text/plain": [
       "<FastTreeValue 0x7f42c0e0d1f0>\n",
       "├── 'a' --> tensor([[ 1.4286, -1.1858,  0.4374],\n",
       "│                   [ 0.2254,  0.9186,  0.5257]])\n",
       "└── 'x' --> <FastTreeValue 0x7f42c0e0df10>\n",
       "    └── 'c' --> tensor([[-0.1107,  0.4488,  1.0056, -1.7518],\n",
       "                        [-0.8434,  1.5024, -0.4146,  0.1262],\n",
       "                        [-1.4129,  1.2946, -0.5745, -0.7119]])"
      ]
     },
     "execution_count": 6,
     "metadata": {},
     "output_type": "execute_result"
    }
   ],
   "source": [
    "new_value = torch.randn(2, 3)\n",
    "t.a = new_value\n",
    "\n",
    "t"
   ]
  },
  {
   "cell_type": "code",
   "execution_count": 7,
   "id": "bbe04d1c",
   "metadata": {
    "execution": {
     "iopub.execute_input": "2023-02-24T08:32:45.432218Z",
     "iopub.status.busy": "2023-02-24T08:32:45.431624Z",
     "iopub.status.idle": "2023-02-24T08:32:51.043635Z",
     "shell.execute_reply": "2023-02-24T08:32:51.042803Z"
    }
   },
   "outputs": [
    {
     "name": "stdout",
     "output_type": "stream",
     "text": [
      "69.1 ns ± 0.0331 ns per loop (mean ± std. dev. of 7 runs, 10,000,000 loops each)\n"
     ]
    }
   ],
   "source": [
    "%timeit t.a = new_value"
   ]
  },
  {
   "cell_type": "markdown",
   "id": "48c49731",
   "metadata": {},
   "source": [
    "### Tianshou Batch's Get and Set"
   ]
  },
  {
   "cell_type": "code",
   "execution_count": 8,
   "id": "f1bb14c1",
   "metadata": {
    "execution": {
     "iopub.execute_input": "2023-02-24T08:32:51.046765Z",
     "iopub.status.busy": "2023-02-24T08:32:51.046217Z",
     "iopub.status.idle": "2023-02-24T08:32:51.407053Z",
     "shell.execute_reply": "2023-02-24T08:32:51.406297Z"
    }
   },
   "outputs": [],
   "source": [
    "from tianshou.data import Batch\n",
    "\n",
    "b = Batch(**_TREE_DATA_2)"
   ]
  },
  {
   "cell_type": "code",
   "execution_count": 9,
   "id": "cb0777c3",
   "metadata": {
    "execution": {
     "iopub.execute_input": "2023-02-24T08:32:51.410881Z",
     "iopub.status.busy": "2023-02-24T08:32:51.410328Z",
     "iopub.status.idle": "2023-02-24T08:32:51.418419Z",
     "shell.execute_reply": "2023-02-24T08:32:51.417724Z"
    }
   },
   "outputs": [
    {
     "data": {
      "text/plain": [
       "Batch(\n",
       "    a: tensor([[ 0.6537,  0.6462, -1.1670],\n",
       "               [-0.1494, -0.1912,  0.7418]]),\n",
       "    x: Batch(\n",
       "           c: tensor([[-0.1107,  0.4488,  1.0056, -1.7518],\n",
       "                      [-0.8434,  1.5024, -0.4146,  0.1262],\n",
       "                      [-1.4129,  1.2946, -0.5745, -0.7119]]),\n",
       "       ),\n",
       ")"
      ]
     },
     "execution_count": 9,
     "metadata": {},
     "output_type": "execute_result"
    }
   ],
   "source": [
    "b"
   ]
  },
  {
   "cell_type": "code",
   "execution_count": 10,
   "id": "43ef8ea3",
   "metadata": {
    "execution": {
     "iopub.execute_input": "2023-02-24T08:32:51.421784Z",
     "iopub.status.busy": "2023-02-24T08:32:51.421318Z",
     "iopub.status.idle": "2023-02-24T08:32:51.428496Z",
     "shell.execute_reply": "2023-02-24T08:32:51.427826Z"
    }
   },
   "outputs": [
    {
     "data": {
      "text/plain": [
       "tensor([[ 0.6537,  0.6462, -1.1670],\n",
       "        [-0.1494, -0.1912,  0.7418]])"
      ]
     },
     "execution_count": 10,
     "metadata": {},
     "output_type": "execute_result"
    }
   ],
   "source": [
    "b.a"
   ]
  },
  {
   "cell_type": "code",
   "execution_count": 11,
   "id": "b785ab72",
   "metadata": {
    "execution": {
     "iopub.execute_input": "2023-02-24T08:32:51.431519Z",
     "iopub.status.busy": "2023-02-24T08:32:51.431237Z",
     "iopub.status.idle": "2023-02-24T08:32:55.963672Z",
     "shell.execute_reply": "2023-02-24T08:32:55.962877Z"
    }
   },
   "outputs": [
    {
     "name": "stdout",
     "output_type": "stream",
     "text": [
      "55.7 ns ± 0.0161 ns per loop (mean ± std. dev. of 7 runs, 10,000,000 loops each)\n"
     ]
    }
   ],
   "source": [
    "%timeit b.a"
   ]
  },
  {
   "cell_type": "code",
   "execution_count": 12,
   "id": "ad54dc69",
   "metadata": {
    "execution": {
     "iopub.execute_input": "2023-02-24T08:32:55.966575Z",
     "iopub.status.busy": "2023-02-24T08:32:55.966142Z",
     "iopub.status.idle": "2023-02-24T08:32:55.972938Z",
     "shell.execute_reply": "2023-02-24T08:32:55.972281Z"
    }
   },
   "outputs": [
    {
     "data": {
      "text/plain": [
       "Batch(\n",
       "    a: tensor([[ 0.8373, -1.2267, -0.6559],\n",
       "               [ 0.7021,  1.4014, -1.8234]]),\n",
       "    x: Batch(\n",
       "           c: tensor([[-0.1107,  0.4488,  1.0056, -1.7518],\n",
       "                      [-0.8434,  1.5024, -0.4146,  0.1262],\n",
       "                      [-1.4129,  1.2946, -0.5745, -0.7119]]),\n",
       "       ),\n",
       ")"
      ]
     },
     "execution_count": 12,
     "metadata": {},
     "output_type": "execute_result"
    }
   ],
   "source": [
    "new_value = torch.randn(2, 3)\n",
    "b.a = new_value\n",
    "\n",
    "b"
   ]
  },
  {
   "cell_type": "code",
   "execution_count": 13,
   "id": "29b1d0bf",
   "metadata": {
    "execution": {
     "iopub.execute_input": "2023-02-24T08:32:55.975863Z",
     "iopub.status.busy": "2023-02-24T08:32:55.975478Z",
     "iopub.status.idle": "2023-02-24T08:32:59.886115Z",
     "shell.execute_reply": "2023-02-24T08:32:59.885178Z"
    }
   },
   "outputs": [
    {
     "name": "stdout",
     "output_type": "stream",
     "text": [
      "479 ns ± 0.941 ns per loop (mean ± std. dev. of 7 runs, 1,000,000 loops each)\n"
     ]
    }
   ],
   "source": [
    "%timeit b.a = new_value"
   ]
  },
  {
   "cell_type": "markdown",
   "id": "b61ad1d0",
   "metadata": {},
   "source": [
    "## Initialization"
   ]
  },
  {
   "cell_type": "markdown",
   "id": "d70f0d54",
   "metadata": {},
   "source": [
    "### TreeValue's Initialization"
   ]
  },
  {
   "cell_type": "code",
   "execution_count": 14,
   "id": "d32a679b",
   "metadata": {
    "execution": {
     "iopub.execute_input": "2023-02-24T08:32:59.889450Z",
     "iopub.status.busy": "2023-02-24T08:32:59.889180Z",
     "iopub.status.idle": "2023-02-24T08:33:06.656396Z",
     "shell.execute_reply": "2023-02-24T08:33:06.655568Z"
    }
   },
   "outputs": [
    {
     "name": "stdout",
     "output_type": "stream",
     "text": [
      "833 ns ± 3.55 ns per loop (mean ± std. dev. of 7 runs, 1,000,000 loops each)\n"
     ]
    }
   ],
   "source": [
    "%timeit FastTreeValue(_TREE_DATA_1)"
   ]
  },
  {
   "cell_type": "markdown",
   "id": "24f3707b",
   "metadata": {},
   "source": [
    "### Tianshou Batch's Initialization"
   ]
  },
  {
   "cell_type": "code",
   "execution_count": 15,
   "id": "ac3958df",
   "metadata": {
    "execution": {
     "iopub.execute_input": "2023-02-24T08:33:06.659741Z",
     "iopub.status.busy": "2023-02-24T08:33:06.659128Z",
     "iopub.status.idle": "2023-02-24T08:33:15.651156Z",
     "shell.execute_reply": "2023-02-24T08:33:15.650356Z"
    }
   },
   "outputs": [
    {
     "name": "stdout",
     "output_type": "stream",
     "text": [
      "11.1 µs ± 55 ns per loop (mean ± std. dev. of 7 runs, 100,000 loops each)\n"
     ]
    }
   ],
   "source": [
    "%timeit Batch(**_TREE_DATA_1)"
   ]
  },
  {
   "cell_type": "markdown",
   "id": "1ab82e2d",
   "metadata": {},
   "source": [
    "## Deep Copy Operation"
   ]
  },
  {
   "cell_type": "code",
   "execution_count": 16,
   "id": "210a9442",
   "metadata": {
    "execution": {
     "iopub.execute_input": "2023-02-24T08:33:15.654435Z",
     "iopub.status.busy": "2023-02-24T08:33:15.653789Z",
     "iopub.status.idle": "2023-02-24T08:33:15.657596Z",
     "shell.execute_reply": "2023-02-24T08:33:15.656936Z"
    }
   },
   "outputs": [],
   "source": [
    "import copy"
   ]
  },
  {
   "cell_type": "markdown",
   "id": "5a736274",
   "metadata": {},
   "source": [
    "### Deep Copy of TreeValue"
   ]
  },
  {
   "cell_type": "code",
   "execution_count": 17,
   "id": "f9bcadd6",
   "metadata": {
    "execution": {
     "iopub.execute_input": "2023-02-24T08:33:15.660234Z",
     "iopub.status.busy": "2023-02-24T08:33:15.659835Z",
     "iopub.status.idle": "2023-02-24T08:33:26.794425Z",
     "shell.execute_reply": "2023-02-24T08:33:26.793768Z"
    }
   },
   "outputs": [
    {
     "name": "stdout",
     "output_type": "stream",
     "text": [
      "137 µs ± 304 ns per loop (mean ± std. dev. of 7 runs, 10,000 loops each)\n"
     ]
    }
   ],
   "source": [
    "t3 = FastTreeValue(_TREE_DATA_3)\n",
    "%timeit copy.deepcopy(t3)"
   ]
  },
  {
   "cell_type": "markdown",
   "id": "bf8be7ea",
   "metadata": {},
   "source": [
    "### Deep Copy of Tianshou Batch"
   ]
  },
  {
   "cell_type": "code",
   "execution_count": 18,
   "id": "91998e6f",
   "metadata": {
    "execution": {
     "iopub.execute_input": "2023-02-24T08:33:26.797489Z",
     "iopub.status.busy": "2023-02-24T08:33:26.796964Z",
     "iopub.status.idle": "2023-02-24T08:33:38.120952Z",
     "shell.execute_reply": "2023-02-24T08:33:38.120379Z"
    }
   },
   "outputs": [
    {
     "name": "stdout",
     "output_type": "stream",
     "text": [
      "140 µs ± 243 ns per loop (mean ± std. dev. of 7 runs, 10,000 loops each)\n"
     ]
    }
   ],
   "source": [
    "b3 = Batch(**_TREE_DATA_3)\n",
    "%timeit copy.deepcopy(b3)"
   ]
  },
  {
   "cell_type": "markdown",
   "id": "223162fb",
   "metadata": {},
   "source": [
    "## Stack, Concat and Split Operation"
   ]
  },
  {
   "cell_type": "markdown",
   "id": "85fa4a73",
   "metadata": {},
   "source": [
    "### Performance of TreeValue"
   ]
  },
  {
   "cell_type": "code",
   "execution_count": 19,
   "id": "a0c2b697",
   "metadata": {
    "execution": {
     "iopub.execute_input": "2023-02-24T08:33:38.124978Z",
     "iopub.status.busy": "2023-02-24T08:33:38.124013Z",
     "iopub.status.idle": "2023-02-24T08:33:38.128353Z",
     "shell.execute_reply": "2023-02-24T08:33:38.127814Z"
    }
   },
   "outputs": [],
   "source": [
    "trees = [FastTreeValue(_TREE_DATA_2) for _ in range(8)]"
   ]
  },
  {
   "cell_type": "code",
   "execution_count": 20,
   "id": "017ea5a5",
   "metadata": {
    "execution": {
     "iopub.execute_input": "2023-02-24T08:33:38.131985Z",
     "iopub.status.busy": "2023-02-24T08:33:38.131089Z",
     "iopub.status.idle": "2023-02-24T08:33:38.140067Z",
     "shell.execute_reply": "2023-02-24T08:33:38.139510Z"
    }
   },
   "outputs": [
    {
     "data": {
      "text/plain": [
       "<FastTreeValue 0x7f4214a71f70>\n",
       "├── 'a' --> tensor([[[ 0.6537,  0.6462, -1.1670],\n",
       "│                    [-0.1494, -0.1912,  0.7418]],\n",
       "│           \n",
       "│                   [[ 0.6537,  0.6462, -1.1670],\n",
       "│                    [-0.1494, -0.1912,  0.7418]],\n",
       "│           \n",
       "│                   [[ 0.6537,  0.6462, -1.1670],\n",
       "│                    [-0.1494, -0.1912,  0.7418]],\n",
       "│           \n",
       "│                   [[ 0.6537,  0.6462, -1.1670],\n",
       "│                    [-0.1494, -0.1912,  0.7418]],\n",
       "│           \n",
       "│                   [[ 0.6537,  0.6462, -1.1670],\n",
       "│                    [-0.1494, -0.1912,  0.7418]],\n",
       "│           \n",
       "│                   [[ 0.6537,  0.6462, -1.1670],\n",
       "│                    [-0.1494, -0.1912,  0.7418]],\n",
       "│           \n",
       "│                   [[ 0.6537,  0.6462, -1.1670],\n",
       "│                    [-0.1494, -0.1912,  0.7418]],\n",
       "│           \n",
       "│                   [[ 0.6537,  0.6462, -1.1670],\n",
       "│                    [-0.1494, -0.1912,  0.7418]]])\n",
       "└── 'x' --> <FastTreeValue 0x7f4214a71fa0>\n",
       "    └── 'c' --> tensor([[[-0.1107,  0.4488,  1.0056, -1.7518],\n",
       "                         [-0.8434,  1.5024, -0.4146,  0.1262],\n",
       "                         [-1.4129,  1.2946, -0.5745, -0.7119]],\n",
       "                \n",
       "                        [[-0.1107,  0.4488,  1.0056, -1.7518],\n",
       "                         [-0.8434,  1.5024, -0.4146,  0.1262],\n",
       "                         [-1.4129,  1.2946, -0.5745, -0.7119]],\n",
       "                \n",
       "                        [[-0.1107,  0.4488,  1.0056, -1.7518],\n",
       "                         [-0.8434,  1.5024, -0.4146,  0.1262],\n",
       "                         [-1.4129,  1.2946, -0.5745, -0.7119]],\n",
       "                \n",
       "                        [[-0.1107,  0.4488,  1.0056, -1.7518],\n",
       "                         [-0.8434,  1.5024, -0.4146,  0.1262],\n",
       "                         [-1.4129,  1.2946, -0.5745, -0.7119]],\n",
       "                \n",
       "                        [[-0.1107,  0.4488,  1.0056, -1.7518],\n",
       "                         [-0.8434,  1.5024, -0.4146,  0.1262],\n",
       "                         [-1.4129,  1.2946, -0.5745, -0.7119]],\n",
       "                \n",
       "                        [[-0.1107,  0.4488,  1.0056, -1.7518],\n",
       "                         [-0.8434,  1.5024, -0.4146,  0.1262],\n",
       "                         [-1.4129,  1.2946, -0.5745, -0.7119]],\n",
       "                \n",
       "                        [[-0.1107,  0.4488,  1.0056, -1.7518],\n",
       "                         [-0.8434,  1.5024, -0.4146,  0.1262],\n",
       "                         [-1.4129,  1.2946, -0.5745, -0.7119]],\n",
       "                \n",
       "                        [[-0.1107,  0.4488,  1.0056, -1.7518],\n",
       "                         [-0.8434,  1.5024, -0.4146,  0.1262],\n",
       "                         [-1.4129,  1.2946, -0.5745, -0.7119]]])"
      ]
     },
     "execution_count": 20,
     "metadata": {},
     "output_type": "execute_result"
    }
   ],
   "source": [
    "t_stack = FastTreeValue.func(subside=True)(torch.stack)\n",
    "\n",
    "t_stack(trees)"
   ]
  },
  {
   "cell_type": "code",
   "execution_count": 21,
   "id": "f8b3f415",
   "metadata": {
    "execution": {
     "iopub.execute_input": "2023-02-24T08:33:38.143707Z",
     "iopub.status.busy": "2023-02-24T08:33:38.142786Z",
     "iopub.status.idle": "2023-02-24T08:33:40.745676Z",
     "shell.execute_reply": "2023-02-24T08:33:40.744871Z"
    }
   },
   "outputs": [
    {
     "name": "stdout",
     "output_type": "stream",
     "text": [
      "32 µs ± 330 ns per loop (mean ± std. dev. of 7 runs, 10,000 loops each)\n"
     ]
    }
   ],
   "source": [
    "%timeit t_stack(trees)"
   ]
  },
  {
   "cell_type": "code",
   "execution_count": 22,
   "id": "94b56771",
   "metadata": {
    "execution": {
     "iopub.execute_input": "2023-02-24T08:33:40.748598Z",
     "iopub.status.busy": "2023-02-24T08:33:40.748210Z",
     "iopub.status.idle": "2023-02-24T08:33:40.756553Z",
     "shell.execute_reply": "2023-02-24T08:33:40.755898Z"
    }
   },
   "outputs": [
    {
     "data": {
      "text/plain": [
       "<FastTreeValue 0x7f42c0da1970>\n",
       "├── 'a' --> tensor([[ 0.6537,  0.6462, -1.1670],\n",
       "│                   [-0.1494, -0.1912,  0.7418],\n",
       "│                   [ 0.6537,  0.6462, -1.1670],\n",
       "│                   [-0.1494, -0.1912,  0.7418],\n",
       "│                   [ 0.6537,  0.6462, -1.1670],\n",
       "│                   [-0.1494, -0.1912,  0.7418],\n",
       "│                   [ 0.6537,  0.6462, -1.1670],\n",
       "│                   [-0.1494, -0.1912,  0.7418],\n",
       "│                   [ 0.6537,  0.6462, -1.1670],\n",
       "│                   [-0.1494, -0.1912,  0.7418],\n",
       "│                   [ 0.6537,  0.6462, -1.1670],\n",
       "│                   [-0.1494, -0.1912,  0.7418],\n",
       "│                   [ 0.6537,  0.6462, -1.1670],\n",
       "│                   [-0.1494, -0.1912,  0.7418],\n",
       "│                   [ 0.6537,  0.6462, -1.1670],\n",
       "│                   [-0.1494, -0.1912,  0.7418]])\n",
       "└── 'x' --> <FastTreeValue 0x7f42c0da15e0>\n",
       "    └── 'c' --> tensor([[-0.1107,  0.4488,  1.0056, -1.7518],\n",
       "                        [-0.8434,  1.5024, -0.4146,  0.1262],\n",
       "                        [-1.4129,  1.2946, -0.5745, -0.7119],\n",
       "                        [-0.1107,  0.4488,  1.0056, -1.7518],\n",
       "                        [-0.8434,  1.5024, -0.4146,  0.1262],\n",
       "                        [-1.4129,  1.2946, -0.5745, -0.7119],\n",
       "                        [-0.1107,  0.4488,  1.0056, -1.7518],\n",
       "                        [-0.8434,  1.5024, -0.4146,  0.1262],\n",
       "                        [-1.4129,  1.2946, -0.5745, -0.7119],\n",
       "                        [-0.1107,  0.4488,  1.0056, -1.7518],\n",
       "                        [-0.8434,  1.5024, -0.4146,  0.1262],\n",
       "                        [-1.4129,  1.2946, -0.5745, -0.7119],\n",
       "                        [-0.1107,  0.4488,  1.0056, -1.7518],\n",
       "                        [-0.8434,  1.5024, -0.4146,  0.1262],\n",
       "                        [-1.4129,  1.2946, -0.5745, -0.7119],\n",
       "                        [-0.1107,  0.4488,  1.0056, -1.7518],\n",
       "                        [-0.8434,  1.5024, -0.4146,  0.1262],\n",
       "                        [-1.4129,  1.2946, -0.5745, -0.7119],\n",
       "                        [-0.1107,  0.4488,  1.0056, -1.7518],\n",
       "                        [-0.8434,  1.5024, -0.4146,  0.1262],\n",
       "                        [-1.4129,  1.2946, -0.5745, -0.7119],\n",
       "                        [-0.1107,  0.4488,  1.0056, -1.7518],\n",
       "                        [-0.8434,  1.5024, -0.4146,  0.1262],\n",
       "                        [-1.4129,  1.2946, -0.5745, -0.7119]])"
      ]
     },
     "execution_count": 22,
     "metadata": {},
     "output_type": "execute_result"
    }
   ],
   "source": [
    "t_cat = FastTreeValue.func(subside=True)(torch.cat)\n",
    "\n",
    "t_cat(trees)"
   ]
  },
  {
   "cell_type": "code",
   "execution_count": 23,
   "id": "5e9c06a6",
   "metadata": {
    "execution": {
     "iopub.execute_input": "2023-02-24T08:33:40.759549Z",
     "iopub.status.busy": "2023-02-24T08:33:40.759153Z",
     "iopub.status.idle": "2023-02-24T08:33:43.195293Z",
     "shell.execute_reply": "2023-02-24T08:33:43.194532Z"
    }
   },
   "outputs": [
    {
     "name": "stdout",
     "output_type": "stream",
     "text": [
      "30 µs ± 36.6 ns per loop (mean ± std. dev. of 7 runs, 10,000 loops each)\n"
     ]
    }
   ],
   "source": [
    "%timeit t_cat(trees)"
   ]
  },
  {
   "cell_type": "code",
   "execution_count": 24,
   "id": "a3ab5c8f",
   "metadata": {
    "execution": {
     "iopub.execute_input": "2023-02-24T08:33:43.198441Z",
     "iopub.status.busy": "2023-02-24T08:33:43.198153Z",
     "iopub.status.idle": "2023-02-24T08:33:48.066219Z",
     "shell.execute_reply": "2023-02-24T08:33:48.065496Z"
    }
   },
   "outputs": [
    {
     "name": "stdout",
     "output_type": "stream",
     "text": [
      "59.9 µs ± 192 ns per loop (mean ± std. dev. of 7 runs, 10,000 loops each)\n"
     ]
    }
   ],
   "source": [
    "t_split = FastTreeValue.func(rise=True)(torch.split)\n",
    "tree = FastTreeValue({\n",
    "    'obs': torch.randn(8, 4, 84, 84),\n",
    "    'action': torch.randint(0, 6, size=(8, 1,)),\n",
    "    'reward': torch.rand(8, 1),\n",
    "})\n",
    "\n",
    "%timeit t_split(tree, 1)"
   ]
  },
  {
   "cell_type": "markdown",
   "id": "31c3ec0b",
   "metadata": {},
   "source": [
    "### Performance of Tianshou Batch"
   ]
  },
  {
   "cell_type": "code",
   "execution_count": 25,
   "id": "9ead828a",
   "metadata": {
    "execution": {
     "iopub.execute_input": "2023-02-24T08:33:48.069673Z",
     "iopub.status.busy": "2023-02-24T08:33:48.069023Z",
     "iopub.status.idle": "2023-02-24T08:33:48.077688Z",
     "shell.execute_reply": "2023-02-24T08:33:48.076983Z"
    }
   },
   "outputs": [
    {
     "data": {
      "text/plain": [
       "Batch(\n",
       "    x: Batch(\n",
       "           c: tensor([[[-0.1107,  0.4488,  1.0056, -1.7518],\n",
       "                       [-0.8434,  1.5024, -0.4146,  0.1262],\n",
       "                       [-1.4129,  1.2946, -0.5745, -0.7119]],\n",
       "              \n",
       "                      [[-0.1107,  0.4488,  1.0056, -1.7518],\n",
       "                       [-0.8434,  1.5024, -0.4146,  0.1262],\n",
       "                       [-1.4129,  1.2946, -0.5745, -0.7119]],\n",
       "              \n",
       "                      [[-0.1107,  0.4488,  1.0056, -1.7518],\n",
       "                       [-0.8434,  1.5024, -0.4146,  0.1262],\n",
       "                       [-1.4129,  1.2946, -0.5745, -0.7119]],\n",
       "              \n",
       "                      [[-0.1107,  0.4488,  1.0056, -1.7518],\n",
       "                       [-0.8434,  1.5024, -0.4146,  0.1262],\n",
       "                       [-1.4129,  1.2946, -0.5745, -0.7119]],\n",
       "              \n",
       "                      [[-0.1107,  0.4488,  1.0056, -1.7518],\n",
       "                       [-0.8434,  1.5024, -0.4146,  0.1262],\n",
       "                       [-1.4129,  1.2946, -0.5745, -0.7119]],\n",
       "              \n",
       "                      [[-0.1107,  0.4488,  1.0056, -1.7518],\n",
       "                       [-0.8434,  1.5024, -0.4146,  0.1262],\n",
       "                       [-1.4129,  1.2946, -0.5745, -0.7119]],\n",
       "              \n",
       "                      [[-0.1107,  0.4488,  1.0056, -1.7518],\n",
       "                       [-0.8434,  1.5024, -0.4146,  0.1262],\n",
       "                       [-1.4129,  1.2946, -0.5745, -0.7119]],\n",
       "              \n",
       "                      [[-0.1107,  0.4488,  1.0056, -1.7518],\n",
       "                       [-0.8434,  1.5024, -0.4146,  0.1262],\n",
       "                       [-1.4129,  1.2946, -0.5745, -0.7119]]]),\n",
       "       ),\n",
       "    a: tensor([[[ 0.6537,  0.6462, -1.1670],\n",
       "                [-0.1494, -0.1912,  0.7418]],\n",
       "       \n",
       "               [[ 0.6537,  0.6462, -1.1670],\n",
       "                [-0.1494, -0.1912,  0.7418]],\n",
       "       \n",
       "               [[ 0.6537,  0.6462, -1.1670],\n",
       "                [-0.1494, -0.1912,  0.7418]],\n",
       "       \n",
       "               [[ 0.6537,  0.6462, -1.1670],\n",
       "                [-0.1494, -0.1912,  0.7418]],\n",
       "       \n",
       "               [[ 0.6537,  0.6462, -1.1670],\n",
       "                [-0.1494, -0.1912,  0.7418]],\n",
       "       \n",
       "               [[ 0.6537,  0.6462, -1.1670],\n",
       "                [-0.1494, -0.1912,  0.7418]],\n",
       "       \n",
       "               [[ 0.6537,  0.6462, -1.1670],\n",
       "                [-0.1494, -0.1912,  0.7418]],\n",
       "       \n",
       "               [[ 0.6537,  0.6462, -1.1670],\n",
       "                [-0.1494, -0.1912,  0.7418]]]),\n",
       ")"
      ]
     },
     "execution_count": 25,
     "metadata": {},
     "output_type": "execute_result"
    }
   ],
   "source": [
    "batches = [Batch(**_TREE_DATA_2) for _ in range(8)]\n",
    "\n",
    "Batch.stack(batches)"
   ]
  },
  {
   "cell_type": "code",
   "execution_count": 26,
   "id": "ec9037a3",
   "metadata": {
    "execution": {
     "iopub.execute_input": "2023-02-24T08:33:48.081099Z",
     "iopub.status.busy": "2023-02-24T08:33:48.080345Z",
     "iopub.status.idle": "2023-02-24T08:33:54.358328Z",
     "shell.execute_reply": "2023-02-24T08:33:54.357520Z"
    }
   },
   "outputs": [
    {
     "name": "stdout",
     "output_type": "stream",
     "text": [
      "77.3 µs ± 49 ns per loop (mean ± std. dev. of 7 runs, 10,000 loops each)\n"
     ]
    }
   ],
   "source": [
    "%timeit Batch.stack(batches)"
   ]
  },
  {
   "cell_type": "code",
   "execution_count": 27,
   "id": "cb8ab77e",
   "metadata": {
    "execution": {
     "iopub.execute_input": "2023-02-24T08:33:54.361210Z",
     "iopub.status.busy": "2023-02-24T08:33:54.360786Z",
     "iopub.status.idle": "2023-02-24T08:33:54.368000Z",
     "shell.execute_reply": "2023-02-24T08:33:54.367313Z"
    }
   },
   "outputs": [
    {
     "data": {
      "text/plain": [
       "Batch(\n",
       "    x: Batch(\n",
       "           c: tensor([[-0.1107,  0.4488,  1.0056, -1.7518],\n",
       "                      [-0.8434,  1.5024, -0.4146,  0.1262],\n",
       "                      [-1.4129,  1.2946, -0.5745, -0.7119],\n",
       "                      [-0.1107,  0.4488,  1.0056, -1.7518],\n",
       "                      [-0.8434,  1.5024, -0.4146,  0.1262],\n",
       "                      [-1.4129,  1.2946, -0.5745, -0.7119],\n",
       "                      [-0.1107,  0.4488,  1.0056, -1.7518],\n",
       "                      [-0.8434,  1.5024, -0.4146,  0.1262],\n",
       "                      [-1.4129,  1.2946, -0.5745, -0.7119],\n",
       "                      [-0.1107,  0.4488,  1.0056, -1.7518],\n",
       "                      [-0.8434,  1.5024, -0.4146,  0.1262],\n",
       "                      [-1.4129,  1.2946, -0.5745, -0.7119],\n",
       "                      [-0.1107,  0.4488,  1.0056, -1.7518],\n",
       "                      [-0.8434,  1.5024, -0.4146,  0.1262],\n",
       "                      [-1.4129,  1.2946, -0.5745, -0.7119],\n",
       "                      [-0.1107,  0.4488,  1.0056, -1.7518],\n",
       "                      [-0.8434,  1.5024, -0.4146,  0.1262],\n",
       "                      [-1.4129,  1.2946, -0.5745, -0.7119],\n",
       "                      [-0.1107,  0.4488,  1.0056, -1.7518],\n",
       "                      [-0.8434,  1.5024, -0.4146,  0.1262],\n",
       "                      [-1.4129,  1.2946, -0.5745, -0.7119],\n",
       "                      [-0.1107,  0.4488,  1.0056, -1.7518],\n",
       "                      [-0.8434,  1.5024, -0.4146,  0.1262],\n",
       "                      [-1.4129,  1.2946, -0.5745, -0.7119]]),\n",
       "       ),\n",
       "    a: tensor([[ 0.6537,  0.6462, -1.1670],\n",
       "               [-0.1494, -0.1912,  0.7418],\n",
       "               [ 0.6537,  0.6462, -1.1670],\n",
       "               [-0.1494, -0.1912,  0.7418],\n",
       "               [ 0.6537,  0.6462, -1.1670],\n",
       "               [-0.1494, -0.1912,  0.7418],\n",
       "               [ 0.6537,  0.6462, -1.1670],\n",
       "               [-0.1494, -0.1912,  0.7418],\n",
       "               [ 0.6537,  0.6462, -1.1670],\n",
       "               [-0.1494, -0.1912,  0.7418],\n",
       "               [ 0.6537,  0.6462, -1.1670],\n",
       "               [-0.1494, -0.1912,  0.7418],\n",
       "               [ 0.6537,  0.6462, -1.1670],\n",
       "               [-0.1494, -0.1912,  0.7418],\n",
       "               [ 0.6537,  0.6462, -1.1670],\n",
       "               [-0.1494, -0.1912,  0.7418]]),\n",
       ")"
      ]
     },
     "execution_count": 27,
     "metadata": {},
     "output_type": "execute_result"
    }
   ],
   "source": [
    "Batch.cat(batches)"
   ]
  },
  {
   "cell_type": "code",
   "execution_count": 28,
   "id": "18dfb045",
   "metadata": {
    "execution": {
     "iopub.execute_input": "2023-02-24T08:33:54.370589Z",
     "iopub.status.busy": "2023-02-24T08:33:54.370198Z",
     "iopub.status.idle": "2023-02-24T08:34:05.979381Z",
     "shell.execute_reply": "2023-02-24T08:34:05.978565Z"
    }
   },
   "outputs": [
    {
     "name": "stdout",
     "output_type": "stream",
     "text": [
      "143 µs ± 354 ns per loop (mean ± std. dev. of 7 runs, 10,000 loops each)\n"
     ]
    }
   ],
   "source": [
    "%timeit Batch.cat(batches)"
   ]
  },
  {
   "cell_type": "code",
   "execution_count": 29,
   "id": "c6688e51",
   "metadata": {
    "execution": {
     "iopub.execute_input": "2023-02-24T08:34:05.982480Z",
     "iopub.status.busy": "2023-02-24T08:34:05.981954Z",
     "iopub.status.idle": "2023-02-24T08:34:08.460019Z",
     "shell.execute_reply": "2023-02-24T08:34:08.459406Z"
    }
   },
   "outputs": [
    {
     "name": "stdout",
     "output_type": "stream",
     "text": [
      "304 µs ± 3.23 µs per loop (mean ± std. dev. of 7 runs, 1,000 loops each)\n"
     ]
    }
   ],
   "source": [
    "batch = Batch({\n",
    "    'obs': torch.randn(8, 4, 84, 84),\n",
    "    'action': torch.randint(0, 6, size=(8, 1,)),\n",
    "    'reward': torch.rand(8, 1)}\n",
    ")\n",
    "\n",
    "%timeit list(Batch.split(batch, 1, shuffle=False, merge_last=True))"
   ]
  },
  {
   "cell_type": "code",
   "execution_count": null,
   "id": "2539fbd9",
   "metadata": {},
   "outputs": [],
   "source": []
  }
 ],
 "metadata": {
  "kernelspec": {
   "display_name": "Python 3 (ipykernel)",
   "language": "python",
   "name": "python3"
  },
  "language_info": {
   "codemirror_mode": {
    "name": "ipython",
    "version": 3
   },
   "file_extension": ".py",
   "mimetype": "text/x-python",
   "name": "python",
   "nbconvert_exporter": "python",
   "pygments_lexer": "ipython3",
   "version": "3.8.16"
  }
 },
 "nbformat": 4,
 "nbformat_minor": 5
}
