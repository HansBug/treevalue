{
 "cells": [
  {
   "cell_type": "markdown",
   "id": "9d39d946",
   "metadata": {},
   "source": [
    "# Comparison Between TreeValue and Tianshou Batch"
   ]
  },
  {
   "cell_type": "markdown",
   "id": "3c6db2d4",
   "metadata": {},
   "source": [
    "In this section, we will take a look at the feature and performance of the [Tianshou Batch](https://github.com/thu-ml/tianshou) library, which is developed by Tsinghua Machine Learning Group."
   ]
  },
  {
   "cell_type": "markdown",
   "id": "069361b0",
   "metadata": {},
   "source": [
    "Before starting the comparison, let us define some thing."
   ]
  },
  {
   "cell_type": "code",
   "execution_count": 1,
   "id": "06fc8d26",
   "metadata": {
    "execution": {
     "iopub.execute_input": "2023-02-26T15:44:14.484867Z",
     "iopub.status.busy": "2023-02-26T15:44:14.483948Z",
     "iopub.status.idle": "2023-02-26T15:44:15.681316Z",
     "shell.execute_reply": "2023-02-26T15:44:15.680260Z"
    }
   },
   "outputs": [
    {
     "name": "stderr",
     "output_type": "stream",
     "text": [
      "/opt/hostedtoolcache/Python/3.8.16/x64/lib/python3.8/site-packages/tqdm/auto.py:22: TqdmWarning: IProgress not found. Please update jupyter and ipywidgets. See https://ipywidgets.readthedocs.io/en/stable/user_install.html\n",
      "  from .autonotebook import tqdm as notebook_tqdm\n"
     ]
    }
   ],
   "source": [
    "import torch \n",
    "\n",
    "_TREE_DATA_1 = {'a': 1, 'b': 2, 'x': {'c': 3, 'd': 4}}\n",
    "_TREE_DATA_2 = {\n",
    "    'a': torch.randn(2, 3), \n",
    "    'x': {\n",
    "        'c': torch.randn(3, 4)\n",
    "    },\n",
    "}\n",
    "_TREE_DATA_3 = {\n",
    "    'obs': torch.randn(4, 84, 84),\n",
    "    'action': torch.randint(0, 6, size=(1,)),\n",
    "    'reward': torch.rand(1),\n",
    "}"
   ]
  },
  {
   "cell_type": "markdown",
   "id": "83461b25",
   "metadata": {},
   "source": [
    "## Read and Write Operation"
   ]
  },
  {
   "cell_type": "markdown",
   "id": "067b3f73",
   "metadata": {},
   "source": [
    "Reading and writing are the two most common operations in the tree data structure based on the data model (TreeValue and Tianshou Batch both belong to this type), so this section will compare the reading and writing performance of these two libraries."
   ]
  },
  {
   "cell_type": "markdown",
   "id": "5d09a5b7",
   "metadata": {},
   "source": [
    "### TreeValue's Get and Set"
   ]
  },
  {
   "cell_type": "code",
   "execution_count": 2,
   "id": "9519c4bb",
   "metadata": {
    "execution": {
     "iopub.execute_input": "2023-02-26T15:44:15.685849Z",
     "iopub.status.busy": "2023-02-26T15:44:15.685502Z",
     "iopub.status.idle": "2023-02-26T15:44:16.078723Z",
     "shell.execute_reply": "2023-02-26T15:44:16.077552Z"
    }
   },
   "outputs": [],
   "source": [
    "from treevalue import FastTreeValue\n",
    "\n",
    "t = FastTreeValue(_TREE_DATA_2)"
   ]
  },
  {
   "cell_type": "code",
   "execution_count": 3,
   "id": "11c37677",
   "metadata": {
    "execution": {
     "iopub.execute_input": "2023-02-26T15:44:16.082670Z",
     "iopub.status.busy": "2023-02-26T15:44:16.082307Z",
     "iopub.status.idle": "2023-02-26T15:44:16.095629Z",
     "shell.execute_reply": "2023-02-26T15:44:16.094638Z"
    }
   },
   "outputs": [
    {
     "data": {
      "text/plain": [
       "<FastTreeValue 0x7f6decc98c70>\n",
       "├── 'a' --> tensor([[-1.5502, -0.5344,  1.0017],\n",
       "│                   [ 0.3730, -0.5865,  0.5163]])\n",
       "└── 'x' --> <FastTreeValue 0x7f6decc98c40>\n",
       "    └── 'c' --> tensor([[-0.5064,  1.3113,  0.7474, -1.5178],\n",
       "                        [ 0.3662,  0.6748, -0.8927,  0.9459],\n",
       "                        [ 0.6007, -1.6776,  1.7443,  0.0511]])"
      ]
     },
     "execution_count": 3,
     "metadata": {},
     "output_type": "execute_result"
    }
   ],
   "source": [
    "t"
   ]
  },
  {
   "cell_type": "code",
   "execution_count": 4,
   "id": "fd70b0b9",
   "metadata": {
    "execution": {
     "iopub.execute_input": "2023-02-26T15:44:16.100154Z",
     "iopub.status.busy": "2023-02-26T15:44:16.099732Z",
     "iopub.status.idle": "2023-02-26T15:44:16.107343Z",
     "shell.execute_reply": "2023-02-26T15:44:16.106443Z"
    }
   },
   "outputs": [
    {
     "data": {
      "text/plain": [
       "tensor([[-1.5502, -0.5344,  1.0017],\n",
       "        [ 0.3730, -0.5865,  0.5163]])"
      ]
     },
     "execution_count": 4,
     "metadata": {},
     "output_type": "execute_result"
    }
   ],
   "source": [
    "t.a"
   ]
  },
  {
   "cell_type": "code",
   "execution_count": 5,
   "id": "c18197bd",
   "metadata": {
    "execution": {
     "iopub.execute_input": "2023-02-26T15:44:16.110578Z",
     "iopub.status.busy": "2023-02-26T15:44:16.110298Z",
     "iopub.status.idle": "2023-02-26T15:44:22.556900Z",
     "shell.execute_reply": "2023-02-26T15:44:22.555879Z"
    }
   },
   "outputs": [
    {
     "name": "stdout",
     "output_type": "stream",
     "text": [
      "80 ns ± 0.591 ns per loop (mean ± std. dev. of 7 runs, 10,000,000 loops each)\n"
     ]
    }
   ],
   "source": [
    "%timeit t.a"
   ]
  },
  {
   "cell_type": "code",
   "execution_count": 6,
   "id": "bd52f867",
   "metadata": {
    "execution": {
     "iopub.execute_input": "2023-02-26T15:44:22.560435Z",
     "iopub.status.busy": "2023-02-26T15:44:22.559964Z",
     "iopub.status.idle": "2023-02-26T15:44:22.569227Z",
     "shell.execute_reply": "2023-02-26T15:44:22.568240Z"
    }
   },
   "outputs": [
    {
     "data": {
      "text/plain": [
       "<FastTreeValue 0x7f6decc98c70>\n",
       "├── 'a' --> tensor([[ 1.6545,  0.4938, -0.5527],\n",
       "│                   [ 0.6884, -1.1699, -0.3904]])\n",
       "└── 'x' --> <FastTreeValue 0x7f6decc98c40>\n",
       "    └── 'c' --> tensor([[-0.5064,  1.3113,  0.7474, -1.5178],\n",
       "                        [ 0.3662,  0.6748, -0.8927,  0.9459],\n",
       "                        [ 0.6007, -1.6776,  1.7443,  0.0511]])"
      ]
     },
     "execution_count": 6,
     "metadata": {},
     "output_type": "execute_result"
    }
   ],
   "source": [
    "new_value = torch.randn(2, 3)\n",
    "t.a = new_value\n",
    "\n",
    "t"
   ]
  },
  {
   "cell_type": "code",
   "execution_count": 7,
   "id": "bbe04d1c",
   "metadata": {
    "execution": {
     "iopub.execute_input": "2023-02-26T15:44:22.572971Z",
     "iopub.status.busy": "2023-02-26T15:44:22.572659Z",
     "iopub.status.idle": "2023-02-26T15:44:30.193668Z",
     "shell.execute_reply": "2023-02-26T15:44:30.192625Z"
    }
   },
   "outputs": [
    {
     "name": "stdout",
     "output_type": "stream",
     "text": [
      "94.1 ns ± 0.833 ns per loop (mean ± std. dev. of 7 runs, 10,000,000 loops each)\n"
     ]
    }
   ],
   "source": [
    "%timeit t.a = new_value"
   ]
  },
  {
   "cell_type": "markdown",
   "id": "48c49731",
   "metadata": {},
   "source": [
    "### Tianshou Batch's Get and Set"
   ]
  },
  {
   "cell_type": "code",
   "execution_count": 8,
   "id": "f1bb14c1",
   "metadata": {
    "execution": {
     "iopub.execute_input": "2023-02-26T15:44:30.197972Z",
     "iopub.status.busy": "2023-02-26T15:44:30.197278Z",
     "iopub.status.idle": "2023-02-26T15:44:30.656923Z",
     "shell.execute_reply": "2023-02-26T15:44:30.655914Z"
    }
   },
   "outputs": [],
   "source": [
    "from tianshou.data import Batch\n",
    "\n",
    "b = Batch(**_TREE_DATA_2)"
   ]
  },
  {
   "cell_type": "code",
   "execution_count": 9,
   "id": "cb0777c3",
   "metadata": {
    "execution": {
     "iopub.execute_input": "2023-02-26T15:44:30.661069Z",
     "iopub.status.busy": "2023-02-26T15:44:30.660342Z",
     "iopub.status.idle": "2023-02-26T15:44:30.668462Z",
     "shell.execute_reply": "2023-02-26T15:44:30.667532Z"
    }
   },
   "outputs": [
    {
     "data": {
      "text/plain": [
       "Batch(\n",
       "    a: tensor([[-1.5502, -0.5344,  1.0017],\n",
       "               [ 0.3730, -0.5865,  0.5163]]),\n",
       "    x: Batch(\n",
       "           c: tensor([[-0.5064,  1.3113,  0.7474, -1.5178],\n",
       "                      [ 0.3662,  0.6748, -0.8927,  0.9459],\n",
       "                      [ 0.6007, -1.6776,  1.7443,  0.0511]]),\n",
       "       ),\n",
       ")"
      ]
     },
     "execution_count": 9,
     "metadata": {},
     "output_type": "execute_result"
    }
   ],
   "source": [
    "b"
   ]
  },
  {
   "cell_type": "code",
   "execution_count": 10,
   "id": "43ef8ea3",
   "metadata": {
    "execution": {
     "iopub.execute_input": "2023-02-26T15:44:30.671573Z",
     "iopub.status.busy": "2023-02-26T15:44:30.671288Z",
     "iopub.status.idle": "2023-02-26T15:44:30.677937Z",
     "shell.execute_reply": "2023-02-26T15:44:30.677042Z"
    }
   },
   "outputs": [
    {
     "data": {
      "text/plain": [
       "tensor([[-1.5502, -0.5344,  1.0017],\n",
       "        [ 0.3730, -0.5865,  0.5163]])"
      ]
     },
     "execution_count": 10,
     "metadata": {},
     "output_type": "execute_result"
    }
   ],
   "source": [
    "b.a"
   ]
  },
  {
   "cell_type": "code",
   "execution_count": 11,
   "id": "b785ab72",
   "metadata": {
    "execution": {
     "iopub.execute_input": "2023-02-26T15:44:30.681293Z",
     "iopub.status.busy": "2023-02-26T15:44:30.680786Z",
     "iopub.status.idle": "2023-02-26T15:44:36.675484Z",
     "shell.execute_reply": "2023-02-26T15:44:36.674472Z"
    }
   },
   "outputs": [
    {
     "name": "stdout",
     "output_type": "stream",
     "text": [
      "73.9 ns ± 0.804 ns per loop (mean ± std. dev. of 7 runs, 10,000,000 loops each)\n"
     ]
    }
   ],
   "source": [
    "%timeit b.a"
   ]
  },
  {
   "cell_type": "code",
   "execution_count": 12,
   "id": "ad54dc69",
   "metadata": {
    "execution": {
     "iopub.execute_input": "2023-02-26T15:44:36.678926Z",
     "iopub.status.busy": "2023-02-26T15:44:36.678582Z",
     "iopub.status.idle": "2023-02-26T15:44:36.686095Z",
     "shell.execute_reply": "2023-02-26T15:44:36.685212Z"
    }
   },
   "outputs": [
    {
     "data": {
      "text/plain": [
       "Batch(\n",
       "    a: tensor([[ 0.7552, -1.4359, -1.9564],\n",
       "               [-1.3188,  0.7415, -0.0029]]),\n",
       "    x: Batch(\n",
       "           c: tensor([[-0.5064,  1.3113,  0.7474, -1.5178],\n",
       "                      [ 0.3662,  0.6748, -0.8927,  0.9459],\n",
       "                      [ 0.6007, -1.6776,  1.7443,  0.0511]]),\n",
       "       ),\n",
       ")"
      ]
     },
     "execution_count": 12,
     "metadata": {},
     "output_type": "execute_result"
    }
   ],
   "source": [
    "new_value = torch.randn(2, 3)\n",
    "b.a = new_value\n",
    "\n",
    "b"
   ]
  },
  {
   "cell_type": "code",
   "execution_count": 13,
   "id": "29b1d0bf",
   "metadata": {
    "execution": {
     "iopub.execute_input": "2023-02-26T15:44:36.689439Z",
     "iopub.status.busy": "2023-02-26T15:44:36.688911Z",
     "iopub.status.idle": "2023-02-26T15:44:42.029557Z",
     "shell.execute_reply": "2023-02-26T15:44:42.028549Z"
    }
   },
   "outputs": [
    {
     "name": "stdout",
     "output_type": "stream",
     "text": [
      "660 ns ± 4.81 ns per loop (mean ± std. dev. of 7 runs, 1,000,000 loops each)\n"
     ]
    }
   ],
   "source": [
    "%timeit b.a = new_value"
   ]
  },
  {
   "cell_type": "markdown",
   "id": "b61ad1d0",
   "metadata": {},
   "source": [
    "## Initialization"
   ]
  },
  {
   "cell_type": "markdown",
   "id": "d70f0d54",
   "metadata": {},
   "source": [
    "### TreeValue's Initialization"
   ]
  },
  {
   "cell_type": "code",
   "execution_count": 14,
   "id": "d32a679b",
   "metadata": {
    "execution": {
     "iopub.execute_input": "2023-02-26T15:44:42.033856Z",
     "iopub.status.busy": "2023-02-26T15:44:42.032891Z",
     "iopub.status.idle": "2023-02-26T15:44:50.722404Z",
     "shell.execute_reply": "2023-02-26T15:44:50.721400Z"
    }
   },
   "outputs": [
    {
     "name": "stdout",
     "output_type": "stream",
     "text": [
      "1.08 µs ± 19.4 ns per loop (mean ± std. dev. of 7 runs, 1,000,000 loops each)\n"
     ]
    }
   ],
   "source": [
    "%timeit FastTreeValue(_TREE_DATA_1)"
   ]
  },
  {
   "cell_type": "markdown",
   "id": "24f3707b",
   "metadata": {},
   "source": [
    "### Tianshou Batch's Initialization"
   ]
  },
  {
   "cell_type": "code",
   "execution_count": 15,
   "id": "ac3958df",
   "metadata": {
    "execution": {
     "iopub.execute_input": "2023-02-26T15:44:50.727111Z",
     "iopub.status.busy": "2023-02-26T15:44:50.726562Z",
     "iopub.status.idle": "2023-02-26T15:45:02.162158Z",
     "shell.execute_reply": "2023-02-26T15:45:02.161057Z"
    }
   },
   "outputs": [
    {
     "name": "stdout",
     "output_type": "stream",
     "text": [
      "14.1 µs ± 307 ns per loop (mean ± std. dev. of 7 runs, 100,000 loops each)\n"
     ]
    }
   ],
   "source": [
    "%timeit Batch(**_TREE_DATA_1)"
   ]
  },
  {
   "cell_type": "markdown",
   "id": "1ab82e2d",
   "metadata": {},
   "source": [
    "## Deep Copy Operation"
   ]
  },
  {
   "cell_type": "code",
   "execution_count": 16,
   "id": "210a9442",
   "metadata": {
    "execution": {
     "iopub.execute_input": "2023-02-26T15:45:02.166102Z",
     "iopub.status.busy": "2023-02-26T15:45:02.165608Z",
     "iopub.status.idle": "2023-02-26T15:45:02.171217Z",
     "shell.execute_reply": "2023-02-26T15:45:02.170258Z"
    }
   },
   "outputs": [],
   "source": [
    "import copy"
   ]
  },
  {
   "cell_type": "markdown",
   "id": "5a736274",
   "metadata": {},
   "source": [
    "### Deep Copy of TreeValue"
   ]
  },
  {
   "cell_type": "code",
   "execution_count": 17,
   "id": "f9bcadd6",
   "metadata": {
    "execution": {
     "iopub.execute_input": "2023-02-26T15:45:02.174416Z",
     "iopub.status.busy": "2023-02-26T15:45:02.174139Z",
     "iopub.status.idle": "2023-02-26T15:45:04.624074Z",
     "shell.execute_reply": "2023-02-26T15:45:04.623125Z"
    }
   },
   "outputs": [
    {
     "name": "stdout",
     "output_type": "stream",
     "text": [
      "304 µs ± 29.9 µs per loop (mean ± std. dev. of 7 runs, 1,000 loops each)\n"
     ]
    }
   ],
   "source": [
    "t3 = FastTreeValue(_TREE_DATA_3)\n",
    "%timeit copy.deepcopy(t3)"
   ]
  },
  {
   "cell_type": "markdown",
   "id": "bf8be7ea",
   "metadata": {},
   "source": [
    "### Deep Copy of Tianshou Batch"
   ]
  },
  {
   "cell_type": "code",
   "execution_count": 18,
   "id": "91998e6f",
   "metadata": {
    "execution": {
     "iopub.execute_input": "2023-02-26T15:45:04.627506Z",
     "iopub.status.busy": "2023-02-26T15:45:04.627220Z",
     "iopub.status.idle": "2023-02-26T15:45:06.761179Z",
     "shell.execute_reply": "2023-02-26T15:45:06.760217Z"
    }
   },
   "outputs": [
    {
     "name": "stdout",
     "output_type": "stream",
     "text": [
      "262 µs ± 9.64 µs per loop (mean ± std. dev. of 7 runs, 1,000 loops each)\n"
     ]
    }
   ],
   "source": [
    "b3 = Batch(**_TREE_DATA_3)\n",
    "%timeit copy.deepcopy(b3)"
   ]
  },
  {
   "cell_type": "markdown",
   "id": "223162fb",
   "metadata": {},
   "source": [
    "## Stack, Concat and Split Operation"
   ]
  },
  {
   "cell_type": "markdown",
   "id": "85fa4a73",
   "metadata": {},
   "source": [
    "### Performance of TreeValue"
   ]
  },
  {
   "cell_type": "code",
   "execution_count": 19,
   "id": "a0c2b697",
   "metadata": {
    "execution": {
     "iopub.execute_input": "2023-02-26T15:45:06.765392Z",
     "iopub.status.busy": "2023-02-26T15:45:06.764956Z",
     "iopub.status.idle": "2023-02-26T15:45:06.770689Z",
     "shell.execute_reply": "2023-02-26T15:45:06.769585Z"
    }
   },
   "outputs": [],
   "source": [
    "trees = [FastTreeValue(_TREE_DATA_2) for _ in range(8)]"
   ]
  },
  {
   "cell_type": "code",
   "execution_count": 20,
   "id": "017ea5a5",
   "metadata": {
    "execution": {
     "iopub.execute_input": "2023-02-26T15:45:06.774339Z",
     "iopub.status.busy": "2023-02-26T15:45:06.773848Z",
     "iopub.status.idle": "2023-02-26T15:45:06.784519Z",
     "shell.execute_reply": "2023-02-26T15:45:06.783575Z"
    }
   },
   "outputs": [
    {
     "data": {
      "text/plain": [
       "<FastTreeValue 0x7f6decc98850>\n",
       "├── 'a' --> tensor([[[-1.5502, -0.5344,  1.0017],\n",
       "│                    [ 0.3730, -0.5865,  0.5163]],\n",
       "│           \n",
       "│                   [[-1.5502, -0.5344,  1.0017],\n",
       "│                    [ 0.3730, -0.5865,  0.5163]],\n",
       "│           \n",
       "│                   [[-1.5502, -0.5344,  1.0017],\n",
       "│                    [ 0.3730, -0.5865,  0.5163]],\n",
       "│           \n",
       "│                   [[-1.5502, -0.5344,  1.0017],\n",
       "│                    [ 0.3730, -0.5865,  0.5163]],\n",
       "│           \n",
       "│                   [[-1.5502, -0.5344,  1.0017],\n",
       "│                    [ 0.3730, -0.5865,  0.5163]],\n",
       "│           \n",
       "│                   [[-1.5502, -0.5344,  1.0017],\n",
       "│                    [ 0.3730, -0.5865,  0.5163]],\n",
       "│           \n",
       "│                   [[-1.5502, -0.5344,  1.0017],\n",
       "│                    [ 0.3730, -0.5865,  0.5163]],\n",
       "│           \n",
       "│                   [[-1.5502, -0.5344,  1.0017],\n",
       "│                    [ 0.3730, -0.5865,  0.5163]]])\n",
       "└── 'x' --> <FastTreeValue 0x7f6d37fb4eb0>\n",
       "    └── 'c' --> tensor([[[-0.5064,  1.3113,  0.7474, -1.5178],\n",
       "                         [ 0.3662,  0.6748, -0.8927,  0.9459],\n",
       "                         [ 0.6007, -1.6776,  1.7443,  0.0511]],\n",
       "                \n",
       "                        [[-0.5064,  1.3113,  0.7474, -1.5178],\n",
       "                         [ 0.3662,  0.6748, -0.8927,  0.9459],\n",
       "                         [ 0.6007, -1.6776,  1.7443,  0.0511]],\n",
       "                \n",
       "                        [[-0.5064,  1.3113,  0.7474, -1.5178],\n",
       "                         [ 0.3662,  0.6748, -0.8927,  0.9459],\n",
       "                         [ 0.6007, -1.6776,  1.7443,  0.0511]],\n",
       "                \n",
       "                        [[-0.5064,  1.3113,  0.7474, -1.5178],\n",
       "                         [ 0.3662,  0.6748, -0.8927,  0.9459],\n",
       "                         [ 0.6007, -1.6776,  1.7443,  0.0511]],\n",
       "                \n",
       "                        [[-0.5064,  1.3113,  0.7474, -1.5178],\n",
       "                         [ 0.3662,  0.6748, -0.8927,  0.9459],\n",
       "                         [ 0.6007, -1.6776,  1.7443,  0.0511]],\n",
       "                \n",
       "                        [[-0.5064,  1.3113,  0.7474, -1.5178],\n",
       "                         [ 0.3662,  0.6748, -0.8927,  0.9459],\n",
       "                         [ 0.6007, -1.6776,  1.7443,  0.0511]],\n",
       "                \n",
       "                        [[-0.5064,  1.3113,  0.7474, -1.5178],\n",
       "                         [ 0.3662,  0.6748, -0.8927,  0.9459],\n",
       "                         [ 0.6007, -1.6776,  1.7443,  0.0511]],\n",
       "                \n",
       "                        [[-0.5064,  1.3113,  0.7474, -1.5178],\n",
       "                         [ 0.3662,  0.6748, -0.8927,  0.9459],\n",
       "                         [ 0.6007, -1.6776,  1.7443,  0.0511]]])"
      ]
     },
     "execution_count": 20,
     "metadata": {},
     "output_type": "execute_result"
    }
   ],
   "source": [
    "t_stack = FastTreeValue.func(subside=True)(torch.stack)\n",
    "\n",
    "t_stack(trees)"
   ]
  },
  {
   "cell_type": "code",
   "execution_count": 21,
   "id": "f8b3f415",
   "metadata": {
    "execution": {
     "iopub.execute_input": "2023-02-26T15:45:06.788144Z",
     "iopub.status.busy": "2023-02-26T15:45:06.787633Z",
     "iopub.status.idle": "2023-02-26T15:45:10.660313Z",
     "shell.execute_reply": "2023-02-26T15:45:10.659337Z"
    }
   },
   "outputs": [
    {
     "name": "stdout",
     "output_type": "stream",
     "text": [
      "47.4 µs ± 839 ns per loop (mean ± std. dev. of 7 runs, 10,000 loops each)\n"
     ]
    }
   ],
   "source": [
    "%timeit t_stack(trees)"
   ]
  },
  {
   "cell_type": "code",
   "execution_count": 22,
   "id": "94b56771",
   "metadata": {
    "execution": {
     "iopub.execute_input": "2023-02-26T15:45:10.663705Z",
     "iopub.status.busy": "2023-02-26T15:45:10.663399Z",
     "iopub.status.idle": "2023-02-26T15:45:10.673911Z",
     "shell.execute_reply": "2023-02-26T15:45:10.672951Z"
    }
   },
   "outputs": [
    {
     "data": {
      "text/plain": [
       "<FastTreeValue 0x7f6dc41c1fa0>\n",
       "├── 'a' --> tensor([[-1.5502, -0.5344,  1.0017],\n",
       "│                   [ 0.3730, -0.5865,  0.5163],\n",
       "│                   [-1.5502, -0.5344,  1.0017],\n",
       "│                   [ 0.3730, -0.5865,  0.5163],\n",
       "│                   [-1.5502, -0.5344,  1.0017],\n",
       "│                   [ 0.3730, -0.5865,  0.5163],\n",
       "│                   [-1.5502, -0.5344,  1.0017],\n",
       "│                   [ 0.3730, -0.5865,  0.5163],\n",
       "│                   [-1.5502, -0.5344,  1.0017],\n",
       "│                   [ 0.3730, -0.5865,  0.5163],\n",
       "│                   [-1.5502, -0.5344,  1.0017],\n",
       "│                   [ 0.3730, -0.5865,  0.5163],\n",
       "│                   [-1.5502, -0.5344,  1.0017],\n",
       "│                   [ 0.3730, -0.5865,  0.5163],\n",
       "│                   [-1.5502, -0.5344,  1.0017],\n",
       "│                   [ 0.3730, -0.5865,  0.5163]])\n",
       "└── 'x' --> <FastTreeValue 0x7f6decc92220>\n",
       "    └── 'c' --> tensor([[-0.5064,  1.3113,  0.7474, -1.5178],\n",
       "                        [ 0.3662,  0.6748, -0.8927,  0.9459],\n",
       "                        [ 0.6007, -1.6776,  1.7443,  0.0511],\n",
       "                        [-0.5064,  1.3113,  0.7474, -1.5178],\n",
       "                        [ 0.3662,  0.6748, -0.8927,  0.9459],\n",
       "                        [ 0.6007, -1.6776,  1.7443,  0.0511],\n",
       "                        [-0.5064,  1.3113,  0.7474, -1.5178],\n",
       "                        [ 0.3662,  0.6748, -0.8927,  0.9459],\n",
       "                        [ 0.6007, -1.6776,  1.7443,  0.0511],\n",
       "                        [-0.5064,  1.3113,  0.7474, -1.5178],\n",
       "                        [ 0.3662,  0.6748, -0.8927,  0.9459],\n",
       "                        [ 0.6007, -1.6776,  1.7443,  0.0511],\n",
       "                        [-0.5064,  1.3113,  0.7474, -1.5178],\n",
       "                        [ 0.3662,  0.6748, -0.8927,  0.9459],\n",
       "                        [ 0.6007, -1.6776,  1.7443,  0.0511],\n",
       "                        [-0.5064,  1.3113,  0.7474, -1.5178],\n",
       "                        [ 0.3662,  0.6748, -0.8927,  0.9459],\n",
       "                        [ 0.6007, -1.6776,  1.7443,  0.0511],\n",
       "                        [-0.5064,  1.3113,  0.7474, -1.5178],\n",
       "                        [ 0.3662,  0.6748, -0.8927,  0.9459],\n",
       "                        [ 0.6007, -1.6776,  1.7443,  0.0511],\n",
       "                        [-0.5064,  1.3113,  0.7474, -1.5178],\n",
       "                        [ 0.3662,  0.6748, -0.8927,  0.9459],\n",
       "                        [ 0.6007, -1.6776,  1.7443,  0.0511]])"
      ]
     },
     "execution_count": 22,
     "metadata": {},
     "output_type": "execute_result"
    }
   ],
   "source": [
    "t_cat = FastTreeValue.func(subside=True)(torch.cat)\n",
    "\n",
    "t_cat(trees)"
   ]
  },
  {
   "cell_type": "code",
   "execution_count": 23,
   "id": "5e9c06a6",
   "metadata": {
    "execution": {
     "iopub.execute_input": "2023-02-26T15:45:10.677332Z",
     "iopub.status.busy": "2023-02-26T15:45:10.677039Z",
     "iopub.status.idle": "2023-02-26T15:45:14.337454Z",
     "shell.execute_reply": "2023-02-26T15:45:14.336364Z"
    }
   },
   "outputs": [
    {
     "name": "stdout",
     "output_type": "stream",
     "text": [
      "45 µs ± 817 ns per loop (mean ± std. dev. of 7 runs, 10,000 loops each)\n"
     ]
    }
   ],
   "source": [
    "%timeit t_cat(trees)"
   ]
  },
  {
   "cell_type": "code",
   "execution_count": 24,
   "id": "a3ab5c8f",
   "metadata": {
    "execution": {
     "iopub.execute_input": "2023-02-26T15:45:14.341132Z",
     "iopub.status.busy": "2023-02-26T15:45:14.340647Z",
     "iopub.status.idle": "2023-02-26T15:45:21.039196Z",
     "shell.execute_reply": "2023-02-26T15:45:21.038193Z"
    }
   },
   "outputs": [
    {
     "name": "stdout",
     "output_type": "stream",
     "text": [
      "82.4 µs ± 1.56 µs per loop (mean ± std. dev. of 7 runs, 10,000 loops each)\n"
     ]
    }
   ],
   "source": [
    "t_split = FastTreeValue.func(rise=True)(torch.split)\n",
    "tree = FastTreeValue({\n",
    "    'obs': torch.randn(8, 4, 84, 84),\n",
    "    'action': torch.randint(0, 6, size=(8, 1,)),\n",
    "    'reward': torch.rand(8, 1),\n",
    "})\n",
    "\n",
    "%timeit t_split(tree, 1)"
   ]
  },
  {
   "cell_type": "markdown",
   "id": "31c3ec0b",
   "metadata": {},
   "source": [
    "### Performance of Tianshou Batch"
   ]
  },
  {
   "cell_type": "code",
   "execution_count": 25,
   "id": "9ead828a",
   "metadata": {
    "execution": {
     "iopub.execute_input": "2023-02-26T15:45:21.042988Z",
     "iopub.status.busy": "2023-02-26T15:45:21.042664Z",
     "iopub.status.idle": "2023-02-26T15:45:21.052966Z",
     "shell.execute_reply": "2023-02-26T15:45:21.052008Z"
    }
   },
   "outputs": [
    {
     "data": {
      "text/plain": [
       "Batch(\n",
       "    x: Batch(\n",
       "           c: tensor([[[-0.5064,  1.3113,  0.7474, -1.5178],\n",
       "                       [ 0.3662,  0.6748, -0.8927,  0.9459],\n",
       "                       [ 0.6007, -1.6776,  1.7443,  0.0511]],\n",
       "              \n",
       "                      [[-0.5064,  1.3113,  0.7474, -1.5178],\n",
       "                       [ 0.3662,  0.6748, -0.8927,  0.9459],\n",
       "                       [ 0.6007, -1.6776,  1.7443,  0.0511]],\n",
       "              \n",
       "                      [[-0.5064,  1.3113,  0.7474, -1.5178],\n",
       "                       [ 0.3662,  0.6748, -0.8927,  0.9459],\n",
       "                       [ 0.6007, -1.6776,  1.7443,  0.0511]],\n",
       "              \n",
       "                      [[-0.5064,  1.3113,  0.7474, -1.5178],\n",
       "                       [ 0.3662,  0.6748, -0.8927,  0.9459],\n",
       "                       [ 0.6007, -1.6776,  1.7443,  0.0511]],\n",
       "              \n",
       "                      [[-0.5064,  1.3113,  0.7474, -1.5178],\n",
       "                       [ 0.3662,  0.6748, -0.8927,  0.9459],\n",
       "                       [ 0.6007, -1.6776,  1.7443,  0.0511]],\n",
       "              \n",
       "                      [[-0.5064,  1.3113,  0.7474, -1.5178],\n",
       "                       [ 0.3662,  0.6748, -0.8927,  0.9459],\n",
       "                       [ 0.6007, -1.6776,  1.7443,  0.0511]],\n",
       "              \n",
       "                      [[-0.5064,  1.3113,  0.7474, -1.5178],\n",
       "                       [ 0.3662,  0.6748, -0.8927,  0.9459],\n",
       "                       [ 0.6007, -1.6776,  1.7443,  0.0511]],\n",
       "              \n",
       "                      [[-0.5064,  1.3113,  0.7474, -1.5178],\n",
       "                       [ 0.3662,  0.6748, -0.8927,  0.9459],\n",
       "                       [ 0.6007, -1.6776,  1.7443,  0.0511]]]),\n",
       "       ),\n",
       "    a: tensor([[[-1.5502, -0.5344,  1.0017],\n",
       "                [ 0.3730, -0.5865,  0.5163]],\n",
       "       \n",
       "               [[-1.5502, -0.5344,  1.0017],\n",
       "                [ 0.3730, -0.5865,  0.5163]],\n",
       "       \n",
       "               [[-1.5502, -0.5344,  1.0017],\n",
       "                [ 0.3730, -0.5865,  0.5163]],\n",
       "       \n",
       "               [[-1.5502, -0.5344,  1.0017],\n",
       "                [ 0.3730, -0.5865,  0.5163]],\n",
       "       \n",
       "               [[-1.5502, -0.5344,  1.0017],\n",
       "                [ 0.3730, -0.5865,  0.5163]],\n",
       "       \n",
       "               [[-1.5502, -0.5344,  1.0017],\n",
       "                [ 0.3730, -0.5865,  0.5163]],\n",
       "       \n",
       "               [[-1.5502, -0.5344,  1.0017],\n",
       "                [ 0.3730, -0.5865,  0.5163]],\n",
       "       \n",
       "               [[-1.5502, -0.5344,  1.0017],\n",
       "                [ 0.3730, -0.5865,  0.5163]]]),\n",
       ")"
      ]
     },
     "execution_count": 25,
     "metadata": {},
     "output_type": "execute_result"
    }
   ],
   "source": [
    "batches = [Batch(**_TREE_DATA_2) for _ in range(8)]\n",
    "\n",
    "Batch.stack(batches)"
   ]
  },
  {
   "cell_type": "code",
   "execution_count": 26,
   "id": "ec9037a3",
   "metadata": {
    "execution": {
     "iopub.execute_input": "2023-02-26T15:45:21.056377Z",
     "iopub.status.busy": "2023-02-26T15:45:21.056083Z",
     "iopub.status.idle": "2023-02-26T15:45:29.925997Z",
     "shell.execute_reply": "2023-02-26T15:45:29.924894Z"
    }
   },
   "outputs": [
    {
     "name": "stdout",
     "output_type": "stream",
     "text": [
      "110 µs ± 3.57 µs per loop (mean ± std. dev. of 7 runs, 10,000 loops each)\n"
     ]
    }
   ],
   "source": [
    "%timeit Batch.stack(batches)"
   ]
  },
  {
   "cell_type": "code",
   "execution_count": 27,
   "id": "cb8ab77e",
   "metadata": {
    "execution": {
     "iopub.execute_input": "2023-02-26T15:45:29.929592Z",
     "iopub.status.busy": "2023-02-26T15:45:29.929316Z",
     "iopub.status.idle": "2023-02-26T15:45:29.939106Z",
     "shell.execute_reply": "2023-02-26T15:45:29.938211Z"
    }
   },
   "outputs": [
    {
     "data": {
      "text/plain": [
       "Batch(\n",
       "    x: Batch(\n",
       "           c: tensor([[-0.5064,  1.3113,  0.7474, -1.5178],\n",
       "                      [ 0.3662,  0.6748, -0.8927,  0.9459],\n",
       "                      [ 0.6007, -1.6776,  1.7443,  0.0511],\n",
       "                      [-0.5064,  1.3113,  0.7474, -1.5178],\n",
       "                      [ 0.3662,  0.6748, -0.8927,  0.9459],\n",
       "                      [ 0.6007, -1.6776,  1.7443,  0.0511],\n",
       "                      [-0.5064,  1.3113,  0.7474, -1.5178],\n",
       "                      [ 0.3662,  0.6748, -0.8927,  0.9459],\n",
       "                      [ 0.6007, -1.6776,  1.7443,  0.0511],\n",
       "                      [-0.5064,  1.3113,  0.7474, -1.5178],\n",
       "                      [ 0.3662,  0.6748, -0.8927,  0.9459],\n",
       "                      [ 0.6007, -1.6776,  1.7443,  0.0511],\n",
       "                      [-0.5064,  1.3113,  0.7474, -1.5178],\n",
       "                      [ 0.3662,  0.6748, -0.8927,  0.9459],\n",
       "                      [ 0.6007, -1.6776,  1.7443,  0.0511],\n",
       "                      [-0.5064,  1.3113,  0.7474, -1.5178],\n",
       "                      [ 0.3662,  0.6748, -0.8927,  0.9459],\n",
       "                      [ 0.6007, -1.6776,  1.7443,  0.0511],\n",
       "                      [-0.5064,  1.3113,  0.7474, -1.5178],\n",
       "                      [ 0.3662,  0.6748, -0.8927,  0.9459],\n",
       "                      [ 0.6007, -1.6776,  1.7443,  0.0511],\n",
       "                      [-0.5064,  1.3113,  0.7474, -1.5178],\n",
       "                      [ 0.3662,  0.6748, -0.8927,  0.9459],\n",
       "                      [ 0.6007, -1.6776,  1.7443,  0.0511]]),\n",
       "       ),\n",
       "    a: tensor([[-1.5502, -0.5344,  1.0017],\n",
       "               [ 0.3730, -0.5865,  0.5163],\n",
       "               [-1.5502, -0.5344,  1.0017],\n",
       "               [ 0.3730, -0.5865,  0.5163],\n",
       "               [-1.5502, -0.5344,  1.0017],\n",
       "               [ 0.3730, -0.5865,  0.5163],\n",
       "               [-1.5502, -0.5344,  1.0017],\n",
       "               [ 0.3730, -0.5865,  0.5163],\n",
       "               [-1.5502, -0.5344,  1.0017],\n",
       "               [ 0.3730, -0.5865,  0.5163],\n",
       "               [-1.5502, -0.5344,  1.0017],\n",
       "               [ 0.3730, -0.5865,  0.5163],\n",
       "               [-1.5502, -0.5344,  1.0017],\n",
       "               [ 0.3730, -0.5865,  0.5163],\n",
       "               [-1.5502, -0.5344,  1.0017],\n",
       "               [ 0.3730, -0.5865,  0.5163]]),\n",
       ")"
      ]
     },
     "execution_count": 27,
     "metadata": {},
     "output_type": "execute_result"
    }
   ],
   "source": [
    "Batch.cat(batches)"
   ]
  },
  {
   "cell_type": "code",
   "execution_count": 28,
   "id": "18dfb045",
   "metadata": {
    "execution": {
     "iopub.execute_input": "2023-02-26T15:45:29.942607Z",
     "iopub.status.busy": "2023-02-26T15:45:29.942081Z",
     "iopub.status.idle": "2023-02-26T15:45:45.384946Z",
     "shell.execute_reply": "2023-02-26T15:45:45.383948Z"
    }
   },
   "outputs": [
    {
     "name": "stdout",
     "output_type": "stream",
     "text": [
      "190 µs ± 4.16 µs per loop (mean ± std. dev. of 7 runs, 10,000 loops each)\n"
     ]
    }
   ],
   "source": [
    "%timeit Batch.cat(batches)"
   ]
  },
  {
   "cell_type": "code",
   "execution_count": 29,
   "id": "c6688e51",
   "metadata": {
    "execution": {
     "iopub.execute_input": "2023-02-26T15:45:45.388639Z",
     "iopub.status.busy": "2023-02-26T15:45:45.387917Z",
     "iopub.status.idle": "2023-02-26T15:45:50.140784Z",
     "shell.execute_reply": "2023-02-26T15:45:50.139727Z"
    }
   },
   "outputs": [
    {
     "name": "stdout",
     "output_type": "stream",
     "text": [
      "586 µs ± 9.98 µs per loop (mean ± std. dev. of 7 runs, 1,000 loops each)\n"
     ]
    }
   ],
   "source": [
    "batch = Batch({\n",
    "    'obs': torch.randn(8, 4, 84, 84),\n",
    "    'action': torch.randint(0, 6, size=(8, 1,)),\n",
    "    'reward': torch.rand(8, 1)}\n",
    ")\n",
    "\n",
    "%timeit list(Batch.split(batch, 1, shuffle=False, merge_last=True))"
   ]
  },
  {
   "cell_type": "code",
   "execution_count": null,
   "id": "2539fbd9",
   "metadata": {},
   "outputs": [],
   "source": []
  }
 ],
 "metadata": {
  "kernelspec": {
   "display_name": "Python 3 (ipykernel)",
   "language": "python",
   "name": "python3"
  },
  "language_info": {
   "codemirror_mode": {
    "name": "ipython",
    "version": 3
   },
   "file_extension": ".py",
   "mimetype": "text/x-python",
   "name": "python",
   "nbconvert_exporter": "python",
   "pygments_lexer": "ipython3",
   "version": "3.8.16"
  }
 },
 "nbformat": 4,
 "nbformat_minor": 5
}
