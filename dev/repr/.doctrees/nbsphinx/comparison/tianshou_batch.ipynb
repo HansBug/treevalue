{
 "cells": [
  {
   "cell_type": "markdown",
   "id": "9d39d946",
   "metadata": {},
   "source": [
    "# Comparison Between TreeValue and Tianshou Batch"
   ]
  },
  {
   "cell_type": "markdown",
   "id": "3c6db2d4",
   "metadata": {},
   "source": [
    "In this section, we will take a look at the feature and performance of the [Tianshou Batch](https://github.com/thu-ml/tianshou) library, which is developed by Tsinghua Machine Learning Group."
   ]
  },
  {
   "cell_type": "markdown",
   "id": "069361b0",
   "metadata": {},
   "source": [
    "Before starting the comparison, let us define some thing."
   ]
  },
  {
   "cell_type": "code",
   "execution_count": 1,
   "id": "06fc8d26",
   "metadata": {
    "execution": {
     "iopub.execute_input": "2023-02-26T16:54:49.394808Z",
     "iopub.status.busy": "2023-02-26T16:54:49.394147Z",
     "iopub.status.idle": "2023-02-26T16:54:50.300004Z",
     "shell.execute_reply": "2023-02-26T16:54:50.299370Z"
    }
   },
   "outputs": [
    {
     "name": "stderr",
     "output_type": "stream",
     "text": [
      "/opt/hostedtoolcache/Python/3.8.16/x64/lib/python3.8/site-packages/tqdm/auto.py:22: TqdmWarning: IProgress not found. Please update jupyter and ipywidgets. See https://ipywidgets.readthedocs.io/en/stable/user_install.html\n",
      "  from .autonotebook import tqdm as notebook_tqdm\n"
     ]
    }
   ],
   "source": [
    "import torch \n",
    "\n",
    "_TREE_DATA_1 = {'a': 1, 'b': 2, 'x': {'c': 3, 'd': 4}}\n",
    "_TREE_DATA_2 = {\n",
    "    'a': torch.randn(2, 3), \n",
    "    'x': {\n",
    "        'c': torch.randn(3, 4)\n",
    "    },\n",
    "}\n",
    "_TREE_DATA_3 = {\n",
    "    'obs': torch.randn(4, 84, 84),\n",
    "    'action': torch.randint(0, 6, size=(1,)),\n",
    "    'reward': torch.rand(1),\n",
    "}"
   ]
  },
  {
   "cell_type": "markdown",
   "id": "83461b25",
   "metadata": {},
   "source": [
    "## Read and Write Operation"
   ]
  },
  {
   "cell_type": "markdown",
   "id": "067b3f73",
   "metadata": {},
   "source": [
    "Reading and writing are the two most common operations in the tree data structure based on the data model (TreeValue and Tianshou Batch both belong to this type), so this section will compare the reading and writing performance of these two libraries."
   ]
  },
  {
   "cell_type": "markdown",
   "id": "5d09a5b7",
   "metadata": {},
   "source": [
    "### TreeValue's Get and Set"
   ]
  },
  {
   "cell_type": "code",
   "execution_count": 2,
   "id": "9519c4bb",
   "metadata": {
    "execution": {
     "iopub.execute_input": "2023-02-26T16:54:50.303018Z",
     "iopub.status.busy": "2023-02-26T16:54:50.302543Z",
     "iopub.status.idle": "2023-02-26T16:54:50.578244Z",
     "shell.execute_reply": "2023-02-26T16:54:50.577554Z"
    }
   },
   "outputs": [],
   "source": [
    "from treevalue import FastTreeValue\n",
    "\n",
    "t = FastTreeValue(_TREE_DATA_2)"
   ]
  },
  {
   "cell_type": "code",
   "execution_count": 3,
   "id": "11c37677",
   "metadata": {
    "execution": {
     "iopub.execute_input": "2023-02-26T16:54:50.581339Z",
     "iopub.status.busy": "2023-02-26T16:54:50.580744Z",
     "iopub.status.idle": "2023-02-26T16:54:50.589978Z",
     "shell.execute_reply": "2023-02-26T16:54:50.589319Z"
    }
   },
   "outputs": [
    {
     "data": {
      "text/plain": [
       "<FastTreeValue 0x7fec30b1ab50>\n",
       "├── 'a' --> tensor([[-0.3081, -0.8250, -0.2009],\n",
       "│                   [-0.7405, -1.2155, -0.8393]])\n",
       "└── 'x' --> <FastTreeValue 0x7fec30b1a760>\n",
       "    └── 'c' --> tensor([[-0.5968, -2.1363,  0.6709, -0.3247],\n",
       "                        [-2.6082,  0.9464, -0.4210, -1.1703],\n",
       "                        [-0.7498, -0.0342, -0.5123,  0.1853]])"
      ]
     },
     "execution_count": 3,
     "metadata": {},
     "output_type": "execute_result"
    }
   ],
   "source": [
    "t"
   ]
  },
  {
   "cell_type": "code",
   "execution_count": 4,
   "id": "fd70b0b9",
   "metadata": {
    "execution": {
     "iopub.execute_input": "2023-02-26T16:54:50.592632Z",
     "iopub.status.busy": "2023-02-26T16:54:50.592293Z",
     "iopub.status.idle": "2023-02-26T16:54:50.597230Z",
     "shell.execute_reply": "2023-02-26T16:54:50.596606Z"
    }
   },
   "outputs": [
    {
     "data": {
      "text/plain": [
       "tensor([[-0.3081, -0.8250, -0.2009],\n",
       "        [-0.7405, -1.2155, -0.8393]])"
      ]
     },
     "execution_count": 4,
     "metadata": {},
     "output_type": "execute_result"
    }
   ],
   "source": [
    "t.a"
   ]
  },
  {
   "cell_type": "code",
   "execution_count": 5,
   "id": "c18197bd",
   "metadata": {
    "execution": {
     "iopub.execute_input": "2023-02-26T16:54:50.600052Z",
     "iopub.status.busy": "2023-02-26T16:54:50.599475Z",
     "iopub.status.idle": "2023-02-26T16:54:55.546341Z",
     "shell.execute_reply": "2023-02-26T16:54:55.545619Z"
    }
   },
   "outputs": [
    {
     "name": "stdout",
     "output_type": "stream",
     "text": [
      "60.8 ns ± 0.0105 ns per loop (mean ± std. dev. of 7 runs, 10,000,000 loops each)\n"
     ]
    }
   ],
   "source": [
    "%timeit t.a"
   ]
  },
  {
   "cell_type": "code",
   "execution_count": 6,
   "id": "bd52f867",
   "metadata": {
    "execution": {
     "iopub.execute_input": "2023-02-26T16:54:55.549367Z",
     "iopub.status.busy": "2023-02-26T16:54:55.548727Z",
     "iopub.status.idle": "2023-02-26T16:54:55.554680Z",
     "shell.execute_reply": "2023-02-26T16:54:55.554060Z"
    }
   },
   "outputs": [
    {
     "data": {
      "text/plain": [
       "<FastTreeValue 0x7fec30b1ab50>\n",
       "├── 'a' --> tensor([[ 0.3505, -1.6325,  0.7320],\n",
       "│                   [-0.0654, -1.0590, -2.4611]])\n",
       "└── 'x' --> <FastTreeValue 0x7fec30b1a760>\n",
       "    └── 'c' --> tensor([[-0.5968, -2.1363,  0.6709, -0.3247],\n",
       "                        [-2.6082,  0.9464, -0.4210, -1.1703],\n",
       "                        [-0.7498, -0.0342, -0.5123,  0.1853]])"
      ]
     },
     "execution_count": 6,
     "metadata": {},
     "output_type": "execute_result"
    }
   ],
   "source": [
    "new_value = torch.randn(2, 3)\n",
    "t.a = new_value\n",
    "\n",
    "t"
   ]
  },
  {
   "cell_type": "code",
   "execution_count": 7,
   "id": "bbe04d1c",
   "metadata": {
    "execution": {
     "iopub.execute_input": "2023-02-26T16:54:55.557293Z",
     "iopub.status.busy": "2023-02-26T16:54:55.556952Z",
     "iopub.status.idle": "2023-02-26T16:55:00.942683Z",
     "shell.execute_reply": "2023-02-26T16:55:00.941954Z"
    }
   },
   "outputs": [
    {
     "name": "stdout",
     "output_type": "stream",
     "text": [
      "66.2 ns ± 0.0177 ns per loop (mean ± std. dev. of 7 runs, 10,000,000 loops each)\n"
     ]
    }
   ],
   "source": [
    "%timeit t.a = new_value"
   ]
  },
  {
   "cell_type": "markdown",
   "id": "48c49731",
   "metadata": {},
   "source": [
    "### Tianshou Batch's Get and Set"
   ]
  },
  {
   "cell_type": "code",
   "execution_count": 8,
   "id": "f1bb14c1",
   "metadata": {
    "execution": {
     "iopub.execute_input": "2023-02-26T16:55:00.945915Z",
     "iopub.status.busy": "2023-02-26T16:55:00.945279Z",
     "iopub.status.idle": "2023-02-26T16:55:01.269366Z",
     "shell.execute_reply": "2023-02-26T16:55:01.268713Z"
    }
   },
   "outputs": [],
   "source": [
    "from tianshou.data import Batch\n",
    "\n",
    "b = Batch(**_TREE_DATA_2)"
   ]
  },
  {
   "cell_type": "code",
   "execution_count": 9,
   "id": "cb0777c3",
   "metadata": {
    "execution": {
     "iopub.execute_input": "2023-02-26T16:55:01.272612Z",
     "iopub.status.busy": "2023-02-26T16:55:01.272081Z",
     "iopub.status.idle": "2023-02-26T16:55:01.277442Z",
     "shell.execute_reply": "2023-02-26T16:55:01.276829Z"
    }
   },
   "outputs": [
    {
     "data": {
      "text/plain": [
       "Batch(\n",
       "    a: tensor([[-0.3081, -0.8250, -0.2009],\n",
       "               [-0.7405, -1.2155, -0.8393]]),\n",
       "    x: Batch(\n",
       "           c: tensor([[-0.5968, -2.1363,  0.6709, -0.3247],\n",
       "                      [-2.6082,  0.9464, -0.4210, -1.1703],\n",
       "                      [-0.7498, -0.0342, -0.5123,  0.1853]]),\n",
       "       ),\n",
       ")"
      ]
     },
     "execution_count": 9,
     "metadata": {},
     "output_type": "execute_result"
    }
   ],
   "source": [
    "b"
   ]
  },
  {
   "cell_type": "code",
   "execution_count": 10,
   "id": "43ef8ea3",
   "metadata": {
    "execution": {
     "iopub.execute_input": "2023-02-26T16:55:01.280036Z",
     "iopub.status.busy": "2023-02-26T16:55:01.279480Z",
     "iopub.status.idle": "2023-02-26T16:55:01.284022Z",
     "shell.execute_reply": "2023-02-26T16:55:01.283422Z"
    }
   },
   "outputs": [
    {
     "data": {
      "text/plain": [
       "tensor([[-0.3081, -0.8250, -0.2009],\n",
       "        [-0.7405, -1.2155, -0.8393]])"
      ]
     },
     "execution_count": 10,
     "metadata": {},
     "output_type": "execute_result"
    }
   ],
   "source": [
    "b.a"
   ]
  },
  {
   "cell_type": "code",
   "execution_count": 11,
   "id": "b785ab72",
   "metadata": {
    "execution": {
     "iopub.execute_input": "2023-02-26T16:55:01.286488Z",
     "iopub.status.busy": "2023-02-26T16:55:01.285996Z",
     "iopub.status.idle": "2023-02-26T16:55:05.608664Z",
     "shell.execute_reply": "2023-02-26T16:55:05.607928Z"
    }
   },
   "outputs": [
    {
     "name": "stdout",
     "output_type": "stream",
     "text": [
      "53.2 ns ± 0.0599 ns per loop (mean ± std. dev. of 7 runs, 10,000,000 loops each)\n"
     ]
    }
   ],
   "source": [
    "%timeit b.a"
   ]
  },
  {
   "cell_type": "code",
   "execution_count": 12,
   "id": "ad54dc69",
   "metadata": {
    "execution": {
     "iopub.execute_input": "2023-02-26T16:55:05.611598Z",
     "iopub.status.busy": "2023-02-26T16:55:05.611054Z",
     "iopub.status.idle": "2023-02-26T16:55:05.616861Z",
     "shell.execute_reply": "2023-02-26T16:55:05.616230Z"
    }
   },
   "outputs": [
    {
     "data": {
      "text/plain": [
       "Batch(\n",
       "    a: tensor([[ 1.4832,  0.7605, -0.0336],\n",
       "               [-2.4275,  0.6052, -0.4007]]),\n",
       "    x: Batch(\n",
       "           c: tensor([[-0.5968, -2.1363,  0.6709, -0.3247],\n",
       "                      [-2.6082,  0.9464, -0.4210, -1.1703],\n",
       "                      [-0.7498, -0.0342, -0.5123,  0.1853]]),\n",
       "       ),\n",
       ")"
      ]
     },
     "execution_count": 12,
     "metadata": {},
     "output_type": "execute_result"
    }
   ],
   "source": [
    "new_value = torch.randn(2, 3)\n",
    "b.a = new_value\n",
    "\n",
    "b"
   ]
  },
  {
   "cell_type": "code",
   "execution_count": 13,
   "id": "29b1d0bf",
   "metadata": {
    "execution": {
     "iopub.execute_input": "2023-02-26T16:55:05.619344Z",
     "iopub.status.busy": "2023-02-26T16:55:05.619003Z",
     "iopub.status.idle": "2023-02-26T16:55:09.566466Z",
     "shell.execute_reply": "2023-02-26T16:55:09.565716Z"
    }
   },
   "outputs": [
    {
     "name": "stdout",
     "output_type": "stream",
     "text": [
      "486 ns ± 0.223 ns per loop (mean ± std. dev. of 7 runs, 1,000,000 loops each)\n"
     ]
    }
   ],
   "source": [
    "%timeit b.a = new_value"
   ]
  },
  {
   "cell_type": "markdown",
   "id": "b61ad1d0",
   "metadata": {},
   "source": [
    "## Initialization"
   ]
  },
  {
   "cell_type": "markdown",
   "id": "d70f0d54",
   "metadata": {},
   "source": [
    "### TreeValue's Initialization"
   ]
  },
  {
   "cell_type": "code",
   "execution_count": 14,
   "id": "d32a679b",
   "metadata": {
    "execution": {
     "iopub.execute_input": "2023-02-26T16:55:09.569472Z",
     "iopub.status.busy": "2023-02-26T16:55:09.569117Z",
     "iopub.status.idle": "2023-02-26T16:55:16.577593Z",
     "shell.execute_reply": "2023-02-26T16:55:16.576892Z"
    }
   },
   "outputs": [
    {
     "name": "stdout",
     "output_type": "stream",
     "text": [
      "865 ns ± 9.54 ns per loop (mean ± std. dev. of 7 runs, 1,000,000 loops each)\n"
     ]
    }
   ],
   "source": [
    "%timeit FastTreeValue(_TREE_DATA_1)"
   ]
  },
  {
   "cell_type": "markdown",
   "id": "24f3707b",
   "metadata": {},
   "source": [
    "### Tianshou Batch's Initialization"
   ]
  },
  {
   "cell_type": "code",
   "execution_count": 15,
   "id": "ac3958df",
   "metadata": {
    "execution": {
     "iopub.execute_input": "2023-02-26T16:55:16.580646Z",
     "iopub.status.busy": "2023-02-26T16:55:16.580149Z",
     "iopub.status.idle": "2023-02-26T16:55:26.118590Z",
     "shell.execute_reply": "2023-02-26T16:55:26.117958Z"
    }
   },
   "outputs": [
    {
     "name": "stdout",
     "output_type": "stream",
     "text": [
      "11.8 µs ± 23.5 ns per loop (mean ± std. dev. of 7 runs, 100,000 loops each)\n"
     ]
    }
   ],
   "source": [
    "%timeit Batch(**_TREE_DATA_1)"
   ]
  },
  {
   "cell_type": "markdown",
   "id": "1ab82e2d",
   "metadata": {},
   "source": [
    "## Deep Copy Operation"
   ]
  },
  {
   "cell_type": "code",
   "execution_count": 16,
   "id": "210a9442",
   "metadata": {
    "execution": {
     "iopub.execute_input": "2023-02-26T16:55:26.121375Z",
     "iopub.status.busy": "2023-02-26T16:55:26.120839Z",
     "iopub.status.idle": "2023-02-26T16:55:26.124654Z",
     "shell.execute_reply": "2023-02-26T16:55:26.124081Z"
    }
   },
   "outputs": [],
   "source": [
    "import copy"
   ]
  },
  {
   "cell_type": "markdown",
   "id": "5a736274",
   "metadata": {},
   "source": [
    "### Deep Copy of TreeValue"
   ]
  },
  {
   "cell_type": "code",
   "execution_count": 17,
   "id": "f9bcadd6",
   "metadata": {
    "execution": {
     "iopub.execute_input": "2023-02-26T16:55:26.127012Z",
     "iopub.status.busy": "2023-02-26T16:55:26.126675Z",
     "iopub.status.idle": "2023-02-26T16:55:37.265002Z",
     "shell.execute_reply": "2023-02-26T16:55:37.264416Z"
    }
   },
   "outputs": [
    {
     "name": "stdout",
     "output_type": "stream",
     "text": [
      "137 µs ± 1.2 µs per loop (mean ± std. dev. of 7 runs, 10,000 loops each)\n"
     ]
    }
   ],
   "source": [
    "t3 = FastTreeValue(_TREE_DATA_3)\n",
    "%timeit copy.deepcopy(t3)"
   ]
  },
  {
   "cell_type": "markdown",
   "id": "bf8be7ea",
   "metadata": {},
   "source": [
    "### Deep Copy of Tianshou Batch"
   ]
  },
  {
   "cell_type": "code",
   "execution_count": 18,
   "id": "91998e6f",
   "metadata": {
    "execution": {
     "iopub.execute_input": "2023-02-26T16:55:37.268181Z",
     "iopub.status.busy": "2023-02-26T16:55:37.267722Z",
     "iopub.status.idle": "2023-02-26T16:55:48.709655Z",
     "shell.execute_reply": "2023-02-26T16:55:48.708946Z"
    }
   },
   "outputs": [
    {
     "name": "stdout",
     "output_type": "stream",
     "text": [
      "141 µs ± 707 ns per loop (mean ± std. dev. of 7 runs, 10,000 loops each)\n"
     ]
    }
   ],
   "source": [
    "b3 = Batch(**_TREE_DATA_3)\n",
    "%timeit copy.deepcopy(b3)"
   ]
  },
  {
   "cell_type": "markdown",
   "id": "223162fb",
   "metadata": {},
   "source": [
    "## Stack, Concat and Split Operation"
   ]
  },
  {
   "cell_type": "markdown",
   "id": "85fa4a73",
   "metadata": {},
   "source": [
    "### Performance of TreeValue"
   ]
  },
  {
   "cell_type": "code",
   "execution_count": 19,
   "id": "a0c2b697",
   "metadata": {
    "execution": {
     "iopub.execute_input": "2023-02-26T16:55:48.712813Z",
     "iopub.status.busy": "2023-02-26T16:55:48.712323Z",
     "iopub.status.idle": "2023-02-26T16:55:48.716538Z",
     "shell.execute_reply": "2023-02-26T16:55:48.715971Z"
    }
   },
   "outputs": [],
   "source": [
    "trees = [FastTreeValue(_TREE_DATA_2) for _ in range(8)]"
   ]
  },
  {
   "cell_type": "code",
   "execution_count": 20,
   "id": "017ea5a5",
   "metadata": {
    "execution": {
     "iopub.execute_input": "2023-02-26T16:55:48.719367Z",
     "iopub.status.busy": "2023-02-26T16:55:48.719025Z",
     "iopub.status.idle": "2023-02-26T16:55:48.726465Z",
     "shell.execute_reply": "2023-02-26T16:55:48.725911Z"
    }
   },
   "outputs": [
    {
     "data": {
      "text/plain": [
       "<FastTreeValue 0x7fec30b8e190>\n",
       "├── 'a' --> tensor([[[-0.3081, -0.8250, -0.2009],\n",
       "│                    [-0.7405, -1.2155, -0.8393]],\n",
       "│           \n",
       "│                   [[-0.3081, -0.8250, -0.2009],\n",
       "│                    [-0.7405, -1.2155, -0.8393]],\n",
       "│           \n",
       "│                   [[-0.3081, -0.8250, -0.2009],\n",
       "│                    [-0.7405, -1.2155, -0.8393]],\n",
       "│           \n",
       "│                   [[-0.3081, -0.8250, -0.2009],\n",
       "│                    [-0.7405, -1.2155, -0.8393]],\n",
       "│           \n",
       "│                   [[-0.3081, -0.8250, -0.2009],\n",
       "│                    [-0.7405, -1.2155, -0.8393]],\n",
       "│           \n",
       "│                   [[-0.3081, -0.8250, -0.2009],\n",
       "│                    [-0.7405, -1.2155, -0.8393]],\n",
       "│           \n",
       "│                   [[-0.3081, -0.8250, -0.2009],\n",
       "│                    [-0.7405, -1.2155, -0.8393]],\n",
       "│           \n",
       "│                   [[-0.3081, -0.8250, -0.2009],\n",
       "│                    [-0.7405, -1.2155, -0.8393]]])\n",
       "└── 'x' --> <FastTreeValue 0x7fec30b8e970>\n",
       "    └── 'c' --> tensor([[[-0.5968, -2.1363,  0.6709, -0.3247],\n",
       "                         [-2.6082,  0.9464, -0.4210, -1.1703],\n",
       "                         [-0.7498, -0.0342, -0.5123,  0.1853]],\n",
       "                \n",
       "                        [[-0.5968, -2.1363,  0.6709, -0.3247],\n",
       "                         [-2.6082,  0.9464, -0.4210, -1.1703],\n",
       "                         [-0.7498, -0.0342, -0.5123,  0.1853]],\n",
       "                \n",
       "                        [[-0.5968, -2.1363,  0.6709, -0.3247],\n",
       "                         [-2.6082,  0.9464, -0.4210, -1.1703],\n",
       "                         [-0.7498, -0.0342, -0.5123,  0.1853]],\n",
       "                \n",
       "                        [[-0.5968, -2.1363,  0.6709, -0.3247],\n",
       "                         [-2.6082,  0.9464, -0.4210, -1.1703],\n",
       "                         [-0.7498, -0.0342, -0.5123,  0.1853]],\n",
       "                \n",
       "                        [[-0.5968, -2.1363,  0.6709, -0.3247],\n",
       "                         [-2.6082,  0.9464, -0.4210, -1.1703],\n",
       "                         [-0.7498, -0.0342, -0.5123,  0.1853]],\n",
       "                \n",
       "                        [[-0.5968, -2.1363,  0.6709, -0.3247],\n",
       "                         [-2.6082,  0.9464, -0.4210, -1.1703],\n",
       "                         [-0.7498, -0.0342, -0.5123,  0.1853]],\n",
       "                \n",
       "                        [[-0.5968, -2.1363,  0.6709, -0.3247],\n",
       "                         [-2.6082,  0.9464, -0.4210, -1.1703],\n",
       "                         [-0.7498, -0.0342, -0.5123,  0.1853]],\n",
       "                \n",
       "                        [[-0.5968, -2.1363,  0.6709, -0.3247],\n",
       "                         [-2.6082,  0.9464, -0.4210, -1.1703],\n",
       "                         [-0.7498, -0.0342, -0.5123,  0.1853]]])"
      ]
     },
     "execution_count": 20,
     "metadata": {},
     "output_type": "execute_result"
    }
   ],
   "source": [
    "t_stack = FastTreeValue.func(subside=True)(torch.stack)\n",
    "\n",
    "t_stack(trees)"
   ]
  },
  {
   "cell_type": "code",
   "execution_count": 21,
   "id": "f8b3f415",
   "metadata": {
    "execution": {
     "iopub.execute_input": "2023-02-26T16:55:48.729245Z",
     "iopub.status.busy": "2023-02-26T16:55:48.728758Z",
     "iopub.status.idle": "2023-02-26T16:55:51.339713Z",
     "shell.execute_reply": "2023-02-26T16:55:51.339014Z"
    }
   },
   "outputs": [
    {
     "name": "stdout",
     "output_type": "stream",
     "text": [
      "32.1 µs ± 112 ns per loop (mean ± std. dev. of 7 runs, 10,000 loops each)\n"
     ]
    }
   ],
   "source": [
    "%timeit t_stack(trees)"
   ]
  },
  {
   "cell_type": "code",
   "execution_count": 22,
   "id": "94b56771",
   "metadata": {
    "execution": {
     "iopub.execute_input": "2023-02-26T16:55:51.342908Z",
     "iopub.status.busy": "2023-02-26T16:55:51.342265Z",
     "iopub.status.idle": "2023-02-26T16:55:51.350765Z",
     "shell.execute_reply": "2023-02-26T16:55:51.350177Z"
    }
   },
   "outputs": [
    {
     "data": {
      "text/plain": [
       "<FastTreeValue 0x7fec03fd74f0>\n",
       "├── 'a' --> tensor([[-0.3081, -0.8250, -0.2009],\n",
       "│                   [-0.7405, -1.2155, -0.8393],\n",
       "│                   [-0.3081, -0.8250, -0.2009],\n",
       "│                   [-0.7405, -1.2155, -0.8393],\n",
       "│                   [-0.3081, -0.8250, -0.2009],\n",
       "│                   [-0.7405, -1.2155, -0.8393],\n",
       "│                   [-0.3081, -0.8250, -0.2009],\n",
       "│                   [-0.7405, -1.2155, -0.8393],\n",
       "│                   [-0.3081, -0.8250, -0.2009],\n",
       "│                   [-0.7405, -1.2155, -0.8393],\n",
       "│                   [-0.3081, -0.8250, -0.2009],\n",
       "│                   [-0.7405, -1.2155, -0.8393],\n",
       "│                   [-0.3081, -0.8250, -0.2009],\n",
       "│                   [-0.7405, -1.2155, -0.8393],\n",
       "│                   [-0.3081, -0.8250, -0.2009],\n",
       "│                   [-0.7405, -1.2155, -0.8393]])\n",
       "└── 'x' --> <FastTreeValue 0x7fec087a5460>\n",
       "    └── 'c' --> tensor([[-0.5968, -2.1363,  0.6709, -0.3247],\n",
       "                        [-2.6082,  0.9464, -0.4210, -1.1703],\n",
       "                        [-0.7498, -0.0342, -0.5123,  0.1853],\n",
       "                        [-0.5968, -2.1363,  0.6709, -0.3247],\n",
       "                        [-2.6082,  0.9464, -0.4210, -1.1703],\n",
       "                        [-0.7498, -0.0342, -0.5123,  0.1853],\n",
       "                        [-0.5968, -2.1363,  0.6709, -0.3247],\n",
       "                        [-2.6082,  0.9464, -0.4210, -1.1703],\n",
       "                        [-0.7498, -0.0342, -0.5123,  0.1853],\n",
       "                        [-0.5968, -2.1363,  0.6709, -0.3247],\n",
       "                        [-2.6082,  0.9464, -0.4210, -1.1703],\n",
       "                        [-0.7498, -0.0342, -0.5123,  0.1853],\n",
       "                        [-0.5968, -2.1363,  0.6709, -0.3247],\n",
       "                        [-2.6082,  0.9464, -0.4210, -1.1703],\n",
       "                        [-0.7498, -0.0342, -0.5123,  0.1853],\n",
       "                        [-0.5968, -2.1363,  0.6709, -0.3247],\n",
       "                        [-2.6082,  0.9464, -0.4210, -1.1703],\n",
       "                        [-0.7498, -0.0342, -0.5123,  0.1853],\n",
       "                        [-0.5968, -2.1363,  0.6709, -0.3247],\n",
       "                        [-2.6082,  0.9464, -0.4210, -1.1703],\n",
       "                        [-0.7498, -0.0342, -0.5123,  0.1853],\n",
       "                        [-0.5968, -2.1363,  0.6709, -0.3247],\n",
       "                        [-2.6082,  0.9464, -0.4210, -1.1703],\n",
       "                        [-0.7498, -0.0342, -0.5123,  0.1853]])"
      ]
     },
     "execution_count": 22,
     "metadata": {},
     "output_type": "execute_result"
    }
   ],
   "source": [
    "t_cat = FastTreeValue.func(subside=True)(torch.cat)\n",
    "\n",
    "t_cat(trees)"
   ]
  },
  {
   "cell_type": "code",
   "execution_count": 23,
   "id": "5e9c06a6",
   "metadata": {
    "execution": {
     "iopub.execute_input": "2023-02-26T16:55:51.353418Z",
     "iopub.status.busy": "2023-02-26T16:55:51.353095Z",
     "iopub.status.idle": "2023-02-26T16:55:53.785381Z",
     "shell.execute_reply": "2023-02-26T16:55:53.784646Z"
    }
   },
   "outputs": [
    {
     "name": "stdout",
     "output_type": "stream",
     "text": [
      "29.9 µs ± 71 ns per loop (mean ± std. dev. of 7 runs, 10,000 loops each)\n"
     ]
    }
   ],
   "source": [
    "%timeit t_cat(trees)"
   ]
  },
  {
   "cell_type": "code",
   "execution_count": 24,
   "id": "a3ab5c8f",
   "metadata": {
    "execution": {
     "iopub.execute_input": "2023-02-26T16:55:53.788273Z",
     "iopub.status.busy": "2023-02-26T16:55:53.787767Z",
     "iopub.status.idle": "2023-02-26T16:55:58.623065Z",
     "shell.execute_reply": "2023-02-26T16:55:58.622348Z"
    }
   },
   "outputs": [
    {
     "name": "stdout",
     "output_type": "stream",
     "text": [
      "59.5 µs ± 59.8 ns per loop (mean ± std. dev. of 7 runs, 10,000 loops each)\n"
     ]
    }
   ],
   "source": [
    "t_split = FastTreeValue.func(rise=True)(torch.split)\n",
    "tree = FastTreeValue({\n",
    "    'obs': torch.randn(8, 4, 84, 84),\n",
    "    'action': torch.randint(0, 6, size=(8, 1,)),\n",
    "    'reward': torch.rand(8, 1),\n",
    "})\n",
    "\n",
    "%timeit t_split(tree, 1)"
   ]
  },
  {
   "cell_type": "markdown",
   "id": "31c3ec0b",
   "metadata": {},
   "source": [
    "### Performance of Tianshou Batch"
   ]
  },
  {
   "cell_type": "code",
   "execution_count": 25,
   "id": "9ead828a",
   "metadata": {
    "execution": {
     "iopub.execute_input": "2023-02-26T16:55:58.626069Z",
     "iopub.status.busy": "2023-02-26T16:55:58.625530Z",
     "iopub.status.idle": "2023-02-26T16:55:58.633361Z",
     "shell.execute_reply": "2023-02-26T16:55:58.632780Z"
    }
   },
   "outputs": [
    {
     "data": {
      "text/plain": [
       "Batch(\n",
       "    a: tensor([[[-0.3081, -0.8250, -0.2009],\n",
       "                [-0.7405, -1.2155, -0.8393]],\n",
       "       \n",
       "               [[-0.3081, -0.8250, -0.2009],\n",
       "                [-0.7405, -1.2155, -0.8393]],\n",
       "       \n",
       "               [[-0.3081, -0.8250, -0.2009],\n",
       "                [-0.7405, -1.2155, -0.8393]],\n",
       "       \n",
       "               [[-0.3081, -0.8250, -0.2009],\n",
       "                [-0.7405, -1.2155, -0.8393]],\n",
       "       \n",
       "               [[-0.3081, -0.8250, -0.2009],\n",
       "                [-0.7405, -1.2155, -0.8393]],\n",
       "       \n",
       "               [[-0.3081, -0.8250, -0.2009],\n",
       "                [-0.7405, -1.2155, -0.8393]],\n",
       "       \n",
       "               [[-0.3081, -0.8250, -0.2009],\n",
       "                [-0.7405, -1.2155, -0.8393]],\n",
       "       \n",
       "               [[-0.3081, -0.8250, -0.2009],\n",
       "                [-0.7405, -1.2155, -0.8393]]]),\n",
       "    x: Batch(\n",
       "           c: tensor([[[-0.5968, -2.1363,  0.6709, -0.3247],\n",
       "                       [-2.6082,  0.9464, -0.4210, -1.1703],\n",
       "                       [-0.7498, -0.0342, -0.5123,  0.1853]],\n",
       "              \n",
       "                      [[-0.5968, -2.1363,  0.6709, -0.3247],\n",
       "                       [-2.6082,  0.9464, -0.4210, -1.1703],\n",
       "                       [-0.7498, -0.0342, -0.5123,  0.1853]],\n",
       "              \n",
       "                      [[-0.5968, -2.1363,  0.6709, -0.3247],\n",
       "                       [-2.6082,  0.9464, -0.4210, -1.1703],\n",
       "                       [-0.7498, -0.0342, -0.5123,  0.1853]],\n",
       "              \n",
       "                      [[-0.5968, -2.1363,  0.6709, -0.3247],\n",
       "                       [-2.6082,  0.9464, -0.4210, -1.1703],\n",
       "                       [-0.7498, -0.0342, -0.5123,  0.1853]],\n",
       "              \n",
       "                      [[-0.5968, -2.1363,  0.6709, -0.3247],\n",
       "                       [-2.6082,  0.9464, -0.4210, -1.1703],\n",
       "                       [-0.7498, -0.0342, -0.5123,  0.1853]],\n",
       "              \n",
       "                      [[-0.5968, -2.1363,  0.6709, -0.3247],\n",
       "                       [-2.6082,  0.9464, -0.4210, -1.1703],\n",
       "                       [-0.7498, -0.0342, -0.5123,  0.1853]],\n",
       "              \n",
       "                      [[-0.5968, -2.1363,  0.6709, -0.3247],\n",
       "                       [-2.6082,  0.9464, -0.4210, -1.1703],\n",
       "                       [-0.7498, -0.0342, -0.5123,  0.1853]],\n",
       "              \n",
       "                      [[-0.5968, -2.1363,  0.6709, -0.3247],\n",
       "                       [-2.6082,  0.9464, -0.4210, -1.1703],\n",
       "                       [-0.7498, -0.0342, -0.5123,  0.1853]]]),\n",
       "       ),\n",
       ")"
      ]
     },
     "execution_count": 25,
     "metadata": {},
     "output_type": "execute_result"
    }
   ],
   "source": [
    "batches = [Batch(**_TREE_DATA_2) for _ in range(8)]\n",
    "\n",
    "Batch.stack(batches)"
   ]
  },
  {
   "cell_type": "code",
   "execution_count": 26,
   "id": "ec9037a3",
   "metadata": {
    "execution": {
     "iopub.execute_input": "2023-02-26T16:55:58.636005Z",
     "iopub.status.busy": "2023-02-26T16:55:58.635688Z",
     "iopub.status.idle": "2023-02-26T16:56:04.922783Z",
     "shell.execute_reply": "2023-02-26T16:56:04.922050Z"
    }
   },
   "outputs": [
    {
     "name": "stdout",
     "output_type": "stream",
     "text": [
      "77.4 µs ± 188 ns per loop (mean ± std. dev. of 7 runs, 10,000 loops each)\n"
     ]
    }
   ],
   "source": [
    "%timeit Batch.stack(batches)"
   ]
  },
  {
   "cell_type": "code",
   "execution_count": 27,
   "id": "cb8ab77e",
   "metadata": {
    "execution": {
     "iopub.execute_input": "2023-02-26T16:56:04.925468Z",
     "iopub.status.busy": "2023-02-26T16:56:04.925114Z",
     "iopub.status.idle": "2023-02-26T16:56:04.933192Z",
     "shell.execute_reply": "2023-02-26T16:56:04.932067Z"
    }
   },
   "outputs": [
    {
     "data": {
      "text/plain": [
       "Batch(\n",
       "    a: tensor([[-0.3081, -0.8250, -0.2009],\n",
       "               [-0.7405, -1.2155, -0.8393],\n",
       "               [-0.3081, -0.8250, -0.2009],\n",
       "               [-0.7405, -1.2155, -0.8393],\n",
       "               [-0.3081, -0.8250, -0.2009],\n",
       "               [-0.7405, -1.2155, -0.8393],\n",
       "               [-0.3081, -0.8250, -0.2009],\n",
       "               [-0.7405, -1.2155, -0.8393],\n",
       "               [-0.3081, -0.8250, -0.2009],\n",
       "               [-0.7405, -1.2155, -0.8393],\n",
       "               [-0.3081, -0.8250, -0.2009],\n",
       "               [-0.7405, -1.2155, -0.8393],\n",
       "               [-0.3081, -0.8250, -0.2009],\n",
       "               [-0.7405, -1.2155, -0.8393],\n",
       "               [-0.3081, -0.8250, -0.2009],\n",
       "               [-0.7405, -1.2155, -0.8393]]),\n",
       "    x: Batch(\n",
       "           c: tensor([[-0.5968, -2.1363,  0.6709, -0.3247],\n",
       "                      [-2.6082,  0.9464, -0.4210, -1.1703],\n",
       "                      [-0.7498, -0.0342, -0.5123,  0.1853],\n",
       "                      [-0.5968, -2.1363,  0.6709, -0.3247],\n",
       "                      [-2.6082,  0.9464, -0.4210, -1.1703],\n",
       "                      [-0.7498, -0.0342, -0.5123,  0.1853],\n",
       "                      [-0.5968, -2.1363,  0.6709, -0.3247],\n",
       "                      [-2.6082,  0.9464, -0.4210, -1.1703],\n",
       "                      [-0.7498, -0.0342, -0.5123,  0.1853],\n",
       "                      [-0.5968, -2.1363,  0.6709, -0.3247],\n",
       "                      [-2.6082,  0.9464, -0.4210, -1.1703],\n",
       "                      [-0.7498, -0.0342, -0.5123,  0.1853],\n",
       "                      [-0.5968, -2.1363,  0.6709, -0.3247],\n",
       "                      [-2.6082,  0.9464, -0.4210, -1.1703],\n",
       "                      [-0.7498, -0.0342, -0.5123,  0.1853],\n",
       "                      [-0.5968, -2.1363,  0.6709, -0.3247],\n",
       "                      [-2.6082,  0.9464, -0.4210, -1.1703],\n",
       "                      [-0.7498, -0.0342, -0.5123,  0.1853],\n",
       "                      [-0.5968, -2.1363,  0.6709, -0.3247],\n",
       "                      [-2.6082,  0.9464, -0.4210, -1.1703],\n",
       "                      [-0.7498, -0.0342, -0.5123,  0.1853],\n",
       "                      [-0.5968, -2.1363,  0.6709, -0.3247],\n",
       "                      [-2.6082,  0.9464, -0.4210, -1.1703],\n",
       "                      [-0.7498, -0.0342, -0.5123,  0.1853]]),\n",
       "       ),\n",
       ")"
      ]
     },
     "execution_count": 27,
     "metadata": {},
     "output_type": "execute_result"
    }
   ],
   "source": [
    "Batch.cat(batches)"
   ]
  },
  {
   "cell_type": "code",
   "execution_count": 28,
   "id": "18dfb045",
   "metadata": {
    "execution": {
     "iopub.execute_input": "2023-02-26T16:56:04.935901Z",
     "iopub.status.busy": "2023-02-26T16:56:04.935434Z",
     "iopub.status.idle": "2023-02-26T16:56:16.498447Z",
     "shell.execute_reply": "2023-02-26T16:56:16.497721Z"
    }
   },
   "outputs": [
    {
     "name": "stdout",
     "output_type": "stream",
     "text": [
      "142 µs ± 427 ns per loop (mean ± std. dev. of 7 runs, 10,000 loops each)\n"
     ]
    }
   ],
   "source": [
    "%timeit Batch.cat(batches)"
   ]
  },
  {
   "cell_type": "code",
   "execution_count": 29,
   "id": "c6688e51",
   "metadata": {
    "execution": {
     "iopub.execute_input": "2023-02-26T16:56:16.501120Z",
     "iopub.status.busy": "2023-02-26T16:56:16.500767Z",
     "iopub.status.idle": "2023-02-26T16:56:18.979404Z",
     "shell.execute_reply": "2023-02-26T16:56:18.978722Z"
    }
   },
   "outputs": [
    {
     "name": "stdout",
     "output_type": "stream",
     "text": [
      "305 µs ± 3.01 µs per loop (mean ± std. dev. of 7 runs, 1,000 loops each)\n"
     ]
    }
   ],
   "source": [
    "batch = Batch({\n",
    "    'obs': torch.randn(8, 4, 84, 84),\n",
    "    'action': torch.randint(0, 6, size=(8, 1,)),\n",
    "    'reward': torch.rand(8, 1)}\n",
    ")\n",
    "\n",
    "%timeit list(Batch.split(batch, 1, shuffle=False, merge_last=True))"
   ]
  },
  {
   "cell_type": "code",
   "execution_count": null,
   "id": "2539fbd9",
   "metadata": {},
   "outputs": [],
   "source": []
  }
 ],
 "metadata": {
  "kernelspec": {
   "display_name": "Python 3 (ipykernel)",
   "language": "python",
   "name": "python3"
  },
  "language_info": {
   "codemirror_mode": {
    "name": "ipython",
    "version": 3
   },
   "file_extension": ".py",
   "mimetype": "text/x-python",
   "name": "python",
   "nbconvert_exporter": "python",
   "pygments_lexer": "ipython3",
   "version": "3.8.16"
  }
 },
 "nbformat": 4,
 "nbformat_minor": 5
}
