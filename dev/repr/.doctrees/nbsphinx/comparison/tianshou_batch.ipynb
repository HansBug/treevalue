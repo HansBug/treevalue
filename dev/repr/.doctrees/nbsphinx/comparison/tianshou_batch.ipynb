{
 "cells": [
  {
   "cell_type": "markdown",
   "id": "9d39d946",
   "metadata": {},
   "source": [
    "# Comparison Between TreeValue and Tianshou Batch"
   ]
  },
  {
   "cell_type": "markdown",
   "id": "3c6db2d4",
   "metadata": {},
   "source": [
    "In this section, we will take a look at the feature and performance of the [Tianshou Batch](https://github.com/thu-ml/tianshou) library, which is developed by Tsinghua Machine Learning Group."
   ]
  },
  {
   "cell_type": "markdown",
   "id": "069361b0",
   "metadata": {},
   "source": [
    "Before starting the comparison, let us define some thing."
   ]
  },
  {
   "cell_type": "code",
   "execution_count": 1,
   "id": "06fc8d26",
   "metadata": {
    "execution": {
     "iopub.execute_input": "2023-02-27T13:46:46.897351Z",
     "iopub.status.busy": "2023-02-27T13:46:46.897055Z",
     "iopub.status.idle": "2023-02-27T13:46:47.898376Z",
     "shell.execute_reply": "2023-02-27T13:46:47.897569Z"
    }
   },
   "outputs": [
    {
     "name": "stderr",
     "output_type": "stream",
     "text": [
      "/opt/hostedtoolcache/Python/3.8.16/x64/lib/python3.8/site-packages/tqdm/auto.py:22: TqdmWarning: IProgress not found. Please update jupyter and ipywidgets. See https://ipywidgets.readthedocs.io/en/stable/user_install.html\n",
      "  from .autonotebook import tqdm as notebook_tqdm\n"
     ]
    }
   ],
   "source": [
    "import torch \n",
    "\n",
    "_TREE_DATA_1 = {'a': 1, 'b': 2, 'x': {'c': 3, 'd': 4}}\n",
    "_TREE_DATA_2 = {\n",
    "    'a': torch.randn(2, 3), \n",
    "    'x': {\n",
    "        'c': torch.randn(3, 4)\n",
    "    },\n",
    "}\n",
    "_TREE_DATA_3 = {\n",
    "    'obs': torch.randn(4, 84, 84),\n",
    "    'action': torch.randint(0, 6, size=(1,)),\n",
    "    'reward': torch.rand(1),\n",
    "}"
   ]
  },
  {
   "cell_type": "markdown",
   "id": "83461b25",
   "metadata": {},
   "source": [
    "## Read and Write Operation"
   ]
  },
  {
   "cell_type": "markdown",
   "id": "067b3f73",
   "metadata": {},
   "source": [
    "Reading and writing are the two most common operations in the tree data structure based on the data model (TreeValue and Tianshou Batch both belong to this type), so this section will compare the reading and writing performance of these two libraries."
   ]
  },
  {
   "cell_type": "markdown",
   "id": "5d09a5b7",
   "metadata": {},
   "source": [
    "### TreeValue's Get and Set"
   ]
  },
  {
   "cell_type": "code",
   "execution_count": 2,
   "id": "9519c4bb",
   "metadata": {
    "execution": {
     "iopub.execute_input": "2023-02-27T13:46:47.902416Z",
     "iopub.status.busy": "2023-02-27T13:46:47.901902Z",
     "iopub.status.idle": "2023-02-27T13:46:48.207827Z",
     "shell.execute_reply": "2023-02-27T13:46:48.207031Z"
    }
   },
   "outputs": [],
   "source": [
    "from treevalue import FastTreeValue\n",
    "\n",
    "t = FastTreeValue(_TREE_DATA_2)"
   ]
  },
  {
   "cell_type": "code",
   "execution_count": 3,
   "id": "11c37677",
   "metadata": {
    "execution": {
     "iopub.execute_input": "2023-02-27T13:46:48.212654Z",
     "iopub.status.busy": "2023-02-27T13:46:48.211249Z",
     "iopub.status.idle": "2023-02-27T13:46:48.223425Z",
     "shell.execute_reply": "2023-02-27T13:46:48.222750Z"
    }
   },
   "outputs": [
    {
     "data": {
      "text/plain": [
       "<FastTreeValue 0x7f5a88e96ac0>\n",
       "├── 'a' --> tensor([[ 0.5030,  0.1414,  0.8699],\n",
       "│                   [ 0.1882,  0.6535, -0.7220]])\n",
       "└── 'x' --> <FastTreeValue 0x7f5a88e96430>\n",
       "    └── 'c' --> tensor([[-0.1826,  0.6593,  0.0802, -1.6962],\n",
       "                        [-0.3041,  1.1822,  0.1079,  0.1236],\n",
       "                        [ 1.6155,  0.6978, -0.0491,  0.7802]])"
      ]
     },
     "execution_count": 3,
     "metadata": {},
     "output_type": "execute_result"
    }
   ],
   "source": [
    "t"
   ]
  },
  {
   "cell_type": "code",
   "execution_count": 4,
   "id": "fd70b0b9",
   "metadata": {
    "execution": {
     "iopub.execute_input": "2023-02-27T13:46:48.226758Z",
     "iopub.status.busy": "2023-02-27T13:46:48.226370Z",
     "iopub.status.idle": "2023-02-27T13:46:48.232750Z",
     "shell.execute_reply": "2023-02-27T13:46:48.232107Z"
    }
   },
   "outputs": [
    {
     "data": {
      "text/plain": [
       "tensor([[ 0.5030,  0.1414,  0.8699],\n",
       "        [ 0.1882,  0.6535, -0.7220]])"
      ]
     },
     "execution_count": 4,
     "metadata": {},
     "output_type": "execute_result"
    }
   ],
   "source": [
    "t.a"
   ]
  },
  {
   "cell_type": "code",
   "execution_count": 5,
   "id": "c18197bd",
   "metadata": {
    "execution": {
     "iopub.execute_input": "2023-02-27T13:46:48.236000Z",
     "iopub.status.busy": "2023-02-27T13:46:48.235438Z",
     "iopub.status.idle": "2023-02-27T13:46:53.009186Z",
     "shell.execute_reply": "2023-02-27T13:46:53.008121Z"
    }
   },
   "outputs": [
    {
     "name": "stdout",
     "output_type": "stream",
     "text": [
      "57.5 ns ± 3.61 ns per loop (mean ± std. dev. of 7 runs, 10,000,000 loops each)\n"
     ]
    }
   ],
   "source": [
    "%timeit t.a"
   ]
  },
  {
   "cell_type": "code",
   "execution_count": 6,
   "id": "bd52f867",
   "metadata": {
    "execution": {
     "iopub.execute_input": "2023-02-27T13:46:53.012178Z",
     "iopub.status.busy": "2023-02-27T13:46:53.011774Z",
     "iopub.status.idle": "2023-02-27T13:46:53.018107Z",
     "shell.execute_reply": "2023-02-27T13:46:53.017437Z"
    }
   },
   "outputs": [
    {
     "data": {
      "text/plain": [
       "<FastTreeValue 0x7f5a88e96ac0>\n",
       "├── 'a' --> tensor([[-1.3999, -0.4025, -1.2515],\n",
       "│                   [ 0.7182, -0.8130,  1.8546]])\n",
       "└── 'x' --> <FastTreeValue 0x7f5a88e96430>\n",
       "    └── 'c' --> tensor([[-0.1826,  0.6593,  0.0802, -1.6962],\n",
       "                        [-0.3041,  1.1822,  0.1079,  0.1236],\n",
       "                        [ 1.6155,  0.6978, -0.0491,  0.7802]])"
      ]
     },
     "execution_count": 6,
     "metadata": {},
     "output_type": "execute_result"
    }
   ],
   "source": [
    "new_value = torch.randn(2, 3)\n",
    "t.a = new_value\n",
    "\n",
    "t"
   ]
  },
  {
   "cell_type": "code",
   "execution_count": 7,
   "id": "bbe04d1c",
   "metadata": {
    "execution": {
     "iopub.execute_input": "2023-02-27T13:46:53.020839Z",
     "iopub.status.busy": "2023-02-27T13:46:53.020410Z",
     "iopub.status.idle": "2023-02-27T13:46:58.604219Z",
     "shell.execute_reply": "2023-02-27T13:46:58.603342Z"
    }
   },
   "outputs": [
    {
     "name": "stdout",
     "output_type": "stream",
     "text": [
      "68.8 ns ± 0.0307 ns per loop (mean ± std. dev. of 7 runs, 10,000,000 loops each)\n"
     ]
    }
   ],
   "source": [
    "%timeit t.a = new_value"
   ]
  },
  {
   "cell_type": "markdown",
   "id": "48c49731",
   "metadata": {},
   "source": [
    "### Tianshou Batch's Get and Set"
   ]
  },
  {
   "cell_type": "code",
   "execution_count": 8,
   "id": "f1bb14c1",
   "metadata": {
    "execution": {
     "iopub.execute_input": "2023-02-27T13:46:58.608044Z",
     "iopub.status.busy": "2023-02-27T13:46:58.607400Z",
     "iopub.status.idle": "2023-02-27T13:46:58.964595Z",
     "shell.execute_reply": "2023-02-27T13:46:58.963809Z"
    }
   },
   "outputs": [],
   "source": [
    "from tianshou.data import Batch\n",
    "\n",
    "b = Batch(**_TREE_DATA_2)"
   ]
  },
  {
   "cell_type": "code",
   "execution_count": 9,
   "id": "cb0777c3",
   "metadata": {
    "execution": {
     "iopub.execute_input": "2023-02-27T13:46:58.969285Z",
     "iopub.status.busy": "2023-02-27T13:46:58.967904Z",
     "iopub.status.idle": "2023-02-27T13:46:58.974971Z",
     "shell.execute_reply": "2023-02-27T13:46:58.974277Z"
    }
   },
   "outputs": [
    {
     "data": {
      "text/plain": [
       "Batch(\n",
       "    a: tensor([[ 0.5030,  0.1414,  0.8699],\n",
       "               [ 0.1882,  0.6535, -0.7220]]),\n",
       "    x: Batch(\n",
       "           c: tensor([[-0.1826,  0.6593,  0.0802, -1.6962],\n",
       "                      [-0.3041,  1.1822,  0.1079,  0.1236],\n",
       "                      [ 1.6155,  0.6978, -0.0491,  0.7802]]),\n",
       "       ),\n",
       ")"
      ]
     },
     "execution_count": 9,
     "metadata": {},
     "output_type": "execute_result"
    }
   ],
   "source": [
    "b"
   ]
  },
  {
   "cell_type": "code",
   "execution_count": 10,
   "id": "43ef8ea3",
   "metadata": {
    "execution": {
     "iopub.execute_input": "2023-02-27T13:46:58.977834Z",
     "iopub.status.busy": "2023-02-27T13:46:58.977430Z",
     "iopub.status.idle": "2023-02-27T13:46:58.982560Z",
     "shell.execute_reply": "2023-02-27T13:46:58.981918Z"
    }
   },
   "outputs": [
    {
     "data": {
      "text/plain": [
       "tensor([[ 0.5030,  0.1414,  0.8699],\n",
       "        [ 0.1882,  0.6535, -0.7220]])"
      ]
     },
     "execution_count": 10,
     "metadata": {},
     "output_type": "execute_result"
    }
   ],
   "source": [
    "b.a"
   ]
  },
  {
   "cell_type": "code",
   "execution_count": 11,
   "id": "b785ab72",
   "metadata": {
    "execution": {
     "iopub.execute_input": "2023-02-27T13:46:58.985213Z",
     "iopub.status.busy": "2023-02-27T13:46:58.984832Z",
     "iopub.status.idle": "2023-02-27T13:47:03.194228Z",
     "shell.execute_reply": "2023-02-27T13:47:03.193304Z"
    }
   },
   "outputs": [
    {
     "name": "stdout",
     "output_type": "stream",
     "text": [
      "51.8 ns ± 0.044 ns per loop (mean ± std. dev. of 7 runs, 10,000,000 loops each)\n"
     ]
    }
   ],
   "source": [
    "%timeit b.a"
   ]
  },
  {
   "cell_type": "code",
   "execution_count": 12,
   "id": "ad54dc69",
   "metadata": {
    "execution": {
     "iopub.execute_input": "2023-02-27T13:47:03.197462Z",
     "iopub.status.busy": "2023-02-27T13:47:03.196958Z",
     "iopub.status.idle": "2023-02-27T13:47:03.204576Z",
     "shell.execute_reply": "2023-02-27T13:47:03.203702Z"
    }
   },
   "outputs": [
    {
     "data": {
      "text/plain": [
       "Batch(\n",
       "    a: tensor([[ 0.0725,  1.3122, -0.5543],\n",
       "               [ 0.8493,  0.7631,  0.2013]]),\n",
       "    x: Batch(\n",
       "           c: tensor([[-0.1826,  0.6593,  0.0802, -1.6962],\n",
       "                      [-0.3041,  1.1822,  0.1079,  0.1236],\n",
       "                      [ 1.6155,  0.6978, -0.0491,  0.7802]]),\n",
       "       ),\n",
       ")"
      ]
     },
     "execution_count": 12,
     "metadata": {},
     "output_type": "execute_result"
    }
   ],
   "source": [
    "new_value = torch.randn(2, 3)\n",
    "b.a = new_value\n",
    "\n",
    "b"
   ]
  },
  {
   "cell_type": "code",
   "execution_count": 13,
   "id": "29b1d0bf",
   "metadata": {
    "execution": {
     "iopub.execute_input": "2023-02-27T13:47:03.207782Z",
     "iopub.status.busy": "2023-02-27T13:47:03.207317Z",
     "iopub.status.idle": "2023-02-27T13:47:06.769636Z",
     "shell.execute_reply": "2023-02-27T13:47:06.768713Z"
    }
   },
   "outputs": [
    {
     "name": "stdout",
     "output_type": "stream",
     "text": [
      "438 ns ± 0.111 ns per loop (mean ± std. dev. of 7 runs, 1,000,000 loops each)\n"
     ]
    }
   ],
   "source": [
    "%timeit b.a = new_value"
   ]
  },
  {
   "cell_type": "markdown",
   "id": "b61ad1d0",
   "metadata": {},
   "source": [
    "## Initialization"
   ]
  },
  {
   "cell_type": "markdown",
   "id": "d70f0d54",
   "metadata": {},
   "source": [
    "### TreeValue's Initialization"
   ]
  },
  {
   "cell_type": "code",
   "execution_count": 14,
   "id": "d32a679b",
   "metadata": {
    "execution": {
     "iopub.execute_input": "2023-02-27T13:47:06.773372Z",
     "iopub.status.busy": "2023-02-27T13:47:06.772685Z",
     "iopub.status.idle": "2023-02-27T13:47:13.479388Z",
     "shell.execute_reply": "2023-02-27T13:47:13.478446Z"
    }
   },
   "outputs": [
    {
     "name": "stdout",
     "output_type": "stream",
     "text": [
      "826 ns ± 1.24 ns per loop (mean ± std. dev. of 7 runs, 1,000,000 loops each)\n"
     ]
    }
   ],
   "source": [
    "%timeit FastTreeValue(_TREE_DATA_1)"
   ]
  },
  {
   "cell_type": "markdown",
   "id": "24f3707b",
   "metadata": {},
   "source": [
    "### Tianshou Batch's Initialization"
   ]
  },
  {
   "cell_type": "code",
   "execution_count": 15,
   "id": "ac3958df",
   "metadata": {
    "execution": {
     "iopub.execute_input": "2023-02-27T13:47:13.482764Z",
     "iopub.status.busy": "2023-02-27T13:47:13.482235Z",
     "iopub.status.idle": "2023-02-27T13:47:22.349286Z",
     "shell.execute_reply": "2023-02-27T13:47:22.348363Z"
    }
   },
   "outputs": [
    {
     "name": "stdout",
     "output_type": "stream",
     "text": [
      "10.9 µs ± 22.2 ns per loop (mean ± std. dev. of 7 runs, 100,000 loops each)\n"
     ]
    }
   ],
   "source": [
    "%timeit Batch(**_TREE_DATA_1)"
   ]
  },
  {
   "cell_type": "markdown",
   "id": "1ab82e2d",
   "metadata": {},
   "source": [
    "## Deep Copy Operation"
   ]
  },
  {
   "cell_type": "code",
   "execution_count": 16,
   "id": "210a9442",
   "metadata": {
    "execution": {
     "iopub.execute_input": "2023-02-27T13:47:22.352599Z",
     "iopub.status.busy": "2023-02-27T13:47:22.352066Z",
     "iopub.status.idle": "2023-02-27T13:47:22.356340Z",
     "shell.execute_reply": "2023-02-27T13:47:22.355689Z"
    }
   },
   "outputs": [],
   "source": [
    "import copy"
   ]
  },
  {
   "cell_type": "markdown",
   "id": "5a736274",
   "metadata": {},
   "source": [
    "### Deep Copy of TreeValue"
   ]
  },
  {
   "cell_type": "code",
   "execution_count": 17,
   "id": "f9bcadd6",
   "metadata": {
    "execution": {
     "iopub.execute_input": "2023-02-27T13:47:22.359211Z",
     "iopub.status.busy": "2023-02-27T13:47:22.358821Z",
     "iopub.status.idle": "2023-02-27T13:47:34.076253Z",
     "shell.execute_reply": "2023-02-27T13:47:34.075546Z"
    }
   },
   "outputs": [
    {
     "name": "stdout",
     "output_type": "stream",
     "text": [
      "144 µs ± 466 ns per loop (mean ± std. dev. of 7 runs, 10,000 loops each)\n"
     ]
    }
   ],
   "source": [
    "t3 = FastTreeValue(_TREE_DATA_3)\n",
    "%timeit copy.deepcopy(t3)"
   ]
  },
  {
   "cell_type": "markdown",
   "id": "bf8be7ea",
   "metadata": {},
   "source": [
    "### Deep Copy of Tianshou Batch"
   ]
  },
  {
   "cell_type": "code",
   "execution_count": 18,
   "id": "91998e6f",
   "metadata": {
    "execution": {
     "iopub.execute_input": "2023-02-27T13:47:34.079273Z",
     "iopub.status.busy": "2023-02-27T13:47:34.078994Z",
     "iopub.status.idle": "2023-02-27T13:47:45.811868Z",
     "shell.execute_reply": "2023-02-27T13:47:45.811221Z"
    }
   },
   "outputs": [
    {
     "name": "stdout",
     "output_type": "stream",
     "text": [
      "144 µs ± 336 ns per loop (mean ± std. dev. of 7 runs, 10,000 loops each)\n"
     ]
    }
   ],
   "source": [
    "b3 = Batch(**_TREE_DATA_3)\n",
    "%timeit copy.deepcopy(b3)"
   ]
  },
  {
   "cell_type": "markdown",
   "id": "223162fb",
   "metadata": {},
   "source": [
    "## Stack, Concat and Split Operation"
   ]
  },
  {
   "cell_type": "markdown",
   "id": "85fa4a73",
   "metadata": {},
   "source": [
    "### Performance of TreeValue"
   ]
  },
  {
   "cell_type": "code",
   "execution_count": 19,
   "id": "a0c2b697",
   "metadata": {
    "execution": {
     "iopub.execute_input": "2023-02-27T13:47:45.814993Z",
     "iopub.status.busy": "2023-02-27T13:47:45.814551Z",
     "iopub.status.idle": "2023-02-27T13:47:45.818012Z",
     "shell.execute_reply": "2023-02-27T13:47:45.817427Z"
    }
   },
   "outputs": [],
   "source": [
    "trees = [FastTreeValue(_TREE_DATA_2) for _ in range(8)]"
   ]
  },
  {
   "cell_type": "code",
   "execution_count": 20,
   "id": "017ea5a5",
   "metadata": {
    "execution": {
     "iopub.execute_input": "2023-02-27T13:47:45.820717Z",
     "iopub.status.busy": "2023-02-27T13:47:45.820324Z",
     "iopub.status.idle": "2023-02-27T13:47:45.827623Z",
     "shell.execute_reply": "2023-02-27T13:47:45.827041Z"
    }
   },
   "outputs": [
    {
     "data": {
      "text/plain": [
       "<FastTreeValue 0x7f59dadb08b0>\n",
       "├── 'a' --> tensor([[[ 0.5030,  0.1414,  0.8699],\n",
       "│                    [ 0.1882,  0.6535, -0.7220]],\n",
       "│           \n",
       "│                   [[ 0.5030,  0.1414,  0.8699],\n",
       "│                    [ 0.1882,  0.6535, -0.7220]],\n",
       "│           \n",
       "│                   [[ 0.5030,  0.1414,  0.8699],\n",
       "│                    [ 0.1882,  0.6535, -0.7220]],\n",
       "│           \n",
       "│                   [[ 0.5030,  0.1414,  0.8699],\n",
       "│                    [ 0.1882,  0.6535, -0.7220]],\n",
       "│           \n",
       "│                   [[ 0.5030,  0.1414,  0.8699],\n",
       "│                    [ 0.1882,  0.6535, -0.7220]],\n",
       "│           \n",
       "│                   [[ 0.5030,  0.1414,  0.8699],\n",
       "│                    [ 0.1882,  0.6535, -0.7220]],\n",
       "│           \n",
       "│                   [[ 0.5030,  0.1414,  0.8699],\n",
       "│                    [ 0.1882,  0.6535, -0.7220]],\n",
       "│           \n",
       "│                   [[ 0.5030,  0.1414,  0.8699],\n",
       "│                    [ 0.1882,  0.6535, -0.7220]]])\n",
       "└── 'x' --> <FastTreeValue 0x7f59dadb04f0>\n",
       "    └── 'c' --> tensor([[[-0.1826,  0.6593,  0.0802, -1.6962],\n",
       "                         [-0.3041,  1.1822,  0.1079,  0.1236],\n",
       "                         [ 1.6155,  0.6978, -0.0491,  0.7802]],\n",
       "                \n",
       "                        [[-0.1826,  0.6593,  0.0802, -1.6962],\n",
       "                         [-0.3041,  1.1822,  0.1079,  0.1236],\n",
       "                         [ 1.6155,  0.6978, -0.0491,  0.7802]],\n",
       "                \n",
       "                        [[-0.1826,  0.6593,  0.0802, -1.6962],\n",
       "                         [-0.3041,  1.1822,  0.1079,  0.1236],\n",
       "                         [ 1.6155,  0.6978, -0.0491,  0.7802]],\n",
       "                \n",
       "                        [[-0.1826,  0.6593,  0.0802, -1.6962],\n",
       "                         [-0.3041,  1.1822,  0.1079,  0.1236],\n",
       "                         [ 1.6155,  0.6978, -0.0491,  0.7802]],\n",
       "                \n",
       "                        [[-0.1826,  0.6593,  0.0802, -1.6962],\n",
       "                         [-0.3041,  1.1822,  0.1079,  0.1236],\n",
       "                         [ 1.6155,  0.6978, -0.0491,  0.7802]],\n",
       "                \n",
       "                        [[-0.1826,  0.6593,  0.0802, -1.6962],\n",
       "                         [-0.3041,  1.1822,  0.1079,  0.1236],\n",
       "                         [ 1.6155,  0.6978, -0.0491,  0.7802]],\n",
       "                \n",
       "                        [[-0.1826,  0.6593,  0.0802, -1.6962],\n",
       "                         [-0.3041,  1.1822,  0.1079,  0.1236],\n",
       "                         [ 1.6155,  0.6978, -0.0491,  0.7802]],\n",
       "                \n",
       "                        [[-0.1826,  0.6593,  0.0802, -1.6962],\n",
       "                         [-0.3041,  1.1822,  0.1079,  0.1236],\n",
       "                         [ 1.6155,  0.6978, -0.0491,  0.7802]]])"
      ]
     },
     "execution_count": 20,
     "metadata": {},
     "output_type": "execute_result"
    }
   ],
   "source": [
    "t_stack = FastTreeValue.func(subside=True)(torch.stack)\n",
    "\n",
    "t_stack(trees)"
   ]
  },
  {
   "cell_type": "code",
   "execution_count": 21,
   "id": "f8b3f415",
   "metadata": {
    "execution": {
     "iopub.execute_input": "2023-02-27T13:47:45.830477Z",
     "iopub.status.busy": "2023-02-27T13:47:45.830069Z",
     "iopub.status.idle": "2023-02-27T13:47:48.427094Z",
     "shell.execute_reply": "2023-02-27T13:47:48.426121Z"
    }
   },
   "outputs": [
    {
     "name": "stdout",
     "output_type": "stream",
     "text": [
      "31.9 µs ± 59.1 ns per loop (mean ± std. dev. of 7 runs, 10,000 loops each)\n"
     ]
    }
   ],
   "source": [
    "%timeit t_stack(trees)"
   ]
  },
  {
   "cell_type": "code",
   "execution_count": 22,
   "id": "94b56771",
   "metadata": {
    "execution": {
     "iopub.execute_input": "2023-02-27T13:47:48.430983Z",
     "iopub.status.busy": "2023-02-27T13:47:48.430312Z",
     "iopub.status.idle": "2023-02-27T13:47:48.439408Z",
     "shell.execute_reply": "2023-02-27T13:47:48.438690Z"
    }
   },
   "outputs": [
    {
     "data": {
      "text/plain": [
       "<FastTreeValue 0x7f59dadb02b0>\n",
       "├── 'a' --> tensor([[ 0.5030,  0.1414,  0.8699],\n",
       "│                   [ 0.1882,  0.6535, -0.7220],\n",
       "│                   [ 0.5030,  0.1414,  0.8699],\n",
       "│                   [ 0.1882,  0.6535, -0.7220],\n",
       "│                   [ 0.5030,  0.1414,  0.8699],\n",
       "│                   [ 0.1882,  0.6535, -0.7220],\n",
       "│                   [ 0.5030,  0.1414,  0.8699],\n",
       "│                   [ 0.1882,  0.6535, -0.7220],\n",
       "│                   [ 0.5030,  0.1414,  0.8699],\n",
       "│                   [ 0.1882,  0.6535, -0.7220],\n",
       "│                   [ 0.5030,  0.1414,  0.8699],\n",
       "│                   [ 0.1882,  0.6535, -0.7220],\n",
       "│                   [ 0.5030,  0.1414,  0.8699],\n",
       "│                   [ 0.1882,  0.6535, -0.7220],\n",
       "│                   [ 0.5030,  0.1414,  0.8699],\n",
       "│                   [ 0.1882,  0.6535, -0.7220]])\n",
       "└── 'x' --> <FastTreeValue 0x7f5a88e92370>\n",
       "    └── 'c' --> tensor([[-0.1826,  0.6593,  0.0802, -1.6962],\n",
       "                        [-0.3041,  1.1822,  0.1079,  0.1236],\n",
       "                        [ 1.6155,  0.6978, -0.0491,  0.7802],\n",
       "                        [-0.1826,  0.6593,  0.0802, -1.6962],\n",
       "                        [-0.3041,  1.1822,  0.1079,  0.1236],\n",
       "                        [ 1.6155,  0.6978, -0.0491,  0.7802],\n",
       "                        [-0.1826,  0.6593,  0.0802, -1.6962],\n",
       "                        [-0.3041,  1.1822,  0.1079,  0.1236],\n",
       "                        [ 1.6155,  0.6978, -0.0491,  0.7802],\n",
       "                        [-0.1826,  0.6593,  0.0802, -1.6962],\n",
       "                        [-0.3041,  1.1822,  0.1079,  0.1236],\n",
       "                        [ 1.6155,  0.6978, -0.0491,  0.7802],\n",
       "                        [-0.1826,  0.6593,  0.0802, -1.6962],\n",
       "                        [-0.3041,  1.1822,  0.1079,  0.1236],\n",
       "                        [ 1.6155,  0.6978, -0.0491,  0.7802],\n",
       "                        [-0.1826,  0.6593,  0.0802, -1.6962],\n",
       "                        [-0.3041,  1.1822,  0.1079,  0.1236],\n",
       "                        [ 1.6155,  0.6978, -0.0491,  0.7802],\n",
       "                        [-0.1826,  0.6593,  0.0802, -1.6962],\n",
       "                        [-0.3041,  1.1822,  0.1079,  0.1236],\n",
       "                        [ 1.6155,  0.6978, -0.0491,  0.7802],\n",
       "                        [-0.1826,  0.6593,  0.0802, -1.6962],\n",
       "                        [-0.3041,  1.1822,  0.1079,  0.1236],\n",
       "                        [ 1.6155,  0.6978, -0.0491,  0.7802]])"
      ]
     },
     "execution_count": 22,
     "metadata": {},
     "output_type": "execute_result"
    }
   ],
   "source": [
    "t_cat = FastTreeValue.func(subside=True)(torch.cat)\n",
    "\n",
    "t_cat(trees)"
   ]
  },
  {
   "cell_type": "code",
   "execution_count": 23,
   "id": "5e9c06a6",
   "metadata": {
    "execution": {
     "iopub.execute_input": "2023-02-27T13:47:48.442666Z",
     "iopub.status.busy": "2023-02-27T13:47:48.442158Z",
     "iopub.status.idle": "2023-02-27T13:47:50.891096Z",
     "shell.execute_reply": "2023-02-27T13:47:50.890114Z"
    }
   },
   "outputs": [
    {
     "name": "stdout",
     "output_type": "stream",
     "text": [
      "30.2 µs ± 625 ns per loop (mean ± std. dev. of 7 runs, 10,000 loops each)\n"
     ]
    }
   ],
   "source": [
    "%timeit t_cat(trees)"
   ]
  },
  {
   "cell_type": "code",
   "execution_count": 24,
   "id": "a3ab5c8f",
   "metadata": {
    "execution": {
     "iopub.execute_input": "2023-02-27T13:47:50.894831Z",
     "iopub.status.busy": "2023-02-27T13:47:50.894097Z",
     "iopub.status.idle": "2023-02-27T13:47:55.456839Z",
     "shell.execute_reply": "2023-02-27T13:47:55.455930Z"
    }
   },
   "outputs": [
    {
     "name": "stdout",
     "output_type": "stream",
     "text": [
      "56.1 µs ± 93.3 ns per loop (mean ± std. dev. of 7 runs, 10,000 loops each)\n"
     ]
    }
   ],
   "source": [
    "t_split = FastTreeValue.func(rise=True)(torch.split)\n",
    "tree = FastTreeValue({\n",
    "    'obs': torch.randn(8, 4, 84, 84),\n",
    "    'action': torch.randint(0, 6, size=(8, 1,)),\n",
    "    'reward': torch.rand(8, 1),\n",
    "})\n",
    "\n",
    "%timeit t_split(tree, 1)"
   ]
  },
  {
   "cell_type": "markdown",
   "id": "31c3ec0b",
   "metadata": {},
   "source": [
    "### Performance of Tianshou Batch"
   ]
  },
  {
   "cell_type": "code",
   "execution_count": 25,
   "id": "9ead828a",
   "metadata": {
    "execution": {
     "iopub.execute_input": "2023-02-27T13:47:55.460352Z",
     "iopub.status.busy": "2023-02-27T13:47:55.459744Z",
     "iopub.status.idle": "2023-02-27T13:47:55.468255Z",
     "shell.execute_reply": "2023-02-27T13:47:55.467519Z"
    }
   },
   "outputs": [
    {
     "data": {
      "text/plain": [
       "Batch(\n",
       "    x: Batch(\n",
       "           c: tensor([[[-0.1826,  0.6593,  0.0802, -1.6962],\n",
       "                       [-0.3041,  1.1822,  0.1079,  0.1236],\n",
       "                       [ 1.6155,  0.6978, -0.0491,  0.7802]],\n",
       "              \n",
       "                      [[-0.1826,  0.6593,  0.0802, -1.6962],\n",
       "                       [-0.3041,  1.1822,  0.1079,  0.1236],\n",
       "                       [ 1.6155,  0.6978, -0.0491,  0.7802]],\n",
       "              \n",
       "                      [[-0.1826,  0.6593,  0.0802, -1.6962],\n",
       "                       [-0.3041,  1.1822,  0.1079,  0.1236],\n",
       "                       [ 1.6155,  0.6978, -0.0491,  0.7802]],\n",
       "              \n",
       "                      [[-0.1826,  0.6593,  0.0802, -1.6962],\n",
       "                       [-0.3041,  1.1822,  0.1079,  0.1236],\n",
       "                       [ 1.6155,  0.6978, -0.0491,  0.7802]],\n",
       "              \n",
       "                      [[-0.1826,  0.6593,  0.0802, -1.6962],\n",
       "                       [-0.3041,  1.1822,  0.1079,  0.1236],\n",
       "                       [ 1.6155,  0.6978, -0.0491,  0.7802]],\n",
       "              \n",
       "                      [[-0.1826,  0.6593,  0.0802, -1.6962],\n",
       "                       [-0.3041,  1.1822,  0.1079,  0.1236],\n",
       "                       [ 1.6155,  0.6978, -0.0491,  0.7802]],\n",
       "              \n",
       "                      [[-0.1826,  0.6593,  0.0802, -1.6962],\n",
       "                       [-0.3041,  1.1822,  0.1079,  0.1236],\n",
       "                       [ 1.6155,  0.6978, -0.0491,  0.7802]],\n",
       "              \n",
       "                      [[-0.1826,  0.6593,  0.0802, -1.6962],\n",
       "                       [-0.3041,  1.1822,  0.1079,  0.1236],\n",
       "                       [ 1.6155,  0.6978, -0.0491,  0.7802]]]),\n",
       "       ),\n",
       "    a: tensor([[[ 0.5030,  0.1414,  0.8699],\n",
       "                [ 0.1882,  0.6535, -0.7220]],\n",
       "       \n",
       "               [[ 0.5030,  0.1414,  0.8699],\n",
       "                [ 0.1882,  0.6535, -0.7220]],\n",
       "       \n",
       "               [[ 0.5030,  0.1414,  0.8699],\n",
       "                [ 0.1882,  0.6535, -0.7220]],\n",
       "       \n",
       "               [[ 0.5030,  0.1414,  0.8699],\n",
       "                [ 0.1882,  0.6535, -0.7220]],\n",
       "       \n",
       "               [[ 0.5030,  0.1414,  0.8699],\n",
       "                [ 0.1882,  0.6535, -0.7220]],\n",
       "       \n",
       "               [[ 0.5030,  0.1414,  0.8699],\n",
       "                [ 0.1882,  0.6535, -0.7220]],\n",
       "       \n",
       "               [[ 0.5030,  0.1414,  0.8699],\n",
       "                [ 0.1882,  0.6535, -0.7220]],\n",
       "       \n",
       "               [[ 0.5030,  0.1414,  0.8699],\n",
       "                [ 0.1882,  0.6535, -0.7220]]]),\n",
       ")"
      ]
     },
     "execution_count": 25,
     "metadata": {},
     "output_type": "execute_result"
    }
   ],
   "source": [
    "batches = [Batch(**_TREE_DATA_2) for _ in range(8)]\n",
    "\n",
    "Batch.stack(batches)"
   ]
  },
  {
   "cell_type": "code",
   "execution_count": 26,
   "id": "ec9037a3",
   "metadata": {
    "execution": {
     "iopub.execute_input": "2023-02-27T13:47:55.470959Z",
     "iopub.status.busy": "2023-02-27T13:47:55.470664Z",
     "iopub.status.idle": "2023-02-27T13:48:01.771842Z",
     "shell.execute_reply": "2023-02-27T13:48:01.770920Z"
    }
   },
   "outputs": [
    {
     "name": "stdout",
     "output_type": "stream",
     "text": [
      "77.6 µs ± 95.8 ns per loop (mean ± std. dev. of 7 runs, 10,000 loops each)\n"
     ]
    }
   ],
   "source": [
    "%timeit Batch.stack(batches)"
   ]
  },
  {
   "cell_type": "code",
   "execution_count": 27,
   "id": "cb8ab77e",
   "metadata": {
    "execution": {
     "iopub.execute_input": "2023-02-27T13:48:01.776013Z",
     "iopub.status.busy": "2023-02-27T13:48:01.775274Z",
     "iopub.status.idle": "2023-02-27T13:48:01.783693Z",
     "shell.execute_reply": "2023-02-27T13:48:01.782987Z"
    }
   },
   "outputs": [
    {
     "data": {
      "text/plain": [
       "Batch(\n",
       "    x: Batch(\n",
       "           c: tensor([[-0.1826,  0.6593,  0.0802, -1.6962],\n",
       "                      [-0.3041,  1.1822,  0.1079,  0.1236],\n",
       "                      [ 1.6155,  0.6978, -0.0491,  0.7802],\n",
       "                      [-0.1826,  0.6593,  0.0802, -1.6962],\n",
       "                      [-0.3041,  1.1822,  0.1079,  0.1236],\n",
       "                      [ 1.6155,  0.6978, -0.0491,  0.7802],\n",
       "                      [-0.1826,  0.6593,  0.0802, -1.6962],\n",
       "                      [-0.3041,  1.1822,  0.1079,  0.1236],\n",
       "                      [ 1.6155,  0.6978, -0.0491,  0.7802],\n",
       "                      [-0.1826,  0.6593,  0.0802, -1.6962],\n",
       "                      [-0.3041,  1.1822,  0.1079,  0.1236],\n",
       "                      [ 1.6155,  0.6978, -0.0491,  0.7802],\n",
       "                      [-0.1826,  0.6593,  0.0802, -1.6962],\n",
       "                      [-0.3041,  1.1822,  0.1079,  0.1236],\n",
       "                      [ 1.6155,  0.6978, -0.0491,  0.7802],\n",
       "                      [-0.1826,  0.6593,  0.0802, -1.6962],\n",
       "                      [-0.3041,  1.1822,  0.1079,  0.1236],\n",
       "                      [ 1.6155,  0.6978, -0.0491,  0.7802],\n",
       "                      [-0.1826,  0.6593,  0.0802, -1.6962],\n",
       "                      [-0.3041,  1.1822,  0.1079,  0.1236],\n",
       "                      [ 1.6155,  0.6978, -0.0491,  0.7802],\n",
       "                      [-0.1826,  0.6593,  0.0802, -1.6962],\n",
       "                      [-0.3041,  1.1822,  0.1079,  0.1236],\n",
       "                      [ 1.6155,  0.6978, -0.0491,  0.7802]]),\n",
       "       ),\n",
       "    a: tensor([[ 0.5030,  0.1414,  0.8699],\n",
       "               [ 0.1882,  0.6535, -0.7220],\n",
       "               [ 0.5030,  0.1414,  0.8699],\n",
       "               [ 0.1882,  0.6535, -0.7220],\n",
       "               [ 0.5030,  0.1414,  0.8699],\n",
       "               [ 0.1882,  0.6535, -0.7220],\n",
       "               [ 0.5030,  0.1414,  0.8699],\n",
       "               [ 0.1882,  0.6535, -0.7220],\n",
       "               [ 0.5030,  0.1414,  0.8699],\n",
       "               [ 0.1882,  0.6535, -0.7220],\n",
       "               [ 0.5030,  0.1414,  0.8699],\n",
       "               [ 0.1882,  0.6535, -0.7220],\n",
       "               [ 0.5030,  0.1414,  0.8699],\n",
       "               [ 0.1882,  0.6535, -0.7220],\n",
       "               [ 0.5030,  0.1414,  0.8699],\n",
       "               [ 0.1882,  0.6535, -0.7220]]),\n",
       ")"
      ]
     },
     "execution_count": 27,
     "metadata": {},
     "output_type": "execute_result"
    }
   ],
   "source": [
    "Batch.cat(batches)"
   ]
  },
  {
   "cell_type": "code",
   "execution_count": 28,
   "id": "18dfb045",
   "metadata": {
    "execution": {
     "iopub.execute_input": "2023-02-27T13:48:01.787093Z",
     "iopub.status.busy": "2023-02-27T13:48:01.786486Z",
     "iopub.status.idle": "2023-02-27T13:48:13.565707Z",
     "shell.execute_reply": "2023-02-27T13:48:13.550785Z"
    }
   },
   "outputs": [
    {
     "name": "stdout",
     "output_type": "stream",
     "text": [
      "145 µs ± 420 ns per loop (mean ± std. dev. of 7 runs, 10,000 loops each)\n"
     ]
    }
   ],
   "source": [
    "%timeit Batch.cat(batches)"
   ]
  },
  {
   "cell_type": "code",
   "execution_count": 29,
   "id": "c6688e51",
   "metadata": {
    "execution": {
     "iopub.execute_input": "2023-02-27T13:48:13.569693Z",
     "iopub.status.busy": "2023-02-27T13:48:13.568882Z",
     "iopub.status.idle": "2023-02-27T13:48:16.078831Z",
     "shell.execute_reply": "2023-02-27T13:48:16.078080Z"
    }
   },
   "outputs": [
    {
     "name": "stdout",
     "output_type": "stream",
     "text": [
      "305 µs ± 14.4 µs per loop (mean ± std. dev. of 7 runs, 1,000 loops each)\n"
     ]
    }
   ],
   "source": [
    "batch = Batch({\n",
    "    'obs': torch.randn(8, 4, 84, 84),\n",
    "    'action': torch.randint(0, 6, size=(8, 1,)),\n",
    "    'reward': torch.rand(8, 1)}\n",
    ")\n",
    "\n",
    "%timeit list(Batch.split(batch, 1, shuffle=False, merge_last=True))"
   ]
  },
  {
   "cell_type": "code",
   "execution_count": null,
   "id": "2539fbd9",
   "metadata": {},
   "outputs": [],
   "source": []
  }
 ],
 "metadata": {
  "kernelspec": {
   "display_name": "Python 3 (ipykernel)",
   "language": "python",
   "name": "python3"
  },
  "language_info": {
   "codemirror_mode": {
    "name": "ipython",
    "version": 3
   },
   "file_extension": ".py",
   "mimetype": "text/x-python",
   "name": "python",
   "nbconvert_exporter": "python",
   "pygments_lexer": "ipython3",
   "version": "3.8.16"
  }
 },
 "nbformat": 4,
 "nbformat_minor": 5
}
