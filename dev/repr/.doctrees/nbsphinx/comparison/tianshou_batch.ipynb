{
 "cells": [
  {
   "cell_type": "markdown",
   "id": "9d39d946",
   "metadata": {},
   "source": [
    "# Comparison Between TreeValue and Tianshou Batch"
   ]
  },
  {
   "cell_type": "markdown",
   "id": "3c6db2d4",
   "metadata": {},
   "source": [
    "In this section, we will take a look at the feature and performance of the [Tianshou Batch](https://github.com/thu-ml/tianshou) library, which is developed by Tsinghua Machine Learning Group."
   ]
  },
  {
   "cell_type": "markdown",
   "id": "069361b0",
   "metadata": {},
   "source": [
    "Before starting the comparison, let us define some thing."
   ]
  },
  {
   "cell_type": "code",
   "execution_count": 1,
   "id": "06fc8d26",
   "metadata": {
    "execution": {
     "iopub.execute_input": "2023-02-27T12:59:09.619584Z",
     "iopub.status.busy": "2023-02-27T12:59:09.619161Z",
     "iopub.status.idle": "2023-02-27T12:59:10.590277Z",
     "shell.execute_reply": "2023-02-27T12:59:10.588978Z"
    }
   },
   "outputs": [
    {
     "name": "stderr",
     "output_type": "stream",
     "text": [
      "/opt/hostedtoolcache/Python/3.8.16/x64/lib/python3.8/site-packages/tqdm/auto.py:22: TqdmWarning: IProgress not found. Please update jupyter and ipywidgets. See https://ipywidgets.readthedocs.io/en/stable/user_install.html\n",
      "  from .autonotebook import tqdm as notebook_tqdm\n"
     ]
    }
   ],
   "source": [
    "import torch \n",
    "\n",
    "_TREE_DATA_1 = {'a': 1, 'b': 2, 'x': {'c': 3, 'd': 4}}\n",
    "_TREE_DATA_2 = {\n",
    "    'a': torch.randn(2, 3), \n",
    "    'x': {\n",
    "        'c': torch.randn(3, 4)\n",
    "    },\n",
    "}\n",
    "_TREE_DATA_3 = {\n",
    "    'obs': torch.randn(4, 84, 84),\n",
    "    'action': torch.randint(0, 6, size=(1,)),\n",
    "    'reward': torch.rand(1),\n",
    "}"
   ]
  },
  {
   "cell_type": "markdown",
   "id": "83461b25",
   "metadata": {},
   "source": [
    "## Read and Write Operation"
   ]
  },
  {
   "cell_type": "markdown",
   "id": "067b3f73",
   "metadata": {},
   "source": [
    "Reading and writing are the two most common operations in the tree data structure based on the data model (TreeValue and Tianshou Batch both belong to this type), so this section will compare the reading and writing performance of these two libraries."
   ]
  },
  {
   "cell_type": "markdown",
   "id": "5d09a5b7",
   "metadata": {},
   "source": [
    "### TreeValue's Get and Set"
   ]
  },
  {
   "cell_type": "code",
   "execution_count": 2,
   "id": "9519c4bb",
   "metadata": {
    "execution": {
     "iopub.execute_input": "2023-02-27T12:59:10.594076Z",
     "iopub.status.busy": "2023-02-27T12:59:10.593556Z",
     "iopub.status.idle": "2023-02-27T12:59:10.885178Z",
     "shell.execute_reply": "2023-02-27T12:59:10.884386Z"
    }
   },
   "outputs": [],
   "source": [
    "from treevalue import FastTreeValue\n",
    "\n",
    "t = FastTreeValue(_TREE_DATA_2)"
   ]
  },
  {
   "cell_type": "code",
   "execution_count": 3,
   "id": "11c37677",
   "metadata": {
    "execution": {
     "iopub.execute_input": "2023-02-27T12:59:10.889143Z",
     "iopub.status.busy": "2023-02-27T12:59:10.888602Z",
     "iopub.status.idle": "2023-02-27T12:59:10.898393Z",
     "shell.execute_reply": "2023-02-27T12:59:10.897770Z"
    }
   },
   "outputs": [
    {
     "data": {
      "text/plain": [
       "<FastTreeValue 0x7f6b6055fe20>\n",
       "├── 'a' --> tensor([[ 0.6729,  0.5967, -1.1591],\n",
       "│                   [-0.3069,  0.9622, -0.9610]])\n",
       "└── 'x' --> <FastTreeValue 0x7f6b605cc100>\n",
       "    └── 'c' --> tensor([[ 0.7303,  0.5949,  0.1081,  0.0708],\n",
       "                        [-1.1417,  0.7616, -0.5957, -1.3031],\n",
       "                        [ 0.0089, -1.4327,  0.5378, -0.4435]])"
      ]
     },
     "execution_count": 3,
     "metadata": {},
     "output_type": "execute_result"
    }
   ],
   "source": [
    "t"
   ]
  },
  {
   "cell_type": "code",
   "execution_count": 4,
   "id": "fd70b0b9",
   "metadata": {
    "execution": {
     "iopub.execute_input": "2023-02-27T12:59:10.901321Z",
     "iopub.status.busy": "2023-02-27T12:59:10.900960Z",
     "iopub.status.idle": "2023-02-27T12:59:10.906776Z",
     "shell.execute_reply": "2023-02-27T12:59:10.906151Z"
    }
   },
   "outputs": [
    {
     "data": {
      "text/plain": [
       "tensor([[ 0.6729,  0.5967, -1.1591],\n",
       "        [-0.3069,  0.9622, -0.9610]])"
      ]
     },
     "execution_count": 4,
     "metadata": {},
     "output_type": "execute_result"
    }
   ],
   "source": [
    "t.a"
   ]
  },
  {
   "cell_type": "code",
   "execution_count": 5,
   "id": "c18197bd",
   "metadata": {
    "execution": {
     "iopub.execute_input": "2023-02-27T12:59:10.909615Z",
     "iopub.status.busy": "2023-02-27T12:59:10.909259Z",
     "iopub.status.idle": "2023-02-27T12:59:16.006616Z",
     "shell.execute_reply": "2023-02-27T12:59:16.005450Z"
    }
   },
   "outputs": [
    {
     "name": "stdout",
     "output_type": "stream",
     "text": [
      "62.7 ns ± 0.0517 ns per loop (mean ± std. dev. of 7 runs, 10,000,000 loops each)\n"
     ]
    }
   ],
   "source": [
    "%timeit t.a"
   ]
  },
  {
   "cell_type": "code",
   "execution_count": 6,
   "id": "bd52f867",
   "metadata": {
    "execution": {
     "iopub.execute_input": "2023-02-27T12:59:16.010241Z",
     "iopub.status.busy": "2023-02-27T12:59:16.009721Z",
     "iopub.status.idle": "2023-02-27T12:59:16.017015Z",
     "shell.execute_reply": "2023-02-27T12:59:16.016363Z"
    }
   },
   "outputs": [
    {
     "data": {
      "text/plain": [
       "<FastTreeValue 0x7f6b6055fe20>\n",
       "├── 'a' --> tensor([[ 1.1962, -1.2772, -0.6416],\n",
       "│                   [-0.4416, -0.5475, -1.3026]])\n",
       "└── 'x' --> <FastTreeValue 0x7f6b605cc100>\n",
       "    └── 'c' --> tensor([[ 0.7303,  0.5949,  0.1081,  0.0708],\n",
       "                        [-1.1417,  0.7616, -0.5957, -1.3031],\n",
       "                        [ 0.0089, -1.4327,  0.5378, -0.4435]])"
      ]
     },
     "execution_count": 6,
     "metadata": {},
     "output_type": "execute_result"
    }
   ],
   "source": [
    "new_value = torch.randn(2, 3)\n",
    "t.a = new_value\n",
    "\n",
    "t"
   ]
  },
  {
   "cell_type": "code",
   "execution_count": 7,
   "id": "bbe04d1c",
   "metadata": {
    "execution": {
     "iopub.execute_input": "2023-02-27T12:59:16.019727Z",
     "iopub.status.busy": "2023-02-27T12:59:16.019282Z",
     "iopub.status.idle": "2023-02-27T12:59:21.975826Z",
     "shell.execute_reply": "2023-02-27T12:59:21.974930Z"
    }
   },
   "outputs": [
    {
     "name": "stdout",
     "output_type": "stream",
     "text": [
      "73.5 ns ± 0.0333 ns per loop (mean ± std. dev. of 7 runs, 10,000,000 loops each)\n"
     ]
    }
   ],
   "source": [
    "%timeit t.a = new_value"
   ]
  },
  {
   "cell_type": "markdown",
   "id": "48c49731",
   "metadata": {},
   "source": [
    "### Tianshou Batch's Get and Set"
   ]
  },
  {
   "cell_type": "code",
   "execution_count": 8,
   "id": "f1bb14c1",
   "metadata": {
    "execution": {
     "iopub.execute_input": "2023-02-27T12:59:21.979217Z",
     "iopub.status.busy": "2023-02-27T12:59:21.978803Z",
     "iopub.status.idle": "2023-02-27T12:59:22.349448Z",
     "shell.execute_reply": "2023-02-27T12:59:22.348660Z"
    }
   },
   "outputs": [],
   "source": [
    "from tianshou.data import Batch\n",
    "\n",
    "b = Batch(**_TREE_DATA_2)"
   ]
  },
  {
   "cell_type": "code",
   "execution_count": 9,
   "id": "cb0777c3",
   "metadata": {
    "execution": {
     "iopub.execute_input": "2023-02-27T12:59:22.353238Z",
     "iopub.status.busy": "2023-02-27T12:59:22.352721Z",
     "iopub.status.idle": "2023-02-27T12:59:22.360250Z",
     "shell.execute_reply": "2023-02-27T12:59:22.359123Z"
    }
   },
   "outputs": [
    {
     "data": {
      "text/plain": [
       "Batch(\n",
       "    a: tensor([[ 0.6729,  0.5967, -1.1591],\n",
       "               [-0.3069,  0.9622, -0.9610]]),\n",
       "    x: Batch(\n",
       "           c: tensor([[ 0.7303,  0.5949,  0.1081,  0.0708],\n",
       "                      [-1.1417,  0.7616, -0.5957, -1.3031],\n",
       "                      [ 0.0089, -1.4327,  0.5378, -0.4435]]),\n",
       "       ),\n",
       ")"
      ]
     },
     "execution_count": 9,
     "metadata": {},
     "output_type": "execute_result"
    }
   ],
   "source": [
    "b"
   ]
  },
  {
   "cell_type": "code",
   "execution_count": 10,
   "id": "43ef8ea3",
   "metadata": {
    "execution": {
     "iopub.execute_input": "2023-02-27T12:59:22.363090Z",
     "iopub.status.busy": "2023-02-27T12:59:22.362733Z",
     "iopub.status.idle": "2023-02-27T12:59:22.368440Z",
     "shell.execute_reply": "2023-02-27T12:59:22.367852Z"
    }
   },
   "outputs": [
    {
     "data": {
      "text/plain": [
       "tensor([[ 0.6729,  0.5967, -1.1591],\n",
       "        [-0.3069,  0.9622, -0.9610]])"
      ]
     },
     "execution_count": 10,
     "metadata": {},
     "output_type": "execute_result"
    }
   ],
   "source": [
    "b.a"
   ]
  },
  {
   "cell_type": "code",
   "execution_count": 11,
   "id": "b785ab72",
   "metadata": {
    "execution": {
     "iopub.execute_input": "2023-02-27T12:59:22.371092Z",
     "iopub.status.busy": "2023-02-27T12:59:22.370558Z",
     "iopub.status.idle": "2023-02-27T12:59:27.088375Z",
     "shell.execute_reply": "2023-02-27T12:59:27.087494Z"
    }
   },
   "outputs": [
    {
     "name": "stdout",
     "output_type": "stream",
     "text": [
      "58.1 ns ± 0.103 ns per loop (mean ± std. dev. of 7 runs, 10,000,000 loops each)\n"
     ]
    }
   ],
   "source": [
    "%timeit b.a"
   ]
  },
  {
   "cell_type": "code",
   "execution_count": 12,
   "id": "ad54dc69",
   "metadata": {
    "execution": {
     "iopub.execute_input": "2023-02-27T12:59:27.091722Z",
     "iopub.status.busy": "2023-02-27T12:59:27.091310Z",
     "iopub.status.idle": "2023-02-27T12:59:27.098405Z",
     "shell.execute_reply": "2023-02-27T12:59:27.097781Z"
    }
   },
   "outputs": [
    {
     "data": {
      "text/plain": [
       "Batch(\n",
       "    a: tensor([[ 0.6888, -0.1187, -0.3748],\n",
       "               [ 0.3583,  0.2816,  0.8495]]),\n",
       "    x: Batch(\n",
       "           c: tensor([[ 0.7303,  0.5949,  0.1081,  0.0708],\n",
       "                      [-1.1417,  0.7616, -0.5957, -1.3031],\n",
       "                      [ 0.0089, -1.4327,  0.5378, -0.4435]]),\n",
       "       ),\n",
       ")"
      ]
     },
     "execution_count": 12,
     "metadata": {},
     "output_type": "execute_result"
    }
   ],
   "source": [
    "new_value = torch.randn(2, 3)\n",
    "b.a = new_value\n",
    "\n",
    "b"
   ]
  },
  {
   "cell_type": "code",
   "execution_count": 13,
   "id": "29b1d0bf",
   "metadata": {
    "execution": {
     "iopub.execute_input": "2023-02-27T12:59:27.101290Z",
     "iopub.status.busy": "2023-02-27T12:59:27.100735Z",
     "iopub.status.idle": "2023-02-27T12:59:31.192837Z",
     "shell.execute_reply": "2023-02-27T12:59:31.191954Z"
    }
   },
   "outputs": [
    {
     "name": "stdout",
     "output_type": "stream",
     "text": [
      "504 ns ± 0.124 ns per loop (mean ± std. dev. of 7 runs, 1,000,000 loops each)\n"
     ]
    }
   ],
   "source": [
    "%timeit b.a = new_value"
   ]
  },
  {
   "cell_type": "markdown",
   "id": "b61ad1d0",
   "metadata": {},
   "source": [
    "## Initialization"
   ]
  },
  {
   "cell_type": "markdown",
   "id": "d70f0d54",
   "metadata": {},
   "source": [
    "### TreeValue's Initialization"
   ]
  },
  {
   "cell_type": "code",
   "execution_count": 14,
   "id": "d32a679b",
   "metadata": {
    "execution": {
     "iopub.execute_input": "2023-02-27T12:59:31.196761Z",
     "iopub.status.busy": "2023-02-27T12:59:31.196176Z",
     "iopub.status.idle": "2023-02-27T12:59:37.747787Z",
     "shell.execute_reply": "2023-02-27T12:59:37.746921Z"
    }
   },
   "outputs": [
    {
     "name": "stdout",
     "output_type": "stream",
     "text": [
      "807 ns ± 0.776 ns per loop (mean ± std. dev. of 7 runs, 1,000,000 loops each)\n"
     ]
    }
   ],
   "source": [
    "%timeit FastTreeValue(_TREE_DATA_1)"
   ]
  },
  {
   "cell_type": "markdown",
   "id": "24f3707b",
   "metadata": {},
   "source": [
    "### Tianshou Batch's Initialization"
   ]
  },
  {
   "cell_type": "code",
   "execution_count": 15,
   "id": "ac3958df",
   "metadata": {
    "execution": {
     "iopub.execute_input": "2023-02-27T12:59:37.752226Z",
     "iopub.status.busy": "2023-02-27T12:59:37.751211Z",
     "iopub.status.idle": "2023-02-27T12:59:46.557238Z",
     "shell.execute_reply": "2023-02-27T12:59:46.556343Z"
    }
   },
   "outputs": [
    {
     "name": "stdout",
     "output_type": "stream",
     "text": [
      "10.8 µs ± 19.5 ns per loop (mean ± std. dev. of 7 runs, 100,000 loops each)\n"
     ]
    }
   ],
   "source": [
    "%timeit Batch(**_TREE_DATA_1)"
   ]
  },
  {
   "cell_type": "markdown",
   "id": "1ab82e2d",
   "metadata": {},
   "source": [
    "## Deep Copy Operation"
   ]
  },
  {
   "cell_type": "code",
   "execution_count": 16,
   "id": "210a9442",
   "metadata": {
    "execution": {
     "iopub.execute_input": "2023-02-27T12:59:46.561157Z",
     "iopub.status.busy": "2023-02-27T12:59:46.560552Z",
     "iopub.status.idle": "2023-02-27T12:59:46.565137Z",
     "shell.execute_reply": "2023-02-27T12:59:46.563841Z"
    }
   },
   "outputs": [],
   "source": [
    "import copy"
   ]
  },
  {
   "cell_type": "markdown",
   "id": "5a736274",
   "metadata": {},
   "source": [
    "### Deep Copy of TreeValue"
   ]
  },
  {
   "cell_type": "code",
   "execution_count": 17,
   "id": "f9bcadd6",
   "metadata": {
    "execution": {
     "iopub.execute_input": "2023-02-27T12:59:46.567937Z",
     "iopub.status.busy": "2023-02-27T12:59:46.567369Z",
     "iopub.status.idle": "2023-02-27T12:59:58.322800Z",
     "shell.execute_reply": "2023-02-27T12:59:58.322082Z"
    }
   },
   "outputs": [
    {
     "name": "stdout",
     "output_type": "stream",
     "text": [
      "145 µs ± 299 ns per loop (mean ± std. dev. of 7 runs, 10,000 loops each)\n"
     ]
    }
   ],
   "source": [
    "t3 = FastTreeValue(_TREE_DATA_3)\n",
    "%timeit copy.deepcopy(t3)"
   ]
  },
  {
   "cell_type": "markdown",
   "id": "bf8be7ea",
   "metadata": {},
   "source": [
    "### Deep Copy of Tianshou Batch"
   ]
  },
  {
   "cell_type": "code",
   "execution_count": 18,
   "id": "91998e6f",
   "metadata": {
    "execution": {
     "iopub.execute_input": "2023-02-27T12:59:58.325835Z",
     "iopub.status.busy": "2023-02-27T12:59:58.325412Z",
     "iopub.status.idle": "2023-02-27T13:00:10.036276Z",
     "shell.execute_reply": "2023-02-27T13:00:10.035526Z"
    }
   },
   "outputs": [
    {
     "name": "stdout",
     "output_type": "stream",
     "text": [
      "144 µs ± 492 ns per loop (mean ± std. dev. of 7 runs, 10,000 loops each)\n"
     ]
    }
   ],
   "source": [
    "b3 = Batch(**_TREE_DATA_3)\n",
    "%timeit copy.deepcopy(b3)"
   ]
  },
  {
   "cell_type": "markdown",
   "id": "223162fb",
   "metadata": {},
   "source": [
    "## Stack, Concat and Split Operation"
   ]
  },
  {
   "cell_type": "markdown",
   "id": "85fa4a73",
   "metadata": {},
   "source": [
    "### Performance of TreeValue"
   ]
  },
  {
   "cell_type": "code",
   "execution_count": 19,
   "id": "a0c2b697",
   "metadata": {
    "execution": {
     "iopub.execute_input": "2023-02-27T13:00:10.039553Z",
     "iopub.status.busy": "2023-02-27T13:00:10.039130Z",
     "iopub.status.idle": "2023-02-27T13:00:10.043811Z",
     "shell.execute_reply": "2023-02-27T13:00:10.043168Z"
    }
   },
   "outputs": [],
   "source": [
    "trees = [FastTreeValue(_TREE_DATA_2) for _ in range(8)]"
   ]
  },
  {
   "cell_type": "code",
   "execution_count": 20,
   "id": "017ea5a5",
   "metadata": {
    "execution": {
     "iopub.execute_input": "2023-02-27T13:00:10.046621Z",
     "iopub.status.busy": "2023-02-27T13:00:10.046246Z",
     "iopub.status.idle": "2023-02-27T13:00:10.054011Z",
     "shell.execute_reply": "2023-02-27T13:00:10.053322Z"
    }
   },
   "outputs": [
    {
     "data": {
      "text/plain": [
       "<FastTreeValue 0x7f6abce27a60>\n",
       "├── 'a' --> tensor([[[ 0.6729,  0.5967, -1.1591],\n",
       "│                    [-0.3069,  0.9622, -0.9610]],\n",
       "│           \n",
       "│                   [[ 0.6729,  0.5967, -1.1591],\n",
       "│                    [-0.3069,  0.9622, -0.9610]],\n",
       "│           \n",
       "│                   [[ 0.6729,  0.5967, -1.1591],\n",
       "│                    [-0.3069,  0.9622, -0.9610]],\n",
       "│           \n",
       "│                   [[ 0.6729,  0.5967, -1.1591],\n",
       "│                    [-0.3069,  0.9622, -0.9610]],\n",
       "│           \n",
       "│                   [[ 0.6729,  0.5967, -1.1591],\n",
       "│                    [-0.3069,  0.9622, -0.9610]],\n",
       "│           \n",
       "│                   [[ 0.6729,  0.5967, -1.1591],\n",
       "│                    [-0.3069,  0.9622, -0.9610]],\n",
       "│           \n",
       "│                   [[ 0.6729,  0.5967, -1.1591],\n",
       "│                    [-0.3069,  0.9622, -0.9610]],\n",
       "│           \n",
       "│                   [[ 0.6729,  0.5967, -1.1591],\n",
       "│                    [-0.3069,  0.9622, -0.9610]]])\n",
       "└── 'x' --> <FastTreeValue 0x7f6abd094280>\n",
       "    └── 'c' --> tensor([[[ 0.7303,  0.5949,  0.1081,  0.0708],\n",
       "                         [-1.1417,  0.7616, -0.5957, -1.3031],\n",
       "                         [ 0.0089, -1.4327,  0.5378, -0.4435]],\n",
       "                \n",
       "                        [[ 0.7303,  0.5949,  0.1081,  0.0708],\n",
       "                         [-1.1417,  0.7616, -0.5957, -1.3031],\n",
       "                         [ 0.0089, -1.4327,  0.5378, -0.4435]],\n",
       "                \n",
       "                        [[ 0.7303,  0.5949,  0.1081,  0.0708],\n",
       "                         [-1.1417,  0.7616, -0.5957, -1.3031],\n",
       "                         [ 0.0089, -1.4327,  0.5378, -0.4435]],\n",
       "                \n",
       "                        [[ 0.7303,  0.5949,  0.1081,  0.0708],\n",
       "                         [-1.1417,  0.7616, -0.5957, -1.3031],\n",
       "                         [ 0.0089, -1.4327,  0.5378, -0.4435]],\n",
       "                \n",
       "                        [[ 0.7303,  0.5949,  0.1081,  0.0708],\n",
       "                         [-1.1417,  0.7616, -0.5957, -1.3031],\n",
       "                         [ 0.0089, -1.4327,  0.5378, -0.4435]],\n",
       "                \n",
       "                        [[ 0.7303,  0.5949,  0.1081,  0.0708],\n",
       "                         [-1.1417,  0.7616, -0.5957, -1.3031],\n",
       "                         [ 0.0089, -1.4327,  0.5378, -0.4435]],\n",
       "                \n",
       "                        [[ 0.7303,  0.5949,  0.1081,  0.0708],\n",
       "                         [-1.1417,  0.7616, -0.5957, -1.3031],\n",
       "                         [ 0.0089, -1.4327,  0.5378, -0.4435]],\n",
       "                \n",
       "                        [[ 0.7303,  0.5949,  0.1081,  0.0708],\n",
       "                         [-1.1417,  0.7616, -0.5957, -1.3031],\n",
       "                         [ 0.0089, -1.4327,  0.5378, -0.4435]]])"
      ]
     },
     "execution_count": 20,
     "metadata": {},
     "output_type": "execute_result"
    }
   ],
   "source": [
    "t_stack = FastTreeValue.func(subside=True)(torch.stack)\n",
    "\n",
    "t_stack(trees)"
   ]
  },
  {
   "cell_type": "code",
   "execution_count": 21,
   "id": "f8b3f415",
   "metadata": {
    "execution": {
     "iopub.execute_input": "2023-02-27T13:00:10.056895Z",
     "iopub.status.busy": "2023-02-27T13:00:10.056470Z",
     "iopub.status.idle": "2023-02-27T13:00:12.718822Z",
     "shell.execute_reply": "2023-02-27T13:00:12.717937Z"
    }
   },
   "outputs": [
    {
     "name": "stdout",
     "output_type": "stream",
     "text": [
      "32.7 µs ± 171 ns per loop (mean ± std. dev. of 7 runs, 10,000 loops each)\n"
     ]
    }
   ],
   "source": [
    "%timeit t_stack(trees)"
   ]
  },
  {
   "cell_type": "code",
   "execution_count": 22,
   "id": "94b56771",
   "metadata": {
    "execution": {
     "iopub.execute_input": "2023-02-27T13:00:12.722633Z",
     "iopub.status.busy": "2023-02-27T13:00:12.722080Z",
     "iopub.status.idle": "2023-02-27T13:00:12.732162Z",
     "shell.execute_reply": "2023-02-27T13:00:12.731452Z"
    }
   },
   "outputs": [
    {
     "data": {
      "text/plain": [
       "<FastTreeValue 0x7f6aab7f1c10>\n",
       "├── 'a' --> tensor([[ 0.6729,  0.5967, -1.1591],\n",
       "│                   [-0.3069,  0.9622, -0.9610],\n",
       "│                   [ 0.6729,  0.5967, -1.1591],\n",
       "│                   [-0.3069,  0.9622, -0.9610],\n",
       "│                   [ 0.6729,  0.5967, -1.1591],\n",
       "│                   [-0.3069,  0.9622, -0.9610],\n",
       "│                   [ 0.6729,  0.5967, -1.1591],\n",
       "│                   [-0.3069,  0.9622, -0.9610],\n",
       "│                   [ 0.6729,  0.5967, -1.1591],\n",
       "│                   [-0.3069,  0.9622, -0.9610],\n",
       "│                   [ 0.6729,  0.5967, -1.1591],\n",
       "│                   [-0.3069,  0.9622, -0.9610],\n",
       "│                   [ 0.6729,  0.5967, -1.1591],\n",
       "│                   [-0.3069,  0.9622, -0.9610],\n",
       "│                   [ 0.6729,  0.5967, -1.1591],\n",
       "│                   [-0.3069,  0.9622, -0.9610]])\n",
       "└── 'x' --> <FastTreeValue 0x7f6aab811af0>\n",
       "    └── 'c' --> tensor([[ 0.7303,  0.5949,  0.1081,  0.0708],\n",
       "                        [-1.1417,  0.7616, -0.5957, -1.3031],\n",
       "                        [ 0.0089, -1.4327,  0.5378, -0.4435],\n",
       "                        [ 0.7303,  0.5949,  0.1081,  0.0708],\n",
       "                        [-1.1417,  0.7616, -0.5957, -1.3031],\n",
       "                        [ 0.0089, -1.4327,  0.5378, -0.4435],\n",
       "                        [ 0.7303,  0.5949,  0.1081,  0.0708],\n",
       "                        [-1.1417,  0.7616, -0.5957, -1.3031],\n",
       "                        [ 0.0089, -1.4327,  0.5378, -0.4435],\n",
       "                        [ 0.7303,  0.5949,  0.1081,  0.0708],\n",
       "                        [-1.1417,  0.7616, -0.5957, -1.3031],\n",
       "                        [ 0.0089, -1.4327,  0.5378, -0.4435],\n",
       "                        [ 0.7303,  0.5949,  0.1081,  0.0708],\n",
       "                        [-1.1417,  0.7616, -0.5957, -1.3031],\n",
       "                        [ 0.0089, -1.4327,  0.5378, -0.4435],\n",
       "                        [ 0.7303,  0.5949,  0.1081,  0.0708],\n",
       "                        [-1.1417,  0.7616, -0.5957, -1.3031],\n",
       "                        [ 0.0089, -1.4327,  0.5378, -0.4435],\n",
       "                        [ 0.7303,  0.5949,  0.1081,  0.0708],\n",
       "                        [-1.1417,  0.7616, -0.5957, -1.3031],\n",
       "                        [ 0.0089, -1.4327,  0.5378, -0.4435],\n",
       "                        [ 0.7303,  0.5949,  0.1081,  0.0708],\n",
       "                        [-1.1417,  0.7616, -0.5957, -1.3031],\n",
       "                        [ 0.0089, -1.4327,  0.5378, -0.4435]])"
      ]
     },
     "execution_count": 22,
     "metadata": {},
     "output_type": "execute_result"
    }
   ],
   "source": [
    "t_cat = FastTreeValue.func(subside=True)(torch.cat)\n",
    "\n",
    "t_cat(trees)"
   ]
  },
  {
   "cell_type": "code",
   "execution_count": 23,
   "id": "5e9c06a6",
   "metadata": {
    "execution": {
     "iopub.execute_input": "2023-02-27T13:00:12.735620Z",
     "iopub.status.busy": "2023-02-27T13:00:12.735118Z",
     "iopub.status.idle": "2023-02-27T13:00:15.225287Z",
     "shell.execute_reply": "2023-02-27T13:00:15.224263Z"
    }
   },
   "outputs": [
    {
     "name": "stdout",
     "output_type": "stream",
     "text": [
      "30.6 µs ± 88.1 ns per loop (mean ± std. dev. of 7 runs, 10,000 loops each)\n"
     ]
    }
   ],
   "source": [
    "%timeit t_cat(trees)"
   ]
  },
  {
   "cell_type": "code",
   "execution_count": 24,
   "id": "a3ab5c8f",
   "metadata": {
    "execution": {
     "iopub.execute_input": "2023-02-27T13:00:15.228672Z",
     "iopub.status.busy": "2023-02-27T13:00:15.228152Z",
     "iopub.status.idle": "2023-02-27T13:00:19.908471Z",
     "shell.execute_reply": "2023-02-27T13:00:19.907618Z"
    }
   },
   "outputs": [
    {
     "name": "stdout",
     "output_type": "stream",
     "text": [
      "57.6 µs ± 45.7 ns per loop (mean ± std. dev. of 7 runs, 10,000 loops each)\n"
     ]
    }
   ],
   "source": [
    "t_split = FastTreeValue.func(rise=True)(torch.split)\n",
    "tree = FastTreeValue({\n",
    "    'obs': torch.randn(8, 4, 84, 84),\n",
    "    'action': torch.randint(0, 6, size=(8, 1,)),\n",
    "    'reward': torch.rand(8, 1),\n",
    "})\n",
    "\n",
    "%timeit t_split(tree, 1)"
   ]
  },
  {
   "cell_type": "markdown",
   "id": "31c3ec0b",
   "metadata": {},
   "source": [
    "### Performance of Tianshou Batch"
   ]
  },
  {
   "cell_type": "code",
   "execution_count": 25,
   "id": "9ead828a",
   "metadata": {
    "execution": {
     "iopub.execute_input": "2023-02-27T13:00:19.911828Z",
     "iopub.status.busy": "2023-02-27T13:00:19.911341Z",
     "iopub.status.idle": "2023-02-27T13:00:19.919973Z",
     "shell.execute_reply": "2023-02-27T13:00:19.919286Z"
    }
   },
   "outputs": [
    {
     "data": {
      "text/plain": [
       "Batch(\n",
       "    x: Batch(\n",
       "           c: tensor([[[ 0.7303,  0.5949,  0.1081,  0.0708],\n",
       "                       [-1.1417,  0.7616, -0.5957, -1.3031],\n",
       "                       [ 0.0089, -1.4327,  0.5378, -0.4435]],\n",
       "              \n",
       "                      [[ 0.7303,  0.5949,  0.1081,  0.0708],\n",
       "                       [-1.1417,  0.7616, -0.5957, -1.3031],\n",
       "                       [ 0.0089, -1.4327,  0.5378, -0.4435]],\n",
       "              \n",
       "                      [[ 0.7303,  0.5949,  0.1081,  0.0708],\n",
       "                       [-1.1417,  0.7616, -0.5957, -1.3031],\n",
       "                       [ 0.0089, -1.4327,  0.5378, -0.4435]],\n",
       "              \n",
       "                      [[ 0.7303,  0.5949,  0.1081,  0.0708],\n",
       "                       [-1.1417,  0.7616, -0.5957, -1.3031],\n",
       "                       [ 0.0089, -1.4327,  0.5378, -0.4435]],\n",
       "              \n",
       "                      [[ 0.7303,  0.5949,  0.1081,  0.0708],\n",
       "                       [-1.1417,  0.7616, -0.5957, -1.3031],\n",
       "                       [ 0.0089, -1.4327,  0.5378, -0.4435]],\n",
       "              \n",
       "                      [[ 0.7303,  0.5949,  0.1081,  0.0708],\n",
       "                       [-1.1417,  0.7616, -0.5957, -1.3031],\n",
       "                       [ 0.0089, -1.4327,  0.5378, -0.4435]],\n",
       "              \n",
       "                      [[ 0.7303,  0.5949,  0.1081,  0.0708],\n",
       "                       [-1.1417,  0.7616, -0.5957, -1.3031],\n",
       "                       [ 0.0089, -1.4327,  0.5378, -0.4435]],\n",
       "              \n",
       "                      [[ 0.7303,  0.5949,  0.1081,  0.0708],\n",
       "                       [-1.1417,  0.7616, -0.5957, -1.3031],\n",
       "                       [ 0.0089, -1.4327,  0.5378, -0.4435]]]),\n",
       "       ),\n",
       "    a: tensor([[[ 0.6729,  0.5967, -1.1591],\n",
       "                [-0.3069,  0.9622, -0.9610]],\n",
       "       \n",
       "               [[ 0.6729,  0.5967, -1.1591],\n",
       "                [-0.3069,  0.9622, -0.9610]],\n",
       "       \n",
       "               [[ 0.6729,  0.5967, -1.1591],\n",
       "                [-0.3069,  0.9622, -0.9610]],\n",
       "       \n",
       "               [[ 0.6729,  0.5967, -1.1591],\n",
       "                [-0.3069,  0.9622, -0.9610]],\n",
       "       \n",
       "               [[ 0.6729,  0.5967, -1.1591],\n",
       "                [-0.3069,  0.9622, -0.9610]],\n",
       "       \n",
       "               [[ 0.6729,  0.5967, -1.1591],\n",
       "                [-0.3069,  0.9622, -0.9610]],\n",
       "       \n",
       "               [[ 0.6729,  0.5967, -1.1591],\n",
       "                [-0.3069,  0.9622, -0.9610]],\n",
       "       \n",
       "               [[ 0.6729,  0.5967, -1.1591],\n",
       "                [-0.3069,  0.9622, -0.9610]]]),\n",
       ")"
      ]
     },
     "execution_count": 25,
     "metadata": {},
     "output_type": "execute_result"
    }
   ],
   "source": [
    "batches = [Batch(**_TREE_DATA_2) for _ in range(8)]\n",
    "\n",
    "Batch.stack(batches)"
   ]
  },
  {
   "cell_type": "code",
   "execution_count": 26,
   "id": "ec9037a3",
   "metadata": {
    "execution": {
     "iopub.execute_input": "2023-02-27T13:00:19.923140Z",
     "iopub.status.busy": "2023-02-27T13:00:19.922601Z",
     "iopub.status.idle": "2023-02-27T13:00:26.172313Z",
     "shell.execute_reply": "2023-02-27T13:00:26.171433Z"
    }
   },
   "outputs": [
    {
     "name": "stdout",
     "output_type": "stream",
     "text": [
      "76.9 µs ± 133 ns per loop (mean ± std. dev. of 7 runs, 10,000 loops each)\n"
     ]
    }
   ],
   "source": [
    "%timeit Batch.stack(batches)"
   ]
  },
  {
   "cell_type": "code",
   "execution_count": 27,
   "id": "cb8ab77e",
   "metadata": {
    "execution": {
     "iopub.execute_input": "2023-02-27T13:00:26.175886Z",
     "iopub.status.busy": "2023-02-27T13:00:26.175211Z",
     "iopub.status.idle": "2023-02-27T13:00:26.184200Z",
     "shell.execute_reply": "2023-02-27T13:00:26.183127Z"
    }
   },
   "outputs": [
    {
     "data": {
      "text/plain": [
       "Batch(\n",
       "    x: Batch(\n",
       "           c: tensor([[ 0.7303,  0.5949,  0.1081,  0.0708],\n",
       "                      [-1.1417,  0.7616, -0.5957, -1.3031],\n",
       "                      [ 0.0089, -1.4327,  0.5378, -0.4435],\n",
       "                      [ 0.7303,  0.5949,  0.1081,  0.0708],\n",
       "                      [-1.1417,  0.7616, -0.5957, -1.3031],\n",
       "                      [ 0.0089, -1.4327,  0.5378, -0.4435],\n",
       "                      [ 0.7303,  0.5949,  0.1081,  0.0708],\n",
       "                      [-1.1417,  0.7616, -0.5957, -1.3031],\n",
       "                      [ 0.0089, -1.4327,  0.5378, -0.4435],\n",
       "                      [ 0.7303,  0.5949,  0.1081,  0.0708],\n",
       "                      [-1.1417,  0.7616, -0.5957, -1.3031],\n",
       "                      [ 0.0089, -1.4327,  0.5378, -0.4435],\n",
       "                      [ 0.7303,  0.5949,  0.1081,  0.0708],\n",
       "                      [-1.1417,  0.7616, -0.5957, -1.3031],\n",
       "                      [ 0.0089, -1.4327,  0.5378, -0.4435],\n",
       "                      [ 0.7303,  0.5949,  0.1081,  0.0708],\n",
       "                      [-1.1417,  0.7616, -0.5957, -1.3031],\n",
       "                      [ 0.0089, -1.4327,  0.5378, -0.4435],\n",
       "                      [ 0.7303,  0.5949,  0.1081,  0.0708],\n",
       "                      [-1.1417,  0.7616, -0.5957, -1.3031],\n",
       "                      [ 0.0089, -1.4327,  0.5378, -0.4435],\n",
       "                      [ 0.7303,  0.5949,  0.1081,  0.0708],\n",
       "                      [-1.1417,  0.7616, -0.5957, -1.3031],\n",
       "                      [ 0.0089, -1.4327,  0.5378, -0.4435]]),\n",
       "       ),\n",
       "    a: tensor([[ 0.6729,  0.5967, -1.1591],\n",
       "               [-0.3069,  0.9622, -0.9610],\n",
       "               [ 0.6729,  0.5967, -1.1591],\n",
       "               [-0.3069,  0.9622, -0.9610],\n",
       "               [ 0.6729,  0.5967, -1.1591],\n",
       "               [-0.3069,  0.9622, -0.9610],\n",
       "               [ 0.6729,  0.5967, -1.1591],\n",
       "               [-0.3069,  0.9622, -0.9610],\n",
       "               [ 0.6729,  0.5967, -1.1591],\n",
       "               [-0.3069,  0.9622, -0.9610],\n",
       "               [ 0.6729,  0.5967, -1.1591],\n",
       "               [-0.3069,  0.9622, -0.9610],\n",
       "               [ 0.6729,  0.5967, -1.1591],\n",
       "               [-0.3069,  0.9622, -0.9610],\n",
       "               [ 0.6729,  0.5967, -1.1591],\n",
       "               [-0.3069,  0.9622, -0.9610]]),\n",
       ")"
      ]
     },
     "execution_count": 27,
     "metadata": {},
     "output_type": "execute_result"
    }
   ],
   "source": [
    "Batch.cat(batches)"
   ]
  },
  {
   "cell_type": "code",
   "execution_count": 28,
   "id": "18dfb045",
   "metadata": {
    "execution": {
     "iopub.execute_input": "2023-02-27T13:00:26.186908Z",
     "iopub.status.busy": "2023-02-27T13:00:26.186423Z",
     "iopub.status.idle": "2023-02-27T13:00:39.506729Z",
     "shell.execute_reply": "2023-02-27T13:00:39.505853Z"
    }
   },
   "outputs": [
    {
     "name": "stdout",
     "output_type": "stream",
     "text": [
      "164 µs ± 175 ns per loop (mean ± std. dev. of 7 runs, 10,000 loops each)\n"
     ]
    }
   ],
   "source": [
    "%timeit Batch.cat(batches)"
   ]
  },
  {
   "cell_type": "code",
   "execution_count": 29,
   "id": "c6688e51",
   "metadata": {
    "execution": {
     "iopub.execute_input": "2023-02-27T13:00:39.510627Z",
     "iopub.status.busy": "2023-02-27T13:00:39.509986Z",
     "iopub.status.idle": "2023-02-27T13:00:42.115627Z",
     "shell.execute_reply": "2023-02-27T13:00:42.114559Z"
    }
   },
   "outputs": [
    {
     "name": "stdout",
     "output_type": "stream",
     "text": [
      "319 µs ± 3.68 µs per loop (mean ± std. dev. of 7 runs, 1,000 loops each)\n"
     ]
    }
   ],
   "source": [
    "batch = Batch({\n",
    "    'obs': torch.randn(8, 4, 84, 84),\n",
    "    'action': torch.randint(0, 6, size=(8, 1,)),\n",
    "    'reward': torch.rand(8, 1)}\n",
    ")\n",
    "\n",
    "%timeit list(Batch.split(batch, 1, shuffle=False, merge_last=True))"
   ]
  },
  {
   "cell_type": "code",
   "execution_count": null,
   "id": "2539fbd9",
   "metadata": {},
   "outputs": [],
   "source": []
  }
 ],
 "metadata": {
  "kernelspec": {
   "display_name": "Python 3 (ipykernel)",
   "language": "python",
   "name": "python3"
  },
  "language_info": {
   "codemirror_mode": {
    "name": "ipython",
    "version": 3
   },
   "file_extension": ".py",
   "mimetype": "text/x-python",
   "name": "python",
   "nbconvert_exporter": "python",
   "pygments_lexer": "ipython3",
   "version": "3.8.16"
  }
 },
 "nbformat": 4,
 "nbformat_minor": 5
}
