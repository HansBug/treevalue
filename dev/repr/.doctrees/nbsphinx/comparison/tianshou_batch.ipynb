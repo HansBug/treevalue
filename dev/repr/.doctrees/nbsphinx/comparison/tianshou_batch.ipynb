{
 "cells": [
  {
   "cell_type": "markdown",
   "id": "9d39d946",
   "metadata": {},
   "source": [
    "# Comparison Between TreeValue and Tianshou Batch"
   ]
  },
  {
   "cell_type": "markdown",
   "id": "3c6db2d4",
   "metadata": {},
   "source": [
    "In this section, we will take a look at the feature and performance of the [Tianshou Batch](https://github.com/thu-ml/tianshou) library, which is developed by Tsinghua Machine Learning Group."
   ]
  },
  {
   "cell_type": "markdown",
   "id": "069361b0",
   "metadata": {},
   "source": [
    "Before starting the comparison, let us define some thing."
   ]
  },
  {
   "cell_type": "code",
   "execution_count": 1,
   "id": "06fc8d26",
   "metadata": {
    "execution": {
     "iopub.execute_input": "2023-02-23T10:03:28.062076Z",
     "iopub.status.busy": "2023-02-23T10:03:28.061517Z",
     "iopub.status.idle": "2023-02-23T10:03:29.201864Z",
     "shell.execute_reply": "2023-02-23T10:03:29.200751Z"
    }
   },
   "outputs": [
    {
     "name": "stderr",
     "output_type": "stream",
     "text": [
      "/opt/hostedtoolcache/Python/3.8.16/x64/lib/python3.8/site-packages/tqdm/auto.py:22: TqdmWarning: IProgress not found. Please update jupyter and ipywidgets. See https://ipywidgets.readthedocs.io/en/stable/user_install.html\n",
      "  from .autonotebook import tqdm as notebook_tqdm\n"
     ]
    }
   ],
   "source": [
    "import torch \n",
    "\n",
    "_TREE_DATA_1 = {'a': 1, 'b': 2, 'x': {'c': 3, 'd': 4}}\n",
    "_TREE_DATA_2 = {\n",
    "    'a': torch.randn(2, 3), \n",
    "    'x': {\n",
    "        'c': torch.randn(3, 4)\n",
    "    },\n",
    "}\n",
    "_TREE_DATA_3 = {\n",
    "    'obs': torch.randn(4, 84, 84),\n",
    "    'action': torch.randint(0, 6, size=(1,)),\n",
    "    'reward': torch.rand(1),\n",
    "}"
   ]
  },
  {
   "cell_type": "markdown",
   "id": "83461b25",
   "metadata": {},
   "source": [
    "## Read and Write Operation"
   ]
  },
  {
   "cell_type": "markdown",
   "id": "067b3f73",
   "metadata": {},
   "source": [
    "Reading and writing are the two most common operations in the tree data structure based on the data model (TreeValue and Tianshou Batch both belong to this type), so this section will compare the reading and writing performance of these two libraries."
   ]
  },
  {
   "cell_type": "markdown",
   "id": "5d09a5b7",
   "metadata": {},
   "source": [
    "### TreeValue's Get and Set"
   ]
  },
  {
   "cell_type": "code",
   "execution_count": 2,
   "id": "9519c4bb",
   "metadata": {
    "execution": {
     "iopub.execute_input": "2023-02-23T10:03:29.206148Z",
     "iopub.status.busy": "2023-02-23T10:03:29.205768Z",
     "iopub.status.idle": "2023-02-23T10:03:29.249403Z",
     "shell.execute_reply": "2023-02-23T10:03:29.248368Z"
    }
   },
   "outputs": [],
   "source": [
    "from treevalue import FastTreeValue\n",
    "\n",
    "t = FastTreeValue(_TREE_DATA_2)"
   ]
  },
  {
   "cell_type": "code",
   "execution_count": 3,
   "id": "11c37677",
   "metadata": {
    "execution": {
     "iopub.execute_input": "2023-02-23T10:03:29.253574Z",
     "iopub.status.busy": "2023-02-23T10:03:29.253283Z",
     "iopub.status.idle": "2023-02-23T10:03:29.265295Z",
     "shell.execute_reply": "2023-02-23T10:03:29.264326Z"
    }
   },
   "outputs": [
    {
     "data": {
      "text/plain": [
       "<FastTreeValue 0x7f47c4ecd100>\n",
       "├── 'a' --> tensor([[-0.1338, -2.2601,  1.2372],\n",
       "│                   [-0.3765,  0.6454,  0.2477]])\n",
       "└── 'x' --> <FastTreeValue 0x7f47c4ecdeb0>\n",
       "    └── 'c' --> tensor([[ 1.2257,  1.3722,  0.4705, -0.4208],\n",
       "                        [ 0.2450, -1.0598,  0.5263, -1.1507],\n",
       "                        [ 0.5405, -0.4624,  1.2087,  0.3226]])"
      ]
     },
     "execution_count": 3,
     "metadata": {},
     "output_type": "execute_result"
    }
   ],
   "source": [
    "t"
   ]
  },
  {
   "cell_type": "code",
   "execution_count": 4,
   "id": "fd70b0b9",
   "metadata": {
    "execution": {
     "iopub.execute_input": "2023-02-23T10:03:29.268990Z",
     "iopub.status.busy": "2023-02-23T10:03:29.268341Z",
     "iopub.status.idle": "2023-02-23T10:03:29.275942Z",
     "shell.execute_reply": "2023-02-23T10:03:29.274594Z"
    }
   },
   "outputs": [
    {
     "data": {
      "text/plain": [
       "tensor([[-0.1338, -2.2601,  1.2372],\n",
       "        [-0.3765,  0.6454,  0.2477]])"
      ]
     },
     "execution_count": 4,
     "metadata": {},
     "output_type": "execute_result"
    }
   ],
   "source": [
    "t.a"
   ]
  },
  {
   "cell_type": "code",
   "execution_count": 5,
   "id": "c18197bd",
   "metadata": {
    "execution": {
     "iopub.execute_input": "2023-02-23T10:03:29.279539Z",
     "iopub.status.busy": "2023-02-23T10:03:29.279220Z",
     "iopub.status.idle": "2023-02-23T10:03:34.894537Z",
     "shell.execute_reply": "2023-02-23T10:03:34.893498Z"
    }
   },
   "outputs": [
    {
     "name": "stdout",
     "output_type": "stream",
     "text": [
      "69.1 ns ± 1.17 ns per loop (mean ± std. dev. of 7 runs, 10,000,000 loops each)\n"
     ]
    }
   ],
   "source": [
    "%timeit t.a"
   ]
  },
  {
   "cell_type": "code",
   "execution_count": 6,
   "id": "bd52f867",
   "metadata": {
    "execution": {
     "iopub.execute_input": "2023-02-23T10:03:34.898485Z",
     "iopub.status.busy": "2023-02-23T10:03:34.897786Z",
     "iopub.status.idle": "2023-02-23T10:03:34.907438Z",
     "shell.execute_reply": "2023-02-23T10:03:34.906515Z"
    }
   },
   "outputs": [
    {
     "data": {
      "text/plain": [
       "<FastTreeValue 0x7f47c4ecd100>\n",
       "├── 'a' --> tensor([[ 0.6325,  2.9077,  0.1306],\n",
       "│                   [-1.6086,  1.3396,  0.7087]])\n",
       "└── 'x' --> <FastTreeValue 0x7f47c4ecdeb0>\n",
       "    └── 'c' --> tensor([[ 1.2257,  1.3722,  0.4705, -0.4208],\n",
       "                        [ 0.2450, -1.0598,  0.5263, -1.1507],\n",
       "                        [ 0.5405, -0.4624,  1.2087,  0.3226]])"
      ]
     },
     "execution_count": 6,
     "metadata": {},
     "output_type": "execute_result"
    }
   ],
   "source": [
    "new_value = torch.randn(2, 3)\n",
    "t.a = new_value\n",
    "\n",
    "t"
   ]
  },
  {
   "cell_type": "code",
   "execution_count": 7,
   "id": "bbe04d1c",
   "metadata": {
    "execution": {
     "iopub.execute_input": "2023-02-23T10:03:34.910846Z",
     "iopub.status.busy": "2023-02-23T10:03:34.910551Z",
     "iopub.status.idle": "2023-02-23T10:03:42.140612Z",
     "shell.execute_reply": "2023-02-23T10:03:42.139595Z"
    }
   },
   "outputs": [
    {
     "name": "stdout",
     "output_type": "stream",
     "text": [
      "89.2 ns ± 1.15 ns per loop (mean ± std. dev. of 7 runs, 10,000,000 loops each)\n"
     ]
    }
   ],
   "source": [
    "%timeit t.a = new_value"
   ]
  },
  {
   "cell_type": "markdown",
   "id": "48c49731",
   "metadata": {},
   "source": [
    "### Tianshou Batch's Get and Set"
   ]
  },
  {
   "cell_type": "code",
   "execution_count": 8,
   "id": "f1bb14c1",
   "metadata": {
    "execution": {
     "iopub.execute_input": "2023-02-23T10:03:42.144337Z",
     "iopub.status.busy": "2023-02-23T10:03:42.143864Z",
     "iopub.status.idle": "2023-02-23T10:03:42.587608Z",
     "shell.execute_reply": "2023-02-23T10:03:42.586554Z"
    }
   },
   "outputs": [],
   "source": [
    "from tianshou.data import Batch\n",
    "\n",
    "b = Batch(**_TREE_DATA_2)"
   ]
  },
  {
   "cell_type": "code",
   "execution_count": 9,
   "id": "cb0777c3",
   "metadata": {
    "execution": {
     "iopub.execute_input": "2023-02-23T10:03:42.592127Z",
     "iopub.status.busy": "2023-02-23T10:03:42.591256Z",
     "iopub.status.idle": "2023-02-23T10:03:42.600639Z",
     "shell.execute_reply": "2023-02-23T10:03:42.599299Z"
    }
   },
   "outputs": [
    {
     "data": {
      "text/plain": [
       "Batch(\n",
       "    a: tensor([[-0.1338, -2.2601,  1.2372],\n",
       "               [-0.3765,  0.6454,  0.2477]]),\n",
       "    x: Batch(\n",
       "           c: tensor([[ 1.2257,  1.3722,  0.4705, -0.4208],\n",
       "                      [ 0.2450, -1.0598,  0.5263, -1.1507],\n",
       "                      [ 0.5405, -0.4624,  1.2087,  0.3226]]),\n",
       "       ),\n",
       ")"
      ]
     },
     "execution_count": 9,
     "metadata": {},
     "output_type": "execute_result"
    }
   ],
   "source": [
    "b"
   ]
  },
  {
   "cell_type": "code",
   "execution_count": 10,
   "id": "43ef8ea3",
   "metadata": {
    "execution": {
     "iopub.execute_input": "2023-02-23T10:03:42.604567Z",
     "iopub.status.busy": "2023-02-23T10:03:42.604108Z",
     "iopub.status.idle": "2023-02-23T10:03:42.612130Z",
     "shell.execute_reply": "2023-02-23T10:03:42.610647Z"
    }
   },
   "outputs": [
    {
     "data": {
      "text/plain": [
       "tensor([[-0.1338, -2.2601,  1.2372],\n",
       "        [-0.3765,  0.6454,  0.2477]])"
      ]
     },
     "execution_count": 10,
     "metadata": {},
     "output_type": "execute_result"
    }
   ],
   "source": [
    "b.a"
   ]
  },
  {
   "cell_type": "code",
   "execution_count": 11,
   "id": "b785ab72",
   "metadata": {
    "execution": {
     "iopub.execute_input": "2023-02-23T10:03:42.615846Z",
     "iopub.status.busy": "2023-02-23T10:03:42.615350Z",
     "iopub.status.idle": "2023-02-23T10:03:47.606637Z",
     "shell.execute_reply": "2023-02-23T10:03:47.605683Z"
    }
   },
   "outputs": [
    {
     "name": "stdout",
     "output_type": "stream",
     "text": [
      "61.3 ns ± 0.757 ns per loop (mean ± std. dev. of 7 runs, 10,000,000 loops each)\n"
     ]
    }
   ],
   "source": [
    "%timeit b.a"
   ]
  },
  {
   "cell_type": "code",
   "execution_count": 12,
   "id": "ad54dc69",
   "metadata": {
    "execution": {
     "iopub.execute_input": "2023-02-23T10:03:47.609857Z",
     "iopub.status.busy": "2023-02-23T10:03:47.609588Z",
     "iopub.status.idle": "2023-02-23T10:03:47.618115Z",
     "shell.execute_reply": "2023-02-23T10:03:47.617192Z"
    }
   },
   "outputs": [
    {
     "data": {
      "text/plain": [
       "Batch(\n",
       "    a: tensor([[-0.1910, -0.1875,  0.2669],\n",
       "               [ 0.9606, -1.8527, -0.4199]]),\n",
       "    x: Batch(\n",
       "           c: tensor([[ 1.2257,  1.3722,  0.4705, -0.4208],\n",
       "                      [ 0.2450, -1.0598,  0.5263, -1.1507],\n",
       "                      [ 0.5405, -0.4624,  1.2087,  0.3226]]),\n",
       "       ),\n",
       ")"
      ]
     },
     "execution_count": 12,
     "metadata": {},
     "output_type": "execute_result"
    }
   ],
   "source": [
    "new_value = torch.randn(2, 3)\n",
    "b.a = new_value\n",
    "\n",
    "b"
   ]
  },
  {
   "cell_type": "code",
   "execution_count": 13,
   "id": "29b1d0bf",
   "metadata": {
    "execution": {
     "iopub.execute_input": "2023-02-23T10:03:47.621194Z",
     "iopub.status.busy": "2023-02-23T10:03:47.620801Z",
     "iopub.status.idle": "2023-02-23T10:03:52.322769Z",
     "shell.execute_reply": "2023-02-23T10:03:52.321656Z"
    }
   },
   "outputs": [
    {
     "name": "stdout",
     "output_type": "stream",
     "text": [
      "578 ns ± 12.5 ns per loop (mean ± std. dev. of 7 runs, 1,000,000 loops each)\n"
     ]
    }
   ],
   "source": [
    "%timeit b.a = new_value"
   ]
  },
  {
   "cell_type": "markdown",
   "id": "b61ad1d0",
   "metadata": {},
   "source": [
    "## Initialization"
   ]
  },
  {
   "cell_type": "markdown",
   "id": "d70f0d54",
   "metadata": {},
   "source": [
    "### TreeValue's Initialization"
   ]
  },
  {
   "cell_type": "code",
   "execution_count": 14,
   "id": "d32a679b",
   "metadata": {
    "execution": {
     "iopub.execute_input": "2023-02-23T10:03:52.326751Z",
     "iopub.status.busy": "2023-02-23T10:03:52.326204Z",
     "iopub.status.idle": "2023-02-23T10:04:00.102669Z",
     "shell.execute_reply": "2023-02-23T10:04:00.101604Z"
    }
   },
   "outputs": [
    {
     "name": "stdout",
     "output_type": "stream",
     "text": [
      "954 ns ± 14.7 ns per loop (mean ± std. dev. of 7 runs, 1,000,000 loops each)\n"
     ]
    }
   ],
   "source": [
    "%timeit FastTreeValue(_TREE_DATA_1)"
   ]
  },
  {
   "cell_type": "markdown",
   "id": "24f3707b",
   "metadata": {},
   "source": [
    "### Tianshou Batch's Initialization"
   ]
  },
  {
   "cell_type": "code",
   "execution_count": 15,
   "id": "ac3958df",
   "metadata": {
    "execution": {
     "iopub.execute_input": "2023-02-23T10:04:00.106308Z",
     "iopub.status.busy": "2023-02-23T10:04:00.105801Z",
     "iopub.status.idle": "2023-02-23T10:04:11.320725Z",
     "shell.execute_reply": "2023-02-23T10:04:11.319563Z"
    }
   },
   "outputs": [
    {
     "name": "stdout",
     "output_type": "stream",
     "text": [
      "13.8 µs ± 149 ns per loop (mean ± std. dev. of 7 runs, 100,000 loops each)\n"
     ]
    }
   ],
   "source": [
    "%timeit Batch(**_TREE_DATA_1)"
   ]
  },
  {
   "cell_type": "markdown",
   "id": "1ab82e2d",
   "metadata": {},
   "source": [
    "## Deep Copy Operation"
   ]
  },
  {
   "cell_type": "code",
   "execution_count": 16,
   "id": "210a9442",
   "metadata": {
    "execution": {
     "iopub.execute_input": "2023-02-23T10:04:11.324810Z",
     "iopub.status.busy": "2023-02-23T10:04:11.324287Z",
     "iopub.status.idle": "2023-02-23T10:04:11.329338Z",
     "shell.execute_reply": "2023-02-23T10:04:11.328425Z"
    }
   },
   "outputs": [],
   "source": [
    "import copy"
   ]
  },
  {
   "cell_type": "markdown",
   "id": "5a736274",
   "metadata": {},
   "source": [
    "### Deep Copy of TreeValue"
   ]
  },
  {
   "cell_type": "code",
   "execution_count": 17,
   "id": "f9bcadd6",
   "metadata": {
    "execution": {
     "iopub.execute_input": "2023-02-23T10:04:11.333263Z",
     "iopub.status.busy": "2023-02-23T10:04:11.332973Z",
     "iopub.status.idle": "2023-02-23T10:04:13.754374Z",
     "shell.execute_reply": "2023-02-23T10:04:13.752748Z"
    }
   },
   "outputs": [
    {
     "name": "stdout",
     "output_type": "stream",
     "text": [
      "295 µs ± 30.8 µs per loop (mean ± std. dev. of 7 runs, 1,000 loops each)\n"
     ]
    }
   ],
   "source": [
    "t3 = FastTreeValue(_TREE_DATA_3)\n",
    "%timeit copy.deepcopy(t3)"
   ]
  },
  {
   "cell_type": "markdown",
   "id": "bf8be7ea",
   "metadata": {},
   "source": [
    "### Deep Copy of Tianshou Batch"
   ]
  },
  {
   "cell_type": "code",
   "execution_count": 18,
   "id": "91998e6f",
   "metadata": {
    "execution": {
     "iopub.execute_input": "2023-02-23T10:04:13.758284Z",
     "iopub.status.busy": "2023-02-23T10:04:13.757993Z",
     "iopub.status.idle": "2023-02-23T10:04:15.916696Z",
     "shell.execute_reply": "2023-02-23T10:04:15.915816Z"
    }
   },
   "outputs": [
    {
     "name": "stdout",
     "output_type": "stream",
     "text": [
      "266 µs ± 10 µs per loop (mean ± std. dev. of 7 runs, 1,000 loops each)\n"
     ]
    }
   ],
   "source": [
    "b3 = Batch(**_TREE_DATA_3)\n",
    "%timeit copy.deepcopy(b3)"
   ]
  },
  {
   "cell_type": "markdown",
   "id": "223162fb",
   "metadata": {},
   "source": [
    "## Stack, Concat and Split Operation"
   ]
  },
  {
   "cell_type": "markdown",
   "id": "85fa4a73",
   "metadata": {},
   "source": [
    "### Performance of TreeValue"
   ]
  },
  {
   "cell_type": "code",
   "execution_count": 19,
   "id": "a0c2b697",
   "metadata": {
    "execution": {
     "iopub.execute_input": "2023-02-23T10:04:15.920964Z",
     "iopub.status.busy": "2023-02-23T10:04:15.920452Z",
     "iopub.status.idle": "2023-02-23T10:04:15.924414Z",
     "shell.execute_reply": "2023-02-23T10:04:15.923673Z"
    }
   },
   "outputs": [],
   "source": [
    "trees = [FastTreeValue(_TREE_DATA_2) for _ in range(8)]"
   ]
  },
  {
   "cell_type": "code",
   "execution_count": 20,
   "id": "017ea5a5",
   "metadata": {
    "execution": {
     "iopub.execute_input": "2023-02-23T10:04:15.927616Z",
     "iopub.status.busy": "2023-02-23T10:04:15.927122Z",
     "iopub.status.idle": "2023-02-23T10:04:15.936106Z",
     "shell.execute_reply": "2023-02-23T10:04:15.935128Z"
    }
   },
   "outputs": [
    {
     "data": {
      "text/plain": [
       "<FastTreeValue 0x7f4719b20d30>\n",
       "├── 'a' --> tensor([[[-0.1338, -2.2601,  1.2372],\n",
       "│                    [-0.3765,  0.6454,  0.2477]],\n",
       "│           \n",
       "│                   [[-0.1338, -2.2601,  1.2372],\n",
       "│                    [-0.3765,  0.6454,  0.2477]],\n",
       "│           \n",
       "│                   [[-0.1338, -2.2601,  1.2372],\n",
       "│                    [-0.3765,  0.6454,  0.2477]],\n",
       "│           \n",
       "│                   [[-0.1338, -2.2601,  1.2372],\n",
       "│                    [-0.3765,  0.6454,  0.2477]],\n",
       "│           \n",
       "│                   [[-0.1338, -2.2601,  1.2372],\n",
       "│                    [-0.3765,  0.6454,  0.2477]],\n",
       "│           \n",
       "│                   [[-0.1338, -2.2601,  1.2372],\n",
       "│                    [-0.3765,  0.6454,  0.2477]],\n",
       "│           \n",
       "│                   [[-0.1338, -2.2601,  1.2372],\n",
       "│                    [-0.3765,  0.6454,  0.2477]],\n",
       "│           \n",
       "│                   [[-0.1338, -2.2601,  1.2372],\n",
       "│                    [-0.3765,  0.6454,  0.2477]]])\n",
       "└── 'x' --> <FastTreeValue 0x7f4719b20ac0>\n",
       "    └── 'c' --> tensor([[[ 1.2257,  1.3722,  0.4705, -0.4208],\n",
       "                         [ 0.2450, -1.0598,  0.5263, -1.1507],\n",
       "                         [ 0.5405, -0.4624,  1.2087,  0.3226]],\n",
       "                \n",
       "                        [[ 1.2257,  1.3722,  0.4705, -0.4208],\n",
       "                         [ 0.2450, -1.0598,  0.5263, -1.1507],\n",
       "                         [ 0.5405, -0.4624,  1.2087,  0.3226]],\n",
       "                \n",
       "                        [[ 1.2257,  1.3722,  0.4705, -0.4208],\n",
       "                         [ 0.2450, -1.0598,  0.5263, -1.1507],\n",
       "                         [ 0.5405, -0.4624,  1.2087,  0.3226]],\n",
       "                \n",
       "                        [[ 1.2257,  1.3722,  0.4705, -0.4208],\n",
       "                         [ 0.2450, -1.0598,  0.5263, -1.1507],\n",
       "                         [ 0.5405, -0.4624,  1.2087,  0.3226]],\n",
       "                \n",
       "                        [[ 1.2257,  1.3722,  0.4705, -0.4208],\n",
       "                         [ 0.2450, -1.0598,  0.5263, -1.1507],\n",
       "                         [ 0.5405, -0.4624,  1.2087,  0.3226]],\n",
       "                \n",
       "                        [[ 1.2257,  1.3722,  0.4705, -0.4208],\n",
       "                         [ 0.2450, -1.0598,  0.5263, -1.1507],\n",
       "                         [ 0.5405, -0.4624,  1.2087,  0.3226]],\n",
       "                \n",
       "                        [[ 1.2257,  1.3722,  0.4705, -0.4208],\n",
       "                         [ 0.2450, -1.0598,  0.5263, -1.1507],\n",
       "                         [ 0.5405, -0.4624,  1.2087,  0.3226]],\n",
       "                \n",
       "                        [[ 1.2257,  1.3722,  0.4705, -0.4208],\n",
       "                         [ 0.2450, -1.0598,  0.5263, -1.1507],\n",
       "                         [ 0.5405, -0.4624,  1.2087,  0.3226]]])"
      ]
     },
     "execution_count": 20,
     "metadata": {},
     "output_type": "execute_result"
    }
   ],
   "source": [
    "t_stack = FastTreeValue.func(subside=True)(torch.stack)\n",
    "\n",
    "t_stack(trees)"
   ]
  },
  {
   "cell_type": "code",
   "execution_count": 21,
   "id": "f8b3f415",
   "metadata": {
    "execution": {
     "iopub.execute_input": "2023-02-23T10:04:15.939195Z",
     "iopub.status.busy": "2023-02-23T10:04:15.938899Z",
     "iopub.status.idle": "2023-02-23T10:04:19.381640Z",
     "shell.execute_reply": "2023-02-23T10:04:19.380682Z"
    }
   },
   "outputs": [
    {
     "name": "stdout",
     "output_type": "stream",
     "text": [
      "42.2 µs ± 838 ns per loop (mean ± std. dev. of 7 runs, 10,000 loops each)\n"
     ]
    }
   ],
   "source": [
    "%timeit t_stack(trees)"
   ]
  },
  {
   "cell_type": "code",
   "execution_count": 22,
   "id": "94b56771",
   "metadata": {
    "execution": {
     "iopub.execute_input": "2023-02-23T10:04:19.385664Z",
     "iopub.status.busy": "2023-02-23T10:04:19.385142Z",
     "iopub.status.idle": "2023-02-23T10:04:19.395100Z",
     "shell.execute_reply": "2023-02-23T10:04:19.394141Z"
    }
   },
   "outputs": [
    {
     "data": {
      "text/plain": [
       "<FastTreeValue 0x7f4719b20b80>\n",
       "├── 'a' --> tensor([[-0.1338, -2.2601,  1.2372],\n",
       "│                   [-0.3765,  0.6454,  0.2477],\n",
       "│                   [-0.1338, -2.2601,  1.2372],\n",
       "│                   [-0.3765,  0.6454,  0.2477],\n",
       "│                   [-0.1338, -2.2601,  1.2372],\n",
       "│                   [-0.3765,  0.6454,  0.2477],\n",
       "│                   [-0.1338, -2.2601,  1.2372],\n",
       "│                   [-0.3765,  0.6454,  0.2477],\n",
       "│                   [-0.1338, -2.2601,  1.2372],\n",
       "│                   [-0.3765,  0.6454,  0.2477],\n",
       "│                   [-0.1338, -2.2601,  1.2372],\n",
       "│                   [-0.3765,  0.6454,  0.2477],\n",
       "│                   [-0.1338, -2.2601,  1.2372],\n",
       "│                   [-0.3765,  0.6454,  0.2477],\n",
       "│                   [-0.1338, -2.2601,  1.2372],\n",
       "│                   [-0.3765,  0.6454,  0.2477]])\n",
       "└── 'x' --> <FastTreeValue 0x7f4720813fd0>\n",
       "    └── 'c' --> tensor([[ 1.2257,  1.3722,  0.4705, -0.4208],\n",
       "                        [ 0.2450, -1.0598,  0.5263, -1.1507],\n",
       "                        [ 0.5405, -0.4624,  1.2087,  0.3226],\n",
       "                        [ 1.2257,  1.3722,  0.4705, -0.4208],\n",
       "                        [ 0.2450, -1.0598,  0.5263, -1.1507],\n",
       "                        [ 0.5405, -0.4624,  1.2087,  0.3226],\n",
       "                        [ 1.2257,  1.3722,  0.4705, -0.4208],\n",
       "                        [ 0.2450, -1.0598,  0.5263, -1.1507],\n",
       "                        [ 0.5405, -0.4624,  1.2087,  0.3226],\n",
       "                        [ 1.2257,  1.3722,  0.4705, -0.4208],\n",
       "                        [ 0.2450, -1.0598,  0.5263, -1.1507],\n",
       "                        [ 0.5405, -0.4624,  1.2087,  0.3226],\n",
       "                        [ 1.2257,  1.3722,  0.4705, -0.4208],\n",
       "                        [ 0.2450, -1.0598,  0.5263, -1.1507],\n",
       "                        [ 0.5405, -0.4624,  1.2087,  0.3226],\n",
       "                        [ 1.2257,  1.3722,  0.4705, -0.4208],\n",
       "                        [ 0.2450, -1.0598,  0.5263, -1.1507],\n",
       "                        [ 0.5405, -0.4624,  1.2087,  0.3226],\n",
       "                        [ 1.2257,  1.3722,  0.4705, -0.4208],\n",
       "                        [ 0.2450, -1.0598,  0.5263, -1.1507],\n",
       "                        [ 0.5405, -0.4624,  1.2087,  0.3226],\n",
       "                        [ 1.2257,  1.3722,  0.4705, -0.4208],\n",
       "                        [ 0.2450, -1.0598,  0.5263, -1.1507],\n",
       "                        [ 0.5405, -0.4624,  1.2087,  0.3226]])"
      ]
     },
     "execution_count": 22,
     "metadata": {},
     "output_type": "execute_result"
    }
   ],
   "source": [
    "t_cat = FastTreeValue.func(subside=True)(torch.cat)\n",
    "\n",
    "t_cat(trees)"
   ]
  },
  {
   "cell_type": "code",
   "execution_count": 23,
   "id": "5e9c06a6",
   "metadata": {
    "execution": {
     "iopub.execute_input": "2023-02-23T10:04:19.398143Z",
     "iopub.status.busy": "2023-02-23T10:04:19.397639Z",
     "iopub.status.idle": "2023-02-23T10:04:22.604700Z",
     "shell.execute_reply": "2023-02-23T10:04:22.603740Z"
    }
   },
   "outputs": [
    {
     "name": "stdout",
     "output_type": "stream",
     "text": [
      "39.3 µs ± 1.1 µs per loop (mean ± std. dev. of 7 runs, 10,000 loops each)\n"
     ]
    }
   ],
   "source": [
    "%timeit t_cat(trees)"
   ]
  },
  {
   "cell_type": "code",
   "execution_count": 24,
   "id": "a3ab5c8f",
   "metadata": {
    "execution": {
     "iopub.execute_input": "2023-02-23T10:04:22.608820Z",
     "iopub.status.busy": "2023-02-23T10:04:22.607947Z",
     "iopub.status.idle": "2023-02-23T10:04:28.701781Z",
     "shell.execute_reply": "2023-02-23T10:04:28.700703Z"
    }
   },
   "outputs": [
    {
     "name": "stdout",
     "output_type": "stream",
     "text": [
      "75.3 µs ± 1.55 µs per loop (mean ± std. dev. of 7 runs, 10,000 loops each)\n"
     ]
    }
   ],
   "source": [
    "t_split = FastTreeValue.func(rise=True)(torch.split)\n",
    "tree = FastTreeValue({\n",
    "    'obs': torch.randn(8, 4, 84, 84),\n",
    "    'action': torch.randint(0, 6, size=(8, 1,)),\n",
    "    'reward': torch.rand(8, 1),\n",
    "})\n",
    "\n",
    "%timeit t_split(tree, 1)"
   ]
  },
  {
   "cell_type": "markdown",
   "id": "31c3ec0b",
   "metadata": {},
   "source": [
    "### Performance of Tianshou Batch"
   ]
  },
  {
   "cell_type": "code",
   "execution_count": 25,
   "id": "9ead828a",
   "metadata": {
    "execution": {
     "iopub.execute_input": "2023-02-23T10:04:28.705761Z",
     "iopub.status.busy": "2023-02-23T10:04:28.704809Z",
     "iopub.status.idle": "2023-02-23T10:04:28.715052Z",
     "shell.execute_reply": "2023-02-23T10:04:28.714079Z"
    }
   },
   "outputs": [
    {
     "data": {
      "text/plain": [
       "Batch(\n",
       "    a: tensor([[[-0.1338, -2.2601,  1.2372],\n",
       "                [-0.3765,  0.6454,  0.2477]],\n",
       "       \n",
       "               [[-0.1338, -2.2601,  1.2372],\n",
       "                [-0.3765,  0.6454,  0.2477]],\n",
       "       \n",
       "               [[-0.1338, -2.2601,  1.2372],\n",
       "                [-0.3765,  0.6454,  0.2477]],\n",
       "       \n",
       "               [[-0.1338, -2.2601,  1.2372],\n",
       "                [-0.3765,  0.6454,  0.2477]],\n",
       "       \n",
       "               [[-0.1338, -2.2601,  1.2372],\n",
       "                [-0.3765,  0.6454,  0.2477]],\n",
       "       \n",
       "               [[-0.1338, -2.2601,  1.2372],\n",
       "                [-0.3765,  0.6454,  0.2477]],\n",
       "       \n",
       "               [[-0.1338, -2.2601,  1.2372],\n",
       "                [-0.3765,  0.6454,  0.2477]],\n",
       "       \n",
       "               [[-0.1338, -2.2601,  1.2372],\n",
       "                [-0.3765,  0.6454,  0.2477]]]),\n",
       "    x: Batch(\n",
       "           c: tensor([[[ 1.2257,  1.3722,  0.4705, -0.4208],\n",
       "                       [ 0.2450, -1.0598,  0.5263, -1.1507],\n",
       "                       [ 0.5405, -0.4624,  1.2087,  0.3226]],\n",
       "              \n",
       "                      [[ 1.2257,  1.3722,  0.4705, -0.4208],\n",
       "                       [ 0.2450, -1.0598,  0.5263, -1.1507],\n",
       "                       [ 0.5405, -0.4624,  1.2087,  0.3226]],\n",
       "              \n",
       "                      [[ 1.2257,  1.3722,  0.4705, -0.4208],\n",
       "                       [ 0.2450, -1.0598,  0.5263, -1.1507],\n",
       "                       [ 0.5405, -0.4624,  1.2087,  0.3226]],\n",
       "              \n",
       "                      [[ 1.2257,  1.3722,  0.4705, -0.4208],\n",
       "                       [ 0.2450, -1.0598,  0.5263, -1.1507],\n",
       "                       [ 0.5405, -0.4624,  1.2087,  0.3226]],\n",
       "              \n",
       "                      [[ 1.2257,  1.3722,  0.4705, -0.4208],\n",
       "                       [ 0.2450, -1.0598,  0.5263, -1.1507],\n",
       "                       [ 0.5405, -0.4624,  1.2087,  0.3226]],\n",
       "              \n",
       "                      [[ 1.2257,  1.3722,  0.4705, -0.4208],\n",
       "                       [ 0.2450, -1.0598,  0.5263, -1.1507],\n",
       "                       [ 0.5405, -0.4624,  1.2087,  0.3226]],\n",
       "              \n",
       "                      [[ 1.2257,  1.3722,  0.4705, -0.4208],\n",
       "                       [ 0.2450, -1.0598,  0.5263, -1.1507],\n",
       "                       [ 0.5405, -0.4624,  1.2087,  0.3226]],\n",
       "              \n",
       "                      [[ 1.2257,  1.3722,  0.4705, -0.4208],\n",
       "                       [ 0.2450, -1.0598,  0.5263, -1.1507],\n",
       "                       [ 0.5405, -0.4624,  1.2087,  0.3226]]]),\n",
       "       ),\n",
       ")"
      ]
     },
     "execution_count": 25,
     "metadata": {},
     "output_type": "execute_result"
    }
   ],
   "source": [
    "batches = [Batch(**_TREE_DATA_2) for _ in range(8)]\n",
    "\n",
    "Batch.stack(batches)"
   ]
  },
  {
   "cell_type": "code",
   "execution_count": 26,
   "id": "ec9037a3",
   "metadata": {
    "execution": {
     "iopub.execute_input": "2023-02-23T10:04:28.718415Z",
     "iopub.status.busy": "2023-02-23T10:04:28.718142Z",
     "iopub.status.idle": "2023-02-23T10:04:36.843076Z",
     "shell.execute_reply": "2023-02-23T10:04:36.841926Z"
    }
   },
   "outputs": [
    {
     "name": "stdout",
     "output_type": "stream",
     "text": [
      "100 µs ± 1.76 µs per loop (mean ± std. dev. of 7 runs, 10,000 loops each)\n"
     ]
    }
   ],
   "source": [
    "%timeit Batch.stack(batches)"
   ]
  },
  {
   "cell_type": "code",
   "execution_count": 27,
   "id": "cb8ab77e",
   "metadata": {
    "execution": {
     "iopub.execute_input": "2023-02-23T10:04:36.846617Z",
     "iopub.status.busy": "2023-02-23T10:04:36.846133Z",
     "iopub.status.idle": "2023-02-23T10:04:36.855729Z",
     "shell.execute_reply": "2023-02-23T10:04:36.854808Z"
    }
   },
   "outputs": [
    {
     "data": {
      "text/plain": [
       "Batch(\n",
       "    a: tensor([[-0.1338, -2.2601,  1.2372],\n",
       "               [-0.3765,  0.6454,  0.2477],\n",
       "               [-0.1338, -2.2601,  1.2372],\n",
       "               [-0.3765,  0.6454,  0.2477],\n",
       "               [-0.1338, -2.2601,  1.2372],\n",
       "               [-0.3765,  0.6454,  0.2477],\n",
       "               [-0.1338, -2.2601,  1.2372],\n",
       "               [-0.3765,  0.6454,  0.2477],\n",
       "               [-0.1338, -2.2601,  1.2372],\n",
       "               [-0.3765,  0.6454,  0.2477],\n",
       "               [-0.1338, -2.2601,  1.2372],\n",
       "               [-0.3765,  0.6454,  0.2477],\n",
       "               [-0.1338, -2.2601,  1.2372],\n",
       "               [-0.3765,  0.6454,  0.2477],\n",
       "               [-0.1338, -2.2601,  1.2372],\n",
       "               [-0.3765,  0.6454,  0.2477]]),\n",
       "    x: Batch(\n",
       "           c: tensor([[ 1.2257,  1.3722,  0.4705, -0.4208],\n",
       "                      [ 0.2450, -1.0598,  0.5263, -1.1507],\n",
       "                      [ 0.5405, -0.4624,  1.2087,  0.3226],\n",
       "                      [ 1.2257,  1.3722,  0.4705, -0.4208],\n",
       "                      [ 0.2450, -1.0598,  0.5263, -1.1507],\n",
       "                      [ 0.5405, -0.4624,  1.2087,  0.3226],\n",
       "                      [ 1.2257,  1.3722,  0.4705, -0.4208],\n",
       "                      [ 0.2450, -1.0598,  0.5263, -1.1507],\n",
       "                      [ 0.5405, -0.4624,  1.2087,  0.3226],\n",
       "                      [ 1.2257,  1.3722,  0.4705, -0.4208],\n",
       "                      [ 0.2450, -1.0598,  0.5263, -1.1507],\n",
       "                      [ 0.5405, -0.4624,  1.2087,  0.3226],\n",
       "                      [ 1.2257,  1.3722,  0.4705, -0.4208],\n",
       "                      [ 0.2450, -1.0598,  0.5263, -1.1507],\n",
       "                      [ 0.5405, -0.4624,  1.2087,  0.3226],\n",
       "                      [ 1.2257,  1.3722,  0.4705, -0.4208],\n",
       "                      [ 0.2450, -1.0598,  0.5263, -1.1507],\n",
       "                      [ 0.5405, -0.4624,  1.2087,  0.3226],\n",
       "                      [ 1.2257,  1.3722,  0.4705, -0.4208],\n",
       "                      [ 0.2450, -1.0598,  0.5263, -1.1507],\n",
       "                      [ 0.5405, -0.4624,  1.2087,  0.3226],\n",
       "                      [ 1.2257,  1.3722,  0.4705, -0.4208],\n",
       "                      [ 0.2450, -1.0598,  0.5263, -1.1507],\n",
       "                      [ 0.5405, -0.4624,  1.2087,  0.3226]]),\n",
       "       ),\n",
       ")"
      ]
     },
     "execution_count": 27,
     "metadata": {},
     "output_type": "execute_result"
    }
   ],
   "source": [
    "Batch.cat(batches)"
   ]
  },
  {
   "cell_type": "code",
   "execution_count": 28,
   "id": "18dfb045",
   "metadata": {
    "execution": {
     "iopub.execute_input": "2023-02-23T10:04:36.859167Z",
     "iopub.status.busy": "2023-02-23T10:04:36.858676Z",
     "iopub.status.idle": "2023-02-23T10:04:51.775927Z",
     "shell.execute_reply": "2023-02-23T10:04:51.774744Z"
    }
   },
   "outputs": [
    {
     "name": "stdout",
     "output_type": "stream",
     "text": [
      "185 µs ± 5.91 µs per loop (mean ± std. dev. of 7 runs, 10,000 loops each)\n"
     ]
    }
   ],
   "source": [
    "%timeit Batch.cat(batches)"
   ]
  },
  {
   "cell_type": "code",
   "execution_count": 29,
   "id": "c6688e51",
   "metadata": {
    "execution": {
     "iopub.execute_input": "2023-02-23T10:04:51.779665Z",
     "iopub.status.busy": "2023-02-23T10:04:51.779175Z",
     "iopub.status.idle": "2023-02-23T10:04:56.597755Z",
     "shell.execute_reply": "2023-02-23T10:04:56.596699Z"
    }
   },
   "outputs": [
    {
     "name": "stdout",
     "output_type": "stream",
     "text": [
      "587 µs ± 22 µs per loop (mean ± std. dev. of 7 runs, 1,000 loops each)\n"
     ]
    }
   ],
   "source": [
    "batch = Batch({\n",
    "    'obs': torch.randn(8, 4, 84, 84),\n",
    "    'action': torch.randint(0, 6, size=(8, 1,)),\n",
    "    'reward': torch.rand(8, 1)}\n",
    ")\n",
    "\n",
    "%timeit list(Batch.split(batch, 1, shuffle=False, merge_last=True))"
   ]
  },
  {
   "cell_type": "code",
   "execution_count": null,
   "id": "2539fbd9",
   "metadata": {},
   "outputs": [],
   "source": []
  }
 ],
 "metadata": {
  "kernelspec": {
   "display_name": "Python 3 (ipykernel)",
   "language": "python",
   "name": "python3"
  },
  "language_info": {
   "codemirror_mode": {
    "name": "ipython",
    "version": 3
   },
   "file_extension": ".py",
   "mimetype": "text/x-python",
   "name": "python",
   "nbconvert_exporter": "python",
   "pygments_lexer": "ipython3",
   "version": "3.8.16"
  }
 },
 "nbformat": 4,
 "nbformat_minor": 5
}
