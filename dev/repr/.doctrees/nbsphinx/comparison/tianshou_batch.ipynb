{
 "cells": [
  {
   "cell_type": "markdown",
   "id": "9d39d946",
   "metadata": {},
   "source": [
    "# Comparison Between TreeValue and Tianshou Batch"
   ]
  },
  {
   "cell_type": "markdown",
   "id": "3c6db2d4",
   "metadata": {},
   "source": [
    "In this section, we will take a look at the feature and performance of the [Tianshou Batch](https://github.com/thu-ml/tianshou) library, which is developed by Tsinghua Machine Learning Group."
   ]
  },
  {
   "cell_type": "markdown",
   "id": "069361b0",
   "metadata": {},
   "source": [
    "Before starting the comparison, let us define some thing."
   ]
  },
  {
   "cell_type": "code",
   "execution_count": 1,
   "id": "06fc8d26",
   "metadata": {
    "execution": {
     "iopub.execute_input": "2023-02-23T08:54:25.495643Z",
     "iopub.status.busy": "2023-02-23T08:54:25.494820Z",
     "iopub.status.idle": "2023-02-23T08:54:26.399376Z",
     "shell.execute_reply": "2023-02-23T08:54:26.398701Z"
    }
   },
   "outputs": [
    {
     "name": "stderr",
     "output_type": "stream",
     "text": [
      "/opt/hostedtoolcache/Python/3.8.16/x64/lib/python3.8/site-packages/tqdm/auto.py:22: TqdmWarning: IProgress not found. Please update jupyter and ipywidgets. See https://ipywidgets.readthedocs.io/en/stable/user_install.html\n",
      "  from .autonotebook import tqdm as notebook_tqdm\n"
     ]
    }
   ],
   "source": [
    "import torch \n",
    "\n",
    "_TREE_DATA_1 = {'a': 1, 'b': 2, 'x': {'c': 3, 'd': 4}}\n",
    "_TREE_DATA_2 = {\n",
    "    'a': torch.randn(2, 3), \n",
    "    'x': {\n",
    "        'c': torch.randn(3, 4)\n",
    "    },\n",
    "}\n",
    "_TREE_DATA_3 = {\n",
    "    'obs': torch.randn(4, 84, 84),\n",
    "    'action': torch.randint(0, 6, size=(1,)),\n",
    "    'reward': torch.rand(1),\n",
    "}"
   ]
  },
  {
   "cell_type": "markdown",
   "id": "83461b25",
   "metadata": {},
   "source": [
    "## Read and Write Operation"
   ]
  },
  {
   "cell_type": "markdown",
   "id": "067b3f73",
   "metadata": {},
   "source": [
    "Reading and writing are the two most common operations in the tree data structure based on the data model (TreeValue and Tianshou Batch both belong to this type), so this section will compare the reading and writing performance of these two libraries."
   ]
  },
  {
   "cell_type": "markdown",
   "id": "5d09a5b7",
   "metadata": {},
   "source": [
    "### TreeValue's Get and Set"
   ]
  },
  {
   "cell_type": "code",
   "execution_count": 2,
   "id": "9519c4bb",
   "metadata": {
    "execution": {
     "iopub.execute_input": "2023-02-23T08:54:26.402497Z",
     "iopub.status.busy": "2023-02-23T08:54:26.402093Z",
     "iopub.status.idle": "2023-02-23T08:54:26.435135Z",
     "shell.execute_reply": "2023-02-23T08:54:26.434539Z"
    }
   },
   "outputs": [],
   "source": [
    "from treevalue import FastTreeValue\n",
    "\n",
    "t = FastTreeValue(_TREE_DATA_2)"
   ]
  },
  {
   "cell_type": "code",
   "execution_count": 3,
   "id": "11c37677",
   "metadata": {
    "execution": {
     "iopub.execute_input": "2023-02-23T08:54:26.437941Z",
     "iopub.status.busy": "2023-02-23T08:54:26.437345Z",
     "iopub.status.idle": "2023-02-23T08:54:26.446418Z",
     "shell.execute_reply": "2023-02-23T08:54:26.445838Z"
    }
   },
   "outputs": [
    {
     "data": {
      "text/plain": [
       "<FastTreeValue 0x7f92f82dfeb0>\n",
       "├── 'a' --> tensor([[ 0.6855,  1.4085, -0.8217],\n",
       "│                   [ 0.5253, -1.5035,  1.0939]])\n",
       "└── 'x' --> <FastTreeValue 0x7f92f82dfdc0>\n",
       "    └── 'c' --> tensor([[-1.8362, -2.1066, -0.7294, -1.0983],\n",
       "                        [ 0.6755,  0.3028, -0.6359,  0.0524],\n",
       "                        [-1.0733,  0.6447,  0.1886, -2.0146]])"
      ]
     },
     "execution_count": 3,
     "metadata": {},
     "output_type": "execute_result"
    }
   ],
   "source": [
    "t"
   ]
  },
  {
   "cell_type": "code",
   "execution_count": 4,
   "id": "fd70b0b9",
   "metadata": {
    "execution": {
     "iopub.execute_input": "2023-02-23T08:54:26.449208Z",
     "iopub.status.busy": "2023-02-23T08:54:26.448747Z",
     "iopub.status.idle": "2023-02-23T08:54:26.454186Z",
     "shell.execute_reply": "2023-02-23T08:54:26.453619Z"
    }
   },
   "outputs": [
    {
     "data": {
      "text/plain": [
       "tensor([[ 0.6855,  1.4085, -0.8217],\n",
       "        [ 0.5253, -1.5035,  1.0939]])"
      ]
     },
     "execution_count": 4,
     "metadata": {},
     "output_type": "execute_result"
    }
   ],
   "source": [
    "t.a"
   ]
  },
  {
   "cell_type": "code",
   "execution_count": 5,
   "id": "c18197bd",
   "metadata": {
    "execution": {
     "iopub.execute_input": "2023-02-23T08:54:26.456902Z",
     "iopub.status.busy": "2023-02-23T08:54:26.456449Z",
     "iopub.status.idle": "2023-02-23T08:54:32.137151Z",
     "shell.execute_reply": "2023-02-23T08:54:32.136477Z"
    }
   },
   "outputs": [
    {
     "name": "stdout",
     "output_type": "stream",
     "text": [
      "70 ns ± 0.0726 ns per loop (mean ± std. dev. of 7 runs, 10,000,000 loops each)\n"
     ]
    }
   ],
   "source": [
    "%timeit t.a"
   ]
  },
  {
   "cell_type": "code",
   "execution_count": 6,
   "id": "bd52f867",
   "metadata": {
    "execution": {
     "iopub.execute_input": "2023-02-23T08:54:32.140463Z",
     "iopub.status.busy": "2023-02-23T08:54:32.139797Z",
     "iopub.status.idle": "2023-02-23T08:54:32.146423Z",
     "shell.execute_reply": "2023-02-23T08:54:32.145863Z"
    }
   },
   "outputs": [
    {
     "data": {
      "text/plain": [
       "<FastTreeValue 0x7f92f82dfeb0>\n",
       "├── 'a' --> tensor([[-2.4136, -0.5851,  0.1852],\n",
       "│                   [-0.0716,  1.1884, -0.3052]])\n",
       "└── 'x' --> <FastTreeValue 0x7f92f82dfdc0>\n",
       "    └── 'c' --> tensor([[-1.8362, -2.1066, -0.7294, -1.0983],\n",
       "                        [ 0.6755,  0.3028, -0.6359,  0.0524],\n",
       "                        [-1.0733,  0.6447,  0.1886, -2.0146]])"
      ]
     },
     "execution_count": 6,
     "metadata": {},
     "output_type": "execute_result"
    }
   ],
   "source": [
    "new_value = torch.randn(2, 3)\n",
    "t.a = new_value\n",
    "\n",
    "t"
   ]
  },
  {
   "cell_type": "code",
   "execution_count": 7,
   "id": "bbe04d1c",
   "metadata": {
    "execution": {
     "iopub.execute_input": "2023-02-23T08:54:32.149032Z",
     "iopub.status.busy": "2023-02-23T08:54:32.148707Z",
     "iopub.status.idle": "2023-02-23T08:54:38.014535Z",
     "shell.execute_reply": "2023-02-23T08:54:38.013790Z"
    }
   },
   "outputs": [
    {
     "name": "stdout",
     "output_type": "stream",
     "text": [
      "72.8 ns ± 0.0663 ns per loop (mean ± std. dev. of 7 runs, 10,000,000 loops each)\n"
     ]
    }
   ],
   "source": [
    "%timeit t.a = new_value"
   ]
  },
  {
   "cell_type": "markdown",
   "id": "48c49731",
   "metadata": {},
   "source": [
    "### Tianshou Batch's Get and Set"
   ]
  },
  {
   "cell_type": "code",
   "execution_count": 8,
   "id": "f1bb14c1",
   "metadata": {
    "execution": {
     "iopub.execute_input": "2023-02-23T08:54:38.017498Z",
     "iopub.status.busy": "2023-02-23T08:54:38.016921Z",
     "iopub.status.idle": "2023-02-23T08:54:38.337888Z",
     "shell.execute_reply": "2023-02-23T08:54:38.337214Z"
    }
   },
   "outputs": [],
   "source": [
    "from tianshou.data import Batch\n",
    "\n",
    "b = Batch(**_TREE_DATA_2)"
   ]
  },
  {
   "cell_type": "code",
   "execution_count": 9,
   "id": "cb0777c3",
   "metadata": {
    "execution": {
     "iopub.execute_input": "2023-02-23T08:54:38.341082Z",
     "iopub.status.busy": "2023-02-23T08:54:38.340503Z",
     "iopub.status.idle": "2023-02-23T08:54:38.346555Z",
     "shell.execute_reply": "2023-02-23T08:54:38.345966Z"
    }
   },
   "outputs": [
    {
     "data": {
      "text/plain": [
       "Batch(\n",
       "    a: tensor([[ 0.6855,  1.4085, -0.8217],\n",
       "               [ 0.5253, -1.5035,  1.0939]]),\n",
       "    x: Batch(\n",
       "           c: tensor([[-1.8362, -2.1066, -0.7294, -1.0983],\n",
       "                      [ 0.6755,  0.3028, -0.6359,  0.0524],\n",
       "                      [-1.0733,  0.6447,  0.1886, -2.0146]]),\n",
       "       ),\n",
       ")"
      ]
     },
     "execution_count": 9,
     "metadata": {},
     "output_type": "execute_result"
    }
   ],
   "source": [
    "b"
   ]
  },
  {
   "cell_type": "code",
   "execution_count": 10,
   "id": "43ef8ea3",
   "metadata": {
    "execution": {
     "iopub.execute_input": "2023-02-23T08:54:38.349225Z",
     "iopub.status.busy": "2023-02-23T08:54:38.348903Z",
     "iopub.status.idle": "2023-02-23T08:54:38.353639Z",
     "shell.execute_reply": "2023-02-23T08:54:38.353002Z"
    }
   },
   "outputs": [
    {
     "data": {
      "text/plain": [
       "tensor([[ 0.6855,  1.4085, -0.8217],\n",
       "        [ 0.5253, -1.5035,  1.0939]])"
      ]
     },
     "execution_count": 10,
     "metadata": {},
     "output_type": "execute_result"
    }
   ],
   "source": [
    "b.a"
   ]
  },
  {
   "cell_type": "code",
   "execution_count": 11,
   "id": "b785ab72",
   "metadata": {
    "execution": {
     "iopub.execute_input": "2023-02-23T08:54:38.356074Z",
     "iopub.status.busy": "2023-02-23T08:54:38.355757Z",
     "iopub.status.idle": "2023-02-23T08:54:42.980749Z",
     "shell.execute_reply": "2023-02-23T08:54:42.980019Z"
    }
   },
   "outputs": [
    {
     "name": "stdout",
     "output_type": "stream",
     "text": [
      "56.9 ns ± 0.0141 ns per loop (mean ± std. dev. of 7 runs, 10,000,000 loops each)\n"
     ]
    }
   ],
   "source": [
    "%timeit b.a"
   ]
  },
  {
   "cell_type": "code",
   "execution_count": 12,
   "id": "ad54dc69",
   "metadata": {
    "execution": {
     "iopub.execute_input": "2023-02-23T08:54:42.983983Z",
     "iopub.status.busy": "2023-02-23T08:54:42.983345Z",
     "iopub.status.idle": "2023-02-23T08:54:42.989128Z",
     "shell.execute_reply": "2023-02-23T08:54:42.988503Z"
    }
   },
   "outputs": [
    {
     "data": {
      "text/plain": [
       "Batch(\n",
       "    a: tensor([[-2.0578, -0.0511,  0.5297],\n",
       "               [ 1.2325,  0.0517, -1.1230]]),\n",
       "    x: Batch(\n",
       "           c: tensor([[-1.8362, -2.1066, -0.7294, -1.0983],\n",
       "                      [ 0.6755,  0.3028, -0.6359,  0.0524],\n",
       "                      [-1.0733,  0.6447,  0.1886, -2.0146]]),\n",
       "       ),\n",
       ")"
      ]
     },
     "execution_count": 12,
     "metadata": {},
     "output_type": "execute_result"
    }
   ],
   "source": [
    "new_value = torch.randn(2, 3)\n",
    "b.a = new_value\n",
    "\n",
    "b"
   ]
  },
  {
   "cell_type": "code",
   "execution_count": 13,
   "id": "29b1d0bf",
   "metadata": {
    "execution": {
     "iopub.execute_input": "2023-02-23T08:54:42.991454Z",
     "iopub.status.busy": "2023-02-23T08:54:42.991123Z",
     "iopub.status.idle": "2023-02-23T08:54:46.922919Z",
     "shell.execute_reply": "2023-02-23T08:54:46.921848Z"
    }
   },
   "outputs": [
    {
     "name": "stdout",
     "output_type": "stream",
     "text": [
      "484 ns ± 0.0665 ns per loop (mean ± std. dev. of 7 runs, 1,000,000 loops each)\n"
     ]
    }
   ],
   "source": [
    "%timeit b.a = new_value"
   ]
  },
  {
   "cell_type": "markdown",
   "id": "b61ad1d0",
   "metadata": {},
   "source": [
    "## Initialization"
   ]
  },
  {
   "cell_type": "markdown",
   "id": "d70f0d54",
   "metadata": {},
   "source": [
    "### TreeValue's Initialization"
   ]
  },
  {
   "cell_type": "code",
   "execution_count": 14,
   "id": "d32a679b",
   "metadata": {
    "execution": {
     "iopub.execute_input": "2023-02-23T08:54:46.925799Z",
     "iopub.status.busy": "2023-02-23T08:54:46.925238Z",
     "iopub.status.idle": "2023-02-23T08:54:53.667011Z",
     "shell.execute_reply": "2023-02-23T08:54:53.666283Z"
    }
   },
   "outputs": [
    {
     "name": "stdout",
     "output_type": "stream",
     "text": [
      "831 ns ± 0.341 ns per loop (mean ± std. dev. of 7 runs, 1,000,000 loops each)\n"
     ]
    }
   ],
   "source": [
    "%timeit FastTreeValue(_TREE_DATA_1)"
   ]
  },
  {
   "cell_type": "markdown",
   "id": "24f3707b",
   "metadata": {},
   "source": [
    "### Tianshou Batch's Initialization"
   ]
  },
  {
   "cell_type": "code",
   "execution_count": 15,
   "id": "ac3958df",
   "metadata": {
    "execution": {
     "iopub.execute_input": "2023-02-23T08:54:53.669926Z",
     "iopub.status.busy": "2023-02-23T08:54:53.669276Z",
     "iopub.status.idle": "2023-02-23T08:55:02.858703Z",
     "shell.execute_reply": "2023-02-23T08:55:02.857964Z"
    }
   },
   "outputs": [
    {
     "name": "stdout",
     "output_type": "stream",
     "text": [
      "11.3 µs ± 9.16 ns per loop (mean ± std. dev. of 7 runs, 100,000 loops each)\n"
     ]
    }
   ],
   "source": [
    "%timeit Batch(**_TREE_DATA_1)"
   ]
  },
  {
   "cell_type": "markdown",
   "id": "1ab82e2d",
   "metadata": {},
   "source": [
    "## Deep Copy Operation"
   ]
  },
  {
   "cell_type": "code",
   "execution_count": 16,
   "id": "210a9442",
   "metadata": {
    "execution": {
     "iopub.execute_input": "2023-02-23T08:55:02.861383Z",
     "iopub.status.busy": "2023-02-23T08:55:02.861032Z",
     "iopub.status.idle": "2023-02-23T08:55:02.864828Z",
     "shell.execute_reply": "2023-02-23T08:55:02.864244Z"
    }
   },
   "outputs": [],
   "source": [
    "import copy"
   ]
  },
  {
   "cell_type": "markdown",
   "id": "5a736274",
   "metadata": {},
   "source": [
    "### Deep Copy of TreeValue"
   ]
  },
  {
   "cell_type": "code",
   "execution_count": 17,
   "id": "f9bcadd6",
   "metadata": {
    "execution": {
     "iopub.execute_input": "2023-02-23T08:55:02.867228Z",
     "iopub.status.busy": "2023-02-23T08:55:02.866896Z",
     "iopub.status.idle": "2023-02-23T08:55:14.097401Z",
     "shell.execute_reply": "2023-02-23T08:55:14.096849Z"
    }
   },
   "outputs": [
    {
     "name": "stdout",
     "output_type": "stream",
     "text": [
      "138 µs ± 463 ns per loop (mean ± std. dev. of 7 runs, 10,000 loops each)\n"
     ]
    }
   ],
   "source": [
    "t3 = FastTreeValue(_TREE_DATA_3)\n",
    "%timeit copy.deepcopy(t3)"
   ]
  },
  {
   "cell_type": "markdown",
   "id": "bf8be7ea",
   "metadata": {},
   "source": [
    "### Deep Copy of Tianshou Batch"
   ]
  },
  {
   "cell_type": "code",
   "execution_count": 18,
   "id": "91998e6f",
   "metadata": {
    "execution": {
     "iopub.execute_input": "2023-02-23T08:55:14.100591Z",
     "iopub.status.busy": "2023-02-23T08:55:14.099639Z",
     "iopub.status.idle": "2023-02-23T08:55:25.509090Z",
     "shell.execute_reply": "2023-02-23T08:55:25.508506Z"
    }
   },
   "outputs": [
    {
     "name": "stdout",
     "output_type": "stream",
     "text": [
      "141 µs ± 368 ns per loop (mean ± std. dev. of 7 runs, 10,000 loops each)\n"
     ]
    }
   ],
   "source": [
    "b3 = Batch(**_TREE_DATA_3)\n",
    "%timeit copy.deepcopy(b3)"
   ]
  },
  {
   "cell_type": "markdown",
   "id": "223162fb",
   "metadata": {},
   "source": [
    "## Stack, Concat and Split Operation"
   ]
  },
  {
   "cell_type": "markdown",
   "id": "85fa4a73",
   "metadata": {},
   "source": [
    "### Performance of TreeValue"
   ]
  },
  {
   "cell_type": "code",
   "execution_count": 19,
   "id": "a0c2b697",
   "metadata": {
    "execution": {
     "iopub.execute_input": "2023-02-23T08:55:25.512824Z",
     "iopub.status.busy": "2023-02-23T08:55:25.511926Z",
     "iopub.status.idle": "2023-02-23T08:55:25.516153Z",
     "shell.execute_reply": "2023-02-23T08:55:25.515633Z"
    }
   },
   "outputs": [],
   "source": [
    "trees = [FastTreeValue(_TREE_DATA_2) for _ in range(8)]"
   ]
  },
  {
   "cell_type": "code",
   "execution_count": 20,
   "id": "017ea5a5",
   "metadata": {
    "execution": {
     "iopub.execute_input": "2023-02-23T08:55:25.518806Z",
     "iopub.status.busy": "2023-02-23T08:55:25.518437Z",
     "iopub.status.idle": "2023-02-23T08:55:25.525569Z",
     "shell.execute_reply": "2023-02-23T08:55:25.524944Z"
    }
   },
   "outputs": [
    {
     "data": {
      "text/plain": [
       "<FastTreeValue 0x7f924dfc5d60>\n",
       "├── 'a' --> tensor([[[ 0.6855,  1.4085, -0.8217],\n",
       "│                    [ 0.5253, -1.5035,  1.0939]],\n",
       "│           \n",
       "│                   [[ 0.6855,  1.4085, -0.8217],\n",
       "│                    [ 0.5253, -1.5035,  1.0939]],\n",
       "│           \n",
       "│                   [[ 0.6855,  1.4085, -0.8217],\n",
       "│                    [ 0.5253, -1.5035,  1.0939]],\n",
       "│           \n",
       "│                   [[ 0.6855,  1.4085, -0.8217],\n",
       "│                    [ 0.5253, -1.5035,  1.0939]],\n",
       "│           \n",
       "│                   [[ 0.6855,  1.4085, -0.8217],\n",
       "│                    [ 0.5253, -1.5035,  1.0939]],\n",
       "│           \n",
       "│                   [[ 0.6855,  1.4085, -0.8217],\n",
       "│                    [ 0.5253, -1.5035,  1.0939]],\n",
       "│           \n",
       "│                   [[ 0.6855,  1.4085, -0.8217],\n",
       "│                    [ 0.5253, -1.5035,  1.0939]],\n",
       "│           \n",
       "│                   [[ 0.6855,  1.4085, -0.8217],\n",
       "│                    [ 0.5253, -1.5035,  1.0939]]])\n",
       "└── 'x' --> <FastTreeValue 0x7f92f82d8430>\n",
       "    └── 'c' --> tensor([[[-1.8362, -2.1066, -0.7294, -1.0983],\n",
       "                         [ 0.6755,  0.3028, -0.6359,  0.0524],\n",
       "                         [-1.0733,  0.6447,  0.1886, -2.0146]],\n",
       "                \n",
       "                        [[-1.8362, -2.1066, -0.7294, -1.0983],\n",
       "                         [ 0.6755,  0.3028, -0.6359,  0.0524],\n",
       "                         [-1.0733,  0.6447,  0.1886, -2.0146]],\n",
       "                \n",
       "                        [[-1.8362, -2.1066, -0.7294, -1.0983],\n",
       "                         [ 0.6755,  0.3028, -0.6359,  0.0524],\n",
       "                         [-1.0733,  0.6447,  0.1886, -2.0146]],\n",
       "                \n",
       "                        [[-1.8362, -2.1066, -0.7294, -1.0983],\n",
       "                         [ 0.6755,  0.3028, -0.6359,  0.0524],\n",
       "                         [-1.0733,  0.6447,  0.1886, -2.0146]],\n",
       "                \n",
       "                        [[-1.8362, -2.1066, -0.7294, -1.0983],\n",
       "                         [ 0.6755,  0.3028, -0.6359,  0.0524],\n",
       "                         [-1.0733,  0.6447,  0.1886, -2.0146]],\n",
       "                \n",
       "                        [[-1.8362, -2.1066, -0.7294, -1.0983],\n",
       "                         [ 0.6755,  0.3028, -0.6359,  0.0524],\n",
       "                         [-1.0733,  0.6447,  0.1886, -2.0146]],\n",
       "                \n",
       "                        [[-1.8362, -2.1066, -0.7294, -1.0983],\n",
       "                         [ 0.6755,  0.3028, -0.6359,  0.0524],\n",
       "                         [-1.0733,  0.6447,  0.1886, -2.0146]],\n",
       "                \n",
       "                        [[-1.8362, -2.1066, -0.7294, -1.0983],\n",
       "                         [ 0.6755,  0.3028, -0.6359,  0.0524],\n",
       "                         [-1.0733,  0.6447,  0.1886, -2.0146]]])"
      ]
     },
     "execution_count": 20,
     "metadata": {},
     "output_type": "execute_result"
    }
   ],
   "source": [
    "t_stack = FastTreeValue.func(subside=True)(torch.stack)\n",
    "\n",
    "t_stack(trees)"
   ]
  },
  {
   "cell_type": "code",
   "execution_count": 21,
   "id": "f8b3f415",
   "metadata": {
    "execution": {
     "iopub.execute_input": "2023-02-23T08:55:25.527913Z",
     "iopub.status.busy": "2023-02-23T08:55:25.527586Z",
     "iopub.status.idle": "2023-02-23T08:55:28.202898Z",
     "shell.execute_reply": "2023-02-23T08:55:28.202179Z"
    }
   },
   "outputs": [
    {
     "name": "stdout",
     "output_type": "stream",
     "text": [
      "32.9 µs ± 42.9 ns per loop (mean ± std. dev. of 7 runs, 10,000 loops each)\n"
     ]
    }
   ],
   "source": [
    "%timeit t_stack(trees)"
   ]
  },
  {
   "cell_type": "code",
   "execution_count": 22,
   "id": "94b56771",
   "metadata": {
    "execution": {
     "iopub.execute_input": "2023-02-23T08:55:28.206064Z",
     "iopub.status.busy": "2023-02-23T08:55:28.205479Z",
     "iopub.status.idle": "2023-02-23T08:55:28.213833Z",
     "shell.execute_reply": "2023-02-23T08:55:28.212828Z"
    }
   },
   "outputs": [
    {
     "data": {
      "text/plain": [
       "<FastTreeValue 0x7f9254bea070>\n",
       "├── 'a' --> tensor([[ 0.6855,  1.4085, -0.8217],\n",
       "│                   [ 0.5253, -1.5035,  1.0939],\n",
       "│                   [ 0.6855,  1.4085, -0.8217],\n",
       "│                   [ 0.5253, -1.5035,  1.0939],\n",
       "│                   [ 0.6855,  1.4085, -0.8217],\n",
       "│                   [ 0.5253, -1.5035,  1.0939],\n",
       "│                   [ 0.6855,  1.4085, -0.8217],\n",
       "│                   [ 0.5253, -1.5035,  1.0939],\n",
       "│                   [ 0.6855,  1.4085, -0.8217],\n",
       "│                   [ 0.5253, -1.5035,  1.0939],\n",
       "│                   [ 0.6855,  1.4085, -0.8217],\n",
       "│                   [ 0.5253, -1.5035,  1.0939],\n",
       "│                   [ 0.6855,  1.4085, -0.8217],\n",
       "│                   [ 0.5253, -1.5035,  1.0939],\n",
       "│                   [ 0.6855,  1.4085, -0.8217],\n",
       "│                   [ 0.5253, -1.5035,  1.0939]])\n",
       "└── 'x' --> <FastTreeValue 0x7f9254bdf0d0>\n",
       "    └── 'c' --> tensor([[-1.8362, -2.1066, -0.7294, -1.0983],\n",
       "                        [ 0.6755,  0.3028, -0.6359,  0.0524],\n",
       "                        [-1.0733,  0.6447,  0.1886, -2.0146],\n",
       "                        [-1.8362, -2.1066, -0.7294, -1.0983],\n",
       "                        [ 0.6755,  0.3028, -0.6359,  0.0524],\n",
       "                        [-1.0733,  0.6447,  0.1886, -2.0146],\n",
       "                        [-1.8362, -2.1066, -0.7294, -1.0983],\n",
       "                        [ 0.6755,  0.3028, -0.6359,  0.0524],\n",
       "                        [-1.0733,  0.6447,  0.1886, -2.0146],\n",
       "                        [-1.8362, -2.1066, -0.7294, -1.0983],\n",
       "                        [ 0.6755,  0.3028, -0.6359,  0.0524],\n",
       "                        [-1.0733,  0.6447,  0.1886, -2.0146],\n",
       "                        [-1.8362, -2.1066, -0.7294, -1.0983],\n",
       "                        [ 0.6755,  0.3028, -0.6359,  0.0524],\n",
       "                        [-1.0733,  0.6447,  0.1886, -2.0146],\n",
       "                        [-1.8362, -2.1066, -0.7294, -1.0983],\n",
       "                        [ 0.6755,  0.3028, -0.6359,  0.0524],\n",
       "                        [-1.0733,  0.6447,  0.1886, -2.0146],\n",
       "                        [-1.8362, -2.1066, -0.7294, -1.0983],\n",
       "                        [ 0.6755,  0.3028, -0.6359,  0.0524],\n",
       "                        [-1.0733,  0.6447,  0.1886, -2.0146],\n",
       "                        [-1.8362, -2.1066, -0.7294, -1.0983],\n",
       "                        [ 0.6755,  0.3028, -0.6359,  0.0524],\n",
       "                        [-1.0733,  0.6447,  0.1886, -2.0146]])"
      ]
     },
     "execution_count": 22,
     "metadata": {},
     "output_type": "execute_result"
    }
   ],
   "source": [
    "t_cat = FastTreeValue.func(subside=True)(torch.cat)\n",
    "\n",
    "t_cat(trees)"
   ]
  },
  {
   "cell_type": "code",
   "execution_count": 23,
   "id": "5e9c06a6",
   "metadata": {
    "execution": {
     "iopub.execute_input": "2023-02-23T08:55:28.216627Z",
     "iopub.status.busy": "2023-02-23T08:55:28.216145Z",
     "iopub.status.idle": "2023-02-23T08:55:30.702447Z",
     "shell.execute_reply": "2023-02-23T08:55:30.701735Z"
    }
   },
   "outputs": [
    {
     "name": "stdout",
     "output_type": "stream",
     "text": [
      "30.6 µs ± 44.2 ns per loop (mean ± std. dev. of 7 runs, 10,000 loops each)\n"
     ]
    }
   ],
   "source": [
    "%timeit t_cat(trees)"
   ]
  },
  {
   "cell_type": "code",
   "execution_count": 24,
   "id": "a3ab5c8f",
   "metadata": {
    "execution": {
     "iopub.execute_input": "2023-02-23T08:55:30.705416Z",
     "iopub.status.busy": "2023-02-23T08:55:30.705060Z",
     "iopub.status.idle": "2023-02-23T08:55:35.491434Z",
     "shell.execute_reply": "2023-02-23T08:55:35.490681Z"
    }
   },
   "outputs": [
    {
     "name": "stdout",
     "output_type": "stream",
     "text": [
      "58.9 µs ± 79.1 ns per loop (mean ± std. dev. of 7 runs, 10,000 loops each)\n"
     ]
    }
   ],
   "source": [
    "t_split = FastTreeValue.func(rise=True)(torch.split)\n",
    "tree = FastTreeValue({\n",
    "    'obs': torch.randn(8, 4, 84, 84),\n",
    "    'action': torch.randint(0, 6, size=(8, 1,)),\n",
    "    'reward': torch.rand(8, 1),\n",
    "})\n",
    "\n",
    "%timeit t_split(tree, 1)"
   ]
  },
  {
   "cell_type": "markdown",
   "id": "31c3ec0b",
   "metadata": {},
   "source": [
    "### Performance of Tianshou Batch"
   ]
  },
  {
   "cell_type": "code",
   "execution_count": 25,
   "id": "9ead828a",
   "metadata": {
    "execution": {
     "iopub.execute_input": "2023-02-23T08:55:35.494159Z",
     "iopub.status.busy": "2023-02-23T08:55:35.493820Z",
     "iopub.status.idle": "2023-02-23T08:55:35.502194Z",
     "shell.execute_reply": "2023-02-23T08:55:35.501617Z"
    }
   },
   "outputs": [
    {
     "data": {
      "text/plain": [
       "Batch(\n",
       "    a: tensor([[[ 0.6855,  1.4085, -0.8217],\n",
       "                [ 0.5253, -1.5035,  1.0939]],\n",
       "       \n",
       "               [[ 0.6855,  1.4085, -0.8217],\n",
       "                [ 0.5253, -1.5035,  1.0939]],\n",
       "       \n",
       "               [[ 0.6855,  1.4085, -0.8217],\n",
       "                [ 0.5253, -1.5035,  1.0939]],\n",
       "       \n",
       "               [[ 0.6855,  1.4085, -0.8217],\n",
       "                [ 0.5253, -1.5035,  1.0939]],\n",
       "       \n",
       "               [[ 0.6855,  1.4085, -0.8217],\n",
       "                [ 0.5253, -1.5035,  1.0939]],\n",
       "       \n",
       "               [[ 0.6855,  1.4085, -0.8217],\n",
       "                [ 0.5253, -1.5035,  1.0939]],\n",
       "       \n",
       "               [[ 0.6855,  1.4085, -0.8217],\n",
       "                [ 0.5253, -1.5035,  1.0939]],\n",
       "       \n",
       "               [[ 0.6855,  1.4085, -0.8217],\n",
       "                [ 0.5253, -1.5035,  1.0939]]]),\n",
       "    x: Batch(\n",
       "           c: tensor([[[-1.8362, -2.1066, -0.7294, -1.0983],\n",
       "                       [ 0.6755,  0.3028, -0.6359,  0.0524],\n",
       "                       [-1.0733,  0.6447,  0.1886, -2.0146]],\n",
       "              \n",
       "                      [[-1.8362, -2.1066, -0.7294, -1.0983],\n",
       "                       [ 0.6755,  0.3028, -0.6359,  0.0524],\n",
       "                       [-1.0733,  0.6447,  0.1886, -2.0146]],\n",
       "              \n",
       "                      [[-1.8362, -2.1066, -0.7294, -1.0983],\n",
       "                       [ 0.6755,  0.3028, -0.6359,  0.0524],\n",
       "                       [-1.0733,  0.6447,  0.1886, -2.0146]],\n",
       "              \n",
       "                      [[-1.8362, -2.1066, -0.7294, -1.0983],\n",
       "                       [ 0.6755,  0.3028, -0.6359,  0.0524],\n",
       "                       [-1.0733,  0.6447,  0.1886, -2.0146]],\n",
       "              \n",
       "                      [[-1.8362, -2.1066, -0.7294, -1.0983],\n",
       "                       [ 0.6755,  0.3028, -0.6359,  0.0524],\n",
       "                       [-1.0733,  0.6447,  0.1886, -2.0146]],\n",
       "              \n",
       "                      [[-1.8362, -2.1066, -0.7294, -1.0983],\n",
       "                       [ 0.6755,  0.3028, -0.6359,  0.0524],\n",
       "                       [-1.0733,  0.6447,  0.1886, -2.0146]],\n",
       "              \n",
       "                      [[-1.8362, -2.1066, -0.7294, -1.0983],\n",
       "                       [ 0.6755,  0.3028, -0.6359,  0.0524],\n",
       "                       [-1.0733,  0.6447,  0.1886, -2.0146]],\n",
       "              \n",
       "                      [[-1.8362, -2.1066, -0.7294, -1.0983],\n",
       "                       [ 0.6755,  0.3028, -0.6359,  0.0524],\n",
       "                       [-1.0733,  0.6447,  0.1886, -2.0146]]]),\n",
       "       ),\n",
       ")"
      ]
     },
     "execution_count": 25,
     "metadata": {},
     "output_type": "execute_result"
    }
   ],
   "source": [
    "batches = [Batch(**_TREE_DATA_2) for _ in range(8)]\n",
    "\n",
    "Batch.stack(batches)"
   ]
  },
  {
   "cell_type": "code",
   "execution_count": 26,
   "id": "ec9037a3",
   "metadata": {
    "execution": {
     "iopub.execute_input": "2023-02-23T08:55:35.504759Z",
     "iopub.status.busy": "2023-02-23T08:55:35.504433Z",
     "iopub.status.idle": "2023-02-23T08:55:41.929392Z",
     "shell.execute_reply": "2023-02-23T08:55:41.928651Z"
    }
   },
   "outputs": [
    {
     "name": "stdout",
     "output_type": "stream",
     "text": [
      "79.1 µs ± 155 ns per loop (mean ± std. dev. of 7 runs, 10,000 loops each)\n"
     ]
    }
   ],
   "source": [
    "%timeit Batch.stack(batches)"
   ]
  },
  {
   "cell_type": "code",
   "execution_count": 27,
   "id": "cb8ab77e",
   "metadata": {
    "execution": {
     "iopub.execute_input": "2023-02-23T08:55:41.932389Z",
     "iopub.status.busy": "2023-02-23T08:55:41.932040Z",
     "iopub.status.idle": "2023-02-23T08:55:41.939885Z",
     "shell.execute_reply": "2023-02-23T08:55:41.939312Z"
    }
   },
   "outputs": [
    {
     "data": {
      "text/plain": [
       "Batch(\n",
       "    a: tensor([[ 0.6855,  1.4085, -0.8217],\n",
       "               [ 0.5253, -1.5035,  1.0939],\n",
       "               [ 0.6855,  1.4085, -0.8217],\n",
       "               [ 0.5253, -1.5035,  1.0939],\n",
       "               [ 0.6855,  1.4085, -0.8217],\n",
       "               [ 0.5253, -1.5035,  1.0939],\n",
       "               [ 0.6855,  1.4085, -0.8217],\n",
       "               [ 0.5253, -1.5035,  1.0939],\n",
       "               [ 0.6855,  1.4085, -0.8217],\n",
       "               [ 0.5253, -1.5035,  1.0939],\n",
       "               [ 0.6855,  1.4085, -0.8217],\n",
       "               [ 0.5253, -1.5035,  1.0939],\n",
       "               [ 0.6855,  1.4085, -0.8217],\n",
       "               [ 0.5253, -1.5035,  1.0939],\n",
       "               [ 0.6855,  1.4085, -0.8217],\n",
       "               [ 0.5253, -1.5035,  1.0939]]),\n",
       "    x: Batch(\n",
       "           c: tensor([[-1.8362, -2.1066, -0.7294, -1.0983],\n",
       "                      [ 0.6755,  0.3028, -0.6359,  0.0524],\n",
       "                      [-1.0733,  0.6447,  0.1886, -2.0146],\n",
       "                      [-1.8362, -2.1066, -0.7294, -1.0983],\n",
       "                      [ 0.6755,  0.3028, -0.6359,  0.0524],\n",
       "                      [-1.0733,  0.6447,  0.1886, -2.0146],\n",
       "                      [-1.8362, -2.1066, -0.7294, -1.0983],\n",
       "                      [ 0.6755,  0.3028, -0.6359,  0.0524],\n",
       "                      [-1.0733,  0.6447,  0.1886, -2.0146],\n",
       "                      [-1.8362, -2.1066, -0.7294, -1.0983],\n",
       "                      [ 0.6755,  0.3028, -0.6359,  0.0524],\n",
       "                      [-1.0733,  0.6447,  0.1886, -2.0146],\n",
       "                      [-1.8362, -2.1066, -0.7294, -1.0983],\n",
       "                      [ 0.6755,  0.3028, -0.6359,  0.0524],\n",
       "                      [-1.0733,  0.6447,  0.1886, -2.0146],\n",
       "                      [-1.8362, -2.1066, -0.7294, -1.0983],\n",
       "                      [ 0.6755,  0.3028, -0.6359,  0.0524],\n",
       "                      [-1.0733,  0.6447,  0.1886, -2.0146],\n",
       "                      [-1.8362, -2.1066, -0.7294, -1.0983],\n",
       "                      [ 0.6755,  0.3028, -0.6359,  0.0524],\n",
       "                      [-1.0733,  0.6447,  0.1886, -2.0146],\n",
       "                      [-1.8362, -2.1066, -0.7294, -1.0983],\n",
       "                      [ 0.6755,  0.3028, -0.6359,  0.0524],\n",
       "                      [-1.0733,  0.6447,  0.1886, -2.0146]]),\n",
       "       ),\n",
       ")"
      ]
     },
     "execution_count": 27,
     "metadata": {},
     "output_type": "execute_result"
    }
   ],
   "source": [
    "Batch.cat(batches)"
   ]
  },
  {
   "cell_type": "code",
   "execution_count": 28,
   "id": "18dfb045",
   "metadata": {
    "execution": {
     "iopub.execute_input": "2023-02-23T08:55:41.942419Z",
     "iopub.status.busy": "2023-02-23T08:55:41.942095Z",
     "iopub.status.idle": "2023-02-23T08:55:53.639921Z",
     "shell.execute_reply": "2023-02-23T08:55:53.639258Z"
    }
   },
   "outputs": [
    {
     "name": "stdout",
     "output_type": "stream",
     "text": [
      "144 µs ± 299 ns per loop (mean ± std. dev. of 7 runs, 10,000 loops each)\n"
     ]
    }
   ],
   "source": [
    "%timeit Batch.cat(batches)"
   ]
  },
  {
   "cell_type": "code",
   "execution_count": 29,
   "id": "c6688e51",
   "metadata": {
    "execution": {
     "iopub.execute_input": "2023-02-23T08:55:53.642937Z",
     "iopub.status.busy": "2023-02-23T08:55:53.642412Z",
     "iopub.status.idle": "2023-02-23T08:55:56.192034Z",
     "shell.execute_reply": "2023-02-23T08:55:56.191439Z"
    }
   },
   "outputs": [
    {
     "name": "stdout",
     "output_type": "stream",
     "text": [
      "313 µs ± 3.91 µs per loop (mean ± std. dev. of 7 runs, 1,000 loops each)\n"
     ]
    }
   ],
   "source": [
    "batch = Batch({\n",
    "    'obs': torch.randn(8, 4, 84, 84),\n",
    "    'action': torch.randint(0, 6, size=(8, 1,)),\n",
    "    'reward': torch.rand(8, 1)}\n",
    ")\n",
    "\n",
    "%timeit list(Batch.split(batch, 1, shuffle=False, merge_last=True))"
   ]
  },
  {
   "cell_type": "code",
   "execution_count": null,
   "id": "2539fbd9",
   "metadata": {},
   "outputs": [],
   "source": []
  }
 ],
 "metadata": {
  "kernelspec": {
   "display_name": "Python 3 (ipykernel)",
   "language": "python",
   "name": "python3"
  },
  "language_info": {
   "codemirror_mode": {
    "name": "ipython",
    "version": 3
   },
   "file_extension": ".py",
   "mimetype": "text/x-python",
   "name": "python",
   "nbconvert_exporter": "python",
   "pygments_lexer": "ipython3",
   "version": "3.8.16"
  }
 },
 "nbformat": 4,
 "nbformat_minor": 5
}
