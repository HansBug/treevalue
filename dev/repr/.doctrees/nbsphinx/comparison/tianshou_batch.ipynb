{
 "cells": [
  {
   "cell_type": "markdown",
   "id": "9d39d946",
   "metadata": {},
   "source": [
    "# Comparison Between TreeValue and Tianshou Batch"
   ]
  },
  {
   "cell_type": "markdown",
   "id": "3c6db2d4",
   "metadata": {},
   "source": [
    "In this section, we will take a look at the feature and performance of the [Tianshou Batch](https://github.com/thu-ml/tianshou) library, which is developed by Tsinghua Machine Learning Group."
   ]
  },
  {
   "cell_type": "markdown",
   "id": "069361b0",
   "metadata": {},
   "source": [
    "Before starting the comparison, let us define some thing."
   ]
  },
  {
   "cell_type": "code",
   "execution_count": 1,
   "id": "06fc8d26",
   "metadata": {
    "execution": {
     "iopub.execute_input": "2023-02-25T08:55:59.822147Z",
     "iopub.status.busy": "2023-02-25T08:55:59.821848Z",
     "iopub.status.idle": "2023-02-25T08:56:00.948256Z",
     "shell.execute_reply": "2023-02-25T08:56:00.947166Z"
    }
   },
   "outputs": [
    {
     "name": "stderr",
     "output_type": "stream",
     "text": [
      "/opt/hostedtoolcache/Python/3.8.16/x64/lib/python3.8/site-packages/tqdm/auto.py:22: TqdmWarning: IProgress not found. Please update jupyter and ipywidgets. See https://ipywidgets.readthedocs.io/en/stable/user_install.html\n",
      "  from .autonotebook import tqdm as notebook_tqdm\n"
     ]
    }
   ],
   "source": [
    "import torch \n",
    "\n",
    "_TREE_DATA_1 = {'a': 1, 'b': 2, 'x': {'c': 3, 'd': 4}}\n",
    "_TREE_DATA_2 = {\n",
    "    'a': torch.randn(2, 3), \n",
    "    'x': {\n",
    "        'c': torch.randn(3, 4)\n",
    "    },\n",
    "}\n",
    "_TREE_DATA_3 = {\n",
    "    'obs': torch.randn(4, 84, 84),\n",
    "    'action': torch.randint(0, 6, size=(1,)),\n",
    "    'reward': torch.rand(1),\n",
    "}"
   ]
  },
  {
   "cell_type": "markdown",
   "id": "83461b25",
   "metadata": {},
   "source": [
    "## Read and Write Operation"
   ]
  },
  {
   "cell_type": "markdown",
   "id": "067b3f73",
   "metadata": {},
   "source": [
    "Reading and writing are the two most common operations in the tree data structure based on the data model (TreeValue and Tianshou Batch both belong to this type), so this section will compare the reading and writing performance of these two libraries."
   ]
  },
  {
   "cell_type": "markdown",
   "id": "5d09a5b7",
   "metadata": {},
   "source": [
    "### TreeValue's Get and Set"
   ]
  },
  {
   "cell_type": "code",
   "execution_count": 2,
   "id": "9519c4bb",
   "metadata": {
    "execution": {
     "iopub.execute_input": "2023-02-25T08:56:00.953578Z",
     "iopub.status.busy": "2023-02-25T08:56:00.952648Z",
     "iopub.status.idle": "2023-02-25T08:56:00.992353Z",
     "shell.execute_reply": "2023-02-25T08:56:00.991413Z"
    }
   },
   "outputs": [],
   "source": [
    "from treevalue import FastTreeValue\n",
    "\n",
    "t = FastTreeValue(_TREE_DATA_2)"
   ]
  },
  {
   "cell_type": "code",
   "execution_count": 3,
   "id": "11c37677",
   "metadata": {
    "execution": {
     "iopub.execute_input": "2023-02-25T08:56:00.997034Z",
     "iopub.status.busy": "2023-02-25T08:56:00.996648Z",
     "iopub.status.idle": "2023-02-25T08:56:01.007569Z",
     "shell.execute_reply": "2023-02-25T08:56:01.006887Z"
    }
   },
   "outputs": [
    {
     "data": {
      "text/plain": [
       "<FastTreeValue 0x7f4870362e80>\n",
       "├── 'a' --> tensor([[-0.4269,  0.2989,  0.8096],\n",
       "│                   [-1.3658,  0.0782,  1.6332]])\n",
       "└── 'x' --> <FastTreeValue 0x7f4870362f10>\n",
       "    └── 'c' --> tensor([[ 0.3432, -2.4007,  0.4068,  0.5582],\n",
       "                        [-0.0710,  1.1531,  0.6361,  1.8184],\n",
       "                        [-0.6108, -0.1544, -0.0995, -0.4696]])"
      ]
     },
     "execution_count": 3,
     "metadata": {},
     "output_type": "execute_result"
    }
   ],
   "source": [
    "t"
   ]
  },
  {
   "cell_type": "code",
   "execution_count": 4,
   "id": "fd70b0b9",
   "metadata": {
    "execution": {
     "iopub.execute_input": "2023-02-25T08:56:01.010462Z",
     "iopub.status.busy": "2023-02-25T08:56:01.010075Z",
     "iopub.status.idle": "2023-02-25T08:56:01.016810Z",
     "shell.execute_reply": "2023-02-25T08:56:01.016134Z"
    }
   },
   "outputs": [
    {
     "data": {
      "text/plain": [
       "tensor([[-0.4269,  0.2989,  0.8096],\n",
       "        [-1.3658,  0.0782,  1.6332]])"
      ]
     },
     "execution_count": 4,
     "metadata": {},
     "output_type": "execute_result"
    }
   ],
   "source": [
    "t.a"
   ]
  },
  {
   "cell_type": "code",
   "execution_count": 5,
   "id": "c18197bd",
   "metadata": {
    "execution": {
     "iopub.execute_input": "2023-02-25T08:56:01.019977Z",
     "iopub.status.busy": "2023-02-25T08:56:01.019564Z",
     "iopub.status.idle": "2023-02-25T08:56:07.034865Z",
     "shell.execute_reply": "2023-02-25T08:56:07.033616Z"
    }
   },
   "outputs": [
    {
     "name": "stdout",
     "output_type": "stream",
     "text": [
      "74.1 ns ± 0.381 ns per loop (mean ± std. dev. of 7 runs, 10,000,000 loops each)\n"
     ]
    }
   ],
   "source": [
    "%timeit t.a"
   ]
  },
  {
   "cell_type": "code",
   "execution_count": 6,
   "id": "bd52f867",
   "metadata": {
    "execution": {
     "iopub.execute_input": "2023-02-25T08:56:07.038429Z",
     "iopub.status.busy": "2023-02-25T08:56:07.038127Z",
     "iopub.status.idle": "2023-02-25T08:56:07.047278Z",
     "shell.execute_reply": "2023-02-25T08:56:07.046005Z"
    }
   },
   "outputs": [
    {
     "data": {
      "text/plain": [
       "<FastTreeValue 0x7f4870362e80>\n",
       "├── 'a' --> tensor([[-1.8748, -1.5720,  0.0064],\n",
       "│                   [-1.0775, -1.4039, -0.5563]])\n",
       "└── 'x' --> <FastTreeValue 0x7f4870362f10>\n",
       "    └── 'c' --> tensor([[ 0.3432, -2.4007,  0.4068,  0.5582],\n",
       "                        [-0.0710,  1.1531,  0.6361,  1.8184],\n",
       "                        [-0.6108, -0.1544, -0.0995, -0.4696]])"
      ]
     },
     "execution_count": 6,
     "metadata": {},
     "output_type": "execute_result"
    }
   ],
   "source": [
    "new_value = torch.randn(2, 3)\n",
    "t.a = new_value\n",
    "\n",
    "t"
   ]
  },
  {
   "cell_type": "code",
   "execution_count": 7,
   "id": "bbe04d1c",
   "metadata": {
    "execution": {
     "iopub.execute_input": "2023-02-25T08:56:07.050587Z",
     "iopub.status.busy": "2023-02-25T08:56:07.049996Z",
     "iopub.status.idle": "2023-02-25T08:56:13.781438Z",
     "shell.execute_reply": "2023-02-25T08:56:13.780385Z"
    }
   },
   "outputs": [
    {
     "name": "stdout",
     "output_type": "stream",
     "text": [
      "82.9 ns ± 0.757 ns per loop (mean ± std. dev. of 7 runs, 10,000,000 loops each)\n"
     ]
    }
   ],
   "source": [
    "%timeit t.a = new_value"
   ]
  },
  {
   "cell_type": "markdown",
   "id": "48c49731",
   "metadata": {},
   "source": [
    "### Tianshou Batch's Get and Set"
   ]
  },
  {
   "cell_type": "code",
   "execution_count": 8,
   "id": "f1bb14c1",
   "metadata": {
    "execution": {
     "iopub.execute_input": "2023-02-25T08:56:13.786005Z",
     "iopub.status.busy": "2023-02-25T08:56:13.785181Z",
     "iopub.status.idle": "2023-02-25T08:56:14.195217Z",
     "shell.execute_reply": "2023-02-25T08:56:14.193911Z"
    }
   },
   "outputs": [],
   "source": [
    "from tianshou.data import Batch\n",
    "\n",
    "b = Batch(**_TREE_DATA_2)"
   ]
  },
  {
   "cell_type": "code",
   "execution_count": 9,
   "id": "cb0777c3",
   "metadata": {
    "execution": {
     "iopub.execute_input": "2023-02-25T08:56:14.199504Z",
     "iopub.status.busy": "2023-02-25T08:56:14.198742Z",
     "iopub.status.idle": "2023-02-25T08:56:14.205321Z",
     "shell.execute_reply": "2023-02-25T08:56:14.204576Z"
    }
   },
   "outputs": [
    {
     "data": {
      "text/plain": [
       "Batch(\n",
       "    a: tensor([[-0.4269,  0.2989,  0.8096],\n",
       "               [-1.3658,  0.0782,  1.6332]]),\n",
       "    x: Batch(\n",
       "           c: tensor([[ 0.3432, -2.4007,  0.4068,  0.5582],\n",
       "                      [-0.0710,  1.1531,  0.6361,  1.8184],\n",
       "                      [-0.6108, -0.1544, -0.0995, -0.4696]]),\n",
       "       ),\n",
       ")"
      ]
     },
     "execution_count": 9,
     "metadata": {},
     "output_type": "execute_result"
    }
   ],
   "source": [
    "b"
   ]
  },
  {
   "cell_type": "code",
   "execution_count": 10,
   "id": "43ef8ea3",
   "metadata": {
    "execution": {
     "iopub.execute_input": "2023-02-25T08:56:14.208693Z",
     "iopub.status.busy": "2023-02-25T08:56:14.208193Z",
     "iopub.status.idle": "2023-02-25T08:56:14.213743Z",
     "shell.execute_reply": "2023-02-25T08:56:14.212952Z"
    }
   },
   "outputs": [
    {
     "data": {
      "text/plain": [
       "tensor([[-0.4269,  0.2989,  0.8096],\n",
       "        [-1.3658,  0.0782,  1.6332]])"
      ]
     },
     "execution_count": 10,
     "metadata": {},
     "output_type": "execute_result"
    }
   ],
   "source": [
    "b.a"
   ]
  },
  {
   "cell_type": "code",
   "execution_count": 11,
   "id": "b785ab72",
   "metadata": {
    "execution": {
     "iopub.execute_input": "2023-02-25T08:56:14.216590Z",
     "iopub.status.busy": "2023-02-25T08:56:14.216169Z",
     "iopub.status.idle": "2023-02-25T08:56:19.975230Z",
     "shell.execute_reply": "2023-02-25T08:56:19.974298Z"
    }
   },
   "outputs": [
    {
     "name": "stdout",
     "output_type": "stream",
     "text": [
      "71 ns ± 0.552 ns per loop (mean ± std. dev. of 7 runs, 10,000,000 loops each)\n"
     ]
    }
   ],
   "source": [
    "%timeit b.a"
   ]
  },
  {
   "cell_type": "code",
   "execution_count": 12,
   "id": "ad54dc69",
   "metadata": {
    "execution": {
     "iopub.execute_input": "2023-02-25T08:56:19.978819Z",
     "iopub.status.busy": "2023-02-25T08:56:19.978169Z",
     "iopub.status.idle": "2023-02-25T08:56:19.986074Z",
     "shell.execute_reply": "2023-02-25T08:56:19.985346Z"
    }
   },
   "outputs": [
    {
     "data": {
      "text/plain": [
       "Batch(\n",
       "    a: tensor([[-0.3272,  1.3980, -0.3605],\n",
       "               [ 0.8914, -0.6359, -1.2176]]),\n",
       "    x: Batch(\n",
       "           c: tensor([[ 0.3432, -2.4007,  0.4068,  0.5582],\n",
       "                      [-0.0710,  1.1531,  0.6361,  1.8184],\n",
       "                      [-0.6108, -0.1544, -0.0995, -0.4696]]),\n",
       "       ),\n",
       ")"
      ]
     },
     "execution_count": 12,
     "metadata": {},
     "output_type": "execute_result"
    }
   ],
   "source": [
    "new_value = torch.randn(2, 3)\n",
    "b.a = new_value\n",
    "\n",
    "b"
   ]
  },
  {
   "cell_type": "code",
   "execution_count": 13,
   "id": "29b1d0bf",
   "metadata": {
    "execution": {
     "iopub.execute_input": "2023-02-25T08:56:19.989174Z",
     "iopub.status.busy": "2023-02-25T08:56:19.988658Z",
     "iopub.status.idle": "2023-02-25T08:56:24.630952Z",
     "shell.execute_reply": "2023-02-25T08:56:24.629879Z"
    }
   },
   "outputs": [
    {
     "name": "stdout",
     "output_type": "stream",
     "text": [
      "570 ns ± 1.56 ns per loop (mean ± std. dev. of 7 runs, 1,000,000 loops each)\n"
     ]
    }
   ],
   "source": [
    "%timeit b.a = new_value"
   ]
  },
  {
   "cell_type": "markdown",
   "id": "b61ad1d0",
   "metadata": {},
   "source": [
    "## Initialization"
   ]
  },
  {
   "cell_type": "markdown",
   "id": "d70f0d54",
   "metadata": {},
   "source": [
    "### TreeValue's Initialization"
   ]
  },
  {
   "cell_type": "code",
   "execution_count": 14,
   "id": "d32a679b",
   "metadata": {
    "execution": {
     "iopub.execute_input": "2023-02-25T08:56:24.635893Z",
     "iopub.status.busy": "2023-02-25T08:56:24.635021Z",
     "iopub.status.idle": "2023-02-25T08:56:32.637300Z",
     "shell.execute_reply": "2023-02-25T08:56:32.636005Z"
    }
   },
   "outputs": [
    {
     "name": "stdout",
     "output_type": "stream",
     "text": [
      "980 ns ± 10.8 ns per loop (mean ± std. dev. of 7 runs, 1,000,000 loops each)\n"
     ]
    }
   ],
   "source": [
    "%timeit FastTreeValue(_TREE_DATA_1)"
   ]
  },
  {
   "cell_type": "markdown",
   "id": "24f3707b",
   "metadata": {},
   "source": [
    "### Tianshou Batch's Initialization"
   ]
  },
  {
   "cell_type": "code",
   "execution_count": 15,
   "id": "ac3958df",
   "metadata": {
    "execution": {
     "iopub.execute_input": "2023-02-25T08:56:32.641948Z",
     "iopub.status.busy": "2023-02-25T08:56:32.641028Z",
     "iopub.status.idle": "2023-02-25T08:56:42.235416Z",
     "shell.execute_reply": "2023-02-25T08:56:42.234006Z"
    }
   },
   "outputs": [
    {
     "name": "stdout",
     "output_type": "stream",
     "text": [
      "11.8 µs ± 88.8 ns per loop (mean ± std. dev. of 7 runs, 100,000 loops each)\n"
     ]
    }
   ],
   "source": [
    "%timeit Batch(**_TREE_DATA_1)"
   ]
  },
  {
   "cell_type": "markdown",
   "id": "1ab82e2d",
   "metadata": {},
   "source": [
    "## Deep Copy Operation"
   ]
  },
  {
   "cell_type": "code",
   "execution_count": 16,
   "id": "210a9442",
   "metadata": {
    "execution": {
     "iopub.execute_input": "2023-02-25T08:56:42.240220Z",
     "iopub.status.busy": "2023-02-25T08:56:42.239281Z",
     "iopub.status.idle": "2023-02-25T08:56:42.244405Z",
     "shell.execute_reply": "2023-02-25T08:56:42.243651Z"
    }
   },
   "outputs": [],
   "source": [
    "import copy"
   ]
  },
  {
   "cell_type": "markdown",
   "id": "5a736274",
   "metadata": {},
   "source": [
    "### Deep Copy of TreeValue"
   ]
  },
  {
   "cell_type": "code",
   "execution_count": 17,
   "id": "f9bcadd6",
   "metadata": {
    "execution": {
     "iopub.execute_input": "2023-02-25T08:56:42.247651Z",
     "iopub.status.busy": "2023-02-25T08:56:42.247229Z",
     "iopub.status.idle": "2023-02-25T08:56:55.484868Z",
     "shell.execute_reply": "2023-02-25T08:56:55.484092Z"
    }
   },
   "outputs": [
    {
     "name": "stdout",
     "output_type": "stream",
     "text": [
      "163 µs ± 780 ns per loop (mean ± std. dev. of 7 runs, 10,000 loops each)\n"
     ]
    }
   ],
   "source": [
    "t3 = FastTreeValue(_TREE_DATA_3)\n",
    "%timeit copy.deepcopy(t3)"
   ]
  },
  {
   "cell_type": "markdown",
   "id": "bf8be7ea",
   "metadata": {},
   "source": [
    "### Deep Copy of Tianshou Batch"
   ]
  },
  {
   "cell_type": "code",
   "execution_count": 18,
   "id": "91998e6f",
   "metadata": {
    "execution": {
     "iopub.execute_input": "2023-02-25T08:56:55.488449Z",
     "iopub.status.busy": "2023-02-25T08:56:55.488179Z",
     "iopub.status.idle": "2023-02-25T08:57:08.677008Z",
     "shell.execute_reply": "2023-02-25T08:57:08.676226Z"
    }
   },
   "outputs": [
    {
     "name": "stdout",
     "output_type": "stream",
     "text": [
      "162 µs ± 1.12 µs per loop (mean ± std. dev. of 7 runs, 10,000 loops each)\n"
     ]
    }
   ],
   "source": [
    "b3 = Batch(**_TREE_DATA_3)\n",
    "%timeit copy.deepcopy(b3)"
   ]
  },
  {
   "cell_type": "markdown",
   "id": "223162fb",
   "metadata": {},
   "source": [
    "## Stack, Concat and Split Operation"
   ]
  },
  {
   "cell_type": "markdown",
   "id": "85fa4a73",
   "metadata": {},
   "source": [
    "### Performance of TreeValue"
   ]
  },
  {
   "cell_type": "code",
   "execution_count": 19,
   "id": "a0c2b697",
   "metadata": {
    "execution": {
     "iopub.execute_input": "2023-02-25T08:57:08.680853Z",
     "iopub.status.busy": "2023-02-25T08:57:08.680565Z",
     "iopub.status.idle": "2023-02-25T08:57:08.684936Z",
     "shell.execute_reply": "2023-02-25T08:57:08.684283Z"
    }
   },
   "outputs": [],
   "source": [
    "trees = [FastTreeValue(_TREE_DATA_2) for _ in range(8)]"
   ]
  },
  {
   "cell_type": "code",
   "execution_count": 20,
   "id": "017ea5a5",
   "metadata": {
    "execution": {
     "iopub.execute_input": "2023-02-25T08:57:08.687790Z",
     "iopub.status.busy": "2023-02-25T08:57:08.687541Z",
     "iopub.status.idle": "2023-02-25T08:57:08.696310Z",
     "shell.execute_reply": "2023-02-25T08:57:08.695596Z"
    }
   },
   "outputs": [
    {
     "data": {
      "text/plain": [
       "<FastTreeValue 0x7f47c3002b80>\n",
       "├── 'a' --> tensor([[[-0.4269,  0.2989,  0.8096],\n",
       "│                    [-1.3658,  0.0782,  1.6332]],\n",
       "│           \n",
       "│                   [[-0.4269,  0.2989,  0.8096],\n",
       "│                    [-1.3658,  0.0782,  1.6332]],\n",
       "│           \n",
       "│                   [[-0.4269,  0.2989,  0.8096],\n",
       "│                    [-1.3658,  0.0782,  1.6332]],\n",
       "│           \n",
       "│                   [[-0.4269,  0.2989,  0.8096],\n",
       "│                    [-1.3658,  0.0782,  1.6332]],\n",
       "│           \n",
       "│                   [[-0.4269,  0.2989,  0.8096],\n",
       "│                    [-1.3658,  0.0782,  1.6332]],\n",
       "│           \n",
       "│                   [[-0.4269,  0.2989,  0.8096],\n",
       "│                    [-1.3658,  0.0782,  1.6332]],\n",
       "│           \n",
       "│                   [[-0.4269,  0.2989,  0.8096],\n",
       "│                    [-1.3658,  0.0782,  1.6332]],\n",
       "│           \n",
       "│                   [[-0.4269,  0.2989,  0.8096],\n",
       "│                    [-1.3658,  0.0782,  1.6332]]])\n",
       "└── 'x' --> <FastTreeValue 0x7f47c30f3250>\n",
       "    └── 'c' --> tensor([[[ 0.3432, -2.4007,  0.4068,  0.5582],\n",
       "                         [-0.0710,  1.1531,  0.6361,  1.8184],\n",
       "                         [-0.6108, -0.1544, -0.0995, -0.4696]],\n",
       "                \n",
       "                        [[ 0.3432, -2.4007,  0.4068,  0.5582],\n",
       "                         [-0.0710,  1.1531,  0.6361,  1.8184],\n",
       "                         [-0.6108, -0.1544, -0.0995, -0.4696]],\n",
       "                \n",
       "                        [[ 0.3432, -2.4007,  0.4068,  0.5582],\n",
       "                         [-0.0710,  1.1531,  0.6361,  1.8184],\n",
       "                         [-0.6108, -0.1544, -0.0995, -0.4696]],\n",
       "                \n",
       "                        [[ 0.3432, -2.4007,  0.4068,  0.5582],\n",
       "                         [-0.0710,  1.1531,  0.6361,  1.8184],\n",
       "                         [-0.6108, -0.1544, -0.0995, -0.4696]],\n",
       "                \n",
       "                        [[ 0.3432, -2.4007,  0.4068,  0.5582],\n",
       "                         [-0.0710,  1.1531,  0.6361,  1.8184],\n",
       "                         [-0.6108, -0.1544, -0.0995, -0.4696]],\n",
       "                \n",
       "                        [[ 0.3432, -2.4007,  0.4068,  0.5582],\n",
       "                         [-0.0710,  1.1531,  0.6361,  1.8184],\n",
       "                         [-0.6108, -0.1544, -0.0995, -0.4696]],\n",
       "                \n",
       "                        [[ 0.3432, -2.4007,  0.4068,  0.5582],\n",
       "                         [-0.0710,  1.1531,  0.6361,  1.8184],\n",
       "                         [-0.6108, -0.1544, -0.0995, -0.4696]],\n",
       "                \n",
       "                        [[ 0.3432, -2.4007,  0.4068,  0.5582],\n",
       "                         [-0.0710,  1.1531,  0.6361,  1.8184],\n",
       "                         [-0.6108, -0.1544, -0.0995, -0.4696]]])"
      ]
     },
     "execution_count": 20,
     "metadata": {},
     "output_type": "execute_result"
    }
   ],
   "source": [
    "t_stack = FastTreeValue.func(subside=True)(torch.stack)\n",
    "\n",
    "t_stack(trees)"
   ]
  },
  {
   "cell_type": "code",
   "execution_count": 21,
   "id": "f8b3f415",
   "metadata": {
    "execution": {
     "iopub.execute_input": "2023-02-25T08:57:08.699078Z",
     "iopub.status.busy": "2023-02-25T08:57:08.698819Z",
     "iopub.status.idle": "2023-02-25T08:57:11.795185Z",
     "shell.execute_reply": "2023-02-25T08:57:11.794039Z"
    }
   },
   "outputs": [
    {
     "name": "stdout",
     "output_type": "stream",
     "text": [
      "38.1 µs ± 139 ns per loop (mean ± std. dev. of 7 runs, 10,000 loops each)\n"
     ]
    }
   ],
   "source": [
    "%timeit t_stack(trees)"
   ]
  },
  {
   "cell_type": "code",
   "execution_count": 22,
   "id": "94b56771",
   "metadata": {
    "execution": {
     "iopub.execute_input": "2023-02-25T08:57:11.798650Z",
     "iopub.status.busy": "2023-02-25T08:57:11.798194Z",
     "iopub.status.idle": "2023-02-25T08:57:11.807416Z",
     "shell.execute_reply": "2023-02-25T08:57:11.806672Z"
    }
   },
   "outputs": [
    {
     "data": {
      "text/plain": [
       "<FastTreeValue 0x7f48703baf70>\n",
       "├── 'a' --> tensor([[-0.4269,  0.2989,  0.8096],\n",
       "│                   [-1.3658,  0.0782,  1.6332],\n",
       "│                   [-0.4269,  0.2989,  0.8096],\n",
       "│                   [-1.3658,  0.0782,  1.6332],\n",
       "│                   [-0.4269,  0.2989,  0.8096],\n",
       "│                   [-1.3658,  0.0782,  1.6332],\n",
       "│                   [-0.4269,  0.2989,  0.8096],\n",
       "│                   [-1.3658,  0.0782,  1.6332],\n",
       "│                   [-0.4269,  0.2989,  0.8096],\n",
       "│                   [-1.3658,  0.0782,  1.6332],\n",
       "│                   [-0.4269,  0.2989,  0.8096],\n",
       "│                   [-1.3658,  0.0782,  1.6332],\n",
       "│                   [-0.4269,  0.2989,  0.8096],\n",
       "│                   [-1.3658,  0.0782,  1.6332],\n",
       "│                   [-0.4269,  0.2989,  0.8096],\n",
       "│                   [-1.3658,  0.0782,  1.6332]])\n",
       "└── 'x' --> <FastTreeValue 0x7f47c3720af0>\n",
       "    └── 'c' --> tensor([[ 0.3432, -2.4007,  0.4068,  0.5582],\n",
       "                        [-0.0710,  1.1531,  0.6361,  1.8184],\n",
       "                        [-0.6108, -0.1544, -0.0995, -0.4696],\n",
       "                        [ 0.3432, -2.4007,  0.4068,  0.5582],\n",
       "                        [-0.0710,  1.1531,  0.6361,  1.8184],\n",
       "                        [-0.6108, -0.1544, -0.0995, -0.4696],\n",
       "                        [ 0.3432, -2.4007,  0.4068,  0.5582],\n",
       "                        [-0.0710,  1.1531,  0.6361,  1.8184],\n",
       "                        [-0.6108, -0.1544, -0.0995, -0.4696],\n",
       "                        [ 0.3432, -2.4007,  0.4068,  0.5582],\n",
       "                        [-0.0710,  1.1531,  0.6361,  1.8184],\n",
       "                        [-0.6108, -0.1544, -0.0995, -0.4696],\n",
       "                        [ 0.3432, -2.4007,  0.4068,  0.5582],\n",
       "                        [-0.0710,  1.1531,  0.6361,  1.8184],\n",
       "                        [-0.6108, -0.1544, -0.0995, -0.4696],\n",
       "                        [ 0.3432, -2.4007,  0.4068,  0.5582],\n",
       "                        [-0.0710,  1.1531,  0.6361,  1.8184],\n",
       "                        [-0.6108, -0.1544, -0.0995, -0.4696],\n",
       "                        [ 0.3432, -2.4007,  0.4068,  0.5582],\n",
       "                        [-0.0710,  1.1531,  0.6361,  1.8184],\n",
       "                        [-0.6108, -0.1544, -0.0995, -0.4696],\n",
       "                        [ 0.3432, -2.4007,  0.4068,  0.5582],\n",
       "                        [-0.0710,  1.1531,  0.6361,  1.8184],\n",
       "                        [-0.6108, -0.1544, -0.0995, -0.4696]])"
      ]
     },
     "execution_count": 22,
     "metadata": {},
     "output_type": "execute_result"
    }
   ],
   "source": [
    "t_cat = FastTreeValue.func(subside=True)(torch.cat)\n",
    "\n",
    "t_cat(trees)"
   ]
  },
  {
   "cell_type": "code",
   "execution_count": 23,
   "id": "5e9c06a6",
   "metadata": {
    "execution": {
     "iopub.execute_input": "2023-02-25T08:57:11.810958Z",
     "iopub.status.busy": "2023-02-25T08:57:11.810369Z",
     "iopub.status.idle": "2023-02-25T08:57:14.696748Z",
     "shell.execute_reply": "2023-02-25T08:57:14.695667Z"
    }
   },
   "outputs": [
    {
     "name": "stdout",
     "output_type": "stream",
     "text": [
      "35.4 µs ± 198 ns per loop (mean ± std. dev. of 7 runs, 10,000 loops each)\n"
     ]
    }
   ],
   "source": [
    "%timeit t_cat(trees)"
   ]
  },
  {
   "cell_type": "code",
   "execution_count": 24,
   "id": "a3ab5c8f",
   "metadata": {
    "execution": {
     "iopub.execute_input": "2023-02-25T08:57:14.701664Z",
     "iopub.status.busy": "2023-02-25T08:57:14.700936Z",
     "iopub.status.idle": "2023-02-25T08:57:19.979029Z",
     "shell.execute_reply": "2023-02-25T08:57:19.977584Z"
    }
   },
   "outputs": [
    {
     "name": "stdout",
     "output_type": "stream",
     "text": [
      "65 µs ± 378 ns per loop (mean ± std. dev. of 7 runs, 10,000 loops each)\n"
     ]
    }
   ],
   "source": [
    "t_split = FastTreeValue.func(rise=True)(torch.split)\n",
    "tree = FastTreeValue({\n",
    "    'obs': torch.randn(8, 4, 84, 84),\n",
    "    'action': torch.randint(0, 6, size=(8, 1,)),\n",
    "    'reward': torch.rand(8, 1),\n",
    "})\n",
    "\n",
    "%timeit t_split(tree, 1)"
   ]
  },
  {
   "cell_type": "markdown",
   "id": "31c3ec0b",
   "metadata": {},
   "source": [
    "### Performance of Tianshou Batch"
   ]
  },
  {
   "cell_type": "code",
   "execution_count": 25,
   "id": "9ead828a",
   "metadata": {
    "execution": {
     "iopub.execute_input": "2023-02-25T08:57:19.984117Z",
     "iopub.status.busy": "2023-02-25T08:57:19.983476Z",
     "iopub.status.idle": "2023-02-25T08:57:19.992964Z",
     "shell.execute_reply": "2023-02-25T08:57:19.992100Z"
    }
   },
   "outputs": [
    {
     "data": {
      "text/plain": [
       "Batch(\n",
       "    a: tensor([[[-0.4269,  0.2989,  0.8096],\n",
       "                [-1.3658,  0.0782,  1.6332]],\n",
       "       \n",
       "               [[-0.4269,  0.2989,  0.8096],\n",
       "                [-1.3658,  0.0782,  1.6332]],\n",
       "       \n",
       "               [[-0.4269,  0.2989,  0.8096],\n",
       "                [-1.3658,  0.0782,  1.6332]],\n",
       "       \n",
       "               [[-0.4269,  0.2989,  0.8096],\n",
       "                [-1.3658,  0.0782,  1.6332]],\n",
       "       \n",
       "               [[-0.4269,  0.2989,  0.8096],\n",
       "                [-1.3658,  0.0782,  1.6332]],\n",
       "       \n",
       "               [[-0.4269,  0.2989,  0.8096],\n",
       "                [-1.3658,  0.0782,  1.6332]],\n",
       "       \n",
       "               [[-0.4269,  0.2989,  0.8096],\n",
       "                [-1.3658,  0.0782,  1.6332]],\n",
       "       \n",
       "               [[-0.4269,  0.2989,  0.8096],\n",
       "                [-1.3658,  0.0782,  1.6332]]]),\n",
       "    x: Batch(\n",
       "           c: tensor([[[ 0.3432, -2.4007,  0.4068,  0.5582],\n",
       "                       [-0.0710,  1.1531,  0.6361,  1.8184],\n",
       "                       [-0.6108, -0.1544, -0.0995, -0.4696]],\n",
       "              \n",
       "                      [[ 0.3432, -2.4007,  0.4068,  0.5582],\n",
       "                       [-0.0710,  1.1531,  0.6361,  1.8184],\n",
       "                       [-0.6108, -0.1544, -0.0995, -0.4696]],\n",
       "              \n",
       "                      [[ 0.3432, -2.4007,  0.4068,  0.5582],\n",
       "                       [-0.0710,  1.1531,  0.6361,  1.8184],\n",
       "                       [-0.6108, -0.1544, -0.0995, -0.4696]],\n",
       "              \n",
       "                      [[ 0.3432, -2.4007,  0.4068,  0.5582],\n",
       "                       [-0.0710,  1.1531,  0.6361,  1.8184],\n",
       "                       [-0.6108, -0.1544, -0.0995, -0.4696]],\n",
       "              \n",
       "                      [[ 0.3432, -2.4007,  0.4068,  0.5582],\n",
       "                       [-0.0710,  1.1531,  0.6361,  1.8184],\n",
       "                       [-0.6108, -0.1544, -0.0995, -0.4696]],\n",
       "              \n",
       "                      [[ 0.3432, -2.4007,  0.4068,  0.5582],\n",
       "                       [-0.0710,  1.1531,  0.6361,  1.8184],\n",
       "                       [-0.6108, -0.1544, -0.0995, -0.4696]],\n",
       "              \n",
       "                      [[ 0.3432, -2.4007,  0.4068,  0.5582],\n",
       "                       [-0.0710,  1.1531,  0.6361,  1.8184],\n",
       "                       [-0.6108, -0.1544, -0.0995, -0.4696]],\n",
       "              \n",
       "                      [[ 0.3432, -2.4007,  0.4068,  0.5582],\n",
       "                       [-0.0710,  1.1531,  0.6361,  1.8184],\n",
       "                       [-0.6108, -0.1544, -0.0995, -0.4696]]]),\n",
       "       ),\n",
       ")"
      ]
     },
     "execution_count": 25,
     "metadata": {},
     "output_type": "execute_result"
    }
   ],
   "source": [
    "batches = [Batch(**_TREE_DATA_2) for _ in range(8)]\n",
    "\n",
    "Batch.stack(batches)"
   ]
  },
  {
   "cell_type": "code",
   "execution_count": 26,
   "id": "ec9037a3",
   "metadata": {
    "execution": {
     "iopub.execute_input": "2023-02-25T08:57:19.996143Z",
     "iopub.status.busy": "2023-02-25T08:57:19.995699Z",
     "iopub.status.idle": "2023-02-25T08:57:27.530349Z",
     "shell.execute_reply": "2023-02-25T08:57:27.529162Z"
    }
   },
   "outputs": [
    {
     "name": "stdout",
     "output_type": "stream",
     "text": [
      "92.8 µs ± 1.56 µs per loop (mean ± std. dev. of 7 runs, 10,000 loops each)\n"
     ]
    }
   ],
   "source": [
    "%timeit Batch.stack(batches)"
   ]
  },
  {
   "cell_type": "code",
   "execution_count": 27,
   "id": "cb8ab77e",
   "metadata": {
    "execution": {
     "iopub.execute_input": "2023-02-25T08:57:27.534108Z",
     "iopub.status.busy": "2023-02-25T08:57:27.533456Z",
     "iopub.status.idle": "2023-02-25T08:57:27.542304Z",
     "shell.execute_reply": "2023-02-25T08:57:27.541586Z"
    }
   },
   "outputs": [
    {
     "data": {
      "text/plain": [
       "Batch(\n",
       "    a: tensor([[-0.4269,  0.2989,  0.8096],\n",
       "               [-1.3658,  0.0782,  1.6332],\n",
       "               [-0.4269,  0.2989,  0.8096],\n",
       "               [-1.3658,  0.0782,  1.6332],\n",
       "               [-0.4269,  0.2989,  0.8096],\n",
       "               [-1.3658,  0.0782,  1.6332],\n",
       "               [-0.4269,  0.2989,  0.8096],\n",
       "               [-1.3658,  0.0782,  1.6332],\n",
       "               [-0.4269,  0.2989,  0.8096],\n",
       "               [-1.3658,  0.0782,  1.6332],\n",
       "               [-0.4269,  0.2989,  0.8096],\n",
       "               [-1.3658,  0.0782,  1.6332],\n",
       "               [-0.4269,  0.2989,  0.8096],\n",
       "               [-1.3658,  0.0782,  1.6332],\n",
       "               [-0.4269,  0.2989,  0.8096],\n",
       "               [-1.3658,  0.0782,  1.6332]]),\n",
       "    x: Batch(\n",
       "           c: tensor([[ 0.3432, -2.4007,  0.4068,  0.5582],\n",
       "                      [-0.0710,  1.1531,  0.6361,  1.8184],\n",
       "                      [-0.6108, -0.1544, -0.0995, -0.4696],\n",
       "                      [ 0.3432, -2.4007,  0.4068,  0.5582],\n",
       "                      [-0.0710,  1.1531,  0.6361,  1.8184],\n",
       "                      [-0.6108, -0.1544, -0.0995, -0.4696],\n",
       "                      [ 0.3432, -2.4007,  0.4068,  0.5582],\n",
       "                      [-0.0710,  1.1531,  0.6361,  1.8184],\n",
       "                      [-0.6108, -0.1544, -0.0995, -0.4696],\n",
       "                      [ 0.3432, -2.4007,  0.4068,  0.5582],\n",
       "                      [-0.0710,  1.1531,  0.6361,  1.8184],\n",
       "                      [-0.6108, -0.1544, -0.0995, -0.4696],\n",
       "                      [ 0.3432, -2.4007,  0.4068,  0.5582],\n",
       "                      [-0.0710,  1.1531,  0.6361,  1.8184],\n",
       "                      [-0.6108, -0.1544, -0.0995, -0.4696],\n",
       "                      [ 0.3432, -2.4007,  0.4068,  0.5582],\n",
       "                      [-0.0710,  1.1531,  0.6361,  1.8184],\n",
       "                      [-0.6108, -0.1544, -0.0995, -0.4696],\n",
       "                      [ 0.3432, -2.4007,  0.4068,  0.5582],\n",
       "                      [-0.0710,  1.1531,  0.6361,  1.8184],\n",
       "                      [-0.6108, -0.1544, -0.0995, -0.4696],\n",
       "                      [ 0.3432, -2.4007,  0.4068,  0.5582],\n",
       "                      [-0.0710,  1.1531,  0.6361,  1.8184],\n",
       "                      [-0.6108, -0.1544, -0.0995, -0.4696]]),\n",
       "       ),\n",
       ")"
      ]
     },
     "execution_count": 27,
     "metadata": {},
     "output_type": "execute_result"
    }
   ],
   "source": [
    "Batch.cat(batches)"
   ]
  },
  {
   "cell_type": "code",
   "execution_count": 28,
   "id": "18dfb045",
   "metadata": {
    "execution": {
     "iopub.execute_input": "2023-02-25T08:57:27.545775Z",
     "iopub.status.busy": "2023-02-25T08:57:27.545372Z",
     "iopub.status.idle": "2023-02-25T08:57:40.723390Z",
     "shell.execute_reply": "2023-02-25T08:57:40.722341Z"
    }
   },
   "outputs": [
    {
     "name": "stdout",
     "output_type": "stream",
     "text": [
      "162 µs ± 1.06 µs per loop (mean ± std. dev. of 7 runs, 10,000 loops each)\n"
     ]
    }
   ],
   "source": [
    "%timeit Batch.cat(batches)"
   ]
  },
  {
   "cell_type": "code",
   "execution_count": 29,
   "id": "c6688e51",
   "metadata": {
    "execution": {
     "iopub.execute_input": "2023-02-25T08:57:40.728783Z",
     "iopub.status.busy": "2023-02-25T08:57:40.727945Z",
     "iopub.status.idle": "2023-02-25T08:57:43.790791Z",
     "shell.execute_reply": "2023-02-25T08:57:43.790084Z"
    }
   },
   "outputs": [
    {
     "name": "stdout",
     "output_type": "stream",
     "text": [
      "372 µs ± 9.14 µs per loop (mean ± std. dev. of 7 runs, 1,000 loops each)\n"
     ]
    }
   ],
   "source": [
    "batch = Batch({\n",
    "    'obs': torch.randn(8, 4, 84, 84),\n",
    "    'action': torch.randint(0, 6, size=(8, 1,)),\n",
    "    'reward': torch.rand(8, 1)}\n",
    ")\n",
    "\n",
    "%timeit list(Batch.split(batch, 1, shuffle=False, merge_last=True))"
   ]
  },
  {
   "cell_type": "code",
   "execution_count": null,
   "id": "2539fbd9",
   "metadata": {},
   "outputs": [],
   "source": []
  }
 ],
 "metadata": {
  "kernelspec": {
   "display_name": "Python 3 (ipykernel)",
   "language": "python",
   "name": "python3"
  },
  "language_info": {
   "codemirror_mode": {
    "name": "ipython",
    "version": 3
   },
   "file_extension": ".py",
   "mimetype": "text/x-python",
   "name": "python",
   "nbconvert_exporter": "python",
   "pygments_lexer": "ipython3",
   "version": "3.8.16"
  }
 },
 "nbformat": 4,
 "nbformat_minor": 5
}
