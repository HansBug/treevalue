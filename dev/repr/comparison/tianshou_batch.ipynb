{
 "cells": [
  {
   "cell_type": "markdown",
   "id": "9d39d946",
   "metadata": {},
   "source": [
    "# Comparison Between TreeValue and Tianshou Batch"
   ]
  },
  {
   "cell_type": "markdown",
   "id": "3c6db2d4",
   "metadata": {},
   "source": [
    "In this section, we will take a look at the feature and performance of the [Tianshou Batch](https://github.com/thu-ml/tianshou) library, which is developed by Tsinghua Machine Learning Group."
   ]
  },
  {
   "cell_type": "markdown",
   "id": "069361b0",
   "metadata": {},
   "source": [
    "Before starting the comparison, let us define some thing."
   ]
  },
  {
   "cell_type": "code",
   "execution_count": 1,
   "id": "06fc8d26",
   "metadata": {
    "execution": {
     "iopub.execute_input": "2023-02-27T09:55:56.919348Z",
     "iopub.status.busy": "2023-02-27T09:55:56.918294Z",
     "iopub.status.idle": "2023-02-27T09:55:58.304382Z",
     "shell.execute_reply": "2023-02-27T09:55:58.303168Z"
    }
   },
   "outputs": [
    {
     "name": "stderr",
     "output_type": "stream",
     "text": [
      "/opt/hostedtoolcache/Python/3.8.16/x64/lib/python3.8/site-packages/tqdm/auto.py:22: TqdmWarning: IProgress not found. Please update jupyter and ipywidgets. See https://ipywidgets.readthedocs.io/en/stable/user_install.html\n",
      "  from .autonotebook import tqdm as notebook_tqdm\n"
     ]
    }
   ],
   "source": [
    "import torch \n",
    "\n",
    "_TREE_DATA_1 = {'a': 1, 'b': 2, 'x': {'c': 3, 'd': 4}}\n",
    "_TREE_DATA_2 = {\n",
    "    'a': torch.randn(2, 3), \n",
    "    'x': {\n",
    "        'c': torch.randn(3, 4)\n",
    "    },\n",
    "}\n",
    "_TREE_DATA_3 = {\n",
    "    'obs': torch.randn(4, 84, 84),\n",
    "    'action': torch.randint(0, 6, size=(1,)),\n",
    "    'reward': torch.rand(1),\n",
    "}"
   ]
  },
  {
   "cell_type": "markdown",
   "id": "83461b25",
   "metadata": {},
   "source": [
    "## Read and Write Operation"
   ]
  },
  {
   "cell_type": "markdown",
   "id": "067b3f73",
   "metadata": {},
   "source": [
    "Reading and writing are the two most common operations in the tree data structure based on the data model (TreeValue and Tianshou Batch both belong to this type), so this section will compare the reading and writing performance of these two libraries."
   ]
  },
  {
   "cell_type": "markdown",
   "id": "5d09a5b7",
   "metadata": {},
   "source": [
    "### TreeValue's Get and Set"
   ]
  },
  {
   "cell_type": "code",
   "execution_count": 2,
   "id": "9519c4bb",
   "metadata": {
    "execution": {
     "iopub.execute_input": "2023-02-27T09:55:58.309281Z",
     "iopub.status.busy": "2023-02-27T09:55:58.308714Z",
     "iopub.status.idle": "2023-02-27T09:55:58.716374Z",
     "shell.execute_reply": "2023-02-27T09:55:58.713057Z"
    }
   },
   "outputs": [],
   "source": [
    "from treevalue import FastTreeValue\n",
    "\n",
    "t = FastTreeValue(_TREE_DATA_2)"
   ]
  },
  {
   "cell_type": "code",
   "execution_count": 3,
   "id": "11c37677",
   "metadata": {
    "execution": {
     "iopub.execute_input": "2023-02-27T09:55:58.720889Z",
     "iopub.status.busy": "2023-02-27T09:55:58.720450Z",
     "iopub.status.idle": "2023-02-27T09:55:58.734914Z",
     "shell.execute_reply": "2023-02-27T09:55:58.733857Z"
    }
   },
   "outputs": [
    {
     "data": {
      "text/plain": [
       "<FastTreeValue 0x7f5d00258b50>\n",
       "├── 'a' --> tensor([[-0.4218,  0.0410,  0.7314],\n",
       "│                   [-0.0452,  0.4764, -0.3827]])\n",
       "└── 'x' --> <FastTreeValue 0x7f5d002bbe80>\n",
       "    └── 'c' --> tensor([[ 0.0537,  0.2184,  0.7362, -0.5102],\n",
       "                        [ 0.1379, -0.4206, -2.2079, -0.9166],\n",
       "                        [-0.5703,  0.7308, -0.9355, -1.5028]])"
      ]
     },
     "execution_count": 3,
     "metadata": {},
     "output_type": "execute_result"
    }
   ],
   "source": [
    "t"
   ]
  },
  {
   "cell_type": "code",
   "execution_count": 4,
   "id": "fd70b0b9",
   "metadata": {
    "execution": {
     "iopub.execute_input": "2023-02-27T09:55:58.739005Z",
     "iopub.status.busy": "2023-02-27T09:55:58.738660Z",
     "iopub.status.idle": "2023-02-27T09:55:58.746412Z",
     "shell.execute_reply": "2023-02-27T09:55:58.745186Z"
    }
   },
   "outputs": [
    {
     "data": {
      "text/plain": [
       "tensor([[-0.4218,  0.0410,  0.7314],\n",
       "        [-0.0452,  0.4764, -0.3827]])"
      ]
     },
     "execution_count": 4,
     "metadata": {},
     "output_type": "execute_result"
    }
   ],
   "source": [
    "t.a"
   ]
  },
  {
   "cell_type": "code",
   "execution_count": 5,
   "id": "c18197bd",
   "metadata": {
    "execution": {
     "iopub.execute_input": "2023-02-27T09:55:58.750548Z",
     "iopub.status.busy": "2023-02-27T09:55:58.750225Z",
     "iopub.status.idle": "2023-02-27T09:56:05.733145Z",
     "shell.execute_reply": "2023-02-27T09:56:05.731465Z"
    }
   },
   "outputs": [
    {
     "name": "stdout",
     "output_type": "stream",
     "text": [
      "86 ns ± 1.35 ns per loop (mean ± std. dev. of 7 runs, 10,000,000 loops each)\n"
     ]
    }
   ],
   "source": [
    "%timeit t.a"
   ]
  },
  {
   "cell_type": "code",
   "execution_count": 6,
   "id": "bd52f867",
   "metadata": {
    "execution": {
     "iopub.execute_input": "2023-02-27T09:56:05.740000Z",
     "iopub.status.busy": "2023-02-27T09:56:05.739254Z",
     "iopub.status.idle": "2023-02-27T09:56:05.750045Z",
     "shell.execute_reply": "2023-02-27T09:56:05.748902Z"
    }
   },
   "outputs": [
    {
     "data": {
      "text/plain": [
       "<FastTreeValue 0x7f5d00258b50>\n",
       "├── 'a' --> tensor([[ 0.8757,  1.0854,  1.8287],\n",
       "│                   [-0.0504, -1.3000,  0.1499]])\n",
       "└── 'x' --> <FastTreeValue 0x7f5d002bbe80>\n",
       "    └── 'c' --> tensor([[ 0.0537,  0.2184,  0.7362, -0.5102],\n",
       "                        [ 0.1379, -0.4206, -2.2079, -0.9166],\n",
       "                        [-0.5703,  0.7308, -0.9355, -1.5028]])"
      ]
     },
     "execution_count": 6,
     "metadata": {},
     "output_type": "execute_result"
    }
   ],
   "source": [
    "new_value = torch.randn(2, 3)\n",
    "t.a = new_value\n",
    "\n",
    "t"
   ]
  },
  {
   "cell_type": "code",
   "execution_count": 7,
   "id": "bbe04d1c",
   "metadata": {
    "execution": {
     "iopub.execute_input": "2023-02-27T09:56:05.754950Z",
     "iopub.status.busy": "2023-02-27T09:56:05.754281Z",
     "iopub.status.idle": "2023-02-27T09:56:13.656232Z",
     "shell.execute_reply": "2023-02-27T09:56:13.655169Z"
    }
   },
   "outputs": [
    {
     "name": "stdout",
     "output_type": "stream",
     "text": [
      "98.6 ns ± 1.43 ns per loop (mean ± std. dev. of 7 runs, 10,000,000 loops each)\n"
     ]
    }
   ],
   "source": [
    "%timeit t.a = new_value"
   ]
  },
  {
   "cell_type": "markdown",
   "id": "48c49731",
   "metadata": {},
   "source": [
    "### Tianshou Batch's Get and Set"
   ]
  },
  {
   "cell_type": "code",
   "execution_count": 8,
   "id": "f1bb14c1",
   "metadata": {
    "execution": {
     "iopub.execute_input": "2023-02-27T09:56:13.660363Z",
     "iopub.status.busy": "2023-02-27T09:56:13.660038Z",
     "iopub.status.idle": "2023-02-27T09:56:14.177755Z",
     "shell.execute_reply": "2023-02-27T09:56:14.176519Z"
    }
   },
   "outputs": [],
   "source": [
    "from tianshou.data import Batch\n",
    "\n",
    "b = Batch(**_TREE_DATA_2)"
   ]
  },
  {
   "cell_type": "code",
   "execution_count": 9,
   "id": "cb0777c3",
   "metadata": {
    "execution": {
     "iopub.execute_input": "2023-02-27T09:56:14.182304Z",
     "iopub.status.busy": "2023-02-27T09:56:14.181498Z",
     "iopub.status.idle": "2023-02-27T09:56:14.190872Z",
     "shell.execute_reply": "2023-02-27T09:56:14.189956Z"
    }
   },
   "outputs": [
    {
     "data": {
      "text/plain": [
       "Batch(\n",
       "    a: tensor([[-0.4218,  0.0410,  0.7314],\n",
       "               [-0.0452,  0.4764, -0.3827]]),\n",
       "    x: Batch(\n",
       "           c: tensor([[ 0.0537,  0.2184,  0.7362, -0.5102],\n",
       "                      [ 0.1379, -0.4206, -2.2079, -0.9166],\n",
       "                      [-0.5703,  0.7308, -0.9355, -1.5028]]),\n",
       "       ),\n",
       ")"
      ]
     },
     "execution_count": 9,
     "metadata": {},
     "output_type": "execute_result"
    }
   ],
   "source": [
    "b"
   ]
  },
  {
   "cell_type": "code",
   "execution_count": 10,
   "id": "43ef8ea3",
   "metadata": {
    "execution": {
     "iopub.execute_input": "2023-02-27T09:56:14.194973Z",
     "iopub.status.busy": "2023-02-27T09:56:14.194385Z",
     "iopub.status.idle": "2023-02-27T09:56:14.201778Z",
     "shell.execute_reply": "2023-02-27T09:56:14.200726Z"
    }
   },
   "outputs": [
    {
     "data": {
      "text/plain": [
       "tensor([[-0.4218,  0.0410,  0.7314],\n",
       "        [-0.0452,  0.4764, -0.3827]])"
      ]
     },
     "execution_count": 10,
     "metadata": {},
     "output_type": "execute_result"
    }
   ],
   "source": [
    "b.a"
   ]
  },
  {
   "cell_type": "code",
   "execution_count": 11,
   "id": "b785ab72",
   "metadata": {
    "execution": {
     "iopub.execute_input": "2023-02-27T09:56:14.205688Z",
     "iopub.status.busy": "2023-02-27T09:56:14.205275Z",
     "iopub.status.idle": "2023-02-27T09:56:20.173977Z",
     "shell.execute_reply": "2023-02-27T09:56:20.172886Z"
    }
   },
   "outputs": [
    {
     "name": "stdout",
     "output_type": "stream",
     "text": [
      "73.7 ns ± 1.13 ns per loop (mean ± std. dev. of 7 runs, 10,000,000 loops each)\n"
     ]
    }
   ],
   "source": [
    "%timeit b.a"
   ]
  },
  {
   "cell_type": "code",
   "execution_count": 12,
   "id": "ad54dc69",
   "metadata": {
    "execution": {
     "iopub.execute_input": "2023-02-27T09:56:20.178402Z",
     "iopub.status.busy": "2023-02-27T09:56:20.177640Z",
     "iopub.status.idle": "2023-02-27T09:56:20.186820Z",
     "shell.execute_reply": "2023-02-27T09:56:20.185824Z"
    }
   },
   "outputs": [
    {
     "data": {
      "text/plain": [
       "Batch(\n",
       "    a: tensor([[-0.1498, -0.1574,  0.5119],\n",
       "               [-0.1084,  0.1355, -0.5414]]),\n",
       "    x: Batch(\n",
       "           c: tensor([[ 0.0537,  0.2184,  0.7362, -0.5102],\n",
       "                      [ 0.1379, -0.4206, -2.2079, -0.9166],\n",
       "                      [-0.5703,  0.7308, -0.9355, -1.5028]]),\n",
       "       ),\n",
       ")"
      ]
     },
     "execution_count": 12,
     "metadata": {},
     "output_type": "execute_result"
    }
   ],
   "source": [
    "new_value = torch.randn(2, 3)\n",
    "b.a = new_value\n",
    "\n",
    "b"
   ]
  },
  {
   "cell_type": "code",
   "execution_count": 13,
   "id": "29b1d0bf",
   "metadata": {
    "execution": {
     "iopub.execute_input": "2023-02-27T09:56:20.190333Z",
     "iopub.status.busy": "2023-02-27T09:56:20.190028Z",
     "iopub.status.idle": "2023-02-27T09:56:25.536230Z",
     "shell.execute_reply": "2023-02-27T09:56:25.535115Z"
    }
   },
   "outputs": [
    {
     "name": "stdout",
     "output_type": "stream",
     "text": [
      "656 ns ± 10.8 ns per loop (mean ± std. dev. of 7 runs, 1,000,000 loops each)\n"
     ]
    }
   ],
   "source": [
    "%timeit b.a = new_value"
   ]
  },
  {
   "cell_type": "markdown",
   "id": "b61ad1d0",
   "metadata": {},
   "source": [
    "## Initialization"
   ]
  },
  {
   "cell_type": "markdown",
   "id": "d70f0d54",
   "metadata": {},
   "source": [
    "### TreeValue's Initialization"
   ]
  },
  {
   "cell_type": "code",
   "execution_count": 14,
   "id": "d32a679b",
   "metadata": {
    "execution": {
     "iopub.execute_input": "2023-02-27T09:56:25.542030Z",
     "iopub.status.busy": "2023-02-27T09:56:25.540247Z",
     "iopub.status.idle": "2023-02-27T09:56:34.480870Z",
     "shell.execute_reply": "2023-02-27T09:56:34.479778Z"
    }
   },
   "outputs": [
    {
     "name": "stdout",
     "output_type": "stream",
     "text": [
      "1.1 µs ± 17.6 ns per loop (mean ± std. dev. of 7 runs, 1,000,000 loops each)\n"
     ]
    }
   ],
   "source": [
    "%timeit FastTreeValue(_TREE_DATA_1)"
   ]
  },
  {
   "cell_type": "markdown",
   "id": "24f3707b",
   "metadata": {},
   "source": [
    "### Tianshou Batch's Initialization"
   ]
  },
  {
   "cell_type": "code",
   "execution_count": 15,
   "id": "ac3958df",
   "metadata": {
    "execution": {
     "iopub.execute_input": "2023-02-27T09:56:34.485076Z",
     "iopub.status.busy": "2023-02-27T09:56:34.484749Z",
     "iopub.status.idle": "2023-02-27T09:56:46.024176Z",
     "shell.execute_reply": "2023-02-27T09:56:46.018612Z"
    }
   },
   "outputs": [
    {
     "name": "stdout",
     "output_type": "stream",
     "text": [
      "14.2 µs ± 161 ns per loop (mean ± std. dev. of 7 runs, 100,000 loops each)\n"
     ]
    }
   ],
   "source": [
    "%timeit Batch(**_TREE_DATA_1)"
   ]
  },
  {
   "cell_type": "markdown",
   "id": "1ab82e2d",
   "metadata": {},
   "source": [
    "## Deep Copy Operation"
   ]
  },
  {
   "cell_type": "code",
   "execution_count": 16,
   "id": "210a9442",
   "metadata": {
    "execution": {
     "iopub.execute_input": "2023-02-27T09:56:46.029294Z",
     "iopub.status.busy": "2023-02-27T09:56:46.028419Z",
     "iopub.status.idle": "2023-02-27T09:56:46.035013Z",
     "shell.execute_reply": "2023-02-27T09:56:46.033627Z"
    }
   },
   "outputs": [],
   "source": [
    "import copy"
   ]
  },
  {
   "cell_type": "markdown",
   "id": "5a736274",
   "metadata": {},
   "source": [
    "### Deep Copy of TreeValue"
   ]
  },
  {
   "cell_type": "code",
   "execution_count": 17,
   "id": "f9bcadd6",
   "metadata": {
    "execution": {
     "iopub.execute_input": "2023-02-27T09:56:46.039783Z",
     "iopub.status.busy": "2023-02-27T09:56:46.038799Z",
     "iopub.status.idle": "2023-02-27T09:56:48.352249Z",
     "shell.execute_reply": "2023-02-27T09:56:48.350483Z"
    }
   },
   "outputs": [
    {
     "name": "stdout",
     "output_type": "stream",
     "text": [
      "281 µs ± 7.79 µs per loop (mean ± std. dev. of 7 runs, 1,000 loops each)\n"
     ]
    }
   ],
   "source": [
    "t3 = FastTreeValue(_TREE_DATA_3)\n",
    "%timeit copy.deepcopy(t3)"
   ]
  },
  {
   "cell_type": "markdown",
   "id": "bf8be7ea",
   "metadata": {},
   "source": [
    "### Deep Copy of Tianshou Batch"
   ]
  },
  {
   "cell_type": "code",
   "execution_count": 18,
   "id": "91998e6f",
   "metadata": {
    "execution": {
     "iopub.execute_input": "2023-02-27T09:56:48.356622Z",
     "iopub.status.busy": "2023-02-27T09:56:48.356012Z",
     "iopub.status.idle": "2023-02-27T09:56:50.538144Z",
     "shell.execute_reply": "2023-02-27T09:56:50.537131Z"
    }
   },
   "outputs": [
    {
     "name": "stdout",
     "output_type": "stream",
     "text": [
      "267 µs ± 3.74 µs per loop (mean ± std. dev. of 7 runs, 1,000 loops each)\n"
     ]
    }
   ],
   "source": [
    "b3 = Batch(**_TREE_DATA_3)\n",
    "%timeit copy.deepcopy(b3)"
   ]
  },
  {
   "cell_type": "markdown",
   "id": "223162fb",
   "metadata": {},
   "source": [
    "## Stack, Concat and Split Operation"
   ]
  },
  {
   "cell_type": "markdown",
   "id": "85fa4a73",
   "metadata": {},
   "source": [
    "### Performance of TreeValue"
   ]
  },
  {
   "cell_type": "code",
   "execution_count": 19,
   "id": "a0c2b697",
   "metadata": {
    "execution": {
     "iopub.execute_input": "2023-02-27T09:56:50.542526Z",
     "iopub.status.busy": "2023-02-27T09:56:50.541570Z",
     "iopub.status.idle": "2023-02-27T09:56:50.546189Z",
     "shell.execute_reply": "2023-02-27T09:56:50.545392Z"
    }
   },
   "outputs": [],
   "source": [
    "trees = [FastTreeValue(_TREE_DATA_2) for _ in range(8)]"
   ]
  },
  {
   "cell_type": "code",
   "execution_count": 20,
   "id": "017ea5a5",
   "metadata": {
    "execution": {
     "iopub.execute_input": "2023-02-27T09:56:50.549703Z",
     "iopub.status.busy": "2023-02-27T09:56:50.549046Z",
     "iopub.status.idle": "2023-02-27T09:56:50.558636Z",
     "shell.execute_reply": "2023-02-27T09:56:50.557727Z"
    }
   },
   "outputs": [
    {
     "data": {
      "text/plain": [
       "<FastTreeValue 0x7f5d002587c0>\n",
       "├── 'a' --> tensor([[[-0.4218,  0.0410,  0.7314],\n",
       "│                    [-0.0452,  0.4764, -0.3827]],\n",
       "│           \n",
       "│                   [[-0.4218,  0.0410,  0.7314],\n",
       "│                    [-0.0452,  0.4764, -0.3827]],\n",
       "│           \n",
       "│                   [[-0.4218,  0.0410,  0.7314],\n",
       "│                    [-0.0452,  0.4764, -0.3827]],\n",
       "│           \n",
       "│                   [[-0.4218,  0.0410,  0.7314],\n",
       "│                    [-0.0452,  0.4764, -0.3827]],\n",
       "│           \n",
       "│                   [[-0.4218,  0.0410,  0.7314],\n",
       "│                    [-0.0452,  0.4764, -0.3827]],\n",
       "│           \n",
       "│                   [[-0.4218,  0.0410,  0.7314],\n",
       "│                    [-0.0452,  0.4764, -0.3827]],\n",
       "│           \n",
       "│                   [[-0.4218,  0.0410,  0.7314],\n",
       "│                    [-0.0452,  0.4764, -0.3827]],\n",
       "│           \n",
       "│                   [[-0.4218,  0.0410,  0.7314],\n",
       "│                    [-0.0452,  0.4764, -0.3827]]])\n",
       "└── 'x' --> <FastTreeValue 0x7f5d00258340>\n",
       "    └── 'c' --> tensor([[[ 0.0537,  0.2184,  0.7362, -0.5102],\n",
       "                         [ 0.1379, -0.4206, -2.2079, -0.9166],\n",
       "                         [-0.5703,  0.7308, -0.9355, -1.5028]],\n",
       "                \n",
       "                        [[ 0.0537,  0.2184,  0.7362, -0.5102],\n",
       "                         [ 0.1379, -0.4206, -2.2079, -0.9166],\n",
       "                         [-0.5703,  0.7308, -0.9355, -1.5028]],\n",
       "                \n",
       "                        [[ 0.0537,  0.2184,  0.7362, -0.5102],\n",
       "                         [ 0.1379, -0.4206, -2.2079, -0.9166],\n",
       "                         [-0.5703,  0.7308, -0.9355, -1.5028]],\n",
       "                \n",
       "                        [[ 0.0537,  0.2184,  0.7362, -0.5102],\n",
       "                         [ 0.1379, -0.4206, -2.2079, -0.9166],\n",
       "                         [-0.5703,  0.7308, -0.9355, -1.5028]],\n",
       "                \n",
       "                        [[ 0.0537,  0.2184,  0.7362, -0.5102],\n",
       "                         [ 0.1379, -0.4206, -2.2079, -0.9166],\n",
       "                         [-0.5703,  0.7308, -0.9355, -1.5028]],\n",
       "                \n",
       "                        [[ 0.0537,  0.2184,  0.7362, -0.5102],\n",
       "                         [ 0.1379, -0.4206, -2.2079, -0.9166],\n",
       "                         [-0.5703,  0.7308, -0.9355, -1.5028]],\n",
       "                \n",
       "                        [[ 0.0537,  0.2184,  0.7362, -0.5102],\n",
       "                         [ 0.1379, -0.4206, -2.2079, -0.9166],\n",
       "                         [-0.5703,  0.7308, -0.9355, -1.5028]],\n",
       "                \n",
       "                        [[ 0.0537,  0.2184,  0.7362, -0.5102],\n",
       "                         [ 0.1379, -0.4206, -2.2079, -0.9166],\n",
       "                         [-0.5703,  0.7308, -0.9355, -1.5028]]])"
      ]
     },
     "execution_count": 20,
     "metadata": {},
     "output_type": "execute_result"
    }
   ],
   "source": [
    "t_stack = FastTreeValue.func(subside=True)(torch.stack)\n",
    "\n",
    "t_stack(trees)"
   ]
  },
  {
   "cell_type": "code",
   "execution_count": 21,
   "id": "f8b3f415",
   "metadata": {
    "execution": {
     "iopub.execute_input": "2023-02-27T09:56:50.562198Z",
     "iopub.status.busy": "2023-02-27T09:56:50.561610Z",
     "iopub.status.idle": "2023-02-27T09:56:54.531432Z",
     "shell.execute_reply": "2023-02-27T09:56:54.529843Z"
    }
   },
   "outputs": [
    {
     "name": "stdout",
     "output_type": "stream",
     "text": [
      "49.1 µs ± 689 ns per loop (mean ± std. dev. of 7 runs, 10,000 loops each)\n"
     ]
    }
   ],
   "source": [
    "%timeit t_stack(trees)"
   ]
  },
  {
   "cell_type": "code",
   "execution_count": 22,
   "id": "94b56771",
   "metadata": {
    "execution": {
     "iopub.execute_input": "2023-02-27T09:56:54.535778Z",
     "iopub.status.busy": "2023-02-27T09:56:54.534848Z",
     "iopub.status.idle": "2023-02-27T09:56:54.552163Z",
     "shell.execute_reply": "2023-02-27T09:56:54.550341Z"
    }
   },
   "outputs": [
    {
     "data": {
      "text/plain": [
       "<FastTreeValue 0x7f5c494eafd0>\n",
       "├── 'a' --> tensor([[-0.4218,  0.0410,  0.7314],\n",
       "│                   [-0.0452,  0.4764, -0.3827],\n",
       "│                   [-0.4218,  0.0410,  0.7314],\n",
       "│                   [-0.0452,  0.4764, -0.3827],\n",
       "│                   [-0.4218,  0.0410,  0.7314],\n",
       "│                   [-0.0452,  0.4764, -0.3827],\n",
       "│                   [-0.4218,  0.0410,  0.7314],\n",
       "│                   [-0.0452,  0.4764, -0.3827],\n",
       "│                   [-0.4218,  0.0410,  0.7314],\n",
       "│                   [-0.0452,  0.4764, -0.3827],\n",
       "│                   [-0.4218,  0.0410,  0.7314],\n",
       "│                   [-0.0452,  0.4764, -0.3827],\n",
       "│                   [-0.4218,  0.0410,  0.7314],\n",
       "│                   [-0.0452,  0.4764, -0.3827],\n",
       "│                   [-0.4218,  0.0410,  0.7314],\n",
       "│                   [-0.0452,  0.4764, -0.3827]])\n",
       "└── 'x' --> <FastTreeValue 0x7f5c494eab20>\n",
       "    └── 'c' --> tensor([[ 0.0537,  0.2184,  0.7362, -0.5102],\n",
       "                        [ 0.1379, -0.4206, -2.2079, -0.9166],\n",
       "                        [-0.5703,  0.7308, -0.9355, -1.5028],\n",
       "                        [ 0.0537,  0.2184,  0.7362, -0.5102],\n",
       "                        [ 0.1379, -0.4206, -2.2079, -0.9166],\n",
       "                        [-0.5703,  0.7308, -0.9355, -1.5028],\n",
       "                        [ 0.0537,  0.2184,  0.7362, -0.5102],\n",
       "                        [ 0.1379, -0.4206, -2.2079, -0.9166],\n",
       "                        [-0.5703,  0.7308, -0.9355, -1.5028],\n",
       "                        [ 0.0537,  0.2184,  0.7362, -0.5102],\n",
       "                        [ 0.1379, -0.4206, -2.2079, -0.9166],\n",
       "                        [-0.5703,  0.7308, -0.9355, -1.5028],\n",
       "                        [ 0.0537,  0.2184,  0.7362, -0.5102],\n",
       "                        [ 0.1379, -0.4206, -2.2079, -0.9166],\n",
       "                        [-0.5703,  0.7308, -0.9355, -1.5028],\n",
       "                        [ 0.0537,  0.2184,  0.7362, -0.5102],\n",
       "                        [ 0.1379, -0.4206, -2.2079, -0.9166],\n",
       "                        [-0.5703,  0.7308, -0.9355, -1.5028],\n",
       "                        [ 0.0537,  0.2184,  0.7362, -0.5102],\n",
       "                        [ 0.1379, -0.4206, -2.2079, -0.9166],\n",
       "                        [-0.5703,  0.7308, -0.9355, -1.5028],\n",
       "                        [ 0.0537,  0.2184,  0.7362, -0.5102],\n",
       "                        [ 0.1379, -0.4206, -2.2079, -0.9166],\n",
       "                        [-0.5703,  0.7308, -0.9355, -1.5028]])"
      ]
     },
     "execution_count": 22,
     "metadata": {},
     "output_type": "execute_result"
    }
   ],
   "source": [
    "t_cat = FastTreeValue.func(subside=True)(torch.cat)\n",
    "\n",
    "t_cat(trees)"
   ]
  },
  {
   "cell_type": "code",
   "execution_count": 23,
   "id": "5e9c06a6",
   "metadata": {
    "execution": {
     "iopub.execute_input": "2023-02-27T09:56:54.556552Z",
     "iopub.status.busy": "2023-02-27T09:56:54.556204Z",
     "iopub.status.idle": "2023-02-27T09:56:58.194869Z",
     "shell.execute_reply": "2023-02-27T09:56:58.193633Z"
    }
   },
   "outputs": [
    {
     "name": "stdout",
     "output_type": "stream",
     "text": [
      "44.5 µs ± 624 ns per loop (mean ± std. dev. of 7 runs, 10,000 loops each)\n"
     ]
    }
   ],
   "source": [
    "%timeit t_cat(trees)"
   ]
  },
  {
   "cell_type": "code",
   "execution_count": 24,
   "id": "a3ab5c8f",
   "metadata": {
    "execution": {
     "iopub.execute_input": "2023-02-27T09:56:58.199369Z",
     "iopub.status.busy": "2023-02-27T09:56:58.199021Z",
     "iopub.status.idle": "2023-02-27T09:57:05.170621Z",
     "shell.execute_reply": "2023-02-27T09:57:05.169470Z"
    }
   },
   "outputs": [
    {
     "name": "stdout",
     "output_type": "stream",
     "text": [
      "85.9 µs ± 1.86 µs per loop (mean ± std. dev. of 7 runs, 10,000 loops each)\n"
     ]
    }
   ],
   "source": [
    "t_split = FastTreeValue.func(rise=True)(torch.split)\n",
    "tree = FastTreeValue({\n",
    "    'obs': torch.randn(8, 4, 84, 84),\n",
    "    'action': torch.randint(0, 6, size=(8, 1,)),\n",
    "    'reward': torch.rand(8, 1),\n",
    "})\n",
    "\n",
    "%timeit t_split(tree, 1)"
   ]
  },
  {
   "cell_type": "markdown",
   "id": "31c3ec0b",
   "metadata": {},
   "source": [
    "### Performance of Tianshou Batch"
   ]
  },
  {
   "cell_type": "code",
   "execution_count": 25,
   "id": "9ead828a",
   "metadata": {
    "execution": {
     "iopub.execute_input": "2023-02-27T09:57:05.175485Z",
     "iopub.status.busy": "2023-02-27T09:57:05.174642Z",
     "iopub.status.idle": "2023-02-27T09:57:05.186938Z",
     "shell.execute_reply": "2023-02-27T09:57:05.185876Z"
    }
   },
   "outputs": [
    {
     "data": {
      "text/plain": [
       "Batch(\n",
       "    a: tensor([[[-0.4218,  0.0410,  0.7314],\n",
       "                [-0.0452,  0.4764, -0.3827]],\n",
       "       \n",
       "               [[-0.4218,  0.0410,  0.7314],\n",
       "                [-0.0452,  0.4764, -0.3827]],\n",
       "       \n",
       "               [[-0.4218,  0.0410,  0.7314],\n",
       "                [-0.0452,  0.4764, -0.3827]],\n",
       "       \n",
       "               [[-0.4218,  0.0410,  0.7314],\n",
       "                [-0.0452,  0.4764, -0.3827]],\n",
       "       \n",
       "               [[-0.4218,  0.0410,  0.7314],\n",
       "                [-0.0452,  0.4764, -0.3827]],\n",
       "       \n",
       "               [[-0.4218,  0.0410,  0.7314],\n",
       "                [-0.0452,  0.4764, -0.3827]],\n",
       "       \n",
       "               [[-0.4218,  0.0410,  0.7314],\n",
       "                [-0.0452,  0.4764, -0.3827]],\n",
       "       \n",
       "               [[-0.4218,  0.0410,  0.7314],\n",
       "                [-0.0452,  0.4764, -0.3827]]]),\n",
       "    x: Batch(\n",
       "           c: tensor([[[ 0.0537,  0.2184,  0.7362, -0.5102],\n",
       "                       [ 0.1379, -0.4206, -2.2079, -0.9166],\n",
       "                       [-0.5703,  0.7308, -0.9355, -1.5028]],\n",
       "              \n",
       "                      [[ 0.0537,  0.2184,  0.7362, -0.5102],\n",
       "                       [ 0.1379, -0.4206, -2.2079, -0.9166],\n",
       "                       [-0.5703,  0.7308, -0.9355, -1.5028]],\n",
       "              \n",
       "                      [[ 0.0537,  0.2184,  0.7362, -0.5102],\n",
       "                       [ 0.1379, -0.4206, -2.2079, -0.9166],\n",
       "                       [-0.5703,  0.7308, -0.9355, -1.5028]],\n",
       "              \n",
       "                      [[ 0.0537,  0.2184,  0.7362, -0.5102],\n",
       "                       [ 0.1379, -0.4206, -2.2079, -0.9166],\n",
       "                       [-0.5703,  0.7308, -0.9355, -1.5028]],\n",
       "              \n",
       "                      [[ 0.0537,  0.2184,  0.7362, -0.5102],\n",
       "                       [ 0.1379, -0.4206, -2.2079, -0.9166],\n",
       "                       [-0.5703,  0.7308, -0.9355, -1.5028]],\n",
       "              \n",
       "                      [[ 0.0537,  0.2184,  0.7362, -0.5102],\n",
       "                       [ 0.1379, -0.4206, -2.2079, -0.9166],\n",
       "                       [-0.5703,  0.7308, -0.9355, -1.5028]],\n",
       "              \n",
       "                      [[ 0.0537,  0.2184,  0.7362, -0.5102],\n",
       "                       [ 0.1379, -0.4206, -2.2079, -0.9166],\n",
       "                       [-0.5703,  0.7308, -0.9355, -1.5028]],\n",
       "              \n",
       "                      [[ 0.0537,  0.2184,  0.7362, -0.5102],\n",
       "                       [ 0.1379, -0.4206, -2.2079, -0.9166],\n",
       "                       [-0.5703,  0.7308, -0.9355, -1.5028]]]),\n",
       "       ),\n",
       ")"
      ]
     },
     "execution_count": 25,
     "metadata": {},
     "output_type": "execute_result"
    }
   ],
   "source": [
    "batches = [Batch(**_TREE_DATA_2) for _ in range(8)]\n",
    "\n",
    "Batch.stack(batches)"
   ]
  },
  {
   "cell_type": "code",
   "execution_count": 26,
   "id": "ec9037a3",
   "metadata": {
    "execution": {
     "iopub.execute_input": "2023-02-27T09:57:05.191682Z",
     "iopub.status.busy": "2023-02-27T09:57:05.191328Z",
     "iopub.status.idle": "2023-02-27T09:57:14.094562Z",
     "shell.execute_reply": "2023-02-27T09:57:14.093484Z"
    }
   },
   "outputs": [
    {
     "name": "stdout",
     "output_type": "stream",
     "text": [
      "110 µs ± 1.05 µs per loop (mean ± std. dev. of 7 runs, 10,000 loops each)\n"
     ]
    }
   ],
   "source": [
    "%timeit Batch.stack(batches)"
   ]
  },
  {
   "cell_type": "code",
   "execution_count": 27,
   "id": "cb8ab77e",
   "metadata": {
    "execution": {
     "iopub.execute_input": "2023-02-27T09:57:14.099096Z",
     "iopub.status.busy": "2023-02-27T09:57:14.098497Z",
     "iopub.status.idle": "2023-02-27T09:57:14.109478Z",
     "shell.execute_reply": "2023-02-27T09:57:14.108444Z"
    }
   },
   "outputs": [
    {
     "data": {
      "text/plain": [
       "Batch(\n",
       "    a: tensor([[-0.4218,  0.0410,  0.7314],\n",
       "               [-0.0452,  0.4764, -0.3827],\n",
       "               [-0.4218,  0.0410,  0.7314],\n",
       "               [-0.0452,  0.4764, -0.3827],\n",
       "               [-0.4218,  0.0410,  0.7314],\n",
       "               [-0.0452,  0.4764, -0.3827],\n",
       "               [-0.4218,  0.0410,  0.7314],\n",
       "               [-0.0452,  0.4764, -0.3827],\n",
       "               [-0.4218,  0.0410,  0.7314],\n",
       "               [-0.0452,  0.4764, -0.3827],\n",
       "               [-0.4218,  0.0410,  0.7314],\n",
       "               [-0.0452,  0.4764, -0.3827],\n",
       "               [-0.4218,  0.0410,  0.7314],\n",
       "               [-0.0452,  0.4764, -0.3827],\n",
       "               [-0.4218,  0.0410,  0.7314],\n",
       "               [-0.0452,  0.4764, -0.3827]]),\n",
       "    x: Batch(\n",
       "           c: tensor([[ 0.0537,  0.2184,  0.7362, -0.5102],\n",
       "                      [ 0.1379, -0.4206, -2.2079, -0.9166],\n",
       "                      [-0.5703,  0.7308, -0.9355, -1.5028],\n",
       "                      [ 0.0537,  0.2184,  0.7362, -0.5102],\n",
       "                      [ 0.1379, -0.4206, -2.2079, -0.9166],\n",
       "                      [-0.5703,  0.7308, -0.9355, -1.5028],\n",
       "                      [ 0.0537,  0.2184,  0.7362, -0.5102],\n",
       "                      [ 0.1379, -0.4206, -2.2079, -0.9166],\n",
       "                      [-0.5703,  0.7308, -0.9355, -1.5028],\n",
       "                      [ 0.0537,  0.2184,  0.7362, -0.5102],\n",
       "                      [ 0.1379, -0.4206, -2.2079, -0.9166],\n",
       "                      [-0.5703,  0.7308, -0.9355, -1.5028],\n",
       "                      [ 0.0537,  0.2184,  0.7362, -0.5102],\n",
       "                      [ 0.1379, -0.4206, -2.2079, -0.9166],\n",
       "                      [-0.5703,  0.7308, -0.9355, -1.5028],\n",
       "                      [ 0.0537,  0.2184,  0.7362, -0.5102],\n",
       "                      [ 0.1379, -0.4206, -2.2079, -0.9166],\n",
       "                      [-0.5703,  0.7308, -0.9355, -1.5028],\n",
       "                      [ 0.0537,  0.2184,  0.7362, -0.5102],\n",
       "                      [ 0.1379, -0.4206, -2.2079, -0.9166],\n",
       "                      [-0.5703,  0.7308, -0.9355, -1.5028],\n",
       "                      [ 0.0537,  0.2184,  0.7362, -0.5102],\n",
       "                      [ 0.1379, -0.4206, -2.2079, -0.9166],\n",
       "                      [-0.5703,  0.7308, -0.9355, -1.5028]]),\n",
       "       ),\n",
       ")"
      ]
     },
     "execution_count": 27,
     "metadata": {},
     "output_type": "execute_result"
    }
   ],
   "source": [
    "Batch.cat(batches)"
   ]
  },
  {
   "cell_type": "code",
   "execution_count": 28,
   "id": "18dfb045",
   "metadata": {
    "execution": {
     "iopub.execute_input": "2023-02-27T09:57:14.113210Z",
     "iopub.status.busy": "2023-02-27T09:57:14.112902Z",
     "iopub.status.idle": "2023-02-27T09:57:15.723093Z",
     "shell.execute_reply": "2023-02-27T09:57:15.722037Z"
    }
   },
   "outputs": [
    {
     "name": "stdout",
     "output_type": "stream",
     "text": [
      "197 µs ± 4.19 µs per loop (mean ± std. dev. of 7 runs, 1,000 loops each)\n"
     ]
    }
   ],
   "source": [
    "%timeit Batch.cat(batches)"
   ]
  },
  {
   "cell_type": "code",
   "execution_count": 29,
   "id": "c6688e51",
   "metadata": {
    "execution": {
     "iopub.execute_input": "2023-02-27T09:57:15.726793Z",
     "iopub.status.busy": "2023-02-27T09:57:15.726457Z",
     "iopub.status.idle": "2023-02-27T09:57:20.134746Z",
     "shell.execute_reply": "2023-02-27T09:57:20.133759Z"
    }
   },
   "outputs": [
    {
     "name": "stdout",
     "output_type": "stream",
     "text": [
      "542 µs ± 9.71 µs per loop (mean ± std. dev. of 7 runs, 1,000 loops each)\n"
     ]
    }
   ],
   "source": [
    "batch = Batch({\n",
    "    'obs': torch.randn(8, 4, 84, 84),\n",
    "    'action': torch.randint(0, 6, size=(8, 1,)),\n",
    "    'reward': torch.rand(8, 1)}\n",
    ")\n",
    "\n",
    "%timeit list(Batch.split(batch, 1, shuffle=False, merge_last=True))"
   ]
  },
  {
   "cell_type": "code",
   "execution_count": null,
   "id": "2539fbd9",
   "metadata": {},
   "outputs": [],
   "source": []
  }
 ],
 "metadata": {
  "kernelspec": {
   "display_name": "Python 3 (ipykernel)",
   "language": "python",
   "name": "python3"
  },
  "language_info": {
   "codemirror_mode": {
    "name": "ipython",
    "version": 3
   },
   "file_extension": ".py",
   "mimetype": "text/x-python",
   "name": "python",
   "nbconvert_exporter": "python",
   "pygments_lexer": "ipython3",
   "version": "3.8.16"
  }
 },
 "nbformat": 4,
 "nbformat_minor": 5
}
