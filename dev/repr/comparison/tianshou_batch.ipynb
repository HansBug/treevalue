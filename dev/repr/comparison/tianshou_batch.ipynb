{
 "cells": [
  {
   "cell_type": "markdown",
   "id": "9d39d946",
   "metadata": {},
   "source": [
    "# Comparison Between TreeValue and Tianshou Batch"
   ]
  },
  {
   "cell_type": "markdown",
   "id": "3c6db2d4",
   "metadata": {},
   "source": [
    "In this section, we will take a look at the feature and performance of the [Tianshou Batch](https://github.com/thu-ml/tianshou) library, which is developed by Tsinghua Machine Learning Group."
   ]
  },
  {
   "cell_type": "markdown",
   "id": "069361b0",
   "metadata": {},
   "source": [
    "Before starting the comparison, let us define some thing."
   ]
  },
  {
   "cell_type": "code",
   "execution_count": 1,
   "id": "06fc8d26",
   "metadata": {
    "execution": {
     "iopub.execute_input": "2023-02-25T19:55:22.066702Z",
     "iopub.status.busy": "2023-02-25T19:55:22.066116Z",
     "iopub.status.idle": "2023-02-25T19:55:23.042976Z",
     "shell.execute_reply": "2023-02-25T19:55:23.042196Z"
    }
   },
   "outputs": [
    {
     "name": "stderr",
     "output_type": "stream",
     "text": [
      "/opt/hostedtoolcache/Python/3.8.16/x64/lib/python3.8/site-packages/tqdm/auto.py:22: TqdmWarning: IProgress not found. Please update jupyter and ipywidgets. See https://ipywidgets.readthedocs.io/en/stable/user_install.html\n",
      "  from .autonotebook import tqdm as notebook_tqdm\n"
     ]
    }
   ],
   "source": [
    "import torch \n",
    "\n",
    "_TREE_DATA_1 = {'a': 1, 'b': 2, 'x': {'c': 3, 'd': 4}}\n",
    "_TREE_DATA_2 = {\n",
    "    'a': torch.randn(2, 3), \n",
    "    'x': {\n",
    "        'c': torch.randn(3, 4)\n",
    "    },\n",
    "}\n",
    "_TREE_DATA_3 = {\n",
    "    'obs': torch.randn(4, 84, 84),\n",
    "    'action': torch.randint(0, 6, size=(1,)),\n",
    "    'reward': torch.rand(1),\n",
    "}"
   ]
  },
  {
   "cell_type": "markdown",
   "id": "83461b25",
   "metadata": {},
   "source": [
    "## Read and Write Operation"
   ]
  },
  {
   "cell_type": "markdown",
   "id": "067b3f73",
   "metadata": {},
   "source": [
    "Reading and writing are the two most common operations in the tree data structure based on the data model (TreeValue and Tianshou Batch both belong to this type), so this section will compare the reading and writing performance of these two libraries."
   ]
  },
  {
   "cell_type": "markdown",
   "id": "5d09a5b7",
   "metadata": {},
   "source": [
    "### TreeValue's Get and Set"
   ]
  },
  {
   "cell_type": "code",
   "execution_count": 2,
   "id": "9519c4bb",
   "metadata": {
    "execution": {
     "iopub.execute_input": "2023-02-25T19:55:23.047270Z",
     "iopub.status.busy": "2023-02-25T19:55:23.046536Z",
     "iopub.status.idle": "2023-02-25T19:55:23.082067Z",
     "shell.execute_reply": "2023-02-25T19:55:23.081328Z"
    }
   },
   "outputs": [],
   "source": [
    "from treevalue import FastTreeValue\n",
    "\n",
    "t = FastTreeValue(_TREE_DATA_2)"
   ]
  },
  {
   "cell_type": "code",
   "execution_count": 3,
   "id": "11c37677",
   "metadata": {
    "execution": {
     "iopub.execute_input": "2023-02-25T19:55:23.085636Z",
     "iopub.status.busy": "2023-02-25T19:55:23.085208Z",
     "iopub.status.idle": "2023-02-25T19:55:23.095025Z",
     "shell.execute_reply": "2023-02-25T19:55:23.094412Z"
    }
   },
   "outputs": [
    {
     "data": {
      "text/plain": [
       "<FastTreeValue 0x7f4fb015b430>\n",
       "├── 'a' --> tensor([[ 1.8482, -0.2578, -0.3141],\n",
       "│                   [-0.7162, -0.0363, -0.3489]])\n",
       "└── 'x' --> <FastTreeValue 0x7f4fb0155220>\n",
       "    └── 'c' --> tensor([[-0.9313,  0.0848,  1.0034,  0.1700],\n",
       "                        [ 1.4125, -1.1504, -0.0371,  0.8486],\n",
       "                        [-0.9554, -0.1132, -0.8440,  0.5613]])"
      ]
     },
     "execution_count": 3,
     "metadata": {},
     "output_type": "execute_result"
    }
   ],
   "source": [
    "t"
   ]
  },
  {
   "cell_type": "code",
   "execution_count": 4,
   "id": "fd70b0b9",
   "metadata": {
    "execution": {
     "iopub.execute_input": "2023-02-25T19:55:23.097809Z",
     "iopub.status.busy": "2023-02-25T19:55:23.097249Z",
     "iopub.status.idle": "2023-02-25T19:55:23.102283Z",
     "shell.execute_reply": "2023-02-25T19:55:23.101620Z"
    }
   },
   "outputs": [
    {
     "data": {
      "text/plain": [
       "tensor([[ 1.8482, -0.2578, -0.3141],\n",
       "        [-0.7162, -0.0363, -0.3489]])"
      ]
     },
     "execution_count": 4,
     "metadata": {},
     "output_type": "execute_result"
    }
   ],
   "source": [
    "t.a"
   ]
  },
  {
   "cell_type": "code",
   "execution_count": 5,
   "id": "c18197bd",
   "metadata": {
    "execution": {
     "iopub.execute_input": "2023-02-25T19:55:23.105066Z",
     "iopub.status.busy": "2023-02-25T19:55:23.104690Z",
     "iopub.status.idle": "2023-02-25T19:55:28.351349Z",
     "shell.execute_reply": "2023-02-25T19:55:28.350186Z"
    }
   },
   "outputs": [
    {
     "name": "stdout",
     "output_type": "stream",
     "text": [
      "64.6 ns ± 0.0482 ns per loop (mean ± std. dev. of 7 runs, 10,000,000 loops each)\n"
     ]
    }
   ],
   "source": [
    "%timeit t.a"
   ]
  },
  {
   "cell_type": "code",
   "execution_count": 6,
   "id": "bd52f867",
   "metadata": {
    "execution": {
     "iopub.execute_input": "2023-02-25T19:55:28.354786Z",
     "iopub.status.busy": "2023-02-25T19:55:28.354265Z",
     "iopub.status.idle": "2023-02-25T19:55:28.361702Z",
     "shell.execute_reply": "2023-02-25T19:55:28.361048Z"
    }
   },
   "outputs": [
    {
     "data": {
      "text/plain": [
       "<FastTreeValue 0x7f4fb015b430>\n",
       "├── 'a' --> tensor([[ 0.5165, -0.2982, -0.9350],\n",
       "│                   [-0.7668,  1.7618, -0.4617]])\n",
       "└── 'x' --> <FastTreeValue 0x7f4fb0155220>\n",
       "    └── 'c' --> tensor([[-0.9313,  0.0848,  1.0034,  0.1700],\n",
       "                        [ 1.4125, -1.1504, -0.0371,  0.8486],\n",
       "                        [-0.9554, -0.1132, -0.8440,  0.5613]])"
      ]
     },
     "execution_count": 6,
     "metadata": {},
     "output_type": "execute_result"
    }
   ],
   "source": [
    "new_value = torch.randn(2, 3)\n",
    "t.a = new_value\n",
    "\n",
    "t"
   ]
  },
  {
   "cell_type": "code",
   "execution_count": 7,
   "id": "bbe04d1c",
   "metadata": {
    "execution": {
     "iopub.execute_input": "2023-02-25T19:55:28.364605Z",
     "iopub.status.busy": "2023-02-25T19:55:28.364057Z",
     "iopub.status.idle": "2023-02-25T19:55:34.506154Z",
     "shell.execute_reply": "2023-02-25T19:55:34.505229Z"
    }
   },
   "outputs": [
    {
     "name": "stdout",
     "output_type": "stream",
     "text": [
      "75.6 ns ± 0.0526 ns per loop (mean ± std. dev. of 7 runs, 10,000,000 loops each)\n"
     ]
    }
   ],
   "source": [
    "%timeit t.a = new_value"
   ]
  },
  {
   "cell_type": "markdown",
   "id": "48c49731",
   "metadata": {},
   "source": [
    "### Tianshou Batch's Get and Set"
   ]
  },
  {
   "cell_type": "code",
   "execution_count": 8,
   "id": "f1bb14c1",
   "metadata": {
    "execution": {
     "iopub.execute_input": "2023-02-25T19:55:34.509328Z",
     "iopub.status.busy": "2023-02-25T19:55:34.508941Z",
     "iopub.status.idle": "2023-02-25T19:55:34.880464Z",
     "shell.execute_reply": "2023-02-25T19:55:34.879609Z"
    }
   },
   "outputs": [],
   "source": [
    "from tianshou.data import Batch\n",
    "\n",
    "b = Batch(**_TREE_DATA_2)"
   ]
  },
  {
   "cell_type": "code",
   "execution_count": 9,
   "id": "cb0777c3",
   "metadata": {
    "execution": {
     "iopub.execute_input": "2023-02-25T19:55:34.884403Z",
     "iopub.status.busy": "2023-02-25T19:55:34.883784Z",
     "iopub.status.idle": "2023-02-25T19:55:34.889769Z",
     "shell.execute_reply": "2023-02-25T19:55:34.889055Z"
    }
   },
   "outputs": [
    {
     "data": {
      "text/plain": [
       "Batch(\n",
       "    a: tensor([[ 1.8482, -0.2578, -0.3141],\n",
       "               [-0.7162, -0.0363, -0.3489]]),\n",
       "    x: Batch(\n",
       "           c: tensor([[-0.9313,  0.0848,  1.0034,  0.1700],\n",
       "                      [ 1.4125, -1.1504, -0.0371,  0.8486],\n",
       "                      [-0.9554, -0.1132, -0.8440,  0.5613]]),\n",
       "       ),\n",
       ")"
      ]
     },
     "execution_count": 9,
     "metadata": {},
     "output_type": "execute_result"
    }
   ],
   "source": [
    "b"
   ]
  },
  {
   "cell_type": "code",
   "execution_count": 10,
   "id": "43ef8ea3",
   "metadata": {
    "execution": {
     "iopub.execute_input": "2023-02-25T19:55:34.892933Z",
     "iopub.status.busy": "2023-02-25T19:55:34.892399Z",
     "iopub.status.idle": "2023-02-25T19:55:34.898551Z",
     "shell.execute_reply": "2023-02-25T19:55:34.897922Z"
    }
   },
   "outputs": [
    {
     "data": {
      "text/plain": [
       "tensor([[ 1.8482, -0.2578, -0.3141],\n",
       "        [-0.7162, -0.0363, -0.3489]])"
      ]
     },
     "execution_count": 10,
     "metadata": {},
     "output_type": "execute_result"
    }
   ],
   "source": [
    "b.a"
   ]
  },
  {
   "cell_type": "code",
   "execution_count": 11,
   "id": "b785ab72",
   "metadata": {
    "execution": {
     "iopub.execute_input": "2023-02-25T19:55:34.901310Z",
     "iopub.status.busy": "2023-02-25T19:55:34.900953Z",
     "iopub.status.idle": "2023-02-25T19:55:39.609881Z",
     "shell.execute_reply": "2023-02-25T19:55:39.608963Z"
    }
   },
   "outputs": [
    {
     "name": "stdout",
     "output_type": "stream",
     "text": [
      "57.9 ns ± 0.0363 ns per loop (mean ± std. dev. of 7 runs, 10,000,000 loops each)\n"
     ]
    }
   ],
   "source": [
    "%timeit b.a"
   ]
  },
  {
   "cell_type": "code",
   "execution_count": 12,
   "id": "ad54dc69",
   "metadata": {
    "execution": {
     "iopub.execute_input": "2023-02-25T19:55:39.613162Z",
     "iopub.status.busy": "2023-02-25T19:55:39.612727Z",
     "iopub.status.idle": "2023-02-25T19:55:39.621048Z",
     "shell.execute_reply": "2023-02-25T19:55:39.620405Z"
    }
   },
   "outputs": [
    {
     "data": {
      "text/plain": [
       "Batch(\n",
       "    a: tensor([[-1.0190, -0.9133,  0.6458],\n",
       "               [-0.7256,  1.6573, -0.5043]]),\n",
       "    x: Batch(\n",
       "           c: tensor([[-0.9313,  0.0848,  1.0034,  0.1700],\n",
       "                      [ 1.4125, -1.1504, -0.0371,  0.8486],\n",
       "                      [-0.9554, -0.1132, -0.8440,  0.5613]]),\n",
       "       ),\n",
       ")"
      ]
     },
     "execution_count": 12,
     "metadata": {},
     "output_type": "execute_result"
    }
   ],
   "source": [
    "new_value = torch.randn(2, 3)\n",
    "b.a = new_value\n",
    "\n",
    "b"
   ]
  },
  {
   "cell_type": "code",
   "execution_count": 13,
   "id": "29b1d0bf",
   "metadata": {
    "execution": {
     "iopub.execute_input": "2023-02-25T19:55:39.624131Z",
     "iopub.status.busy": "2023-02-25T19:55:39.623597Z",
     "iopub.status.idle": "2023-02-25T19:55:43.649092Z",
     "shell.execute_reply": "2023-02-25T19:55:43.648335Z"
    }
   },
   "outputs": [
    {
     "name": "stdout",
     "output_type": "stream",
     "text": [
      "496 ns ± 0.101 ns per loop (mean ± std. dev. of 7 runs, 1,000,000 loops each)\n"
     ]
    }
   ],
   "source": [
    "%timeit b.a = new_value"
   ]
  },
  {
   "cell_type": "markdown",
   "id": "b61ad1d0",
   "metadata": {},
   "source": [
    "## Initialization"
   ]
  },
  {
   "cell_type": "markdown",
   "id": "d70f0d54",
   "metadata": {},
   "source": [
    "### TreeValue's Initialization"
   ]
  },
  {
   "cell_type": "code",
   "execution_count": 14,
   "id": "d32a679b",
   "metadata": {
    "execution": {
     "iopub.execute_input": "2023-02-25T19:55:43.652634Z",
     "iopub.status.busy": "2023-02-25T19:55:43.652136Z",
     "iopub.status.idle": "2023-02-25T19:55:50.633605Z",
     "shell.execute_reply": "2023-02-25T19:55:50.632876Z"
    }
   },
   "outputs": [
    {
     "name": "stdout",
     "output_type": "stream",
     "text": [
      "860 ns ± 0.507 ns per loop (mean ± std. dev. of 7 runs, 1,000,000 loops each)\n"
     ]
    }
   ],
   "source": [
    "%timeit FastTreeValue(_TREE_DATA_1)"
   ]
  },
  {
   "cell_type": "markdown",
   "id": "24f3707b",
   "metadata": {},
   "source": [
    "### Tianshou Batch's Initialization"
   ]
  },
  {
   "cell_type": "code",
   "execution_count": 15,
   "id": "ac3958df",
   "metadata": {
    "execution": {
     "iopub.execute_input": "2023-02-25T19:55:50.636468Z",
     "iopub.status.busy": "2023-02-25T19:55:50.636194Z",
     "iopub.status.idle": "2023-02-25T19:55:59.367632Z",
     "shell.execute_reply": "2023-02-25T19:55:59.366826Z"
    }
   },
   "outputs": [
    {
     "name": "stdout",
     "output_type": "stream",
     "text": [
      "10.8 µs ± 32.2 ns per loop (mean ± std. dev. of 7 runs, 100,000 loops each)\n"
     ]
    }
   ],
   "source": [
    "%timeit Batch(**_TREE_DATA_1)"
   ]
  },
  {
   "cell_type": "markdown",
   "id": "1ab82e2d",
   "metadata": {},
   "source": [
    "## Deep Copy Operation"
   ]
  },
  {
   "cell_type": "code",
   "execution_count": 16,
   "id": "210a9442",
   "metadata": {
    "execution": {
     "iopub.execute_input": "2023-02-25T19:55:59.371140Z",
     "iopub.status.busy": "2023-02-25T19:55:59.370546Z",
     "iopub.status.idle": "2023-02-25T19:55:59.374347Z",
     "shell.execute_reply": "2023-02-25T19:55:59.373702Z"
    }
   },
   "outputs": [],
   "source": [
    "import copy"
   ]
  },
  {
   "cell_type": "markdown",
   "id": "5a736274",
   "metadata": {},
   "source": [
    "### Deep Copy of TreeValue"
   ]
  },
  {
   "cell_type": "code",
   "execution_count": 17,
   "id": "f9bcadd6",
   "metadata": {
    "execution": {
     "iopub.execute_input": "2023-02-25T19:55:59.377260Z",
     "iopub.status.busy": "2023-02-25T19:55:59.376898Z",
     "iopub.status.idle": "2023-02-25T19:56:11.413430Z",
     "shell.execute_reply": "2023-02-25T19:56:11.412605Z"
    }
   },
   "outputs": [
    {
     "name": "stdout",
     "output_type": "stream",
     "text": [
      "148 µs ± 2.53 µs per loop (mean ± std. dev. of 7 runs, 10,000 loops each)\n"
     ]
    }
   ],
   "source": [
    "t3 = FastTreeValue(_TREE_DATA_3)\n",
    "%timeit copy.deepcopy(t3)"
   ]
  },
  {
   "cell_type": "markdown",
   "id": "bf8be7ea",
   "metadata": {},
   "source": [
    "### Deep Copy of Tianshou Batch"
   ]
  },
  {
   "cell_type": "code",
   "execution_count": 18,
   "id": "91998e6f",
   "metadata": {
    "execution": {
     "iopub.execute_input": "2023-02-25T19:56:11.416828Z",
     "iopub.status.busy": "2023-02-25T19:56:11.416284Z",
     "iopub.status.idle": "2023-02-25T19:56:23.431488Z",
     "shell.execute_reply": "2023-02-25T19:56:23.430852Z"
    }
   },
   "outputs": [
    {
     "name": "stdout",
     "output_type": "stream",
     "text": [
      "148 µs ± 613 ns per loop (mean ± std. dev. of 7 runs, 10,000 loops each)\n"
     ]
    }
   ],
   "source": [
    "b3 = Batch(**_TREE_DATA_3)\n",
    "%timeit copy.deepcopy(b3)"
   ]
  },
  {
   "cell_type": "markdown",
   "id": "223162fb",
   "metadata": {},
   "source": [
    "## Stack, Concat and Split Operation"
   ]
  },
  {
   "cell_type": "markdown",
   "id": "85fa4a73",
   "metadata": {},
   "source": [
    "### Performance of TreeValue"
   ]
  },
  {
   "cell_type": "code",
   "execution_count": 19,
   "id": "a0c2b697",
   "metadata": {
    "execution": {
     "iopub.execute_input": "2023-02-25T19:56:23.434511Z",
     "iopub.status.busy": "2023-02-25T19:56:23.434065Z",
     "iopub.status.idle": "2023-02-25T19:56:23.437415Z",
     "shell.execute_reply": "2023-02-25T19:56:23.436854Z"
    }
   },
   "outputs": [],
   "source": [
    "trees = [FastTreeValue(_TREE_DATA_2) for _ in range(8)]"
   ]
  },
  {
   "cell_type": "code",
   "execution_count": 20,
   "id": "017ea5a5",
   "metadata": {
    "execution": {
     "iopub.execute_input": "2023-02-25T19:56:23.440118Z",
     "iopub.status.busy": "2023-02-25T19:56:23.439695Z",
     "iopub.status.idle": "2023-02-25T19:56:23.446734Z",
     "shell.execute_reply": "2023-02-25T19:56:23.446185Z"
    }
   },
   "outputs": [
    {
     "data": {
      "text/plain": [
       "<FastTreeValue 0x7f4f84590640>\n",
       "├── 'a' --> tensor([[[ 1.8482, -0.2578, -0.3141],\n",
       "│                    [-0.7162, -0.0363, -0.3489]],\n",
       "│           \n",
       "│                   [[ 1.8482, -0.2578, -0.3141],\n",
       "│                    [-0.7162, -0.0363, -0.3489]],\n",
       "│           \n",
       "│                   [[ 1.8482, -0.2578, -0.3141],\n",
       "│                    [-0.7162, -0.0363, -0.3489]],\n",
       "│           \n",
       "│                   [[ 1.8482, -0.2578, -0.3141],\n",
       "│                    [-0.7162, -0.0363, -0.3489]],\n",
       "│           \n",
       "│                   [[ 1.8482, -0.2578, -0.3141],\n",
       "│                    [-0.7162, -0.0363, -0.3489]],\n",
       "│           \n",
       "│                   [[ 1.8482, -0.2578, -0.3141],\n",
       "│                    [-0.7162, -0.0363, -0.3489]],\n",
       "│           \n",
       "│                   [[ 1.8482, -0.2578, -0.3141],\n",
       "│                    [-0.7162, -0.0363, -0.3489]],\n",
       "│           \n",
       "│                   [[ 1.8482, -0.2578, -0.3141],\n",
       "│                    [-0.7162, -0.0363, -0.3489]]])\n",
       "└── 'x' --> <FastTreeValue 0x7f4f845904f0>\n",
       "    └── 'c' --> tensor([[[-0.9313,  0.0848,  1.0034,  0.1700],\n",
       "                         [ 1.4125, -1.1504, -0.0371,  0.8486],\n",
       "                         [-0.9554, -0.1132, -0.8440,  0.5613]],\n",
       "                \n",
       "                        [[-0.9313,  0.0848,  1.0034,  0.1700],\n",
       "                         [ 1.4125, -1.1504, -0.0371,  0.8486],\n",
       "                         [-0.9554, -0.1132, -0.8440,  0.5613]],\n",
       "                \n",
       "                        [[-0.9313,  0.0848,  1.0034,  0.1700],\n",
       "                         [ 1.4125, -1.1504, -0.0371,  0.8486],\n",
       "                         [-0.9554, -0.1132, -0.8440,  0.5613]],\n",
       "                \n",
       "                        [[-0.9313,  0.0848,  1.0034,  0.1700],\n",
       "                         [ 1.4125, -1.1504, -0.0371,  0.8486],\n",
       "                         [-0.9554, -0.1132, -0.8440,  0.5613]],\n",
       "                \n",
       "                        [[-0.9313,  0.0848,  1.0034,  0.1700],\n",
       "                         [ 1.4125, -1.1504, -0.0371,  0.8486],\n",
       "                         [-0.9554, -0.1132, -0.8440,  0.5613]],\n",
       "                \n",
       "                        [[-0.9313,  0.0848,  1.0034,  0.1700],\n",
       "                         [ 1.4125, -1.1504, -0.0371,  0.8486],\n",
       "                         [-0.9554, -0.1132, -0.8440,  0.5613]],\n",
       "                \n",
       "                        [[-0.9313,  0.0848,  1.0034,  0.1700],\n",
       "                         [ 1.4125, -1.1504, -0.0371,  0.8486],\n",
       "                         [-0.9554, -0.1132, -0.8440,  0.5613]],\n",
       "                \n",
       "                        [[-0.9313,  0.0848,  1.0034,  0.1700],\n",
       "                         [ 1.4125, -1.1504, -0.0371,  0.8486],\n",
       "                         [-0.9554, -0.1132, -0.8440,  0.5613]]])"
      ]
     },
     "execution_count": 20,
     "metadata": {},
     "output_type": "execute_result"
    }
   ],
   "source": [
    "t_stack = FastTreeValue.func(subside=True)(torch.stack)\n",
    "\n",
    "t_stack(trees)"
   ]
  },
  {
   "cell_type": "code",
   "execution_count": 21,
   "id": "f8b3f415",
   "metadata": {
    "execution": {
     "iopub.execute_input": "2023-02-25T19:56:23.449237Z",
     "iopub.status.busy": "2023-02-25T19:56:23.448818Z",
     "iopub.status.idle": "2023-02-25T19:56:26.041866Z",
     "shell.execute_reply": "2023-02-25T19:56:26.040936Z"
    }
   },
   "outputs": [
    {
     "name": "stdout",
     "output_type": "stream",
     "text": [
      "31.9 µs ± 54.4 ns per loop (mean ± std. dev. of 7 runs, 10,000 loops each)\n"
     ]
    }
   ],
   "source": [
    "%timeit t_stack(trees)"
   ]
  },
  {
   "cell_type": "code",
   "execution_count": 22,
   "id": "94b56771",
   "metadata": {
    "execution": {
     "iopub.execute_input": "2023-02-25T19:56:26.045078Z",
     "iopub.status.busy": "2023-02-25T19:56:26.044670Z",
     "iopub.status.idle": "2023-02-25T19:56:26.052318Z",
     "shell.execute_reply": "2023-02-25T19:56:26.051627Z"
    }
   },
   "outputs": [
    {
     "data": {
      "text/plain": [
       "<FastTreeValue 0x7f4f84590280>\n",
       "├── 'a' --> tensor([[ 1.8482, -0.2578, -0.3141],\n",
       "│                   [-0.7162, -0.0363, -0.3489],\n",
       "│                   [ 1.8482, -0.2578, -0.3141],\n",
       "│                   [-0.7162, -0.0363, -0.3489],\n",
       "│                   [ 1.8482, -0.2578, -0.3141],\n",
       "│                   [-0.7162, -0.0363, -0.3489],\n",
       "│                   [ 1.8482, -0.2578, -0.3141],\n",
       "│                   [-0.7162, -0.0363, -0.3489],\n",
       "│                   [ 1.8482, -0.2578, -0.3141],\n",
       "│                   [-0.7162, -0.0363, -0.3489],\n",
       "│                   [ 1.8482, -0.2578, -0.3141],\n",
       "│                   [-0.7162, -0.0363, -0.3489],\n",
       "│                   [ 1.8482, -0.2578, -0.3141],\n",
       "│                   [-0.7162, -0.0363, -0.3489],\n",
       "│                   [ 1.8482, -0.2578, -0.3141],\n",
       "│                   [-0.7162, -0.0363, -0.3489]])\n",
       "└── 'x' --> <FastTreeValue 0x7f4f02e6b340>\n",
       "    └── 'c' --> tensor([[-0.9313,  0.0848,  1.0034,  0.1700],\n",
       "                        [ 1.4125, -1.1504, -0.0371,  0.8486],\n",
       "                        [-0.9554, -0.1132, -0.8440,  0.5613],\n",
       "                        [-0.9313,  0.0848,  1.0034,  0.1700],\n",
       "                        [ 1.4125, -1.1504, -0.0371,  0.8486],\n",
       "                        [-0.9554, -0.1132, -0.8440,  0.5613],\n",
       "                        [-0.9313,  0.0848,  1.0034,  0.1700],\n",
       "                        [ 1.4125, -1.1504, -0.0371,  0.8486],\n",
       "                        [-0.9554, -0.1132, -0.8440,  0.5613],\n",
       "                        [-0.9313,  0.0848,  1.0034,  0.1700],\n",
       "                        [ 1.4125, -1.1504, -0.0371,  0.8486],\n",
       "                        [-0.9554, -0.1132, -0.8440,  0.5613],\n",
       "                        [-0.9313,  0.0848,  1.0034,  0.1700],\n",
       "                        [ 1.4125, -1.1504, -0.0371,  0.8486],\n",
       "                        [-0.9554, -0.1132, -0.8440,  0.5613],\n",
       "                        [-0.9313,  0.0848,  1.0034,  0.1700],\n",
       "                        [ 1.4125, -1.1504, -0.0371,  0.8486],\n",
       "                        [-0.9554, -0.1132, -0.8440,  0.5613],\n",
       "                        [-0.9313,  0.0848,  1.0034,  0.1700],\n",
       "                        [ 1.4125, -1.1504, -0.0371,  0.8486],\n",
       "                        [-0.9554, -0.1132, -0.8440,  0.5613],\n",
       "                        [-0.9313,  0.0848,  1.0034,  0.1700],\n",
       "                        [ 1.4125, -1.1504, -0.0371,  0.8486],\n",
       "                        [-0.9554, -0.1132, -0.8440,  0.5613]])"
      ]
     },
     "execution_count": 22,
     "metadata": {},
     "output_type": "execute_result"
    }
   ],
   "source": [
    "t_cat = FastTreeValue.func(subside=True)(torch.cat)\n",
    "\n",
    "t_cat(trees)"
   ]
  },
  {
   "cell_type": "code",
   "execution_count": 23,
   "id": "5e9c06a6",
   "metadata": {
    "execution": {
     "iopub.execute_input": "2023-02-25T19:56:26.055489Z",
     "iopub.status.busy": "2023-02-25T19:56:26.054938Z",
     "iopub.status.idle": "2023-02-25T19:56:28.487409Z",
     "shell.execute_reply": "2023-02-25T19:56:28.486511Z"
    }
   },
   "outputs": [
    {
     "name": "stdout",
     "output_type": "stream",
     "text": [
      "29.9 µs ± 66.5 ns per loop (mean ± std. dev. of 7 runs, 10,000 loops each)\n"
     ]
    }
   ],
   "source": [
    "%timeit t_cat(trees)"
   ]
  },
  {
   "cell_type": "code",
   "execution_count": 24,
   "id": "a3ab5c8f",
   "metadata": {
    "execution": {
     "iopub.execute_input": "2023-02-25T19:56:28.491219Z",
     "iopub.status.busy": "2023-02-25T19:56:28.490610Z",
     "iopub.status.idle": "2023-02-25T19:56:33.132243Z",
     "shell.execute_reply": "2023-02-25T19:56:33.131438Z"
    }
   },
   "outputs": [
    {
     "name": "stdout",
     "output_type": "stream",
     "text": [
      "57.1 µs ± 127 ns per loop (mean ± std. dev. of 7 runs, 10,000 loops each)\n"
     ]
    }
   ],
   "source": [
    "t_split = FastTreeValue.func(rise=True)(torch.split)\n",
    "tree = FastTreeValue({\n",
    "    'obs': torch.randn(8, 4, 84, 84),\n",
    "    'action': torch.randint(0, 6, size=(8, 1,)),\n",
    "    'reward': torch.rand(8, 1),\n",
    "})\n",
    "\n",
    "%timeit t_split(tree, 1)"
   ]
  },
  {
   "cell_type": "markdown",
   "id": "31c3ec0b",
   "metadata": {},
   "source": [
    "### Performance of Tianshou Batch"
   ]
  },
  {
   "cell_type": "code",
   "execution_count": 25,
   "id": "9ead828a",
   "metadata": {
    "execution": {
     "iopub.execute_input": "2023-02-25T19:56:33.135482Z",
     "iopub.status.busy": "2023-02-25T19:56:33.135071Z",
     "iopub.status.idle": "2023-02-25T19:56:33.143458Z",
     "shell.execute_reply": "2023-02-25T19:56:33.142826Z"
    }
   },
   "outputs": [
    {
     "data": {
      "text/plain": [
       "Batch(\n",
       "    x: Batch(\n",
       "           c: tensor([[[-0.9313,  0.0848,  1.0034,  0.1700],\n",
       "                       [ 1.4125, -1.1504, -0.0371,  0.8486],\n",
       "                       [-0.9554, -0.1132, -0.8440,  0.5613]],\n",
       "              \n",
       "                      [[-0.9313,  0.0848,  1.0034,  0.1700],\n",
       "                       [ 1.4125, -1.1504, -0.0371,  0.8486],\n",
       "                       [-0.9554, -0.1132, -0.8440,  0.5613]],\n",
       "              \n",
       "                      [[-0.9313,  0.0848,  1.0034,  0.1700],\n",
       "                       [ 1.4125, -1.1504, -0.0371,  0.8486],\n",
       "                       [-0.9554, -0.1132, -0.8440,  0.5613]],\n",
       "              \n",
       "                      [[-0.9313,  0.0848,  1.0034,  0.1700],\n",
       "                       [ 1.4125, -1.1504, -0.0371,  0.8486],\n",
       "                       [-0.9554, -0.1132, -0.8440,  0.5613]],\n",
       "              \n",
       "                      [[-0.9313,  0.0848,  1.0034,  0.1700],\n",
       "                       [ 1.4125, -1.1504, -0.0371,  0.8486],\n",
       "                       [-0.9554, -0.1132, -0.8440,  0.5613]],\n",
       "              \n",
       "                      [[-0.9313,  0.0848,  1.0034,  0.1700],\n",
       "                       [ 1.4125, -1.1504, -0.0371,  0.8486],\n",
       "                       [-0.9554, -0.1132, -0.8440,  0.5613]],\n",
       "              \n",
       "                      [[-0.9313,  0.0848,  1.0034,  0.1700],\n",
       "                       [ 1.4125, -1.1504, -0.0371,  0.8486],\n",
       "                       [-0.9554, -0.1132, -0.8440,  0.5613]],\n",
       "              \n",
       "                      [[-0.9313,  0.0848,  1.0034,  0.1700],\n",
       "                       [ 1.4125, -1.1504, -0.0371,  0.8486],\n",
       "                       [-0.9554, -0.1132, -0.8440,  0.5613]]]),\n",
       "       ),\n",
       "    a: tensor([[[ 1.8482, -0.2578, -0.3141],\n",
       "                [-0.7162, -0.0363, -0.3489]],\n",
       "       \n",
       "               [[ 1.8482, -0.2578, -0.3141],\n",
       "                [-0.7162, -0.0363, -0.3489]],\n",
       "       \n",
       "               [[ 1.8482, -0.2578, -0.3141],\n",
       "                [-0.7162, -0.0363, -0.3489]],\n",
       "       \n",
       "               [[ 1.8482, -0.2578, -0.3141],\n",
       "                [-0.7162, -0.0363, -0.3489]],\n",
       "       \n",
       "               [[ 1.8482, -0.2578, -0.3141],\n",
       "                [-0.7162, -0.0363, -0.3489]],\n",
       "       \n",
       "               [[ 1.8482, -0.2578, -0.3141],\n",
       "                [-0.7162, -0.0363, -0.3489]],\n",
       "       \n",
       "               [[ 1.8482, -0.2578, -0.3141],\n",
       "                [-0.7162, -0.0363, -0.3489]],\n",
       "       \n",
       "               [[ 1.8482, -0.2578, -0.3141],\n",
       "                [-0.7162, -0.0363, -0.3489]]]),\n",
       ")"
      ]
     },
     "execution_count": 25,
     "metadata": {},
     "output_type": "execute_result"
    }
   ],
   "source": [
    "batches = [Batch(**_TREE_DATA_2) for _ in range(8)]\n",
    "\n",
    "Batch.stack(batches)"
   ]
  },
  {
   "cell_type": "code",
   "execution_count": 26,
   "id": "ec9037a3",
   "metadata": {
    "execution": {
     "iopub.execute_input": "2023-02-25T19:56:33.146380Z",
     "iopub.status.busy": "2023-02-25T19:56:33.145882Z",
     "iopub.status.idle": "2023-02-25T19:56:39.553949Z",
     "shell.execute_reply": "2023-02-25T19:56:39.553007Z"
    }
   },
   "outputs": [
    {
     "name": "stdout",
     "output_type": "stream",
     "text": [
      "78.8 µs ± 157 ns per loop (mean ± std. dev. of 7 runs, 10,000 loops each)\n"
     ]
    }
   ],
   "source": [
    "%timeit Batch.stack(batches)"
   ]
  },
  {
   "cell_type": "code",
   "execution_count": 27,
   "id": "cb8ab77e",
   "metadata": {
    "execution": {
     "iopub.execute_input": "2023-02-25T19:56:39.556969Z",
     "iopub.status.busy": "2023-02-25T19:56:39.556724Z",
     "iopub.status.idle": "2023-02-25T19:56:39.564757Z",
     "shell.execute_reply": "2023-02-25T19:56:39.564132Z"
    }
   },
   "outputs": [
    {
     "data": {
      "text/plain": [
       "Batch(\n",
       "    x: Batch(\n",
       "           c: tensor([[-0.9313,  0.0848,  1.0034,  0.1700],\n",
       "                      [ 1.4125, -1.1504, -0.0371,  0.8486],\n",
       "                      [-0.9554, -0.1132, -0.8440,  0.5613],\n",
       "                      [-0.9313,  0.0848,  1.0034,  0.1700],\n",
       "                      [ 1.4125, -1.1504, -0.0371,  0.8486],\n",
       "                      [-0.9554, -0.1132, -0.8440,  0.5613],\n",
       "                      [-0.9313,  0.0848,  1.0034,  0.1700],\n",
       "                      [ 1.4125, -1.1504, -0.0371,  0.8486],\n",
       "                      [-0.9554, -0.1132, -0.8440,  0.5613],\n",
       "                      [-0.9313,  0.0848,  1.0034,  0.1700],\n",
       "                      [ 1.4125, -1.1504, -0.0371,  0.8486],\n",
       "                      [-0.9554, -0.1132, -0.8440,  0.5613],\n",
       "                      [-0.9313,  0.0848,  1.0034,  0.1700],\n",
       "                      [ 1.4125, -1.1504, -0.0371,  0.8486],\n",
       "                      [-0.9554, -0.1132, -0.8440,  0.5613],\n",
       "                      [-0.9313,  0.0848,  1.0034,  0.1700],\n",
       "                      [ 1.4125, -1.1504, -0.0371,  0.8486],\n",
       "                      [-0.9554, -0.1132, -0.8440,  0.5613],\n",
       "                      [-0.9313,  0.0848,  1.0034,  0.1700],\n",
       "                      [ 1.4125, -1.1504, -0.0371,  0.8486],\n",
       "                      [-0.9554, -0.1132, -0.8440,  0.5613],\n",
       "                      [-0.9313,  0.0848,  1.0034,  0.1700],\n",
       "                      [ 1.4125, -1.1504, -0.0371,  0.8486],\n",
       "                      [-0.9554, -0.1132, -0.8440,  0.5613]]),\n",
       "       ),\n",
       "    a: tensor([[ 1.8482, -0.2578, -0.3141],\n",
       "               [-0.7162, -0.0363, -0.3489],\n",
       "               [ 1.8482, -0.2578, -0.3141],\n",
       "               [-0.7162, -0.0363, -0.3489],\n",
       "               [ 1.8482, -0.2578, -0.3141],\n",
       "               [-0.7162, -0.0363, -0.3489],\n",
       "               [ 1.8482, -0.2578, -0.3141],\n",
       "               [-0.7162, -0.0363, -0.3489],\n",
       "               [ 1.8482, -0.2578, -0.3141],\n",
       "               [-0.7162, -0.0363, -0.3489],\n",
       "               [ 1.8482, -0.2578, -0.3141],\n",
       "               [-0.7162, -0.0363, -0.3489],\n",
       "               [ 1.8482, -0.2578, -0.3141],\n",
       "               [-0.7162, -0.0363, -0.3489],\n",
       "               [ 1.8482, -0.2578, -0.3141],\n",
       "               [-0.7162, -0.0363, -0.3489]]),\n",
       ")"
      ]
     },
     "execution_count": 27,
     "metadata": {},
     "output_type": "execute_result"
    }
   ],
   "source": [
    "Batch.cat(batches)"
   ]
  },
  {
   "cell_type": "code",
   "execution_count": 28,
   "id": "18dfb045",
   "metadata": {
    "execution": {
     "iopub.execute_input": "2023-02-25T19:56:39.567731Z",
     "iopub.status.busy": "2023-02-25T19:56:39.567107Z",
     "iopub.status.idle": "2023-02-25T19:56:51.127278Z",
     "shell.execute_reply": "2023-02-25T19:56:51.126472Z"
    }
   },
   "outputs": [
    {
     "name": "stdout",
     "output_type": "stream",
     "text": [
      "142 µs ± 221 ns per loop (mean ± std. dev. of 7 runs, 10,000 loops each)\n"
     ]
    }
   ],
   "source": [
    "%timeit Batch.cat(batches)"
   ]
  },
  {
   "cell_type": "code",
   "execution_count": 29,
   "id": "c6688e51",
   "metadata": {
    "execution": {
     "iopub.execute_input": "2023-02-25T19:56:51.130676Z",
     "iopub.status.busy": "2023-02-25T19:56:51.130088Z",
     "iopub.status.idle": "2023-02-25T19:56:53.835061Z",
     "shell.execute_reply": "2023-02-25T19:56:53.834193Z"
    }
   },
   "outputs": [
    {
     "name": "stdout",
     "output_type": "stream",
     "text": [
      "332 µs ± 1.82 µs per loop (mean ± std. dev. of 7 runs, 1,000 loops each)\n"
     ]
    }
   ],
   "source": [
    "batch = Batch({\n",
    "    'obs': torch.randn(8, 4, 84, 84),\n",
    "    'action': torch.randint(0, 6, size=(8, 1,)),\n",
    "    'reward': torch.rand(8, 1)}\n",
    ")\n",
    "\n",
    "%timeit list(Batch.split(batch, 1, shuffle=False, merge_last=True))"
   ]
  },
  {
   "cell_type": "code",
   "execution_count": null,
   "id": "2539fbd9",
   "metadata": {},
   "outputs": [],
   "source": []
  }
 ],
 "metadata": {
  "kernelspec": {
   "display_name": "Python 3 (ipykernel)",
   "language": "python",
   "name": "python3"
  },
  "language_info": {
   "codemirror_mode": {
    "name": "ipython",
    "version": 3
   },
   "file_extension": ".py",
   "mimetype": "text/x-python",
   "name": "python",
   "nbconvert_exporter": "python",
   "pygments_lexer": "ipython3",
   "version": "3.8.16"
  }
 },
 "nbformat": 4,
 "nbformat_minor": 5
}
