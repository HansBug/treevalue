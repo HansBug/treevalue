{
 "cells": [
  {
   "cell_type": "markdown",
   "id": "9d39d946",
   "metadata": {},
   "source": [
    "# Comparison Between TreeValue and Tianshou Batch"
   ]
  },
  {
   "cell_type": "markdown",
   "id": "3c6db2d4",
   "metadata": {},
   "source": [
    "In this section, we will take a look at the feature and performance of the [Tianshou Batch](https://github.com/thu-ml/tianshou) library, which is developed by Tsinghua Machine Learning Group."
   ]
  },
  {
   "cell_type": "markdown",
   "id": "069361b0",
   "metadata": {},
   "source": [
    "Before starting the comparison, let us define some thing."
   ]
  },
  {
   "cell_type": "code",
   "execution_count": 1,
   "id": "06fc8d26",
   "metadata": {
    "execution": {
     "iopub.execute_input": "2023-02-23T08:49:52.695688Z",
     "iopub.status.busy": "2023-02-23T08:49:52.695463Z",
     "iopub.status.idle": "2023-02-23T08:49:53.716399Z",
     "shell.execute_reply": "2023-02-23T08:49:53.715579Z"
    }
   },
   "outputs": [
    {
     "name": "stderr",
     "output_type": "stream",
     "text": [
      "/opt/hostedtoolcache/Python/3.8.16/x64/lib/python3.8/site-packages/tqdm/auto.py:22: TqdmWarning: IProgress not found. Please update jupyter and ipywidgets. See https://ipywidgets.readthedocs.io/en/stable/user_install.html\n",
      "  from .autonotebook import tqdm as notebook_tqdm\n"
     ]
    }
   ],
   "source": [
    "import torch \n",
    "\n",
    "_TREE_DATA_1 = {'a': 1, 'b': 2, 'x': {'c': 3, 'd': 4}}\n",
    "_TREE_DATA_2 = {\n",
    "    'a': torch.randn(2, 3), \n",
    "    'x': {\n",
    "        'c': torch.randn(3, 4)\n",
    "    },\n",
    "}\n",
    "_TREE_DATA_3 = {\n",
    "    'obs': torch.randn(4, 84, 84),\n",
    "    'action': torch.randint(0, 6, size=(1,)),\n",
    "    'reward': torch.rand(1),\n",
    "}"
   ]
  },
  {
   "cell_type": "markdown",
   "id": "83461b25",
   "metadata": {},
   "source": [
    "## Read and Write Operation"
   ]
  },
  {
   "cell_type": "markdown",
   "id": "067b3f73",
   "metadata": {},
   "source": [
    "Reading and writing are the two most common operations in the tree data structure based on the data model (TreeValue and Tianshou Batch both belong to this type), so this section will compare the reading and writing performance of these two libraries."
   ]
  },
  {
   "cell_type": "markdown",
   "id": "5d09a5b7",
   "metadata": {},
   "source": [
    "### TreeValue's Get and Set"
   ]
  },
  {
   "cell_type": "code",
   "execution_count": 2,
   "id": "9519c4bb",
   "metadata": {
    "execution": {
     "iopub.execute_input": "2023-02-23T08:49:53.720439Z",
     "iopub.status.busy": "2023-02-23T08:49:53.719957Z",
     "iopub.status.idle": "2023-02-23T08:49:53.755886Z",
     "shell.execute_reply": "2023-02-23T08:49:53.755107Z"
    }
   },
   "outputs": [],
   "source": [
    "from treevalue import FastTreeValue\n",
    "\n",
    "t = FastTreeValue(_TREE_DATA_2)"
   ]
  },
  {
   "cell_type": "code",
   "execution_count": 3,
   "id": "11c37677",
   "metadata": {
    "execution": {
     "iopub.execute_input": "2023-02-23T08:49:53.760053Z",
     "iopub.status.busy": "2023-02-23T08:49:53.759335Z",
     "iopub.status.idle": "2023-02-23T08:49:53.769869Z",
     "shell.execute_reply": "2023-02-23T08:49:53.769237Z"
    }
   },
   "outputs": [
    {
     "data": {
      "text/plain": [
       "<FastTreeValue 0x7f30280d6340>\n",
       "├── 'a' --> tensor([[-0.5207, -0.7976, -0.4328],\n",
       "│                   [ 0.3064, -1.6373, -1.5495]])\n",
       "└── 'x' --> <FastTreeValue 0x7f3028137e80>\n",
       "    └── 'c' --> tensor([[-0.9004,  0.1704, -1.2218,  1.7708],\n",
       "                        [-1.6572,  0.0358,  0.0639, -0.2778],\n",
       "                        [-0.0517, -2.1045,  0.0235, -1.0484]])"
      ]
     },
     "execution_count": 3,
     "metadata": {},
     "output_type": "execute_result"
    }
   ],
   "source": [
    "t"
   ]
  },
  {
   "cell_type": "code",
   "execution_count": 4,
   "id": "fd70b0b9",
   "metadata": {
    "execution": {
     "iopub.execute_input": "2023-02-23T08:49:53.772816Z",
     "iopub.status.busy": "2023-02-23T08:49:53.772369Z",
     "iopub.status.idle": "2023-02-23T08:49:53.778189Z",
     "shell.execute_reply": "2023-02-23T08:49:53.777543Z"
    }
   },
   "outputs": [
    {
     "data": {
      "text/plain": [
       "tensor([[-0.5207, -0.7976, -0.4328],\n",
       "        [ 0.3064, -1.6373, -1.5495]])"
      ]
     },
     "execution_count": 4,
     "metadata": {},
     "output_type": "execute_result"
    }
   ],
   "source": [
    "t.a"
   ]
  },
  {
   "cell_type": "code",
   "execution_count": 5,
   "id": "c18197bd",
   "metadata": {
    "execution": {
     "iopub.execute_input": "2023-02-23T08:49:53.781095Z",
     "iopub.status.busy": "2023-02-23T08:49:53.780536Z",
     "iopub.status.idle": "2023-02-23T08:49:58.959002Z",
     "shell.execute_reply": "2023-02-23T08:49:58.958156Z"
    }
   },
   "outputs": [
    {
     "name": "stdout",
     "output_type": "stream",
     "text": [
      "63.8 ns ± 0.0494 ns per loop (mean ± std. dev. of 7 runs, 10,000,000 loops each)\n"
     ]
    }
   ],
   "source": [
    "%timeit t.a"
   ]
  },
  {
   "cell_type": "code",
   "execution_count": 6,
   "id": "bd52f867",
   "metadata": {
    "execution": {
     "iopub.execute_input": "2023-02-23T08:49:58.962563Z",
     "iopub.status.busy": "2023-02-23T08:49:58.962077Z",
     "iopub.status.idle": "2023-02-23T08:49:58.969147Z",
     "shell.execute_reply": "2023-02-23T08:49:58.968538Z"
    }
   },
   "outputs": [
    {
     "data": {
      "text/plain": [
       "<FastTreeValue 0x7f30280d6340>\n",
       "├── 'a' --> tensor([[-0.2176,  0.7201, -0.7425],\n",
       "│                   [-0.3279,  1.2687,  0.7329]])\n",
       "└── 'x' --> <FastTreeValue 0x7f3028137e80>\n",
       "    └── 'c' --> tensor([[-0.9004,  0.1704, -1.2218,  1.7708],\n",
       "                        [-1.6572,  0.0358,  0.0639, -0.2778],\n",
       "                        [-0.0517, -2.1045,  0.0235, -1.0484]])"
      ]
     },
     "execution_count": 6,
     "metadata": {},
     "output_type": "execute_result"
    }
   ],
   "source": [
    "new_value = torch.randn(2, 3)\n",
    "t.a = new_value\n",
    "\n",
    "t"
   ]
  },
  {
   "cell_type": "code",
   "execution_count": 7,
   "id": "bbe04d1c",
   "metadata": {
    "execution": {
     "iopub.execute_input": "2023-02-23T08:49:58.971756Z",
     "iopub.status.busy": "2023-02-23T08:49:58.971391Z",
     "iopub.status.idle": "2023-02-23T08:50:04.436108Z",
     "shell.execute_reply": "2023-02-23T08:50:04.434865Z"
    }
   },
   "outputs": [
    {
     "name": "stdout",
     "output_type": "stream",
     "text": [
      "67.3 ns ± 0.0772 ns per loop (mean ± std. dev. of 7 runs, 10,000,000 loops each)\n"
     ]
    }
   ],
   "source": [
    "%timeit t.a = new_value"
   ]
  },
  {
   "cell_type": "markdown",
   "id": "48c49731",
   "metadata": {},
   "source": [
    "### Tianshou Batch's Get and Set"
   ]
  },
  {
   "cell_type": "code",
   "execution_count": 8,
   "id": "f1bb14c1",
   "metadata": {
    "execution": {
     "iopub.execute_input": "2023-02-23T08:50:04.443551Z",
     "iopub.status.busy": "2023-02-23T08:50:04.441649Z",
     "iopub.status.idle": "2023-02-23T08:50:04.861436Z",
     "shell.execute_reply": "2023-02-23T08:50:04.860667Z"
    }
   },
   "outputs": [],
   "source": [
    "from tianshou.data import Batch\n",
    "\n",
    "b = Batch(**_TREE_DATA_2)"
   ]
  },
  {
   "cell_type": "code",
   "execution_count": 9,
   "id": "cb0777c3",
   "metadata": {
    "execution": {
     "iopub.execute_input": "2023-02-23T08:50:04.864956Z",
     "iopub.status.busy": "2023-02-23T08:50:04.864416Z",
     "iopub.status.idle": "2023-02-23T08:50:04.870517Z",
     "shell.execute_reply": "2023-02-23T08:50:04.869850Z"
    }
   },
   "outputs": [
    {
     "data": {
      "text/plain": [
       "Batch(\n",
       "    a: tensor([[-0.5207, -0.7976, -0.4328],\n",
       "               [ 0.3064, -1.6373, -1.5495]]),\n",
       "    x: Batch(\n",
       "           c: tensor([[-0.9004,  0.1704, -1.2218,  1.7708],\n",
       "                      [-1.6572,  0.0358,  0.0639, -0.2778],\n",
       "                      [-0.0517, -2.1045,  0.0235, -1.0484]]),\n",
       "       ),\n",
       ")"
      ]
     },
     "execution_count": 9,
     "metadata": {},
     "output_type": "execute_result"
    }
   ],
   "source": [
    "b"
   ]
  },
  {
   "cell_type": "code",
   "execution_count": 10,
   "id": "43ef8ea3",
   "metadata": {
    "execution": {
     "iopub.execute_input": "2023-02-23T08:50:04.873352Z",
     "iopub.status.busy": "2023-02-23T08:50:04.872894Z",
     "iopub.status.idle": "2023-02-23T08:50:04.878101Z",
     "shell.execute_reply": "2023-02-23T08:50:04.877437Z"
    }
   },
   "outputs": [
    {
     "data": {
      "text/plain": [
       "tensor([[-0.5207, -0.7976, -0.4328],\n",
       "        [ 0.3064, -1.6373, -1.5495]])"
      ]
     },
     "execution_count": 10,
     "metadata": {},
     "output_type": "execute_result"
    }
   ],
   "source": [
    "b.a"
   ]
  },
  {
   "cell_type": "code",
   "execution_count": 11,
   "id": "b785ab72",
   "metadata": {
    "execution": {
     "iopub.execute_input": "2023-02-23T08:50:04.880785Z",
     "iopub.status.busy": "2023-02-23T08:50:04.880335Z",
     "iopub.status.idle": "2023-02-23T08:50:09.643408Z",
     "shell.execute_reply": "2023-02-23T08:50:09.642275Z"
    }
   },
   "outputs": [
    {
     "name": "stdout",
     "output_type": "stream",
     "text": [
      "58.6 ns ± 0.0415 ns per loop (mean ± std. dev. of 7 runs, 10,000,000 loops each)\n"
     ]
    }
   ],
   "source": [
    "%timeit b.a"
   ]
  },
  {
   "cell_type": "code",
   "execution_count": 12,
   "id": "ad54dc69",
   "metadata": {
    "execution": {
     "iopub.execute_input": "2023-02-23T08:50:09.646987Z",
     "iopub.status.busy": "2023-02-23T08:50:09.646457Z",
     "iopub.status.idle": "2023-02-23T08:50:09.652826Z",
     "shell.execute_reply": "2023-02-23T08:50:09.652105Z"
    }
   },
   "outputs": [
    {
     "data": {
      "text/plain": [
       "Batch(\n",
       "    a: tensor([[ 0.0027,  0.6656, -1.9591],\n",
       "               [ 0.2981, -0.7660, -0.4932]]),\n",
       "    x: Batch(\n",
       "           c: tensor([[-0.9004,  0.1704, -1.2218,  1.7708],\n",
       "                      [-1.6572,  0.0358,  0.0639, -0.2778],\n",
       "                      [-0.0517, -2.1045,  0.0235, -1.0484]]),\n",
       "       ),\n",
       ")"
      ]
     },
     "execution_count": 12,
     "metadata": {},
     "output_type": "execute_result"
    }
   ],
   "source": [
    "new_value = torch.randn(2, 3)\n",
    "b.a = new_value\n",
    "\n",
    "b"
   ]
  },
  {
   "cell_type": "code",
   "execution_count": 13,
   "id": "29b1d0bf",
   "metadata": {
    "execution": {
     "iopub.execute_input": "2023-02-23T08:50:09.655609Z",
     "iopub.status.busy": "2023-02-23T08:50:09.655225Z",
     "iopub.status.idle": "2023-02-23T08:50:13.711300Z",
     "shell.execute_reply": "2023-02-23T08:50:13.710304Z"
    }
   },
   "outputs": [
    {
     "name": "stdout",
     "output_type": "stream",
     "text": [
      "500 ns ± 0.28 ns per loop (mean ± std. dev. of 7 runs, 1,000,000 loops each)\n"
     ]
    }
   ],
   "source": [
    "%timeit b.a = new_value"
   ]
  },
  {
   "cell_type": "markdown",
   "id": "b61ad1d0",
   "metadata": {},
   "source": [
    "## Initialization"
   ]
  },
  {
   "cell_type": "markdown",
   "id": "d70f0d54",
   "metadata": {},
   "source": [
    "### TreeValue's Initialization"
   ]
  },
  {
   "cell_type": "code",
   "execution_count": 14,
   "id": "d32a679b",
   "metadata": {
    "execution": {
     "iopub.execute_input": "2023-02-23T08:50:13.714906Z",
     "iopub.status.busy": "2023-02-23T08:50:13.714248Z",
     "iopub.status.idle": "2023-02-23T08:50:20.324636Z",
     "shell.execute_reply": "2023-02-23T08:50:20.323617Z"
    }
   },
   "outputs": [
    {
     "name": "stdout",
     "output_type": "stream",
     "text": [
      "815 ns ± 0.227 ns per loop (mean ± std. dev. of 7 runs, 1,000,000 loops each)\n"
     ]
    }
   ],
   "source": [
    "%timeit FastTreeValue(_TREE_DATA_1)"
   ]
  },
  {
   "cell_type": "markdown",
   "id": "24f3707b",
   "metadata": {},
   "source": [
    "### Tianshou Batch's Initialization"
   ]
  },
  {
   "cell_type": "code",
   "execution_count": 15,
   "id": "ac3958df",
   "metadata": {
    "execution": {
     "iopub.execute_input": "2023-02-23T08:50:20.328278Z",
     "iopub.status.busy": "2023-02-23T08:50:20.327757Z",
     "iopub.status.idle": "2023-02-23T08:50:29.272726Z",
     "shell.execute_reply": "2023-02-23T08:50:29.271907Z"
    }
   },
   "outputs": [
    {
     "name": "stdout",
     "output_type": "stream",
     "text": [
      "11 µs ± 24.9 ns per loop (mean ± std. dev. of 7 runs, 100,000 loops each)\n"
     ]
    }
   ],
   "source": [
    "%timeit Batch(**_TREE_DATA_1)"
   ]
  },
  {
   "cell_type": "markdown",
   "id": "1ab82e2d",
   "metadata": {},
   "source": [
    "## Deep Copy Operation"
   ]
  },
  {
   "cell_type": "code",
   "execution_count": 16,
   "id": "210a9442",
   "metadata": {
    "execution": {
     "iopub.execute_input": "2023-02-23T08:50:29.275935Z",
     "iopub.status.busy": "2023-02-23T08:50:29.275419Z",
     "iopub.status.idle": "2023-02-23T08:50:29.279724Z",
     "shell.execute_reply": "2023-02-23T08:50:29.279077Z"
    }
   },
   "outputs": [],
   "source": [
    "import copy"
   ]
  },
  {
   "cell_type": "markdown",
   "id": "5a736274",
   "metadata": {},
   "source": [
    "### Deep Copy of TreeValue"
   ]
  },
  {
   "cell_type": "code",
   "execution_count": 17,
   "id": "f9bcadd6",
   "metadata": {
    "execution": {
     "iopub.execute_input": "2023-02-23T08:50:29.282478Z",
     "iopub.status.busy": "2023-02-23T08:50:29.282022Z",
     "iopub.status.idle": "2023-02-23T08:50:40.894760Z",
     "shell.execute_reply": "2023-02-23T08:50:40.894078Z"
    }
   },
   "outputs": [
    {
     "name": "stdout",
     "output_type": "stream",
     "text": [
      "143 µs ± 282 ns per loop (mean ± std. dev. of 7 runs, 10,000 loops each)\n"
     ]
    }
   ],
   "source": [
    "t3 = FastTreeValue(_TREE_DATA_3)\n",
    "%timeit copy.deepcopy(t3)"
   ]
  },
  {
   "cell_type": "markdown",
   "id": "bf8be7ea",
   "metadata": {},
   "source": [
    "### Deep Copy of Tianshou Batch"
   ]
  },
  {
   "cell_type": "code",
   "execution_count": 18,
   "id": "91998e6f",
   "metadata": {
    "execution": {
     "iopub.execute_input": "2023-02-23T08:50:40.897774Z",
     "iopub.status.busy": "2023-02-23T08:50:40.897258Z",
     "iopub.status.idle": "2023-02-23T08:50:52.463793Z",
     "shell.execute_reply": "2023-02-23T08:50:52.463140Z"
    }
   },
   "outputs": [
    {
     "name": "stdout",
     "output_type": "stream",
     "text": [
      "142 µs ± 819 ns per loop (mean ± std. dev. of 7 runs, 10,000 loops each)\n"
     ]
    }
   ],
   "source": [
    "b3 = Batch(**_TREE_DATA_3)\n",
    "%timeit copy.deepcopy(b3)"
   ]
  },
  {
   "cell_type": "markdown",
   "id": "223162fb",
   "metadata": {},
   "source": [
    "## Stack, Concat and Split Operation"
   ]
  },
  {
   "cell_type": "markdown",
   "id": "85fa4a73",
   "metadata": {},
   "source": [
    "### Performance of TreeValue"
   ]
  },
  {
   "cell_type": "code",
   "execution_count": 19,
   "id": "a0c2b697",
   "metadata": {
    "execution": {
     "iopub.execute_input": "2023-02-23T08:50:52.467168Z",
     "iopub.status.busy": "2023-02-23T08:50:52.466294Z",
     "iopub.status.idle": "2023-02-23T08:50:52.470161Z",
     "shell.execute_reply": "2023-02-23T08:50:52.469598Z"
    }
   },
   "outputs": [],
   "source": [
    "trees = [FastTreeValue(_TREE_DATA_2) for _ in range(8)]"
   ]
  },
  {
   "cell_type": "code",
   "execution_count": 20,
   "id": "017ea5a5",
   "metadata": {
    "execution": {
     "iopub.execute_input": "2023-02-23T08:50:52.472965Z",
     "iopub.status.busy": "2023-02-23T08:50:52.472224Z",
     "iopub.status.idle": "2023-02-23T08:50:52.479777Z",
     "shell.execute_reply": "2023-02-23T08:50:52.479227Z"
    }
   },
   "outputs": [
    {
     "data": {
      "text/plain": [
       "<FastTreeValue 0x7f2f849de460>\n",
       "├── 'a' --> tensor([[[-0.5207, -0.7976, -0.4328],\n",
       "│                    [ 0.3064, -1.6373, -1.5495]],\n",
       "│           \n",
       "│                   [[-0.5207, -0.7976, -0.4328],\n",
       "│                    [ 0.3064, -1.6373, -1.5495]],\n",
       "│           \n",
       "│                   [[-0.5207, -0.7976, -0.4328],\n",
       "│                    [ 0.3064, -1.6373, -1.5495]],\n",
       "│           \n",
       "│                   [[-0.5207, -0.7976, -0.4328],\n",
       "│                    [ 0.3064, -1.6373, -1.5495]],\n",
       "│           \n",
       "│                   [[-0.5207, -0.7976, -0.4328],\n",
       "│                    [ 0.3064, -1.6373, -1.5495]],\n",
       "│           \n",
       "│                   [[-0.5207, -0.7976, -0.4328],\n",
       "│                    [ 0.3064, -1.6373, -1.5495]],\n",
       "│           \n",
       "│                   [[-0.5207, -0.7976, -0.4328],\n",
       "│                    [ 0.3064, -1.6373, -1.5495]],\n",
       "│           \n",
       "│                   [[-0.5207, -0.7976, -0.4328],\n",
       "│                    [ 0.3064, -1.6373, -1.5495]]])\n",
       "└── 'x' --> <FastTreeValue 0x7f2f849ded30>\n",
       "    └── 'c' --> tensor([[[-0.9004,  0.1704, -1.2218,  1.7708],\n",
       "                         [-1.6572,  0.0358,  0.0639, -0.2778],\n",
       "                         [-0.0517, -2.1045,  0.0235, -1.0484]],\n",
       "                \n",
       "                        [[-0.9004,  0.1704, -1.2218,  1.7708],\n",
       "                         [-1.6572,  0.0358,  0.0639, -0.2778],\n",
       "                         [-0.0517, -2.1045,  0.0235, -1.0484]],\n",
       "                \n",
       "                        [[-0.9004,  0.1704, -1.2218,  1.7708],\n",
       "                         [-1.6572,  0.0358,  0.0639, -0.2778],\n",
       "                         [-0.0517, -2.1045,  0.0235, -1.0484]],\n",
       "                \n",
       "                        [[-0.9004,  0.1704, -1.2218,  1.7708],\n",
       "                         [-1.6572,  0.0358,  0.0639, -0.2778],\n",
       "                         [-0.0517, -2.1045,  0.0235, -1.0484]],\n",
       "                \n",
       "                        [[-0.9004,  0.1704, -1.2218,  1.7708],\n",
       "                         [-1.6572,  0.0358,  0.0639, -0.2778],\n",
       "                         [-0.0517, -2.1045,  0.0235, -1.0484]],\n",
       "                \n",
       "                        [[-0.9004,  0.1704, -1.2218,  1.7708],\n",
       "                         [-1.6572,  0.0358,  0.0639, -0.2778],\n",
       "                         [-0.0517, -2.1045,  0.0235, -1.0484]],\n",
       "                \n",
       "                        [[-0.9004,  0.1704, -1.2218,  1.7708],\n",
       "                         [-1.6572,  0.0358,  0.0639, -0.2778],\n",
       "                         [-0.0517, -2.1045,  0.0235, -1.0484]],\n",
       "                \n",
       "                        [[-0.9004,  0.1704, -1.2218,  1.7708],\n",
       "                         [-1.6572,  0.0358,  0.0639, -0.2778],\n",
       "                         [-0.0517, -2.1045,  0.0235, -1.0484]]])"
      ]
     },
     "execution_count": 20,
     "metadata": {},
     "output_type": "execute_result"
    }
   ],
   "source": [
    "t_stack = FastTreeValue.func(subside=True)(torch.stack)\n",
    "\n",
    "t_stack(trees)"
   ]
  },
  {
   "cell_type": "code",
   "execution_count": 21,
   "id": "f8b3f415",
   "metadata": {
    "execution": {
     "iopub.execute_input": "2023-02-23T08:50:52.482441Z",
     "iopub.status.busy": "2023-02-23T08:50:52.481760Z",
     "iopub.status.idle": "2023-02-23T08:50:55.074683Z",
     "shell.execute_reply": "2023-02-23T08:50:55.073693Z"
    }
   },
   "outputs": [
    {
     "name": "stdout",
     "output_type": "stream",
     "text": [
      "31.9 µs ± 72.5 ns per loop (mean ± std. dev. of 7 runs, 10,000 loops each)\n"
     ]
    }
   ],
   "source": [
    "%timeit t_stack(trees)"
   ]
  },
  {
   "cell_type": "code",
   "execution_count": 22,
   "id": "94b56771",
   "metadata": {
    "execution": {
     "iopub.execute_input": "2023-02-23T08:50:55.078087Z",
     "iopub.status.busy": "2023-02-23T08:50:55.077485Z",
     "iopub.status.idle": "2023-02-23T08:50:55.086228Z",
     "shell.execute_reply": "2023-02-23T08:50:55.085164Z"
    }
   },
   "outputs": [
    {
     "data": {
      "text/plain": [
       "<FastTreeValue 0x7f2f84c152b0>\n",
       "├── 'a' --> tensor([[-0.5207, -0.7976, -0.4328],\n",
       "│                   [ 0.3064, -1.6373, -1.5495],\n",
       "│                   [-0.5207, -0.7976, -0.4328],\n",
       "│                   [ 0.3064, -1.6373, -1.5495],\n",
       "│                   [-0.5207, -0.7976, -0.4328],\n",
       "│                   [ 0.3064, -1.6373, -1.5495],\n",
       "│                   [-0.5207, -0.7976, -0.4328],\n",
       "│                   [ 0.3064, -1.6373, -1.5495],\n",
       "│                   [-0.5207, -0.7976, -0.4328],\n",
       "│                   [ 0.3064, -1.6373, -1.5495],\n",
       "│                   [-0.5207, -0.7976, -0.4328],\n",
       "│                   [ 0.3064, -1.6373, -1.5495],\n",
       "│                   [-0.5207, -0.7976, -0.4328],\n",
       "│                   [ 0.3064, -1.6373, -1.5495],\n",
       "│                   [-0.5207, -0.7976, -0.4328],\n",
       "│                   [ 0.3064, -1.6373, -1.5495]])\n",
       "└── 'x' --> <FastTreeValue 0x7f2f84e38eb0>\n",
       "    └── 'c' --> tensor([[-0.9004,  0.1704, -1.2218,  1.7708],\n",
       "                        [-1.6572,  0.0358,  0.0639, -0.2778],\n",
       "                        [-0.0517, -2.1045,  0.0235, -1.0484],\n",
       "                        [-0.9004,  0.1704, -1.2218,  1.7708],\n",
       "                        [-1.6572,  0.0358,  0.0639, -0.2778],\n",
       "                        [-0.0517, -2.1045,  0.0235, -1.0484],\n",
       "                        [-0.9004,  0.1704, -1.2218,  1.7708],\n",
       "                        [-1.6572,  0.0358,  0.0639, -0.2778],\n",
       "                        [-0.0517, -2.1045,  0.0235, -1.0484],\n",
       "                        [-0.9004,  0.1704, -1.2218,  1.7708],\n",
       "                        [-1.6572,  0.0358,  0.0639, -0.2778],\n",
       "                        [-0.0517, -2.1045,  0.0235, -1.0484],\n",
       "                        [-0.9004,  0.1704, -1.2218,  1.7708],\n",
       "                        [-1.6572,  0.0358,  0.0639, -0.2778],\n",
       "                        [-0.0517, -2.1045,  0.0235, -1.0484],\n",
       "                        [-0.9004,  0.1704, -1.2218,  1.7708],\n",
       "                        [-1.6572,  0.0358,  0.0639, -0.2778],\n",
       "                        [-0.0517, -2.1045,  0.0235, -1.0484],\n",
       "                        [-0.9004,  0.1704, -1.2218,  1.7708],\n",
       "                        [-1.6572,  0.0358,  0.0639, -0.2778],\n",
       "                        [-0.0517, -2.1045,  0.0235, -1.0484],\n",
       "                        [-0.9004,  0.1704, -1.2218,  1.7708],\n",
       "                        [-1.6572,  0.0358,  0.0639, -0.2778],\n",
       "                        [-0.0517, -2.1045,  0.0235, -1.0484]])"
      ]
     },
     "execution_count": 22,
     "metadata": {},
     "output_type": "execute_result"
    }
   ],
   "source": [
    "t_cat = FastTreeValue.func(subside=True)(torch.cat)\n",
    "\n",
    "t_cat(trees)"
   ]
  },
  {
   "cell_type": "code",
   "execution_count": 23,
   "id": "5e9c06a6",
   "metadata": {
    "execution": {
     "iopub.execute_input": "2023-02-23T08:50:55.089119Z",
     "iopub.status.busy": "2023-02-23T08:50:55.088762Z",
     "iopub.status.idle": "2023-02-23T08:50:57.529516Z",
     "shell.execute_reply": "2023-02-23T08:50:57.528636Z"
    }
   },
   "outputs": [
    {
     "name": "stdout",
     "output_type": "stream",
     "text": [
      "30 µs ± 92.1 ns per loop (mean ± std. dev. of 7 runs, 10,000 loops each)\n"
     ]
    }
   ],
   "source": [
    "%timeit t_cat(trees)"
   ]
  },
  {
   "cell_type": "code",
   "execution_count": 24,
   "id": "a3ab5c8f",
   "metadata": {
    "execution": {
     "iopub.execute_input": "2023-02-23T08:50:57.533083Z",
     "iopub.status.busy": "2023-02-23T08:50:57.532461Z",
     "iopub.status.idle": "2023-02-23T08:51:01.972156Z",
     "shell.execute_reply": "2023-02-23T08:51:01.971273Z"
    }
   },
   "outputs": [
    {
     "name": "stdout",
     "output_type": "stream",
     "text": [
      "54.6 µs ± 35.6 ns per loop (mean ± std. dev. of 7 runs, 10,000 loops each)\n"
     ]
    }
   ],
   "source": [
    "t_split = FastTreeValue.func(rise=True)(torch.split)\n",
    "tree = FastTreeValue({\n",
    "    'obs': torch.randn(8, 4, 84, 84),\n",
    "    'action': torch.randint(0, 6, size=(8, 1,)),\n",
    "    'reward': torch.rand(8, 1),\n",
    "})\n",
    "\n",
    "%timeit t_split(tree, 1)"
   ]
  },
  {
   "cell_type": "markdown",
   "id": "31c3ec0b",
   "metadata": {},
   "source": [
    "### Performance of Tianshou Batch"
   ]
  },
  {
   "cell_type": "code",
   "execution_count": 25,
   "id": "9ead828a",
   "metadata": {
    "execution": {
     "iopub.execute_input": "2023-02-23T08:51:01.975672Z",
     "iopub.status.busy": "2023-02-23T08:51:01.975067Z",
     "iopub.status.idle": "2023-02-23T08:51:01.983422Z",
     "shell.execute_reply": "2023-02-23T08:51:01.982790Z"
    }
   },
   "outputs": [
    {
     "data": {
      "text/plain": [
       "Batch(\n",
       "    x: Batch(\n",
       "           c: tensor([[[-0.9004,  0.1704, -1.2218,  1.7708],\n",
       "                       [-1.6572,  0.0358,  0.0639, -0.2778],\n",
       "                       [-0.0517, -2.1045,  0.0235, -1.0484]],\n",
       "              \n",
       "                      [[-0.9004,  0.1704, -1.2218,  1.7708],\n",
       "                       [-1.6572,  0.0358,  0.0639, -0.2778],\n",
       "                       [-0.0517, -2.1045,  0.0235, -1.0484]],\n",
       "              \n",
       "                      [[-0.9004,  0.1704, -1.2218,  1.7708],\n",
       "                       [-1.6572,  0.0358,  0.0639, -0.2778],\n",
       "                       [-0.0517, -2.1045,  0.0235, -1.0484]],\n",
       "              \n",
       "                      [[-0.9004,  0.1704, -1.2218,  1.7708],\n",
       "                       [-1.6572,  0.0358,  0.0639, -0.2778],\n",
       "                       [-0.0517, -2.1045,  0.0235, -1.0484]],\n",
       "              \n",
       "                      [[-0.9004,  0.1704, -1.2218,  1.7708],\n",
       "                       [-1.6572,  0.0358,  0.0639, -0.2778],\n",
       "                       [-0.0517, -2.1045,  0.0235, -1.0484]],\n",
       "              \n",
       "                      [[-0.9004,  0.1704, -1.2218,  1.7708],\n",
       "                       [-1.6572,  0.0358,  0.0639, -0.2778],\n",
       "                       [-0.0517, -2.1045,  0.0235, -1.0484]],\n",
       "              \n",
       "                      [[-0.9004,  0.1704, -1.2218,  1.7708],\n",
       "                       [-1.6572,  0.0358,  0.0639, -0.2778],\n",
       "                       [-0.0517, -2.1045,  0.0235, -1.0484]],\n",
       "              \n",
       "                      [[-0.9004,  0.1704, -1.2218,  1.7708],\n",
       "                       [-1.6572,  0.0358,  0.0639, -0.2778],\n",
       "                       [-0.0517, -2.1045,  0.0235, -1.0484]]]),\n",
       "       ),\n",
       "    a: tensor([[[-0.5207, -0.7976, -0.4328],\n",
       "                [ 0.3064, -1.6373, -1.5495]],\n",
       "       \n",
       "               [[-0.5207, -0.7976, -0.4328],\n",
       "                [ 0.3064, -1.6373, -1.5495]],\n",
       "       \n",
       "               [[-0.5207, -0.7976, -0.4328],\n",
       "                [ 0.3064, -1.6373, -1.5495]],\n",
       "       \n",
       "               [[-0.5207, -0.7976, -0.4328],\n",
       "                [ 0.3064, -1.6373, -1.5495]],\n",
       "       \n",
       "               [[-0.5207, -0.7976, -0.4328],\n",
       "                [ 0.3064, -1.6373, -1.5495]],\n",
       "       \n",
       "               [[-0.5207, -0.7976, -0.4328],\n",
       "                [ 0.3064, -1.6373, -1.5495]],\n",
       "       \n",
       "               [[-0.5207, -0.7976, -0.4328],\n",
       "                [ 0.3064, -1.6373, -1.5495]],\n",
       "       \n",
       "               [[-0.5207, -0.7976, -0.4328],\n",
       "                [ 0.3064, -1.6373, -1.5495]]]),\n",
       ")"
      ]
     },
     "execution_count": 25,
     "metadata": {},
     "output_type": "execute_result"
    }
   ],
   "source": [
    "batches = [Batch(**_TREE_DATA_2) for _ in range(8)]\n",
    "\n",
    "Batch.stack(batches)"
   ]
  },
  {
   "cell_type": "code",
   "execution_count": 26,
   "id": "ec9037a3",
   "metadata": {
    "execution": {
     "iopub.execute_input": "2023-02-23T08:51:01.986181Z",
     "iopub.status.busy": "2023-02-23T08:51:01.985831Z",
     "iopub.status.idle": "2023-02-23T08:51:08.285202Z",
     "shell.execute_reply": "2023-02-23T08:51:08.284412Z"
    }
   },
   "outputs": [
    {
     "name": "stdout",
     "output_type": "stream",
     "text": [
      "77.6 µs ± 207 ns per loop (mean ± std. dev. of 7 runs, 10,000 loops each)\n"
     ]
    }
   ],
   "source": [
    "%timeit Batch.stack(batches)"
   ]
  },
  {
   "cell_type": "code",
   "execution_count": 27,
   "id": "cb8ab77e",
   "metadata": {
    "execution": {
     "iopub.execute_input": "2023-02-23T08:51:08.288502Z",
     "iopub.status.busy": "2023-02-23T08:51:08.287983Z",
     "iopub.status.idle": "2023-02-23T08:51:08.296653Z",
     "shell.execute_reply": "2023-02-23T08:51:08.295983Z"
    }
   },
   "outputs": [
    {
     "data": {
      "text/plain": [
       "Batch(\n",
       "    x: Batch(\n",
       "           c: tensor([[-0.9004,  0.1704, -1.2218,  1.7708],\n",
       "                      [-1.6572,  0.0358,  0.0639, -0.2778],\n",
       "                      [-0.0517, -2.1045,  0.0235, -1.0484],\n",
       "                      [-0.9004,  0.1704, -1.2218,  1.7708],\n",
       "                      [-1.6572,  0.0358,  0.0639, -0.2778],\n",
       "                      [-0.0517, -2.1045,  0.0235, -1.0484],\n",
       "                      [-0.9004,  0.1704, -1.2218,  1.7708],\n",
       "                      [-1.6572,  0.0358,  0.0639, -0.2778],\n",
       "                      [-0.0517, -2.1045,  0.0235, -1.0484],\n",
       "                      [-0.9004,  0.1704, -1.2218,  1.7708],\n",
       "                      [-1.6572,  0.0358,  0.0639, -0.2778],\n",
       "                      [-0.0517, -2.1045,  0.0235, -1.0484],\n",
       "                      [-0.9004,  0.1704, -1.2218,  1.7708],\n",
       "                      [-1.6572,  0.0358,  0.0639, -0.2778],\n",
       "                      [-0.0517, -2.1045,  0.0235, -1.0484],\n",
       "                      [-0.9004,  0.1704, -1.2218,  1.7708],\n",
       "                      [-1.6572,  0.0358,  0.0639, -0.2778],\n",
       "                      [-0.0517, -2.1045,  0.0235, -1.0484],\n",
       "                      [-0.9004,  0.1704, -1.2218,  1.7708],\n",
       "                      [-1.6572,  0.0358,  0.0639, -0.2778],\n",
       "                      [-0.0517, -2.1045,  0.0235, -1.0484],\n",
       "                      [-0.9004,  0.1704, -1.2218,  1.7708],\n",
       "                      [-1.6572,  0.0358,  0.0639, -0.2778],\n",
       "                      [-0.0517, -2.1045,  0.0235, -1.0484]]),\n",
       "       ),\n",
       "    a: tensor([[-0.5207, -0.7976, -0.4328],\n",
       "               [ 0.3064, -1.6373, -1.5495],\n",
       "               [-0.5207, -0.7976, -0.4328],\n",
       "               [ 0.3064, -1.6373, -1.5495],\n",
       "               [-0.5207, -0.7976, -0.4328],\n",
       "               [ 0.3064, -1.6373, -1.5495],\n",
       "               [-0.5207, -0.7976, -0.4328],\n",
       "               [ 0.3064, -1.6373, -1.5495],\n",
       "               [-0.5207, -0.7976, -0.4328],\n",
       "               [ 0.3064, -1.6373, -1.5495],\n",
       "               [-0.5207, -0.7976, -0.4328],\n",
       "               [ 0.3064, -1.6373, -1.5495],\n",
       "               [-0.5207, -0.7976, -0.4328],\n",
       "               [ 0.3064, -1.6373, -1.5495],\n",
       "               [-0.5207, -0.7976, -0.4328],\n",
       "               [ 0.3064, -1.6373, -1.5495]]),\n",
       ")"
      ]
     },
     "execution_count": 27,
     "metadata": {},
     "output_type": "execute_result"
    }
   ],
   "source": [
    "Batch.cat(batches)"
   ]
  },
  {
   "cell_type": "code",
   "execution_count": 28,
   "id": "18dfb045",
   "metadata": {
    "execution": {
     "iopub.execute_input": "2023-02-23T08:51:08.299265Z",
     "iopub.status.busy": "2023-02-23T08:51:08.299029Z",
     "iopub.status.idle": "2023-02-23T08:51:20.005510Z",
     "shell.execute_reply": "2023-02-23T08:51:20.004586Z"
    }
   },
   "outputs": [
    {
     "name": "stdout",
     "output_type": "stream",
     "text": [
      "144 µs ± 981 ns per loop (mean ± std. dev. of 7 runs, 10,000 loops each)\n"
     ]
    }
   ],
   "source": [
    "%timeit Batch.cat(batches)"
   ]
  },
  {
   "cell_type": "code",
   "execution_count": 29,
   "id": "c6688e51",
   "metadata": {
    "execution": {
     "iopub.execute_input": "2023-02-23T08:51:20.008720Z",
     "iopub.status.busy": "2023-02-23T08:51:20.008221Z",
     "iopub.status.idle": "2023-02-23T08:51:22.660420Z",
     "shell.execute_reply": "2023-02-23T08:51:22.659620Z"
    }
   },
   "outputs": [
    {
     "name": "stdout",
     "output_type": "stream",
     "text": [
      "326 µs ± 4.61 µs per loop (mean ± std. dev. of 7 runs, 1,000 loops each)\n"
     ]
    }
   ],
   "source": [
    "batch = Batch({\n",
    "    'obs': torch.randn(8, 4, 84, 84),\n",
    "    'action': torch.randint(0, 6, size=(8, 1,)),\n",
    "    'reward': torch.rand(8, 1)}\n",
    ")\n",
    "\n",
    "%timeit list(Batch.split(batch, 1, shuffle=False, merge_last=True))"
   ]
  },
  {
   "cell_type": "code",
   "execution_count": null,
   "id": "2539fbd9",
   "metadata": {},
   "outputs": [],
   "source": []
  }
 ],
 "metadata": {
  "kernelspec": {
   "display_name": "Python 3 (ipykernel)",
   "language": "python",
   "name": "python3"
  },
  "language_info": {
   "codemirror_mode": {
    "name": "ipython",
    "version": 3
   },
   "file_extension": ".py",
   "mimetype": "text/x-python",
   "name": "python",
   "nbconvert_exporter": "python",
   "pygments_lexer": "ipython3",
   "version": "3.8.16"
  }
 },
 "nbformat": 4,
 "nbformat_minor": 5
}
