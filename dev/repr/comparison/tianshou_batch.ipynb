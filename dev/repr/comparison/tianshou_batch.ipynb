{
 "cells": [
  {
   "cell_type": "markdown",
   "id": "9d39d946",
   "metadata": {},
   "source": [
    "# Comparison Between TreeValue and Tianshou Batch"
   ]
  },
  {
   "cell_type": "markdown",
   "id": "3c6db2d4",
   "metadata": {},
   "source": [
    "In this section, we will take a look at the feature and performance of the [Tianshou Batch](https://github.com/thu-ml/tianshou) library, which is developed by Tsinghua Machine Learning Group."
   ]
  },
  {
   "cell_type": "markdown",
   "id": "069361b0",
   "metadata": {},
   "source": [
    "Before starting the comparison, let us define some thing."
   ]
  },
  {
   "cell_type": "code",
   "execution_count": 1,
   "id": "06fc8d26",
   "metadata": {
    "execution": {
     "iopub.execute_input": "2023-02-28T05:49:10.914960Z",
     "iopub.status.busy": "2023-02-28T05:49:10.914740Z",
     "iopub.status.idle": "2023-02-28T05:49:11.858196Z",
     "shell.execute_reply": "2023-02-28T05:49:11.857439Z"
    }
   },
   "outputs": [
    {
     "name": "stderr",
     "output_type": "stream",
     "text": [
      "/opt/hostedtoolcache/Python/3.8.16/x64/lib/python3.8/site-packages/tqdm/auto.py:22: TqdmWarning: IProgress not found. Please update jupyter and ipywidgets. See https://ipywidgets.readthedocs.io/en/stable/user_install.html\n",
      "  from .autonotebook import tqdm as notebook_tqdm\n"
     ]
    }
   ],
   "source": [
    "import torch \n",
    "\n",
    "_TREE_DATA_1 = {'a': 1, 'b': 2, 'x': {'c': 3, 'd': 4}}\n",
    "_TREE_DATA_2 = {\n",
    "    'a': torch.randn(2, 3), \n",
    "    'x': {\n",
    "        'c': torch.randn(3, 4)\n",
    "    },\n",
    "}\n",
    "_TREE_DATA_3 = {\n",
    "    'obs': torch.randn(4, 84, 84),\n",
    "    'action': torch.randint(0, 6, size=(1,)),\n",
    "    'reward': torch.rand(1),\n",
    "}"
   ]
  },
  {
   "cell_type": "markdown",
   "id": "83461b25",
   "metadata": {},
   "source": [
    "## Read and Write Operation"
   ]
  },
  {
   "cell_type": "markdown",
   "id": "067b3f73",
   "metadata": {},
   "source": [
    "Reading and writing are the two most common operations in the tree data structure based on the data model (TreeValue and Tianshou Batch both belong to this type), so this section will compare the reading and writing performance of these two libraries."
   ]
  },
  {
   "cell_type": "markdown",
   "id": "5d09a5b7",
   "metadata": {},
   "source": [
    "### TreeValue's Get and Set"
   ]
  },
  {
   "cell_type": "code",
   "execution_count": 2,
   "id": "9519c4bb",
   "metadata": {
    "execution": {
     "iopub.execute_input": "2023-02-28T05:49:11.862116Z",
     "iopub.status.busy": "2023-02-28T05:49:11.861550Z",
     "iopub.status.idle": "2023-02-28T05:49:12.150876Z",
     "shell.execute_reply": "2023-02-28T05:49:12.149382Z"
    }
   },
   "outputs": [],
   "source": [
    "from treevalue import FastTreeValue\n",
    "\n",
    "t = FastTreeValue(_TREE_DATA_2)"
   ]
  },
  {
   "cell_type": "code",
   "execution_count": 3,
   "id": "11c37677",
   "metadata": {
    "execution": {
     "iopub.execute_input": "2023-02-28T05:49:12.154902Z",
     "iopub.status.busy": "2023-02-28T05:49:12.154125Z",
     "iopub.status.idle": "2023-02-28T05:49:12.164042Z",
     "shell.execute_reply": "2023-02-28T05:49:12.163361Z"
    }
   },
   "outputs": [
    {
     "data": {
      "text/plain": [
       "<FastTreeValue 0x7f5fb4de0d90>\n",
       "├── 'a' --> tensor([[ 0.5475, -0.0708,  0.0126],\n",
       "│                   [-0.9566,  2.0148,  0.2394]])\n",
       "└── 'x' --> <FastTreeValue 0x7f5fb4de0d60>\n",
       "    └── 'c' --> tensor([[ 0.7988, -1.0082, -1.7218, -0.3509],\n",
       "                        [-1.3154, -0.4027, -2.8071,  0.8890],\n",
       "                        [ 1.2666, -0.2290,  1.1835,  2.4907]])"
      ]
     },
     "execution_count": 3,
     "metadata": {},
     "output_type": "execute_result"
    }
   ],
   "source": [
    "t"
   ]
  },
  {
   "cell_type": "code",
   "execution_count": 4,
   "id": "fd70b0b9",
   "metadata": {
    "execution": {
     "iopub.execute_input": "2023-02-28T05:49:12.166996Z",
     "iopub.status.busy": "2023-02-28T05:49:12.166644Z",
     "iopub.status.idle": "2023-02-28T05:49:12.171498Z",
     "shell.execute_reply": "2023-02-28T05:49:12.170856Z"
    }
   },
   "outputs": [
    {
     "data": {
      "text/plain": [
       "tensor([[ 0.5475, -0.0708,  0.0126],\n",
       "        [-0.9566,  2.0148,  0.2394]])"
      ]
     },
     "execution_count": 4,
     "metadata": {},
     "output_type": "execute_result"
    }
   ],
   "source": [
    "t.a"
   ]
  },
  {
   "cell_type": "code",
   "execution_count": 5,
   "id": "c18197bd",
   "metadata": {
    "execution": {
     "iopub.execute_input": "2023-02-28T05:49:12.174164Z",
     "iopub.status.busy": "2023-02-28T05:49:12.173837Z",
     "iopub.status.idle": "2023-02-28T05:49:17.446591Z",
     "shell.execute_reply": "2023-02-28T05:49:17.445712Z"
    }
   },
   "outputs": [
    {
     "name": "stdout",
     "output_type": "stream",
     "text": [
      "65 ns ± 0.042 ns per loop (mean ± std. dev. of 7 runs, 10,000,000 loops each)\n"
     ]
    }
   ],
   "source": [
    "%timeit t.a"
   ]
  },
  {
   "cell_type": "code",
   "execution_count": 6,
   "id": "bd52f867",
   "metadata": {
    "execution": {
     "iopub.execute_input": "2023-02-28T05:49:17.450335Z",
     "iopub.status.busy": "2023-02-28T05:49:17.449704Z",
     "iopub.status.idle": "2023-02-28T05:49:17.456943Z",
     "shell.execute_reply": "2023-02-28T05:49:17.456336Z"
    }
   },
   "outputs": [
    {
     "data": {
      "text/plain": [
       "<FastTreeValue 0x7f5fb4de0d90>\n",
       "├── 'a' --> tensor([[-0.9177,  0.3324, -0.2741],\n",
       "│                   [-0.5876,  0.7655, -0.8117]])\n",
       "└── 'x' --> <FastTreeValue 0x7f5fb4de0d60>\n",
       "    └── 'c' --> tensor([[ 0.7988, -1.0082, -1.7218, -0.3509],\n",
       "                        [-1.3154, -0.4027, -2.8071,  0.8890],\n",
       "                        [ 1.2666, -0.2290,  1.1835,  2.4907]])"
      ]
     },
     "execution_count": 6,
     "metadata": {},
     "output_type": "execute_result"
    }
   ],
   "source": [
    "new_value = torch.randn(2, 3)\n",
    "t.a = new_value\n",
    "\n",
    "t"
   ]
  },
  {
   "cell_type": "code",
   "execution_count": 7,
   "id": "bbe04d1c",
   "metadata": {
    "execution": {
     "iopub.execute_input": "2023-02-28T05:49:17.459624Z",
     "iopub.status.busy": "2023-02-28T05:49:17.459092Z",
     "iopub.status.idle": "2023-02-28T05:49:23.004544Z",
     "shell.execute_reply": "2023-02-28T05:49:23.003652Z"
    }
   },
   "outputs": [
    {
     "name": "stdout",
     "output_type": "stream",
     "text": [
      "68.3 ns ± 0.0684 ns per loop (mean ± std. dev. of 7 runs, 10,000,000 loops each)\n"
     ]
    }
   ],
   "source": [
    "%timeit t.a = new_value"
   ]
  },
  {
   "cell_type": "markdown",
   "id": "48c49731",
   "metadata": {},
   "source": [
    "### Tianshou Batch's Get and Set"
   ]
  },
  {
   "cell_type": "code",
   "execution_count": 8,
   "id": "f1bb14c1",
   "metadata": {
    "execution": {
     "iopub.execute_input": "2023-02-28T05:49:23.007704Z",
     "iopub.status.busy": "2023-02-28T05:49:23.007312Z",
     "iopub.status.idle": "2023-02-28T05:49:23.355904Z",
     "shell.execute_reply": "2023-02-28T05:49:23.355057Z"
    }
   },
   "outputs": [],
   "source": [
    "from tianshou.data import Batch\n",
    "\n",
    "b = Batch(**_TREE_DATA_2)"
   ]
  },
  {
   "cell_type": "code",
   "execution_count": 9,
   "id": "cb0777c3",
   "metadata": {
    "execution": {
     "iopub.execute_input": "2023-02-28T05:49:23.359302Z",
     "iopub.status.busy": "2023-02-28T05:49:23.358850Z",
     "iopub.status.idle": "2023-02-28T05:49:23.364814Z",
     "shell.execute_reply": "2023-02-28T05:49:23.364161Z"
    }
   },
   "outputs": [
    {
     "data": {
      "text/plain": [
       "Batch(\n",
       "    a: tensor([[ 0.5475, -0.0708,  0.0126],\n",
       "               [-0.9566,  2.0148,  0.2394]]),\n",
       "    x: Batch(\n",
       "           c: tensor([[ 0.7988, -1.0082, -1.7218, -0.3509],\n",
       "                      [-1.3154, -0.4027, -2.8071,  0.8890],\n",
       "                      [ 1.2666, -0.2290,  1.1835,  2.4907]]),\n",
       "       ),\n",
       ")"
      ]
     },
     "execution_count": 9,
     "metadata": {},
     "output_type": "execute_result"
    }
   ],
   "source": [
    "b"
   ]
  },
  {
   "cell_type": "code",
   "execution_count": 10,
   "id": "43ef8ea3",
   "metadata": {
    "execution": {
     "iopub.execute_input": "2023-02-28T05:49:23.367713Z",
     "iopub.status.busy": "2023-02-28T05:49:23.367323Z",
     "iopub.status.idle": "2023-02-28T05:49:23.372355Z",
     "shell.execute_reply": "2023-02-28T05:49:23.371701Z"
    }
   },
   "outputs": [
    {
     "data": {
      "text/plain": [
       "tensor([[ 0.5475, -0.0708,  0.0126],\n",
       "        [-0.9566,  2.0148,  0.2394]])"
      ]
     },
     "execution_count": 10,
     "metadata": {},
     "output_type": "execute_result"
    }
   ],
   "source": [
    "b.a"
   ]
  },
  {
   "cell_type": "code",
   "execution_count": 11,
   "id": "b785ab72",
   "metadata": {
    "execution": {
     "iopub.execute_input": "2023-02-28T05:49:23.375026Z",
     "iopub.status.busy": "2023-02-28T05:49:23.374692Z",
     "iopub.status.idle": "2023-02-28T05:49:28.113963Z",
     "shell.execute_reply": "2023-02-28T05:49:28.113096Z"
    }
   },
   "outputs": [
    {
     "name": "stdout",
     "output_type": "stream",
     "text": [
      "58.3 ns ± 0.152 ns per loop (mean ± std. dev. of 7 runs, 10,000,000 loops each)\n"
     ]
    }
   ],
   "source": [
    "%timeit b.a"
   ]
  },
  {
   "cell_type": "code",
   "execution_count": 12,
   "id": "ad54dc69",
   "metadata": {
    "execution": {
     "iopub.execute_input": "2023-02-28T05:49:28.117123Z",
     "iopub.status.busy": "2023-02-28T05:49:28.116660Z",
     "iopub.status.idle": "2023-02-28T05:49:28.123528Z",
     "shell.execute_reply": "2023-02-28T05:49:28.122788Z"
    }
   },
   "outputs": [
    {
     "data": {
      "text/plain": [
       "Batch(\n",
       "    a: tensor([[ 0.1178, -0.5004, -2.1553],\n",
       "               [-1.5320,  0.7189, -0.6567]]),\n",
       "    x: Batch(\n",
       "           c: tensor([[ 0.7988, -1.0082, -1.7218, -0.3509],\n",
       "                      [-1.3154, -0.4027, -2.8071,  0.8890],\n",
       "                      [ 1.2666, -0.2290,  1.1835,  2.4907]]),\n",
       "       ),\n",
       ")"
      ]
     },
     "execution_count": 12,
     "metadata": {},
     "output_type": "execute_result"
    }
   ],
   "source": [
    "new_value = torch.randn(2, 3)\n",
    "b.a = new_value\n",
    "\n",
    "b"
   ]
  },
  {
   "cell_type": "code",
   "execution_count": 13,
   "id": "29b1d0bf",
   "metadata": {
    "execution": {
     "iopub.execute_input": "2023-02-28T05:49:28.126134Z",
     "iopub.status.busy": "2023-02-28T05:49:28.125804Z",
     "iopub.status.idle": "2023-02-28T05:49:32.115387Z",
     "shell.execute_reply": "2023-02-28T05:49:32.114500Z"
    }
   },
   "outputs": [
    {
     "name": "stdout",
     "output_type": "stream",
     "text": [
      "491 ns ± 0.327 ns per loop (mean ± std. dev. of 7 runs, 1,000,000 loops each)\n"
     ]
    }
   ],
   "source": [
    "%timeit b.a = new_value"
   ]
  },
  {
   "cell_type": "markdown",
   "id": "b61ad1d0",
   "metadata": {},
   "source": [
    "## Initialization"
   ]
  },
  {
   "cell_type": "markdown",
   "id": "d70f0d54",
   "metadata": {},
   "source": [
    "### TreeValue's Initialization"
   ]
  },
  {
   "cell_type": "code",
   "execution_count": 14,
   "id": "d32a679b",
   "metadata": {
    "execution": {
     "iopub.execute_input": "2023-02-28T05:49:32.118714Z",
     "iopub.status.busy": "2023-02-28T05:49:32.118282Z",
     "iopub.status.idle": "2023-02-28T05:49:38.877045Z",
     "shell.execute_reply": "2023-02-28T05:49:38.876178Z"
    }
   },
   "outputs": [
    {
     "name": "stdout",
     "output_type": "stream",
     "text": [
      "832 ns ± 0.609 ns per loop (mean ± std. dev. of 7 runs, 1,000,000 loops each)\n"
     ]
    }
   ],
   "source": [
    "%timeit FastTreeValue(_TREE_DATA_1)"
   ]
  },
  {
   "cell_type": "markdown",
   "id": "24f3707b",
   "metadata": {},
   "source": [
    "### Tianshou Batch's Initialization"
   ]
  },
  {
   "cell_type": "code",
   "execution_count": 15,
   "id": "ac3958df",
   "metadata": {
    "execution": {
     "iopub.execute_input": "2023-02-28T05:49:38.880162Z",
     "iopub.status.busy": "2023-02-28T05:49:38.879771Z",
     "iopub.status.idle": "2023-02-28T05:49:47.760387Z",
     "shell.execute_reply": "2023-02-28T05:49:47.759543Z"
    }
   },
   "outputs": [
    {
     "name": "stdout",
     "output_type": "stream",
     "text": [
      "10.9 µs ± 22.3 ns per loop (mean ± std. dev. of 7 runs, 100,000 loops each)\n"
     ]
    }
   ],
   "source": [
    "%timeit Batch(**_TREE_DATA_1)"
   ]
  },
  {
   "cell_type": "markdown",
   "id": "1ab82e2d",
   "metadata": {},
   "source": [
    "## Deep Copy Operation"
   ]
  },
  {
   "cell_type": "code",
   "execution_count": 16,
   "id": "210a9442",
   "metadata": {
    "execution": {
     "iopub.execute_input": "2023-02-28T05:49:47.763803Z",
     "iopub.status.busy": "2023-02-28T05:49:47.763238Z",
     "iopub.status.idle": "2023-02-28T05:49:47.767410Z",
     "shell.execute_reply": "2023-02-28T05:49:47.766794Z"
    }
   },
   "outputs": [],
   "source": [
    "import copy"
   ]
  },
  {
   "cell_type": "markdown",
   "id": "5a736274",
   "metadata": {},
   "source": [
    "### Deep Copy of TreeValue"
   ]
  },
  {
   "cell_type": "code",
   "execution_count": 17,
   "id": "f9bcadd6",
   "metadata": {
    "execution": {
     "iopub.execute_input": "2023-02-28T05:49:47.770339Z",
     "iopub.status.busy": "2023-02-28T05:49:47.769984Z",
     "iopub.status.idle": "2023-02-28T05:49:59.265170Z",
     "shell.execute_reply": "2023-02-28T05:49:59.264545Z"
    }
   },
   "outputs": [
    {
     "name": "stdout",
     "output_type": "stream",
     "text": [
      "142 µs ± 259 ns per loop (mean ± std. dev. of 7 runs, 10,000 loops each)\n"
     ]
    }
   ],
   "source": [
    "t3 = FastTreeValue(_TREE_DATA_3)\n",
    "%timeit copy.deepcopy(t3)"
   ]
  },
  {
   "cell_type": "markdown",
   "id": "bf8be7ea",
   "metadata": {},
   "source": [
    "### Deep Copy of Tianshou Batch"
   ]
  },
  {
   "cell_type": "code",
   "execution_count": 18,
   "id": "91998e6f",
   "metadata": {
    "execution": {
     "iopub.execute_input": "2023-02-28T05:49:59.268307Z",
     "iopub.status.busy": "2023-02-28T05:49:59.267870Z",
     "iopub.status.idle": "2023-02-28T05:50:10.774635Z",
     "shell.execute_reply": "2023-02-28T05:50:10.774014Z"
    }
   },
   "outputs": [
    {
     "name": "stdout",
     "output_type": "stream",
     "text": [
      "142 µs ± 560 ns per loop (mean ± std. dev. of 7 runs, 10,000 loops each)\n"
     ]
    }
   ],
   "source": [
    "b3 = Batch(**_TREE_DATA_3)\n",
    "%timeit copy.deepcopy(b3)"
   ]
  },
  {
   "cell_type": "markdown",
   "id": "223162fb",
   "metadata": {},
   "source": [
    "## Stack, Concat and Split Operation"
   ]
  },
  {
   "cell_type": "markdown",
   "id": "85fa4a73",
   "metadata": {},
   "source": [
    "### Performance of TreeValue"
   ]
  },
  {
   "cell_type": "code",
   "execution_count": 19,
   "id": "a0c2b697",
   "metadata": {
    "execution": {
     "iopub.execute_input": "2023-02-28T05:50:10.777739Z",
     "iopub.status.busy": "2023-02-28T05:50:10.777342Z",
     "iopub.status.idle": "2023-02-28T05:50:10.781006Z",
     "shell.execute_reply": "2023-02-28T05:50:10.780054Z"
    }
   },
   "outputs": [],
   "source": [
    "trees = [FastTreeValue(_TREE_DATA_2) for _ in range(8)]"
   ]
  },
  {
   "cell_type": "code",
   "execution_count": 20,
   "id": "017ea5a5",
   "metadata": {
    "execution": {
     "iopub.execute_input": "2023-02-28T05:50:10.783430Z",
     "iopub.status.busy": "2023-02-28T05:50:10.783067Z",
     "iopub.status.idle": "2023-02-28T05:50:10.789755Z",
     "shell.execute_reply": "2023-02-28T05:50:10.789226Z"
    }
   },
   "outputs": [
    {
     "data": {
      "text/plain": [
       "<FastTreeValue 0x7f5f05cd9700>\n",
       "├── 'a' --> tensor([[[ 0.5475, -0.0708,  0.0126],\n",
       "│                    [-0.9566,  2.0148,  0.2394]],\n",
       "│           \n",
       "│                   [[ 0.5475, -0.0708,  0.0126],\n",
       "│                    [-0.9566,  2.0148,  0.2394]],\n",
       "│           \n",
       "│                   [[ 0.5475, -0.0708,  0.0126],\n",
       "│                    [-0.9566,  2.0148,  0.2394]],\n",
       "│           \n",
       "│                   [[ 0.5475, -0.0708,  0.0126],\n",
       "│                    [-0.9566,  2.0148,  0.2394]],\n",
       "│           \n",
       "│                   [[ 0.5475, -0.0708,  0.0126],\n",
       "│                    [-0.9566,  2.0148,  0.2394]],\n",
       "│           \n",
       "│                   [[ 0.5475, -0.0708,  0.0126],\n",
       "│                    [-0.9566,  2.0148,  0.2394]],\n",
       "│           \n",
       "│                   [[ 0.5475, -0.0708,  0.0126],\n",
       "│                    [-0.9566,  2.0148,  0.2394]],\n",
       "│           \n",
       "│                   [[ 0.5475, -0.0708,  0.0126],\n",
       "│                    [-0.9566,  2.0148,  0.2394]]])\n",
       "└── 'x' --> <FastTreeValue 0x7f5f05cd9610>\n",
       "    └── 'c' --> tensor([[[ 0.7988, -1.0082, -1.7218, -0.3509],\n",
       "                         [-1.3154, -0.4027, -2.8071,  0.8890],\n",
       "                         [ 1.2666, -0.2290,  1.1835,  2.4907]],\n",
       "                \n",
       "                        [[ 0.7988, -1.0082, -1.7218, -0.3509],\n",
       "                         [-1.3154, -0.4027, -2.8071,  0.8890],\n",
       "                         [ 1.2666, -0.2290,  1.1835,  2.4907]],\n",
       "                \n",
       "                        [[ 0.7988, -1.0082, -1.7218, -0.3509],\n",
       "                         [-1.3154, -0.4027, -2.8071,  0.8890],\n",
       "                         [ 1.2666, -0.2290,  1.1835,  2.4907]],\n",
       "                \n",
       "                        [[ 0.7988, -1.0082, -1.7218, -0.3509],\n",
       "                         [-1.3154, -0.4027, -2.8071,  0.8890],\n",
       "                         [ 1.2666, -0.2290,  1.1835,  2.4907]],\n",
       "                \n",
       "                        [[ 0.7988, -1.0082, -1.7218, -0.3509],\n",
       "                         [-1.3154, -0.4027, -2.8071,  0.8890],\n",
       "                         [ 1.2666, -0.2290,  1.1835,  2.4907]],\n",
       "                \n",
       "                        [[ 0.7988, -1.0082, -1.7218, -0.3509],\n",
       "                         [-1.3154, -0.4027, -2.8071,  0.8890],\n",
       "                         [ 1.2666, -0.2290,  1.1835,  2.4907]],\n",
       "                \n",
       "                        [[ 0.7988, -1.0082, -1.7218, -0.3509],\n",
       "                         [-1.3154, -0.4027, -2.8071,  0.8890],\n",
       "                         [ 1.2666, -0.2290,  1.1835,  2.4907]],\n",
       "                \n",
       "                        [[ 0.7988, -1.0082, -1.7218, -0.3509],\n",
       "                         [-1.3154, -0.4027, -2.8071,  0.8890],\n",
       "                         [ 1.2666, -0.2290,  1.1835,  2.4907]]])"
      ]
     },
     "execution_count": 20,
     "metadata": {},
     "output_type": "execute_result"
    }
   ],
   "source": [
    "t_stack = FastTreeValue.func(subside=True)(torch.stack)\n",
    "\n",
    "t_stack(trees)"
   ]
  },
  {
   "cell_type": "code",
   "execution_count": 21,
   "id": "f8b3f415",
   "metadata": {
    "execution": {
     "iopub.execute_input": "2023-02-28T05:50:10.792144Z",
     "iopub.status.busy": "2023-02-28T05:50:10.791768Z",
     "iopub.status.idle": "2023-02-28T05:50:13.413063Z",
     "shell.execute_reply": "2023-02-28T05:50:13.412191Z"
    }
   },
   "outputs": [
    {
     "name": "stdout",
     "output_type": "stream",
     "text": [
      "32.2 µs ± 45.4 ns per loop (mean ± std. dev. of 7 runs, 10,000 loops each)\n"
     ]
    }
   ],
   "source": [
    "%timeit t_stack(trees)"
   ]
  },
  {
   "cell_type": "code",
   "execution_count": 22,
   "id": "94b56771",
   "metadata": {
    "execution": {
     "iopub.execute_input": "2023-02-28T05:50:13.416186Z",
     "iopub.status.busy": "2023-02-28T05:50:13.415774Z",
     "iopub.status.idle": "2023-02-28T05:50:13.424362Z",
     "shell.execute_reply": "2023-02-28T05:50:13.423422Z"
    }
   },
   "outputs": [
    {
     "data": {
      "text/plain": [
       "<FastTreeValue 0x7f5fb4e39e50>\n",
       "├── 'a' --> tensor([[ 0.5475, -0.0708,  0.0126],\n",
       "│                   [-0.9566,  2.0148,  0.2394],\n",
       "│                   [ 0.5475, -0.0708,  0.0126],\n",
       "│                   [-0.9566,  2.0148,  0.2394],\n",
       "│                   [ 0.5475, -0.0708,  0.0126],\n",
       "│                   [-0.9566,  2.0148,  0.2394],\n",
       "│                   [ 0.5475, -0.0708,  0.0126],\n",
       "│                   [-0.9566,  2.0148,  0.2394],\n",
       "│                   [ 0.5475, -0.0708,  0.0126],\n",
       "│                   [-0.9566,  2.0148,  0.2394],\n",
       "│                   [ 0.5475, -0.0708,  0.0126],\n",
       "│                   [-0.9566,  2.0148,  0.2394],\n",
       "│                   [ 0.5475, -0.0708,  0.0126],\n",
       "│                   [-0.9566,  2.0148,  0.2394],\n",
       "│                   [ 0.5475, -0.0708,  0.0126],\n",
       "│                   [-0.9566,  2.0148,  0.2394]])\n",
       "└── 'x' --> <FastTreeValue 0x7f5fb4da4670>\n",
       "    └── 'c' --> tensor([[ 0.7988, -1.0082, -1.7218, -0.3509],\n",
       "                        [-1.3154, -0.4027, -2.8071,  0.8890],\n",
       "                        [ 1.2666, -0.2290,  1.1835,  2.4907],\n",
       "                        [ 0.7988, -1.0082, -1.7218, -0.3509],\n",
       "                        [-1.3154, -0.4027, -2.8071,  0.8890],\n",
       "                        [ 1.2666, -0.2290,  1.1835,  2.4907],\n",
       "                        [ 0.7988, -1.0082, -1.7218, -0.3509],\n",
       "                        [-1.3154, -0.4027, -2.8071,  0.8890],\n",
       "                        [ 1.2666, -0.2290,  1.1835,  2.4907],\n",
       "                        [ 0.7988, -1.0082, -1.7218, -0.3509],\n",
       "                        [-1.3154, -0.4027, -2.8071,  0.8890],\n",
       "                        [ 1.2666, -0.2290,  1.1835,  2.4907],\n",
       "                        [ 0.7988, -1.0082, -1.7218, -0.3509],\n",
       "                        [-1.3154, -0.4027, -2.8071,  0.8890],\n",
       "                        [ 1.2666, -0.2290,  1.1835,  2.4907],\n",
       "                        [ 0.7988, -1.0082, -1.7218, -0.3509],\n",
       "                        [-1.3154, -0.4027, -2.8071,  0.8890],\n",
       "                        [ 1.2666, -0.2290,  1.1835,  2.4907],\n",
       "                        [ 0.7988, -1.0082, -1.7218, -0.3509],\n",
       "                        [-1.3154, -0.4027, -2.8071,  0.8890],\n",
       "                        [ 1.2666, -0.2290,  1.1835,  2.4907],\n",
       "                        [ 0.7988, -1.0082, -1.7218, -0.3509],\n",
       "                        [-1.3154, -0.4027, -2.8071,  0.8890],\n",
       "                        [ 1.2666, -0.2290,  1.1835,  2.4907]])"
      ]
     },
     "execution_count": 22,
     "metadata": {},
     "output_type": "execute_result"
    }
   ],
   "source": [
    "t_cat = FastTreeValue.func(subside=True)(torch.cat)\n",
    "\n",
    "t_cat(trees)"
   ]
  },
  {
   "cell_type": "code",
   "execution_count": 23,
   "id": "5e9c06a6",
   "metadata": {
    "execution": {
     "iopub.execute_input": "2023-02-28T05:50:13.427170Z",
     "iopub.status.busy": "2023-02-28T05:50:13.426828Z",
     "iopub.status.idle": "2023-02-28T05:50:15.908779Z",
     "shell.execute_reply": "2023-02-28T05:50:15.908140Z"
    }
   },
   "outputs": [
    {
     "name": "stdout",
     "output_type": "stream",
     "text": [
      "30.6 µs ± 396 ns per loop (mean ± std. dev. of 7 runs, 10,000 loops each)\n"
     ]
    }
   ],
   "source": [
    "%timeit t_cat(trees)"
   ]
  },
  {
   "cell_type": "code",
   "execution_count": 24,
   "id": "a3ab5c8f",
   "metadata": {
    "execution": {
     "iopub.execute_input": "2023-02-28T05:50:15.911710Z",
     "iopub.status.busy": "2023-02-28T05:50:15.911203Z",
     "iopub.status.idle": "2023-02-28T05:50:21.444295Z",
     "shell.execute_reply": "2023-02-28T05:50:21.443137Z"
    }
   },
   "outputs": [
    {
     "name": "stdout",
     "output_type": "stream",
     "text": [
      "68.4 µs ± 78.9 ns per loop (mean ± std. dev. of 7 runs, 10,000 loops each)\n"
     ]
    }
   ],
   "source": [
    "t_split = FastTreeValue.func(rise=True)(torch.split)\n",
    "tree = FastTreeValue({\n",
    "    'obs': torch.randn(8, 4, 84, 84),\n",
    "    'action': torch.randint(0, 6, size=(8, 1,)),\n",
    "    'reward': torch.rand(8, 1),\n",
    "})\n",
    "\n",
    "%timeit t_split(tree, 1)"
   ]
  },
  {
   "cell_type": "markdown",
   "id": "31c3ec0b",
   "metadata": {},
   "source": [
    "### Performance of Tianshou Batch"
   ]
  },
  {
   "cell_type": "code",
   "execution_count": 25,
   "id": "9ead828a",
   "metadata": {
    "execution": {
     "iopub.execute_input": "2023-02-28T05:50:21.447395Z",
     "iopub.status.busy": "2023-02-28T05:50:21.447026Z",
     "iopub.status.idle": "2023-02-28T05:50:21.455335Z",
     "shell.execute_reply": "2023-02-28T05:50:21.454649Z"
    }
   },
   "outputs": [
    {
     "data": {
      "text/plain": [
       "Batch(\n",
       "    a: tensor([[[ 0.5475, -0.0708,  0.0126],\n",
       "                [-0.9566,  2.0148,  0.2394]],\n",
       "       \n",
       "               [[ 0.5475, -0.0708,  0.0126],\n",
       "                [-0.9566,  2.0148,  0.2394]],\n",
       "       \n",
       "               [[ 0.5475, -0.0708,  0.0126],\n",
       "                [-0.9566,  2.0148,  0.2394]],\n",
       "       \n",
       "               [[ 0.5475, -0.0708,  0.0126],\n",
       "                [-0.9566,  2.0148,  0.2394]],\n",
       "       \n",
       "               [[ 0.5475, -0.0708,  0.0126],\n",
       "                [-0.9566,  2.0148,  0.2394]],\n",
       "       \n",
       "               [[ 0.5475, -0.0708,  0.0126],\n",
       "                [-0.9566,  2.0148,  0.2394]],\n",
       "       \n",
       "               [[ 0.5475, -0.0708,  0.0126],\n",
       "                [-0.9566,  2.0148,  0.2394]],\n",
       "       \n",
       "               [[ 0.5475, -0.0708,  0.0126],\n",
       "                [-0.9566,  2.0148,  0.2394]]]),\n",
       "    x: Batch(\n",
       "           c: tensor([[[ 0.7988, -1.0082, -1.7218, -0.3509],\n",
       "                       [-1.3154, -0.4027, -2.8071,  0.8890],\n",
       "                       [ 1.2666, -0.2290,  1.1835,  2.4907]],\n",
       "              \n",
       "                      [[ 0.7988, -1.0082, -1.7218, -0.3509],\n",
       "                       [-1.3154, -0.4027, -2.8071,  0.8890],\n",
       "                       [ 1.2666, -0.2290,  1.1835,  2.4907]],\n",
       "              \n",
       "                      [[ 0.7988, -1.0082, -1.7218, -0.3509],\n",
       "                       [-1.3154, -0.4027, -2.8071,  0.8890],\n",
       "                       [ 1.2666, -0.2290,  1.1835,  2.4907]],\n",
       "              \n",
       "                      [[ 0.7988, -1.0082, -1.7218, -0.3509],\n",
       "                       [-1.3154, -0.4027, -2.8071,  0.8890],\n",
       "                       [ 1.2666, -0.2290,  1.1835,  2.4907]],\n",
       "              \n",
       "                      [[ 0.7988, -1.0082, -1.7218, -0.3509],\n",
       "                       [-1.3154, -0.4027, -2.8071,  0.8890],\n",
       "                       [ 1.2666, -0.2290,  1.1835,  2.4907]],\n",
       "              \n",
       "                      [[ 0.7988, -1.0082, -1.7218, -0.3509],\n",
       "                       [-1.3154, -0.4027, -2.8071,  0.8890],\n",
       "                       [ 1.2666, -0.2290,  1.1835,  2.4907]],\n",
       "              \n",
       "                      [[ 0.7988, -1.0082, -1.7218, -0.3509],\n",
       "                       [-1.3154, -0.4027, -2.8071,  0.8890],\n",
       "                       [ 1.2666, -0.2290,  1.1835,  2.4907]],\n",
       "              \n",
       "                      [[ 0.7988, -1.0082, -1.7218, -0.3509],\n",
       "                       [-1.3154, -0.4027, -2.8071,  0.8890],\n",
       "                       [ 1.2666, -0.2290,  1.1835,  2.4907]]]),\n",
       "       ),\n",
       ")"
      ]
     },
     "execution_count": 25,
     "metadata": {},
     "output_type": "execute_result"
    }
   ],
   "source": [
    "batches = [Batch(**_TREE_DATA_2) for _ in range(8)]\n",
    "\n",
    "Batch.stack(batches)"
   ]
  },
  {
   "cell_type": "code",
   "execution_count": 26,
   "id": "ec9037a3",
   "metadata": {
    "execution": {
     "iopub.execute_input": "2023-02-28T05:50:21.458257Z",
     "iopub.status.busy": "2023-02-28T05:50:21.458028Z",
     "iopub.status.idle": "2023-02-28T05:50:27.815710Z",
     "shell.execute_reply": "2023-02-28T05:50:27.814850Z"
    }
   },
   "outputs": [
    {
     "name": "stdout",
     "output_type": "stream",
     "text": [
      "78.1 µs ± 113 ns per loop (mean ± std. dev. of 7 runs, 10,000 loops each)\n"
     ]
    }
   ],
   "source": [
    "%timeit Batch.stack(batches)"
   ]
  },
  {
   "cell_type": "code",
   "execution_count": 27,
   "id": "cb8ab77e",
   "metadata": {
    "execution": {
     "iopub.execute_input": "2023-02-28T05:50:27.819259Z",
     "iopub.status.busy": "2023-02-28T05:50:27.818849Z",
     "iopub.status.idle": "2023-02-28T05:50:27.827780Z",
     "shell.execute_reply": "2023-02-28T05:50:27.827191Z"
    }
   },
   "outputs": [
    {
     "data": {
      "text/plain": [
       "Batch(\n",
       "    a: tensor([[ 0.5475, -0.0708,  0.0126],\n",
       "               [-0.9566,  2.0148,  0.2394],\n",
       "               [ 0.5475, -0.0708,  0.0126],\n",
       "               [-0.9566,  2.0148,  0.2394],\n",
       "               [ 0.5475, -0.0708,  0.0126],\n",
       "               [-0.9566,  2.0148,  0.2394],\n",
       "               [ 0.5475, -0.0708,  0.0126],\n",
       "               [-0.9566,  2.0148,  0.2394],\n",
       "               [ 0.5475, -0.0708,  0.0126],\n",
       "               [-0.9566,  2.0148,  0.2394],\n",
       "               [ 0.5475, -0.0708,  0.0126],\n",
       "               [-0.9566,  2.0148,  0.2394],\n",
       "               [ 0.5475, -0.0708,  0.0126],\n",
       "               [-0.9566,  2.0148,  0.2394],\n",
       "               [ 0.5475, -0.0708,  0.0126],\n",
       "               [-0.9566,  2.0148,  0.2394]]),\n",
       "    x: Batch(\n",
       "           c: tensor([[ 0.7988, -1.0082, -1.7218, -0.3509],\n",
       "                      [-1.3154, -0.4027, -2.8071,  0.8890],\n",
       "                      [ 1.2666, -0.2290,  1.1835,  2.4907],\n",
       "                      [ 0.7988, -1.0082, -1.7218, -0.3509],\n",
       "                      [-1.3154, -0.4027, -2.8071,  0.8890],\n",
       "                      [ 1.2666, -0.2290,  1.1835,  2.4907],\n",
       "                      [ 0.7988, -1.0082, -1.7218, -0.3509],\n",
       "                      [-1.3154, -0.4027, -2.8071,  0.8890],\n",
       "                      [ 1.2666, -0.2290,  1.1835,  2.4907],\n",
       "                      [ 0.7988, -1.0082, -1.7218, -0.3509],\n",
       "                      [-1.3154, -0.4027, -2.8071,  0.8890],\n",
       "                      [ 1.2666, -0.2290,  1.1835,  2.4907],\n",
       "                      [ 0.7988, -1.0082, -1.7218, -0.3509],\n",
       "                      [-1.3154, -0.4027, -2.8071,  0.8890],\n",
       "                      [ 1.2666, -0.2290,  1.1835,  2.4907],\n",
       "                      [ 0.7988, -1.0082, -1.7218, -0.3509],\n",
       "                      [-1.3154, -0.4027, -2.8071,  0.8890],\n",
       "                      [ 1.2666, -0.2290,  1.1835,  2.4907],\n",
       "                      [ 0.7988, -1.0082, -1.7218, -0.3509],\n",
       "                      [-1.3154, -0.4027, -2.8071,  0.8890],\n",
       "                      [ 1.2666, -0.2290,  1.1835,  2.4907],\n",
       "                      [ 0.7988, -1.0082, -1.7218, -0.3509],\n",
       "                      [-1.3154, -0.4027, -2.8071,  0.8890],\n",
       "                      [ 1.2666, -0.2290,  1.1835,  2.4907]]),\n",
       "       ),\n",
       ")"
      ]
     },
     "execution_count": 27,
     "metadata": {},
     "output_type": "execute_result"
    }
   ],
   "source": [
    "Batch.cat(batches)"
   ]
  },
  {
   "cell_type": "code",
   "execution_count": 28,
   "id": "18dfb045",
   "metadata": {
    "execution": {
     "iopub.execute_input": "2023-02-28T05:50:27.830504Z",
     "iopub.status.busy": "2023-02-28T05:50:27.830156Z",
     "iopub.status.idle": "2023-02-28T05:50:39.506421Z",
     "shell.execute_reply": "2023-02-28T05:50:39.505537Z"
    }
   },
   "outputs": [
    {
     "name": "stdout",
     "output_type": "stream",
     "text": [
      "144 µs ± 1.37 µs per loop (mean ± std. dev. of 7 runs, 10,000 loops each)\n"
     ]
    }
   ],
   "source": [
    "%timeit Batch.cat(batches)"
   ]
  },
  {
   "cell_type": "code",
   "execution_count": 29,
   "id": "c6688e51",
   "metadata": {
    "execution": {
     "iopub.execute_input": "2023-02-28T05:50:39.509823Z",
     "iopub.status.busy": "2023-02-28T05:50:39.509289Z",
     "iopub.status.idle": "2023-02-28T05:50:42.202434Z",
     "shell.execute_reply": "2023-02-28T05:50:42.201727Z"
    }
   },
   "outputs": [
    {
     "name": "stdout",
     "output_type": "stream",
     "text": [
      "331 µs ± 1.3 µs per loop (mean ± std. dev. of 7 runs, 1,000 loops each)\n"
     ]
    }
   ],
   "source": [
    "batch = Batch({\n",
    "    'obs': torch.randn(8, 4, 84, 84),\n",
    "    'action': torch.randint(0, 6, size=(8, 1,)),\n",
    "    'reward': torch.rand(8, 1)}\n",
    ")\n",
    "\n",
    "%timeit list(Batch.split(batch, 1, shuffle=False, merge_last=True))"
   ]
  },
  {
   "cell_type": "code",
   "execution_count": null,
   "id": "2539fbd9",
   "metadata": {},
   "outputs": [],
   "source": []
  }
 ],
 "metadata": {
  "kernelspec": {
   "display_name": "Python 3 (ipykernel)",
   "language": "python",
   "name": "python3"
  },
  "language_info": {
   "codemirror_mode": {
    "name": "ipython",
    "version": 3
   },
   "file_extension": ".py",
   "mimetype": "text/x-python",
   "name": "python",
   "nbconvert_exporter": "python",
   "pygments_lexer": "ipython3",
   "version": "3.8.16"
  }
 },
 "nbformat": 4,
 "nbformat_minor": 5
}
