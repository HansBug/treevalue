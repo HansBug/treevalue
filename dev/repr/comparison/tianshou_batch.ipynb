{
 "cells": [
  {
   "cell_type": "markdown",
   "id": "9d39d946",
   "metadata": {},
   "source": [
    "# Comparison Between TreeValue and Tianshou Batch"
   ]
  },
  {
   "cell_type": "markdown",
   "id": "3c6db2d4",
   "metadata": {},
   "source": [
    "In this section, we will take a look at the feature and performance of the [Tianshou Batch](https://github.com/thu-ml/tianshou) library, which is developed by Tsinghua Machine Learning Group."
   ]
  },
  {
   "cell_type": "markdown",
   "id": "069361b0",
   "metadata": {},
   "source": [
    "Before starting the comparison, let us define some thing."
   ]
  },
  {
   "cell_type": "code",
   "execution_count": 1,
   "id": "06fc8d26",
   "metadata": {
    "execution": {
     "iopub.execute_input": "2023-02-26T06:11:13.628184Z",
     "iopub.status.busy": "2023-02-26T06:11:13.627972Z",
     "iopub.status.idle": "2023-02-26T06:11:14.561088Z",
     "shell.execute_reply": "2023-02-26T06:11:14.560386Z"
    }
   },
   "outputs": [
    {
     "name": "stderr",
     "output_type": "stream",
     "text": [
      "/opt/hostedtoolcache/Python/3.8.16/x64/lib/python3.8/site-packages/tqdm/auto.py:22: TqdmWarning: IProgress not found. Please update jupyter and ipywidgets. See https://ipywidgets.readthedocs.io/en/stable/user_install.html\n",
      "  from .autonotebook import tqdm as notebook_tqdm\n"
     ]
    }
   ],
   "source": [
    "import torch \n",
    "\n",
    "_TREE_DATA_1 = {'a': 1, 'b': 2, 'x': {'c': 3, 'd': 4}}\n",
    "_TREE_DATA_2 = {\n",
    "    'a': torch.randn(2, 3), \n",
    "    'x': {\n",
    "        'c': torch.randn(3, 4)\n",
    "    },\n",
    "}\n",
    "_TREE_DATA_3 = {\n",
    "    'obs': torch.randn(4, 84, 84),\n",
    "    'action': torch.randint(0, 6, size=(1,)),\n",
    "    'reward': torch.rand(1),\n",
    "}"
   ]
  },
  {
   "cell_type": "markdown",
   "id": "83461b25",
   "metadata": {},
   "source": [
    "## Read and Write Operation"
   ]
  },
  {
   "cell_type": "markdown",
   "id": "067b3f73",
   "metadata": {},
   "source": [
    "Reading and writing are the two most common operations in the tree data structure based on the data model (TreeValue and Tianshou Batch both belong to this type), so this section will compare the reading and writing performance of these two libraries."
   ]
  },
  {
   "cell_type": "markdown",
   "id": "5d09a5b7",
   "metadata": {},
   "source": [
    "### TreeValue's Get and Set"
   ]
  },
  {
   "cell_type": "code",
   "execution_count": 2,
   "id": "9519c4bb",
   "metadata": {
    "execution": {
     "iopub.execute_input": "2023-02-26T06:11:14.564441Z",
     "iopub.status.busy": "2023-02-26T06:11:14.563847Z",
     "iopub.status.idle": "2023-02-26T06:11:14.597598Z",
     "shell.execute_reply": "2023-02-26T06:11:14.596959Z"
    }
   },
   "outputs": [],
   "source": [
    "from treevalue import FastTreeValue\n",
    "\n",
    "t = FastTreeValue(_TREE_DATA_2)"
   ]
  },
  {
   "cell_type": "code",
   "execution_count": 3,
   "id": "11c37677",
   "metadata": {
    "execution": {
     "iopub.execute_input": "2023-02-26T06:11:14.600569Z",
     "iopub.status.busy": "2023-02-26T06:11:14.600025Z",
     "iopub.status.idle": "2023-02-26T06:11:14.609711Z",
     "shell.execute_reply": "2023-02-26T06:11:14.609103Z"
    }
   },
   "outputs": [
    {
     "data": {
      "text/plain": [
       "<FastTreeValue 0x7fb01089fe80>\n",
       "├── 'a' --> tensor([[-0.0177, -0.1893, -1.1329],\n",
       "│                   [-0.8072, -1.8167, -0.0222]])\n",
       "└── 'x' --> <FastTreeValue 0x7fb01089ffd0>\n",
       "    └── 'c' --> tensor([[ 1.0581,  1.1934,  1.3246, -1.7291],\n",
       "                        [-1.2374,  1.1112, -0.8893, -0.0939],\n",
       "                        [ 0.2648,  1.2574,  1.1731, -1.9431]])"
      ]
     },
     "execution_count": 3,
     "metadata": {},
     "output_type": "execute_result"
    }
   ],
   "source": [
    "t"
   ]
  },
  {
   "cell_type": "code",
   "execution_count": 4,
   "id": "fd70b0b9",
   "metadata": {
    "execution": {
     "iopub.execute_input": "2023-02-26T06:11:14.612243Z",
     "iopub.status.busy": "2023-02-26T06:11:14.611891Z",
     "iopub.status.idle": "2023-02-26T06:11:14.617611Z",
     "shell.execute_reply": "2023-02-26T06:11:14.616995Z"
    }
   },
   "outputs": [
    {
     "data": {
      "text/plain": [
       "tensor([[-0.0177, -0.1893, -1.1329],\n",
       "        [-0.8072, -1.8167, -0.0222]])"
      ]
     },
     "execution_count": 4,
     "metadata": {},
     "output_type": "execute_result"
    }
   ],
   "source": [
    "t.a"
   ]
  },
  {
   "cell_type": "code",
   "execution_count": 5,
   "id": "c18197bd",
   "metadata": {
    "execution": {
     "iopub.execute_input": "2023-02-26T06:11:14.620314Z",
     "iopub.status.busy": "2023-02-26T06:11:14.619979Z",
     "iopub.status.idle": "2023-02-26T06:11:19.737416Z",
     "shell.execute_reply": "2023-02-26T06:11:19.736676Z"
    }
   },
   "outputs": [
    {
     "name": "stdout",
     "output_type": "stream",
     "text": [
      "62.9 ns ± 0.0857 ns per loop (mean ± std. dev. of 7 runs, 10,000,000 loops each)\n"
     ]
    }
   ],
   "source": [
    "%timeit t.a"
   ]
  },
  {
   "cell_type": "code",
   "execution_count": 6,
   "id": "bd52f867",
   "metadata": {
    "execution": {
     "iopub.execute_input": "2023-02-26T06:11:19.740306Z",
     "iopub.status.busy": "2023-02-26T06:11:19.739771Z",
     "iopub.status.idle": "2023-02-26T06:11:19.746346Z",
     "shell.execute_reply": "2023-02-26T06:11:19.745739Z"
    }
   },
   "outputs": [
    {
     "data": {
      "text/plain": [
       "<FastTreeValue 0x7fb01089fe80>\n",
       "├── 'a' --> tensor([[-0.3296, -0.4653,  0.4059],\n",
       "│                   [ 0.5942, -0.2923,  2.0803]])\n",
       "└── 'x' --> <FastTreeValue 0x7fb01089ffd0>\n",
       "    └── 'c' --> tensor([[ 1.0581,  1.1934,  1.3246, -1.7291],\n",
       "                        [-1.2374,  1.1112, -0.8893, -0.0939],\n",
       "                        [ 0.2648,  1.2574,  1.1731, -1.9431]])"
      ]
     },
     "execution_count": 6,
     "metadata": {},
     "output_type": "execute_result"
    }
   ],
   "source": [
    "new_value = torch.randn(2, 3)\n",
    "t.a = new_value\n",
    "\n",
    "t"
   ]
  },
  {
   "cell_type": "code",
   "execution_count": 7,
   "id": "bbe04d1c",
   "metadata": {
    "execution": {
     "iopub.execute_input": "2023-02-26T06:11:19.748709Z",
     "iopub.status.busy": "2023-02-26T06:11:19.748374Z",
     "iopub.status.idle": "2023-02-26T06:11:25.255528Z",
     "shell.execute_reply": "2023-02-26T06:11:25.254802Z"
    }
   },
   "outputs": [
    {
     "name": "stdout",
     "output_type": "stream",
     "text": [
      "67.7 ns ± 0.0701 ns per loop (mean ± std. dev. of 7 runs, 10,000,000 loops each)\n"
     ]
    }
   ],
   "source": [
    "%timeit t.a = new_value"
   ]
  },
  {
   "cell_type": "markdown",
   "id": "48c49731",
   "metadata": {},
   "source": [
    "### Tianshou Batch's Get and Set"
   ]
  },
  {
   "cell_type": "code",
   "execution_count": 8,
   "id": "f1bb14c1",
   "metadata": {
    "execution": {
     "iopub.execute_input": "2023-02-26T06:11:25.258822Z",
     "iopub.status.busy": "2023-02-26T06:11:25.258173Z",
     "iopub.status.idle": "2023-02-26T06:11:25.587613Z",
     "shell.execute_reply": "2023-02-26T06:11:25.586966Z"
    }
   },
   "outputs": [],
   "source": [
    "from tianshou.data import Batch\n",
    "\n",
    "b = Batch(**_TREE_DATA_2)"
   ]
  },
  {
   "cell_type": "code",
   "execution_count": 9,
   "id": "cb0777c3",
   "metadata": {
    "execution": {
     "iopub.execute_input": "2023-02-26T06:11:25.590517Z",
     "iopub.status.busy": "2023-02-26T06:11:25.590088Z",
     "iopub.status.idle": "2023-02-26T06:11:25.596172Z",
     "shell.execute_reply": "2023-02-26T06:11:25.595593Z"
    }
   },
   "outputs": [
    {
     "data": {
      "text/plain": [
       "Batch(\n",
       "    a: tensor([[-0.0177, -0.1893, -1.1329],\n",
       "               [-0.8072, -1.8167, -0.0222]]),\n",
       "    x: Batch(\n",
       "           c: tensor([[ 1.0581,  1.1934,  1.3246, -1.7291],\n",
       "                      [-1.2374,  1.1112, -0.8893, -0.0939],\n",
       "                      [ 0.2648,  1.2574,  1.1731, -1.9431]]),\n",
       "       ),\n",
       ")"
      ]
     },
     "execution_count": 9,
     "metadata": {},
     "output_type": "execute_result"
    }
   ],
   "source": [
    "b"
   ]
  },
  {
   "cell_type": "code",
   "execution_count": 10,
   "id": "43ef8ea3",
   "metadata": {
    "execution": {
     "iopub.execute_input": "2023-02-26T06:11:25.598868Z",
     "iopub.status.busy": "2023-02-26T06:11:25.598538Z",
     "iopub.status.idle": "2023-02-26T06:11:25.603214Z",
     "shell.execute_reply": "2023-02-26T06:11:25.602570Z"
    }
   },
   "outputs": [
    {
     "data": {
      "text/plain": [
       "tensor([[-0.0177, -0.1893, -1.1329],\n",
       "        [-0.8072, -1.8167, -0.0222]])"
      ]
     },
     "execution_count": 10,
     "metadata": {},
     "output_type": "execute_result"
    }
   ],
   "source": [
    "b.a"
   ]
  },
  {
   "cell_type": "code",
   "execution_count": 11,
   "id": "b785ab72",
   "metadata": {
    "execution": {
     "iopub.execute_input": "2023-02-26T06:11:25.605683Z",
     "iopub.status.busy": "2023-02-26T06:11:25.605362Z",
     "iopub.status.idle": "2023-02-26T06:11:29.893340Z",
     "shell.execute_reply": "2023-02-26T06:11:29.892487Z"
    }
   },
   "outputs": [
    {
     "name": "stdout",
     "output_type": "stream",
     "text": [
      "52.7 ns ± 0.117 ns per loop (mean ± std. dev. of 7 runs, 10,000,000 loops each)\n"
     ]
    }
   ],
   "source": [
    "%timeit b.a"
   ]
  },
  {
   "cell_type": "code",
   "execution_count": 12,
   "id": "ad54dc69",
   "metadata": {
    "execution": {
     "iopub.execute_input": "2023-02-26T06:11:29.896119Z",
     "iopub.status.busy": "2023-02-26T06:11:29.895892Z",
     "iopub.status.idle": "2023-02-26T06:11:29.902030Z",
     "shell.execute_reply": "2023-02-26T06:11:29.901422Z"
    }
   },
   "outputs": [
    {
     "data": {
      "text/plain": [
       "Batch(\n",
       "    a: tensor([[-0.5326, -1.5077,  1.5664],\n",
       "               [ 0.5682, -1.1460, -1.2123]]),\n",
       "    x: Batch(\n",
       "           c: tensor([[ 1.0581,  1.1934,  1.3246, -1.7291],\n",
       "                      [-1.2374,  1.1112, -0.8893, -0.0939],\n",
       "                      [ 0.2648,  1.2574,  1.1731, -1.9431]]),\n",
       "       ),\n",
       ")"
      ]
     },
     "execution_count": 12,
     "metadata": {},
     "output_type": "execute_result"
    }
   ],
   "source": [
    "new_value = torch.randn(2, 3)\n",
    "b.a = new_value\n",
    "\n",
    "b"
   ]
  },
  {
   "cell_type": "code",
   "execution_count": 13,
   "id": "29b1d0bf",
   "metadata": {
    "execution": {
     "iopub.execute_input": "2023-02-26T06:11:29.904920Z",
     "iopub.status.busy": "2023-02-26T06:11:29.904363Z",
     "iopub.status.idle": "2023-02-26T06:11:33.876288Z",
     "shell.execute_reply": "2023-02-26T06:11:33.875529Z"
    }
   },
   "outputs": [
    {
     "name": "stdout",
     "output_type": "stream",
     "text": [
      "489 ns ± 0.182 ns per loop (mean ± std. dev. of 7 runs, 1,000,000 loops each)\n"
     ]
    }
   ],
   "source": [
    "%timeit b.a = new_value"
   ]
  },
  {
   "cell_type": "markdown",
   "id": "b61ad1d0",
   "metadata": {},
   "source": [
    "## Initialization"
   ]
  },
  {
   "cell_type": "markdown",
   "id": "d70f0d54",
   "metadata": {},
   "source": [
    "### TreeValue's Initialization"
   ]
  },
  {
   "cell_type": "code",
   "execution_count": 14,
   "id": "d32a679b",
   "metadata": {
    "execution": {
     "iopub.execute_input": "2023-02-26T06:11:33.879411Z",
     "iopub.status.busy": "2023-02-26T06:11:33.879056Z",
     "iopub.status.idle": "2023-02-26T06:11:40.982597Z",
     "shell.execute_reply": "2023-02-26T06:11:40.981866Z"
    }
   },
   "outputs": [
    {
     "name": "stdout",
     "output_type": "stream",
     "text": [
      "875 ns ± 0.977 ns per loop (mean ± std. dev. of 7 runs, 1,000,000 loops each)\n"
     ]
    }
   ],
   "source": [
    "%timeit FastTreeValue(_TREE_DATA_1)"
   ]
  },
  {
   "cell_type": "markdown",
   "id": "24f3707b",
   "metadata": {},
   "source": [
    "### Tianshou Batch's Initialization"
   ]
  },
  {
   "cell_type": "code",
   "execution_count": 15,
   "id": "ac3958df",
   "metadata": {
    "execution": {
     "iopub.execute_input": "2023-02-26T06:11:40.985914Z",
     "iopub.status.busy": "2023-02-26T06:11:40.985378Z",
     "iopub.status.idle": "2023-02-26T06:11:50.384884Z",
     "shell.execute_reply": "2023-02-26T06:11:50.384130Z"
    }
   },
   "outputs": [
    {
     "name": "stdout",
     "output_type": "stream",
     "text": [
      "11.6 µs ± 13.1 ns per loop (mean ± std. dev. of 7 runs, 100,000 loops each)\n"
     ]
    }
   ],
   "source": [
    "%timeit Batch(**_TREE_DATA_1)"
   ]
  },
  {
   "cell_type": "markdown",
   "id": "1ab82e2d",
   "metadata": {},
   "source": [
    "## Deep Copy Operation"
   ]
  },
  {
   "cell_type": "code",
   "execution_count": 16,
   "id": "210a9442",
   "metadata": {
    "execution": {
     "iopub.execute_input": "2023-02-26T06:11:50.387659Z",
     "iopub.status.busy": "2023-02-26T06:11:50.387315Z",
     "iopub.status.idle": "2023-02-26T06:11:50.391205Z",
     "shell.execute_reply": "2023-02-26T06:11:50.390615Z"
    }
   },
   "outputs": [],
   "source": [
    "import copy"
   ]
  },
  {
   "cell_type": "markdown",
   "id": "5a736274",
   "metadata": {},
   "source": [
    "### Deep Copy of TreeValue"
   ]
  },
  {
   "cell_type": "code",
   "execution_count": 17,
   "id": "f9bcadd6",
   "metadata": {
    "execution": {
     "iopub.execute_input": "2023-02-26T06:11:50.393809Z",
     "iopub.status.busy": "2023-02-26T06:11:50.393210Z",
     "iopub.status.idle": "2023-02-26T06:12:01.403598Z",
     "shell.execute_reply": "2023-02-26T06:12:01.402899Z"
    }
   },
   "outputs": [
    {
     "name": "stdout",
     "output_type": "stream",
     "text": [
      "136 µs ± 283 ns per loop (mean ± std. dev. of 7 runs, 10,000 loops each)\n"
     ]
    }
   ],
   "source": [
    "t3 = FastTreeValue(_TREE_DATA_3)\n",
    "%timeit copy.deepcopy(t3)"
   ]
  },
  {
   "cell_type": "markdown",
   "id": "bf8be7ea",
   "metadata": {},
   "source": [
    "### Deep Copy of Tianshou Batch"
   ]
  },
  {
   "cell_type": "code",
   "execution_count": 18,
   "id": "91998e6f",
   "metadata": {
    "execution": {
     "iopub.execute_input": "2023-02-26T06:12:01.406954Z",
     "iopub.status.busy": "2023-02-26T06:12:01.406424Z",
     "iopub.status.idle": "2023-02-26T06:12:12.608324Z",
     "shell.execute_reply": "2023-02-26T06:12:12.607659Z"
    }
   },
   "outputs": [
    {
     "name": "stdout",
     "output_type": "stream",
     "text": [
      "138 µs ± 591 ns per loop (mean ± std. dev. of 7 runs, 10,000 loops each)\n"
     ]
    }
   ],
   "source": [
    "b3 = Batch(**_TREE_DATA_3)\n",
    "%timeit copy.deepcopy(b3)"
   ]
  },
  {
   "cell_type": "markdown",
   "id": "223162fb",
   "metadata": {},
   "source": [
    "## Stack, Concat and Split Operation"
   ]
  },
  {
   "cell_type": "markdown",
   "id": "85fa4a73",
   "metadata": {},
   "source": [
    "### Performance of TreeValue"
   ]
  },
  {
   "cell_type": "code",
   "execution_count": 19,
   "id": "a0c2b697",
   "metadata": {
    "execution": {
     "iopub.execute_input": "2023-02-26T06:12:12.612197Z",
     "iopub.status.busy": "2023-02-26T06:12:12.611139Z",
     "iopub.status.idle": "2023-02-26T06:12:12.615486Z",
     "shell.execute_reply": "2023-02-26T06:12:12.614909Z"
    }
   },
   "outputs": [],
   "source": [
    "trees = [FastTreeValue(_TREE_DATA_2) for _ in range(8)]"
   ]
  },
  {
   "cell_type": "code",
   "execution_count": 20,
   "id": "017ea5a5",
   "metadata": {
    "execution": {
     "iopub.execute_input": "2023-02-26T06:12:12.618046Z",
     "iopub.status.busy": "2023-02-26T06:12:12.617690Z",
     "iopub.status.idle": "2023-02-26T06:12:12.624367Z",
     "shell.execute_reply": "2023-02-26T06:12:12.623855Z"
    }
   },
   "outputs": [
    {
     "data": {
      "text/plain": [
       "<FastTreeValue 0x7faf665bf670>\n",
       "├── 'a' --> tensor([[[-0.0177, -0.1893, -1.1329],\n",
       "│                    [-0.8072, -1.8167, -0.0222]],\n",
       "│           \n",
       "│                   [[-0.0177, -0.1893, -1.1329],\n",
       "│                    [-0.8072, -1.8167, -0.0222]],\n",
       "│           \n",
       "│                   [[-0.0177, -0.1893, -1.1329],\n",
       "│                    [-0.8072, -1.8167, -0.0222]],\n",
       "│           \n",
       "│                   [[-0.0177, -0.1893, -1.1329],\n",
       "│                    [-0.8072, -1.8167, -0.0222]],\n",
       "│           \n",
       "│                   [[-0.0177, -0.1893, -1.1329],\n",
       "│                    [-0.8072, -1.8167, -0.0222]],\n",
       "│           \n",
       "│                   [[-0.0177, -0.1893, -1.1329],\n",
       "│                    [-0.8072, -1.8167, -0.0222]],\n",
       "│           \n",
       "│                   [[-0.0177, -0.1893, -1.1329],\n",
       "│                    [-0.8072, -1.8167, -0.0222]],\n",
       "│           \n",
       "│                   [[-0.0177, -0.1893, -1.1329],\n",
       "│                    [-0.8072, -1.8167, -0.0222]]])\n",
       "└── 'x' --> <FastTreeValue 0x7faf665bf8b0>\n",
       "    └── 'c' --> tensor([[[ 1.0581,  1.1934,  1.3246, -1.7291],\n",
       "                         [-1.2374,  1.1112, -0.8893, -0.0939],\n",
       "                         [ 0.2648,  1.2574,  1.1731, -1.9431]],\n",
       "                \n",
       "                        [[ 1.0581,  1.1934,  1.3246, -1.7291],\n",
       "                         [-1.2374,  1.1112, -0.8893, -0.0939],\n",
       "                         [ 0.2648,  1.2574,  1.1731, -1.9431]],\n",
       "                \n",
       "                        [[ 1.0581,  1.1934,  1.3246, -1.7291],\n",
       "                         [-1.2374,  1.1112, -0.8893, -0.0939],\n",
       "                         [ 0.2648,  1.2574,  1.1731, -1.9431]],\n",
       "                \n",
       "                        [[ 1.0581,  1.1934,  1.3246, -1.7291],\n",
       "                         [-1.2374,  1.1112, -0.8893, -0.0939],\n",
       "                         [ 0.2648,  1.2574,  1.1731, -1.9431]],\n",
       "                \n",
       "                        [[ 1.0581,  1.1934,  1.3246, -1.7291],\n",
       "                         [-1.2374,  1.1112, -0.8893, -0.0939],\n",
       "                         [ 0.2648,  1.2574,  1.1731, -1.9431]],\n",
       "                \n",
       "                        [[ 1.0581,  1.1934,  1.3246, -1.7291],\n",
       "                         [-1.2374,  1.1112, -0.8893, -0.0939],\n",
       "                         [ 0.2648,  1.2574,  1.1731, -1.9431]],\n",
       "                \n",
       "                        [[ 1.0581,  1.1934,  1.3246, -1.7291],\n",
       "                         [-1.2374,  1.1112, -0.8893, -0.0939],\n",
       "                         [ 0.2648,  1.2574,  1.1731, -1.9431]],\n",
       "                \n",
       "                        [[ 1.0581,  1.1934,  1.3246, -1.7291],\n",
       "                         [-1.2374,  1.1112, -0.8893, -0.0939],\n",
       "                         [ 0.2648,  1.2574,  1.1731, -1.9431]]])"
      ]
     },
     "execution_count": 20,
     "metadata": {},
     "output_type": "execute_result"
    }
   ],
   "source": [
    "t_stack = FastTreeValue.func(subside=True)(torch.stack)\n",
    "\n",
    "t_stack(trees)"
   ]
  },
  {
   "cell_type": "code",
   "execution_count": 21,
   "id": "f8b3f415",
   "metadata": {
    "execution": {
     "iopub.execute_input": "2023-02-26T06:12:12.626662Z",
     "iopub.status.busy": "2023-02-26T06:12:12.626321Z",
     "iopub.status.idle": "2023-02-26T06:12:15.216238Z",
     "shell.execute_reply": "2023-02-26T06:12:15.215487Z"
    }
   },
   "outputs": [
    {
     "name": "stdout",
     "output_type": "stream",
     "text": [
      "31.9 µs ± 57.5 ns per loop (mean ± std. dev. of 7 runs, 10,000 loops each)\n"
     ]
    }
   ],
   "source": [
    "%timeit t_stack(trees)"
   ]
  },
  {
   "cell_type": "code",
   "execution_count": 22,
   "id": "94b56771",
   "metadata": {
    "execution": {
     "iopub.execute_input": "2023-02-26T06:12:15.219194Z",
     "iopub.status.busy": "2023-02-26T06:12:15.218646Z",
     "iopub.status.idle": "2023-02-26T06:12:15.226330Z",
     "shell.execute_reply": "2023-02-26T06:12:15.225749Z"
    }
   },
   "outputs": [
    {
     "data": {
      "text/plain": [
       "<FastTreeValue 0x7faf66562f40>\n",
       "├── 'a' --> tensor([[-0.0177, -0.1893, -1.1329],\n",
       "│                   [-0.8072, -1.8167, -0.0222],\n",
       "│                   [-0.0177, -0.1893, -1.1329],\n",
       "│                   [-0.8072, -1.8167, -0.0222],\n",
       "│                   [-0.0177, -0.1893, -1.1329],\n",
       "│                   [-0.8072, -1.8167, -0.0222],\n",
       "│                   [-0.0177, -0.1893, -1.1329],\n",
       "│                   [-0.8072, -1.8167, -0.0222],\n",
       "│                   [-0.0177, -0.1893, -1.1329],\n",
       "│                   [-0.8072, -1.8167, -0.0222],\n",
       "│                   [-0.0177, -0.1893, -1.1329],\n",
       "│                   [-0.8072, -1.8167, -0.0222],\n",
       "│                   [-0.0177, -0.1893, -1.1329],\n",
       "│                   [-0.8072, -1.8167, -0.0222],\n",
       "│                   [-0.0177, -0.1893, -1.1329],\n",
       "│                   [-0.8072, -1.8167, -0.0222]])\n",
       "└── 'x' --> <FastTreeValue 0x7fb0108f7dc0>\n",
       "    └── 'c' --> tensor([[ 1.0581,  1.1934,  1.3246, -1.7291],\n",
       "                        [-1.2374,  1.1112, -0.8893, -0.0939],\n",
       "                        [ 0.2648,  1.2574,  1.1731, -1.9431],\n",
       "                        [ 1.0581,  1.1934,  1.3246, -1.7291],\n",
       "                        [-1.2374,  1.1112, -0.8893, -0.0939],\n",
       "                        [ 0.2648,  1.2574,  1.1731, -1.9431],\n",
       "                        [ 1.0581,  1.1934,  1.3246, -1.7291],\n",
       "                        [-1.2374,  1.1112, -0.8893, -0.0939],\n",
       "                        [ 0.2648,  1.2574,  1.1731, -1.9431],\n",
       "                        [ 1.0581,  1.1934,  1.3246, -1.7291],\n",
       "                        [-1.2374,  1.1112, -0.8893, -0.0939],\n",
       "                        [ 0.2648,  1.2574,  1.1731, -1.9431],\n",
       "                        [ 1.0581,  1.1934,  1.3246, -1.7291],\n",
       "                        [-1.2374,  1.1112, -0.8893, -0.0939],\n",
       "                        [ 0.2648,  1.2574,  1.1731, -1.9431],\n",
       "                        [ 1.0581,  1.1934,  1.3246, -1.7291],\n",
       "                        [-1.2374,  1.1112, -0.8893, -0.0939],\n",
       "                        [ 0.2648,  1.2574,  1.1731, -1.9431],\n",
       "                        [ 1.0581,  1.1934,  1.3246, -1.7291],\n",
       "                        [-1.2374,  1.1112, -0.8893, -0.0939],\n",
       "                        [ 0.2648,  1.2574,  1.1731, -1.9431],\n",
       "                        [ 1.0581,  1.1934,  1.3246, -1.7291],\n",
       "                        [-1.2374,  1.1112, -0.8893, -0.0939],\n",
       "                        [ 0.2648,  1.2574,  1.1731, -1.9431]])"
      ]
     },
     "execution_count": 22,
     "metadata": {},
     "output_type": "execute_result"
    }
   ],
   "source": [
    "t_cat = FastTreeValue.func(subside=True)(torch.cat)\n",
    "\n",
    "t_cat(trees)"
   ]
  },
  {
   "cell_type": "code",
   "execution_count": 23,
   "id": "5e9c06a6",
   "metadata": {
    "execution": {
     "iopub.execute_input": "2023-02-26T06:12:15.229034Z",
     "iopub.status.busy": "2023-02-26T06:12:15.228687Z",
     "iopub.status.idle": "2023-02-26T06:12:17.666844Z",
     "shell.execute_reply": "2023-02-26T06:12:17.666168Z"
    }
   },
   "outputs": [
    {
     "name": "stdout",
     "output_type": "stream",
     "text": [
      "30 µs ± 62.8 ns per loop (mean ± std. dev. of 7 runs, 10,000 loops each)\n"
     ]
    }
   ],
   "source": [
    "%timeit t_cat(trees)"
   ]
  },
  {
   "cell_type": "code",
   "execution_count": 24,
   "id": "a3ab5c8f",
   "metadata": {
    "execution": {
     "iopub.execute_input": "2023-02-26T06:12:17.669947Z",
     "iopub.status.busy": "2023-02-26T06:12:17.669419Z",
     "iopub.status.idle": "2023-02-26T06:12:22.533595Z",
     "shell.execute_reply": "2023-02-26T06:12:22.532858Z"
    }
   },
   "outputs": [
    {
     "name": "stdout",
     "output_type": "stream",
     "text": [
      "59.9 µs ± 302 ns per loop (mean ± std. dev. of 7 runs, 10,000 loops each)\n"
     ]
    }
   ],
   "source": [
    "t_split = FastTreeValue.func(rise=True)(torch.split)\n",
    "tree = FastTreeValue({\n",
    "    'obs': torch.randn(8, 4, 84, 84),\n",
    "    'action': torch.randint(0, 6, size=(8, 1,)),\n",
    "    'reward': torch.rand(8, 1),\n",
    "})\n",
    "\n",
    "%timeit t_split(tree, 1)"
   ]
  },
  {
   "cell_type": "markdown",
   "id": "31c3ec0b",
   "metadata": {},
   "source": [
    "### Performance of Tianshou Batch"
   ]
  },
  {
   "cell_type": "code",
   "execution_count": 25,
   "id": "9ead828a",
   "metadata": {
    "execution": {
     "iopub.execute_input": "2023-02-26T06:12:22.536651Z",
     "iopub.status.busy": "2023-02-26T06:12:22.536296Z",
     "iopub.status.idle": "2023-02-26T06:12:22.544192Z",
     "shell.execute_reply": "2023-02-26T06:12:22.543608Z"
    }
   },
   "outputs": [
    {
     "data": {
      "text/plain": [
       "Batch(\n",
       "    x: Batch(\n",
       "           c: tensor([[[ 1.0581,  1.1934,  1.3246, -1.7291],\n",
       "                       [-1.2374,  1.1112, -0.8893, -0.0939],\n",
       "                       [ 0.2648,  1.2574,  1.1731, -1.9431]],\n",
       "              \n",
       "                      [[ 1.0581,  1.1934,  1.3246, -1.7291],\n",
       "                       [-1.2374,  1.1112, -0.8893, -0.0939],\n",
       "                       [ 0.2648,  1.2574,  1.1731, -1.9431]],\n",
       "              \n",
       "                      [[ 1.0581,  1.1934,  1.3246, -1.7291],\n",
       "                       [-1.2374,  1.1112, -0.8893, -0.0939],\n",
       "                       [ 0.2648,  1.2574,  1.1731, -1.9431]],\n",
       "              \n",
       "                      [[ 1.0581,  1.1934,  1.3246, -1.7291],\n",
       "                       [-1.2374,  1.1112, -0.8893, -0.0939],\n",
       "                       [ 0.2648,  1.2574,  1.1731, -1.9431]],\n",
       "              \n",
       "                      [[ 1.0581,  1.1934,  1.3246, -1.7291],\n",
       "                       [-1.2374,  1.1112, -0.8893, -0.0939],\n",
       "                       [ 0.2648,  1.2574,  1.1731, -1.9431]],\n",
       "              \n",
       "                      [[ 1.0581,  1.1934,  1.3246, -1.7291],\n",
       "                       [-1.2374,  1.1112, -0.8893, -0.0939],\n",
       "                       [ 0.2648,  1.2574,  1.1731, -1.9431]],\n",
       "              \n",
       "                      [[ 1.0581,  1.1934,  1.3246, -1.7291],\n",
       "                       [-1.2374,  1.1112, -0.8893, -0.0939],\n",
       "                       [ 0.2648,  1.2574,  1.1731, -1.9431]],\n",
       "              \n",
       "                      [[ 1.0581,  1.1934,  1.3246, -1.7291],\n",
       "                       [-1.2374,  1.1112, -0.8893, -0.0939],\n",
       "                       [ 0.2648,  1.2574,  1.1731, -1.9431]]]),\n",
       "       ),\n",
       "    a: tensor([[[-0.0177, -0.1893, -1.1329],\n",
       "                [-0.8072, -1.8167, -0.0222]],\n",
       "       \n",
       "               [[-0.0177, -0.1893, -1.1329],\n",
       "                [-0.8072, -1.8167, -0.0222]],\n",
       "       \n",
       "               [[-0.0177, -0.1893, -1.1329],\n",
       "                [-0.8072, -1.8167, -0.0222]],\n",
       "       \n",
       "               [[-0.0177, -0.1893, -1.1329],\n",
       "                [-0.8072, -1.8167, -0.0222]],\n",
       "       \n",
       "               [[-0.0177, -0.1893, -1.1329],\n",
       "                [-0.8072, -1.8167, -0.0222]],\n",
       "       \n",
       "               [[-0.0177, -0.1893, -1.1329],\n",
       "                [-0.8072, -1.8167, -0.0222]],\n",
       "       \n",
       "               [[-0.0177, -0.1893, -1.1329],\n",
       "                [-0.8072, -1.8167, -0.0222]],\n",
       "       \n",
       "               [[-0.0177, -0.1893, -1.1329],\n",
       "                [-0.8072, -1.8167, -0.0222]]]),\n",
       ")"
      ]
     },
     "execution_count": 25,
     "metadata": {},
     "output_type": "execute_result"
    }
   ],
   "source": [
    "batches = [Batch(**_TREE_DATA_2) for _ in range(8)]\n",
    "\n",
    "Batch.stack(batches)"
   ]
  },
  {
   "cell_type": "code",
   "execution_count": 26,
   "id": "ec9037a3",
   "metadata": {
    "execution": {
     "iopub.execute_input": "2023-02-26T06:12:22.546792Z",
     "iopub.status.busy": "2023-02-26T06:12:22.546466Z",
     "iopub.status.idle": "2023-02-26T06:12:28.853863Z",
     "shell.execute_reply": "2023-02-26T06:12:28.853073Z"
    }
   },
   "outputs": [
    {
     "name": "stdout",
     "output_type": "stream",
     "text": [
      "77.6 µs ± 95 ns per loop (mean ± std. dev. of 7 runs, 10,000 loops each)\n"
     ]
    }
   ],
   "source": [
    "%timeit Batch.stack(batches)"
   ]
  },
  {
   "cell_type": "code",
   "execution_count": 27,
   "id": "cb8ab77e",
   "metadata": {
    "execution": {
     "iopub.execute_input": "2023-02-26T06:12:28.856589Z",
     "iopub.status.busy": "2023-02-26T06:12:28.856251Z",
     "iopub.status.idle": "2023-02-26T06:12:28.863508Z",
     "shell.execute_reply": "2023-02-26T06:12:28.862882Z"
    }
   },
   "outputs": [
    {
     "data": {
      "text/plain": [
       "Batch(\n",
       "    x: Batch(\n",
       "           c: tensor([[ 1.0581,  1.1934,  1.3246, -1.7291],\n",
       "                      [-1.2374,  1.1112, -0.8893, -0.0939],\n",
       "                      [ 0.2648,  1.2574,  1.1731, -1.9431],\n",
       "                      [ 1.0581,  1.1934,  1.3246, -1.7291],\n",
       "                      [-1.2374,  1.1112, -0.8893, -0.0939],\n",
       "                      [ 0.2648,  1.2574,  1.1731, -1.9431],\n",
       "                      [ 1.0581,  1.1934,  1.3246, -1.7291],\n",
       "                      [-1.2374,  1.1112, -0.8893, -0.0939],\n",
       "                      [ 0.2648,  1.2574,  1.1731, -1.9431],\n",
       "                      [ 1.0581,  1.1934,  1.3246, -1.7291],\n",
       "                      [-1.2374,  1.1112, -0.8893, -0.0939],\n",
       "                      [ 0.2648,  1.2574,  1.1731, -1.9431],\n",
       "                      [ 1.0581,  1.1934,  1.3246, -1.7291],\n",
       "                      [-1.2374,  1.1112, -0.8893, -0.0939],\n",
       "                      [ 0.2648,  1.2574,  1.1731, -1.9431],\n",
       "                      [ 1.0581,  1.1934,  1.3246, -1.7291],\n",
       "                      [-1.2374,  1.1112, -0.8893, -0.0939],\n",
       "                      [ 0.2648,  1.2574,  1.1731, -1.9431],\n",
       "                      [ 1.0581,  1.1934,  1.3246, -1.7291],\n",
       "                      [-1.2374,  1.1112, -0.8893, -0.0939],\n",
       "                      [ 0.2648,  1.2574,  1.1731, -1.9431],\n",
       "                      [ 1.0581,  1.1934,  1.3246, -1.7291],\n",
       "                      [-1.2374,  1.1112, -0.8893, -0.0939],\n",
       "                      [ 0.2648,  1.2574,  1.1731, -1.9431]]),\n",
       "       ),\n",
       "    a: tensor([[-0.0177, -0.1893, -1.1329],\n",
       "               [-0.8072, -1.8167, -0.0222],\n",
       "               [-0.0177, -0.1893, -1.1329],\n",
       "               [-0.8072, -1.8167, -0.0222],\n",
       "               [-0.0177, -0.1893, -1.1329],\n",
       "               [-0.8072, -1.8167, -0.0222],\n",
       "               [-0.0177, -0.1893, -1.1329],\n",
       "               [-0.8072, -1.8167, -0.0222],\n",
       "               [-0.0177, -0.1893, -1.1329],\n",
       "               [-0.8072, -1.8167, -0.0222],\n",
       "               [-0.0177, -0.1893, -1.1329],\n",
       "               [-0.8072, -1.8167, -0.0222],\n",
       "               [-0.0177, -0.1893, -1.1329],\n",
       "               [-0.8072, -1.8167, -0.0222],\n",
       "               [-0.0177, -0.1893, -1.1329],\n",
       "               [-0.8072, -1.8167, -0.0222]]),\n",
       ")"
      ]
     },
     "execution_count": 27,
     "metadata": {},
     "output_type": "execute_result"
    }
   ],
   "source": [
    "Batch.cat(batches)"
   ]
  },
  {
   "cell_type": "code",
   "execution_count": 28,
   "id": "18dfb045",
   "metadata": {
    "execution": {
     "iopub.execute_input": "2023-02-26T06:12:28.865869Z",
     "iopub.status.busy": "2023-02-26T06:12:28.865533Z",
     "iopub.status.idle": "2023-02-26T06:12:40.579698Z",
     "shell.execute_reply": "2023-02-26T06:12:40.579034Z"
    }
   },
   "outputs": [
    {
     "name": "stdout",
     "output_type": "stream",
     "text": [
      "144 µs ± 343 ns per loop (mean ± std. dev. of 7 runs, 10,000 loops each)\n"
     ]
    }
   ],
   "source": [
    "%timeit Batch.cat(batches)"
   ]
  },
  {
   "cell_type": "code",
   "execution_count": 29,
   "id": "c6688e51",
   "metadata": {
    "execution": {
     "iopub.execute_input": "2023-02-26T06:12:40.582805Z",
     "iopub.status.busy": "2023-02-26T06:12:40.582274Z",
     "iopub.status.idle": "2023-02-26T06:12:43.076487Z",
     "shell.execute_reply": "2023-02-26T06:12:43.075761Z"
    }
   },
   "outputs": [
    {
     "name": "stdout",
     "output_type": "stream",
     "text": [
      "306 µs ± 1.75 µs per loop (mean ± std. dev. of 7 runs, 1,000 loops each)\n"
     ]
    }
   ],
   "source": [
    "batch = Batch({\n",
    "    'obs': torch.randn(8, 4, 84, 84),\n",
    "    'action': torch.randint(0, 6, size=(8, 1,)),\n",
    "    'reward': torch.rand(8, 1)}\n",
    ")\n",
    "\n",
    "%timeit list(Batch.split(batch, 1, shuffle=False, merge_last=True))"
   ]
  },
  {
   "cell_type": "code",
   "execution_count": null,
   "id": "2539fbd9",
   "metadata": {},
   "outputs": [],
   "source": []
  }
 ],
 "metadata": {
  "kernelspec": {
   "display_name": "Python 3 (ipykernel)",
   "language": "python",
   "name": "python3"
  },
  "language_info": {
   "codemirror_mode": {
    "name": "ipython",
    "version": 3
   },
   "file_extension": ".py",
   "mimetype": "text/x-python",
   "name": "python",
   "nbconvert_exporter": "python",
   "pygments_lexer": "ipython3",
   "version": "3.8.16"
  }
 },
 "nbformat": 4,
 "nbformat_minor": 5
}
