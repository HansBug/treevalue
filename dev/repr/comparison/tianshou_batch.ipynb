{
 "cells": [
  {
   "cell_type": "markdown",
   "id": "9d39d946",
   "metadata": {},
   "source": [
    "# Comparison Between TreeValue and Tianshou Batch"
   ]
  },
  {
   "cell_type": "markdown",
   "id": "3c6db2d4",
   "metadata": {},
   "source": [
    "In this section, we will take a look at the feature and performance of the [Tianshou Batch](https://github.com/thu-ml/tianshou) library, which is developed by Tsinghua Machine Learning Group."
   ]
  },
  {
   "cell_type": "markdown",
   "id": "069361b0",
   "metadata": {},
   "source": [
    "Before starting the comparison, let us define some thing."
   ]
  },
  {
   "cell_type": "code",
   "execution_count": 1,
   "id": "06fc8d26",
   "metadata": {
    "execution": {
     "iopub.execute_input": "2023-02-27T14:54:23.685989Z",
     "iopub.status.busy": "2023-02-27T14:54:23.685622Z",
     "iopub.status.idle": "2023-02-27T14:54:24.878757Z",
     "shell.execute_reply": "2023-02-27T14:54:24.877598Z"
    }
   },
   "outputs": [
    {
     "name": "stderr",
     "output_type": "stream",
     "text": [
      "/opt/hostedtoolcache/Python/3.8.16/x64/lib/python3.8/site-packages/tqdm/auto.py:22: TqdmWarning: IProgress not found. Please update jupyter and ipywidgets. See https://ipywidgets.readthedocs.io/en/stable/user_install.html\n",
      "  from .autonotebook import tqdm as notebook_tqdm\n"
     ]
    }
   ],
   "source": [
    "import torch \n",
    "\n",
    "_TREE_DATA_1 = {'a': 1, 'b': 2, 'x': {'c': 3, 'd': 4}}\n",
    "_TREE_DATA_2 = {\n",
    "    'a': torch.randn(2, 3), \n",
    "    'x': {\n",
    "        'c': torch.randn(3, 4)\n",
    "    },\n",
    "}\n",
    "_TREE_DATA_3 = {\n",
    "    'obs': torch.randn(4, 84, 84),\n",
    "    'action': torch.randint(0, 6, size=(1,)),\n",
    "    'reward': torch.rand(1),\n",
    "}"
   ]
  },
  {
   "cell_type": "markdown",
   "id": "83461b25",
   "metadata": {},
   "source": [
    "## Read and Write Operation"
   ]
  },
  {
   "cell_type": "markdown",
   "id": "067b3f73",
   "metadata": {},
   "source": [
    "Reading and writing are the two most common operations in the tree data structure based on the data model (TreeValue and Tianshou Batch both belong to this type), so this section will compare the reading and writing performance of these two libraries."
   ]
  },
  {
   "cell_type": "markdown",
   "id": "5d09a5b7",
   "metadata": {},
   "source": [
    "### TreeValue's Get and Set"
   ]
  },
  {
   "cell_type": "code",
   "execution_count": 2,
   "id": "9519c4bb",
   "metadata": {
    "execution": {
     "iopub.execute_input": "2023-02-27T14:54:24.883014Z",
     "iopub.status.busy": "2023-02-27T14:54:24.882671Z",
     "iopub.status.idle": "2023-02-27T14:54:25.257279Z",
     "shell.execute_reply": "2023-02-27T14:54:25.256038Z"
    }
   },
   "outputs": [],
   "source": [
    "from treevalue import FastTreeValue\n",
    "\n",
    "t = FastTreeValue(_TREE_DATA_2)"
   ]
  },
  {
   "cell_type": "code",
   "execution_count": 3,
   "id": "11c37677",
   "metadata": {
    "execution": {
     "iopub.execute_input": "2023-02-27T14:54:25.261528Z",
     "iopub.status.busy": "2023-02-27T14:54:25.260939Z",
     "iopub.status.idle": "2023-02-27T14:54:25.272971Z",
     "shell.execute_reply": "2023-02-27T14:54:25.271979Z"
    }
   },
   "outputs": [
    {
     "data": {
      "text/plain": [
       "<FastTreeValue 0x7fbbd031efd0>\n",
       "├── 'a' --> tensor([[-1.2300,  0.4737, -1.7073],\n",
       "│                   [-2.1459,  0.0243,  1.4678]])\n",
       "└── 'x' --> <FastTreeValue 0x7fbbd031efa0>\n",
       "    └── 'c' --> tensor([[ 0.9088,  0.3269,  0.6333, -1.1087],\n",
       "                        [ 0.8734,  0.7349,  0.6809, -0.9307],\n",
       "                        [ 2.0375, -1.0453,  0.5688, -0.5259]])"
      ]
     },
     "execution_count": 3,
     "metadata": {},
     "output_type": "execute_result"
    }
   ],
   "source": [
    "t"
   ]
  },
  {
   "cell_type": "code",
   "execution_count": 4,
   "id": "fd70b0b9",
   "metadata": {
    "execution": {
     "iopub.execute_input": "2023-02-27T14:54:25.277963Z",
     "iopub.status.busy": "2023-02-27T14:54:25.277629Z",
     "iopub.status.idle": "2023-02-27T14:54:25.285151Z",
     "shell.execute_reply": "2023-02-27T14:54:25.284257Z"
    }
   },
   "outputs": [
    {
     "data": {
      "text/plain": [
       "tensor([[-1.2300,  0.4737, -1.7073],\n",
       "        [-2.1459,  0.0243,  1.4678]])"
      ]
     },
     "execution_count": 4,
     "metadata": {},
     "output_type": "execute_result"
    }
   ],
   "source": [
    "t.a"
   ]
  },
  {
   "cell_type": "code",
   "execution_count": 5,
   "id": "c18197bd",
   "metadata": {
    "execution": {
     "iopub.execute_input": "2023-02-27T14:54:25.288712Z",
     "iopub.status.busy": "2023-02-27T14:54:25.288177Z",
     "iopub.status.idle": "2023-02-27T14:54:30.992354Z",
     "shell.execute_reply": "2023-02-27T14:54:30.991242Z"
    }
   },
   "outputs": [
    {
     "name": "stdout",
     "output_type": "stream",
     "text": [
      "70.4 ns ± 2.33 ns per loop (mean ± std. dev. of 7 runs, 10,000,000 loops each)\n"
     ]
    }
   ],
   "source": [
    "%timeit t.a"
   ]
  },
  {
   "cell_type": "code",
   "execution_count": 6,
   "id": "bd52f867",
   "metadata": {
    "execution": {
     "iopub.execute_input": "2023-02-27T14:54:30.996251Z",
     "iopub.status.busy": "2023-02-27T14:54:30.995990Z",
     "iopub.status.idle": "2023-02-27T14:54:31.004670Z",
     "shell.execute_reply": "2023-02-27T14:54:31.003800Z"
    }
   },
   "outputs": [
    {
     "data": {
      "text/plain": [
       "<FastTreeValue 0x7fbbd031efd0>\n",
       "├── 'a' --> tensor([[0.3829, 0.4742, 0.0154],\n",
       "│                   [1.5839, 0.5724, 0.0762]])\n",
       "└── 'x' --> <FastTreeValue 0x7fbbd031efa0>\n",
       "    └── 'c' --> tensor([[ 0.9088,  0.3269,  0.6333, -1.1087],\n",
       "                        [ 0.8734,  0.7349,  0.6809, -0.9307],\n",
       "                        [ 2.0375, -1.0453,  0.5688, -0.5259]])"
      ]
     },
     "execution_count": 6,
     "metadata": {},
     "output_type": "execute_result"
    }
   ],
   "source": [
    "new_value = torch.randn(2, 3)\n",
    "t.a = new_value\n",
    "\n",
    "t"
   ]
  },
  {
   "cell_type": "code",
   "execution_count": 7,
   "id": "bbe04d1c",
   "metadata": {
    "execution": {
     "iopub.execute_input": "2023-02-27T14:54:31.007749Z",
     "iopub.status.busy": "2023-02-27T14:54:31.007430Z",
     "iopub.status.idle": "2023-02-27T14:54:36.850541Z",
     "shell.execute_reply": "2023-02-27T14:54:36.849510Z"
    }
   },
   "outputs": [
    {
     "name": "stdout",
     "output_type": "stream",
     "text": [
      "72.1 ns ± 1.06 ns per loop (mean ± std. dev. of 7 runs, 10,000,000 loops each)\n"
     ]
    }
   ],
   "source": [
    "%timeit t.a = new_value"
   ]
  },
  {
   "cell_type": "markdown",
   "id": "48c49731",
   "metadata": {},
   "source": [
    "### Tianshou Batch's Get and Set"
   ]
  },
  {
   "cell_type": "code",
   "execution_count": 8,
   "id": "f1bb14c1",
   "metadata": {
    "execution": {
     "iopub.execute_input": "2023-02-27T14:54:36.854144Z",
     "iopub.status.busy": "2023-02-27T14:54:36.853827Z",
     "iopub.status.idle": "2023-02-27T14:54:37.335441Z",
     "shell.execute_reply": "2023-02-27T14:54:37.334409Z"
    }
   },
   "outputs": [],
   "source": [
    "from tianshou.data import Batch\n",
    "\n",
    "b = Batch(**_TREE_DATA_2)"
   ]
  },
  {
   "cell_type": "code",
   "execution_count": 9,
   "id": "cb0777c3",
   "metadata": {
    "execution": {
     "iopub.execute_input": "2023-02-27T14:54:37.340110Z",
     "iopub.status.busy": "2023-02-27T14:54:37.339573Z",
     "iopub.status.idle": "2023-02-27T14:54:37.348456Z",
     "shell.execute_reply": "2023-02-27T14:54:37.347490Z"
    }
   },
   "outputs": [
    {
     "data": {
      "text/plain": [
       "Batch(\n",
       "    a: tensor([[-1.2300,  0.4737, -1.7073],\n",
       "               [-2.1459,  0.0243,  1.4678]]),\n",
       "    x: Batch(\n",
       "           c: tensor([[ 0.9088,  0.3269,  0.6333, -1.1087],\n",
       "                      [ 0.8734,  0.7349,  0.6809, -0.9307],\n",
       "                      [ 2.0375, -1.0453,  0.5688, -0.5259]]),\n",
       "       ),\n",
       ")"
      ]
     },
     "execution_count": 9,
     "metadata": {},
     "output_type": "execute_result"
    }
   ],
   "source": [
    "b"
   ]
  },
  {
   "cell_type": "code",
   "execution_count": 10,
   "id": "43ef8ea3",
   "metadata": {
    "execution": {
     "iopub.execute_input": "2023-02-27T14:54:37.351586Z",
     "iopub.status.busy": "2023-02-27T14:54:37.351308Z",
     "iopub.status.idle": "2023-02-27T14:54:37.358098Z",
     "shell.execute_reply": "2023-02-27T14:54:37.357011Z"
    }
   },
   "outputs": [
    {
     "data": {
      "text/plain": [
       "tensor([[-1.2300,  0.4737, -1.7073],\n",
       "        [-2.1459,  0.0243,  1.4678]])"
      ]
     },
     "execution_count": 10,
     "metadata": {},
     "output_type": "execute_result"
    }
   ],
   "source": [
    "b.a"
   ]
  },
  {
   "cell_type": "code",
   "execution_count": 11,
   "id": "b785ab72",
   "metadata": {
    "execution": {
     "iopub.execute_input": "2023-02-27T14:54:37.361242Z",
     "iopub.status.busy": "2023-02-27T14:54:37.360968Z",
     "iopub.status.idle": "2023-02-27T14:54:42.958117Z",
     "shell.execute_reply": "2023-02-27T14:54:42.957083Z"
    }
   },
   "outputs": [
    {
     "name": "stdout",
     "output_type": "stream",
     "text": [
      "69.4 ns ± 0.947 ns per loop (mean ± std. dev. of 7 runs, 10,000,000 loops each)\n"
     ]
    }
   ],
   "source": [
    "%timeit b.a"
   ]
  },
  {
   "cell_type": "code",
   "execution_count": 12,
   "id": "ad54dc69",
   "metadata": {
    "execution": {
     "iopub.execute_input": "2023-02-27T14:54:42.961856Z",
     "iopub.status.busy": "2023-02-27T14:54:42.961325Z",
     "iopub.status.idle": "2023-02-27T14:54:42.970011Z",
     "shell.execute_reply": "2023-02-27T14:54:42.969163Z"
    }
   },
   "outputs": [
    {
     "data": {
      "text/plain": [
       "Batch(\n",
       "    a: tensor([[-1.1954, -0.1837, -0.1268],\n",
       "               [-1.7786, -0.4548, -0.2155]]),\n",
       "    x: Batch(\n",
       "           c: tensor([[ 0.9088,  0.3269,  0.6333, -1.1087],\n",
       "                      [ 0.8734,  0.7349,  0.6809, -0.9307],\n",
       "                      [ 2.0375, -1.0453,  0.5688, -0.5259]]),\n",
       "       ),\n",
       ")"
      ]
     },
     "execution_count": 12,
     "metadata": {},
     "output_type": "execute_result"
    }
   ],
   "source": [
    "new_value = torch.randn(2, 3)\n",
    "b.a = new_value\n",
    "\n",
    "b"
   ]
  },
  {
   "cell_type": "code",
   "execution_count": 13,
   "id": "29b1d0bf",
   "metadata": {
    "execution": {
     "iopub.execute_input": "2023-02-27T14:54:42.973452Z",
     "iopub.status.busy": "2023-02-27T14:54:42.972622Z",
     "iopub.status.idle": "2023-02-27T14:54:47.986463Z",
     "shell.execute_reply": "2023-02-27T14:54:47.985437Z"
    }
   },
   "outputs": [
    {
     "name": "stdout",
     "output_type": "stream",
     "text": [
      "615 ns ± 7.47 ns per loop (mean ± std. dev. of 7 runs, 1,000,000 loops each)\n"
     ]
    }
   ],
   "source": [
    "%timeit b.a = new_value"
   ]
  },
  {
   "cell_type": "markdown",
   "id": "b61ad1d0",
   "metadata": {},
   "source": [
    "## Initialization"
   ]
  },
  {
   "cell_type": "markdown",
   "id": "d70f0d54",
   "metadata": {},
   "source": [
    "### TreeValue's Initialization"
   ]
  },
  {
   "cell_type": "code",
   "execution_count": 14,
   "id": "d32a679b",
   "metadata": {
    "execution": {
     "iopub.execute_input": "2023-02-27T14:54:47.990135Z",
     "iopub.status.busy": "2023-02-27T14:54:47.989816Z",
     "iopub.status.idle": "2023-02-27T14:54:56.180755Z",
     "shell.execute_reply": "2023-02-27T14:54:56.179730Z"
    }
   },
   "outputs": [
    {
     "name": "stdout",
     "output_type": "stream",
     "text": [
      "1.01 µs ± 9.79 ns per loop (mean ± std. dev. of 7 runs, 1,000,000 loops each)\n"
     ]
    }
   ],
   "source": [
    "%timeit FastTreeValue(_TREE_DATA_1)"
   ]
  },
  {
   "cell_type": "markdown",
   "id": "24f3707b",
   "metadata": {},
   "source": [
    "### Tianshou Batch's Initialization"
   ]
  },
  {
   "cell_type": "code",
   "execution_count": 15,
   "id": "ac3958df",
   "metadata": {
    "execution": {
     "iopub.execute_input": "2023-02-27T14:54:56.184518Z",
     "iopub.status.busy": "2023-02-27T14:54:56.184020Z",
     "iopub.status.idle": "2023-02-27T14:55:07.291743Z",
     "shell.execute_reply": "2023-02-27T14:55:07.290697Z"
    }
   },
   "outputs": [
    {
     "name": "stdout",
     "output_type": "stream",
     "text": [
      "13.7 µs ± 252 ns per loop (mean ± std. dev. of 7 runs, 100,000 loops each)\n"
     ]
    }
   ],
   "source": [
    "%timeit Batch(**_TREE_DATA_1)"
   ]
  },
  {
   "cell_type": "markdown",
   "id": "1ab82e2d",
   "metadata": {},
   "source": [
    "## Deep Copy Operation"
   ]
  },
  {
   "cell_type": "code",
   "execution_count": 16,
   "id": "210a9442",
   "metadata": {
    "execution": {
     "iopub.execute_input": "2023-02-27T14:55:07.295410Z",
     "iopub.status.busy": "2023-02-27T14:55:07.294941Z",
     "iopub.status.idle": "2023-02-27T14:55:07.300183Z",
     "shell.execute_reply": "2023-02-27T14:55:07.299256Z"
    }
   },
   "outputs": [],
   "source": [
    "import copy"
   ]
  },
  {
   "cell_type": "markdown",
   "id": "5a736274",
   "metadata": {},
   "source": [
    "### Deep Copy of TreeValue"
   ]
  },
  {
   "cell_type": "code",
   "execution_count": 17,
   "id": "f9bcadd6",
   "metadata": {
    "execution": {
     "iopub.execute_input": "2023-02-27T14:55:07.303775Z",
     "iopub.status.busy": "2023-02-27T14:55:07.303349Z",
     "iopub.status.idle": "2023-02-27T14:55:09.799059Z",
     "shell.execute_reply": "2023-02-27T14:55:09.798039Z"
    }
   },
   "outputs": [
    {
     "name": "stdout",
     "output_type": "stream",
     "text": [
      "306 µs ± 17.8 µs per loop (mean ± std. dev. of 7 runs, 1,000 loops each)\n"
     ]
    }
   ],
   "source": [
    "t3 = FastTreeValue(_TREE_DATA_3)\n",
    "%timeit copy.deepcopy(t3)"
   ]
  },
  {
   "cell_type": "markdown",
   "id": "bf8be7ea",
   "metadata": {},
   "source": [
    "### Deep Copy of Tianshou Batch"
   ]
  },
  {
   "cell_type": "code",
   "execution_count": 18,
   "id": "91998e6f",
   "metadata": {
    "execution": {
     "iopub.execute_input": "2023-02-27T14:55:09.802619Z",
     "iopub.status.busy": "2023-02-27T14:55:09.802165Z",
     "iopub.status.idle": "2023-02-27T14:55:12.215208Z",
     "shell.execute_reply": "2023-02-27T14:55:12.214285Z"
    }
   },
   "outputs": [
    {
     "name": "stdout",
     "output_type": "stream",
     "text": [
      "296 µs ± 5.61 µs per loop (mean ± std. dev. of 7 runs, 1,000 loops each)\n"
     ]
    }
   ],
   "source": [
    "b3 = Batch(**_TREE_DATA_3)\n",
    "%timeit copy.deepcopy(b3)"
   ]
  },
  {
   "cell_type": "markdown",
   "id": "223162fb",
   "metadata": {},
   "source": [
    "## Stack, Concat and Split Operation"
   ]
  },
  {
   "cell_type": "markdown",
   "id": "85fa4a73",
   "metadata": {},
   "source": [
    "### Performance of TreeValue"
   ]
  },
  {
   "cell_type": "code",
   "execution_count": 19,
   "id": "a0c2b697",
   "metadata": {
    "execution": {
     "iopub.execute_input": "2023-02-27T14:55:12.220819Z",
     "iopub.status.busy": "2023-02-27T14:55:12.219920Z",
     "iopub.status.idle": "2023-02-27T14:55:12.225576Z",
     "shell.execute_reply": "2023-02-27T14:55:12.224201Z"
    }
   },
   "outputs": [],
   "source": [
    "trees = [FastTreeValue(_TREE_DATA_2) for _ in range(8)]"
   ]
  },
  {
   "cell_type": "code",
   "execution_count": 20,
   "id": "017ea5a5",
   "metadata": {
    "execution": {
     "iopub.execute_input": "2023-02-27T14:55:12.229820Z",
     "iopub.status.busy": "2023-02-27T14:55:12.229326Z",
     "iopub.status.idle": "2023-02-27T14:55:12.241399Z",
     "shell.execute_reply": "2023-02-27T14:55:12.240589Z"
    }
   },
   "outputs": [
    {
     "data": {
      "text/plain": [
       "<FastTreeValue 0x7fbbd031ec10>\n",
       "├── 'a' --> tensor([[[-1.2300,  0.4737, -1.7073],\n",
       "│                    [-2.1459,  0.0243,  1.4678]],\n",
       "│           \n",
       "│                   [[-1.2300,  0.4737, -1.7073],\n",
       "│                    [-2.1459,  0.0243,  1.4678]],\n",
       "│           \n",
       "│                   [[-1.2300,  0.4737, -1.7073],\n",
       "│                    [-2.1459,  0.0243,  1.4678]],\n",
       "│           \n",
       "│                   [[-1.2300,  0.4737, -1.7073],\n",
       "│                    [-2.1459,  0.0243,  1.4678]],\n",
       "│           \n",
       "│                   [[-1.2300,  0.4737, -1.7073],\n",
       "│                    [-2.1459,  0.0243,  1.4678]],\n",
       "│           \n",
       "│                   [[-1.2300,  0.4737, -1.7073],\n",
       "│                    [-2.1459,  0.0243,  1.4678]],\n",
       "│           \n",
       "│                   [[-1.2300,  0.4737, -1.7073],\n",
       "│                    [-2.1459,  0.0243,  1.4678]],\n",
       "│           \n",
       "│                   [[-1.2300,  0.4737, -1.7073],\n",
       "│                    [-2.1459,  0.0243,  1.4678]]])\n",
       "└── 'x' --> <FastTreeValue 0x7fbb2cc8bfa0>\n",
       "    └── 'c' --> tensor([[[ 0.9088,  0.3269,  0.6333, -1.1087],\n",
       "                         [ 0.8734,  0.7349,  0.6809, -0.9307],\n",
       "                         [ 2.0375, -1.0453,  0.5688, -0.5259]],\n",
       "                \n",
       "                        [[ 0.9088,  0.3269,  0.6333, -1.1087],\n",
       "                         [ 0.8734,  0.7349,  0.6809, -0.9307],\n",
       "                         [ 2.0375, -1.0453,  0.5688, -0.5259]],\n",
       "                \n",
       "                        [[ 0.9088,  0.3269,  0.6333, -1.1087],\n",
       "                         [ 0.8734,  0.7349,  0.6809, -0.9307],\n",
       "                         [ 2.0375, -1.0453,  0.5688, -0.5259]],\n",
       "                \n",
       "                        [[ 0.9088,  0.3269,  0.6333, -1.1087],\n",
       "                         [ 0.8734,  0.7349,  0.6809, -0.9307],\n",
       "                         [ 2.0375, -1.0453,  0.5688, -0.5259]],\n",
       "                \n",
       "                        [[ 0.9088,  0.3269,  0.6333, -1.1087],\n",
       "                         [ 0.8734,  0.7349,  0.6809, -0.9307],\n",
       "                         [ 2.0375, -1.0453,  0.5688, -0.5259]],\n",
       "                \n",
       "                        [[ 0.9088,  0.3269,  0.6333, -1.1087],\n",
       "                         [ 0.8734,  0.7349,  0.6809, -0.9307],\n",
       "                         [ 2.0375, -1.0453,  0.5688, -0.5259]],\n",
       "                \n",
       "                        [[ 0.9088,  0.3269,  0.6333, -1.1087],\n",
       "                         [ 0.8734,  0.7349,  0.6809, -0.9307],\n",
       "                         [ 2.0375, -1.0453,  0.5688, -0.5259]],\n",
       "                \n",
       "                        [[ 0.9088,  0.3269,  0.6333, -1.1087],\n",
       "                         [ 0.8734,  0.7349,  0.6809, -0.9307],\n",
       "                         [ 2.0375, -1.0453,  0.5688, -0.5259]]])"
      ]
     },
     "execution_count": 20,
     "metadata": {},
     "output_type": "execute_result"
    }
   ],
   "source": [
    "t_stack = FastTreeValue.func(subside=True)(torch.stack)\n",
    "\n",
    "t_stack(trees)"
   ]
  },
  {
   "cell_type": "code",
   "execution_count": 21,
   "id": "f8b3f415",
   "metadata": {
    "execution": {
     "iopub.execute_input": "2023-02-27T14:55:12.244797Z",
     "iopub.status.busy": "2023-02-27T14:55:12.244333Z",
     "iopub.status.idle": "2023-02-27T14:55:16.129848Z",
     "shell.execute_reply": "2023-02-27T14:55:16.128716Z"
    }
   },
   "outputs": [
    {
     "name": "stdout",
     "output_type": "stream",
     "text": [
      "47.9 µs ± 1.54 µs per loop (mean ± std. dev. of 7 runs, 10,000 loops each)\n"
     ]
    }
   ],
   "source": [
    "%timeit t_stack(trees)"
   ]
  },
  {
   "cell_type": "code",
   "execution_count": 22,
   "id": "94b56771",
   "metadata": {
    "execution": {
     "iopub.execute_input": "2023-02-27T14:55:16.133502Z",
     "iopub.status.busy": "2023-02-27T14:55:16.132975Z",
     "iopub.status.idle": "2023-02-27T14:55:16.142888Z",
     "shell.execute_reply": "2023-02-27T14:55:16.141843Z"
    }
   },
   "outputs": [
    {
     "data": {
      "text/plain": [
       "<FastTreeValue 0x7fbb1bbb6b80>\n",
       "├── 'a' --> tensor([[-1.2300,  0.4737, -1.7073],\n",
       "│                   [-2.1459,  0.0243,  1.4678],\n",
       "│                   [-1.2300,  0.4737, -1.7073],\n",
       "│                   [-2.1459,  0.0243,  1.4678],\n",
       "│                   [-1.2300,  0.4737, -1.7073],\n",
       "│                   [-2.1459,  0.0243,  1.4678],\n",
       "│                   [-1.2300,  0.4737, -1.7073],\n",
       "│                   [-2.1459,  0.0243,  1.4678],\n",
       "│                   [-1.2300,  0.4737, -1.7073],\n",
       "│                   [-2.1459,  0.0243,  1.4678],\n",
       "│                   [-1.2300,  0.4737, -1.7073],\n",
       "│                   [-2.1459,  0.0243,  1.4678],\n",
       "│                   [-1.2300,  0.4737, -1.7073],\n",
       "│                   [-2.1459,  0.0243,  1.4678],\n",
       "│                   [-1.2300,  0.4737, -1.7073],\n",
       "│                   [-2.1459,  0.0243,  1.4678]])\n",
       "└── 'x' --> <FastTreeValue 0x7fbb1b5e4f40>\n",
       "    └── 'c' --> tensor([[ 0.9088,  0.3269,  0.6333, -1.1087],\n",
       "                        [ 0.8734,  0.7349,  0.6809, -0.9307],\n",
       "                        [ 2.0375, -1.0453,  0.5688, -0.5259],\n",
       "                        [ 0.9088,  0.3269,  0.6333, -1.1087],\n",
       "                        [ 0.8734,  0.7349,  0.6809, -0.9307],\n",
       "                        [ 2.0375, -1.0453,  0.5688, -0.5259],\n",
       "                        [ 0.9088,  0.3269,  0.6333, -1.1087],\n",
       "                        [ 0.8734,  0.7349,  0.6809, -0.9307],\n",
       "                        [ 2.0375, -1.0453,  0.5688, -0.5259],\n",
       "                        [ 0.9088,  0.3269,  0.6333, -1.1087],\n",
       "                        [ 0.8734,  0.7349,  0.6809, -0.9307],\n",
       "                        [ 2.0375, -1.0453,  0.5688, -0.5259],\n",
       "                        [ 0.9088,  0.3269,  0.6333, -1.1087],\n",
       "                        [ 0.8734,  0.7349,  0.6809, -0.9307],\n",
       "                        [ 2.0375, -1.0453,  0.5688, -0.5259],\n",
       "                        [ 0.9088,  0.3269,  0.6333, -1.1087],\n",
       "                        [ 0.8734,  0.7349,  0.6809, -0.9307],\n",
       "                        [ 2.0375, -1.0453,  0.5688, -0.5259],\n",
       "                        [ 0.9088,  0.3269,  0.6333, -1.1087],\n",
       "                        [ 0.8734,  0.7349,  0.6809, -0.9307],\n",
       "                        [ 2.0375, -1.0453,  0.5688, -0.5259],\n",
       "                        [ 0.9088,  0.3269,  0.6333, -1.1087],\n",
       "                        [ 0.8734,  0.7349,  0.6809, -0.9307],\n",
       "                        [ 2.0375, -1.0453,  0.5688, -0.5259]])"
      ]
     },
     "execution_count": 22,
     "metadata": {},
     "output_type": "execute_result"
    }
   ],
   "source": [
    "t_cat = FastTreeValue.func(subside=True)(torch.cat)\n",
    "\n",
    "t_cat(trees)"
   ]
  },
  {
   "cell_type": "code",
   "execution_count": 23,
   "id": "5e9c06a6",
   "metadata": {
    "execution": {
     "iopub.execute_input": "2023-02-27T14:55:16.146024Z",
     "iopub.status.busy": "2023-02-27T14:55:16.145757Z",
     "iopub.status.idle": "2023-02-27T14:55:19.626080Z",
     "shell.execute_reply": "2023-02-27T14:55:19.625017Z"
    }
   },
   "outputs": [
    {
     "name": "stdout",
     "output_type": "stream",
     "text": [
      "43 µs ± 621 ns per loop (mean ± std. dev. of 7 runs, 10,000 loops each)\n"
     ]
    }
   ],
   "source": [
    "%timeit t_cat(trees)"
   ]
  },
  {
   "cell_type": "code",
   "execution_count": 24,
   "id": "a3ab5c8f",
   "metadata": {
    "execution": {
     "iopub.execute_input": "2023-02-27T14:55:19.629957Z",
     "iopub.status.busy": "2023-02-27T14:55:19.629401Z",
     "iopub.status.idle": "2023-02-27T14:55:26.532822Z",
     "shell.execute_reply": "2023-02-27T14:55:26.531596Z"
    }
   },
   "outputs": [
    {
     "name": "stdout",
     "output_type": "stream",
     "text": [
      "85.3 µs ± 1.54 µs per loop (mean ± std. dev. of 7 runs, 10,000 loops each)\n"
     ]
    }
   ],
   "source": [
    "t_split = FastTreeValue.func(rise=True)(torch.split)\n",
    "tree = FastTreeValue({\n",
    "    'obs': torch.randn(8, 4, 84, 84),\n",
    "    'action': torch.randint(0, 6, size=(8, 1,)),\n",
    "    'reward': torch.rand(8, 1),\n",
    "})\n",
    "\n",
    "%timeit t_split(tree, 1)"
   ]
  },
  {
   "cell_type": "markdown",
   "id": "31c3ec0b",
   "metadata": {},
   "source": [
    "### Performance of Tianshou Batch"
   ]
  },
  {
   "cell_type": "code",
   "execution_count": 25,
   "id": "9ead828a",
   "metadata": {
    "execution": {
     "iopub.execute_input": "2023-02-27T14:55:26.536599Z",
     "iopub.status.busy": "2023-02-27T14:55:26.536287Z",
     "iopub.status.idle": "2023-02-27T14:55:26.551430Z",
     "shell.execute_reply": "2023-02-27T14:55:26.550190Z"
    }
   },
   "outputs": [
    {
     "data": {
      "text/plain": [
       "Batch(\n",
       "    x: Batch(\n",
       "           c: tensor([[[ 0.9088,  0.3269,  0.6333, -1.1087],\n",
       "                       [ 0.8734,  0.7349,  0.6809, -0.9307],\n",
       "                       [ 2.0375, -1.0453,  0.5688, -0.5259]],\n",
       "              \n",
       "                      [[ 0.9088,  0.3269,  0.6333, -1.1087],\n",
       "                       [ 0.8734,  0.7349,  0.6809, -0.9307],\n",
       "                       [ 2.0375, -1.0453,  0.5688, -0.5259]],\n",
       "              \n",
       "                      [[ 0.9088,  0.3269,  0.6333, -1.1087],\n",
       "                       [ 0.8734,  0.7349,  0.6809, -0.9307],\n",
       "                       [ 2.0375, -1.0453,  0.5688, -0.5259]],\n",
       "              \n",
       "                      [[ 0.9088,  0.3269,  0.6333, -1.1087],\n",
       "                       [ 0.8734,  0.7349,  0.6809, -0.9307],\n",
       "                       [ 2.0375, -1.0453,  0.5688, -0.5259]],\n",
       "              \n",
       "                      [[ 0.9088,  0.3269,  0.6333, -1.1087],\n",
       "                       [ 0.8734,  0.7349,  0.6809, -0.9307],\n",
       "                       [ 2.0375, -1.0453,  0.5688, -0.5259]],\n",
       "              \n",
       "                      [[ 0.9088,  0.3269,  0.6333, -1.1087],\n",
       "                       [ 0.8734,  0.7349,  0.6809, -0.9307],\n",
       "                       [ 2.0375, -1.0453,  0.5688, -0.5259]],\n",
       "              \n",
       "                      [[ 0.9088,  0.3269,  0.6333, -1.1087],\n",
       "                       [ 0.8734,  0.7349,  0.6809, -0.9307],\n",
       "                       [ 2.0375, -1.0453,  0.5688, -0.5259]],\n",
       "              \n",
       "                      [[ 0.9088,  0.3269,  0.6333, -1.1087],\n",
       "                       [ 0.8734,  0.7349,  0.6809, -0.9307],\n",
       "                       [ 2.0375, -1.0453,  0.5688, -0.5259]]]),\n",
       "       ),\n",
       "    a: tensor([[[-1.2300,  0.4737, -1.7073],\n",
       "                [-2.1459,  0.0243,  1.4678]],\n",
       "       \n",
       "               [[-1.2300,  0.4737, -1.7073],\n",
       "                [-2.1459,  0.0243,  1.4678]],\n",
       "       \n",
       "               [[-1.2300,  0.4737, -1.7073],\n",
       "                [-2.1459,  0.0243,  1.4678]],\n",
       "       \n",
       "               [[-1.2300,  0.4737, -1.7073],\n",
       "                [-2.1459,  0.0243,  1.4678]],\n",
       "       \n",
       "               [[-1.2300,  0.4737, -1.7073],\n",
       "                [-2.1459,  0.0243,  1.4678]],\n",
       "       \n",
       "               [[-1.2300,  0.4737, -1.7073],\n",
       "                [-2.1459,  0.0243,  1.4678]],\n",
       "       \n",
       "               [[-1.2300,  0.4737, -1.7073],\n",
       "                [-2.1459,  0.0243,  1.4678]],\n",
       "       \n",
       "               [[-1.2300,  0.4737, -1.7073],\n",
       "                [-2.1459,  0.0243,  1.4678]]]),\n",
       ")"
      ]
     },
     "execution_count": 25,
     "metadata": {},
     "output_type": "execute_result"
    }
   ],
   "source": [
    "batches = [Batch(**_TREE_DATA_2) for _ in range(8)]\n",
    "\n",
    "Batch.stack(batches)"
   ]
  },
  {
   "cell_type": "code",
   "execution_count": 26,
   "id": "ec9037a3",
   "metadata": {
    "execution": {
     "iopub.execute_input": "2023-02-27T14:55:26.555668Z",
     "iopub.status.busy": "2023-02-27T14:55:26.555346Z",
     "iopub.status.idle": "2023-02-27T14:55:35.206511Z",
     "shell.execute_reply": "2023-02-27T14:55:35.205519Z"
    }
   },
   "outputs": [
    {
     "name": "stdout",
     "output_type": "stream",
     "text": [
      "106 µs ± 1.67 µs per loop (mean ± std. dev. of 7 runs, 10,000 loops each)\n"
     ]
    }
   ],
   "source": [
    "%timeit Batch.stack(batches)"
   ]
  },
  {
   "cell_type": "code",
   "execution_count": 27,
   "id": "cb8ab77e",
   "metadata": {
    "execution": {
     "iopub.execute_input": "2023-02-27T14:55:35.210062Z",
     "iopub.status.busy": "2023-02-27T14:55:35.209575Z",
     "iopub.status.idle": "2023-02-27T14:55:35.219379Z",
     "shell.execute_reply": "2023-02-27T14:55:35.218447Z"
    }
   },
   "outputs": [
    {
     "data": {
      "text/plain": [
       "Batch(\n",
       "    x: Batch(\n",
       "           c: tensor([[ 0.9088,  0.3269,  0.6333, -1.1087],\n",
       "                      [ 0.8734,  0.7349,  0.6809, -0.9307],\n",
       "                      [ 2.0375, -1.0453,  0.5688, -0.5259],\n",
       "                      [ 0.9088,  0.3269,  0.6333, -1.1087],\n",
       "                      [ 0.8734,  0.7349,  0.6809, -0.9307],\n",
       "                      [ 2.0375, -1.0453,  0.5688, -0.5259],\n",
       "                      [ 0.9088,  0.3269,  0.6333, -1.1087],\n",
       "                      [ 0.8734,  0.7349,  0.6809, -0.9307],\n",
       "                      [ 2.0375, -1.0453,  0.5688, -0.5259],\n",
       "                      [ 0.9088,  0.3269,  0.6333, -1.1087],\n",
       "                      [ 0.8734,  0.7349,  0.6809, -0.9307],\n",
       "                      [ 2.0375, -1.0453,  0.5688, -0.5259],\n",
       "                      [ 0.9088,  0.3269,  0.6333, -1.1087],\n",
       "                      [ 0.8734,  0.7349,  0.6809, -0.9307],\n",
       "                      [ 2.0375, -1.0453,  0.5688, -0.5259],\n",
       "                      [ 0.9088,  0.3269,  0.6333, -1.1087],\n",
       "                      [ 0.8734,  0.7349,  0.6809, -0.9307],\n",
       "                      [ 2.0375, -1.0453,  0.5688, -0.5259],\n",
       "                      [ 0.9088,  0.3269,  0.6333, -1.1087],\n",
       "                      [ 0.8734,  0.7349,  0.6809, -0.9307],\n",
       "                      [ 2.0375, -1.0453,  0.5688, -0.5259],\n",
       "                      [ 0.9088,  0.3269,  0.6333, -1.1087],\n",
       "                      [ 0.8734,  0.7349,  0.6809, -0.9307],\n",
       "                      [ 2.0375, -1.0453,  0.5688, -0.5259]]),\n",
       "       ),\n",
       "    a: tensor([[-1.2300,  0.4737, -1.7073],\n",
       "               [-2.1459,  0.0243,  1.4678],\n",
       "               [-1.2300,  0.4737, -1.7073],\n",
       "               [-2.1459,  0.0243,  1.4678],\n",
       "               [-1.2300,  0.4737, -1.7073],\n",
       "               [-2.1459,  0.0243,  1.4678],\n",
       "               [-1.2300,  0.4737, -1.7073],\n",
       "               [-2.1459,  0.0243,  1.4678],\n",
       "               [-1.2300,  0.4737, -1.7073],\n",
       "               [-2.1459,  0.0243,  1.4678],\n",
       "               [-1.2300,  0.4737, -1.7073],\n",
       "               [-2.1459,  0.0243,  1.4678],\n",
       "               [-1.2300,  0.4737, -1.7073],\n",
       "               [-2.1459,  0.0243,  1.4678],\n",
       "               [-1.2300,  0.4737, -1.7073],\n",
       "               [-2.1459,  0.0243,  1.4678]]),\n",
       ")"
      ]
     },
     "execution_count": 27,
     "metadata": {},
     "output_type": "execute_result"
    }
   ],
   "source": [
    "Batch.cat(batches)"
   ]
  },
  {
   "cell_type": "code",
   "execution_count": 28,
   "id": "18dfb045",
   "metadata": {
    "execution": {
     "iopub.execute_input": "2023-02-27T14:55:35.222892Z",
     "iopub.status.busy": "2023-02-27T14:55:35.222370Z",
     "iopub.status.idle": "2023-02-27T14:55:37.203925Z",
     "shell.execute_reply": "2023-02-27T14:55:37.202468Z"
    }
   },
   "outputs": [
    {
     "name": "stdout",
     "output_type": "stream",
     "text": [
      "244 µs ± 9.11 µs per loop (mean ± std. dev. of 7 runs, 1,000 loops each)\n"
     ]
    }
   ],
   "source": [
    "%timeit Batch.cat(batches)"
   ]
  },
  {
   "cell_type": "code",
   "execution_count": 29,
   "id": "c6688e51",
   "metadata": {
    "execution": {
     "iopub.execute_input": "2023-02-27T14:55:37.207380Z",
     "iopub.status.busy": "2023-02-27T14:55:37.207083Z",
     "iopub.status.idle": "2023-02-27T14:55:42.162987Z",
     "shell.execute_reply": "2023-02-27T14:55:42.162048Z"
    }
   },
   "outputs": [
    {
     "name": "stdout",
     "output_type": "stream",
     "text": [
      "608 µs ± 10.3 µs per loop (mean ± std. dev. of 7 runs, 1,000 loops each)\n"
     ]
    }
   ],
   "source": [
    "batch = Batch({\n",
    "    'obs': torch.randn(8, 4, 84, 84),\n",
    "    'action': torch.randint(0, 6, size=(8, 1,)),\n",
    "    'reward': torch.rand(8, 1)}\n",
    ")\n",
    "\n",
    "%timeit list(Batch.split(batch, 1, shuffle=False, merge_last=True))"
   ]
  },
  {
   "cell_type": "code",
   "execution_count": null,
   "id": "2539fbd9",
   "metadata": {},
   "outputs": [],
   "source": []
  }
 ],
 "metadata": {
  "kernelspec": {
   "display_name": "Python 3 (ipykernel)",
   "language": "python",
   "name": "python3"
  },
  "language_info": {
   "codemirror_mode": {
    "name": "ipython",
    "version": 3
   },
   "file_extension": ".py",
   "mimetype": "text/x-python",
   "name": "python",
   "nbconvert_exporter": "python",
   "pygments_lexer": "ipython3",
   "version": "3.8.16"
  }
 },
 "nbformat": 4,
 "nbformat_minor": 5
}
