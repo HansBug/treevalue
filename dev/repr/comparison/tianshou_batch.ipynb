{
 "cells": [
  {
   "cell_type": "markdown",
   "id": "9d39d946",
   "metadata": {},
   "source": [
    "# Comparison Between TreeValue and Tianshou Batch"
   ]
  },
  {
   "cell_type": "markdown",
   "id": "3c6db2d4",
   "metadata": {},
   "source": [
    "In this section, we will take a look at the feature and performance of the [Tianshou Batch](https://github.com/thu-ml/tianshou) library, which is developed by Tsinghua Machine Learning Group."
   ]
  },
  {
   "cell_type": "markdown",
   "id": "069361b0",
   "metadata": {},
   "source": [
    "Before starting the comparison, let us define some thing."
   ]
  },
  {
   "cell_type": "code",
   "execution_count": 1,
   "id": "06fc8d26",
   "metadata": {
    "execution": {
     "iopub.execute_input": "2023-02-25T09:11:02.285945Z",
     "iopub.status.busy": "2023-02-25T09:11:02.285186Z",
     "iopub.status.idle": "2023-02-25T09:11:03.537733Z",
     "shell.execute_reply": "2023-02-25T09:11:03.536651Z"
    }
   },
   "outputs": [
    {
     "name": "stderr",
     "output_type": "stream",
     "text": [
      "/opt/hostedtoolcache/Python/3.8.16/x64/lib/python3.8/site-packages/tqdm/auto.py:22: TqdmWarning: IProgress not found. Please update jupyter and ipywidgets. See https://ipywidgets.readthedocs.io/en/stable/user_install.html\n",
      "  from .autonotebook import tqdm as notebook_tqdm\n"
     ]
    }
   ],
   "source": [
    "import torch \n",
    "\n",
    "_TREE_DATA_1 = {'a': 1, 'b': 2, 'x': {'c': 3, 'd': 4}}\n",
    "_TREE_DATA_2 = {\n",
    "    'a': torch.randn(2, 3), \n",
    "    'x': {\n",
    "        'c': torch.randn(3, 4)\n",
    "    },\n",
    "}\n",
    "_TREE_DATA_3 = {\n",
    "    'obs': torch.randn(4, 84, 84),\n",
    "    'action': torch.randint(0, 6, size=(1,)),\n",
    "    'reward': torch.rand(1),\n",
    "}"
   ]
  },
  {
   "cell_type": "markdown",
   "id": "83461b25",
   "metadata": {},
   "source": [
    "## Read and Write Operation"
   ]
  },
  {
   "cell_type": "markdown",
   "id": "067b3f73",
   "metadata": {},
   "source": [
    "Reading and writing are the two most common operations in the tree data structure based on the data model (TreeValue and Tianshou Batch both belong to this type), so this section will compare the reading and writing performance of these two libraries."
   ]
  },
  {
   "cell_type": "markdown",
   "id": "5d09a5b7",
   "metadata": {},
   "source": [
    "### TreeValue's Get and Set"
   ]
  },
  {
   "cell_type": "code",
   "execution_count": 2,
   "id": "9519c4bb",
   "metadata": {
    "execution": {
     "iopub.execute_input": "2023-02-25T09:11:03.543694Z",
     "iopub.status.busy": "2023-02-25T09:11:03.543330Z",
     "iopub.status.idle": "2023-02-25T09:11:03.585432Z",
     "shell.execute_reply": "2023-02-25T09:11:03.584457Z"
    }
   },
   "outputs": [],
   "source": [
    "from treevalue import FastTreeValue\n",
    "\n",
    "t = FastTreeValue(_TREE_DATA_2)"
   ]
  },
  {
   "cell_type": "code",
   "execution_count": 3,
   "id": "11c37677",
   "metadata": {
    "execution": {
     "iopub.execute_input": "2023-02-25T09:11:03.588896Z",
     "iopub.status.busy": "2023-02-25T09:11:03.588608Z",
     "iopub.status.idle": "2023-02-25T09:11:03.599364Z",
     "shell.execute_reply": "2023-02-25T09:11:03.598407Z"
    }
   },
   "outputs": [
    {
     "data": {
      "text/plain": [
       "<FastTreeValue 0x7fe3782cbeb0>\n",
       "├── 'a' --> tensor([[ 1.5792, -1.2659, -0.0574],\n",
       "│                   [-1.1537,  0.4559, -1.4980]])\n",
       "└── 'x' --> <FastTreeValue 0x7fe3782cb550>\n",
       "    └── 'c' --> tensor([[ 0.7273,  1.4121, -0.4545, -0.4050],\n",
       "                        [-0.0544,  1.1466, -0.6517,  0.6267],\n",
       "                        [ 0.2717, -1.3464,  0.4923,  0.1415]])"
      ]
     },
     "execution_count": 3,
     "metadata": {},
     "output_type": "execute_result"
    }
   ],
   "source": [
    "t"
   ]
  },
  {
   "cell_type": "code",
   "execution_count": 4,
   "id": "fd70b0b9",
   "metadata": {
    "execution": {
     "iopub.execute_input": "2023-02-25T09:11:03.602889Z",
     "iopub.status.busy": "2023-02-25T09:11:03.602640Z",
     "iopub.status.idle": "2023-02-25T09:11:03.608757Z",
     "shell.execute_reply": "2023-02-25T09:11:03.607859Z"
    }
   },
   "outputs": [
    {
     "data": {
      "text/plain": [
       "tensor([[ 1.5792, -1.2659, -0.0574],\n",
       "        [-1.1537,  0.4559, -1.4980]])"
      ]
     },
     "execution_count": 4,
     "metadata": {},
     "output_type": "execute_result"
    }
   ],
   "source": [
    "t.a"
   ]
  },
  {
   "cell_type": "code",
   "execution_count": 5,
   "id": "c18197bd",
   "metadata": {
    "execution": {
     "iopub.execute_input": "2023-02-25T09:11:03.612271Z",
     "iopub.status.busy": "2023-02-25T09:11:03.611982Z",
     "iopub.status.idle": "2023-02-25T09:11:09.769136Z",
     "shell.execute_reply": "2023-02-25T09:11:09.768153Z"
    }
   },
   "outputs": [
    {
     "name": "stdout",
     "output_type": "stream",
     "text": [
      "76 ns ± 1.1 ns per loop (mean ± std. dev. of 7 runs, 10,000,000 loops each)\n"
     ]
    }
   ],
   "source": [
    "%timeit t.a"
   ]
  },
  {
   "cell_type": "code",
   "execution_count": 6,
   "id": "bd52f867",
   "metadata": {
    "execution": {
     "iopub.execute_input": "2023-02-25T09:11:09.772737Z",
     "iopub.status.busy": "2023-02-25T09:11:09.772316Z",
     "iopub.status.idle": "2023-02-25T09:11:09.781410Z",
     "shell.execute_reply": "2023-02-25T09:11:09.780116Z"
    }
   },
   "outputs": [
    {
     "data": {
      "text/plain": [
       "<FastTreeValue 0x7fe3782cbeb0>\n",
       "├── 'a' --> tensor([[ 0.7178,  1.1009, -0.5209],\n",
       "│                   [-0.9275,  0.1518,  1.7561]])\n",
       "└── 'x' --> <FastTreeValue 0x7fe3782cb550>\n",
       "    └── 'c' --> tensor([[ 0.7273,  1.4121, -0.4545, -0.4050],\n",
       "                        [-0.0544,  1.1466, -0.6517,  0.6267],\n",
       "                        [ 0.2717, -1.3464,  0.4923,  0.1415]])"
      ]
     },
     "execution_count": 6,
     "metadata": {},
     "output_type": "execute_result"
    }
   ],
   "source": [
    "new_value = torch.randn(2, 3)\n",
    "t.a = new_value\n",
    "\n",
    "t"
   ]
  },
  {
   "cell_type": "code",
   "execution_count": 7,
   "id": "bbe04d1c",
   "metadata": {
    "execution": {
     "iopub.execute_input": "2023-02-25T09:11:09.784826Z",
     "iopub.status.busy": "2023-02-25T09:11:09.784391Z",
     "iopub.status.idle": "2023-02-25T09:11:16.210548Z",
     "shell.execute_reply": "2023-02-25T09:11:16.209544Z"
    }
   },
   "outputs": [
    {
     "name": "stdout",
     "output_type": "stream",
     "text": [
      "79 ns ± 0.819 ns per loop (mean ± std. dev. of 7 runs, 10,000,000 loops each)\n"
     ]
    }
   ],
   "source": [
    "%timeit t.a = new_value"
   ]
  },
  {
   "cell_type": "markdown",
   "id": "48c49731",
   "metadata": {},
   "source": [
    "### Tianshou Batch's Get and Set"
   ]
  },
  {
   "cell_type": "code",
   "execution_count": 8,
   "id": "f1bb14c1",
   "metadata": {
    "execution": {
     "iopub.execute_input": "2023-02-25T09:11:16.213877Z",
     "iopub.status.busy": "2023-02-25T09:11:16.213586Z",
     "iopub.status.idle": "2023-02-25T09:11:16.657198Z",
     "shell.execute_reply": "2023-02-25T09:11:16.656211Z"
    }
   },
   "outputs": [],
   "source": [
    "from tianshou.data import Batch\n",
    "\n",
    "b = Batch(**_TREE_DATA_2)"
   ]
  },
  {
   "cell_type": "code",
   "execution_count": 9,
   "id": "cb0777c3",
   "metadata": {
    "execution": {
     "iopub.execute_input": "2023-02-25T09:11:16.661005Z",
     "iopub.status.busy": "2023-02-25T09:11:16.660605Z",
     "iopub.status.idle": "2023-02-25T09:11:16.669175Z",
     "shell.execute_reply": "2023-02-25T09:11:16.668301Z"
    }
   },
   "outputs": [
    {
     "data": {
      "text/plain": [
       "Batch(\n",
       "    a: tensor([[ 1.5792, -1.2659, -0.0574],\n",
       "               [-1.1537,  0.4559, -1.4980]]),\n",
       "    x: Batch(\n",
       "           c: tensor([[ 0.7273,  1.4121, -0.4545, -0.4050],\n",
       "                      [-0.0544,  1.1466, -0.6517,  0.6267],\n",
       "                      [ 0.2717, -1.3464,  0.4923,  0.1415]]),\n",
       "       ),\n",
       ")"
      ]
     },
     "execution_count": 9,
     "metadata": {},
     "output_type": "execute_result"
    }
   ],
   "source": [
    "b"
   ]
  },
  {
   "cell_type": "code",
   "execution_count": 10,
   "id": "43ef8ea3",
   "metadata": {
    "execution": {
     "iopub.execute_input": "2023-02-25T09:11:16.673580Z",
     "iopub.status.busy": "2023-02-25T09:11:16.673324Z",
     "iopub.status.idle": "2023-02-25T09:11:16.679043Z",
     "shell.execute_reply": "2023-02-25T09:11:16.678145Z"
    }
   },
   "outputs": [
    {
     "data": {
      "text/plain": [
       "tensor([[ 1.5792, -1.2659, -0.0574],\n",
       "        [-1.1537,  0.4559, -1.4980]])"
      ]
     },
     "execution_count": 10,
     "metadata": {},
     "output_type": "execute_result"
    }
   ],
   "source": [
    "b.a"
   ]
  },
  {
   "cell_type": "code",
   "execution_count": 11,
   "id": "b785ab72",
   "metadata": {
    "execution": {
     "iopub.execute_input": "2023-02-25T09:11:16.681920Z",
     "iopub.status.busy": "2023-02-25T09:11:16.681620Z",
     "iopub.status.idle": "2023-02-25T09:11:21.899143Z",
     "shell.execute_reply": "2023-02-25T09:11:21.897933Z"
    }
   },
   "outputs": [
    {
     "name": "stdout",
     "output_type": "stream",
     "text": [
      "64.4 ns ± 0.58 ns per loop (mean ± std. dev. of 7 runs, 10,000,000 loops each)\n"
     ]
    }
   ],
   "source": [
    "%timeit b.a"
   ]
  },
  {
   "cell_type": "code",
   "execution_count": 12,
   "id": "ad54dc69",
   "metadata": {
    "execution": {
     "iopub.execute_input": "2023-02-25T09:11:21.902470Z",
     "iopub.status.busy": "2023-02-25T09:11:21.902177Z",
     "iopub.status.idle": "2023-02-25T09:11:21.910770Z",
     "shell.execute_reply": "2023-02-25T09:11:21.909823Z"
    }
   },
   "outputs": [
    {
     "data": {
      "text/plain": [
       "Batch(\n",
       "    a: tensor([[-0.2396,  1.2687,  0.3151],\n",
       "               [ 1.5872, -1.2582,  0.0917]]),\n",
       "    x: Batch(\n",
       "           c: tensor([[ 0.7273,  1.4121, -0.4545, -0.4050],\n",
       "                      [-0.0544,  1.1466, -0.6517,  0.6267],\n",
       "                      [ 0.2717, -1.3464,  0.4923,  0.1415]]),\n",
       "       ),\n",
       ")"
      ]
     },
     "execution_count": 12,
     "metadata": {},
     "output_type": "execute_result"
    }
   ],
   "source": [
    "new_value = torch.randn(2, 3)\n",
    "b.a = new_value\n",
    "\n",
    "b"
   ]
  },
  {
   "cell_type": "code",
   "execution_count": 13,
   "id": "29b1d0bf",
   "metadata": {
    "execution": {
     "iopub.execute_input": "2023-02-25T09:11:21.914228Z",
     "iopub.status.busy": "2023-02-25T09:11:21.913929Z",
     "iopub.status.idle": "2023-02-25T09:11:26.859762Z",
     "shell.execute_reply": "2023-02-25T09:11:26.858697Z"
    }
   },
   "outputs": [
    {
     "name": "stdout",
     "output_type": "stream",
     "text": [
      "606 ns ± 5.66 ns per loop (mean ± std. dev. of 7 runs, 1,000,000 loops each)\n"
     ]
    }
   ],
   "source": [
    "%timeit b.a = new_value"
   ]
  },
  {
   "cell_type": "markdown",
   "id": "b61ad1d0",
   "metadata": {},
   "source": [
    "## Initialization"
   ]
  },
  {
   "cell_type": "markdown",
   "id": "d70f0d54",
   "metadata": {},
   "source": [
    "### TreeValue's Initialization"
   ]
  },
  {
   "cell_type": "code",
   "execution_count": 14,
   "id": "d32a679b",
   "metadata": {
    "execution": {
     "iopub.execute_input": "2023-02-25T09:11:26.863518Z",
     "iopub.status.busy": "2023-02-25T09:11:26.862705Z",
     "iopub.status.idle": "2023-02-25T09:11:35.310767Z",
     "shell.execute_reply": "2023-02-25T09:11:35.309759Z"
    }
   },
   "outputs": [
    {
     "name": "stdout",
     "output_type": "stream",
     "text": [
      "1.04 µs ± 11.3 ns per loop (mean ± std. dev. of 7 runs, 1,000,000 loops each)\n"
     ]
    }
   ],
   "source": [
    "%timeit FastTreeValue(_TREE_DATA_1)"
   ]
  },
  {
   "cell_type": "markdown",
   "id": "24f3707b",
   "metadata": {},
   "source": [
    "### Tianshou Batch's Initialization"
   ]
  },
  {
   "cell_type": "code",
   "execution_count": 15,
   "id": "ac3958df",
   "metadata": {
    "execution": {
     "iopub.execute_input": "2023-02-25T09:11:35.314337Z",
     "iopub.status.busy": "2023-02-25T09:11:35.313812Z",
     "iopub.status.idle": "2023-02-25T09:11:46.229411Z",
     "shell.execute_reply": "2023-02-25T09:11:46.228435Z"
    }
   },
   "outputs": [
    {
     "name": "stdout",
     "output_type": "stream",
     "text": [
      "13.5 µs ± 182 ns per loop (mean ± std. dev. of 7 runs, 100,000 loops each)\n"
     ]
    }
   ],
   "source": [
    "%timeit Batch(**_TREE_DATA_1)"
   ]
  },
  {
   "cell_type": "markdown",
   "id": "1ab82e2d",
   "metadata": {},
   "source": [
    "## Deep Copy Operation"
   ]
  },
  {
   "cell_type": "code",
   "execution_count": 16,
   "id": "210a9442",
   "metadata": {
    "execution": {
     "iopub.execute_input": "2023-02-25T09:11:46.233023Z",
     "iopub.status.busy": "2023-02-25T09:11:46.232574Z",
     "iopub.status.idle": "2023-02-25T09:11:46.239071Z",
     "shell.execute_reply": "2023-02-25T09:11:46.238030Z"
    }
   },
   "outputs": [],
   "source": [
    "import copy"
   ]
  },
  {
   "cell_type": "markdown",
   "id": "5a736274",
   "metadata": {},
   "source": [
    "### Deep Copy of TreeValue"
   ]
  },
  {
   "cell_type": "code",
   "execution_count": 17,
   "id": "f9bcadd6",
   "metadata": {
    "execution": {
     "iopub.execute_input": "2023-02-25T09:11:46.242283Z",
     "iopub.status.busy": "2023-02-25T09:11:46.241820Z",
     "iopub.status.idle": "2023-02-25T09:11:48.560765Z",
     "shell.execute_reply": "2023-02-25T09:11:48.559691Z"
    }
   },
   "outputs": [
    {
     "name": "stdout",
     "output_type": "stream",
     "text": [
      "285 µs ± 16.3 µs per loop (mean ± std. dev. of 7 runs, 1,000 loops each)\n"
     ]
    }
   ],
   "source": [
    "t3 = FastTreeValue(_TREE_DATA_3)\n",
    "%timeit copy.deepcopy(t3)"
   ]
  },
  {
   "cell_type": "markdown",
   "id": "bf8be7ea",
   "metadata": {},
   "source": [
    "### Deep Copy of Tianshou Batch"
   ]
  },
  {
   "cell_type": "code",
   "execution_count": 18,
   "id": "91998e6f",
   "metadata": {
    "execution": {
     "iopub.execute_input": "2023-02-25T09:11:48.564553Z",
     "iopub.status.busy": "2023-02-25T09:11:48.563656Z",
     "iopub.status.idle": "2023-02-25T09:11:50.865238Z",
     "shell.execute_reply": "2023-02-25T09:11:50.863962Z"
    }
   },
   "outputs": [
    {
     "name": "stdout",
     "output_type": "stream",
     "text": [
      "285 µs ± 17.1 µs per loop (mean ± std. dev. of 7 runs, 1,000 loops each)\n"
     ]
    }
   ],
   "source": [
    "b3 = Batch(**_TREE_DATA_3)\n",
    "%timeit copy.deepcopy(b3)"
   ]
  },
  {
   "cell_type": "markdown",
   "id": "223162fb",
   "metadata": {},
   "source": [
    "## Stack, Concat and Split Operation"
   ]
  },
  {
   "cell_type": "markdown",
   "id": "85fa4a73",
   "metadata": {},
   "source": [
    "### Performance of TreeValue"
   ]
  },
  {
   "cell_type": "code",
   "execution_count": 19,
   "id": "a0c2b697",
   "metadata": {
    "execution": {
     "iopub.execute_input": "2023-02-25T09:11:50.869056Z",
     "iopub.status.busy": "2023-02-25T09:11:50.868378Z",
     "iopub.status.idle": "2023-02-25T09:11:50.874315Z",
     "shell.execute_reply": "2023-02-25T09:11:50.873416Z"
    }
   },
   "outputs": [],
   "source": [
    "trees = [FastTreeValue(_TREE_DATA_2) for _ in range(8)]"
   ]
  },
  {
   "cell_type": "code",
   "execution_count": 20,
   "id": "017ea5a5",
   "metadata": {
    "execution": {
     "iopub.execute_input": "2023-02-25T09:11:50.877605Z",
     "iopub.status.busy": "2023-02-25T09:11:50.877336Z",
     "iopub.status.idle": "2023-02-25T09:11:50.887911Z",
     "shell.execute_reply": "2023-02-25T09:11:50.886861Z"
    }
   },
   "outputs": [
    {
     "data": {
      "text/plain": [
       "<FastTreeValue 0x7fe378215040>\n",
       "├── 'a' --> tensor([[[ 1.5792, -1.2659, -0.0574],\n",
       "│                    [-1.1537,  0.4559, -1.4980]],\n",
       "│           \n",
       "│                   [[ 1.5792, -1.2659, -0.0574],\n",
       "│                    [-1.1537,  0.4559, -1.4980]],\n",
       "│           \n",
       "│                   [[ 1.5792, -1.2659, -0.0574],\n",
       "│                    [-1.1537,  0.4559, -1.4980]],\n",
       "│           \n",
       "│                   [[ 1.5792, -1.2659, -0.0574],\n",
       "│                    [-1.1537,  0.4559, -1.4980]],\n",
       "│           \n",
       "│                   [[ 1.5792, -1.2659, -0.0574],\n",
       "│                    [-1.1537,  0.4559, -1.4980]],\n",
       "│           \n",
       "│                   [[ 1.5792, -1.2659, -0.0574],\n",
       "│                    [-1.1537,  0.4559, -1.4980]],\n",
       "│           \n",
       "│                   [[ 1.5792, -1.2659, -0.0574],\n",
       "│                    [-1.1537,  0.4559, -1.4980]],\n",
       "│           \n",
       "│                   [[ 1.5792, -1.2659, -0.0574],\n",
       "│                    [-1.1537,  0.4559, -1.4980]]])\n",
       "└── 'x' --> <FastTreeValue 0x7fe2ce5388e0>\n",
       "    └── 'c' --> tensor([[[ 0.7273,  1.4121, -0.4545, -0.4050],\n",
       "                         [-0.0544,  1.1466, -0.6517,  0.6267],\n",
       "                         [ 0.2717, -1.3464,  0.4923,  0.1415]],\n",
       "                \n",
       "                        [[ 0.7273,  1.4121, -0.4545, -0.4050],\n",
       "                         [-0.0544,  1.1466, -0.6517,  0.6267],\n",
       "                         [ 0.2717, -1.3464,  0.4923,  0.1415]],\n",
       "                \n",
       "                        [[ 0.7273,  1.4121, -0.4545, -0.4050],\n",
       "                         [-0.0544,  1.1466, -0.6517,  0.6267],\n",
       "                         [ 0.2717, -1.3464,  0.4923,  0.1415]],\n",
       "                \n",
       "                        [[ 0.7273,  1.4121, -0.4545, -0.4050],\n",
       "                         [-0.0544,  1.1466, -0.6517,  0.6267],\n",
       "                         [ 0.2717, -1.3464,  0.4923,  0.1415]],\n",
       "                \n",
       "                        [[ 0.7273,  1.4121, -0.4545, -0.4050],\n",
       "                         [-0.0544,  1.1466, -0.6517,  0.6267],\n",
       "                         [ 0.2717, -1.3464,  0.4923,  0.1415]],\n",
       "                \n",
       "                        [[ 0.7273,  1.4121, -0.4545, -0.4050],\n",
       "                         [-0.0544,  1.1466, -0.6517,  0.6267],\n",
       "                         [ 0.2717, -1.3464,  0.4923,  0.1415]],\n",
       "                \n",
       "                        [[ 0.7273,  1.4121, -0.4545, -0.4050],\n",
       "                         [-0.0544,  1.1466, -0.6517,  0.6267],\n",
       "                         [ 0.2717, -1.3464,  0.4923,  0.1415]],\n",
       "                \n",
       "                        [[ 0.7273,  1.4121, -0.4545, -0.4050],\n",
       "                         [-0.0544,  1.1466, -0.6517,  0.6267],\n",
       "                         [ 0.2717, -1.3464,  0.4923,  0.1415]]])"
      ]
     },
     "execution_count": 20,
     "metadata": {},
     "output_type": "execute_result"
    }
   ],
   "source": [
    "t_stack = FastTreeValue.func(subside=True)(torch.stack)\n",
    "\n",
    "t_stack(trees)"
   ]
  },
  {
   "cell_type": "code",
   "execution_count": 21,
   "id": "f8b3f415",
   "metadata": {
    "execution": {
     "iopub.execute_input": "2023-02-25T09:11:50.891332Z",
     "iopub.status.busy": "2023-02-25T09:11:50.890974Z",
     "iopub.status.idle": "2023-02-25T09:11:54.681619Z",
     "shell.execute_reply": "2023-02-25T09:11:54.680625Z"
    }
   },
   "outputs": [
    {
     "name": "stdout",
     "output_type": "stream",
     "text": [
      "45.9 µs ± 1.69 µs per loop (mean ± std. dev. of 7 runs, 10,000 loops each)\n"
     ]
    }
   ],
   "source": [
    "%timeit t_stack(trees)"
   ]
  },
  {
   "cell_type": "code",
   "execution_count": 22,
   "id": "94b56771",
   "metadata": {
    "execution": {
     "iopub.execute_input": "2023-02-25T09:11:54.685382Z",
     "iopub.status.busy": "2023-02-25T09:11:54.684865Z",
     "iopub.status.idle": "2023-02-25T09:11:54.694735Z",
     "shell.execute_reply": "2023-02-25T09:11:54.693879Z"
    }
   },
   "outputs": [
    {
     "data": {
      "text/plain": [
       "<FastTreeValue 0x7fe37825f6a0>\n",
       "├── 'a' --> tensor([[ 1.5792, -1.2659, -0.0574],\n",
       "│                   [-1.1537,  0.4559, -1.4980],\n",
       "│                   [ 1.5792, -1.2659, -0.0574],\n",
       "│                   [-1.1537,  0.4559, -1.4980],\n",
       "│                   [ 1.5792, -1.2659, -0.0574],\n",
       "│                   [-1.1537,  0.4559, -1.4980],\n",
       "│                   [ 1.5792, -1.2659, -0.0574],\n",
       "│                   [-1.1537,  0.4559, -1.4980],\n",
       "│                   [ 1.5792, -1.2659, -0.0574],\n",
       "│                   [-1.1537,  0.4559, -1.4980],\n",
       "│                   [ 1.5792, -1.2659, -0.0574],\n",
       "│                   [-1.1537,  0.4559, -1.4980],\n",
       "│                   [ 1.5792, -1.2659, -0.0574],\n",
       "│                   [-1.1537,  0.4559, -1.4980],\n",
       "│                   [ 1.5792, -1.2659, -0.0574],\n",
       "│                   [-1.1537,  0.4559, -1.4980]])\n",
       "└── 'x' --> <FastTreeValue 0x7fe2cdff7400>\n",
       "    └── 'c' --> tensor([[ 0.7273,  1.4121, -0.4545, -0.4050],\n",
       "                        [-0.0544,  1.1466, -0.6517,  0.6267],\n",
       "                        [ 0.2717, -1.3464,  0.4923,  0.1415],\n",
       "                        [ 0.7273,  1.4121, -0.4545, -0.4050],\n",
       "                        [-0.0544,  1.1466, -0.6517,  0.6267],\n",
       "                        [ 0.2717, -1.3464,  0.4923,  0.1415],\n",
       "                        [ 0.7273,  1.4121, -0.4545, -0.4050],\n",
       "                        [-0.0544,  1.1466, -0.6517,  0.6267],\n",
       "                        [ 0.2717, -1.3464,  0.4923,  0.1415],\n",
       "                        [ 0.7273,  1.4121, -0.4545, -0.4050],\n",
       "                        [-0.0544,  1.1466, -0.6517,  0.6267],\n",
       "                        [ 0.2717, -1.3464,  0.4923,  0.1415],\n",
       "                        [ 0.7273,  1.4121, -0.4545, -0.4050],\n",
       "                        [-0.0544,  1.1466, -0.6517,  0.6267],\n",
       "                        [ 0.2717, -1.3464,  0.4923,  0.1415],\n",
       "                        [ 0.7273,  1.4121, -0.4545, -0.4050],\n",
       "                        [-0.0544,  1.1466, -0.6517,  0.6267],\n",
       "                        [ 0.2717, -1.3464,  0.4923,  0.1415],\n",
       "                        [ 0.7273,  1.4121, -0.4545, -0.4050],\n",
       "                        [-0.0544,  1.1466, -0.6517,  0.6267],\n",
       "                        [ 0.2717, -1.3464,  0.4923,  0.1415],\n",
       "                        [ 0.7273,  1.4121, -0.4545, -0.4050],\n",
       "                        [-0.0544,  1.1466, -0.6517,  0.6267],\n",
       "                        [ 0.2717, -1.3464,  0.4923,  0.1415]])"
      ]
     },
     "execution_count": 22,
     "metadata": {},
     "output_type": "execute_result"
    }
   ],
   "source": [
    "t_cat = FastTreeValue.func(subside=True)(torch.cat)\n",
    "\n",
    "t_cat(trees)"
   ]
  },
  {
   "cell_type": "code",
   "execution_count": 23,
   "id": "5e9c06a6",
   "metadata": {
    "execution": {
     "iopub.execute_input": "2023-02-25T09:11:54.698282Z",
     "iopub.status.busy": "2023-02-25T09:11:54.697992Z",
     "iopub.status.idle": "2023-02-25T09:11:57.985299Z",
     "shell.execute_reply": "2023-02-25T09:11:57.984321Z"
    }
   },
   "outputs": [
    {
     "name": "stdout",
     "output_type": "stream",
     "text": [
      "40.3 µs ± 544 ns per loop (mean ± std. dev. of 7 runs, 10,000 loops each)\n"
     ]
    }
   ],
   "source": [
    "%timeit t_cat(trees)"
   ]
  },
  {
   "cell_type": "code",
   "execution_count": 24,
   "id": "a3ab5c8f",
   "metadata": {
    "execution": {
     "iopub.execute_input": "2023-02-25T09:11:57.989258Z",
     "iopub.status.busy": "2023-02-25T09:11:57.988411Z",
     "iopub.status.idle": "2023-02-25T09:12:04.819177Z",
     "shell.execute_reply": "2023-02-25T09:12:04.818210Z"
    }
   },
   "outputs": [
    {
     "name": "stdout",
     "output_type": "stream",
     "text": [
      "84.7 µs ± 4.36 µs per loop (mean ± std. dev. of 7 runs, 10,000 loops each)\n"
     ]
    }
   ],
   "source": [
    "t_split = FastTreeValue.func(rise=True)(torch.split)\n",
    "tree = FastTreeValue({\n",
    "    'obs': torch.randn(8, 4, 84, 84),\n",
    "    'action': torch.randint(0, 6, size=(8, 1,)),\n",
    "    'reward': torch.rand(8, 1),\n",
    "})\n",
    "\n",
    "%timeit t_split(tree, 1)"
   ]
  },
  {
   "cell_type": "markdown",
   "id": "31c3ec0b",
   "metadata": {},
   "source": [
    "### Performance of Tianshou Batch"
   ]
  },
  {
   "cell_type": "code",
   "execution_count": 25,
   "id": "9ead828a",
   "metadata": {
    "execution": {
     "iopub.execute_input": "2023-02-25T09:12:04.823219Z",
     "iopub.status.busy": "2023-02-25T09:12:04.822905Z",
     "iopub.status.idle": "2023-02-25T09:12:04.833170Z",
     "shell.execute_reply": "2023-02-25T09:12:04.832134Z"
    }
   },
   "outputs": [
    {
     "data": {
      "text/plain": [
       "Batch(\n",
       "    a: tensor([[[ 1.5792, -1.2659, -0.0574],\n",
       "                [-1.1537,  0.4559, -1.4980]],\n",
       "       \n",
       "               [[ 1.5792, -1.2659, -0.0574],\n",
       "                [-1.1537,  0.4559, -1.4980]],\n",
       "       \n",
       "               [[ 1.5792, -1.2659, -0.0574],\n",
       "                [-1.1537,  0.4559, -1.4980]],\n",
       "       \n",
       "               [[ 1.5792, -1.2659, -0.0574],\n",
       "                [-1.1537,  0.4559, -1.4980]],\n",
       "       \n",
       "               [[ 1.5792, -1.2659, -0.0574],\n",
       "                [-1.1537,  0.4559, -1.4980]],\n",
       "       \n",
       "               [[ 1.5792, -1.2659, -0.0574],\n",
       "                [-1.1537,  0.4559, -1.4980]],\n",
       "       \n",
       "               [[ 1.5792, -1.2659, -0.0574],\n",
       "                [-1.1537,  0.4559, -1.4980]],\n",
       "       \n",
       "               [[ 1.5792, -1.2659, -0.0574],\n",
       "                [-1.1537,  0.4559, -1.4980]]]),\n",
       "    x: Batch(\n",
       "           c: tensor([[[ 0.7273,  1.4121, -0.4545, -0.4050],\n",
       "                       [-0.0544,  1.1466, -0.6517,  0.6267],\n",
       "                       [ 0.2717, -1.3464,  0.4923,  0.1415]],\n",
       "              \n",
       "                      [[ 0.7273,  1.4121, -0.4545, -0.4050],\n",
       "                       [-0.0544,  1.1466, -0.6517,  0.6267],\n",
       "                       [ 0.2717, -1.3464,  0.4923,  0.1415]],\n",
       "              \n",
       "                      [[ 0.7273,  1.4121, -0.4545, -0.4050],\n",
       "                       [-0.0544,  1.1466, -0.6517,  0.6267],\n",
       "                       [ 0.2717, -1.3464,  0.4923,  0.1415]],\n",
       "              \n",
       "                      [[ 0.7273,  1.4121, -0.4545, -0.4050],\n",
       "                       [-0.0544,  1.1466, -0.6517,  0.6267],\n",
       "                       [ 0.2717, -1.3464,  0.4923,  0.1415]],\n",
       "              \n",
       "                      [[ 0.7273,  1.4121, -0.4545, -0.4050],\n",
       "                       [-0.0544,  1.1466, -0.6517,  0.6267],\n",
       "                       [ 0.2717, -1.3464,  0.4923,  0.1415]],\n",
       "              \n",
       "                      [[ 0.7273,  1.4121, -0.4545, -0.4050],\n",
       "                       [-0.0544,  1.1466, -0.6517,  0.6267],\n",
       "                       [ 0.2717, -1.3464,  0.4923,  0.1415]],\n",
       "              \n",
       "                      [[ 0.7273,  1.4121, -0.4545, -0.4050],\n",
       "                       [-0.0544,  1.1466, -0.6517,  0.6267],\n",
       "                       [ 0.2717, -1.3464,  0.4923,  0.1415]],\n",
       "              \n",
       "                      [[ 0.7273,  1.4121, -0.4545, -0.4050],\n",
       "                       [-0.0544,  1.1466, -0.6517,  0.6267],\n",
       "                       [ 0.2717, -1.3464,  0.4923,  0.1415]]]),\n",
       "       ),\n",
       ")"
      ]
     },
     "execution_count": 25,
     "metadata": {},
     "output_type": "execute_result"
    }
   ],
   "source": [
    "batches = [Batch(**_TREE_DATA_2) for _ in range(8)]\n",
    "\n",
    "Batch.stack(batches)"
   ]
  },
  {
   "cell_type": "code",
   "execution_count": 26,
   "id": "ec9037a3",
   "metadata": {
    "execution": {
     "iopub.execute_input": "2023-02-25T09:12:04.836875Z",
     "iopub.status.busy": "2023-02-25T09:12:04.836528Z",
     "iopub.status.idle": "2023-02-25T09:12:13.382360Z",
     "shell.execute_reply": "2023-02-25T09:12:13.381225Z"
    }
   },
   "outputs": [
    {
     "name": "stdout",
     "output_type": "stream",
     "text": [
      "104 µs ± 1.44 µs per loop (mean ± std. dev. of 7 runs, 10,000 loops each)\n"
     ]
    }
   ],
   "source": [
    "%timeit Batch.stack(batches)"
   ]
  },
  {
   "cell_type": "code",
   "execution_count": 27,
   "id": "cb8ab77e",
   "metadata": {
    "execution": {
     "iopub.execute_input": "2023-02-25T09:12:13.386018Z",
     "iopub.status.busy": "2023-02-25T09:12:13.385698Z",
     "iopub.status.idle": "2023-02-25T09:12:13.395354Z",
     "shell.execute_reply": "2023-02-25T09:12:13.394400Z"
    }
   },
   "outputs": [
    {
     "data": {
      "text/plain": [
       "Batch(\n",
       "    a: tensor([[ 1.5792, -1.2659, -0.0574],\n",
       "               [-1.1537,  0.4559, -1.4980],\n",
       "               [ 1.5792, -1.2659, -0.0574],\n",
       "               [-1.1537,  0.4559, -1.4980],\n",
       "               [ 1.5792, -1.2659, -0.0574],\n",
       "               [-1.1537,  0.4559, -1.4980],\n",
       "               [ 1.5792, -1.2659, -0.0574],\n",
       "               [-1.1537,  0.4559, -1.4980],\n",
       "               [ 1.5792, -1.2659, -0.0574],\n",
       "               [-1.1537,  0.4559, -1.4980],\n",
       "               [ 1.5792, -1.2659, -0.0574],\n",
       "               [-1.1537,  0.4559, -1.4980],\n",
       "               [ 1.5792, -1.2659, -0.0574],\n",
       "               [-1.1537,  0.4559, -1.4980],\n",
       "               [ 1.5792, -1.2659, -0.0574],\n",
       "               [-1.1537,  0.4559, -1.4980]]),\n",
       "    x: Batch(\n",
       "           c: tensor([[ 0.7273,  1.4121, -0.4545, -0.4050],\n",
       "                      [-0.0544,  1.1466, -0.6517,  0.6267],\n",
       "                      [ 0.2717, -1.3464,  0.4923,  0.1415],\n",
       "                      [ 0.7273,  1.4121, -0.4545, -0.4050],\n",
       "                      [-0.0544,  1.1466, -0.6517,  0.6267],\n",
       "                      [ 0.2717, -1.3464,  0.4923,  0.1415],\n",
       "                      [ 0.7273,  1.4121, -0.4545, -0.4050],\n",
       "                      [-0.0544,  1.1466, -0.6517,  0.6267],\n",
       "                      [ 0.2717, -1.3464,  0.4923,  0.1415],\n",
       "                      [ 0.7273,  1.4121, -0.4545, -0.4050],\n",
       "                      [-0.0544,  1.1466, -0.6517,  0.6267],\n",
       "                      [ 0.2717, -1.3464,  0.4923,  0.1415],\n",
       "                      [ 0.7273,  1.4121, -0.4545, -0.4050],\n",
       "                      [-0.0544,  1.1466, -0.6517,  0.6267],\n",
       "                      [ 0.2717, -1.3464,  0.4923,  0.1415],\n",
       "                      [ 0.7273,  1.4121, -0.4545, -0.4050],\n",
       "                      [-0.0544,  1.1466, -0.6517,  0.6267],\n",
       "                      [ 0.2717, -1.3464,  0.4923,  0.1415],\n",
       "                      [ 0.7273,  1.4121, -0.4545, -0.4050],\n",
       "                      [-0.0544,  1.1466, -0.6517,  0.6267],\n",
       "                      [ 0.2717, -1.3464,  0.4923,  0.1415],\n",
       "                      [ 0.7273,  1.4121, -0.4545, -0.4050],\n",
       "                      [-0.0544,  1.1466, -0.6517,  0.6267],\n",
       "                      [ 0.2717, -1.3464,  0.4923,  0.1415]]),\n",
       "       ),\n",
       ")"
      ]
     },
     "execution_count": 27,
     "metadata": {},
     "output_type": "execute_result"
    }
   ],
   "source": [
    "Batch.cat(batches)"
   ]
  },
  {
   "cell_type": "code",
   "execution_count": 28,
   "id": "18dfb045",
   "metadata": {
    "execution": {
     "iopub.execute_input": "2023-02-25T09:12:13.398584Z",
     "iopub.status.busy": "2023-02-25T09:12:13.398296Z",
     "iopub.status.idle": "2023-02-25T09:12:28.438586Z",
     "shell.execute_reply": "2023-02-25T09:12:28.437523Z"
    }
   },
   "outputs": [
    {
     "name": "stdout",
     "output_type": "stream",
     "text": [
      "185 µs ± 3.05 µs per loop (mean ± std. dev. of 7 runs, 10,000 loops each)\n"
     ]
    }
   ],
   "source": [
    "%timeit Batch.cat(batches)"
   ]
  },
  {
   "cell_type": "code",
   "execution_count": 29,
   "id": "c6688e51",
   "metadata": {
    "execution": {
     "iopub.execute_input": "2023-02-25T09:12:28.442198Z",
     "iopub.status.busy": "2023-02-25T09:12:28.441662Z",
     "iopub.status.idle": "2023-02-25T09:12:33.545202Z",
     "shell.execute_reply": "2023-02-25T09:12:33.544393Z"
    }
   },
   "outputs": [
    {
     "name": "stdout",
     "output_type": "stream",
     "text": [
      "617 µs ± 27.4 µs per loop (mean ± std. dev. of 7 runs, 1,000 loops each)\n"
     ]
    }
   ],
   "source": [
    "batch = Batch({\n",
    "    'obs': torch.randn(8, 4, 84, 84),\n",
    "    'action': torch.randint(0, 6, size=(8, 1,)),\n",
    "    'reward': torch.rand(8, 1)}\n",
    ")\n",
    "\n",
    "%timeit list(Batch.split(batch, 1, shuffle=False, merge_last=True))"
   ]
  },
  {
   "cell_type": "code",
   "execution_count": null,
   "id": "2539fbd9",
   "metadata": {},
   "outputs": [],
   "source": []
  }
 ],
 "metadata": {
  "kernelspec": {
   "display_name": "Python 3 (ipykernel)",
   "language": "python",
   "name": "python3"
  },
  "language_info": {
   "codemirror_mode": {
    "name": "ipython",
    "version": 3
   },
   "file_extension": ".py",
   "mimetype": "text/x-python",
   "name": "python",
   "nbconvert_exporter": "python",
   "pygments_lexer": "ipython3",
   "version": "3.8.16"
  }
 },
 "nbformat": 4,
 "nbformat_minor": 5
}
