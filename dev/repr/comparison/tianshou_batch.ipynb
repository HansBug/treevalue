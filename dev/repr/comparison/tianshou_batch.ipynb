{
 "cells": [
  {
   "cell_type": "markdown",
   "id": "9d39d946",
   "metadata": {},
   "source": [
    "# Comparison Between TreeValue and Tianshou Batch"
   ]
  },
  {
   "cell_type": "markdown",
   "id": "3c6db2d4",
   "metadata": {},
   "source": [
    "In this section, we will take a look at the feature and performance of the [Tianshou Batch](https://github.com/thu-ml/tianshou) library, which is developed by Tsinghua Machine Learning Group."
   ]
  },
  {
   "cell_type": "markdown",
   "id": "069361b0",
   "metadata": {},
   "source": [
    "Before starting the comparison, let us define some thing."
   ]
  },
  {
   "cell_type": "code",
   "execution_count": 1,
   "id": "06fc8d26",
   "metadata": {
    "execution": {
     "iopub.execute_input": "2023-02-27T12:43:22.530882Z",
     "iopub.status.busy": "2023-02-27T12:43:22.530647Z",
     "iopub.status.idle": "2023-02-27T12:43:23.429339Z",
     "shell.execute_reply": "2023-02-27T12:43:23.428661Z"
    }
   },
   "outputs": [
    {
     "name": "stderr",
     "output_type": "stream",
     "text": [
      "/opt/hostedtoolcache/Python/3.8.16/x64/lib/python3.8/site-packages/tqdm/auto.py:22: TqdmWarning: IProgress not found. Please update jupyter and ipywidgets. See https://ipywidgets.readthedocs.io/en/stable/user_install.html\n",
      "  from .autonotebook import tqdm as notebook_tqdm\n"
     ]
    }
   ],
   "source": [
    "import torch \n",
    "\n",
    "_TREE_DATA_1 = {'a': 1, 'b': 2, 'x': {'c': 3, 'd': 4}}\n",
    "_TREE_DATA_2 = {\n",
    "    'a': torch.randn(2, 3), \n",
    "    'x': {\n",
    "        'c': torch.randn(3, 4)\n",
    "    },\n",
    "}\n",
    "_TREE_DATA_3 = {\n",
    "    'obs': torch.randn(4, 84, 84),\n",
    "    'action': torch.randint(0, 6, size=(1,)),\n",
    "    'reward': torch.rand(1),\n",
    "}"
   ]
  },
  {
   "cell_type": "markdown",
   "id": "83461b25",
   "metadata": {},
   "source": [
    "## Read and Write Operation"
   ]
  },
  {
   "cell_type": "markdown",
   "id": "067b3f73",
   "metadata": {},
   "source": [
    "Reading and writing are the two most common operations in the tree data structure based on the data model (TreeValue and Tianshou Batch both belong to this type), so this section will compare the reading and writing performance of these two libraries."
   ]
  },
  {
   "cell_type": "markdown",
   "id": "5d09a5b7",
   "metadata": {},
   "source": [
    "### TreeValue's Get and Set"
   ]
  },
  {
   "cell_type": "code",
   "execution_count": 2,
   "id": "9519c4bb",
   "metadata": {
    "execution": {
     "iopub.execute_input": "2023-02-27T12:43:23.432762Z",
     "iopub.status.busy": "2023-02-27T12:43:23.432192Z",
     "iopub.status.idle": "2023-02-27T12:43:23.707827Z",
     "shell.execute_reply": "2023-02-27T12:43:23.707168Z"
    }
   },
   "outputs": [],
   "source": [
    "from treevalue import FastTreeValue\n",
    "\n",
    "t = FastTreeValue(_TREE_DATA_2)"
   ]
  },
  {
   "cell_type": "code",
   "execution_count": 3,
   "id": "11c37677",
   "metadata": {
    "execution": {
     "iopub.execute_input": "2023-02-27T12:43:23.710855Z",
     "iopub.status.busy": "2023-02-27T12:43:23.710361Z",
     "iopub.status.idle": "2023-02-27T12:43:23.719906Z",
     "shell.execute_reply": "2023-02-27T12:43:23.718979Z"
    }
   },
   "outputs": [
    {
     "data": {
      "text/plain": [
       "<FastTreeValue 0x7f139ffb0af0>\n",
       "├── 'a' --> tensor([[-0.5121, -0.8929,  0.2321],\n",
       "│                   [ 0.7583, -0.1613, -0.8999]])\n",
       "└── 'x' --> <FastTreeValue 0x7f139ff9c2b0>\n",
       "    └── 'c' --> tensor([[ 1.7852, -2.2130,  0.1380, -0.8892],\n",
       "                        [-2.3286, -0.8039, -0.1682, -0.2360],\n",
       "                        [ 0.5821, -0.5452, -0.2539, -0.6129]])"
      ]
     },
     "execution_count": 3,
     "metadata": {},
     "output_type": "execute_result"
    }
   ],
   "source": [
    "t"
   ]
  },
  {
   "cell_type": "code",
   "execution_count": 4,
   "id": "fd70b0b9",
   "metadata": {
    "execution": {
     "iopub.execute_input": "2023-02-27T12:43:23.722398Z",
     "iopub.status.busy": "2023-02-27T12:43:23.721995Z",
     "iopub.status.idle": "2023-02-27T12:43:23.726580Z",
     "shell.execute_reply": "2023-02-27T12:43:23.725989Z"
    }
   },
   "outputs": [
    {
     "data": {
      "text/plain": [
       "tensor([[-0.5121, -0.8929,  0.2321],\n",
       "        [ 0.7583, -0.1613, -0.8999]])"
      ]
     },
     "execution_count": 4,
     "metadata": {},
     "output_type": "execute_result"
    }
   ],
   "source": [
    "t.a"
   ]
  },
  {
   "cell_type": "code",
   "execution_count": 5,
   "id": "c18197bd",
   "metadata": {
    "execution": {
     "iopub.execute_input": "2023-02-27T12:43:23.729351Z",
     "iopub.status.busy": "2023-02-27T12:43:23.728863Z",
     "iopub.status.idle": "2023-02-27T12:43:28.842346Z",
     "shell.execute_reply": "2023-02-27T12:43:28.841557Z"
    }
   },
   "outputs": [
    {
     "name": "stdout",
     "output_type": "stream",
     "text": [
      "63 ns ± 0.0776 ns per loop (mean ± std. dev. of 7 runs, 10,000,000 loops each)\n"
     ]
    }
   ],
   "source": [
    "%timeit t.a"
   ]
  },
  {
   "cell_type": "code",
   "execution_count": 6,
   "id": "bd52f867",
   "metadata": {
    "execution": {
     "iopub.execute_input": "2023-02-27T12:43:28.845545Z",
     "iopub.status.busy": "2023-02-27T12:43:28.844947Z",
     "iopub.status.idle": "2023-02-27T12:43:28.852063Z",
     "shell.execute_reply": "2023-02-27T12:43:28.850972Z"
    }
   },
   "outputs": [
    {
     "data": {
      "text/plain": [
       "<FastTreeValue 0x7f139ffb0af0>\n",
       "├── 'a' --> tensor([[ 0.4015, -0.7458, -0.2354],\n",
       "│                   [ 1.3399, -0.3378,  0.1665]])\n",
       "└── 'x' --> <FastTreeValue 0x7f139ff9c2b0>\n",
       "    └── 'c' --> tensor([[ 1.7852, -2.2130,  0.1380, -0.8892],\n",
       "                        [-2.3286, -0.8039, -0.1682, -0.2360],\n",
       "                        [ 0.5821, -0.5452, -0.2539, -0.6129]])"
      ]
     },
     "execution_count": 6,
     "metadata": {},
     "output_type": "execute_result"
    }
   ],
   "source": [
    "new_value = torch.randn(2, 3)\n",
    "t.a = new_value\n",
    "\n",
    "t"
   ]
  },
  {
   "cell_type": "code",
   "execution_count": 7,
   "id": "bbe04d1c",
   "metadata": {
    "execution": {
     "iopub.execute_input": "2023-02-27T12:43:28.854426Z",
     "iopub.status.busy": "2023-02-27T12:43:28.854082Z",
     "iopub.status.idle": "2023-02-27T12:43:34.143286Z",
     "shell.execute_reply": "2023-02-27T12:43:34.142561Z"
    }
   },
   "outputs": [
    {
     "name": "stdout",
     "output_type": "stream",
     "text": [
      "65.4 ns ± 0.0767 ns per loop (mean ± std. dev. of 7 runs, 10,000,000 loops each)\n"
     ]
    }
   ],
   "source": [
    "%timeit t.a = new_value"
   ]
  },
  {
   "cell_type": "markdown",
   "id": "48c49731",
   "metadata": {},
   "source": [
    "### Tianshou Batch's Get and Set"
   ]
  },
  {
   "cell_type": "code",
   "execution_count": 8,
   "id": "f1bb14c1",
   "metadata": {
    "execution": {
     "iopub.execute_input": "2023-02-27T12:43:34.146537Z",
     "iopub.status.busy": "2023-02-27T12:43:34.145941Z",
     "iopub.status.idle": "2023-02-27T12:43:34.468840Z",
     "shell.execute_reply": "2023-02-27T12:43:34.468181Z"
    }
   },
   "outputs": [],
   "source": [
    "from tianshou.data import Batch\n",
    "\n",
    "b = Batch(**_TREE_DATA_2)"
   ]
  },
  {
   "cell_type": "code",
   "execution_count": 9,
   "id": "cb0777c3",
   "metadata": {
    "execution": {
     "iopub.execute_input": "2023-02-27T12:43:34.471852Z",
     "iopub.status.busy": "2023-02-27T12:43:34.471316Z",
     "iopub.status.idle": "2023-02-27T12:43:34.476560Z",
     "shell.execute_reply": "2023-02-27T12:43:34.475943Z"
    }
   },
   "outputs": [
    {
     "data": {
      "text/plain": [
       "Batch(\n",
       "    a: tensor([[-0.5121, -0.8929,  0.2321],\n",
       "               [ 0.7583, -0.1613, -0.8999]]),\n",
       "    x: Batch(\n",
       "           c: tensor([[ 1.7852, -2.2130,  0.1380, -0.8892],\n",
       "                      [-2.3286, -0.8039, -0.1682, -0.2360],\n",
       "                      [ 0.5821, -0.5452, -0.2539, -0.6129]]),\n",
       "       ),\n",
       ")"
      ]
     },
     "execution_count": 9,
     "metadata": {},
     "output_type": "execute_result"
    }
   ],
   "source": [
    "b"
   ]
  },
  {
   "cell_type": "code",
   "execution_count": 10,
   "id": "43ef8ea3",
   "metadata": {
    "execution": {
     "iopub.execute_input": "2023-02-27T12:43:34.478942Z",
     "iopub.status.busy": "2023-02-27T12:43:34.478600Z",
     "iopub.status.idle": "2023-02-27T12:43:34.483022Z",
     "shell.execute_reply": "2023-02-27T12:43:34.482415Z"
    }
   },
   "outputs": [
    {
     "data": {
      "text/plain": [
       "tensor([[-0.5121, -0.8929,  0.2321],\n",
       "        [ 0.7583, -0.1613, -0.8999]])"
      ]
     },
     "execution_count": 10,
     "metadata": {},
     "output_type": "execute_result"
    }
   ],
   "source": [
    "b.a"
   ]
  },
  {
   "cell_type": "code",
   "execution_count": 11,
   "id": "b785ab72",
   "metadata": {
    "execution": {
     "iopub.execute_input": "2023-02-27T12:43:34.485373Z",
     "iopub.status.busy": "2023-02-27T12:43:34.485034Z",
     "iopub.status.idle": "2023-02-27T12:43:39.462967Z",
     "shell.execute_reply": "2023-02-27T12:43:39.462212Z"
    }
   },
   "outputs": [
    {
     "name": "stdout",
     "output_type": "stream",
     "text": [
      "61.8 ns ± 0.0894 ns per loop (mean ± std. dev. of 7 runs, 10,000,000 loops each)\n"
     ]
    }
   ],
   "source": [
    "%timeit b.a"
   ]
  },
  {
   "cell_type": "code",
   "execution_count": 12,
   "id": "ad54dc69",
   "metadata": {
    "execution": {
     "iopub.execute_input": "2023-02-27T12:43:39.466069Z",
     "iopub.status.busy": "2023-02-27T12:43:39.465565Z",
     "iopub.status.idle": "2023-02-27T12:43:39.471963Z",
     "shell.execute_reply": "2023-02-27T12:43:39.471379Z"
    }
   },
   "outputs": [
    {
     "data": {
      "text/plain": [
       "Batch(\n",
       "    a: tensor([[ 1.5200,  1.5257, -1.2147],\n",
       "               [-1.7584,  0.3965, -1.0849]]),\n",
       "    x: Batch(\n",
       "           c: tensor([[ 1.7852, -2.2130,  0.1380, -0.8892],\n",
       "                      [-2.3286, -0.8039, -0.1682, -0.2360],\n",
       "                      [ 0.5821, -0.5452, -0.2539, -0.6129]]),\n",
       "       ),\n",
       ")"
      ]
     },
     "execution_count": 12,
     "metadata": {},
     "output_type": "execute_result"
    }
   ],
   "source": [
    "new_value = torch.randn(2, 3)\n",
    "b.a = new_value\n",
    "\n",
    "b"
   ]
  },
  {
   "cell_type": "code",
   "execution_count": 13,
   "id": "29b1d0bf",
   "metadata": {
    "execution": {
     "iopub.execute_input": "2023-02-27T12:43:39.474597Z",
     "iopub.status.busy": "2023-02-27T12:43:39.473980Z",
     "iopub.status.idle": "2023-02-27T12:43:43.426297Z",
     "shell.execute_reply": "2023-02-27T12:43:43.425565Z"
    }
   },
   "outputs": [
    {
     "name": "stdout",
     "output_type": "stream",
     "text": [
      "487 ns ± 0.0657 ns per loop (mean ± std. dev. of 7 runs, 1,000,000 loops each)\n"
     ]
    }
   ],
   "source": [
    "%timeit b.a = new_value"
   ]
  },
  {
   "cell_type": "markdown",
   "id": "b61ad1d0",
   "metadata": {},
   "source": [
    "## Initialization"
   ]
  },
  {
   "cell_type": "markdown",
   "id": "d70f0d54",
   "metadata": {},
   "source": [
    "### TreeValue's Initialization"
   ]
  },
  {
   "cell_type": "code",
   "execution_count": 14,
   "id": "d32a679b",
   "metadata": {
    "execution": {
     "iopub.execute_input": "2023-02-27T12:43:43.429576Z",
     "iopub.status.busy": "2023-02-27T12:43:43.428985Z",
     "iopub.status.idle": "2023-02-27T12:43:50.425488Z",
     "shell.execute_reply": "2023-02-27T12:43:50.424732Z"
    }
   },
   "outputs": [
    {
     "name": "stdout",
     "output_type": "stream",
     "text": [
      "865 ns ± 21.4 ns per loop (mean ± std. dev. of 7 runs, 1,000,000 loops each)\n"
     ]
    }
   ],
   "source": [
    "%timeit FastTreeValue(_TREE_DATA_1)"
   ]
  },
  {
   "cell_type": "markdown",
   "id": "24f3707b",
   "metadata": {},
   "source": [
    "### Tianshou Batch's Initialization"
   ]
  },
  {
   "cell_type": "code",
   "execution_count": 15,
   "id": "ac3958df",
   "metadata": {
    "execution": {
     "iopub.execute_input": "2023-02-27T12:43:50.428468Z",
     "iopub.status.busy": "2023-02-27T12:43:50.428113Z",
     "iopub.status.idle": "2023-02-27T12:43:59.623805Z",
     "shell.execute_reply": "2023-02-27T12:43:59.623062Z"
    }
   },
   "outputs": [
    {
     "name": "stdout",
     "output_type": "stream",
     "text": [
      "11.3 µs ± 17 ns per loop (mean ± std. dev. of 7 runs, 100,000 loops each)\n"
     ]
    }
   ],
   "source": [
    "%timeit Batch(**_TREE_DATA_1)"
   ]
  },
  {
   "cell_type": "markdown",
   "id": "1ab82e2d",
   "metadata": {},
   "source": [
    "## Deep Copy Operation"
   ]
  },
  {
   "cell_type": "code",
   "execution_count": 16,
   "id": "210a9442",
   "metadata": {
    "execution": {
     "iopub.execute_input": "2023-02-27T12:43:59.626913Z",
     "iopub.status.busy": "2023-02-27T12:43:59.626561Z",
     "iopub.status.idle": "2023-02-27T12:43:59.630918Z",
     "shell.execute_reply": "2023-02-27T12:43:59.629954Z"
    }
   },
   "outputs": [],
   "source": [
    "import copy"
   ]
  },
  {
   "cell_type": "markdown",
   "id": "5a736274",
   "metadata": {},
   "source": [
    "### Deep Copy of TreeValue"
   ]
  },
  {
   "cell_type": "code",
   "execution_count": 17,
   "id": "f9bcadd6",
   "metadata": {
    "execution": {
     "iopub.execute_input": "2023-02-27T12:43:59.633802Z",
     "iopub.status.busy": "2023-02-27T12:43:59.633313Z",
     "iopub.status.idle": "2023-02-27T12:44:10.719233Z",
     "shell.execute_reply": "2023-02-27T12:44:10.718667Z"
    }
   },
   "outputs": [
    {
     "name": "stdout",
     "output_type": "stream",
     "text": [
      "137 µs ± 1.48 µs per loop (mean ± std. dev. of 7 runs, 10,000 loops each)\n"
     ]
    }
   ],
   "source": [
    "t3 = FastTreeValue(_TREE_DATA_3)\n",
    "%timeit copy.deepcopy(t3)"
   ]
  },
  {
   "cell_type": "markdown",
   "id": "bf8be7ea",
   "metadata": {},
   "source": [
    "### Deep Copy of Tianshou Batch"
   ]
  },
  {
   "cell_type": "code",
   "execution_count": 18,
   "id": "91998e6f",
   "metadata": {
    "execution": {
     "iopub.execute_input": "2023-02-27T12:44:10.722098Z",
     "iopub.status.busy": "2023-02-27T12:44:10.721486Z",
     "iopub.status.idle": "2023-02-27T12:44:21.954604Z",
     "shell.execute_reply": "2023-02-27T12:44:21.954031Z"
    }
   },
   "outputs": [
    {
     "name": "stdout",
     "output_type": "stream",
     "text": [
      "138 µs ± 501 ns per loop (mean ± std. dev. of 7 runs, 10,000 loops each)\n"
     ]
    }
   ],
   "source": [
    "b3 = Batch(**_TREE_DATA_3)\n",
    "%timeit copy.deepcopy(b3)"
   ]
  },
  {
   "cell_type": "markdown",
   "id": "223162fb",
   "metadata": {},
   "source": [
    "## Stack, Concat and Split Operation"
   ]
  },
  {
   "cell_type": "markdown",
   "id": "85fa4a73",
   "metadata": {},
   "source": [
    "### Performance of TreeValue"
   ]
  },
  {
   "cell_type": "code",
   "execution_count": 19,
   "id": "a0c2b697",
   "metadata": {
    "execution": {
     "iopub.execute_input": "2023-02-27T12:44:21.957610Z",
     "iopub.status.busy": "2023-02-27T12:44:21.956911Z",
     "iopub.status.idle": "2023-02-27T12:44:21.960288Z",
     "shell.execute_reply": "2023-02-27T12:44:21.959769Z"
    }
   },
   "outputs": [],
   "source": [
    "trees = [FastTreeValue(_TREE_DATA_2) for _ in range(8)]"
   ]
  },
  {
   "cell_type": "code",
   "execution_count": 20,
   "id": "017ea5a5",
   "metadata": {
    "execution": {
     "iopub.execute_input": "2023-02-27T12:44:21.963081Z",
     "iopub.status.busy": "2023-02-27T12:44:21.962531Z",
     "iopub.status.idle": "2023-02-27T12:44:21.969639Z",
     "shell.execute_reply": "2023-02-27T12:44:21.969036Z"
    }
   },
   "outputs": [
    {
     "data": {
      "text/plain": [
       "<FastTreeValue 0x7f13c88550a0>\n",
       "├── 'a' --> tensor([[[-0.5121, -0.8929,  0.2321],\n",
       "│                    [ 0.7583, -0.1613, -0.8999]],\n",
       "│           \n",
       "│                   [[-0.5121, -0.8929,  0.2321],\n",
       "│                    [ 0.7583, -0.1613, -0.8999]],\n",
       "│           \n",
       "│                   [[-0.5121, -0.8929,  0.2321],\n",
       "│                    [ 0.7583, -0.1613, -0.8999]],\n",
       "│           \n",
       "│                   [[-0.5121, -0.8929,  0.2321],\n",
       "│                    [ 0.7583, -0.1613, -0.8999]],\n",
       "│           \n",
       "│                   [[-0.5121, -0.8929,  0.2321],\n",
       "│                    [ 0.7583, -0.1613, -0.8999]],\n",
       "│           \n",
       "│                   [[-0.5121, -0.8929,  0.2321],\n",
       "│                    [ 0.7583, -0.1613, -0.8999]],\n",
       "│           \n",
       "│                   [[-0.5121, -0.8929,  0.2321],\n",
       "│                    [ 0.7583, -0.1613, -0.8999]],\n",
       "│           \n",
       "│                   [[-0.5121, -0.8929,  0.2321],\n",
       "│                    [ 0.7583, -0.1613, -0.8999]]])\n",
       "└── 'x' --> <FastTreeValue 0x7f13c88bac70>\n",
       "    └── 'c' --> tensor([[[ 1.7852, -2.2130,  0.1380, -0.8892],\n",
       "                         [-2.3286, -0.8039, -0.1682, -0.2360],\n",
       "                         [ 0.5821, -0.5452, -0.2539, -0.6129]],\n",
       "                \n",
       "                        [[ 1.7852, -2.2130,  0.1380, -0.8892],\n",
       "                         [-2.3286, -0.8039, -0.1682, -0.2360],\n",
       "                         [ 0.5821, -0.5452, -0.2539, -0.6129]],\n",
       "                \n",
       "                        [[ 1.7852, -2.2130,  0.1380, -0.8892],\n",
       "                         [-2.3286, -0.8039, -0.1682, -0.2360],\n",
       "                         [ 0.5821, -0.5452, -0.2539, -0.6129]],\n",
       "                \n",
       "                        [[ 1.7852, -2.2130,  0.1380, -0.8892],\n",
       "                         [-2.3286, -0.8039, -0.1682, -0.2360],\n",
       "                         [ 0.5821, -0.5452, -0.2539, -0.6129]],\n",
       "                \n",
       "                        [[ 1.7852, -2.2130,  0.1380, -0.8892],\n",
       "                         [-2.3286, -0.8039, -0.1682, -0.2360],\n",
       "                         [ 0.5821, -0.5452, -0.2539, -0.6129]],\n",
       "                \n",
       "                        [[ 1.7852, -2.2130,  0.1380, -0.8892],\n",
       "                         [-2.3286, -0.8039, -0.1682, -0.2360],\n",
       "                         [ 0.5821, -0.5452, -0.2539, -0.6129]],\n",
       "                \n",
       "                        [[ 1.7852, -2.2130,  0.1380, -0.8892],\n",
       "                         [-2.3286, -0.8039, -0.1682, -0.2360],\n",
       "                         [ 0.5821, -0.5452, -0.2539, -0.6129]],\n",
       "                \n",
       "                        [[ 1.7852, -2.2130,  0.1380, -0.8892],\n",
       "                         [-2.3286, -0.8039, -0.1682, -0.2360],\n",
       "                         [ 0.5821, -0.5452, -0.2539, -0.6129]]])"
      ]
     },
     "execution_count": 20,
     "metadata": {},
     "output_type": "execute_result"
    }
   ],
   "source": [
    "t_stack = FastTreeValue.func(subside=True)(torch.stack)\n",
    "\n",
    "t_stack(trees)"
   ]
  },
  {
   "cell_type": "code",
   "execution_count": 21,
   "id": "f8b3f415",
   "metadata": {
    "execution": {
     "iopub.execute_input": "2023-02-27T12:44:21.972000Z",
     "iopub.status.busy": "2023-02-27T12:44:21.971670Z",
     "iopub.status.idle": "2023-02-27T12:44:24.670241Z",
     "shell.execute_reply": "2023-02-27T12:44:24.669489Z"
    }
   },
   "outputs": [
    {
     "name": "stdout",
     "output_type": "stream",
     "text": [
      "33.2 µs ± 95.8 ns per loop (mean ± std. dev. of 7 runs, 10,000 loops each)\n"
     ]
    }
   ],
   "source": [
    "%timeit t_stack(trees)"
   ]
  },
  {
   "cell_type": "code",
   "execution_count": 22,
   "id": "94b56771",
   "metadata": {
    "execution": {
     "iopub.execute_input": "2023-02-27T12:44:24.673007Z",
     "iopub.status.busy": "2023-02-27T12:44:24.672642Z",
     "iopub.status.idle": "2023-02-27T12:44:24.681340Z",
     "shell.execute_reply": "2023-02-27T12:44:24.680748Z"
    }
   },
   "outputs": [
    {
     "data": {
      "text/plain": [
       "<FastTreeValue 0x7f13c8859880>\n",
       "├── 'a' --> tensor([[-0.5121, -0.8929,  0.2321],\n",
       "│                   [ 0.7583, -0.1613, -0.8999],\n",
       "│                   [-0.5121, -0.8929,  0.2321],\n",
       "│                   [ 0.7583, -0.1613, -0.8999],\n",
       "│                   [-0.5121, -0.8929,  0.2321],\n",
       "│                   [ 0.7583, -0.1613, -0.8999],\n",
       "│                   [-0.5121, -0.8929,  0.2321],\n",
       "│                   [ 0.7583, -0.1613, -0.8999],\n",
       "│                   [-0.5121, -0.8929,  0.2321],\n",
       "│                   [ 0.7583, -0.1613, -0.8999],\n",
       "│                   [-0.5121, -0.8929,  0.2321],\n",
       "│                   [ 0.7583, -0.1613, -0.8999],\n",
       "│                   [-0.5121, -0.8929,  0.2321],\n",
       "│                   [ 0.7583, -0.1613, -0.8999],\n",
       "│                   [-0.5121, -0.8929,  0.2321],\n",
       "│                   [ 0.7583, -0.1613, -0.8999]])\n",
       "└── 'x' --> <FastTreeValue 0x7f13c8855850>\n",
       "    └── 'c' --> tensor([[ 1.7852, -2.2130,  0.1380, -0.8892],\n",
       "                        [-2.3286, -0.8039, -0.1682, -0.2360],\n",
       "                        [ 0.5821, -0.5452, -0.2539, -0.6129],\n",
       "                        [ 1.7852, -2.2130,  0.1380, -0.8892],\n",
       "                        [-2.3286, -0.8039, -0.1682, -0.2360],\n",
       "                        [ 0.5821, -0.5452, -0.2539, -0.6129],\n",
       "                        [ 1.7852, -2.2130,  0.1380, -0.8892],\n",
       "                        [-2.3286, -0.8039, -0.1682, -0.2360],\n",
       "                        [ 0.5821, -0.5452, -0.2539, -0.6129],\n",
       "                        [ 1.7852, -2.2130,  0.1380, -0.8892],\n",
       "                        [-2.3286, -0.8039, -0.1682, -0.2360],\n",
       "                        [ 0.5821, -0.5452, -0.2539, -0.6129],\n",
       "                        [ 1.7852, -2.2130,  0.1380, -0.8892],\n",
       "                        [-2.3286, -0.8039, -0.1682, -0.2360],\n",
       "                        [ 0.5821, -0.5452, -0.2539, -0.6129],\n",
       "                        [ 1.7852, -2.2130,  0.1380, -0.8892],\n",
       "                        [-2.3286, -0.8039, -0.1682, -0.2360],\n",
       "                        [ 0.5821, -0.5452, -0.2539, -0.6129],\n",
       "                        [ 1.7852, -2.2130,  0.1380, -0.8892],\n",
       "                        [-2.3286, -0.8039, -0.1682, -0.2360],\n",
       "                        [ 0.5821, -0.5452, -0.2539, -0.6129],\n",
       "                        [ 1.7852, -2.2130,  0.1380, -0.8892],\n",
       "                        [-2.3286, -0.8039, -0.1682, -0.2360],\n",
       "                        [ 0.5821, -0.5452, -0.2539, -0.6129]])"
      ]
     },
     "execution_count": 22,
     "metadata": {},
     "output_type": "execute_result"
    }
   ],
   "source": [
    "t_cat = FastTreeValue.func(subside=True)(torch.cat)\n",
    "\n",
    "t_cat(trees)"
   ]
  },
  {
   "cell_type": "code",
   "execution_count": 23,
   "id": "5e9c06a6",
   "metadata": {
    "execution": {
     "iopub.execute_input": "2023-02-27T12:44:24.684120Z",
     "iopub.status.busy": "2023-02-27T12:44:24.683653Z",
     "iopub.status.idle": "2023-02-27T12:44:27.163956Z",
     "shell.execute_reply": "2023-02-27T12:44:27.163208Z"
    }
   },
   "outputs": [
    {
     "name": "stdout",
     "output_type": "stream",
     "text": [
      "30.5 µs ± 80.8 ns per loop (mean ± std. dev. of 7 runs, 10,000 loops each)\n"
     ]
    }
   ],
   "source": [
    "%timeit t_cat(trees)"
   ]
  },
  {
   "cell_type": "code",
   "execution_count": 24,
   "id": "a3ab5c8f",
   "metadata": {
    "execution": {
     "iopub.execute_input": "2023-02-27T12:44:27.167132Z",
     "iopub.status.busy": "2023-02-27T12:44:27.166549Z",
     "iopub.status.idle": "2023-02-27T12:44:32.000826Z",
     "shell.execute_reply": "2023-02-27T12:44:31.999786Z"
    }
   },
   "outputs": [
    {
     "name": "stdout",
     "output_type": "stream",
     "text": [
      "59.4 µs ± 44.7 ns per loop (mean ± std. dev. of 7 runs, 10,000 loops each)\n"
     ]
    }
   ],
   "source": [
    "t_split = FastTreeValue.func(rise=True)(torch.split)\n",
    "tree = FastTreeValue({\n",
    "    'obs': torch.randn(8, 4, 84, 84),\n",
    "    'action': torch.randint(0, 6, size=(8, 1,)),\n",
    "    'reward': torch.rand(8, 1),\n",
    "})\n",
    "\n",
    "%timeit t_split(tree, 1)"
   ]
  },
  {
   "cell_type": "markdown",
   "id": "31c3ec0b",
   "metadata": {},
   "source": [
    "### Performance of Tianshou Batch"
   ]
  },
  {
   "cell_type": "code",
   "execution_count": 25,
   "id": "9ead828a",
   "metadata": {
    "execution": {
     "iopub.execute_input": "2023-02-27T12:44:32.003753Z",
     "iopub.status.busy": "2023-02-27T12:44:32.003514Z",
     "iopub.status.idle": "2023-02-27T12:44:32.011633Z",
     "shell.execute_reply": "2023-02-27T12:44:32.010655Z"
    }
   },
   "outputs": [
    {
     "data": {
      "text/plain": [
       "Batch(\n",
       "    a: tensor([[[-0.5121, -0.8929,  0.2321],\n",
       "                [ 0.7583, -0.1613, -0.8999]],\n",
       "       \n",
       "               [[-0.5121, -0.8929,  0.2321],\n",
       "                [ 0.7583, -0.1613, -0.8999]],\n",
       "       \n",
       "               [[-0.5121, -0.8929,  0.2321],\n",
       "                [ 0.7583, -0.1613, -0.8999]],\n",
       "       \n",
       "               [[-0.5121, -0.8929,  0.2321],\n",
       "                [ 0.7583, -0.1613, -0.8999]],\n",
       "       \n",
       "               [[-0.5121, -0.8929,  0.2321],\n",
       "                [ 0.7583, -0.1613, -0.8999]],\n",
       "       \n",
       "               [[-0.5121, -0.8929,  0.2321],\n",
       "                [ 0.7583, -0.1613, -0.8999]],\n",
       "       \n",
       "               [[-0.5121, -0.8929,  0.2321],\n",
       "                [ 0.7583, -0.1613, -0.8999]],\n",
       "       \n",
       "               [[-0.5121, -0.8929,  0.2321],\n",
       "                [ 0.7583, -0.1613, -0.8999]]]),\n",
       "    x: Batch(\n",
       "           c: tensor([[[ 1.7852, -2.2130,  0.1380, -0.8892],\n",
       "                       [-2.3286, -0.8039, -0.1682, -0.2360],\n",
       "                       [ 0.5821, -0.5452, -0.2539, -0.6129]],\n",
       "              \n",
       "                      [[ 1.7852, -2.2130,  0.1380, -0.8892],\n",
       "                       [-2.3286, -0.8039, -0.1682, -0.2360],\n",
       "                       [ 0.5821, -0.5452, -0.2539, -0.6129]],\n",
       "              \n",
       "                      [[ 1.7852, -2.2130,  0.1380, -0.8892],\n",
       "                       [-2.3286, -0.8039, -0.1682, -0.2360],\n",
       "                       [ 0.5821, -0.5452, -0.2539, -0.6129]],\n",
       "              \n",
       "                      [[ 1.7852, -2.2130,  0.1380, -0.8892],\n",
       "                       [-2.3286, -0.8039, -0.1682, -0.2360],\n",
       "                       [ 0.5821, -0.5452, -0.2539, -0.6129]],\n",
       "              \n",
       "                      [[ 1.7852, -2.2130,  0.1380, -0.8892],\n",
       "                       [-2.3286, -0.8039, -0.1682, -0.2360],\n",
       "                       [ 0.5821, -0.5452, -0.2539, -0.6129]],\n",
       "              \n",
       "                      [[ 1.7852, -2.2130,  0.1380, -0.8892],\n",
       "                       [-2.3286, -0.8039, -0.1682, -0.2360],\n",
       "                       [ 0.5821, -0.5452, -0.2539, -0.6129]],\n",
       "              \n",
       "                      [[ 1.7852, -2.2130,  0.1380, -0.8892],\n",
       "                       [-2.3286, -0.8039, -0.1682, -0.2360],\n",
       "                       [ 0.5821, -0.5452, -0.2539, -0.6129]],\n",
       "              \n",
       "                      [[ 1.7852, -2.2130,  0.1380, -0.8892],\n",
       "                       [-2.3286, -0.8039, -0.1682, -0.2360],\n",
       "                       [ 0.5821, -0.5452, -0.2539, -0.6129]]]),\n",
       "       ),\n",
       ")"
      ]
     },
     "execution_count": 25,
     "metadata": {},
     "output_type": "execute_result"
    }
   ],
   "source": [
    "batches = [Batch(**_TREE_DATA_2) for _ in range(8)]\n",
    "\n",
    "Batch.stack(batches)"
   ]
  },
  {
   "cell_type": "code",
   "execution_count": 26,
   "id": "ec9037a3",
   "metadata": {
    "execution": {
     "iopub.execute_input": "2023-02-27T12:44:32.014784Z",
     "iopub.status.busy": "2023-02-27T12:44:32.013811Z",
     "iopub.status.idle": "2023-02-27T12:44:38.412775Z",
     "shell.execute_reply": "2023-02-27T12:44:38.412110Z"
    }
   },
   "outputs": [
    {
     "name": "stdout",
     "output_type": "stream",
     "text": [
      "78.7 µs ± 202 ns per loop (mean ± std. dev. of 7 runs, 10,000 loops each)\n"
     ]
    }
   ],
   "source": [
    "%timeit Batch.stack(batches)"
   ]
  },
  {
   "cell_type": "code",
   "execution_count": 27,
   "id": "cb8ab77e",
   "metadata": {
    "execution": {
     "iopub.execute_input": "2023-02-27T12:44:38.415463Z",
     "iopub.status.busy": "2023-02-27T12:44:38.415092Z",
     "iopub.status.idle": "2023-02-27T12:44:38.421866Z",
     "shell.execute_reply": "2023-02-27T12:44:38.421212Z"
    }
   },
   "outputs": [
    {
     "data": {
      "text/plain": [
       "Batch(\n",
       "    a: tensor([[-0.5121, -0.8929,  0.2321],\n",
       "               [ 0.7583, -0.1613, -0.8999],\n",
       "               [-0.5121, -0.8929,  0.2321],\n",
       "               [ 0.7583, -0.1613, -0.8999],\n",
       "               [-0.5121, -0.8929,  0.2321],\n",
       "               [ 0.7583, -0.1613, -0.8999],\n",
       "               [-0.5121, -0.8929,  0.2321],\n",
       "               [ 0.7583, -0.1613, -0.8999],\n",
       "               [-0.5121, -0.8929,  0.2321],\n",
       "               [ 0.7583, -0.1613, -0.8999],\n",
       "               [-0.5121, -0.8929,  0.2321],\n",
       "               [ 0.7583, -0.1613, -0.8999],\n",
       "               [-0.5121, -0.8929,  0.2321],\n",
       "               [ 0.7583, -0.1613, -0.8999],\n",
       "               [-0.5121, -0.8929,  0.2321],\n",
       "               [ 0.7583, -0.1613, -0.8999]]),\n",
       "    x: Batch(\n",
       "           c: tensor([[ 1.7852, -2.2130,  0.1380, -0.8892],\n",
       "                      [-2.3286, -0.8039, -0.1682, -0.2360],\n",
       "                      [ 0.5821, -0.5452, -0.2539, -0.6129],\n",
       "                      [ 1.7852, -2.2130,  0.1380, -0.8892],\n",
       "                      [-2.3286, -0.8039, -0.1682, -0.2360],\n",
       "                      [ 0.5821, -0.5452, -0.2539, -0.6129],\n",
       "                      [ 1.7852, -2.2130,  0.1380, -0.8892],\n",
       "                      [-2.3286, -0.8039, -0.1682, -0.2360],\n",
       "                      [ 0.5821, -0.5452, -0.2539, -0.6129],\n",
       "                      [ 1.7852, -2.2130,  0.1380, -0.8892],\n",
       "                      [-2.3286, -0.8039, -0.1682, -0.2360],\n",
       "                      [ 0.5821, -0.5452, -0.2539, -0.6129],\n",
       "                      [ 1.7852, -2.2130,  0.1380, -0.8892],\n",
       "                      [-2.3286, -0.8039, -0.1682, -0.2360],\n",
       "                      [ 0.5821, -0.5452, -0.2539, -0.6129],\n",
       "                      [ 1.7852, -2.2130,  0.1380, -0.8892],\n",
       "                      [-2.3286, -0.8039, -0.1682, -0.2360],\n",
       "                      [ 0.5821, -0.5452, -0.2539, -0.6129],\n",
       "                      [ 1.7852, -2.2130,  0.1380, -0.8892],\n",
       "                      [-2.3286, -0.8039, -0.1682, -0.2360],\n",
       "                      [ 0.5821, -0.5452, -0.2539, -0.6129],\n",
       "                      [ 1.7852, -2.2130,  0.1380, -0.8892],\n",
       "                      [-2.3286, -0.8039, -0.1682, -0.2360],\n",
       "                      [ 0.5821, -0.5452, -0.2539, -0.6129]]),\n",
       "       ),\n",
       ")"
      ]
     },
     "execution_count": 27,
     "metadata": {},
     "output_type": "execute_result"
    }
   ],
   "source": [
    "Batch.cat(batches)"
   ]
  },
  {
   "cell_type": "code",
   "execution_count": 28,
   "id": "18dfb045",
   "metadata": {
    "execution": {
     "iopub.execute_input": "2023-02-27T12:44:38.424644Z",
     "iopub.status.busy": "2023-02-27T12:44:38.424164Z",
     "iopub.status.idle": "2023-02-27T12:44:50.168944Z",
     "shell.execute_reply": "2023-02-27T12:44:50.168222Z"
    }
   },
   "outputs": [
    {
     "name": "stdout",
     "output_type": "stream",
     "text": [
      "145 µs ± 210 ns per loop (mean ± std. dev. of 7 runs, 10,000 loops each)\n"
     ]
    }
   ],
   "source": [
    "%timeit Batch.cat(batches)"
   ]
  },
  {
   "cell_type": "code",
   "execution_count": 29,
   "id": "c6688e51",
   "metadata": {
    "execution": {
     "iopub.execute_input": "2023-02-27T12:44:50.171954Z",
     "iopub.status.busy": "2023-02-27T12:44:50.171597Z",
     "iopub.status.idle": "2023-02-27T12:44:52.661278Z",
     "shell.execute_reply": "2023-02-27T12:44:52.660711Z"
    }
   },
   "outputs": [
    {
     "name": "stdout",
     "output_type": "stream",
     "text": [
      "306 µs ± 1.7 µs per loop (mean ± std. dev. of 7 runs, 1,000 loops each)\n"
     ]
    }
   ],
   "source": [
    "batch = Batch({\n",
    "    'obs': torch.randn(8, 4, 84, 84),\n",
    "    'action': torch.randint(0, 6, size=(8, 1,)),\n",
    "    'reward': torch.rand(8, 1)}\n",
    ")\n",
    "\n",
    "%timeit list(Batch.split(batch, 1, shuffle=False, merge_last=True))"
   ]
  },
  {
   "cell_type": "code",
   "execution_count": null,
   "id": "2539fbd9",
   "metadata": {},
   "outputs": [],
   "source": []
  }
 ],
 "metadata": {
  "kernelspec": {
   "display_name": "Python 3 (ipykernel)",
   "language": "python",
   "name": "python3"
  },
  "language_info": {
   "codemirror_mode": {
    "name": "ipython",
    "version": 3
   },
   "file_extension": ".py",
   "mimetype": "text/x-python",
   "name": "python",
   "nbconvert_exporter": "python",
   "pygments_lexer": "ipython3",
   "version": "3.8.16"
  }
 },
 "nbformat": 4,
 "nbformat_minor": 5
}
