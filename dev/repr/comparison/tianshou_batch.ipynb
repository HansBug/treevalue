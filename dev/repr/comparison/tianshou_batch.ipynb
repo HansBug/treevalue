{
 "cells": [
  {
   "cell_type": "markdown",
   "id": "9d39d946",
   "metadata": {},
   "source": [
    "# Comparison Between TreeValue and Tianshou Batch"
   ]
  },
  {
   "cell_type": "markdown",
   "id": "3c6db2d4",
   "metadata": {},
   "source": [
    "In this section, we will take a look at the feature and performance of the [Tianshou Batch](https://github.com/thu-ml/tianshou) library, which is developed by Tsinghua Machine Learning Group."
   ]
  },
  {
   "cell_type": "markdown",
   "id": "069361b0",
   "metadata": {},
   "source": [
    "Before starting the comparison, let us define some thing."
   ]
  },
  {
   "cell_type": "code",
   "execution_count": 1,
   "id": "06fc8d26",
   "metadata": {
    "execution": {
     "iopub.execute_input": "2023-02-27T12:51:59.754346Z",
     "iopub.status.busy": "2023-02-27T12:51:59.753237Z",
     "iopub.status.idle": "2023-02-27T12:52:00.678576Z",
     "shell.execute_reply": "2023-02-27T12:52:00.677893Z"
    }
   },
   "outputs": [
    {
     "name": "stderr",
     "output_type": "stream",
     "text": [
      "/opt/hostedtoolcache/Python/3.8.16/x64/lib/python3.8/site-packages/tqdm/auto.py:22: TqdmWarning: IProgress not found. Please update jupyter and ipywidgets. See https://ipywidgets.readthedocs.io/en/stable/user_install.html\n",
      "  from .autonotebook import tqdm as notebook_tqdm\n"
     ]
    }
   ],
   "source": [
    "import torch \n",
    "\n",
    "_TREE_DATA_1 = {'a': 1, 'b': 2, 'x': {'c': 3, 'd': 4}}\n",
    "_TREE_DATA_2 = {\n",
    "    'a': torch.randn(2, 3), \n",
    "    'x': {\n",
    "        'c': torch.randn(3, 4)\n",
    "    },\n",
    "}\n",
    "_TREE_DATA_3 = {\n",
    "    'obs': torch.randn(4, 84, 84),\n",
    "    'action': torch.randint(0, 6, size=(1,)),\n",
    "    'reward': torch.rand(1),\n",
    "}"
   ]
  },
  {
   "cell_type": "markdown",
   "id": "83461b25",
   "metadata": {},
   "source": [
    "## Read and Write Operation"
   ]
  },
  {
   "cell_type": "markdown",
   "id": "067b3f73",
   "metadata": {},
   "source": [
    "Reading and writing are the two most common operations in the tree data structure based on the data model (TreeValue and Tianshou Batch both belong to this type), so this section will compare the reading and writing performance of these two libraries."
   ]
  },
  {
   "cell_type": "markdown",
   "id": "5d09a5b7",
   "metadata": {},
   "source": [
    "### TreeValue's Get and Set"
   ]
  },
  {
   "cell_type": "code",
   "execution_count": 2,
   "id": "9519c4bb",
   "metadata": {
    "execution": {
     "iopub.execute_input": "2023-02-27T12:52:00.681907Z",
     "iopub.status.busy": "2023-02-27T12:52:00.681306Z",
     "iopub.status.idle": "2023-02-27T12:52:00.962309Z",
     "shell.execute_reply": "2023-02-27T12:52:00.961618Z"
    }
   },
   "outputs": [],
   "source": [
    "from treevalue import FastTreeValue\n",
    "\n",
    "t = FastTreeValue(_TREE_DATA_2)"
   ]
  },
  {
   "cell_type": "code",
   "execution_count": 3,
   "id": "11c37677",
   "metadata": {
    "execution": {
     "iopub.execute_input": "2023-02-27T12:52:00.965769Z",
     "iopub.status.busy": "2023-02-27T12:52:00.965167Z",
     "iopub.status.idle": "2023-02-27T12:52:00.974903Z",
     "shell.execute_reply": "2023-02-27T12:52:00.974285Z"
    }
   },
   "outputs": [
    {
     "data": {
      "text/plain": [
       "<FastTreeValue 0x7fdae8e0a1f0>\n",
       "├── 'a' --> tensor([[ 1.2228, -0.1741,  0.1163],\n",
       "│                   [-0.4770, -1.3838,  0.2095]])\n",
       "└── 'x' --> <FastTreeValue 0x7fdae8e0a070>\n",
       "    └── 'c' --> tensor([[ 1.3899, -0.3018, -1.2745, -0.3082],\n",
       "                        [-1.5126, -3.3403,  0.7599, -0.7156],\n",
       "                        [ 0.7037,  0.8844,  0.1097,  0.3929]])"
      ]
     },
     "execution_count": 3,
     "metadata": {},
     "output_type": "execute_result"
    }
   ],
   "source": [
    "t"
   ]
  },
  {
   "cell_type": "code",
   "execution_count": 4,
   "id": "fd70b0b9",
   "metadata": {
    "execution": {
     "iopub.execute_input": "2023-02-27T12:52:00.977548Z",
     "iopub.status.busy": "2023-02-27T12:52:00.977207Z",
     "iopub.status.idle": "2023-02-27T12:52:00.982658Z",
     "shell.execute_reply": "2023-02-27T12:52:00.982074Z"
    }
   },
   "outputs": [
    {
     "data": {
      "text/plain": [
       "tensor([[ 1.2228, -0.1741,  0.1163],\n",
       "        [-0.4770, -1.3838,  0.2095]])"
      ]
     },
     "execution_count": 4,
     "metadata": {},
     "output_type": "execute_result"
    }
   ],
   "source": [
    "t.a"
   ]
  },
  {
   "cell_type": "code",
   "execution_count": 5,
   "id": "c18197bd",
   "metadata": {
    "execution": {
     "iopub.execute_input": "2023-02-27T12:52:00.985225Z",
     "iopub.status.busy": "2023-02-27T12:52:00.984709Z",
     "iopub.status.idle": "2023-02-27T12:52:05.952898Z",
     "shell.execute_reply": "2023-02-27T12:52:05.952142Z"
    }
   },
   "outputs": [
    {
     "name": "stdout",
     "output_type": "stream",
     "text": [
      "60.8 ns ± 0.0209 ns per loop (mean ± std. dev. of 7 runs, 10,000,000 loops each)\n"
     ]
    }
   ],
   "source": [
    "%timeit t.a"
   ]
  },
  {
   "cell_type": "code",
   "execution_count": 6,
   "id": "bd52f867",
   "metadata": {
    "execution": {
     "iopub.execute_input": "2023-02-27T12:52:05.956070Z",
     "iopub.status.busy": "2023-02-27T12:52:05.955559Z",
     "iopub.status.idle": "2023-02-27T12:52:05.961634Z",
     "shell.execute_reply": "2023-02-27T12:52:05.960988Z"
    }
   },
   "outputs": [
    {
     "data": {
      "text/plain": [
       "<FastTreeValue 0x7fdae8e0a1f0>\n",
       "├── 'a' --> tensor([[ 0.0228,  2.1305,  0.7207],\n",
       "│                   [ 0.7568, -1.0735, -0.5591]])\n",
       "└── 'x' --> <FastTreeValue 0x7fdae8e0a070>\n",
       "    └── 'c' --> tensor([[ 1.3899, -0.3018, -1.2745, -0.3082],\n",
       "                        [-1.5126, -3.3403,  0.7599, -0.7156],\n",
       "                        [ 0.7037,  0.8844,  0.1097,  0.3929]])"
      ]
     },
     "execution_count": 6,
     "metadata": {},
     "output_type": "execute_result"
    }
   ],
   "source": [
    "new_value = torch.randn(2, 3)\n",
    "t.a = new_value\n",
    "\n",
    "t"
   ]
  },
  {
   "cell_type": "code",
   "execution_count": 7,
   "id": "bbe04d1c",
   "metadata": {
    "execution": {
     "iopub.execute_input": "2023-02-27T12:52:05.964093Z",
     "iopub.status.busy": "2023-02-27T12:52:05.963748Z",
     "iopub.status.idle": "2023-02-27T12:52:10.688185Z",
     "shell.execute_reply": "2023-02-27T12:52:10.687394Z"
    }
   },
   "outputs": [
    {
     "name": "stdout",
     "output_type": "stream",
     "text": [
      "57.5 ns ± 0.041 ns per loop (mean ± std. dev. of 7 runs, 10,000,000 loops each)\n"
     ]
    }
   ],
   "source": [
    "%timeit t.a = new_value"
   ]
  },
  {
   "cell_type": "markdown",
   "id": "48c49731",
   "metadata": {},
   "source": [
    "### Tianshou Batch's Get and Set"
   ]
  },
  {
   "cell_type": "code",
   "execution_count": 8,
   "id": "f1bb14c1",
   "metadata": {
    "execution": {
     "iopub.execute_input": "2023-02-27T12:52:10.691281Z",
     "iopub.status.busy": "2023-02-27T12:52:10.690918Z",
     "iopub.status.idle": "2023-02-27T12:52:11.029153Z",
     "shell.execute_reply": "2023-02-27T12:52:11.028435Z"
    }
   },
   "outputs": [],
   "source": [
    "from tianshou.data import Batch\n",
    "\n",
    "b = Batch(**_TREE_DATA_2)"
   ]
  },
  {
   "cell_type": "code",
   "execution_count": 9,
   "id": "cb0777c3",
   "metadata": {
    "execution": {
     "iopub.execute_input": "2023-02-27T12:52:11.032243Z",
     "iopub.status.busy": "2023-02-27T12:52:11.031695Z",
     "iopub.status.idle": "2023-02-27T12:52:11.037176Z",
     "shell.execute_reply": "2023-02-27T12:52:11.036549Z"
    }
   },
   "outputs": [
    {
     "data": {
      "text/plain": [
       "Batch(\n",
       "    a: tensor([[ 1.2228, -0.1741,  0.1163],\n",
       "               [-0.4770, -1.3838,  0.2095]]),\n",
       "    x: Batch(\n",
       "           c: tensor([[ 1.3899, -0.3018, -1.2745, -0.3082],\n",
       "                      [-1.5126, -3.3403,  0.7599, -0.7156],\n",
       "                      [ 0.7037,  0.8844,  0.1097,  0.3929]]),\n",
       "       ),\n",
       ")"
      ]
     },
     "execution_count": 9,
     "metadata": {},
     "output_type": "execute_result"
    }
   ],
   "source": [
    "b"
   ]
  },
  {
   "cell_type": "code",
   "execution_count": 10,
   "id": "43ef8ea3",
   "metadata": {
    "execution": {
     "iopub.execute_input": "2023-02-27T12:52:11.039834Z",
     "iopub.status.busy": "2023-02-27T12:52:11.039245Z",
     "iopub.status.idle": "2023-02-27T12:52:11.043888Z",
     "shell.execute_reply": "2023-02-27T12:52:11.043262Z"
    }
   },
   "outputs": [
    {
     "data": {
      "text/plain": [
       "tensor([[ 1.2228, -0.1741,  0.1163],\n",
       "        [-0.4770, -1.3838,  0.2095]])"
      ]
     },
     "execution_count": 10,
     "metadata": {},
     "output_type": "execute_result"
    }
   ],
   "source": [
    "b.a"
   ]
  },
  {
   "cell_type": "code",
   "execution_count": 11,
   "id": "b785ab72",
   "metadata": {
    "execution": {
     "iopub.execute_input": "2023-02-27T12:52:11.046615Z",
     "iopub.status.busy": "2023-02-27T12:52:11.046098Z",
     "iopub.status.idle": "2023-02-27T12:52:15.314605Z",
     "shell.execute_reply": "2023-02-27T12:52:15.313841Z"
    }
   },
   "outputs": [
    {
     "name": "stdout",
     "output_type": "stream",
     "text": [
      "52.6 ns ± 0.0273 ns per loop (mean ± std. dev. of 7 runs, 10,000,000 loops each)\n"
     ]
    }
   ],
   "source": [
    "%timeit b.a"
   ]
  },
  {
   "cell_type": "code",
   "execution_count": 12,
   "id": "ad54dc69",
   "metadata": {
    "execution": {
     "iopub.execute_input": "2023-02-27T12:52:15.317662Z",
     "iopub.status.busy": "2023-02-27T12:52:15.317026Z",
     "iopub.status.idle": "2023-02-27T12:52:15.323450Z",
     "shell.execute_reply": "2023-02-27T12:52:15.322856Z"
    }
   },
   "outputs": [
    {
     "data": {
      "text/plain": [
       "Batch(\n",
       "    a: tensor([[-1.6453, -0.7026,  0.4988],\n",
       "               [-0.3996, -0.4150, -0.1109]]),\n",
       "    x: Batch(\n",
       "           c: tensor([[ 1.3899, -0.3018, -1.2745, -0.3082],\n",
       "                      [-1.5126, -3.3403,  0.7599, -0.7156],\n",
       "                      [ 0.7037,  0.8844,  0.1097,  0.3929]]),\n",
       "       ),\n",
       ")"
      ]
     },
     "execution_count": 12,
     "metadata": {},
     "output_type": "execute_result"
    }
   ],
   "source": [
    "new_value = torch.randn(2, 3)\n",
    "b.a = new_value\n",
    "\n",
    "b"
   ]
  },
  {
   "cell_type": "code",
   "execution_count": 13,
   "id": "29b1d0bf",
   "metadata": {
    "execution": {
     "iopub.execute_input": "2023-02-27T12:52:15.325908Z",
     "iopub.status.busy": "2023-02-27T12:52:15.325545Z",
     "iopub.status.idle": "2023-02-27T12:52:19.252073Z",
     "shell.execute_reply": "2023-02-27T12:52:19.251355Z"
    }
   },
   "outputs": [
    {
     "name": "stdout",
     "output_type": "stream",
     "text": [
      "483 ns ± 0.0805 ns per loop (mean ± std. dev. of 7 runs, 1,000,000 loops each)\n"
     ]
    }
   ],
   "source": [
    "%timeit b.a = new_value"
   ]
  },
  {
   "cell_type": "markdown",
   "id": "b61ad1d0",
   "metadata": {},
   "source": [
    "## Initialization"
   ]
  },
  {
   "cell_type": "markdown",
   "id": "d70f0d54",
   "metadata": {},
   "source": [
    "### TreeValue's Initialization"
   ]
  },
  {
   "cell_type": "code",
   "execution_count": 14,
   "id": "d32a679b",
   "metadata": {
    "execution": {
     "iopub.execute_input": "2023-02-27T12:52:19.255183Z",
     "iopub.status.busy": "2023-02-27T12:52:19.254823Z",
     "iopub.status.idle": "2023-02-27T12:52:26.135560Z",
     "shell.execute_reply": "2023-02-27T12:52:26.134897Z"
    }
   },
   "outputs": [
    {
     "name": "stdout",
     "output_type": "stream",
     "text": [
      "847 ns ± 0.165 ns per loop (mean ± std. dev. of 7 runs, 1,000,000 loops each)\n"
     ]
    }
   ],
   "source": [
    "%timeit FastTreeValue(_TREE_DATA_1)"
   ]
  },
  {
   "cell_type": "markdown",
   "id": "24f3707b",
   "metadata": {},
   "source": [
    "### Tianshou Batch's Initialization"
   ]
  },
  {
   "cell_type": "code",
   "execution_count": 15,
   "id": "ac3958df",
   "metadata": {
    "execution": {
     "iopub.execute_input": "2023-02-27T12:52:26.138657Z",
     "iopub.status.busy": "2023-02-27T12:52:26.138281Z",
     "iopub.status.idle": "2023-02-27T12:52:35.359454Z",
     "shell.execute_reply": "2023-02-27T12:52:35.358675Z"
    }
   },
   "outputs": [
    {
     "name": "stdout",
     "output_type": "stream",
     "text": [
      "11.4 µs ± 28 ns per loop (mean ± std. dev. of 7 runs, 100,000 loops each)\n"
     ]
    }
   ],
   "source": [
    "%timeit Batch(**_TREE_DATA_1)"
   ]
  },
  {
   "cell_type": "markdown",
   "id": "1ab82e2d",
   "metadata": {},
   "source": [
    "## Deep Copy Operation"
   ]
  },
  {
   "cell_type": "code",
   "execution_count": 16,
   "id": "210a9442",
   "metadata": {
    "execution": {
     "iopub.execute_input": "2023-02-27T12:52:35.362632Z",
     "iopub.status.busy": "2023-02-27T12:52:35.362115Z",
     "iopub.status.idle": "2023-02-27T12:52:35.366058Z",
     "shell.execute_reply": "2023-02-27T12:52:35.365462Z"
    }
   },
   "outputs": [],
   "source": [
    "import copy"
   ]
  },
  {
   "cell_type": "markdown",
   "id": "5a736274",
   "metadata": {},
   "source": [
    "### Deep Copy of TreeValue"
   ]
  },
  {
   "cell_type": "code",
   "execution_count": 17,
   "id": "f9bcadd6",
   "metadata": {
    "execution": {
     "iopub.execute_input": "2023-02-27T12:52:35.368697Z",
     "iopub.status.busy": "2023-02-27T12:52:35.368365Z",
     "iopub.status.idle": "2023-02-27T12:52:46.667203Z",
     "shell.execute_reply": "2023-02-27T12:52:46.666597Z"
    }
   },
   "outputs": [
    {
     "name": "stdout",
     "output_type": "stream",
     "text": [
      "139 µs ± 1.53 µs per loop (mean ± std. dev. of 7 runs, 10,000 loops each)\n"
     ]
    }
   ],
   "source": [
    "t3 = FastTreeValue(_TREE_DATA_3)\n",
    "%timeit copy.deepcopy(t3)"
   ]
  },
  {
   "cell_type": "markdown",
   "id": "bf8be7ea",
   "metadata": {},
   "source": [
    "### Deep Copy of Tianshou Batch"
   ]
  },
  {
   "cell_type": "code",
   "execution_count": 18,
   "id": "91998e6f",
   "metadata": {
    "execution": {
     "iopub.execute_input": "2023-02-27T12:52:46.670575Z",
     "iopub.status.busy": "2023-02-27T12:52:46.669892Z",
     "iopub.status.idle": "2023-02-27T12:52:58.097483Z",
     "shell.execute_reply": "2023-02-27T12:52:58.096916Z"
    }
   },
   "outputs": [
    {
     "name": "stdout",
     "output_type": "stream",
     "text": [
      "141 µs ± 470 ns per loop (mean ± std. dev. of 7 runs, 10,000 loops each)\n"
     ]
    }
   ],
   "source": [
    "b3 = Batch(**_TREE_DATA_3)\n",
    "%timeit copy.deepcopy(b3)"
   ]
  },
  {
   "cell_type": "markdown",
   "id": "223162fb",
   "metadata": {},
   "source": [
    "## Stack, Concat and Split Operation"
   ]
  },
  {
   "cell_type": "markdown",
   "id": "85fa4a73",
   "metadata": {},
   "source": [
    "### Performance of TreeValue"
   ]
  },
  {
   "cell_type": "code",
   "execution_count": 19,
   "id": "a0c2b697",
   "metadata": {
    "execution": {
     "iopub.execute_input": "2023-02-27T12:52:58.100533Z",
     "iopub.status.busy": "2023-02-27T12:52:58.100158Z",
     "iopub.status.idle": "2023-02-27T12:52:58.103364Z",
     "shell.execute_reply": "2023-02-27T12:52:58.102848Z"
    }
   },
   "outputs": [],
   "source": [
    "trees = [FastTreeValue(_TREE_DATA_2) for _ in range(8)]"
   ]
  },
  {
   "cell_type": "code",
   "execution_count": 20,
   "id": "017ea5a5",
   "metadata": {
    "execution": {
     "iopub.execute_input": "2023-02-27T12:52:58.106493Z",
     "iopub.status.busy": "2023-02-27T12:52:58.105938Z",
     "iopub.status.idle": "2023-02-27T12:52:58.113177Z",
     "shell.execute_reply": "2023-02-27T12:52:58.112507Z"
    }
   },
   "outputs": [
    {
     "data": {
      "text/plain": [
       "<FastTreeValue 0x7fdaebe65c10>\n",
       "├── 'a' --> tensor([[[ 1.2228, -0.1741,  0.1163],\n",
       "│                    [-0.4770, -1.3838,  0.2095]],\n",
       "│           \n",
       "│                   [[ 1.2228, -0.1741,  0.1163],\n",
       "│                    [-0.4770, -1.3838,  0.2095]],\n",
       "│           \n",
       "│                   [[ 1.2228, -0.1741,  0.1163],\n",
       "│                    [-0.4770, -1.3838,  0.2095]],\n",
       "│           \n",
       "│                   [[ 1.2228, -0.1741,  0.1163],\n",
       "│                    [-0.4770, -1.3838,  0.2095]],\n",
       "│           \n",
       "│                   [[ 1.2228, -0.1741,  0.1163],\n",
       "│                    [-0.4770, -1.3838,  0.2095]],\n",
       "│           \n",
       "│                   [[ 1.2228, -0.1741,  0.1163],\n",
       "│                    [-0.4770, -1.3838,  0.2095]],\n",
       "│           \n",
       "│                   [[ 1.2228, -0.1741,  0.1163],\n",
       "│                    [-0.4770, -1.3838,  0.2095]],\n",
       "│           \n",
       "│                   [[ 1.2228, -0.1741,  0.1163],\n",
       "│                    [-0.4770, -1.3838,  0.2095]]])\n",
       "└── 'x' --> <FastTreeValue 0x7fda327c7220>\n",
       "    └── 'c' --> tensor([[[ 1.3899, -0.3018, -1.2745, -0.3082],\n",
       "                         [-1.5126, -3.3403,  0.7599, -0.7156],\n",
       "                         [ 0.7037,  0.8844,  0.1097,  0.3929]],\n",
       "                \n",
       "                        [[ 1.3899, -0.3018, -1.2745, -0.3082],\n",
       "                         [-1.5126, -3.3403,  0.7599, -0.7156],\n",
       "                         [ 0.7037,  0.8844,  0.1097,  0.3929]],\n",
       "                \n",
       "                        [[ 1.3899, -0.3018, -1.2745, -0.3082],\n",
       "                         [-1.5126, -3.3403,  0.7599, -0.7156],\n",
       "                         [ 0.7037,  0.8844,  0.1097,  0.3929]],\n",
       "                \n",
       "                        [[ 1.3899, -0.3018, -1.2745, -0.3082],\n",
       "                         [-1.5126, -3.3403,  0.7599, -0.7156],\n",
       "                         [ 0.7037,  0.8844,  0.1097,  0.3929]],\n",
       "                \n",
       "                        [[ 1.3899, -0.3018, -1.2745, -0.3082],\n",
       "                         [-1.5126, -3.3403,  0.7599, -0.7156],\n",
       "                         [ 0.7037,  0.8844,  0.1097,  0.3929]],\n",
       "                \n",
       "                        [[ 1.3899, -0.3018, -1.2745, -0.3082],\n",
       "                         [-1.5126, -3.3403,  0.7599, -0.7156],\n",
       "                         [ 0.7037,  0.8844,  0.1097,  0.3929]],\n",
       "                \n",
       "                        [[ 1.3899, -0.3018, -1.2745, -0.3082],\n",
       "                         [-1.5126, -3.3403,  0.7599, -0.7156],\n",
       "                         [ 0.7037,  0.8844,  0.1097,  0.3929]],\n",
       "                \n",
       "                        [[ 1.3899, -0.3018, -1.2745, -0.3082],\n",
       "                         [-1.5126, -3.3403,  0.7599, -0.7156],\n",
       "                         [ 0.7037,  0.8844,  0.1097,  0.3929]]])"
      ]
     },
     "execution_count": 20,
     "metadata": {},
     "output_type": "execute_result"
    }
   ],
   "source": [
    "t_stack = FastTreeValue.func(subside=True)(torch.stack)\n",
    "\n",
    "t_stack(trees)"
   ]
  },
  {
   "cell_type": "code",
   "execution_count": 21,
   "id": "f8b3f415",
   "metadata": {
    "execution": {
     "iopub.execute_input": "2023-02-27T12:52:58.115979Z",
     "iopub.status.busy": "2023-02-27T12:52:58.115417Z",
     "iopub.status.idle": "2023-02-27T12:53:00.810545Z",
     "shell.execute_reply": "2023-02-27T12:53:00.809823Z"
    }
   },
   "outputs": [
    {
     "name": "stdout",
     "output_type": "stream",
     "text": [
      "33.2 µs ± 77 ns per loop (mean ± std. dev. of 7 runs, 10,000 loops each)\n"
     ]
    }
   ],
   "source": [
    "%timeit t_stack(trees)"
   ]
  },
  {
   "cell_type": "code",
   "execution_count": 22,
   "id": "94b56771",
   "metadata": {
    "execution": {
     "iopub.execute_input": "2023-02-27T12:53:00.813684Z",
     "iopub.status.busy": "2023-02-27T12:53:00.813060Z",
     "iopub.status.idle": "2023-02-27T12:53:00.820959Z",
     "shell.execute_reply": "2023-02-27T12:53:00.820360Z"
    }
   },
   "outputs": [
    {
     "data": {
      "text/plain": [
       "<FastTreeValue 0x7fda38d16e80>\n",
       "├── 'a' --> tensor([[ 1.2228, -0.1741,  0.1163],\n",
       "│                   [-0.4770, -1.3838,  0.2095],\n",
       "│                   [ 1.2228, -0.1741,  0.1163],\n",
       "│                   [-0.4770, -1.3838,  0.2095],\n",
       "│                   [ 1.2228, -0.1741,  0.1163],\n",
       "│                   [-0.4770, -1.3838,  0.2095],\n",
       "│                   [ 1.2228, -0.1741,  0.1163],\n",
       "│                   [-0.4770, -1.3838,  0.2095],\n",
       "│                   [ 1.2228, -0.1741,  0.1163],\n",
       "│                   [-0.4770, -1.3838,  0.2095],\n",
       "│                   [ 1.2228, -0.1741,  0.1163],\n",
       "│                   [-0.4770, -1.3838,  0.2095],\n",
       "│                   [ 1.2228, -0.1741,  0.1163],\n",
       "│                   [-0.4770, -1.3838,  0.2095],\n",
       "│                   [ 1.2228, -0.1741,  0.1163],\n",
       "│                   [-0.4770, -1.3838,  0.2095]])\n",
       "└── 'x' --> <FastTreeValue 0x7fdae8e39e20>\n",
       "    └── 'c' --> tensor([[ 1.3899, -0.3018, -1.2745, -0.3082],\n",
       "                        [-1.5126, -3.3403,  0.7599, -0.7156],\n",
       "                        [ 0.7037,  0.8844,  0.1097,  0.3929],\n",
       "                        [ 1.3899, -0.3018, -1.2745, -0.3082],\n",
       "                        [-1.5126, -3.3403,  0.7599, -0.7156],\n",
       "                        [ 0.7037,  0.8844,  0.1097,  0.3929],\n",
       "                        [ 1.3899, -0.3018, -1.2745, -0.3082],\n",
       "                        [-1.5126, -3.3403,  0.7599, -0.7156],\n",
       "                        [ 0.7037,  0.8844,  0.1097,  0.3929],\n",
       "                        [ 1.3899, -0.3018, -1.2745, -0.3082],\n",
       "                        [-1.5126, -3.3403,  0.7599, -0.7156],\n",
       "                        [ 0.7037,  0.8844,  0.1097,  0.3929],\n",
       "                        [ 1.3899, -0.3018, -1.2745, -0.3082],\n",
       "                        [-1.5126, -3.3403,  0.7599, -0.7156],\n",
       "                        [ 0.7037,  0.8844,  0.1097,  0.3929],\n",
       "                        [ 1.3899, -0.3018, -1.2745, -0.3082],\n",
       "                        [-1.5126, -3.3403,  0.7599, -0.7156],\n",
       "                        [ 0.7037,  0.8844,  0.1097,  0.3929],\n",
       "                        [ 1.3899, -0.3018, -1.2745, -0.3082],\n",
       "                        [-1.5126, -3.3403,  0.7599, -0.7156],\n",
       "                        [ 0.7037,  0.8844,  0.1097,  0.3929],\n",
       "                        [ 1.3899, -0.3018, -1.2745, -0.3082],\n",
       "                        [-1.5126, -3.3403,  0.7599, -0.7156],\n",
       "                        [ 0.7037,  0.8844,  0.1097,  0.3929]])"
      ]
     },
     "execution_count": 22,
     "metadata": {},
     "output_type": "execute_result"
    }
   ],
   "source": [
    "t_cat = FastTreeValue.func(subside=True)(torch.cat)\n",
    "\n",
    "t_cat(trees)"
   ]
  },
  {
   "cell_type": "code",
   "execution_count": 23,
   "id": "5e9c06a6",
   "metadata": {
    "execution": {
     "iopub.execute_input": "2023-02-27T12:53:00.823418Z",
     "iopub.status.busy": "2023-02-27T12:53:00.823070Z",
     "iopub.status.idle": "2023-02-27T12:53:03.351274Z",
     "shell.execute_reply": "2023-02-27T12:53:03.350540Z"
    }
   },
   "outputs": [
    {
     "name": "stdout",
     "output_type": "stream",
     "text": [
      "31.1 µs ± 103 ns per loop (mean ± std. dev. of 7 runs, 10,000 loops each)\n"
     ]
    }
   ],
   "source": [
    "%timeit t_cat(trees)"
   ]
  },
  {
   "cell_type": "code",
   "execution_count": 24,
   "id": "a3ab5c8f",
   "metadata": {
    "execution": {
     "iopub.execute_input": "2023-02-27T12:53:03.354474Z",
     "iopub.status.busy": "2023-02-27T12:53:03.353939Z",
     "iopub.status.idle": "2023-02-27T12:53:08.077179Z",
     "shell.execute_reply": "2023-02-27T12:53:08.076481Z"
    }
   },
   "outputs": [
    {
     "name": "stdout",
     "output_type": "stream",
     "text": [
      "58.1 µs ± 175 ns per loop (mean ± std. dev. of 7 runs, 10,000 loops each)\n"
     ]
    }
   ],
   "source": [
    "t_split = FastTreeValue.func(rise=True)(torch.split)\n",
    "tree = FastTreeValue({\n",
    "    'obs': torch.randn(8, 4, 84, 84),\n",
    "    'action': torch.randint(0, 6, size=(8, 1,)),\n",
    "    'reward': torch.rand(8, 1),\n",
    "})\n",
    "\n",
    "%timeit t_split(tree, 1)"
   ]
  },
  {
   "cell_type": "markdown",
   "id": "31c3ec0b",
   "metadata": {},
   "source": [
    "### Performance of Tianshou Batch"
   ]
  },
  {
   "cell_type": "code",
   "execution_count": 25,
   "id": "9ead828a",
   "metadata": {
    "execution": {
     "iopub.execute_input": "2023-02-27T12:53:08.080292Z",
     "iopub.status.busy": "2023-02-27T12:53:08.079674Z",
     "iopub.status.idle": "2023-02-27T12:53:08.087663Z",
     "shell.execute_reply": "2023-02-27T12:53:08.087053Z"
    }
   },
   "outputs": [
    {
     "data": {
      "text/plain": [
       "Batch(\n",
       "    a: tensor([[[ 1.2228, -0.1741,  0.1163],\n",
       "                [-0.4770, -1.3838,  0.2095]],\n",
       "       \n",
       "               [[ 1.2228, -0.1741,  0.1163],\n",
       "                [-0.4770, -1.3838,  0.2095]],\n",
       "       \n",
       "               [[ 1.2228, -0.1741,  0.1163],\n",
       "                [-0.4770, -1.3838,  0.2095]],\n",
       "       \n",
       "               [[ 1.2228, -0.1741,  0.1163],\n",
       "                [-0.4770, -1.3838,  0.2095]],\n",
       "       \n",
       "               [[ 1.2228, -0.1741,  0.1163],\n",
       "                [-0.4770, -1.3838,  0.2095]],\n",
       "       \n",
       "               [[ 1.2228, -0.1741,  0.1163],\n",
       "                [-0.4770, -1.3838,  0.2095]],\n",
       "       \n",
       "               [[ 1.2228, -0.1741,  0.1163],\n",
       "                [-0.4770, -1.3838,  0.2095]],\n",
       "       \n",
       "               [[ 1.2228, -0.1741,  0.1163],\n",
       "                [-0.4770, -1.3838,  0.2095]]]),\n",
       "    x: Batch(\n",
       "           c: tensor([[[ 1.3899, -0.3018, -1.2745, -0.3082],\n",
       "                       [-1.5126, -3.3403,  0.7599, -0.7156],\n",
       "                       [ 0.7037,  0.8844,  0.1097,  0.3929]],\n",
       "              \n",
       "                      [[ 1.3899, -0.3018, -1.2745, -0.3082],\n",
       "                       [-1.5126, -3.3403,  0.7599, -0.7156],\n",
       "                       [ 0.7037,  0.8844,  0.1097,  0.3929]],\n",
       "              \n",
       "                      [[ 1.3899, -0.3018, -1.2745, -0.3082],\n",
       "                       [-1.5126, -3.3403,  0.7599, -0.7156],\n",
       "                       [ 0.7037,  0.8844,  0.1097,  0.3929]],\n",
       "              \n",
       "                      [[ 1.3899, -0.3018, -1.2745, -0.3082],\n",
       "                       [-1.5126, -3.3403,  0.7599, -0.7156],\n",
       "                       [ 0.7037,  0.8844,  0.1097,  0.3929]],\n",
       "              \n",
       "                      [[ 1.3899, -0.3018, -1.2745, -0.3082],\n",
       "                       [-1.5126, -3.3403,  0.7599, -0.7156],\n",
       "                       [ 0.7037,  0.8844,  0.1097,  0.3929]],\n",
       "              \n",
       "                      [[ 1.3899, -0.3018, -1.2745, -0.3082],\n",
       "                       [-1.5126, -3.3403,  0.7599, -0.7156],\n",
       "                       [ 0.7037,  0.8844,  0.1097,  0.3929]],\n",
       "              \n",
       "                      [[ 1.3899, -0.3018, -1.2745, -0.3082],\n",
       "                       [-1.5126, -3.3403,  0.7599, -0.7156],\n",
       "                       [ 0.7037,  0.8844,  0.1097,  0.3929]],\n",
       "              \n",
       "                      [[ 1.3899, -0.3018, -1.2745, -0.3082],\n",
       "                       [-1.5126, -3.3403,  0.7599, -0.7156],\n",
       "                       [ 0.7037,  0.8844,  0.1097,  0.3929]]]),\n",
       "       ),\n",
       ")"
      ]
     },
     "execution_count": 25,
     "metadata": {},
     "output_type": "execute_result"
    }
   ],
   "source": [
    "batches = [Batch(**_TREE_DATA_2) for _ in range(8)]\n",
    "\n",
    "Batch.stack(batches)"
   ]
  },
  {
   "cell_type": "code",
   "execution_count": 26,
   "id": "ec9037a3",
   "metadata": {
    "execution": {
     "iopub.execute_input": "2023-02-27T12:53:08.090169Z",
     "iopub.status.busy": "2023-02-27T12:53:08.089799Z",
     "iopub.status.idle": "2023-02-27T12:53:14.385769Z",
     "shell.execute_reply": "2023-02-27T12:53:14.384988Z"
    }
   },
   "outputs": [
    {
     "name": "stdout",
     "output_type": "stream",
     "text": [
      "77.5 µs ± 283 ns per loop (mean ± std. dev. of 7 runs, 10,000 loops each)\n"
     ]
    }
   ],
   "source": [
    "%timeit Batch.stack(batches)"
   ]
  },
  {
   "cell_type": "code",
   "execution_count": 27,
   "id": "cb8ab77e",
   "metadata": {
    "execution": {
     "iopub.execute_input": "2023-02-27T12:53:14.391783Z",
     "iopub.status.busy": "2023-02-27T12:53:14.391287Z",
     "iopub.status.idle": "2023-02-27T12:53:14.398906Z",
     "shell.execute_reply": "2023-02-27T12:53:14.398295Z"
    }
   },
   "outputs": [
    {
     "data": {
      "text/plain": [
       "Batch(\n",
       "    a: tensor([[ 1.2228, -0.1741,  0.1163],\n",
       "               [-0.4770, -1.3838,  0.2095],\n",
       "               [ 1.2228, -0.1741,  0.1163],\n",
       "               [-0.4770, -1.3838,  0.2095],\n",
       "               [ 1.2228, -0.1741,  0.1163],\n",
       "               [-0.4770, -1.3838,  0.2095],\n",
       "               [ 1.2228, -0.1741,  0.1163],\n",
       "               [-0.4770, -1.3838,  0.2095],\n",
       "               [ 1.2228, -0.1741,  0.1163],\n",
       "               [-0.4770, -1.3838,  0.2095],\n",
       "               [ 1.2228, -0.1741,  0.1163],\n",
       "               [-0.4770, -1.3838,  0.2095],\n",
       "               [ 1.2228, -0.1741,  0.1163],\n",
       "               [-0.4770, -1.3838,  0.2095],\n",
       "               [ 1.2228, -0.1741,  0.1163],\n",
       "               [-0.4770, -1.3838,  0.2095]]),\n",
       "    x: Batch(\n",
       "           c: tensor([[ 1.3899, -0.3018, -1.2745, -0.3082],\n",
       "                      [-1.5126, -3.3403,  0.7599, -0.7156],\n",
       "                      [ 0.7037,  0.8844,  0.1097,  0.3929],\n",
       "                      [ 1.3899, -0.3018, -1.2745, -0.3082],\n",
       "                      [-1.5126, -3.3403,  0.7599, -0.7156],\n",
       "                      [ 0.7037,  0.8844,  0.1097,  0.3929],\n",
       "                      [ 1.3899, -0.3018, -1.2745, -0.3082],\n",
       "                      [-1.5126, -3.3403,  0.7599, -0.7156],\n",
       "                      [ 0.7037,  0.8844,  0.1097,  0.3929],\n",
       "                      [ 1.3899, -0.3018, -1.2745, -0.3082],\n",
       "                      [-1.5126, -3.3403,  0.7599, -0.7156],\n",
       "                      [ 0.7037,  0.8844,  0.1097,  0.3929],\n",
       "                      [ 1.3899, -0.3018, -1.2745, -0.3082],\n",
       "                      [-1.5126, -3.3403,  0.7599, -0.7156],\n",
       "                      [ 0.7037,  0.8844,  0.1097,  0.3929],\n",
       "                      [ 1.3899, -0.3018, -1.2745, -0.3082],\n",
       "                      [-1.5126, -3.3403,  0.7599, -0.7156],\n",
       "                      [ 0.7037,  0.8844,  0.1097,  0.3929],\n",
       "                      [ 1.3899, -0.3018, -1.2745, -0.3082],\n",
       "                      [-1.5126, -3.3403,  0.7599, -0.7156],\n",
       "                      [ 0.7037,  0.8844,  0.1097,  0.3929],\n",
       "                      [ 1.3899, -0.3018, -1.2745, -0.3082],\n",
       "                      [-1.5126, -3.3403,  0.7599, -0.7156],\n",
       "                      [ 0.7037,  0.8844,  0.1097,  0.3929]]),\n",
       "       ),\n",
       ")"
      ]
     },
     "execution_count": 27,
     "metadata": {},
     "output_type": "execute_result"
    }
   ],
   "source": [
    "Batch.cat(batches)"
   ]
  },
  {
   "cell_type": "code",
   "execution_count": 28,
   "id": "18dfb045",
   "metadata": {
    "execution": {
     "iopub.execute_input": "2023-02-27T12:53:14.401469Z",
     "iopub.status.busy": "2023-02-27T12:53:14.401142Z",
     "iopub.status.idle": "2023-02-27T12:53:25.989537Z",
     "shell.execute_reply": "2023-02-27T12:53:25.988778Z"
    }
   },
   "outputs": [
    {
     "name": "stdout",
     "output_type": "stream",
     "text": [
      "143 µs ± 412 ns per loop (mean ± std. dev. of 7 runs, 10,000 loops each)\n"
     ]
    }
   ],
   "source": [
    "%timeit Batch.cat(batches)"
   ]
  },
  {
   "cell_type": "code",
   "execution_count": 29,
   "id": "c6688e51",
   "metadata": {
    "execution": {
     "iopub.execute_input": "2023-02-27T12:53:25.992224Z",
     "iopub.status.busy": "2023-02-27T12:53:25.991870Z",
     "iopub.status.idle": "2023-02-27T12:53:28.467595Z",
     "shell.execute_reply": "2023-02-27T12:53:28.467002Z"
    }
   },
   "outputs": [
    {
     "name": "stdout",
     "output_type": "stream",
     "text": [
      "304 µs ± 3.46 µs per loop (mean ± std. dev. of 7 runs, 1,000 loops each)\n"
     ]
    }
   ],
   "source": [
    "batch = Batch({\n",
    "    'obs': torch.randn(8, 4, 84, 84),\n",
    "    'action': torch.randint(0, 6, size=(8, 1,)),\n",
    "    'reward': torch.rand(8, 1)}\n",
    ")\n",
    "\n",
    "%timeit list(Batch.split(batch, 1, shuffle=False, merge_last=True))"
   ]
  },
  {
   "cell_type": "code",
   "execution_count": null,
   "id": "2539fbd9",
   "metadata": {},
   "outputs": [],
   "source": []
  }
 ],
 "metadata": {
  "kernelspec": {
   "display_name": "Python 3 (ipykernel)",
   "language": "python",
   "name": "python3"
  },
  "language_info": {
   "codemirror_mode": {
    "name": "ipython",
    "version": 3
   },
   "file_extension": ".py",
   "mimetype": "text/x-python",
   "name": "python",
   "nbconvert_exporter": "python",
   "pygments_lexer": "ipython3",
   "version": "3.8.16"
  }
 },
 "nbformat": 4,
 "nbformat_minor": 5
}
