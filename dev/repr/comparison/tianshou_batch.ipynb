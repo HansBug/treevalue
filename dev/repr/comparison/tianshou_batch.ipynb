{
 "cells": [
  {
   "cell_type": "markdown",
   "id": "9d39d946",
   "metadata": {},
   "source": [
    "# Comparison Between TreeValue and Tianshou Batch"
   ]
  },
  {
   "cell_type": "markdown",
   "id": "3c6db2d4",
   "metadata": {},
   "source": [
    "In this section, we will take a look at the feature and performance of the [Tianshou Batch](https://github.com/thu-ml/tianshou) library, which is developed by Tsinghua Machine Learning Group."
   ]
  },
  {
   "cell_type": "markdown",
   "id": "069361b0",
   "metadata": {},
   "source": [
    "Before starting the comparison, let us define some thing."
   ]
  },
  {
   "cell_type": "code",
   "execution_count": 1,
   "id": "06fc8d26",
   "metadata": {
    "execution": {
     "iopub.execute_input": "2023-02-25T19:06:14.681631Z",
     "iopub.status.busy": "2023-02-25T19:06:14.680715Z",
     "iopub.status.idle": "2023-02-25T19:06:15.609073Z",
     "shell.execute_reply": "2023-02-25T19:06:15.608385Z"
    }
   },
   "outputs": [
    {
     "name": "stderr",
     "output_type": "stream",
     "text": [
      "/opt/hostedtoolcache/Python/3.8.16/x64/lib/python3.8/site-packages/tqdm/auto.py:22: TqdmWarning: IProgress not found. Please update jupyter and ipywidgets. See https://ipywidgets.readthedocs.io/en/stable/user_install.html\n",
      "  from .autonotebook import tqdm as notebook_tqdm\n"
     ]
    }
   ],
   "source": [
    "import torch \n",
    "\n",
    "_TREE_DATA_1 = {'a': 1, 'b': 2, 'x': {'c': 3, 'd': 4}}\n",
    "_TREE_DATA_2 = {\n",
    "    'a': torch.randn(2, 3), \n",
    "    'x': {\n",
    "        'c': torch.randn(3, 4)\n",
    "    },\n",
    "}\n",
    "_TREE_DATA_3 = {\n",
    "    'obs': torch.randn(4, 84, 84),\n",
    "    'action': torch.randint(0, 6, size=(1,)),\n",
    "    'reward': torch.rand(1),\n",
    "}"
   ]
  },
  {
   "cell_type": "markdown",
   "id": "83461b25",
   "metadata": {},
   "source": [
    "## Read and Write Operation"
   ]
  },
  {
   "cell_type": "markdown",
   "id": "067b3f73",
   "metadata": {},
   "source": [
    "Reading and writing are the two most common operations in the tree data structure based on the data model (TreeValue and Tianshou Batch both belong to this type), so this section will compare the reading and writing performance of these two libraries."
   ]
  },
  {
   "cell_type": "markdown",
   "id": "5d09a5b7",
   "metadata": {},
   "source": [
    "### TreeValue's Get and Set"
   ]
  },
  {
   "cell_type": "code",
   "execution_count": 2,
   "id": "9519c4bb",
   "metadata": {
    "execution": {
     "iopub.execute_input": "2023-02-25T19:06:15.612521Z",
     "iopub.status.busy": "2023-02-25T19:06:15.612099Z",
     "iopub.status.idle": "2023-02-25T19:06:15.646616Z",
     "shell.execute_reply": "2023-02-25T19:06:15.645955Z"
    }
   },
   "outputs": [],
   "source": [
    "from treevalue import FastTreeValue\n",
    "\n",
    "t = FastTreeValue(_TREE_DATA_2)"
   ]
  },
  {
   "cell_type": "code",
   "execution_count": 3,
   "id": "11c37677",
   "metadata": {
    "execution": {
     "iopub.execute_input": "2023-02-25T19:06:15.649919Z",
     "iopub.status.busy": "2023-02-25T19:06:15.649386Z",
     "iopub.status.idle": "2023-02-25T19:06:15.659107Z",
     "shell.execute_reply": "2023-02-25T19:06:15.658491Z"
    }
   },
   "outputs": [
    {
     "data": {
      "text/plain": [
       "<FastTreeValue 0x7fd4f4d18bb0>\n",
       "├── 'a' --> tensor([[-0.6265,  1.1939,  0.1541],\n",
       "│                   [ 0.1267, -0.8559,  0.6731]])\n",
       "└── 'x' --> <FastTreeValue 0x7fd4f4d185b0>\n",
       "    └── 'c' --> tensor([[-0.6056,  2.2088,  1.0857,  0.0697],\n",
       "                        [ 0.7068, -1.3729, -0.5308,  1.3769],\n",
       "                        [ 0.2867,  0.6580,  0.5015,  0.0493]])"
      ]
     },
     "execution_count": 3,
     "metadata": {},
     "output_type": "execute_result"
    }
   ],
   "source": [
    "t"
   ]
  },
  {
   "cell_type": "code",
   "execution_count": 4,
   "id": "fd70b0b9",
   "metadata": {
    "execution": {
     "iopub.execute_input": "2023-02-25T19:06:15.661921Z",
     "iopub.status.busy": "2023-02-25T19:06:15.661573Z",
     "iopub.status.idle": "2023-02-25T19:06:15.667300Z",
     "shell.execute_reply": "2023-02-25T19:06:15.666704Z"
    }
   },
   "outputs": [
    {
     "data": {
      "text/plain": [
       "tensor([[-0.6265,  1.1939,  0.1541],\n",
       "        [ 0.1267, -0.8559,  0.6731]])"
      ]
     },
     "execution_count": 4,
     "metadata": {},
     "output_type": "execute_result"
    }
   ],
   "source": [
    "t.a"
   ]
  },
  {
   "cell_type": "code",
   "execution_count": 5,
   "id": "c18197bd",
   "metadata": {
    "execution": {
     "iopub.execute_input": "2023-02-25T19:06:15.670187Z",
     "iopub.status.busy": "2023-02-25T19:06:15.669684Z",
     "iopub.status.idle": "2023-02-25T19:06:20.791531Z",
     "shell.execute_reply": "2023-02-25T19:06:20.790745Z"
    }
   },
   "outputs": [
    {
     "name": "stdout",
     "output_type": "stream",
     "text": [
      "63 ns ± 0.0311 ns per loop (mean ± std. dev. of 7 runs, 10,000,000 loops each)\n"
     ]
    }
   ],
   "source": [
    "%timeit t.a"
   ]
  },
  {
   "cell_type": "code",
   "execution_count": 6,
   "id": "bd52f867",
   "metadata": {
    "execution": {
     "iopub.execute_input": "2023-02-25T19:06:20.794673Z",
     "iopub.status.busy": "2023-02-25T19:06:20.794214Z",
     "iopub.status.idle": "2023-02-25T19:06:20.800780Z",
     "shell.execute_reply": "2023-02-25T19:06:20.800186Z"
    }
   },
   "outputs": [
    {
     "data": {
      "text/plain": [
       "<FastTreeValue 0x7fd4f4d18bb0>\n",
       "├── 'a' --> tensor([[-0.2427, -1.4583,  0.5375],\n",
       "│                   [-0.8978,  0.7204, -0.1646]])\n",
       "└── 'x' --> <FastTreeValue 0x7fd4f4d185b0>\n",
       "    └── 'c' --> tensor([[-0.6056,  2.2088,  1.0857,  0.0697],\n",
       "                        [ 0.7068, -1.3729, -0.5308,  1.3769],\n",
       "                        [ 0.2867,  0.6580,  0.5015,  0.0493]])"
      ]
     },
     "execution_count": 6,
     "metadata": {},
     "output_type": "execute_result"
    }
   ],
   "source": [
    "new_value = torch.randn(2, 3)\n",
    "t.a = new_value\n",
    "\n",
    "t"
   ]
  },
  {
   "cell_type": "code",
   "execution_count": 7,
   "id": "bbe04d1c",
   "metadata": {
    "execution": {
     "iopub.execute_input": "2023-02-25T19:06:20.803437Z",
     "iopub.status.busy": "2023-02-25T19:06:20.803088Z",
     "iopub.status.idle": "2023-02-25T19:06:26.149727Z",
     "shell.execute_reply": "2023-02-25T19:06:26.148983Z"
    }
   },
   "outputs": [
    {
     "name": "stdout",
     "output_type": "stream",
     "text": [
      "65.7 ns ± 0.0554 ns per loop (mean ± std. dev. of 7 runs, 10,000,000 loops each)\n"
     ]
    }
   ],
   "source": [
    "%timeit t.a = new_value"
   ]
  },
  {
   "cell_type": "markdown",
   "id": "48c49731",
   "metadata": {},
   "source": [
    "### Tianshou Batch's Get and Set"
   ]
  },
  {
   "cell_type": "code",
   "execution_count": 8,
   "id": "f1bb14c1",
   "metadata": {
    "execution": {
     "iopub.execute_input": "2023-02-25T19:06:26.152637Z",
     "iopub.status.busy": "2023-02-25T19:06:26.152278Z",
     "iopub.status.idle": "2023-02-25T19:06:26.495125Z",
     "shell.execute_reply": "2023-02-25T19:06:26.494402Z"
    }
   },
   "outputs": [],
   "source": [
    "from tianshou.data import Batch\n",
    "\n",
    "b = Batch(**_TREE_DATA_2)"
   ]
  },
  {
   "cell_type": "code",
   "execution_count": 9,
   "id": "cb0777c3",
   "metadata": {
    "execution": {
     "iopub.execute_input": "2023-02-25T19:06:26.498822Z",
     "iopub.status.busy": "2023-02-25T19:06:26.498141Z",
     "iopub.status.idle": "2023-02-25T19:06:26.504392Z",
     "shell.execute_reply": "2023-02-25T19:06:26.503713Z"
    }
   },
   "outputs": [
    {
     "data": {
      "text/plain": [
       "Batch(\n",
       "    a: tensor([[-0.6265,  1.1939,  0.1541],\n",
       "               [ 0.1267, -0.8559,  0.6731]]),\n",
       "    x: Batch(\n",
       "           c: tensor([[-0.6056,  2.2088,  1.0857,  0.0697],\n",
       "                      [ 0.7068, -1.3729, -0.5308,  1.3769],\n",
       "                      [ 0.2867,  0.6580,  0.5015,  0.0493]]),\n",
       "       ),\n",
       ")"
      ]
     },
     "execution_count": 9,
     "metadata": {},
     "output_type": "execute_result"
    }
   ],
   "source": [
    "b"
   ]
  },
  {
   "cell_type": "code",
   "execution_count": 10,
   "id": "43ef8ea3",
   "metadata": {
    "execution": {
     "iopub.execute_input": "2023-02-25T19:06:26.507507Z",
     "iopub.status.busy": "2023-02-25T19:06:26.506973Z",
     "iopub.status.idle": "2023-02-25T19:06:26.512394Z",
     "shell.execute_reply": "2023-02-25T19:06:26.511801Z"
    }
   },
   "outputs": [
    {
     "data": {
      "text/plain": [
       "tensor([[-0.6265,  1.1939,  0.1541],\n",
       "        [ 0.1267, -0.8559,  0.6731]])"
      ]
     },
     "execution_count": 10,
     "metadata": {},
     "output_type": "execute_result"
    }
   ],
   "source": [
    "b.a"
   ]
  },
  {
   "cell_type": "code",
   "execution_count": 11,
   "id": "b785ab72",
   "metadata": {
    "execution": {
     "iopub.execute_input": "2023-02-25T19:06:26.514867Z",
     "iopub.status.busy": "2023-02-25T19:06:26.514512Z",
     "iopub.status.idle": "2023-02-25T19:06:31.165607Z",
     "shell.execute_reply": "2023-02-25T19:06:31.164848Z"
    }
   },
   "outputs": [
    {
     "name": "stdout",
     "output_type": "stream",
     "text": [
      "57.1 ns ± 0.0391 ns per loop (mean ± std. dev. of 7 runs, 10,000,000 loops each)\n"
     ]
    }
   ],
   "source": [
    "%timeit b.a"
   ]
  },
  {
   "cell_type": "code",
   "execution_count": 12,
   "id": "ad54dc69",
   "metadata": {
    "execution": {
     "iopub.execute_input": "2023-02-25T19:06:31.169009Z",
     "iopub.status.busy": "2023-02-25T19:06:31.168325Z",
     "iopub.status.idle": "2023-02-25T19:06:31.175016Z",
     "shell.execute_reply": "2023-02-25T19:06:31.174373Z"
    }
   },
   "outputs": [
    {
     "data": {
      "text/plain": [
       "Batch(\n",
       "    a: tensor([[-0.7154,  0.3043, -0.5537],\n",
       "               [ 0.7970,  0.7904, -1.2111]]),\n",
       "    x: Batch(\n",
       "           c: tensor([[-0.6056,  2.2088,  1.0857,  0.0697],\n",
       "                      [ 0.7068, -1.3729, -0.5308,  1.3769],\n",
       "                      [ 0.2867,  0.6580,  0.5015,  0.0493]]),\n",
       "       ),\n",
       ")"
      ]
     },
     "execution_count": 12,
     "metadata": {},
     "output_type": "execute_result"
    }
   ],
   "source": [
    "new_value = torch.randn(2, 3)\n",
    "b.a = new_value\n",
    "\n",
    "b"
   ]
  },
  {
   "cell_type": "code",
   "execution_count": 13,
   "id": "29b1d0bf",
   "metadata": {
    "execution": {
     "iopub.execute_input": "2023-02-25T19:06:31.177547Z",
     "iopub.status.busy": "2023-02-25T19:06:31.177192Z",
     "iopub.status.idle": "2023-02-25T19:06:35.112049Z",
     "shell.execute_reply": "2023-02-25T19:06:35.111305Z"
    }
   },
   "outputs": [
    {
     "name": "stdout",
     "output_type": "stream",
     "text": [
      "484 ns ± 0.0859 ns per loop (mean ± std. dev. of 7 runs, 1,000,000 loops each)\n"
     ]
    }
   ],
   "source": [
    "%timeit b.a = new_value"
   ]
  },
  {
   "cell_type": "markdown",
   "id": "b61ad1d0",
   "metadata": {},
   "source": [
    "## Initialization"
   ]
  },
  {
   "cell_type": "markdown",
   "id": "d70f0d54",
   "metadata": {},
   "source": [
    "### TreeValue's Initialization"
   ]
  },
  {
   "cell_type": "code",
   "execution_count": 14,
   "id": "d32a679b",
   "metadata": {
    "execution": {
     "iopub.execute_input": "2023-02-25T19:06:35.114915Z",
     "iopub.status.busy": "2023-02-25T19:06:35.114543Z",
     "iopub.status.idle": "2023-02-25T19:06:42.475979Z",
     "shell.execute_reply": "2023-02-25T19:06:42.475259Z"
    }
   },
   "outputs": [
    {
     "name": "stdout",
     "output_type": "stream",
     "text": [
      "905 ns ± 7.06 ns per loop (mean ± std. dev. of 7 runs, 1,000,000 loops each)\n"
     ]
    }
   ],
   "source": [
    "%timeit FastTreeValue(_TREE_DATA_1)"
   ]
  },
  {
   "cell_type": "markdown",
   "id": "24f3707b",
   "metadata": {},
   "source": [
    "### Tianshou Batch's Initialization"
   ]
  },
  {
   "cell_type": "code",
   "execution_count": 15,
   "id": "ac3958df",
   "metadata": {
    "execution": {
     "iopub.execute_input": "2023-02-25T19:06:42.479039Z",
     "iopub.status.busy": "2023-02-25T19:06:42.478657Z",
     "iopub.status.idle": "2023-02-25T19:06:51.703816Z",
     "shell.execute_reply": "2023-02-25T19:06:51.703147Z"
    }
   },
   "outputs": [
    {
     "name": "stdout",
     "output_type": "stream",
     "text": [
      "11.4 µs ± 26.8 ns per loop (mean ± std. dev. of 7 runs, 100,000 loops each)\n"
     ]
    }
   ],
   "source": [
    "%timeit Batch(**_TREE_DATA_1)"
   ]
  },
  {
   "cell_type": "markdown",
   "id": "1ab82e2d",
   "metadata": {},
   "source": [
    "## Deep Copy Operation"
   ]
  },
  {
   "cell_type": "code",
   "execution_count": 16,
   "id": "210a9442",
   "metadata": {
    "execution": {
     "iopub.execute_input": "2023-02-25T19:06:51.707012Z",
     "iopub.status.busy": "2023-02-25T19:06:51.706427Z",
     "iopub.status.idle": "2023-02-25T19:06:51.710075Z",
     "shell.execute_reply": "2023-02-25T19:06:51.709458Z"
    }
   },
   "outputs": [],
   "source": [
    "import copy"
   ]
  },
  {
   "cell_type": "markdown",
   "id": "5a736274",
   "metadata": {},
   "source": [
    "### Deep Copy of TreeValue"
   ]
  },
  {
   "cell_type": "code",
   "execution_count": 17,
   "id": "f9bcadd6",
   "metadata": {
    "execution": {
     "iopub.execute_input": "2023-02-25T19:06:51.712749Z",
     "iopub.status.busy": "2023-02-25T19:06:51.712184Z",
     "iopub.status.idle": "2023-02-25T19:07:02.668357Z",
     "shell.execute_reply": "2023-02-25T19:07:02.667802Z"
    }
   },
   "outputs": [
    {
     "name": "stdout",
     "output_type": "stream",
     "text": [
      "135 µs ± 327 ns per loop (mean ± std. dev. of 7 runs, 10,000 loops each)\n"
     ]
    }
   ],
   "source": [
    "t3 = FastTreeValue(_TREE_DATA_3)\n",
    "%timeit copy.deepcopy(t3)"
   ]
  },
  {
   "cell_type": "markdown",
   "id": "bf8be7ea",
   "metadata": {},
   "source": [
    "### Deep Copy of Tianshou Batch"
   ]
  },
  {
   "cell_type": "code",
   "execution_count": 18,
   "id": "91998e6f",
   "metadata": {
    "execution": {
     "iopub.execute_input": "2023-02-25T19:07:02.671134Z",
     "iopub.status.busy": "2023-02-25T19:07:02.670756Z",
     "iopub.status.idle": "2023-02-25T19:07:14.048187Z",
     "shell.execute_reply": "2023-02-25T19:07:14.047613Z"
    }
   },
   "outputs": [
    {
     "name": "stdout",
     "output_type": "stream",
     "text": [
      "140 µs ± 360 ns per loop (mean ± std. dev. of 7 runs, 10,000 loops each)\n"
     ]
    }
   ],
   "source": [
    "b3 = Batch(**_TREE_DATA_3)\n",
    "%timeit copy.deepcopy(b3)"
   ]
  },
  {
   "cell_type": "markdown",
   "id": "223162fb",
   "metadata": {},
   "source": [
    "## Stack, Concat and Split Operation"
   ]
  },
  {
   "cell_type": "markdown",
   "id": "85fa4a73",
   "metadata": {},
   "source": [
    "### Performance of TreeValue"
   ]
  },
  {
   "cell_type": "code",
   "execution_count": 19,
   "id": "a0c2b697",
   "metadata": {
    "execution": {
     "iopub.execute_input": "2023-02-25T19:07:14.051041Z",
     "iopub.status.busy": "2023-02-25T19:07:14.050659Z",
     "iopub.status.idle": "2023-02-25T19:07:14.053768Z",
     "shell.execute_reply": "2023-02-25T19:07:14.053236Z"
    }
   },
   "outputs": [],
   "source": [
    "trees = [FastTreeValue(_TREE_DATA_2) for _ in range(8)]"
   ]
  },
  {
   "cell_type": "code",
   "execution_count": 20,
   "id": "017ea5a5",
   "metadata": {
    "execution": {
     "iopub.execute_input": "2023-02-25T19:07:14.056803Z",
     "iopub.status.busy": "2023-02-25T19:07:14.056444Z",
     "iopub.status.idle": "2023-02-25T19:07:14.063220Z",
     "shell.execute_reply": "2023-02-25T19:07:14.062695Z"
    }
   },
   "outputs": [
    {
     "data": {
      "text/plain": [
       "<FastTreeValue 0x7fd448a1fa00>\n",
       "├── 'a' --> tensor([[[-0.6265,  1.1939,  0.1541],\n",
       "│                    [ 0.1267, -0.8559,  0.6731]],\n",
       "│           \n",
       "│                   [[-0.6265,  1.1939,  0.1541],\n",
       "│                    [ 0.1267, -0.8559,  0.6731]],\n",
       "│           \n",
       "│                   [[-0.6265,  1.1939,  0.1541],\n",
       "│                    [ 0.1267, -0.8559,  0.6731]],\n",
       "│           \n",
       "│                   [[-0.6265,  1.1939,  0.1541],\n",
       "│                    [ 0.1267, -0.8559,  0.6731]],\n",
       "│           \n",
       "│                   [[-0.6265,  1.1939,  0.1541],\n",
       "│                    [ 0.1267, -0.8559,  0.6731]],\n",
       "│           \n",
       "│                   [[-0.6265,  1.1939,  0.1541],\n",
       "│                    [ 0.1267, -0.8559,  0.6731]],\n",
       "│           \n",
       "│                   [[-0.6265,  1.1939,  0.1541],\n",
       "│                    [ 0.1267, -0.8559,  0.6731]],\n",
       "│           \n",
       "│                   [[-0.6265,  1.1939,  0.1541],\n",
       "│                    [ 0.1267, -0.8559,  0.6731]]])\n",
       "└── 'x' --> <FastTreeValue 0x7fd448a1f9d0>\n",
       "    └── 'c' --> tensor([[[-0.6056,  2.2088,  1.0857,  0.0697],\n",
       "                         [ 0.7068, -1.3729, -0.5308,  1.3769],\n",
       "                         [ 0.2867,  0.6580,  0.5015,  0.0493]],\n",
       "                \n",
       "                        [[-0.6056,  2.2088,  1.0857,  0.0697],\n",
       "                         [ 0.7068, -1.3729, -0.5308,  1.3769],\n",
       "                         [ 0.2867,  0.6580,  0.5015,  0.0493]],\n",
       "                \n",
       "                        [[-0.6056,  2.2088,  1.0857,  0.0697],\n",
       "                         [ 0.7068, -1.3729, -0.5308,  1.3769],\n",
       "                         [ 0.2867,  0.6580,  0.5015,  0.0493]],\n",
       "                \n",
       "                        [[-0.6056,  2.2088,  1.0857,  0.0697],\n",
       "                         [ 0.7068, -1.3729, -0.5308,  1.3769],\n",
       "                         [ 0.2867,  0.6580,  0.5015,  0.0493]],\n",
       "                \n",
       "                        [[-0.6056,  2.2088,  1.0857,  0.0697],\n",
       "                         [ 0.7068, -1.3729, -0.5308,  1.3769],\n",
       "                         [ 0.2867,  0.6580,  0.5015,  0.0493]],\n",
       "                \n",
       "                        [[-0.6056,  2.2088,  1.0857,  0.0697],\n",
       "                         [ 0.7068, -1.3729, -0.5308,  1.3769],\n",
       "                         [ 0.2867,  0.6580,  0.5015,  0.0493]],\n",
       "                \n",
       "                        [[-0.6056,  2.2088,  1.0857,  0.0697],\n",
       "                         [ 0.7068, -1.3729, -0.5308,  1.3769],\n",
       "                         [ 0.2867,  0.6580,  0.5015,  0.0493]],\n",
       "                \n",
       "                        [[-0.6056,  2.2088,  1.0857,  0.0697],\n",
       "                         [ 0.7068, -1.3729, -0.5308,  1.3769],\n",
       "                         [ 0.2867,  0.6580,  0.5015,  0.0493]]])"
      ]
     },
     "execution_count": 20,
     "metadata": {},
     "output_type": "execute_result"
    }
   ],
   "source": [
    "t_stack = FastTreeValue.func(subside=True)(torch.stack)\n",
    "\n",
    "t_stack(trees)"
   ]
  },
  {
   "cell_type": "code",
   "execution_count": 21,
   "id": "f8b3f415",
   "metadata": {
    "execution": {
     "iopub.execute_input": "2023-02-25T19:07:14.065618Z",
     "iopub.status.busy": "2023-02-25T19:07:14.065282Z",
     "iopub.status.idle": "2023-02-25T19:07:16.665414Z",
     "shell.execute_reply": "2023-02-25T19:07:16.664672Z"
    }
   },
   "outputs": [
    {
     "name": "stdout",
     "output_type": "stream",
     "text": [
      "32 µs ± 193 ns per loop (mean ± std. dev. of 7 runs, 10,000 loops each)\n"
     ]
    }
   ],
   "source": [
    "%timeit t_stack(trees)"
   ]
  },
  {
   "cell_type": "code",
   "execution_count": 22,
   "id": "94b56771",
   "metadata": {
    "execution": {
     "iopub.execute_input": "2023-02-25T19:07:16.668610Z",
     "iopub.status.busy": "2023-02-25T19:07:16.668206Z",
     "iopub.status.idle": "2023-02-25T19:07:16.676367Z",
     "shell.execute_reply": "2023-02-25T19:07:16.675700Z"
    }
   },
   "outputs": [
    {
     "data": {
      "text/plain": [
       "<FastTreeValue 0x7fd4f4d524f0>\n",
       "├── 'a' --> tensor([[-0.6265,  1.1939,  0.1541],\n",
       "│                   [ 0.1267, -0.8559,  0.6731],\n",
       "│                   [-0.6265,  1.1939,  0.1541],\n",
       "│                   [ 0.1267, -0.8559,  0.6731],\n",
       "│                   [-0.6265,  1.1939,  0.1541],\n",
       "│                   [ 0.1267, -0.8559,  0.6731],\n",
       "│                   [-0.6265,  1.1939,  0.1541],\n",
       "│                   [ 0.1267, -0.8559,  0.6731],\n",
       "│                   [-0.6265,  1.1939,  0.1541],\n",
       "│                   [ 0.1267, -0.8559,  0.6731],\n",
       "│                   [-0.6265,  1.1939,  0.1541],\n",
       "│                   [ 0.1267, -0.8559,  0.6731],\n",
       "│                   [-0.6265,  1.1939,  0.1541],\n",
       "│                   [ 0.1267, -0.8559,  0.6731],\n",
       "│                   [-0.6265,  1.1939,  0.1541],\n",
       "│                   [ 0.1267, -0.8559,  0.6731]])\n",
       "└── 'x' --> <FastTreeValue 0x7fd4f4ce5460>\n",
       "    └── 'c' --> tensor([[-0.6056,  2.2088,  1.0857,  0.0697],\n",
       "                        [ 0.7068, -1.3729, -0.5308,  1.3769],\n",
       "                        [ 0.2867,  0.6580,  0.5015,  0.0493],\n",
       "                        [-0.6056,  2.2088,  1.0857,  0.0697],\n",
       "                        [ 0.7068, -1.3729, -0.5308,  1.3769],\n",
       "                        [ 0.2867,  0.6580,  0.5015,  0.0493],\n",
       "                        [-0.6056,  2.2088,  1.0857,  0.0697],\n",
       "                        [ 0.7068, -1.3729, -0.5308,  1.3769],\n",
       "                        [ 0.2867,  0.6580,  0.5015,  0.0493],\n",
       "                        [-0.6056,  2.2088,  1.0857,  0.0697],\n",
       "                        [ 0.7068, -1.3729, -0.5308,  1.3769],\n",
       "                        [ 0.2867,  0.6580,  0.5015,  0.0493],\n",
       "                        [-0.6056,  2.2088,  1.0857,  0.0697],\n",
       "                        [ 0.7068, -1.3729, -0.5308,  1.3769],\n",
       "                        [ 0.2867,  0.6580,  0.5015,  0.0493],\n",
       "                        [-0.6056,  2.2088,  1.0857,  0.0697],\n",
       "                        [ 0.7068, -1.3729, -0.5308,  1.3769],\n",
       "                        [ 0.2867,  0.6580,  0.5015,  0.0493],\n",
       "                        [-0.6056,  2.2088,  1.0857,  0.0697],\n",
       "                        [ 0.7068, -1.3729, -0.5308,  1.3769],\n",
       "                        [ 0.2867,  0.6580,  0.5015,  0.0493],\n",
       "                        [-0.6056,  2.2088,  1.0857,  0.0697],\n",
       "                        [ 0.7068, -1.3729, -0.5308,  1.3769],\n",
       "                        [ 0.2867,  0.6580,  0.5015,  0.0493]])"
      ]
     },
     "execution_count": 22,
     "metadata": {},
     "output_type": "execute_result"
    }
   ],
   "source": [
    "t_cat = FastTreeValue.func(subside=True)(torch.cat)\n",
    "\n",
    "t_cat(trees)"
   ]
  },
  {
   "cell_type": "code",
   "execution_count": 23,
   "id": "5e9c06a6",
   "metadata": {
    "execution": {
     "iopub.execute_input": "2023-02-25T19:07:16.679305Z",
     "iopub.status.busy": "2023-02-25T19:07:16.678743Z",
     "iopub.status.idle": "2023-02-25T19:07:19.184618Z",
     "shell.execute_reply": "2023-02-25T19:07:19.183899Z"
    }
   },
   "outputs": [
    {
     "name": "stdout",
     "output_type": "stream",
     "text": [
      "30.8 µs ± 67.9 ns per loop (mean ± std. dev. of 7 runs, 10,000 loops each)\n"
     ]
    }
   ],
   "source": [
    "%timeit t_cat(trees)"
   ]
  },
  {
   "cell_type": "code",
   "execution_count": 24,
   "id": "a3ab5c8f",
   "metadata": {
    "execution": {
     "iopub.execute_input": "2023-02-25T19:07:19.187304Z",
     "iopub.status.busy": "2023-02-25T19:07:19.187073Z",
     "iopub.status.idle": "2023-02-25T19:07:23.976046Z",
     "shell.execute_reply": "2023-02-25T19:07:23.975295Z"
    }
   },
   "outputs": [
    {
     "name": "stdout",
     "output_type": "stream",
     "text": [
      "58.9 µs ± 169 ns per loop (mean ± std. dev. of 7 runs, 10,000 loops each)\n"
     ]
    }
   ],
   "source": [
    "t_split = FastTreeValue.func(rise=True)(torch.split)\n",
    "tree = FastTreeValue({\n",
    "    'obs': torch.randn(8, 4, 84, 84),\n",
    "    'action': torch.randint(0, 6, size=(8, 1,)),\n",
    "    'reward': torch.rand(8, 1),\n",
    "})\n",
    "\n",
    "%timeit t_split(tree, 1)"
   ]
  },
  {
   "cell_type": "markdown",
   "id": "31c3ec0b",
   "metadata": {},
   "source": [
    "### Performance of Tianshou Batch"
   ]
  },
  {
   "cell_type": "code",
   "execution_count": 25,
   "id": "9ead828a",
   "metadata": {
    "execution": {
     "iopub.execute_input": "2023-02-25T19:07:23.978894Z",
     "iopub.status.busy": "2023-02-25T19:07:23.978542Z",
     "iopub.status.idle": "2023-02-25T19:07:23.986525Z",
     "shell.execute_reply": "2023-02-25T19:07:23.985938Z"
    }
   },
   "outputs": [
    {
     "data": {
      "text/plain": [
       "Batch(\n",
       "    a: tensor([[[-0.6265,  1.1939,  0.1541],\n",
       "                [ 0.1267, -0.8559,  0.6731]],\n",
       "       \n",
       "               [[-0.6265,  1.1939,  0.1541],\n",
       "                [ 0.1267, -0.8559,  0.6731]],\n",
       "       \n",
       "               [[-0.6265,  1.1939,  0.1541],\n",
       "                [ 0.1267, -0.8559,  0.6731]],\n",
       "       \n",
       "               [[-0.6265,  1.1939,  0.1541],\n",
       "                [ 0.1267, -0.8559,  0.6731]],\n",
       "       \n",
       "               [[-0.6265,  1.1939,  0.1541],\n",
       "                [ 0.1267, -0.8559,  0.6731]],\n",
       "       \n",
       "               [[-0.6265,  1.1939,  0.1541],\n",
       "                [ 0.1267, -0.8559,  0.6731]],\n",
       "       \n",
       "               [[-0.6265,  1.1939,  0.1541],\n",
       "                [ 0.1267, -0.8559,  0.6731]],\n",
       "       \n",
       "               [[-0.6265,  1.1939,  0.1541],\n",
       "                [ 0.1267, -0.8559,  0.6731]]]),\n",
       "    x: Batch(\n",
       "           c: tensor([[[-0.6056,  2.2088,  1.0857,  0.0697],\n",
       "                       [ 0.7068, -1.3729, -0.5308,  1.3769],\n",
       "                       [ 0.2867,  0.6580,  0.5015,  0.0493]],\n",
       "              \n",
       "                      [[-0.6056,  2.2088,  1.0857,  0.0697],\n",
       "                       [ 0.7068, -1.3729, -0.5308,  1.3769],\n",
       "                       [ 0.2867,  0.6580,  0.5015,  0.0493]],\n",
       "              \n",
       "                      [[-0.6056,  2.2088,  1.0857,  0.0697],\n",
       "                       [ 0.7068, -1.3729, -0.5308,  1.3769],\n",
       "                       [ 0.2867,  0.6580,  0.5015,  0.0493]],\n",
       "              \n",
       "                      [[-0.6056,  2.2088,  1.0857,  0.0697],\n",
       "                       [ 0.7068, -1.3729, -0.5308,  1.3769],\n",
       "                       [ 0.2867,  0.6580,  0.5015,  0.0493]],\n",
       "              \n",
       "                      [[-0.6056,  2.2088,  1.0857,  0.0697],\n",
       "                       [ 0.7068, -1.3729, -0.5308,  1.3769],\n",
       "                       [ 0.2867,  0.6580,  0.5015,  0.0493]],\n",
       "              \n",
       "                      [[-0.6056,  2.2088,  1.0857,  0.0697],\n",
       "                       [ 0.7068, -1.3729, -0.5308,  1.3769],\n",
       "                       [ 0.2867,  0.6580,  0.5015,  0.0493]],\n",
       "              \n",
       "                      [[-0.6056,  2.2088,  1.0857,  0.0697],\n",
       "                       [ 0.7068, -1.3729, -0.5308,  1.3769],\n",
       "                       [ 0.2867,  0.6580,  0.5015,  0.0493]],\n",
       "              \n",
       "                      [[-0.6056,  2.2088,  1.0857,  0.0697],\n",
       "                       [ 0.7068, -1.3729, -0.5308,  1.3769],\n",
       "                       [ 0.2867,  0.6580,  0.5015,  0.0493]]]),\n",
       "       ),\n",
       ")"
      ]
     },
     "execution_count": 25,
     "metadata": {},
     "output_type": "execute_result"
    }
   ],
   "source": [
    "batches = [Batch(**_TREE_DATA_2) for _ in range(8)]\n",
    "\n",
    "Batch.stack(batches)"
   ]
  },
  {
   "cell_type": "code",
   "execution_count": 26,
   "id": "ec9037a3",
   "metadata": {
    "execution": {
     "iopub.execute_input": "2023-02-25T19:07:23.989260Z",
     "iopub.status.busy": "2023-02-25T19:07:23.988751Z",
     "iopub.status.idle": "2023-02-25T19:07:30.351829Z",
     "shell.execute_reply": "2023-02-25T19:07:30.351099Z"
    }
   },
   "outputs": [
    {
     "name": "stdout",
     "output_type": "stream",
     "text": [
      "78.4 µs ± 148 ns per loop (mean ± std. dev. of 7 runs, 10,000 loops each)\n"
     ]
    }
   ],
   "source": [
    "%timeit Batch.stack(batches)"
   ]
  },
  {
   "cell_type": "code",
   "execution_count": 27,
   "id": "cb8ab77e",
   "metadata": {
    "execution": {
     "iopub.execute_input": "2023-02-25T19:07:30.354762Z",
     "iopub.status.busy": "2023-02-25T19:07:30.354187Z",
     "iopub.status.idle": "2023-02-25T19:07:30.361849Z",
     "shell.execute_reply": "2023-02-25T19:07:30.361233Z"
    }
   },
   "outputs": [
    {
     "data": {
      "text/plain": [
       "Batch(\n",
       "    a: tensor([[-0.6265,  1.1939,  0.1541],\n",
       "               [ 0.1267, -0.8559,  0.6731],\n",
       "               [-0.6265,  1.1939,  0.1541],\n",
       "               [ 0.1267, -0.8559,  0.6731],\n",
       "               [-0.6265,  1.1939,  0.1541],\n",
       "               [ 0.1267, -0.8559,  0.6731],\n",
       "               [-0.6265,  1.1939,  0.1541],\n",
       "               [ 0.1267, -0.8559,  0.6731],\n",
       "               [-0.6265,  1.1939,  0.1541],\n",
       "               [ 0.1267, -0.8559,  0.6731],\n",
       "               [-0.6265,  1.1939,  0.1541],\n",
       "               [ 0.1267, -0.8559,  0.6731],\n",
       "               [-0.6265,  1.1939,  0.1541],\n",
       "               [ 0.1267, -0.8559,  0.6731],\n",
       "               [-0.6265,  1.1939,  0.1541],\n",
       "               [ 0.1267, -0.8559,  0.6731]]),\n",
       "    x: Batch(\n",
       "           c: tensor([[-0.6056,  2.2088,  1.0857,  0.0697],\n",
       "                      [ 0.7068, -1.3729, -0.5308,  1.3769],\n",
       "                      [ 0.2867,  0.6580,  0.5015,  0.0493],\n",
       "                      [-0.6056,  2.2088,  1.0857,  0.0697],\n",
       "                      [ 0.7068, -1.3729, -0.5308,  1.3769],\n",
       "                      [ 0.2867,  0.6580,  0.5015,  0.0493],\n",
       "                      [-0.6056,  2.2088,  1.0857,  0.0697],\n",
       "                      [ 0.7068, -1.3729, -0.5308,  1.3769],\n",
       "                      [ 0.2867,  0.6580,  0.5015,  0.0493],\n",
       "                      [-0.6056,  2.2088,  1.0857,  0.0697],\n",
       "                      [ 0.7068, -1.3729, -0.5308,  1.3769],\n",
       "                      [ 0.2867,  0.6580,  0.5015,  0.0493],\n",
       "                      [-0.6056,  2.2088,  1.0857,  0.0697],\n",
       "                      [ 0.7068, -1.3729, -0.5308,  1.3769],\n",
       "                      [ 0.2867,  0.6580,  0.5015,  0.0493],\n",
       "                      [-0.6056,  2.2088,  1.0857,  0.0697],\n",
       "                      [ 0.7068, -1.3729, -0.5308,  1.3769],\n",
       "                      [ 0.2867,  0.6580,  0.5015,  0.0493],\n",
       "                      [-0.6056,  2.2088,  1.0857,  0.0697],\n",
       "                      [ 0.7068, -1.3729, -0.5308,  1.3769],\n",
       "                      [ 0.2867,  0.6580,  0.5015,  0.0493],\n",
       "                      [-0.6056,  2.2088,  1.0857,  0.0697],\n",
       "                      [ 0.7068, -1.3729, -0.5308,  1.3769],\n",
       "                      [ 0.2867,  0.6580,  0.5015,  0.0493]]),\n",
       "       ),\n",
       ")"
      ]
     },
     "execution_count": 27,
     "metadata": {},
     "output_type": "execute_result"
    }
   ],
   "source": [
    "Batch.cat(batches)"
   ]
  },
  {
   "cell_type": "code",
   "execution_count": 28,
   "id": "18dfb045",
   "metadata": {
    "execution": {
     "iopub.execute_input": "2023-02-25T19:07:30.364761Z",
     "iopub.status.busy": "2023-02-25T19:07:30.364245Z",
     "iopub.status.idle": "2023-02-25T19:07:41.909067Z",
     "shell.execute_reply": "2023-02-25T19:07:41.908310Z"
    }
   },
   "outputs": [
    {
     "name": "stdout",
     "output_type": "stream",
     "text": [
      "142 µs ± 74.4 ns per loop (mean ± std. dev. of 7 runs, 10,000 loops each)\n"
     ]
    }
   ],
   "source": [
    "%timeit Batch.cat(batches)"
   ]
  },
  {
   "cell_type": "code",
   "execution_count": 29,
   "id": "c6688e51",
   "metadata": {
    "execution": {
     "iopub.execute_input": "2023-02-25T19:07:41.912493Z",
     "iopub.status.busy": "2023-02-25T19:07:41.911947Z",
     "iopub.status.idle": "2023-02-25T19:07:44.412650Z",
     "shell.execute_reply": "2023-02-25T19:07:44.412083Z"
    }
   },
   "outputs": [
    {
     "name": "stdout",
     "output_type": "stream",
     "text": [
      "307 µs ± 790 ns per loop (mean ± std. dev. of 7 runs, 1,000 loops each)\n"
     ]
    }
   ],
   "source": [
    "batch = Batch({\n",
    "    'obs': torch.randn(8, 4, 84, 84),\n",
    "    'action': torch.randint(0, 6, size=(8, 1,)),\n",
    "    'reward': torch.rand(8, 1)}\n",
    ")\n",
    "\n",
    "%timeit list(Batch.split(batch, 1, shuffle=False, merge_last=True))"
   ]
  },
  {
   "cell_type": "code",
   "execution_count": null,
   "id": "2539fbd9",
   "metadata": {},
   "outputs": [],
   "source": []
  }
 ],
 "metadata": {
  "kernelspec": {
   "display_name": "Python 3 (ipykernel)",
   "language": "python",
   "name": "python3"
  },
  "language_info": {
   "codemirror_mode": {
    "name": "ipython",
    "version": 3
   },
   "file_extension": ".py",
   "mimetype": "text/x-python",
   "name": "python",
   "nbconvert_exporter": "python",
   "pygments_lexer": "ipython3",
   "version": "3.8.16"
  }
 },
 "nbformat": 4,
 "nbformat_minor": 5
}
