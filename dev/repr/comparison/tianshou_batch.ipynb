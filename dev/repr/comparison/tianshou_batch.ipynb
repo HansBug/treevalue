{
 "cells": [
  {
   "cell_type": "markdown",
   "id": "9d39d946",
   "metadata": {},
   "source": [
    "# Comparison Between TreeValue and Tianshou Batch"
   ]
  },
  {
   "cell_type": "markdown",
   "id": "3c6db2d4",
   "metadata": {},
   "source": [
    "In this section, we will take a look at the feature and performance of the [Tianshou Batch](https://github.com/thu-ml/tianshou) library, which is developed by Tsinghua Machine Learning Group."
   ]
  },
  {
   "cell_type": "markdown",
   "id": "069361b0",
   "metadata": {},
   "source": [
    "Before starting the comparison, let us define some thing."
   ]
  },
  {
   "cell_type": "code",
   "execution_count": 1,
   "id": "06fc8d26",
   "metadata": {
    "execution": {
     "iopub.execute_input": "2023-02-27T13:27:41.198775Z",
     "iopub.status.busy": "2023-02-27T13:27:41.198537Z",
     "iopub.status.idle": "2023-02-27T13:27:42.118934Z",
     "shell.execute_reply": "2023-02-27T13:27:42.118224Z"
    }
   },
   "outputs": [
    {
     "name": "stderr",
     "output_type": "stream",
     "text": [
      "/opt/hostedtoolcache/Python/3.8.16/x64/lib/python3.8/site-packages/tqdm/auto.py:22: TqdmWarning: IProgress not found. Please update jupyter and ipywidgets. See https://ipywidgets.readthedocs.io/en/stable/user_install.html\n",
      "  from .autonotebook import tqdm as notebook_tqdm\n"
     ]
    }
   ],
   "source": [
    "import torch \n",
    "\n",
    "_TREE_DATA_1 = {'a': 1, 'b': 2, 'x': {'c': 3, 'd': 4}}\n",
    "_TREE_DATA_2 = {\n",
    "    'a': torch.randn(2, 3), \n",
    "    'x': {\n",
    "        'c': torch.randn(3, 4)\n",
    "    },\n",
    "}\n",
    "_TREE_DATA_3 = {\n",
    "    'obs': torch.randn(4, 84, 84),\n",
    "    'action': torch.randint(0, 6, size=(1,)),\n",
    "    'reward': torch.rand(1),\n",
    "}"
   ]
  },
  {
   "cell_type": "markdown",
   "id": "83461b25",
   "metadata": {},
   "source": [
    "## Read and Write Operation"
   ]
  },
  {
   "cell_type": "markdown",
   "id": "067b3f73",
   "metadata": {},
   "source": [
    "Reading and writing are the two most common operations in the tree data structure based on the data model (TreeValue and Tianshou Batch both belong to this type), so this section will compare the reading and writing performance of these two libraries."
   ]
  },
  {
   "cell_type": "markdown",
   "id": "5d09a5b7",
   "metadata": {},
   "source": [
    "### TreeValue's Get and Set"
   ]
  },
  {
   "cell_type": "code",
   "execution_count": 2,
   "id": "9519c4bb",
   "metadata": {
    "execution": {
     "iopub.execute_input": "2023-02-27T13:27:42.122478Z",
     "iopub.status.busy": "2023-02-27T13:27:42.121859Z",
     "iopub.status.idle": "2023-02-27T13:27:42.401879Z",
     "shell.execute_reply": "2023-02-27T13:27:42.401177Z"
    }
   },
   "outputs": [],
   "source": [
    "from treevalue import FastTreeValue\n",
    "\n",
    "t = FastTreeValue(_TREE_DATA_2)"
   ]
  },
  {
   "cell_type": "code",
   "execution_count": 3,
   "id": "11c37677",
   "metadata": {
    "execution": {
     "iopub.execute_input": "2023-02-27T13:27:42.405418Z",
     "iopub.status.busy": "2023-02-27T13:27:42.404787Z",
     "iopub.status.idle": "2023-02-27T13:27:42.414311Z",
     "shell.execute_reply": "2023-02-27T13:27:42.413707Z"
    }
   },
   "outputs": [
    {
     "data": {
      "text/plain": [
       "<FastTreeValue 0x7f15400e1d90>\n",
       "├── 'a' --> tensor([[ 1.5680, -1.0839,  0.5744],\n",
       "│                   [ 0.9571,  0.0340,  0.3821]])\n",
       "└── 'x' --> <FastTreeValue 0x7f15400e1940>\n",
       "    └── 'c' --> tensor([[ 0.7008,  0.4813,  1.7871,  1.2788],\n",
       "                        [ 1.4964, -0.3674,  1.7245,  1.6877],\n",
       "                        [-1.4849, -1.1669, -0.4097, -0.7690]])"
      ]
     },
     "execution_count": 3,
     "metadata": {},
     "output_type": "execute_result"
    }
   ],
   "source": [
    "t"
   ]
  },
  {
   "cell_type": "code",
   "execution_count": 4,
   "id": "fd70b0b9",
   "metadata": {
    "execution": {
     "iopub.execute_input": "2023-02-27T13:27:42.417257Z",
     "iopub.status.busy": "2023-02-27T13:27:42.416766Z",
     "iopub.status.idle": "2023-02-27T13:27:42.422729Z",
     "shell.execute_reply": "2023-02-27T13:27:42.422142Z"
    }
   },
   "outputs": [
    {
     "data": {
      "text/plain": [
       "tensor([[ 1.5680, -1.0839,  0.5744],\n",
       "        [ 0.9571,  0.0340,  0.3821]])"
      ]
     },
     "execution_count": 4,
     "metadata": {},
     "output_type": "execute_result"
    }
   ],
   "source": [
    "t.a"
   ]
  },
  {
   "cell_type": "code",
   "execution_count": 5,
   "id": "c18197bd",
   "metadata": {
    "execution": {
     "iopub.execute_input": "2023-02-27T13:27:42.425565Z",
     "iopub.status.busy": "2023-02-27T13:27:42.425070Z",
     "iopub.status.idle": "2023-02-27T13:27:47.548482Z",
     "shell.execute_reply": "2023-02-27T13:27:47.547802Z"
    }
   },
   "outputs": [
    {
     "name": "stdout",
     "output_type": "stream",
     "text": [
      "63.2 ns ± 0.0718 ns per loop (mean ± std. dev. of 7 runs, 10,000,000 loops each)\n"
     ]
    }
   ],
   "source": [
    "%timeit t.a"
   ]
  },
  {
   "cell_type": "code",
   "execution_count": 6,
   "id": "bd52f867",
   "metadata": {
    "execution": {
     "iopub.execute_input": "2023-02-27T13:27:47.551731Z",
     "iopub.status.busy": "2023-02-27T13:27:47.551205Z",
     "iopub.status.idle": "2023-02-27T13:27:47.557890Z",
     "shell.execute_reply": "2023-02-27T13:27:47.557277Z"
    }
   },
   "outputs": [
    {
     "data": {
      "text/plain": [
       "<FastTreeValue 0x7f15400e1d90>\n",
       "├── 'a' --> tensor([[ 1.1934,  0.1991, -0.4932],\n",
       "│                   [-0.6064,  2.1471, -1.6042]])\n",
       "└── 'x' --> <FastTreeValue 0x7f15400e1940>\n",
       "    └── 'c' --> tensor([[ 0.7008,  0.4813,  1.7871,  1.2788],\n",
       "                        [ 1.4964, -0.3674,  1.7245,  1.6877],\n",
       "                        [-1.4849, -1.1669, -0.4097, -0.7690]])"
      ]
     },
     "execution_count": 6,
     "metadata": {},
     "output_type": "execute_result"
    }
   ],
   "source": [
    "new_value = torch.randn(2, 3)\n",
    "t.a = new_value\n",
    "\n",
    "t"
   ]
  },
  {
   "cell_type": "code",
   "execution_count": 7,
   "id": "bbe04d1c",
   "metadata": {
    "execution": {
     "iopub.execute_input": "2023-02-27T13:27:47.560745Z",
     "iopub.status.busy": "2023-02-27T13:27:47.560372Z",
     "iopub.status.idle": "2023-02-27T13:27:52.487451Z",
     "shell.execute_reply": "2023-02-27T13:27:52.486574Z"
    }
   },
   "outputs": [
    {
     "name": "stdout",
     "output_type": "stream",
     "text": [
      "60.6 ns ± 0.0117 ns per loop (mean ± std. dev. of 7 runs, 10,000,000 loops each)\n"
     ]
    }
   ],
   "source": [
    "%timeit t.a = new_value"
   ]
  },
  {
   "cell_type": "markdown",
   "id": "48c49731",
   "metadata": {},
   "source": [
    "### Tianshou Batch's Get and Set"
   ]
  },
  {
   "cell_type": "code",
   "execution_count": 8,
   "id": "f1bb14c1",
   "metadata": {
    "execution": {
     "iopub.execute_input": "2023-02-27T13:27:52.490801Z",
     "iopub.status.busy": "2023-02-27T13:27:52.490164Z",
     "iopub.status.idle": "2023-02-27T13:27:52.830632Z",
     "shell.execute_reply": "2023-02-27T13:27:52.829073Z"
    }
   },
   "outputs": [],
   "source": [
    "from tianshou.data import Batch\n",
    "\n",
    "b = Batch(**_TREE_DATA_2)"
   ]
  },
  {
   "cell_type": "code",
   "execution_count": 9,
   "id": "cb0777c3",
   "metadata": {
    "execution": {
     "iopub.execute_input": "2023-02-27T13:27:52.833989Z",
     "iopub.status.busy": "2023-02-27T13:27:52.833520Z",
     "iopub.status.idle": "2023-02-27T13:27:52.839692Z",
     "shell.execute_reply": "2023-02-27T13:27:52.839078Z"
    }
   },
   "outputs": [
    {
     "data": {
      "text/plain": [
       "Batch(\n",
       "    a: tensor([[ 1.5680, -1.0839,  0.5744],\n",
       "               [ 0.9571,  0.0340,  0.3821]]),\n",
       "    x: Batch(\n",
       "           c: tensor([[ 0.7008,  0.4813,  1.7871,  1.2788],\n",
       "                      [ 1.4964, -0.3674,  1.7245,  1.6877],\n",
       "                      [-1.4849, -1.1669, -0.4097, -0.7690]]),\n",
       "       ),\n",
       ")"
      ]
     },
     "execution_count": 9,
     "metadata": {},
     "output_type": "execute_result"
    }
   ],
   "source": [
    "b"
   ]
  },
  {
   "cell_type": "code",
   "execution_count": 10,
   "id": "43ef8ea3",
   "metadata": {
    "execution": {
     "iopub.execute_input": "2023-02-27T13:27:52.842702Z",
     "iopub.status.busy": "2023-02-27T13:27:52.842118Z",
     "iopub.status.idle": "2023-02-27T13:27:52.847645Z",
     "shell.execute_reply": "2023-02-27T13:27:52.846989Z"
    }
   },
   "outputs": [
    {
     "data": {
      "text/plain": [
       "tensor([[ 1.5680, -1.0839,  0.5744],\n",
       "        [ 0.9571,  0.0340,  0.3821]])"
      ]
     },
     "execution_count": 10,
     "metadata": {},
     "output_type": "execute_result"
    }
   ],
   "source": [
    "b.a"
   ]
  },
  {
   "cell_type": "code",
   "execution_count": 11,
   "id": "b785ab72",
   "metadata": {
    "execution": {
     "iopub.execute_input": "2023-02-27T13:27:52.850491Z",
     "iopub.status.busy": "2023-02-27T13:27:52.849985Z",
     "iopub.status.idle": "2023-02-27T13:27:58.486121Z",
     "shell.execute_reply": "2023-02-27T13:27:58.485352Z"
    }
   },
   "outputs": [
    {
     "name": "stdout",
     "output_type": "stream",
     "text": [
      "69.5 ns ± 0.0272 ns per loop (mean ± std. dev. of 7 runs, 10,000,000 loops each)\n"
     ]
    }
   ],
   "source": [
    "%timeit b.a"
   ]
  },
  {
   "cell_type": "code",
   "execution_count": 12,
   "id": "ad54dc69",
   "metadata": {
    "execution": {
     "iopub.execute_input": "2023-02-27T13:27:58.489364Z",
     "iopub.status.busy": "2023-02-27T13:27:58.488767Z",
     "iopub.status.idle": "2023-02-27T13:27:58.495326Z",
     "shell.execute_reply": "2023-02-27T13:27:58.494712Z"
    }
   },
   "outputs": [
    {
     "data": {
      "text/plain": [
       "Batch(\n",
       "    a: tensor([[-2.6451, -0.9732, -0.6357],\n",
       "               [ 0.2140, -1.8660, -0.5102]]),\n",
       "    x: Batch(\n",
       "           c: tensor([[ 0.7008,  0.4813,  1.7871,  1.2788],\n",
       "                      [ 1.4964, -0.3674,  1.7245,  1.6877],\n",
       "                      [-1.4849, -1.1669, -0.4097, -0.7690]]),\n",
       "       ),\n",
       ")"
      ]
     },
     "execution_count": 12,
     "metadata": {},
     "output_type": "execute_result"
    }
   ],
   "source": [
    "new_value = torch.randn(2, 3)\n",
    "b.a = new_value\n",
    "\n",
    "b"
   ]
  },
  {
   "cell_type": "code",
   "execution_count": 13,
   "id": "29b1d0bf",
   "metadata": {
    "execution": {
     "iopub.execute_input": "2023-02-27T13:27:58.497482Z",
     "iopub.status.busy": "2023-02-27T13:27:58.497310Z",
     "iopub.status.idle": "2023-02-27T13:28:02.486770Z",
     "shell.execute_reply": "2023-02-27T13:28:02.486063Z"
    }
   },
   "outputs": [
    {
     "name": "stdout",
     "output_type": "stream",
     "text": [
      "490 ns ± 0.154 ns per loop (mean ± std. dev. of 7 runs, 1,000,000 loops each)\n"
     ]
    }
   ],
   "source": [
    "%timeit b.a = new_value"
   ]
  },
  {
   "cell_type": "markdown",
   "id": "b61ad1d0",
   "metadata": {},
   "source": [
    "## Initialization"
   ]
  },
  {
   "cell_type": "markdown",
   "id": "d70f0d54",
   "metadata": {},
   "source": [
    "### TreeValue's Initialization"
   ]
  },
  {
   "cell_type": "code",
   "execution_count": 14,
   "id": "d32a679b",
   "metadata": {
    "execution": {
     "iopub.execute_input": "2023-02-27T13:28:02.489587Z",
     "iopub.status.busy": "2023-02-27T13:28:02.489355Z",
     "iopub.status.idle": "2023-02-27T13:28:09.225782Z",
     "shell.execute_reply": "2023-02-27T13:28:09.225117Z"
    }
   },
   "outputs": [
    {
     "name": "stdout",
     "output_type": "stream",
     "text": [
      "829 ns ± 0.194 ns per loop (mean ± std. dev. of 7 runs, 1,000,000 loops each)\n"
     ]
    }
   ],
   "source": [
    "%timeit FastTreeValue(_TREE_DATA_1)"
   ]
  },
  {
   "cell_type": "markdown",
   "id": "24f3707b",
   "metadata": {},
   "source": [
    "### Tianshou Batch's Initialization"
   ]
  },
  {
   "cell_type": "code",
   "execution_count": 15,
   "id": "ac3958df",
   "metadata": {
    "execution": {
     "iopub.execute_input": "2023-02-27T13:28:09.228368Z",
     "iopub.status.busy": "2023-02-27T13:28:09.228136Z",
     "iopub.status.idle": "2023-02-27T13:28:18.589958Z",
     "shell.execute_reply": "2023-02-27T13:28:18.589196Z"
    }
   },
   "outputs": [
    {
     "name": "stdout",
     "output_type": "stream",
     "text": [
      "11.6 µs ± 33.2 ns per loop (mean ± std. dev. of 7 runs, 100,000 loops each)\n"
     ]
    }
   ],
   "source": [
    "%timeit Batch(**_TREE_DATA_1)"
   ]
  },
  {
   "cell_type": "markdown",
   "id": "1ab82e2d",
   "metadata": {},
   "source": [
    "## Deep Copy Operation"
   ]
  },
  {
   "cell_type": "code",
   "execution_count": 16,
   "id": "210a9442",
   "metadata": {
    "execution": {
     "iopub.execute_input": "2023-02-27T13:28:18.592726Z",
     "iopub.status.busy": "2023-02-27T13:28:18.592387Z",
     "iopub.status.idle": "2023-02-27T13:28:18.596230Z",
     "shell.execute_reply": "2023-02-27T13:28:18.595665Z"
    }
   },
   "outputs": [],
   "source": [
    "import copy"
   ]
  },
  {
   "cell_type": "markdown",
   "id": "5a736274",
   "metadata": {},
   "source": [
    "### Deep Copy of TreeValue"
   ]
  },
  {
   "cell_type": "code",
   "execution_count": 17,
   "id": "f9bcadd6",
   "metadata": {
    "execution": {
     "iopub.execute_input": "2023-02-27T13:28:18.598825Z",
     "iopub.status.busy": "2023-02-27T13:28:18.598331Z",
     "iopub.status.idle": "2023-02-27T13:28:29.835697Z",
     "shell.execute_reply": "2023-02-27T13:28:29.835147Z"
    }
   },
   "outputs": [
    {
     "name": "stdout",
     "output_type": "stream",
     "text": [
      "138 µs ± 472 ns per loop (mean ± std. dev. of 7 runs, 10,000 loops each)\n"
     ]
    }
   ],
   "source": [
    "t3 = FastTreeValue(_TREE_DATA_3)\n",
    "%timeit copy.deepcopy(t3)"
   ]
  },
  {
   "cell_type": "markdown",
   "id": "bf8be7ea",
   "metadata": {},
   "source": [
    "### Deep Copy of Tianshou Batch"
   ]
  },
  {
   "cell_type": "code",
   "execution_count": 18,
   "id": "91998e6f",
   "metadata": {
    "execution": {
     "iopub.execute_input": "2023-02-27T13:28:29.838998Z",
     "iopub.status.busy": "2023-02-27T13:28:29.838522Z",
     "iopub.status.idle": "2023-02-27T13:28:41.223374Z",
     "shell.execute_reply": "2023-02-27T13:28:41.222796Z"
    }
   },
   "outputs": [
    {
     "name": "stdout",
     "output_type": "stream",
     "text": [
      "140 µs ± 1.07 µs per loop (mean ± std. dev. of 7 runs, 10,000 loops each)\n"
     ]
    }
   ],
   "source": [
    "b3 = Batch(**_TREE_DATA_3)\n",
    "%timeit copy.deepcopy(b3)"
   ]
  },
  {
   "cell_type": "markdown",
   "id": "223162fb",
   "metadata": {},
   "source": [
    "## Stack, Concat and Split Operation"
   ]
  },
  {
   "cell_type": "markdown",
   "id": "85fa4a73",
   "metadata": {},
   "source": [
    "### Performance of TreeValue"
   ]
  },
  {
   "cell_type": "code",
   "execution_count": 19,
   "id": "a0c2b697",
   "metadata": {
    "execution": {
     "iopub.execute_input": "2023-02-27T13:28:41.227355Z",
     "iopub.status.busy": "2023-02-27T13:28:41.226128Z",
     "iopub.status.idle": "2023-02-27T13:28:41.230611Z",
     "shell.execute_reply": "2023-02-27T13:28:41.230058Z"
    }
   },
   "outputs": [],
   "source": [
    "trees = [FastTreeValue(_TREE_DATA_2) for _ in range(8)]"
   ]
  },
  {
   "cell_type": "code",
   "execution_count": 20,
   "id": "017ea5a5",
   "metadata": {
    "execution": {
     "iopub.execute_input": "2023-02-27T13:28:41.234150Z",
     "iopub.status.busy": "2023-02-27T13:28:41.233087Z",
     "iopub.status.idle": "2023-02-27T13:28:41.241956Z",
     "shell.execute_reply": "2023-02-27T13:28:41.241394Z"
    }
   },
   "outputs": [
    {
     "data": {
      "text/plain": [
       "<FastTreeValue 0x7f148ffc15b0>\n",
       "├── 'a' --> tensor([[[ 1.5680, -1.0839,  0.5744],\n",
       "│                    [ 0.9571,  0.0340,  0.3821]],\n",
       "│           \n",
       "│                   [[ 1.5680, -1.0839,  0.5744],\n",
       "│                    [ 0.9571,  0.0340,  0.3821]],\n",
       "│           \n",
       "│                   [[ 1.5680, -1.0839,  0.5744],\n",
       "│                    [ 0.9571,  0.0340,  0.3821]],\n",
       "│           \n",
       "│                   [[ 1.5680, -1.0839,  0.5744],\n",
       "│                    [ 0.9571,  0.0340,  0.3821]],\n",
       "│           \n",
       "│                   [[ 1.5680, -1.0839,  0.5744],\n",
       "│                    [ 0.9571,  0.0340,  0.3821]],\n",
       "│           \n",
       "│                   [[ 1.5680, -1.0839,  0.5744],\n",
       "│                    [ 0.9571,  0.0340,  0.3821]],\n",
       "│           \n",
       "│                   [[ 1.5680, -1.0839,  0.5744],\n",
       "│                    [ 0.9571,  0.0340,  0.3821]],\n",
       "│           \n",
       "│                   [[ 1.5680, -1.0839,  0.5744],\n",
       "│                    [ 0.9571,  0.0340,  0.3821]]])\n",
       "└── 'x' --> <FastTreeValue 0x7f148ffc1cd0>\n",
       "    └── 'c' --> tensor([[[ 0.7008,  0.4813,  1.7871,  1.2788],\n",
       "                         [ 1.4964, -0.3674,  1.7245,  1.6877],\n",
       "                         [-1.4849, -1.1669, -0.4097, -0.7690]],\n",
       "                \n",
       "                        [[ 0.7008,  0.4813,  1.7871,  1.2788],\n",
       "                         [ 1.4964, -0.3674,  1.7245,  1.6877],\n",
       "                         [-1.4849, -1.1669, -0.4097, -0.7690]],\n",
       "                \n",
       "                        [[ 0.7008,  0.4813,  1.7871,  1.2788],\n",
       "                         [ 1.4964, -0.3674,  1.7245,  1.6877],\n",
       "                         [-1.4849, -1.1669, -0.4097, -0.7690]],\n",
       "                \n",
       "                        [[ 0.7008,  0.4813,  1.7871,  1.2788],\n",
       "                         [ 1.4964, -0.3674,  1.7245,  1.6877],\n",
       "                         [-1.4849, -1.1669, -0.4097, -0.7690]],\n",
       "                \n",
       "                        [[ 0.7008,  0.4813,  1.7871,  1.2788],\n",
       "                         [ 1.4964, -0.3674,  1.7245,  1.6877],\n",
       "                         [-1.4849, -1.1669, -0.4097, -0.7690]],\n",
       "                \n",
       "                        [[ 0.7008,  0.4813,  1.7871,  1.2788],\n",
       "                         [ 1.4964, -0.3674,  1.7245,  1.6877],\n",
       "                         [-1.4849, -1.1669, -0.4097, -0.7690]],\n",
       "                \n",
       "                        [[ 0.7008,  0.4813,  1.7871,  1.2788],\n",
       "                         [ 1.4964, -0.3674,  1.7245,  1.6877],\n",
       "                         [-1.4849, -1.1669, -0.4097, -0.7690]],\n",
       "                \n",
       "                        [[ 0.7008,  0.4813,  1.7871,  1.2788],\n",
       "                         [ 1.4964, -0.3674,  1.7245,  1.6877],\n",
       "                         [-1.4849, -1.1669, -0.4097, -0.7690]]])"
      ]
     },
     "execution_count": 20,
     "metadata": {},
     "output_type": "execute_result"
    }
   ],
   "source": [
    "t_stack = FastTreeValue.func(subside=True)(torch.stack)\n",
    "\n",
    "t_stack(trees)"
   ]
  },
  {
   "cell_type": "code",
   "execution_count": 21,
   "id": "f8b3f415",
   "metadata": {
    "execution": {
     "iopub.execute_input": "2023-02-27T13:28:41.244662Z",
     "iopub.status.busy": "2023-02-27T13:28:41.244224Z",
     "iopub.status.idle": "2023-02-27T13:28:43.848279Z",
     "shell.execute_reply": "2023-02-27T13:28:43.847416Z"
    }
   },
   "outputs": [
    {
     "name": "stdout",
     "output_type": "stream",
     "text": [
      "32 µs ± 104 ns per loop (mean ± std. dev. of 7 runs, 10,000 loops each)\n"
     ]
    }
   ],
   "source": [
    "%timeit t_stack(trees)"
   ]
  },
  {
   "cell_type": "code",
   "execution_count": 22,
   "id": "94b56771",
   "metadata": {
    "execution": {
     "iopub.execute_input": "2023-02-27T13:28:43.851355Z",
     "iopub.status.busy": "2023-02-27T13:28:43.850991Z",
     "iopub.status.idle": "2023-02-27T13:28:43.859591Z",
     "shell.execute_reply": "2023-02-27T13:28:43.859014Z"
    }
   },
   "outputs": [
    {
     "data": {
      "text/plain": [
       "<FastTreeValue 0x7f148ffc1640>\n",
       "├── 'a' --> tensor([[ 1.5680, -1.0839,  0.5744],\n",
       "│                   [ 0.9571,  0.0340,  0.3821],\n",
       "│                   [ 1.5680, -1.0839,  0.5744],\n",
       "│                   [ 0.9571,  0.0340,  0.3821],\n",
       "│                   [ 1.5680, -1.0839,  0.5744],\n",
       "│                   [ 0.9571,  0.0340,  0.3821],\n",
       "│                   [ 1.5680, -1.0839,  0.5744],\n",
       "│                   [ 0.9571,  0.0340,  0.3821],\n",
       "│                   [ 1.5680, -1.0839,  0.5744],\n",
       "│                   [ 0.9571,  0.0340,  0.3821],\n",
       "│                   [ 1.5680, -1.0839,  0.5744],\n",
       "│                   [ 0.9571,  0.0340,  0.3821],\n",
       "│                   [ 1.5680, -1.0839,  0.5744],\n",
       "│                   [ 0.9571,  0.0340,  0.3821],\n",
       "│                   [ 1.5680, -1.0839,  0.5744],\n",
       "│                   [ 0.9571,  0.0340,  0.3821]])\n",
       "└── 'x' --> <FastTreeValue 0x7f148ffc17f0>\n",
       "    └── 'c' --> tensor([[ 0.7008,  0.4813,  1.7871,  1.2788],\n",
       "                        [ 1.4964, -0.3674,  1.7245,  1.6877],\n",
       "                        [-1.4849, -1.1669, -0.4097, -0.7690],\n",
       "                        [ 0.7008,  0.4813,  1.7871,  1.2788],\n",
       "                        [ 1.4964, -0.3674,  1.7245,  1.6877],\n",
       "                        [-1.4849, -1.1669, -0.4097, -0.7690],\n",
       "                        [ 0.7008,  0.4813,  1.7871,  1.2788],\n",
       "                        [ 1.4964, -0.3674,  1.7245,  1.6877],\n",
       "                        [-1.4849, -1.1669, -0.4097, -0.7690],\n",
       "                        [ 0.7008,  0.4813,  1.7871,  1.2788],\n",
       "                        [ 1.4964, -0.3674,  1.7245,  1.6877],\n",
       "                        [-1.4849, -1.1669, -0.4097, -0.7690],\n",
       "                        [ 0.7008,  0.4813,  1.7871,  1.2788],\n",
       "                        [ 1.4964, -0.3674,  1.7245,  1.6877],\n",
       "                        [-1.4849, -1.1669, -0.4097, -0.7690],\n",
       "                        [ 0.7008,  0.4813,  1.7871,  1.2788],\n",
       "                        [ 1.4964, -0.3674,  1.7245,  1.6877],\n",
       "                        [-1.4849, -1.1669, -0.4097, -0.7690],\n",
       "                        [ 0.7008,  0.4813,  1.7871,  1.2788],\n",
       "                        [ 1.4964, -0.3674,  1.7245,  1.6877],\n",
       "                        [-1.4849, -1.1669, -0.4097, -0.7690],\n",
       "                        [ 0.7008,  0.4813,  1.7871,  1.2788],\n",
       "                        [ 1.4964, -0.3674,  1.7245,  1.6877],\n",
       "                        [-1.4849, -1.1669, -0.4097, -0.7690]])"
      ]
     },
     "execution_count": 22,
     "metadata": {},
     "output_type": "execute_result"
    }
   ],
   "source": [
    "t_cat = FastTreeValue.func(subside=True)(torch.cat)\n",
    "\n",
    "t_cat(trees)"
   ]
  },
  {
   "cell_type": "code",
   "execution_count": 23,
   "id": "5e9c06a6",
   "metadata": {
    "execution": {
     "iopub.execute_input": "2023-02-27T13:28:43.862126Z",
     "iopub.status.busy": "2023-02-27T13:28:43.861899Z",
     "iopub.status.idle": "2023-02-27T13:28:46.338091Z",
     "shell.execute_reply": "2023-02-27T13:28:46.337392Z"
    }
   },
   "outputs": [
    {
     "name": "stdout",
     "output_type": "stream",
     "text": [
      "30.4 µs ± 70.8 ns per loop (mean ± std. dev. of 7 runs, 10,000 loops each)\n"
     ]
    }
   ],
   "source": [
    "%timeit t_cat(trees)"
   ]
  },
  {
   "cell_type": "code",
   "execution_count": 24,
   "id": "a3ab5c8f",
   "metadata": {
    "execution": {
     "iopub.execute_input": "2023-02-27T13:28:46.341330Z",
     "iopub.status.busy": "2023-02-27T13:28:46.340758Z",
     "iopub.status.idle": "2023-02-27T13:28:51.051889Z",
     "shell.execute_reply": "2023-02-27T13:28:51.051224Z"
    }
   },
   "outputs": [
    {
     "name": "stdout",
     "output_type": "stream",
     "text": [
      "57.9 µs ± 174 ns per loop (mean ± std. dev. of 7 runs, 10,000 loops each)\n"
     ]
    }
   ],
   "source": [
    "t_split = FastTreeValue.func(rise=True)(torch.split)\n",
    "tree = FastTreeValue({\n",
    "    'obs': torch.randn(8, 4, 84, 84),\n",
    "    'action': torch.randint(0, 6, size=(8, 1,)),\n",
    "    'reward': torch.rand(8, 1),\n",
    "})\n",
    "\n",
    "%timeit t_split(tree, 1)"
   ]
  },
  {
   "cell_type": "markdown",
   "id": "31c3ec0b",
   "metadata": {},
   "source": [
    "### Performance of Tianshou Batch"
   ]
  },
  {
   "cell_type": "code",
   "execution_count": 25,
   "id": "9ead828a",
   "metadata": {
    "execution": {
     "iopub.execute_input": "2023-02-27T13:28:51.055036Z",
     "iopub.status.busy": "2023-02-27T13:28:51.054496Z",
     "iopub.status.idle": "2023-02-27T13:28:51.062384Z",
     "shell.execute_reply": "2023-02-27T13:28:51.061796Z"
    }
   },
   "outputs": [
    {
     "data": {
      "text/plain": [
       "Batch(\n",
       "    x: Batch(\n",
       "           c: tensor([[[ 0.7008,  0.4813,  1.7871,  1.2788],\n",
       "                       [ 1.4964, -0.3674,  1.7245,  1.6877],\n",
       "                       [-1.4849, -1.1669, -0.4097, -0.7690]],\n",
       "              \n",
       "                      [[ 0.7008,  0.4813,  1.7871,  1.2788],\n",
       "                       [ 1.4964, -0.3674,  1.7245,  1.6877],\n",
       "                       [-1.4849, -1.1669, -0.4097, -0.7690]],\n",
       "              \n",
       "                      [[ 0.7008,  0.4813,  1.7871,  1.2788],\n",
       "                       [ 1.4964, -0.3674,  1.7245,  1.6877],\n",
       "                       [-1.4849, -1.1669, -0.4097, -0.7690]],\n",
       "              \n",
       "                      [[ 0.7008,  0.4813,  1.7871,  1.2788],\n",
       "                       [ 1.4964, -0.3674,  1.7245,  1.6877],\n",
       "                       [-1.4849, -1.1669, -0.4097, -0.7690]],\n",
       "              \n",
       "                      [[ 0.7008,  0.4813,  1.7871,  1.2788],\n",
       "                       [ 1.4964, -0.3674,  1.7245,  1.6877],\n",
       "                       [-1.4849, -1.1669, -0.4097, -0.7690]],\n",
       "              \n",
       "                      [[ 0.7008,  0.4813,  1.7871,  1.2788],\n",
       "                       [ 1.4964, -0.3674,  1.7245,  1.6877],\n",
       "                       [-1.4849, -1.1669, -0.4097, -0.7690]],\n",
       "              \n",
       "                      [[ 0.7008,  0.4813,  1.7871,  1.2788],\n",
       "                       [ 1.4964, -0.3674,  1.7245,  1.6877],\n",
       "                       [-1.4849, -1.1669, -0.4097, -0.7690]],\n",
       "              \n",
       "                      [[ 0.7008,  0.4813,  1.7871,  1.2788],\n",
       "                       [ 1.4964, -0.3674,  1.7245,  1.6877],\n",
       "                       [-1.4849, -1.1669, -0.4097, -0.7690]]]),\n",
       "       ),\n",
       "    a: tensor([[[ 1.5680, -1.0839,  0.5744],\n",
       "                [ 0.9571,  0.0340,  0.3821]],\n",
       "       \n",
       "               [[ 1.5680, -1.0839,  0.5744],\n",
       "                [ 0.9571,  0.0340,  0.3821]],\n",
       "       \n",
       "               [[ 1.5680, -1.0839,  0.5744],\n",
       "                [ 0.9571,  0.0340,  0.3821]],\n",
       "       \n",
       "               [[ 1.5680, -1.0839,  0.5744],\n",
       "                [ 0.9571,  0.0340,  0.3821]],\n",
       "       \n",
       "               [[ 1.5680, -1.0839,  0.5744],\n",
       "                [ 0.9571,  0.0340,  0.3821]],\n",
       "       \n",
       "               [[ 1.5680, -1.0839,  0.5744],\n",
       "                [ 0.9571,  0.0340,  0.3821]],\n",
       "       \n",
       "               [[ 1.5680, -1.0839,  0.5744],\n",
       "                [ 0.9571,  0.0340,  0.3821]],\n",
       "       \n",
       "               [[ 1.5680, -1.0839,  0.5744],\n",
       "                [ 0.9571,  0.0340,  0.3821]]]),\n",
       ")"
      ]
     },
     "execution_count": 25,
     "metadata": {},
     "output_type": "execute_result"
    }
   ],
   "source": [
    "batches = [Batch(**_TREE_DATA_2) for _ in range(8)]\n",
    "\n",
    "Batch.stack(batches)"
   ]
  },
  {
   "cell_type": "code",
   "execution_count": 26,
   "id": "ec9037a3",
   "metadata": {
    "execution": {
     "iopub.execute_input": "2023-02-27T13:28:51.065244Z",
     "iopub.status.busy": "2023-02-27T13:28:51.064767Z",
     "iopub.status.idle": "2023-02-27T13:28:57.423710Z",
     "shell.execute_reply": "2023-02-27T13:28:57.422953Z"
    }
   },
   "outputs": [
    {
     "name": "stdout",
     "output_type": "stream",
     "text": [
      "78.3 µs ± 156 ns per loop (mean ± std. dev. of 7 runs, 10,000 loops each)\n"
     ]
    }
   ],
   "source": [
    "%timeit Batch.stack(batches)"
   ]
  },
  {
   "cell_type": "code",
   "execution_count": 27,
   "id": "cb8ab77e",
   "metadata": {
    "execution": {
     "iopub.execute_input": "2023-02-27T13:28:57.426792Z",
     "iopub.status.busy": "2023-02-27T13:28:57.426253Z",
     "iopub.status.idle": "2023-02-27T13:28:57.433806Z",
     "shell.execute_reply": "2023-02-27T13:28:57.433224Z"
    }
   },
   "outputs": [
    {
     "data": {
      "text/plain": [
       "Batch(\n",
       "    x: Batch(\n",
       "           c: tensor([[ 0.7008,  0.4813,  1.7871,  1.2788],\n",
       "                      [ 1.4964, -0.3674,  1.7245,  1.6877],\n",
       "                      [-1.4849, -1.1669, -0.4097, -0.7690],\n",
       "                      [ 0.7008,  0.4813,  1.7871,  1.2788],\n",
       "                      [ 1.4964, -0.3674,  1.7245,  1.6877],\n",
       "                      [-1.4849, -1.1669, -0.4097, -0.7690],\n",
       "                      [ 0.7008,  0.4813,  1.7871,  1.2788],\n",
       "                      [ 1.4964, -0.3674,  1.7245,  1.6877],\n",
       "                      [-1.4849, -1.1669, -0.4097, -0.7690],\n",
       "                      [ 0.7008,  0.4813,  1.7871,  1.2788],\n",
       "                      [ 1.4964, -0.3674,  1.7245,  1.6877],\n",
       "                      [-1.4849, -1.1669, -0.4097, -0.7690],\n",
       "                      [ 0.7008,  0.4813,  1.7871,  1.2788],\n",
       "                      [ 1.4964, -0.3674,  1.7245,  1.6877],\n",
       "                      [-1.4849, -1.1669, -0.4097, -0.7690],\n",
       "                      [ 0.7008,  0.4813,  1.7871,  1.2788],\n",
       "                      [ 1.4964, -0.3674,  1.7245,  1.6877],\n",
       "                      [-1.4849, -1.1669, -0.4097, -0.7690],\n",
       "                      [ 0.7008,  0.4813,  1.7871,  1.2788],\n",
       "                      [ 1.4964, -0.3674,  1.7245,  1.6877],\n",
       "                      [-1.4849, -1.1669, -0.4097, -0.7690],\n",
       "                      [ 0.7008,  0.4813,  1.7871,  1.2788],\n",
       "                      [ 1.4964, -0.3674,  1.7245,  1.6877],\n",
       "                      [-1.4849, -1.1669, -0.4097, -0.7690]]),\n",
       "       ),\n",
       "    a: tensor([[ 1.5680, -1.0839,  0.5744],\n",
       "               [ 0.9571,  0.0340,  0.3821],\n",
       "               [ 1.5680, -1.0839,  0.5744],\n",
       "               [ 0.9571,  0.0340,  0.3821],\n",
       "               [ 1.5680, -1.0839,  0.5744],\n",
       "               [ 0.9571,  0.0340,  0.3821],\n",
       "               [ 1.5680, -1.0839,  0.5744],\n",
       "               [ 0.9571,  0.0340,  0.3821],\n",
       "               [ 1.5680, -1.0839,  0.5744],\n",
       "               [ 0.9571,  0.0340,  0.3821],\n",
       "               [ 1.5680, -1.0839,  0.5744],\n",
       "               [ 0.9571,  0.0340,  0.3821],\n",
       "               [ 1.5680, -1.0839,  0.5744],\n",
       "               [ 0.9571,  0.0340,  0.3821],\n",
       "               [ 1.5680, -1.0839,  0.5744],\n",
       "               [ 0.9571,  0.0340,  0.3821]]),\n",
       ")"
      ]
     },
     "execution_count": 27,
     "metadata": {},
     "output_type": "execute_result"
    }
   ],
   "source": [
    "Batch.cat(batches)"
   ]
  },
  {
   "cell_type": "code",
   "execution_count": 28,
   "id": "18dfb045",
   "metadata": {
    "execution": {
     "iopub.execute_input": "2023-02-27T13:28:57.436442Z",
     "iopub.status.busy": "2023-02-27T13:28:57.436110Z",
     "iopub.status.idle": "2023-02-27T13:29:10.455886Z",
     "shell.execute_reply": "2023-02-27T13:29:10.455195Z"
    }
   },
   "outputs": [
    {
     "name": "stdout",
     "output_type": "stream",
     "text": [
      "160 µs ± 368 ns per loop (mean ± std. dev. of 7 runs, 10,000 loops each)\n"
     ]
    }
   ],
   "source": [
    "%timeit Batch.cat(batches)"
   ]
  },
  {
   "cell_type": "code",
   "execution_count": 29,
   "id": "c6688e51",
   "metadata": {
    "execution": {
     "iopub.execute_input": "2023-02-27T13:29:10.458800Z",
     "iopub.status.busy": "2023-02-27T13:29:10.458523Z",
     "iopub.status.idle": "2023-02-27T13:29:12.975501Z",
     "shell.execute_reply": "2023-02-27T13:29:12.974792Z"
    }
   },
   "outputs": [
    {
     "name": "stdout",
     "output_type": "stream",
     "text": [
      "309 µs ± 1.86 µs per loop (mean ± std. dev. of 7 runs, 1,000 loops each)\n"
     ]
    }
   ],
   "source": [
    "batch = Batch({\n",
    "    'obs': torch.randn(8, 4, 84, 84),\n",
    "    'action': torch.randint(0, 6, size=(8, 1,)),\n",
    "    'reward': torch.rand(8, 1)}\n",
    ")\n",
    "\n",
    "%timeit list(Batch.split(batch, 1, shuffle=False, merge_last=True))"
   ]
  },
  {
   "cell_type": "code",
   "execution_count": null,
   "id": "2539fbd9",
   "metadata": {},
   "outputs": [],
   "source": []
  }
 ],
 "metadata": {
  "kernelspec": {
   "display_name": "Python 3 (ipykernel)",
   "language": "python",
   "name": "python3"
  },
  "language_info": {
   "codemirror_mode": {
    "name": "ipython",
    "version": 3
   },
   "file_extension": ".py",
   "mimetype": "text/x-python",
   "name": "python",
   "nbconvert_exporter": "python",
   "pygments_lexer": "ipython3",
   "version": "3.8.16"
  }
 },
 "nbformat": 4,
 "nbformat_minor": 5
}
