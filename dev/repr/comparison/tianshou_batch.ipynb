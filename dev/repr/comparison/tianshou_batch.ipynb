{
 "cells": [
  {
   "cell_type": "markdown",
   "id": "9d39d946",
   "metadata": {},
   "source": [
    "# Comparison Between TreeValue and Tianshou Batch"
   ]
  },
  {
   "cell_type": "markdown",
   "id": "3c6db2d4",
   "metadata": {},
   "source": [
    "In this section, we will take a look at the feature and performance of the [Tianshou Batch](https://github.com/thu-ml/tianshou) library, which is developed by Tsinghua Machine Learning Group."
   ]
  },
  {
   "cell_type": "markdown",
   "id": "069361b0",
   "metadata": {},
   "source": [
    "Before starting the comparison, let us define some thing."
   ]
  },
  {
   "cell_type": "code",
   "execution_count": 1,
   "id": "06fc8d26",
   "metadata": {
    "execution": {
     "iopub.execute_input": "2023-03-06T11:50:09.323252Z",
     "iopub.status.busy": "2023-03-06T11:50:09.323043Z",
     "iopub.status.idle": "2023-03-06T11:50:10.225567Z",
     "shell.execute_reply": "2023-03-06T11:50:10.224555Z"
    }
   },
   "outputs": [
    {
     "name": "stderr",
     "output_type": "stream",
     "text": [
      "/opt/hostedtoolcache/Python/3.8.16/x64/lib/python3.8/site-packages/tqdm/auto.py:21: TqdmWarning: IProgress not found. Please update jupyter and ipywidgets. See https://ipywidgets.readthedocs.io/en/stable/user_install.html\n",
      "  from .autonotebook import tqdm as notebook_tqdm\n"
     ]
    }
   ],
   "source": [
    "import torch \n",
    "\n",
    "_TREE_DATA_1 = {'a': 1, 'b': 2, 'x': {'c': 3, 'd': 4}}\n",
    "_TREE_DATA_2 = {\n",
    "    'a': torch.randn(2, 3), \n",
    "    'x': {\n",
    "        'c': torch.randn(3, 4)\n",
    "    },\n",
    "}\n",
    "_TREE_DATA_3 = {\n",
    "    'obs': torch.randn(4, 84, 84),\n",
    "    'action': torch.randint(0, 6, size=(1,)),\n",
    "    'reward': torch.rand(1),\n",
    "}"
   ]
  },
  {
   "cell_type": "markdown",
   "id": "83461b25",
   "metadata": {},
   "source": [
    "## Read and Write Operation"
   ]
  },
  {
   "cell_type": "markdown",
   "id": "067b3f73",
   "metadata": {},
   "source": [
    "Reading and writing are the two most common operations in the tree data structure based on the data model (TreeValue and Tianshou Batch both belong to this type), so this section will compare the reading and writing performance of these two libraries."
   ]
  },
  {
   "cell_type": "markdown",
   "id": "5d09a5b7",
   "metadata": {},
   "source": [
    "### TreeValue's Get and Set"
   ]
  },
  {
   "cell_type": "code",
   "execution_count": 2,
   "id": "9519c4bb",
   "metadata": {
    "execution": {
     "iopub.execute_input": "2023-03-06T11:50:10.228616Z",
     "iopub.status.busy": "2023-03-06T11:50:10.228141Z",
     "iopub.status.idle": "2023-03-06T11:50:10.504600Z",
     "shell.execute_reply": "2023-03-06T11:50:10.503929Z"
    }
   },
   "outputs": [],
   "source": [
    "from treevalue import FastTreeValue\n",
    "\n",
    "t = FastTreeValue(_TREE_DATA_2)"
   ]
  },
  {
   "cell_type": "code",
   "execution_count": 3,
   "id": "11c37677",
   "metadata": {
    "execution": {
     "iopub.execute_input": "2023-03-06T11:50:10.508046Z",
     "iopub.status.busy": "2023-03-06T11:50:10.507466Z",
     "iopub.status.idle": "2023-03-06T11:50:10.516963Z",
     "shell.execute_reply": "2023-03-06T11:50:10.516037Z"
    }
   },
   "outputs": [
    {
     "data": {
      "text/plain": [
       "<FastTreeValue 0x7f0ba4206f40>\n",
       "├── 'a' --> tensor([[-0.7937, -0.4952, -0.4200],\n",
       "│                   [-0.3142, -0.3004,  1.2702]])\n",
       "└── 'x' --> <FastTreeValue 0x7f0ba4206e20>\n",
       "    └── 'c' --> tensor([[ 0.4012,  0.4930, -0.6113, -0.6209],\n",
       "                        [-0.9880,  0.4415, -1.6825,  1.4976],\n",
       "                        [-0.5949, -0.7458,  0.3910,  0.3924]])"
      ]
     },
     "execution_count": 3,
     "metadata": {},
     "output_type": "execute_result"
    }
   ],
   "source": [
    "t"
   ]
  },
  {
   "cell_type": "code",
   "execution_count": 4,
   "id": "fd70b0b9",
   "metadata": {
    "execution": {
     "iopub.execute_input": "2023-03-06T11:50:10.519822Z",
     "iopub.status.busy": "2023-03-06T11:50:10.519350Z",
     "iopub.status.idle": "2023-03-06T11:50:10.525093Z",
     "shell.execute_reply": "2023-03-06T11:50:10.524535Z"
    }
   },
   "outputs": [
    {
     "data": {
      "text/plain": [
       "tensor([[-0.7937, -0.4952, -0.4200],\n",
       "        [-0.3142, -0.3004,  1.2702]])"
      ]
     },
     "execution_count": 4,
     "metadata": {},
     "output_type": "execute_result"
    }
   ],
   "source": [
    "t.a"
   ]
  },
  {
   "cell_type": "code",
   "execution_count": 5,
   "id": "c18197bd",
   "metadata": {
    "execution": {
     "iopub.execute_input": "2023-03-06T11:50:10.527813Z",
     "iopub.status.busy": "2023-03-06T11:50:10.527329Z",
     "iopub.status.idle": "2023-03-06T11:50:15.283543Z",
     "shell.execute_reply": "2023-03-06T11:50:15.282831Z"
    }
   },
   "outputs": [
    {
     "name": "stdout",
     "output_type": "stream",
     "text": [
      "58.4 ns ± 0.0649 ns per loop (mean ± std. dev. of 7 runs, 10,000,000 loops each)\n"
     ]
    }
   ],
   "source": [
    "%timeit t.a"
   ]
  },
  {
   "cell_type": "code",
   "execution_count": 6,
   "id": "bd52f867",
   "metadata": {
    "execution": {
     "iopub.execute_input": "2023-03-06T11:50:15.286573Z",
     "iopub.status.busy": "2023-03-06T11:50:15.286214Z",
     "iopub.status.idle": "2023-03-06T11:50:15.293753Z",
     "shell.execute_reply": "2023-03-06T11:50:15.293175Z"
    }
   },
   "outputs": [
    {
     "data": {
      "text/plain": [
       "<FastTreeValue 0x7f0ba4206f40>\n",
       "├── 'a' --> tensor([[ 0.0430, -0.4567,  0.0439],\n",
       "│                   [-0.8979, -0.8304,  0.1905]])\n",
       "└── 'x' --> <FastTreeValue 0x7f0ba4206e20>\n",
       "    └── 'c' --> tensor([[ 0.4012,  0.4930, -0.6113, -0.6209],\n",
       "                        [-0.9880,  0.4415, -1.6825,  1.4976],\n",
       "                        [-0.5949, -0.7458,  0.3910,  0.3924]])"
      ]
     },
     "execution_count": 6,
     "metadata": {},
     "output_type": "execute_result"
    }
   ],
   "source": [
    "new_value = torch.randn(2, 3)\n",
    "t.a = new_value\n",
    "\n",
    "t"
   ]
  },
  {
   "cell_type": "code",
   "execution_count": 7,
   "id": "bbe04d1c",
   "metadata": {
    "execution": {
     "iopub.execute_input": "2023-03-06T11:50:15.296593Z",
     "iopub.status.busy": "2023-03-06T11:50:15.296048Z",
     "iopub.status.idle": "2023-03-06T11:50:20.194065Z",
     "shell.execute_reply": "2023-03-06T11:50:20.193387Z"
    }
   },
   "outputs": [
    {
     "name": "stdout",
     "output_type": "stream",
     "text": [
      "60.3 ns ± 0.0215 ns per loop (mean ± std. dev. of 7 runs, 10,000,000 loops each)\n"
     ]
    }
   ],
   "source": [
    "%timeit t.a = new_value"
   ]
  },
  {
   "cell_type": "markdown",
   "id": "48c49731",
   "metadata": {},
   "source": [
    "### Tianshou Batch's Get and Set"
   ]
  },
  {
   "cell_type": "code",
   "execution_count": 8,
   "id": "f1bb14c1",
   "metadata": {
    "execution": {
     "iopub.execute_input": "2023-03-06T11:50:20.197011Z",
     "iopub.status.busy": "2023-03-06T11:50:20.196649Z",
     "iopub.status.idle": "2023-03-06T11:50:20.521610Z",
     "shell.execute_reply": "2023-03-06T11:50:20.520953Z"
    }
   },
   "outputs": [],
   "source": [
    "from tianshou.data import Batch\n",
    "\n",
    "b = Batch(**_TREE_DATA_2)"
   ]
  },
  {
   "cell_type": "code",
   "execution_count": 9,
   "id": "cb0777c3",
   "metadata": {
    "execution": {
     "iopub.execute_input": "2023-03-06T11:50:20.524838Z",
     "iopub.status.busy": "2023-03-06T11:50:20.524411Z",
     "iopub.status.idle": "2023-03-06T11:50:20.531021Z",
     "shell.execute_reply": "2023-03-06T11:50:20.530438Z"
    }
   },
   "outputs": [
    {
     "data": {
      "text/plain": [
       "Batch(\n",
       "    a: tensor([[-0.7937, -0.4952, -0.4200],\n",
       "               [-0.3142, -0.3004,  1.2702]]),\n",
       "    x: Batch(\n",
       "           c: tensor([[ 0.4012,  0.4930, -0.6113, -0.6209],\n",
       "                      [-0.9880,  0.4415, -1.6825,  1.4976],\n",
       "                      [-0.5949, -0.7458,  0.3910,  0.3924]]),\n",
       "       ),\n",
       ")"
      ]
     },
     "execution_count": 9,
     "metadata": {},
     "output_type": "execute_result"
    }
   ],
   "source": [
    "b"
   ]
  },
  {
   "cell_type": "code",
   "execution_count": 10,
   "id": "43ef8ea3",
   "metadata": {
    "execution": {
     "iopub.execute_input": "2023-03-06T11:50:20.533659Z",
     "iopub.status.busy": "2023-03-06T11:50:20.533326Z",
     "iopub.status.idle": "2023-03-06T11:50:20.538736Z",
     "shell.execute_reply": "2023-03-06T11:50:20.538179Z"
    }
   },
   "outputs": [
    {
     "data": {
      "text/plain": [
       "tensor([[-0.7937, -0.4952, -0.4200],\n",
       "        [-0.3142, -0.3004,  1.2702]])"
      ]
     },
     "execution_count": 10,
     "metadata": {},
     "output_type": "execute_result"
    }
   ],
   "source": [
    "b.a"
   ]
  },
  {
   "cell_type": "code",
   "execution_count": 11,
   "id": "b785ab72",
   "metadata": {
    "execution": {
     "iopub.execute_input": "2023-03-06T11:50:20.541332Z",
     "iopub.status.busy": "2023-03-06T11:50:20.541003Z",
     "iopub.status.idle": "2023-03-06T11:50:25.189085Z",
     "shell.execute_reply": "2023-03-06T11:50:25.188400Z"
    }
   },
   "outputs": [
    {
     "name": "stdout",
     "output_type": "stream",
     "text": [
      "57 ns ± 0.0111 ns per loop (mean ± std. dev. of 7 runs, 10,000,000 loops each)\n"
     ]
    }
   ],
   "source": [
    "%timeit b.a"
   ]
  },
  {
   "cell_type": "code",
   "execution_count": 12,
   "id": "ad54dc69",
   "metadata": {
    "execution": {
     "iopub.execute_input": "2023-03-06T11:50:25.192133Z",
     "iopub.status.busy": "2023-03-06T11:50:25.191771Z",
     "iopub.status.idle": "2023-03-06T11:50:25.198073Z",
     "shell.execute_reply": "2023-03-06T11:50:25.197487Z"
    }
   },
   "outputs": [
    {
     "data": {
      "text/plain": [
       "Batch(\n",
       "    a: tensor([[-0.2739,  2.9644,  1.9805],\n",
       "               [ 0.5534, -0.6204,  1.4132]]),\n",
       "    x: Batch(\n",
       "           c: tensor([[ 0.4012,  0.4930, -0.6113, -0.6209],\n",
       "                      [-0.9880,  0.4415, -1.6825,  1.4976],\n",
       "                      [-0.5949, -0.7458,  0.3910,  0.3924]]),\n",
       "       ),\n",
       ")"
      ]
     },
     "execution_count": 12,
     "metadata": {},
     "output_type": "execute_result"
    }
   ],
   "source": [
    "new_value = torch.randn(2, 3)\n",
    "b.a = new_value\n",
    "\n",
    "b"
   ]
  },
  {
   "cell_type": "code",
   "execution_count": 13,
   "id": "29b1d0bf",
   "metadata": {
    "execution": {
     "iopub.execute_input": "2023-03-06T11:50:25.200820Z",
     "iopub.status.busy": "2023-03-06T11:50:25.200347Z",
     "iopub.status.idle": "2023-03-06T11:50:29.083091Z",
     "shell.execute_reply": "2023-03-06T11:50:29.082412Z"
    }
   },
   "outputs": [
    {
     "name": "stdout",
     "output_type": "stream",
     "text": [
      "478 ns ± 0.185 ns per loop (mean ± std. dev. of 7 runs, 1,000,000 loops each)\n"
     ]
    }
   ],
   "source": [
    "%timeit b.a = new_value"
   ]
  },
  {
   "cell_type": "markdown",
   "id": "b61ad1d0",
   "metadata": {},
   "source": [
    "## Initialization"
   ]
  },
  {
   "cell_type": "markdown",
   "id": "d70f0d54",
   "metadata": {},
   "source": [
    "### TreeValue's Initialization"
   ]
  },
  {
   "cell_type": "code",
   "execution_count": 14,
   "id": "d32a679b",
   "metadata": {
    "execution": {
     "iopub.execute_input": "2023-03-06T11:50:29.086285Z",
     "iopub.status.busy": "2023-03-06T11:50:29.085759Z",
     "iopub.status.idle": "2023-03-06T11:50:35.933052Z",
     "shell.execute_reply": "2023-03-06T11:50:35.932312Z"
    }
   },
   "outputs": [
    {
     "name": "stdout",
     "output_type": "stream",
     "text": [
      "842 ns ± 5.13 ns per loop (mean ± std. dev. of 7 runs, 1,000,000 loops each)\n"
     ]
    }
   ],
   "source": [
    "%timeit FastTreeValue(_TREE_DATA_1)"
   ]
  },
  {
   "cell_type": "markdown",
   "id": "24f3707b",
   "metadata": {},
   "source": [
    "### Tianshou Batch's Initialization"
   ]
  },
  {
   "cell_type": "code",
   "execution_count": 15,
   "id": "ac3958df",
   "metadata": {
    "execution": {
     "iopub.execute_input": "2023-03-06T11:50:35.936178Z",
     "iopub.status.busy": "2023-03-06T11:50:35.935692Z",
     "iopub.status.idle": "2023-03-06T11:50:45.060077Z",
     "shell.execute_reply": "2023-03-06T11:50:45.059342Z"
    }
   },
   "outputs": [
    {
     "name": "stdout",
     "output_type": "stream",
     "text": [
      "11.2 µs ± 38 ns per loop (mean ± std. dev. of 7 runs, 100,000 loops each)\n"
     ]
    }
   ],
   "source": [
    "%timeit Batch(**_TREE_DATA_1)"
   ]
  },
  {
   "cell_type": "markdown",
   "id": "1ab82e2d",
   "metadata": {},
   "source": [
    "## Deep Copy Operation"
   ]
  },
  {
   "cell_type": "code",
   "execution_count": 16,
   "id": "210a9442",
   "metadata": {
    "execution": {
     "iopub.execute_input": "2023-03-06T11:50:45.063081Z",
     "iopub.status.busy": "2023-03-06T11:50:45.062528Z",
     "iopub.status.idle": "2023-03-06T11:50:45.066424Z",
     "shell.execute_reply": "2023-03-06T11:50:45.065822Z"
    }
   },
   "outputs": [],
   "source": [
    "import copy"
   ]
  },
  {
   "cell_type": "markdown",
   "id": "5a736274",
   "metadata": {},
   "source": [
    "### Deep Copy of TreeValue"
   ]
  },
  {
   "cell_type": "code",
   "execution_count": 17,
   "id": "f9bcadd6",
   "metadata": {
    "execution": {
     "iopub.execute_input": "2023-03-06T11:50:45.068861Z",
     "iopub.status.busy": "2023-03-06T11:50:45.068530Z",
     "iopub.status.idle": "2023-03-06T11:50:56.172325Z",
     "shell.execute_reply": "2023-03-06T11:50:56.171770Z"
    }
   },
   "outputs": [
    {
     "name": "stdout",
     "output_type": "stream",
     "text": [
      "137 µs ± 314 ns per loop (mean ± std. dev. of 7 runs, 10,000 loops each)\n"
     ]
    }
   ],
   "source": [
    "t3 = FastTreeValue(_TREE_DATA_3)\n",
    "%timeit copy.deepcopy(t3)"
   ]
  },
  {
   "cell_type": "markdown",
   "id": "bf8be7ea",
   "metadata": {},
   "source": [
    "### Deep Copy of Tianshou Batch"
   ]
  },
  {
   "cell_type": "code",
   "execution_count": 18,
   "id": "91998e6f",
   "metadata": {
    "execution": {
     "iopub.execute_input": "2023-03-06T11:50:56.175073Z",
     "iopub.status.busy": "2023-03-06T11:50:56.174639Z",
     "iopub.status.idle": "2023-03-06T11:51:07.458283Z",
     "shell.execute_reply": "2023-03-06T11:51:07.457729Z"
    }
   },
   "outputs": [
    {
     "name": "stdout",
     "output_type": "stream",
     "text": [
      "139 µs ± 195 ns per loop (mean ± std. dev. of 7 runs, 10,000 loops each)\n"
     ]
    }
   ],
   "source": [
    "b3 = Batch(**_TREE_DATA_3)\n",
    "%timeit copy.deepcopy(b3)"
   ]
  },
  {
   "cell_type": "markdown",
   "id": "223162fb",
   "metadata": {},
   "source": [
    "## Stack, Concat and Split Operation"
   ]
  },
  {
   "cell_type": "markdown",
   "id": "85fa4a73",
   "metadata": {},
   "source": [
    "### Performance of TreeValue"
   ]
  },
  {
   "cell_type": "code",
   "execution_count": 19,
   "id": "a0c2b697",
   "metadata": {
    "execution": {
     "iopub.execute_input": "2023-03-06T11:51:07.462146Z",
     "iopub.status.busy": "2023-03-06T11:51:07.461245Z",
     "iopub.status.idle": "2023-03-06T11:51:07.465361Z",
     "shell.execute_reply": "2023-03-06T11:51:07.464837Z"
    }
   },
   "outputs": [],
   "source": [
    "trees = [FastTreeValue(_TREE_DATA_2) for _ in range(8)]"
   ]
  },
  {
   "cell_type": "code",
   "execution_count": 20,
   "id": "017ea5a5",
   "metadata": {
    "execution": {
     "iopub.execute_input": "2023-03-06T11:51:07.468065Z",
     "iopub.status.busy": "2023-03-06T11:51:07.467696Z",
     "iopub.status.idle": "2023-03-06T11:51:07.474900Z",
     "shell.execute_reply": "2023-03-06T11:51:07.474263Z"
    }
   },
   "outputs": [
    {
     "data": {
      "text/plain": [
       "<FastTreeValue 0x7f0aeca69bb0>\n",
       "├── 'a' --> tensor([[[-0.7937, -0.4952, -0.4200],\n",
       "│                    [-0.3142, -0.3004,  1.2702]],\n",
       "│           \n",
       "│                   [[-0.7937, -0.4952, -0.4200],\n",
       "│                    [-0.3142, -0.3004,  1.2702]],\n",
       "│           \n",
       "│                   [[-0.7937, -0.4952, -0.4200],\n",
       "│                    [-0.3142, -0.3004,  1.2702]],\n",
       "│           \n",
       "│                   [[-0.7937, -0.4952, -0.4200],\n",
       "│                    [-0.3142, -0.3004,  1.2702]],\n",
       "│           \n",
       "│                   [[-0.7937, -0.4952, -0.4200],\n",
       "│                    [-0.3142, -0.3004,  1.2702]],\n",
       "│           \n",
       "│                   [[-0.7937, -0.4952, -0.4200],\n",
       "│                    [-0.3142, -0.3004,  1.2702]],\n",
       "│           \n",
       "│                   [[-0.7937, -0.4952, -0.4200],\n",
       "│                    [-0.3142, -0.3004,  1.2702]],\n",
       "│           \n",
       "│                   [[-0.7937, -0.4952, -0.4200],\n",
       "│                    [-0.3142, -0.3004,  1.2702]]])\n",
       "└── 'x' --> <FastTreeValue 0x7f0aec44ffa0>\n",
       "    └── 'c' --> tensor([[[ 0.4012,  0.4930, -0.6113, -0.6209],\n",
       "                         [-0.9880,  0.4415, -1.6825,  1.4976],\n",
       "                         [-0.5949, -0.7458,  0.3910,  0.3924]],\n",
       "                \n",
       "                        [[ 0.4012,  0.4930, -0.6113, -0.6209],\n",
       "                         [-0.9880,  0.4415, -1.6825,  1.4976],\n",
       "                         [-0.5949, -0.7458,  0.3910,  0.3924]],\n",
       "                \n",
       "                        [[ 0.4012,  0.4930, -0.6113, -0.6209],\n",
       "                         [-0.9880,  0.4415, -1.6825,  1.4976],\n",
       "                         [-0.5949, -0.7458,  0.3910,  0.3924]],\n",
       "                \n",
       "                        [[ 0.4012,  0.4930, -0.6113, -0.6209],\n",
       "                         [-0.9880,  0.4415, -1.6825,  1.4976],\n",
       "                         [-0.5949, -0.7458,  0.3910,  0.3924]],\n",
       "                \n",
       "                        [[ 0.4012,  0.4930, -0.6113, -0.6209],\n",
       "                         [-0.9880,  0.4415, -1.6825,  1.4976],\n",
       "                         [-0.5949, -0.7458,  0.3910,  0.3924]],\n",
       "                \n",
       "                        [[ 0.4012,  0.4930, -0.6113, -0.6209],\n",
       "                         [-0.9880,  0.4415, -1.6825,  1.4976],\n",
       "                         [-0.5949, -0.7458,  0.3910,  0.3924]],\n",
       "                \n",
       "                        [[ 0.4012,  0.4930, -0.6113, -0.6209],\n",
       "                         [-0.9880,  0.4415, -1.6825,  1.4976],\n",
       "                         [-0.5949, -0.7458,  0.3910,  0.3924]],\n",
       "                \n",
       "                        [[ 0.4012,  0.4930, -0.6113, -0.6209],\n",
       "                         [-0.9880,  0.4415, -1.6825,  1.4976],\n",
       "                         [-0.5949, -0.7458,  0.3910,  0.3924]]])"
      ]
     },
     "execution_count": 20,
     "metadata": {},
     "output_type": "execute_result"
    }
   ],
   "source": [
    "t_stack = FastTreeValue.func(subside=True)(torch.stack)\n",
    "\n",
    "t_stack(trees)"
   ]
  },
  {
   "cell_type": "code",
   "execution_count": 21,
   "id": "f8b3f415",
   "metadata": {
    "execution": {
     "iopub.execute_input": "2023-03-06T11:51:07.477381Z",
     "iopub.status.busy": "2023-03-06T11:51:07.477054Z",
     "iopub.status.idle": "2023-03-06T11:51:10.071495Z",
     "shell.execute_reply": "2023-03-06T11:51:10.070735Z"
    }
   },
   "outputs": [
    {
     "name": "stdout",
     "output_type": "stream",
     "text": [
      "31.9 µs ± 117 ns per loop (mean ± std. dev. of 7 runs, 10,000 loops each)\n"
     ]
    }
   ],
   "source": [
    "%timeit t_stack(trees)"
   ]
  },
  {
   "cell_type": "code",
   "execution_count": 22,
   "id": "94b56771",
   "metadata": {
    "execution": {
     "iopub.execute_input": "2023-03-06T11:51:10.074616Z",
     "iopub.status.busy": "2023-03-06T11:51:10.074039Z",
     "iopub.status.idle": "2023-03-06T11:51:10.082845Z",
     "shell.execute_reply": "2023-03-06T11:51:10.082284Z"
    }
   },
   "outputs": [
    {
     "data": {
      "text/plain": [
       "<FastTreeValue 0x7f0af30ae880>\n",
       "├── 'a' --> tensor([[-0.7937, -0.4952, -0.4200],\n",
       "│                   [-0.3142, -0.3004,  1.2702],\n",
       "│                   [-0.7937, -0.4952, -0.4200],\n",
       "│                   [-0.3142, -0.3004,  1.2702],\n",
       "│                   [-0.7937, -0.4952, -0.4200],\n",
       "│                   [-0.3142, -0.3004,  1.2702],\n",
       "│                   [-0.7937, -0.4952, -0.4200],\n",
       "│                   [-0.3142, -0.3004,  1.2702],\n",
       "│                   [-0.7937, -0.4952, -0.4200],\n",
       "│                   [-0.3142, -0.3004,  1.2702],\n",
       "│                   [-0.7937, -0.4952, -0.4200],\n",
       "│                   [-0.3142, -0.3004,  1.2702],\n",
       "│                   [-0.7937, -0.4952, -0.4200],\n",
       "│                   [-0.3142, -0.3004,  1.2702],\n",
       "│                   [-0.7937, -0.4952, -0.4200],\n",
       "│                   [-0.3142, -0.3004,  1.2702]])\n",
       "└── 'x' --> <FastTreeValue 0x7f0af30ae9d0>\n",
       "    └── 'c' --> tensor([[ 0.4012,  0.4930, -0.6113, -0.6209],\n",
       "                        [-0.9880,  0.4415, -1.6825,  1.4976],\n",
       "                        [-0.5949, -0.7458,  0.3910,  0.3924],\n",
       "                        [ 0.4012,  0.4930, -0.6113, -0.6209],\n",
       "                        [-0.9880,  0.4415, -1.6825,  1.4976],\n",
       "                        [-0.5949, -0.7458,  0.3910,  0.3924],\n",
       "                        [ 0.4012,  0.4930, -0.6113, -0.6209],\n",
       "                        [-0.9880,  0.4415, -1.6825,  1.4976],\n",
       "                        [-0.5949, -0.7458,  0.3910,  0.3924],\n",
       "                        [ 0.4012,  0.4930, -0.6113, -0.6209],\n",
       "                        [-0.9880,  0.4415, -1.6825,  1.4976],\n",
       "                        [-0.5949, -0.7458,  0.3910,  0.3924],\n",
       "                        [ 0.4012,  0.4930, -0.6113, -0.6209],\n",
       "                        [-0.9880,  0.4415, -1.6825,  1.4976],\n",
       "                        [-0.5949, -0.7458,  0.3910,  0.3924],\n",
       "                        [ 0.4012,  0.4930, -0.6113, -0.6209],\n",
       "                        [-0.9880,  0.4415, -1.6825,  1.4976],\n",
       "                        [-0.5949, -0.7458,  0.3910,  0.3924],\n",
       "                        [ 0.4012,  0.4930, -0.6113, -0.6209],\n",
       "                        [-0.9880,  0.4415, -1.6825,  1.4976],\n",
       "                        [-0.5949, -0.7458,  0.3910,  0.3924],\n",
       "                        [ 0.4012,  0.4930, -0.6113, -0.6209],\n",
       "                        [-0.9880,  0.4415, -1.6825,  1.4976],\n",
       "                        [-0.5949, -0.7458,  0.3910,  0.3924]])"
      ]
     },
     "execution_count": 22,
     "metadata": {},
     "output_type": "execute_result"
    }
   ],
   "source": [
    "t_cat = FastTreeValue.func(subside=True)(torch.cat)\n",
    "\n",
    "t_cat(trees)"
   ]
  },
  {
   "cell_type": "code",
   "execution_count": 23,
   "id": "5e9c06a6",
   "metadata": {
    "execution": {
     "iopub.execute_input": "2023-03-06T11:51:10.086106Z",
     "iopub.status.busy": "2023-03-06T11:51:10.085160Z",
     "iopub.status.idle": "2023-03-06T11:51:12.492195Z",
     "shell.execute_reply": "2023-03-06T11:51:12.491498Z"
    }
   },
   "outputs": [
    {
     "name": "stdout",
     "output_type": "stream",
     "text": [
      "29.6 µs ± 16 ns per loop (mean ± std. dev. of 7 runs, 10,000 loops each)\n"
     ]
    }
   ],
   "source": [
    "%timeit t_cat(trees)"
   ]
  },
  {
   "cell_type": "code",
   "execution_count": 24,
   "id": "a3ab5c8f",
   "metadata": {
    "execution": {
     "iopub.execute_input": "2023-03-06T11:51:12.495117Z",
     "iopub.status.busy": "2023-03-06T11:51:12.494661Z",
     "iopub.status.idle": "2023-03-06T11:51:17.359471Z",
     "shell.execute_reply": "2023-03-06T11:51:17.358735Z"
    }
   },
   "outputs": [
    {
     "name": "stdout",
     "output_type": "stream",
     "text": [
      "59.8 µs ± 197 ns per loop (mean ± std. dev. of 7 runs, 10,000 loops each)\n"
     ]
    }
   ],
   "source": [
    "t_split = FastTreeValue.func(rise=True)(torch.split)\n",
    "tree = FastTreeValue({\n",
    "    'obs': torch.randn(8, 4, 84, 84),\n",
    "    'action': torch.randint(0, 6, size=(8, 1,)),\n",
    "    'reward': torch.rand(8, 1),\n",
    "})\n",
    "\n",
    "%timeit t_split(tree, 1)"
   ]
  },
  {
   "cell_type": "markdown",
   "id": "31c3ec0b",
   "metadata": {},
   "source": [
    "### Performance of Tianshou Batch"
   ]
  },
  {
   "cell_type": "code",
   "execution_count": 25,
   "id": "9ead828a",
   "metadata": {
    "execution": {
     "iopub.execute_input": "2023-03-06T11:51:17.362510Z",
     "iopub.status.busy": "2023-03-06T11:51:17.362151Z",
     "iopub.status.idle": "2023-03-06T11:51:17.369954Z",
     "shell.execute_reply": "2023-03-06T11:51:17.369376Z"
    }
   },
   "outputs": [
    {
     "data": {
      "text/plain": [
       "Batch(\n",
       "    x: Batch(\n",
       "           c: tensor([[[ 0.4012,  0.4930, -0.6113, -0.6209],\n",
       "                       [-0.9880,  0.4415, -1.6825,  1.4976],\n",
       "                       [-0.5949, -0.7458,  0.3910,  0.3924]],\n",
       "              \n",
       "                      [[ 0.4012,  0.4930, -0.6113, -0.6209],\n",
       "                       [-0.9880,  0.4415, -1.6825,  1.4976],\n",
       "                       [-0.5949, -0.7458,  0.3910,  0.3924]],\n",
       "              \n",
       "                      [[ 0.4012,  0.4930, -0.6113, -0.6209],\n",
       "                       [-0.9880,  0.4415, -1.6825,  1.4976],\n",
       "                       [-0.5949, -0.7458,  0.3910,  0.3924]],\n",
       "              \n",
       "                      [[ 0.4012,  0.4930, -0.6113, -0.6209],\n",
       "                       [-0.9880,  0.4415, -1.6825,  1.4976],\n",
       "                       [-0.5949, -0.7458,  0.3910,  0.3924]],\n",
       "              \n",
       "                      [[ 0.4012,  0.4930, -0.6113, -0.6209],\n",
       "                       [-0.9880,  0.4415, -1.6825,  1.4976],\n",
       "                       [-0.5949, -0.7458,  0.3910,  0.3924]],\n",
       "              \n",
       "                      [[ 0.4012,  0.4930, -0.6113, -0.6209],\n",
       "                       [-0.9880,  0.4415, -1.6825,  1.4976],\n",
       "                       [-0.5949, -0.7458,  0.3910,  0.3924]],\n",
       "              \n",
       "                      [[ 0.4012,  0.4930, -0.6113, -0.6209],\n",
       "                       [-0.9880,  0.4415, -1.6825,  1.4976],\n",
       "                       [-0.5949, -0.7458,  0.3910,  0.3924]],\n",
       "              \n",
       "                      [[ 0.4012,  0.4930, -0.6113, -0.6209],\n",
       "                       [-0.9880,  0.4415, -1.6825,  1.4976],\n",
       "                       [-0.5949, -0.7458,  0.3910,  0.3924]]]),\n",
       "       ),\n",
       "    a: tensor([[[-0.7937, -0.4952, -0.4200],\n",
       "                [-0.3142, -0.3004,  1.2702]],\n",
       "       \n",
       "               [[-0.7937, -0.4952, -0.4200],\n",
       "                [-0.3142, -0.3004,  1.2702]],\n",
       "       \n",
       "               [[-0.7937, -0.4952, -0.4200],\n",
       "                [-0.3142, -0.3004,  1.2702]],\n",
       "       \n",
       "               [[-0.7937, -0.4952, -0.4200],\n",
       "                [-0.3142, -0.3004,  1.2702]],\n",
       "       \n",
       "               [[-0.7937, -0.4952, -0.4200],\n",
       "                [-0.3142, -0.3004,  1.2702]],\n",
       "       \n",
       "               [[-0.7937, -0.4952, -0.4200],\n",
       "                [-0.3142, -0.3004,  1.2702]],\n",
       "       \n",
       "               [[-0.7937, -0.4952, -0.4200],\n",
       "                [-0.3142, -0.3004,  1.2702]],\n",
       "       \n",
       "               [[-0.7937, -0.4952, -0.4200],\n",
       "                [-0.3142, -0.3004,  1.2702]]]),\n",
       ")"
      ]
     },
     "execution_count": 25,
     "metadata": {},
     "output_type": "execute_result"
    }
   ],
   "source": [
    "batches = [Batch(**_TREE_DATA_2) for _ in range(8)]\n",
    "\n",
    "Batch.stack(batches)"
   ]
  },
  {
   "cell_type": "code",
   "execution_count": 26,
   "id": "ec9037a3",
   "metadata": {
    "execution": {
     "iopub.execute_input": "2023-03-06T11:51:17.372551Z",
     "iopub.status.busy": "2023-03-06T11:51:17.372014Z",
     "iopub.status.idle": "2023-03-06T11:51:23.730710Z",
     "shell.execute_reply": "2023-03-06T11:51:23.730043Z"
    }
   },
   "outputs": [
    {
     "name": "stdout",
     "output_type": "stream",
     "text": [
      "78.2 µs ± 128 ns per loop (mean ± std. dev. of 7 runs, 10,000 loops each)\n"
     ]
    }
   ],
   "source": [
    "%timeit Batch.stack(batches)"
   ]
  },
  {
   "cell_type": "code",
   "execution_count": 27,
   "id": "cb8ab77e",
   "metadata": {
    "execution": {
     "iopub.execute_input": "2023-03-06T11:51:23.733667Z",
     "iopub.status.busy": "2023-03-06T11:51:23.733300Z",
     "iopub.status.idle": "2023-03-06T11:51:23.740729Z",
     "shell.execute_reply": "2023-03-06T11:51:23.740150Z"
    }
   },
   "outputs": [
    {
     "data": {
      "text/plain": [
       "Batch(\n",
       "    x: Batch(\n",
       "           c: tensor([[ 0.4012,  0.4930, -0.6113, -0.6209],\n",
       "                      [-0.9880,  0.4415, -1.6825,  1.4976],\n",
       "                      [-0.5949, -0.7458,  0.3910,  0.3924],\n",
       "                      [ 0.4012,  0.4930, -0.6113, -0.6209],\n",
       "                      [-0.9880,  0.4415, -1.6825,  1.4976],\n",
       "                      [-0.5949, -0.7458,  0.3910,  0.3924],\n",
       "                      [ 0.4012,  0.4930, -0.6113, -0.6209],\n",
       "                      [-0.9880,  0.4415, -1.6825,  1.4976],\n",
       "                      [-0.5949, -0.7458,  0.3910,  0.3924],\n",
       "                      [ 0.4012,  0.4930, -0.6113, -0.6209],\n",
       "                      [-0.9880,  0.4415, -1.6825,  1.4976],\n",
       "                      [-0.5949, -0.7458,  0.3910,  0.3924],\n",
       "                      [ 0.4012,  0.4930, -0.6113, -0.6209],\n",
       "                      [-0.9880,  0.4415, -1.6825,  1.4976],\n",
       "                      [-0.5949, -0.7458,  0.3910,  0.3924],\n",
       "                      [ 0.4012,  0.4930, -0.6113, -0.6209],\n",
       "                      [-0.9880,  0.4415, -1.6825,  1.4976],\n",
       "                      [-0.5949, -0.7458,  0.3910,  0.3924],\n",
       "                      [ 0.4012,  0.4930, -0.6113, -0.6209],\n",
       "                      [-0.9880,  0.4415, -1.6825,  1.4976],\n",
       "                      [-0.5949, -0.7458,  0.3910,  0.3924],\n",
       "                      [ 0.4012,  0.4930, -0.6113, -0.6209],\n",
       "                      [-0.9880,  0.4415, -1.6825,  1.4976],\n",
       "                      [-0.5949, -0.7458,  0.3910,  0.3924]]),\n",
       "       ),\n",
       "    a: tensor([[-0.7937, -0.4952, -0.4200],\n",
       "               [-0.3142, -0.3004,  1.2702],\n",
       "               [-0.7937, -0.4952, -0.4200],\n",
       "               [-0.3142, -0.3004,  1.2702],\n",
       "               [-0.7937, -0.4952, -0.4200],\n",
       "               [-0.3142, -0.3004,  1.2702],\n",
       "               [-0.7937, -0.4952, -0.4200],\n",
       "               [-0.3142, -0.3004,  1.2702],\n",
       "               [-0.7937, -0.4952, -0.4200],\n",
       "               [-0.3142, -0.3004,  1.2702],\n",
       "               [-0.7937, -0.4952, -0.4200],\n",
       "               [-0.3142, -0.3004,  1.2702],\n",
       "               [-0.7937, -0.4952, -0.4200],\n",
       "               [-0.3142, -0.3004,  1.2702],\n",
       "               [-0.7937, -0.4952, -0.4200],\n",
       "               [-0.3142, -0.3004,  1.2702]]),\n",
       ")"
      ]
     },
     "execution_count": 27,
     "metadata": {},
     "output_type": "execute_result"
    }
   ],
   "source": [
    "Batch.cat(batches)"
   ]
  },
  {
   "cell_type": "code",
   "execution_count": 28,
   "id": "18dfb045",
   "metadata": {
    "execution": {
     "iopub.execute_input": "2023-03-06T11:51:23.743454Z",
     "iopub.status.busy": "2023-03-06T11:51:23.742959Z",
     "iopub.status.idle": "2023-03-06T11:51:35.324568Z",
     "shell.execute_reply": "2023-03-06T11:51:35.323845Z"
    }
   },
   "outputs": [
    {
     "name": "stdout",
     "output_type": "stream",
     "text": [
      "142 µs ± 331 ns per loop (mean ± std. dev. of 7 runs, 10,000 loops each)\n"
     ]
    }
   ],
   "source": [
    "%timeit Batch.cat(batches)"
   ]
  },
  {
   "cell_type": "code",
   "execution_count": 29,
   "id": "c6688e51",
   "metadata": {
    "execution": {
     "iopub.execute_input": "2023-03-06T11:51:35.327674Z",
     "iopub.status.busy": "2023-03-06T11:51:35.327132Z",
     "iopub.status.idle": "2023-03-06T11:51:37.856311Z",
     "shell.execute_reply": "2023-03-06T11:51:37.855762Z"
    }
   },
   "outputs": [
    {
     "name": "stdout",
     "output_type": "stream",
     "text": [
      "311 µs ± 1.93 µs per loop (mean ± std. dev. of 7 runs, 1,000 loops each)\n"
     ]
    }
   ],
   "source": [
    "batch = Batch({\n",
    "    'obs': torch.randn(8, 4, 84, 84),\n",
    "    'action': torch.randint(0, 6, size=(8, 1,)),\n",
    "    'reward': torch.rand(8, 1)}\n",
    ")\n",
    "\n",
    "%timeit list(Batch.split(batch, 1, shuffle=False, merge_last=True))"
   ]
  },
  {
   "cell_type": "code",
   "execution_count": null,
   "id": "2539fbd9",
   "metadata": {},
   "outputs": [],
   "source": []
  }
 ],
 "metadata": {
  "kernelspec": {
   "display_name": "Python 3 (ipykernel)",
   "language": "python",
   "name": "python3"
  },
  "language_info": {
   "codemirror_mode": {
    "name": "ipython",
    "version": 3
   },
   "file_extension": ".py",
   "mimetype": "text/x-python",
   "name": "python",
   "nbconvert_exporter": "python",
   "pygments_lexer": "ipython3",
   "version": "3.8.16"
  }
 },
 "nbformat": 4,
 "nbformat_minor": 5
}
