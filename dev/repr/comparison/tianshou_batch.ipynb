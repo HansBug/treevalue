{
 "cells": [
  {
   "cell_type": "markdown",
   "id": "9d39d946",
   "metadata": {},
   "source": [
    "# Comparison Between TreeValue and Tianshou Batch"
   ]
  },
  {
   "cell_type": "markdown",
   "id": "3c6db2d4",
   "metadata": {},
   "source": [
    "In this section, we will take a look at the feature and performance of the [Tianshou Batch](https://github.com/thu-ml/tianshou) library, which is developed by Tsinghua Machine Learning Group."
   ]
  },
  {
   "cell_type": "markdown",
   "id": "069361b0",
   "metadata": {},
   "source": [
    "Before starting the comparison, let us define some thing."
   ]
  },
  {
   "cell_type": "code",
   "execution_count": 1,
   "id": "06fc8d26",
   "metadata": {
    "execution": {
     "iopub.execute_input": "2023-03-06T12:20:07.066036Z",
     "iopub.status.busy": "2023-03-06T12:20:07.065651Z",
     "iopub.status.idle": "2023-03-06T12:20:08.207466Z",
     "shell.execute_reply": "2023-03-06T12:20:08.206321Z"
    }
   },
   "outputs": [
    {
     "name": "stderr",
     "output_type": "stream",
     "text": [
      "/opt/hostedtoolcache/Python/3.8.16/x64/lib/python3.8/site-packages/tqdm/auto.py:21: TqdmWarning: IProgress not found. Please update jupyter and ipywidgets. See https://ipywidgets.readthedocs.io/en/stable/user_install.html\n",
      "  from .autonotebook import tqdm as notebook_tqdm\n"
     ]
    }
   ],
   "source": [
    "import torch \n",
    "\n",
    "_TREE_DATA_1 = {'a': 1, 'b': 2, 'x': {'c': 3, 'd': 4}}\n",
    "_TREE_DATA_2 = {\n",
    "    'a': torch.randn(2, 3), \n",
    "    'x': {\n",
    "        'c': torch.randn(3, 4)\n",
    "    },\n",
    "}\n",
    "_TREE_DATA_3 = {\n",
    "    'obs': torch.randn(4, 84, 84),\n",
    "    'action': torch.randint(0, 6, size=(1,)),\n",
    "    'reward': torch.rand(1),\n",
    "}"
   ]
  },
  {
   "cell_type": "markdown",
   "id": "83461b25",
   "metadata": {},
   "source": [
    "## Read and Write Operation"
   ]
  },
  {
   "cell_type": "markdown",
   "id": "067b3f73",
   "metadata": {},
   "source": [
    "Reading and writing are the two most common operations in the tree data structure based on the data model (TreeValue and Tianshou Batch both belong to this type), so this section will compare the reading and writing performance of these two libraries."
   ]
  },
  {
   "cell_type": "markdown",
   "id": "5d09a5b7",
   "metadata": {},
   "source": [
    "### TreeValue's Get and Set"
   ]
  },
  {
   "cell_type": "code",
   "execution_count": 2,
   "id": "9519c4bb",
   "metadata": {
    "execution": {
     "iopub.execute_input": "2023-03-06T12:20:08.211606Z",
     "iopub.status.busy": "2023-03-06T12:20:08.211167Z",
     "iopub.status.idle": "2023-03-06T12:20:08.562047Z",
     "shell.execute_reply": "2023-03-06T12:20:08.560987Z"
    }
   },
   "outputs": [],
   "source": [
    "from treevalue import FastTreeValue\n",
    "\n",
    "t = FastTreeValue(_TREE_DATA_2)"
   ]
  },
  {
   "cell_type": "code",
   "execution_count": 3,
   "id": "11c37677",
   "metadata": {
    "execution": {
     "iopub.execute_input": "2023-03-06T12:20:08.565876Z",
     "iopub.status.busy": "2023-03-06T12:20:08.565545Z",
     "iopub.status.idle": "2023-03-06T12:20:08.577211Z",
     "shell.execute_reply": "2023-03-06T12:20:08.576334Z"
    }
   },
   "outputs": [
    {
     "data": {
      "text/plain": [
       "<FastTreeValue 0x7f00bc069c70>\n",
       "├── 'a' --> tensor([[-0.3325, -0.1795,  1.3716],\n",
       "│                   [ 1.8039, -2.3693, -2.4119]])\n",
       "└── 'x' --> <FastTreeValue 0x7f00bc0694c0>\n",
       "    └── 'c' --> tensor([[-1.0785, -1.9763, -0.6128, -0.0162],\n",
       "                        [-0.7942, -0.3993,  0.5239, -0.4707],\n",
       "                        [-0.4826, -1.9290,  0.2433, -0.8819]])"
      ]
     },
     "execution_count": 3,
     "metadata": {},
     "output_type": "execute_result"
    }
   ],
   "source": [
    "t"
   ]
  },
  {
   "cell_type": "code",
   "execution_count": 4,
   "id": "fd70b0b9",
   "metadata": {
    "execution": {
     "iopub.execute_input": "2023-03-06T12:20:08.580584Z",
     "iopub.status.busy": "2023-03-06T12:20:08.580262Z",
     "iopub.status.idle": "2023-03-06T12:20:08.588133Z",
     "shell.execute_reply": "2023-03-06T12:20:08.586835Z"
    }
   },
   "outputs": [
    {
     "data": {
      "text/plain": [
       "tensor([[-0.3325, -0.1795,  1.3716],\n",
       "        [ 1.8039, -2.3693, -2.4119]])"
      ]
     },
     "execution_count": 4,
     "metadata": {},
     "output_type": "execute_result"
    }
   ],
   "source": [
    "t.a"
   ]
  },
  {
   "cell_type": "code",
   "execution_count": 5,
   "id": "c18197bd",
   "metadata": {
    "execution": {
     "iopub.execute_input": "2023-03-06T12:20:08.595301Z",
     "iopub.status.busy": "2023-03-06T12:20:08.594476Z",
     "iopub.status.idle": "2023-03-06T12:20:13.880907Z",
     "shell.execute_reply": "2023-03-06T12:20:13.879872Z"
    }
   },
   "outputs": [
    {
     "name": "stdout",
     "output_type": "stream",
     "text": [
      "65.2 ns ± 1.24 ns per loop (mean ± std. dev. of 7 runs, 10,000,000 loops each)\n"
     ]
    }
   ],
   "source": [
    "%timeit t.a"
   ]
  },
  {
   "cell_type": "code",
   "execution_count": 6,
   "id": "bd52f867",
   "metadata": {
    "execution": {
     "iopub.execute_input": "2023-03-06T12:20:13.884614Z",
     "iopub.status.busy": "2023-03-06T12:20:13.884340Z",
     "iopub.status.idle": "2023-03-06T12:20:13.893624Z",
     "shell.execute_reply": "2023-03-06T12:20:13.892771Z"
    }
   },
   "outputs": [
    {
     "data": {
      "text/plain": [
       "<FastTreeValue 0x7f00bc069c70>\n",
       "├── 'a' --> tensor([[ 1.5440, -0.6215, -0.3965],\n",
       "│                   [-1.8599, -1.0966,  0.7096]])\n",
       "└── 'x' --> <FastTreeValue 0x7f00bc0694c0>\n",
       "    └── 'c' --> tensor([[-1.0785, -1.9763, -0.6128, -0.0162],\n",
       "                        [-0.7942, -0.3993,  0.5239, -0.4707],\n",
       "                        [-0.4826, -1.9290,  0.2433, -0.8819]])"
      ]
     },
     "execution_count": 6,
     "metadata": {},
     "output_type": "execute_result"
    }
   ],
   "source": [
    "new_value = torch.randn(2, 3)\n",
    "t.a = new_value\n",
    "\n",
    "t"
   ]
  },
  {
   "cell_type": "code",
   "execution_count": 7,
   "id": "bbe04d1c",
   "metadata": {
    "execution": {
     "iopub.execute_input": "2023-03-06T12:20:13.899207Z",
     "iopub.status.busy": "2023-03-06T12:20:13.898720Z",
     "iopub.status.idle": "2023-03-06T12:20:20.495905Z",
     "shell.execute_reply": "2023-03-06T12:20:20.494631Z"
    }
   },
   "outputs": [
    {
     "name": "stdout",
     "output_type": "stream",
     "text": [
      "81.4 ns ± 3.52 ns per loop (mean ± std. dev. of 7 runs, 10,000,000 loops each)\n"
     ]
    }
   ],
   "source": [
    "%timeit t.a = new_value"
   ]
  },
  {
   "cell_type": "markdown",
   "id": "48c49731",
   "metadata": {},
   "source": [
    "### Tianshou Batch's Get and Set"
   ]
  },
  {
   "cell_type": "code",
   "execution_count": 8,
   "id": "f1bb14c1",
   "metadata": {
    "execution": {
     "iopub.execute_input": "2023-03-06T12:20:20.499274Z",
     "iopub.status.busy": "2023-03-06T12:20:20.498948Z",
     "iopub.status.idle": "2023-03-06T12:20:20.904553Z",
     "shell.execute_reply": "2023-03-06T12:20:20.903537Z"
    }
   },
   "outputs": [],
   "source": [
    "from tianshou.data import Batch\n",
    "\n",
    "b = Batch(**_TREE_DATA_2)"
   ]
  },
  {
   "cell_type": "code",
   "execution_count": 9,
   "id": "cb0777c3",
   "metadata": {
    "execution": {
     "iopub.execute_input": "2023-03-06T12:20:20.907872Z",
     "iopub.status.busy": "2023-03-06T12:20:20.907552Z",
     "iopub.status.idle": "2023-03-06T12:20:20.915525Z",
     "shell.execute_reply": "2023-03-06T12:20:20.914467Z"
    }
   },
   "outputs": [
    {
     "data": {
      "text/plain": [
       "Batch(\n",
       "    a: tensor([[-0.3325, -0.1795,  1.3716],\n",
       "               [ 1.8039, -2.3693, -2.4119]]),\n",
       "    x: Batch(\n",
       "           c: tensor([[-1.0785, -1.9763, -0.6128, -0.0162],\n",
       "                      [-0.7942, -0.3993,  0.5239, -0.4707],\n",
       "                      [-0.4826, -1.9290,  0.2433, -0.8819]]),\n",
       "       ),\n",
       ")"
      ]
     },
     "execution_count": 9,
     "metadata": {},
     "output_type": "execute_result"
    }
   ],
   "source": [
    "b"
   ]
  },
  {
   "cell_type": "code",
   "execution_count": 10,
   "id": "43ef8ea3",
   "metadata": {
    "execution": {
     "iopub.execute_input": "2023-03-06T12:20:20.918852Z",
     "iopub.status.busy": "2023-03-06T12:20:20.918603Z",
     "iopub.status.idle": "2023-03-06T12:20:20.928071Z",
     "shell.execute_reply": "2023-03-06T12:20:20.926886Z"
    }
   },
   "outputs": [
    {
     "data": {
      "text/plain": [
       "tensor([[-0.3325, -0.1795,  1.3716],\n",
       "        [ 1.8039, -2.3693, -2.4119]])"
      ]
     },
     "execution_count": 10,
     "metadata": {},
     "output_type": "execute_result"
    }
   ],
   "source": [
    "b.a"
   ]
  },
  {
   "cell_type": "code",
   "execution_count": 11,
   "id": "b785ab72",
   "metadata": {
    "execution": {
     "iopub.execute_input": "2023-03-06T12:20:20.931916Z",
     "iopub.status.busy": "2023-03-06T12:20:20.931600Z",
     "iopub.status.idle": "2023-03-06T12:20:26.541511Z",
     "shell.execute_reply": "2023-03-06T12:20:26.540402Z"
    }
   },
   "outputs": [
    {
     "name": "stdout",
     "output_type": "stream",
     "text": [
      "69 ns ± 1.58 ns per loop (mean ± std. dev. of 7 runs, 10,000,000 loops each)\n"
     ]
    }
   ],
   "source": [
    "%timeit b.a"
   ]
  },
  {
   "cell_type": "code",
   "execution_count": 12,
   "id": "ad54dc69",
   "metadata": {
    "execution": {
     "iopub.execute_input": "2023-03-06T12:20:26.545626Z",
     "iopub.status.busy": "2023-03-06T12:20:26.545082Z",
     "iopub.status.idle": "2023-03-06T12:20:26.554008Z",
     "shell.execute_reply": "2023-03-06T12:20:26.552954Z"
    }
   },
   "outputs": [
    {
     "data": {
      "text/plain": [
       "Batch(\n",
       "    a: tensor([[ 1.1921, -1.1560,  0.7869],\n",
       "               [ 0.4271,  0.7530,  0.2094]]),\n",
       "    x: Batch(\n",
       "           c: tensor([[-1.0785, -1.9763, -0.6128, -0.0162],\n",
       "                      [-0.7942, -0.3993,  0.5239, -0.4707],\n",
       "                      [-0.4826, -1.9290,  0.2433, -0.8819]]),\n",
       "       ),\n",
       ")"
      ]
     },
     "execution_count": 12,
     "metadata": {},
     "output_type": "execute_result"
    }
   ],
   "source": [
    "new_value = torch.randn(2, 3)\n",
    "b.a = new_value\n",
    "\n",
    "b"
   ]
  },
  {
   "cell_type": "code",
   "execution_count": 13,
   "id": "29b1d0bf",
   "metadata": {
    "execution": {
     "iopub.execute_input": "2023-03-06T12:20:26.557456Z",
     "iopub.status.busy": "2023-03-06T12:20:26.557167Z",
     "iopub.status.idle": "2023-03-06T12:20:31.442988Z",
     "shell.execute_reply": "2023-03-06T12:20:31.441939Z"
    }
   },
   "outputs": [
    {
     "name": "stdout",
     "output_type": "stream",
     "text": [
      "603 ns ± 11.6 ns per loop (mean ± std. dev. of 7 runs, 1,000,000 loops each)\n"
     ]
    }
   ],
   "source": [
    "%timeit b.a = new_value"
   ]
  },
  {
   "cell_type": "markdown",
   "id": "b61ad1d0",
   "metadata": {},
   "source": [
    "## Initialization"
   ]
  },
  {
   "cell_type": "markdown",
   "id": "d70f0d54",
   "metadata": {},
   "source": [
    "### TreeValue's Initialization"
   ]
  },
  {
   "cell_type": "code",
   "execution_count": 14,
   "id": "d32a679b",
   "metadata": {
    "execution": {
     "iopub.execute_input": "2023-03-06T12:20:31.447710Z",
     "iopub.status.busy": "2023-03-06T12:20:31.447057Z",
     "iopub.status.idle": "2023-03-06T12:20:40.070557Z",
     "shell.execute_reply": "2023-03-06T12:20:40.069612Z"
    }
   },
   "outputs": [
    {
     "name": "stdout",
     "output_type": "stream",
     "text": [
      "1.07 µs ± 18.8 ns per loop (mean ± std. dev. of 7 runs, 1,000,000 loops each)\n"
     ]
    }
   ],
   "source": [
    "%timeit FastTreeValue(_TREE_DATA_1)"
   ]
  },
  {
   "cell_type": "markdown",
   "id": "24f3707b",
   "metadata": {},
   "source": [
    "### Tianshou Batch's Initialization"
   ]
  },
  {
   "cell_type": "code",
   "execution_count": 15,
   "id": "ac3958df",
   "metadata": {
    "execution": {
     "iopub.execute_input": "2023-03-06T12:20:40.074212Z",
     "iopub.status.busy": "2023-03-06T12:20:40.073892Z",
     "iopub.status.idle": "2023-03-06T12:20:50.501231Z",
     "shell.execute_reply": "2023-03-06T12:20:50.500165Z"
    }
   },
   "outputs": [
    {
     "name": "stdout",
     "output_type": "stream",
     "text": [
      "12.8 µs ± 284 ns per loop (mean ± std. dev. of 7 runs, 100,000 loops each)\n"
     ]
    }
   ],
   "source": [
    "%timeit Batch(**_TREE_DATA_1)"
   ]
  },
  {
   "cell_type": "markdown",
   "id": "1ab82e2d",
   "metadata": {},
   "source": [
    "## Deep Copy Operation"
   ]
  },
  {
   "cell_type": "code",
   "execution_count": 16,
   "id": "210a9442",
   "metadata": {
    "execution": {
     "iopub.execute_input": "2023-03-06T12:20:50.505263Z",
     "iopub.status.busy": "2023-03-06T12:20:50.504953Z",
     "iopub.status.idle": "2023-03-06T12:20:50.510142Z",
     "shell.execute_reply": "2023-03-06T12:20:50.509219Z"
    }
   },
   "outputs": [],
   "source": [
    "import copy"
   ]
  },
  {
   "cell_type": "markdown",
   "id": "5a736274",
   "metadata": {},
   "source": [
    "### Deep Copy of TreeValue"
   ]
  },
  {
   "cell_type": "code",
   "execution_count": 17,
   "id": "f9bcadd6",
   "metadata": {
    "execution": {
     "iopub.execute_input": "2023-03-06T12:20:50.513276Z",
     "iopub.status.busy": "2023-03-06T12:20:50.512847Z",
     "iopub.status.idle": "2023-03-06T12:20:52.577061Z",
     "shell.execute_reply": "2023-03-06T12:20:52.576171Z"
    }
   },
   "outputs": [
    {
     "name": "stdout",
     "output_type": "stream",
     "text": [
      "253 µs ± 8.97 µs per loop (mean ± std. dev. of 7 runs, 1,000 loops each)\n"
     ]
    }
   ],
   "source": [
    "t3 = FastTreeValue(_TREE_DATA_3)\n",
    "%timeit copy.deepcopy(t3)"
   ]
  },
  {
   "cell_type": "markdown",
   "id": "bf8be7ea",
   "metadata": {},
   "source": [
    "### Deep Copy of Tianshou Batch"
   ]
  },
  {
   "cell_type": "code",
   "execution_count": 18,
   "id": "91998e6f",
   "metadata": {
    "execution": {
     "iopub.execute_input": "2023-03-06T12:20:52.580434Z",
     "iopub.status.busy": "2023-03-06T12:20:52.580160Z",
     "iopub.status.idle": "2023-03-06T12:20:54.599567Z",
     "shell.execute_reply": "2023-03-06T12:20:54.598612Z"
    }
   },
   "outputs": [
    {
     "name": "stdout",
     "output_type": "stream",
     "text": [
      "249 µs ± 8.28 µs per loop (mean ± std. dev. of 7 runs, 1,000 loops each)\n"
     ]
    }
   ],
   "source": [
    "b3 = Batch(**_TREE_DATA_3)\n",
    "%timeit copy.deepcopy(b3)"
   ]
  },
  {
   "cell_type": "markdown",
   "id": "223162fb",
   "metadata": {},
   "source": [
    "## Stack, Concat and Split Operation"
   ]
  },
  {
   "cell_type": "markdown",
   "id": "85fa4a73",
   "metadata": {},
   "source": [
    "### Performance of TreeValue"
   ]
  },
  {
   "cell_type": "code",
   "execution_count": 19,
   "id": "a0c2b697",
   "metadata": {
    "execution": {
     "iopub.execute_input": "2023-03-06T12:20:54.603259Z",
     "iopub.status.busy": "2023-03-06T12:20:54.602965Z",
     "iopub.status.idle": "2023-03-06T12:20:54.608325Z",
     "shell.execute_reply": "2023-03-06T12:20:54.607496Z"
    }
   },
   "outputs": [],
   "source": [
    "trees = [FastTreeValue(_TREE_DATA_2) for _ in range(8)]"
   ]
  },
  {
   "cell_type": "code",
   "execution_count": 20,
   "id": "017ea5a5",
   "metadata": {
    "execution": {
     "iopub.execute_input": "2023-03-06T12:20:54.611441Z",
     "iopub.status.busy": "2023-03-06T12:20:54.611166Z",
     "iopub.status.idle": "2023-03-06T12:20:54.622610Z",
     "shell.execute_reply": "2023-03-06T12:20:54.621679Z"
    }
   },
   "outputs": [
    {
     "data": {
      "text/plain": [
       "<FastTreeValue 0x7f00062fe730>\n",
       "├── 'a' --> tensor([[[-0.3325, -0.1795,  1.3716],\n",
       "│                    [ 1.8039, -2.3693, -2.4119]],\n",
       "│           \n",
       "│                   [[-0.3325, -0.1795,  1.3716],\n",
       "│                    [ 1.8039, -2.3693, -2.4119]],\n",
       "│           \n",
       "│                   [[-0.3325, -0.1795,  1.3716],\n",
       "│                    [ 1.8039, -2.3693, -2.4119]],\n",
       "│           \n",
       "│                   [[-0.3325, -0.1795,  1.3716],\n",
       "│                    [ 1.8039, -2.3693, -2.4119]],\n",
       "│           \n",
       "│                   [[-0.3325, -0.1795,  1.3716],\n",
       "│                    [ 1.8039, -2.3693, -2.4119]],\n",
       "│           \n",
       "│                   [[-0.3325, -0.1795,  1.3716],\n",
       "│                    [ 1.8039, -2.3693, -2.4119]],\n",
       "│           \n",
       "│                   [[-0.3325, -0.1795,  1.3716],\n",
       "│                    [ 1.8039, -2.3693, -2.4119]],\n",
       "│           \n",
       "│                   [[-0.3325, -0.1795,  1.3716],\n",
       "│                    [ 1.8039, -2.3693, -2.4119]]])\n",
       "└── 'x' --> <FastTreeValue 0x7f00c0148d60>\n",
       "    └── 'c' --> tensor([[[-1.0785, -1.9763, -0.6128, -0.0162],\n",
       "                         [-0.7942, -0.3993,  0.5239, -0.4707],\n",
       "                         [-0.4826, -1.9290,  0.2433, -0.8819]],\n",
       "                \n",
       "                        [[-1.0785, -1.9763, -0.6128, -0.0162],\n",
       "                         [-0.7942, -0.3993,  0.5239, -0.4707],\n",
       "                         [-0.4826, -1.9290,  0.2433, -0.8819]],\n",
       "                \n",
       "                        [[-1.0785, -1.9763, -0.6128, -0.0162],\n",
       "                         [-0.7942, -0.3993,  0.5239, -0.4707],\n",
       "                         [-0.4826, -1.9290,  0.2433, -0.8819]],\n",
       "                \n",
       "                        [[-1.0785, -1.9763, -0.6128, -0.0162],\n",
       "                         [-0.7942, -0.3993,  0.5239, -0.4707],\n",
       "                         [-0.4826, -1.9290,  0.2433, -0.8819]],\n",
       "                \n",
       "                        [[-1.0785, -1.9763, -0.6128, -0.0162],\n",
       "                         [-0.7942, -0.3993,  0.5239, -0.4707],\n",
       "                         [-0.4826, -1.9290,  0.2433, -0.8819]],\n",
       "                \n",
       "                        [[-1.0785, -1.9763, -0.6128, -0.0162],\n",
       "                         [-0.7942, -0.3993,  0.5239, -0.4707],\n",
       "                         [-0.4826, -1.9290,  0.2433, -0.8819]],\n",
       "                \n",
       "                        [[-1.0785, -1.9763, -0.6128, -0.0162],\n",
       "                         [-0.7942, -0.3993,  0.5239, -0.4707],\n",
       "                         [-0.4826, -1.9290,  0.2433, -0.8819]],\n",
       "                \n",
       "                        [[-1.0785, -1.9763, -0.6128, -0.0162],\n",
       "                         [-0.7942, -0.3993,  0.5239, -0.4707],\n",
       "                         [-0.4826, -1.9290,  0.2433, -0.8819]]])"
      ]
     },
     "execution_count": 20,
     "metadata": {},
     "output_type": "execute_result"
    }
   ],
   "source": [
    "t_stack = FastTreeValue.func(subside=True)(torch.stack)\n",
    "\n",
    "t_stack(trees)"
   ]
  },
  {
   "cell_type": "code",
   "execution_count": 21,
   "id": "f8b3f415",
   "metadata": {
    "execution": {
     "iopub.execute_input": "2023-03-06T12:20:54.625744Z",
     "iopub.status.busy": "2023-03-06T12:20:54.625280Z",
     "iopub.status.idle": "2023-03-06T12:20:58.227056Z",
     "shell.execute_reply": "2023-03-06T12:20:58.226108Z"
    }
   },
   "outputs": [
    {
     "name": "stdout",
     "output_type": "stream",
     "text": [
      "44 µs ± 1.11 µs per loop (mean ± std. dev. of 7 runs, 10,000 loops each)\n"
     ]
    }
   ],
   "source": [
    "%timeit t_stack(trees)"
   ]
  },
  {
   "cell_type": "code",
   "execution_count": 22,
   "id": "94b56771",
   "metadata": {
    "execution": {
     "iopub.execute_input": "2023-03-06T12:20:58.231034Z",
     "iopub.status.busy": "2023-03-06T12:20:58.230495Z",
     "iopub.status.idle": "2023-03-06T12:20:58.242548Z",
     "shell.execute_reply": "2023-03-06T12:20:58.241734Z"
    }
   },
   "outputs": [
    {
     "data": {
      "text/plain": [
       "<FastTreeValue 0x7f0017c2ca30>\n",
       "├── 'a' --> tensor([[-0.3325, -0.1795,  1.3716],\n",
       "│                   [ 1.8039, -2.3693, -2.4119],\n",
       "│                   [-0.3325, -0.1795,  1.3716],\n",
       "│                   [ 1.8039, -2.3693, -2.4119],\n",
       "│                   [-0.3325, -0.1795,  1.3716],\n",
       "│                   [ 1.8039, -2.3693, -2.4119],\n",
       "│                   [-0.3325, -0.1795,  1.3716],\n",
       "│                   [ 1.8039, -2.3693, -2.4119],\n",
       "│                   [-0.3325, -0.1795,  1.3716],\n",
       "│                   [ 1.8039, -2.3693, -2.4119],\n",
       "│                   [-0.3325, -0.1795,  1.3716],\n",
       "│                   [ 1.8039, -2.3693, -2.4119],\n",
       "│                   [-0.3325, -0.1795,  1.3716],\n",
       "│                   [ 1.8039, -2.3693, -2.4119],\n",
       "│                   [-0.3325, -0.1795,  1.3716],\n",
       "│                   [ 1.8039, -2.3693, -2.4119]])\n",
       "└── 'x' --> <FastTreeValue 0x7f00062ecfd0>\n",
       "    └── 'c' --> tensor([[-1.0785, -1.9763, -0.6128, -0.0162],\n",
       "                        [-0.7942, -0.3993,  0.5239, -0.4707],\n",
       "                        [-0.4826, -1.9290,  0.2433, -0.8819],\n",
       "                        [-1.0785, -1.9763, -0.6128, -0.0162],\n",
       "                        [-0.7942, -0.3993,  0.5239, -0.4707],\n",
       "                        [-0.4826, -1.9290,  0.2433, -0.8819],\n",
       "                        [-1.0785, -1.9763, -0.6128, -0.0162],\n",
       "                        [-0.7942, -0.3993,  0.5239, -0.4707],\n",
       "                        [-0.4826, -1.9290,  0.2433, -0.8819],\n",
       "                        [-1.0785, -1.9763, -0.6128, -0.0162],\n",
       "                        [-0.7942, -0.3993,  0.5239, -0.4707],\n",
       "                        [-0.4826, -1.9290,  0.2433, -0.8819],\n",
       "                        [-1.0785, -1.9763, -0.6128, -0.0162],\n",
       "                        [-0.7942, -0.3993,  0.5239, -0.4707],\n",
       "                        [-0.4826, -1.9290,  0.2433, -0.8819],\n",
       "                        [-1.0785, -1.9763, -0.6128, -0.0162],\n",
       "                        [-0.7942, -0.3993,  0.5239, -0.4707],\n",
       "                        [-0.4826, -1.9290,  0.2433, -0.8819],\n",
       "                        [-1.0785, -1.9763, -0.6128, -0.0162],\n",
       "                        [-0.7942, -0.3993,  0.5239, -0.4707],\n",
       "                        [-0.4826, -1.9290,  0.2433, -0.8819],\n",
       "                        [-1.0785, -1.9763, -0.6128, -0.0162],\n",
       "                        [-0.7942, -0.3993,  0.5239, -0.4707],\n",
       "                        [-0.4826, -1.9290,  0.2433, -0.8819]])"
      ]
     },
     "execution_count": 22,
     "metadata": {},
     "output_type": "execute_result"
    }
   ],
   "source": [
    "t_cat = FastTreeValue.func(subside=True)(torch.cat)\n",
    "\n",
    "t_cat(trees)"
   ]
  },
  {
   "cell_type": "code",
   "execution_count": 23,
   "id": "5e9c06a6",
   "metadata": {
    "execution": {
     "iopub.execute_input": "2023-03-06T12:20:58.246490Z",
     "iopub.status.busy": "2023-03-06T12:20:58.246000Z",
     "iopub.status.idle": "2023-03-06T12:21:01.600355Z",
     "shell.execute_reply": "2023-03-06T12:21:01.596397Z"
    }
   },
   "outputs": [
    {
     "name": "stdout",
     "output_type": "stream",
     "text": [
      "41.2 µs ± 802 ns per loop (mean ± std. dev. of 7 runs, 10,000 loops each)\n"
     ]
    }
   ],
   "source": [
    "%timeit t_cat(trees)"
   ]
  },
  {
   "cell_type": "code",
   "execution_count": 24,
   "id": "a3ab5c8f",
   "metadata": {
    "execution": {
     "iopub.execute_input": "2023-03-06T12:21:01.606576Z",
     "iopub.status.busy": "2023-03-06T12:21:01.605945Z",
     "iopub.status.idle": "2023-03-06T12:21:09.630531Z",
     "shell.execute_reply": "2023-03-06T12:21:09.629644Z"
    }
   },
   "outputs": [
    {
     "name": "stdout",
     "output_type": "stream",
     "text": [
      "99.1 µs ± 1.61 µs per loop (mean ± std. dev. of 7 runs, 10,000 loops each)\n"
     ]
    }
   ],
   "source": [
    "t_split = FastTreeValue.func(rise=True)(torch.split)\n",
    "tree = FastTreeValue({\n",
    "    'obs': torch.randn(8, 4, 84, 84),\n",
    "    'action': torch.randint(0, 6, size=(8, 1,)),\n",
    "    'reward': torch.rand(8, 1),\n",
    "})\n",
    "\n",
    "%timeit t_split(tree, 1)"
   ]
  },
  {
   "cell_type": "markdown",
   "id": "31c3ec0b",
   "metadata": {},
   "source": [
    "### Performance of Tianshou Batch"
   ]
  },
  {
   "cell_type": "code",
   "execution_count": 25,
   "id": "9ead828a",
   "metadata": {
    "execution": {
     "iopub.execute_input": "2023-03-06T12:21:09.634689Z",
     "iopub.status.busy": "2023-03-06T12:21:09.634055Z",
     "iopub.status.idle": "2023-03-06T12:21:09.645248Z",
     "shell.execute_reply": "2023-03-06T12:21:09.644064Z"
    }
   },
   "outputs": [
    {
     "data": {
      "text/plain": [
       "Batch(\n",
       "    x: Batch(\n",
       "           c: tensor([[[-1.0785, -1.9763, -0.6128, -0.0162],\n",
       "                       [-0.7942, -0.3993,  0.5239, -0.4707],\n",
       "                       [-0.4826, -1.9290,  0.2433, -0.8819]],\n",
       "              \n",
       "                      [[-1.0785, -1.9763, -0.6128, -0.0162],\n",
       "                       [-0.7942, -0.3993,  0.5239, -0.4707],\n",
       "                       [-0.4826, -1.9290,  0.2433, -0.8819]],\n",
       "              \n",
       "                      [[-1.0785, -1.9763, -0.6128, -0.0162],\n",
       "                       [-0.7942, -0.3993,  0.5239, -0.4707],\n",
       "                       [-0.4826, -1.9290,  0.2433, -0.8819]],\n",
       "              \n",
       "                      [[-1.0785, -1.9763, -0.6128, -0.0162],\n",
       "                       [-0.7942, -0.3993,  0.5239, -0.4707],\n",
       "                       [-0.4826, -1.9290,  0.2433, -0.8819]],\n",
       "              \n",
       "                      [[-1.0785, -1.9763, -0.6128, -0.0162],\n",
       "                       [-0.7942, -0.3993,  0.5239, -0.4707],\n",
       "                       [-0.4826, -1.9290,  0.2433, -0.8819]],\n",
       "              \n",
       "                      [[-1.0785, -1.9763, -0.6128, -0.0162],\n",
       "                       [-0.7942, -0.3993,  0.5239, -0.4707],\n",
       "                       [-0.4826, -1.9290,  0.2433, -0.8819]],\n",
       "              \n",
       "                      [[-1.0785, -1.9763, -0.6128, -0.0162],\n",
       "                       [-0.7942, -0.3993,  0.5239, -0.4707],\n",
       "                       [-0.4826, -1.9290,  0.2433, -0.8819]],\n",
       "              \n",
       "                      [[-1.0785, -1.9763, -0.6128, -0.0162],\n",
       "                       [-0.7942, -0.3993,  0.5239, -0.4707],\n",
       "                       [-0.4826, -1.9290,  0.2433, -0.8819]]]),\n",
       "       ),\n",
       "    a: tensor([[[-0.3325, -0.1795,  1.3716],\n",
       "                [ 1.8039, -2.3693, -2.4119]],\n",
       "       \n",
       "               [[-0.3325, -0.1795,  1.3716],\n",
       "                [ 1.8039, -2.3693, -2.4119]],\n",
       "       \n",
       "               [[-0.3325, -0.1795,  1.3716],\n",
       "                [ 1.8039, -2.3693, -2.4119]],\n",
       "       \n",
       "               [[-0.3325, -0.1795,  1.3716],\n",
       "                [ 1.8039, -2.3693, -2.4119]],\n",
       "       \n",
       "               [[-0.3325, -0.1795,  1.3716],\n",
       "                [ 1.8039, -2.3693, -2.4119]],\n",
       "       \n",
       "               [[-0.3325, -0.1795,  1.3716],\n",
       "                [ 1.8039, -2.3693, -2.4119]],\n",
       "       \n",
       "               [[-0.3325, -0.1795,  1.3716],\n",
       "                [ 1.8039, -2.3693, -2.4119]],\n",
       "       \n",
       "               [[-0.3325, -0.1795,  1.3716],\n",
       "                [ 1.8039, -2.3693, -2.4119]]]),\n",
       ")"
      ]
     },
     "execution_count": 25,
     "metadata": {},
     "output_type": "execute_result"
    }
   ],
   "source": [
    "batches = [Batch(**_TREE_DATA_2) for _ in range(8)]\n",
    "\n",
    "Batch.stack(batches)"
   ]
  },
  {
   "cell_type": "code",
   "execution_count": 26,
   "id": "ec9037a3",
   "metadata": {
    "execution": {
     "iopub.execute_input": "2023-03-06T12:21:09.648800Z",
     "iopub.status.busy": "2023-03-06T12:21:09.647911Z",
     "iopub.status.idle": "2023-03-06T12:21:17.495619Z",
     "shell.execute_reply": "2023-03-06T12:21:17.494646Z"
    }
   },
   "outputs": [
    {
     "name": "stdout",
     "output_type": "stream",
     "text": [
      "96.4 µs ± 1.05 µs per loop (mean ± std. dev. of 7 runs, 10,000 loops each)\n"
     ]
    }
   ],
   "source": [
    "%timeit Batch.stack(batches)"
   ]
  },
  {
   "cell_type": "code",
   "execution_count": 27,
   "id": "cb8ab77e",
   "metadata": {
    "execution": {
     "iopub.execute_input": "2023-03-06T12:21:17.499922Z",
     "iopub.status.busy": "2023-03-06T12:21:17.499530Z",
     "iopub.status.idle": "2023-03-06T12:21:17.509908Z",
     "shell.execute_reply": "2023-03-06T12:21:17.509071Z"
    }
   },
   "outputs": [
    {
     "data": {
      "text/plain": [
       "Batch(\n",
       "    x: Batch(\n",
       "           c: tensor([[-1.0785, -1.9763, -0.6128, -0.0162],\n",
       "                      [-0.7942, -0.3993,  0.5239, -0.4707],\n",
       "                      [-0.4826, -1.9290,  0.2433, -0.8819],\n",
       "                      [-1.0785, -1.9763, -0.6128, -0.0162],\n",
       "                      [-0.7942, -0.3993,  0.5239, -0.4707],\n",
       "                      [-0.4826, -1.9290,  0.2433, -0.8819],\n",
       "                      [-1.0785, -1.9763, -0.6128, -0.0162],\n",
       "                      [-0.7942, -0.3993,  0.5239, -0.4707],\n",
       "                      [-0.4826, -1.9290,  0.2433, -0.8819],\n",
       "                      [-1.0785, -1.9763, -0.6128, -0.0162],\n",
       "                      [-0.7942, -0.3993,  0.5239, -0.4707],\n",
       "                      [-0.4826, -1.9290,  0.2433, -0.8819],\n",
       "                      [-1.0785, -1.9763, -0.6128, -0.0162],\n",
       "                      [-0.7942, -0.3993,  0.5239, -0.4707],\n",
       "                      [-0.4826, -1.9290,  0.2433, -0.8819],\n",
       "                      [-1.0785, -1.9763, -0.6128, -0.0162],\n",
       "                      [-0.7942, -0.3993,  0.5239, -0.4707],\n",
       "                      [-0.4826, -1.9290,  0.2433, -0.8819],\n",
       "                      [-1.0785, -1.9763, -0.6128, -0.0162],\n",
       "                      [-0.7942, -0.3993,  0.5239, -0.4707],\n",
       "                      [-0.4826, -1.9290,  0.2433, -0.8819],\n",
       "                      [-1.0785, -1.9763, -0.6128, -0.0162],\n",
       "                      [-0.7942, -0.3993,  0.5239, -0.4707],\n",
       "                      [-0.4826, -1.9290,  0.2433, -0.8819]]),\n",
       "       ),\n",
       "    a: tensor([[-0.3325, -0.1795,  1.3716],\n",
       "               [ 1.8039, -2.3693, -2.4119],\n",
       "               [-0.3325, -0.1795,  1.3716],\n",
       "               [ 1.8039, -2.3693, -2.4119],\n",
       "               [-0.3325, -0.1795,  1.3716],\n",
       "               [ 1.8039, -2.3693, -2.4119],\n",
       "               [-0.3325, -0.1795,  1.3716],\n",
       "               [ 1.8039, -2.3693, -2.4119],\n",
       "               [-0.3325, -0.1795,  1.3716],\n",
       "               [ 1.8039, -2.3693, -2.4119],\n",
       "               [-0.3325, -0.1795,  1.3716],\n",
       "               [ 1.8039, -2.3693, -2.4119],\n",
       "               [-0.3325, -0.1795,  1.3716],\n",
       "               [ 1.8039, -2.3693, -2.4119],\n",
       "               [-0.3325, -0.1795,  1.3716],\n",
       "               [ 1.8039, -2.3693, -2.4119]]),\n",
       ")"
      ]
     },
     "execution_count": 27,
     "metadata": {},
     "output_type": "execute_result"
    }
   ],
   "source": [
    "Batch.cat(batches)"
   ]
  },
  {
   "cell_type": "code",
   "execution_count": 28,
   "id": "18dfb045",
   "metadata": {
    "execution": {
     "iopub.execute_input": "2023-03-06T12:21:17.514175Z",
     "iopub.status.busy": "2023-03-06T12:21:17.513572Z",
     "iopub.status.idle": "2023-03-06T12:21:31.527946Z",
     "shell.execute_reply": "2023-03-06T12:21:31.527000Z"
    }
   },
   "outputs": [
    {
     "name": "stdout",
     "output_type": "stream",
     "text": [
      "173 µs ± 3.84 µs per loop (mean ± std. dev. of 7 runs, 10,000 loops each)\n"
     ]
    }
   ],
   "source": [
    "%timeit Batch.cat(batches)"
   ]
  },
  {
   "cell_type": "code",
   "execution_count": 29,
   "id": "c6688e51",
   "metadata": {
    "execution": {
     "iopub.execute_input": "2023-03-06T12:21:31.531837Z",
     "iopub.status.busy": "2023-03-06T12:21:31.531388Z",
     "iopub.status.idle": "2023-03-06T12:21:35.889477Z",
     "shell.execute_reply": "2023-03-06T12:21:35.888646Z"
    }
   },
   "outputs": [
    {
     "name": "stdout",
     "output_type": "stream",
     "text": [
      "536 µs ± 10.1 µs per loop (mean ± std. dev. of 7 runs, 1,000 loops each)\n"
     ]
    }
   ],
   "source": [
    "batch = Batch({\n",
    "    'obs': torch.randn(8, 4, 84, 84),\n",
    "    'action': torch.randint(0, 6, size=(8, 1,)),\n",
    "    'reward': torch.rand(8, 1)}\n",
    ")\n",
    "\n",
    "%timeit list(Batch.split(batch, 1, shuffle=False, merge_last=True))"
   ]
  },
  {
   "cell_type": "code",
   "execution_count": null,
   "id": "2539fbd9",
   "metadata": {},
   "outputs": [],
   "source": []
  }
 ],
 "metadata": {
  "kernelspec": {
   "display_name": "Python 3 (ipykernel)",
   "language": "python",
   "name": "python3"
  },
  "language_info": {
   "codemirror_mode": {
    "name": "ipython",
    "version": 3
   },
   "file_extension": ".py",
   "mimetype": "text/x-python",
   "name": "python",
   "nbconvert_exporter": "python",
   "pygments_lexer": "ipython3",
   "version": "3.8.16"
  }
 },
 "nbformat": 4,
 "nbformat_minor": 5
}
