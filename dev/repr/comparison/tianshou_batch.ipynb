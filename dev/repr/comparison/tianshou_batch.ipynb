{
 "cells": [
  {
   "cell_type": "markdown",
   "id": "9d39d946",
   "metadata": {},
   "source": [
    "# Comparison Between TreeValue and Tianshou Batch"
   ]
  },
  {
   "cell_type": "markdown",
   "id": "3c6db2d4",
   "metadata": {},
   "source": [
    "In this section, we will take a look at the feature and performance of the [Tianshou Batch](https://github.com/thu-ml/tianshou) library, which is developed by Tsinghua Machine Learning Group."
   ]
  },
  {
   "cell_type": "markdown",
   "id": "069361b0",
   "metadata": {},
   "source": [
    "Before starting the comparison, let us define some thing."
   ]
  },
  {
   "cell_type": "code",
   "execution_count": 1,
   "id": "06fc8d26",
   "metadata": {
    "execution": {
     "iopub.execute_input": "2023-02-25T19:18:27.775743Z",
     "iopub.status.busy": "2023-02-25T19:18:27.775502Z",
     "iopub.status.idle": "2023-02-25T19:18:28.690806Z",
     "shell.execute_reply": "2023-02-25T19:18:28.690143Z"
    }
   },
   "outputs": [
    {
     "name": "stderr",
     "output_type": "stream",
     "text": [
      "/opt/hostedtoolcache/Python/3.8.16/x64/lib/python3.8/site-packages/tqdm/auto.py:22: TqdmWarning: IProgress not found. Please update jupyter and ipywidgets. See https://ipywidgets.readthedocs.io/en/stable/user_install.html\n",
      "  from .autonotebook import tqdm as notebook_tqdm\n"
     ]
    }
   ],
   "source": [
    "import torch \n",
    "\n",
    "_TREE_DATA_1 = {'a': 1, 'b': 2, 'x': {'c': 3, 'd': 4}}\n",
    "_TREE_DATA_2 = {\n",
    "    'a': torch.randn(2, 3), \n",
    "    'x': {\n",
    "        'c': torch.randn(3, 4)\n",
    "    },\n",
    "}\n",
    "_TREE_DATA_3 = {\n",
    "    'obs': torch.randn(4, 84, 84),\n",
    "    'action': torch.randint(0, 6, size=(1,)),\n",
    "    'reward': torch.rand(1),\n",
    "}"
   ]
  },
  {
   "cell_type": "markdown",
   "id": "83461b25",
   "metadata": {},
   "source": [
    "## Read and Write Operation"
   ]
  },
  {
   "cell_type": "markdown",
   "id": "067b3f73",
   "metadata": {},
   "source": [
    "Reading and writing are the two most common operations in the tree data structure based on the data model (TreeValue and Tianshou Batch both belong to this type), so this section will compare the reading and writing performance of these two libraries."
   ]
  },
  {
   "cell_type": "markdown",
   "id": "5d09a5b7",
   "metadata": {},
   "source": [
    "### TreeValue's Get and Set"
   ]
  },
  {
   "cell_type": "code",
   "execution_count": 2,
   "id": "9519c4bb",
   "metadata": {
    "execution": {
     "iopub.execute_input": "2023-02-25T19:18:28.694361Z",
     "iopub.status.busy": "2023-02-25T19:18:28.693771Z",
     "iopub.status.idle": "2023-02-25T19:18:28.726799Z",
     "shell.execute_reply": "2023-02-25T19:18:28.726202Z"
    }
   },
   "outputs": [],
   "source": [
    "from treevalue import FastTreeValue\n",
    "\n",
    "t = FastTreeValue(_TREE_DATA_2)"
   ]
  },
  {
   "cell_type": "code",
   "execution_count": 3,
   "id": "11c37677",
   "metadata": {
    "execution": {
     "iopub.execute_input": "2023-02-25T19:18:28.729426Z",
     "iopub.status.busy": "2023-02-25T19:18:28.729083Z",
     "iopub.status.idle": "2023-02-25T19:18:28.738076Z",
     "shell.execute_reply": "2023-02-25T19:18:28.737491Z"
    }
   },
   "outputs": [
    {
     "data": {
      "text/plain": [
       "<FastTreeValue 0x7f2028ca1d00>\n",
       "├── 'a' --> tensor([[-0.4181,  1.0037, -0.7925],\n",
       "│                   [-0.4357, -1.8849,  0.2679]])\n",
       "└── 'x' --> <FastTreeValue 0x7f2028ca1cd0>\n",
       "    └── 'c' --> tensor([[ 1.3293,  0.7397,  1.7050, -1.4298],\n",
       "                        [-0.0943, -1.8800,  0.1354,  1.2302],\n",
       "                        [-0.1594, -0.8348,  1.9182,  0.1561]])"
      ]
     },
     "execution_count": 3,
     "metadata": {},
     "output_type": "execute_result"
    }
   ],
   "source": [
    "t"
   ]
  },
  {
   "cell_type": "code",
   "execution_count": 4,
   "id": "fd70b0b9",
   "metadata": {
    "execution": {
     "iopub.execute_input": "2023-02-25T19:18:28.740755Z",
     "iopub.status.busy": "2023-02-25T19:18:28.740432Z",
     "iopub.status.idle": "2023-02-25T19:18:28.745368Z",
     "shell.execute_reply": "2023-02-25T19:18:28.744725Z"
    }
   },
   "outputs": [
    {
     "data": {
      "text/plain": [
       "tensor([[-0.4181,  1.0037, -0.7925],\n",
       "        [-0.4357, -1.8849,  0.2679]])"
      ]
     },
     "execution_count": 4,
     "metadata": {},
     "output_type": "execute_result"
    }
   ],
   "source": [
    "t.a"
   ]
  },
  {
   "cell_type": "code",
   "execution_count": 5,
   "id": "c18197bd",
   "metadata": {
    "execution": {
     "iopub.execute_input": "2023-02-25T19:18:28.748133Z",
     "iopub.status.busy": "2023-02-25T19:18:28.747665Z",
     "iopub.status.idle": "2023-02-25T19:18:33.643555Z",
     "shell.execute_reply": "2023-02-25T19:18:33.642826Z"
    }
   },
   "outputs": [
    {
     "name": "stdout",
     "output_type": "stream",
     "text": [
      "60.6 ns ± 0.0916 ns per loop (mean ± std. dev. of 7 runs, 10,000,000 loops each)\n"
     ]
    }
   ],
   "source": [
    "%timeit t.a"
   ]
  },
  {
   "cell_type": "code",
   "execution_count": 6,
   "id": "bd52f867",
   "metadata": {
    "execution": {
     "iopub.execute_input": "2023-02-25T19:18:33.646751Z",
     "iopub.status.busy": "2023-02-25T19:18:33.646178Z",
     "iopub.status.idle": "2023-02-25T19:18:33.653848Z",
     "shell.execute_reply": "2023-02-25T19:18:33.653258Z"
    }
   },
   "outputs": [
    {
     "data": {
      "text/plain": [
       "<FastTreeValue 0x7f2028ca1d00>\n",
       "├── 'a' --> tensor([[ 0.8995, -1.4882,  1.9752],\n",
       "│                   [-2.8196, -0.5224,  0.0594]])\n",
       "└── 'x' --> <FastTreeValue 0x7f2028ca1cd0>\n",
       "    └── 'c' --> tensor([[ 1.3293,  0.7397,  1.7050, -1.4298],\n",
       "                        [-0.0943, -1.8800,  0.1354,  1.2302],\n",
       "                        [-0.1594, -0.8348,  1.9182,  0.1561]])"
      ]
     },
     "execution_count": 6,
     "metadata": {},
     "output_type": "execute_result"
    }
   ],
   "source": [
    "new_value = torch.randn(2, 3)\n",
    "t.a = new_value\n",
    "\n",
    "t"
   ]
  },
  {
   "cell_type": "code",
   "execution_count": 7,
   "id": "bbe04d1c",
   "metadata": {
    "execution": {
     "iopub.execute_input": "2023-02-25T19:18:33.656724Z",
     "iopub.status.busy": "2023-02-25T19:18:33.656158Z",
     "iopub.status.idle": "2023-02-25T19:18:38.842271Z",
     "shell.execute_reply": "2023-02-25T19:18:38.841536Z"
    }
   },
   "outputs": [
    {
     "name": "stdout",
     "output_type": "stream",
     "text": [
      "64 ns ± 0.0471 ns per loop (mean ± std. dev. of 7 runs, 10,000,000 loops each)\n"
     ]
    }
   ],
   "source": [
    "%timeit t.a = new_value"
   ]
  },
  {
   "cell_type": "markdown",
   "id": "48c49731",
   "metadata": {},
   "source": [
    "### Tianshou Batch's Get and Set"
   ]
  },
  {
   "cell_type": "code",
   "execution_count": 8,
   "id": "f1bb14c1",
   "metadata": {
    "execution": {
     "iopub.execute_input": "2023-02-25T19:18:38.845423Z",
     "iopub.status.busy": "2023-02-25T19:18:38.844794Z",
     "iopub.status.idle": "2023-02-25T19:18:39.175559Z",
     "shell.execute_reply": "2023-02-25T19:18:39.174856Z"
    }
   },
   "outputs": [],
   "source": [
    "from tianshou.data import Batch\n",
    "\n",
    "b = Batch(**_TREE_DATA_2)"
   ]
  },
  {
   "cell_type": "code",
   "execution_count": 9,
   "id": "cb0777c3",
   "metadata": {
    "execution": {
     "iopub.execute_input": "2023-02-25T19:18:39.178554Z",
     "iopub.status.busy": "2023-02-25T19:18:39.178033Z",
     "iopub.status.idle": "2023-02-25T19:18:39.183996Z",
     "shell.execute_reply": "2023-02-25T19:18:39.183434Z"
    }
   },
   "outputs": [
    {
     "data": {
      "text/plain": [
       "Batch(\n",
       "    a: tensor([[-0.4181,  1.0037, -0.7925],\n",
       "               [-0.4357, -1.8849,  0.2679]]),\n",
       "    x: Batch(\n",
       "           c: tensor([[ 1.3293,  0.7397,  1.7050, -1.4298],\n",
       "                      [-0.0943, -1.8800,  0.1354,  1.2302],\n",
       "                      [-0.1594, -0.8348,  1.9182,  0.1561]]),\n",
       "       ),\n",
       ")"
      ]
     },
     "execution_count": 9,
     "metadata": {},
     "output_type": "execute_result"
    }
   ],
   "source": [
    "b"
   ]
  },
  {
   "cell_type": "code",
   "execution_count": 10,
   "id": "43ef8ea3",
   "metadata": {
    "execution": {
     "iopub.execute_input": "2023-02-25T19:18:39.186599Z",
     "iopub.status.busy": "2023-02-25T19:18:39.185992Z",
     "iopub.status.idle": "2023-02-25T19:18:39.191254Z",
     "shell.execute_reply": "2023-02-25T19:18:39.190689Z"
    }
   },
   "outputs": [
    {
     "data": {
      "text/plain": [
       "tensor([[-0.4181,  1.0037, -0.7925],\n",
       "        [-0.4357, -1.8849,  0.2679]])"
      ]
     },
     "execution_count": 10,
     "metadata": {},
     "output_type": "execute_result"
    }
   ],
   "source": [
    "b.a"
   ]
  },
  {
   "cell_type": "code",
   "execution_count": 11,
   "id": "b785ab72",
   "metadata": {
    "execution": {
     "iopub.execute_input": "2023-02-25T19:18:39.193939Z",
     "iopub.status.busy": "2023-02-25T19:18:39.193471Z",
     "iopub.status.idle": "2023-02-25T19:18:43.808293Z",
     "shell.execute_reply": "2023-02-25T19:18:43.807581Z"
    }
   },
   "outputs": [
    {
     "name": "stdout",
     "output_type": "stream",
     "text": [
      "57 ns ± 0.0192 ns per loop (mean ± std. dev. of 7 runs, 10,000,000 loops each)\n"
     ]
    }
   ],
   "source": [
    "%timeit b.a"
   ]
  },
  {
   "cell_type": "code",
   "execution_count": 12,
   "id": "ad54dc69",
   "metadata": {
    "execution": {
     "iopub.execute_input": "2023-02-25T19:18:43.811529Z",
     "iopub.status.busy": "2023-02-25T19:18:43.810946Z",
     "iopub.status.idle": "2023-02-25T19:18:43.817426Z",
     "shell.execute_reply": "2023-02-25T19:18:43.816812Z"
    }
   },
   "outputs": [
    {
     "data": {
      "text/plain": [
       "Batch(\n",
       "    a: tensor([[-1.1295, -0.1932,  0.5391],\n",
       "               [ 0.5156, -0.5164, -0.1044]]),\n",
       "    x: Batch(\n",
       "           c: tensor([[ 1.3293,  0.7397,  1.7050, -1.4298],\n",
       "                      [-0.0943, -1.8800,  0.1354,  1.2302],\n",
       "                      [-0.1594, -0.8348,  1.9182,  0.1561]]),\n",
       "       ),\n",
       ")"
      ]
     },
     "execution_count": 12,
     "metadata": {},
     "output_type": "execute_result"
    }
   ],
   "source": [
    "new_value = torch.randn(2, 3)\n",
    "b.a = new_value\n",
    "\n",
    "b"
   ]
  },
  {
   "cell_type": "code",
   "execution_count": 13,
   "id": "29b1d0bf",
   "metadata": {
    "execution": {
     "iopub.execute_input": "2023-02-25T19:18:43.819843Z",
     "iopub.status.busy": "2023-02-25T19:18:43.819499Z",
     "iopub.status.idle": "2023-02-25T19:18:47.767138Z",
     "shell.execute_reply": "2023-02-25T19:18:47.766350Z"
    }
   },
   "outputs": [
    {
     "name": "stdout",
     "output_type": "stream",
     "text": [
      "486 ns ± 0.504 ns per loop (mean ± std. dev. of 7 runs, 1,000,000 loops each)\n"
     ]
    }
   ],
   "source": [
    "%timeit b.a = new_value"
   ]
  },
  {
   "cell_type": "markdown",
   "id": "b61ad1d0",
   "metadata": {},
   "source": [
    "## Initialization"
   ]
  },
  {
   "cell_type": "markdown",
   "id": "d70f0d54",
   "metadata": {},
   "source": [
    "### TreeValue's Initialization"
   ]
  },
  {
   "cell_type": "code",
   "execution_count": 14,
   "id": "d32a679b",
   "metadata": {
    "execution": {
     "iopub.execute_input": "2023-02-25T19:18:47.769951Z",
     "iopub.status.busy": "2023-02-25T19:18:47.769588Z",
     "iopub.status.idle": "2023-02-25T19:18:54.968211Z",
     "shell.execute_reply": "2023-02-25T19:18:54.967480Z"
    }
   },
   "outputs": [
    {
     "name": "stdout",
     "output_type": "stream",
     "text": [
      "887 ns ± 1.57 ns per loop (mean ± std. dev. of 7 runs, 1,000,000 loops each)\n"
     ]
    }
   ],
   "source": [
    "%timeit FastTreeValue(_TREE_DATA_1)"
   ]
  },
  {
   "cell_type": "markdown",
   "id": "24f3707b",
   "metadata": {},
   "source": [
    "### Tianshou Batch's Initialization"
   ]
  },
  {
   "cell_type": "code",
   "execution_count": 15,
   "id": "ac3958df",
   "metadata": {
    "execution": {
     "iopub.execute_input": "2023-02-25T19:18:54.971251Z",
     "iopub.status.busy": "2023-02-25T19:18:54.970666Z",
     "iopub.status.idle": "2023-02-25T19:19:04.111032Z",
     "shell.execute_reply": "2023-02-25T19:19:04.110222Z"
    }
   },
   "outputs": [
    {
     "name": "stdout",
     "output_type": "stream",
     "text": [
      "11.3 µs ± 36.4 ns per loop (mean ± std. dev. of 7 runs, 100,000 loops each)\n"
     ]
    }
   ],
   "source": [
    "%timeit Batch(**_TREE_DATA_1)"
   ]
  },
  {
   "cell_type": "markdown",
   "id": "1ab82e2d",
   "metadata": {},
   "source": [
    "## Deep Copy Operation"
   ]
  },
  {
   "cell_type": "code",
   "execution_count": 16,
   "id": "210a9442",
   "metadata": {
    "execution": {
     "iopub.execute_input": "2023-02-25T19:19:04.114095Z",
     "iopub.status.busy": "2023-02-25T19:19:04.113731Z",
     "iopub.status.idle": "2023-02-25T19:19:04.117626Z",
     "shell.execute_reply": "2023-02-25T19:19:04.117032Z"
    }
   },
   "outputs": [],
   "source": [
    "import copy"
   ]
  },
  {
   "cell_type": "markdown",
   "id": "5a736274",
   "metadata": {},
   "source": [
    "### Deep Copy of TreeValue"
   ]
  },
  {
   "cell_type": "code",
   "execution_count": 17,
   "id": "f9bcadd6",
   "metadata": {
    "execution": {
     "iopub.execute_input": "2023-02-25T19:19:04.120326Z",
     "iopub.status.busy": "2023-02-25T19:19:04.119982Z",
     "iopub.status.idle": "2023-02-25T19:19:15.642136Z",
     "shell.execute_reply": "2023-02-25T19:19:15.641562Z"
    }
   },
   "outputs": [
    {
     "name": "stdout",
     "output_type": "stream",
     "text": [
      "142 µs ± 830 ns per loop (mean ± std. dev. of 7 runs, 10,000 loops each)\n"
     ]
    }
   ],
   "source": [
    "t3 = FastTreeValue(_TREE_DATA_3)\n",
    "%timeit copy.deepcopy(t3)"
   ]
  },
  {
   "cell_type": "markdown",
   "id": "bf8be7ea",
   "metadata": {},
   "source": [
    "### Deep Copy of Tianshou Batch"
   ]
  },
  {
   "cell_type": "code",
   "execution_count": 18,
   "id": "91998e6f",
   "metadata": {
    "execution": {
     "iopub.execute_input": "2023-02-25T19:19:15.644972Z",
     "iopub.status.busy": "2023-02-25T19:19:15.644596Z",
     "iopub.status.idle": "2023-02-25T19:19:27.308188Z",
     "shell.execute_reply": "2023-02-25T19:19:27.307639Z"
    }
   },
   "outputs": [
    {
     "name": "stdout",
     "output_type": "stream",
     "text": [
      "144 µs ± 611 ns per loop (mean ± std. dev. of 7 runs, 10,000 loops each)\n"
     ]
    }
   ],
   "source": [
    "b3 = Batch(**_TREE_DATA_3)\n",
    "%timeit copy.deepcopy(b3)"
   ]
  },
  {
   "cell_type": "markdown",
   "id": "223162fb",
   "metadata": {},
   "source": [
    "## Stack, Concat and Split Operation"
   ]
  },
  {
   "cell_type": "markdown",
   "id": "85fa4a73",
   "metadata": {},
   "source": [
    "### Performance of TreeValue"
   ]
  },
  {
   "cell_type": "code",
   "execution_count": 19,
   "id": "a0c2b697",
   "metadata": {
    "execution": {
     "iopub.execute_input": "2023-02-25T19:19:27.314121Z",
     "iopub.status.busy": "2023-02-25T19:19:27.313775Z",
     "iopub.status.idle": "2023-02-25T19:19:27.316805Z",
     "shell.execute_reply": "2023-02-25T19:19:27.316276Z"
    }
   },
   "outputs": [],
   "source": [
    "trees = [FastTreeValue(_TREE_DATA_2) for _ in range(8)]"
   ]
  },
  {
   "cell_type": "code",
   "execution_count": 20,
   "id": "017ea5a5",
   "metadata": {
    "execution": {
     "iopub.execute_input": "2023-02-25T19:19:27.319162Z",
     "iopub.status.busy": "2023-02-25T19:19:27.318813Z",
     "iopub.status.idle": "2023-02-25T19:19:27.325416Z",
     "shell.execute_reply": "2023-02-25T19:19:27.324914Z"
    }
   },
   "outputs": [
    {
     "data": {
      "text/plain": [
       "<FastTreeValue 0x7f1f7c9b8820>\n",
       "├── 'a' --> tensor([[[-0.4181,  1.0037, -0.7925],\n",
       "│                    [-0.4357, -1.8849,  0.2679]],\n",
       "│           \n",
       "│                   [[-0.4181,  1.0037, -0.7925],\n",
       "│                    [-0.4357, -1.8849,  0.2679]],\n",
       "│           \n",
       "│                   [[-0.4181,  1.0037, -0.7925],\n",
       "│                    [-0.4357, -1.8849,  0.2679]],\n",
       "│           \n",
       "│                   [[-0.4181,  1.0037, -0.7925],\n",
       "│                    [-0.4357, -1.8849,  0.2679]],\n",
       "│           \n",
       "│                   [[-0.4181,  1.0037, -0.7925],\n",
       "│                    [-0.4357, -1.8849,  0.2679]],\n",
       "│           \n",
       "│                   [[-0.4181,  1.0037, -0.7925],\n",
       "│                    [-0.4357, -1.8849,  0.2679]],\n",
       "│           \n",
       "│                   [[-0.4181,  1.0037, -0.7925],\n",
       "│                    [-0.4357, -1.8849,  0.2679]],\n",
       "│           \n",
       "│                   [[-0.4181,  1.0037, -0.7925],\n",
       "│                    [-0.4357, -1.8849,  0.2679]]])\n",
       "└── 'x' --> <FastTreeValue 0x7f1f7c9b86d0>\n",
       "    └── 'c' --> tensor([[[ 1.3293,  0.7397,  1.7050, -1.4298],\n",
       "                         [-0.0943, -1.8800,  0.1354,  1.2302],\n",
       "                         [-0.1594, -0.8348,  1.9182,  0.1561]],\n",
       "                \n",
       "                        [[ 1.3293,  0.7397,  1.7050, -1.4298],\n",
       "                         [-0.0943, -1.8800,  0.1354,  1.2302],\n",
       "                         [-0.1594, -0.8348,  1.9182,  0.1561]],\n",
       "                \n",
       "                        [[ 1.3293,  0.7397,  1.7050, -1.4298],\n",
       "                         [-0.0943, -1.8800,  0.1354,  1.2302],\n",
       "                         [-0.1594, -0.8348,  1.9182,  0.1561]],\n",
       "                \n",
       "                        [[ 1.3293,  0.7397,  1.7050, -1.4298],\n",
       "                         [-0.0943, -1.8800,  0.1354,  1.2302],\n",
       "                         [-0.1594, -0.8348,  1.9182,  0.1561]],\n",
       "                \n",
       "                        [[ 1.3293,  0.7397,  1.7050, -1.4298],\n",
       "                         [-0.0943, -1.8800,  0.1354,  1.2302],\n",
       "                         [-0.1594, -0.8348,  1.9182,  0.1561]],\n",
       "                \n",
       "                        [[ 1.3293,  0.7397,  1.7050, -1.4298],\n",
       "                         [-0.0943, -1.8800,  0.1354,  1.2302],\n",
       "                         [-0.1594, -0.8348,  1.9182,  0.1561]],\n",
       "                \n",
       "                        [[ 1.3293,  0.7397,  1.7050, -1.4298],\n",
       "                         [-0.0943, -1.8800,  0.1354,  1.2302],\n",
       "                         [-0.1594, -0.8348,  1.9182,  0.1561]],\n",
       "                \n",
       "                        [[ 1.3293,  0.7397,  1.7050, -1.4298],\n",
       "                         [-0.0943, -1.8800,  0.1354,  1.2302],\n",
       "                         [-0.1594, -0.8348,  1.9182,  0.1561]]])"
      ]
     },
     "execution_count": 20,
     "metadata": {},
     "output_type": "execute_result"
    }
   ],
   "source": [
    "t_stack = FastTreeValue.func(subside=True)(torch.stack)\n",
    "\n",
    "t_stack(trees)"
   ]
  },
  {
   "cell_type": "code",
   "execution_count": 21,
   "id": "f8b3f415",
   "metadata": {
    "execution": {
     "iopub.execute_input": "2023-02-25T19:19:27.327698Z",
     "iopub.status.busy": "2023-02-25T19:19:27.327369Z",
     "iopub.status.idle": "2023-02-25T19:19:29.876562Z",
     "shell.execute_reply": "2023-02-25T19:19:29.875854Z"
    }
   },
   "outputs": [
    {
     "name": "stdout",
     "output_type": "stream",
     "text": [
      "31.3 µs ± 49.7 ns per loop (mean ± std. dev. of 7 runs, 10,000 loops each)\n"
     ]
    }
   ],
   "source": [
    "%timeit t_stack(trees)"
   ]
  },
  {
   "cell_type": "code",
   "execution_count": 22,
   "id": "94b56771",
   "metadata": {
    "execution": {
     "iopub.execute_input": "2023-02-25T19:19:29.879561Z",
     "iopub.status.busy": "2023-02-25T19:19:29.879195Z",
     "iopub.status.idle": "2023-02-25T19:19:29.887165Z",
     "shell.execute_reply": "2023-02-25T19:19:29.886562Z"
    }
   },
   "outputs": [
    {
     "data": {
      "text/plain": [
       "<FastTreeValue 0x7f200043a310>\n",
       "├── 'a' --> tensor([[-0.4181,  1.0037, -0.7925],\n",
       "│                   [-0.4357, -1.8849,  0.2679],\n",
       "│                   [-0.4181,  1.0037, -0.7925],\n",
       "│                   [-0.4357, -1.8849,  0.2679],\n",
       "│                   [-0.4181,  1.0037, -0.7925],\n",
       "│                   [-0.4357, -1.8849,  0.2679],\n",
       "│                   [-0.4181,  1.0037, -0.7925],\n",
       "│                   [-0.4357, -1.8849,  0.2679],\n",
       "│                   [-0.4181,  1.0037, -0.7925],\n",
       "│                   [-0.4357, -1.8849,  0.2679],\n",
       "│                   [-0.4181,  1.0037, -0.7925],\n",
       "│                   [-0.4357, -1.8849,  0.2679],\n",
       "│                   [-0.4181,  1.0037, -0.7925],\n",
       "│                   [-0.4357, -1.8849,  0.2679],\n",
       "│                   [-0.4181,  1.0037, -0.7925],\n",
       "│                   [-0.4357, -1.8849,  0.2679]])\n",
       "└── 'x' --> <FastTreeValue 0x7f2028d0ee20>\n",
       "    └── 'c' --> tensor([[ 1.3293,  0.7397,  1.7050, -1.4298],\n",
       "                        [-0.0943, -1.8800,  0.1354,  1.2302],\n",
       "                        [-0.1594, -0.8348,  1.9182,  0.1561],\n",
       "                        [ 1.3293,  0.7397,  1.7050, -1.4298],\n",
       "                        [-0.0943, -1.8800,  0.1354,  1.2302],\n",
       "                        [-0.1594, -0.8348,  1.9182,  0.1561],\n",
       "                        [ 1.3293,  0.7397,  1.7050, -1.4298],\n",
       "                        [-0.0943, -1.8800,  0.1354,  1.2302],\n",
       "                        [-0.1594, -0.8348,  1.9182,  0.1561],\n",
       "                        [ 1.3293,  0.7397,  1.7050, -1.4298],\n",
       "                        [-0.0943, -1.8800,  0.1354,  1.2302],\n",
       "                        [-0.1594, -0.8348,  1.9182,  0.1561],\n",
       "                        [ 1.3293,  0.7397,  1.7050, -1.4298],\n",
       "                        [-0.0943, -1.8800,  0.1354,  1.2302],\n",
       "                        [-0.1594, -0.8348,  1.9182,  0.1561],\n",
       "                        [ 1.3293,  0.7397,  1.7050, -1.4298],\n",
       "                        [-0.0943, -1.8800,  0.1354,  1.2302],\n",
       "                        [-0.1594, -0.8348,  1.9182,  0.1561],\n",
       "                        [ 1.3293,  0.7397,  1.7050, -1.4298],\n",
       "                        [-0.0943, -1.8800,  0.1354,  1.2302],\n",
       "                        [-0.1594, -0.8348,  1.9182,  0.1561],\n",
       "                        [ 1.3293,  0.7397,  1.7050, -1.4298],\n",
       "                        [-0.0943, -1.8800,  0.1354,  1.2302],\n",
       "                        [-0.1594, -0.8348,  1.9182,  0.1561]])"
      ]
     },
     "execution_count": 22,
     "metadata": {},
     "output_type": "execute_result"
    }
   ],
   "source": [
    "t_cat = FastTreeValue.func(subside=True)(torch.cat)\n",
    "\n",
    "t_cat(trees)"
   ]
  },
  {
   "cell_type": "code",
   "execution_count": 23,
   "id": "5e9c06a6",
   "metadata": {
    "execution": {
     "iopub.execute_input": "2023-02-25T19:19:29.889609Z",
     "iopub.status.busy": "2023-02-25T19:19:29.889256Z",
     "iopub.status.idle": "2023-02-25T19:19:32.298082Z",
     "shell.execute_reply": "2023-02-25T19:19:32.297353Z"
    }
   },
   "outputs": [
    {
     "name": "stdout",
     "output_type": "stream",
     "text": [
      "29.6 µs ± 46.1 ns per loop (mean ± std. dev. of 7 runs, 10,000 loops each)\n"
     ]
    }
   ],
   "source": [
    "%timeit t_cat(trees)"
   ]
  },
  {
   "cell_type": "code",
   "execution_count": 24,
   "id": "a3ab5c8f",
   "metadata": {
    "execution": {
     "iopub.execute_input": "2023-02-25T19:19:32.301324Z",
     "iopub.status.busy": "2023-02-25T19:19:32.300684Z",
     "iopub.status.idle": "2023-02-25T19:19:37.179730Z",
     "shell.execute_reply": "2023-02-25T19:19:37.178987Z"
    }
   },
   "outputs": [
    {
     "name": "stdout",
     "output_type": "stream",
     "text": [
      "60 µs ± 171 ns per loop (mean ± std. dev. of 7 runs, 10,000 loops each)\n"
     ]
    }
   ],
   "source": [
    "t_split = FastTreeValue.func(rise=True)(torch.split)\n",
    "tree = FastTreeValue({\n",
    "    'obs': torch.randn(8, 4, 84, 84),\n",
    "    'action': torch.randint(0, 6, size=(8, 1,)),\n",
    "    'reward': torch.rand(8, 1),\n",
    "})\n",
    "\n",
    "%timeit t_split(tree, 1)"
   ]
  },
  {
   "cell_type": "markdown",
   "id": "31c3ec0b",
   "metadata": {},
   "source": [
    "### Performance of Tianshou Batch"
   ]
  },
  {
   "cell_type": "code",
   "execution_count": 25,
   "id": "9ead828a",
   "metadata": {
    "execution": {
     "iopub.execute_input": "2023-02-25T19:19:37.182650Z",
     "iopub.status.busy": "2023-02-25T19:19:37.182099Z",
     "iopub.status.idle": "2023-02-25T19:19:37.190057Z",
     "shell.execute_reply": "2023-02-25T19:19:37.189473Z"
    }
   },
   "outputs": [
    {
     "data": {
      "text/plain": [
       "Batch(\n",
       "    x: Batch(\n",
       "           c: tensor([[[ 1.3293,  0.7397,  1.7050, -1.4298],\n",
       "                       [-0.0943, -1.8800,  0.1354,  1.2302],\n",
       "                       [-0.1594, -0.8348,  1.9182,  0.1561]],\n",
       "              \n",
       "                      [[ 1.3293,  0.7397,  1.7050, -1.4298],\n",
       "                       [-0.0943, -1.8800,  0.1354,  1.2302],\n",
       "                       [-0.1594, -0.8348,  1.9182,  0.1561]],\n",
       "              \n",
       "                      [[ 1.3293,  0.7397,  1.7050, -1.4298],\n",
       "                       [-0.0943, -1.8800,  0.1354,  1.2302],\n",
       "                       [-0.1594, -0.8348,  1.9182,  0.1561]],\n",
       "              \n",
       "                      [[ 1.3293,  0.7397,  1.7050, -1.4298],\n",
       "                       [-0.0943, -1.8800,  0.1354,  1.2302],\n",
       "                       [-0.1594, -0.8348,  1.9182,  0.1561]],\n",
       "              \n",
       "                      [[ 1.3293,  0.7397,  1.7050, -1.4298],\n",
       "                       [-0.0943, -1.8800,  0.1354,  1.2302],\n",
       "                       [-0.1594, -0.8348,  1.9182,  0.1561]],\n",
       "              \n",
       "                      [[ 1.3293,  0.7397,  1.7050, -1.4298],\n",
       "                       [-0.0943, -1.8800,  0.1354,  1.2302],\n",
       "                       [-0.1594, -0.8348,  1.9182,  0.1561]],\n",
       "              \n",
       "                      [[ 1.3293,  0.7397,  1.7050, -1.4298],\n",
       "                       [-0.0943, -1.8800,  0.1354,  1.2302],\n",
       "                       [-0.1594, -0.8348,  1.9182,  0.1561]],\n",
       "              \n",
       "                      [[ 1.3293,  0.7397,  1.7050, -1.4298],\n",
       "                       [-0.0943, -1.8800,  0.1354,  1.2302],\n",
       "                       [-0.1594, -0.8348,  1.9182,  0.1561]]]),\n",
       "       ),\n",
       "    a: tensor([[[-0.4181,  1.0037, -0.7925],\n",
       "                [-0.4357, -1.8849,  0.2679]],\n",
       "       \n",
       "               [[-0.4181,  1.0037, -0.7925],\n",
       "                [-0.4357, -1.8849,  0.2679]],\n",
       "       \n",
       "               [[-0.4181,  1.0037, -0.7925],\n",
       "                [-0.4357, -1.8849,  0.2679]],\n",
       "       \n",
       "               [[-0.4181,  1.0037, -0.7925],\n",
       "                [-0.4357, -1.8849,  0.2679]],\n",
       "       \n",
       "               [[-0.4181,  1.0037, -0.7925],\n",
       "                [-0.4357, -1.8849,  0.2679]],\n",
       "       \n",
       "               [[-0.4181,  1.0037, -0.7925],\n",
       "                [-0.4357, -1.8849,  0.2679]],\n",
       "       \n",
       "               [[-0.4181,  1.0037, -0.7925],\n",
       "                [-0.4357, -1.8849,  0.2679]],\n",
       "       \n",
       "               [[-0.4181,  1.0037, -0.7925],\n",
       "                [-0.4357, -1.8849,  0.2679]]]),\n",
       ")"
      ]
     },
     "execution_count": 25,
     "metadata": {},
     "output_type": "execute_result"
    }
   ],
   "source": [
    "batches = [Batch(**_TREE_DATA_2) for _ in range(8)]\n",
    "\n",
    "Batch.stack(batches)"
   ]
  },
  {
   "cell_type": "code",
   "execution_count": 26,
   "id": "ec9037a3",
   "metadata": {
    "execution": {
     "iopub.execute_input": "2023-02-25T19:19:37.192866Z",
     "iopub.status.busy": "2023-02-25T19:19:37.192387Z",
     "iopub.status.idle": "2023-02-25T19:19:43.545684Z",
     "shell.execute_reply": "2023-02-25T19:19:43.544933Z"
    }
   },
   "outputs": [
    {
     "name": "stdout",
     "output_type": "stream",
     "text": [
      "78.1 µs ± 61.1 ns per loop (mean ± std. dev. of 7 runs, 10,000 loops each)\n"
     ]
    }
   ],
   "source": [
    "%timeit Batch.stack(batches)"
   ]
  },
  {
   "cell_type": "code",
   "execution_count": 27,
   "id": "cb8ab77e",
   "metadata": {
    "execution": {
     "iopub.execute_input": "2023-02-25T19:19:43.548806Z",
     "iopub.status.busy": "2023-02-25T19:19:43.548431Z",
     "iopub.status.idle": "2023-02-25T19:19:43.556204Z",
     "shell.execute_reply": "2023-02-25T19:19:43.555586Z"
    }
   },
   "outputs": [
    {
     "data": {
      "text/plain": [
       "Batch(\n",
       "    x: Batch(\n",
       "           c: tensor([[ 1.3293,  0.7397,  1.7050, -1.4298],\n",
       "                      [-0.0943, -1.8800,  0.1354,  1.2302],\n",
       "                      [-0.1594, -0.8348,  1.9182,  0.1561],\n",
       "                      [ 1.3293,  0.7397,  1.7050, -1.4298],\n",
       "                      [-0.0943, -1.8800,  0.1354,  1.2302],\n",
       "                      [-0.1594, -0.8348,  1.9182,  0.1561],\n",
       "                      [ 1.3293,  0.7397,  1.7050, -1.4298],\n",
       "                      [-0.0943, -1.8800,  0.1354,  1.2302],\n",
       "                      [-0.1594, -0.8348,  1.9182,  0.1561],\n",
       "                      [ 1.3293,  0.7397,  1.7050, -1.4298],\n",
       "                      [-0.0943, -1.8800,  0.1354,  1.2302],\n",
       "                      [-0.1594, -0.8348,  1.9182,  0.1561],\n",
       "                      [ 1.3293,  0.7397,  1.7050, -1.4298],\n",
       "                      [-0.0943, -1.8800,  0.1354,  1.2302],\n",
       "                      [-0.1594, -0.8348,  1.9182,  0.1561],\n",
       "                      [ 1.3293,  0.7397,  1.7050, -1.4298],\n",
       "                      [-0.0943, -1.8800,  0.1354,  1.2302],\n",
       "                      [-0.1594, -0.8348,  1.9182,  0.1561],\n",
       "                      [ 1.3293,  0.7397,  1.7050, -1.4298],\n",
       "                      [-0.0943, -1.8800,  0.1354,  1.2302],\n",
       "                      [-0.1594, -0.8348,  1.9182,  0.1561],\n",
       "                      [ 1.3293,  0.7397,  1.7050, -1.4298],\n",
       "                      [-0.0943, -1.8800,  0.1354,  1.2302],\n",
       "                      [-0.1594, -0.8348,  1.9182,  0.1561]]),\n",
       "       ),\n",
       "    a: tensor([[-0.4181,  1.0037, -0.7925],\n",
       "               [-0.4357, -1.8849,  0.2679],\n",
       "               [-0.4181,  1.0037, -0.7925],\n",
       "               [-0.4357, -1.8849,  0.2679],\n",
       "               [-0.4181,  1.0037, -0.7925],\n",
       "               [-0.4357, -1.8849,  0.2679],\n",
       "               [-0.4181,  1.0037, -0.7925],\n",
       "               [-0.4357, -1.8849,  0.2679],\n",
       "               [-0.4181,  1.0037, -0.7925],\n",
       "               [-0.4357, -1.8849,  0.2679],\n",
       "               [-0.4181,  1.0037, -0.7925],\n",
       "               [-0.4357, -1.8849,  0.2679],\n",
       "               [-0.4181,  1.0037, -0.7925],\n",
       "               [-0.4357, -1.8849,  0.2679],\n",
       "               [-0.4181,  1.0037, -0.7925],\n",
       "               [-0.4357, -1.8849,  0.2679]]),\n",
       ")"
      ]
     },
     "execution_count": 27,
     "metadata": {},
     "output_type": "execute_result"
    }
   ],
   "source": [
    "Batch.cat(batches)"
   ]
  },
  {
   "cell_type": "code",
   "execution_count": 28,
   "id": "18dfb045",
   "metadata": {
    "execution": {
     "iopub.execute_input": "2023-02-25T19:19:43.558960Z",
     "iopub.status.busy": "2023-02-25T19:19:43.558616Z",
     "iopub.status.idle": "2023-02-25T19:19:55.239340Z",
     "shell.execute_reply": "2023-02-25T19:19:55.238590Z"
    }
   },
   "outputs": [
    {
     "name": "stdout",
     "output_type": "stream",
     "text": [
      "144 µs ± 166 ns per loop (mean ± std. dev. of 7 runs, 10,000 loops each)\n"
     ]
    }
   ],
   "source": [
    "%timeit Batch.cat(batches)"
   ]
  },
  {
   "cell_type": "code",
   "execution_count": 29,
   "id": "c6688e51",
   "metadata": {
    "execution": {
     "iopub.execute_input": "2023-02-25T19:19:55.242367Z",
     "iopub.status.busy": "2023-02-25T19:19:55.242013Z",
     "iopub.status.idle": "2023-02-25T19:19:57.750346Z",
     "shell.execute_reply": "2023-02-25T19:19:57.749632Z"
    }
   },
   "outputs": [
    {
     "name": "stdout",
     "output_type": "stream",
     "text": [
      "308 µs ± 1.63 µs per loop (mean ± std. dev. of 7 runs, 1,000 loops each)\n"
     ]
    }
   ],
   "source": [
    "batch = Batch({\n",
    "    'obs': torch.randn(8, 4, 84, 84),\n",
    "    'action': torch.randint(0, 6, size=(8, 1,)),\n",
    "    'reward': torch.rand(8, 1)}\n",
    ")\n",
    "\n",
    "%timeit list(Batch.split(batch, 1, shuffle=False, merge_last=True))"
   ]
  },
  {
   "cell_type": "code",
   "execution_count": null,
   "id": "2539fbd9",
   "metadata": {},
   "outputs": [],
   "source": []
  }
 ],
 "metadata": {
  "kernelspec": {
   "display_name": "Python 3 (ipykernel)",
   "language": "python",
   "name": "python3"
  },
  "language_info": {
   "codemirror_mode": {
    "name": "ipython",
    "version": 3
   },
   "file_extension": ".py",
   "mimetype": "text/x-python",
   "name": "python",
   "nbconvert_exporter": "python",
   "pygments_lexer": "ipython3",
   "version": "3.8.16"
  }
 },
 "nbformat": 4,
 "nbformat_minor": 5
}
