{
 "cells": [
  {
   "cell_type": "markdown",
   "id": "9d39d946",
   "metadata": {},
   "source": [
    "# Comparison Between TreeValue and Tianshou Batch"
   ]
  },
  {
   "cell_type": "markdown",
   "id": "3c6db2d4",
   "metadata": {},
   "source": [
    "In this section, we will take a look at the feature and performance of the [Tianshou Batch](https://github.com/thu-ml/tianshou) library, which is developed by Tsinghua Machine Learning Group."
   ]
  },
  {
   "cell_type": "markdown",
   "id": "069361b0",
   "metadata": {},
   "source": [
    "Before starting the comparison, let us define some thing."
   ]
  },
  {
   "cell_type": "code",
   "execution_count": 1,
   "id": "06fc8d26",
   "metadata": {
    "execution": {
     "iopub.execute_input": "2023-02-25T07:33:17.984957Z",
     "iopub.status.busy": "2023-02-25T07:33:17.984434Z",
     "iopub.status.idle": "2023-02-25T07:33:18.891092Z",
     "shell.execute_reply": "2023-02-25T07:33:18.890419Z"
    }
   },
   "outputs": [
    {
     "name": "stderr",
     "output_type": "stream",
     "text": [
      "/opt/hostedtoolcache/Python/3.8.16/x64/lib/python3.8/site-packages/tqdm/auto.py:22: TqdmWarning: IProgress not found. Please update jupyter and ipywidgets. See https://ipywidgets.readthedocs.io/en/stable/user_install.html\n",
      "  from .autonotebook import tqdm as notebook_tqdm\n"
     ]
    }
   ],
   "source": [
    "import torch \n",
    "\n",
    "_TREE_DATA_1 = {'a': 1, 'b': 2, 'x': {'c': 3, 'd': 4}}\n",
    "_TREE_DATA_2 = {\n",
    "    'a': torch.randn(2, 3), \n",
    "    'x': {\n",
    "        'c': torch.randn(3, 4)\n",
    "    },\n",
    "}\n",
    "_TREE_DATA_3 = {\n",
    "    'obs': torch.randn(4, 84, 84),\n",
    "    'action': torch.randint(0, 6, size=(1,)),\n",
    "    'reward': torch.rand(1),\n",
    "}"
   ]
  },
  {
   "cell_type": "markdown",
   "id": "83461b25",
   "metadata": {},
   "source": [
    "## Read and Write Operation"
   ]
  },
  {
   "cell_type": "markdown",
   "id": "067b3f73",
   "metadata": {},
   "source": [
    "Reading and writing are the two most common operations in the tree data structure based on the data model (TreeValue and Tianshou Batch both belong to this type), so this section will compare the reading and writing performance of these two libraries."
   ]
  },
  {
   "cell_type": "markdown",
   "id": "5d09a5b7",
   "metadata": {},
   "source": [
    "### TreeValue's Get and Set"
   ]
  },
  {
   "cell_type": "code",
   "execution_count": 2,
   "id": "9519c4bb",
   "metadata": {
    "execution": {
     "iopub.execute_input": "2023-02-25T07:33:18.894257Z",
     "iopub.status.busy": "2023-02-25T07:33:18.893710Z",
     "iopub.status.idle": "2023-02-25T07:33:18.926201Z",
     "shell.execute_reply": "2023-02-25T07:33:18.925615Z"
    }
   },
   "outputs": [],
   "source": [
    "from treevalue import FastTreeValue\n",
    "\n",
    "t = FastTreeValue(_TREE_DATA_2)"
   ]
  },
  {
   "cell_type": "code",
   "execution_count": 3,
   "id": "11c37677",
   "metadata": {
    "execution": {
     "iopub.execute_input": "2023-02-25T07:33:18.929002Z",
     "iopub.status.busy": "2023-02-25T07:33:18.928663Z",
     "iopub.status.idle": "2023-02-25T07:33:18.937536Z",
     "shell.execute_reply": "2023-02-25T07:33:18.936939Z"
    }
   },
   "outputs": [
    {
     "data": {
      "text/plain": [
       "<FastTreeValue 0x7f8a28986070>\n",
       "├── 'a' --> tensor([[-0.7833, -0.1307,  0.9025],\n",
       "│                   [ 1.3312,  0.7289, -0.4993]])\n",
       "└── 'x' --> <FastTreeValue 0x7f8a289cbfd0>\n",
       "    └── 'c' --> tensor([[ 0.8956,  0.5360,  2.2111, -1.9051],\n",
       "                        [ 0.1788,  0.3119, -1.1663, -1.5693],\n",
       "                        [-0.8482,  0.1421,  0.8436,  1.3406]])"
      ]
     },
     "execution_count": 3,
     "metadata": {},
     "output_type": "execute_result"
    }
   ],
   "source": [
    "t"
   ]
  },
  {
   "cell_type": "code",
   "execution_count": 4,
   "id": "fd70b0b9",
   "metadata": {
    "execution": {
     "iopub.execute_input": "2023-02-25T07:33:18.940278Z",
     "iopub.status.busy": "2023-02-25T07:33:18.939785Z",
     "iopub.status.idle": "2023-02-25T07:33:18.945131Z",
     "shell.execute_reply": "2023-02-25T07:33:18.944570Z"
    }
   },
   "outputs": [
    {
     "data": {
      "text/plain": [
       "tensor([[-0.7833, -0.1307,  0.9025],\n",
       "        [ 1.3312,  0.7289, -0.4993]])"
      ]
     },
     "execution_count": 4,
     "metadata": {},
     "output_type": "execute_result"
    }
   ],
   "source": [
    "t.a"
   ]
  },
  {
   "cell_type": "code",
   "execution_count": 5,
   "id": "c18197bd",
   "metadata": {
    "execution": {
     "iopub.execute_input": "2023-02-25T07:33:18.947790Z",
     "iopub.status.busy": "2023-02-25T07:33:18.947337Z",
     "iopub.status.idle": "2023-02-25T07:33:23.959933Z",
     "shell.execute_reply": "2023-02-25T07:33:23.959199Z"
    }
   },
   "outputs": [
    {
     "name": "stdout",
     "output_type": "stream",
     "text": [
      "62.3 ns ± 0.0455 ns per loop (mean ± std. dev. of 7 runs, 10,000,000 loops each)\n"
     ]
    }
   ],
   "source": [
    "%timeit t.a"
   ]
  },
  {
   "cell_type": "code",
   "execution_count": 6,
   "id": "bd52f867",
   "metadata": {
    "execution": {
     "iopub.execute_input": "2023-02-25T07:33:23.962670Z",
     "iopub.status.busy": "2023-02-25T07:33:23.962341Z",
     "iopub.status.idle": "2023-02-25T07:33:23.969064Z",
     "shell.execute_reply": "2023-02-25T07:33:23.968472Z"
    }
   },
   "outputs": [
    {
     "data": {
      "text/plain": [
       "<FastTreeValue 0x7f8a28986070>\n",
       "├── 'a' --> tensor([[-0.0773, -0.0061,  0.2347],\n",
       "│                   [ 2.1868,  0.4502,  0.4582]])\n",
       "└── 'x' --> <FastTreeValue 0x7f8a289cbfd0>\n",
       "    └── 'c' --> tensor([[ 0.8956,  0.5360,  2.2111, -1.9051],\n",
       "                        [ 0.1788,  0.3119, -1.1663, -1.5693],\n",
       "                        [-0.8482,  0.1421,  0.8436,  1.3406]])"
      ]
     },
     "execution_count": 6,
     "metadata": {},
     "output_type": "execute_result"
    }
   ],
   "source": [
    "new_value = torch.randn(2, 3)\n",
    "t.a = new_value\n",
    "\n",
    "t"
   ]
  },
  {
   "cell_type": "code",
   "execution_count": 7,
   "id": "bbe04d1c",
   "metadata": {
    "execution": {
     "iopub.execute_input": "2023-02-25T07:33:23.971486Z",
     "iopub.status.busy": "2023-02-25T07:33:23.971152Z",
     "iopub.status.idle": "2023-02-25T07:33:29.057307Z",
     "shell.execute_reply": "2023-02-25T07:33:29.056567Z"
    }
   },
   "outputs": [
    {
     "name": "stdout",
     "output_type": "stream",
     "text": [
      "62.6 ns ± 0.00946 ns per loop (mean ± std. dev. of 7 runs, 10,000,000 loops each)\n"
     ]
    }
   ],
   "source": [
    "%timeit t.a = new_value"
   ]
  },
  {
   "cell_type": "markdown",
   "id": "48c49731",
   "metadata": {},
   "source": [
    "### Tianshou Batch's Get and Set"
   ]
  },
  {
   "cell_type": "code",
   "execution_count": 8,
   "id": "f1bb14c1",
   "metadata": {
    "execution": {
     "iopub.execute_input": "2023-02-25T07:33:29.060633Z",
     "iopub.status.busy": "2023-02-25T07:33:29.059980Z",
     "iopub.status.idle": "2023-02-25T07:33:29.389305Z",
     "shell.execute_reply": "2023-02-25T07:33:29.388642Z"
    }
   },
   "outputs": [],
   "source": [
    "from tianshou.data import Batch\n",
    "\n",
    "b = Batch(**_TREE_DATA_2)"
   ]
  },
  {
   "cell_type": "code",
   "execution_count": 9,
   "id": "cb0777c3",
   "metadata": {
    "execution": {
     "iopub.execute_input": "2023-02-25T07:33:29.392296Z",
     "iopub.status.busy": "2023-02-25T07:33:29.391774Z",
     "iopub.status.idle": "2023-02-25T07:33:29.397822Z",
     "shell.execute_reply": "2023-02-25T07:33:29.397255Z"
    }
   },
   "outputs": [
    {
     "data": {
      "text/plain": [
       "Batch(\n",
       "    a: tensor([[-0.7833, -0.1307,  0.9025],\n",
       "               [ 1.3312,  0.7289, -0.4993]]),\n",
       "    x: Batch(\n",
       "           c: tensor([[ 0.8956,  0.5360,  2.2111, -1.9051],\n",
       "                      [ 0.1788,  0.3119, -1.1663, -1.5693],\n",
       "                      [-0.8482,  0.1421,  0.8436,  1.3406]]),\n",
       "       ),\n",
       ")"
      ]
     },
     "execution_count": 9,
     "metadata": {},
     "output_type": "execute_result"
    }
   ],
   "source": [
    "b"
   ]
  },
  {
   "cell_type": "code",
   "execution_count": 10,
   "id": "43ef8ea3",
   "metadata": {
    "execution": {
     "iopub.execute_input": "2023-02-25T07:33:29.400675Z",
     "iopub.status.busy": "2023-02-25T07:33:29.400201Z",
     "iopub.status.idle": "2023-02-25T07:33:29.405775Z",
     "shell.execute_reply": "2023-02-25T07:33:29.405187Z"
    }
   },
   "outputs": [
    {
     "data": {
      "text/plain": [
       "tensor([[-0.7833, -0.1307,  0.9025],\n",
       "        [ 1.3312,  0.7289, -0.4993]])"
      ]
     },
     "execution_count": 10,
     "metadata": {},
     "output_type": "execute_result"
    }
   ],
   "source": [
    "b.a"
   ]
  },
  {
   "cell_type": "code",
   "execution_count": 11,
   "id": "b785ab72",
   "metadata": {
    "execution": {
     "iopub.execute_input": "2023-02-25T07:33:29.408212Z",
     "iopub.status.busy": "2023-02-25T07:33:29.407786Z",
     "iopub.status.idle": "2023-02-25T07:33:33.984626Z",
     "shell.execute_reply": "2023-02-25T07:33:33.983885Z"
    }
   },
   "outputs": [
    {
     "name": "stdout",
     "output_type": "stream",
     "text": [
      "56.6 ns ± 0.0277 ns per loop (mean ± std. dev. of 7 runs, 10,000,000 loops each)\n"
     ]
    }
   ],
   "source": [
    "%timeit b.a"
   ]
  },
  {
   "cell_type": "code",
   "execution_count": 12,
   "id": "ad54dc69",
   "metadata": {
    "execution": {
     "iopub.execute_input": "2023-02-25T07:33:33.987736Z",
     "iopub.status.busy": "2023-02-25T07:33:33.987230Z",
     "iopub.status.idle": "2023-02-25T07:33:33.993590Z",
     "shell.execute_reply": "2023-02-25T07:33:33.993013Z"
    }
   },
   "outputs": [
    {
     "data": {
      "text/plain": [
       "Batch(\n",
       "    a: tensor([[-0.8408,  0.2969,  0.4565],\n",
       "               [ 0.8201,  0.2900, -1.7988]]),\n",
       "    x: Batch(\n",
       "           c: tensor([[ 0.8956,  0.5360,  2.2111, -1.9051],\n",
       "                      [ 0.1788,  0.3119, -1.1663, -1.5693],\n",
       "                      [-0.8482,  0.1421,  0.8436,  1.3406]]),\n",
       "       ),\n",
       ")"
      ]
     },
     "execution_count": 12,
     "metadata": {},
     "output_type": "execute_result"
    }
   ],
   "source": [
    "new_value = torch.randn(2, 3)\n",
    "b.a = new_value\n",
    "\n",
    "b"
   ]
  },
  {
   "cell_type": "code",
   "execution_count": 13,
   "id": "29b1d0bf",
   "metadata": {
    "execution": {
     "iopub.execute_input": "2023-02-25T07:33:33.996220Z",
     "iopub.status.busy": "2023-02-25T07:33:33.995663Z",
     "iopub.status.idle": "2023-02-25T07:33:37.928597Z",
     "shell.execute_reply": "2023-02-25T07:33:37.927852Z"
    }
   },
   "outputs": [
    {
     "name": "stdout",
     "output_type": "stream",
     "text": [
      "484 ns ± 0.102 ns per loop (mean ± std. dev. of 7 runs, 1,000,000 loops each)\n"
     ]
    }
   ],
   "source": [
    "%timeit b.a = new_value"
   ]
  },
  {
   "cell_type": "markdown",
   "id": "b61ad1d0",
   "metadata": {},
   "source": [
    "## Initialization"
   ]
  },
  {
   "cell_type": "markdown",
   "id": "d70f0d54",
   "metadata": {},
   "source": [
    "### TreeValue's Initialization"
   ]
  },
  {
   "cell_type": "code",
   "execution_count": 14,
   "id": "d32a679b",
   "metadata": {
    "execution": {
     "iopub.execute_input": "2023-02-25T07:33:37.931413Z",
     "iopub.status.busy": "2023-02-25T07:33:37.931047Z",
     "iopub.status.idle": "2023-02-25T07:33:44.817094Z",
     "shell.execute_reply": "2023-02-25T07:33:44.816362Z"
    }
   },
   "outputs": [
    {
     "name": "stdout",
     "output_type": "stream",
     "text": [
      "848 ns ± 0.3 ns per loop (mean ± std. dev. of 7 runs, 1,000,000 loops each)\n"
     ]
    }
   ],
   "source": [
    "%timeit FastTreeValue(_TREE_DATA_1)"
   ]
  },
  {
   "cell_type": "markdown",
   "id": "24f3707b",
   "metadata": {},
   "source": [
    "### Tianshou Batch's Initialization"
   ]
  },
  {
   "cell_type": "code",
   "execution_count": 15,
   "id": "ac3958df",
   "metadata": {
    "execution": {
     "iopub.execute_input": "2023-02-25T07:33:44.820298Z",
     "iopub.status.busy": "2023-02-25T07:33:44.819790Z",
     "iopub.status.idle": "2023-02-25T07:33:54.063387Z",
     "shell.execute_reply": "2023-02-25T07:33:54.062650Z"
    }
   },
   "outputs": [
    {
     "name": "stdout",
     "output_type": "stream",
     "text": [
      "11.4 µs ± 23.5 ns per loop (mean ± std. dev. of 7 runs, 100,000 loops each)\n"
     ]
    }
   ],
   "source": [
    "%timeit Batch(**_TREE_DATA_1)"
   ]
  },
  {
   "cell_type": "markdown",
   "id": "1ab82e2d",
   "metadata": {},
   "source": [
    "## Deep Copy Operation"
   ]
  },
  {
   "cell_type": "code",
   "execution_count": 16,
   "id": "210a9442",
   "metadata": {
    "execution": {
     "iopub.execute_input": "2023-02-25T07:33:54.066381Z",
     "iopub.status.busy": "2023-02-25T07:33:54.066024Z",
     "iopub.status.idle": "2023-02-25T07:33:54.069971Z",
     "shell.execute_reply": "2023-02-25T07:33:54.069373Z"
    }
   },
   "outputs": [],
   "source": [
    "import copy"
   ]
  },
  {
   "cell_type": "markdown",
   "id": "5a736274",
   "metadata": {},
   "source": [
    "### Deep Copy of TreeValue"
   ]
  },
  {
   "cell_type": "code",
   "execution_count": 17,
   "id": "f9bcadd6",
   "metadata": {
    "execution": {
     "iopub.execute_input": "2023-02-25T07:33:54.072768Z",
     "iopub.status.busy": "2023-02-25T07:33:54.072215Z",
     "iopub.status.idle": "2023-02-25T07:34:04.885486Z",
     "shell.execute_reply": "2023-02-25T07:34:04.884893Z"
    }
   },
   "outputs": [
    {
     "name": "stdout",
     "output_type": "stream",
     "text": [
      "133 µs ± 106 ns per loop (mean ± std. dev. of 7 runs, 10,000 loops each)\n"
     ]
    }
   ],
   "source": [
    "t3 = FastTreeValue(_TREE_DATA_3)\n",
    "%timeit copy.deepcopy(t3)"
   ]
  },
  {
   "cell_type": "markdown",
   "id": "bf8be7ea",
   "metadata": {},
   "source": [
    "### Deep Copy of Tianshou Batch"
   ]
  },
  {
   "cell_type": "code",
   "execution_count": 18,
   "id": "91998e6f",
   "metadata": {
    "execution": {
     "iopub.execute_input": "2023-02-25T07:34:04.890173Z",
     "iopub.status.busy": "2023-02-25T07:34:04.889679Z",
     "iopub.status.idle": "2023-02-25T07:34:16.120543Z",
     "shell.execute_reply": "2023-02-25T07:34:16.119955Z"
    }
   },
   "outputs": [
    {
     "name": "stdout",
     "output_type": "stream",
     "text": [
      "138 µs ± 389 ns per loop (mean ± std. dev. of 7 runs, 10,000 loops each)\n"
     ]
    }
   ],
   "source": [
    "b3 = Batch(**_TREE_DATA_3)\n",
    "%timeit copy.deepcopy(b3)"
   ]
  },
  {
   "cell_type": "markdown",
   "id": "223162fb",
   "metadata": {},
   "source": [
    "## Stack, Concat and Split Operation"
   ]
  },
  {
   "cell_type": "markdown",
   "id": "85fa4a73",
   "metadata": {},
   "source": [
    "### Performance of TreeValue"
   ]
  },
  {
   "cell_type": "code",
   "execution_count": 19,
   "id": "a0c2b697",
   "metadata": {
    "execution": {
     "iopub.execute_input": "2023-02-25T07:34:16.123779Z",
     "iopub.status.busy": "2023-02-25T07:34:16.123332Z",
     "iopub.status.idle": "2023-02-25T07:34:16.127657Z",
     "shell.execute_reply": "2023-02-25T07:34:16.127060Z"
    }
   },
   "outputs": [],
   "source": [
    "trees = [FastTreeValue(_TREE_DATA_2) for _ in range(8)]"
   ]
  },
  {
   "cell_type": "code",
   "execution_count": 20,
   "id": "017ea5a5",
   "metadata": {
    "execution": {
     "iopub.execute_input": "2023-02-25T07:34:16.130481Z",
     "iopub.status.busy": "2023-02-25T07:34:16.130006Z",
     "iopub.status.idle": "2023-02-25T07:34:16.138422Z",
     "shell.execute_reply": "2023-02-25T07:34:16.137847Z"
    }
   },
   "outputs": [
    {
     "data": {
      "text/plain": [
       "<FastTreeValue 0x7f89852881f0>\n",
       "├── 'a' --> tensor([[[-0.7833, -0.1307,  0.9025],\n",
       "│                    [ 1.3312,  0.7289, -0.4993]],\n",
       "│           \n",
       "│                   [[-0.7833, -0.1307,  0.9025],\n",
       "│                    [ 1.3312,  0.7289, -0.4993]],\n",
       "│           \n",
       "│                   [[-0.7833, -0.1307,  0.9025],\n",
       "│                    [ 1.3312,  0.7289, -0.4993]],\n",
       "│           \n",
       "│                   [[-0.7833, -0.1307,  0.9025],\n",
       "│                    [ 1.3312,  0.7289, -0.4993]],\n",
       "│           \n",
       "│                   [[-0.7833, -0.1307,  0.9025],\n",
       "│                    [ 1.3312,  0.7289, -0.4993]],\n",
       "│           \n",
       "│                   [[-0.7833, -0.1307,  0.9025],\n",
       "│                    [ 1.3312,  0.7289, -0.4993]],\n",
       "│           \n",
       "│                   [[-0.7833, -0.1307,  0.9025],\n",
       "│                    [ 1.3312,  0.7289, -0.4993]],\n",
       "│           \n",
       "│                   [[-0.7833, -0.1307,  0.9025],\n",
       "│                    [ 1.3312,  0.7289, -0.4993]]])\n",
       "└── 'x' --> <FastTreeValue 0x7f897e6951f0>\n",
       "    └── 'c' --> tensor([[[ 0.8956,  0.5360,  2.2111, -1.9051],\n",
       "                         [ 0.1788,  0.3119, -1.1663, -1.5693],\n",
       "                         [-0.8482,  0.1421,  0.8436,  1.3406]],\n",
       "                \n",
       "                        [[ 0.8956,  0.5360,  2.2111, -1.9051],\n",
       "                         [ 0.1788,  0.3119, -1.1663, -1.5693],\n",
       "                         [-0.8482,  0.1421,  0.8436,  1.3406]],\n",
       "                \n",
       "                        [[ 0.8956,  0.5360,  2.2111, -1.9051],\n",
       "                         [ 0.1788,  0.3119, -1.1663, -1.5693],\n",
       "                         [-0.8482,  0.1421,  0.8436,  1.3406]],\n",
       "                \n",
       "                        [[ 0.8956,  0.5360,  2.2111, -1.9051],\n",
       "                         [ 0.1788,  0.3119, -1.1663, -1.5693],\n",
       "                         [-0.8482,  0.1421,  0.8436,  1.3406]],\n",
       "                \n",
       "                        [[ 0.8956,  0.5360,  2.2111, -1.9051],\n",
       "                         [ 0.1788,  0.3119, -1.1663, -1.5693],\n",
       "                         [-0.8482,  0.1421,  0.8436,  1.3406]],\n",
       "                \n",
       "                        [[ 0.8956,  0.5360,  2.2111, -1.9051],\n",
       "                         [ 0.1788,  0.3119, -1.1663, -1.5693],\n",
       "                         [-0.8482,  0.1421,  0.8436,  1.3406]],\n",
       "                \n",
       "                        [[ 0.8956,  0.5360,  2.2111, -1.9051],\n",
       "                         [ 0.1788,  0.3119, -1.1663, -1.5693],\n",
       "                         [-0.8482,  0.1421,  0.8436,  1.3406]],\n",
       "                \n",
       "                        [[ 0.8956,  0.5360,  2.2111, -1.9051],\n",
       "                         [ 0.1788,  0.3119, -1.1663, -1.5693],\n",
       "                         [-0.8482,  0.1421,  0.8436,  1.3406]]])"
      ]
     },
     "execution_count": 20,
     "metadata": {},
     "output_type": "execute_result"
    }
   ],
   "source": [
    "t_stack = FastTreeValue.func(subside=True)(torch.stack)\n",
    "\n",
    "t_stack(trees)"
   ]
  },
  {
   "cell_type": "code",
   "execution_count": 21,
   "id": "f8b3f415",
   "metadata": {
    "execution": {
     "iopub.execute_input": "2023-02-25T07:34:16.141192Z",
     "iopub.status.busy": "2023-02-25T07:34:16.140729Z",
     "iopub.status.idle": "2023-02-25T07:34:18.730295Z",
     "shell.execute_reply": "2023-02-25T07:34:18.729549Z"
    }
   },
   "outputs": [
    {
     "name": "stdout",
     "output_type": "stream",
     "text": [
      "31.8 µs ± 17.9 ns per loop (mean ± std. dev. of 7 runs, 10,000 loops each)\n"
     ]
    }
   ],
   "source": [
    "%timeit t_stack(trees)"
   ]
  },
  {
   "cell_type": "code",
   "execution_count": 22,
   "id": "94b56771",
   "metadata": {
    "execution": {
     "iopub.execute_input": "2023-02-25T07:34:18.733324Z",
     "iopub.status.busy": "2023-02-25T07:34:18.732979Z",
     "iopub.status.idle": "2023-02-25T07:34:18.741626Z",
     "shell.execute_reply": "2023-02-25T07:34:18.741053Z"
    }
   },
   "outputs": [
    {
     "data": {
      "text/plain": [
       "<FastTreeValue 0x7f8a289cb040>\n",
       "├── 'a' --> tensor([[-0.7833, -0.1307,  0.9025],\n",
       "│                   [ 1.3312,  0.7289, -0.4993],\n",
       "│                   [-0.7833, -0.1307,  0.9025],\n",
       "│                   [ 1.3312,  0.7289, -0.4993],\n",
       "│                   [-0.7833, -0.1307,  0.9025],\n",
       "│                   [ 1.3312,  0.7289, -0.4993],\n",
       "│                   [-0.7833, -0.1307,  0.9025],\n",
       "│                   [ 1.3312,  0.7289, -0.4993],\n",
       "│                   [-0.7833, -0.1307,  0.9025],\n",
       "│                   [ 1.3312,  0.7289, -0.4993],\n",
       "│                   [-0.7833, -0.1307,  0.9025],\n",
       "│                   [ 1.3312,  0.7289, -0.4993],\n",
       "│                   [-0.7833, -0.1307,  0.9025],\n",
       "│                   [ 1.3312,  0.7289, -0.4993],\n",
       "│                   [-0.7833, -0.1307,  0.9025],\n",
       "│                   [ 1.3312,  0.7289, -0.4993]])\n",
       "└── 'x' --> <FastTreeValue 0x7f89fbeda1c0>\n",
       "    └── 'c' --> tensor([[ 0.8956,  0.5360,  2.2111, -1.9051],\n",
       "                        [ 0.1788,  0.3119, -1.1663, -1.5693],\n",
       "                        [-0.8482,  0.1421,  0.8436,  1.3406],\n",
       "                        [ 0.8956,  0.5360,  2.2111, -1.9051],\n",
       "                        [ 0.1788,  0.3119, -1.1663, -1.5693],\n",
       "                        [-0.8482,  0.1421,  0.8436,  1.3406],\n",
       "                        [ 0.8956,  0.5360,  2.2111, -1.9051],\n",
       "                        [ 0.1788,  0.3119, -1.1663, -1.5693],\n",
       "                        [-0.8482,  0.1421,  0.8436,  1.3406],\n",
       "                        [ 0.8956,  0.5360,  2.2111, -1.9051],\n",
       "                        [ 0.1788,  0.3119, -1.1663, -1.5693],\n",
       "                        [-0.8482,  0.1421,  0.8436,  1.3406],\n",
       "                        [ 0.8956,  0.5360,  2.2111, -1.9051],\n",
       "                        [ 0.1788,  0.3119, -1.1663, -1.5693],\n",
       "                        [-0.8482,  0.1421,  0.8436,  1.3406],\n",
       "                        [ 0.8956,  0.5360,  2.2111, -1.9051],\n",
       "                        [ 0.1788,  0.3119, -1.1663, -1.5693],\n",
       "                        [-0.8482,  0.1421,  0.8436,  1.3406],\n",
       "                        [ 0.8956,  0.5360,  2.2111, -1.9051],\n",
       "                        [ 0.1788,  0.3119, -1.1663, -1.5693],\n",
       "                        [-0.8482,  0.1421,  0.8436,  1.3406],\n",
       "                        [ 0.8956,  0.5360,  2.2111, -1.9051],\n",
       "                        [ 0.1788,  0.3119, -1.1663, -1.5693],\n",
       "                        [-0.8482,  0.1421,  0.8436,  1.3406]])"
      ]
     },
     "execution_count": 22,
     "metadata": {},
     "output_type": "execute_result"
    }
   ],
   "source": [
    "t_cat = FastTreeValue.func(subside=True)(torch.cat)\n",
    "\n",
    "t_cat(trees)"
   ]
  },
  {
   "cell_type": "code",
   "execution_count": 23,
   "id": "5e9c06a6",
   "metadata": {
    "execution": {
     "iopub.execute_input": "2023-02-25T07:34:18.744258Z",
     "iopub.status.busy": "2023-02-25T07:34:18.743915Z",
     "iopub.status.idle": "2023-02-25T07:34:21.148671Z",
     "shell.execute_reply": "2023-02-25T07:34:21.147922Z"
    }
   },
   "outputs": [
    {
     "name": "stdout",
     "output_type": "stream",
     "text": [
      "29.5 µs ± 106 ns per loop (mean ± std. dev. of 7 runs, 10,000 loops each)\n"
     ]
    }
   ],
   "source": [
    "%timeit t_cat(trees)"
   ]
  },
  {
   "cell_type": "code",
   "execution_count": 24,
   "id": "a3ab5c8f",
   "metadata": {
    "execution": {
     "iopub.execute_input": "2023-02-25T07:34:21.151833Z",
     "iopub.status.busy": "2023-02-25T07:34:21.151276Z",
     "iopub.status.idle": "2023-02-25T07:34:25.883308Z",
     "shell.execute_reply": "2023-02-25T07:34:25.882540Z"
    }
   },
   "outputs": [
    {
     "name": "stdout",
     "output_type": "stream",
     "text": [
      "58.2 µs ± 77.9 ns per loop (mean ± std. dev. of 7 runs, 10,000 loops each)\n"
     ]
    }
   ],
   "source": [
    "t_split = FastTreeValue.func(rise=True)(torch.split)\n",
    "tree = FastTreeValue({\n",
    "    'obs': torch.randn(8, 4, 84, 84),\n",
    "    'action': torch.randint(0, 6, size=(8, 1,)),\n",
    "    'reward': torch.rand(8, 1),\n",
    "})\n",
    "\n",
    "%timeit t_split(tree, 1)"
   ]
  },
  {
   "cell_type": "markdown",
   "id": "31c3ec0b",
   "metadata": {},
   "source": [
    "### Performance of Tianshou Batch"
   ]
  },
  {
   "cell_type": "code",
   "execution_count": 25,
   "id": "9ead828a",
   "metadata": {
    "execution": {
     "iopub.execute_input": "2023-02-25T07:34:25.886488Z",
     "iopub.status.busy": "2023-02-25T07:34:25.885964Z",
     "iopub.status.idle": "2023-02-25T07:34:25.893800Z",
     "shell.execute_reply": "2023-02-25T07:34:25.893217Z"
    }
   },
   "outputs": [
    {
     "data": {
      "text/plain": [
       "Batch(\n",
       "    x: Batch(\n",
       "           c: tensor([[[ 0.8956,  0.5360,  2.2111, -1.9051],\n",
       "                       [ 0.1788,  0.3119, -1.1663, -1.5693],\n",
       "                       [-0.8482,  0.1421,  0.8436,  1.3406]],\n",
       "              \n",
       "                      [[ 0.8956,  0.5360,  2.2111, -1.9051],\n",
       "                       [ 0.1788,  0.3119, -1.1663, -1.5693],\n",
       "                       [-0.8482,  0.1421,  0.8436,  1.3406]],\n",
       "              \n",
       "                      [[ 0.8956,  0.5360,  2.2111, -1.9051],\n",
       "                       [ 0.1788,  0.3119, -1.1663, -1.5693],\n",
       "                       [-0.8482,  0.1421,  0.8436,  1.3406]],\n",
       "              \n",
       "                      [[ 0.8956,  0.5360,  2.2111, -1.9051],\n",
       "                       [ 0.1788,  0.3119, -1.1663, -1.5693],\n",
       "                       [-0.8482,  0.1421,  0.8436,  1.3406]],\n",
       "              \n",
       "                      [[ 0.8956,  0.5360,  2.2111, -1.9051],\n",
       "                       [ 0.1788,  0.3119, -1.1663, -1.5693],\n",
       "                       [-0.8482,  0.1421,  0.8436,  1.3406]],\n",
       "              \n",
       "                      [[ 0.8956,  0.5360,  2.2111, -1.9051],\n",
       "                       [ 0.1788,  0.3119, -1.1663, -1.5693],\n",
       "                       [-0.8482,  0.1421,  0.8436,  1.3406]],\n",
       "              \n",
       "                      [[ 0.8956,  0.5360,  2.2111, -1.9051],\n",
       "                       [ 0.1788,  0.3119, -1.1663, -1.5693],\n",
       "                       [-0.8482,  0.1421,  0.8436,  1.3406]],\n",
       "              \n",
       "                      [[ 0.8956,  0.5360,  2.2111, -1.9051],\n",
       "                       [ 0.1788,  0.3119, -1.1663, -1.5693],\n",
       "                       [-0.8482,  0.1421,  0.8436,  1.3406]]]),\n",
       "       ),\n",
       "    a: tensor([[[-0.7833, -0.1307,  0.9025],\n",
       "                [ 1.3312,  0.7289, -0.4993]],\n",
       "       \n",
       "               [[-0.7833, -0.1307,  0.9025],\n",
       "                [ 1.3312,  0.7289, -0.4993]],\n",
       "       \n",
       "               [[-0.7833, -0.1307,  0.9025],\n",
       "                [ 1.3312,  0.7289, -0.4993]],\n",
       "       \n",
       "               [[-0.7833, -0.1307,  0.9025],\n",
       "                [ 1.3312,  0.7289, -0.4993]],\n",
       "       \n",
       "               [[-0.7833, -0.1307,  0.9025],\n",
       "                [ 1.3312,  0.7289, -0.4993]],\n",
       "       \n",
       "               [[-0.7833, -0.1307,  0.9025],\n",
       "                [ 1.3312,  0.7289, -0.4993]],\n",
       "       \n",
       "               [[-0.7833, -0.1307,  0.9025],\n",
       "                [ 1.3312,  0.7289, -0.4993]],\n",
       "       \n",
       "               [[-0.7833, -0.1307,  0.9025],\n",
       "                [ 1.3312,  0.7289, -0.4993]]]),\n",
       ")"
      ]
     },
     "execution_count": 25,
     "metadata": {},
     "output_type": "execute_result"
    }
   ],
   "source": [
    "batches = [Batch(**_TREE_DATA_2) for _ in range(8)]\n",
    "\n",
    "Batch.stack(batches)"
   ]
  },
  {
   "cell_type": "code",
   "execution_count": 26,
   "id": "ec9037a3",
   "metadata": {
    "execution": {
     "iopub.execute_input": "2023-02-25T07:34:25.896424Z",
     "iopub.status.busy": "2023-02-25T07:34:25.895824Z",
     "iopub.status.idle": "2023-02-25T07:34:32.187869Z",
     "shell.execute_reply": "2023-02-25T07:34:32.187225Z"
    }
   },
   "outputs": [
    {
     "name": "stdout",
     "output_type": "stream",
     "text": [
      "77.3 µs ± 158 ns per loop (mean ± std. dev. of 7 runs, 10,000 loops each)\n"
     ]
    }
   ],
   "source": [
    "%timeit Batch.stack(batches)"
   ]
  },
  {
   "cell_type": "code",
   "execution_count": 27,
   "id": "cb8ab77e",
   "metadata": {
    "execution": {
     "iopub.execute_input": "2023-02-25T07:34:32.190853Z",
     "iopub.status.busy": "2023-02-25T07:34:32.190506Z",
     "iopub.status.idle": "2023-02-25T07:34:32.197867Z",
     "shell.execute_reply": "2023-02-25T07:34:32.197282Z"
    }
   },
   "outputs": [
    {
     "data": {
      "text/plain": [
       "Batch(\n",
       "    x: Batch(\n",
       "           c: tensor([[ 0.8956,  0.5360,  2.2111, -1.9051],\n",
       "                      [ 0.1788,  0.3119, -1.1663, -1.5693],\n",
       "                      [-0.8482,  0.1421,  0.8436,  1.3406],\n",
       "                      [ 0.8956,  0.5360,  2.2111, -1.9051],\n",
       "                      [ 0.1788,  0.3119, -1.1663, -1.5693],\n",
       "                      [-0.8482,  0.1421,  0.8436,  1.3406],\n",
       "                      [ 0.8956,  0.5360,  2.2111, -1.9051],\n",
       "                      [ 0.1788,  0.3119, -1.1663, -1.5693],\n",
       "                      [-0.8482,  0.1421,  0.8436,  1.3406],\n",
       "                      [ 0.8956,  0.5360,  2.2111, -1.9051],\n",
       "                      [ 0.1788,  0.3119, -1.1663, -1.5693],\n",
       "                      [-0.8482,  0.1421,  0.8436,  1.3406],\n",
       "                      [ 0.8956,  0.5360,  2.2111, -1.9051],\n",
       "                      [ 0.1788,  0.3119, -1.1663, -1.5693],\n",
       "                      [-0.8482,  0.1421,  0.8436,  1.3406],\n",
       "                      [ 0.8956,  0.5360,  2.2111, -1.9051],\n",
       "                      [ 0.1788,  0.3119, -1.1663, -1.5693],\n",
       "                      [-0.8482,  0.1421,  0.8436,  1.3406],\n",
       "                      [ 0.8956,  0.5360,  2.2111, -1.9051],\n",
       "                      [ 0.1788,  0.3119, -1.1663, -1.5693],\n",
       "                      [-0.8482,  0.1421,  0.8436,  1.3406],\n",
       "                      [ 0.8956,  0.5360,  2.2111, -1.9051],\n",
       "                      [ 0.1788,  0.3119, -1.1663, -1.5693],\n",
       "                      [-0.8482,  0.1421,  0.8436,  1.3406]]),\n",
       "       ),\n",
       "    a: tensor([[-0.7833, -0.1307,  0.9025],\n",
       "               [ 1.3312,  0.7289, -0.4993],\n",
       "               [-0.7833, -0.1307,  0.9025],\n",
       "               [ 1.3312,  0.7289, -0.4993],\n",
       "               [-0.7833, -0.1307,  0.9025],\n",
       "               [ 1.3312,  0.7289, -0.4993],\n",
       "               [-0.7833, -0.1307,  0.9025],\n",
       "               [ 1.3312,  0.7289, -0.4993],\n",
       "               [-0.7833, -0.1307,  0.9025],\n",
       "               [ 1.3312,  0.7289, -0.4993],\n",
       "               [-0.7833, -0.1307,  0.9025],\n",
       "               [ 1.3312,  0.7289, -0.4993],\n",
       "               [-0.7833, -0.1307,  0.9025],\n",
       "               [ 1.3312,  0.7289, -0.4993],\n",
       "               [-0.7833, -0.1307,  0.9025],\n",
       "               [ 1.3312,  0.7289, -0.4993]]),\n",
       ")"
      ]
     },
     "execution_count": 27,
     "metadata": {},
     "output_type": "execute_result"
    }
   ],
   "source": [
    "Batch.cat(batches)"
   ]
  },
  {
   "cell_type": "code",
   "execution_count": 28,
   "id": "18dfb045",
   "metadata": {
    "execution": {
     "iopub.execute_input": "2023-02-25T07:34:32.200975Z",
     "iopub.status.busy": "2023-02-25T07:34:32.199927Z",
     "iopub.status.idle": "2023-02-25T07:34:43.698452Z",
     "shell.execute_reply": "2023-02-25T07:34:43.697766Z"
    }
   },
   "outputs": [
    {
     "name": "stdout",
     "output_type": "stream",
     "text": [
      "142 µs ± 354 ns per loop (mean ± std. dev. of 7 runs, 10,000 loops each)\n"
     ]
    }
   ],
   "source": [
    "%timeit Batch.cat(batches)"
   ]
  },
  {
   "cell_type": "code",
   "execution_count": 29,
   "id": "c6688e51",
   "metadata": {
    "execution": {
     "iopub.execute_input": "2023-02-25T07:34:43.701211Z",
     "iopub.status.busy": "2023-02-25T07:34:43.700880Z",
     "iopub.status.idle": "2023-02-25T07:34:46.160629Z",
     "shell.execute_reply": "2023-02-25T07:34:46.160059Z"
    }
   },
   "outputs": [
    {
     "name": "stdout",
     "output_type": "stream",
     "text": [
      "302 µs ± 2.52 µs per loop (mean ± std. dev. of 7 runs, 1,000 loops each)\n"
     ]
    }
   ],
   "source": [
    "batch = Batch({\n",
    "    'obs': torch.randn(8, 4, 84, 84),\n",
    "    'action': torch.randint(0, 6, size=(8, 1,)),\n",
    "    'reward': torch.rand(8, 1)}\n",
    ")\n",
    "\n",
    "%timeit list(Batch.split(batch, 1, shuffle=False, merge_last=True))"
   ]
  },
  {
   "cell_type": "code",
   "execution_count": null,
   "id": "2539fbd9",
   "metadata": {},
   "outputs": [],
   "source": []
  }
 ],
 "metadata": {
  "kernelspec": {
   "display_name": "Python 3 (ipykernel)",
   "language": "python",
   "name": "python3"
  },
  "language_info": {
   "codemirror_mode": {
    "name": "ipython",
    "version": 3
   },
   "file_extension": ".py",
   "mimetype": "text/x-python",
   "name": "python",
   "nbconvert_exporter": "python",
   "pygments_lexer": "ipython3",
   "version": "3.8.16"
  }
 },
 "nbformat": 4,
 "nbformat_minor": 5
}
