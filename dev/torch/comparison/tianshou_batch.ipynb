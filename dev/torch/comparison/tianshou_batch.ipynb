{
 "cells": [
  {
   "cell_type": "markdown",
   "id": "9d39d946",
   "metadata": {},
   "source": [
    "# Comparison Between TreeValue and Tianshou Batch"
   ]
  },
  {
   "cell_type": "markdown",
   "id": "3c6db2d4",
   "metadata": {},
   "source": [
    "In this section, we will take a look at the feature and performance of the [Tianshou Batch](https://github.com/thu-ml/tianshou) library, which is developed by Tsinghua Machine Learning Group."
   ]
  },
  {
   "cell_type": "markdown",
   "id": "069361b0",
   "metadata": {},
   "source": [
    "Before starting the comparison, let us define some thing."
   ]
  },
  {
   "cell_type": "code",
   "execution_count": 1,
   "id": "06fc8d26",
   "metadata": {
    "execution": {
     "iopub.execute_input": "2023-02-27T12:50:34.893453Z",
     "iopub.status.busy": "2023-02-27T12:50:34.893146Z",
     "iopub.status.idle": "2023-02-27T12:50:35.789832Z",
     "shell.execute_reply": "2023-02-27T12:50:35.788821Z"
    }
   },
   "outputs": [
    {
     "name": "stderr",
     "output_type": "stream",
     "text": [
      "/opt/hostedtoolcache/Python/3.8.16/x64/lib/python3.8/site-packages/tqdm/auto.py:22: TqdmWarning: IProgress not found. Please update jupyter and ipywidgets. See https://ipywidgets.readthedocs.io/en/stable/user_install.html\n",
      "  from .autonotebook import tqdm as notebook_tqdm\n"
     ]
    }
   ],
   "source": [
    "import torch \n",
    "\n",
    "_TREE_DATA_1 = {'a': 1, 'b': 2, 'x': {'c': 3, 'd': 4}}\n",
    "_TREE_DATA_2 = {\n",
    "    'a': torch.randn(2, 3), \n",
    "    'x': {\n",
    "        'c': torch.randn(3, 4)\n",
    "    },\n",
    "}\n",
    "_TREE_DATA_3 = {\n",
    "    'obs': torch.randn(4, 84, 84),\n",
    "    'action': torch.randint(0, 6, size=(1,)),\n",
    "    'reward': torch.rand(1),\n",
    "}"
   ]
  },
  {
   "cell_type": "markdown",
   "id": "83461b25",
   "metadata": {},
   "source": [
    "## Read and Write Operation"
   ]
  },
  {
   "cell_type": "markdown",
   "id": "067b3f73",
   "metadata": {},
   "source": [
    "Reading and writing are the two most common operations in the tree data structure based on the data model (TreeValue and Tianshou Batch both belong to this type), so this section will compare the reading and writing performance of these two libraries."
   ]
  },
  {
   "cell_type": "markdown",
   "id": "5d09a5b7",
   "metadata": {},
   "source": [
    "### TreeValue's Get and Set"
   ]
  },
  {
   "cell_type": "code",
   "execution_count": 2,
   "id": "9519c4bb",
   "metadata": {
    "execution": {
     "iopub.execute_input": "2023-02-27T12:50:35.793757Z",
     "iopub.status.busy": "2023-02-27T12:50:35.793171Z",
     "iopub.status.idle": "2023-02-27T12:50:36.069821Z",
     "shell.execute_reply": "2023-02-27T12:50:36.069167Z"
    }
   },
   "outputs": [],
   "source": [
    "from treevalue import FastTreeValue\n",
    "\n",
    "t = FastTreeValue(_TREE_DATA_2)"
   ]
  },
  {
   "cell_type": "code",
   "execution_count": 3,
   "id": "11c37677",
   "metadata": {
    "execution": {
     "iopub.execute_input": "2023-02-27T12:50:36.073366Z",
     "iopub.status.busy": "2023-02-27T12:50:36.072742Z",
     "iopub.status.idle": "2023-02-27T12:50:36.082880Z",
     "shell.execute_reply": "2023-02-27T12:50:36.082297Z"
    }
   },
   "outputs": [
    {
     "data": {
      "text/plain": [
       "<FastTreeValue 0x7ff020b218b0>\n",
       "├── 'a' --> tensor([[-1.6390, -0.7130, -0.6228],\n",
       "│                   [-0.1865,  1.7135, -1.4252]])\n",
       "└── 'x' --> <FastTreeValue 0x7ff020b217f0>\n",
       "    └── 'c' --> tensor([[-1.7669, -0.9698,  0.7211,  0.6404],\n",
       "                        [ 0.7578,  0.4488, -0.6000,  0.3691],\n",
       "                        [ 0.2290,  0.7236, -0.3947, -0.2187]])"
      ]
     },
     "execution_count": 3,
     "metadata": {},
     "output_type": "execute_result"
    }
   ],
   "source": [
    "t"
   ]
  },
  {
   "cell_type": "code",
   "execution_count": 4,
   "id": "fd70b0b9",
   "metadata": {
    "execution": {
     "iopub.execute_input": "2023-02-27T12:50:36.085480Z",
     "iopub.status.busy": "2023-02-27T12:50:36.085155Z",
     "iopub.status.idle": "2023-02-27T12:50:36.090566Z",
     "shell.execute_reply": "2023-02-27T12:50:36.089998Z"
    }
   },
   "outputs": [
    {
     "data": {
      "text/plain": [
       "tensor([[-1.6390, -0.7130, -0.6228],\n",
       "        [-0.1865,  1.7135, -1.4252]])"
      ]
     },
     "execution_count": 4,
     "metadata": {},
     "output_type": "execute_result"
    }
   ],
   "source": [
    "t.a"
   ]
  },
  {
   "cell_type": "code",
   "execution_count": 5,
   "id": "c18197bd",
   "metadata": {
    "execution": {
     "iopub.execute_input": "2023-02-27T12:50:36.093278Z",
     "iopub.status.busy": "2023-02-27T12:50:36.092807Z",
     "iopub.status.idle": "2023-02-27T12:50:41.470813Z",
     "shell.execute_reply": "2023-02-27T12:50:41.469664Z"
    }
   },
   "outputs": [
    {
     "name": "stdout",
     "output_type": "stream",
     "text": [
      "66.6 ns ± 0.0233 ns per loop (mean ± std. dev. of 7 runs, 10,000,000 loops each)\n"
     ]
    }
   ],
   "source": [
    "%timeit t.a"
   ]
  },
  {
   "cell_type": "code",
   "execution_count": 6,
   "id": "bd52f867",
   "metadata": {
    "execution": {
     "iopub.execute_input": "2023-02-27T12:50:41.473832Z",
     "iopub.status.busy": "2023-02-27T12:50:41.473477Z",
     "iopub.status.idle": "2023-02-27T12:50:41.480773Z",
     "shell.execute_reply": "2023-02-27T12:50:41.480194Z"
    }
   },
   "outputs": [
    {
     "data": {
      "text/plain": [
       "<FastTreeValue 0x7ff020b218b0>\n",
       "├── 'a' --> tensor([[-0.1546,  1.6427, -1.7318],\n",
       "│                   [ 0.0184, -0.4183, -0.3194]])\n",
       "└── 'x' --> <FastTreeValue 0x7ff020b217f0>\n",
       "    └── 'c' --> tensor([[-1.7669, -0.9698,  0.7211,  0.6404],\n",
       "                        [ 0.7578,  0.4488, -0.6000,  0.3691],\n",
       "                        [ 0.2290,  0.7236, -0.3947, -0.2187]])"
      ]
     },
     "execution_count": 6,
     "metadata": {},
     "output_type": "execute_result"
    }
   ],
   "source": [
    "new_value = torch.randn(2, 3)\n",
    "t.a = new_value\n",
    "\n",
    "t"
   ]
  },
  {
   "cell_type": "code",
   "execution_count": 7,
   "id": "bbe04d1c",
   "metadata": {
    "execution": {
     "iopub.execute_input": "2023-02-27T12:50:41.483559Z",
     "iopub.status.busy": "2023-02-27T12:50:41.483057Z",
     "iopub.status.idle": "2023-02-27T12:50:46.385347Z",
     "shell.execute_reply": "2023-02-27T12:50:46.384615Z"
    }
   },
   "outputs": [
    {
     "name": "stdout",
     "output_type": "stream",
     "text": [
      "60.6 ns ± 0.0523 ns per loop (mean ± std. dev. of 7 runs, 10,000,000 loops each)\n"
     ]
    }
   ],
   "source": [
    "%timeit t.a = new_value"
   ]
  },
  {
   "cell_type": "markdown",
   "id": "48c49731",
   "metadata": {},
   "source": [
    "### Tianshou Batch's Get and Set"
   ]
  },
  {
   "cell_type": "code",
   "execution_count": 8,
   "id": "f1bb14c1",
   "metadata": {
    "execution": {
     "iopub.execute_input": "2023-02-27T12:50:46.388582Z",
     "iopub.status.busy": "2023-02-27T12:50:46.388063Z",
     "iopub.status.idle": "2023-02-27T12:50:46.713797Z",
     "shell.execute_reply": "2023-02-27T12:50:46.713123Z"
    }
   },
   "outputs": [],
   "source": [
    "from tianshou.data import Batch\n",
    "\n",
    "b = Batch(**_TREE_DATA_2)"
   ]
  },
  {
   "cell_type": "code",
   "execution_count": 9,
   "id": "cb0777c3",
   "metadata": {
    "execution": {
     "iopub.execute_input": "2023-02-27T12:50:46.717197Z",
     "iopub.status.busy": "2023-02-27T12:50:46.716563Z",
     "iopub.status.idle": "2023-02-27T12:50:46.722440Z",
     "shell.execute_reply": "2023-02-27T12:50:46.721773Z"
    }
   },
   "outputs": [
    {
     "data": {
      "text/plain": [
       "Batch(\n",
       "    a: tensor([[-1.6390, -0.7130, -0.6228],\n",
       "               [-0.1865,  1.7135, -1.4252]]),\n",
       "    x: Batch(\n",
       "           c: tensor([[-1.7669, -0.9698,  0.7211,  0.6404],\n",
       "                      [ 0.7578,  0.4488, -0.6000,  0.3691],\n",
       "                      [ 0.2290,  0.7236, -0.3947, -0.2187]]),\n",
       "       ),\n",
       ")"
      ]
     },
     "execution_count": 9,
     "metadata": {},
     "output_type": "execute_result"
    }
   ],
   "source": [
    "b"
   ]
  },
  {
   "cell_type": "code",
   "execution_count": 10,
   "id": "43ef8ea3",
   "metadata": {
    "execution": {
     "iopub.execute_input": "2023-02-27T12:50:46.725366Z",
     "iopub.status.busy": "2023-02-27T12:50:46.724885Z",
     "iopub.status.idle": "2023-02-27T12:50:46.730433Z",
     "shell.execute_reply": "2023-02-27T12:50:46.729859Z"
    }
   },
   "outputs": [
    {
     "data": {
      "text/plain": [
       "tensor([[-1.6390, -0.7130, -0.6228],\n",
       "        [-0.1865,  1.7135, -1.4252]])"
      ]
     },
     "execution_count": 10,
     "metadata": {},
     "output_type": "execute_result"
    }
   ],
   "source": [
    "b.a"
   ]
  },
  {
   "cell_type": "code",
   "execution_count": 11,
   "id": "b785ab72",
   "metadata": {
    "execution": {
     "iopub.execute_input": "2023-02-27T12:50:46.732901Z",
     "iopub.status.busy": "2023-02-27T12:50:46.732576Z",
     "iopub.status.idle": "2023-02-27T12:50:51.110928Z",
     "shell.execute_reply": "2023-02-27T12:50:51.110201Z"
    }
   },
   "outputs": [
    {
     "name": "stdout",
     "output_type": "stream",
     "text": [
      "53.8 ns ± 0.0353 ns per loop (mean ± std. dev. of 7 runs, 10,000,000 loops each)\n"
     ]
    }
   ],
   "source": [
    "%timeit b.a"
   ]
  },
  {
   "cell_type": "code",
   "execution_count": 12,
   "id": "ad54dc69",
   "metadata": {
    "execution": {
     "iopub.execute_input": "2023-02-27T12:50:51.114126Z",
     "iopub.status.busy": "2023-02-27T12:50:51.113563Z",
     "iopub.status.idle": "2023-02-27T12:50:51.120020Z",
     "shell.execute_reply": "2023-02-27T12:50:51.119432Z"
    }
   },
   "outputs": [
    {
     "data": {
      "text/plain": [
       "Batch(\n",
       "    a: tensor([[-0.1776, -1.5274, -1.2549],\n",
       "               [-0.1396, -0.4943, -0.6728]]),\n",
       "    x: Batch(\n",
       "           c: tensor([[-1.7669, -0.9698,  0.7211,  0.6404],\n",
       "                      [ 0.7578,  0.4488, -0.6000,  0.3691],\n",
       "                      [ 0.2290,  0.7236, -0.3947, -0.2187]]),\n",
       "       ),\n",
       ")"
      ]
     },
     "execution_count": 12,
     "metadata": {},
     "output_type": "execute_result"
    }
   ],
   "source": [
    "new_value = torch.randn(2, 3)\n",
    "b.a = new_value\n",
    "\n",
    "b"
   ]
  },
  {
   "cell_type": "code",
   "execution_count": 13,
   "id": "29b1d0bf",
   "metadata": {
    "execution": {
     "iopub.execute_input": "2023-02-27T12:50:51.122418Z",
     "iopub.status.busy": "2023-02-27T12:50:51.122079Z",
     "iopub.status.idle": "2023-02-27T12:50:55.027560Z",
     "shell.execute_reply": "2023-02-27T12:50:55.026777Z"
    }
   },
   "outputs": [
    {
     "name": "stdout",
     "output_type": "stream",
     "text": [
      "481 ns ± 0.112 ns per loop (mean ± std. dev. of 7 runs, 1,000,000 loops each)\n"
     ]
    }
   ],
   "source": [
    "%timeit b.a = new_value"
   ]
  },
  {
   "cell_type": "markdown",
   "id": "b61ad1d0",
   "metadata": {},
   "source": [
    "## Initialization"
   ]
  },
  {
   "cell_type": "markdown",
   "id": "d70f0d54",
   "metadata": {},
   "source": [
    "### TreeValue's Initialization"
   ]
  },
  {
   "cell_type": "code",
   "execution_count": 14,
   "id": "d32a679b",
   "metadata": {
    "execution": {
     "iopub.execute_input": "2023-02-27T12:50:55.030549Z",
     "iopub.status.busy": "2023-02-27T12:50:55.030007Z",
     "iopub.status.idle": "2023-02-27T12:51:03.001058Z",
     "shell.execute_reply": "2023-02-27T12:51:03.000385Z"
    }
   },
   "outputs": [
    {
     "name": "stdout",
     "output_type": "stream",
     "text": [
      "984 ns ± 17.6 ns per loop (mean ± std. dev. of 7 runs, 1,000,000 loops each)\n"
     ]
    }
   ],
   "source": [
    "%timeit FastTreeValue(_TREE_DATA_1)"
   ]
  },
  {
   "cell_type": "markdown",
   "id": "24f3707b",
   "metadata": {},
   "source": [
    "### Tianshou Batch's Initialization"
   ]
  },
  {
   "cell_type": "code",
   "execution_count": 15,
   "id": "ac3958df",
   "metadata": {
    "execution": {
     "iopub.execute_input": "2023-02-27T12:51:03.003832Z",
     "iopub.status.busy": "2023-02-27T12:51:03.003485Z",
     "iopub.status.idle": "2023-02-27T12:51:12.300171Z",
     "shell.execute_reply": "2023-02-27T12:51:12.299436Z"
    }
   },
   "outputs": [
    {
     "name": "stdout",
     "output_type": "stream",
     "text": [
      "11.5 µs ± 24 ns per loop (mean ± std. dev. of 7 runs, 100,000 loops each)\n"
     ]
    }
   ],
   "source": [
    "%timeit Batch(**_TREE_DATA_1)"
   ]
  },
  {
   "cell_type": "markdown",
   "id": "1ab82e2d",
   "metadata": {},
   "source": [
    "## Deep Copy Operation"
   ]
  },
  {
   "cell_type": "code",
   "execution_count": 16,
   "id": "210a9442",
   "metadata": {
    "execution": {
     "iopub.execute_input": "2023-02-27T12:51:12.303244Z",
     "iopub.status.busy": "2023-02-27T12:51:12.302897Z",
     "iopub.status.idle": "2023-02-27T12:51:12.306397Z",
     "shell.execute_reply": "2023-02-27T12:51:12.305786Z"
    }
   },
   "outputs": [],
   "source": [
    "import copy"
   ]
  },
  {
   "cell_type": "markdown",
   "id": "5a736274",
   "metadata": {},
   "source": [
    "### Deep Copy of TreeValue"
   ]
  },
  {
   "cell_type": "code",
   "execution_count": 17,
   "id": "f9bcadd6",
   "metadata": {
    "execution": {
     "iopub.execute_input": "2023-02-27T12:51:12.309021Z",
     "iopub.status.busy": "2023-02-27T12:51:12.308686Z",
     "iopub.status.idle": "2023-02-27T12:51:23.633983Z",
     "shell.execute_reply": "2023-02-27T12:51:23.633417Z"
    }
   },
   "outputs": [
    {
     "name": "stdout",
     "output_type": "stream",
     "text": [
      "139 µs ± 220 ns per loop (mean ± std. dev. of 7 runs, 10,000 loops each)\n"
     ]
    }
   ],
   "source": [
    "t3 = FastTreeValue(_TREE_DATA_3)\n",
    "%timeit copy.deepcopy(t3)"
   ]
  },
  {
   "cell_type": "markdown",
   "id": "bf8be7ea",
   "metadata": {},
   "source": [
    "### Deep Copy of Tianshou Batch"
   ]
  },
  {
   "cell_type": "code",
   "execution_count": 18,
   "id": "91998e6f",
   "metadata": {
    "execution": {
     "iopub.execute_input": "2023-02-27T12:51:23.636597Z",
     "iopub.status.busy": "2023-02-27T12:51:23.636137Z",
     "iopub.status.idle": "2023-02-27T12:51:35.232238Z",
     "shell.execute_reply": "2023-02-27T12:51:35.231655Z"
    }
   },
   "outputs": [
    {
     "name": "stdout",
     "output_type": "stream",
     "text": [
      "143 µs ± 133 ns per loop (mean ± std. dev. of 7 runs, 10,000 loops each)\n"
     ]
    }
   ],
   "source": [
    "b3 = Batch(**_TREE_DATA_3)\n",
    "%timeit copy.deepcopy(b3)"
   ]
  },
  {
   "cell_type": "markdown",
   "id": "223162fb",
   "metadata": {},
   "source": [
    "## Stack, Concat and Split Operation"
   ]
  },
  {
   "cell_type": "markdown",
   "id": "85fa4a73",
   "metadata": {},
   "source": [
    "### Performance of TreeValue"
   ]
  },
  {
   "cell_type": "code",
   "execution_count": 19,
   "id": "a0c2b697",
   "metadata": {
    "execution": {
     "iopub.execute_input": "2023-02-27T12:51:35.235035Z",
     "iopub.status.busy": "2023-02-27T12:51:35.234566Z",
     "iopub.status.idle": "2023-02-27T12:51:35.237973Z",
     "shell.execute_reply": "2023-02-27T12:51:35.237452Z"
    }
   },
   "outputs": [],
   "source": [
    "trees = [FastTreeValue(_TREE_DATA_2) for _ in range(8)]"
   ]
  },
  {
   "cell_type": "code",
   "execution_count": 20,
   "id": "017ea5a5",
   "metadata": {
    "execution": {
     "iopub.execute_input": "2023-02-27T12:51:35.242492Z",
     "iopub.status.busy": "2023-02-27T12:51:35.241367Z",
     "iopub.status.idle": "2023-02-27T12:51:35.248756Z",
     "shell.execute_reply": "2023-02-27T12:51:35.248245Z"
    }
   },
   "outputs": [
    {
     "data": {
      "text/plain": [
       "<FastTreeValue 0x7ff020b18bb0>\n",
       "├── 'a' --> tensor([[[-1.6390, -0.7130, -0.6228],\n",
       "│                    [-0.1865,  1.7135, -1.4252]],\n",
       "│           \n",
       "│                   [[-1.6390, -0.7130, -0.6228],\n",
       "│                    [-0.1865,  1.7135, -1.4252]],\n",
       "│           \n",
       "│                   [[-1.6390, -0.7130, -0.6228],\n",
       "│                    [-0.1865,  1.7135, -1.4252]],\n",
       "│           \n",
       "│                   [[-1.6390, -0.7130, -0.6228],\n",
       "│                    [-0.1865,  1.7135, -1.4252]],\n",
       "│           \n",
       "│                   [[-1.6390, -0.7130, -0.6228],\n",
       "│                    [-0.1865,  1.7135, -1.4252]],\n",
       "│           \n",
       "│                   [[-1.6390, -0.7130, -0.6228],\n",
       "│                    [-0.1865,  1.7135, -1.4252]],\n",
       "│           \n",
       "│                   [[-1.6390, -0.7130, -0.6228],\n",
       "│                    [-0.1865,  1.7135, -1.4252]],\n",
       "│           \n",
       "│                   [[-1.6390, -0.7130, -0.6228],\n",
       "│                    [-0.1865,  1.7135, -1.4252]]])\n",
       "└── 'x' --> <FastTreeValue 0x7ff020b18c40>\n",
       "    └── 'c' --> tensor([[[-1.7669, -0.9698,  0.7211,  0.6404],\n",
       "                         [ 0.7578,  0.4488, -0.6000,  0.3691],\n",
       "                         [ 0.2290,  0.7236, -0.3947, -0.2187]],\n",
       "                \n",
       "                        [[-1.7669, -0.9698,  0.7211,  0.6404],\n",
       "                         [ 0.7578,  0.4488, -0.6000,  0.3691],\n",
       "                         [ 0.2290,  0.7236, -0.3947, -0.2187]],\n",
       "                \n",
       "                        [[-1.7669, -0.9698,  0.7211,  0.6404],\n",
       "                         [ 0.7578,  0.4488, -0.6000,  0.3691],\n",
       "                         [ 0.2290,  0.7236, -0.3947, -0.2187]],\n",
       "                \n",
       "                        [[-1.7669, -0.9698,  0.7211,  0.6404],\n",
       "                         [ 0.7578,  0.4488, -0.6000,  0.3691],\n",
       "                         [ 0.2290,  0.7236, -0.3947, -0.2187]],\n",
       "                \n",
       "                        [[-1.7669, -0.9698,  0.7211,  0.6404],\n",
       "                         [ 0.7578,  0.4488, -0.6000,  0.3691],\n",
       "                         [ 0.2290,  0.7236, -0.3947, -0.2187]],\n",
       "                \n",
       "                        [[-1.7669, -0.9698,  0.7211,  0.6404],\n",
       "                         [ 0.7578,  0.4488, -0.6000,  0.3691],\n",
       "                         [ 0.2290,  0.7236, -0.3947, -0.2187]],\n",
       "                \n",
       "                        [[-1.7669, -0.9698,  0.7211,  0.6404],\n",
       "                         [ 0.7578,  0.4488, -0.6000,  0.3691],\n",
       "                         [ 0.2290,  0.7236, -0.3947, -0.2187]],\n",
       "                \n",
       "                        [[-1.7669, -0.9698,  0.7211,  0.6404],\n",
       "                         [ 0.7578,  0.4488, -0.6000,  0.3691],\n",
       "                         [ 0.2290,  0.7236, -0.3947, -0.2187]]])"
      ]
     },
     "execution_count": 20,
     "metadata": {},
     "output_type": "execute_result"
    }
   ],
   "source": [
    "t_stack = FastTreeValue.func(subside=True)(torch.stack)\n",
    "\n",
    "t_stack(trees)"
   ]
  },
  {
   "cell_type": "code",
   "execution_count": 21,
   "id": "f8b3f415",
   "metadata": {
    "execution": {
     "iopub.execute_input": "2023-02-27T12:51:35.251146Z",
     "iopub.status.busy": "2023-02-27T12:51:35.250595Z",
     "iopub.status.idle": "2023-02-27T12:51:37.870428Z",
     "shell.execute_reply": "2023-02-27T12:51:37.869694Z"
    }
   },
   "outputs": [
    {
     "name": "stdout",
     "output_type": "stream",
     "text": [
      "32.2 µs ± 81.2 ns per loop (mean ± std. dev. of 7 runs, 10,000 loops each)\n"
     ]
    }
   ],
   "source": [
    "%timeit t_stack(trees)"
   ]
  },
  {
   "cell_type": "code",
   "execution_count": 22,
   "id": "94b56771",
   "metadata": {
    "execution": {
     "iopub.execute_input": "2023-02-27T12:51:37.873244Z",
     "iopub.status.busy": "2023-02-27T12:51:37.872699Z",
     "iopub.status.idle": "2023-02-27T12:51:37.879734Z",
     "shell.execute_reply": "2023-02-27T12:51:37.879114Z"
    }
   },
   "outputs": [
    {
     "data": {
      "text/plain": [
       "<FastTreeValue 0x7ff020ae0280>\n",
       "├── 'a' --> tensor([[-1.6390, -0.7130, -0.6228],\n",
       "│                   [-0.1865,  1.7135, -1.4252],\n",
       "│                   [-1.6390, -0.7130, -0.6228],\n",
       "│                   [-0.1865,  1.7135, -1.4252],\n",
       "│                   [-1.6390, -0.7130, -0.6228],\n",
       "│                   [-0.1865,  1.7135, -1.4252],\n",
       "│                   [-1.6390, -0.7130, -0.6228],\n",
       "│                   [-0.1865,  1.7135, -1.4252],\n",
       "│                   [-1.6390, -0.7130, -0.6228],\n",
       "│                   [-0.1865,  1.7135, -1.4252],\n",
       "│                   [-1.6390, -0.7130, -0.6228],\n",
       "│                   [-0.1865,  1.7135, -1.4252],\n",
       "│                   [-1.6390, -0.7130, -0.6228],\n",
       "│                   [-0.1865,  1.7135, -1.4252],\n",
       "│                   [-1.6390, -0.7130, -0.6228],\n",
       "│                   [-0.1865,  1.7135, -1.4252]])\n",
       "└── 'x' --> <FastTreeValue 0x7feff80372b0>\n",
       "    └── 'c' --> tensor([[-1.7669, -0.9698,  0.7211,  0.6404],\n",
       "                        [ 0.7578,  0.4488, -0.6000,  0.3691],\n",
       "                        [ 0.2290,  0.7236, -0.3947, -0.2187],\n",
       "                        [-1.7669, -0.9698,  0.7211,  0.6404],\n",
       "                        [ 0.7578,  0.4488, -0.6000,  0.3691],\n",
       "                        [ 0.2290,  0.7236, -0.3947, -0.2187],\n",
       "                        [-1.7669, -0.9698,  0.7211,  0.6404],\n",
       "                        [ 0.7578,  0.4488, -0.6000,  0.3691],\n",
       "                        [ 0.2290,  0.7236, -0.3947, -0.2187],\n",
       "                        [-1.7669, -0.9698,  0.7211,  0.6404],\n",
       "                        [ 0.7578,  0.4488, -0.6000,  0.3691],\n",
       "                        [ 0.2290,  0.7236, -0.3947, -0.2187],\n",
       "                        [-1.7669, -0.9698,  0.7211,  0.6404],\n",
       "                        [ 0.7578,  0.4488, -0.6000,  0.3691],\n",
       "                        [ 0.2290,  0.7236, -0.3947, -0.2187],\n",
       "                        [-1.7669, -0.9698,  0.7211,  0.6404],\n",
       "                        [ 0.7578,  0.4488, -0.6000,  0.3691],\n",
       "                        [ 0.2290,  0.7236, -0.3947, -0.2187],\n",
       "                        [-1.7669, -0.9698,  0.7211,  0.6404],\n",
       "                        [ 0.7578,  0.4488, -0.6000,  0.3691],\n",
       "                        [ 0.2290,  0.7236, -0.3947, -0.2187],\n",
       "                        [-1.7669, -0.9698,  0.7211,  0.6404],\n",
       "                        [ 0.7578,  0.4488, -0.6000,  0.3691],\n",
       "                        [ 0.2290,  0.7236, -0.3947, -0.2187]])"
      ]
     },
     "execution_count": 22,
     "metadata": {},
     "output_type": "execute_result"
    }
   ],
   "source": [
    "t_cat = FastTreeValue.func(subside=True)(torch.cat)\n",
    "\n",
    "t_cat(trees)"
   ]
  },
  {
   "cell_type": "code",
   "execution_count": 23,
   "id": "5e9c06a6",
   "metadata": {
    "execution": {
     "iopub.execute_input": "2023-02-27T12:51:37.882176Z",
     "iopub.status.busy": "2023-02-27T12:51:37.881828Z",
     "iopub.status.idle": "2023-02-27T12:51:40.347382Z",
     "shell.execute_reply": "2023-02-27T12:51:40.346628Z"
    }
   },
   "outputs": [
    {
     "name": "stdout",
     "output_type": "stream",
     "text": [
      "30.3 µs ± 43.6 ns per loop (mean ± std. dev. of 7 runs, 10,000 loops each)\n"
     ]
    }
   ],
   "source": [
    "%timeit t_cat(trees)"
   ]
  },
  {
   "cell_type": "code",
   "execution_count": 24,
   "id": "a3ab5c8f",
   "metadata": {
    "execution": {
     "iopub.execute_input": "2023-02-27T12:51:40.350238Z",
     "iopub.status.busy": "2023-02-27T12:51:40.349883Z",
     "iopub.status.idle": "2023-02-27T12:51:45.268475Z",
     "shell.execute_reply": "2023-02-27T12:51:45.267727Z"
    }
   },
   "outputs": [
    {
     "name": "stdout",
     "output_type": "stream",
     "text": [
      "60.5 µs ± 165 ns per loop (mean ± std. dev. of 7 runs, 10,000 loops each)\n"
     ]
    }
   ],
   "source": [
    "t_split = FastTreeValue.func(rise=True)(torch.split)\n",
    "tree = FastTreeValue({\n",
    "    'obs': torch.randn(8, 4, 84, 84),\n",
    "    'action': torch.randint(0, 6, size=(8, 1,)),\n",
    "    'reward': torch.rand(8, 1),\n",
    "})\n",
    "\n",
    "%timeit t_split(tree, 1)"
   ]
  },
  {
   "cell_type": "markdown",
   "id": "31c3ec0b",
   "metadata": {},
   "source": [
    "### Performance of Tianshou Batch"
   ]
  },
  {
   "cell_type": "code",
   "execution_count": 25,
   "id": "9ead828a",
   "metadata": {
    "execution": {
     "iopub.execute_input": "2023-02-27T12:51:45.271499Z",
     "iopub.status.busy": "2023-02-27T12:51:45.271153Z",
     "iopub.status.idle": "2023-02-27T12:51:45.279060Z",
     "shell.execute_reply": "2023-02-27T12:51:45.278485Z"
    }
   },
   "outputs": [
    {
     "data": {
      "text/plain": [
       "Batch(\n",
       "    a: tensor([[[-1.6390, -0.7130, -0.6228],\n",
       "                [-0.1865,  1.7135, -1.4252]],\n",
       "       \n",
       "               [[-1.6390, -0.7130, -0.6228],\n",
       "                [-0.1865,  1.7135, -1.4252]],\n",
       "       \n",
       "               [[-1.6390, -0.7130, -0.6228],\n",
       "                [-0.1865,  1.7135, -1.4252]],\n",
       "       \n",
       "               [[-1.6390, -0.7130, -0.6228],\n",
       "                [-0.1865,  1.7135, -1.4252]],\n",
       "       \n",
       "               [[-1.6390, -0.7130, -0.6228],\n",
       "                [-0.1865,  1.7135, -1.4252]],\n",
       "       \n",
       "               [[-1.6390, -0.7130, -0.6228],\n",
       "                [-0.1865,  1.7135, -1.4252]],\n",
       "       \n",
       "               [[-1.6390, -0.7130, -0.6228],\n",
       "                [-0.1865,  1.7135, -1.4252]],\n",
       "       \n",
       "               [[-1.6390, -0.7130, -0.6228],\n",
       "                [-0.1865,  1.7135, -1.4252]]]),\n",
       "    x: Batch(\n",
       "           c: tensor([[[-1.7669, -0.9698,  0.7211,  0.6404],\n",
       "                       [ 0.7578,  0.4488, -0.6000,  0.3691],\n",
       "                       [ 0.2290,  0.7236, -0.3947, -0.2187]],\n",
       "              \n",
       "                      [[-1.7669, -0.9698,  0.7211,  0.6404],\n",
       "                       [ 0.7578,  0.4488, -0.6000,  0.3691],\n",
       "                       [ 0.2290,  0.7236, -0.3947, -0.2187]],\n",
       "              \n",
       "                      [[-1.7669, -0.9698,  0.7211,  0.6404],\n",
       "                       [ 0.7578,  0.4488, -0.6000,  0.3691],\n",
       "                       [ 0.2290,  0.7236, -0.3947, -0.2187]],\n",
       "              \n",
       "                      [[-1.7669, -0.9698,  0.7211,  0.6404],\n",
       "                       [ 0.7578,  0.4488, -0.6000,  0.3691],\n",
       "                       [ 0.2290,  0.7236, -0.3947, -0.2187]],\n",
       "              \n",
       "                      [[-1.7669, -0.9698,  0.7211,  0.6404],\n",
       "                       [ 0.7578,  0.4488, -0.6000,  0.3691],\n",
       "                       [ 0.2290,  0.7236, -0.3947, -0.2187]],\n",
       "              \n",
       "                      [[-1.7669, -0.9698,  0.7211,  0.6404],\n",
       "                       [ 0.7578,  0.4488, -0.6000,  0.3691],\n",
       "                       [ 0.2290,  0.7236, -0.3947, -0.2187]],\n",
       "              \n",
       "                      [[-1.7669, -0.9698,  0.7211,  0.6404],\n",
       "                       [ 0.7578,  0.4488, -0.6000,  0.3691],\n",
       "                       [ 0.2290,  0.7236, -0.3947, -0.2187]],\n",
       "              \n",
       "                      [[-1.7669, -0.9698,  0.7211,  0.6404],\n",
       "                       [ 0.7578,  0.4488, -0.6000,  0.3691],\n",
       "                       [ 0.2290,  0.7236, -0.3947, -0.2187]]]),\n",
       "       ),\n",
       ")"
      ]
     },
     "execution_count": 25,
     "metadata": {},
     "output_type": "execute_result"
    }
   ],
   "source": [
    "batches = [Batch(**_TREE_DATA_2) for _ in range(8)]\n",
    "\n",
    "Batch.stack(batches)"
   ]
  },
  {
   "cell_type": "code",
   "execution_count": 26,
   "id": "ec9037a3",
   "metadata": {
    "execution": {
     "iopub.execute_input": "2023-02-27T12:51:45.281739Z",
     "iopub.status.busy": "2023-02-27T12:51:45.281390Z",
     "iopub.status.idle": "2023-02-27T12:51:51.726673Z",
     "shell.execute_reply": "2023-02-27T12:51:51.725924Z"
    }
   },
   "outputs": [
    {
     "name": "stdout",
     "output_type": "stream",
     "text": [
      "79.3 µs ± 132 ns per loop (mean ± std. dev. of 7 runs, 10,000 loops each)\n"
     ]
    }
   ],
   "source": [
    "%timeit Batch.stack(batches)"
   ]
  },
  {
   "cell_type": "code",
   "execution_count": 27,
   "id": "cb8ab77e",
   "metadata": {
    "execution": {
     "iopub.execute_input": "2023-02-27T12:51:51.729476Z",
     "iopub.status.busy": "2023-02-27T12:51:51.729132Z",
     "iopub.status.idle": "2023-02-27T12:51:51.736973Z",
     "shell.execute_reply": "2023-02-27T12:51:51.735994Z"
    }
   },
   "outputs": [
    {
     "data": {
      "text/plain": [
       "Batch(\n",
       "    a: tensor([[-1.6390, -0.7130, -0.6228],\n",
       "               [-0.1865,  1.7135, -1.4252],\n",
       "               [-1.6390, -0.7130, -0.6228],\n",
       "               [-0.1865,  1.7135, -1.4252],\n",
       "               [-1.6390, -0.7130, -0.6228],\n",
       "               [-0.1865,  1.7135, -1.4252],\n",
       "               [-1.6390, -0.7130, -0.6228],\n",
       "               [-0.1865,  1.7135, -1.4252],\n",
       "               [-1.6390, -0.7130, -0.6228],\n",
       "               [-0.1865,  1.7135, -1.4252],\n",
       "               [-1.6390, -0.7130, -0.6228],\n",
       "               [-0.1865,  1.7135, -1.4252],\n",
       "               [-1.6390, -0.7130, -0.6228],\n",
       "               [-0.1865,  1.7135, -1.4252],\n",
       "               [-1.6390, -0.7130, -0.6228],\n",
       "               [-0.1865,  1.7135, -1.4252]]),\n",
       "    x: Batch(\n",
       "           c: tensor([[-1.7669, -0.9698,  0.7211,  0.6404],\n",
       "                      [ 0.7578,  0.4488, -0.6000,  0.3691],\n",
       "                      [ 0.2290,  0.7236, -0.3947, -0.2187],\n",
       "                      [-1.7669, -0.9698,  0.7211,  0.6404],\n",
       "                      [ 0.7578,  0.4488, -0.6000,  0.3691],\n",
       "                      [ 0.2290,  0.7236, -0.3947, -0.2187],\n",
       "                      [-1.7669, -0.9698,  0.7211,  0.6404],\n",
       "                      [ 0.7578,  0.4488, -0.6000,  0.3691],\n",
       "                      [ 0.2290,  0.7236, -0.3947, -0.2187],\n",
       "                      [-1.7669, -0.9698,  0.7211,  0.6404],\n",
       "                      [ 0.7578,  0.4488, -0.6000,  0.3691],\n",
       "                      [ 0.2290,  0.7236, -0.3947, -0.2187],\n",
       "                      [-1.7669, -0.9698,  0.7211,  0.6404],\n",
       "                      [ 0.7578,  0.4488, -0.6000,  0.3691],\n",
       "                      [ 0.2290,  0.7236, -0.3947, -0.2187],\n",
       "                      [-1.7669, -0.9698,  0.7211,  0.6404],\n",
       "                      [ 0.7578,  0.4488, -0.6000,  0.3691],\n",
       "                      [ 0.2290,  0.7236, -0.3947, -0.2187],\n",
       "                      [-1.7669, -0.9698,  0.7211,  0.6404],\n",
       "                      [ 0.7578,  0.4488, -0.6000,  0.3691],\n",
       "                      [ 0.2290,  0.7236, -0.3947, -0.2187],\n",
       "                      [-1.7669, -0.9698,  0.7211,  0.6404],\n",
       "                      [ 0.7578,  0.4488, -0.6000,  0.3691],\n",
       "                      [ 0.2290,  0.7236, -0.3947, -0.2187]]),\n",
       "       ),\n",
       ")"
      ]
     },
     "execution_count": 27,
     "metadata": {},
     "output_type": "execute_result"
    }
   ],
   "source": [
    "Batch.cat(batches)"
   ]
  },
  {
   "cell_type": "code",
   "execution_count": 28,
   "id": "18dfb045",
   "metadata": {
    "execution": {
     "iopub.execute_input": "2023-02-27T12:51:51.739397Z",
     "iopub.status.busy": "2023-02-27T12:51:51.739070Z",
     "iopub.status.idle": "2023-02-27T12:52:03.388008Z",
     "shell.execute_reply": "2023-02-27T12:52:03.387352Z"
    }
   },
   "outputs": [
    {
     "name": "stdout",
     "output_type": "stream",
     "text": [
      "143 µs ± 282 ns per loop (mean ± std. dev. of 7 runs, 10,000 loops each)\n"
     ]
    }
   ],
   "source": [
    "%timeit Batch.cat(batches)"
   ]
  },
  {
   "cell_type": "code",
   "execution_count": 29,
   "id": "c6688e51",
   "metadata": {
    "execution": {
     "iopub.execute_input": "2023-02-27T12:52:03.390636Z",
     "iopub.status.busy": "2023-02-27T12:52:03.390278Z",
     "iopub.status.idle": "2023-02-27T12:52:05.929953Z",
     "shell.execute_reply": "2023-02-27T12:52:05.929315Z"
    }
   },
   "outputs": [
    {
     "name": "stdout",
     "output_type": "stream",
     "text": [
      "307 µs ± 2.37 µs per loop (mean ± std. dev. of 7 runs, 1,000 loops each)\n"
     ]
    }
   ],
   "source": [
    "batch = Batch({\n",
    "    'obs': torch.randn(8, 4, 84, 84),\n",
    "    'action': torch.randint(0, 6, size=(8, 1,)),\n",
    "    'reward': torch.rand(8, 1)}\n",
    ")\n",
    "\n",
    "%timeit list(Batch.split(batch, 1, shuffle=False, merge_last=True))"
   ]
  },
  {
   "cell_type": "code",
   "execution_count": null,
   "id": "2539fbd9",
   "metadata": {},
   "outputs": [],
   "source": []
  }
 ],
 "metadata": {
  "kernelspec": {
   "display_name": "Python 3 (ipykernel)",
   "language": "python",
   "name": "python3"
  },
  "language_info": {
   "codemirror_mode": {
    "name": "ipython",
    "version": 3
   },
   "file_extension": ".py",
   "mimetype": "text/x-python",
   "name": "python",
   "nbconvert_exporter": "python",
   "pygments_lexer": "ipython3",
   "version": "3.8.16"
  }
 },
 "nbformat": 4,
 "nbformat_minor": 5
}
