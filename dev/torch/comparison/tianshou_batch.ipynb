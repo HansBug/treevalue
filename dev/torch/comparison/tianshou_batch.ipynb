{
 "cells": [
  {
   "cell_type": "markdown",
   "id": "9d39d946",
   "metadata": {},
   "source": [
    "# Comparison Between TreeValue and Tianshou Batch"
   ]
  },
  {
   "cell_type": "markdown",
   "id": "3c6db2d4",
   "metadata": {},
   "source": [
    "In this section, we will take a look at the feature and performance of the [Tianshou Batch](https://github.com/thu-ml/tianshou) library, which is developed by Tsinghua Machine Learning Group."
   ]
  },
  {
   "cell_type": "markdown",
   "id": "069361b0",
   "metadata": {},
   "source": [
    "Before starting the comparison, let us define some thing."
   ]
  },
  {
   "cell_type": "code",
   "execution_count": 1,
   "id": "06fc8d26",
   "metadata": {
    "execution": {
     "iopub.execute_input": "2023-02-27T11:59:42.765807Z",
     "iopub.status.busy": "2023-02-27T11:59:42.765559Z",
     "iopub.status.idle": "2023-02-27T11:59:43.738204Z",
     "shell.execute_reply": "2023-02-27T11:59:43.737399Z"
    }
   },
   "outputs": [
    {
     "name": "stderr",
     "output_type": "stream",
     "text": [
      "/opt/hostedtoolcache/Python/3.8.16/x64/lib/python3.8/site-packages/tqdm/auto.py:22: TqdmWarning: IProgress not found. Please update jupyter and ipywidgets. See https://ipywidgets.readthedocs.io/en/stable/user_install.html\n",
      "  from .autonotebook import tqdm as notebook_tqdm\n"
     ]
    }
   ],
   "source": [
    "import torch \n",
    "\n",
    "_TREE_DATA_1 = {'a': 1, 'b': 2, 'x': {'c': 3, 'd': 4}}\n",
    "_TREE_DATA_2 = {\n",
    "    'a': torch.randn(2, 3), \n",
    "    'x': {\n",
    "        'c': torch.randn(3, 4)\n",
    "    },\n",
    "}\n",
    "_TREE_DATA_3 = {\n",
    "    'obs': torch.randn(4, 84, 84),\n",
    "    'action': torch.randint(0, 6, size=(1,)),\n",
    "    'reward': torch.rand(1),\n",
    "}"
   ]
  },
  {
   "cell_type": "markdown",
   "id": "83461b25",
   "metadata": {},
   "source": [
    "## Read and Write Operation"
   ]
  },
  {
   "cell_type": "markdown",
   "id": "067b3f73",
   "metadata": {},
   "source": [
    "Reading and writing are the two most common operations in the tree data structure based on the data model (TreeValue and Tianshou Batch both belong to this type), so this section will compare the reading and writing performance of these two libraries."
   ]
  },
  {
   "cell_type": "markdown",
   "id": "5d09a5b7",
   "metadata": {},
   "source": [
    "### TreeValue's Get and Set"
   ]
  },
  {
   "cell_type": "code",
   "execution_count": 2,
   "id": "9519c4bb",
   "metadata": {
    "execution": {
     "iopub.execute_input": "2023-02-27T11:59:43.742217Z",
     "iopub.status.busy": "2023-02-27T11:59:43.741748Z",
     "iopub.status.idle": "2023-02-27T11:59:44.031106Z",
     "shell.execute_reply": "2023-02-27T11:59:44.030194Z"
    }
   },
   "outputs": [],
   "source": [
    "from treevalue import FastTreeValue\n",
    "\n",
    "t = FastTreeValue(_TREE_DATA_2)"
   ]
  },
  {
   "cell_type": "code",
   "execution_count": 3,
   "id": "11c37677",
   "metadata": {
    "execution": {
     "iopub.execute_input": "2023-02-27T11:59:44.035028Z",
     "iopub.status.busy": "2023-02-27T11:59:44.034495Z",
     "iopub.status.idle": "2023-02-27T11:59:44.044571Z",
     "shell.execute_reply": "2023-02-27T11:59:44.043951Z"
    }
   },
   "outputs": [
    {
     "data": {
      "text/plain": [
       "<FastTreeValue 0x7f9fe4f8dfa0>\n",
       "├── 'a' --> tensor([[-0.4399,  1.0216, -0.5115],\n",
       "│                   [ 0.4207,  1.9279, -1.0424]])\n",
       "└── 'x' --> <FastTreeValue 0x7f9fe4f8df70>\n",
       "    └── 'c' --> tensor([[-0.2820, -0.7833,  1.8021, -1.5923],\n",
       "                        [-0.1458,  0.1677,  0.5882,  0.9782],\n",
       "                        [ 1.5681,  0.5234,  1.4312, -0.3264]])"
      ]
     },
     "execution_count": 3,
     "metadata": {},
     "output_type": "execute_result"
    }
   ],
   "source": [
    "t"
   ]
  },
  {
   "cell_type": "code",
   "execution_count": 4,
   "id": "fd70b0b9",
   "metadata": {
    "execution": {
     "iopub.execute_input": "2023-02-27T11:59:44.047565Z",
     "iopub.status.busy": "2023-02-27T11:59:44.047022Z",
     "iopub.status.idle": "2023-02-27T11:59:44.053139Z",
     "shell.execute_reply": "2023-02-27T11:59:44.052535Z"
    }
   },
   "outputs": [
    {
     "data": {
      "text/plain": [
       "tensor([[-0.4399,  1.0216, -0.5115],\n",
       "        [ 0.4207,  1.9279, -1.0424]])"
      ]
     },
     "execution_count": 4,
     "metadata": {},
     "output_type": "execute_result"
    }
   ],
   "source": [
    "t.a"
   ]
  },
  {
   "cell_type": "code",
   "execution_count": 5,
   "id": "c18197bd",
   "metadata": {
    "execution": {
     "iopub.execute_input": "2023-02-27T11:59:44.055916Z",
     "iopub.status.busy": "2023-02-27T11:59:44.055574Z",
     "iopub.status.idle": "2023-02-27T11:59:49.190984Z",
     "shell.execute_reply": "2023-02-27T11:59:49.190063Z"
    }
   },
   "outputs": [
    {
     "name": "stdout",
     "output_type": "stream",
     "text": [
      "63.2 ns ± 0.0592 ns per loop (mean ± std. dev. of 7 runs, 10,000,000 loops each)\n"
     ]
    }
   ],
   "source": [
    "%timeit t.a"
   ]
  },
  {
   "cell_type": "code",
   "execution_count": 6,
   "id": "bd52f867",
   "metadata": {
    "execution": {
     "iopub.execute_input": "2023-02-27T11:59:49.194251Z",
     "iopub.status.busy": "2023-02-27T11:59:49.193840Z",
     "iopub.status.idle": "2023-02-27T11:59:49.201317Z",
     "shell.execute_reply": "2023-02-27T11:59:49.200690Z"
    }
   },
   "outputs": [
    {
     "data": {
      "text/plain": [
       "<FastTreeValue 0x7f9fe4f8dfa0>\n",
       "├── 'a' --> tensor([[-0.4353, -1.2596, -1.1303],\n",
       "│                   [-0.2871,  0.6893,  0.4100]])\n",
       "└── 'x' --> <FastTreeValue 0x7f9fe4f8df70>\n",
       "    └── 'c' --> tensor([[-0.2820, -0.7833,  1.8021, -1.5923],\n",
       "                        [-0.1458,  0.1677,  0.5882,  0.9782],\n",
       "                        [ 1.5681,  0.5234,  1.4312, -0.3264]])"
      ]
     },
     "execution_count": 6,
     "metadata": {},
     "output_type": "execute_result"
    }
   ],
   "source": [
    "new_value = torch.randn(2, 3)\n",
    "t.a = new_value\n",
    "\n",
    "t"
   ]
  },
  {
   "cell_type": "code",
   "execution_count": 7,
   "id": "bbe04d1c",
   "metadata": {
    "execution": {
     "iopub.execute_input": "2023-02-27T11:59:49.204181Z",
     "iopub.status.busy": "2023-02-27T11:59:49.203560Z",
     "iopub.status.idle": "2023-02-27T11:59:54.813648Z",
     "shell.execute_reply": "2023-02-27T11:59:54.812746Z"
    }
   },
   "outputs": [
    {
     "name": "stdout",
     "output_type": "stream",
     "text": [
      "69.1 ns ± 0.0589 ns per loop (mean ± std. dev. of 7 runs, 10,000,000 loops each)\n"
     ]
    }
   ],
   "source": [
    "%timeit t.a = new_value"
   ]
  },
  {
   "cell_type": "markdown",
   "id": "48c49731",
   "metadata": {},
   "source": [
    "### Tianshou Batch's Get and Set"
   ]
  },
  {
   "cell_type": "code",
   "execution_count": 8,
   "id": "f1bb14c1",
   "metadata": {
    "execution": {
     "iopub.execute_input": "2023-02-27T11:59:54.817269Z",
     "iopub.status.busy": "2023-02-27T11:59:54.816845Z",
     "iopub.status.idle": "2023-02-27T11:59:55.181418Z",
     "shell.execute_reply": "2023-02-27T11:59:55.179972Z"
    }
   },
   "outputs": [],
   "source": [
    "from tianshou.data import Batch\n",
    "\n",
    "b = Batch(**_TREE_DATA_2)"
   ]
  },
  {
   "cell_type": "code",
   "execution_count": 9,
   "id": "cb0777c3",
   "metadata": {
    "execution": {
     "iopub.execute_input": "2023-02-27T11:59:55.184984Z",
     "iopub.status.busy": "2023-02-27T11:59:55.184462Z",
     "iopub.status.idle": "2023-02-27T11:59:55.191269Z",
     "shell.execute_reply": "2023-02-27T11:59:55.190660Z"
    }
   },
   "outputs": [
    {
     "data": {
      "text/plain": [
       "Batch(\n",
       "    a: tensor([[-0.4399,  1.0216, -0.5115],\n",
       "               [ 0.4207,  1.9279, -1.0424]]),\n",
       "    x: Batch(\n",
       "           c: tensor([[-0.2820, -0.7833,  1.8021, -1.5923],\n",
       "                      [-0.1458,  0.1677,  0.5882,  0.9782],\n",
       "                      [ 1.5681,  0.5234,  1.4312, -0.3264]]),\n",
       "       ),\n",
       ")"
      ]
     },
     "execution_count": 9,
     "metadata": {},
     "output_type": "execute_result"
    }
   ],
   "source": [
    "b"
   ]
  },
  {
   "cell_type": "code",
   "execution_count": 10,
   "id": "43ef8ea3",
   "metadata": {
    "execution": {
     "iopub.execute_input": "2023-02-27T11:59:55.194194Z",
     "iopub.status.busy": "2023-02-27T11:59:55.193570Z",
     "iopub.status.idle": "2023-02-27T11:59:55.199147Z",
     "shell.execute_reply": "2023-02-27T11:59:55.198540Z"
    }
   },
   "outputs": [
    {
     "data": {
      "text/plain": [
       "tensor([[-0.4399,  1.0216, -0.5115],\n",
       "        [ 0.4207,  1.9279, -1.0424]])"
      ]
     },
     "execution_count": 10,
     "metadata": {},
     "output_type": "execute_result"
    }
   ],
   "source": [
    "b.a"
   ]
  },
  {
   "cell_type": "code",
   "execution_count": 11,
   "id": "b785ab72",
   "metadata": {
    "execution": {
     "iopub.execute_input": "2023-02-27T11:59:55.201897Z",
     "iopub.status.busy": "2023-02-27T11:59:55.201354Z",
     "iopub.status.idle": "2023-02-27T12:00:00.161302Z",
     "shell.execute_reply": "2023-02-27T12:00:00.160496Z"
    }
   },
   "outputs": [
    {
     "name": "stdout",
     "output_type": "stream",
     "text": [
      "61.3 ns ± 0.0205 ns per loop (mean ± std. dev. of 7 runs, 10,000,000 loops each)\n"
     ]
    }
   ],
   "source": [
    "%timeit b.a"
   ]
  },
  {
   "cell_type": "code",
   "execution_count": 12,
   "id": "ad54dc69",
   "metadata": {
    "execution": {
     "iopub.execute_input": "2023-02-27T12:00:00.164503Z",
     "iopub.status.busy": "2023-02-27T12:00:00.164007Z",
     "iopub.status.idle": "2023-02-27T12:00:00.170221Z",
     "shell.execute_reply": "2023-02-27T12:00:00.169530Z"
    }
   },
   "outputs": [
    {
     "data": {
      "text/plain": [
       "Batch(\n",
       "    a: tensor([[-1.5830,  1.6165,  0.7186],\n",
       "               [-1.4076, -1.5870, -1.7547]]),\n",
       "    x: Batch(\n",
       "           c: tensor([[-0.2820, -0.7833,  1.8021, -1.5923],\n",
       "                      [-0.1458,  0.1677,  0.5882,  0.9782],\n",
       "                      [ 1.5681,  0.5234,  1.4312, -0.3264]]),\n",
       "       ),\n",
       ")"
      ]
     },
     "execution_count": 12,
     "metadata": {},
     "output_type": "execute_result"
    }
   ],
   "source": [
    "new_value = torch.randn(2, 3)\n",
    "b.a = new_value\n",
    "\n",
    "b"
   ]
  },
  {
   "cell_type": "code",
   "execution_count": 13,
   "id": "29b1d0bf",
   "metadata": {
    "execution": {
     "iopub.execute_input": "2023-02-27T12:00:00.173469Z",
     "iopub.status.busy": "2023-02-27T12:00:00.172897Z",
     "iopub.status.idle": "2023-02-27T12:00:04.181622Z",
     "shell.execute_reply": "2023-02-27T12:00:04.180761Z"
    }
   },
   "outputs": [
    {
     "name": "stdout",
     "output_type": "stream",
     "text": [
      "493 ns ± 0.0675 ns per loop (mean ± std. dev. of 7 runs, 1,000,000 loops each)\n"
     ]
    }
   ],
   "source": [
    "%timeit b.a = new_value"
   ]
  },
  {
   "cell_type": "markdown",
   "id": "b61ad1d0",
   "metadata": {},
   "source": [
    "## Initialization"
   ]
  },
  {
   "cell_type": "markdown",
   "id": "d70f0d54",
   "metadata": {},
   "source": [
    "### TreeValue's Initialization"
   ]
  },
  {
   "cell_type": "code",
   "execution_count": 14,
   "id": "d32a679b",
   "metadata": {
    "execution": {
     "iopub.execute_input": "2023-02-27T12:00:04.185021Z",
     "iopub.status.busy": "2023-02-27T12:00:04.184602Z",
     "iopub.status.idle": "2023-02-27T12:00:10.853825Z",
     "shell.execute_reply": "2023-02-27T12:00:10.852954Z"
    }
   },
   "outputs": [
    {
     "name": "stdout",
     "output_type": "stream",
     "text": [
      "821 ns ± 1.02 ns per loop (mean ± std. dev. of 7 runs, 1,000,000 loops each)\n"
     ]
    }
   ],
   "source": [
    "%timeit FastTreeValue(_TREE_DATA_1)"
   ]
  },
  {
   "cell_type": "markdown",
   "id": "24f3707b",
   "metadata": {},
   "source": [
    "### Tianshou Batch's Initialization"
   ]
  },
  {
   "cell_type": "code",
   "execution_count": 15,
   "id": "ac3958df",
   "metadata": {
    "execution": {
     "iopub.execute_input": "2023-02-27T12:00:10.857381Z",
     "iopub.status.busy": "2023-02-27T12:00:10.856954Z",
     "iopub.status.idle": "2023-02-27T12:00:19.658489Z",
     "shell.execute_reply": "2023-02-27T12:00:19.657600Z"
    }
   },
   "outputs": [
    {
     "name": "stdout",
     "output_type": "stream",
     "text": [
      "10.8 µs ± 9.52 ns per loop (mean ± std. dev. of 7 runs, 100,000 loops each)\n"
     ]
    }
   ],
   "source": [
    "%timeit Batch(**_TREE_DATA_1)"
   ]
  },
  {
   "cell_type": "markdown",
   "id": "1ab82e2d",
   "metadata": {},
   "source": [
    "## Deep Copy Operation"
   ]
  },
  {
   "cell_type": "code",
   "execution_count": 16,
   "id": "210a9442",
   "metadata": {
    "execution": {
     "iopub.execute_input": "2023-02-27T12:00:19.662081Z",
     "iopub.status.busy": "2023-02-27T12:00:19.661448Z",
     "iopub.status.idle": "2023-02-27T12:00:19.665797Z",
     "shell.execute_reply": "2023-02-27T12:00:19.665149Z"
    }
   },
   "outputs": [],
   "source": [
    "import copy"
   ]
  },
  {
   "cell_type": "markdown",
   "id": "5a736274",
   "metadata": {},
   "source": [
    "### Deep Copy of TreeValue"
   ]
  },
  {
   "cell_type": "code",
   "execution_count": 17,
   "id": "f9bcadd6",
   "metadata": {
    "execution": {
     "iopub.execute_input": "2023-02-27T12:00:19.668464Z",
     "iopub.status.busy": "2023-02-27T12:00:19.668095Z",
     "iopub.status.idle": "2023-02-27T12:00:31.260925Z",
     "shell.execute_reply": "2023-02-27T12:00:31.259544Z"
    }
   },
   "outputs": [
    {
     "name": "stdout",
     "output_type": "stream",
     "text": [
      "143 µs ± 2.44 µs per loop (mean ± std. dev. of 7 runs, 10,000 loops each)\n"
     ]
    }
   ],
   "source": [
    "t3 = FastTreeValue(_TREE_DATA_3)\n",
    "%timeit copy.deepcopy(t3)"
   ]
  },
  {
   "cell_type": "markdown",
   "id": "bf8be7ea",
   "metadata": {},
   "source": [
    "### Deep Copy of Tianshou Batch"
   ]
  },
  {
   "cell_type": "code",
   "execution_count": 18,
   "id": "91998e6f",
   "metadata": {
    "execution": {
     "iopub.execute_input": "2023-02-27T12:00:31.264095Z",
     "iopub.status.busy": "2023-02-27T12:00:31.263643Z",
     "iopub.status.idle": "2023-02-27T12:00:42.874243Z",
     "shell.execute_reply": "2023-02-27T12:00:42.873596Z"
    }
   },
   "outputs": [
    {
     "name": "stdout",
     "output_type": "stream",
     "text": [
      "143 µs ± 471 ns per loop (mean ± std. dev. of 7 runs, 10,000 loops each)\n"
     ]
    }
   ],
   "source": [
    "b3 = Batch(**_TREE_DATA_3)\n",
    "%timeit copy.deepcopy(b3)"
   ]
  },
  {
   "cell_type": "markdown",
   "id": "223162fb",
   "metadata": {},
   "source": [
    "## Stack, Concat and Split Operation"
   ]
  },
  {
   "cell_type": "markdown",
   "id": "85fa4a73",
   "metadata": {},
   "source": [
    "### Performance of TreeValue"
   ]
  },
  {
   "cell_type": "code",
   "execution_count": 19,
   "id": "a0c2b697",
   "metadata": {
    "execution": {
     "iopub.execute_input": "2023-02-27T12:00:42.877397Z",
     "iopub.status.busy": "2023-02-27T12:00:42.876976Z",
     "iopub.status.idle": "2023-02-27T12:00:42.880319Z",
     "shell.execute_reply": "2023-02-27T12:00:42.879749Z"
    }
   },
   "outputs": [],
   "source": [
    "trees = [FastTreeValue(_TREE_DATA_2) for _ in range(8)]"
   ]
  },
  {
   "cell_type": "code",
   "execution_count": 20,
   "id": "017ea5a5",
   "metadata": {
    "execution": {
     "iopub.execute_input": "2023-02-27T12:00:42.882859Z",
     "iopub.status.busy": "2023-02-27T12:00:42.882460Z",
     "iopub.status.idle": "2023-02-27T12:00:42.889465Z",
     "shell.execute_reply": "2023-02-27T12:00:42.888911Z"
    }
   },
   "outputs": [
    {
     "data": {
      "text/plain": [
       "<FastTreeValue 0x7f9f45ed1610>\n",
       "├── 'a' --> tensor([[[-0.4399,  1.0216, -0.5115],\n",
       "│                    [ 0.4207,  1.9279, -1.0424]],\n",
       "│           \n",
       "│                   [[-0.4399,  1.0216, -0.5115],\n",
       "│                    [ 0.4207,  1.9279, -1.0424]],\n",
       "│           \n",
       "│                   [[-0.4399,  1.0216, -0.5115],\n",
       "│                    [ 0.4207,  1.9279, -1.0424]],\n",
       "│           \n",
       "│                   [[-0.4399,  1.0216, -0.5115],\n",
       "│                    [ 0.4207,  1.9279, -1.0424]],\n",
       "│           \n",
       "│                   [[-0.4399,  1.0216, -0.5115],\n",
       "│                    [ 0.4207,  1.9279, -1.0424]],\n",
       "│           \n",
       "│                   [[-0.4399,  1.0216, -0.5115],\n",
       "│                    [ 0.4207,  1.9279, -1.0424]],\n",
       "│           \n",
       "│                   [[-0.4399,  1.0216, -0.5115],\n",
       "│                    [ 0.4207,  1.9279, -1.0424]],\n",
       "│           \n",
       "│                   [[-0.4399,  1.0216, -0.5115],\n",
       "│                    [ 0.4207,  1.9279, -1.0424]]])\n",
       "└── 'x' --> <FastTreeValue 0x7f9f45ed17c0>\n",
       "    └── 'c' --> tensor([[[-0.2820, -0.7833,  1.8021, -1.5923],\n",
       "                         [-0.1458,  0.1677,  0.5882,  0.9782],\n",
       "                         [ 1.5681,  0.5234,  1.4312, -0.3264]],\n",
       "                \n",
       "                        [[-0.2820, -0.7833,  1.8021, -1.5923],\n",
       "                         [-0.1458,  0.1677,  0.5882,  0.9782],\n",
       "                         [ 1.5681,  0.5234,  1.4312, -0.3264]],\n",
       "                \n",
       "                        [[-0.2820, -0.7833,  1.8021, -1.5923],\n",
       "                         [-0.1458,  0.1677,  0.5882,  0.9782],\n",
       "                         [ 1.5681,  0.5234,  1.4312, -0.3264]],\n",
       "                \n",
       "                        [[-0.2820, -0.7833,  1.8021, -1.5923],\n",
       "                         [-0.1458,  0.1677,  0.5882,  0.9782],\n",
       "                         [ 1.5681,  0.5234,  1.4312, -0.3264]],\n",
       "                \n",
       "                        [[-0.2820, -0.7833,  1.8021, -1.5923],\n",
       "                         [-0.1458,  0.1677,  0.5882,  0.9782],\n",
       "                         [ 1.5681,  0.5234,  1.4312, -0.3264]],\n",
       "                \n",
       "                        [[-0.2820, -0.7833,  1.8021, -1.5923],\n",
       "                         [-0.1458,  0.1677,  0.5882,  0.9782],\n",
       "                         [ 1.5681,  0.5234,  1.4312, -0.3264]],\n",
       "                \n",
       "                        [[-0.2820, -0.7833,  1.8021, -1.5923],\n",
       "                         [-0.1458,  0.1677,  0.5882,  0.9782],\n",
       "                         [ 1.5681,  0.5234,  1.4312, -0.3264]],\n",
       "                \n",
       "                        [[-0.2820, -0.7833,  1.8021, -1.5923],\n",
       "                         [-0.1458,  0.1677,  0.5882,  0.9782],\n",
       "                         [ 1.5681,  0.5234,  1.4312, -0.3264]]])"
      ]
     },
     "execution_count": 20,
     "metadata": {},
     "output_type": "execute_result"
    }
   ],
   "source": [
    "t_stack = FastTreeValue.func(subside=True)(torch.stack)\n",
    "\n",
    "t_stack(trees)"
   ]
  },
  {
   "cell_type": "code",
   "execution_count": 21,
   "id": "f8b3f415",
   "metadata": {
    "execution": {
     "iopub.execute_input": "2023-02-27T12:00:42.892004Z",
     "iopub.status.busy": "2023-02-27T12:00:42.891630Z",
     "iopub.status.idle": "2023-02-27T12:00:45.480886Z",
     "shell.execute_reply": "2023-02-27T12:00:45.480011Z"
    }
   },
   "outputs": [
    {
     "name": "stdout",
     "output_type": "stream",
     "text": [
      "31.8 µs ± 84.9 ns per loop (mean ± std. dev. of 7 runs, 10,000 loops each)\n"
     ]
    }
   ],
   "source": [
    "%timeit t_stack(trees)"
   ]
  },
  {
   "cell_type": "code",
   "execution_count": 22,
   "id": "94b56771",
   "metadata": {
    "execution": {
     "iopub.execute_input": "2023-02-27T12:00:45.484249Z",
     "iopub.status.busy": "2023-02-27T12:00:45.483800Z",
     "iopub.status.idle": "2023-02-27T12:00:45.491849Z",
     "shell.execute_reply": "2023-02-27T12:00:45.491171Z"
    }
   },
   "outputs": [
    {
     "data": {
      "text/plain": [
       "<FastTreeValue 0x7f9f508a8a60>\n",
       "├── 'a' --> tensor([[-0.4399,  1.0216, -0.5115],\n",
       "│                   [ 0.4207,  1.9279, -1.0424],\n",
       "│                   [-0.4399,  1.0216, -0.5115],\n",
       "│                   [ 0.4207,  1.9279, -1.0424],\n",
       "│                   [-0.4399,  1.0216, -0.5115],\n",
       "│                   [ 0.4207,  1.9279, -1.0424],\n",
       "│                   [-0.4399,  1.0216, -0.5115],\n",
       "│                   [ 0.4207,  1.9279, -1.0424],\n",
       "│                   [-0.4399,  1.0216, -0.5115],\n",
       "│                   [ 0.4207,  1.9279, -1.0424],\n",
       "│                   [-0.4399,  1.0216, -0.5115],\n",
       "│                   [ 0.4207,  1.9279, -1.0424],\n",
       "│                   [-0.4399,  1.0216, -0.5115],\n",
       "│                   [ 0.4207,  1.9279, -1.0424],\n",
       "│                   [-0.4399,  1.0216, -0.5115],\n",
       "│                   [ 0.4207,  1.9279, -1.0424]])\n",
       "└── 'x' --> <FastTreeValue 0x7f9f3f27df40>\n",
       "    └── 'c' --> tensor([[-0.2820, -0.7833,  1.8021, -1.5923],\n",
       "                        [-0.1458,  0.1677,  0.5882,  0.9782],\n",
       "                        [ 1.5681,  0.5234,  1.4312, -0.3264],\n",
       "                        [-0.2820, -0.7833,  1.8021, -1.5923],\n",
       "                        [-0.1458,  0.1677,  0.5882,  0.9782],\n",
       "                        [ 1.5681,  0.5234,  1.4312, -0.3264],\n",
       "                        [-0.2820, -0.7833,  1.8021, -1.5923],\n",
       "                        [-0.1458,  0.1677,  0.5882,  0.9782],\n",
       "                        [ 1.5681,  0.5234,  1.4312, -0.3264],\n",
       "                        [-0.2820, -0.7833,  1.8021, -1.5923],\n",
       "                        [-0.1458,  0.1677,  0.5882,  0.9782],\n",
       "                        [ 1.5681,  0.5234,  1.4312, -0.3264],\n",
       "                        [-0.2820, -0.7833,  1.8021, -1.5923],\n",
       "                        [-0.1458,  0.1677,  0.5882,  0.9782],\n",
       "                        [ 1.5681,  0.5234,  1.4312, -0.3264],\n",
       "                        [-0.2820, -0.7833,  1.8021, -1.5923],\n",
       "                        [-0.1458,  0.1677,  0.5882,  0.9782],\n",
       "                        [ 1.5681,  0.5234,  1.4312, -0.3264],\n",
       "                        [-0.2820, -0.7833,  1.8021, -1.5923],\n",
       "                        [-0.1458,  0.1677,  0.5882,  0.9782],\n",
       "                        [ 1.5681,  0.5234,  1.4312, -0.3264],\n",
       "                        [-0.2820, -0.7833,  1.8021, -1.5923],\n",
       "                        [-0.1458,  0.1677,  0.5882,  0.9782],\n",
       "                        [ 1.5681,  0.5234,  1.4312, -0.3264]])"
      ]
     },
     "execution_count": 22,
     "metadata": {},
     "output_type": "execute_result"
    }
   ],
   "source": [
    "t_cat = FastTreeValue.func(subside=True)(torch.cat)\n",
    "\n",
    "t_cat(trees)"
   ]
  },
  {
   "cell_type": "code",
   "execution_count": 23,
   "id": "5e9c06a6",
   "metadata": {
    "execution": {
     "iopub.execute_input": "2023-02-27T12:00:45.494787Z",
     "iopub.status.busy": "2023-02-27T12:00:45.494407Z",
     "iopub.status.idle": "2023-02-27T12:00:47.923657Z",
     "shell.execute_reply": "2023-02-27T12:00:47.922792Z"
    }
   },
   "outputs": [
    {
     "name": "stdout",
     "output_type": "stream",
     "text": [
      "29.9 µs ± 67.5 ns per loop (mean ± std. dev. of 7 runs, 10,000 loops each)\n"
     ]
    }
   ],
   "source": [
    "%timeit t_cat(trees)"
   ]
  },
  {
   "cell_type": "code",
   "execution_count": 24,
   "id": "a3ab5c8f",
   "metadata": {
    "execution": {
     "iopub.execute_input": "2023-02-27T12:00:47.927512Z",
     "iopub.status.busy": "2023-02-27T12:00:47.926922Z",
     "iopub.status.idle": "2023-02-27T12:00:52.432332Z",
     "shell.execute_reply": "2023-02-27T12:00:52.431295Z"
    }
   },
   "outputs": [
    {
     "name": "stdout",
     "output_type": "stream",
     "text": [
      "55.4 µs ± 68.8 ns per loop (mean ± std. dev. of 7 runs, 10,000 loops each)\n"
     ]
    }
   ],
   "source": [
    "t_split = FastTreeValue.func(rise=True)(torch.split)\n",
    "tree = FastTreeValue({\n",
    "    'obs': torch.randn(8, 4, 84, 84),\n",
    "    'action': torch.randint(0, 6, size=(8, 1,)),\n",
    "    'reward': torch.rand(8, 1),\n",
    "})\n",
    "\n",
    "%timeit t_split(tree, 1)"
   ]
  },
  {
   "cell_type": "markdown",
   "id": "31c3ec0b",
   "metadata": {},
   "source": [
    "### Performance of Tianshou Batch"
   ]
  },
  {
   "cell_type": "code",
   "execution_count": 25,
   "id": "9ead828a",
   "metadata": {
    "execution": {
     "iopub.execute_input": "2023-02-27T12:00:52.436045Z",
     "iopub.status.busy": "2023-02-27T12:00:52.435408Z",
     "iopub.status.idle": "2023-02-27T12:00:52.444329Z",
     "shell.execute_reply": "2023-02-27T12:00:52.443310Z"
    }
   },
   "outputs": [
    {
     "data": {
      "text/plain": [
       "Batch(\n",
       "    a: tensor([[[-0.4399,  1.0216, -0.5115],\n",
       "                [ 0.4207,  1.9279, -1.0424]],\n",
       "       \n",
       "               [[-0.4399,  1.0216, -0.5115],\n",
       "                [ 0.4207,  1.9279, -1.0424]],\n",
       "       \n",
       "               [[-0.4399,  1.0216, -0.5115],\n",
       "                [ 0.4207,  1.9279, -1.0424]],\n",
       "       \n",
       "               [[-0.4399,  1.0216, -0.5115],\n",
       "                [ 0.4207,  1.9279, -1.0424]],\n",
       "       \n",
       "               [[-0.4399,  1.0216, -0.5115],\n",
       "                [ 0.4207,  1.9279, -1.0424]],\n",
       "       \n",
       "               [[-0.4399,  1.0216, -0.5115],\n",
       "                [ 0.4207,  1.9279, -1.0424]],\n",
       "       \n",
       "               [[-0.4399,  1.0216, -0.5115],\n",
       "                [ 0.4207,  1.9279, -1.0424]],\n",
       "       \n",
       "               [[-0.4399,  1.0216, -0.5115],\n",
       "                [ 0.4207,  1.9279, -1.0424]]]),\n",
       "    x: Batch(\n",
       "           c: tensor([[[-0.2820, -0.7833,  1.8021, -1.5923],\n",
       "                       [-0.1458,  0.1677,  0.5882,  0.9782],\n",
       "                       [ 1.5681,  0.5234,  1.4312, -0.3264]],\n",
       "              \n",
       "                      [[-0.2820, -0.7833,  1.8021, -1.5923],\n",
       "                       [-0.1458,  0.1677,  0.5882,  0.9782],\n",
       "                       [ 1.5681,  0.5234,  1.4312, -0.3264]],\n",
       "              \n",
       "                      [[-0.2820, -0.7833,  1.8021, -1.5923],\n",
       "                       [-0.1458,  0.1677,  0.5882,  0.9782],\n",
       "                       [ 1.5681,  0.5234,  1.4312, -0.3264]],\n",
       "              \n",
       "                      [[-0.2820, -0.7833,  1.8021, -1.5923],\n",
       "                       [-0.1458,  0.1677,  0.5882,  0.9782],\n",
       "                       [ 1.5681,  0.5234,  1.4312, -0.3264]],\n",
       "              \n",
       "                      [[-0.2820, -0.7833,  1.8021, -1.5923],\n",
       "                       [-0.1458,  0.1677,  0.5882,  0.9782],\n",
       "                       [ 1.5681,  0.5234,  1.4312, -0.3264]],\n",
       "              \n",
       "                      [[-0.2820, -0.7833,  1.8021, -1.5923],\n",
       "                       [-0.1458,  0.1677,  0.5882,  0.9782],\n",
       "                       [ 1.5681,  0.5234,  1.4312, -0.3264]],\n",
       "              \n",
       "                      [[-0.2820, -0.7833,  1.8021, -1.5923],\n",
       "                       [-0.1458,  0.1677,  0.5882,  0.9782],\n",
       "                       [ 1.5681,  0.5234,  1.4312, -0.3264]],\n",
       "              \n",
       "                      [[-0.2820, -0.7833,  1.8021, -1.5923],\n",
       "                       [-0.1458,  0.1677,  0.5882,  0.9782],\n",
       "                       [ 1.5681,  0.5234,  1.4312, -0.3264]]]),\n",
       "       ),\n",
       ")"
      ]
     },
     "execution_count": 25,
     "metadata": {},
     "output_type": "execute_result"
    }
   ],
   "source": [
    "batches = [Batch(**_TREE_DATA_2) for _ in range(8)]\n",
    "\n",
    "Batch.stack(batches)"
   ]
  },
  {
   "cell_type": "code",
   "execution_count": 26,
   "id": "ec9037a3",
   "metadata": {
    "execution": {
     "iopub.execute_input": "2023-02-27T12:00:52.447165Z",
     "iopub.status.busy": "2023-02-27T12:00:52.446723Z",
     "iopub.status.idle": "2023-02-27T12:00:58.688403Z",
     "shell.execute_reply": "2023-02-27T12:00:58.687395Z"
    }
   },
   "outputs": [
    {
     "name": "stdout",
     "output_type": "stream",
     "text": [
      "76.8 µs ± 116 ns per loop (mean ± std. dev. of 7 runs, 10,000 loops each)\n"
     ]
    }
   ],
   "source": [
    "%timeit Batch.stack(batches)"
   ]
  },
  {
   "cell_type": "code",
   "execution_count": 27,
   "id": "cb8ab77e",
   "metadata": {
    "execution": {
     "iopub.execute_input": "2023-02-27T12:00:58.691767Z",
     "iopub.status.busy": "2023-02-27T12:00:58.691298Z",
     "iopub.status.idle": "2023-02-27T12:00:58.699900Z",
     "shell.execute_reply": "2023-02-27T12:00:58.698737Z"
    }
   },
   "outputs": [
    {
     "data": {
      "text/plain": [
       "Batch(\n",
       "    a: tensor([[-0.4399,  1.0216, -0.5115],\n",
       "               [ 0.4207,  1.9279, -1.0424],\n",
       "               [-0.4399,  1.0216, -0.5115],\n",
       "               [ 0.4207,  1.9279, -1.0424],\n",
       "               [-0.4399,  1.0216, -0.5115],\n",
       "               [ 0.4207,  1.9279, -1.0424],\n",
       "               [-0.4399,  1.0216, -0.5115],\n",
       "               [ 0.4207,  1.9279, -1.0424],\n",
       "               [-0.4399,  1.0216, -0.5115],\n",
       "               [ 0.4207,  1.9279, -1.0424],\n",
       "               [-0.4399,  1.0216, -0.5115],\n",
       "               [ 0.4207,  1.9279, -1.0424],\n",
       "               [-0.4399,  1.0216, -0.5115],\n",
       "               [ 0.4207,  1.9279, -1.0424],\n",
       "               [-0.4399,  1.0216, -0.5115],\n",
       "               [ 0.4207,  1.9279, -1.0424]]),\n",
       "    x: Batch(\n",
       "           c: tensor([[-0.2820, -0.7833,  1.8021, -1.5923],\n",
       "                      [-0.1458,  0.1677,  0.5882,  0.9782],\n",
       "                      [ 1.5681,  0.5234,  1.4312, -0.3264],\n",
       "                      [-0.2820, -0.7833,  1.8021, -1.5923],\n",
       "                      [-0.1458,  0.1677,  0.5882,  0.9782],\n",
       "                      [ 1.5681,  0.5234,  1.4312, -0.3264],\n",
       "                      [-0.2820, -0.7833,  1.8021, -1.5923],\n",
       "                      [-0.1458,  0.1677,  0.5882,  0.9782],\n",
       "                      [ 1.5681,  0.5234,  1.4312, -0.3264],\n",
       "                      [-0.2820, -0.7833,  1.8021, -1.5923],\n",
       "                      [-0.1458,  0.1677,  0.5882,  0.9782],\n",
       "                      [ 1.5681,  0.5234,  1.4312, -0.3264],\n",
       "                      [-0.2820, -0.7833,  1.8021, -1.5923],\n",
       "                      [-0.1458,  0.1677,  0.5882,  0.9782],\n",
       "                      [ 1.5681,  0.5234,  1.4312, -0.3264],\n",
       "                      [-0.2820, -0.7833,  1.8021, -1.5923],\n",
       "                      [-0.1458,  0.1677,  0.5882,  0.9782],\n",
       "                      [ 1.5681,  0.5234,  1.4312, -0.3264],\n",
       "                      [-0.2820, -0.7833,  1.8021, -1.5923],\n",
       "                      [-0.1458,  0.1677,  0.5882,  0.9782],\n",
       "                      [ 1.5681,  0.5234,  1.4312, -0.3264],\n",
       "                      [-0.2820, -0.7833,  1.8021, -1.5923],\n",
       "                      [-0.1458,  0.1677,  0.5882,  0.9782],\n",
       "                      [ 1.5681,  0.5234,  1.4312, -0.3264]]),\n",
       "       ),\n",
       ")"
      ]
     },
     "execution_count": 27,
     "metadata": {},
     "output_type": "execute_result"
    }
   ],
   "source": [
    "Batch.cat(batches)"
   ]
  },
  {
   "cell_type": "code",
   "execution_count": 28,
   "id": "18dfb045",
   "metadata": {
    "execution": {
     "iopub.execute_input": "2023-02-27T12:00:58.702639Z",
     "iopub.status.busy": "2023-02-27T12:00:58.702096Z",
     "iopub.status.idle": "2023-02-27T12:01:10.146848Z",
     "shell.execute_reply": "2023-02-27T12:01:10.145854Z"
    }
   },
   "outputs": [
    {
     "name": "stdout",
     "output_type": "stream",
     "text": [
      "141 µs ± 140 ns per loop (mean ± std. dev. of 7 runs, 10,000 loops each)\n"
     ]
    }
   ],
   "source": [
    "%timeit Batch.cat(batches)"
   ]
  },
  {
   "cell_type": "code",
   "execution_count": 29,
   "id": "c6688e51",
   "metadata": {
    "execution": {
     "iopub.execute_input": "2023-02-27T12:01:10.150954Z",
     "iopub.status.busy": "2023-02-27T12:01:10.150436Z",
     "iopub.status.idle": "2023-02-27T12:01:12.790680Z",
     "shell.execute_reply": "2023-02-27T12:01:12.790015Z"
    }
   },
   "outputs": [
    {
     "name": "stdout",
     "output_type": "stream",
     "text": [
      "325 µs ± 1.28 µs per loop (mean ± std. dev. of 7 runs, 1,000 loops each)\n"
     ]
    }
   ],
   "source": [
    "batch = Batch({\n",
    "    'obs': torch.randn(8, 4, 84, 84),\n",
    "    'action': torch.randint(0, 6, size=(8, 1,)),\n",
    "    'reward': torch.rand(8, 1)}\n",
    ")\n",
    "\n",
    "%timeit list(Batch.split(batch, 1, shuffle=False, merge_last=True))"
   ]
  },
  {
   "cell_type": "code",
   "execution_count": null,
   "id": "2539fbd9",
   "metadata": {},
   "outputs": [],
   "source": []
  }
 ],
 "metadata": {
  "kernelspec": {
   "display_name": "Python 3 (ipykernel)",
   "language": "python",
   "name": "python3"
  },
  "language_info": {
   "codemirror_mode": {
    "name": "ipython",
    "version": 3
   },
   "file_extension": ".py",
   "mimetype": "text/x-python",
   "name": "python",
   "nbconvert_exporter": "python",
   "pygments_lexer": "ipython3",
   "version": "3.8.16"
  }
 },
 "nbformat": 4,
 "nbformat_minor": 5
}
