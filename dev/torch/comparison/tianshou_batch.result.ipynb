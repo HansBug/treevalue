{
 "cells": [
  {
   "cell_type": "markdown",
   "id": "9d39d946",
   "metadata": {},
   "source": [
    "# Comparison Between TreeValue and Tianshou Batch"
   ]
  },
  {
   "cell_type": "markdown",
   "id": "3c6db2d4",
   "metadata": {},
   "source": [
    "In this section, we will take a look at the feature and performance of the [Tianshou Batch](https://github.com/thu-ml/tianshou) library, which is developed by Tsinghua Machine Learning Group."
   ]
  },
  {
   "cell_type": "markdown",
   "id": "069361b0",
   "metadata": {},
   "source": [
    "Before starting the comparison, let us define some thing."
   ]
  },
  {
   "cell_type": "code",
   "execution_count": 1,
   "id": "06fc8d26",
   "metadata": {
    "execution": {
     "iopub.execute_input": "2023-02-27T08:47:48.901750Z",
     "iopub.status.busy": "2023-02-27T08:47:48.901242Z",
     "iopub.status.idle": "2023-02-27T08:47:49.854938Z",
     "shell.execute_reply": "2023-02-27T08:47:49.854231Z"
    }
   },
   "outputs": [
    {
     "name": "stderr",
     "output_type": "stream",
     "text": [
      "/opt/hostedtoolcache/Python/3.8.16/x64/lib/python3.8/site-packages/tqdm/auto.py:22: TqdmWarning: IProgress not found. Please update jupyter and ipywidgets. See https://ipywidgets.readthedocs.io/en/stable/user_install.html\n",
      "  from .autonotebook import tqdm as notebook_tqdm\n"
     ]
    }
   ],
   "source": [
    "import torch \n",
    "\n",
    "_TREE_DATA_1 = {'a': 1, 'b': 2, 'x': {'c': 3, 'd': 4}}\n",
    "_TREE_DATA_2 = {\n",
    "    'a': torch.randn(2, 3), \n",
    "    'x': {\n",
    "        'c': torch.randn(3, 4)\n",
    "    },\n",
    "}\n",
    "_TREE_DATA_3 = {\n",
    "    'obs': torch.randn(4, 84, 84),\n",
    "    'action': torch.randint(0, 6, size=(1,)),\n",
    "    'reward': torch.rand(1),\n",
    "}"
   ]
  },
  {
   "cell_type": "markdown",
   "id": "83461b25",
   "metadata": {},
   "source": [
    "## Read and Write Operation"
   ]
  },
  {
   "cell_type": "markdown",
   "id": "067b3f73",
   "metadata": {},
   "source": [
    "Reading and writing are the two most common operations in the tree data structure based on the data model (TreeValue and Tianshou Batch both belong to this type), so this section will compare the reading and writing performance of these two libraries."
   ]
  },
  {
   "cell_type": "markdown",
   "id": "5d09a5b7",
   "metadata": {},
   "source": [
    "### TreeValue's Get and Set"
   ]
  },
  {
   "cell_type": "code",
   "execution_count": 2,
   "id": "9519c4bb",
   "metadata": {
    "execution": {
     "iopub.execute_input": "2023-02-27T08:47:49.858828Z",
     "iopub.status.busy": "2023-02-27T08:47:49.858145Z",
     "iopub.status.idle": "2023-02-27T08:47:50.146375Z",
     "shell.execute_reply": "2023-02-27T08:47:50.145672Z"
    }
   },
   "outputs": [],
   "source": [
    "from treevalue import FastTreeValue\n",
    "\n",
    "t = FastTreeValue(_TREE_DATA_2)"
   ]
  },
  {
   "cell_type": "code",
   "execution_count": 3,
   "id": "11c37677",
   "metadata": {
    "execution": {
     "iopub.execute_input": "2023-02-27T08:47:50.149856Z",
     "iopub.status.busy": "2023-02-27T08:47:50.149407Z",
     "iopub.status.idle": "2023-02-27T08:47:50.159755Z",
     "shell.execute_reply": "2023-02-27T08:47:50.159075Z"
    }
   },
   "outputs": [
    {
     "data": {
      "text/plain": [
       "<FastTreeValue 0x7ff724a5ff70>\n",
       "├── 'a' --> tensor([[ 0.4193, -1.4295, -1.6368],\n",
       "│                   [-0.0607, -1.4455,  1.0840]])\n",
       "└── 'x' --> <FastTreeValue 0x7ff724a565e0>\n",
       "    └── 'c' --> tensor([[ 0.1305,  0.4034,  0.2404, -0.5426],\n",
       "                        [-0.0571, -0.3861, -0.0041,  0.3200],\n",
       "                        [-0.3360,  0.1568, -2.0318, -0.7948]])"
      ]
     },
     "execution_count": 3,
     "metadata": {},
     "output_type": "execute_result"
    }
   ],
   "source": [
    "t"
   ]
  },
  {
   "cell_type": "code",
   "execution_count": 4,
   "id": "fd70b0b9",
   "metadata": {
    "execution": {
     "iopub.execute_input": "2023-02-27T08:47:50.162454Z",
     "iopub.status.busy": "2023-02-27T08:47:50.162056Z",
     "iopub.status.idle": "2023-02-27T08:47:50.167207Z",
     "shell.execute_reply": "2023-02-27T08:47:50.166542Z"
    }
   },
   "outputs": [
    {
     "data": {
      "text/plain": [
       "tensor([[ 0.4193, -1.4295, -1.6368],\n",
       "        [-0.0607, -1.4455,  1.0840]])"
      ]
     },
     "execution_count": 4,
     "metadata": {},
     "output_type": "execute_result"
    }
   ],
   "source": [
    "t.a"
   ]
  },
  {
   "cell_type": "code",
   "execution_count": 5,
   "id": "c18197bd",
   "metadata": {
    "execution": {
     "iopub.execute_input": "2023-02-27T08:47:50.170346Z",
     "iopub.status.busy": "2023-02-27T08:47:50.169825Z",
     "iopub.status.idle": "2023-02-27T08:47:55.106638Z",
     "shell.execute_reply": "2023-02-27T08:47:55.105921Z"
    }
   },
   "outputs": [
    {
     "name": "stdout",
     "output_type": "stream",
     "text": [
      "60.7 ns ± 0.0545 ns per loop (mean ± std. dev. of 7 runs, 10,000,000 loops each)\n"
     ]
    }
   ],
   "source": [
    "%timeit t.a"
   ]
  },
  {
   "cell_type": "code",
   "execution_count": 6,
   "id": "bd52f867",
   "metadata": {
    "execution": {
     "iopub.execute_input": "2023-02-27T08:47:55.109628Z",
     "iopub.status.busy": "2023-02-27T08:47:55.109272Z",
     "iopub.status.idle": "2023-02-27T08:47:55.117146Z",
     "shell.execute_reply": "2023-02-27T08:47:55.116561Z"
    }
   },
   "outputs": [
    {
     "data": {
      "text/plain": [
       "<FastTreeValue 0x7ff724a5ff70>\n",
       "├── 'a' --> tensor([[-0.9023, -0.2208, -0.9135],\n",
       "│                   [-0.3319, -0.1236, -0.5392]])\n",
       "└── 'x' --> <FastTreeValue 0x7ff724a565e0>\n",
       "    └── 'c' --> tensor([[ 0.1305,  0.4034,  0.2404, -0.5426],\n",
       "                        [-0.0571, -0.3861, -0.0041,  0.3200],\n",
       "                        [-0.3360,  0.1568, -2.0318, -0.7948]])"
      ]
     },
     "execution_count": 6,
     "metadata": {},
     "output_type": "execute_result"
    }
   ],
   "source": [
    "new_value = torch.randn(2, 3)\n",
    "t.a = new_value\n",
    "\n",
    "t"
   ]
  },
  {
   "cell_type": "code",
   "execution_count": 7,
   "id": "bbe04d1c",
   "metadata": {
    "execution": {
     "iopub.execute_input": "2023-02-27T08:47:55.119679Z",
     "iopub.status.busy": "2023-02-27T08:47:55.119331Z",
     "iopub.status.idle": "2023-02-27T08:48:00.316452Z",
     "shell.execute_reply": "2023-02-27T08:48:00.315727Z"
    }
   },
   "outputs": [
    {
     "name": "stdout",
     "output_type": "stream",
     "text": [
      "63.9 ns ± 0.0178 ns per loop (mean ± std. dev. of 7 runs, 10,000,000 loops each)\n"
     ]
    }
   ],
   "source": [
    "%timeit t.a = new_value"
   ]
  },
  {
   "cell_type": "markdown",
   "id": "48c49731",
   "metadata": {},
   "source": [
    "### Tianshou Batch's Get and Set"
   ]
  },
  {
   "cell_type": "code",
   "execution_count": 8,
   "id": "f1bb14c1",
   "metadata": {
    "execution": {
     "iopub.execute_input": "2023-02-27T08:48:00.319512Z",
     "iopub.status.busy": "2023-02-27T08:48:00.319154Z",
     "iopub.status.idle": "2023-02-27T08:48:00.654768Z",
     "shell.execute_reply": "2023-02-27T08:48:00.654063Z"
    }
   },
   "outputs": [],
   "source": [
    "from tianshou.data import Batch\n",
    "\n",
    "b = Batch(**_TREE_DATA_2)"
   ]
  },
  {
   "cell_type": "code",
   "execution_count": 9,
   "id": "cb0777c3",
   "metadata": {
    "execution": {
     "iopub.execute_input": "2023-02-27T08:48:00.658446Z",
     "iopub.status.busy": "2023-02-27T08:48:00.657788Z",
     "iopub.status.idle": "2023-02-27T08:48:00.664903Z",
     "shell.execute_reply": "2023-02-27T08:48:00.664301Z"
    }
   },
   "outputs": [
    {
     "data": {
      "text/plain": [
       "Batch(\n",
       "    a: tensor([[ 0.4193, -1.4295, -1.6368],\n",
       "               [-0.0607, -1.4455,  1.0840]]),\n",
       "    x: Batch(\n",
       "           c: tensor([[ 0.1305,  0.4034,  0.2404, -0.5426],\n",
       "                      [-0.0571, -0.3861, -0.0041,  0.3200],\n",
       "                      [-0.3360,  0.1568, -2.0318, -0.7948]]),\n",
       "       ),\n",
       ")"
      ]
     },
     "execution_count": 9,
     "metadata": {},
     "output_type": "execute_result"
    }
   ],
   "source": [
    "b"
   ]
  },
  {
   "cell_type": "code",
   "execution_count": 10,
   "id": "43ef8ea3",
   "metadata": {
    "execution": {
     "iopub.execute_input": "2023-02-27T08:48:00.667601Z",
     "iopub.status.busy": "2023-02-27T08:48:00.667138Z",
     "iopub.status.idle": "2023-02-27T08:48:00.672886Z",
     "shell.execute_reply": "2023-02-27T08:48:00.672311Z"
    }
   },
   "outputs": [
    {
     "data": {
      "text/plain": [
       "tensor([[ 0.4193, -1.4295, -1.6368],\n",
       "        [-0.0607, -1.4455,  1.0840]])"
      ]
     },
     "execution_count": 10,
     "metadata": {},
     "output_type": "execute_result"
    }
   ],
   "source": [
    "b.a"
   ]
  },
  {
   "cell_type": "code",
   "execution_count": 11,
   "id": "b785ab72",
   "metadata": {
    "execution": {
     "iopub.execute_input": "2023-02-27T08:48:00.675687Z",
     "iopub.status.busy": "2023-02-27T08:48:00.675216Z",
     "iopub.status.idle": "2023-02-27T08:48:05.140395Z",
     "shell.execute_reply": "2023-02-27T08:48:05.139710Z"
    }
   },
   "outputs": [
    {
     "name": "stdout",
     "output_type": "stream",
     "text": [
      "55 ns ± 0.00742 ns per loop (mean ± std. dev. of 7 runs, 10,000,000 loops each)\n"
     ]
    }
   ],
   "source": [
    "%timeit b.a"
   ]
  },
  {
   "cell_type": "code",
   "execution_count": 12,
   "id": "ad54dc69",
   "metadata": {
    "execution": {
     "iopub.execute_input": "2023-02-27T08:48:05.143605Z",
     "iopub.status.busy": "2023-02-27T08:48:05.143056Z",
     "iopub.status.idle": "2023-02-27T08:48:05.149574Z",
     "shell.execute_reply": "2023-02-27T08:48:05.148999Z"
    }
   },
   "outputs": [
    {
     "data": {
      "text/plain": [
       "Batch(\n",
       "    a: tensor([[ 0.8551, -1.5504,  0.2998],\n",
       "               [ 0.4421,  0.1085,  0.8342]]),\n",
       "    x: Batch(\n",
       "           c: tensor([[ 0.1305,  0.4034,  0.2404, -0.5426],\n",
       "                      [-0.0571, -0.3861, -0.0041,  0.3200],\n",
       "                      [-0.3360,  0.1568, -2.0318, -0.7948]]),\n",
       "       ),\n",
       ")"
      ]
     },
     "execution_count": 12,
     "metadata": {},
     "output_type": "execute_result"
    }
   ],
   "source": [
    "new_value = torch.randn(2, 3)\n",
    "b.a = new_value\n",
    "\n",
    "b"
   ]
  },
  {
   "cell_type": "code",
   "execution_count": 13,
   "id": "29b1d0bf",
   "metadata": {
    "execution": {
     "iopub.execute_input": "2023-02-27T08:48:05.152357Z",
     "iopub.status.busy": "2023-02-27T08:48:05.152013Z",
     "iopub.status.idle": "2023-02-27T08:48:09.148621Z",
     "shell.execute_reply": "2023-02-27T08:48:09.147908Z"
    }
   },
   "outputs": [
    {
     "name": "stdout",
     "output_type": "stream",
     "text": [
      "492 ns ± 0.0952 ns per loop (mean ± std. dev. of 7 runs, 1,000,000 loops each)\n"
     ]
    }
   ],
   "source": [
    "%timeit b.a = new_value"
   ]
  },
  {
   "cell_type": "markdown",
   "id": "b61ad1d0",
   "metadata": {},
   "source": [
    "## Initialization"
   ]
  },
  {
   "cell_type": "markdown",
   "id": "d70f0d54",
   "metadata": {},
   "source": [
    "### TreeValue's Initialization"
   ]
  },
  {
   "cell_type": "code",
   "execution_count": 14,
   "id": "d32a679b",
   "metadata": {
    "execution": {
     "iopub.execute_input": "2023-02-27T08:48:09.151523Z",
     "iopub.status.busy": "2023-02-27T08:48:09.151148Z",
     "iopub.status.idle": "2023-02-27T08:48:15.931426Z",
     "shell.execute_reply": "2023-02-27T08:48:15.930558Z"
    }
   },
   "outputs": [
    {
     "name": "stdout",
     "output_type": "stream",
     "text": [
      "835 ns ± 0.378 ns per loop (mean ± std. dev. of 7 runs, 1,000,000 loops each)\n"
     ]
    }
   ],
   "source": [
    "%timeit FastTreeValue(_TREE_DATA_1)"
   ]
  },
  {
   "cell_type": "markdown",
   "id": "24f3707b",
   "metadata": {},
   "source": [
    "### Tianshou Batch's Initialization"
   ]
  },
  {
   "cell_type": "code",
   "execution_count": 15,
   "id": "ac3958df",
   "metadata": {
    "execution": {
     "iopub.execute_input": "2023-02-27T08:48:15.934488Z",
     "iopub.status.busy": "2023-02-27T08:48:15.934122Z",
     "iopub.status.idle": "2023-02-27T08:48:25.267321Z",
     "shell.execute_reply": "2023-02-27T08:48:25.266602Z"
    }
   },
   "outputs": [
    {
     "name": "stdout",
     "output_type": "stream",
     "text": [
      "11.5 µs ± 37.7 ns per loop (mean ± std. dev. of 7 runs, 100,000 loops each)\n"
     ]
    }
   ],
   "source": [
    "%timeit Batch(**_TREE_DATA_1)"
   ]
  },
  {
   "cell_type": "markdown",
   "id": "1ab82e2d",
   "metadata": {},
   "source": [
    "## Deep Copy Operation"
   ]
  },
  {
   "cell_type": "code",
   "execution_count": 16,
   "id": "210a9442",
   "metadata": {
    "execution": {
     "iopub.execute_input": "2023-02-27T08:48:25.270566Z",
     "iopub.status.busy": "2023-02-27T08:48:25.270062Z",
     "iopub.status.idle": "2023-02-27T08:48:25.274034Z",
     "shell.execute_reply": "2023-02-27T08:48:25.273443Z"
    }
   },
   "outputs": [],
   "source": [
    "import copy"
   ]
  },
  {
   "cell_type": "markdown",
   "id": "5a736274",
   "metadata": {},
   "source": [
    "### Deep Copy of TreeValue"
   ]
  },
  {
   "cell_type": "code",
   "execution_count": 17,
   "id": "f9bcadd6",
   "metadata": {
    "execution": {
     "iopub.execute_input": "2023-02-27T08:48:25.276698Z",
     "iopub.status.busy": "2023-02-27T08:48:25.276384Z",
     "iopub.status.idle": "2023-02-27T08:48:36.175216Z",
     "shell.execute_reply": "2023-02-27T08:48:36.174502Z"
    }
   },
   "outputs": [
    {
     "name": "stdout",
     "output_type": "stream",
     "text": [
      "134 µs ± 798 ns per loop (mean ± std. dev. of 7 runs, 10,000 loops each)\n"
     ]
    }
   ],
   "source": [
    "t3 = FastTreeValue(_TREE_DATA_3)\n",
    "%timeit copy.deepcopy(t3)"
   ]
  },
  {
   "cell_type": "markdown",
   "id": "bf8be7ea",
   "metadata": {},
   "source": [
    "### Deep Copy of Tianshou Batch"
   ]
  },
  {
   "cell_type": "code",
   "execution_count": 18,
   "id": "91998e6f",
   "metadata": {
    "execution": {
     "iopub.execute_input": "2023-02-27T08:48:36.178332Z",
     "iopub.status.busy": "2023-02-27T08:48:36.177985Z",
     "iopub.status.idle": "2023-02-27T08:48:47.260548Z",
     "shell.execute_reply": "2023-02-27T08:48:47.259857Z"
    }
   },
   "outputs": [
    {
     "name": "stdout",
     "output_type": "stream",
     "text": [
      "137 µs ± 228 ns per loop (mean ± std. dev. of 7 runs, 10,000 loops each)\n"
     ]
    }
   ],
   "source": [
    "b3 = Batch(**_TREE_DATA_3)\n",
    "%timeit copy.deepcopy(b3)"
   ]
  },
  {
   "cell_type": "markdown",
   "id": "223162fb",
   "metadata": {},
   "source": [
    "## Stack, Concat and Split Operation"
   ]
  },
  {
   "cell_type": "markdown",
   "id": "85fa4a73",
   "metadata": {},
   "source": [
    "### Performance of TreeValue"
   ]
  },
  {
   "cell_type": "code",
   "execution_count": 19,
   "id": "a0c2b697",
   "metadata": {
    "execution": {
     "iopub.execute_input": "2023-02-27T08:48:47.263882Z",
     "iopub.status.busy": "2023-02-27T08:48:47.263468Z",
     "iopub.status.idle": "2023-02-27T08:48:47.267788Z",
     "shell.execute_reply": "2023-02-27T08:48:47.267230Z"
    }
   },
   "outputs": [],
   "source": [
    "trees = [FastTreeValue(_TREE_DATA_2) for _ in range(8)]"
   ]
  },
  {
   "cell_type": "code",
   "execution_count": 20,
   "id": "017ea5a5",
   "metadata": {
    "execution": {
     "iopub.execute_input": "2023-02-27T08:48:47.270797Z",
     "iopub.status.busy": "2023-02-27T08:48:47.270318Z",
     "iopub.status.idle": "2023-02-27T08:48:47.279132Z",
     "shell.execute_reply": "2023-02-27T08:48:47.278531Z"
    }
   },
   "outputs": [
    {
     "data": {
      "text/plain": [
       "<FastTreeValue 0x7ff724acb0a0>\n",
       "├── 'a' --> tensor([[[ 0.4193, -1.4295, -1.6368],\n",
       "│                    [-0.0607, -1.4455,  1.0840]],\n",
       "│           \n",
       "│                   [[ 0.4193, -1.4295, -1.6368],\n",
       "│                    [-0.0607, -1.4455,  1.0840]],\n",
       "│           \n",
       "│                   [[ 0.4193, -1.4295, -1.6368],\n",
       "│                    [-0.0607, -1.4455,  1.0840]],\n",
       "│           \n",
       "│                   [[ 0.4193, -1.4295, -1.6368],\n",
       "│                    [-0.0607, -1.4455,  1.0840]],\n",
       "│           \n",
       "│                   [[ 0.4193, -1.4295, -1.6368],\n",
       "│                    [-0.0607, -1.4455,  1.0840]],\n",
       "│           \n",
       "│                   [[ 0.4193, -1.4295, -1.6368],\n",
       "│                    [-0.0607, -1.4455,  1.0840]],\n",
       "│           \n",
       "│                   [[ 0.4193, -1.4295, -1.6368],\n",
       "│                    [-0.0607, -1.4455,  1.0840]],\n",
       "│           \n",
       "│                   [[ 0.4193, -1.4295, -1.6368],\n",
       "│                    [-0.0607, -1.4455,  1.0840]]])\n",
       "└── 'x' --> <FastTreeValue 0x7ff724ab8e50>\n",
       "    └── 'c' --> tensor([[[ 0.1305,  0.4034,  0.2404, -0.5426],\n",
       "                         [-0.0571, -0.3861, -0.0041,  0.3200],\n",
       "                         [-0.3360,  0.1568, -2.0318, -0.7948]],\n",
       "                \n",
       "                        [[ 0.1305,  0.4034,  0.2404, -0.5426],\n",
       "                         [-0.0571, -0.3861, -0.0041,  0.3200],\n",
       "                         [-0.3360,  0.1568, -2.0318, -0.7948]],\n",
       "                \n",
       "                        [[ 0.1305,  0.4034,  0.2404, -0.5426],\n",
       "                         [-0.0571, -0.3861, -0.0041,  0.3200],\n",
       "                         [-0.3360,  0.1568, -2.0318, -0.7948]],\n",
       "                \n",
       "                        [[ 0.1305,  0.4034,  0.2404, -0.5426],\n",
       "                         [-0.0571, -0.3861, -0.0041,  0.3200],\n",
       "                         [-0.3360,  0.1568, -2.0318, -0.7948]],\n",
       "                \n",
       "                        [[ 0.1305,  0.4034,  0.2404, -0.5426],\n",
       "                         [-0.0571, -0.3861, -0.0041,  0.3200],\n",
       "                         [-0.3360,  0.1568, -2.0318, -0.7948]],\n",
       "                \n",
       "                        [[ 0.1305,  0.4034,  0.2404, -0.5426],\n",
       "                         [-0.0571, -0.3861, -0.0041,  0.3200],\n",
       "                         [-0.3360,  0.1568, -2.0318, -0.7948]],\n",
       "                \n",
       "                        [[ 0.1305,  0.4034,  0.2404, -0.5426],\n",
       "                         [-0.0571, -0.3861, -0.0041,  0.3200],\n",
       "                         [-0.3360,  0.1568, -2.0318, -0.7948]],\n",
       "                \n",
       "                        [[ 0.1305,  0.4034,  0.2404, -0.5426],\n",
       "                         [-0.0571, -0.3861, -0.0041,  0.3200],\n",
       "                         [-0.3360,  0.1568, -2.0318, -0.7948]]])"
      ]
     },
     "execution_count": 20,
     "metadata": {},
     "output_type": "execute_result"
    }
   ],
   "source": [
    "t_stack = FastTreeValue.func(subside=True)(torch.stack)\n",
    "\n",
    "t_stack(trees)"
   ]
  },
  {
   "cell_type": "code",
   "execution_count": 21,
   "id": "f8b3f415",
   "metadata": {
    "execution": {
     "iopub.execute_input": "2023-02-27T08:48:47.282047Z",
     "iopub.status.busy": "2023-02-27T08:48:47.281464Z",
     "iopub.status.idle": "2023-02-27T08:48:49.890939Z",
     "shell.execute_reply": "2023-02-27T08:48:49.890182Z"
    }
   },
   "outputs": [
    {
     "name": "stdout",
     "output_type": "stream",
     "text": [
      "32.1 µs ± 74.2 ns per loop (mean ± std. dev. of 7 runs, 10,000 loops each)\n"
     ]
    }
   ],
   "source": [
    "%timeit t_stack(trees)"
   ]
  },
  {
   "cell_type": "code",
   "execution_count": 22,
   "id": "94b56771",
   "metadata": {
    "execution": {
     "iopub.execute_input": "2023-02-27T08:48:49.893930Z",
     "iopub.status.busy": "2023-02-27T08:48:49.893580Z",
     "iopub.status.idle": "2023-02-27T08:48:49.902446Z",
     "shell.execute_reply": "2023-02-27T08:48:49.901834Z"
    }
   },
   "outputs": [
    {
     "data": {
      "text/plain": [
       "<FastTreeValue 0x7ff66fce98e0>\n",
       "├── 'a' --> tensor([[ 0.4193, -1.4295, -1.6368],\n",
       "│                   [-0.0607, -1.4455,  1.0840],\n",
       "│                   [ 0.4193, -1.4295, -1.6368],\n",
       "│                   [-0.0607, -1.4455,  1.0840],\n",
       "│                   [ 0.4193, -1.4295, -1.6368],\n",
       "│                   [-0.0607, -1.4455,  1.0840],\n",
       "│                   [ 0.4193, -1.4295, -1.6368],\n",
       "│                   [-0.0607, -1.4455,  1.0840],\n",
       "│                   [ 0.4193, -1.4295, -1.6368],\n",
       "│                   [-0.0607, -1.4455,  1.0840],\n",
       "│                   [ 0.4193, -1.4295, -1.6368],\n",
       "│                   [-0.0607, -1.4455,  1.0840],\n",
       "│                   [ 0.4193, -1.4295, -1.6368],\n",
       "│                   [-0.0607, -1.4455,  1.0840],\n",
       "│                   [ 0.4193, -1.4295, -1.6368],\n",
       "│                   [-0.0607, -1.4455,  1.0840]])\n",
       "└── 'x' --> <FastTreeValue 0x7ff66fce9880>\n",
       "    └── 'c' --> tensor([[ 0.1305,  0.4034,  0.2404, -0.5426],\n",
       "                        [-0.0571, -0.3861, -0.0041,  0.3200],\n",
       "                        [-0.3360,  0.1568, -2.0318, -0.7948],\n",
       "                        [ 0.1305,  0.4034,  0.2404, -0.5426],\n",
       "                        [-0.0571, -0.3861, -0.0041,  0.3200],\n",
       "                        [-0.3360,  0.1568, -2.0318, -0.7948],\n",
       "                        [ 0.1305,  0.4034,  0.2404, -0.5426],\n",
       "                        [-0.0571, -0.3861, -0.0041,  0.3200],\n",
       "                        [-0.3360,  0.1568, -2.0318, -0.7948],\n",
       "                        [ 0.1305,  0.4034,  0.2404, -0.5426],\n",
       "                        [-0.0571, -0.3861, -0.0041,  0.3200],\n",
       "                        [-0.3360,  0.1568, -2.0318, -0.7948],\n",
       "                        [ 0.1305,  0.4034,  0.2404, -0.5426],\n",
       "                        [-0.0571, -0.3861, -0.0041,  0.3200],\n",
       "                        [-0.3360,  0.1568, -2.0318, -0.7948],\n",
       "                        [ 0.1305,  0.4034,  0.2404, -0.5426],\n",
       "                        [-0.0571, -0.3861, -0.0041,  0.3200],\n",
       "                        [-0.3360,  0.1568, -2.0318, -0.7948],\n",
       "                        [ 0.1305,  0.4034,  0.2404, -0.5426],\n",
       "                        [-0.0571, -0.3861, -0.0041,  0.3200],\n",
       "                        [-0.3360,  0.1568, -2.0318, -0.7948],\n",
       "                        [ 0.1305,  0.4034,  0.2404, -0.5426],\n",
       "                        [-0.0571, -0.3861, -0.0041,  0.3200],\n",
       "                        [-0.3360,  0.1568, -2.0318, -0.7948]])"
      ]
     },
     "execution_count": 22,
     "metadata": {},
     "output_type": "execute_result"
    }
   ],
   "source": [
    "t_cat = FastTreeValue.func(subside=True)(torch.cat)\n",
    "\n",
    "t_cat(trees)"
   ]
  },
  {
   "cell_type": "code",
   "execution_count": 23,
   "id": "5e9c06a6",
   "metadata": {
    "execution": {
     "iopub.execute_input": "2023-02-27T08:48:49.905976Z",
     "iopub.status.busy": "2023-02-27T08:48:49.905016Z",
     "iopub.status.idle": "2023-02-27T08:48:52.369714Z",
     "shell.execute_reply": "2023-02-27T08:48:52.369032Z"
    }
   },
   "outputs": [
    {
     "name": "stdout",
     "output_type": "stream",
     "text": [
      "30.3 µs ± 70 ns per loop (mean ± std. dev. of 7 runs, 10,000 loops each)\n"
     ]
    }
   ],
   "source": [
    "%timeit t_cat(trees)"
   ]
  },
  {
   "cell_type": "code",
   "execution_count": 24,
   "id": "a3ab5c8f",
   "metadata": {
    "execution": {
     "iopub.execute_input": "2023-02-27T08:48:52.372776Z",
     "iopub.status.busy": "2023-02-27T08:48:52.372424Z",
     "iopub.status.idle": "2023-02-27T08:48:57.132304Z",
     "shell.execute_reply": "2023-02-27T08:48:57.131557Z"
    }
   },
   "outputs": [
    {
     "name": "stdout",
     "output_type": "stream",
     "text": [
      "58.6 µs ± 132 ns per loop (mean ± std. dev. of 7 runs, 10,000 loops each)\n"
     ]
    }
   ],
   "source": [
    "t_split = FastTreeValue.func(rise=True)(torch.split)\n",
    "tree = FastTreeValue({\n",
    "    'obs': torch.randn(8, 4, 84, 84),\n",
    "    'action': torch.randint(0, 6, size=(8, 1,)),\n",
    "    'reward': torch.rand(8, 1),\n",
    "})\n",
    "\n",
    "%timeit t_split(tree, 1)"
   ]
  },
  {
   "cell_type": "markdown",
   "id": "31c3ec0b",
   "metadata": {},
   "source": [
    "### Performance of Tianshou Batch"
   ]
  },
  {
   "cell_type": "code",
   "execution_count": 25,
   "id": "9ead828a",
   "metadata": {
    "execution": {
     "iopub.execute_input": "2023-02-27T08:48:57.135374Z",
     "iopub.status.busy": "2023-02-27T08:48:57.135029Z",
     "iopub.status.idle": "2023-02-27T08:48:57.143694Z",
     "shell.execute_reply": "2023-02-27T08:48:57.143109Z"
    }
   },
   "outputs": [
    {
     "data": {
      "text/plain": [
       "Batch(\n",
       "    x: Batch(\n",
       "           c: tensor([[[ 0.1305,  0.4034,  0.2404, -0.5426],\n",
       "                       [-0.0571, -0.3861, -0.0041,  0.3200],\n",
       "                       [-0.3360,  0.1568, -2.0318, -0.7948]],\n",
       "              \n",
       "                      [[ 0.1305,  0.4034,  0.2404, -0.5426],\n",
       "                       [-0.0571, -0.3861, -0.0041,  0.3200],\n",
       "                       [-0.3360,  0.1568, -2.0318, -0.7948]],\n",
       "              \n",
       "                      [[ 0.1305,  0.4034,  0.2404, -0.5426],\n",
       "                       [-0.0571, -0.3861, -0.0041,  0.3200],\n",
       "                       [-0.3360,  0.1568, -2.0318, -0.7948]],\n",
       "              \n",
       "                      [[ 0.1305,  0.4034,  0.2404, -0.5426],\n",
       "                       [-0.0571, -0.3861, -0.0041,  0.3200],\n",
       "                       [-0.3360,  0.1568, -2.0318, -0.7948]],\n",
       "              \n",
       "                      [[ 0.1305,  0.4034,  0.2404, -0.5426],\n",
       "                       [-0.0571, -0.3861, -0.0041,  0.3200],\n",
       "                       [-0.3360,  0.1568, -2.0318, -0.7948]],\n",
       "              \n",
       "                      [[ 0.1305,  0.4034,  0.2404, -0.5426],\n",
       "                       [-0.0571, -0.3861, -0.0041,  0.3200],\n",
       "                       [-0.3360,  0.1568, -2.0318, -0.7948]],\n",
       "              \n",
       "                      [[ 0.1305,  0.4034,  0.2404, -0.5426],\n",
       "                       [-0.0571, -0.3861, -0.0041,  0.3200],\n",
       "                       [-0.3360,  0.1568, -2.0318, -0.7948]],\n",
       "              \n",
       "                      [[ 0.1305,  0.4034,  0.2404, -0.5426],\n",
       "                       [-0.0571, -0.3861, -0.0041,  0.3200],\n",
       "                       [-0.3360,  0.1568, -2.0318, -0.7948]]]),\n",
       "       ),\n",
       "    a: tensor([[[ 0.4193, -1.4295, -1.6368],\n",
       "                [-0.0607, -1.4455,  1.0840]],\n",
       "       \n",
       "               [[ 0.4193, -1.4295, -1.6368],\n",
       "                [-0.0607, -1.4455,  1.0840]],\n",
       "       \n",
       "               [[ 0.4193, -1.4295, -1.6368],\n",
       "                [-0.0607, -1.4455,  1.0840]],\n",
       "       \n",
       "               [[ 0.4193, -1.4295, -1.6368],\n",
       "                [-0.0607, -1.4455,  1.0840]],\n",
       "       \n",
       "               [[ 0.4193, -1.4295, -1.6368],\n",
       "                [-0.0607, -1.4455,  1.0840]],\n",
       "       \n",
       "               [[ 0.4193, -1.4295, -1.6368],\n",
       "                [-0.0607, -1.4455,  1.0840]],\n",
       "       \n",
       "               [[ 0.4193, -1.4295, -1.6368],\n",
       "                [-0.0607, -1.4455,  1.0840]],\n",
       "       \n",
       "               [[ 0.4193, -1.4295, -1.6368],\n",
       "                [-0.0607, -1.4455,  1.0840]]]),\n",
       ")"
      ]
     },
     "execution_count": 25,
     "metadata": {},
     "output_type": "execute_result"
    }
   ],
   "source": [
    "batches = [Batch(**_TREE_DATA_2) for _ in range(8)]\n",
    "\n",
    "Batch.stack(batches)"
   ]
  },
  {
   "cell_type": "code",
   "execution_count": 26,
   "id": "ec9037a3",
   "metadata": {
    "execution": {
     "iopub.execute_input": "2023-02-27T08:48:57.146288Z",
     "iopub.status.busy": "2023-02-27T08:48:57.146023Z",
     "iopub.status.idle": "2023-02-27T08:49:03.542533Z",
     "shell.execute_reply": "2023-02-27T08:49:03.541774Z"
    }
   },
   "outputs": [
    {
     "name": "stdout",
     "output_type": "stream",
     "text": [
      "78.7 µs ± 158 ns per loop (mean ± std. dev. of 7 runs, 10,000 loops each)\n"
     ]
    }
   ],
   "source": [
    "%timeit Batch.stack(batches)"
   ]
  },
  {
   "cell_type": "code",
   "execution_count": 27,
   "id": "cb8ab77e",
   "metadata": {
    "execution": {
     "iopub.execute_input": "2023-02-27T08:49:03.545351Z",
     "iopub.status.busy": "2023-02-27T08:49:03.544995Z",
     "iopub.status.idle": "2023-02-27T08:49:03.552430Z",
     "shell.execute_reply": "2023-02-27T08:49:03.551843Z"
    }
   },
   "outputs": [
    {
     "data": {
      "text/plain": [
       "Batch(\n",
       "    x: Batch(\n",
       "           c: tensor([[ 0.1305,  0.4034,  0.2404, -0.5426],\n",
       "                      [-0.0571, -0.3861, -0.0041,  0.3200],\n",
       "                      [-0.3360,  0.1568, -2.0318, -0.7948],\n",
       "                      [ 0.1305,  0.4034,  0.2404, -0.5426],\n",
       "                      [-0.0571, -0.3861, -0.0041,  0.3200],\n",
       "                      [-0.3360,  0.1568, -2.0318, -0.7948],\n",
       "                      [ 0.1305,  0.4034,  0.2404, -0.5426],\n",
       "                      [-0.0571, -0.3861, -0.0041,  0.3200],\n",
       "                      [-0.3360,  0.1568, -2.0318, -0.7948],\n",
       "                      [ 0.1305,  0.4034,  0.2404, -0.5426],\n",
       "                      [-0.0571, -0.3861, -0.0041,  0.3200],\n",
       "                      [-0.3360,  0.1568, -2.0318, -0.7948],\n",
       "                      [ 0.1305,  0.4034,  0.2404, -0.5426],\n",
       "                      [-0.0571, -0.3861, -0.0041,  0.3200],\n",
       "                      [-0.3360,  0.1568, -2.0318, -0.7948],\n",
       "                      [ 0.1305,  0.4034,  0.2404, -0.5426],\n",
       "                      [-0.0571, -0.3861, -0.0041,  0.3200],\n",
       "                      [-0.3360,  0.1568, -2.0318, -0.7948],\n",
       "                      [ 0.1305,  0.4034,  0.2404, -0.5426],\n",
       "                      [-0.0571, -0.3861, -0.0041,  0.3200],\n",
       "                      [-0.3360,  0.1568, -2.0318, -0.7948],\n",
       "                      [ 0.1305,  0.4034,  0.2404, -0.5426],\n",
       "                      [-0.0571, -0.3861, -0.0041,  0.3200],\n",
       "                      [-0.3360,  0.1568, -2.0318, -0.7948]]),\n",
       "       ),\n",
       "    a: tensor([[ 0.4193, -1.4295, -1.6368],\n",
       "               [-0.0607, -1.4455,  1.0840],\n",
       "               [ 0.4193, -1.4295, -1.6368],\n",
       "               [-0.0607, -1.4455,  1.0840],\n",
       "               [ 0.4193, -1.4295, -1.6368],\n",
       "               [-0.0607, -1.4455,  1.0840],\n",
       "               [ 0.4193, -1.4295, -1.6368],\n",
       "               [-0.0607, -1.4455,  1.0840],\n",
       "               [ 0.4193, -1.4295, -1.6368],\n",
       "               [-0.0607, -1.4455,  1.0840],\n",
       "               [ 0.4193, -1.4295, -1.6368],\n",
       "               [-0.0607, -1.4455,  1.0840],\n",
       "               [ 0.4193, -1.4295, -1.6368],\n",
       "               [-0.0607, -1.4455,  1.0840],\n",
       "               [ 0.4193, -1.4295, -1.6368],\n",
       "               [-0.0607, -1.4455,  1.0840]]),\n",
       ")"
      ]
     },
     "execution_count": 27,
     "metadata": {},
     "output_type": "execute_result"
    }
   ],
   "source": [
    "Batch.cat(batches)"
   ]
  },
  {
   "cell_type": "code",
   "execution_count": 28,
   "id": "18dfb045",
   "metadata": {
    "execution": {
     "iopub.execute_input": "2023-02-27T08:49:03.554822Z",
     "iopub.status.busy": "2023-02-27T08:49:03.554487Z",
     "iopub.status.idle": "2023-02-27T08:49:15.123427Z",
     "shell.execute_reply": "2023-02-27T08:49:15.122751Z"
    }
   },
   "outputs": [
    {
     "name": "stdout",
     "output_type": "stream",
     "text": [
      "142 µs ± 203 ns per loop (mean ± std. dev. of 7 runs, 10,000 loops each)\n"
     ]
    }
   ],
   "source": [
    "%timeit Batch.cat(batches)"
   ]
  },
  {
   "cell_type": "code",
   "execution_count": 29,
   "id": "c6688e51",
   "metadata": {
    "execution": {
     "iopub.execute_input": "2023-02-27T08:49:15.126099Z",
     "iopub.status.busy": "2023-02-27T08:49:15.125741Z",
     "iopub.status.idle": "2023-02-27T08:49:17.588603Z",
     "shell.execute_reply": "2023-02-27T08:49:17.587922Z"
    }
   },
   "outputs": [
    {
     "name": "stdout",
     "output_type": "stream",
     "text": [
      "302 µs ± 1.11 µs per loop (mean ± std. dev. of 7 runs, 1,000 loops each)\n"
     ]
    }
   ],
   "source": [
    "batch = Batch({\n",
    "    'obs': torch.randn(8, 4, 84, 84),\n",
    "    'action': torch.randint(0, 6, size=(8, 1,)),\n",
    "    'reward': torch.rand(8, 1)}\n",
    ")\n",
    "\n",
    "%timeit list(Batch.split(batch, 1, shuffle=False, merge_last=True))"
   ]
  },
  {
   "cell_type": "code",
   "execution_count": null,
   "id": "2539fbd9",
   "metadata": {},
   "outputs": [],
   "source": []
  }
 ],
 "metadata": {
  "kernelspec": {
   "display_name": "Python 3 (ipykernel)",
   "language": "python",
   "name": "python3"
  },
  "language_info": {
   "codemirror_mode": {
    "name": "ipython",
    "version": 3
   },
   "file_extension": ".py",
   "mimetype": "text/x-python",
   "name": "python",
   "nbconvert_exporter": "python",
   "pygments_lexer": "ipython3",
   "version": "3.8.16"
  }
 },
 "nbformat": 4,
 "nbformat_minor": 5
}
