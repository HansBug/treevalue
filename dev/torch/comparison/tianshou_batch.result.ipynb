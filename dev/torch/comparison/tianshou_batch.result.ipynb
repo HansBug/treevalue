{
 "cells": [
  {
   "cell_type": "markdown",
   "id": "9d39d946",
   "metadata": {},
   "source": [
    "# Comparison Between TreeValue and Tianshou Batch"
   ]
  },
  {
   "cell_type": "markdown",
   "id": "3c6db2d4",
   "metadata": {},
   "source": [
    "In this section, we will take a look at the feature and performance of the [Tianshou Batch](https://github.com/thu-ml/tianshou) library, which is developed by Tsinghua Machine Learning Group."
   ]
  },
  {
   "cell_type": "markdown",
   "id": "069361b0",
   "metadata": {},
   "source": [
    "Before starting the comparison, let us define some thing."
   ]
  },
  {
   "cell_type": "code",
   "execution_count": 1,
   "id": "06fc8d26",
   "metadata": {
    "execution": {
     "iopub.execute_input": "2023-02-27T10:43:36.512891Z",
     "iopub.status.busy": "2023-02-27T10:43:36.512415Z",
     "iopub.status.idle": "2023-02-27T10:43:37.485391Z",
     "shell.execute_reply": "2023-02-27T10:43:37.484603Z"
    }
   },
   "outputs": [
    {
     "name": "stderr",
     "output_type": "stream",
     "text": [
      "/opt/hostedtoolcache/Python/3.8.16/x64/lib/python3.8/site-packages/tqdm/auto.py:22: TqdmWarning: IProgress not found. Please update jupyter and ipywidgets. See https://ipywidgets.readthedocs.io/en/stable/user_install.html\n",
      "  from .autonotebook import tqdm as notebook_tqdm\n"
     ]
    }
   ],
   "source": [
    "import torch \n",
    "\n",
    "_TREE_DATA_1 = {'a': 1, 'b': 2, 'x': {'c': 3, 'd': 4}}\n",
    "_TREE_DATA_2 = {\n",
    "    'a': torch.randn(2, 3), \n",
    "    'x': {\n",
    "        'c': torch.randn(3, 4)\n",
    "    },\n",
    "}\n",
    "_TREE_DATA_3 = {\n",
    "    'obs': torch.randn(4, 84, 84),\n",
    "    'action': torch.randint(0, 6, size=(1,)),\n",
    "    'reward': torch.rand(1),\n",
    "}"
   ]
  },
  {
   "cell_type": "markdown",
   "id": "83461b25",
   "metadata": {},
   "source": [
    "## Read and Write Operation"
   ]
  },
  {
   "cell_type": "markdown",
   "id": "067b3f73",
   "metadata": {},
   "source": [
    "Reading and writing are the two most common operations in the tree data structure based on the data model (TreeValue and Tianshou Batch both belong to this type), so this section will compare the reading and writing performance of these two libraries."
   ]
  },
  {
   "cell_type": "markdown",
   "id": "5d09a5b7",
   "metadata": {},
   "source": [
    "### TreeValue's Get and Set"
   ]
  },
  {
   "cell_type": "code",
   "execution_count": 2,
   "id": "9519c4bb",
   "metadata": {
    "execution": {
     "iopub.execute_input": "2023-02-27T10:43:37.489450Z",
     "iopub.status.busy": "2023-02-27T10:43:37.488965Z",
     "iopub.status.idle": "2023-02-27T10:43:37.779987Z",
     "shell.execute_reply": "2023-02-27T10:43:37.778864Z"
    }
   },
   "outputs": [],
   "source": [
    "from treevalue import FastTreeValue\n",
    "\n",
    "t = FastTreeValue(_TREE_DATA_2)"
   ]
  },
  {
   "cell_type": "code",
   "execution_count": 3,
   "id": "11c37677",
   "metadata": {
    "execution": {
     "iopub.execute_input": "2023-02-27T10:43:37.783947Z",
     "iopub.status.busy": "2023-02-27T10:43:37.783399Z",
     "iopub.status.idle": "2023-02-27T10:43:37.794763Z",
     "shell.execute_reply": "2023-02-27T10:43:37.794129Z"
    }
   },
   "outputs": [
    {
     "data": {
      "text/plain": [
       "<FastTreeValue 0x7fe274adf7f0>\n",
       "├── 'a' --> tensor([[0.0454, 0.3209, 1.5625],\n",
       "│                   [1.1581, 1.4147, 2.6867]])\n",
       "└── 'x' --> <FastTreeValue 0x7fe274adf5e0>\n",
       "    └── 'c' --> tensor([[ 0.6068,  1.7537,  0.0644, -1.8648],\n",
       "                        [-0.3343,  1.6618, -0.6957,  0.5624],\n",
       "                        [-1.9314, -0.3298,  0.5371, -0.9942]])"
      ]
     },
     "execution_count": 3,
     "metadata": {},
     "output_type": "execute_result"
    }
   ],
   "source": [
    "t"
   ]
  },
  {
   "cell_type": "code",
   "execution_count": 4,
   "id": "fd70b0b9",
   "metadata": {
    "execution": {
     "iopub.execute_input": "2023-02-27T10:43:37.798503Z",
     "iopub.status.busy": "2023-02-27T10:43:37.797348Z",
     "iopub.status.idle": "2023-02-27T10:43:37.804052Z",
     "shell.execute_reply": "2023-02-27T10:43:37.803393Z"
    }
   },
   "outputs": [
    {
     "data": {
      "text/plain": [
       "tensor([[0.0454, 0.3209, 1.5625],\n",
       "        [1.1581, 1.4147, 2.6867]])"
      ]
     },
     "execution_count": 4,
     "metadata": {},
     "output_type": "execute_result"
    }
   ],
   "source": [
    "t.a"
   ]
  },
  {
   "cell_type": "code",
   "execution_count": 5,
   "id": "c18197bd",
   "metadata": {
    "execution": {
     "iopub.execute_input": "2023-02-27T10:43:37.807059Z",
     "iopub.status.busy": "2023-02-27T10:43:37.806493Z",
     "iopub.status.idle": "2023-02-27T10:43:42.914626Z",
     "shell.execute_reply": "2023-02-27T10:43:42.913716Z"
    }
   },
   "outputs": [
    {
     "name": "stdout",
     "output_type": "stream",
     "text": [
      "62.9 ns ± 0.22 ns per loop (mean ± std. dev. of 7 runs, 10,000,000 loops each)\n"
     ]
    }
   ],
   "source": [
    "%timeit t.a"
   ]
  },
  {
   "cell_type": "code",
   "execution_count": 6,
   "id": "bd52f867",
   "metadata": {
    "execution": {
     "iopub.execute_input": "2023-02-27T10:43:42.918166Z",
     "iopub.status.busy": "2023-02-27T10:43:42.917581Z",
     "iopub.status.idle": "2023-02-27T10:43:42.924961Z",
     "shell.execute_reply": "2023-02-27T10:43:42.924355Z"
    }
   },
   "outputs": [
    {
     "data": {
      "text/plain": [
       "<FastTreeValue 0x7fe274adf7f0>\n",
       "├── 'a' --> tensor([[-0.3411,  0.0506,  0.1972],\n",
       "│                   [ 0.7969, -0.8285,  0.0570]])\n",
       "└── 'x' --> <FastTreeValue 0x7fe274adf5e0>\n",
       "    └── 'c' --> tensor([[ 0.6068,  1.7537,  0.0644, -1.8648],\n",
       "                        [-0.3343,  1.6618, -0.6957,  0.5624],\n",
       "                        [-1.9314, -0.3298,  0.5371, -0.9942]])"
      ]
     },
     "execution_count": 6,
     "metadata": {},
     "output_type": "execute_result"
    }
   ],
   "source": [
    "new_value = torch.randn(2, 3)\n",
    "t.a = new_value\n",
    "\n",
    "t"
   ]
  },
  {
   "cell_type": "code",
   "execution_count": 7,
   "id": "bbe04d1c",
   "metadata": {
    "execution": {
     "iopub.execute_input": "2023-02-27T10:43:42.927920Z",
     "iopub.status.busy": "2023-02-27T10:43:42.927284Z",
     "iopub.status.idle": "2023-02-27T10:43:48.325470Z",
     "shell.execute_reply": "2023-02-27T10:43:48.324507Z"
    }
   },
   "outputs": [
    {
     "name": "stdout",
     "output_type": "stream",
     "text": [
      "66.5 ns ± 0.0538 ns per loop (mean ± std. dev. of 7 runs, 10,000,000 loops each)\n"
     ]
    }
   ],
   "source": [
    "%timeit t.a = new_value"
   ]
  },
  {
   "cell_type": "markdown",
   "id": "48c49731",
   "metadata": {},
   "source": [
    "### Tianshou Batch's Get and Set"
   ]
  },
  {
   "cell_type": "code",
   "execution_count": 8,
   "id": "f1bb14c1",
   "metadata": {
    "execution": {
     "iopub.execute_input": "2023-02-27T10:43:48.329314Z",
     "iopub.status.busy": "2023-02-27T10:43:48.328884Z",
     "iopub.status.idle": "2023-02-27T10:43:48.716046Z",
     "shell.execute_reply": "2023-02-27T10:43:48.715245Z"
    }
   },
   "outputs": [],
   "source": [
    "from tianshou.data import Batch\n",
    "\n",
    "b = Batch(**_TREE_DATA_2)"
   ]
  },
  {
   "cell_type": "code",
   "execution_count": 9,
   "id": "cb0777c3",
   "metadata": {
    "execution": {
     "iopub.execute_input": "2023-02-27T10:43:48.719998Z",
     "iopub.status.busy": "2023-02-27T10:43:48.719454Z",
     "iopub.status.idle": "2023-02-27T10:43:48.727509Z",
     "shell.execute_reply": "2023-02-27T10:43:48.726866Z"
    }
   },
   "outputs": [
    {
     "data": {
      "text/plain": [
       "Batch(\n",
       "    a: tensor([[0.0454, 0.3209, 1.5625],\n",
       "               [1.1581, 1.4147, 2.6867]]),\n",
       "    x: Batch(\n",
       "           c: tensor([[ 0.6068,  1.7537,  0.0644, -1.8648],\n",
       "                      [-0.3343,  1.6618, -0.6957,  0.5624],\n",
       "                      [-1.9314, -0.3298,  0.5371, -0.9942]]),\n",
       "       ),\n",
       ")"
      ]
     },
     "execution_count": 9,
     "metadata": {},
     "output_type": "execute_result"
    }
   ],
   "source": [
    "b"
   ]
  },
  {
   "cell_type": "code",
   "execution_count": 10,
   "id": "43ef8ea3",
   "metadata": {
    "execution": {
     "iopub.execute_input": "2023-02-27T10:43:48.730702Z",
     "iopub.status.busy": "2023-02-27T10:43:48.730162Z",
     "iopub.status.idle": "2023-02-27T10:43:48.736344Z",
     "shell.execute_reply": "2023-02-27T10:43:48.735730Z"
    }
   },
   "outputs": [
    {
     "data": {
      "text/plain": [
       "tensor([[0.0454, 0.3209, 1.5625],\n",
       "        [1.1581, 1.4147, 2.6867]])"
      ]
     },
     "execution_count": 10,
     "metadata": {},
     "output_type": "execute_result"
    }
   ],
   "source": [
    "b.a"
   ]
  },
  {
   "cell_type": "code",
   "execution_count": 11,
   "id": "b785ab72",
   "metadata": {
    "execution": {
     "iopub.execute_input": "2023-02-27T10:43:48.739222Z",
     "iopub.status.busy": "2023-02-27T10:43:48.738701Z",
     "iopub.status.idle": "2023-02-27T10:43:53.587637Z",
     "shell.execute_reply": "2023-02-27T10:43:53.586701Z"
    }
   },
   "outputs": [
    {
     "name": "stdout",
     "output_type": "stream",
     "text": [
      "59.6 ns ± 0.0196 ns per loop (mean ± std. dev. of 7 runs, 10,000,000 loops each)\n"
     ]
    }
   ],
   "source": [
    "%timeit b.a"
   ]
  },
  {
   "cell_type": "code",
   "execution_count": 12,
   "id": "ad54dc69",
   "metadata": {
    "execution": {
     "iopub.execute_input": "2023-02-27T10:43:53.591518Z",
     "iopub.status.busy": "2023-02-27T10:43:53.591098Z",
     "iopub.status.idle": "2023-02-27T10:43:53.599007Z",
     "shell.execute_reply": "2023-02-27T10:43:53.598371Z"
    }
   },
   "outputs": [
    {
     "data": {
      "text/plain": [
       "Batch(\n",
       "    a: tensor([[-0.9340,  0.0407,  0.4915],\n",
       "               [-1.3983, -1.7783,  0.8816]]),\n",
       "    x: Batch(\n",
       "           c: tensor([[ 0.6068,  1.7537,  0.0644, -1.8648],\n",
       "                      [-0.3343,  1.6618, -0.6957,  0.5624],\n",
       "                      [-1.9314, -0.3298,  0.5371, -0.9942]]),\n",
       "       ),\n",
       ")"
      ]
     },
     "execution_count": 12,
     "metadata": {},
     "output_type": "execute_result"
    }
   ],
   "source": [
    "new_value = torch.randn(2, 3)\n",
    "b.a = new_value\n",
    "\n",
    "b"
   ]
  },
  {
   "cell_type": "code",
   "execution_count": 13,
   "id": "29b1d0bf",
   "metadata": {
    "execution": {
     "iopub.execute_input": "2023-02-27T10:43:53.601866Z",
     "iopub.status.busy": "2023-02-27T10:43:53.601446Z",
     "iopub.status.idle": "2023-02-27T10:43:57.604764Z",
     "shell.execute_reply": "2023-02-27T10:43:57.603873Z"
    }
   },
   "outputs": [
    {
     "name": "stdout",
     "output_type": "stream",
     "text": [
      "491 ns ± 0.163 ns per loop (mean ± std. dev. of 7 runs, 1,000,000 loops each)\n"
     ]
    }
   ],
   "source": [
    "%timeit b.a = new_value"
   ]
  },
  {
   "cell_type": "markdown",
   "id": "b61ad1d0",
   "metadata": {},
   "source": [
    "## Initialization"
   ]
  },
  {
   "cell_type": "markdown",
   "id": "d70f0d54",
   "metadata": {},
   "source": [
    "### TreeValue's Initialization"
   ]
  },
  {
   "cell_type": "code",
   "execution_count": 14,
   "id": "d32a679b",
   "metadata": {
    "execution": {
     "iopub.execute_input": "2023-02-27T10:43:57.608283Z",
     "iopub.status.busy": "2023-02-27T10:43:57.607749Z",
     "iopub.status.idle": "2023-02-27T10:44:04.376283Z",
     "shell.execute_reply": "2023-02-27T10:44:04.375521Z"
    }
   },
   "outputs": [
    {
     "name": "stdout",
     "output_type": "stream",
     "text": [
      "834 ns ± 2.47 ns per loop (mean ± std. dev. of 7 runs, 1,000,000 loops each)\n"
     ]
    }
   ],
   "source": [
    "%timeit FastTreeValue(_TREE_DATA_1)"
   ]
  },
  {
   "cell_type": "markdown",
   "id": "24f3707b",
   "metadata": {},
   "source": [
    "### Tianshou Batch's Initialization"
   ]
  },
  {
   "cell_type": "code",
   "execution_count": 15,
   "id": "ac3958df",
   "metadata": {
    "execution": {
     "iopub.execute_input": "2023-02-27T10:44:04.380095Z",
     "iopub.status.busy": "2023-02-27T10:44:04.379435Z",
     "iopub.status.idle": "2023-02-27T10:44:13.104983Z",
     "shell.execute_reply": "2023-02-27T10:44:13.103722Z"
    }
   },
   "outputs": [
    {
     "name": "stdout",
     "output_type": "stream",
     "text": [
      "10.7 µs ± 23.1 ns per loop (mean ± std. dev. of 7 runs, 100,000 loops each)\n"
     ]
    }
   ],
   "source": [
    "%timeit Batch(**_TREE_DATA_1)"
   ]
  },
  {
   "cell_type": "markdown",
   "id": "1ab82e2d",
   "metadata": {},
   "source": [
    "## Deep Copy Operation"
   ]
  },
  {
   "cell_type": "code",
   "execution_count": 16,
   "id": "210a9442",
   "metadata": {
    "execution": {
     "iopub.execute_input": "2023-02-27T10:44:13.108555Z",
     "iopub.status.busy": "2023-02-27T10:44:13.107941Z",
     "iopub.status.idle": "2023-02-27T10:44:13.112366Z",
     "shell.execute_reply": "2023-02-27T10:44:13.111374Z"
    }
   },
   "outputs": [],
   "source": [
    "import copy"
   ]
  },
  {
   "cell_type": "markdown",
   "id": "5a736274",
   "metadata": {},
   "source": [
    "### Deep Copy of TreeValue"
   ]
  },
  {
   "cell_type": "code",
   "execution_count": 17,
   "id": "f9bcadd6",
   "metadata": {
    "execution": {
     "iopub.execute_input": "2023-02-27T10:44:13.115664Z",
     "iopub.status.busy": "2023-02-27T10:44:13.115099Z",
     "iopub.status.idle": "2023-02-27T10:44:24.592359Z",
     "shell.execute_reply": "2023-02-27T10:44:24.591727Z"
    }
   },
   "outputs": [
    {
     "name": "stdout",
     "output_type": "stream",
     "text": [
      "141 µs ± 514 ns per loop (mean ± std. dev. of 7 runs, 10,000 loops each)\n"
     ]
    }
   ],
   "source": [
    "t3 = FastTreeValue(_TREE_DATA_3)\n",
    "%timeit copy.deepcopy(t3)"
   ]
  },
  {
   "cell_type": "markdown",
   "id": "bf8be7ea",
   "metadata": {},
   "source": [
    "### Deep Copy of Tianshou Batch"
   ]
  },
  {
   "cell_type": "code",
   "execution_count": 18,
   "id": "91998e6f",
   "metadata": {
    "execution": {
     "iopub.execute_input": "2023-02-27T10:44:24.595449Z",
     "iopub.status.busy": "2023-02-27T10:44:24.595013Z",
     "iopub.status.idle": "2023-02-27T10:44:36.016457Z",
     "shell.execute_reply": "2023-02-27T10:44:36.015004Z"
    }
   },
   "outputs": [
    {
     "name": "stdout",
     "output_type": "stream",
     "text": [
      "141 µs ± 689 ns per loop (mean ± std. dev. of 7 runs, 10,000 loops each)\n"
     ]
    }
   ],
   "source": [
    "b3 = Batch(**_TREE_DATA_3)\n",
    "%timeit copy.deepcopy(b3)"
   ]
  },
  {
   "cell_type": "markdown",
   "id": "223162fb",
   "metadata": {},
   "source": [
    "## Stack, Concat and Split Operation"
   ]
  },
  {
   "cell_type": "markdown",
   "id": "85fa4a73",
   "metadata": {},
   "source": [
    "### Performance of TreeValue"
   ]
  },
  {
   "cell_type": "code",
   "execution_count": 19,
   "id": "a0c2b697",
   "metadata": {
    "execution": {
     "iopub.execute_input": "2023-02-27T10:44:36.020296Z",
     "iopub.status.busy": "2023-02-27T10:44:36.019811Z",
     "iopub.status.idle": "2023-02-27T10:44:36.024286Z",
     "shell.execute_reply": "2023-02-27T10:44:36.023659Z"
    }
   },
   "outputs": [],
   "source": [
    "trees = [FastTreeValue(_TREE_DATA_2) for _ in range(8)]"
   ]
  },
  {
   "cell_type": "code",
   "execution_count": 20,
   "id": "017ea5a5",
   "metadata": {
    "execution": {
     "iopub.execute_input": "2023-02-27T10:44:36.027284Z",
     "iopub.status.busy": "2023-02-27T10:44:36.026843Z",
     "iopub.status.idle": "2023-02-27T10:44:36.035526Z",
     "shell.execute_reply": "2023-02-27T10:44:36.034579Z"
    }
   },
   "outputs": [
    {
     "data": {
      "text/plain": [
       "<FastTreeValue 0x7fe274b4bdc0>\n",
       "├── 'a' --> tensor([[[0.0454, 0.3209, 1.5625],\n",
       "│                    [1.1581, 1.4147, 2.6867]],\n",
       "│           \n",
       "│                   [[0.0454, 0.3209, 1.5625],\n",
       "│                    [1.1581, 1.4147, 2.6867]],\n",
       "│           \n",
       "│                   [[0.0454, 0.3209, 1.5625],\n",
       "│                    [1.1581, 1.4147, 2.6867]],\n",
       "│           \n",
       "│                   [[0.0454, 0.3209, 1.5625],\n",
       "│                    [1.1581, 1.4147, 2.6867]],\n",
       "│           \n",
       "│                   [[0.0454, 0.3209, 1.5625],\n",
       "│                    [1.1581, 1.4147, 2.6867]],\n",
       "│           \n",
       "│                   [[0.0454, 0.3209, 1.5625],\n",
       "│                    [1.1581, 1.4147, 2.6867]],\n",
       "│           \n",
       "│                   [[0.0454, 0.3209, 1.5625],\n",
       "│                    [1.1581, 1.4147, 2.6867]],\n",
       "│           \n",
       "│                   [[0.0454, 0.3209, 1.5625],\n",
       "│                    [1.1581, 1.4147, 2.6867]]])\n",
       "└── 'x' --> <FastTreeValue 0x7fe274ad77f0>\n",
       "    └── 'c' --> tensor([[[ 0.6068,  1.7537,  0.0644, -1.8648],\n",
       "                         [-0.3343,  1.6618, -0.6957,  0.5624],\n",
       "                         [-1.9314, -0.3298,  0.5371, -0.9942]],\n",
       "                \n",
       "                        [[ 0.6068,  1.7537,  0.0644, -1.8648],\n",
       "                         [-0.3343,  1.6618, -0.6957,  0.5624],\n",
       "                         [-1.9314, -0.3298,  0.5371, -0.9942]],\n",
       "                \n",
       "                        [[ 0.6068,  1.7537,  0.0644, -1.8648],\n",
       "                         [-0.3343,  1.6618, -0.6957,  0.5624],\n",
       "                         [-1.9314, -0.3298,  0.5371, -0.9942]],\n",
       "                \n",
       "                        [[ 0.6068,  1.7537,  0.0644, -1.8648],\n",
       "                         [-0.3343,  1.6618, -0.6957,  0.5624],\n",
       "                         [-1.9314, -0.3298,  0.5371, -0.9942]],\n",
       "                \n",
       "                        [[ 0.6068,  1.7537,  0.0644, -1.8648],\n",
       "                         [-0.3343,  1.6618, -0.6957,  0.5624],\n",
       "                         [-1.9314, -0.3298,  0.5371, -0.9942]],\n",
       "                \n",
       "                        [[ 0.6068,  1.7537,  0.0644, -1.8648],\n",
       "                         [-0.3343,  1.6618, -0.6957,  0.5624],\n",
       "                         [-1.9314, -0.3298,  0.5371, -0.9942]],\n",
       "                \n",
       "                        [[ 0.6068,  1.7537,  0.0644, -1.8648],\n",
       "                         [-0.3343,  1.6618, -0.6957,  0.5624],\n",
       "                         [-1.9314, -0.3298,  0.5371, -0.9942]],\n",
       "                \n",
       "                        [[ 0.6068,  1.7537,  0.0644, -1.8648],\n",
       "                         [-0.3343,  1.6618, -0.6957,  0.5624],\n",
       "                         [-1.9314, -0.3298,  0.5371, -0.9942]]])"
      ]
     },
     "execution_count": 20,
     "metadata": {},
     "output_type": "execute_result"
    }
   ],
   "source": [
    "t_stack = FastTreeValue.func(subside=True)(torch.stack)\n",
    "\n",
    "t_stack(trees)"
   ]
  },
  {
   "cell_type": "code",
   "execution_count": 21,
   "id": "f8b3f415",
   "metadata": {
    "execution": {
     "iopub.execute_input": "2023-02-27T10:44:36.038353Z",
     "iopub.status.busy": "2023-02-27T10:44:36.037815Z",
     "iopub.status.idle": "2023-02-27T10:44:38.689507Z",
     "shell.execute_reply": "2023-02-27T10:44:38.688459Z"
    }
   },
   "outputs": [
    {
     "name": "stdout",
     "output_type": "stream",
     "text": [
      "32.6 µs ± 74.3 ns per loop (mean ± std. dev. of 7 runs, 10,000 loops each)\n"
     ]
    }
   ],
   "source": [
    "%timeit t_stack(trees)"
   ]
  },
  {
   "cell_type": "code",
   "execution_count": 22,
   "id": "94b56771",
   "metadata": {
    "execution": {
     "iopub.execute_input": "2023-02-27T10:44:38.692825Z",
     "iopub.status.busy": "2023-02-27T10:44:38.692399Z",
     "iopub.status.idle": "2023-02-27T10:44:38.701834Z",
     "shell.execute_reply": "2023-02-27T10:44:38.700328Z"
    }
   },
   "outputs": [
    {
     "data": {
      "text/plain": [
       "<FastTreeValue 0x7fe274ad72e0>\n",
       "├── 'a' --> tensor([[0.0454, 0.3209, 1.5625],\n",
       "│                   [1.1581, 1.4147, 2.6867],\n",
       "│                   [0.0454, 0.3209, 1.5625],\n",
       "│                   [1.1581, 1.4147, 2.6867],\n",
       "│                   [0.0454, 0.3209, 1.5625],\n",
       "│                   [1.1581, 1.4147, 2.6867],\n",
       "│                   [0.0454, 0.3209, 1.5625],\n",
       "│                   [1.1581, 1.4147, 2.6867],\n",
       "│                   [0.0454, 0.3209, 1.5625],\n",
       "│                   [1.1581, 1.4147, 2.6867],\n",
       "│                   [0.0454, 0.3209, 1.5625],\n",
       "│                   [1.1581, 1.4147, 2.6867],\n",
       "│                   [0.0454, 0.3209, 1.5625],\n",
       "│                   [1.1581, 1.4147, 2.6867],\n",
       "│                   [0.0454, 0.3209, 1.5625],\n",
       "│                   [1.1581, 1.4147, 2.6867]])\n",
       "└── 'x' --> <FastTreeValue 0x7fe1bfdbbdf0>\n",
       "    └── 'c' --> tensor([[ 0.6068,  1.7537,  0.0644, -1.8648],\n",
       "                        [-0.3343,  1.6618, -0.6957,  0.5624],\n",
       "                        [-1.9314, -0.3298,  0.5371, -0.9942],\n",
       "                        [ 0.6068,  1.7537,  0.0644, -1.8648],\n",
       "                        [-0.3343,  1.6618, -0.6957,  0.5624],\n",
       "                        [-1.9314, -0.3298,  0.5371, -0.9942],\n",
       "                        [ 0.6068,  1.7537,  0.0644, -1.8648],\n",
       "                        [-0.3343,  1.6618, -0.6957,  0.5624],\n",
       "                        [-1.9314, -0.3298,  0.5371, -0.9942],\n",
       "                        [ 0.6068,  1.7537,  0.0644, -1.8648],\n",
       "                        [-0.3343,  1.6618, -0.6957,  0.5624],\n",
       "                        [-1.9314, -0.3298,  0.5371, -0.9942],\n",
       "                        [ 0.6068,  1.7537,  0.0644, -1.8648],\n",
       "                        [-0.3343,  1.6618, -0.6957,  0.5624],\n",
       "                        [-1.9314, -0.3298,  0.5371, -0.9942],\n",
       "                        [ 0.6068,  1.7537,  0.0644, -1.8648],\n",
       "                        [-0.3343,  1.6618, -0.6957,  0.5624],\n",
       "                        [-1.9314, -0.3298,  0.5371, -0.9942],\n",
       "                        [ 0.6068,  1.7537,  0.0644, -1.8648],\n",
       "                        [-0.3343,  1.6618, -0.6957,  0.5624],\n",
       "                        [-1.9314, -0.3298,  0.5371, -0.9942],\n",
       "                        [ 0.6068,  1.7537,  0.0644, -1.8648],\n",
       "                        [-0.3343,  1.6618, -0.6957,  0.5624],\n",
       "                        [-1.9314, -0.3298,  0.5371, -0.9942]])"
      ]
     },
     "execution_count": 22,
     "metadata": {},
     "output_type": "execute_result"
    }
   ],
   "source": [
    "t_cat = FastTreeValue.func(subside=True)(torch.cat)\n",
    "\n",
    "t_cat(trees)"
   ]
  },
  {
   "cell_type": "code",
   "execution_count": 23,
   "id": "5e9c06a6",
   "metadata": {
    "execution": {
     "iopub.execute_input": "2023-02-27T10:44:38.704588Z",
     "iopub.status.busy": "2023-02-27T10:44:38.704145Z",
     "iopub.status.idle": "2023-02-27T10:44:41.141494Z",
     "shell.execute_reply": "2023-02-27T10:44:41.140501Z"
    }
   },
   "outputs": [
    {
     "name": "stdout",
     "output_type": "stream",
     "text": [
      "29.9 µs ± 121 ns per loop (mean ± std. dev. of 7 runs, 10,000 loops each)\n"
     ]
    }
   ],
   "source": [
    "%timeit t_cat(trees)"
   ]
  },
  {
   "cell_type": "code",
   "execution_count": 24,
   "id": "a3ab5c8f",
   "metadata": {
    "execution": {
     "iopub.execute_input": "2023-02-27T10:44:41.145105Z",
     "iopub.status.busy": "2023-02-27T10:44:41.144361Z",
     "iopub.status.idle": "2023-02-27T10:44:45.713093Z",
     "shell.execute_reply": "2023-02-27T10:44:45.712156Z"
    }
   },
   "outputs": [
    {
     "name": "stdout",
     "output_type": "stream",
     "text": [
      "56.2 µs ± 72.5 ns per loop (mean ± std. dev. of 7 runs, 10,000 loops each)\n"
     ]
    }
   ],
   "source": [
    "t_split = FastTreeValue.func(rise=True)(torch.split)\n",
    "tree = FastTreeValue({\n",
    "    'obs': torch.randn(8, 4, 84, 84),\n",
    "    'action': torch.randint(0, 6, size=(8, 1,)),\n",
    "    'reward': torch.rand(8, 1),\n",
    "})\n",
    "\n",
    "%timeit t_split(tree, 1)"
   ]
  },
  {
   "cell_type": "markdown",
   "id": "31c3ec0b",
   "metadata": {},
   "source": [
    "### Performance of Tianshou Batch"
   ]
  },
  {
   "cell_type": "code",
   "execution_count": 25,
   "id": "9ead828a",
   "metadata": {
    "execution": {
     "iopub.execute_input": "2023-02-27T10:44:45.718114Z",
     "iopub.status.busy": "2023-02-27T10:44:45.716755Z",
     "iopub.status.idle": "2023-02-27T10:44:45.726796Z",
     "shell.execute_reply": "2023-02-27T10:44:45.726138Z"
    }
   },
   "outputs": [
    {
     "data": {
      "text/plain": [
       "Batch(\n",
       "    x: Batch(\n",
       "           c: tensor([[[ 0.6068,  1.7537,  0.0644, -1.8648],\n",
       "                       [-0.3343,  1.6618, -0.6957,  0.5624],\n",
       "                       [-1.9314, -0.3298,  0.5371, -0.9942]],\n",
       "              \n",
       "                      [[ 0.6068,  1.7537,  0.0644, -1.8648],\n",
       "                       [-0.3343,  1.6618, -0.6957,  0.5624],\n",
       "                       [-1.9314, -0.3298,  0.5371, -0.9942]],\n",
       "              \n",
       "                      [[ 0.6068,  1.7537,  0.0644, -1.8648],\n",
       "                       [-0.3343,  1.6618, -0.6957,  0.5624],\n",
       "                       [-1.9314, -0.3298,  0.5371, -0.9942]],\n",
       "              \n",
       "                      [[ 0.6068,  1.7537,  0.0644, -1.8648],\n",
       "                       [-0.3343,  1.6618, -0.6957,  0.5624],\n",
       "                       [-1.9314, -0.3298,  0.5371, -0.9942]],\n",
       "              \n",
       "                      [[ 0.6068,  1.7537,  0.0644, -1.8648],\n",
       "                       [-0.3343,  1.6618, -0.6957,  0.5624],\n",
       "                       [-1.9314, -0.3298,  0.5371, -0.9942]],\n",
       "              \n",
       "                      [[ 0.6068,  1.7537,  0.0644, -1.8648],\n",
       "                       [-0.3343,  1.6618, -0.6957,  0.5624],\n",
       "                       [-1.9314, -0.3298,  0.5371, -0.9942]],\n",
       "              \n",
       "                      [[ 0.6068,  1.7537,  0.0644, -1.8648],\n",
       "                       [-0.3343,  1.6618, -0.6957,  0.5624],\n",
       "                       [-1.9314, -0.3298,  0.5371, -0.9942]],\n",
       "              \n",
       "                      [[ 0.6068,  1.7537,  0.0644, -1.8648],\n",
       "                       [-0.3343,  1.6618, -0.6957,  0.5624],\n",
       "                       [-1.9314, -0.3298,  0.5371, -0.9942]]]),\n",
       "       ),\n",
       "    a: tensor([[[0.0454, 0.3209, 1.5625],\n",
       "                [1.1581, 1.4147, 2.6867]],\n",
       "       \n",
       "               [[0.0454, 0.3209, 1.5625],\n",
       "                [1.1581, 1.4147, 2.6867]],\n",
       "       \n",
       "               [[0.0454, 0.3209, 1.5625],\n",
       "                [1.1581, 1.4147, 2.6867]],\n",
       "       \n",
       "               [[0.0454, 0.3209, 1.5625],\n",
       "                [1.1581, 1.4147, 2.6867]],\n",
       "       \n",
       "               [[0.0454, 0.3209, 1.5625],\n",
       "                [1.1581, 1.4147, 2.6867]],\n",
       "       \n",
       "               [[0.0454, 0.3209, 1.5625],\n",
       "                [1.1581, 1.4147, 2.6867]],\n",
       "       \n",
       "               [[0.0454, 0.3209, 1.5625],\n",
       "                [1.1581, 1.4147, 2.6867]],\n",
       "       \n",
       "               [[0.0454, 0.3209, 1.5625],\n",
       "                [1.1581, 1.4147, 2.6867]]]),\n",
       ")"
      ]
     },
     "execution_count": 25,
     "metadata": {},
     "output_type": "execute_result"
    }
   ],
   "source": [
    "batches = [Batch(**_TREE_DATA_2) for _ in range(8)]\n",
    "\n",
    "Batch.stack(batches)"
   ]
  },
  {
   "cell_type": "code",
   "execution_count": 26,
   "id": "ec9037a3",
   "metadata": {
    "execution": {
     "iopub.execute_input": "2023-02-27T10:44:45.729851Z",
     "iopub.status.busy": "2023-02-27T10:44:45.729403Z",
     "iopub.status.idle": "2023-02-27T10:44:52.182883Z",
     "shell.execute_reply": "2023-02-27T10:44:52.181970Z"
    }
   },
   "outputs": [
    {
     "name": "stdout",
     "output_type": "stream",
     "text": [
      "79.3 µs ± 281 ns per loop (mean ± std. dev. of 7 runs, 10,000 loops each)\n"
     ]
    }
   ],
   "source": [
    "%timeit Batch.stack(batches)"
   ]
  },
  {
   "cell_type": "code",
   "execution_count": 27,
   "id": "cb8ab77e",
   "metadata": {
    "execution": {
     "iopub.execute_input": "2023-02-27T10:44:52.186753Z",
     "iopub.status.busy": "2023-02-27T10:44:52.186072Z",
     "iopub.status.idle": "2023-02-27T10:44:52.194295Z",
     "shell.execute_reply": "2023-02-27T10:44:52.193658Z"
    }
   },
   "outputs": [
    {
     "data": {
      "text/plain": [
       "Batch(\n",
       "    x: Batch(\n",
       "           c: tensor([[ 0.6068,  1.7537,  0.0644, -1.8648],\n",
       "                      [-0.3343,  1.6618, -0.6957,  0.5624],\n",
       "                      [-1.9314, -0.3298,  0.5371, -0.9942],\n",
       "                      [ 0.6068,  1.7537,  0.0644, -1.8648],\n",
       "                      [-0.3343,  1.6618, -0.6957,  0.5624],\n",
       "                      [-1.9314, -0.3298,  0.5371, -0.9942],\n",
       "                      [ 0.6068,  1.7537,  0.0644, -1.8648],\n",
       "                      [-0.3343,  1.6618, -0.6957,  0.5624],\n",
       "                      [-1.9314, -0.3298,  0.5371, -0.9942],\n",
       "                      [ 0.6068,  1.7537,  0.0644, -1.8648],\n",
       "                      [-0.3343,  1.6618, -0.6957,  0.5624],\n",
       "                      [-1.9314, -0.3298,  0.5371, -0.9942],\n",
       "                      [ 0.6068,  1.7537,  0.0644, -1.8648],\n",
       "                      [-0.3343,  1.6618, -0.6957,  0.5624],\n",
       "                      [-1.9314, -0.3298,  0.5371, -0.9942],\n",
       "                      [ 0.6068,  1.7537,  0.0644, -1.8648],\n",
       "                      [-0.3343,  1.6618, -0.6957,  0.5624],\n",
       "                      [-1.9314, -0.3298,  0.5371, -0.9942],\n",
       "                      [ 0.6068,  1.7537,  0.0644, -1.8648],\n",
       "                      [-0.3343,  1.6618, -0.6957,  0.5624],\n",
       "                      [-1.9314, -0.3298,  0.5371, -0.9942],\n",
       "                      [ 0.6068,  1.7537,  0.0644, -1.8648],\n",
       "                      [-0.3343,  1.6618, -0.6957,  0.5624],\n",
       "                      [-1.9314, -0.3298,  0.5371, -0.9942]]),\n",
       "       ),\n",
       "    a: tensor([[0.0454, 0.3209, 1.5625],\n",
       "               [1.1581, 1.4147, 2.6867],\n",
       "               [0.0454, 0.3209, 1.5625],\n",
       "               [1.1581, 1.4147, 2.6867],\n",
       "               [0.0454, 0.3209, 1.5625],\n",
       "               [1.1581, 1.4147, 2.6867],\n",
       "               [0.0454, 0.3209, 1.5625],\n",
       "               [1.1581, 1.4147, 2.6867],\n",
       "               [0.0454, 0.3209, 1.5625],\n",
       "               [1.1581, 1.4147, 2.6867],\n",
       "               [0.0454, 0.3209, 1.5625],\n",
       "               [1.1581, 1.4147, 2.6867],\n",
       "               [0.0454, 0.3209, 1.5625],\n",
       "               [1.1581, 1.4147, 2.6867],\n",
       "               [0.0454, 0.3209, 1.5625],\n",
       "               [1.1581, 1.4147, 2.6867]]),\n",
       ")"
      ]
     },
     "execution_count": 27,
     "metadata": {},
     "output_type": "execute_result"
    }
   ],
   "source": [
    "Batch.cat(batches)"
   ]
  },
  {
   "cell_type": "code",
   "execution_count": 28,
   "id": "18dfb045",
   "metadata": {
    "execution": {
     "iopub.execute_input": "2023-02-27T10:44:52.197364Z",
     "iopub.status.busy": "2023-02-27T10:44:52.196975Z",
     "iopub.status.idle": "2023-02-27T10:45:04.048373Z",
     "shell.execute_reply": "2023-02-27T10:45:04.047089Z"
    }
   },
   "outputs": [
    {
     "name": "stdout",
     "output_type": "stream",
     "text": [
      "146 µs ± 135 ns per loop (mean ± std. dev. of 7 runs, 10,000 loops each)\n"
     ]
    }
   ],
   "source": [
    "%timeit Batch.cat(batches)"
   ]
  },
  {
   "cell_type": "code",
   "execution_count": 29,
   "id": "c6688e51",
   "metadata": {
    "execution": {
     "iopub.execute_input": "2023-02-27T10:45:04.052448Z",
     "iopub.status.busy": "2023-02-27T10:45:04.051913Z",
     "iopub.status.idle": "2023-02-27T10:45:06.769712Z",
     "shell.execute_reply": "2023-02-27T10:45:06.769021Z"
    }
   },
   "outputs": [
    {
     "name": "stdout",
     "output_type": "stream",
     "text": [
      "334 µs ± 3.17 µs per loop (mean ± std. dev. of 7 runs, 1,000 loops each)\n"
     ]
    }
   ],
   "source": [
    "batch = Batch({\n",
    "    'obs': torch.randn(8, 4, 84, 84),\n",
    "    'action': torch.randint(0, 6, size=(8, 1,)),\n",
    "    'reward': torch.rand(8, 1)}\n",
    ")\n",
    "\n",
    "%timeit list(Batch.split(batch, 1, shuffle=False, merge_last=True))"
   ]
  },
  {
   "cell_type": "code",
   "execution_count": null,
   "id": "2539fbd9",
   "metadata": {},
   "outputs": [],
   "source": []
  }
 ],
 "metadata": {
  "kernelspec": {
   "display_name": "Python 3 (ipykernel)",
   "language": "python",
   "name": "python3"
  },
  "language_info": {
   "codemirror_mode": {
    "name": "ipython",
    "version": 3
   },
   "file_extension": ".py",
   "mimetype": "text/x-python",
   "name": "python",
   "nbconvert_exporter": "python",
   "pygments_lexer": "ipython3",
   "version": "3.8.16"
  }
 },
 "nbformat": 4,
 "nbformat_minor": 5
}
