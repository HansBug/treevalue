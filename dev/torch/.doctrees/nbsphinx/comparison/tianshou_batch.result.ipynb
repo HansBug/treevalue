{
 "cells": [
  {
   "cell_type": "markdown",
   "id": "9d39d946",
   "metadata": {},
   "source": [
    "# Comparison Between TreeValue and Tianshou Batch"
   ]
  },
  {
   "cell_type": "markdown",
   "id": "3c6db2d4",
   "metadata": {},
   "source": [
    "In this section, we will take a look at the feature and performance of the [Tianshou Batch](https://github.com/thu-ml/tianshou) library, which is developed by Tsinghua Machine Learning Group."
   ]
  },
  {
   "cell_type": "markdown",
   "id": "069361b0",
   "metadata": {},
   "source": [
    "Before starting the comparison, let us define some thing."
   ]
  },
  {
   "cell_type": "code",
   "execution_count": 1,
   "id": "06fc8d26",
   "metadata": {
    "execution": {
     "iopub.execute_input": "2023-02-27T10:50:56.741019Z",
     "iopub.status.busy": "2023-02-27T10:50:56.740788Z",
     "iopub.status.idle": "2023-02-27T10:50:57.696284Z",
     "shell.execute_reply": "2023-02-27T10:50:57.695444Z"
    }
   },
   "outputs": [
    {
     "name": "stderr",
     "output_type": "stream",
     "text": [
      "/opt/hostedtoolcache/Python/3.8.16/x64/lib/python3.8/site-packages/tqdm/auto.py:22: TqdmWarning: IProgress not found. Please update jupyter and ipywidgets. See https://ipywidgets.readthedocs.io/en/stable/user_install.html\n",
      "  from .autonotebook import tqdm as notebook_tqdm\n"
     ]
    }
   ],
   "source": [
    "import torch \n",
    "\n",
    "_TREE_DATA_1 = {'a': 1, 'b': 2, 'x': {'c': 3, 'd': 4}}\n",
    "_TREE_DATA_2 = {\n",
    "    'a': torch.randn(2, 3), \n",
    "    'x': {\n",
    "        'c': torch.randn(3, 4)\n",
    "    },\n",
    "}\n",
    "_TREE_DATA_3 = {\n",
    "    'obs': torch.randn(4, 84, 84),\n",
    "    'action': torch.randint(0, 6, size=(1,)),\n",
    "    'reward': torch.rand(1),\n",
    "}"
   ]
  },
  {
   "cell_type": "markdown",
   "id": "83461b25",
   "metadata": {},
   "source": [
    "## Read and Write Operation"
   ]
  },
  {
   "cell_type": "markdown",
   "id": "067b3f73",
   "metadata": {},
   "source": [
    "Reading and writing are the two most common operations in the tree data structure based on the data model (TreeValue and Tianshou Batch both belong to this type), so this section will compare the reading and writing performance of these two libraries."
   ]
  },
  {
   "cell_type": "markdown",
   "id": "5d09a5b7",
   "metadata": {},
   "source": [
    "### TreeValue's Get and Set"
   ]
  },
  {
   "cell_type": "code",
   "execution_count": 2,
   "id": "9519c4bb",
   "metadata": {
    "execution": {
     "iopub.execute_input": "2023-02-27T10:50:57.700377Z",
     "iopub.status.busy": "2023-02-27T10:50:57.699825Z",
     "iopub.status.idle": "2023-02-27T10:50:57.996349Z",
     "shell.execute_reply": "2023-02-27T10:50:57.995604Z"
    }
   },
   "outputs": [],
   "source": [
    "from treevalue import FastTreeValue\n",
    "\n",
    "t = FastTreeValue(_TREE_DATA_2)"
   ]
  },
  {
   "cell_type": "code",
   "execution_count": 3,
   "id": "11c37677",
   "metadata": {
    "execution": {
     "iopub.execute_input": "2023-02-27T10:50:57.999938Z",
     "iopub.status.busy": "2023-02-27T10:50:57.999314Z",
     "iopub.status.idle": "2023-02-27T10:50:58.010581Z",
     "shell.execute_reply": "2023-02-27T10:50:58.009915Z"
    }
   },
   "outputs": [
    {
     "data": {
      "text/plain": [
       "<FastTreeValue 0x7f31a49a0d90>\n",
       "├── 'a' --> tensor([[-2.7781, -0.3651,  0.3574],\n",
       "│                   [-0.1617, -0.9157, -0.8280]])\n",
       "└── 'x' --> <FastTreeValue 0x7f31a4993310>\n",
       "    └── 'c' --> tensor([[ 1.5213, -0.0544,  0.1993, -0.2286],\n",
       "                        [ 0.8726, -0.3535, -0.6794, -0.0687],\n",
       "                        [-1.2833, -0.4827,  0.7666, -1.1159]])"
      ]
     },
     "execution_count": 3,
     "metadata": {},
     "output_type": "execute_result"
    }
   ],
   "source": [
    "t"
   ]
  },
  {
   "cell_type": "code",
   "execution_count": 4,
   "id": "fd70b0b9",
   "metadata": {
    "execution": {
     "iopub.execute_input": "2023-02-27T10:50:58.014843Z",
     "iopub.status.busy": "2023-02-27T10:50:58.013677Z",
     "iopub.status.idle": "2023-02-27T10:50:58.022003Z",
     "shell.execute_reply": "2023-02-27T10:50:58.020162Z"
    }
   },
   "outputs": [
    {
     "data": {
      "text/plain": [
       "tensor([[-2.7781, -0.3651,  0.3574],\n",
       "        [-0.1617, -0.9157, -0.8280]])"
      ]
     },
     "execution_count": 4,
     "metadata": {},
     "output_type": "execute_result"
    }
   ],
   "source": [
    "t.a"
   ]
  },
  {
   "cell_type": "code",
   "execution_count": 5,
   "id": "c18197bd",
   "metadata": {
    "execution": {
     "iopub.execute_input": "2023-02-27T10:50:58.025300Z",
     "iopub.status.busy": "2023-02-27T10:50:58.025009Z",
     "iopub.status.idle": "2023-02-27T10:51:03.310890Z",
     "shell.execute_reply": "2023-02-27T10:51:03.310139Z"
    }
   },
   "outputs": [
    {
     "name": "stdout",
     "output_type": "stream",
     "text": [
      "66.2 ns ± 0.0267 ns per loop (mean ± std. dev. of 7 runs, 10,000,000 loops each)\n"
     ]
    }
   ],
   "source": [
    "%timeit t.a"
   ]
  },
  {
   "cell_type": "code",
   "execution_count": 6,
   "id": "bd52f867",
   "metadata": {
    "execution": {
     "iopub.execute_input": "2023-02-27T10:51:03.314390Z",
     "iopub.status.busy": "2023-02-27T10:51:03.313858Z",
     "iopub.status.idle": "2023-02-27T10:51:03.322235Z",
     "shell.execute_reply": "2023-02-27T10:51:03.321461Z"
    }
   },
   "outputs": [
    {
     "data": {
      "text/plain": [
       "<FastTreeValue 0x7f31a49a0d90>\n",
       "├── 'a' --> tensor([[-0.2031,  2.1038, -0.0236],\n",
       "│                   [-0.0651, -0.3515,  1.9468]])\n",
       "└── 'x' --> <FastTreeValue 0x7f31a4993310>\n",
       "    └── 'c' --> tensor([[ 1.5213, -0.0544,  0.1993, -0.2286],\n",
       "                        [ 0.8726, -0.3535, -0.6794, -0.0687],\n",
       "                        [-1.2833, -0.4827,  0.7666, -1.1159]])"
      ]
     },
     "execution_count": 6,
     "metadata": {},
     "output_type": "execute_result"
    }
   ],
   "source": [
    "new_value = torch.randn(2, 3)\n",
    "t.a = new_value\n",
    "\n",
    "t"
   ]
  },
  {
   "cell_type": "code",
   "execution_count": 7,
   "id": "bbe04d1c",
   "metadata": {
    "execution": {
     "iopub.execute_input": "2023-02-27T10:51:03.325622Z",
     "iopub.status.busy": "2023-02-27T10:51:03.324900Z",
     "iopub.status.idle": "2023-02-27T10:51:08.367668Z",
     "shell.execute_reply": "2023-02-27T10:51:08.366817Z"
    }
   },
   "outputs": [
    {
     "name": "stdout",
     "output_type": "stream",
     "text": [
      "62.6 ns ± 0.0601 ns per loop (mean ± std. dev. of 7 runs, 10,000,000 loops each)\n"
     ]
    }
   ],
   "source": [
    "%timeit t.a = new_value"
   ]
  },
  {
   "cell_type": "markdown",
   "id": "48c49731",
   "metadata": {},
   "source": [
    "### Tianshou Batch's Get and Set"
   ]
  },
  {
   "cell_type": "code",
   "execution_count": 8,
   "id": "f1bb14c1",
   "metadata": {
    "execution": {
     "iopub.execute_input": "2023-02-27T10:51:08.371408Z",
     "iopub.status.busy": "2023-02-27T10:51:08.370935Z",
     "iopub.status.idle": "2023-02-27T10:51:08.719668Z",
     "shell.execute_reply": "2023-02-27T10:51:08.718783Z"
    }
   },
   "outputs": [],
   "source": [
    "from tianshou.data import Batch\n",
    "\n",
    "b = Batch(**_TREE_DATA_2)"
   ]
  },
  {
   "cell_type": "code",
   "execution_count": 9,
   "id": "cb0777c3",
   "metadata": {
    "execution": {
     "iopub.execute_input": "2023-02-27T10:51:08.722956Z",
     "iopub.status.busy": "2023-02-27T10:51:08.722585Z",
     "iopub.status.idle": "2023-02-27T10:51:08.728424Z",
     "shell.execute_reply": "2023-02-27T10:51:08.727779Z"
    }
   },
   "outputs": [
    {
     "data": {
      "text/plain": [
       "Batch(\n",
       "    a: tensor([[-2.7781, -0.3651,  0.3574],\n",
       "               [-0.1617, -0.9157, -0.8280]]),\n",
       "    x: Batch(\n",
       "           c: tensor([[ 1.5213, -0.0544,  0.1993, -0.2286],\n",
       "                      [ 0.8726, -0.3535, -0.6794, -0.0687],\n",
       "                      [-1.2833, -0.4827,  0.7666, -1.1159]]),\n",
       "       ),\n",
       ")"
      ]
     },
     "execution_count": 9,
     "metadata": {},
     "output_type": "execute_result"
    }
   ],
   "source": [
    "b"
   ]
  },
  {
   "cell_type": "code",
   "execution_count": 10,
   "id": "43ef8ea3",
   "metadata": {
    "execution": {
     "iopub.execute_input": "2023-02-27T10:51:08.731084Z",
     "iopub.status.busy": "2023-02-27T10:51:08.730660Z",
     "iopub.status.idle": "2023-02-27T10:51:08.735327Z",
     "shell.execute_reply": "2023-02-27T10:51:08.734699Z"
    }
   },
   "outputs": [
    {
     "data": {
      "text/plain": [
       "tensor([[-2.7781, -0.3651,  0.3574],\n",
       "        [-0.1617, -0.9157, -0.8280]])"
      ]
     },
     "execution_count": 10,
     "metadata": {},
     "output_type": "execute_result"
    }
   ],
   "source": [
    "b.a"
   ]
  },
  {
   "cell_type": "code",
   "execution_count": 11,
   "id": "b785ab72",
   "metadata": {
    "execution": {
     "iopub.execute_input": "2023-02-27T10:51:08.737883Z",
     "iopub.status.busy": "2023-02-27T10:51:08.737535Z",
     "iopub.status.idle": "2023-02-27T10:51:13.273386Z",
     "shell.execute_reply": "2023-02-27T10:51:13.272581Z"
    }
   },
   "outputs": [
    {
     "name": "stdout",
     "output_type": "stream",
     "text": [
      "55.9 ns ± 0.0129 ns per loop (mean ± std. dev. of 7 runs, 10,000,000 loops each)\n"
     ]
    }
   ],
   "source": [
    "%timeit b.a"
   ]
  },
  {
   "cell_type": "code",
   "execution_count": 12,
   "id": "ad54dc69",
   "metadata": {
    "execution": {
     "iopub.execute_input": "2023-02-27T10:51:13.276818Z",
     "iopub.status.busy": "2023-02-27T10:51:13.276224Z",
     "iopub.status.idle": "2023-02-27T10:51:13.282911Z",
     "shell.execute_reply": "2023-02-27T10:51:13.282310Z"
    }
   },
   "outputs": [
    {
     "data": {
      "text/plain": [
       "Batch(\n",
       "    a: tensor([[ 1.3712,  0.7645, -1.7939],\n",
       "               [-0.8566,  0.3959,  0.5263]]),\n",
       "    x: Batch(\n",
       "           c: tensor([[ 1.5213, -0.0544,  0.1993, -0.2286],\n",
       "                      [ 0.8726, -0.3535, -0.6794, -0.0687],\n",
       "                      [-1.2833, -0.4827,  0.7666, -1.1159]]),\n",
       "       ),\n",
       ")"
      ]
     },
     "execution_count": 12,
     "metadata": {},
     "output_type": "execute_result"
    }
   ],
   "source": [
    "new_value = torch.randn(2, 3)\n",
    "b.a = new_value\n",
    "\n",
    "b"
   ]
  },
  {
   "cell_type": "code",
   "execution_count": 13,
   "id": "29b1d0bf",
   "metadata": {
    "execution": {
     "iopub.execute_input": "2023-02-27T10:51:13.285475Z",
     "iopub.status.busy": "2023-02-27T10:51:13.285116Z",
     "iopub.status.idle": "2023-02-27T10:51:17.201280Z",
     "shell.execute_reply": "2023-02-27T10:51:17.200644Z"
    }
   },
   "outputs": [
    {
     "name": "stdout",
     "output_type": "stream",
     "text": [
      "482 ns ± 0.383 ns per loop (mean ± std. dev. of 7 runs, 1,000,000 loops each)\n"
     ]
    }
   ],
   "source": [
    "%timeit b.a = new_value"
   ]
  },
  {
   "cell_type": "markdown",
   "id": "b61ad1d0",
   "metadata": {},
   "source": [
    "## Initialization"
   ]
  },
  {
   "cell_type": "markdown",
   "id": "d70f0d54",
   "metadata": {},
   "source": [
    "### TreeValue's Initialization"
   ]
  },
  {
   "cell_type": "code",
   "execution_count": 14,
   "id": "d32a679b",
   "metadata": {
    "execution": {
     "iopub.execute_input": "2023-02-27T10:51:17.203866Z",
     "iopub.status.busy": "2023-02-27T10:51:17.203624Z",
     "iopub.status.idle": "2023-02-27T10:51:24.229151Z",
     "shell.execute_reply": "2023-02-27T10:51:24.228418Z"
    }
   },
   "outputs": [
    {
     "name": "stdout",
     "output_type": "stream",
     "text": [
      "867 ns ± 35 ns per loop (mean ± std. dev. of 7 runs, 1,000,000 loops each)\n"
     ]
    }
   ],
   "source": [
    "%timeit FastTreeValue(_TREE_DATA_1)"
   ]
  },
  {
   "cell_type": "markdown",
   "id": "24f3707b",
   "metadata": {},
   "source": [
    "### Tianshou Batch's Initialization"
   ]
  },
  {
   "cell_type": "code",
   "execution_count": 15,
   "id": "ac3958df",
   "metadata": {
    "execution": {
     "iopub.execute_input": "2023-02-27T10:51:24.232488Z",
     "iopub.status.busy": "2023-02-27T10:51:24.231849Z",
     "iopub.status.idle": "2023-02-27T10:51:33.438739Z",
     "shell.execute_reply": "2023-02-27T10:51:33.438030Z"
    }
   },
   "outputs": [
    {
     "name": "stdout",
     "output_type": "stream",
     "text": [
      "11.3 µs ± 51.7 ns per loop (mean ± std. dev. of 7 runs, 100,000 loops each)\n"
     ]
    }
   ],
   "source": [
    "%timeit Batch(**_TREE_DATA_1)"
   ]
  },
  {
   "cell_type": "markdown",
   "id": "1ab82e2d",
   "metadata": {},
   "source": [
    "## Deep Copy Operation"
   ]
  },
  {
   "cell_type": "code",
   "execution_count": 16,
   "id": "210a9442",
   "metadata": {
    "execution": {
     "iopub.execute_input": "2023-02-27T10:51:33.441854Z",
     "iopub.status.busy": "2023-02-27T10:51:33.441506Z",
     "iopub.status.idle": "2023-02-27T10:51:33.445429Z",
     "shell.execute_reply": "2023-02-27T10:51:33.444850Z"
    }
   },
   "outputs": [],
   "source": [
    "import copy"
   ]
  },
  {
   "cell_type": "markdown",
   "id": "5a736274",
   "metadata": {},
   "source": [
    "### Deep Copy of TreeValue"
   ]
  },
  {
   "cell_type": "code",
   "execution_count": 17,
   "id": "f9bcadd6",
   "metadata": {
    "execution": {
     "iopub.execute_input": "2023-02-27T10:51:33.448112Z",
     "iopub.status.busy": "2023-02-27T10:51:33.447801Z",
     "iopub.status.idle": "2023-02-27T10:51:44.603004Z",
     "shell.execute_reply": "2023-02-27T10:51:44.602428Z"
    }
   },
   "outputs": [
    {
     "name": "stdout",
     "output_type": "stream",
     "text": [
      "137 µs ± 1.07 µs per loop (mean ± std. dev. of 7 runs, 10,000 loops each)\n"
     ]
    }
   ],
   "source": [
    "t3 = FastTreeValue(_TREE_DATA_3)\n",
    "%timeit copy.deepcopy(t3)"
   ]
  },
  {
   "cell_type": "markdown",
   "id": "bf8be7ea",
   "metadata": {},
   "source": [
    "### Deep Copy of Tianshou Batch"
   ]
  },
  {
   "cell_type": "code",
   "execution_count": 18,
   "id": "91998e6f",
   "metadata": {
    "execution": {
     "iopub.execute_input": "2023-02-27T10:51:44.606958Z",
     "iopub.status.busy": "2023-02-27T10:51:44.605991Z",
     "iopub.status.idle": "2023-02-27T10:51:55.983383Z",
     "shell.execute_reply": "2023-02-27T10:51:55.982813Z"
    }
   },
   "outputs": [
    {
     "name": "stdout",
     "output_type": "stream",
     "text": [
      "140 µs ± 472 ns per loop (mean ± std. dev. of 7 runs, 10,000 loops each)\n"
     ]
    }
   ],
   "source": [
    "b3 = Batch(**_TREE_DATA_3)\n",
    "%timeit copy.deepcopy(b3)"
   ]
  },
  {
   "cell_type": "markdown",
   "id": "223162fb",
   "metadata": {},
   "source": [
    "## Stack, Concat and Split Operation"
   ]
  },
  {
   "cell_type": "markdown",
   "id": "85fa4a73",
   "metadata": {},
   "source": [
    "### Performance of TreeValue"
   ]
  },
  {
   "cell_type": "code",
   "execution_count": 19,
   "id": "a0c2b697",
   "metadata": {
    "execution": {
     "iopub.execute_input": "2023-02-27T10:51:55.987307Z",
     "iopub.status.busy": "2023-02-27T10:51:55.986351Z",
     "iopub.status.idle": "2023-02-27T10:51:55.990057Z",
     "shell.execute_reply": "2023-02-27T10:51:55.989538Z"
    }
   },
   "outputs": [],
   "source": [
    "trees = [FastTreeValue(_TREE_DATA_2) for _ in range(8)]"
   ]
  },
  {
   "cell_type": "code",
   "execution_count": 20,
   "id": "017ea5a5",
   "metadata": {
    "execution": {
     "iopub.execute_input": "2023-02-27T10:51:55.992519Z",
     "iopub.status.busy": "2023-02-27T10:51:55.992128Z",
     "iopub.status.idle": "2023-02-27T10:51:55.998809Z",
     "shell.execute_reply": "2023-02-27T10:51:55.998305Z"
    }
   },
   "outputs": [
    {
     "data": {
      "text/plain": [
       "<FastTreeValue 0x7f30eec48f10>\n",
       "├── 'a' --> tensor([[[-2.7781, -0.3651,  0.3574],\n",
       "│                    [-0.1617, -0.9157, -0.8280]],\n",
       "│           \n",
       "│                   [[-2.7781, -0.3651,  0.3574],\n",
       "│                    [-0.1617, -0.9157, -0.8280]],\n",
       "│           \n",
       "│                   [[-2.7781, -0.3651,  0.3574],\n",
       "│                    [-0.1617, -0.9157, -0.8280]],\n",
       "│           \n",
       "│                   [[-2.7781, -0.3651,  0.3574],\n",
       "│                    [-0.1617, -0.9157, -0.8280]],\n",
       "│           \n",
       "│                   [[-2.7781, -0.3651,  0.3574],\n",
       "│                    [-0.1617, -0.9157, -0.8280]],\n",
       "│           \n",
       "│                   [[-2.7781, -0.3651,  0.3574],\n",
       "│                    [-0.1617, -0.9157, -0.8280]],\n",
       "│           \n",
       "│                   [[-2.7781, -0.3651,  0.3574],\n",
       "│                    [-0.1617, -0.9157, -0.8280]],\n",
       "│           \n",
       "│                   [[-2.7781, -0.3651,  0.3574],\n",
       "│                    [-0.1617, -0.9157, -0.8280]]])\n",
       "└── 'x' --> <FastTreeValue 0x7f30eec48be0>\n",
       "    └── 'c' --> tensor([[[ 1.5213, -0.0544,  0.1993, -0.2286],\n",
       "                         [ 0.8726, -0.3535, -0.6794, -0.0687],\n",
       "                         [-1.2833, -0.4827,  0.7666, -1.1159]],\n",
       "                \n",
       "                        [[ 1.5213, -0.0544,  0.1993, -0.2286],\n",
       "                         [ 0.8726, -0.3535, -0.6794, -0.0687],\n",
       "                         [-1.2833, -0.4827,  0.7666, -1.1159]],\n",
       "                \n",
       "                        [[ 1.5213, -0.0544,  0.1993, -0.2286],\n",
       "                         [ 0.8726, -0.3535, -0.6794, -0.0687],\n",
       "                         [-1.2833, -0.4827,  0.7666, -1.1159]],\n",
       "                \n",
       "                        [[ 1.5213, -0.0544,  0.1993, -0.2286],\n",
       "                         [ 0.8726, -0.3535, -0.6794, -0.0687],\n",
       "                         [-1.2833, -0.4827,  0.7666, -1.1159]],\n",
       "                \n",
       "                        [[ 1.5213, -0.0544,  0.1993, -0.2286],\n",
       "                         [ 0.8726, -0.3535, -0.6794, -0.0687],\n",
       "                         [-1.2833, -0.4827,  0.7666, -1.1159]],\n",
       "                \n",
       "                        [[ 1.5213, -0.0544,  0.1993, -0.2286],\n",
       "                         [ 0.8726, -0.3535, -0.6794, -0.0687],\n",
       "                         [-1.2833, -0.4827,  0.7666, -1.1159]],\n",
       "                \n",
       "                        [[ 1.5213, -0.0544,  0.1993, -0.2286],\n",
       "                         [ 0.8726, -0.3535, -0.6794, -0.0687],\n",
       "                         [-1.2833, -0.4827,  0.7666, -1.1159]],\n",
       "                \n",
       "                        [[ 1.5213, -0.0544,  0.1993, -0.2286],\n",
       "                         [ 0.8726, -0.3535, -0.6794, -0.0687],\n",
       "                         [-1.2833, -0.4827,  0.7666, -1.1159]]])"
      ]
     },
     "execution_count": 20,
     "metadata": {},
     "output_type": "execute_result"
    }
   ],
   "source": [
    "t_stack = FastTreeValue.func(subside=True)(torch.stack)\n",
    "\n",
    "t_stack(trees)"
   ]
  },
  {
   "cell_type": "code",
   "execution_count": 21,
   "id": "f8b3f415",
   "metadata": {
    "execution": {
     "iopub.execute_input": "2023-02-27T10:51:56.001122Z",
     "iopub.status.busy": "2023-02-27T10:51:56.000752Z",
     "iopub.status.idle": "2023-02-27T10:51:58.648096Z",
     "shell.execute_reply": "2023-02-27T10:51:58.647372Z"
    }
   },
   "outputs": [
    {
     "name": "stdout",
     "output_type": "stream",
     "text": [
      "32.6 µs ± 56.5 ns per loop (mean ± std. dev. of 7 runs, 10,000 loops each)\n"
     ]
    }
   ],
   "source": [
    "%timeit t_stack(trees)"
   ]
  },
  {
   "cell_type": "code",
   "execution_count": 22,
   "id": "94b56771",
   "metadata": {
    "execution": {
     "iopub.execute_input": "2023-02-27T10:51:58.651016Z",
     "iopub.status.busy": "2023-02-27T10:51:58.650504Z",
     "iopub.status.idle": "2023-02-27T10:51:58.658302Z",
     "shell.execute_reply": "2023-02-27T10:51:58.657721Z"
    }
   },
   "outputs": [
    {
     "data": {
      "text/plain": [
       "<FastTreeValue 0x7f30f5c68b20>\n",
       "├── 'a' --> tensor([[-2.7781, -0.3651,  0.3574],\n",
       "│                   [-0.1617, -0.9157, -0.8280],\n",
       "│                   [-2.7781, -0.3651,  0.3574],\n",
       "│                   [-0.1617, -0.9157, -0.8280],\n",
       "│                   [-2.7781, -0.3651,  0.3574],\n",
       "│                   [-0.1617, -0.9157, -0.8280],\n",
       "│                   [-2.7781, -0.3651,  0.3574],\n",
       "│                   [-0.1617, -0.9157, -0.8280],\n",
       "│                   [-2.7781, -0.3651,  0.3574],\n",
       "│                   [-0.1617, -0.9157, -0.8280],\n",
       "│                   [-2.7781, -0.3651,  0.3574],\n",
       "│                   [-0.1617, -0.9157, -0.8280],\n",
       "│                   [-2.7781, -0.3651,  0.3574],\n",
       "│                   [-0.1617, -0.9157, -0.8280],\n",
       "│                   [-2.7781, -0.3651,  0.3574],\n",
       "│                   [-0.1617, -0.9157, -0.8280]])\n",
       "└── 'x' --> <FastTreeValue 0x7f31a49932e0>\n",
       "    └── 'c' --> tensor([[ 1.5213, -0.0544,  0.1993, -0.2286],\n",
       "                        [ 0.8726, -0.3535, -0.6794, -0.0687],\n",
       "                        [-1.2833, -0.4827,  0.7666, -1.1159],\n",
       "                        [ 1.5213, -0.0544,  0.1993, -0.2286],\n",
       "                        [ 0.8726, -0.3535, -0.6794, -0.0687],\n",
       "                        [-1.2833, -0.4827,  0.7666, -1.1159],\n",
       "                        [ 1.5213, -0.0544,  0.1993, -0.2286],\n",
       "                        [ 0.8726, -0.3535, -0.6794, -0.0687],\n",
       "                        [-1.2833, -0.4827,  0.7666, -1.1159],\n",
       "                        [ 1.5213, -0.0544,  0.1993, -0.2286],\n",
       "                        [ 0.8726, -0.3535, -0.6794, -0.0687],\n",
       "                        [-1.2833, -0.4827,  0.7666, -1.1159],\n",
       "                        [ 1.5213, -0.0544,  0.1993, -0.2286],\n",
       "                        [ 0.8726, -0.3535, -0.6794, -0.0687],\n",
       "                        [-1.2833, -0.4827,  0.7666, -1.1159],\n",
       "                        [ 1.5213, -0.0544,  0.1993, -0.2286],\n",
       "                        [ 0.8726, -0.3535, -0.6794, -0.0687],\n",
       "                        [-1.2833, -0.4827,  0.7666, -1.1159],\n",
       "                        [ 1.5213, -0.0544,  0.1993, -0.2286],\n",
       "                        [ 0.8726, -0.3535, -0.6794, -0.0687],\n",
       "                        [-1.2833, -0.4827,  0.7666, -1.1159],\n",
       "                        [ 1.5213, -0.0544,  0.1993, -0.2286],\n",
       "                        [ 0.8726, -0.3535, -0.6794, -0.0687],\n",
       "                        [-1.2833, -0.4827,  0.7666, -1.1159]])"
      ]
     },
     "execution_count": 22,
     "metadata": {},
     "output_type": "execute_result"
    }
   ],
   "source": [
    "t_cat = FastTreeValue.func(subside=True)(torch.cat)\n",
    "\n",
    "t_cat(trees)"
   ]
  },
  {
   "cell_type": "code",
   "execution_count": 23,
   "id": "5e9c06a6",
   "metadata": {
    "execution": {
     "iopub.execute_input": "2023-02-27T10:51:58.660730Z",
     "iopub.status.busy": "2023-02-27T10:51:58.660382Z",
     "iopub.status.idle": "2023-02-27T10:52:01.132672Z",
     "shell.execute_reply": "2023-02-27T10:52:01.131876Z"
    }
   },
   "outputs": [
    {
     "name": "stdout",
     "output_type": "stream",
     "text": [
      "30.4 µs ± 37.8 ns per loop (mean ± std. dev. of 7 runs, 10,000 loops each)\n"
     ]
    }
   ],
   "source": [
    "%timeit t_cat(trees)"
   ]
  },
  {
   "cell_type": "code",
   "execution_count": 24,
   "id": "a3ab5c8f",
   "metadata": {
    "execution": {
     "iopub.execute_input": "2023-02-27T10:52:01.135477Z",
     "iopub.status.busy": "2023-02-27T10:52:01.135121Z",
     "iopub.status.idle": "2023-02-27T10:52:05.854825Z",
     "shell.execute_reply": "2023-02-27T10:52:05.854124Z"
    }
   },
   "outputs": [
    {
     "name": "stdout",
     "output_type": "stream",
     "text": [
      "58.1 µs ± 153 ns per loop (mean ± std. dev. of 7 runs, 10,000 loops each)\n"
     ]
    }
   ],
   "source": [
    "t_split = FastTreeValue.func(rise=True)(torch.split)\n",
    "tree = FastTreeValue({\n",
    "    'obs': torch.randn(8, 4, 84, 84),\n",
    "    'action': torch.randint(0, 6, size=(8, 1,)),\n",
    "    'reward': torch.rand(8, 1),\n",
    "})\n",
    "\n",
    "%timeit t_split(tree, 1)"
   ]
  },
  {
   "cell_type": "markdown",
   "id": "31c3ec0b",
   "metadata": {},
   "source": [
    "### Performance of Tianshou Batch"
   ]
  },
  {
   "cell_type": "code",
   "execution_count": 25,
   "id": "9ead828a",
   "metadata": {
    "execution": {
     "iopub.execute_input": "2023-02-27T10:52:05.857982Z",
     "iopub.status.busy": "2023-02-27T10:52:05.857458Z",
     "iopub.status.idle": "2023-02-27T10:52:05.864580Z",
     "shell.execute_reply": "2023-02-27T10:52:05.863948Z"
    }
   },
   "outputs": [
    {
     "data": {
      "text/plain": [
       "Batch(\n",
       "    a: tensor([[[-2.7781, -0.3651,  0.3574],\n",
       "                [-0.1617, -0.9157, -0.8280]],\n",
       "       \n",
       "               [[-2.7781, -0.3651,  0.3574],\n",
       "                [-0.1617, -0.9157, -0.8280]],\n",
       "       \n",
       "               [[-2.7781, -0.3651,  0.3574],\n",
       "                [-0.1617, -0.9157, -0.8280]],\n",
       "       \n",
       "               [[-2.7781, -0.3651,  0.3574],\n",
       "                [-0.1617, -0.9157, -0.8280]],\n",
       "       \n",
       "               [[-2.7781, -0.3651,  0.3574],\n",
       "                [-0.1617, -0.9157, -0.8280]],\n",
       "       \n",
       "               [[-2.7781, -0.3651,  0.3574],\n",
       "                [-0.1617, -0.9157, -0.8280]],\n",
       "       \n",
       "               [[-2.7781, -0.3651,  0.3574],\n",
       "                [-0.1617, -0.9157, -0.8280]],\n",
       "       \n",
       "               [[-2.7781, -0.3651,  0.3574],\n",
       "                [-0.1617, -0.9157, -0.8280]]]),\n",
       "    x: Batch(\n",
       "           c: tensor([[[ 1.5213, -0.0544,  0.1993, -0.2286],\n",
       "                       [ 0.8726, -0.3535, -0.6794, -0.0687],\n",
       "                       [-1.2833, -0.4827,  0.7666, -1.1159]],\n",
       "              \n",
       "                      [[ 1.5213, -0.0544,  0.1993, -0.2286],\n",
       "                       [ 0.8726, -0.3535, -0.6794, -0.0687],\n",
       "                       [-1.2833, -0.4827,  0.7666, -1.1159]],\n",
       "              \n",
       "                      [[ 1.5213, -0.0544,  0.1993, -0.2286],\n",
       "                       [ 0.8726, -0.3535, -0.6794, -0.0687],\n",
       "                       [-1.2833, -0.4827,  0.7666, -1.1159]],\n",
       "              \n",
       "                      [[ 1.5213, -0.0544,  0.1993, -0.2286],\n",
       "                       [ 0.8726, -0.3535, -0.6794, -0.0687],\n",
       "                       [-1.2833, -0.4827,  0.7666, -1.1159]],\n",
       "              \n",
       "                      [[ 1.5213, -0.0544,  0.1993, -0.2286],\n",
       "                       [ 0.8726, -0.3535, -0.6794, -0.0687],\n",
       "                       [-1.2833, -0.4827,  0.7666, -1.1159]],\n",
       "              \n",
       "                      [[ 1.5213, -0.0544,  0.1993, -0.2286],\n",
       "                       [ 0.8726, -0.3535, -0.6794, -0.0687],\n",
       "                       [-1.2833, -0.4827,  0.7666, -1.1159]],\n",
       "              \n",
       "                      [[ 1.5213, -0.0544,  0.1993, -0.2286],\n",
       "                       [ 0.8726, -0.3535, -0.6794, -0.0687],\n",
       "                       [-1.2833, -0.4827,  0.7666, -1.1159]],\n",
       "              \n",
       "                      [[ 1.5213, -0.0544,  0.1993, -0.2286],\n",
       "                       [ 0.8726, -0.3535, -0.6794, -0.0687],\n",
       "                       [-1.2833, -0.4827,  0.7666, -1.1159]]]),\n",
       "       ),\n",
       ")"
      ]
     },
     "execution_count": 25,
     "metadata": {},
     "output_type": "execute_result"
    }
   ],
   "source": [
    "batches = [Batch(**_TREE_DATA_2) for _ in range(8)]\n",
    "\n",
    "Batch.stack(batches)"
   ]
  },
  {
   "cell_type": "code",
   "execution_count": 26,
   "id": "ec9037a3",
   "metadata": {
    "execution": {
     "iopub.execute_input": "2023-02-27T10:52:05.867020Z",
     "iopub.status.busy": "2023-02-27T10:52:05.866687Z",
     "iopub.status.idle": "2023-02-27T10:52:12.188771Z",
     "shell.execute_reply": "2023-02-27T10:52:12.187959Z"
    }
   },
   "outputs": [
    {
     "name": "stdout",
     "output_type": "stream",
     "text": [
      "77.9 µs ± 261 ns per loop (mean ± std. dev. of 7 runs, 10,000 loops each)\n"
     ]
    }
   ],
   "source": [
    "%timeit Batch.stack(batches)"
   ]
  },
  {
   "cell_type": "code",
   "execution_count": 27,
   "id": "cb8ab77e",
   "metadata": {
    "execution": {
     "iopub.execute_input": "2023-02-27T10:52:12.191929Z",
     "iopub.status.busy": "2023-02-27T10:52:12.191566Z",
     "iopub.status.idle": "2023-02-27T10:52:12.198901Z",
     "shell.execute_reply": "2023-02-27T10:52:12.198337Z"
    }
   },
   "outputs": [
    {
     "data": {
      "text/plain": [
       "Batch(\n",
       "    a: tensor([[-2.7781, -0.3651,  0.3574],\n",
       "               [-0.1617, -0.9157, -0.8280],\n",
       "               [-2.7781, -0.3651,  0.3574],\n",
       "               [-0.1617, -0.9157, -0.8280],\n",
       "               [-2.7781, -0.3651,  0.3574],\n",
       "               [-0.1617, -0.9157, -0.8280],\n",
       "               [-2.7781, -0.3651,  0.3574],\n",
       "               [-0.1617, -0.9157, -0.8280],\n",
       "               [-2.7781, -0.3651,  0.3574],\n",
       "               [-0.1617, -0.9157, -0.8280],\n",
       "               [-2.7781, -0.3651,  0.3574],\n",
       "               [-0.1617, -0.9157, -0.8280],\n",
       "               [-2.7781, -0.3651,  0.3574],\n",
       "               [-0.1617, -0.9157, -0.8280],\n",
       "               [-2.7781, -0.3651,  0.3574],\n",
       "               [-0.1617, -0.9157, -0.8280]]),\n",
       "    x: Batch(\n",
       "           c: tensor([[ 1.5213, -0.0544,  0.1993, -0.2286],\n",
       "                      [ 0.8726, -0.3535, -0.6794, -0.0687],\n",
       "                      [-1.2833, -0.4827,  0.7666, -1.1159],\n",
       "                      [ 1.5213, -0.0544,  0.1993, -0.2286],\n",
       "                      [ 0.8726, -0.3535, -0.6794, -0.0687],\n",
       "                      [-1.2833, -0.4827,  0.7666, -1.1159],\n",
       "                      [ 1.5213, -0.0544,  0.1993, -0.2286],\n",
       "                      [ 0.8726, -0.3535, -0.6794, -0.0687],\n",
       "                      [-1.2833, -0.4827,  0.7666, -1.1159],\n",
       "                      [ 1.5213, -0.0544,  0.1993, -0.2286],\n",
       "                      [ 0.8726, -0.3535, -0.6794, -0.0687],\n",
       "                      [-1.2833, -0.4827,  0.7666, -1.1159],\n",
       "                      [ 1.5213, -0.0544,  0.1993, -0.2286],\n",
       "                      [ 0.8726, -0.3535, -0.6794, -0.0687],\n",
       "                      [-1.2833, -0.4827,  0.7666, -1.1159],\n",
       "                      [ 1.5213, -0.0544,  0.1993, -0.2286],\n",
       "                      [ 0.8726, -0.3535, -0.6794, -0.0687],\n",
       "                      [-1.2833, -0.4827,  0.7666, -1.1159],\n",
       "                      [ 1.5213, -0.0544,  0.1993, -0.2286],\n",
       "                      [ 0.8726, -0.3535, -0.6794, -0.0687],\n",
       "                      [-1.2833, -0.4827,  0.7666, -1.1159],\n",
       "                      [ 1.5213, -0.0544,  0.1993, -0.2286],\n",
       "                      [ 0.8726, -0.3535, -0.6794, -0.0687],\n",
       "                      [-1.2833, -0.4827,  0.7666, -1.1159]]),\n",
       "       ),\n",
       ")"
      ]
     },
     "execution_count": 27,
     "metadata": {},
     "output_type": "execute_result"
    }
   ],
   "source": [
    "Batch.cat(batches)"
   ]
  },
  {
   "cell_type": "code",
   "execution_count": 28,
   "id": "18dfb045",
   "metadata": {
    "execution": {
     "iopub.execute_input": "2023-02-27T10:52:12.201552Z",
     "iopub.status.busy": "2023-02-27T10:52:12.201224Z",
     "iopub.status.idle": "2023-02-27T10:52:23.699366Z",
     "shell.execute_reply": "2023-02-27T10:52:23.698661Z"
    }
   },
   "outputs": [
    {
     "name": "stdout",
     "output_type": "stream",
     "text": [
      "142 µs ± 110 ns per loop (mean ± std. dev. of 7 runs, 10,000 loops each)\n"
     ]
    }
   ],
   "source": [
    "%timeit Batch.cat(batches)"
   ]
  },
  {
   "cell_type": "code",
   "execution_count": 29,
   "id": "c6688e51",
   "metadata": {
    "execution": {
     "iopub.execute_input": "2023-02-27T10:52:23.702164Z",
     "iopub.status.busy": "2023-02-27T10:52:23.701828Z",
     "iopub.status.idle": "2023-02-27T10:52:26.195112Z",
     "shell.execute_reply": "2023-02-27T10:52:26.194434Z"
    }
   },
   "outputs": [
    {
     "name": "stdout",
     "output_type": "stream",
     "text": [
      "306 µs ± 981 ns per loop (mean ± std. dev. of 7 runs, 1,000 loops each)\n"
     ]
    }
   ],
   "source": [
    "batch = Batch({\n",
    "    'obs': torch.randn(8, 4, 84, 84),\n",
    "    'action': torch.randint(0, 6, size=(8, 1,)),\n",
    "    'reward': torch.rand(8, 1)}\n",
    ")\n",
    "\n",
    "%timeit list(Batch.split(batch, 1, shuffle=False, merge_last=True))"
   ]
  },
  {
   "cell_type": "code",
   "execution_count": null,
   "id": "2539fbd9",
   "metadata": {},
   "outputs": [],
   "source": []
  }
 ],
 "metadata": {
  "kernelspec": {
   "display_name": "Python 3 (ipykernel)",
   "language": "python",
   "name": "python3"
  },
  "language_info": {
   "codemirror_mode": {
    "name": "ipython",
    "version": 3
   },
   "file_extension": ".py",
   "mimetype": "text/x-python",
   "name": "python",
   "nbconvert_exporter": "python",
   "pygments_lexer": "ipython3",
   "version": "3.8.16"
  }
 },
 "nbformat": 4,
 "nbformat_minor": 5
}
