{
 "cells": [
  {
   "cell_type": "markdown",
   "id": "9d39d946",
   "metadata": {},
   "source": [
    "# Comparison Between TreeValue and Tianshou Batch"
   ]
  },
  {
   "cell_type": "markdown",
   "id": "3c6db2d4",
   "metadata": {},
   "source": [
    "In this section, we will take a look at the feature and performance of the [Tianshou Batch](https://github.com/thu-ml/tianshou) library, which is developed by Tsinghua Machine Learning Group."
   ]
  },
  {
   "cell_type": "markdown",
   "id": "069361b0",
   "metadata": {},
   "source": [
    "Before starting the comparison, let us define some thing."
   ]
  },
  {
   "cell_type": "code",
   "execution_count": 1,
   "id": "06fc8d26",
   "metadata": {
    "execution": {
     "iopub.execute_input": "2023-02-27T07:37:57.706324Z",
     "iopub.status.busy": "2023-02-27T07:37:57.706039Z",
     "iopub.status.idle": "2023-02-27T07:37:59.036351Z",
     "shell.execute_reply": "2023-02-27T07:37:59.035101Z"
    }
   },
   "outputs": [
    {
     "name": "stderr",
     "output_type": "stream",
     "text": [
      "/opt/hostedtoolcache/Python/3.8.16/x64/lib/python3.8/site-packages/tqdm/auto.py:22: TqdmWarning: IProgress not found. Please update jupyter and ipywidgets. See https://ipywidgets.readthedocs.io/en/stable/user_install.html\n",
      "  from .autonotebook import tqdm as notebook_tqdm\n"
     ]
    }
   ],
   "source": [
    "import torch \n",
    "\n",
    "_TREE_DATA_1 = {'a': 1, 'b': 2, 'x': {'c': 3, 'd': 4}}\n",
    "_TREE_DATA_2 = {\n",
    "    'a': torch.randn(2, 3), \n",
    "    'x': {\n",
    "        'c': torch.randn(3, 4)\n",
    "    },\n",
    "}\n",
    "_TREE_DATA_3 = {\n",
    "    'obs': torch.randn(4, 84, 84),\n",
    "    'action': torch.randint(0, 6, size=(1,)),\n",
    "    'reward': torch.rand(1),\n",
    "}"
   ]
  },
  {
   "cell_type": "markdown",
   "id": "83461b25",
   "metadata": {},
   "source": [
    "## Read and Write Operation"
   ]
  },
  {
   "cell_type": "markdown",
   "id": "067b3f73",
   "metadata": {},
   "source": [
    "Reading and writing are the two most common operations in the tree data structure based on the data model (TreeValue and Tianshou Batch both belong to this type), so this section will compare the reading and writing performance of these two libraries."
   ]
  },
  {
   "cell_type": "markdown",
   "id": "5d09a5b7",
   "metadata": {},
   "source": [
    "### TreeValue's Get and Set"
   ]
  },
  {
   "cell_type": "code",
   "execution_count": 2,
   "id": "9519c4bb",
   "metadata": {
    "execution": {
     "iopub.execute_input": "2023-02-27T07:37:59.041427Z",
     "iopub.status.busy": "2023-02-27T07:37:59.040985Z",
     "iopub.status.idle": "2023-02-27T07:37:59.455504Z",
     "shell.execute_reply": "2023-02-27T07:37:59.454221Z"
    }
   },
   "outputs": [],
   "source": [
    "from treevalue import FastTreeValue\n",
    "\n",
    "t = FastTreeValue(_TREE_DATA_2)"
   ]
  },
  {
   "cell_type": "code",
   "execution_count": 3,
   "id": "11c37677",
   "metadata": {
    "execution": {
     "iopub.execute_input": "2023-02-27T07:37:59.459753Z",
     "iopub.status.busy": "2023-02-27T07:37:59.459360Z",
     "iopub.status.idle": "2023-02-27T07:37:59.473014Z",
     "shell.execute_reply": "2023-02-27T07:37:59.472012Z"
    }
   },
   "outputs": [
    {
     "data": {
      "text/plain": [
       "<FastTreeValue 0x7f404cd17340>\n",
       "├── 'a' --> tensor([[ 0.5416, -0.1684, -0.6727],\n",
       "│                   [ 1.1070, -0.7641,  0.3552]])\n",
       "└── 'x' --> <FastTreeValue 0x7f404cd7ad00>\n",
       "    └── 'c' --> tensor([[-1.0623, -0.2272, -1.0072,  1.0367],\n",
       "                        [-1.1642, -0.6360, -1.9730,  0.7063],\n",
       "                        [ 0.2449,  1.3592, -0.4793, -0.6210]])"
      ]
     },
     "execution_count": 3,
     "metadata": {},
     "output_type": "execute_result"
    }
   ],
   "source": [
    "t"
   ]
  },
  {
   "cell_type": "code",
   "execution_count": 4,
   "id": "fd70b0b9",
   "metadata": {
    "execution": {
     "iopub.execute_input": "2023-02-27T07:37:59.476599Z",
     "iopub.status.busy": "2023-02-27T07:37:59.476289Z",
     "iopub.status.idle": "2023-02-27T07:37:59.484555Z",
     "shell.execute_reply": "2023-02-27T07:37:59.483624Z"
    }
   },
   "outputs": [
    {
     "data": {
      "text/plain": [
       "tensor([[ 0.5416, -0.1684, -0.6727],\n",
       "        [ 1.1070, -0.7641,  0.3552]])"
      ]
     },
     "execution_count": 4,
     "metadata": {},
     "output_type": "execute_result"
    }
   ],
   "source": [
    "t.a"
   ]
  },
  {
   "cell_type": "code",
   "execution_count": 5,
   "id": "c18197bd",
   "metadata": {
    "execution": {
     "iopub.execute_input": "2023-02-27T07:37:59.487990Z",
     "iopub.status.busy": "2023-02-27T07:37:59.487697Z",
     "iopub.status.idle": "2023-02-27T07:38:05.833791Z",
     "shell.execute_reply": "2023-02-27T07:38:05.832610Z"
    }
   },
   "outputs": [
    {
     "name": "stdout",
     "output_type": "stream",
     "text": [
      "78.6 ns ± 1.2 ns per loop (mean ± std. dev. of 7 runs, 10,000,000 loops each)\n"
     ]
    }
   ],
   "source": [
    "%timeit t.a"
   ]
  },
  {
   "cell_type": "code",
   "execution_count": 6,
   "id": "bd52f867",
   "metadata": {
    "execution": {
     "iopub.execute_input": "2023-02-27T07:38:05.838284Z",
     "iopub.status.busy": "2023-02-27T07:38:05.837891Z",
     "iopub.status.idle": "2023-02-27T07:38:05.846979Z",
     "shell.execute_reply": "2023-02-27T07:38:05.845957Z"
    }
   },
   "outputs": [
    {
     "data": {
      "text/plain": [
       "<FastTreeValue 0x7f404cd17340>\n",
       "├── 'a' --> tensor([[-0.6061, -0.5670, -0.7513],\n",
       "│                   [ 1.6048,  0.0759, -0.2600]])\n",
       "└── 'x' --> <FastTreeValue 0x7f404cd7ad00>\n",
       "    └── 'c' --> tensor([[-1.0623, -0.2272, -1.0072,  1.0367],\n",
       "                        [-1.1642, -0.6360, -1.9730,  0.7063],\n",
       "                        [ 0.2449,  1.3592, -0.4793, -0.6210]])"
      ]
     },
     "execution_count": 6,
     "metadata": {},
     "output_type": "execute_result"
    }
   ],
   "source": [
    "new_value = torch.randn(2, 3)\n",
    "t.a = new_value\n",
    "\n",
    "t"
   ]
  },
  {
   "cell_type": "code",
   "execution_count": 7,
   "id": "bbe04d1c",
   "metadata": {
    "execution": {
     "iopub.execute_input": "2023-02-27T07:38:05.851147Z",
     "iopub.status.busy": "2023-02-27T07:38:05.850558Z",
     "iopub.status.idle": "2023-02-27T07:38:12.600103Z",
     "shell.execute_reply": "2023-02-27T07:38:12.598984Z"
    }
   },
   "outputs": [
    {
     "name": "stdout",
     "output_type": "stream",
     "text": [
      "83.9 ns ± 0.883 ns per loop (mean ± std. dev. of 7 runs, 10,000,000 loops each)\n"
     ]
    }
   ],
   "source": [
    "%timeit t.a = new_value"
   ]
  },
  {
   "cell_type": "markdown",
   "id": "48c49731",
   "metadata": {},
   "source": [
    "### Tianshou Batch's Get and Set"
   ]
  },
  {
   "cell_type": "code",
   "execution_count": 8,
   "id": "f1bb14c1",
   "metadata": {
    "execution": {
     "iopub.execute_input": "2023-02-27T07:38:12.604465Z",
     "iopub.status.busy": "2023-02-27T07:38:12.603890Z",
     "iopub.status.idle": "2023-02-27T07:38:13.102016Z",
     "shell.execute_reply": "2023-02-27T07:38:13.100864Z"
    }
   },
   "outputs": [],
   "source": [
    "from tianshou.data import Batch\n",
    "\n",
    "b = Batch(**_TREE_DATA_2)"
   ]
  },
  {
   "cell_type": "code",
   "execution_count": 9,
   "id": "cb0777c3",
   "metadata": {
    "execution": {
     "iopub.execute_input": "2023-02-27T07:38:13.106641Z",
     "iopub.status.busy": "2023-02-27T07:38:13.106230Z",
     "iopub.status.idle": "2023-02-27T07:38:13.115192Z",
     "shell.execute_reply": "2023-02-27T07:38:13.114253Z"
    }
   },
   "outputs": [
    {
     "data": {
      "text/plain": [
       "Batch(\n",
       "    a: tensor([[ 0.5416, -0.1684, -0.6727],\n",
       "               [ 1.1070, -0.7641,  0.3552]]),\n",
       "    x: Batch(\n",
       "           c: tensor([[-1.0623, -0.2272, -1.0072,  1.0367],\n",
       "                      [-1.1642, -0.6360, -1.9730,  0.7063],\n",
       "                      [ 0.2449,  1.3592, -0.4793, -0.6210]]),\n",
       "       ),\n",
       ")"
      ]
     },
     "execution_count": 9,
     "metadata": {},
     "output_type": "execute_result"
    }
   ],
   "source": [
    "b"
   ]
  },
  {
   "cell_type": "code",
   "execution_count": 10,
   "id": "43ef8ea3",
   "metadata": {
    "execution": {
     "iopub.execute_input": "2023-02-27T07:38:13.118885Z",
     "iopub.status.busy": "2023-02-27T07:38:13.118613Z",
     "iopub.status.idle": "2023-02-27T07:38:13.126955Z",
     "shell.execute_reply": "2023-02-27T07:38:13.125356Z"
    }
   },
   "outputs": [
    {
     "data": {
      "text/plain": [
       "tensor([[ 0.5416, -0.1684, -0.6727],\n",
       "        [ 1.1070, -0.7641,  0.3552]])"
      ]
     },
     "execution_count": 10,
     "metadata": {},
     "output_type": "execute_result"
    }
   ],
   "source": [
    "b.a"
   ]
  },
  {
   "cell_type": "code",
   "execution_count": 11,
   "id": "b785ab72",
   "metadata": {
    "execution": {
     "iopub.execute_input": "2023-02-27T07:38:13.131578Z",
     "iopub.status.busy": "2023-02-27T07:38:13.131264Z",
     "iopub.status.idle": "2023-02-27T07:38:19.316904Z",
     "shell.execute_reply": "2023-02-27T07:38:19.315785Z"
    }
   },
   "outputs": [
    {
     "name": "stdout",
     "output_type": "stream",
     "text": [
      "76.4 ns ± 0.666 ns per loop (mean ± std. dev. of 7 runs, 10,000,000 loops each)\n"
     ]
    }
   ],
   "source": [
    "%timeit b.a"
   ]
  },
  {
   "cell_type": "code",
   "execution_count": 12,
   "id": "ad54dc69",
   "metadata": {
    "execution": {
     "iopub.execute_input": "2023-02-27T07:38:19.321352Z",
     "iopub.status.busy": "2023-02-27T07:38:19.320638Z",
     "iopub.status.idle": "2023-02-27T07:38:19.329138Z",
     "shell.execute_reply": "2023-02-27T07:38:19.328071Z"
    }
   },
   "outputs": [
    {
     "data": {
      "text/plain": [
       "Batch(\n",
       "    a: tensor([[ 0.2779,  0.2451,  2.0551],\n",
       "               [ 0.5009, -1.5996,  0.1360]]),\n",
       "    x: Batch(\n",
       "           c: tensor([[-1.0623, -0.2272, -1.0072,  1.0367],\n",
       "                      [-1.1642, -0.6360, -1.9730,  0.7063],\n",
       "                      [ 0.2449,  1.3592, -0.4793, -0.6210]]),\n",
       "       ),\n",
       ")"
      ]
     },
     "execution_count": 12,
     "metadata": {},
     "output_type": "execute_result"
    }
   ],
   "source": [
    "new_value = torch.randn(2, 3)\n",
    "b.a = new_value\n",
    "\n",
    "b"
   ]
  },
  {
   "cell_type": "code",
   "execution_count": 13,
   "id": "29b1d0bf",
   "metadata": {
    "execution": {
     "iopub.execute_input": "2023-02-27T07:38:19.332890Z",
     "iopub.status.busy": "2023-02-27T07:38:19.332351Z",
     "iopub.status.idle": "2023-02-27T07:38:24.712273Z",
     "shell.execute_reply": "2023-02-27T07:38:24.711143Z"
    }
   },
   "outputs": [
    {
     "name": "stdout",
     "output_type": "stream",
     "text": [
      "663 ns ± 5.89 ns per loop (mean ± std. dev. of 7 runs, 1,000,000 loops each)\n"
     ]
    }
   ],
   "source": [
    "%timeit b.a = new_value"
   ]
  },
  {
   "cell_type": "markdown",
   "id": "b61ad1d0",
   "metadata": {},
   "source": [
    "## Initialization"
   ]
  },
  {
   "cell_type": "markdown",
   "id": "d70f0d54",
   "metadata": {},
   "source": [
    "### TreeValue's Initialization"
   ]
  },
  {
   "cell_type": "code",
   "execution_count": 14,
   "id": "d32a679b",
   "metadata": {
    "execution": {
     "iopub.execute_input": "2023-02-27T07:38:24.717157Z",
     "iopub.status.busy": "2023-02-27T07:38:24.716692Z",
     "iopub.status.idle": "2023-02-27T07:38:33.373898Z",
     "shell.execute_reply": "2023-02-27T07:38:33.372867Z"
    }
   },
   "outputs": [
    {
     "name": "stdout",
     "output_type": "stream",
     "text": [
      "1.06 µs ± 10.2 ns per loop (mean ± std. dev. of 7 runs, 1,000,000 loops each)\n"
     ]
    }
   ],
   "source": [
    "%timeit FastTreeValue(_TREE_DATA_1)"
   ]
  },
  {
   "cell_type": "markdown",
   "id": "24f3707b",
   "metadata": {},
   "source": [
    "### Tianshou Batch's Initialization"
   ]
  },
  {
   "cell_type": "code",
   "execution_count": 15,
   "id": "ac3958df",
   "metadata": {
    "execution": {
     "iopub.execute_input": "2023-02-27T07:38:33.378915Z",
     "iopub.status.busy": "2023-02-27T07:38:33.378085Z",
     "iopub.status.idle": "2023-02-27T07:38:44.817633Z",
     "shell.execute_reply": "2023-02-27T07:38:44.816559Z"
    }
   },
   "outputs": [
    {
     "name": "stdout",
     "output_type": "stream",
     "text": [
      "14.1 µs ± 95.8 ns per loop (mean ± std. dev. of 7 runs, 100,000 loops each)\n"
     ]
    }
   ],
   "source": [
    "%timeit Batch(**_TREE_DATA_1)"
   ]
  },
  {
   "cell_type": "markdown",
   "id": "1ab82e2d",
   "metadata": {},
   "source": [
    "## Deep Copy Operation"
   ]
  },
  {
   "cell_type": "code",
   "execution_count": 16,
   "id": "210a9442",
   "metadata": {
    "execution": {
     "iopub.execute_input": "2023-02-27T07:38:44.822156Z",
     "iopub.status.busy": "2023-02-27T07:38:44.821248Z",
     "iopub.status.idle": "2023-02-27T07:38:44.827359Z",
     "shell.execute_reply": "2023-02-27T07:38:44.826363Z"
    }
   },
   "outputs": [],
   "source": [
    "import copy"
   ]
  },
  {
   "cell_type": "markdown",
   "id": "5a736274",
   "metadata": {},
   "source": [
    "### Deep Copy of TreeValue"
   ]
  },
  {
   "cell_type": "code",
   "execution_count": 17,
   "id": "f9bcadd6",
   "metadata": {
    "execution": {
     "iopub.execute_input": "2023-02-27T07:38:44.831109Z",
     "iopub.status.busy": "2023-02-27T07:38:44.830812Z",
     "iopub.status.idle": "2023-02-27T07:38:47.146437Z",
     "shell.execute_reply": "2023-02-27T07:38:47.145421Z"
    }
   },
   "outputs": [
    {
     "name": "stdout",
     "output_type": "stream",
     "text": [
      "285 µs ± 7.54 µs per loop (mean ± std. dev. of 7 runs, 1,000 loops each)\n"
     ]
    }
   ],
   "source": [
    "t3 = FastTreeValue(_TREE_DATA_3)\n",
    "%timeit copy.deepcopy(t3)"
   ]
  },
  {
   "cell_type": "markdown",
   "id": "bf8be7ea",
   "metadata": {},
   "source": [
    "### Deep Copy of Tianshou Batch"
   ]
  },
  {
   "cell_type": "code",
   "execution_count": 18,
   "id": "91998e6f",
   "metadata": {
    "execution": {
     "iopub.execute_input": "2023-02-27T07:38:47.150729Z",
     "iopub.status.busy": "2023-02-27T07:38:47.150158Z",
     "iopub.status.idle": "2023-02-27T07:38:49.391222Z",
     "shell.execute_reply": "2023-02-27T07:38:49.390238Z"
    }
   },
   "outputs": [
    {
     "name": "stdout",
     "output_type": "stream",
     "text": [
      "275 µs ± 5.81 µs per loop (mean ± std. dev. of 7 runs, 1,000 loops each)\n"
     ]
    }
   ],
   "source": [
    "b3 = Batch(**_TREE_DATA_3)\n",
    "%timeit copy.deepcopy(b3)"
   ]
  },
  {
   "cell_type": "markdown",
   "id": "223162fb",
   "metadata": {},
   "source": [
    "## Stack, Concat and Split Operation"
   ]
  },
  {
   "cell_type": "markdown",
   "id": "85fa4a73",
   "metadata": {},
   "source": [
    "### Performance of TreeValue"
   ]
  },
  {
   "cell_type": "code",
   "execution_count": 19,
   "id": "a0c2b697",
   "metadata": {
    "execution": {
     "iopub.execute_input": "2023-02-27T07:38:49.396082Z",
     "iopub.status.busy": "2023-02-27T07:38:49.395172Z",
     "iopub.status.idle": "2023-02-27T07:38:49.401473Z",
     "shell.execute_reply": "2023-02-27T07:38:49.400581Z"
    }
   },
   "outputs": [],
   "source": [
    "trees = [FastTreeValue(_TREE_DATA_2) for _ in range(8)]"
   ]
  },
  {
   "cell_type": "code",
   "execution_count": 20,
   "id": "017ea5a5",
   "metadata": {
    "execution": {
     "iopub.execute_input": "2023-02-27T07:38:49.405529Z",
     "iopub.status.busy": "2023-02-27T07:38:49.404889Z",
     "iopub.status.idle": "2023-02-27T07:38:49.416857Z",
     "shell.execute_reply": "2023-02-27T07:38:49.415964Z"
    }
   },
   "outputs": [
    {
     "data": {
      "text/plain": [
       "<FastTreeValue 0x7f404cd121f0>\n",
       "├── 'a' --> tensor([[[ 0.5416, -0.1684, -0.6727],\n",
       "│                    [ 1.1070, -0.7641,  0.3552]],\n",
       "│           \n",
       "│                   [[ 0.5416, -0.1684, -0.6727],\n",
       "│                    [ 1.1070, -0.7641,  0.3552]],\n",
       "│           \n",
       "│                   [[ 0.5416, -0.1684, -0.6727],\n",
       "│                    [ 1.1070, -0.7641,  0.3552]],\n",
       "│           \n",
       "│                   [[ 0.5416, -0.1684, -0.6727],\n",
       "│                    [ 1.1070, -0.7641,  0.3552]],\n",
       "│           \n",
       "│                   [[ 0.5416, -0.1684, -0.6727],\n",
       "│                    [ 1.1070, -0.7641,  0.3552]],\n",
       "│           \n",
       "│                   [[ 0.5416, -0.1684, -0.6727],\n",
       "│                    [ 1.1070, -0.7641,  0.3552]],\n",
       "│           \n",
       "│                   [[ 0.5416, -0.1684, -0.6727],\n",
       "│                    [ 1.1070, -0.7641,  0.3552]],\n",
       "│           \n",
       "│                   [[ 0.5416, -0.1684, -0.6727],\n",
       "│                    [ 1.1070, -0.7641,  0.3552]]])\n",
       "└── 'x' --> <FastTreeValue 0x7f404cd12730>\n",
       "    └── 'c' --> tensor([[[-1.0623, -0.2272, -1.0072,  1.0367],\n",
       "                         [-1.1642, -0.6360, -1.9730,  0.7063],\n",
       "                         [ 0.2449,  1.3592, -0.4793, -0.6210]],\n",
       "                \n",
       "                        [[-1.0623, -0.2272, -1.0072,  1.0367],\n",
       "                         [-1.1642, -0.6360, -1.9730,  0.7063],\n",
       "                         [ 0.2449,  1.3592, -0.4793, -0.6210]],\n",
       "                \n",
       "                        [[-1.0623, -0.2272, -1.0072,  1.0367],\n",
       "                         [-1.1642, -0.6360, -1.9730,  0.7063],\n",
       "                         [ 0.2449,  1.3592, -0.4793, -0.6210]],\n",
       "                \n",
       "                        [[-1.0623, -0.2272, -1.0072,  1.0367],\n",
       "                         [-1.1642, -0.6360, -1.9730,  0.7063],\n",
       "                         [ 0.2449,  1.3592, -0.4793, -0.6210]],\n",
       "                \n",
       "                        [[-1.0623, -0.2272, -1.0072,  1.0367],\n",
       "                         [-1.1642, -0.6360, -1.9730,  0.7063],\n",
       "                         [ 0.2449,  1.3592, -0.4793, -0.6210]],\n",
       "                \n",
       "                        [[-1.0623, -0.2272, -1.0072,  1.0367],\n",
       "                         [-1.1642, -0.6360, -1.9730,  0.7063],\n",
       "                         [ 0.2449,  1.3592, -0.4793, -0.6210]],\n",
       "                \n",
       "                        [[-1.0623, -0.2272, -1.0072,  1.0367],\n",
       "                         [-1.1642, -0.6360, -1.9730,  0.7063],\n",
       "                         [ 0.2449,  1.3592, -0.4793, -0.6210]],\n",
       "                \n",
       "                        [[-1.0623, -0.2272, -1.0072,  1.0367],\n",
       "                         [-1.1642, -0.6360, -1.9730,  0.7063],\n",
       "                         [ 0.2449,  1.3592, -0.4793, -0.6210]]])"
      ]
     },
     "execution_count": 20,
     "metadata": {},
     "output_type": "execute_result"
    }
   ],
   "source": [
    "t_stack = FastTreeValue.func(subside=True)(torch.stack)\n",
    "\n",
    "t_stack(trees)"
   ]
  },
  {
   "cell_type": "code",
   "execution_count": 21,
   "id": "f8b3f415",
   "metadata": {
    "execution": {
     "iopub.execute_input": "2023-02-27T07:38:49.420473Z",
     "iopub.status.busy": "2023-02-27T07:38:49.419930Z",
     "iopub.status.idle": "2023-02-27T07:38:53.312015Z",
     "shell.execute_reply": "2023-02-27T07:38:53.310557Z"
    }
   },
   "outputs": [
    {
     "name": "stdout",
     "output_type": "stream",
     "text": [
      "48.1 µs ± 812 ns per loop (mean ± std. dev. of 7 runs, 10,000 loops each)\n"
     ]
    }
   ],
   "source": [
    "%timeit t_stack(trees)"
   ]
  },
  {
   "cell_type": "code",
   "execution_count": 22,
   "id": "94b56771",
   "metadata": {
    "execution": {
     "iopub.execute_input": "2023-02-27T07:38:53.315699Z",
     "iopub.status.busy": "2023-02-27T07:38:53.315403Z",
     "iopub.status.idle": "2023-02-27T07:38:53.327094Z",
     "shell.execute_reply": "2023-02-27T07:38:53.325937Z"
    }
   },
   "outputs": [
    {
     "data": {
      "text/plain": [
       "<FastTreeValue 0x7f3f96fd7f40>\n",
       "├── 'a' --> tensor([[ 0.5416, -0.1684, -0.6727],\n",
       "│                   [ 1.1070, -0.7641,  0.3552],\n",
       "│                   [ 0.5416, -0.1684, -0.6727],\n",
       "│                   [ 1.1070, -0.7641,  0.3552],\n",
       "│                   [ 0.5416, -0.1684, -0.6727],\n",
       "│                   [ 1.1070, -0.7641,  0.3552],\n",
       "│                   [ 0.5416, -0.1684, -0.6727],\n",
       "│                   [ 1.1070, -0.7641,  0.3552],\n",
       "│                   [ 0.5416, -0.1684, -0.6727],\n",
       "│                   [ 1.1070, -0.7641,  0.3552],\n",
       "│                   [ 0.5416, -0.1684, -0.6727],\n",
       "│                   [ 1.1070, -0.7641,  0.3552],\n",
       "│                   [ 0.5416, -0.1684, -0.6727],\n",
       "│                   [ 1.1070, -0.7641,  0.3552],\n",
       "│                   [ 0.5416, -0.1684, -0.6727],\n",
       "│                   [ 1.1070, -0.7641,  0.3552]])\n",
       "└── 'x' --> <FastTreeValue 0x7f3f96fb0c40>\n",
       "    └── 'c' --> tensor([[-1.0623, -0.2272, -1.0072,  1.0367],\n",
       "                        [-1.1642, -0.6360, -1.9730,  0.7063],\n",
       "                        [ 0.2449,  1.3592, -0.4793, -0.6210],\n",
       "                        [-1.0623, -0.2272, -1.0072,  1.0367],\n",
       "                        [-1.1642, -0.6360, -1.9730,  0.7063],\n",
       "                        [ 0.2449,  1.3592, -0.4793, -0.6210],\n",
       "                        [-1.0623, -0.2272, -1.0072,  1.0367],\n",
       "                        [-1.1642, -0.6360, -1.9730,  0.7063],\n",
       "                        [ 0.2449,  1.3592, -0.4793, -0.6210],\n",
       "                        [-1.0623, -0.2272, -1.0072,  1.0367],\n",
       "                        [-1.1642, -0.6360, -1.9730,  0.7063],\n",
       "                        [ 0.2449,  1.3592, -0.4793, -0.6210],\n",
       "                        [-1.0623, -0.2272, -1.0072,  1.0367],\n",
       "                        [-1.1642, -0.6360, -1.9730,  0.7063],\n",
       "                        [ 0.2449,  1.3592, -0.4793, -0.6210],\n",
       "                        [-1.0623, -0.2272, -1.0072,  1.0367],\n",
       "                        [-1.1642, -0.6360, -1.9730,  0.7063],\n",
       "                        [ 0.2449,  1.3592, -0.4793, -0.6210],\n",
       "                        [-1.0623, -0.2272, -1.0072,  1.0367],\n",
       "                        [-1.1642, -0.6360, -1.9730,  0.7063],\n",
       "                        [ 0.2449,  1.3592, -0.4793, -0.6210],\n",
       "                        [-1.0623, -0.2272, -1.0072,  1.0367],\n",
       "                        [-1.1642, -0.6360, -1.9730,  0.7063],\n",
       "                        [ 0.2449,  1.3592, -0.4793, -0.6210]])"
      ]
     },
     "execution_count": 22,
     "metadata": {},
     "output_type": "execute_result"
    }
   ],
   "source": [
    "t_cat = FastTreeValue.func(subside=True)(torch.cat)\n",
    "\n",
    "t_cat(trees)"
   ]
  },
  {
   "cell_type": "code",
   "execution_count": 23,
   "id": "5e9c06a6",
   "metadata": {
    "execution": {
     "iopub.execute_input": "2023-02-27T07:38:53.330970Z",
     "iopub.status.busy": "2023-02-27T07:38:53.330618Z",
     "iopub.status.idle": "2023-02-27T07:38:56.858330Z",
     "shell.execute_reply": "2023-02-27T07:38:56.857198Z"
    }
   },
   "outputs": [
    {
     "name": "stdout",
     "output_type": "stream",
     "text": [
      "43.3 µs ± 578 ns per loop (mean ± std. dev. of 7 runs, 10,000 loops each)\n"
     ]
    }
   ],
   "source": [
    "%timeit t_cat(trees)"
   ]
  },
  {
   "cell_type": "code",
   "execution_count": 24,
   "id": "a3ab5c8f",
   "metadata": {
    "execution": {
     "iopub.execute_input": "2023-02-27T07:38:56.862312Z",
     "iopub.status.busy": "2023-02-27T07:38:56.861805Z",
     "iopub.status.idle": "2023-02-27T07:39:03.544123Z",
     "shell.execute_reply": "2023-02-27T07:39:03.542966Z"
    }
   },
   "outputs": [
    {
     "name": "stdout",
     "output_type": "stream",
     "text": [
      "82.2 µs ± 896 ns per loop (mean ± std. dev. of 7 runs, 10,000 loops each)\n"
     ]
    }
   ],
   "source": [
    "t_split = FastTreeValue.func(rise=True)(torch.split)\n",
    "tree = FastTreeValue({\n",
    "    'obs': torch.randn(8, 4, 84, 84),\n",
    "    'action': torch.randint(0, 6, size=(8, 1,)),\n",
    "    'reward': torch.rand(8, 1),\n",
    "})\n",
    "\n",
    "%timeit t_split(tree, 1)"
   ]
  },
  {
   "cell_type": "markdown",
   "id": "31c3ec0b",
   "metadata": {},
   "source": [
    "### Performance of Tianshou Batch"
   ]
  },
  {
   "cell_type": "code",
   "execution_count": 25,
   "id": "9ead828a",
   "metadata": {
    "execution": {
     "iopub.execute_input": "2023-02-27T07:39:03.548420Z",
     "iopub.status.busy": "2023-02-27T07:39:03.547852Z",
     "iopub.status.idle": "2023-02-27T07:39:03.559200Z",
     "shell.execute_reply": "2023-02-27T07:39:03.558269Z"
    }
   },
   "outputs": [
    {
     "data": {
      "text/plain": [
       "Batch(\n",
       "    x: Batch(\n",
       "           c: tensor([[[-1.0623, -0.2272, -1.0072,  1.0367],\n",
       "                       [-1.1642, -0.6360, -1.9730,  0.7063],\n",
       "                       [ 0.2449,  1.3592, -0.4793, -0.6210]],\n",
       "              \n",
       "                      [[-1.0623, -0.2272, -1.0072,  1.0367],\n",
       "                       [-1.1642, -0.6360, -1.9730,  0.7063],\n",
       "                       [ 0.2449,  1.3592, -0.4793, -0.6210]],\n",
       "              \n",
       "                      [[-1.0623, -0.2272, -1.0072,  1.0367],\n",
       "                       [-1.1642, -0.6360, -1.9730,  0.7063],\n",
       "                       [ 0.2449,  1.3592, -0.4793, -0.6210]],\n",
       "              \n",
       "                      [[-1.0623, -0.2272, -1.0072,  1.0367],\n",
       "                       [-1.1642, -0.6360, -1.9730,  0.7063],\n",
       "                       [ 0.2449,  1.3592, -0.4793, -0.6210]],\n",
       "              \n",
       "                      [[-1.0623, -0.2272, -1.0072,  1.0367],\n",
       "                       [-1.1642, -0.6360, -1.9730,  0.7063],\n",
       "                       [ 0.2449,  1.3592, -0.4793, -0.6210]],\n",
       "              \n",
       "                      [[-1.0623, -0.2272, -1.0072,  1.0367],\n",
       "                       [-1.1642, -0.6360, -1.9730,  0.7063],\n",
       "                       [ 0.2449,  1.3592, -0.4793, -0.6210]],\n",
       "              \n",
       "                      [[-1.0623, -0.2272, -1.0072,  1.0367],\n",
       "                       [-1.1642, -0.6360, -1.9730,  0.7063],\n",
       "                       [ 0.2449,  1.3592, -0.4793, -0.6210]],\n",
       "              \n",
       "                      [[-1.0623, -0.2272, -1.0072,  1.0367],\n",
       "                       [-1.1642, -0.6360, -1.9730,  0.7063],\n",
       "                       [ 0.2449,  1.3592, -0.4793, -0.6210]]]),\n",
       "       ),\n",
       "    a: tensor([[[ 0.5416, -0.1684, -0.6727],\n",
       "                [ 1.1070, -0.7641,  0.3552]],\n",
       "       \n",
       "               [[ 0.5416, -0.1684, -0.6727],\n",
       "                [ 1.1070, -0.7641,  0.3552]],\n",
       "       \n",
       "               [[ 0.5416, -0.1684, -0.6727],\n",
       "                [ 1.1070, -0.7641,  0.3552]],\n",
       "       \n",
       "               [[ 0.5416, -0.1684, -0.6727],\n",
       "                [ 1.1070, -0.7641,  0.3552]],\n",
       "       \n",
       "               [[ 0.5416, -0.1684, -0.6727],\n",
       "                [ 1.1070, -0.7641,  0.3552]],\n",
       "       \n",
       "               [[ 0.5416, -0.1684, -0.6727],\n",
       "                [ 1.1070, -0.7641,  0.3552]],\n",
       "       \n",
       "               [[ 0.5416, -0.1684, -0.6727],\n",
       "                [ 1.1070, -0.7641,  0.3552]],\n",
       "       \n",
       "               [[ 0.5416, -0.1684, -0.6727],\n",
       "                [ 1.1070, -0.7641,  0.3552]]]),\n",
       ")"
      ]
     },
     "execution_count": 25,
     "metadata": {},
     "output_type": "execute_result"
    }
   ],
   "source": [
    "batches = [Batch(**_TREE_DATA_2) for _ in range(8)]\n",
    "\n",
    "Batch.stack(batches)"
   ]
  },
  {
   "cell_type": "code",
   "execution_count": 26,
   "id": "ec9037a3",
   "metadata": {
    "execution": {
     "iopub.execute_input": "2023-02-27T07:39:03.563421Z",
     "iopub.status.busy": "2023-02-27T07:39:03.562754Z",
     "iopub.status.idle": "2023-02-27T07:39:12.467590Z",
     "shell.execute_reply": "2023-02-27T07:39:12.466558Z"
    }
   },
   "outputs": [
    {
     "name": "stdout",
     "output_type": "stream",
     "text": [
      "110 µs ± 2.67 µs per loop (mean ± std. dev. of 7 runs, 10,000 loops each)\n"
     ]
    }
   ],
   "source": [
    "%timeit Batch.stack(batches)"
   ]
  },
  {
   "cell_type": "code",
   "execution_count": 27,
   "id": "cb8ab77e",
   "metadata": {
    "execution": {
     "iopub.execute_input": "2023-02-27T07:39:12.471664Z",
     "iopub.status.busy": "2023-02-27T07:39:12.471111Z",
     "iopub.status.idle": "2023-02-27T07:39:12.480805Z",
     "shell.execute_reply": "2023-02-27T07:39:12.479735Z"
    }
   },
   "outputs": [
    {
     "data": {
      "text/plain": [
       "Batch(\n",
       "    x: Batch(\n",
       "           c: tensor([[-1.0623, -0.2272, -1.0072,  1.0367],\n",
       "                      [-1.1642, -0.6360, -1.9730,  0.7063],\n",
       "                      [ 0.2449,  1.3592, -0.4793, -0.6210],\n",
       "                      [-1.0623, -0.2272, -1.0072,  1.0367],\n",
       "                      [-1.1642, -0.6360, -1.9730,  0.7063],\n",
       "                      [ 0.2449,  1.3592, -0.4793, -0.6210],\n",
       "                      [-1.0623, -0.2272, -1.0072,  1.0367],\n",
       "                      [-1.1642, -0.6360, -1.9730,  0.7063],\n",
       "                      [ 0.2449,  1.3592, -0.4793, -0.6210],\n",
       "                      [-1.0623, -0.2272, -1.0072,  1.0367],\n",
       "                      [-1.1642, -0.6360, -1.9730,  0.7063],\n",
       "                      [ 0.2449,  1.3592, -0.4793, -0.6210],\n",
       "                      [-1.0623, -0.2272, -1.0072,  1.0367],\n",
       "                      [-1.1642, -0.6360, -1.9730,  0.7063],\n",
       "                      [ 0.2449,  1.3592, -0.4793, -0.6210],\n",
       "                      [-1.0623, -0.2272, -1.0072,  1.0367],\n",
       "                      [-1.1642, -0.6360, -1.9730,  0.7063],\n",
       "                      [ 0.2449,  1.3592, -0.4793, -0.6210],\n",
       "                      [-1.0623, -0.2272, -1.0072,  1.0367],\n",
       "                      [-1.1642, -0.6360, -1.9730,  0.7063],\n",
       "                      [ 0.2449,  1.3592, -0.4793, -0.6210],\n",
       "                      [-1.0623, -0.2272, -1.0072,  1.0367],\n",
       "                      [-1.1642, -0.6360, -1.9730,  0.7063],\n",
       "                      [ 0.2449,  1.3592, -0.4793, -0.6210]]),\n",
       "       ),\n",
       "    a: tensor([[ 0.5416, -0.1684, -0.6727],\n",
       "               [ 1.1070, -0.7641,  0.3552],\n",
       "               [ 0.5416, -0.1684, -0.6727],\n",
       "               [ 1.1070, -0.7641,  0.3552],\n",
       "               [ 0.5416, -0.1684, -0.6727],\n",
       "               [ 1.1070, -0.7641,  0.3552],\n",
       "               [ 0.5416, -0.1684, -0.6727],\n",
       "               [ 1.1070, -0.7641,  0.3552],\n",
       "               [ 0.5416, -0.1684, -0.6727],\n",
       "               [ 1.1070, -0.7641,  0.3552],\n",
       "               [ 0.5416, -0.1684, -0.6727],\n",
       "               [ 1.1070, -0.7641,  0.3552],\n",
       "               [ 0.5416, -0.1684, -0.6727],\n",
       "               [ 1.1070, -0.7641,  0.3552],\n",
       "               [ 0.5416, -0.1684, -0.6727],\n",
       "               [ 1.1070, -0.7641,  0.3552]]),\n",
       ")"
      ]
     },
     "execution_count": 27,
     "metadata": {},
     "output_type": "execute_result"
    }
   ],
   "source": [
    "Batch.cat(batches)"
   ]
  },
  {
   "cell_type": "code",
   "execution_count": 28,
   "id": "18dfb045",
   "metadata": {
    "execution": {
     "iopub.execute_input": "2023-02-27T07:39:12.484978Z",
     "iopub.status.busy": "2023-02-27T07:39:12.484651Z",
     "iopub.status.idle": "2023-02-27T07:39:28.135063Z",
     "shell.execute_reply": "2023-02-27T07:39:28.133914Z"
    }
   },
   "outputs": [
    {
     "name": "stdout",
     "output_type": "stream",
     "text": [
      "193 µs ± 1.32 µs per loop (mean ± std. dev. of 7 runs, 10,000 loops each)\n"
     ]
    }
   ],
   "source": [
    "%timeit Batch.cat(batches)"
   ]
  },
  {
   "cell_type": "code",
   "execution_count": 29,
   "id": "c6688e51",
   "metadata": {
    "execution": {
     "iopub.execute_input": "2023-02-27T07:39:28.139563Z",
     "iopub.status.busy": "2023-02-27T07:39:28.138498Z",
     "iopub.status.idle": "2023-02-27T07:39:34.060101Z",
     "shell.execute_reply": "2023-02-27T07:39:34.059108Z"
    }
   },
   "outputs": [
    {
     "name": "stdout",
     "output_type": "stream",
     "text": [
      "733 µs ± 40.6 µs per loop (mean ± std. dev. of 7 runs, 1,000 loops each)\n"
     ]
    }
   ],
   "source": [
    "batch = Batch({\n",
    "    'obs': torch.randn(8, 4, 84, 84),\n",
    "    'action': torch.randint(0, 6, size=(8, 1,)),\n",
    "    'reward': torch.rand(8, 1)}\n",
    ")\n",
    "\n",
    "%timeit list(Batch.split(batch, 1, shuffle=False, merge_last=True))"
   ]
  },
  {
   "cell_type": "code",
   "execution_count": null,
   "id": "2539fbd9",
   "metadata": {},
   "outputs": [],
   "source": []
  }
 ],
 "metadata": {
  "kernelspec": {
   "display_name": "Python 3 (ipykernel)",
   "language": "python",
   "name": "python3"
  },
  "language_info": {
   "codemirror_mode": {
    "name": "ipython",
    "version": 3
   },
   "file_extension": ".py",
   "mimetype": "text/x-python",
   "name": "python",
   "nbconvert_exporter": "python",
   "pygments_lexer": "ipython3",
   "version": "3.8.16"
  }
 },
 "nbformat": 4,
 "nbformat_minor": 5
}
