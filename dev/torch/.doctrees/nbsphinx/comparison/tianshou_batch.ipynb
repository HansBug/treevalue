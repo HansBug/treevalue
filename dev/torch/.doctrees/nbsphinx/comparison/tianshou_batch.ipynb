{
 "cells": [
  {
   "cell_type": "markdown",
   "id": "9d39d946",
   "metadata": {},
   "source": [
    "# Comparison Between TreeValue and Tianshou Batch"
   ]
  },
  {
   "cell_type": "markdown",
   "id": "3c6db2d4",
   "metadata": {},
   "source": [
    "In this section, we will take a look at the feature and performance of the [Tianshou Batch](https://github.com/thu-ml/tianshou) library, which is developed by Tsinghua Machine Learning Group."
   ]
  },
  {
   "cell_type": "markdown",
   "id": "069361b0",
   "metadata": {},
   "source": [
    "Before starting the comparison, let us define some thing."
   ]
  },
  {
   "cell_type": "code",
   "execution_count": 1,
   "id": "06fc8d26",
   "metadata": {
    "execution": {
     "iopub.execute_input": "2023-02-27T12:17:40.929331Z",
     "iopub.status.busy": "2023-02-27T12:17:40.929105Z",
     "iopub.status.idle": "2023-02-27T12:17:41.868314Z",
     "shell.execute_reply": "2023-02-27T12:17:41.867582Z"
    }
   },
   "outputs": [
    {
     "name": "stderr",
     "output_type": "stream",
     "text": [
      "/opt/hostedtoolcache/Python/3.8.16/x64/lib/python3.8/site-packages/tqdm/auto.py:22: TqdmWarning: IProgress not found. Please update jupyter and ipywidgets. See https://ipywidgets.readthedocs.io/en/stable/user_install.html\n",
      "  from .autonotebook import tqdm as notebook_tqdm\n"
     ]
    }
   ],
   "source": [
    "import torch \n",
    "\n",
    "_TREE_DATA_1 = {'a': 1, 'b': 2, 'x': {'c': 3, 'd': 4}}\n",
    "_TREE_DATA_2 = {\n",
    "    'a': torch.randn(2, 3), \n",
    "    'x': {\n",
    "        'c': torch.randn(3, 4)\n",
    "    },\n",
    "}\n",
    "_TREE_DATA_3 = {\n",
    "    'obs': torch.randn(4, 84, 84),\n",
    "    'action': torch.randint(0, 6, size=(1,)),\n",
    "    'reward': torch.rand(1),\n",
    "}"
   ]
  },
  {
   "cell_type": "markdown",
   "id": "83461b25",
   "metadata": {},
   "source": [
    "## Read and Write Operation"
   ]
  },
  {
   "cell_type": "markdown",
   "id": "067b3f73",
   "metadata": {},
   "source": [
    "Reading and writing are the two most common operations in the tree data structure based on the data model (TreeValue and Tianshou Batch both belong to this type), so this section will compare the reading and writing performance of these two libraries."
   ]
  },
  {
   "cell_type": "markdown",
   "id": "5d09a5b7",
   "metadata": {},
   "source": [
    "### TreeValue's Get and Set"
   ]
  },
  {
   "cell_type": "code",
   "execution_count": 2,
   "id": "9519c4bb",
   "metadata": {
    "execution": {
     "iopub.execute_input": "2023-02-27T12:17:41.871702Z",
     "iopub.status.busy": "2023-02-27T12:17:41.871309Z",
     "iopub.status.idle": "2023-02-27T12:17:42.155217Z",
     "shell.execute_reply": "2023-02-27T12:17:42.154455Z"
    }
   },
   "outputs": [],
   "source": [
    "from treevalue import FastTreeValue\n",
    "\n",
    "t = FastTreeValue(_TREE_DATA_2)"
   ]
  },
  {
   "cell_type": "code",
   "execution_count": 3,
   "id": "11c37677",
   "metadata": {
    "execution": {
     "iopub.execute_input": "2023-02-27T12:17:42.158670Z",
     "iopub.status.busy": "2023-02-27T12:17:42.158239Z",
     "iopub.status.idle": "2023-02-27T12:17:42.168765Z",
     "shell.execute_reply": "2023-02-27T12:17:42.168083Z"
    }
   },
   "outputs": [
    {
     "data": {
      "text/plain": [
       "<FastTreeValue 0x7f33bca59400>\n",
       "├── 'a' --> tensor([[ 0.1150,  1.1463, -0.1647],\n",
       "│                   [-0.6285, -0.8272, -0.6268]])\n",
       "└── 'x' --> <FastTreeValue 0x7f33bca59c70>\n",
       "    └── 'c' --> tensor([[ 1.5618,  1.9370, -0.3951,  0.9192],\n",
       "                        [-1.2633,  2.2905,  0.8027,  0.7669],\n",
       "                        [ 2.2391, -0.6602, -0.3649, -0.0025]])"
      ]
     },
     "execution_count": 3,
     "metadata": {},
     "output_type": "execute_result"
    }
   ],
   "source": [
    "t"
   ]
  },
  {
   "cell_type": "code",
   "execution_count": 4,
   "id": "fd70b0b9",
   "metadata": {
    "execution": {
     "iopub.execute_input": "2023-02-27T12:17:42.171580Z",
     "iopub.status.busy": "2023-02-27T12:17:42.171222Z",
     "iopub.status.idle": "2023-02-27T12:17:42.175970Z",
     "shell.execute_reply": "2023-02-27T12:17:42.175304Z"
    }
   },
   "outputs": [
    {
     "data": {
      "text/plain": [
       "tensor([[ 0.1150,  1.1463, -0.1647],\n",
       "        [-0.6285, -0.8272, -0.6268]])"
      ]
     },
     "execution_count": 4,
     "metadata": {},
     "output_type": "execute_result"
    }
   ],
   "source": [
    "t.a"
   ]
  },
  {
   "cell_type": "code",
   "execution_count": 5,
   "id": "c18197bd",
   "metadata": {
    "execution": {
     "iopub.execute_input": "2023-02-27T12:17:42.178511Z",
     "iopub.status.busy": "2023-02-27T12:17:42.178185Z",
     "iopub.status.idle": "2023-02-27T12:17:47.033207Z",
     "shell.execute_reply": "2023-02-27T12:17:47.032473Z"
    }
   },
   "outputs": [
    {
     "name": "stdout",
     "output_type": "stream",
     "text": [
      "59.3 ns ± 0.0136 ns per loop (mean ± std. dev. of 7 runs, 10,000,000 loops each)\n"
     ]
    }
   ],
   "source": [
    "%timeit t.a"
   ]
  },
  {
   "cell_type": "code",
   "execution_count": 6,
   "id": "bd52f867",
   "metadata": {
    "execution": {
     "iopub.execute_input": "2023-02-27T12:17:47.036558Z",
     "iopub.status.busy": "2023-02-27T12:17:47.035892Z",
     "iopub.status.idle": "2023-02-27T12:17:47.042678Z",
     "shell.execute_reply": "2023-02-27T12:17:47.042101Z"
    }
   },
   "outputs": [
    {
     "data": {
      "text/plain": [
       "<FastTreeValue 0x7f33bca59400>\n",
       "├── 'a' --> tensor([[-0.1088, -1.6247, -0.1649],\n",
       "│                   [-0.1775,  1.9818,  0.0354]])\n",
       "└── 'x' --> <FastTreeValue 0x7f33bca59c70>\n",
       "    └── 'c' --> tensor([[ 1.5618,  1.9370, -0.3951,  0.9192],\n",
       "                        [-1.2633,  2.2905,  0.8027,  0.7669],\n",
       "                        [ 2.2391, -0.6602, -0.3649, -0.0025]])"
      ]
     },
     "execution_count": 6,
     "metadata": {},
     "output_type": "execute_result"
    }
   ],
   "source": [
    "new_value = torch.randn(2, 3)\n",
    "t.a = new_value\n",
    "\n",
    "t"
   ]
  },
  {
   "cell_type": "code",
   "execution_count": 7,
   "id": "bbe04d1c",
   "metadata": {
    "execution": {
     "iopub.execute_input": "2023-02-27T12:17:47.045408Z",
     "iopub.status.busy": "2023-02-27T12:17:47.044890Z",
     "iopub.status.idle": "2023-02-27T12:17:52.072166Z",
     "shell.execute_reply": "2023-02-27T12:17:52.071332Z"
    }
   },
   "outputs": [
    {
     "name": "stdout",
     "output_type": "stream",
     "text": [
      "61.9 ns ± 0.0159 ns per loop (mean ± std. dev. of 7 runs, 10,000,000 loops each)\n"
     ]
    }
   ],
   "source": [
    "%timeit t.a = new_value"
   ]
  },
  {
   "cell_type": "markdown",
   "id": "48c49731",
   "metadata": {},
   "source": [
    "### Tianshou Batch's Get and Set"
   ]
  },
  {
   "cell_type": "code",
   "execution_count": 8,
   "id": "f1bb14c1",
   "metadata": {
    "execution": {
     "iopub.execute_input": "2023-02-27T12:17:52.075150Z",
     "iopub.status.busy": "2023-02-27T12:17:52.074756Z",
     "iopub.status.idle": "2023-02-27T12:17:52.422307Z",
     "shell.execute_reply": "2023-02-27T12:17:52.421518Z"
    }
   },
   "outputs": [],
   "source": [
    "from tianshou.data import Batch\n",
    "\n",
    "b = Batch(**_TREE_DATA_2)"
   ]
  },
  {
   "cell_type": "code",
   "execution_count": 9,
   "id": "cb0777c3",
   "metadata": {
    "execution": {
     "iopub.execute_input": "2023-02-27T12:17:52.425995Z",
     "iopub.status.busy": "2023-02-27T12:17:52.425396Z",
     "iopub.status.idle": "2023-02-27T12:17:52.431081Z",
     "shell.execute_reply": "2023-02-27T12:17:52.430454Z"
    }
   },
   "outputs": [
    {
     "data": {
      "text/plain": [
       "Batch(\n",
       "    a: tensor([[ 0.1150,  1.1463, -0.1647],\n",
       "               [-0.6285, -0.8272, -0.6268]]),\n",
       "    x: Batch(\n",
       "           c: tensor([[ 1.5618,  1.9370, -0.3951,  0.9192],\n",
       "                      [-1.2633,  2.2905,  0.8027,  0.7669],\n",
       "                      [ 2.2391, -0.6602, -0.3649, -0.0025]]),\n",
       "       ),\n",
       ")"
      ]
     },
     "execution_count": 9,
     "metadata": {},
     "output_type": "execute_result"
    }
   ],
   "source": [
    "b"
   ]
  },
  {
   "cell_type": "code",
   "execution_count": 10,
   "id": "43ef8ea3",
   "metadata": {
    "execution": {
     "iopub.execute_input": "2023-02-27T12:17:52.433741Z",
     "iopub.status.busy": "2023-02-27T12:17:52.433385Z",
     "iopub.status.idle": "2023-02-27T12:17:52.438195Z",
     "shell.execute_reply": "2023-02-27T12:17:52.437562Z"
    }
   },
   "outputs": [
    {
     "data": {
      "text/plain": [
       "tensor([[ 0.1150,  1.1463, -0.1647],\n",
       "        [-0.6285, -0.8272, -0.6268]])"
      ]
     },
     "execution_count": 10,
     "metadata": {},
     "output_type": "execute_result"
    }
   ],
   "source": [
    "b.a"
   ]
  },
  {
   "cell_type": "code",
   "execution_count": 11,
   "id": "b785ab72",
   "metadata": {
    "execution": {
     "iopub.execute_input": "2023-02-27T12:17:52.440520Z",
     "iopub.status.busy": "2023-02-27T12:17:52.440183Z",
     "iopub.status.idle": "2023-02-27T12:17:56.802874Z",
     "shell.execute_reply": "2023-02-27T12:17:56.802095Z"
    }
   },
   "outputs": [
    {
     "name": "stdout",
     "output_type": "stream",
     "text": [
      "53.7 ns ± 0.0337 ns per loop (mean ± std. dev. of 7 runs, 10,000,000 loops each)\n"
     ]
    }
   ],
   "source": [
    "%timeit b.a"
   ]
  },
  {
   "cell_type": "code",
   "execution_count": 12,
   "id": "ad54dc69",
   "metadata": {
    "execution": {
     "iopub.execute_input": "2023-02-27T12:17:56.806252Z",
     "iopub.status.busy": "2023-02-27T12:17:56.805566Z",
     "iopub.status.idle": "2023-02-27T12:17:56.812474Z",
     "shell.execute_reply": "2023-02-27T12:17:56.811843Z"
    }
   },
   "outputs": [
    {
     "data": {
      "text/plain": [
       "Batch(\n",
       "    a: tensor([[ 0.9286, -1.1807, -1.1510],\n",
       "               [ 0.1098,  1.8201, -0.0817]]),\n",
       "    x: Batch(\n",
       "           c: tensor([[ 1.5618,  1.9370, -0.3951,  0.9192],\n",
       "                      [-1.2633,  2.2905,  0.8027,  0.7669],\n",
       "                      [ 2.2391, -0.6602, -0.3649, -0.0025]]),\n",
       "       ),\n",
       ")"
      ]
     },
     "execution_count": 12,
     "metadata": {},
     "output_type": "execute_result"
    }
   ],
   "source": [
    "new_value = torch.randn(2, 3)\n",
    "b.a = new_value\n",
    "\n",
    "b"
   ]
  },
  {
   "cell_type": "code",
   "execution_count": 13,
   "id": "29b1d0bf",
   "metadata": {
    "execution": {
     "iopub.execute_input": "2023-02-27T12:17:56.815185Z",
     "iopub.status.busy": "2023-02-27T12:17:56.814815Z",
     "iopub.status.idle": "2023-02-27T12:18:00.754574Z",
     "shell.execute_reply": "2023-02-27T12:18:00.753708Z"
    }
   },
   "outputs": [
    {
     "name": "stdout",
     "output_type": "stream",
     "text": [
      "485 ns ± 0.124 ns per loop (mean ± std. dev. of 7 runs, 1,000,000 loops each)\n"
     ]
    }
   ],
   "source": [
    "%timeit b.a = new_value"
   ]
  },
  {
   "cell_type": "markdown",
   "id": "b61ad1d0",
   "metadata": {},
   "source": [
    "## Initialization"
   ]
  },
  {
   "cell_type": "markdown",
   "id": "d70f0d54",
   "metadata": {},
   "source": [
    "### TreeValue's Initialization"
   ]
  },
  {
   "cell_type": "code",
   "execution_count": 14,
   "id": "d32a679b",
   "metadata": {
    "execution": {
     "iopub.execute_input": "2023-02-27T12:18:00.759994Z",
     "iopub.status.busy": "2023-02-27T12:18:00.759400Z",
     "iopub.status.idle": "2023-02-27T12:18:07.451401Z",
     "shell.execute_reply": "2023-02-27T12:18:07.450677Z"
    }
   },
   "outputs": [
    {
     "name": "stdout",
     "output_type": "stream",
     "text": [
      "824 ns ± 0.108 ns per loop (mean ± std. dev. of 7 runs, 1,000,000 loops each)\n"
     ]
    }
   ],
   "source": [
    "%timeit FastTreeValue(_TREE_DATA_1)"
   ]
  },
  {
   "cell_type": "markdown",
   "id": "24f3707b",
   "metadata": {},
   "source": [
    "### Tianshou Batch's Initialization"
   ]
  },
  {
   "cell_type": "code",
   "execution_count": 15,
   "id": "ac3958df",
   "metadata": {
    "execution": {
     "iopub.execute_input": "2023-02-27T12:18:07.454064Z",
     "iopub.status.busy": "2023-02-27T12:18:07.453843Z",
     "iopub.status.idle": "2023-02-27T12:18:16.748206Z",
     "shell.execute_reply": "2023-02-27T12:18:16.747547Z"
    }
   },
   "outputs": [
    {
     "name": "stdout",
     "output_type": "stream",
     "text": [
      "11.4 µs ± 26.2 ns per loop (mean ± std. dev. of 7 runs, 100,000 loops each)\n"
     ]
    }
   ],
   "source": [
    "%timeit Batch(**_TREE_DATA_1)"
   ]
  },
  {
   "cell_type": "markdown",
   "id": "1ab82e2d",
   "metadata": {},
   "source": [
    "## Deep Copy Operation"
   ]
  },
  {
   "cell_type": "code",
   "execution_count": 16,
   "id": "210a9442",
   "metadata": {
    "execution": {
     "iopub.execute_input": "2023-02-27T12:18:16.751255Z",
     "iopub.status.busy": "2023-02-27T12:18:16.750883Z",
     "iopub.status.idle": "2023-02-27T12:18:16.754789Z",
     "shell.execute_reply": "2023-02-27T12:18:16.754193Z"
    }
   },
   "outputs": [],
   "source": [
    "import copy"
   ]
  },
  {
   "cell_type": "markdown",
   "id": "5a736274",
   "metadata": {},
   "source": [
    "### Deep Copy of TreeValue"
   ]
  },
  {
   "cell_type": "code",
   "execution_count": 17,
   "id": "f9bcadd6",
   "metadata": {
    "execution": {
     "iopub.execute_input": "2023-02-27T12:18:16.757425Z",
     "iopub.status.busy": "2023-02-27T12:18:16.757098Z",
     "iopub.status.idle": "2023-02-27T12:18:27.830009Z",
     "shell.execute_reply": "2023-02-27T12:18:27.829417Z"
    }
   },
   "outputs": [
    {
     "name": "stdout",
     "output_type": "stream",
     "text": [
      "136 µs ± 286 ns per loop (mean ± std. dev. of 7 runs, 10,000 loops each)\n"
     ]
    }
   ],
   "source": [
    "t3 = FastTreeValue(_TREE_DATA_3)\n",
    "%timeit copy.deepcopy(t3)"
   ]
  },
  {
   "cell_type": "markdown",
   "id": "bf8be7ea",
   "metadata": {},
   "source": [
    "### Deep Copy of Tianshou Batch"
   ]
  },
  {
   "cell_type": "code",
   "execution_count": 18,
   "id": "91998e6f",
   "metadata": {
    "execution": {
     "iopub.execute_input": "2023-02-27T12:18:27.833197Z",
     "iopub.status.busy": "2023-02-27T12:18:27.832812Z",
     "iopub.status.idle": "2023-02-27T12:18:38.940150Z",
     "shell.execute_reply": "2023-02-27T12:18:38.939582Z"
    }
   },
   "outputs": [
    {
     "name": "stdout",
     "output_type": "stream",
     "text": [
      "137 µs ± 452 ns per loop (mean ± std. dev. of 7 runs, 10,000 loops each)\n"
     ]
    }
   ],
   "source": [
    "b3 = Batch(**_TREE_DATA_3)\n",
    "%timeit copy.deepcopy(b3)"
   ]
  },
  {
   "cell_type": "markdown",
   "id": "223162fb",
   "metadata": {},
   "source": [
    "## Stack, Concat and Split Operation"
   ]
  },
  {
   "cell_type": "markdown",
   "id": "85fa4a73",
   "metadata": {},
   "source": [
    "### Performance of TreeValue"
   ]
  },
  {
   "cell_type": "code",
   "execution_count": 19,
   "id": "a0c2b697",
   "metadata": {
    "execution": {
     "iopub.execute_input": "2023-02-27T12:18:38.944128Z",
     "iopub.status.busy": "2023-02-27T12:18:38.943178Z",
     "iopub.status.idle": "2023-02-27T12:18:38.947422Z",
     "shell.execute_reply": "2023-02-27T12:18:38.946890Z"
    }
   },
   "outputs": [],
   "source": [
    "trees = [FastTreeValue(_TREE_DATA_2) for _ in range(8)]"
   ]
  },
  {
   "cell_type": "code",
   "execution_count": 20,
   "id": "017ea5a5",
   "metadata": {
    "execution": {
     "iopub.execute_input": "2023-02-27T12:18:38.950979Z",
     "iopub.status.busy": "2023-02-27T12:18:38.950057Z",
     "iopub.status.idle": "2023-02-27T12:18:38.958874Z",
     "shell.execute_reply": "2023-02-27T12:18:38.958269Z"
    }
   },
   "outputs": [
    {
     "data": {
      "text/plain": [
       "<FastTreeValue 0x7f3306d06d30>\n",
       "├── 'a' --> tensor([[[ 0.1150,  1.1463, -0.1647],\n",
       "│                    [-0.6285, -0.8272, -0.6268]],\n",
       "│           \n",
       "│                   [[ 0.1150,  1.1463, -0.1647],\n",
       "│                    [-0.6285, -0.8272, -0.6268]],\n",
       "│           \n",
       "│                   [[ 0.1150,  1.1463, -0.1647],\n",
       "│                    [-0.6285, -0.8272, -0.6268]],\n",
       "│           \n",
       "│                   [[ 0.1150,  1.1463, -0.1647],\n",
       "│                    [-0.6285, -0.8272, -0.6268]],\n",
       "│           \n",
       "│                   [[ 0.1150,  1.1463, -0.1647],\n",
       "│                    [-0.6285, -0.8272, -0.6268]],\n",
       "│           \n",
       "│                   [[ 0.1150,  1.1463, -0.1647],\n",
       "│                    [-0.6285, -0.8272, -0.6268]],\n",
       "│           \n",
       "│                   [[ 0.1150,  1.1463, -0.1647],\n",
       "│                    [-0.6285, -0.8272, -0.6268]],\n",
       "│           \n",
       "│                   [[ 0.1150,  1.1463, -0.1647],\n",
       "│                    [-0.6285, -0.8272, -0.6268]]])\n",
       "└── 'x' --> <FastTreeValue 0x7f3306d06c40>\n",
       "    └── 'c' --> tensor([[[ 1.5618,  1.9370, -0.3951,  0.9192],\n",
       "                         [-1.2633,  2.2905,  0.8027,  0.7669],\n",
       "                         [ 2.2391, -0.6602, -0.3649, -0.0025]],\n",
       "                \n",
       "                        [[ 1.5618,  1.9370, -0.3951,  0.9192],\n",
       "                         [-1.2633,  2.2905,  0.8027,  0.7669],\n",
       "                         [ 2.2391, -0.6602, -0.3649, -0.0025]],\n",
       "                \n",
       "                        [[ 1.5618,  1.9370, -0.3951,  0.9192],\n",
       "                         [-1.2633,  2.2905,  0.8027,  0.7669],\n",
       "                         [ 2.2391, -0.6602, -0.3649, -0.0025]],\n",
       "                \n",
       "                        [[ 1.5618,  1.9370, -0.3951,  0.9192],\n",
       "                         [-1.2633,  2.2905,  0.8027,  0.7669],\n",
       "                         [ 2.2391, -0.6602, -0.3649, -0.0025]],\n",
       "                \n",
       "                        [[ 1.5618,  1.9370, -0.3951,  0.9192],\n",
       "                         [-1.2633,  2.2905,  0.8027,  0.7669],\n",
       "                         [ 2.2391, -0.6602, -0.3649, -0.0025]],\n",
       "                \n",
       "                        [[ 1.5618,  1.9370, -0.3951,  0.9192],\n",
       "                         [-1.2633,  2.2905,  0.8027,  0.7669],\n",
       "                         [ 2.2391, -0.6602, -0.3649, -0.0025]],\n",
       "                \n",
       "                        [[ 1.5618,  1.9370, -0.3951,  0.9192],\n",
       "                         [-1.2633,  2.2905,  0.8027,  0.7669],\n",
       "                         [ 2.2391, -0.6602, -0.3649, -0.0025]],\n",
       "                \n",
       "                        [[ 1.5618,  1.9370, -0.3951,  0.9192],\n",
       "                         [-1.2633,  2.2905,  0.8027,  0.7669],\n",
       "                         [ 2.2391, -0.6602, -0.3649, -0.0025]]])"
      ]
     },
     "execution_count": 20,
     "metadata": {},
     "output_type": "execute_result"
    }
   ],
   "source": [
    "t_stack = FastTreeValue.func(subside=True)(torch.stack)\n",
    "\n",
    "t_stack(trees)"
   ]
  },
  {
   "cell_type": "code",
   "execution_count": 21,
   "id": "f8b3f415",
   "metadata": {
    "execution": {
     "iopub.execute_input": "2023-02-27T12:18:38.961593Z",
     "iopub.status.busy": "2023-02-27T12:18:38.961245Z",
     "iopub.status.idle": "2023-02-27T12:18:41.536761Z",
     "shell.execute_reply": "2023-02-27T12:18:41.536010Z"
    }
   },
   "outputs": [
    {
     "name": "stdout",
     "output_type": "stream",
     "text": [
      "31.7 µs ± 97 ns per loop (mean ± std. dev. of 7 runs, 10,000 loops each)\n"
     ]
    }
   ],
   "source": [
    "%timeit t_stack(trees)"
   ]
  },
  {
   "cell_type": "code",
   "execution_count": 22,
   "id": "94b56771",
   "metadata": {
    "execution": {
     "iopub.execute_input": "2023-02-27T12:18:41.539782Z",
     "iopub.status.busy": "2023-02-27T12:18:41.539393Z",
     "iopub.status.idle": "2023-02-27T12:18:41.547130Z",
     "shell.execute_reply": "2023-02-27T12:18:41.546545Z"
    }
   },
   "outputs": [
    {
     "data": {
      "text/plain": [
       "<FastTreeValue 0x7f330dd043a0>\n",
       "├── 'a' --> tensor([[ 0.1150,  1.1463, -0.1647],\n",
       "│                   [-0.6285, -0.8272, -0.6268],\n",
       "│                   [ 0.1150,  1.1463, -0.1647],\n",
       "│                   [-0.6285, -0.8272, -0.6268],\n",
       "│                   [ 0.1150,  1.1463, -0.1647],\n",
       "│                   [-0.6285, -0.8272, -0.6268],\n",
       "│                   [ 0.1150,  1.1463, -0.1647],\n",
       "│                   [-0.6285, -0.8272, -0.6268],\n",
       "│                   [ 0.1150,  1.1463, -0.1647],\n",
       "│                   [-0.6285, -0.8272, -0.6268],\n",
       "│                   [ 0.1150,  1.1463, -0.1647],\n",
       "│                   [-0.6285, -0.8272, -0.6268],\n",
       "│                   [ 0.1150,  1.1463, -0.1647],\n",
       "│                   [-0.6285, -0.8272, -0.6268],\n",
       "│                   [ 0.1150,  1.1463, -0.1647],\n",
       "│                   [-0.6285, -0.8272, -0.6268]])\n",
       "└── 'x' --> <FastTreeValue 0x7f330738db20>\n",
       "    └── 'c' --> tensor([[ 1.5618,  1.9370, -0.3951,  0.9192],\n",
       "                        [-1.2633,  2.2905,  0.8027,  0.7669],\n",
       "                        [ 2.2391, -0.6602, -0.3649, -0.0025],\n",
       "                        [ 1.5618,  1.9370, -0.3951,  0.9192],\n",
       "                        [-1.2633,  2.2905,  0.8027,  0.7669],\n",
       "                        [ 2.2391, -0.6602, -0.3649, -0.0025],\n",
       "                        [ 1.5618,  1.9370, -0.3951,  0.9192],\n",
       "                        [-1.2633,  2.2905,  0.8027,  0.7669],\n",
       "                        [ 2.2391, -0.6602, -0.3649, -0.0025],\n",
       "                        [ 1.5618,  1.9370, -0.3951,  0.9192],\n",
       "                        [-1.2633,  2.2905,  0.8027,  0.7669],\n",
       "                        [ 2.2391, -0.6602, -0.3649, -0.0025],\n",
       "                        [ 1.5618,  1.9370, -0.3951,  0.9192],\n",
       "                        [-1.2633,  2.2905,  0.8027,  0.7669],\n",
       "                        [ 2.2391, -0.6602, -0.3649, -0.0025],\n",
       "                        [ 1.5618,  1.9370, -0.3951,  0.9192],\n",
       "                        [-1.2633,  2.2905,  0.8027,  0.7669],\n",
       "                        [ 2.2391, -0.6602, -0.3649, -0.0025],\n",
       "                        [ 1.5618,  1.9370, -0.3951,  0.9192],\n",
       "                        [-1.2633,  2.2905,  0.8027,  0.7669],\n",
       "                        [ 2.2391, -0.6602, -0.3649, -0.0025],\n",
       "                        [ 1.5618,  1.9370, -0.3951,  0.9192],\n",
       "                        [-1.2633,  2.2905,  0.8027,  0.7669],\n",
       "                        [ 2.2391, -0.6602, -0.3649, -0.0025]])"
      ]
     },
     "execution_count": 22,
     "metadata": {},
     "output_type": "execute_result"
    }
   ],
   "source": [
    "t_cat = FastTreeValue.func(subside=True)(torch.cat)\n",
    "\n",
    "t_cat(trees)"
   ]
  },
  {
   "cell_type": "code",
   "execution_count": 23,
   "id": "5e9c06a6",
   "metadata": {
    "execution": {
     "iopub.execute_input": "2023-02-27T12:18:41.549812Z",
     "iopub.status.busy": "2023-02-27T12:18:41.549478Z",
     "iopub.status.idle": "2023-02-27T12:18:43.957225Z",
     "shell.execute_reply": "2023-02-27T12:18:43.956468Z"
    }
   },
   "outputs": [
    {
     "name": "stdout",
     "output_type": "stream",
     "text": [
      "29.6 µs ± 67.5 ns per loop (mean ± std. dev. of 7 runs, 10,000 loops each)\n"
     ]
    }
   ],
   "source": [
    "%timeit t_cat(trees)"
   ]
  },
  {
   "cell_type": "code",
   "execution_count": 24,
   "id": "a3ab5c8f",
   "metadata": {
    "execution": {
     "iopub.execute_input": "2023-02-27T12:18:43.960264Z",
     "iopub.status.busy": "2023-02-27T12:18:43.959738Z",
     "iopub.status.idle": "2023-02-27T12:18:48.901288Z",
     "shell.execute_reply": "2023-02-27T12:18:48.900576Z"
    }
   },
   "outputs": [
    {
     "name": "stdout",
     "output_type": "stream",
     "text": [
      "60.7 µs ± 68.3 ns per loop (mean ± std. dev. of 7 runs, 10,000 loops each)\n"
     ]
    }
   ],
   "source": [
    "t_split = FastTreeValue.func(rise=True)(torch.split)\n",
    "tree = FastTreeValue({\n",
    "    'obs': torch.randn(8, 4, 84, 84),\n",
    "    'action': torch.randint(0, 6, size=(8, 1,)),\n",
    "    'reward': torch.rand(8, 1),\n",
    "})\n",
    "\n",
    "%timeit t_split(tree, 1)"
   ]
  },
  {
   "cell_type": "markdown",
   "id": "31c3ec0b",
   "metadata": {},
   "source": [
    "### Performance of Tianshou Batch"
   ]
  },
  {
   "cell_type": "code",
   "execution_count": 25,
   "id": "9ead828a",
   "metadata": {
    "execution": {
     "iopub.execute_input": "2023-02-27T12:18:48.904196Z",
     "iopub.status.busy": "2023-02-27T12:18:48.903662Z",
     "iopub.status.idle": "2023-02-27T12:18:48.911424Z",
     "shell.execute_reply": "2023-02-27T12:18:48.910829Z"
    }
   },
   "outputs": [
    {
     "data": {
      "text/plain": [
       "Batch(\n",
       "    x: Batch(\n",
       "           c: tensor([[[ 1.5618,  1.9370, -0.3951,  0.9192],\n",
       "                       [-1.2633,  2.2905,  0.8027,  0.7669],\n",
       "                       [ 2.2391, -0.6602, -0.3649, -0.0025]],\n",
       "              \n",
       "                      [[ 1.5618,  1.9370, -0.3951,  0.9192],\n",
       "                       [-1.2633,  2.2905,  0.8027,  0.7669],\n",
       "                       [ 2.2391, -0.6602, -0.3649, -0.0025]],\n",
       "              \n",
       "                      [[ 1.5618,  1.9370, -0.3951,  0.9192],\n",
       "                       [-1.2633,  2.2905,  0.8027,  0.7669],\n",
       "                       [ 2.2391, -0.6602, -0.3649, -0.0025]],\n",
       "              \n",
       "                      [[ 1.5618,  1.9370, -0.3951,  0.9192],\n",
       "                       [-1.2633,  2.2905,  0.8027,  0.7669],\n",
       "                       [ 2.2391, -0.6602, -0.3649, -0.0025]],\n",
       "              \n",
       "                      [[ 1.5618,  1.9370, -0.3951,  0.9192],\n",
       "                       [-1.2633,  2.2905,  0.8027,  0.7669],\n",
       "                       [ 2.2391, -0.6602, -0.3649, -0.0025]],\n",
       "              \n",
       "                      [[ 1.5618,  1.9370, -0.3951,  0.9192],\n",
       "                       [-1.2633,  2.2905,  0.8027,  0.7669],\n",
       "                       [ 2.2391, -0.6602, -0.3649, -0.0025]],\n",
       "              \n",
       "                      [[ 1.5618,  1.9370, -0.3951,  0.9192],\n",
       "                       [-1.2633,  2.2905,  0.8027,  0.7669],\n",
       "                       [ 2.2391, -0.6602, -0.3649, -0.0025]],\n",
       "              \n",
       "                      [[ 1.5618,  1.9370, -0.3951,  0.9192],\n",
       "                       [-1.2633,  2.2905,  0.8027,  0.7669],\n",
       "                       [ 2.2391, -0.6602, -0.3649, -0.0025]]]),\n",
       "       ),\n",
       "    a: tensor([[[ 0.1150,  1.1463, -0.1647],\n",
       "                [-0.6285, -0.8272, -0.6268]],\n",
       "       \n",
       "               [[ 0.1150,  1.1463, -0.1647],\n",
       "                [-0.6285, -0.8272, -0.6268]],\n",
       "       \n",
       "               [[ 0.1150,  1.1463, -0.1647],\n",
       "                [-0.6285, -0.8272, -0.6268]],\n",
       "       \n",
       "               [[ 0.1150,  1.1463, -0.1647],\n",
       "                [-0.6285, -0.8272, -0.6268]],\n",
       "       \n",
       "               [[ 0.1150,  1.1463, -0.1647],\n",
       "                [-0.6285, -0.8272, -0.6268]],\n",
       "       \n",
       "               [[ 0.1150,  1.1463, -0.1647],\n",
       "                [-0.6285, -0.8272, -0.6268]],\n",
       "       \n",
       "               [[ 0.1150,  1.1463, -0.1647],\n",
       "                [-0.6285, -0.8272, -0.6268]],\n",
       "       \n",
       "               [[ 0.1150,  1.1463, -0.1647],\n",
       "                [-0.6285, -0.8272, -0.6268]]]),\n",
       ")"
      ]
     },
     "execution_count": 25,
     "metadata": {},
     "output_type": "execute_result"
    }
   ],
   "source": [
    "batches = [Batch(**_TREE_DATA_2) for _ in range(8)]\n",
    "\n",
    "Batch.stack(batches)"
   ]
  },
  {
   "cell_type": "code",
   "execution_count": 26,
   "id": "ec9037a3",
   "metadata": {
    "execution": {
     "iopub.execute_input": "2023-02-27T12:18:48.913822Z",
     "iopub.status.busy": "2023-02-27T12:18:48.913499Z",
     "iopub.status.idle": "2023-02-27T12:18:55.189753Z",
     "shell.execute_reply": "2023-02-27T12:18:55.188995Z"
    }
   },
   "outputs": [
    {
     "name": "stdout",
     "output_type": "stream",
     "text": [
      "77.3 µs ± 85.5 ns per loop (mean ± std. dev. of 7 runs, 10,000 loops each)\n"
     ]
    }
   ],
   "source": [
    "%timeit Batch.stack(batches)"
   ]
  },
  {
   "cell_type": "code",
   "execution_count": 27,
   "id": "cb8ab77e",
   "metadata": {
    "execution": {
     "iopub.execute_input": "2023-02-27T12:18:55.192892Z",
     "iopub.status.busy": "2023-02-27T12:18:55.192493Z",
     "iopub.status.idle": "2023-02-27T12:18:55.199938Z",
     "shell.execute_reply": "2023-02-27T12:18:55.199321Z"
    }
   },
   "outputs": [
    {
     "data": {
      "text/plain": [
       "Batch(\n",
       "    x: Batch(\n",
       "           c: tensor([[ 1.5618,  1.9370, -0.3951,  0.9192],\n",
       "                      [-1.2633,  2.2905,  0.8027,  0.7669],\n",
       "                      [ 2.2391, -0.6602, -0.3649, -0.0025],\n",
       "                      [ 1.5618,  1.9370, -0.3951,  0.9192],\n",
       "                      [-1.2633,  2.2905,  0.8027,  0.7669],\n",
       "                      [ 2.2391, -0.6602, -0.3649, -0.0025],\n",
       "                      [ 1.5618,  1.9370, -0.3951,  0.9192],\n",
       "                      [-1.2633,  2.2905,  0.8027,  0.7669],\n",
       "                      [ 2.2391, -0.6602, -0.3649, -0.0025],\n",
       "                      [ 1.5618,  1.9370, -0.3951,  0.9192],\n",
       "                      [-1.2633,  2.2905,  0.8027,  0.7669],\n",
       "                      [ 2.2391, -0.6602, -0.3649, -0.0025],\n",
       "                      [ 1.5618,  1.9370, -0.3951,  0.9192],\n",
       "                      [-1.2633,  2.2905,  0.8027,  0.7669],\n",
       "                      [ 2.2391, -0.6602, -0.3649, -0.0025],\n",
       "                      [ 1.5618,  1.9370, -0.3951,  0.9192],\n",
       "                      [-1.2633,  2.2905,  0.8027,  0.7669],\n",
       "                      [ 2.2391, -0.6602, -0.3649, -0.0025],\n",
       "                      [ 1.5618,  1.9370, -0.3951,  0.9192],\n",
       "                      [-1.2633,  2.2905,  0.8027,  0.7669],\n",
       "                      [ 2.2391, -0.6602, -0.3649, -0.0025],\n",
       "                      [ 1.5618,  1.9370, -0.3951,  0.9192],\n",
       "                      [-1.2633,  2.2905,  0.8027,  0.7669],\n",
       "                      [ 2.2391, -0.6602, -0.3649, -0.0025]]),\n",
       "       ),\n",
       "    a: tensor([[ 0.1150,  1.1463, -0.1647],\n",
       "               [-0.6285, -0.8272, -0.6268],\n",
       "               [ 0.1150,  1.1463, -0.1647],\n",
       "               [-0.6285, -0.8272, -0.6268],\n",
       "               [ 0.1150,  1.1463, -0.1647],\n",
       "               [-0.6285, -0.8272, -0.6268],\n",
       "               [ 0.1150,  1.1463, -0.1647],\n",
       "               [-0.6285, -0.8272, -0.6268],\n",
       "               [ 0.1150,  1.1463, -0.1647],\n",
       "               [-0.6285, -0.8272, -0.6268],\n",
       "               [ 0.1150,  1.1463, -0.1647],\n",
       "               [-0.6285, -0.8272, -0.6268],\n",
       "               [ 0.1150,  1.1463, -0.1647],\n",
       "               [-0.6285, -0.8272, -0.6268],\n",
       "               [ 0.1150,  1.1463, -0.1647],\n",
       "               [-0.6285, -0.8272, -0.6268]]),\n",
       ")"
      ]
     },
     "execution_count": 27,
     "metadata": {},
     "output_type": "execute_result"
    }
   ],
   "source": [
    "Batch.cat(batches)"
   ]
  },
  {
   "cell_type": "code",
   "execution_count": 28,
   "id": "18dfb045",
   "metadata": {
    "execution": {
     "iopub.execute_input": "2023-02-27T12:18:55.202607Z",
     "iopub.status.busy": "2023-02-27T12:18:55.202267Z",
     "iopub.status.idle": "2023-02-27T12:19:06.719373Z",
     "shell.execute_reply": "2023-02-27T12:19:06.718709Z"
    }
   },
   "outputs": [
    {
     "name": "stdout",
     "output_type": "stream",
     "text": [
      "142 µs ± 171 ns per loop (mean ± std. dev. of 7 runs, 10,000 loops each)\n"
     ]
    }
   ],
   "source": [
    "%timeit Batch.cat(batches)"
   ]
  },
  {
   "cell_type": "code",
   "execution_count": 29,
   "id": "c6688e51",
   "metadata": {
    "execution": {
     "iopub.execute_input": "2023-02-27T12:19:06.722381Z",
     "iopub.status.busy": "2023-02-27T12:19:06.722016Z",
     "iopub.status.idle": "2023-02-27T12:19:09.239763Z",
     "shell.execute_reply": "2023-02-27T12:19:09.239150Z"
    }
   },
   "outputs": [
    {
     "name": "stdout",
     "output_type": "stream",
     "text": [
      "309 µs ± 1.47 µs per loop (mean ± std. dev. of 7 runs, 1,000 loops each)\n"
     ]
    }
   ],
   "source": [
    "batch = Batch({\n",
    "    'obs': torch.randn(8, 4, 84, 84),\n",
    "    'action': torch.randint(0, 6, size=(8, 1,)),\n",
    "    'reward': torch.rand(8, 1)}\n",
    ")\n",
    "\n",
    "%timeit list(Batch.split(batch, 1, shuffle=False, merge_last=True))"
   ]
  },
  {
   "cell_type": "code",
   "execution_count": null,
   "id": "2539fbd9",
   "metadata": {},
   "outputs": [],
   "source": []
  }
 ],
 "metadata": {
  "kernelspec": {
   "display_name": "Python 3 (ipykernel)",
   "language": "python",
   "name": "python3"
  },
  "language_info": {
   "codemirror_mode": {
    "name": "ipython",
    "version": 3
   },
   "file_extension": ".py",
   "mimetype": "text/x-python",
   "name": "python",
   "nbconvert_exporter": "python",
   "pygments_lexer": "ipython3",
   "version": "3.8.16"
  }
 },
 "nbformat": 4,
 "nbformat_minor": 5
}
