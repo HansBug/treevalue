{
 "cells": [
  {
   "cell_type": "markdown",
   "id": "9d39d946",
   "metadata": {},
   "source": [
    "# Comparison Between TreeValue and Tianshou Batch"
   ]
  },
  {
   "cell_type": "markdown",
   "id": "3c6db2d4",
   "metadata": {},
   "source": [
    "In this section, we will take a look at the feature and performance of the [Tianshou Batch](https://github.com/thu-ml/tianshou) library, which is developed by Tsinghua Machine Learning Group."
   ]
  },
  {
   "cell_type": "markdown",
   "id": "069361b0",
   "metadata": {},
   "source": [
    "Before starting the comparison, let us define some thing."
   ]
  },
  {
   "cell_type": "code",
   "execution_count": 1,
   "id": "06fc8d26",
   "metadata": {
    "execution": {
     "iopub.execute_input": "2023-02-27T11:44:14.973832Z",
     "iopub.status.busy": "2023-02-27T11:44:14.973565Z",
     "iopub.status.idle": "2023-02-27T11:44:15.974925Z",
     "shell.execute_reply": "2023-02-27T11:44:15.974109Z"
    }
   },
   "outputs": [
    {
     "name": "stderr",
     "output_type": "stream",
     "text": [
      "/opt/hostedtoolcache/Python/3.8.16/x64/lib/python3.8/site-packages/tqdm/auto.py:22: TqdmWarning: IProgress not found. Please update jupyter and ipywidgets. See https://ipywidgets.readthedocs.io/en/stable/user_install.html\n",
      "  from .autonotebook import tqdm as notebook_tqdm\n"
     ]
    }
   ],
   "source": [
    "import torch \n",
    "\n",
    "_TREE_DATA_1 = {'a': 1, 'b': 2, 'x': {'c': 3, 'd': 4}}\n",
    "_TREE_DATA_2 = {\n",
    "    'a': torch.randn(2, 3), \n",
    "    'x': {\n",
    "        'c': torch.randn(3, 4)\n",
    "    },\n",
    "}\n",
    "_TREE_DATA_3 = {\n",
    "    'obs': torch.randn(4, 84, 84),\n",
    "    'action': torch.randint(0, 6, size=(1,)),\n",
    "    'reward': torch.rand(1),\n",
    "}"
   ]
  },
  {
   "cell_type": "markdown",
   "id": "83461b25",
   "metadata": {},
   "source": [
    "## Read and Write Operation"
   ]
  },
  {
   "cell_type": "markdown",
   "id": "067b3f73",
   "metadata": {},
   "source": [
    "Reading and writing are the two most common operations in the tree data structure based on the data model (TreeValue and Tianshou Batch both belong to this type), so this section will compare the reading and writing performance of these two libraries."
   ]
  },
  {
   "cell_type": "markdown",
   "id": "5d09a5b7",
   "metadata": {},
   "source": [
    "### TreeValue's Get and Set"
   ]
  },
  {
   "cell_type": "code",
   "execution_count": 2,
   "id": "9519c4bb",
   "metadata": {
    "execution": {
     "iopub.execute_input": "2023-02-27T11:44:15.978812Z",
     "iopub.status.busy": "2023-02-27T11:44:15.978308Z",
     "iopub.status.idle": "2023-02-27T11:44:16.278038Z",
     "shell.execute_reply": "2023-02-27T11:44:16.277252Z"
    }
   },
   "outputs": [],
   "source": [
    "from treevalue import FastTreeValue\n",
    "\n",
    "t = FastTreeValue(_TREE_DATA_2)"
   ]
  },
  {
   "cell_type": "code",
   "execution_count": 3,
   "id": "11c37677",
   "metadata": {
    "execution": {
     "iopub.execute_input": "2023-02-27T11:44:16.281901Z",
     "iopub.status.busy": "2023-02-27T11:44:16.281411Z",
     "iopub.status.idle": "2023-02-27T11:44:16.292481Z",
     "shell.execute_reply": "2023-02-27T11:44:16.291826Z"
    }
   },
   "outputs": [
    {
     "data": {
      "text/plain": [
       "<FastTreeValue 0x7fb22489ffa0>\n",
       "├── 'a' --> tensor([[-0.0320, -1.0748,  0.0411],\n",
       "│                   [-0.3698, -0.3416,  0.1445]])\n",
       "└── 'x' --> <FastTreeValue 0x7fb22489ff70>\n",
       "    └── 'c' --> tensor([[ 0.7673,  0.1922, -0.5657, -0.4330],\n",
       "                        [-0.2190,  0.0874, -0.0133, -1.0593],\n",
       "                        [ 0.9928, -0.0634,  0.9964,  2.4555]])"
      ]
     },
     "execution_count": 3,
     "metadata": {},
     "output_type": "execute_result"
    }
   ],
   "source": [
    "t"
   ]
  },
  {
   "cell_type": "code",
   "execution_count": 4,
   "id": "fd70b0b9",
   "metadata": {
    "execution": {
     "iopub.execute_input": "2023-02-27T11:44:16.295673Z",
     "iopub.status.busy": "2023-02-27T11:44:16.295084Z",
     "iopub.status.idle": "2023-02-27T11:44:16.301750Z",
     "shell.execute_reply": "2023-02-27T11:44:16.301124Z"
    }
   },
   "outputs": [
    {
     "data": {
      "text/plain": [
       "tensor([[-0.0320, -1.0748,  0.0411],\n",
       "        [-0.3698, -0.3416,  0.1445]])"
      ]
     },
     "execution_count": 4,
     "metadata": {},
     "output_type": "execute_result"
    }
   ],
   "source": [
    "t.a"
   ]
  },
  {
   "cell_type": "code",
   "execution_count": 5,
   "id": "c18197bd",
   "metadata": {
    "execution": {
     "iopub.execute_input": "2023-02-27T11:44:16.305072Z",
     "iopub.status.busy": "2023-02-27T11:44:16.304468Z",
     "iopub.status.idle": "2023-02-27T11:44:21.511882Z",
     "shell.execute_reply": "2023-02-27T11:44:21.510973Z"
    }
   },
   "outputs": [
    {
     "name": "stdout",
     "output_type": "stream",
     "text": [
      "64.1 ns ± 0.0374 ns per loop (mean ± std. dev. of 7 runs, 10,000,000 loops each)\n"
     ]
    }
   ],
   "source": [
    "%timeit t.a"
   ]
  },
  {
   "cell_type": "code",
   "execution_count": 6,
   "id": "bd52f867",
   "metadata": {
    "execution": {
     "iopub.execute_input": "2023-02-27T11:44:21.515495Z",
     "iopub.status.busy": "2023-02-27T11:44:21.515082Z",
     "iopub.status.idle": "2023-02-27T11:44:21.523053Z",
     "shell.execute_reply": "2023-02-27T11:44:21.522424Z"
    }
   },
   "outputs": [
    {
     "data": {
      "text/plain": [
       "<FastTreeValue 0x7fb22489ffa0>\n",
       "├── 'a' --> tensor([[ 0.5364, -0.1742, -0.1876],\n",
       "│                   [ 0.9007, -0.9891, -1.0720]])\n",
       "└── 'x' --> <FastTreeValue 0x7fb22489ff70>\n",
       "    └── 'c' --> tensor([[ 0.7673,  0.1922, -0.5657, -0.4330],\n",
       "                        [-0.2190,  0.0874, -0.0133, -1.0593],\n",
       "                        [ 0.9928, -0.0634,  0.9964,  2.4555]])"
      ]
     },
     "execution_count": 6,
     "metadata": {},
     "output_type": "execute_result"
    }
   ],
   "source": [
    "new_value = torch.randn(2, 3)\n",
    "t.a = new_value\n",
    "\n",
    "t"
   ]
  },
  {
   "cell_type": "code",
   "execution_count": 7,
   "id": "bbe04d1c",
   "metadata": {
    "execution": {
     "iopub.execute_input": "2023-02-27T11:44:21.526000Z",
     "iopub.status.busy": "2023-02-27T11:44:21.525623Z",
     "iopub.status.idle": "2023-02-27T11:44:27.111410Z",
     "shell.execute_reply": "2023-02-27T11:44:27.110524Z"
    }
   },
   "outputs": [
    {
     "name": "stdout",
     "output_type": "stream",
     "text": [
      "68.8 ns ± 0.0898 ns per loop (mean ± std. dev. of 7 runs, 10,000,000 loops each)\n"
     ]
    }
   ],
   "source": [
    "%timeit t.a = new_value"
   ]
  },
  {
   "cell_type": "markdown",
   "id": "48c49731",
   "metadata": {},
   "source": [
    "### Tianshou Batch's Get and Set"
   ]
  },
  {
   "cell_type": "code",
   "execution_count": 8,
   "id": "f1bb14c1",
   "metadata": {
    "execution": {
     "iopub.execute_input": "2023-02-27T11:44:27.114844Z",
     "iopub.status.busy": "2023-02-27T11:44:27.114249Z",
     "iopub.status.idle": "2023-02-27T11:44:27.485164Z",
     "shell.execute_reply": "2023-02-27T11:44:27.484349Z"
    }
   },
   "outputs": [],
   "source": [
    "from tianshou.data import Batch\n",
    "\n",
    "b = Batch(**_TREE_DATA_2)"
   ]
  },
  {
   "cell_type": "code",
   "execution_count": 9,
   "id": "cb0777c3",
   "metadata": {
    "execution": {
     "iopub.execute_input": "2023-02-27T11:44:27.489201Z",
     "iopub.status.busy": "2023-02-27T11:44:27.488599Z",
     "iopub.status.idle": "2023-02-27T11:44:27.495522Z",
     "shell.execute_reply": "2023-02-27T11:44:27.494884Z"
    }
   },
   "outputs": [
    {
     "data": {
      "text/plain": [
       "Batch(\n",
       "    a: tensor([[-0.0320, -1.0748,  0.0411],\n",
       "               [-0.3698, -0.3416,  0.1445]]),\n",
       "    x: Batch(\n",
       "           c: tensor([[ 0.7673,  0.1922, -0.5657, -0.4330],\n",
       "                      [-0.2190,  0.0874, -0.0133, -1.0593],\n",
       "                      [ 0.9928, -0.0634,  0.9964,  2.4555]]),\n",
       "       ),\n",
       ")"
      ]
     },
     "execution_count": 9,
     "metadata": {},
     "output_type": "execute_result"
    }
   ],
   "source": [
    "b"
   ]
  },
  {
   "cell_type": "code",
   "execution_count": 10,
   "id": "43ef8ea3",
   "metadata": {
    "execution": {
     "iopub.execute_input": "2023-02-27T11:44:27.498573Z",
     "iopub.status.busy": "2023-02-27T11:44:27.498208Z",
     "iopub.status.idle": "2023-02-27T11:44:27.504072Z",
     "shell.execute_reply": "2023-02-27T11:44:27.503458Z"
    }
   },
   "outputs": [
    {
     "data": {
      "text/plain": [
       "tensor([[-0.0320, -1.0748,  0.0411],\n",
       "        [-0.3698, -0.3416,  0.1445]])"
      ]
     },
     "execution_count": 10,
     "metadata": {},
     "output_type": "execute_result"
    }
   ],
   "source": [
    "b.a"
   ]
  },
  {
   "cell_type": "code",
   "execution_count": 11,
   "id": "b785ab72",
   "metadata": {
    "execution": {
     "iopub.execute_input": "2023-02-27T11:44:27.506618Z",
     "iopub.status.busy": "2023-02-27T11:44:27.506244Z",
     "iopub.status.idle": "2023-02-27T11:44:32.304161Z",
     "shell.execute_reply": "2023-02-27T11:44:32.303257Z"
    }
   },
   "outputs": [
    {
     "name": "stdout",
     "output_type": "stream",
     "text": [
      "59 ns ± 0.0411 ns per loop (mean ± std. dev. of 7 runs, 10,000,000 loops each)\n"
     ]
    }
   ],
   "source": [
    "%timeit b.a"
   ]
  },
  {
   "cell_type": "code",
   "execution_count": 12,
   "id": "ad54dc69",
   "metadata": {
    "execution": {
     "iopub.execute_input": "2023-02-27T11:44:32.307537Z",
     "iopub.status.busy": "2023-02-27T11:44:32.307045Z",
     "iopub.status.idle": "2023-02-27T11:44:32.313770Z",
     "shell.execute_reply": "2023-02-27T11:44:32.313091Z"
    }
   },
   "outputs": [
    {
     "data": {
      "text/plain": [
       "Batch(\n",
       "    a: tensor([[-0.4324, -1.4320,  0.1500],\n",
       "               [-0.4003, -1.3175, -0.4529]]),\n",
       "    x: Batch(\n",
       "           c: tensor([[ 0.7673,  0.1922, -0.5657, -0.4330],\n",
       "                      [-0.2190,  0.0874, -0.0133, -1.0593],\n",
       "                      [ 0.9928, -0.0634,  0.9964,  2.4555]]),\n",
       "       ),\n",
       ")"
      ]
     },
     "execution_count": 12,
     "metadata": {},
     "output_type": "execute_result"
    }
   ],
   "source": [
    "new_value = torch.randn(2, 3)\n",
    "b.a = new_value\n",
    "\n",
    "b"
   ]
  },
  {
   "cell_type": "code",
   "execution_count": 13,
   "id": "29b1d0bf",
   "metadata": {
    "execution": {
     "iopub.execute_input": "2023-02-27T11:44:32.316763Z",
     "iopub.status.busy": "2023-02-27T11:44:32.316387Z",
     "iopub.status.idle": "2023-02-27T11:44:36.413738Z",
     "shell.execute_reply": "2023-02-27T11:44:36.412936Z"
    }
   },
   "outputs": [
    {
     "name": "stdout",
     "output_type": "stream",
     "text": [
      "504 ns ± 0.252 ns per loop (mean ± std. dev. of 7 runs, 1,000,000 loops each)\n"
     ]
    }
   ],
   "source": [
    "%timeit b.a = new_value"
   ]
  },
  {
   "cell_type": "markdown",
   "id": "b61ad1d0",
   "metadata": {},
   "source": [
    "## Initialization"
   ]
  },
  {
   "cell_type": "markdown",
   "id": "d70f0d54",
   "metadata": {},
   "source": [
    "### TreeValue's Initialization"
   ]
  },
  {
   "cell_type": "code",
   "execution_count": 14,
   "id": "d32a679b",
   "metadata": {
    "execution": {
     "iopub.execute_input": "2023-02-27T11:44:36.417365Z",
     "iopub.status.busy": "2023-02-27T11:44:36.416974Z",
     "iopub.status.idle": "2023-02-27T11:44:43.060905Z",
     "shell.execute_reply": "2023-02-27T11:44:43.060065Z"
    }
   },
   "outputs": [
    {
     "name": "stdout",
     "output_type": "stream",
     "text": [
      "815 ns ± 3.38 ns per loop (mean ± std. dev. of 7 runs, 1,000,000 loops each)\n"
     ]
    }
   ],
   "source": [
    "%timeit FastTreeValue(_TREE_DATA_1)"
   ]
  },
  {
   "cell_type": "markdown",
   "id": "24f3707b",
   "metadata": {},
   "source": [
    "### Tianshou Batch's Initialization"
   ]
  },
  {
   "cell_type": "code",
   "execution_count": 15,
   "id": "ac3958df",
   "metadata": {
    "execution": {
     "iopub.execute_input": "2023-02-27T11:44:43.064603Z",
     "iopub.status.busy": "2023-02-27T11:44:43.064100Z",
     "iopub.status.idle": "2023-02-27T11:44:51.752622Z",
     "shell.execute_reply": "2023-02-27T11:44:51.751727Z"
    }
   },
   "outputs": [
    {
     "name": "stdout",
     "output_type": "stream",
     "text": [
      "10.7 µs ± 26.2 ns per loop (mean ± std. dev. of 7 runs, 100,000 loops each)\n"
     ]
    }
   ],
   "source": [
    "%timeit Batch(**_TREE_DATA_1)"
   ]
  },
  {
   "cell_type": "markdown",
   "id": "1ab82e2d",
   "metadata": {},
   "source": [
    "## Deep Copy Operation"
   ]
  },
  {
   "cell_type": "code",
   "execution_count": 16,
   "id": "210a9442",
   "metadata": {
    "execution": {
     "iopub.execute_input": "2023-02-27T11:44:51.756219Z",
     "iopub.status.busy": "2023-02-27T11:44:51.755742Z",
     "iopub.status.idle": "2023-02-27T11:44:51.759782Z",
     "shell.execute_reply": "2023-02-27T11:44:51.759159Z"
    }
   },
   "outputs": [],
   "source": [
    "import copy"
   ]
  },
  {
   "cell_type": "markdown",
   "id": "5a736274",
   "metadata": {},
   "source": [
    "### Deep Copy of TreeValue"
   ]
  },
  {
   "cell_type": "code",
   "execution_count": 17,
   "id": "f9bcadd6",
   "metadata": {
    "execution": {
     "iopub.execute_input": "2023-02-27T11:44:51.762774Z",
     "iopub.status.busy": "2023-02-27T11:44:51.762366Z",
     "iopub.status.idle": "2023-02-27T11:45:03.363402Z",
     "shell.execute_reply": "2023-02-27T11:45:03.362739Z"
    }
   },
   "outputs": [
    {
     "name": "stdout",
     "output_type": "stream",
     "text": [
      "143 µs ± 364 ns per loop (mean ± std. dev. of 7 runs, 10,000 loops each)\n"
     ]
    }
   ],
   "source": [
    "t3 = FastTreeValue(_TREE_DATA_3)\n",
    "%timeit copy.deepcopy(t3)"
   ]
  },
  {
   "cell_type": "markdown",
   "id": "bf8be7ea",
   "metadata": {},
   "source": [
    "### Deep Copy of Tianshou Batch"
   ]
  },
  {
   "cell_type": "code",
   "execution_count": 18,
   "id": "91998e6f",
   "metadata": {
    "execution": {
     "iopub.execute_input": "2023-02-27T11:45:03.366679Z",
     "iopub.status.busy": "2023-02-27T11:45:03.366412Z",
     "iopub.status.idle": "2023-02-27T11:45:14.965420Z",
     "shell.execute_reply": "2023-02-27T11:45:14.964561Z"
    }
   },
   "outputs": [
    {
     "name": "stdout",
     "output_type": "stream",
     "text": [
      "143 µs ± 498 ns per loop (mean ± std. dev. of 7 runs, 10,000 loops each)\n"
     ]
    }
   ],
   "source": [
    "b3 = Batch(**_TREE_DATA_3)\n",
    "%timeit copy.deepcopy(b3)"
   ]
  },
  {
   "cell_type": "markdown",
   "id": "223162fb",
   "metadata": {},
   "source": [
    "## Stack, Concat and Split Operation"
   ]
  },
  {
   "cell_type": "markdown",
   "id": "85fa4a73",
   "metadata": {},
   "source": [
    "### Performance of TreeValue"
   ]
  },
  {
   "cell_type": "code",
   "execution_count": 19,
   "id": "a0c2b697",
   "metadata": {
    "execution": {
     "iopub.execute_input": "2023-02-27T11:45:14.969191Z",
     "iopub.status.busy": "2023-02-27T11:45:14.968906Z",
     "iopub.status.idle": "2023-02-27T11:45:14.973392Z",
     "shell.execute_reply": "2023-02-27T11:45:14.972727Z"
    }
   },
   "outputs": [],
   "source": [
    "trees = [FastTreeValue(_TREE_DATA_2) for _ in range(8)]"
   ]
  },
  {
   "cell_type": "code",
   "execution_count": 20,
   "id": "017ea5a5",
   "metadata": {
    "execution": {
     "iopub.execute_input": "2023-02-27T11:45:14.976355Z",
     "iopub.status.busy": "2023-02-27T11:45:14.975965Z",
     "iopub.status.idle": "2023-02-27T11:45:14.984505Z",
     "shell.execute_reply": "2023-02-27T11:45:14.983859Z"
    }
   },
   "outputs": [
    {
     "data": {
      "text/plain": [
       "<FastTreeValue 0x7fb22490c550>\n",
       "├── 'a' --> tensor([[[-0.0320, -1.0748,  0.0411],\n",
       "│                    [-0.3698, -0.3416,  0.1445]],\n",
       "│           \n",
       "│                   [[-0.0320, -1.0748,  0.0411],\n",
       "│                    [-0.3698, -0.3416,  0.1445]],\n",
       "│           \n",
       "│                   [[-0.0320, -1.0748,  0.0411],\n",
       "│                    [-0.3698, -0.3416,  0.1445]],\n",
       "│           \n",
       "│                   [[-0.0320, -1.0748,  0.0411],\n",
       "│                    [-0.3698, -0.3416,  0.1445]],\n",
       "│           \n",
       "│                   [[-0.0320, -1.0748,  0.0411],\n",
       "│                    [-0.3698, -0.3416,  0.1445]],\n",
       "│           \n",
       "│                   [[-0.0320, -1.0748,  0.0411],\n",
       "│                    [-0.3698, -0.3416,  0.1445]],\n",
       "│           \n",
       "│                   [[-0.0320, -1.0748,  0.0411],\n",
       "│                    [-0.3698, -0.3416,  0.1445]],\n",
       "│           \n",
       "│                   [[-0.0320, -1.0748,  0.0411],\n",
       "│                    [-0.3698, -0.3416,  0.1445]]])\n",
       "└── 'x' --> <FastTreeValue 0x7fb170132b20>\n",
       "    └── 'c' --> tensor([[[ 0.7673,  0.1922, -0.5657, -0.4330],\n",
       "                         [-0.2190,  0.0874, -0.0133, -1.0593],\n",
       "                         [ 0.9928, -0.0634,  0.9964,  2.4555]],\n",
       "                \n",
       "                        [[ 0.7673,  0.1922, -0.5657, -0.4330],\n",
       "                         [-0.2190,  0.0874, -0.0133, -1.0593],\n",
       "                         [ 0.9928, -0.0634,  0.9964,  2.4555]],\n",
       "                \n",
       "                        [[ 0.7673,  0.1922, -0.5657, -0.4330],\n",
       "                         [-0.2190,  0.0874, -0.0133, -1.0593],\n",
       "                         [ 0.9928, -0.0634,  0.9964,  2.4555]],\n",
       "                \n",
       "                        [[ 0.7673,  0.1922, -0.5657, -0.4330],\n",
       "                         [-0.2190,  0.0874, -0.0133, -1.0593],\n",
       "                         [ 0.9928, -0.0634,  0.9964,  2.4555]],\n",
       "                \n",
       "                        [[ 0.7673,  0.1922, -0.5657, -0.4330],\n",
       "                         [-0.2190,  0.0874, -0.0133, -1.0593],\n",
       "                         [ 0.9928, -0.0634,  0.9964,  2.4555]],\n",
       "                \n",
       "                        [[ 0.7673,  0.1922, -0.5657, -0.4330],\n",
       "                         [-0.2190,  0.0874, -0.0133, -1.0593],\n",
       "                         [ 0.9928, -0.0634,  0.9964,  2.4555]],\n",
       "                \n",
       "                        [[ 0.7673,  0.1922, -0.5657, -0.4330],\n",
       "                         [-0.2190,  0.0874, -0.0133, -1.0593],\n",
       "                         [ 0.9928, -0.0634,  0.9964,  2.4555]],\n",
       "                \n",
       "                        [[ 0.7673,  0.1922, -0.5657, -0.4330],\n",
       "                         [-0.2190,  0.0874, -0.0133, -1.0593],\n",
       "                         [ 0.9928, -0.0634,  0.9964,  2.4555]]])"
      ]
     },
     "execution_count": 20,
     "metadata": {},
     "output_type": "execute_result"
    }
   ],
   "source": [
    "t_stack = FastTreeValue.func(subside=True)(torch.stack)\n",
    "\n",
    "t_stack(trees)"
   ]
  },
  {
   "cell_type": "code",
   "execution_count": 21,
   "id": "f8b3f415",
   "metadata": {
    "execution": {
     "iopub.execute_input": "2023-02-27T11:45:14.987382Z",
     "iopub.status.busy": "2023-02-27T11:45:14.987023Z",
     "iopub.status.idle": "2023-02-27T11:45:17.609776Z",
     "shell.execute_reply": "2023-02-27T11:45:17.608938Z"
    }
   },
   "outputs": [
    {
     "name": "stdout",
     "output_type": "stream",
     "text": [
      "32.3 µs ± 139 ns per loop (mean ± std. dev. of 7 runs, 10,000 loops each)\n"
     ]
    }
   ],
   "source": [
    "%timeit t_stack(trees)"
   ]
  },
  {
   "cell_type": "code",
   "execution_count": 22,
   "id": "94b56771",
   "metadata": {
    "execution": {
     "iopub.execute_input": "2023-02-27T11:45:17.613520Z",
     "iopub.status.busy": "2023-02-27T11:45:17.613123Z",
     "iopub.status.idle": "2023-02-27T11:45:17.621600Z",
     "shell.execute_reply": "2023-02-27T11:45:17.620962Z"
    }
   },
   "outputs": [
    {
     "data": {
      "text/plain": [
       "<FastTreeValue 0x7fb22490c100>\n",
       "├── 'a' --> tensor([[-0.0320, -1.0748,  0.0411],\n",
       "│                   [-0.3698, -0.3416,  0.1445],\n",
       "│                   [-0.0320, -1.0748,  0.0411],\n",
       "│                   [-0.3698, -0.3416,  0.1445],\n",
       "│                   [-0.0320, -1.0748,  0.0411],\n",
       "│                   [-0.3698, -0.3416,  0.1445],\n",
       "│                   [-0.0320, -1.0748,  0.0411],\n",
       "│                   [-0.3698, -0.3416,  0.1445],\n",
       "│                   [-0.0320, -1.0748,  0.0411],\n",
       "│                   [-0.3698, -0.3416,  0.1445],\n",
       "│                   [-0.0320, -1.0748,  0.0411],\n",
       "│                   [-0.3698, -0.3416,  0.1445],\n",
       "│                   [-0.0320, -1.0748,  0.0411],\n",
       "│                   [-0.3698, -0.3416,  0.1445],\n",
       "│                   [-0.0320, -1.0748,  0.0411],\n",
       "│                   [-0.3698, -0.3416,  0.1445]])\n",
       "└── 'x' --> <FastTreeValue 0x7fb22490ce50>\n",
       "    └── 'c' --> tensor([[ 0.7673,  0.1922, -0.5657, -0.4330],\n",
       "                        [-0.2190,  0.0874, -0.0133, -1.0593],\n",
       "                        [ 0.9928, -0.0634,  0.9964,  2.4555],\n",
       "                        [ 0.7673,  0.1922, -0.5657, -0.4330],\n",
       "                        [-0.2190,  0.0874, -0.0133, -1.0593],\n",
       "                        [ 0.9928, -0.0634,  0.9964,  2.4555],\n",
       "                        [ 0.7673,  0.1922, -0.5657, -0.4330],\n",
       "                        [-0.2190,  0.0874, -0.0133, -1.0593],\n",
       "                        [ 0.9928, -0.0634,  0.9964,  2.4555],\n",
       "                        [ 0.7673,  0.1922, -0.5657, -0.4330],\n",
       "                        [-0.2190,  0.0874, -0.0133, -1.0593],\n",
       "                        [ 0.9928, -0.0634,  0.9964,  2.4555],\n",
       "                        [ 0.7673,  0.1922, -0.5657, -0.4330],\n",
       "                        [-0.2190,  0.0874, -0.0133, -1.0593],\n",
       "                        [ 0.9928, -0.0634,  0.9964,  2.4555],\n",
       "                        [ 0.7673,  0.1922, -0.5657, -0.4330],\n",
       "                        [-0.2190,  0.0874, -0.0133, -1.0593],\n",
       "                        [ 0.9928, -0.0634,  0.9964,  2.4555],\n",
       "                        [ 0.7673,  0.1922, -0.5657, -0.4330],\n",
       "                        [-0.2190,  0.0874, -0.0133, -1.0593],\n",
       "                        [ 0.9928, -0.0634,  0.9964,  2.4555],\n",
       "                        [ 0.7673,  0.1922, -0.5657, -0.4330],\n",
       "                        [-0.2190,  0.0874, -0.0133, -1.0593],\n",
       "                        [ 0.9928, -0.0634,  0.9964,  2.4555]])"
      ]
     },
     "execution_count": 22,
     "metadata": {},
     "output_type": "execute_result"
    }
   ],
   "source": [
    "t_cat = FastTreeValue.func(subside=True)(torch.cat)\n",
    "\n",
    "t_cat(trees)"
   ]
  },
  {
   "cell_type": "code",
   "execution_count": 23,
   "id": "5e9c06a6",
   "metadata": {
    "execution": {
     "iopub.execute_input": "2023-02-27T11:45:17.624435Z",
     "iopub.status.busy": "2023-02-27T11:45:17.624088Z",
     "iopub.status.idle": "2023-02-27T11:45:20.077357Z",
     "shell.execute_reply": "2023-02-27T11:45:20.076103Z"
    }
   },
   "outputs": [
    {
     "name": "stdout",
     "output_type": "stream",
     "text": [
      "30.1 µs ± 36.6 ns per loop (mean ± std. dev. of 7 runs, 10,000 loops each)\n"
     ]
    }
   ],
   "source": [
    "%timeit t_cat(trees)"
   ]
  },
  {
   "cell_type": "code",
   "execution_count": 24,
   "id": "a3ab5c8f",
   "metadata": {
    "execution": {
     "iopub.execute_input": "2023-02-27T11:45:20.081265Z",
     "iopub.status.busy": "2023-02-27T11:45:20.080612Z",
     "iopub.status.idle": "2023-02-27T11:45:24.587649Z",
     "shell.execute_reply": "2023-02-27T11:45:24.586770Z"
    }
   },
   "outputs": [
    {
     "name": "stdout",
     "output_type": "stream",
     "text": [
      "55.4 µs ± 68.8 ns per loop (mean ± std. dev. of 7 runs, 10,000 loops each)\n"
     ]
    }
   ],
   "source": [
    "t_split = FastTreeValue.func(rise=True)(torch.split)\n",
    "tree = FastTreeValue({\n",
    "    'obs': torch.randn(8, 4, 84, 84),\n",
    "    'action': torch.randint(0, 6, size=(8, 1,)),\n",
    "    'reward': torch.rand(8, 1),\n",
    "})\n",
    "\n",
    "%timeit t_split(tree, 1)"
   ]
  },
  {
   "cell_type": "markdown",
   "id": "31c3ec0b",
   "metadata": {},
   "source": [
    "### Performance of Tianshou Batch"
   ]
  },
  {
   "cell_type": "code",
   "execution_count": 25,
   "id": "9ead828a",
   "metadata": {
    "execution": {
     "iopub.execute_input": "2023-02-27T11:45:24.591344Z",
     "iopub.status.busy": "2023-02-27T11:45:24.590931Z",
     "iopub.status.idle": "2023-02-27T11:45:24.600749Z",
     "shell.execute_reply": "2023-02-27T11:45:24.600073Z"
    }
   },
   "outputs": [
    {
     "data": {
      "text/plain": [
       "Batch(\n",
       "    x: Batch(\n",
       "           c: tensor([[[ 0.7673,  0.1922, -0.5657, -0.4330],\n",
       "                       [-0.2190,  0.0874, -0.0133, -1.0593],\n",
       "                       [ 0.9928, -0.0634,  0.9964,  2.4555]],\n",
       "              \n",
       "                      [[ 0.7673,  0.1922, -0.5657, -0.4330],\n",
       "                       [-0.2190,  0.0874, -0.0133, -1.0593],\n",
       "                       [ 0.9928, -0.0634,  0.9964,  2.4555]],\n",
       "              \n",
       "                      [[ 0.7673,  0.1922, -0.5657, -0.4330],\n",
       "                       [-0.2190,  0.0874, -0.0133, -1.0593],\n",
       "                       [ 0.9928, -0.0634,  0.9964,  2.4555]],\n",
       "              \n",
       "                      [[ 0.7673,  0.1922, -0.5657, -0.4330],\n",
       "                       [-0.2190,  0.0874, -0.0133, -1.0593],\n",
       "                       [ 0.9928, -0.0634,  0.9964,  2.4555]],\n",
       "              \n",
       "                      [[ 0.7673,  0.1922, -0.5657, -0.4330],\n",
       "                       [-0.2190,  0.0874, -0.0133, -1.0593],\n",
       "                       [ 0.9928, -0.0634,  0.9964,  2.4555]],\n",
       "              \n",
       "                      [[ 0.7673,  0.1922, -0.5657, -0.4330],\n",
       "                       [-0.2190,  0.0874, -0.0133, -1.0593],\n",
       "                       [ 0.9928, -0.0634,  0.9964,  2.4555]],\n",
       "              \n",
       "                      [[ 0.7673,  0.1922, -0.5657, -0.4330],\n",
       "                       [-0.2190,  0.0874, -0.0133, -1.0593],\n",
       "                       [ 0.9928, -0.0634,  0.9964,  2.4555]],\n",
       "              \n",
       "                      [[ 0.7673,  0.1922, -0.5657, -0.4330],\n",
       "                       [-0.2190,  0.0874, -0.0133, -1.0593],\n",
       "                       [ 0.9928, -0.0634,  0.9964,  2.4555]]]),\n",
       "       ),\n",
       "    a: tensor([[[-0.0320, -1.0748,  0.0411],\n",
       "                [-0.3698, -0.3416,  0.1445]],\n",
       "       \n",
       "               [[-0.0320, -1.0748,  0.0411],\n",
       "                [-0.3698, -0.3416,  0.1445]],\n",
       "       \n",
       "               [[-0.0320, -1.0748,  0.0411],\n",
       "                [-0.3698, -0.3416,  0.1445]],\n",
       "       \n",
       "               [[-0.0320, -1.0748,  0.0411],\n",
       "                [-0.3698, -0.3416,  0.1445]],\n",
       "       \n",
       "               [[-0.0320, -1.0748,  0.0411],\n",
       "                [-0.3698, -0.3416,  0.1445]],\n",
       "       \n",
       "               [[-0.0320, -1.0748,  0.0411],\n",
       "                [-0.3698, -0.3416,  0.1445]],\n",
       "       \n",
       "               [[-0.0320, -1.0748,  0.0411],\n",
       "                [-0.3698, -0.3416,  0.1445]],\n",
       "       \n",
       "               [[-0.0320, -1.0748,  0.0411],\n",
       "                [-0.3698, -0.3416,  0.1445]]]),\n",
       ")"
      ]
     },
     "execution_count": 25,
     "metadata": {},
     "output_type": "execute_result"
    }
   ],
   "source": [
    "batches = [Batch(**_TREE_DATA_2) for _ in range(8)]\n",
    "\n",
    "Batch.stack(batches)"
   ]
  },
  {
   "cell_type": "code",
   "execution_count": 26,
   "id": "ec9037a3",
   "metadata": {
    "execution": {
     "iopub.execute_input": "2023-02-27T11:45:24.603723Z",
     "iopub.status.busy": "2023-02-27T11:45:24.603189Z",
     "iopub.status.idle": "2023-02-27T11:45:30.970955Z",
     "shell.execute_reply": "2023-02-27T11:45:30.970009Z"
    }
   },
   "outputs": [
    {
     "name": "stdout",
     "output_type": "stream",
     "text": [
      "78.3 µs ± 202 ns per loop (mean ± std. dev. of 7 runs, 10,000 loops each)\n"
     ]
    }
   ],
   "source": [
    "%timeit Batch.stack(batches)"
   ]
  },
  {
   "cell_type": "code",
   "execution_count": 27,
   "id": "cb8ab77e",
   "metadata": {
    "execution": {
     "iopub.execute_input": "2023-02-27T11:45:30.974569Z",
     "iopub.status.busy": "2023-02-27T11:45:30.974060Z",
     "iopub.status.idle": "2023-02-27T11:45:30.982298Z",
     "shell.execute_reply": "2023-02-27T11:45:30.981650Z"
    }
   },
   "outputs": [
    {
     "data": {
      "text/plain": [
       "Batch(\n",
       "    x: Batch(\n",
       "           c: tensor([[ 0.7673,  0.1922, -0.5657, -0.4330],\n",
       "                      [-0.2190,  0.0874, -0.0133, -1.0593],\n",
       "                      [ 0.9928, -0.0634,  0.9964,  2.4555],\n",
       "                      [ 0.7673,  0.1922, -0.5657, -0.4330],\n",
       "                      [-0.2190,  0.0874, -0.0133, -1.0593],\n",
       "                      [ 0.9928, -0.0634,  0.9964,  2.4555],\n",
       "                      [ 0.7673,  0.1922, -0.5657, -0.4330],\n",
       "                      [-0.2190,  0.0874, -0.0133, -1.0593],\n",
       "                      [ 0.9928, -0.0634,  0.9964,  2.4555],\n",
       "                      [ 0.7673,  0.1922, -0.5657, -0.4330],\n",
       "                      [-0.2190,  0.0874, -0.0133, -1.0593],\n",
       "                      [ 0.9928, -0.0634,  0.9964,  2.4555],\n",
       "                      [ 0.7673,  0.1922, -0.5657, -0.4330],\n",
       "                      [-0.2190,  0.0874, -0.0133, -1.0593],\n",
       "                      [ 0.9928, -0.0634,  0.9964,  2.4555],\n",
       "                      [ 0.7673,  0.1922, -0.5657, -0.4330],\n",
       "                      [-0.2190,  0.0874, -0.0133, -1.0593],\n",
       "                      [ 0.9928, -0.0634,  0.9964,  2.4555],\n",
       "                      [ 0.7673,  0.1922, -0.5657, -0.4330],\n",
       "                      [-0.2190,  0.0874, -0.0133, -1.0593],\n",
       "                      [ 0.9928, -0.0634,  0.9964,  2.4555],\n",
       "                      [ 0.7673,  0.1922, -0.5657, -0.4330],\n",
       "                      [-0.2190,  0.0874, -0.0133, -1.0593],\n",
       "                      [ 0.9928, -0.0634,  0.9964,  2.4555]]),\n",
       "       ),\n",
       "    a: tensor([[-0.0320, -1.0748,  0.0411],\n",
       "               [-0.3698, -0.3416,  0.1445],\n",
       "               [-0.0320, -1.0748,  0.0411],\n",
       "               [-0.3698, -0.3416,  0.1445],\n",
       "               [-0.0320, -1.0748,  0.0411],\n",
       "               [-0.3698, -0.3416,  0.1445],\n",
       "               [-0.0320, -1.0748,  0.0411],\n",
       "               [-0.3698, -0.3416,  0.1445],\n",
       "               [-0.0320, -1.0748,  0.0411],\n",
       "               [-0.3698, -0.3416,  0.1445],\n",
       "               [-0.0320, -1.0748,  0.0411],\n",
       "               [-0.3698, -0.3416,  0.1445],\n",
       "               [-0.0320, -1.0748,  0.0411],\n",
       "               [-0.3698, -0.3416,  0.1445],\n",
       "               [-0.0320, -1.0748,  0.0411],\n",
       "               [-0.3698, -0.3416,  0.1445]]),\n",
       ")"
      ]
     },
     "execution_count": 27,
     "metadata": {},
     "output_type": "execute_result"
    }
   ],
   "source": [
    "Batch.cat(batches)"
   ]
  },
  {
   "cell_type": "code",
   "execution_count": 28,
   "id": "18dfb045",
   "metadata": {
    "execution": {
     "iopub.execute_input": "2023-02-27T11:45:30.985341Z",
     "iopub.status.busy": "2023-02-27T11:45:30.984792Z",
     "iopub.status.idle": "2023-02-27T11:45:42.589232Z",
     "shell.execute_reply": "2023-02-27T11:45:42.588358Z"
    }
   },
   "outputs": [
    {
     "name": "stdout",
     "output_type": "stream",
     "text": [
      "143 µs ± 141 ns per loop (mean ± std. dev. of 7 runs, 10,000 loops each)\n"
     ]
    }
   ],
   "source": [
    "%timeit Batch.cat(batches)"
   ]
  },
  {
   "cell_type": "code",
   "execution_count": 29,
   "id": "c6688e51",
   "metadata": {
    "execution": {
     "iopub.execute_input": "2023-02-27T11:45:42.593132Z",
     "iopub.status.busy": "2023-02-27T11:45:42.592540Z",
     "iopub.status.idle": "2023-02-27T11:45:45.242584Z",
     "shell.execute_reply": "2023-02-27T11:45:45.241922Z"
    }
   },
   "outputs": [
    {
     "name": "stdout",
     "output_type": "stream",
     "text": [
      "325 µs ± 2.88 µs per loop (mean ± std. dev. of 7 runs, 1,000 loops each)\n"
     ]
    }
   ],
   "source": [
    "batch = Batch({\n",
    "    'obs': torch.randn(8, 4, 84, 84),\n",
    "    'action': torch.randint(0, 6, size=(8, 1,)),\n",
    "    'reward': torch.rand(8, 1)}\n",
    ")\n",
    "\n",
    "%timeit list(Batch.split(batch, 1, shuffle=False, merge_last=True))"
   ]
  },
  {
   "cell_type": "code",
   "execution_count": null,
   "id": "2539fbd9",
   "metadata": {},
   "outputs": [],
   "source": []
  }
 ],
 "metadata": {
  "kernelspec": {
   "display_name": "Python 3 (ipykernel)",
   "language": "python",
   "name": "python3"
  },
  "language_info": {
   "codemirror_mode": {
    "name": "ipython",
    "version": 3
   },
   "file_extension": ".py",
   "mimetype": "text/x-python",
   "name": "python",
   "nbconvert_exporter": "python",
   "pygments_lexer": "ipython3",
   "version": "3.8.16"
  }
 },
 "nbformat": 4,
 "nbformat_minor": 5
}
