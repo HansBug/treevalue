{
 "cells": [
  {
   "cell_type": "markdown",
   "id": "9d39d946",
   "metadata": {},
   "source": [
    "# Comparison Between TreeValue and Tianshou Batch"
   ]
  },
  {
   "cell_type": "markdown",
   "id": "3c6db2d4",
   "metadata": {},
   "source": [
    "In this section, we will take a look at the feature and performance of the [Tianshou Batch](https://github.com/thu-ml/tianshou) library, which is developed by Tsinghua Machine Learning Group."
   ]
  },
  {
   "cell_type": "markdown",
   "id": "069361b0",
   "metadata": {},
   "source": [
    "Before starting the comparison, let us define some thing."
   ]
  },
  {
   "cell_type": "code",
   "execution_count": 1,
   "id": "06fc8d26",
   "metadata": {
    "execution": {
     "iopub.execute_input": "2023-02-27T10:06:38.838994Z",
     "iopub.status.busy": "2023-02-27T10:06:38.838368Z",
     "iopub.status.idle": "2023-02-27T10:06:39.738596Z",
     "shell.execute_reply": "2023-02-27T10:06:39.737944Z"
    }
   },
   "outputs": [
    {
     "name": "stderr",
     "output_type": "stream",
     "text": [
      "/opt/hostedtoolcache/Python/3.8.16/x64/lib/python3.8/site-packages/tqdm/auto.py:22: TqdmWarning: IProgress not found. Please update jupyter and ipywidgets. See https://ipywidgets.readthedocs.io/en/stable/user_install.html\n",
      "  from .autonotebook import tqdm as notebook_tqdm\n"
     ]
    }
   ],
   "source": [
    "import torch \n",
    "\n",
    "_TREE_DATA_1 = {'a': 1, 'b': 2, 'x': {'c': 3, 'd': 4}}\n",
    "_TREE_DATA_2 = {\n",
    "    'a': torch.randn(2, 3), \n",
    "    'x': {\n",
    "        'c': torch.randn(3, 4)\n",
    "    },\n",
    "}\n",
    "_TREE_DATA_3 = {\n",
    "    'obs': torch.randn(4, 84, 84),\n",
    "    'action': torch.randint(0, 6, size=(1,)),\n",
    "    'reward': torch.rand(1),\n",
    "}"
   ]
  },
  {
   "cell_type": "markdown",
   "id": "83461b25",
   "metadata": {},
   "source": [
    "## Read and Write Operation"
   ]
  },
  {
   "cell_type": "markdown",
   "id": "067b3f73",
   "metadata": {},
   "source": [
    "Reading and writing are the two most common operations in the tree data structure based on the data model (TreeValue and Tianshou Batch both belong to this type), so this section will compare the reading and writing performance of these two libraries."
   ]
  },
  {
   "cell_type": "markdown",
   "id": "5d09a5b7",
   "metadata": {},
   "source": [
    "### TreeValue's Get and Set"
   ]
  },
  {
   "cell_type": "code",
   "execution_count": 2,
   "id": "9519c4bb",
   "metadata": {
    "execution": {
     "iopub.execute_input": "2023-02-27T10:06:39.741787Z",
     "iopub.status.busy": "2023-02-27T10:06:39.741224Z",
     "iopub.status.idle": "2023-02-27T10:06:40.019625Z",
     "shell.execute_reply": "2023-02-27T10:06:40.018954Z"
    }
   },
   "outputs": [],
   "source": [
    "from treevalue import FastTreeValue\n",
    "\n",
    "t = FastTreeValue(_TREE_DATA_2)"
   ]
  },
  {
   "cell_type": "code",
   "execution_count": 3,
   "id": "11c37677",
   "metadata": {
    "execution": {
     "iopub.execute_input": "2023-02-27T10:06:40.022821Z",
     "iopub.status.busy": "2023-02-27T10:06:40.022225Z",
     "iopub.status.idle": "2023-02-27T10:06:40.031746Z",
     "shell.execute_reply": "2023-02-27T10:06:40.031170Z"
    }
   },
   "outputs": [
    {
     "data": {
      "text/plain": [
       "<FastTreeValue 0x7fef3059b2b0>\n",
       "├── 'a' --> tensor([[ 0.8213,  0.6211, -0.8185],\n",
       "│                   [ 1.1080, -0.8684,  0.8007]])\n",
       "└── 'x' --> <FastTreeValue 0x7fef30a9b370>\n",
       "    └── 'c' --> tensor([[ 1.2208, -1.0106, -0.9093,  0.2586],\n",
       "                        [ 1.1952,  0.3686,  1.3474, -1.0343],\n",
       "                        [-0.1250,  1.0669, -0.9628, -2.0326]])"
      ]
     },
     "execution_count": 3,
     "metadata": {},
     "output_type": "execute_result"
    }
   ],
   "source": [
    "t"
   ]
  },
  {
   "cell_type": "code",
   "execution_count": 4,
   "id": "fd70b0b9",
   "metadata": {
    "execution": {
     "iopub.execute_input": "2023-02-27T10:06:40.034530Z",
     "iopub.status.busy": "2023-02-27T10:06:40.034058Z",
     "iopub.status.idle": "2023-02-27T10:06:40.039844Z",
     "shell.execute_reply": "2023-02-27T10:06:40.039274Z"
    }
   },
   "outputs": [
    {
     "data": {
      "text/plain": [
       "tensor([[ 0.8213,  0.6211, -0.8185],\n",
       "        [ 1.1080, -0.8684,  0.8007]])"
      ]
     },
     "execution_count": 4,
     "metadata": {},
     "output_type": "execute_result"
    }
   ],
   "source": [
    "t.a"
   ]
  },
  {
   "cell_type": "code",
   "execution_count": 5,
   "id": "c18197bd",
   "metadata": {
    "execution": {
     "iopub.execute_input": "2023-02-27T10:06:40.042651Z",
     "iopub.status.busy": "2023-02-27T10:06:40.042188Z",
     "iopub.status.idle": "2023-02-27T10:06:45.089520Z",
     "shell.execute_reply": "2023-02-27T10:06:45.088762Z"
    }
   },
   "outputs": [
    {
     "name": "stdout",
     "output_type": "stream",
     "text": [
      "61.9 ns ± 0.0104 ns per loop (mean ± std. dev. of 7 runs, 10,000,000 loops each)\n"
     ]
    }
   ],
   "source": [
    "%timeit t.a"
   ]
  },
  {
   "cell_type": "code",
   "execution_count": 6,
   "id": "bd52f867",
   "metadata": {
    "execution": {
     "iopub.execute_input": "2023-02-27T10:06:45.092658Z",
     "iopub.status.busy": "2023-02-27T10:06:45.092155Z",
     "iopub.status.idle": "2023-02-27T10:06:45.099383Z",
     "shell.execute_reply": "2023-02-27T10:06:45.098772Z"
    }
   },
   "outputs": [
    {
     "data": {
      "text/plain": [
       "<FastTreeValue 0x7fef3059b2b0>\n",
       "├── 'a' --> tensor([[ 0.6683,  0.0933, -0.4611],\n",
       "│                   [ 2.8841, -2.4396,  0.5224]])\n",
       "└── 'x' --> <FastTreeValue 0x7fef30a9b370>\n",
       "    └── 'c' --> tensor([[ 1.2208, -1.0106, -0.9093,  0.2586],\n",
       "                        [ 1.1952,  0.3686,  1.3474, -1.0343],\n",
       "                        [-0.1250,  1.0669, -0.9628, -2.0326]])"
      ]
     },
     "execution_count": 6,
     "metadata": {},
     "output_type": "execute_result"
    }
   ],
   "source": [
    "new_value = torch.randn(2, 3)\n",
    "t.a = new_value\n",
    "\n",
    "t"
   ]
  },
  {
   "cell_type": "code",
   "execution_count": 7,
   "id": "bbe04d1c",
   "metadata": {
    "execution": {
     "iopub.execute_input": "2023-02-27T10:06:45.101841Z",
     "iopub.status.busy": "2023-02-27T10:06:45.101423Z",
     "iopub.status.idle": "2023-02-27T10:06:50.178119Z",
     "shell.execute_reply": "2023-02-27T10:06:50.177363Z"
    }
   },
   "outputs": [
    {
     "name": "stdout",
     "output_type": "stream",
     "text": [
      "62.6 ns ± 0.0161 ns per loop (mean ± std. dev. of 7 runs, 10,000,000 loops each)\n"
     ]
    }
   ],
   "source": [
    "%timeit t.a = new_value"
   ]
  },
  {
   "cell_type": "markdown",
   "id": "48c49731",
   "metadata": {},
   "source": [
    "### Tianshou Batch's Get and Set"
   ]
  },
  {
   "cell_type": "code",
   "execution_count": 8,
   "id": "f1bb14c1",
   "metadata": {
    "execution": {
     "iopub.execute_input": "2023-02-27T10:06:50.181451Z",
     "iopub.status.busy": "2023-02-27T10:06:50.180789Z",
     "iopub.status.idle": "2023-02-27T10:06:50.511865Z",
     "shell.execute_reply": "2023-02-27T10:06:50.511190Z"
    }
   },
   "outputs": [],
   "source": [
    "from tianshou.data import Batch\n",
    "\n",
    "b = Batch(**_TREE_DATA_2)"
   ]
  },
  {
   "cell_type": "code",
   "execution_count": 9,
   "id": "cb0777c3",
   "metadata": {
    "execution": {
     "iopub.execute_input": "2023-02-27T10:06:50.515391Z",
     "iopub.status.busy": "2023-02-27T10:06:50.514640Z",
     "iopub.status.idle": "2023-02-27T10:06:50.521462Z",
     "shell.execute_reply": "2023-02-27T10:06:50.520889Z"
    }
   },
   "outputs": [
    {
     "data": {
      "text/plain": [
       "Batch(\n",
       "    a: tensor([[ 0.8213,  0.6211, -0.8185],\n",
       "               [ 1.1080, -0.8684,  0.8007]]),\n",
       "    x: Batch(\n",
       "           c: tensor([[ 1.2208, -1.0106, -0.9093,  0.2586],\n",
       "                      [ 1.1952,  0.3686,  1.3474, -1.0343],\n",
       "                      [-0.1250,  1.0669, -0.9628, -2.0326]]),\n",
       "       ),\n",
       ")"
      ]
     },
     "execution_count": 9,
     "metadata": {},
     "output_type": "execute_result"
    }
   ],
   "source": [
    "b"
   ]
  },
  {
   "cell_type": "code",
   "execution_count": 10,
   "id": "43ef8ea3",
   "metadata": {
    "execution": {
     "iopub.execute_input": "2023-02-27T10:06:50.524234Z",
     "iopub.status.busy": "2023-02-27T10:06:50.523648Z",
     "iopub.status.idle": "2023-02-27T10:06:50.528418Z",
     "shell.execute_reply": "2023-02-27T10:06:50.527804Z"
    }
   },
   "outputs": [
    {
     "data": {
      "text/plain": [
       "tensor([[ 0.8213,  0.6211, -0.8185],\n",
       "        [ 1.1080, -0.8684,  0.8007]])"
      ]
     },
     "execution_count": 10,
     "metadata": {},
     "output_type": "execute_result"
    }
   ],
   "source": [
    "b.a"
   ]
  },
  {
   "cell_type": "code",
   "execution_count": 11,
   "id": "b785ab72",
   "metadata": {
    "execution": {
     "iopub.execute_input": "2023-02-27T10:06:50.530800Z",
     "iopub.status.busy": "2023-02-27T10:06:50.530461Z",
     "iopub.status.idle": "2023-02-27T10:06:55.224347Z",
     "shell.execute_reply": "2023-02-27T10:06:55.223598Z"
    }
   },
   "outputs": [
    {
     "name": "stdout",
     "output_type": "stream",
     "text": [
      "58.1 ns ± 0.00879 ns per loop (mean ± std. dev. of 7 runs, 10,000,000 loops each)\n"
     ]
    }
   ],
   "source": [
    "%timeit b.a"
   ]
  },
  {
   "cell_type": "code",
   "execution_count": 12,
   "id": "ad54dc69",
   "metadata": {
    "execution": {
     "iopub.execute_input": "2023-02-27T10:06:55.227429Z",
     "iopub.status.busy": "2023-02-27T10:06:55.226762Z",
     "iopub.status.idle": "2023-02-27T10:06:55.233353Z",
     "shell.execute_reply": "2023-02-27T10:06:55.232743Z"
    }
   },
   "outputs": [
    {
     "data": {
      "text/plain": [
       "Batch(\n",
       "    a: tensor([[ 0.9298,  1.6962, -0.0112],\n",
       "               [ 0.6373, -0.1859,  0.7495]]),\n",
       "    x: Batch(\n",
       "           c: tensor([[ 1.2208, -1.0106, -0.9093,  0.2586],\n",
       "                      [ 1.1952,  0.3686,  1.3474, -1.0343],\n",
       "                      [-0.1250,  1.0669, -0.9628, -2.0326]]),\n",
       "       ),\n",
       ")"
      ]
     },
     "execution_count": 12,
     "metadata": {},
     "output_type": "execute_result"
    }
   ],
   "source": [
    "new_value = torch.randn(2, 3)\n",
    "b.a = new_value\n",
    "\n",
    "b"
   ]
  },
  {
   "cell_type": "code",
   "execution_count": 13,
   "id": "29b1d0bf",
   "metadata": {
    "execution": {
     "iopub.execute_input": "2023-02-27T10:06:55.235920Z",
     "iopub.status.busy": "2023-02-27T10:06:55.235558Z",
     "iopub.status.idle": "2023-02-27T10:06:59.110933Z",
     "shell.execute_reply": "2023-02-27T10:06:59.110211Z"
    }
   },
   "outputs": [
    {
     "name": "stdout",
     "output_type": "stream",
     "text": [
      "477 ns ± 0.119 ns per loop (mean ± std. dev. of 7 runs, 1,000,000 loops each)\n"
     ]
    }
   ],
   "source": [
    "%timeit b.a = new_value"
   ]
  },
  {
   "cell_type": "markdown",
   "id": "b61ad1d0",
   "metadata": {},
   "source": [
    "## Initialization"
   ]
  },
  {
   "cell_type": "markdown",
   "id": "d70f0d54",
   "metadata": {},
   "source": [
    "### TreeValue's Initialization"
   ]
  },
  {
   "cell_type": "code",
   "execution_count": 14,
   "id": "d32a679b",
   "metadata": {
    "execution": {
     "iopub.execute_input": "2023-02-27T10:06:59.114112Z",
     "iopub.status.busy": "2023-02-27T10:06:59.113637Z",
     "iopub.status.idle": "2023-02-27T10:07:05.834763Z",
     "shell.execute_reply": "2023-02-27T10:07:05.833655Z"
    }
   },
   "outputs": [
    {
     "name": "stdout",
     "output_type": "stream",
     "text": [
      "828 ns ± 0.361 ns per loop (mean ± std. dev. of 7 runs, 1,000,000 loops each)\n"
     ]
    }
   ],
   "source": [
    "%timeit FastTreeValue(_TREE_DATA_1)"
   ]
  },
  {
   "cell_type": "markdown",
   "id": "24f3707b",
   "metadata": {},
   "source": [
    "### Tianshou Batch's Initialization"
   ]
  },
  {
   "cell_type": "code",
   "execution_count": 15,
   "id": "ac3958df",
   "metadata": {
    "execution": {
     "iopub.execute_input": "2023-02-27T10:07:05.837793Z",
     "iopub.status.busy": "2023-02-27T10:07:05.837328Z",
     "iopub.status.idle": "2023-02-27T10:07:14.918717Z",
     "shell.execute_reply": "2023-02-27T10:07:14.918049Z"
    }
   },
   "outputs": [
    {
     "name": "stdout",
     "output_type": "stream",
     "text": [
      "11.2 µs ± 70 ns per loop (mean ± std. dev. of 7 runs, 100,000 loops each)\n"
     ]
    }
   ],
   "source": [
    "%timeit Batch(**_TREE_DATA_1)"
   ]
  },
  {
   "cell_type": "markdown",
   "id": "1ab82e2d",
   "metadata": {},
   "source": [
    "## Deep Copy Operation"
   ]
  },
  {
   "cell_type": "code",
   "execution_count": 16,
   "id": "210a9442",
   "metadata": {
    "execution": {
     "iopub.execute_input": "2023-02-27T10:07:14.921574Z",
     "iopub.status.busy": "2023-02-27T10:07:14.921039Z",
     "iopub.status.idle": "2023-02-27T10:07:14.924937Z",
     "shell.execute_reply": "2023-02-27T10:07:14.924340Z"
    }
   },
   "outputs": [],
   "source": [
    "import copy"
   ]
  },
  {
   "cell_type": "markdown",
   "id": "5a736274",
   "metadata": {},
   "source": [
    "### Deep Copy of TreeValue"
   ]
  },
  {
   "cell_type": "code",
   "execution_count": 17,
   "id": "f9bcadd6",
   "metadata": {
    "execution": {
     "iopub.execute_input": "2023-02-27T10:07:14.927337Z",
     "iopub.status.busy": "2023-02-27T10:07:14.927008Z",
     "iopub.status.idle": "2023-02-27T10:07:26.038728Z",
     "shell.execute_reply": "2023-02-27T10:07:26.038115Z"
    }
   },
   "outputs": [
    {
     "name": "stdout",
     "output_type": "stream",
     "text": [
      "137 µs ± 303 ns per loop (mean ± std. dev. of 7 runs, 10,000 loops each)\n"
     ]
    }
   ],
   "source": [
    "t3 = FastTreeValue(_TREE_DATA_3)\n",
    "%timeit copy.deepcopy(t3)"
   ]
  },
  {
   "cell_type": "markdown",
   "id": "bf8be7ea",
   "metadata": {},
   "source": [
    "### Deep Copy of Tianshou Batch"
   ]
  },
  {
   "cell_type": "code",
   "execution_count": 18,
   "id": "91998e6f",
   "metadata": {
    "execution": {
     "iopub.execute_input": "2023-02-27T10:07:26.041942Z",
     "iopub.status.busy": "2023-02-27T10:07:26.040955Z",
     "iopub.status.idle": "2023-02-27T10:07:37.351452Z",
     "shell.execute_reply": "2023-02-27T10:07:37.350881Z"
    }
   },
   "outputs": [
    {
     "name": "stdout",
     "output_type": "stream",
     "text": [
      "139 µs ± 617 ns per loop (mean ± std. dev. of 7 runs, 10,000 loops each)\n"
     ]
    }
   ],
   "source": [
    "b3 = Batch(**_TREE_DATA_3)\n",
    "%timeit copy.deepcopy(b3)"
   ]
  },
  {
   "cell_type": "markdown",
   "id": "223162fb",
   "metadata": {},
   "source": [
    "## Stack, Concat and Split Operation"
   ]
  },
  {
   "cell_type": "markdown",
   "id": "85fa4a73",
   "metadata": {},
   "source": [
    "### Performance of TreeValue"
   ]
  },
  {
   "cell_type": "code",
   "execution_count": 19,
   "id": "a0c2b697",
   "metadata": {
    "execution": {
     "iopub.execute_input": "2023-02-27T10:07:37.354424Z",
     "iopub.status.busy": "2023-02-27T10:07:37.353803Z",
     "iopub.status.idle": "2023-02-27T10:07:37.357109Z",
     "shell.execute_reply": "2023-02-27T10:07:37.356592Z"
    }
   },
   "outputs": [],
   "source": [
    "trees = [FastTreeValue(_TREE_DATA_2) for _ in range(8)]"
   ]
  },
  {
   "cell_type": "code",
   "execution_count": 20,
   "id": "017ea5a5",
   "metadata": {
    "execution": {
     "iopub.execute_input": "2023-02-27T10:07:37.360173Z",
     "iopub.status.busy": "2023-02-27T10:07:37.359273Z",
     "iopub.status.idle": "2023-02-27T10:07:37.367394Z",
     "shell.execute_reply": "2023-02-27T10:07:37.366774Z"
    }
   },
   "outputs": [
    {
     "data": {
      "text/plain": [
       "<FastTreeValue 0x7fef1ecc88e0>\n",
       "├── 'a' --> tensor([[[ 0.8213,  0.6211, -0.8185],\n",
       "│                    [ 1.1080, -0.8684,  0.8007]],\n",
       "│           \n",
       "│                   [[ 0.8213,  0.6211, -0.8185],\n",
       "│                    [ 1.1080, -0.8684,  0.8007]],\n",
       "│           \n",
       "│                   [[ 0.8213,  0.6211, -0.8185],\n",
       "│                    [ 1.1080, -0.8684,  0.8007]],\n",
       "│           \n",
       "│                   [[ 0.8213,  0.6211, -0.8185],\n",
       "│                    [ 1.1080, -0.8684,  0.8007]],\n",
       "│           \n",
       "│                   [[ 0.8213,  0.6211, -0.8185],\n",
       "│                    [ 1.1080, -0.8684,  0.8007]],\n",
       "│           \n",
       "│                   [[ 0.8213,  0.6211, -0.8185],\n",
       "│                    [ 1.1080, -0.8684,  0.8007]],\n",
       "│           \n",
       "│                   [[ 0.8213,  0.6211, -0.8185],\n",
       "│                    [ 1.1080, -0.8684,  0.8007]],\n",
       "│           \n",
       "│                   [[ 0.8213,  0.6211, -0.8185],\n",
       "│                    [ 1.1080, -0.8684,  0.8007]]])\n",
       "└── 'x' --> <FastTreeValue 0x7fef1ecc8f70>\n",
       "    └── 'c' --> tensor([[[ 1.2208, -1.0106, -0.9093,  0.2586],\n",
       "                         [ 1.1952,  0.3686,  1.3474, -1.0343],\n",
       "                         [-0.1250,  1.0669, -0.9628, -2.0326]],\n",
       "                \n",
       "                        [[ 1.2208, -1.0106, -0.9093,  0.2586],\n",
       "                         [ 1.1952,  0.3686,  1.3474, -1.0343],\n",
       "                         [-0.1250,  1.0669, -0.9628, -2.0326]],\n",
       "                \n",
       "                        [[ 1.2208, -1.0106, -0.9093,  0.2586],\n",
       "                         [ 1.1952,  0.3686,  1.3474, -1.0343],\n",
       "                         [-0.1250,  1.0669, -0.9628, -2.0326]],\n",
       "                \n",
       "                        [[ 1.2208, -1.0106, -0.9093,  0.2586],\n",
       "                         [ 1.1952,  0.3686,  1.3474, -1.0343],\n",
       "                         [-0.1250,  1.0669, -0.9628, -2.0326]],\n",
       "                \n",
       "                        [[ 1.2208, -1.0106, -0.9093,  0.2586],\n",
       "                         [ 1.1952,  0.3686,  1.3474, -1.0343],\n",
       "                         [-0.1250,  1.0669, -0.9628, -2.0326]],\n",
       "                \n",
       "                        [[ 1.2208, -1.0106, -0.9093,  0.2586],\n",
       "                         [ 1.1952,  0.3686,  1.3474, -1.0343],\n",
       "                         [-0.1250,  1.0669, -0.9628, -2.0326]],\n",
       "                \n",
       "                        [[ 1.2208, -1.0106, -0.9093,  0.2586],\n",
       "                         [ 1.1952,  0.3686,  1.3474, -1.0343],\n",
       "                         [-0.1250,  1.0669, -0.9628, -2.0326]],\n",
       "                \n",
       "                        [[ 1.2208, -1.0106, -0.9093,  0.2586],\n",
       "                         [ 1.1952,  0.3686,  1.3474, -1.0343],\n",
       "                         [-0.1250,  1.0669, -0.9628, -2.0326]]])"
      ]
     },
     "execution_count": 20,
     "metadata": {},
     "output_type": "execute_result"
    }
   ],
   "source": [
    "t_stack = FastTreeValue.func(subside=True)(torch.stack)\n",
    "\n",
    "t_stack(trees)"
   ]
  },
  {
   "cell_type": "code",
   "execution_count": 21,
   "id": "f8b3f415",
   "metadata": {
    "execution": {
     "iopub.execute_input": "2023-02-27T10:07:37.369896Z",
     "iopub.status.busy": "2023-02-27T10:07:37.369502Z",
     "iopub.status.idle": "2023-02-27T10:07:39.991509Z",
     "shell.execute_reply": "2023-02-27T10:07:39.990772Z"
    }
   },
   "outputs": [
    {
     "name": "stdout",
     "output_type": "stream",
     "text": [
      "32.3 µs ± 39.4 ns per loop (mean ± std. dev. of 7 runs, 10,000 loops each)\n"
     ]
    }
   ],
   "source": [
    "%timeit t_stack(trees)"
   ]
  },
  {
   "cell_type": "code",
   "execution_count": 22,
   "id": "94b56771",
   "metadata": {
    "execution": {
     "iopub.execute_input": "2023-02-27T10:07:39.994182Z",
     "iopub.status.busy": "2023-02-27T10:07:39.993813Z",
     "iopub.status.idle": "2023-02-27T10:07:40.000990Z",
     "shell.execute_reply": "2023-02-27T10:07:40.000376Z"
    }
   },
   "outputs": [
    {
     "data": {
      "text/plain": [
       "<FastTreeValue 0x7fef1f293910>\n",
       "├── 'a' --> tensor([[ 0.8213,  0.6211, -0.8185],\n",
       "│                   [ 1.1080, -0.8684,  0.8007],\n",
       "│                   [ 0.8213,  0.6211, -0.8185],\n",
       "│                   [ 1.1080, -0.8684,  0.8007],\n",
       "│                   [ 0.8213,  0.6211, -0.8185],\n",
       "│                   [ 1.1080, -0.8684,  0.8007],\n",
       "│                   [ 0.8213,  0.6211, -0.8185],\n",
       "│                   [ 1.1080, -0.8684,  0.8007],\n",
       "│                   [ 0.8213,  0.6211, -0.8185],\n",
       "│                   [ 1.1080, -0.8684,  0.8007],\n",
       "│                   [ 0.8213,  0.6211, -0.8185],\n",
       "│                   [ 1.1080, -0.8684,  0.8007],\n",
       "│                   [ 0.8213,  0.6211, -0.8185],\n",
       "│                   [ 1.1080, -0.8684,  0.8007],\n",
       "│                   [ 0.8213,  0.6211, -0.8185],\n",
       "│                   [ 1.1080, -0.8684,  0.8007]])\n",
       "└── 'x' --> <FastTreeValue 0x7fef1dc6ff40>\n",
       "    └── 'c' --> tensor([[ 1.2208, -1.0106, -0.9093,  0.2586],\n",
       "                        [ 1.1952,  0.3686,  1.3474, -1.0343],\n",
       "                        [-0.1250,  1.0669, -0.9628, -2.0326],\n",
       "                        [ 1.2208, -1.0106, -0.9093,  0.2586],\n",
       "                        [ 1.1952,  0.3686,  1.3474, -1.0343],\n",
       "                        [-0.1250,  1.0669, -0.9628, -2.0326],\n",
       "                        [ 1.2208, -1.0106, -0.9093,  0.2586],\n",
       "                        [ 1.1952,  0.3686,  1.3474, -1.0343],\n",
       "                        [-0.1250,  1.0669, -0.9628, -2.0326],\n",
       "                        [ 1.2208, -1.0106, -0.9093,  0.2586],\n",
       "                        [ 1.1952,  0.3686,  1.3474, -1.0343],\n",
       "                        [-0.1250,  1.0669, -0.9628, -2.0326],\n",
       "                        [ 1.2208, -1.0106, -0.9093,  0.2586],\n",
       "                        [ 1.1952,  0.3686,  1.3474, -1.0343],\n",
       "                        [-0.1250,  1.0669, -0.9628, -2.0326],\n",
       "                        [ 1.2208, -1.0106, -0.9093,  0.2586],\n",
       "                        [ 1.1952,  0.3686,  1.3474, -1.0343],\n",
       "                        [-0.1250,  1.0669, -0.9628, -2.0326],\n",
       "                        [ 1.2208, -1.0106, -0.9093,  0.2586],\n",
       "                        [ 1.1952,  0.3686,  1.3474, -1.0343],\n",
       "                        [-0.1250,  1.0669, -0.9628, -2.0326],\n",
       "                        [ 1.2208, -1.0106, -0.9093,  0.2586],\n",
       "                        [ 1.1952,  0.3686,  1.3474, -1.0343],\n",
       "                        [-0.1250,  1.0669, -0.9628, -2.0326]])"
      ]
     },
     "execution_count": 22,
     "metadata": {},
     "output_type": "execute_result"
    }
   ],
   "source": [
    "t_cat = FastTreeValue.func(subside=True)(torch.cat)\n",
    "\n",
    "t_cat(trees)"
   ]
  },
  {
   "cell_type": "code",
   "execution_count": 23,
   "id": "5e9c06a6",
   "metadata": {
    "execution": {
     "iopub.execute_input": "2023-02-27T10:07:40.003356Z",
     "iopub.status.busy": "2023-02-27T10:07:40.003021Z",
     "iopub.status.idle": "2023-02-27T10:07:42.451563Z",
     "shell.execute_reply": "2023-02-27T10:07:42.450826Z"
    }
   },
   "outputs": [
    {
     "name": "stdout",
     "output_type": "stream",
     "text": [
      "30.1 µs ± 74.3 ns per loop (mean ± std. dev. of 7 runs, 10,000 loops each)\n"
     ]
    }
   ],
   "source": [
    "%timeit t_cat(trees)"
   ]
  },
  {
   "cell_type": "code",
   "execution_count": 24,
   "id": "a3ab5c8f",
   "metadata": {
    "execution": {
     "iopub.execute_input": "2023-02-27T10:07:42.454671Z",
     "iopub.status.busy": "2023-02-27T10:07:42.454113Z",
     "iopub.status.idle": "2023-02-27T10:07:47.171149Z",
     "shell.execute_reply": "2023-02-27T10:07:47.170428Z"
    }
   },
   "outputs": [
    {
     "name": "stdout",
     "output_type": "stream",
     "text": [
      "58 µs ± 35 ns per loop (mean ± std. dev. of 7 runs, 10,000 loops each)\n"
     ]
    }
   ],
   "source": [
    "t_split = FastTreeValue.func(rise=True)(torch.split)\n",
    "tree = FastTreeValue({\n",
    "    'obs': torch.randn(8, 4, 84, 84),\n",
    "    'action': torch.randint(0, 6, size=(8, 1,)),\n",
    "    'reward': torch.rand(8, 1),\n",
    "})\n",
    "\n",
    "%timeit t_split(tree, 1)"
   ]
  },
  {
   "cell_type": "markdown",
   "id": "31c3ec0b",
   "metadata": {},
   "source": [
    "### Performance of Tianshou Batch"
   ]
  },
  {
   "cell_type": "code",
   "execution_count": 25,
   "id": "9ead828a",
   "metadata": {
    "execution": {
     "iopub.execute_input": "2023-02-27T10:07:47.174196Z",
     "iopub.status.busy": "2023-02-27T10:07:47.173841Z",
     "iopub.status.idle": "2023-02-27T10:07:47.181580Z",
     "shell.execute_reply": "2023-02-27T10:07:47.181000Z"
    }
   },
   "outputs": [
    {
     "data": {
      "text/plain": [
       "Batch(\n",
       "    x: Batch(\n",
       "           c: tensor([[[ 1.2208, -1.0106, -0.9093,  0.2586],\n",
       "                       [ 1.1952,  0.3686,  1.3474, -1.0343],\n",
       "                       [-0.1250,  1.0669, -0.9628, -2.0326]],\n",
       "              \n",
       "                      [[ 1.2208, -1.0106, -0.9093,  0.2586],\n",
       "                       [ 1.1952,  0.3686,  1.3474, -1.0343],\n",
       "                       [-0.1250,  1.0669, -0.9628, -2.0326]],\n",
       "              \n",
       "                      [[ 1.2208, -1.0106, -0.9093,  0.2586],\n",
       "                       [ 1.1952,  0.3686,  1.3474, -1.0343],\n",
       "                       [-0.1250,  1.0669, -0.9628, -2.0326]],\n",
       "              \n",
       "                      [[ 1.2208, -1.0106, -0.9093,  0.2586],\n",
       "                       [ 1.1952,  0.3686,  1.3474, -1.0343],\n",
       "                       [-0.1250,  1.0669, -0.9628, -2.0326]],\n",
       "              \n",
       "                      [[ 1.2208, -1.0106, -0.9093,  0.2586],\n",
       "                       [ 1.1952,  0.3686,  1.3474, -1.0343],\n",
       "                       [-0.1250,  1.0669, -0.9628, -2.0326]],\n",
       "              \n",
       "                      [[ 1.2208, -1.0106, -0.9093,  0.2586],\n",
       "                       [ 1.1952,  0.3686,  1.3474, -1.0343],\n",
       "                       [-0.1250,  1.0669, -0.9628, -2.0326]],\n",
       "              \n",
       "                      [[ 1.2208, -1.0106, -0.9093,  0.2586],\n",
       "                       [ 1.1952,  0.3686,  1.3474, -1.0343],\n",
       "                       [-0.1250,  1.0669, -0.9628, -2.0326]],\n",
       "              \n",
       "                      [[ 1.2208, -1.0106, -0.9093,  0.2586],\n",
       "                       [ 1.1952,  0.3686,  1.3474, -1.0343],\n",
       "                       [-0.1250,  1.0669, -0.9628, -2.0326]]]),\n",
       "       ),\n",
       "    a: tensor([[[ 0.8213,  0.6211, -0.8185],\n",
       "                [ 1.1080, -0.8684,  0.8007]],\n",
       "       \n",
       "               [[ 0.8213,  0.6211, -0.8185],\n",
       "                [ 1.1080, -0.8684,  0.8007]],\n",
       "       \n",
       "               [[ 0.8213,  0.6211, -0.8185],\n",
       "                [ 1.1080, -0.8684,  0.8007]],\n",
       "       \n",
       "               [[ 0.8213,  0.6211, -0.8185],\n",
       "                [ 1.1080, -0.8684,  0.8007]],\n",
       "       \n",
       "               [[ 0.8213,  0.6211, -0.8185],\n",
       "                [ 1.1080, -0.8684,  0.8007]],\n",
       "       \n",
       "               [[ 0.8213,  0.6211, -0.8185],\n",
       "                [ 1.1080, -0.8684,  0.8007]],\n",
       "       \n",
       "               [[ 0.8213,  0.6211, -0.8185],\n",
       "                [ 1.1080, -0.8684,  0.8007]],\n",
       "       \n",
       "               [[ 0.8213,  0.6211, -0.8185],\n",
       "                [ 1.1080, -0.8684,  0.8007]]]),\n",
       ")"
      ]
     },
     "execution_count": 25,
     "metadata": {},
     "output_type": "execute_result"
    }
   ],
   "source": [
    "batches = [Batch(**_TREE_DATA_2) for _ in range(8)]\n",
    "\n",
    "Batch.stack(batches)"
   ]
  },
  {
   "cell_type": "code",
   "execution_count": 26,
   "id": "ec9037a3",
   "metadata": {
    "execution": {
     "iopub.execute_input": "2023-02-27T10:07:47.184182Z",
     "iopub.status.busy": "2023-02-27T10:07:47.183861Z",
     "iopub.status.idle": "2023-02-27T10:07:53.435441Z",
     "shell.execute_reply": "2023-02-27T10:07:53.434699Z"
    }
   },
   "outputs": [
    {
     "name": "stdout",
     "output_type": "stream",
     "text": [
      "77 µs ± 150 ns per loop (mean ± std. dev. of 7 runs, 10,000 loops each)\n"
     ]
    }
   ],
   "source": [
    "%timeit Batch.stack(batches)"
   ]
  },
  {
   "cell_type": "code",
   "execution_count": 27,
   "id": "cb8ab77e",
   "metadata": {
    "execution": {
     "iopub.execute_input": "2023-02-27T10:07:53.438503Z",
     "iopub.status.busy": "2023-02-27T10:07:53.438117Z",
     "iopub.status.idle": "2023-02-27T10:07:53.446381Z",
     "shell.execute_reply": "2023-02-27T10:07:53.445778Z"
    }
   },
   "outputs": [
    {
     "data": {
      "text/plain": [
       "Batch(\n",
       "    x: Batch(\n",
       "           c: tensor([[ 1.2208, -1.0106, -0.9093,  0.2586],\n",
       "                      [ 1.1952,  0.3686,  1.3474, -1.0343],\n",
       "                      [-0.1250,  1.0669, -0.9628, -2.0326],\n",
       "                      [ 1.2208, -1.0106, -0.9093,  0.2586],\n",
       "                      [ 1.1952,  0.3686,  1.3474, -1.0343],\n",
       "                      [-0.1250,  1.0669, -0.9628, -2.0326],\n",
       "                      [ 1.2208, -1.0106, -0.9093,  0.2586],\n",
       "                      [ 1.1952,  0.3686,  1.3474, -1.0343],\n",
       "                      [-0.1250,  1.0669, -0.9628, -2.0326],\n",
       "                      [ 1.2208, -1.0106, -0.9093,  0.2586],\n",
       "                      [ 1.1952,  0.3686,  1.3474, -1.0343],\n",
       "                      [-0.1250,  1.0669, -0.9628, -2.0326],\n",
       "                      [ 1.2208, -1.0106, -0.9093,  0.2586],\n",
       "                      [ 1.1952,  0.3686,  1.3474, -1.0343],\n",
       "                      [-0.1250,  1.0669, -0.9628, -2.0326],\n",
       "                      [ 1.2208, -1.0106, -0.9093,  0.2586],\n",
       "                      [ 1.1952,  0.3686,  1.3474, -1.0343],\n",
       "                      [-0.1250,  1.0669, -0.9628, -2.0326],\n",
       "                      [ 1.2208, -1.0106, -0.9093,  0.2586],\n",
       "                      [ 1.1952,  0.3686,  1.3474, -1.0343],\n",
       "                      [-0.1250,  1.0669, -0.9628, -2.0326],\n",
       "                      [ 1.2208, -1.0106, -0.9093,  0.2586],\n",
       "                      [ 1.1952,  0.3686,  1.3474, -1.0343],\n",
       "                      [-0.1250,  1.0669, -0.9628, -2.0326]]),\n",
       "       ),\n",
       "    a: tensor([[ 0.8213,  0.6211, -0.8185],\n",
       "               [ 1.1080, -0.8684,  0.8007],\n",
       "               [ 0.8213,  0.6211, -0.8185],\n",
       "               [ 1.1080, -0.8684,  0.8007],\n",
       "               [ 0.8213,  0.6211, -0.8185],\n",
       "               [ 1.1080, -0.8684,  0.8007],\n",
       "               [ 0.8213,  0.6211, -0.8185],\n",
       "               [ 1.1080, -0.8684,  0.8007],\n",
       "               [ 0.8213,  0.6211, -0.8185],\n",
       "               [ 1.1080, -0.8684,  0.8007],\n",
       "               [ 0.8213,  0.6211, -0.8185],\n",
       "               [ 1.1080, -0.8684,  0.8007],\n",
       "               [ 0.8213,  0.6211, -0.8185],\n",
       "               [ 1.1080, -0.8684,  0.8007],\n",
       "               [ 0.8213,  0.6211, -0.8185],\n",
       "               [ 1.1080, -0.8684,  0.8007]]),\n",
       ")"
      ]
     },
     "execution_count": 27,
     "metadata": {},
     "output_type": "execute_result"
    }
   ],
   "source": [
    "Batch.cat(batches)"
   ]
  },
  {
   "cell_type": "code",
   "execution_count": 28,
   "id": "18dfb045",
   "metadata": {
    "execution": {
     "iopub.execute_input": "2023-02-27T10:07:53.449255Z",
     "iopub.status.busy": "2023-02-27T10:07:53.449025Z",
     "iopub.status.idle": "2023-02-27T10:08:05.032949Z",
     "shell.execute_reply": "2023-02-27T10:08:05.032197Z"
    }
   },
   "outputs": [
    {
     "name": "stdout",
     "output_type": "stream",
     "text": [
      "143 µs ± 375 ns per loop (mean ± std. dev. of 7 runs, 10,000 loops each)\n"
     ]
    }
   ],
   "source": [
    "%timeit Batch.cat(batches)"
   ]
  },
  {
   "cell_type": "code",
   "execution_count": 29,
   "id": "c6688e51",
   "metadata": {
    "execution": {
     "iopub.execute_input": "2023-02-27T10:08:05.035702Z",
     "iopub.status.busy": "2023-02-27T10:08:05.035351Z",
     "iopub.status.idle": "2023-02-27T10:08:07.549338Z",
     "shell.execute_reply": "2023-02-27T10:08:07.548748Z"
    }
   },
   "outputs": [
    {
     "name": "stdout",
     "output_type": "stream",
     "text": [
      "309 µs ± 6.64 µs per loop (mean ± std. dev. of 7 runs, 1,000 loops each)\n"
     ]
    }
   ],
   "source": [
    "batch = Batch({\n",
    "    'obs': torch.randn(8, 4, 84, 84),\n",
    "    'action': torch.randint(0, 6, size=(8, 1,)),\n",
    "    'reward': torch.rand(8, 1)}\n",
    ")\n",
    "\n",
    "%timeit list(Batch.split(batch, 1, shuffle=False, merge_last=True))"
   ]
  },
  {
   "cell_type": "code",
   "execution_count": null,
   "id": "2539fbd9",
   "metadata": {},
   "outputs": [],
   "source": []
  }
 ],
 "metadata": {
  "kernelspec": {
   "display_name": "Python 3 (ipykernel)",
   "language": "python",
   "name": "python3"
  },
  "language_info": {
   "codemirror_mode": {
    "name": "ipython",
    "version": 3
   },
   "file_extension": ".py",
   "mimetype": "text/x-python",
   "name": "python",
   "nbconvert_exporter": "python",
   "pygments_lexer": "ipython3",
   "version": "3.8.16"
  }
 },
 "nbformat": 4,
 "nbformat_minor": 5
}
