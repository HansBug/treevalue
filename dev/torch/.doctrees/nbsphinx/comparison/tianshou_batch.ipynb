{
 "cells": [
  {
   "cell_type": "markdown",
   "id": "9d39d946",
   "metadata": {},
   "source": [
    "# Comparison Between TreeValue and Tianshou Batch"
   ]
  },
  {
   "cell_type": "markdown",
   "id": "3c6db2d4",
   "metadata": {},
   "source": [
    "In this section, we will take a look at the feature and performance of the [Tianshou Batch](https://github.com/thu-ml/tianshou) library, which is developed by Tsinghua Machine Learning Group."
   ]
  },
  {
   "cell_type": "markdown",
   "id": "069361b0",
   "metadata": {},
   "source": [
    "Before starting the comparison, let us define some thing."
   ]
  },
  {
   "cell_type": "code",
   "execution_count": 1,
   "id": "06fc8d26",
   "metadata": {
    "execution": {
     "iopub.execute_input": "2023-02-27T08:51:31.382496Z",
     "iopub.status.busy": "2023-02-27T08:51:31.382070Z",
     "iopub.status.idle": "2023-02-27T08:51:32.758857Z",
     "shell.execute_reply": "2023-02-27T08:51:32.757736Z"
    }
   },
   "outputs": [
    {
     "name": "stderr",
     "output_type": "stream",
     "text": [
      "/opt/hostedtoolcache/Python/3.8.16/x64/lib/python3.8/site-packages/tqdm/auto.py:22: TqdmWarning: IProgress not found. Please update jupyter and ipywidgets. See https://ipywidgets.readthedocs.io/en/stable/user_install.html\n",
      "  from .autonotebook import tqdm as notebook_tqdm\n"
     ]
    }
   ],
   "source": [
    "import torch \n",
    "\n",
    "_TREE_DATA_1 = {'a': 1, 'b': 2, 'x': {'c': 3, 'd': 4}}\n",
    "_TREE_DATA_2 = {\n",
    "    'a': torch.randn(2, 3), \n",
    "    'x': {\n",
    "        'c': torch.randn(3, 4)\n",
    "    },\n",
    "}\n",
    "_TREE_DATA_3 = {\n",
    "    'obs': torch.randn(4, 84, 84),\n",
    "    'action': torch.randint(0, 6, size=(1,)),\n",
    "    'reward': torch.rand(1),\n",
    "}"
   ]
  },
  {
   "cell_type": "markdown",
   "id": "83461b25",
   "metadata": {},
   "source": [
    "## Read and Write Operation"
   ]
  },
  {
   "cell_type": "markdown",
   "id": "067b3f73",
   "metadata": {},
   "source": [
    "Reading and writing are the two most common operations in the tree data structure based on the data model (TreeValue and Tianshou Batch both belong to this type), so this section will compare the reading and writing performance of these two libraries."
   ]
  },
  {
   "cell_type": "markdown",
   "id": "5d09a5b7",
   "metadata": {},
   "source": [
    "### TreeValue's Get and Set"
   ]
  },
  {
   "cell_type": "code",
   "execution_count": 2,
   "id": "9519c4bb",
   "metadata": {
    "execution": {
     "iopub.execute_input": "2023-02-27T08:51:32.767067Z",
     "iopub.status.busy": "2023-02-27T08:51:32.763636Z",
     "iopub.status.idle": "2023-02-27T08:51:33.178777Z",
     "shell.execute_reply": "2023-02-27T08:51:33.177693Z"
    }
   },
   "outputs": [],
   "source": [
    "from treevalue import FastTreeValue\n",
    "\n",
    "t = FastTreeValue(_TREE_DATA_2)"
   ]
  },
  {
   "cell_type": "code",
   "execution_count": 3,
   "id": "11c37677",
   "metadata": {
    "execution": {
     "iopub.execute_input": "2023-02-27T08:51:33.182905Z",
     "iopub.status.busy": "2023-02-27T08:51:33.182523Z",
     "iopub.status.idle": "2023-02-27T08:51:33.195989Z",
     "shell.execute_reply": "2023-02-27T08:51:33.194631Z"
    }
   },
   "outputs": [
    {
     "data": {
      "text/plain": [
       "<FastTreeValue 0x7f8f8c8a2a60>\n",
       "├── 'a' --> tensor([[ 0.7180, -1.4251, -0.4023],\n",
       "│                   [ 0.3873, -1.5008, -1.9809]])\n",
       "└── 'x' --> <FastTreeValue 0x7f8f8c8a2d90>\n",
       "    └── 'c' --> tensor([[ 3.9525, -0.4756, -0.1471, -1.0205],\n",
       "                        [ 0.4388,  1.5708, -0.4817, -0.0550],\n",
       "                        [-0.6711,  1.0422,  0.8273, -1.5164]])"
      ]
     },
     "execution_count": 3,
     "metadata": {},
     "output_type": "execute_result"
    }
   ],
   "source": [
    "t"
   ]
  },
  {
   "cell_type": "code",
   "execution_count": 4,
   "id": "fd70b0b9",
   "metadata": {
    "execution": {
     "iopub.execute_input": "2023-02-27T08:51:33.200326Z",
     "iopub.status.busy": "2023-02-27T08:51:33.199741Z",
     "iopub.status.idle": "2023-02-27T08:51:33.209004Z",
     "shell.execute_reply": "2023-02-27T08:51:33.208023Z"
    }
   },
   "outputs": [
    {
     "data": {
      "text/plain": [
       "tensor([[ 0.7180, -1.4251, -0.4023],\n",
       "        [ 0.3873, -1.5008, -1.9809]])"
      ]
     },
     "execution_count": 4,
     "metadata": {},
     "output_type": "execute_result"
    }
   ],
   "source": [
    "t.a"
   ]
  },
  {
   "cell_type": "code",
   "execution_count": 5,
   "id": "c18197bd",
   "metadata": {
    "execution": {
     "iopub.execute_input": "2023-02-27T08:51:33.212545Z",
     "iopub.status.busy": "2023-02-27T08:51:33.212264Z",
     "iopub.status.idle": "2023-02-27T08:51:40.770779Z",
     "shell.execute_reply": "2023-02-27T08:51:40.769457Z"
    }
   },
   "outputs": [
    {
     "name": "stdout",
     "output_type": "stream",
     "text": [
      "93 ns ± 1.17 ns per loop (mean ± std. dev. of 7 runs, 10,000,000 loops each)\n"
     ]
    }
   ],
   "source": [
    "%timeit t.a"
   ]
  },
  {
   "cell_type": "code",
   "execution_count": 6,
   "id": "bd52f867",
   "metadata": {
    "execution": {
     "iopub.execute_input": "2023-02-27T08:51:40.774519Z",
     "iopub.status.busy": "2023-02-27T08:51:40.774143Z",
     "iopub.status.idle": "2023-02-27T08:51:40.783002Z",
     "shell.execute_reply": "2023-02-27T08:51:40.781989Z"
    }
   },
   "outputs": [
    {
     "data": {
      "text/plain": [
       "<FastTreeValue 0x7f8f8c8a2a60>\n",
       "├── 'a' --> tensor([[-0.5460, -0.2399, -0.0844],\n",
       "│                   [ 0.5589, -0.7021, -2.7327]])\n",
       "└── 'x' --> <FastTreeValue 0x7f8f8c8a2d90>\n",
       "    └── 'c' --> tensor([[ 3.9525, -0.4756, -0.1471, -1.0205],\n",
       "                        [ 0.4388,  1.5708, -0.4817, -0.0550],\n",
       "                        [-0.6711,  1.0422,  0.8273, -1.5164]])"
      ]
     },
     "execution_count": 6,
     "metadata": {},
     "output_type": "execute_result"
    }
   ],
   "source": [
    "new_value = torch.randn(2, 3)\n",
    "t.a = new_value\n",
    "\n",
    "t"
   ]
  },
  {
   "cell_type": "code",
   "execution_count": 7,
   "id": "bbe04d1c",
   "metadata": {
    "execution": {
     "iopub.execute_input": "2023-02-27T08:51:40.786789Z",
     "iopub.status.busy": "2023-02-27T08:51:40.786248Z",
     "iopub.status.idle": "2023-02-27T08:51:46.965824Z",
     "shell.execute_reply": "2023-02-27T08:51:46.964719Z"
    }
   },
   "outputs": [
    {
     "name": "stdout",
     "output_type": "stream",
     "text": [
      "76.4 ns ± 0.338 ns per loop (mean ± std. dev. of 7 runs, 10,000,000 loops each)\n"
     ]
    }
   ],
   "source": [
    "%timeit t.a = new_value"
   ]
  },
  {
   "cell_type": "markdown",
   "id": "48c49731",
   "metadata": {},
   "source": [
    "### Tianshou Batch's Get and Set"
   ]
  },
  {
   "cell_type": "code",
   "execution_count": 8,
   "id": "f1bb14c1",
   "metadata": {
    "execution": {
     "iopub.execute_input": "2023-02-27T08:51:46.969985Z",
     "iopub.status.busy": "2023-02-27T08:51:46.969404Z",
     "iopub.status.idle": "2023-02-27T08:51:47.491529Z",
     "shell.execute_reply": "2023-02-27T08:51:47.490441Z"
    }
   },
   "outputs": [],
   "source": [
    "from tianshou.data import Batch\n",
    "\n",
    "b = Batch(**_TREE_DATA_2)"
   ]
  },
  {
   "cell_type": "code",
   "execution_count": 9,
   "id": "cb0777c3",
   "metadata": {
    "execution": {
     "iopub.execute_input": "2023-02-27T08:51:47.496340Z",
     "iopub.status.busy": "2023-02-27T08:51:47.495905Z",
     "iopub.status.idle": "2023-02-27T08:51:47.506897Z",
     "shell.execute_reply": "2023-02-27T08:51:47.505961Z"
    }
   },
   "outputs": [
    {
     "data": {
      "text/plain": [
       "Batch(\n",
       "    a: tensor([[ 0.7180, -1.4251, -0.4023],\n",
       "               [ 0.3873, -1.5008, -1.9809]]),\n",
       "    x: Batch(\n",
       "           c: tensor([[ 3.9525, -0.4756, -0.1471, -1.0205],\n",
       "                      [ 0.4388,  1.5708, -0.4817, -0.0550],\n",
       "                      [-0.6711,  1.0422,  0.8273, -1.5164]]),\n",
       "       ),\n",
       ")"
      ]
     },
     "execution_count": 9,
     "metadata": {},
     "output_type": "execute_result"
    }
   ],
   "source": [
    "b"
   ]
  },
  {
   "cell_type": "code",
   "execution_count": 10,
   "id": "43ef8ea3",
   "metadata": {
    "execution": {
     "iopub.execute_input": "2023-02-27T08:51:47.510471Z",
     "iopub.status.busy": "2023-02-27T08:51:47.510158Z",
     "iopub.status.idle": "2023-02-27T08:51:47.517058Z",
     "shell.execute_reply": "2023-02-27T08:51:47.516093Z"
    }
   },
   "outputs": [
    {
     "data": {
      "text/plain": [
       "tensor([[ 0.7180, -1.4251, -0.4023],\n",
       "        [ 0.3873, -1.5008, -1.9809]])"
      ]
     },
     "execution_count": 10,
     "metadata": {},
     "output_type": "execute_result"
    }
   ],
   "source": [
    "b.a"
   ]
  },
  {
   "cell_type": "code",
   "execution_count": 11,
   "id": "b785ab72",
   "metadata": {
    "execution": {
     "iopub.execute_input": "2023-02-27T08:51:47.520560Z",
     "iopub.status.busy": "2023-02-27T08:51:47.520255Z",
     "iopub.status.idle": "2023-02-27T08:51:53.726068Z",
     "shell.execute_reply": "2023-02-27T08:51:53.724962Z"
    }
   },
   "outputs": [
    {
     "name": "stdout",
     "output_type": "stream",
     "text": [
      "76.4 ns ± 0.489 ns per loop (mean ± std. dev. of 7 runs, 10,000,000 loops each)\n"
     ]
    }
   ],
   "source": [
    "%timeit b.a"
   ]
  },
  {
   "cell_type": "code",
   "execution_count": 12,
   "id": "ad54dc69",
   "metadata": {
    "execution": {
     "iopub.execute_input": "2023-02-27T08:51:53.730160Z",
     "iopub.status.busy": "2023-02-27T08:51:53.729674Z",
     "iopub.status.idle": "2023-02-27T08:51:53.739197Z",
     "shell.execute_reply": "2023-02-27T08:51:53.738245Z"
    }
   },
   "outputs": [
    {
     "data": {
      "text/plain": [
       "Batch(\n",
       "    a: tensor([[-0.2883, -1.5170, -1.0543],\n",
       "               [-0.4292, -0.4423, -0.0597]]),\n",
       "    x: Batch(\n",
       "           c: tensor([[ 3.9525, -0.4756, -0.1471, -1.0205],\n",
       "                      [ 0.4388,  1.5708, -0.4817, -0.0550],\n",
       "                      [-0.6711,  1.0422,  0.8273, -1.5164]]),\n",
       "       ),\n",
       ")"
      ]
     },
     "execution_count": 12,
     "metadata": {},
     "output_type": "execute_result"
    }
   ],
   "source": [
    "new_value = torch.randn(2, 3)\n",
    "b.a = new_value\n",
    "\n",
    "b"
   ]
  },
  {
   "cell_type": "code",
   "execution_count": 13,
   "id": "29b1d0bf",
   "metadata": {
    "execution": {
     "iopub.execute_input": "2023-02-27T08:51:53.743095Z",
     "iopub.status.busy": "2023-02-27T08:51:53.742321Z",
     "iopub.status.idle": "2023-02-27T08:51:59.207633Z",
     "shell.execute_reply": "2023-02-27T08:51:59.206276Z"
    }
   },
   "outputs": [
    {
     "name": "stdout",
     "output_type": "stream",
     "text": [
      "673 ns ± 3.2 ns per loop (mean ± std. dev. of 7 runs, 1,000,000 loops each)\n"
     ]
    }
   ],
   "source": [
    "%timeit b.a = new_value"
   ]
  },
  {
   "cell_type": "markdown",
   "id": "b61ad1d0",
   "metadata": {},
   "source": [
    "## Initialization"
   ]
  },
  {
   "cell_type": "markdown",
   "id": "d70f0d54",
   "metadata": {},
   "source": [
    "### TreeValue's Initialization"
   ]
  },
  {
   "cell_type": "code",
   "execution_count": 14,
   "id": "d32a679b",
   "metadata": {
    "execution": {
     "iopub.execute_input": "2023-02-27T08:51:59.212697Z",
     "iopub.status.busy": "2023-02-27T08:51:59.212384Z",
     "iopub.status.idle": "2023-02-27T08:52:08.768542Z",
     "shell.execute_reply": "2023-02-27T08:52:08.767436Z"
    }
   },
   "outputs": [
    {
     "name": "stdout",
     "output_type": "stream",
     "text": [
      "1.18 µs ± 14.3 ns per loop (mean ± std. dev. of 7 runs, 1,000,000 loops each)\n"
     ]
    }
   ],
   "source": [
    "%timeit FastTreeValue(_TREE_DATA_1)"
   ]
  },
  {
   "cell_type": "markdown",
   "id": "24f3707b",
   "metadata": {},
   "source": [
    "### Tianshou Batch's Initialization"
   ]
  },
  {
   "cell_type": "code",
   "execution_count": 15,
   "id": "ac3958df",
   "metadata": {
    "execution": {
     "iopub.execute_input": "2023-02-27T08:52:08.772900Z",
     "iopub.status.busy": "2023-02-27T08:52:08.772297Z",
     "iopub.status.idle": "2023-02-27T08:52:20.992112Z",
     "shell.execute_reply": "2023-02-27T08:52:20.990751Z"
    }
   },
   "outputs": [
    {
     "name": "stdout",
     "output_type": "stream",
     "text": [
      "15.1 µs ± 148 ns per loop (mean ± std. dev. of 7 runs, 100,000 loops each)\n"
     ]
    }
   ],
   "source": [
    "%timeit Batch(**_TREE_DATA_1)"
   ]
  },
  {
   "cell_type": "markdown",
   "id": "1ab82e2d",
   "metadata": {},
   "source": [
    "## Deep Copy Operation"
   ]
  },
  {
   "cell_type": "code",
   "execution_count": 16,
   "id": "210a9442",
   "metadata": {
    "execution": {
     "iopub.execute_input": "2023-02-27T08:52:20.996547Z",
     "iopub.status.busy": "2023-02-27T08:52:20.996237Z",
     "iopub.status.idle": "2023-02-27T08:52:21.002893Z",
     "shell.execute_reply": "2023-02-27T08:52:21.001941Z"
    }
   },
   "outputs": [],
   "source": [
    "import copy"
   ]
  },
  {
   "cell_type": "markdown",
   "id": "5a736274",
   "metadata": {},
   "source": [
    "### Deep Copy of TreeValue"
   ]
  },
  {
   "cell_type": "code",
   "execution_count": 17,
   "id": "f9bcadd6",
   "metadata": {
    "execution": {
     "iopub.execute_input": "2023-02-27T08:52:21.009312Z",
     "iopub.status.busy": "2023-02-27T08:52:21.008992Z",
     "iopub.status.idle": "2023-02-27T08:52:23.394641Z",
     "shell.execute_reply": "2023-02-27T08:52:23.393520Z"
    }
   },
   "outputs": [
    {
     "name": "stdout",
     "output_type": "stream",
     "text": [
      "291 µs ± 7.64 µs per loop (mean ± std. dev. of 7 runs, 1,000 loops each)\n"
     ]
    }
   ],
   "source": [
    "t3 = FastTreeValue(_TREE_DATA_3)\n",
    "%timeit copy.deepcopy(t3)"
   ]
  },
  {
   "cell_type": "markdown",
   "id": "bf8be7ea",
   "metadata": {},
   "source": [
    "### Deep Copy of Tianshou Batch"
   ]
  },
  {
   "cell_type": "code",
   "execution_count": 18,
   "id": "91998e6f",
   "metadata": {
    "execution": {
     "iopub.execute_input": "2023-02-27T08:52:23.399539Z",
     "iopub.status.busy": "2023-02-27T08:52:23.399069Z",
     "iopub.status.idle": "2023-02-27T08:52:25.651539Z",
     "shell.execute_reply": "2023-02-27T08:52:25.650463Z"
    }
   },
   "outputs": [
    {
     "name": "stdout",
     "output_type": "stream",
     "text": [
      "277 µs ± 8.67 µs per loop (mean ± std. dev. of 7 runs, 1,000 loops each)\n"
     ]
    }
   ],
   "source": [
    "b3 = Batch(**_TREE_DATA_3)\n",
    "%timeit copy.deepcopy(b3)"
   ]
  },
  {
   "cell_type": "markdown",
   "id": "223162fb",
   "metadata": {},
   "source": [
    "## Stack, Concat and Split Operation"
   ]
  },
  {
   "cell_type": "markdown",
   "id": "85fa4a73",
   "metadata": {},
   "source": [
    "### Performance of TreeValue"
   ]
  },
  {
   "cell_type": "code",
   "execution_count": 19,
   "id": "a0c2b697",
   "metadata": {
    "execution": {
     "iopub.execute_input": "2023-02-27T08:52:25.655657Z",
     "iopub.status.busy": "2023-02-27T08:52:25.654820Z",
     "iopub.status.idle": "2023-02-27T08:52:25.659958Z",
     "shell.execute_reply": "2023-02-27T08:52:25.659093Z"
    }
   },
   "outputs": [],
   "source": [
    "trees = [FastTreeValue(_TREE_DATA_2) for _ in range(8)]"
   ]
  },
  {
   "cell_type": "code",
   "execution_count": 20,
   "id": "017ea5a5",
   "metadata": {
    "execution": {
     "iopub.execute_input": "2023-02-27T08:52:25.663671Z",
     "iopub.status.busy": "2023-02-27T08:52:25.663219Z",
     "iopub.status.idle": "2023-02-27T08:52:25.673786Z",
     "shell.execute_reply": "2023-02-27T08:52:25.672738Z"
    }
   },
   "outputs": [
    {
     "data": {
      "text/plain": [
       "<FastTreeValue 0x7f8ed4b64f40>\n",
       "├── 'a' --> tensor([[[ 0.7180, -1.4251, -0.4023],\n",
       "│                    [ 0.3873, -1.5008, -1.9809]],\n",
       "│           \n",
       "│                   [[ 0.7180, -1.4251, -0.4023],\n",
       "│                    [ 0.3873, -1.5008, -1.9809]],\n",
       "│           \n",
       "│                   [[ 0.7180, -1.4251, -0.4023],\n",
       "│                    [ 0.3873, -1.5008, -1.9809]],\n",
       "│           \n",
       "│                   [[ 0.7180, -1.4251, -0.4023],\n",
       "│                    [ 0.3873, -1.5008, -1.9809]],\n",
       "│           \n",
       "│                   [[ 0.7180, -1.4251, -0.4023],\n",
       "│                    [ 0.3873, -1.5008, -1.9809]],\n",
       "│           \n",
       "│                   [[ 0.7180, -1.4251, -0.4023],\n",
       "│                    [ 0.3873, -1.5008, -1.9809]],\n",
       "│           \n",
       "│                   [[ 0.7180, -1.4251, -0.4023],\n",
       "│                    [ 0.3873, -1.5008, -1.9809]],\n",
       "│           \n",
       "│                   [[ 0.7180, -1.4251, -0.4023],\n",
       "│                    [ 0.3873, -1.5008, -1.9809]]])\n",
       "└── 'x' --> <FastTreeValue 0x7f8f60d21460>\n",
       "    └── 'c' --> tensor([[[ 3.9525, -0.4756, -0.1471, -1.0205],\n",
       "                         [ 0.4388,  1.5708, -0.4817, -0.0550],\n",
       "                         [-0.6711,  1.0422,  0.8273, -1.5164]],\n",
       "                \n",
       "                        [[ 3.9525, -0.4756, -0.1471, -1.0205],\n",
       "                         [ 0.4388,  1.5708, -0.4817, -0.0550],\n",
       "                         [-0.6711,  1.0422,  0.8273, -1.5164]],\n",
       "                \n",
       "                        [[ 3.9525, -0.4756, -0.1471, -1.0205],\n",
       "                         [ 0.4388,  1.5708, -0.4817, -0.0550],\n",
       "                         [-0.6711,  1.0422,  0.8273, -1.5164]],\n",
       "                \n",
       "                        [[ 3.9525, -0.4756, -0.1471, -1.0205],\n",
       "                         [ 0.4388,  1.5708, -0.4817, -0.0550],\n",
       "                         [-0.6711,  1.0422,  0.8273, -1.5164]],\n",
       "                \n",
       "                        [[ 3.9525, -0.4756, -0.1471, -1.0205],\n",
       "                         [ 0.4388,  1.5708, -0.4817, -0.0550],\n",
       "                         [-0.6711,  1.0422,  0.8273, -1.5164]],\n",
       "                \n",
       "                        [[ 3.9525, -0.4756, -0.1471, -1.0205],\n",
       "                         [ 0.4388,  1.5708, -0.4817, -0.0550],\n",
       "                         [-0.6711,  1.0422,  0.8273, -1.5164]],\n",
       "                \n",
       "                        [[ 3.9525, -0.4756, -0.1471, -1.0205],\n",
       "                         [ 0.4388,  1.5708, -0.4817, -0.0550],\n",
       "                         [-0.6711,  1.0422,  0.8273, -1.5164]],\n",
       "                \n",
       "                        [[ 3.9525, -0.4756, -0.1471, -1.0205],\n",
       "                         [ 0.4388,  1.5708, -0.4817, -0.0550],\n",
       "                         [-0.6711,  1.0422,  0.8273, -1.5164]]])"
      ]
     },
     "execution_count": 20,
     "metadata": {},
     "output_type": "execute_result"
    }
   ],
   "source": [
    "t_stack = FastTreeValue.func(subside=True)(torch.stack)\n",
    "\n",
    "t_stack(trees)"
   ]
  },
  {
   "cell_type": "code",
   "execution_count": 21,
   "id": "f8b3f415",
   "metadata": {
    "execution": {
     "iopub.execute_input": "2023-02-27T08:52:25.677344Z",
     "iopub.status.busy": "2023-02-27T08:52:25.676740Z",
     "iopub.status.idle": "2023-02-27T08:52:29.624208Z",
     "shell.execute_reply": "2023-02-27T08:52:29.623080Z"
    }
   },
   "outputs": [
    {
     "name": "stdout",
     "output_type": "stream",
     "text": [
      "48.6 µs ± 678 ns per loop (mean ± std. dev. of 7 runs, 10,000 loops each)\n"
     ]
    }
   ],
   "source": [
    "%timeit t_stack(trees)"
   ]
  },
  {
   "cell_type": "code",
   "execution_count": 22,
   "id": "94b56771",
   "metadata": {
    "execution": {
     "iopub.execute_input": "2023-02-27T08:52:29.628154Z",
     "iopub.status.busy": "2023-02-27T08:52:29.627520Z",
     "iopub.status.idle": "2023-02-27T08:52:29.637850Z",
     "shell.execute_reply": "2023-02-27T08:52:29.636790Z"
    }
   },
   "outputs": [
    {
     "data": {
      "text/plain": [
       "<FastTreeValue 0x7f8f8c899b20>\n",
       "├── 'a' --> tensor([[ 0.7180, -1.4251, -0.4023],\n",
       "│                   [ 0.3873, -1.5008, -1.9809],\n",
       "│                   [ 0.7180, -1.4251, -0.4023],\n",
       "│                   [ 0.3873, -1.5008, -1.9809],\n",
       "│                   [ 0.7180, -1.4251, -0.4023],\n",
       "│                   [ 0.3873, -1.5008, -1.9809],\n",
       "│                   [ 0.7180, -1.4251, -0.4023],\n",
       "│                   [ 0.3873, -1.5008, -1.9809],\n",
       "│                   [ 0.7180, -1.4251, -0.4023],\n",
       "│                   [ 0.3873, -1.5008, -1.9809],\n",
       "│                   [ 0.7180, -1.4251, -0.4023],\n",
       "│                   [ 0.3873, -1.5008, -1.9809],\n",
       "│                   [ 0.7180, -1.4251, -0.4023],\n",
       "│                   [ 0.3873, -1.5008, -1.9809],\n",
       "│                   [ 0.7180, -1.4251, -0.4023],\n",
       "│                   [ 0.3873, -1.5008, -1.9809]])\n",
       "└── 'x' --> <FastTreeValue 0x7f8f8c899340>\n",
       "    └── 'c' --> tensor([[ 3.9525, -0.4756, -0.1471, -1.0205],\n",
       "                        [ 0.4388,  1.5708, -0.4817, -0.0550],\n",
       "                        [-0.6711,  1.0422,  0.8273, -1.5164],\n",
       "                        [ 3.9525, -0.4756, -0.1471, -1.0205],\n",
       "                        [ 0.4388,  1.5708, -0.4817, -0.0550],\n",
       "                        [-0.6711,  1.0422,  0.8273, -1.5164],\n",
       "                        [ 3.9525, -0.4756, -0.1471, -1.0205],\n",
       "                        [ 0.4388,  1.5708, -0.4817, -0.0550],\n",
       "                        [-0.6711,  1.0422,  0.8273, -1.5164],\n",
       "                        [ 3.9525, -0.4756, -0.1471, -1.0205],\n",
       "                        [ 0.4388,  1.5708, -0.4817, -0.0550],\n",
       "                        [-0.6711,  1.0422,  0.8273, -1.5164],\n",
       "                        [ 3.9525, -0.4756, -0.1471, -1.0205],\n",
       "                        [ 0.4388,  1.5708, -0.4817, -0.0550],\n",
       "                        [-0.6711,  1.0422,  0.8273, -1.5164],\n",
       "                        [ 3.9525, -0.4756, -0.1471, -1.0205],\n",
       "                        [ 0.4388,  1.5708, -0.4817, -0.0550],\n",
       "                        [-0.6711,  1.0422,  0.8273, -1.5164],\n",
       "                        [ 3.9525, -0.4756, -0.1471, -1.0205],\n",
       "                        [ 0.4388,  1.5708, -0.4817, -0.0550],\n",
       "                        [-0.6711,  1.0422,  0.8273, -1.5164],\n",
       "                        [ 3.9525, -0.4756, -0.1471, -1.0205],\n",
       "                        [ 0.4388,  1.5708, -0.4817, -0.0550],\n",
       "                        [-0.6711,  1.0422,  0.8273, -1.5164]])"
      ]
     },
     "execution_count": 22,
     "metadata": {},
     "output_type": "execute_result"
    }
   ],
   "source": [
    "t_cat = FastTreeValue.func(subside=True)(torch.cat)\n",
    "\n",
    "t_cat(trees)"
   ]
  },
  {
   "cell_type": "code",
   "execution_count": 23,
   "id": "5e9c06a6",
   "metadata": {
    "execution": {
     "iopub.execute_input": "2023-02-27T08:52:29.641848Z",
     "iopub.status.busy": "2023-02-27T08:52:29.640955Z",
     "iopub.status.idle": "2023-02-27T08:52:33.259598Z",
     "shell.execute_reply": "2023-02-27T08:52:33.258480Z"
    }
   },
   "outputs": [
    {
     "name": "stdout",
     "output_type": "stream",
     "text": [
      "44.4 µs ± 697 ns per loop (mean ± std. dev. of 7 runs, 10,000 loops each)\n"
     ]
    }
   ],
   "source": [
    "%timeit t_cat(trees)"
   ]
  },
  {
   "cell_type": "code",
   "execution_count": 24,
   "id": "a3ab5c8f",
   "metadata": {
    "execution": {
     "iopub.execute_input": "2023-02-27T08:52:33.265222Z",
     "iopub.status.busy": "2023-02-27T08:52:33.264675Z",
     "iopub.status.idle": "2023-02-27T08:52:40.199570Z",
     "shell.execute_reply": "2023-02-27T08:52:40.198452Z"
    }
   },
   "outputs": [
    {
     "name": "stdout",
     "output_type": "stream",
     "text": [
      "85.1 µs ± 1.39 µs per loop (mean ± std. dev. of 7 runs, 10,000 loops each)\n"
     ]
    }
   ],
   "source": [
    "t_split = FastTreeValue.func(rise=True)(torch.split)\n",
    "tree = FastTreeValue({\n",
    "    'obs': torch.randn(8, 4, 84, 84),\n",
    "    'action': torch.randint(0, 6, size=(8, 1,)),\n",
    "    'reward': torch.rand(8, 1),\n",
    "})\n",
    "\n",
    "%timeit t_split(tree, 1)"
   ]
  },
  {
   "cell_type": "markdown",
   "id": "31c3ec0b",
   "metadata": {},
   "source": [
    "### Performance of Tianshou Batch"
   ]
  },
  {
   "cell_type": "code",
   "execution_count": 25,
   "id": "9ead828a",
   "metadata": {
    "execution": {
     "iopub.execute_input": "2023-02-27T08:52:40.204044Z",
     "iopub.status.busy": "2023-02-27T08:52:40.203461Z",
     "iopub.status.idle": "2023-02-27T08:52:40.214599Z",
     "shell.execute_reply": "2023-02-27T08:52:40.213597Z"
    }
   },
   "outputs": [
    {
     "data": {
      "text/plain": [
       "Batch(\n",
       "    x: Batch(\n",
       "           c: tensor([[[ 3.9525, -0.4756, -0.1471, -1.0205],\n",
       "                       [ 0.4388,  1.5708, -0.4817, -0.0550],\n",
       "                       [-0.6711,  1.0422,  0.8273, -1.5164]],\n",
       "              \n",
       "                      [[ 3.9525, -0.4756, -0.1471, -1.0205],\n",
       "                       [ 0.4388,  1.5708, -0.4817, -0.0550],\n",
       "                       [-0.6711,  1.0422,  0.8273, -1.5164]],\n",
       "              \n",
       "                      [[ 3.9525, -0.4756, -0.1471, -1.0205],\n",
       "                       [ 0.4388,  1.5708, -0.4817, -0.0550],\n",
       "                       [-0.6711,  1.0422,  0.8273, -1.5164]],\n",
       "              \n",
       "                      [[ 3.9525, -0.4756, -0.1471, -1.0205],\n",
       "                       [ 0.4388,  1.5708, -0.4817, -0.0550],\n",
       "                       [-0.6711,  1.0422,  0.8273, -1.5164]],\n",
       "              \n",
       "                      [[ 3.9525, -0.4756, -0.1471, -1.0205],\n",
       "                       [ 0.4388,  1.5708, -0.4817, -0.0550],\n",
       "                       [-0.6711,  1.0422,  0.8273, -1.5164]],\n",
       "              \n",
       "                      [[ 3.9525, -0.4756, -0.1471, -1.0205],\n",
       "                       [ 0.4388,  1.5708, -0.4817, -0.0550],\n",
       "                       [-0.6711,  1.0422,  0.8273, -1.5164]],\n",
       "              \n",
       "                      [[ 3.9525, -0.4756, -0.1471, -1.0205],\n",
       "                       [ 0.4388,  1.5708, -0.4817, -0.0550],\n",
       "                       [-0.6711,  1.0422,  0.8273, -1.5164]],\n",
       "              \n",
       "                      [[ 3.9525, -0.4756, -0.1471, -1.0205],\n",
       "                       [ 0.4388,  1.5708, -0.4817, -0.0550],\n",
       "                       [-0.6711,  1.0422,  0.8273, -1.5164]]]),\n",
       "       ),\n",
       "    a: tensor([[[ 0.7180, -1.4251, -0.4023],\n",
       "                [ 0.3873, -1.5008, -1.9809]],\n",
       "       \n",
       "               [[ 0.7180, -1.4251, -0.4023],\n",
       "                [ 0.3873, -1.5008, -1.9809]],\n",
       "       \n",
       "               [[ 0.7180, -1.4251, -0.4023],\n",
       "                [ 0.3873, -1.5008, -1.9809]],\n",
       "       \n",
       "               [[ 0.7180, -1.4251, -0.4023],\n",
       "                [ 0.3873, -1.5008, -1.9809]],\n",
       "       \n",
       "               [[ 0.7180, -1.4251, -0.4023],\n",
       "                [ 0.3873, -1.5008, -1.9809]],\n",
       "       \n",
       "               [[ 0.7180, -1.4251, -0.4023],\n",
       "                [ 0.3873, -1.5008, -1.9809]],\n",
       "       \n",
       "               [[ 0.7180, -1.4251, -0.4023],\n",
       "                [ 0.3873, -1.5008, -1.9809]],\n",
       "       \n",
       "               [[ 0.7180, -1.4251, -0.4023],\n",
       "                [ 0.3873, -1.5008, -1.9809]]]),\n",
       ")"
      ]
     },
     "execution_count": 25,
     "metadata": {},
     "output_type": "execute_result"
    }
   ],
   "source": [
    "batches = [Batch(**_TREE_DATA_2) for _ in range(8)]\n",
    "\n",
    "Batch.stack(batches)"
   ]
  },
  {
   "cell_type": "code",
   "execution_count": 26,
   "id": "ec9037a3",
   "metadata": {
    "execution": {
     "iopub.execute_input": "2023-02-27T08:52:40.218021Z",
     "iopub.status.busy": "2023-02-27T08:52:40.217713Z",
     "iopub.status.idle": "2023-02-27T08:52:48.934941Z",
     "shell.execute_reply": "2023-02-27T08:52:48.933858Z"
    }
   },
   "outputs": [
    {
     "name": "stdout",
     "output_type": "stream",
     "text": [
      "107 µs ± 1.09 µs per loop (mean ± std. dev. of 7 runs, 10,000 loops each)\n"
     ]
    }
   ],
   "source": [
    "%timeit Batch.stack(batches)"
   ]
  },
  {
   "cell_type": "code",
   "execution_count": 27,
   "id": "cb8ab77e",
   "metadata": {
    "execution": {
     "iopub.execute_input": "2023-02-27T08:52:48.939140Z",
     "iopub.status.busy": "2023-02-27T08:52:48.938595Z",
     "iopub.status.idle": "2023-02-27T08:52:48.949066Z",
     "shell.execute_reply": "2023-02-27T08:52:48.948088Z"
    }
   },
   "outputs": [
    {
     "data": {
      "text/plain": [
       "Batch(\n",
       "    x: Batch(\n",
       "           c: tensor([[ 3.9525, -0.4756, -0.1471, -1.0205],\n",
       "                      [ 0.4388,  1.5708, -0.4817, -0.0550],\n",
       "                      [-0.6711,  1.0422,  0.8273, -1.5164],\n",
       "                      [ 3.9525, -0.4756, -0.1471, -1.0205],\n",
       "                      [ 0.4388,  1.5708, -0.4817, -0.0550],\n",
       "                      [-0.6711,  1.0422,  0.8273, -1.5164],\n",
       "                      [ 3.9525, -0.4756, -0.1471, -1.0205],\n",
       "                      [ 0.4388,  1.5708, -0.4817, -0.0550],\n",
       "                      [-0.6711,  1.0422,  0.8273, -1.5164],\n",
       "                      [ 3.9525, -0.4756, -0.1471, -1.0205],\n",
       "                      [ 0.4388,  1.5708, -0.4817, -0.0550],\n",
       "                      [-0.6711,  1.0422,  0.8273, -1.5164],\n",
       "                      [ 3.9525, -0.4756, -0.1471, -1.0205],\n",
       "                      [ 0.4388,  1.5708, -0.4817, -0.0550],\n",
       "                      [-0.6711,  1.0422,  0.8273, -1.5164],\n",
       "                      [ 3.9525, -0.4756, -0.1471, -1.0205],\n",
       "                      [ 0.4388,  1.5708, -0.4817, -0.0550],\n",
       "                      [-0.6711,  1.0422,  0.8273, -1.5164],\n",
       "                      [ 3.9525, -0.4756, -0.1471, -1.0205],\n",
       "                      [ 0.4388,  1.5708, -0.4817, -0.0550],\n",
       "                      [-0.6711,  1.0422,  0.8273, -1.5164],\n",
       "                      [ 3.9525, -0.4756, -0.1471, -1.0205],\n",
       "                      [ 0.4388,  1.5708, -0.4817, -0.0550],\n",
       "                      [-0.6711,  1.0422,  0.8273, -1.5164]]),\n",
       "       ),\n",
       "    a: tensor([[ 0.7180, -1.4251, -0.4023],\n",
       "               [ 0.3873, -1.5008, -1.9809],\n",
       "               [ 0.7180, -1.4251, -0.4023],\n",
       "               [ 0.3873, -1.5008, -1.9809],\n",
       "               [ 0.7180, -1.4251, -0.4023],\n",
       "               [ 0.3873, -1.5008, -1.9809],\n",
       "               [ 0.7180, -1.4251, -0.4023],\n",
       "               [ 0.3873, -1.5008, -1.9809],\n",
       "               [ 0.7180, -1.4251, -0.4023],\n",
       "               [ 0.3873, -1.5008, -1.9809],\n",
       "               [ 0.7180, -1.4251, -0.4023],\n",
       "               [ 0.3873, -1.5008, -1.9809],\n",
       "               [ 0.7180, -1.4251, -0.4023],\n",
       "               [ 0.3873, -1.5008, -1.9809],\n",
       "               [ 0.7180, -1.4251, -0.4023],\n",
       "               [ 0.3873, -1.5008, -1.9809]]),\n",
       ")"
      ]
     },
     "execution_count": 27,
     "metadata": {},
     "output_type": "execute_result"
    }
   ],
   "source": [
    "Batch.cat(batches)"
   ]
  },
  {
   "cell_type": "code",
   "execution_count": 28,
   "id": "18dfb045",
   "metadata": {
    "execution": {
     "iopub.execute_input": "2023-02-27T08:52:48.952453Z",
     "iopub.status.busy": "2023-02-27T08:52:48.952120Z",
     "iopub.status.idle": "2023-02-27T08:53:10.131584Z",
     "shell.execute_reply": "2023-02-27T08:53:10.130489Z"
    }
   },
   "outputs": [
    {
     "name": "stdout",
     "output_type": "stream",
     "text": [
      "261 µs ± 3.76 µs per loop (mean ± std. dev. of 7 runs, 10,000 loops each)\n"
     ]
    }
   ],
   "source": [
    "%timeit Batch.cat(batches)"
   ]
  },
  {
   "cell_type": "code",
   "execution_count": 29,
   "id": "c6688e51",
   "metadata": {
    "execution": {
     "iopub.execute_input": "2023-02-27T08:53:10.135678Z",
     "iopub.status.busy": "2023-02-27T08:53:10.135131Z",
     "iopub.status.idle": "2023-02-27T08:53:15.062843Z",
     "shell.execute_reply": "2023-02-27T08:53:15.061901Z"
    }
   },
   "outputs": [
    {
     "name": "stdout",
     "output_type": "stream",
     "text": [
      "608 µs ± 26.8 µs per loop (mean ± std. dev. of 7 runs, 1,000 loops each)\n"
     ]
    }
   ],
   "source": [
    "batch = Batch({\n",
    "    'obs': torch.randn(8, 4, 84, 84),\n",
    "    'action': torch.randint(0, 6, size=(8, 1,)),\n",
    "    'reward': torch.rand(8, 1)}\n",
    ")\n",
    "\n",
    "%timeit list(Batch.split(batch, 1, shuffle=False, merge_last=True))"
   ]
  },
  {
   "cell_type": "code",
   "execution_count": null,
   "id": "2539fbd9",
   "metadata": {},
   "outputs": [],
   "source": []
  }
 ],
 "metadata": {
  "kernelspec": {
   "display_name": "Python 3 (ipykernel)",
   "language": "python",
   "name": "python3"
  },
  "language_info": {
   "codemirror_mode": {
    "name": "ipython",
    "version": 3
   },
   "file_extension": ".py",
   "mimetype": "text/x-python",
   "name": "python",
   "nbconvert_exporter": "python",
   "pygments_lexer": "ipython3",
   "version": "3.8.16"
  }
 },
 "nbformat": 4,
 "nbformat_minor": 5
}
