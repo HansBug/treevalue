{
 "cells": [
  {
   "cell_type": "markdown",
   "id": "9d39d946",
   "metadata": {},
   "source": [
    "# Comparison Between TreeValue and Tianshou Batch"
   ]
  },
  {
   "cell_type": "markdown",
   "id": "3c6db2d4",
   "metadata": {},
   "source": [
    "In this section, we will take a look at the feature and performance of the [Tianshou Batch](https://github.com/thu-ml/tianshou) library, which is developed by Tsinghua Machine Learning Group."
   ]
  },
  {
   "cell_type": "markdown",
   "id": "069361b0",
   "metadata": {},
   "source": [
    "Before starting the comparison, let us define some thing."
   ]
  },
  {
   "cell_type": "code",
   "execution_count": 1,
   "id": "06fc8d26",
   "metadata": {
    "execution": {
     "iopub.execute_input": "2023-02-23T10:37:17.308982Z",
     "iopub.status.busy": "2023-02-23T10:37:17.308390Z",
     "iopub.status.idle": "2023-02-23T10:37:18.443159Z",
     "shell.execute_reply": "2023-02-23T10:37:18.442082Z"
    }
   },
   "outputs": [
    {
     "name": "stderr",
     "output_type": "stream",
     "text": [
      "/opt/hostedtoolcache/Python/3.8.16/x64/lib/python3.8/site-packages/tqdm/auto.py:22: TqdmWarning: IProgress not found. Please update jupyter and ipywidgets. See https://ipywidgets.readthedocs.io/en/stable/user_install.html\n",
      "  from .autonotebook import tqdm as notebook_tqdm\n"
     ]
    }
   ],
   "source": [
    "import torch \n",
    "\n",
    "_TREE_DATA_1 = {'a': 1, 'b': 2, 'x': {'c': 3, 'd': 4}}\n",
    "_TREE_DATA_2 = {\n",
    "    'a': torch.randn(2, 3), \n",
    "    'x': {\n",
    "        'c': torch.randn(3, 4)\n",
    "    },\n",
    "}\n",
    "_TREE_DATA_3 = {\n",
    "    'obs': torch.randn(4, 84, 84),\n",
    "    'action': torch.randint(0, 6, size=(1,)),\n",
    "    'reward': torch.rand(1),\n",
    "}"
   ]
  },
  {
   "cell_type": "markdown",
   "id": "83461b25",
   "metadata": {},
   "source": [
    "## Read and Write Operation"
   ]
  },
  {
   "cell_type": "markdown",
   "id": "067b3f73",
   "metadata": {},
   "source": [
    "Reading and writing are the two most common operations in the tree data structure based on the data model (TreeValue and Tianshou Batch both belong to this type), so this section will compare the reading and writing performance of these two libraries."
   ]
  },
  {
   "cell_type": "markdown",
   "id": "5d09a5b7",
   "metadata": {},
   "source": [
    "### TreeValue's Get and Set"
   ]
  },
  {
   "cell_type": "code",
   "execution_count": 2,
   "id": "9519c4bb",
   "metadata": {
    "execution": {
     "iopub.execute_input": "2023-02-23T10:37:18.446878Z",
     "iopub.status.busy": "2023-02-23T10:37:18.446523Z",
     "iopub.status.idle": "2023-02-23T10:37:18.489365Z",
     "shell.execute_reply": "2023-02-23T10:37:18.488180Z"
    }
   },
   "outputs": [],
   "source": [
    "from treevalue import FastTreeValue\n",
    "\n",
    "t = FastTreeValue(_TREE_DATA_2)"
   ]
  },
  {
   "cell_type": "code",
   "execution_count": 3,
   "id": "11c37677",
   "metadata": {
    "execution": {
     "iopub.execute_input": "2023-02-23T10:37:18.492931Z",
     "iopub.status.busy": "2023-02-23T10:37:18.492624Z",
     "iopub.status.idle": "2023-02-23T10:37:18.504686Z",
     "shell.execute_reply": "2023-02-23T10:37:18.503738Z"
    }
   },
   "outputs": [
    {
     "data": {
      "text/plain": [
       "<FastTreeValue 0x7f31cc54cfd0>\n",
       "├── 'a' --> tensor([[ 0.7428,  0.6912,  0.3849],\n",
       "│                   [-0.4436,  0.8304,  0.3536]])\n",
       "└── 'x' --> <FastTreeValue 0x7f31cc54c550>\n",
       "    └── 'c' --> tensor([[ 0.4438, -0.4646, -1.3777, -1.2495],\n",
       "                        [ 0.0920, -0.4071,  0.6370, -0.4344],\n",
       "                        [ 0.1094,  0.8878, -1.2897, -0.0629]])"
      ]
     },
     "execution_count": 3,
     "metadata": {},
     "output_type": "execute_result"
    }
   ],
   "source": [
    "t"
   ]
  },
  {
   "cell_type": "code",
   "execution_count": 4,
   "id": "fd70b0b9",
   "metadata": {
    "execution": {
     "iopub.execute_input": "2023-02-23T10:37:18.507861Z",
     "iopub.status.busy": "2023-02-23T10:37:18.507578Z",
     "iopub.status.idle": "2023-02-23T10:37:18.514000Z",
     "shell.execute_reply": "2023-02-23T10:37:18.513081Z"
    }
   },
   "outputs": [
    {
     "data": {
      "text/plain": [
       "tensor([[ 0.7428,  0.6912,  0.3849],\n",
       "        [-0.4436,  0.8304,  0.3536]])"
      ]
     },
     "execution_count": 4,
     "metadata": {},
     "output_type": "execute_result"
    }
   ],
   "source": [
    "t.a"
   ]
  },
  {
   "cell_type": "code",
   "execution_count": 5,
   "id": "c18197bd",
   "metadata": {
    "execution": {
     "iopub.execute_input": "2023-02-23T10:37:18.517455Z",
     "iopub.status.busy": "2023-02-23T10:37:18.517158Z",
     "iopub.status.idle": "2023-02-23T10:37:24.531006Z",
     "shell.execute_reply": "2023-02-23T10:37:24.529734Z"
    }
   },
   "outputs": [
    {
     "name": "stdout",
     "output_type": "stream",
     "text": [
      "74.6 ns ± 2.8 ns per loop (mean ± std. dev. of 7 runs, 10,000,000 loops each)\n"
     ]
    }
   ],
   "source": [
    "%timeit t.a"
   ]
  },
  {
   "cell_type": "code",
   "execution_count": 6,
   "id": "bd52f867",
   "metadata": {
    "execution": {
     "iopub.execute_input": "2023-02-23T10:37:24.534582Z",
     "iopub.status.busy": "2023-02-23T10:37:24.534289Z",
     "iopub.status.idle": "2023-02-23T10:37:24.544039Z",
     "shell.execute_reply": "2023-02-23T10:37:24.542993Z"
    }
   },
   "outputs": [
    {
     "data": {
      "text/plain": [
       "<FastTreeValue 0x7f31cc54cfd0>\n",
       "├── 'a' --> tensor([[-0.1977, -1.6350, -0.0590],\n",
       "│                   [ 0.3748,  0.5500, -0.6671]])\n",
       "└── 'x' --> <FastTreeValue 0x7f31cc54c550>\n",
       "    └── 'c' --> tensor([[ 0.4438, -0.4646, -1.3777, -1.2495],\n",
       "                        [ 0.0920, -0.4071,  0.6370, -0.4344],\n",
       "                        [ 0.1094,  0.8878, -1.2897, -0.0629]])"
      ]
     },
     "execution_count": 6,
     "metadata": {},
     "output_type": "execute_result"
    }
   ],
   "source": [
    "new_value = torch.randn(2, 3)\n",
    "t.a = new_value\n",
    "\n",
    "t"
   ]
  },
  {
   "cell_type": "code",
   "execution_count": 7,
   "id": "bbe04d1c",
   "metadata": {
    "execution": {
     "iopub.execute_input": "2023-02-23T10:37:24.547232Z",
     "iopub.status.busy": "2023-02-23T10:37:24.546963Z",
     "iopub.status.idle": "2023-02-23T10:37:30.637816Z",
     "shell.execute_reply": "2023-02-23T10:37:30.636800Z"
    }
   },
   "outputs": [
    {
     "name": "stdout",
     "output_type": "stream",
     "text": [
      "74.7 ns ± 1.41 ns per loop (mean ± std. dev. of 7 runs, 10,000,000 loops each)\n"
     ]
    }
   ],
   "source": [
    "%timeit t.a = new_value"
   ]
  },
  {
   "cell_type": "markdown",
   "id": "48c49731",
   "metadata": {},
   "source": [
    "### Tianshou Batch's Get and Set"
   ]
  },
  {
   "cell_type": "code",
   "execution_count": 8,
   "id": "f1bb14c1",
   "metadata": {
    "execution": {
     "iopub.execute_input": "2023-02-23T10:37:30.641715Z",
     "iopub.status.busy": "2023-02-23T10:37:30.641271Z",
     "iopub.status.idle": "2023-02-23T10:37:31.049095Z",
     "shell.execute_reply": "2023-02-23T10:37:31.048139Z"
    }
   },
   "outputs": [],
   "source": [
    "from tianshou.data import Batch\n",
    "\n",
    "b = Batch(**_TREE_DATA_2)"
   ]
  },
  {
   "cell_type": "code",
   "execution_count": 9,
   "id": "cb0777c3",
   "metadata": {
    "execution": {
     "iopub.execute_input": "2023-02-23T10:37:31.053324Z",
     "iopub.status.busy": "2023-02-23T10:37:31.052576Z",
     "iopub.status.idle": "2023-02-23T10:37:31.060534Z",
     "shell.execute_reply": "2023-02-23T10:37:31.059594Z"
    }
   },
   "outputs": [
    {
     "data": {
      "text/plain": [
       "Batch(\n",
       "    a: tensor([[ 0.7428,  0.6912,  0.3849],\n",
       "               [-0.4436,  0.8304,  0.3536]]),\n",
       "    x: Batch(\n",
       "           c: tensor([[ 0.4438, -0.4646, -1.3777, -1.2495],\n",
       "                      [ 0.0920, -0.4071,  0.6370, -0.4344],\n",
       "                      [ 0.1094,  0.8878, -1.2897, -0.0629]]),\n",
       "       ),\n",
       ")"
      ]
     },
     "execution_count": 9,
     "metadata": {},
     "output_type": "execute_result"
    }
   ],
   "source": [
    "b"
   ]
  },
  {
   "cell_type": "code",
   "execution_count": 10,
   "id": "43ef8ea3",
   "metadata": {
    "execution": {
     "iopub.execute_input": "2023-02-23T10:37:31.063827Z",
     "iopub.status.busy": "2023-02-23T10:37:31.063556Z",
     "iopub.status.idle": "2023-02-23T10:37:31.069344Z",
     "shell.execute_reply": "2023-02-23T10:37:31.068507Z"
    }
   },
   "outputs": [
    {
     "data": {
      "text/plain": [
       "tensor([[ 0.7428,  0.6912,  0.3849],\n",
       "        [-0.4436,  0.8304,  0.3536]])"
      ]
     },
     "execution_count": 10,
     "metadata": {},
     "output_type": "execute_result"
    }
   ],
   "source": [
    "b.a"
   ]
  },
  {
   "cell_type": "code",
   "execution_count": 11,
   "id": "b785ab72",
   "metadata": {
    "execution": {
     "iopub.execute_input": "2023-02-23T10:37:31.072457Z",
     "iopub.status.busy": "2023-02-23T10:37:31.072184Z",
     "iopub.status.idle": "2023-02-23T10:37:35.977515Z",
     "shell.execute_reply": "2023-02-23T10:37:35.976356Z"
    }
   },
   "outputs": [
    {
     "name": "stdout",
     "output_type": "stream",
     "text": [
      "60.5 ns ± 1.88 ns per loop (mean ± std. dev. of 7 runs, 10,000,000 loops each)\n"
     ]
    }
   ],
   "source": [
    "%timeit b.a"
   ]
  },
  {
   "cell_type": "code",
   "execution_count": 12,
   "id": "ad54dc69",
   "metadata": {
    "execution": {
     "iopub.execute_input": "2023-02-23T10:37:35.980616Z",
     "iopub.status.busy": "2023-02-23T10:37:35.980323Z",
     "iopub.status.idle": "2023-02-23T10:37:35.988539Z",
     "shell.execute_reply": "2023-02-23T10:37:35.987520Z"
    }
   },
   "outputs": [
    {
     "data": {
      "text/plain": [
       "Batch(\n",
       "    a: tensor([[-0.9300, -1.9146, -0.8438],\n",
       "               [ 1.3509,  0.1656,  0.6391]]),\n",
       "    x: Batch(\n",
       "           c: tensor([[ 0.4438, -0.4646, -1.3777, -1.2495],\n",
       "                      [ 0.0920, -0.4071,  0.6370, -0.4344],\n",
       "                      [ 0.1094,  0.8878, -1.2897, -0.0629]]),\n",
       "       ),\n",
       ")"
      ]
     },
     "execution_count": 12,
     "metadata": {},
     "output_type": "execute_result"
    }
   ],
   "source": [
    "new_value = torch.randn(2, 3)\n",
    "b.a = new_value\n",
    "\n",
    "b"
   ]
  },
  {
   "cell_type": "code",
   "execution_count": 13,
   "id": "29b1d0bf",
   "metadata": {
    "execution": {
     "iopub.execute_input": "2023-02-23T10:37:35.992034Z",
     "iopub.status.busy": "2023-02-23T10:37:35.991752Z",
     "iopub.status.idle": "2023-02-23T10:37:40.605480Z",
     "shell.execute_reply": "2023-02-23T10:37:40.604413Z"
    }
   },
   "outputs": [
    {
     "name": "stdout",
     "output_type": "stream",
     "text": [
      "569 ns ± 5.98 ns per loop (mean ± std. dev. of 7 runs, 1,000,000 loops each)\n"
     ]
    }
   ],
   "source": [
    "%timeit b.a = new_value"
   ]
  },
  {
   "cell_type": "markdown",
   "id": "b61ad1d0",
   "metadata": {},
   "source": [
    "## Initialization"
   ]
  },
  {
   "cell_type": "markdown",
   "id": "d70f0d54",
   "metadata": {},
   "source": [
    "### TreeValue's Initialization"
   ]
  },
  {
   "cell_type": "code",
   "execution_count": 14,
   "id": "d32a679b",
   "metadata": {
    "execution": {
     "iopub.execute_input": "2023-02-23T10:37:40.609130Z",
     "iopub.status.busy": "2023-02-23T10:37:40.608480Z",
     "iopub.status.idle": "2023-02-23T10:37:48.897420Z",
     "shell.execute_reply": "2023-02-23T10:37:48.896304Z"
    }
   },
   "outputs": [
    {
     "name": "stdout",
     "output_type": "stream",
     "text": [
      "1.03 µs ± 12.4 ns per loop (mean ± std. dev. of 7 runs, 1,000,000 loops each)\n"
     ]
    }
   ],
   "source": [
    "%timeit FastTreeValue(_TREE_DATA_1)"
   ]
  },
  {
   "cell_type": "markdown",
   "id": "24f3707b",
   "metadata": {},
   "source": [
    "### Tianshou Batch's Initialization"
   ]
  },
  {
   "cell_type": "code",
   "execution_count": 15,
   "id": "ac3958df",
   "metadata": {
    "execution": {
     "iopub.execute_input": "2023-02-23T10:37:48.901301Z",
     "iopub.status.busy": "2023-02-23T10:37:48.900996Z",
     "iopub.status.idle": "2023-02-23T10:37:59.899753Z",
     "shell.execute_reply": "2023-02-23T10:37:59.898742Z"
    }
   },
   "outputs": [
    {
     "name": "stdout",
     "output_type": "stream",
     "text": [
      "13.6 µs ± 194 ns per loop (mean ± std. dev. of 7 runs, 100,000 loops each)\n"
     ]
    }
   ],
   "source": [
    "%timeit Batch(**_TREE_DATA_1)"
   ]
  },
  {
   "cell_type": "markdown",
   "id": "1ab82e2d",
   "metadata": {},
   "source": [
    "## Deep Copy Operation"
   ]
  },
  {
   "cell_type": "code",
   "execution_count": 16,
   "id": "210a9442",
   "metadata": {
    "execution": {
     "iopub.execute_input": "2023-02-23T10:37:59.903839Z",
     "iopub.status.busy": "2023-02-23T10:37:59.903045Z",
     "iopub.status.idle": "2023-02-23T10:37:59.907858Z",
     "shell.execute_reply": "2023-02-23T10:37:59.906937Z"
    }
   },
   "outputs": [],
   "source": [
    "import copy"
   ]
  },
  {
   "cell_type": "markdown",
   "id": "5a736274",
   "metadata": {},
   "source": [
    "### Deep Copy of TreeValue"
   ]
  },
  {
   "cell_type": "code",
   "execution_count": 17,
   "id": "f9bcadd6",
   "metadata": {
    "execution": {
     "iopub.execute_input": "2023-02-23T10:37:59.911137Z",
     "iopub.status.busy": "2023-02-23T10:37:59.910606Z",
     "iopub.status.idle": "2023-02-23T10:38:02.320658Z",
     "shell.execute_reply": "2023-02-23T10:38:02.319617Z"
    }
   },
   "outputs": [
    {
     "name": "stdout",
     "output_type": "stream",
     "text": [
      "296 µs ± 12.9 µs per loop (mean ± std. dev. of 7 runs, 1,000 loops each)\n"
     ]
    }
   ],
   "source": [
    "t3 = FastTreeValue(_TREE_DATA_3)\n",
    "%timeit copy.deepcopy(t3)"
   ]
  },
  {
   "cell_type": "markdown",
   "id": "bf8be7ea",
   "metadata": {},
   "source": [
    "### Deep Copy of Tianshou Batch"
   ]
  },
  {
   "cell_type": "code",
   "execution_count": 18,
   "id": "91998e6f",
   "metadata": {
    "execution": {
     "iopub.execute_input": "2023-02-23T10:38:02.324619Z",
     "iopub.status.busy": "2023-02-23T10:38:02.324114Z",
     "iopub.status.idle": "2023-02-23T10:38:04.617440Z",
     "shell.execute_reply": "2023-02-23T10:38:04.616593Z"
    }
   },
   "outputs": [
    {
     "name": "stdout",
     "output_type": "stream",
     "text": [
      "282 µs ± 14 µs per loop (mean ± std. dev. of 7 runs, 1,000 loops each)\n"
     ]
    }
   ],
   "source": [
    "b3 = Batch(**_TREE_DATA_3)\n",
    "%timeit copy.deepcopy(b3)"
   ]
  },
  {
   "cell_type": "markdown",
   "id": "223162fb",
   "metadata": {},
   "source": [
    "## Stack, Concat and Split Operation"
   ]
  },
  {
   "cell_type": "markdown",
   "id": "85fa4a73",
   "metadata": {},
   "source": [
    "### Performance of TreeValue"
   ]
  },
  {
   "cell_type": "code",
   "execution_count": 19,
   "id": "a0c2b697",
   "metadata": {
    "execution": {
     "iopub.execute_input": "2023-02-23T10:38:04.621292Z",
     "iopub.status.busy": "2023-02-23T10:38:04.620784Z",
     "iopub.status.idle": "2023-02-23T10:38:04.625538Z",
     "shell.execute_reply": "2023-02-23T10:38:04.624682Z"
    }
   },
   "outputs": [],
   "source": [
    "trees = [FastTreeValue(_TREE_DATA_2) for _ in range(8)]"
   ]
  },
  {
   "cell_type": "code",
   "execution_count": 20,
   "id": "017ea5a5",
   "metadata": {
    "execution": {
     "iopub.execute_input": "2023-02-23T10:38:04.628782Z",
     "iopub.status.busy": "2023-02-23T10:38:04.628273Z",
     "iopub.status.idle": "2023-02-23T10:38:04.637094Z",
     "shell.execute_reply": "2023-02-23T10:38:04.636259Z"
    }
   },
   "outputs": [
    {
     "data": {
      "text/plain": [
       "<FastTreeValue 0x7f3127e8dcd0>\n",
       "├── 'a' --> tensor([[[ 0.7428,  0.6912,  0.3849],\n",
       "│                    [-0.4436,  0.8304,  0.3536]],\n",
       "│           \n",
       "│                   [[ 0.7428,  0.6912,  0.3849],\n",
       "│                    [-0.4436,  0.8304,  0.3536]],\n",
       "│           \n",
       "│                   [[ 0.7428,  0.6912,  0.3849],\n",
       "│                    [-0.4436,  0.8304,  0.3536]],\n",
       "│           \n",
       "│                   [[ 0.7428,  0.6912,  0.3849],\n",
       "│                    [-0.4436,  0.8304,  0.3536]],\n",
       "│           \n",
       "│                   [[ 0.7428,  0.6912,  0.3849],\n",
       "│                    [-0.4436,  0.8304,  0.3536]],\n",
       "│           \n",
       "│                   [[ 0.7428,  0.6912,  0.3849],\n",
       "│                    [-0.4436,  0.8304,  0.3536]],\n",
       "│           \n",
       "│                   [[ 0.7428,  0.6912,  0.3849],\n",
       "│                    [-0.4436,  0.8304,  0.3536]],\n",
       "│           \n",
       "│                   [[ 0.7428,  0.6912,  0.3849],\n",
       "│                    [-0.4436,  0.8304,  0.3536]]])\n",
       "└── 'x' --> <FastTreeValue 0x7f31218717f0>\n",
       "    └── 'c' --> tensor([[[ 0.4438, -0.4646, -1.3777, -1.2495],\n",
       "                         [ 0.0920, -0.4071,  0.6370, -0.4344],\n",
       "                         [ 0.1094,  0.8878, -1.2897, -0.0629]],\n",
       "                \n",
       "                        [[ 0.4438, -0.4646, -1.3777, -1.2495],\n",
       "                         [ 0.0920, -0.4071,  0.6370, -0.4344],\n",
       "                         [ 0.1094,  0.8878, -1.2897, -0.0629]],\n",
       "                \n",
       "                        [[ 0.4438, -0.4646, -1.3777, -1.2495],\n",
       "                         [ 0.0920, -0.4071,  0.6370, -0.4344],\n",
       "                         [ 0.1094,  0.8878, -1.2897, -0.0629]],\n",
       "                \n",
       "                        [[ 0.4438, -0.4646, -1.3777, -1.2495],\n",
       "                         [ 0.0920, -0.4071,  0.6370, -0.4344],\n",
       "                         [ 0.1094,  0.8878, -1.2897, -0.0629]],\n",
       "                \n",
       "                        [[ 0.4438, -0.4646, -1.3777, -1.2495],\n",
       "                         [ 0.0920, -0.4071,  0.6370, -0.4344],\n",
       "                         [ 0.1094,  0.8878, -1.2897, -0.0629]],\n",
       "                \n",
       "                        [[ 0.4438, -0.4646, -1.3777, -1.2495],\n",
       "                         [ 0.0920, -0.4071,  0.6370, -0.4344],\n",
       "                         [ 0.1094,  0.8878, -1.2897, -0.0629]],\n",
       "                \n",
       "                        [[ 0.4438, -0.4646, -1.3777, -1.2495],\n",
       "                         [ 0.0920, -0.4071,  0.6370, -0.4344],\n",
       "                         [ 0.1094,  0.8878, -1.2897, -0.0629]],\n",
       "                \n",
       "                        [[ 0.4438, -0.4646, -1.3777, -1.2495],\n",
       "                         [ 0.0920, -0.4071,  0.6370, -0.4344],\n",
       "                         [ 0.1094,  0.8878, -1.2897, -0.0629]]])"
      ]
     },
     "execution_count": 20,
     "metadata": {},
     "output_type": "execute_result"
    }
   ],
   "source": [
    "t_stack = FastTreeValue.func(subside=True)(torch.stack)\n",
    "\n",
    "t_stack(trees)"
   ]
  },
  {
   "cell_type": "code",
   "execution_count": 21,
   "id": "f8b3f415",
   "metadata": {
    "execution": {
     "iopub.execute_input": "2023-02-23T10:38:04.640230Z",
     "iopub.status.busy": "2023-02-23T10:38:04.639964Z",
     "iopub.status.idle": "2023-02-23T10:38:08.118436Z",
     "shell.execute_reply": "2023-02-23T10:38:08.117394Z"
    }
   },
   "outputs": [
    {
     "name": "stdout",
     "output_type": "stream",
     "text": [
      "42.6 µs ± 765 ns per loop (mean ± std. dev. of 7 runs, 10,000 loops each)\n"
     ]
    }
   ],
   "source": [
    "%timeit t_stack(trees)"
   ]
  },
  {
   "cell_type": "code",
   "execution_count": 22,
   "id": "94b56771",
   "metadata": {
    "execution": {
     "iopub.execute_input": "2023-02-23T10:38:08.122181Z",
     "iopub.status.busy": "2023-02-23T10:38:08.121892Z",
     "iopub.status.idle": "2023-02-23T10:38:08.133082Z",
     "shell.execute_reply": "2023-02-23T10:38:08.131982Z"
    }
   },
   "outputs": [
    {
     "data": {
      "text/plain": [
       "<FastTreeValue 0x7f3128059280>\n",
       "├── 'a' --> tensor([[ 0.7428,  0.6912,  0.3849],\n",
       "│                   [-0.4436,  0.8304,  0.3536],\n",
       "│                   [ 0.7428,  0.6912,  0.3849],\n",
       "│                   [-0.4436,  0.8304,  0.3536],\n",
       "│                   [ 0.7428,  0.6912,  0.3849],\n",
       "│                   [-0.4436,  0.8304,  0.3536],\n",
       "│                   [ 0.7428,  0.6912,  0.3849],\n",
       "│                   [-0.4436,  0.8304,  0.3536],\n",
       "│                   [ 0.7428,  0.6912,  0.3849],\n",
       "│                   [-0.4436,  0.8304,  0.3536],\n",
       "│                   [ 0.7428,  0.6912,  0.3849],\n",
       "│                   [-0.4436,  0.8304,  0.3536],\n",
       "│                   [ 0.7428,  0.6912,  0.3849],\n",
       "│                   [-0.4436,  0.8304,  0.3536],\n",
       "│                   [ 0.7428,  0.6912,  0.3849],\n",
       "│                   [-0.4436,  0.8304,  0.3536]])\n",
       "└── 'x' --> <FastTreeValue 0x7f31211bdb50>\n",
       "    └── 'c' --> tensor([[ 0.4438, -0.4646, -1.3777, -1.2495],\n",
       "                        [ 0.0920, -0.4071,  0.6370, -0.4344],\n",
       "                        [ 0.1094,  0.8878, -1.2897, -0.0629],\n",
       "                        [ 0.4438, -0.4646, -1.3777, -1.2495],\n",
       "                        [ 0.0920, -0.4071,  0.6370, -0.4344],\n",
       "                        [ 0.1094,  0.8878, -1.2897, -0.0629],\n",
       "                        [ 0.4438, -0.4646, -1.3777, -1.2495],\n",
       "                        [ 0.0920, -0.4071,  0.6370, -0.4344],\n",
       "                        [ 0.1094,  0.8878, -1.2897, -0.0629],\n",
       "                        [ 0.4438, -0.4646, -1.3777, -1.2495],\n",
       "                        [ 0.0920, -0.4071,  0.6370, -0.4344],\n",
       "                        [ 0.1094,  0.8878, -1.2897, -0.0629],\n",
       "                        [ 0.4438, -0.4646, -1.3777, -1.2495],\n",
       "                        [ 0.0920, -0.4071,  0.6370, -0.4344],\n",
       "                        [ 0.1094,  0.8878, -1.2897, -0.0629],\n",
       "                        [ 0.4438, -0.4646, -1.3777, -1.2495],\n",
       "                        [ 0.0920, -0.4071,  0.6370, -0.4344],\n",
       "                        [ 0.1094,  0.8878, -1.2897, -0.0629],\n",
       "                        [ 0.4438, -0.4646, -1.3777, -1.2495],\n",
       "                        [ 0.0920, -0.4071,  0.6370, -0.4344],\n",
       "                        [ 0.1094,  0.8878, -1.2897, -0.0629],\n",
       "                        [ 0.4438, -0.4646, -1.3777, -1.2495],\n",
       "                        [ 0.0920, -0.4071,  0.6370, -0.4344],\n",
       "                        [ 0.1094,  0.8878, -1.2897, -0.0629]])"
      ]
     },
     "execution_count": 22,
     "metadata": {},
     "output_type": "execute_result"
    }
   ],
   "source": [
    "t_cat = FastTreeValue.func(subside=True)(torch.cat)\n",
    "\n",
    "t_cat(trees)"
   ]
  },
  {
   "cell_type": "code",
   "execution_count": 23,
   "id": "5e9c06a6",
   "metadata": {
    "execution": {
     "iopub.execute_input": "2023-02-23T10:38:08.136900Z",
     "iopub.status.busy": "2023-02-23T10:38:08.136593Z",
     "iopub.status.idle": "2023-02-23T10:38:11.264176Z",
     "shell.execute_reply": "2023-02-23T10:38:11.263127Z"
    }
   },
   "outputs": [
    {
     "name": "stdout",
     "output_type": "stream",
     "text": [
      "38.5 µs ± 1.21 µs per loop (mean ± std. dev. of 7 runs, 10,000 loops each)\n"
     ]
    }
   ],
   "source": [
    "%timeit t_cat(trees)"
   ]
  },
  {
   "cell_type": "code",
   "execution_count": 24,
   "id": "a3ab5c8f",
   "metadata": {
    "execution": {
     "iopub.execute_input": "2023-02-23T10:38:11.268170Z",
     "iopub.status.busy": "2023-02-23T10:38:11.267553Z",
     "iopub.status.idle": "2023-02-23T10:38:17.583292Z",
     "shell.execute_reply": "2023-02-23T10:38:17.582305Z"
    }
   },
   "outputs": [
    {
     "name": "stdout",
     "output_type": "stream",
     "text": [
      "77.3 µs ± 1.34 µs per loop (mean ± std. dev. of 7 runs, 10,000 loops each)\n"
     ]
    }
   ],
   "source": [
    "t_split = FastTreeValue.func(rise=True)(torch.split)\n",
    "tree = FastTreeValue({\n",
    "    'obs': torch.randn(8, 4, 84, 84),\n",
    "    'action': torch.randint(0, 6, size=(8, 1,)),\n",
    "    'reward': torch.rand(8, 1),\n",
    "})\n",
    "\n",
    "%timeit t_split(tree, 1)"
   ]
  },
  {
   "cell_type": "markdown",
   "id": "31c3ec0b",
   "metadata": {},
   "source": [
    "### Performance of Tianshou Batch"
   ]
  },
  {
   "cell_type": "code",
   "execution_count": 25,
   "id": "9ead828a",
   "metadata": {
    "execution": {
     "iopub.execute_input": "2023-02-23T10:38:17.587006Z",
     "iopub.status.busy": "2023-02-23T10:38:17.586434Z",
     "iopub.status.idle": "2023-02-23T10:38:17.597506Z",
     "shell.execute_reply": "2023-02-23T10:38:17.596499Z"
    }
   },
   "outputs": [
    {
     "data": {
      "text/plain": [
       "Batch(\n",
       "    x: Batch(\n",
       "           c: tensor([[[ 0.4438, -0.4646, -1.3777, -1.2495],\n",
       "                       [ 0.0920, -0.4071,  0.6370, -0.4344],\n",
       "                       [ 0.1094,  0.8878, -1.2897, -0.0629]],\n",
       "              \n",
       "                      [[ 0.4438, -0.4646, -1.3777, -1.2495],\n",
       "                       [ 0.0920, -0.4071,  0.6370, -0.4344],\n",
       "                       [ 0.1094,  0.8878, -1.2897, -0.0629]],\n",
       "              \n",
       "                      [[ 0.4438, -0.4646, -1.3777, -1.2495],\n",
       "                       [ 0.0920, -0.4071,  0.6370, -0.4344],\n",
       "                       [ 0.1094,  0.8878, -1.2897, -0.0629]],\n",
       "              \n",
       "                      [[ 0.4438, -0.4646, -1.3777, -1.2495],\n",
       "                       [ 0.0920, -0.4071,  0.6370, -0.4344],\n",
       "                       [ 0.1094,  0.8878, -1.2897, -0.0629]],\n",
       "              \n",
       "                      [[ 0.4438, -0.4646, -1.3777, -1.2495],\n",
       "                       [ 0.0920, -0.4071,  0.6370, -0.4344],\n",
       "                       [ 0.1094,  0.8878, -1.2897, -0.0629]],\n",
       "              \n",
       "                      [[ 0.4438, -0.4646, -1.3777, -1.2495],\n",
       "                       [ 0.0920, -0.4071,  0.6370, -0.4344],\n",
       "                       [ 0.1094,  0.8878, -1.2897, -0.0629]],\n",
       "              \n",
       "                      [[ 0.4438, -0.4646, -1.3777, -1.2495],\n",
       "                       [ 0.0920, -0.4071,  0.6370, -0.4344],\n",
       "                       [ 0.1094,  0.8878, -1.2897, -0.0629]],\n",
       "              \n",
       "                      [[ 0.4438, -0.4646, -1.3777, -1.2495],\n",
       "                       [ 0.0920, -0.4071,  0.6370, -0.4344],\n",
       "                       [ 0.1094,  0.8878, -1.2897, -0.0629]]]),\n",
       "       ),\n",
       "    a: tensor([[[ 0.7428,  0.6912,  0.3849],\n",
       "                [-0.4436,  0.8304,  0.3536]],\n",
       "       \n",
       "               [[ 0.7428,  0.6912,  0.3849],\n",
       "                [-0.4436,  0.8304,  0.3536]],\n",
       "       \n",
       "               [[ 0.7428,  0.6912,  0.3849],\n",
       "                [-0.4436,  0.8304,  0.3536]],\n",
       "       \n",
       "               [[ 0.7428,  0.6912,  0.3849],\n",
       "                [-0.4436,  0.8304,  0.3536]],\n",
       "       \n",
       "               [[ 0.7428,  0.6912,  0.3849],\n",
       "                [-0.4436,  0.8304,  0.3536]],\n",
       "       \n",
       "               [[ 0.7428,  0.6912,  0.3849],\n",
       "                [-0.4436,  0.8304,  0.3536]],\n",
       "       \n",
       "               [[ 0.7428,  0.6912,  0.3849],\n",
       "                [-0.4436,  0.8304,  0.3536]],\n",
       "       \n",
       "               [[ 0.7428,  0.6912,  0.3849],\n",
       "                [-0.4436,  0.8304,  0.3536]]]),\n",
       ")"
      ]
     },
     "execution_count": 25,
     "metadata": {},
     "output_type": "execute_result"
    }
   ],
   "source": [
    "batches = [Batch(**_TREE_DATA_2) for _ in range(8)]\n",
    "\n",
    "Batch.stack(batches)"
   ]
  },
  {
   "cell_type": "code",
   "execution_count": 26,
   "id": "ec9037a3",
   "metadata": {
    "execution": {
     "iopub.execute_input": "2023-02-23T10:38:17.600743Z",
     "iopub.status.busy": "2023-02-23T10:38:17.600442Z",
     "iopub.status.idle": "2023-02-23T10:38:25.735834Z",
     "shell.execute_reply": "2023-02-23T10:38:25.734817Z"
    }
   },
   "outputs": [
    {
     "name": "stdout",
     "output_type": "stream",
     "text": [
      "100 µs ± 1.31 µs per loop (mean ± std. dev. of 7 runs, 10,000 loops each)\n"
     ]
    }
   ],
   "source": [
    "%timeit Batch.stack(batches)"
   ]
  },
  {
   "cell_type": "code",
   "execution_count": 27,
   "id": "cb8ab77e",
   "metadata": {
    "execution": {
     "iopub.execute_input": "2023-02-23T10:38:25.739971Z",
     "iopub.status.busy": "2023-02-23T10:38:25.739236Z",
     "iopub.status.idle": "2023-02-23T10:38:25.749406Z",
     "shell.execute_reply": "2023-02-23T10:38:25.748396Z"
    }
   },
   "outputs": [
    {
     "data": {
      "text/plain": [
       "Batch(\n",
       "    x: Batch(\n",
       "           c: tensor([[ 0.4438, -0.4646, -1.3777, -1.2495],\n",
       "                      [ 0.0920, -0.4071,  0.6370, -0.4344],\n",
       "                      [ 0.1094,  0.8878, -1.2897, -0.0629],\n",
       "                      [ 0.4438, -0.4646, -1.3777, -1.2495],\n",
       "                      [ 0.0920, -0.4071,  0.6370, -0.4344],\n",
       "                      [ 0.1094,  0.8878, -1.2897, -0.0629],\n",
       "                      [ 0.4438, -0.4646, -1.3777, -1.2495],\n",
       "                      [ 0.0920, -0.4071,  0.6370, -0.4344],\n",
       "                      [ 0.1094,  0.8878, -1.2897, -0.0629],\n",
       "                      [ 0.4438, -0.4646, -1.3777, -1.2495],\n",
       "                      [ 0.0920, -0.4071,  0.6370, -0.4344],\n",
       "                      [ 0.1094,  0.8878, -1.2897, -0.0629],\n",
       "                      [ 0.4438, -0.4646, -1.3777, -1.2495],\n",
       "                      [ 0.0920, -0.4071,  0.6370, -0.4344],\n",
       "                      [ 0.1094,  0.8878, -1.2897, -0.0629],\n",
       "                      [ 0.4438, -0.4646, -1.3777, -1.2495],\n",
       "                      [ 0.0920, -0.4071,  0.6370, -0.4344],\n",
       "                      [ 0.1094,  0.8878, -1.2897, -0.0629],\n",
       "                      [ 0.4438, -0.4646, -1.3777, -1.2495],\n",
       "                      [ 0.0920, -0.4071,  0.6370, -0.4344],\n",
       "                      [ 0.1094,  0.8878, -1.2897, -0.0629],\n",
       "                      [ 0.4438, -0.4646, -1.3777, -1.2495],\n",
       "                      [ 0.0920, -0.4071,  0.6370, -0.4344],\n",
       "                      [ 0.1094,  0.8878, -1.2897, -0.0629]]),\n",
       "       ),\n",
       "    a: tensor([[ 0.7428,  0.6912,  0.3849],\n",
       "               [-0.4436,  0.8304,  0.3536],\n",
       "               [ 0.7428,  0.6912,  0.3849],\n",
       "               [-0.4436,  0.8304,  0.3536],\n",
       "               [ 0.7428,  0.6912,  0.3849],\n",
       "               [-0.4436,  0.8304,  0.3536],\n",
       "               [ 0.7428,  0.6912,  0.3849],\n",
       "               [-0.4436,  0.8304,  0.3536],\n",
       "               [ 0.7428,  0.6912,  0.3849],\n",
       "               [-0.4436,  0.8304,  0.3536],\n",
       "               [ 0.7428,  0.6912,  0.3849],\n",
       "               [-0.4436,  0.8304,  0.3536],\n",
       "               [ 0.7428,  0.6912,  0.3849],\n",
       "               [-0.4436,  0.8304,  0.3536],\n",
       "               [ 0.7428,  0.6912,  0.3849],\n",
       "               [-0.4436,  0.8304,  0.3536]]),\n",
       ")"
      ]
     },
     "execution_count": 27,
     "metadata": {},
     "output_type": "execute_result"
    }
   ],
   "source": [
    "Batch.cat(batches)"
   ]
  },
  {
   "cell_type": "code",
   "execution_count": 28,
   "id": "18dfb045",
   "metadata": {
    "execution": {
     "iopub.execute_input": "2023-02-23T10:38:25.752719Z",
     "iopub.status.busy": "2023-02-23T10:38:25.752428Z",
     "iopub.status.idle": "2023-02-23T10:38:40.234365Z",
     "shell.execute_reply": "2023-02-23T10:38:40.233356Z"
    }
   },
   "outputs": [
    {
     "name": "stdout",
     "output_type": "stream",
     "text": [
      "178 µs ± 2.59 µs per loop (mean ± std. dev. of 7 runs, 10,000 loops each)\n"
     ]
    }
   ],
   "source": [
    "%timeit Batch.cat(batches)"
   ]
  },
  {
   "cell_type": "code",
   "execution_count": 29,
   "id": "c6688e51",
   "metadata": {
    "execution": {
     "iopub.execute_input": "2023-02-23T10:38:40.237765Z",
     "iopub.status.busy": "2023-02-23T10:38:40.237454Z",
     "iopub.status.idle": "2023-02-23T10:38:45.060928Z",
     "shell.execute_reply": "2023-02-23T10:38:45.060063Z"
    }
   },
   "outputs": [
    {
     "name": "stdout",
     "output_type": "stream",
     "text": [
      "595 µs ± 16.2 µs per loop (mean ± std. dev. of 7 runs, 1,000 loops each)\n"
     ]
    }
   ],
   "source": [
    "batch = Batch({\n",
    "    'obs': torch.randn(8, 4, 84, 84),\n",
    "    'action': torch.randint(0, 6, size=(8, 1,)),\n",
    "    'reward': torch.rand(8, 1)}\n",
    ")\n",
    "\n",
    "%timeit list(Batch.split(batch, 1, shuffle=False, merge_last=True))"
   ]
  },
  {
   "cell_type": "code",
   "execution_count": null,
   "id": "2539fbd9",
   "metadata": {},
   "outputs": [],
   "source": []
  }
 ],
 "metadata": {
  "kernelspec": {
   "display_name": "Python 3 (ipykernel)",
   "language": "python",
   "name": "python3"
  },
  "language_info": {
   "codemirror_mode": {
    "name": "ipython",
    "version": 3
   },
   "file_extension": ".py",
   "mimetype": "text/x-python",
   "name": "python",
   "nbconvert_exporter": "python",
   "pygments_lexer": "ipython3",
   "version": "3.8.16"
  }
 },
 "nbformat": 4,
 "nbformat_minor": 5
}
