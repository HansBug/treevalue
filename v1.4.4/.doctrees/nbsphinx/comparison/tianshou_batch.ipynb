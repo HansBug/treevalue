{
 "cells": [
  {
   "cell_type": "markdown",
   "id": "9d39d946",
   "metadata": {},
   "source": [
    "# Comparison Between TreeValue and Tianshou Batch"
   ]
  },
  {
   "cell_type": "markdown",
   "id": "3c6db2d4",
   "metadata": {},
   "source": [
    "In this section, we will take a look at the feature and performance of the [Tianshou Batch](https://github.com/thu-ml/tianshou) library, which is developed by Tsinghua Machine Learning Group."
   ]
  },
  {
   "cell_type": "markdown",
   "id": "069361b0",
   "metadata": {},
   "source": [
    "Before starting the comparison, let us define some thing."
   ]
  },
  {
   "cell_type": "code",
   "execution_count": 1,
   "id": "06fc8d26",
   "metadata": {
    "execution": {
     "iopub.execute_input": "2023-02-27T14:03:54.557254Z",
     "iopub.status.busy": "2023-02-27T14:03:54.557028Z",
     "iopub.status.idle": "2023-02-27T14:03:55.475606Z",
     "shell.execute_reply": "2023-02-27T14:03:55.474937Z"
    }
   },
   "outputs": [
    {
     "name": "stderr",
     "output_type": "stream",
     "text": [
      "/opt/hostedtoolcache/Python/3.8.16/x64/lib/python3.8/site-packages/tqdm/auto.py:22: TqdmWarning: IProgress not found. Please update jupyter and ipywidgets. See https://ipywidgets.readthedocs.io/en/stable/user_install.html\n",
      "  from .autonotebook import tqdm as notebook_tqdm\n"
     ]
    }
   ],
   "source": [
    "import torch \n",
    "\n",
    "_TREE_DATA_1 = {'a': 1, 'b': 2, 'x': {'c': 3, 'd': 4}}\n",
    "_TREE_DATA_2 = {\n",
    "    'a': torch.randn(2, 3), \n",
    "    'x': {\n",
    "        'c': torch.randn(3, 4)\n",
    "    },\n",
    "}\n",
    "_TREE_DATA_3 = {\n",
    "    'obs': torch.randn(4, 84, 84),\n",
    "    'action': torch.randint(0, 6, size=(1,)),\n",
    "    'reward': torch.rand(1),\n",
    "}"
   ]
  },
  {
   "cell_type": "markdown",
   "id": "83461b25",
   "metadata": {},
   "source": [
    "## Read and Write Operation"
   ]
  },
  {
   "cell_type": "markdown",
   "id": "067b3f73",
   "metadata": {},
   "source": [
    "Reading and writing are the two most common operations in the tree data structure based on the data model (TreeValue and Tianshou Batch both belong to this type), so this section will compare the reading and writing performance of these two libraries."
   ]
  },
  {
   "cell_type": "markdown",
   "id": "5d09a5b7",
   "metadata": {},
   "source": [
    "### TreeValue's Get and Set"
   ]
  },
  {
   "cell_type": "code",
   "execution_count": 2,
   "id": "9519c4bb",
   "metadata": {
    "execution": {
     "iopub.execute_input": "2023-02-27T14:03:55.478883Z",
     "iopub.status.busy": "2023-02-27T14:03:55.478296Z",
     "iopub.status.idle": "2023-02-27T14:03:55.759001Z",
     "shell.execute_reply": "2023-02-27T14:03:55.758314Z"
    }
   },
   "outputs": [],
   "source": [
    "from treevalue import FastTreeValue\n",
    "\n",
    "t = FastTreeValue(_TREE_DATA_2)"
   ]
  },
  {
   "cell_type": "code",
   "execution_count": 3,
   "id": "11c37677",
   "metadata": {
    "execution": {
     "iopub.execute_input": "2023-02-27T14:03:55.762591Z",
     "iopub.status.busy": "2023-02-27T14:03:55.761982Z",
     "iopub.status.idle": "2023-02-27T14:03:55.771330Z",
     "shell.execute_reply": "2023-02-27T14:03:55.770727Z"
    }
   },
   "outputs": [
    {
     "data": {
      "text/plain": [
       "<FastTreeValue 0x7f208cace130>\n",
       "├── 'a' --> tensor([[ 2.1633,  0.7938,  1.3251],\n",
       "│                   [ 2.1342,  0.5409, -0.3108]])\n",
       "└── 'x' --> <FastTreeValue 0x7f208cace970>\n",
       "    └── 'c' --> tensor([[ 1.0411,  0.6047, -0.2491, -2.0091],\n",
       "                        [ 1.8341, -0.3364, -0.5752, -0.2783],\n",
       "                        [ 0.9362, -0.8803, -0.7308,  1.1749]])"
      ]
     },
     "execution_count": 3,
     "metadata": {},
     "output_type": "execute_result"
    }
   ],
   "source": [
    "t"
   ]
  },
  {
   "cell_type": "code",
   "execution_count": 4,
   "id": "fd70b0b9",
   "metadata": {
    "execution": {
     "iopub.execute_input": "2023-02-27T14:03:55.773894Z",
     "iopub.status.busy": "2023-02-27T14:03:55.773542Z",
     "iopub.status.idle": "2023-02-27T14:03:55.778257Z",
     "shell.execute_reply": "2023-02-27T14:03:55.777605Z"
    }
   },
   "outputs": [
    {
     "data": {
      "text/plain": [
       "tensor([[ 2.1633,  0.7938,  1.3251],\n",
       "        [ 2.1342,  0.5409, -0.3108]])"
      ]
     },
     "execution_count": 4,
     "metadata": {},
     "output_type": "execute_result"
    }
   ],
   "source": [
    "t.a"
   ]
  },
  {
   "cell_type": "code",
   "execution_count": 5,
   "id": "c18197bd",
   "metadata": {
    "execution": {
     "iopub.execute_input": "2023-02-27T14:03:55.780749Z",
     "iopub.status.busy": "2023-02-27T14:03:55.780431Z",
     "iopub.status.idle": "2023-02-27T14:04:00.524476Z",
     "shell.execute_reply": "2023-02-27T14:04:00.523746Z"
    }
   },
   "outputs": [
    {
     "name": "stdout",
     "output_type": "stream",
     "text": [
      "57.6 ns ± 0.081 ns per loop (mean ± std. dev. of 7 runs, 10,000,000 loops each)\n"
     ]
    }
   ],
   "source": [
    "%timeit t.a"
   ]
  },
  {
   "cell_type": "code",
   "execution_count": 6,
   "id": "bd52f867",
   "metadata": {
    "execution": {
     "iopub.execute_input": "2023-02-27T14:04:00.527215Z",
     "iopub.status.busy": "2023-02-27T14:04:00.526770Z",
     "iopub.status.idle": "2023-02-27T14:04:00.533283Z",
     "shell.execute_reply": "2023-02-27T14:04:00.532677Z"
    }
   },
   "outputs": [
    {
     "data": {
      "text/plain": [
       "<FastTreeValue 0x7f208cace130>\n",
       "├── 'a' --> tensor([[ 0.8492, -0.8751,  1.1343],\n",
       "│                   [-0.8008, -0.9553,  0.8969]])\n",
       "└── 'x' --> <FastTreeValue 0x7f208cace970>\n",
       "    └── 'c' --> tensor([[ 1.0411,  0.6047, -0.2491, -2.0091],\n",
       "                        [ 1.8341, -0.3364, -0.5752, -0.2783],\n",
       "                        [ 0.9362, -0.8803, -0.7308,  1.1749]])"
      ]
     },
     "execution_count": 6,
     "metadata": {},
     "output_type": "execute_result"
    }
   ],
   "source": [
    "new_value = torch.randn(2, 3)\n",
    "t.a = new_value\n",
    "\n",
    "t"
   ]
  },
  {
   "cell_type": "code",
   "execution_count": 7,
   "id": "bbe04d1c",
   "metadata": {
    "execution": {
     "iopub.execute_input": "2023-02-27T14:04:00.535659Z",
     "iopub.status.busy": "2023-02-27T14:04:00.535323Z",
     "iopub.status.idle": "2023-02-27T14:04:05.296090Z",
     "shell.execute_reply": "2023-02-27T14:04:05.295376Z"
    }
   },
   "outputs": [
    {
     "name": "stdout",
     "output_type": "stream",
     "text": [
      "57.4 ns ± 0.0357 ns per loop (mean ± std. dev. of 7 runs, 10,000,000 loops each)\n"
     ]
    }
   ],
   "source": [
    "%timeit t.a = new_value"
   ]
  },
  {
   "cell_type": "markdown",
   "id": "48c49731",
   "metadata": {},
   "source": [
    "### Tianshou Batch's Get and Set"
   ]
  },
  {
   "cell_type": "code",
   "execution_count": 8,
   "id": "f1bb14c1",
   "metadata": {
    "execution": {
     "iopub.execute_input": "2023-02-27T14:04:05.299221Z",
     "iopub.status.busy": "2023-02-27T14:04:05.298650Z",
     "iopub.status.idle": "2023-02-27T14:04:05.634629Z",
     "shell.execute_reply": "2023-02-27T14:04:05.633951Z"
    }
   },
   "outputs": [],
   "source": [
    "from tianshou.data import Batch\n",
    "\n",
    "b = Batch(**_TREE_DATA_2)"
   ]
  },
  {
   "cell_type": "code",
   "execution_count": 9,
   "id": "cb0777c3",
   "metadata": {
    "execution": {
     "iopub.execute_input": "2023-02-27T14:04:05.638136Z",
     "iopub.status.busy": "2023-02-27T14:04:05.637422Z",
     "iopub.status.idle": "2023-02-27T14:04:05.643628Z",
     "shell.execute_reply": "2023-02-27T14:04:05.643054Z"
    }
   },
   "outputs": [
    {
     "data": {
      "text/plain": [
       "Batch(\n",
       "    a: tensor([[ 2.1633,  0.7938,  1.3251],\n",
       "               [ 2.1342,  0.5409, -0.3108]]),\n",
       "    x: Batch(\n",
       "           c: tensor([[ 1.0411,  0.6047, -0.2491, -2.0091],\n",
       "                      [ 1.8341, -0.3364, -0.5752, -0.2783],\n",
       "                      [ 0.9362, -0.8803, -0.7308,  1.1749]]),\n",
       "       ),\n",
       ")"
      ]
     },
     "execution_count": 9,
     "metadata": {},
     "output_type": "execute_result"
    }
   ],
   "source": [
    "b"
   ]
  },
  {
   "cell_type": "code",
   "execution_count": 10,
   "id": "43ef8ea3",
   "metadata": {
    "execution": {
     "iopub.execute_input": "2023-02-27T14:04:05.646193Z",
     "iopub.status.busy": "2023-02-27T14:04:05.645689Z",
     "iopub.status.idle": "2023-02-27T14:04:05.651048Z",
     "shell.execute_reply": "2023-02-27T14:04:05.650483Z"
    }
   },
   "outputs": [
    {
     "data": {
      "text/plain": [
       "tensor([[ 2.1633,  0.7938,  1.3251],\n",
       "        [ 2.1342,  0.5409, -0.3108]])"
      ]
     },
     "execution_count": 10,
     "metadata": {},
     "output_type": "execute_result"
    }
   ],
   "source": [
    "b.a"
   ]
  },
  {
   "cell_type": "code",
   "execution_count": 11,
   "id": "b785ab72",
   "metadata": {
    "execution": {
     "iopub.execute_input": "2023-02-27T14:04:05.653370Z",
     "iopub.status.busy": "2023-02-27T14:04:05.653025Z",
     "iopub.status.idle": "2023-02-27T14:04:10.248971Z",
     "shell.execute_reply": "2023-02-27T14:04:10.248215Z"
    }
   },
   "outputs": [
    {
     "name": "stdout",
     "output_type": "stream",
     "text": [
      "56.6 ns ± 0.0304 ns per loop (mean ± std. dev. of 7 runs, 10,000,000 loops each)\n"
     ]
    }
   ],
   "source": [
    "%timeit b.a"
   ]
  },
  {
   "cell_type": "code",
   "execution_count": 12,
   "id": "ad54dc69",
   "metadata": {
    "execution": {
     "iopub.execute_input": "2023-02-27T14:04:10.252171Z",
     "iopub.status.busy": "2023-02-27T14:04:10.251595Z",
     "iopub.status.idle": "2023-02-27T14:04:10.258269Z",
     "shell.execute_reply": "2023-02-27T14:04:10.257657Z"
    }
   },
   "outputs": [
    {
     "data": {
      "text/plain": [
       "Batch(\n",
       "    a: tensor([[-0.2873, -1.5631,  0.3232],\n",
       "               [ 1.3276, -0.1846,  1.1624]]),\n",
       "    x: Batch(\n",
       "           c: tensor([[ 1.0411,  0.6047, -0.2491, -2.0091],\n",
       "                      [ 1.8341, -0.3364, -0.5752, -0.2783],\n",
       "                      [ 0.9362, -0.8803, -0.7308,  1.1749]]),\n",
       "       ),\n",
       ")"
      ]
     },
     "execution_count": 12,
     "metadata": {},
     "output_type": "execute_result"
    }
   ],
   "source": [
    "new_value = torch.randn(2, 3)\n",
    "b.a = new_value\n",
    "\n",
    "b"
   ]
  },
  {
   "cell_type": "code",
   "execution_count": 13,
   "id": "29b1d0bf",
   "metadata": {
    "execution": {
     "iopub.execute_input": "2023-02-27T14:04:10.260693Z",
     "iopub.status.busy": "2023-02-27T14:04:10.260348Z",
     "iopub.status.idle": "2023-02-27T14:04:14.224025Z",
     "shell.execute_reply": "2023-02-27T14:04:14.223266Z"
    }
   },
   "outputs": [
    {
     "name": "stdout",
     "output_type": "stream",
     "text": [
      "488 ns ± 0.0931 ns per loop (mean ± std. dev. of 7 runs, 1,000,000 loops each)\n"
     ]
    }
   ],
   "source": [
    "%timeit b.a = new_value"
   ]
  },
  {
   "cell_type": "markdown",
   "id": "b61ad1d0",
   "metadata": {},
   "source": [
    "## Initialization"
   ]
  },
  {
   "cell_type": "markdown",
   "id": "d70f0d54",
   "metadata": {},
   "source": [
    "### TreeValue's Initialization"
   ]
  },
  {
   "cell_type": "code",
   "execution_count": 14,
   "id": "d32a679b",
   "metadata": {
    "execution": {
     "iopub.execute_input": "2023-02-27T14:04:14.227387Z",
     "iopub.status.busy": "2023-02-27T14:04:14.226746Z",
     "iopub.status.idle": "2023-02-27T14:04:21.145563Z",
     "shell.execute_reply": "2023-02-27T14:04:21.144816Z"
    }
   },
   "outputs": [
    {
     "name": "stdout",
     "output_type": "stream",
     "text": [
      "856 ns ± 0.192 ns per loop (mean ± std. dev. of 7 runs, 1,000,000 loops each)\n"
     ]
    }
   ],
   "source": [
    "%timeit FastTreeValue(_TREE_DATA_1)"
   ]
  },
  {
   "cell_type": "markdown",
   "id": "24f3707b",
   "metadata": {},
   "source": [
    "### Tianshou Batch's Initialization"
   ]
  },
  {
   "cell_type": "code",
   "execution_count": 15,
   "id": "ac3958df",
   "metadata": {
    "execution": {
     "iopub.execute_input": "2023-02-27T14:04:21.148339Z",
     "iopub.status.busy": "2023-02-27T14:04:21.148002Z",
     "iopub.status.idle": "2023-02-27T14:04:30.440422Z",
     "shell.execute_reply": "2023-02-27T14:04:30.439705Z"
    }
   },
   "outputs": [
    {
     "name": "stdout",
     "output_type": "stream",
     "text": [
      "11.4 µs ± 13.4 ns per loop (mean ± std. dev. of 7 runs, 100,000 loops each)\n"
     ]
    }
   ],
   "source": [
    "%timeit Batch(**_TREE_DATA_1)"
   ]
  },
  {
   "cell_type": "markdown",
   "id": "1ab82e2d",
   "metadata": {},
   "source": [
    "## Deep Copy Operation"
   ]
  },
  {
   "cell_type": "code",
   "execution_count": 16,
   "id": "210a9442",
   "metadata": {
    "execution": {
     "iopub.execute_input": "2023-02-27T14:04:30.443481Z",
     "iopub.status.busy": "2023-02-27T14:04:30.443127Z",
     "iopub.status.idle": "2023-02-27T14:04:30.446978Z",
     "shell.execute_reply": "2023-02-27T14:04:30.446372Z"
    }
   },
   "outputs": [],
   "source": [
    "import copy"
   ]
  },
  {
   "cell_type": "markdown",
   "id": "5a736274",
   "metadata": {},
   "source": [
    "### Deep Copy of TreeValue"
   ]
  },
  {
   "cell_type": "code",
   "execution_count": 17,
   "id": "f9bcadd6",
   "metadata": {
    "execution": {
     "iopub.execute_input": "2023-02-27T14:04:30.449823Z",
     "iopub.status.busy": "2023-02-27T14:04:30.449351Z",
     "iopub.status.idle": "2023-02-27T14:04:41.486281Z",
     "shell.execute_reply": "2023-02-27T14:04:41.485710Z"
    }
   },
   "outputs": [
    {
     "name": "stdout",
     "output_type": "stream",
     "text": [
      "136 µs ± 127 ns per loop (mean ± std. dev. of 7 runs, 10,000 loops each)\n"
     ]
    }
   ],
   "source": [
    "t3 = FastTreeValue(_TREE_DATA_3)\n",
    "%timeit copy.deepcopy(t3)"
   ]
  },
  {
   "cell_type": "markdown",
   "id": "bf8be7ea",
   "metadata": {},
   "source": [
    "### Deep Copy of Tianshou Batch"
   ]
  },
  {
   "cell_type": "code",
   "execution_count": 18,
   "id": "91998e6f",
   "metadata": {
    "execution": {
     "iopub.execute_input": "2023-02-27T14:04:41.489213Z",
     "iopub.status.busy": "2023-02-27T14:04:41.488578Z",
     "iopub.status.idle": "2023-02-27T14:04:52.752326Z",
     "shell.execute_reply": "2023-02-27T14:04:52.751776Z"
    }
   },
   "outputs": [
    {
     "name": "stdout",
     "output_type": "stream",
     "text": [
      "139 µs ± 256 ns per loop (mean ± std. dev. of 7 runs, 10,000 loops each)\n"
     ]
    }
   ],
   "source": [
    "b3 = Batch(**_TREE_DATA_3)\n",
    "%timeit copy.deepcopy(b3)"
   ]
  },
  {
   "cell_type": "markdown",
   "id": "223162fb",
   "metadata": {},
   "source": [
    "## Stack, Concat and Split Operation"
   ]
  },
  {
   "cell_type": "markdown",
   "id": "85fa4a73",
   "metadata": {},
   "source": [
    "### Performance of TreeValue"
   ]
  },
  {
   "cell_type": "code",
   "execution_count": 19,
   "id": "a0c2b697",
   "metadata": {
    "execution": {
     "iopub.execute_input": "2023-02-27T14:04:52.759074Z",
     "iopub.status.busy": "2023-02-27T14:04:52.758500Z",
     "iopub.status.idle": "2023-02-27T14:04:52.761969Z",
     "shell.execute_reply": "2023-02-27T14:04:52.761328Z"
    }
   },
   "outputs": [],
   "source": [
    "trees = [FastTreeValue(_TREE_DATA_2) for _ in range(8)]"
   ]
  },
  {
   "cell_type": "code",
   "execution_count": 20,
   "id": "017ea5a5",
   "metadata": {
    "execution": {
     "iopub.execute_input": "2023-02-27T14:04:52.764639Z",
     "iopub.status.busy": "2023-02-27T14:04:52.764132Z",
     "iopub.status.idle": "2023-02-27T14:04:52.771348Z",
     "shell.execute_reply": "2023-02-27T14:04:52.770672Z"
    }
   },
   "outputs": [
    {
     "data": {
      "text/plain": [
       "<FastTreeValue 0x7f208ca55310>\n",
       "├── 'a' --> tensor([[[ 2.1633,  0.7938,  1.3251],\n",
       "│                    [ 2.1342,  0.5409, -0.3108]],\n",
       "│           \n",
       "│                   [[ 2.1633,  0.7938,  1.3251],\n",
       "│                    [ 2.1342,  0.5409, -0.3108]],\n",
       "│           \n",
       "│                   [[ 2.1633,  0.7938,  1.3251],\n",
       "│                    [ 2.1342,  0.5409, -0.3108]],\n",
       "│           \n",
       "│                   [[ 2.1633,  0.7938,  1.3251],\n",
       "│                    [ 2.1342,  0.5409, -0.3108]],\n",
       "│           \n",
       "│                   [[ 2.1633,  0.7938,  1.3251],\n",
       "│                    [ 2.1342,  0.5409, -0.3108]],\n",
       "│           \n",
       "│                   [[ 2.1633,  0.7938,  1.3251],\n",
       "│                    [ 2.1342,  0.5409, -0.3108]],\n",
       "│           \n",
       "│                   [[ 2.1633,  0.7938,  1.3251],\n",
       "│                    [ 2.1342,  0.5409, -0.3108]],\n",
       "│           \n",
       "│                   [[ 2.1633,  0.7938,  1.3251],\n",
       "│                    [ 2.1342,  0.5409, -0.3108]]])\n",
       "└── 'x' --> <FastTreeValue 0x7f208ca55280>\n",
       "    └── 'c' --> tensor([[[ 1.0411,  0.6047, -0.2491, -2.0091],\n",
       "                         [ 1.8341, -0.3364, -0.5752, -0.2783],\n",
       "                         [ 0.9362, -0.8803, -0.7308,  1.1749]],\n",
       "                \n",
       "                        [[ 1.0411,  0.6047, -0.2491, -2.0091],\n",
       "                         [ 1.8341, -0.3364, -0.5752, -0.2783],\n",
       "                         [ 0.9362, -0.8803, -0.7308,  1.1749]],\n",
       "                \n",
       "                        [[ 1.0411,  0.6047, -0.2491, -2.0091],\n",
       "                         [ 1.8341, -0.3364, -0.5752, -0.2783],\n",
       "                         [ 0.9362, -0.8803, -0.7308,  1.1749]],\n",
       "                \n",
       "                        [[ 1.0411,  0.6047, -0.2491, -2.0091],\n",
       "                         [ 1.8341, -0.3364, -0.5752, -0.2783],\n",
       "                         [ 0.9362, -0.8803, -0.7308,  1.1749]],\n",
       "                \n",
       "                        [[ 1.0411,  0.6047, -0.2491, -2.0091],\n",
       "                         [ 1.8341, -0.3364, -0.5752, -0.2783],\n",
       "                         [ 0.9362, -0.8803, -0.7308,  1.1749]],\n",
       "                \n",
       "                        [[ 1.0411,  0.6047, -0.2491, -2.0091],\n",
       "                         [ 1.8341, -0.3364, -0.5752, -0.2783],\n",
       "                         [ 0.9362, -0.8803, -0.7308,  1.1749]],\n",
       "                \n",
       "                        [[ 1.0411,  0.6047, -0.2491, -2.0091],\n",
       "                         [ 1.8341, -0.3364, -0.5752, -0.2783],\n",
       "                         [ 0.9362, -0.8803, -0.7308,  1.1749]],\n",
       "                \n",
       "                        [[ 1.0411,  0.6047, -0.2491, -2.0091],\n",
       "                         [ 1.8341, -0.3364, -0.5752, -0.2783],\n",
       "                         [ 0.9362, -0.8803, -0.7308,  1.1749]]])"
      ]
     },
     "execution_count": 20,
     "metadata": {},
     "output_type": "execute_result"
    }
   ],
   "source": [
    "t_stack = FastTreeValue.func(subside=True)(torch.stack)\n",
    "\n",
    "t_stack(trees)"
   ]
  },
  {
   "cell_type": "code",
   "execution_count": 21,
   "id": "f8b3f415",
   "metadata": {
    "execution": {
     "iopub.execute_input": "2023-02-27T14:04:52.773724Z",
     "iopub.status.busy": "2023-02-27T14:04:52.773388Z",
     "iopub.status.idle": "2023-02-27T14:04:55.367538Z",
     "shell.execute_reply": "2023-02-27T14:04:55.366819Z"
    }
   },
   "outputs": [
    {
     "name": "stdout",
     "output_type": "stream",
     "text": [
      "32 µs ± 26.3 ns per loop (mean ± std. dev. of 7 runs, 10,000 loops each)\n"
     ]
    }
   ],
   "source": [
    "%timeit t_stack(trees)"
   ]
  },
  {
   "cell_type": "code",
   "execution_count": 22,
   "id": "94b56771",
   "metadata": {
    "execution": {
     "iopub.execute_input": "2023-02-27T14:04:55.370630Z",
     "iopub.status.busy": "2023-02-27T14:04:55.370274Z",
     "iopub.status.idle": "2023-02-27T14:04:55.378138Z",
     "shell.execute_reply": "2023-02-27T14:04:55.377546Z"
    }
   },
   "outputs": [
    {
     "data": {
      "text/plain": [
       "<FastTreeValue 0x7f205bfcbc10>\n",
       "├── 'a' --> tensor([[ 2.1633,  0.7938,  1.3251],\n",
       "│                   [ 2.1342,  0.5409, -0.3108],\n",
       "│                   [ 2.1633,  0.7938,  1.3251],\n",
       "│                   [ 2.1342,  0.5409, -0.3108],\n",
       "│                   [ 2.1633,  0.7938,  1.3251],\n",
       "│                   [ 2.1342,  0.5409, -0.3108],\n",
       "│                   [ 2.1633,  0.7938,  1.3251],\n",
       "│                   [ 2.1342,  0.5409, -0.3108],\n",
       "│                   [ 2.1633,  0.7938,  1.3251],\n",
       "│                   [ 2.1342,  0.5409, -0.3108],\n",
       "│                   [ 2.1633,  0.7938,  1.3251],\n",
       "│                   [ 2.1342,  0.5409, -0.3108],\n",
       "│                   [ 2.1633,  0.7938,  1.3251],\n",
       "│                   [ 2.1342,  0.5409, -0.3108],\n",
       "│                   [ 2.1633,  0.7938,  1.3251],\n",
       "│                   [ 2.1342,  0.5409, -0.3108]])\n",
       "└── 'x' --> <FastTreeValue 0x7f208cabadf0>\n",
       "    └── 'c' --> tensor([[ 1.0411,  0.6047, -0.2491, -2.0091],\n",
       "                        [ 1.8341, -0.3364, -0.5752, -0.2783],\n",
       "                        [ 0.9362, -0.8803, -0.7308,  1.1749],\n",
       "                        [ 1.0411,  0.6047, -0.2491, -2.0091],\n",
       "                        [ 1.8341, -0.3364, -0.5752, -0.2783],\n",
       "                        [ 0.9362, -0.8803, -0.7308,  1.1749],\n",
       "                        [ 1.0411,  0.6047, -0.2491, -2.0091],\n",
       "                        [ 1.8341, -0.3364, -0.5752, -0.2783],\n",
       "                        [ 0.9362, -0.8803, -0.7308,  1.1749],\n",
       "                        [ 1.0411,  0.6047, -0.2491, -2.0091],\n",
       "                        [ 1.8341, -0.3364, -0.5752, -0.2783],\n",
       "                        [ 0.9362, -0.8803, -0.7308,  1.1749],\n",
       "                        [ 1.0411,  0.6047, -0.2491, -2.0091],\n",
       "                        [ 1.8341, -0.3364, -0.5752, -0.2783],\n",
       "                        [ 0.9362, -0.8803, -0.7308,  1.1749],\n",
       "                        [ 1.0411,  0.6047, -0.2491, -2.0091],\n",
       "                        [ 1.8341, -0.3364, -0.5752, -0.2783],\n",
       "                        [ 0.9362, -0.8803, -0.7308,  1.1749],\n",
       "                        [ 1.0411,  0.6047, -0.2491, -2.0091],\n",
       "                        [ 1.8341, -0.3364, -0.5752, -0.2783],\n",
       "                        [ 0.9362, -0.8803, -0.7308,  1.1749],\n",
       "                        [ 1.0411,  0.6047, -0.2491, -2.0091],\n",
       "                        [ 1.8341, -0.3364, -0.5752, -0.2783],\n",
       "                        [ 0.9362, -0.8803, -0.7308,  1.1749]])"
      ]
     },
     "execution_count": 22,
     "metadata": {},
     "output_type": "execute_result"
    }
   ],
   "source": [
    "t_cat = FastTreeValue.func(subside=True)(torch.cat)\n",
    "\n",
    "t_cat(trees)"
   ]
  },
  {
   "cell_type": "code",
   "execution_count": 23,
   "id": "5e9c06a6",
   "metadata": {
    "execution": {
     "iopub.execute_input": "2023-02-27T14:04:55.380488Z",
     "iopub.status.busy": "2023-02-27T14:04:55.380149Z",
     "iopub.status.idle": "2023-02-27T14:04:57.827486Z",
     "shell.execute_reply": "2023-02-27T14:04:57.826771Z"
    }
   },
   "outputs": [
    {
     "name": "stdout",
     "output_type": "stream",
     "text": [
      "30.1 µs ± 36.6 ns per loop (mean ± std. dev. of 7 runs, 10,000 loops each)\n"
     ]
    }
   ],
   "source": [
    "%timeit t_cat(trees)"
   ]
  },
  {
   "cell_type": "code",
   "execution_count": 24,
   "id": "a3ab5c8f",
   "metadata": {
    "execution": {
     "iopub.execute_input": "2023-02-27T14:04:57.829989Z",
     "iopub.status.busy": "2023-02-27T14:04:57.829734Z",
     "iopub.status.idle": "2023-02-27T14:05:02.865931Z",
     "shell.execute_reply": "2023-02-27T14:05:02.865247Z"
    }
   },
   "outputs": [
    {
     "name": "stdout",
     "output_type": "stream",
     "text": [
      "61.9 µs ± 58.8 ns per loop (mean ± std. dev. of 7 runs, 10,000 loops each)\n"
     ]
    }
   ],
   "source": [
    "t_split = FastTreeValue.func(rise=True)(torch.split)\n",
    "tree = FastTreeValue({\n",
    "    'obs': torch.randn(8, 4, 84, 84),\n",
    "    'action': torch.randint(0, 6, size=(8, 1,)),\n",
    "    'reward': torch.rand(8, 1),\n",
    "})\n",
    "\n",
    "%timeit t_split(tree, 1)"
   ]
  },
  {
   "cell_type": "markdown",
   "id": "31c3ec0b",
   "metadata": {},
   "source": [
    "### Performance of Tianshou Batch"
   ]
  },
  {
   "cell_type": "code",
   "execution_count": 25,
   "id": "9ead828a",
   "metadata": {
    "execution": {
     "iopub.execute_input": "2023-02-27T14:05:02.868793Z",
     "iopub.status.busy": "2023-02-27T14:05:02.868251Z",
     "iopub.status.idle": "2023-02-27T14:05:02.876098Z",
     "shell.execute_reply": "2023-02-27T14:05:02.875511Z"
    }
   },
   "outputs": [
    {
     "data": {
      "text/plain": [
       "Batch(\n",
       "    x: Batch(\n",
       "           c: tensor([[[ 1.0411,  0.6047, -0.2491, -2.0091],\n",
       "                       [ 1.8341, -0.3364, -0.5752, -0.2783],\n",
       "                       [ 0.9362, -0.8803, -0.7308,  1.1749]],\n",
       "              \n",
       "                      [[ 1.0411,  0.6047, -0.2491, -2.0091],\n",
       "                       [ 1.8341, -0.3364, -0.5752, -0.2783],\n",
       "                       [ 0.9362, -0.8803, -0.7308,  1.1749]],\n",
       "              \n",
       "                      [[ 1.0411,  0.6047, -0.2491, -2.0091],\n",
       "                       [ 1.8341, -0.3364, -0.5752, -0.2783],\n",
       "                       [ 0.9362, -0.8803, -0.7308,  1.1749]],\n",
       "              \n",
       "                      [[ 1.0411,  0.6047, -0.2491, -2.0091],\n",
       "                       [ 1.8341, -0.3364, -0.5752, -0.2783],\n",
       "                       [ 0.9362, -0.8803, -0.7308,  1.1749]],\n",
       "              \n",
       "                      [[ 1.0411,  0.6047, -0.2491, -2.0091],\n",
       "                       [ 1.8341, -0.3364, -0.5752, -0.2783],\n",
       "                       [ 0.9362, -0.8803, -0.7308,  1.1749]],\n",
       "              \n",
       "                      [[ 1.0411,  0.6047, -0.2491, -2.0091],\n",
       "                       [ 1.8341, -0.3364, -0.5752, -0.2783],\n",
       "                       [ 0.9362, -0.8803, -0.7308,  1.1749]],\n",
       "              \n",
       "                      [[ 1.0411,  0.6047, -0.2491, -2.0091],\n",
       "                       [ 1.8341, -0.3364, -0.5752, -0.2783],\n",
       "                       [ 0.9362, -0.8803, -0.7308,  1.1749]],\n",
       "              \n",
       "                      [[ 1.0411,  0.6047, -0.2491, -2.0091],\n",
       "                       [ 1.8341, -0.3364, -0.5752, -0.2783],\n",
       "                       [ 0.9362, -0.8803, -0.7308,  1.1749]]]),\n",
       "       ),\n",
       "    a: tensor([[[ 2.1633,  0.7938,  1.3251],\n",
       "                [ 2.1342,  0.5409, -0.3108]],\n",
       "       \n",
       "               [[ 2.1633,  0.7938,  1.3251],\n",
       "                [ 2.1342,  0.5409, -0.3108]],\n",
       "       \n",
       "               [[ 2.1633,  0.7938,  1.3251],\n",
       "                [ 2.1342,  0.5409, -0.3108]],\n",
       "       \n",
       "               [[ 2.1633,  0.7938,  1.3251],\n",
       "                [ 2.1342,  0.5409, -0.3108]],\n",
       "       \n",
       "               [[ 2.1633,  0.7938,  1.3251],\n",
       "                [ 2.1342,  0.5409, -0.3108]],\n",
       "       \n",
       "               [[ 2.1633,  0.7938,  1.3251],\n",
       "                [ 2.1342,  0.5409, -0.3108]],\n",
       "       \n",
       "               [[ 2.1633,  0.7938,  1.3251],\n",
       "                [ 2.1342,  0.5409, -0.3108]],\n",
       "       \n",
       "               [[ 2.1633,  0.7938,  1.3251],\n",
       "                [ 2.1342,  0.5409, -0.3108]]]),\n",
       ")"
      ]
     },
     "execution_count": 25,
     "metadata": {},
     "output_type": "execute_result"
    }
   ],
   "source": [
    "batches = [Batch(**_TREE_DATA_2) for _ in range(8)]\n",
    "\n",
    "Batch.stack(batches)"
   ]
  },
  {
   "cell_type": "code",
   "execution_count": 26,
   "id": "ec9037a3",
   "metadata": {
    "execution": {
     "iopub.execute_input": "2023-02-27T14:05:02.878473Z",
     "iopub.status.busy": "2023-02-27T14:05:02.878136Z",
     "iopub.status.idle": "2023-02-27T14:05:09.206094Z",
     "shell.execute_reply": "2023-02-27T14:05:09.205404Z"
    }
   },
   "outputs": [
    {
     "name": "stdout",
     "output_type": "stream",
     "text": [
      "77.9 µs ± 223 ns per loop (mean ± std. dev. of 7 runs, 10,000 loops each)\n"
     ]
    }
   ],
   "source": [
    "%timeit Batch.stack(batches)"
   ]
  },
  {
   "cell_type": "code",
   "execution_count": 27,
   "id": "cb8ab77e",
   "metadata": {
    "execution": {
     "iopub.execute_input": "2023-02-27T14:05:09.209199Z",
     "iopub.status.busy": "2023-02-27T14:05:09.208676Z",
     "iopub.status.idle": "2023-02-27T14:05:09.216181Z",
     "shell.execute_reply": "2023-02-27T14:05:09.215596Z"
    }
   },
   "outputs": [
    {
     "data": {
      "text/plain": [
       "Batch(\n",
       "    x: Batch(\n",
       "           c: tensor([[ 1.0411,  0.6047, -0.2491, -2.0091],\n",
       "                      [ 1.8341, -0.3364, -0.5752, -0.2783],\n",
       "                      [ 0.9362, -0.8803, -0.7308,  1.1749],\n",
       "                      [ 1.0411,  0.6047, -0.2491, -2.0091],\n",
       "                      [ 1.8341, -0.3364, -0.5752, -0.2783],\n",
       "                      [ 0.9362, -0.8803, -0.7308,  1.1749],\n",
       "                      [ 1.0411,  0.6047, -0.2491, -2.0091],\n",
       "                      [ 1.8341, -0.3364, -0.5752, -0.2783],\n",
       "                      [ 0.9362, -0.8803, -0.7308,  1.1749],\n",
       "                      [ 1.0411,  0.6047, -0.2491, -2.0091],\n",
       "                      [ 1.8341, -0.3364, -0.5752, -0.2783],\n",
       "                      [ 0.9362, -0.8803, -0.7308,  1.1749],\n",
       "                      [ 1.0411,  0.6047, -0.2491, -2.0091],\n",
       "                      [ 1.8341, -0.3364, -0.5752, -0.2783],\n",
       "                      [ 0.9362, -0.8803, -0.7308,  1.1749],\n",
       "                      [ 1.0411,  0.6047, -0.2491, -2.0091],\n",
       "                      [ 1.8341, -0.3364, -0.5752, -0.2783],\n",
       "                      [ 0.9362, -0.8803, -0.7308,  1.1749],\n",
       "                      [ 1.0411,  0.6047, -0.2491, -2.0091],\n",
       "                      [ 1.8341, -0.3364, -0.5752, -0.2783],\n",
       "                      [ 0.9362, -0.8803, -0.7308,  1.1749],\n",
       "                      [ 1.0411,  0.6047, -0.2491, -2.0091],\n",
       "                      [ 1.8341, -0.3364, -0.5752, -0.2783],\n",
       "                      [ 0.9362, -0.8803, -0.7308,  1.1749]]),\n",
       "       ),\n",
       "    a: tensor([[ 2.1633,  0.7938,  1.3251],\n",
       "               [ 2.1342,  0.5409, -0.3108],\n",
       "               [ 2.1633,  0.7938,  1.3251],\n",
       "               [ 2.1342,  0.5409, -0.3108],\n",
       "               [ 2.1633,  0.7938,  1.3251],\n",
       "               [ 2.1342,  0.5409, -0.3108],\n",
       "               [ 2.1633,  0.7938,  1.3251],\n",
       "               [ 2.1342,  0.5409, -0.3108],\n",
       "               [ 2.1633,  0.7938,  1.3251],\n",
       "               [ 2.1342,  0.5409, -0.3108],\n",
       "               [ 2.1633,  0.7938,  1.3251],\n",
       "               [ 2.1342,  0.5409, -0.3108],\n",
       "               [ 2.1633,  0.7938,  1.3251],\n",
       "               [ 2.1342,  0.5409, -0.3108],\n",
       "               [ 2.1633,  0.7938,  1.3251],\n",
       "               [ 2.1342,  0.5409, -0.3108]]),\n",
       ")"
      ]
     },
     "execution_count": 27,
     "metadata": {},
     "output_type": "execute_result"
    }
   ],
   "source": [
    "Batch.cat(batches)"
   ]
  },
  {
   "cell_type": "code",
   "execution_count": 28,
   "id": "18dfb045",
   "metadata": {
    "execution": {
     "iopub.execute_input": "2023-02-27T14:05:09.219066Z",
     "iopub.status.busy": "2023-02-27T14:05:09.218590Z",
     "iopub.status.idle": "2023-02-27T14:05:20.909307Z",
     "shell.execute_reply": "2023-02-27T14:05:20.908580Z"
    }
   },
   "outputs": [
    {
     "name": "stdout",
     "output_type": "stream",
     "text": [
      "144 µs ± 282 ns per loop (mean ± std. dev. of 7 runs, 10,000 loops each)\n"
     ]
    }
   ],
   "source": [
    "%timeit Batch.cat(batches)"
   ]
  },
  {
   "cell_type": "code",
   "execution_count": 29,
   "id": "c6688e51",
   "metadata": {
    "execution": {
     "iopub.execute_input": "2023-02-27T14:05:20.912343Z",
     "iopub.status.busy": "2023-02-27T14:05:20.911757Z",
     "iopub.status.idle": "2023-02-27T14:05:23.385952Z",
     "shell.execute_reply": "2023-02-27T14:05:23.385308Z"
    }
   },
   "outputs": [
    {
     "name": "stdout",
     "output_type": "stream",
     "text": [
      "304 µs ± 2.38 µs per loop (mean ± std. dev. of 7 runs, 1,000 loops each)\n"
     ]
    }
   ],
   "source": [
    "batch = Batch({\n",
    "    'obs': torch.randn(8, 4, 84, 84),\n",
    "    'action': torch.randint(0, 6, size=(8, 1,)),\n",
    "    'reward': torch.rand(8, 1)}\n",
    ")\n",
    "\n",
    "%timeit list(Batch.split(batch, 1, shuffle=False, merge_last=True))"
   ]
  },
  {
   "cell_type": "code",
   "execution_count": null,
   "id": "2539fbd9",
   "metadata": {},
   "outputs": [],
   "source": []
  }
 ],
 "metadata": {
  "kernelspec": {
   "display_name": "Python 3 (ipykernel)",
   "language": "python",
   "name": "python3"
  },
  "language_info": {
   "codemirror_mode": {
    "name": "ipython",
    "version": 3
   },
   "file_extension": ".py",
   "mimetype": "text/x-python",
   "name": "python",
   "nbconvert_exporter": "python",
   "pygments_lexer": "ipython3",
   "version": "3.8.16"
  }
 },
 "nbformat": 4,
 "nbformat_minor": 5
}
