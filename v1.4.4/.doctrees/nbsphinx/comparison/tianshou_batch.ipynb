{
 "cells": [
  {
   "cell_type": "markdown",
   "id": "9d39d946",
   "metadata": {},
   "source": [
    "# Comparison Between TreeValue and Tianshou Batch"
   ]
  },
  {
   "cell_type": "markdown",
   "id": "3c6db2d4",
   "metadata": {},
   "source": [
    "In this section, we will take a look at the feature and performance of the [Tianshou Batch](https://github.com/thu-ml/tianshou) library, which is developed by Tsinghua Machine Learning Group."
   ]
  },
  {
   "cell_type": "markdown",
   "id": "069361b0",
   "metadata": {},
   "source": [
    "Before starting the comparison, let us define some thing."
   ]
  },
  {
   "cell_type": "code",
   "execution_count": 1,
   "id": "06fc8d26",
   "metadata": {
    "execution": {
     "iopub.execute_input": "2023-03-06T11:48:20.160289Z",
     "iopub.status.busy": "2023-03-06T11:48:20.160018Z",
     "iopub.status.idle": "2023-03-06T11:48:21.380289Z",
     "shell.execute_reply": "2023-03-06T11:48:21.379167Z"
    }
   },
   "outputs": [
    {
     "name": "stderr",
     "output_type": "stream",
     "text": [
      "/opt/hostedtoolcache/Python/3.8.16/x64/lib/python3.8/site-packages/tqdm/auto.py:21: TqdmWarning: IProgress not found. Please update jupyter and ipywidgets. See https://ipywidgets.readthedocs.io/en/stable/user_install.html\n",
      "  from .autonotebook import tqdm as notebook_tqdm\n"
     ]
    }
   ],
   "source": [
    "import torch \n",
    "\n",
    "_TREE_DATA_1 = {'a': 1, 'b': 2, 'x': {'c': 3, 'd': 4}}\n",
    "_TREE_DATA_2 = {\n",
    "    'a': torch.randn(2, 3), \n",
    "    'x': {\n",
    "        'c': torch.randn(3, 4)\n",
    "    },\n",
    "}\n",
    "_TREE_DATA_3 = {\n",
    "    'obs': torch.randn(4, 84, 84),\n",
    "    'action': torch.randint(0, 6, size=(1,)),\n",
    "    'reward': torch.rand(1),\n",
    "}"
   ]
  },
  {
   "cell_type": "markdown",
   "id": "83461b25",
   "metadata": {},
   "source": [
    "## Read and Write Operation"
   ]
  },
  {
   "cell_type": "markdown",
   "id": "067b3f73",
   "metadata": {},
   "source": [
    "Reading and writing are the two most common operations in the tree data structure based on the data model (TreeValue and Tianshou Batch both belong to this type), so this section will compare the reading and writing performance of these two libraries."
   ]
  },
  {
   "cell_type": "markdown",
   "id": "5d09a5b7",
   "metadata": {},
   "source": [
    "### TreeValue's Get and Set"
   ]
  },
  {
   "cell_type": "code",
   "execution_count": 2,
   "id": "9519c4bb",
   "metadata": {
    "execution": {
     "iopub.execute_input": "2023-03-06T11:48:21.384080Z",
     "iopub.status.busy": "2023-03-06T11:48:21.383703Z",
     "iopub.status.idle": "2023-03-06T11:48:21.728931Z",
     "shell.execute_reply": "2023-03-06T11:48:21.727941Z"
    }
   },
   "outputs": [],
   "source": [
    "from treevalue import FastTreeValue\n",
    "\n",
    "t = FastTreeValue(_TREE_DATA_2)"
   ]
  },
  {
   "cell_type": "code",
   "execution_count": 3,
   "id": "11c37677",
   "metadata": {
    "execution": {
     "iopub.execute_input": "2023-03-06T11:48:21.733153Z",
     "iopub.status.busy": "2023-03-06T11:48:21.732730Z",
     "iopub.status.idle": "2023-03-06T11:48:21.744673Z",
     "shell.execute_reply": "2023-03-06T11:48:21.743593Z"
    }
   },
   "outputs": [
    {
     "data": {
      "text/plain": [
       "<FastTreeValue 0x7f8ad5037220>\n",
       "├── 'a' --> tensor([[ 0.0617,  0.3741,  0.9139],\n",
       "│                   [ 0.5760, -0.3701,  0.5074]])\n",
       "└── 'x' --> <FastTreeValue 0x7f8ad50374c0>\n",
       "    └── 'c' --> tensor([[ 2.7675, -0.7212,  0.4946, -0.7720],\n",
       "                        [-0.4516,  0.4064, -0.7955, -0.4616],\n",
       "                        [ 1.2276, -2.4756, -0.3230,  1.9856]])"
      ]
     },
     "execution_count": 3,
     "metadata": {},
     "output_type": "execute_result"
    }
   ],
   "source": [
    "t"
   ]
  },
  {
   "cell_type": "code",
   "execution_count": 4,
   "id": "fd70b0b9",
   "metadata": {
    "execution": {
     "iopub.execute_input": "2023-03-06T11:48:21.747729Z",
     "iopub.status.busy": "2023-03-06T11:48:21.747449Z",
     "iopub.status.idle": "2023-03-06T11:48:21.755428Z",
     "shell.execute_reply": "2023-03-06T11:48:21.754183Z"
    }
   },
   "outputs": [
    {
     "data": {
      "text/plain": [
       "tensor([[ 0.0617,  0.3741,  0.9139],\n",
       "        [ 0.5760, -0.3701,  0.5074]])"
      ]
     },
     "execution_count": 4,
     "metadata": {},
     "output_type": "execute_result"
    }
   ],
   "source": [
    "t.a"
   ]
  },
  {
   "cell_type": "code",
   "execution_count": 5,
   "id": "c18197bd",
   "metadata": {
    "execution": {
     "iopub.execute_input": "2023-03-06T11:48:21.758599Z",
     "iopub.status.busy": "2023-03-06T11:48:21.758329Z",
     "iopub.status.idle": "2023-03-06T11:48:27.845555Z",
     "shell.execute_reply": "2023-03-06T11:48:27.843881Z"
    }
   },
   "outputs": [
    {
     "name": "stdout",
     "output_type": "stream",
     "text": [
      "75.9 ns ± 1.48 ns per loop (mean ± std. dev. of 7 runs, 10,000,000 loops each)\n"
     ]
    }
   ],
   "source": [
    "%timeit t.a"
   ]
  },
  {
   "cell_type": "code",
   "execution_count": 6,
   "id": "bd52f867",
   "metadata": {
    "execution": {
     "iopub.execute_input": "2023-03-06T11:48:27.849051Z",
     "iopub.status.busy": "2023-03-06T11:48:27.848790Z",
     "iopub.status.idle": "2023-03-06T11:48:27.857199Z",
     "shell.execute_reply": "2023-03-06T11:48:27.856089Z"
    }
   },
   "outputs": [
    {
     "data": {
      "text/plain": [
       "<FastTreeValue 0x7f8ad5037220>\n",
       "├── 'a' --> tensor([[-0.2907, -0.7748, -0.8628],\n",
       "│                   [ 1.3418, -0.5140,  0.5162]])\n",
       "└── 'x' --> <FastTreeValue 0x7f8ad50374c0>\n",
       "    └── 'c' --> tensor([[ 2.7675, -0.7212,  0.4946, -0.7720],\n",
       "                        [-0.4516,  0.4064, -0.7955, -0.4616],\n",
       "                        [ 1.2276, -2.4756, -0.3230,  1.9856]])"
      ]
     },
     "execution_count": 6,
     "metadata": {},
     "output_type": "execute_result"
    }
   ],
   "source": [
    "new_value = torch.randn(2, 3)\n",
    "t.a = new_value\n",
    "\n",
    "t"
   ]
  },
  {
   "cell_type": "code",
   "execution_count": 7,
   "id": "bbe04d1c",
   "metadata": {
    "execution": {
     "iopub.execute_input": "2023-03-06T11:48:27.860900Z",
     "iopub.status.busy": "2023-03-06T11:48:27.860562Z",
     "iopub.status.idle": "2023-03-06T11:48:33.712406Z",
     "shell.execute_reply": "2023-03-06T11:48:33.711411Z"
    }
   },
   "outputs": [
    {
     "name": "stdout",
     "output_type": "stream",
     "text": [
      "72.8 ns ± 1.7 ns per loop (mean ± std. dev. of 7 runs, 10,000,000 loops each)\n"
     ]
    }
   ],
   "source": [
    "%timeit t.a = new_value"
   ]
  },
  {
   "cell_type": "markdown",
   "id": "48c49731",
   "metadata": {},
   "source": [
    "### Tianshou Batch's Get and Set"
   ]
  },
  {
   "cell_type": "code",
   "execution_count": 8,
   "id": "f1bb14c1",
   "metadata": {
    "execution": {
     "iopub.execute_input": "2023-03-06T11:48:33.715639Z",
     "iopub.status.busy": "2023-03-06T11:48:33.715235Z",
     "iopub.status.idle": "2023-03-06T11:48:34.151743Z",
     "shell.execute_reply": "2023-03-06T11:48:34.150660Z"
    }
   },
   "outputs": [],
   "source": [
    "from tianshou.data import Batch\n",
    "\n",
    "b = Batch(**_TREE_DATA_2)"
   ]
  },
  {
   "cell_type": "code",
   "execution_count": 9,
   "id": "cb0777c3",
   "metadata": {
    "execution": {
     "iopub.execute_input": "2023-03-06T11:48:34.156127Z",
     "iopub.status.busy": "2023-03-06T11:48:34.155440Z",
     "iopub.status.idle": "2023-03-06T11:48:34.163757Z",
     "shell.execute_reply": "2023-03-06T11:48:34.162388Z"
    }
   },
   "outputs": [
    {
     "data": {
      "text/plain": [
       "Batch(\n",
       "    a: tensor([[ 0.0617,  0.3741,  0.9139],\n",
       "               [ 0.5760, -0.3701,  0.5074]]),\n",
       "    x: Batch(\n",
       "           c: tensor([[ 2.7675, -0.7212,  0.4946, -0.7720],\n",
       "                      [-0.4516,  0.4064, -0.7955, -0.4616],\n",
       "                      [ 1.2276, -2.4756, -0.3230,  1.9856]]),\n",
       "       ),\n",
       ")"
      ]
     },
     "execution_count": 9,
     "metadata": {},
     "output_type": "execute_result"
    }
   ],
   "source": [
    "b"
   ]
  },
  {
   "cell_type": "code",
   "execution_count": 10,
   "id": "43ef8ea3",
   "metadata": {
    "execution": {
     "iopub.execute_input": "2023-03-06T11:48:34.166876Z",
     "iopub.status.busy": "2023-03-06T11:48:34.166466Z",
     "iopub.status.idle": "2023-03-06T11:48:34.173278Z",
     "shell.execute_reply": "2023-03-06T11:48:34.172114Z"
    }
   },
   "outputs": [
    {
     "data": {
      "text/plain": [
       "tensor([[ 0.0617,  0.3741,  0.9139],\n",
       "        [ 0.5760, -0.3701,  0.5074]])"
      ]
     },
     "execution_count": 10,
     "metadata": {},
     "output_type": "execute_result"
    }
   ],
   "source": [
    "b.a"
   ]
  },
  {
   "cell_type": "code",
   "execution_count": 11,
   "id": "b785ab72",
   "metadata": {
    "execution": {
     "iopub.execute_input": "2023-03-06T11:48:34.176514Z",
     "iopub.status.busy": "2023-03-06T11:48:34.176251Z",
     "iopub.status.idle": "2023-03-06T11:48:39.644717Z",
     "shell.execute_reply": "2023-03-06T11:48:39.643728Z"
    }
   },
   "outputs": [
    {
     "name": "stdout",
     "output_type": "stream",
     "text": [
      "68.4 ns ± 1.11 ns per loop (mean ± std. dev. of 7 runs, 10,000,000 loops each)\n"
     ]
    }
   ],
   "source": [
    "%timeit b.a"
   ]
  },
  {
   "cell_type": "code",
   "execution_count": 12,
   "id": "ad54dc69",
   "metadata": {
    "execution": {
     "iopub.execute_input": "2023-03-06T11:48:39.648422Z",
     "iopub.status.busy": "2023-03-06T11:48:39.647932Z",
     "iopub.status.idle": "2023-03-06T11:48:39.656153Z",
     "shell.execute_reply": "2023-03-06T11:48:39.655228Z"
    }
   },
   "outputs": [
    {
     "data": {
      "text/plain": [
       "Batch(\n",
       "    a: tensor([[ 0.9432,  1.7892, -0.8365],\n",
       "               [ 0.2143, -0.2392,  1.4979]]),\n",
       "    x: Batch(\n",
       "           c: tensor([[ 2.7675, -0.7212,  0.4946, -0.7720],\n",
       "                      [-0.4516,  0.4064, -0.7955, -0.4616],\n",
       "                      [ 1.2276, -2.4756, -0.3230,  1.9856]]),\n",
       "       ),\n",
       ")"
      ]
     },
     "execution_count": 12,
     "metadata": {},
     "output_type": "execute_result"
    }
   ],
   "source": [
    "new_value = torch.randn(2, 3)\n",
    "b.a = new_value\n",
    "\n",
    "b"
   ]
  },
  {
   "cell_type": "code",
   "execution_count": 13,
   "id": "29b1d0bf",
   "metadata": {
    "execution": {
     "iopub.execute_input": "2023-03-06T11:48:39.659758Z",
     "iopub.status.busy": "2023-03-06T11:48:39.659305Z",
     "iopub.status.idle": "2023-03-06T11:48:44.721204Z",
     "shell.execute_reply": "2023-03-06T11:48:44.720178Z"
    }
   },
   "outputs": [
    {
     "name": "stdout",
     "output_type": "stream",
     "text": [
      "623 ns ± 11.3 ns per loop (mean ± std. dev. of 7 runs, 1,000,000 loops each)\n"
     ]
    }
   ],
   "source": [
    "%timeit b.a = new_value"
   ]
  },
  {
   "cell_type": "markdown",
   "id": "b61ad1d0",
   "metadata": {},
   "source": [
    "## Initialization"
   ]
  },
  {
   "cell_type": "markdown",
   "id": "d70f0d54",
   "metadata": {},
   "source": [
    "### TreeValue's Initialization"
   ]
  },
  {
   "cell_type": "code",
   "execution_count": 14,
   "id": "d32a679b",
   "metadata": {
    "execution": {
     "iopub.execute_input": "2023-03-06T11:48:44.725248Z",
     "iopub.status.busy": "2023-03-06T11:48:44.724751Z",
     "iopub.status.idle": "2023-03-06T11:48:53.290266Z",
     "shell.execute_reply": "2023-03-06T11:48:53.289361Z"
    }
   },
   "outputs": [
    {
     "name": "stdout",
     "output_type": "stream",
     "text": [
      "1.05 µs ± 24.3 ns per loop (mean ± std. dev. of 7 runs, 1,000,000 loops each)\n"
     ]
    }
   ],
   "source": [
    "%timeit FastTreeValue(_TREE_DATA_1)"
   ]
  },
  {
   "cell_type": "markdown",
   "id": "24f3707b",
   "metadata": {},
   "source": [
    "### Tianshou Batch's Initialization"
   ]
  },
  {
   "cell_type": "code",
   "execution_count": 15,
   "id": "ac3958df",
   "metadata": {
    "execution": {
     "iopub.execute_input": "2023-03-06T11:48:53.294071Z",
     "iopub.status.busy": "2023-03-06T11:48:53.293580Z",
     "iopub.status.idle": "2023-03-06T11:49:03.092362Z",
     "shell.execute_reply": "2023-03-06T11:49:03.091314Z"
    }
   },
   "outputs": [
    {
     "name": "stdout",
     "output_type": "stream",
     "text": [
      "12.1 µs ± 178 ns per loop (mean ± std. dev. of 7 runs, 100,000 loops each)\n"
     ]
    }
   ],
   "source": [
    "%timeit Batch(**_TREE_DATA_1)"
   ]
  },
  {
   "cell_type": "markdown",
   "id": "1ab82e2d",
   "metadata": {},
   "source": [
    "## Deep Copy Operation"
   ]
  },
  {
   "cell_type": "code",
   "execution_count": 16,
   "id": "210a9442",
   "metadata": {
    "execution": {
     "iopub.execute_input": "2023-03-06T11:49:03.095910Z",
     "iopub.status.busy": "2023-03-06T11:49:03.095568Z",
     "iopub.status.idle": "2023-03-06T11:49:03.100698Z",
     "shell.execute_reply": "2023-03-06T11:49:03.099775Z"
    }
   },
   "outputs": [],
   "source": [
    "import copy"
   ]
  },
  {
   "cell_type": "markdown",
   "id": "5a736274",
   "metadata": {},
   "source": [
    "### Deep Copy of TreeValue"
   ]
  },
  {
   "cell_type": "code",
   "execution_count": 17,
   "id": "f9bcadd6",
   "metadata": {
    "execution": {
     "iopub.execute_input": "2023-03-06T11:49:03.104241Z",
     "iopub.status.busy": "2023-03-06T11:49:03.103660Z",
     "iopub.status.idle": "2023-03-06T11:49:05.244382Z",
     "shell.execute_reply": "2023-03-06T11:49:05.243525Z"
    }
   },
   "outputs": [
    {
     "name": "stdout",
     "output_type": "stream",
     "text": [
      "264 µs ± 7.24 µs per loop (mean ± std. dev. of 7 runs, 1,000 loops each)\n"
     ]
    }
   ],
   "source": [
    "t3 = FastTreeValue(_TREE_DATA_3)\n",
    "%timeit copy.deepcopy(t3)"
   ]
  },
  {
   "cell_type": "markdown",
   "id": "bf8be7ea",
   "metadata": {},
   "source": [
    "### Deep Copy of Tianshou Batch"
   ]
  },
  {
   "cell_type": "code",
   "execution_count": 18,
   "id": "91998e6f",
   "metadata": {
    "execution": {
     "iopub.execute_input": "2023-03-06T11:49:05.248127Z",
     "iopub.status.busy": "2023-03-06T11:49:05.247624Z",
     "iopub.status.idle": "2023-03-06T11:49:07.343506Z",
     "shell.execute_reply": "2023-03-06T11:49:07.342716Z"
    }
   },
   "outputs": [
    {
     "name": "stdout",
     "output_type": "stream",
     "text": [
      "257 µs ± 11.3 µs per loop (mean ± std. dev. of 7 runs, 1,000 loops each)\n"
     ]
    }
   ],
   "source": [
    "b3 = Batch(**_TREE_DATA_3)\n",
    "%timeit copy.deepcopy(b3)"
   ]
  },
  {
   "cell_type": "markdown",
   "id": "223162fb",
   "metadata": {},
   "source": [
    "## Stack, Concat and Split Operation"
   ]
  },
  {
   "cell_type": "markdown",
   "id": "85fa4a73",
   "metadata": {},
   "source": [
    "### Performance of TreeValue"
   ]
  },
  {
   "cell_type": "code",
   "execution_count": 19,
   "id": "a0c2b697",
   "metadata": {
    "execution": {
     "iopub.execute_input": "2023-03-06T11:49:07.347104Z",
     "iopub.status.busy": "2023-03-06T11:49:07.346315Z",
     "iopub.status.idle": "2023-03-06T11:49:07.350565Z",
     "shell.execute_reply": "2023-03-06T11:49:07.349893Z"
    }
   },
   "outputs": [],
   "source": [
    "trees = [FastTreeValue(_TREE_DATA_2) for _ in range(8)]"
   ]
  },
  {
   "cell_type": "code",
   "execution_count": 20,
   "id": "017ea5a5",
   "metadata": {
    "execution": {
     "iopub.execute_input": "2023-03-06T11:49:07.353459Z",
     "iopub.status.busy": "2023-03-06T11:49:07.352952Z",
     "iopub.status.idle": "2023-03-06T11:49:07.361581Z",
     "shell.execute_reply": "2023-03-06T11:49:07.360795Z"
    }
   },
   "outputs": [
    {
     "data": {
      "text/plain": [
       "<FastTreeValue 0x7f8a1b858b50>\n",
       "├── 'a' --> tensor([[[ 0.0617,  0.3741,  0.9139],\n",
       "│                    [ 0.5760, -0.3701,  0.5074]],\n",
       "│           \n",
       "│                   [[ 0.0617,  0.3741,  0.9139],\n",
       "│                    [ 0.5760, -0.3701,  0.5074]],\n",
       "│           \n",
       "│                   [[ 0.0617,  0.3741,  0.9139],\n",
       "│                    [ 0.5760, -0.3701,  0.5074]],\n",
       "│           \n",
       "│                   [[ 0.0617,  0.3741,  0.9139],\n",
       "│                    [ 0.5760, -0.3701,  0.5074]],\n",
       "│           \n",
       "│                   [[ 0.0617,  0.3741,  0.9139],\n",
       "│                    [ 0.5760, -0.3701,  0.5074]],\n",
       "│           \n",
       "│                   [[ 0.0617,  0.3741,  0.9139],\n",
       "│                    [ 0.5760, -0.3701,  0.5074]],\n",
       "│           \n",
       "│                   [[ 0.0617,  0.3741,  0.9139],\n",
       "│                    [ 0.5760, -0.3701,  0.5074]],\n",
       "│           \n",
       "│                   [[ 0.0617,  0.3741,  0.9139],\n",
       "│                    [ 0.5760, -0.3701,  0.5074]]])\n",
       "└── 'x' --> <FastTreeValue 0x7f8a21efd400>\n",
       "    └── 'c' --> tensor([[[ 2.7675, -0.7212,  0.4946, -0.7720],\n",
       "                         [-0.4516,  0.4064, -0.7955, -0.4616],\n",
       "                         [ 1.2276, -2.4756, -0.3230,  1.9856]],\n",
       "                \n",
       "                        [[ 2.7675, -0.7212,  0.4946, -0.7720],\n",
       "                         [-0.4516,  0.4064, -0.7955, -0.4616],\n",
       "                         [ 1.2276, -2.4756, -0.3230,  1.9856]],\n",
       "                \n",
       "                        [[ 2.7675, -0.7212,  0.4946, -0.7720],\n",
       "                         [-0.4516,  0.4064, -0.7955, -0.4616],\n",
       "                         [ 1.2276, -2.4756, -0.3230,  1.9856]],\n",
       "                \n",
       "                        [[ 2.7675, -0.7212,  0.4946, -0.7720],\n",
       "                         [-0.4516,  0.4064, -0.7955, -0.4616],\n",
       "                         [ 1.2276, -2.4756, -0.3230,  1.9856]],\n",
       "                \n",
       "                        [[ 2.7675, -0.7212,  0.4946, -0.7720],\n",
       "                         [-0.4516,  0.4064, -0.7955, -0.4616],\n",
       "                         [ 1.2276, -2.4756, -0.3230,  1.9856]],\n",
       "                \n",
       "                        [[ 2.7675, -0.7212,  0.4946, -0.7720],\n",
       "                         [-0.4516,  0.4064, -0.7955, -0.4616],\n",
       "                         [ 1.2276, -2.4756, -0.3230,  1.9856]],\n",
       "                \n",
       "                        [[ 2.7675, -0.7212,  0.4946, -0.7720],\n",
       "                         [-0.4516,  0.4064, -0.7955, -0.4616],\n",
       "                         [ 1.2276, -2.4756, -0.3230,  1.9856]],\n",
       "                \n",
       "                        [[ 2.7675, -0.7212,  0.4946, -0.7720],\n",
       "                         [-0.4516,  0.4064, -0.7955, -0.4616],\n",
       "                         [ 1.2276, -2.4756, -0.3230,  1.9856]]])"
      ]
     },
     "execution_count": 20,
     "metadata": {},
     "output_type": "execute_result"
    }
   ],
   "source": [
    "t_stack = FastTreeValue.func(subside=True)(torch.stack)\n",
    "\n",
    "t_stack(trees)"
   ]
  },
  {
   "cell_type": "code",
   "execution_count": 21,
   "id": "f8b3f415",
   "metadata": {
    "execution": {
     "iopub.execute_input": "2023-03-06T11:49:07.364433Z",
     "iopub.status.busy": "2023-03-06T11:49:07.363957Z",
     "iopub.status.idle": "2023-03-06T11:49:10.814489Z",
     "shell.execute_reply": "2023-03-06T11:49:10.813136Z"
    }
   },
   "outputs": [
    {
     "name": "stdout",
     "output_type": "stream",
     "text": [
      "42 µs ± 816 ns per loop (mean ± std. dev. of 7 runs, 10,000 loops each)\n"
     ]
    }
   ],
   "source": [
    "%timeit t_stack(trees)"
   ]
  },
  {
   "cell_type": "code",
   "execution_count": 22,
   "id": "94b56771",
   "metadata": {
    "execution": {
     "iopub.execute_input": "2023-03-06T11:49:10.817922Z",
     "iopub.status.busy": "2023-03-06T11:49:10.817670Z",
     "iopub.status.idle": "2023-03-06T11:49:10.826713Z",
     "shell.execute_reply": "2023-03-06T11:49:10.825912Z"
    }
   },
   "outputs": [
    {
     "data": {
      "text/plain": [
       "<FastTreeValue 0x7f8a1b24f370>\n",
       "├── 'a' --> tensor([[ 0.0617,  0.3741,  0.9139],\n",
       "│                   [ 0.5760, -0.3701,  0.5074],\n",
       "│                   [ 0.0617,  0.3741,  0.9139],\n",
       "│                   [ 0.5760, -0.3701,  0.5074],\n",
       "│                   [ 0.0617,  0.3741,  0.9139],\n",
       "│                   [ 0.5760, -0.3701,  0.5074],\n",
       "│                   [ 0.0617,  0.3741,  0.9139],\n",
       "│                   [ 0.5760, -0.3701,  0.5074],\n",
       "│                   [ 0.0617,  0.3741,  0.9139],\n",
       "│                   [ 0.5760, -0.3701,  0.5074],\n",
       "│                   [ 0.0617,  0.3741,  0.9139],\n",
       "│                   [ 0.5760, -0.3701,  0.5074],\n",
       "│                   [ 0.0617,  0.3741,  0.9139],\n",
       "│                   [ 0.5760, -0.3701,  0.5074],\n",
       "│                   [ 0.0617,  0.3741,  0.9139],\n",
       "│                   [ 0.5760, -0.3701,  0.5074]])\n",
       "└── 'x' --> <FastTreeValue 0x7f8ad0fc5ac0>\n",
       "    └── 'c' --> tensor([[ 2.7675, -0.7212,  0.4946, -0.7720],\n",
       "                        [-0.4516,  0.4064, -0.7955, -0.4616],\n",
       "                        [ 1.2276, -2.4756, -0.3230,  1.9856],\n",
       "                        [ 2.7675, -0.7212,  0.4946, -0.7720],\n",
       "                        [-0.4516,  0.4064, -0.7955, -0.4616],\n",
       "                        [ 1.2276, -2.4756, -0.3230,  1.9856],\n",
       "                        [ 2.7675, -0.7212,  0.4946, -0.7720],\n",
       "                        [-0.4516,  0.4064, -0.7955, -0.4616],\n",
       "                        [ 1.2276, -2.4756, -0.3230,  1.9856],\n",
       "                        [ 2.7675, -0.7212,  0.4946, -0.7720],\n",
       "                        [-0.4516,  0.4064, -0.7955, -0.4616],\n",
       "                        [ 1.2276, -2.4756, -0.3230,  1.9856],\n",
       "                        [ 2.7675, -0.7212,  0.4946, -0.7720],\n",
       "                        [-0.4516,  0.4064, -0.7955, -0.4616],\n",
       "                        [ 1.2276, -2.4756, -0.3230,  1.9856],\n",
       "                        [ 2.7675, -0.7212,  0.4946, -0.7720],\n",
       "                        [-0.4516,  0.4064, -0.7955, -0.4616],\n",
       "                        [ 1.2276, -2.4756, -0.3230,  1.9856],\n",
       "                        [ 2.7675, -0.7212,  0.4946, -0.7720],\n",
       "                        [-0.4516,  0.4064, -0.7955, -0.4616],\n",
       "                        [ 1.2276, -2.4756, -0.3230,  1.9856],\n",
       "                        [ 2.7675, -0.7212,  0.4946, -0.7720],\n",
       "                        [-0.4516,  0.4064, -0.7955, -0.4616],\n",
       "                        [ 1.2276, -2.4756, -0.3230,  1.9856]])"
      ]
     },
     "execution_count": 22,
     "metadata": {},
     "output_type": "execute_result"
    }
   ],
   "source": [
    "t_cat = FastTreeValue.func(subside=True)(torch.cat)\n",
    "\n",
    "t_cat(trees)"
   ]
  },
  {
   "cell_type": "code",
   "execution_count": 23,
   "id": "5e9c06a6",
   "metadata": {
    "execution": {
     "iopub.execute_input": "2023-03-06T11:49:10.829681Z",
     "iopub.status.busy": "2023-03-06T11:49:10.829387Z",
     "iopub.status.idle": "2023-03-06T11:49:13.981059Z",
     "shell.execute_reply": "2023-03-06T11:49:13.980136Z"
    }
   },
   "outputs": [
    {
     "name": "stdout",
     "output_type": "stream",
     "text": [
      "38.6 µs ± 1.7 µs per loop (mean ± std. dev. of 7 runs, 10,000 loops each)\n"
     ]
    }
   ],
   "source": [
    "%timeit t_cat(trees)"
   ]
  },
  {
   "cell_type": "code",
   "execution_count": 24,
   "id": "a3ab5c8f",
   "metadata": {
    "execution": {
     "iopub.execute_input": "2023-03-06T11:49:13.985181Z",
     "iopub.status.busy": "2023-03-06T11:49:13.984829Z",
     "iopub.status.idle": "2023-03-06T11:49:20.202957Z",
     "shell.execute_reply": "2023-03-06T11:49:20.201872Z"
    }
   },
   "outputs": [
    {
     "name": "stdout",
     "output_type": "stream",
     "text": [
      "76 µs ± 1.91 µs per loop (mean ± std. dev. of 7 runs, 10,000 loops each)\n"
     ]
    }
   ],
   "source": [
    "t_split = FastTreeValue.func(rise=True)(torch.split)\n",
    "tree = FastTreeValue({\n",
    "    'obs': torch.randn(8, 4, 84, 84),\n",
    "    'action': torch.randint(0, 6, size=(8, 1,)),\n",
    "    'reward': torch.rand(8, 1),\n",
    "})\n",
    "\n",
    "%timeit t_split(tree, 1)"
   ]
  },
  {
   "cell_type": "markdown",
   "id": "31c3ec0b",
   "metadata": {},
   "source": [
    "### Performance of Tianshou Batch"
   ]
  },
  {
   "cell_type": "code",
   "execution_count": 25,
   "id": "9ead828a",
   "metadata": {
    "execution": {
     "iopub.execute_input": "2023-03-06T11:49:20.206105Z",
     "iopub.status.busy": "2023-03-06T11:49:20.205846Z",
     "iopub.status.idle": "2023-03-06T11:49:20.216471Z",
     "shell.execute_reply": "2023-03-06T11:49:20.215699Z"
    }
   },
   "outputs": [
    {
     "data": {
      "text/plain": [
       "Batch(\n",
       "    x: Batch(\n",
       "           c: tensor([[[ 2.7675, -0.7212,  0.4946, -0.7720],\n",
       "                       [-0.4516,  0.4064, -0.7955, -0.4616],\n",
       "                       [ 1.2276, -2.4756, -0.3230,  1.9856]],\n",
       "              \n",
       "                      [[ 2.7675, -0.7212,  0.4946, -0.7720],\n",
       "                       [-0.4516,  0.4064, -0.7955, -0.4616],\n",
       "                       [ 1.2276, -2.4756, -0.3230,  1.9856]],\n",
       "              \n",
       "                      [[ 2.7675, -0.7212,  0.4946, -0.7720],\n",
       "                       [-0.4516,  0.4064, -0.7955, -0.4616],\n",
       "                       [ 1.2276, -2.4756, -0.3230,  1.9856]],\n",
       "              \n",
       "                      [[ 2.7675, -0.7212,  0.4946, -0.7720],\n",
       "                       [-0.4516,  0.4064, -0.7955, -0.4616],\n",
       "                       [ 1.2276, -2.4756, -0.3230,  1.9856]],\n",
       "              \n",
       "                      [[ 2.7675, -0.7212,  0.4946, -0.7720],\n",
       "                       [-0.4516,  0.4064, -0.7955, -0.4616],\n",
       "                       [ 1.2276, -2.4756, -0.3230,  1.9856]],\n",
       "              \n",
       "                      [[ 2.7675, -0.7212,  0.4946, -0.7720],\n",
       "                       [-0.4516,  0.4064, -0.7955, -0.4616],\n",
       "                       [ 1.2276, -2.4756, -0.3230,  1.9856]],\n",
       "              \n",
       "                      [[ 2.7675, -0.7212,  0.4946, -0.7720],\n",
       "                       [-0.4516,  0.4064, -0.7955, -0.4616],\n",
       "                       [ 1.2276, -2.4756, -0.3230,  1.9856]],\n",
       "              \n",
       "                      [[ 2.7675, -0.7212,  0.4946, -0.7720],\n",
       "                       [-0.4516,  0.4064, -0.7955, -0.4616],\n",
       "                       [ 1.2276, -2.4756, -0.3230,  1.9856]]]),\n",
       "       ),\n",
       "    a: tensor([[[ 0.0617,  0.3741,  0.9139],\n",
       "                [ 0.5760, -0.3701,  0.5074]],\n",
       "       \n",
       "               [[ 0.0617,  0.3741,  0.9139],\n",
       "                [ 0.5760, -0.3701,  0.5074]],\n",
       "       \n",
       "               [[ 0.0617,  0.3741,  0.9139],\n",
       "                [ 0.5760, -0.3701,  0.5074]],\n",
       "       \n",
       "               [[ 0.0617,  0.3741,  0.9139],\n",
       "                [ 0.5760, -0.3701,  0.5074]],\n",
       "       \n",
       "               [[ 0.0617,  0.3741,  0.9139],\n",
       "                [ 0.5760, -0.3701,  0.5074]],\n",
       "       \n",
       "               [[ 0.0617,  0.3741,  0.9139],\n",
       "                [ 0.5760, -0.3701,  0.5074]],\n",
       "       \n",
       "               [[ 0.0617,  0.3741,  0.9139],\n",
       "                [ 0.5760, -0.3701,  0.5074]],\n",
       "       \n",
       "               [[ 0.0617,  0.3741,  0.9139],\n",
       "                [ 0.5760, -0.3701,  0.5074]]]),\n",
       ")"
      ]
     },
     "execution_count": 25,
     "metadata": {},
     "output_type": "execute_result"
    }
   ],
   "source": [
    "batches = [Batch(**_TREE_DATA_2) for _ in range(8)]\n",
    "\n",
    "Batch.stack(batches)"
   ]
  },
  {
   "cell_type": "code",
   "execution_count": 26,
   "id": "ec9037a3",
   "metadata": {
    "execution": {
     "iopub.execute_input": "2023-03-06T11:49:20.219919Z",
     "iopub.status.busy": "2023-03-06T11:49:20.219621Z",
     "iopub.status.idle": "2023-03-06T11:49:28.103397Z",
     "shell.execute_reply": "2023-03-06T11:49:28.102410Z"
    }
   },
   "outputs": [
    {
     "name": "stdout",
     "output_type": "stream",
     "text": [
      "96.6 µs ± 1.21 µs per loop (mean ± std. dev. of 7 runs, 10,000 loops each)\n"
     ]
    }
   ],
   "source": [
    "%timeit Batch.stack(batches)"
   ]
  },
  {
   "cell_type": "code",
   "execution_count": 27,
   "id": "cb8ab77e",
   "metadata": {
    "execution": {
     "iopub.execute_input": "2023-03-06T11:49:28.107131Z",
     "iopub.status.busy": "2023-03-06T11:49:28.106652Z",
     "iopub.status.idle": "2023-03-06T11:49:28.115598Z",
     "shell.execute_reply": "2023-03-06T11:49:28.114851Z"
    }
   },
   "outputs": [
    {
     "data": {
      "text/plain": [
       "Batch(\n",
       "    x: Batch(\n",
       "           c: tensor([[ 2.7675, -0.7212,  0.4946, -0.7720],\n",
       "                      [-0.4516,  0.4064, -0.7955, -0.4616],\n",
       "                      [ 1.2276, -2.4756, -0.3230,  1.9856],\n",
       "                      [ 2.7675, -0.7212,  0.4946, -0.7720],\n",
       "                      [-0.4516,  0.4064, -0.7955, -0.4616],\n",
       "                      [ 1.2276, -2.4756, -0.3230,  1.9856],\n",
       "                      [ 2.7675, -0.7212,  0.4946, -0.7720],\n",
       "                      [-0.4516,  0.4064, -0.7955, -0.4616],\n",
       "                      [ 1.2276, -2.4756, -0.3230,  1.9856],\n",
       "                      [ 2.7675, -0.7212,  0.4946, -0.7720],\n",
       "                      [-0.4516,  0.4064, -0.7955, -0.4616],\n",
       "                      [ 1.2276, -2.4756, -0.3230,  1.9856],\n",
       "                      [ 2.7675, -0.7212,  0.4946, -0.7720],\n",
       "                      [-0.4516,  0.4064, -0.7955, -0.4616],\n",
       "                      [ 1.2276, -2.4756, -0.3230,  1.9856],\n",
       "                      [ 2.7675, -0.7212,  0.4946, -0.7720],\n",
       "                      [-0.4516,  0.4064, -0.7955, -0.4616],\n",
       "                      [ 1.2276, -2.4756, -0.3230,  1.9856],\n",
       "                      [ 2.7675, -0.7212,  0.4946, -0.7720],\n",
       "                      [-0.4516,  0.4064, -0.7955, -0.4616],\n",
       "                      [ 1.2276, -2.4756, -0.3230,  1.9856],\n",
       "                      [ 2.7675, -0.7212,  0.4946, -0.7720],\n",
       "                      [-0.4516,  0.4064, -0.7955, -0.4616],\n",
       "                      [ 1.2276, -2.4756, -0.3230,  1.9856]]),\n",
       "       ),\n",
       "    a: tensor([[ 0.0617,  0.3741,  0.9139],\n",
       "               [ 0.5760, -0.3701,  0.5074],\n",
       "               [ 0.0617,  0.3741,  0.9139],\n",
       "               [ 0.5760, -0.3701,  0.5074],\n",
       "               [ 0.0617,  0.3741,  0.9139],\n",
       "               [ 0.5760, -0.3701,  0.5074],\n",
       "               [ 0.0617,  0.3741,  0.9139],\n",
       "               [ 0.5760, -0.3701,  0.5074],\n",
       "               [ 0.0617,  0.3741,  0.9139],\n",
       "               [ 0.5760, -0.3701,  0.5074],\n",
       "               [ 0.0617,  0.3741,  0.9139],\n",
       "               [ 0.5760, -0.3701,  0.5074],\n",
       "               [ 0.0617,  0.3741,  0.9139],\n",
       "               [ 0.5760, -0.3701,  0.5074],\n",
       "               [ 0.0617,  0.3741,  0.9139],\n",
       "               [ 0.5760, -0.3701,  0.5074]]),\n",
       ")"
      ]
     },
     "execution_count": 27,
     "metadata": {},
     "output_type": "execute_result"
    }
   ],
   "source": [
    "Batch.cat(batches)"
   ]
  },
  {
   "cell_type": "code",
   "execution_count": 28,
   "id": "18dfb045",
   "metadata": {
    "execution": {
     "iopub.execute_input": "2023-03-06T11:49:28.119041Z",
     "iopub.status.busy": "2023-03-06T11:49:28.118486Z",
     "iopub.status.idle": "2023-03-06T11:49:42.336389Z",
     "shell.execute_reply": "2023-03-06T11:49:42.335503Z"
    }
   },
   "outputs": [
    {
     "name": "stdout",
     "output_type": "stream",
     "text": [
      "177 µs ± 3.62 µs per loop (mean ± std. dev. of 7 runs, 10,000 loops each)\n"
     ]
    }
   ],
   "source": [
    "%timeit Batch.cat(batches)"
   ]
  },
  {
   "cell_type": "code",
   "execution_count": 29,
   "id": "c6688e51",
   "metadata": {
    "execution": {
     "iopub.execute_input": "2023-03-06T11:49:42.339758Z",
     "iopub.status.busy": "2023-03-06T11:49:42.339280Z",
     "iopub.status.idle": "2023-03-06T11:49:46.632346Z",
     "shell.execute_reply": "2023-03-06T11:49:46.627208Z"
    }
   },
   "outputs": [
    {
     "name": "stdout",
     "output_type": "stream",
     "text": [
      "529 µs ± 18 µs per loop (mean ± std. dev. of 7 runs, 1,000 loops each)\n"
     ]
    }
   ],
   "source": [
    "batch = Batch({\n",
    "    'obs': torch.randn(8, 4, 84, 84),\n",
    "    'action': torch.randint(0, 6, size=(8, 1,)),\n",
    "    'reward': torch.rand(8, 1)}\n",
    ")\n",
    "\n",
    "%timeit list(Batch.split(batch, 1, shuffle=False, merge_last=True))"
   ]
  },
  {
   "cell_type": "code",
   "execution_count": null,
   "id": "2539fbd9",
   "metadata": {},
   "outputs": [],
   "source": []
  }
 ],
 "metadata": {
  "kernelspec": {
   "display_name": "Python 3 (ipykernel)",
   "language": "python",
   "name": "python3"
  },
  "language_info": {
   "codemirror_mode": {
    "name": "ipython",
    "version": 3
   },
   "file_extension": ".py",
   "mimetype": "text/x-python",
   "name": "python",
   "nbconvert_exporter": "python",
   "pygments_lexer": "ipython3",
   "version": "3.8.16"
  }
 },
 "nbformat": 4,
 "nbformat_minor": 5
}
