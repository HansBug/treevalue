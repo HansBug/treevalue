{
 "cells": [
  {
   "cell_type": "markdown",
   "id": "9d39d946",
   "metadata": {},
   "source": [
    "# Comparison Between TreeValue and Tianshou Batch"
   ]
  },
  {
   "cell_type": "markdown",
   "id": "3c6db2d4",
   "metadata": {},
   "source": [
    "In this section, we will take a look at the feature and performance of the [Tianshou Batch](https://github.com/thu-ml/tianshou) library, which is developed by Tsinghua Machine Learning Group."
   ]
  },
  {
   "cell_type": "markdown",
   "id": "069361b0",
   "metadata": {},
   "source": [
    "Before starting the comparison, let us define some thing."
   ]
  },
  {
   "cell_type": "code",
   "execution_count": 1,
   "id": "06fc8d26",
   "metadata": {
    "execution": {
     "iopub.execute_input": "2023-02-12T18:15:18.009327Z",
     "iopub.status.busy": "2023-02-12T18:15:18.007970Z",
     "iopub.status.idle": "2023-02-12T18:15:19.148800Z",
     "shell.execute_reply": "2023-02-12T18:15:19.147901Z"
    }
   },
   "outputs": [
    {
     "name": "stderr",
     "output_type": "stream",
     "text": [
      "/opt/hostedtoolcache/Python/3.8.16/x64/lib/python3.8/site-packages/tqdm/auto.py:22: TqdmWarning: IProgress not found. Please update jupyter and ipywidgets. See https://ipywidgets.readthedocs.io/en/stable/user_install.html\n",
      "  from .autonotebook import tqdm as notebook_tqdm\n"
     ]
    }
   ],
   "source": [
    "import torch \n",
    "\n",
    "_TREE_DATA_1 = {'a': 1, 'b': 2, 'x': {'c': 3, 'd': 4}}\n",
    "_TREE_DATA_2 = {\n",
    "    'a': torch.randn(2, 3), \n",
    "    'x': {\n",
    "        'c': torch.randn(3, 4)\n",
    "    },\n",
    "}\n",
    "_TREE_DATA_3 = {\n",
    "    'obs': torch.randn(4, 84, 84),\n",
    "    'action': torch.randint(0, 6, size=(1,)),\n",
    "    'reward': torch.rand(1),\n",
    "}"
   ]
  },
  {
   "cell_type": "markdown",
   "id": "83461b25",
   "metadata": {},
   "source": [
    "## Read and Write Operation"
   ]
  },
  {
   "cell_type": "markdown",
   "id": "067b3f73",
   "metadata": {},
   "source": [
    "Reading and writing are the two most common operations in the tree data structure based on the data model (TreeValue and Tianshou Batch both belong to this type), so this section will compare the reading and writing performance of these two libraries."
   ]
  },
  {
   "cell_type": "markdown",
   "id": "5d09a5b7",
   "metadata": {},
   "source": [
    "### TreeValue's Get and Set"
   ]
  },
  {
   "cell_type": "code",
   "execution_count": 2,
   "id": "9519c4bb",
   "metadata": {
    "execution": {
     "iopub.execute_input": "2023-02-12T18:15:19.153024Z",
     "iopub.status.busy": "2023-02-12T18:15:19.152486Z",
     "iopub.status.idle": "2023-02-12T18:15:19.198839Z",
     "shell.execute_reply": "2023-02-12T18:15:19.197904Z"
    }
   },
   "outputs": [],
   "source": [
    "from treevalue import FastTreeValue\n",
    "\n",
    "t = FastTreeValue(_TREE_DATA_2)"
   ]
  },
  {
   "cell_type": "code",
   "execution_count": 3,
   "id": "11c37677",
   "metadata": {
    "execution": {
     "iopub.execute_input": "2023-02-12T18:15:19.202953Z",
     "iopub.status.busy": "2023-02-12T18:15:19.202420Z",
     "iopub.status.idle": "2023-02-12T18:15:19.215622Z",
     "shell.execute_reply": "2023-02-12T18:15:19.214796Z"
    }
   },
   "outputs": [
    {
     "data": {
      "text/plain": [
       "<FastTreeValue 0x7ff406575790>\n",
       "├── 'a' --> tensor([[-1.1621, -1.4581, -0.3053],\n",
       "│                   [ 1.8814, -0.1467, -0.5022]])\n",
       "└── 'x' --> <FastTreeValue 0x7ff406575670>\n",
       "    └── 'c' --> tensor([[-3.1926e-01,  2.3200e-04, -1.4527e+00, -4.8066e-01],\n",
       "                        [-2.1911e-01,  2.1841e+00,  1.0091e+00,  9.8179e-01],\n",
       "                        [ 5.0137e-01, -1.2766e-01,  3.0344e+00,  1.0387e+00]])"
      ]
     },
     "execution_count": 3,
     "metadata": {},
     "output_type": "execute_result"
    }
   ],
   "source": [
    "t"
   ]
  },
  {
   "cell_type": "code",
   "execution_count": 4,
   "id": "fd70b0b9",
   "metadata": {
    "execution": {
     "iopub.execute_input": "2023-02-12T18:15:19.219381Z",
     "iopub.status.busy": "2023-02-12T18:15:19.218749Z",
     "iopub.status.idle": "2023-02-12T18:15:19.226092Z",
     "shell.execute_reply": "2023-02-12T18:15:19.225401Z"
    }
   },
   "outputs": [
    {
     "data": {
      "text/plain": [
       "tensor([[-1.1621, -1.4581, -0.3053],\n",
       "        [ 1.8814, -0.1467, -0.5022]])"
      ]
     },
     "execution_count": 4,
     "metadata": {},
     "output_type": "execute_result"
    }
   ],
   "source": [
    "t.a"
   ]
  },
  {
   "cell_type": "code",
   "execution_count": 5,
   "id": "c18197bd",
   "metadata": {
    "execution": {
     "iopub.execute_input": "2023-02-12T18:15:19.229672Z",
     "iopub.status.busy": "2023-02-12T18:15:19.229025Z",
     "iopub.status.idle": "2023-02-12T18:15:25.460871Z",
     "shell.execute_reply": "2023-02-12T18:15:25.459952Z"
    }
   },
   "outputs": [
    {
     "name": "stdout",
     "output_type": "stream",
     "text": [
      "76.3 ns ± 0.461 ns per loop (mean ± std. dev. of 7 runs, 10,000,000 loops each)\n"
     ]
    }
   ],
   "source": [
    "%timeit t.a"
   ]
  },
  {
   "cell_type": "code",
   "execution_count": 6,
   "id": "bd52f867",
   "metadata": {
    "execution": {
     "iopub.execute_input": "2023-02-12T18:15:25.467506Z",
     "iopub.status.busy": "2023-02-12T18:15:25.464081Z",
     "iopub.status.idle": "2023-02-12T18:15:25.478904Z",
     "shell.execute_reply": "2023-02-12T18:15:25.476540Z"
    }
   },
   "outputs": [
    {
     "data": {
      "text/plain": [
       "<FastTreeValue 0x7ff406575790>\n",
       "├── 'a' --> tensor([[ 1.4254, -1.6790,  1.9003],\n",
       "│                   [-0.6092, -0.1756, -0.9940]])\n",
       "└── 'x' --> <FastTreeValue 0x7ff406575670>\n",
       "    └── 'c' --> tensor([[-3.1926e-01,  2.3200e-04, -1.4527e+00, -4.8066e-01],\n",
       "                        [-2.1911e-01,  2.1841e+00,  1.0091e+00,  9.8179e-01],\n",
       "                        [ 5.0137e-01, -1.2766e-01,  3.0344e+00,  1.0387e+00]])"
      ]
     },
     "execution_count": 6,
     "metadata": {},
     "output_type": "execute_result"
    }
   ],
   "source": [
    "new_value = torch.randn(2, 3)\n",
    "t.a = new_value\n",
    "\n",
    "t"
   ]
  },
  {
   "cell_type": "code",
   "execution_count": 7,
   "id": "bbe04d1c",
   "metadata": {
    "execution": {
     "iopub.execute_input": "2023-02-12T18:15:25.484292Z",
     "iopub.status.busy": "2023-02-12T18:15:25.483538Z",
     "iopub.status.idle": "2023-02-12T18:15:32.876267Z",
     "shell.execute_reply": "2023-02-12T18:15:32.873991Z"
    }
   },
   "outputs": [
    {
     "name": "stdout",
     "output_type": "stream",
     "text": [
      "91 ns ± 0.413 ns per loop (mean ± std. dev. of 7 runs, 10,000,000 loops each)\n"
     ]
    }
   ],
   "source": [
    "%timeit t.a = new_value"
   ]
  },
  {
   "cell_type": "markdown",
   "id": "48c49731",
   "metadata": {},
   "source": [
    "### Tianshou Batch's Get and Set"
   ]
  },
  {
   "cell_type": "code",
   "execution_count": 8,
   "id": "f1bb14c1",
   "metadata": {
    "execution": {
     "iopub.execute_input": "2023-02-12T18:15:32.879720Z",
     "iopub.status.busy": "2023-02-12T18:15:32.879251Z",
     "iopub.status.idle": "2023-02-12T18:15:33.321503Z",
     "shell.execute_reply": "2023-02-12T18:15:33.320478Z"
    }
   },
   "outputs": [],
   "source": [
    "from tianshou.data import Batch\n",
    "\n",
    "b = Batch(**_TREE_DATA_2)"
   ]
  },
  {
   "cell_type": "code",
   "execution_count": 9,
   "id": "cb0777c3",
   "metadata": {
    "execution": {
     "iopub.execute_input": "2023-02-12T18:15:33.325289Z",
     "iopub.status.busy": "2023-02-12T18:15:33.324855Z",
     "iopub.status.idle": "2023-02-12T18:15:33.332429Z",
     "shell.execute_reply": "2023-02-12T18:15:33.331687Z"
    }
   },
   "outputs": [
    {
     "data": {
      "text/plain": [
       "Batch(\n",
       "    a: tensor([[-1.1621, -1.4581, -0.3053],\n",
       "               [ 1.8814, -0.1467, -0.5022]]),\n",
       "    x: Batch(\n",
       "           c: tensor([[-3.1926e-01,  2.3200e-04, -1.4527e+00, -4.8066e-01],\n",
       "                      [-2.1911e-01,  2.1841e+00,  1.0091e+00,  9.8179e-01],\n",
       "                      [ 5.0137e-01, -1.2766e-01,  3.0344e+00,  1.0387e+00]]),\n",
       "       ),\n",
       ")"
      ]
     },
     "execution_count": 9,
     "metadata": {},
     "output_type": "execute_result"
    }
   ],
   "source": [
    "b"
   ]
  },
  {
   "cell_type": "code",
   "execution_count": 10,
   "id": "43ef8ea3",
   "metadata": {
    "execution": {
     "iopub.execute_input": "2023-02-12T18:15:33.336253Z",
     "iopub.status.busy": "2023-02-12T18:15:33.335463Z",
     "iopub.status.idle": "2023-02-12T18:15:33.342744Z",
     "shell.execute_reply": "2023-02-12T18:15:33.341953Z"
    }
   },
   "outputs": [
    {
     "data": {
      "text/plain": [
       "tensor([[-1.1621, -1.4581, -0.3053],\n",
       "        [ 1.8814, -0.1467, -0.5022]])"
      ]
     },
     "execution_count": 10,
     "metadata": {},
     "output_type": "execute_result"
    }
   ],
   "source": [
    "b.a"
   ]
  },
  {
   "cell_type": "code",
   "execution_count": 11,
   "id": "b785ab72",
   "metadata": {
    "execution": {
     "iopub.execute_input": "2023-02-12T18:15:33.346106Z",
     "iopub.status.busy": "2023-02-12T18:15:33.345712Z",
     "iopub.status.idle": "2023-02-12T18:15:39.040187Z",
     "shell.execute_reply": "2023-02-12T18:15:39.038940Z"
    }
   },
   "outputs": [
    {
     "name": "stdout",
     "output_type": "stream",
     "text": [
      "70 ns ± 0.393 ns per loop (mean ± std. dev. of 7 runs, 10,000,000 loops each)\n"
     ]
    }
   ],
   "source": [
    "%timeit b.a"
   ]
  },
  {
   "cell_type": "code",
   "execution_count": 12,
   "id": "ad54dc69",
   "metadata": {
    "execution": {
     "iopub.execute_input": "2023-02-12T18:15:39.044205Z",
     "iopub.status.busy": "2023-02-12T18:15:39.043455Z",
     "iopub.status.idle": "2023-02-12T18:15:39.052186Z",
     "shell.execute_reply": "2023-02-12T18:15:39.051554Z"
    }
   },
   "outputs": [
    {
     "data": {
      "text/plain": [
       "Batch(\n",
       "    a: tensor([[ 0.4391, -1.1123,  1.0589],\n",
       "               [ 1.1947,  0.2127,  0.1321]]),\n",
       "    x: Batch(\n",
       "           c: tensor([[-3.1926e-01,  2.3200e-04, -1.4527e+00, -4.8066e-01],\n",
       "                      [-2.1911e-01,  2.1841e+00,  1.0091e+00,  9.8179e-01],\n",
       "                      [ 5.0137e-01, -1.2766e-01,  3.0344e+00,  1.0387e+00]]),\n",
       "       ),\n",
       ")"
      ]
     },
     "execution_count": 12,
     "metadata": {},
     "output_type": "execute_result"
    }
   ],
   "source": [
    "new_value = torch.randn(2, 3)\n",
    "b.a = new_value\n",
    "\n",
    "b"
   ]
  },
  {
   "cell_type": "code",
   "execution_count": 13,
   "id": "29b1d0bf",
   "metadata": {
    "execution": {
     "iopub.execute_input": "2023-02-12T18:15:39.055777Z",
     "iopub.status.busy": "2023-02-12T18:15:39.055030Z",
     "iopub.status.idle": "2023-02-12T18:15:43.791356Z",
     "shell.execute_reply": "2023-02-12T18:15:43.790201Z"
    }
   },
   "outputs": [
    {
     "name": "stdout",
     "output_type": "stream",
     "text": [
      "584 ns ± 2.93 ns per loop (mean ± std. dev. of 7 runs, 1,000,000 loops each)\n"
     ]
    }
   ],
   "source": [
    "%timeit b.a = new_value"
   ]
  },
  {
   "cell_type": "markdown",
   "id": "b61ad1d0",
   "metadata": {},
   "source": [
    "## Initialization"
   ]
  },
  {
   "cell_type": "markdown",
   "id": "d70f0d54",
   "metadata": {},
   "source": [
    "### TreeValue's Initialization"
   ]
  },
  {
   "cell_type": "code",
   "execution_count": 14,
   "id": "d32a679b",
   "metadata": {
    "execution": {
     "iopub.execute_input": "2023-02-12T18:15:43.795233Z",
     "iopub.status.busy": "2023-02-12T18:15:43.794455Z",
     "iopub.status.idle": "2023-02-12T18:15:51.693470Z",
     "shell.execute_reply": "2023-02-12T18:15:51.692514Z"
    }
   },
   "outputs": [
    {
     "name": "stdout",
     "output_type": "stream",
     "text": [
      "965 ns ± 21 ns per loop (mean ± std. dev. of 7 runs, 1,000,000 loops each)\n"
     ]
    }
   ],
   "source": [
    "%timeit FastTreeValue(_TREE_DATA_1)"
   ]
  },
  {
   "cell_type": "markdown",
   "id": "24f3707b",
   "metadata": {},
   "source": [
    "### Tianshou Batch's Initialization"
   ]
  },
  {
   "cell_type": "code",
   "execution_count": 15,
   "id": "ac3958df",
   "metadata": {
    "execution": {
     "iopub.execute_input": "2023-02-12T18:15:51.697309Z",
     "iopub.status.busy": "2023-02-12T18:15:51.696820Z",
     "iopub.status.idle": "2023-02-12T18:16:01.385353Z",
     "shell.execute_reply": "2023-02-12T18:16:01.384216Z"
    }
   },
   "outputs": [
    {
     "name": "stdout",
     "output_type": "stream",
     "text": [
      "11.9 µs ± 47.5 ns per loop (mean ± std. dev. of 7 runs, 100,000 loops each)\n"
     ]
    }
   ],
   "source": [
    "%timeit Batch(**_TREE_DATA_1)"
   ]
  },
  {
   "cell_type": "markdown",
   "id": "1ab82e2d",
   "metadata": {},
   "source": [
    "## Deep Copy Operation"
   ]
  },
  {
   "cell_type": "code",
   "execution_count": 16,
   "id": "210a9442",
   "metadata": {
    "execution": {
     "iopub.execute_input": "2023-02-12T18:16:01.390184Z",
     "iopub.status.busy": "2023-02-12T18:16:01.389229Z",
     "iopub.status.idle": "2023-02-12T18:16:01.395020Z",
     "shell.execute_reply": "2023-02-12T18:16:01.394330Z"
    }
   },
   "outputs": [],
   "source": [
    "import copy"
   ]
  },
  {
   "cell_type": "markdown",
   "id": "5a736274",
   "metadata": {},
   "source": [
    "### Deep Copy of TreeValue"
   ]
  },
  {
   "cell_type": "code",
   "execution_count": 17,
   "id": "f9bcadd6",
   "metadata": {
    "execution": {
     "iopub.execute_input": "2023-02-12T18:16:01.398051Z",
     "iopub.status.busy": "2023-02-12T18:16:01.397623Z",
     "iopub.status.idle": "2023-02-12T18:16:14.977326Z",
     "shell.execute_reply": "2023-02-12T18:16:14.976433Z"
    }
   },
   "outputs": [
    {
     "name": "stdout",
     "output_type": "stream",
     "text": [
      "167 µs ± 505 ns per loop (mean ± std. dev. of 7 runs, 10,000 loops each)\n"
     ]
    }
   ],
   "source": [
    "t3 = FastTreeValue(_TREE_DATA_3)\n",
    "%timeit copy.deepcopy(t3)"
   ]
  },
  {
   "cell_type": "markdown",
   "id": "bf8be7ea",
   "metadata": {},
   "source": [
    "### Deep Copy of Tianshou Batch"
   ]
  },
  {
   "cell_type": "code",
   "execution_count": 18,
   "id": "91998e6f",
   "metadata": {
    "execution": {
     "iopub.execute_input": "2023-02-12T18:16:14.981357Z",
     "iopub.status.busy": "2023-02-12T18:16:14.981065Z",
     "iopub.status.idle": "2023-02-12T18:16:28.379677Z",
     "shell.execute_reply": "2023-02-12T18:16:28.378849Z"
    }
   },
   "outputs": [
    {
     "name": "stdout",
     "output_type": "stream",
     "text": [
      "165 µs ± 768 ns per loop (mean ± std. dev. of 7 runs, 10,000 loops each)\n"
     ]
    }
   ],
   "source": [
    "b3 = Batch(**_TREE_DATA_3)\n",
    "%timeit copy.deepcopy(b3)"
   ]
  },
  {
   "cell_type": "markdown",
   "id": "223162fb",
   "metadata": {},
   "source": [
    "## Stack, Concat and Split Operation"
   ]
  },
  {
   "cell_type": "markdown",
   "id": "85fa4a73",
   "metadata": {},
   "source": [
    "### Performance of TreeValue"
   ]
  },
  {
   "cell_type": "code",
   "execution_count": 19,
   "id": "a0c2b697",
   "metadata": {
    "execution": {
     "iopub.execute_input": "2023-02-12T18:16:28.384371Z",
     "iopub.status.busy": "2023-02-12T18:16:28.382978Z",
     "iopub.status.idle": "2023-02-12T18:16:28.388256Z",
     "shell.execute_reply": "2023-02-12T18:16:28.387507Z"
    }
   },
   "outputs": [],
   "source": [
    "trees = [FastTreeValue(_TREE_DATA_2) for _ in range(8)]"
   ]
  },
  {
   "cell_type": "code",
   "execution_count": 20,
   "id": "017ea5a5",
   "metadata": {
    "execution": {
     "iopub.execute_input": "2023-02-12T18:16:28.391630Z",
     "iopub.status.busy": "2023-02-12T18:16:28.391362Z",
     "iopub.status.idle": "2023-02-12T18:16:28.399481Z",
     "shell.execute_reply": "2023-02-12T18:16:28.398848Z"
    }
   },
   "outputs": [
    {
     "data": {
      "text/plain": [
       "<FastTreeValue 0x7ff40656fa60>\n",
       "├── 'a' --> tensor([[[-1.1621, -1.4581, -0.3053],\n",
       "│                    [ 1.8814, -0.1467, -0.5022]],\n",
       "│           \n",
       "│                   [[-1.1621, -1.4581, -0.3053],\n",
       "│                    [ 1.8814, -0.1467, -0.5022]],\n",
       "│           \n",
       "│                   [[-1.1621, -1.4581, -0.3053],\n",
       "│                    [ 1.8814, -0.1467, -0.5022]],\n",
       "│           \n",
       "│                   [[-1.1621, -1.4581, -0.3053],\n",
       "│                    [ 1.8814, -0.1467, -0.5022]],\n",
       "│           \n",
       "│                   [[-1.1621, -1.4581, -0.3053],\n",
       "│                    [ 1.8814, -0.1467, -0.5022]],\n",
       "│           \n",
       "│                   [[-1.1621, -1.4581, -0.3053],\n",
       "│                    [ 1.8814, -0.1467, -0.5022]],\n",
       "│           \n",
       "│                   [[-1.1621, -1.4581, -0.3053],\n",
       "│                    [ 1.8814, -0.1467, -0.5022]],\n",
       "│           \n",
       "│                   [[-1.1621, -1.4581, -0.3053],\n",
       "│                    [ 1.8814, -0.1467, -0.5022]]])\n",
       "└── 'x' --> <FastTreeValue 0x7ff357206340>\n",
       "    └── 'c' --> tensor([[[-3.1926e-01,  2.3200e-04, -1.4527e+00, -4.8066e-01],\n",
       "                         [-2.1911e-01,  2.1841e+00,  1.0091e+00,  9.8179e-01],\n",
       "                         [ 5.0137e-01, -1.2766e-01,  3.0344e+00,  1.0387e+00]],\n",
       "                \n",
       "                        [[-3.1926e-01,  2.3200e-04, -1.4527e+00, -4.8066e-01],\n",
       "                         [-2.1911e-01,  2.1841e+00,  1.0091e+00,  9.8179e-01],\n",
       "                         [ 5.0137e-01, -1.2766e-01,  3.0344e+00,  1.0387e+00]],\n",
       "                \n",
       "                        [[-3.1926e-01,  2.3200e-04, -1.4527e+00, -4.8066e-01],\n",
       "                         [-2.1911e-01,  2.1841e+00,  1.0091e+00,  9.8179e-01],\n",
       "                         [ 5.0137e-01, -1.2766e-01,  3.0344e+00,  1.0387e+00]],\n",
       "                \n",
       "                        [[-3.1926e-01,  2.3200e-04, -1.4527e+00, -4.8066e-01],\n",
       "                         [-2.1911e-01,  2.1841e+00,  1.0091e+00,  9.8179e-01],\n",
       "                         [ 5.0137e-01, -1.2766e-01,  3.0344e+00,  1.0387e+00]],\n",
       "                \n",
       "                        [[-3.1926e-01,  2.3200e-04, -1.4527e+00, -4.8066e-01],\n",
       "                         [-2.1911e-01,  2.1841e+00,  1.0091e+00,  9.8179e-01],\n",
       "                         [ 5.0137e-01, -1.2766e-01,  3.0344e+00,  1.0387e+00]],\n",
       "                \n",
       "                        [[-3.1926e-01,  2.3200e-04, -1.4527e+00, -4.8066e-01],\n",
       "                         [-2.1911e-01,  2.1841e+00,  1.0091e+00,  9.8179e-01],\n",
       "                         [ 5.0137e-01, -1.2766e-01,  3.0344e+00,  1.0387e+00]],\n",
       "                \n",
       "                        [[-3.1926e-01,  2.3200e-04, -1.4527e+00, -4.8066e-01],\n",
       "                         [-2.1911e-01,  2.1841e+00,  1.0091e+00,  9.8179e-01],\n",
       "                         [ 5.0137e-01, -1.2766e-01,  3.0344e+00,  1.0387e+00]],\n",
       "                \n",
       "                        [[-3.1926e-01,  2.3200e-04, -1.4527e+00, -4.8066e-01],\n",
       "                         [-2.1911e-01,  2.1841e+00,  1.0091e+00,  9.8179e-01],\n",
       "                         [ 5.0137e-01, -1.2766e-01,  3.0344e+00,  1.0387e+00]]])"
      ]
     },
     "execution_count": 20,
     "metadata": {},
     "output_type": "execute_result"
    }
   ],
   "source": [
    "t_stack = FastTreeValue.func(subside=True)(torch.stack)\n",
    "\n",
    "t_stack(trees)"
   ]
  },
  {
   "cell_type": "code",
   "execution_count": 21,
   "id": "f8b3f415",
   "metadata": {
    "execution": {
     "iopub.execute_input": "2023-02-12T18:16:28.402526Z",
     "iopub.status.busy": "2023-02-12T18:16:28.402093Z",
     "iopub.status.idle": "2023-02-12T18:16:31.500811Z",
     "shell.execute_reply": "2023-02-12T18:16:31.499848Z"
    }
   },
   "outputs": [
    {
     "name": "stdout",
     "output_type": "stream",
     "text": [
      "38.1 µs ± 233 ns per loop (mean ± std. dev. of 7 runs, 10,000 loops each)\n"
     ]
    }
   ],
   "source": [
    "%timeit t_stack(trees)"
   ]
  },
  {
   "cell_type": "code",
   "execution_count": 22,
   "id": "94b56771",
   "metadata": {
    "execution": {
     "iopub.execute_input": "2023-02-12T18:16:31.508786Z",
     "iopub.status.busy": "2023-02-12T18:16:31.504417Z",
     "iopub.status.idle": "2023-02-12T18:16:31.516913Z",
     "shell.execute_reply": "2023-02-12T18:16:31.515843Z"
    }
   },
   "outputs": [
    {
     "data": {
      "text/plain": [
       "<FastTreeValue 0x7ff35718ee50>\n",
       "├── 'a' --> tensor([[-1.1621, -1.4581, -0.3053],\n",
       "│                   [ 1.8814, -0.1467, -0.5022],\n",
       "│                   [-1.1621, -1.4581, -0.3053],\n",
       "│                   [ 1.8814, -0.1467, -0.5022],\n",
       "│                   [-1.1621, -1.4581, -0.3053],\n",
       "│                   [ 1.8814, -0.1467, -0.5022],\n",
       "│                   [-1.1621, -1.4581, -0.3053],\n",
       "│                   [ 1.8814, -0.1467, -0.5022],\n",
       "│                   [-1.1621, -1.4581, -0.3053],\n",
       "│                   [ 1.8814, -0.1467, -0.5022],\n",
       "│                   [-1.1621, -1.4581, -0.3053],\n",
       "│                   [ 1.8814, -0.1467, -0.5022],\n",
       "│                   [-1.1621, -1.4581, -0.3053],\n",
       "│                   [ 1.8814, -0.1467, -0.5022],\n",
       "│                   [-1.1621, -1.4581, -0.3053],\n",
       "│                   [ 1.8814, -0.1467, -0.5022]])\n",
       "└── 'x' --> <FastTreeValue 0x7ff35718e340>\n",
       "    └── 'c' --> tensor([[-3.1926e-01,  2.3200e-04, -1.4527e+00, -4.8066e-01],\n",
       "                        [-2.1911e-01,  2.1841e+00,  1.0091e+00,  9.8179e-01],\n",
       "                        [ 5.0137e-01, -1.2766e-01,  3.0344e+00,  1.0387e+00],\n",
       "                        [-3.1926e-01,  2.3200e-04, -1.4527e+00, -4.8066e-01],\n",
       "                        [-2.1911e-01,  2.1841e+00,  1.0091e+00,  9.8179e-01],\n",
       "                        [ 5.0137e-01, -1.2766e-01,  3.0344e+00,  1.0387e+00],\n",
       "                        [-3.1926e-01,  2.3200e-04, -1.4527e+00, -4.8066e-01],\n",
       "                        [-2.1911e-01,  2.1841e+00,  1.0091e+00,  9.8179e-01],\n",
       "                        [ 5.0137e-01, -1.2766e-01,  3.0344e+00,  1.0387e+00],\n",
       "                        [-3.1926e-01,  2.3200e-04, -1.4527e+00, -4.8066e-01],\n",
       "                        [-2.1911e-01,  2.1841e+00,  1.0091e+00,  9.8179e-01],\n",
       "                        [ 5.0137e-01, -1.2766e-01,  3.0344e+00,  1.0387e+00],\n",
       "                        [-3.1926e-01,  2.3200e-04, -1.4527e+00, -4.8066e-01],\n",
       "                        [-2.1911e-01,  2.1841e+00,  1.0091e+00,  9.8179e-01],\n",
       "                        [ 5.0137e-01, -1.2766e-01,  3.0344e+00,  1.0387e+00],\n",
       "                        [-3.1926e-01,  2.3200e-04, -1.4527e+00, -4.8066e-01],\n",
       "                        [-2.1911e-01,  2.1841e+00,  1.0091e+00,  9.8179e-01],\n",
       "                        [ 5.0137e-01, -1.2766e-01,  3.0344e+00,  1.0387e+00],\n",
       "                        [-3.1926e-01,  2.3200e-04, -1.4527e+00, -4.8066e-01],\n",
       "                        [-2.1911e-01,  2.1841e+00,  1.0091e+00,  9.8179e-01],\n",
       "                        [ 5.0137e-01, -1.2766e-01,  3.0344e+00,  1.0387e+00],\n",
       "                        [-3.1926e-01,  2.3200e-04, -1.4527e+00, -4.8066e-01],\n",
       "                        [-2.1911e-01,  2.1841e+00,  1.0091e+00,  9.8179e-01],\n",
       "                        [ 5.0137e-01, -1.2766e-01,  3.0344e+00,  1.0387e+00]])"
      ]
     },
     "execution_count": 22,
     "metadata": {},
     "output_type": "execute_result"
    }
   ],
   "source": [
    "t_cat = FastTreeValue.func(subside=True)(torch.cat)\n",
    "\n",
    "t_cat(trees)"
   ]
  },
  {
   "cell_type": "code",
   "execution_count": 23,
   "id": "5e9c06a6",
   "metadata": {
    "execution": {
     "iopub.execute_input": "2023-02-12T18:16:31.520768Z",
     "iopub.status.busy": "2023-02-12T18:16:31.520493Z",
     "iopub.status.idle": "2023-02-12T18:16:34.695995Z",
     "shell.execute_reply": "2023-02-12T18:16:34.695016Z"
    }
   },
   "outputs": [
    {
     "name": "stdout",
     "output_type": "stream",
     "text": [
      "38.9 µs ± 1.53 µs per loop (mean ± std. dev. of 7 runs, 10,000 loops each)\n"
     ]
    }
   ],
   "source": [
    "%timeit t_cat(trees)"
   ]
  },
  {
   "cell_type": "code",
   "execution_count": 24,
   "id": "a3ab5c8f",
   "metadata": {
    "execution": {
     "iopub.execute_input": "2023-02-12T18:16:34.701981Z",
     "iopub.status.busy": "2023-02-12T18:16:34.701380Z",
     "iopub.status.idle": "2023-02-12T18:16:39.753599Z",
     "shell.execute_reply": "2023-02-12T18:16:39.752423Z"
    }
   },
   "outputs": [
    {
     "name": "stdout",
     "output_type": "stream",
     "text": [
      "62.2 µs ± 270 ns per loop (mean ± std. dev. of 7 runs, 10,000 loops each)\n"
     ]
    }
   ],
   "source": [
    "t_split = FastTreeValue.func(rise=True)(torch.split)\n",
    "tree = FastTreeValue({\n",
    "    'obs': torch.randn(8, 4, 84, 84),\n",
    "    'action': torch.randint(0, 6, size=(8, 1,)),\n",
    "    'reward': torch.rand(8, 1),\n",
    "})\n",
    "\n",
    "%timeit t_split(tree, 1)"
   ]
  },
  {
   "cell_type": "markdown",
   "id": "31c3ec0b",
   "metadata": {},
   "source": [
    "### Performance of Tianshou Batch"
   ]
  },
  {
   "cell_type": "code",
   "execution_count": 25,
   "id": "9ead828a",
   "metadata": {
    "execution": {
     "iopub.execute_input": "2023-02-12T18:16:39.757680Z",
     "iopub.status.busy": "2023-02-12T18:16:39.757018Z",
     "iopub.status.idle": "2023-02-12T18:16:39.766413Z",
     "shell.execute_reply": "2023-02-12T18:16:39.765633Z"
    }
   },
   "outputs": [
    {
     "data": {
      "text/plain": [
       "Batch(\n",
       "    a: tensor([[[-1.1621, -1.4581, -0.3053],\n",
       "                [ 1.8814, -0.1467, -0.5022]],\n",
       "       \n",
       "               [[-1.1621, -1.4581, -0.3053],\n",
       "                [ 1.8814, -0.1467, -0.5022]],\n",
       "       \n",
       "               [[-1.1621, -1.4581, -0.3053],\n",
       "                [ 1.8814, -0.1467, -0.5022]],\n",
       "       \n",
       "               [[-1.1621, -1.4581, -0.3053],\n",
       "                [ 1.8814, -0.1467, -0.5022]],\n",
       "       \n",
       "               [[-1.1621, -1.4581, -0.3053],\n",
       "                [ 1.8814, -0.1467, -0.5022]],\n",
       "       \n",
       "               [[-1.1621, -1.4581, -0.3053],\n",
       "                [ 1.8814, -0.1467, -0.5022]],\n",
       "       \n",
       "               [[-1.1621, -1.4581, -0.3053],\n",
       "                [ 1.8814, -0.1467, -0.5022]],\n",
       "       \n",
       "               [[-1.1621, -1.4581, -0.3053],\n",
       "                [ 1.8814, -0.1467, -0.5022]]]),\n",
       "    x: Batch(\n",
       "           c: tensor([[[-3.1926e-01,  2.3200e-04, -1.4527e+00, -4.8066e-01],\n",
       "                       [-2.1911e-01,  2.1841e+00,  1.0091e+00,  9.8179e-01],\n",
       "                       [ 5.0137e-01, -1.2766e-01,  3.0344e+00,  1.0387e+00]],\n",
       "              \n",
       "                      [[-3.1926e-01,  2.3200e-04, -1.4527e+00, -4.8066e-01],\n",
       "                       [-2.1911e-01,  2.1841e+00,  1.0091e+00,  9.8179e-01],\n",
       "                       [ 5.0137e-01, -1.2766e-01,  3.0344e+00,  1.0387e+00]],\n",
       "              \n",
       "                      [[-3.1926e-01,  2.3200e-04, -1.4527e+00, -4.8066e-01],\n",
       "                       [-2.1911e-01,  2.1841e+00,  1.0091e+00,  9.8179e-01],\n",
       "                       [ 5.0137e-01, -1.2766e-01,  3.0344e+00,  1.0387e+00]],\n",
       "              \n",
       "                      [[-3.1926e-01,  2.3200e-04, -1.4527e+00, -4.8066e-01],\n",
       "                       [-2.1911e-01,  2.1841e+00,  1.0091e+00,  9.8179e-01],\n",
       "                       [ 5.0137e-01, -1.2766e-01,  3.0344e+00,  1.0387e+00]],\n",
       "              \n",
       "                      [[-3.1926e-01,  2.3200e-04, -1.4527e+00, -4.8066e-01],\n",
       "                       [-2.1911e-01,  2.1841e+00,  1.0091e+00,  9.8179e-01],\n",
       "                       [ 5.0137e-01, -1.2766e-01,  3.0344e+00,  1.0387e+00]],\n",
       "              \n",
       "                      [[-3.1926e-01,  2.3200e-04, -1.4527e+00, -4.8066e-01],\n",
       "                       [-2.1911e-01,  2.1841e+00,  1.0091e+00,  9.8179e-01],\n",
       "                       [ 5.0137e-01, -1.2766e-01,  3.0344e+00,  1.0387e+00]],\n",
       "              \n",
       "                      [[-3.1926e-01,  2.3200e-04, -1.4527e+00, -4.8066e-01],\n",
       "                       [-2.1911e-01,  2.1841e+00,  1.0091e+00,  9.8179e-01],\n",
       "                       [ 5.0137e-01, -1.2766e-01,  3.0344e+00,  1.0387e+00]],\n",
       "              \n",
       "                      [[-3.1926e-01,  2.3200e-04, -1.4527e+00, -4.8066e-01],\n",
       "                       [-2.1911e-01,  2.1841e+00,  1.0091e+00,  9.8179e-01],\n",
       "                       [ 5.0137e-01, -1.2766e-01,  3.0344e+00,  1.0387e+00]]]),\n",
       "       ),\n",
       ")"
      ]
     },
     "execution_count": 25,
     "metadata": {},
     "output_type": "execute_result"
    }
   ],
   "source": [
    "batches = [Batch(**_TREE_DATA_2) for _ in range(8)]\n",
    "\n",
    "Batch.stack(batches)"
   ]
  },
  {
   "cell_type": "code",
   "execution_count": 26,
   "id": "ec9037a3",
   "metadata": {
    "execution": {
     "iopub.execute_input": "2023-02-12T18:16:39.769636Z",
     "iopub.status.busy": "2023-02-12T18:16:39.769365Z",
     "iopub.status.idle": "2023-02-12T18:16:47.019568Z",
     "shell.execute_reply": "2023-02-12T18:16:47.018456Z"
    }
   },
   "outputs": [
    {
     "name": "stdout",
     "output_type": "stream",
     "text": [
      "89.4 µs ± 271 ns per loop (mean ± std. dev. of 7 runs, 10,000 loops each)\n"
     ]
    }
   ],
   "source": [
    "%timeit Batch.stack(batches)"
   ]
  },
  {
   "cell_type": "code",
   "execution_count": 27,
   "id": "cb8ab77e",
   "metadata": {
    "execution": {
     "iopub.execute_input": "2023-02-12T18:16:47.023641Z",
     "iopub.status.busy": "2023-02-12T18:16:47.022910Z",
     "iopub.status.idle": "2023-02-12T18:16:47.032351Z",
     "shell.execute_reply": "2023-02-12T18:16:47.031561Z"
    }
   },
   "outputs": [
    {
     "data": {
      "text/plain": [
       "Batch(\n",
       "    a: tensor([[-1.1621, -1.4581, -0.3053],\n",
       "               [ 1.8814, -0.1467, -0.5022],\n",
       "               [-1.1621, -1.4581, -0.3053],\n",
       "               [ 1.8814, -0.1467, -0.5022],\n",
       "               [-1.1621, -1.4581, -0.3053],\n",
       "               [ 1.8814, -0.1467, -0.5022],\n",
       "               [-1.1621, -1.4581, -0.3053],\n",
       "               [ 1.8814, -0.1467, -0.5022],\n",
       "               [-1.1621, -1.4581, -0.3053],\n",
       "               [ 1.8814, -0.1467, -0.5022],\n",
       "               [-1.1621, -1.4581, -0.3053],\n",
       "               [ 1.8814, -0.1467, -0.5022],\n",
       "               [-1.1621, -1.4581, -0.3053],\n",
       "               [ 1.8814, -0.1467, -0.5022],\n",
       "               [-1.1621, -1.4581, -0.3053],\n",
       "               [ 1.8814, -0.1467, -0.5022]]),\n",
       "    x: Batch(\n",
       "           c: tensor([[-3.1926e-01,  2.3200e-04, -1.4527e+00, -4.8066e-01],\n",
       "                      [-2.1911e-01,  2.1841e+00,  1.0091e+00,  9.8179e-01],\n",
       "                      [ 5.0137e-01, -1.2766e-01,  3.0344e+00,  1.0387e+00],\n",
       "                      [-3.1926e-01,  2.3200e-04, -1.4527e+00, -4.8066e-01],\n",
       "                      [-2.1911e-01,  2.1841e+00,  1.0091e+00,  9.8179e-01],\n",
       "                      [ 5.0137e-01, -1.2766e-01,  3.0344e+00,  1.0387e+00],\n",
       "                      [-3.1926e-01,  2.3200e-04, -1.4527e+00, -4.8066e-01],\n",
       "                      [-2.1911e-01,  2.1841e+00,  1.0091e+00,  9.8179e-01],\n",
       "                      [ 5.0137e-01, -1.2766e-01,  3.0344e+00,  1.0387e+00],\n",
       "                      [-3.1926e-01,  2.3200e-04, -1.4527e+00, -4.8066e-01],\n",
       "                      [-2.1911e-01,  2.1841e+00,  1.0091e+00,  9.8179e-01],\n",
       "                      [ 5.0137e-01, -1.2766e-01,  3.0344e+00,  1.0387e+00],\n",
       "                      [-3.1926e-01,  2.3200e-04, -1.4527e+00, -4.8066e-01],\n",
       "                      [-2.1911e-01,  2.1841e+00,  1.0091e+00,  9.8179e-01],\n",
       "                      [ 5.0137e-01, -1.2766e-01,  3.0344e+00,  1.0387e+00],\n",
       "                      [-3.1926e-01,  2.3200e-04, -1.4527e+00, -4.8066e-01],\n",
       "                      [-2.1911e-01,  2.1841e+00,  1.0091e+00,  9.8179e-01],\n",
       "                      [ 5.0137e-01, -1.2766e-01,  3.0344e+00,  1.0387e+00],\n",
       "                      [-3.1926e-01,  2.3200e-04, -1.4527e+00, -4.8066e-01],\n",
       "                      [-2.1911e-01,  2.1841e+00,  1.0091e+00,  9.8179e-01],\n",
       "                      [ 5.0137e-01, -1.2766e-01,  3.0344e+00,  1.0387e+00],\n",
       "                      [-3.1926e-01,  2.3200e-04, -1.4527e+00, -4.8066e-01],\n",
       "                      [-2.1911e-01,  2.1841e+00,  1.0091e+00,  9.8179e-01],\n",
       "                      [ 5.0137e-01, -1.2766e-01,  3.0344e+00,  1.0387e+00]]),\n",
       "       ),\n",
       ")"
      ]
     },
     "execution_count": 27,
     "metadata": {},
     "output_type": "execute_result"
    }
   ],
   "source": [
    "Batch.cat(batches)"
   ]
  },
  {
   "cell_type": "code",
   "execution_count": 28,
   "id": "18dfb045",
   "metadata": {
    "execution": {
     "iopub.execute_input": "2023-02-12T18:16:47.035582Z",
     "iopub.status.busy": "2023-02-12T18:16:47.035150Z",
     "iopub.status.idle": "2023-02-12T18:17:00.505315Z",
     "shell.execute_reply": "2023-02-12T18:17:00.503364Z"
    }
   },
   "outputs": [
    {
     "name": "stdout",
     "output_type": "stream",
     "text": [
      "164 µs ± 2.6 µs per loop (mean ± std. dev. of 7 runs, 10,000 loops each)\n"
     ]
    }
   ],
   "source": [
    "%timeit Batch.cat(batches)"
   ]
  },
  {
   "cell_type": "code",
   "execution_count": 29,
   "id": "c6688e51",
   "metadata": {
    "execution": {
     "iopub.execute_input": "2023-02-12T18:17:00.521110Z",
     "iopub.status.busy": "2023-02-12T18:17:00.515167Z",
     "iopub.status.idle": "2023-02-12T18:17:03.654308Z",
     "shell.execute_reply": "2023-02-12T18:17:03.653525Z"
    }
   },
   "outputs": [
    {
     "name": "stdout",
     "output_type": "stream",
     "text": [
      "386 µs ± 9.85 µs per loop (mean ± std. dev. of 7 runs, 1,000 loops each)\n"
     ]
    }
   ],
   "source": [
    "batch = Batch({\n",
    "    'obs': torch.randn(8, 4, 84, 84),\n",
    "    'action': torch.randint(0, 6, size=(8, 1,)),\n",
    "    'reward': torch.rand(8, 1)}\n",
    ")\n",
    "\n",
    "%timeit list(Batch.split(batch, 1, shuffle=False, merge_last=True))"
   ]
  },
  {
   "cell_type": "code",
   "execution_count": null,
   "id": "2539fbd9",
   "metadata": {},
   "outputs": [],
   "source": []
  }
 ],
 "metadata": {
  "kernelspec": {
   "display_name": "Python 3 (ipykernel)",
   "language": "python",
   "name": "python3"
  },
  "language_info": {
   "codemirror_mode": {
    "name": "ipython",
    "version": 3
   },
   "file_extension": ".py",
   "mimetype": "text/x-python",
   "name": "python",
   "nbconvert_exporter": "python",
   "pygments_lexer": "ipython3",
   "version": "3.8.16"
  }
 },
 "nbformat": 4,
 "nbformat_minor": 5
}
