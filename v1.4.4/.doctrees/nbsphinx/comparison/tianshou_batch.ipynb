{
 "cells": [
  {
   "cell_type": "markdown",
   "id": "9d39d946",
   "metadata": {},
   "source": [
    "# Comparison Between TreeValue and Tianshou Batch"
   ]
  },
  {
   "cell_type": "markdown",
   "id": "3c6db2d4",
   "metadata": {},
   "source": [
    "In this section, we will take a look at the feature and performance of the [Tianshou Batch](https://github.com/thu-ml/tianshou) library, which is developed by Tsinghua Machine Learning Group."
   ]
  },
  {
   "cell_type": "markdown",
   "id": "069361b0",
   "metadata": {},
   "source": [
    "Before starting the comparison, let us define some thing."
   ]
  },
  {
   "cell_type": "code",
   "execution_count": 1,
   "id": "06fc8d26",
   "metadata": {
    "execution": {
     "iopub.execute_input": "2023-02-27T12:15:10.980545Z",
     "iopub.status.busy": "2023-02-27T12:15:10.980081Z",
     "iopub.status.idle": "2023-02-27T12:15:11.966208Z",
     "shell.execute_reply": "2023-02-27T12:15:11.964925Z"
    }
   },
   "outputs": [
    {
     "name": "stderr",
     "output_type": "stream",
     "text": [
      "/opt/hostedtoolcache/Python/3.8.16/x64/lib/python3.8/site-packages/tqdm/auto.py:22: TqdmWarning: IProgress not found. Please update jupyter and ipywidgets. See https://ipywidgets.readthedocs.io/en/stable/user_install.html\n",
      "  from .autonotebook import tqdm as notebook_tqdm\n"
     ]
    }
   ],
   "source": [
    "import torch \n",
    "\n",
    "_TREE_DATA_1 = {'a': 1, 'b': 2, 'x': {'c': 3, 'd': 4}}\n",
    "_TREE_DATA_2 = {\n",
    "    'a': torch.randn(2, 3), \n",
    "    'x': {\n",
    "        'c': torch.randn(3, 4)\n",
    "    },\n",
    "}\n",
    "_TREE_DATA_3 = {\n",
    "    'obs': torch.randn(4, 84, 84),\n",
    "    'action': torch.randint(0, 6, size=(1,)),\n",
    "    'reward': torch.rand(1),\n",
    "}"
   ]
  },
  {
   "cell_type": "markdown",
   "id": "83461b25",
   "metadata": {},
   "source": [
    "## Read and Write Operation"
   ]
  },
  {
   "cell_type": "markdown",
   "id": "067b3f73",
   "metadata": {},
   "source": [
    "Reading and writing are the two most common operations in the tree data structure based on the data model (TreeValue and Tianshou Batch both belong to this type), so this section will compare the reading and writing performance of these two libraries."
   ]
  },
  {
   "cell_type": "markdown",
   "id": "5d09a5b7",
   "metadata": {},
   "source": [
    "### TreeValue's Get and Set"
   ]
  },
  {
   "cell_type": "code",
   "execution_count": 2,
   "id": "9519c4bb",
   "metadata": {
    "execution": {
     "iopub.execute_input": "2023-02-27T12:15:11.970014Z",
     "iopub.status.busy": "2023-02-27T12:15:11.969538Z",
     "iopub.status.idle": "2023-02-27T12:15:12.264105Z",
     "shell.execute_reply": "2023-02-27T12:15:12.263315Z"
    }
   },
   "outputs": [],
   "source": [
    "from treevalue import FastTreeValue\n",
    "\n",
    "t = FastTreeValue(_TREE_DATA_2)"
   ]
  },
  {
   "cell_type": "code",
   "execution_count": 3,
   "id": "11c37677",
   "metadata": {
    "execution": {
     "iopub.execute_input": "2023-02-27T12:15:12.268270Z",
     "iopub.status.busy": "2023-02-27T12:15:12.267381Z",
     "iopub.status.idle": "2023-02-27T12:15:12.277761Z",
     "shell.execute_reply": "2023-02-27T12:15:12.277116Z"
    }
   },
   "outputs": [
    {
     "data": {
      "text/plain": [
       "<FastTreeValue 0x7f4bd4099be0>\n",
       "├── 'a' --> tensor([[ 0.2811,  0.8114, -0.4701],\n",
       "│                   [ 0.6287,  1.0713, -0.3039]])\n",
       "└── 'x' --> <FastTreeValue 0x7f4bd4099a90>\n",
       "    └── 'c' --> tensor([[ 0.3018, -0.3466,  0.6039,  2.0512],\n",
       "                        [ 1.0164,  0.6363, -0.9404,  0.0115],\n",
       "                        [ 0.5847, -0.9374, -0.5833, -0.2111]])"
      ]
     },
     "execution_count": 3,
     "metadata": {},
     "output_type": "execute_result"
    }
   ],
   "source": [
    "t"
   ]
  },
  {
   "cell_type": "code",
   "execution_count": 4,
   "id": "fd70b0b9",
   "metadata": {
    "execution": {
     "iopub.execute_input": "2023-02-27T12:15:12.280948Z",
     "iopub.status.busy": "2023-02-27T12:15:12.280338Z",
     "iopub.status.idle": "2023-02-27T12:15:12.285841Z",
     "shell.execute_reply": "2023-02-27T12:15:12.285221Z"
    }
   },
   "outputs": [
    {
     "data": {
      "text/plain": [
       "tensor([[ 0.2811,  0.8114, -0.4701],\n",
       "        [ 0.6287,  1.0713, -0.3039]])"
      ]
     },
     "execution_count": 4,
     "metadata": {},
     "output_type": "execute_result"
    }
   ],
   "source": [
    "t.a"
   ]
  },
  {
   "cell_type": "code",
   "execution_count": 5,
   "id": "c18197bd",
   "metadata": {
    "execution": {
     "iopub.execute_input": "2023-02-27T12:15:12.288388Z",
     "iopub.status.busy": "2023-02-27T12:15:12.288011Z",
     "iopub.status.idle": "2023-02-27T12:15:17.688677Z",
     "shell.execute_reply": "2023-02-27T12:15:17.687766Z"
    }
   },
   "outputs": [
    {
     "name": "stdout",
     "output_type": "stream",
     "text": [
      "66.5 ns ± 0.0582 ns per loop (mean ± std. dev. of 7 runs, 10,000,000 loops each)\n"
     ]
    }
   ],
   "source": [
    "%timeit t.a"
   ]
  },
  {
   "cell_type": "code",
   "execution_count": 6,
   "id": "bd52f867",
   "metadata": {
    "execution": {
     "iopub.execute_input": "2023-02-27T12:15:17.692187Z",
     "iopub.status.busy": "2023-02-27T12:15:17.691778Z",
     "iopub.status.idle": "2023-02-27T12:15:17.698358Z",
     "shell.execute_reply": "2023-02-27T12:15:17.697604Z"
    }
   },
   "outputs": [
    {
     "data": {
      "text/plain": [
       "<FastTreeValue 0x7f4bd4099be0>\n",
       "├── 'a' --> tensor([[ 0.5645, -0.5826, -0.2576],\n",
       "│                   [ 1.9832, -1.0956, -2.4496]])\n",
       "└── 'x' --> <FastTreeValue 0x7f4bd4099a90>\n",
       "    └── 'c' --> tensor([[ 0.3018, -0.3466,  0.6039,  2.0512],\n",
       "                        [ 1.0164,  0.6363, -0.9404,  0.0115],\n",
       "                        [ 0.5847, -0.9374, -0.5833, -0.2111]])"
      ]
     },
     "execution_count": 6,
     "metadata": {},
     "output_type": "execute_result"
    }
   ],
   "source": [
    "new_value = torch.randn(2, 3)\n",
    "t.a = new_value\n",
    "\n",
    "t"
   ]
  },
  {
   "cell_type": "code",
   "execution_count": 7,
   "id": "bbe04d1c",
   "metadata": {
    "execution": {
     "iopub.execute_input": "2023-02-27T12:15:17.701533Z",
     "iopub.status.busy": "2023-02-27T12:15:17.700983Z",
     "iopub.status.idle": "2023-02-27T12:15:23.498084Z",
     "shell.execute_reply": "2023-02-27T12:15:23.497218Z"
    }
   },
   "outputs": [
    {
     "name": "stdout",
     "output_type": "stream",
     "text": [
      "71.4 ns ± 0.0609 ns per loop (mean ± std. dev. of 7 runs, 10,000,000 loops each)\n"
     ]
    }
   ],
   "source": [
    "%timeit t.a = new_value"
   ]
  },
  {
   "cell_type": "markdown",
   "id": "48c49731",
   "metadata": {},
   "source": [
    "### Tianshou Batch's Get and Set"
   ]
  },
  {
   "cell_type": "code",
   "execution_count": 8,
   "id": "f1bb14c1",
   "metadata": {
    "execution": {
     "iopub.execute_input": "2023-02-27T12:15:23.501744Z",
     "iopub.status.busy": "2023-02-27T12:15:23.501305Z",
     "iopub.status.idle": "2023-02-27T12:15:23.873004Z",
     "shell.execute_reply": "2023-02-27T12:15:23.871739Z"
    }
   },
   "outputs": [],
   "source": [
    "from tianshou.data import Batch\n",
    "\n",
    "b = Batch(**_TREE_DATA_2)"
   ]
  },
  {
   "cell_type": "code",
   "execution_count": 9,
   "id": "cb0777c3",
   "metadata": {
    "execution": {
     "iopub.execute_input": "2023-02-27T12:15:23.876533Z",
     "iopub.status.busy": "2023-02-27T12:15:23.876154Z",
     "iopub.status.idle": "2023-02-27T12:15:23.881967Z",
     "shell.execute_reply": "2023-02-27T12:15:23.881305Z"
    }
   },
   "outputs": [
    {
     "data": {
      "text/plain": [
       "Batch(\n",
       "    a: tensor([[ 0.2811,  0.8114, -0.4701],\n",
       "               [ 0.6287,  1.0713, -0.3039]]),\n",
       "    x: Batch(\n",
       "           c: tensor([[ 0.3018, -0.3466,  0.6039,  2.0512],\n",
       "                      [ 1.0164,  0.6363, -0.9404,  0.0115],\n",
       "                      [ 0.5847, -0.9374, -0.5833, -0.2111]]),\n",
       "       ),\n",
       ")"
      ]
     },
     "execution_count": 9,
     "metadata": {},
     "output_type": "execute_result"
    }
   ],
   "source": [
    "b"
   ]
  },
  {
   "cell_type": "code",
   "execution_count": 10,
   "id": "43ef8ea3",
   "metadata": {
    "execution": {
     "iopub.execute_input": "2023-02-27T12:15:23.884600Z",
     "iopub.status.busy": "2023-02-27T12:15:23.884207Z",
     "iopub.status.idle": "2023-02-27T12:15:23.889795Z",
     "shell.execute_reply": "2023-02-27T12:15:23.889159Z"
    }
   },
   "outputs": [
    {
     "data": {
      "text/plain": [
       "tensor([[ 0.2811,  0.8114, -0.4701],\n",
       "        [ 0.6287,  1.0713, -0.3039]])"
      ]
     },
     "execution_count": 10,
     "metadata": {},
     "output_type": "execute_result"
    }
   ],
   "source": [
    "b.a"
   ]
  },
  {
   "cell_type": "code",
   "execution_count": 11,
   "id": "b785ab72",
   "metadata": {
    "execution": {
     "iopub.execute_input": "2023-02-27T12:15:23.892478Z",
     "iopub.status.busy": "2023-02-27T12:15:23.891929Z",
     "iopub.status.idle": "2023-02-27T12:15:28.695938Z",
     "shell.execute_reply": "2023-02-27T12:15:28.695071Z"
    }
   },
   "outputs": [
    {
     "name": "stdout",
     "output_type": "stream",
     "text": [
      "59.3 ns ± 0.0236 ns per loop (mean ± std. dev. of 7 runs, 10,000,000 loops each)\n"
     ]
    }
   ],
   "source": [
    "%timeit b.a"
   ]
  },
  {
   "cell_type": "code",
   "execution_count": 12,
   "id": "ad54dc69",
   "metadata": {
    "execution": {
     "iopub.execute_input": "2023-02-27T12:15:28.699325Z",
     "iopub.status.busy": "2023-02-27T12:15:28.698907Z",
     "iopub.status.idle": "2023-02-27T12:15:28.706131Z",
     "shell.execute_reply": "2023-02-27T12:15:28.705503Z"
    }
   },
   "outputs": [
    {
     "data": {
      "text/plain": [
       "Batch(\n",
       "    a: tensor([[ 0.0893,  0.3898, -0.0540],\n",
       "               [ 0.3514, -1.0280, -1.0211]]),\n",
       "    x: Batch(\n",
       "           c: tensor([[ 0.3018, -0.3466,  0.6039,  2.0512],\n",
       "                      [ 1.0164,  0.6363, -0.9404,  0.0115],\n",
       "                      [ 0.5847, -0.9374, -0.5833, -0.2111]]),\n",
       "       ),\n",
       ")"
      ]
     },
     "execution_count": 12,
     "metadata": {},
     "output_type": "execute_result"
    }
   ],
   "source": [
    "new_value = torch.randn(2, 3)\n",
    "b.a = new_value\n",
    "\n",
    "b"
   ]
  },
  {
   "cell_type": "code",
   "execution_count": 13,
   "id": "29b1d0bf",
   "metadata": {
    "execution": {
     "iopub.execute_input": "2023-02-27T12:15:28.708865Z",
     "iopub.status.busy": "2023-02-27T12:15:28.708505Z",
     "iopub.status.idle": "2023-02-27T12:15:32.780699Z",
     "shell.execute_reply": "2023-02-27T12:15:32.779796Z"
    }
   },
   "outputs": [
    {
     "name": "stdout",
     "output_type": "stream",
     "text": [
      "502 ns ± 0.0854 ns per loop (mean ± std. dev. of 7 runs, 1,000,000 loops each)\n"
     ]
    }
   ],
   "source": [
    "%timeit b.a = new_value"
   ]
  },
  {
   "cell_type": "markdown",
   "id": "b61ad1d0",
   "metadata": {},
   "source": [
    "## Initialization"
   ]
  },
  {
   "cell_type": "markdown",
   "id": "d70f0d54",
   "metadata": {},
   "source": [
    "### TreeValue's Initialization"
   ]
  },
  {
   "cell_type": "code",
   "execution_count": 14,
   "id": "d32a679b",
   "metadata": {
    "execution": {
     "iopub.execute_input": "2023-02-27T12:15:32.784154Z",
     "iopub.status.busy": "2023-02-27T12:15:32.783725Z",
     "iopub.status.idle": "2023-02-27T12:15:39.277140Z",
     "shell.execute_reply": "2023-02-27T12:15:39.276261Z"
    }
   },
   "outputs": [
    {
     "name": "stdout",
     "output_type": "stream",
     "text": [
      "799 ns ± 0.0627 ns per loop (mean ± std. dev. of 7 runs, 1,000,000 loops each)\n"
     ]
    }
   ],
   "source": [
    "%timeit FastTreeValue(_TREE_DATA_1)"
   ]
  },
  {
   "cell_type": "markdown",
   "id": "24f3707b",
   "metadata": {},
   "source": [
    "### Tianshou Batch's Initialization"
   ]
  },
  {
   "cell_type": "code",
   "execution_count": 15,
   "id": "ac3958df",
   "metadata": {
    "execution": {
     "iopub.execute_input": "2023-02-27T12:15:39.280801Z",
     "iopub.status.busy": "2023-02-27T12:15:39.280075Z",
     "iopub.status.idle": "2023-02-27T12:15:48.465400Z",
     "shell.execute_reply": "2023-02-27T12:15:48.464529Z"
    }
   },
   "outputs": [
    {
     "name": "stdout",
     "output_type": "stream",
     "text": [
      "11.3 µs ± 15.3 ns per loop (mean ± std. dev. of 7 runs, 100,000 loops each)\n"
     ]
    }
   ],
   "source": [
    "%timeit Batch(**_TREE_DATA_1)"
   ]
  },
  {
   "cell_type": "markdown",
   "id": "1ab82e2d",
   "metadata": {},
   "source": [
    "## Deep Copy Operation"
   ]
  },
  {
   "cell_type": "code",
   "execution_count": 16,
   "id": "210a9442",
   "metadata": {
    "execution": {
     "iopub.execute_input": "2023-02-27T12:15:48.468679Z",
     "iopub.status.busy": "2023-02-27T12:15:48.468269Z",
     "iopub.status.idle": "2023-02-27T12:15:48.472487Z",
     "shell.execute_reply": "2023-02-27T12:15:48.471841Z"
    }
   },
   "outputs": [],
   "source": [
    "import copy"
   ]
  },
  {
   "cell_type": "markdown",
   "id": "5a736274",
   "metadata": {},
   "source": [
    "### Deep Copy of TreeValue"
   ]
  },
  {
   "cell_type": "code",
   "execution_count": 17,
   "id": "f9bcadd6",
   "metadata": {
    "execution": {
     "iopub.execute_input": "2023-02-27T12:15:48.475427Z",
     "iopub.status.busy": "2023-02-27T12:15:48.475076Z",
     "iopub.status.idle": "2023-02-27T12:16:00.321174Z",
     "shell.execute_reply": "2023-02-27T12:16:00.320335Z"
    }
   },
   "outputs": [
    {
     "name": "stdout",
     "output_type": "stream",
     "text": [
      "146 µs ± 1.16 µs per loop (mean ± std. dev. of 7 runs, 10,000 loops each)\n"
     ]
    }
   ],
   "source": [
    "t3 = FastTreeValue(_TREE_DATA_3)\n",
    "%timeit copy.deepcopy(t3)"
   ]
  },
  {
   "cell_type": "markdown",
   "id": "bf8be7ea",
   "metadata": {},
   "source": [
    "### Deep Copy of Tianshou Batch"
   ]
  },
  {
   "cell_type": "code",
   "execution_count": 18,
   "id": "91998e6f",
   "metadata": {
    "execution": {
     "iopub.execute_input": "2023-02-27T12:16:00.324722Z",
     "iopub.status.busy": "2023-02-27T12:16:00.324219Z",
     "iopub.status.idle": "2023-02-27T12:16:12.224904Z",
     "shell.execute_reply": "2023-02-27T12:16:12.224169Z"
    }
   },
   "outputs": [
    {
     "name": "stdout",
     "output_type": "stream",
     "text": [
      "147 µs ± 509 ns per loop (mean ± std. dev. of 7 runs, 10,000 loops each)\n"
     ]
    }
   ],
   "source": [
    "b3 = Batch(**_TREE_DATA_3)\n",
    "%timeit copy.deepcopy(b3)"
   ]
  },
  {
   "cell_type": "markdown",
   "id": "223162fb",
   "metadata": {},
   "source": [
    "## Stack, Concat and Split Operation"
   ]
  },
  {
   "cell_type": "markdown",
   "id": "85fa4a73",
   "metadata": {},
   "source": [
    "### Performance of TreeValue"
   ]
  },
  {
   "cell_type": "code",
   "execution_count": 19,
   "id": "a0c2b697",
   "metadata": {
    "execution": {
     "iopub.execute_input": "2023-02-27T12:16:12.228134Z",
     "iopub.status.busy": "2023-02-27T12:16:12.227569Z",
     "iopub.status.idle": "2023-02-27T12:16:12.231803Z",
     "shell.execute_reply": "2023-02-27T12:16:12.230786Z"
    }
   },
   "outputs": [],
   "source": [
    "trees = [FastTreeValue(_TREE_DATA_2) for _ in range(8)]"
   ]
  },
  {
   "cell_type": "code",
   "execution_count": 20,
   "id": "017ea5a5",
   "metadata": {
    "execution": {
     "iopub.execute_input": "2023-02-27T12:16:12.234576Z",
     "iopub.status.busy": "2023-02-27T12:16:12.234214Z",
     "iopub.status.idle": "2023-02-27T12:16:12.243192Z",
     "shell.execute_reply": "2023-02-27T12:16:12.242557Z"
    }
   },
   "outputs": [
    {
     "data": {
      "text/plain": [
       "<FastTreeValue 0x7f4bd4094820>\n",
       "├── 'a' --> tensor([[[ 0.2811,  0.8114, -0.4701],\n",
       "│                    [ 0.6287,  1.0713, -0.3039]],\n",
       "│           \n",
       "│                   [[ 0.2811,  0.8114, -0.4701],\n",
       "│                    [ 0.6287,  1.0713, -0.3039]],\n",
       "│           \n",
       "│                   [[ 0.2811,  0.8114, -0.4701],\n",
       "│                    [ 0.6287,  1.0713, -0.3039]],\n",
       "│           \n",
       "│                   [[ 0.2811,  0.8114, -0.4701],\n",
       "│                    [ 0.6287,  1.0713, -0.3039]],\n",
       "│           \n",
       "│                   [[ 0.2811,  0.8114, -0.4701],\n",
       "│                    [ 0.6287,  1.0713, -0.3039]],\n",
       "│           \n",
       "│                   [[ 0.2811,  0.8114, -0.4701],\n",
       "│                    [ 0.6287,  1.0713, -0.3039]],\n",
       "│           \n",
       "│                   [[ 0.2811,  0.8114, -0.4701],\n",
       "│                    [ 0.6287,  1.0713, -0.3039]],\n",
       "│           \n",
       "│                   [[ 0.2811,  0.8114, -0.4701],\n",
       "│                    [ 0.6287,  1.0713, -0.3039]]])\n",
       "└── 'x' --> <FastTreeValue 0x7f4b1d409bb0>\n",
       "    └── 'c' --> tensor([[[ 0.3018, -0.3466,  0.6039,  2.0512],\n",
       "                         [ 1.0164,  0.6363, -0.9404,  0.0115],\n",
       "                         [ 0.5847, -0.9374, -0.5833, -0.2111]],\n",
       "                \n",
       "                        [[ 0.3018, -0.3466,  0.6039,  2.0512],\n",
       "                         [ 1.0164,  0.6363, -0.9404,  0.0115],\n",
       "                         [ 0.5847, -0.9374, -0.5833, -0.2111]],\n",
       "                \n",
       "                        [[ 0.3018, -0.3466,  0.6039,  2.0512],\n",
       "                         [ 1.0164,  0.6363, -0.9404,  0.0115],\n",
       "                         [ 0.5847, -0.9374, -0.5833, -0.2111]],\n",
       "                \n",
       "                        [[ 0.3018, -0.3466,  0.6039,  2.0512],\n",
       "                         [ 1.0164,  0.6363, -0.9404,  0.0115],\n",
       "                         [ 0.5847, -0.9374, -0.5833, -0.2111]],\n",
       "                \n",
       "                        [[ 0.3018, -0.3466,  0.6039,  2.0512],\n",
       "                         [ 1.0164,  0.6363, -0.9404,  0.0115],\n",
       "                         [ 0.5847, -0.9374, -0.5833, -0.2111]],\n",
       "                \n",
       "                        [[ 0.3018, -0.3466,  0.6039,  2.0512],\n",
       "                         [ 1.0164,  0.6363, -0.9404,  0.0115],\n",
       "                         [ 0.5847, -0.9374, -0.5833, -0.2111]],\n",
       "                \n",
       "                        [[ 0.3018, -0.3466,  0.6039,  2.0512],\n",
       "                         [ 1.0164,  0.6363, -0.9404,  0.0115],\n",
       "                         [ 0.5847, -0.9374, -0.5833, -0.2111]],\n",
       "                \n",
       "                        [[ 0.3018, -0.3466,  0.6039,  2.0512],\n",
       "                         [ 1.0164,  0.6363, -0.9404,  0.0115],\n",
       "                         [ 0.5847, -0.9374, -0.5833, -0.2111]]])"
      ]
     },
     "execution_count": 20,
     "metadata": {},
     "output_type": "execute_result"
    }
   ],
   "source": [
    "t_stack = FastTreeValue.func(subside=True)(torch.stack)\n",
    "\n",
    "t_stack(trees)"
   ]
  },
  {
   "cell_type": "code",
   "execution_count": 21,
   "id": "f8b3f415",
   "metadata": {
    "execution": {
     "iopub.execute_input": "2023-02-27T12:16:12.246156Z",
     "iopub.status.busy": "2023-02-27T12:16:12.245923Z",
     "iopub.status.idle": "2023-02-27T12:16:14.829362Z",
     "shell.execute_reply": "2023-02-27T12:16:14.828495Z"
    }
   },
   "outputs": [
    {
     "name": "stdout",
     "output_type": "stream",
     "text": [
      "31.8 µs ± 68 ns per loop (mean ± std. dev. of 7 runs, 10,000 loops each)\n"
     ]
    }
   ],
   "source": [
    "%timeit t_stack(trees)"
   ]
  },
  {
   "cell_type": "code",
   "execution_count": 22,
   "id": "94b56771",
   "metadata": {
    "execution": {
     "iopub.execute_input": "2023-02-27T12:16:14.832804Z",
     "iopub.status.busy": "2023-02-27T12:16:14.832212Z",
     "iopub.status.idle": "2023-02-27T12:16:14.840441Z",
     "shell.execute_reply": "2023-02-27T12:16:14.839813Z"
    }
   },
   "outputs": [
    {
     "data": {
      "text/plain": [
       "<FastTreeValue 0x7f4bd40a14c0>\n",
       "├── 'a' --> tensor([[ 0.2811,  0.8114, -0.4701],\n",
       "│                   [ 0.6287,  1.0713, -0.3039],\n",
       "│                   [ 0.2811,  0.8114, -0.4701],\n",
       "│                   [ 0.6287,  1.0713, -0.3039],\n",
       "│                   [ 0.2811,  0.8114, -0.4701],\n",
       "│                   [ 0.6287,  1.0713, -0.3039],\n",
       "│                   [ 0.2811,  0.8114, -0.4701],\n",
       "│                   [ 0.6287,  1.0713, -0.3039],\n",
       "│                   [ 0.2811,  0.8114, -0.4701],\n",
       "│                   [ 0.6287,  1.0713, -0.3039],\n",
       "│                   [ 0.2811,  0.8114, -0.4701],\n",
       "│                   [ 0.6287,  1.0713, -0.3039],\n",
       "│                   [ 0.2811,  0.8114, -0.4701],\n",
       "│                   [ 0.6287,  1.0713, -0.3039],\n",
       "│                   [ 0.2811,  0.8114, -0.4701],\n",
       "│                   [ 0.6287,  1.0713, -0.3039]])\n",
       "└── 'x' --> <FastTreeValue 0x7f4bd40a16a0>\n",
       "    └── 'c' --> tensor([[ 0.3018, -0.3466,  0.6039,  2.0512],\n",
       "                        [ 1.0164,  0.6363, -0.9404,  0.0115],\n",
       "                        [ 0.5847, -0.9374, -0.5833, -0.2111],\n",
       "                        [ 0.3018, -0.3466,  0.6039,  2.0512],\n",
       "                        [ 1.0164,  0.6363, -0.9404,  0.0115],\n",
       "                        [ 0.5847, -0.9374, -0.5833, -0.2111],\n",
       "                        [ 0.3018, -0.3466,  0.6039,  2.0512],\n",
       "                        [ 1.0164,  0.6363, -0.9404,  0.0115],\n",
       "                        [ 0.5847, -0.9374, -0.5833, -0.2111],\n",
       "                        [ 0.3018, -0.3466,  0.6039,  2.0512],\n",
       "                        [ 1.0164,  0.6363, -0.9404,  0.0115],\n",
       "                        [ 0.5847, -0.9374, -0.5833, -0.2111],\n",
       "                        [ 0.3018, -0.3466,  0.6039,  2.0512],\n",
       "                        [ 1.0164,  0.6363, -0.9404,  0.0115],\n",
       "                        [ 0.5847, -0.9374, -0.5833, -0.2111],\n",
       "                        [ 0.3018, -0.3466,  0.6039,  2.0512],\n",
       "                        [ 1.0164,  0.6363, -0.9404,  0.0115],\n",
       "                        [ 0.5847, -0.9374, -0.5833, -0.2111],\n",
       "                        [ 0.3018, -0.3466,  0.6039,  2.0512],\n",
       "                        [ 1.0164,  0.6363, -0.9404,  0.0115],\n",
       "                        [ 0.5847, -0.9374, -0.5833, -0.2111],\n",
       "                        [ 0.3018, -0.3466,  0.6039,  2.0512],\n",
       "                        [ 1.0164,  0.6363, -0.9404,  0.0115],\n",
       "                        [ 0.5847, -0.9374, -0.5833, -0.2111]])"
      ]
     },
     "execution_count": 22,
     "metadata": {},
     "output_type": "execute_result"
    }
   ],
   "source": [
    "t_cat = FastTreeValue.func(subside=True)(torch.cat)\n",
    "\n",
    "t_cat(trees)"
   ]
  },
  {
   "cell_type": "code",
   "execution_count": 23,
   "id": "5e9c06a6",
   "metadata": {
    "execution": {
     "iopub.execute_input": "2023-02-27T12:16:14.843201Z",
     "iopub.status.busy": "2023-02-27T12:16:14.842850Z",
     "iopub.status.idle": "2023-02-27T12:16:17.269529Z",
     "shell.execute_reply": "2023-02-27T12:16:17.268668Z"
    }
   },
   "outputs": [
    {
     "name": "stdout",
     "output_type": "stream",
     "text": [
      "29.8 µs ± 33.7 ns per loop (mean ± std. dev. of 7 runs, 10,000 loops each)\n"
     ]
    }
   ],
   "source": [
    "%timeit t_cat(trees)"
   ]
  },
  {
   "cell_type": "code",
   "execution_count": 24,
   "id": "a3ab5c8f",
   "metadata": {
    "execution": {
     "iopub.execute_input": "2023-02-27T12:16:17.273493Z",
     "iopub.status.busy": "2023-02-27T12:16:17.272850Z",
     "iopub.status.idle": "2023-02-27T12:16:21.808205Z",
     "shell.execute_reply": "2023-02-27T12:16:21.807332Z"
    }
   },
   "outputs": [
    {
     "name": "stdout",
     "output_type": "stream",
     "text": [
      "55.8 µs ± 81.1 ns per loop (mean ± std. dev. of 7 runs, 10,000 loops each)\n"
     ]
    }
   ],
   "source": [
    "t_split = FastTreeValue.func(rise=True)(torch.split)\n",
    "tree = FastTreeValue({\n",
    "    'obs': torch.randn(8, 4, 84, 84),\n",
    "    'action': torch.randint(0, 6, size=(8, 1,)),\n",
    "    'reward': torch.rand(8, 1),\n",
    "})\n",
    "\n",
    "%timeit t_split(tree, 1)"
   ]
  },
  {
   "cell_type": "markdown",
   "id": "31c3ec0b",
   "metadata": {},
   "source": [
    "### Performance of Tianshou Batch"
   ]
  },
  {
   "cell_type": "code",
   "execution_count": 25,
   "id": "9ead828a",
   "metadata": {
    "execution": {
     "iopub.execute_input": "2023-02-27T12:16:21.811491Z",
     "iopub.status.busy": "2023-02-27T12:16:21.811098Z",
     "iopub.status.idle": "2023-02-27T12:16:21.819502Z",
     "shell.execute_reply": "2023-02-27T12:16:21.818863Z"
    }
   },
   "outputs": [
    {
     "data": {
      "text/plain": [
       "Batch(\n",
       "    x: Batch(\n",
       "           c: tensor([[[ 0.3018, -0.3466,  0.6039,  2.0512],\n",
       "                       [ 1.0164,  0.6363, -0.9404,  0.0115],\n",
       "                       [ 0.5847, -0.9374, -0.5833, -0.2111]],\n",
       "              \n",
       "                      [[ 0.3018, -0.3466,  0.6039,  2.0512],\n",
       "                       [ 1.0164,  0.6363, -0.9404,  0.0115],\n",
       "                       [ 0.5847, -0.9374, -0.5833, -0.2111]],\n",
       "              \n",
       "                      [[ 0.3018, -0.3466,  0.6039,  2.0512],\n",
       "                       [ 1.0164,  0.6363, -0.9404,  0.0115],\n",
       "                       [ 0.5847, -0.9374, -0.5833, -0.2111]],\n",
       "              \n",
       "                      [[ 0.3018, -0.3466,  0.6039,  2.0512],\n",
       "                       [ 1.0164,  0.6363, -0.9404,  0.0115],\n",
       "                       [ 0.5847, -0.9374, -0.5833, -0.2111]],\n",
       "              \n",
       "                      [[ 0.3018, -0.3466,  0.6039,  2.0512],\n",
       "                       [ 1.0164,  0.6363, -0.9404,  0.0115],\n",
       "                       [ 0.5847, -0.9374, -0.5833, -0.2111]],\n",
       "              \n",
       "                      [[ 0.3018, -0.3466,  0.6039,  2.0512],\n",
       "                       [ 1.0164,  0.6363, -0.9404,  0.0115],\n",
       "                       [ 0.5847, -0.9374, -0.5833, -0.2111]],\n",
       "              \n",
       "                      [[ 0.3018, -0.3466,  0.6039,  2.0512],\n",
       "                       [ 1.0164,  0.6363, -0.9404,  0.0115],\n",
       "                       [ 0.5847, -0.9374, -0.5833, -0.2111]],\n",
       "              \n",
       "                      [[ 0.3018, -0.3466,  0.6039,  2.0512],\n",
       "                       [ 1.0164,  0.6363, -0.9404,  0.0115],\n",
       "                       [ 0.5847, -0.9374, -0.5833, -0.2111]]]),\n",
       "       ),\n",
       "    a: tensor([[[ 0.2811,  0.8114, -0.4701],\n",
       "                [ 0.6287,  1.0713, -0.3039]],\n",
       "       \n",
       "               [[ 0.2811,  0.8114, -0.4701],\n",
       "                [ 0.6287,  1.0713, -0.3039]],\n",
       "       \n",
       "               [[ 0.2811,  0.8114, -0.4701],\n",
       "                [ 0.6287,  1.0713, -0.3039]],\n",
       "       \n",
       "               [[ 0.2811,  0.8114, -0.4701],\n",
       "                [ 0.6287,  1.0713, -0.3039]],\n",
       "       \n",
       "               [[ 0.2811,  0.8114, -0.4701],\n",
       "                [ 0.6287,  1.0713, -0.3039]],\n",
       "       \n",
       "               [[ 0.2811,  0.8114, -0.4701],\n",
       "                [ 0.6287,  1.0713, -0.3039]],\n",
       "       \n",
       "               [[ 0.2811,  0.8114, -0.4701],\n",
       "                [ 0.6287,  1.0713, -0.3039]],\n",
       "       \n",
       "               [[ 0.2811,  0.8114, -0.4701],\n",
       "                [ 0.6287,  1.0713, -0.3039]]]),\n",
       ")"
      ]
     },
     "execution_count": 25,
     "metadata": {},
     "output_type": "execute_result"
    }
   ],
   "source": [
    "batches = [Batch(**_TREE_DATA_2) for _ in range(8)]\n",
    "\n",
    "Batch.stack(batches)"
   ]
  },
  {
   "cell_type": "code",
   "execution_count": 26,
   "id": "ec9037a3",
   "metadata": {
    "execution": {
     "iopub.execute_input": "2023-02-27T12:16:21.822288Z",
     "iopub.status.busy": "2023-02-27T12:16:21.821828Z",
     "iopub.status.idle": "2023-02-27T12:16:28.171997Z",
     "shell.execute_reply": "2023-02-27T12:16:28.171144Z"
    }
   },
   "outputs": [
    {
     "name": "stdout",
     "output_type": "stream",
     "text": [
      "78.2 µs ± 115 ns per loop (mean ± std. dev. of 7 runs, 10,000 loops each)\n"
     ]
    }
   ],
   "source": [
    "%timeit Batch.stack(batches)"
   ]
  },
  {
   "cell_type": "code",
   "execution_count": 27,
   "id": "cb8ab77e",
   "metadata": {
    "execution": {
     "iopub.execute_input": "2023-02-27T12:16:28.175324Z",
     "iopub.status.busy": "2023-02-27T12:16:28.174903Z",
     "iopub.status.idle": "2023-02-27T12:16:28.183726Z",
     "shell.execute_reply": "2023-02-27T12:16:28.182687Z"
    }
   },
   "outputs": [
    {
     "data": {
      "text/plain": [
       "Batch(\n",
       "    x: Batch(\n",
       "           c: tensor([[ 0.3018, -0.3466,  0.6039,  2.0512],\n",
       "                      [ 1.0164,  0.6363, -0.9404,  0.0115],\n",
       "                      [ 0.5847, -0.9374, -0.5833, -0.2111],\n",
       "                      [ 0.3018, -0.3466,  0.6039,  2.0512],\n",
       "                      [ 1.0164,  0.6363, -0.9404,  0.0115],\n",
       "                      [ 0.5847, -0.9374, -0.5833, -0.2111],\n",
       "                      [ 0.3018, -0.3466,  0.6039,  2.0512],\n",
       "                      [ 1.0164,  0.6363, -0.9404,  0.0115],\n",
       "                      [ 0.5847, -0.9374, -0.5833, -0.2111],\n",
       "                      [ 0.3018, -0.3466,  0.6039,  2.0512],\n",
       "                      [ 1.0164,  0.6363, -0.9404,  0.0115],\n",
       "                      [ 0.5847, -0.9374, -0.5833, -0.2111],\n",
       "                      [ 0.3018, -0.3466,  0.6039,  2.0512],\n",
       "                      [ 1.0164,  0.6363, -0.9404,  0.0115],\n",
       "                      [ 0.5847, -0.9374, -0.5833, -0.2111],\n",
       "                      [ 0.3018, -0.3466,  0.6039,  2.0512],\n",
       "                      [ 1.0164,  0.6363, -0.9404,  0.0115],\n",
       "                      [ 0.5847, -0.9374, -0.5833, -0.2111],\n",
       "                      [ 0.3018, -0.3466,  0.6039,  2.0512],\n",
       "                      [ 1.0164,  0.6363, -0.9404,  0.0115],\n",
       "                      [ 0.5847, -0.9374, -0.5833, -0.2111],\n",
       "                      [ 0.3018, -0.3466,  0.6039,  2.0512],\n",
       "                      [ 1.0164,  0.6363, -0.9404,  0.0115],\n",
       "                      [ 0.5847, -0.9374, -0.5833, -0.2111]]),\n",
       "       ),\n",
       "    a: tensor([[ 0.2811,  0.8114, -0.4701],\n",
       "               [ 0.6287,  1.0713, -0.3039],\n",
       "               [ 0.2811,  0.8114, -0.4701],\n",
       "               [ 0.6287,  1.0713, -0.3039],\n",
       "               [ 0.2811,  0.8114, -0.4701],\n",
       "               [ 0.6287,  1.0713, -0.3039],\n",
       "               [ 0.2811,  0.8114, -0.4701],\n",
       "               [ 0.6287,  1.0713, -0.3039],\n",
       "               [ 0.2811,  0.8114, -0.4701],\n",
       "               [ 0.6287,  1.0713, -0.3039],\n",
       "               [ 0.2811,  0.8114, -0.4701],\n",
       "               [ 0.6287,  1.0713, -0.3039],\n",
       "               [ 0.2811,  0.8114, -0.4701],\n",
       "               [ 0.6287,  1.0713, -0.3039],\n",
       "               [ 0.2811,  0.8114, -0.4701],\n",
       "               [ 0.6287,  1.0713, -0.3039]]),\n",
       ")"
      ]
     },
     "execution_count": 27,
     "metadata": {},
     "output_type": "execute_result"
    }
   ],
   "source": [
    "Batch.cat(batches)"
   ]
  },
  {
   "cell_type": "code",
   "execution_count": 28,
   "id": "18dfb045",
   "metadata": {
    "execution": {
     "iopub.execute_input": "2023-02-27T12:16:28.186399Z",
     "iopub.status.busy": "2023-02-27T12:16:28.186007Z",
     "iopub.status.idle": "2023-02-27T12:16:39.771959Z",
     "shell.execute_reply": "2023-02-27T12:16:39.771084Z"
    }
   },
   "outputs": [
    {
     "name": "stdout",
     "output_type": "stream",
     "text": [
      "143 µs ± 1.02 µs per loop (mean ± std. dev. of 7 runs, 10,000 loops each)\n"
     ]
    }
   ],
   "source": [
    "%timeit Batch.cat(batches)"
   ]
  },
  {
   "cell_type": "code",
   "execution_count": 29,
   "id": "c6688e51",
   "metadata": {
    "execution": {
     "iopub.execute_input": "2023-02-27T12:16:39.775750Z",
     "iopub.status.busy": "2023-02-27T12:16:39.775311Z",
     "iopub.status.idle": "2023-02-27T12:16:42.527318Z",
     "shell.execute_reply": "2023-02-27T12:16:42.526509Z"
    }
   },
   "outputs": [
    {
     "name": "stdout",
     "output_type": "stream",
     "text": [
      "338 µs ± 2.53 µs per loop (mean ± std. dev. of 7 runs, 1,000 loops each)\n"
     ]
    }
   ],
   "source": [
    "batch = Batch({\n",
    "    'obs': torch.randn(8, 4, 84, 84),\n",
    "    'action': torch.randint(0, 6, size=(8, 1,)),\n",
    "    'reward': torch.rand(8, 1)}\n",
    ")\n",
    "\n",
    "%timeit list(Batch.split(batch, 1, shuffle=False, merge_last=True))"
   ]
  },
  {
   "cell_type": "code",
   "execution_count": null,
   "id": "2539fbd9",
   "metadata": {},
   "outputs": [],
   "source": []
  }
 ],
 "metadata": {
  "kernelspec": {
   "display_name": "Python 3 (ipykernel)",
   "language": "python",
   "name": "python3"
  },
  "language_info": {
   "codemirror_mode": {
    "name": "ipython",
    "version": 3
   },
   "file_extension": ".py",
   "mimetype": "text/x-python",
   "name": "python",
   "nbconvert_exporter": "python",
   "pygments_lexer": "ipython3",
   "version": "3.8.16"
  }
 },
 "nbformat": 4,
 "nbformat_minor": 5
}
