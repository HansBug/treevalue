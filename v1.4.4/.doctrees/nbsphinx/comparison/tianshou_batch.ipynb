{
 "cells": [
  {
   "cell_type": "markdown",
   "id": "9d39d946",
   "metadata": {},
   "source": [
    "# Comparison Between TreeValue and Tianshou Batch"
   ]
  },
  {
   "cell_type": "markdown",
   "id": "3c6db2d4",
   "metadata": {},
   "source": [
    "In this section, we will take a look at the feature and performance of the [Tianshou Batch](https://github.com/thu-ml/tianshou) library, which is developed by Tsinghua Machine Learning Group."
   ]
  },
  {
   "cell_type": "markdown",
   "id": "069361b0",
   "metadata": {},
   "source": [
    "Before starting the comparison, let us define some thing."
   ]
  },
  {
   "cell_type": "code",
   "execution_count": 1,
   "id": "06fc8d26",
   "metadata": {
    "execution": {
     "iopub.execute_input": "2023-02-25T08:55:57.216130Z",
     "iopub.status.busy": "2023-02-25T08:55:57.215840Z",
     "iopub.status.idle": "2023-02-25T08:55:58.411746Z",
     "shell.execute_reply": "2023-02-25T08:55:58.410634Z"
    }
   },
   "outputs": [
    {
     "name": "stderr",
     "output_type": "stream",
     "text": [
      "/opt/hostedtoolcache/Python/3.8.16/x64/lib/python3.8/site-packages/tqdm/auto.py:22: TqdmWarning: IProgress not found. Please update jupyter and ipywidgets. See https://ipywidgets.readthedocs.io/en/stable/user_install.html\n",
      "  from .autonotebook import tqdm as notebook_tqdm\n"
     ]
    }
   ],
   "source": [
    "import torch \n",
    "\n",
    "_TREE_DATA_1 = {'a': 1, 'b': 2, 'x': {'c': 3, 'd': 4}}\n",
    "_TREE_DATA_2 = {\n",
    "    'a': torch.randn(2, 3), \n",
    "    'x': {\n",
    "        'c': torch.randn(3, 4)\n",
    "    },\n",
    "}\n",
    "_TREE_DATA_3 = {\n",
    "    'obs': torch.randn(4, 84, 84),\n",
    "    'action': torch.randint(0, 6, size=(1,)),\n",
    "    'reward': torch.rand(1),\n",
    "}"
   ]
  },
  {
   "cell_type": "markdown",
   "id": "83461b25",
   "metadata": {},
   "source": [
    "## Read and Write Operation"
   ]
  },
  {
   "cell_type": "markdown",
   "id": "067b3f73",
   "metadata": {},
   "source": [
    "Reading and writing are the two most common operations in the tree data structure based on the data model (TreeValue and Tianshou Batch both belong to this type), so this section will compare the reading and writing performance of these two libraries."
   ]
  },
  {
   "cell_type": "markdown",
   "id": "5d09a5b7",
   "metadata": {},
   "source": [
    "### TreeValue's Get and Set"
   ]
  },
  {
   "cell_type": "code",
   "execution_count": 2,
   "id": "9519c4bb",
   "metadata": {
    "execution": {
     "iopub.execute_input": "2023-02-25T08:55:58.416385Z",
     "iopub.status.busy": "2023-02-25T08:55:58.415501Z",
     "iopub.status.idle": "2023-02-25T08:55:58.464271Z",
     "shell.execute_reply": "2023-02-25T08:55:58.463051Z"
    }
   },
   "outputs": [],
   "source": [
    "from treevalue import FastTreeValue\n",
    "\n",
    "t = FastTreeValue(_TREE_DATA_2)"
   ]
  },
  {
   "cell_type": "code",
   "execution_count": 3,
   "id": "11c37677",
   "metadata": {
    "execution": {
     "iopub.execute_input": "2023-02-25T08:55:58.468402Z",
     "iopub.status.busy": "2023-02-25T08:55:58.468071Z",
     "iopub.status.idle": "2023-02-25T08:55:58.481393Z",
     "shell.execute_reply": "2023-02-25T08:55:58.480256Z"
    }
   },
   "outputs": [
    {
     "data": {
      "text/plain": [
       "<FastTreeValue 0x7f1d849a26d0>\n",
       "├── 'a' --> tensor([[ 0.8990,  0.5965, -1.6339],\n",
       "│                   [ 0.2272,  0.2877,  0.7864]])\n",
       "└── 'x' --> <FastTreeValue 0x7f1d849a2d30>\n",
       "    └── 'c' --> tensor([[-1.8607e+00,  1.0264e-01, -8.9569e-01,  4.3114e-01],\n",
       "                        [ 1.3546e+00,  7.6471e-01,  1.1446e-01, -7.3984e-01],\n",
       "                        [ 8.4384e-01, -4.4212e-01,  5.6725e-01, -1.8417e-03]])"
      ]
     },
     "execution_count": 3,
     "metadata": {},
     "output_type": "execute_result"
    }
   ],
   "source": [
    "t"
   ]
  },
  {
   "cell_type": "code",
   "execution_count": 4,
   "id": "fd70b0b9",
   "metadata": {
    "execution": {
     "iopub.execute_input": "2023-02-25T08:55:58.484996Z",
     "iopub.status.busy": "2023-02-25T08:55:58.484480Z",
     "iopub.status.idle": "2023-02-25T08:55:58.492164Z",
     "shell.execute_reply": "2023-02-25T08:55:58.491133Z"
    }
   },
   "outputs": [
    {
     "data": {
      "text/plain": [
       "tensor([[ 0.8990,  0.5965, -1.6339],\n",
       "        [ 0.2272,  0.2877,  0.7864]])"
      ]
     },
     "execution_count": 4,
     "metadata": {},
     "output_type": "execute_result"
    }
   ],
   "source": [
    "t.a"
   ]
  },
  {
   "cell_type": "code",
   "execution_count": 5,
   "id": "c18197bd",
   "metadata": {
    "execution": {
     "iopub.execute_input": "2023-02-25T08:55:58.496021Z",
     "iopub.status.busy": "2023-02-25T08:55:58.495484Z",
     "iopub.status.idle": "2023-02-25T08:56:04.175838Z",
     "shell.execute_reply": "2023-02-25T08:56:04.174543Z"
    }
   },
   "outputs": [
    {
     "name": "stdout",
     "output_type": "stream",
     "text": [
      "69.2 ns ± 1.31 ns per loop (mean ± std. dev. of 7 runs, 10,000,000 loops each)\n"
     ]
    }
   ],
   "source": [
    "%timeit t.a"
   ]
  },
  {
   "cell_type": "code",
   "execution_count": 6,
   "id": "bd52f867",
   "metadata": {
    "execution": {
     "iopub.execute_input": "2023-02-25T08:56:04.179572Z",
     "iopub.status.busy": "2023-02-25T08:56:04.178780Z",
     "iopub.status.idle": "2023-02-25T08:56:04.186802Z",
     "shell.execute_reply": "2023-02-25T08:56:04.185871Z"
    }
   },
   "outputs": [
    {
     "data": {
      "text/plain": [
       "<FastTreeValue 0x7f1d849a26d0>\n",
       "├── 'a' --> tensor([[-0.1251, -0.8949,  0.3470],\n",
       "│                   [ 1.5592, -0.1718,  0.5558]])\n",
       "└── 'x' --> <FastTreeValue 0x7f1d849a2d30>\n",
       "    └── 'c' --> tensor([[-1.8607e+00,  1.0264e-01, -8.9569e-01,  4.3114e-01],\n",
       "                        [ 1.3546e+00,  7.6471e-01,  1.1446e-01, -7.3984e-01],\n",
       "                        [ 8.4384e-01, -4.4212e-01,  5.6725e-01, -1.8417e-03]])"
      ]
     },
     "execution_count": 6,
     "metadata": {},
     "output_type": "execute_result"
    }
   ],
   "source": [
    "new_value = torch.randn(2, 3)\n",
    "t.a = new_value\n",
    "\n",
    "t"
   ]
  },
  {
   "cell_type": "code",
   "execution_count": 7,
   "id": "bbe04d1c",
   "metadata": {
    "execution": {
     "iopub.execute_input": "2023-02-25T08:56:04.189846Z",
     "iopub.status.busy": "2023-02-25T08:56:04.189550Z",
     "iopub.status.idle": "2023-02-25T08:56:11.465640Z",
     "shell.execute_reply": "2023-02-25T08:56:11.464639Z"
    }
   },
   "outputs": [
    {
     "name": "stdout",
     "output_type": "stream",
     "text": [
      "89.6 ns ± 0.959 ns per loop (mean ± std. dev. of 7 runs, 10,000,000 loops each)\n"
     ]
    }
   ],
   "source": [
    "%timeit t.a = new_value"
   ]
  },
  {
   "cell_type": "markdown",
   "id": "48c49731",
   "metadata": {},
   "source": [
    "### Tianshou Batch's Get and Set"
   ]
  },
  {
   "cell_type": "code",
   "execution_count": 8,
   "id": "f1bb14c1",
   "metadata": {
    "execution": {
     "iopub.execute_input": "2023-02-25T08:56:11.469616Z",
     "iopub.status.busy": "2023-02-25T08:56:11.469057Z",
     "iopub.status.idle": "2023-02-25T08:56:11.909977Z",
     "shell.execute_reply": "2023-02-25T08:56:11.908881Z"
    }
   },
   "outputs": [],
   "source": [
    "from tianshou.data import Batch\n",
    "\n",
    "b = Batch(**_TREE_DATA_2)"
   ]
  },
  {
   "cell_type": "code",
   "execution_count": 9,
   "id": "cb0777c3",
   "metadata": {
    "execution": {
     "iopub.execute_input": "2023-02-25T08:56:11.916095Z",
     "iopub.status.busy": "2023-02-25T08:56:11.915544Z",
     "iopub.status.idle": "2023-02-25T08:56:11.924411Z",
     "shell.execute_reply": "2023-02-25T08:56:11.923286Z"
    }
   },
   "outputs": [
    {
     "data": {
      "text/plain": [
       "Batch(\n",
       "    a: tensor([[ 0.8990,  0.5965, -1.6339],\n",
       "               [ 0.2272,  0.2877,  0.7864]]),\n",
       "    x: Batch(\n",
       "           c: tensor([[-1.8607e+00,  1.0264e-01, -8.9569e-01,  4.3114e-01],\n",
       "                      [ 1.3546e+00,  7.6471e-01,  1.1446e-01, -7.3984e-01],\n",
       "                      [ 8.4384e-01, -4.4212e-01,  5.6725e-01, -1.8417e-03]]),\n",
       "       ),\n",
       ")"
      ]
     },
     "execution_count": 9,
     "metadata": {},
     "output_type": "execute_result"
    }
   ],
   "source": [
    "b"
   ]
  },
  {
   "cell_type": "code",
   "execution_count": 10,
   "id": "43ef8ea3",
   "metadata": {
    "execution": {
     "iopub.execute_input": "2023-02-25T08:56:11.927446Z",
     "iopub.status.busy": "2023-02-25T08:56:11.927154Z",
     "iopub.status.idle": "2023-02-25T08:56:11.934672Z",
     "shell.execute_reply": "2023-02-25T08:56:11.933772Z"
    }
   },
   "outputs": [
    {
     "data": {
      "text/plain": [
       "tensor([[ 0.8990,  0.5965, -1.6339],\n",
       "        [ 0.2272,  0.2877,  0.7864]])"
      ]
     },
     "execution_count": 10,
     "metadata": {},
     "output_type": "execute_result"
    }
   ],
   "source": [
    "b.a"
   ]
  },
  {
   "cell_type": "code",
   "execution_count": 11,
   "id": "b785ab72",
   "metadata": {
    "execution": {
     "iopub.execute_input": "2023-02-25T08:56:11.938291Z",
     "iopub.status.busy": "2023-02-25T08:56:11.937718Z",
     "iopub.status.idle": "2023-02-25T08:56:17.150766Z",
     "shell.execute_reply": "2023-02-25T08:56:17.149747Z"
    }
   },
   "outputs": [
    {
     "name": "stdout",
     "output_type": "stream",
     "text": [
      "64.3 ns ± 0.878 ns per loop (mean ± std. dev. of 7 runs, 10,000,000 loops each)\n"
     ]
    }
   ],
   "source": [
    "%timeit b.a"
   ]
  },
  {
   "cell_type": "code",
   "execution_count": 12,
   "id": "ad54dc69",
   "metadata": {
    "execution": {
     "iopub.execute_input": "2023-02-25T08:56:17.153979Z",
     "iopub.status.busy": "2023-02-25T08:56:17.153638Z",
     "iopub.status.idle": "2023-02-25T08:56:17.162734Z",
     "shell.execute_reply": "2023-02-25T08:56:17.161761Z"
    }
   },
   "outputs": [
    {
     "data": {
      "text/plain": [
       "Batch(\n",
       "    a: tensor([[-0.8781, -0.0678, -1.9473],\n",
       "               [-0.9390, -0.9554, -2.2939]]),\n",
       "    x: Batch(\n",
       "           c: tensor([[-1.8607e+00,  1.0264e-01, -8.9569e-01,  4.3114e-01],\n",
       "                      [ 1.3546e+00,  7.6471e-01,  1.1446e-01, -7.3984e-01],\n",
       "                      [ 8.4384e-01, -4.4212e-01,  5.6725e-01, -1.8417e-03]]),\n",
       "       ),\n",
       ")"
      ]
     },
     "execution_count": 12,
     "metadata": {},
     "output_type": "execute_result"
    }
   ],
   "source": [
    "new_value = torch.randn(2, 3)\n",
    "b.a = new_value\n",
    "\n",
    "b"
   ]
  },
  {
   "cell_type": "code",
   "execution_count": 13,
   "id": "29b1d0bf",
   "metadata": {
    "execution": {
     "iopub.execute_input": "2023-02-25T08:56:17.167139Z",
     "iopub.status.busy": "2023-02-25T08:56:17.166831Z",
     "iopub.status.idle": "2023-02-25T08:56:22.298611Z",
     "shell.execute_reply": "2023-02-25T08:56:22.297519Z"
    }
   },
   "outputs": [
    {
     "name": "stdout",
     "output_type": "stream",
     "text": [
      "630 ns ± 10.6 ns per loop (mean ± std. dev. of 7 runs, 1,000,000 loops each)\n"
     ]
    }
   ],
   "source": [
    "%timeit b.a = new_value"
   ]
  },
  {
   "cell_type": "markdown",
   "id": "b61ad1d0",
   "metadata": {},
   "source": [
    "## Initialization"
   ]
  },
  {
   "cell_type": "markdown",
   "id": "d70f0d54",
   "metadata": {},
   "source": [
    "### TreeValue's Initialization"
   ]
  },
  {
   "cell_type": "code",
   "execution_count": 14,
   "id": "d32a679b",
   "metadata": {
    "execution": {
     "iopub.execute_input": "2023-02-25T08:56:22.302558Z",
     "iopub.status.busy": "2023-02-25T08:56:22.302019Z",
     "iopub.status.idle": "2023-02-25T08:56:30.897634Z",
     "shell.execute_reply": "2023-02-25T08:56:30.896608Z"
    }
   },
   "outputs": [
    {
     "name": "stdout",
     "output_type": "stream",
     "text": [
      "1.06 µs ± 26 ns per loop (mean ± std. dev. of 7 runs, 1,000,000 loops each)\n"
     ]
    }
   ],
   "source": [
    "%timeit FastTreeValue(_TREE_DATA_1)"
   ]
  },
  {
   "cell_type": "markdown",
   "id": "24f3707b",
   "metadata": {},
   "source": [
    "### Tianshou Batch's Initialization"
   ]
  },
  {
   "cell_type": "code",
   "execution_count": 15,
   "id": "ac3958df",
   "metadata": {
    "execution": {
     "iopub.execute_input": "2023-02-25T08:56:30.902380Z",
     "iopub.status.busy": "2023-02-25T08:56:30.901746Z",
     "iopub.status.idle": "2023-02-25T08:56:41.935358Z",
     "shell.execute_reply": "2023-02-25T08:56:41.934367Z"
    }
   },
   "outputs": [
    {
     "name": "stdout",
     "output_type": "stream",
     "text": [
      "13.6 µs ± 306 ns per loop (mean ± std. dev. of 7 runs, 100,000 loops each)\n"
     ]
    }
   ],
   "source": [
    "%timeit Batch(**_TREE_DATA_1)"
   ]
  },
  {
   "cell_type": "markdown",
   "id": "1ab82e2d",
   "metadata": {},
   "source": [
    "## Deep Copy Operation"
   ]
  },
  {
   "cell_type": "code",
   "execution_count": 16,
   "id": "210a9442",
   "metadata": {
    "execution": {
     "iopub.execute_input": "2023-02-25T08:56:41.939078Z",
     "iopub.status.busy": "2023-02-25T08:56:41.938755Z",
     "iopub.status.idle": "2023-02-25T08:56:41.947158Z",
     "shell.execute_reply": "2023-02-25T08:56:41.943025Z"
    }
   },
   "outputs": [],
   "source": [
    "import copy"
   ]
  },
  {
   "cell_type": "markdown",
   "id": "5a736274",
   "metadata": {},
   "source": [
    "### Deep Copy of TreeValue"
   ]
  },
  {
   "cell_type": "code",
   "execution_count": 17,
   "id": "f9bcadd6",
   "metadata": {
    "execution": {
     "iopub.execute_input": "2023-02-25T08:56:41.950422Z",
     "iopub.status.busy": "2023-02-25T08:56:41.949986Z",
     "iopub.status.idle": "2023-02-25T08:56:44.257338Z",
     "shell.execute_reply": "2023-02-25T08:56:44.256207Z"
    }
   },
   "outputs": [
    {
     "name": "stdout",
     "output_type": "stream",
     "text": [
      "282 µs ± 9.03 µs per loop (mean ± std. dev. of 7 runs, 1,000 loops each)\n"
     ]
    }
   ],
   "source": [
    "t3 = FastTreeValue(_TREE_DATA_3)\n",
    "%timeit copy.deepcopy(t3)"
   ]
  },
  {
   "cell_type": "markdown",
   "id": "bf8be7ea",
   "metadata": {},
   "source": [
    "### Deep Copy of Tianshou Batch"
   ]
  },
  {
   "cell_type": "code",
   "execution_count": 18,
   "id": "91998e6f",
   "metadata": {
    "execution": {
     "iopub.execute_input": "2023-02-25T08:56:44.261230Z",
     "iopub.status.busy": "2023-02-25T08:56:44.260878Z",
     "iopub.status.idle": "2023-02-25T08:56:46.444905Z",
     "shell.execute_reply": "2023-02-25T08:56:46.444019Z"
    }
   },
   "outputs": [
    {
     "name": "stdout",
     "output_type": "stream",
     "text": [
      "263 µs ± 5.03 µs per loop (mean ± std. dev. of 7 runs, 1,000 loops each)\n"
     ]
    }
   ],
   "source": [
    "b3 = Batch(**_TREE_DATA_3)\n",
    "%timeit copy.deepcopy(b3)"
   ]
  },
  {
   "cell_type": "markdown",
   "id": "223162fb",
   "metadata": {},
   "source": [
    "## Stack, Concat and Split Operation"
   ]
  },
  {
   "cell_type": "markdown",
   "id": "85fa4a73",
   "metadata": {},
   "source": [
    "### Performance of TreeValue"
   ]
  },
  {
   "cell_type": "code",
   "execution_count": 19,
   "id": "a0c2b697",
   "metadata": {
    "execution": {
     "iopub.execute_input": "2023-02-25T08:56:46.448573Z",
     "iopub.status.busy": "2023-02-25T08:56:46.447691Z",
     "iopub.status.idle": "2023-02-25T08:56:46.452609Z",
     "shell.execute_reply": "2023-02-25T08:56:46.451578Z"
    }
   },
   "outputs": [],
   "source": [
    "trees = [FastTreeValue(_TREE_DATA_2) for _ in range(8)]"
   ]
  },
  {
   "cell_type": "code",
   "execution_count": 20,
   "id": "017ea5a5",
   "metadata": {
    "execution": {
     "iopub.execute_input": "2023-02-25T08:56:46.455654Z",
     "iopub.status.busy": "2023-02-25T08:56:46.455129Z",
     "iopub.status.idle": "2023-02-25T08:56:46.464121Z",
     "shell.execute_reply": "2023-02-25T08:56:46.463237Z"
    }
   },
   "outputs": [
    {
     "data": {
      "text/plain": [
       "<FastTreeValue 0x7f1d58dcda30>\n",
       "├── 'a' --> tensor([[[ 0.8990,  0.5965, -1.6339],\n",
       "│                    [ 0.2272,  0.2877,  0.7864]],\n",
       "│           \n",
       "│                   [[ 0.8990,  0.5965, -1.6339],\n",
       "│                    [ 0.2272,  0.2877,  0.7864]],\n",
       "│           \n",
       "│                   [[ 0.8990,  0.5965, -1.6339],\n",
       "│                    [ 0.2272,  0.2877,  0.7864]],\n",
       "│           \n",
       "│                   [[ 0.8990,  0.5965, -1.6339],\n",
       "│                    [ 0.2272,  0.2877,  0.7864]],\n",
       "│           \n",
       "│                   [[ 0.8990,  0.5965, -1.6339],\n",
       "│                    [ 0.2272,  0.2877,  0.7864]],\n",
       "│           \n",
       "│                   [[ 0.8990,  0.5965, -1.6339],\n",
       "│                    [ 0.2272,  0.2877,  0.7864]],\n",
       "│           \n",
       "│                   [[ 0.8990,  0.5965, -1.6339],\n",
       "│                    [ 0.2272,  0.2877,  0.7864]],\n",
       "│           \n",
       "│                   [[ 0.8990,  0.5965, -1.6339],\n",
       "│                    [ 0.2272,  0.2877,  0.7864]]])\n",
       "└── 'x' --> <FastTreeValue 0x7f1d8499b8b0>\n",
       "    └── 'c' --> tensor([[[-1.8607e+00,  1.0264e-01, -8.9569e-01,  4.3114e-01],\n",
       "                         [ 1.3546e+00,  7.6471e-01,  1.1446e-01, -7.3984e-01],\n",
       "                         [ 8.4384e-01, -4.4212e-01,  5.6725e-01, -1.8417e-03]],\n",
       "                \n",
       "                        [[-1.8607e+00,  1.0264e-01, -8.9569e-01,  4.3114e-01],\n",
       "                         [ 1.3546e+00,  7.6471e-01,  1.1446e-01, -7.3984e-01],\n",
       "                         [ 8.4384e-01, -4.4212e-01,  5.6725e-01, -1.8417e-03]],\n",
       "                \n",
       "                        [[-1.8607e+00,  1.0264e-01, -8.9569e-01,  4.3114e-01],\n",
       "                         [ 1.3546e+00,  7.6471e-01,  1.1446e-01, -7.3984e-01],\n",
       "                         [ 8.4384e-01, -4.4212e-01,  5.6725e-01, -1.8417e-03]],\n",
       "                \n",
       "                        [[-1.8607e+00,  1.0264e-01, -8.9569e-01,  4.3114e-01],\n",
       "                         [ 1.3546e+00,  7.6471e-01,  1.1446e-01, -7.3984e-01],\n",
       "                         [ 8.4384e-01, -4.4212e-01,  5.6725e-01, -1.8417e-03]],\n",
       "                \n",
       "                        [[-1.8607e+00,  1.0264e-01, -8.9569e-01,  4.3114e-01],\n",
       "                         [ 1.3546e+00,  7.6471e-01,  1.1446e-01, -7.3984e-01],\n",
       "                         [ 8.4384e-01, -4.4212e-01,  5.6725e-01, -1.8417e-03]],\n",
       "                \n",
       "                        [[-1.8607e+00,  1.0264e-01, -8.9569e-01,  4.3114e-01],\n",
       "                         [ 1.3546e+00,  7.6471e-01,  1.1446e-01, -7.3984e-01],\n",
       "                         [ 8.4384e-01, -4.4212e-01,  5.6725e-01, -1.8417e-03]],\n",
       "                \n",
       "                        [[-1.8607e+00,  1.0264e-01, -8.9569e-01,  4.3114e-01],\n",
       "                         [ 1.3546e+00,  7.6471e-01,  1.1446e-01, -7.3984e-01],\n",
       "                         [ 8.4384e-01, -4.4212e-01,  5.6725e-01, -1.8417e-03]],\n",
       "                \n",
       "                        [[-1.8607e+00,  1.0264e-01, -8.9569e-01,  4.3114e-01],\n",
       "                         [ 1.3546e+00,  7.6471e-01,  1.1446e-01, -7.3984e-01],\n",
       "                         [ 8.4384e-01, -4.4212e-01,  5.6725e-01, -1.8417e-03]]])"
      ]
     },
     "execution_count": 20,
     "metadata": {},
     "output_type": "execute_result"
    }
   ],
   "source": [
    "t_stack = FastTreeValue.func(subside=True)(torch.stack)\n",
    "\n",
    "t_stack(trees)"
   ]
  },
  {
   "cell_type": "code",
   "execution_count": 21,
   "id": "f8b3f415",
   "metadata": {
    "execution": {
     "iopub.execute_input": "2023-02-25T08:56:46.467432Z",
     "iopub.status.busy": "2023-02-25T08:56:46.466915Z",
     "iopub.status.idle": "2023-02-25T08:56:50.246165Z",
     "shell.execute_reply": "2023-02-25T08:56:50.245101Z"
    }
   },
   "outputs": [
    {
     "name": "stdout",
     "output_type": "stream",
     "text": [
      "46.7 µs ± 3.27 µs per loop (mean ± std. dev. of 7 runs, 10,000 loops each)\n"
     ]
    }
   ],
   "source": [
    "%timeit t_stack(trees)"
   ]
  },
  {
   "cell_type": "code",
   "execution_count": 22,
   "id": "94b56771",
   "metadata": {
    "execution": {
     "iopub.execute_input": "2023-02-25T08:56:50.250507Z",
     "iopub.status.busy": "2023-02-25T08:56:50.249512Z",
     "iopub.status.idle": "2023-02-25T08:56:50.261725Z",
     "shell.execute_reply": "2023-02-25T08:56:50.260755Z"
    }
   },
   "outputs": [
    {
     "data": {
      "text/plain": [
       "<FastTreeValue 0x7f1cd7687700>\n",
       "├── 'a' --> tensor([[ 0.8990,  0.5965, -1.6339],\n",
       "│                   [ 0.2272,  0.2877,  0.7864],\n",
       "│                   [ 0.8990,  0.5965, -1.6339],\n",
       "│                   [ 0.2272,  0.2877,  0.7864],\n",
       "│                   [ 0.8990,  0.5965, -1.6339],\n",
       "│                   [ 0.2272,  0.2877,  0.7864],\n",
       "│                   [ 0.8990,  0.5965, -1.6339],\n",
       "│                   [ 0.2272,  0.2877,  0.7864],\n",
       "│                   [ 0.8990,  0.5965, -1.6339],\n",
       "│                   [ 0.2272,  0.2877,  0.7864],\n",
       "│                   [ 0.8990,  0.5965, -1.6339],\n",
       "│                   [ 0.2272,  0.2877,  0.7864],\n",
       "│                   [ 0.8990,  0.5965, -1.6339],\n",
       "│                   [ 0.2272,  0.2877,  0.7864],\n",
       "│                   [ 0.8990,  0.5965, -1.6339],\n",
       "│                   [ 0.2272,  0.2877,  0.7864]])\n",
       "└── 'x' --> <FastTreeValue 0x7f1cd7687190>\n",
       "    └── 'c' --> tensor([[-1.8607e+00,  1.0264e-01, -8.9569e-01,  4.3114e-01],\n",
       "                        [ 1.3546e+00,  7.6471e-01,  1.1446e-01, -7.3984e-01],\n",
       "                        [ 8.4384e-01, -4.4212e-01,  5.6725e-01, -1.8417e-03],\n",
       "                        [-1.8607e+00,  1.0264e-01, -8.9569e-01,  4.3114e-01],\n",
       "                        [ 1.3546e+00,  7.6471e-01,  1.1446e-01, -7.3984e-01],\n",
       "                        [ 8.4384e-01, -4.4212e-01,  5.6725e-01, -1.8417e-03],\n",
       "                        [-1.8607e+00,  1.0264e-01, -8.9569e-01,  4.3114e-01],\n",
       "                        [ 1.3546e+00,  7.6471e-01,  1.1446e-01, -7.3984e-01],\n",
       "                        [ 8.4384e-01, -4.4212e-01,  5.6725e-01, -1.8417e-03],\n",
       "                        [-1.8607e+00,  1.0264e-01, -8.9569e-01,  4.3114e-01],\n",
       "                        [ 1.3546e+00,  7.6471e-01,  1.1446e-01, -7.3984e-01],\n",
       "                        [ 8.4384e-01, -4.4212e-01,  5.6725e-01, -1.8417e-03],\n",
       "                        [-1.8607e+00,  1.0264e-01, -8.9569e-01,  4.3114e-01],\n",
       "                        [ 1.3546e+00,  7.6471e-01,  1.1446e-01, -7.3984e-01],\n",
       "                        [ 8.4384e-01, -4.4212e-01,  5.6725e-01, -1.8417e-03],\n",
       "                        [-1.8607e+00,  1.0264e-01, -8.9569e-01,  4.3114e-01],\n",
       "                        [ 1.3546e+00,  7.6471e-01,  1.1446e-01, -7.3984e-01],\n",
       "                        [ 8.4384e-01, -4.4212e-01,  5.6725e-01, -1.8417e-03],\n",
       "                        [-1.8607e+00,  1.0264e-01, -8.9569e-01,  4.3114e-01],\n",
       "                        [ 1.3546e+00,  7.6471e-01,  1.1446e-01, -7.3984e-01],\n",
       "                        [ 8.4384e-01, -4.4212e-01,  5.6725e-01, -1.8417e-03],\n",
       "                        [-1.8607e+00,  1.0264e-01, -8.9569e-01,  4.3114e-01],\n",
       "                        [ 1.3546e+00,  7.6471e-01,  1.1446e-01, -7.3984e-01],\n",
       "                        [ 8.4384e-01, -4.4212e-01,  5.6725e-01, -1.8417e-03]])"
      ]
     },
     "execution_count": 22,
     "metadata": {},
     "output_type": "execute_result"
    }
   ],
   "source": [
    "t_cat = FastTreeValue.func(subside=True)(torch.cat)\n",
    "\n",
    "t_cat(trees)"
   ]
  },
  {
   "cell_type": "code",
   "execution_count": 23,
   "id": "5e9c06a6",
   "metadata": {
    "execution": {
     "iopub.execute_input": "2023-02-25T08:56:50.265593Z",
     "iopub.status.busy": "2023-02-25T08:56:50.265074Z",
     "iopub.status.idle": "2023-02-25T08:56:54.231447Z",
     "shell.execute_reply": "2023-02-25T08:56:54.230440Z"
    }
   },
   "outputs": [
    {
     "name": "stdout",
     "output_type": "stream",
     "text": [
      "48.1 µs ± 4.49 µs per loop (mean ± std. dev. of 7 runs, 10,000 loops each)\n"
     ]
    }
   ],
   "source": [
    "%timeit t_cat(trees)"
   ]
  },
  {
   "cell_type": "code",
   "execution_count": 24,
   "id": "a3ab5c8f",
   "metadata": {
    "execution": {
     "iopub.execute_input": "2023-02-25T08:56:54.235000Z",
     "iopub.status.busy": "2023-02-25T08:56:54.234702Z",
     "iopub.status.idle": "2023-02-25T08:57:00.743374Z",
     "shell.execute_reply": "2023-02-25T08:57:00.742340Z"
    }
   },
   "outputs": [
    {
     "name": "stdout",
     "output_type": "stream",
     "text": [
      "80.1 µs ± 1.5 µs per loop (mean ± std. dev. of 7 runs, 10,000 loops each)\n"
     ]
    }
   ],
   "source": [
    "t_split = FastTreeValue.func(rise=True)(torch.split)\n",
    "tree = FastTreeValue({\n",
    "    'obs': torch.randn(8, 4, 84, 84),\n",
    "    'action': torch.randint(0, 6, size=(8, 1,)),\n",
    "    'reward': torch.rand(8, 1),\n",
    "})\n",
    "\n",
    "%timeit t_split(tree, 1)"
   ]
  },
  {
   "cell_type": "markdown",
   "id": "31c3ec0b",
   "metadata": {},
   "source": [
    "### Performance of Tianshou Batch"
   ]
  },
  {
   "cell_type": "code",
   "execution_count": 25,
   "id": "9ead828a",
   "metadata": {
    "execution": {
     "iopub.execute_input": "2023-02-25T08:57:00.747186Z",
     "iopub.status.busy": "2023-02-25T08:57:00.746631Z",
     "iopub.status.idle": "2023-02-25T08:57:00.757436Z",
     "shell.execute_reply": "2023-02-25T08:57:00.756395Z"
    }
   },
   "outputs": [
    {
     "data": {
      "text/plain": [
       "Batch(\n",
       "    a: tensor([[[ 0.8990,  0.5965, -1.6339],\n",
       "                [ 0.2272,  0.2877,  0.7864]],\n",
       "       \n",
       "               [[ 0.8990,  0.5965, -1.6339],\n",
       "                [ 0.2272,  0.2877,  0.7864]],\n",
       "       \n",
       "               [[ 0.8990,  0.5965, -1.6339],\n",
       "                [ 0.2272,  0.2877,  0.7864]],\n",
       "       \n",
       "               [[ 0.8990,  0.5965, -1.6339],\n",
       "                [ 0.2272,  0.2877,  0.7864]],\n",
       "       \n",
       "               [[ 0.8990,  0.5965, -1.6339],\n",
       "                [ 0.2272,  0.2877,  0.7864]],\n",
       "       \n",
       "               [[ 0.8990,  0.5965, -1.6339],\n",
       "                [ 0.2272,  0.2877,  0.7864]],\n",
       "       \n",
       "               [[ 0.8990,  0.5965, -1.6339],\n",
       "                [ 0.2272,  0.2877,  0.7864]],\n",
       "       \n",
       "               [[ 0.8990,  0.5965, -1.6339],\n",
       "                [ 0.2272,  0.2877,  0.7864]]]),\n",
       "    x: Batch(\n",
       "           c: tensor([[[-1.8607e+00,  1.0264e-01, -8.9569e-01,  4.3114e-01],\n",
       "                       [ 1.3546e+00,  7.6471e-01,  1.1446e-01, -7.3984e-01],\n",
       "                       [ 8.4384e-01, -4.4212e-01,  5.6725e-01, -1.8417e-03]],\n",
       "              \n",
       "                      [[-1.8607e+00,  1.0264e-01, -8.9569e-01,  4.3114e-01],\n",
       "                       [ 1.3546e+00,  7.6471e-01,  1.1446e-01, -7.3984e-01],\n",
       "                       [ 8.4384e-01, -4.4212e-01,  5.6725e-01, -1.8417e-03]],\n",
       "              \n",
       "                      [[-1.8607e+00,  1.0264e-01, -8.9569e-01,  4.3114e-01],\n",
       "                       [ 1.3546e+00,  7.6471e-01,  1.1446e-01, -7.3984e-01],\n",
       "                       [ 8.4384e-01, -4.4212e-01,  5.6725e-01, -1.8417e-03]],\n",
       "              \n",
       "                      [[-1.8607e+00,  1.0264e-01, -8.9569e-01,  4.3114e-01],\n",
       "                       [ 1.3546e+00,  7.6471e-01,  1.1446e-01, -7.3984e-01],\n",
       "                       [ 8.4384e-01, -4.4212e-01,  5.6725e-01, -1.8417e-03]],\n",
       "              \n",
       "                      [[-1.8607e+00,  1.0264e-01, -8.9569e-01,  4.3114e-01],\n",
       "                       [ 1.3546e+00,  7.6471e-01,  1.1446e-01, -7.3984e-01],\n",
       "                       [ 8.4384e-01, -4.4212e-01,  5.6725e-01, -1.8417e-03]],\n",
       "              \n",
       "                      [[-1.8607e+00,  1.0264e-01, -8.9569e-01,  4.3114e-01],\n",
       "                       [ 1.3546e+00,  7.6471e-01,  1.1446e-01, -7.3984e-01],\n",
       "                       [ 8.4384e-01, -4.4212e-01,  5.6725e-01, -1.8417e-03]],\n",
       "              \n",
       "                      [[-1.8607e+00,  1.0264e-01, -8.9569e-01,  4.3114e-01],\n",
       "                       [ 1.3546e+00,  7.6471e-01,  1.1446e-01, -7.3984e-01],\n",
       "                       [ 8.4384e-01, -4.4212e-01,  5.6725e-01, -1.8417e-03]],\n",
       "              \n",
       "                      [[-1.8607e+00,  1.0264e-01, -8.9569e-01,  4.3114e-01],\n",
       "                       [ 1.3546e+00,  7.6471e-01,  1.1446e-01, -7.3984e-01],\n",
       "                       [ 8.4384e-01, -4.4212e-01,  5.6725e-01, -1.8417e-03]]]),\n",
       "       ),\n",
       ")"
      ]
     },
     "execution_count": 25,
     "metadata": {},
     "output_type": "execute_result"
    }
   ],
   "source": [
    "batches = [Batch(**_TREE_DATA_2) for _ in range(8)]\n",
    "\n",
    "Batch.stack(batches)"
   ]
  },
  {
   "cell_type": "code",
   "execution_count": 26,
   "id": "ec9037a3",
   "metadata": {
    "execution": {
     "iopub.execute_input": "2023-02-25T08:57:00.761303Z",
     "iopub.status.busy": "2023-02-25T08:57:00.760448Z",
     "iopub.status.idle": "2023-02-25T08:57:09.298957Z",
     "shell.execute_reply": "2023-02-25T08:57:09.297840Z"
    }
   },
   "outputs": [
    {
     "name": "stdout",
     "output_type": "stream",
     "text": [
      "105 µs ± 2.24 µs per loop (mean ± std. dev. of 7 runs, 10,000 loops each)\n"
     ]
    }
   ],
   "source": [
    "%timeit Batch.stack(batches)"
   ]
  },
  {
   "cell_type": "code",
   "execution_count": 27,
   "id": "cb8ab77e",
   "metadata": {
    "execution": {
     "iopub.execute_input": "2023-02-25T08:57:09.302711Z",
     "iopub.status.busy": "2023-02-25T08:57:09.302187Z",
     "iopub.status.idle": "2023-02-25T08:57:09.312047Z",
     "shell.execute_reply": "2023-02-25T08:57:09.310879Z"
    }
   },
   "outputs": [
    {
     "data": {
      "text/plain": [
       "Batch(\n",
       "    a: tensor([[ 0.8990,  0.5965, -1.6339],\n",
       "               [ 0.2272,  0.2877,  0.7864],\n",
       "               [ 0.8990,  0.5965, -1.6339],\n",
       "               [ 0.2272,  0.2877,  0.7864],\n",
       "               [ 0.8990,  0.5965, -1.6339],\n",
       "               [ 0.2272,  0.2877,  0.7864],\n",
       "               [ 0.8990,  0.5965, -1.6339],\n",
       "               [ 0.2272,  0.2877,  0.7864],\n",
       "               [ 0.8990,  0.5965, -1.6339],\n",
       "               [ 0.2272,  0.2877,  0.7864],\n",
       "               [ 0.8990,  0.5965, -1.6339],\n",
       "               [ 0.2272,  0.2877,  0.7864],\n",
       "               [ 0.8990,  0.5965, -1.6339],\n",
       "               [ 0.2272,  0.2877,  0.7864],\n",
       "               [ 0.8990,  0.5965, -1.6339],\n",
       "               [ 0.2272,  0.2877,  0.7864]]),\n",
       "    x: Batch(\n",
       "           c: tensor([[-1.8607e+00,  1.0264e-01, -8.9569e-01,  4.3114e-01],\n",
       "                      [ 1.3546e+00,  7.6471e-01,  1.1446e-01, -7.3984e-01],\n",
       "                      [ 8.4384e-01, -4.4212e-01,  5.6725e-01, -1.8417e-03],\n",
       "                      [-1.8607e+00,  1.0264e-01, -8.9569e-01,  4.3114e-01],\n",
       "                      [ 1.3546e+00,  7.6471e-01,  1.1446e-01, -7.3984e-01],\n",
       "                      [ 8.4384e-01, -4.4212e-01,  5.6725e-01, -1.8417e-03],\n",
       "                      [-1.8607e+00,  1.0264e-01, -8.9569e-01,  4.3114e-01],\n",
       "                      [ 1.3546e+00,  7.6471e-01,  1.1446e-01, -7.3984e-01],\n",
       "                      [ 8.4384e-01, -4.4212e-01,  5.6725e-01, -1.8417e-03],\n",
       "                      [-1.8607e+00,  1.0264e-01, -8.9569e-01,  4.3114e-01],\n",
       "                      [ 1.3546e+00,  7.6471e-01,  1.1446e-01, -7.3984e-01],\n",
       "                      [ 8.4384e-01, -4.4212e-01,  5.6725e-01, -1.8417e-03],\n",
       "                      [-1.8607e+00,  1.0264e-01, -8.9569e-01,  4.3114e-01],\n",
       "                      [ 1.3546e+00,  7.6471e-01,  1.1446e-01, -7.3984e-01],\n",
       "                      [ 8.4384e-01, -4.4212e-01,  5.6725e-01, -1.8417e-03],\n",
       "                      [-1.8607e+00,  1.0264e-01, -8.9569e-01,  4.3114e-01],\n",
       "                      [ 1.3546e+00,  7.6471e-01,  1.1446e-01, -7.3984e-01],\n",
       "                      [ 8.4384e-01, -4.4212e-01,  5.6725e-01, -1.8417e-03],\n",
       "                      [-1.8607e+00,  1.0264e-01, -8.9569e-01,  4.3114e-01],\n",
       "                      [ 1.3546e+00,  7.6471e-01,  1.1446e-01, -7.3984e-01],\n",
       "                      [ 8.4384e-01, -4.4212e-01,  5.6725e-01, -1.8417e-03],\n",
       "                      [-1.8607e+00,  1.0264e-01, -8.9569e-01,  4.3114e-01],\n",
       "                      [ 1.3546e+00,  7.6471e-01,  1.1446e-01, -7.3984e-01],\n",
       "                      [ 8.4384e-01, -4.4212e-01,  5.6725e-01, -1.8417e-03]]),\n",
       "       ),\n",
       ")"
      ]
     },
     "execution_count": 27,
     "metadata": {},
     "output_type": "execute_result"
    }
   ],
   "source": [
    "Batch.cat(batches)"
   ]
  },
  {
   "cell_type": "code",
   "execution_count": 28,
   "id": "18dfb045",
   "metadata": {
    "execution": {
     "iopub.execute_input": "2023-02-25T08:57:09.315251Z",
     "iopub.status.busy": "2023-02-25T08:57:09.314955Z",
     "iopub.status.idle": "2023-02-25T08:57:24.382882Z",
     "shell.execute_reply": "2023-02-25T08:57:24.381863Z"
    }
   },
   "outputs": [
    {
     "name": "stdout",
     "output_type": "stream",
     "text": [
      "187 µs ± 3.41 µs per loop (mean ± std. dev. of 7 runs, 10,000 loops each)\n"
     ]
    }
   ],
   "source": [
    "%timeit Batch.cat(batches)"
   ]
  },
  {
   "cell_type": "code",
   "execution_count": 29,
   "id": "c6688e51",
   "metadata": {
    "execution": {
     "iopub.execute_input": "2023-02-25T08:57:24.386590Z",
     "iopub.status.busy": "2023-02-25T08:57:24.386134Z",
     "iopub.status.idle": "2023-02-25T08:57:29.180406Z",
     "shell.execute_reply": "2023-02-25T08:57:29.179121Z"
    }
   },
   "outputs": [
    {
     "name": "stdout",
     "output_type": "stream",
     "text": [
      "593 µs ± 38.5 µs per loop (mean ± std. dev. of 7 runs, 1,000 loops each)\n"
     ]
    }
   ],
   "source": [
    "batch = Batch({\n",
    "    'obs': torch.randn(8, 4, 84, 84),\n",
    "    'action': torch.randint(0, 6, size=(8, 1,)),\n",
    "    'reward': torch.rand(8, 1)}\n",
    ")\n",
    "\n",
    "%timeit list(Batch.split(batch, 1, shuffle=False, merge_last=True))"
   ]
  },
  {
   "cell_type": "code",
   "execution_count": null,
   "id": "2539fbd9",
   "metadata": {},
   "outputs": [],
   "source": []
  }
 ],
 "metadata": {
  "kernelspec": {
   "display_name": "Python 3 (ipykernel)",
   "language": "python",
   "name": "python3"
  },
  "language_info": {
   "codemirror_mode": {
    "name": "ipython",
    "version": 3
   },
   "file_extension": ".py",
   "mimetype": "text/x-python",
   "name": "python",
   "nbconvert_exporter": "python",
   "pygments_lexer": "ipython3",
   "version": "3.8.16"
  }
 },
 "nbformat": 4,
 "nbformat_minor": 5
}
