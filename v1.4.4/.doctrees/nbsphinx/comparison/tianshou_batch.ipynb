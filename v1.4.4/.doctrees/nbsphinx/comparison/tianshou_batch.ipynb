{
 "cells": [
  {
   "cell_type": "markdown",
   "id": "9d39d946",
   "metadata": {},
   "source": [
    "# Comparison Between TreeValue and Tianshou Batch"
   ]
  },
  {
   "cell_type": "markdown",
   "id": "3c6db2d4",
   "metadata": {},
   "source": [
    "In this section, we will take a look at the feature and performance of the [Tianshou Batch](https://github.com/thu-ml/tianshou) library, which is developed by Tsinghua Machine Learning Group."
   ]
  },
  {
   "cell_type": "markdown",
   "id": "069361b0",
   "metadata": {},
   "source": [
    "Before starting the comparison, let us define some thing."
   ]
  },
  {
   "cell_type": "code",
   "execution_count": 1,
   "id": "06fc8d26",
   "metadata": {
    "execution": {
     "iopub.execute_input": "2023-02-25T19:41:17.888904Z",
     "iopub.status.busy": "2023-02-25T19:41:17.888441Z",
     "iopub.status.idle": "2023-02-25T19:41:18.875671Z",
     "shell.execute_reply": "2023-02-25T19:41:18.874923Z"
    }
   },
   "outputs": [
    {
     "name": "stderr",
     "output_type": "stream",
     "text": [
      "/opt/hostedtoolcache/Python/3.8.16/x64/lib/python3.8/site-packages/tqdm/auto.py:22: TqdmWarning: IProgress not found. Please update jupyter and ipywidgets. See https://ipywidgets.readthedocs.io/en/stable/user_install.html\n",
      "  from .autonotebook import tqdm as notebook_tqdm\n"
     ]
    }
   ],
   "source": [
    "import torch \n",
    "\n",
    "_TREE_DATA_1 = {'a': 1, 'b': 2, 'x': {'c': 3, 'd': 4}}\n",
    "_TREE_DATA_2 = {\n",
    "    'a': torch.randn(2, 3), \n",
    "    'x': {\n",
    "        'c': torch.randn(3, 4)\n",
    "    },\n",
    "}\n",
    "_TREE_DATA_3 = {\n",
    "    'obs': torch.randn(4, 84, 84),\n",
    "    'action': torch.randint(0, 6, size=(1,)),\n",
    "    'reward': torch.rand(1),\n",
    "}"
   ]
  },
  {
   "cell_type": "markdown",
   "id": "83461b25",
   "metadata": {},
   "source": [
    "## Read and Write Operation"
   ]
  },
  {
   "cell_type": "markdown",
   "id": "067b3f73",
   "metadata": {},
   "source": [
    "Reading and writing are the two most common operations in the tree data structure based on the data model (TreeValue and Tianshou Batch both belong to this type), so this section will compare the reading and writing performance of these two libraries."
   ]
  },
  {
   "cell_type": "markdown",
   "id": "5d09a5b7",
   "metadata": {},
   "source": [
    "### TreeValue's Get and Set"
   ]
  },
  {
   "cell_type": "code",
   "execution_count": 2,
   "id": "9519c4bb",
   "metadata": {
    "execution": {
     "iopub.execute_input": "2023-02-25T19:41:18.879645Z",
     "iopub.status.busy": "2023-02-25T19:41:18.879112Z",
     "iopub.status.idle": "2023-02-25T19:41:18.914209Z",
     "shell.execute_reply": "2023-02-25T19:41:18.913424Z"
    }
   },
   "outputs": [],
   "source": [
    "from treevalue import FastTreeValue\n",
    "\n",
    "t = FastTreeValue(_TREE_DATA_2)"
   ]
  },
  {
   "cell_type": "code",
   "execution_count": 3,
   "id": "11c37677",
   "metadata": {
    "execution": {
     "iopub.execute_input": "2023-02-25T19:41:18.917296Z",
     "iopub.status.busy": "2023-02-25T19:41:18.917044Z",
     "iopub.status.idle": "2023-02-25T19:41:18.926809Z",
     "shell.execute_reply": "2023-02-25T19:41:18.926154Z"
    }
   },
   "outputs": [
    {
     "data": {
      "text/plain": [
       "<FastTreeValue 0x7f011c08cee0>\n",
       "├── 'a' --> tensor([[ 0.5532,  0.8548,  0.1377],\n",
       "│                   [-0.2362,  0.4633,  0.3557]])\n",
       "└── 'x' --> <FastTreeValue 0x7f011c08c580>\n",
       "    └── 'c' --> tensor([[-2.0259,  0.7207, -0.3728, -0.5239],\n",
       "                        [-0.5684, -0.4932, -1.3866,  0.5380],\n",
       "                        [ 0.4958, -0.5602,  0.4363,  1.1144]])"
      ]
     },
     "execution_count": 3,
     "metadata": {},
     "output_type": "execute_result"
    }
   ],
   "source": [
    "t"
   ]
  },
  {
   "cell_type": "code",
   "execution_count": 4,
   "id": "fd70b0b9",
   "metadata": {
    "execution": {
     "iopub.execute_input": "2023-02-25T19:41:18.929550Z",
     "iopub.status.busy": "2023-02-25T19:41:18.929292Z",
     "iopub.status.idle": "2023-02-25T19:41:18.935158Z",
     "shell.execute_reply": "2023-02-25T19:41:18.934610Z"
    }
   },
   "outputs": [
    {
     "data": {
      "text/plain": [
       "tensor([[ 0.5532,  0.8548,  0.1377],\n",
       "        [-0.2362,  0.4633,  0.3557]])"
      ]
     },
     "execution_count": 4,
     "metadata": {},
     "output_type": "execute_result"
    }
   ],
   "source": [
    "t.a"
   ]
  },
  {
   "cell_type": "code",
   "execution_count": 5,
   "id": "c18197bd",
   "metadata": {
    "execution": {
     "iopub.execute_input": "2023-02-25T19:41:18.937741Z",
     "iopub.status.busy": "2023-02-25T19:41:18.937278Z",
     "iopub.status.idle": "2023-02-25T19:41:24.061612Z",
     "shell.execute_reply": "2023-02-25T19:41:24.060540Z"
    }
   },
   "outputs": [
    {
     "name": "stdout",
     "output_type": "stream",
     "text": [
      "63.1 ns ± 0.0471 ns per loop (mean ± std. dev. of 7 runs, 10,000,000 loops each)\n"
     ]
    }
   ],
   "source": [
    "%timeit t.a"
   ]
  },
  {
   "cell_type": "code",
   "execution_count": 6,
   "id": "bd52f867",
   "metadata": {
    "execution": {
     "iopub.execute_input": "2023-02-25T19:41:24.065087Z",
     "iopub.status.busy": "2023-02-25T19:41:24.064589Z",
     "iopub.status.idle": "2023-02-25T19:41:24.072098Z",
     "shell.execute_reply": "2023-02-25T19:41:24.071459Z"
    }
   },
   "outputs": [
    {
     "data": {
      "text/plain": [
       "<FastTreeValue 0x7f011c08cee0>\n",
       "├── 'a' --> tensor([[ 1.4386, -0.8349,  0.1385],\n",
       "│                   [-0.1684, -0.7690, -0.2482]])\n",
       "└── 'x' --> <FastTreeValue 0x7f011c08c580>\n",
       "    └── 'c' --> tensor([[-2.0259,  0.7207, -0.3728, -0.5239],\n",
       "                        [-0.5684, -0.4932, -1.3866,  0.5380],\n",
       "                        [ 0.4958, -0.5602,  0.4363,  1.1144]])"
      ]
     },
     "execution_count": 6,
     "metadata": {},
     "output_type": "execute_result"
    }
   ],
   "source": [
    "new_value = torch.randn(2, 3)\n",
    "t.a = new_value\n",
    "\n",
    "t"
   ]
  },
  {
   "cell_type": "code",
   "execution_count": 7,
   "id": "bbe04d1c",
   "metadata": {
    "execution": {
     "iopub.execute_input": "2023-02-25T19:41:24.076537Z",
     "iopub.status.busy": "2023-02-25T19:41:24.075979Z",
     "iopub.status.idle": "2023-02-25T19:41:30.590283Z",
     "shell.execute_reply": "2023-02-25T19:41:30.589352Z"
    }
   },
   "outputs": [
    {
     "name": "stdout",
     "output_type": "stream",
     "text": [
      "79.9 ns ± 0.0608 ns per loop (mean ± std. dev. of 7 runs, 10,000,000 loops each)\n"
     ]
    }
   ],
   "source": [
    "%timeit t.a = new_value"
   ]
  },
  {
   "cell_type": "markdown",
   "id": "48c49731",
   "metadata": {},
   "source": [
    "### Tianshou Batch's Get and Set"
   ]
  },
  {
   "cell_type": "code",
   "execution_count": 8,
   "id": "f1bb14c1",
   "metadata": {
    "execution": {
     "iopub.execute_input": "2023-02-25T19:41:30.593754Z",
     "iopub.status.busy": "2023-02-25T19:41:30.593124Z",
     "iopub.status.idle": "2023-02-25T19:41:30.964482Z",
     "shell.execute_reply": "2023-02-25T19:41:30.963735Z"
    }
   },
   "outputs": [],
   "source": [
    "from tianshou.data import Batch\n",
    "\n",
    "b = Batch(**_TREE_DATA_2)"
   ]
  },
  {
   "cell_type": "code",
   "execution_count": 9,
   "id": "cb0777c3",
   "metadata": {
    "execution": {
     "iopub.execute_input": "2023-02-25T19:41:30.967912Z",
     "iopub.status.busy": "2023-02-25T19:41:30.967289Z",
     "iopub.status.idle": "2023-02-25T19:41:30.973854Z",
     "shell.execute_reply": "2023-02-25T19:41:30.973078Z"
    }
   },
   "outputs": [
    {
     "data": {
      "text/plain": [
       "Batch(\n",
       "    a: tensor([[ 0.5532,  0.8548,  0.1377],\n",
       "               [-0.2362,  0.4633,  0.3557]]),\n",
       "    x: Batch(\n",
       "           c: tensor([[-2.0259,  0.7207, -0.3728, -0.5239],\n",
       "                      [-0.5684, -0.4932, -1.3866,  0.5380],\n",
       "                      [ 0.4958, -0.5602,  0.4363,  1.1144]]),\n",
       "       ),\n",
       ")"
      ]
     },
     "execution_count": 9,
     "metadata": {},
     "output_type": "execute_result"
    }
   ],
   "source": [
    "b"
   ]
  },
  {
   "cell_type": "code",
   "execution_count": 10,
   "id": "43ef8ea3",
   "metadata": {
    "execution": {
     "iopub.execute_input": "2023-02-25T19:41:30.976703Z",
     "iopub.status.busy": "2023-02-25T19:41:30.976246Z",
     "iopub.status.idle": "2023-02-25T19:41:30.981346Z",
     "shell.execute_reply": "2023-02-25T19:41:30.980687Z"
    }
   },
   "outputs": [
    {
     "data": {
      "text/plain": [
       "tensor([[ 0.5532,  0.8548,  0.1377],\n",
       "        [-0.2362,  0.4633,  0.3557]])"
      ]
     },
     "execution_count": 10,
     "metadata": {},
     "output_type": "execute_result"
    }
   ],
   "source": [
    "b.a"
   ]
  },
  {
   "cell_type": "code",
   "execution_count": 11,
   "id": "b785ab72",
   "metadata": {
    "execution": {
     "iopub.execute_input": "2023-02-25T19:41:30.984226Z",
     "iopub.status.busy": "2023-02-25T19:41:30.983851Z",
     "iopub.status.idle": "2023-02-25T19:41:35.829434Z",
     "shell.execute_reply": "2023-02-25T19:41:35.828463Z"
    }
   },
   "outputs": [
    {
     "name": "stdout",
     "output_type": "stream",
     "text": [
      "59.7 ns ± 0.0978 ns per loop (mean ± std. dev. of 7 runs, 10,000,000 loops each)\n"
     ]
    }
   ],
   "source": [
    "%timeit b.a"
   ]
  },
  {
   "cell_type": "code",
   "execution_count": 12,
   "id": "ad54dc69",
   "metadata": {
    "execution": {
     "iopub.execute_input": "2023-02-25T19:41:35.832705Z",
     "iopub.status.busy": "2023-02-25T19:41:35.832283Z",
     "iopub.status.idle": "2023-02-25T19:41:35.839650Z",
     "shell.execute_reply": "2023-02-25T19:41:35.839013Z"
    }
   },
   "outputs": [
    {
     "data": {
      "text/plain": [
       "Batch(\n",
       "    a: tensor([[ 0.2876, -0.5780, -0.8726],\n",
       "               [ 0.0911,  1.3760, -1.1555]]),\n",
       "    x: Batch(\n",
       "           c: tensor([[-2.0259,  0.7207, -0.3728, -0.5239],\n",
       "                      [-0.5684, -0.4932, -1.3866,  0.5380],\n",
       "                      [ 0.4958, -0.5602,  0.4363,  1.1144]]),\n",
       "       ),\n",
       ")"
      ]
     },
     "execution_count": 12,
     "metadata": {},
     "output_type": "execute_result"
    }
   ],
   "source": [
    "new_value = torch.randn(2, 3)\n",
    "b.a = new_value\n",
    "\n",
    "b"
   ]
  },
  {
   "cell_type": "code",
   "execution_count": 13,
   "id": "29b1d0bf",
   "metadata": {
    "execution": {
     "iopub.execute_input": "2023-02-25T19:41:35.842636Z",
     "iopub.status.busy": "2023-02-25T19:41:35.842089Z",
     "iopub.status.idle": "2023-02-25T19:41:40.062437Z",
     "shell.execute_reply": "2023-02-25T19:41:40.061523Z"
    }
   },
   "outputs": [
    {
     "name": "stdout",
     "output_type": "stream",
     "text": [
      "518 ns ± 5.46 ns per loop (mean ± std. dev. of 7 runs, 1,000,000 loops each)\n"
     ]
    }
   ],
   "source": [
    "%timeit b.a = new_value"
   ]
  },
  {
   "cell_type": "markdown",
   "id": "b61ad1d0",
   "metadata": {},
   "source": [
    "## Initialization"
   ]
  },
  {
   "cell_type": "markdown",
   "id": "d70f0d54",
   "metadata": {},
   "source": [
    "### TreeValue's Initialization"
   ]
  },
  {
   "cell_type": "code",
   "execution_count": 14,
   "id": "d32a679b",
   "metadata": {
    "execution": {
     "iopub.execute_input": "2023-02-25T19:41:40.066173Z",
     "iopub.status.busy": "2023-02-25T19:41:40.065472Z",
     "iopub.status.idle": "2023-02-25T19:41:46.970331Z",
     "shell.execute_reply": "2023-02-25T19:41:46.969350Z"
    }
   },
   "outputs": [
    {
     "name": "stdout",
     "output_type": "stream",
     "text": [
      "848 ns ± 1.31 ns per loop (mean ± std. dev. of 7 runs, 1,000,000 loops each)\n"
     ]
    }
   ],
   "source": [
    "%timeit FastTreeValue(_TREE_DATA_1)"
   ]
  },
  {
   "cell_type": "markdown",
   "id": "24f3707b",
   "metadata": {},
   "source": [
    "### Tianshou Batch's Initialization"
   ]
  },
  {
   "cell_type": "code",
   "execution_count": 15,
   "id": "ac3958df",
   "metadata": {
    "execution": {
     "iopub.execute_input": "2023-02-25T19:41:46.974069Z",
     "iopub.status.busy": "2023-02-25T19:41:46.973542Z",
     "iopub.status.idle": "2023-02-25T19:41:55.653420Z",
     "shell.execute_reply": "2023-02-25T19:41:55.652511Z"
    }
   },
   "outputs": [
    {
     "name": "stdout",
     "output_type": "stream",
     "text": [
      "10.7 µs ± 28.6 ns per loop (mean ± std. dev. of 7 runs, 100,000 loops each)\n"
     ]
    }
   ],
   "source": [
    "%timeit Batch(**_TREE_DATA_1)"
   ]
  },
  {
   "cell_type": "markdown",
   "id": "1ab82e2d",
   "metadata": {},
   "source": [
    "## Deep Copy Operation"
   ]
  },
  {
   "cell_type": "code",
   "execution_count": 16,
   "id": "210a9442",
   "metadata": {
    "execution": {
     "iopub.execute_input": "2023-02-25T19:41:55.657011Z",
     "iopub.status.busy": "2023-02-25T19:41:55.656412Z",
     "iopub.status.idle": "2023-02-25T19:41:55.660637Z",
     "shell.execute_reply": "2023-02-25T19:41:55.660006Z"
    }
   },
   "outputs": [],
   "source": [
    "import copy"
   ]
  },
  {
   "cell_type": "markdown",
   "id": "5a736274",
   "metadata": {},
   "source": [
    "### Deep Copy of TreeValue"
   ]
  },
  {
   "cell_type": "code",
   "execution_count": 17,
   "id": "f9bcadd6",
   "metadata": {
    "execution": {
     "iopub.execute_input": "2023-02-25T19:41:55.663704Z",
     "iopub.status.busy": "2023-02-25T19:41:55.663272Z",
     "iopub.status.idle": "2023-02-25T19:42:07.461529Z",
     "shell.execute_reply": "2023-02-25T19:42:07.460870Z"
    }
   },
   "outputs": [
    {
     "name": "stdout",
     "output_type": "stream",
     "text": [
      "145 µs ± 627 ns per loop (mean ± std. dev. of 7 runs, 10,000 loops each)\n"
     ]
    }
   ],
   "source": [
    "t3 = FastTreeValue(_TREE_DATA_3)\n",
    "%timeit copy.deepcopy(t3)"
   ]
  },
  {
   "cell_type": "markdown",
   "id": "bf8be7ea",
   "metadata": {},
   "source": [
    "### Deep Copy of Tianshou Batch"
   ]
  },
  {
   "cell_type": "code",
   "execution_count": 18,
   "id": "91998e6f",
   "metadata": {
    "execution": {
     "iopub.execute_input": "2023-02-25T19:42:07.464863Z",
     "iopub.status.busy": "2023-02-25T19:42:07.464352Z",
     "iopub.status.idle": "2023-02-25T19:42:19.178574Z",
     "shell.execute_reply": "2023-02-25T19:42:19.177937Z"
    }
   },
   "outputs": [
    {
     "name": "stdout",
     "output_type": "stream",
     "text": [
      "145 µs ± 644 ns per loop (mean ± std. dev. of 7 runs, 10,000 loops each)\n"
     ]
    }
   ],
   "source": [
    "b3 = Batch(**_TREE_DATA_3)\n",
    "%timeit copy.deepcopy(b3)"
   ]
  },
  {
   "cell_type": "markdown",
   "id": "223162fb",
   "metadata": {},
   "source": [
    "## Stack, Concat and Split Operation"
   ]
  },
  {
   "cell_type": "markdown",
   "id": "85fa4a73",
   "metadata": {},
   "source": [
    "### Performance of TreeValue"
   ]
  },
  {
   "cell_type": "code",
   "execution_count": 19,
   "id": "a0c2b697",
   "metadata": {
    "execution": {
     "iopub.execute_input": "2023-02-25T19:42:19.181529Z",
     "iopub.status.busy": "2023-02-25T19:42:19.181016Z",
     "iopub.status.idle": "2023-02-25T19:42:19.184577Z",
     "shell.execute_reply": "2023-02-25T19:42:19.184014Z"
    }
   },
   "outputs": [],
   "source": [
    "trees = [FastTreeValue(_TREE_DATA_2) for _ in range(8)]"
   ]
  },
  {
   "cell_type": "code",
   "execution_count": 20,
   "id": "017ea5a5",
   "metadata": {
    "execution": {
     "iopub.execute_input": "2023-02-25T19:42:19.187300Z",
     "iopub.status.busy": "2023-02-25T19:42:19.186633Z",
     "iopub.status.idle": "2023-02-25T19:42:19.194045Z",
     "shell.execute_reply": "2023-02-25T19:42:19.193471Z"
    }
   },
   "outputs": [
    {
     "data": {
      "text/plain": [
       "<FastTreeValue 0x7f0071d06850>\n",
       "├── 'a' --> tensor([[[ 0.5532,  0.8548,  0.1377],\n",
       "│                    [-0.2362,  0.4633,  0.3557]],\n",
       "│           \n",
       "│                   [[ 0.5532,  0.8548,  0.1377],\n",
       "│                    [-0.2362,  0.4633,  0.3557]],\n",
       "│           \n",
       "│                   [[ 0.5532,  0.8548,  0.1377],\n",
       "│                    [-0.2362,  0.4633,  0.3557]],\n",
       "│           \n",
       "│                   [[ 0.5532,  0.8548,  0.1377],\n",
       "│                    [-0.2362,  0.4633,  0.3557]],\n",
       "│           \n",
       "│                   [[ 0.5532,  0.8548,  0.1377],\n",
       "│                    [-0.2362,  0.4633,  0.3557]],\n",
       "│           \n",
       "│                   [[ 0.5532,  0.8548,  0.1377],\n",
       "│                    [-0.2362,  0.4633,  0.3557]],\n",
       "│           \n",
       "│                   [[ 0.5532,  0.8548,  0.1377],\n",
       "│                    [-0.2362,  0.4633,  0.3557]],\n",
       "│           \n",
       "│                   [[ 0.5532,  0.8548,  0.1377],\n",
       "│                    [-0.2362,  0.4633,  0.3557]]])\n",
       "└── 'x' --> <FastTreeValue 0x7f010cfc7220>\n",
       "    └── 'c' --> tensor([[[-2.0259,  0.7207, -0.3728, -0.5239],\n",
       "                         [-0.5684, -0.4932, -1.3866,  0.5380],\n",
       "                         [ 0.4958, -0.5602,  0.4363,  1.1144]],\n",
       "                \n",
       "                        [[-2.0259,  0.7207, -0.3728, -0.5239],\n",
       "                         [-0.5684, -0.4932, -1.3866,  0.5380],\n",
       "                         [ 0.4958, -0.5602,  0.4363,  1.1144]],\n",
       "                \n",
       "                        [[-2.0259,  0.7207, -0.3728, -0.5239],\n",
       "                         [-0.5684, -0.4932, -1.3866,  0.5380],\n",
       "                         [ 0.4958, -0.5602,  0.4363,  1.1144]],\n",
       "                \n",
       "                        [[-2.0259,  0.7207, -0.3728, -0.5239],\n",
       "                         [-0.5684, -0.4932, -1.3866,  0.5380],\n",
       "                         [ 0.4958, -0.5602,  0.4363,  1.1144]],\n",
       "                \n",
       "                        [[-2.0259,  0.7207, -0.3728, -0.5239],\n",
       "                         [-0.5684, -0.4932, -1.3866,  0.5380],\n",
       "                         [ 0.4958, -0.5602,  0.4363,  1.1144]],\n",
       "                \n",
       "                        [[-2.0259,  0.7207, -0.3728, -0.5239],\n",
       "                         [-0.5684, -0.4932, -1.3866,  0.5380],\n",
       "                         [ 0.4958, -0.5602,  0.4363,  1.1144]],\n",
       "                \n",
       "                        [[-2.0259,  0.7207, -0.3728, -0.5239],\n",
       "                         [-0.5684, -0.4932, -1.3866,  0.5380],\n",
       "                         [ 0.4958, -0.5602,  0.4363,  1.1144]],\n",
       "                \n",
       "                        [[-2.0259,  0.7207, -0.3728, -0.5239],\n",
       "                         [-0.5684, -0.4932, -1.3866,  0.5380],\n",
       "                         [ 0.4958, -0.5602,  0.4363,  1.1144]]])"
      ]
     },
     "execution_count": 20,
     "metadata": {},
     "output_type": "execute_result"
    }
   ],
   "source": [
    "t_stack = FastTreeValue.func(subside=True)(torch.stack)\n",
    "\n",
    "t_stack(trees)"
   ]
  },
  {
   "cell_type": "code",
   "execution_count": 21,
   "id": "f8b3f415",
   "metadata": {
    "execution": {
     "iopub.execute_input": "2023-02-25T19:42:19.196736Z",
     "iopub.status.busy": "2023-02-25T19:42:19.196081Z",
     "iopub.status.idle": "2023-02-25T19:42:21.807706Z",
     "shell.execute_reply": "2023-02-25T19:42:21.806720Z"
    }
   },
   "outputs": [
    {
     "name": "stdout",
     "output_type": "stream",
     "text": [
      "32 µs ± 32.6 ns per loop (mean ± std. dev. of 7 runs, 10,000 loops each)\n"
     ]
    }
   ],
   "source": [
    "%timeit t_stack(trees)"
   ]
  },
  {
   "cell_type": "code",
   "execution_count": 22,
   "id": "94b56771",
   "metadata": {
    "execution": {
     "iopub.execute_input": "2023-02-25T19:42:21.814680Z",
     "iopub.status.busy": "2023-02-25T19:42:21.813974Z",
     "iopub.status.idle": "2023-02-25T19:42:21.822477Z",
     "shell.execute_reply": "2023-02-25T19:42:21.821793Z"
    }
   },
   "outputs": [
    {
     "data": {
      "text/plain": [
       "<FastTreeValue 0x7f0071d06ac0>\n",
       "├── 'a' --> tensor([[ 0.5532,  0.8548,  0.1377],\n",
       "│                   [-0.2362,  0.4633,  0.3557],\n",
       "│                   [ 0.5532,  0.8548,  0.1377],\n",
       "│                   [-0.2362,  0.4633,  0.3557],\n",
       "│                   [ 0.5532,  0.8548,  0.1377],\n",
       "│                   [-0.2362,  0.4633,  0.3557],\n",
       "│                   [ 0.5532,  0.8548,  0.1377],\n",
       "│                   [-0.2362,  0.4633,  0.3557],\n",
       "│                   [ 0.5532,  0.8548,  0.1377],\n",
       "│                   [-0.2362,  0.4633,  0.3557],\n",
       "│                   [ 0.5532,  0.8548,  0.1377],\n",
       "│                   [-0.2362,  0.4633,  0.3557],\n",
       "│                   [ 0.5532,  0.8548,  0.1377],\n",
       "│                   [-0.2362,  0.4633,  0.3557],\n",
       "│                   [ 0.5532,  0.8548,  0.1377],\n",
       "│                   [-0.2362,  0.4633,  0.3557]])\n",
       "└── 'x' --> <FastTreeValue 0x7f011c077e50>\n",
       "    └── 'c' --> tensor([[-2.0259,  0.7207, -0.3728, -0.5239],\n",
       "                        [-0.5684, -0.4932, -1.3866,  0.5380],\n",
       "                        [ 0.4958, -0.5602,  0.4363,  1.1144],\n",
       "                        [-2.0259,  0.7207, -0.3728, -0.5239],\n",
       "                        [-0.5684, -0.4932, -1.3866,  0.5380],\n",
       "                        [ 0.4958, -0.5602,  0.4363,  1.1144],\n",
       "                        [-2.0259,  0.7207, -0.3728, -0.5239],\n",
       "                        [-0.5684, -0.4932, -1.3866,  0.5380],\n",
       "                        [ 0.4958, -0.5602,  0.4363,  1.1144],\n",
       "                        [-2.0259,  0.7207, -0.3728, -0.5239],\n",
       "                        [-0.5684, -0.4932, -1.3866,  0.5380],\n",
       "                        [ 0.4958, -0.5602,  0.4363,  1.1144],\n",
       "                        [-2.0259,  0.7207, -0.3728, -0.5239],\n",
       "                        [-0.5684, -0.4932, -1.3866,  0.5380],\n",
       "                        [ 0.4958, -0.5602,  0.4363,  1.1144],\n",
       "                        [-2.0259,  0.7207, -0.3728, -0.5239],\n",
       "                        [-0.5684, -0.4932, -1.3866,  0.5380],\n",
       "                        [ 0.4958, -0.5602,  0.4363,  1.1144],\n",
       "                        [-2.0259,  0.7207, -0.3728, -0.5239],\n",
       "                        [-0.5684, -0.4932, -1.3866,  0.5380],\n",
       "                        [ 0.4958, -0.5602,  0.4363,  1.1144],\n",
       "                        [-2.0259,  0.7207, -0.3728, -0.5239],\n",
       "                        [-0.5684, -0.4932, -1.3866,  0.5380],\n",
       "                        [ 0.4958, -0.5602,  0.4363,  1.1144]])"
      ]
     },
     "execution_count": 22,
     "metadata": {},
     "output_type": "execute_result"
    }
   ],
   "source": [
    "t_cat = FastTreeValue.func(subside=True)(torch.cat)\n",
    "\n",
    "t_cat(trees)"
   ]
  },
  {
   "cell_type": "code",
   "execution_count": 23,
   "id": "5e9c06a6",
   "metadata": {
    "execution": {
     "iopub.execute_input": "2023-02-25T19:42:21.827183Z",
     "iopub.status.busy": "2023-02-25T19:42:21.826635Z",
     "iopub.status.idle": "2023-02-25T19:42:24.261587Z",
     "shell.execute_reply": "2023-02-25T19:42:24.260700Z"
    }
   },
   "outputs": [
    {
     "name": "stdout",
     "output_type": "stream",
     "text": [
      "29.9 µs ± 65.9 ns per loop (mean ± std. dev. of 7 runs, 10,000 loops each)\n"
     ]
    }
   ],
   "source": [
    "%timeit t_cat(trees)"
   ]
  },
  {
   "cell_type": "code",
   "execution_count": 24,
   "id": "a3ab5c8f",
   "metadata": {
    "execution": {
     "iopub.execute_input": "2023-02-25T19:42:24.264798Z",
     "iopub.status.busy": "2023-02-25T19:42:24.264211Z",
     "iopub.status.idle": "2023-02-25T19:42:28.842352Z",
     "shell.execute_reply": "2023-02-25T19:42:28.841452Z"
    }
   },
   "outputs": [
    {
     "name": "stdout",
     "output_type": "stream",
     "text": [
      "56.3 µs ± 90.3 ns per loop (mean ± std. dev. of 7 runs, 10,000 loops each)\n"
     ]
    }
   ],
   "source": [
    "t_split = FastTreeValue.func(rise=True)(torch.split)\n",
    "tree = FastTreeValue({\n",
    "    'obs': torch.randn(8, 4, 84, 84),\n",
    "    'action': torch.randint(0, 6, size=(8, 1,)),\n",
    "    'reward': torch.rand(8, 1),\n",
    "})\n",
    "\n",
    "%timeit t_split(tree, 1)"
   ]
  },
  {
   "cell_type": "markdown",
   "id": "31c3ec0b",
   "metadata": {},
   "source": [
    "### Performance of Tianshou Batch"
   ]
  },
  {
   "cell_type": "code",
   "execution_count": 25,
   "id": "9ead828a",
   "metadata": {
    "execution": {
     "iopub.execute_input": "2023-02-25T19:42:28.845761Z",
     "iopub.status.busy": "2023-02-25T19:42:28.845140Z",
     "iopub.status.idle": "2023-02-25T19:42:28.853739Z",
     "shell.execute_reply": "2023-02-25T19:42:28.853091Z"
    }
   },
   "outputs": [
    {
     "data": {
      "text/plain": [
       "Batch(\n",
       "    x: Batch(\n",
       "           c: tensor([[[-2.0259,  0.7207, -0.3728, -0.5239],\n",
       "                       [-0.5684, -0.4932, -1.3866,  0.5380],\n",
       "                       [ 0.4958, -0.5602,  0.4363,  1.1144]],\n",
       "              \n",
       "                      [[-2.0259,  0.7207, -0.3728, -0.5239],\n",
       "                       [-0.5684, -0.4932, -1.3866,  0.5380],\n",
       "                       [ 0.4958, -0.5602,  0.4363,  1.1144]],\n",
       "              \n",
       "                      [[-2.0259,  0.7207, -0.3728, -0.5239],\n",
       "                       [-0.5684, -0.4932, -1.3866,  0.5380],\n",
       "                       [ 0.4958, -0.5602,  0.4363,  1.1144]],\n",
       "              \n",
       "                      [[-2.0259,  0.7207, -0.3728, -0.5239],\n",
       "                       [-0.5684, -0.4932, -1.3866,  0.5380],\n",
       "                       [ 0.4958, -0.5602,  0.4363,  1.1144]],\n",
       "              \n",
       "                      [[-2.0259,  0.7207, -0.3728, -0.5239],\n",
       "                       [-0.5684, -0.4932, -1.3866,  0.5380],\n",
       "                       [ 0.4958, -0.5602,  0.4363,  1.1144]],\n",
       "              \n",
       "                      [[-2.0259,  0.7207, -0.3728, -0.5239],\n",
       "                       [-0.5684, -0.4932, -1.3866,  0.5380],\n",
       "                       [ 0.4958, -0.5602,  0.4363,  1.1144]],\n",
       "              \n",
       "                      [[-2.0259,  0.7207, -0.3728, -0.5239],\n",
       "                       [-0.5684, -0.4932, -1.3866,  0.5380],\n",
       "                       [ 0.4958, -0.5602,  0.4363,  1.1144]],\n",
       "              \n",
       "                      [[-2.0259,  0.7207, -0.3728, -0.5239],\n",
       "                       [-0.5684, -0.4932, -1.3866,  0.5380],\n",
       "                       [ 0.4958, -0.5602,  0.4363,  1.1144]]]),\n",
       "       ),\n",
       "    a: tensor([[[ 0.5532,  0.8548,  0.1377],\n",
       "                [-0.2362,  0.4633,  0.3557]],\n",
       "       \n",
       "               [[ 0.5532,  0.8548,  0.1377],\n",
       "                [-0.2362,  0.4633,  0.3557]],\n",
       "       \n",
       "               [[ 0.5532,  0.8548,  0.1377],\n",
       "                [-0.2362,  0.4633,  0.3557]],\n",
       "       \n",
       "               [[ 0.5532,  0.8548,  0.1377],\n",
       "                [-0.2362,  0.4633,  0.3557]],\n",
       "       \n",
       "               [[ 0.5532,  0.8548,  0.1377],\n",
       "                [-0.2362,  0.4633,  0.3557]],\n",
       "       \n",
       "               [[ 0.5532,  0.8548,  0.1377],\n",
       "                [-0.2362,  0.4633,  0.3557]],\n",
       "       \n",
       "               [[ 0.5532,  0.8548,  0.1377],\n",
       "                [-0.2362,  0.4633,  0.3557]],\n",
       "       \n",
       "               [[ 0.5532,  0.8548,  0.1377],\n",
       "                [-0.2362,  0.4633,  0.3557]]]),\n",
       ")"
      ]
     },
     "execution_count": 25,
     "metadata": {},
     "output_type": "execute_result"
    }
   ],
   "source": [
    "batches = [Batch(**_TREE_DATA_2) for _ in range(8)]\n",
    "\n",
    "Batch.stack(batches)"
   ]
  },
  {
   "cell_type": "code",
   "execution_count": 26,
   "id": "ec9037a3",
   "metadata": {
    "execution": {
     "iopub.execute_input": "2023-02-25T19:42:28.856322Z",
     "iopub.status.busy": "2023-02-25T19:42:28.855943Z",
     "iopub.status.idle": "2023-02-25T19:42:35.135153Z",
     "shell.execute_reply": "2023-02-25T19:42:35.134304Z"
    }
   },
   "outputs": [
    {
     "name": "stdout",
     "output_type": "stream",
     "text": [
      "77.4 µs ± 86.5 ns per loop (mean ± std. dev. of 7 runs, 10,000 loops each)\n"
     ]
    }
   ],
   "source": [
    "%timeit Batch.stack(batches)"
   ]
  },
  {
   "cell_type": "code",
   "execution_count": 27,
   "id": "cb8ab77e",
   "metadata": {
    "execution": {
     "iopub.execute_input": "2023-02-25T19:42:35.138699Z",
     "iopub.status.busy": "2023-02-25T19:42:35.138206Z",
     "iopub.status.idle": "2023-02-25T19:42:35.146200Z",
     "shell.execute_reply": "2023-02-25T19:42:35.145408Z"
    }
   },
   "outputs": [
    {
     "data": {
      "text/plain": [
       "Batch(\n",
       "    x: Batch(\n",
       "           c: tensor([[-2.0259,  0.7207, -0.3728, -0.5239],\n",
       "                      [-0.5684, -0.4932, -1.3866,  0.5380],\n",
       "                      [ 0.4958, -0.5602,  0.4363,  1.1144],\n",
       "                      [-2.0259,  0.7207, -0.3728, -0.5239],\n",
       "                      [-0.5684, -0.4932, -1.3866,  0.5380],\n",
       "                      [ 0.4958, -0.5602,  0.4363,  1.1144],\n",
       "                      [-2.0259,  0.7207, -0.3728, -0.5239],\n",
       "                      [-0.5684, -0.4932, -1.3866,  0.5380],\n",
       "                      [ 0.4958, -0.5602,  0.4363,  1.1144],\n",
       "                      [-2.0259,  0.7207, -0.3728, -0.5239],\n",
       "                      [-0.5684, -0.4932, -1.3866,  0.5380],\n",
       "                      [ 0.4958, -0.5602,  0.4363,  1.1144],\n",
       "                      [-2.0259,  0.7207, -0.3728, -0.5239],\n",
       "                      [-0.5684, -0.4932, -1.3866,  0.5380],\n",
       "                      [ 0.4958, -0.5602,  0.4363,  1.1144],\n",
       "                      [-2.0259,  0.7207, -0.3728, -0.5239],\n",
       "                      [-0.5684, -0.4932, -1.3866,  0.5380],\n",
       "                      [ 0.4958, -0.5602,  0.4363,  1.1144],\n",
       "                      [-2.0259,  0.7207, -0.3728, -0.5239],\n",
       "                      [-0.5684, -0.4932, -1.3866,  0.5380],\n",
       "                      [ 0.4958, -0.5602,  0.4363,  1.1144],\n",
       "                      [-2.0259,  0.7207, -0.3728, -0.5239],\n",
       "                      [-0.5684, -0.4932, -1.3866,  0.5380],\n",
       "                      [ 0.4958, -0.5602,  0.4363,  1.1144]]),\n",
       "       ),\n",
       "    a: tensor([[ 0.5532,  0.8548,  0.1377],\n",
       "               [-0.2362,  0.4633,  0.3557],\n",
       "               [ 0.5532,  0.8548,  0.1377],\n",
       "               [-0.2362,  0.4633,  0.3557],\n",
       "               [ 0.5532,  0.8548,  0.1377],\n",
       "               [-0.2362,  0.4633,  0.3557],\n",
       "               [ 0.5532,  0.8548,  0.1377],\n",
       "               [-0.2362,  0.4633,  0.3557],\n",
       "               [ 0.5532,  0.8548,  0.1377],\n",
       "               [-0.2362,  0.4633,  0.3557],\n",
       "               [ 0.5532,  0.8548,  0.1377],\n",
       "               [-0.2362,  0.4633,  0.3557],\n",
       "               [ 0.5532,  0.8548,  0.1377],\n",
       "               [-0.2362,  0.4633,  0.3557],\n",
       "               [ 0.5532,  0.8548,  0.1377],\n",
       "               [-0.2362,  0.4633,  0.3557]]),\n",
       ")"
      ]
     },
     "execution_count": 27,
     "metadata": {},
     "output_type": "execute_result"
    }
   ],
   "source": [
    "Batch.cat(batches)"
   ]
  },
  {
   "cell_type": "code",
   "execution_count": 28,
   "id": "18dfb045",
   "metadata": {
    "execution": {
     "iopub.execute_input": "2023-02-25T19:42:35.149185Z",
     "iopub.status.busy": "2023-02-25T19:42:35.148824Z",
     "iopub.status.idle": "2023-02-25T19:42:46.748504Z",
     "shell.execute_reply": "2023-02-25T19:42:46.747603Z"
    }
   },
   "outputs": [
    {
     "name": "stdout",
     "output_type": "stream",
     "text": [
      "143 µs ± 219 ns per loop (mean ± std. dev. of 7 runs, 10,000 loops each)\n"
     ]
    }
   ],
   "source": [
    "%timeit Batch.cat(batches)"
   ]
  },
  {
   "cell_type": "code",
   "execution_count": 29,
   "id": "c6688e51",
   "metadata": {
    "execution": {
     "iopub.execute_input": "2023-02-25T19:42:46.752310Z",
     "iopub.status.busy": "2023-02-25T19:42:46.751734Z",
     "iopub.status.idle": "2023-02-25T19:42:49.387207Z",
     "shell.execute_reply": "2023-02-25T19:42:49.386570Z"
    }
   },
   "outputs": [
    {
     "name": "stdout",
     "output_type": "stream",
     "text": [
      "324 µs ± 4.3 µs per loop (mean ± std. dev. of 7 runs, 1,000 loops each)\n"
     ]
    }
   ],
   "source": [
    "batch = Batch({\n",
    "    'obs': torch.randn(8, 4, 84, 84),\n",
    "    'action': torch.randint(0, 6, size=(8, 1,)),\n",
    "    'reward': torch.rand(8, 1)}\n",
    ")\n",
    "\n",
    "%timeit list(Batch.split(batch, 1, shuffle=False, merge_last=True))"
   ]
  },
  {
   "cell_type": "code",
   "execution_count": null,
   "id": "2539fbd9",
   "metadata": {},
   "outputs": [],
   "source": []
  }
 ],
 "metadata": {
  "kernelspec": {
   "display_name": "Python 3 (ipykernel)",
   "language": "python",
   "name": "python3"
  },
  "language_info": {
   "codemirror_mode": {
    "name": "ipython",
    "version": 3
   },
   "file_extension": ".py",
   "mimetype": "text/x-python",
   "name": "python",
   "nbconvert_exporter": "python",
   "pygments_lexer": "ipython3",
   "version": "3.8.16"
  }
 },
 "nbformat": 4,
 "nbformat_minor": 5
}
