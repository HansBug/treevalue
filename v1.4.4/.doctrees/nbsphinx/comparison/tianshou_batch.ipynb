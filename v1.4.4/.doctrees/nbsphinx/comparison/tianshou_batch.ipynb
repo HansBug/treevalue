{
 "cells": [
  {
   "cell_type": "markdown",
   "id": "9d39d946",
   "metadata": {},
   "source": [
    "# Comparison Between TreeValue and Tianshou Batch"
   ]
  },
  {
   "cell_type": "markdown",
   "id": "3c6db2d4",
   "metadata": {},
   "source": [
    "In this section, we will take a look at the feature and performance of the [Tianshou Batch](https://github.com/thu-ml/tianshou) library, which is developed by Tsinghua Machine Learning Group."
   ]
  },
  {
   "cell_type": "markdown",
   "id": "069361b0",
   "metadata": {},
   "source": [
    "Before starting the comparison, let us define some thing."
   ]
  },
  {
   "cell_type": "code",
   "execution_count": 1,
   "id": "06fc8d26",
   "metadata": {
    "execution": {
     "iopub.execute_input": "2023-02-25T19:04:24.815482Z",
     "iopub.status.busy": "2023-02-25T19:04:24.815266Z",
     "iopub.status.idle": "2023-02-25T19:04:25.737358Z",
     "shell.execute_reply": "2023-02-25T19:04:25.736650Z"
    }
   },
   "outputs": [
    {
     "name": "stderr",
     "output_type": "stream",
     "text": [
      "/opt/hostedtoolcache/Python/3.8.16/x64/lib/python3.8/site-packages/tqdm/auto.py:22: TqdmWarning: IProgress not found. Please update jupyter and ipywidgets. See https://ipywidgets.readthedocs.io/en/stable/user_install.html\n",
      "  from .autonotebook import tqdm as notebook_tqdm\n"
     ]
    }
   ],
   "source": [
    "import torch \n",
    "\n",
    "_TREE_DATA_1 = {'a': 1, 'b': 2, 'x': {'c': 3, 'd': 4}}\n",
    "_TREE_DATA_2 = {\n",
    "    'a': torch.randn(2, 3), \n",
    "    'x': {\n",
    "        'c': torch.randn(3, 4)\n",
    "    },\n",
    "}\n",
    "_TREE_DATA_3 = {\n",
    "    'obs': torch.randn(4, 84, 84),\n",
    "    'action': torch.randint(0, 6, size=(1,)),\n",
    "    'reward': torch.rand(1),\n",
    "}"
   ]
  },
  {
   "cell_type": "markdown",
   "id": "83461b25",
   "metadata": {},
   "source": [
    "## Read and Write Operation"
   ]
  },
  {
   "cell_type": "markdown",
   "id": "067b3f73",
   "metadata": {},
   "source": [
    "Reading and writing are the two most common operations in the tree data structure based on the data model (TreeValue and Tianshou Batch both belong to this type), so this section will compare the reading and writing performance of these two libraries."
   ]
  },
  {
   "cell_type": "markdown",
   "id": "5d09a5b7",
   "metadata": {},
   "source": [
    "### TreeValue's Get and Set"
   ]
  },
  {
   "cell_type": "code",
   "execution_count": 2,
   "id": "9519c4bb",
   "metadata": {
    "execution": {
     "iopub.execute_input": "2023-02-25T19:04:25.740825Z",
     "iopub.status.busy": "2023-02-25T19:04:25.740259Z",
     "iopub.status.idle": "2023-02-25T19:04:25.773636Z",
     "shell.execute_reply": "2023-02-25T19:04:25.773003Z"
    }
   },
   "outputs": [],
   "source": [
    "from treevalue import FastTreeValue\n",
    "\n",
    "t = FastTreeValue(_TREE_DATA_2)"
   ]
  },
  {
   "cell_type": "code",
   "execution_count": 3,
   "id": "11c37677",
   "metadata": {
    "execution": {
     "iopub.execute_input": "2023-02-25T19:04:25.776510Z",
     "iopub.status.busy": "2023-02-25T19:04:25.775973Z",
     "iopub.status.idle": "2023-02-25T19:04:25.785272Z",
     "shell.execute_reply": "2023-02-25T19:04:25.784644Z"
    }
   },
   "outputs": [
    {
     "data": {
      "text/plain": [
       "<FastTreeValue 0x7f97d0ce2f70>\n",
       "├── 'a' --> tensor([[ 0.5932, -0.7008, -0.7331],\n",
       "│                   [-1.7363,  0.5790,  0.1155]])\n",
       "└── 'x' --> <FastTreeValue 0x7f97d0ce2f40>\n",
       "    └── 'c' --> tensor([[-0.7046,  1.8036, -0.8145,  0.0660],\n",
       "                        [-0.6666,  0.7362, -1.1966, -1.5355],\n",
       "                        [ 0.4917,  0.7246,  1.7775,  0.4924]])"
      ]
     },
     "execution_count": 3,
     "metadata": {},
     "output_type": "execute_result"
    }
   ],
   "source": [
    "t"
   ]
  },
  {
   "cell_type": "code",
   "execution_count": 4,
   "id": "fd70b0b9",
   "metadata": {
    "execution": {
     "iopub.execute_input": "2023-02-25T19:04:25.788237Z",
     "iopub.status.busy": "2023-02-25T19:04:25.787731Z",
     "iopub.status.idle": "2023-02-25T19:04:25.793523Z",
     "shell.execute_reply": "2023-02-25T19:04:25.792949Z"
    }
   },
   "outputs": [
    {
     "data": {
      "text/plain": [
       "tensor([[ 0.5932, -0.7008, -0.7331],\n",
       "        [-1.7363,  0.5790,  0.1155]])"
      ]
     },
     "execution_count": 4,
     "metadata": {},
     "output_type": "execute_result"
    }
   ],
   "source": [
    "t.a"
   ]
  },
  {
   "cell_type": "code",
   "execution_count": 5,
   "id": "c18197bd",
   "metadata": {
    "execution": {
     "iopub.execute_input": "2023-02-25T19:04:25.796120Z",
     "iopub.status.busy": "2023-02-25T19:04:25.795789Z",
     "iopub.status.idle": "2023-02-25T19:04:30.585861Z",
     "shell.execute_reply": "2023-02-25T19:04:30.585189Z"
    }
   },
   "outputs": [
    {
     "name": "stdout",
     "output_type": "stream",
     "text": [
      "58.9 ns ± 0.0922 ns per loop (mean ± std. dev. of 7 runs, 10,000,000 loops each)\n"
     ]
    }
   ],
   "source": [
    "%timeit t.a"
   ]
  },
  {
   "cell_type": "code",
   "execution_count": 6,
   "id": "bd52f867",
   "metadata": {
    "execution": {
     "iopub.execute_input": "2023-02-25T19:04:30.589037Z",
     "iopub.status.busy": "2023-02-25T19:04:30.588421Z",
     "iopub.status.idle": "2023-02-25T19:04:30.595152Z",
     "shell.execute_reply": "2023-02-25T19:04:30.594570Z"
    }
   },
   "outputs": [
    {
     "data": {
      "text/plain": [
       "<FastTreeValue 0x7f97d0ce2f70>\n",
       "├── 'a' --> tensor([[ 1.5800, -0.4505, -0.3070],\n",
       "│                   [ 0.7781, -0.3092, -1.1490]])\n",
       "└── 'x' --> <FastTreeValue 0x7f97d0ce2f40>\n",
       "    └── 'c' --> tensor([[-0.7046,  1.8036, -0.8145,  0.0660],\n",
       "                        [-0.6666,  0.7362, -1.1966, -1.5355],\n",
       "                        [ 0.4917,  0.7246,  1.7775,  0.4924]])"
      ]
     },
     "execution_count": 6,
     "metadata": {},
     "output_type": "execute_result"
    }
   ],
   "source": [
    "new_value = torch.randn(2, 3)\n",
    "t.a = new_value\n",
    "\n",
    "t"
   ]
  },
  {
   "cell_type": "code",
   "execution_count": 7,
   "id": "bbe04d1c",
   "metadata": {
    "execution": {
     "iopub.execute_input": "2023-02-25T19:04:30.597908Z",
     "iopub.status.busy": "2023-02-25T19:04:30.597584Z",
     "iopub.status.idle": "2023-02-25T19:04:35.958143Z",
     "shell.execute_reply": "2023-02-25T19:04:35.957398Z"
    }
   },
   "outputs": [
    {
     "name": "stdout",
     "output_type": "stream",
     "text": [
      "65.9 ns ± 0.0607 ns per loop (mean ± std. dev. of 7 runs, 10,000,000 loops each)\n"
     ]
    }
   ],
   "source": [
    "%timeit t.a = new_value"
   ]
  },
  {
   "cell_type": "markdown",
   "id": "48c49731",
   "metadata": {},
   "source": [
    "### Tianshou Batch's Get and Set"
   ]
  },
  {
   "cell_type": "code",
   "execution_count": 8,
   "id": "f1bb14c1",
   "metadata": {
    "execution": {
     "iopub.execute_input": "2023-02-25T19:04:35.960923Z",
     "iopub.status.busy": "2023-02-25T19:04:35.960568Z",
     "iopub.status.idle": "2023-02-25T19:04:36.298440Z",
     "shell.execute_reply": "2023-02-25T19:04:36.297757Z"
    }
   },
   "outputs": [],
   "source": [
    "from tianshou.data import Batch\n",
    "\n",
    "b = Batch(**_TREE_DATA_2)"
   ]
  },
  {
   "cell_type": "code",
   "execution_count": 9,
   "id": "cb0777c3",
   "metadata": {
    "execution": {
     "iopub.execute_input": "2023-02-25T19:04:36.301749Z",
     "iopub.status.busy": "2023-02-25T19:04:36.301109Z",
     "iopub.status.idle": "2023-02-25T19:04:36.307248Z",
     "shell.execute_reply": "2023-02-25T19:04:36.306647Z"
    }
   },
   "outputs": [
    {
     "data": {
      "text/plain": [
       "Batch(\n",
       "    a: tensor([[ 0.5932, -0.7008, -0.7331],\n",
       "               [-1.7363,  0.5790,  0.1155]]),\n",
       "    x: Batch(\n",
       "           c: tensor([[-0.7046,  1.8036, -0.8145,  0.0660],\n",
       "                      [-0.6666,  0.7362, -1.1966, -1.5355],\n",
       "                      [ 0.4917,  0.7246,  1.7775,  0.4924]]),\n",
       "       ),\n",
       ")"
      ]
     },
     "execution_count": 9,
     "metadata": {},
     "output_type": "execute_result"
    }
   ],
   "source": [
    "b"
   ]
  },
  {
   "cell_type": "code",
   "execution_count": 10,
   "id": "43ef8ea3",
   "metadata": {
    "execution": {
     "iopub.execute_input": "2023-02-25T19:04:36.310259Z",
     "iopub.status.busy": "2023-02-25T19:04:36.309760Z",
     "iopub.status.idle": "2023-02-25T19:04:36.315807Z",
     "shell.execute_reply": "2023-02-25T19:04:36.315221Z"
    }
   },
   "outputs": [
    {
     "data": {
      "text/plain": [
       "tensor([[ 0.5932, -0.7008, -0.7331],\n",
       "        [-1.7363,  0.5790,  0.1155]])"
      ]
     },
     "execution_count": 10,
     "metadata": {},
     "output_type": "execute_result"
    }
   ],
   "source": [
    "b.a"
   ]
  },
  {
   "cell_type": "code",
   "execution_count": 11,
   "id": "b785ab72",
   "metadata": {
    "execution": {
     "iopub.execute_input": "2023-02-25T19:04:36.318577Z",
     "iopub.status.busy": "2023-02-25T19:04:36.318240Z",
     "iopub.status.idle": "2023-02-25T19:04:41.156141Z",
     "shell.execute_reply": "2023-02-25T19:04:41.155440Z"
    }
   },
   "outputs": [
    {
     "name": "stdout",
     "output_type": "stream",
     "text": [
      "59.6 ns ± 0.0494 ns per loop (mean ± std. dev. of 7 runs, 10,000,000 loops each)\n"
     ]
    }
   ],
   "source": [
    "%timeit b.a"
   ]
  },
  {
   "cell_type": "code",
   "execution_count": 12,
   "id": "ad54dc69",
   "metadata": {
    "execution": {
     "iopub.execute_input": "2023-02-25T19:04:41.159132Z",
     "iopub.status.busy": "2023-02-25T19:04:41.158548Z",
     "iopub.status.idle": "2023-02-25T19:04:41.164997Z",
     "shell.execute_reply": "2023-02-25T19:04:41.164391Z"
    }
   },
   "outputs": [
    {
     "data": {
      "text/plain": [
       "Batch(\n",
       "    a: tensor([[-0.2744, -0.3955, -1.1192],\n",
       "               [-0.6843, -0.8284,  0.6274]]),\n",
       "    x: Batch(\n",
       "           c: tensor([[-0.7046,  1.8036, -0.8145,  0.0660],\n",
       "                      [-0.6666,  0.7362, -1.1966, -1.5355],\n",
       "                      [ 0.4917,  0.7246,  1.7775,  0.4924]]),\n",
       "       ),\n",
       ")"
      ]
     },
     "execution_count": 12,
     "metadata": {},
     "output_type": "execute_result"
    }
   ],
   "source": [
    "new_value = torch.randn(2, 3)\n",
    "b.a = new_value\n",
    "\n",
    "b"
   ]
  },
  {
   "cell_type": "code",
   "execution_count": 13,
   "id": "29b1d0bf",
   "metadata": {
    "execution": {
     "iopub.execute_input": "2023-02-25T19:04:41.167547Z",
     "iopub.status.busy": "2023-02-25T19:04:41.167038Z",
     "iopub.status.idle": "2023-02-25T19:04:45.116132Z",
     "shell.execute_reply": "2023-02-25T19:04:45.115363Z"
    }
   },
   "outputs": [
    {
     "name": "stdout",
     "output_type": "stream",
     "text": [
      "485 ns ± 0.158 ns per loop (mean ± std. dev. of 7 runs, 1,000,000 loops each)\n"
     ]
    }
   ],
   "source": [
    "%timeit b.a = new_value"
   ]
  },
  {
   "cell_type": "markdown",
   "id": "b61ad1d0",
   "metadata": {},
   "source": [
    "## Initialization"
   ]
  },
  {
   "cell_type": "markdown",
   "id": "d70f0d54",
   "metadata": {},
   "source": [
    "### TreeValue's Initialization"
   ]
  },
  {
   "cell_type": "code",
   "execution_count": 14,
   "id": "d32a679b",
   "metadata": {
    "execution": {
     "iopub.execute_input": "2023-02-25T19:04:45.118982Z",
     "iopub.status.busy": "2023-02-25T19:04:45.118617Z",
     "iopub.status.idle": "2023-02-25T19:04:52.308742Z",
     "shell.execute_reply": "2023-02-25T19:04:52.308066Z"
    }
   },
   "outputs": [
    {
     "name": "stdout",
     "output_type": "stream",
     "text": [
      "886 ns ± 5.37 ns per loop (mean ± std. dev. of 7 runs, 1,000,000 loops each)\n"
     ]
    }
   ],
   "source": [
    "%timeit FastTreeValue(_TREE_DATA_1)"
   ]
  },
  {
   "cell_type": "markdown",
   "id": "24f3707b",
   "metadata": {},
   "source": [
    "### Tianshou Batch's Initialization"
   ]
  },
  {
   "cell_type": "code",
   "execution_count": 15,
   "id": "ac3958df",
   "metadata": {
    "execution": {
     "iopub.execute_input": "2023-02-25T19:04:52.311875Z",
     "iopub.status.busy": "2023-02-25T19:04:52.311345Z",
     "iopub.status.idle": "2023-02-25T19:05:01.597610Z",
     "shell.execute_reply": "2023-02-25T19:05:01.596834Z"
    }
   },
   "outputs": [
    {
     "name": "stdout",
     "output_type": "stream",
     "text": [
      "11.5 µs ± 46.9 ns per loop (mean ± std. dev. of 7 runs, 100,000 loops each)\n"
     ]
    }
   ],
   "source": [
    "%timeit Batch(**_TREE_DATA_1)"
   ]
  },
  {
   "cell_type": "markdown",
   "id": "1ab82e2d",
   "metadata": {},
   "source": [
    "## Deep Copy Operation"
   ]
  },
  {
   "cell_type": "code",
   "execution_count": 16,
   "id": "210a9442",
   "metadata": {
    "execution": {
     "iopub.execute_input": "2023-02-25T19:05:01.600431Z",
     "iopub.status.busy": "2023-02-25T19:05:01.600075Z",
     "iopub.status.idle": "2023-02-25T19:05:01.603969Z",
     "shell.execute_reply": "2023-02-25T19:05:01.603367Z"
    }
   },
   "outputs": [],
   "source": [
    "import copy"
   ]
  },
  {
   "cell_type": "markdown",
   "id": "5a736274",
   "metadata": {},
   "source": [
    "### Deep Copy of TreeValue"
   ]
  },
  {
   "cell_type": "code",
   "execution_count": 17,
   "id": "f9bcadd6",
   "metadata": {
    "execution": {
     "iopub.execute_input": "2023-02-25T19:05:01.606566Z",
     "iopub.status.busy": "2023-02-25T19:05:01.606010Z",
     "iopub.status.idle": "2023-02-25T19:05:12.763843Z",
     "shell.execute_reply": "2023-02-25T19:05:12.763249Z"
    }
   },
   "outputs": [
    {
     "name": "stdout",
     "output_type": "stream",
     "text": [
      "137 µs ± 393 ns per loop (mean ± std. dev. of 7 runs, 10,000 loops each)\n"
     ]
    }
   ],
   "source": [
    "t3 = FastTreeValue(_TREE_DATA_3)\n",
    "%timeit copy.deepcopy(t3)"
   ]
  },
  {
   "cell_type": "markdown",
   "id": "bf8be7ea",
   "metadata": {},
   "source": [
    "### Deep Copy of Tianshou Batch"
   ]
  },
  {
   "cell_type": "code",
   "execution_count": 18,
   "id": "91998e6f",
   "metadata": {
    "execution": {
     "iopub.execute_input": "2023-02-25T19:05:12.767379Z",
     "iopub.status.busy": "2023-02-25T19:05:12.766487Z",
     "iopub.status.idle": "2023-02-25T19:05:24.149105Z",
     "shell.execute_reply": "2023-02-25T19:05:24.148499Z"
    }
   },
   "outputs": [
    {
     "name": "stdout",
     "output_type": "stream",
     "text": [
      "140 µs ± 293 ns per loop (mean ± std. dev. of 7 runs, 10,000 loops each)\n"
     ]
    }
   ],
   "source": [
    "b3 = Batch(**_TREE_DATA_3)\n",
    "%timeit copy.deepcopy(b3)"
   ]
  },
  {
   "cell_type": "markdown",
   "id": "223162fb",
   "metadata": {},
   "source": [
    "## Stack, Concat and Split Operation"
   ]
  },
  {
   "cell_type": "markdown",
   "id": "85fa4a73",
   "metadata": {},
   "source": [
    "### Performance of TreeValue"
   ]
  },
  {
   "cell_type": "code",
   "execution_count": 19,
   "id": "a0c2b697",
   "metadata": {
    "execution": {
     "iopub.execute_input": "2023-02-25T19:05:24.152446Z",
     "iopub.status.busy": "2023-02-25T19:05:24.151484Z",
     "iopub.status.idle": "2023-02-25T19:05:24.155785Z",
     "shell.execute_reply": "2023-02-25T19:05:24.155247Z"
    }
   },
   "outputs": [],
   "source": [
    "trees = [FastTreeValue(_TREE_DATA_2) for _ in range(8)]"
   ]
  },
  {
   "cell_type": "code",
   "execution_count": 20,
   "id": "017ea5a5",
   "metadata": {
    "execution": {
     "iopub.execute_input": "2023-02-25T19:05:24.159330Z",
     "iopub.status.busy": "2023-02-25T19:05:24.158436Z",
     "iopub.status.idle": "2023-02-25T19:05:24.167162Z",
     "shell.execute_reply": "2023-02-25T19:05:24.166644Z"
    }
   },
   "outputs": [
    {
     "data": {
      "text/plain": [
       "<FastTreeValue 0x7f97ac187b80>\n",
       "├── 'a' --> tensor([[[ 0.5932, -0.7008, -0.7331],\n",
       "│                    [-1.7363,  0.5790,  0.1155]],\n",
       "│           \n",
       "│                   [[ 0.5932, -0.7008, -0.7331],\n",
       "│                    [-1.7363,  0.5790,  0.1155]],\n",
       "│           \n",
       "│                   [[ 0.5932, -0.7008, -0.7331],\n",
       "│                    [-1.7363,  0.5790,  0.1155]],\n",
       "│           \n",
       "│                   [[ 0.5932, -0.7008, -0.7331],\n",
       "│                    [-1.7363,  0.5790,  0.1155]],\n",
       "│           \n",
       "│                   [[ 0.5932, -0.7008, -0.7331],\n",
       "│                    [-1.7363,  0.5790,  0.1155]],\n",
       "│           \n",
       "│                   [[ 0.5932, -0.7008, -0.7331],\n",
       "│                    [-1.7363,  0.5790,  0.1155]],\n",
       "│           \n",
       "│                   [[ 0.5932, -0.7008, -0.7331],\n",
       "│                    [-1.7363,  0.5790,  0.1155]],\n",
       "│           \n",
       "│                   [[ 0.5932, -0.7008, -0.7331],\n",
       "│                    [-1.7363,  0.5790,  0.1155]]])\n",
       "└── 'x' --> <FastTreeValue 0x7f97ac187df0>\n",
       "    └── 'c' --> tensor([[[-0.7046,  1.8036, -0.8145,  0.0660],\n",
       "                         [-0.6666,  0.7362, -1.1966, -1.5355],\n",
       "                         [ 0.4917,  0.7246,  1.7775,  0.4924]],\n",
       "                \n",
       "                        [[-0.7046,  1.8036, -0.8145,  0.0660],\n",
       "                         [-0.6666,  0.7362, -1.1966, -1.5355],\n",
       "                         [ 0.4917,  0.7246,  1.7775,  0.4924]],\n",
       "                \n",
       "                        [[-0.7046,  1.8036, -0.8145,  0.0660],\n",
       "                         [-0.6666,  0.7362, -1.1966, -1.5355],\n",
       "                         [ 0.4917,  0.7246,  1.7775,  0.4924]],\n",
       "                \n",
       "                        [[-0.7046,  1.8036, -0.8145,  0.0660],\n",
       "                         [-0.6666,  0.7362, -1.1966, -1.5355],\n",
       "                         [ 0.4917,  0.7246,  1.7775,  0.4924]],\n",
       "                \n",
       "                        [[-0.7046,  1.8036, -0.8145,  0.0660],\n",
       "                         [-0.6666,  0.7362, -1.1966, -1.5355],\n",
       "                         [ 0.4917,  0.7246,  1.7775,  0.4924]],\n",
       "                \n",
       "                        [[-0.7046,  1.8036, -0.8145,  0.0660],\n",
       "                         [-0.6666,  0.7362, -1.1966, -1.5355],\n",
       "                         [ 0.4917,  0.7246,  1.7775,  0.4924]],\n",
       "                \n",
       "                        [[-0.7046,  1.8036, -0.8145,  0.0660],\n",
       "                         [-0.6666,  0.7362, -1.1966, -1.5355],\n",
       "                         [ 0.4917,  0.7246,  1.7775,  0.4924]],\n",
       "                \n",
       "                        [[-0.7046,  1.8036, -0.8145,  0.0660],\n",
       "                         [-0.6666,  0.7362, -1.1966, -1.5355],\n",
       "                         [ 0.4917,  0.7246,  1.7775,  0.4924]]])"
      ]
     },
     "execution_count": 20,
     "metadata": {},
     "output_type": "execute_result"
    }
   ],
   "source": [
    "t_stack = FastTreeValue.func(subside=True)(torch.stack)\n",
    "\n",
    "t_stack(trees)"
   ]
  },
  {
   "cell_type": "code",
   "execution_count": 21,
   "id": "f8b3f415",
   "metadata": {
    "execution": {
     "iopub.execute_input": "2023-02-25T19:05:24.170668Z",
     "iopub.status.busy": "2023-02-25T19:05:24.169782Z",
     "iopub.status.idle": "2023-02-25T19:05:26.784873Z",
     "shell.execute_reply": "2023-02-25T19:05:26.784148Z"
    }
   },
   "outputs": [
    {
     "name": "stdout",
     "output_type": "stream",
     "text": [
      "32.1 µs ± 67.4 ns per loop (mean ± std. dev. of 7 runs, 10,000 loops each)\n"
     ]
    }
   ],
   "source": [
    "%timeit t_stack(trees)"
   ]
  },
  {
   "cell_type": "code",
   "execution_count": 22,
   "id": "94b56771",
   "metadata": {
    "execution": {
     "iopub.execute_input": "2023-02-25T19:05:26.787530Z",
     "iopub.status.busy": "2023-02-25T19:05:26.787181Z",
     "iopub.status.idle": "2023-02-25T19:05:26.795880Z",
     "shell.execute_reply": "2023-02-25T19:05:26.795297Z"
    }
   },
   "outputs": [
    {
     "data": {
      "text/plain": [
       "<FastTreeValue 0x7f9723908820>\n",
       "├── 'a' --> tensor([[ 0.5932, -0.7008, -0.7331],\n",
       "│                   [-1.7363,  0.5790,  0.1155],\n",
       "│                   [ 0.5932, -0.7008, -0.7331],\n",
       "│                   [-1.7363,  0.5790,  0.1155],\n",
       "│                   [ 0.5932, -0.7008, -0.7331],\n",
       "│                   [-1.7363,  0.5790,  0.1155],\n",
       "│                   [ 0.5932, -0.7008, -0.7331],\n",
       "│                   [-1.7363,  0.5790,  0.1155],\n",
       "│                   [ 0.5932, -0.7008, -0.7331],\n",
       "│                   [-1.7363,  0.5790,  0.1155],\n",
       "│                   [ 0.5932, -0.7008, -0.7331],\n",
       "│                   [-1.7363,  0.5790,  0.1155],\n",
       "│                   [ 0.5932, -0.7008, -0.7331],\n",
       "│                   [-1.7363,  0.5790,  0.1155],\n",
       "│                   [ 0.5932, -0.7008, -0.7331],\n",
       "│                   [-1.7363,  0.5790,  0.1155]])\n",
       "└── 'x' --> <FastTreeValue 0x7f97ac191f40>\n",
       "    └── 'c' --> tensor([[-0.7046,  1.8036, -0.8145,  0.0660],\n",
       "                        [-0.6666,  0.7362, -1.1966, -1.5355],\n",
       "                        [ 0.4917,  0.7246,  1.7775,  0.4924],\n",
       "                        [-0.7046,  1.8036, -0.8145,  0.0660],\n",
       "                        [-0.6666,  0.7362, -1.1966, -1.5355],\n",
       "                        [ 0.4917,  0.7246,  1.7775,  0.4924],\n",
       "                        [-0.7046,  1.8036, -0.8145,  0.0660],\n",
       "                        [-0.6666,  0.7362, -1.1966, -1.5355],\n",
       "                        [ 0.4917,  0.7246,  1.7775,  0.4924],\n",
       "                        [-0.7046,  1.8036, -0.8145,  0.0660],\n",
       "                        [-0.6666,  0.7362, -1.1966, -1.5355],\n",
       "                        [ 0.4917,  0.7246,  1.7775,  0.4924],\n",
       "                        [-0.7046,  1.8036, -0.8145,  0.0660],\n",
       "                        [-0.6666,  0.7362, -1.1966, -1.5355],\n",
       "                        [ 0.4917,  0.7246,  1.7775,  0.4924],\n",
       "                        [-0.7046,  1.8036, -0.8145,  0.0660],\n",
       "                        [-0.6666,  0.7362, -1.1966, -1.5355],\n",
       "                        [ 0.4917,  0.7246,  1.7775,  0.4924],\n",
       "                        [-0.7046,  1.8036, -0.8145,  0.0660],\n",
       "                        [-0.6666,  0.7362, -1.1966, -1.5355],\n",
       "                        [ 0.4917,  0.7246,  1.7775,  0.4924],\n",
       "                        [-0.7046,  1.8036, -0.8145,  0.0660],\n",
       "                        [-0.6666,  0.7362, -1.1966, -1.5355],\n",
       "                        [ 0.4917,  0.7246,  1.7775,  0.4924]])"
      ]
     },
     "execution_count": 22,
     "metadata": {},
     "output_type": "execute_result"
    }
   ],
   "source": [
    "t_cat = FastTreeValue.func(subside=True)(torch.cat)\n",
    "\n",
    "t_cat(trees)"
   ]
  },
  {
   "cell_type": "code",
   "execution_count": 23,
   "id": "5e9c06a6",
   "metadata": {
    "execution": {
     "iopub.execute_input": "2023-02-25T19:05:26.798782Z",
     "iopub.status.busy": "2023-02-25T19:05:26.798304Z",
     "iopub.status.idle": "2023-02-25T19:05:29.272976Z",
     "shell.execute_reply": "2023-02-25T19:05:29.272240Z"
    }
   },
   "outputs": [
    {
     "name": "stdout",
     "output_type": "stream",
     "text": [
      "30.4 µs ± 69 ns per loop (mean ± std. dev. of 7 runs, 10,000 loops each)\n"
     ]
    }
   ],
   "source": [
    "%timeit t_cat(trees)"
   ]
  },
  {
   "cell_type": "code",
   "execution_count": 24,
   "id": "a3ab5c8f",
   "metadata": {
    "execution": {
     "iopub.execute_input": "2023-02-25T19:05:29.275825Z",
     "iopub.status.busy": "2023-02-25T19:05:29.275315Z",
     "iopub.status.idle": "2023-02-25T19:05:34.054970Z",
     "shell.execute_reply": "2023-02-25T19:05:34.054232Z"
    }
   },
   "outputs": [
    {
     "name": "stdout",
     "output_type": "stream",
     "text": [
      "58.8 µs ± 143 ns per loop (mean ± std. dev. of 7 runs, 10,000 loops each)\n"
     ]
    }
   ],
   "source": [
    "t_split = FastTreeValue.func(rise=True)(torch.split)\n",
    "tree = FastTreeValue({\n",
    "    'obs': torch.randn(8, 4, 84, 84),\n",
    "    'action': torch.randint(0, 6, size=(8, 1,)),\n",
    "    'reward': torch.rand(8, 1),\n",
    "})\n",
    "\n",
    "%timeit t_split(tree, 1)"
   ]
  },
  {
   "cell_type": "markdown",
   "id": "31c3ec0b",
   "metadata": {},
   "source": [
    "### Performance of Tianshou Batch"
   ]
  },
  {
   "cell_type": "code",
   "execution_count": 25,
   "id": "9ead828a",
   "metadata": {
    "execution": {
     "iopub.execute_input": "2023-02-25T19:05:34.057997Z",
     "iopub.status.busy": "2023-02-25T19:05:34.057643Z",
     "iopub.status.idle": "2023-02-25T19:05:34.065497Z",
     "shell.execute_reply": "2023-02-25T19:05:34.064924Z"
    }
   },
   "outputs": [
    {
     "data": {
      "text/plain": [
       "Batch(\n",
       "    x: Batch(\n",
       "           c: tensor([[[-0.7046,  1.8036, -0.8145,  0.0660],\n",
       "                       [-0.6666,  0.7362, -1.1966, -1.5355],\n",
       "                       [ 0.4917,  0.7246,  1.7775,  0.4924]],\n",
       "              \n",
       "                      [[-0.7046,  1.8036, -0.8145,  0.0660],\n",
       "                       [-0.6666,  0.7362, -1.1966, -1.5355],\n",
       "                       [ 0.4917,  0.7246,  1.7775,  0.4924]],\n",
       "              \n",
       "                      [[-0.7046,  1.8036, -0.8145,  0.0660],\n",
       "                       [-0.6666,  0.7362, -1.1966, -1.5355],\n",
       "                       [ 0.4917,  0.7246,  1.7775,  0.4924]],\n",
       "              \n",
       "                      [[-0.7046,  1.8036, -0.8145,  0.0660],\n",
       "                       [-0.6666,  0.7362, -1.1966, -1.5355],\n",
       "                       [ 0.4917,  0.7246,  1.7775,  0.4924]],\n",
       "              \n",
       "                      [[-0.7046,  1.8036, -0.8145,  0.0660],\n",
       "                       [-0.6666,  0.7362, -1.1966, -1.5355],\n",
       "                       [ 0.4917,  0.7246,  1.7775,  0.4924]],\n",
       "              \n",
       "                      [[-0.7046,  1.8036, -0.8145,  0.0660],\n",
       "                       [-0.6666,  0.7362, -1.1966, -1.5355],\n",
       "                       [ 0.4917,  0.7246,  1.7775,  0.4924]],\n",
       "              \n",
       "                      [[-0.7046,  1.8036, -0.8145,  0.0660],\n",
       "                       [-0.6666,  0.7362, -1.1966, -1.5355],\n",
       "                       [ 0.4917,  0.7246,  1.7775,  0.4924]],\n",
       "              \n",
       "                      [[-0.7046,  1.8036, -0.8145,  0.0660],\n",
       "                       [-0.6666,  0.7362, -1.1966, -1.5355],\n",
       "                       [ 0.4917,  0.7246,  1.7775,  0.4924]]]),\n",
       "       ),\n",
       "    a: tensor([[[ 0.5932, -0.7008, -0.7331],\n",
       "                [-1.7363,  0.5790,  0.1155]],\n",
       "       \n",
       "               [[ 0.5932, -0.7008, -0.7331],\n",
       "                [-1.7363,  0.5790,  0.1155]],\n",
       "       \n",
       "               [[ 0.5932, -0.7008, -0.7331],\n",
       "                [-1.7363,  0.5790,  0.1155]],\n",
       "       \n",
       "               [[ 0.5932, -0.7008, -0.7331],\n",
       "                [-1.7363,  0.5790,  0.1155]],\n",
       "       \n",
       "               [[ 0.5932, -0.7008, -0.7331],\n",
       "                [-1.7363,  0.5790,  0.1155]],\n",
       "       \n",
       "               [[ 0.5932, -0.7008, -0.7331],\n",
       "                [-1.7363,  0.5790,  0.1155]],\n",
       "       \n",
       "               [[ 0.5932, -0.7008, -0.7331],\n",
       "                [-1.7363,  0.5790,  0.1155]],\n",
       "       \n",
       "               [[ 0.5932, -0.7008, -0.7331],\n",
       "                [-1.7363,  0.5790,  0.1155]]]),\n",
       ")"
      ]
     },
     "execution_count": 25,
     "metadata": {},
     "output_type": "execute_result"
    }
   ],
   "source": [
    "batches = [Batch(**_TREE_DATA_2) for _ in range(8)]\n",
    "\n",
    "Batch.stack(batches)"
   ]
  },
  {
   "cell_type": "code",
   "execution_count": 26,
   "id": "ec9037a3",
   "metadata": {
    "execution": {
     "iopub.execute_input": "2023-02-25T19:05:34.068386Z",
     "iopub.status.busy": "2023-02-25T19:05:34.067868Z",
     "iopub.status.idle": "2023-02-25T19:05:40.403818Z",
     "shell.execute_reply": "2023-02-25T19:05:40.403108Z"
    }
   },
   "outputs": [
    {
     "name": "stdout",
     "output_type": "stream",
     "text": [
      "78 µs ± 218 ns per loop (mean ± std. dev. of 7 runs, 10,000 loops each)\n"
     ]
    }
   ],
   "source": [
    "%timeit Batch.stack(batches)"
   ]
  },
  {
   "cell_type": "code",
   "execution_count": 27,
   "id": "cb8ab77e",
   "metadata": {
    "execution": {
     "iopub.execute_input": "2023-02-25T19:05:40.406819Z",
     "iopub.status.busy": "2023-02-25T19:05:40.406467Z",
     "iopub.status.idle": "2023-02-25T19:05:40.414612Z",
     "shell.execute_reply": "2023-02-25T19:05:40.414034Z"
    }
   },
   "outputs": [
    {
     "data": {
      "text/plain": [
       "Batch(\n",
       "    x: Batch(\n",
       "           c: tensor([[-0.7046,  1.8036, -0.8145,  0.0660],\n",
       "                      [-0.6666,  0.7362, -1.1966, -1.5355],\n",
       "                      [ 0.4917,  0.7246,  1.7775,  0.4924],\n",
       "                      [-0.7046,  1.8036, -0.8145,  0.0660],\n",
       "                      [-0.6666,  0.7362, -1.1966, -1.5355],\n",
       "                      [ 0.4917,  0.7246,  1.7775,  0.4924],\n",
       "                      [-0.7046,  1.8036, -0.8145,  0.0660],\n",
       "                      [-0.6666,  0.7362, -1.1966, -1.5355],\n",
       "                      [ 0.4917,  0.7246,  1.7775,  0.4924],\n",
       "                      [-0.7046,  1.8036, -0.8145,  0.0660],\n",
       "                      [-0.6666,  0.7362, -1.1966, -1.5355],\n",
       "                      [ 0.4917,  0.7246,  1.7775,  0.4924],\n",
       "                      [-0.7046,  1.8036, -0.8145,  0.0660],\n",
       "                      [-0.6666,  0.7362, -1.1966, -1.5355],\n",
       "                      [ 0.4917,  0.7246,  1.7775,  0.4924],\n",
       "                      [-0.7046,  1.8036, -0.8145,  0.0660],\n",
       "                      [-0.6666,  0.7362, -1.1966, -1.5355],\n",
       "                      [ 0.4917,  0.7246,  1.7775,  0.4924],\n",
       "                      [-0.7046,  1.8036, -0.8145,  0.0660],\n",
       "                      [-0.6666,  0.7362, -1.1966, -1.5355],\n",
       "                      [ 0.4917,  0.7246,  1.7775,  0.4924],\n",
       "                      [-0.7046,  1.8036, -0.8145,  0.0660],\n",
       "                      [-0.6666,  0.7362, -1.1966, -1.5355],\n",
       "                      [ 0.4917,  0.7246,  1.7775,  0.4924]]),\n",
       "       ),\n",
       "    a: tensor([[ 0.5932, -0.7008, -0.7331],\n",
       "               [-1.7363,  0.5790,  0.1155],\n",
       "               [ 0.5932, -0.7008, -0.7331],\n",
       "               [-1.7363,  0.5790,  0.1155],\n",
       "               [ 0.5932, -0.7008, -0.7331],\n",
       "               [-1.7363,  0.5790,  0.1155],\n",
       "               [ 0.5932, -0.7008, -0.7331],\n",
       "               [-1.7363,  0.5790,  0.1155],\n",
       "               [ 0.5932, -0.7008, -0.7331],\n",
       "               [-1.7363,  0.5790,  0.1155],\n",
       "               [ 0.5932, -0.7008, -0.7331],\n",
       "               [-1.7363,  0.5790,  0.1155],\n",
       "               [ 0.5932, -0.7008, -0.7331],\n",
       "               [-1.7363,  0.5790,  0.1155],\n",
       "               [ 0.5932, -0.7008, -0.7331],\n",
       "               [-1.7363,  0.5790,  0.1155]]),\n",
       ")"
      ]
     },
     "execution_count": 27,
     "metadata": {},
     "output_type": "execute_result"
    }
   ],
   "source": [
    "Batch.cat(batches)"
   ]
  },
  {
   "cell_type": "code",
   "execution_count": 28,
   "id": "18dfb045",
   "metadata": {
    "execution": {
     "iopub.execute_input": "2023-02-25T19:05:40.417346Z",
     "iopub.status.busy": "2023-02-25T19:05:40.416872Z",
     "iopub.status.idle": "2023-02-25T19:05:52.124142Z",
     "shell.execute_reply": "2023-02-25T19:05:52.123034Z"
    }
   },
   "outputs": [
    {
     "name": "stdout",
     "output_type": "stream",
     "text": [
      "144 µs ± 292 ns per loop (mean ± std. dev. of 7 runs, 10,000 loops each)\n"
     ]
    }
   ],
   "source": [
    "%timeit Batch.cat(batches)"
   ]
  },
  {
   "cell_type": "code",
   "execution_count": 29,
   "id": "c6688e51",
   "metadata": {
    "execution": {
     "iopub.execute_input": "2023-02-25T19:05:52.126948Z",
     "iopub.status.busy": "2023-02-25T19:05:52.126577Z",
     "iopub.status.idle": "2023-02-25T19:05:54.609822Z",
     "shell.execute_reply": "2023-02-25T19:05:54.609214Z"
    }
   },
   "outputs": [
    {
     "name": "stdout",
     "output_type": "stream",
     "text": [
      "305 µs ± 2.05 µs per loop (mean ± std. dev. of 7 runs, 1,000 loops each)\n"
     ]
    }
   ],
   "source": [
    "batch = Batch({\n",
    "    'obs': torch.randn(8, 4, 84, 84),\n",
    "    'action': torch.randint(0, 6, size=(8, 1,)),\n",
    "    'reward': torch.rand(8, 1)}\n",
    ")\n",
    "\n",
    "%timeit list(Batch.split(batch, 1, shuffle=False, merge_last=True))"
   ]
  },
  {
   "cell_type": "code",
   "execution_count": null,
   "id": "2539fbd9",
   "metadata": {},
   "outputs": [],
   "source": []
  }
 ],
 "metadata": {
  "kernelspec": {
   "display_name": "Python 3 (ipykernel)",
   "language": "python",
   "name": "python3"
  },
  "language_info": {
   "codemirror_mode": {
    "name": "ipython",
    "version": 3
   },
   "file_extension": ".py",
   "mimetype": "text/x-python",
   "name": "python",
   "nbconvert_exporter": "python",
   "pygments_lexer": "ipython3",
   "version": "3.8.16"
  }
 },
 "nbformat": 4,
 "nbformat_minor": 5
}
