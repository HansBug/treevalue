{
 "cells": [
  {
   "cell_type": "markdown",
   "id": "9d39d946",
   "metadata": {},
   "source": [
    "# Comparison Between TreeValue and Tianshou Batch"
   ]
  },
  {
   "cell_type": "markdown",
   "id": "3c6db2d4",
   "metadata": {},
   "source": [
    "In this section, we will take a look at the feature and performance of the [Tianshou Batch](https://github.com/thu-ml/tianshou) library, which is developed by Tsinghua Machine Learning Group."
   ]
  },
  {
   "cell_type": "markdown",
   "id": "069361b0",
   "metadata": {},
   "source": [
    "Before starting the comparison, let us define some thing."
   ]
  },
  {
   "cell_type": "code",
   "execution_count": 1,
   "id": "06fc8d26",
   "metadata": {
    "execution": {
     "iopub.execute_input": "2023-02-27T13:06:22.142926Z",
     "iopub.status.busy": "2023-02-27T13:06:22.142708Z",
     "iopub.status.idle": "2023-02-27T13:06:23.080937Z",
     "shell.execute_reply": "2023-02-27T13:06:23.080215Z"
    }
   },
   "outputs": [
    {
     "name": "stderr",
     "output_type": "stream",
     "text": [
      "/opt/hostedtoolcache/Python/3.8.16/x64/lib/python3.8/site-packages/tqdm/auto.py:22: TqdmWarning: IProgress not found. Please update jupyter and ipywidgets. See https://ipywidgets.readthedocs.io/en/stable/user_install.html\n",
      "  from .autonotebook import tqdm as notebook_tqdm\n"
     ]
    }
   ],
   "source": [
    "import torch \n",
    "\n",
    "_TREE_DATA_1 = {'a': 1, 'b': 2, 'x': {'c': 3, 'd': 4}}\n",
    "_TREE_DATA_2 = {\n",
    "    'a': torch.randn(2, 3), \n",
    "    'x': {\n",
    "        'c': torch.randn(3, 4)\n",
    "    },\n",
    "}\n",
    "_TREE_DATA_3 = {\n",
    "    'obs': torch.randn(4, 84, 84),\n",
    "    'action': torch.randint(0, 6, size=(1,)),\n",
    "    'reward': torch.rand(1),\n",
    "}"
   ]
  },
  {
   "cell_type": "markdown",
   "id": "83461b25",
   "metadata": {},
   "source": [
    "## Read and Write Operation"
   ]
  },
  {
   "cell_type": "markdown",
   "id": "067b3f73",
   "metadata": {},
   "source": [
    "Reading and writing are the two most common operations in the tree data structure based on the data model (TreeValue and Tianshou Batch both belong to this type), so this section will compare the reading and writing performance of these two libraries."
   ]
  },
  {
   "cell_type": "markdown",
   "id": "5d09a5b7",
   "metadata": {},
   "source": [
    "### TreeValue's Get and Set"
   ]
  },
  {
   "cell_type": "code",
   "execution_count": 2,
   "id": "9519c4bb",
   "metadata": {
    "execution": {
     "iopub.execute_input": "2023-02-27T13:06:23.084296Z",
     "iopub.status.busy": "2023-02-27T13:06:23.083779Z",
     "iopub.status.idle": "2023-02-27T13:06:23.367763Z",
     "shell.execute_reply": "2023-02-27T13:06:23.367049Z"
    }
   },
   "outputs": [],
   "source": [
    "from treevalue import FastTreeValue\n",
    "\n",
    "t = FastTreeValue(_TREE_DATA_2)"
   ]
  },
  {
   "cell_type": "code",
   "execution_count": 3,
   "id": "11c37677",
   "metadata": {
    "execution": {
     "iopub.execute_input": "2023-02-27T13:06:23.371321Z",
     "iopub.status.busy": "2023-02-27T13:06:23.370664Z",
     "iopub.status.idle": "2023-02-27T13:06:23.380005Z",
     "shell.execute_reply": "2023-02-27T13:06:23.379439Z"
    }
   },
   "outputs": [
    {
     "data": {
      "text/plain": [
       "<FastTreeValue 0x7f780cbd98e0>\n",
       "├── 'a' --> tensor([[-0.9334, -1.4358,  0.5026],\n",
       "│                   [-1.0184, -0.4287,  0.4309]])\n",
       "└── 'x' --> <FastTreeValue 0x7f780cbd98b0>\n",
       "    └── 'c' --> tensor([[-0.2345,  0.8976, -0.2605, -2.4600],\n",
       "                        [-0.5445, -0.8252,  0.2699,  0.8334],\n",
       "                        [ 0.4808, -2.5085,  1.4038,  1.4455]])"
      ]
     },
     "execution_count": 3,
     "metadata": {},
     "output_type": "execute_result"
    }
   ],
   "source": [
    "t"
   ]
  },
  {
   "cell_type": "code",
   "execution_count": 4,
   "id": "fd70b0b9",
   "metadata": {
    "execution": {
     "iopub.execute_input": "2023-02-27T13:06:23.382716Z",
     "iopub.status.busy": "2023-02-27T13:06:23.382356Z",
     "iopub.status.idle": "2023-02-27T13:06:23.387772Z",
     "shell.execute_reply": "2023-02-27T13:06:23.387037Z"
    }
   },
   "outputs": [
    {
     "data": {
      "text/plain": [
       "tensor([[-0.9334, -1.4358,  0.5026],\n",
       "        [-1.0184, -0.4287,  0.4309]])"
      ]
     },
     "execution_count": 4,
     "metadata": {},
     "output_type": "execute_result"
    }
   ],
   "source": [
    "t.a"
   ]
  },
  {
   "cell_type": "code",
   "execution_count": 5,
   "id": "c18197bd",
   "metadata": {
    "execution": {
     "iopub.execute_input": "2023-02-27T13:06:23.390707Z",
     "iopub.status.busy": "2023-02-27T13:06:23.390185Z",
     "iopub.status.idle": "2023-02-27T13:06:28.531525Z",
     "shell.execute_reply": "2023-02-27T13:06:28.530751Z"
    }
   },
   "outputs": [
    {
     "name": "stdout",
     "output_type": "stream",
     "text": [
      "63.6 ns ± 0.0619 ns per loop (mean ± std. dev. of 7 runs, 10,000,000 loops each)\n"
     ]
    }
   ],
   "source": [
    "%timeit t.a"
   ]
  },
  {
   "cell_type": "code",
   "execution_count": 6,
   "id": "bd52f867",
   "metadata": {
    "execution": {
     "iopub.execute_input": "2023-02-27T13:06:28.534340Z",
     "iopub.status.busy": "2023-02-27T13:06:28.533957Z",
     "iopub.status.idle": "2023-02-27T13:06:28.540970Z",
     "shell.execute_reply": "2023-02-27T13:06:28.539990Z"
    }
   },
   "outputs": [
    {
     "data": {
      "text/plain": [
       "<FastTreeValue 0x7f780cbd98e0>\n",
       "├── 'a' --> tensor([[ 0.0110,  0.0477, -1.3354],\n",
       "│                   [ 0.2677, -0.4541, -1.2953]])\n",
       "└── 'x' --> <FastTreeValue 0x7f780cbd98b0>\n",
       "    └── 'c' --> tensor([[-0.2345,  0.8976, -0.2605, -2.4600],\n",
       "                        [-0.5445, -0.8252,  0.2699,  0.8334],\n",
       "                        [ 0.4808, -2.5085,  1.4038,  1.4455]])"
      ]
     },
     "execution_count": 6,
     "metadata": {},
     "output_type": "execute_result"
    }
   ],
   "source": [
    "new_value = torch.randn(2, 3)\n",
    "t.a = new_value\n",
    "\n",
    "t"
   ]
  },
  {
   "cell_type": "code",
   "execution_count": 7,
   "id": "bbe04d1c",
   "metadata": {
    "execution": {
     "iopub.execute_input": "2023-02-27T13:06:28.543737Z",
     "iopub.status.busy": "2023-02-27T13:06:28.543043Z",
     "iopub.status.idle": "2023-02-27T13:06:33.484808Z",
     "shell.execute_reply": "2023-02-27T13:06:33.484068Z"
    }
   },
   "outputs": [
    {
     "name": "stdout",
     "output_type": "stream",
     "text": [
      "60.8 ns ± 0.0511 ns per loop (mean ± std. dev. of 7 runs, 10,000,000 loops each)\n"
     ]
    }
   ],
   "source": [
    "%timeit t.a = new_value"
   ]
  },
  {
   "cell_type": "markdown",
   "id": "48c49731",
   "metadata": {},
   "source": [
    "### Tianshou Batch's Get and Set"
   ]
  },
  {
   "cell_type": "code",
   "execution_count": 8,
   "id": "f1bb14c1",
   "metadata": {
    "execution": {
     "iopub.execute_input": "2023-02-27T13:06:33.487665Z",
     "iopub.status.busy": "2023-02-27T13:06:33.487440Z",
     "iopub.status.idle": "2023-02-27T13:06:33.822829Z",
     "shell.execute_reply": "2023-02-27T13:06:33.822119Z"
    }
   },
   "outputs": [],
   "source": [
    "from tianshou.data import Batch\n",
    "\n",
    "b = Batch(**_TREE_DATA_2)"
   ]
  },
  {
   "cell_type": "code",
   "execution_count": 9,
   "id": "cb0777c3",
   "metadata": {
    "execution": {
     "iopub.execute_input": "2023-02-27T13:06:33.825829Z",
     "iopub.status.busy": "2023-02-27T13:06:33.825305Z",
     "iopub.status.idle": "2023-02-27T13:06:33.831492Z",
     "shell.execute_reply": "2023-02-27T13:06:33.830902Z"
    }
   },
   "outputs": [
    {
     "data": {
      "text/plain": [
       "Batch(\n",
       "    a: tensor([[-0.9334, -1.4358,  0.5026],\n",
       "               [-1.0184, -0.4287,  0.4309]]),\n",
       "    x: Batch(\n",
       "           c: tensor([[-0.2345,  0.8976, -0.2605, -2.4600],\n",
       "                      [-0.5445, -0.8252,  0.2699,  0.8334],\n",
       "                      [ 0.4808, -2.5085,  1.4038,  1.4455]]),\n",
       "       ),\n",
       ")"
      ]
     },
     "execution_count": 9,
     "metadata": {},
     "output_type": "execute_result"
    }
   ],
   "source": [
    "b"
   ]
  },
  {
   "cell_type": "code",
   "execution_count": 10,
   "id": "43ef8ea3",
   "metadata": {
    "execution": {
     "iopub.execute_input": "2023-02-27T13:06:33.834349Z",
     "iopub.status.busy": "2023-02-27T13:06:33.833833Z",
     "iopub.status.idle": "2023-02-27T13:06:33.839699Z",
     "shell.execute_reply": "2023-02-27T13:06:33.839047Z"
    }
   },
   "outputs": [
    {
     "data": {
      "text/plain": [
       "tensor([[-0.9334, -1.4358,  0.5026],\n",
       "        [-1.0184, -0.4287,  0.4309]])"
      ]
     },
     "execution_count": 10,
     "metadata": {},
     "output_type": "execute_result"
    }
   ],
   "source": [
    "b.a"
   ]
  },
  {
   "cell_type": "code",
   "execution_count": 11,
   "id": "b785ab72",
   "metadata": {
    "execution": {
     "iopub.execute_input": "2023-02-27T13:06:33.842206Z",
     "iopub.status.busy": "2023-02-27T13:06:33.841876Z",
     "iopub.status.idle": "2023-02-27T13:06:38.141166Z",
     "shell.execute_reply": "2023-02-27T13:06:38.140430Z"
    }
   },
   "outputs": [
    {
     "name": "stdout",
     "output_type": "stream",
     "text": [
      "52.2 ns ± 0.0629 ns per loop (mean ± std. dev. of 7 runs, 10,000,000 loops each)\n"
     ]
    }
   ],
   "source": [
    "%timeit b.a"
   ]
  },
  {
   "cell_type": "code",
   "execution_count": 12,
   "id": "ad54dc69",
   "metadata": {
    "execution": {
     "iopub.execute_input": "2023-02-27T13:06:38.144367Z",
     "iopub.status.busy": "2023-02-27T13:06:38.143745Z",
     "iopub.status.idle": "2023-02-27T13:06:38.150211Z",
     "shell.execute_reply": "2023-02-27T13:06:38.149614Z"
    }
   },
   "outputs": [
    {
     "data": {
      "text/plain": [
       "Batch(\n",
       "    a: tensor([[-0.4970, -0.2708, -0.0121],\n",
       "               [-0.3902,  1.3352,  0.9508]]),\n",
       "    x: Batch(\n",
       "           c: tensor([[-0.2345,  0.8976, -0.2605, -2.4600],\n",
       "                      [-0.5445, -0.8252,  0.2699,  0.8334],\n",
       "                      [ 0.4808, -2.5085,  1.4038,  1.4455]]),\n",
       "       ),\n",
       ")"
      ]
     },
     "execution_count": 12,
     "metadata": {},
     "output_type": "execute_result"
    }
   ],
   "source": [
    "new_value = torch.randn(2, 3)\n",
    "b.a = new_value\n",
    "\n",
    "b"
   ]
  },
  {
   "cell_type": "code",
   "execution_count": 13,
   "id": "29b1d0bf",
   "metadata": {
    "execution": {
     "iopub.execute_input": "2023-02-27T13:06:38.152571Z",
     "iopub.status.busy": "2023-02-27T13:06:38.152243Z",
     "iopub.status.idle": "2023-02-27T13:06:42.057991Z",
     "shell.execute_reply": "2023-02-27T13:06:42.057248Z"
    }
   },
   "outputs": [
    {
     "name": "stdout",
     "output_type": "stream",
     "text": [
      "480 ns ± 0.14 ns per loop (mean ± std. dev. of 7 runs, 1,000,000 loops each)\n"
     ]
    }
   ],
   "source": [
    "%timeit b.a = new_value"
   ]
  },
  {
   "cell_type": "markdown",
   "id": "b61ad1d0",
   "metadata": {},
   "source": [
    "## Initialization"
   ]
  },
  {
   "cell_type": "markdown",
   "id": "d70f0d54",
   "metadata": {},
   "source": [
    "### TreeValue's Initialization"
   ]
  },
  {
   "cell_type": "code",
   "execution_count": 14,
   "id": "d32a679b",
   "metadata": {
    "execution": {
     "iopub.execute_input": "2023-02-27T13:06:42.064160Z",
     "iopub.status.busy": "2023-02-27T13:06:42.060716Z",
     "iopub.status.idle": "2023-02-27T13:06:48.788182Z",
     "shell.execute_reply": "2023-02-27T13:06:48.787501Z"
    }
   },
   "outputs": [
    {
     "name": "stdout",
     "output_type": "stream",
     "text": [
      "828 ns ± 0.0687 ns per loop (mean ± std. dev. of 7 runs, 1,000,000 loops each)\n"
     ]
    }
   ],
   "source": [
    "%timeit FastTreeValue(_TREE_DATA_1)"
   ]
  },
  {
   "cell_type": "markdown",
   "id": "24f3707b",
   "metadata": {},
   "source": [
    "### Tianshou Batch's Initialization"
   ]
  },
  {
   "cell_type": "code",
   "execution_count": 15,
   "id": "ac3958df",
   "metadata": {
    "execution": {
     "iopub.execute_input": "2023-02-27T13:06:48.791196Z",
     "iopub.status.busy": "2023-02-27T13:06:48.790689Z",
     "iopub.status.idle": "2023-02-27T13:06:57.946510Z",
     "shell.execute_reply": "2023-02-27T13:06:57.945726Z"
    }
   },
   "outputs": [
    {
     "name": "stdout",
     "output_type": "stream",
     "text": [
      "11.3 µs ± 117 ns per loop (mean ± std. dev. of 7 runs, 100,000 loops each)\n"
     ]
    }
   ],
   "source": [
    "%timeit Batch(**_TREE_DATA_1)"
   ]
  },
  {
   "cell_type": "markdown",
   "id": "1ab82e2d",
   "metadata": {},
   "source": [
    "## Deep Copy Operation"
   ]
  },
  {
   "cell_type": "code",
   "execution_count": 16,
   "id": "210a9442",
   "metadata": {
    "execution": {
     "iopub.execute_input": "2023-02-27T13:06:57.949599Z",
     "iopub.status.busy": "2023-02-27T13:06:57.949229Z",
     "iopub.status.idle": "2023-02-27T13:06:57.953265Z",
     "shell.execute_reply": "2023-02-27T13:06:57.952651Z"
    }
   },
   "outputs": [],
   "source": [
    "import copy"
   ]
  },
  {
   "cell_type": "markdown",
   "id": "5a736274",
   "metadata": {},
   "source": [
    "### Deep Copy of TreeValue"
   ]
  },
  {
   "cell_type": "code",
   "execution_count": 17,
   "id": "f9bcadd6",
   "metadata": {
    "execution": {
     "iopub.execute_input": "2023-02-27T13:06:57.956292Z",
     "iopub.status.busy": "2023-02-27T13:06:57.955814Z",
     "iopub.status.idle": "2023-02-27T13:07:09.136198Z",
     "shell.execute_reply": "2023-02-27T13:07:09.135635Z"
    }
   },
   "outputs": [
    {
     "name": "stdout",
     "output_type": "stream",
     "text": [
      "138 µs ± 361 ns per loop (mean ± std. dev. of 7 runs, 10,000 loops each)\n"
     ]
    }
   ],
   "source": [
    "t3 = FastTreeValue(_TREE_DATA_3)\n",
    "%timeit copy.deepcopy(t3)"
   ]
  },
  {
   "cell_type": "markdown",
   "id": "bf8be7ea",
   "metadata": {},
   "source": [
    "### Deep Copy of Tianshou Batch"
   ]
  },
  {
   "cell_type": "code",
   "execution_count": 18,
   "id": "91998e6f",
   "metadata": {
    "execution": {
     "iopub.execute_input": "2023-02-27T13:07:09.139173Z",
     "iopub.status.busy": "2023-02-27T13:07:09.138561Z",
     "iopub.status.idle": "2023-02-27T13:07:20.483796Z",
     "shell.execute_reply": "2023-02-27T13:07:20.483232Z"
    }
   },
   "outputs": [
    {
     "name": "stdout",
     "output_type": "stream",
     "text": [
      "139 µs ± 340 ns per loop (mean ± std. dev. of 7 runs, 10,000 loops each)\n"
     ]
    }
   ],
   "source": [
    "b3 = Batch(**_TREE_DATA_3)\n",
    "%timeit copy.deepcopy(b3)"
   ]
  },
  {
   "cell_type": "markdown",
   "id": "223162fb",
   "metadata": {},
   "source": [
    "## Stack, Concat and Split Operation"
   ]
  },
  {
   "cell_type": "markdown",
   "id": "85fa4a73",
   "metadata": {},
   "source": [
    "### Performance of TreeValue"
   ]
  },
  {
   "cell_type": "code",
   "execution_count": 19,
   "id": "a0c2b697",
   "metadata": {
    "execution": {
     "iopub.execute_input": "2023-02-27T13:07:20.486783Z",
     "iopub.status.busy": "2023-02-27T13:07:20.486150Z",
     "iopub.status.idle": "2023-02-27T13:07:20.489505Z",
     "shell.execute_reply": "2023-02-27T13:07:20.488975Z"
    }
   },
   "outputs": [],
   "source": [
    "trees = [FastTreeValue(_TREE_DATA_2) for _ in range(8)]"
   ]
  },
  {
   "cell_type": "code",
   "execution_count": 20,
   "id": "017ea5a5",
   "metadata": {
    "execution": {
     "iopub.execute_input": "2023-02-27T13:07:20.492556Z",
     "iopub.status.busy": "2023-02-27T13:07:20.491976Z",
     "iopub.status.idle": "2023-02-27T13:07:20.498815Z",
     "shell.execute_reply": "2023-02-27T13:07:20.498299Z"
    }
   },
   "outputs": [
    {
     "data": {
      "text/plain": [
       "<FastTreeValue 0x7f7756e84f10>\n",
       "├── 'a' --> tensor([[[-0.9334, -1.4358,  0.5026],\n",
       "│                    [-1.0184, -0.4287,  0.4309]],\n",
       "│           \n",
       "│                   [[-0.9334, -1.4358,  0.5026],\n",
       "│                    [-1.0184, -0.4287,  0.4309]],\n",
       "│           \n",
       "│                   [[-0.9334, -1.4358,  0.5026],\n",
       "│                    [-1.0184, -0.4287,  0.4309]],\n",
       "│           \n",
       "│                   [[-0.9334, -1.4358,  0.5026],\n",
       "│                    [-1.0184, -0.4287,  0.4309]],\n",
       "│           \n",
       "│                   [[-0.9334, -1.4358,  0.5026],\n",
       "│                    [-1.0184, -0.4287,  0.4309]],\n",
       "│           \n",
       "│                   [[-0.9334, -1.4358,  0.5026],\n",
       "│                    [-1.0184, -0.4287,  0.4309]],\n",
       "│           \n",
       "│                   [[-0.9334, -1.4358,  0.5026],\n",
       "│                    [-1.0184, -0.4287,  0.4309]],\n",
       "│           \n",
       "│                   [[-0.9334, -1.4358,  0.5026],\n",
       "│                    [-1.0184, -0.4287,  0.4309]]])\n",
       "└── 'x' --> <FastTreeValue 0x7f7756e84a60>\n",
       "    └── 'c' --> tensor([[[-0.2345,  0.8976, -0.2605, -2.4600],\n",
       "                         [-0.5445, -0.8252,  0.2699,  0.8334],\n",
       "                         [ 0.4808, -2.5085,  1.4038,  1.4455]],\n",
       "                \n",
       "                        [[-0.2345,  0.8976, -0.2605, -2.4600],\n",
       "                         [-0.5445, -0.8252,  0.2699,  0.8334],\n",
       "                         [ 0.4808, -2.5085,  1.4038,  1.4455]],\n",
       "                \n",
       "                        [[-0.2345,  0.8976, -0.2605, -2.4600],\n",
       "                         [-0.5445, -0.8252,  0.2699,  0.8334],\n",
       "                         [ 0.4808, -2.5085,  1.4038,  1.4455]],\n",
       "                \n",
       "                        [[-0.2345,  0.8976, -0.2605, -2.4600],\n",
       "                         [-0.5445, -0.8252,  0.2699,  0.8334],\n",
       "                         [ 0.4808, -2.5085,  1.4038,  1.4455]],\n",
       "                \n",
       "                        [[-0.2345,  0.8976, -0.2605, -2.4600],\n",
       "                         [-0.5445, -0.8252,  0.2699,  0.8334],\n",
       "                         [ 0.4808, -2.5085,  1.4038,  1.4455]],\n",
       "                \n",
       "                        [[-0.2345,  0.8976, -0.2605, -2.4600],\n",
       "                         [-0.5445, -0.8252,  0.2699,  0.8334],\n",
       "                         [ 0.4808, -2.5085,  1.4038,  1.4455]],\n",
       "                \n",
       "                        [[-0.2345,  0.8976, -0.2605, -2.4600],\n",
       "                         [-0.5445, -0.8252,  0.2699,  0.8334],\n",
       "                         [ 0.4808, -2.5085,  1.4038,  1.4455]],\n",
       "                \n",
       "                        [[-0.2345,  0.8976, -0.2605, -2.4600],\n",
       "                         [-0.5445, -0.8252,  0.2699,  0.8334],\n",
       "                         [ 0.4808, -2.5085,  1.4038,  1.4455]]])"
      ]
     },
     "execution_count": 20,
     "metadata": {},
     "output_type": "execute_result"
    }
   ],
   "source": [
    "t_stack = FastTreeValue.func(subside=True)(torch.stack)\n",
    "\n",
    "t_stack(trees)"
   ]
  },
  {
   "cell_type": "code",
   "execution_count": 21,
   "id": "f8b3f415",
   "metadata": {
    "execution": {
     "iopub.execute_input": "2023-02-27T13:07:20.501285Z",
     "iopub.status.busy": "2023-02-27T13:07:20.500730Z",
     "iopub.status.idle": "2023-02-27T13:07:23.092119Z",
     "shell.execute_reply": "2023-02-27T13:07:23.091397Z"
    }
   },
   "outputs": [
    {
     "name": "stdout",
     "output_type": "stream",
     "text": [
      "31.9 µs ± 192 ns per loop (mean ± std. dev. of 7 runs, 10,000 loops each)\n"
     ]
    }
   ],
   "source": [
    "%timeit t_stack(trees)"
   ]
  },
  {
   "cell_type": "code",
   "execution_count": 22,
   "id": "94b56771",
   "metadata": {
    "execution": {
     "iopub.execute_input": "2023-02-27T13:07:23.095098Z",
     "iopub.status.busy": "2023-02-27T13:07:23.094746Z",
     "iopub.status.idle": "2023-02-27T13:07:23.102662Z",
     "shell.execute_reply": "2023-02-27T13:07:23.102046Z"
    }
   },
   "outputs": [
    {
     "data": {
      "text/plain": [
       "<FastTreeValue 0x7f780cbd3070>\n",
       "├── 'a' --> tensor([[-0.9334, -1.4358,  0.5026],\n",
       "│                   [-1.0184, -0.4287,  0.4309],\n",
       "│                   [-0.9334, -1.4358,  0.5026],\n",
       "│                   [-1.0184, -0.4287,  0.4309],\n",
       "│                   [-0.9334, -1.4358,  0.5026],\n",
       "│                   [-1.0184, -0.4287,  0.4309],\n",
       "│                   [-0.9334, -1.4358,  0.5026],\n",
       "│                   [-1.0184, -0.4287,  0.4309],\n",
       "│                   [-0.9334, -1.4358,  0.5026],\n",
       "│                   [-1.0184, -0.4287,  0.4309],\n",
       "│                   [-0.9334, -1.4358,  0.5026],\n",
       "│                   [-1.0184, -0.4287,  0.4309],\n",
       "│                   [-0.9334, -1.4358,  0.5026],\n",
       "│                   [-1.0184, -0.4287,  0.4309],\n",
       "│                   [-0.9334, -1.4358,  0.5026],\n",
       "│                   [-1.0184, -0.4287,  0.4309]])\n",
       "└── 'x' --> <FastTreeValue 0x7f780cbd3250>\n",
       "    └── 'c' --> tensor([[-0.2345,  0.8976, -0.2605, -2.4600],\n",
       "                        [-0.5445, -0.8252,  0.2699,  0.8334],\n",
       "                        [ 0.4808, -2.5085,  1.4038,  1.4455],\n",
       "                        [-0.2345,  0.8976, -0.2605, -2.4600],\n",
       "                        [-0.5445, -0.8252,  0.2699,  0.8334],\n",
       "                        [ 0.4808, -2.5085,  1.4038,  1.4455],\n",
       "                        [-0.2345,  0.8976, -0.2605, -2.4600],\n",
       "                        [-0.5445, -0.8252,  0.2699,  0.8334],\n",
       "                        [ 0.4808, -2.5085,  1.4038,  1.4455],\n",
       "                        [-0.2345,  0.8976, -0.2605, -2.4600],\n",
       "                        [-0.5445, -0.8252,  0.2699,  0.8334],\n",
       "                        [ 0.4808, -2.5085,  1.4038,  1.4455],\n",
       "                        [-0.2345,  0.8976, -0.2605, -2.4600],\n",
       "                        [-0.5445, -0.8252,  0.2699,  0.8334],\n",
       "                        [ 0.4808, -2.5085,  1.4038,  1.4455],\n",
       "                        [-0.2345,  0.8976, -0.2605, -2.4600],\n",
       "                        [-0.5445, -0.8252,  0.2699,  0.8334],\n",
       "                        [ 0.4808, -2.5085,  1.4038,  1.4455],\n",
       "                        [-0.2345,  0.8976, -0.2605, -2.4600],\n",
       "                        [-0.5445, -0.8252,  0.2699,  0.8334],\n",
       "                        [ 0.4808, -2.5085,  1.4038,  1.4455],\n",
       "                        [-0.2345,  0.8976, -0.2605, -2.4600],\n",
       "                        [-0.5445, -0.8252,  0.2699,  0.8334],\n",
       "                        [ 0.4808, -2.5085,  1.4038,  1.4455]])"
      ]
     },
     "execution_count": 22,
     "metadata": {},
     "output_type": "execute_result"
    }
   ],
   "source": [
    "t_cat = FastTreeValue.func(subside=True)(torch.cat)\n",
    "\n",
    "t_cat(trees)"
   ]
  },
  {
   "cell_type": "code",
   "execution_count": 23,
   "id": "5e9c06a6",
   "metadata": {
    "execution": {
     "iopub.execute_input": "2023-02-27T13:07:23.105054Z",
     "iopub.status.busy": "2023-02-27T13:07:23.104706Z",
     "iopub.status.idle": "2023-02-27T13:07:25.554619Z",
     "shell.execute_reply": "2023-02-27T13:07:25.553926Z"
    }
   },
   "outputs": [
    {
     "name": "stdout",
     "output_type": "stream",
     "text": [
      "30.1 µs ± 158 ns per loop (mean ± std. dev. of 7 runs, 10,000 loops each)\n"
     ]
    }
   ],
   "source": [
    "%timeit t_cat(trees)"
   ]
  },
  {
   "cell_type": "code",
   "execution_count": 24,
   "id": "a3ab5c8f",
   "metadata": {
    "execution": {
     "iopub.execute_input": "2023-02-27T13:07:25.557554Z",
     "iopub.status.busy": "2023-02-27T13:07:25.557203Z",
     "iopub.status.idle": "2023-02-27T13:07:31.148733Z",
     "shell.execute_reply": "2023-02-27T13:07:31.148084Z"
    }
   },
   "outputs": [
    {
     "name": "stdout",
     "output_type": "stream",
     "text": [
      "69 µs ± 99.1 ns per loop (mean ± std. dev. of 7 runs, 10,000 loops each)\n"
     ]
    }
   ],
   "source": [
    "t_split = FastTreeValue.func(rise=True)(torch.split)\n",
    "tree = FastTreeValue({\n",
    "    'obs': torch.randn(8, 4, 84, 84),\n",
    "    'action': torch.randint(0, 6, size=(8, 1,)),\n",
    "    'reward': torch.rand(8, 1),\n",
    "})\n",
    "\n",
    "%timeit t_split(tree, 1)"
   ]
  },
  {
   "cell_type": "markdown",
   "id": "31c3ec0b",
   "metadata": {},
   "source": [
    "### Performance of Tianshou Batch"
   ]
  },
  {
   "cell_type": "code",
   "execution_count": 25,
   "id": "9ead828a",
   "metadata": {
    "execution": {
     "iopub.execute_input": "2023-02-27T13:07:31.151703Z",
     "iopub.status.busy": "2023-02-27T13:07:31.151140Z",
     "iopub.status.idle": "2023-02-27T13:07:31.159108Z",
     "shell.execute_reply": "2023-02-27T13:07:31.158508Z"
    }
   },
   "outputs": [
    {
     "data": {
      "text/plain": [
       "Batch(\n",
       "    a: tensor([[[-0.9334, -1.4358,  0.5026],\n",
       "                [-1.0184, -0.4287,  0.4309]],\n",
       "       \n",
       "               [[-0.9334, -1.4358,  0.5026],\n",
       "                [-1.0184, -0.4287,  0.4309]],\n",
       "       \n",
       "               [[-0.9334, -1.4358,  0.5026],\n",
       "                [-1.0184, -0.4287,  0.4309]],\n",
       "       \n",
       "               [[-0.9334, -1.4358,  0.5026],\n",
       "                [-1.0184, -0.4287,  0.4309]],\n",
       "       \n",
       "               [[-0.9334, -1.4358,  0.5026],\n",
       "                [-1.0184, -0.4287,  0.4309]],\n",
       "       \n",
       "               [[-0.9334, -1.4358,  0.5026],\n",
       "                [-1.0184, -0.4287,  0.4309]],\n",
       "       \n",
       "               [[-0.9334, -1.4358,  0.5026],\n",
       "                [-1.0184, -0.4287,  0.4309]],\n",
       "       \n",
       "               [[-0.9334, -1.4358,  0.5026],\n",
       "                [-1.0184, -0.4287,  0.4309]]]),\n",
       "    x: Batch(\n",
       "           c: tensor([[[-0.2345,  0.8976, -0.2605, -2.4600],\n",
       "                       [-0.5445, -0.8252,  0.2699,  0.8334],\n",
       "                       [ 0.4808, -2.5085,  1.4038,  1.4455]],\n",
       "              \n",
       "                      [[-0.2345,  0.8976, -0.2605, -2.4600],\n",
       "                       [-0.5445, -0.8252,  0.2699,  0.8334],\n",
       "                       [ 0.4808, -2.5085,  1.4038,  1.4455]],\n",
       "              \n",
       "                      [[-0.2345,  0.8976, -0.2605, -2.4600],\n",
       "                       [-0.5445, -0.8252,  0.2699,  0.8334],\n",
       "                       [ 0.4808, -2.5085,  1.4038,  1.4455]],\n",
       "              \n",
       "                      [[-0.2345,  0.8976, -0.2605, -2.4600],\n",
       "                       [-0.5445, -0.8252,  0.2699,  0.8334],\n",
       "                       [ 0.4808, -2.5085,  1.4038,  1.4455]],\n",
       "              \n",
       "                      [[-0.2345,  0.8976, -0.2605, -2.4600],\n",
       "                       [-0.5445, -0.8252,  0.2699,  0.8334],\n",
       "                       [ 0.4808, -2.5085,  1.4038,  1.4455]],\n",
       "              \n",
       "                      [[-0.2345,  0.8976, -0.2605, -2.4600],\n",
       "                       [-0.5445, -0.8252,  0.2699,  0.8334],\n",
       "                       [ 0.4808, -2.5085,  1.4038,  1.4455]],\n",
       "              \n",
       "                      [[-0.2345,  0.8976, -0.2605, -2.4600],\n",
       "                       [-0.5445, -0.8252,  0.2699,  0.8334],\n",
       "                       [ 0.4808, -2.5085,  1.4038,  1.4455]],\n",
       "              \n",
       "                      [[-0.2345,  0.8976, -0.2605, -2.4600],\n",
       "                       [-0.5445, -0.8252,  0.2699,  0.8334],\n",
       "                       [ 0.4808, -2.5085,  1.4038,  1.4455]]]),\n",
       "       ),\n",
       ")"
      ]
     },
     "execution_count": 25,
     "metadata": {},
     "output_type": "execute_result"
    }
   ],
   "source": [
    "batches = [Batch(**_TREE_DATA_2) for _ in range(8)]\n",
    "\n",
    "Batch.stack(batches)"
   ]
  },
  {
   "cell_type": "code",
   "execution_count": 26,
   "id": "ec9037a3",
   "metadata": {
    "execution": {
     "iopub.execute_input": "2023-02-27T13:07:31.161730Z",
     "iopub.status.busy": "2023-02-27T13:07:31.161398Z",
     "iopub.status.idle": "2023-02-27T13:07:37.489728Z",
     "shell.execute_reply": "2023-02-27T13:07:37.488978Z"
    }
   },
   "outputs": [
    {
     "name": "stdout",
     "output_type": "stream",
     "text": [
      "77.8 µs ± 233 ns per loop (mean ± std. dev. of 7 runs, 10,000 loops each)\n"
     ]
    }
   ],
   "source": [
    "%timeit Batch.stack(batches)"
   ]
  },
  {
   "cell_type": "code",
   "execution_count": 27,
   "id": "cb8ab77e",
   "metadata": {
    "execution": {
     "iopub.execute_input": "2023-02-27T13:07:37.492872Z",
     "iopub.status.busy": "2023-02-27T13:07:37.492383Z",
     "iopub.status.idle": "2023-02-27T13:07:37.499705Z",
     "shell.execute_reply": "2023-02-27T13:07:37.499086Z"
    }
   },
   "outputs": [
    {
     "data": {
      "text/plain": [
       "Batch(\n",
       "    a: tensor([[-0.9334, -1.4358,  0.5026],\n",
       "               [-1.0184, -0.4287,  0.4309],\n",
       "               [-0.9334, -1.4358,  0.5026],\n",
       "               [-1.0184, -0.4287,  0.4309],\n",
       "               [-0.9334, -1.4358,  0.5026],\n",
       "               [-1.0184, -0.4287,  0.4309],\n",
       "               [-0.9334, -1.4358,  0.5026],\n",
       "               [-1.0184, -0.4287,  0.4309],\n",
       "               [-0.9334, -1.4358,  0.5026],\n",
       "               [-1.0184, -0.4287,  0.4309],\n",
       "               [-0.9334, -1.4358,  0.5026],\n",
       "               [-1.0184, -0.4287,  0.4309],\n",
       "               [-0.9334, -1.4358,  0.5026],\n",
       "               [-1.0184, -0.4287,  0.4309],\n",
       "               [-0.9334, -1.4358,  0.5026],\n",
       "               [-1.0184, -0.4287,  0.4309]]),\n",
       "    x: Batch(\n",
       "           c: tensor([[-0.2345,  0.8976, -0.2605, -2.4600],\n",
       "                      [-0.5445, -0.8252,  0.2699,  0.8334],\n",
       "                      [ 0.4808, -2.5085,  1.4038,  1.4455],\n",
       "                      [-0.2345,  0.8976, -0.2605, -2.4600],\n",
       "                      [-0.5445, -0.8252,  0.2699,  0.8334],\n",
       "                      [ 0.4808, -2.5085,  1.4038,  1.4455],\n",
       "                      [-0.2345,  0.8976, -0.2605, -2.4600],\n",
       "                      [-0.5445, -0.8252,  0.2699,  0.8334],\n",
       "                      [ 0.4808, -2.5085,  1.4038,  1.4455],\n",
       "                      [-0.2345,  0.8976, -0.2605, -2.4600],\n",
       "                      [-0.5445, -0.8252,  0.2699,  0.8334],\n",
       "                      [ 0.4808, -2.5085,  1.4038,  1.4455],\n",
       "                      [-0.2345,  0.8976, -0.2605, -2.4600],\n",
       "                      [-0.5445, -0.8252,  0.2699,  0.8334],\n",
       "                      [ 0.4808, -2.5085,  1.4038,  1.4455],\n",
       "                      [-0.2345,  0.8976, -0.2605, -2.4600],\n",
       "                      [-0.5445, -0.8252,  0.2699,  0.8334],\n",
       "                      [ 0.4808, -2.5085,  1.4038,  1.4455],\n",
       "                      [-0.2345,  0.8976, -0.2605, -2.4600],\n",
       "                      [-0.5445, -0.8252,  0.2699,  0.8334],\n",
       "                      [ 0.4808, -2.5085,  1.4038,  1.4455],\n",
       "                      [-0.2345,  0.8976, -0.2605, -2.4600],\n",
       "                      [-0.5445, -0.8252,  0.2699,  0.8334],\n",
       "                      [ 0.4808, -2.5085,  1.4038,  1.4455]]),\n",
       "       ),\n",
       ")"
      ]
     },
     "execution_count": 27,
     "metadata": {},
     "output_type": "execute_result"
    }
   ],
   "source": [
    "Batch.cat(batches)"
   ]
  },
  {
   "cell_type": "code",
   "execution_count": 28,
   "id": "18dfb045",
   "metadata": {
    "execution": {
     "iopub.execute_input": "2023-02-27T13:07:37.502266Z",
     "iopub.status.busy": "2023-02-27T13:07:37.501945Z",
     "iopub.status.idle": "2023-02-27T13:07:49.188688Z",
     "shell.execute_reply": "2023-02-27T13:07:49.188007Z"
    }
   },
   "outputs": [
    {
     "name": "stdout",
     "output_type": "stream",
     "text": [
      "144 µs ± 356 ns per loop (mean ± std. dev. of 7 runs, 10,000 loops each)\n"
     ]
    }
   ],
   "source": [
    "%timeit Batch.cat(batches)"
   ]
  },
  {
   "cell_type": "code",
   "execution_count": 29,
   "id": "c6688e51",
   "metadata": {
    "execution": {
     "iopub.execute_input": "2023-02-27T13:07:49.191453Z",
     "iopub.status.busy": "2023-02-27T13:07:49.191024Z",
     "iopub.status.idle": "2023-02-27T13:07:51.734093Z",
     "shell.execute_reply": "2023-02-27T13:07:51.733542Z"
    }
   },
   "outputs": [
    {
     "name": "stdout",
     "output_type": "stream",
     "text": [
      "313 µs ± 1.99 µs per loop (mean ± std. dev. of 7 runs, 1,000 loops each)\n"
     ]
    }
   ],
   "source": [
    "batch = Batch({\n",
    "    'obs': torch.randn(8, 4, 84, 84),\n",
    "    'action': torch.randint(0, 6, size=(8, 1,)),\n",
    "    'reward': torch.rand(8, 1)}\n",
    ")\n",
    "\n",
    "%timeit list(Batch.split(batch, 1, shuffle=False, merge_last=True))"
   ]
  },
  {
   "cell_type": "code",
   "execution_count": null,
   "id": "2539fbd9",
   "metadata": {},
   "outputs": [],
   "source": []
  }
 ],
 "metadata": {
  "kernelspec": {
   "display_name": "Python 3 (ipykernel)",
   "language": "python",
   "name": "python3"
  },
  "language_info": {
   "codemirror_mode": {
    "name": "ipython",
    "version": 3
   },
   "file_extension": ".py",
   "mimetype": "text/x-python",
   "name": "python",
   "nbconvert_exporter": "python",
   "pygments_lexer": "ipython3",
   "version": "3.8.16"
  }
 },
 "nbformat": 4,
 "nbformat_minor": 5
}
