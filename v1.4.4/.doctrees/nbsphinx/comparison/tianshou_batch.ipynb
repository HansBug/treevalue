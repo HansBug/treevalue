{
 "cells": [
  {
   "cell_type": "markdown",
   "id": "9d39d946",
   "metadata": {},
   "source": [
    "# Comparison Between TreeValue and Tianshou Batch"
   ]
  },
  {
   "cell_type": "markdown",
   "id": "3c6db2d4",
   "metadata": {},
   "source": [
    "In this section, we will take a look at the feature and performance of the [Tianshou Batch](https://github.com/thu-ml/tianshou) library, which is developed by Tsinghua Machine Learning Group."
   ]
  },
  {
   "cell_type": "markdown",
   "id": "069361b0",
   "metadata": {},
   "source": [
    "Before starting the comparison, let us define some thing."
   ]
  },
  {
   "cell_type": "code",
   "execution_count": 1,
   "id": "06fc8d26",
   "metadata": {
    "execution": {
     "iopub.execute_input": "2023-02-26T16:33:43.975969Z",
     "iopub.status.busy": "2023-02-26T16:33:43.975758Z",
     "iopub.status.idle": "2023-02-26T16:33:44.883276Z",
     "shell.execute_reply": "2023-02-26T16:33:44.882635Z"
    }
   },
   "outputs": [
    {
     "name": "stderr",
     "output_type": "stream",
     "text": [
      "/opt/hostedtoolcache/Python/3.8.16/x64/lib/python3.8/site-packages/tqdm/auto.py:22: TqdmWarning: IProgress not found. Please update jupyter and ipywidgets. See https://ipywidgets.readthedocs.io/en/stable/user_install.html\n",
      "  from .autonotebook import tqdm as notebook_tqdm\n"
     ]
    }
   ],
   "source": [
    "import torch \n",
    "\n",
    "_TREE_DATA_1 = {'a': 1, 'b': 2, 'x': {'c': 3, 'd': 4}}\n",
    "_TREE_DATA_2 = {\n",
    "    'a': torch.randn(2, 3), \n",
    "    'x': {\n",
    "        'c': torch.randn(3, 4)\n",
    "    },\n",
    "}\n",
    "_TREE_DATA_3 = {\n",
    "    'obs': torch.randn(4, 84, 84),\n",
    "    'action': torch.randint(0, 6, size=(1,)),\n",
    "    'reward': torch.rand(1),\n",
    "}"
   ]
  },
  {
   "cell_type": "markdown",
   "id": "83461b25",
   "metadata": {},
   "source": [
    "## Read and Write Operation"
   ]
  },
  {
   "cell_type": "markdown",
   "id": "067b3f73",
   "metadata": {},
   "source": [
    "Reading and writing are the two most common operations in the tree data structure based on the data model (TreeValue and Tianshou Batch both belong to this type), so this section will compare the reading and writing performance of these two libraries."
   ]
  },
  {
   "cell_type": "markdown",
   "id": "5d09a5b7",
   "metadata": {},
   "source": [
    "### TreeValue's Get and Set"
   ]
  },
  {
   "cell_type": "code",
   "execution_count": 2,
   "id": "9519c4bb",
   "metadata": {
    "execution": {
     "iopub.execute_input": "2023-02-26T16:33:44.886540Z",
     "iopub.status.busy": "2023-02-26T16:33:44.886149Z",
     "iopub.status.idle": "2023-02-26T16:33:45.162282Z",
     "shell.execute_reply": "2023-02-26T16:33:45.161592Z"
    }
   },
   "outputs": [],
   "source": [
    "from treevalue import FastTreeValue\n",
    "\n",
    "t = FastTreeValue(_TREE_DATA_2)"
   ]
  },
  {
   "cell_type": "code",
   "execution_count": 3,
   "id": "11c37677",
   "metadata": {
    "execution": {
     "iopub.execute_input": "2023-02-26T16:33:45.166256Z",
     "iopub.status.busy": "2023-02-26T16:33:45.165087Z",
     "iopub.status.idle": "2023-02-26T16:33:45.175321Z",
     "shell.execute_reply": "2023-02-26T16:33:45.174749Z"
    }
   },
   "outputs": [
    {
     "data": {
      "text/plain": [
       "<FastTreeValue 0x7f1640919850>\n",
       "├── 'a' --> tensor([[ 1.2352,  0.1124,  0.4499],\n",
       "│                   [ 0.7382,  1.2576, -0.7292]])\n",
       "└── 'x' --> <FastTreeValue 0x7f1640919c40>\n",
       "    └── 'c' --> tensor([[ 1.4042,  0.1280,  0.2811,  0.0819],\n",
       "                        [-0.1038,  0.2039,  0.5301, -0.3892],\n",
       "                        [ 0.9809,  0.6936, -0.5879,  0.5020]])"
      ]
     },
     "execution_count": 3,
     "metadata": {},
     "output_type": "execute_result"
    }
   ],
   "source": [
    "t"
   ]
  },
  {
   "cell_type": "code",
   "execution_count": 4,
   "id": "fd70b0b9",
   "metadata": {
    "execution": {
     "iopub.execute_input": "2023-02-26T16:33:45.178096Z",
     "iopub.status.busy": "2023-02-26T16:33:45.177646Z",
     "iopub.status.idle": "2023-02-26T16:33:45.183260Z",
     "shell.execute_reply": "2023-02-26T16:33:45.182702Z"
    }
   },
   "outputs": [
    {
     "data": {
      "text/plain": [
       "tensor([[ 1.2352,  0.1124,  0.4499],\n",
       "        [ 0.7382,  1.2576, -0.7292]])"
      ]
     },
     "execution_count": 4,
     "metadata": {},
     "output_type": "execute_result"
    }
   ],
   "source": [
    "t.a"
   ]
  },
  {
   "cell_type": "code",
   "execution_count": 5,
   "id": "c18197bd",
   "metadata": {
    "execution": {
     "iopub.execute_input": "2023-02-26T16:33:45.185760Z",
     "iopub.status.busy": "2023-02-26T16:33:45.185518Z",
     "iopub.status.idle": "2023-02-26T16:33:50.159848Z",
     "shell.execute_reply": "2023-02-26T16:33:50.159187Z"
    }
   },
   "outputs": [
    {
     "name": "stdout",
     "output_type": "stream",
     "text": [
      "61.3 ns ± 0.0533 ns per loop (mean ± std. dev. of 7 runs, 10,000,000 loops each)\n"
     ]
    }
   ],
   "source": [
    "%timeit t.a"
   ]
  },
  {
   "cell_type": "code",
   "execution_count": 6,
   "id": "bd52f867",
   "metadata": {
    "execution": {
     "iopub.execute_input": "2023-02-26T16:33:50.162697Z",
     "iopub.status.busy": "2023-02-26T16:33:50.162165Z",
     "iopub.status.idle": "2023-02-26T16:33:50.168674Z",
     "shell.execute_reply": "2023-02-26T16:33:50.168092Z"
    }
   },
   "outputs": [
    {
     "data": {
      "text/plain": [
       "<FastTreeValue 0x7f1640919850>\n",
       "├── 'a' --> tensor([[ 0.2807,  0.9217, -1.2276],\n",
       "│                   [ 0.1510, -0.5546,  3.2212]])\n",
       "└── 'x' --> <FastTreeValue 0x7f1640919c40>\n",
       "    └── 'c' --> tensor([[ 1.4042,  0.1280,  0.2811,  0.0819],\n",
       "                        [-0.1038,  0.2039,  0.5301, -0.3892],\n",
       "                        [ 0.9809,  0.6936, -0.5879,  0.5020]])"
      ]
     },
     "execution_count": 6,
     "metadata": {},
     "output_type": "execute_result"
    }
   ],
   "source": [
    "new_value = torch.randn(2, 3)\n",
    "t.a = new_value\n",
    "\n",
    "t"
   ]
  },
  {
   "cell_type": "code",
   "execution_count": 7,
   "id": "bbe04d1c",
   "metadata": {
    "execution": {
     "iopub.execute_input": "2023-02-26T16:33:50.171279Z",
     "iopub.status.busy": "2023-02-26T16:33:50.170721Z",
     "iopub.status.idle": "2023-02-26T16:33:54.847776Z",
     "shell.execute_reply": "2023-02-26T16:33:54.847116Z"
    }
   },
   "outputs": [
    {
     "name": "stdout",
     "output_type": "stream",
     "text": [
      "57.6 ns ± 0.0384 ns per loop (mean ± std. dev. of 7 runs, 10,000,000 loops each)\n"
     ]
    }
   ],
   "source": [
    "%timeit t.a = new_value"
   ]
  },
  {
   "cell_type": "markdown",
   "id": "48c49731",
   "metadata": {},
   "source": [
    "### Tianshou Batch's Get and Set"
   ]
  },
  {
   "cell_type": "code",
   "execution_count": 8,
   "id": "f1bb14c1",
   "metadata": {
    "execution": {
     "iopub.execute_input": "2023-02-26T16:33:54.850750Z",
     "iopub.status.busy": "2023-02-26T16:33:54.850220Z",
     "iopub.status.idle": "2023-02-26T16:33:55.174823Z",
     "shell.execute_reply": "2023-02-26T16:33:55.174157Z"
    }
   },
   "outputs": [],
   "source": [
    "from tianshou.data import Batch\n",
    "\n",
    "b = Batch(**_TREE_DATA_2)"
   ]
  },
  {
   "cell_type": "code",
   "execution_count": 9,
   "id": "cb0777c3",
   "metadata": {
    "execution": {
     "iopub.execute_input": "2023-02-26T16:33:55.178056Z",
     "iopub.status.busy": "2023-02-26T16:33:55.177500Z",
     "iopub.status.idle": "2023-02-26T16:33:55.182881Z",
     "shell.execute_reply": "2023-02-26T16:33:55.182271Z"
    }
   },
   "outputs": [
    {
     "data": {
      "text/plain": [
       "Batch(\n",
       "    a: tensor([[ 1.2352,  0.1124,  0.4499],\n",
       "               [ 0.7382,  1.2576, -0.7292]]),\n",
       "    x: Batch(\n",
       "           c: tensor([[ 1.4042,  0.1280,  0.2811,  0.0819],\n",
       "                      [-0.1038,  0.2039,  0.5301, -0.3892],\n",
       "                      [ 0.9809,  0.6936, -0.5879,  0.5020]]),\n",
       "       ),\n",
       ")"
      ]
     },
     "execution_count": 9,
     "metadata": {},
     "output_type": "execute_result"
    }
   ],
   "source": [
    "b"
   ]
  },
  {
   "cell_type": "code",
   "execution_count": 10,
   "id": "43ef8ea3",
   "metadata": {
    "execution": {
     "iopub.execute_input": "2023-02-26T16:33:55.185351Z",
     "iopub.status.busy": "2023-02-26T16:33:55.185023Z",
     "iopub.status.idle": "2023-02-26T16:33:55.189755Z",
     "shell.execute_reply": "2023-02-26T16:33:55.189135Z"
    }
   },
   "outputs": [
    {
     "data": {
      "text/plain": [
       "tensor([[ 1.2352,  0.1124,  0.4499],\n",
       "        [ 0.7382,  1.2576, -0.7292]])"
      ]
     },
     "execution_count": 10,
     "metadata": {},
     "output_type": "execute_result"
    }
   ],
   "source": [
    "b.a"
   ]
  },
  {
   "cell_type": "code",
   "execution_count": 11,
   "id": "b785ab72",
   "metadata": {
    "execution": {
     "iopub.execute_input": "2023-02-26T16:33:55.192151Z",
     "iopub.status.busy": "2023-02-26T16:33:55.191830Z",
     "iopub.status.idle": "2023-02-26T16:33:59.464875Z",
     "shell.execute_reply": "2023-02-26T16:33:59.464166Z"
    }
   },
   "outputs": [
    {
     "name": "stdout",
     "output_type": "stream",
     "text": [
      "52.5 ns ± 0.0352 ns per loop (mean ± std. dev. of 7 runs, 10,000,000 loops each)\n"
     ]
    }
   ],
   "source": [
    "%timeit b.a"
   ]
  },
  {
   "cell_type": "code",
   "execution_count": 12,
   "id": "ad54dc69",
   "metadata": {
    "execution": {
     "iopub.execute_input": "2023-02-26T16:33:59.467960Z",
     "iopub.status.busy": "2023-02-26T16:33:59.467424Z",
     "iopub.status.idle": "2023-02-26T16:33:59.473093Z",
     "shell.execute_reply": "2023-02-26T16:33:59.472468Z"
    }
   },
   "outputs": [
    {
     "data": {
      "text/plain": [
       "Batch(\n",
       "    a: tensor([[ 0.5227, -0.0537, -0.7453],\n",
       "               [-1.6402,  0.2646, -1.8602]]),\n",
       "    x: Batch(\n",
       "           c: tensor([[ 1.4042,  0.1280,  0.2811,  0.0819],\n",
       "                      [-0.1038,  0.2039,  0.5301, -0.3892],\n",
       "                      [ 0.9809,  0.6936, -0.5879,  0.5020]]),\n",
       "       ),\n",
       ")"
      ]
     },
     "execution_count": 12,
     "metadata": {},
     "output_type": "execute_result"
    }
   ],
   "source": [
    "new_value = torch.randn(2, 3)\n",
    "b.a = new_value\n",
    "\n",
    "b"
   ]
  },
  {
   "cell_type": "code",
   "execution_count": 13,
   "id": "29b1d0bf",
   "metadata": {
    "execution": {
     "iopub.execute_input": "2023-02-26T16:33:59.475423Z",
     "iopub.status.busy": "2023-02-26T16:33:59.475201Z",
     "iopub.status.idle": "2023-02-26T16:34:03.397893Z",
     "shell.execute_reply": "2023-02-26T16:34:03.397166Z"
    }
   },
   "outputs": [
    {
     "name": "stdout",
     "output_type": "stream",
     "text": [
      "483 ns ± 0.161 ns per loop (mean ± std. dev. of 7 runs, 1,000,000 loops each)\n"
     ]
    }
   ],
   "source": [
    "%timeit b.a = new_value"
   ]
  },
  {
   "cell_type": "markdown",
   "id": "b61ad1d0",
   "metadata": {},
   "source": [
    "## Initialization"
   ]
  },
  {
   "cell_type": "markdown",
   "id": "d70f0d54",
   "metadata": {},
   "source": [
    "### TreeValue's Initialization"
   ]
  },
  {
   "cell_type": "code",
   "execution_count": 14,
   "id": "d32a679b",
   "metadata": {
    "execution": {
     "iopub.execute_input": "2023-02-26T16:34:03.400922Z",
     "iopub.status.busy": "2023-02-26T16:34:03.400579Z",
     "iopub.status.idle": "2023-02-26T16:34:10.279956Z",
     "shell.execute_reply": "2023-02-26T16:34:10.279213Z"
    }
   },
   "outputs": [
    {
     "name": "stdout",
     "output_type": "stream",
     "text": [
      "849 ns ± 1.67 ns per loop (mean ± std. dev. of 7 runs, 1,000,000 loops each)\n"
     ]
    }
   ],
   "source": [
    "%timeit FastTreeValue(_TREE_DATA_1)"
   ]
  },
  {
   "cell_type": "markdown",
   "id": "24f3707b",
   "metadata": {},
   "source": [
    "### Tianshou Batch's Initialization"
   ]
  },
  {
   "cell_type": "code",
   "execution_count": 15,
   "id": "ac3958df",
   "metadata": {
    "execution": {
     "iopub.execute_input": "2023-02-26T16:34:10.282921Z",
     "iopub.status.busy": "2023-02-26T16:34:10.282684Z",
     "iopub.status.idle": "2023-02-26T16:34:19.710658Z",
     "shell.execute_reply": "2023-02-26T16:34:19.709928Z"
    }
   },
   "outputs": [
    {
     "name": "stdout",
     "output_type": "stream",
     "text": [
      "11.6 µs ± 16.1 ns per loop (mean ± std. dev. of 7 runs, 100,000 loops each)\n"
     ]
    }
   ],
   "source": [
    "%timeit Batch(**_TREE_DATA_1)"
   ]
  },
  {
   "cell_type": "markdown",
   "id": "1ab82e2d",
   "metadata": {},
   "source": [
    "## Deep Copy Operation"
   ]
  },
  {
   "cell_type": "code",
   "execution_count": 16,
   "id": "210a9442",
   "metadata": {
    "execution": {
     "iopub.execute_input": "2023-02-26T16:34:19.713565Z",
     "iopub.status.busy": "2023-02-26T16:34:19.713224Z",
     "iopub.status.idle": "2023-02-26T16:34:19.718015Z",
     "shell.execute_reply": "2023-02-26T16:34:19.717394Z"
    }
   },
   "outputs": [],
   "source": [
    "import copy"
   ]
  },
  {
   "cell_type": "markdown",
   "id": "5a736274",
   "metadata": {},
   "source": [
    "### Deep Copy of TreeValue"
   ]
  },
  {
   "cell_type": "code",
   "execution_count": 17,
   "id": "f9bcadd6",
   "metadata": {
    "execution": {
     "iopub.execute_input": "2023-02-26T16:34:19.720889Z",
     "iopub.status.busy": "2023-02-26T16:34:19.720413Z",
     "iopub.status.idle": "2023-02-26T16:34:30.867739Z",
     "shell.execute_reply": "2023-02-26T16:34:30.867175Z"
    }
   },
   "outputs": [
    {
     "name": "stdout",
     "output_type": "stream",
     "text": [
      "137 µs ± 2.08 µs per loop (mean ± std. dev. of 7 runs, 10,000 loops each)\n"
     ]
    }
   ],
   "source": [
    "t3 = FastTreeValue(_TREE_DATA_3)\n",
    "%timeit copy.deepcopy(t3)"
   ]
  },
  {
   "cell_type": "markdown",
   "id": "bf8be7ea",
   "metadata": {},
   "source": [
    "### Deep Copy of Tianshou Batch"
   ]
  },
  {
   "cell_type": "code",
   "execution_count": 18,
   "id": "91998e6f",
   "metadata": {
    "execution": {
     "iopub.execute_input": "2023-02-26T16:34:30.870654Z",
     "iopub.status.busy": "2023-02-26T16:34:30.870037Z",
     "iopub.status.idle": "2023-02-26T16:34:42.186739Z",
     "shell.execute_reply": "2023-02-26T16:34:42.186157Z"
    }
   },
   "outputs": [
    {
     "name": "stdout",
     "output_type": "stream",
     "text": [
      "139 µs ± 1.57 µs per loop (mean ± std. dev. of 7 runs, 10,000 loops each)\n"
     ]
    }
   ],
   "source": [
    "b3 = Batch(**_TREE_DATA_3)\n",
    "%timeit copy.deepcopy(b3)"
   ]
  },
  {
   "cell_type": "markdown",
   "id": "223162fb",
   "metadata": {},
   "source": [
    "## Stack, Concat and Split Operation"
   ]
  },
  {
   "cell_type": "markdown",
   "id": "85fa4a73",
   "metadata": {},
   "source": [
    "### Performance of TreeValue"
   ]
  },
  {
   "cell_type": "code",
   "execution_count": 19,
   "id": "a0c2b697",
   "metadata": {
    "execution": {
     "iopub.execute_input": "2023-02-26T16:34:42.190576Z",
     "iopub.status.busy": "2023-02-26T16:34:42.189652Z",
     "iopub.status.idle": "2023-02-26T16:34:42.193869Z",
     "shell.execute_reply": "2023-02-26T16:34:42.193317Z"
    }
   },
   "outputs": [],
   "source": [
    "trees = [FastTreeValue(_TREE_DATA_2) for _ in range(8)]"
   ]
  },
  {
   "cell_type": "code",
   "execution_count": 20,
   "id": "017ea5a5",
   "metadata": {
    "execution": {
     "iopub.execute_input": "2023-02-26T16:34:42.197293Z",
     "iopub.status.busy": "2023-02-26T16:34:42.196417Z",
     "iopub.status.idle": "2023-02-26T16:34:42.204982Z",
     "shell.execute_reply": "2023-02-26T16:34:42.204472Z"
    }
   },
   "outputs": [
    {
     "data": {
      "text/plain": [
       "<FastTreeValue 0x7f1589c57f70>\n",
       "├── 'a' --> tensor([[[ 1.2352,  0.1124,  0.4499],\n",
       "│                    [ 0.7382,  1.2576, -0.7292]],\n",
       "│           \n",
       "│                   [[ 1.2352,  0.1124,  0.4499],\n",
       "│                    [ 0.7382,  1.2576, -0.7292]],\n",
       "│           \n",
       "│                   [[ 1.2352,  0.1124,  0.4499],\n",
       "│                    [ 0.7382,  1.2576, -0.7292]],\n",
       "│           \n",
       "│                   [[ 1.2352,  0.1124,  0.4499],\n",
       "│                    [ 0.7382,  1.2576, -0.7292]],\n",
       "│           \n",
       "│                   [[ 1.2352,  0.1124,  0.4499],\n",
       "│                    [ 0.7382,  1.2576, -0.7292]],\n",
       "│           \n",
       "│                   [[ 1.2352,  0.1124,  0.4499],\n",
       "│                    [ 0.7382,  1.2576, -0.7292]],\n",
       "│           \n",
       "│                   [[ 1.2352,  0.1124,  0.4499],\n",
       "│                    [ 0.7382,  1.2576, -0.7292]],\n",
       "│           \n",
       "│                   [[ 1.2352,  0.1124,  0.4499],\n",
       "│                    [ 0.7382,  1.2576, -0.7292]]])\n",
       "└── 'x' --> <FastTreeValue 0x7f1589c576d0>\n",
       "    └── 'c' --> tensor([[[ 1.4042,  0.1280,  0.2811,  0.0819],\n",
       "                         [-0.1038,  0.2039,  0.5301, -0.3892],\n",
       "                         [ 0.9809,  0.6936, -0.5879,  0.5020]],\n",
       "                \n",
       "                        [[ 1.4042,  0.1280,  0.2811,  0.0819],\n",
       "                         [-0.1038,  0.2039,  0.5301, -0.3892],\n",
       "                         [ 0.9809,  0.6936, -0.5879,  0.5020]],\n",
       "                \n",
       "                        [[ 1.4042,  0.1280,  0.2811,  0.0819],\n",
       "                         [-0.1038,  0.2039,  0.5301, -0.3892],\n",
       "                         [ 0.9809,  0.6936, -0.5879,  0.5020]],\n",
       "                \n",
       "                        [[ 1.4042,  0.1280,  0.2811,  0.0819],\n",
       "                         [-0.1038,  0.2039,  0.5301, -0.3892],\n",
       "                         [ 0.9809,  0.6936, -0.5879,  0.5020]],\n",
       "                \n",
       "                        [[ 1.4042,  0.1280,  0.2811,  0.0819],\n",
       "                         [-0.1038,  0.2039,  0.5301, -0.3892],\n",
       "                         [ 0.9809,  0.6936, -0.5879,  0.5020]],\n",
       "                \n",
       "                        [[ 1.4042,  0.1280,  0.2811,  0.0819],\n",
       "                         [-0.1038,  0.2039,  0.5301, -0.3892],\n",
       "                         [ 0.9809,  0.6936, -0.5879,  0.5020]],\n",
       "                \n",
       "                        [[ 1.4042,  0.1280,  0.2811,  0.0819],\n",
       "                         [-0.1038,  0.2039,  0.5301, -0.3892],\n",
       "                         [ 0.9809,  0.6936, -0.5879,  0.5020]],\n",
       "                \n",
       "                        [[ 1.4042,  0.1280,  0.2811,  0.0819],\n",
       "                         [-0.1038,  0.2039,  0.5301, -0.3892],\n",
       "                         [ 0.9809,  0.6936, -0.5879,  0.5020]]])"
      ]
     },
     "execution_count": 20,
     "metadata": {},
     "output_type": "execute_result"
    }
   ],
   "source": [
    "t_stack = FastTreeValue.func(subside=True)(torch.stack)\n",
    "\n",
    "t_stack(trees)"
   ]
  },
  {
   "cell_type": "code",
   "execution_count": 21,
   "id": "f8b3f415",
   "metadata": {
    "execution": {
     "iopub.execute_input": "2023-02-26T16:34:42.207546Z",
     "iopub.status.busy": "2023-02-26T16:34:42.207174Z",
     "iopub.status.idle": "2023-02-26T16:34:44.834155Z",
     "shell.execute_reply": "2023-02-26T16:34:44.833492Z"
    }
   },
   "outputs": [
    {
     "name": "stdout",
     "output_type": "stream",
     "text": [
      "32.3 µs ± 80.8 ns per loop (mean ± std. dev. of 7 runs, 10,000 loops each)\n"
     ]
    }
   ],
   "source": [
    "%timeit t_stack(trees)"
   ]
  },
  {
   "cell_type": "code",
   "execution_count": 22,
   "id": "94b56771",
   "metadata": {
    "execution": {
     "iopub.execute_input": "2023-02-26T16:34:44.837299Z",
     "iopub.status.busy": "2023-02-26T16:34:44.836737Z",
     "iopub.status.idle": "2023-02-26T16:34:44.844640Z",
     "shell.execute_reply": "2023-02-26T16:34:44.844053Z"
    }
   },
   "outputs": [
    {
     "data": {
      "text/plain": [
       "<FastTreeValue 0x7f1589c579a0>\n",
       "├── 'a' --> tensor([[ 1.2352,  0.1124,  0.4499],\n",
       "│                   [ 0.7382,  1.2576, -0.7292],\n",
       "│                   [ 1.2352,  0.1124,  0.4499],\n",
       "│                   [ 0.7382,  1.2576, -0.7292],\n",
       "│                   [ 1.2352,  0.1124,  0.4499],\n",
       "│                   [ 0.7382,  1.2576, -0.7292],\n",
       "│                   [ 1.2352,  0.1124,  0.4499],\n",
       "│                   [ 0.7382,  1.2576, -0.7292],\n",
       "│                   [ 1.2352,  0.1124,  0.4499],\n",
       "│                   [ 0.7382,  1.2576, -0.7292],\n",
       "│                   [ 1.2352,  0.1124,  0.4499],\n",
       "│                   [ 0.7382,  1.2576, -0.7292],\n",
       "│                   [ 1.2352,  0.1124,  0.4499],\n",
       "│                   [ 0.7382,  1.2576, -0.7292],\n",
       "│                   [ 1.2352,  0.1124,  0.4499],\n",
       "│                   [ 0.7382,  1.2576, -0.7292]])\n",
       "└── 'x' --> <FastTreeValue 0x7f1589c57a00>\n",
       "    └── 'c' --> tensor([[ 1.4042,  0.1280,  0.2811,  0.0819],\n",
       "                        [-0.1038,  0.2039,  0.5301, -0.3892],\n",
       "                        [ 0.9809,  0.6936, -0.5879,  0.5020],\n",
       "                        [ 1.4042,  0.1280,  0.2811,  0.0819],\n",
       "                        [-0.1038,  0.2039,  0.5301, -0.3892],\n",
       "                        [ 0.9809,  0.6936, -0.5879,  0.5020],\n",
       "                        [ 1.4042,  0.1280,  0.2811,  0.0819],\n",
       "                        [-0.1038,  0.2039,  0.5301, -0.3892],\n",
       "                        [ 0.9809,  0.6936, -0.5879,  0.5020],\n",
       "                        [ 1.4042,  0.1280,  0.2811,  0.0819],\n",
       "                        [-0.1038,  0.2039,  0.5301, -0.3892],\n",
       "                        [ 0.9809,  0.6936, -0.5879,  0.5020],\n",
       "                        [ 1.4042,  0.1280,  0.2811,  0.0819],\n",
       "                        [-0.1038,  0.2039,  0.5301, -0.3892],\n",
       "                        [ 0.9809,  0.6936, -0.5879,  0.5020],\n",
       "                        [ 1.4042,  0.1280,  0.2811,  0.0819],\n",
       "                        [-0.1038,  0.2039,  0.5301, -0.3892],\n",
       "                        [ 0.9809,  0.6936, -0.5879,  0.5020],\n",
       "                        [ 1.4042,  0.1280,  0.2811,  0.0819],\n",
       "                        [-0.1038,  0.2039,  0.5301, -0.3892],\n",
       "                        [ 0.9809,  0.6936, -0.5879,  0.5020],\n",
       "                        [ 1.4042,  0.1280,  0.2811,  0.0819],\n",
       "                        [-0.1038,  0.2039,  0.5301, -0.3892],\n",
       "                        [ 0.9809,  0.6936, -0.5879,  0.5020]])"
      ]
     },
     "execution_count": 22,
     "metadata": {},
     "output_type": "execute_result"
    }
   ],
   "source": [
    "t_cat = FastTreeValue.func(subside=True)(torch.cat)\n",
    "\n",
    "t_cat(trees)"
   ]
  },
  {
   "cell_type": "code",
   "execution_count": 23,
   "id": "5e9c06a6",
   "metadata": {
    "execution": {
     "iopub.execute_input": "2023-02-26T16:34:44.847084Z",
     "iopub.status.busy": "2023-02-26T16:34:44.846754Z",
     "iopub.status.idle": "2023-02-26T16:34:47.269892Z",
     "shell.execute_reply": "2023-02-26T16:34:47.269203Z"
    }
   },
   "outputs": [
    {
     "name": "stdout",
     "output_type": "stream",
     "text": [
      "29.8 µs ± 48.9 ns per loop (mean ± std. dev. of 7 runs, 10,000 loops each)\n"
     ]
    }
   ],
   "source": [
    "%timeit t_cat(trees)"
   ]
  },
  {
   "cell_type": "code",
   "execution_count": 24,
   "id": "a3ab5c8f",
   "metadata": {
    "execution": {
     "iopub.execute_input": "2023-02-26T16:34:47.272858Z",
     "iopub.status.busy": "2023-02-26T16:34:47.272499Z",
     "iopub.status.idle": "2023-02-26T16:34:51.984542Z",
     "shell.execute_reply": "2023-02-26T16:34:51.983834Z"
    }
   },
   "outputs": [
    {
     "name": "stdout",
     "output_type": "stream",
     "text": [
      "57.9 µs ± 124 ns per loop (mean ± std. dev. of 7 runs, 10,000 loops each)\n"
     ]
    }
   ],
   "source": [
    "t_split = FastTreeValue.func(rise=True)(torch.split)\n",
    "tree = FastTreeValue({\n",
    "    'obs': torch.randn(8, 4, 84, 84),\n",
    "    'action': torch.randint(0, 6, size=(8, 1,)),\n",
    "    'reward': torch.rand(8, 1),\n",
    "})\n",
    "\n",
    "%timeit t_split(tree, 1)"
   ]
  },
  {
   "cell_type": "markdown",
   "id": "31c3ec0b",
   "metadata": {},
   "source": [
    "### Performance of Tianshou Batch"
   ]
  },
  {
   "cell_type": "code",
   "execution_count": 25,
   "id": "9ead828a",
   "metadata": {
    "execution": {
     "iopub.execute_input": "2023-02-26T16:34:51.987538Z",
     "iopub.status.busy": "2023-02-26T16:34:51.987195Z",
     "iopub.status.idle": "2023-02-26T16:34:51.994822Z",
     "shell.execute_reply": "2023-02-26T16:34:51.994250Z"
    }
   },
   "outputs": [
    {
     "data": {
      "text/plain": [
       "Batch(\n",
       "    a: tensor([[[ 1.2352,  0.1124,  0.4499],\n",
       "                [ 0.7382,  1.2576, -0.7292]],\n",
       "       \n",
       "               [[ 1.2352,  0.1124,  0.4499],\n",
       "                [ 0.7382,  1.2576, -0.7292]],\n",
       "       \n",
       "               [[ 1.2352,  0.1124,  0.4499],\n",
       "                [ 0.7382,  1.2576, -0.7292]],\n",
       "       \n",
       "               [[ 1.2352,  0.1124,  0.4499],\n",
       "                [ 0.7382,  1.2576, -0.7292]],\n",
       "       \n",
       "               [[ 1.2352,  0.1124,  0.4499],\n",
       "                [ 0.7382,  1.2576, -0.7292]],\n",
       "       \n",
       "               [[ 1.2352,  0.1124,  0.4499],\n",
       "                [ 0.7382,  1.2576, -0.7292]],\n",
       "       \n",
       "               [[ 1.2352,  0.1124,  0.4499],\n",
       "                [ 0.7382,  1.2576, -0.7292]],\n",
       "       \n",
       "               [[ 1.2352,  0.1124,  0.4499],\n",
       "                [ 0.7382,  1.2576, -0.7292]]]),\n",
       "    x: Batch(\n",
       "           c: tensor([[[ 1.4042,  0.1280,  0.2811,  0.0819],\n",
       "                       [-0.1038,  0.2039,  0.5301, -0.3892],\n",
       "                       [ 0.9809,  0.6936, -0.5879,  0.5020]],\n",
       "              \n",
       "                      [[ 1.4042,  0.1280,  0.2811,  0.0819],\n",
       "                       [-0.1038,  0.2039,  0.5301, -0.3892],\n",
       "                       [ 0.9809,  0.6936, -0.5879,  0.5020]],\n",
       "              \n",
       "                      [[ 1.4042,  0.1280,  0.2811,  0.0819],\n",
       "                       [-0.1038,  0.2039,  0.5301, -0.3892],\n",
       "                       [ 0.9809,  0.6936, -0.5879,  0.5020]],\n",
       "              \n",
       "                      [[ 1.4042,  0.1280,  0.2811,  0.0819],\n",
       "                       [-0.1038,  0.2039,  0.5301, -0.3892],\n",
       "                       [ 0.9809,  0.6936, -0.5879,  0.5020]],\n",
       "              \n",
       "                      [[ 1.4042,  0.1280,  0.2811,  0.0819],\n",
       "                       [-0.1038,  0.2039,  0.5301, -0.3892],\n",
       "                       [ 0.9809,  0.6936, -0.5879,  0.5020]],\n",
       "              \n",
       "                      [[ 1.4042,  0.1280,  0.2811,  0.0819],\n",
       "                       [-0.1038,  0.2039,  0.5301, -0.3892],\n",
       "                       [ 0.9809,  0.6936, -0.5879,  0.5020]],\n",
       "              \n",
       "                      [[ 1.4042,  0.1280,  0.2811,  0.0819],\n",
       "                       [-0.1038,  0.2039,  0.5301, -0.3892],\n",
       "                       [ 0.9809,  0.6936, -0.5879,  0.5020]],\n",
       "              \n",
       "                      [[ 1.4042,  0.1280,  0.2811,  0.0819],\n",
       "                       [-0.1038,  0.2039,  0.5301, -0.3892],\n",
       "                       [ 0.9809,  0.6936, -0.5879,  0.5020]]]),\n",
       "       ),\n",
       ")"
      ]
     },
     "execution_count": 25,
     "metadata": {},
     "output_type": "execute_result"
    }
   ],
   "source": [
    "batches = [Batch(**_TREE_DATA_2) for _ in range(8)]\n",
    "\n",
    "Batch.stack(batches)"
   ]
  },
  {
   "cell_type": "code",
   "execution_count": 26,
   "id": "ec9037a3",
   "metadata": {
    "execution": {
     "iopub.execute_input": "2023-02-26T16:34:51.997538Z",
     "iopub.status.busy": "2023-02-26T16:34:51.997066Z",
     "iopub.status.idle": "2023-02-26T16:34:58.325550Z",
     "shell.execute_reply": "2023-02-26T16:34:58.324836Z"
    }
   },
   "outputs": [
    {
     "name": "stdout",
     "output_type": "stream",
     "text": [
      "77.9 µs ± 364 ns per loop (mean ± std. dev. of 7 runs, 10,000 loops each)\n"
     ]
    }
   ],
   "source": [
    "%timeit Batch.stack(batches)"
   ]
  },
  {
   "cell_type": "code",
   "execution_count": 27,
   "id": "cb8ab77e",
   "metadata": {
    "execution": {
     "iopub.execute_input": "2023-02-26T16:34:58.328277Z",
     "iopub.status.busy": "2023-02-26T16:34:58.327925Z",
     "iopub.status.idle": "2023-02-26T16:34:58.335467Z",
     "shell.execute_reply": "2023-02-26T16:34:58.334428Z"
    }
   },
   "outputs": [
    {
     "data": {
      "text/plain": [
       "Batch(\n",
       "    a: tensor([[ 1.2352,  0.1124,  0.4499],\n",
       "               [ 0.7382,  1.2576, -0.7292],\n",
       "               [ 1.2352,  0.1124,  0.4499],\n",
       "               [ 0.7382,  1.2576, -0.7292],\n",
       "               [ 1.2352,  0.1124,  0.4499],\n",
       "               [ 0.7382,  1.2576, -0.7292],\n",
       "               [ 1.2352,  0.1124,  0.4499],\n",
       "               [ 0.7382,  1.2576, -0.7292],\n",
       "               [ 1.2352,  0.1124,  0.4499],\n",
       "               [ 0.7382,  1.2576, -0.7292],\n",
       "               [ 1.2352,  0.1124,  0.4499],\n",
       "               [ 0.7382,  1.2576, -0.7292],\n",
       "               [ 1.2352,  0.1124,  0.4499],\n",
       "               [ 0.7382,  1.2576, -0.7292],\n",
       "               [ 1.2352,  0.1124,  0.4499],\n",
       "               [ 0.7382,  1.2576, -0.7292]]),\n",
       "    x: Batch(\n",
       "           c: tensor([[ 1.4042,  0.1280,  0.2811,  0.0819],\n",
       "                      [-0.1038,  0.2039,  0.5301, -0.3892],\n",
       "                      [ 0.9809,  0.6936, -0.5879,  0.5020],\n",
       "                      [ 1.4042,  0.1280,  0.2811,  0.0819],\n",
       "                      [-0.1038,  0.2039,  0.5301, -0.3892],\n",
       "                      [ 0.9809,  0.6936, -0.5879,  0.5020],\n",
       "                      [ 1.4042,  0.1280,  0.2811,  0.0819],\n",
       "                      [-0.1038,  0.2039,  0.5301, -0.3892],\n",
       "                      [ 0.9809,  0.6936, -0.5879,  0.5020],\n",
       "                      [ 1.4042,  0.1280,  0.2811,  0.0819],\n",
       "                      [-0.1038,  0.2039,  0.5301, -0.3892],\n",
       "                      [ 0.9809,  0.6936, -0.5879,  0.5020],\n",
       "                      [ 1.4042,  0.1280,  0.2811,  0.0819],\n",
       "                      [-0.1038,  0.2039,  0.5301, -0.3892],\n",
       "                      [ 0.9809,  0.6936, -0.5879,  0.5020],\n",
       "                      [ 1.4042,  0.1280,  0.2811,  0.0819],\n",
       "                      [-0.1038,  0.2039,  0.5301, -0.3892],\n",
       "                      [ 0.9809,  0.6936, -0.5879,  0.5020],\n",
       "                      [ 1.4042,  0.1280,  0.2811,  0.0819],\n",
       "                      [-0.1038,  0.2039,  0.5301, -0.3892],\n",
       "                      [ 0.9809,  0.6936, -0.5879,  0.5020],\n",
       "                      [ 1.4042,  0.1280,  0.2811,  0.0819],\n",
       "                      [-0.1038,  0.2039,  0.5301, -0.3892],\n",
       "                      [ 0.9809,  0.6936, -0.5879,  0.5020]]),\n",
       "       ),\n",
       ")"
      ]
     },
     "execution_count": 27,
     "metadata": {},
     "output_type": "execute_result"
    }
   ],
   "source": [
    "Batch.cat(batches)"
   ]
  },
  {
   "cell_type": "code",
   "execution_count": 28,
   "id": "18dfb045",
   "metadata": {
    "execution": {
     "iopub.execute_input": "2023-02-26T16:34:58.338233Z",
     "iopub.status.busy": "2023-02-26T16:34:58.337734Z",
     "iopub.status.idle": "2023-02-26T16:35:09.788689Z",
     "shell.execute_reply": "2023-02-26T16:35:09.787970Z"
    }
   },
   "outputs": [
    {
     "name": "stdout",
     "output_type": "stream",
     "text": [
      "141 µs ± 345 ns per loop (mean ± std. dev. of 7 runs, 10,000 loops each)\n"
     ]
    }
   ],
   "source": [
    "%timeit Batch.cat(batches)"
   ]
  },
  {
   "cell_type": "code",
   "execution_count": 29,
   "id": "c6688e51",
   "metadata": {
    "execution": {
     "iopub.execute_input": "2023-02-26T16:35:09.791670Z",
     "iopub.status.busy": "2023-02-26T16:35:09.791325Z",
     "iopub.status.idle": "2023-02-26T16:35:12.264828Z",
     "shell.execute_reply": "2023-02-26T16:35:12.264156Z"
    }
   },
   "outputs": [
    {
     "name": "stdout",
     "output_type": "stream",
     "text": [
      "304 µs ± 2.68 µs per loop (mean ± std. dev. of 7 runs, 1,000 loops each)\n"
     ]
    }
   ],
   "source": [
    "batch = Batch({\n",
    "    'obs': torch.randn(8, 4, 84, 84),\n",
    "    'action': torch.randint(0, 6, size=(8, 1,)),\n",
    "    'reward': torch.rand(8, 1)}\n",
    ")\n",
    "\n",
    "%timeit list(Batch.split(batch, 1, shuffle=False, merge_last=True))"
   ]
  },
  {
   "cell_type": "code",
   "execution_count": null,
   "id": "2539fbd9",
   "metadata": {},
   "outputs": [],
   "source": []
  }
 ],
 "metadata": {
  "kernelspec": {
   "display_name": "Python 3 (ipykernel)",
   "language": "python",
   "name": "python3"
  },
  "language_info": {
   "codemirror_mode": {
    "name": "ipython",
    "version": 3
   },
   "file_extension": ".py",
   "mimetype": "text/x-python",
   "name": "python",
   "nbconvert_exporter": "python",
   "pygments_lexer": "ipython3",
   "version": "3.8.16"
  }
 },
 "nbformat": 4,
 "nbformat_minor": 5
}
