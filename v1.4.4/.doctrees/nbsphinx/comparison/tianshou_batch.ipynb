{
 "cells": [
  {
   "cell_type": "markdown",
   "id": "9d39d946",
   "metadata": {},
   "source": [
    "# Comparison Between TreeValue and Tianshou Batch"
   ]
  },
  {
   "cell_type": "markdown",
   "id": "3c6db2d4",
   "metadata": {},
   "source": [
    "In this section, we will take a look at the feature and performance of the [Tianshou Batch](https://github.com/thu-ml/tianshou) library, which is developed by Tsinghua Machine Learning Group."
   ]
  },
  {
   "cell_type": "markdown",
   "id": "069361b0",
   "metadata": {},
   "source": [
    "Before starting the comparison, let us define some thing."
   ]
  },
  {
   "cell_type": "code",
   "execution_count": 1,
   "id": "06fc8d26",
   "metadata": {
    "execution": {
     "iopub.execute_input": "2023-02-27T11:49:18.891439Z",
     "iopub.status.busy": "2023-02-27T11:49:18.890820Z",
     "iopub.status.idle": "2023-02-27T11:49:19.867424Z",
     "shell.execute_reply": "2023-02-27T11:49:19.866715Z"
    }
   },
   "outputs": [
    {
     "name": "stderr",
     "output_type": "stream",
     "text": [
      "/opt/hostedtoolcache/Python/3.8.16/x64/lib/python3.8/site-packages/tqdm/auto.py:22: TqdmWarning: IProgress not found. Please update jupyter and ipywidgets. See https://ipywidgets.readthedocs.io/en/stable/user_install.html\n",
      "  from .autonotebook import tqdm as notebook_tqdm\n"
     ]
    }
   ],
   "source": [
    "import torch \n",
    "\n",
    "_TREE_DATA_1 = {'a': 1, 'b': 2, 'x': {'c': 3, 'd': 4}}\n",
    "_TREE_DATA_2 = {\n",
    "    'a': torch.randn(2, 3), \n",
    "    'x': {\n",
    "        'c': torch.randn(3, 4)\n",
    "    },\n",
    "}\n",
    "_TREE_DATA_3 = {\n",
    "    'obs': torch.randn(4, 84, 84),\n",
    "    'action': torch.randint(0, 6, size=(1,)),\n",
    "    'reward': torch.rand(1),\n",
    "}"
   ]
  },
  {
   "cell_type": "markdown",
   "id": "83461b25",
   "metadata": {},
   "source": [
    "## Read and Write Operation"
   ]
  },
  {
   "cell_type": "markdown",
   "id": "067b3f73",
   "metadata": {},
   "source": [
    "Reading and writing are the two most common operations in the tree data structure based on the data model (TreeValue and Tianshou Batch both belong to this type), so this section will compare the reading and writing performance of these two libraries."
   ]
  },
  {
   "cell_type": "markdown",
   "id": "5d09a5b7",
   "metadata": {},
   "source": [
    "### TreeValue's Get and Set"
   ]
  },
  {
   "cell_type": "code",
   "execution_count": 2,
   "id": "9519c4bb",
   "metadata": {
    "execution": {
     "iopub.execute_input": "2023-02-27T11:49:19.871035Z",
     "iopub.status.busy": "2023-02-27T11:49:19.870516Z",
     "iopub.status.idle": "2023-02-27T11:49:20.158607Z",
     "shell.execute_reply": "2023-02-27T11:49:20.157910Z"
    }
   },
   "outputs": [],
   "source": [
    "from treevalue import FastTreeValue\n",
    "\n",
    "t = FastTreeValue(_TREE_DATA_2)"
   ]
  },
  {
   "cell_type": "code",
   "execution_count": 3,
   "id": "11c37677",
   "metadata": {
    "execution": {
     "iopub.execute_input": "2023-02-27T11:49:20.162245Z",
     "iopub.status.busy": "2023-02-27T11:49:20.161598Z",
     "iopub.status.idle": "2023-02-27T11:49:20.171249Z",
     "shell.execute_reply": "2023-02-27T11:49:20.170635Z"
    }
   },
   "outputs": [
    {
     "data": {
      "text/plain": [
       "<FastTreeValue 0x7fd374bd32e0>\n",
       "├── 'a' --> tensor([[ 0.9012,  1.3270,  0.4984],\n",
       "│                   [-1.3039,  0.0713,  1.4605]])\n",
       "└── 'x' --> <FastTreeValue 0x7fd374bd3250>\n",
       "    └── 'c' --> tensor([[ 0.1660, -0.5548, -0.1921, -0.2606],\n",
       "                        [-0.8941,  0.6323,  0.0318,  1.5649],\n",
       "                        [-0.9146, -0.4820, -1.2256, -0.2821]])"
      ]
     },
     "execution_count": 3,
     "metadata": {},
     "output_type": "execute_result"
    }
   ],
   "source": [
    "t"
   ]
  },
  {
   "cell_type": "code",
   "execution_count": 4,
   "id": "fd70b0b9",
   "metadata": {
    "execution": {
     "iopub.execute_input": "2023-02-27T11:49:20.174128Z",
     "iopub.status.busy": "2023-02-27T11:49:20.173770Z",
     "iopub.status.idle": "2023-02-27T11:49:20.179887Z",
     "shell.execute_reply": "2023-02-27T11:49:20.179267Z"
    }
   },
   "outputs": [
    {
     "data": {
      "text/plain": [
       "tensor([[ 0.9012,  1.3270,  0.4984],\n",
       "        [-1.3039,  0.0713,  1.4605]])"
      ]
     },
     "execution_count": 4,
     "metadata": {},
     "output_type": "execute_result"
    }
   ],
   "source": [
    "t.a"
   ]
  },
  {
   "cell_type": "code",
   "execution_count": 5,
   "id": "c18197bd",
   "metadata": {
    "execution": {
     "iopub.execute_input": "2023-02-27T11:49:20.182917Z",
     "iopub.status.busy": "2023-02-27T11:49:20.182408Z",
     "iopub.status.idle": "2023-02-27T11:49:25.167940Z",
     "shell.execute_reply": "2023-02-27T11:49:25.167224Z"
    }
   },
   "outputs": [
    {
     "name": "stdout",
     "output_type": "stream",
     "text": [
      "61.3 ns ± 0.0201 ns per loop (mean ± std. dev. of 7 runs, 10,000,000 loops each)\n"
     ]
    }
   ],
   "source": [
    "%timeit t.a"
   ]
  },
  {
   "cell_type": "code",
   "execution_count": 6,
   "id": "bd52f867",
   "metadata": {
    "execution": {
     "iopub.execute_input": "2023-02-27T11:49:25.171206Z",
     "iopub.status.busy": "2023-02-27T11:49:25.170805Z",
     "iopub.status.idle": "2023-02-27T11:49:25.178569Z",
     "shell.execute_reply": "2023-02-27T11:49:25.177956Z"
    }
   },
   "outputs": [
    {
     "data": {
      "text/plain": [
       "<FastTreeValue 0x7fd374bd32e0>\n",
       "├── 'a' --> tensor([[1.2694, 0.5320, 0.3360],\n",
       "│                   [0.2763, 0.3718, 1.0325]])\n",
       "└── 'x' --> <FastTreeValue 0x7fd374bd3250>\n",
       "    └── 'c' --> tensor([[ 0.1660, -0.5548, -0.1921, -0.2606],\n",
       "                        [-0.8941,  0.6323,  0.0318,  1.5649],\n",
       "                        [-0.9146, -0.4820, -1.2256, -0.2821]])"
      ]
     },
     "execution_count": 6,
     "metadata": {},
     "output_type": "execute_result"
    }
   ],
   "source": [
    "new_value = torch.randn(2, 3)\n",
    "t.a = new_value\n",
    "\n",
    "t"
   ]
  },
  {
   "cell_type": "code",
   "execution_count": 7,
   "id": "bbe04d1c",
   "metadata": {
    "execution": {
     "iopub.execute_input": "2023-02-27T11:49:25.181279Z",
     "iopub.status.busy": "2023-02-27T11:49:25.180819Z",
     "iopub.status.idle": "2023-02-27T11:49:29.974634Z",
     "shell.execute_reply": "2023-02-27T11:49:29.973965Z"
    }
   },
   "outputs": [
    {
     "name": "stdout",
     "output_type": "stream",
     "text": [
      "58.8 ns ± 0.0364 ns per loop (mean ± std. dev. of 7 runs, 10,000,000 loops each)\n"
     ]
    }
   ],
   "source": [
    "%timeit t.a = new_value"
   ]
  },
  {
   "cell_type": "markdown",
   "id": "48c49731",
   "metadata": {},
   "source": [
    "### Tianshou Batch's Get and Set"
   ]
  },
  {
   "cell_type": "code",
   "execution_count": 8,
   "id": "f1bb14c1",
   "metadata": {
    "execution": {
     "iopub.execute_input": "2023-02-27T11:49:29.979671Z",
     "iopub.status.busy": "2023-02-27T11:49:29.979302Z",
     "iopub.status.idle": "2023-02-27T11:49:30.323112Z",
     "shell.execute_reply": "2023-02-27T11:49:30.322390Z"
    }
   },
   "outputs": [],
   "source": [
    "from tianshou.data import Batch\n",
    "\n",
    "b = Batch(**_TREE_DATA_2)"
   ]
  },
  {
   "cell_type": "code",
   "execution_count": 9,
   "id": "cb0777c3",
   "metadata": {
    "execution": {
     "iopub.execute_input": "2023-02-27T11:49:30.326682Z",
     "iopub.status.busy": "2023-02-27T11:49:30.326006Z",
     "iopub.status.idle": "2023-02-27T11:49:30.332429Z",
     "shell.execute_reply": "2023-02-27T11:49:30.331838Z"
    }
   },
   "outputs": [
    {
     "data": {
      "text/plain": [
       "Batch(\n",
       "    a: tensor([[ 0.9012,  1.3270,  0.4984],\n",
       "               [-1.3039,  0.0713,  1.4605]]),\n",
       "    x: Batch(\n",
       "           c: tensor([[ 0.1660, -0.5548, -0.1921, -0.2606],\n",
       "                      [-0.8941,  0.6323,  0.0318,  1.5649],\n",
       "                      [-0.9146, -0.4820, -1.2256, -0.2821]]),\n",
       "       ),\n",
       ")"
      ]
     },
     "execution_count": 9,
     "metadata": {},
     "output_type": "execute_result"
    }
   ],
   "source": [
    "b"
   ]
  },
  {
   "cell_type": "code",
   "execution_count": 10,
   "id": "43ef8ea3",
   "metadata": {
    "execution": {
     "iopub.execute_input": "2023-02-27T11:49:30.335163Z",
     "iopub.status.busy": "2023-02-27T11:49:30.334824Z",
     "iopub.status.idle": "2023-02-27T11:49:30.341111Z",
     "shell.execute_reply": "2023-02-27T11:49:30.340469Z"
    }
   },
   "outputs": [
    {
     "data": {
      "text/plain": [
       "tensor([[ 0.9012,  1.3270,  0.4984],\n",
       "        [-1.3039,  0.0713,  1.4605]])"
      ]
     },
     "execution_count": 10,
     "metadata": {},
     "output_type": "execute_result"
    }
   ],
   "source": [
    "b.a"
   ]
  },
  {
   "cell_type": "code",
   "execution_count": 11,
   "id": "b785ab72",
   "metadata": {
    "execution": {
     "iopub.execute_input": "2023-02-27T11:49:30.343813Z",
     "iopub.status.busy": "2023-02-27T11:49:30.343478Z",
     "iopub.status.idle": "2023-02-27T11:49:34.752894Z",
     "shell.execute_reply": "2023-02-27T11:49:34.752155Z"
    }
   },
   "outputs": [
    {
     "name": "stdout",
     "output_type": "stream",
     "text": [
      "54.2 ns ± 0.0352 ns per loop (mean ± std. dev. of 7 runs, 10,000,000 loops each)\n"
     ]
    }
   ],
   "source": [
    "%timeit b.a"
   ]
  },
  {
   "cell_type": "code",
   "execution_count": 12,
   "id": "ad54dc69",
   "metadata": {
    "execution": {
     "iopub.execute_input": "2023-02-27T11:49:34.755876Z",
     "iopub.status.busy": "2023-02-27T11:49:34.755537Z",
     "iopub.status.idle": "2023-02-27T11:49:34.761935Z",
     "shell.execute_reply": "2023-02-27T11:49:34.761357Z"
    }
   },
   "outputs": [
    {
     "data": {
      "text/plain": [
       "Batch(\n",
       "    a: tensor([[ 0.8442, -0.4606, -1.0661],\n",
       "               [-0.6941, -1.8023, -0.5685]]),\n",
       "    x: Batch(\n",
       "           c: tensor([[ 0.1660, -0.5548, -0.1921, -0.2606],\n",
       "                      [-0.8941,  0.6323,  0.0318,  1.5649],\n",
       "                      [-0.9146, -0.4820, -1.2256, -0.2821]]),\n",
       "       ),\n",
       ")"
      ]
     },
     "execution_count": 12,
     "metadata": {},
     "output_type": "execute_result"
    }
   ],
   "source": [
    "new_value = torch.randn(2, 3)\n",
    "b.a = new_value\n",
    "\n",
    "b"
   ]
  },
  {
   "cell_type": "code",
   "execution_count": 13,
   "id": "29b1d0bf",
   "metadata": {
    "execution": {
     "iopub.execute_input": "2023-02-27T11:49:34.764408Z",
     "iopub.status.busy": "2023-02-27T11:49:34.764077Z",
     "iopub.status.idle": "2023-02-27T11:49:38.717022Z",
     "shell.execute_reply": "2023-02-27T11:49:38.716292Z"
    }
   },
   "outputs": [
    {
     "name": "stdout",
     "output_type": "stream",
     "text": [
      "487 ns ± 0.214 ns per loop (mean ± std. dev. of 7 runs, 1,000,000 loops each)\n"
     ]
    }
   ],
   "source": [
    "%timeit b.a = new_value"
   ]
  },
  {
   "cell_type": "markdown",
   "id": "b61ad1d0",
   "metadata": {},
   "source": [
    "## Initialization"
   ]
  },
  {
   "cell_type": "markdown",
   "id": "d70f0d54",
   "metadata": {},
   "source": [
    "### TreeValue's Initialization"
   ]
  },
  {
   "cell_type": "code",
   "execution_count": 14,
   "id": "d32a679b",
   "metadata": {
    "execution": {
     "iopub.execute_input": "2023-02-27T11:49:38.719948Z",
     "iopub.status.busy": "2023-02-27T11:49:38.719585Z",
     "iopub.status.idle": "2023-02-27T11:49:45.504269Z",
     "shell.execute_reply": "2023-02-27T11:49:45.503569Z"
    }
   },
   "outputs": [
    {
     "name": "stdout",
     "output_type": "stream",
     "text": [
      "836 ns ± 0.329 ns per loop (mean ± std. dev. of 7 runs, 1,000,000 loops each)\n"
     ]
    }
   ],
   "source": [
    "%timeit FastTreeValue(_TREE_DATA_1)"
   ]
  },
  {
   "cell_type": "markdown",
   "id": "24f3707b",
   "metadata": {},
   "source": [
    "### Tianshou Batch's Initialization"
   ]
  },
  {
   "cell_type": "code",
   "execution_count": 15,
   "id": "ac3958df",
   "metadata": {
    "execution": {
     "iopub.execute_input": "2023-02-27T11:49:45.507063Z",
     "iopub.status.busy": "2023-02-27T11:49:45.506718Z",
     "iopub.status.idle": "2023-02-27T11:49:54.590680Z",
     "shell.execute_reply": "2023-02-27T11:49:54.589939Z"
    }
   },
   "outputs": [
    {
     "name": "stdout",
     "output_type": "stream",
     "text": [
      "11.2 µs ± 60.9 ns per loop (mean ± std. dev. of 7 runs, 100,000 loops each)\n"
     ]
    }
   ],
   "source": [
    "%timeit Batch(**_TREE_DATA_1)"
   ]
  },
  {
   "cell_type": "markdown",
   "id": "1ab82e2d",
   "metadata": {},
   "source": [
    "## Deep Copy Operation"
   ]
  },
  {
   "cell_type": "code",
   "execution_count": 16,
   "id": "210a9442",
   "metadata": {
    "execution": {
     "iopub.execute_input": "2023-02-27T11:49:54.593838Z",
     "iopub.status.busy": "2023-02-27T11:49:54.593457Z",
     "iopub.status.idle": "2023-02-27T11:49:54.597456Z",
     "shell.execute_reply": "2023-02-27T11:49:54.596855Z"
    }
   },
   "outputs": [],
   "source": [
    "import copy"
   ]
  },
  {
   "cell_type": "markdown",
   "id": "5a736274",
   "metadata": {},
   "source": [
    "### Deep Copy of TreeValue"
   ]
  },
  {
   "cell_type": "code",
   "execution_count": 17,
   "id": "f9bcadd6",
   "metadata": {
    "execution": {
     "iopub.execute_input": "2023-02-27T11:49:54.600191Z",
     "iopub.status.busy": "2023-02-27T11:49:54.599964Z",
     "iopub.status.idle": "2023-02-27T11:50:05.702454Z",
     "shell.execute_reply": "2023-02-27T11:50:05.701858Z"
    }
   },
   "outputs": [
    {
     "name": "stdout",
     "output_type": "stream",
     "text": [
      "137 µs ± 742 ns per loop (mean ± std. dev. of 7 runs, 10,000 loops each)\n"
     ]
    }
   ],
   "source": [
    "t3 = FastTreeValue(_TREE_DATA_3)\n",
    "%timeit copy.deepcopy(t3)"
   ]
  },
  {
   "cell_type": "markdown",
   "id": "bf8be7ea",
   "metadata": {},
   "source": [
    "### Deep Copy of Tianshou Batch"
   ]
  },
  {
   "cell_type": "code",
   "execution_count": 18,
   "id": "91998e6f",
   "metadata": {
    "execution": {
     "iopub.execute_input": "2023-02-27T11:50:05.706306Z",
     "iopub.status.busy": "2023-02-27T11:50:05.705380Z",
     "iopub.status.idle": "2023-02-27T11:50:17.038734Z",
     "shell.execute_reply": "2023-02-27T11:50:17.038164Z"
    }
   },
   "outputs": [
    {
     "name": "stdout",
     "output_type": "stream",
     "text": [
      "140 µs ± 338 ns per loop (mean ± std. dev. of 7 runs, 10,000 loops each)\n"
     ]
    }
   ],
   "source": [
    "b3 = Batch(**_TREE_DATA_3)\n",
    "%timeit copy.deepcopy(b3)"
   ]
  },
  {
   "cell_type": "markdown",
   "id": "223162fb",
   "metadata": {},
   "source": [
    "## Stack, Concat and Split Operation"
   ]
  },
  {
   "cell_type": "markdown",
   "id": "85fa4a73",
   "metadata": {},
   "source": [
    "### Performance of TreeValue"
   ]
  },
  {
   "cell_type": "code",
   "execution_count": 19,
   "id": "a0c2b697",
   "metadata": {
    "execution": {
     "iopub.execute_input": "2023-02-27T11:50:17.042589Z",
     "iopub.status.busy": "2023-02-27T11:50:17.041666Z",
     "iopub.status.idle": "2023-02-27T11:50:17.045848Z",
     "shell.execute_reply": "2023-02-27T11:50:17.045330Z"
    }
   },
   "outputs": [],
   "source": [
    "trees = [FastTreeValue(_TREE_DATA_2) for _ in range(8)]"
   ]
  },
  {
   "cell_type": "code",
   "execution_count": 20,
   "id": "017ea5a5",
   "metadata": {
    "execution": {
     "iopub.execute_input": "2023-02-27T11:50:17.048907Z",
     "iopub.status.busy": "2023-02-27T11:50:17.048323Z",
     "iopub.status.idle": "2023-02-27T11:50:17.055542Z",
     "shell.execute_reply": "2023-02-27T11:50:17.054934Z"
    }
   },
   "outputs": [
    {
     "data": {
      "text/plain": [
       "<FastTreeValue 0x7fd2bf58c5b0>\n",
       "├── 'a' --> tensor([[[ 0.9012,  1.3270,  0.4984],\n",
       "│                    [-1.3039,  0.0713,  1.4605]],\n",
       "│           \n",
       "│                   [[ 0.9012,  1.3270,  0.4984],\n",
       "│                    [-1.3039,  0.0713,  1.4605]],\n",
       "│           \n",
       "│                   [[ 0.9012,  1.3270,  0.4984],\n",
       "│                    [-1.3039,  0.0713,  1.4605]],\n",
       "│           \n",
       "│                   [[ 0.9012,  1.3270,  0.4984],\n",
       "│                    [-1.3039,  0.0713,  1.4605]],\n",
       "│           \n",
       "│                   [[ 0.9012,  1.3270,  0.4984],\n",
       "│                    [-1.3039,  0.0713,  1.4605]],\n",
       "│           \n",
       "│                   [[ 0.9012,  1.3270,  0.4984],\n",
       "│                    [-1.3039,  0.0713,  1.4605]],\n",
       "│           \n",
       "│                   [[ 0.9012,  1.3270,  0.4984],\n",
       "│                    [-1.3039,  0.0713,  1.4605]],\n",
       "│           \n",
       "│                   [[ 0.9012,  1.3270,  0.4984],\n",
       "│                    [-1.3039,  0.0713,  1.4605]]])\n",
       "└── 'x' --> <FastTreeValue 0x7fd2bee82070>\n",
       "    └── 'c' --> tensor([[[ 0.1660, -0.5548, -0.1921, -0.2606],\n",
       "                         [-0.8941,  0.6323,  0.0318,  1.5649],\n",
       "                         [-0.9146, -0.4820, -1.2256, -0.2821]],\n",
       "                \n",
       "                        [[ 0.1660, -0.5548, -0.1921, -0.2606],\n",
       "                         [-0.8941,  0.6323,  0.0318,  1.5649],\n",
       "                         [-0.9146, -0.4820, -1.2256, -0.2821]],\n",
       "                \n",
       "                        [[ 0.1660, -0.5548, -0.1921, -0.2606],\n",
       "                         [-0.8941,  0.6323,  0.0318,  1.5649],\n",
       "                         [-0.9146, -0.4820, -1.2256, -0.2821]],\n",
       "                \n",
       "                        [[ 0.1660, -0.5548, -0.1921, -0.2606],\n",
       "                         [-0.8941,  0.6323,  0.0318,  1.5649],\n",
       "                         [-0.9146, -0.4820, -1.2256, -0.2821]],\n",
       "                \n",
       "                        [[ 0.1660, -0.5548, -0.1921, -0.2606],\n",
       "                         [-0.8941,  0.6323,  0.0318,  1.5649],\n",
       "                         [-0.9146, -0.4820, -1.2256, -0.2821]],\n",
       "                \n",
       "                        [[ 0.1660, -0.5548, -0.1921, -0.2606],\n",
       "                         [-0.8941,  0.6323,  0.0318,  1.5649],\n",
       "                         [-0.9146, -0.4820, -1.2256, -0.2821]],\n",
       "                \n",
       "                        [[ 0.1660, -0.5548, -0.1921, -0.2606],\n",
       "                         [-0.8941,  0.6323,  0.0318,  1.5649],\n",
       "                         [-0.9146, -0.4820, -1.2256, -0.2821]],\n",
       "                \n",
       "                        [[ 0.1660, -0.5548, -0.1921, -0.2606],\n",
       "                         [-0.8941,  0.6323,  0.0318,  1.5649],\n",
       "                         [-0.9146, -0.4820, -1.2256, -0.2821]]])"
      ]
     },
     "execution_count": 20,
     "metadata": {},
     "output_type": "execute_result"
    }
   ],
   "source": [
    "t_stack = FastTreeValue.func(subside=True)(torch.stack)\n",
    "\n",
    "t_stack(trees)"
   ]
  },
  {
   "cell_type": "code",
   "execution_count": 21,
   "id": "f8b3f415",
   "metadata": {
    "execution": {
     "iopub.execute_input": "2023-02-27T11:50:17.057931Z",
     "iopub.status.busy": "2023-02-27T11:50:17.057596Z",
     "iopub.status.idle": "2023-02-27T11:50:19.673705Z",
     "shell.execute_reply": "2023-02-27T11:50:19.672822Z"
    }
   },
   "outputs": [
    {
     "name": "stdout",
     "output_type": "stream",
     "text": [
      "32.1 µs ± 256 ns per loop (mean ± std. dev. of 7 runs, 10,000 loops each)\n"
     ]
    }
   ],
   "source": [
    "%timeit t_stack(trees)"
   ]
  },
  {
   "cell_type": "code",
   "execution_count": 22,
   "id": "94b56771",
   "metadata": {
    "execution": {
     "iopub.execute_input": "2023-02-27T11:50:19.676876Z",
     "iopub.status.busy": "2023-02-27T11:50:19.676497Z",
     "iopub.status.idle": "2023-02-27T11:50:19.684823Z",
     "shell.execute_reply": "2023-02-27T11:50:19.684172Z"
    }
   },
   "outputs": [
    {
     "data": {
      "text/plain": [
       "<FastTreeValue 0x7fd2bee70e20>\n",
       "├── 'a' --> tensor([[ 0.9012,  1.3270,  0.4984],\n",
       "│                   [-1.3039,  0.0713,  1.4605],\n",
       "│                   [ 0.9012,  1.3270,  0.4984],\n",
       "│                   [-1.3039,  0.0713,  1.4605],\n",
       "│                   [ 0.9012,  1.3270,  0.4984],\n",
       "│                   [-1.3039,  0.0713,  1.4605],\n",
       "│                   [ 0.9012,  1.3270,  0.4984],\n",
       "│                   [-1.3039,  0.0713,  1.4605],\n",
       "│                   [ 0.9012,  1.3270,  0.4984],\n",
       "│                   [-1.3039,  0.0713,  1.4605],\n",
       "│                   [ 0.9012,  1.3270,  0.4984],\n",
       "│                   [-1.3039,  0.0713,  1.4605],\n",
       "│                   [ 0.9012,  1.3270,  0.4984],\n",
       "│                   [-1.3039,  0.0713,  1.4605],\n",
       "│                   [ 0.9012,  1.3270,  0.4984],\n",
       "│                   [-1.3039,  0.0713,  1.4605]])\n",
       "└── 'x' --> <FastTreeValue 0x7fd2d0592fa0>\n",
       "    └── 'c' --> tensor([[ 0.1660, -0.5548, -0.1921, -0.2606],\n",
       "                        [-0.8941,  0.6323,  0.0318,  1.5649],\n",
       "                        [-0.9146, -0.4820, -1.2256, -0.2821],\n",
       "                        [ 0.1660, -0.5548, -0.1921, -0.2606],\n",
       "                        [-0.8941,  0.6323,  0.0318,  1.5649],\n",
       "                        [-0.9146, -0.4820, -1.2256, -0.2821],\n",
       "                        [ 0.1660, -0.5548, -0.1921, -0.2606],\n",
       "                        [-0.8941,  0.6323,  0.0318,  1.5649],\n",
       "                        [-0.9146, -0.4820, -1.2256, -0.2821],\n",
       "                        [ 0.1660, -0.5548, -0.1921, -0.2606],\n",
       "                        [-0.8941,  0.6323,  0.0318,  1.5649],\n",
       "                        [-0.9146, -0.4820, -1.2256, -0.2821],\n",
       "                        [ 0.1660, -0.5548, -0.1921, -0.2606],\n",
       "                        [-0.8941,  0.6323,  0.0318,  1.5649],\n",
       "                        [-0.9146, -0.4820, -1.2256, -0.2821],\n",
       "                        [ 0.1660, -0.5548, -0.1921, -0.2606],\n",
       "                        [-0.8941,  0.6323,  0.0318,  1.5649],\n",
       "                        [-0.9146, -0.4820, -1.2256, -0.2821],\n",
       "                        [ 0.1660, -0.5548, -0.1921, -0.2606],\n",
       "                        [-0.8941,  0.6323,  0.0318,  1.5649],\n",
       "                        [-0.9146, -0.4820, -1.2256, -0.2821],\n",
       "                        [ 0.1660, -0.5548, -0.1921, -0.2606],\n",
       "                        [-0.8941,  0.6323,  0.0318,  1.5649],\n",
       "                        [-0.9146, -0.4820, -1.2256, -0.2821]])"
      ]
     },
     "execution_count": 22,
     "metadata": {},
     "output_type": "execute_result"
    }
   ],
   "source": [
    "t_cat = FastTreeValue.func(subside=True)(torch.cat)\n",
    "\n",
    "t_cat(trees)"
   ]
  },
  {
   "cell_type": "code",
   "execution_count": 23,
   "id": "5e9c06a6",
   "metadata": {
    "execution": {
     "iopub.execute_input": "2023-02-27T11:50:19.687742Z",
     "iopub.status.busy": "2023-02-27T11:50:19.687250Z",
     "iopub.status.idle": "2023-02-27T11:50:22.144924Z",
     "shell.execute_reply": "2023-02-27T11:50:22.144153Z"
    }
   },
   "outputs": [
    {
     "name": "stdout",
     "output_type": "stream",
     "text": [
      "30.2 µs ± 75.6 ns per loop (mean ± std. dev. of 7 runs, 10,000 loops each)\n"
     ]
    }
   ],
   "source": [
    "%timeit t_cat(trees)"
   ]
  },
  {
   "cell_type": "code",
   "execution_count": 24,
   "id": "a3ab5c8f",
   "metadata": {
    "execution": {
     "iopub.execute_input": "2023-02-27T11:50:22.147916Z",
     "iopub.status.busy": "2023-02-27T11:50:22.147356Z",
     "iopub.status.idle": "2023-02-27T11:50:28.360432Z",
     "shell.execute_reply": "2023-02-27T11:50:28.359578Z"
    }
   },
   "outputs": [
    {
     "name": "stdout",
     "output_type": "stream",
     "text": [
      "77 µs ± 1.23 µs per loop (mean ± std. dev. of 7 runs, 10,000 loops each)\n"
     ]
    }
   ],
   "source": [
    "t_split = FastTreeValue.func(rise=True)(torch.split)\n",
    "tree = FastTreeValue({\n",
    "    'obs': torch.randn(8, 4, 84, 84),\n",
    "    'action': torch.randint(0, 6, size=(8, 1,)),\n",
    "    'reward': torch.rand(8, 1),\n",
    "})\n",
    "\n",
    "%timeit t_split(tree, 1)"
   ]
  },
  {
   "cell_type": "markdown",
   "id": "31c3ec0b",
   "metadata": {},
   "source": [
    "### Performance of Tianshou Batch"
   ]
  },
  {
   "cell_type": "code",
   "execution_count": 25,
   "id": "9ead828a",
   "metadata": {
    "execution": {
     "iopub.execute_input": "2023-02-27T11:50:28.363468Z",
     "iopub.status.busy": "2023-02-27T11:50:28.362945Z",
     "iopub.status.idle": "2023-02-27T11:50:28.371566Z",
     "shell.execute_reply": "2023-02-27T11:50:28.370684Z"
    }
   },
   "outputs": [
    {
     "data": {
      "text/plain": [
       "Batch(\n",
       "    x: Batch(\n",
       "           c: tensor([[[ 0.1660, -0.5548, -0.1921, -0.2606],\n",
       "                       [-0.8941,  0.6323,  0.0318,  1.5649],\n",
       "                       [-0.9146, -0.4820, -1.2256, -0.2821]],\n",
       "              \n",
       "                      [[ 0.1660, -0.5548, -0.1921, -0.2606],\n",
       "                       [-0.8941,  0.6323,  0.0318,  1.5649],\n",
       "                       [-0.9146, -0.4820, -1.2256, -0.2821]],\n",
       "              \n",
       "                      [[ 0.1660, -0.5548, -0.1921, -0.2606],\n",
       "                       [-0.8941,  0.6323,  0.0318,  1.5649],\n",
       "                       [-0.9146, -0.4820, -1.2256, -0.2821]],\n",
       "              \n",
       "                      [[ 0.1660, -0.5548, -0.1921, -0.2606],\n",
       "                       [-0.8941,  0.6323,  0.0318,  1.5649],\n",
       "                       [-0.9146, -0.4820, -1.2256, -0.2821]],\n",
       "              \n",
       "                      [[ 0.1660, -0.5548, -0.1921, -0.2606],\n",
       "                       [-0.8941,  0.6323,  0.0318,  1.5649],\n",
       "                       [-0.9146, -0.4820, -1.2256, -0.2821]],\n",
       "              \n",
       "                      [[ 0.1660, -0.5548, -0.1921, -0.2606],\n",
       "                       [-0.8941,  0.6323,  0.0318,  1.5649],\n",
       "                       [-0.9146, -0.4820, -1.2256, -0.2821]],\n",
       "              \n",
       "                      [[ 0.1660, -0.5548, -0.1921, -0.2606],\n",
       "                       [-0.8941,  0.6323,  0.0318,  1.5649],\n",
       "                       [-0.9146, -0.4820, -1.2256, -0.2821]],\n",
       "              \n",
       "                      [[ 0.1660, -0.5548, -0.1921, -0.2606],\n",
       "                       [-0.8941,  0.6323,  0.0318,  1.5649],\n",
       "                       [-0.9146, -0.4820, -1.2256, -0.2821]]]),\n",
       "       ),\n",
       "    a: tensor([[[ 0.9012,  1.3270,  0.4984],\n",
       "                [-1.3039,  0.0713,  1.4605]],\n",
       "       \n",
       "               [[ 0.9012,  1.3270,  0.4984],\n",
       "                [-1.3039,  0.0713,  1.4605]],\n",
       "       \n",
       "               [[ 0.9012,  1.3270,  0.4984],\n",
       "                [-1.3039,  0.0713,  1.4605]],\n",
       "       \n",
       "               [[ 0.9012,  1.3270,  0.4984],\n",
       "                [-1.3039,  0.0713,  1.4605]],\n",
       "       \n",
       "               [[ 0.9012,  1.3270,  0.4984],\n",
       "                [-1.3039,  0.0713,  1.4605]],\n",
       "       \n",
       "               [[ 0.9012,  1.3270,  0.4984],\n",
       "                [-1.3039,  0.0713,  1.4605]],\n",
       "       \n",
       "               [[ 0.9012,  1.3270,  0.4984],\n",
       "                [-1.3039,  0.0713,  1.4605]],\n",
       "       \n",
       "               [[ 0.9012,  1.3270,  0.4984],\n",
       "                [-1.3039,  0.0713,  1.4605]]]),\n",
       ")"
      ]
     },
     "execution_count": 25,
     "metadata": {},
     "output_type": "execute_result"
    }
   ],
   "source": [
    "batches = [Batch(**_TREE_DATA_2) for _ in range(8)]\n",
    "\n",
    "Batch.stack(batches)"
   ]
  },
  {
   "cell_type": "code",
   "execution_count": 26,
   "id": "ec9037a3",
   "metadata": {
    "execution": {
     "iopub.execute_input": "2023-02-27T11:50:28.374723Z",
     "iopub.status.busy": "2023-02-27T11:50:28.374140Z",
     "iopub.status.idle": "2023-02-27T11:50:34.764058Z",
     "shell.execute_reply": "2023-02-27T11:50:34.763363Z"
    }
   },
   "outputs": [
    {
     "name": "stdout",
     "output_type": "stream",
     "text": [
      "78.7 µs ± 316 ns per loop (mean ± std. dev. of 7 runs, 10,000 loops each)\n"
     ]
    }
   ],
   "source": [
    "%timeit Batch.stack(batches)"
   ]
  },
  {
   "cell_type": "code",
   "execution_count": 27,
   "id": "cb8ab77e",
   "metadata": {
    "execution": {
     "iopub.execute_input": "2023-02-27T11:50:34.766997Z",
     "iopub.status.busy": "2023-02-27T11:50:34.766624Z",
     "iopub.status.idle": "2023-02-27T11:50:34.774474Z",
     "shell.execute_reply": "2023-02-27T11:50:34.773898Z"
    }
   },
   "outputs": [
    {
     "data": {
      "text/plain": [
       "Batch(\n",
       "    x: Batch(\n",
       "           c: tensor([[ 0.1660, -0.5548, -0.1921, -0.2606],\n",
       "                      [-0.8941,  0.6323,  0.0318,  1.5649],\n",
       "                      [-0.9146, -0.4820, -1.2256, -0.2821],\n",
       "                      [ 0.1660, -0.5548, -0.1921, -0.2606],\n",
       "                      [-0.8941,  0.6323,  0.0318,  1.5649],\n",
       "                      [-0.9146, -0.4820, -1.2256, -0.2821],\n",
       "                      [ 0.1660, -0.5548, -0.1921, -0.2606],\n",
       "                      [-0.8941,  0.6323,  0.0318,  1.5649],\n",
       "                      [-0.9146, -0.4820, -1.2256, -0.2821],\n",
       "                      [ 0.1660, -0.5548, -0.1921, -0.2606],\n",
       "                      [-0.8941,  0.6323,  0.0318,  1.5649],\n",
       "                      [-0.9146, -0.4820, -1.2256, -0.2821],\n",
       "                      [ 0.1660, -0.5548, -0.1921, -0.2606],\n",
       "                      [-0.8941,  0.6323,  0.0318,  1.5649],\n",
       "                      [-0.9146, -0.4820, -1.2256, -0.2821],\n",
       "                      [ 0.1660, -0.5548, -0.1921, -0.2606],\n",
       "                      [-0.8941,  0.6323,  0.0318,  1.5649],\n",
       "                      [-0.9146, -0.4820, -1.2256, -0.2821],\n",
       "                      [ 0.1660, -0.5548, -0.1921, -0.2606],\n",
       "                      [-0.8941,  0.6323,  0.0318,  1.5649],\n",
       "                      [-0.9146, -0.4820, -1.2256, -0.2821],\n",
       "                      [ 0.1660, -0.5548, -0.1921, -0.2606],\n",
       "                      [-0.8941,  0.6323,  0.0318,  1.5649],\n",
       "                      [-0.9146, -0.4820, -1.2256, -0.2821]]),\n",
       "       ),\n",
       "    a: tensor([[ 0.9012,  1.3270,  0.4984],\n",
       "               [-1.3039,  0.0713,  1.4605],\n",
       "               [ 0.9012,  1.3270,  0.4984],\n",
       "               [-1.3039,  0.0713,  1.4605],\n",
       "               [ 0.9012,  1.3270,  0.4984],\n",
       "               [-1.3039,  0.0713,  1.4605],\n",
       "               [ 0.9012,  1.3270,  0.4984],\n",
       "               [-1.3039,  0.0713,  1.4605],\n",
       "               [ 0.9012,  1.3270,  0.4984],\n",
       "               [-1.3039,  0.0713,  1.4605],\n",
       "               [ 0.9012,  1.3270,  0.4984],\n",
       "               [-1.3039,  0.0713,  1.4605],\n",
       "               [ 0.9012,  1.3270,  0.4984],\n",
       "               [-1.3039,  0.0713,  1.4605],\n",
       "               [ 0.9012,  1.3270,  0.4984],\n",
       "               [-1.3039,  0.0713,  1.4605]]),\n",
       ")"
      ]
     },
     "execution_count": 27,
     "metadata": {},
     "output_type": "execute_result"
    }
   ],
   "source": [
    "Batch.cat(batches)"
   ]
  },
  {
   "cell_type": "code",
   "execution_count": 28,
   "id": "18dfb045",
   "metadata": {
    "execution": {
     "iopub.execute_input": "2023-02-27T11:50:34.777137Z",
     "iopub.status.busy": "2023-02-27T11:50:34.776802Z",
     "iopub.status.idle": "2023-02-27T11:50:46.418453Z",
     "shell.execute_reply": "2023-02-27T11:50:46.417651Z"
    }
   },
   "outputs": [
    {
     "name": "stdout",
     "output_type": "stream",
     "text": [
      "143 µs ± 229 ns per loop (mean ± std. dev. of 7 runs, 10,000 loops each)\n"
     ]
    }
   ],
   "source": [
    "%timeit Batch.cat(batches)"
   ]
  },
  {
   "cell_type": "code",
   "execution_count": 29,
   "id": "c6688e51",
   "metadata": {
    "execution": {
     "iopub.execute_input": "2023-02-27T11:50:46.422726Z",
     "iopub.status.busy": "2023-02-27T11:50:46.422128Z",
     "iopub.status.idle": "2023-02-27T11:50:48.995326Z",
     "shell.execute_reply": "2023-02-27T11:50:48.994613Z"
    }
   },
   "outputs": [
    {
     "name": "stdout",
     "output_type": "stream",
     "text": [
      "316 µs ± 1.46 µs per loop (mean ± std. dev. of 7 runs, 1,000 loops each)\n"
     ]
    }
   ],
   "source": [
    "batch = Batch({\n",
    "    'obs': torch.randn(8, 4, 84, 84),\n",
    "    'action': torch.randint(0, 6, size=(8, 1,)),\n",
    "    'reward': torch.rand(8, 1)}\n",
    ")\n",
    "\n",
    "%timeit list(Batch.split(batch, 1, shuffle=False, merge_last=True))"
   ]
  },
  {
   "cell_type": "code",
   "execution_count": null,
   "id": "2539fbd9",
   "metadata": {},
   "outputs": [],
   "source": []
  }
 ],
 "metadata": {
  "kernelspec": {
   "display_name": "Python 3 (ipykernel)",
   "language": "python",
   "name": "python3"
  },
  "language_info": {
   "codemirror_mode": {
    "name": "ipython",
    "version": 3
   },
   "file_extension": ".py",
   "mimetype": "text/x-python",
   "name": "python",
   "nbconvert_exporter": "python",
   "pygments_lexer": "ipython3",
   "version": "3.8.16"
  }
 },
 "nbformat": 4,
 "nbformat_minor": 5
}
