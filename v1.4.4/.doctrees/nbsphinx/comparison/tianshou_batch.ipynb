{
 "cells": [
  {
   "cell_type": "markdown",
   "id": "9d39d946",
   "metadata": {},
   "source": [
    "# Comparison Between TreeValue and Tianshou Batch"
   ]
  },
  {
   "cell_type": "markdown",
   "id": "3c6db2d4",
   "metadata": {},
   "source": [
    "In this section, we will take a look at the feature and performance of the [Tianshou Batch](https://github.com/thu-ml/tianshou) library, which is developed by Tsinghua Machine Learning Group."
   ]
  },
  {
   "cell_type": "markdown",
   "id": "069361b0",
   "metadata": {},
   "source": [
    "Before starting the comparison, let us define some thing."
   ]
  },
  {
   "cell_type": "code",
   "execution_count": 1,
   "id": "06fc8d26",
   "metadata": {
    "execution": {
     "iopub.execute_input": "2023-02-12T18:18:28.988418Z",
     "iopub.status.busy": "2023-02-12T18:18:28.988025Z",
     "iopub.status.idle": "2023-02-12T18:18:29.884615Z",
     "shell.execute_reply": "2023-02-12T18:18:29.883673Z"
    }
   },
   "outputs": [
    {
     "name": "stderr",
     "output_type": "stream",
     "text": [
      "/opt/hostedtoolcache/Python/3.8.16/x64/lib/python3.8/site-packages/tqdm/auto.py:22: TqdmWarning: IProgress not found. Please update jupyter and ipywidgets. See https://ipywidgets.readthedocs.io/en/stable/user_install.html\n",
      "  from .autonotebook import tqdm as notebook_tqdm\n"
     ]
    }
   ],
   "source": [
    "import torch \n",
    "\n",
    "_TREE_DATA_1 = {'a': 1, 'b': 2, 'x': {'c': 3, 'd': 4}}\n",
    "_TREE_DATA_2 = {\n",
    "    'a': torch.randn(2, 3), \n",
    "    'x': {\n",
    "        'c': torch.randn(3, 4)\n",
    "    },\n",
    "}\n",
    "_TREE_DATA_3 = {\n",
    "    'obs': torch.randn(4, 84, 84),\n",
    "    'action': torch.randint(0, 6, size=(1,)),\n",
    "    'reward': torch.rand(1),\n",
    "}"
   ]
  },
  {
   "cell_type": "markdown",
   "id": "83461b25",
   "metadata": {},
   "source": [
    "## Read and Write Operation"
   ]
  },
  {
   "cell_type": "markdown",
   "id": "067b3f73",
   "metadata": {},
   "source": [
    "Reading and writing are the two most common operations in the tree data structure based on the data model (TreeValue and Tianshou Batch both belong to this type), so this section will compare the reading and writing performance of these two libraries."
   ]
  },
  {
   "cell_type": "markdown",
   "id": "5d09a5b7",
   "metadata": {},
   "source": [
    "### TreeValue's Get and Set"
   ]
  },
  {
   "cell_type": "code",
   "execution_count": 2,
   "id": "9519c4bb",
   "metadata": {
    "execution": {
     "iopub.execute_input": "2023-02-12T18:18:29.887830Z",
     "iopub.status.busy": "2023-02-12T18:18:29.887435Z",
     "iopub.status.idle": "2023-02-12T18:18:29.920705Z",
     "shell.execute_reply": "2023-02-12T18:18:29.919274Z"
    }
   },
   "outputs": [],
   "source": [
    "from treevalue import FastTreeValue\n",
    "\n",
    "t = FastTreeValue(_TREE_DATA_2)"
   ]
  },
  {
   "cell_type": "code",
   "execution_count": 3,
   "id": "11c37677",
   "metadata": {
    "execution": {
     "iopub.execute_input": "2023-02-12T18:18:29.923144Z",
     "iopub.status.busy": "2023-02-12T18:18:29.922815Z",
     "iopub.status.idle": "2023-02-12T18:18:29.932262Z",
     "shell.execute_reply": "2023-02-12T18:18:29.931373Z"
    }
   },
   "outputs": [
    {
     "data": {
      "text/plain": [
       "<FastTreeValue 0x7f6836a48df0>\n",
       "├── 'a' --> tensor([[-0.3517,  1.2410,  0.3271],\n",
       "│                   [ 1.8247, -0.2131, -0.2898]])\n",
       "└── 'x' --> <FastTreeValue 0x7f6836a48d30>\n",
       "    └── 'c' --> tensor([[-0.4572, -1.7825, -2.1356, -0.1295],\n",
       "                        [-0.2411,  0.5536,  0.3949, -0.7374],\n",
       "                        [-0.1403, -0.3730,  0.8133, -1.4093]])"
      ]
     },
     "execution_count": 3,
     "metadata": {},
     "output_type": "execute_result"
    }
   ],
   "source": [
    "t"
   ]
  },
  {
   "cell_type": "code",
   "execution_count": 4,
   "id": "fd70b0b9",
   "metadata": {
    "execution": {
     "iopub.execute_input": "2023-02-12T18:18:29.934803Z",
     "iopub.status.busy": "2023-02-12T18:18:29.934475Z",
     "iopub.status.idle": "2023-02-12T18:18:29.940032Z",
     "shell.execute_reply": "2023-02-12T18:18:29.939342Z"
    }
   },
   "outputs": [
    {
     "data": {
      "text/plain": [
       "tensor([[-0.3517,  1.2410,  0.3271],\n",
       "        [ 1.8247, -0.2131, -0.2898]])"
      ]
     },
     "execution_count": 4,
     "metadata": {},
     "output_type": "execute_result"
    }
   ],
   "source": [
    "t.a"
   ]
  },
  {
   "cell_type": "code",
   "execution_count": 5,
   "id": "c18197bd",
   "metadata": {
    "execution": {
     "iopub.execute_input": "2023-02-12T18:18:29.942623Z",
     "iopub.status.busy": "2023-02-12T18:18:29.942297Z",
     "iopub.status.idle": "2023-02-12T18:18:34.904962Z",
     "shell.execute_reply": "2023-02-12T18:18:34.904194Z"
    }
   },
   "outputs": [
    {
     "name": "stdout",
     "output_type": "stream",
     "text": [
      "61.1 ns ± 0.0717 ns per loop (mean ± std. dev. of 7 runs, 10,000,000 loops each)\n"
     ]
    }
   ],
   "source": [
    "%timeit t.a"
   ]
  },
  {
   "cell_type": "code",
   "execution_count": 6,
   "id": "bd52f867",
   "metadata": {
    "execution": {
     "iopub.execute_input": "2023-02-12T18:18:34.907696Z",
     "iopub.status.busy": "2023-02-12T18:18:34.907340Z",
     "iopub.status.idle": "2023-02-12T18:18:34.913239Z",
     "shell.execute_reply": "2023-02-12T18:18:34.912617Z"
    }
   },
   "outputs": [
    {
     "data": {
      "text/plain": [
       "<FastTreeValue 0x7f6836a48df0>\n",
       "├── 'a' --> tensor([[-2.6814, -0.0508,  0.3781],\n",
       "│                   [-0.8164, -1.9762, -1.5554]])\n",
       "└── 'x' --> <FastTreeValue 0x7f6836a48d30>\n",
       "    └── 'c' --> tensor([[-0.4572, -1.7825, -2.1356, -0.1295],\n",
       "                        [-0.2411,  0.5536,  0.3949, -0.7374],\n",
       "                        [-0.1403, -0.3730,  0.8133, -1.4093]])"
      ]
     },
     "execution_count": 6,
     "metadata": {},
     "output_type": "execute_result"
    }
   ],
   "source": [
    "new_value = torch.randn(2, 3)\n",
    "t.a = new_value\n",
    "\n",
    "t"
   ]
  },
  {
   "cell_type": "code",
   "execution_count": 7,
   "id": "bbe04d1c",
   "metadata": {
    "execution": {
     "iopub.execute_input": "2023-02-12T18:18:34.915566Z",
     "iopub.status.busy": "2023-02-12T18:18:34.915232Z",
     "iopub.status.idle": "2023-02-12T18:18:40.096417Z",
     "shell.execute_reply": "2023-02-12T18:18:40.095675Z"
    }
   },
   "outputs": [
    {
     "name": "stdout",
     "output_type": "stream",
     "text": [
      "63.6 ns ± 0.027 ns per loop (mean ± std. dev. of 7 runs, 10,000,000 loops each)\n"
     ]
    }
   ],
   "source": [
    "%timeit t.a = new_value"
   ]
  },
  {
   "cell_type": "markdown",
   "id": "48c49731",
   "metadata": {},
   "source": [
    "### Tianshou Batch's Get and Set"
   ]
  },
  {
   "cell_type": "code",
   "execution_count": 8,
   "id": "f1bb14c1",
   "metadata": {
    "execution": {
     "iopub.execute_input": "2023-02-12T18:18:40.099199Z",
     "iopub.status.busy": "2023-02-12T18:18:40.098859Z",
     "iopub.status.idle": "2023-02-12T18:18:40.420083Z",
     "shell.execute_reply": "2023-02-12T18:18:40.419429Z"
    }
   },
   "outputs": [],
   "source": [
    "from tianshou.data import Batch\n",
    "\n",
    "b = Batch(**_TREE_DATA_2)"
   ]
  },
  {
   "cell_type": "code",
   "execution_count": 9,
   "id": "cb0777c3",
   "metadata": {
    "execution": {
     "iopub.execute_input": "2023-02-12T18:18:40.423619Z",
     "iopub.status.busy": "2023-02-12T18:18:40.422906Z",
     "iopub.status.idle": "2023-02-12T18:18:40.429052Z",
     "shell.execute_reply": "2023-02-12T18:18:40.428447Z"
    }
   },
   "outputs": [
    {
     "data": {
      "text/plain": [
       "Batch(\n",
       "    a: tensor([[-0.3517,  1.2410,  0.3271],\n",
       "               [ 1.8247, -0.2131, -0.2898]]),\n",
       "    x: Batch(\n",
       "           c: tensor([[-0.4572, -1.7825, -2.1356, -0.1295],\n",
       "                      [-0.2411,  0.5536,  0.3949, -0.7374],\n",
       "                      [-0.1403, -0.3730,  0.8133, -1.4093]]),\n",
       "       ),\n",
       ")"
      ]
     },
     "execution_count": 9,
     "metadata": {},
     "output_type": "execute_result"
    }
   ],
   "source": [
    "b"
   ]
  },
  {
   "cell_type": "code",
   "execution_count": 10,
   "id": "43ef8ea3",
   "metadata": {
    "execution": {
     "iopub.execute_input": "2023-02-12T18:18:40.431611Z",
     "iopub.status.busy": "2023-02-12T18:18:40.431099Z",
     "iopub.status.idle": "2023-02-12T18:18:40.435726Z",
     "shell.execute_reply": "2023-02-12T18:18:40.435134Z"
    }
   },
   "outputs": [
    {
     "data": {
      "text/plain": [
       "tensor([[-0.3517,  1.2410,  0.3271],\n",
       "        [ 1.8247, -0.2131, -0.2898]])"
      ]
     },
     "execution_count": 10,
     "metadata": {},
     "output_type": "execute_result"
    }
   ],
   "source": [
    "b.a"
   ]
  },
  {
   "cell_type": "code",
   "execution_count": 11,
   "id": "b785ab72",
   "metadata": {
    "execution": {
     "iopub.execute_input": "2023-02-12T18:18:40.437994Z",
     "iopub.status.busy": "2023-02-12T18:18:40.437662Z",
     "iopub.status.idle": "2023-02-12T18:18:44.965016Z",
     "shell.execute_reply": "2023-02-12T18:18:44.964303Z"
    }
   },
   "outputs": [
    {
     "name": "stdout",
     "output_type": "stream",
     "text": [
      "55.5 ns ± 0.0236 ns per loop (mean ± std. dev. of 7 runs, 10,000,000 loops each)\n"
     ]
    }
   ],
   "source": [
    "%timeit b.a"
   ]
  },
  {
   "cell_type": "code",
   "execution_count": 12,
   "id": "ad54dc69",
   "metadata": {
    "execution": {
     "iopub.execute_input": "2023-02-12T18:18:44.967845Z",
     "iopub.status.busy": "2023-02-12T18:18:44.967329Z",
     "iopub.status.idle": "2023-02-12T18:18:44.973548Z",
     "shell.execute_reply": "2023-02-12T18:18:44.972970Z"
    }
   },
   "outputs": [
    {
     "data": {
      "text/plain": [
       "Batch(\n",
       "    a: tensor([[-1.6079, -0.6181, -0.5990],\n",
       "               [-0.3148, -0.4112, -0.1404]]),\n",
       "    x: Batch(\n",
       "           c: tensor([[-0.4572, -1.7825, -2.1356, -0.1295],\n",
       "                      [-0.2411,  0.5536,  0.3949, -0.7374],\n",
       "                      [-0.1403, -0.3730,  0.8133, -1.4093]]),\n",
       "       ),\n",
       ")"
      ]
     },
     "execution_count": 12,
     "metadata": {},
     "output_type": "execute_result"
    }
   ],
   "source": [
    "new_value = torch.randn(2, 3)\n",
    "b.a = new_value\n",
    "\n",
    "b"
   ]
  },
  {
   "cell_type": "code",
   "execution_count": 13,
   "id": "29b1d0bf",
   "metadata": {
    "execution": {
     "iopub.execute_input": "2023-02-12T18:18:44.975874Z",
     "iopub.status.busy": "2023-02-12T18:18:44.975539Z",
     "iopub.status.idle": "2023-02-12T18:18:48.862976Z",
     "shell.execute_reply": "2023-02-12T18:18:48.862267Z"
    }
   },
   "outputs": [
    {
     "name": "stdout",
     "output_type": "stream",
     "text": [
      "479 ns ± 0.0525 ns per loop (mean ± std. dev. of 7 runs, 1,000,000 loops each)\n"
     ]
    }
   ],
   "source": [
    "%timeit b.a = new_value"
   ]
  },
  {
   "cell_type": "markdown",
   "id": "b61ad1d0",
   "metadata": {},
   "source": [
    "## Initialization"
   ]
  },
  {
   "cell_type": "markdown",
   "id": "d70f0d54",
   "metadata": {},
   "source": [
    "### TreeValue's Initialization"
   ]
  },
  {
   "cell_type": "code",
   "execution_count": 14,
   "id": "d32a679b",
   "metadata": {
    "execution": {
     "iopub.execute_input": "2023-02-12T18:18:48.865541Z",
     "iopub.status.busy": "2023-02-12T18:18:48.865315Z",
     "iopub.status.idle": "2023-02-12T18:18:55.588165Z",
     "shell.execute_reply": "2023-02-12T18:18:55.587423Z"
    }
   },
   "outputs": [
    {
     "name": "stdout",
     "output_type": "stream",
     "text": [
      "828 ns ± 0.0602 ns per loop (mean ± std. dev. of 7 runs, 1,000,000 loops each)\n"
     ]
    }
   ],
   "source": [
    "%timeit FastTreeValue(_TREE_DATA_1)"
   ]
  },
  {
   "cell_type": "markdown",
   "id": "24f3707b",
   "metadata": {},
   "source": [
    "### Tianshou Batch's Initialization"
   ]
  },
  {
   "cell_type": "code",
   "execution_count": 15,
   "id": "ac3958df",
   "metadata": {
    "execution": {
     "iopub.execute_input": "2023-02-12T18:18:55.591361Z",
     "iopub.status.busy": "2023-02-12T18:18:55.590795Z",
     "iopub.status.idle": "2023-02-12T18:19:05.102692Z",
     "shell.execute_reply": "2023-02-12T18:19:05.101932Z"
    }
   },
   "outputs": [
    {
     "name": "stdout",
     "output_type": "stream",
     "text": [
      "11.7 µs ± 64.6 ns per loop (mean ± std. dev. of 7 runs, 100,000 loops each)\n"
     ]
    }
   ],
   "source": [
    "%timeit Batch(**_TREE_DATA_1)"
   ]
  },
  {
   "cell_type": "markdown",
   "id": "1ab82e2d",
   "metadata": {},
   "source": [
    "## Deep Copy Operation"
   ]
  },
  {
   "cell_type": "code",
   "execution_count": 16,
   "id": "210a9442",
   "metadata": {
    "execution": {
     "iopub.execute_input": "2023-02-12T18:19:05.105459Z",
     "iopub.status.busy": "2023-02-12T18:19:05.105100Z",
     "iopub.status.idle": "2023-02-12T18:19:05.109380Z",
     "shell.execute_reply": "2023-02-12T18:19:05.108439Z"
    }
   },
   "outputs": [],
   "source": [
    "import copy"
   ]
  },
  {
   "cell_type": "markdown",
   "id": "5a736274",
   "metadata": {},
   "source": [
    "### Deep Copy of TreeValue"
   ]
  },
  {
   "cell_type": "code",
   "execution_count": 17,
   "id": "f9bcadd6",
   "metadata": {
    "execution": {
     "iopub.execute_input": "2023-02-12T18:19:05.111745Z",
     "iopub.status.busy": "2023-02-12T18:19:05.111419Z",
     "iopub.status.idle": "2023-02-12T18:19:16.157079Z",
     "shell.execute_reply": "2023-02-12T18:19:16.156470Z"
    }
   },
   "outputs": [
    {
     "name": "stdout",
     "output_type": "stream",
     "text": [
      "136 µs ± 126 ns per loop (mean ± std. dev. of 7 runs, 10,000 loops each)\n"
     ]
    }
   ],
   "source": [
    "t3 = FastTreeValue(_TREE_DATA_3)\n",
    "%timeit copy.deepcopy(t3)"
   ]
  },
  {
   "cell_type": "markdown",
   "id": "bf8be7ea",
   "metadata": {},
   "source": [
    "### Deep Copy of Tianshou Batch"
   ]
  },
  {
   "cell_type": "code",
   "execution_count": 18,
   "id": "91998e6f",
   "metadata": {
    "execution": {
     "iopub.execute_input": "2023-02-12T18:19:16.160917Z",
     "iopub.status.busy": "2023-02-12T18:19:16.159962Z",
     "iopub.status.idle": "2023-02-12T18:19:27.410652Z",
     "shell.execute_reply": "2023-02-12T18:19:27.409970Z"
    }
   },
   "outputs": [
    {
     "name": "stdout",
     "output_type": "stream",
     "text": [
      "139 µs ± 292 ns per loop (mean ± std. dev. of 7 runs, 10,000 loops each)\n"
     ]
    }
   ],
   "source": [
    "b3 = Batch(**_TREE_DATA_3)\n",
    "%timeit copy.deepcopy(b3)"
   ]
  },
  {
   "cell_type": "markdown",
   "id": "223162fb",
   "metadata": {},
   "source": [
    "## Stack, Concat and Split Operation"
   ]
  },
  {
   "cell_type": "markdown",
   "id": "85fa4a73",
   "metadata": {},
   "source": [
    "### Performance of TreeValue"
   ]
  },
  {
   "cell_type": "code",
   "execution_count": 19,
   "id": "a0c2b697",
   "metadata": {
    "execution": {
     "iopub.execute_input": "2023-02-12T18:19:27.414003Z",
     "iopub.status.busy": "2023-02-12T18:19:27.413309Z",
     "iopub.status.idle": "2023-02-12T18:19:27.417661Z",
     "shell.execute_reply": "2023-02-12T18:19:27.416765Z"
    }
   },
   "outputs": [],
   "source": [
    "trees = [FastTreeValue(_TREE_DATA_2) for _ in range(8)]"
   ]
  },
  {
   "cell_type": "code",
   "execution_count": 20,
   "id": "017ea5a5",
   "metadata": {
    "execution": {
     "iopub.execute_input": "2023-02-12T18:19:27.420024Z",
     "iopub.status.busy": "2023-02-12T18:19:27.419807Z",
     "iopub.status.idle": "2023-02-12T18:19:27.426749Z",
     "shell.execute_reply": "2023-02-12T18:19:27.426139Z"
    }
   },
   "outputs": [
    {
     "data": {
      "text/plain": [
       "<FastTreeValue 0x7f680beb8f10>\n",
       "├── 'a' --> tensor([[[-0.3517,  1.2410,  0.3271],\n",
       "│                    [ 1.8247, -0.2131, -0.2898]],\n",
       "│           \n",
       "│                   [[-0.3517,  1.2410,  0.3271],\n",
       "│                    [ 1.8247, -0.2131, -0.2898]],\n",
       "│           \n",
       "│                   [[-0.3517,  1.2410,  0.3271],\n",
       "│                    [ 1.8247, -0.2131, -0.2898]],\n",
       "│           \n",
       "│                   [[-0.3517,  1.2410,  0.3271],\n",
       "│                    [ 1.8247, -0.2131, -0.2898]],\n",
       "│           \n",
       "│                   [[-0.3517,  1.2410,  0.3271],\n",
       "│                    [ 1.8247, -0.2131, -0.2898]],\n",
       "│           \n",
       "│                   [[-0.3517,  1.2410,  0.3271],\n",
       "│                    [ 1.8247, -0.2131, -0.2898]],\n",
       "│           \n",
       "│                   [[-0.3517,  1.2410,  0.3271],\n",
       "│                    [ 1.8247, -0.2131, -0.2898]],\n",
       "│           \n",
       "│                   [[-0.3517,  1.2410,  0.3271],\n",
       "│                    [ 1.8247, -0.2131, -0.2898]]])\n",
       "└── 'x' --> <FastTreeValue 0x7f680beb8e50>\n",
       "    └── 'c' --> tensor([[[-0.4572, -1.7825, -2.1356, -0.1295],\n",
       "                         [-0.2411,  0.5536,  0.3949, -0.7374],\n",
       "                         [-0.1403, -0.3730,  0.8133, -1.4093]],\n",
       "                \n",
       "                        [[-0.4572, -1.7825, -2.1356, -0.1295],\n",
       "                         [-0.2411,  0.5536,  0.3949, -0.7374],\n",
       "                         [-0.1403, -0.3730,  0.8133, -1.4093]],\n",
       "                \n",
       "                        [[-0.4572, -1.7825, -2.1356, -0.1295],\n",
       "                         [-0.2411,  0.5536,  0.3949, -0.7374],\n",
       "                         [-0.1403, -0.3730,  0.8133, -1.4093]],\n",
       "                \n",
       "                        [[-0.4572, -1.7825, -2.1356, -0.1295],\n",
       "                         [-0.2411,  0.5536,  0.3949, -0.7374],\n",
       "                         [-0.1403, -0.3730,  0.8133, -1.4093]],\n",
       "                \n",
       "                        [[-0.4572, -1.7825, -2.1356, -0.1295],\n",
       "                         [-0.2411,  0.5536,  0.3949, -0.7374],\n",
       "                         [-0.1403, -0.3730,  0.8133, -1.4093]],\n",
       "                \n",
       "                        [[-0.4572, -1.7825, -2.1356, -0.1295],\n",
       "                         [-0.2411,  0.5536,  0.3949, -0.7374],\n",
       "                         [-0.1403, -0.3730,  0.8133, -1.4093]],\n",
       "                \n",
       "                        [[-0.4572, -1.7825, -2.1356, -0.1295],\n",
       "                         [-0.2411,  0.5536,  0.3949, -0.7374],\n",
       "                         [-0.1403, -0.3730,  0.8133, -1.4093]],\n",
       "                \n",
       "                        [[-0.4572, -1.7825, -2.1356, -0.1295],\n",
       "                         [-0.2411,  0.5536,  0.3949, -0.7374],\n",
       "                         [-0.1403, -0.3730,  0.8133, -1.4093]]])"
      ]
     },
     "execution_count": 20,
     "metadata": {},
     "output_type": "execute_result"
    }
   ],
   "source": [
    "t_stack = FastTreeValue.func(subside=True)(torch.stack)\n",
    "\n",
    "t_stack(trees)"
   ]
  },
  {
   "cell_type": "code",
   "execution_count": 21,
   "id": "f8b3f415",
   "metadata": {
    "execution": {
     "iopub.execute_input": "2023-02-12T18:19:27.429035Z",
     "iopub.status.busy": "2023-02-12T18:19:27.428820Z",
     "iopub.status.idle": "2023-02-12T18:19:29.999569Z",
     "shell.execute_reply": "2023-02-12T18:19:29.998820Z"
    }
   },
   "outputs": [
    {
     "name": "stdout",
     "output_type": "stream",
     "text": [
      "31.6 µs ± 84.6 ns per loop (mean ± std. dev. of 7 runs, 10,000 loops each)\n"
     ]
    }
   ],
   "source": [
    "%timeit t_stack(trees)"
   ]
  },
  {
   "cell_type": "code",
   "execution_count": 22,
   "id": "94b56771",
   "metadata": {
    "execution": {
     "iopub.execute_input": "2023-02-12T18:19:30.003281Z",
     "iopub.status.busy": "2023-02-12T18:19:30.002162Z",
     "iopub.status.idle": "2023-02-12T18:19:30.011008Z",
     "shell.execute_reply": "2023-02-12T18:19:30.010440Z"
    }
   },
   "outputs": [
    {
     "data": {
      "text/plain": [
       "<FastTreeValue 0x7f680beb81c0>\n",
       "├── 'a' --> tensor([[-0.3517,  1.2410,  0.3271],\n",
       "│                   [ 1.8247, -0.2131, -0.2898],\n",
       "│                   [-0.3517,  1.2410,  0.3271],\n",
       "│                   [ 1.8247, -0.2131, -0.2898],\n",
       "│                   [-0.3517,  1.2410,  0.3271],\n",
       "│                   [ 1.8247, -0.2131, -0.2898],\n",
       "│                   [-0.3517,  1.2410,  0.3271],\n",
       "│                   [ 1.8247, -0.2131, -0.2898],\n",
       "│                   [-0.3517,  1.2410,  0.3271],\n",
       "│                   [ 1.8247, -0.2131, -0.2898],\n",
       "│                   [-0.3517,  1.2410,  0.3271],\n",
       "│                   [ 1.8247, -0.2131, -0.2898],\n",
       "│                   [-0.3517,  1.2410,  0.3271],\n",
       "│                   [ 1.8247, -0.2131, -0.2898],\n",
       "│                   [-0.3517,  1.2410,  0.3271],\n",
       "│                   [ 1.8247, -0.2131, -0.2898]])\n",
       "└── 'x' --> <FastTreeValue 0x7f6787bccb80>\n",
       "    └── 'c' --> tensor([[-0.4572, -1.7825, -2.1356, -0.1295],\n",
       "                        [-0.2411,  0.5536,  0.3949, -0.7374],\n",
       "                        [-0.1403, -0.3730,  0.8133, -1.4093],\n",
       "                        [-0.4572, -1.7825, -2.1356, -0.1295],\n",
       "                        [-0.2411,  0.5536,  0.3949, -0.7374],\n",
       "                        [-0.1403, -0.3730,  0.8133, -1.4093],\n",
       "                        [-0.4572, -1.7825, -2.1356, -0.1295],\n",
       "                        [-0.2411,  0.5536,  0.3949, -0.7374],\n",
       "                        [-0.1403, -0.3730,  0.8133, -1.4093],\n",
       "                        [-0.4572, -1.7825, -2.1356, -0.1295],\n",
       "                        [-0.2411,  0.5536,  0.3949, -0.7374],\n",
       "                        [-0.1403, -0.3730,  0.8133, -1.4093],\n",
       "                        [-0.4572, -1.7825, -2.1356, -0.1295],\n",
       "                        [-0.2411,  0.5536,  0.3949, -0.7374],\n",
       "                        [-0.1403, -0.3730,  0.8133, -1.4093],\n",
       "                        [-0.4572, -1.7825, -2.1356, -0.1295],\n",
       "                        [-0.2411,  0.5536,  0.3949, -0.7374],\n",
       "                        [-0.1403, -0.3730,  0.8133, -1.4093],\n",
       "                        [-0.4572, -1.7825, -2.1356, -0.1295],\n",
       "                        [-0.2411,  0.5536,  0.3949, -0.7374],\n",
       "                        [-0.1403, -0.3730,  0.8133, -1.4093],\n",
       "                        [-0.4572, -1.7825, -2.1356, -0.1295],\n",
       "                        [-0.2411,  0.5536,  0.3949, -0.7374],\n",
       "                        [-0.1403, -0.3730,  0.8133, -1.4093]])"
      ]
     },
     "execution_count": 22,
     "metadata": {},
     "output_type": "execute_result"
    }
   ],
   "source": [
    "t_cat = FastTreeValue.func(subside=True)(torch.cat)\n",
    "\n",
    "t_cat(trees)"
   ]
  },
  {
   "cell_type": "code",
   "execution_count": 23,
   "id": "5e9c06a6",
   "metadata": {
    "execution": {
     "iopub.execute_input": "2023-02-12T18:19:30.013742Z",
     "iopub.status.busy": "2023-02-12T18:19:30.013277Z",
     "iopub.status.idle": "2023-02-12T18:19:32.398538Z",
     "shell.execute_reply": "2023-02-12T18:19:32.397875Z"
    }
   },
   "outputs": [
    {
     "name": "stdout",
     "output_type": "stream",
     "text": [
      "29.3 µs ± 57.3 ns per loop (mean ± std. dev. of 7 runs, 10,000 loops each)\n"
     ]
    }
   ],
   "source": [
    "%timeit t_cat(trees)"
   ]
  },
  {
   "cell_type": "code",
   "execution_count": 24,
   "id": "a3ab5c8f",
   "metadata": {
    "execution": {
     "iopub.execute_input": "2023-02-12T18:19:32.401573Z",
     "iopub.status.busy": "2023-02-12T18:19:32.401212Z",
     "iopub.status.idle": "2023-02-12T18:19:37.150907Z",
     "shell.execute_reply": "2023-02-12T18:19:37.150158Z"
    }
   },
   "outputs": [
    {
     "name": "stdout",
     "output_type": "stream",
     "text": [
      "58.4 µs ± 112 ns per loop (mean ± std. dev. of 7 runs, 10,000 loops each)\n"
     ]
    }
   ],
   "source": [
    "t_split = FastTreeValue.func(rise=True)(torch.split)\n",
    "tree = FastTreeValue({\n",
    "    'obs': torch.randn(8, 4, 84, 84),\n",
    "    'action': torch.randint(0, 6, size=(8, 1,)),\n",
    "    'reward': torch.rand(8, 1),\n",
    "})\n",
    "\n",
    "%timeit t_split(tree, 1)"
   ]
  },
  {
   "cell_type": "markdown",
   "id": "31c3ec0b",
   "metadata": {},
   "source": [
    "### Performance of Tianshou Batch"
   ]
  },
  {
   "cell_type": "code",
   "execution_count": 25,
   "id": "9ead828a",
   "metadata": {
    "execution": {
     "iopub.execute_input": "2023-02-12T18:19:37.154040Z",
     "iopub.status.busy": "2023-02-12T18:19:37.153541Z",
     "iopub.status.idle": "2023-02-12T18:19:37.161838Z",
     "shell.execute_reply": "2023-02-12T18:19:37.161269Z"
    }
   },
   "outputs": [
    {
     "data": {
      "text/plain": [
       "Batch(\n",
       "    x: Batch(\n",
       "           c: tensor([[[-0.4572, -1.7825, -2.1356, -0.1295],\n",
       "                       [-0.2411,  0.5536,  0.3949, -0.7374],\n",
       "                       [-0.1403, -0.3730,  0.8133, -1.4093]],\n",
       "              \n",
       "                      [[-0.4572, -1.7825, -2.1356, -0.1295],\n",
       "                       [-0.2411,  0.5536,  0.3949, -0.7374],\n",
       "                       [-0.1403, -0.3730,  0.8133, -1.4093]],\n",
       "              \n",
       "                      [[-0.4572, -1.7825, -2.1356, -0.1295],\n",
       "                       [-0.2411,  0.5536,  0.3949, -0.7374],\n",
       "                       [-0.1403, -0.3730,  0.8133, -1.4093]],\n",
       "              \n",
       "                      [[-0.4572, -1.7825, -2.1356, -0.1295],\n",
       "                       [-0.2411,  0.5536,  0.3949, -0.7374],\n",
       "                       [-0.1403, -0.3730,  0.8133, -1.4093]],\n",
       "              \n",
       "                      [[-0.4572, -1.7825, -2.1356, -0.1295],\n",
       "                       [-0.2411,  0.5536,  0.3949, -0.7374],\n",
       "                       [-0.1403, -0.3730,  0.8133, -1.4093]],\n",
       "              \n",
       "                      [[-0.4572, -1.7825, -2.1356, -0.1295],\n",
       "                       [-0.2411,  0.5536,  0.3949, -0.7374],\n",
       "                       [-0.1403, -0.3730,  0.8133, -1.4093]],\n",
       "              \n",
       "                      [[-0.4572, -1.7825, -2.1356, -0.1295],\n",
       "                       [-0.2411,  0.5536,  0.3949, -0.7374],\n",
       "                       [-0.1403, -0.3730,  0.8133, -1.4093]],\n",
       "              \n",
       "                      [[-0.4572, -1.7825, -2.1356, -0.1295],\n",
       "                       [-0.2411,  0.5536,  0.3949, -0.7374],\n",
       "                       [-0.1403, -0.3730,  0.8133, -1.4093]]]),\n",
       "       ),\n",
       "    a: tensor([[[-0.3517,  1.2410,  0.3271],\n",
       "                [ 1.8247, -0.2131, -0.2898]],\n",
       "       \n",
       "               [[-0.3517,  1.2410,  0.3271],\n",
       "                [ 1.8247, -0.2131, -0.2898]],\n",
       "       \n",
       "               [[-0.3517,  1.2410,  0.3271],\n",
       "                [ 1.8247, -0.2131, -0.2898]],\n",
       "       \n",
       "               [[-0.3517,  1.2410,  0.3271],\n",
       "                [ 1.8247, -0.2131, -0.2898]],\n",
       "       \n",
       "               [[-0.3517,  1.2410,  0.3271],\n",
       "                [ 1.8247, -0.2131, -0.2898]],\n",
       "       \n",
       "               [[-0.3517,  1.2410,  0.3271],\n",
       "                [ 1.8247, -0.2131, -0.2898]],\n",
       "       \n",
       "               [[-0.3517,  1.2410,  0.3271],\n",
       "                [ 1.8247, -0.2131, -0.2898]],\n",
       "       \n",
       "               [[-0.3517,  1.2410,  0.3271],\n",
       "                [ 1.8247, -0.2131, -0.2898]]]),\n",
       ")"
      ]
     },
     "execution_count": 25,
     "metadata": {},
     "output_type": "execute_result"
    }
   ],
   "source": [
    "batches = [Batch(**_TREE_DATA_2) for _ in range(8)]\n",
    "\n",
    "Batch.stack(batches)"
   ]
  },
  {
   "cell_type": "code",
   "execution_count": 26,
   "id": "ec9037a3",
   "metadata": {
    "execution": {
     "iopub.execute_input": "2023-02-12T18:19:37.164349Z",
     "iopub.status.busy": "2023-02-12T18:19:37.163838Z",
     "iopub.status.idle": "2023-02-12T18:19:44.189877Z",
     "shell.execute_reply": "2023-02-12T18:19:44.188852Z"
    }
   },
   "outputs": [
    {
     "name": "stdout",
     "output_type": "stream",
     "text": [
      "86.4 µs ± 287 ns per loop (mean ± std. dev. of 7 runs, 10,000 loops each)\n"
     ]
    }
   ],
   "source": [
    "%timeit Batch.stack(batches)"
   ]
  },
  {
   "cell_type": "code",
   "execution_count": 27,
   "id": "cb8ab77e",
   "metadata": {
    "execution": {
     "iopub.execute_input": "2023-02-12T18:19:44.192598Z",
     "iopub.status.busy": "2023-02-12T18:19:44.192219Z",
     "iopub.status.idle": "2023-02-12T18:19:44.199034Z",
     "shell.execute_reply": "2023-02-12T18:19:44.198413Z"
    }
   },
   "outputs": [
    {
     "data": {
      "text/plain": [
       "Batch(\n",
       "    x: Batch(\n",
       "           c: tensor([[-0.4572, -1.7825, -2.1356, -0.1295],\n",
       "                      [-0.2411,  0.5536,  0.3949, -0.7374],\n",
       "                      [-0.1403, -0.3730,  0.8133, -1.4093],\n",
       "                      [-0.4572, -1.7825, -2.1356, -0.1295],\n",
       "                      [-0.2411,  0.5536,  0.3949, -0.7374],\n",
       "                      [-0.1403, -0.3730,  0.8133, -1.4093],\n",
       "                      [-0.4572, -1.7825, -2.1356, -0.1295],\n",
       "                      [-0.2411,  0.5536,  0.3949, -0.7374],\n",
       "                      [-0.1403, -0.3730,  0.8133, -1.4093],\n",
       "                      [-0.4572, -1.7825, -2.1356, -0.1295],\n",
       "                      [-0.2411,  0.5536,  0.3949, -0.7374],\n",
       "                      [-0.1403, -0.3730,  0.8133, -1.4093],\n",
       "                      [-0.4572, -1.7825, -2.1356, -0.1295],\n",
       "                      [-0.2411,  0.5536,  0.3949, -0.7374],\n",
       "                      [-0.1403, -0.3730,  0.8133, -1.4093],\n",
       "                      [-0.4572, -1.7825, -2.1356, -0.1295],\n",
       "                      [-0.2411,  0.5536,  0.3949, -0.7374],\n",
       "                      [-0.1403, -0.3730,  0.8133, -1.4093],\n",
       "                      [-0.4572, -1.7825, -2.1356, -0.1295],\n",
       "                      [-0.2411,  0.5536,  0.3949, -0.7374],\n",
       "                      [-0.1403, -0.3730,  0.8133, -1.4093],\n",
       "                      [-0.4572, -1.7825, -2.1356, -0.1295],\n",
       "                      [-0.2411,  0.5536,  0.3949, -0.7374],\n",
       "                      [-0.1403, -0.3730,  0.8133, -1.4093]]),\n",
       "       ),\n",
       "    a: tensor([[-0.3517,  1.2410,  0.3271],\n",
       "               [ 1.8247, -0.2131, -0.2898],\n",
       "               [-0.3517,  1.2410,  0.3271],\n",
       "               [ 1.8247, -0.2131, -0.2898],\n",
       "               [-0.3517,  1.2410,  0.3271],\n",
       "               [ 1.8247, -0.2131, -0.2898],\n",
       "               [-0.3517,  1.2410,  0.3271],\n",
       "               [ 1.8247, -0.2131, -0.2898],\n",
       "               [-0.3517,  1.2410,  0.3271],\n",
       "               [ 1.8247, -0.2131, -0.2898],\n",
       "               [-0.3517,  1.2410,  0.3271],\n",
       "               [ 1.8247, -0.2131, -0.2898],\n",
       "               [-0.3517,  1.2410,  0.3271],\n",
       "               [ 1.8247, -0.2131, -0.2898],\n",
       "               [-0.3517,  1.2410,  0.3271],\n",
       "               [ 1.8247, -0.2131, -0.2898]]),\n",
       ")"
      ]
     },
     "execution_count": 27,
     "metadata": {},
     "output_type": "execute_result"
    }
   ],
   "source": [
    "Batch.cat(batches)"
   ]
  },
  {
   "cell_type": "code",
   "execution_count": 28,
   "id": "18dfb045",
   "metadata": {
    "execution": {
     "iopub.execute_input": "2023-02-12T18:19:44.201398Z",
     "iopub.status.busy": "2023-02-12T18:19:44.201066Z",
     "iopub.status.idle": "2023-02-12T18:19:57.064323Z",
     "shell.execute_reply": "2023-02-12T18:19:57.063674Z"
    }
   },
   "outputs": [
    {
     "name": "stdout",
     "output_type": "stream",
     "text": [
      "158 µs ± 355 ns per loop (mean ± std. dev. of 7 runs, 10,000 loops each)\n"
     ]
    }
   ],
   "source": [
    "%timeit Batch.cat(batches)"
   ]
  },
  {
   "cell_type": "code",
   "execution_count": 29,
   "id": "c6688e51",
   "metadata": {
    "execution": {
     "iopub.execute_input": "2023-02-12T18:19:57.066988Z",
     "iopub.status.busy": "2023-02-12T18:19:57.066631Z",
     "iopub.status.idle": "2023-02-12T18:19:59.547999Z",
     "shell.execute_reply": "2023-02-12T18:19:59.547439Z"
    }
   },
   "outputs": [
    {
     "name": "stdout",
     "output_type": "stream",
     "text": [
      "303 µs ± 3.36 µs per loop (mean ± std. dev. of 7 runs, 1,000 loops each)\n"
     ]
    }
   ],
   "source": [
    "batch = Batch({\n",
    "    'obs': torch.randn(8, 4, 84, 84),\n",
    "    'action': torch.randint(0, 6, size=(8, 1,)),\n",
    "    'reward': torch.rand(8, 1)}\n",
    ")\n",
    "\n",
    "%timeit list(Batch.split(batch, 1, shuffle=False, merge_last=True))"
   ]
  },
  {
   "cell_type": "code",
   "execution_count": null,
   "id": "2539fbd9",
   "metadata": {},
   "outputs": [],
   "source": []
  }
 ],
 "metadata": {
  "kernelspec": {
   "display_name": "Python 3 (ipykernel)",
   "language": "python",
   "name": "python3"
  },
  "language_info": {
   "codemirror_mode": {
    "name": "ipython",
    "version": 3
   },
   "file_extension": ".py",
   "mimetype": "text/x-python",
   "name": "python",
   "nbconvert_exporter": "python",
   "pygments_lexer": "ipython3",
   "version": "3.8.16"
  }
 },
 "nbformat": 4,
 "nbformat_minor": 5
}
