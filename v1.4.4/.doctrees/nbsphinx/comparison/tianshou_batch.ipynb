{
 "cells": [
  {
   "cell_type": "markdown",
   "id": "9d39d946",
   "metadata": {},
   "source": [
    "# Comparison Between TreeValue and Tianshou Batch"
   ]
  },
  {
   "cell_type": "markdown",
   "id": "3c6db2d4",
   "metadata": {},
   "source": [
    "In this section, we will take a look at the feature and performance of the [Tianshou Batch](https://github.com/thu-ml/tianshou) library, which is developed by Tsinghua Machine Learning Group."
   ]
  },
  {
   "cell_type": "markdown",
   "id": "069361b0",
   "metadata": {},
   "source": [
    "Before starting the comparison, let us define some thing."
   ]
  },
  {
   "cell_type": "code",
   "execution_count": 1,
   "id": "06fc8d26",
   "metadata": {
    "execution": {
     "iopub.execute_input": "2023-02-25T08:40:21.447458Z",
     "iopub.status.busy": "2023-02-25T08:40:21.446988Z",
     "iopub.status.idle": "2023-02-25T08:40:22.579179Z",
     "shell.execute_reply": "2023-02-25T08:40:22.577982Z"
    }
   },
   "outputs": [
    {
     "name": "stderr",
     "output_type": "stream",
     "text": [
      "/opt/hostedtoolcache/Python/3.8.16/x64/lib/python3.8/site-packages/tqdm/auto.py:22: TqdmWarning: IProgress not found. Please update jupyter and ipywidgets. See https://ipywidgets.readthedocs.io/en/stable/user_install.html\n",
      "  from .autonotebook import tqdm as notebook_tqdm\n"
     ]
    }
   ],
   "source": [
    "import torch \n",
    "\n",
    "_TREE_DATA_1 = {'a': 1, 'b': 2, 'x': {'c': 3, 'd': 4}}\n",
    "_TREE_DATA_2 = {\n",
    "    'a': torch.randn(2, 3), \n",
    "    'x': {\n",
    "        'c': torch.randn(3, 4)\n",
    "    },\n",
    "}\n",
    "_TREE_DATA_3 = {\n",
    "    'obs': torch.randn(4, 84, 84),\n",
    "    'action': torch.randint(0, 6, size=(1,)),\n",
    "    'reward': torch.rand(1),\n",
    "}"
   ]
  },
  {
   "cell_type": "markdown",
   "id": "83461b25",
   "metadata": {},
   "source": [
    "## Read and Write Operation"
   ]
  },
  {
   "cell_type": "markdown",
   "id": "067b3f73",
   "metadata": {},
   "source": [
    "Reading and writing are the two most common operations in the tree data structure based on the data model (TreeValue and Tianshou Batch both belong to this type), so this section will compare the reading and writing performance of these two libraries."
   ]
  },
  {
   "cell_type": "markdown",
   "id": "5d09a5b7",
   "metadata": {},
   "source": [
    "### TreeValue's Get and Set"
   ]
  },
  {
   "cell_type": "code",
   "execution_count": 2,
   "id": "9519c4bb",
   "metadata": {
    "execution": {
     "iopub.execute_input": "2023-02-25T08:40:22.584520Z",
     "iopub.status.busy": "2023-02-25T08:40:22.583938Z",
     "iopub.status.idle": "2023-02-25T08:40:22.624393Z",
     "shell.execute_reply": "2023-02-25T08:40:22.622891Z"
    }
   },
   "outputs": [],
   "source": [
    "from treevalue import FastTreeValue\n",
    "\n",
    "t = FastTreeValue(_TREE_DATA_2)"
   ]
  },
  {
   "cell_type": "code",
   "execution_count": 3,
   "id": "11c37677",
   "metadata": {
    "execution": {
     "iopub.execute_input": "2023-02-25T08:40:22.628226Z",
     "iopub.status.busy": "2023-02-25T08:40:22.627776Z",
     "iopub.status.idle": "2023-02-25T08:40:22.638575Z",
     "shell.execute_reply": "2023-02-25T08:40:22.637873Z"
    }
   },
   "outputs": [
    {
     "data": {
      "text/plain": [
       "<FastTreeValue 0x7fcf7c01bc40>\n",
       "├── 'a' --> tensor([[-0.6034,  0.6068, -0.7473],\n",
       "│                   [-2.2070, -0.5334,  1.1288]])\n",
       "└── 'x' --> <FastTreeValue 0x7fcf7c01ba90>\n",
       "    └── 'c' --> tensor([[ 1.5529,  1.7956, -0.2025,  0.3461],\n",
       "                        [-0.0190, -1.0067, -1.9212, -1.4128],\n",
       "                        [-0.4702, -0.7571, -0.5249,  1.1745]])"
      ]
     },
     "execution_count": 3,
     "metadata": {},
     "output_type": "execute_result"
    }
   ],
   "source": [
    "t"
   ]
  },
  {
   "cell_type": "code",
   "execution_count": 4,
   "id": "fd70b0b9",
   "metadata": {
    "execution": {
     "iopub.execute_input": "2023-02-25T08:40:22.642141Z",
     "iopub.status.busy": "2023-02-25T08:40:22.641501Z",
     "iopub.status.idle": "2023-02-25T08:40:22.648066Z",
     "shell.execute_reply": "2023-02-25T08:40:22.647215Z"
    }
   },
   "outputs": [
    {
     "data": {
      "text/plain": [
       "tensor([[-0.6034,  0.6068, -0.7473],\n",
       "        [-2.2070, -0.5334,  1.1288]])"
      ]
     },
     "execution_count": 4,
     "metadata": {},
     "output_type": "execute_result"
    }
   ],
   "source": [
    "t.a"
   ]
  },
  {
   "cell_type": "code",
   "execution_count": 5,
   "id": "c18197bd",
   "metadata": {
    "execution": {
     "iopub.execute_input": "2023-02-25T08:40:22.651272Z",
     "iopub.status.busy": "2023-02-25T08:40:22.650874Z",
     "iopub.status.idle": "2023-02-25T08:40:28.671398Z",
     "shell.execute_reply": "2023-02-25T08:40:28.670299Z"
    }
   },
   "outputs": [
    {
     "name": "stdout",
     "output_type": "stream",
     "text": [
      "74.1 ns ± 0.904 ns per loop (mean ± std. dev. of 7 runs, 10,000,000 loops each)\n"
     ]
    }
   ],
   "source": [
    "%timeit t.a"
   ]
  },
  {
   "cell_type": "code",
   "execution_count": 6,
   "id": "bd52f867",
   "metadata": {
    "execution": {
     "iopub.execute_input": "2023-02-25T08:40:28.675195Z",
     "iopub.status.busy": "2023-02-25T08:40:28.674742Z",
     "iopub.status.idle": "2023-02-25T08:40:28.682926Z",
     "shell.execute_reply": "2023-02-25T08:40:28.682224Z"
    }
   },
   "outputs": [
    {
     "data": {
      "text/plain": [
       "<FastTreeValue 0x7fcf7c01bc40>\n",
       "├── 'a' --> tensor([[-0.8039, -0.9966, -0.5889],\n",
       "│                   [ 0.0655,  0.1640,  0.4001]])\n",
       "└── 'x' --> <FastTreeValue 0x7fcf7c01ba90>\n",
       "    └── 'c' --> tensor([[ 1.5529,  1.7956, -0.2025,  0.3461],\n",
       "                        [-0.0190, -1.0067, -1.9212, -1.4128],\n",
       "                        [-0.4702, -0.7571, -0.5249,  1.1745]])"
      ]
     },
     "execution_count": 6,
     "metadata": {},
     "output_type": "execute_result"
    }
   ],
   "source": [
    "new_value = torch.randn(2, 3)\n",
    "t.a = new_value\n",
    "\n",
    "t"
   ]
  },
  {
   "cell_type": "code",
   "execution_count": 7,
   "id": "bbe04d1c",
   "metadata": {
    "execution": {
     "iopub.execute_input": "2023-02-25T08:40:28.686555Z",
     "iopub.status.busy": "2023-02-25T08:40:28.685490Z",
     "iopub.status.idle": "2023-02-25T08:40:35.395217Z",
     "shell.execute_reply": "2023-02-25T08:40:35.393922Z"
    }
   },
   "outputs": [
    {
     "name": "stdout",
     "output_type": "stream",
     "text": [
      "82.4 ns ± 0.348 ns per loop (mean ± std. dev. of 7 runs, 10,000,000 loops each)\n"
     ]
    }
   ],
   "source": [
    "%timeit t.a = new_value"
   ]
  },
  {
   "cell_type": "markdown",
   "id": "48c49731",
   "metadata": {},
   "source": [
    "### Tianshou Batch's Get and Set"
   ]
  },
  {
   "cell_type": "code",
   "execution_count": 8,
   "id": "f1bb14c1",
   "metadata": {
    "execution": {
     "iopub.execute_input": "2023-02-25T08:40:35.399263Z",
     "iopub.status.busy": "2023-02-25T08:40:35.398661Z",
     "iopub.status.idle": "2023-02-25T08:40:35.800398Z",
     "shell.execute_reply": "2023-02-25T08:40:35.799485Z"
    }
   },
   "outputs": [],
   "source": [
    "from tianshou.data import Batch\n",
    "\n",
    "b = Batch(**_TREE_DATA_2)"
   ]
  },
  {
   "cell_type": "code",
   "execution_count": 9,
   "id": "cb0777c3",
   "metadata": {
    "execution": {
     "iopub.execute_input": "2023-02-25T08:40:35.804293Z",
     "iopub.status.busy": "2023-02-25T08:40:35.803682Z",
     "iopub.status.idle": "2023-02-25T08:40:35.812059Z",
     "shell.execute_reply": "2023-02-25T08:40:35.811016Z"
    }
   },
   "outputs": [
    {
     "data": {
      "text/plain": [
       "Batch(\n",
       "    a: tensor([[-0.6034,  0.6068, -0.7473],\n",
       "               [-2.2070, -0.5334,  1.1288]]),\n",
       "    x: Batch(\n",
       "           c: tensor([[ 1.5529,  1.7956, -0.2025,  0.3461],\n",
       "                      [-0.0190, -1.0067, -1.9212, -1.4128],\n",
       "                      [-0.4702, -0.7571, -0.5249,  1.1745]]),\n",
       "       ),\n",
       ")"
      ]
     },
     "execution_count": 9,
     "metadata": {},
     "output_type": "execute_result"
    }
   ],
   "source": [
    "b"
   ]
  },
  {
   "cell_type": "code",
   "execution_count": 10,
   "id": "43ef8ea3",
   "metadata": {
    "execution": {
     "iopub.execute_input": "2023-02-25T08:40:35.815368Z",
     "iopub.status.busy": "2023-02-25T08:40:35.814832Z",
     "iopub.status.idle": "2023-02-25T08:40:35.821506Z",
     "shell.execute_reply": "2023-02-25T08:40:35.820771Z"
    }
   },
   "outputs": [
    {
     "data": {
      "text/plain": [
       "tensor([[-0.6034,  0.6068, -0.7473],\n",
       "        [-2.2070, -0.5334,  1.1288]])"
      ]
     },
     "execution_count": 10,
     "metadata": {},
     "output_type": "execute_result"
    }
   ],
   "source": [
    "b.a"
   ]
  },
  {
   "cell_type": "code",
   "execution_count": 11,
   "id": "b785ab72",
   "metadata": {
    "execution": {
     "iopub.execute_input": "2023-02-25T08:40:35.824470Z",
     "iopub.status.busy": "2023-02-25T08:40:35.823969Z",
     "iopub.status.idle": "2023-02-25T08:40:41.401664Z",
     "shell.execute_reply": "2023-02-25T08:40:41.400348Z"
    }
   },
   "outputs": [
    {
     "name": "stdout",
     "output_type": "stream",
     "text": [
      "68.4 ns ± 0.599 ns per loop (mean ± std. dev. of 7 runs, 10,000,000 loops each)\n"
     ]
    }
   ],
   "source": [
    "%timeit b.a"
   ]
  },
  {
   "cell_type": "code",
   "execution_count": 12,
   "id": "ad54dc69",
   "metadata": {
    "execution": {
     "iopub.execute_input": "2023-02-25T08:40:41.405279Z",
     "iopub.status.busy": "2023-02-25T08:40:41.404685Z",
     "iopub.status.idle": "2023-02-25T08:40:41.412288Z",
     "shell.execute_reply": "2023-02-25T08:40:41.411537Z"
    }
   },
   "outputs": [
    {
     "data": {
      "text/plain": [
       "Batch(\n",
       "    a: tensor([[ 0.7557,  0.3648,  0.5205],\n",
       "               [ 0.1263, -0.6813, -2.0985]]),\n",
       "    x: Batch(\n",
       "           c: tensor([[ 1.5529,  1.7956, -0.2025,  0.3461],\n",
       "                      [-0.0190, -1.0067, -1.9212, -1.4128],\n",
       "                      [-0.4702, -0.7571, -0.5249,  1.1745]]),\n",
       "       ),\n",
       ")"
      ]
     },
     "execution_count": 12,
     "metadata": {},
     "output_type": "execute_result"
    }
   ],
   "source": [
    "new_value = torch.randn(2, 3)\n",
    "b.a = new_value\n",
    "\n",
    "b"
   ]
  },
  {
   "cell_type": "code",
   "execution_count": 13,
   "id": "29b1d0bf",
   "metadata": {
    "execution": {
     "iopub.execute_input": "2023-02-25T08:40:41.415446Z",
     "iopub.status.busy": "2023-02-25T08:40:41.414994Z",
     "iopub.status.idle": "2023-02-25T08:40:46.091100Z",
     "shell.execute_reply": "2023-02-25T08:40:46.089928Z"
    }
   },
   "outputs": [
    {
     "name": "stdout",
     "output_type": "stream",
     "text": [
      "574 ns ± 2.2 ns per loop (mean ± std. dev. of 7 runs, 1,000,000 loops each)\n"
     ]
    }
   ],
   "source": [
    "%timeit b.a = new_value"
   ]
  },
  {
   "cell_type": "markdown",
   "id": "b61ad1d0",
   "metadata": {},
   "source": [
    "## Initialization"
   ]
  },
  {
   "cell_type": "markdown",
   "id": "d70f0d54",
   "metadata": {},
   "source": [
    "### TreeValue's Initialization"
   ]
  },
  {
   "cell_type": "code",
   "execution_count": 14,
   "id": "d32a679b",
   "metadata": {
    "execution": {
     "iopub.execute_input": "2023-02-25T08:40:46.094669Z",
     "iopub.status.busy": "2023-02-25T08:40:46.094390Z",
     "iopub.status.idle": "2023-02-25T08:40:54.139663Z",
     "shell.execute_reply": "2023-02-25T08:40:54.138354Z"
    }
   },
   "outputs": [
    {
     "name": "stdout",
     "output_type": "stream",
     "text": [
      "990 ns ± 12.2 ns per loop (mean ± std. dev. of 7 runs, 1,000,000 loops each)\n"
     ]
    }
   ],
   "source": [
    "%timeit FastTreeValue(_TREE_DATA_1)"
   ]
  },
  {
   "cell_type": "markdown",
   "id": "24f3707b",
   "metadata": {},
   "source": [
    "### Tianshou Batch's Initialization"
   ]
  },
  {
   "cell_type": "code",
   "execution_count": 15,
   "id": "ac3958df",
   "metadata": {
    "execution": {
     "iopub.execute_input": "2023-02-25T08:40:54.144368Z",
     "iopub.status.busy": "2023-02-25T08:40:54.143520Z",
     "iopub.status.idle": "2023-02-25T08:41:03.635127Z",
     "shell.execute_reply": "2023-02-25T08:41:03.633872Z"
    }
   },
   "outputs": [
    {
     "name": "stdout",
     "output_type": "stream",
     "text": [
      "11.7 µs ± 48.1 ns per loop (mean ± std. dev. of 7 runs, 100,000 loops each)\n"
     ]
    }
   ],
   "source": [
    "%timeit Batch(**_TREE_DATA_1)"
   ]
  },
  {
   "cell_type": "markdown",
   "id": "1ab82e2d",
   "metadata": {},
   "source": [
    "## Deep Copy Operation"
   ]
  },
  {
   "cell_type": "code",
   "execution_count": 16,
   "id": "210a9442",
   "metadata": {
    "execution": {
     "iopub.execute_input": "2023-02-25T08:41:03.640077Z",
     "iopub.status.busy": "2023-02-25T08:41:03.639480Z",
     "iopub.status.idle": "2023-02-25T08:41:03.643280Z",
     "shell.execute_reply": "2023-02-25T08:41:03.642483Z"
    }
   },
   "outputs": [],
   "source": [
    "import copy"
   ]
  },
  {
   "cell_type": "markdown",
   "id": "5a736274",
   "metadata": {},
   "source": [
    "### Deep Copy of TreeValue"
   ]
  },
  {
   "cell_type": "code",
   "execution_count": 17,
   "id": "f9bcadd6",
   "metadata": {
    "execution": {
     "iopub.execute_input": "2023-02-25T08:41:03.646652Z",
     "iopub.status.busy": "2023-02-25T08:41:03.646056Z",
     "iopub.status.idle": "2023-02-25T08:41:16.891930Z",
     "shell.execute_reply": "2023-02-25T08:41:16.891222Z"
    }
   },
   "outputs": [
    {
     "name": "stdout",
     "output_type": "stream",
     "text": [
      "163 µs ± 988 ns per loop (mean ± std. dev. of 7 runs, 10,000 loops each)\n"
     ]
    }
   ],
   "source": [
    "t3 = FastTreeValue(_TREE_DATA_3)\n",
    "%timeit copy.deepcopy(t3)"
   ]
  },
  {
   "cell_type": "markdown",
   "id": "bf8be7ea",
   "metadata": {},
   "source": [
    "### Deep Copy of Tianshou Batch"
   ]
  },
  {
   "cell_type": "code",
   "execution_count": 18,
   "id": "91998e6f",
   "metadata": {
    "execution": {
     "iopub.execute_input": "2023-02-25T08:41:16.898083Z",
     "iopub.status.busy": "2023-02-25T08:41:16.894671Z",
     "iopub.status.idle": "2023-02-25T08:41:29.989667Z",
     "shell.execute_reply": "2023-02-25T08:41:29.988850Z"
    }
   },
   "outputs": [
    {
     "name": "stdout",
     "output_type": "stream",
     "text": [
      "161 µs ± 908 ns per loop (mean ± std. dev. of 7 runs, 10,000 loops each)\n"
     ]
    }
   ],
   "source": [
    "b3 = Batch(**_TREE_DATA_3)\n",
    "%timeit copy.deepcopy(b3)"
   ]
  },
  {
   "cell_type": "markdown",
   "id": "223162fb",
   "metadata": {},
   "source": [
    "## Stack, Concat and Split Operation"
   ]
  },
  {
   "cell_type": "markdown",
   "id": "85fa4a73",
   "metadata": {},
   "source": [
    "### Performance of TreeValue"
   ]
  },
  {
   "cell_type": "code",
   "execution_count": 19,
   "id": "a0c2b697",
   "metadata": {
    "execution": {
     "iopub.execute_input": "2023-02-25T08:41:29.993431Z",
     "iopub.status.busy": "2023-02-25T08:41:29.992870Z",
     "iopub.status.idle": "2023-02-25T08:41:29.997069Z",
     "shell.execute_reply": "2023-02-25T08:41:29.996167Z"
    }
   },
   "outputs": [],
   "source": [
    "trees = [FastTreeValue(_TREE_DATA_2) for _ in range(8)]"
   ]
  },
  {
   "cell_type": "code",
   "execution_count": 20,
   "id": "017ea5a5",
   "metadata": {
    "execution": {
     "iopub.execute_input": "2023-02-25T08:41:30.000149Z",
     "iopub.status.busy": "2023-02-25T08:41:29.999363Z",
     "iopub.status.idle": "2023-02-25T08:41:30.007535Z",
     "shell.execute_reply": "2023-02-25T08:41:30.006934Z"
    }
   },
   "outputs": [
    {
     "data": {
      "text/plain": [
       "<FastTreeValue 0x7fcf7c08fe50>\n",
       "├── 'a' --> tensor([[[-0.6034,  0.6068, -0.7473],\n",
       "│                    [-2.2070, -0.5334,  1.1288]],\n",
       "│           \n",
       "│                   [[-0.6034,  0.6068, -0.7473],\n",
       "│                    [-2.2070, -0.5334,  1.1288]],\n",
       "│           \n",
       "│                   [[-0.6034,  0.6068, -0.7473],\n",
       "│                    [-2.2070, -0.5334,  1.1288]],\n",
       "│           \n",
       "│                   [[-0.6034,  0.6068, -0.7473],\n",
       "│                    [-2.2070, -0.5334,  1.1288]],\n",
       "│           \n",
       "│                   [[-0.6034,  0.6068, -0.7473],\n",
       "│                    [-2.2070, -0.5334,  1.1288]],\n",
       "│           \n",
       "│                   [[-0.6034,  0.6068, -0.7473],\n",
       "│                    [-2.2070, -0.5334,  1.1288]],\n",
       "│           \n",
       "│                   [[-0.6034,  0.6068, -0.7473],\n",
       "│                    [-2.2070, -0.5334,  1.1288]],\n",
       "│           \n",
       "│                   [[-0.6034,  0.6068, -0.7473],\n",
       "│                    [-2.2070, -0.5334,  1.1288]]])\n",
       "└── 'x' --> <FastTreeValue 0x7fcf7c08f100>\n",
       "    └── 'c' --> tensor([[[ 1.5529,  1.7956, -0.2025,  0.3461],\n",
       "                         [-0.0190, -1.0067, -1.9212, -1.4128],\n",
       "                         [-0.4702, -0.7571, -0.5249,  1.1745]],\n",
       "                \n",
       "                        [[ 1.5529,  1.7956, -0.2025,  0.3461],\n",
       "                         [-0.0190, -1.0067, -1.9212, -1.4128],\n",
       "                         [-0.4702, -0.7571, -0.5249,  1.1745]],\n",
       "                \n",
       "                        [[ 1.5529,  1.7956, -0.2025,  0.3461],\n",
       "                         [-0.0190, -1.0067, -1.9212, -1.4128],\n",
       "                         [-0.4702, -0.7571, -0.5249,  1.1745]],\n",
       "                \n",
       "                        [[ 1.5529,  1.7956, -0.2025,  0.3461],\n",
       "                         [-0.0190, -1.0067, -1.9212, -1.4128],\n",
       "                         [-0.4702, -0.7571, -0.5249,  1.1745]],\n",
       "                \n",
       "                        [[ 1.5529,  1.7956, -0.2025,  0.3461],\n",
       "                         [-0.0190, -1.0067, -1.9212, -1.4128],\n",
       "                         [-0.4702, -0.7571, -0.5249,  1.1745]],\n",
       "                \n",
       "                        [[ 1.5529,  1.7956, -0.2025,  0.3461],\n",
       "                         [-0.0190, -1.0067, -1.9212, -1.4128],\n",
       "                         [-0.4702, -0.7571, -0.5249,  1.1745]],\n",
       "                \n",
       "                        [[ 1.5529,  1.7956, -0.2025,  0.3461],\n",
       "                         [-0.0190, -1.0067, -1.9212, -1.4128],\n",
       "                         [-0.4702, -0.7571, -0.5249,  1.1745]],\n",
       "                \n",
       "                        [[ 1.5529,  1.7956, -0.2025,  0.3461],\n",
       "                         [-0.0190, -1.0067, -1.9212, -1.4128],\n",
       "                         [-0.4702, -0.7571, -0.5249,  1.1745]]])"
      ]
     },
     "execution_count": 20,
     "metadata": {},
     "output_type": "execute_result"
    }
   ],
   "source": [
    "t_stack = FastTreeValue.func(subside=True)(torch.stack)\n",
    "\n",
    "t_stack(trees)"
   ]
  },
  {
   "cell_type": "code",
   "execution_count": 21,
   "id": "f8b3f415",
   "metadata": {
    "execution": {
     "iopub.execute_input": "2023-02-25T08:41:30.010326Z",
     "iopub.status.busy": "2023-02-25T08:41:30.009720Z",
     "iopub.status.idle": "2023-02-25T08:41:32.946115Z",
     "shell.execute_reply": "2023-02-25T08:41:32.945128Z"
    }
   },
   "outputs": [
    {
     "name": "stdout",
     "output_type": "stream",
     "text": [
      "36.1 µs ± 192 ns per loop (mean ± std. dev. of 7 runs, 10,000 loops each)\n"
     ]
    }
   ],
   "source": [
    "%timeit t_stack(trees)"
   ]
  },
  {
   "cell_type": "code",
   "execution_count": 22,
   "id": "94b56771",
   "metadata": {
    "execution": {
     "iopub.execute_input": "2023-02-25T08:41:32.949640Z",
     "iopub.status.busy": "2023-02-25T08:41:32.949118Z",
     "iopub.status.idle": "2023-02-25T08:41:32.958939Z",
     "shell.execute_reply": "2023-02-25T08:41:32.958225Z"
    }
   },
   "outputs": [
    {
     "data": {
      "text/plain": [
       "<FastTreeValue 0x7fcececd3f70>\n",
       "├── 'a' --> tensor([[-0.6034,  0.6068, -0.7473],\n",
       "│                   [-2.2070, -0.5334,  1.1288],\n",
       "│                   [-0.6034,  0.6068, -0.7473],\n",
       "│                   [-2.2070, -0.5334,  1.1288],\n",
       "│                   [-0.6034,  0.6068, -0.7473],\n",
       "│                   [-2.2070, -0.5334,  1.1288],\n",
       "│                   [-0.6034,  0.6068, -0.7473],\n",
       "│                   [-2.2070, -0.5334,  1.1288],\n",
       "│                   [-0.6034,  0.6068, -0.7473],\n",
       "│                   [-2.2070, -0.5334,  1.1288],\n",
       "│                   [-0.6034,  0.6068, -0.7473],\n",
       "│                   [-2.2070, -0.5334,  1.1288],\n",
       "│                   [-0.6034,  0.6068, -0.7473],\n",
       "│                   [-2.2070, -0.5334,  1.1288],\n",
       "│                   [-0.6034,  0.6068, -0.7473],\n",
       "│                   [-2.2070, -0.5334,  1.1288]])\n",
       "└── 'x' --> <FastTreeValue 0x7fcececd3130>\n",
       "    └── 'c' --> tensor([[ 1.5529,  1.7956, -0.2025,  0.3461],\n",
       "                        [-0.0190, -1.0067, -1.9212, -1.4128],\n",
       "                        [-0.4702, -0.7571, -0.5249,  1.1745],\n",
       "                        [ 1.5529,  1.7956, -0.2025,  0.3461],\n",
       "                        [-0.0190, -1.0067, -1.9212, -1.4128],\n",
       "                        [-0.4702, -0.7571, -0.5249,  1.1745],\n",
       "                        [ 1.5529,  1.7956, -0.2025,  0.3461],\n",
       "                        [-0.0190, -1.0067, -1.9212, -1.4128],\n",
       "                        [-0.4702, -0.7571, -0.5249,  1.1745],\n",
       "                        [ 1.5529,  1.7956, -0.2025,  0.3461],\n",
       "                        [-0.0190, -1.0067, -1.9212, -1.4128],\n",
       "                        [-0.4702, -0.7571, -0.5249,  1.1745],\n",
       "                        [ 1.5529,  1.7956, -0.2025,  0.3461],\n",
       "                        [-0.0190, -1.0067, -1.9212, -1.4128],\n",
       "                        [-0.4702, -0.7571, -0.5249,  1.1745],\n",
       "                        [ 1.5529,  1.7956, -0.2025,  0.3461],\n",
       "                        [-0.0190, -1.0067, -1.9212, -1.4128],\n",
       "                        [-0.4702, -0.7571, -0.5249,  1.1745],\n",
       "                        [ 1.5529,  1.7956, -0.2025,  0.3461],\n",
       "                        [-0.0190, -1.0067, -1.9212, -1.4128],\n",
       "                        [-0.4702, -0.7571, -0.5249,  1.1745],\n",
       "                        [ 1.5529,  1.7956, -0.2025,  0.3461],\n",
       "                        [-0.0190, -1.0067, -1.9212, -1.4128],\n",
       "                        [-0.4702, -0.7571, -0.5249,  1.1745]])"
      ]
     },
     "execution_count": 22,
     "metadata": {},
     "output_type": "execute_result"
    }
   ],
   "source": [
    "t_cat = FastTreeValue.func(subside=True)(torch.cat)\n",
    "\n",
    "t_cat(trees)"
   ]
  },
  {
   "cell_type": "code",
   "execution_count": 23,
   "id": "5e9c06a6",
   "metadata": {
    "execution": {
     "iopub.execute_input": "2023-02-25T08:41:32.961900Z",
     "iopub.status.busy": "2023-02-25T08:41:32.961405Z",
     "iopub.status.idle": "2023-02-25T08:41:35.850734Z",
     "shell.execute_reply": "2023-02-25T08:41:35.849422Z"
    }
   },
   "outputs": [
    {
     "name": "stdout",
     "output_type": "stream",
     "text": [
      "35.4 µs ± 520 ns per loop (mean ± std. dev. of 7 runs, 10,000 loops each)\n"
     ]
    }
   ],
   "source": [
    "%timeit t_cat(trees)"
   ]
  },
  {
   "cell_type": "code",
   "execution_count": 24,
   "id": "a3ab5c8f",
   "metadata": {
    "execution": {
     "iopub.execute_input": "2023-02-25T08:41:35.854684Z",
     "iopub.status.busy": "2023-02-25T08:41:35.854031Z",
     "iopub.status.idle": "2023-02-25T08:41:40.955045Z",
     "shell.execute_reply": "2023-02-25T08:41:40.954154Z"
    }
   },
   "outputs": [
    {
     "name": "stdout",
     "output_type": "stream",
     "text": [
      "62.6 µs ± 241 ns per loop (mean ± std. dev. of 7 runs, 10,000 loops each)\n"
     ]
    }
   ],
   "source": [
    "t_split = FastTreeValue.func(rise=True)(torch.split)\n",
    "tree = FastTreeValue({\n",
    "    'obs': torch.randn(8, 4, 84, 84),\n",
    "    'action': torch.randint(0, 6, size=(8, 1,)),\n",
    "    'reward': torch.rand(8, 1),\n",
    "})\n",
    "\n",
    "%timeit t_split(tree, 1)"
   ]
  },
  {
   "cell_type": "markdown",
   "id": "31c3ec0b",
   "metadata": {},
   "source": [
    "### Performance of Tianshou Batch"
   ]
  },
  {
   "cell_type": "code",
   "execution_count": 25,
   "id": "9ead828a",
   "metadata": {
    "execution": {
     "iopub.execute_input": "2023-02-25T08:41:40.958798Z",
     "iopub.status.busy": "2023-02-25T08:41:40.958314Z",
     "iopub.status.idle": "2023-02-25T08:41:40.967680Z",
     "shell.execute_reply": "2023-02-25T08:41:40.966963Z"
    }
   },
   "outputs": [
    {
     "data": {
      "text/plain": [
       "Batch(\n",
       "    a: tensor([[[-0.6034,  0.6068, -0.7473],\n",
       "                [-2.2070, -0.5334,  1.1288]],\n",
       "       \n",
       "               [[-0.6034,  0.6068, -0.7473],\n",
       "                [-2.2070, -0.5334,  1.1288]],\n",
       "       \n",
       "               [[-0.6034,  0.6068, -0.7473],\n",
       "                [-2.2070, -0.5334,  1.1288]],\n",
       "       \n",
       "               [[-0.6034,  0.6068, -0.7473],\n",
       "                [-2.2070, -0.5334,  1.1288]],\n",
       "       \n",
       "               [[-0.6034,  0.6068, -0.7473],\n",
       "                [-2.2070, -0.5334,  1.1288]],\n",
       "       \n",
       "               [[-0.6034,  0.6068, -0.7473],\n",
       "                [-2.2070, -0.5334,  1.1288]],\n",
       "       \n",
       "               [[-0.6034,  0.6068, -0.7473],\n",
       "                [-2.2070, -0.5334,  1.1288]],\n",
       "       \n",
       "               [[-0.6034,  0.6068, -0.7473],\n",
       "                [-2.2070, -0.5334,  1.1288]]]),\n",
       "    x: Batch(\n",
       "           c: tensor([[[ 1.5529,  1.7956, -0.2025,  0.3461],\n",
       "                       [-0.0190, -1.0067, -1.9212, -1.4128],\n",
       "                       [-0.4702, -0.7571, -0.5249,  1.1745]],\n",
       "              \n",
       "                      [[ 1.5529,  1.7956, -0.2025,  0.3461],\n",
       "                       [-0.0190, -1.0067, -1.9212, -1.4128],\n",
       "                       [-0.4702, -0.7571, -0.5249,  1.1745]],\n",
       "              \n",
       "                      [[ 1.5529,  1.7956, -0.2025,  0.3461],\n",
       "                       [-0.0190, -1.0067, -1.9212, -1.4128],\n",
       "                       [-0.4702, -0.7571, -0.5249,  1.1745]],\n",
       "              \n",
       "                      [[ 1.5529,  1.7956, -0.2025,  0.3461],\n",
       "                       [-0.0190, -1.0067, -1.9212, -1.4128],\n",
       "                       [-0.4702, -0.7571, -0.5249,  1.1745]],\n",
       "              \n",
       "                      [[ 1.5529,  1.7956, -0.2025,  0.3461],\n",
       "                       [-0.0190, -1.0067, -1.9212, -1.4128],\n",
       "                       [-0.4702, -0.7571, -0.5249,  1.1745]],\n",
       "              \n",
       "                      [[ 1.5529,  1.7956, -0.2025,  0.3461],\n",
       "                       [-0.0190, -1.0067, -1.9212, -1.4128],\n",
       "                       [-0.4702, -0.7571, -0.5249,  1.1745]],\n",
       "              \n",
       "                      [[ 1.5529,  1.7956, -0.2025,  0.3461],\n",
       "                       [-0.0190, -1.0067, -1.9212, -1.4128],\n",
       "                       [-0.4702, -0.7571, -0.5249,  1.1745]],\n",
       "              \n",
       "                      [[ 1.5529,  1.7956, -0.2025,  0.3461],\n",
       "                       [-0.0190, -1.0067, -1.9212, -1.4128],\n",
       "                       [-0.4702, -0.7571, -0.5249,  1.1745]]]),\n",
       "       ),\n",
       ")"
      ]
     },
     "execution_count": 25,
     "metadata": {},
     "output_type": "execute_result"
    }
   ],
   "source": [
    "batches = [Batch(**_TREE_DATA_2) for _ in range(8)]\n",
    "\n",
    "Batch.stack(batches)"
   ]
  },
  {
   "cell_type": "code",
   "execution_count": 26,
   "id": "ec9037a3",
   "metadata": {
    "execution": {
     "iopub.execute_input": "2023-02-25T08:41:40.971120Z",
     "iopub.status.busy": "2023-02-25T08:41:40.970455Z",
     "iopub.status.idle": "2023-02-25T08:41:48.173017Z",
     "shell.execute_reply": "2023-02-25T08:41:48.171860Z"
    }
   },
   "outputs": [
    {
     "name": "stdout",
     "output_type": "stream",
     "text": [
      "88.7 µs ± 720 ns per loop (mean ± std. dev. of 7 runs, 10,000 loops each)\n"
     ]
    }
   ],
   "source": [
    "%timeit Batch.stack(batches)"
   ]
  },
  {
   "cell_type": "code",
   "execution_count": 27,
   "id": "cb8ab77e",
   "metadata": {
    "execution": {
     "iopub.execute_input": "2023-02-25T08:41:48.177787Z",
     "iopub.status.busy": "2023-02-25T08:41:48.176827Z",
     "iopub.status.idle": "2023-02-25T08:41:48.185865Z",
     "shell.execute_reply": "2023-02-25T08:41:48.185191Z"
    }
   },
   "outputs": [
    {
     "data": {
      "text/plain": [
       "Batch(\n",
       "    a: tensor([[-0.6034,  0.6068, -0.7473],\n",
       "               [-2.2070, -0.5334,  1.1288],\n",
       "               [-0.6034,  0.6068, -0.7473],\n",
       "               [-2.2070, -0.5334,  1.1288],\n",
       "               [-0.6034,  0.6068, -0.7473],\n",
       "               [-2.2070, -0.5334,  1.1288],\n",
       "               [-0.6034,  0.6068, -0.7473],\n",
       "               [-2.2070, -0.5334,  1.1288],\n",
       "               [-0.6034,  0.6068, -0.7473],\n",
       "               [-2.2070, -0.5334,  1.1288],\n",
       "               [-0.6034,  0.6068, -0.7473],\n",
       "               [-2.2070, -0.5334,  1.1288],\n",
       "               [-0.6034,  0.6068, -0.7473],\n",
       "               [-2.2070, -0.5334,  1.1288],\n",
       "               [-0.6034,  0.6068, -0.7473],\n",
       "               [-2.2070, -0.5334,  1.1288]]),\n",
       "    x: Batch(\n",
       "           c: tensor([[ 1.5529,  1.7956, -0.2025,  0.3461],\n",
       "                      [-0.0190, -1.0067, -1.9212, -1.4128],\n",
       "                      [-0.4702, -0.7571, -0.5249,  1.1745],\n",
       "                      [ 1.5529,  1.7956, -0.2025,  0.3461],\n",
       "                      [-0.0190, -1.0067, -1.9212, -1.4128],\n",
       "                      [-0.4702, -0.7571, -0.5249,  1.1745],\n",
       "                      [ 1.5529,  1.7956, -0.2025,  0.3461],\n",
       "                      [-0.0190, -1.0067, -1.9212, -1.4128],\n",
       "                      [-0.4702, -0.7571, -0.5249,  1.1745],\n",
       "                      [ 1.5529,  1.7956, -0.2025,  0.3461],\n",
       "                      [-0.0190, -1.0067, -1.9212, -1.4128],\n",
       "                      [-0.4702, -0.7571, -0.5249,  1.1745],\n",
       "                      [ 1.5529,  1.7956, -0.2025,  0.3461],\n",
       "                      [-0.0190, -1.0067, -1.9212, -1.4128],\n",
       "                      [-0.4702, -0.7571, -0.5249,  1.1745],\n",
       "                      [ 1.5529,  1.7956, -0.2025,  0.3461],\n",
       "                      [-0.0190, -1.0067, -1.9212, -1.4128],\n",
       "                      [-0.4702, -0.7571, -0.5249,  1.1745],\n",
       "                      [ 1.5529,  1.7956, -0.2025,  0.3461],\n",
       "                      [-0.0190, -1.0067, -1.9212, -1.4128],\n",
       "                      [-0.4702, -0.7571, -0.5249,  1.1745],\n",
       "                      [ 1.5529,  1.7956, -0.2025,  0.3461],\n",
       "                      [-0.0190, -1.0067, -1.9212, -1.4128],\n",
       "                      [-0.4702, -0.7571, -0.5249,  1.1745]]),\n",
       "       ),\n",
       ")"
      ]
     },
     "execution_count": 27,
     "metadata": {},
     "output_type": "execute_result"
    }
   ],
   "source": [
    "Batch.cat(batches)"
   ]
  },
  {
   "cell_type": "code",
   "execution_count": 28,
   "id": "18dfb045",
   "metadata": {
    "execution": {
     "iopub.execute_input": "2023-02-25T08:41:48.189050Z",
     "iopub.status.busy": "2023-02-25T08:41:48.188639Z",
     "iopub.status.idle": "2023-02-25T08:42:01.367879Z",
     "shell.execute_reply": "2023-02-25T08:42:01.366608Z"
    }
   },
   "outputs": [
    {
     "name": "stdout",
     "output_type": "stream",
     "text": [
      "162 µs ± 317 ns per loop (mean ± std. dev. of 7 runs, 10,000 loops each)\n"
     ]
    }
   ],
   "source": [
    "%timeit Batch.cat(batches)"
   ]
  },
  {
   "cell_type": "code",
   "execution_count": 29,
   "id": "c6688e51",
   "metadata": {
    "execution": {
     "iopub.execute_input": "2023-02-25T08:42:01.371631Z",
     "iopub.status.busy": "2023-02-25T08:42:01.371075Z",
     "iopub.status.idle": "2023-02-25T08:42:04.515478Z",
     "shell.execute_reply": "2023-02-25T08:42:04.514762Z"
    }
   },
   "outputs": [
    {
     "name": "stdout",
     "output_type": "stream",
     "text": [
      "386 µs ± 8.67 µs per loop (mean ± std. dev. of 7 runs, 1,000 loops each)\n"
     ]
    }
   ],
   "source": [
    "batch = Batch({\n",
    "    'obs': torch.randn(8, 4, 84, 84),\n",
    "    'action': torch.randint(0, 6, size=(8, 1,)),\n",
    "    'reward': torch.rand(8, 1)}\n",
    ")\n",
    "\n",
    "%timeit list(Batch.split(batch, 1, shuffle=False, merge_last=True))"
   ]
  },
  {
   "cell_type": "code",
   "execution_count": null,
   "id": "2539fbd9",
   "metadata": {},
   "outputs": [],
   "source": []
  }
 ],
 "metadata": {
  "kernelspec": {
   "display_name": "Python 3 (ipykernel)",
   "language": "python",
   "name": "python3"
  },
  "language_info": {
   "codemirror_mode": {
    "name": "ipython",
    "version": 3
   },
   "file_extension": ".py",
   "mimetype": "text/x-python",
   "name": "python",
   "nbconvert_exporter": "python",
   "pygments_lexer": "ipython3",
   "version": "3.8.16"
  }
 },
 "nbformat": 4,
 "nbformat_minor": 5
}
