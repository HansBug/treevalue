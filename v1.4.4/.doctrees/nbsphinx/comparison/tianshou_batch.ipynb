{
 "cells": [
  {
   "cell_type": "markdown",
   "id": "9d39d946",
   "metadata": {},
   "source": [
    "# Comparison Between TreeValue and Tianshou Batch"
   ]
  },
  {
   "cell_type": "markdown",
   "id": "3c6db2d4",
   "metadata": {},
   "source": [
    "In this section, we will take a look at the feature and performance of the [Tianshou Batch](https://github.com/thu-ml/tianshou) library, which is developed by Tsinghua Machine Learning Group."
   ]
  },
  {
   "cell_type": "markdown",
   "id": "069361b0",
   "metadata": {},
   "source": [
    "Before starting the comparison, let us define some thing."
   ]
  },
  {
   "cell_type": "code",
   "execution_count": 1,
   "id": "06fc8d26",
   "metadata": {
    "execution": {
     "iopub.execute_input": "2023-02-23T09:21:31.433367Z",
     "iopub.status.busy": "2023-02-23T09:21:31.432670Z",
     "iopub.status.idle": "2023-02-23T09:21:32.558562Z",
     "shell.execute_reply": "2023-02-23T09:21:32.557200Z"
    }
   },
   "outputs": [
    {
     "name": "stderr",
     "output_type": "stream",
     "text": [
      "/opt/hostedtoolcache/Python/3.8.16/x64/lib/python3.8/site-packages/tqdm/auto.py:22: TqdmWarning: IProgress not found. Please update jupyter and ipywidgets. See https://ipywidgets.readthedocs.io/en/stable/user_install.html\n",
      "  from .autonotebook import tqdm as notebook_tqdm\n"
     ]
    }
   ],
   "source": [
    "import torch \n",
    "\n",
    "_TREE_DATA_1 = {'a': 1, 'b': 2, 'x': {'c': 3, 'd': 4}}\n",
    "_TREE_DATA_2 = {\n",
    "    'a': torch.randn(2, 3), \n",
    "    'x': {\n",
    "        'c': torch.randn(3, 4)\n",
    "    },\n",
    "}\n",
    "_TREE_DATA_3 = {\n",
    "    'obs': torch.randn(4, 84, 84),\n",
    "    'action': torch.randint(0, 6, size=(1,)),\n",
    "    'reward': torch.rand(1),\n",
    "}"
   ]
  },
  {
   "cell_type": "markdown",
   "id": "83461b25",
   "metadata": {},
   "source": [
    "## Read and Write Operation"
   ]
  },
  {
   "cell_type": "markdown",
   "id": "067b3f73",
   "metadata": {},
   "source": [
    "Reading and writing are the two most common operations in the tree data structure based on the data model (TreeValue and Tianshou Batch both belong to this type), so this section will compare the reading and writing performance of these two libraries."
   ]
  },
  {
   "cell_type": "markdown",
   "id": "5d09a5b7",
   "metadata": {},
   "source": [
    "### TreeValue's Get and Set"
   ]
  },
  {
   "cell_type": "code",
   "execution_count": 2,
   "id": "9519c4bb",
   "metadata": {
    "execution": {
     "iopub.execute_input": "2023-02-23T09:21:32.564146Z",
     "iopub.status.busy": "2023-02-23T09:21:32.563323Z",
     "iopub.status.idle": "2023-02-23T09:21:32.603123Z",
     "shell.execute_reply": "2023-02-23T09:21:32.602212Z"
    }
   },
   "outputs": [],
   "source": [
    "from treevalue import FastTreeValue\n",
    "\n",
    "t = FastTreeValue(_TREE_DATA_2)"
   ]
  },
  {
   "cell_type": "code",
   "execution_count": 3,
   "id": "11c37677",
   "metadata": {
    "execution": {
     "iopub.execute_input": "2023-02-23T09:21:32.607548Z",
     "iopub.status.busy": "2023-02-23T09:21:32.606866Z",
     "iopub.status.idle": "2023-02-23T09:21:32.617809Z",
     "shell.execute_reply": "2023-02-23T09:21:32.617090Z"
    }
   },
   "outputs": [
    {
     "data": {
      "text/plain": [
       "<FastTreeValue 0x7f450c90c070>\n",
       "├── 'a' --> tensor([[ 0.5033, -1.0354,  1.0424],\n",
       "│                   [ 1.0295,  1.0506, -2.3281]])\n",
       "└── 'x' --> <FastTreeValue 0x7f450c90c9d0>\n",
       "    └── 'c' --> tensor([[-0.0324, -0.5094, -0.5279,  0.7295],\n",
       "                        [ 1.0834, -0.3532, -0.4174, -0.6022],\n",
       "                        [ 0.4785, -2.2128,  0.9645, -0.5289]])"
      ]
     },
     "execution_count": 3,
     "metadata": {},
     "output_type": "execute_result"
    }
   ],
   "source": [
    "t"
   ]
  },
  {
   "cell_type": "code",
   "execution_count": 4,
   "id": "fd70b0b9",
   "metadata": {
    "execution": {
     "iopub.execute_input": "2023-02-23T09:21:32.621033Z",
     "iopub.status.busy": "2023-02-23T09:21:32.620557Z",
     "iopub.status.idle": "2023-02-23T09:21:32.626350Z",
     "shell.execute_reply": "2023-02-23T09:21:32.625548Z"
    }
   },
   "outputs": [
    {
     "data": {
      "text/plain": [
       "tensor([[ 0.5033, -1.0354,  1.0424],\n",
       "        [ 1.0295,  1.0506, -2.3281]])"
      ]
     },
     "execution_count": 4,
     "metadata": {},
     "output_type": "execute_result"
    }
   ],
   "source": [
    "t.a"
   ]
  },
  {
   "cell_type": "code",
   "execution_count": 5,
   "id": "c18197bd",
   "metadata": {
    "execution": {
     "iopub.execute_input": "2023-02-23T09:21:32.629479Z",
     "iopub.status.busy": "2023-02-23T09:21:32.629046Z",
     "iopub.status.idle": "2023-02-23T09:21:38.953372Z",
     "shell.execute_reply": "2023-02-23T09:21:38.952076Z"
    }
   },
   "outputs": [
    {
     "name": "stdout",
     "output_type": "stream",
     "text": [
      "77.8 ns ± 0.212 ns per loop (mean ± std. dev. of 7 runs, 10,000,000 loops each)\n"
     ]
    }
   ],
   "source": [
    "%timeit t.a"
   ]
  },
  {
   "cell_type": "code",
   "execution_count": 6,
   "id": "bd52f867",
   "metadata": {
    "execution": {
     "iopub.execute_input": "2023-02-23T09:21:38.958332Z",
     "iopub.status.busy": "2023-02-23T09:21:38.957497Z",
     "iopub.status.idle": "2023-02-23T09:21:38.965547Z",
     "shell.execute_reply": "2023-02-23T09:21:38.964825Z"
    }
   },
   "outputs": [
    {
     "data": {
      "text/plain": [
       "<FastTreeValue 0x7f450c90c070>\n",
       "├── 'a' --> tensor([[-1.6654, -0.8445,  1.0496],\n",
       "│                   [ 0.8499, -2.4235, -0.6134]])\n",
       "└── 'x' --> <FastTreeValue 0x7f450c90c9d0>\n",
       "    └── 'c' --> tensor([[-0.0324, -0.5094, -0.5279,  0.7295],\n",
       "                        [ 1.0834, -0.3532, -0.4174, -0.6022],\n",
       "                        [ 0.4785, -2.2128,  0.9645, -0.5289]])"
      ]
     },
     "execution_count": 6,
     "metadata": {},
     "output_type": "execute_result"
    }
   ],
   "source": [
    "new_value = torch.randn(2, 3)\n",
    "t.a = new_value\n",
    "\n",
    "t"
   ]
  },
  {
   "cell_type": "code",
   "execution_count": 7,
   "id": "bbe04d1c",
   "metadata": {
    "execution": {
     "iopub.execute_input": "2023-02-23T09:21:38.969094Z",
     "iopub.status.busy": "2023-02-23T09:21:38.968506Z",
     "iopub.status.idle": "2023-02-23T09:21:45.544715Z",
     "shell.execute_reply": "2023-02-23T09:21:45.543622Z"
    }
   },
   "outputs": [
    {
     "name": "stdout",
     "output_type": "stream",
     "text": [
      "81 ns ± 0.315 ns per loop (mean ± std. dev. of 7 runs, 10,000,000 loops each)\n"
     ]
    }
   ],
   "source": [
    "%timeit t.a = new_value"
   ]
  },
  {
   "cell_type": "markdown",
   "id": "48c49731",
   "metadata": {},
   "source": [
    "### Tianshou Batch's Get and Set"
   ]
  },
  {
   "cell_type": "code",
   "execution_count": 8,
   "id": "f1bb14c1",
   "metadata": {
    "execution": {
     "iopub.execute_input": "2023-02-23T09:21:45.549115Z",
     "iopub.status.busy": "2023-02-23T09:21:45.548549Z",
     "iopub.status.idle": "2023-02-23T09:21:45.955917Z",
     "shell.execute_reply": "2023-02-23T09:21:45.954979Z"
    }
   },
   "outputs": [],
   "source": [
    "from tianshou.data import Batch\n",
    "\n",
    "b = Batch(**_TREE_DATA_2)"
   ]
  },
  {
   "cell_type": "code",
   "execution_count": 9,
   "id": "cb0777c3",
   "metadata": {
    "execution": {
     "iopub.execute_input": "2023-02-23T09:21:45.959984Z",
     "iopub.status.busy": "2023-02-23T09:21:45.959333Z",
     "iopub.status.idle": "2023-02-23T09:21:45.965804Z",
     "shell.execute_reply": "2023-02-23T09:21:45.965036Z"
    }
   },
   "outputs": [
    {
     "data": {
      "text/plain": [
       "Batch(\n",
       "    a: tensor([[ 0.5033, -1.0354,  1.0424],\n",
       "               [ 1.0295,  1.0506, -2.3281]]),\n",
       "    x: Batch(\n",
       "           c: tensor([[-0.0324, -0.5094, -0.5279,  0.7295],\n",
       "                      [ 1.0834, -0.3532, -0.4174, -0.6022],\n",
       "                      [ 0.4785, -2.2128,  0.9645, -0.5289]]),\n",
       "       ),\n",
       ")"
      ]
     },
     "execution_count": 9,
     "metadata": {},
     "output_type": "execute_result"
    }
   ],
   "source": [
    "b"
   ]
  },
  {
   "cell_type": "code",
   "execution_count": 10,
   "id": "43ef8ea3",
   "metadata": {
    "execution": {
     "iopub.execute_input": "2023-02-23T09:21:45.969121Z",
     "iopub.status.busy": "2023-02-23T09:21:45.968604Z",
     "iopub.status.idle": "2023-02-23T09:21:45.973938Z",
     "shell.execute_reply": "2023-02-23T09:21:45.973180Z"
    }
   },
   "outputs": [
    {
     "data": {
      "text/plain": [
       "tensor([[ 0.5033, -1.0354,  1.0424],\n",
       "        [ 1.0295,  1.0506, -2.3281]])"
      ]
     },
     "execution_count": 10,
     "metadata": {},
     "output_type": "execute_result"
    }
   ],
   "source": [
    "b.a"
   ]
  },
  {
   "cell_type": "code",
   "execution_count": 11,
   "id": "b785ab72",
   "metadata": {
    "execution": {
     "iopub.execute_input": "2023-02-23T09:21:45.976812Z",
     "iopub.status.busy": "2023-02-23T09:21:45.976394Z",
     "iopub.status.idle": "2023-02-23T09:21:51.627567Z",
     "shell.execute_reply": "2023-02-23T09:21:51.626625Z"
    }
   },
   "outputs": [
    {
     "name": "stdout",
     "output_type": "stream",
     "text": [
      "69.7 ns ± 0.178 ns per loop (mean ± std. dev. of 7 runs, 10,000,000 loops each)\n"
     ]
    }
   ],
   "source": [
    "%timeit b.a"
   ]
  },
  {
   "cell_type": "code",
   "execution_count": 12,
   "id": "ad54dc69",
   "metadata": {
    "execution": {
     "iopub.execute_input": "2023-02-23T09:21:51.631340Z",
     "iopub.status.busy": "2023-02-23T09:21:51.630900Z",
     "iopub.status.idle": "2023-02-23T09:21:51.639247Z",
     "shell.execute_reply": "2023-02-23T09:21:51.638512Z"
    }
   },
   "outputs": [
    {
     "data": {
      "text/plain": [
       "Batch(\n",
       "    a: tensor([[ 0.0228,  1.0237, -1.9579],\n",
       "               [ 0.3323,  0.2582, -0.3524]]),\n",
       "    x: Batch(\n",
       "           c: tensor([[-0.0324, -0.5094, -0.5279,  0.7295],\n",
       "                      [ 1.0834, -0.3532, -0.4174, -0.6022],\n",
       "                      [ 0.4785, -2.2128,  0.9645, -0.5289]]),\n",
       "       ),\n",
       ")"
      ]
     },
     "execution_count": 12,
     "metadata": {},
     "output_type": "execute_result"
    }
   ],
   "source": [
    "new_value = torch.randn(2, 3)\n",
    "b.a = new_value\n",
    "\n",
    "b"
   ]
  },
  {
   "cell_type": "code",
   "execution_count": 13,
   "id": "29b1d0bf",
   "metadata": {
    "execution": {
     "iopub.execute_input": "2023-02-23T09:21:51.642425Z",
     "iopub.status.busy": "2023-02-23T09:21:51.641976Z",
     "iopub.status.idle": "2023-02-23T09:21:56.497712Z",
     "shell.execute_reply": "2023-02-23T09:21:56.496615Z"
    }
   },
   "outputs": [
    {
     "name": "stdout",
     "output_type": "stream",
     "text": [
      "598 ns ± 1.55 ns per loop (mean ± std. dev. of 7 runs, 1,000,000 loops each)\n"
     ]
    }
   ],
   "source": [
    "%timeit b.a = new_value"
   ]
  },
  {
   "cell_type": "markdown",
   "id": "b61ad1d0",
   "metadata": {},
   "source": [
    "## Initialization"
   ]
  },
  {
   "cell_type": "markdown",
   "id": "d70f0d54",
   "metadata": {},
   "source": [
    "### TreeValue's Initialization"
   ]
  },
  {
   "cell_type": "code",
   "execution_count": 14,
   "id": "d32a679b",
   "metadata": {
    "execution": {
     "iopub.execute_input": "2023-02-23T09:21:56.502445Z",
     "iopub.status.busy": "2023-02-23T09:21:56.501582Z",
     "iopub.status.idle": "2023-02-23T09:22:04.558384Z",
     "shell.execute_reply": "2023-02-23T09:22:04.557202Z"
    }
   },
   "outputs": [
    {
     "name": "stdout",
     "output_type": "stream",
     "text": [
      "991 ns ± 7.13 ns per loop (mean ± std. dev. of 7 runs, 1,000,000 loops each)\n"
     ]
    }
   ],
   "source": [
    "%timeit FastTreeValue(_TREE_DATA_1)"
   ]
  },
  {
   "cell_type": "markdown",
   "id": "24f3707b",
   "metadata": {},
   "source": [
    "### Tianshou Batch's Initialization"
   ]
  },
  {
   "cell_type": "code",
   "execution_count": 15,
   "id": "ac3958df",
   "metadata": {
    "execution": {
     "iopub.execute_input": "2023-02-23T09:22:04.562261Z",
     "iopub.status.busy": "2023-02-23T09:22:04.561808Z",
     "iopub.status.idle": "2023-02-23T09:22:14.098965Z",
     "shell.execute_reply": "2023-02-23T09:22:14.097883Z"
    }
   },
   "outputs": [
    {
     "name": "stdout",
     "output_type": "stream",
     "text": [
      "11.7 µs ± 74.2 ns per loop (mean ± std. dev. of 7 runs, 100,000 loops each)\n"
     ]
    }
   ],
   "source": [
    "%timeit Batch(**_TREE_DATA_1)"
   ]
  },
  {
   "cell_type": "markdown",
   "id": "1ab82e2d",
   "metadata": {},
   "source": [
    "## Deep Copy Operation"
   ]
  },
  {
   "cell_type": "code",
   "execution_count": 16,
   "id": "210a9442",
   "metadata": {
    "execution": {
     "iopub.execute_input": "2023-02-23T09:22:14.102768Z",
     "iopub.status.busy": "2023-02-23T09:22:14.102043Z",
     "iopub.status.idle": "2023-02-23T09:22:14.106854Z",
     "shell.execute_reply": "2023-02-23T09:22:14.106108Z"
    }
   },
   "outputs": [],
   "source": [
    "import copy"
   ]
  },
  {
   "cell_type": "markdown",
   "id": "5a736274",
   "metadata": {},
   "source": [
    "### Deep Copy of TreeValue"
   ]
  },
  {
   "cell_type": "code",
   "execution_count": 17,
   "id": "f9bcadd6",
   "metadata": {
    "execution": {
     "iopub.execute_input": "2023-02-23T09:22:14.110095Z",
     "iopub.status.busy": "2023-02-23T09:22:14.109431Z",
     "iopub.status.idle": "2023-02-23T09:22:27.826245Z",
     "shell.execute_reply": "2023-02-23T09:22:27.825483Z"
    }
   },
   "outputs": [
    {
     "name": "stdout",
     "output_type": "stream",
     "text": [
      "169 µs ± 483 ns per loop (mean ± std. dev. of 7 runs, 10,000 loops each)\n"
     ]
    }
   ],
   "source": [
    "t3 = FastTreeValue(_TREE_DATA_3)\n",
    "%timeit copy.deepcopy(t3)"
   ]
  },
  {
   "cell_type": "markdown",
   "id": "bf8be7ea",
   "metadata": {},
   "source": [
    "### Deep Copy of Tianshou Batch"
   ]
  },
  {
   "cell_type": "code",
   "execution_count": 18,
   "id": "91998e6f",
   "metadata": {
    "execution": {
     "iopub.execute_input": "2023-02-23T09:22:27.829618Z",
     "iopub.status.busy": "2023-02-23T09:22:27.829109Z",
     "iopub.status.idle": "2023-02-23T09:22:41.499611Z",
     "shell.execute_reply": "2023-02-23T09:22:41.498881Z"
    }
   },
   "outputs": [
    {
     "name": "stdout",
     "output_type": "stream",
     "text": [
      "168 µs ± 453 ns per loop (mean ± std. dev. of 7 runs, 10,000 loops each)\n"
     ]
    }
   ],
   "source": [
    "b3 = Batch(**_TREE_DATA_3)\n",
    "%timeit copy.deepcopy(b3)"
   ]
  },
  {
   "cell_type": "markdown",
   "id": "223162fb",
   "metadata": {},
   "source": [
    "## Stack, Concat and Split Operation"
   ]
  },
  {
   "cell_type": "markdown",
   "id": "85fa4a73",
   "metadata": {},
   "source": [
    "### Performance of TreeValue"
   ]
  },
  {
   "cell_type": "code",
   "execution_count": 19,
   "id": "a0c2b697",
   "metadata": {
    "execution": {
     "iopub.execute_input": "2023-02-23T09:22:41.503059Z",
     "iopub.status.busy": "2023-02-23T09:22:41.502458Z",
     "iopub.status.idle": "2023-02-23T09:22:41.506448Z",
     "shell.execute_reply": "2023-02-23T09:22:41.505771Z"
    }
   },
   "outputs": [],
   "source": [
    "trees = [FastTreeValue(_TREE_DATA_2) for _ in range(8)]"
   ]
  },
  {
   "cell_type": "code",
   "execution_count": 20,
   "id": "017ea5a5",
   "metadata": {
    "execution": {
     "iopub.execute_input": "2023-02-23T09:22:41.509328Z",
     "iopub.status.busy": "2023-02-23T09:22:41.508795Z",
     "iopub.status.idle": "2023-02-23T09:22:41.517148Z",
     "shell.execute_reply": "2023-02-23T09:22:41.516516Z"
    }
   },
   "outputs": [
    {
     "data": {
      "text/plain": [
       "<FastTreeValue 0x7f450c898af0>\n",
       "├── 'a' --> tensor([[[ 0.5033, -1.0354,  1.0424],\n",
       "│                    [ 1.0295,  1.0506, -2.3281]],\n",
       "│           \n",
       "│                   [[ 0.5033, -1.0354,  1.0424],\n",
       "│                    [ 1.0295,  1.0506, -2.3281]],\n",
       "│           \n",
       "│                   [[ 0.5033, -1.0354,  1.0424],\n",
       "│                    [ 1.0295,  1.0506, -2.3281]],\n",
       "│           \n",
       "│                   [[ 0.5033, -1.0354,  1.0424],\n",
       "│                    [ 1.0295,  1.0506, -2.3281]],\n",
       "│           \n",
       "│                   [[ 0.5033, -1.0354,  1.0424],\n",
       "│                    [ 1.0295,  1.0506, -2.3281]],\n",
       "│           \n",
       "│                   [[ 0.5033, -1.0354,  1.0424],\n",
       "│                    [ 1.0295,  1.0506, -2.3281]],\n",
       "│           \n",
       "│                   [[ 0.5033, -1.0354,  1.0424],\n",
       "│                    [ 1.0295,  1.0506, -2.3281]],\n",
       "│           \n",
       "│                   [[ 0.5033, -1.0354,  1.0424],\n",
       "│                    [ 1.0295,  1.0506, -2.3281]]])\n",
       "└── 'x' --> <FastTreeValue 0x7f450c859880>\n",
       "    └── 'c' --> tensor([[[-0.0324, -0.5094, -0.5279,  0.7295],\n",
       "                         [ 1.0834, -0.3532, -0.4174, -0.6022],\n",
       "                         [ 0.4785, -2.2128,  0.9645, -0.5289]],\n",
       "                \n",
       "                        [[-0.0324, -0.5094, -0.5279,  0.7295],\n",
       "                         [ 1.0834, -0.3532, -0.4174, -0.6022],\n",
       "                         [ 0.4785, -2.2128,  0.9645, -0.5289]],\n",
       "                \n",
       "                        [[-0.0324, -0.5094, -0.5279,  0.7295],\n",
       "                         [ 1.0834, -0.3532, -0.4174, -0.6022],\n",
       "                         [ 0.4785, -2.2128,  0.9645, -0.5289]],\n",
       "                \n",
       "                        [[-0.0324, -0.5094, -0.5279,  0.7295],\n",
       "                         [ 1.0834, -0.3532, -0.4174, -0.6022],\n",
       "                         [ 0.4785, -2.2128,  0.9645, -0.5289]],\n",
       "                \n",
       "                        [[-0.0324, -0.5094, -0.5279,  0.7295],\n",
       "                         [ 1.0834, -0.3532, -0.4174, -0.6022],\n",
       "                         [ 0.4785, -2.2128,  0.9645, -0.5289]],\n",
       "                \n",
       "                        [[-0.0324, -0.5094, -0.5279,  0.7295],\n",
       "                         [ 1.0834, -0.3532, -0.4174, -0.6022],\n",
       "                         [ 0.4785, -2.2128,  0.9645, -0.5289]],\n",
       "                \n",
       "                        [[-0.0324, -0.5094, -0.5279,  0.7295],\n",
       "                         [ 1.0834, -0.3532, -0.4174, -0.6022],\n",
       "                         [ 0.4785, -2.2128,  0.9645, -0.5289]],\n",
       "                \n",
       "                        [[-0.0324, -0.5094, -0.5279,  0.7295],\n",
       "                         [ 1.0834, -0.3532, -0.4174, -0.6022],\n",
       "                         [ 0.4785, -2.2128,  0.9645, -0.5289]]])"
      ]
     },
     "execution_count": 20,
     "metadata": {},
     "output_type": "execute_result"
    }
   ],
   "source": [
    "t_stack = FastTreeValue.func(subside=True)(torch.stack)\n",
    "\n",
    "t_stack(trees)"
   ]
  },
  {
   "cell_type": "code",
   "execution_count": 21,
   "id": "f8b3f415",
   "metadata": {
    "execution": {
     "iopub.execute_input": "2023-02-23T09:22:41.520139Z",
     "iopub.status.busy": "2023-02-23T09:22:41.519453Z",
     "iopub.status.idle": "2023-02-23T09:22:44.587007Z",
     "shell.execute_reply": "2023-02-23T09:22:44.585942Z"
    }
   },
   "outputs": [
    {
     "name": "stdout",
     "output_type": "stream",
     "text": [
      "37.7 µs ± 161 ns per loop (mean ± std. dev. of 7 runs, 10,000 loops each)\n"
     ]
    }
   ],
   "source": [
    "%timeit t_stack(trees)"
   ]
  },
  {
   "cell_type": "code",
   "execution_count": 22,
   "id": "94b56771",
   "metadata": {
    "execution": {
     "iopub.execute_input": "2023-02-23T09:22:44.591171Z",
     "iopub.status.busy": "2023-02-23T09:22:44.590594Z",
     "iopub.status.idle": "2023-02-23T09:22:44.602302Z",
     "shell.execute_reply": "2023-02-23T09:22:44.601486Z"
    }
   },
   "outputs": [
    {
     "data": {
      "text/plain": [
       "<FastTreeValue 0x7f4462c89a00>\n",
       "├── 'a' --> tensor([[ 0.5033, -1.0354,  1.0424],\n",
       "│                   [ 1.0295,  1.0506, -2.3281],\n",
       "│                   [ 0.5033, -1.0354,  1.0424],\n",
       "│                   [ 1.0295,  1.0506, -2.3281],\n",
       "│                   [ 0.5033, -1.0354,  1.0424],\n",
       "│                   [ 1.0295,  1.0506, -2.3281],\n",
       "│                   [ 0.5033, -1.0354,  1.0424],\n",
       "│                   [ 1.0295,  1.0506, -2.3281],\n",
       "│                   [ 0.5033, -1.0354,  1.0424],\n",
       "│                   [ 1.0295,  1.0506, -2.3281],\n",
       "│                   [ 0.5033, -1.0354,  1.0424],\n",
       "│                   [ 1.0295,  1.0506, -2.3281],\n",
       "│                   [ 0.5033, -1.0354,  1.0424],\n",
       "│                   [ 1.0295,  1.0506, -2.3281],\n",
       "│                   [ 0.5033, -1.0354,  1.0424],\n",
       "│                   [ 1.0295,  1.0506, -2.3281]])\n",
       "└── 'x' --> <FastTreeValue 0x7f450c898c10>\n",
       "    └── 'c' --> tensor([[-0.0324, -0.5094, -0.5279,  0.7295],\n",
       "                        [ 1.0834, -0.3532, -0.4174, -0.6022],\n",
       "                        [ 0.4785, -2.2128,  0.9645, -0.5289],\n",
       "                        [-0.0324, -0.5094, -0.5279,  0.7295],\n",
       "                        [ 1.0834, -0.3532, -0.4174, -0.6022],\n",
       "                        [ 0.4785, -2.2128,  0.9645, -0.5289],\n",
       "                        [-0.0324, -0.5094, -0.5279,  0.7295],\n",
       "                        [ 1.0834, -0.3532, -0.4174, -0.6022],\n",
       "                        [ 0.4785, -2.2128,  0.9645, -0.5289],\n",
       "                        [-0.0324, -0.5094, -0.5279,  0.7295],\n",
       "                        [ 1.0834, -0.3532, -0.4174, -0.6022],\n",
       "                        [ 0.4785, -2.2128,  0.9645, -0.5289],\n",
       "                        [-0.0324, -0.5094, -0.5279,  0.7295],\n",
       "                        [ 1.0834, -0.3532, -0.4174, -0.6022],\n",
       "                        [ 0.4785, -2.2128,  0.9645, -0.5289],\n",
       "                        [-0.0324, -0.5094, -0.5279,  0.7295],\n",
       "                        [ 1.0834, -0.3532, -0.4174, -0.6022],\n",
       "                        [ 0.4785, -2.2128,  0.9645, -0.5289],\n",
       "                        [-0.0324, -0.5094, -0.5279,  0.7295],\n",
       "                        [ 1.0834, -0.3532, -0.4174, -0.6022],\n",
       "                        [ 0.4785, -2.2128,  0.9645, -0.5289],\n",
       "                        [-0.0324, -0.5094, -0.5279,  0.7295],\n",
       "                        [ 1.0834, -0.3532, -0.4174, -0.6022],\n",
       "                        [ 0.4785, -2.2128,  0.9645, -0.5289]])"
      ]
     },
     "execution_count": 22,
     "metadata": {},
     "output_type": "execute_result"
    }
   ],
   "source": [
    "t_cat = FastTreeValue.func(subside=True)(torch.cat)\n",
    "\n",
    "t_cat(trees)"
   ]
  },
  {
   "cell_type": "code",
   "execution_count": 23,
   "id": "5e9c06a6",
   "metadata": {
    "execution": {
     "iopub.execute_input": "2023-02-23T09:22:44.606722Z",
     "iopub.status.busy": "2023-02-23T09:22:44.605472Z",
     "iopub.status.idle": "2023-02-23T09:22:47.513279Z",
     "shell.execute_reply": "2023-02-23T09:22:47.512077Z"
    }
   },
   "outputs": [
    {
     "name": "stdout",
     "output_type": "stream",
     "text": [
      "35.5 µs ± 121 ns per loop (mean ± std. dev. of 7 runs, 10,000 loops each)\n"
     ]
    }
   ],
   "source": [
    "%timeit t_cat(trees)"
   ]
  },
  {
   "cell_type": "code",
   "execution_count": 24,
   "id": "a3ab5c8f",
   "metadata": {
    "execution": {
     "iopub.execute_input": "2023-02-23T09:22:47.517486Z",
     "iopub.status.busy": "2023-02-23T09:22:47.516681Z",
     "iopub.status.idle": "2023-02-23T09:22:52.869390Z",
     "shell.execute_reply": "2023-02-23T09:22:52.867220Z"
    }
   },
   "outputs": [
    {
     "name": "stdout",
     "output_type": "stream",
     "text": [
      "65.8 µs ± 74.2 ns per loop (mean ± std. dev. of 7 runs, 10,000 loops each)\n"
     ]
    }
   ],
   "source": [
    "t_split = FastTreeValue.func(rise=True)(torch.split)\n",
    "tree = FastTreeValue({\n",
    "    'obs': torch.randn(8, 4, 84, 84),\n",
    "    'action': torch.randint(0, 6, size=(8, 1,)),\n",
    "    'reward': torch.rand(8, 1),\n",
    "})\n",
    "\n",
    "%timeit t_split(tree, 1)"
   ]
  },
  {
   "cell_type": "markdown",
   "id": "31c3ec0b",
   "metadata": {},
   "source": [
    "### Performance of Tianshou Batch"
   ]
  },
  {
   "cell_type": "code",
   "execution_count": 25,
   "id": "9ead828a",
   "metadata": {
    "execution": {
     "iopub.execute_input": "2023-02-23T09:22:52.873847Z",
     "iopub.status.busy": "2023-02-23T09:22:52.873558Z",
     "iopub.status.idle": "2023-02-23T09:22:52.883254Z",
     "shell.execute_reply": "2023-02-23T09:22:52.882497Z"
    }
   },
   "outputs": [
    {
     "data": {
      "text/plain": [
       "Batch(\n",
       "    x: Batch(\n",
       "           c: tensor([[[-0.0324, -0.5094, -0.5279,  0.7295],\n",
       "                       [ 1.0834, -0.3532, -0.4174, -0.6022],\n",
       "                       [ 0.4785, -2.2128,  0.9645, -0.5289]],\n",
       "              \n",
       "                      [[-0.0324, -0.5094, -0.5279,  0.7295],\n",
       "                       [ 1.0834, -0.3532, -0.4174, -0.6022],\n",
       "                       [ 0.4785, -2.2128,  0.9645, -0.5289]],\n",
       "              \n",
       "                      [[-0.0324, -0.5094, -0.5279,  0.7295],\n",
       "                       [ 1.0834, -0.3532, -0.4174, -0.6022],\n",
       "                       [ 0.4785, -2.2128,  0.9645, -0.5289]],\n",
       "              \n",
       "                      [[-0.0324, -0.5094, -0.5279,  0.7295],\n",
       "                       [ 1.0834, -0.3532, -0.4174, -0.6022],\n",
       "                       [ 0.4785, -2.2128,  0.9645, -0.5289]],\n",
       "              \n",
       "                      [[-0.0324, -0.5094, -0.5279,  0.7295],\n",
       "                       [ 1.0834, -0.3532, -0.4174, -0.6022],\n",
       "                       [ 0.4785, -2.2128,  0.9645, -0.5289]],\n",
       "              \n",
       "                      [[-0.0324, -0.5094, -0.5279,  0.7295],\n",
       "                       [ 1.0834, -0.3532, -0.4174, -0.6022],\n",
       "                       [ 0.4785, -2.2128,  0.9645, -0.5289]],\n",
       "              \n",
       "                      [[-0.0324, -0.5094, -0.5279,  0.7295],\n",
       "                       [ 1.0834, -0.3532, -0.4174, -0.6022],\n",
       "                       [ 0.4785, -2.2128,  0.9645, -0.5289]],\n",
       "              \n",
       "                      [[-0.0324, -0.5094, -0.5279,  0.7295],\n",
       "                       [ 1.0834, -0.3532, -0.4174, -0.6022],\n",
       "                       [ 0.4785, -2.2128,  0.9645, -0.5289]]]),\n",
       "       ),\n",
       "    a: tensor([[[ 0.5033, -1.0354,  1.0424],\n",
       "                [ 1.0295,  1.0506, -2.3281]],\n",
       "       \n",
       "               [[ 0.5033, -1.0354,  1.0424],\n",
       "                [ 1.0295,  1.0506, -2.3281]],\n",
       "       \n",
       "               [[ 0.5033, -1.0354,  1.0424],\n",
       "                [ 1.0295,  1.0506, -2.3281]],\n",
       "       \n",
       "               [[ 0.5033, -1.0354,  1.0424],\n",
       "                [ 1.0295,  1.0506, -2.3281]],\n",
       "       \n",
       "               [[ 0.5033, -1.0354,  1.0424],\n",
       "                [ 1.0295,  1.0506, -2.3281]],\n",
       "       \n",
       "               [[ 0.5033, -1.0354,  1.0424],\n",
       "                [ 1.0295,  1.0506, -2.3281]],\n",
       "       \n",
       "               [[ 0.5033, -1.0354,  1.0424],\n",
       "                [ 1.0295,  1.0506, -2.3281]],\n",
       "       \n",
       "               [[ 0.5033, -1.0354,  1.0424],\n",
       "                [ 1.0295,  1.0506, -2.3281]]]),\n",
       ")"
      ]
     },
     "execution_count": 25,
     "metadata": {},
     "output_type": "execute_result"
    }
   ],
   "source": [
    "batches = [Batch(**_TREE_DATA_2) for _ in range(8)]\n",
    "\n",
    "Batch.stack(batches)"
   ]
  },
  {
   "cell_type": "code",
   "execution_count": 26,
   "id": "ec9037a3",
   "metadata": {
    "execution": {
     "iopub.execute_input": "2023-02-23T09:22:52.886403Z",
     "iopub.status.busy": "2023-02-23T09:22:52.886132Z",
     "iopub.status.idle": "2023-02-23T09:23:00.304426Z",
     "shell.execute_reply": "2023-02-23T09:23:00.302909Z"
    }
   },
   "outputs": [
    {
     "name": "stdout",
     "output_type": "stream",
     "text": [
      "91.3 µs ± 213 ns per loop (mean ± std. dev. of 7 runs, 10,000 loops each)\n"
     ]
    }
   ],
   "source": [
    "%timeit Batch.stack(batches)"
   ]
  },
  {
   "cell_type": "code",
   "execution_count": 27,
   "id": "cb8ab77e",
   "metadata": {
    "execution": {
     "iopub.execute_input": "2023-02-23T09:23:00.308844Z",
     "iopub.status.busy": "2023-02-23T09:23:00.308555Z",
     "iopub.status.idle": "2023-02-23T09:23:00.318159Z",
     "shell.execute_reply": "2023-02-23T09:23:00.317405Z"
    }
   },
   "outputs": [
    {
     "data": {
      "text/plain": [
       "Batch(\n",
       "    x: Batch(\n",
       "           c: tensor([[-0.0324, -0.5094, -0.5279,  0.7295],\n",
       "                      [ 1.0834, -0.3532, -0.4174, -0.6022],\n",
       "                      [ 0.4785, -2.2128,  0.9645, -0.5289],\n",
       "                      [-0.0324, -0.5094, -0.5279,  0.7295],\n",
       "                      [ 1.0834, -0.3532, -0.4174, -0.6022],\n",
       "                      [ 0.4785, -2.2128,  0.9645, -0.5289],\n",
       "                      [-0.0324, -0.5094, -0.5279,  0.7295],\n",
       "                      [ 1.0834, -0.3532, -0.4174, -0.6022],\n",
       "                      [ 0.4785, -2.2128,  0.9645, -0.5289],\n",
       "                      [-0.0324, -0.5094, -0.5279,  0.7295],\n",
       "                      [ 1.0834, -0.3532, -0.4174, -0.6022],\n",
       "                      [ 0.4785, -2.2128,  0.9645, -0.5289],\n",
       "                      [-0.0324, -0.5094, -0.5279,  0.7295],\n",
       "                      [ 1.0834, -0.3532, -0.4174, -0.6022],\n",
       "                      [ 0.4785, -2.2128,  0.9645, -0.5289],\n",
       "                      [-0.0324, -0.5094, -0.5279,  0.7295],\n",
       "                      [ 1.0834, -0.3532, -0.4174, -0.6022],\n",
       "                      [ 0.4785, -2.2128,  0.9645, -0.5289],\n",
       "                      [-0.0324, -0.5094, -0.5279,  0.7295],\n",
       "                      [ 1.0834, -0.3532, -0.4174, -0.6022],\n",
       "                      [ 0.4785, -2.2128,  0.9645, -0.5289],\n",
       "                      [-0.0324, -0.5094, -0.5279,  0.7295],\n",
       "                      [ 1.0834, -0.3532, -0.4174, -0.6022],\n",
       "                      [ 0.4785, -2.2128,  0.9645, -0.5289]]),\n",
       "       ),\n",
       "    a: tensor([[ 0.5033, -1.0354,  1.0424],\n",
       "               [ 1.0295,  1.0506, -2.3281],\n",
       "               [ 0.5033, -1.0354,  1.0424],\n",
       "               [ 1.0295,  1.0506, -2.3281],\n",
       "               [ 0.5033, -1.0354,  1.0424],\n",
       "               [ 1.0295,  1.0506, -2.3281],\n",
       "               [ 0.5033, -1.0354,  1.0424],\n",
       "               [ 1.0295,  1.0506, -2.3281],\n",
       "               [ 0.5033, -1.0354,  1.0424],\n",
       "               [ 1.0295,  1.0506, -2.3281],\n",
       "               [ 0.5033, -1.0354,  1.0424],\n",
       "               [ 1.0295,  1.0506, -2.3281],\n",
       "               [ 0.5033, -1.0354,  1.0424],\n",
       "               [ 1.0295,  1.0506, -2.3281],\n",
       "               [ 0.5033, -1.0354,  1.0424],\n",
       "               [ 1.0295,  1.0506, -2.3281]]),\n",
       ")"
      ]
     },
     "execution_count": 27,
     "metadata": {},
     "output_type": "execute_result"
    }
   ],
   "source": [
    "Batch.cat(batches)"
   ]
  },
  {
   "cell_type": "code",
   "execution_count": 28,
   "id": "18dfb045",
   "metadata": {
    "execution": {
     "iopub.execute_input": "2023-02-23T09:23:00.321800Z",
     "iopub.status.busy": "2023-02-23T09:23:00.321120Z",
     "iopub.status.idle": "2023-02-23T09:23:13.947606Z",
     "shell.execute_reply": "2023-02-23T09:23:13.946337Z"
    }
   },
   "outputs": [
    {
     "name": "stdout",
     "output_type": "stream",
     "text": [
      "168 µs ± 212 ns per loop (mean ± std. dev. of 7 runs, 10,000 loops each)\n"
     ]
    }
   ],
   "source": [
    "%timeit Batch.cat(batches)"
   ]
  },
  {
   "cell_type": "code",
   "execution_count": 29,
   "id": "c6688e51",
   "metadata": {
    "execution": {
     "iopub.execute_input": "2023-02-23T09:23:13.951956Z",
     "iopub.status.busy": "2023-02-23T09:23:13.951203Z",
     "iopub.status.idle": "2023-02-23T09:23:17.122512Z",
     "shell.execute_reply": "2023-02-23T09:23:17.121747Z"
    }
   },
   "outputs": [
    {
     "name": "stdout",
     "output_type": "stream",
     "text": [
      "389 µs ± 4.14 µs per loop (mean ± std. dev. of 7 runs, 1,000 loops each)\n"
     ]
    }
   ],
   "source": [
    "batch = Batch({\n",
    "    'obs': torch.randn(8, 4, 84, 84),\n",
    "    'action': torch.randint(0, 6, size=(8, 1,)),\n",
    "    'reward': torch.rand(8, 1)}\n",
    ")\n",
    "\n",
    "%timeit list(Batch.split(batch, 1, shuffle=False, merge_last=True))"
   ]
  },
  {
   "cell_type": "code",
   "execution_count": null,
   "id": "2539fbd9",
   "metadata": {},
   "outputs": [],
   "source": []
  }
 ],
 "metadata": {
  "kernelspec": {
   "display_name": "Python 3 (ipykernel)",
   "language": "python",
   "name": "python3"
  },
  "language_info": {
   "codemirror_mode": {
    "name": "ipython",
    "version": 3
   },
   "file_extension": ".py",
   "mimetype": "text/x-python",
   "name": "python",
   "nbconvert_exporter": "python",
   "pygments_lexer": "ipython3",
   "version": "3.8.16"
  }
 },
 "nbformat": 4,
 "nbformat_minor": 5
}
