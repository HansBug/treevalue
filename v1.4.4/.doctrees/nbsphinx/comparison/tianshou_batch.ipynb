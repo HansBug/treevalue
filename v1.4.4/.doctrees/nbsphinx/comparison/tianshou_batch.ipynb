{
 "cells": [
  {
   "cell_type": "markdown",
   "id": "9d39d946",
   "metadata": {},
   "source": [
    "# Comparison Between TreeValue and Tianshou Batch"
   ]
  },
  {
   "cell_type": "markdown",
   "id": "3c6db2d4",
   "metadata": {},
   "source": [
    "In this section, we will take a look at the feature and performance of the [Tianshou Batch](https://github.com/thu-ml/tianshou) library, which is developed by Tsinghua Machine Learning Group."
   ]
  },
  {
   "cell_type": "markdown",
   "id": "069361b0",
   "metadata": {},
   "source": [
    "Before starting the comparison, let us define some thing."
   ]
  },
  {
   "cell_type": "code",
   "execution_count": 1,
   "id": "06fc8d26",
   "metadata": {
    "execution": {
     "iopub.execute_input": "2023-02-27T13:18:18.034847Z",
     "iopub.status.busy": "2023-02-27T13:18:18.034355Z",
     "iopub.status.idle": "2023-02-27T13:18:19.068236Z",
     "shell.execute_reply": "2023-02-27T13:18:19.067416Z"
    }
   },
   "outputs": [
    {
     "name": "stderr",
     "output_type": "stream",
     "text": [
      "/opt/hostedtoolcache/Python/3.8.16/x64/lib/python3.8/site-packages/tqdm/auto.py:22: TqdmWarning: IProgress not found. Please update jupyter and ipywidgets. See https://ipywidgets.readthedocs.io/en/stable/user_install.html\n",
      "  from .autonotebook import tqdm as notebook_tqdm\n"
     ]
    }
   ],
   "source": [
    "import torch \n",
    "\n",
    "_TREE_DATA_1 = {'a': 1, 'b': 2, 'x': {'c': 3, 'd': 4}}\n",
    "_TREE_DATA_2 = {\n",
    "    'a': torch.randn(2, 3), \n",
    "    'x': {\n",
    "        'c': torch.randn(3, 4)\n",
    "    },\n",
    "}\n",
    "_TREE_DATA_3 = {\n",
    "    'obs': torch.randn(4, 84, 84),\n",
    "    'action': torch.randint(0, 6, size=(1,)),\n",
    "    'reward': torch.rand(1),\n",
    "}"
   ]
  },
  {
   "cell_type": "markdown",
   "id": "83461b25",
   "metadata": {},
   "source": [
    "## Read and Write Operation"
   ]
  },
  {
   "cell_type": "markdown",
   "id": "067b3f73",
   "metadata": {},
   "source": [
    "Reading and writing are the two most common operations in the tree data structure based on the data model (TreeValue and Tianshou Batch both belong to this type), so this section will compare the reading and writing performance of these two libraries."
   ]
  },
  {
   "cell_type": "markdown",
   "id": "5d09a5b7",
   "metadata": {},
   "source": [
    "### TreeValue's Get and Set"
   ]
  },
  {
   "cell_type": "code",
   "execution_count": 2,
   "id": "9519c4bb",
   "metadata": {
    "execution": {
     "iopub.execute_input": "2023-02-27T13:18:19.072191Z",
     "iopub.status.busy": "2023-02-27T13:18:19.071676Z",
     "iopub.status.idle": "2023-02-27T13:18:19.375699Z",
     "shell.execute_reply": "2023-02-27T13:18:19.374803Z"
    }
   },
   "outputs": [],
   "source": [
    "from treevalue import FastTreeValue\n",
    "\n",
    "t = FastTreeValue(_TREE_DATA_2)"
   ]
  },
  {
   "cell_type": "code",
   "execution_count": 3,
   "id": "11c37677",
   "metadata": {
    "execution": {
     "iopub.execute_input": "2023-02-27T13:18:19.379648Z",
     "iopub.status.busy": "2023-02-27T13:18:19.379153Z",
     "iopub.status.idle": "2023-02-27T13:18:19.390641Z",
     "shell.execute_reply": "2023-02-27T13:18:19.389938Z"
    }
   },
   "outputs": [
    {
     "data": {
      "text/plain": [
       "<FastTreeValue 0x7f49e088fe50>\n",
       "├── 'a' --> tensor([[-0.3880,  1.0906,  0.3177],\n",
       "│                   [-2.8200, -0.3253,  0.2644]])\n",
       "└── 'x' --> <FastTreeValue 0x7f49e088ffa0>\n",
       "    └── 'c' --> tensor([[-0.1465, -1.3721, -0.4334,  0.9829],\n",
       "                        [ 0.9165,  0.7652,  0.1698,  0.6468],\n",
       "                        [-1.2986, -0.4070,  0.4114,  0.4565]])"
      ]
     },
     "execution_count": 3,
     "metadata": {},
     "output_type": "execute_result"
    }
   ],
   "source": [
    "t"
   ]
  },
  {
   "cell_type": "code",
   "execution_count": 4,
   "id": "fd70b0b9",
   "metadata": {
    "execution": {
     "iopub.execute_input": "2023-02-27T13:18:19.393934Z",
     "iopub.status.busy": "2023-02-27T13:18:19.393461Z",
     "iopub.status.idle": "2023-02-27T13:18:19.399902Z",
     "shell.execute_reply": "2023-02-27T13:18:19.399287Z"
    }
   },
   "outputs": [
    {
     "data": {
      "text/plain": [
       "tensor([[-0.3880,  1.0906,  0.3177],\n",
       "        [-2.8200, -0.3253,  0.2644]])"
      ]
     },
     "execution_count": 4,
     "metadata": {},
     "output_type": "execute_result"
    }
   ],
   "source": [
    "t.a"
   ]
  },
  {
   "cell_type": "code",
   "execution_count": 5,
   "id": "c18197bd",
   "metadata": {
    "execution": {
     "iopub.execute_input": "2023-02-27T13:18:19.402923Z",
     "iopub.status.busy": "2023-02-27T13:18:19.402384Z",
     "iopub.status.idle": "2023-02-27T13:18:24.031618Z",
     "shell.execute_reply": "2023-02-27T13:18:24.030740Z"
    }
   },
   "outputs": [
    {
     "name": "stdout",
     "output_type": "stream",
     "text": [
      "56.9 ns ± 0.0574 ns per loop (mean ± std. dev. of 7 runs, 10,000,000 loops each)\n"
     ]
    }
   ],
   "source": [
    "%timeit t.a"
   ]
  },
  {
   "cell_type": "code",
   "execution_count": 6,
   "id": "bd52f867",
   "metadata": {
    "execution": {
     "iopub.execute_input": "2023-02-27T13:18:24.034775Z",
     "iopub.status.busy": "2023-02-27T13:18:24.034191Z",
     "iopub.status.idle": "2023-02-27T13:18:24.041171Z",
     "shell.execute_reply": "2023-02-27T13:18:24.040542Z"
    }
   },
   "outputs": [
    {
     "data": {
      "text/plain": [
       "<FastTreeValue 0x7f49e088fe50>\n",
       "├── 'a' --> tensor([[-0.5525, -1.5487, -0.4586],\n",
       "│                   [-0.4512,  2.4262, -1.8614]])\n",
       "└── 'x' --> <FastTreeValue 0x7f49e088ffa0>\n",
       "    └── 'c' --> tensor([[-0.1465, -1.3721, -0.4334,  0.9829],\n",
       "                        [ 0.9165,  0.7652,  0.1698,  0.6468],\n",
       "                        [-1.2986, -0.4070,  0.4114,  0.4565]])"
      ]
     },
     "execution_count": 6,
     "metadata": {},
     "output_type": "execute_result"
    }
   ],
   "source": [
    "new_value = torch.randn(2, 3)\n",
    "t.a = new_value\n",
    "\n",
    "t"
   ]
  },
  {
   "cell_type": "code",
   "execution_count": 7,
   "id": "bbe04d1c",
   "metadata": {
    "execution": {
     "iopub.execute_input": "2023-02-27T13:18:24.043977Z",
     "iopub.status.busy": "2023-02-27T13:18:24.043593Z",
     "iopub.status.idle": "2023-02-27T13:18:29.868504Z",
     "shell.execute_reply": "2023-02-27T13:18:29.867707Z"
    }
   },
   "outputs": [
    {
     "name": "stdout",
     "output_type": "stream",
     "text": [
      "71.8 ns ± 0.12 ns per loop (mean ± std. dev. of 7 runs, 10,000,000 loops each)\n"
     ]
    }
   ],
   "source": [
    "%timeit t.a = new_value"
   ]
  },
  {
   "cell_type": "markdown",
   "id": "48c49731",
   "metadata": {},
   "source": [
    "### Tianshou Batch's Get and Set"
   ]
  },
  {
   "cell_type": "code",
   "execution_count": 8,
   "id": "f1bb14c1",
   "metadata": {
    "execution": {
     "iopub.execute_input": "2023-02-27T13:18:29.871967Z",
     "iopub.status.busy": "2023-02-27T13:18:29.871454Z",
     "iopub.status.idle": "2023-02-27T13:18:30.233060Z",
     "shell.execute_reply": "2023-02-27T13:18:30.232181Z"
    }
   },
   "outputs": [],
   "source": [
    "from tianshou.data import Batch\n",
    "\n",
    "b = Batch(**_TREE_DATA_2)"
   ]
  },
  {
   "cell_type": "code",
   "execution_count": 9,
   "id": "cb0777c3",
   "metadata": {
    "execution": {
     "iopub.execute_input": "2023-02-27T13:18:30.237108Z",
     "iopub.status.busy": "2023-02-27T13:18:30.236378Z",
     "iopub.status.idle": "2023-02-27T13:18:30.242940Z",
     "shell.execute_reply": "2023-02-27T13:18:30.242309Z"
    }
   },
   "outputs": [
    {
     "data": {
      "text/plain": [
       "Batch(\n",
       "    a: tensor([[-0.3880,  1.0906,  0.3177],\n",
       "               [-2.8200, -0.3253,  0.2644]]),\n",
       "    x: Batch(\n",
       "           c: tensor([[-0.1465, -1.3721, -0.4334,  0.9829],\n",
       "                      [ 0.9165,  0.7652,  0.1698,  0.6468],\n",
       "                      [-1.2986, -0.4070,  0.4114,  0.4565]]),\n",
       "       ),\n",
       ")"
      ]
     },
     "execution_count": 9,
     "metadata": {},
     "output_type": "execute_result"
    }
   ],
   "source": [
    "b"
   ]
  },
  {
   "cell_type": "code",
   "execution_count": 10,
   "id": "43ef8ea3",
   "metadata": {
    "execution": {
     "iopub.execute_input": "2023-02-27T13:18:30.246138Z",
     "iopub.status.busy": "2023-02-27T13:18:30.245501Z",
     "iopub.status.idle": "2023-02-27T13:18:30.251133Z",
     "shell.execute_reply": "2023-02-27T13:18:30.250510Z"
    }
   },
   "outputs": [
    {
     "data": {
      "text/plain": [
       "tensor([[-0.3880,  1.0906,  0.3177],\n",
       "        [-2.8200, -0.3253,  0.2644]])"
      ]
     },
     "execution_count": 10,
     "metadata": {},
     "output_type": "execute_result"
    }
   ],
   "source": [
    "b.a"
   ]
  },
  {
   "cell_type": "code",
   "execution_count": 11,
   "id": "b785ab72",
   "metadata": {
    "execution": {
     "iopub.execute_input": "2023-02-27T13:18:30.253782Z",
     "iopub.status.busy": "2023-02-27T13:18:30.253344Z",
     "iopub.status.idle": "2023-02-27T13:18:34.374940Z",
     "shell.execute_reply": "2023-02-27T13:18:34.374031Z"
    }
   },
   "outputs": [
    {
     "name": "stdout",
     "output_type": "stream",
     "text": [
      "50.7 ns ± 0.0306 ns per loop (mean ± std. dev. of 7 runs, 10,000,000 loops each)\n"
     ]
    }
   ],
   "source": [
    "%timeit b.a"
   ]
  },
  {
   "cell_type": "code",
   "execution_count": 12,
   "id": "ad54dc69",
   "metadata": {
    "execution": {
     "iopub.execute_input": "2023-02-27T13:18:34.378041Z",
     "iopub.status.busy": "2023-02-27T13:18:34.377488Z",
     "iopub.status.idle": "2023-02-27T13:18:34.383594Z",
     "shell.execute_reply": "2023-02-27T13:18:34.382926Z"
    }
   },
   "outputs": [
    {
     "data": {
      "text/plain": [
       "Batch(\n",
       "    a: tensor([[ 0.6465,  0.0154, -0.4286],\n",
       "               [ 0.3726, -0.1822,  1.6612]]),\n",
       "    x: Batch(\n",
       "           c: tensor([[-0.1465, -1.3721, -0.4334,  0.9829],\n",
       "                      [ 0.9165,  0.7652,  0.1698,  0.6468],\n",
       "                      [-1.2986, -0.4070,  0.4114,  0.4565]]),\n",
       "       ),\n",
       ")"
      ]
     },
     "execution_count": 12,
     "metadata": {},
     "output_type": "execute_result"
    }
   ],
   "source": [
    "new_value = torch.randn(2, 3)\n",
    "b.a = new_value\n",
    "\n",
    "b"
   ]
  },
  {
   "cell_type": "code",
   "execution_count": 13,
   "id": "29b1d0bf",
   "metadata": {
    "execution": {
     "iopub.execute_input": "2023-02-27T13:18:34.386429Z",
     "iopub.status.busy": "2023-02-27T13:18:34.385865Z",
     "iopub.status.idle": "2023-02-27T13:18:38.481314Z",
     "shell.execute_reply": "2023-02-27T13:18:38.480067Z"
    }
   },
   "outputs": [
    {
     "name": "stdout",
     "output_type": "stream",
     "text": [
      "505 ns ± 0.161 ns per loop (mean ± std. dev. of 7 runs, 1,000,000 loops each)\n"
     ]
    }
   ],
   "source": [
    "%timeit b.a = new_value"
   ]
  },
  {
   "cell_type": "markdown",
   "id": "b61ad1d0",
   "metadata": {},
   "source": [
    "## Initialization"
   ]
  },
  {
   "cell_type": "markdown",
   "id": "d70f0d54",
   "metadata": {},
   "source": [
    "### TreeValue's Initialization"
   ]
  },
  {
   "cell_type": "code",
   "execution_count": 14,
   "id": "d32a679b",
   "metadata": {
    "execution": {
     "iopub.execute_input": "2023-02-27T13:18:38.484751Z",
     "iopub.status.busy": "2023-02-27T13:18:38.484242Z",
     "iopub.status.idle": "2023-02-27T13:18:45.441933Z",
     "shell.execute_reply": "2023-02-27T13:18:45.441021Z"
    }
   },
   "outputs": [
    {
     "name": "stdout",
     "output_type": "stream",
     "text": [
      "851 ns ± 10.6 ns per loop (mean ± std. dev. of 7 runs, 1,000,000 loops each)\n"
     ]
    }
   ],
   "source": [
    "%timeit FastTreeValue(_TREE_DATA_1)"
   ]
  },
  {
   "cell_type": "markdown",
   "id": "24f3707b",
   "metadata": {},
   "source": [
    "### Tianshou Batch's Initialization"
   ]
  },
  {
   "cell_type": "code",
   "execution_count": 15,
   "id": "ac3958df",
   "metadata": {
    "execution": {
     "iopub.execute_input": "2023-02-27T13:18:45.445927Z",
     "iopub.status.busy": "2023-02-27T13:18:45.445145Z",
     "iopub.status.idle": "2023-02-27T13:18:53.556714Z",
     "shell.execute_reply": "2023-02-27T13:18:53.555893Z"
    }
   },
   "outputs": [
    {
     "name": "stdout",
     "output_type": "stream",
     "text": [
      "9.84 µs ± 109 ns per loop (mean ± std. dev. of 7 runs, 100,000 loops each)\n"
     ]
    }
   ],
   "source": [
    "%timeit Batch(**_TREE_DATA_1)"
   ]
  },
  {
   "cell_type": "markdown",
   "id": "1ab82e2d",
   "metadata": {},
   "source": [
    "## Deep Copy Operation"
   ]
  },
  {
   "cell_type": "code",
   "execution_count": 16,
   "id": "210a9442",
   "metadata": {
    "execution": {
     "iopub.execute_input": "2023-02-27T13:18:53.559843Z",
     "iopub.status.busy": "2023-02-27T13:18:53.559434Z",
     "iopub.status.idle": "2023-02-27T13:18:53.563530Z",
     "shell.execute_reply": "2023-02-27T13:18:53.562930Z"
    }
   },
   "outputs": [],
   "source": [
    "import copy"
   ]
  },
  {
   "cell_type": "markdown",
   "id": "5a736274",
   "metadata": {},
   "source": [
    "### Deep Copy of TreeValue"
   ]
  },
  {
   "cell_type": "code",
   "execution_count": 17,
   "id": "f9bcadd6",
   "metadata": {
    "execution": {
     "iopub.execute_input": "2023-02-27T13:18:53.566582Z",
     "iopub.status.busy": "2023-02-27T13:18:53.566217Z",
     "iopub.status.idle": "2023-02-27T13:19:05.174290Z",
     "shell.execute_reply": "2023-02-27T13:19:05.173650Z"
    }
   },
   "outputs": [
    {
     "name": "stdout",
     "output_type": "stream",
     "text": [
      "143 µs ± 1.48 µs per loop (mean ± std. dev. of 7 runs, 10,000 loops each)\n"
     ]
    }
   ],
   "source": [
    "t3 = FastTreeValue(_TREE_DATA_3)\n",
    "%timeit copy.deepcopy(t3)"
   ]
  },
  {
   "cell_type": "markdown",
   "id": "bf8be7ea",
   "metadata": {},
   "source": [
    "### Deep Copy of Tianshou Batch"
   ]
  },
  {
   "cell_type": "code",
   "execution_count": 18,
   "id": "91998e6f",
   "metadata": {
    "execution": {
     "iopub.execute_input": "2023-02-27T13:19:05.177404Z",
     "iopub.status.busy": "2023-02-27T13:19:05.176946Z",
     "iopub.status.idle": "2023-02-27T13:19:16.154917Z",
     "shell.execute_reply": "2023-02-27T13:19:16.154112Z"
    }
   },
   "outputs": [
    {
     "name": "stdout",
     "output_type": "stream",
     "text": [
      "134 µs ± 6.69 µs per loop (mean ± std. dev. of 7 runs, 10,000 loops each)\n"
     ]
    }
   ],
   "source": [
    "b3 = Batch(**_TREE_DATA_3)\n",
    "%timeit copy.deepcopy(b3)"
   ]
  },
  {
   "cell_type": "markdown",
   "id": "223162fb",
   "metadata": {},
   "source": [
    "## Stack, Concat and Split Operation"
   ]
  },
  {
   "cell_type": "markdown",
   "id": "85fa4a73",
   "metadata": {},
   "source": [
    "### Performance of TreeValue"
   ]
  },
  {
   "cell_type": "code",
   "execution_count": 19,
   "id": "a0c2b697",
   "metadata": {
    "execution": {
     "iopub.execute_input": "2023-02-27T13:19:16.158077Z",
     "iopub.status.busy": "2023-02-27T13:19:16.157648Z",
     "iopub.status.idle": "2023-02-27T13:19:16.161032Z",
     "shell.execute_reply": "2023-02-27T13:19:16.160460Z"
    }
   },
   "outputs": [],
   "source": [
    "trees = [FastTreeValue(_TREE_DATA_2) for _ in range(8)]"
   ]
  },
  {
   "cell_type": "code",
   "execution_count": 20,
   "id": "017ea5a5",
   "metadata": {
    "execution": {
     "iopub.execute_input": "2023-02-27T13:19:16.163586Z",
     "iopub.status.busy": "2023-02-27T13:19:16.163190Z",
     "iopub.status.idle": "2023-02-27T13:19:16.170495Z",
     "shell.execute_reply": "2023-02-27T13:19:16.169911Z"
    }
   },
   "outputs": [
    {
     "data": {
      "text/plain": [
       "<FastTreeValue 0x7f49e0822730>\n",
       "├── 'a' --> tensor([[[-0.3880,  1.0906,  0.3177],\n",
       "│                    [-2.8200, -0.3253,  0.2644]],\n",
       "│           \n",
       "│                   [[-0.3880,  1.0906,  0.3177],\n",
       "│                    [-2.8200, -0.3253,  0.2644]],\n",
       "│           \n",
       "│                   [[-0.3880,  1.0906,  0.3177],\n",
       "│                    [-2.8200, -0.3253,  0.2644]],\n",
       "│           \n",
       "│                   [[-0.3880,  1.0906,  0.3177],\n",
       "│                    [-2.8200, -0.3253,  0.2644]],\n",
       "│           \n",
       "│                   [[-0.3880,  1.0906,  0.3177],\n",
       "│                    [-2.8200, -0.3253,  0.2644]],\n",
       "│           \n",
       "│                   [[-0.3880,  1.0906,  0.3177],\n",
       "│                    [-2.8200, -0.3253,  0.2644]],\n",
       "│           \n",
       "│                   [[-0.3880,  1.0906,  0.3177],\n",
       "│                    [-2.8200, -0.3253,  0.2644]],\n",
       "│           \n",
       "│                   [[-0.3880,  1.0906,  0.3177],\n",
       "│                    [-2.8200, -0.3253,  0.2644]]])\n",
       "└── 'x' --> <FastTreeValue 0x7f49e0822670>\n",
       "    └── 'c' --> tensor([[[-0.1465, -1.3721, -0.4334,  0.9829],\n",
       "                         [ 0.9165,  0.7652,  0.1698,  0.6468],\n",
       "                         [-1.2986, -0.4070,  0.4114,  0.4565]],\n",
       "                \n",
       "                        [[-0.1465, -1.3721, -0.4334,  0.9829],\n",
       "                         [ 0.9165,  0.7652,  0.1698,  0.6468],\n",
       "                         [-1.2986, -0.4070,  0.4114,  0.4565]],\n",
       "                \n",
       "                        [[-0.1465, -1.3721, -0.4334,  0.9829],\n",
       "                         [ 0.9165,  0.7652,  0.1698,  0.6468],\n",
       "                         [-1.2986, -0.4070,  0.4114,  0.4565]],\n",
       "                \n",
       "                        [[-0.1465, -1.3721, -0.4334,  0.9829],\n",
       "                         [ 0.9165,  0.7652,  0.1698,  0.6468],\n",
       "                         [-1.2986, -0.4070,  0.4114,  0.4565]],\n",
       "                \n",
       "                        [[-0.1465, -1.3721, -0.4334,  0.9829],\n",
       "                         [ 0.9165,  0.7652,  0.1698,  0.6468],\n",
       "                         [-1.2986, -0.4070,  0.4114,  0.4565]],\n",
       "                \n",
       "                        [[-0.1465, -1.3721, -0.4334,  0.9829],\n",
       "                         [ 0.9165,  0.7652,  0.1698,  0.6468],\n",
       "                         [-1.2986, -0.4070,  0.4114,  0.4565]],\n",
       "                \n",
       "                        [[-0.1465, -1.3721, -0.4334,  0.9829],\n",
       "                         [ 0.9165,  0.7652,  0.1698,  0.6468],\n",
       "                         [-1.2986, -0.4070,  0.4114,  0.4565]],\n",
       "                \n",
       "                        [[-0.1465, -1.3721, -0.4334,  0.9829],\n",
       "                         [ 0.9165,  0.7652,  0.1698,  0.6468],\n",
       "                         [-1.2986, -0.4070,  0.4114,  0.4565]]])"
      ]
     },
     "execution_count": 20,
     "metadata": {},
     "output_type": "execute_result"
    }
   ],
   "source": [
    "t_stack = FastTreeValue.func(subside=True)(torch.stack)\n",
    "\n",
    "t_stack(trees)"
   ]
  },
  {
   "cell_type": "code",
   "execution_count": 21,
   "id": "f8b3f415",
   "metadata": {
    "execution": {
     "iopub.execute_input": "2023-02-27T13:19:16.173104Z",
     "iopub.status.busy": "2023-02-27T13:19:16.172705Z",
     "iopub.status.idle": "2023-02-27T13:19:18.935993Z",
     "shell.execute_reply": "2023-02-27T13:19:18.935084Z"
    }
   },
   "outputs": [
    {
     "name": "stdout",
     "output_type": "stream",
     "text": [
      "34 µs ± 106 ns per loop (mean ± std. dev. of 7 runs, 10,000 loops each)\n"
     ]
    }
   ],
   "source": [
    "%timeit t_stack(trees)"
   ]
  },
  {
   "cell_type": "code",
   "execution_count": 22,
   "id": "94b56771",
   "metadata": {
    "execution": {
     "iopub.execute_input": "2023-02-27T13:19:18.940572Z",
     "iopub.status.busy": "2023-02-27T13:19:18.939294Z",
     "iopub.status.idle": "2023-02-27T13:19:18.948954Z",
     "shell.execute_reply": "2023-02-27T13:19:18.948309Z"
    }
   },
   "outputs": [
    {
     "data": {
      "text/plain": [
       "<FastTreeValue 0x7f49e0819790>\n",
       "├── 'a' --> tensor([[-0.3880,  1.0906,  0.3177],\n",
       "│                   [-2.8200, -0.3253,  0.2644],\n",
       "│                   [-0.3880,  1.0906,  0.3177],\n",
       "│                   [-2.8200, -0.3253,  0.2644],\n",
       "│                   [-0.3880,  1.0906,  0.3177],\n",
       "│                   [-2.8200, -0.3253,  0.2644],\n",
       "│                   [-0.3880,  1.0906,  0.3177],\n",
       "│                   [-2.8200, -0.3253,  0.2644],\n",
       "│                   [-0.3880,  1.0906,  0.3177],\n",
       "│                   [-2.8200, -0.3253,  0.2644],\n",
       "│                   [-0.3880,  1.0906,  0.3177],\n",
       "│                   [-2.8200, -0.3253,  0.2644],\n",
       "│                   [-0.3880,  1.0906,  0.3177],\n",
       "│                   [-2.8200, -0.3253,  0.2644],\n",
       "│                   [-0.3880,  1.0906,  0.3177],\n",
       "│                   [-2.8200, -0.3253,  0.2644]])\n",
       "└── 'x' --> <FastTreeValue 0x7f49e0819370>\n",
       "    └── 'c' --> tensor([[-0.1465, -1.3721, -0.4334,  0.9829],\n",
       "                        [ 0.9165,  0.7652,  0.1698,  0.6468],\n",
       "                        [-1.2986, -0.4070,  0.4114,  0.4565],\n",
       "                        [-0.1465, -1.3721, -0.4334,  0.9829],\n",
       "                        [ 0.9165,  0.7652,  0.1698,  0.6468],\n",
       "                        [-1.2986, -0.4070,  0.4114,  0.4565],\n",
       "                        [-0.1465, -1.3721, -0.4334,  0.9829],\n",
       "                        [ 0.9165,  0.7652,  0.1698,  0.6468],\n",
       "                        [-1.2986, -0.4070,  0.4114,  0.4565],\n",
       "                        [-0.1465, -1.3721, -0.4334,  0.9829],\n",
       "                        [ 0.9165,  0.7652,  0.1698,  0.6468],\n",
       "                        [-1.2986, -0.4070,  0.4114,  0.4565],\n",
       "                        [-0.1465, -1.3721, -0.4334,  0.9829],\n",
       "                        [ 0.9165,  0.7652,  0.1698,  0.6468],\n",
       "                        [-1.2986, -0.4070,  0.4114,  0.4565],\n",
       "                        [-0.1465, -1.3721, -0.4334,  0.9829],\n",
       "                        [ 0.9165,  0.7652,  0.1698,  0.6468],\n",
       "                        [-1.2986, -0.4070,  0.4114,  0.4565],\n",
       "                        [-0.1465, -1.3721, -0.4334,  0.9829],\n",
       "                        [ 0.9165,  0.7652,  0.1698,  0.6468],\n",
       "                        [-1.2986, -0.4070,  0.4114,  0.4565],\n",
       "                        [-0.1465, -1.3721, -0.4334,  0.9829],\n",
       "                        [ 0.9165,  0.7652,  0.1698,  0.6468],\n",
       "                        [-1.2986, -0.4070,  0.4114,  0.4565]])"
      ]
     },
     "execution_count": 22,
     "metadata": {},
     "output_type": "execute_result"
    }
   ],
   "source": [
    "t_cat = FastTreeValue.func(subside=True)(torch.cat)\n",
    "\n",
    "t_cat(trees)"
   ]
  },
  {
   "cell_type": "code",
   "execution_count": 23,
   "id": "5e9c06a6",
   "metadata": {
    "execution": {
     "iopub.execute_input": "2023-02-27T13:19:18.951880Z",
     "iopub.status.busy": "2023-02-27T13:19:18.951444Z",
     "iopub.status.idle": "2023-02-27T13:19:21.230047Z",
     "shell.execute_reply": "2023-02-27T13:19:21.229154Z"
    }
   },
   "outputs": [
    {
     "name": "stdout",
     "output_type": "stream",
     "text": [
      "28 µs ± 56.6 ns per loop (mean ± std. dev. of 7 runs, 10,000 loops each)\n"
     ]
    }
   ],
   "source": [
    "%timeit t_cat(trees)"
   ]
  },
  {
   "cell_type": "code",
   "execution_count": 24,
   "id": "a3ab5c8f",
   "metadata": {
    "execution": {
     "iopub.execute_input": "2023-02-27T13:19:21.233732Z",
     "iopub.status.busy": "2023-02-27T13:19:21.233135Z",
     "iopub.status.idle": "2023-02-27T13:19:25.819858Z",
     "shell.execute_reply": "2023-02-27T13:19:25.818979Z"
    }
   },
   "outputs": [
    {
     "name": "stdout",
     "output_type": "stream",
     "text": [
      "56.4 µs ± 332 ns per loop (mean ± std. dev. of 7 runs, 10,000 loops each)\n"
     ]
    }
   ],
   "source": [
    "t_split = FastTreeValue.func(rise=True)(torch.split)\n",
    "tree = FastTreeValue({\n",
    "    'obs': torch.randn(8, 4, 84, 84),\n",
    "    'action': torch.randint(0, 6, size=(8, 1,)),\n",
    "    'reward': torch.rand(8, 1),\n",
    "})\n",
    "\n",
    "%timeit t_split(tree, 1)"
   ]
  },
  {
   "cell_type": "markdown",
   "id": "31c3ec0b",
   "metadata": {},
   "source": [
    "### Performance of Tianshou Batch"
   ]
  },
  {
   "cell_type": "code",
   "execution_count": 25,
   "id": "9ead828a",
   "metadata": {
    "execution": {
     "iopub.execute_input": "2023-02-27T13:19:25.823318Z",
     "iopub.status.busy": "2023-02-27T13:19:25.822762Z",
     "iopub.status.idle": "2023-02-27T13:19:25.831734Z",
     "shell.execute_reply": "2023-02-27T13:19:25.831102Z"
    }
   },
   "outputs": [
    {
     "data": {
      "text/plain": [
       "Batch(\n",
       "    a: tensor([[[-0.3880,  1.0906,  0.3177],\n",
       "                [-2.8200, -0.3253,  0.2644]],\n",
       "       \n",
       "               [[-0.3880,  1.0906,  0.3177],\n",
       "                [-2.8200, -0.3253,  0.2644]],\n",
       "       \n",
       "               [[-0.3880,  1.0906,  0.3177],\n",
       "                [-2.8200, -0.3253,  0.2644]],\n",
       "       \n",
       "               [[-0.3880,  1.0906,  0.3177],\n",
       "                [-2.8200, -0.3253,  0.2644]],\n",
       "       \n",
       "               [[-0.3880,  1.0906,  0.3177],\n",
       "                [-2.8200, -0.3253,  0.2644]],\n",
       "       \n",
       "               [[-0.3880,  1.0906,  0.3177],\n",
       "                [-2.8200, -0.3253,  0.2644]],\n",
       "       \n",
       "               [[-0.3880,  1.0906,  0.3177],\n",
       "                [-2.8200, -0.3253,  0.2644]],\n",
       "       \n",
       "               [[-0.3880,  1.0906,  0.3177],\n",
       "                [-2.8200, -0.3253,  0.2644]]]),\n",
       "    x: Batch(\n",
       "           c: tensor([[[-0.1465, -1.3721, -0.4334,  0.9829],\n",
       "                       [ 0.9165,  0.7652,  0.1698,  0.6468],\n",
       "                       [-1.2986, -0.4070,  0.4114,  0.4565]],\n",
       "              \n",
       "                      [[-0.1465, -1.3721, -0.4334,  0.9829],\n",
       "                       [ 0.9165,  0.7652,  0.1698,  0.6468],\n",
       "                       [-1.2986, -0.4070,  0.4114,  0.4565]],\n",
       "              \n",
       "                      [[-0.1465, -1.3721, -0.4334,  0.9829],\n",
       "                       [ 0.9165,  0.7652,  0.1698,  0.6468],\n",
       "                       [-1.2986, -0.4070,  0.4114,  0.4565]],\n",
       "              \n",
       "                      [[-0.1465, -1.3721, -0.4334,  0.9829],\n",
       "                       [ 0.9165,  0.7652,  0.1698,  0.6468],\n",
       "                       [-1.2986, -0.4070,  0.4114,  0.4565]],\n",
       "              \n",
       "                      [[-0.1465, -1.3721, -0.4334,  0.9829],\n",
       "                       [ 0.9165,  0.7652,  0.1698,  0.6468],\n",
       "                       [-1.2986, -0.4070,  0.4114,  0.4565]],\n",
       "              \n",
       "                      [[-0.1465, -1.3721, -0.4334,  0.9829],\n",
       "                       [ 0.9165,  0.7652,  0.1698,  0.6468],\n",
       "                       [-1.2986, -0.4070,  0.4114,  0.4565]],\n",
       "              \n",
       "                      [[-0.1465, -1.3721, -0.4334,  0.9829],\n",
       "                       [ 0.9165,  0.7652,  0.1698,  0.6468],\n",
       "                       [-1.2986, -0.4070,  0.4114,  0.4565]],\n",
       "              \n",
       "                      [[-0.1465, -1.3721, -0.4334,  0.9829],\n",
       "                       [ 0.9165,  0.7652,  0.1698,  0.6468],\n",
       "                       [-1.2986, -0.4070,  0.4114,  0.4565]]]),\n",
       "       ),\n",
       ")"
      ]
     },
     "execution_count": 25,
     "metadata": {},
     "output_type": "execute_result"
    }
   ],
   "source": [
    "batches = [Batch(**_TREE_DATA_2) for _ in range(8)]\n",
    "\n",
    "Batch.stack(batches)"
   ]
  },
  {
   "cell_type": "code",
   "execution_count": 26,
   "id": "ec9037a3",
   "metadata": {
    "execution": {
     "iopub.execute_input": "2023-02-27T13:19:25.834473Z",
     "iopub.status.busy": "2023-02-27T13:19:25.834088Z",
     "iopub.status.idle": "2023-02-27T13:19:32.175107Z",
     "shell.execute_reply": "2023-02-27T13:19:32.174180Z"
    }
   },
   "outputs": [
    {
     "name": "stdout",
     "output_type": "stream",
     "text": [
      "77.9 µs ± 117 ns per loop (mean ± std. dev. of 7 runs, 10,000 loops each)\n"
     ]
    }
   ],
   "source": [
    "%timeit Batch.stack(batches)"
   ]
  },
  {
   "cell_type": "code",
   "execution_count": 27,
   "id": "cb8ab77e",
   "metadata": {
    "execution": {
     "iopub.execute_input": "2023-02-27T13:19:32.178535Z",
     "iopub.status.busy": "2023-02-27T13:19:32.178045Z",
     "iopub.status.idle": "2023-02-27T13:19:32.185963Z",
     "shell.execute_reply": "2023-02-27T13:19:32.185365Z"
    }
   },
   "outputs": [
    {
     "data": {
      "text/plain": [
       "Batch(\n",
       "    a: tensor([[-0.3880,  1.0906,  0.3177],\n",
       "               [-2.8200, -0.3253,  0.2644],\n",
       "               [-0.3880,  1.0906,  0.3177],\n",
       "               [-2.8200, -0.3253,  0.2644],\n",
       "               [-0.3880,  1.0906,  0.3177],\n",
       "               [-2.8200, -0.3253,  0.2644],\n",
       "               [-0.3880,  1.0906,  0.3177],\n",
       "               [-2.8200, -0.3253,  0.2644],\n",
       "               [-0.3880,  1.0906,  0.3177],\n",
       "               [-2.8200, -0.3253,  0.2644],\n",
       "               [-0.3880,  1.0906,  0.3177],\n",
       "               [-2.8200, -0.3253,  0.2644],\n",
       "               [-0.3880,  1.0906,  0.3177],\n",
       "               [-2.8200, -0.3253,  0.2644],\n",
       "               [-0.3880,  1.0906,  0.3177],\n",
       "               [-2.8200, -0.3253,  0.2644]]),\n",
       "    x: Batch(\n",
       "           c: tensor([[-0.1465, -1.3721, -0.4334,  0.9829],\n",
       "                      [ 0.9165,  0.7652,  0.1698,  0.6468],\n",
       "                      [-1.2986, -0.4070,  0.4114,  0.4565],\n",
       "                      [-0.1465, -1.3721, -0.4334,  0.9829],\n",
       "                      [ 0.9165,  0.7652,  0.1698,  0.6468],\n",
       "                      [-1.2986, -0.4070,  0.4114,  0.4565],\n",
       "                      [-0.1465, -1.3721, -0.4334,  0.9829],\n",
       "                      [ 0.9165,  0.7652,  0.1698,  0.6468],\n",
       "                      [-1.2986, -0.4070,  0.4114,  0.4565],\n",
       "                      [-0.1465, -1.3721, -0.4334,  0.9829],\n",
       "                      [ 0.9165,  0.7652,  0.1698,  0.6468],\n",
       "                      [-1.2986, -0.4070,  0.4114,  0.4565],\n",
       "                      [-0.1465, -1.3721, -0.4334,  0.9829],\n",
       "                      [ 0.9165,  0.7652,  0.1698,  0.6468],\n",
       "                      [-1.2986, -0.4070,  0.4114,  0.4565],\n",
       "                      [-0.1465, -1.3721, -0.4334,  0.9829],\n",
       "                      [ 0.9165,  0.7652,  0.1698,  0.6468],\n",
       "                      [-1.2986, -0.4070,  0.4114,  0.4565],\n",
       "                      [-0.1465, -1.3721, -0.4334,  0.9829],\n",
       "                      [ 0.9165,  0.7652,  0.1698,  0.6468],\n",
       "                      [-1.2986, -0.4070,  0.4114,  0.4565],\n",
       "                      [-0.1465, -1.3721, -0.4334,  0.9829],\n",
       "                      [ 0.9165,  0.7652,  0.1698,  0.6468],\n",
       "                      [-1.2986, -0.4070,  0.4114,  0.4565]]),\n",
       "       ),\n",
       ")"
      ]
     },
     "execution_count": 27,
     "metadata": {},
     "output_type": "execute_result"
    }
   ],
   "source": [
    "Batch.cat(batches)"
   ]
  },
  {
   "cell_type": "code",
   "execution_count": 28,
   "id": "18dfb045",
   "metadata": {
    "execution": {
     "iopub.execute_input": "2023-02-27T13:19:32.188812Z",
     "iopub.status.busy": "2023-02-27T13:19:32.188309Z",
     "iopub.status.idle": "2023-02-27T13:19:43.830092Z",
     "shell.execute_reply": "2023-02-27T13:19:43.829172Z"
    }
   },
   "outputs": [
    {
     "name": "stdout",
     "output_type": "stream",
     "text": [
      "143 µs ± 344 ns per loop (mean ± std. dev. of 7 runs, 10,000 loops each)\n"
     ]
    }
   ],
   "source": [
    "%timeit Batch.cat(batches)"
   ]
  },
  {
   "cell_type": "code",
   "execution_count": 29,
   "id": "c6688e51",
   "metadata": {
    "execution": {
     "iopub.execute_input": "2023-02-27T13:19:43.833703Z",
     "iopub.status.busy": "2023-02-27T13:19:43.833264Z",
     "iopub.status.idle": "2023-02-27T13:19:46.221279Z",
     "shell.execute_reply": "2023-02-27T13:19:46.220519Z"
    }
   },
   "outputs": [
    {
     "name": "stdout",
     "output_type": "stream",
     "text": [
      "293 µs ± 2.19 µs per loop (mean ± std. dev. of 7 runs, 1,000 loops each)\n"
     ]
    }
   ],
   "source": [
    "batch = Batch({\n",
    "    'obs': torch.randn(8, 4, 84, 84),\n",
    "    'action': torch.randint(0, 6, size=(8, 1,)),\n",
    "    'reward': torch.rand(8, 1)}\n",
    ")\n",
    "\n",
    "%timeit list(Batch.split(batch, 1, shuffle=False, merge_last=True))"
   ]
  },
  {
   "cell_type": "code",
   "execution_count": null,
   "id": "2539fbd9",
   "metadata": {},
   "outputs": [],
   "source": []
  }
 ],
 "metadata": {
  "kernelspec": {
   "display_name": "Python 3 (ipykernel)",
   "language": "python",
   "name": "python3"
  },
  "language_info": {
   "codemirror_mode": {
    "name": "ipython",
    "version": 3
   },
   "file_extension": ".py",
   "mimetype": "text/x-python",
   "name": "python",
   "nbconvert_exporter": "python",
   "pygments_lexer": "ipython3",
   "version": "3.8.16"
  }
 },
 "nbformat": 4,
 "nbformat_minor": 5
}
