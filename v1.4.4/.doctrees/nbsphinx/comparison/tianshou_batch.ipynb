{
 "cells": [
  {
   "cell_type": "markdown",
   "id": "9d39d946",
   "metadata": {},
   "source": [
    "# Comparison Between TreeValue and Tianshou Batch"
   ]
  },
  {
   "cell_type": "markdown",
   "id": "3c6db2d4",
   "metadata": {},
   "source": [
    "In this section, we will take a look at the feature and performance of the [Tianshou Batch](https://github.com/thu-ml/tianshou) library, which is developed by Tsinghua Machine Learning Group."
   ]
  },
  {
   "cell_type": "markdown",
   "id": "069361b0",
   "metadata": {},
   "source": [
    "Before starting the comparison, let us define some thing."
   ]
  },
  {
   "cell_type": "code",
   "execution_count": 1,
   "id": "06fc8d26",
   "metadata": {
    "execution": {
     "iopub.execute_input": "2023-03-06T11:20:56.002253Z",
     "iopub.status.busy": "2023-03-06T11:20:56.002043Z",
     "iopub.status.idle": "2023-03-06T11:20:56.907580Z",
     "shell.execute_reply": "2023-03-06T11:20:56.906906Z"
    }
   },
   "outputs": [
    {
     "name": "stderr",
     "output_type": "stream",
     "text": [
      "/opt/hostedtoolcache/Python/3.8.16/x64/lib/python3.8/site-packages/tqdm/auto.py:21: TqdmWarning: IProgress not found. Please update jupyter and ipywidgets. See https://ipywidgets.readthedocs.io/en/stable/user_install.html\n",
      "  from .autonotebook import tqdm as notebook_tqdm\n"
     ]
    }
   ],
   "source": [
    "import torch \n",
    "\n",
    "_TREE_DATA_1 = {'a': 1, 'b': 2, 'x': {'c': 3, 'd': 4}}\n",
    "_TREE_DATA_2 = {\n",
    "    'a': torch.randn(2, 3), \n",
    "    'x': {\n",
    "        'c': torch.randn(3, 4)\n",
    "    },\n",
    "}\n",
    "_TREE_DATA_3 = {\n",
    "    'obs': torch.randn(4, 84, 84),\n",
    "    'action': torch.randint(0, 6, size=(1,)),\n",
    "    'reward': torch.rand(1),\n",
    "}"
   ]
  },
  {
   "cell_type": "markdown",
   "id": "83461b25",
   "metadata": {},
   "source": [
    "## Read and Write Operation"
   ]
  },
  {
   "cell_type": "markdown",
   "id": "067b3f73",
   "metadata": {},
   "source": [
    "Reading and writing are the two most common operations in the tree data structure based on the data model (TreeValue and Tianshou Batch both belong to this type), so this section will compare the reading and writing performance of these two libraries."
   ]
  },
  {
   "cell_type": "markdown",
   "id": "5d09a5b7",
   "metadata": {},
   "source": [
    "### TreeValue's Get and Set"
   ]
  },
  {
   "cell_type": "code",
   "execution_count": 2,
   "id": "9519c4bb",
   "metadata": {
    "execution": {
     "iopub.execute_input": "2023-03-06T11:20:56.910995Z",
     "iopub.status.busy": "2023-03-06T11:20:56.910405Z",
     "iopub.status.idle": "2023-03-06T11:20:57.191375Z",
     "shell.execute_reply": "2023-03-06T11:20:57.190698Z"
    }
   },
   "outputs": [],
   "source": [
    "from treevalue import FastTreeValue\n",
    "\n",
    "t = FastTreeValue(_TREE_DATA_2)"
   ]
  },
  {
   "cell_type": "code",
   "execution_count": 3,
   "id": "11c37677",
   "metadata": {
    "execution": {
     "iopub.execute_input": "2023-03-06T11:20:57.194715Z",
     "iopub.status.busy": "2023-03-06T11:20:57.194294Z",
     "iopub.status.idle": "2023-03-06T11:20:57.203736Z",
     "shell.execute_reply": "2023-03-06T11:20:57.203154Z"
    }
   },
   "outputs": [
    {
     "data": {
      "text/plain": [
       "<FastTreeValue 0x7ff82d7488b0>\n",
       "├── 'a' --> tensor([[ 0.7115, -1.1736,  0.1105],\n",
       "│                   [-0.0873, -1.5734,  0.1077]])\n",
       "└── 'x' --> <FastTreeValue 0x7ff82d748ca0>\n",
       "    └── 'c' --> tensor([[ 1.0508,  0.6248, -1.1841,  0.9425],\n",
       "                        [-2.1943, -0.1718, -0.8100, -0.2232],\n",
       "                        [-1.2083, -0.7442,  0.0732, -0.5177]])"
      ]
     },
     "execution_count": 3,
     "metadata": {},
     "output_type": "execute_result"
    }
   ],
   "source": [
    "t"
   ]
  },
  {
   "cell_type": "code",
   "execution_count": 4,
   "id": "fd70b0b9",
   "metadata": {
    "execution": {
     "iopub.execute_input": "2023-03-06T11:20:57.206495Z",
     "iopub.status.busy": "2023-03-06T11:20:57.206151Z",
     "iopub.status.idle": "2023-03-06T11:20:57.211660Z",
     "shell.execute_reply": "2023-03-06T11:20:57.211094Z"
    }
   },
   "outputs": [
    {
     "data": {
      "text/plain": [
       "tensor([[ 0.7115, -1.1736,  0.1105],\n",
       "        [-0.0873, -1.5734,  0.1077]])"
      ]
     },
     "execution_count": 4,
     "metadata": {},
     "output_type": "execute_result"
    }
   ],
   "source": [
    "t.a"
   ]
  },
  {
   "cell_type": "code",
   "execution_count": 5,
   "id": "c18197bd",
   "metadata": {
    "execution": {
     "iopub.execute_input": "2023-03-06T11:20:57.214255Z",
     "iopub.status.busy": "2023-03-06T11:20:57.213930Z",
     "iopub.status.idle": "2023-03-06T11:21:02.553014Z",
     "shell.execute_reply": "2023-03-06T11:21:02.552295Z"
    }
   },
   "outputs": [
    {
     "name": "stdout",
     "output_type": "stream",
     "text": [
      "65.9 ns ± 0.0164 ns per loop (mean ± std. dev. of 7 runs, 10,000,000 loops each)\n"
     ]
    }
   ],
   "source": [
    "%timeit t.a"
   ]
  },
  {
   "cell_type": "code",
   "execution_count": 6,
   "id": "bd52f867",
   "metadata": {
    "execution": {
     "iopub.execute_input": "2023-03-06T11:21:02.556208Z",
     "iopub.status.busy": "2023-03-06T11:21:02.555685Z",
     "iopub.status.idle": "2023-03-06T11:21:02.562102Z",
     "shell.execute_reply": "2023-03-06T11:21:02.561531Z"
    }
   },
   "outputs": [
    {
     "data": {
      "text/plain": [
       "<FastTreeValue 0x7ff82d7488b0>\n",
       "├── 'a' --> tensor([[ 0.0409, -0.3651,  0.2265],\n",
       "│                   [ 0.3102,  0.1575,  0.3460]])\n",
       "└── 'x' --> <FastTreeValue 0x7ff82d748ca0>\n",
       "    └── 'c' --> tensor([[ 1.0508,  0.6248, -1.1841,  0.9425],\n",
       "                        [-2.1943, -0.1718, -0.8100, -0.2232],\n",
       "                        [-1.2083, -0.7442,  0.0732, -0.5177]])"
      ]
     },
     "execution_count": 6,
     "metadata": {},
     "output_type": "execute_result"
    }
   ],
   "source": [
    "new_value = torch.randn(2, 3)\n",
    "t.a = new_value\n",
    "\n",
    "t"
   ]
  },
  {
   "cell_type": "code",
   "execution_count": 7,
   "id": "bbe04d1c",
   "metadata": {
    "execution": {
     "iopub.execute_input": "2023-03-06T11:21:02.564840Z",
     "iopub.status.busy": "2023-03-06T11:21:02.564367Z",
     "iopub.status.idle": "2023-03-06T11:21:08.518973Z",
     "shell.execute_reply": "2023-03-06T11:21:08.518243Z"
    }
   },
   "outputs": [
    {
     "name": "stdout",
     "output_type": "stream",
     "text": [
      "73.9 ns ± 0.0118 ns per loop (mean ± std. dev. of 7 runs, 10,000,000 loops each)\n"
     ]
    }
   ],
   "source": [
    "%timeit t.a = new_value"
   ]
  },
  {
   "cell_type": "markdown",
   "id": "48c49731",
   "metadata": {},
   "source": [
    "### Tianshou Batch's Get and Set"
   ]
  },
  {
   "cell_type": "code",
   "execution_count": 8,
   "id": "f1bb14c1",
   "metadata": {
    "execution": {
     "iopub.execute_input": "2023-03-06T11:21:08.521753Z",
     "iopub.status.busy": "2023-03-06T11:21:08.521397Z",
     "iopub.status.idle": "2023-03-06T11:21:08.847208Z",
     "shell.execute_reply": "2023-03-06T11:21:08.846521Z"
    }
   },
   "outputs": [],
   "source": [
    "from tianshou.data import Batch\n",
    "\n",
    "b = Batch(**_TREE_DATA_2)"
   ]
  },
  {
   "cell_type": "code",
   "execution_count": 9,
   "id": "cb0777c3",
   "metadata": {
    "execution": {
     "iopub.execute_input": "2023-03-06T11:21:08.850604Z",
     "iopub.status.busy": "2023-03-06T11:21:08.849977Z",
     "iopub.status.idle": "2023-03-06T11:21:08.855998Z",
     "shell.execute_reply": "2023-03-06T11:21:08.855410Z"
    }
   },
   "outputs": [
    {
     "data": {
      "text/plain": [
       "Batch(\n",
       "    a: tensor([[ 0.7115, -1.1736,  0.1105],\n",
       "               [-0.0873, -1.5734,  0.1077]]),\n",
       "    x: Batch(\n",
       "           c: tensor([[ 1.0508,  0.6248, -1.1841,  0.9425],\n",
       "                      [-2.1943, -0.1718, -0.8100, -0.2232],\n",
       "                      [-1.2083, -0.7442,  0.0732, -0.5177]]),\n",
       "       ),\n",
       ")"
      ]
     },
     "execution_count": 9,
     "metadata": {},
     "output_type": "execute_result"
    }
   ],
   "source": [
    "b"
   ]
  },
  {
   "cell_type": "code",
   "execution_count": 10,
   "id": "43ef8ea3",
   "metadata": {
    "execution": {
     "iopub.execute_input": "2023-03-06T11:21:08.858236Z",
     "iopub.status.busy": "2023-03-06T11:21:08.858032Z",
     "iopub.status.idle": "2023-03-06T11:21:08.863481Z",
     "shell.execute_reply": "2023-03-06T11:21:08.862911Z"
    }
   },
   "outputs": [
    {
     "data": {
      "text/plain": [
       "tensor([[ 0.7115, -1.1736,  0.1105],\n",
       "        [-0.0873, -1.5734,  0.1077]])"
      ]
     },
     "execution_count": 10,
     "metadata": {},
     "output_type": "execute_result"
    }
   ],
   "source": [
    "b.a"
   ]
  },
  {
   "cell_type": "code",
   "execution_count": 11,
   "id": "b785ab72",
   "metadata": {
    "execution": {
     "iopub.execute_input": "2023-03-06T11:21:08.865808Z",
     "iopub.status.busy": "2023-03-06T11:21:08.865474Z",
     "iopub.status.idle": "2023-03-06T11:21:14.228419Z",
     "shell.execute_reply": "2023-03-06T11:21:14.227673Z"
    }
   },
   "outputs": [
    {
     "name": "stdout",
     "output_type": "stream",
     "text": [
      "66.9 ns ± 0.0482 ns per loop (mean ± std. dev. of 7 runs, 10,000,000 loops each)\n"
     ]
    }
   ],
   "source": [
    "%timeit b.a"
   ]
  },
  {
   "cell_type": "code",
   "execution_count": 12,
   "id": "ad54dc69",
   "metadata": {
    "execution": {
     "iopub.execute_input": "2023-03-06T11:21:14.231329Z",
     "iopub.status.busy": "2023-03-06T11:21:14.230740Z",
     "iopub.status.idle": "2023-03-06T11:21:14.237064Z",
     "shell.execute_reply": "2023-03-06T11:21:14.236465Z"
    }
   },
   "outputs": [
    {
     "data": {
      "text/plain": [
       "Batch(\n",
       "    a: tensor([[-0.0795,  1.7870, -0.1324],\n",
       "               [-0.6320, -0.2202,  0.2611]]),\n",
       "    x: Batch(\n",
       "           c: tensor([[ 1.0508,  0.6248, -1.1841,  0.9425],\n",
       "                      [-2.1943, -0.1718, -0.8100, -0.2232],\n",
       "                      [-1.2083, -0.7442,  0.0732, -0.5177]]),\n",
       "       ),\n",
       ")"
      ]
     },
     "execution_count": 12,
     "metadata": {},
     "output_type": "execute_result"
    }
   ],
   "source": [
    "new_value = torch.randn(2, 3)\n",
    "b.a = new_value\n",
    "\n",
    "b"
   ]
  },
  {
   "cell_type": "code",
   "execution_count": 13,
   "id": "29b1d0bf",
   "metadata": {
    "execution": {
     "iopub.execute_input": "2023-03-06T11:21:14.239888Z",
     "iopub.status.busy": "2023-03-06T11:21:14.239391Z",
     "iopub.status.idle": "2023-03-06T11:21:18.283849Z",
     "shell.execute_reply": "2023-03-06T11:21:18.283125Z"
    }
   },
   "outputs": [
    {
     "name": "stdout",
     "output_type": "stream",
     "text": [
      "498 ns ± 0.102 ns per loop (mean ± std. dev. of 7 runs, 1,000,000 loops each)\n"
     ]
    }
   ],
   "source": [
    "%timeit b.a = new_value"
   ]
  },
  {
   "cell_type": "markdown",
   "id": "b61ad1d0",
   "metadata": {},
   "source": [
    "## Initialization"
   ]
  },
  {
   "cell_type": "markdown",
   "id": "d70f0d54",
   "metadata": {},
   "source": [
    "### TreeValue's Initialization"
   ]
  },
  {
   "cell_type": "code",
   "execution_count": 14,
   "id": "d32a679b",
   "metadata": {
    "execution": {
     "iopub.execute_input": "2023-03-06T11:21:18.286818Z",
     "iopub.status.busy": "2023-03-06T11:21:18.286464Z",
     "iopub.status.idle": "2023-03-06T11:21:25.107521Z",
     "shell.execute_reply": "2023-03-06T11:21:25.106717Z"
    }
   },
   "outputs": [
    {
     "name": "stdout",
     "output_type": "stream",
     "text": [
      "840 ns ± 0.249 ns per loop (mean ± std. dev. of 7 runs, 1,000,000 loops each)\n"
     ]
    }
   ],
   "source": [
    "%timeit FastTreeValue(_TREE_DATA_1)"
   ]
  },
  {
   "cell_type": "markdown",
   "id": "24f3707b",
   "metadata": {},
   "source": [
    "### Tianshou Batch's Initialization"
   ]
  },
  {
   "cell_type": "code",
   "execution_count": 15,
   "id": "ac3958df",
   "metadata": {
    "execution": {
     "iopub.execute_input": "2023-03-06T11:21:25.110260Z",
     "iopub.status.busy": "2023-03-06T11:21:25.109925Z",
     "iopub.status.idle": "2023-03-06T11:21:34.383274Z",
     "shell.execute_reply": "2023-03-06T11:21:34.382520Z"
    }
   },
   "outputs": [
    {
     "name": "stdout",
     "output_type": "stream",
     "text": [
      "11.4 µs ± 32 ns per loop (mean ± std. dev. of 7 runs, 100,000 loops each)\n"
     ]
    }
   ],
   "source": [
    "%timeit Batch(**_TREE_DATA_1)"
   ]
  },
  {
   "cell_type": "markdown",
   "id": "1ab82e2d",
   "metadata": {},
   "source": [
    "## Deep Copy Operation"
   ]
  },
  {
   "cell_type": "code",
   "execution_count": 16,
   "id": "210a9442",
   "metadata": {
    "execution": {
     "iopub.execute_input": "2023-03-06T11:21:34.386316Z",
     "iopub.status.busy": "2023-03-06T11:21:34.385961Z",
     "iopub.status.idle": "2023-03-06T11:21:34.389848Z",
     "shell.execute_reply": "2023-03-06T11:21:34.389253Z"
    }
   },
   "outputs": [],
   "source": [
    "import copy"
   ]
  },
  {
   "cell_type": "markdown",
   "id": "5a736274",
   "metadata": {},
   "source": [
    "### Deep Copy of TreeValue"
   ]
  },
  {
   "cell_type": "code",
   "execution_count": 17,
   "id": "f9bcadd6",
   "metadata": {
    "execution": {
     "iopub.execute_input": "2023-03-06T11:21:34.392696Z",
     "iopub.status.busy": "2023-03-06T11:21:34.392193Z",
     "iopub.status.idle": "2023-03-06T11:21:45.448119Z",
     "shell.execute_reply": "2023-03-06T11:21:45.447549Z"
    }
   },
   "outputs": [
    {
     "name": "stdout",
     "output_type": "stream",
     "text": [
      "136 µs ± 233 ns per loop (mean ± std. dev. of 7 runs, 10,000 loops each)\n"
     ]
    }
   ],
   "source": [
    "t3 = FastTreeValue(_TREE_DATA_3)\n",
    "%timeit copy.deepcopy(t3)"
   ]
  },
  {
   "cell_type": "markdown",
   "id": "bf8be7ea",
   "metadata": {},
   "source": [
    "### Deep Copy of Tianshou Batch"
   ]
  },
  {
   "cell_type": "code",
   "execution_count": 18,
   "id": "91998e6f",
   "metadata": {
    "execution": {
     "iopub.execute_input": "2023-03-06T11:21:45.450909Z",
     "iopub.status.busy": "2023-03-06T11:21:45.450434Z",
     "iopub.status.idle": "2023-03-06T11:21:56.644279Z",
     "shell.execute_reply": "2023-03-06T11:21:56.643718Z"
    }
   },
   "outputs": [
    {
     "name": "stdout",
     "output_type": "stream",
     "text": [
      "138 µs ± 579 ns per loop (mean ± std. dev. of 7 runs, 10,000 loops each)\n"
     ]
    }
   ],
   "source": [
    "b3 = Batch(**_TREE_DATA_3)\n",
    "%timeit copy.deepcopy(b3)"
   ]
  },
  {
   "cell_type": "markdown",
   "id": "223162fb",
   "metadata": {},
   "source": [
    "## Stack, Concat and Split Operation"
   ]
  },
  {
   "cell_type": "markdown",
   "id": "85fa4a73",
   "metadata": {},
   "source": [
    "### Performance of TreeValue"
   ]
  },
  {
   "cell_type": "code",
   "execution_count": 19,
   "id": "a0c2b697",
   "metadata": {
    "execution": {
     "iopub.execute_input": "2023-03-06T11:21:56.647216Z",
     "iopub.status.busy": "2023-03-06T11:21:56.646619Z",
     "iopub.status.idle": "2023-03-06T11:21:56.649880Z",
     "shell.execute_reply": "2023-03-06T11:21:56.649364Z"
    }
   },
   "outputs": [],
   "source": [
    "trees = [FastTreeValue(_TREE_DATA_2) for _ in range(8)]"
   ]
  },
  {
   "cell_type": "code",
   "execution_count": 20,
   "id": "017ea5a5",
   "metadata": {
    "execution": {
     "iopub.execute_input": "2023-03-06T11:21:56.653005Z",
     "iopub.status.busy": "2023-03-06T11:21:56.651931Z",
     "iopub.status.idle": "2023-03-06T11:21:56.660655Z",
     "shell.execute_reply": "2023-03-06T11:21:56.660139Z"
    }
   },
   "outputs": [
    {
     "data": {
      "text/plain": [
       "<FastTreeValue 0x7ff82d748a60>\n",
       "├── 'a' --> tensor([[[ 0.7115, -1.1736,  0.1105],\n",
       "│                    [-0.0873, -1.5734,  0.1077]],\n",
       "│           \n",
       "│                   [[ 0.7115, -1.1736,  0.1105],\n",
       "│                    [-0.0873, -1.5734,  0.1077]],\n",
       "│           \n",
       "│                   [[ 0.7115, -1.1736,  0.1105],\n",
       "│                    [-0.0873, -1.5734,  0.1077]],\n",
       "│           \n",
       "│                   [[ 0.7115, -1.1736,  0.1105],\n",
       "│                    [-0.0873, -1.5734,  0.1077]],\n",
       "│           \n",
       "│                   [[ 0.7115, -1.1736,  0.1105],\n",
       "│                    [-0.0873, -1.5734,  0.1077]],\n",
       "│           \n",
       "│                   [[ 0.7115, -1.1736,  0.1105],\n",
       "│                    [-0.0873, -1.5734,  0.1077]],\n",
       "│           \n",
       "│                   [[ 0.7115, -1.1736,  0.1105],\n",
       "│                    [-0.0873, -1.5734,  0.1077]],\n",
       "│           \n",
       "│                   [[ 0.7115, -1.1736,  0.1105],\n",
       "│                    [-0.0873, -1.5734,  0.1077]]])\n",
       "└── 'x' --> <FastTreeValue 0x7ff784f90ee0>\n",
       "    └── 'c' --> tensor([[[ 1.0508,  0.6248, -1.1841,  0.9425],\n",
       "                         [-2.1943, -0.1718, -0.8100, -0.2232],\n",
       "                         [-1.2083, -0.7442,  0.0732, -0.5177]],\n",
       "                \n",
       "                        [[ 1.0508,  0.6248, -1.1841,  0.9425],\n",
       "                         [-2.1943, -0.1718, -0.8100, -0.2232],\n",
       "                         [-1.2083, -0.7442,  0.0732, -0.5177]],\n",
       "                \n",
       "                        [[ 1.0508,  0.6248, -1.1841,  0.9425],\n",
       "                         [-2.1943, -0.1718, -0.8100, -0.2232],\n",
       "                         [-1.2083, -0.7442,  0.0732, -0.5177]],\n",
       "                \n",
       "                        [[ 1.0508,  0.6248, -1.1841,  0.9425],\n",
       "                         [-2.1943, -0.1718, -0.8100, -0.2232],\n",
       "                         [-1.2083, -0.7442,  0.0732, -0.5177]],\n",
       "                \n",
       "                        [[ 1.0508,  0.6248, -1.1841,  0.9425],\n",
       "                         [-2.1943, -0.1718, -0.8100, -0.2232],\n",
       "                         [-1.2083, -0.7442,  0.0732, -0.5177]],\n",
       "                \n",
       "                        [[ 1.0508,  0.6248, -1.1841,  0.9425],\n",
       "                         [-2.1943, -0.1718, -0.8100, -0.2232],\n",
       "                         [-1.2083, -0.7442,  0.0732, -0.5177]],\n",
       "                \n",
       "                        [[ 1.0508,  0.6248, -1.1841,  0.9425],\n",
       "                         [-2.1943, -0.1718, -0.8100, -0.2232],\n",
       "                         [-1.2083, -0.7442,  0.0732, -0.5177]],\n",
       "                \n",
       "                        [[ 1.0508,  0.6248, -1.1841,  0.9425],\n",
       "                         [-2.1943, -0.1718, -0.8100, -0.2232],\n",
       "                         [-1.2083, -0.7442,  0.0732, -0.5177]]])"
      ]
     },
     "execution_count": 20,
     "metadata": {},
     "output_type": "execute_result"
    }
   ],
   "source": [
    "t_stack = FastTreeValue.func(subside=True)(torch.stack)\n",
    "\n",
    "t_stack(trees)"
   ]
  },
  {
   "cell_type": "code",
   "execution_count": 21,
   "id": "f8b3f415",
   "metadata": {
    "execution": {
     "iopub.execute_input": "2023-03-06T11:21:56.664718Z",
     "iopub.status.busy": "2023-03-06T11:21:56.663062Z",
     "iopub.status.idle": "2023-03-06T11:21:59.275411Z",
     "shell.execute_reply": "2023-03-06T11:21:59.274647Z"
    }
   },
   "outputs": [
    {
     "name": "stdout",
     "output_type": "stream",
     "text": [
      "32.1 µs ± 72.7 ns per loop (mean ± std. dev. of 7 runs, 10,000 loops each)\n"
     ]
    }
   ],
   "source": [
    "%timeit t_stack(trees)"
   ]
  },
  {
   "cell_type": "code",
   "execution_count": 22,
   "id": "94b56771",
   "metadata": {
    "execution": {
     "iopub.execute_input": "2023-03-06T11:21:59.278453Z",
     "iopub.status.busy": "2023-03-06T11:21:59.277945Z",
     "iopub.status.idle": "2023-03-06T11:21:59.285620Z",
     "shell.execute_reply": "2023-03-06T11:21:59.285036Z"
    }
   },
   "outputs": [
    {
     "data": {
      "text/plain": [
       "<FastTreeValue 0x7ff77a980340>\n",
       "├── 'a' --> tensor([[ 0.7115, -1.1736,  0.1105],\n",
       "│                   [-0.0873, -1.5734,  0.1077],\n",
       "│                   [ 0.7115, -1.1736,  0.1105],\n",
       "│                   [-0.0873, -1.5734,  0.1077],\n",
       "│                   [ 0.7115, -1.1736,  0.1105],\n",
       "│                   [-0.0873, -1.5734,  0.1077],\n",
       "│                   [ 0.7115, -1.1736,  0.1105],\n",
       "│                   [-0.0873, -1.5734,  0.1077],\n",
       "│                   [ 0.7115, -1.1736,  0.1105],\n",
       "│                   [-0.0873, -1.5734,  0.1077],\n",
       "│                   [ 0.7115, -1.1736,  0.1105],\n",
       "│                   [-0.0873, -1.5734,  0.1077],\n",
       "│                   [ 0.7115, -1.1736,  0.1105],\n",
       "│                   [-0.0873, -1.5734,  0.1077],\n",
       "│                   [ 0.7115, -1.1736,  0.1105],\n",
       "│                   [-0.0873, -1.5734,  0.1077]])\n",
       "└── 'x' --> <FastTreeValue 0x7ff828660130>\n",
       "    └── 'c' --> tensor([[ 1.0508,  0.6248, -1.1841,  0.9425],\n",
       "                        [-2.1943, -0.1718, -0.8100, -0.2232],\n",
       "                        [-1.2083, -0.7442,  0.0732, -0.5177],\n",
       "                        [ 1.0508,  0.6248, -1.1841,  0.9425],\n",
       "                        [-2.1943, -0.1718, -0.8100, -0.2232],\n",
       "                        [-1.2083, -0.7442,  0.0732, -0.5177],\n",
       "                        [ 1.0508,  0.6248, -1.1841,  0.9425],\n",
       "                        [-2.1943, -0.1718, -0.8100, -0.2232],\n",
       "                        [-1.2083, -0.7442,  0.0732, -0.5177],\n",
       "                        [ 1.0508,  0.6248, -1.1841,  0.9425],\n",
       "                        [-2.1943, -0.1718, -0.8100, -0.2232],\n",
       "                        [-1.2083, -0.7442,  0.0732, -0.5177],\n",
       "                        [ 1.0508,  0.6248, -1.1841,  0.9425],\n",
       "                        [-2.1943, -0.1718, -0.8100, -0.2232],\n",
       "                        [-1.2083, -0.7442,  0.0732, -0.5177],\n",
       "                        [ 1.0508,  0.6248, -1.1841,  0.9425],\n",
       "                        [-2.1943, -0.1718, -0.8100, -0.2232],\n",
       "                        [-1.2083, -0.7442,  0.0732, -0.5177],\n",
       "                        [ 1.0508,  0.6248, -1.1841,  0.9425],\n",
       "                        [-2.1943, -0.1718, -0.8100, -0.2232],\n",
       "                        [-1.2083, -0.7442,  0.0732, -0.5177],\n",
       "                        [ 1.0508,  0.6248, -1.1841,  0.9425],\n",
       "                        [-2.1943, -0.1718, -0.8100, -0.2232],\n",
       "                        [-1.2083, -0.7442,  0.0732, -0.5177]])"
      ]
     },
     "execution_count": 22,
     "metadata": {},
     "output_type": "execute_result"
    }
   ],
   "source": [
    "t_cat = FastTreeValue.func(subside=True)(torch.cat)\n",
    "\n",
    "t_cat(trees)"
   ]
  },
  {
   "cell_type": "code",
   "execution_count": 23,
   "id": "5e9c06a6",
   "metadata": {
    "execution": {
     "iopub.execute_input": "2023-03-06T11:21:59.287975Z",
     "iopub.status.busy": "2023-03-06T11:21:59.287642Z",
     "iopub.status.idle": "2023-03-06T11:22:01.746379Z",
     "shell.execute_reply": "2023-03-06T11:22:01.745628Z"
    }
   },
   "outputs": [
    {
     "name": "stdout",
     "output_type": "stream",
     "text": [
      "30.3 µs ± 54.9 ns per loop (mean ± std. dev. of 7 runs, 10,000 loops each)\n"
     ]
    }
   ],
   "source": [
    "%timeit t_cat(trees)"
   ]
  },
  {
   "cell_type": "code",
   "execution_count": 24,
   "id": "a3ab5c8f",
   "metadata": {
    "execution": {
     "iopub.execute_input": "2023-03-06T11:22:01.749111Z",
     "iopub.status.busy": "2023-03-06T11:22:01.748751Z",
     "iopub.status.idle": "2023-03-06T11:22:06.680541Z",
     "shell.execute_reply": "2023-03-06T11:22:06.679818Z"
    }
   },
   "outputs": [
    {
     "name": "stdout",
     "output_type": "stream",
     "text": [
      "60.7 µs ± 57.2 ns per loop (mean ± std. dev. of 7 runs, 10,000 loops each)\n"
     ]
    }
   ],
   "source": [
    "t_split = FastTreeValue.func(rise=True)(torch.split)\n",
    "tree = FastTreeValue({\n",
    "    'obs': torch.randn(8, 4, 84, 84),\n",
    "    'action': torch.randint(0, 6, size=(8, 1,)),\n",
    "    'reward': torch.rand(8, 1),\n",
    "})\n",
    "\n",
    "%timeit t_split(tree, 1)"
   ]
  },
  {
   "cell_type": "markdown",
   "id": "31c3ec0b",
   "metadata": {},
   "source": [
    "### Performance of Tianshou Batch"
   ]
  },
  {
   "cell_type": "code",
   "execution_count": 25,
   "id": "9ead828a",
   "metadata": {
    "execution": {
     "iopub.execute_input": "2023-03-06T11:22:06.683555Z",
     "iopub.status.busy": "2023-03-06T11:22:06.683198Z",
     "iopub.status.idle": "2023-03-06T11:22:06.691410Z",
     "shell.execute_reply": "2023-03-06T11:22:06.690807Z"
    }
   },
   "outputs": [
    {
     "data": {
      "text/plain": [
       "Batch(\n",
       "    x: Batch(\n",
       "           c: tensor([[[ 1.0508,  0.6248, -1.1841,  0.9425],\n",
       "                       [-2.1943, -0.1718, -0.8100, -0.2232],\n",
       "                       [-1.2083, -0.7442,  0.0732, -0.5177]],\n",
       "              \n",
       "                      [[ 1.0508,  0.6248, -1.1841,  0.9425],\n",
       "                       [-2.1943, -0.1718, -0.8100, -0.2232],\n",
       "                       [-1.2083, -0.7442,  0.0732, -0.5177]],\n",
       "              \n",
       "                      [[ 1.0508,  0.6248, -1.1841,  0.9425],\n",
       "                       [-2.1943, -0.1718, -0.8100, -0.2232],\n",
       "                       [-1.2083, -0.7442,  0.0732, -0.5177]],\n",
       "              \n",
       "                      [[ 1.0508,  0.6248, -1.1841,  0.9425],\n",
       "                       [-2.1943, -0.1718, -0.8100, -0.2232],\n",
       "                       [-1.2083, -0.7442,  0.0732, -0.5177]],\n",
       "              \n",
       "                      [[ 1.0508,  0.6248, -1.1841,  0.9425],\n",
       "                       [-2.1943, -0.1718, -0.8100, -0.2232],\n",
       "                       [-1.2083, -0.7442,  0.0732, -0.5177]],\n",
       "              \n",
       "                      [[ 1.0508,  0.6248, -1.1841,  0.9425],\n",
       "                       [-2.1943, -0.1718, -0.8100, -0.2232],\n",
       "                       [-1.2083, -0.7442,  0.0732, -0.5177]],\n",
       "              \n",
       "                      [[ 1.0508,  0.6248, -1.1841,  0.9425],\n",
       "                       [-2.1943, -0.1718, -0.8100, -0.2232],\n",
       "                       [-1.2083, -0.7442,  0.0732, -0.5177]],\n",
       "              \n",
       "                      [[ 1.0508,  0.6248, -1.1841,  0.9425],\n",
       "                       [-2.1943, -0.1718, -0.8100, -0.2232],\n",
       "                       [-1.2083, -0.7442,  0.0732, -0.5177]]]),\n",
       "       ),\n",
       "    a: tensor([[[ 0.7115, -1.1736,  0.1105],\n",
       "                [-0.0873, -1.5734,  0.1077]],\n",
       "       \n",
       "               [[ 0.7115, -1.1736,  0.1105],\n",
       "                [-0.0873, -1.5734,  0.1077]],\n",
       "       \n",
       "               [[ 0.7115, -1.1736,  0.1105],\n",
       "                [-0.0873, -1.5734,  0.1077]],\n",
       "       \n",
       "               [[ 0.7115, -1.1736,  0.1105],\n",
       "                [-0.0873, -1.5734,  0.1077]],\n",
       "       \n",
       "               [[ 0.7115, -1.1736,  0.1105],\n",
       "                [-0.0873, -1.5734,  0.1077]],\n",
       "       \n",
       "               [[ 0.7115, -1.1736,  0.1105],\n",
       "                [-0.0873, -1.5734,  0.1077]],\n",
       "       \n",
       "               [[ 0.7115, -1.1736,  0.1105],\n",
       "                [-0.0873, -1.5734,  0.1077]],\n",
       "       \n",
       "               [[ 0.7115, -1.1736,  0.1105],\n",
       "                [-0.0873, -1.5734,  0.1077]]]),\n",
       ")"
      ]
     },
     "execution_count": 25,
     "metadata": {},
     "output_type": "execute_result"
    }
   ],
   "source": [
    "batches = [Batch(**_TREE_DATA_2) for _ in range(8)]\n",
    "\n",
    "Batch.stack(batches)"
   ]
  },
  {
   "cell_type": "code",
   "execution_count": 26,
   "id": "ec9037a3",
   "metadata": {
    "execution": {
     "iopub.execute_input": "2023-03-06T11:22:06.693807Z",
     "iopub.status.busy": "2023-03-06T11:22:06.693499Z",
     "iopub.status.idle": "2023-03-06T11:22:13.061638Z",
     "shell.execute_reply": "2023-03-06T11:22:13.060848Z"
    }
   },
   "outputs": [
    {
     "name": "stdout",
     "output_type": "stream",
     "text": [
      "78.4 µs ± 174 ns per loop (mean ± std. dev. of 7 runs, 10,000 loops each)\n"
     ]
    }
   ],
   "source": [
    "%timeit Batch.stack(batches)"
   ]
  },
  {
   "cell_type": "code",
   "execution_count": 27,
   "id": "cb8ab77e",
   "metadata": {
    "execution": {
     "iopub.execute_input": "2023-03-06T11:22:13.064540Z",
     "iopub.status.busy": "2023-03-06T11:22:13.064309Z",
     "iopub.status.idle": "2023-03-06T11:22:13.071486Z",
     "shell.execute_reply": "2023-03-06T11:22:13.070918Z"
    }
   },
   "outputs": [
    {
     "data": {
      "text/plain": [
       "Batch(\n",
       "    x: Batch(\n",
       "           c: tensor([[ 1.0508,  0.6248, -1.1841,  0.9425],\n",
       "                      [-2.1943, -0.1718, -0.8100, -0.2232],\n",
       "                      [-1.2083, -0.7442,  0.0732, -0.5177],\n",
       "                      [ 1.0508,  0.6248, -1.1841,  0.9425],\n",
       "                      [-2.1943, -0.1718, -0.8100, -0.2232],\n",
       "                      [-1.2083, -0.7442,  0.0732, -0.5177],\n",
       "                      [ 1.0508,  0.6248, -1.1841,  0.9425],\n",
       "                      [-2.1943, -0.1718, -0.8100, -0.2232],\n",
       "                      [-1.2083, -0.7442,  0.0732, -0.5177],\n",
       "                      [ 1.0508,  0.6248, -1.1841,  0.9425],\n",
       "                      [-2.1943, -0.1718, -0.8100, -0.2232],\n",
       "                      [-1.2083, -0.7442,  0.0732, -0.5177],\n",
       "                      [ 1.0508,  0.6248, -1.1841,  0.9425],\n",
       "                      [-2.1943, -0.1718, -0.8100, -0.2232],\n",
       "                      [-1.2083, -0.7442,  0.0732, -0.5177],\n",
       "                      [ 1.0508,  0.6248, -1.1841,  0.9425],\n",
       "                      [-2.1943, -0.1718, -0.8100, -0.2232],\n",
       "                      [-1.2083, -0.7442,  0.0732, -0.5177],\n",
       "                      [ 1.0508,  0.6248, -1.1841,  0.9425],\n",
       "                      [-2.1943, -0.1718, -0.8100, -0.2232],\n",
       "                      [-1.2083, -0.7442,  0.0732, -0.5177],\n",
       "                      [ 1.0508,  0.6248, -1.1841,  0.9425],\n",
       "                      [-2.1943, -0.1718, -0.8100, -0.2232],\n",
       "                      [-1.2083, -0.7442,  0.0732, -0.5177]]),\n",
       "       ),\n",
       "    a: tensor([[ 0.7115, -1.1736,  0.1105],\n",
       "               [-0.0873, -1.5734,  0.1077],\n",
       "               [ 0.7115, -1.1736,  0.1105],\n",
       "               [-0.0873, -1.5734,  0.1077],\n",
       "               [ 0.7115, -1.1736,  0.1105],\n",
       "               [-0.0873, -1.5734,  0.1077],\n",
       "               [ 0.7115, -1.1736,  0.1105],\n",
       "               [-0.0873, -1.5734,  0.1077],\n",
       "               [ 0.7115, -1.1736,  0.1105],\n",
       "               [-0.0873, -1.5734,  0.1077],\n",
       "               [ 0.7115, -1.1736,  0.1105],\n",
       "               [-0.0873, -1.5734,  0.1077],\n",
       "               [ 0.7115, -1.1736,  0.1105],\n",
       "               [-0.0873, -1.5734,  0.1077],\n",
       "               [ 0.7115, -1.1736,  0.1105],\n",
       "               [-0.0873, -1.5734,  0.1077]]),\n",
       ")"
      ]
     },
     "execution_count": 27,
     "metadata": {},
     "output_type": "execute_result"
    }
   ],
   "source": [
    "Batch.cat(batches)"
   ]
  },
  {
   "cell_type": "code",
   "execution_count": 28,
   "id": "18dfb045",
   "metadata": {
    "execution": {
     "iopub.execute_input": "2023-03-06T11:22:13.074024Z",
     "iopub.status.busy": "2023-03-06T11:22:13.073804Z",
     "iopub.status.idle": "2023-03-06T11:22:24.473691Z",
     "shell.execute_reply": "2023-03-06T11:22:24.472955Z"
    }
   },
   "outputs": [
    {
     "name": "stdout",
     "output_type": "stream",
     "text": [
      "140 µs ± 430 ns per loop (mean ± std. dev. of 7 runs, 10,000 loops each)\n"
     ]
    }
   ],
   "source": [
    "%timeit Batch.cat(batches)"
   ]
  },
  {
   "cell_type": "code",
   "execution_count": 29,
   "id": "c6688e51",
   "metadata": {
    "execution": {
     "iopub.execute_input": "2023-03-06T11:22:24.476422Z",
     "iopub.status.busy": "2023-03-06T11:22:24.476070Z",
     "iopub.status.idle": "2023-03-06T11:22:26.990710Z",
     "shell.execute_reply": "2023-03-06T11:22:26.990151Z"
    }
   },
   "outputs": [
    {
     "name": "stdout",
     "output_type": "stream",
     "text": [
      "309 µs ± 3.62 µs per loop (mean ± std. dev. of 7 runs, 1,000 loops each)\n"
     ]
    }
   ],
   "source": [
    "batch = Batch({\n",
    "    'obs': torch.randn(8, 4, 84, 84),\n",
    "    'action': torch.randint(0, 6, size=(8, 1,)),\n",
    "    'reward': torch.rand(8, 1)}\n",
    ")\n",
    "\n",
    "%timeit list(Batch.split(batch, 1, shuffle=False, merge_last=True))"
   ]
  },
  {
   "cell_type": "code",
   "execution_count": null,
   "id": "2539fbd9",
   "metadata": {},
   "outputs": [],
   "source": []
  }
 ],
 "metadata": {
  "kernelspec": {
   "display_name": "Python 3 (ipykernel)",
   "language": "python",
   "name": "python3"
  },
  "language_info": {
   "codemirror_mode": {
    "name": "ipython",
    "version": 3
   },
   "file_extension": ".py",
   "mimetype": "text/x-python",
   "name": "python",
   "nbconvert_exporter": "python",
   "pygments_lexer": "ipython3",
   "version": "3.8.16"
  }
 },
 "nbformat": 4,
 "nbformat_minor": 5
}
