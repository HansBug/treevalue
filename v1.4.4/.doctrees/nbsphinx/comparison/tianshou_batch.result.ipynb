{
 "cells": [
  {
   "cell_type": "markdown",
   "id": "9d39d946",
   "metadata": {},
   "source": [
    "# Comparison Between TreeValue and Tianshou Batch"
   ]
  },
  {
   "cell_type": "markdown",
   "id": "3c6db2d4",
   "metadata": {},
   "source": [
    "In this section, we will take a look at the feature and performance of the [Tianshou Batch](https://github.com/thu-ml/tianshou) library, which is developed by Tsinghua Machine Learning Group."
   ]
  },
  {
   "cell_type": "markdown",
   "id": "069361b0",
   "metadata": {},
   "source": [
    "Before starting the comparison, let us define some thing."
   ]
  },
  {
   "cell_type": "code",
   "execution_count": 1,
   "id": "06fc8d26",
   "metadata": {
    "execution": {
     "iopub.execute_input": "2023-02-27T10:22:09.696317Z",
     "iopub.status.busy": "2023-02-27T10:22:09.695977Z",
     "iopub.status.idle": "2023-02-27T10:22:10.640485Z",
     "shell.execute_reply": "2023-02-27T10:22:10.639784Z"
    }
   },
   "outputs": [
    {
     "name": "stderr",
     "output_type": "stream",
     "text": [
      "/opt/hostedtoolcache/Python/3.8.16/x64/lib/python3.8/site-packages/tqdm/auto.py:22: TqdmWarning: IProgress not found. Please update jupyter and ipywidgets. See https://ipywidgets.readthedocs.io/en/stable/user_install.html\n",
      "  from .autonotebook import tqdm as notebook_tqdm\n"
     ]
    }
   ],
   "source": [
    "import torch \n",
    "\n",
    "_TREE_DATA_1 = {'a': 1, 'b': 2, 'x': {'c': 3, 'd': 4}}\n",
    "_TREE_DATA_2 = {\n",
    "    'a': torch.randn(2, 3), \n",
    "    'x': {\n",
    "        'c': torch.randn(3, 4)\n",
    "    },\n",
    "}\n",
    "_TREE_DATA_3 = {\n",
    "    'obs': torch.randn(4, 84, 84),\n",
    "    'action': torch.randint(0, 6, size=(1,)),\n",
    "    'reward': torch.rand(1),\n",
    "}"
   ]
  },
  {
   "cell_type": "markdown",
   "id": "83461b25",
   "metadata": {},
   "source": [
    "## Read and Write Operation"
   ]
  },
  {
   "cell_type": "markdown",
   "id": "067b3f73",
   "metadata": {},
   "source": [
    "Reading and writing are the two most common operations in the tree data structure based on the data model (TreeValue and Tianshou Batch both belong to this type), so this section will compare the reading and writing performance of these two libraries."
   ]
  },
  {
   "cell_type": "markdown",
   "id": "5d09a5b7",
   "metadata": {},
   "source": [
    "### TreeValue's Get and Set"
   ]
  },
  {
   "cell_type": "code",
   "execution_count": 2,
   "id": "9519c4bb",
   "metadata": {
    "execution": {
     "iopub.execute_input": "2023-02-27T10:22:10.644181Z",
     "iopub.status.busy": "2023-02-27T10:22:10.643568Z",
     "iopub.status.idle": "2023-02-27T10:22:10.677710Z",
     "shell.execute_reply": "2023-02-27T10:22:10.677048Z"
    }
   },
   "outputs": [],
   "source": [
    "from treevalue import FastTreeValue\n",
    "\n",
    "t = FastTreeValue(_TREE_DATA_2)"
   ]
  },
  {
   "cell_type": "code",
   "execution_count": 3,
   "id": "11c37677",
   "metadata": {
    "execution": {
     "iopub.execute_input": "2023-02-27T10:22:10.681232Z",
     "iopub.status.busy": "2023-02-27T10:22:10.680653Z",
     "iopub.status.idle": "2023-02-27T10:22:10.690557Z",
     "shell.execute_reply": "2023-02-27T10:22:10.689929Z"
    }
   },
   "outputs": [
    {
     "data": {
      "text/plain": [
       "<FastTreeValue 0x7f8aac379d60>\n",
       "├── 'a' --> tensor([[-0.9820, -2.3604,  1.2070],\n",
       "│                   [-0.6656, -0.5517, -0.6521]])\n",
       "└── 'x' --> <FastTreeValue 0x7f8aac379e80>\n",
       "    └── 'c' --> tensor([[ 1.0869,  2.3614, -0.4208, -0.2586],\n",
       "                        [ 0.7364,  0.1505, -0.3797,  1.6764],\n",
       "                        [-0.3111,  0.9107,  1.2373, -0.8553]])"
      ]
     },
     "execution_count": 3,
     "metadata": {},
     "output_type": "execute_result"
    }
   ],
   "source": [
    "t"
   ]
  },
  {
   "cell_type": "code",
   "execution_count": 4,
   "id": "fd70b0b9",
   "metadata": {
    "execution": {
     "iopub.execute_input": "2023-02-27T10:22:10.693589Z",
     "iopub.status.busy": "2023-02-27T10:22:10.693223Z",
     "iopub.status.idle": "2023-02-27T10:22:10.699412Z",
     "shell.execute_reply": "2023-02-27T10:22:10.698780Z"
    }
   },
   "outputs": [
    {
     "data": {
      "text/plain": [
       "tensor([[-0.9820, -2.3604,  1.2070],\n",
       "        [-0.6656, -0.5517, -0.6521]])"
      ]
     },
     "execution_count": 4,
     "metadata": {},
     "output_type": "execute_result"
    }
   ],
   "source": [
    "t.a"
   ]
  },
  {
   "cell_type": "code",
   "execution_count": 5,
   "id": "c18197bd",
   "metadata": {
    "execution": {
     "iopub.execute_input": "2023-02-27T10:22:10.702381Z",
     "iopub.status.busy": "2023-02-27T10:22:10.702009Z",
     "iopub.status.idle": "2023-02-27T10:22:15.580390Z",
     "shell.execute_reply": "2023-02-27T10:22:15.579588Z"
    }
   },
   "outputs": [
    {
     "name": "stdout",
     "output_type": "stream",
     "text": [
      "60 ns ± 0.0494 ns per loop (mean ± std. dev. of 7 runs, 10,000,000 loops each)\n"
     ]
    }
   ],
   "source": [
    "%timeit t.a"
   ]
  },
  {
   "cell_type": "code",
   "execution_count": 6,
   "id": "bd52f867",
   "metadata": {
    "execution": {
     "iopub.execute_input": "2023-02-27T10:22:15.584420Z",
     "iopub.status.busy": "2023-02-27T10:22:15.583703Z",
     "iopub.status.idle": "2023-02-27T10:22:15.591729Z",
     "shell.execute_reply": "2023-02-27T10:22:15.590831Z"
    }
   },
   "outputs": [
    {
     "data": {
      "text/plain": [
       "<FastTreeValue 0x7f8aac379d60>\n",
       "├── 'a' --> tensor([[-0.7756,  0.2272, -0.2696],\n",
       "│                   [ 2.4009, -1.9240, -0.9544]])\n",
       "└── 'x' --> <FastTreeValue 0x7f8aac379e80>\n",
       "    └── 'c' --> tensor([[ 1.0869,  2.3614, -0.4208, -0.2586],\n",
       "                        [ 0.7364,  0.1505, -0.3797,  1.6764],\n",
       "                        [-0.3111,  0.9107,  1.2373, -0.8553]])"
      ]
     },
     "execution_count": 6,
     "metadata": {},
     "output_type": "execute_result"
    }
   ],
   "source": [
    "new_value = torch.randn(2, 3)\n",
    "t.a = new_value\n",
    "\n",
    "t"
   ]
  },
  {
   "cell_type": "code",
   "execution_count": 7,
   "id": "bbe04d1c",
   "metadata": {
    "execution": {
     "iopub.execute_input": "2023-02-27T10:22:15.595648Z",
     "iopub.status.busy": "2023-02-27T10:22:15.594753Z",
     "iopub.status.idle": "2023-02-27T10:22:20.612909Z",
     "shell.execute_reply": "2023-02-27T10:22:20.612159Z"
    }
   },
   "outputs": [
    {
     "name": "stdout",
     "output_type": "stream",
     "text": [
      "61.9 ns ± 0.0319 ns per loop (mean ± std. dev. of 7 runs, 10,000,000 loops each)\n"
     ]
    }
   ],
   "source": [
    "%timeit t.a = new_value"
   ]
  },
  {
   "cell_type": "markdown",
   "id": "48c49731",
   "metadata": {},
   "source": [
    "### Tianshou Batch's Get and Set"
   ]
  },
  {
   "cell_type": "code",
   "execution_count": 8,
   "id": "f1bb14c1",
   "metadata": {
    "execution": {
     "iopub.execute_input": "2023-02-27T10:22:20.616134Z",
     "iopub.status.busy": "2023-02-27T10:22:20.615765Z",
     "iopub.status.idle": "2023-02-27T10:22:20.963915Z",
     "shell.execute_reply": "2023-02-27T10:22:20.963215Z"
    }
   },
   "outputs": [],
   "source": [
    "from tianshou.data import Batch\n",
    "\n",
    "b = Batch(**_TREE_DATA_2)"
   ]
  },
  {
   "cell_type": "code",
   "execution_count": 9,
   "id": "cb0777c3",
   "metadata": {
    "execution": {
     "iopub.execute_input": "2023-02-27T10:22:20.967491Z",
     "iopub.status.busy": "2023-02-27T10:22:20.966970Z",
     "iopub.status.idle": "2023-02-27T10:22:20.974097Z",
     "shell.execute_reply": "2023-02-27T10:22:20.973355Z"
    }
   },
   "outputs": [
    {
     "data": {
      "text/plain": [
       "Batch(\n",
       "    a: tensor([[-0.9820, -2.3604,  1.2070],\n",
       "               [-0.6656, -0.5517, -0.6521]]),\n",
       "    x: Batch(\n",
       "           c: tensor([[ 1.0869,  2.3614, -0.4208, -0.2586],\n",
       "                      [ 0.7364,  0.1505, -0.3797,  1.6764],\n",
       "                      [-0.3111,  0.9107,  1.2373, -0.8553]]),\n",
       "       ),\n",
       ")"
      ]
     },
     "execution_count": 9,
     "metadata": {},
     "output_type": "execute_result"
    }
   ],
   "source": [
    "b"
   ]
  },
  {
   "cell_type": "code",
   "execution_count": 10,
   "id": "43ef8ea3",
   "metadata": {
    "execution": {
     "iopub.execute_input": "2023-02-27T10:22:20.980930Z",
     "iopub.status.busy": "2023-02-27T10:22:20.979824Z",
     "iopub.status.idle": "2023-02-27T10:22:20.985496Z",
     "shell.execute_reply": "2023-02-27T10:22:20.984935Z"
    }
   },
   "outputs": [
    {
     "data": {
      "text/plain": [
       "tensor([[-0.9820, -2.3604,  1.2070],\n",
       "        [-0.6656, -0.5517, -0.6521]])"
      ]
     },
     "execution_count": 10,
     "metadata": {},
     "output_type": "execute_result"
    }
   ],
   "source": [
    "b.a"
   ]
  },
  {
   "cell_type": "code",
   "execution_count": 11,
   "id": "b785ab72",
   "metadata": {
    "execution": {
     "iopub.execute_input": "2023-02-27T10:22:20.988798Z",
     "iopub.status.busy": "2023-02-27T10:22:20.988317Z",
     "iopub.status.idle": "2023-02-27T10:22:25.368351Z",
     "shell.execute_reply": "2023-02-27T10:22:25.367561Z"
    }
   },
   "outputs": [
    {
     "name": "stdout",
     "output_type": "stream",
     "text": [
      "54.1 ns ± 0.029 ns per loop (mean ± std. dev. of 7 runs, 10,000,000 loops each)\n"
     ]
    }
   ],
   "source": [
    "%timeit b.a"
   ]
  },
  {
   "cell_type": "code",
   "execution_count": 12,
   "id": "ad54dc69",
   "metadata": {
    "execution": {
     "iopub.execute_input": "2023-02-27T10:22:25.371647Z",
     "iopub.status.busy": "2023-02-27T10:22:25.371194Z",
     "iopub.status.idle": "2023-02-27T10:22:25.377618Z",
     "shell.execute_reply": "2023-02-27T10:22:25.376900Z"
    }
   },
   "outputs": [
    {
     "data": {
      "text/plain": [
       "Batch(\n",
       "    a: tensor([[ 1.4289, -0.5579, -1.6722],\n",
       "               [-1.5345, -0.5444,  1.2258]]),\n",
       "    x: Batch(\n",
       "           c: tensor([[ 1.0869,  2.3614, -0.4208, -0.2586],\n",
       "                      [ 0.7364,  0.1505, -0.3797,  1.6764],\n",
       "                      [-0.3111,  0.9107,  1.2373, -0.8553]]),\n",
       "       ),\n",
       ")"
      ]
     },
     "execution_count": 12,
     "metadata": {},
     "output_type": "execute_result"
    }
   ],
   "source": [
    "new_value = torch.randn(2, 3)\n",
    "b.a = new_value\n",
    "\n",
    "b"
   ]
  },
  {
   "cell_type": "code",
   "execution_count": 13,
   "id": "29b1d0bf",
   "metadata": {
    "execution": {
     "iopub.execute_input": "2023-02-27T10:22:25.380765Z",
     "iopub.status.busy": "2023-02-27T10:22:25.380067Z",
     "iopub.status.idle": "2023-02-27T10:22:29.266870Z",
     "shell.execute_reply": "2023-02-27T10:22:29.266045Z"
    }
   },
   "outputs": [
    {
     "name": "stdout",
     "output_type": "stream",
     "text": [
      "478 ns ± 0.356 ns per loop (mean ± std. dev. of 7 runs, 1,000,000 loops each)\n"
     ]
    }
   ],
   "source": [
    "%timeit b.a = new_value"
   ]
  },
  {
   "cell_type": "markdown",
   "id": "b61ad1d0",
   "metadata": {},
   "source": [
    "## Initialization"
   ]
  },
  {
   "cell_type": "markdown",
   "id": "d70f0d54",
   "metadata": {},
   "source": [
    "### TreeValue's Initialization"
   ]
  },
  {
   "cell_type": "code",
   "execution_count": 14,
   "id": "d32a679b",
   "metadata": {
    "execution": {
     "iopub.execute_input": "2023-02-27T10:22:29.270160Z",
     "iopub.status.busy": "2023-02-27T10:22:29.269735Z",
     "iopub.status.idle": "2023-02-27T10:22:36.126220Z",
     "shell.execute_reply": "2023-02-27T10:22:36.125360Z"
    }
   },
   "outputs": [
    {
     "name": "stdout",
     "output_type": "stream",
     "text": [
      "842 ns ± 0.294 ns per loop (mean ± std. dev. of 7 runs, 1,000,000 loops each)\n"
     ]
    }
   ],
   "source": [
    "%timeit FastTreeValue(_TREE_DATA_1)"
   ]
  },
  {
   "cell_type": "markdown",
   "id": "24f3707b",
   "metadata": {},
   "source": [
    "### Tianshou Batch's Initialization"
   ]
  },
  {
   "cell_type": "code",
   "execution_count": 15,
   "id": "ac3958df",
   "metadata": {
    "execution": {
     "iopub.execute_input": "2023-02-27T10:22:36.129299Z",
     "iopub.status.busy": "2023-02-27T10:22:36.128804Z",
     "iopub.status.idle": "2023-02-27T10:22:45.564653Z",
     "shell.execute_reply": "2023-02-27T10:22:45.563889Z"
    }
   },
   "outputs": [
    {
     "name": "stdout",
     "output_type": "stream",
     "text": [
      "11.6 µs ± 39.9 ns per loop (mean ± std. dev. of 7 runs, 100,000 loops each)\n"
     ]
    }
   ],
   "source": [
    "%timeit Batch(**_TREE_DATA_1)"
   ]
  },
  {
   "cell_type": "markdown",
   "id": "1ab82e2d",
   "metadata": {},
   "source": [
    "## Deep Copy Operation"
   ]
  },
  {
   "cell_type": "code",
   "execution_count": 16,
   "id": "210a9442",
   "metadata": {
    "execution": {
     "iopub.execute_input": "2023-02-27T10:22:45.567826Z",
     "iopub.status.busy": "2023-02-27T10:22:45.567445Z",
     "iopub.status.idle": "2023-02-27T10:22:45.571583Z",
     "shell.execute_reply": "2023-02-27T10:22:45.570958Z"
    }
   },
   "outputs": [],
   "source": [
    "import copy"
   ]
  },
  {
   "cell_type": "markdown",
   "id": "5a736274",
   "metadata": {},
   "source": [
    "### Deep Copy of TreeValue"
   ]
  },
  {
   "cell_type": "code",
   "execution_count": 17,
   "id": "f9bcadd6",
   "metadata": {
    "execution": {
     "iopub.execute_input": "2023-02-27T10:22:45.574775Z",
     "iopub.status.busy": "2023-02-27T10:22:45.574405Z",
     "iopub.status.idle": "2023-02-27T10:22:56.598184Z",
     "shell.execute_reply": "2023-02-27T10:22:56.597508Z"
    }
   },
   "outputs": [
    {
     "name": "stdout",
     "output_type": "stream",
     "text": [
      "136 µs ± 1.19 µs per loop (mean ± std. dev. of 7 runs, 10,000 loops each)\n"
     ]
    }
   ],
   "source": [
    "t3 = FastTreeValue(_TREE_DATA_3)\n",
    "%timeit copy.deepcopy(t3)"
   ]
  },
  {
   "cell_type": "markdown",
   "id": "bf8be7ea",
   "metadata": {},
   "source": [
    "### Deep Copy of Tianshou Batch"
   ]
  },
  {
   "cell_type": "code",
   "execution_count": 18,
   "id": "91998e6f",
   "metadata": {
    "execution": {
     "iopub.execute_input": "2023-02-27T10:22:56.602077Z",
     "iopub.status.busy": "2023-02-27T10:22:56.601053Z",
     "iopub.status.idle": "2023-02-27T10:23:07.737035Z",
     "shell.execute_reply": "2023-02-27T10:23:07.736452Z"
    }
   },
   "outputs": [
    {
     "name": "stdout",
     "output_type": "stream",
     "text": [
      "137 µs ± 647 ns per loop (mean ± std. dev. of 7 runs, 10,000 loops each)\n"
     ]
    }
   ],
   "source": [
    "b3 = Batch(**_TREE_DATA_3)\n",
    "%timeit copy.deepcopy(b3)"
   ]
  },
  {
   "cell_type": "markdown",
   "id": "223162fb",
   "metadata": {},
   "source": [
    "## Stack, Concat and Split Operation"
   ]
  },
  {
   "cell_type": "markdown",
   "id": "85fa4a73",
   "metadata": {},
   "source": [
    "### Performance of TreeValue"
   ]
  },
  {
   "cell_type": "code",
   "execution_count": 19,
   "id": "a0c2b697",
   "metadata": {
    "execution": {
     "iopub.execute_input": "2023-02-27T10:23:07.741357Z",
     "iopub.status.busy": "2023-02-27T10:23:07.740340Z",
     "iopub.status.idle": "2023-02-27T10:23:07.744741Z",
     "shell.execute_reply": "2023-02-27T10:23:07.744207Z"
    }
   },
   "outputs": [],
   "source": [
    "trees = [FastTreeValue(_TREE_DATA_2) for _ in range(8)]"
   ]
  },
  {
   "cell_type": "code",
   "execution_count": 20,
   "id": "017ea5a5",
   "metadata": {
    "execution": {
     "iopub.execute_input": "2023-02-27T10:23:07.748542Z",
     "iopub.status.busy": "2023-02-27T10:23:07.747577Z",
     "iopub.status.idle": "2023-02-27T10:23:07.756547Z",
     "shell.execute_reply": "2023-02-27T10:23:07.756008Z"
    }
   },
   "outputs": [
    {
     "data": {
      "text/plain": [
       "<FastTreeValue 0x7f8aac38de50>\n",
       "├── 'a' --> tensor([[[-0.9820, -2.3604,  1.2070],\n",
       "│                    [-0.6656, -0.5517, -0.6521]],\n",
       "│           \n",
       "│                   [[-0.9820, -2.3604,  1.2070],\n",
       "│                    [-0.6656, -0.5517, -0.6521]],\n",
       "│           \n",
       "│                   [[-0.9820, -2.3604,  1.2070],\n",
       "│                    [-0.6656, -0.5517, -0.6521]],\n",
       "│           \n",
       "│                   [[-0.9820, -2.3604,  1.2070],\n",
       "│                    [-0.6656, -0.5517, -0.6521]],\n",
       "│           \n",
       "│                   [[-0.9820, -2.3604,  1.2070],\n",
       "│                    [-0.6656, -0.5517, -0.6521]],\n",
       "│           \n",
       "│                   [[-0.9820, -2.3604,  1.2070],\n",
       "│                    [-0.6656, -0.5517, -0.6521]],\n",
       "│           \n",
       "│                   [[-0.9820, -2.3604,  1.2070],\n",
       "│                    [-0.6656, -0.5517, -0.6521]],\n",
       "│           \n",
       "│                   [[-0.9820, -2.3604,  1.2070],\n",
       "│                    [-0.6656, -0.5517, -0.6521]]])\n",
       "└── 'x' --> <FastTreeValue 0x7f8aac38d550>\n",
       "    └── 'c' --> tensor([[[ 1.0869,  2.3614, -0.4208, -0.2586],\n",
       "                         [ 0.7364,  0.1505, -0.3797,  1.6764],\n",
       "                         [-0.3111,  0.9107,  1.2373, -0.8553]],\n",
       "                \n",
       "                        [[ 1.0869,  2.3614, -0.4208, -0.2586],\n",
       "                         [ 0.7364,  0.1505, -0.3797,  1.6764],\n",
       "                         [-0.3111,  0.9107,  1.2373, -0.8553]],\n",
       "                \n",
       "                        [[ 1.0869,  2.3614, -0.4208, -0.2586],\n",
       "                         [ 0.7364,  0.1505, -0.3797,  1.6764],\n",
       "                         [-0.3111,  0.9107,  1.2373, -0.8553]],\n",
       "                \n",
       "                        [[ 1.0869,  2.3614, -0.4208, -0.2586],\n",
       "                         [ 0.7364,  0.1505, -0.3797,  1.6764],\n",
       "                         [-0.3111,  0.9107,  1.2373, -0.8553]],\n",
       "                \n",
       "                        [[ 1.0869,  2.3614, -0.4208, -0.2586],\n",
       "                         [ 0.7364,  0.1505, -0.3797,  1.6764],\n",
       "                         [-0.3111,  0.9107,  1.2373, -0.8553]],\n",
       "                \n",
       "                        [[ 1.0869,  2.3614, -0.4208, -0.2586],\n",
       "                         [ 0.7364,  0.1505, -0.3797,  1.6764],\n",
       "                         [-0.3111,  0.9107,  1.2373, -0.8553]],\n",
       "                \n",
       "                        [[ 1.0869,  2.3614, -0.4208, -0.2586],\n",
       "                         [ 0.7364,  0.1505, -0.3797,  1.6764],\n",
       "                         [-0.3111,  0.9107,  1.2373, -0.8553]],\n",
       "                \n",
       "                        [[ 1.0869,  2.3614, -0.4208, -0.2586],\n",
       "                         [ 0.7364,  0.1505, -0.3797,  1.6764],\n",
       "                         [-0.3111,  0.9107,  1.2373, -0.8553]]])"
      ]
     },
     "execution_count": 20,
     "metadata": {},
     "output_type": "execute_result"
    }
   ],
   "source": [
    "t_stack = FastTreeValue.func(subside=True)(torch.stack)\n",
    "\n",
    "t_stack(trees)"
   ]
  },
  {
   "cell_type": "code",
   "execution_count": 21,
   "id": "f8b3f415",
   "metadata": {
    "execution": {
     "iopub.execute_input": "2023-02-27T10:23:07.760289Z",
     "iopub.status.busy": "2023-02-27T10:23:07.759297Z",
     "iopub.status.idle": "2023-02-27T10:23:10.360396Z",
     "shell.execute_reply": "2023-02-27T10:23:10.359578Z"
    }
   },
   "outputs": [
    {
     "name": "stdout",
     "output_type": "stream",
     "text": [
      "32 µs ± 127 ns per loop (mean ± std. dev. of 7 runs, 10,000 loops each)\n"
     ]
    }
   ],
   "source": [
    "%timeit t_stack(trees)"
   ]
  },
  {
   "cell_type": "code",
   "execution_count": 22,
   "id": "94b56771",
   "metadata": {
    "execution": {
     "iopub.execute_input": "2023-02-27T10:23:10.363548Z",
     "iopub.status.busy": "2023-02-27T10:23:10.363162Z",
     "iopub.status.idle": "2023-02-27T10:23:10.372115Z",
     "shell.execute_reply": "2023-02-27T10:23:10.371506Z"
    }
   },
   "outputs": [
    {
     "data": {
      "text/plain": [
       "<FastTreeValue 0x7f8a0101bdf0>\n",
       "├── 'a' --> tensor([[-0.9820, -2.3604,  1.2070],\n",
       "│                   [-0.6656, -0.5517, -0.6521],\n",
       "│                   [-0.9820, -2.3604,  1.2070],\n",
       "│                   [-0.6656, -0.5517, -0.6521],\n",
       "│                   [-0.9820, -2.3604,  1.2070],\n",
       "│                   [-0.6656, -0.5517, -0.6521],\n",
       "│                   [-0.9820, -2.3604,  1.2070],\n",
       "│                   [-0.6656, -0.5517, -0.6521],\n",
       "│                   [-0.9820, -2.3604,  1.2070],\n",
       "│                   [-0.6656, -0.5517, -0.6521],\n",
       "│                   [-0.9820, -2.3604,  1.2070],\n",
       "│                   [-0.6656, -0.5517, -0.6521],\n",
       "│                   [-0.9820, -2.3604,  1.2070],\n",
       "│                   [-0.6656, -0.5517, -0.6521],\n",
       "│                   [-0.9820, -2.3604,  1.2070],\n",
       "│                   [-0.6656, -0.5517, -0.6521]])\n",
       "└── 'x' --> <FastTreeValue 0x7f8a0101bd90>\n",
       "    └── 'c' --> tensor([[ 1.0869,  2.3614, -0.4208, -0.2586],\n",
       "                        [ 0.7364,  0.1505, -0.3797,  1.6764],\n",
       "                        [-0.3111,  0.9107,  1.2373, -0.8553],\n",
       "                        [ 1.0869,  2.3614, -0.4208, -0.2586],\n",
       "                        [ 0.7364,  0.1505, -0.3797,  1.6764],\n",
       "                        [-0.3111,  0.9107,  1.2373, -0.8553],\n",
       "                        [ 1.0869,  2.3614, -0.4208, -0.2586],\n",
       "                        [ 0.7364,  0.1505, -0.3797,  1.6764],\n",
       "                        [-0.3111,  0.9107,  1.2373, -0.8553],\n",
       "                        [ 1.0869,  2.3614, -0.4208, -0.2586],\n",
       "                        [ 0.7364,  0.1505, -0.3797,  1.6764],\n",
       "                        [-0.3111,  0.9107,  1.2373, -0.8553],\n",
       "                        [ 1.0869,  2.3614, -0.4208, -0.2586],\n",
       "                        [ 0.7364,  0.1505, -0.3797,  1.6764],\n",
       "                        [-0.3111,  0.9107,  1.2373, -0.8553],\n",
       "                        [ 1.0869,  2.3614, -0.4208, -0.2586],\n",
       "                        [ 0.7364,  0.1505, -0.3797,  1.6764],\n",
       "                        [-0.3111,  0.9107,  1.2373, -0.8553],\n",
       "                        [ 1.0869,  2.3614, -0.4208, -0.2586],\n",
       "                        [ 0.7364,  0.1505, -0.3797,  1.6764],\n",
       "                        [-0.3111,  0.9107,  1.2373, -0.8553],\n",
       "                        [ 1.0869,  2.3614, -0.4208, -0.2586],\n",
       "                        [ 0.7364,  0.1505, -0.3797,  1.6764],\n",
       "                        [-0.3111,  0.9107,  1.2373, -0.8553]])"
      ]
     },
     "execution_count": 22,
     "metadata": {},
     "output_type": "execute_result"
    }
   ],
   "source": [
    "t_cat = FastTreeValue.func(subside=True)(torch.cat)\n",
    "\n",
    "t_cat(trees)"
   ]
  },
  {
   "cell_type": "code",
   "execution_count": 23,
   "id": "5e9c06a6",
   "metadata": {
    "execution": {
     "iopub.execute_input": "2023-02-27T10:23:10.375016Z",
     "iopub.status.busy": "2023-02-27T10:23:10.374675Z",
     "iopub.status.idle": "2023-02-27T10:23:12.823337Z",
     "shell.execute_reply": "2023-02-27T10:23:12.822677Z"
    }
   },
   "outputs": [
    {
     "name": "stdout",
     "output_type": "stream",
     "text": [
      "30.1 µs ± 42.2 ns per loop (mean ± std. dev. of 7 runs, 10,000 loops each)\n"
     ]
    }
   ],
   "source": [
    "%timeit t_cat(trees)"
   ]
  },
  {
   "cell_type": "code",
   "execution_count": 24,
   "id": "a3ab5c8f",
   "metadata": {
    "execution": {
     "iopub.execute_input": "2023-02-27T10:23:12.826582Z",
     "iopub.status.busy": "2023-02-27T10:23:12.826013Z",
     "iopub.status.idle": "2023-02-27T10:23:17.406438Z",
     "shell.execute_reply": "2023-02-27T10:23:17.405738Z"
    }
   },
   "outputs": [
    {
     "name": "stdout",
     "output_type": "stream",
     "text": [
      "56.4 µs ± 92.1 ns per loop (mean ± std. dev. of 7 runs, 10,000 loops each)\n"
     ]
    }
   ],
   "source": [
    "t_split = FastTreeValue.func(rise=True)(torch.split)\n",
    "tree = FastTreeValue({\n",
    "    'obs': torch.randn(8, 4, 84, 84),\n",
    "    'action': torch.randint(0, 6, size=(8, 1,)),\n",
    "    'reward': torch.rand(8, 1),\n",
    "})\n",
    "\n",
    "%timeit t_split(tree, 1)"
   ]
  },
  {
   "cell_type": "markdown",
   "id": "31c3ec0b",
   "metadata": {},
   "source": [
    "### Performance of Tianshou Batch"
   ]
  },
  {
   "cell_type": "code",
   "execution_count": 25,
   "id": "9ead828a",
   "metadata": {
    "execution": {
     "iopub.execute_input": "2023-02-27T10:23:17.409636Z",
     "iopub.status.busy": "2023-02-27T10:23:17.409279Z",
     "iopub.status.idle": "2023-02-27T10:23:17.418397Z",
     "shell.execute_reply": "2023-02-27T10:23:17.417805Z"
    }
   },
   "outputs": [
    {
     "data": {
      "text/plain": [
       "Batch(\n",
       "    a: tensor([[[-0.9820, -2.3604,  1.2070],\n",
       "                [-0.6656, -0.5517, -0.6521]],\n",
       "       \n",
       "               [[-0.9820, -2.3604,  1.2070],\n",
       "                [-0.6656, -0.5517, -0.6521]],\n",
       "       \n",
       "               [[-0.9820, -2.3604,  1.2070],\n",
       "                [-0.6656, -0.5517, -0.6521]],\n",
       "       \n",
       "               [[-0.9820, -2.3604,  1.2070],\n",
       "                [-0.6656, -0.5517, -0.6521]],\n",
       "       \n",
       "               [[-0.9820, -2.3604,  1.2070],\n",
       "                [-0.6656, -0.5517, -0.6521]],\n",
       "       \n",
       "               [[-0.9820, -2.3604,  1.2070],\n",
       "                [-0.6656, -0.5517, -0.6521]],\n",
       "       \n",
       "               [[-0.9820, -2.3604,  1.2070],\n",
       "                [-0.6656, -0.5517, -0.6521]],\n",
       "       \n",
       "               [[-0.9820, -2.3604,  1.2070],\n",
       "                [-0.6656, -0.5517, -0.6521]]]),\n",
       "    x: Batch(\n",
       "           c: tensor([[[ 1.0869,  2.3614, -0.4208, -0.2586],\n",
       "                       [ 0.7364,  0.1505, -0.3797,  1.6764],\n",
       "                       [-0.3111,  0.9107,  1.2373, -0.8553]],\n",
       "              \n",
       "                      [[ 1.0869,  2.3614, -0.4208, -0.2586],\n",
       "                       [ 0.7364,  0.1505, -0.3797,  1.6764],\n",
       "                       [-0.3111,  0.9107,  1.2373, -0.8553]],\n",
       "              \n",
       "                      [[ 1.0869,  2.3614, -0.4208, -0.2586],\n",
       "                       [ 0.7364,  0.1505, -0.3797,  1.6764],\n",
       "                       [-0.3111,  0.9107,  1.2373, -0.8553]],\n",
       "              \n",
       "                      [[ 1.0869,  2.3614, -0.4208, -0.2586],\n",
       "                       [ 0.7364,  0.1505, -0.3797,  1.6764],\n",
       "                       [-0.3111,  0.9107,  1.2373, -0.8553]],\n",
       "              \n",
       "                      [[ 1.0869,  2.3614, -0.4208, -0.2586],\n",
       "                       [ 0.7364,  0.1505, -0.3797,  1.6764],\n",
       "                       [-0.3111,  0.9107,  1.2373, -0.8553]],\n",
       "              \n",
       "                      [[ 1.0869,  2.3614, -0.4208, -0.2586],\n",
       "                       [ 0.7364,  0.1505, -0.3797,  1.6764],\n",
       "                       [-0.3111,  0.9107,  1.2373, -0.8553]],\n",
       "              \n",
       "                      [[ 1.0869,  2.3614, -0.4208, -0.2586],\n",
       "                       [ 0.7364,  0.1505, -0.3797,  1.6764],\n",
       "                       [-0.3111,  0.9107,  1.2373, -0.8553]],\n",
       "              \n",
       "                      [[ 1.0869,  2.3614, -0.4208, -0.2586],\n",
       "                       [ 0.7364,  0.1505, -0.3797,  1.6764],\n",
       "                       [-0.3111,  0.9107,  1.2373, -0.8553]]]),\n",
       "       ),\n",
       ")"
      ]
     },
     "execution_count": 25,
     "metadata": {},
     "output_type": "execute_result"
    }
   ],
   "source": [
    "batches = [Batch(**_TREE_DATA_2) for _ in range(8)]\n",
    "\n",
    "Batch.stack(batches)"
   ]
  },
  {
   "cell_type": "code",
   "execution_count": 26,
   "id": "ec9037a3",
   "metadata": {
    "execution": {
     "iopub.execute_input": "2023-02-27T10:23:17.421409Z",
     "iopub.status.busy": "2023-02-27T10:23:17.420919Z",
     "iopub.status.idle": "2023-02-27T10:23:23.730806Z",
     "shell.execute_reply": "2023-02-27T10:23:23.730144Z"
    }
   },
   "outputs": [
    {
     "name": "stdout",
     "output_type": "stream",
     "text": [
      "77.6 µs ± 91.6 ns per loop (mean ± std. dev. of 7 runs, 10,000 loops each)\n"
     ]
    }
   ],
   "source": [
    "%timeit Batch.stack(batches)"
   ]
  },
  {
   "cell_type": "code",
   "execution_count": 27,
   "id": "cb8ab77e",
   "metadata": {
    "execution": {
     "iopub.execute_input": "2023-02-27T10:23:23.733802Z",
     "iopub.status.busy": "2023-02-27T10:23:23.733246Z",
     "iopub.status.idle": "2023-02-27T10:23:23.740797Z",
     "shell.execute_reply": "2023-02-27T10:23:23.740233Z"
    }
   },
   "outputs": [
    {
     "data": {
      "text/plain": [
       "Batch(\n",
       "    a: tensor([[-0.9820, -2.3604,  1.2070],\n",
       "               [-0.6656, -0.5517, -0.6521],\n",
       "               [-0.9820, -2.3604,  1.2070],\n",
       "               [-0.6656, -0.5517, -0.6521],\n",
       "               [-0.9820, -2.3604,  1.2070],\n",
       "               [-0.6656, -0.5517, -0.6521],\n",
       "               [-0.9820, -2.3604,  1.2070],\n",
       "               [-0.6656, -0.5517, -0.6521],\n",
       "               [-0.9820, -2.3604,  1.2070],\n",
       "               [-0.6656, -0.5517, -0.6521],\n",
       "               [-0.9820, -2.3604,  1.2070],\n",
       "               [-0.6656, -0.5517, -0.6521],\n",
       "               [-0.9820, -2.3604,  1.2070],\n",
       "               [-0.6656, -0.5517, -0.6521],\n",
       "               [-0.9820, -2.3604,  1.2070],\n",
       "               [-0.6656, -0.5517, -0.6521]]),\n",
       "    x: Batch(\n",
       "           c: tensor([[ 1.0869,  2.3614, -0.4208, -0.2586],\n",
       "                      [ 0.7364,  0.1505, -0.3797,  1.6764],\n",
       "                      [-0.3111,  0.9107,  1.2373, -0.8553],\n",
       "                      [ 1.0869,  2.3614, -0.4208, -0.2586],\n",
       "                      [ 0.7364,  0.1505, -0.3797,  1.6764],\n",
       "                      [-0.3111,  0.9107,  1.2373, -0.8553],\n",
       "                      [ 1.0869,  2.3614, -0.4208, -0.2586],\n",
       "                      [ 0.7364,  0.1505, -0.3797,  1.6764],\n",
       "                      [-0.3111,  0.9107,  1.2373, -0.8553],\n",
       "                      [ 1.0869,  2.3614, -0.4208, -0.2586],\n",
       "                      [ 0.7364,  0.1505, -0.3797,  1.6764],\n",
       "                      [-0.3111,  0.9107,  1.2373, -0.8553],\n",
       "                      [ 1.0869,  2.3614, -0.4208, -0.2586],\n",
       "                      [ 0.7364,  0.1505, -0.3797,  1.6764],\n",
       "                      [-0.3111,  0.9107,  1.2373, -0.8553],\n",
       "                      [ 1.0869,  2.3614, -0.4208, -0.2586],\n",
       "                      [ 0.7364,  0.1505, -0.3797,  1.6764],\n",
       "                      [-0.3111,  0.9107,  1.2373, -0.8553],\n",
       "                      [ 1.0869,  2.3614, -0.4208, -0.2586],\n",
       "                      [ 0.7364,  0.1505, -0.3797,  1.6764],\n",
       "                      [-0.3111,  0.9107,  1.2373, -0.8553],\n",
       "                      [ 1.0869,  2.3614, -0.4208, -0.2586],\n",
       "                      [ 0.7364,  0.1505, -0.3797,  1.6764],\n",
       "                      [-0.3111,  0.9107,  1.2373, -0.8553]]),\n",
       "       ),\n",
       ")"
      ]
     },
     "execution_count": 27,
     "metadata": {},
     "output_type": "execute_result"
    }
   ],
   "source": [
    "Batch.cat(batches)"
   ]
  },
  {
   "cell_type": "code",
   "execution_count": 28,
   "id": "18dfb045",
   "metadata": {
    "execution": {
     "iopub.execute_input": "2023-02-27T10:23:23.743208Z",
     "iopub.status.busy": "2023-02-27T10:23:23.742991Z",
     "iopub.status.idle": "2023-02-27T10:23:35.259612Z",
     "shell.execute_reply": "2023-02-27T10:23:35.258853Z"
    }
   },
   "outputs": [
    {
     "name": "stdout",
     "output_type": "stream",
     "text": [
      "142 µs ± 143 ns per loop (mean ± std. dev. of 7 runs, 10,000 loops each)\n"
     ]
    }
   ],
   "source": [
    "%timeit Batch.cat(batches)"
   ]
  },
  {
   "cell_type": "code",
   "execution_count": 29,
   "id": "c6688e51",
   "metadata": {
    "execution": {
     "iopub.execute_input": "2023-02-27T10:23:35.262643Z",
     "iopub.status.busy": "2023-02-27T10:23:35.262075Z",
     "iopub.status.idle": "2023-02-27T10:23:37.815164Z",
     "shell.execute_reply": "2023-02-27T10:23:37.814578Z"
    }
   },
   "outputs": [
    {
     "name": "stdout",
     "output_type": "stream",
     "text": [
      "314 µs ± 2.17 µs per loop (mean ± std. dev. of 7 runs, 1,000 loops each)\n"
     ]
    }
   ],
   "source": [
    "batch = Batch({\n",
    "    'obs': torch.randn(8, 4, 84, 84),\n",
    "    'action': torch.randint(0, 6, size=(8, 1,)),\n",
    "    'reward': torch.rand(8, 1)}\n",
    ")\n",
    "\n",
    "%timeit list(Batch.split(batch, 1, shuffle=False, merge_last=True))"
   ]
  },
  {
   "cell_type": "code",
   "execution_count": null,
   "id": "2539fbd9",
   "metadata": {},
   "outputs": [],
   "source": []
  }
 ],
 "metadata": {
  "kernelspec": {
   "display_name": "Python 3 (ipykernel)",
   "language": "python",
   "name": "python3"
  },
  "language_info": {
   "codemirror_mode": {
    "name": "ipython",
    "version": 3
   },
   "file_extension": ".py",
   "mimetype": "text/x-python",
   "name": "python",
   "nbconvert_exporter": "python",
   "pygments_lexer": "ipython3",
   "version": "3.8.16"
  }
 },
 "nbformat": 4,
 "nbformat_minor": 5
}
