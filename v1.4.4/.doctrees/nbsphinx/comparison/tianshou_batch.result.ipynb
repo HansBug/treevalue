{
 "cells": [
  {
   "cell_type": "markdown",
   "id": "9d39d946",
   "metadata": {},
   "source": [
    "# Comparison Between TreeValue and Tianshou Batch"
   ]
  },
  {
   "cell_type": "markdown",
   "id": "3c6db2d4",
   "metadata": {},
   "source": [
    "In this section, we will take a look at the feature and performance of the [Tianshou Batch](https://github.com/thu-ml/tianshou) library, which is developed by Tsinghua Machine Learning Group."
   ]
  },
  {
   "cell_type": "markdown",
   "id": "069361b0",
   "metadata": {},
   "source": [
    "Before starting the comparison, let us define some thing."
   ]
  },
  {
   "cell_type": "code",
   "execution_count": 1,
   "id": "06fc8d26",
   "metadata": {
    "execution": {
     "iopub.execute_input": "2023-08-10T03:53:55.148849Z",
     "iopub.status.busy": "2023-08-10T03:53:55.148452Z",
     "iopub.status.idle": "2023-08-10T03:53:56.487013Z",
     "shell.execute_reply": "2023-08-10T03:53:56.486298Z"
    }
   },
   "outputs": [],
   "source": [
    "import torch \n",
    "\n",
    "_TREE_DATA_1 = {'a': 1, 'b': 2, 'x': {'c': 3, 'd': 4}}\n",
    "_TREE_DATA_2 = {\n",
    "    'a': torch.randn(2, 3), \n",
    "    'x': {\n",
    "        'c': torch.randn(3, 4)\n",
    "    },\n",
    "}\n",
    "_TREE_DATA_3 = {\n",
    "    'obs': torch.randn(4, 84, 84),\n",
    "    'action': torch.randint(0, 6, size=(1,)),\n",
    "    'reward': torch.rand(1),\n",
    "}"
   ]
  },
  {
   "cell_type": "markdown",
   "id": "83461b25",
   "metadata": {},
   "source": [
    "## Read and Write Operation"
   ]
  },
  {
   "cell_type": "markdown",
   "id": "067b3f73",
   "metadata": {},
   "source": [
    "Reading and writing are the two most common operations in the tree data structure based on the data model (TreeValue and Tianshou Batch both belong to this type), so this section will compare the reading and writing performance of these two libraries."
   ]
  },
  {
   "cell_type": "markdown",
   "id": "5d09a5b7",
   "metadata": {},
   "source": [
    "### TreeValue's Get and Set"
   ]
  },
  {
   "cell_type": "code",
   "execution_count": 2,
   "id": "9519c4bb",
   "metadata": {
    "execution": {
     "iopub.execute_input": "2023-08-10T03:53:56.491269Z",
     "iopub.status.busy": "2023-08-10T03:53:56.490823Z",
     "iopub.status.idle": "2023-08-10T03:53:56.519616Z",
     "shell.execute_reply": "2023-08-10T03:53:56.518925Z"
    }
   },
   "outputs": [],
   "source": [
    "from treevalue import FastTreeValue\n",
    "\n",
    "t = FastTreeValue(_TREE_DATA_2)"
   ]
  },
  {
   "cell_type": "code",
   "execution_count": 3,
   "id": "11c37677",
   "metadata": {
    "execution": {
     "iopub.execute_input": "2023-08-10T03:53:56.523287Z",
     "iopub.status.busy": "2023-08-10T03:53:56.522916Z",
     "iopub.status.idle": "2023-08-10T03:53:56.533592Z",
     "shell.execute_reply": "2023-08-10T03:53:56.532935Z"
    }
   },
   "outputs": [
    {
     "data": {
      "text/plain": [
       "<FastTreeValue 0x7f6f54bbc4f0>\n",
       "├── 'a' --> tensor([[-0.2540,  2.5304,  0.8798],\n",
       "│                   [ 0.1927, -0.6284, -1.0389]])\n",
       "└── 'x' --> <FastTreeValue 0x7f6f54bbce50>\n",
       "    └── 'c' --> tensor([[-0.0393,  1.6880, -1.1207, -0.1781],\n",
       "                        [ 1.3211,  0.3347, -0.8080, -0.8914],\n",
       "                        [ 0.5762, -0.4021,  1.0313, -0.9257]])"
      ]
     },
     "execution_count": 3,
     "metadata": {},
     "output_type": "execute_result"
    }
   ],
   "source": [
    "t"
   ]
  },
  {
   "cell_type": "code",
   "execution_count": 4,
   "id": "fd70b0b9",
   "metadata": {
    "execution": {
     "iopub.execute_input": "2023-08-10T03:53:56.537170Z",
     "iopub.status.busy": "2023-08-10T03:53:56.536759Z",
     "iopub.status.idle": "2023-08-10T03:53:56.543573Z",
     "shell.execute_reply": "2023-08-10T03:53:56.542949Z"
    }
   },
   "outputs": [
    {
     "data": {
      "text/plain": [
       "tensor([[-0.2540,  2.5304,  0.8798],\n",
       "        [ 0.1927, -0.6284, -1.0389]])"
      ]
     },
     "execution_count": 4,
     "metadata": {},
     "output_type": "execute_result"
    }
   ],
   "source": [
    "t.a"
   ]
  },
  {
   "cell_type": "code",
   "execution_count": 5,
   "id": "c18197bd",
   "metadata": {
    "execution": {
     "iopub.execute_input": "2023-08-10T03:53:56.546561Z",
     "iopub.status.busy": "2023-08-10T03:53:56.545967Z",
     "iopub.status.idle": "2023-08-10T03:54:01.824717Z",
     "shell.execute_reply": "2023-08-10T03:54:01.824111Z"
    }
   },
   "outputs": [
    {
     "name": "stdout",
     "output_type": "stream",
     "text": [
      "64.5 ns ± 0.048 ns per loop (mean ± std. dev. of 7 runs, 10,000,000 loops each)\n"
     ]
    }
   ],
   "source": [
    "%timeit t.a"
   ]
  },
  {
   "cell_type": "code",
   "execution_count": 6,
   "id": "bd52f867",
   "metadata": {
    "execution": {
     "iopub.execute_input": "2023-08-10T03:54:01.827890Z",
     "iopub.status.busy": "2023-08-10T03:54:01.827414Z",
     "iopub.status.idle": "2023-08-10T03:54:01.833693Z",
     "shell.execute_reply": "2023-08-10T03:54:01.833010Z"
    }
   },
   "outputs": [
    {
     "data": {
      "text/plain": [
       "<FastTreeValue 0x7f6f54bbc4f0>\n",
       "├── 'a' --> tensor([[-0.2503,  0.3040, -1.2587],\n",
       "│                   [-1.0292,  1.2959,  0.2614]])\n",
       "└── 'x' --> <FastTreeValue 0x7f6f54bbce50>\n",
       "    └── 'c' --> tensor([[-0.0393,  1.6880, -1.1207, -0.1781],\n",
       "                        [ 1.3211,  0.3347, -0.8080, -0.8914],\n",
       "                        [ 0.5762, -0.4021,  1.0313, -0.9257]])"
      ]
     },
     "execution_count": 6,
     "metadata": {},
     "output_type": "execute_result"
    }
   ],
   "source": [
    "new_value = torch.randn(2, 3)\n",
    "t.a = new_value\n",
    "\n",
    "t"
   ]
  },
  {
   "cell_type": "code",
   "execution_count": 7,
   "id": "bbe04d1c",
   "metadata": {
    "execution": {
     "iopub.execute_input": "2023-08-10T03:54:01.836578Z",
     "iopub.status.busy": "2023-08-10T03:54:01.836212Z",
     "iopub.status.idle": "2023-08-10T03:54:07.099280Z",
     "shell.execute_reply": "2023-08-10T03:54:07.098173Z"
    }
   },
   "outputs": [
    {
     "name": "stdout",
     "output_type": "stream",
     "text": [
      "64.8 ns ± 0.038 ns per loop (mean ± std. dev. of 7 runs, 10,000,000 loops each)\n"
     ]
    }
   ],
   "source": [
    "%timeit t.a = new_value"
   ]
  },
  {
   "cell_type": "markdown",
   "id": "48c49731",
   "metadata": {},
   "source": [
    "### Tianshou Batch's Get and Set"
   ]
  },
  {
   "cell_type": "code",
   "execution_count": 8,
   "id": "f1bb14c1",
   "metadata": {
    "execution": {
     "iopub.execute_input": "2023-08-10T03:54:07.102572Z",
     "iopub.status.busy": "2023-08-10T03:54:07.102196Z",
     "iopub.status.idle": "2023-08-10T03:54:07.464238Z",
     "shell.execute_reply": "2023-08-10T03:54:07.463525Z"
    }
   },
   "outputs": [],
   "source": [
    "from tianshou.data import Batch\n",
    "\n",
    "b = Batch(**_TREE_DATA_2)"
   ]
  },
  {
   "cell_type": "code",
   "execution_count": 9,
   "id": "cb0777c3",
   "metadata": {
    "execution": {
     "iopub.execute_input": "2023-08-10T03:54:07.467673Z",
     "iopub.status.busy": "2023-08-10T03:54:07.467182Z",
     "iopub.status.idle": "2023-08-10T03:54:07.473182Z",
     "shell.execute_reply": "2023-08-10T03:54:07.472462Z"
    }
   },
   "outputs": [
    {
     "data": {
      "text/plain": [
       "Batch(\n",
       "    a: tensor([[-0.2540,  2.5304,  0.8798],\n",
       "               [ 0.1927, -0.6284, -1.0389]]),\n",
       "    x: Batch(\n",
       "           c: tensor([[-0.0393,  1.6880, -1.1207, -0.1781],\n",
       "                      [ 1.3211,  0.3347, -0.8080, -0.8914],\n",
       "                      [ 0.5762, -0.4021,  1.0313, -0.9257]]),\n",
       "       ),\n",
       ")"
      ]
     },
     "execution_count": 9,
     "metadata": {},
     "output_type": "execute_result"
    }
   ],
   "source": [
    "b"
   ]
  },
  {
   "cell_type": "code",
   "execution_count": 10,
   "id": "43ef8ea3",
   "metadata": {
    "execution": {
     "iopub.execute_input": "2023-08-10T03:54:07.476175Z",
     "iopub.status.busy": "2023-08-10T03:54:07.475646Z",
     "iopub.status.idle": "2023-08-10T03:54:07.480662Z",
     "shell.execute_reply": "2023-08-10T03:54:07.480013Z"
    }
   },
   "outputs": [
    {
     "data": {
      "text/plain": [
       "tensor([[-0.2540,  2.5304,  0.8798],\n",
       "        [ 0.1927, -0.6284, -1.0389]])"
      ]
     },
     "execution_count": 10,
     "metadata": {},
     "output_type": "execute_result"
    }
   ],
   "source": [
    "b.a"
   ]
  },
  {
   "cell_type": "code",
   "execution_count": 11,
   "id": "b785ab72",
   "metadata": {
    "execution": {
     "iopub.execute_input": "2023-08-10T03:54:07.483832Z",
     "iopub.status.busy": "2023-08-10T03:54:07.483466Z",
     "iopub.status.idle": "2023-08-10T03:54:11.951085Z",
     "shell.execute_reply": "2023-08-10T03:54:11.950487Z"
    }
   },
   "outputs": [
    {
     "name": "stdout",
     "output_type": "stream",
     "text": [
      "54.9 ns ± 0.0375 ns per loop (mean ± std. dev. of 7 runs, 10,000,000 loops each)\n"
     ]
    }
   ],
   "source": [
    "%timeit b.a"
   ]
  },
  {
   "cell_type": "code",
   "execution_count": 12,
   "id": "ad54dc69",
   "metadata": {
    "execution": {
     "iopub.execute_input": "2023-08-10T03:54:11.954418Z",
     "iopub.status.busy": "2023-08-10T03:54:11.953740Z",
     "iopub.status.idle": "2023-08-10T03:54:11.959996Z",
     "shell.execute_reply": "2023-08-10T03:54:11.959308Z"
    }
   },
   "outputs": [
    {
     "data": {
      "text/plain": [
       "Batch(\n",
       "    a: tensor([[ 0.6183,  0.0348, -1.8972],\n",
       "               [-0.4237,  0.6087, -0.6263]]),\n",
       "    x: Batch(\n",
       "           c: tensor([[-0.0393,  1.6880, -1.1207, -0.1781],\n",
       "                      [ 1.3211,  0.3347, -0.8080, -0.8914],\n",
       "                      [ 0.5762, -0.4021,  1.0313, -0.9257]]),\n",
       "       ),\n",
       ")"
      ]
     },
     "execution_count": 12,
     "metadata": {},
     "output_type": "execute_result"
    }
   ],
   "source": [
    "new_value = torch.randn(2, 3)\n",
    "b.a = new_value\n",
    "\n",
    "b"
   ]
  },
  {
   "cell_type": "code",
   "execution_count": 13,
   "id": "29b1d0bf",
   "metadata": {
    "execution": {
     "iopub.execute_input": "2023-08-10T03:54:11.963187Z",
     "iopub.status.busy": "2023-08-10T03:54:11.962566Z",
     "iopub.status.idle": "2023-08-10T03:54:15.952996Z",
     "shell.execute_reply": "2023-08-10T03:54:15.952365Z"
    }
   },
   "outputs": [
    {
     "name": "stdout",
     "output_type": "stream",
     "text": [
      "491 ns ± 0.241 ns per loop (mean ± std. dev. of 7 runs, 1,000,000 loops each)\n"
     ]
    }
   ],
   "source": [
    "%timeit b.a = new_value"
   ]
  },
  {
   "cell_type": "markdown",
   "id": "b61ad1d0",
   "metadata": {},
   "source": [
    "## Initialization"
   ]
  },
  {
   "cell_type": "markdown",
   "id": "d70f0d54",
   "metadata": {},
   "source": [
    "### TreeValue's Initialization"
   ]
  },
  {
   "cell_type": "code",
   "execution_count": 14,
   "id": "d32a679b",
   "metadata": {
    "execution": {
     "iopub.execute_input": "2023-08-10T03:54:15.956337Z",
     "iopub.status.busy": "2023-08-10T03:54:15.955851Z",
     "iopub.status.idle": "2023-08-10T03:54:25.236177Z",
     "shell.execute_reply": "2023-08-10T03:54:25.235578Z"
    }
   },
   "outputs": [
    {
     "name": "stdout",
     "output_type": "stream",
     "text": [
      "1.14 µs ± 0.663 ns per loop (mean ± std. dev. of 7 runs, 1,000,000 loops each)\n"
     ]
    }
   ],
   "source": [
    "%timeit FastTreeValue(_TREE_DATA_1)"
   ]
  },
  {
   "cell_type": "markdown",
   "id": "24f3707b",
   "metadata": {},
   "source": [
    "### Tianshou Batch's Initialization"
   ]
  },
  {
   "cell_type": "code",
   "execution_count": 15,
   "id": "ac3958df",
   "metadata": {
    "execution": {
     "iopub.execute_input": "2023-08-10T03:54:25.239600Z",
     "iopub.status.busy": "2023-08-10T03:54:25.238931Z",
     "iopub.status.idle": "2023-08-10T03:54:34.800639Z",
     "shell.execute_reply": "2023-08-10T03:54:34.799482Z"
    }
   },
   "outputs": [
    {
     "name": "stdout",
     "output_type": "stream",
     "text": [
      "11.8 µs ± 22.9 ns per loop (mean ± std. dev. of 7 runs, 100,000 loops each)\n"
     ]
    }
   ],
   "source": [
    "%timeit Batch(**_TREE_DATA_1)"
   ]
  },
  {
   "cell_type": "markdown",
   "id": "1ab82e2d",
   "metadata": {},
   "source": [
    "## Deep Copy Operation"
   ]
  },
  {
   "cell_type": "code",
   "execution_count": 16,
   "id": "210a9442",
   "metadata": {
    "execution": {
     "iopub.execute_input": "2023-08-10T03:54:34.803849Z",
     "iopub.status.busy": "2023-08-10T03:54:34.803476Z",
     "iopub.status.idle": "2023-08-10T03:54:34.807905Z",
     "shell.execute_reply": "2023-08-10T03:54:34.807293Z"
    }
   },
   "outputs": [],
   "source": [
    "import copy"
   ]
  },
  {
   "cell_type": "markdown",
   "id": "5a736274",
   "metadata": {},
   "source": [
    "### Deep Copy of TreeValue"
   ]
  },
  {
   "cell_type": "code",
   "execution_count": 17,
   "id": "f9bcadd6",
   "metadata": {
    "execution": {
     "iopub.execute_input": "2023-08-10T03:54:34.810693Z",
     "iopub.status.busy": "2023-08-10T03:54:34.810344Z",
     "iopub.status.idle": "2023-08-10T03:54:45.940342Z",
     "shell.execute_reply": "2023-08-10T03:54:45.939734Z"
    }
   },
   "outputs": [
    {
     "name": "stdout",
     "output_type": "stream",
     "text": [
      "137 µs ± 429 ns per loop (mean ± std. dev. of 7 runs, 10,000 loops each)\n"
     ]
    }
   ],
   "source": [
    "t3 = FastTreeValue(_TREE_DATA_3)\n",
    "%timeit copy.deepcopy(t3)"
   ]
  },
  {
   "cell_type": "markdown",
   "id": "bf8be7ea",
   "metadata": {},
   "source": [
    "### Deep Copy of Tianshou Batch"
   ]
  },
  {
   "cell_type": "code",
   "execution_count": 18,
   "id": "91998e6f",
   "metadata": {
    "execution": {
     "iopub.execute_input": "2023-08-10T03:54:45.943769Z",
     "iopub.status.busy": "2023-08-10T03:54:45.943518Z",
     "iopub.status.idle": "2023-08-10T03:54:57.343856Z",
     "shell.execute_reply": "2023-08-10T03:54:57.343246Z"
    }
   },
   "outputs": [
    {
     "name": "stdout",
     "output_type": "stream",
     "text": [
      "140 µs ± 587 ns per loop (mean ± std. dev. of 7 runs, 10,000 loops each)\n"
     ]
    }
   ],
   "source": [
    "b3 = Batch(**_TREE_DATA_3)\n",
    "%timeit copy.deepcopy(b3)"
   ]
  },
  {
   "cell_type": "markdown",
   "id": "223162fb",
   "metadata": {},
   "source": [
    "## Stack, Concat and Split Operation"
   ]
  },
  {
   "cell_type": "markdown",
   "id": "85fa4a73",
   "metadata": {},
   "source": [
    "### Performance of TreeValue"
   ]
  },
  {
   "cell_type": "code",
   "execution_count": 19,
   "id": "a0c2b697",
   "metadata": {
    "execution": {
     "iopub.execute_input": "2023-08-10T03:54:57.348365Z",
     "iopub.status.busy": "2023-08-10T03:54:57.346884Z",
     "iopub.status.idle": "2023-08-10T03:54:57.351263Z",
     "shell.execute_reply": "2023-08-10T03:54:57.350717Z"
    }
   },
   "outputs": [],
   "source": [
    "trees = [FastTreeValue(_TREE_DATA_2) for _ in range(8)]"
   ]
  },
  {
   "cell_type": "code",
   "execution_count": 20,
   "id": "017ea5a5",
   "metadata": {
    "execution": {
     "iopub.execute_input": "2023-08-10T03:54:57.354217Z",
     "iopub.status.busy": "2023-08-10T03:54:57.353575Z",
     "iopub.status.idle": "2023-08-10T03:54:57.361099Z",
     "shell.execute_reply": "2023-08-10T03:54:57.360534Z"
    }
   },
   "outputs": [
    {
     "data": {
      "text/plain": [
       "<FastTreeValue 0x7f6e8ef3b9d0>\n",
       "├── 'a' --> tensor([[[-0.2540,  2.5304,  0.8798],\n",
       "│                    [ 0.1927, -0.6284, -1.0389]],\n",
       "│           \n",
       "│                   [[-0.2540,  2.5304,  0.8798],\n",
       "│                    [ 0.1927, -0.6284, -1.0389]],\n",
       "│           \n",
       "│                   [[-0.2540,  2.5304,  0.8798],\n",
       "│                    [ 0.1927, -0.6284, -1.0389]],\n",
       "│           \n",
       "│                   [[-0.2540,  2.5304,  0.8798],\n",
       "│                    [ 0.1927, -0.6284, -1.0389]],\n",
       "│           \n",
       "│                   [[-0.2540,  2.5304,  0.8798],\n",
       "│                    [ 0.1927, -0.6284, -1.0389]],\n",
       "│           \n",
       "│                   [[-0.2540,  2.5304,  0.8798],\n",
       "│                    [ 0.1927, -0.6284, -1.0389]],\n",
       "│           \n",
       "│                   [[-0.2540,  2.5304,  0.8798],\n",
       "│                    [ 0.1927, -0.6284, -1.0389]],\n",
       "│           \n",
       "│                   [[-0.2540,  2.5304,  0.8798],\n",
       "│                    [ 0.1927, -0.6284, -1.0389]]])\n",
       "└── 'x' --> <FastTreeValue 0x7f6e8ef3b8e0>\n",
       "    └── 'c' --> tensor([[[-0.0393,  1.6880, -1.1207, -0.1781],\n",
       "                         [ 1.3211,  0.3347, -0.8080, -0.8914],\n",
       "                         [ 0.5762, -0.4021,  1.0313, -0.9257]],\n",
       "                \n",
       "                        [[-0.0393,  1.6880, -1.1207, -0.1781],\n",
       "                         [ 1.3211,  0.3347, -0.8080, -0.8914],\n",
       "                         [ 0.5762, -0.4021,  1.0313, -0.9257]],\n",
       "                \n",
       "                        [[-0.0393,  1.6880, -1.1207, -0.1781],\n",
       "                         [ 1.3211,  0.3347, -0.8080, -0.8914],\n",
       "                         [ 0.5762, -0.4021,  1.0313, -0.9257]],\n",
       "                \n",
       "                        [[-0.0393,  1.6880, -1.1207, -0.1781],\n",
       "                         [ 1.3211,  0.3347, -0.8080, -0.8914],\n",
       "                         [ 0.5762, -0.4021,  1.0313, -0.9257]],\n",
       "                \n",
       "                        [[-0.0393,  1.6880, -1.1207, -0.1781],\n",
       "                         [ 1.3211,  0.3347, -0.8080, -0.8914],\n",
       "                         [ 0.5762, -0.4021,  1.0313, -0.9257]],\n",
       "                \n",
       "                        [[-0.0393,  1.6880, -1.1207, -0.1781],\n",
       "                         [ 1.3211,  0.3347, -0.8080, -0.8914],\n",
       "                         [ 0.5762, -0.4021,  1.0313, -0.9257]],\n",
       "                \n",
       "                        [[-0.0393,  1.6880, -1.1207, -0.1781],\n",
       "                         [ 1.3211,  0.3347, -0.8080, -0.8914],\n",
       "                         [ 0.5762, -0.4021,  1.0313, -0.9257]],\n",
       "                \n",
       "                        [[-0.0393,  1.6880, -1.1207, -0.1781],\n",
       "                         [ 1.3211,  0.3347, -0.8080, -0.8914],\n",
       "                         [ 0.5762, -0.4021,  1.0313, -0.9257]]])"
      ]
     },
     "execution_count": 20,
     "metadata": {},
     "output_type": "execute_result"
    }
   ],
   "source": [
    "t_stack = FastTreeValue.func(subside=True)(torch.stack)\n",
    "\n",
    "t_stack(trees)"
   ]
  },
  {
   "cell_type": "code",
   "execution_count": 21,
   "id": "f8b3f415",
   "metadata": {
    "execution": {
     "iopub.execute_input": "2023-08-10T03:54:57.364100Z",
     "iopub.status.busy": "2023-08-10T03:54:57.363442Z",
     "iopub.status.idle": "2023-08-10T03:55:00.013361Z",
     "shell.execute_reply": "2023-08-10T03:55:00.012262Z"
    }
   },
   "outputs": [
    {
     "name": "stdout",
     "output_type": "stream",
     "text": [
      "32.6 µs ± 138 ns per loop (mean ± std. dev. of 7 runs, 10,000 loops each)\n"
     ]
    }
   ],
   "source": [
    "%timeit t_stack(trees)"
   ]
  },
  {
   "cell_type": "code",
   "execution_count": 22,
   "id": "94b56771",
   "metadata": {
    "execution": {
     "iopub.execute_input": "2023-08-10T03:55:00.016806Z",
     "iopub.status.busy": "2023-08-10T03:55:00.016241Z",
     "iopub.status.idle": "2023-08-10T03:55:00.025052Z",
     "shell.execute_reply": "2023-08-10T03:55:00.024381Z"
    }
   },
   "outputs": [
    {
     "data": {
      "text/plain": [
       "<FastTreeValue 0x7f6f56fb1a90>\n",
       "├── 'a' --> tensor([[-0.2540,  2.5304,  0.8798],\n",
       "│                   [ 0.1927, -0.6284, -1.0389],\n",
       "│                   [-0.2540,  2.5304,  0.8798],\n",
       "│                   [ 0.1927, -0.6284, -1.0389],\n",
       "│                   [-0.2540,  2.5304,  0.8798],\n",
       "│                   [ 0.1927, -0.6284, -1.0389],\n",
       "│                   [-0.2540,  2.5304,  0.8798],\n",
       "│                   [ 0.1927, -0.6284, -1.0389],\n",
       "│                   [-0.2540,  2.5304,  0.8798],\n",
       "│                   [ 0.1927, -0.6284, -1.0389],\n",
       "│                   [-0.2540,  2.5304,  0.8798],\n",
       "│                   [ 0.1927, -0.6284, -1.0389],\n",
       "│                   [-0.2540,  2.5304,  0.8798],\n",
       "│                   [ 0.1927, -0.6284, -1.0389],\n",
       "│                   [-0.2540,  2.5304,  0.8798],\n",
       "│                   [ 0.1927, -0.6284, -1.0389]])\n",
       "└── 'x' --> <FastTreeValue 0x7f6f56bd71f0>\n",
       "    └── 'c' --> tensor([[-0.0393,  1.6880, -1.1207, -0.1781],\n",
       "                        [ 1.3211,  0.3347, -0.8080, -0.8914],\n",
       "                        [ 0.5762, -0.4021,  1.0313, -0.9257],\n",
       "                        [-0.0393,  1.6880, -1.1207, -0.1781],\n",
       "                        [ 1.3211,  0.3347, -0.8080, -0.8914],\n",
       "                        [ 0.5762, -0.4021,  1.0313, -0.9257],\n",
       "                        [-0.0393,  1.6880, -1.1207, -0.1781],\n",
       "                        [ 1.3211,  0.3347, -0.8080, -0.8914],\n",
       "                        [ 0.5762, -0.4021,  1.0313, -0.9257],\n",
       "                        [-0.0393,  1.6880, -1.1207, -0.1781],\n",
       "                        [ 1.3211,  0.3347, -0.8080, -0.8914],\n",
       "                        [ 0.5762, -0.4021,  1.0313, -0.9257],\n",
       "                        [-0.0393,  1.6880, -1.1207, -0.1781],\n",
       "                        [ 1.3211,  0.3347, -0.8080, -0.8914],\n",
       "                        [ 0.5762, -0.4021,  1.0313, -0.9257],\n",
       "                        [-0.0393,  1.6880, -1.1207, -0.1781],\n",
       "                        [ 1.3211,  0.3347, -0.8080, -0.8914],\n",
       "                        [ 0.5762, -0.4021,  1.0313, -0.9257],\n",
       "                        [-0.0393,  1.6880, -1.1207, -0.1781],\n",
       "                        [ 1.3211,  0.3347, -0.8080, -0.8914],\n",
       "                        [ 0.5762, -0.4021,  1.0313, -0.9257],\n",
       "                        [-0.0393,  1.6880, -1.1207, -0.1781],\n",
       "                        [ 1.3211,  0.3347, -0.8080, -0.8914],\n",
       "                        [ 0.5762, -0.4021,  1.0313, -0.9257]])"
      ]
     },
     "execution_count": 22,
     "metadata": {},
     "output_type": "execute_result"
    }
   ],
   "source": [
    "t_cat = FastTreeValue.func(subside=True)(torch.cat)\n",
    "\n",
    "t_cat(trees)"
   ]
  },
  {
   "cell_type": "code",
   "execution_count": 23,
   "id": "5e9c06a6",
   "metadata": {
    "execution": {
     "iopub.execute_input": "2023-08-10T03:55:00.028528Z",
     "iopub.status.busy": "2023-08-10T03:55:00.027957Z",
     "iopub.status.idle": "2023-08-10T03:55:02.546608Z",
     "shell.execute_reply": "2023-08-10T03:55:02.546001Z"
    }
   },
   "outputs": [
    {
     "name": "stdout",
     "output_type": "stream",
     "text": [
      "30.9 µs ± 66 ns per loop (mean ± std. dev. of 7 runs, 10,000 loops each)\n"
     ]
    }
   ],
   "source": [
    "%timeit t_cat(trees)"
   ]
  },
  {
   "cell_type": "code",
   "execution_count": 24,
   "id": "a3ab5c8f",
   "metadata": {
    "execution": {
     "iopub.execute_input": "2023-08-10T03:55:02.549975Z",
     "iopub.status.busy": "2023-08-10T03:55:02.549446Z",
     "iopub.status.idle": "2023-08-10T03:55:08.089536Z",
     "shell.execute_reply": "2023-08-10T03:55:08.088733Z"
    }
   },
   "outputs": [
    {
     "name": "stdout",
     "output_type": "stream",
     "text": [
      "68.1 µs ± 78 ns per loop (mean ± std. dev. of 7 runs, 10,000 loops each)\n"
     ]
    }
   ],
   "source": [
    "t_split = FastTreeValue.func(rise=True)(torch.split)\n",
    "tree = FastTreeValue({\n",
    "    'obs': torch.randn(8, 4, 84, 84),\n",
    "    'action': torch.randint(0, 6, size=(8, 1,)),\n",
    "    'reward': torch.rand(8, 1),\n",
    "})\n",
    "\n",
    "%timeit t_split(tree, 1)"
   ]
  },
  {
   "cell_type": "markdown",
   "id": "31c3ec0b",
   "metadata": {},
   "source": [
    "### Performance of Tianshou Batch"
   ]
  },
  {
   "cell_type": "code",
   "execution_count": 25,
   "id": "9ead828a",
   "metadata": {
    "execution": {
     "iopub.execute_input": "2023-08-10T03:55:08.092925Z",
     "iopub.status.busy": "2023-08-10T03:55:08.092366Z",
     "iopub.status.idle": "2023-08-10T03:55:08.101156Z",
     "shell.execute_reply": "2023-08-10T03:55:08.100509Z"
    }
   },
   "outputs": [
    {
     "data": {
      "text/plain": [
       "Batch(\n",
       "    a: tensor([[[-0.2540,  2.5304,  0.8798],\n",
       "                [ 0.1927, -0.6284, -1.0389]],\n",
       "       \n",
       "               [[-0.2540,  2.5304,  0.8798],\n",
       "                [ 0.1927, -0.6284, -1.0389]],\n",
       "       \n",
       "               [[-0.2540,  2.5304,  0.8798],\n",
       "                [ 0.1927, -0.6284, -1.0389]],\n",
       "       \n",
       "               [[-0.2540,  2.5304,  0.8798],\n",
       "                [ 0.1927, -0.6284, -1.0389]],\n",
       "       \n",
       "               [[-0.2540,  2.5304,  0.8798],\n",
       "                [ 0.1927, -0.6284, -1.0389]],\n",
       "       \n",
       "               [[-0.2540,  2.5304,  0.8798],\n",
       "                [ 0.1927, -0.6284, -1.0389]],\n",
       "       \n",
       "               [[-0.2540,  2.5304,  0.8798],\n",
       "                [ 0.1927, -0.6284, -1.0389]],\n",
       "       \n",
       "               [[-0.2540,  2.5304,  0.8798],\n",
       "                [ 0.1927, -0.6284, -1.0389]]]),\n",
       "    x: Batch(\n",
       "           c: tensor([[[-0.0393,  1.6880, -1.1207, -0.1781],\n",
       "                       [ 1.3211,  0.3347, -0.8080, -0.8914],\n",
       "                       [ 0.5762, -0.4021,  1.0313, -0.9257]],\n",
       "              \n",
       "                      [[-0.0393,  1.6880, -1.1207, -0.1781],\n",
       "                       [ 1.3211,  0.3347, -0.8080, -0.8914],\n",
       "                       [ 0.5762, -0.4021,  1.0313, -0.9257]],\n",
       "              \n",
       "                      [[-0.0393,  1.6880, -1.1207, -0.1781],\n",
       "                       [ 1.3211,  0.3347, -0.8080, -0.8914],\n",
       "                       [ 0.5762, -0.4021,  1.0313, -0.9257]],\n",
       "              \n",
       "                      [[-0.0393,  1.6880, -1.1207, -0.1781],\n",
       "                       [ 1.3211,  0.3347, -0.8080, -0.8914],\n",
       "                       [ 0.5762, -0.4021,  1.0313, -0.9257]],\n",
       "              \n",
       "                      [[-0.0393,  1.6880, -1.1207, -0.1781],\n",
       "                       [ 1.3211,  0.3347, -0.8080, -0.8914],\n",
       "                       [ 0.5762, -0.4021,  1.0313, -0.9257]],\n",
       "              \n",
       "                      [[-0.0393,  1.6880, -1.1207, -0.1781],\n",
       "                       [ 1.3211,  0.3347, -0.8080, -0.8914],\n",
       "                       [ 0.5762, -0.4021,  1.0313, -0.9257]],\n",
       "              \n",
       "                      [[-0.0393,  1.6880, -1.1207, -0.1781],\n",
       "                       [ 1.3211,  0.3347, -0.8080, -0.8914],\n",
       "                       [ 0.5762, -0.4021,  1.0313, -0.9257]],\n",
       "              \n",
       "                      [[-0.0393,  1.6880, -1.1207, -0.1781],\n",
       "                       [ 1.3211,  0.3347, -0.8080, -0.8914],\n",
       "                       [ 0.5762, -0.4021,  1.0313, -0.9257]]]),\n",
       "       ),\n",
       ")"
      ]
     },
     "execution_count": 25,
     "metadata": {},
     "output_type": "execute_result"
    }
   ],
   "source": [
    "batches = [Batch(**_TREE_DATA_2) for _ in range(8)]\n",
    "\n",
    "Batch.stack(batches)"
   ]
  },
  {
   "cell_type": "code",
   "execution_count": 26,
   "id": "ec9037a3",
   "metadata": {
    "execution": {
     "iopub.execute_input": "2023-08-10T03:55:08.104081Z",
     "iopub.status.busy": "2023-08-10T03:55:08.103843Z",
     "iopub.status.idle": "2023-08-10T03:55:14.691644Z",
     "shell.execute_reply": "2023-08-10T03:55:14.690522Z"
    }
   },
   "outputs": [
    {
     "name": "stdout",
     "output_type": "stream",
     "text": [
      "81.1 µs ± 302 ns per loop (mean ± std. dev. of 7 runs, 10,000 loops each)\n"
     ]
    }
   ],
   "source": [
    "%timeit Batch.stack(batches)"
   ]
  },
  {
   "cell_type": "code",
   "execution_count": 27,
   "id": "cb8ab77e",
   "metadata": {
    "execution": {
     "iopub.execute_input": "2023-08-10T03:55:14.694873Z",
     "iopub.status.busy": "2023-08-10T03:55:14.694393Z",
     "iopub.status.idle": "2023-08-10T03:55:14.701516Z",
     "shell.execute_reply": "2023-08-10T03:55:14.700800Z"
    }
   },
   "outputs": [
    {
     "data": {
      "text/plain": [
       "Batch(\n",
       "    a: tensor([[-0.2540,  2.5304,  0.8798],\n",
       "               [ 0.1927, -0.6284, -1.0389],\n",
       "               [-0.2540,  2.5304,  0.8798],\n",
       "               [ 0.1927, -0.6284, -1.0389],\n",
       "               [-0.2540,  2.5304,  0.8798],\n",
       "               [ 0.1927, -0.6284, -1.0389],\n",
       "               [-0.2540,  2.5304,  0.8798],\n",
       "               [ 0.1927, -0.6284, -1.0389],\n",
       "               [-0.2540,  2.5304,  0.8798],\n",
       "               [ 0.1927, -0.6284, -1.0389],\n",
       "               [-0.2540,  2.5304,  0.8798],\n",
       "               [ 0.1927, -0.6284, -1.0389],\n",
       "               [-0.2540,  2.5304,  0.8798],\n",
       "               [ 0.1927, -0.6284, -1.0389],\n",
       "               [-0.2540,  2.5304,  0.8798],\n",
       "               [ 0.1927, -0.6284, -1.0389]]),\n",
       "    x: Batch(\n",
       "           c: tensor([[-0.0393,  1.6880, -1.1207, -0.1781],\n",
       "                      [ 1.3211,  0.3347, -0.8080, -0.8914],\n",
       "                      [ 0.5762, -0.4021,  1.0313, -0.9257],\n",
       "                      [-0.0393,  1.6880, -1.1207, -0.1781],\n",
       "                      [ 1.3211,  0.3347, -0.8080, -0.8914],\n",
       "                      [ 0.5762, -0.4021,  1.0313, -0.9257],\n",
       "                      [-0.0393,  1.6880, -1.1207, -0.1781],\n",
       "                      [ 1.3211,  0.3347, -0.8080, -0.8914],\n",
       "                      [ 0.5762, -0.4021,  1.0313, -0.9257],\n",
       "                      [-0.0393,  1.6880, -1.1207, -0.1781],\n",
       "                      [ 1.3211,  0.3347, -0.8080, -0.8914],\n",
       "                      [ 0.5762, -0.4021,  1.0313, -0.9257],\n",
       "                      [-0.0393,  1.6880, -1.1207, -0.1781],\n",
       "                      [ 1.3211,  0.3347, -0.8080, -0.8914],\n",
       "                      [ 0.5762, -0.4021,  1.0313, -0.9257],\n",
       "                      [-0.0393,  1.6880, -1.1207, -0.1781],\n",
       "                      [ 1.3211,  0.3347, -0.8080, -0.8914],\n",
       "                      [ 0.5762, -0.4021,  1.0313, -0.9257],\n",
       "                      [-0.0393,  1.6880, -1.1207, -0.1781],\n",
       "                      [ 1.3211,  0.3347, -0.8080, -0.8914],\n",
       "                      [ 0.5762, -0.4021,  1.0313, -0.9257],\n",
       "                      [-0.0393,  1.6880, -1.1207, -0.1781],\n",
       "                      [ 1.3211,  0.3347, -0.8080, -0.8914],\n",
       "                      [ 0.5762, -0.4021,  1.0313, -0.9257]]),\n",
       "       ),\n",
       ")"
      ]
     },
     "execution_count": 27,
     "metadata": {},
     "output_type": "execute_result"
    }
   ],
   "source": [
    "Batch.cat(batches)"
   ]
  },
  {
   "cell_type": "code",
   "execution_count": 28,
   "id": "18dfb045",
   "metadata": {
    "execution": {
     "iopub.execute_input": "2023-08-10T03:55:14.704646Z",
     "iopub.status.busy": "2023-08-10T03:55:14.704031Z",
     "iopub.status.idle": "2023-08-10T03:55:26.911488Z",
     "shell.execute_reply": "2023-08-10T03:55:26.910784Z"
    }
   },
   "outputs": [
    {
     "name": "stdout",
     "output_type": "stream",
     "text": [
      "150 µs ± 289 ns per loop (mean ± std. dev. of 7 runs, 10,000 loops each)\n"
     ]
    }
   ],
   "source": [
    "%timeit Batch.cat(batches)"
   ]
  },
  {
   "cell_type": "code",
   "execution_count": 29,
   "id": "c6688e51",
   "metadata": {
    "execution": {
     "iopub.execute_input": "2023-08-10T03:55:26.914877Z",
     "iopub.status.busy": "2023-08-10T03:55:26.914298Z",
     "iopub.status.idle": "2023-08-10T03:55:29.552557Z",
     "shell.execute_reply": "2023-08-10T03:55:29.551935Z"
    }
   },
   "outputs": [
    {
     "name": "stdout",
     "output_type": "stream",
     "text": [
      "323 µs ± 3.4 µs per loop (mean ± std. dev. of 7 runs, 1,000 loops each)\n"
     ]
    }
   ],
   "source": [
    "batch = Batch({\n",
    "    'obs': torch.randn(8, 4, 84, 84),\n",
    "    'action': torch.randint(0, 6, size=(8, 1,)),\n",
    "    'reward': torch.rand(8, 1)}\n",
    ")\n",
    "\n",
    "%timeit list(Batch.split(batch, 1, shuffle=False, merge_last=True))"
   ]
  },
  {
   "cell_type": "code",
   "execution_count": null,
   "id": "2539fbd9",
   "metadata": {},
   "outputs": [],
   "source": []
  }
 ],
 "metadata": {
  "kernelspec": {
   "display_name": "Python 3 (ipykernel)",
   "language": "python",
   "name": "python3"
  },
  "language_info": {
   "codemirror_mode": {
    "name": "ipython",
    "version": 3
   },
   "file_extension": ".py",
   "mimetype": "text/x-python",
   "name": "python",
   "nbconvert_exporter": "python",
   "pygments_lexer": "ipython3",
   "version": "3.8.17"
  }
 },
 "nbformat": 4,
 "nbformat_minor": 5
}
