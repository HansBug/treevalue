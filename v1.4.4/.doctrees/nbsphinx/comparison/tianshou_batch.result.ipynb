{
 "cells": [
  {
   "cell_type": "markdown",
   "id": "9d39d946",
   "metadata": {},
   "source": [
    "# Comparison Between TreeValue and Tianshou Batch"
   ]
  },
  {
   "cell_type": "markdown",
   "id": "3c6db2d4",
   "metadata": {},
   "source": [
    "In this section, we will take a look at the feature and performance of the [Tianshou Batch](https://github.com/thu-ml/tianshou) library, which is developed by Tsinghua Machine Learning Group."
   ]
  },
  {
   "cell_type": "markdown",
   "id": "069361b0",
   "metadata": {},
   "source": [
    "Before starting the comparison, let us define some thing."
   ]
  },
  {
   "cell_type": "code",
   "execution_count": 1,
   "id": "06fc8d26",
   "metadata": {
    "execution": {
     "iopub.execute_input": "2023-05-26T07:02:29.385867Z",
     "iopub.status.busy": "2023-05-26T07:02:29.385475Z",
     "iopub.status.idle": "2023-05-26T07:02:30.666027Z",
     "shell.execute_reply": "2023-05-26T07:02:30.665330Z"
    }
   },
   "outputs": [],
   "source": [
    "import torch \n",
    "\n",
    "_TREE_DATA_1 = {'a': 1, 'b': 2, 'x': {'c': 3, 'd': 4}}\n",
    "_TREE_DATA_2 = {\n",
    "    'a': torch.randn(2, 3), \n",
    "    'x': {\n",
    "        'c': torch.randn(3, 4)\n",
    "    },\n",
    "}\n",
    "_TREE_DATA_3 = {\n",
    "    'obs': torch.randn(4, 84, 84),\n",
    "    'action': torch.randint(0, 6, size=(1,)),\n",
    "    'reward': torch.rand(1),\n",
    "}"
   ]
  },
  {
   "cell_type": "markdown",
   "id": "83461b25",
   "metadata": {},
   "source": [
    "## Read and Write Operation"
   ]
  },
  {
   "cell_type": "markdown",
   "id": "067b3f73",
   "metadata": {},
   "source": [
    "Reading and writing are the two most common operations in the tree data structure based on the data model (TreeValue and Tianshou Batch both belong to this type), so this section will compare the reading and writing performance of these two libraries."
   ]
  },
  {
   "cell_type": "markdown",
   "id": "5d09a5b7",
   "metadata": {},
   "source": [
    "### TreeValue's Get and Set"
   ]
  },
  {
   "cell_type": "code",
   "execution_count": 2,
   "id": "9519c4bb",
   "metadata": {
    "execution": {
     "iopub.execute_input": "2023-05-26T07:02:30.669693Z",
     "iopub.status.busy": "2023-05-26T07:02:30.669410Z",
     "iopub.status.idle": "2023-05-26T07:02:30.697361Z",
     "shell.execute_reply": "2023-05-26T07:02:30.696702Z"
    }
   },
   "outputs": [],
   "source": [
    "from treevalue import FastTreeValue\n",
    "\n",
    "t = FastTreeValue(_TREE_DATA_2)"
   ]
  },
  {
   "cell_type": "code",
   "execution_count": 3,
   "id": "11c37677",
   "metadata": {
    "execution": {
     "iopub.execute_input": "2023-05-26T07:02:30.700873Z",
     "iopub.status.busy": "2023-05-26T07:02:30.700312Z",
     "iopub.status.idle": "2023-05-26T07:02:30.708927Z",
     "shell.execute_reply": "2023-05-26T07:02:30.708285Z"
    }
   },
   "outputs": [
    {
     "data": {
      "text/plain": [
       "<FastTreeValue 0x7ffbdc572790>\n",
       "├── 'a' --> tensor([[-0.7532, -0.0333,  0.0205],\n",
       "│                   [-0.8295,  2.0447, -0.7511]])\n",
       "└── 'x' --> <FastTreeValue 0x7ffbdc572c70>\n",
       "    └── 'c' --> tensor([[ 0.0753,  0.1013,  0.6958, -0.6313],\n",
       "                        [ 0.8173,  0.5237, -0.3259, -0.6396],\n",
       "                        [ 1.2901,  0.6495, -1.7285,  0.3171]])"
      ]
     },
     "execution_count": 3,
     "metadata": {},
     "output_type": "execute_result"
    }
   ],
   "source": [
    "t"
   ]
  },
  {
   "cell_type": "code",
   "execution_count": 4,
   "id": "fd70b0b9",
   "metadata": {
    "execution": {
     "iopub.execute_input": "2023-05-26T07:02:30.712755Z",
     "iopub.status.busy": "2023-05-26T07:02:30.712395Z",
     "iopub.status.idle": "2023-05-26T07:02:30.717066Z",
     "shell.execute_reply": "2023-05-26T07:02:30.716396Z"
    }
   },
   "outputs": [
    {
     "data": {
      "text/plain": [
       "tensor([[-0.7532, -0.0333,  0.0205],\n",
       "        [-0.8295,  2.0447, -0.7511]])"
      ]
     },
     "execution_count": 4,
     "metadata": {},
     "output_type": "execute_result"
    }
   ],
   "source": [
    "t.a"
   ]
  },
  {
   "cell_type": "code",
   "execution_count": 5,
   "id": "c18197bd",
   "metadata": {
    "execution": {
     "iopub.execute_input": "2023-05-26T07:02:30.719842Z",
     "iopub.status.busy": "2023-05-26T07:02:30.719612Z",
     "iopub.status.idle": "2023-05-26T07:02:35.628799Z",
     "shell.execute_reply": "2023-05-26T07:02:35.627607Z"
    }
   },
   "outputs": [
    {
     "name": "stdout",
     "output_type": "stream",
     "text": [
      "60.4 ns ± 0.11 ns per loop (mean ± std. dev. of 7 runs, 10,000,000 loops each)\n"
     ]
    }
   ],
   "source": [
    "%timeit t.a"
   ]
  },
  {
   "cell_type": "code",
   "execution_count": 6,
   "id": "bd52f867",
   "metadata": {
    "execution": {
     "iopub.execute_input": "2023-05-26T07:02:35.631606Z",
     "iopub.status.busy": "2023-05-26T07:02:35.631380Z",
     "iopub.status.idle": "2023-05-26T07:02:35.638607Z",
     "shell.execute_reply": "2023-05-26T07:02:35.638005Z"
    }
   },
   "outputs": [
    {
     "data": {
      "text/plain": [
       "<FastTreeValue 0x7ffbdc572790>\n",
       "├── 'a' --> tensor([[-1.2608,  1.6905, -0.5080],\n",
       "│                   [ 0.8241,  0.6531,  1.4258]])\n",
       "└── 'x' --> <FastTreeValue 0x7ffbdc572c70>\n",
       "    └── 'c' --> tensor([[ 0.0753,  0.1013,  0.6958, -0.6313],\n",
       "                        [ 0.8173,  0.5237, -0.3259, -0.6396],\n",
       "                        [ 1.2901,  0.6495, -1.7285,  0.3171]])"
      ]
     },
     "execution_count": 6,
     "metadata": {},
     "output_type": "execute_result"
    }
   ],
   "source": [
    "new_value = torch.randn(2, 3)\n",
    "t.a = new_value\n",
    "\n",
    "t"
   ]
  },
  {
   "cell_type": "code",
   "execution_count": 7,
   "id": "bbe04d1c",
   "metadata": {
    "execution": {
     "iopub.execute_input": "2023-05-26T07:02:35.641597Z",
     "iopub.status.busy": "2023-05-26T07:02:35.641248Z",
     "iopub.status.idle": "2023-05-26T07:02:41.023444Z",
     "shell.execute_reply": "2023-05-26T07:02:41.022841Z"
    }
   },
   "outputs": [
    {
     "name": "stdout",
     "output_type": "stream",
     "text": [
      "66.3 ns ± 0.0548 ns per loop (mean ± std. dev. of 7 runs, 10,000,000 loops each)\n"
     ]
    }
   ],
   "source": [
    "%timeit t.a = new_value"
   ]
  },
  {
   "cell_type": "markdown",
   "id": "48c49731",
   "metadata": {},
   "source": [
    "### Tianshou Batch's Get and Set"
   ]
  },
  {
   "cell_type": "code",
   "execution_count": 8,
   "id": "f1bb14c1",
   "metadata": {
    "execution": {
     "iopub.execute_input": "2023-05-26T07:02:41.026718Z",
     "iopub.status.busy": "2023-05-26T07:02:41.026060Z",
     "iopub.status.idle": "2023-05-26T07:02:41.367872Z",
     "shell.execute_reply": "2023-05-26T07:02:41.367194Z"
    }
   },
   "outputs": [],
   "source": [
    "from tianshou.data import Batch\n",
    "\n",
    "b = Batch(**_TREE_DATA_2)"
   ]
  },
  {
   "cell_type": "code",
   "execution_count": 9,
   "id": "cb0777c3",
   "metadata": {
    "execution": {
     "iopub.execute_input": "2023-05-26T07:02:41.371318Z",
     "iopub.status.busy": "2023-05-26T07:02:41.370736Z",
     "iopub.status.idle": "2023-05-26T07:02:41.376372Z",
     "shell.execute_reply": "2023-05-26T07:02:41.375734Z"
    }
   },
   "outputs": [
    {
     "data": {
      "text/plain": [
       "Batch(\n",
       "    a: tensor([[-0.7532, -0.0333,  0.0205],\n",
       "               [-0.8295,  2.0447, -0.7511]]),\n",
       "    x: Batch(\n",
       "           c: tensor([[ 0.0753,  0.1013,  0.6958, -0.6313],\n",
       "                      [ 0.8173,  0.5237, -0.3259, -0.6396],\n",
       "                      [ 1.2901,  0.6495, -1.7285,  0.3171]]),\n",
       "       ),\n",
       ")"
      ]
     },
     "execution_count": 9,
     "metadata": {},
     "output_type": "execute_result"
    }
   ],
   "source": [
    "b"
   ]
  },
  {
   "cell_type": "code",
   "execution_count": 10,
   "id": "43ef8ea3",
   "metadata": {
    "execution": {
     "iopub.execute_input": "2023-05-26T07:02:41.379007Z",
     "iopub.status.busy": "2023-05-26T07:02:41.378769Z",
     "iopub.status.idle": "2023-05-26T07:02:41.383838Z",
     "shell.execute_reply": "2023-05-26T07:02:41.383205Z"
    }
   },
   "outputs": [
    {
     "data": {
      "text/plain": [
       "tensor([[-0.7532, -0.0333,  0.0205],\n",
       "        [-0.8295,  2.0447, -0.7511]])"
      ]
     },
     "execution_count": 10,
     "metadata": {},
     "output_type": "execute_result"
    }
   ],
   "source": [
    "b.a"
   ]
  },
  {
   "cell_type": "code",
   "execution_count": 11,
   "id": "b785ab72",
   "metadata": {
    "execution": {
     "iopub.execute_input": "2023-05-26T07:02:41.386979Z",
     "iopub.status.busy": "2023-05-26T07:02:41.386370Z",
     "iopub.status.idle": "2023-05-26T07:02:46.034263Z",
     "shell.execute_reply": "2023-05-26T07:02:46.033201Z"
    }
   },
   "outputs": [
    {
     "name": "stdout",
     "output_type": "stream",
     "text": [
      "57.4 ns ± 0.0365 ns per loop (mean ± std. dev. of 7 runs, 10,000,000 loops each)\n"
     ]
    }
   ],
   "source": [
    "%timeit b.a"
   ]
  },
  {
   "cell_type": "code",
   "execution_count": 12,
   "id": "ad54dc69",
   "metadata": {
    "execution": {
     "iopub.execute_input": "2023-05-26T07:02:46.037662Z",
     "iopub.status.busy": "2023-05-26T07:02:46.037120Z",
     "iopub.status.idle": "2023-05-26T07:02:46.043066Z",
     "shell.execute_reply": "2023-05-26T07:02:46.042374Z"
    }
   },
   "outputs": [
    {
     "data": {
      "text/plain": [
       "Batch(\n",
       "    a: tensor([[-0.5975, -0.5562,  0.6968],\n",
       "               [-1.4141,  0.7661,  0.1671]]),\n",
       "    x: Batch(\n",
       "           c: tensor([[ 0.0753,  0.1013,  0.6958, -0.6313],\n",
       "                      [ 0.8173,  0.5237, -0.3259, -0.6396],\n",
       "                      [ 1.2901,  0.6495, -1.7285,  0.3171]]),\n",
       "       ),\n",
       ")"
      ]
     },
     "execution_count": 12,
     "metadata": {},
     "output_type": "execute_result"
    }
   ],
   "source": [
    "new_value = torch.randn(2, 3)\n",
    "b.a = new_value\n",
    "\n",
    "b"
   ]
  },
  {
   "cell_type": "code",
   "execution_count": 13,
   "id": "29b1d0bf",
   "metadata": {
    "execution": {
     "iopub.execute_input": "2023-05-26T07:02:46.046009Z",
     "iopub.status.busy": "2023-05-26T07:02:46.045492Z",
     "iopub.status.idle": "2023-05-26T07:02:49.970140Z",
     "shell.execute_reply": "2023-05-26T07:02:49.969402Z"
    }
   },
   "outputs": [
    {
     "name": "stdout",
     "output_type": "stream",
     "text": [
      "483 ns ± 0.0961 ns per loop (mean ± std. dev. of 7 runs, 1,000,000 loops each)\n"
     ]
    }
   ],
   "source": [
    "%timeit b.a = new_value"
   ]
  },
  {
   "cell_type": "markdown",
   "id": "b61ad1d0",
   "metadata": {},
   "source": [
    "## Initialization"
   ]
  },
  {
   "cell_type": "markdown",
   "id": "d70f0d54",
   "metadata": {},
   "source": [
    "### TreeValue's Initialization"
   ]
  },
  {
   "cell_type": "code",
   "execution_count": 14,
   "id": "d32a679b",
   "metadata": {
    "execution": {
     "iopub.execute_input": "2023-05-26T07:02:49.973503Z",
     "iopub.status.busy": "2023-05-26T07:02:49.973124Z",
     "iopub.status.idle": "2023-05-26T07:02:56.771010Z",
     "shell.execute_reply": "2023-05-26T07:02:56.770400Z"
    }
   },
   "outputs": [
    {
     "name": "stdout",
     "output_type": "stream",
     "text": [
      "836 ns ± 1.04 ns per loop (mean ± std. dev. of 7 runs, 1,000,000 loops each)\n"
     ]
    }
   ],
   "source": [
    "%timeit FastTreeValue(_TREE_DATA_1)"
   ]
  },
  {
   "cell_type": "markdown",
   "id": "24f3707b",
   "metadata": {},
   "source": [
    "### Tianshou Batch's Initialization"
   ]
  },
  {
   "cell_type": "code",
   "execution_count": 15,
   "id": "ac3958df",
   "metadata": {
    "execution": {
     "iopub.execute_input": "2023-05-26T07:02:56.774239Z",
     "iopub.status.busy": "2023-05-26T07:02:56.773580Z",
     "iopub.status.idle": "2023-05-26T07:03:05.916124Z",
     "shell.execute_reply": "2023-05-26T07:03:05.915039Z"
    }
   },
   "outputs": [
    {
     "name": "stdout",
     "output_type": "stream",
     "text": [
      "11.3 µs ± 45.3 ns per loop (mean ± std. dev. of 7 runs, 100,000 loops each)\n"
     ]
    }
   ],
   "source": [
    "%timeit Batch(**_TREE_DATA_1)"
   ]
  },
  {
   "cell_type": "markdown",
   "id": "1ab82e2d",
   "metadata": {},
   "source": [
    "## Deep Copy Operation"
   ]
  },
  {
   "cell_type": "code",
   "execution_count": 16,
   "id": "210a9442",
   "metadata": {
    "execution": {
     "iopub.execute_input": "2023-05-26T07:03:05.919393Z",
     "iopub.status.busy": "2023-05-26T07:03:05.918814Z",
     "iopub.status.idle": "2023-05-26T07:03:05.922002Z",
     "shell.execute_reply": "2023-05-26T07:03:05.921368Z"
    }
   },
   "outputs": [],
   "source": [
    "import copy"
   ]
  },
  {
   "cell_type": "markdown",
   "id": "5a736274",
   "metadata": {},
   "source": [
    "### Deep Copy of TreeValue"
   ]
  },
  {
   "cell_type": "code",
   "execution_count": 17,
   "id": "f9bcadd6",
   "metadata": {
    "execution": {
     "iopub.execute_input": "2023-05-26T07:03:05.925003Z",
     "iopub.status.busy": "2023-05-26T07:03:05.924651Z",
     "iopub.status.idle": "2023-05-26T07:03:17.158501Z",
     "shell.execute_reply": "2023-05-26T07:03:17.157910Z"
    }
   },
   "outputs": [
    {
     "name": "stdout",
     "output_type": "stream",
     "text": [
      "138 µs ± 551 ns per loop (mean ± std. dev. of 7 runs, 10,000 loops each)\n"
     ]
    }
   ],
   "source": [
    "t3 = FastTreeValue(_TREE_DATA_3)\n",
    "%timeit copy.deepcopy(t3)"
   ]
  },
  {
   "cell_type": "markdown",
   "id": "bf8be7ea",
   "metadata": {},
   "source": [
    "### Deep Copy of Tianshou Batch"
   ]
  },
  {
   "cell_type": "code",
   "execution_count": 18,
   "id": "91998e6f",
   "metadata": {
    "execution": {
     "iopub.execute_input": "2023-05-26T07:03:17.163048Z",
     "iopub.status.busy": "2023-05-26T07:03:17.161929Z",
     "iopub.status.idle": "2023-05-26T07:03:28.713860Z",
     "shell.execute_reply": "2023-05-26T07:03:28.712658Z"
    }
   },
   "outputs": [
    {
     "name": "stdout",
     "output_type": "stream",
     "text": [
      "142 µs ± 358 ns per loop (mean ± std. dev. of 7 runs, 10,000 loops each)\n"
     ]
    }
   ],
   "source": [
    "b3 = Batch(**_TREE_DATA_3)\n",
    "%timeit copy.deepcopy(b3)"
   ]
  },
  {
   "cell_type": "markdown",
   "id": "223162fb",
   "metadata": {},
   "source": [
    "## Stack, Concat and Split Operation"
   ]
  },
  {
   "cell_type": "markdown",
   "id": "85fa4a73",
   "metadata": {},
   "source": [
    "### Performance of TreeValue"
   ]
  },
  {
   "cell_type": "code",
   "execution_count": 19,
   "id": "a0c2b697",
   "metadata": {
    "execution": {
     "iopub.execute_input": "2023-05-26T07:03:28.716994Z",
     "iopub.status.busy": "2023-05-26T07:03:28.716543Z",
     "iopub.status.idle": "2023-05-26T07:03:28.719915Z",
     "shell.execute_reply": "2023-05-26T07:03:28.719388Z"
    }
   },
   "outputs": [],
   "source": [
    "trees = [FastTreeValue(_TREE_DATA_2) for _ in range(8)]"
   ]
  },
  {
   "cell_type": "code",
   "execution_count": 20,
   "id": "017ea5a5",
   "metadata": {
    "execution": {
     "iopub.execute_input": "2023-05-26T07:03:28.722757Z",
     "iopub.status.busy": "2023-05-26T07:03:28.722114Z",
     "iopub.status.idle": "2023-05-26T07:03:28.729430Z",
     "shell.execute_reply": "2023-05-26T07:03:28.728912Z"
    }
   },
   "outputs": [
    {
     "data": {
      "text/plain": [
       "<FastTreeValue 0x7ffb10897160>\n",
       "├── 'a' --> tensor([[[-0.7532, -0.0333,  0.0205],\n",
       "│                    [-0.8295,  2.0447, -0.7511]],\n",
       "│           \n",
       "│                   [[-0.7532, -0.0333,  0.0205],\n",
       "│                    [-0.8295,  2.0447, -0.7511]],\n",
       "│           \n",
       "│                   [[-0.7532, -0.0333,  0.0205],\n",
       "│                    [-0.8295,  2.0447, -0.7511]],\n",
       "│           \n",
       "│                   [[-0.7532, -0.0333,  0.0205],\n",
       "│                    [-0.8295,  2.0447, -0.7511]],\n",
       "│           \n",
       "│                   [[-0.7532, -0.0333,  0.0205],\n",
       "│                    [-0.8295,  2.0447, -0.7511]],\n",
       "│           \n",
       "│                   [[-0.7532, -0.0333,  0.0205],\n",
       "│                    [-0.8295,  2.0447, -0.7511]],\n",
       "│           \n",
       "│                   [[-0.7532, -0.0333,  0.0205],\n",
       "│                    [-0.8295,  2.0447, -0.7511]],\n",
       "│           \n",
       "│                   [[-0.7532, -0.0333,  0.0205],\n",
       "│                    [-0.8295,  2.0447, -0.7511]]])\n",
       "└── 'x' --> <FastTreeValue 0x7ffb188e9b80>\n",
       "    └── 'c' --> tensor([[[ 0.0753,  0.1013,  0.6958, -0.6313],\n",
       "                         [ 0.8173,  0.5237, -0.3259, -0.6396],\n",
       "                         [ 1.2901,  0.6495, -1.7285,  0.3171]],\n",
       "                \n",
       "                        [[ 0.0753,  0.1013,  0.6958, -0.6313],\n",
       "                         [ 0.8173,  0.5237, -0.3259, -0.6396],\n",
       "                         [ 1.2901,  0.6495, -1.7285,  0.3171]],\n",
       "                \n",
       "                        [[ 0.0753,  0.1013,  0.6958, -0.6313],\n",
       "                         [ 0.8173,  0.5237, -0.3259, -0.6396],\n",
       "                         [ 1.2901,  0.6495, -1.7285,  0.3171]],\n",
       "                \n",
       "                        [[ 0.0753,  0.1013,  0.6958, -0.6313],\n",
       "                         [ 0.8173,  0.5237, -0.3259, -0.6396],\n",
       "                         [ 1.2901,  0.6495, -1.7285,  0.3171]],\n",
       "                \n",
       "                        [[ 0.0753,  0.1013,  0.6958, -0.6313],\n",
       "                         [ 0.8173,  0.5237, -0.3259, -0.6396],\n",
       "                         [ 1.2901,  0.6495, -1.7285,  0.3171]],\n",
       "                \n",
       "                        [[ 0.0753,  0.1013,  0.6958, -0.6313],\n",
       "                         [ 0.8173,  0.5237, -0.3259, -0.6396],\n",
       "                         [ 1.2901,  0.6495, -1.7285,  0.3171]],\n",
       "                \n",
       "                        [[ 0.0753,  0.1013,  0.6958, -0.6313],\n",
       "                         [ 0.8173,  0.5237, -0.3259, -0.6396],\n",
       "                         [ 1.2901,  0.6495, -1.7285,  0.3171]],\n",
       "                \n",
       "                        [[ 0.0753,  0.1013,  0.6958, -0.6313],\n",
       "                         [ 0.8173,  0.5237, -0.3259, -0.6396],\n",
       "                         [ 1.2901,  0.6495, -1.7285,  0.3171]]])"
      ]
     },
     "execution_count": 20,
     "metadata": {},
     "output_type": "execute_result"
    }
   ],
   "source": [
    "t_stack = FastTreeValue.func(subside=True)(torch.stack)\n",
    "\n",
    "t_stack(trees)"
   ]
  },
  {
   "cell_type": "code",
   "execution_count": 21,
   "id": "f8b3f415",
   "metadata": {
    "execution": {
     "iopub.execute_input": "2023-05-26T07:03:28.732263Z",
     "iopub.status.busy": "2023-05-26T07:03:28.731644Z",
     "iopub.status.idle": "2023-05-26T07:03:31.386540Z",
     "shell.execute_reply": "2023-05-26T07:03:31.385803Z"
    }
   },
   "outputs": [
    {
     "name": "stdout",
     "output_type": "stream",
     "text": [
      "32.6 µs ± 69.6 ns per loop (mean ± std. dev. of 7 runs, 10,000 loops each)\n"
     ]
    }
   ],
   "source": [
    "%timeit t_stack(trees)"
   ]
  },
  {
   "cell_type": "code",
   "execution_count": 22,
   "id": "94b56771",
   "metadata": {
    "execution": {
     "iopub.execute_input": "2023-05-26T07:03:31.389943Z",
     "iopub.status.busy": "2023-05-26T07:03:31.389550Z",
     "iopub.status.idle": "2023-05-26T07:03:31.397173Z",
     "shell.execute_reply": "2023-05-26T07:03:31.396519Z"
    }
   },
   "outputs": [
    {
     "data": {
      "text/plain": [
       "<FastTreeValue 0x7ffb18bf4c70>\n",
       "├── 'a' --> tensor([[-0.7532, -0.0333,  0.0205],\n",
       "│                   [-0.8295,  2.0447, -0.7511],\n",
       "│                   [-0.7532, -0.0333,  0.0205],\n",
       "│                   [-0.8295,  2.0447, -0.7511],\n",
       "│                   [-0.7532, -0.0333,  0.0205],\n",
       "│                   [-0.8295,  2.0447, -0.7511],\n",
       "│                   [-0.7532, -0.0333,  0.0205],\n",
       "│                   [-0.8295,  2.0447, -0.7511],\n",
       "│                   [-0.7532, -0.0333,  0.0205],\n",
       "│                   [-0.8295,  2.0447, -0.7511],\n",
       "│                   [-0.7532, -0.0333,  0.0205],\n",
       "│                   [-0.8295,  2.0447, -0.7511],\n",
       "│                   [-0.7532, -0.0333,  0.0205],\n",
       "│                   [-0.8295,  2.0447, -0.7511],\n",
       "│                   [-0.7532, -0.0333,  0.0205],\n",
       "│                   [-0.8295,  2.0447, -0.7511]])\n",
       "└── 'x' --> <FastTreeValue 0x7ffb0f82ed30>\n",
       "    └── 'c' --> tensor([[ 0.0753,  0.1013,  0.6958, -0.6313],\n",
       "                        [ 0.8173,  0.5237, -0.3259, -0.6396],\n",
       "                        [ 1.2901,  0.6495, -1.7285,  0.3171],\n",
       "                        [ 0.0753,  0.1013,  0.6958, -0.6313],\n",
       "                        [ 0.8173,  0.5237, -0.3259, -0.6396],\n",
       "                        [ 1.2901,  0.6495, -1.7285,  0.3171],\n",
       "                        [ 0.0753,  0.1013,  0.6958, -0.6313],\n",
       "                        [ 0.8173,  0.5237, -0.3259, -0.6396],\n",
       "                        [ 1.2901,  0.6495, -1.7285,  0.3171],\n",
       "                        [ 0.0753,  0.1013,  0.6958, -0.6313],\n",
       "                        [ 0.8173,  0.5237, -0.3259, -0.6396],\n",
       "                        [ 1.2901,  0.6495, -1.7285,  0.3171],\n",
       "                        [ 0.0753,  0.1013,  0.6958, -0.6313],\n",
       "                        [ 0.8173,  0.5237, -0.3259, -0.6396],\n",
       "                        [ 1.2901,  0.6495, -1.7285,  0.3171],\n",
       "                        [ 0.0753,  0.1013,  0.6958, -0.6313],\n",
       "                        [ 0.8173,  0.5237, -0.3259, -0.6396],\n",
       "                        [ 1.2901,  0.6495, -1.7285,  0.3171],\n",
       "                        [ 0.0753,  0.1013,  0.6958, -0.6313],\n",
       "                        [ 0.8173,  0.5237, -0.3259, -0.6396],\n",
       "                        [ 1.2901,  0.6495, -1.7285,  0.3171],\n",
       "                        [ 0.0753,  0.1013,  0.6958, -0.6313],\n",
       "                        [ 0.8173,  0.5237, -0.3259, -0.6396],\n",
       "                        [ 1.2901,  0.6495, -1.7285,  0.3171]])"
      ]
     },
     "execution_count": 22,
     "metadata": {},
     "output_type": "execute_result"
    }
   ],
   "source": [
    "t_cat = FastTreeValue.func(subside=True)(torch.cat)\n",
    "\n",
    "t_cat(trees)"
   ]
  },
  {
   "cell_type": "code",
   "execution_count": 23,
   "id": "5e9c06a6",
   "metadata": {
    "execution": {
     "iopub.execute_input": "2023-05-26T07:03:31.399938Z",
     "iopub.status.busy": "2023-05-26T07:03:31.399589Z",
     "iopub.status.idle": "2023-05-26T07:03:33.879449Z",
     "shell.execute_reply": "2023-05-26T07:03:33.878857Z"
    }
   },
   "outputs": [
    {
     "name": "stdout",
     "output_type": "stream",
     "text": [
      "30.5 µs ± 47.3 ns per loop (mean ± std. dev. of 7 runs, 10,000 loops each)\n"
     ]
    }
   ],
   "source": [
    "%timeit t_cat(trees)"
   ]
  },
  {
   "cell_type": "code",
   "execution_count": 24,
   "id": "a3ab5c8f",
   "metadata": {
    "execution": {
     "iopub.execute_input": "2023-05-26T07:03:33.882586Z",
     "iopub.status.busy": "2023-05-26T07:03:33.881992Z",
     "iopub.status.idle": "2023-05-26T07:03:39.519543Z",
     "shell.execute_reply": "2023-05-26T07:03:39.518782Z"
    }
   },
   "outputs": [
    {
     "name": "stdout",
     "output_type": "stream",
     "text": [
      "69.3 µs ± 88.9 ns per loop (mean ± std. dev. of 7 runs, 10,000 loops each)\n"
     ]
    }
   ],
   "source": [
    "t_split = FastTreeValue.func(rise=True)(torch.split)\n",
    "tree = FastTreeValue({\n",
    "    'obs': torch.randn(8, 4, 84, 84),\n",
    "    'action': torch.randint(0, 6, size=(8, 1,)),\n",
    "    'reward': torch.rand(8, 1),\n",
    "})\n",
    "\n",
    "%timeit t_split(tree, 1)"
   ]
  },
  {
   "cell_type": "markdown",
   "id": "31c3ec0b",
   "metadata": {},
   "source": [
    "### Performance of Tianshou Batch"
   ]
  },
  {
   "cell_type": "code",
   "execution_count": 25,
   "id": "9ead828a",
   "metadata": {
    "execution": {
     "iopub.execute_input": "2023-05-26T07:03:39.522735Z",
     "iopub.status.busy": "2023-05-26T07:03:39.522286Z",
     "iopub.status.idle": "2023-05-26T07:03:39.529625Z",
     "shell.execute_reply": "2023-05-26T07:03:39.528957Z"
    }
   },
   "outputs": [
    {
     "data": {
      "text/plain": [
       "Batch(\n",
       "    x: Batch(\n",
       "           c: tensor([[[ 0.0753,  0.1013,  0.6958, -0.6313],\n",
       "                       [ 0.8173,  0.5237, -0.3259, -0.6396],\n",
       "                       [ 1.2901,  0.6495, -1.7285,  0.3171]],\n",
       "              \n",
       "                      [[ 0.0753,  0.1013,  0.6958, -0.6313],\n",
       "                       [ 0.8173,  0.5237, -0.3259, -0.6396],\n",
       "                       [ 1.2901,  0.6495, -1.7285,  0.3171]],\n",
       "              \n",
       "                      [[ 0.0753,  0.1013,  0.6958, -0.6313],\n",
       "                       [ 0.8173,  0.5237, -0.3259, -0.6396],\n",
       "                       [ 1.2901,  0.6495, -1.7285,  0.3171]],\n",
       "              \n",
       "                      [[ 0.0753,  0.1013,  0.6958, -0.6313],\n",
       "                       [ 0.8173,  0.5237, -0.3259, -0.6396],\n",
       "                       [ 1.2901,  0.6495, -1.7285,  0.3171]],\n",
       "              \n",
       "                      [[ 0.0753,  0.1013,  0.6958, -0.6313],\n",
       "                       [ 0.8173,  0.5237, -0.3259, -0.6396],\n",
       "                       [ 1.2901,  0.6495, -1.7285,  0.3171]],\n",
       "              \n",
       "                      [[ 0.0753,  0.1013,  0.6958, -0.6313],\n",
       "                       [ 0.8173,  0.5237, -0.3259, -0.6396],\n",
       "                       [ 1.2901,  0.6495, -1.7285,  0.3171]],\n",
       "              \n",
       "                      [[ 0.0753,  0.1013,  0.6958, -0.6313],\n",
       "                       [ 0.8173,  0.5237, -0.3259, -0.6396],\n",
       "                       [ 1.2901,  0.6495, -1.7285,  0.3171]],\n",
       "              \n",
       "                      [[ 0.0753,  0.1013,  0.6958, -0.6313],\n",
       "                       [ 0.8173,  0.5237, -0.3259, -0.6396],\n",
       "                       [ 1.2901,  0.6495, -1.7285,  0.3171]]]),\n",
       "       ),\n",
       "    a: tensor([[[-0.7532, -0.0333,  0.0205],\n",
       "                [-0.8295,  2.0447, -0.7511]],\n",
       "       \n",
       "               [[-0.7532, -0.0333,  0.0205],\n",
       "                [-0.8295,  2.0447, -0.7511]],\n",
       "       \n",
       "               [[-0.7532, -0.0333,  0.0205],\n",
       "                [-0.8295,  2.0447, -0.7511]],\n",
       "       \n",
       "               [[-0.7532, -0.0333,  0.0205],\n",
       "                [-0.8295,  2.0447, -0.7511]],\n",
       "       \n",
       "               [[-0.7532, -0.0333,  0.0205],\n",
       "                [-0.8295,  2.0447, -0.7511]],\n",
       "       \n",
       "               [[-0.7532, -0.0333,  0.0205],\n",
       "                [-0.8295,  2.0447, -0.7511]],\n",
       "       \n",
       "               [[-0.7532, -0.0333,  0.0205],\n",
       "                [-0.8295,  2.0447, -0.7511]],\n",
       "       \n",
       "               [[-0.7532, -0.0333,  0.0205],\n",
       "                [-0.8295,  2.0447, -0.7511]]]),\n",
       ")"
      ]
     },
     "execution_count": 25,
     "metadata": {},
     "output_type": "execute_result"
    }
   ],
   "source": [
    "batches = [Batch(**_TREE_DATA_2) for _ in range(8)]\n",
    "\n",
    "Batch.stack(batches)"
   ]
  },
  {
   "cell_type": "code",
   "execution_count": 26,
   "id": "ec9037a3",
   "metadata": {
    "execution": {
     "iopub.execute_input": "2023-05-26T07:03:39.532254Z",
     "iopub.status.busy": "2023-05-26T07:03:39.532040Z",
     "iopub.status.idle": "2023-05-26T07:03:45.901446Z",
     "shell.execute_reply": "2023-05-26T07:03:45.900753Z"
    }
   },
   "outputs": [
    {
     "name": "stdout",
     "output_type": "stream",
     "text": [
      "78.4 µs ± 200 ns per loop (mean ± std. dev. of 7 runs, 10,000 loops each)\n"
     ]
    }
   ],
   "source": [
    "%timeit Batch.stack(batches)"
   ]
  },
  {
   "cell_type": "code",
   "execution_count": 27,
   "id": "cb8ab77e",
   "metadata": {
    "execution": {
     "iopub.execute_input": "2023-05-26T07:03:45.904674Z",
     "iopub.status.busy": "2023-05-26T07:03:45.904122Z",
     "iopub.status.idle": "2023-05-26T07:03:45.911096Z",
     "shell.execute_reply": "2023-05-26T07:03:45.910430Z"
    }
   },
   "outputs": [
    {
     "data": {
      "text/plain": [
       "Batch(\n",
       "    x: Batch(\n",
       "           c: tensor([[ 0.0753,  0.1013,  0.6958, -0.6313],\n",
       "                      [ 0.8173,  0.5237, -0.3259, -0.6396],\n",
       "                      [ 1.2901,  0.6495, -1.7285,  0.3171],\n",
       "                      [ 0.0753,  0.1013,  0.6958, -0.6313],\n",
       "                      [ 0.8173,  0.5237, -0.3259, -0.6396],\n",
       "                      [ 1.2901,  0.6495, -1.7285,  0.3171],\n",
       "                      [ 0.0753,  0.1013,  0.6958, -0.6313],\n",
       "                      [ 0.8173,  0.5237, -0.3259, -0.6396],\n",
       "                      [ 1.2901,  0.6495, -1.7285,  0.3171],\n",
       "                      [ 0.0753,  0.1013,  0.6958, -0.6313],\n",
       "                      [ 0.8173,  0.5237, -0.3259, -0.6396],\n",
       "                      [ 1.2901,  0.6495, -1.7285,  0.3171],\n",
       "                      [ 0.0753,  0.1013,  0.6958, -0.6313],\n",
       "                      [ 0.8173,  0.5237, -0.3259, -0.6396],\n",
       "                      [ 1.2901,  0.6495, -1.7285,  0.3171],\n",
       "                      [ 0.0753,  0.1013,  0.6958, -0.6313],\n",
       "                      [ 0.8173,  0.5237, -0.3259, -0.6396],\n",
       "                      [ 1.2901,  0.6495, -1.7285,  0.3171],\n",
       "                      [ 0.0753,  0.1013,  0.6958, -0.6313],\n",
       "                      [ 0.8173,  0.5237, -0.3259, -0.6396],\n",
       "                      [ 1.2901,  0.6495, -1.7285,  0.3171],\n",
       "                      [ 0.0753,  0.1013,  0.6958, -0.6313],\n",
       "                      [ 0.8173,  0.5237, -0.3259, -0.6396],\n",
       "                      [ 1.2901,  0.6495, -1.7285,  0.3171]]),\n",
       "       ),\n",
       "    a: tensor([[-0.7532, -0.0333,  0.0205],\n",
       "               [-0.8295,  2.0447, -0.7511],\n",
       "               [-0.7532, -0.0333,  0.0205],\n",
       "               [-0.8295,  2.0447, -0.7511],\n",
       "               [-0.7532, -0.0333,  0.0205],\n",
       "               [-0.8295,  2.0447, -0.7511],\n",
       "               [-0.7532, -0.0333,  0.0205],\n",
       "               [-0.8295,  2.0447, -0.7511],\n",
       "               [-0.7532, -0.0333,  0.0205],\n",
       "               [-0.8295,  2.0447, -0.7511],\n",
       "               [-0.7532, -0.0333,  0.0205],\n",
       "               [-0.8295,  2.0447, -0.7511],\n",
       "               [-0.7532, -0.0333,  0.0205],\n",
       "               [-0.8295,  2.0447, -0.7511],\n",
       "               [-0.7532, -0.0333,  0.0205],\n",
       "               [-0.8295,  2.0447, -0.7511]]),\n",
       ")"
      ]
     },
     "execution_count": 27,
     "metadata": {},
     "output_type": "execute_result"
    }
   ],
   "source": [
    "Batch.cat(batches)"
   ]
  },
  {
   "cell_type": "code",
   "execution_count": 28,
   "id": "18dfb045",
   "metadata": {
    "execution": {
     "iopub.execute_input": "2023-05-26T07:03:45.913903Z",
     "iopub.status.busy": "2023-05-26T07:03:45.913544Z",
     "iopub.status.idle": "2023-05-26T07:03:57.797757Z",
     "shell.execute_reply": "2023-05-26T07:03:57.797168Z"
    }
   },
   "outputs": [
    {
     "name": "stdout",
     "output_type": "stream",
     "text": [
      "146 µs ± 185 ns per loop (mean ± std. dev. of 7 runs, 10,000 loops each)\n"
     ]
    }
   ],
   "source": [
    "%timeit Batch.cat(batches)"
   ]
  },
  {
   "cell_type": "code",
   "execution_count": 29,
   "id": "c6688e51",
   "metadata": {
    "execution": {
     "iopub.execute_input": "2023-05-26T07:03:57.801008Z",
     "iopub.status.busy": "2023-05-26T07:03:57.800425Z",
     "iopub.status.idle": "2023-05-26T07:04:00.427837Z",
     "shell.execute_reply": "2023-05-26T07:04:00.427235Z"
    }
   },
   "outputs": [
    {
     "name": "stdout",
     "output_type": "stream",
     "text": [
      "322 µs ± 863 ns per loop (mean ± std. dev. of 7 runs, 1,000 loops each)\n"
     ]
    }
   ],
   "source": [
    "batch = Batch({\n",
    "    'obs': torch.randn(8, 4, 84, 84),\n",
    "    'action': torch.randint(0, 6, size=(8, 1,)),\n",
    "    'reward': torch.rand(8, 1)}\n",
    ")\n",
    "\n",
    "%timeit list(Batch.split(batch, 1, shuffle=False, merge_last=True))"
   ]
  },
  {
   "cell_type": "code",
   "execution_count": null,
   "id": "2539fbd9",
   "metadata": {},
   "outputs": [],
   "source": []
  }
 ],
 "metadata": {
  "kernelspec": {
   "display_name": "Python 3 (ipykernel)",
   "language": "python",
   "name": "python3"
  },
  "language_info": {
   "codemirror_mode": {
    "name": "ipython",
    "version": 3
   },
   "file_extension": ".py",
   "mimetype": "text/x-python",
   "name": "python",
   "nbconvert_exporter": "python",
   "pygments_lexer": "ipython3",
   "version": "3.8.16"
  }
 },
 "nbformat": 4,
 "nbformat_minor": 5
}
