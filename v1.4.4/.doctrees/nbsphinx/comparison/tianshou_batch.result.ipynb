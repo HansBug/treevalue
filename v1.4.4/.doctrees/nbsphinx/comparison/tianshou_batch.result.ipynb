{
 "cells": [
  {
   "cell_type": "markdown",
   "id": "9d39d946",
   "metadata": {},
   "source": [
    "# Comparison Between TreeValue and Tianshou Batch"
   ]
  },
  {
   "cell_type": "markdown",
   "id": "3c6db2d4",
   "metadata": {},
   "source": [
    "In this section, we will take a look at the feature and performance of the [Tianshou Batch](https://github.com/thu-ml/tianshou) library, which is developed by Tsinghua Machine Learning Group."
   ]
  },
  {
   "cell_type": "markdown",
   "id": "069361b0",
   "metadata": {},
   "source": [
    "Before starting the comparison, let us define some thing."
   ]
  },
  {
   "cell_type": "code",
   "execution_count": 1,
   "id": "06fc8d26",
   "metadata": {
    "execution": {
     "iopub.execute_input": "2024-10-16T12:44:10.380110Z",
     "iopub.status.busy": "2024-10-16T12:44:10.379903Z",
     "iopub.status.idle": "2024-10-16T12:44:11.584171Z",
     "shell.execute_reply": "2024-10-16T12:44:11.583499Z"
    }
   },
   "outputs": [],
   "source": [
    "import torch \n",
    "\n",
    "_TREE_DATA_1 = {'a': 1, 'b': 2, 'x': {'c': 3, 'd': 4}}\n",
    "_TREE_DATA_2 = {\n",
    "    'a': torch.randn(2, 3), \n",
    "    'x': {\n",
    "        'c': torch.randn(3, 4)\n",
    "    },\n",
    "}\n",
    "_TREE_DATA_3 = {\n",
    "    'obs': torch.randn(4, 84, 84),\n",
    "    'action': torch.randint(0, 6, size=(1,)),\n",
    "    'reward': torch.rand(1),\n",
    "}"
   ]
  },
  {
   "cell_type": "markdown",
   "id": "83461b25",
   "metadata": {},
   "source": [
    "## Read and Write Operation"
   ]
  },
  {
   "cell_type": "markdown",
   "id": "067b3f73",
   "metadata": {},
   "source": [
    "Reading and writing are the two most common operations in the tree data structure based on the data model (TreeValue and Tianshou Batch both belong to this type), so this section will compare the reading and writing performance of these two libraries."
   ]
  },
  {
   "cell_type": "markdown",
   "id": "5d09a5b7",
   "metadata": {},
   "source": [
    "### TreeValue's Get and Set"
   ]
  },
  {
   "cell_type": "code",
   "execution_count": 2,
   "id": "9519c4bb",
   "metadata": {
    "execution": {
     "iopub.execute_input": "2024-10-16T12:44:11.586830Z",
     "iopub.status.busy": "2024-10-16T12:44:11.586574Z",
     "iopub.status.idle": "2024-10-16T12:44:11.612897Z",
     "shell.execute_reply": "2024-10-16T12:44:11.612346Z"
    }
   },
   "outputs": [],
   "source": [
    "from treevalue import FastTreeValue\n",
    "\n",
    "t = FastTreeValue(_TREE_DATA_2)"
   ]
  },
  {
   "cell_type": "code",
   "execution_count": 3,
   "id": "11c37677",
   "metadata": {
    "execution": {
     "iopub.execute_input": "2024-10-16T12:44:11.614946Z",
     "iopub.status.busy": "2024-10-16T12:44:11.614501Z",
     "iopub.status.idle": "2024-10-16T12:44:11.623287Z",
     "shell.execute_reply": "2024-10-16T12:44:11.622653Z"
    }
   },
   "outputs": [
    {
     "data": {
      "text/plain": [
       "<FastTreeValue 0x7f8ce4853bb0>\n",
       "├── 'a' --> tensor([[ 0.2376, -1.2458,  0.9708],\n",
       "│                   [-1.9023,  1.3073,  0.4801]])\n",
       "└── 'x' --> <FastTreeValue 0x7f8ce4853c70>\n",
       "    └── 'c' --> tensor([[ 0.0818, -1.9045, -0.7916, -0.7116],\n",
       "                        [ 0.2512,  0.7212,  0.4555, -1.7708],\n",
       "                        [ 0.0225,  0.4319,  0.6053, -0.1198]])"
      ]
     },
     "execution_count": 3,
     "metadata": {},
     "output_type": "execute_result"
    }
   ],
   "source": [
    "t"
   ]
  },
  {
   "cell_type": "code",
   "execution_count": 4,
   "id": "fd70b0b9",
   "metadata": {
    "execution": {
     "iopub.execute_input": "2024-10-16T12:44:11.625416Z",
     "iopub.status.busy": "2024-10-16T12:44:11.625035Z",
     "iopub.status.idle": "2024-10-16T12:44:11.629539Z",
     "shell.execute_reply": "2024-10-16T12:44:11.629001Z"
    }
   },
   "outputs": [
    {
     "data": {
      "text/plain": [
       "tensor([[ 0.2376, -1.2458,  0.9708],\n",
       "        [-1.9023,  1.3073,  0.4801]])"
      ]
     },
     "execution_count": 4,
     "metadata": {},
     "output_type": "execute_result"
    }
   ],
   "source": [
    "t.a"
   ]
  },
  {
   "cell_type": "code",
   "execution_count": 5,
   "id": "c18197bd",
   "metadata": {
    "execution": {
     "iopub.execute_input": "2024-10-16T12:44:11.631815Z",
     "iopub.status.busy": "2024-10-16T12:44:11.631269Z",
     "iopub.status.idle": "2024-10-16T12:44:15.370541Z",
     "shell.execute_reply": "2024-10-16T12:44:15.369795Z"
    }
   },
   "outputs": [
    {
     "name": "stdout",
     "output_type": "stream",
     "text": [
      "45.7 ns ± 0.719 ns per loop (mean ± std. dev. of 7 runs, 10,000,000 loops each)\n"
     ]
    }
   ],
   "source": [
    "%timeit t.a"
   ]
  },
  {
   "cell_type": "code",
   "execution_count": 6,
   "id": "bd52f867",
   "metadata": {
    "execution": {
     "iopub.execute_input": "2024-10-16T12:44:15.372847Z",
     "iopub.status.busy": "2024-10-16T12:44:15.372473Z",
     "iopub.status.idle": "2024-10-16T12:44:15.378355Z",
     "shell.execute_reply": "2024-10-16T12:44:15.377799Z"
    }
   },
   "outputs": [
    {
     "data": {
      "text/plain": [
       "<FastTreeValue 0x7f8ce4853bb0>\n",
       "├── 'a' --> tensor([[-0.4850, -2.7078, -1.0981],\n",
       "│                   [ 0.8238,  0.1580,  1.0124]])\n",
       "└── 'x' --> <FastTreeValue 0x7f8ce4853c70>\n",
       "    └── 'c' --> tensor([[ 0.0818, -1.9045, -0.7916, -0.7116],\n",
       "                        [ 0.2512,  0.7212,  0.4555, -1.7708],\n",
       "                        [ 0.0225,  0.4319,  0.6053, -0.1198]])"
      ]
     },
     "execution_count": 6,
     "metadata": {},
     "output_type": "execute_result"
    }
   ],
   "source": [
    "new_value = torch.randn(2, 3)\n",
    "t.a = new_value\n",
    "\n",
    "t"
   ]
  },
  {
   "cell_type": "code",
   "execution_count": 7,
   "id": "bbe04d1c",
   "metadata": {
    "execution": {
     "iopub.execute_input": "2024-10-16T12:44:15.380210Z",
     "iopub.status.busy": "2024-10-16T12:44:15.380009Z",
     "iopub.status.idle": "2024-10-16T12:44:19.347975Z",
     "shell.execute_reply": "2024-10-16T12:44:19.347245Z"
    }
   },
   "outputs": [
    {
     "name": "stdout",
     "output_type": "stream",
     "text": [
      "48.8 ns ± 0.0898 ns per loop (mean ± std. dev. of 7 runs, 10,000,000 loops each)\n"
     ]
    }
   ],
   "source": [
    "%timeit t.a = new_value"
   ]
  },
  {
   "cell_type": "markdown",
   "id": "48c49731",
   "metadata": {},
   "source": [
    "### Tianshou Batch's Get and Set"
   ]
  },
  {
   "cell_type": "code",
   "execution_count": 8,
   "id": "f1bb14c1",
   "metadata": {
    "execution": {
     "iopub.execute_input": "2024-10-16T12:44:19.350163Z",
     "iopub.status.busy": "2024-10-16T12:44:19.349946Z",
     "iopub.status.idle": "2024-10-16T12:44:19.651014Z",
     "shell.execute_reply": "2024-10-16T12:44:19.650397Z"
    }
   },
   "outputs": [],
   "source": [
    "from tianshou.data import Batch\n",
    "\n",
    "b = Batch(**_TREE_DATA_2)"
   ]
  },
  {
   "cell_type": "code",
   "execution_count": 9,
   "id": "cb0777c3",
   "metadata": {
    "execution": {
     "iopub.execute_input": "2024-10-16T12:44:19.653729Z",
     "iopub.status.busy": "2024-10-16T12:44:19.653187Z",
     "iopub.status.idle": "2024-10-16T12:44:19.659009Z",
     "shell.execute_reply": "2024-10-16T12:44:19.658434Z"
    }
   },
   "outputs": [
    {
     "data": {
      "text/plain": [
       "Batch(\n",
       "    a: tensor([[ 0.2376, -1.2458,  0.9708],\n",
       "               [-1.9023,  1.3073,  0.4801]]),\n",
       "    x: Batch(\n",
       "           c: tensor([[ 0.0818, -1.9045, -0.7916, -0.7116],\n",
       "                      [ 0.2512,  0.7212,  0.4555, -1.7708],\n",
       "                      [ 0.0225,  0.4319,  0.6053, -0.1198]]),\n",
       "       ),\n",
       ")"
      ]
     },
     "execution_count": 9,
     "metadata": {},
     "output_type": "execute_result"
    }
   ],
   "source": [
    "b"
   ]
  },
  {
   "cell_type": "code",
   "execution_count": 10,
   "id": "43ef8ea3",
   "metadata": {
    "execution": {
     "iopub.execute_input": "2024-10-16T12:44:19.661121Z",
     "iopub.status.busy": "2024-10-16T12:44:19.660740Z",
     "iopub.status.idle": "2024-10-16T12:44:19.665143Z",
     "shell.execute_reply": "2024-10-16T12:44:19.664586Z"
    }
   },
   "outputs": [
    {
     "data": {
      "text/plain": [
       "tensor([[ 0.2376, -1.2458,  0.9708],\n",
       "        [-1.9023,  1.3073,  0.4801]])"
      ]
     },
     "execution_count": 10,
     "metadata": {},
     "output_type": "execute_result"
    }
   ],
   "source": [
    "b.a"
   ]
  },
  {
   "cell_type": "code",
   "execution_count": 11,
   "id": "b785ab72",
   "metadata": {
    "execution": {
     "iopub.execute_input": "2024-10-16T12:44:19.667160Z",
     "iopub.status.busy": "2024-10-16T12:44:19.666779Z",
     "iopub.status.idle": "2024-10-16T12:44:23.260840Z",
     "shell.execute_reply": "2024-10-16T12:44:23.260118Z"
    }
   },
   "outputs": [
    {
     "name": "stdout",
     "output_type": "stream",
     "text": [
      "44.3 ns ± 0.242 ns per loop (mean ± std. dev. of 7 runs, 10,000,000 loops each)\n"
     ]
    }
   ],
   "source": [
    "%timeit b.a"
   ]
  },
  {
   "cell_type": "code",
   "execution_count": 12,
   "id": "ad54dc69",
   "metadata": {
    "execution": {
     "iopub.execute_input": "2024-10-16T12:44:23.263290Z",
     "iopub.status.busy": "2024-10-16T12:44:23.262912Z",
     "iopub.status.idle": "2024-10-16T12:44:23.268384Z",
     "shell.execute_reply": "2024-10-16T12:44:23.267817Z"
    }
   },
   "outputs": [
    {
     "data": {
      "text/plain": [
       "Batch(\n",
       "    a: tensor([[0.8003, 0.0252, 0.3759],\n",
       "               [1.2069, 1.3344, 0.6981]]),\n",
       "    x: Batch(\n",
       "           c: tensor([[ 0.0818, -1.9045, -0.7916, -0.7116],\n",
       "                      [ 0.2512,  0.7212,  0.4555, -1.7708],\n",
       "                      [ 0.0225,  0.4319,  0.6053, -0.1198]]),\n",
       "       ),\n",
       ")"
      ]
     },
     "execution_count": 12,
     "metadata": {},
     "output_type": "execute_result"
    }
   ],
   "source": [
    "new_value = torch.randn(2, 3)\n",
    "b.a = new_value\n",
    "\n",
    "b"
   ]
  },
  {
   "cell_type": "code",
   "execution_count": 13,
   "id": "29b1d0bf",
   "metadata": {
    "execution": {
     "iopub.execute_input": "2024-10-16T12:44:23.270496Z",
     "iopub.status.busy": "2024-10-16T12:44:23.270138Z",
     "iopub.status.idle": "2024-10-16T12:44:26.300363Z",
     "shell.execute_reply": "2024-10-16T12:44:26.299640Z"
    }
   },
   "outputs": [
    {
     "name": "stdout",
     "output_type": "stream",
     "text": [
      "372 ns ± 1.66 ns per loop (mean ± std. dev. of 7 runs, 1,000,000 loops each)\n"
     ]
    }
   ],
   "source": [
    "%timeit b.a = new_value"
   ]
  },
  {
   "cell_type": "markdown",
   "id": "b61ad1d0",
   "metadata": {},
   "source": [
    "## Initialization"
   ]
  },
  {
   "cell_type": "markdown",
   "id": "d70f0d54",
   "metadata": {},
   "source": [
    "### TreeValue's Initialization"
   ]
  },
  {
   "cell_type": "code",
   "execution_count": 14,
   "id": "d32a679b",
   "metadata": {
    "execution": {
     "iopub.execute_input": "2024-10-16T12:44:26.302519Z",
     "iopub.status.busy": "2024-10-16T12:44:26.302307Z",
     "iopub.status.idle": "2024-10-16T12:44:31.380058Z",
     "shell.execute_reply": "2024-10-16T12:44:31.379325Z"
    }
   },
   "outputs": [
    {
     "name": "stdout",
     "output_type": "stream",
     "text": [
      "626 ns ± 3.39 ns per loop (mean ± std. dev. of 7 runs, 1,000,000 loops each)\n"
     ]
    }
   ],
   "source": [
    "%timeit FastTreeValue(_TREE_DATA_1)"
   ]
  },
  {
   "cell_type": "markdown",
   "id": "24f3707b",
   "metadata": {},
   "source": [
    "### Tianshou Batch's Initialization"
   ]
  },
  {
   "cell_type": "code",
   "execution_count": 15,
   "id": "ac3958df",
   "metadata": {
    "execution": {
     "iopub.execute_input": "2024-10-16T12:44:31.382230Z",
     "iopub.status.busy": "2024-10-16T12:44:31.382007Z",
     "iopub.status.idle": "2024-10-16T12:44:38.279373Z",
     "shell.execute_reply": "2024-10-16T12:44:38.278714Z"
    }
   },
   "outputs": [
    {
     "name": "stdout",
     "output_type": "stream",
     "text": [
      "8.5 µs ± 31 ns per loop (mean ± std. dev. of 7 runs, 100,000 loops each)\n"
     ]
    }
   ],
   "source": [
    "%timeit Batch(**_TREE_DATA_1)"
   ]
  },
  {
   "cell_type": "markdown",
   "id": "1ab82e2d",
   "metadata": {},
   "source": [
    "## Deep Copy Operation"
   ]
  },
  {
   "cell_type": "code",
   "execution_count": 16,
   "id": "210a9442",
   "metadata": {
    "execution": {
     "iopub.execute_input": "2024-10-16T12:44:38.281621Z",
     "iopub.status.busy": "2024-10-16T12:44:38.281407Z",
     "iopub.status.idle": "2024-10-16T12:44:38.284263Z",
     "shell.execute_reply": "2024-10-16T12:44:38.283739Z"
    }
   },
   "outputs": [],
   "source": [
    "import copy"
   ]
  },
  {
   "cell_type": "markdown",
   "id": "5a736274",
   "metadata": {},
   "source": [
    "### Deep Copy of TreeValue"
   ]
  },
  {
   "cell_type": "code",
   "execution_count": 17,
   "id": "f9bcadd6",
   "metadata": {
    "execution": {
     "iopub.execute_input": "2024-10-16T12:44:38.286267Z",
     "iopub.status.busy": "2024-10-16T12:44:38.286062Z",
     "iopub.status.idle": "2024-10-16T12:44:48.763965Z",
     "shell.execute_reply": "2024-10-16T12:44:48.763234Z"
    }
   },
   "outputs": [
    {
     "name": "stdout",
     "output_type": "stream",
     "text": [
      "129 µs ± 1.5 µs per loop (mean ± std. dev. of 7 runs, 10,000 loops each)\n"
     ]
    }
   ],
   "source": [
    "t3 = FastTreeValue(_TREE_DATA_3)\n",
    "%timeit copy.deepcopy(t3)"
   ]
  },
  {
   "cell_type": "markdown",
   "id": "bf8be7ea",
   "metadata": {},
   "source": [
    "### Deep Copy of Tianshou Batch"
   ]
  },
  {
   "cell_type": "code",
   "execution_count": 18,
   "id": "91998e6f",
   "metadata": {
    "execution": {
     "iopub.execute_input": "2024-10-16T12:44:48.766250Z",
     "iopub.status.busy": "2024-10-16T12:44:48.766019Z",
     "iopub.status.idle": "2024-10-16T12:44:59.000877Z",
     "shell.execute_reply": "2024-10-16T12:44:59.000097Z"
    }
   },
   "outputs": [
    {
     "name": "stdout",
     "output_type": "stream",
     "text": [
      "126 µs ± 915 ns per loop (mean ± std. dev. of 7 runs, 10,000 loops each)\n"
     ]
    }
   ],
   "source": [
    "b3 = Batch(**_TREE_DATA_3)\n",
    "%timeit copy.deepcopy(b3)"
   ]
  },
  {
   "cell_type": "markdown",
   "id": "223162fb",
   "metadata": {},
   "source": [
    "## Stack, Concat and Split Operation"
   ]
  },
  {
   "cell_type": "markdown",
   "id": "85fa4a73",
   "metadata": {},
   "source": [
    "### Performance of TreeValue"
   ]
  },
  {
   "cell_type": "code",
   "execution_count": 19,
   "id": "a0c2b697",
   "metadata": {
    "execution": {
     "iopub.execute_input": "2024-10-16T12:44:59.003612Z",
     "iopub.status.busy": "2024-10-16T12:44:59.003105Z",
     "iopub.status.idle": "2024-10-16T12:44:59.006893Z",
     "shell.execute_reply": "2024-10-16T12:44:59.006318Z"
    }
   },
   "outputs": [],
   "source": [
    "trees = [FastTreeValue(_TREE_DATA_2) for _ in range(8)]"
   ]
  },
  {
   "cell_type": "code",
   "execution_count": 20,
   "id": "017ea5a5",
   "metadata": {
    "execution": {
     "iopub.execute_input": "2024-10-16T12:44:59.009020Z",
     "iopub.status.busy": "2024-10-16T12:44:59.008618Z",
     "iopub.status.idle": "2024-10-16T12:44:59.015308Z",
     "shell.execute_reply": "2024-10-16T12:44:59.014734Z"
    }
   },
   "outputs": [
    {
     "data": {
      "text/plain": [
       "<FastTreeValue 0x7f8bf992b940>\n",
       "├── 'a' --> tensor([[[ 0.2376, -1.2458,  0.9708],\n",
       "│                    [-1.9023,  1.3073,  0.4801]],\n",
       "│           \n",
       "│                   [[ 0.2376, -1.2458,  0.9708],\n",
       "│                    [-1.9023,  1.3073,  0.4801]],\n",
       "│           \n",
       "│                   [[ 0.2376, -1.2458,  0.9708],\n",
       "│                    [-1.9023,  1.3073,  0.4801]],\n",
       "│           \n",
       "│                   [[ 0.2376, -1.2458,  0.9708],\n",
       "│                    [-1.9023,  1.3073,  0.4801]],\n",
       "│           \n",
       "│                   [[ 0.2376, -1.2458,  0.9708],\n",
       "│                    [-1.9023,  1.3073,  0.4801]],\n",
       "│           \n",
       "│                   [[ 0.2376, -1.2458,  0.9708],\n",
       "│                    [-1.9023,  1.3073,  0.4801]],\n",
       "│           \n",
       "│                   [[ 0.2376, -1.2458,  0.9708],\n",
       "│                    [-1.9023,  1.3073,  0.4801]],\n",
       "│           \n",
       "│                   [[ 0.2376, -1.2458,  0.9708],\n",
       "│                    [-1.9023,  1.3073,  0.4801]]])\n",
       "└── 'x' --> <FastTreeValue 0x7f8ce4875ca0>\n",
       "    └── 'c' --> tensor([[[ 0.0818, -1.9045, -0.7916, -0.7116],\n",
       "                         [ 0.2512,  0.7212,  0.4555, -1.7708],\n",
       "                         [ 0.0225,  0.4319,  0.6053, -0.1198]],\n",
       "                \n",
       "                        [[ 0.0818, -1.9045, -0.7916, -0.7116],\n",
       "                         [ 0.2512,  0.7212,  0.4555, -1.7708],\n",
       "                         [ 0.0225,  0.4319,  0.6053, -0.1198]],\n",
       "                \n",
       "                        [[ 0.0818, -1.9045, -0.7916, -0.7116],\n",
       "                         [ 0.2512,  0.7212,  0.4555, -1.7708],\n",
       "                         [ 0.0225,  0.4319,  0.6053, -0.1198]],\n",
       "                \n",
       "                        [[ 0.0818, -1.9045, -0.7916, -0.7116],\n",
       "                         [ 0.2512,  0.7212,  0.4555, -1.7708],\n",
       "                         [ 0.0225,  0.4319,  0.6053, -0.1198]],\n",
       "                \n",
       "                        [[ 0.0818, -1.9045, -0.7916, -0.7116],\n",
       "                         [ 0.2512,  0.7212,  0.4555, -1.7708],\n",
       "                         [ 0.0225,  0.4319,  0.6053, -0.1198]],\n",
       "                \n",
       "                        [[ 0.0818, -1.9045, -0.7916, -0.7116],\n",
       "                         [ 0.2512,  0.7212,  0.4555, -1.7708],\n",
       "                         [ 0.0225,  0.4319,  0.6053, -0.1198]],\n",
       "                \n",
       "                        [[ 0.0818, -1.9045, -0.7916, -0.7116],\n",
       "                         [ 0.2512,  0.7212,  0.4555, -1.7708],\n",
       "                         [ 0.0225,  0.4319,  0.6053, -0.1198]],\n",
       "                \n",
       "                        [[ 0.0818, -1.9045, -0.7916, -0.7116],\n",
       "                         [ 0.2512,  0.7212,  0.4555, -1.7708],\n",
       "                         [ 0.0225,  0.4319,  0.6053, -0.1198]]])"
      ]
     },
     "execution_count": 20,
     "metadata": {},
     "output_type": "execute_result"
    }
   ],
   "source": [
    "t_stack = FastTreeValue.func(subside=True)(torch.stack)\n",
    "\n",
    "t_stack(trees)"
   ]
  },
  {
   "cell_type": "code",
   "execution_count": 21,
   "id": "f8b3f415",
   "metadata": {
    "execution": {
     "iopub.execute_input": "2024-10-16T12:44:59.017283Z",
     "iopub.status.busy": "2024-10-16T12:44:59.016914Z",
     "iopub.status.idle": "2024-10-16T12:45:00.922356Z",
     "shell.execute_reply": "2024-10-16T12:45:00.921705Z"
    }
   },
   "outputs": [
    {
     "name": "stdout",
     "output_type": "stream",
     "text": [
      "23.4 µs ± 260 ns per loop (mean ± std. dev. of 7 runs, 10,000 loops each)\n"
     ]
    }
   ],
   "source": [
    "%timeit t_stack(trees)"
   ]
  },
  {
   "cell_type": "code",
   "execution_count": 22,
   "id": "94b56771",
   "metadata": {
    "execution": {
     "iopub.execute_input": "2024-10-16T12:45:00.924677Z",
     "iopub.status.busy": "2024-10-16T12:45:00.924271Z",
     "iopub.status.idle": "2024-10-16T12:45:00.931283Z",
     "shell.execute_reply": "2024-10-16T12:45:00.930605Z"
    }
   },
   "outputs": [
    {
     "data": {
      "text/plain": [
       "<FastTreeValue 0x7f8c45b73fa0>\n",
       "├── 'a' --> tensor([[ 0.2376, -1.2458,  0.9708],\n",
       "│                   [-1.9023,  1.3073,  0.4801],\n",
       "│                   [ 0.2376, -1.2458,  0.9708],\n",
       "│                   [-1.9023,  1.3073,  0.4801],\n",
       "│                   [ 0.2376, -1.2458,  0.9708],\n",
       "│                   [-1.9023,  1.3073,  0.4801],\n",
       "│                   [ 0.2376, -1.2458,  0.9708],\n",
       "│                   [-1.9023,  1.3073,  0.4801],\n",
       "│                   [ 0.2376, -1.2458,  0.9708],\n",
       "│                   [-1.9023,  1.3073,  0.4801],\n",
       "│                   [ 0.2376, -1.2458,  0.9708],\n",
       "│                   [-1.9023,  1.3073,  0.4801],\n",
       "│                   [ 0.2376, -1.2458,  0.9708],\n",
       "│                   [-1.9023,  1.3073,  0.4801],\n",
       "│                   [ 0.2376, -1.2458,  0.9708],\n",
       "│                   [-1.9023,  1.3073,  0.4801]])\n",
       "└── 'x' --> <FastTreeValue 0x7f8bf88b0a00>\n",
       "    └── 'c' --> tensor([[ 0.0818, -1.9045, -0.7916, -0.7116],\n",
       "                        [ 0.2512,  0.7212,  0.4555, -1.7708],\n",
       "                        [ 0.0225,  0.4319,  0.6053, -0.1198],\n",
       "                        [ 0.0818, -1.9045, -0.7916, -0.7116],\n",
       "                        [ 0.2512,  0.7212,  0.4555, -1.7708],\n",
       "                        [ 0.0225,  0.4319,  0.6053, -0.1198],\n",
       "                        [ 0.0818, -1.9045, -0.7916, -0.7116],\n",
       "                        [ 0.2512,  0.7212,  0.4555, -1.7708],\n",
       "                        [ 0.0225,  0.4319,  0.6053, -0.1198],\n",
       "                        [ 0.0818, -1.9045, -0.7916, -0.7116],\n",
       "                        [ 0.2512,  0.7212,  0.4555, -1.7708],\n",
       "                        [ 0.0225,  0.4319,  0.6053, -0.1198],\n",
       "                        [ 0.0818, -1.9045, -0.7916, -0.7116],\n",
       "                        [ 0.2512,  0.7212,  0.4555, -1.7708],\n",
       "                        [ 0.0225,  0.4319,  0.6053, -0.1198],\n",
       "                        [ 0.0818, -1.9045, -0.7916, -0.7116],\n",
       "                        [ 0.2512,  0.7212,  0.4555, -1.7708],\n",
       "                        [ 0.0225,  0.4319,  0.6053, -0.1198],\n",
       "                        [ 0.0818, -1.9045, -0.7916, -0.7116],\n",
       "                        [ 0.2512,  0.7212,  0.4555, -1.7708],\n",
       "                        [ 0.0225,  0.4319,  0.6053, -0.1198],\n",
       "                        [ 0.0818, -1.9045, -0.7916, -0.7116],\n",
       "                        [ 0.2512,  0.7212,  0.4555, -1.7708],\n",
       "                        [ 0.0225,  0.4319,  0.6053, -0.1198]])"
      ]
     },
     "execution_count": 22,
     "metadata": {},
     "output_type": "execute_result"
    }
   ],
   "source": [
    "t_cat = FastTreeValue.func(subside=True)(torch.cat)\n",
    "\n",
    "t_cat(trees)"
   ]
  },
  {
   "cell_type": "code",
   "execution_count": 23,
   "id": "5e9c06a6",
   "metadata": {
    "execution": {
     "iopub.execute_input": "2024-10-16T12:45:00.933295Z",
     "iopub.status.busy": "2024-10-16T12:45:00.932916Z",
     "iopub.status.idle": "2024-10-16T12:45:02.703693Z",
     "shell.execute_reply": "2024-10-16T12:45:02.702889Z"
    }
   },
   "outputs": [
    {
     "name": "stdout",
     "output_type": "stream",
     "text": [
      "21.8 µs ± 261 ns per loop (mean ± std. dev. of 7 runs, 10,000 loops each)\n"
     ]
    }
   ],
   "source": [
    "%timeit t_cat(trees)"
   ]
  },
  {
   "cell_type": "code",
   "execution_count": 24,
   "id": "a3ab5c8f",
   "metadata": {
    "execution": {
     "iopub.execute_input": "2024-10-16T12:45:02.705879Z",
     "iopub.status.busy": "2024-10-16T12:45:02.705653Z",
     "iopub.status.idle": "2024-10-16T12:45:06.730376Z",
     "shell.execute_reply": "2024-10-16T12:45:06.729660Z"
    }
   },
   "outputs": [
    {
     "name": "stdout",
     "output_type": "stream",
     "text": [
      "49.5 µs ± 397 ns per loop (mean ± std. dev. of 7 runs, 10,000 loops each)\n"
     ]
    }
   ],
   "source": [
    "t_split = FastTreeValue.func(rise=True)(torch.split)\n",
    "tree = FastTreeValue({\n",
    "    'obs': torch.randn(8, 4, 84, 84),\n",
    "    'action': torch.randint(0, 6, size=(8, 1,)),\n",
    "    'reward': torch.rand(8, 1),\n",
    "})\n",
    "\n",
    "%timeit t_split(tree, 1)"
   ]
  },
  {
   "cell_type": "markdown",
   "id": "31c3ec0b",
   "metadata": {},
   "source": [
    "### Performance of Tianshou Batch"
   ]
  },
  {
   "cell_type": "code",
   "execution_count": 25,
   "id": "9ead828a",
   "metadata": {
    "execution": {
     "iopub.execute_input": "2024-10-16T12:45:06.732655Z",
     "iopub.status.busy": "2024-10-16T12:45:06.732272Z",
     "iopub.status.idle": "2024-10-16T12:45:06.739246Z",
     "shell.execute_reply": "2024-10-16T12:45:06.738573Z"
    }
   },
   "outputs": [
    {
     "data": {
      "text/plain": [
       "Batch(\n",
       "    x: Batch(\n",
       "           c: tensor([[[ 0.0818, -1.9045, -0.7916, -0.7116],\n",
       "                       [ 0.2512,  0.7212,  0.4555, -1.7708],\n",
       "                       [ 0.0225,  0.4319,  0.6053, -0.1198]],\n",
       "              \n",
       "                      [[ 0.0818, -1.9045, -0.7916, -0.7116],\n",
       "                       [ 0.2512,  0.7212,  0.4555, -1.7708],\n",
       "                       [ 0.0225,  0.4319,  0.6053, -0.1198]],\n",
       "              \n",
       "                      [[ 0.0818, -1.9045, -0.7916, -0.7116],\n",
       "                       [ 0.2512,  0.7212,  0.4555, -1.7708],\n",
       "                       [ 0.0225,  0.4319,  0.6053, -0.1198]],\n",
       "              \n",
       "                      [[ 0.0818, -1.9045, -0.7916, -0.7116],\n",
       "                       [ 0.2512,  0.7212,  0.4555, -1.7708],\n",
       "                       [ 0.0225,  0.4319,  0.6053, -0.1198]],\n",
       "              \n",
       "                      [[ 0.0818, -1.9045, -0.7916, -0.7116],\n",
       "                       [ 0.2512,  0.7212,  0.4555, -1.7708],\n",
       "                       [ 0.0225,  0.4319,  0.6053, -0.1198]],\n",
       "              \n",
       "                      [[ 0.0818, -1.9045, -0.7916, -0.7116],\n",
       "                       [ 0.2512,  0.7212,  0.4555, -1.7708],\n",
       "                       [ 0.0225,  0.4319,  0.6053, -0.1198]],\n",
       "              \n",
       "                      [[ 0.0818, -1.9045, -0.7916, -0.7116],\n",
       "                       [ 0.2512,  0.7212,  0.4555, -1.7708],\n",
       "                       [ 0.0225,  0.4319,  0.6053, -0.1198]],\n",
       "              \n",
       "                      [[ 0.0818, -1.9045, -0.7916, -0.7116],\n",
       "                       [ 0.2512,  0.7212,  0.4555, -1.7708],\n",
       "                       [ 0.0225,  0.4319,  0.6053, -0.1198]]]),\n",
       "       ),\n",
       "    a: tensor([[[ 0.2376, -1.2458,  0.9708],\n",
       "                [-1.9023,  1.3073,  0.4801]],\n",
       "       \n",
       "               [[ 0.2376, -1.2458,  0.9708],\n",
       "                [-1.9023,  1.3073,  0.4801]],\n",
       "       \n",
       "               [[ 0.2376, -1.2458,  0.9708],\n",
       "                [-1.9023,  1.3073,  0.4801]],\n",
       "       \n",
       "               [[ 0.2376, -1.2458,  0.9708],\n",
       "                [-1.9023,  1.3073,  0.4801]],\n",
       "       \n",
       "               [[ 0.2376, -1.2458,  0.9708],\n",
       "                [-1.9023,  1.3073,  0.4801]],\n",
       "       \n",
       "               [[ 0.2376, -1.2458,  0.9708],\n",
       "                [-1.9023,  1.3073,  0.4801]],\n",
       "       \n",
       "               [[ 0.2376, -1.2458,  0.9708],\n",
       "                [-1.9023,  1.3073,  0.4801]],\n",
       "       \n",
       "               [[ 0.2376, -1.2458,  0.9708],\n",
       "                [-1.9023,  1.3073,  0.4801]]]),\n",
       ")"
      ]
     },
     "execution_count": 25,
     "metadata": {},
     "output_type": "execute_result"
    }
   ],
   "source": [
    "batches = [Batch(**_TREE_DATA_2) for _ in range(8)]\n",
    "\n",
    "Batch.stack(batches)"
   ]
  },
  {
   "cell_type": "code",
   "execution_count": 26,
   "id": "ec9037a3",
   "metadata": {
    "execution": {
     "iopub.execute_input": "2024-10-16T12:45:06.741429Z",
     "iopub.status.busy": "2024-10-16T12:45:06.741062Z",
     "iopub.status.idle": "2024-10-16T12:45:11.751374Z",
     "shell.execute_reply": "2024-10-16T12:45:11.750653Z"
    }
   },
   "outputs": [
    {
     "name": "stdout",
     "output_type": "stream",
     "text": [
      "61.6 µs ± 140 ns per loop (mean ± std. dev. of 7 runs, 10,000 loops each)\n"
     ]
    }
   ],
   "source": [
    "%timeit Batch.stack(batches)"
   ]
  },
  {
   "cell_type": "code",
   "execution_count": 27,
   "id": "cb8ab77e",
   "metadata": {
    "execution": {
     "iopub.execute_input": "2024-10-16T12:45:11.753881Z",
     "iopub.status.busy": "2024-10-16T12:45:11.753461Z",
     "iopub.status.idle": "2024-10-16T12:45:11.760307Z",
     "shell.execute_reply": "2024-10-16T12:45:11.759675Z"
    }
   },
   "outputs": [
    {
     "data": {
      "text/plain": [
       "Batch(\n",
       "    x: Batch(\n",
       "           c: tensor([[ 0.0818, -1.9045, -0.7916, -0.7116],\n",
       "                      [ 0.2512,  0.7212,  0.4555, -1.7708],\n",
       "                      [ 0.0225,  0.4319,  0.6053, -0.1198],\n",
       "                      [ 0.0818, -1.9045, -0.7916, -0.7116],\n",
       "                      [ 0.2512,  0.7212,  0.4555, -1.7708],\n",
       "                      [ 0.0225,  0.4319,  0.6053, -0.1198],\n",
       "                      [ 0.0818, -1.9045, -0.7916, -0.7116],\n",
       "                      [ 0.2512,  0.7212,  0.4555, -1.7708],\n",
       "                      [ 0.0225,  0.4319,  0.6053, -0.1198],\n",
       "                      [ 0.0818, -1.9045, -0.7916, -0.7116],\n",
       "                      [ 0.2512,  0.7212,  0.4555, -1.7708],\n",
       "                      [ 0.0225,  0.4319,  0.6053, -0.1198],\n",
       "                      [ 0.0818, -1.9045, -0.7916, -0.7116],\n",
       "                      [ 0.2512,  0.7212,  0.4555, -1.7708],\n",
       "                      [ 0.0225,  0.4319,  0.6053, -0.1198],\n",
       "                      [ 0.0818, -1.9045, -0.7916, -0.7116],\n",
       "                      [ 0.2512,  0.7212,  0.4555, -1.7708],\n",
       "                      [ 0.0225,  0.4319,  0.6053, -0.1198],\n",
       "                      [ 0.0818, -1.9045, -0.7916, -0.7116],\n",
       "                      [ 0.2512,  0.7212,  0.4555, -1.7708],\n",
       "                      [ 0.0225,  0.4319,  0.6053, -0.1198],\n",
       "                      [ 0.0818, -1.9045, -0.7916, -0.7116],\n",
       "                      [ 0.2512,  0.7212,  0.4555, -1.7708],\n",
       "                      [ 0.0225,  0.4319,  0.6053, -0.1198]]),\n",
       "       ),\n",
       "    a: tensor([[ 0.2376, -1.2458,  0.9708],\n",
       "               [-1.9023,  1.3073,  0.4801],\n",
       "               [ 0.2376, -1.2458,  0.9708],\n",
       "               [-1.9023,  1.3073,  0.4801],\n",
       "               [ 0.2376, -1.2458,  0.9708],\n",
       "               [-1.9023,  1.3073,  0.4801],\n",
       "               [ 0.2376, -1.2458,  0.9708],\n",
       "               [-1.9023,  1.3073,  0.4801],\n",
       "               [ 0.2376, -1.2458,  0.9708],\n",
       "               [-1.9023,  1.3073,  0.4801],\n",
       "               [ 0.2376, -1.2458,  0.9708],\n",
       "               [-1.9023,  1.3073,  0.4801],\n",
       "               [ 0.2376, -1.2458,  0.9708],\n",
       "               [-1.9023,  1.3073,  0.4801],\n",
       "               [ 0.2376, -1.2458,  0.9708],\n",
       "               [-1.9023,  1.3073,  0.4801]]),\n",
       ")"
      ]
     },
     "execution_count": 27,
     "metadata": {},
     "output_type": "execute_result"
    }
   ],
   "source": [
    "Batch.cat(batches)"
   ]
  },
  {
   "cell_type": "code",
   "execution_count": 28,
   "id": "18dfb045",
   "metadata": {
    "execution": {
     "iopub.execute_input": "2024-10-16T12:45:11.762447Z",
     "iopub.status.busy": "2024-10-16T12:45:11.762049Z",
     "iopub.status.idle": "2024-10-16T12:45:21.202119Z",
     "shell.execute_reply": "2024-10-16T12:45:21.201404Z"
    }
   },
   "outputs": [
    {
     "name": "stdout",
     "output_type": "stream",
     "text": [
      "116 µs ± 476 ns per loop (mean ± std. dev. of 7 runs, 10,000 loops each)\n"
     ]
    }
   ],
   "source": [
    "%timeit Batch.cat(batches)"
   ]
  },
  {
   "cell_type": "code",
   "execution_count": 29,
   "id": "c6688e51",
   "metadata": {
    "execution": {
     "iopub.execute_input": "2024-10-16T12:45:21.204383Z",
     "iopub.status.busy": "2024-10-16T12:45:21.203984Z",
     "iopub.status.idle": "2024-10-16T12:45:23.399958Z",
     "shell.execute_reply": "2024-10-16T12:45:23.399219Z"
    }
   },
   "outputs": [
    {
     "name": "stdout",
     "output_type": "stream",
     "text": [
      "269 µs ± 1.18 µs per loop (mean ± std. dev. of 7 runs, 1,000 loops each)\n"
     ]
    }
   ],
   "source": [
    "batch = Batch({\n",
    "    'obs': torch.randn(8, 4, 84, 84),\n",
    "    'action': torch.randint(0, 6, size=(8, 1,)),\n",
    "    'reward': torch.rand(8, 1)}\n",
    ")\n",
    "\n",
    "%timeit list(Batch.split(batch, 1, shuffle=False, merge_last=True))"
   ]
  },
  {
   "cell_type": "code",
   "execution_count": null,
   "id": "2539fbd9",
   "metadata": {},
   "outputs": [],
   "source": []
  }
 ],
 "metadata": {
  "kernelspec": {
   "display_name": "Python 3 (ipykernel)",
   "language": "python",
   "name": "python3"
  },
  "language_info": {
   "codemirror_mode": {
    "name": "ipython",
    "version": 3
   },
   "file_extension": ".py",
   "mimetype": "text/x-python",
   "name": "python",
   "nbconvert_exporter": "python",
   "pygments_lexer": "ipython3",
   "version": "3.8.18"
  }
 },
 "nbformat": 4,
 "nbformat_minor": 5
}
