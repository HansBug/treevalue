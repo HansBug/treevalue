{
 "cells": [
  {
   "cell_type": "markdown",
   "id": "9d39d946",
   "metadata": {},
   "source": [
    "# Comparison Between TreeValue and Tianshou Batch"
   ]
  },
  {
   "cell_type": "markdown",
   "id": "3c6db2d4",
   "metadata": {},
   "source": [
    "In this section, we will take a look at the feature and performance of the [Tianshou Batch](https://github.com/thu-ml/tianshou) library, which is developed by Tsinghua Machine Learning Group."
   ]
  },
  {
   "cell_type": "markdown",
   "id": "069361b0",
   "metadata": {},
   "source": [
    "Before starting the comparison, let us define some thing."
   ]
  },
  {
   "cell_type": "code",
   "execution_count": 1,
   "id": "06fc8d26",
   "metadata": {
    "execution": {
     "iopub.execute_input": "2023-08-11T04:16:00.725919Z",
     "iopub.status.busy": "2023-08-11T04:16:00.725385Z",
     "iopub.status.idle": "2023-08-11T04:16:02.182243Z",
     "shell.execute_reply": "2023-08-11T04:16:02.181445Z"
    }
   },
   "outputs": [],
   "source": [
    "import torch \n",
    "\n",
    "_TREE_DATA_1 = {'a': 1, 'b': 2, 'x': {'c': 3, 'd': 4}}\n",
    "_TREE_DATA_2 = {\n",
    "    'a': torch.randn(2, 3), \n",
    "    'x': {\n",
    "        'c': torch.randn(3, 4)\n",
    "    },\n",
    "}\n",
    "_TREE_DATA_3 = {\n",
    "    'obs': torch.randn(4, 84, 84),\n",
    "    'action': torch.randint(0, 6, size=(1,)),\n",
    "    'reward': torch.rand(1),\n",
    "}"
   ]
  },
  {
   "cell_type": "markdown",
   "id": "83461b25",
   "metadata": {},
   "source": [
    "## Read and Write Operation"
   ]
  },
  {
   "cell_type": "markdown",
   "id": "067b3f73",
   "metadata": {},
   "source": [
    "Reading and writing are the two most common operations in the tree data structure based on the data model (TreeValue and Tianshou Batch both belong to this type), so this section will compare the reading and writing performance of these two libraries."
   ]
  },
  {
   "cell_type": "markdown",
   "id": "5d09a5b7",
   "metadata": {},
   "source": [
    "### TreeValue's Get and Set"
   ]
  },
  {
   "cell_type": "code",
   "execution_count": 2,
   "id": "9519c4bb",
   "metadata": {
    "execution": {
     "iopub.execute_input": "2023-08-11T04:16:02.186463Z",
     "iopub.status.busy": "2023-08-11T04:16:02.185968Z",
     "iopub.status.idle": "2023-08-11T04:16:02.218191Z",
     "shell.execute_reply": "2023-08-11T04:16:02.217284Z"
    }
   },
   "outputs": [],
   "source": [
    "from treevalue import FastTreeValue\n",
    "\n",
    "t = FastTreeValue(_TREE_DATA_2)"
   ]
  },
  {
   "cell_type": "code",
   "execution_count": 3,
   "id": "11c37677",
   "metadata": {
    "execution": {
     "iopub.execute_input": "2023-08-11T04:16:02.222373Z",
     "iopub.status.busy": "2023-08-11T04:16:02.221911Z",
     "iopub.status.idle": "2023-08-11T04:16:02.231801Z",
     "shell.execute_reply": "2023-08-11T04:16:02.230997Z"
    }
   },
   "outputs": [
    {
     "data": {
      "text/plain": [
       "<FastTreeValue 0x7f933ef572e0>\n",
       "├── 'a' --> tensor([[-1.2273, -0.5245, -1.8725],\n",
       "│                   [-0.4215, -1.6120,  0.8305]])\n",
       "└── 'x' --> <FastTreeValue 0x7f933ef570a0>\n",
       "    └── 'c' --> tensor([[ 0.0293,  0.3646,  1.4814,  0.4672],\n",
       "                        [-0.7520, -2.1412, -0.5661, -0.6556],\n",
       "                        [ 0.3202,  0.3797,  0.7924,  1.1524]])"
      ]
     },
     "execution_count": 3,
     "metadata": {},
     "output_type": "execute_result"
    }
   ],
   "source": [
    "t"
   ]
  },
  {
   "cell_type": "code",
   "execution_count": 4,
   "id": "fd70b0b9",
   "metadata": {
    "execution": {
     "iopub.execute_input": "2023-08-11T04:16:02.236143Z",
     "iopub.status.busy": "2023-08-11T04:16:02.235512Z",
     "iopub.status.idle": "2023-08-11T04:16:02.241129Z",
     "shell.execute_reply": "2023-08-11T04:16:02.240363Z"
    }
   },
   "outputs": [
    {
     "data": {
      "text/plain": [
       "tensor([[-1.2273, -0.5245, -1.8725],\n",
       "        [-0.4215, -1.6120,  0.8305]])"
      ]
     },
     "execution_count": 4,
     "metadata": {},
     "output_type": "execute_result"
    }
   ],
   "source": [
    "t.a"
   ]
  },
  {
   "cell_type": "code",
   "execution_count": 5,
   "id": "c18197bd",
   "metadata": {
    "execution": {
     "iopub.execute_input": "2023-08-11T04:16:02.244793Z",
     "iopub.status.busy": "2023-08-11T04:16:02.244291Z",
     "iopub.status.idle": "2023-08-11T04:16:08.204882Z",
     "shell.execute_reply": "2023-08-11T04:16:08.204108Z"
    }
   },
   "outputs": [
    {
     "name": "stdout",
     "output_type": "stream",
     "text": [
      "73.4 ns ± 0.0396 ns per loop (mean ± std. dev. of 7 runs, 10,000,000 loops each)\n"
     ]
    }
   ],
   "source": [
    "%timeit t.a"
   ]
  },
  {
   "cell_type": "code",
   "execution_count": 6,
   "id": "bd52f867",
   "metadata": {
    "execution": {
     "iopub.execute_input": "2023-08-11T04:16:08.208436Z",
     "iopub.status.busy": "2023-08-11T04:16:08.207937Z",
     "iopub.status.idle": "2023-08-11T04:16:08.214650Z",
     "shell.execute_reply": "2023-08-11T04:16:08.213869Z"
    }
   },
   "outputs": [
    {
     "data": {
      "text/plain": [
       "<FastTreeValue 0x7f933ef572e0>\n",
       "├── 'a' --> tensor([[0.8709, 0.0956, 0.9968],\n",
       "│                   [1.1956, 0.5418, 0.3427]])\n",
       "└── 'x' --> <FastTreeValue 0x7f933ef570a0>\n",
       "    └── 'c' --> tensor([[ 0.0293,  0.3646,  1.4814,  0.4672],\n",
       "                        [-0.7520, -2.1412, -0.5661, -0.6556],\n",
       "                        [ 0.3202,  0.3797,  0.7924,  1.1524]])"
      ]
     },
     "execution_count": 6,
     "metadata": {},
     "output_type": "execute_result"
    }
   ],
   "source": [
    "new_value = torch.randn(2, 3)\n",
    "t.a = new_value\n",
    "\n",
    "t"
   ]
  },
  {
   "cell_type": "code",
   "execution_count": 7,
   "id": "bbe04d1c",
   "metadata": {
    "execution": {
     "iopub.execute_input": "2023-08-11T04:16:08.218202Z",
     "iopub.status.busy": "2023-08-11T04:16:08.217619Z",
     "iopub.status.idle": "2023-08-11T04:16:14.383334Z",
     "shell.execute_reply": "2023-08-11T04:16:14.381847Z"
    }
   },
   "outputs": [
    {
     "name": "stdout",
     "output_type": "stream",
     "text": [
      "75.9 ns ± 0.052 ns per loop (mean ± std. dev. of 7 runs, 10,000,000 loops each)\n"
     ]
    }
   ],
   "source": [
    "%timeit t.a = new_value"
   ]
  },
  {
   "cell_type": "markdown",
   "id": "48c49731",
   "metadata": {},
   "source": [
    "### Tianshou Batch's Get and Set"
   ]
  },
  {
   "cell_type": "code",
   "execution_count": 8,
   "id": "f1bb14c1",
   "metadata": {
    "execution": {
     "iopub.execute_input": "2023-08-11T04:16:14.386950Z",
     "iopub.status.busy": "2023-08-11T04:16:14.386508Z",
     "iopub.status.idle": "2023-08-11T04:16:14.790247Z",
     "shell.execute_reply": "2023-08-11T04:16:14.789431Z"
    }
   },
   "outputs": [],
   "source": [
    "from tianshou.data import Batch\n",
    "\n",
    "b = Batch(**_TREE_DATA_2)"
   ]
  },
  {
   "cell_type": "code",
   "execution_count": 9,
   "id": "cb0777c3",
   "metadata": {
    "execution": {
     "iopub.execute_input": "2023-08-11T04:16:14.794421Z",
     "iopub.status.busy": "2023-08-11T04:16:14.794033Z",
     "iopub.status.idle": "2023-08-11T04:16:14.800383Z",
     "shell.execute_reply": "2023-08-11T04:16:14.799626Z"
    }
   },
   "outputs": [
    {
     "data": {
      "text/plain": [
       "Batch(\n",
       "    a: tensor([[-1.2273, -0.5245, -1.8725],\n",
       "               [-0.4215, -1.6120,  0.8305]]),\n",
       "    x: Batch(\n",
       "           c: tensor([[ 0.0293,  0.3646,  1.4814,  0.4672],\n",
       "                      [-0.7520, -2.1412, -0.5661, -0.6556],\n",
       "                      [ 0.3202,  0.3797,  0.7924,  1.1524]]),\n",
       "       ),\n",
       ")"
      ]
     },
     "execution_count": 9,
     "metadata": {},
     "output_type": "execute_result"
    }
   ],
   "source": [
    "b"
   ]
  },
  {
   "cell_type": "code",
   "execution_count": 10,
   "id": "43ef8ea3",
   "metadata": {
    "execution": {
     "iopub.execute_input": "2023-08-11T04:16:14.803739Z",
     "iopub.status.busy": "2023-08-11T04:16:14.803334Z",
     "iopub.status.idle": "2023-08-11T04:16:14.808839Z",
     "shell.execute_reply": "2023-08-11T04:16:14.808108Z"
    }
   },
   "outputs": [
    {
     "data": {
      "text/plain": [
       "tensor([[-1.2273, -0.5245, -1.8725],\n",
       "        [-0.4215, -1.6120,  0.8305]])"
      ]
     },
     "execution_count": 10,
     "metadata": {},
     "output_type": "execute_result"
    }
   ],
   "source": [
    "b.a"
   ]
  },
  {
   "cell_type": "code",
   "execution_count": 11,
   "id": "b785ab72",
   "metadata": {
    "execution": {
     "iopub.execute_input": "2023-08-11T04:16:14.812604Z",
     "iopub.status.busy": "2023-08-11T04:16:14.812046Z",
     "iopub.status.idle": "2023-08-11T04:16:20.415539Z",
     "shell.execute_reply": "2023-08-11T04:16:20.414800Z"
    }
   },
   "outputs": [
    {
     "name": "stdout",
     "output_type": "stream",
     "text": [
      "69 ns ± 0.0348 ns per loop (mean ± std. dev. of 7 runs, 10,000,000 loops each)\n"
     ]
    }
   ],
   "source": [
    "%timeit b.a"
   ]
  },
  {
   "cell_type": "code",
   "execution_count": 12,
   "id": "ad54dc69",
   "metadata": {
    "execution": {
     "iopub.execute_input": "2023-08-11T04:16:20.420112Z",
     "iopub.status.busy": "2023-08-11T04:16:20.418498Z",
     "iopub.status.idle": "2023-08-11T04:16:20.428214Z",
     "shell.execute_reply": "2023-08-11T04:16:20.427516Z"
    }
   },
   "outputs": [
    {
     "data": {
      "text/plain": [
       "Batch(\n",
       "    a: tensor([[ 0.9159,  0.3611,  0.3908],\n",
       "               [ 0.1084, -0.1231,  1.2568]]),\n",
       "    x: Batch(\n",
       "           c: tensor([[ 0.0293,  0.3646,  1.4814,  0.4672],\n",
       "                      [-0.7520, -2.1412, -0.5661, -0.6556],\n",
       "                      [ 0.3202,  0.3797,  0.7924,  1.1524]]),\n",
       "       ),\n",
       ")"
      ]
     },
     "execution_count": 12,
     "metadata": {},
     "output_type": "execute_result"
    }
   ],
   "source": [
    "new_value = torch.randn(2, 3)\n",
    "b.a = new_value\n",
    "\n",
    "b"
   ]
  },
  {
   "cell_type": "code",
   "execution_count": 13,
   "id": "29b1d0bf",
   "metadata": {
    "execution": {
     "iopub.execute_input": "2023-08-11T04:16:20.431480Z",
     "iopub.status.busy": "2023-08-11T04:16:20.430990Z",
     "iopub.status.idle": "2023-08-11T04:16:24.901535Z",
     "shell.execute_reply": "2023-08-11T04:16:24.900119Z"
    }
   },
   "outputs": [
    {
     "name": "stdout",
     "output_type": "stream",
     "text": [
      "550 ns ± 1.19 ns per loop (mean ± std. dev. of 7 runs, 1,000,000 loops each)\n"
     ]
    }
   ],
   "source": [
    "%timeit b.a = new_value"
   ]
  },
  {
   "cell_type": "markdown",
   "id": "b61ad1d0",
   "metadata": {},
   "source": [
    "## Initialization"
   ]
  },
  {
   "cell_type": "markdown",
   "id": "d70f0d54",
   "metadata": {},
   "source": [
    "### TreeValue's Initialization"
   ]
  },
  {
   "cell_type": "code",
   "execution_count": 14,
   "id": "d32a679b",
   "metadata": {
    "execution": {
     "iopub.execute_input": "2023-08-11T04:16:24.905476Z",
     "iopub.status.busy": "2023-08-11T04:16:24.905038Z",
     "iopub.status.idle": "2023-08-11T04:16:32.034207Z",
     "shell.execute_reply": "2023-08-11T04:16:32.033393Z"
    }
   },
   "outputs": [
    {
     "name": "stdout",
     "output_type": "stream",
     "text": [
      "879 ns ± 8.41 ns per loop (mean ± std. dev. of 7 runs, 1,000,000 loops each)\n"
     ]
    }
   ],
   "source": [
    "%timeit FastTreeValue(_TREE_DATA_1)"
   ]
  },
  {
   "cell_type": "markdown",
   "id": "24f3707b",
   "metadata": {},
   "source": [
    "### Tianshou Batch's Initialization"
   ]
  },
  {
   "cell_type": "code",
   "execution_count": 15,
   "id": "ac3958df",
   "metadata": {
    "execution": {
     "iopub.execute_input": "2023-08-11T04:16:32.037912Z",
     "iopub.status.busy": "2023-08-11T04:16:32.037401Z",
     "iopub.status.idle": "2023-08-11T04:16:41.092787Z",
     "shell.execute_reply": "2023-08-11T04:16:41.092095Z"
    }
   },
   "outputs": [
    {
     "name": "stdout",
     "output_type": "stream",
     "text": [
      "11.2 µs ± 9.61 ns per loop (mean ± std. dev. of 7 runs, 100,000 loops each)\n"
     ]
    }
   ],
   "source": [
    "%timeit Batch(**_TREE_DATA_1)"
   ]
  },
  {
   "cell_type": "markdown",
   "id": "1ab82e2d",
   "metadata": {},
   "source": [
    "## Deep Copy Operation"
   ]
  },
  {
   "cell_type": "code",
   "execution_count": 16,
   "id": "210a9442",
   "metadata": {
    "execution": {
     "iopub.execute_input": "2023-08-11T04:16:41.096450Z",
     "iopub.status.busy": "2023-08-11T04:16:41.095921Z",
     "iopub.status.idle": "2023-08-11T04:16:41.099481Z",
     "shell.execute_reply": "2023-08-11T04:16:41.098692Z"
    }
   },
   "outputs": [],
   "source": [
    "import copy"
   ]
  },
  {
   "cell_type": "markdown",
   "id": "5a736274",
   "metadata": {},
   "source": [
    "### Deep Copy of TreeValue"
   ]
  },
  {
   "cell_type": "code",
   "execution_count": 17,
   "id": "f9bcadd6",
   "metadata": {
    "execution": {
     "iopub.execute_input": "2023-08-11T04:16:41.103163Z",
     "iopub.status.busy": "2023-08-11T04:16:41.102768Z",
     "iopub.status.idle": "2023-08-11T04:16:53.057772Z",
     "shell.execute_reply": "2023-08-11T04:16:53.056900Z"
    }
   },
   "outputs": [
    {
     "name": "stdout",
     "output_type": "stream",
     "text": [
      "147 µs ± 995 ns per loop (mean ± std. dev. of 7 runs, 10,000 loops each)\n"
     ]
    }
   ],
   "source": [
    "t3 = FastTreeValue(_TREE_DATA_3)\n",
    "%timeit copy.deepcopy(t3)"
   ]
  },
  {
   "cell_type": "markdown",
   "id": "bf8be7ea",
   "metadata": {},
   "source": [
    "### Deep Copy of Tianshou Batch"
   ]
  },
  {
   "cell_type": "code",
   "execution_count": 18,
   "id": "91998e6f",
   "metadata": {
    "execution": {
     "iopub.execute_input": "2023-08-11T04:16:53.062037Z",
     "iopub.status.busy": "2023-08-11T04:16:53.061432Z",
     "iopub.status.idle": "2023-08-11T04:17:05.211926Z",
     "shell.execute_reply": "2023-08-11T04:17:05.211212Z"
    }
   },
   "outputs": [
    {
     "name": "stdout",
     "output_type": "stream",
     "text": [
      "150 µs ± 1.7 µs per loop (mean ± std. dev. of 7 runs, 10,000 loops each)\n"
     ]
    }
   ],
   "source": [
    "b3 = Batch(**_TREE_DATA_3)\n",
    "%timeit copy.deepcopy(b3)"
   ]
  },
  {
   "cell_type": "markdown",
   "id": "223162fb",
   "metadata": {},
   "source": [
    "## Stack, Concat and Split Operation"
   ]
  },
  {
   "cell_type": "markdown",
   "id": "85fa4a73",
   "metadata": {},
   "source": [
    "### Performance of TreeValue"
   ]
  },
  {
   "cell_type": "code",
   "execution_count": 19,
   "id": "a0c2b697",
   "metadata": {
    "execution": {
     "iopub.execute_input": "2023-08-11T04:17:05.216068Z",
     "iopub.status.busy": "2023-08-11T04:17:05.215480Z",
     "iopub.status.idle": "2023-08-11T04:17:05.219563Z",
     "shell.execute_reply": "2023-08-11T04:17:05.218862Z"
    }
   },
   "outputs": [],
   "source": [
    "trees = [FastTreeValue(_TREE_DATA_2) for _ in range(8)]"
   ]
  },
  {
   "cell_type": "code",
   "execution_count": 20,
   "id": "017ea5a5",
   "metadata": {
    "execution": {
     "iopub.execute_input": "2023-08-11T04:17:05.223458Z",
     "iopub.status.busy": "2023-08-11T04:17:05.222877Z",
     "iopub.status.idle": "2023-08-11T04:17:05.232166Z",
     "shell.execute_reply": "2023-08-11T04:17:05.231314Z"
    }
   },
   "outputs": [
    {
     "data": {
      "text/plain": [
       "<FastTreeValue 0x7f926f1f4070>\n",
       "├── 'a' --> tensor([[[-1.2273, -0.5245, -1.8725],\n",
       "│                    [-0.4215, -1.6120,  0.8305]],\n",
       "│           \n",
       "│                   [[-1.2273, -0.5245, -1.8725],\n",
       "│                    [-0.4215, -1.6120,  0.8305]],\n",
       "│           \n",
       "│                   [[-1.2273, -0.5245, -1.8725],\n",
       "│                    [-0.4215, -1.6120,  0.8305]],\n",
       "│           \n",
       "│                   [[-1.2273, -0.5245, -1.8725],\n",
       "│                    [-0.4215, -1.6120,  0.8305]],\n",
       "│           \n",
       "│                   [[-1.2273, -0.5245, -1.8725],\n",
       "│                    [-0.4215, -1.6120,  0.8305]],\n",
       "│           \n",
       "│                   [[-1.2273, -0.5245, -1.8725],\n",
       "│                    [-0.4215, -1.6120,  0.8305]],\n",
       "│           \n",
       "│                   [[-1.2273, -0.5245, -1.8725],\n",
       "│                    [-0.4215, -1.6120,  0.8305]],\n",
       "│           \n",
       "│                   [[-1.2273, -0.5245, -1.8725],\n",
       "│                    [-0.4215, -1.6120,  0.8305]]])\n",
       "└── 'x' --> <FastTreeValue 0x7f926f0fad60>\n",
       "    └── 'c' --> tensor([[[ 0.0293,  0.3646,  1.4814,  0.4672],\n",
       "                         [-0.7520, -2.1412, -0.5661, -0.6556],\n",
       "                         [ 0.3202,  0.3797,  0.7924,  1.1524]],\n",
       "                \n",
       "                        [[ 0.0293,  0.3646,  1.4814,  0.4672],\n",
       "                         [-0.7520, -2.1412, -0.5661, -0.6556],\n",
       "                         [ 0.3202,  0.3797,  0.7924,  1.1524]],\n",
       "                \n",
       "                        [[ 0.0293,  0.3646,  1.4814,  0.4672],\n",
       "                         [-0.7520, -2.1412, -0.5661, -0.6556],\n",
       "                         [ 0.3202,  0.3797,  0.7924,  1.1524]],\n",
       "                \n",
       "                        [[ 0.0293,  0.3646,  1.4814,  0.4672],\n",
       "                         [-0.7520, -2.1412, -0.5661, -0.6556],\n",
       "                         [ 0.3202,  0.3797,  0.7924,  1.1524]],\n",
       "                \n",
       "                        [[ 0.0293,  0.3646,  1.4814,  0.4672],\n",
       "                         [-0.7520, -2.1412, -0.5661, -0.6556],\n",
       "                         [ 0.3202,  0.3797,  0.7924,  1.1524]],\n",
       "                \n",
       "                        [[ 0.0293,  0.3646,  1.4814,  0.4672],\n",
       "                         [-0.7520, -2.1412, -0.5661, -0.6556],\n",
       "                         [ 0.3202,  0.3797,  0.7924,  1.1524]],\n",
       "                \n",
       "                        [[ 0.0293,  0.3646,  1.4814,  0.4672],\n",
       "                         [-0.7520, -2.1412, -0.5661, -0.6556],\n",
       "                         [ 0.3202,  0.3797,  0.7924,  1.1524]],\n",
       "                \n",
       "                        [[ 0.0293,  0.3646,  1.4814,  0.4672],\n",
       "                         [-0.7520, -2.1412, -0.5661, -0.6556],\n",
       "                         [ 0.3202,  0.3797,  0.7924,  1.1524]]])"
      ]
     },
     "execution_count": 20,
     "metadata": {},
     "output_type": "execute_result"
    }
   ],
   "source": [
    "t_stack = FastTreeValue.func(subside=True)(torch.stack)\n",
    "\n",
    "t_stack(trees)"
   ]
  },
  {
   "cell_type": "code",
   "execution_count": 21,
   "id": "f8b3f415",
   "metadata": {
    "execution": {
     "iopub.execute_input": "2023-08-11T04:17:05.236387Z",
     "iopub.status.busy": "2023-08-11T04:17:05.235881Z",
     "iopub.status.idle": "2023-08-11T04:17:07.939344Z",
     "shell.execute_reply": "2023-08-11T04:17:07.938577Z"
    }
   },
   "outputs": [
    {
     "name": "stdout",
     "output_type": "stream",
     "text": [
      "33.1 µs ± 1.08 µs per loop (mean ± std. dev. of 7 runs, 10,000 loops each)\n"
     ]
    }
   ],
   "source": [
    "%timeit t_stack(trees)"
   ]
  },
  {
   "cell_type": "code",
   "execution_count": 22,
   "id": "94b56771",
   "metadata": {
    "execution": {
     "iopub.execute_input": "2023-08-11T04:17:07.943109Z",
     "iopub.status.busy": "2023-08-11T04:17:07.942595Z",
     "iopub.status.idle": "2023-08-11T04:17:07.950654Z",
     "shell.execute_reply": "2023-08-11T04:17:07.949901Z"
    }
   },
   "outputs": [
    {
     "data": {
      "text/plain": [
       "<FastTreeValue 0x7f933ef57610>\n",
       "├── 'a' --> tensor([[-1.2273, -0.5245, -1.8725],\n",
       "│                   [-0.4215, -1.6120,  0.8305],\n",
       "│                   [-1.2273, -0.5245, -1.8725],\n",
       "│                   [-0.4215, -1.6120,  0.8305],\n",
       "│                   [-1.2273, -0.5245, -1.8725],\n",
       "│                   [-0.4215, -1.6120,  0.8305],\n",
       "│                   [-1.2273, -0.5245, -1.8725],\n",
       "│                   [-0.4215, -1.6120,  0.8305],\n",
       "│                   [-1.2273, -0.5245, -1.8725],\n",
       "│                   [-0.4215, -1.6120,  0.8305],\n",
       "│                   [-1.2273, -0.5245, -1.8725],\n",
       "│                   [-0.4215, -1.6120,  0.8305],\n",
       "│                   [-1.2273, -0.5245, -1.8725],\n",
       "│                   [-0.4215, -1.6120,  0.8305],\n",
       "│                   [-1.2273, -0.5245, -1.8725],\n",
       "│                   [-0.4215, -1.6120,  0.8305]])\n",
       "└── 'x' --> <FastTreeValue 0x7f926f0faee0>\n",
       "    └── 'c' --> tensor([[ 0.0293,  0.3646,  1.4814,  0.4672],\n",
       "                        [-0.7520, -2.1412, -0.5661, -0.6556],\n",
       "                        [ 0.3202,  0.3797,  0.7924,  1.1524],\n",
       "                        [ 0.0293,  0.3646,  1.4814,  0.4672],\n",
       "                        [-0.7520, -2.1412, -0.5661, -0.6556],\n",
       "                        [ 0.3202,  0.3797,  0.7924,  1.1524],\n",
       "                        [ 0.0293,  0.3646,  1.4814,  0.4672],\n",
       "                        [-0.7520, -2.1412, -0.5661, -0.6556],\n",
       "                        [ 0.3202,  0.3797,  0.7924,  1.1524],\n",
       "                        [ 0.0293,  0.3646,  1.4814,  0.4672],\n",
       "                        [-0.7520, -2.1412, -0.5661, -0.6556],\n",
       "                        [ 0.3202,  0.3797,  0.7924,  1.1524],\n",
       "                        [ 0.0293,  0.3646,  1.4814,  0.4672],\n",
       "                        [-0.7520, -2.1412, -0.5661, -0.6556],\n",
       "                        [ 0.3202,  0.3797,  0.7924,  1.1524],\n",
       "                        [ 0.0293,  0.3646,  1.4814,  0.4672],\n",
       "                        [-0.7520, -2.1412, -0.5661, -0.6556],\n",
       "                        [ 0.3202,  0.3797,  0.7924,  1.1524],\n",
       "                        [ 0.0293,  0.3646,  1.4814,  0.4672],\n",
       "                        [-0.7520, -2.1412, -0.5661, -0.6556],\n",
       "                        [ 0.3202,  0.3797,  0.7924,  1.1524],\n",
       "                        [ 0.0293,  0.3646,  1.4814,  0.4672],\n",
       "                        [-0.7520, -2.1412, -0.5661, -0.6556],\n",
       "                        [ 0.3202,  0.3797,  0.7924,  1.1524]])"
      ]
     },
     "execution_count": 22,
     "metadata": {},
     "output_type": "execute_result"
    }
   ],
   "source": [
    "t_cat = FastTreeValue.func(subside=True)(torch.cat)\n",
    "\n",
    "t_cat(trees)"
   ]
  },
  {
   "cell_type": "code",
   "execution_count": 23,
   "id": "5e9c06a6",
   "metadata": {
    "execution": {
     "iopub.execute_input": "2023-08-11T04:17:07.954095Z",
     "iopub.status.busy": "2023-08-11T04:17:07.953606Z",
     "iopub.status.idle": "2023-08-11T04:17:10.452905Z",
     "shell.execute_reply": "2023-08-11T04:17:10.452144Z"
    }
   },
   "outputs": [
    {
     "name": "stdout",
     "output_type": "stream",
     "text": [
      "30.7 µs ± 19.5 ns per loop (mean ± std. dev. of 7 runs, 10,000 loops each)\n"
     ]
    }
   ],
   "source": [
    "%timeit t_cat(trees)"
   ]
  },
  {
   "cell_type": "code",
   "execution_count": 24,
   "id": "a3ab5c8f",
   "metadata": {
    "execution": {
     "iopub.execute_input": "2023-08-11T04:17:10.456535Z",
     "iopub.status.busy": "2023-08-11T04:17:10.455999Z",
     "iopub.status.idle": "2023-08-11T04:17:15.965783Z",
     "shell.execute_reply": "2023-08-11T04:17:15.964994Z"
    }
   },
   "outputs": [
    {
     "name": "stdout",
     "output_type": "stream",
     "text": [
      "67.7 µs ± 31.4 ns per loop (mean ± std. dev. of 7 runs, 10,000 loops each)\n"
     ]
    }
   ],
   "source": [
    "t_split = FastTreeValue.func(rise=True)(torch.split)\n",
    "tree = FastTreeValue({\n",
    "    'obs': torch.randn(8, 4, 84, 84),\n",
    "    'action': torch.randint(0, 6, size=(8, 1,)),\n",
    "    'reward': torch.rand(8, 1),\n",
    "})\n",
    "\n",
    "%timeit t_split(tree, 1)"
   ]
  },
  {
   "cell_type": "markdown",
   "id": "31c3ec0b",
   "metadata": {},
   "source": [
    "### Performance of Tianshou Batch"
   ]
  },
  {
   "cell_type": "code",
   "execution_count": 25,
   "id": "9ead828a",
   "metadata": {
    "execution": {
     "iopub.execute_input": "2023-08-11T04:17:15.969553Z",
     "iopub.status.busy": "2023-08-11T04:17:15.968976Z",
     "iopub.status.idle": "2023-08-11T04:17:15.977445Z",
     "shell.execute_reply": "2023-08-11T04:17:15.976654Z"
    }
   },
   "outputs": [
    {
     "data": {
      "text/plain": [
       "Batch(\n",
       "    x: Batch(\n",
       "           c: tensor([[[ 0.0293,  0.3646,  1.4814,  0.4672],\n",
       "                       [-0.7520, -2.1412, -0.5661, -0.6556],\n",
       "                       [ 0.3202,  0.3797,  0.7924,  1.1524]],\n",
       "              \n",
       "                      [[ 0.0293,  0.3646,  1.4814,  0.4672],\n",
       "                       [-0.7520, -2.1412, -0.5661, -0.6556],\n",
       "                       [ 0.3202,  0.3797,  0.7924,  1.1524]],\n",
       "              \n",
       "                      [[ 0.0293,  0.3646,  1.4814,  0.4672],\n",
       "                       [-0.7520, -2.1412, -0.5661, -0.6556],\n",
       "                       [ 0.3202,  0.3797,  0.7924,  1.1524]],\n",
       "              \n",
       "                      [[ 0.0293,  0.3646,  1.4814,  0.4672],\n",
       "                       [-0.7520, -2.1412, -0.5661, -0.6556],\n",
       "                       [ 0.3202,  0.3797,  0.7924,  1.1524]],\n",
       "              \n",
       "                      [[ 0.0293,  0.3646,  1.4814,  0.4672],\n",
       "                       [-0.7520, -2.1412, -0.5661, -0.6556],\n",
       "                       [ 0.3202,  0.3797,  0.7924,  1.1524]],\n",
       "              \n",
       "                      [[ 0.0293,  0.3646,  1.4814,  0.4672],\n",
       "                       [-0.7520, -2.1412, -0.5661, -0.6556],\n",
       "                       [ 0.3202,  0.3797,  0.7924,  1.1524]],\n",
       "              \n",
       "                      [[ 0.0293,  0.3646,  1.4814,  0.4672],\n",
       "                       [-0.7520, -2.1412, -0.5661, -0.6556],\n",
       "                       [ 0.3202,  0.3797,  0.7924,  1.1524]],\n",
       "              \n",
       "                      [[ 0.0293,  0.3646,  1.4814,  0.4672],\n",
       "                       [-0.7520, -2.1412, -0.5661, -0.6556],\n",
       "                       [ 0.3202,  0.3797,  0.7924,  1.1524]]]),\n",
       "       ),\n",
       "    a: tensor([[[-1.2273, -0.5245, -1.8725],\n",
       "                [-0.4215, -1.6120,  0.8305]],\n",
       "       \n",
       "               [[-1.2273, -0.5245, -1.8725],\n",
       "                [-0.4215, -1.6120,  0.8305]],\n",
       "       \n",
       "               [[-1.2273, -0.5245, -1.8725],\n",
       "                [-0.4215, -1.6120,  0.8305]],\n",
       "       \n",
       "               [[-1.2273, -0.5245, -1.8725],\n",
       "                [-0.4215, -1.6120,  0.8305]],\n",
       "       \n",
       "               [[-1.2273, -0.5245, -1.8725],\n",
       "                [-0.4215, -1.6120,  0.8305]],\n",
       "       \n",
       "               [[-1.2273, -0.5245, -1.8725],\n",
       "                [-0.4215, -1.6120,  0.8305]],\n",
       "       \n",
       "               [[-1.2273, -0.5245, -1.8725],\n",
       "                [-0.4215, -1.6120,  0.8305]],\n",
       "       \n",
       "               [[-1.2273, -0.5245, -1.8725],\n",
       "                [-0.4215, -1.6120,  0.8305]]]),\n",
       ")"
      ]
     },
     "execution_count": 25,
     "metadata": {},
     "output_type": "execute_result"
    }
   ],
   "source": [
    "batches = [Batch(**_TREE_DATA_2) for _ in range(8)]\n",
    "\n",
    "Batch.stack(batches)"
   ]
  },
  {
   "cell_type": "code",
   "execution_count": 26,
   "id": "ec9037a3",
   "metadata": {
    "execution": {
     "iopub.execute_input": "2023-08-11T04:17:15.980939Z",
     "iopub.status.busy": "2023-08-11T04:17:15.980539Z",
     "iopub.status.idle": "2023-08-11T04:17:22.820212Z",
     "shell.execute_reply": "2023-08-11T04:17:22.819523Z"
    }
   },
   "outputs": [
    {
     "name": "stdout",
     "output_type": "stream",
     "text": [
      "84.2 µs ± 345 ns per loop (mean ± std. dev. of 7 runs, 10,000 loops each)\n"
     ]
    }
   ],
   "source": [
    "%timeit Batch.stack(batches)"
   ]
  },
  {
   "cell_type": "code",
   "execution_count": 27,
   "id": "cb8ab77e",
   "metadata": {
    "execution": {
     "iopub.execute_input": "2023-08-11T04:17:22.823719Z",
     "iopub.status.busy": "2023-08-11T04:17:22.823207Z",
     "iopub.status.idle": "2023-08-11T04:17:22.830834Z",
     "shell.execute_reply": "2023-08-11T04:17:22.830065Z"
    }
   },
   "outputs": [
    {
     "data": {
      "text/plain": [
       "Batch(\n",
       "    x: Batch(\n",
       "           c: tensor([[ 0.0293,  0.3646,  1.4814,  0.4672],\n",
       "                      [-0.7520, -2.1412, -0.5661, -0.6556],\n",
       "                      [ 0.3202,  0.3797,  0.7924,  1.1524],\n",
       "                      [ 0.0293,  0.3646,  1.4814,  0.4672],\n",
       "                      [-0.7520, -2.1412, -0.5661, -0.6556],\n",
       "                      [ 0.3202,  0.3797,  0.7924,  1.1524],\n",
       "                      [ 0.0293,  0.3646,  1.4814,  0.4672],\n",
       "                      [-0.7520, -2.1412, -0.5661, -0.6556],\n",
       "                      [ 0.3202,  0.3797,  0.7924,  1.1524],\n",
       "                      [ 0.0293,  0.3646,  1.4814,  0.4672],\n",
       "                      [-0.7520, -2.1412, -0.5661, -0.6556],\n",
       "                      [ 0.3202,  0.3797,  0.7924,  1.1524],\n",
       "                      [ 0.0293,  0.3646,  1.4814,  0.4672],\n",
       "                      [-0.7520, -2.1412, -0.5661, -0.6556],\n",
       "                      [ 0.3202,  0.3797,  0.7924,  1.1524],\n",
       "                      [ 0.0293,  0.3646,  1.4814,  0.4672],\n",
       "                      [-0.7520, -2.1412, -0.5661, -0.6556],\n",
       "                      [ 0.3202,  0.3797,  0.7924,  1.1524],\n",
       "                      [ 0.0293,  0.3646,  1.4814,  0.4672],\n",
       "                      [-0.7520, -2.1412, -0.5661, -0.6556],\n",
       "                      [ 0.3202,  0.3797,  0.7924,  1.1524],\n",
       "                      [ 0.0293,  0.3646,  1.4814,  0.4672],\n",
       "                      [-0.7520, -2.1412, -0.5661, -0.6556],\n",
       "                      [ 0.3202,  0.3797,  0.7924,  1.1524]]),\n",
       "       ),\n",
       "    a: tensor([[-1.2273, -0.5245, -1.8725],\n",
       "               [-0.4215, -1.6120,  0.8305],\n",
       "               [-1.2273, -0.5245, -1.8725],\n",
       "               [-0.4215, -1.6120,  0.8305],\n",
       "               [-1.2273, -0.5245, -1.8725],\n",
       "               [-0.4215, -1.6120,  0.8305],\n",
       "               [-1.2273, -0.5245, -1.8725],\n",
       "               [-0.4215, -1.6120,  0.8305],\n",
       "               [-1.2273, -0.5245, -1.8725],\n",
       "               [-0.4215, -1.6120,  0.8305],\n",
       "               [-1.2273, -0.5245, -1.8725],\n",
       "               [-0.4215, -1.6120,  0.8305],\n",
       "               [-1.2273, -0.5245, -1.8725],\n",
       "               [-0.4215, -1.6120,  0.8305],\n",
       "               [-1.2273, -0.5245, -1.8725],\n",
       "               [-0.4215, -1.6120,  0.8305]]),\n",
       ")"
      ]
     },
     "execution_count": 27,
     "metadata": {},
     "output_type": "execute_result"
    }
   ],
   "source": [
    "Batch.cat(batches)"
   ]
  },
  {
   "cell_type": "code",
   "execution_count": 28,
   "id": "18dfb045",
   "metadata": {
    "execution": {
     "iopub.execute_input": "2023-08-11T04:17:22.834227Z",
     "iopub.status.busy": "2023-08-11T04:17:22.833759Z",
     "iopub.status.idle": "2023-08-11T04:17:35.290922Z",
     "shell.execute_reply": "2023-08-11T04:17:35.290153Z"
    }
   },
   "outputs": [
    {
     "name": "stdout",
     "output_type": "stream",
     "text": [
      "153 µs ± 517 ns per loop (mean ± std. dev. of 7 runs, 10,000 loops each)\n"
     ]
    }
   ],
   "source": [
    "%timeit Batch.cat(batches)"
   ]
  },
  {
   "cell_type": "code",
   "execution_count": 29,
   "id": "c6688e51",
   "metadata": {
    "execution": {
     "iopub.execute_input": "2023-08-11T04:17:35.294700Z",
     "iopub.status.busy": "2023-08-11T04:17:35.294162Z",
     "iopub.status.idle": "2023-08-11T04:17:38.200821Z",
     "shell.execute_reply": "2023-08-11T04:17:38.200121Z"
    }
   },
   "outputs": [
    {
     "name": "stdout",
     "output_type": "stream",
     "text": [
      "358 µs ± 6.1 µs per loop (mean ± std. dev. of 7 runs, 1,000 loops each)\n"
     ]
    }
   ],
   "source": [
    "batch = Batch({\n",
    "    'obs': torch.randn(8, 4, 84, 84),\n",
    "    'action': torch.randint(0, 6, size=(8, 1,)),\n",
    "    'reward': torch.rand(8, 1)}\n",
    ")\n",
    "\n",
    "%timeit list(Batch.split(batch, 1, shuffle=False, merge_last=True))"
   ]
  },
  {
   "cell_type": "code",
   "execution_count": null,
   "id": "2539fbd9",
   "metadata": {},
   "outputs": [],
   "source": []
  }
 ],
 "metadata": {
  "kernelspec": {
   "display_name": "Python 3 (ipykernel)",
   "language": "python",
   "name": "python3"
  },
  "language_info": {
   "codemirror_mode": {
    "name": "ipython",
    "version": 3
   },
   "file_extension": ".py",
   "mimetype": "text/x-python",
   "name": "python",
   "nbconvert_exporter": "python",
   "pygments_lexer": "ipython3",
   "version": "3.8.17"
  }
 },
 "nbformat": 4,
 "nbformat_minor": 5
}
