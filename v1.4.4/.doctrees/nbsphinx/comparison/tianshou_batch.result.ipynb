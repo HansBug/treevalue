{
 "cells": [
  {
   "cell_type": "markdown",
   "id": "9d39d946",
   "metadata": {},
   "source": [
    "# Comparison Between TreeValue and Tianshou Batch"
   ]
  },
  {
   "cell_type": "markdown",
   "id": "3c6db2d4",
   "metadata": {},
   "source": [
    "In this section, we will take a look at the feature and performance of the [Tianshou Batch](https://github.com/thu-ml/tianshou) library, which is developed by Tsinghua Machine Learning Group."
   ]
  },
  {
   "cell_type": "markdown",
   "id": "069361b0",
   "metadata": {},
   "source": [
    "Before starting the comparison, let us define some thing."
   ]
  },
  {
   "cell_type": "code",
   "execution_count": 1,
   "id": "06fc8d26",
   "metadata": {
    "execution": {
     "iopub.execute_input": "2023-02-27T12:58:08.903191Z",
     "iopub.status.busy": "2023-02-27T12:58:08.902682Z",
     "iopub.status.idle": "2023-02-27T12:58:10.104930Z",
     "shell.execute_reply": "2023-02-27T12:58:10.103808Z"
    }
   },
   "outputs": [
    {
     "name": "stderr",
     "output_type": "stream",
     "text": [
      "/opt/hostedtoolcache/Python/3.8.16/x64/lib/python3.8/site-packages/tqdm/auto.py:22: TqdmWarning: IProgress not found. Please update jupyter and ipywidgets. See https://ipywidgets.readthedocs.io/en/stable/user_install.html\n",
      "  from .autonotebook import tqdm as notebook_tqdm\n"
     ]
    }
   ],
   "source": [
    "import torch \n",
    "\n",
    "_TREE_DATA_1 = {'a': 1, 'b': 2, 'x': {'c': 3, 'd': 4}}\n",
    "_TREE_DATA_2 = {\n",
    "    'a': torch.randn(2, 3), \n",
    "    'x': {\n",
    "        'c': torch.randn(3, 4)\n",
    "    },\n",
    "}\n",
    "_TREE_DATA_3 = {\n",
    "    'obs': torch.randn(4, 84, 84),\n",
    "    'action': torch.randint(0, 6, size=(1,)),\n",
    "    'reward': torch.rand(1),\n",
    "}"
   ]
  },
  {
   "cell_type": "markdown",
   "id": "83461b25",
   "metadata": {},
   "source": [
    "## Read and Write Operation"
   ]
  },
  {
   "cell_type": "markdown",
   "id": "067b3f73",
   "metadata": {},
   "source": [
    "Reading and writing are the two most common operations in the tree data structure based on the data model (TreeValue and Tianshou Batch both belong to this type), so this section will compare the reading and writing performance of these two libraries."
   ]
  },
  {
   "cell_type": "markdown",
   "id": "5d09a5b7",
   "metadata": {},
   "source": [
    "### TreeValue's Get and Set"
   ]
  },
  {
   "cell_type": "code",
   "execution_count": 2,
   "id": "9519c4bb",
   "metadata": {
    "execution": {
     "iopub.execute_input": "2023-02-27T12:58:10.110246Z",
     "iopub.status.busy": "2023-02-27T12:58:10.109579Z",
     "iopub.status.idle": "2023-02-27T12:58:10.154066Z",
     "shell.execute_reply": "2023-02-27T12:58:10.153066Z"
    }
   },
   "outputs": [],
   "source": [
    "from treevalue import FastTreeValue\n",
    "\n",
    "t = FastTreeValue(_TREE_DATA_2)"
   ]
  },
  {
   "cell_type": "code",
   "execution_count": 3,
   "id": "11c37677",
   "metadata": {
    "execution": {
     "iopub.execute_input": "2023-02-27T12:58:10.159071Z",
     "iopub.status.busy": "2023-02-27T12:58:10.158471Z",
     "iopub.status.idle": "2023-02-27T12:58:10.170976Z",
     "shell.execute_reply": "2023-02-27T12:58:10.170157Z"
    }
   },
   "outputs": [
    {
     "data": {
      "text/plain": [
       "<FastTreeValue 0x7f6b8c016850>\n",
       "├── 'a' --> tensor([[-1.5544, -0.3811, -0.2430],\n",
       "│                   [-0.2267, -1.1976,  1.8848]])\n",
       "└── 'x' --> <FastTreeValue 0x7f6b8c016c70>\n",
       "    └── 'c' --> tensor([[ 0.1309, -0.0276, -0.0228,  1.7603],\n",
       "                        [-0.4303,  0.6171, -0.7754, -0.6983],\n",
       "                        [-2.3598, -0.5060,  0.8833,  0.7631]])"
      ]
     },
     "execution_count": 3,
     "metadata": {},
     "output_type": "execute_result"
    }
   ],
   "source": [
    "t"
   ]
  },
  {
   "cell_type": "code",
   "execution_count": 4,
   "id": "fd70b0b9",
   "metadata": {
    "execution": {
     "iopub.execute_input": "2023-02-27T12:58:10.174393Z",
     "iopub.status.busy": "2023-02-27T12:58:10.173915Z",
     "iopub.status.idle": "2023-02-27T12:58:10.180108Z",
     "shell.execute_reply": "2023-02-27T12:58:10.179164Z"
    }
   },
   "outputs": [
    {
     "data": {
      "text/plain": [
       "tensor([[-1.5544, -0.3811, -0.2430],\n",
       "        [-0.2267, -1.1976,  1.8848]])"
      ]
     },
     "execution_count": 4,
     "metadata": {},
     "output_type": "execute_result"
    }
   ],
   "source": [
    "t.a"
   ]
  },
  {
   "cell_type": "code",
   "execution_count": 5,
   "id": "c18197bd",
   "metadata": {
    "execution": {
     "iopub.execute_input": "2023-02-27T12:58:10.183765Z",
     "iopub.status.busy": "2023-02-27T12:58:10.183172Z",
     "iopub.status.idle": "2023-02-27T12:58:16.149445Z",
     "shell.execute_reply": "2023-02-27T12:58:16.148390Z"
    }
   },
   "outputs": [
    {
     "name": "stdout",
     "output_type": "stream",
     "text": [
      "73.8 ns ± 0.848 ns per loop (mean ± std. dev. of 7 runs, 10,000,000 loops each)\n"
     ]
    }
   ],
   "source": [
    "%timeit t.a"
   ]
  },
  {
   "cell_type": "code",
   "execution_count": 6,
   "id": "bd52f867",
   "metadata": {
    "execution": {
     "iopub.execute_input": "2023-02-27T12:58:16.153096Z",
     "iopub.status.busy": "2023-02-27T12:58:16.152533Z",
     "iopub.status.idle": "2023-02-27T12:58:16.161748Z",
     "shell.execute_reply": "2023-02-27T12:58:16.160799Z"
    }
   },
   "outputs": [
    {
     "data": {
      "text/plain": [
       "<FastTreeValue 0x7f6b8c016850>\n",
       "├── 'a' --> tensor([[-0.3433, -1.8067, -1.1069],\n",
       "│                   [-1.6108,  0.9416,  0.7182]])\n",
       "└── 'x' --> <FastTreeValue 0x7f6b8c016c70>\n",
       "    └── 'c' --> tensor([[ 0.1309, -0.0276, -0.0228,  1.7603],\n",
       "                        [-0.4303,  0.6171, -0.7754, -0.6983],\n",
       "                        [-2.3598, -0.5060,  0.8833,  0.7631]])"
      ]
     },
     "execution_count": 6,
     "metadata": {},
     "output_type": "execute_result"
    }
   ],
   "source": [
    "new_value = torch.randn(2, 3)\n",
    "t.a = new_value\n",
    "\n",
    "t"
   ]
  },
  {
   "cell_type": "code",
   "execution_count": 7,
   "id": "bbe04d1c",
   "metadata": {
    "execution": {
     "iopub.execute_input": "2023-02-27T12:58:16.165193Z",
     "iopub.status.busy": "2023-02-27T12:58:16.164719Z",
     "iopub.status.idle": "2023-02-27T12:58:22.307028Z",
     "shell.execute_reply": "2023-02-27T12:58:22.305734Z"
    }
   },
   "outputs": [
    {
     "name": "stdout",
     "output_type": "stream",
     "text": [
      "76 ns ± 1.42 ns per loop (mean ± std. dev. of 7 runs, 10,000,000 loops each)\n"
     ]
    }
   ],
   "source": [
    "%timeit t.a = new_value"
   ]
  },
  {
   "cell_type": "markdown",
   "id": "48c49731",
   "metadata": {},
   "source": [
    "### Tianshou Batch's Get and Set"
   ]
  },
  {
   "cell_type": "code",
   "execution_count": 8,
   "id": "f1bb14c1",
   "metadata": {
    "execution": {
     "iopub.execute_input": "2023-02-27T12:58:22.310742Z",
     "iopub.status.busy": "2023-02-27T12:58:22.310423Z",
     "iopub.status.idle": "2023-02-27T12:58:22.777181Z",
     "shell.execute_reply": "2023-02-27T12:58:22.775985Z"
    }
   },
   "outputs": [],
   "source": [
    "from tianshou.data import Batch\n",
    "\n",
    "b = Batch(**_TREE_DATA_2)"
   ]
  },
  {
   "cell_type": "code",
   "execution_count": 9,
   "id": "cb0777c3",
   "metadata": {
    "execution": {
     "iopub.execute_input": "2023-02-27T12:58:22.782661Z",
     "iopub.status.busy": "2023-02-27T12:58:22.781084Z",
     "iopub.status.idle": "2023-02-27T12:58:22.790661Z",
     "shell.execute_reply": "2023-02-27T12:58:22.789710Z"
    }
   },
   "outputs": [
    {
     "data": {
      "text/plain": [
       "Batch(\n",
       "    a: tensor([[-1.5544, -0.3811, -0.2430],\n",
       "               [-0.2267, -1.1976,  1.8848]]),\n",
       "    x: Batch(\n",
       "           c: tensor([[ 0.1309, -0.0276, -0.0228,  1.7603],\n",
       "                      [-0.4303,  0.6171, -0.7754, -0.6983],\n",
       "                      [-2.3598, -0.5060,  0.8833,  0.7631]]),\n",
       "       ),\n",
       ")"
      ]
     },
     "execution_count": 9,
     "metadata": {},
     "output_type": "execute_result"
    }
   ],
   "source": [
    "b"
   ]
  },
  {
   "cell_type": "code",
   "execution_count": 10,
   "id": "43ef8ea3",
   "metadata": {
    "execution": {
     "iopub.execute_input": "2023-02-27T12:58:22.794653Z",
     "iopub.status.busy": "2023-02-27T12:58:22.794170Z",
     "iopub.status.idle": "2023-02-27T12:58:22.801162Z",
     "shell.execute_reply": "2023-02-27T12:58:22.800042Z"
    }
   },
   "outputs": [
    {
     "data": {
      "text/plain": [
       "tensor([[-1.5544, -0.3811, -0.2430],\n",
       "        [-0.2267, -1.1976,  1.8848]])"
      ]
     },
     "execution_count": 10,
     "metadata": {},
     "output_type": "execute_result"
    }
   ],
   "source": [
    "b.a"
   ]
  },
  {
   "cell_type": "code",
   "execution_count": 11,
   "id": "b785ab72",
   "metadata": {
    "execution": {
     "iopub.execute_input": "2023-02-27T12:58:22.804455Z",
     "iopub.status.busy": "2023-02-27T12:58:22.804143Z",
     "iopub.status.idle": "2023-02-27T12:58:28.402892Z",
     "shell.execute_reply": "2023-02-27T12:58:28.401959Z"
    }
   },
   "outputs": [
    {
     "name": "stdout",
     "output_type": "stream",
     "text": [
      "68.9 ns ± 0.83 ns per loop (mean ± std. dev. of 7 runs, 10,000,000 loops each)\n"
     ]
    }
   ],
   "source": [
    "%timeit b.a"
   ]
  },
  {
   "cell_type": "code",
   "execution_count": 12,
   "id": "ad54dc69",
   "metadata": {
    "execution": {
     "iopub.execute_input": "2023-02-27T12:58:28.406800Z",
     "iopub.status.busy": "2023-02-27T12:58:28.406318Z",
     "iopub.status.idle": "2023-02-27T12:58:28.414945Z",
     "shell.execute_reply": "2023-02-27T12:58:28.413979Z"
    }
   },
   "outputs": [
    {
     "data": {
      "text/plain": [
       "Batch(\n",
       "    a: tensor([[-1.2311, -1.0229, -0.2293],\n",
       "               [ 0.3359, -0.6618, -0.9775]]),\n",
       "    x: Batch(\n",
       "           c: tensor([[ 0.1309, -0.0276, -0.0228,  1.7603],\n",
       "                      [-0.4303,  0.6171, -0.7754, -0.6983],\n",
       "                      [-2.3598, -0.5060,  0.8833,  0.7631]]),\n",
       "       ),\n",
       ")"
      ]
     },
     "execution_count": 12,
     "metadata": {},
     "output_type": "execute_result"
    }
   ],
   "source": [
    "new_value = torch.randn(2, 3)\n",
    "b.a = new_value\n",
    "\n",
    "b"
   ]
  },
  {
   "cell_type": "code",
   "execution_count": 13,
   "id": "29b1d0bf",
   "metadata": {
    "execution": {
     "iopub.execute_input": "2023-02-27T12:58:28.420577Z",
     "iopub.status.busy": "2023-02-27T12:58:28.420225Z",
     "iopub.status.idle": "2023-02-27T12:58:33.527012Z",
     "shell.execute_reply": "2023-02-27T12:58:33.525707Z"
    }
   },
   "outputs": [
    {
     "name": "stdout",
     "output_type": "stream",
     "text": [
      "630 ns ± 13.6 ns per loop (mean ± std. dev. of 7 runs, 1,000,000 loops each)\n"
     ]
    }
   ],
   "source": [
    "%timeit b.a = new_value"
   ]
  },
  {
   "cell_type": "markdown",
   "id": "b61ad1d0",
   "metadata": {},
   "source": [
    "## Initialization"
   ]
  },
  {
   "cell_type": "markdown",
   "id": "d70f0d54",
   "metadata": {},
   "source": [
    "### TreeValue's Initialization"
   ]
  },
  {
   "cell_type": "code",
   "execution_count": 14,
   "id": "d32a679b",
   "metadata": {
    "execution": {
     "iopub.execute_input": "2023-02-27T12:58:33.530672Z",
     "iopub.status.busy": "2023-02-27T12:58:33.530363Z",
     "iopub.status.idle": "2023-02-27T12:58:42.681748Z",
     "shell.execute_reply": "2023-02-27T12:58:42.680662Z"
    }
   },
   "outputs": [
    {
     "name": "stdout",
     "output_type": "stream",
     "text": [
      "1.12 µs ± 11.3 ns per loop (mean ± std. dev. of 7 runs, 1,000,000 loops each)\n"
     ]
    }
   ],
   "source": [
    "%timeit FastTreeValue(_TREE_DATA_1)"
   ]
  },
  {
   "cell_type": "markdown",
   "id": "24f3707b",
   "metadata": {},
   "source": [
    "### Tianshou Batch's Initialization"
   ]
  },
  {
   "cell_type": "code",
   "execution_count": 15,
   "id": "ac3958df",
   "metadata": {
    "execution": {
     "iopub.execute_input": "2023-02-27T12:58:42.685796Z",
     "iopub.status.busy": "2023-02-27T12:58:42.685324Z",
     "iopub.status.idle": "2023-02-27T12:58:54.655743Z",
     "shell.execute_reply": "2023-02-27T12:58:54.654698Z"
    }
   },
   "outputs": [
    {
     "name": "stdout",
     "output_type": "stream",
     "text": [
      "14.7 µs ± 147 ns per loop (mean ± std. dev. of 7 runs, 100,000 loops each)\n"
     ]
    }
   ],
   "source": [
    "%timeit Batch(**_TREE_DATA_1)"
   ]
  },
  {
   "cell_type": "markdown",
   "id": "1ab82e2d",
   "metadata": {},
   "source": [
    "## Deep Copy Operation"
   ]
  },
  {
   "cell_type": "code",
   "execution_count": 16,
   "id": "210a9442",
   "metadata": {
    "execution": {
     "iopub.execute_input": "2023-02-27T12:58:54.659204Z",
     "iopub.status.busy": "2023-02-27T12:58:54.658759Z",
     "iopub.status.idle": "2023-02-27T12:58:54.663473Z",
     "shell.execute_reply": "2023-02-27T12:58:54.662276Z"
    }
   },
   "outputs": [],
   "source": [
    "import copy"
   ]
  },
  {
   "cell_type": "markdown",
   "id": "5a736274",
   "metadata": {},
   "source": [
    "### Deep Copy of TreeValue"
   ]
  },
  {
   "cell_type": "code",
   "execution_count": 17,
   "id": "f9bcadd6",
   "metadata": {
    "execution": {
     "iopub.execute_input": "2023-02-27T12:58:54.666593Z",
     "iopub.status.busy": "2023-02-27T12:58:54.666122Z",
     "iopub.status.idle": "2023-02-27T12:58:57.068014Z",
     "shell.execute_reply": "2023-02-27T12:58:57.066926Z"
    }
   },
   "outputs": [
    {
     "name": "stdout",
     "output_type": "stream",
     "text": [
      "294 µs ± 6.51 µs per loop (mean ± std. dev. of 7 runs, 1,000 loops each)\n"
     ]
    }
   ],
   "source": [
    "t3 = FastTreeValue(_TREE_DATA_3)\n",
    "%timeit copy.deepcopy(t3)"
   ]
  },
  {
   "cell_type": "markdown",
   "id": "bf8be7ea",
   "metadata": {},
   "source": [
    "### Deep Copy of Tianshou Batch"
   ]
  },
  {
   "cell_type": "code",
   "execution_count": 18,
   "id": "91998e6f",
   "metadata": {
    "execution": {
     "iopub.execute_input": "2023-02-27T12:58:57.072166Z",
     "iopub.status.busy": "2023-02-27T12:58:57.071888Z",
     "iopub.status.idle": "2023-02-27T12:58:59.443649Z",
     "shell.execute_reply": "2023-02-27T12:58:59.441902Z"
    }
   },
   "outputs": [
    {
     "name": "stdout",
     "output_type": "stream",
     "text": [
      "293 µs ± 4.48 µs per loop (mean ± std. dev. of 7 runs, 1,000 loops each)\n"
     ]
    }
   ],
   "source": [
    "b3 = Batch(**_TREE_DATA_3)\n",
    "%timeit copy.deepcopy(b3)"
   ]
  },
  {
   "cell_type": "markdown",
   "id": "223162fb",
   "metadata": {},
   "source": [
    "## Stack, Concat and Split Operation"
   ]
  },
  {
   "cell_type": "markdown",
   "id": "85fa4a73",
   "metadata": {},
   "source": [
    "### Performance of TreeValue"
   ]
  },
  {
   "cell_type": "code",
   "execution_count": 19,
   "id": "a0c2b697",
   "metadata": {
    "execution": {
     "iopub.execute_input": "2023-02-27T12:58:59.447422Z",
     "iopub.status.busy": "2023-02-27T12:58:59.447110Z",
     "iopub.status.idle": "2023-02-27T12:58:59.453247Z",
     "shell.execute_reply": "2023-02-27T12:58:59.452296Z"
    }
   },
   "outputs": [],
   "source": [
    "trees = [FastTreeValue(_TREE_DATA_2) for _ in range(8)]"
   ]
  },
  {
   "cell_type": "code",
   "execution_count": 20,
   "id": "017ea5a5",
   "metadata": {
    "execution": {
     "iopub.execute_input": "2023-02-27T12:58:59.456708Z",
     "iopub.status.busy": "2023-02-27T12:58:59.456139Z",
     "iopub.status.idle": "2023-02-27T12:58:59.467355Z",
     "shell.execute_reply": "2023-02-27T12:58:59.466142Z"
    }
   },
   "outputs": [
    {
     "data": {
      "text/plain": [
       "<FastTreeValue 0x7f6ae88f6040>\n",
       "├── 'a' --> tensor([[[-1.5544, -0.3811, -0.2430],\n",
       "│                    [-0.2267, -1.1976,  1.8848]],\n",
       "│           \n",
       "│                   [[-1.5544, -0.3811, -0.2430],\n",
       "│                    [-0.2267, -1.1976,  1.8848]],\n",
       "│           \n",
       "│                   [[-1.5544, -0.3811, -0.2430],\n",
       "│                    [-0.2267, -1.1976,  1.8848]],\n",
       "│           \n",
       "│                   [[-1.5544, -0.3811, -0.2430],\n",
       "│                    [-0.2267, -1.1976,  1.8848]],\n",
       "│           \n",
       "│                   [[-1.5544, -0.3811, -0.2430],\n",
       "│                    [-0.2267, -1.1976,  1.8848]],\n",
       "│           \n",
       "│                   [[-1.5544, -0.3811, -0.2430],\n",
       "│                    [-0.2267, -1.1976,  1.8848]],\n",
       "│           \n",
       "│                   [[-1.5544, -0.3811, -0.2430],\n",
       "│                    [-0.2267, -1.1976,  1.8848]],\n",
       "│           \n",
       "│                   [[-1.5544, -0.3811, -0.2430],\n",
       "│                    [-0.2267, -1.1976,  1.8848]]])\n",
       "└── 'x' --> <FastTreeValue 0x7f6ae1cab4c0>\n",
       "    └── 'c' --> tensor([[[ 0.1309, -0.0276, -0.0228,  1.7603],\n",
       "                         [-0.4303,  0.6171, -0.7754, -0.6983],\n",
       "                         [-2.3598, -0.5060,  0.8833,  0.7631]],\n",
       "                \n",
       "                        [[ 0.1309, -0.0276, -0.0228,  1.7603],\n",
       "                         [-0.4303,  0.6171, -0.7754, -0.6983],\n",
       "                         [-2.3598, -0.5060,  0.8833,  0.7631]],\n",
       "                \n",
       "                        [[ 0.1309, -0.0276, -0.0228,  1.7603],\n",
       "                         [-0.4303,  0.6171, -0.7754, -0.6983],\n",
       "                         [-2.3598, -0.5060,  0.8833,  0.7631]],\n",
       "                \n",
       "                        [[ 0.1309, -0.0276, -0.0228,  1.7603],\n",
       "                         [-0.4303,  0.6171, -0.7754, -0.6983],\n",
       "                         [-2.3598, -0.5060,  0.8833,  0.7631]],\n",
       "                \n",
       "                        [[ 0.1309, -0.0276, -0.0228,  1.7603],\n",
       "                         [-0.4303,  0.6171, -0.7754, -0.6983],\n",
       "                         [-2.3598, -0.5060,  0.8833,  0.7631]],\n",
       "                \n",
       "                        [[ 0.1309, -0.0276, -0.0228,  1.7603],\n",
       "                         [-0.4303,  0.6171, -0.7754, -0.6983],\n",
       "                         [-2.3598, -0.5060,  0.8833,  0.7631]],\n",
       "                \n",
       "                        [[ 0.1309, -0.0276, -0.0228,  1.7603],\n",
       "                         [-0.4303,  0.6171, -0.7754, -0.6983],\n",
       "                         [-2.3598, -0.5060,  0.8833,  0.7631]],\n",
       "                \n",
       "                        [[ 0.1309, -0.0276, -0.0228,  1.7603],\n",
       "                         [-0.4303,  0.6171, -0.7754, -0.6983],\n",
       "                         [-2.3598, -0.5060,  0.8833,  0.7631]]])"
      ]
     },
     "execution_count": 20,
     "metadata": {},
     "output_type": "execute_result"
    }
   ],
   "source": [
    "t_stack = FastTreeValue.func(subside=True)(torch.stack)\n",
    "\n",
    "t_stack(trees)"
   ]
  },
  {
   "cell_type": "code",
   "execution_count": 21,
   "id": "f8b3f415",
   "metadata": {
    "execution": {
     "iopub.execute_input": "2023-02-27T12:58:59.470851Z",
     "iopub.status.busy": "2023-02-27T12:58:59.470261Z",
     "iopub.status.idle": "2023-02-27T12:59:03.144904Z",
     "shell.execute_reply": "2023-02-27T12:59:03.143827Z"
    }
   },
   "outputs": [
    {
     "name": "stdout",
     "output_type": "stream",
     "text": [
      "44.9 µs ± 907 ns per loop (mean ± std. dev. of 7 runs, 10,000 loops each)\n"
     ]
    }
   ],
   "source": [
    "%timeit t_stack(trees)"
   ]
  },
  {
   "cell_type": "code",
   "execution_count": 22,
   "id": "94b56771",
   "metadata": {
    "execution": {
     "iopub.execute_input": "2023-02-27T12:59:03.148382Z",
     "iopub.status.busy": "2023-02-27T12:59:03.148079Z",
     "iopub.status.idle": "2023-02-27T12:59:03.157996Z",
     "shell.execute_reply": "2023-02-27T12:59:03.156997Z"
    }
   },
   "outputs": [
    {
     "data": {
      "text/plain": [
       "<FastTreeValue 0x7f6b8c08c130>\n",
       "├── 'a' --> tensor([[-1.5544, -0.3811, -0.2430],\n",
       "│                   [-0.2267, -1.1976,  1.8848],\n",
       "│                   [-1.5544, -0.3811, -0.2430],\n",
       "│                   [-0.2267, -1.1976,  1.8848],\n",
       "│                   [-1.5544, -0.3811, -0.2430],\n",
       "│                   [-0.2267, -1.1976,  1.8848],\n",
       "│                   [-1.5544, -0.3811, -0.2430],\n",
       "│                   [-0.2267, -1.1976,  1.8848],\n",
       "│                   [-1.5544, -0.3811, -0.2430],\n",
       "│                   [-0.2267, -1.1976,  1.8848],\n",
       "│                   [-1.5544, -0.3811, -0.2430],\n",
       "│                   [-0.2267, -1.1976,  1.8848],\n",
       "│                   [-1.5544, -0.3811, -0.2430],\n",
       "│                   [-0.2267, -1.1976,  1.8848],\n",
       "│                   [-1.5544, -0.3811, -0.2430],\n",
       "│                   [-0.2267, -1.1976,  1.8848]])\n",
       "└── 'x' --> <FastTreeValue 0x7f6ae1cab340>\n",
       "    └── 'c' --> tensor([[ 0.1309, -0.0276, -0.0228,  1.7603],\n",
       "                        [-0.4303,  0.6171, -0.7754, -0.6983],\n",
       "                        [-2.3598, -0.5060,  0.8833,  0.7631],\n",
       "                        [ 0.1309, -0.0276, -0.0228,  1.7603],\n",
       "                        [-0.4303,  0.6171, -0.7754, -0.6983],\n",
       "                        [-2.3598, -0.5060,  0.8833,  0.7631],\n",
       "                        [ 0.1309, -0.0276, -0.0228,  1.7603],\n",
       "                        [-0.4303,  0.6171, -0.7754, -0.6983],\n",
       "                        [-2.3598, -0.5060,  0.8833,  0.7631],\n",
       "                        [ 0.1309, -0.0276, -0.0228,  1.7603],\n",
       "                        [-0.4303,  0.6171, -0.7754, -0.6983],\n",
       "                        [-2.3598, -0.5060,  0.8833,  0.7631],\n",
       "                        [ 0.1309, -0.0276, -0.0228,  1.7603],\n",
       "                        [-0.4303,  0.6171, -0.7754, -0.6983],\n",
       "                        [-2.3598, -0.5060,  0.8833,  0.7631],\n",
       "                        [ 0.1309, -0.0276, -0.0228,  1.7603],\n",
       "                        [-0.4303,  0.6171, -0.7754, -0.6983],\n",
       "                        [-2.3598, -0.5060,  0.8833,  0.7631],\n",
       "                        [ 0.1309, -0.0276, -0.0228,  1.7603],\n",
       "                        [-0.4303,  0.6171, -0.7754, -0.6983],\n",
       "                        [-2.3598, -0.5060,  0.8833,  0.7631],\n",
       "                        [ 0.1309, -0.0276, -0.0228,  1.7603],\n",
       "                        [-0.4303,  0.6171, -0.7754, -0.6983],\n",
       "                        [-2.3598, -0.5060,  0.8833,  0.7631]])"
      ]
     },
     "execution_count": 22,
     "metadata": {},
     "output_type": "execute_result"
    }
   ],
   "source": [
    "t_cat = FastTreeValue.func(subside=True)(torch.cat)\n",
    "\n",
    "t_cat(trees)"
   ]
  },
  {
   "cell_type": "code",
   "execution_count": 23,
   "id": "5e9c06a6",
   "metadata": {
    "execution": {
     "iopub.execute_input": "2023-02-27T12:59:03.161659Z",
     "iopub.status.busy": "2023-02-27T12:59:03.161356Z",
     "iopub.status.idle": "2023-02-27T12:59:06.480866Z",
     "shell.execute_reply": "2023-02-27T12:59:06.479706Z"
    }
   },
   "outputs": [
    {
     "name": "stdout",
     "output_type": "stream",
     "text": [
      "40.8 µs ± 552 ns per loop (mean ± std. dev. of 7 runs, 10,000 loops each)\n"
     ]
    }
   ],
   "source": [
    "%timeit t_cat(trees)"
   ]
  },
  {
   "cell_type": "code",
   "execution_count": 24,
   "id": "a3ab5c8f",
   "metadata": {
    "execution": {
     "iopub.execute_input": "2023-02-27T12:59:06.484526Z",
     "iopub.status.busy": "2023-02-27T12:59:06.484096Z",
     "iopub.status.idle": "2023-02-27T12:59:13.021679Z",
     "shell.execute_reply": "2023-02-27T12:59:13.020520Z"
    }
   },
   "outputs": [
    {
     "name": "stdout",
     "output_type": "stream",
     "text": [
      "80.9 µs ± 2.34 µs per loop (mean ± std. dev. of 7 runs, 10,000 loops each)\n"
     ]
    }
   ],
   "source": [
    "t_split = FastTreeValue.func(rise=True)(torch.split)\n",
    "tree = FastTreeValue({\n",
    "    'obs': torch.randn(8, 4, 84, 84),\n",
    "    'action': torch.randint(0, 6, size=(8, 1,)),\n",
    "    'reward': torch.rand(8, 1),\n",
    "})\n",
    "\n",
    "%timeit t_split(tree, 1)"
   ]
  },
  {
   "cell_type": "markdown",
   "id": "31c3ec0b",
   "metadata": {},
   "source": [
    "### Performance of Tianshou Batch"
   ]
  },
  {
   "cell_type": "code",
   "execution_count": 25,
   "id": "9ead828a",
   "metadata": {
    "execution": {
     "iopub.execute_input": "2023-02-27T12:59:13.025627Z",
     "iopub.status.busy": "2023-02-27T12:59:13.024981Z",
     "iopub.status.idle": "2023-02-27T12:59:13.035592Z",
     "shell.execute_reply": "2023-02-27T12:59:13.034668Z"
    }
   },
   "outputs": [
    {
     "data": {
      "text/plain": [
       "Batch(\n",
       "    x: Batch(\n",
       "           c: tensor([[[ 0.1309, -0.0276, -0.0228,  1.7603],\n",
       "                       [-0.4303,  0.6171, -0.7754, -0.6983],\n",
       "                       [-2.3598, -0.5060,  0.8833,  0.7631]],\n",
       "              \n",
       "                      [[ 0.1309, -0.0276, -0.0228,  1.7603],\n",
       "                       [-0.4303,  0.6171, -0.7754, -0.6983],\n",
       "                       [-2.3598, -0.5060,  0.8833,  0.7631]],\n",
       "              \n",
       "                      [[ 0.1309, -0.0276, -0.0228,  1.7603],\n",
       "                       [-0.4303,  0.6171, -0.7754, -0.6983],\n",
       "                       [-2.3598, -0.5060,  0.8833,  0.7631]],\n",
       "              \n",
       "                      [[ 0.1309, -0.0276, -0.0228,  1.7603],\n",
       "                       [-0.4303,  0.6171, -0.7754, -0.6983],\n",
       "                       [-2.3598, -0.5060,  0.8833,  0.7631]],\n",
       "              \n",
       "                      [[ 0.1309, -0.0276, -0.0228,  1.7603],\n",
       "                       [-0.4303,  0.6171, -0.7754, -0.6983],\n",
       "                       [-2.3598, -0.5060,  0.8833,  0.7631]],\n",
       "              \n",
       "                      [[ 0.1309, -0.0276, -0.0228,  1.7603],\n",
       "                       [-0.4303,  0.6171, -0.7754, -0.6983],\n",
       "                       [-2.3598, -0.5060,  0.8833,  0.7631]],\n",
       "              \n",
       "                      [[ 0.1309, -0.0276, -0.0228,  1.7603],\n",
       "                       [-0.4303,  0.6171, -0.7754, -0.6983],\n",
       "                       [-2.3598, -0.5060,  0.8833,  0.7631]],\n",
       "              \n",
       "                      [[ 0.1309, -0.0276, -0.0228,  1.7603],\n",
       "                       [-0.4303,  0.6171, -0.7754, -0.6983],\n",
       "                       [-2.3598, -0.5060,  0.8833,  0.7631]]]),\n",
       "       ),\n",
       "    a: tensor([[[-1.5544, -0.3811, -0.2430],\n",
       "                [-0.2267, -1.1976,  1.8848]],\n",
       "       \n",
       "               [[-1.5544, -0.3811, -0.2430],\n",
       "                [-0.2267, -1.1976,  1.8848]],\n",
       "       \n",
       "               [[-1.5544, -0.3811, -0.2430],\n",
       "                [-0.2267, -1.1976,  1.8848]],\n",
       "       \n",
       "               [[-1.5544, -0.3811, -0.2430],\n",
       "                [-0.2267, -1.1976,  1.8848]],\n",
       "       \n",
       "               [[-1.5544, -0.3811, -0.2430],\n",
       "                [-0.2267, -1.1976,  1.8848]],\n",
       "       \n",
       "               [[-1.5544, -0.3811, -0.2430],\n",
       "                [-0.2267, -1.1976,  1.8848]],\n",
       "       \n",
       "               [[-1.5544, -0.3811, -0.2430],\n",
       "                [-0.2267, -1.1976,  1.8848]],\n",
       "       \n",
       "               [[-1.5544, -0.3811, -0.2430],\n",
       "                [-0.2267, -1.1976,  1.8848]]]),\n",
       ")"
      ]
     },
     "execution_count": 25,
     "metadata": {},
     "output_type": "execute_result"
    }
   ],
   "source": [
    "batches = [Batch(**_TREE_DATA_2) for _ in range(8)]\n",
    "\n",
    "Batch.stack(batches)"
   ]
  },
  {
   "cell_type": "code",
   "execution_count": 26,
   "id": "ec9037a3",
   "metadata": {
    "execution": {
     "iopub.execute_input": "2023-02-27T12:59:13.039105Z",
     "iopub.status.busy": "2023-02-27T12:59:13.038543Z",
     "iopub.status.idle": "2023-02-27T12:59:21.244074Z",
     "shell.execute_reply": "2023-02-27T12:59:21.242993Z"
    }
   },
   "outputs": [
    {
     "name": "stdout",
     "output_type": "stream",
     "text": [
      "101 µs ± 1.14 µs per loop (mean ± std. dev. of 7 runs, 10,000 loops each)\n"
     ]
    }
   ],
   "source": [
    "%timeit Batch.stack(batches)"
   ]
  },
  {
   "cell_type": "code",
   "execution_count": 27,
   "id": "cb8ab77e",
   "metadata": {
    "execution": {
     "iopub.execute_input": "2023-02-27T12:59:21.247748Z",
     "iopub.status.busy": "2023-02-27T12:59:21.247410Z",
     "iopub.status.idle": "2023-02-27T12:59:21.260171Z",
     "shell.execute_reply": "2023-02-27T12:59:21.256687Z"
    }
   },
   "outputs": [
    {
     "data": {
      "text/plain": [
       "Batch(\n",
       "    x: Batch(\n",
       "           c: tensor([[ 0.1309, -0.0276, -0.0228,  1.7603],\n",
       "                      [-0.4303,  0.6171, -0.7754, -0.6983],\n",
       "                      [-2.3598, -0.5060,  0.8833,  0.7631],\n",
       "                      [ 0.1309, -0.0276, -0.0228,  1.7603],\n",
       "                      [-0.4303,  0.6171, -0.7754, -0.6983],\n",
       "                      [-2.3598, -0.5060,  0.8833,  0.7631],\n",
       "                      [ 0.1309, -0.0276, -0.0228,  1.7603],\n",
       "                      [-0.4303,  0.6171, -0.7754, -0.6983],\n",
       "                      [-2.3598, -0.5060,  0.8833,  0.7631],\n",
       "                      [ 0.1309, -0.0276, -0.0228,  1.7603],\n",
       "                      [-0.4303,  0.6171, -0.7754, -0.6983],\n",
       "                      [-2.3598, -0.5060,  0.8833,  0.7631],\n",
       "                      [ 0.1309, -0.0276, -0.0228,  1.7603],\n",
       "                      [-0.4303,  0.6171, -0.7754, -0.6983],\n",
       "                      [-2.3598, -0.5060,  0.8833,  0.7631],\n",
       "                      [ 0.1309, -0.0276, -0.0228,  1.7603],\n",
       "                      [-0.4303,  0.6171, -0.7754, -0.6983],\n",
       "                      [-2.3598, -0.5060,  0.8833,  0.7631],\n",
       "                      [ 0.1309, -0.0276, -0.0228,  1.7603],\n",
       "                      [-0.4303,  0.6171, -0.7754, -0.6983],\n",
       "                      [-2.3598, -0.5060,  0.8833,  0.7631],\n",
       "                      [ 0.1309, -0.0276, -0.0228,  1.7603],\n",
       "                      [-0.4303,  0.6171, -0.7754, -0.6983],\n",
       "                      [-2.3598, -0.5060,  0.8833,  0.7631]]),\n",
       "       ),\n",
       "    a: tensor([[-1.5544, -0.3811, -0.2430],\n",
       "               [-0.2267, -1.1976,  1.8848],\n",
       "               [-1.5544, -0.3811, -0.2430],\n",
       "               [-0.2267, -1.1976,  1.8848],\n",
       "               [-1.5544, -0.3811, -0.2430],\n",
       "               [-0.2267, -1.1976,  1.8848],\n",
       "               [-1.5544, -0.3811, -0.2430],\n",
       "               [-0.2267, -1.1976,  1.8848],\n",
       "               [-1.5544, -0.3811, -0.2430],\n",
       "               [-0.2267, -1.1976,  1.8848],\n",
       "               [-1.5544, -0.3811, -0.2430],\n",
       "               [-0.2267, -1.1976,  1.8848],\n",
       "               [-1.5544, -0.3811, -0.2430],\n",
       "               [-0.2267, -1.1976,  1.8848],\n",
       "               [-1.5544, -0.3811, -0.2430],\n",
       "               [-0.2267, -1.1976,  1.8848]]),\n",
       ")"
      ]
     },
     "execution_count": 27,
     "metadata": {},
     "output_type": "execute_result"
    }
   ],
   "source": [
    "Batch.cat(batches)"
   ]
  },
  {
   "cell_type": "code",
   "execution_count": 28,
   "id": "18dfb045",
   "metadata": {
    "execution": {
     "iopub.execute_input": "2023-02-27T12:59:21.264015Z",
     "iopub.status.busy": "2023-02-27T12:59:21.263477Z",
     "iopub.status.idle": "2023-02-27T12:59:22.820481Z",
     "shell.execute_reply": "2023-02-27T12:59:22.819420Z"
    }
   },
   "outputs": [
    {
     "name": "stdout",
     "output_type": "stream",
     "text": [
      "189 µs ± 3.42 µs per loop (mean ± std. dev. of 7 runs, 1,000 loops each)\n"
     ]
    }
   ],
   "source": [
    "%timeit Batch.cat(batches)"
   ]
  },
  {
   "cell_type": "code",
   "execution_count": 29,
   "id": "c6688e51",
   "metadata": {
    "execution": {
     "iopub.execute_input": "2023-02-27T12:59:22.824096Z",
     "iopub.status.busy": "2023-02-27T12:59:22.823799Z",
     "iopub.status.idle": "2023-02-27T12:59:27.873178Z",
     "shell.execute_reply": "2023-02-27T12:59:27.872163Z"
    }
   },
   "outputs": [
    {
     "name": "stdout",
     "output_type": "stream",
     "text": [
      "620 µs ± 9.09 µs per loop (mean ± std. dev. of 7 runs, 1,000 loops each)\n"
     ]
    }
   ],
   "source": [
    "batch = Batch({\n",
    "    'obs': torch.randn(8, 4, 84, 84),\n",
    "    'action': torch.randint(0, 6, size=(8, 1,)),\n",
    "    'reward': torch.rand(8, 1)}\n",
    ")\n",
    "\n",
    "%timeit list(Batch.split(batch, 1, shuffle=False, merge_last=True))"
   ]
  },
  {
   "cell_type": "code",
   "execution_count": null,
   "id": "2539fbd9",
   "metadata": {},
   "outputs": [],
   "source": []
  }
 ],
 "metadata": {
  "kernelspec": {
   "display_name": "Python 3 (ipykernel)",
   "language": "python",
   "name": "python3"
  },
  "language_info": {
   "codemirror_mode": {
    "name": "ipython",
    "version": 3
   },
   "file_extension": ".py",
   "mimetype": "text/x-python",
   "name": "python",
   "nbconvert_exporter": "python",
   "pygments_lexer": "ipython3",
   "version": "3.8.16"
  }
 },
 "nbformat": 4,
 "nbformat_minor": 5
}
