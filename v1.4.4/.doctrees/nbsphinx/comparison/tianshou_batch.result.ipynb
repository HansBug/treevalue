{
 "cells": [
  {
   "cell_type": "markdown",
   "id": "9d39d946",
   "metadata": {},
   "source": [
    "# Comparison Between TreeValue and Tianshou Batch"
   ]
  },
  {
   "cell_type": "markdown",
   "id": "3c6db2d4",
   "metadata": {},
   "source": [
    "In this section, we will take a look at the feature and performance of the [Tianshou Batch](https://github.com/thu-ml/tianshou) library, which is developed by Tsinghua Machine Learning Group."
   ]
  },
  {
   "cell_type": "markdown",
   "id": "069361b0",
   "metadata": {},
   "source": [
    "Before starting the comparison, let us define some thing."
   ]
  },
  {
   "cell_type": "code",
   "execution_count": 1,
   "id": "06fc8d26",
   "metadata": {
    "execution": {
     "iopub.execute_input": "2023-08-10T14:12:03.419325Z",
     "iopub.status.busy": "2023-08-10T14:12:03.418721Z",
     "iopub.status.idle": "2023-08-10T14:12:04.817149Z",
     "shell.execute_reply": "2023-08-10T14:12:04.815843Z"
    }
   },
   "outputs": [],
   "source": [
    "import torch \n",
    "\n",
    "_TREE_DATA_1 = {'a': 1, 'b': 2, 'x': {'c': 3, 'd': 4}}\n",
    "_TREE_DATA_2 = {\n",
    "    'a': torch.randn(2, 3), \n",
    "    'x': {\n",
    "        'c': torch.randn(3, 4)\n",
    "    },\n",
    "}\n",
    "_TREE_DATA_3 = {\n",
    "    'obs': torch.randn(4, 84, 84),\n",
    "    'action': torch.randint(0, 6, size=(1,)),\n",
    "    'reward': torch.rand(1),\n",
    "}"
   ]
  },
  {
   "cell_type": "markdown",
   "id": "83461b25",
   "metadata": {},
   "source": [
    "## Read and Write Operation"
   ]
  },
  {
   "cell_type": "markdown",
   "id": "067b3f73",
   "metadata": {},
   "source": [
    "Reading and writing are the two most common operations in the tree data structure based on the data model (TreeValue and Tianshou Batch both belong to this type), so this section will compare the reading and writing performance of these two libraries."
   ]
  },
  {
   "cell_type": "markdown",
   "id": "5d09a5b7",
   "metadata": {},
   "source": [
    "### TreeValue's Get and Set"
   ]
  },
  {
   "cell_type": "code",
   "execution_count": 2,
   "id": "9519c4bb",
   "metadata": {
    "execution": {
     "iopub.execute_input": "2023-08-10T14:12:04.822057Z",
     "iopub.status.busy": "2023-08-10T14:12:04.821455Z",
     "iopub.status.idle": "2023-08-10T14:12:04.850612Z",
     "shell.execute_reply": "2023-08-10T14:12:04.849911Z"
    }
   },
   "outputs": [],
   "source": [
    "from treevalue import FastTreeValue\n",
    "\n",
    "t = FastTreeValue(_TREE_DATA_2)"
   ]
  },
  {
   "cell_type": "code",
   "execution_count": 3,
   "id": "11c37677",
   "metadata": {
    "execution": {
     "iopub.execute_input": "2023-08-10T14:12:04.854376Z",
     "iopub.status.busy": "2023-08-10T14:12:04.853916Z",
     "iopub.status.idle": "2023-08-10T14:12:04.862587Z",
     "shell.execute_reply": "2023-08-10T14:12:04.861892Z"
    }
   },
   "outputs": [
    {
     "data": {
      "text/plain": [
       "<FastTreeValue 0x7fe09405ac40>\n",
       "├── 'a' --> tensor([[ 0.1270, -1.2209, -0.3810],\n",
       "│                   [-0.0637,  2.0873, -0.3465]])\n",
       "└── 'x' --> <FastTreeValue 0x7fe09405a8e0>\n",
       "    └── 'c' --> tensor([[ 1.1390, -2.2182,  0.1576,  0.1473],\n",
       "                        [-0.4362,  0.9242,  0.4162,  0.0590],\n",
       "                        [ 0.6509,  0.4018, -0.5972,  0.9638]])"
      ]
     },
     "execution_count": 3,
     "metadata": {},
     "output_type": "execute_result"
    }
   ],
   "source": [
    "t"
   ]
  },
  {
   "cell_type": "code",
   "execution_count": 4,
   "id": "fd70b0b9",
   "metadata": {
    "execution": {
     "iopub.execute_input": "2023-08-10T14:12:04.866224Z",
     "iopub.status.busy": "2023-08-10T14:12:04.865856Z",
     "iopub.status.idle": "2023-08-10T14:12:04.870882Z",
     "shell.execute_reply": "2023-08-10T14:12:04.870186Z"
    }
   },
   "outputs": [
    {
     "data": {
      "text/plain": [
       "tensor([[ 0.1270, -1.2209, -0.3810],\n",
       "        [-0.0637,  2.0873, -0.3465]])"
      ]
     },
     "execution_count": 4,
     "metadata": {},
     "output_type": "execute_result"
    }
   ],
   "source": [
    "t.a"
   ]
  },
  {
   "cell_type": "code",
   "execution_count": 5,
   "id": "c18197bd",
   "metadata": {
    "execution": {
     "iopub.execute_input": "2023-08-10T14:12:04.874585Z",
     "iopub.status.busy": "2023-08-10T14:12:04.874217Z",
     "iopub.status.idle": "2023-08-10T14:12:10.614154Z",
     "shell.execute_reply": "2023-08-10T14:12:10.613402Z"
    }
   },
   "outputs": [
    {
     "name": "stdout",
     "output_type": "stream",
     "text": [
      "70.6 ns ± 0.0877 ns per loop (mean ± std. dev. of 7 runs, 10,000,000 loops each)\n"
     ]
    }
   ],
   "source": [
    "%timeit t.a"
   ]
  },
  {
   "cell_type": "code",
   "execution_count": 6,
   "id": "bd52f867",
   "metadata": {
    "execution": {
     "iopub.execute_input": "2023-08-10T14:12:10.618154Z",
     "iopub.status.busy": "2023-08-10T14:12:10.617665Z",
     "iopub.status.idle": "2023-08-10T14:12:10.624139Z",
     "shell.execute_reply": "2023-08-10T14:12:10.623435Z"
    }
   },
   "outputs": [
    {
     "data": {
      "text/plain": [
       "<FastTreeValue 0x7fe09405ac40>\n",
       "├── 'a' --> tensor([[ 1.4286, -1.9683,  0.7937],\n",
       "│                   [-1.7136,  1.3492, -1.8783]])\n",
       "└── 'x' --> <FastTreeValue 0x7fe09405a8e0>\n",
       "    └── 'c' --> tensor([[ 1.1390, -2.2182,  0.1576,  0.1473],\n",
       "                        [-0.4362,  0.9242,  0.4162,  0.0590],\n",
       "                        [ 0.6509,  0.4018, -0.5972,  0.9638]])"
      ]
     },
     "execution_count": 6,
     "metadata": {},
     "output_type": "execute_result"
    }
   ],
   "source": [
    "new_value = torch.randn(2, 3)\n",
    "t.a = new_value\n",
    "\n",
    "t"
   ]
  },
  {
   "cell_type": "code",
   "execution_count": 7,
   "id": "bbe04d1c",
   "metadata": {
    "execution": {
     "iopub.execute_input": "2023-08-10T14:12:10.627385Z",
     "iopub.status.busy": "2023-08-10T14:12:10.626931Z",
     "iopub.status.idle": "2023-08-10T14:12:16.432753Z",
     "shell.execute_reply": "2023-08-10T14:12:16.432027Z"
    }
   },
   "outputs": [
    {
     "name": "stdout",
     "output_type": "stream",
     "text": [
      "71.5 ns ± 0.0883 ns per loop (mean ± std. dev. of 7 runs, 10,000,000 loops each)\n"
     ]
    }
   ],
   "source": [
    "%timeit t.a = new_value"
   ]
  },
  {
   "cell_type": "markdown",
   "id": "48c49731",
   "metadata": {},
   "source": [
    "### Tianshou Batch's Get and Set"
   ]
  },
  {
   "cell_type": "code",
   "execution_count": 8,
   "id": "f1bb14c1",
   "metadata": {
    "execution": {
     "iopub.execute_input": "2023-08-10T14:12:16.436554Z",
     "iopub.status.busy": "2023-08-10T14:12:16.436063Z",
     "iopub.status.idle": "2023-08-10T14:12:16.820806Z",
     "shell.execute_reply": "2023-08-10T14:12:16.820021Z"
    }
   },
   "outputs": [],
   "source": [
    "from tianshou.data import Batch\n",
    "\n",
    "b = Batch(**_TREE_DATA_2)"
   ]
  },
  {
   "cell_type": "code",
   "execution_count": 9,
   "id": "cb0777c3",
   "metadata": {
    "execution": {
     "iopub.execute_input": "2023-08-10T14:12:16.824790Z",
     "iopub.status.busy": "2023-08-10T14:12:16.824257Z",
     "iopub.status.idle": "2023-08-10T14:12:16.831042Z",
     "shell.execute_reply": "2023-08-10T14:12:16.830326Z"
    }
   },
   "outputs": [
    {
     "data": {
      "text/plain": [
       "Batch(\n",
       "    a: tensor([[ 0.1270, -1.2209, -0.3810],\n",
       "               [-0.0637,  2.0873, -0.3465]]),\n",
       "    x: Batch(\n",
       "           c: tensor([[ 1.1390, -2.2182,  0.1576,  0.1473],\n",
       "                      [-0.4362,  0.9242,  0.4162,  0.0590],\n",
       "                      [ 0.6509,  0.4018, -0.5972,  0.9638]]),\n",
       "       ),\n",
       ")"
      ]
     },
     "execution_count": 9,
     "metadata": {},
     "output_type": "execute_result"
    }
   ],
   "source": [
    "b"
   ]
  },
  {
   "cell_type": "code",
   "execution_count": 10,
   "id": "43ef8ea3",
   "metadata": {
    "execution": {
     "iopub.execute_input": "2023-08-10T14:12:16.834447Z",
     "iopub.status.busy": "2023-08-10T14:12:16.833814Z",
     "iopub.status.idle": "2023-08-10T14:12:16.839048Z",
     "shell.execute_reply": "2023-08-10T14:12:16.838322Z"
    }
   },
   "outputs": [
    {
     "data": {
      "text/plain": [
       "tensor([[ 0.1270, -1.2209, -0.3810],\n",
       "        [-0.0637,  2.0873, -0.3465]])"
      ]
     },
     "execution_count": 10,
     "metadata": {},
     "output_type": "execute_result"
    }
   ],
   "source": [
    "b.a"
   ]
  },
  {
   "cell_type": "code",
   "execution_count": 11,
   "id": "b785ab72",
   "metadata": {
    "execution": {
     "iopub.execute_input": "2023-08-10T14:12:16.842302Z",
     "iopub.status.busy": "2023-08-10T14:12:16.841852Z",
     "iopub.status.idle": "2023-08-10T14:12:22.122400Z",
     "shell.execute_reply": "2023-08-10T14:12:22.121742Z"
    }
   },
   "outputs": [
    {
     "name": "stdout",
     "output_type": "stream",
     "text": [
      "65 ns ± 0.0589 ns per loop (mean ± std. dev. of 7 runs, 10,000,000 loops each)\n"
     ]
    }
   ],
   "source": [
    "%timeit b.a"
   ]
  },
  {
   "cell_type": "code",
   "execution_count": 12,
   "id": "ad54dc69",
   "metadata": {
    "execution": {
     "iopub.execute_input": "2023-08-10T14:12:22.125980Z",
     "iopub.status.busy": "2023-08-10T14:12:22.125398Z",
     "iopub.status.idle": "2023-08-10T14:12:22.132143Z",
     "shell.execute_reply": "2023-08-10T14:12:22.131368Z"
    }
   },
   "outputs": [
    {
     "data": {
      "text/plain": [
       "Batch(\n",
       "    a: tensor([[-0.0811, -0.8068,  2.0994],\n",
       "               [ 0.7485, -2.2535, -1.1902]]),\n",
       "    x: Batch(\n",
       "           c: tensor([[ 1.1390, -2.2182,  0.1576,  0.1473],\n",
       "                      [-0.4362,  0.9242,  0.4162,  0.0590],\n",
       "                      [ 0.6509,  0.4018, -0.5972,  0.9638]]),\n",
       "       ),\n",
       ")"
      ]
     },
     "execution_count": 12,
     "metadata": {},
     "output_type": "execute_result"
    }
   ],
   "source": [
    "new_value = torch.randn(2, 3)\n",
    "b.a = new_value\n",
    "\n",
    "b"
   ]
  },
  {
   "cell_type": "code",
   "execution_count": 13,
   "id": "29b1d0bf",
   "metadata": {
    "execution": {
     "iopub.execute_input": "2023-08-10T14:12:22.135249Z",
     "iopub.status.busy": "2023-08-10T14:12:22.134871Z",
     "iopub.status.idle": "2023-08-10T14:12:26.533840Z",
     "shell.execute_reply": "2023-08-10T14:12:26.532922Z"
    }
   },
   "outputs": [
    {
     "name": "stdout",
     "output_type": "stream",
     "text": [
      "541 ns ± 0.105 ns per loop (mean ± std. dev. of 7 runs, 1,000,000 loops each)\n"
     ]
    }
   ],
   "source": [
    "%timeit b.a = new_value"
   ]
  },
  {
   "cell_type": "markdown",
   "id": "b61ad1d0",
   "metadata": {},
   "source": [
    "## Initialization"
   ]
  },
  {
   "cell_type": "markdown",
   "id": "d70f0d54",
   "metadata": {},
   "source": [
    "### TreeValue's Initialization"
   ]
  },
  {
   "cell_type": "code",
   "execution_count": 14,
   "id": "d32a679b",
   "metadata": {
    "execution": {
     "iopub.execute_input": "2023-08-10T14:12:26.537581Z",
     "iopub.status.busy": "2023-08-10T14:12:26.537136Z",
     "iopub.status.idle": "2023-08-10T14:12:33.664029Z",
     "shell.execute_reply": "2023-08-10T14:12:33.662250Z"
    }
   },
   "outputs": [
    {
     "name": "stdout",
     "output_type": "stream",
     "text": [
      "878 ns ± 0.13 ns per loop (mean ± std. dev. of 7 runs, 1,000,000 loops each)\n"
     ]
    }
   ],
   "source": [
    "%timeit FastTreeValue(_TREE_DATA_1)"
   ]
  },
  {
   "cell_type": "markdown",
   "id": "24f3707b",
   "metadata": {},
   "source": [
    "### Tianshou Batch's Initialization"
   ]
  },
  {
   "cell_type": "code",
   "execution_count": 15,
   "id": "ac3958df",
   "metadata": {
    "execution": {
     "iopub.execute_input": "2023-08-10T14:12:33.667568Z",
     "iopub.status.busy": "2023-08-10T14:12:33.667169Z",
     "iopub.status.idle": "2023-08-10T14:12:42.779956Z",
     "shell.execute_reply": "2023-08-10T14:12:42.778097Z"
    }
   },
   "outputs": [
    {
     "name": "stdout",
     "output_type": "stream",
     "text": [
      "11.2 µs ± 24.1 ns per loop (mean ± std. dev. of 7 runs, 100,000 loops each)\n"
     ]
    }
   ],
   "source": [
    "%timeit Batch(**_TREE_DATA_1)"
   ]
  },
  {
   "cell_type": "markdown",
   "id": "1ab82e2d",
   "metadata": {},
   "source": [
    "## Deep Copy Operation"
   ]
  },
  {
   "cell_type": "code",
   "execution_count": 16,
   "id": "210a9442",
   "metadata": {
    "execution": {
     "iopub.execute_input": "2023-08-10T14:12:42.783422Z",
     "iopub.status.busy": "2023-08-10T14:12:42.783024Z",
     "iopub.status.idle": "2023-08-10T14:12:42.786401Z",
     "shell.execute_reply": "2023-08-10T14:12:42.785702Z"
    }
   },
   "outputs": [],
   "source": [
    "import copy"
   ]
  },
  {
   "cell_type": "markdown",
   "id": "5a736274",
   "metadata": {},
   "source": [
    "### Deep Copy of TreeValue"
   ]
  },
  {
   "cell_type": "code",
   "execution_count": 17,
   "id": "f9bcadd6",
   "metadata": {
    "execution": {
     "iopub.execute_input": "2023-08-10T14:12:42.789779Z",
     "iopub.status.busy": "2023-08-10T14:12:42.789200Z",
     "iopub.status.idle": "2023-08-10T14:12:54.564117Z",
     "shell.execute_reply": "2023-08-10T14:12:54.563490Z"
    }
   },
   "outputs": [
    {
     "name": "stdout",
     "output_type": "stream",
     "text": [
      "145 µs ± 410 ns per loop (mean ± std. dev. of 7 runs, 10,000 loops each)\n"
     ]
    }
   ],
   "source": [
    "t3 = FastTreeValue(_TREE_DATA_3)\n",
    "%timeit copy.deepcopy(t3)"
   ]
  },
  {
   "cell_type": "markdown",
   "id": "bf8be7ea",
   "metadata": {},
   "source": [
    "### Deep Copy of Tianshou Batch"
   ]
  },
  {
   "cell_type": "code",
   "execution_count": 18,
   "id": "91998e6f",
   "metadata": {
    "execution": {
     "iopub.execute_input": "2023-08-10T14:12:54.567392Z",
     "iopub.status.busy": "2023-08-10T14:12:54.566976Z",
     "iopub.status.idle": "2023-08-10T14:13:06.376002Z",
     "shell.execute_reply": "2023-08-10T14:13:06.375208Z"
    }
   },
   "outputs": [
    {
     "name": "stdout",
     "output_type": "stream",
     "text": [
      "145 µs ± 699 ns per loop (mean ± std. dev. of 7 runs, 10,000 loops each)\n"
     ]
    }
   ],
   "source": [
    "b3 = Batch(**_TREE_DATA_3)\n",
    "%timeit copy.deepcopy(b3)"
   ]
  },
  {
   "cell_type": "markdown",
   "id": "223162fb",
   "metadata": {},
   "source": [
    "## Stack, Concat and Split Operation"
   ]
  },
  {
   "cell_type": "markdown",
   "id": "85fa4a73",
   "metadata": {},
   "source": [
    "### Performance of TreeValue"
   ]
  },
  {
   "cell_type": "code",
   "execution_count": 19,
   "id": "a0c2b697",
   "metadata": {
    "execution": {
     "iopub.execute_input": "2023-08-10T14:13:06.379853Z",
     "iopub.status.busy": "2023-08-10T14:13:06.379464Z",
     "iopub.status.idle": "2023-08-10T14:13:06.384290Z",
     "shell.execute_reply": "2023-08-10T14:13:06.383665Z"
    }
   },
   "outputs": [],
   "source": [
    "trees = [FastTreeValue(_TREE_DATA_2) for _ in range(8)]"
   ]
  },
  {
   "cell_type": "code",
   "execution_count": 20,
   "id": "017ea5a5",
   "metadata": {
    "execution": {
     "iopub.execute_input": "2023-08-10T14:13:06.387424Z",
     "iopub.status.busy": "2023-08-10T14:13:06.386967Z",
     "iopub.status.idle": "2023-08-10T14:13:06.395920Z",
     "shell.execute_reply": "2023-08-10T14:13:06.395294Z"
    }
   },
   "outputs": [
    {
     "data": {
      "text/plain": [
       "<FastTreeValue 0x7fdfc92cb8b0>\n",
       "├── 'a' --> tensor([[[ 0.1270, -1.2209, -0.3810],\n",
       "│                    [-0.0637,  2.0873, -0.3465]],\n",
       "│           \n",
       "│                   [[ 0.1270, -1.2209, -0.3810],\n",
       "│                    [-0.0637,  2.0873, -0.3465]],\n",
       "│           \n",
       "│                   [[ 0.1270, -1.2209, -0.3810],\n",
       "│                    [-0.0637,  2.0873, -0.3465]],\n",
       "│           \n",
       "│                   [[ 0.1270, -1.2209, -0.3810],\n",
       "│                    [-0.0637,  2.0873, -0.3465]],\n",
       "│           \n",
       "│                   [[ 0.1270, -1.2209, -0.3810],\n",
       "│                    [-0.0637,  2.0873, -0.3465]],\n",
       "│           \n",
       "│                   [[ 0.1270, -1.2209, -0.3810],\n",
       "│                    [-0.0637,  2.0873, -0.3465]],\n",
       "│           \n",
       "│                   [[ 0.1270, -1.2209, -0.3810],\n",
       "│                    [-0.0637,  2.0873, -0.3465]],\n",
       "│           \n",
       "│                   [[ 0.1270, -1.2209, -0.3810],\n",
       "│                    [-0.0637,  2.0873, -0.3465]]])\n",
       "└── 'x' --> <FastTreeValue 0x7fdfc92c9f40>\n",
       "    └── 'c' --> tensor([[[ 1.1390, -2.2182,  0.1576,  0.1473],\n",
       "                         [-0.4362,  0.9242,  0.4162,  0.0590],\n",
       "                         [ 0.6509,  0.4018, -0.5972,  0.9638]],\n",
       "                \n",
       "                        [[ 1.1390, -2.2182,  0.1576,  0.1473],\n",
       "                         [-0.4362,  0.9242,  0.4162,  0.0590],\n",
       "                         [ 0.6509,  0.4018, -0.5972,  0.9638]],\n",
       "                \n",
       "                        [[ 1.1390, -2.2182,  0.1576,  0.1473],\n",
       "                         [-0.4362,  0.9242,  0.4162,  0.0590],\n",
       "                         [ 0.6509,  0.4018, -0.5972,  0.9638]],\n",
       "                \n",
       "                        [[ 1.1390, -2.2182,  0.1576,  0.1473],\n",
       "                         [-0.4362,  0.9242,  0.4162,  0.0590],\n",
       "                         [ 0.6509,  0.4018, -0.5972,  0.9638]],\n",
       "                \n",
       "                        [[ 1.1390, -2.2182,  0.1576,  0.1473],\n",
       "                         [-0.4362,  0.9242,  0.4162,  0.0590],\n",
       "                         [ 0.6509,  0.4018, -0.5972,  0.9638]],\n",
       "                \n",
       "                        [[ 1.1390, -2.2182,  0.1576,  0.1473],\n",
       "                         [-0.4362,  0.9242,  0.4162,  0.0590],\n",
       "                         [ 0.6509,  0.4018, -0.5972,  0.9638]],\n",
       "                \n",
       "                        [[ 1.1390, -2.2182,  0.1576,  0.1473],\n",
       "                         [-0.4362,  0.9242,  0.4162,  0.0590],\n",
       "                         [ 0.6509,  0.4018, -0.5972,  0.9638]],\n",
       "                \n",
       "                        [[ 1.1390, -2.2182,  0.1576,  0.1473],\n",
       "                         [-0.4362,  0.9242,  0.4162,  0.0590],\n",
       "                         [ 0.6509,  0.4018, -0.5972,  0.9638]]])"
      ]
     },
     "execution_count": 20,
     "metadata": {},
     "output_type": "execute_result"
    }
   ],
   "source": [
    "t_stack = FastTreeValue.func(subside=True)(torch.stack)\n",
    "\n",
    "t_stack(trees)"
   ]
  },
  {
   "cell_type": "code",
   "execution_count": 21,
   "id": "f8b3f415",
   "metadata": {
    "execution": {
     "iopub.execute_input": "2023-08-10T14:13:06.399339Z",
     "iopub.status.busy": "2023-08-10T14:13:06.398901Z",
     "iopub.status.idle": "2023-08-10T14:13:09.171137Z",
     "shell.execute_reply": "2023-08-10T14:13:09.169711Z"
    }
   },
   "outputs": [
    {
     "name": "stdout",
     "output_type": "stream",
     "text": [
      "34.1 µs ± 134 ns per loop (mean ± std. dev. of 7 runs, 10,000 loops each)\n"
     ]
    }
   ],
   "source": [
    "%timeit t_stack(trees)"
   ]
  },
  {
   "cell_type": "code",
   "execution_count": 22,
   "id": "94b56771",
   "metadata": {
    "execution": {
     "iopub.execute_input": "2023-08-10T14:13:09.175024Z",
     "iopub.status.busy": "2023-08-10T14:13:09.174458Z",
     "iopub.status.idle": "2023-08-10T14:13:09.182799Z",
     "shell.execute_reply": "2023-08-10T14:13:09.182224Z"
    }
   },
   "outputs": [
    {
     "data": {
      "text/plain": [
       "<FastTreeValue 0x7fe09913ae80>\n",
       "├── 'a' --> tensor([[ 0.1270, -1.2209, -0.3810],\n",
       "│                   [-0.0637,  2.0873, -0.3465],\n",
       "│                   [ 0.1270, -1.2209, -0.3810],\n",
       "│                   [-0.0637,  2.0873, -0.3465],\n",
       "│                   [ 0.1270, -1.2209, -0.3810],\n",
       "│                   [-0.0637,  2.0873, -0.3465],\n",
       "│                   [ 0.1270, -1.2209, -0.3810],\n",
       "│                   [-0.0637,  2.0873, -0.3465],\n",
       "│                   [ 0.1270, -1.2209, -0.3810],\n",
       "│                   [-0.0637,  2.0873, -0.3465],\n",
       "│                   [ 0.1270, -1.2209, -0.3810],\n",
       "│                   [-0.0637,  2.0873, -0.3465],\n",
       "│                   [ 0.1270, -1.2209, -0.3810],\n",
       "│                   [-0.0637,  2.0873, -0.3465],\n",
       "│                   [ 0.1270, -1.2209, -0.3810],\n",
       "│                   [-0.0637,  2.0873, -0.3465]])\n",
       "└── 'x' --> <FastTreeValue 0x7fe0990d95b0>\n",
       "    └── 'c' --> tensor([[ 1.1390, -2.2182,  0.1576,  0.1473],\n",
       "                        [-0.4362,  0.9242,  0.4162,  0.0590],\n",
       "                        [ 0.6509,  0.4018, -0.5972,  0.9638],\n",
       "                        [ 1.1390, -2.2182,  0.1576,  0.1473],\n",
       "                        [-0.4362,  0.9242,  0.4162,  0.0590],\n",
       "                        [ 0.6509,  0.4018, -0.5972,  0.9638],\n",
       "                        [ 1.1390, -2.2182,  0.1576,  0.1473],\n",
       "                        [-0.4362,  0.9242,  0.4162,  0.0590],\n",
       "                        [ 0.6509,  0.4018, -0.5972,  0.9638],\n",
       "                        [ 1.1390, -2.2182,  0.1576,  0.1473],\n",
       "                        [-0.4362,  0.9242,  0.4162,  0.0590],\n",
       "                        [ 0.6509,  0.4018, -0.5972,  0.9638],\n",
       "                        [ 1.1390, -2.2182,  0.1576,  0.1473],\n",
       "                        [-0.4362,  0.9242,  0.4162,  0.0590],\n",
       "                        [ 0.6509,  0.4018, -0.5972,  0.9638],\n",
       "                        [ 1.1390, -2.2182,  0.1576,  0.1473],\n",
       "                        [-0.4362,  0.9242,  0.4162,  0.0590],\n",
       "                        [ 0.6509,  0.4018, -0.5972,  0.9638],\n",
       "                        [ 1.1390, -2.2182,  0.1576,  0.1473],\n",
       "                        [-0.4362,  0.9242,  0.4162,  0.0590],\n",
       "                        [ 0.6509,  0.4018, -0.5972,  0.9638],\n",
       "                        [ 1.1390, -2.2182,  0.1576,  0.1473],\n",
       "                        [-0.4362,  0.9242,  0.4162,  0.0590],\n",
       "                        [ 0.6509,  0.4018, -0.5972,  0.9638]])"
      ]
     },
     "execution_count": 22,
     "metadata": {},
     "output_type": "execute_result"
    }
   ],
   "source": [
    "t_cat = FastTreeValue.func(subside=True)(torch.cat)\n",
    "\n",
    "t_cat(trees)"
   ]
  },
  {
   "cell_type": "code",
   "execution_count": 23,
   "id": "5e9c06a6",
   "metadata": {
    "execution": {
     "iopub.execute_input": "2023-08-10T14:13:09.185936Z",
     "iopub.status.busy": "2023-08-10T14:13:09.185551Z",
     "iopub.status.idle": "2023-08-10T14:13:11.796668Z",
     "shell.execute_reply": "2023-08-10T14:13:11.795951Z"
    }
   },
   "outputs": [
    {
     "name": "stdout",
     "output_type": "stream",
     "text": [
      "32.1 µs ± 36.1 ns per loop (mean ± std. dev. of 7 runs, 10,000 loops each)\n"
     ]
    }
   ],
   "source": [
    "%timeit t_cat(trees)"
   ]
  },
  {
   "cell_type": "code",
   "execution_count": 24,
   "id": "a3ab5c8f",
   "metadata": {
    "execution": {
     "iopub.execute_input": "2023-08-10T14:13:11.801071Z",
     "iopub.status.busy": "2023-08-10T14:13:11.799558Z",
     "iopub.status.idle": "2023-08-10T14:13:17.271817Z",
     "shell.execute_reply": "2023-08-10T14:13:17.270348Z"
    }
   },
   "outputs": [
    {
     "name": "stdout",
     "output_type": "stream",
     "text": [
      "67.3 µs ± 27.1 ns per loop (mean ± std. dev. of 7 runs, 10,000 loops each)\n"
     ]
    }
   ],
   "source": [
    "t_split = FastTreeValue.func(rise=True)(torch.split)\n",
    "tree = FastTreeValue({\n",
    "    'obs': torch.randn(8, 4, 84, 84),\n",
    "    'action': torch.randint(0, 6, size=(8, 1,)),\n",
    "    'reward': torch.rand(8, 1),\n",
    "})\n",
    "\n",
    "%timeit t_split(tree, 1)"
   ]
  },
  {
   "cell_type": "markdown",
   "id": "31c3ec0b",
   "metadata": {},
   "source": [
    "### Performance of Tianshou Batch"
   ]
  },
  {
   "cell_type": "code",
   "execution_count": 25,
   "id": "9ead828a",
   "metadata": {
    "execution": {
     "iopub.execute_input": "2023-08-10T14:13:17.275545Z",
     "iopub.status.busy": "2023-08-10T14:13:17.274921Z",
     "iopub.status.idle": "2023-08-10T14:13:17.283749Z",
     "shell.execute_reply": "2023-08-10T14:13:17.283137Z"
    }
   },
   "outputs": [
    {
     "data": {
      "text/plain": [
       "Batch(\n",
       "    a: tensor([[[ 0.1270, -1.2209, -0.3810],\n",
       "                [-0.0637,  2.0873, -0.3465]],\n",
       "       \n",
       "               [[ 0.1270, -1.2209, -0.3810],\n",
       "                [-0.0637,  2.0873, -0.3465]],\n",
       "       \n",
       "               [[ 0.1270, -1.2209, -0.3810],\n",
       "                [-0.0637,  2.0873, -0.3465]],\n",
       "       \n",
       "               [[ 0.1270, -1.2209, -0.3810],\n",
       "                [-0.0637,  2.0873, -0.3465]],\n",
       "       \n",
       "               [[ 0.1270, -1.2209, -0.3810],\n",
       "                [-0.0637,  2.0873, -0.3465]],\n",
       "       \n",
       "               [[ 0.1270, -1.2209, -0.3810],\n",
       "                [-0.0637,  2.0873, -0.3465]],\n",
       "       \n",
       "               [[ 0.1270, -1.2209, -0.3810],\n",
       "                [-0.0637,  2.0873, -0.3465]],\n",
       "       \n",
       "               [[ 0.1270, -1.2209, -0.3810],\n",
       "                [-0.0637,  2.0873, -0.3465]]]),\n",
       "    x: Batch(\n",
       "           c: tensor([[[ 1.1390, -2.2182,  0.1576,  0.1473],\n",
       "                       [-0.4362,  0.9242,  0.4162,  0.0590],\n",
       "                       [ 0.6509,  0.4018, -0.5972,  0.9638]],\n",
       "              \n",
       "                      [[ 1.1390, -2.2182,  0.1576,  0.1473],\n",
       "                       [-0.4362,  0.9242,  0.4162,  0.0590],\n",
       "                       [ 0.6509,  0.4018, -0.5972,  0.9638]],\n",
       "              \n",
       "                      [[ 1.1390, -2.2182,  0.1576,  0.1473],\n",
       "                       [-0.4362,  0.9242,  0.4162,  0.0590],\n",
       "                       [ 0.6509,  0.4018, -0.5972,  0.9638]],\n",
       "              \n",
       "                      [[ 1.1390, -2.2182,  0.1576,  0.1473],\n",
       "                       [-0.4362,  0.9242,  0.4162,  0.0590],\n",
       "                       [ 0.6509,  0.4018, -0.5972,  0.9638]],\n",
       "              \n",
       "                      [[ 1.1390, -2.2182,  0.1576,  0.1473],\n",
       "                       [-0.4362,  0.9242,  0.4162,  0.0590],\n",
       "                       [ 0.6509,  0.4018, -0.5972,  0.9638]],\n",
       "              \n",
       "                      [[ 1.1390, -2.2182,  0.1576,  0.1473],\n",
       "                       [-0.4362,  0.9242,  0.4162,  0.0590],\n",
       "                       [ 0.6509,  0.4018, -0.5972,  0.9638]],\n",
       "              \n",
       "                      [[ 1.1390, -2.2182,  0.1576,  0.1473],\n",
       "                       [-0.4362,  0.9242,  0.4162,  0.0590],\n",
       "                       [ 0.6509,  0.4018, -0.5972,  0.9638]],\n",
       "              \n",
       "                      [[ 1.1390, -2.2182,  0.1576,  0.1473],\n",
       "                       [-0.4362,  0.9242,  0.4162,  0.0590],\n",
       "                       [ 0.6509,  0.4018, -0.5972,  0.9638]]]),\n",
       "       ),\n",
       ")"
      ]
     },
     "execution_count": 25,
     "metadata": {},
     "output_type": "execute_result"
    }
   ],
   "source": [
    "batches = [Batch(**_TREE_DATA_2) for _ in range(8)]\n",
    "\n",
    "Batch.stack(batches)"
   ]
  },
  {
   "cell_type": "code",
   "execution_count": 26,
   "id": "ec9037a3",
   "metadata": {
    "execution": {
     "iopub.execute_input": "2023-08-10T14:13:17.287019Z",
     "iopub.status.busy": "2023-08-10T14:13:17.286404Z",
     "iopub.status.idle": "2023-08-10T14:13:24.097707Z",
     "shell.execute_reply": "2023-08-10T14:13:24.096958Z"
    }
   },
   "outputs": [
    {
     "name": "stdout",
     "output_type": "stream",
     "text": [
      "83.8 µs ± 303 ns per loop (mean ± std. dev. of 7 runs, 10,000 loops each)\n"
     ]
    }
   ],
   "source": [
    "%timeit Batch.stack(batches)"
   ]
  },
  {
   "cell_type": "code",
   "execution_count": 27,
   "id": "cb8ab77e",
   "metadata": {
    "execution": {
     "iopub.execute_input": "2023-08-10T14:13:24.101289Z",
     "iopub.status.busy": "2023-08-10T14:13:24.100655Z",
     "iopub.status.idle": "2023-08-10T14:13:24.108285Z",
     "shell.execute_reply": "2023-08-10T14:13:24.107565Z"
    }
   },
   "outputs": [
    {
     "data": {
      "text/plain": [
       "Batch(\n",
       "    a: tensor([[ 0.1270, -1.2209, -0.3810],\n",
       "               [-0.0637,  2.0873, -0.3465],\n",
       "               [ 0.1270, -1.2209, -0.3810],\n",
       "               [-0.0637,  2.0873, -0.3465],\n",
       "               [ 0.1270, -1.2209, -0.3810],\n",
       "               [-0.0637,  2.0873, -0.3465],\n",
       "               [ 0.1270, -1.2209, -0.3810],\n",
       "               [-0.0637,  2.0873, -0.3465],\n",
       "               [ 0.1270, -1.2209, -0.3810],\n",
       "               [-0.0637,  2.0873, -0.3465],\n",
       "               [ 0.1270, -1.2209, -0.3810],\n",
       "               [-0.0637,  2.0873, -0.3465],\n",
       "               [ 0.1270, -1.2209, -0.3810],\n",
       "               [-0.0637,  2.0873, -0.3465],\n",
       "               [ 0.1270, -1.2209, -0.3810],\n",
       "               [-0.0637,  2.0873, -0.3465]]),\n",
       "    x: Batch(\n",
       "           c: tensor([[ 1.1390, -2.2182,  0.1576,  0.1473],\n",
       "                      [-0.4362,  0.9242,  0.4162,  0.0590],\n",
       "                      [ 0.6509,  0.4018, -0.5972,  0.9638],\n",
       "                      [ 1.1390, -2.2182,  0.1576,  0.1473],\n",
       "                      [-0.4362,  0.9242,  0.4162,  0.0590],\n",
       "                      [ 0.6509,  0.4018, -0.5972,  0.9638],\n",
       "                      [ 1.1390, -2.2182,  0.1576,  0.1473],\n",
       "                      [-0.4362,  0.9242,  0.4162,  0.0590],\n",
       "                      [ 0.6509,  0.4018, -0.5972,  0.9638],\n",
       "                      [ 1.1390, -2.2182,  0.1576,  0.1473],\n",
       "                      [-0.4362,  0.9242,  0.4162,  0.0590],\n",
       "                      [ 0.6509,  0.4018, -0.5972,  0.9638],\n",
       "                      [ 1.1390, -2.2182,  0.1576,  0.1473],\n",
       "                      [-0.4362,  0.9242,  0.4162,  0.0590],\n",
       "                      [ 0.6509,  0.4018, -0.5972,  0.9638],\n",
       "                      [ 1.1390, -2.2182,  0.1576,  0.1473],\n",
       "                      [-0.4362,  0.9242,  0.4162,  0.0590],\n",
       "                      [ 0.6509,  0.4018, -0.5972,  0.9638],\n",
       "                      [ 1.1390, -2.2182,  0.1576,  0.1473],\n",
       "                      [-0.4362,  0.9242,  0.4162,  0.0590],\n",
       "                      [ 0.6509,  0.4018, -0.5972,  0.9638],\n",
       "                      [ 1.1390, -2.2182,  0.1576,  0.1473],\n",
       "                      [-0.4362,  0.9242,  0.4162,  0.0590],\n",
       "                      [ 0.6509,  0.4018, -0.5972,  0.9638]]),\n",
       "       ),\n",
       ")"
      ]
     },
     "execution_count": 27,
     "metadata": {},
     "output_type": "execute_result"
    }
   ],
   "source": [
    "Batch.cat(batches)"
   ]
  },
  {
   "cell_type": "code",
   "execution_count": 28,
   "id": "18dfb045",
   "metadata": {
    "execution": {
     "iopub.execute_input": "2023-08-10T14:13:24.111413Z",
     "iopub.status.busy": "2023-08-10T14:13:24.111038Z",
     "iopub.status.idle": "2023-08-10T14:13:36.847580Z",
     "shell.execute_reply": "2023-08-10T14:13:36.846089Z"
    }
   },
   "outputs": [
    {
     "name": "stdout",
     "output_type": "stream",
     "text": [
      "157 µs ± 231 ns per loop (mean ± std. dev. of 7 runs, 10,000 loops each)\n"
     ]
    }
   ],
   "source": [
    "%timeit Batch.cat(batches)"
   ]
  },
  {
   "cell_type": "code",
   "execution_count": 29,
   "id": "c6688e51",
   "metadata": {
    "execution": {
     "iopub.execute_input": "2023-08-10T14:13:36.851649Z",
     "iopub.status.busy": "2023-08-10T14:13:36.850978Z",
     "iopub.status.idle": "2023-08-10T14:13:39.702795Z",
     "shell.execute_reply": "2023-08-10T14:13:39.702186Z"
    }
   },
   "outputs": [
    {
     "name": "stdout",
     "output_type": "stream",
     "text": [
      "351 µs ± 5.62 µs per loop (mean ± std. dev. of 7 runs, 1,000 loops each)\n"
     ]
    }
   ],
   "source": [
    "batch = Batch({\n",
    "    'obs': torch.randn(8, 4, 84, 84),\n",
    "    'action': torch.randint(0, 6, size=(8, 1,)),\n",
    "    'reward': torch.rand(8, 1)}\n",
    ")\n",
    "\n",
    "%timeit list(Batch.split(batch, 1, shuffle=False, merge_last=True))"
   ]
  },
  {
   "cell_type": "code",
   "execution_count": null,
   "id": "2539fbd9",
   "metadata": {},
   "outputs": [],
   "source": []
  }
 ],
 "metadata": {
  "kernelspec": {
   "display_name": "Python 3 (ipykernel)",
   "language": "python",
   "name": "python3"
  },
  "language_info": {
   "codemirror_mode": {
    "name": "ipython",
    "version": 3
   },
   "file_extension": ".py",
   "mimetype": "text/x-python",
   "name": "python",
   "nbconvert_exporter": "python",
   "pygments_lexer": "ipython3",
   "version": "3.8.17"
  }
 },
 "nbformat": 4,
 "nbformat_minor": 5
}
