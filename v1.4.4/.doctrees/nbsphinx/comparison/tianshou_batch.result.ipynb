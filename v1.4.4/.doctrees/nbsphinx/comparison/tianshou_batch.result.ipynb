{
 "cells": [
  {
   "cell_type": "markdown",
   "id": "9d39d946",
   "metadata": {},
   "source": [
    "# Comparison Between TreeValue and Tianshou Batch"
   ]
  },
  {
   "cell_type": "markdown",
   "id": "3c6db2d4",
   "metadata": {},
   "source": [
    "In this section, we will take a look at the feature and performance of the [Tianshou Batch](https://github.com/thu-ml/tianshou) library, which is developed by Tsinghua Machine Learning Group."
   ]
  },
  {
   "cell_type": "markdown",
   "id": "069361b0",
   "metadata": {},
   "source": [
    "Before starting the comparison, let us define some thing."
   ]
  },
  {
   "cell_type": "code",
   "execution_count": 1,
   "id": "06fc8d26",
   "metadata": {
    "execution": {
     "iopub.execute_input": "2023-02-26T04:53:57.504893Z",
     "iopub.status.busy": "2023-02-26T04:53:57.504309Z",
     "iopub.status.idle": "2023-02-26T04:53:58.428621Z",
     "shell.execute_reply": "2023-02-26T04:53:58.427904Z"
    }
   },
   "outputs": [
    {
     "name": "stderr",
     "output_type": "stream",
     "text": [
      "/opt/hostedtoolcache/Python/3.8.16/x64/lib/python3.8/site-packages/tqdm/auto.py:22: TqdmWarning: IProgress not found. Please update jupyter and ipywidgets. See https://ipywidgets.readthedocs.io/en/stable/user_install.html\n",
      "  from .autonotebook import tqdm as notebook_tqdm\n"
     ]
    }
   ],
   "source": [
    "import torch \n",
    "\n",
    "_TREE_DATA_1 = {'a': 1, 'b': 2, 'x': {'c': 3, 'd': 4}}\n",
    "_TREE_DATA_2 = {\n",
    "    'a': torch.randn(2, 3), \n",
    "    'x': {\n",
    "        'c': torch.randn(3, 4)\n",
    "    },\n",
    "}\n",
    "_TREE_DATA_3 = {\n",
    "    'obs': torch.randn(4, 84, 84),\n",
    "    'action': torch.randint(0, 6, size=(1,)),\n",
    "    'reward': torch.rand(1),\n",
    "}"
   ]
  },
  {
   "cell_type": "markdown",
   "id": "83461b25",
   "metadata": {},
   "source": [
    "## Read and Write Operation"
   ]
  },
  {
   "cell_type": "markdown",
   "id": "067b3f73",
   "metadata": {},
   "source": [
    "Reading and writing are the two most common operations in the tree data structure based on the data model (TreeValue and Tianshou Batch both belong to this type), so this section will compare the reading and writing performance of these two libraries."
   ]
  },
  {
   "cell_type": "markdown",
   "id": "5d09a5b7",
   "metadata": {},
   "source": [
    "### TreeValue's Get and Set"
   ]
  },
  {
   "cell_type": "code",
   "execution_count": 2,
   "id": "9519c4bb",
   "metadata": {
    "execution": {
     "iopub.execute_input": "2023-02-26T04:53:58.432476Z",
     "iopub.status.busy": "2023-02-26T04:53:58.431881Z",
     "iopub.status.idle": "2023-02-26T04:53:58.465584Z",
     "shell.execute_reply": "2023-02-26T04:53:58.464921Z"
    }
   },
   "outputs": [],
   "source": [
    "from treevalue import FastTreeValue\n",
    "\n",
    "t = FastTreeValue(_TREE_DATA_2)"
   ]
  },
  {
   "cell_type": "code",
   "execution_count": 3,
   "id": "11c37677",
   "metadata": {
    "execution": {
     "iopub.execute_input": "2023-02-26T04:53:58.468714Z",
     "iopub.status.busy": "2023-02-26T04:53:58.468154Z",
     "iopub.status.idle": "2023-02-26T04:53:58.477850Z",
     "shell.execute_reply": "2023-02-26T04:53:58.477229Z"
    }
   },
   "outputs": [
    {
     "data": {
      "text/plain": [
       "<FastTreeValue 0x7fb31c2c91c0>\n",
       "├── 'a' --> tensor([[-1.3325, -0.8603, -0.3516],\n",
       "│                   [-0.4515, -0.4454, -0.7691]])\n",
       "└── 'x' --> <FastTreeValue 0x7fb31c2fbdf0>\n",
       "    └── 'c' --> tensor([[-0.6316, -1.1939,  1.1927,  0.6673],\n",
       "                        [-0.1404, -1.0289, -0.0509, -0.9646],\n",
       "                        [ 1.5470, -1.5546,  0.1414,  1.5432]])"
      ]
     },
     "execution_count": 3,
     "metadata": {},
     "output_type": "execute_result"
    }
   ],
   "source": [
    "t"
   ]
  },
  {
   "cell_type": "code",
   "execution_count": 4,
   "id": "fd70b0b9",
   "metadata": {
    "execution": {
     "iopub.execute_input": "2023-02-26T04:53:58.480634Z",
     "iopub.status.busy": "2023-02-26T04:53:58.480106Z",
     "iopub.status.idle": "2023-02-26T04:53:58.486091Z",
     "shell.execute_reply": "2023-02-26T04:53:58.485474Z"
    }
   },
   "outputs": [
    {
     "data": {
      "text/plain": [
       "tensor([[-1.3325, -0.8603, -0.3516],\n",
       "        [-0.4515, -0.4454, -0.7691]])"
      ]
     },
     "execution_count": 4,
     "metadata": {},
     "output_type": "execute_result"
    }
   ],
   "source": [
    "t.a"
   ]
  },
  {
   "cell_type": "code",
   "execution_count": 5,
   "id": "c18197bd",
   "metadata": {
    "execution": {
     "iopub.execute_input": "2023-02-26T04:53:58.489083Z",
     "iopub.status.busy": "2023-02-26T04:53:58.488551Z",
     "iopub.status.idle": "2023-02-26T04:54:03.502849Z",
     "shell.execute_reply": "2023-02-26T04:54:03.502129Z"
    }
   },
   "outputs": [
    {
     "name": "stdout",
     "output_type": "stream",
     "text": [
      "62.1 ns ± 0.0578 ns per loop (mean ± std. dev. of 7 runs, 10,000,000 loops each)\n"
     ]
    }
   ],
   "source": [
    "%timeit t.a"
   ]
  },
  {
   "cell_type": "code",
   "execution_count": 6,
   "id": "bd52f867",
   "metadata": {
    "execution": {
     "iopub.execute_input": "2023-02-26T04:54:03.505882Z",
     "iopub.status.busy": "2023-02-26T04:54:03.505537Z",
     "iopub.status.idle": "2023-02-26T04:54:03.512118Z",
     "shell.execute_reply": "2023-02-26T04:54:03.511548Z"
    }
   },
   "outputs": [
    {
     "data": {
      "text/plain": [
       "<FastTreeValue 0x7fb31c2c91c0>\n",
       "├── 'a' --> tensor([[ 0.7224,  0.6305,  1.0489],\n",
       "│                   [ 0.7134, -0.3695,  0.9253]])\n",
       "└── 'x' --> <FastTreeValue 0x7fb31c2fbdf0>\n",
       "    └── 'c' --> tensor([[-0.6316, -1.1939,  1.1927,  0.6673],\n",
       "                        [-0.1404, -1.0289, -0.0509, -0.9646],\n",
       "                        [ 1.5470, -1.5546,  0.1414,  1.5432]])"
      ]
     },
     "execution_count": 6,
     "metadata": {},
     "output_type": "execute_result"
    }
   ],
   "source": [
    "new_value = torch.randn(2, 3)\n",
    "t.a = new_value\n",
    "\n",
    "t"
   ]
  },
  {
   "cell_type": "code",
   "execution_count": 7,
   "id": "bbe04d1c",
   "metadata": {
    "execution": {
     "iopub.execute_input": "2023-02-26T04:54:03.514825Z",
     "iopub.status.busy": "2023-02-26T04:54:03.514483Z",
     "iopub.status.idle": "2023-02-26T04:54:09.411186Z",
     "shell.execute_reply": "2023-02-26T04:54:09.410431Z"
    }
   },
   "outputs": [
    {
     "name": "stdout",
     "output_type": "stream",
     "text": [
      "72.5 ns ± 0.0274 ns per loop (mean ± std. dev. of 7 runs, 10,000,000 loops each)\n"
     ]
    }
   ],
   "source": [
    "%timeit t.a = new_value"
   ]
  },
  {
   "cell_type": "markdown",
   "id": "48c49731",
   "metadata": {},
   "source": [
    "### Tianshou Batch's Get and Set"
   ]
  },
  {
   "cell_type": "code",
   "execution_count": 8,
   "id": "f1bb14c1",
   "metadata": {
    "execution": {
     "iopub.execute_input": "2023-02-26T04:54:09.414583Z",
     "iopub.status.busy": "2023-02-26T04:54:09.413980Z",
     "iopub.status.idle": "2023-02-26T04:54:09.743532Z",
     "shell.execute_reply": "2023-02-26T04:54:09.742875Z"
    }
   },
   "outputs": [],
   "source": [
    "from tianshou.data import Batch\n",
    "\n",
    "b = Batch(**_TREE_DATA_2)"
   ]
  },
  {
   "cell_type": "code",
   "execution_count": 9,
   "id": "cb0777c3",
   "metadata": {
    "execution": {
     "iopub.execute_input": "2023-02-26T04:54:09.746650Z",
     "iopub.status.busy": "2023-02-26T04:54:09.746119Z",
     "iopub.status.idle": "2023-02-26T04:54:09.752254Z",
     "shell.execute_reply": "2023-02-26T04:54:09.751662Z"
    }
   },
   "outputs": [
    {
     "data": {
      "text/plain": [
       "Batch(\n",
       "    a: tensor([[-1.3325, -0.8603, -0.3516],\n",
       "               [-0.4515, -0.4454, -0.7691]]),\n",
       "    x: Batch(\n",
       "           c: tensor([[-0.6316, -1.1939,  1.1927,  0.6673],\n",
       "                      [-0.1404, -1.0289, -0.0509, -0.9646],\n",
       "                      [ 1.5470, -1.5546,  0.1414,  1.5432]]),\n",
       "       ),\n",
       ")"
      ]
     },
     "execution_count": 9,
     "metadata": {},
     "output_type": "execute_result"
    }
   ],
   "source": [
    "b"
   ]
  },
  {
   "cell_type": "code",
   "execution_count": 10,
   "id": "43ef8ea3",
   "metadata": {
    "execution": {
     "iopub.execute_input": "2023-02-26T04:54:09.754904Z",
     "iopub.status.busy": "2023-02-26T04:54:09.754388Z",
     "iopub.status.idle": "2023-02-26T04:54:09.759061Z",
     "shell.execute_reply": "2023-02-26T04:54:09.758457Z"
    }
   },
   "outputs": [
    {
     "data": {
      "text/plain": [
       "tensor([[-1.3325, -0.8603, -0.3516],\n",
       "        [-0.4515, -0.4454, -0.7691]])"
      ]
     },
     "execution_count": 10,
     "metadata": {},
     "output_type": "execute_result"
    }
   ],
   "source": [
    "b.a"
   ]
  },
  {
   "cell_type": "code",
   "execution_count": 11,
   "id": "b785ab72",
   "metadata": {
    "execution": {
     "iopub.execute_input": "2023-02-26T04:54:09.761664Z",
     "iopub.status.busy": "2023-02-26T04:54:09.761329Z",
     "iopub.status.idle": "2023-02-26T04:54:14.196413Z",
     "shell.execute_reply": "2023-02-26T04:54:14.195692Z"
    }
   },
   "outputs": [
    {
     "name": "stdout",
     "output_type": "stream",
     "text": [
      "54.7 ns ± 0.0225 ns per loop (mean ± std. dev. of 7 runs, 10,000,000 loops each)\n"
     ]
    }
   ],
   "source": [
    "%timeit b.a"
   ]
  },
  {
   "cell_type": "code",
   "execution_count": 12,
   "id": "ad54dc69",
   "metadata": {
    "execution": {
     "iopub.execute_input": "2023-02-26T04:54:14.199471Z",
     "iopub.status.busy": "2023-02-26T04:54:14.199103Z",
     "iopub.status.idle": "2023-02-26T04:54:14.204905Z",
     "shell.execute_reply": "2023-02-26T04:54:14.204276Z"
    }
   },
   "outputs": [
    {
     "data": {
      "text/plain": [
       "Batch(\n",
       "    a: tensor([[-1.4331,  1.1038,  0.1392],\n",
       "               [-0.4199, -0.5017, -0.7423]]),\n",
       "    x: Batch(\n",
       "           c: tensor([[-0.6316, -1.1939,  1.1927,  0.6673],\n",
       "                      [-0.1404, -1.0289, -0.0509, -0.9646],\n",
       "                      [ 1.5470, -1.5546,  0.1414,  1.5432]]),\n",
       "       ),\n",
       ")"
      ]
     },
     "execution_count": 12,
     "metadata": {},
     "output_type": "execute_result"
    }
   ],
   "source": [
    "new_value = torch.randn(2, 3)\n",
    "b.a = new_value\n",
    "\n",
    "b"
   ]
  },
  {
   "cell_type": "code",
   "execution_count": 13,
   "id": "29b1d0bf",
   "metadata": {
    "execution": {
     "iopub.execute_input": "2023-02-26T04:54:14.207371Z",
     "iopub.status.busy": "2023-02-26T04:54:14.207028Z",
     "iopub.status.idle": "2023-02-26T04:54:18.222404Z",
     "shell.execute_reply": "2023-02-26T04:54:18.221643Z"
    }
   },
   "outputs": [
    {
     "name": "stdout",
     "output_type": "stream",
     "text": [
      "494 ns ± 0.0572 ns per loop (mean ± std. dev. of 7 runs, 1,000,000 loops each)\n"
     ]
    }
   ],
   "source": [
    "%timeit b.a = new_value"
   ]
  },
  {
   "cell_type": "markdown",
   "id": "b61ad1d0",
   "metadata": {},
   "source": [
    "## Initialization"
   ]
  },
  {
   "cell_type": "markdown",
   "id": "d70f0d54",
   "metadata": {},
   "source": [
    "### TreeValue's Initialization"
   ]
  },
  {
   "cell_type": "code",
   "execution_count": 14,
   "id": "d32a679b",
   "metadata": {
    "execution": {
     "iopub.execute_input": "2023-02-26T04:54:18.225437Z",
     "iopub.status.busy": "2023-02-26T04:54:18.225206Z",
     "iopub.status.idle": "2023-02-26T04:54:25.092164Z",
     "shell.execute_reply": "2023-02-26T04:54:25.091380Z"
    }
   },
   "outputs": [
    {
     "name": "stdout",
     "output_type": "stream",
     "text": [
      "845 ns ± 0.159 ns per loop (mean ± std. dev. of 7 runs, 1,000,000 loops each)\n"
     ]
    }
   ],
   "source": [
    "%timeit FastTreeValue(_TREE_DATA_1)"
   ]
  },
  {
   "cell_type": "markdown",
   "id": "24f3707b",
   "metadata": {},
   "source": [
    "### Tianshou Batch's Initialization"
   ]
  },
  {
   "cell_type": "code",
   "execution_count": 15,
   "id": "ac3958df",
   "metadata": {
    "execution": {
     "iopub.execute_input": "2023-02-26T04:54:25.095568Z",
     "iopub.status.busy": "2023-02-26T04:54:25.095022Z",
     "iopub.status.idle": "2023-02-26T04:54:34.431742Z",
     "shell.execute_reply": "2023-02-26T04:54:34.431017Z"
    }
   },
   "outputs": [
    {
     "name": "stdout",
     "output_type": "stream",
     "text": [
      "11.5 µs ± 23.3 ns per loop (mean ± std. dev. of 7 runs, 100,000 loops each)\n"
     ]
    }
   ],
   "source": [
    "%timeit Batch(**_TREE_DATA_1)"
   ]
  },
  {
   "cell_type": "markdown",
   "id": "1ab82e2d",
   "metadata": {},
   "source": [
    "## Deep Copy Operation"
   ]
  },
  {
   "cell_type": "code",
   "execution_count": 16,
   "id": "210a9442",
   "metadata": {
    "execution": {
     "iopub.execute_input": "2023-02-26T04:54:34.435069Z",
     "iopub.status.busy": "2023-02-26T04:54:34.434561Z",
     "iopub.status.idle": "2023-02-26T04:54:34.438385Z",
     "shell.execute_reply": "2023-02-26T04:54:34.437749Z"
    }
   },
   "outputs": [],
   "source": [
    "import copy"
   ]
  },
  {
   "cell_type": "markdown",
   "id": "5a736274",
   "metadata": {},
   "source": [
    "### Deep Copy of TreeValue"
   ]
  },
  {
   "cell_type": "code",
   "execution_count": 17,
   "id": "f9bcadd6",
   "metadata": {
    "execution": {
     "iopub.execute_input": "2023-02-26T04:54:34.441100Z",
     "iopub.status.busy": "2023-02-26T04:54:34.440763Z",
     "iopub.status.idle": "2023-02-26T04:54:45.437578Z",
     "shell.execute_reply": "2023-02-26T04:54:45.436991Z"
    }
   },
   "outputs": [
    {
     "name": "stdout",
     "output_type": "stream",
     "text": [
      "135 µs ± 476 ns per loop (mean ± std. dev. of 7 runs, 10,000 loops each)\n"
     ]
    }
   ],
   "source": [
    "t3 = FastTreeValue(_TREE_DATA_3)\n",
    "%timeit copy.deepcopy(t3)"
   ]
  },
  {
   "cell_type": "markdown",
   "id": "bf8be7ea",
   "metadata": {},
   "source": [
    "### Deep Copy of Tianshou Batch"
   ]
  },
  {
   "cell_type": "code",
   "execution_count": 18,
   "id": "91998e6f",
   "metadata": {
    "execution": {
     "iopub.execute_input": "2023-02-26T04:54:45.440938Z",
     "iopub.status.busy": "2023-02-26T04:54:45.440431Z",
     "iopub.status.idle": "2023-02-26T04:54:56.648210Z",
     "shell.execute_reply": "2023-02-26T04:54:56.647649Z"
    }
   },
   "outputs": [
    {
     "name": "stdout",
     "output_type": "stream",
     "text": [
      "138 µs ± 1.27 µs per loop (mean ± std. dev. of 7 runs, 10,000 loops each)\n"
     ]
    }
   ],
   "source": [
    "b3 = Batch(**_TREE_DATA_3)\n",
    "%timeit copy.deepcopy(b3)"
   ]
  },
  {
   "cell_type": "markdown",
   "id": "223162fb",
   "metadata": {},
   "source": [
    "## Stack, Concat and Split Operation"
   ]
  },
  {
   "cell_type": "markdown",
   "id": "85fa4a73",
   "metadata": {},
   "source": [
    "### Performance of TreeValue"
   ]
  },
  {
   "cell_type": "code",
   "execution_count": 19,
   "id": "a0c2b697",
   "metadata": {
    "execution": {
     "iopub.execute_input": "2023-02-26T04:54:56.652323Z",
     "iopub.status.busy": "2023-02-26T04:54:56.651357Z",
     "iopub.status.idle": "2023-02-26T04:54:56.655147Z",
     "shell.execute_reply": "2023-02-26T04:54:56.654629Z"
    }
   },
   "outputs": [],
   "source": [
    "trees = [FastTreeValue(_TREE_DATA_2) for _ in range(8)]"
   ]
  },
  {
   "cell_type": "code",
   "execution_count": 20,
   "id": "017ea5a5",
   "metadata": {
    "execution": {
     "iopub.execute_input": "2023-02-26T04:54:56.657558Z",
     "iopub.status.busy": "2023-02-26T04:54:56.657206Z",
     "iopub.status.idle": "2023-02-26T04:54:56.663773Z",
     "shell.execute_reply": "2023-02-26T04:54:56.663269Z"
    }
   },
   "outputs": [
    {
     "data": {
      "text/plain": [
       "<FastTreeValue 0x7fb26ef61520>\n",
       "├── 'a' --> tensor([[[-1.3325, -0.8603, -0.3516],\n",
       "│                    [-0.4515, -0.4454, -0.7691]],\n",
       "│           \n",
       "│                   [[-1.3325, -0.8603, -0.3516],\n",
       "│                    [-0.4515, -0.4454, -0.7691]],\n",
       "│           \n",
       "│                   [[-1.3325, -0.8603, -0.3516],\n",
       "│                    [-0.4515, -0.4454, -0.7691]],\n",
       "│           \n",
       "│                   [[-1.3325, -0.8603, -0.3516],\n",
       "│                    [-0.4515, -0.4454, -0.7691]],\n",
       "│           \n",
       "│                   [[-1.3325, -0.8603, -0.3516],\n",
       "│                    [-0.4515, -0.4454, -0.7691]],\n",
       "│           \n",
       "│                   [[-1.3325, -0.8603, -0.3516],\n",
       "│                    [-0.4515, -0.4454, -0.7691]],\n",
       "│           \n",
       "│                   [[-1.3325, -0.8603, -0.3516],\n",
       "│                    [-0.4515, -0.4454, -0.7691]],\n",
       "│           \n",
       "│                   [[-1.3325, -0.8603, -0.3516],\n",
       "│                    [-0.4515, -0.4454, -0.7691]]])\n",
       "└── 'x' --> <FastTreeValue 0x7fb26ef61e50>\n",
       "    └── 'c' --> tensor([[[-0.6316, -1.1939,  1.1927,  0.6673],\n",
       "                         [-0.1404, -1.0289, -0.0509, -0.9646],\n",
       "                         [ 1.5470, -1.5546,  0.1414,  1.5432]],\n",
       "                \n",
       "                        [[-0.6316, -1.1939,  1.1927,  0.6673],\n",
       "                         [-0.1404, -1.0289, -0.0509, -0.9646],\n",
       "                         [ 1.5470, -1.5546,  0.1414,  1.5432]],\n",
       "                \n",
       "                        [[-0.6316, -1.1939,  1.1927,  0.6673],\n",
       "                         [-0.1404, -1.0289, -0.0509, -0.9646],\n",
       "                         [ 1.5470, -1.5546,  0.1414,  1.5432]],\n",
       "                \n",
       "                        [[-0.6316, -1.1939,  1.1927,  0.6673],\n",
       "                         [-0.1404, -1.0289, -0.0509, -0.9646],\n",
       "                         [ 1.5470, -1.5546,  0.1414,  1.5432]],\n",
       "                \n",
       "                        [[-0.6316, -1.1939,  1.1927,  0.6673],\n",
       "                         [-0.1404, -1.0289, -0.0509, -0.9646],\n",
       "                         [ 1.5470, -1.5546,  0.1414,  1.5432]],\n",
       "                \n",
       "                        [[-0.6316, -1.1939,  1.1927,  0.6673],\n",
       "                         [-0.1404, -1.0289, -0.0509, -0.9646],\n",
       "                         [ 1.5470, -1.5546,  0.1414,  1.5432]],\n",
       "                \n",
       "                        [[-0.6316, -1.1939,  1.1927,  0.6673],\n",
       "                         [-0.1404, -1.0289, -0.0509, -0.9646],\n",
       "                         [ 1.5470, -1.5546,  0.1414,  1.5432]],\n",
       "                \n",
       "                        [[-0.6316, -1.1939,  1.1927,  0.6673],\n",
       "                         [-0.1404, -1.0289, -0.0509, -0.9646],\n",
       "                         [ 1.5470, -1.5546,  0.1414,  1.5432]]])"
      ]
     },
     "execution_count": 20,
     "metadata": {},
     "output_type": "execute_result"
    }
   ],
   "source": [
    "t_stack = FastTreeValue.func(subside=True)(torch.stack)\n",
    "\n",
    "t_stack(trees)"
   ]
  },
  {
   "cell_type": "code",
   "execution_count": 21,
   "id": "f8b3f415",
   "metadata": {
    "execution": {
     "iopub.execute_input": "2023-02-26T04:54:56.666147Z",
     "iopub.status.busy": "2023-02-26T04:54:56.665817Z",
     "iopub.status.idle": "2023-02-26T04:54:59.284133Z",
     "shell.execute_reply": "2023-02-26T04:54:59.283416Z"
    }
   },
   "outputs": [
    {
     "name": "stdout",
     "output_type": "stream",
     "text": [
      "32.2 µs ± 66 ns per loop (mean ± std. dev. of 7 runs, 10,000 loops each)\n"
     ]
    }
   ],
   "source": [
    "%timeit t_stack(trees)"
   ]
  },
  {
   "cell_type": "code",
   "execution_count": 22,
   "id": "94b56771",
   "metadata": {
    "execution": {
     "iopub.execute_input": "2023-02-26T04:54:59.287217Z",
     "iopub.status.busy": "2023-02-26T04:54:59.286852Z",
     "iopub.status.idle": "2023-02-26T04:54:59.295711Z",
     "shell.execute_reply": "2023-02-26T04:54:59.295112Z"
    }
   },
   "outputs": [
    {
     "data": {
      "text/plain": [
       "<FastTreeValue 0x7fb31c295220>\n",
       "├── 'a' --> tensor([[-1.3325, -0.8603, -0.3516],\n",
       "│                   [-0.4515, -0.4454, -0.7691],\n",
       "│                   [-1.3325, -0.8603, -0.3516],\n",
       "│                   [-0.4515, -0.4454, -0.7691],\n",
       "│                   [-1.3325, -0.8603, -0.3516],\n",
       "│                   [-0.4515, -0.4454, -0.7691],\n",
       "│                   [-1.3325, -0.8603, -0.3516],\n",
       "│                   [-0.4515, -0.4454, -0.7691],\n",
       "│                   [-1.3325, -0.8603, -0.3516],\n",
       "│                   [-0.4515, -0.4454, -0.7691],\n",
       "│                   [-1.3325, -0.8603, -0.3516],\n",
       "│                   [-0.4515, -0.4454, -0.7691],\n",
       "│                   [-1.3325, -0.8603, -0.3516],\n",
       "│                   [-0.4515, -0.4454, -0.7691],\n",
       "│                   [-1.3325, -0.8603, -0.3516],\n",
       "│                   [-0.4515, -0.4454, -0.7691]])\n",
       "└── 'x' --> <FastTreeValue 0x7fb2f0700e50>\n",
       "    └── 'c' --> tensor([[-0.6316, -1.1939,  1.1927,  0.6673],\n",
       "                        [-0.1404, -1.0289, -0.0509, -0.9646],\n",
       "                        [ 1.5470, -1.5546,  0.1414,  1.5432],\n",
       "                        [-0.6316, -1.1939,  1.1927,  0.6673],\n",
       "                        [-0.1404, -1.0289, -0.0509, -0.9646],\n",
       "                        [ 1.5470, -1.5546,  0.1414,  1.5432],\n",
       "                        [-0.6316, -1.1939,  1.1927,  0.6673],\n",
       "                        [-0.1404, -1.0289, -0.0509, -0.9646],\n",
       "                        [ 1.5470, -1.5546,  0.1414,  1.5432],\n",
       "                        [-0.6316, -1.1939,  1.1927,  0.6673],\n",
       "                        [-0.1404, -1.0289, -0.0509, -0.9646],\n",
       "                        [ 1.5470, -1.5546,  0.1414,  1.5432],\n",
       "                        [-0.6316, -1.1939,  1.1927,  0.6673],\n",
       "                        [-0.1404, -1.0289, -0.0509, -0.9646],\n",
       "                        [ 1.5470, -1.5546,  0.1414,  1.5432],\n",
       "                        [-0.6316, -1.1939,  1.1927,  0.6673],\n",
       "                        [-0.1404, -1.0289, -0.0509, -0.9646],\n",
       "                        [ 1.5470, -1.5546,  0.1414,  1.5432],\n",
       "                        [-0.6316, -1.1939,  1.1927,  0.6673],\n",
       "                        [-0.1404, -1.0289, -0.0509, -0.9646],\n",
       "                        [ 1.5470, -1.5546,  0.1414,  1.5432],\n",
       "                        [-0.6316, -1.1939,  1.1927,  0.6673],\n",
       "                        [-0.1404, -1.0289, -0.0509, -0.9646],\n",
       "                        [ 1.5470, -1.5546,  0.1414,  1.5432]])"
      ]
     },
     "execution_count": 22,
     "metadata": {},
     "output_type": "execute_result"
    }
   ],
   "source": [
    "t_cat = FastTreeValue.func(subside=True)(torch.cat)\n",
    "\n",
    "t_cat(trees)"
   ]
  },
  {
   "cell_type": "code",
   "execution_count": 23,
   "id": "5e9c06a6",
   "metadata": {
    "execution": {
     "iopub.execute_input": "2023-02-26T04:54:59.298443Z",
     "iopub.status.busy": "2023-02-26T04:54:59.298091Z",
     "iopub.status.idle": "2023-02-26T04:55:01.733547Z",
     "shell.execute_reply": "2023-02-26T04:55:01.732853Z"
    }
   },
   "outputs": [
    {
     "name": "stdout",
     "output_type": "stream",
     "text": [
      "30 µs ± 37.2 ns per loop (mean ± std. dev. of 7 runs, 10,000 loops each)\n"
     ]
    }
   ],
   "source": [
    "%timeit t_cat(trees)"
   ]
  },
  {
   "cell_type": "code",
   "execution_count": 24,
   "id": "a3ab5c8f",
   "metadata": {
    "execution": {
     "iopub.execute_input": "2023-02-26T04:55:01.736587Z",
     "iopub.status.busy": "2023-02-26T04:55:01.736218Z",
     "iopub.status.idle": "2023-02-26T04:55:06.502206Z",
     "shell.execute_reply": "2023-02-26T04:55:06.501465Z"
    }
   },
   "outputs": [
    {
     "name": "stdout",
     "output_type": "stream",
     "text": [
      "58.6 µs ± 95.2 ns per loop (mean ± std. dev. of 7 runs, 10,000 loops each)\n"
     ]
    }
   ],
   "source": [
    "t_split = FastTreeValue.func(rise=True)(torch.split)\n",
    "tree = FastTreeValue({\n",
    "    'obs': torch.randn(8, 4, 84, 84),\n",
    "    'action': torch.randint(0, 6, size=(8, 1,)),\n",
    "    'reward': torch.rand(8, 1),\n",
    "})\n",
    "\n",
    "%timeit t_split(tree, 1)"
   ]
  },
  {
   "cell_type": "markdown",
   "id": "31c3ec0b",
   "metadata": {},
   "source": [
    "### Performance of Tianshou Batch"
   ]
  },
  {
   "cell_type": "code",
   "execution_count": 25,
   "id": "9ead828a",
   "metadata": {
    "execution": {
     "iopub.execute_input": "2023-02-26T04:55:06.505371Z",
     "iopub.status.busy": "2023-02-26T04:55:06.504779Z",
     "iopub.status.idle": "2023-02-26T04:55:06.512915Z",
     "shell.execute_reply": "2023-02-26T04:55:06.512307Z"
    }
   },
   "outputs": [
    {
     "data": {
      "text/plain": [
       "Batch(\n",
       "    a: tensor([[[-1.3325, -0.8603, -0.3516],\n",
       "                [-0.4515, -0.4454, -0.7691]],\n",
       "       \n",
       "               [[-1.3325, -0.8603, -0.3516],\n",
       "                [-0.4515, -0.4454, -0.7691]],\n",
       "       \n",
       "               [[-1.3325, -0.8603, -0.3516],\n",
       "                [-0.4515, -0.4454, -0.7691]],\n",
       "       \n",
       "               [[-1.3325, -0.8603, -0.3516],\n",
       "                [-0.4515, -0.4454, -0.7691]],\n",
       "       \n",
       "               [[-1.3325, -0.8603, -0.3516],\n",
       "                [-0.4515, -0.4454, -0.7691]],\n",
       "       \n",
       "               [[-1.3325, -0.8603, -0.3516],\n",
       "                [-0.4515, -0.4454, -0.7691]],\n",
       "       \n",
       "               [[-1.3325, -0.8603, -0.3516],\n",
       "                [-0.4515, -0.4454, -0.7691]],\n",
       "       \n",
       "               [[-1.3325, -0.8603, -0.3516],\n",
       "                [-0.4515, -0.4454, -0.7691]]]),\n",
       "    x: Batch(\n",
       "           c: tensor([[[-0.6316, -1.1939,  1.1927,  0.6673],\n",
       "                       [-0.1404, -1.0289, -0.0509, -0.9646],\n",
       "                       [ 1.5470, -1.5546,  0.1414,  1.5432]],\n",
       "              \n",
       "                      [[-0.6316, -1.1939,  1.1927,  0.6673],\n",
       "                       [-0.1404, -1.0289, -0.0509, -0.9646],\n",
       "                       [ 1.5470, -1.5546,  0.1414,  1.5432]],\n",
       "              \n",
       "                      [[-0.6316, -1.1939,  1.1927,  0.6673],\n",
       "                       [-0.1404, -1.0289, -0.0509, -0.9646],\n",
       "                       [ 1.5470, -1.5546,  0.1414,  1.5432]],\n",
       "              \n",
       "                      [[-0.6316, -1.1939,  1.1927,  0.6673],\n",
       "                       [-0.1404, -1.0289, -0.0509, -0.9646],\n",
       "                       [ 1.5470, -1.5546,  0.1414,  1.5432]],\n",
       "              \n",
       "                      [[-0.6316, -1.1939,  1.1927,  0.6673],\n",
       "                       [-0.1404, -1.0289, -0.0509, -0.9646],\n",
       "                       [ 1.5470, -1.5546,  0.1414,  1.5432]],\n",
       "              \n",
       "                      [[-0.6316, -1.1939,  1.1927,  0.6673],\n",
       "                       [-0.1404, -1.0289, -0.0509, -0.9646],\n",
       "                       [ 1.5470, -1.5546,  0.1414,  1.5432]],\n",
       "              \n",
       "                      [[-0.6316, -1.1939,  1.1927,  0.6673],\n",
       "                       [-0.1404, -1.0289, -0.0509, -0.9646],\n",
       "                       [ 1.5470, -1.5546,  0.1414,  1.5432]],\n",
       "              \n",
       "                      [[-0.6316, -1.1939,  1.1927,  0.6673],\n",
       "                       [-0.1404, -1.0289, -0.0509, -0.9646],\n",
       "                       [ 1.5470, -1.5546,  0.1414,  1.5432]]]),\n",
       "       ),\n",
       ")"
      ]
     },
     "execution_count": 25,
     "metadata": {},
     "output_type": "execute_result"
    }
   ],
   "source": [
    "batches = [Batch(**_TREE_DATA_2) for _ in range(8)]\n",
    "\n",
    "Batch.stack(batches)"
   ]
  },
  {
   "cell_type": "code",
   "execution_count": 26,
   "id": "ec9037a3",
   "metadata": {
    "execution": {
     "iopub.execute_input": "2023-02-26T04:55:06.515972Z",
     "iopub.status.busy": "2023-02-26T04:55:06.515445Z",
     "iopub.status.idle": "2023-02-26T04:55:12.854737Z",
     "shell.execute_reply": "2023-02-26T04:55:12.854015Z"
    }
   },
   "outputs": [
    {
     "name": "stdout",
     "output_type": "stream",
     "text": [
      "78 µs ± 110 ns per loop (mean ± std. dev. of 7 runs, 10,000 loops each)\n"
     ]
    }
   ],
   "source": [
    "%timeit Batch.stack(batches)"
   ]
  },
  {
   "cell_type": "code",
   "execution_count": 27,
   "id": "cb8ab77e",
   "metadata": {
    "execution": {
     "iopub.execute_input": "2023-02-26T04:55:12.857751Z",
     "iopub.status.busy": "2023-02-26T04:55:12.857186Z",
     "iopub.status.idle": "2023-02-26T04:55:12.864635Z",
     "shell.execute_reply": "2023-02-26T04:55:12.864062Z"
    }
   },
   "outputs": [
    {
     "data": {
      "text/plain": [
       "Batch(\n",
       "    a: tensor([[-1.3325, -0.8603, -0.3516],\n",
       "               [-0.4515, -0.4454, -0.7691],\n",
       "               [-1.3325, -0.8603, -0.3516],\n",
       "               [-0.4515, -0.4454, -0.7691],\n",
       "               [-1.3325, -0.8603, -0.3516],\n",
       "               [-0.4515, -0.4454, -0.7691],\n",
       "               [-1.3325, -0.8603, -0.3516],\n",
       "               [-0.4515, -0.4454, -0.7691],\n",
       "               [-1.3325, -0.8603, -0.3516],\n",
       "               [-0.4515, -0.4454, -0.7691],\n",
       "               [-1.3325, -0.8603, -0.3516],\n",
       "               [-0.4515, -0.4454, -0.7691],\n",
       "               [-1.3325, -0.8603, -0.3516],\n",
       "               [-0.4515, -0.4454, -0.7691],\n",
       "               [-1.3325, -0.8603, -0.3516],\n",
       "               [-0.4515, -0.4454, -0.7691]]),\n",
       "    x: Batch(\n",
       "           c: tensor([[-0.6316, -1.1939,  1.1927,  0.6673],\n",
       "                      [-0.1404, -1.0289, -0.0509, -0.9646],\n",
       "                      [ 1.5470, -1.5546,  0.1414,  1.5432],\n",
       "                      [-0.6316, -1.1939,  1.1927,  0.6673],\n",
       "                      [-0.1404, -1.0289, -0.0509, -0.9646],\n",
       "                      [ 1.5470, -1.5546,  0.1414,  1.5432],\n",
       "                      [-0.6316, -1.1939,  1.1927,  0.6673],\n",
       "                      [-0.1404, -1.0289, -0.0509, -0.9646],\n",
       "                      [ 1.5470, -1.5546,  0.1414,  1.5432],\n",
       "                      [-0.6316, -1.1939,  1.1927,  0.6673],\n",
       "                      [-0.1404, -1.0289, -0.0509, -0.9646],\n",
       "                      [ 1.5470, -1.5546,  0.1414,  1.5432],\n",
       "                      [-0.6316, -1.1939,  1.1927,  0.6673],\n",
       "                      [-0.1404, -1.0289, -0.0509, -0.9646],\n",
       "                      [ 1.5470, -1.5546,  0.1414,  1.5432],\n",
       "                      [-0.6316, -1.1939,  1.1927,  0.6673],\n",
       "                      [-0.1404, -1.0289, -0.0509, -0.9646],\n",
       "                      [ 1.5470, -1.5546,  0.1414,  1.5432],\n",
       "                      [-0.6316, -1.1939,  1.1927,  0.6673],\n",
       "                      [-0.1404, -1.0289, -0.0509, -0.9646],\n",
       "                      [ 1.5470, -1.5546,  0.1414,  1.5432],\n",
       "                      [-0.6316, -1.1939,  1.1927,  0.6673],\n",
       "                      [-0.1404, -1.0289, -0.0509, -0.9646],\n",
       "                      [ 1.5470, -1.5546,  0.1414,  1.5432]]),\n",
       "       ),\n",
       ")"
      ]
     },
     "execution_count": 27,
     "metadata": {},
     "output_type": "execute_result"
    }
   ],
   "source": [
    "Batch.cat(batches)"
   ]
  },
  {
   "cell_type": "code",
   "execution_count": 28,
   "id": "18dfb045",
   "metadata": {
    "execution": {
     "iopub.execute_input": "2023-02-26T04:55:12.867124Z",
     "iopub.status.busy": "2023-02-26T04:55:12.866920Z",
     "iopub.status.idle": "2023-02-26T04:55:24.418613Z",
     "shell.execute_reply": "2023-02-26T04:55:24.417835Z"
    }
   },
   "outputs": [
    {
     "name": "stdout",
     "output_type": "stream",
     "text": [
      "142 µs ± 335 ns per loop (mean ± std. dev. of 7 runs, 10,000 loops each)\n"
     ]
    }
   ],
   "source": [
    "%timeit Batch.cat(batches)"
   ]
  },
  {
   "cell_type": "code",
   "execution_count": 29,
   "id": "c6688e51",
   "metadata": {
    "execution": {
     "iopub.execute_input": "2023-02-26T04:55:24.421748Z",
     "iopub.status.busy": "2023-02-26T04:55:24.421392Z",
     "iopub.status.idle": "2023-02-26T04:55:26.935223Z",
     "shell.execute_reply": "2023-02-26T04:55:26.934625Z"
    }
   },
   "outputs": [
    {
     "name": "stdout",
     "output_type": "stream",
     "text": [
      "309 µs ± 3.06 µs per loop (mean ± std. dev. of 7 runs, 1,000 loops each)\n"
     ]
    }
   ],
   "source": [
    "batch = Batch({\n",
    "    'obs': torch.randn(8, 4, 84, 84),\n",
    "    'action': torch.randint(0, 6, size=(8, 1,)),\n",
    "    'reward': torch.rand(8, 1)}\n",
    ")\n",
    "\n",
    "%timeit list(Batch.split(batch, 1, shuffle=False, merge_last=True))"
   ]
  },
  {
   "cell_type": "code",
   "execution_count": null,
   "id": "2539fbd9",
   "metadata": {},
   "outputs": [],
   "source": []
  }
 ],
 "metadata": {
  "kernelspec": {
   "display_name": "Python 3 (ipykernel)",
   "language": "python",
   "name": "python3"
  },
  "language_info": {
   "codemirror_mode": {
    "name": "ipython",
    "version": 3
   },
   "file_extension": ".py",
   "mimetype": "text/x-python",
   "name": "python",
   "nbconvert_exporter": "python",
   "pygments_lexer": "ipython3",
   "version": "3.8.16"
  }
 },
 "nbformat": 4,
 "nbformat_minor": 5
}
