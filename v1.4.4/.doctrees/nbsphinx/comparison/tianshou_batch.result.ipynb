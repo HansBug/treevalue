{
 "cells": [
  {
   "cell_type": "markdown",
   "id": "9d39d946",
   "metadata": {},
   "source": [
    "# Comparison Between TreeValue and Tianshou Batch"
   ]
  },
  {
   "cell_type": "markdown",
   "id": "3c6db2d4",
   "metadata": {},
   "source": [
    "In this section, we will take a look at the feature and performance of the [Tianshou Batch](https://github.com/thu-ml/tianshou) library, which is developed by Tsinghua Machine Learning Group."
   ]
  },
  {
   "cell_type": "markdown",
   "id": "069361b0",
   "metadata": {},
   "source": [
    "Before starting the comparison, let us define some thing."
   ]
  },
  {
   "cell_type": "code",
   "execution_count": 1,
   "id": "06fc8d26",
   "metadata": {
    "execution": {
     "iopub.execute_input": "2023-02-27T08:20:11.221708Z",
     "iopub.status.busy": "2023-02-27T08:20:11.221355Z",
     "iopub.status.idle": "2023-02-27T08:20:12.130896Z",
     "shell.execute_reply": "2023-02-27T08:20:12.130231Z"
    }
   },
   "outputs": [
    {
     "name": "stderr",
     "output_type": "stream",
     "text": [
      "/opt/hostedtoolcache/Python/3.8.16/x64/lib/python3.8/site-packages/tqdm/auto.py:22: TqdmWarning: IProgress not found. Please update jupyter and ipywidgets. See https://ipywidgets.readthedocs.io/en/stable/user_install.html\n",
      "  from .autonotebook import tqdm as notebook_tqdm\n"
     ]
    }
   ],
   "source": [
    "import torch \n",
    "\n",
    "_TREE_DATA_1 = {'a': 1, 'b': 2, 'x': {'c': 3, 'd': 4}}\n",
    "_TREE_DATA_2 = {\n",
    "    'a': torch.randn(2, 3), \n",
    "    'x': {\n",
    "        'c': torch.randn(3, 4)\n",
    "    },\n",
    "}\n",
    "_TREE_DATA_3 = {\n",
    "    'obs': torch.randn(4, 84, 84),\n",
    "    'action': torch.randint(0, 6, size=(1,)),\n",
    "    'reward': torch.rand(1),\n",
    "}"
   ]
  },
  {
   "cell_type": "markdown",
   "id": "83461b25",
   "metadata": {},
   "source": [
    "## Read and Write Operation"
   ]
  },
  {
   "cell_type": "markdown",
   "id": "067b3f73",
   "metadata": {},
   "source": [
    "Reading and writing are the two most common operations in the tree data structure based on the data model (TreeValue and Tianshou Batch both belong to this type), so this section will compare the reading and writing performance of these two libraries."
   ]
  },
  {
   "cell_type": "markdown",
   "id": "5d09a5b7",
   "metadata": {},
   "source": [
    "### TreeValue's Get and Set"
   ]
  },
  {
   "cell_type": "code",
   "execution_count": 2,
   "id": "9519c4bb",
   "metadata": {
    "execution": {
     "iopub.execute_input": "2023-02-27T08:20:12.134431Z",
     "iopub.status.busy": "2023-02-27T08:20:12.133812Z",
     "iopub.status.idle": "2023-02-27T08:20:12.166937Z",
     "shell.execute_reply": "2023-02-27T08:20:12.166296Z"
    }
   },
   "outputs": [],
   "source": [
    "from treevalue import FastTreeValue\n",
    "\n",
    "t = FastTreeValue(_TREE_DATA_2)"
   ]
  },
  {
   "cell_type": "code",
   "execution_count": 3,
   "id": "11c37677",
   "metadata": {
    "execution": {
     "iopub.execute_input": "2023-02-27T08:20:12.169933Z",
     "iopub.status.busy": "2023-02-27T08:20:12.169414Z",
     "iopub.status.idle": "2023-02-27T08:20:12.179056Z",
     "shell.execute_reply": "2023-02-27T08:20:12.178460Z"
    }
   },
   "outputs": [
    {
     "data": {
      "text/plain": [
       "<FastTreeValue 0x7fe2a0b0b580>\n",
       "├── 'a' --> tensor([[ 1.2280, -2.0976,  0.0581],\n",
       "│                   [-1.7179, -1.4724,  0.2550]])\n",
       "└── 'x' --> <FastTreeValue 0x7fe2a0a98490>\n",
       "    └── 'c' --> tensor([[ 1.4023, -0.1893, -1.1364, -0.0367],\n",
       "                        [-0.3174,  0.0224,  0.4834, -1.2349],\n",
       "                        [-2.9745,  1.5065,  0.9915, -1.3574]])"
      ]
     },
     "execution_count": 3,
     "metadata": {},
     "output_type": "execute_result"
    }
   ],
   "source": [
    "t"
   ]
  },
  {
   "cell_type": "code",
   "execution_count": 4,
   "id": "fd70b0b9",
   "metadata": {
    "execution": {
     "iopub.execute_input": "2023-02-27T08:20:12.182063Z",
     "iopub.status.busy": "2023-02-27T08:20:12.181559Z",
     "iopub.status.idle": "2023-02-27T08:20:12.186986Z",
     "shell.execute_reply": "2023-02-27T08:20:12.186367Z"
    }
   },
   "outputs": [
    {
     "data": {
      "text/plain": [
       "tensor([[ 1.2280, -2.0976,  0.0581],\n",
       "        [-1.7179, -1.4724,  0.2550]])"
      ]
     },
     "execution_count": 4,
     "metadata": {},
     "output_type": "execute_result"
    }
   ],
   "source": [
    "t.a"
   ]
  },
  {
   "cell_type": "code",
   "execution_count": 5,
   "id": "c18197bd",
   "metadata": {
    "execution": {
     "iopub.execute_input": "2023-02-27T08:20:12.189719Z",
     "iopub.status.busy": "2023-02-27T08:20:12.189364Z",
     "iopub.status.idle": "2023-02-27T08:20:17.513716Z",
     "shell.execute_reply": "2023-02-27T08:20:17.512997Z"
    }
   },
   "outputs": [
    {
     "name": "stdout",
     "output_type": "stream",
     "text": [
      "66.1 ns ± 0.0401 ns per loop (mean ± std. dev. of 7 runs, 10,000,000 loops each)\n"
     ]
    }
   ],
   "source": [
    "%timeit t.a"
   ]
  },
  {
   "cell_type": "code",
   "execution_count": 6,
   "id": "bd52f867",
   "metadata": {
    "execution": {
     "iopub.execute_input": "2023-02-27T08:20:17.516501Z",
     "iopub.status.busy": "2023-02-27T08:20:17.516157Z",
     "iopub.status.idle": "2023-02-27T08:20:17.522806Z",
     "shell.execute_reply": "2023-02-27T08:20:17.522215Z"
    }
   },
   "outputs": [
    {
     "data": {
      "text/plain": [
       "<FastTreeValue 0x7fe2a0b0b580>\n",
       "├── 'a' --> tensor([[-1.0455,  0.4353,  0.5092],\n",
       "│                   [ 0.4438,  0.9852, -1.9432]])\n",
       "└── 'x' --> <FastTreeValue 0x7fe2a0a98490>\n",
       "    └── 'c' --> tensor([[ 1.4023, -0.1893, -1.1364, -0.0367],\n",
       "                        [-0.3174,  0.0224,  0.4834, -1.2349],\n",
       "                        [-2.9745,  1.5065,  0.9915, -1.3574]])"
      ]
     },
     "execution_count": 6,
     "metadata": {},
     "output_type": "execute_result"
    }
   ],
   "source": [
    "new_value = torch.randn(2, 3)\n",
    "t.a = new_value\n",
    "\n",
    "t"
   ]
  },
  {
   "cell_type": "code",
   "execution_count": 7,
   "id": "bbe04d1c",
   "metadata": {
    "execution": {
     "iopub.execute_input": "2023-02-27T08:20:17.525430Z",
     "iopub.status.busy": "2023-02-27T08:20:17.525084Z",
     "iopub.status.idle": "2023-02-27T08:20:22.807082Z",
     "shell.execute_reply": "2023-02-27T08:20:22.806347Z"
    }
   },
   "outputs": [
    {
     "name": "stdout",
     "output_type": "stream",
     "text": [
      "65 ns ± 0.0637 ns per loop (mean ± std. dev. of 7 runs, 10,000,000 loops each)\n"
     ]
    }
   ],
   "source": [
    "%timeit t.a = new_value"
   ]
  },
  {
   "cell_type": "markdown",
   "id": "48c49731",
   "metadata": {},
   "source": [
    "### Tianshou Batch's Get and Set"
   ]
  },
  {
   "cell_type": "code",
   "execution_count": 8,
   "id": "f1bb14c1",
   "metadata": {
    "execution": {
     "iopub.execute_input": "2023-02-27T08:20:22.810149Z",
     "iopub.status.busy": "2023-02-27T08:20:22.809783Z",
     "iopub.status.idle": "2023-02-27T08:20:23.133220Z",
     "shell.execute_reply": "2023-02-27T08:20:23.132579Z"
    }
   },
   "outputs": [],
   "source": [
    "from tianshou.data import Batch\n",
    "\n",
    "b = Batch(**_TREE_DATA_2)"
   ]
  },
  {
   "cell_type": "code",
   "execution_count": 9,
   "id": "cb0777c3",
   "metadata": {
    "execution": {
     "iopub.execute_input": "2023-02-27T08:20:23.136639Z",
     "iopub.status.busy": "2023-02-27T08:20:23.135947Z",
     "iopub.status.idle": "2023-02-27T08:20:23.141391Z",
     "shell.execute_reply": "2023-02-27T08:20:23.140776Z"
    }
   },
   "outputs": [
    {
     "data": {
      "text/plain": [
       "Batch(\n",
       "    a: tensor([[ 1.2280, -2.0976,  0.0581],\n",
       "               [-1.7179, -1.4724,  0.2550]]),\n",
       "    x: Batch(\n",
       "           c: tensor([[ 1.4023, -0.1893, -1.1364, -0.0367],\n",
       "                      [-0.3174,  0.0224,  0.4834, -1.2349],\n",
       "                      [-2.9745,  1.5065,  0.9915, -1.3574]]),\n",
       "       ),\n",
       ")"
      ]
     },
     "execution_count": 9,
     "metadata": {},
     "output_type": "execute_result"
    }
   ],
   "source": [
    "b"
   ]
  },
  {
   "cell_type": "code",
   "execution_count": 10,
   "id": "43ef8ea3",
   "metadata": {
    "execution": {
     "iopub.execute_input": "2023-02-27T08:20:23.144222Z",
     "iopub.status.busy": "2023-02-27T08:20:23.143889Z",
     "iopub.status.idle": "2023-02-27T08:20:23.148586Z",
     "shell.execute_reply": "2023-02-27T08:20:23.147929Z"
    }
   },
   "outputs": [
    {
     "data": {
      "text/plain": [
       "tensor([[ 1.2280, -2.0976,  0.0581],\n",
       "        [-1.7179, -1.4724,  0.2550]])"
      ]
     },
     "execution_count": 10,
     "metadata": {},
     "output_type": "execute_result"
    }
   ],
   "source": [
    "b.a"
   ]
  },
  {
   "cell_type": "code",
   "execution_count": 11,
   "id": "b785ab72",
   "metadata": {
    "execution": {
     "iopub.execute_input": "2023-02-27T08:20:23.151153Z",
     "iopub.status.busy": "2023-02-27T08:20:23.150668Z",
     "iopub.status.idle": "2023-02-27T08:20:27.401334Z",
     "shell.execute_reply": "2023-02-27T08:20:27.400587Z"
    }
   },
   "outputs": [
    {
     "name": "stdout",
     "output_type": "stream",
     "text": [
      "52.5 ns ± 0.057 ns per loop (mean ± std. dev. of 7 runs, 10,000,000 loops each)\n"
     ]
    }
   ],
   "source": [
    "%timeit b.a"
   ]
  },
  {
   "cell_type": "code",
   "execution_count": 12,
   "id": "ad54dc69",
   "metadata": {
    "execution": {
     "iopub.execute_input": "2023-02-27T08:20:27.404289Z",
     "iopub.status.busy": "2023-02-27T08:20:27.403933Z",
     "iopub.status.idle": "2023-02-27T08:20:27.410274Z",
     "shell.execute_reply": "2023-02-27T08:20:27.409656Z"
    }
   },
   "outputs": [
    {
     "data": {
      "text/plain": [
       "Batch(\n",
       "    a: tensor([[-0.4036, -0.6765,  0.5559],\n",
       "               [ 0.7980,  0.5273,  1.1415]]),\n",
       "    x: Batch(\n",
       "           c: tensor([[ 1.4023, -0.1893, -1.1364, -0.0367],\n",
       "                      [-0.3174,  0.0224,  0.4834, -1.2349],\n",
       "                      [-2.9745,  1.5065,  0.9915, -1.3574]]),\n",
       "       ),\n",
       ")"
      ]
     },
     "execution_count": 12,
     "metadata": {},
     "output_type": "execute_result"
    }
   ],
   "source": [
    "new_value = torch.randn(2, 3)\n",
    "b.a = new_value\n",
    "\n",
    "b"
   ]
  },
  {
   "cell_type": "code",
   "execution_count": 13,
   "id": "29b1d0bf",
   "metadata": {
    "execution": {
     "iopub.execute_input": "2023-02-27T08:20:27.413104Z",
     "iopub.status.busy": "2023-02-27T08:20:27.412628Z",
     "iopub.status.idle": "2023-02-27T08:20:31.306986Z",
     "shell.execute_reply": "2023-02-27T08:20:31.306272Z"
    }
   },
   "outputs": [
    {
     "name": "stdout",
     "output_type": "stream",
     "text": [
      "479 ns ± 0.132 ns per loop (mean ± std. dev. of 7 runs, 1,000,000 loops each)\n"
     ]
    }
   ],
   "source": [
    "%timeit b.a = new_value"
   ]
  },
  {
   "cell_type": "markdown",
   "id": "b61ad1d0",
   "metadata": {},
   "source": [
    "## Initialization"
   ]
  },
  {
   "cell_type": "markdown",
   "id": "d70f0d54",
   "metadata": {},
   "source": [
    "### TreeValue's Initialization"
   ]
  },
  {
   "cell_type": "code",
   "execution_count": 14,
   "id": "d32a679b",
   "metadata": {
    "execution": {
     "iopub.execute_input": "2023-02-27T08:20:31.309948Z",
     "iopub.status.busy": "2023-02-27T08:20:31.309609Z",
     "iopub.status.idle": "2023-02-27T08:20:38.107697Z",
     "shell.execute_reply": "2023-02-27T08:20:38.106989Z"
    }
   },
   "outputs": [
    {
     "name": "stdout",
     "output_type": "stream",
     "text": [
      "837 ns ± 0.173 ns per loop (mean ± std. dev. of 7 runs, 1,000,000 loops each)\n"
     ]
    }
   ],
   "source": [
    "%timeit FastTreeValue(_TREE_DATA_1)"
   ]
  },
  {
   "cell_type": "markdown",
   "id": "24f3707b",
   "metadata": {},
   "source": [
    "### Tianshou Batch's Initialization"
   ]
  },
  {
   "cell_type": "code",
   "execution_count": 15,
   "id": "ac3958df",
   "metadata": {
    "execution": {
     "iopub.execute_input": "2023-02-27T08:20:38.110818Z",
     "iopub.status.busy": "2023-02-27T08:20:38.110450Z",
     "iopub.status.idle": "2023-02-27T08:20:47.274046Z",
     "shell.execute_reply": "2023-02-27T08:20:47.273288Z"
    }
   },
   "outputs": [
    {
     "name": "stdout",
     "output_type": "stream",
     "text": [
      "11.3 µs ± 33.1 ns per loop (mean ± std. dev. of 7 runs, 100,000 loops each)\n"
     ]
    }
   ],
   "source": [
    "%timeit Batch(**_TREE_DATA_1)"
   ]
  },
  {
   "cell_type": "markdown",
   "id": "1ab82e2d",
   "metadata": {},
   "source": [
    "## Deep Copy Operation"
   ]
  },
  {
   "cell_type": "code",
   "execution_count": 16,
   "id": "210a9442",
   "metadata": {
    "execution": {
     "iopub.execute_input": "2023-02-27T08:20:47.276922Z",
     "iopub.status.busy": "2023-02-27T08:20:47.276554Z",
     "iopub.status.idle": "2023-02-27T08:20:47.280599Z",
     "shell.execute_reply": "2023-02-27T08:20:47.279980Z"
    }
   },
   "outputs": [],
   "source": [
    "import copy"
   ]
  },
  {
   "cell_type": "markdown",
   "id": "5a736274",
   "metadata": {},
   "source": [
    "### Deep Copy of TreeValue"
   ]
  },
  {
   "cell_type": "code",
   "execution_count": 17,
   "id": "f9bcadd6",
   "metadata": {
    "execution": {
     "iopub.execute_input": "2023-02-27T08:20:47.283036Z",
     "iopub.status.busy": "2023-02-27T08:20:47.282701Z",
     "iopub.status.idle": "2023-02-27T08:20:58.226057Z",
     "shell.execute_reply": "2023-02-27T08:20:58.225490Z"
    }
   },
   "outputs": [
    {
     "name": "stdout",
     "output_type": "stream",
     "text": [
      "135 µs ± 308 ns per loop (mean ± std. dev. of 7 runs, 10,000 loops each)\n"
     ]
    }
   ],
   "source": [
    "t3 = FastTreeValue(_TREE_DATA_3)\n",
    "%timeit copy.deepcopy(t3)"
   ]
  },
  {
   "cell_type": "markdown",
   "id": "bf8be7ea",
   "metadata": {},
   "source": [
    "### Deep Copy of Tianshou Batch"
   ]
  },
  {
   "cell_type": "code",
   "execution_count": 18,
   "id": "91998e6f",
   "metadata": {
    "execution": {
     "iopub.execute_input": "2023-02-27T08:20:58.230147Z",
     "iopub.status.busy": "2023-02-27T08:20:58.229165Z",
     "iopub.status.idle": "2023-02-27T08:21:09.413205Z",
     "shell.execute_reply": "2023-02-27T08:21:09.412519Z"
    }
   },
   "outputs": [
    {
     "name": "stdout",
     "output_type": "stream",
     "text": [
      "138 µs ± 660 ns per loop (mean ± std. dev. of 7 runs, 10,000 loops each)\n"
     ]
    }
   ],
   "source": [
    "b3 = Batch(**_TREE_DATA_3)\n",
    "%timeit copy.deepcopy(b3)"
   ]
  },
  {
   "cell_type": "markdown",
   "id": "223162fb",
   "metadata": {},
   "source": [
    "## Stack, Concat and Split Operation"
   ]
  },
  {
   "cell_type": "markdown",
   "id": "85fa4a73",
   "metadata": {},
   "source": [
    "### Performance of TreeValue"
   ]
  },
  {
   "cell_type": "code",
   "execution_count": 19,
   "id": "a0c2b697",
   "metadata": {
    "execution": {
     "iopub.execute_input": "2023-02-27T08:21:09.416521Z",
     "iopub.status.busy": "2023-02-27T08:21:09.416165Z",
     "iopub.status.idle": "2023-02-27T08:21:09.420378Z",
     "shell.execute_reply": "2023-02-27T08:21:09.419774Z"
    }
   },
   "outputs": [],
   "source": [
    "trees = [FastTreeValue(_TREE_DATA_2) for _ in range(8)]"
   ]
  },
  {
   "cell_type": "code",
   "execution_count": 20,
   "id": "017ea5a5",
   "metadata": {
    "execution": {
     "iopub.execute_input": "2023-02-27T08:21:09.423263Z",
     "iopub.status.busy": "2023-02-27T08:21:09.422800Z",
     "iopub.status.idle": "2023-02-27T08:21:09.431330Z",
     "shell.execute_reply": "2023-02-27T08:21:09.430783Z"
    }
   },
   "outputs": [
    {
     "data": {
      "text/plain": [
       "<FastTreeValue 0x7fe2a0a92820>\n",
       "├── 'a' --> tensor([[[ 1.2280, -2.0976,  0.0581],\n",
       "│                    [-1.7179, -1.4724,  0.2550]],\n",
       "│           \n",
       "│                   [[ 1.2280, -2.0976,  0.0581],\n",
       "│                    [-1.7179, -1.4724,  0.2550]],\n",
       "│           \n",
       "│                   [[ 1.2280, -2.0976,  0.0581],\n",
       "│                    [-1.7179, -1.4724,  0.2550]],\n",
       "│           \n",
       "│                   [[ 1.2280, -2.0976,  0.0581],\n",
       "│                    [-1.7179, -1.4724,  0.2550]],\n",
       "│           \n",
       "│                   [[ 1.2280, -2.0976,  0.0581],\n",
       "│                    [-1.7179, -1.4724,  0.2550]],\n",
       "│           \n",
       "│                   [[ 1.2280, -2.0976,  0.0581],\n",
       "│                    [-1.7179, -1.4724,  0.2550]],\n",
       "│           \n",
       "│                   [[ 1.2280, -2.0976,  0.0581],\n",
       "│                    [-1.7179, -1.4724,  0.2550]],\n",
       "│           \n",
       "│                   [[ 1.2280, -2.0976,  0.0581],\n",
       "│                    [-1.7179, -1.4724,  0.2550]]])\n",
       "└── 'x' --> <FastTreeValue 0x7fe2a0a92160>\n",
       "    └── 'c' --> tensor([[[ 1.4023, -0.1893, -1.1364, -0.0367],\n",
       "                         [-0.3174,  0.0224,  0.4834, -1.2349],\n",
       "                         [-2.9745,  1.5065,  0.9915, -1.3574]],\n",
       "                \n",
       "                        [[ 1.4023, -0.1893, -1.1364, -0.0367],\n",
       "                         [-0.3174,  0.0224,  0.4834, -1.2349],\n",
       "                         [-2.9745,  1.5065,  0.9915, -1.3574]],\n",
       "                \n",
       "                        [[ 1.4023, -0.1893, -1.1364, -0.0367],\n",
       "                         [-0.3174,  0.0224,  0.4834, -1.2349],\n",
       "                         [-2.9745,  1.5065,  0.9915, -1.3574]],\n",
       "                \n",
       "                        [[ 1.4023, -0.1893, -1.1364, -0.0367],\n",
       "                         [-0.3174,  0.0224,  0.4834, -1.2349],\n",
       "                         [-2.9745,  1.5065,  0.9915, -1.3574]],\n",
       "                \n",
       "                        [[ 1.4023, -0.1893, -1.1364, -0.0367],\n",
       "                         [-0.3174,  0.0224,  0.4834, -1.2349],\n",
       "                         [-2.9745,  1.5065,  0.9915, -1.3574]],\n",
       "                \n",
       "                        [[ 1.4023, -0.1893, -1.1364, -0.0367],\n",
       "                         [-0.3174,  0.0224,  0.4834, -1.2349],\n",
       "                         [-2.9745,  1.5065,  0.9915, -1.3574]],\n",
       "                \n",
       "                        [[ 1.4023, -0.1893, -1.1364, -0.0367],\n",
       "                         [-0.3174,  0.0224,  0.4834, -1.2349],\n",
       "                         [-2.9745,  1.5065,  0.9915, -1.3574]],\n",
       "                \n",
       "                        [[ 1.4023, -0.1893, -1.1364, -0.0367],\n",
       "                         [-0.3174,  0.0224,  0.4834, -1.2349],\n",
       "                         [-2.9745,  1.5065,  0.9915, -1.3574]]])"
      ]
     },
     "execution_count": 20,
     "metadata": {},
     "output_type": "execute_result"
    }
   ],
   "source": [
    "t_stack = FastTreeValue.func(subside=True)(torch.stack)\n",
    "\n",
    "t_stack(trees)"
   ]
  },
  {
   "cell_type": "code",
   "execution_count": 21,
   "id": "f8b3f415",
   "metadata": {
    "execution": {
     "iopub.execute_input": "2023-02-27T08:21:09.433850Z",
     "iopub.status.busy": "2023-02-27T08:21:09.433423Z",
     "iopub.status.idle": "2023-02-27T08:21:12.013616Z",
     "shell.execute_reply": "2023-02-27T08:21:12.012877Z"
    }
   },
   "outputs": [
    {
     "name": "stdout",
     "output_type": "stream",
     "text": [
      "31.7 µs ± 64.6 ns per loop (mean ± std. dev. of 7 runs, 10,000 loops each)\n"
     ]
    }
   ],
   "source": [
    "%timeit t_stack(trees)"
   ]
  },
  {
   "cell_type": "code",
   "execution_count": 22,
   "id": "94b56771",
   "metadata": {
    "execution": {
     "iopub.execute_input": "2023-02-27T08:21:12.016702Z",
     "iopub.status.busy": "2023-02-27T08:21:12.016103Z",
     "iopub.status.idle": "2023-02-27T08:21:12.023253Z",
     "shell.execute_reply": "2023-02-27T08:21:12.022634Z"
    }
   },
   "outputs": [
    {
     "data": {
      "text/plain": [
       "<FastTreeValue 0x7fe1f675b9d0>\n",
       "├── 'a' --> tensor([[ 1.2280, -2.0976,  0.0581],\n",
       "│                   [-1.7179, -1.4724,  0.2550],\n",
       "│                   [ 1.2280, -2.0976,  0.0581],\n",
       "│                   [-1.7179, -1.4724,  0.2550],\n",
       "│                   [ 1.2280, -2.0976,  0.0581],\n",
       "│                   [-1.7179, -1.4724,  0.2550],\n",
       "│                   [ 1.2280, -2.0976,  0.0581],\n",
       "│                   [-1.7179, -1.4724,  0.2550],\n",
       "│                   [ 1.2280, -2.0976,  0.0581],\n",
       "│                   [-1.7179, -1.4724,  0.2550],\n",
       "│                   [ 1.2280, -2.0976,  0.0581],\n",
       "│                   [-1.7179, -1.4724,  0.2550],\n",
       "│                   [ 1.2280, -2.0976,  0.0581],\n",
       "│                   [-1.7179, -1.4724,  0.2550],\n",
       "│                   [ 1.2280, -2.0976,  0.0581],\n",
       "│                   [-1.7179, -1.4724,  0.2550]])\n",
       "└── 'x' --> <FastTreeValue 0x7fe1f6777f40>\n",
       "    └── 'c' --> tensor([[ 1.4023, -0.1893, -1.1364, -0.0367],\n",
       "                        [-0.3174,  0.0224,  0.4834, -1.2349],\n",
       "                        [-2.9745,  1.5065,  0.9915, -1.3574],\n",
       "                        [ 1.4023, -0.1893, -1.1364, -0.0367],\n",
       "                        [-0.3174,  0.0224,  0.4834, -1.2349],\n",
       "                        [-2.9745,  1.5065,  0.9915, -1.3574],\n",
       "                        [ 1.4023, -0.1893, -1.1364, -0.0367],\n",
       "                        [-0.3174,  0.0224,  0.4834, -1.2349],\n",
       "                        [-2.9745,  1.5065,  0.9915, -1.3574],\n",
       "                        [ 1.4023, -0.1893, -1.1364, -0.0367],\n",
       "                        [-0.3174,  0.0224,  0.4834, -1.2349],\n",
       "                        [-2.9745,  1.5065,  0.9915, -1.3574],\n",
       "                        [ 1.4023, -0.1893, -1.1364, -0.0367],\n",
       "                        [-0.3174,  0.0224,  0.4834, -1.2349],\n",
       "                        [-2.9745,  1.5065,  0.9915, -1.3574],\n",
       "                        [ 1.4023, -0.1893, -1.1364, -0.0367],\n",
       "                        [-0.3174,  0.0224,  0.4834, -1.2349],\n",
       "                        [-2.9745,  1.5065,  0.9915, -1.3574],\n",
       "                        [ 1.4023, -0.1893, -1.1364, -0.0367],\n",
       "                        [-0.3174,  0.0224,  0.4834, -1.2349],\n",
       "                        [-2.9745,  1.5065,  0.9915, -1.3574],\n",
       "                        [ 1.4023, -0.1893, -1.1364, -0.0367],\n",
       "                        [-0.3174,  0.0224,  0.4834, -1.2349],\n",
       "                        [-2.9745,  1.5065,  0.9915, -1.3574]])"
      ]
     },
     "execution_count": 22,
     "metadata": {},
     "output_type": "execute_result"
    }
   ],
   "source": [
    "t_cat = FastTreeValue.func(subside=True)(torch.cat)\n",
    "\n",
    "t_cat(trees)"
   ]
  },
  {
   "cell_type": "code",
   "execution_count": 23,
   "id": "5e9c06a6",
   "metadata": {
    "execution": {
     "iopub.execute_input": "2023-02-27T08:21:12.025723Z",
     "iopub.status.busy": "2023-02-27T08:21:12.025382Z",
     "iopub.status.idle": "2023-02-27T08:21:14.450227Z",
     "shell.execute_reply": "2023-02-27T08:21:14.449478Z"
    }
   },
   "outputs": [
    {
     "name": "stdout",
     "output_type": "stream",
     "text": [
      "29.8 µs ± 52 ns per loop (mean ± std. dev. of 7 runs, 10,000 loops each)\n"
     ]
    }
   ],
   "source": [
    "%timeit t_cat(trees)"
   ]
  },
  {
   "cell_type": "code",
   "execution_count": 24,
   "id": "a3ab5c8f",
   "metadata": {
    "execution": {
     "iopub.execute_input": "2023-02-27T08:21:14.453480Z",
     "iopub.status.busy": "2023-02-27T08:21:14.452892Z",
     "iopub.status.idle": "2023-02-27T08:21:19.082632Z",
     "shell.execute_reply": "2023-02-27T08:21:19.081904Z"
    }
   },
   "outputs": [
    {
     "name": "stdout",
     "output_type": "stream",
     "text": [
      "56.9 µs ± 249 ns per loop (mean ± std. dev. of 7 runs, 10,000 loops each)\n"
     ]
    }
   ],
   "source": [
    "t_split = FastTreeValue.func(rise=True)(torch.split)\n",
    "tree = FastTreeValue({\n",
    "    'obs': torch.randn(8, 4, 84, 84),\n",
    "    'action': torch.randint(0, 6, size=(8, 1,)),\n",
    "    'reward': torch.rand(8, 1),\n",
    "})\n",
    "\n",
    "%timeit t_split(tree, 1)"
   ]
  },
  {
   "cell_type": "markdown",
   "id": "31c3ec0b",
   "metadata": {},
   "source": [
    "### Performance of Tianshou Batch"
   ]
  },
  {
   "cell_type": "code",
   "execution_count": 25,
   "id": "9ead828a",
   "metadata": {
    "execution": {
     "iopub.execute_input": "2023-02-27T08:21:19.085956Z",
     "iopub.status.busy": "2023-02-27T08:21:19.085443Z",
     "iopub.status.idle": "2023-02-27T08:21:19.093313Z",
     "shell.execute_reply": "2023-02-27T08:21:19.092734Z"
    }
   },
   "outputs": [
    {
     "data": {
      "text/plain": [
       "Batch(\n",
       "    x: Batch(\n",
       "           c: tensor([[[ 1.4023, -0.1893, -1.1364, -0.0367],\n",
       "                       [-0.3174,  0.0224,  0.4834, -1.2349],\n",
       "                       [-2.9745,  1.5065,  0.9915, -1.3574]],\n",
       "              \n",
       "                      [[ 1.4023, -0.1893, -1.1364, -0.0367],\n",
       "                       [-0.3174,  0.0224,  0.4834, -1.2349],\n",
       "                       [-2.9745,  1.5065,  0.9915, -1.3574]],\n",
       "              \n",
       "                      [[ 1.4023, -0.1893, -1.1364, -0.0367],\n",
       "                       [-0.3174,  0.0224,  0.4834, -1.2349],\n",
       "                       [-2.9745,  1.5065,  0.9915, -1.3574]],\n",
       "              \n",
       "                      [[ 1.4023, -0.1893, -1.1364, -0.0367],\n",
       "                       [-0.3174,  0.0224,  0.4834, -1.2349],\n",
       "                       [-2.9745,  1.5065,  0.9915, -1.3574]],\n",
       "              \n",
       "                      [[ 1.4023, -0.1893, -1.1364, -0.0367],\n",
       "                       [-0.3174,  0.0224,  0.4834, -1.2349],\n",
       "                       [-2.9745,  1.5065,  0.9915, -1.3574]],\n",
       "              \n",
       "                      [[ 1.4023, -0.1893, -1.1364, -0.0367],\n",
       "                       [-0.3174,  0.0224,  0.4834, -1.2349],\n",
       "                       [-2.9745,  1.5065,  0.9915, -1.3574]],\n",
       "              \n",
       "                      [[ 1.4023, -0.1893, -1.1364, -0.0367],\n",
       "                       [-0.3174,  0.0224,  0.4834, -1.2349],\n",
       "                       [-2.9745,  1.5065,  0.9915, -1.3574]],\n",
       "              \n",
       "                      [[ 1.4023, -0.1893, -1.1364, -0.0367],\n",
       "                       [-0.3174,  0.0224,  0.4834, -1.2349],\n",
       "                       [-2.9745,  1.5065,  0.9915, -1.3574]]]),\n",
       "       ),\n",
       "    a: tensor([[[ 1.2280, -2.0976,  0.0581],\n",
       "                [-1.7179, -1.4724,  0.2550]],\n",
       "       \n",
       "               [[ 1.2280, -2.0976,  0.0581],\n",
       "                [-1.7179, -1.4724,  0.2550]],\n",
       "       \n",
       "               [[ 1.2280, -2.0976,  0.0581],\n",
       "                [-1.7179, -1.4724,  0.2550]],\n",
       "       \n",
       "               [[ 1.2280, -2.0976,  0.0581],\n",
       "                [-1.7179, -1.4724,  0.2550]],\n",
       "       \n",
       "               [[ 1.2280, -2.0976,  0.0581],\n",
       "                [-1.7179, -1.4724,  0.2550]],\n",
       "       \n",
       "               [[ 1.2280, -2.0976,  0.0581],\n",
       "                [-1.7179, -1.4724,  0.2550]],\n",
       "       \n",
       "               [[ 1.2280, -2.0976,  0.0581],\n",
       "                [-1.7179, -1.4724,  0.2550]],\n",
       "       \n",
       "               [[ 1.2280, -2.0976,  0.0581],\n",
       "                [-1.7179, -1.4724,  0.2550]]]),\n",
       ")"
      ]
     },
     "execution_count": 25,
     "metadata": {},
     "output_type": "execute_result"
    }
   ],
   "source": [
    "batches = [Batch(**_TREE_DATA_2) for _ in range(8)]\n",
    "\n",
    "Batch.stack(batches)"
   ]
  },
  {
   "cell_type": "code",
   "execution_count": 26,
   "id": "ec9037a3",
   "metadata": {
    "execution": {
     "iopub.execute_input": "2023-02-27T08:21:19.095791Z",
     "iopub.status.busy": "2023-02-27T08:21:19.095441Z",
     "iopub.status.idle": "2023-02-27T08:21:25.403793Z",
     "shell.execute_reply": "2023-02-27T08:21:25.403134Z"
    }
   },
   "outputs": [
    {
     "name": "stdout",
     "output_type": "stream",
     "text": [
      "77.6 µs ± 210 ns per loop (mean ± std. dev. of 7 runs, 10,000 loops each)\n"
     ]
    }
   ],
   "source": [
    "%timeit Batch.stack(batches)"
   ]
  },
  {
   "cell_type": "code",
   "execution_count": 27,
   "id": "cb8ab77e",
   "metadata": {
    "execution": {
     "iopub.execute_input": "2023-02-27T08:21:25.406695Z",
     "iopub.status.busy": "2023-02-27T08:21:25.406342Z",
     "iopub.status.idle": "2023-02-27T08:21:25.413031Z",
     "shell.execute_reply": "2023-02-27T08:21:25.412417Z"
    }
   },
   "outputs": [
    {
     "data": {
      "text/plain": [
       "Batch(\n",
       "    x: Batch(\n",
       "           c: tensor([[ 1.4023, -0.1893, -1.1364, -0.0367],\n",
       "                      [-0.3174,  0.0224,  0.4834, -1.2349],\n",
       "                      [-2.9745,  1.5065,  0.9915, -1.3574],\n",
       "                      [ 1.4023, -0.1893, -1.1364, -0.0367],\n",
       "                      [-0.3174,  0.0224,  0.4834, -1.2349],\n",
       "                      [-2.9745,  1.5065,  0.9915, -1.3574],\n",
       "                      [ 1.4023, -0.1893, -1.1364, -0.0367],\n",
       "                      [-0.3174,  0.0224,  0.4834, -1.2349],\n",
       "                      [-2.9745,  1.5065,  0.9915, -1.3574],\n",
       "                      [ 1.4023, -0.1893, -1.1364, -0.0367],\n",
       "                      [-0.3174,  0.0224,  0.4834, -1.2349],\n",
       "                      [-2.9745,  1.5065,  0.9915, -1.3574],\n",
       "                      [ 1.4023, -0.1893, -1.1364, -0.0367],\n",
       "                      [-0.3174,  0.0224,  0.4834, -1.2349],\n",
       "                      [-2.9745,  1.5065,  0.9915, -1.3574],\n",
       "                      [ 1.4023, -0.1893, -1.1364, -0.0367],\n",
       "                      [-0.3174,  0.0224,  0.4834, -1.2349],\n",
       "                      [-2.9745,  1.5065,  0.9915, -1.3574],\n",
       "                      [ 1.4023, -0.1893, -1.1364, -0.0367],\n",
       "                      [-0.3174,  0.0224,  0.4834, -1.2349],\n",
       "                      [-2.9745,  1.5065,  0.9915, -1.3574],\n",
       "                      [ 1.4023, -0.1893, -1.1364, -0.0367],\n",
       "                      [-0.3174,  0.0224,  0.4834, -1.2349],\n",
       "                      [-2.9745,  1.5065,  0.9915, -1.3574]]),\n",
       "       ),\n",
       "    a: tensor([[ 1.2280, -2.0976,  0.0581],\n",
       "               [-1.7179, -1.4724,  0.2550],\n",
       "               [ 1.2280, -2.0976,  0.0581],\n",
       "               [-1.7179, -1.4724,  0.2550],\n",
       "               [ 1.2280, -2.0976,  0.0581],\n",
       "               [-1.7179, -1.4724,  0.2550],\n",
       "               [ 1.2280, -2.0976,  0.0581],\n",
       "               [-1.7179, -1.4724,  0.2550],\n",
       "               [ 1.2280, -2.0976,  0.0581],\n",
       "               [-1.7179, -1.4724,  0.2550],\n",
       "               [ 1.2280, -2.0976,  0.0581],\n",
       "               [-1.7179, -1.4724,  0.2550],\n",
       "               [ 1.2280, -2.0976,  0.0581],\n",
       "               [-1.7179, -1.4724,  0.2550],\n",
       "               [ 1.2280, -2.0976,  0.0581],\n",
       "               [-1.7179, -1.4724,  0.2550]]),\n",
       ")"
      ]
     },
     "execution_count": 27,
     "metadata": {},
     "output_type": "execute_result"
    }
   ],
   "source": [
    "Batch.cat(batches)"
   ]
  },
  {
   "cell_type": "code",
   "execution_count": 28,
   "id": "18dfb045",
   "metadata": {
    "execution": {
     "iopub.execute_input": "2023-02-27T08:21:25.415520Z",
     "iopub.status.busy": "2023-02-27T08:21:25.415188Z",
     "iopub.status.idle": "2023-02-27T08:21:37.035109Z",
     "shell.execute_reply": "2023-02-27T08:21:37.034397Z"
    }
   },
   "outputs": [
    {
     "name": "stdout",
     "output_type": "stream",
     "text": [
      "143 µs ± 131 ns per loop (mean ± std. dev. of 7 runs, 10,000 loops each)\n"
     ]
    }
   ],
   "source": [
    "%timeit Batch.cat(batches)"
   ]
  },
  {
   "cell_type": "code",
   "execution_count": 29,
   "id": "c6688e51",
   "metadata": {
    "execution": {
     "iopub.execute_input": "2023-02-27T08:21:37.037924Z",
     "iopub.status.busy": "2023-02-27T08:21:37.037575Z",
     "iopub.status.idle": "2023-02-27T08:21:39.509717Z",
     "shell.execute_reply": "2023-02-27T08:21:39.509172Z"
    }
   },
   "outputs": [
    {
     "name": "stdout",
     "output_type": "stream",
     "text": [
      "304 µs ± 733 ns per loop (mean ± std. dev. of 7 runs, 1,000 loops each)\n"
     ]
    }
   ],
   "source": [
    "batch = Batch({\n",
    "    'obs': torch.randn(8, 4, 84, 84),\n",
    "    'action': torch.randint(0, 6, size=(8, 1,)),\n",
    "    'reward': torch.rand(8, 1)}\n",
    ")\n",
    "\n",
    "%timeit list(Batch.split(batch, 1, shuffle=False, merge_last=True))"
   ]
  },
  {
   "cell_type": "code",
   "execution_count": null,
   "id": "2539fbd9",
   "metadata": {},
   "outputs": [],
   "source": []
  }
 ],
 "metadata": {
  "kernelspec": {
   "display_name": "Python 3 (ipykernel)",
   "language": "python",
   "name": "python3"
  },
  "language_info": {
   "codemirror_mode": {
    "name": "ipython",
    "version": 3
   },
   "file_extension": ".py",
   "mimetype": "text/x-python",
   "name": "python",
   "nbconvert_exporter": "python",
   "pygments_lexer": "ipython3",
   "version": "3.8.16"
  }
 },
 "nbformat": 4,
 "nbformat_minor": 5
}
