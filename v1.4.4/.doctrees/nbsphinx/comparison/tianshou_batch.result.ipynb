{
 "cells": [
  {
   "cell_type": "markdown",
   "id": "9d39d946",
   "metadata": {},
   "source": [
    "# Comparison Between TreeValue and Tianshou Batch"
   ]
  },
  {
   "cell_type": "markdown",
   "id": "3c6db2d4",
   "metadata": {},
   "source": [
    "In this section, we will take a look at the feature and performance of the [Tianshou Batch](https://github.com/thu-ml/tianshou) library, which is developed by Tsinghua Machine Learning Group."
   ]
  },
  {
   "cell_type": "markdown",
   "id": "069361b0",
   "metadata": {},
   "source": [
    "Before starting the comparison, let us define some thing."
   ]
  },
  {
   "cell_type": "code",
   "execution_count": 1,
   "id": "06fc8d26",
   "metadata": {
    "execution": {
     "iopub.execute_input": "2023-10-20T05:42:13.279974Z",
     "iopub.status.busy": "2023-10-20T05:42:13.279414Z",
     "iopub.status.idle": "2023-10-20T05:42:15.102486Z",
     "shell.execute_reply": "2023-10-20T05:42:15.101133Z"
    }
   },
   "outputs": [],
   "source": [
    "import torch \n",
    "\n",
    "_TREE_DATA_1 = {'a': 1, 'b': 2, 'x': {'c': 3, 'd': 4}}\n",
    "_TREE_DATA_2 = {\n",
    "    'a': torch.randn(2, 3), \n",
    "    'x': {\n",
    "        'c': torch.randn(3, 4)\n",
    "    },\n",
    "}\n",
    "_TREE_DATA_3 = {\n",
    "    'obs': torch.randn(4, 84, 84),\n",
    "    'action': torch.randint(0, 6, size=(1,)),\n",
    "    'reward': torch.rand(1),\n",
    "}"
   ]
  },
  {
   "cell_type": "markdown",
   "id": "83461b25",
   "metadata": {},
   "source": [
    "## Read and Write Operation"
   ]
  },
  {
   "cell_type": "markdown",
   "id": "067b3f73",
   "metadata": {},
   "source": [
    "Reading and writing are the two most common operations in the tree data structure based on the data model (TreeValue and Tianshou Batch both belong to this type), so this section will compare the reading and writing performance of these two libraries."
   ]
  },
  {
   "cell_type": "markdown",
   "id": "5d09a5b7",
   "metadata": {},
   "source": [
    "### TreeValue's Get and Set"
   ]
  },
  {
   "cell_type": "code",
   "execution_count": 2,
   "id": "9519c4bb",
   "metadata": {
    "execution": {
     "iopub.execute_input": "2023-10-20T05:42:15.108203Z",
     "iopub.status.busy": "2023-10-20T05:42:15.107592Z",
     "iopub.status.idle": "2023-10-20T05:42:15.143919Z",
     "shell.execute_reply": "2023-10-20T05:42:15.142991Z"
    }
   },
   "outputs": [],
   "source": [
    "from treevalue import FastTreeValue\n",
    "\n",
    "t = FastTreeValue(_TREE_DATA_2)"
   ]
  },
  {
   "cell_type": "code",
   "execution_count": 3,
   "id": "11c37677",
   "metadata": {
    "execution": {
     "iopub.execute_input": "2023-10-20T05:42:15.148773Z",
     "iopub.status.busy": "2023-10-20T05:42:15.148094Z",
     "iopub.status.idle": "2023-10-20T05:42:15.160424Z",
     "shell.execute_reply": "2023-10-20T05:42:15.159704Z"
    }
   },
   "outputs": [
    {
     "data": {
      "text/plain": [
       "<FastTreeValue 0x7fd5744ad850>\n",
       "├── 'a' --> tensor([[ 0.4811,  0.7283, -0.9325],\n",
       "│                   [ 0.5699,  0.8484, -0.7635]])\n",
       "└── 'x' --> <FastTreeValue 0x7fd5744adf10>\n",
       "    └── 'c' --> tensor([[-0.5616,  0.0933, -0.9277,  0.2709],\n",
       "                        [-0.6223,  1.1157,  0.8409,  0.3695],\n",
       "                        [ 0.5501, -2.5902, -0.3695,  1.9894]])"
      ]
     },
     "execution_count": 3,
     "metadata": {},
     "output_type": "execute_result"
    }
   ],
   "source": [
    "t"
   ]
  },
  {
   "cell_type": "code",
   "execution_count": 4,
   "id": "fd70b0b9",
   "metadata": {
    "execution": {
     "iopub.execute_input": "2023-10-20T05:42:15.164190Z",
     "iopub.status.busy": "2023-10-20T05:42:15.163526Z",
     "iopub.status.idle": "2023-10-20T05:42:15.169882Z",
     "shell.execute_reply": "2023-10-20T05:42:15.169143Z"
    }
   },
   "outputs": [
    {
     "data": {
      "text/plain": [
       "tensor([[ 0.4811,  0.7283, -0.9325],\n",
       "        [ 0.5699,  0.8484, -0.7635]])"
      ]
     },
     "execution_count": 4,
     "metadata": {},
     "output_type": "execute_result"
    }
   ],
   "source": [
    "t.a"
   ]
  },
  {
   "cell_type": "code",
   "execution_count": 5,
   "id": "c18197bd",
   "metadata": {
    "execution": {
     "iopub.execute_input": "2023-10-20T05:42:15.173551Z",
     "iopub.status.busy": "2023-10-20T05:42:15.173035Z",
     "iopub.status.idle": "2023-10-20T05:42:22.294681Z",
     "shell.execute_reply": "2023-10-20T05:42:22.293542Z"
    }
   },
   "outputs": [
    {
     "name": "stdout",
     "output_type": "stream",
     "text": [
      "87.7 ns ± 0.334 ns per loop (mean ± std. dev. of 7 runs, 10,000,000 loops each)\n"
     ]
    }
   ],
   "source": [
    "%timeit t.a"
   ]
  },
  {
   "cell_type": "code",
   "execution_count": 6,
   "id": "bd52f867",
   "metadata": {
    "execution": {
     "iopub.execute_input": "2023-10-20T05:42:22.299083Z",
     "iopub.status.busy": "2023-10-20T05:42:22.298373Z",
     "iopub.status.idle": "2023-10-20T05:42:22.308719Z",
     "shell.execute_reply": "2023-10-20T05:42:22.307955Z"
    }
   },
   "outputs": [
    {
     "data": {
      "text/plain": [
       "<FastTreeValue 0x7fd5744ad850>\n",
       "├── 'a' --> tensor([[ 0.1555, -0.0068,  0.1731],\n",
       "│                   [ 0.0522, -2.4731,  0.7801]])\n",
       "└── 'x' --> <FastTreeValue 0x7fd5744adf10>\n",
       "    └── 'c' --> tensor([[-0.5616,  0.0933, -0.9277,  0.2709],\n",
       "                        [-0.6223,  1.1157,  0.8409,  0.3695],\n",
       "                        [ 0.5501, -2.5902, -0.3695,  1.9894]])"
      ]
     },
     "execution_count": 6,
     "metadata": {},
     "output_type": "execute_result"
    }
   ],
   "source": [
    "new_value = torch.randn(2, 3)\n",
    "t.a = new_value\n",
    "\n",
    "t"
   ]
  },
  {
   "cell_type": "code",
   "execution_count": 7,
   "id": "bbe04d1c",
   "metadata": {
    "execution": {
     "iopub.execute_input": "2023-10-20T05:42:22.312783Z",
     "iopub.status.busy": "2023-10-20T05:42:22.312245Z",
     "iopub.status.idle": "2023-10-20T05:42:29.746252Z",
     "shell.execute_reply": "2023-10-20T05:42:29.745408Z"
    }
   },
   "outputs": [
    {
     "name": "stdout",
     "output_type": "stream",
     "text": [
      "91.6 ns ± 0.308 ns per loop (mean ± std. dev. of 7 runs, 10,000,000 loops each)\n"
     ]
    }
   ],
   "source": [
    "%timeit t.a = new_value"
   ]
  },
  {
   "cell_type": "markdown",
   "id": "48c49731",
   "metadata": {},
   "source": [
    "### Tianshou Batch's Get and Set"
   ]
  },
  {
   "cell_type": "code",
   "execution_count": 8,
   "id": "f1bb14c1",
   "metadata": {
    "execution": {
     "iopub.execute_input": "2023-10-20T05:42:29.751199Z",
     "iopub.status.busy": "2023-10-20T05:42:29.750353Z",
     "iopub.status.idle": "2023-10-20T05:42:30.212082Z",
     "shell.execute_reply": "2023-10-20T05:42:30.211159Z"
    }
   },
   "outputs": [],
   "source": [
    "from tianshou.data import Batch\n",
    "\n",
    "b = Batch(**_TREE_DATA_2)"
   ]
  },
  {
   "cell_type": "code",
   "execution_count": 9,
   "id": "cb0777c3",
   "metadata": {
    "execution": {
     "iopub.execute_input": "2023-10-20T05:42:30.217574Z",
     "iopub.status.busy": "2023-10-20T05:42:30.216681Z",
     "iopub.status.idle": "2023-10-20T05:42:30.225026Z",
     "shell.execute_reply": "2023-10-20T05:42:30.224208Z"
    }
   },
   "outputs": [
    {
     "data": {
      "text/plain": [
       "Batch(\n",
       "    a: tensor([[ 0.4811,  0.7283, -0.9325],\n",
       "               [ 0.5699,  0.8484, -0.7635]]),\n",
       "    x: Batch(\n",
       "           c: tensor([[-0.5616,  0.0933, -0.9277,  0.2709],\n",
       "                      [-0.6223,  1.1157,  0.8409,  0.3695],\n",
       "                      [ 0.5501, -2.5902, -0.3695,  1.9894]]),\n",
       "       ),\n",
       ")"
      ]
     },
     "execution_count": 9,
     "metadata": {},
     "output_type": "execute_result"
    }
   ],
   "source": [
    "b"
   ]
  },
  {
   "cell_type": "code",
   "execution_count": 10,
   "id": "43ef8ea3",
   "metadata": {
    "execution": {
     "iopub.execute_input": "2023-10-20T05:42:30.228675Z",
     "iopub.status.busy": "2023-10-20T05:42:30.228400Z",
     "iopub.status.idle": "2023-10-20T05:42:30.234057Z",
     "shell.execute_reply": "2023-10-20T05:42:30.233293Z"
    }
   },
   "outputs": [
    {
     "data": {
      "text/plain": [
       "tensor([[ 0.4811,  0.7283, -0.9325],\n",
       "        [ 0.5699,  0.8484, -0.7635]])"
      ]
     },
     "execution_count": 10,
     "metadata": {},
     "output_type": "execute_result"
    }
   ],
   "source": [
    "b.a"
   ]
  },
  {
   "cell_type": "code",
   "execution_count": 11,
   "id": "b785ab72",
   "metadata": {
    "execution": {
     "iopub.execute_input": "2023-10-20T05:42:30.238107Z",
     "iopub.status.busy": "2023-10-20T05:42:30.237491Z",
     "iopub.status.idle": "2023-10-20T05:42:36.516445Z",
     "shell.execute_reply": "2023-10-20T05:42:36.515186Z"
    }
   },
   "outputs": [
    {
     "name": "stdout",
     "output_type": "stream",
     "text": [
      "77.2 ns ± 0.49 ns per loop (mean ± std. dev. of 7 runs, 10,000,000 loops each)\n"
     ]
    }
   ],
   "source": [
    "%timeit b.a"
   ]
  },
  {
   "cell_type": "code",
   "execution_count": 12,
   "id": "ad54dc69",
   "metadata": {
    "execution": {
     "iopub.execute_input": "2023-10-20T05:42:36.520603Z",
     "iopub.status.busy": "2023-10-20T05:42:36.519941Z",
     "iopub.status.idle": "2023-10-20T05:42:36.528692Z",
     "shell.execute_reply": "2023-10-20T05:42:36.527918Z"
    }
   },
   "outputs": [
    {
     "data": {
      "text/plain": [
       "Batch(\n",
       "    a: tensor([[ 1.4246, -1.1421,  0.8382],\n",
       "               [-0.1473,  1.2942, -0.5401]]),\n",
       "    x: Batch(\n",
       "           c: tensor([[-0.5616,  0.0933, -0.9277,  0.2709],\n",
       "                      [-0.6223,  1.1157,  0.8409,  0.3695],\n",
       "                      [ 0.5501, -2.5902, -0.3695,  1.9894]]),\n",
       "       ),\n",
       ")"
      ]
     },
     "execution_count": 12,
     "metadata": {},
     "output_type": "execute_result"
    }
   ],
   "source": [
    "new_value = torch.randn(2, 3)\n",
    "b.a = new_value\n",
    "\n",
    "b"
   ]
  },
  {
   "cell_type": "code",
   "execution_count": 13,
   "id": "29b1d0bf",
   "metadata": {
    "execution": {
     "iopub.execute_input": "2023-10-20T05:42:36.532294Z",
     "iopub.status.busy": "2023-10-20T05:42:36.531677Z",
     "iopub.status.idle": "2023-10-20T05:42:41.707815Z",
     "shell.execute_reply": "2023-10-20T05:42:41.706793Z"
    }
   },
   "outputs": [
    {
     "name": "stdout",
     "output_type": "stream",
     "text": [
      "637 ns ± 3.97 ns per loop (mean ± std. dev. of 7 runs, 1,000,000 loops each)\n"
     ]
    }
   ],
   "source": [
    "%timeit b.a = new_value"
   ]
  },
  {
   "cell_type": "markdown",
   "id": "b61ad1d0",
   "metadata": {},
   "source": [
    "## Initialization"
   ]
  },
  {
   "cell_type": "markdown",
   "id": "d70f0d54",
   "metadata": {},
   "source": [
    "### TreeValue's Initialization"
   ]
  },
  {
   "cell_type": "code",
   "execution_count": 14,
   "id": "d32a679b",
   "metadata": {
    "execution": {
     "iopub.execute_input": "2023-10-20T05:42:41.712042Z",
     "iopub.status.busy": "2023-10-20T05:42:41.711566Z",
     "iopub.status.idle": "2023-10-20T05:42:50.213115Z",
     "shell.execute_reply": "2023-10-20T05:42:50.212085Z"
    }
   },
   "outputs": [
    {
     "name": "stdout",
     "output_type": "stream",
     "text": [
      "1.05 µs ± 8.77 ns per loop (mean ± std. dev. of 7 runs, 1,000,000 loops each)\n"
     ]
    }
   ],
   "source": [
    "%timeit FastTreeValue(_TREE_DATA_1)"
   ]
  },
  {
   "cell_type": "markdown",
   "id": "24f3707b",
   "metadata": {},
   "source": [
    "### Tianshou Batch's Initialization"
   ]
  },
  {
   "cell_type": "code",
   "execution_count": 15,
   "id": "ac3958df",
   "metadata": {
    "execution": {
     "iopub.execute_input": "2023-10-20T05:42:50.217374Z",
     "iopub.status.busy": "2023-10-20T05:42:50.216645Z",
     "iopub.status.idle": "2023-10-20T05:43:00.088982Z",
     "shell.execute_reply": "2023-10-20T05:43:00.088000Z"
    }
   },
   "outputs": [
    {
     "name": "stdout",
     "output_type": "stream",
     "text": [
      "12.1 µs ± 72.4 ns per loop (mean ± std. dev. of 7 runs, 100,000 loops each)\n"
     ]
    }
   ],
   "source": [
    "%timeit Batch(**_TREE_DATA_1)"
   ]
  },
  {
   "cell_type": "markdown",
   "id": "1ab82e2d",
   "metadata": {},
   "source": [
    "## Deep Copy Operation"
   ]
  },
  {
   "cell_type": "code",
   "execution_count": 16,
   "id": "210a9442",
   "metadata": {
    "execution": {
     "iopub.execute_input": "2023-10-20T05:43:00.093186Z",
     "iopub.status.busy": "2023-10-20T05:43:00.092512Z",
     "iopub.status.idle": "2023-10-20T05:43:00.097386Z",
     "shell.execute_reply": "2023-10-20T05:43:00.096606Z"
    }
   },
   "outputs": [],
   "source": [
    "import copy"
   ]
  },
  {
   "cell_type": "markdown",
   "id": "5a736274",
   "metadata": {},
   "source": [
    "### Deep Copy of TreeValue"
   ]
  },
  {
   "cell_type": "code",
   "execution_count": 17,
   "id": "f9bcadd6",
   "metadata": {
    "execution": {
     "iopub.execute_input": "2023-10-20T05:43:00.101312Z",
     "iopub.status.busy": "2023-10-20T05:43:00.101009Z",
     "iopub.status.idle": "2023-10-20T05:43:14.190002Z",
     "shell.execute_reply": "2023-10-20T05:43:14.189054Z"
    }
   },
   "outputs": [
    {
     "name": "stdout",
     "output_type": "stream",
     "text": [
      "170 µs ± 1.93 µs per loop (mean ± std. dev. of 7 runs, 10,000 loops each)\n"
     ]
    }
   ],
   "source": [
    "t3 = FastTreeValue(_TREE_DATA_3)\n",
    "%timeit copy.deepcopy(t3)"
   ]
  },
  {
   "cell_type": "markdown",
   "id": "bf8be7ea",
   "metadata": {},
   "source": [
    "### Deep Copy of Tianshou Batch"
   ]
  },
  {
   "cell_type": "code",
   "execution_count": 18,
   "id": "91998e6f",
   "metadata": {
    "execution": {
     "iopub.execute_input": "2023-10-20T05:43:14.194115Z",
     "iopub.status.busy": "2023-10-20T05:43:14.193813Z",
     "iopub.status.idle": "2023-10-20T05:43:28.031708Z",
     "shell.execute_reply": "2023-10-20T05:43:28.030975Z"
    }
   },
   "outputs": [
    {
     "name": "stdout",
     "output_type": "stream",
     "text": [
      "171 µs ± 1.79 µs per loop (mean ± std. dev. of 7 runs, 10,000 loops each)\n"
     ]
    }
   ],
   "source": [
    "b3 = Batch(**_TREE_DATA_3)\n",
    "%timeit copy.deepcopy(b3)"
   ]
  },
  {
   "cell_type": "markdown",
   "id": "223162fb",
   "metadata": {},
   "source": [
    "## Stack, Concat and Split Operation"
   ]
  },
  {
   "cell_type": "markdown",
   "id": "85fa4a73",
   "metadata": {},
   "source": [
    "### Performance of TreeValue"
   ]
  },
  {
   "cell_type": "code",
   "execution_count": 19,
   "id": "a0c2b697",
   "metadata": {
    "execution": {
     "iopub.execute_input": "2023-10-20T05:43:28.035668Z",
     "iopub.status.busy": "2023-10-20T05:43:28.035085Z",
     "iopub.status.idle": "2023-10-20T05:43:28.039360Z",
     "shell.execute_reply": "2023-10-20T05:43:28.038678Z"
    }
   },
   "outputs": [],
   "source": [
    "trees = [FastTreeValue(_TREE_DATA_2) for _ in range(8)]"
   ]
  },
  {
   "cell_type": "code",
   "execution_count": 20,
   "id": "017ea5a5",
   "metadata": {
    "execution": {
     "iopub.execute_input": "2023-10-20T05:43:28.042917Z",
     "iopub.status.busy": "2023-10-20T05:43:28.042259Z",
     "iopub.status.idle": "2023-10-20T05:43:28.053924Z",
     "shell.execute_reply": "2023-10-20T05:43:28.053209Z"
    }
   },
   "outputs": [
    {
     "data": {
      "text/plain": [
       "<FastTreeValue 0x7fd49fb32460>\n",
       "├── 'a' --> tensor([[[ 0.4811,  0.7283, -0.9325],\n",
       "│                    [ 0.5699,  0.8484, -0.7635]],\n",
       "│           \n",
       "│                   [[ 0.4811,  0.7283, -0.9325],\n",
       "│                    [ 0.5699,  0.8484, -0.7635]],\n",
       "│           \n",
       "│                   [[ 0.4811,  0.7283, -0.9325],\n",
       "│                    [ 0.5699,  0.8484, -0.7635]],\n",
       "│           \n",
       "│                   [[ 0.4811,  0.7283, -0.9325],\n",
       "│                    [ 0.5699,  0.8484, -0.7635]],\n",
       "│           \n",
       "│                   [[ 0.4811,  0.7283, -0.9325],\n",
       "│                    [ 0.5699,  0.8484, -0.7635]],\n",
       "│           \n",
       "│                   [[ 0.4811,  0.7283, -0.9325],\n",
       "│                    [ 0.5699,  0.8484, -0.7635]],\n",
       "│           \n",
       "│                   [[ 0.4811,  0.7283, -0.9325],\n",
       "│                    [ 0.5699,  0.8484, -0.7635]],\n",
       "│           \n",
       "│                   [[ 0.4811,  0.7283, -0.9325],\n",
       "│                    [ 0.5699,  0.8484, -0.7635]]])\n",
       "└── 'x' --> <FastTreeValue 0x7fd49fb32280>\n",
       "    └── 'c' --> tensor([[[-0.5616,  0.0933, -0.9277,  0.2709],\n",
       "                         [-0.6223,  1.1157,  0.8409,  0.3695],\n",
       "                         [ 0.5501, -2.5902, -0.3695,  1.9894]],\n",
       "                \n",
       "                        [[-0.5616,  0.0933, -0.9277,  0.2709],\n",
       "                         [-0.6223,  1.1157,  0.8409,  0.3695],\n",
       "                         [ 0.5501, -2.5902, -0.3695,  1.9894]],\n",
       "                \n",
       "                        [[-0.5616,  0.0933, -0.9277,  0.2709],\n",
       "                         [-0.6223,  1.1157,  0.8409,  0.3695],\n",
       "                         [ 0.5501, -2.5902, -0.3695,  1.9894]],\n",
       "                \n",
       "                        [[-0.5616,  0.0933, -0.9277,  0.2709],\n",
       "                         [-0.6223,  1.1157,  0.8409,  0.3695],\n",
       "                         [ 0.5501, -2.5902, -0.3695,  1.9894]],\n",
       "                \n",
       "                        [[-0.5616,  0.0933, -0.9277,  0.2709],\n",
       "                         [-0.6223,  1.1157,  0.8409,  0.3695],\n",
       "                         [ 0.5501, -2.5902, -0.3695,  1.9894]],\n",
       "                \n",
       "                        [[-0.5616,  0.0933, -0.9277,  0.2709],\n",
       "                         [-0.6223,  1.1157,  0.8409,  0.3695],\n",
       "                         [ 0.5501, -2.5902, -0.3695,  1.9894]],\n",
       "                \n",
       "                        [[-0.5616,  0.0933, -0.9277,  0.2709],\n",
       "                         [-0.6223,  1.1157,  0.8409,  0.3695],\n",
       "                         [ 0.5501, -2.5902, -0.3695,  1.9894]],\n",
       "                \n",
       "                        [[-0.5616,  0.0933, -0.9277,  0.2709],\n",
       "                         [-0.6223,  1.1157,  0.8409,  0.3695],\n",
       "                         [ 0.5501, -2.5902, -0.3695,  1.9894]]])"
      ]
     },
     "execution_count": 20,
     "metadata": {},
     "output_type": "execute_result"
    }
   ],
   "source": [
    "t_stack = FastTreeValue.func(subside=True)(torch.stack)\n",
    "\n",
    "t_stack(trees)"
   ]
  },
  {
   "cell_type": "code",
   "execution_count": 21,
   "id": "f8b3f415",
   "metadata": {
    "execution": {
     "iopub.execute_input": "2023-10-20T05:43:28.057718Z",
     "iopub.status.busy": "2023-10-20T05:43:28.057446Z",
     "iopub.status.idle": "2023-10-20T05:43:31.219774Z",
     "shell.execute_reply": "2023-10-20T05:43:31.218698Z"
    }
   },
   "outputs": [
    {
     "name": "stdout",
     "output_type": "stream",
     "text": [
      "38.9 µs ± 687 ns per loop (mean ± std. dev. of 7 runs, 10,000 loops each)\n"
     ]
    }
   ],
   "source": [
    "%timeit t_stack(trees)"
   ]
  },
  {
   "cell_type": "code",
   "execution_count": 22,
   "id": "94b56771",
   "metadata": {
    "execution": {
     "iopub.execute_input": "2023-10-20T05:43:31.223957Z",
     "iopub.status.busy": "2023-10-20T05:43:31.223362Z",
     "iopub.status.idle": "2023-10-20T05:43:31.234205Z",
     "shell.execute_reply": "2023-10-20T05:43:31.233330Z"
    }
   },
   "outputs": [
    {
     "data": {
      "text/plain": [
       "<FastTreeValue 0x7fd4964c2f40>\n",
       "├── 'a' --> tensor([[ 0.4811,  0.7283, -0.9325],\n",
       "│                   [ 0.5699,  0.8484, -0.7635],\n",
       "│                   [ 0.4811,  0.7283, -0.9325],\n",
       "│                   [ 0.5699,  0.8484, -0.7635],\n",
       "│                   [ 0.4811,  0.7283, -0.9325],\n",
       "│                   [ 0.5699,  0.8484, -0.7635],\n",
       "│                   [ 0.4811,  0.7283, -0.9325],\n",
       "│                   [ 0.5699,  0.8484, -0.7635],\n",
       "│                   [ 0.4811,  0.7283, -0.9325],\n",
       "│                   [ 0.5699,  0.8484, -0.7635],\n",
       "│                   [ 0.4811,  0.7283, -0.9325],\n",
       "│                   [ 0.5699,  0.8484, -0.7635],\n",
       "│                   [ 0.4811,  0.7283, -0.9325],\n",
       "│                   [ 0.5699,  0.8484, -0.7635],\n",
       "│                   [ 0.4811,  0.7283, -0.9325],\n",
       "│                   [ 0.5699,  0.8484, -0.7635]])\n",
       "└── 'x' --> <FastTreeValue 0x7fd49752b130>\n",
       "    └── 'c' --> tensor([[-0.5616,  0.0933, -0.9277,  0.2709],\n",
       "                        [-0.6223,  1.1157,  0.8409,  0.3695],\n",
       "                        [ 0.5501, -2.5902, -0.3695,  1.9894],\n",
       "                        [-0.5616,  0.0933, -0.9277,  0.2709],\n",
       "                        [-0.6223,  1.1157,  0.8409,  0.3695],\n",
       "                        [ 0.5501, -2.5902, -0.3695,  1.9894],\n",
       "                        [-0.5616,  0.0933, -0.9277,  0.2709],\n",
       "                        [-0.6223,  1.1157,  0.8409,  0.3695],\n",
       "                        [ 0.5501, -2.5902, -0.3695,  1.9894],\n",
       "                        [-0.5616,  0.0933, -0.9277,  0.2709],\n",
       "                        [-0.6223,  1.1157,  0.8409,  0.3695],\n",
       "                        [ 0.5501, -2.5902, -0.3695,  1.9894],\n",
       "                        [-0.5616,  0.0933, -0.9277,  0.2709],\n",
       "                        [-0.6223,  1.1157,  0.8409,  0.3695],\n",
       "                        [ 0.5501, -2.5902, -0.3695,  1.9894],\n",
       "                        [-0.5616,  0.0933, -0.9277,  0.2709],\n",
       "                        [-0.6223,  1.1157,  0.8409,  0.3695],\n",
       "                        [ 0.5501, -2.5902, -0.3695,  1.9894],\n",
       "                        [-0.5616,  0.0933, -0.9277,  0.2709],\n",
       "                        [-0.6223,  1.1157,  0.8409,  0.3695],\n",
       "                        [ 0.5501, -2.5902, -0.3695,  1.9894],\n",
       "                        [-0.5616,  0.0933, -0.9277,  0.2709],\n",
       "                        [-0.6223,  1.1157,  0.8409,  0.3695],\n",
       "                        [ 0.5501, -2.5902, -0.3695,  1.9894]])"
      ]
     },
     "execution_count": 22,
     "metadata": {},
     "output_type": "execute_result"
    }
   ],
   "source": [
    "t_cat = FastTreeValue.func(subside=True)(torch.cat)\n",
    "\n",
    "t_cat(trees)"
   ]
  },
  {
   "cell_type": "code",
   "execution_count": 23,
   "id": "5e9c06a6",
   "metadata": {
    "execution": {
     "iopub.execute_input": "2023-10-20T05:43:31.238618Z",
     "iopub.status.busy": "2023-10-20T05:43:31.237799Z",
     "iopub.status.idle": "2023-10-20T05:43:34.164825Z",
     "shell.execute_reply": "2023-10-20T05:43:34.164060Z"
    }
   },
   "outputs": [
    {
     "name": "stdout",
     "output_type": "stream",
     "text": [
      "35.9 µs ± 222 ns per loop (mean ± std. dev. of 7 runs, 10,000 loops each)\n"
     ]
    }
   ],
   "source": [
    "%timeit t_cat(trees)"
   ]
  },
  {
   "cell_type": "code",
   "execution_count": 24,
   "id": "a3ab5c8f",
   "metadata": {
    "execution": {
     "iopub.execute_input": "2023-10-20T05:43:34.169139Z",
     "iopub.status.busy": "2023-10-20T05:43:34.168404Z",
     "iopub.status.idle": "2023-10-20T05:43:40.145326Z",
     "shell.execute_reply": "2023-10-20T05:43:40.143908Z"
    }
   },
   "outputs": [
    {
     "name": "stdout",
     "output_type": "stream",
     "text": [
      "73.5 µs ± 722 ns per loop (mean ± std. dev. of 7 runs, 10,000 loops each)\n"
     ]
    }
   ],
   "source": [
    "t_split = FastTreeValue.func(rise=True)(torch.split)\n",
    "tree = FastTreeValue({\n",
    "    'obs': torch.randn(8, 4, 84, 84),\n",
    "    'action': torch.randint(0, 6, size=(8, 1,)),\n",
    "    'reward': torch.rand(8, 1),\n",
    "})\n",
    "\n",
    "%timeit t_split(tree, 1)"
   ]
  },
  {
   "cell_type": "markdown",
   "id": "31c3ec0b",
   "metadata": {},
   "source": [
    "### Performance of Tianshou Batch"
   ]
  },
  {
   "cell_type": "code",
   "execution_count": 25,
   "id": "9ead828a",
   "metadata": {
    "execution": {
     "iopub.execute_input": "2023-10-20T05:43:40.150721Z",
     "iopub.status.busy": "2023-10-20T05:43:40.150253Z",
     "iopub.status.idle": "2023-10-20T05:43:40.160669Z",
     "shell.execute_reply": "2023-10-20T05:43:40.159938Z"
    }
   },
   "outputs": [
    {
     "data": {
      "text/plain": [
       "Batch(\n",
       "    a: tensor([[[ 0.4811,  0.7283, -0.9325],\n",
       "                [ 0.5699,  0.8484, -0.7635]],\n",
       "       \n",
       "               [[ 0.4811,  0.7283, -0.9325],\n",
       "                [ 0.5699,  0.8484, -0.7635]],\n",
       "       \n",
       "               [[ 0.4811,  0.7283, -0.9325],\n",
       "                [ 0.5699,  0.8484, -0.7635]],\n",
       "       \n",
       "               [[ 0.4811,  0.7283, -0.9325],\n",
       "                [ 0.5699,  0.8484, -0.7635]],\n",
       "       \n",
       "               [[ 0.4811,  0.7283, -0.9325],\n",
       "                [ 0.5699,  0.8484, -0.7635]],\n",
       "       \n",
       "               [[ 0.4811,  0.7283, -0.9325],\n",
       "                [ 0.5699,  0.8484, -0.7635]],\n",
       "       \n",
       "               [[ 0.4811,  0.7283, -0.9325],\n",
       "                [ 0.5699,  0.8484, -0.7635]],\n",
       "       \n",
       "               [[ 0.4811,  0.7283, -0.9325],\n",
       "                [ 0.5699,  0.8484, -0.7635]]]),\n",
       "    x: Batch(\n",
       "           c: tensor([[[-0.5616,  0.0933, -0.9277,  0.2709],\n",
       "                       [-0.6223,  1.1157,  0.8409,  0.3695],\n",
       "                       [ 0.5501, -2.5902, -0.3695,  1.9894]],\n",
       "              \n",
       "                      [[-0.5616,  0.0933, -0.9277,  0.2709],\n",
       "                       [-0.6223,  1.1157,  0.8409,  0.3695],\n",
       "                       [ 0.5501, -2.5902, -0.3695,  1.9894]],\n",
       "              \n",
       "                      [[-0.5616,  0.0933, -0.9277,  0.2709],\n",
       "                       [-0.6223,  1.1157,  0.8409,  0.3695],\n",
       "                       [ 0.5501, -2.5902, -0.3695,  1.9894]],\n",
       "              \n",
       "                      [[-0.5616,  0.0933, -0.9277,  0.2709],\n",
       "                       [-0.6223,  1.1157,  0.8409,  0.3695],\n",
       "                       [ 0.5501, -2.5902, -0.3695,  1.9894]],\n",
       "              \n",
       "                      [[-0.5616,  0.0933, -0.9277,  0.2709],\n",
       "                       [-0.6223,  1.1157,  0.8409,  0.3695],\n",
       "                       [ 0.5501, -2.5902, -0.3695,  1.9894]],\n",
       "              \n",
       "                      [[-0.5616,  0.0933, -0.9277,  0.2709],\n",
       "                       [-0.6223,  1.1157,  0.8409,  0.3695],\n",
       "                       [ 0.5501, -2.5902, -0.3695,  1.9894]],\n",
       "              \n",
       "                      [[-0.5616,  0.0933, -0.9277,  0.2709],\n",
       "                       [-0.6223,  1.1157,  0.8409,  0.3695],\n",
       "                       [ 0.5501, -2.5902, -0.3695,  1.9894]],\n",
       "              \n",
       "                      [[-0.5616,  0.0933, -0.9277,  0.2709],\n",
       "                       [-0.6223,  1.1157,  0.8409,  0.3695],\n",
       "                       [ 0.5501, -2.5902, -0.3695,  1.9894]]]),\n",
       "       ),\n",
       ")"
      ]
     },
     "execution_count": 25,
     "metadata": {},
     "output_type": "execute_result"
    }
   ],
   "source": [
    "batches = [Batch(**_TREE_DATA_2) for _ in range(8)]\n",
    "\n",
    "Batch.stack(batches)"
   ]
  },
  {
   "cell_type": "code",
   "execution_count": 26,
   "id": "ec9037a3",
   "metadata": {
    "execution": {
     "iopub.execute_input": "2023-10-20T05:43:40.164542Z",
     "iopub.status.busy": "2023-10-20T05:43:40.163982Z",
     "iopub.status.idle": "2023-10-20T05:43:48.165209Z",
     "shell.execute_reply": "2023-10-20T05:43:48.164040Z"
    }
   },
   "outputs": [
    {
     "name": "stdout",
     "output_type": "stream",
     "text": [
      "98.4 µs ± 369 ns per loop (mean ± std. dev. of 7 runs, 10,000 loops each)\n"
     ]
    }
   ],
   "source": [
    "%timeit Batch.stack(batches)"
   ]
  },
  {
   "cell_type": "code",
   "execution_count": 27,
   "id": "cb8ab77e",
   "metadata": {
    "execution": {
     "iopub.execute_input": "2023-10-20T05:43:48.169802Z",
     "iopub.status.busy": "2023-10-20T05:43:48.169044Z",
     "iopub.status.idle": "2023-10-20T05:43:48.178608Z",
     "shell.execute_reply": "2023-10-20T05:43:48.177755Z"
    }
   },
   "outputs": [
    {
     "data": {
      "text/plain": [
       "Batch(\n",
       "    a: tensor([[ 0.4811,  0.7283, -0.9325],\n",
       "               [ 0.5699,  0.8484, -0.7635],\n",
       "               [ 0.4811,  0.7283, -0.9325],\n",
       "               [ 0.5699,  0.8484, -0.7635],\n",
       "               [ 0.4811,  0.7283, -0.9325],\n",
       "               [ 0.5699,  0.8484, -0.7635],\n",
       "               [ 0.4811,  0.7283, -0.9325],\n",
       "               [ 0.5699,  0.8484, -0.7635],\n",
       "               [ 0.4811,  0.7283, -0.9325],\n",
       "               [ 0.5699,  0.8484, -0.7635],\n",
       "               [ 0.4811,  0.7283, -0.9325],\n",
       "               [ 0.5699,  0.8484, -0.7635],\n",
       "               [ 0.4811,  0.7283, -0.9325],\n",
       "               [ 0.5699,  0.8484, -0.7635],\n",
       "               [ 0.4811,  0.7283, -0.9325],\n",
       "               [ 0.5699,  0.8484, -0.7635]]),\n",
       "    x: Batch(\n",
       "           c: tensor([[-0.5616,  0.0933, -0.9277,  0.2709],\n",
       "                      [-0.6223,  1.1157,  0.8409,  0.3695],\n",
       "                      [ 0.5501, -2.5902, -0.3695,  1.9894],\n",
       "                      [-0.5616,  0.0933, -0.9277,  0.2709],\n",
       "                      [-0.6223,  1.1157,  0.8409,  0.3695],\n",
       "                      [ 0.5501, -2.5902, -0.3695,  1.9894],\n",
       "                      [-0.5616,  0.0933, -0.9277,  0.2709],\n",
       "                      [-0.6223,  1.1157,  0.8409,  0.3695],\n",
       "                      [ 0.5501, -2.5902, -0.3695,  1.9894],\n",
       "                      [-0.5616,  0.0933, -0.9277,  0.2709],\n",
       "                      [-0.6223,  1.1157,  0.8409,  0.3695],\n",
       "                      [ 0.5501, -2.5902, -0.3695,  1.9894],\n",
       "                      [-0.5616,  0.0933, -0.9277,  0.2709],\n",
       "                      [-0.6223,  1.1157,  0.8409,  0.3695],\n",
       "                      [ 0.5501, -2.5902, -0.3695,  1.9894],\n",
       "                      [-0.5616,  0.0933, -0.9277,  0.2709],\n",
       "                      [-0.6223,  1.1157,  0.8409,  0.3695],\n",
       "                      [ 0.5501, -2.5902, -0.3695,  1.9894],\n",
       "                      [-0.5616,  0.0933, -0.9277,  0.2709],\n",
       "                      [-0.6223,  1.1157,  0.8409,  0.3695],\n",
       "                      [ 0.5501, -2.5902, -0.3695,  1.9894],\n",
       "                      [-0.5616,  0.0933, -0.9277,  0.2709],\n",
       "                      [-0.6223,  1.1157,  0.8409,  0.3695],\n",
       "                      [ 0.5501, -2.5902, -0.3695,  1.9894]]),\n",
       "       ),\n",
       ")"
      ]
     },
     "execution_count": 27,
     "metadata": {},
     "output_type": "execute_result"
    }
   ],
   "source": [
    "Batch.cat(batches)"
   ]
  },
  {
   "cell_type": "code",
   "execution_count": 28,
   "id": "18dfb045",
   "metadata": {
    "execution": {
     "iopub.execute_input": "2023-10-20T05:43:48.183816Z",
     "iopub.status.busy": "2023-10-20T05:43:48.182357Z",
     "iopub.status.idle": "2023-10-20T05:44:02.809661Z",
     "shell.execute_reply": "2023-10-20T05:44:02.808649Z"
    }
   },
   "outputs": [
    {
     "name": "stdout",
     "output_type": "stream",
     "text": [
      "180 µs ± 576 ns per loop (mean ± std. dev. of 7 runs, 10,000 loops each)\n"
     ]
    }
   ],
   "source": [
    "%timeit Batch.cat(batches)"
   ]
  },
  {
   "cell_type": "code",
   "execution_count": 29,
   "id": "c6688e51",
   "metadata": {
    "execution": {
     "iopub.execute_input": "2023-10-20T05:44:02.813925Z",
     "iopub.status.busy": "2023-10-20T05:44:02.813352Z",
     "iopub.status.idle": "2023-10-20T05:44:06.626405Z",
     "shell.execute_reply": "2023-10-20T05:44:06.625666Z"
    }
   },
   "outputs": [
    {
     "name": "stdout",
     "output_type": "stream",
     "text": [
      "454 µs ± 31.4 µs per loop (mean ± std. dev. of 7 runs, 1,000 loops each)\n"
     ]
    }
   ],
   "source": [
    "batch = Batch({\n",
    "    'obs': torch.randn(8, 4, 84, 84),\n",
    "    'action': torch.randint(0, 6, size=(8, 1,)),\n",
    "    'reward': torch.rand(8, 1)}\n",
    ")\n",
    "\n",
    "%timeit list(Batch.split(batch, 1, shuffle=False, merge_last=True))"
   ]
  },
  {
   "cell_type": "code",
   "execution_count": null,
   "id": "2539fbd9",
   "metadata": {},
   "outputs": [],
   "source": []
  }
 ],
 "metadata": {
  "kernelspec": {
   "display_name": "Python 3 (ipykernel)",
   "language": "python",
   "name": "python3"
  },
  "language_info": {
   "codemirror_mode": {
    "name": "ipython",
    "version": 3
   },
   "file_extension": ".py",
   "mimetype": "text/x-python",
   "name": "python",
   "nbconvert_exporter": "python",
   "pygments_lexer": "ipython3",
   "version": "3.8.18"
  }
 },
 "nbformat": 4,
 "nbformat_minor": 5
}
