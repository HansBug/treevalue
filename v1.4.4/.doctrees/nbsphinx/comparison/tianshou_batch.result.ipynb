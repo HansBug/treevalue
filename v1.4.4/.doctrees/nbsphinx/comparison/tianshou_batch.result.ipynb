{
 "cells": [
  {
   "cell_type": "markdown",
   "id": "9d39d946",
   "metadata": {},
   "source": [
    "# Comparison Between TreeValue and Tianshou Batch"
   ]
  },
  {
   "cell_type": "markdown",
   "id": "3c6db2d4",
   "metadata": {},
   "source": [
    "In this section, we will take a look at the feature and performance of the [Tianshou Batch](https://github.com/thu-ml/tianshou) library, which is developed by Tsinghua Machine Learning Group."
   ]
  },
  {
   "cell_type": "markdown",
   "id": "069361b0",
   "metadata": {},
   "source": [
    "Before starting the comparison, let us define some thing."
   ]
  },
  {
   "cell_type": "code",
   "execution_count": 1,
   "id": "06fc8d26",
   "metadata": {
    "execution": {
     "iopub.execute_input": "2023-02-23T08:26:18.979659Z",
     "iopub.status.busy": "2023-02-23T08:26:18.979413Z",
     "iopub.status.idle": "2023-02-23T08:26:20.004588Z",
     "shell.execute_reply": "2023-02-23T08:26:20.003757Z"
    }
   },
   "outputs": [
    {
     "name": "stderr",
     "output_type": "stream",
     "text": [
      "/opt/hostedtoolcache/Python/3.8.16/x64/lib/python3.8/site-packages/tqdm/auto.py:22: TqdmWarning: IProgress not found. Please update jupyter and ipywidgets. See https://ipywidgets.readthedocs.io/en/stable/user_install.html\n",
      "  from .autonotebook import tqdm as notebook_tqdm\n"
     ]
    }
   ],
   "source": [
    "import torch \n",
    "\n",
    "_TREE_DATA_1 = {'a': 1, 'b': 2, 'x': {'c': 3, 'd': 4}}\n",
    "_TREE_DATA_2 = {\n",
    "    'a': torch.randn(2, 3), \n",
    "    'x': {\n",
    "        'c': torch.randn(3, 4)\n",
    "    },\n",
    "}\n",
    "_TREE_DATA_3 = {\n",
    "    'obs': torch.randn(4, 84, 84),\n",
    "    'action': torch.randint(0, 6, size=(1,)),\n",
    "    'reward': torch.rand(1),\n",
    "}"
   ]
  },
  {
   "cell_type": "markdown",
   "id": "83461b25",
   "metadata": {},
   "source": [
    "## Read and Write Operation"
   ]
  },
  {
   "cell_type": "markdown",
   "id": "067b3f73",
   "metadata": {},
   "source": [
    "Reading and writing are the two most common operations in the tree data structure based on the data model (TreeValue and Tianshou Batch both belong to this type), so this section will compare the reading and writing performance of these two libraries."
   ]
  },
  {
   "cell_type": "markdown",
   "id": "5d09a5b7",
   "metadata": {},
   "source": [
    "### TreeValue's Get and Set"
   ]
  },
  {
   "cell_type": "code",
   "execution_count": 2,
   "id": "9519c4bb",
   "metadata": {
    "execution": {
     "iopub.execute_input": "2023-02-23T08:26:20.009014Z",
     "iopub.status.busy": "2023-02-23T08:26:20.008244Z",
     "iopub.status.idle": "2023-02-23T08:26:20.044701Z",
     "shell.execute_reply": "2023-02-23T08:26:20.043928Z"
    }
   },
   "outputs": [],
   "source": [
    "from treevalue import FastTreeValue\n",
    "\n",
    "t = FastTreeValue(_TREE_DATA_2)"
   ]
  },
  {
   "cell_type": "code",
   "execution_count": 3,
   "id": "11c37677",
   "metadata": {
    "execution": {
     "iopub.execute_input": "2023-02-23T08:26:20.048491Z",
     "iopub.status.busy": "2023-02-23T08:26:20.047985Z",
     "iopub.status.idle": "2023-02-23T08:26:20.059601Z",
     "shell.execute_reply": "2023-02-23T08:26:20.058938Z"
    }
   },
   "outputs": [
    {
     "data": {
      "text/plain": [
       "<FastTreeValue 0x7ff188521fa0>\n",
       "├── 'a' --> tensor([[-1.0185, -1.1625,  1.4033],\n",
       "│                   [-0.6400, -1.3386,  0.6276]])\n",
       "└── 'x' --> <FastTreeValue 0x7ff188521ee0>\n",
       "    └── 'c' --> tensor([[-0.7607,  2.4333, -0.4083, -0.6661],\n",
       "                        [ 0.1746,  0.6261,  0.1945, -2.8896],\n",
       "                        [ 0.5003, -1.0422,  0.6965,  0.7633]])"
      ]
     },
     "execution_count": 3,
     "metadata": {},
     "output_type": "execute_result"
    }
   ],
   "source": [
    "t"
   ]
  },
  {
   "cell_type": "code",
   "execution_count": 4,
   "id": "fd70b0b9",
   "metadata": {
    "execution": {
     "iopub.execute_input": "2023-02-23T08:26:20.063086Z",
     "iopub.status.busy": "2023-02-23T08:26:20.062583Z",
     "iopub.status.idle": "2023-02-23T08:26:20.069507Z",
     "shell.execute_reply": "2023-02-23T08:26:20.068843Z"
    }
   },
   "outputs": [
    {
     "data": {
      "text/plain": [
       "tensor([[-1.0185, -1.1625,  1.4033],\n",
       "        [-0.6400, -1.3386,  0.6276]])"
      ]
     },
     "execution_count": 4,
     "metadata": {},
     "output_type": "execute_result"
    }
   ],
   "source": [
    "t.a"
   ]
  },
  {
   "cell_type": "code",
   "execution_count": 5,
   "id": "c18197bd",
   "metadata": {
    "execution": {
     "iopub.execute_input": "2023-02-23T08:26:20.072661Z",
     "iopub.status.busy": "2023-02-23T08:26:20.072059Z",
     "iopub.status.idle": "2023-02-23T08:26:25.310839Z",
     "shell.execute_reply": "2023-02-23T08:26:25.309928Z"
    }
   },
   "outputs": [
    {
     "name": "stdout",
     "output_type": "stream",
     "text": [
      "64.5 ns ± 0.0978 ns per loop (mean ± std. dev. of 7 runs, 10,000,000 loops each)\n"
     ]
    }
   ],
   "source": [
    "%timeit t.a"
   ]
  },
  {
   "cell_type": "code",
   "execution_count": 6,
   "id": "bd52f867",
   "metadata": {
    "execution": {
     "iopub.execute_input": "2023-02-23T08:26:25.314233Z",
     "iopub.status.busy": "2023-02-23T08:26:25.313976Z",
     "iopub.status.idle": "2023-02-23T08:26:25.321299Z",
     "shell.execute_reply": "2023-02-23T08:26:25.320618Z"
    }
   },
   "outputs": [
    {
     "data": {
      "text/plain": [
       "<FastTreeValue 0x7ff188521fa0>\n",
       "├── 'a' --> tensor([[-0.7119, -1.5440, -0.2076],\n",
       "│                   [ 0.6398,  0.3553, -1.0343]])\n",
       "└── 'x' --> <FastTreeValue 0x7ff188521ee0>\n",
       "    └── 'c' --> tensor([[-0.7607,  2.4333, -0.4083, -0.6661],\n",
       "                        [ 0.1746,  0.6261,  0.1945, -2.8896],\n",
       "                        [ 0.5003, -1.0422,  0.6965,  0.7633]])"
      ]
     },
     "execution_count": 6,
     "metadata": {},
     "output_type": "execute_result"
    }
   ],
   "source": [
    "new_value = torch.randn(2, 3)\n",
    "t.a = new_value\n",
    "\n",
    "t"
   ]
  },
  {
   "cell_type": "code",
   "execution_count": 7,
   "id": "bbe04d1c",
   "metadata": {
    "execution": {
     "iopub.execute_input": "2023-02-23T08:26:25.325157Z",
     "iopub.status.busy": "2023-02-23T08:26:25.324335Z",
     "iopub.status.idle": "2023-02-23T08:26:30.826671Z",
     "shell.execute_reply": "2023-02-23T08:26:30.825777Z"
    }
   },
   "outputs": [
    {
     "name": "stdout",
     "output_type": "stream",
     "text": [
      "67.7 ns ± 0.043 ns per loop (mean ± std. dev. of 7 runs, 10,000,000 loops each)\n"
     ]
    }
   ],
   "source": [
    "%timeit t.a = new_value"
   ]
  },
  {
   "cell_type": "markdown",
   "id": "48c49731",
   "metadata": {},
   "source": [
    "### Tianshou Batch's Get and Set"
   ]
  },
  {
   "cell_type": "code",
   "execution_count": 8,
   "id": "f1bb14c1",
   "metadata": {
    "execution": {
     "iopub.execute_input": "2023-02-23T08:26:30.830663Z",
     "iopub.status.busy": "2023-02-23T08:26:30.830053Z",
     "iopub.status.idle": "2023-02-23T08:26:31.217159Z",
     "shell.execute_reply": "2023-02-23T08:26:31.215904Z"
    }
   },
   "outputs": [],
   "source": [
    "from tianshou.data import Batch\n",
    "\n",
    "b = Batch(**_TREE_DATA_2)"
   ]
  },
  {
   "cell_type": "code",
   "execution_count": 9,
   "id": "cb0777c3",
   "metadata": {
    "execution": {
     "iopub.execute_input": "2023-02-23T08:26:31.221127Z",
     "iopub.status.busy": "2023-02-23T08:26:31.220601Z",
     "iopub.status.idle": "2023-02-23T08:26:31.227023Z",
     "shell.execute_reply": "2023-02-23T08:26:31.226447Z"
    }
   },
   "outputs": [
    {
     "data": {
      "text/plain": [
       "Batch(\n",
       "    a: tensor([[-1.0185, -1.1625,  1.4033],\n",
       "               [-0.6400, -1.3386,  0.6276]]),\n",
       "    x: Batch(\n",
       "           c: tensor([[-0.7607,  2.4333, -0.4083, -0.6661],\n",
       "                      [ 0.1746,  0.6261,  0.1945, -2.8896],\n",
       "                      [ 0.5003, -1.0422,  0.6965,  0.7633]]),\n",
       "       ),\n",
       ")"
      ]
     },
     "execution_count": 9,
     "metadata": {},
     "output_type": "execute_result"
    }
   ],
   "source": [
    "b"
   ]
  },
  {
   "cell_type": "code",
   "execution_count": 10,
   "id": "43ef8ea3",
   "metadata": {
    "execution": {
     "iopub.execute_input": "2023-02-23T08:26:31.230258Z",
     "iopub.status.busy": "2023-02-23T08:26:31.229858Z",
     "iopub.status.idle": "2023-02-23T08:26:31.235351Z",
     "shell.execute_reply": "2023-02-23T08:26:31.234812Z"
    }
   },
   "outputs": [
    {
     "data": {
      "text/plain": [
       "tensor([[-1.0185, -1.1625,  1.4033],\n",
       "        [-0.6400, -1.3386,  0.6276]])"
      ]
     },
     "execution_count": 10,
     "metadata": {},
     "output_type": "execute_result"
    }
   ],
   "source": [
    "b.a"
   ]
  },
  {
   "cell_type": "code",
   "execution_count": 11,
   "id": "b785ab72",
   "metadata": {
    "execution": {
     "iopub.execute_input": "2023-02-23T08:26:31.238230Z",
     "iopub.status.busy": "2023-02-23T08:26:31.237572Z",
     "iopub.status.idle": "2023-02-23T08:26:36.014693Z",
     "shell.execute_reply": "2023-02-23T08:26:36.013797Z"
    }
   },
   "outputs": [
    {
     "name": "stdout",
     "output_type": "stream",
     "text": [
      "58.7 ns ± 0.0767 ns per loop (mean ± std. dev. of 7 runs, 10,000,000 loops each)\n"
     ]
    }
   ],
   "source": [
    "%timeit b.a"
   ]
  },
  {
   "cell_type": "code",
   "execution_count": 12,
   "id": "ad54dc69",
   "metadata": {
    "execution": {
     "iopub.execute_input": "2023-02-23T08:26:36.018090Z",
     "iopub.status.busy": "2023-02-23T08:26:36.017668Z",
     "iopub.status.idle": "2023-02-23T08:26:36.025190Z",
     "shell.execute_reply": "2023-02-23T08:26:36.024187Z"
    }
   },
   "outputs": [
    {
     "data": {
      "text/plain": [
       "Batch(\n",
       "    a: tensor([[ 0.0111,  0.1618, -0.8218],\n",
       "               [-0.7485, -0.7592,  0.2147]]),\n",
       "    x: Batch(\n",
       "           c: tensor([[-0.7607,  2.4333, -0.4083, -0.6661],\n",
       "                      [ 0.1746,  0.6261,  0.1945, -2.8896],\n",
       "                      [ 0.5003, -1.0422,  0.6965,  0.7633]]),\n",
       "       ),\n",
       ")"
      ]
     },
     "execution_count": 12,
     "metadata": {},
     "output_type": "execute_result"
    }
   ],
   "source": [
    "new_value = torch.randn(2, 3)\n",
    "b.a = new_value\n",
    "\n",
    "b"
   ]
  },
  {
   "cell_type": "code",
   "execution_count": 13,
   "id": "29b1d0bf",
   "metadata": {
    "execution": {
     "iopub.execute_input": "2023-02-23T08:26:36.028378Z",
     "iopub.status.busy": "2023-02-23T08:26:36.027858Z",
     "iopub.status.idle": "2023-02-23T08:26:40.073518Z",
     "shell.execute_reply": "2023-02-23T08:26:40.072764Z"
    }
   },
   "outputs": [
    {
     "name": "stdout",
     "output_type": "stream",
     "text": [
      "498 ns ± 0.206 ns per loop (mean ± std. dev. of 7 runs, 1,000,000 loops each)\n"
     ]
    }
   ],
   "source": [
    "%timeit b.a = new_value"
   ]
  },
  {
   "cell_type": "markdown",
   "id": "b61ad1d0",
   "metadata": {},
   "source": [
    "## Initialization"
   ]
  },
  {
   "cell_type": "markdown",
   "id": "d70f0d54",
   "metadata": {},
   "source": [
    "### TreeValue's Initialization"
   ]
  },
  {
   "cell_type": "code",
   "execution_count": 14,
   "id": "d32a679b",
   "metadata": {
    "execution": {
     "iopub.execute_input": "2023-02-23T08:26:40.077143Z",
     "iopub.status.busy": "2023-02-23T08:26:40.076671Z",
     "iopub.status.idle": "2023-02-23T08:26:46.855957Z",
     "shell.execute_reply": "2023-02-23T08:26:46.854727Z"
    }
   },
   "outputs": [
    {
     "name": "stdout",
     "output_type": "stream",
     "text": [
      "835 ns ± 0.0992 ns per loop (mean ± std. dev. of 7 runs, 1,000,000 loops each)\n"
     ]
    }
   ],
   "source": [
    "%timeit FastTreeValue(_TREE_DATA_1)"
   ]
  },
  {
   "cell_type": "markdown",
   "id": "24f3707b",
   "metadata": {},
   "source": [
    "### Tianshou Batch's Initialization"
   ]
  },
  {
   "cell_type": "code",
   "execution_count": 15,
   "id": "ac3958df",
   "metadata": {
    "execution": {
     "iopub.execute_input": "2023-02-23T08:26:46.859468Z",
     "iopub.status.busy": "2023-02-23T08:26:46.858886Z",
     "iopub.status.idle": "2023-02-23T08:26:55.722564Z",
     "shell.execute_reply": "2023-02-23T08:26:55.721751Z"
    }
   },
   "outputs": [
    {
     "name": "stdout",
     "output_type": "stream",
     "text": [
      "10.9 µs ± 38.5 ns per loop (mean ± std. dev. of 7 runs, 100,000 loops each)\n"
     ]
    }
   ],
   "source": [
    "%timeit Batch(**_TREE_DATA_1)"
   ]
  },
  {
   "cell_type": "markdown",
   "id": "1ab82e2d",
   "metadata": {},
   "source": [
    "## Deep Copy Operation"
   ]
  },
  {
   "cell_type": "code",
   "execution_count": 16,
   "id": "210a9442",
   "metadata": {
    "execution": {
     "iopub.execute_input": "2023-02-23T08:26:55.725832Z",
     "iopub.status.busy": "2023-02-23T08:26:55.725566Z",
     "iopub.status.idle": "2023-02-23T08:26:55.732587Z",
     "shell.execute_reply": "2023-02-23T08:26:55.731880Z"
    }
   },
   "outputs": [],
   "source": [
    "import copy"
   ]
  },
  {
   "cell_type": "markdown",
   "id": "5a736274",
   "metadata": {},
   "source": [
    "### Deep Copy of TreeValue"
   ]
  },
  {
   "cell_type": "code",
   "execution_count": 17,
   "id": "f9bcadd6",
   "metadata": {
    "execution": {
     "iopub.execute_input": "2023-02-23T08:26:55.736006Z",
     "iopub.status.busy": "2023-02-23T08:26:55.735442Z",
     "iopub.status.idle": "2023-02-23T08:27:07.356465Z",
     "shell.execute_reply": "2023-02-23T08:27:07.355825Z"
    }
   },
   "outputs": [
    {
     "name": "stdout",
     "output_type": "stream",
     "text": [
      "143 µs ± 315 ns per loop (mean ± std. dev. of 7 runs, 10,000 loops each)\n"
     ]
    }
   ],
   "source": [
    "t3 = FastTreeValue(_TREE_DATA_3)\n",
    "%timeit copy.deepcopy(t3)"
   ]
  },
  {
   "cell_type": "markdown",
   "id": "bf8be7ea",
   "metadata": {},
   "source": [
    "### Deep Copy of Tianshou Batch"
   ]
  },
  {
   "cell_type": "code",
   "execution_count": 18,
   "id": "91998e6f",
   "metadata": {
    "execution": {
     "iopub.execute_input": "2023-02-23T08:27:07.359571Z",
     "iopub.status.busy": "2023-02-23T08:27:07.359143Z",
     "iopub.status.idle": "2023-02-23T08:27:18.989116Z",
     "shell.execute_reply": "2023-02-23T08:27:18.988469Z"
    }
   },
   "outputs": [
    {
     "name": "stdout",
     "output_type": "stream",
     "text": [
      "143 µs ± 800 ns per loop (mean ± std. dev. of 7 runs, 10,000 loops each)\n"
     ]
    }
   ],
   "source": [
    "b3 = Batch(**_TREE_DATA_3)\n",
    "%timeit copy.deepcopy(b3)"
   ]
  },
  {
   "cell_type": "markdown",
   "id": "223162fb",
   "metadata": {},
   "source": [
    "## Stack, Concat and Split Operation"
   ]
  },
  {
   "cell_type": "markdown",
   "id": "85fa4a73",
   "metadata": {},
   "source": [
    "### Performance of TreeValue"
   ]
  },
  {
   "cell_type": "code",
   "execution_count": 19,
   "id": "a0c2b697",
   "metadata": {
    "execution": {
     "iopub.execute_input": "2023-02-23T08:27:18.992341Z",
     "iopub.status.busy": "2023-02-23T08:27:18.991909Z",
     "iopub.status.idle": "2023-02-23T08:27:18.996499Z",
     "shell.execute_reply": "2023-02-23T08:27:18.995873Z"
    }
   },
   "outputs": [],
   "source": [
    "trees = [FastTreeValue(_TREE_DATA_2) for _ in range(8)]"
   ]
  },
  {
   "cell_type": "code",
   "execution_count": 20,
   "id": "017ea5a5",
   "metadata": {
    "execution": {
     "iopub.execute_input": "2023-02-23T08:27:18.999333Z",
     "iopub.status.busy": "2023-02-23T08:27:18.998792Z",
     "iopub.status.idle": "2023-02-23T08:27:19.006401Z",
     "shell.execute_reply": "2023-02-23T08:27:19.005700Z"
    }
   },
   "outputs": [
    {
     "data": {
      "text/plain": [
       "<FastTreeValue 0x7ff0db187dc0>\n",
       "├── 'a' --> tensor([[[-1.0185, -1.1625,  1.4033],\n",
       "│                    [-0.6400, -1.3386,  0.6276]],\n",
       "│           \n",
       "│                   [[-1.0185, -1.1625,  1.4033],\n",
       "│                    [-0.6400, -1.3386,  0.6276]],\n",
       "│           \n",
       "│                   [[-1.0185, -1.1625,  1.4033],\n",
       "│                    [-0.6400, -1.3386,  0.6276]],\n",
       "│           \n",
       "│                   [[-1.0185, -1.1625,  1.4033],\n",
       "│                    [-0.6400, -1.3386,  0.6276]],\n",
       "│           \n",
       "│                   [[-1.0185, -1.1625,  1.4033],\n",
       "│                    [-0.6400, -1.3386,  0.6276]],\n",
       "│           \n",
       "│                   [[-1.0185, -1.1625,  1.4033],\n",
       "│                    [-0.6400, -1.3386,  0.6276]],\n",
       "│           \n",
       "│                   [[-1.0185, -1.1625,  1.4033],\n",
       "│                    [-0.6400, -1.3386,  0.6276]],\n",
       "│           \n",
       "│                   [[-1.0185, -1.1625,  1.4033],\n",
       "│                    [-0.6400, -1.3386,  0.6276]]])\n",
       "└── 'x' --> <FastTreeValue 0x7ff0db1872b0>\n",
       "    └── 'c' --> tensor([[[-0.7607,  2.4333, -0.4083, -0.6661],\n",
       "                         [ 0.1746,  0.6261,  0.1945, -2.8896],\n",
       "                         [ 0.5003, -1.0422,  0.6965,  0.7633]],\n",
       "                \n",
       "                        [[-0.7607,  2.4333, -0.4083, -0.6661],\n",
       "                         [ 0.1746,  0.6261,  0.1945, -2.8896],\n",
       "                         [ 0.5003, -1.0422,  0.6965,  0.7633]],\n",
       "                \n",
       "                        [[-0.7607,  2.4333, -0.4083, -0.6661],\n",
       "                         [ 0.1746,  0.6261,  0.1945, -2.8896],\n",
       "                         [ 0.5003, -1.0422,  0.6965,  0.7633]],\n",
       "                \n",
       "                        [[-0.7607,  2.4333, -0.4083, -0.6661],\n",
       "                         [ 0.1746,  0.6261,  0.1945, -2.8896],\n",
       "                         [ 0.5003, -1.0422,  0.6965,  0.7633]],\n",
       "                \n",
       "                        [[-0.7607,  2.4333, -0.4083, -0.6661],\n",
       "                         [ 0.1746,  0.6261,  0.1945, -2.8896],\n",
       "                         [ 0.5003, -1.0422,  0.6965,  0.7633]],\n",
       "                \n",
       "                        [[-0.7607,  2.4333, -0.4083, -0.6661],\n",
       "                         [ 0.1746,  0.6261,  0.1945, -2.8896],\n",
       "                         [ 0.5003, -1.0422,  0.6965,  0.7633]],\n",
       "                \n",
       "                        [[-0.7607,  2.4333, -0.4083, -0.6661],\n",
       "                         [ 0.1746,  0.6261,  0.1945, -2.8896],\n",
       "                         [ 0.5003, -1.0422,  0.6965,  0.7633]],\n",
       "                \n",
       "                        [[-0.7607,  2.4333, -0.4083, -0.6661],\n",
       "                         [ 0.1746,  0.6261,  0.1945, -2.8896],\n",
       "                         [ 0.5003, -1.0422,  0.6965,  0.7633]]])"
      ]
     },
     "execution_count": 20,
     "metadata": {},
     "output_type": "execute_result"
    }
   ],
   "source": [
    "t_stack = FastTreeValue.func(subside=True)(torch.stack)\n",
    "\n",
    "t_stack(trees)"
   ]
  },
  {
   "cell_type": "code",
   "execution_count": 21,
   "id": "f8b3f415",
   "metadata": {
    "execution": {
     "iopub.execute_input": "2023-02-23T08:27:19.009094Z",
     "iopub.status.busy": "2023-02-23T08:27:19.008736Z",
     "iopub.status.idle": "2023-02-23T08:27:21.626403Z",
     "shell.execute_reply": "2023-02-23T08:27:21.625362Z"
    }
   },
   "outputs": [
    {
     "name": "stdout",
     "output_type": "stream",
     "text": [
      "32.2 µs ± 140 ns per loop (mean ± std. dev. of 7 runs, 10,000 loops each)\n"
     ]
    }
   ],
   "source": [
    "%timeit t_stack(trees)"
   ]
  },
  {
   "cell_type": "code",
   "execution_count": 22,
   "id": "94b56771",
   "metadata": {
    "execution": {
     "iopub.execute_input": "2023-02-23T08:27:21.629969Z",
     "iopub.status.busy": "2023-02-23T08:27:21.629345Z",
     "iopub.status.idle": "2023-02-23T08:27:21.638159Z",
     "shell.execute_reply": "2023-02-23T08:27:21.637470Z"
    }
   },
   "outputs": [
    {
     "data": {
      "text/plain": [
       "<FastTreeValue 0x7ff188518460>\n",
       "├── 'a' --> tensor([[-1.0185, -1.1625,  1.4033],\n",
       "│                   [-0.6400, -1.3386,  0.6276],\n",
       "│                   [-1.0185, -1.1625,  1.4033],\n",
       "│                   [-0.6400, -1.3386,  0.6276],\n",
       "│                   [-1.0185, -1.1625,  1.4033],\n",
       "│                   [-0.6400, -1.3386,  0.6276],\n",
       "│                   [-1.0185, -1.1625,  1.4033],\n",
       "│                   [-0.6400, -1.3386,  0.6276],\n",
       "│                   [-1.0185, -1.1625,  1.4033],\n",
       "│                   [-0.6400, -1.3386,  0.6276],\n",
       "│                   [-1.0185, -1.1625,  1.4033],\n",
       "│                   [-0.6400, -1.3386,  0.6276],\n",
       "│                   [-1.0185, -1.1625,  1.4033],\n",
       "│                   [-0.6400, -1.3386,  0.6276],\n",
       "│                   [-1.0185, -1.1625,  1.4033],\n",
       "│                   [-0.6400, -1.3386,  0.6276]])\n",
       "└── 'x' --> <FastTreeValue 0x7ff15c971340>\n",
       "    └── 'c' --> tensor([[-0.7607,  2.4333, -0.4083, -0.6661],\n",
       "                        [ 0.1746,  0.6261,  0.1945, -2.8896],\n",
       "                        [ 0.5003, -1.0422,  0.6965,  0.7633],\n",
       "                        [-0.7607,  2.4333, -0.4083, -0.6661],\n",
       "                        [ 0.1746,  0.6261,  0.1945, -2.8896],\n",
       "                        [ 0.5003, -1.0422,  0.6965,  0.7633],\n",
       "                        [-0.7607,  2.4333, -0.4083, -0.6661],\n",
       "                        [ 0.1746,  0.6261,  0.1945, -2.8896],\n",
       "                        [ 0.5003, -1.0422,  0.6965,  0.7633],\n",
       "                        [-0.7607,  2.4333, -0.4083, -0.6661],\n",
       "                        [ 0.1746,  0.6261,  0.1945, -2.8896],\n",
       "                        [ 0.5003, -1.0422,  0.6965,  0.7633],\n",
       "                        [-0.7607,  2.4333, -0.4083, -0.6661],\n",
       "                        [ 0.1746,  0.6261,  0.1945, -2.8896],\n",
       "                        [ 0.5003, -1.0422,  0.6965,  0.7633],\n",
       "                        [-0.7607,  2.4333, -0.4083, -0.6661],\n",
       "                        [ 0.1746,  0.6261,  0.1945, -2.8896],\n",
       "                        [ 0.5003, -1.0422,  0.6965,  0.7633],\n",
       "                        [-0.7607,  2.4333, -0.4083, -0.6661],\n",
       "                        [ 0.1746,  0.6261,  0.1945, -2.8896],\n",
       "                        [ 0.5003, -1.0422,  0.6965,  0.7633],\n",
       "                        [-0.7607,  2.4333, -0.4083, -0.6661],\n",
       "                        [ 0.1746,  0.6261,  0.1945, -2.8896],\n",
       "                        [ 0.5003, -1.0422,  0.6965,  0.7633]])"
      ]
     },
     "execution_count": 22,
     "metadata": {},
     "output_type": "execute_result"
    }
   ],
   "source": [
    "t_cat = FastTreeValue.func(subside=True)(torch.cat)\n",
    "\n",
    "t_cat(trees)"
   ]
  },
  {
   "cell_type": "code",
   "execution_count": 23,
   "id": "5e9c06a6",
   "metadata": {
    "execution": {
     "iopub.execute_input": "2023-02-23T08:27:21.641322Z",
     "iopub.status.busy": "2023-02-23T08:27:21.640937Z",
     "iopub.status.idle": "2023-02-23T08:27:24.103756Z",
     "shell.execute_reply": "2023-02-23T08:27:24.102725Z"
    }
   },
   "outputs": [
    {
     "name": "stdout",
     "output_type": "stream",
     "text": [
      "30.3 µs ± 43.3 ns per loop (mean ± std. dev. of 7 runs, 10,000 loops each)\n"
     ]
    }
   ],
   "source": [
    "%timeit t_cat(trees)"
   ]
  },
  {
   "cell_type": "code",
   "execution_count": 24,
   "id": "a3ab5c8f",
   "metadata": {
    "execution": {
     "iopub.execute_input": "2023-02-23T08:27:24.107457Z",
     "iopub.status.busy": "2023-02-23T08:27:24.107080Z",
     "iopub.status.idle": "2023-02-23T08:27:28.649996Z",
     "shell.execute_reply": "2023-02-23T08:27:28.649093Z"
    }
   },
   "outputs": [
    {
     "name": "stdout",
     "output_type": "stream",
     "text": [
      "55.8 µs ± 15 ns per loop (mean ± std. dev. of 7 runs, 10,000 loops each)\n"
     ]
    }
   ],
   "source": [
    "t_split = FastTreeValue.func(rise=True)(torch.split)\n",
    "tree = FastTreeValue({\n",
    "    'obs': torch.randn(8, 4, 84, 84),\n",
    "    'action': torch.randint(0, 6, size=(8, 1,)),\n",
    "    'reward': torch.rand(8, 1),\n",
    "})\n",
    "\n",
    "%timeit t_split(tree, 1)"
   ]
  },
  {
   "cell_type": "markdown",
   "id": "31c3ec0b",
   "metadata": {},
   "source": [
    "### Performance of Tianshou Batch"
   ]
  },
  {
   "cell_type": "code",
   "execution_count": 25,
   "id": "9ead828a",
   "metadata": {
    "execution": {
     "iopub.execute_input": "2023-02-23T08:27:28.653267Z",
     "iopub.status.busy": "2023-02-23T08:27:28.652860Z",
     "iopub.status.idle": "2023-02-23T08:27:28.661486Z",
     "shell.execute_reply": "2023-02-23T08:27:28.660838Z"
    }
   },
   "outputs": [
    {
     "data": {
      "text/plain": [
       "Batch(\n",
       "    x: Batch(\n",
       "           c: tensor([[[-0.7607,  2.4333, -0.4083, -0.6661],\n",
       "                       [ 0.1746,  0.6261,  0.1945, -2.8896],\n",
       "                       [ 0.5003, -1.0422,  0.6965,  0.7633]],\n",
       "              \n",
       "                      [[-0.7607,  2.4333, -0.4083, -0.6661],\n",
       "                       [ 0.1746,  0.6261,  0.1945, -2.8896],\n",
       "                       [ 0.5003, -1.0422,  0.6965,  0.7633]],\n",
       "              \n",
       "                      [[-0.7607,  2.4333, -0.4083, -0.6661],\n",
       "                       [ 0.1746,  0.6261,  0.1945, -2.8896],\n",
       "                       [ 0.5003, -1.0422,  0.6965,  0.7633]],\n",
       "              \n",
       "                      [[-0.7607,  2.4333, -0.4083, -0.6661],\n",
       "                       [ 0.1746,  0.6261,  0.1945, -2.8896],\n",
       "                       [ 0.5003, -1.0422,  0.6965,  0.7633]],\n",
       "              \n",
       "                      [[-0.7607,  2.4333, -0.4083, -0.6661],\n",
       "                       [ 0.1746,  0.6261,  0.1945, -2.8896],\n",
       "                       [ 0.5003, -1.0422,  0.6965,  0.7633]],\n",
       "              \n",
       "                      [[-0.7607,  2.4333, -0.4083, -0.6661],\n",
       "                       [ 0.1746,  0.6261,  0.1945, -2.8896],\n",
       "                       [ 0.5003, -1.0422,  0.6965,  0.7633]],\n",
       "              \n",
       "                      [[-0.7607,  2.4333, -0.4083, -0.6661],\n",
       "                       [ 0.1746,  0.6261,  0.1945, -2.8896],\n",
       "                       [ 0.5003, -1.0422,  0.6965,  0.7633]],\n",
       "              \n",
       "                      [[-0.7607,  2.4333, -0.4083, -0.6661],\n",
       "                       [ 0.1746,  0.6261,  0.1945, -2.8896],\n",
       "                       [ 0.5003, -1.0422,  0.6965,  0.7633]]]),\n",
       "       ),\n",
       "    a: tensor([[[-1.0185, -1.1625,  1.4033],\n",
       "                [-0.6400, -1.3386,  0.6276]],\n",
       "       \n",
       "               [[-1.0185, -1.1625,  1.4033],\n",
       "                [-0.6400, -1.3386,  0.6276]],\n",
       "       \n",
       "               [[-1.0185, -1.1625,  1.4033],\n",
       "                [-0.6400, -1.3386,  0.6276]],\n",
       "       \n",
       "               [[-1.0185, -1.1625,  1.4033],\n",
       "                [-0.6400, -1.3386,  0.6276]],\n",
       "       \n",
       "               [[-1.0185, -1.1625,  1.4033],\n",
       "                [-0.6400, -1.3386,  0.6276]],\n",
       "       \n",
       "               [[-1.0185, -1.1625,  1.4033],\n",
       "                [-0.6400, -1.3386,  0.6276]],\n",
       "       \n",
       "               [[-1.0185, -1.1625,  1.4033],\n",
       "                [-0.6400, -1.3386,  0.6276]],\n",
       "       \n",
       "               [[-1.0185, -1.1625,  1.4033],\n",
       "                [-0.6400, -1.3386,  0.6276]]]),\n",
       ")"
      ]
     },
     "execution_count": 25,
     "metadata": {},
     "output_type": "execute_result"
    }
   ],
   "source": [
    "batches = [Batch(**_TREE_DATA_2) for _ in range(8)]\n",
    "\n",
    "Batch.stack(batches)"
   ]
  },
  {
   "cell_type": "code",
   "execution_count": 26,
   "id": "ec9037a3",
   "metadata": {
    "execution": {
     "iopub.execute_input": "2023-02-23T08:27:28.664508Z",
     "iopub.status.busy": "2023-02-23T08:27:28.663935Z",
     "iopub.status.idle": "2023-02-23T08:27:34.960393Z",
     "shell.execute_reply": "2023-02-23T08:27:34.959178Z"
    }
   },
   "outputs": [
    {
     "name": "stdout",
     "output_type": "stream",
     "text": [
      "77.5 µs ± 65.9 ns per loop (mean ± std. dev. of 7 runs, 10,000 loops each)\n"
     ]
    }
   ],
   "source": [
    "%timeit Batch.stack(batches)"
   ]
  },
  {
   "cell_type": "code",
   "execution_count": 27,
   "id": "cb8ab77e",
   "metadata": {
    "execution": {
     "iopub.execute_input": "2023-02-23T08:27:34.964118Z",
     "iopub.status.busy": "2023-02-23T08:27:34.963505Z",
     "iopub.status.idle": "2023-02-23T08:27:34.972892Z",
     "shell.execute_reply": "2023-02-23T08:27:34.972256Z"
    }
   },
   "outputs": [
    {
     "data": {
      "text/plain": [
       "Batch(\n",
       "    x: Batch(\n",
       "           c: tensor([[-0.7607,  2.4333, -0.4083, -0.6661],\n",
       "                      [ 0.1746,  0.6261,  0.1945, -2.8896],\n",
       "                      [ 0.5003, -1.0422,  0.6965,  0.7633],\n",
       "                      [-0.7607,  2.4333, -0.4083, -0.6661],\n",
       "                      [ 0.1746,  0.6261,  0.1945, -2.8896],\n",
       "                      [ 0.5003, -1.0422,  0.6965,  0.7633],\n",
       "                      [-0.7607,  2.4333, -0.4083, -0.6661],\n",
       "                      [ 0.1746,  0.6261,  0.1945, -2.8896],\n",
       "                      [ 0.5003, -1.0422,  0.6965,  0.7633],\n",
       "                      [-0.7607,  2.4333, -0.4083, -0.6661],\n",
       "                      [ 0.1746,  0.6261,  0.1945, -2.8896],\n",
       "                      [ 0.5003, -1.0422,  0.6965,  0.7633],\n",
       "                      [-0.7607,  2.4333, -0.4083, -0.6661],\n",
       "                      [ 0.1746,  0.6261,  0.1945, -2.8896],\n",
       "                      [ 0.5003, -1.0422,  0.6965,  0.7633],\n",
       "                      [-0.7607,  2.4333, -0.4083, -0.6661],\n",
       "                      [ 0.1746,  0.6261,  0.1945, -2.8896],\n",
       "                      [ 0.5003, -1.0422,  0.6965,  0.7633],\n",
       "                      [-0.7607,  2.4333, -0.4083, -0.6661],\n",
       "                      [ 0.1746,  0.6261,  0.1945, -2.8896],\n",
       "                      [ 0.5003, -1.0422,  0.6965,  0.7633],\n",
       "                      [-0.7607,  2.4333, -0.4083, -0.6661],\n",
       "                      [ 0.1746,  0.6261,  0.1945, -2.8896],\n",
       "                      [ 0.5003, -1.0422,  0.6965,  0.7633]]),\n",
       "       ),\n",
       "    a: tensor([[-1.0185, -1.1625,  1.4033],\n",
       "               [-0.6400, -1.3386,  0.6276],\n",
       "               [-1.0185, -1.1625,  1.4033],\n",
       "               [-0.6400, -1.3386,  0.6276],\n",
       "               [-1.0185, -1.1625,  1.4033],\n",
       "               [-0.6400, -1.3386,  0.6276],\n",
       "               [-1.0185, -1.1625,  1.4033],\n",
       "               [-0.6400, -1.3386,  0.6276],\n",
       "               [-1.0185, -1.1625,  1.4033],\n",
       "               [-0.6400, -1.3386,  0.6276],\n",
       "               [-1.0185, -1.1625,  1.4033],\n",
       "               [-0.6400, -1.3386,  0.6276],\n",
       "               [-1.0185, -1.1625,  1.4033],\n",
       "               [-0.6400, -1.3386,  0.6276],\n",
       "               [-1.0185, -1.1625,  1.4033],\n",
       "               [-0.6400, -1.3386,  0.6276]]),\n",
       ")"
      ]
     },
     "execution_count": 27,
     "metadata": {},
     "output_type": "execute_result"
    }
   ],
   "source": [
    "Batch.cat(batches)"
   ]
  },
  {
   "cell_type": "code",
   "execution_count": 28,
   "id": "18dfb045",
   "metadata": {
    "execution": {
     "iopub.execute_input": "2023-02-23T08:27:34.976003Z",
     "iopub.status.busy": "2023-02-23T08:27:34.975421Z",
     "iopub.status.idle": "2023-02-23T08:27:46.643254Z",
     "shell.execute_reply": "2023-02-23T08:27:46.642354Z"
    }
   },
   "outputs": [
    {
     "name": "stdout",
     "output_type": "stream",
     "text": [
      "144 µs ± 178 ns per loop (mean ± std. dev. of 7 runs, 10,000 loops each)\n"
     ]
    }
   ],
   "source": [
    "%timeit Batch.cat(batches)"
   ]
  },
  {
   "cell_type": "code",
   "execution_count": 29,
   "id": "c6688e51",
   "metadata": {
    "execution": {
     "iopub.execute_input": "2023-02-23T08:27:46.646620Z",
     "iopub.status.busy": "2023-02-23T08:27:46.646214Z",
     "iopub.status.idle": "2023-02-23T08:27:49.245552Z",
     "shell.execute_reply": "2023-02-23T08:27:49.244802Z"
    }
   },
   "outputs": [
    {
     "name": "stdout",
     "output_type": "stream",
     "text": [
      "319 µs ± 1.49 µs per loop (mean ± std. dev. of 7 runs, 1,000 loops each)\n"
     ]
    }
   ],
   "source": [
    "batch = Batch({\n",
    "    'obs': torch.randn(8, 4, 84, 84),\n",
    "    'action': torch.randint(0, 6, size=(8, 1,)),\n",
    "    'reward': torch.rand(8, 1)}\n",
    ")\n",
    "\n",
    "%timeit list(Batch.split(batch, 1, shuffle=False, merge_last=True))"
   ]
  },
  {
   "cell_type": "code",
   "execution_count": null,
   "id": "2539fbd9",
   "metadata": {},
   "outputs": [],
   "source": []
  }
 ],
 "metadata": {
  "kernelspec": {
   "display_name": "Python 3 (ipykernel)",
   "language": "python",
   "name": "python3"
  },
  "language_info": {
   "codemirror_mode": {
    "name": "ipython",
    "version": 3
   },
   "file_extension": ".py",
   "mimetype": "text/x-python",
   "name": "python",
   "nbconvert_exporter": "python",
   "pygments_lexer": "ipython3",
   "version": "3.8.16"
  }
 },
 "nbformat": 4,
 "nbformat_minor": 5
}
