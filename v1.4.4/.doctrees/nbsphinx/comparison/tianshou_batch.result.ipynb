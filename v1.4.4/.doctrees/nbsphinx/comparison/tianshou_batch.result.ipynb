{
 "cells": [
  {
   "cell_type": "markdown",
   "id": "9d39d946",
   "metadata": {},
   "source": [
    "# Comparison Between TreeValue and Tianshou Batch"
   ]
  },
  {
   "cell_type": "markdown",
   "id": "3c6db2d4",
   "metadata": {},
   "source": [
    "In this section, we will take a look at the feature and performance of the [Tianshou Batch](https://github.com/thu-ml/tianshou) library, which is developed by Tsinghua Machine Learning Group."
   ]
  },
  {
   "cell_type": "markdown",
   "id": "069361b0",
   "metadata": {},
   "source": [
    "Before starting the comparison, let us define some thing."
   ]
  },
  {
   "cell_type": "code",
   "execution_count": 1,
   "id": "06fc8d26",
   "metadata": {
    "execution": {
     "iopub.execute_input": "2023-02-25T07:43:18.310715Z",
     "iopub.status.busy": "2023-02-25T07:43:18.310417Z",
     "iopub.status.idle": "2023-02-25T07:43:19.537118Z",
     "shell.execute_reply": "2023-02-25T07:43:19.536044Z"
    }
   },
   "outputs": [
    {
     "name": "stderr",
     "output_type": "stream",
     "text": [
      "/opt/hostedtoolcache/Python/3.8.16/x64/lib/python3.8/site-packages/tqdm/auto.py:22: TqdmWarning: IProgress not found. Please update jupyter and ipywidgets. See https://ipywidgets.readthedocs.io/en/stable/user_install.html\n",
      "  from .autonotebook import tqdm as notebook_tqdm\n"
     ]
    }
   ],
   "source": [
    "import torch \n",
    "\n",
    "_TREE_DATA_1 = {'a': 1, 'b': 2, 'x': {'c': 3, 'd': 4}}\n",
    "_TREE_DATA_2 = {\n",
    "    'a': torch.randn(2, 3), \n",
    "    'x': {\n",
    "        'c': torch.randn(3, 4)\n",
    "    },\n",
    "}\n",
    "_TREE_DATA_3 = {\n",
    "    'obs': torch.randn(4, 84, 84),\n",
    "    'action': torch.randint(0, 6, size=(1,)),\n",
    "    'reward': torch.rand(1),\n",
    "}"
   ]
  },
  {
   "cell_type": "markdown",
   "id": "83461b25",
   "metadata": {},
   "source": [
    "## Read and Write Operation"
   ]
  },
  {
   "cell_type": "markdown",
   "id": "067b3f73",
   "metadata": {},
   "source": [
    "Reading and writing are the two most common operations in the tree data structure based on the data model (TreeValue and Tianshou Batch both belong to this type), so this section will compare the reading and writing performance of these two libraries."
   ]
  },
  {
   "cell_type": "markdown",
   "id": "5d09a5b7",
   "metadata": {},
   "source": [
    "### TreeValue's Get and Set"
   ]
  },
  {
   "cell_type": "code",
   "execution_count": 2,
   "id": "9519c4bb",
   "metadata": {
    "execution": {
     "iopub.execute_input": "2023-02-25T07:43:19.541858Z",
     "iopub.status.busy": "2023-02-25T07:43:19.541477Z",
     "iopub.status.idle": "2023-02-25T07:43:19.585270Z",
     "shell.execute_reply": "2023-02-25T07:43:19.584293Z"
    }
   },
   "outputs": [],
   "source": [
    "from treevalue import FastTreeValue\n",
    "\n",
    "t = FastTreeValue(_TREE_DATA_2)"
   ]
  },
  {
   "cell_type": "code",
   "execution_count": 3,
   "id": "11c37677",
   "metadata": {
    "execution": {
     "iopub.execute_input": "2023-02-25T07:43:19.588994Z",
     "iopub.status.busy": "2023-02-25T07:43:19.588686Z",
     "iopub.status.idle": "2023-02-25T07:43:19.603065Z",
     "shell.execute_reply": "2023-02-25T07:43:19.601658Z"
    }
   },
   "outputs": [
    {
     "data": {
      "text/plain": [
       "<FastTreeValue 0x7f76b8c4eeb0>\n",
       "├── 'a' --> tensor([[ 1.5521, -0.4073,  0.6176],\n",
       "│                   [-0.3600, -0.4997, -1.4075]])\n",
       "└── 'x' --> <FastTreeValue 0x7f76b8c4e100>\n",
       "    └── 'c' --> tensor([[ 1.1370,  0.6563,  0.1383, -0.5934],\n",
       "                        [-2.1173, -1.4629,  0.6929, -0.9648],\n",
       "                        [ 1.1643, -0.0296, -0.1839,  0.0326]])"
      ]
     },
     "execution_count": 3,
     "metadata": {},
     "output_type": "execute_result"
    }
   ],
   "source": [
    "t"
   ]
  },
  {
   "cell_type": "code",
   "execution_count": 4,
   "id": "fd70b0b9",
   "metadata": {
    "execution": {
     "iopub.execute_input": "2023-02-25T07:43:19.607077Z",
     "iopub.status.busy": "2023-02-25T07:43:19.606757Z",
     "iopub.status.idle": "2023-02-25T07:43:19.615333Z",
     "shell.execute_reply": "2023-02-25T07:43:19.614403Z"
    }
   },
   "outputs": [
    {
     "data": {
      "text/plain": [
       "tensor([[ 1.5521, -0.4073,  0.6176],\n",
       "        [-0.3600, -0.4997, -1.4075]])"
      ]
     },
     "execution_count": 4,
     "metadata": {},
     "output_type": "execute_result"
    }
   ],
   "source": [
    "t.a"
   ]
  },
  {
   "cell_type": "code",
   "execution_count": 5,
   "id": "c18197bd",
   "metadata": {
    "execution": {
     "iopub.execute_input": "2023-02-25T07:43:19.620121Z",
     "iopub.status.busy": "2023-02-25T07:43:19.619821Z",
     "iopub.status.idle": "2023-02-25T07:43:25.472848Z",
     "shell.execute_reply": "2023-02-25T07:43:25.471824Z"
    }
   },
   "outputs": [
    {
     "name": "stdout",
     "output_type": "stream",
     "text": [
      "72.1 ns ± 0.421 ns per loop (mean ± std. dev. of 7 runs, 10,000,000 loops each)\n"
     ]
    }
   ],
   "source": [
    "%timeit t.a"
   ]
  },
  {
   "cell_type": "code",
   "execution_count": 6,
   "id": "bd52f867",
   "metadata": {
    "execution": {
     "iopub.execute_input": "2023-02-25T07:43:25.476258Z",
     "iopub.status.busy": "2023-02-25T07:43:25.475948Z",
     "iopub.status.idle": "2023-02-25T07:43:25.485219Z",
     "shell.execute_reply": "2023-02-25T07:43:25.484279Z"
    }
   },
   "outputs": [
    {
     "data": {
      "text/plain": [
       "<FastTreeValue 0x7f76b8c4eeb0>\n",
       "├── 'a' --> tensor([[-0.2235, -1.2315, -1.6898],\n",
       "│                   [ 0.1621,  0.0774, -0.8981]])\n",
       "└── 'x' --> <FastTreeValue 0x7f76b8c4e100>\n",
       "    └── 'c' --> tensor([[ 1.1370,  0.6563,  0.1383, -0.5934],\n",
       "                        [-2.1173, -1.4629,  0.6929, -0.9648],\n",
       "                        [ 1.1643, -0.0296, -0.1839,  0.0326]])"
      ]
     },
     "execution_count": 6,
     "metadata": {},
     "output_type": "execute_result"
    }
   ],
   "source": [
    "new_value = torch.randn(2, 3)\n",
    "t.a = new_value\n",
    "\n",
    "t"
   ]
  },
  {
   "cell_type": "code",
   "execution_count": 7,
   "id": "bbe04d1c",
   "metadata": {
    "execution": {
     "iopub.execute_input": "2023-02-25T07:43:25.488574Z",
     "iopub.status.busy": "2023-02-25T07:43:25.488266Z",
     "iopub.status.idle": "2023-02-25T07:43:31.553406Z",
     "shell.execute_reply": "2023-02-25T07:43:31.552185Z"
    }
   },
   "outputs": [
    {
     "name": "stdout",
     "output_type": "stream",
     "text": [
      "74.2 ns ± 1.37 ns per loop (mean ± std. dev. of 7 runs, 10,000,000 loops each)\n"
     ]
    }
   ],
   "source": [
    "%timeit t.a = new_value"
   ]
  },
  {
   "cell_type": "markdown",
   "id": "48c49731",
   "metadata": {},
   "source": [
    "### Tianshou Batch's Get and Set"
   ]
  },
  {
   "cell_type": "code",
   "execution_count": 8,
   "id": "f1bb14c1",
   "metadata": {
    "execution": {
     "iopub.execute_input": "2023-02-25T07:43:31.557029Z",
     "iopub.status.busy": "2023-02-25T07:43:31.556712Z",
     "iopub.status.idle": "2023-02-25T07:43:32.005459Z",
     "shell.execute_reply": "2023-02-25T07:43:32.003928Z"
    }
   },
   "outputs": [],
   "source": [
    "from tianshou.data import Batch\n",
    "\n",
    "b = Batch(**_TREE_DATA_2)"
   ]
  },
  {
   "cell_type": "code",
   "execution_count": 9,
   "id": "cb0777c3",
   "metadata": {
    "execution": {
     "iopub.execute_input": "2023-02-25T07:43:32.009742Z",
     "iopub.status.busy": "2023-02-25T07:43:32.009229Z",
     "iopub.status.idle": "2023-02-25T07:43:32.018186Z",
     "shell.execute_reply": "2023-02-25T07:43:32.017200Z"
    }
   },
   "outputs": [
    {
     "data": {
      "text/plain": [
       "Batch(\n",
       "    a: tensor([[ 1.5521, -0.4073,  0.6176],\n",
       "               [-0.3600, -0.4997, -1.4075]]),\n",
       "    x: Batch(\n",
       "           c: tensor([[ 1.1370,  0.6563,  0.1383, -0.5934],\n",
       "                      [-2.1173, -1.4629,  0.6929, -0.9648],\n",
       "                      [ 1.1643, -0.0296, -0.1839,  0.0326]]),\n",
       "       ),\n",
       ")"
      ]
     },
     "execution_count": 9,
     "metadata": {},
     "output_type": "execute_result"
    }
   ],
   "source": [
    "b"
   ]
  },
  {
   "cell_type": "code",
   "execution_count": 10,
   "id": "43ef8ea3",
   "metadata": {
    "execution": {
     "iopub.execute_input": "2023-02-25T07:43:32.021584Z",
     "iopub.status.busy": "2023-02-25T07:43:32.021287Z",
     "iopub.status.idle": "2023-02-25T07:43:32.029275Z",
     "shell.execute_reply": "2023-02-25T07:43:32.028285Z"
    }
   },
   "outputs": [
    {
     "data": {
      "text/plain": [
       "tensor([[ 1.5521, -0.4073,  0.6176],\n",
       "        [-0.3600, -0.4997, -1.4075]])"
      ]
     },
     "execution_count": 10,
     "metadata": {},
     "output_type": "execute_result"
    }
   ],
   "source": [
    "b.a"
   ]
  },
  {
   "cell_type": "code",
   "execution_count": 11,
   "id": "b785ab72",
   "metadata": {
    "execution": {
     "iopub.execute_input": "2023-02-25T07:43:32.033171Z",
     "iopub.status.busy": "2023-02-25T07:43:32.032633Z",
     "iopub.status.idle": "2023-02-25T07:43:38.148615Z",
     "shell.execute_reply": "2023-02-25T07:43:38.147596Z"
    }
   },
   "outputs": [
    {
     "name": "stdout",
     "output_type": "stream",
     "text": [
      "75.2 ns ± 1.47 ns per loop (mean ± std. dev. of 7 runs, 10,000,000 loops each)\n"
     ]
    }
   ],
   "source": [
    "%timeit b.a"
   ]
  },
  {
   "cell_type": "code",
   "execution_count": 12,
   "id": "ad54dc69",
   "metadata": {
    "execution": {
     "iopub.execute_input": "2023-02-25T07:43:38.154953Z",
     "iopub.status.busy": "2023-02-25T07:43:38.154200Z",
     "iopub.status.idle": "2023-02-25T07:43:38.164582Z",
     "shell.execute_reply": "2023-02-25T07:43:38.163527Z"
    }
   },
   "outputs": [
    {
     "data": {
      "text/plain": [
       "Batch(\n",
       "    a: tensor([[ 1.5253,  0.2708, -0.7370],\n",
       "               [-0.5360, -0.3040, -0.9124]]),\n",
       "    x: Batch(\n",
       "           c: tensor([[ 1.1370,  0.6563,  0.1383, -0.5934],\n",
       "                      [-2.1173, -1.4629,  0.6929, -0.9648],\n",
       "                      [ 1.1643, -0.0296, -0.1839,  0.0326]]),\n",
       "       ),\n",
       ")"
      ]
     },
     "execution_count": 12,
     "metadata": {},
     "output_type": "execute_result"
    }
   ],
   "source": [
    "new_value = torch.randn(2, 3)\n",
    "b.a = new_value\n",
    "\n",
    "b"
   ]
  },
  {
   "cell_type": "code",
   "execution_count": 13,
   "id": "29b1d0bf",
   "metadata": {
    "execution": {
     "iopub.execute_input": "2023-02-25T07:43:38.168550Z",
     "iopub.status.busy": "2023-02-25T07:43:38.167981Z",
     "iopub.status.idle": "2023-02-25T07:43:43.186448Z",
     "shell.execute_reply": "2023-02-25T07:43:43.185444Z"
    }
   },
   "outputs": [
    {
     "name": "stdout",
     "output_type": "stream",
     "text": [
      "616 ns ± 7.14 ns per loop (mean ± std. dev. of 7 runs, 1,000,000 loops each)\n"
     ]
    }
   ],
   "source": [
    "%timeit b.a = new_value"
   ]
  },
  {
   "cell_type": "markdown",
   "id": "b61ad1d0",
   "metadata": {},
   "source": [
    "## Initialization"
   ]
  },
  {
   "cell_type": "markdown",
   "id": "d70f0d54",
   "metadata": {},
   "source": [
    "### TreeValue's Initialization"
   ]
  },
  {
   "cell_type": "code",
   "execution_count": 14,
   "id": "d32a679b",
   "metadata": {
    "execution": {
     "iopub.execute_input": "2023-02-25T07:43:43.191361Z",
     "iopub.status.busy": "2023-02-25T07:43:43.190490Z",
     "iopub.status.idle": "2023-02-25T07:43:51.204047Z",
     "shell.execute_reply": "2023-02-25T07:43:51.202995Z"
    }
   },
   "outputs": [
    {
     "name": "stdout",
     "output_type": "stream",
     "text": [
      "990 ns ± 15.6 ns per loop (mean ± std. dev. of 7 runs, 1,000,000 loops each)\n"
     ]
    }
   ],
   "source": [
    "%timeit FastTreeValue(_TREE_DATA_1)"
   ]
  },
  {
   "cell_type": "markdown",
   "id": "24f3707b",
   "metadata": {},
   "source": [
    "### Tianshou Batch's Initialization"
   ]
  },
  {
   "cell_type": "code",
   "execution_count": 15,
   "id": "ac3958df",
   "metadata": {
    "execution": {
     "iopub.execute_input": "2023-02-25T07:43:51.207739Z",
     "iopub.status.busy": "2023-02-25T07:43:51.207047Z",
     "iopub.status.idle": "2023-02-25T07:44:01.891295Z",
     "shell.execute_reply": "2023-02-25T07:44:01.890410Z"
    }
   },
   "outputs": [
    {
     "name": "stdout",
     "output_type": "stream",
     "text": [
      "13.2 µs ± 195 ns per loop (mean ± std. dev. of 7 runs, 100,000 loops each)\n"
     ]
    }
   ],
   "source": [
    "%timeit Batch(**_TREE_DATA_1)"
   ]
  },
  {
   "cell_type": "markdown",
   "id": "1ab82e2d",
   "metadata": {},
   "source": [
    "## Deep Copy Operation"
   ]
  },
  {
   "cell_type": "code",
   "execution_count": 16,
   "id": "210a9442",
   "metadata": {
    "execution": {
     "iopub.execute_input": "2023-02-25T07:44:01.895113Z",
     "iopub.status.busy": "2023-02-25T07:44:01.894579Z",
     "iopub.status.idle": "2023-02-25T07:44:01.899820Z",
     "shell.execute_reply": "2023-02-25T07:44:01.898864Z"
    }
   },
   "outputs": [],
   "source": [
    "import copy"
   ]
  },
  {
   "cell_type": "markdown",
   "id": "5a736274",
   "metadata": {},
   "source": [
    "### Deep Copy of TreeValue"
   ]
  },
  {
   "cell_type": "code",
   "execution_count": 17,
   "id": "f9bcadd6",
   "metadata": {
    "execution": {
     "iopub.execute_input": "2023-02-25T07:44:01.903736Z",
     "iopub.status.busy": "2023-02-25T07:44:01.903263Z",
     "iopub.status.idle": "2023-02-25T07:44:04.288729Z",
     "shell.execute_reply": "2023-02-25T07:44:04.287731Z"
    }
   },
   "outputs": [
    {
     "name": "stdout",
     "output_type": "stream",
     "text": [
      "294 µs ± 12 µs per loop (mean ± std. dev. of 7 runs, 1,000 loops each)\n"
     ]
    }
   ],
   "source": [
    "t3 = FastTreeValue(_TREE_DATA_3)\n",
    "%timeit copy.deepcopy(t3)"
   ]
  },
  {
   "cell_type": "markdown",
   "id": "bf8be7ea",
   "metadata": {},
   "source": [
    "### Deep Copy of Tianshou Batch"
   ]
  },
  {
   "cell_type": "code",
   "execution_count": 18,
   "id": "91998e6f",
   "metadata": {
    "execution": {
     "iopub.execute_input": "2023-02-25T07:44:04.293740Z",
     "iopub.status.busy": "2023-02-25T07:44:04.292982Z",
     "iopub.status.idle": "2023-02-25T07:44:06.618880Z",
     "shell.execute_reply": "2023-02-25T07:44:06.618000Z"
    }
   },
   "outputs": [
    {
     "name": "stdout",
     "output_type": "stream",
     "text": [
      "284 µs ± 13.9 µs per loop (mean ± std. dev. of 7 runs, 1,000 loops each)\n"
     ]
    }
   ],
   "source": [
    "b3 = Batch(**_TREE_DATA_3)\n",
    "%timeit copy.deepcopy(b3)"
   ]
  },
  {
   "cell_type": "markdown",
   "id": "223162fb",
   "metadata": {},
   "source": [
    "## Stack, Concat and Split Operation"
   ]
  },
  {
   "cell_type": "markdown",
   "id": "85fa4a73",
   "metadata": {},
   "source": [
    "### Performance of TreeValue"
   ]
  },
  {
   "cell_type": "code",
   "execution_count": 19,
   "id": "a0c2b697",
   "metadata": {
    "execution": {
     "iopub.execute_input": "2023-02-25T07:44:06.622911Z",
     "iopub.status.busy": "2023-02-25T07:44:06.622194Z",
     "iopub.status.idle": "2023-02-25T07:44:06.626716Z",
     "shell.execute_reply": "2023-02-25T07:44:06.625857Z"
    }
   },
   "outputs": [],
   "source": [
    "trees = [FastTreeValue(_TREE_DATA_2) for _ in range(8)]"
   ]
  },
  {
   "cell_type": "code",
   "execution_count": 20,
   "id": "017ea5a5",
   "metadata": {
    "execution": {
     "iopub.execute_input": "2023-02-25T07:44:06.630203Z",
     "iopub.status.busy": "2023-02-25T07:44:06.629584Z",
     "iopub.status.idle": "2023-02-25T07:44:06.638758Z",
     "shell.execute_reply": "2023-02-25T07:44:06.637926Z"
    }
   },
   "outputs": [
    {
     "data": {
      "text/plain": [
       "<FastTreeValue 0x7f76b8c4e9d0>\n",
       "├── 'a' --> tensor([[[ 1.5521, -0.4073,  0.6176],\n",
       "│                    [-0.3600, -0.4997, -1.4075]],\n",
       "│           \n",
       "│                   [[ 1.5521, -0.4073,  0.6176],\n",
       "│                    [-0.3600, -0.4997, -1.4075]],\n",
       "│           \n",
       "│                   [[ 1.5521, -0.4073,  0.6176],\n",
       "│                    [-0.3600, -0.4997, -1.4075]],\n",
       "│           \n",
       "│                   [[ 1.5521, -0.4073,  0.6176],\n",
       "│                    [-0.3600, -0.4997, -1.4075]],\n",
       "│           \n",
       "│                   [[ 1.5521, -0.4073,  0.6176],\n",
       "│                    [-0.3600, -0.4997, -1.4075]],\n",
       "│           \n",
       "│                   [[ 1.5521, -0.4073,  0.6176],\n",
       "│                    [-0.3600, -0.4997, -1.4075]],\n",
       "│           \n",
       "│                   [[ 1.5521, -0.4073,  0.6176],\n",
       "│                    [-0.3600, -0.4997, -1.4075]],\n",
       "│           \n",
       "│                   [[ 1.5521, -0.4073,  0.6176],\n",
       "│                    [-0.3600, -0.4997, -1.4075]]])\n",
       "└── 'x' --> <FastTreeValue 0x7f76b8c4efd0>\n",
       "    └── 'c' --> tensor([[[ 1.1370,  0.6563,  0.1383, -0.5934],\n",
       "                         [-2.1173, -1.4629,  0.6929, -0.9648],\n",
       "                         [ 1.1643, -0.0296, -0.1839,  0.0326]],\n",
       "                \n",
       "                        [[ 1.1370,  0.6563,  0.1383, -0.5934],\n",
       "                         [-2.1173, -1.4629,  0.6929, -0.9648],\n",
       "                         [ 1.1643, -0.0296, -0.1839,  0.0326]],\n",
       "                \n",
       "                        [[ 1.1370,  0.6563,  0.1383, -0.5934],\n",
       "                         [-2.1173, -1.4629,  0.6929, -0.9648],\n",
       "                         [ 1.1643, -0.0296, -0.1839,  0.0326]],\n",
       "                \n",
       "                        [[ 1.1370,  0.6563,  0.1383, -0.5934],\n",
       "                         [-2.1173, -1.4629,  0.6929, -0.9648],\n",
       "                         [ 1.1643, -0.0296, -0.1839,  0.0326]],\n",
       "                \n",
       "                        [[ 1.1370,  0.6563,  0.1383, -0.5934],\n",
       "                         [-2.1173, -1.4629,  0.6929, -0.9648],\n",
       "                         [ 1.1643, -0.0296, -0.1839,  0.0326]],\n",
       "                \n",
       "                        [[ 1.1370,  0.6563,  0.1383, -0.5934],\n",
       "                         [-2.1173, -1.4629,  0.6929, -0.9648],\n",
       "                         [ 1.1643, -0.0296, -0.1839,  0.0326]],\n",
       "                \n",
       "                        [[ 1.1370,  0.6563,  0.1383, -0.5934],\n",
       "                         [-2.1173, -1.4629,  0.6929, -0.9648],\n",
       "                         [ 1.1643, -0.0296, -0.1839,  0.0326]],\n",
       "                \n",
       "                        [[ 1.1370,  0.6563,  0.1383, -0.5934],\n",
       "                         [-2.1173, -1.4629,  0.6929, -0.9648],\n",
       "                         [ 1.1643, -0.0296, -0.1839,  0.0326]]])"
      ]
     },
     "execution_count": 20,
     "metadata": {},
     "output_type": "execute_result"
    }
   ],
   "source": [
    "t_stack = FastTreeValue.func(subside=True)(torch.stack)\n",
    "\n",
    "t_stack(trees)"
   ]
  },
  {
   "cell_type": "code",
   "execution_count": 21,
   "id": "f8b3f415",
   "metadata": {
    "execution": {
     "iopub.execute_input": "2023-02-25T07:44:06.642390Z",
     "iopub.status.busy": "2023-02-25T07:44:06.641775Z",
     "iopub.status.idle": "2023-02-25T07:44:10.571454Z",
     "shell.execute_reply": "2023-02-25T07:44:10.570448Z"
    }
   },
   "outputs": [
    {
     "name": "stdout",
     "output_type": "stream",
     "text": [
      "47.4 µs ± 1.04 µs per loop (mean ± std. dev. of 7 runs, 10,000 loops each)\n"
     ]
    }
   ],
   "source": [
    "%timeit t_stack(trees)"
   ]
  },
  {
   "cell_type": "code",
   "execution_count": 22,
   "id": "94b56771",
   "metadata": {
    "execution": {
     "iopub.execute_input": "2023-02-25T07:44:10.575393Z",
     "iopub.status.busy": "2023-02-25T07:44:10.574845Z",
     "iopub.status.idle": "2023-02-25T07:44:10.586497Z",
     "shell.execute_reply": "2023-02-25T07:44:10.585593Z"
    }
   },
   "outputs": [
    {
     "data": {
      "text/plain": [
       "<FastTreeValue 0x7f760be80f40>\n",
       "├── 'a' --> tensor([[ 1.5521, -0.4073,  0.6176],\n",
       "│                   [-0.3600, -0.4997, -1.4075],\n",
       "│                   [ 1.5521, -0.4073,  0.6176],\n",
       "│                   [-0.3600, -0.4997, -1.4075],\n",
       "│                   [ 1.5521, -0.4073,  0.6176],\n",
       "│                   [-0.3600, -0.4997, -1.4075],\n",
       "│                   [ 1.5521, -0.4073,  0.6176],\n",
       "│                   [-0.3600, -0.4997, -1.4075],\n",
       "│                   [ 1.5521, -0.4073,  0.6176],\n",
       "│                   [-0.3600, -0.4997, -1.4075],\n",
       "│                   [ 1.5521, -0.4073,  0.6176],\n",
       "│                   [-0.3600, -0.4997, -1.4075],\n",
       "│                   [ 1.5521, -0.4073,  0.6176],\n",
       "│                   [-0.3600, -0.4997, -1.4075],\n",
       "│                   [ 1.5521, -0.4073,  0.6176],\n",
       "│                   [-0.3600, -0.4997, -1.4075]])\n",
       "└── 'x' --> <FastTreeValue 0x7f760bf649d0>\n",
       "    └── 'c' --> tensor([[ 1.1370,  0.6563,  0.1383, -0.5934],\n",
       "                        [-2.1173, -1.4629,  0.6929, -0.9648],\n",
       "                        [ 1.1643, -0.0296, -0.1839,  0.0326],\n",
       "                        [ 1.1370,  0.6563,  0.1383, -0.5934],\n",
       "                        [-2.1173, -1.4629,  0.6929, -0.9648],\n",
       "                        [ 1.1643, -0.0296, -0.1839,  0.0326],\n",
       "                        [ 1.1370,  0.6563,  0.1383, -0.5934],\n",
       "                        [-2.1173, -1.4629,  0.6929, -0.9648],\n",
       "                        [ 1.1643, -0.0296, -0.1839,  0.0326],\n",
       "                        [ 1.1370,  0.6563,  0.1383, -0.5934],\n",
       "                        [-2.1173, -1.4629,  0.6929, -0.9648],\n",
       "                        [ 1.1643, -0.0296, -0.1839,  0.0326],\n",
       "                        [ 1.1370,  0.6563,  0.1383, -0.5934],\n",
       "                        [-2.1173, -1.4629,  0.6929, -0.9648],\n",
       "                        [ 1.1643, -0.0296, -0.1839,  0.0326],\n",
       "                        [ 1.1370,  0.6563,  0.1383, -0.5934],\n",
       "                        [-2.1173, -1.4629,  0.6929, -0.9648],\n",
       "                        [ 1.1643, -0.0296, -0.1839,  0.0326],\n",
       "                        [ 1.1370,  0.6563,  0.1383, -0.5934],\n",
       "                        [-2.1173, -1.4629,  0.6929, -0.9648],\n",
       "                        [ 1.1643, -0.0296, -0.1839,  0.0326],\n",
       "                        [ 1.1370,  0.6563,  0.1383, -0.5934],\n",
       "                        [-2.1173, -1.4629,  0.6929, -0.9648],\n",
       "                        [ 1.1643, -0.0296, -0.1839,  0.0326]])"
      ]
     },
     "execution_count": 22,
     "metadata": {},
     "output_type": "execute_result"
    }
   ],
   "source": [
    "t_cat = FastTreeValue.func(subside=True)(torch.cat)\n",
    "\n",
    "t_cat(trees)"
   ]
  },
  {
   "cell_type": "code",
   "execution_count": 23,
   "id": "5e9c06a6",
   "metadata": {
    "execution": {
     "iopub.execute_input": "2023-02-25T07:44:10.590462Z",
     "iopub.status.busy": "2023-02-25T07:44:10.589927Z",
     "iopub.status.idle": "2023-02-25T07:44:14.298442Z",
     "shell.execute_reply": "2023-02-25T07:44:14.297376Z"
    }
   },
   "outputs": [
    {
     "name": "stdout",
     "output_type": "stream",
     "text": [
      "46.4 µs ± 3.76 µs per loop (mean ± std. dev. of 7 runs, 10,000 loops each)\n"
     ]
    }
   ],
   "source": [
    "%timeit t_cat(trees)"
   ]
  },
  {
   "cell_type": "code",
   "execution_count": 24,
   "id": "a3ab5c8f",
   "metadata": {
    "execution": {
     "iopub.execute_input": "2023-02-25T07:44:14.302146Z",
     "iopub.status.busy": "2023-02-25T07:44:14.301804Z",
     "iopub.status.idle": "2023-02-25T07:44:20.655839Z",
     "shell.execute_reply": "2023-02-25T07:44:20.654805Z"
    }
   },
   "outputs": [
    {
     "name": "stdout",
     "output_type": "stream",
     "text": [
      "78 µs ± 1.98 µs per loop (mean ± std. dev. of 7 runs, 10,000 loops each)\n"
     ]
    }
   ],
   "source": [
    "t_split = FastTreeValue.func(rise=True)(torch.split)\n",
    "tree = FastTreeValue({\n",
    "    'obs': torch.randn(8, 4, 84, 84),\n",
    "    'action': torch.randint(0, 6, size=(8, 1,)),\n",
    "    'reward': torch.rand(8, 1),\n",
    "})\n",
    "\n",
    "%timeit t_split(tree, 1)"
   ]
  },
  {
   "cell_type": "markdown",
   "id": "31c3ec0b",
   "metadata": {},
   "source": [
    "### Performance of Tianshou Batch"
   ]
  },
  {
   "cell_type": "code",
   "execution_count": 25,
   "id": "9ead828a",
   "metadata": {
    "execution": {
     "iopub.execute_input": "2023-02-25T07:44:20.659713Z",
     "iopub.status.busy": "2023-02-25T07:44:20.659166Z",
     "iopub.status.idle": "2023-02-25T07:44:20.669736Z",
     "shell.execute_reply": "2023-02-25T07:44:20.668861Z"
    }
   },
   "outputs": [
    {
     "data": {
      "text/plain": [
       "Batch(\n",
       "    a: tensor([[[ 1.5521, -0.4073,  0.6176],\n",
       "                [-0.3600, -0.4997, -1.4075]],\n",
       "       \n",
       "               [[ 1.5521, -0.4073,  0.6176],\n",
       "                [-0.3600, -0.4997, -1.4075]],\n",
       "       \n",
       "               [[ 1.5521, -0.4073,  0.6176],\n",
       "                [-0.3600, -0.4997, -1.4075]],\n",
       "       \n",
       "               [[ 1.5521, -0.4073,  0.6176],\n",
       "                [-0.3600, -0.4997, -1.4075]],\n",
       "       \n",
       "               [[ 1.5521, -0.4073,  0.6176],\n",
       "                [-0.3600, -0.4997, -1.4075]],\n",
       "       \n",
       "               [[ 1.5521, -0.4073,  0.6176],\n",
       "                [-0.3600, -0.4997, -1.4075]],\n",
       "       \n",
       "               [[ 1.5521, -0.4073,  0.6176],\n",
       "                [-0.3600, -0.4997, -1.4075]],\n",
       "       \n",
       "               [[ 1.5521, -0.4073,  0.6176],\n",
       "                [-0.3600, -0.4997, -1.4075]]]),\n",
       "    x: Batch(\n",
       "           c: tensor([[[ 1.1370,  0.6563,  0.1383, -0.5934],\n",
       "                       [-2.1173, -1.4629,  0.6929, -0.9648],\n",
       "                       [ 1.1643, -0.0296, -0.1839,  0.0326]],\n",
       "              \n",
       "                      [[ 1.1370,  0.6563,  0.1383, -0.5934],\n",
       "                       [-2.1173, -1.4629,  0.6929, -0.9648],\n",
       "                       [ 1.1643, -0.0296, -0.1839,  0.0326]],\n",
       "              \n",
       "                      [[ 1.1370,  0.6563,  0.1383, -0.5934],\n",
       "                       [-2.1173, -1.4629,  0.6929, -0.9648],\n",
       "                       [ 1.1643, -0.0296, -0.1839,  0.0326]],\n",
       "              \n",
       "                      [[ 1.1370,  0.6563,  0.1383, -0.5934],\n",
       "                       [-2.1173, -1.4629,  0.6929, -0.9648],\n",
       "                       [ 1.1643, -0.0296, -0.1839,  0.0326]],\n",
       "              \n",
       "                      [[ 1.1370,  0.6563,  0.1383, -0.5934],\n",
       "                       [-2.1173, -1.4629,  0.6929, -0.9648],\n",
       "                       [ 1.1643, -0.0296, -0.1839,  0.0326]],\n",
       "              \n",
       "                      [[ 1.1370,  0.6563,  0.1383, -0.5934],\n",
       "                       [-2.1173, -1.4629,  0.6929, -0.9648],\n",
       "                       [ 1.1643, -0.0296, -0.1839,  0.0326]],\n",
       "              \n",
       "                      [[ 1.1370,  0.6563,  0.1383, -0.5934],\n",
       "                       [-2.1173, -1.4629,  0.6929, -0.9648],\n",
       "                       [ 1.1643, -0.0296, -0.1839,  0.0326]],\n",
       "              \n",
       "                      [[ 1.1370,  0.6563,  0.1383, -0.5934],\n",
       "                       [-2.1173, -1.4629,  0.6929, -0.9648],\n",
       "                       [ 1.1643, -0.0296, -0.1839,  0.0326]]]),\n",
       "       ),\n",
       ")"
      ]
     },
     "execution_count": 25,
     "metadata": {},
     "output_type": "execute_result"
    }
   ],
   "source": [
    "batches = [Batch(**_TREE_DATA_2) for _ in range(8)]\n",
    "\n",
    "Batch.stack(batches)"
   ]
  },
  {
   "cell_type": "code",
   "execution_count": 26,
   "id": "ec9037a3",
   "metadata": {
    "execution": {
     "iopub.execute_input": "2023-02-25T07:44:20.673405Z",
     "iopub.status.busy": "2023-02-25T07:44:20.672882Z",
     "iopub.status.idle": "2023-02-25T07:44:29.265989Z",
     "shell.execute_reply": "2023-02-25T07:44:29.261691Z"
    }
   },
   "outputs": [
    {
     "name": "stdout",
     "output_type": "stream",
     "text": [
      "106 µs ± 4.45 µs per loop (mean ± std. dev. of 7 runs, 10,000 loops each)\n"
     ]
    }
   ],
   "source": [
    "%timeit Batch.stack(batches)"
   ]
  },
  {
   "cell_type": "code",
   "execution_count": 27,
   "id": "cb8ab77e",
   "metadata": {
    "execution": {
     "iopub.execute_input": "2023-02-25T07:44:29.271502Z",
     "iopub.status.busy": "2023-02-25T07:44:29.270656Z",
     "iopub.status.idle": "2023-02-25T07:44:29.280672Z",
     "shell.execute_reply": "2023-02-25T07:44:29.279813Z"
    }
   },
   "outputs": [
    {
     "data": {
      "text/plain": [
       "Batch(\n",
       "    a: tensor([[ 1.5521, -0.4073,  0.6176],\n",
       "               [-0.3600, -0.4997, -1.4075],\n",
       "               [ 1.5521, -0.4073,  0.6176],\n",
       "               [-0.3600, -0.4997, -1.4075],\n",
       "               [ 1.5521, -0.4073,  0.6176],\n",
       "               [-0.3600, -0.4997, -1.4075],\n",
       "               [ 1.5521, -0.4073,  0.6176],\n",
       "               [-0.3600, -0.4997, -1.4075],\n",
       "               [ 1.5521, -0.4073,  0.6176],\n",
       "               [-0.3600, -0.4997, -1.4075],\n",
       "               [ 1.5521, -0.4073,  0.6176],\n",
       "               [-0.3600, -0.4997, -1.4075],\n",
       "               [ 1.5521, -0.4073,  0.6176],\n",
       "               [-0.3600, -0.4997, -1.4075],\n",
       "               [ 1.5521, -0.4073,  0.6176],\n",
       "               [-0.3600, -0.4997, -1.4075]]),\n",
       "    x: Batch(\n",
       "           c: tensor([[ 1.1370,  0.6563,  0.1383, -0.5934],\n",
       "                      [-2.1173, -1.4629,  0.6929, -0.9648],\n",
       "                      [ 1.1643, -0.0296, -0.1839,  0.0326],\n",
       "                      [ 1.1370,  0.6563,  0.1383, -0.5934],\n",
       "                      [-2.1173, -1.4629,  0.6929, -0.9648],\n",
       "                      [ 1.1643, -0.0296, -0.1839,  0.0326],\n",
       "                      [ 1.1370,  0.6563,  0.1383, -0.5934],\n",
       "                      [-2.1173, -1.4629,  0.6929, -0.9648],\n",
       "                      [ 1.1643, -0.0296, -0.1839,  0.0326],\n",
       "                      [ 1.1370,  0.6563,  0.1383, -0.5934],\n",
       "                      [-2.1173, -1.4629,  0.6929, -0.9648],\n",
       "                      [ 1.1643, -0.0296, -0.1839,  0.0326],\n",
       "                      [ 1.1370,  0.6563,  0.1383, -0.5934],\n",
       "                      [-2.1173, -1.4629,  0.6929, -0.9648],\n",
       "                      [ 1.1643, -0.0296, -0.1839,  0.0326],\n",
       "                      [ 1.1370,  0.6563,  0.1383, -0.5934],\n",
       "                      [-2.1173, -1.4629,  0.6929, -0.9648],\n",
       "                      [ 1.1643, -0.0296, -0.1839,  0.0326],\n",
       "                      [ 1.1370,  0.6563,  0.1383, -0.5934],\n",
       "                      [-2.1173, -1.4629,  0.6929, -0.9648],\n",
       "                      [ 1.1643, -0.0296, -0.1839,  0.0326],\n",
       "                      [ 1.1370,  0.6563,  0.1383, -0.5934],\n",
       "                      [-2.1173, -1.4629,  0.6929, -0.9648],\n",
       "                      [ 1.1643, -0.0296, -0.1839,  0.0326]]),\n",
       "       ),\n",
       ")"
      ]
     },
     "execution_count": 27,
     "metadata": {},
     "output_type": "execute_result"
    }
   ],
   "source": [
    "Batch.cat(batches)"
   ]
  },
  {
   "cell_type": "code",
   "execution_count": 28,
   "id": "18dfb045",
   "metadata": {
    "execution": {
     "iopub.execute_input": "2023-02-25T07:44:29.284281Z",
     "iopub.status.busy": "2023-02-25T07:44:29.283644Z",
     "iopub.status.idle": "2023-02-25T07:44:44.526386Z",
     "shell.execute_reply": "2023-02-25T07:44:44.525460Z"
    }
   },
   "outputs": [
    {
     "name": "stdout",
     "output_type": "stream",
     "text": [
      "188 µs ± 4.68 µs per loop (mean ± std. dev. of 7 runs, 10,000 loops each)\n"
     ]
    }
   ],
   "source": [
    "%timeit Batch.cat(batches)"
   ]
  },
  {
   "cell_type": "code",
   "execution_count": 29,
   "id": "c6688e51",
   "metadata": {
    "execution": {
     "iopub.execute_input": "2023-02-25T07:44:44.530077Z",
     "iopub.status.busy": "2023-02-25T07:44:44.529505Z",
     "iopub.status.idle": "2023-02-25T07:44:49.398459Z",
     "shell.execute_reply": "2023-02-25T07:44:49.397451Z"
    }
   },
   "outputs": [
    {
     "name": "stdout",
     "output_type": "stream",
     "text": [
      "593 µs ± 48 µs per loop (mean ± std. dev. of 7 runs, 1,000 loops each)\n"
     ]
    }
   ],
   "source": [
    "batch = Batch({\n",
    "    'obs': torch.randn(8, 4, 84, 84),\n",
    "    'action': torch.randint(0, 6, size=(8, 1,)),\n",
    "    'reward': torch.rand(8, 1)}\n",
    ")\n",
    "\n",
    "%timeit list(Batch.split(batch, 1, shuffle=False, merge_last=True))"
   ]
  },
  {
   "cell_type": "code",
   "execution_count": null,
   "id": "2539fbd9",
   "metadata": {},
   "outputs": [],
   "source": []
  }
 ],
 "metadata": {
  "kernelspec": {
   "display_name": "Python 3 (ipykernel)",
   "language": "python",
   "name": "python3"
  },
  "language_info": {
   "codemirror_mode": {
    "name": "ipython",
    "version": 3
   },
   "file_extension": ".py",
   "mimetype": "text/x-python",
   "name": "python",
   "nbconvert_exporter": "python",
   "pygments_lexer": "ipython3",
   "version": "3.8.16"
  }
 },
 "nbformat": 4,
 "nbformat_minor": 5
}
