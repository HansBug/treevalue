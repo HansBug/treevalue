{
 "cells": [
  {
   "cell_type": "markdown",
   "id": "9d39d946",
   "metadata": {},
   "source": [
    "# Comparison Between TreeValue and Tianshou Batch"
   ]
  },
  {
   "cell_type": "markdown",
   "id": "3c6db2d4",
   "metadata": {},
   "source": [
    "In this section, we will take a look at the feature and performance of the [Tianshou Batch](https://github.com/thu-ml/tianshou) library, which is developed by Tsinghua Machine Learning Group."
   ]
  },
  {
   "cell_type": "markdown",
   "id": "069361b0",
   "metadata": {},
   "source": [
    "Before starting the comparison, let us define some thing."
   ]
  },
  {
   "cell_type": "code",
   "execution_count": 1,
   "id": "06fc8d26",
   "metadata": {
    "execution": {
     "iopub.execute_input": "2023-03-06T18:17:45.469332Z",
     "iopub.status.busy": "2023-03-06T18:17:45.469130Z",
     "iopub.status.idle": "2023-03-06T18:17:46.467396Z",
     "shell.execute_reply": "2023-03-06T18:17:46.466307Z"
    }
   },
   "outputs": [
    {
     "name": "stderr",
     "output_type": "stream",
     "text": [
      "/opt/hostedtoolcache/Python/3.8.16/x64/lib/python3.8/site-packages/tqdm/auto.py:21: TqdmWarning: IProgress not found. Please update jupyter and ipywidgets. See https://ipywidgets.readthedocs.io/en/stable/user_install.html\n",
      "  from .autonotebook import tqdm as notebook_tqdm\n"
     ]
    }
   ],
   "source": [
    "import torch \n",
    "\n",
    "_TREE_DATA_1 = {'a': 1, 'b': 2, 'x': {'c': 3, 'd': 4}}\n",
    "_TREE_DATA_2 = {\n",
    "    'a': torch.randn(2, 3), \n",
    "    'x': {\n",
    "        'c': torch.randn(3, 4)\n",
    "    },\n",
    "}\n",
    "_TREE_DATA_3 = {\n",
    "    'obs': torch.randn(4, 84, 84),\n",
    "    'action': torch.randint(0, 6, size=(1,)),\n",
    "    'reward': torch.rand(1),\n",
    "}"
   ]
  },
  {
   "cell_type": "markdown",
   "id": "83461b25",
   "metadata": {},
   "source": [
    "## Read and Write Operation"
   ]
  },
  {
   "cell_type": "markdown",
   "id": "067b3f73",
   "metadata": {},
   "source": [
    "Reading and writing are the two most common operations in the tree data structure based on the data model (TreeValue and Tianshou Batch both belong to this type), so this section will compare the reading and writing performance of these two libraries."
   ]
  },
  {
   "cell_type": "markdown",
   "id": "5d09a5b7",
   "metadata": {},
   "source": [
    "### TreeValue's Get and Set"
   ]
  },
  {
   "cell_type": "code",
   "execution_count": 2,
   "id": "9519c4bb",
   "metadata": {
    "execution": {
     "iopub.execute_input": "2023-03-06T18:17:46.472060Z",
     "iopub.status.busy": "2023-03-06T18:17:46.471497Z",
     "iopub.status.idle": "2023-03-06T18:17:46.508186Z",
     "shell.execute_reply": "2023-03-06T18:17:46.507351Z"
    }
   },
   "outputs": [],
   "source": [
    "from treevalue import FastTreeValue\n",
    "\n",
    "t = FastTreeValue(_TREE_DATA_2)"
   ]
  },
  {
   "cell_type": "code",
   "execution_count": 3,
   "id": "11c37677",
   "metadata": {
    "execution": {
     "iopub.execute_input": "2023-03-06T18:17:46.511976Z",
     "iopub.status.busy": "2023-03-06T18:17:46.511492Z",
     "iopub.status.idle": "2023-03-06T18:17:46.522155Z",
     "shell.execute_reply": "2023-03-06T18:17:46.521455Z"
    }
   },
   "outputs": [
    {
     "data": {
      "text/plain": [
       "<FastTreeValue 0x7f54b05f25b0>\n",
       "├── 'a' --> tensor([[-0.1985, -1.6639,  0.5235],\n",
       "│                   [ 0.6780,  1.8817, -1.0716]])\n",
       "└── 'x' --> <FastTreeValue 0x7f54b05f24f0>\n",
       "    └── 'c' --> tensor([[ 0.5048, -1.0473, -0.0725, -1.5309],\n",
       "                        [-0.3237,  0.9371,  0.7385, -0.7169],\n",
       "                        [-0.5231,  2.0198, -1.1638, -0.4201]])"
      ]
     },
     "execution_count": 3,
     "metadata": {},
     "output_type": "execute_result"
    }
   ],
   "source": [
    "t"
   ]
  },
  {
   "cell_type": "code",
   "execution_count": 4,
   "id": "fd70b0b9",
   "metadata": {
    "execution": {
     "iopub.execute_input": "2023-03-06T18:17:46.525416Z",
     "iopub.status.busy": "2023-03-06T18:17:46.524971Z",
     "iopub.status.idle": "2023-03-06T18:17:46.531363Z",
     "shell.execute_reply": "2023-03-06T18:17:46.530735Z"
    }
   },
   "outputs": [
    {
     "data": {
      "text/plain": [
       "tensor([[-0.1985, -1.6639,  0.5235],\n",
       "        [ 0.6780,  1.8817, -1.0716]])"
      ]
     },
     "execution_count": 4,
     "metadata": {},
     "output_type": "execute_result"
    }
   ],
   "source": [
    "t.a"
   ]
  },
  {
   "cell_type": "code",
   "execution_count": 5,
   "id": "c18197bd",
   "metadata": {
    "execution": {
     "iopub.execute_input": "2023-03-06T18:17:46.534486Z",
     "iopub.status.busy": "2023-03-06T18:17:46.533917Z",
     "iopub.status.idle": "2023-03-06T18:17:51.587707Z",
     "shell.execute_reply": "2023-03-06T18:17:51.585783Z"
    }
   },
   "outputs": [
    {
     "name": "stdout",
     "output_type": "stream",
     "text": [
      "61.5 ns ± 1.17 ns per loop (mean ± std. dev. of 7 runs, 10,000,000 loops each)\n"
     ]
    }
   ],
   "source": [
    "%timeit t.a"
   ]
  },
  {
   "cell_type": "code",
   "execution_count": 6,
   "id": "bd52f867",
   "metadata": {
    "execution": {
     "iopub.execute_input": "2023-03-06T18:17:51.591294Z",
     "iopub.status.busy": "2023-03-06T18:17:51.590974Z",
     "iopub.status.idle": "2023-03-06T18:17:51.599270Z",
     "shell.execute_reply": "2023-03-06T18:17:51.598099Z"
    }
   },
   "outputs": [
    {
     "data": {
      "text/plain": [
       "<FastTreeValue 0x7f54b05f25b0>\n",
       "├── 'a' --> tensor([[ 1.9353,  0.2036,  0.6295],\n",
       "│                   [-1.1855, -0.7943,  1.6921]])\n",
       "└── 'x' --> <FastTreeValue 0x7f54b05f24f0>\n",
       "    └── 'c' --> tensor([[ 0.5048, -1.0473, -0.0725, -1.5309],\n",
       "                        [-0.3237,  0.9371,  0.7385, -0.7169],\n",
       "                        [-0.5231,  2.0198, -1.1638, -0.4201]])"
      ]
     },
     "execution_count": 6,
     "metadata": {},
     "output_type": "execute_result"
    }
   ],
   "source": [
    "new_value = torch.randn(2, 3)\n",
    "t.a = new_value\n",
    "\n",
    "t"
   ]
  },
  {
   "cell_type": "code",
   "execution_count": 7,
   "id": "bbe04d1c",
   "metadata": {
    "execution": {
     "iopub.execute_input": "2023-03-06T18:17:51.601933Z",
     "iopub.status.busy": "2023-03-06T18:17:51.601461Z",
     "iopub.status.idle": "2023-03-06T18:17:57.185045Z",
     "shell.execute_reply": "2023-03-06T18:17:57.183885Z"
    }
   },
   "outputs": [
    {
     "name": "stdout",
     "output_type": "stream",
     "text": [
      "69.5 ns ± 1.38 ns per loop (mean ± std. dev. of 7 runs, 10,000,000 loops each)\n"
     ]
    }
   ],
   "source": [
    "%timeit t.a = new_value"
   ]
  },
  {
   "cell_type": "markdown",
   "id": "48c49731",
   "metadata": {},
   "source": [
    "### Tianshou Batch's Get and Set"
   ]
  },
  {
   "cell_type": "code",
   "execution_count": 8,
   "id": "f1bb14c1",
   "metadata": {
    "execution": {
     "iopub.execute_input": "2023-03-06T18:17:57.188345Z",
     "iopub.status.busy": "2023-03-06T18:17:57.187918Z",
     "iopub.status.idle": "2023-03-06T18:17:57.558284Z",
     "shell.execute_reply": "2023-03-06T18:17:57.557234Z"
    }
   },
   "outputs": [],
   "source": [
    "from tianshou.data import Batch\n",
    "\n",
    "b = Batch(**_TREE_DATA_2)"
   ]
  },
  {
   "cell_type": "code",
   "execution_count": 9,
   "id": "cb0777c3",
   "metadata": {
    "execution": {
     "iopub.execute_input": "2023-03-06T18:17:57.562257Z",
     "iopub.status.busy": "2023-03-06T18:17:57.561796Z",
     "iopub.status.idle": "2023-03-06T18:17:57.568189Z",
     "shell.execute_reply": "2023-03-06T18:17:57.567619Z"
    }
   },
   "outputs": [
    {
     "data": {
      "text/plain": [
       "Batch(\n",
       "    a: tensor([[-0.1985, -1.6639,  0.5235],\n",
       "               [ 0.6780,  1.8817, -1.0716]]),\n",
       "    x: Batch(\n",
       "           c: tensor([[ 0.5048, -1.0473, -0.0725, -1.5309],\n",
       "                      [-0.3237,  0.9371,  0.7385, -0.7169],\n",
       "                      [-0.5231,  2.0198, -1.1638, -0.4201]]),\n",
       "       ),\n",
       ")"
      ]
     },
     "execution_count": 9,
     "metadata": {},
     "output_type": "execute_result"
    }
   ],
   "source": [
    "b"
   ]
  },
  {
   "cell_type": "code",
   "execution_count": 10,
   "id": "43ef8ea3",
   "metadata": {
    "execution": {
     "iopub.execute_input": "2023-03-06T18:17:57.571351Z",
     "iopub.status.busy": "2023-03-06T18:17:57.570893Z",
     "iopub.status.idle": "2023-03-06T18:17:57.577298Z",
     "shell.execute_reply": "2023-03-06T18:17:57.576632Z"
    }
   },
   "outputs": [
    {
     "data": {
      "text/plain": [
       "tensor([[-0.1985, -1.6639,  0.5235],\n",
       "        [ 0.6780,  1.8817, -1.0716]])"
      ]
     },
     "execution_count": 10,
     "metadata": {},
     "output_type": "execute_result"
    }
   ],
   "source": [
    "b.a"
   ]
  },
  {
   "cell_type": "code",
   "execution_count": 11,
   "id": "b785ab72",
   "metadata": {
    "execution": {
     "iopub.execute_input": "2023-03-06T18:17:57.580183Z",
     "iopub.status.busy": "2023-03-06T18:17:57.579760Z",
     "iopub.status.idle": "2023-03-06T18:18:02.285274Z",
     "shell.execute_reply": "2023-03-06T18:18:02.283995Z"
    }
   },
   "outputs": [
    {
     "name": "stdout",
     "output_type": "stream",
     "text": [
      "57.8 ns ± 2.02 ns per loop (mean ± std. dev. of 7 runs, 10,000,000 loops each)\n"
     ]
    }
   ],
   "source": [
    "%timeit b.a"
   ]
  },
  {
   "cell_type": "code",
   "execution_count": 12,
   "id": "ad54dc69",
   "metadata": {
    "execution": {
     "iopub.execute_input": "2023-03-06T18:18:02.288969Z",
     "iopub.status.busy": "2023-03-06T18:18:02.288604Z",
     "iopub.status.idle": "2023-03-06T18:18:02.296673Z",
     "shell.execute_reply": "2023-03-06T18:18:02.295874Z"
    }
   },
   "outputs": [
    {
     "data": {
      "text/plain": [
       "Batch(\n",
       "    a: tensor([[ 0.1893, -0.0825, -0.5325],\n",
       "               [-0.7772, -0.3612,  2.6205]]),\n",
       "    x: Batch(\n",
       "           c: tensor([[ 0.5048, -1.0473, -0.0725, -1.5309],\n",
       "                      [-0.3237,  0.9371,  0.7385, -0.7169],\n",
       "                      [-0.5231,  2.0198, -1.1638, -0.4201]]),\n",
       "       ),\n",
       ")"
      ]
     },
     "execution_count": 12,
     "metadata": {},
     "output_type": "execute_result"
    }
   ],
   "source": [
    "new_value = torch.randn(2, 3)\n",
    "b.a = new_value\n",
    "\n",
    "b"
   ]
  },
  {
   "cell_type": "code",
   "execution_count": 13,
   "id": "29b1d0bf",
   "metadata": {
    "execution": {
     "iopub.execute_input": "2023-03-06T18:18:02.300032Z",
     "iopub.status.busy": "2023-03-06T18:18:02.299436Z",
     "iopub.status.idle": "2023-03-06T18:18:06.112077Z",
     "shell.execute_reply": "2023-03-06T18:18:06.111028Z"
    }
   },
   "outputs": [
    {
     "name": "stdout",
     "output_type": "stream",
     "text": [
      "469 ns ± 3.85 ns per loop (mean ± std. dev. of 7 runs, 1,000,000 loops each)\n"
     ]
    }
   ],
   "source": [
    "%timeit b.a = new_value"
   ]
  },
  {
   "cell_type": "markdown",
   "id": "b61ad1d0",
   "metadata": {},
   "source": [
    "## Initialization"
   ]
  },
  {
   "cell_type": "markdown",
   "id": "d70f0d54",
   "metadata": {},
   "source": [
    "### TreeValue's Initialization"
   ]
  },
  {
   "cell_type": "code",
   "execution_count": 14,
   "id": "d32a679b",
   "metadata": {
    "execution": {
     "iopub.execute_input": "2023-03-06T18:18:06.116177Z",
     "iopub.status.busy": "2023-03-06T18:18:06.115377Z",
     "iopub.status.idle": "2023-03-06T18:18:12.988757Z",
     "shell.execute_reply": "2023-03-06T18:18:12.987631Z"
    }
   },
   "outputs": [
    {
     "name": "stdout",
     "output_type": "stream",
     "text": [
      "845 ns ± 35.2 ns per loop (mean ± std. dev. of 7 runs, 1,000,000 loops each)\n"
     ]
    }
   ],
   "source": [
    "%timeit FastTreeValue(_TREE_DATA_1)"
   ]
  },
  {
   "cell_type": "markdown",
   "id": "24f3707b",
   "metadata": {},
   "source": [
    "### Tianshou Batch's Initialization"
   ]
  },
  {
   "cell_type": "code",
   "execution_count": 15,
   "id": "ac3958df",
   "metadata": {
    "execution": {
     "iopub.execute_input": "2023-03-06T18:18:12.993146Z",
     "iopub.status.busy": "2023-03-06T18:18:12.992275Z",
     "iopub.status.idle": "2023-03-06T18:18:21.621914Z",
     "shell.execute_reply": "2023-03-06T18:18:21.620811Z"
    }
   },
   "outputs": [
    {
     "name": "stdout",
     "output_type": "stream",
     "text": [
      "10.7 µs ± 549 ns per loop (mean ± std. dev. of 7 runs, 100,000 loops each)\n"
     ]
    }
   ],
   "source": [
    "%timeit Batch(**_TREE_DATA_1)"
   ]
  },
  {
   "cell_type": "markdown",
   "id": "1ab82e2d",
   "metadata": {},
   "source": [
    "## Deep Copy Operation"
   ]
  },
  {
   "cell_type": "code",
   "execution_count": 16,
   "id": "210a9442",
   "metadata": {
    "execution": {
     "iopub.execute_input": "2023-03-06T18:18:21.626218Z",
     "iopub.status.busy": "2023-03-06T18:18:21.625478Z",
     "iopub.status.idle": "2023-03-06T18:18:21.629346Z",
     "shell.execute_reply": "2023-03-06T18:18:21.628728Z"
    }
   },
   "outputs": [],
   "source": [
    "import copy"
   ]
  },
  {
   "cell_type": "markdown",
   "id": "5a736274",
   "metadata": {},
   "source": [
    "### Deep Copy of TreeValue"
   ]
  },
  {
   "cell_type": "code",
   "execution_count": 17,
   "id": "f9bcadd6",
   "metadata": {
    "execution": {
     "iopub.execute_input": "2023-03-06T18:18:21.632528Z",
     "iopub.status.busy": "2023-03-06T18:18:21.632135Z",
     "iopub.status.idle": "2023-03-06T18:18:34.232075Z",
     "shell.execute_reply": "2023-03-06T18:18:34.231459Z"
    }
   },
   "outputs": [
    {
     "name": "stdout",
     "output_type": "stream",
     "text": [
      "156 µs ± 1.65 µs per loop (mean ± std. dev. of 7 runs, 10,000 loops each)\n"
     ]
    }
   ],
   "source": [
    "t3 = FastTreeValue(_TREE_DATA_3)\n",
    "%timeit copy.deepcopy(t3)"
   ]
  },
  {
   "cell_type": "markdown",
   "id": "bf8be7ea",
   "metadata": {},
   "source": [
    "### Deep Copy of Tianshou Batch"
   ]
  },
  {
   "cell_type": "code",
   "execution_count": 18,
   "id": "91998e6f",
   "metadata": {
    "execution": {
     "iopub.execute_input": "2023-03-06T18:18:34.235614Z",
     "iopub.status.busy": "2023-03-06T18:18:34.235132Z",
     "iopub.status.idle": "2023-03-06T18:18:46.262609Z",
     "shell.execute_reply": "2023-03-06T18:18:46.261823Z"
    }
   },
   "outputs": [
    {
     "name": "stdout",
     "output_type": "stream",
     "text": [
      "149 µs ± 2.79 µs per loop (mean ± std. dev. of 7 runs, 10,000 loops each)\n"
     ]
    }
   ],
   "source": [
    "b3 = Batch(**_TREE_DATA_3)\n",
    "%timeit copy.deepcopy(b3)"
   ]
  },
  {
   "cell_type": "markdown",
   "id": "223162fb",
   "metadata": {},
   "source": [
    "## Stack, Concat and Split Operation"
   ]
  },
  {
   "cell_type": "markdown",
   "id": "85fa4a73",
   "metadata": {},
   "source": [
    "### Performance of TreeValue"
   ]
  },
  {
   "cell_type": "code",
   "execution_count": 19,
   "id": "a0c2b697",
   "metadata": {
    "execution": {
     "iopub.execute_input": "2023-03-06T18:18:46.266251Z",
     "iopub.status.busy": "2023-03-06T18:18:46.265723Z",
     "iopub.status.idle": "2023-03-06T18:18:46.270249Z",
     "shell.execute_reply": "2023-03-06T18:18:46.269634Z"
    }
   },
   "outputs": [],
   "source": [
    "trees = [FastTreeValue(_TREE_DATA_2) for _ in range(8)]"
   ]
  },
  {
   "cell_type": "code",
   "execution_count": 20,
   "id": "017ea5a5",
   "metadata": {
    "execution": {
     "iopub.execute_input": "2023-03-06T18:18:46.273507Z",
     "iopub.status.busy": "2023-03-06T18:18:46.273167Z",
     "iopub.status.idle": "2023-03-06T18:18:46.282395Z",
     "shell.execute_reply": "2023-03-06T18:18:46.281732Z"
    }
   },
   "outputs": [
    {
     "data": {
      "text/plain": [
       "<FastTreeValue 0x7f54ac583460>\n",
       "├── 'a' --> tensor([[[-0.1985, -1.6639,  0.5235],\n",
       "│                    [ 0.6780,  1.8817, -1.0716]],\n",
       "│           \n",
       "│                   [[-0.1985, -1.6639,  0.5235],\n",
       "│                    [ 0.6780,  1.8817, -1.0716]],\n",
       "│           \n",
       "│                   [[-0.1985, -1.6639,  0.5235],\n",
       "│                    [ 0.6780,  1.8817, -1.0716]],\n",
       "│           \n",
       "│                   [[-0.1985, -1.6639,  0.5235],\n",
       "│                    [ 0.6780,  1.8817, -1.0716]],\n",
       "│           \n",
       "│                   [[-0.1985, -1.6639,  0.5235],\n",
       "│                    [ 0.6780,  1.8817, -1.0716]],\n",
       "│           \n",
       "│                   [[-0.1985, -1.6639,  0.5235],\n",
       "│                    [ 0.6780,  1.8817, -1.0716]],\n",
       "│           \n",
       "│                   [[-0.1985, -1.6639,  0.5235],\n",
       "│                    [ 0.6780,  1.8817, -1.0716]],\n",
       "│           \n",
       "│                   [[-0.1985, -1.6639,  0.5235],\n",
       "│                    [ 0.6780,  1.8817, -1.0716]]])\n",
       "└── 'x' --> <FastTreeValue 0x7f540128c880>\n",
       "    └── 'c' --> tensor([[[ 0.5048, -1.0473, -0.0725, -1.5309],\n",
       "                         [-0.3237,  0.9371,  0.7385, -0.7169],\n",
       "                         [-0.5231,  2.0198, -1.1638, -0.4201]],\n",
       "                \n",
       "                        [[ 0.5048, -1.0473, -0.0725, -1.5309],\n",
       "                         [-0.3237,  0.9371,  0.7385, -0.7169],\n",
       "                         [-0.5231,  2.0198, -1.1638, -0.4201]],\n",
       "                \n",
       "                        [[ 0.5048, -1.0473, -0.0725, -1.5309],\n",
       "                         [-0.3237,  0.9371,  0.7385, -0.7169],\n",
       "                         [-0.5231,  2.0198, -1.1638, -0.4201]],\n",
       "                \n",
       "                        [[ 0.5048, -1.0473, -0.0725, -1.5309],\n",
       "                         [-0.3237,  0.9371,  0.7385, -0.7169],\n",
       "                         [-0.5231,  2.0198, -1.1638, -0.4201]],\n",
       "                \n",
       "                        [[ 0.5048, -1.0473, -0.0725, -1.5309],\n",
       "                         [-0.3237,  0.9371,  0.7385, -0.7169],\n",
       "                         [-0.5231,  2.0198, -1.1638, -0.4201]],\n",
       "                \n",
       "                        [[ 0.5048, -1.0473, -0.0725, -1.5309],\n",
       "                         [-0.3237,  0.9371,  0.7385, -0.7169],\n",
       "                         [-0.5231,  2.0198, -1.1638, -0.4201]],\n",
       "                \n",
       "                        [[ 0.5048, -1.0473, -0.0725, -1.5309],\n",
       "                         [-0.3237,  0.9371,  0.7385, -0.7169],\n",
       "                         [-0.5231,  2.0198, -1.1638, -0.4201]],\n",
       "                \n",
       "                        [[ 0.5048, -1.0473, -0.0725, -1.5309],\n",
       "                         [-0.3237,  0.9371,  0.7385, -0.7169],\n",
       "                         [-0.5231,  2.0198, -1.1638, -0.4201]]])"
      ]
     },
     "execution_count": 20,
     "metadata": {},
     "output_type": "execute_result"
    }
   ],
   "source": [
    "t_stack = FastTreeValue.func(subside=True)(torch.stack)\n",
    "\n",
    "t_stack(trees)"
   ]
  },
  {
   "cell_type": "code",
   "execution_count": 21,
   "id": "f8b3f415",
   "metadata": {
    "execution": {
     "iopub.execute_input": "2023-03-06T18:18:46.285455Z",
     "iopub.status.busy": "2023-03-06T18:18:46.285107Z",
     "iopub.status.idle": "2023-03-06T18:18:49.060547Z",
     "shell.execute_reply": "2023-03-06T18:18:49.059267Z"
    }
   },
   "outputs": [
    {
     "name": "stdout",
     "output_type": "stream",
     "text": [
      "34.3 µs ± 767 ns per loop (mean ± std. dev. of 7 runs, 10,000 loops each)\n"
     ]
    }
   ],
   "source": [
    "%timeit t_stack(trees)"
   ]
  },
  {
   "cell_type": "code",
   "execution_count": 22,
   "id": "94b56771",
   "metadata": {
    "execution": {
     "iopub.execute_input": "2023-03-06T18:18:49.064715Z",
     "iopub.status.busy": "2023-03-06T18:18:49.064213Z",
     "iopub.status.idle": "2023-03-06T18:18:49.073873Z",
     "shell.execute_reply": "2023-03-06T18:18:49.073178Z"
    }
   },
   "outputs": [
    {
     "data": {
      "text/plain": [
       "<FastTreeValue 0x7f5401242f40>\n",
       "├── 'a' --> tensor([[-0.1985, -1.6639,  0.5235],\n",
       "│                   [ 0.6780,  1.8817, -1.0716],\n",
       "│                   [-0.1985, -1.6639,  0.5235],\n",
       "│                   [ 0.6780,  1.8817, -1.0716],\n",
       "│                   [-0.1985, -1.6639,  0.5235],\n",
       "│                   [ 0.6780,  1.8817, -1.0716],\n",
       "│                   [-0.1985, -1.6639,  0.5235],\n",
       "│                   [ 0.6780,  1.8817, -1.0716],\n",
       "│                   [-0.1985, -1.6639,  0.5235],\n",
       "│                   [ 0.6780,  1.8817, -1.0716],\n",
       "│                   [-0.1985, -1.6639,  0.5235],\n",
       "│                   [ 0.6780,  1.8817, -1.0716],\n",
       "│                   [-0.1985, -1.6639,  0.5235],\n",
       "│                   [ 0.6780,  1.8817, -1.0716],\n",
       "│                   [-0.1985, -1.6639,  0.5235],\n",
       "│                   [ 0.6780,  1.8817, -1.0716]])\n",
       "└── 'x' --> <FastTreeValue 0x7f5401297a60>\n",
       "    └── 'c' --> tensor([[ 0.5048, -1.0473, -0.0725, -1.5309],\n",
       "                        [-0.3237,  0.9371,  0.7385, -0.7169],\n",
       "                        [-0.5231,  2.0198, -1.1638, -0.4201],\n",
       "                        [ 0.5048, -1.0473, -0.0725, -1.5309],\n",
       "                        [-0.3237,  0.9371,  0.7385, -0.7169],\n",
       "                        [-0.5231,  2.0198, -1.1638, -0.4201],\n",
       "                        [ 0.5048, -1.0473, -0.0725, -1.5309],\n",
       "                        [-0.3237,  0.9371,  0.7385, -0.7169],\n",
       "                        [-0.5231,  2.0198, -1.1638, -0.4201],\n",
       "                        [ 0.5048, -1.0473, -0.0725, -1.5309],\n",
       "                        [-0.3237,  0.9371,  0.7385, -0.7169],\n",
       "                        [-0.5231,  2.0198, -1.1638, -0.4201],\n",
       "                        [ 0.5048, -1.0473, -0.0725, -1.5309],\n",
       "                        [-0.3237,  0.9371,  0.7385, -0.7169],\n",
       "                        [-0.5231,  2.0198, -1.1638, -0.4201],\n",
       "                        [ 0.5048, -1.0473, -0.0725, -1.5309],\n",
       "                        [-0.3237,  0.9371,  0.7385, -0.7169],\n",
       "                        [-0.5231,  2.0198, -1.1638, -0.4201],\n",
       "                        [ 0.5048, -1.0473, -0.0725, -1.5309],\n",
       "                        [-0.3237,  0.9371,  0.7385, -0.7169],\n",
       "                        [-0.5231,  2.0198, -1.1638, -0.4201],\n",
       "                        [ 0.5048, -1.0473, -0.0725, -1.5309],\n",
       "                        [-0.3237,  0.9371,  0.7385, -0.7169],\n",
       "                        [-0.5231,  2.0198, -1.1638, -0.4201]])"
      ]
     },
     "execution_count": 22,
     "metadata": {},
     "output_type": "execute_result"
    }
   ],
   "source": [
    "t_cat = FastTreeValue.func(subside=True)(torch.cat)\n",
    "\n",
    "t_cat(trees)"
   ]
  },
  {
   "cell_type": "code",
   "execution_count": 23,
   "id": "5e9c06a6",
   "metadata": {
    "execution": {
     "iopub.execute_input": "2023-03-06T18:18:49.076737Z",
     "iopub.status.busy": "2023-03-06T18:18:49.076256Z",
     "iopub.status.idle": "2023-03-06T18:18:51.533886Z",
     "shell.execute_reply": "2023-03-06T18:18:51.532550Z"
    }
   },
   "outputs": [
    {
     "name": "stdout",
     "output_type": "stream",
     "text": [
      "30.5 µs ± 1.46 µs per loop (mean ± std. dev. of 7 runs, 10,000 loops each)\n"
     ]
    }
   ],
   "source": [
    "%timeit t_cat(trees)"
   ]
  },
  {
   "cell_type": "code",
   "execution_count": 24,
   "id": "a3ab5c8f",
   "metadata": {
    "execution": {
     "iopub.execute_input": "2023-03-06T18:18:51.537150Z",
     "iopub.status.busy": "2023-03-06T18:18:51.536544Z",
     "iopub.status.idle": "2023-03-06T18:18:56.107731Z",
     "shell.execute_reply": "2023-03-06T18:18:56.105965Z"
    }
   },
   "outputs": [
    {
     "name": "stdout",
     "output_type": "stream",
     "text": [
      "56.6 µs ± 2.61 µs per loop (mean ± std. dev. of 7 runs, 10,000 loops each)\n"
     ]
    }
   ],
   "source": [
    "t_split = FastTreeValue.func(rise=True)(torch.split)\n",
    "tree = FastTreeValue({\n",
    "    'obs': torch.randn(8, 4, 84, 84),\n",
    "    'action': torch.randint(0, 6, size=(8, 1,)),\n",
    "    'reward': torch.rand(8, 1),\n",
    "})\n",
    "\n",
    "%timeit t_split(tree, 1)"
   ]
  },
  {
   "cell_type": "markdown",
   "id": "31c3ec0b",
   "metadata": {},
   "source": [
    "### Performance of Tianshou Batch"
   ]
  },
  {
   "cell_type": "code",
   "execution_count": 25,
   "id": "9ead828a",
   "metadata": {
    "execution": {
     "iopub.execute_input": "2023-03-06T18:18:56.111690Z",
     "iopub.status.busy": "2023-03-06T18:18:56.111332Z",
     "iopub.status.idle": "2023-03-06T18:18:56.119443Z",
     "shell.execute_reply": "2023-03-06T18:18:56.118807Z"
    }
   },
   "outputs": [
    {
     "data": {
      "text/plain": [
       "Batch(\n",
       "    a: tensor([[[-0.1985, -1.6639,  0.5235],\n",
       "                [ 0.6780,  1.8817, -1.0716]],\n",
       "       \n",
       "               [[-0.1985, -1.6639,  0.5235],\n",
       "                [ 0.6780,  1.8817, -1.0716]],\n",
       "       \n",
       "               [[-0.1985, -1.6639,  0.5235],\n",
       "                [ 0.6780,  1.8817, -1.0716]],\n",
       "       \n",
       "               [[-0.1985, -1.6639,  0.5235],\n",
       "                [ 0.6780,  1.8817, -1.0716]],\n",
       "       \n",
       "               [[-0.1985, -1.6639,  0.5235],\n",
       "                [ 0.6780,  1.8817, -1.0716]],\n",
       "       \n",
       "               [[-0.1985, -1.6639,  0.5235],\n",
       "                [ 0.6780,  1.8817, -1.0716]],\n",
       "       \n",
       "               [[-0.1985, -1.6639,  0.5235],\n",
       "                [ 0.6780,  1.8817, -1.0716]],\n",
       "       \n",
       "               [[-0.1985, -1.6639,  0.5235],\n",
       "                [ 0.6780,  1.8817, -1.0716]]]),\n",
       "    x: Batch(\n",
       "           c: tensor([[[ 0.5048, -1.0473, -0.0725, -1.5309],\n",
       "                       [-0.3237,  0.9371,  0.7385, -0.7169],\n",
       "                       [-0.5231,  2.0198, -1.1638, -0.4201]],\n",
       "              \n",
       "                      [[ 0.5048, -1.0473, -0.0725, -1.5309],\n",
       "                       [-0.3237,  0.9371,  0.7385, -0.7169],\n",
       "                       [-0.5231,  2.0198, -1.1638, -0.4201]],\n",
       "              \n",
       "                      [[ 0.5048, -1.0473, -0.0725, -1.5309],\n",
       "                       [-0.3237,  0.9371,  0.7385, -0.7169],\n",
       "                       [-0.5231,  2.0198, -1.1638, -0.4201]],\n",
       "              \n",
       "                      [[ 0.5048, -1.0473, -0.0725, -1.5309],\n",
       "                       [-0.3237,  0.9371,  0.7385, -0.7169],\n",
       "                       [-0.5231,  2.0198, -1.1638, -0.4201]],\n",
       "              \n",
       "                      [[ 0.5048, -1.0473, -0.0725, -1.5309],\n",
       "                       [-0.3237,  0.9371,  0.7385, -0.7169],\n",
       "                       [-0.5231,  2.0198, -1.1638, -0.4201]],\n",
       "              \n",
       "                      [[ 0.5048, -1.0473, -0.0725, -1.5309],\n",
       "                       [-0.3237,  0.9371,  0.7385, -0.7169],\n",
       "                       [-0.5231,  2.0198, -1.1638, -0.4201]],\n",
       "              \n",
       "                      [[ 0.5048, -1.0473, -0.0725, -1.5309],\n",
       "                       [-0.3237,  0.9371,  0.7385, -0.7169],\n",
       "                       [-0.5231,  2.0198, -1.1638, -0.4201]],\n",
       "              \n",
       "                      [[ 0.5048, -1.0473, -0.0725, -1.5309],\n",
       "                       [-0.3237,  0.9371,  0.7385, -0.7169],\n",
       "                       [-0.5231,  2.0198, -1.1638, -0.4201]]]),\n",
       "       ),\n",
       ")"
      ]
     },
     "execution_count": 25,
     "metadata": {},
     "output_type": "execute_result"
    }
   ],
   "source": [
    "batches = [Batch(**_TREE_DATA_2) for _ in range(8)]\n",
    "\n",
    "Batch.stack(batches)"
   ]
  },
  {
   "cell_type": "code",
   "execution_count": 26,
   "id": "ec9037a3",
   "metadata": {
    "execution": {
     "iopub.execute_input": "2023-03-06T18:18:56.122340Z",
     "iopub.status.busy": "2023-03-06T18:18:56.121909Z",
     "iopub.status.idle": "2023-03-06T18:19:02.573683Z",
     "shell.execute_reply": "2023-03-06T18:19:02.572393Z"
    }
   },
   "outputs": [
    {
     "name": "stdout",
     "output_type": "stream",
     "text": [
      "79.2 µs ± 3.17 µs per loop (mean ± std. dev. of 7 runs, 10,000 loops each)\n"
     ]
    }
   ],
   "source": [
    "%timeit Batch.stack(batches)"
   ]
  },
  {
   "cell_type": "code",
   "execution_count": 27,
   "id": "cb8ab77e",
   "metadata": {
    "execution": {
     "iopub.execute_input": "2023-03-06T18:19:02.577566Z",
     "iopub.status.busy": "2023-03-06T18:19:02.576952Z",
     "iopub.status.idle": "2023-03-06T18:19:02.585931Z",
     "shell.execute_reply": "2023-03-06T18:19:02.585283Z"
    }
   },
   "outputs": [
    {
     "data": {
      "text/plain": [
       "Batch(\n",
       "    a: tensor([[-0.1985, -1.6639,  0.5235],\n",
       "               [ 0.6780,  1.8817, -1.0716],\n",
       "               [-0.1985, -1.6639,  0.5235],\n",
       "               [ 0.6780,  1.8817, -1.0716],\n",
       "               [-0.1985, -1.6639,  0.5235],\n",
       "               [ 0.6780,  1.8817, -1.0716],\n",
       "               [-0.1985, -1.6639,  0.5235],\n",
       "               [ 0.6780,  1.8817, -1.0716],\n",
       "               [-0.1985, -1.6639,  0.5235],\n",
       "               [ 0.6780,  1.8817, -1.0716],\n",
       "               [-0.1985, -1.6639,  0.5235],\n",
       "               [ 0.6780,  1.8817, -1.0716],\n",
       "               [-0.1985, -1.6639,  0.5235],\n",
       "               [ 0.6780,  1.8817, -1.0716],\n",
       "               [-0.1985, -1.6639,  0.5235],\n",
       "               [ 0.6780,  1.8817, -1.0716]]),\n",
       "    x: Batch(\n",
       "           c: tensor([[ 0.5048, -1.0473, -0.0725, -1.5309],\n",
       "                      [-0.3237,  0.9371,  0.7385, -0.7169],\n",
       "                      [-0.5231,  2.0198, -1.1638, -0.4201],\n",
       "                      [ 0.5048, -1.0473, -0.0725, -1.5309],\n",
       "                      [-0.3237,  0.9371,  0.7385, -0.7169],\n",
       "                      [-0.5231,  2.0198, -1.1638, -0.4201],\n",
       "                      [ 0.5048, -1.0473, -0.0725, -1.5309],\n",
       "                      [-0.3237,  0.9371,  0.7385, -0.7169],\n",
       "                      [-0.5231,  2.0198, -1.1638, -0.4201],\n",
       "                      [ 0.5048, -1.0473, -0.0725, -1.5309],\n",
       "                      [-0.3237,  0.9371,  0.7385, -0.7169],\n",
       "                      [-0.5231,  2.0198, -1.1638, -0.4201],\n",
       "                      [ 0.5048, -1.0473, -0.0725, -1.5309],\n",
       "                      [-0.3237,  0.9371,  0.7385, -0.7169],\n",
       "                      [-0.5231,  2.0198, -1.1638, -0.4201],\n",
       "                      [ 0.5048, -1.0473, -0.0725, -1.5309],\n",
       "                      [-0.3237,  0.9371,  0.7385, -0.7169],\n",
       "                      [-0.5231,  2.0198, -1.1638, -0.4201],\n",
       "                      [ 0.5048, -1.0473, -0.0725, -1.5309],\n",
       "                      [-0.3237,  0.9371,  0.7385, -0.7169],\n",
       "                      [-0.5231,  2.0198, -1.1638, -0.4201],\n",
       "                      [ 0.5048, -1.0473, -0.0725, -1.5309],\n",
       "                      [-0.3237,  0.9371,  0.7385, -0.7169],\n",
       "                      [-0.5231,  2.0198, -1.1638, -0.4201]]),\n",
       "       ),\n",
       ")"
      ]
     },
     "execution_count": 27,
     "metadata": {},
     "output_type": "execute_result"
    }
   ],
   "source": [
    "Batch.cat(batches)"
   ]
  },
  {
   "cell_type": "code",
   "execution_count": 28,
   "id": "18dfb045",
   "metadata": {
    "execution": {
     "iopub.execute_input": "2023-03-06T18:19:02.589128Z",
     "iopub.status.busy": "2023-03-06T18:19:02.588735Z",
     "iopub.status.idle": "2023-03-06T18:19:14.583749Z",
     "shell.execute_reply": "2023-03-06T18:19:14.582685Z"
    }
   },
   "outputs": [
    {
     "name": "stdout",
     "output_type": "stream",
     "text": [
      "148 µs ± 4.07 µs per loop (mean ± std. dev. of 7 runs, 10,000 loops each)\n"
     ]
    }
   ],
   "source": [
    "%timeit Batch.cat(batches)"
   ]
  },
  {
   "cell_type": "code",
   "execution_count": 29,
   "id": "c6688e51",
   "metadata": {
    "execution": {
     "iopub.execute_input": "2023-03-06T18:19:14.587195Z",
     "iopub.status.busy": "2023-03-06T18:19:14.586561Z",
     "iopub.status.idle": "2023-03-06T18:19:17.369152Z",
     "shell.execute_reply": "2023-03-06T18:19:17.368399Z"
    }
   },
   "outputs": [
    {
     "name": "stdout",
     "output_type": "stream",
     "text": [
      "342 µs ± 8.92 µs per loop (mean ± std. dev. of 7 runs, 1,000 loops each)\n"
     ]
    }
   ],
   "source": [
    "batch = Batch({\n",
    "    'obs': torch.randn(8, 4, 84, 84),\n",
    "    'action': torch.randint(0, 6, size=(8, 1,)),\n",
    "    'reward': torch.rand(8, 1)}\n",
    ")\n",
    "\n",
    "%timeit list(Batch.split(batch, 1, shuffle=False, merge_last=True))"
   ]
  },
  {
   "cell_type": "code",
   "execution_count": null,
   "id": "2539fbd9",
   "metadata": {},
   "outputs": [],
   "source": []
  }
 ],
 "metadata": {
  "kernelspec": {
   "display_name": "Python 3 (ipykernel)",
   "language": "python",
   "name": "python3"
  },
  "language_info": {
   "codemirror_mode": {
    "name": "ipython",
    "version": 3
   },
   "file_extension": ".py",
   "mimetype": "text/x-python",
   "name": "python",
   "nbconvert_exporter": "python",
   "pygments_lexer": "ipython3",
   "version": "3.8.16"
  }
 },
 "nbformat": 4,
 "nbformat_minor": 5
}
