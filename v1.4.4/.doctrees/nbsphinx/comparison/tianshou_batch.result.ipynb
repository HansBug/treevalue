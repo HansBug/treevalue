{
 "cells": [
  {
   "cell_type": "markdown",
   "id": "9d39d946",
   "metadata": {},
   "source": [
    "# Comparison Between TreeValue and Tianshou Batch"
   ]
  },
  {
   "cell_type": "markdown",
   "id": "3c6db2d4",
   "metadata": {},
   "source": [
    "In this section, we will take a look at the feature and performance of the [Tianshou Batch](https://github.com/thu-ml/tianshou) library, which is developed by Tsinghua Machine Learning Group."
   ]
  },
  {
   "cell_type": "markdown",
   "id": "069361b0",
   "metadata": {},
   "source": [
    "Before starting the comparison, let us define some thing."
   ]
  },
  {
   "cell_type": "code",
   "execution_count": 1,
   "id": "06fc8d26",
   "metadata": {
    "execution": {
     "iopub.execute_input": "2023-05-26T07:16:53.177291Z",
     "iopub.status.busy": "2023-05-26T07:16:53.177029Z",
     "iopub.status.idle": "2023-05-26T07:16:54.617401Z",
     "shell.execute_reply": "2023-05-26T07:16:54.616571Z"
    }
   },
   "outputs": [],
   "source": [
    "import torch \n",
    "\n",
    "_TREE_DATA_1 = {'a': 1, 'b': 2, 'x': {'c': 3, 'd': 4}}\n",
    "_TREE_DATA_2 = {\n",
    "    'a': torch.randn(2, 3), \n",
    "    'x': {\n",
    "        'c': torch.randn(3, 4)\n",
    "    },\n",
    "}\n",
    "_TREE_DATA_3 = {\n",
    "    'obs': torch.randn(4, 84, 84),\n",
    "    'action': torch.randint(0, 6, size=(1,)),\n",
    "    'reward': torch.rand(1),\n",
    "}"
   ]
  },
  {
   "cell_type": "markdown",
   "id": "83461b25",
   "metadata": {},
   "source": [
    "## Read and Write Operation"
   ]
  },
  {
   "cell_type": "markdown",
   "id": "067b3f73",
   "metadata": {},
   "source": [
    "Reading and writing are the two most common operations in the tree data structure based on the data model (TreeValue and Tianshou Batch both belong to this type), so this section will compare the reading and writing performance of these two libraries."
   ]
  },
  {
   "cell_type": "markdown",
   "id": "5d09a5b7",
   "metadata": {},
   "source": [
    "### TreeValue's Get and Set"
   ]
  },
  {
   "cell_type": "code",
   "execution_count": 2,
   "id": "9519c4bb",
   "metadata": {
    "execution": {
     "iopub.execute_input": "2023-05-26T07:16:54.622571Z",
     "iopub.status.busy": "2023-05-26T07:16:54.621963Z",
     "iopub.status.idle": "2023-05-26T07:16:54.654257Z",
     "shell.execute_reply": "2023-05-26T07:16:54.653507Z"
    }
   },
   "outputs": [],
   "source": [
    "from treevalue import FastTreeValue\n",
    "\n",
    "t = FastTreeValue(_TREE_DATA_2)"
   ]
  },
  {
   "cell_type": "code",
   "execution_count": 3,
   "id": "11c37677",
   "metadata": {
    "execution": {
     "iopub.execute_input": "2023-05-26T07:16:54.657828Z",
     "iopub.status.busy": "2023-05-26T07:16:54.657409Z",
     "iopub.status.idle": "2023-05-26T07:16:54.668396Z",
     "shell.execute_reply": "2023-05-26T07:16:54.667741Z"
    }
   },
   "outputs": [
    {
     "data": {
      "text/plain": [
       "<FastTreeValue 0x7fd4354fa2b0>\n",
       "├── 'a' --> tensor([[ 0.3823,  0.9901,  0.9891],\n",
       "│                   [ 0.7910, -2.4117, -1.0424]])\n",
       "└── 'x' --> <FastTreeValue 0x7fd43046b400>\n",
       "    └── 'c' --> tensor([[-0.6880,  0.3536,  0.3410,  0.3584],\n",
       "                        [ 1.4188, -0.7418, -1.6623, -1.5132],\n",
       "                        [-1.7965,  1.5446, -0.9980, -0.1302]])"
      ]
     },
     "execution_count": 3,
     "metadata": {},
     "output_type": "execute_result"
    }
   ],
   "source": [
    "t"
   ]
  },
  {
   "cell_type": "code",
   "execution_count": 4,
   "id": "fd70b0b9",
   "metadata": {
    "execution": {
     "iopub.execute_input": "2023-05-26T07:16:54.671876Z",
     "iopub.status.busy": "2023-05-26T07:16:54.671482Z",
     "iopub.status.idle": "2023-05-26T07:16:54.678302Z",
     "shell.execute_reply": "2023-05-26T07:16:54.677675Z"
    }
   },
   "outputs": [
    {
     "data": {
      "text/plain": [
       "tensor([[ 0.3823,  0.9901,  0.9891],\n",
       "        [ 0.7910, -2.4117, -1.0424]])"
      ]
     },
     "execution_count": 4,
     "metadata": {},
     "output_type": "execute_result"
    }
   ],
   "source": [
    "t.a"
   ]
  },
  {
   "cell_type": "code",
   "execution_count": 5,
   "id": "c18197bd",
   "metadata": {
    "execution": {
     "iopub.execute_input": "2023-05-26T07:16:54.681509Z",
     "iopub.status.busy": "2023-05-26T07:16:54.681033Z",
     "iopub.status.idle": "2023-05-26T07:17:00.164185Z",
     "shell.execute_reply": "2023-05-26T07:17:00.163384Z"
    }
   },
   "outputs": [
    {
     "name": "stdout",
     "output_type": "stream",
     "text": [
      "67.5 ns ± 0.0817 ns per loop (mean ± std. dev. of 7 runs, 10,000,000 loops each)\n"
     ]
    }
   ],
   "source": [
    "%timeit t.a"
   ]
  },
  {
   "cell_type": "code",
   "execution_count": 6,
   "id": "bd52f867",
   "metadata": {
    "execution": {
     "iopub.execute_input": "2023-05-26T07:17:00.167742Z",
     "iopub.status.busy": "2023-05-26T07:17:00.167078Z",
     "iopub.status.idle": "2023-05-26T07:17:00.173958Z",
     "shell.execute_reply": "2023-05-26T07:17:00.173226Z"
    }
   },
   "outputs": [
    {
     "data": {
      "text/plain": [
       "<FastTreeValue 0x7fd4354fa2b0>\n",
       "├── 'a' --> tensor([[ 0.4659,  0.2434,  1.3725],\n",
       "│                   [ 0.7374, -1.4128, -1.3578]])\n",
       "└── 'x' --> <FastTreeValue 0x7fd43046b400>\n",
       "    └── 'c' --> tensor([[-0.6880,  0.3536,  0.3410,  0.3584],\n",
       "                        [ 1.4188, -0.7418, -1.6623, -1.5132],\n",
       "                        [-1.7965,  1.5446, -0.9980, -0.1302]])"
      ]
     },
     "execution_count": 6,
     "metadata": {},
     "output_type": "execute_result"
    }
   ],
   "source": [
    "new_value = torch.randn(2, 3)\n",
    "t.a = new_value\n",
    "\n",
    "t"
   ]
  },
  {
   "cell_type": "code",
   "execution_count": 7,
   "id": "bbe04d1c",
   "metadata": {
    "execution": {
     "iopub.execute_input": "2023-05-26T07:17:00.177165Z",
     "iopub.status.busy": "2023-05-26T07:17:00.176694Z",
     "iopub.status.idle": "2023-05-26T07:17:06.059458Z",
     "shell.execute_reply": "2023-05-26T07:17:06.058690Z"
    }
   },
   "outputs": [
    {
     "name": "stdout",
     "output_type": "stream",
     "text": [
      "72.8 ns ± 0.0332 ns per loop (mean ± std. dev. of 7 runs, 10,000,000 loops each)\n"
     ]
    }
   ],
   "source": [
    "%timeit t.a = new_value"
   ]
  },
  {
   "cell_type": "markdown",
   "id": "48c49731",
   "metadata": {},
   "source": [
    "### Tianshou Batch's Get and Set"
   ]
  },
  {
   "cell_type": "code",
   "execution_count": 8,
   "id": "f1bb14c1",
   "metadata": {
    "execution": {
     "iopub.execute_input": "2023-05-26T07:17:06.063299Z",
     "iopub.status.busy": "2023-05-26T07:17:06.062603Z",
     "iopub.status.idle": "2023-05-26T07:17:06.457511Z",
     "shell.execute_reply": "2023-05-26T07:17:06.456724Z"
    }
   },
   "outputs": [],
   "source": [
    "from tianshou.data import Batch\n",
    "\n",
    "b = Batch(**_TREE_DATA_2)"
   ]
  },
  {
   "cell_type": "code",
   "execution_count": 9,
   "id": "cb0777c3",
   "metadata": {
    "execution": {
     "iopub.execute_input": "2023-05-26T07:17:06.461848Z",
     "iopub.status.busy": "2023-05-26T07:17:06.461314Z",
     "iopub.status.idle": "2023-05-26T07:17:06.467591Z",
     "shell.execute_reply": "2023-05-26T07:17:06.466897Z"
    }
   },
   "outputs": [
    {
     "data": {
      "text/plain": [
       "Batch(\n",
       "    a: tensor([[ 0.3823,  0.9901,  0.9891],\n",
       "               [ 0.7910, -2.4117, -1.0424]]),\n",
       "    x: Batch(\n",
       "           c: tensor([[-0.6880,  0.3536,  0.3410,  0.3584],\n",
       "                      [ 1.4188, -0.7418, -1.6623, -1.5132],\n",
       "                      [-1.7965,  1.5446, -0.9980, -0.1302]]),\n",
       "       ),\n",
       ")"
      ]
     },
     "execution_count": 9,
     "metadata": {},
     "output_type": "execute_result"
    }
   ],
   "source": [
    "b"
   ]
  },
  {
   "cell_type": "code",
   "execution_count": 10,
   "id": "43ef8ea3",
   "metadata": {
    "execution": {
     "iopub.execute_input": "2023-05-26T07:17:06.470817Z",
     "iopub.status.busy": "2023-05-26T07:17:06.470250Z",
     "iopub.status.idle": "2023-05-26T07:17:06.475401Z",
     "shell.execute_reply": "2023-05-26T07:17:06.474711Z"
    }
   },
   "outputs": [
    {
     "data": {
      "text/plain": [
       "tensor([[ 0.3823,  0.9901,  0.9891],\n",
       "        [ 0.7910, -2.4117, -1.0424]])"
      ]
     },
     "execution_count": 10,
     "metadata": {},
     "output_type": "execute_result"
    }
   ],
   "source": [
    "b.a"
   ]
  },
  {
   "cell_type": "code",
   "execution_count": 11,
   "id": "b785ab72",
   "metadata": {
    "execution": {
     "iopub.execute_input": "2023-05-26T07:17:06.478683Z",
     "iopub.status.busy": "2023-05-26T07:17:06.478315Z",
     "iopub.status.idle": "2023-05-26T07:17:11.263874Z",
     "shell.execute_reply": "2023-05-26T07:17:11.263118Z"
    }
   },
   "outputs": [
    {
     "name": "stdout",
     "output_type": "stream",
     "text": [
      "58.9 ns ± 0.0791 ns per loop (mean ± std. dev. of 7 runs, 10,000,000 loops each)\n"
     ]
    }
   ],
   "source": [
    "%timeit b.a"
   ]
  },
  {
   "cell_type": "code",
   "execution_count": 12,
   "id": "ad54dc69",
   "metadata": {
    "execution": {
     "iopub.execute_input": "2023-05-26T07:17:11.267635Z",
     "iopub.status.busy": "2023-05-26T07:17:11.266881Z",
     "iopub.status.idle": "2023-05-26T07:17:11.273650Z",
     "shell.execute_reply": "2023-05-26T07:17:11.272934Z"
    }
   },
   "outputs": [
    {
     "data": {
      "text/plain": [
       "Batch(\n",
       "    a: tensor([[-0.4942, -0.4816, -0.7181],\n",
       "               [ 0.8403, -1.4860, -0.7209]]),\n",
       "    x: Batch(\n",
       "           c: tensor([[-0.6880,  0.3536,  0.3410,  0.3584],\n",
       "                      [ 1.4188, -0.7418, -1.6623, -1.5132],\n",
       "                      [-1.7965,  1.5446, -0.9980, -0.1302]]),\n",
       "       ),\n",
       ")"
      ]
     },
     "execution_count": 12,
     "metadata": {},
     "output_type": "execute_result"
    }
   ],
   "source": [
    "new_value = torch.randn(2, 3)\n",
    "b.a = new_value\n",
    "\n",
    "b"
   ]
  },
  {
   "cell_type": "code",
   "execution_count": 13,
   "id": "29b1d0bf",
   "metadata": {
    "execution": {
     "iopub.execute_input": "2023-05-26T07:17:11.276932Z",
     "iopub.status.busy": "2023-05-26T07:17:11.276365Z",
     "iopub.status.idle": "2023-05-26T07:17:15.306201Z",
     "shell.execute_reply": "2023-05-26T07:17:15.305445Z"
    }
   },
   "outputs": [
    {
     "name": "stdout",
     "output_type": "stream",
     "text": [
      "497 ns ± 0.177 ns per loop (mean ± std. dev. of 7 runs, 1,000,000 loops each)\n"
     ]
    }
   ],
   "source": [
    "%timeit b.a = new_value"
   ]
  },
  {
   "cell_type": "markdown",
   "id": "b61ad1d0",
   "metadata": {},
   "source": [
    "## Initialization"
   ]
  },
  {
   "cell_type": "markdown",
   "id": "d70f0d54",
   "metadata": {},
   "source": [
    "### TreeValue's Initialization"
   ]
  },
  {
   "cell_type": "code",
   "execution_count": 14,
   "id": "d32a679b",
   "metadata": {
    "execution": {
     "iopub.execute_input": "2023-05-26T07:17:15.310014Z",
     "iopub.status.busy": "2023-05-26T07:17:15.309531Z",
     "iopub.status.idle": "2023-05-26T07:17:21.942293Z",
     "shell.execute_reply": "2023-05-26T07:17:21.941601Z"
    }
   },
   "outputs": [
    {
     "name": "stdout",
     "output_type": "stream",
     "text": [
      "817 ns ± 0.122 ns per loop (mean ± std. dev. of 7 runs, 1,000,000 loops each)\n"
     ]
    }
   ],
   "source": [
    "%timeit FastTreeValue(_TREE_DATA_1)"
   ]
  },
  {
   "cell_type": "markdown",
   "id": "24f3707b",
   "metadata": {},
   "source": [
    "### Tianshou Batch's Initialization"
   ]
  },
  {
   "cell_type": "code",
   "execution_count": 15,
   "id": "ac3958df",
   "metadata": {
    "execution": {
     "iopub.execute_input": "2023-05-26T07:17:21.945808Z",
     "iopub.status.busy": "2023-05-26T07:17:21.945291Z",
     "iopub.status.idle": "2023-05-26T07:17:30.493098Z",
     "shell.execute_reply": "2023-05-26T07:17:30.492335Z"
    }
   },
   "outputs": [
    {
     "name": "stdout",
     "output_type": "stream",
     "text": [
      "10.5 µs ± 35.6 ns per loop (mean ± std. dev. of 7 runs, 100,000 loops each)\n"
     ]
    }
   ],
   "source": [
    "%timeit Batch(**_TREE_DATA_1)"
   ]
  },
  {
   "cell_type": "markdown",
   "id": "1ab82e2d",
   "metadata": {},
   "source": [
    "## Deep Copy Operation"
   ]
  },
  {
   "cell_type": "code",
   "execution_count": 16,
   "id": "210a9442",
   "metadata": {
    "execution": {
     "iopub.execute_input": "2023-05-26T07:17:30.497170Z",
     "iopub.status.busy": "2023-05-26T07:17:30.496364Z",
     "iopub.status.idle": "2023-05-26T07:17:30.500175Z",
     "shell.execute_reply": "2023-05-26T07:17:30.499426Z"
    }
   },
   "outputs": [],
   "source": [
    "import copy"
   ]
  },
  {
   "cell_type": "markdown",
   "id": "5a736274",
   "metadata": {},
   "source": [
    "### Deep Copy of TreeValue"
   ]
  },
  {
   "cell_type": "code",
   "execution_count": 17,
   "id": "f9bcadd6",
   "metadata": {
    "execution": {
     "iopub.execute_input": "2023-05-26T07:17:30.503402Z",
     "iopub.status.busy": "2023-05-26T07:17:30.502904Z",
     "iopub.status.idle": "2023-05-26T07:17:42.031260Z",
     "shell.execute_reply": "2023-05-26T07:17:42.030597Z"
    }
   },
   "outputs": [
    {
     "name": "stdout",
     "output_type": "stream",
     "text": [
      "142 µs ± 262 ns per loop (mean ± std. dev. of 7 runs, 10,000 loops each)\n"
     ]
    }
   ],
   "source": [
    "t3 = FastTreeValue(_TREE_DATA_3)\n",
    "%timeit copy.deepcopy(t3)"
   ]
  },
  {
   "cell_type": "markdown",
   "id": "bf8be7ea",
   "metadata": {},
   "source": [
    "### Deep Copy of Tianshou Batch"
   ]
  },
  {
   "cell_type": "code",
   "execution_count": 18,
   "id": "91998e6f",
   "metadata": {
    "execution": {
     "iopub.execute_input": "2023-05-26T07:17:42.035155Z",
     "iopub.status.busy": "2023-05-26T07:17:42.034614Z",
     "iopub.status.idle": "2023-05-26T07:17:53.567992Z",
     "shell.execute_reply": "2023-05-26T07:17:53.567333Z"
    }
   },
   "outputs": [
    {
     "name": "stdout",
     "output_type": "stream",
     "text": [
      "142 µs ± 745 ns per loop (mean ± std. dev. of 7 runs, 10,000 loops each)\n"
     ]
    }
   ],
   "source": [
    "b3 = Batch(**_TREE_DATA_3)\n",
    "%timeit copy.deepcopy(b3)"
   ]
  },
  {
   "cell_type": "markdown",
   "id": "223162fb",
   "metadata": {},
   "source": [
    "## Stack, Concat and Split Operation"
   ]
  },
  {
   "cell_type": "markdown",
   "id": "85fa4a73",
   "metadata": {},
   "source": [
    "### Performance of TreeValue"
   ]
  },
  {
   "cell_type": "code",
   "execution_count": 19,
   "id": "a0c2b697",
   "metadata": {
    "execution": {
     "iopub.execute_input": "2023-05-26T07:17:53.571445Z",
     "iopub.status.busy": "2023-05-26T07:17:53.570912Z",
     "iopub.status.idle": "2023-05-26T07:17:53.574555Z",
     "shell.execute_reply": "2023-05-26T07:17:53.573992Z"
    }
   },
   "outputs": [],
   "source": [
    "trees = [FastTreeValue(_TREE_DATA_2) for _ in range(8)]"
   ]
  },
  {
   "cell_type": "code",
   "execution_count": 20,
   "id": "017ea5a5",
   "metadata": {
    "execution": {
     "iopub.execute_input": "2023-05-26T07:17:53.577401Z",
     "iopub.status.busy": "2023-05-26T07:17:53.576940Z",
     "iopub.status.idle": "2023-05-26T07:17:53.584442Z",
     "shell.execute_reply": "2023-05-26T07:17:53.583870Z"
    }
   },
   "outputs": [
    {
     "data": {
      "text/plain": [
       "<FastTreeValue 0x7fd365783520>\n",
       "├── 'a' --> tensor([[[ 0.3823,  0.9901,  0.9891],\n",
       "│                    [ 0.7910, -2.4117, -1.0424]],\n",
       "│           \n",
       "│                   [[ 0.3823,  0.9901,  0.9891],\n",
       "│                    [ 0.7910, -2.4117, -1.0424]],\n",
       "│           \n",
       "│                   [[ 0.3823,  0.9901,  0.9891],\n",
       "│                    [ 0.7910, -2.4117, -1.0424]],\n",
       "│           \n",
       "│                   [[ 0.3823,  0.9901,  0.9891],\n",
       "│                    [ 0.7910, -2.4117, -1.0424]],\n",
       "│           \n",
       "│                   [[ 0.3823,  0.9901,  0.9891],\n",
       "│                    [ 0.7910, -2.4117, -1.0424]],\n",
       "│           \n",
       "│                   [[ 0.3823,  0.9901,  0.9891],\n",
       "│                    [ 0.7910, -2.4117, -1.0424]],\n",
       "│           \n",
       "│                   [[ 0.3823,  0.9901,  0.9891],\n",
       "│                    [ 0.7910, -2.4117, -1.0424]],\n",
       "│           \n",
       "│                   [[ 0.3823,  0.9901,  0.9891],\n",
       "│                    [ 0.7910, -2.4117, -1.0424]]])\n",
       "└── 'x' --> <FastTreeValue 0x7fd365783910>\n",
       "    └── 'c' --> tensor([[[-0.6880,  0.3536,  0.3410,  0.3584],\n",
       "                         [ 1.4188, -0.7418, -1.6623, -1.5132],\n",
       "                         [-1.7965,  1.5446, -0.9980, -0.1302]],\n",
       "                \n",
       "                        [[-0.6880,  0.3536,  0.3410,  0.3584],\n",
       "                         [ 1.4188, -0.7418, -1.6623, -1.5132],\n",
       "                         [-1.7965,  1.5446, -0.9980, -0.1302]],\n",
       "                \n",
       "                        [[-0.6880,  0.3536,  0.3410,  0.3584],\n",
       "                         [ 1.4188, -0.7418, -1.6623, -1.5132],\n",
       "                         [-1.7965,  1.5446, -0.9980, -0.1302]],\n",
       "                \n",
       "                        [[-0.6880,  0.3536,  0.3410,  0.3584],\n",
       "                         [ 1.4188, -0.7418, -1.6623, -1.5132],\n",
       "                         [-1.7965,  1.5446, -0.9980, -0.1302]],\n",
       "                \n",
       "                        [[-0.6880,  0.3536,  0.3410,  0.3584],\n",
       "                         [ 1.4188, -0.7418, -1.6623, -1.5132],\n",
       "                         [-1.7965,  1.5446, -0.9980, -0.1302]],\n",
       "                \n",
       "                        [[-0.6880,  0.3536,  0.3410,  0.3584],\n",
       "                         [ 1.4188, -0.7418, -1.6623, -1.5132],\n",
       "                         [-1.7965,  1.5446, -0.9980, -0.1302]],\n",
       "                \n",
       "                        [[-0.6880,  0.3536,  0.3410,  0.3584],\n",
       "                         [ 1.4188, -0.7418, -1.6623, -1.5132],\n",
       "                         [-1.7965,  1.5446, -0.9980, -0.1302]],\n",
       "                \n",
       "                        [[-0.6880,  0.3536,  0.3410,  0.3584],\n",
       "                         [ 1.4188, -0.7418, -1.6623, -1.5132],\n",
       "                         [-1.7965,  1.5446, -0.9980, -0.1302]]])"
      ]
     },
     "execution_count": 20,
     "metadata": {},
     "output_type": "execute_result"
    }
   ],
   "source": [
    "t_stack = FastTreeValue.func(subside=True)(torch.stack)\n",
    "\n",
    "t_stack(trees)"
   ]
  },
  {
   "cell_type": "code",
   "execution_count": 21,
   "id": "f8b3f415",
   "metadata": {
    "execution": {
     "iopub.execute_input": "2023-05-26T07:17:53.587393Z",
     "iopub.status.busy": "2023-05-26T07:17:53.586736Z",
     "iopub.status.idle": "2023-05-26T07:17:56.233625Z",
     "shell.execute_reply": "2023-05-26T07:17:56.232706Z"
    }
   },
   "outputs": [
    {
     "name": "stdout",
     "output_type": "stream",
     "text": [
      "32.6 µs ± 28.5 ns per loop (mean ± std. dev. of 7 runs, 10,000 loops each)\n"
     ]
    }
   ],
   "source": [
    "%timeit t_stack(trees)"
   ]
  },
  {
   "cell_type": "code",
   "execution_count": 22,
   "id": "94b56771",
   "metadata": {
    "execution": {
     "iopub.execute_input": "2023-05-26T07:17:56.237790Z",
     "iopub.status.busy": "2023-05-26T07:17:56.237359Z",
     "iopub.status.idle": "2023-05-26T07:17:56.245378Z",
     "shell.execute_reply": "2023-05-26T07:17:56.244660Z"
    }
   },
   "outputs": [
    {
     "data": {
      "text/plain": [
       "<FastTreeValue 0x7fd3657efb80>\n",
       "├── 'a' --> tensor([[ 0.3823,  0.9901,  0.9891],\n",
       "│                   [ 0.7910, -2.4117, -1.0424],\n",
       "│                   [ 0.3823,  0.9901,  0.9891],\n",
       "│                   [ 0.7910, -2.4117, -1.0424],\n",
       "│                   [ 0.3823,  0.9901,  0.9891],\n",
       "│                   [ 0.7910, -2.4117, -1.0424],\n",
       "│                   [ 0.3823,  0.9901,  0.9891],\n",
       "│                   [ 0.7910, -2.4117, -1.0424],\n",
       "│                   [ 0.3823,  0.9901,  0.9891],\n",
       "│                   [ 0.7910, -2.4117, -1.0424],\n",
       "│                   [ 0.3823,  0.9901,  0.9891],\n",
       "│                   [ 0.7910, -2.4117, -1.0424],\n",
       "│                   [ 0.3823,  0.9901,  0.9891],\n",
       "│                   [ 0.7910, -2.4117, -1.0424],\n",
       "│                   [ 0.3823,  0.9901,  0.9891],\n",
       "│                   [ 0.7910, -2.4117, -1.0424]])\n",
       "└── 'x' --> <FastTreeValue 0x7fd43043b1f0>\n",
       "    └── 'c' --> tensor([[-0.6880,  0.3536,  0.3410,  0.3584],\n",
       "                        [ 1.4188, -0.7418, -1.6623, -1.5132],\n",
       "                        [-1.7965,  1.5446, -0.9980, -0.1302],\n",
       "                        [-0.6880,  0.3536,  0.3410,  0.3584],\n",
       "                        [ 1.4188, -0.7418, -1.6623, -1.5132],\n",
       "                        [-1.7965,  1.5446, -0.9980, -0.1302],\n",
       "                        [-0.6880,  0.3536,  0.3410,  0.3584],\n",
       "                        [ 1.4188, -0.7418, -1.6623, -1.5132],\n",
       "                        [-1.7965,  1.5446, -0.9980, -0.1302],\n",
       "                        [-0.6880,  0.3536,  0.3410,  0.3584],\n",
       "                        [ 1.4188, -0.7418, -1.6623, -1.5132],\n",
       "                        [-1.7965,  1.5446, -0.9980, -0.1302],\n",
       "                        [-0.6880,  0.3536,  0.3410,  0.3584],\n",
       "                        [ 1.4188, -0.7418, -1.6623, -1.5132],\n",
       "                        [-1.7965,  1.5446, -0.9980, -0.1302],\n",
       "                        [-0.6880,  0.3536,  0.3410,  0.3584],\n",
       "                        [ 1.4188, -0.7418, -1.6623, -1.5132],\n",
       "                        [-1.7965,  1.5446, -0.9980, -0.1302],\n",
       "                        [-0.6880,  0.3536,  0.3410,  0.3584],\n",
       "                        [ 1.4188, -0.7418, -1.6623, -1.5132],\n",
       "                        [-1.7965,  1.5446, -0.9980, -0.1302],\n",
       "                        [-0.6880,  0.3536,  0.3410,  0.3584],\n",
       "                        [ 1.4188, -0.7418, -1.6623, -1.5132],\n",
       "                        [-1.7965,  1.5446, -0.9980, -0.1302]])"
      ]
     },
     "execution_count": 22,
     "metadata": {},
     "output_type": "execute_result"
    }
   ],
   "source": [
    "t_cat = FastTreeValue.func(subside=True)(torch.cat)\n",
    "\n",
    "t_cat(trees)"
   ]
  },
  {
   "cell_type": "code",
   "execution_count": 23,
   "id": "5e9c06a6",
   "metadata": {
    "execution": {
     "iopub.execute_input": "2023-05-26T07:17:56.248366Z",
     "iopub.status.busy": "2023-05-26T07:17:56.247970Z",
     "iopub.status.idle": "2023-05-26T07:17:58.731050Z",
     "shell.execute_reply": "2023-05-26T07:17:58.730313Z"
    }
   },
   "outputs": [
    {
     "name": "stdout",
     "output_type": "stream",
     "text": [
      "30.5 µs ± 47.2 ns per loop (mean ± std. dev. of 7 runs, 10,000 loops each)\n"
     ]
    }
   ],
   "source": [
    "%timeit t_cat(trees)"
   ]
  },
  {
   "cell_type": "code",
   "execution_count": 24,
   "id": "a3ab5c8f",
   "metadata": {
    "execution": {
     "iopub.execute_input": "2023-05-26T07:17:58.734942Z",
     "iopub.status.busy": "2023-05-26T07:17:58.734204Z",
     "iopub.status.idle": "2023-05-26T07:18:04.224456Z",
     "shell.execute_reply": "2023-05-26T07:18:04.223488Z"
    }
   },
   "outputs": [
    {
     "name": "stdout",
     "output_type": "stream",
     "text": [
      "67.6 µs ± 73.2 ns per loop (mean ± std. dev. of 7 runs, 10,000 loops each)\n"
     ]
    }
   ],
   "source": [
    "t_split = FastTreeValue.func(rise=True)(torch.split)\n",
    "tree = FastTreeValue({\n",
    "    'obs': torch.randn(8, 4, 84, 84),\n",
    "    'action': torch.randint(0, 6, size=(8, 1,)),\n",
    "    'reward': torch.rand(8, 1),\n",
    "})\n",
    "\n",
    "%timeit t_split(tree, 1)"
   ]
  },
  {
   "cell_type": "markdown",
   "id": "31c3ec0b",
   "metadata": {},
   "source": [
    "### Performance of Tianshou Batch"
   ]
  },
  {
   "cell_type": "code",
   "execution_count": 25,
   "id": "9ead828a",
   "metadata": {
    "execution": {
     "iopub.execute_input": "2023-05-26T07:18:04.228114Z",
     "iopub.status.busy": "2023-05-26T07:18:04.227689Z",
     "iopub.status.idle": "2023-05-26T07:18:04.235709Z",
     "shell.execute_reply": "2023-05-26T07:18:04.234988Z"
    }
   },
   "outputs": [
    {
     "data": {
      "text/plain": [
       "Batch(\n",
       "    a: tensor([[[ 0.3823,  0.9901,  0.9891],\n",
       "                [ 0.7910, -2.4117, -1.0424]],\n",
       "       \n",
       "               [[ 0.3823,  0.9901,  0.9891],\n",
       "                [ 0.7910, -2.4117, -1.0424]],\n",
       "       \n",
       "               [[ 0.3823,  0.9901,  0.9891],\n",
       "                [ 0.7910, -2.4117, -1.0424]],\n",
       "       \n",
       "               [[ 0.3823,  0.9901,  0.9891],\n",
       "                [ 0.7910, -2.4117, -1.0424]],\n",
       "       \n",
       "               [[ 0.3823,  0.9901,  0.9891],\n",
       "                [ 0.7910, -2.4117, -1.0424]],\n",
       "       \n",
       "               [[ 0.3823,  0.9901,  0.9891],\n",
       "                [ 0.7910, -2.4117, -1.0424]],\n",
       "       \n",
       "               [[ 0.3823,  0.9901,  0.9891],\n",
       "                [ 0.7910, -2.4117, -1.0424]],\n",
       "       \n",
       "               [[ 0.3823,  0.9901,  0.9891],\n",
       "                [ 0.7910, -2.4117, -1.0424]]]),\n",
       "    x: Batch(\n",
       "           c: tensor([[[-0.6880,  0.3536,  0.3410,  0.3584],\n",
       "                       [ 1.4188, -0.7418, -1.6623, -1.5132],\n",
       "                       [-1.7965,  1.5446, -0.9980, -0.1302]],\n",
       "              \n",
       "                      [[-0.6880,  0.3536,  0.3410,  0.3584],\n",
       "                       [ 1.4188, -0.7418, -1.6623, -1.5132],\n",
       "                       [-1.7965,  1.5446, -0.9980, -0.1302]],\n",
       "              \n",
       "                      [[-0.6880,  0.3536,  0.3410,  0.3584],\n",
       "                       [ 1.4188, -0.7418, -1.6623, -1.5132],\n",
       "                       [-1.7965,  1.5446, -0.9980, -0.1302]],\n",
       "              \n",
       "                      [[-0.6880,  0.3536,  0.3410,  0.3584],\n",
       "                       [ 1.4188, -0.7418, -1.6623, -1.5132],\n",
       "                       [-1.7965,  1.5446, -0.9980, -0.1302]],\n",
       "              \n",
       "                      [[-0.6880,  0.3536,  0.3410,  0.3584],\n",
       "                       [ 1.4188, -0.7418, -1.6623, -1.5132],\n",
       "                       [-1.7965,  1.5446, -0.9980, -0.1302]],\n",
       "              \n",
       "                      [[-0.6880,  0.3536,  0.3410,  0.3584],\n",
       "                       [ 1.4188, -0.7418, -1.6623, -1.5132],\n",
       "                       [-1.7965,  1.5446, -0.9980, -0.1302]],\n",
       "              \n",
       "                      [[-0.6880,  0.3536,  0.3410,  0.3584],\n",
       "                       [ 1.4188, -0.7418, -1.6623, -1.5132],\n",
       "                       [-1.7965,  1.5446, -0.9980, -0.1302]],\n",
       "              \n",
       "                      [[-0.6880,  0.3536,  0.3410,  0.3584],\n",
       "                       [ 1.4188, -0.7418, -1.6623, -1.5132],\n",
       "                       [-1.7965,  1.5446, -0.9980, -0.1302]]]),\n",
       "       ),\n",
       ")"
      ]
     },
     "execution_count": 25,
     "metadata": {},
     "output_type": "execute_result"
    }
   ],
   "source": [
    "batches = [Batch(**_TREE_DATA_2) for _ in range(8)]\n",
    "\n",
    "Batch.stack(batches)"
   ]
  },
  {
   "cell_type": "code",
   "execution_count": 26,
   "id": "ec9037a3",
   "metadata": {
    "execution": {
     "iopub.execute_input": "2023-05-26T07:18:04.238729Z",
     "iopub.status.busy": "2023-05-26T07:18:04.238296Z",
     "iopub.status.idle": "2023-05-26T07:18:10.711395Z",
     "shell.execute_reply": "2023-05-26T07:18:10.710642Z"
    }
   },
   "outputs": [
    {
     "name": "stdout",
     "output_type": "stream",
     "text": [
      "79.7 µs ± 356 ns per loop (mean ± std. dev. of 7 runs, 10,000 loops each)\n"
     ]
    }
   ],
   "source": [
    "%timeit Batch.stack(batches)"
   ]
  },
  {
   "cell_type": "code",
   "execution_count": 27,
   "id": "cb8ab77e",
   "metadata": {
    "execution": {
     "iopub.execute_input": "2023-05-26T07:18:10.715580Z",
     "iopub.status.busy": "2023-05-26T07:18:10.715035Z",
     "iopub.status.idle": "2023-05-26T07:18:10.722775Z",
     "shell.execute_reply": "2023-05-26T07:18:10.722042Z"
    }
   },
   "outputs": [
    {
     "data": {
      "text/plain": [
       "Batch(\n",
       "    a: tensor([[ 0.3823,  0.9901,  0.9891],\n",
       "               [ 0.7910, -2.4117, -1.0424],\n",
       "               [ 0.3823,  0.9901,  0.9891],\n",
       "               [ 0.7910, -2.4117, -1.0424],\n",
       "               [ 0.3823,  0.9901,  0.9891],\n",
       "               [ 0.7910, -2.4117, -1.0424],\n",
       "               [ 0.3823,  0.9901,  0.9891],\n",
       "               [ 0.7910, -2.4117, -1.0424],\n",
       "               [ 0.3823,  0.9901,  0.9891],\n",
       "               [ 0.7910, -2.4117, -1.0424],\n",
       "               [ 0.3823,  0.9901,  0.9891],\n",
       "               [ 0.7910, -2.4117, -1.0424],\n",
       "               [ 0.3823,  0.9901,  0.9891],\n",
       "               [ 0.7910, -2.4117, -1.0424],\n",
       "               [ 0.3823,  0.9901,  0.9891],\n",
       "               [ 0.7910, -2.4117, -1.0424]]),\n",
       "    x: Batch(\n",
       "           c: tensor([[-0.6880,  0.3536,  0.3410,  0.3584],\n",
       "                      [ 1.4188, -0.7418, -1.6623, -1.5132],\n",
       "                      [-1.7965,  1.5446, -0.9980, -0.1302],\n",
       "                      [-0.6880,  0.3536,  0.3410,  0.3584],\n",
       "                      [ 1.4188, -0.7418, -1.6623, -1.5132],\n",
       "                      [-1.7965,  1.5446, -0.9980, -0.1302],\n",
       "                      [-0.6880,  0.3536,  0.3410,  0.3584],\n",
       "                      [ 1.4188, -0.7418, -1.6623, -1.5132],\n",
       "                      [-1.7965,  1.5446, -0.9980, -0.1302],\n",
       "                      [-0.6880,  0.3536,  0.3410,  0.3584],\n",
       "                      [ 1.4188, -0.7418, -1.6623, -1.5132],\n",
       "                      [-1.7965,  1.5446, -0.9980, -0.1302],\n",
       "                      [-0.6880,  0.3536,  0.3410,  0.3584],\n",
       "                      [ 1.4188, -0.7418, -1.6623, -1.5132],\n",
       "                      [-1.7965,  1.5446, -0.9980, -0.1302],\n",
       "                      [-0.6880,  0.3536,  0.3410,  0.3584],\n",
       "                      [ 1.4188, -0.7418, -1.6623, -1.5132],\n",
       "                      [-1.7965,  1.5446, -0.9980, -0.1302],\n",
       "                      [-0.6880,  0.3536,  0.3410,  0.3584],\n",
       "                      [ 1.4188, -0.7418, -1.6623, -1.5132],\n",
       "                      [-1.7965,  1.5446, -0.9980, -0.1302],\n",
       "                      [-0.6880,  0.3536,  0.3410,  0.3584],\n",
       "                      [ 1.4188, -0.7418, -1.6623, -1.5132],\n",
       "                      [-1.7965,  1.5446, -0.9980, -0.1302]]),\n",
       "       ),\n",
       ")"
      ]
     },
     "execution_count": 27,
     "metadata": {},
     "output_type": "execute_result"
    }
   ],
   "source": [
    "Batch.cat(batches)"
   ]
  },
  {
   "cell_type": "code",
   "execution_count": 28,
   "id": "18dfb045",
   "metadata": {
    "execution": {
     "iopub.execute_input": "2023-05-26T07:18:10.725909Z",
     "iopub.status.busy": "2023-05-26T07:18:10.725439Z",
     "iopub.status.idle": "2023-05-26T07:18:22.884183Z",
     "shell.execute_reply": "2023-05-26T07:18:22.883411Z"
    }
   },
   "outputs": [
    {
     "name": "stdout",
     "output_type": "stream",
     "text": [
      "150 µs ± 281 ns per loop (mean ± std. dev. of 7 runs, 10,000 loops each)\n"
     ]
    }
   ],
   "source": [
    "%timeit Batch.cat(batches)"
   ]
  },
  {
   "cell_type": "code",
   "execution_count": 29,
   "id": "c6688e51",
   "metadata": {
    "execution": {
     "iopub.execute_input": "2023-05-26T07:18:22.887748Z",
     "iopub.status.busy": "2023-05-26T07:18:22.887213Z",
     "iopub.status.idle": "2023-05-26T07:18:25.719751Z",
     "shell.execute_reply": "2023-05-26T07:18:25.718276Z"
    }
   },
   "outputs": [
    {
     "name": "stdout",
     "output_type": "stream",
     "text": [
      "348 µs ± 1.84 µs per loop (mean ± std. dev. of 7 runs, 1,000 loops each)\n"
     ]
    }
   ],
   "source": [
    "batch = Batch({\n",
    "    'obs': torch.randn(8, 4, 84, 84),\n",
    "    'action': torch.randint(0, 6, size=(8, 1,)),\n",
    "    'reward': torch.rand(8, 1)}\n",
    ")\n",
    "\n",
    "%timeit list(Batch.split(batch, 1, shuffle=False, merge_last=True))"
   ]
  },
  {
   "cell_type": "code",
   "execution_count": null,
   "id": "2539fbd9",
   "metadata": {},
   "outputs": [],
   "source": []
  }
 ],
 "metadata": {
  "kernelspec": {
   "display_name": "Python 3 (ipykernel)",
   "language": "python",
   "name": "python3"
  },
  "language_info": {
   "codemirror_mode": {
    "name": "ipython",
    "version": 3
   },
   "file_extension": ".py",
   "mimetype": "text/x-python",
   "name": "python",
   "nbconvert_exporter": "python",
   "pygments_lexer": "ipython3",
   "version": "3.8.16"
  }
 },
 "nbformat": 4,
 "nbformat_minor": 5
}
