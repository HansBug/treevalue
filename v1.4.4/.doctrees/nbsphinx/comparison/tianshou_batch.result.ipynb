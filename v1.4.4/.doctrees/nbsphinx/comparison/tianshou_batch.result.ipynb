{
 "cells": [
  {
   "cell_type": "markdown",
   "id": "9d39d946",
   "metadata": {},
   "source": [
    "# Comparison Between TreeValue and Tianshou Batch"
   ]
  },
  {
   "cell_type": "markdown",
   "id": "3c6db2d4",
   "metadata": {},
   "source": [
    "In this section, we will take a look at the feature and performance of the [Tianshou Batch](https://github.com/thu-ml/tianshou) library, which is developed by Tsinghua Machine Learning Group."
   ]
  },
  {
   "cell_type": "markdown",
   "id": "069361b0",
   "metadata": {},
   "source": [
    "Before starting the comparison, let us define some thing."
   ]
  },
  {
   "cell_type": "code",
   "execution_count": 1,
   "id": "06fc8d26",
   "metadata": {
    "execution": {
     "iopub.execute_input": "2023-03-06T17:58:46.240206Z",
     "iopub.status.busy": "2023-03-06T17:58:46.239526Z",
     "iopub.status.idle": "2023-03-06T17:58:47.213426Z",
     "shell.execute_reply": "2023-03-06T17:58:47.212627Z"
    }
   },
   "outputs": [
    {
     "name": "stderr",
     "output_type": "stream",
     "text": [
      "/opt/hostedtoolcache/Python/3.8.16/x64/lib/python3.8/site-packages/tqdm/auto.py:21: TqdmWarning: IProgress not found. Please update jupyter and ipywidgets. See https://ipywidgets.readthedocs.io/en/stable/user_install.html\n",
      "  from .autonotebook import tqdm as notebook_tqdm\n"
     ]
    }
   ],
   "source": [
    "import torch \n",
    "\n",
    "_TREE_DATA_1 = {'a': 1, 'b': 2, 'x': {'c': 3, 'd': 4}}\n",
    "_TREE_DATA_2 = {\n",
    "    'a': torch.randn(2, 3), \n",
    "    'x': {\n",
    "        'c': torch.randn(3, 4)\n",
    "    },\n",
    "}\n",
    "_TREE_DATA_3 = {\n",
    "    'obs': torch.randn(4, 84, 84),\n",
    "    'action': torch.randint(0, 6, size=(1,)),\n",
    "    'reward': torch.rand(1),\n",
    "}"
   ]
  },
  {
   "cell_type": "markdown",
   "id": "83461b25",
   "metadata": {},
   "source": [
    "## Read and Write Operation"
   ]
  },
  {
   "cell_type": "markdown",
   "id": "067b3f73",
   "metadata": {},
   "source": [
    "Reading and writing are the two most common operations in the tree data structure based on the data model (TreeValue and Tianshou Batch both belong to this type), so this section will compare the reading and writing performance of these two libraries."
   ]
  },
  {
   "cell_type": "markdown",
   "id": "5d09a5b7",
   "metadata": {},
   "source": [
    "### TreeValue's Get and Set"
   ]
  },
  {
   "cell_type": "code",
   "execution_count": 2,
   "id": "9519c4bb",
   "metadata": {
    "execution": {
     "iopub.execute_input": "2023-03-06T17:58:47.217482Z",
     "iopub.status.busy": "2023-03-06T17:58:47.217044Z",
     "iopub.status.idle": "2023-03-06T17:58:47.251452Z",
     "shell.execute_reply": "2023-03-06T17:58:47.250763Z"
    }
   },
   "outputs": [],
   "source": [
    "from treevalue import FastTreeValue\n",
    "\n",
    "t = FastTreeValue(_TREE_DATA_2)"
   ]
  },
  {
   "cell_type": "code",
   "execution_count": 3,
   "id": "11c37677",
   "metadata": {
    "execution": {
     "iopub.execute_input": "2023-03-06T17:58:47.254741Z",
     "iopub.status.busy": "2023-03-06T17:58:47.254350Z",
     "iopub.status.idle": "2023-03-06T17:58:47.263595Z",
     "shell.execute_reply": "2023-03-06T17:58:47.262924Z"
    }
   },
   "outputs": [
    {
     "data": {
      "text/plain": [
       "<FastTreeValue 0x7f4491ff29d0>\n",
       "├── 'a' --> tensor([[ 1.1997, -0.6782,  0.5326],\n",
       "│                   [ 0.3010,  1.0589,  0.3923]])\n",
       "└── 'x' --> <FastTreeValue 0x7f4491ff2b80>\n",
       "    └── 'c' --> tensor([[-0.3600, -1.2195, -1.1781,  0.0177],\n",
       "                        [-0.4009, -0.0703,  0.8264, -1.8957],\n",
       "                        [-0.4698,  1.2763, -0.9830,  1.2150]])"
      ]
     },
     "execution_count": 3,
     "metadata": {},
     "output_type": "execute_result"
    }
   ],
   "source": [
    "t"
   ]
  },
  {
   "cell_type": "code",
   "execution_count": 4,
   "id": "fd70b0b9",
   "metadata": {
    "execution": {
     "iopub.execute_input": "2023-03-06T17:58:47.266488Z",
     "iopub.status.busy": "2023-03-06T17:58:47.266073Z",
     "iopub.status.idle": "2023-03-06T17:58:47.271097Z",
     "shell.execute_reply": "2023-03-06T17:58:47.270434Z"
    }
   },
   "outputs": [
    {
     "data": {
      "text/plain": [
       "tensor([[ 1.1997, -0.6782,  0.5326],\n",
       "        [ 0.3010,  1.0589,  0.3923]])"
      ]
     },
     "execution_count": 4,
     "metadata": {},
     "output_type": "execute_result"
    }
   ],
   "source": [
    "t.a"
   ]
  },
  {
   "cell_type": "code",
   "execution_count": 5,
   "id": "c18197bd",
   "metadata": {
    "execution": {
     "iopub.execute_input": "2023-03-06T17:58:47.273665Z",
     "iopub.status.busy": "2023-03-06T17:58:47.273303Z",
     "iopub.status.idle": "2023-03-06T17:58:52.518479Z",
     "shell.execute_reply": "2023-03-06T17:58:52.517553Z"
    }
   },
   "outputs": [
    {
     "name": "stdout",
     "output_type": "stream",
     "text": [
      "64.6 ns ± 0.0759 ns per loop (mean ± std. dev. of 7 runs, 10,000,000 loops each)\n"
     ]
    }
   ],
   "source": [
    "%timeit t.a"
   ]
  },
  {
   "cell_type": "code",
   "execution_count": 6,
   "id": "bd52f867",
   "metadata": {
    "execution": {
     "iopub.execute_input": "2023-03-06T17:58:52.522406Z",
     "iopub.status.busy": "2023-03-06T17:58:52.521773Z",
     "iopub.status.idle": "2023-03-06T17:58:52.529120Z",
     "shell.execute_reply": "2023-03-06T17:58:52.528502Z"
    }
   },
   "outputs": [
    {
     "data": {
      "text/plain": [
       "<FastTreeValue 0x7f4491ff29d0>\n",
       "├── 'a' --> tensor([[-0.3606,  1.0201, -1.5347],\n",
       "│                   [ 1.6226,  0.8683, -0.9375]])\n",
       "└── 'x' --> <FastTreeValue 0x7f4491ff2b80>\n",
       "    └── 'c' --> tensor([[-0.3600, -1.2195, -1.1781,  0.0177],\n",
       "                        [-0.4009, -0.0703,  0.8264, -1.8957],\n",
       "                        [-0.4698,  1.2763, -0.9830,  1.2150]])"
      ]
     },
     "execution_count": 6,
     "metadata": {},
     "output_type": "execute_result"
    }
   ],
   "source": [
    "new_value = torch.randn(2, 3)\n",
    "t.a = new_value\n",
    "\n",
    "t"
   ]
  },
  {
   "cell_type": "code",
   "execution_count": 7,
   "id": "bbe04d1c",
   "metadata": {
    "execution": {
     "iopub.execute_input": "2023-03-06T17:58:52.532372Z",
     "iopub.status.busy": "2023-03-06T17:58:52.531729Z",
     "iopub.status.idle": "2023-03-06T17:58:57.899209Z",
     "shell.execute_reply": "2023-03-06T17:58:57.898324Z"
    }
   },
   "outputs": [
    {
     "name": "stdout",
     "output_type": "stream",
     "text": [
      "66.1 ns ± 0.0694 ns per loop (mean ± std. dev. of 7 runs, 10,000,000 loops each)\n"
     ]
    }
   ],
   "source": [
    "%timeit t.a = new_value"
   ]
  },
  {
   "cell_type": "markdown",
   "id": "48c49731",
   "metadata": {},
   "source": [
    "### Tianshou Batch's Get and Set"
   ]
  },
  {
   "cell_type": "code",
   "execution_count": 8,
   "id": "f1bb14c1",
   "metadata": {
    "execution": {
     "iopub.execute_input": "2023-03-06T17:58:57.903231Z",
     "iopub.status.busy": "2023-03-06T17:58:57.902792Z",
     "iopub.status.idle": "2023-03-06T17:58:58.271889Z",
     "shell.execute_reply": "2023-03-06T17:58:58.271144Z"
    }
   },
   "outputs": [],
   "source": [
    "from tianshou.data import Batch\n",
    "\n",
    "b = Batch(**_TREE_DATA_2)"
   ]
  },
  {
   "cell_type": "code",
   "execution_count": 9,
   "id": "cb0777c3",
   "metadata": {
    "execution": {
     "iopub.execute_input": "2023-03-06T17:58:58.275982Z",
     "iopub.status.busy": "2023-03-06T17:58:58.275241Z",
     "iopub.status.idle": "2023-03-06T17:58:58.282841Z",
     "shell.execute_reply": "2023-03-06T17:58:58.282195Z"
    }
   },
   "outputs": [
    {
     "data": {
      "text/plain": [
       "Batch(\n",
       "    a: tensor([[ 1.1997, -0.6782,  0.5326],\n",
       "               [ 0.3010,  1.0589,  0.3923]]),\n",
       "    x: Batch(\n",
       "           c: tensor([[-0.3600, -1.2195, -1.1781,  0.0177],\n",
       "                      [-0.4009, -0.0703,  0.8264, -1.8957],\n",
       "                      [-0.4698,  1.2763, -0.9830,  1.2150]]),\n",
       "       ),\n",
       ")"
      ]
     },
     "execution_count": 9,
     "metadata": {},
     "output_type": "execute_result"
    }
   ],
   "source": [
    "b"
   ]
  },
  {
   "cell_type": "code",
   "execution_count": 10,
   "id": "43ef8ea3",
   "metadata": {
    "execution": {
     "iopub.execute_input": "2023-03-06T17:58:58.286115Z",
     "iopub.status.busy": "2023-03-06T17:58:58.285532Z",
     "iopub.status.idle": "2023-03-06T17:58:58.291781Z",
     "shell.execute_reply": "2023-03-06T17:58:58.290935Z"
    }
   },
   "outputs": [
    {
     "data": {
      "text/plain": [
       "tensor([[ 1.1997, -0.6782,  0.5326],\n",
       "        [ 0.3010,  1.0589,  0.3923]])"
      ]
     },
     "execution_count": 10,
     "metadata": {},
     "output_type": "execute_result"
    }
   ],
   "source": [
    "b.a"
   ]
  },
  {
   "cell_type": "code",
   "execution_count": 11,
   "id": "b785ab72",
   "metadata": {
    "execution": {
     "iopub.execute_input": "2023-03-06T17:58:58.294385Z",
     "iopub.status.busy": "2023-03-06T17:58:58.293929Z",
     "iopub.status.idle": "2023-03-06T17:59:03.094857Z",
     "shell.execute_reply": "2023-03-06T17:59:03.093861Z"
    }
   },
   "outputs": [
    {
     "name": "stdout",
     "output_type": "stream",
     "text": [
      "59.1 ns ± 0.0733 ns per loop (mean ± std. dev. of 7 runs, 10,000,000 loops each)\n"
     ]
    }
   ],
   "source": [
    "%timeit b.a"
   ]
  },
  {
   "cell_type": "code",
   "execution_count": 12,
   "id": "ad54dc69",
   "metadata": {
    "execution": {
     "iopub.execute_input": "2023-03-06T17:59:03.098602Z",
     "iopub.status.busy": "2023-03-06T17:59:03.098060Z",
     "iopub.status.idle": "2023-03-06T17:59:03.107346Z",
     "shell.execute_reply": "2023-03-06T17:59:03.106621Z"
    }
   },
   "outputs": [
    {
     "data": {
      "text/plain": [
       "Batch(\n",
       "    a: tensor([[ 0.2780, -0.2624,  0.5426],\n",
       "               [ 0.7481, -1.0189,  0.7137]]),\n",
       "    x: Batch(\n",
       "           c: tensor([[-0.3600, -1.2195, -1.1781,  0.0177],\n",
       "                      [-0.4009, -0.0703,  0.8264, -1.8957],\n",
       "                      [-0.4698,  1.2763, -0.9830,  1.2150]]),\n",
       "       ),\n",
       ")"
      ]
     },
     "execution_count": 12,
     "metadata": {},
     "output_type": "execute_result"
    }
   ],
   "source": [
    "new_value = torch.randn(2, 3)\n",
    "b.a = new_value\n",
    "\n",
    "b"
   ]
  },
  {
   "cell_type": "code",
   "execution_count": 13,
   "id": "29b1d0bf",
   "metadata": {
    "execution": {
     "iopub.execute_input": "2023-03-06T17:59:03.110553Z",
     "iopub.status.busy": "2023-03-06T17:59:03.109912Z",
     "iopub.status.idle": "2023-03-06T17:59:07.157621Z",
     "shell.execute_reply": "2023-03-06T17:59:07.156742Z"
    }
   },
   "outputs": [
    {
     "name": "stdout",
     "output_type": "stream",
     "text": [
      "497 ns ± 0.165 ns per loop (mean ± std. dev. of 7 runs, 1,000,000 loops each)\n"
     ]
    }
   ],
   "source": [
    "%timeit b.a = new_value"
   ]
  },
  {
   "cell_type": "markdown",
   "id": "b61ad1d0",
   "metadata": {},
   "source": [
    "## Initialization"
   ]
  },
  {
   "cell_type": "markdown",
   "id": "d70f0d54",
   "metadata": {},
   "source": [
    "### TreeValue's Initialization"
   ]
  },
  {
   "cell_type": "code",
   "execution_count": 14,
   "id": "d32a679b",
   "metadata": {
    "execution": {
     "iopub.execute_input": "2023-03-06T17:59:07.161433Z",
     "iopub.status.busy": "2023-03-06T17:59:07.160918Z",
     "iopub.status.idle": "2023-03-06T17:59:13.856889Z",
     "shell.execute_reply": "2023-03-06T17:59:13.855632Z"
    }
   },
   "outputs": [
    {
     "name": "stdout",
     "output_type": "stream",
     "text": [
      "822 ns ± 0.694 ns per loop (mean ± std. dev. of 7 runs, 1,000,000 loops each)\n"
     ]
    }
   ],
   "source": [
    "%timeit FastTreeValue(_TREE_DATA_1)"
   ]
  },
  {
   "cell_type": "markdown",
   "id": "24f3707b",
   "metadata": {},
   "source": [
    "### Tianshou Batch's Initialization"
   ]
  },
  {
   "cell_type": "code",
   "execution_count": 15,
   "id": "ac3958df",
   "metadata": {
    "execution": {
     "iopub.execute_input": "2023-03-06T17:59:13.860143Z",
     "iopub.status.busy": "2023-03-06T17:59:13.859648Z",
     "iopub.status.idle": "2023-03-06T17:59:22.577556Z",
     "shell.execute_reply": "2023-03-06T17:59:22.576240Z"
    }
   },
   "outputs": [
    {
     "name": "stdout",
     "output_type": "stream",
     "text": [
      "10.7 µs ± 11.8 ns per loop (mean ± std. dev. of 7 runs, 100,000 loops each)\n"
     ]
    }
   ],
   "source": [
    "%timeit Batch(**_TREE_DATA_1)"
   ]
  },
  {
   "cell_type": "markdown",
   "id": "1ab82e2d",
   "metadata": {},
   "source": [
    "## Deep Copy Operation"
   ]
  },
  {
   "cell_type": "code",
   "execution_count": 16,
   "id": "210a9442",
   "metadata": {
    "execution": {
     "iopub.execute_input": "2023-03-06T17:59:22.581516Z",
     "iopub.status.busy": "2023-03-06T17:59:22.580908Z",
     "iopub.status.idle": "2023-03-06T17:59:22.585038Z",
     "shell.execute_reply": "2023-03-06T17:59:22.584375Z"
    }
   },
   "outputs": [],
   "source": [
    "import copy"
   ]
  },
  {
   "cell_type": "markdown",
   "id": "5a736274",
   "metadata": {},
   "source": [
    "### Deep Copy of TreeValue"
   ]
  },
  {
   "cell_type": "code",
   "execution_count": 17,
   "id": "f9bcadd6",
   "metadata": {
    "execution": {
     "iopub.execute_input": "2023-03-06T17:59:22.587841Z",
     "iopub.status.busy": "2023-03-06T17:59:22.587506Z",
     "iopub.status.idle": "2023-03-06T17:59:34.205449Z",
     "shell.execute_reply": "2023-03-06T17:59:34.204814Z"
    }
   },
   "outputs": [
    {
     "name": "stdout",
     "output_type": "stream",
     "text": [
      "143 µs ± 401 ns per loop (mean ± std. dev. of 7 runs, 10,000 loops each)\n"
     ]
    }
   ],
   "source": [
    "t3 = FastTreeValue(_TREE_DATA_3)\n",
    "%timeit copy.deepcopy(t3)"
   ]
  },
  {
   "cell_type": "markdown",
   "id": "bf8be7ea",
   "metadata": {},
   "source": [
    "### Deep Copy of Tianshou Batch"
   ]
  },
  {
   "cell_type": "code",
   "execution_count": 18,
   "id": "91998e6f",
   "metadata": {
    "execution": {
     "iopub.execute_input": "2023-03-06T17:59:34.208659Z",
     "iopub.status.busy": "2023-03-06T17:59:34.208144Z",
     "iopub.status.idle": "2023-03-06T17:59:45.840181Z",
     "shell.execute_reply": "2023-03-06T17:59:45.839325Z"
    }
   },
   "outputs": [
    {
     "name": "stdout",
     "output_type": "stream",
     "text": [
      "143 µs ± 519 ns per loop (mean ± std. dev. of 7 runs, 10,000 loops each)\n"
     ]
    }
   ],
   "source": [
    "b3 = Batch(**_TREE_DATA_3)\n",
    "%timeit copy.deepcopy(b3)"
   ]
  },
  {
   "cell_type": "markdown",
   "id": "223162fb",
   "metadata": {},
   "source": [
    "## Stack, Concat and Split Operation"
   ]
  },
  {
   "cell_type": "markdown",
   "id": "85fa4a73",
   "metadata": {},
   "source": [
    "### Performance of TreeValue"
   ]
  },
  {
   "cell_type": "code",
   "execution_count": 19,
   "id": "a0c2b697",
   "metadata": {
    "execution": {
     "iopub.execute_input": "2023-03-06T17:59:45.843906Z",
     "iopub.status.busy": "2023-03-06T17:59:45.843633Z",
     "iopub.status.idle": "2023-03-06T17:59:45.848003Z",
     "shell.execute_reply": "2023-03-06T17:59:45.847353Z"
    }
   },
   "outputs": [],
   "source": [
    "trees = [FastTreeValue(_TREE_DATA_2) for _ in range(8)]"
   ]
  },
  {
   "cell_type": "code",
   "execution_count": 20,
   "id": "017ea5a5",
   "metadata": {
    "execution": {
     "iopub.execute_input": "2023-03-06T17:59:45.851013Z",
     "iopub.status.busy": "2023-03-06T17:59:45.850488Z",
     "iopub.status.idle": "2023-03-06T17:59:45.859079Z",
     "shell.execute_reply": "2023-03-06T17:59:45.858460Z"
    }
   },
   "outputs": [
    {
     "data": {
      "text/plain": [
       "<FastTreeValue 0x7f43e3242a60>\n",
       "├── 'a' --> tensor([[[ 1.1997, -0.6782,  0.5326],\n",
       "│                    [ 0.3010,  1.0589,  0.3923]],\n",
       "│           \n",
       "│                   [[ 1.1997, -0.6782,  0.5326],\n",
       "│                    [ 0.3010,  1.0589,  0.3923]],\n",
       "│           \n",
       "│                   [[ 1.1997, -0.6782,  0.5326],\n",
       "│                    [ 0.3010,  1.0589,  0.3923]],\n",
       "│           \n",
       "│                   [[ 1.1997, -0.6782,  0.5326],\n",
       "│                    [ 0.3010,  1.0589,  0.3923]],\n",
       "│           \n",
       "│                   [[ 1.1997, -0.6782,  0.5326],\n",
       "│                    [ 0.3010,  1.0589,  0.3923]],\n",
       "│           \n",
       "│                   [[ 1.1997, -0.6782,  0.5326],\n",
       "│                    [ 0.3010,  1.0589,  0.3923]],\n",
       "│           \n",
       "│                   [[ 1.1997, -0.6782,  0.5326],\n",
       "│                    [ 0.3010,  1.0589,  0.3923]],\n",
       "│           \n",
       "│                   [[ 1.1997, -0.6782,  0.5326],\n",
       "│                    [ 0.3010,  1.0589,  0.3923]]])\n",
       "└── 'x' --> <FastTreeValue 0x7f448cf82b50>\n",
       "    └── 'c' --> tensor([[[-0.3600, -1.2195, -1.1781,  0.0177],\n",
       "                         [-0.4009, -0.0703,  0.8264, -1.8957],\n",
       "                         [-0.4698,  1.2763, -0.9830,  1.2150]],\n",
       "                \n",
       "                        [[-0.3600, -1.2195, -1.1781,  0.0177],\n",
       "                         [-0.4009, -0.0703,  0.8264, -1.8957],\n",
       "                         [-0.4698,  1.2763, -0.9830,  1.2150]],\n",
       "                \n",
       "                        [[-0.3600, -1.2195, -1.1781,  0.0177],\n",
       "                         [-0.4009, -0.0703,  0.8264, -1.8957],\n",
       "                         [-0.4698,  1.2763, -0.9830,  1.2150]],\n",
       "                \n",
       "                        [[-0.3600, -1.2195, -1.1781,  0.0177],\n",
       "                         [-0.4009, -0.0703,  0.8264, -1.8957],\n",
       "                         [-0.4698,  1.2763, -0.9830,  1.2150]],\n",
       "                \n",
       "                        [[-0.3600, -1.2195, -1.1781,  0.0177],\n",
       "                         [-0.4009, -0.0703,  0.8264, -1.8957],\n",
       "                         [-0.4698,  1.2763, -0.9830,  1.2150]],\n",
       "                \n",
       "                        [[-0.3600, -1.2195, -1.1781,  0.0177],\n",
       "                         [-0.4009, -0.0703,  0.8264, -1.8957],\n",
       "                         [-0.4698,  1.2763, -0.9830,  1.2150]],\n",
       "                \n",
       "                        [[-0.3600, -1.2195, -1.1781,  0.0177],\n",
       "                         [-0.4009, -0.0703,  0.8264, -1.8957],\n",
       "                         [-0.4698,  1.2763, -0.9830,  1.2150]],\n",
       "                \n",
       "                        [[-0.3600, -1.2195, -1.1781,  0.0177],\n",
       "                         [-0.4009, -0.0703,  0.8264, -1.8957],\n",
       "                         [-0.4698,  1.2763, -0.9830,  1.2150]]])"
      ]
     },
     "execution_count": 20,
     "metadata": {},
     "output_type": "execute_result"
    }
   ],
   "source": [
    "t_stack = FastTreeValue.func(subside=True)(torch.stack)\n",
    "\n",
    "t_stack(trees)"
   ]
  },
  {
   "cell_type": "code",
   "execution_count": 21,
   "id": "f8b3f415",
   "metadata": {
    "execution": {
     "iopub.execute_input": "2023-03-06T17:59:45.862073Z",
     "iopub.status.busy": "2023-03-06T17:59:45.861716Z",
     "iopub.status.idle": "2023-03-06T17:59:48.410132Z",
     "shell.execute_reply": "2023-03-06T17:59:48.409211Z"
    }
   },
   "outputs": [
    {
     "name": "stdout",
     "output_type": "stream",
     "text": [
      "31.3 µs ± 56.5 ns per loop (mean ± std. dev. of 7 runs, 10,000 loops each)\n"
     ]
    }
   ],
   "source": [
    "%timeit t_stack(trees)"
   ]
  },
  {
   "cell_type": "code",
   "execution_count": 22,
   "id": "94b56771",
   "metadata": {
    "execution": {
     "iopub.execute_input": "2023-03-06T17:59:48.413807Z",
     "iopub.status.busy": "2023-03-06T17:59:48.413414Z",
     "iopub.status.idle": "2023-03-06T17:59:48.422021Z",
     "shell.execute_reply": "2023-03-06T17:59:48.421398Z"
    }
   },
   "outputs": [
    {
     "data": {
      "text/plain": [
       "<FastTreeValue 0x7f446442dc10>\n",
       "├── 'a' --> tensor([[ 1.1997, -0.6782,  0.5326],\n",
       "│                   [ 0.3010,  1.0589,  0.3923],\n",
       "│                   [ 1.1997, -0.6782,  0.5326],\n",
       "│                   [ 0.3010,  1.0589,  0.3923],\n",
       "│                   [ 1.1997, -0.6782,  0.5326],\n",
       "│                   [ 0.3010,  1.0589,  0.3923],\n",
       "│                   [ 1.1997, -0.6782,  0.5326],\n",
       "│                   [ 0.3010,  1.0589,  0.3923],\n",
       "│                   [ 1.1997, -0.6782,  0.5326],\n",
       "│                   [ 0.3010,  1.0589,  0.3923],\n",
       "│                   [ 1.1997, -0.6782,  0.5326],\n",
       "│                   [ 0.3010,  1.0589,  0.3923],\n",
       "│                   [ 1.1997, -0.6782,  0.5326],\n",
       "│                   [ 0.3010,  1.0589,  0.3923],\n",
       "│                   [ 1.1997, -0.6782,  0.5326],\n",
       "│                   [ 0.3010,  1.0589,  0.3923]])\n",
       "└── 'x' --> <FastTreeValue 0x7f43e2bffdf0>\n",
       "    └── 'c' --> tensor([[-0.3600, -1.2195, -1.1781,  0.0177],\n",
       "                        [-0.4009, -0.0703,  0.8264, -1.8957],\n",
       "                        [-0.4698,  1.2763, -0.9830,  1.2150],\n",
       "                        [-0.3600, -1.2195, -1.1781,  0.0177],\n",
       "                        [-0.4009, -0.0703,  0.8264, -1.8957],\n",
       "                        [-0.4698,  1.2763, -0.9830,  1.2150],\n",
       "                        [-0.3600, -1.2195, -1.1781,  0.0177],\n",
       "                        [-0.4009, -0.0703,  0.8264, -1.8957],\n",
       "                        [-0.4698,  1.2763, -0.9830,  1.2150],\n",
       "                        [-0.3600, -1.2195, -1.1781,  0.0177],\n",
       "                        [-0.4009, -0.0703,  0.8264, -1.8957],\n",
       "                        [-0.4698,  1.2763, -0.9830,  1.2150],\n",
       "                        [-0.3600, -1.2195, -1.1781,  0.0177],\n",
       "                        [-0.4009, -0.0703,  0.8264, -1.8957],\n",
       "                        [-0.4698,  1.2763, -0.9830,  1.2150],\n",
       "                        [-0.3600, -1.2195, -1.1781,  0.0177],\n",
       "                        [-0.4009, -0.0703,  0.8264, -1.8957],\n",
       "                        [-0.4698,  1.2763, -0.9830,  1.2150],\n",
       "                        [-0.3600, -1.2195, -1.1781,  0.0177],\n",
       "                        [-0.4009, -0.0703,  0.8264, -1.8957],\n",
       "                        [-0.4698,  1.2763, -0.9830,  1.2150],\n",
       "                        [-0.3600, -1.2195, -1.1781,  0.0177],\n",
       "                        [-0.4009, -0.0703,  0.8264, -1.8957],\n",
       "                        [-0.4698,  1.2763, -0.9830,  1.2150]])"
      ]
     },
     "execution_count": 22,
     "metadata": {},
     "output_type": "execute_result"
    }
   ],
   "source": [
    "t_cat = FastTreeValue.func(subside=True)(torch.cat)\n",
    "\n",
    "t_cat(trees)"
   ]
  },
  {
   "cell_type": "code",
   "execution_count": 23,
   "id": "5e9c06a6",
   "metadata": {
    "execution": {
     "iopub.execute_input": "2023-03-06T17:59:48.424927Z",
     "iopub.status.busy": "2023-03-06T17:59:48.424408Z",
     "iopub.status.idle": "2023-03-06T17:59:50.830812Z",
     "shell.execute_reply": "2023-03-06T17:59:50.829829Z"
    }
   },
   "outputs": [
    {
     "name": "stdout",
     "output_type": "stream",
     "text": [
      "29.5 µs ± 58.7 ns per loop (mean ± std. dev. of 7 runs, 10,000 loops each)\n"
     ]
    }
   ],
   "source": [
    "%timeit t_cat(trees)"
   ]
  },
  {
   "cell_type": "code",
   "execution_count": 24,
   "id": "a3ab5c8f",
   "metadata": {
    "execution": {
     "iopub.execute_input": "2023-03-06T17:59:50.834213Z",
     "iopub.status.busy": "2023-03-06T17:59:50.833782Z",
     "iopub.status.idle": "2023-03-06T17:59:55.433003Z",
     "shell.execute_reply": "2023-03-06T17:59:55.432144Z"
    }
   },
   "outputs": [
    {
     "name": "stdout",
     "output_type": "stream",
     "text": [
      "56.6 µs ± 99.2 ns per loop (mean ± std. dev. of 7 runs, 10,000 loops each)\n"
     ]
    }
   ],
   "source": [
    "t_split = FastTreeValue.func(rise=True)(torch.split)\n",
    "tree = FastTreeValue({\n",
    "    'obs': torch.randn(8, 4, 84, 84),\n",
    "    'action': torch.randint(0, 6, size=(8, 1,)),\n",
    "    'reward': torch.rand(8, 1),\n",
    "})\n",
    "\n",
    "%timeit t_split(tree, 1)"
   ]
  },
  {
   "cell_type": "markdown",
   "id": "31c3ec0b",
   "metadata": {},
   "source": [
    "### Performance of Tianshou Batch"
   ]
  },
  {
   "cell_type": "code",
   "execution_count": 25,
   "id": "9ead828a",
   "metadata": {
    "execution": {
     "iopub.execute_input": "2023-03-06T17:59:55.436354Z",
     "iopub.status.busy": "2023-03-06T17:59:55.435836Z",
     "iopub.status.idle": "2023-03-06T17:59:55.443822Z",
     "shell.execute_reply": "2023-03-06T17:59:55.443132Z"
    }
   },
   "outputs": [
    {
     "data": {
      "text/plain": [
       "Batch(\n",
       "    x: Batch(\n",
       "           c: tensor([[[-0.3600, -1.2195, -1.1781,  0.0177],\n",
       "                       [-0.4009, -0.0703,  0.8264, -1.8957],\n",
       "                       [-0.4698,  1.2763, -0.9830,  1.2150]],\n",
       "              \n",
       "                      [[-0.3600, -1.2195, -1.1781,  0.0177],\n",
       "                       [-0.4009, -0.0703,  0.8264, -1.8957],\n",
       "                       [-0.4698,  1.2763, -0.9830,  1.2150]],\n",
       "              \n",
       "                      [[-0.3600, -1.2195, -1.1781,  0.0177],\n",
       "                       [-0.4009, -0.0703,  0.8264, -1.8957],\n",
       "                       [-0.4698,  1.2763, -0.9830,  1.2150]],\n",
       "              \n",
       "                      [[-0.3600, -1.2195, -1.1781,  0.0177],\n",
       "                       [-0.4009, -0.0703,  0.8264, -1.8957],\n",
       "                       [-0.4698,  1.2763, -0.9830,  1.2150]],\n",
       "              \n",
       "                      [[-0.3600, -1.2195, -1.1781,  0.0177],\n",
       "                       [-0.4009, -0.0703,  0.8264, -1.8957],\n",
       "                       [-0.4698,  1.2763, -0.9830,  1.2150]],\n",
       "              \n",
       "                      [[-0.3600, -1.2195, -1.1781,  0.0177],\n",
       "                       [-0.4009, -0.0703,  0.8264, -1.8957],\n",
       "                       [-0.4698,  1.2763, -0.9830,  1.2150]],\n",
       "              \n",
       "                      [[-0.3600, -1.2195, -1.1781,  0.0177],\n",
       "                       [-0.4009, -0.0703,  0.8264, -1.8957],\n",
       "                       [-0.4698,  1.2763, -0.9830,  1.2150]],\n",
       "              \n",
       "                      [[-0.3600, -1.2195, -1.1781,  0.0177],\n",
       "                       [-0.4009, -0.0703,  0.8264, -1.8957],\n",
       "                       [-0.4698,  1.2763, -0.9830,  1.2150]]]),\n",
       "       ),\n",
       "    a: tensor([[[ 1.1997, -0.6782,  0.5326],\n",
       "                [ 0.3010,  1.0589,  0.3923]],\n",
       "       \n",
       "               [[ 1.1997, -0.6782,  0.5326],\n",
       "                [ 0.3010,  1.0589,  0.3923]],\n",
       "       \n",
       "               [[ 1.1997, -0.6782,  0.5326],\n",
       "                [ 0.3010,  1.0589,  0.3923]],\n",
       "       \n",
       "               [[ 1.1997, -0.6782,  0.5326],\n",
       "                [ 0.3010,  1.0589,  0.3923]],\n",
       "       \n",
       "               [[ 1.1997, -0.6782,  0.5326],\n",
       "                [ 0.3010,  1.0589,  0.3923]],\n",
       "       \n",
       "               [[ 1.1997, -0.6782,  0.5326],\n",
       "                [ 0.3010,  1.0589,  0.3923]],\n",
       "       \n",
       "               [[ 1.1997, -0.6782,  0.5326],\n",
       "                [ 0.3010,  1.0589,  0.3923]],\n",
       "       \n",
       "               [[ 1.1997, -0.6782,  0.5326],\n",
       "                [ 0.3010,  1.0589,  0.3923]]]),\n",
       ")"
      ]
     },
     "execution_count": 25,
     "metadata": {},
     "output_type": "execute_result"
    }
   ],
   "source": [
    "batches = [Batch(**_TREE_DATA_2) for _ in range(8)]\n",
    "\n",
    "Batch.stack(batches)"
   ]
  },
  {
   "cell_type": "code",
   "execution_count": 26,
   "id": "ec9037a3",
   "metadata": {
    "execution": {
     "iopub.execute_input": "2023-03-06T17:59:55.446835Z",
     "iopub.status.busy": "2023-03-06T17:59:55.446204Z",
     "iopub.status.idle": "2023-03-06T18:00:01.780902Z",
     "shell.execute_reply": "2023-03-06T18:00:01.780002Z"
    }
   },
   "outputs": [
    {
     "name": "stdout",
     "output_type": "stream",
     "text": [
      "77.8 µs ± 172 ns per loop (mean ± std. dev. of 7 runs, 10,000 loops each)\n"
     ]
    }
   ],
   "source": [
    "%timeit Batch.stack(batches)"
   ]
  },
  {
   "cell_type": "code",
   "execution_count": 27,
   "id": "cb8ab77e",
   "metadata": {
    "execution": {
     "iopub.execute_input": "2023-03-06T18:00:01.785064Z",
     "iopub.status.busy": "2023-03-06T18:00:01.784421Z",
     "iopub.status.idle": "2023-03-06T18:00:01.792598Z",
     "shell.execute_reply": "2023-03-06T18:00:01.791947Z"
    }
   },
   "outputs": [
    {
     "data": {
      "text/plain": [
       "Batch(\n",
       "    x: Batch(\n",
       "           c: tensor([[-0.3600, -1.2195, -1.1781,  0.0177],\n",
       "                      [-0.4009, -0.0703,  0.8264, -1.8957],\n",
       "                      [-0.4698,  1.2763, -0.9830,  1.2150],\n",
       "                      [-0.3600, -1.2195, -1.1781,  0.0177],\n",
       "                      [-0.4009, -0.0703,  0.8264, -1.8957],\n",
       "                      [-0.4698,  1.2763, -0.9830,  1.2150],\n",
       "                      [-0.3600, -1.2195, -1.1781,  0.0177],\n",
       "                      [-0.4009, -0.0703,  0.8264, -1.8957],\n",
       "                      [-0.4698,  1.2763, -0.9830,  1.2150],\n",
       "                      [-0.3600, -1.2195, -1.1781,  0.0177],\n",
       "                      [-0.4009, -0.0703,  0.8264, -1.8957],\n",
       "                      [-0.4698,  1.2763, -0.9830,  1.2150],\n",
       "                      [-0.3600, -1.2195, -1.1781,  0.0177],\n",
       "                      [-0.4009, -0.0703,  0.8264, -1.8957],\n",
       "                      [-0.4698,  1.2763, -0.9830,  1.2150],\n",
       "                      [-0.3600, -1.2195, -1.1781,  0.0177],\n",
       "                      [-0.4009, -0.0703,  0.8264, -1.8957],\n",
       "                      [-0.4698,  1.2763, -0.9830,  1.2150],\n",
       "                      [-0.3600, -1.2195, -1.1781,  0.0177],\n",
       "                      [-0.4009, -0.0703,  0.8264, -1.8957],\n",
       "                      [-0.4698,  1.2763, -0.9830,  1.2150],\n",
       "                      [-0.3600, -1.2195, -1.1781,  0.0177],\n",
       "                      [-0.4009, -0.0703,  0.8264, -1.8957],\n",
       "                      [-0.4698,  1.2763, -0.9830,  1.2150]]),\n",
       "       ),\n",
       "    a: tensor([[ 1.1997, -0.6782,  0.5326],\n",
       "               [ 0.3010,  1.0589,  0.3923],\n",
       "               [ 1.1997, -0.6782,  0.5326],\n",
       "               [ 0.3010,  1.0589,  0.3923],\n",
       "               [ 1.1997, -0.6782,  0.5326],\n",
       "               [ 0.3010,  1.0589,  0.3923],\n",
       "               [ 1.1997, -0.6782,  0.5326],\n",
       "               [ 0.3010,  1.0589,  0.3923],\n",
       "               [ 1.1997, -0.6782,  0.5326],\n",
       "               [ 0.3010,  1.0589,  0.3923],\n",
       "               [ 1.1997, -0.6782,  0.5326],\n",
       "               [ 0.3010,  1.0589,  0.3923],\n",
       "               [ 1.1997, -0.6782,  0.5326],\n",
       "               [ 0.3010,  1.0589,  0.3923],\n",
       "               [ 1.1997, -0.6782,  0.5326],\n",
       "               [ 0.3010,  1.0589,  0.3923]]),\n",
       ")"
      ]
     },
     "execution_count": 27,
     "metadata": {},
     "output_type": "execute_result"
    }
   ],
   "source": [
    "Batch.cat(batches)"
   ]
  },
  {
   "cell_type": "code",
   "execution_count": 28,
   "id": "18dfb045",
   "metadata": {
    "execution": {
     "iopub.execute_input": "2023-03-06T18:00:01.795607Z",
     "iopub.status.busy": "2023-03-06T18:00:01.795246Z",
     "iopub.status.idle": "2023-03-06T18:00:13.460382Z",
     "shell.execute_reply": "2023-03-06T18:00:13.459571Z"
    }
   },
   "outputs": [
    {
     "name": "stdout",
     "output_type": "stream",
     "text": [
      "144 µs ± 254 ns per loop (mean ± std. dev. of 7 runs, 10,000 loops each)\n"
     ]
    }
   ],
   "source": [
    "%timeit Batch.cat(batches)"
   ]
  },
  {
   "cell_type": "code",
   "execution_count": 29,
   "id": "c6688e51",
   "metadata": {
    "execution": {
     "iopub.execute_input": "2023-03-06T18:00:13.463811Z",
     "iopub.status.busy": "2023-03-06T18:00:13.463242Z",
     "iopub.status.idle": "2023-03-06T18:00:16.085636Z",
     "shell.execute_reply": "2023-03-06T18:00:16.084987Z"
    }
   },
   "outputs": [
    {
     "name": "stdout",
     "output_type": "stream",
     "text": [
      "322 µs ± 573 ns per loop (mean ± std. dev. of 7 runs, 1,000 loops each)\n"
     ]
    }
   ],
   "source": [
    "batch = Batch({\n",
    "    'obs': torch.randn(8, 4, 84, 84),\n",
    "    'action': torch.randint(0, 6, size=(8, 1,)),\n",
    "    'reward': torch.rand(8, 1)}\n",
    ")\n",
    "\n",
    "%timeit list(Batch.split(batch, 1, shuffle=False, merge_last=True))"
   ]
  },
  {
   "cell_type": "code",
   "execution_count": null,
   "id": "2539fbd9",
   "metadata": {},
   "outputs": [],
   "source": []
  }
 ],
 "metadata": {
  "kernelspec": {
   "display_name": "Python 3 (ipykernel)",
   "language": "python",
   "name": "python3"
  },
  "language_info": {
   "codemirror_mode": {
    "name": "ipython",
    "version": 3
   },
   "file_extension": ".py",
   "mimetype": "text/x-python",
   "name": "python",
   "nbconvert_exporter": "python",
   "pygments_lexer": "ipython3",
   "version": "3.8.16"
  }
 },
 "nbformat": 4,
 "nbformat_minor": 5
}
