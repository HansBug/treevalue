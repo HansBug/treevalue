{
 "cells": [
  {
   "cell_type": "markdown",
   "id": "9d39d946",
   "metadata": {},
   "source": [
    "# Comparison Between TreeValue and Tianshou Batch"
   ]
  },
  {
   "cell_type": "markdown",
   "id": "3c6db2d4",
   "metadata": {},
   "source": [
    "In this section, we will take a look at the feature and performance of the [Tianshou Batch](https://github.com/thu-ml/tianshou) library, which is developed by Tsinghua Machine Learning Group."
   ]
  },
  {
   "cell_type": "markdown",
   "id": "069361b0",
   "metadata": {},
   "source": [
    "Before starting the comparison, let us define some thing."
   ]
  },
  {
   "cell_type": "code",
   "execution_count": 1,
   "id": "06fc8d26",
   "metadata": {
    "execution": {
     "iopub.execute_input": "2023-02-12T17:31:56.577758Z",
     "iopub.status.busy": "2023-02-12T17:31:56.577299Z",
     "iopub.status.idle": "2023-02-12T17:31:57.474875Z",
     "shell.execute_reply": "2023-02-12T17:31:57.474250Z"
    }
   },
   "outputs": [
    {
     "name": "stderr",
     "output_type": "stream",
     "text": [
      "/opt/hostedtoolcache/Python/3.8.16/x64/lib/python3.8/site-packages/tqdm/auto.py:22: TqdmWarning: IProgress not found. Please update jupyter and ipywidgets. See https://ipywidgets.readthedocs.io/en/stable/user_install.html\n",
      "  from .autonotebook import tqdm as notebook_tqdm\n"
     ]
    }
   ],
   "source": [
    "import torch \n",
    "\n",
    "_TREE_DATA_1 = {'a': 1, 'b': 2, 'x': {'c': 3, 'd': 4}}\n",
    "_TREE_DATA_2 = {\n",
    "    'a': torch.randn(2, 3), \n",
    "    'x': {\n",
    "        'c': torch.randn(3, 4)\n",
    "    },\n",
    "}\n",
    "_TREE_DATA_3 = {\n",
    "    'obs': torch.randn(4, 84, 84),\n",
    "    'action': torch.randint(0, 6, size=(1,)),\n",
    "    'reward': torch.rand(1),\n",
    "}"
   ]
  },
  {
   "cell_type": "markdown",
   "id": "83461b25",
   "metadata": {},
   "source": [
    "## Read and Write Operation"
   ]
  },
  {
   "cell_type": "markdown",
   "id": "067b3f73",
   "metadata": {},
   "source": [
    "Reading and writing are the two most common operations in the tree data structure based on the data model (TreeValue and Tianshou Batch both belong to this type), so this section will compare the reading and writing performance of these two libraries."
   ]
  },
  {
   "cell_type": "markdown",
   "id": "5d09a5b7",
   "metadata": {},
   "source": [
    "### TreeValue's Get and Set"
   ]
  },
  {
   "cell_type": "code",
   "execution_count": 2,
   "id": "9519c4bb",
   "metadata": {
    "execution": {
     "iopub.execute_input": "2023-02-12T17:31:57.478193Z",
     "iopub.status.busy": "2023-02-12T17:31:57.477641Z",
     "iopub.status.idle": "2023-02-12T17:31:57.510115Z",
     "shell.execute_reply": "2023-02-12T17:31:57.509532Z"
    }
   },
   "outputs": [],
   "source": [
    "from treevalue import FastTreeValue\n",
    "\n",
    "t = FastTreeValue(_TREE_DATA_2)"
   ]
  },
  {
   "cell_type": "code",
   "execution_count": 3,
   "id": "11c37677",
   "metadata": {
    "execution": {
     "iopub.execute_input": "2023-02-12T17:31:57.512902Z",
     "iopub.status.busy": "2023-02-12T17:31:57.512575Z",
     "iopub.status.idle": "2023-02-12T17:31:57.521715Z",
     "shell.execute_reply": "2023-02-12T17:31:57.521129Z"
    }
   },
   "outputs": [
    {
     "data": {
      "text/plain": [
       "<FastTreeValue 0x7f8effb6fa00>\n",
       "├── 'a' --> tensor([[ 1.3329,  0.8161,  0.4443],\n",
       "│                   [-0.4086,  1.7039,  1.3857]])\n",
       "└── 'x' --> <FastTreeValue 0x7f8effb75340>\n",
       "    └── 'c' --> tensor([[-0.2031, -1.3267, -0.2861,  0.5325],\n",
       "                        [-0.5568,  0.6618,  2.6936, -0.3328],\n",
       "                        [ 1.1556, -1.7019, -0.8625,  0.3515]])"
      ]
     },
     "execution_count": 3,
     "metadata": {},
     "output_type": "execute_result"
    }
   ],
   "source": [
    "t"
   ]
  },
  {
   "cell_type": "code",
   "execution_count": 4,
   "id": "fd70b0b9",
   "metadata": {
    "execution": {
     "iopub.execute_input": "2023-02-12T17:31:57.524149Z",
     "iopub.status.busy": "2023-02-12T17:31:57.523830Z",
     "iopub.status.idle": "2023-02-12T17:31:57.528235Z",
     "shell.execute_reply": "2023-02-12T17:31:57.527620Z"
    }
   },
   "outputs": [
    {
     "data": {
      "text/plain": [
       "tensor([[ 1.3329,  0.8161,  0.4443],\n",
       "        [-0.4086,  1.7039,  1.3857]])"
      ]
     },
     "execution_count": 4,
     "metadata": {},
     "output_type": "execute_result"
    }
   ],
   "source": [
    "t.a"
   ]
  },
  {
   "cell_type": "code",
   "execution_count": 5,
   "id": "c18197bd",
   "metadata": {
    "execution": {
     "iopub.execute_input": "2023-02-12T17:31:57.530658Z",
     "iopub.status.busy": "2023-02-12T17:31:57.530332Z",
     "iopub.status.idle": "2023-02-12T17:32:02.488476Z",
     "shell.execute_reply": "2023-02-12T17:32:02.487753Z"
    }
   },
   "outputs": [
    {
     "name": "stdout",
     "output_type": "stream",
     "text": [
      "61.3 ns ± 0.0702 ns per loop (mean ± std. dev. of 7 runs, 10,000,000 loops each)\n"
     ]
    }
   ],
   "source": [
    "%timeit t.a"
   ]
  },
  {
   "cell_type": "code",
   "execution_count": 6,
   "id": "bd52f867",
   "metadata": {
    "execution": {
     "iopub.execute_input": "2023-02-12T17:32:02.491881Z",
     "iopub.status.busy": "2023-02-12T17:32:02.491232Z",
     "iopub.status.idle": "2023-02-12T17:32:02.497411Z",
     "shell.execute_reply": "2023-02-12T17:32:02.496789Z"
    }
   },
   "outputs": [
    {
     "data": {
      "text/plain": [
       "<FastTreeValue 0x7f8effb6fa00>\n",
       "├── 'a' --> tensor([[ 1.2933, -0.1150, -1.1617],\n",
       "│                   [ 0.9862,  0.9825,  1.4717]])\n",
       "└── 'x' --> <FastTreeValue 0x7f8effb75340>\n",
       "    └── 'c' --> tensor([[-0.2031, -1.3267, -0.2861,  0.5325],\n",
       "                        [-0.5568,  0.6618,  2.6936, -0.3328],\n",
       "                        [ 1.1556, -1.7019, -0.8625,  0.3515]])"
      ]
     },
     "execution_count": 6,
     "metadata": {},
     "output_type": "execute_result"
    }
   ],
   "source": [
    "new_value = torch.randn(2, 3)\n",
    "t.a = new_value\n",
    "\n",
    "t"
   ]
  },
  {
   "cell_type": "code",
   "execution_count": 7,
   "id": "bbe04d1c",
   "metadata": {
    "execution": {
     "iopub.execute_input": "2023-02-12T17:32:02.500153Z",
     "iopub.status.busy": "2023-02-12T17:32:02.499769Z",
     "iopub.status.idle": "2023-02-12T17:32:07.479486Z",
     "shell.execute_reply": "2023-02-12T17:32:07.478816Z"
    }
   },
   "outputs": [
    {
     "name": "stdout",
     "output_type": "stream",
     "text": [
      "61.3 ns ± 0.0282 ns per loop (mean ± std. dev. of 7 runs, 10,000,000 loops each)\n"
     ]
    }
   ],
   "source": [
    "%timeit t.a = new_value"
   ]
  },
  {
   "cell_type": "markdown",
   "id": "48c49731",
   "metadata": {},
   "source": [
    "### Tianshou Batch's Get and Set"
   ]
  },
  {
   "cell_type": "code",
   "execution_count": 8,
   "id": "f1bb14c1",
   "metadata": {
    "execution": {
     "iopub.execute_input": "2023-02-12T17:32:07.482569Z",
     "iopub.status.busy": "2023-02-12T17:32:07.482220Z",
     "iopub.status.idle": "2023-02-12T17:32:07.814626Z",
     "shell.execute_reply": "2023-02-12T17:32:07.813966Z"
    }
   },
   "outputs": [],
   "source": [
    "from tianshou.data import Batch\n",
    "\n",
    "b = Batch(**_TREE_DATA_2)"
   ]
  },
  {
   "cell_type": "code",
   "execution_count": 9,
   "id": "cb0777c3",
   "metadata": {
    "execution": {
     "iopub.execute_input": "2023-02-12T17:32:07.818019Z",
     "iopub.status.busy": "2023-02-12T17:32:07.817503Z",
     "iopub.status.idle": "2023-02-12T17:32:07.823473Z",
     "shell.execute_reply": "2023-02-12T17:32:07.822914Z"
    }
   },
   "outputs": [
    {
     "data": {
      "text/plain": [
       "Batch(\n",
       "    a: tensor([[ 1.3329,  0.8161,  0.4443],\n",
       "               [-0.4086,  1.7039,  1.3857]]),\n",
       "    x: Batch(\n",
       "           c: tensor([[-0.2031, -1.3267, -0.2861,  0.5325],\n",
       "                      [-0.5568,  0.6618,  2.6936, -0.3328],\n",
       "                      [ 1.1556, -1.7019, -0.8625,  0.3515]]),\n",
       "       ),\n",
       ")"
      ]
     },
     "execution_count": 9,
     "metadata": {},
     "output_type": "execute_result"
    }
   ],
   "source": [
    "b"
   ]
  },
  {
   "cell_type": "code",
   "execution_count": 10,
   "id": "43ef8ea3",
   "metadata": {
    "execution": {
     "iopub.execute_input": "2023-02-12T17:32:07.825910Z",
     "iopub.status.busy": "2023-02-12T17:32:07.825576Z",
     "iopub.status.idle": "2023-02-12T17:32:07.830110Z",
     "shell.execute_reply": "2023-02-12T17:32:07.829491Z"
    }
   },
   "outputs": [
    {
     "data": {
      "text/plain": [
       "tensor([[ 1.3329,  0.8161,  0.4443],\n",
       "        [-0.4086,  1.7039,  1.3857]])"
      ]
     },
     "execution_count": 10,
     "metadata": {},
     "output_type": "execute_result"
    }
   ],
   "source": [
    "b.a"
   ]
  },
  {
   "cell_type": "code",
   "execution_count": 11,
   "id": "b785ab72",
   "metadata": {
    "execution": {
     "iopub.execute_input": "2023-02-12T17:32:07.832866Z",
     "iopub.status.busy": "2023-02-12T17:32:07.832410Z",
     "iopub.status.idle": "2023-02-12T17:32:12.595576Z",
     "shell.execute_reply": "2023-02-12T17:32:12.594829Z"
    }
   },
   "outputs": [
    {
     "name": "stdout",
     "output_type": "stream",
     "text": [
      "58.6 ns ± 0.019 ns per loop (mean ± std. dev. of 7 runs, 10,000,000 loops each)\n"
     ]
    }
   ],
   "source": [
    "%timeit b.a"
   ]
  },
  {
   "cell_type": "code",
   "execution_count": 12,
   "id": "ad54dc69",
   "metadata": {
    "execution": {
     "iopub.execute_input": "2023-02-12T17:32:12.598342Z",
     "iopub.status.busy": "2023-02-12T17:32:12.597981Z",
     "iopub.status.idle": "2023-02-12T17:32:12.603667Z",
     "shell.execute_reply": "2023-02-12T17:32:12.603059Z"
    }
   },
   "outputs": [
    {
     "data": {
      "text/plain": [
       "Batch(\n",
       "    a: tensor([[ 1.1765, -0.3319, -0.8142],\n",
       "               [-1.4743, -0.2655,  0.1244]]),\n",
       "    x: Batch(\n",
       "           c: tensor([[-0.2031, -1.3267, -0.2861,  0.5325],\n",
       "                      [-0.5568,  0.6618,  2.6936, -0.3328],\n",
       "                      [ 1.1556, -1.7019, -0.8625,  0.3515]]),\n",
       "       ),\n",
       ")"
      ]
     },
     "execution_count": 12,
     "metadata": {},
     "output_type": "execute_result"
    }
   ],
   "source": [
    "new_value = torch.randn(2, 3)\n",
    "b.a = new_value\n",
    "\n",
    "b"
   ]
  },
  {
   "cell_type": "code",
   "execution_count": 13,
   "id": "29b1d0bf",
   "metadata": {
    "execution": {
     "iopub.execute_input": "2023-02-12T17:32:12.606030Z",
     "iopub.status.busy": "2023-02-12T17:32:12.605690Z",
     "iopub.status.idle": "2023-02-12T17:32:16.562640Z",
     "shell.execute_reply": "2023-02-12T17:32:16.561931Z"
    }
   },
   "outputs": [
    {
     "name": "stdout",
     "output_type": "stream",
     "text": [
      "487 ns ± 0.0627 ns per loop (mean ± std. dev. of 7 runs, 1,000,000 loops each)\n"
     ]
    }
   ],
   "source": [
    "%timeit b.a = new_value"
   ]
  },
  {
   "cell_type": "markdown",
   "id": "b61ad1d0",
   "metadata": {},
   "source": [
    "## Initialization"
   ]
  },
  {
   "cell_type": "markdown",
   "id": "d70f0d54",
   "metadata": {},
   "source": [
    "### TreeValue's Initialization"
   ]
  },
  {
   "cell_type": "code",
   "execution_count": 14,
   "id": "d32a679b",
   "metadata": {
    "execution": {
     "iopub.execute_input": "2023-02-12T17:32:16.566038Z",
     "iopub.status.busy": "2023-02-12T17:32:16.565511Z",
     "iopub.status.idle": "2023-02-12T17:32:23.383771Z",
     "shell.execute_reply": "2023-02-12T17:32:23.383062Z"
    }
   },
   "outputs": [
    {
     "name": "stdout",
     "output_type": "stream",
     "text": [
      "840 ns ± 0.327 ns per loop (mean ± std. dev. of 7 runs, 1,000,000 loops each)\n"
     ]
    }
   ],
   "source": [
    "%timeit FastTreeValue(_TREE_DATA_1)"
   ]
  },
  {
   "cell_type": "markdown",
   "id": "24f3707b",
   "metadata": {},
   "source": [
    "### Tianshou Batch's Initialization"
   ]
  },
  {
   "cell_type": "code",
   "execution_count": 15,
   "id": "ac3958df",
   "metadata": {
    "execution": {
     "iopub.execute_input": "2023-02-12T17:32:23.387130Z",
     "iopub.status.busy": "2023-02-12T17:32:23.386489Z",
     "iopub.status.idle": "2023-02-12T17:32:32.658478Z",
     "shell.execute_reply": "2023-02-12T17:32:32.657769Z"
    }
   },
   "outputs": [
    {
     "name": "stdout",
     "output_type": "stream",
     "text": [
      "11.4 µs ± 31.8 ns per loop (mean ± std. dev. of 7 runs, 100,000 loops each)\n"
     ]
    }
   ],
   "source": [
    "%timeit Batch(**_TREE_DATA_1)"
   ]
  },
  {
   "cell_type": "markdown",
   "id": "1ab82e2d",
   "metadata": {},
   "source": [
    "## Deep Copy Operation"
   ]
  },
  {
   "cell_type": "code",
   "execution_count": 16,
   "id": "210a9442",
   "metadata": {
    "execution": {
     "iopub.execute_input": "2023-02-12T17:32:32.661779Z",
     "iopub.status.busy": "2023-02-12T17:32:32.661281Z",
     "iopub.status.idle": "2023-02-12T17:32:32.666009Z",
     "shell.execute_reply": "2023-02-12T17:32:32.664705Z"
    }
   },
   "outputs": [],
   "source": [
    "import copy"
   ]
  },
  {
   "cell_type": "markdown",
   "id": "5a736274",
   "metadata": {},
   "source": [
    "### Deep Copy of TreeValue"
   ]
  },
  {
   "cell_type": "code",
   "execution_count": 17,
   "id": "f9bcadd6",
   "metadata": {
    "execution": {
     "iopub.execute_input": "2023-02-12T17:32:32.668862Z",
     "iopub.status.busy": "2023-02-12T17:32:32.668391Z",
     "iopub.status.idle": "2023-02-12T17:32:43.908702Z",
     "shell.execute_reply": "2023-02-12T17:32:43.908148Z"
    }
   },
   "outputs": [
    {
     "name": "stdout",
     "output_type": "stream",
     "text": [
      "139 µs ± 6.26 µs per loop (mean ± std. dev. of 7 runs, 10,000 loops each)\n"
     ]
    }
   ],
   "source": [
    "t3 = FastTreeValue(_TREE_DATA_3)\n",
    "%timeit copy.deepcopy(t3)"
   ]
  },
  {
   "cell_type": "markdown",
   "id": "bf8be7ea",
   "metadata": {},
   "source": [
    "### Deep Copy of Tianshou Batch"
   ]
  },
  {
   "cell_type": "code",
   "execution_count": 18,
   "id": "91998e6f",
   "metadata": {
    "execution": {
     "iopub.execute_input": "2023-02-12T17:32:43.911985Z",
     "iopub.status.busy": "2023-02-12T17:32:43.911298Z",
     "iopub.status.idle": "2023-02-12T17:32:55.142817Z",
     "shell.execute_reply": "2023-02-12T17:32:55.142241Z"
    }
   },
   "outputs": [
    {
     "name": "stdout",
     "output_type": "stream",
     "text": [
      "138 µs ± 187 ns per loop (mean ± std. dev. of 7 runs, 10,000 loops each)\n"
     ]
    }
   ],
   "source": [
    "b3 = Batch(**_TREE_DATA_3)\n",
    "%timeit copy.deepcopy(b3)"
   ]
  },
  {
   "cell_type": "markdown",
   "id": "223162fb",
   "metadata": {},
   "source": [
    "## Stack, Concat and Split Operation"
   ]
  },
  {
   "cell_type": "markdown",
   "id": "85fa4a73",
   "metadata": {},
   "source": [
    "### Performance of TreeValue"
   ]
  },
  {
   "cell_type": "code",
   "execution_count": 19,
   "id": "a0c2b697",
   "metadata": {
    "execution": {
     "iopub.execute_input": "2023-02-12T17:32:55.145542Z",
     "iopub.status.busy": "2023-02-12T17:32:55.145073Z",
     "iopub.status.idle": "2023-02-12T17:32:55.148426Z",
     "shell.execute_reply": "2023-02-12T17:32:55.147908Z"
    }
   },
   "outputs": [],
   "source": [
    "trees = [FastTreeValue(_TREE_DATA_2) for _ in range(8)]"
   ]
  },
  {
   "cell_type": "code",
   "execution_count": 20,
   "id": "017ea5a5",
   "metadata": {
    "execution": {
     "iopub.execute_input": "2023-02-12T17:32:55.150919Z",
     "iopub.status.busy": "2023-02-12T17:32:55.150280Z",
     "iopub.status.idle": "2023-02-12T17:32:55.157994Z",
     "shell.execute_reply": "2023-02-12T17:32:55.156888Z"
    }
   },
   "outputs": [
    {
     "data": {
      "text/plain": [
       "<FastTreeValue 0x7f8e507b22b0>\n",
       "├── 'a' --> tensor([[[ 1.3329,  0.8161,  0.4443],\n",
       "│                    [-0.4086,  1.7039,  1.3857]],\n",
       "│           \n",
       "│                   [[ 1.3329,  0.8161,  0.4443],\n",
       "│                    [-0.4086,  1.7039,  1.3857]],\n",
       "│           \n",
       "│                   [[ 1.3329,  0.8161,  0.4443],\n",
       "│                    [-0.4086,  1.7039,  1.3857]],\n",
       "│           \n",
       "│                   [[ 1.3329,  0.8161,  0.4443],\n",
       "│                    [-0.4086,  1.7039,  1.3857]],\n",
       "│           \n",
       "│                   [[ 1.3329,  0.8161,  0.4443],\n",
       "│                    [-0.4086,  1.7039,  1.3857]],\n",
       "│           \n",
       "│                   [[ 1.3329,  0.8161,  0.4443],\n",
       "│                    [-0.4086,  1.7039,  1.3857]],\n",
       "│           \n",
       "│                   [[ 1.3329,  0.8161,  0.4443],\n",
       "│                    [-0.4086,  1.7039,  1.3857]],\n",
       "│           \n",
       "│                   [[ 1.3329,  0.8161,  0.4443],\n",
       "│                    [-0.4086,  1.7039,  1.3857]]])\n",
       "└── 'x' --> <FastTreeValue 0x7f8e507b2b50>\n",
       "    └── 'c' --> tensor([[[-0.2031, -1.3267, -0.2861,  0.5325],\n",
       "                         [-0.5568,  0.6618,  2.6936, -0.3328],\n",
       "                         [ 1.1556, -1.7019, -0.8625,  0.3515]],\n",
       "                \n",
       "                        [[-0.2031, -1.3267, -0.2861,  0.5325],\n",
       "                         [-0.5568,  0.6618,  2.6936, -0.3328],\n",
       "                         [ 1.1556, -1.7019, -0.8625,  0.3515]],\n",
       "                \n",
       "                        [[-0.2031, -1.3267, -0.2861,  0.5325],\n",
       "                         [-0.5568,  0.6618,  2.6936, -0.3328],\n",
       "                         [ 1.1556, -1.7019, -0.8625,  0.3515]],\n",
       "                \n",
       "                        [[-0.2031, -1.3267, -0.2861,  0.5325],\n",
       "                         [-0.5568,  0.6618,  2.6936, -0.3328],\n",
       "                         [ 1.1556, -1.7019, -0.8625,  0.3515]],\n",
       "                \n",
       "                        [[-0.2031, -1.3267, -0.2861,  0.5325],\n",
       "                         [-0.5568,  0.6618,  2.6936, -0.3328],\n",
       "                         [ 1.1556, -1.7019, -0.8625,  0.3515]],\n",
       "                \n",
       "                        [[-0.2031, -1.3267, -0.2861,  0.5325],\n",
       "                         [-0.5568,  0.6618,  2.6936, -0.3328],\n",
       "                         [ 1.1556, -1.7019, -0.8625,  0.3515]],\n",
       "                \n",
       "                        [[-0.2031, -1.3267, -0.2861,  0.5325],\n",
       "                         [-0.5568,  0.6618,  2.6936, -0.3328],\n",
       "                         [ 1.1556, -1.7019, -0.8625,  0.3515]],\n",
       "                \n",
       "                        [[-0.2031, -1.3267, -0.2861,  0.5325],\n",
       "                         [-0.5568,  0.6618,  2.6936, -0.3328],\n",
       "                         [ 1.1556, -1.7019, -0.8625,  0.3515]]])"
      ]
     },
     "execution_count": 20,
     "metadata": {},
     "output_type": "execute_result"
    }
   ],
   "source": [
    "t_stack = FastTreeValue.func(subside=True)(torch.stack)\n",
    "\n",
    "t_stack(trees)"
   ]
  },
  {
   "cell_type": "code",
   "execution_count": 21,
   "id": "f8b3f415",
   "metadata": {
    "execution": {
     "iopub.execute_input": "2023-02-12T17:32:55.160454Z",
     "iopub.status.busy": "2023-02-12T17:32:55.159831Z",
     "iopub.status.idle": "2023-02-12T17:32:57.749416Z",
     "shell.execute_reply": "2023-02-12T17:32:57.748687Z"
    }
   },
   "outputs": [
    {
     "name": "stdout",
     "output_type": "stream",
     "text": [
      "31.9 µs ± 60 ns per loop (mean ± std. dev. of 7 runs, 10,000 loops each)\n"
     ]
    }
   ],
   "source": [
    "%timeit t_stack(trees)"
   ]
  },
  {
   "cell_type": "code",
   "execution_count": 22,
   "id": "94b56771",
   "metadata": {
    "execution": {
     "iopub.execute_input": "2023-02-12T17:32:57.752121Z",
     "iopub.status.busy": "2023-02-12T17:32:57.751891Z",
     "iopub.status.idle": "2023-02-12T17:32:57.759705Z",
     "shell.execute_reply": "2023-02-12T17:32:57.759118Z"
    }
   },
   "outputs": [
    {
     "data": {
      "text/plain": [
       "<FastTreeValue 0x7f8e507d3f40>\n",
       "├── 'a' --> tensor([[ 1.3329,  0.8161,  0.4443],\n",
       "│                   [-0.4086,  1.7039,  1.3857],\n",
       "│                   [ 1.3329,  0.8161,  0.4443],\n",
       "│                   [-0.4086,  1.7039,  1.3857],\n",
       "│                   [ 1.3329,  0.8161,  0.4443],\n",
       "│                   [-0.4086,  1.7039,  1.3857],\n",
       "│                   [ 1.3329,  0.8161,  0.4443],\n",
       "│                   [-0.4086,  1.7039,  1.3857],\n",
       "│                   [ 1.3329,  0.8161,  0.4443],\n",
       "│                   [-0.4086,  1.7039,  1.3857],\n",
       "│                   [ 1.3329,  0.8161,  0.4443],\n",
       "│                   [-0.4086,  1.7039,  1.3857],\n",
       "│                   [ 1.3329,  0.8161,  0.4443],\n",
       "│                   [-0.4086,  1.7039,  1.3857],\n",
       "│                   [ 1.3329,  0.8161,  0.4443],\n",
       "│                   [-0.4086,  1.7039,  1.3857]])\n",
       "└── 'x' --> <FastTreeValue 0x7f8ed42ddee0>\n",
       "    └── 'c' --> tensor([[-0.2031, -1.3267, -0.2861,  0.5325],\n",
       "                        [-0.5568,  0.6618,  2.6936, -0.3328],\n",
       "                        [ 1.1556, -1.7019, -0.8625,  0.3515],\n",
       "                        [-0.2031, -1.3267, -0.2861,  0.5325],\n",
       "                        [-0.5568,  0.6618,  2.6936, -0.3328],\n",
       "                        [ 1.1556, -1.7019, -0.8625,  0.3515],\n",
       "                        [-0.2031, -1.3267, -0.2861,  0.5325],\n",
       "                        [-0.5568,  0.6618,  2.6936, -0.3328],\n",
       "                        [ 1.1556, -1.7019, -0.8625,  0.3515],\n",
       "                        [-0.2031, -1.3267, -0.2861,  0.5325],\n",
       "                        [-0.5568,  0.6618,  2.6936, -0.3328],\n",
       "                        [ 1.1556, -1.7019, -0.8625,  0.3515],\n",
       "                        [-0.2031, -1.3267, -0.2861,  0.5325],\n",
       "                        [-0.5568,  0.6618,  2.6936, -0.3328],\n",
       "                        [ 1.1556, -1.7019, -0.8625,  0.3515],\n",
       "                        [-0.2031, -1.3267, -0.2861,  0.5325],\n",
       "                        [-0.5568,  0.6618,  2.6936, -0.3328],\n",
       "                        [ 1.1556, -1.7019, -0.8625,  0.3515],\n",
       "                        [-0.2031, -1.3267, -0.2861,  0.5325],\n",
       "                        [-0.5568,  0.6618,  2.6936, -0.3328],\n",
       "                        [ 1.1556, -1.7019, -0.8625,  0.3515],\n",
       "                        [-0.2031, -1.3267, -0.2861,  0.5325],\n",
       "                        [-0.5568,  0.6618,  2.6936, -0.3328],\n",
       "                        [ 1.1556, -1.7019, -0.8625,  0.3515]])"
      ]
     },
     "execution_count": 22,
     "metadata": {},
     "output_type": "execute_result"
    }
   ],
   "source": [
    "t_cat = FastTreeValue.func(subside=True)(torch.cat)\n",
    "\n",
    "t_cat(trees)"
   ]
  },
  {
   "cell_type": "code",
   "execution_count": 23,
   "id": "5e9c06a6",
   "metadata": {
    "execution": {
     "iopub.execute_input": "2023-02-12T17:32:57.762620Z",
     "iopub.status.busy": "2023-02-12T17:32:57.762130Z",
     "iopub.status.idle": "2023-02-12T17:33:00.201272Z",
     "shell.execute_reply": "2023-02-12T17:33:00.200536Z"
    }
   },
   "outputs": [
    {
     "name": "stdout",
     "output_type": "stream",
     "text": [
      "30.1 µs ± 68.2 ns per loop (mean ± std. dev. of 7 runs, 10,000 loops each)\n"
     ]
    }
   ],
   "source": [
    "%timeit t_cat(trees)"
   ]
  },
  {
   "cell_type": "code",
   "execution_count": 24,
   "id": "a3ab5c8f",
   "metadata": {
    "execution": {
     "iopub.execute_input": "2023-02-12T17:33:00.204179Z",
     "iopub.status.busy": "2023-02-12T17:33:00.203837Z",
     "iopub.status.idle": "2023-02-12T17:33:04.895496Z",
     "shell.execute_reply": "2023-02-12T17:33:04.894751Z"
    }
   },
   "outputs": [
    {
     "name": "stdout",
     "output_type": "stream",
     "text": [
      "57.7 µs ± 107 ns per loop (mean ± std. dev. of 7 runs, 10,000 loops each)\n"
     ]
    }
   ],
   "source": [
    "t_split = FastTreeValue.func(rise=True)(torch.split)\n",
    "tree = FastTreeValue({\n",
    "    'obs': torch.randn(8, 4, 84, 84),\n",
    "    'action': torch.randint(0, 6, size=(8, 1,)),\n",
    "    'reward': torch.rand(8, 1),\n",
    "})\n",
    "\n",
    "%timeit t_split(tree, 1)"
   ]
  },
  {
   "cell_type": "markdown",
   "id": "31c3ec0b",
   "metadata": {},
   "source": [
    "### Performance of Tianshou Batch"
   ]
  },
  {
   "cell_type": "code",
   "execution_count": 25,
   "id": "9ead828a",
   "metadata": {
    "execution": {
     "iopub.execute_input": "2023-02-12T17:33:04.898896Z",
     "iopub.status.busy": "2023-02-12T17:33:04.898406Z",
     "iopub.status.idle": "2023-02-12T17:33:04.906242Z",
     "shell.execute_reply": "2023-02-12T17:33:04.905657Z"
    }
   },
   "outputs": [
    {
     "data": {
      "text/plain": [
       "Batch(\n",
       "    x: Batch(\n",
       "           c: tensor([[[-0.2031, -1.3267, -0.2861,  0.5325],\n",
       "                       [-0.5568,  0.6618,  2.6936, -0.3328],\n",
       "                       [ 1.1556, -1.7019, -0.8625,  0.3515]],\n",
       "              \n",
       "                      [[-0.2031, -1.3267, -0.2861,  0.5325],\n",
       "                       [-0.5568,  0.6618,  2.6936, -0.3328],\n",
       "                       [ 1.1556, -1.7019, -0.8625,  0.3515]],\n",
       "              \n",
       "                      [[-0.2031, -1.3267, -0.2861,  0.5325],\n",
       "                       [-0.5568,  0.6618,  2.6936, -0.3328],\n",
       "                       [ 1.1556, -1.7019, -0.8625,  0.3515]],\n",
       "              \n",
       "                      [[-0.2031, -1.3267, -0.2861,  0.5325],\n",
       "                       [-0.5568,  0.6618,  2.6936, -0.3328],\n",
       "                       [ 1.1556, -1.7019, -0.8625,  0.3515]],\n",
       "              \n",
       "                      [[-0.2031, -1.3267, -0.2861,  0.5325],\n",
       "                       [-0.5568,  0.6618,  2.6936, -0.3328],\n",
       "                       [ 1.1556, -1.7019, -0.8625,  0.3515]],\n",
       "              \n",
       "                      [[-0.2031, -1.3267, -0.2861,  0.5325],\n",
       "                       [-0.5568,  0.6618,  2.6936, -0.3328],\n",
       "                       [ 1.1556, -1.7019, -0.8625,  0.3515]],\n",
       "              \n",
       "                      [[-0.2031, -1.3267, -0.2861,  0.5325],\n",
       "                       [-0.5568,  0.6618,  2.6936, -0.3328],\n",
       "                       [ 1.1556, -1.7019, -0.8625,  0.3515]],\n",
       "              \n",
       "                      [[-0.2031, -1.3267, -0.2861,  0.5325],\n",
       "                       [-0.5568,  0.6618,  2.6936, -0.3328],\n",
       "                       [ 1.1556, -1.7019, -0.8625,  0.3515]]]),\n",
       "       ),\n",
       "    a: tensor([[[ 1.3329,  0.8161,  0.4443],\n",
       "                [-0.4086,  1.7039,  1.3857]],\n",
       "       \n",
       "               [[ 1.3329,  0.8161,  0.4443],\n",
       "                [-0.4086,  1.7039,  1.3857]],\n",
       "       \n",
       "               [[ 1.3329,  0.8161,  0.4443],\n",
       "                [-0.4086,  1.7039,  1.3857]],\n",
       "       \n",
       "               [[ 1.3329,  0.8161,  0.4443],\n",
       "                [-0.4086,  1.7039,  1.3857]],\n",
       "       \n",
       "               [[ 1.3329,  0.8161,  0.4443],\n",
       "                [-0.4086,  1.7039,  1.3857]],\n",
       "       \n",
       "               [[ 1.3329,  0.8161,  0.4443],\n",
       "                [-0.4086,  1.7039,  1.3857]],\n",
       "       \n",
       "               [[ 1.3329,  0.8161,  0.4443],\n",
       "                [-0.4086,  1.7039,  1.3857]],\n",
       "       \n",
       "               [[ 1.3329,  0.8161,  0.4443],\n",
       "                [-0.4086,  1.7039,  1.3857]]]),\n",
       ")"
      ]
     },
     "execution_count": 25,
     "metadata": {},
     "output_type": "execute_result"
    }
   ],
   "source": [
    "batches = [Batch(**_TREE_DATA_2) for _ in range(8)]\n",
    "\n",
    "Batch.stack(batches)"
   ]
  },
  {
   "cell_type": "code",
   "execution_count": 26,
   "id": "ec9037a3",
   "metadata": {
    "execution": {
     "iopub.execute_input": "2023-02-12T17:33:04.908853Z",
     "iopub.status.busy": "2023-02-12T17:33:04.908528Z",
     "iopub.status.idle": "2023-02-12T17:33:11.248590Z",
     "shell.execute_reply": "2023-02-12T17:33:11.247932Z"
    }
   },
   "outputs": [
    {
     "name": "stdout",
     "output_type": "stream",
     "text": [
      "78 µs ± 188 ns per loop (mean ± std. dev. of 7 runs, 10,000 loops each)\n"
     ]
    }
   ],
   "source": [
    "%timeit Batch.stack(batches)"
   ]
  },
  {
   "cell_type": "code",
   "execution_count": 27,
   "id": "cb8ab77e",
   "metadata": {
    "execution": {
     "iopub.execute_input": "2023-02-12T17:33:11.251277Z",
     "iopub.status.busy": "2023-02-12T17:33:11.250915Z",
     "iopub.status.idle": "2023-02-12T17:33:11.258277Z",
     "shell.execute_reply": "2023-02-12T17:33:11.257688Z"
    }
   },
   "outputs": [
    {
     "data": {
      "text/plain": [
       "Batch(\n",
       "    x: Batch(\n",
       "           c: tensor([[-0.2031, -1.3267, -0.2861,  0.5325],\n",
       "                      [-0.5568,  0.6618,  2.6936, -0.3328],\n",
       "                      [ 1.1556, -1.7019, -0.8625,  0.3515],\n",
       "                      [-0.2031, -1.3267, -0.2861,  0.5325],\n",
       "                      [-0.5568,  0.6618,  2.6936, -0.3328],\n",
       "                      [ 1.1556, -1.7019, -0.8625,  0.3515],\n",
       "                      [-0.2031, -1.3267, -0.2861,  0.5325],\n",
       "                      [-0.5568,  0.6618,  2.6936, -0.3328],\n",
       "                      [ 1.1556, -1.7019, -0.8625,  0.3515],\n",
       "                      [-0.2031, -1.3267, -0.2861,  0.5325],\n",
       "                      [-0.5568,  0.6618,  2.6936, -0.3328],\n",
       "                      [ 1.1556, -1.7019, -0.8625,  0.3515],\n",
       "                      [-0.2031, -1.3267, -0.2861,  0.5325],\n",
       "                      [-0.5568,  0.6618,  2.6936, -0.3328],\n",
       "                      [ 1.1556, -1.7019, -0.8625,  0.3515],\n",
       "                      [-0.2031, -1.3267, -0.2861,  0.5325],\n",
       "                      [-0.5568,  0.6618,  2.6936, -0.3328],\n",
       "                      [ 1.1556, -1.7019, -0.8625,  0.3515],\n",
       "                      [-0.2031, -1.3267, -0.2861,  0.5325],\n",
       "                      [-0.5568,  0.6618,  2.6936, -0.3328],\n",
       "                      [ 1.1556, -1.7019, -0.8625,  0.3515],\n",
       "                      [-0.2031, -1.3267, -0.2861,  0.5325],\n",
       "                      [-0.5568,  0.6618,  2.6936, -0.3328],\n",
       "                      [ 1.1556, -1.7019, -0.8625,  0.3515]]),\n",
       "       ),\n",
       "    a: tensor([[ 1.3329,  0.8161,  0.4443],\n",
       "               [-0.4086,  1.7039,  1.3857],\n",
       "               [ 1.3329,  0.8161,  0.4443],\n",
       "               [-0.4086,  1.7039,  1.3857],\n",
       "               [ 1.3329,  0.8161,  0.4443],\n",
       "               [-0.4086,  1.7039,  1.3857],\n",
       "               [ 1.3329,  0.8161,  0.4443],\n",
       "               [-0.4086,  1.7039,  1.3857],\n",
       "               [ 1.3329,  0.8161,  0.4443],\n",
       "               [-0.4086,  1.7039,  1.3857],\n",
       "               [ 1.3329,  0.8161,  0.4443],\n",
       "               [-0.4086,  1.7039,  1.3857],\n",
       "               [ 1.3329,  0.8161,  0.4443],\n",
       "               [-0.4086,  1.7039,  1.3857],\n",
       "               [ 1.3329,  0.8161,  0.4443],\n",
       "               [-0.4086,  1.7039,  1.3857]]),\n",
       ")"
      ]
     },
     "execution_count": 27,
     "metadata": {},
     "output_type": "execute_result"
    }
   ],
   "source": [
    "Batch.cat(batches)"
   ]
  },
  {
   "cell_type": "code",
   "execution_count": 28,
   "id": "18dfb045",
   "metadata": {
    "execution": {
     "iopub.execute_input": "2023-02-12T17:33:11.260627Z",
     "iopub.status.busy": "2023-02-12T17:33:11.260287Z",
     "iopub.status.idle": "2023-02-12T17:33:22.772761Z",
     "shell.execute_reply": "2023-02-12T17:33:22.772005Z"
    }
   },
   "outputs": [
    {
     "name": "stdout",
     "output_type": "stream",
     "text": [
      "142 µs ± 309 ns per loop (mean ± std. dev. of 7 runs, 10,000 loops each)\n"
     ]
    }
   ],
   "source": [
    "%timeit Batch.cat(batches)"
   ]
  },
  {
   "cell_type": "code",
   "execution_count": 29,
   "id": "c6688e51",
   "metadata": {
    "execution": {
     "iopub.execute_input": "2023-02-12T17:33:22.775813Z",
     "iopub.status.busy": "2023-02-12T17:33:22.775463Z",
     "iopub.status.idle": "2023-02-12T17:33:25.325900Z",
     "shell.execute_reply": "2023-02-12T17:33:25.325201Z"
    }
   },
   "outputs": [
    {
     "name": "stdout",
     "output_type": "stream",
     "text": [
      "313 µs ± 801 ns per loop (mean ± std. dev. of 7 runs, 1,000 loops each)\n"
     ]
    }
   ],
   "source": [
    "batch = Batch({\n",
    "    'obs': torch.randn(8, 4, 84, 84),\n",
    "    'action': torch.randint(0, 6, size=(8, 1,)),\n",
    "    'reward': torch.rand(8, 1)}\n",
    ")\n",
    "\n",
    "%timeit list(Batch.split(batch, 1, shuffle=False, merge_last=True))"
   ]
  },
  {
   "cell_type": "code",
   "execution_count": null,
   "id": "2539fbd9",
   "metadata": {},
   "outputs": [],
   "source": []
  }
 ],
 "metadata": {
  "kernelspec": {
   "display_name": "Python 3 (ipykernel)",
   "language": "python",
   "name": "python3"
  },
  "language_info": {
   "codemirror_mode": {
    "name": "ipython",
    "version": 3
   },
   "file_extension": ".py",
   "mimetype": "text/x-python",
   "name": "python",
   "nbconvert_exporter": "python",
   "pygments_lexer": "ipython3",
   "version": "3.8.16"
  }
 },
 "nbformat": 4,
 "nbformat_minor": 5
}
