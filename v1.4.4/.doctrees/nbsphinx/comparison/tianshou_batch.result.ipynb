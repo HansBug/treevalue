{
 "cells": [
  {
   "cell_type": "markdown",
   "id": "9d39d946",
   "metadata": {},
   "source": [
    "# Comparison Between TreeValue and Tianshou Batch"
   ]
  },
  {
   "cell_type": "markdown",
   "id": "3c6db2d4",
   "metadata": {},
   "source": [
    "In this section, we will take a look at the feature and performance of the [Tianshou Batch](https://github.com/thu-ml/tianshou) library, which is developed by Tsinghua Machine Learning Group."
   ]
  },
  {
   "cell_type": "markdown",
   "id": "069361b0",
   "metadata": {},
   "source": [
    "Before starting the comparison, let us define some thing."
   ]
  },
  {
   "cell_type": "code",
   "execution_count": 1,
   "id": "06fc8d26",
   "metadata": {
    "execution": {
     "iopub.execute_input": "2023-03-06T17:49:00.113325Z",
     "iopub.status.busy": "2023-03-06T17:49:00.112676Z",
     "iopub.status.idle": "2023-03-06T17:49:01.068170Z",
     "shell.execute_reply": "2023-03-06T17:49:01.067487Z"
    }
   },
   "outputs": [
    {
     "name": "stderr",
     "output_type": "stream",
     "text": [
      "/opt/hostedtoolcache/Python/3.8.16/x64/lib/python3.8/site-packages/tqdm/auto.py:21: TqdmWarning: IProgress not found. Please update jupyter and ipywidgets. See https://ipywidgets.readthedocs.io/en/stable/user_install.html\n",
      "  from .autonotebook import tqdm as notebook_tqdm\n"
     ]
    }
   ],
   "source": [
    "import torch \n",
    "\n",
    "_TREE_DATA_1 = {'a': 1, 'b': 2, 'x': {'c': 3, 'd': 4}}\n",
    "_TREE_DATA_2 = {\n",
    "    'a': torch.randn(2, 3), \n",
    "    'x': {\n",
    "        'c': torch.randn(3, 4)\n",
    "    },\n",
    "}\n",
    "_TREE_DATA_3 = {\n",
    "    'obs': torch.randn(4, 84, 84),\n",
    "    'action': torch.randint(0, 6, size=(1,)),\n",
    "    'reward': torch.rand(1),\n",
    "}"
   ]
  },
  {
   "cell_type": "markdown",
   "id": "83461b25",
   "metadata": {},
   "source": [
    "## Read and Write Operation"
   ]
  },
  {
   "cell_type": "markdown",
   "id": "067b3f73",
   "metadata": {},
   "source": [
    "Reading and writing are the two most common operations in the tree data structure based on the data model (TreeValue and Tianshou Batch both belong to this type), so this section will compare the reading and writing performance of these two libraries."
   ]
  },
  {
   "cell_type": "markdown",
   "id": "5d09a5b7",
   "metadata": {},
   "source": [
    "### TreeValue's Get and Set"
   ]
  },
  {
   "cell_type": "code",
   "execution_count": 2,
   "id": "9519c4bb",
   "metadata": {
    "execution": {
     "iopub.execute_input": "2023-03-06T17:49:01.071887Z",
     "iopub.status.busy": "2023-03-06T17:49:01.071269Z",
     "iopub.status.idle": "2023-03-06T17:49:01.105111Z",
     "shell.execute_reply": "2023-03-06T17:49:01.104417Z"
    }
   },
   "outputs": [],
   "source": [
    "from treevalue import FastTreeValue\n",
    "\n",
    "t = FastTreeValue(_TREE_DATA_2)"
   ]
  },
  {
   "cell_type": "code",
   "execution_count": 3,
   "id": "11c37677",
   "metadata": {
    "execution": {
     "iopub.execute_input": "2023-03-06T17:49:01.108266Z",
     "iopub.status.busy": "2023-03-06T17:49:01.107699Z",
     "iopub.status.idle": "2023-03-06T17:49:01.117375Z",
     "shell.execute_reply": "2023-03-06T17:49:01.116766Z"
    }
   },
   "outputs": [
    {
     "data": {
      "text/plain": [
       "<FastTreeValue 0x7f2233236730>\n",
       "├── 'a' --> tensor([[-0.2546, -0.2132, -0.2158],\n",
       "│                   [ 0.1948,  0.4524,  2.3683]])\n",
       "└── 'x' --> <FastTreeValue 0x7f2233236070>\n",
       "    └── 'c' --> tensor([[ 0.0803,  0.0924,  1.0619, -0.5475],\n",
       "                        [-0.1293, -1.2476,  0.4972,  1.2537],\n",
       "                        [ 0.0159, -0.3366,  0.3058,  1.6994]])"
      ]
     },
     "execution_count": 3,
     "metadata": {},
     "output_type": "execute_result"
    }
   ],
   "source": [
    "t"
   ]
  },
  {
   "cell_type": "code",
   "execution_count": 4,
   "id": "fd70b0b9",
   "metadata": {
    "execution": {
     "iopub.execute_input": "2023-03-06T17:49:01.120011Z",
     "iopub.status.busy": "2023-03-06T17:49:01.119638Z",
     "iopub.status.idle": "2023-03-06T17:49:01.124653Z",
     "shell.execute_reply": "2023-03-06T17:49:01.124018Z"
    }
   },
   "outputs": [
    {
     "data": {
      "text/plain": [
       "tensor([[-0.2546, -0.2132, -0.2158],\n",
       "        [ 0.1948,  0.4524,  2.3683]])"
      ]
     },
     "execution_count": 4,
     "metadata": {},
     "output_type": "execute_result"
    }
   ],
   "source": [
    "t.a"
   ]
  },
  {
   "cell_type": "code",
   "execution_count": 5,
   "id": "c18197bd",
   "metadata": {
    "execution": {
     "iopub.execute_input": "2023-03-06T17:49:01.127657Z",
     "iopub.status.busy": "2023-03-06T17:49:01.127163Z",
     "iopub.status.idle": "2023-03-06T17:49:05.943841Z",
     "shell.execute_reply": "2023-03-06T17:49:05.943120Z"
    }
   },
   "outputs": [
    {
     "name": "stdout",
     "output_type": "stream",
     "text": [
      "59.3 ns ± 0.0569 ns per loop (mean ± std. dev. of 7 runs, 10,000,000 loops each)\n"
     ]
    }
   ],
   "source": [
    "%timeit t.a"
   ]
  },
  {
   "cell_type": "code",
   "execution_count": 6,
   "id": "bd52f867",
   "metadata": {
    "execution": {
     "iopub.execute_input": "2023-03-06T17:49:05.947249Z",
     "iopub.status.busy": "2023-03-06T17:49:05.946624Z",
     "iopub.status.idle": "2023-03-06T17:49:05.953497Z",
     "shell.execute_reply": "2023-03-06T17:49:05.952878Z"
    }
   },
   "outputs": [
    {
     "data": {
      "text/plain": [
       "<FastTreeValue 0x7f2233236730>\n",
       "├── 'a' --> tensor([[-0.4512,  1.0961,  0.0724],\n",
       "│                   [-0.5346, -0.0745, -0.1307]])\n",
       "└── 'x' --> <FastTreeValue 0x7f2233236070>\n",
       "    └── 'c' --> tensor([[ 0.0803,  0.0924,  1.0619, -0.5475],\n",
       "                        [-0.1293, -1.2476,  0.4972,  1.2537],\n",
       "                        [ 0.0159, -0.3366,  0.3058,  1.6994]])"
      ]
     },
     "execution_count": 6,
     "metadata": {},
     "output_type": "execute_result"
    }
   ],
   "source": [
    "new_value = torch.randn(2, 3)\n",
    "t.a = new_value\n",
    "\n",
    "t"
   ]
  },
  {
   "cell_type": "code",
   "execution_count": 7,
   "id": "bbe04d1c",
   "metadata": {
    "execution": {
     "iopub.execute_input": "2023-03-06T17:49:05.956069Z",
     "iopub.status.busy": "2023-03-06T17:49:05.955705Z",
     "iopub.status.idle": "2023-03-06T17:49:10.843323Z",
     "shell.execute_reply": "2023-03-06T17:49:10.842580Z"
    }
   },
   "outputs": [
    {
     "name": "stdout",
     "output_type": "stream",
     "text": [
      "60.3 ns ± 0.031 ns per loop (mean ± std. dev. of 7 runs, 10,000,000 loops each)\n"
     ]
    }
   ],
   "source": [
    "%timeit t.a = new_value"
   ]
  },
  {
   "cell_type": "markdown",
   "id": "48c49731",
   "metadata": {},
   "source": [
    "### Tianshou Batch's Get and Set"
   ]
  },
  {
   "cell_type": "code",
   "execution_count": 8,
   "id": "f1bb14c1",
   "metadata": {
    "execution": {
     "iopub.execute_input": "2023-03-06T17:49:10.846770Z",
     "iopub.status.busy": "2023-03-06T17:49:10.846120Z",
     "iopub.status.idle": "2023-03-06T17:49:11.191770Z",
     "shell.execute_reply": "2023-03-06T17:49:11.191090Z"
    }
   },
   "outputs": [],
   "source": [
    "from tianshou.data import Batch\n",
    "\n",
    "b = Batch(**_TREE_DATA_2)"
   ]
  },
  {
   "cell_type": "code",
   "execution_count": 9,
   "id": "cb0777c3",
   "metadata": {
    "execution": {
     "iopub.execute_input": "2023-03-06T17:49:11.195405Z",
     "iopub.status.busy": "2023-03-06T17:49:11.194784Z",
     "iopub.status.idle": "2023-03-06T17:49:11.200405Z",
     "shell.execute_reply": "2023-03-06T17:49:11.199776Z"
    }
   },
   "outputs": [
    {
     "data": {
      "text/plain": [
       "Batch(\n",
       "    a: tensor([[-0.2546, -0.2132, -0.2158],\n",
       "               [ 0.1948,  0.4524,  2.3683]]),\n",
       "    x: Batch(\n",
       "           c: tensor([[ 0.0803,  0.0924,  1.0619, -0.5475],\n",
       "                      [-0.1293, -1.2476,  0.4972,  1.2537],\n",
       "                      [ 0.0159, -0.3366,  0.3058,  1.6994]]),\n",
       "       ),\n",
       ")"
      ]
     },
     "execution_count": 9,
     "metadata": {},
     "output_type": "execute_result"
    }
   ],
   "source": [
    "b"
   ]
  },
  {
   "cell_type": "code",
   "execution_count": 10,
   "id": "43ef8ea3",
   "metadata": {
    "execution": {
     "iopub.execute_input": "2023-03-06T17:49:11.203108Z",
     "iopub.status.busy": "2023-03-06T17:49:11.202669Z",
     "iopub.status.idle": "2023-03-06T17:49:11.207609Z",
     "shell.execute_reply": "2023-03-06T17:49:11.206882Z"
    }
   },
   "outputs": [
    {
     "data": {
      "text/plain": [
       "tensor([[-0.2546, -0.2132, -0.2158],\n",
       "        [ 0.1948,  0.4524,  2.3683]])"
      ]
     },
     "execution_count": 10,
     "metadata": {},
     "output_type": "execute_result"
    }
   ],
   "source": [
    "b.a"
   ]
  },
  {
   "cell_type": "code",
   "execution_count": 11,
   "id": "b785ab72",
   "metadata": {
    "execution": {
     "iopub.execute_input": "2023-03-06T17:49:11.210174Z",
     "iopub.status.busy": "2023-03-06T17:49:11.209820Z",
     "iopub.status.idle": "2023-03-06T17:49:16.020019Z",
     "shell.execute_reply": "2023-03-06T17:49:16.019243Z"
    }
   },
   "outputs": [
    {
     "name": "stdout",
     "output_type": "stream",
     "text": [
      "59.6 ns ± 0.0108 ns per loop (mean ± std. dev. of 7 runs, 10,000,000 loops each)\n"
     ]
    }
   ],
   "source": [
    "%timeit b.a"
   ]
  },
  {
   "cell_type": "code",
   "execution_count": 12,
   "id": "ad54dc69",
   "metadata": {
    "execution": {
     "iopub.execute_input": "2023-03-06T17:49:16.023532Z",
     "iopub.status.busy": "2023-03-06T17:49:16.022874Z",
     "iopub.status.idle": "2023-03-06T17:49:16.029684Z",
     "shell.execute_reply": "2023-03-06T17:49:16.029057Z"
    }
   },
   "outputs": [
    {
     "data": {
      "text/plain": [
       "Batch(\n",
       "    a: tensor([[ 0.1446, -1.1865,  0.3971],\n",
       "               [-1.8501,  1.3610,  0.2836]]),\n",
       "    x: Batch(\n",
       "           c: tensor([[ 0.0803,  0.0924,  1.0619, -0.5475],\n",
       "                      [-0.1293, -1.2476,  0.4972,  1.2537],\n",
       "                      [ 0.0159, -0.3366,  0.3058,  1.6994]]),\n",
       "       ),\n",
       ")"
      ]
     },
     "execution_count": 12,
     "metadata": {},
     "output_type": "execute_result"
    }
   ],
   "source": [
    "new_value = torch.randn(2, 3)\n",
    "b.a = new_value\n",
    "\n",
    "b"
   ]
  },
  {
   "cell_type": "code",
   "execution_count": 13,
   "id": "29b1d0bf",
   "metadata": {
    "execution": {
     "iopub.execute_input": "2023-03-06T17:49:16.032662Z",
     "iopub.status.busy": "2023-03-06T17:49:16.031989Z",
     "iopub.status.idle": "2023-03-06T17:49:19.963244Z",
     "shell.execute_reply": "2023-03-06T17:49:19.962524Z"
    }
   },
   "outputs": [
    {
     "name": "stdout",
     "output_type": "stream",
     "text": [
      "484 ns ± 0.276 ns per loop (mean ± std. dev. of 7 runs, 1,000,000 loops each)\n"
     ]
    }
   ],
   "source": [
    "%timeit b.a = new_value"
   ]
  },
  {
   "cell_type": "markdown",
   "id": "b61ad1d0",
   "metadata": {},
   "source": [
    "## Initialization"
   ]
  },
  {
   "cell_type": "markdown",
   "id": "d70f0d54",
   "metadata": {},
   "source": [
    "### TreeValue's Initialization"
   ]
  },
  {
   "cell_type": "code",
   "execution_count": 14,
   "id": "d32a679b",
   "metadata": {
    "execution": {
     "iopub.execute_input": "2023-03-06T17:49:19.966394Z",
     "iopub.status.busy": "2023-03-06T17:49:19.966019Z",
     "iopub.status.idle": "2023-03-06T17:49:26.809099Z",
     "shell.execute_reply": "2023-03-06T17:49:26.808341Z"
    }
   },
   "outputs": [
    {
     "name": "stdout",
     "output_type": "stream",
     "text": [
      "843 ns ± 0.184 ns per loop (mean ± std. dev. of 7 runs, 1,000,000 loops each)\n"
     ]
    }
   ],
   "source": [
    "%timeit FastTreeValue(_TREE_DATA_1)"
   ]
  },
  {
   "cell_type": "markdown",
   "id": "24f3707b",
   "metadata": {},
   "source": [
    "### Tianshou Batch's Initialization"
   ]
  },
  {
   "cell_type": "code",
   "execution_count": 15,
   "id": "ac3958df",
   "metadata": {
    "execution": {
     "iopub.execute_input": "2023-03-06T17:49:26.812188Z",
     "iopub.status.busy": "2023-03-06T17:49:26.811703Z",
     "iopub.status.idle": "2023-03-06T17:49:36.035564Z",
     "shell.execute_reply": "2023-03-06T17:49:36.034797Z"
    }
   },
   "outputs": [
    {
     "name": "stdout",
     "output_type": "stream",
     "text": [
      "11.3 µs ± 17.1 ns per loop (mean ± std. dev. of 7 runs, 100,000 loops each)\n"
     ]
    }
   ],
   "source": [
    "%timeit Batch(**_TREE_DATA_1)"
   ]
  },
  {
   "cell_type": "markdown",
   "id": "1ab82e2d",
   "metadata": {},
   "source": [
    "## Deep Copy Operation"
   ]
  },
  {
   "cell_type": "code",
   "execution_count": 16,
   "id": "210a9442",
   "metadata": {
    "execution": {
     "iopub.execute_input": "2023-03-06T17:49:36.038707Z",
     "iopub.status.busy": "2023-03-06T17:49:36.038132Z",
     "iopub.status.idle": "2023-03-06T17:49:36.042303Z",
     "shell.execute_reply": "2023-03-06T17:49:36.041676Z"
    }
   },
   "outputs": [],
   "source": [
    "import copy"
   ]
  },
  {
   "cell_type": "markdown",
   "id": "5a736274",
   "metadata": {},
   "source": [
    "### Deep Copy of TreeValue"
   ]
  },
  {
   "cell_type": "code",
   "execution_count": 17,
   "id": "f9bcadd6",
   "metadata": {
    "execution": {
     "iopub.execute_input": "2023-03-06T17:49:36.044991Z",
     "iopub.status.busy": "2023-03-06T17:49:36.044626Z",
     "iopub.status.idle": "2023-03-06T17:49:47.238586Z",
     "shell.execute_reply": "2023-03-06T17:49:47.238019Z"
    }
   },
   "outputs": [
    {
     "name": "stdout",
     "output_type": "stream",
     "text": [
      "138 µs ± 673 ns per loop (mean ± std. dev. of 7 runs, 10,000 loops each)\n"
     ]
    }
   ],
   "source": [
    "t3 = FastTreeValue(_TREE_DATA_3)\n",
    "%timeit copy.deepcopy(t3)"
   ]
  },
  {
   "cell_type": "markdown",
   "id": "bf8be7ea",
   "metadata": {},
   "source": [
    "### Deep Copy of Tianshou Batch"
   ]
  },
  {
   "cell_type": "code",
   "execution_count": 18,
   "id": "91998e6f",
   "metadata": {
    "execution": {
     "iopub.execute_input": "2023-03-06T17:49:47.242104Z",
     "iopub.status.busy": "2023-03-06T17:49:47.241598Z",
     "iopub.status.idle": "2023-03-06T17:49:58.579274Z",
     "shell.execute_reply": "2023-03-06T17:49:58.578651Z"
    }
   },
   "outputs": [
    {
     "name": "stdout",
     "output_type": "stream",
     "text": [
      "140 µs ± 713 ns per loop (mean ± std. dev. of 7 runs, 10,000 loops each)\n"
     ]
    }
   ],
   "source": [
    "b3 = Batch(**_TREE_DATA_3)\n",
    "%timeit copy.deepcopy(b3)"
   ]
  },
  {
   "cell_type": "markdown",
   "id": "223162fb",
   "metadata": {},
   "source": [
    "## Stack, Concat and Split Operation"
   ]
  },
  {
   "cell_type": "markdown",
   "id": "85fa4a73",
   "metadata": {},
   "source": [
    "### Performance of TreeValue"
   ]
  },
  {
   "cell_type": "code",
   "execution_count": 19,
   "id": "a0c2b697",
   "metadata": {
    "execution": {
     "iopub.execute_input": "2023-03-06T17:49:58.582549Z",
     "iopub.status.busy": "2023-03-06T17:49:58.582285Z",
     "iopub.status.idle": "2023-03-06T17:49:58.586582Z",
     "shell.execute_reply": "2023-03-06T17:49:58.585939Z"
    }
   },
   "outputs": [],
   "source": [
    "trees = [FastTreeValue(_TREE_DATA_2) for _ in range(8)]"
   ]
  },
  {
   "cell_type": "code",
   "execution_count": 20,
   "id": "017ea5a5",
   "metadata": {
    "execution": {
     "iopub.execute_input": "2023-03-06T17:49:58.589502Z",
     "iopub.status.busy": "2023-03-06T17:49:58.588864Z",
     "iopub.status.idle": "2023-03-06T17:49:58.597367Z",
     "shell.execute_reply": "2023-03-06T17:49:58.596726Z"
    }
   },
   "outputs": [
    {
     "data": {
      "text/plain": [
       "<FastTreeValue 0x7f2183ed6b80>\n",
       "├── 'a' --> tensor([[[-0.2546, -0.2132, -0.2158],\n",
       "│                    [ 0.1948,  0.4524,  2.3683]],\n",
       "│           \n",
       "│                   [[-0.2546, -0.2132, -0.2158],\n",
       "│                    [ 0.1948,  0.4524,  2.3683]],\n",
       "│           \n",
       "│                   [[-0.2546, -0.2132, -0.2158],\n",
       "│                    [ 0.1948,  0.4524,  2.3683]],\n",
       "│           \n",
       "│                   [[-0.2546, -0.2132, -0.2158],\n",
       "│                    [ 0.1948,  0.4524,  2.3683]],\n",
       "│           \n",
       "│                   [[-0.2546, -0.2132, -0.2158],\n",
       "│                    [ 0.1948,  0.4524,  2.3683]],\n",
       "│           \n",
       "│                   [[-0.2546, -0.2132, -0.2158],\n",
       "│                    [ 0.1948,  0.4524,  2.3683]],\n",
       "│           \n",
       "│                   [[-0.2546, -0.2132, -0.2158],\n",
       "│                    [ 0.1948,  0.4524,  2.3683]],\n",
       "│           \n",
       "│                   [[-0.2546, -0.2132, -0.2158],\n",
       "│                    [ 0.1948,  0.4524,  2.3683]]])\n",
       "└── 'x' --> <FastTreeValue 0x7f2183ed6820>\n",
       "    └── 'c' --> tensor([[[ 0.0803,  0.0924,  1.0619, -0.5475],\n",
       "                         [-0.1293, -1.2476,  0.4972,  1.2537],\n",
       "                         [ 0.0159, -0.3366,  0.3058,  1.6994]],\n",
       "                \n",
       "                        [[ 0.0803,  0.0924,  1.0619, -0.5475],\n",
       "                         [-0.1293, -1.2476,  0.4972,  1.2537],\n",
       "                         [ 0.0159, -0.3366,  0.3058,  1.6994]],\n",
       "                \n",
       "                        [[ 0.0803,  0.0924,  1.0619, -0.5475],\n",
       "                         [-0.1293, -1.2476,  0.4972,  1.2537],\n",
       "                         [ 0.0159, -0.3366,  0.3058,  1.6994]],\n",
       "                \n",
       "                        [[ 0.0803,  0.0924,  1.0619, -0.5475],\n",
       "                         [-0.1293, -1.2476,  0.4972,  1.2537],\n",
       "                         [ 0.0159, -0.3366,  0.3058,  1.6994]],\n",
       "                \n",
       "                        [[ 0.0803,  0.0924,  1.0619, -0.5475],\n",
       "                         [-0.1293, -1.2476,  0.4972,  1.2537],\n",
       "                         [ 0.0159, -0.3366,  0.3058,  1.6994]],\n",
       "                \n",
       "                        [[ 0.0803,  0.0924,  1.0619, -0.5475],\n",
       "                         [-0.1293, -1.2476,  0.4972,  1.2537],\n",
       "                         [ 0.0159, -0.3366,  0.3058,  1.6994]],\n",
       "                \n",
       "                        [[ 0.0803,  0.0924,  1.0619, -0.5475],\n",
       "                         [-0.1293, -1.2476,  0.4972,  1.2537],\n",
       "                         [ 0.0159, -0.3366,  0.3058,  1.6994]],\n",
       "                \n",
       "                        [[ 0.0803,  0.0924,  1.0619, -0.5475],\n",
       "                         [-0.1293, -1.2476,  0.4972,  1.2537],\n",
       "                         [ 0.0159, -0.3366,  0.3058,  1.6994]]])"
      ]
     },
     "execution_count": 20,
     "metadata": {},
     "output_type": "execute_result"
    }
   ],
   "source": [
    "t_stack = FastTreeValue.func(subside=True)(torch.stack)\n",
    "\n",
    "t_stack(trees)"
   ]
  },
  {
   "cell_type": "code",
   "execution_count": 21,
   "id": "f8b3f415",
   "metadata": {
    "execution": {
     "iopub.execute_input": "2023-03-06T17:49:58.600488Z",
     "iopub.status.busy": "2023-03-06T17:49:58.600020Z",
     "iopub.status.idle": "2023-03-06T17:50:01.183409Z",
     "shell.execute_reply": "2023-03-06T17:50:01.182663Z"
    }
   },
   "outputs": [
    {
     "name": "stdout",
     "output_type": "stream",
     "text": [
      "31.8 µs ± 41.9 ns per loop (mean ± std. dev. of 7 runs, 10,000 loops each)\n"
     ]
    }
   ],
   "source": [
    "%timeit t_stack(trees)"
   ]
  },
  {
   "cell_type": "code",
   "execution_count": 22,
   "id": "94b56771",
   "metadata": {
    "execution": {
     "iopub.execute_input": "2023-03-06T17:50:01.186814Z",
     "iopub.status.busy": "2023-03-06T17:50:01.186184Z",
     "iopub.status.idle": "2023-03-06T17:50:01.193628Z",
     "shell.execute_reply": "2023-03-06T17:50:01.192990Z"
    }
   },
   "outputs": [
    {
     "data": {
      "text/plain": [
       "<FastTreeValue 0x7f2183e5bac0>\n",
       "├── 'a' --> tensor([[-0.2546, -0.2132, -0.2158],\n",
       "│                   [ 0.1948,  0.4524,  2.3683],\n",
       "│                   [-0.2546, -0.2132, -0.2158],\n",
       "│                   [ 0.1948,  0.4524,  2.3683],\n",
       "│                   [-0.2546, -0.2132, -0.2158],\n",
       "│                   [ 0.1948,  0.4524,  2.3683],\n",
       "│                   [-0.2546, -0.2132, -0.2158],\n",
       "│                   [ 0.1948,  0.4524,  2.3683],\n",
       "│                   [-0.2546, -0.2132, -0.2158],\n",
       "│                   [ 0.1948,  0.4524,  2.3683],\n",
       "│                   [-0.2546, -0.2132, -0.2158],\n",
       "│                   [ 0.1948,  0.4524,  2.3683],\n",
       "│                   [-0.2546, -0.2132, -0.2158],\n",
       "│                   [ 0.1948,  0.4524,  2.3683],\n",
       "│                   [-0.2546, -0.2132, -0.2158],\n",
       "│                   [ 0.1948,  0.4524,  2.3683]])\n",
       "└── 'x' --> <FastTreeValue 0x7f2183e5baf0>\n",
       "    └── 'c' --> tensor([[ 0.0803,  0.0924,  1.0619, -0.5475],\n",
       "                        [-0.1293, -1.2476,  0.4972,  1.2537],\n",
       "                        [ 0.0159, -0.3366,  0.3058,  1.6994],\n",
       "                        [ 0.0803,  0.0924,  1.0619, -0.5475],\n",
       "                        [-0.1293, -1.2476,  0.4972,  1.2537],\n",
       "                        [ 0.0159, -0.3366,  0.3058,  1.6994],\n",
       "                        [ 0.0803,  0.0924,  1.0619, -0.5475],\n",
       "                        [-0.1293, -1.2476,  0.4972,  1.2537],\n",
       "                        [ 0.0159, -0.3366,  0.3058,  1.6994],\n",
       "                        [ 0.0803,  0.0924,  1.0619, -0.5475],\n",
       "                        [-0.1293, -1.2476,  0.4972,  1.2537],\n",
       "                        [ 0.0159, -0.3366,  0.3058,  1.6994],\n",
       "                        [ 0.0803,  0.0924,  1.0619, -0.5475],\n",
       "                        [-0.1293, -1.2476,  0.4972,  1.2537],\n",
       "                        [ 0.0159, -0.3366,  0.3058,  1.6994],\n",
       "                        [ 0.0803,  0.0924,  1.0619, -0.5475],\n",
       "                        [-0.1293, -1.2476,  0.4972,  1.2537],\n",
       "                        [ 0.0159, -0.3366,  0.3058,  1.6994],\n",
       "                        [ 0.0803,  0.0924,  1.0619, -0.5475],\n",
       "                        [-0.1293, -1.2476,  0.4972,  1.2537],\n",
       "                        [ 0.0159, -0.3366,  0.3058,  1.6994],\n",
       "                        [ 0.0803,  0.0924,  1.0619, -0.5475],\n",
       "                        [-0.1293, -1.2476,  0.4972,  1.2537],\n",
       "                        [ 0.0159, -0.3366,  0.3058,  1.6994]])"
      ]
     },
     "execution_count": 22,
     "metadata": {},
     "output_type": "execute_result"
    }
   ],
   "source": [
    "t_cat = FastTreeValue.func(subside=True)(torch.cat)\n",
    "\n",
    "t_cat(trees)"
   ]
  },
  {
   "cell_type": "code",
   "execution_count": 23,
   "id": "5e9c06a6",
   "metadata": {
    "execution": {
     "iopub.execute_input": "2023-03-06T17:50:01.196523Z",
     "iopub.status.busy": "2023-03-06T17:50:01.196170Z",
     "iopub.status.idle": "2023-03-06T17:50:03.629407Z",
     "shell.execute_reply": "2023-03-06T17:50:03.628710Z"
    }
   },
   "outputs": [
    {
     "name": "stdout",
     "output_type": "stream",
     "text": [
      "29.9 µs ± 111 ns per loop (mean ± std. dev. of 7 runs, 10,000 loops each)\n"
     ]
    }
   ],
   "source": [
    "%timeit t_cat(trees)"
   ]
  },
  {
   "cell_type": "code",
   "execution_count": 24,
   "id": "a3ab5c8f",
   "metadata": {
    "execution": {
     "iopub.execute_input": "2023-03-06T17:50:03.632584Z",
     "iopub.status.busy": "2023-03-06T17:50:03.632210Z",
     "iopub.status.idle": "2023-03-06T17:50:08.317348Z",
     "shell.execute_reply": "2023-03-06T17:50:08.316596Z"
    }
   },
   "outputs": [
    {
     "name": "stdout",
     "output_type": "stream",
     "text": [
      "57.5 µs ± 184 ns per loop (mean ± std. dev. of 7 runs, 10,000 loops each)\n"
     ]
    }
   ],
   "source": [
    "t_split = FastTreeValue.func(rise=True)(torch.split)\n",
    "tree = FastTreeValue({\n",
    "    'obs': torch.randn(8, 4, 84, 84),\n",
    "    'action': torch.randint(0, 6, size=(8, 1,)),\n",
    "    'reward': torch.rand(8, 1),\n",
    "})\n",
    "\n",
    "%timeit t_split(tree, 1)"
   ]
  },
  {
   "cell_type": "markdown",
   "id": "31c3ec0b",
   "metadata": {},
   "source": [
    "### Performance of Tianshou Batch"
   ]
  },
  {
   "cell_type": "code",
   "execution_count": 25,
   "id": "9ead828a",
   "metadata": {
    "execution": {
     "iopub.execute_input": "2023-03-06T17:50:08.320530Z",
     "iopub.status.busy": "2023-03-06T17:50:08.319950Z",
     "iopub.status.idle": "2023-03-06T17:50:08.328069Z",
     "shell.execute_reply": "2023-03-06T17:50:08.327458Z"
    }
   },
   "outputs": [
    {
     "data": {
      "text/plain": [
       "Batch(\n",
       "    x: Batch(\n",
       "           c: tensor([[[ 0.0803,  0.0924,  1.0619, -0.5475],\n",
       "                       [-0.1293, -1.2476,  0.4972,  1.2537],\n",
       "                       [ 0.0159, -0.3366,  0.3058,  1.6994]],\n",
       "              \n",
       "                      [[ 0.0803,  0.0924,  1.0619, -0.5475],\n",
       "                       [-0.1293, -1.2476,  0.4972,  1.2537],\n",
       "                       [ 0.0159, -0.3366,  0.3058,  1.6994]],\n",
       "              \n",
       "                      [[ 0.0803,  0.0924,  1.0619, -0.5475],\n",
       "                       [-0.1293, -1.2476,  0.4972,  1.2537],\n",
       "                       [ 0.0159, -0.3366,  0.3058,  1.6994]],\n",
       "              \n",
       "                      [[ 0.0803,  0.0924,  1.0619, -0.5475],\n",
       "                       [-0.1293, -1.2476,  0.4972,  1.2537],\n",
       "                       [ 0.0159, -0.3366,  0.3058,  1.6994]],\n",
       "              \n",
       "                      [[ 0.0803,  0.0924,  1.0619, -0.5475],\n",
       "                       [-0.1293, -1.2476,  0.4972,  1.2537],\n",
       "                       [ 0.0159, -0.3366,  0.3058,  1.6994]],\n",
       "              \n",
       "                      [[ 0.0803,  0.0924,  1.0619, -0.5475],\n",
       "                       [-0.1293, -1.2476,  0.4972,  1.2537],\n",
       "                       [ 0.0159, -0.3366,  0.3058,  1.6994]],\n",
       "              \n",
       "                      [[ 0.0803,  0.0924,  1.0619, -0.5475],\n",
       "                       [-0.1293, -1.2476,  0.4972,  1.2537],\n",
       "                       [ 0.0159, -0.3366,  0.3058,  1.6994]],\n",
       "              \n",
       "                      [[ 0.0803,  0.0924,  1.0619, -0.5475],\n",
       "                       [-0.1293, -1.2476,  0.4972,  1.2537],\n",
       "                       [ 0.0159, -0.3366,  0.3058,  1.6994]]]),\n",
       "       ),\n",
       "    a: tensor([[[-0.2546, -0.2132, -0.2158],\n",
       "                [ 0.1948,  0.4524,  2.3683]],\n",
       "       \n",
       "               [[-0.2546, -0.2132, -0.2158],\n",
       "                [ 0.1948,  0.4524,  2.3683]],\n",
       "       \n",
       "               [[-0.2546, -0.2132, -0.2158],\n",
       "                [ 0.1948,  0.4524,  2.3683]],\n",
       "       \n",
       "               [[-0.2546, -0.2132, -0.2158],\n",
       "                [ 0.1948,  0.4524,  2.3683]],\n",
       "       \n",
       "               [[-0.2546, -0.2132, -0.2158],\n",
       "                [ 0.1948,  0.4524,  2.3683]],\n",
       "       \n",
       "               [[-0.2546, -0.2132, -0.2158],\n",
       "                [ 0.1948,  0.4524,  2.3683]],\n",
       "       \n",
       "               [[-0.2546, -0.2132, -0.2158],\n",
       "                [ 0.1948,  0.4524,  2.3683]],\n",
       "       \n",
       "               [[-0.2546, -0.2132, -0.2158],\n",
       "                [ 0.1948,  0.4524,  2.3683]]]),\n",
       ")"
      ]
     },
     "execution_count": 25,
     "metadata": {},
     "output_type": "execute_result"
    }
   ],
   "source": [
    "batches = [Batch(**_TREE_DATA_2) for _ in range(8)]\n",
    "\n",
    "Batch.stack(batches)"
   ]
  },
  {
   "cell_type": "code",
   "execution_count": 26,
   "id": "ec9037a3",
   "metadata": {
    "execution": {
     "iopub.execute_input": "2023-03-06T17:50:08.331068Z",
     "iopub.status.busy": "2023-03-06T17:50:08.330448Z",
     "iopub.status.idle": "2023-03-06T17:50:14.712644Z",
     "shell.execute_reply": "2023-03-06T17:50:14.711970Z"
    }
   },
   "outputs": [
    {
     "name": "stdout",
     "output_type": "stream",
     "text": [
      "78.6 µs ± 156 ns per loop (mean ± std. dev. of 7 runs, 10,000 loops each)\n"
     ]
    }
   ],
   "source": [
    "%timeit Batch.stack(batches)"
   ]
  },
  {
   "cell_type": "code",
   "execution_count": 27,
   "id": "cb8ab77e",
   "metadata": {
    "execution": {
     "iopub.execute_input": "2023-03-06T17:50:14.715772Z",
     "iopub.status.busy": "2023-03-06T17:50:14.715398Z",
     "iopub.status.idle": "2023-03-06T17:50:14.723191Z",
     "shell.execute_reply": "2023-03-06T17:50:14.722549Z"
    }
   },
   "outputs": [
    {
     "data": {
      "text/plain": [
       "Batch(\n",
       "    x: Batch(\n",
       "           c: tensor([[ 0.0803,  0.0924,  1.0619, -0.5475],\n",
       "                      [-0.1293, -1.2476,  0.4972,  1.2537],\n",
       "                      [ 0.0159, -0.3366,  0.3058,  1.6994],\n",
       "                      [ 0.0803,  0.0924,  1.0619, -0.5475],\n",
       "                      [-0.1293, -1.2476,  0.4972,  1.2537],\n",
       "                      [ 0.0159, -0.3366,  0.3058,  1.6994],\n",
       "                      [ 0.0803,  0.0924,  1.0619, -0.5475],\n",
       "                      [-0.1293, -1.2476,  0.4972,  1.2537],\n",
       "                      [ 0.0159, -0.3366,  0.3058,  1.6994],\n",
       "                      [ 0.0803,  0.0924,  1.0619, -0.5475],\n",
       "                      [-0.1293, -1.2476,  0.4972,  1.2537],\n",
       "                      [ 0.0159, -0.3366,  0.3058,  1.6994],\n",
       "                      [ 0.0803,  0.0924,  1.0619, -0.5475],\n",
       "                      [-0.1293, -1.2476,  0.4972,  1.2537],\n",
       "                      [ 0.0159, -0.3366,  0.3058,  1.6994],\n",
       "                      [ 0.0803,  0.0924,  1.0619, -0.5475],\n",
       "                      [-0.1293, -1.2476,  0.4972,  1.2537],\n",
       "                      [ 0.0159, -0.3366,  0.3058,  1.6994],\n",
       "                      [ 0.0803,  0.0924,  1.0619, -0.5475],\n",
       "                      [-0.1293, -1.2476,  0.4972,  1.2537],\n",
       "                      [ 0.0159, -0.3366,  0.3058,  1.6994],\n",
       "                      [ 0.0803,  0.0924,  1.0619, -0.5475],\n",
       "                      [-0.1293, -1.2476,  0.4972,  1.2537],\n",
       "                      [ 0.0159, -0.3366,  0.3058,  1.6994]]),\n",
       "       ),\n",
       "    a: tensor([[-0.2546, -0.2132, -0.2158],\n",
       "               [ 0.1948,  0.4524,  2.3683],\n",
       "               [-0.2546, -0.2132, -0.2158],\n",
       "               [ 0.1948,  0.4524,  2.3683],\n",
       "               [-0.2546, -0.2132, -0.2158],\n",
       "               [ 0.1948,  0.4524,  2.3683],\n",
       "               [-0.2546, -0.2132, -0.2158],\n",
       "               [ 0.1948,  0.4524,  2.3683],\n",
       "               [-0.2546, -0.2132, -0.2158],\n",
       "               [ 0.1948,  0.4524,  2.3683],\n",
       "               [-0.2546, -0.2132, -0.2158],\n",
       "               [ 0.1948,  0.4524,  2.3683],\n",
       "               [-0.2546, -0.2132, -0.2158],\n",
       "               [ 0.1948,  0.4524,  2.3683],\n",
       "               [-0.2546, -0.2132, -0.2158],\n",
       "               [ 0.1948,  0.4524,  2.3683]]),\n",
       ")"
      ]
     },
     "execution_count": 27,
     "metadata": {},
     "output_type": "execute_result"
    }
   ],
   "source": [
    "Batch.cat(batches)"
   ]
  },
  {
   "cell_type": "code",
   "execution_count": 28,
   "id": "18dfb045",
   "metadata": {
    "execution": {
     "iopub.execute_input": "2023-03-06T17:50:14.726446Z",
     "iopub.status.busy": "2023-03-06T17:50:14.725807Z",
     "iopub.status.idle": "2023-03-06T17:50:26.527001Z",
     "shell.execute_reply": "2023-03-06T17:50:26.526324Z"
    }
   },
   "outputs": [
    {
     "name": "stdout",
     "output_type": "stream",
     "text": [
      "145 µs ± 425 ns per loop (mean ± std. dev. of 7 runs, 10,000 loops each)\n"
     ]
    }
   ],
   "source": [
    "%timeit Batch.cat(batches)"
   ]
  },
  {
   "cell_type": "code",
   "execution_count": 29,
   "id": "c6688e51",
   "metadata": {
    "execution": {
     "iopub.execute_input": "2023-03-06T17:50:26.530410Z",
     "iopub.status.busy": "2023-03-06T17:50:26.529867Z",
     "iopub.status.idle": "2023-03-06T17:50:29.030497Z",
     "shell.execute_reply": "2023-03-06T17:50:29.029887Z"
    }
   },
   "outputs": [
    {
     "name": "stdout",
     "output_type": "stream",
     "text": [
      "308 µs ± 7.36 µs per loop (mean ± std. dev. of 7 runs, 1,000 loops each)\n"
     ]
    }
   ],
   "source": [
    "batch = Batch({\n",
    "    'obs': torch.randn(8, 4, 84, 84),\n",
    "    'action': torch.randint(0, 6, size=(8, 1,)),\n",
    "    'reward': torch.rand(8, 1)}\n",
    ")\n",
    "\n",
    "%timeit list(Batch.split(batch, 1, shuffle=False, merge_last=True))"
   ]
  },
  {
   "cell_type": "code",
   "execution_count": null,
   "id": "2539fbd9",
   "metadata": {},
   "outputs": [],
   "source": []
  }
 ],
 "metadata": {
  "kernelspec": {
   "display_name": "Python 3 (ipykernel)",
   "language": "python",
   "name": "python3"
  },
  "language_info": {
   "codemirror_mode": {
    "name": "ipython",
    "version": 3
   },
   "file_extension": ".py",
   "mimetype": "text/x-python",
   "name": "python",
   "nbconvert_exporter": "python",
   "pygments_lexer": "ipython3",
   "version": "3.8.16"
  }
 },
 "nbformat": 4,
 "nbformat_minor": 5
}
