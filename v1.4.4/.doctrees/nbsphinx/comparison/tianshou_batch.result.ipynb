{
 "cells": [
  {
   "cell_type": "markdown",
   "id": "9d39d946",
   "metadata": {},
   "source": [
    "# Comparison Between TreeValue and Tianshou Batch"
   ]
  },
  {
   "cell_type": "markdown",
   "id": "3c6db2d4",
   "metadata": {},
   "source": [
    "In this section, we will take a look at the feature and performance of the [Tianshou Batch](https://github.com/thu-ml/tianshou) library, which is developed by Tsinghua Machine Learning Group."
   ]
  },
  {
   "cell_type": "markdown",
   "id": "069361b0",
   "metadata": {},
   "source": [
    "Before starting the comparison, let us define some thing."
   ]
  },
  {
   "cell_type": "code",
   "execution_count": 1,
   "id": "06fc8d26",
   "metadata": {
    "execution": {
     "iopub.execute_input": "2023-03-16T08:49:26.011703Z",
     "iopub.status.busy": "2023-03-16T08:49:26.011301Z",
     "iopub.status.idle": "2023-03-16T08:49:27.345646Z",
     "shell.execute_reply": "2023-03-16T08:49:27.344948Z"
    }
   },
   "outputs": [],
   "source": [
    "import torch \n",
    "\n",
    "_TREE_DATA_1 = {'a': 1, 'b': 2, 'x': {'c': 3, 'd': 4}}\n",
    "_TREE_DATA_2 = {\n",
    "    'a': torch.randn(2, 3), \n",
    "    'x': {\n",
    "        'c': torch.randn(3, 4)\n",
    "    },\n",
    "}\n",
    "_TREE_DATA_3 = {\n",
    "    'obs': torch.randn(4, 84, 84),\n",
    "    'action': torch.randint(0, 6, size=(1,)),\n",
    "    'reward': torch.rand(1),\n",
    "}"
   ]
  },
  {
   "cell_type": "markdown",
   "id": "83461b25",
   "metadata": {},
   "source": [
    "## Read and Write Operation"
   ]
  },
  {
   "cell_type": "markdown",
   "id": "067b3f73",
   "metadata": {},
   "source": [
    "Reading and writing are the two most common operations in the tree data structure based on the data model (TreeValue and Tianshou Batch both belong to this type), so this section will compare the reading and writing performance of these two libraries."
   ]
  },
  {
   "cell_type": "markdown",
   "id": "5d09a5b7",
   "metadata": {},
   "source": [
    "### TreeValue's Get and Set"
   ]
  },
  {
   "cell_type": "code",
   "execution_count": 2,
   "id": "9519c4bb",
   "metadata": {
    "execution": {
     "iopub.execute_input": "2023-03-16T08:49:27.349036Z",
     "iopub.status.busy": "2023-03-16T08:49:27.348738Z",
     "iopub.status.idle": "2023-03-16T08:49:27.376246Z",
     "shell.execute_reply": "2023-03-16T08:49:27.375606Z"
    }
   },
   "outputs": [],
   "source": [
    "from treevalue import FastTreeValue\n",
    "\n",
    "t = FastTreeValue(_TREE_DATA_2)"
   ]
  },
  {
   "cell_type": "code",
   "execution_count": 3,
   "id": "11c37677",
   "metadata": {
    "execution": {
     "iopub.execute_input": "2023-03-16T08:49:27.379345Z",
     "iopub.status.busy": "2023-03-16T08:49:27.378959Z",
     "iopub.status.idle": "2023-03-16T08:49:27.389991Z",
     "shell.execute_reply": "2023-03-16T08:49:27.389400Z"
    }
   },
   "outputs": [
    {
     "data": {
      "text/plain": [
       "<FastTreeValue 0x7f14bd863ee0>\n",
       "├── 'a' --> tensor([[ 1.1330, -1.7494, -0.0496],\n",
       "│                   [-1.0600, -0.1308,  0.3478]])\n",
       "└── 'x' --> <FastTreeValue 0x7f14bd863e20>\n",
       "    └── 'c' --> tensor([[ 0.5837,  0.9151,  0.2042,  1.4552],\n",
       "                        [ 0.3049, -0.9904,  1.6513, -0.3715],\n",
       "                        [ 1.5892,  0.4484, -1.1044,  0.1686]])"
      ]
     },
     "execution_count": 3,
     "metadata": {},
     "output_type": "execute_result"
    }
   ],
   "source": [
    "t"
   ]
  },
  {
   "cell_type": "code",
   "execution_count": 4,
   "id": "fd70b0b9",
   "metadata": {
    "execution": {
     "iopub.execute_input": "2023-03-16T08:49:27.393036Z",
     "iopub.status.busy": "2023-03-16T08:49:27.392564Z",
     "iopub.status.idle": "2023-03-16T08:49:27.398733Z",
     "shell.execute_reply": "2023-03-16T08:49:27.398170Z"
    }
   },
   "outputs": [
    {
     "data": {
      "text/plain": [
       "tensor([[ 1.1330, -1.7494, -0.0496],\n",
       "        [-1.0600, -0.1308,  0.3478]])"
      ]
     },
     "execution_count": 4,
     "metadata": {},
     "output_type": "execute_result"
    }
   ],
   "source": [
    "t.a"
   ]
  },
  {
   "cell_type": "code",
   "execution_count": 5,
   "id": "c18197bd",
   "metadata": {
    "execution": {
     "iopub.execute_input": "2023-03-16T08:49:27.401067Z",
     "iopub.status.busy": "2023-03-16T08:49:27.400859Z",
     "iopub.status.idle": "2023-03-16T08:49:32.260402Z",
     "shell.execute_reply": "2023-03-16T08:49:32.259685Z"
    }
   },
   "outputs": [
    {
     "name": "stdout",
     "output_type": "stream",
     "text": [
      "59.8 ns ± 0.0445 ns per loop (mean ± std. dev. of 7 runs, 10,000,000 loops each)\n"
     ]
    }
   ],
   "source": [
    "%timeit t.a"
   ]
  },
  {
   "cell_type": "code",
   "execution_count": 6,
   "id": "bd52f867",
   "metadata": {
    "execution": {
     "iopub.execute_input": "2023-03-16T08:49:32.263273Z",
     "iopub.status.busy": "2023-03-16T08:49:32.262911Z",
     "iopub.status.idle": "2023-03-16T08:49:32.269779Z",
     "shell.execute_reply": "2023-03-16T08:49:32.269160Z"
    }
   },
   "outputs": [
    {
     "data": {
      "text/plain": [
       "<FastTreeValue 0x7f14bd863ee0>\n",
       "├── 'a' --> tensor([[-1.6558, -1.1380,  0.7775],\n",
       "│                   [-0.1031,  0.7079, -1.4526]])\n",
       "└── 'x' --> <FastTreeValue 0x7f14bd863e20>\n",
       "    └── 'c' --> tensor([[ 0.5837,  0.9151,  0.2042,  1.4552],\n",
       "                        [ 0.3049, -0.9904,  1.6513, -0.3715],\n",
       "                        [ 1.5892,  0.4484, -1.1044,  0.1686]])"
      ]
     },
     "execution_count": 6,
     "metadata": {},
     "output_type": "execute_result"
    }
   ],
   "source": [
    "new_value = torch.randn(2, 3)\n",
    "t.a = new_value\n",
    "\n",
    "t"
   ]
  },
  {
   "cell_type": "code",
   "execution_count": 7,
   "id": "bbe04d1c",
   "metadata": {
    "execution": {
     "iopub.execute_input": "2023-03-16T08:49:32.272239Z",
     "iopub.status.busy": "2023-03-16T08:49:32.272022Z",
     "iopub.status.idle": "2023-03-16T08:49:36.979949Z",
     "shell.execute_reply": "2023-03-16T08:49:36.979183Z"
    }
   },
   "outputs": [
    {
     "name": "stdout",
     "output_type": "stream",
     "text": [
      "58.1 ns ± 0.0408 ns per loop (mean ± std. dev. of 7 runs, 10,000,000 loops each)\n"
     ]
    }
   ],
   "source": [
    "%timeit t.a = new_value"
   ]
  },
  {
   "cell_type": "markdown",
   "id": "48c49731",
   "metadata": {},
   "source": [
    "### Tianshou Batch's Get and Set"
   ]
  },
  {
   "cell_type": "code",
   "execution_count": 8,
   "id": "f1bb14c1",
   "metadata": {
    "execution": {
     "iopub.execute_input": "2023-03-16T08:49:36.982888Z",
     "iopub.status.busy": "2023-03-16T08:49:36.982493Z",
     "iopub.status.idle": "2023-03-16T08:49:37.596082Z",
     "shell.execute_reply": "2023-03-16T08:49:37.595406Z"
    }
   },
   "outputs": [],
   "source": [
    "from tianshou.data import Batch\n",
    "\n",
    "b = Batch(**_TREE_DATA_2)"
   ]
  },
  {
   "cell_type": "code",
   "execution_count": 9,
   "id": "cb0777c3",
   "metadata": {
    "execution": {
     "iopub.execute_input": "2023-03-16T08:49:37.599671Z",
     "iopub.status.busy": "2023-03-16T08:49:37.598974Z",
     "iopub.status.idle": "2023-03-16T08:49:37.606453Z",
     "shell.execute_reply": "2023-03-16T08:49:37.605860Z"
    }
   },
   "outputs": [
    {
     "data": {
      "text/plain": [
       "Batch(\n",
       "    a: tensor([[ 1.1330, -1.7494, -0.0496],\n",
       "               [-1.0600, -0.1308,  0.3478]]),\n",
       "    x: Batch(\n",
       "           c: tensor([[ 0.5837,  0.9151,  0.2042,  1.4552],\n",
       "                      [ 0.3049, -0.9904,  1.6513, -0.3715],\n",
       "                      [ 1.5892,  0.4484, -1.1044,  0.1686]]),\n",
       "       ),\n",
       ")"
      ]
     },
     "execution_count": 9,
     "metadata": {},
     "output_type": "execute_result"
    }
   ],
   "source": [
    "b"
   ]
  },
  {
   "cell_type": "code",
   "execution_count": 10,
   "id": "43ef8ea3",
   "metadata": {
    "execution": {
     "iopub.execute_input": "2023-03-16T08:49:37.609540Z",
     "iopub.status.busy": "2023-03-16T08:49:37.608961Z",
     "iopub.status.idle": "2023-03-16T08:49:37.615349Z",
     "shell.execute_reply": "2023-03-16T08:49:37.614693Z"
    }
   },
   "outputs": [
    {
     "data": {
      "text/plain": [
       "tensor([[ 1.1330, -1.7494, -0.0496],\n",
       "        [-1.0600, -0.1308,  0.3478]])"
      ]
     },
     "execution_count": 10,
     "metadata": {},
     "output_type": "execute_result"
    }
   ],
   "source": [
    "b.a"
   ]
  },
  {
   "cell_type": "code",
   "execution_count": 11,
   "id": "b785ab72",
   "metadata": {
    "execution": {
     "iopub.execute_input": "2023-03-16T08:49:37.618352Z",
     "iopub.status.busy": "2023-03-16T08:49:37.617831Z",
     "iopub.status.idle": "2023-03-16T08:49:42.009715Z",
     "shell.execute_reply": "2023-03-16T08:49:42.008997Z"
    }
   },
   "outputs": [
    {
     "name": "stdout",
     "output_type": "stream",
     "text": [
      "54.1 ns ± 0.0504 ns per loop (mean ± std. dev. of 7 runs, 10,000,000 loops each)\n"
     ]
    }
   ],
   "source": [
    "%timeit b.a"
   ]
  },
  {
   "cell_type": "code",
   "execution_count": 12,
   "id": "ad54dc69",
   "metadata": {
    "execution": {
     "iopub.execute_input": "2023-03-16T08:49:42.013108Z",
     "iopub.status.busy": "2023-03-16T08:49:42.012477Z",
     "iopub.status.idle": "2023-03-16T08:49:42.019209Z",
     "shell.execute_reply": "2023-03-16T08:49:42.018589Z"
    }
   },
   "outputs": [
    {
     "data": {
      "text/plain": [
       "Batch(\n",
       "    a: tensor([[-1.6344,  1.1913, -0.3414],\n",
       "               [-0.5470, -0.0174,  0.0759]]),\n",
       "    x: Batch(\n",
       "           c: tensor([[ 0.5837,  0.9151,  0.2042,  1.4552],\n",
       "                      [ 0.3049, -0.9904,  1.6513, -0.3715],\n",
       "                      [ 1.5892,  0.4484, -1.1044,  0.1686]]),\n",
       "       ),\n",
       ")"
      ]
     },
     "execution_count": 12,
     "metadata": {},
     "output_type": "execute_result"
    }
   ],
   "source": [
    "new_value = torch.randn(2, 3)\n",
    "b.a = new_value\n",
    "\n",
    "b"
   ]
  },
  {
   "cell_type": "code",
   "execution_count": 13,
   "id": "29b1d0bf",
   "metadata": {
    "execution": {
     "iopub.execute_input": "2023-03-16T08:49:42.021751Z",
     "iopub.status.busy": "2023-03-16T08:49:42.021396Z",
     "iopub.status.idle": "2023-03-16T08:49:45.944276Z",
     "shell.execute_reply": "2023-03-16T08:49:45.943537Z"
    }
   },
   "outputs": [
    {
     "name": "stdout",
     "output_type": "stream",
     "text": [
      "482 ns ± 0.16 ns per loop (mean ± std. dev. of 7 runs, 1,000,000 loops each)\n"
     ]
    }
   ],
   "source": [
    "%timeit b.a = new_value"
   ]
  },
  {
   "cell_type": "markdown",
   "id": "b61ad1d0",
   "metadata": {},
   "source": [
    "## Initialization"
   ]
  },
  {
   "cell_type": "markdown",
   "id": "d70f0d54",
   "metadata": {},
   "source": [
    "### TreeValue's Initialization"
   ]
  },
  {
   "cell_type": "code",
   "execution_count": 14,
   "id": "d32a679b",
   "metadata": {
    "execution": {
     "iopub.execute_input": "2023-03-16T08:49:45.947475Z",
     "iopub.status.busy": "2023-03-16T08:49:45.946908Z",
     "iopub.status.idle": "2023-03-16T08:49:52.892164Z",
     "shell.execute_reply": "2023-03-16T08:49:52.891455Z"
    }
   },
   "outputs": [
    {
     "name": "stdout",
     "output_type": "stream",
     "text": [
      "855 ns ± 0.212 ns per loop (mean ± std. dev. of 7 runs, 1,000,000 loops each)\n"
     ]
    }
   ],
   "source": [
    "%timeit FastTreeValue(_TREE_DATA_1)"
   ]
  },
  {
   "cell_type": "markdown",
   "id": "24f3707b",
   "metadata": {},
   "source": [
    "### Tianshou Batch's Initialization"
   ]
  },
  {
   "cell_type": "code",
   "execution_count": 15,
   "id": "ac3958df",
   "metadata": {
    "execution": {
     "iopub.execute_input": "2023-03-16T08:49:52.895494Z",
     "iopub.status.busy": "2023-03-16T08:49:52.894899Z",
     "iopub.status.idle": "2023-03-16T08:50:02.292051Z",
     "shell.execute_reply": "2023-03-16T08:50:02.291328Z"
    }
   },
   "outputs": [
    {
     "name": "stdout",
     "output_type": "stream",
     "text": [
      "11.6 µs ± 52.1 ns per loop (mean ± std. dev. of 7 runs, 100,000 loops each)\n"
     ]
    }
   ],
   "source": [
    "%timeit Batch(**_TREE_DATA_1)"
   ]
  },
  {
   "cell_type": "markdown",
   "id": "1ab82e2d",
   "metadata": {},
   "source": [
    "## Deep Copy Operation"
   ]
  },
  {
   "cell_type": "code",
   "execution_count": 16,
   "id": "210a9442",
   "metadata": {
    "execution": {
     "iopub.execute_input": "2023-03-16T08:50:02.294971Z",
     "iopub.status.busy": "2023-03-16T08:50:02.294610Z",
     "iopub.status.idle": "2023-03-16T08:50:02.298646Z",
     "shell.execute_reply": "2023-03-16T08:50:02.298067Z"
    }
   },
   "outputs": [],
   "source": [
    "import copy"
   ]
  },
  {
   "cell_type": "markdown",
   "id": "5a736274",
   "metadata": {},
   "source": [
    "### Deep Copy of TreeValue"
   ]
  },
  {
   "cell_type": "code",
   "execution_count": 17,
   "id": "f9bcadd6",
   "metadata": {
    "execution": {
     "iopub.execute_input": "2023-03-16T08:50:02.301054Z",
     "iopub.status.busy": "2023-03-16T08:50:02.300841Z",
     "iopub.status.idle": "2023-03-16T08:50:13.708550Z",
     "shell.execute_reply": "2023-03-16T08:50:13.707988Z"
    }
   },
   "outputs": [
    {
     "name": "stdout",
     "output_type": "stream",
     "text": [
      "141 µs ± 562 ns per loop (mean ± std. dev. of 7 runs, 10,000 loops each)\n"
     ]
    }
   ],
   "source": [
    "t3 = FastTreeValue(_TREE_DATA_3)\n",
    "%timeit copy.deepcopy(t3)"
   ]
  },
  {
   "cell_type": "markdown",
   "id": "bf8be7ea",
   "metadata": {},
   "source": [
    "### Deep Copy of Tianshou Batch"
   ]
  },
  {
   "cell_type": "code",
   "execution_count": 18,
   "id": "91998e6f",
   "metadata": {
    "execution": {
     "iopub.execute_input": "2023-03-16T08:50:13.711324Z",
     "iopub.status.busy": "2023-03-16T08:50:13.710880Z",
     "iopub.status.idle": "2023-03-16T08:50:25.148161Z",
     "shell.execute_reply": "2023-03-16T08:50:25.147571Z"
    }
   },
   "outputs": [
    {
     "name": "stdout",
     "output_type": "stream",
     "text": [
      "141 µs ± 238 ns per loop (mean ± std. dev. of 7 runs, 10,000 loops each)\n"
     ]
    }
   ],
   "source": [
    "b3 = Batch(**_TREE_DATA_3)\n",
    "%timeit copy.deepcopy(b3)"
   ]
  },
  {
   "cell_type": "markdown",
   "id": "223162fb",
   "metadata": {},
   "source": [
    "## Stack, Concat and Split Operation"
   ]
  },
  {
   "cell_type": "markdown",
   "id": "85fa4a73",
   "metadata": {},
   "source": [
    "### Performance of TreeValue"
   ]
  },
  {
   "cell_type": "code",
   "execution_count": 19,
   "id": "a0c2b697",
   "metadata": {
    "execution": {
     "iopub.execute_input": "2023-03-16T08:50:25.151714Z",
     "iopub.status.busy": "2023-03-16T08:50:25.150676Z",
     "iopub.status.idle": "2023-03-16T08:50:25.155086Z",
     "shell.execute_reply": "2023-03-16T08:50:25.154526Z"
    }
   },
   "outputs": [],
   "source": [
    "trees = [FastTreeValue(_TREE_DATA_2) for _ in range(8)]"
   ]
  },
  {
   "cell_type": "code",
   "execution_count": 20,
   "id": "017ea5a5",
   "metadata": {
    "execution": {
     "iopub.execute_input": "2023-03-16T08:50:25.158734Z",
     "iopub.status.busy": "2023-03-16T08:50:25.157791Z",
     "iopub.status.idle": "2023-03-16T08:50:25.166901Z",
     "shell.execute_reply": "2023-03-16T08:50:25.166368Z"
    }
   },
   "outputs": [
    {
     "data": {
      "text/plain": [
       "<FastTreeValue 0x7f13e59a8f70>\n",
       "├── 'a' --> tensor([[[ 1.1330, -1.7494, -0.0496],\n",
       "│                    [-1.0600, -0.1308,  0.3478]],\n",
       "│           \n",
       "│                   [[ 1.1330, -1.7494, -0.0496],\n",
       "│                    [-1.0600, -0.1308,  0.3478]],\n",
       "│           \n",
       "│                   [[ 1.1330, -1.7494, -0.0496],\n",
       "│                    [-1.0600, -0.1308,  0.3478]],\n",
       "│           \n",
       "│                   [[ 1.1330, -1.7494, -0.0496],\n",
       "│                    [-1.0600, -0.1308,  0.3478]],\n",
       "│           \n",
       "│                   [[ 1.1330, -1.7494, -0.0496],\n",
       "│                    [-1.0600, -0.1308,  0.3478]],\n",
       "│           \n",
       "│                   [[ 1.1330, -1.7494, -0.0496],\n",
       "│                    [-1.0600, -0.1308,  0.3478]],\n",
       "│           \n",
       "│                   [[ 1.1330, -1.7494, -0.0496],\n",
       "│                    [-1.0600, -0.1308,  0.3478]],\n",
       "│           \n",
       "│                   [[ 1.1330, -1.7494, -0.0496],\n",
       "│                    [-1.0600, -0.1308,  0.3478]]])\n",
       "└── 'x' --> <FastTreeValue 0x7f13e59a8d00>\n",
       "    └── 'c' --> tensor([[[ 0.5837,  0.9151,  0.2042,  1.4552],\n",
       "                         [ 0.3049, -0.9904,  1.6513, -0.3715],\n",
       "                         [ 1.5892,  0.4484, -1.1044,  0.1686]],\n",
       "                \n",
       "                        [[ 0.5837,  0.9151,  0.2042,  1.4552],\n",
       "                         [ 0.3049, -0.9904,  1.6513, -0.3715],\n",
       "                         [ 1.5892,  0.4484, -1.1044,  0.1686]],\n",
       "                \n",
       "                        [[ 0.5837,  0.9151,  0.2042,  1.4552],\n",
       "                         [ 0.3049, -0.9904,  1.6513, -0.3715],\n",
       "                         [ 1.5892,  0.4484, -1.1044,  0.1686]],\n",
       "                \n",
       "                        [[ 0.5837,  0.9151,  0.2042,  1.4552],\n",
       "                         [ 0.3049, -0.9904,  1.6513, -0.3715],\n",
       "                         [ 1.5892,  0.4484, -1.1044,  0.1686]],\n",
       "                \n",
       "                        [[ 0.5837,  0.9151,  0.2042,  1.4552],\n",
       "                         [ 0.3049, -0.9904,  1.6513, -0.3715],\n",
       "                         [ 1.5892,  0.4484, -1.1044,  0.1686]],\n",
       "                \n",
       "                        [[ 0.5837,  0.9151,  0.2042,  1.4552],\n",
       "                         [ 0.3049, -0.9904,  1.6513, -0.3715],\n",
       "                         [ 1.5892,  0.4484, -1.1044,  0.1686]],\n",
       "                \n",
       "                        [[ 0.5837,  0.9151,  0.2042,  1.4552],\n",
       "                         [ 0.3049, -0.9904,  1.6513, -0.3715],\n",
       "                         [ 1.5892,  0.4484, -1.1044,  0.1686]],\n",
       "                \n",
       "                        [[ 0.5837,  0.9151,  0.2042,  1.4552],\n",
       "                         [ 0.3049, -0.9904,  1.6513, -0.3715],\n",
       "                         [ 1.5892,  0.4484, -1.1044,  0.1686]]])"
      ]
     },
     "execution_count": 20,
     "metadata": {},
     "output_type": "execute_result"
    }
   ],
   "source": [
    "t_stack = FastTreeValue.func(subside=True)(torch.stack)\n",
    "\n",
    "t_stack(trees)"
   ]
  },
  {
   "cell_type": "code",
   "execution_count": 21,
   "id": "f8b3f415",
   "metadata": {
    "execution": {
     "iopub.execute_input": "2023-03-16T08:50:25.170508Z",
     "iopub.status.busy": "2023-03-16T08:50:25.169582Z",
     "iopub.status.idle": "2023-03-16T08:50:27.822156Z",
     "shell.execute_reply": "2023-03-16T08:50:27.821439Z"
    }
   },
   "outputs": [
    {
     "name": "stdout",
     "output_type": "stream",
     "text": [
      "32.6 µs ± 44.6 ns per loop (mean ± std. dev. of 7 runs, 10,000 loops each)\n"
     ]
    }
   ],
   "source": [
    "%timeit t_stack(trees)"
   ]
  },
  {
   "cell_type": "code",
   "execution_count": 22,
   "id": "94b56771",
   "metadata": {
    "execution": {
     "iopub.execute_input": "2023-03-16T08:50:27.825353Z",
     "iopub.status.busy": "2023-03-16T08:50:27.824797Z",
     "iopub.status.idle": "2023-03-16T08:50:27.833058Z",
     "shell.execute_reply": "2023-03-16T08:50:27.832452Z"
    }
   },
   "outputs": [
    {
     "data": {
      "text/plain": [
       "<FastTreeValue 0x7f13f5bdd520>\n",
       "├── 'a' --> tensor([[ 1.1330, -1.7494, -0.0496],\n",
       "│                   [-1.0600, -0.1308,  0.3478],\n",
       "│                   [ 1.1330, -1.7494, -0.0496],\n",
       "│                   [-1.0600, -0.1308,  0.3478],\n",
       "│                   [ 1.1330, -1.7494, -0.0496],\n",
       "│                   [-1.0600, -0.1308,  0.3478],\n",
       "│                   [ 1.1330, -1.7494, -0.0496],\n",
       "│                   [-1.0600, -0.1308,  0.3478],\n",
       "│                   [ 1.1330, -1.7494, -0.0496],\n",
       "│                   [-1.0600, -0.1308,  0.3478],\n",
       "│                   [ 1.1330, -1.7494, -0.0496],\n",
       "│                   [-1.0600, -0.1308,  0.3478],\n",
       "│                   [ 1.1330, -1.7494, -0.0496],\n",
       "│                   [-1.0600, -0.1308,  0.3478],\n",
       "│                   [ 1.1330, -1.7494, -0.0496],\n",
       "│                   [-1.0600, -0.1308,  0.3478]])\n",
       "└── 'x' --> <FastTreeValue 0x7f14bd87c040>\n",
       "    └── 'c' --> tensor([[ 0.5837,  0.9151,  0.2042,  1.4552],\n",
       "                        [ 0.3049, -0.9904,  1.6513, -0.3715],\n",
       "                        [ 1.5892,  0.4484, -1.1044,  0.1686],\n",
       "                        [ 0.5837,  0.9151,  0.2042,  1.4552],\n",
       "                        [ 0.3049, -0.9904,  1.6513, -0.3715],\n",
       "                        [ 1.5892,  0.4484, -1.1044,  0.1686],\n",
       "                        [ 0.5837,  0.9151,  0.2042,  1.4552],\n",
       "                        [ 0.3049, -0.9904,  1.6513, -0.3715],\n",
       "                        [ 1.5892,  0.4484, -1.1044,  0.1686],\n",
       "                        [ 0.5837,  0.9151,  0.2042,  1.4552],\n",
       "                        [ 0.3049, -0.9904,  1.6513, -0.3715],\n",
       "                        [ 1.5892,  0.4484, -1.1044,  0.1686],\n",
       "                        [ 0.5837,  0.9151,  0.2042,  1.4552],\n",
       "                        [ 0.3049, -0.9904,  1.6513, -0.3715],\n",
       "                        [ 1.5892,  0.4484, -1.1044,  0.1686],\n",
       "                        [ 0.5837,  0.9151,  0.2042,  1.4552],\n",
       "                        [ 0.3049, -0.9904,  1.6513, -0.3715],\n",
       "                        [ 1.5892,  0.4484, -1.1044,  0.1686],\n",
       "                        [ 0.5837,  0.9151,  0.2042,  1.4552],\n",
       "                        [ 0.3049, -0.9904,  1.6513, -0.3715],\n",
       "                        [ 1.5892,  0.4484, -1.1044,  0.1686],\n",
       "                        [ 0.5837,  0.9151,  0.2042,  1.4552],\n",
       "                        [ 0.3049, -0.9904,  1.6513, -0.3715],\n",
       "                        [ 1.5892,  0.4484, -1.1044,  0.1686]])"
      ]
     },
     "execution_count": 22,
     "metadata": {},
     "output_type": "execute_result"
    }
   ],
   "source": [
    "t_cat = FastTreeValue.func(subside=True)(torch.cat)\n",
    "\n",
    "t_cat(trees)"
   ]
  },
  {
   "cell_type": "code",
   "execution_count": 23,
   "id": "5e9c06a6",
   "metadata": {
    "execution": {
     "iopub.execute_input": "2023-03-16T08:50:27.835687Z",
     "iopub.status.busy": "2023-03-16T08:50:27.835454Z",
     "iopub.status.idle": "2023-03-16T08:50:30.316397Z",
     "shell.execute_reply": "2023-03-16T08:50:30.315681Z"
    }
   },
   "outputs": [
    {
     "name": "stdout",
     "output_type": "stream",
     "text": [
      "30.5 µs ± 86.8 ns per loop (mean ± std. dev. of 7 runs, 10,000 loops each)\n"
     ]
    }
   ],
   "source": [
    "%timeit t_cat(trees)"
   ]
  },
  {
   "cell_type": "code",
   "execution_count": 24,
   "id": "a3ab5c8f",
   "metadata": {
    "execution": {
     "iopub.execute_input": "2023-03-16T08:50:30.319712Z",
     "iopub.status.busy": "2023-03-16T08:50:30.319203Z",
     "iopub.status.idle": "2023-03-16T08:50:35.903314Z",
     "shell.execute_reply": "2023-03-16T08:50:35.902540Z"
    }
   },
   "outputs": [
    {
     "name": "stdout",
     "output_type": "stream",
     "text": [
      "68.7 µs ± 89.2 ns per loop (mean ± std. dev. of 7 runs, 10,000 loops each)\n"
     ]
    }
   ],
   "source": [
    "t_split = FastTreeValue.func(rise=True)(torch.split)\n",
    "tree = FastTreeValue({\n",
    "    'obs': torch.randn(8, 4, 84, 84),\n",
    "    'action': torch.randint(0, 6, size=(8, 1,)),\n",
    "    'reward': torch.rand(8, 1),\n",
    "})\n",
    "\n",
    "%timeit t_split(tree, 1)"
   ]
  },
  {
   "cell_type": "markdown",
   "id": "31c3ec0b",
   "metadata": {},
   "source": [
    "### Performance of Tianshou Batch"
   ]
  },
  {
   "cell_type": "code",
   "execution_count": 25,
   "id": "9ead828a",
   "metadata": {
    "execution": {
     "iopub.execute_input": "2023-03-16T08:50:35.906183Z",
     "iopub.status.busy": "2023-03-16T08:50:35.905801Z",
     "iopub.status.idle": "2023-03-16T08:50:35.914007Z",
     "shell.execute_reply": "2023-03-16T08:50:35.913406Z"
    }
   },
   "outputs": [
    {
     "data": {
      "text/plain": [
       "Batch(\n",
       "    x: Batch(\n",
       "           c: tensor([[[ 0.5837,  0.9151,  0.2042,  1.4552],\n",
       "                       [ 0.3049, -0.9904,  1.6513, -0.3715],\n",
       "                       [ 1.5892,  0.4484, -1.1044,  0.1686]],\n",
       "              \n",
       "                      [[ 0.5837,  0.9151,  0.2042,  1.4552],\n",
       "                       [ 0.3049, -0.9904,  1.6513, -0.3715],\n",
       "                       [ 1.5892,  0.4484, -1.1044,  0.1686]],\n",
       "              \n",
       "                      [[ 0.5837,  0.9151,  0.2042,  1.4552],\n",
       "                       [ 0.3049, -0.9904,  1.6513, -0.3715],\n",
       "                       [ 1.5892,  0.4484, -1.1044,  0.1686]],\n",
       "              \n",
       "                      [[ 0.5837,  0.9151,  0.2042,  1.4552],\n",
       "                       [ 0.3049, -0.9904,  1.6513, -0.3715],\n",
       "                       [ 1.5892,  0.4484, -1.1044,  0.1686]],\n",
       "              \n",
       "                      [[ 0.5837,  0.9151,  0.2042,  1.4552],\n",
       "                       [ 0.3049, -0.9904,  1.6513, -0.3715],\n",
       "                       [ 1.5892,  0.4484, -1.1044,  0.1686]],\n",
       "              \n",
       "                      [[ 0.5837,  0.9151,  0.2042,  1.4552],\n",
       "                       [ 0.3049, -0.9904,  1.6513, -0.3715],\n",
       "                       [ 1.5892,  0.4484, -1.1044,  0.1686]],\n",
       "              \n",
       "                      [[ 0.5837,  0.9151,  0.2042,  1.4552],\n",
       "                       [ 0.3049, -0.9904,  1.6513, -0.3715],\n",
       "                       [ 1.5892,  0.4484, -1.1044,  0.1686]],\n",
       "              \n",
       "                      [[ 0.5837,  0.9151,  0.2042,  1.4552],\n",
       "                       [ 0.3049, -0.9904,  1.6513, -0.3715],\n",
       "                       [ 1.5892,  0.4484, -1.1044,  0.1686]]]),\n",
       "       ),\n",
       "    a: tensor([[[ 1.1330, -1.7494, -0.0496],\n",
       "                [-1.0600, -0.1308,  0.3478]],\n",
       "       \n",
       "               [[ 1.1330, -1.7494, -0.0496],\n",
       "                [-1.0600, -0.1308,  0.3478]],\n",
       "       \n",
       "               [[ 1.1330, -1.7494, -0.0496],\n",
       "                [-1.0600, -0.1308,  0.3478]],\n",
       "       \n",
       "               [[ 1.1330, -1.7494, -0.0496],\n",
       "                [-1.0600, -0.1308,  0.3478]],\n",
       "       \n",
       "               [[ 1.1330, -1.7494, -0.0496],\n",
       "                [-1.0600, -0.1308,  0.3478]],\n",
       "       \n",
       "               [[ 1.1330, -1.7494, -0.0496],\n",
       "                [-1.0600, -0.1308,  0.3478]],\n",
       "       \n",
       "               [[ 1.1330, -1.7494, -0.0496],\n",
       "                [-1.0600, -0.1308,  0.3478]],\n",
       "       \n",
       "               [[ 1.1330, -1.7494, -0.0496],\n",
       "                [-1.0600, -0.1308,  0.3478]]]),\n",
       ")"
      ]
     },
     "execution_count": 25,
     "metadata": {},
     "output_type": "execute_result"
    }
   ],
   "source": [
    "batches = [Batch(**_TREE_DATA_2) for _ in range(8)]\n",
    "\n",
    "Batch.stack(batches)"
   ]
  },
  {
   "cell_type": "code",
   "execution_count": 26,
   "id": "ec9037a3",
   "metadata": {
    "execution": {
     "iopub.execute_input": "2023-03-16T08:50:35.916714Z",
     "iopub.status.busy": "2023-03-16T08:50:35.916162Z",
     "iopub.status.idle": "2023-03-16T08:50:42.376478Z",
     "shell.execute_reply": "2023-03-16T08:50:42.375721Z"
    }
   },
   "outputs": [
    {
     "name": "stdout",
     "output_type": "stream",
     "text": [
      "79.4 µs ± 288 ns per loop (mean ± std. dev. of 7 runs, 10,000 loops each)\n"
     ]
    }
   ],
   "source": [
    "%timeit Batch.stack(batches)"
   ]
  },
  {
   "cell_type": "code",
   "execution_count": 27,
   "id": "cb8ab77e",
   "metadata": {
    "execution": {
     "iopub.execute_input": "2023-03-16T08:50:42.379539Z",
     "iopub.status.busy": "2023-03-16T08:50:42.379185Z",
     "iopub.status.idle": "2023-03-16T08:50:42.386879Z",
     "shell.execute_reply": "2023-03-16T08:50:42.386303Z"
    }
   },
   "outputs": [
    {
     "data": {
      "text/plain": [
       "Batch(\n",
       "    x: Batch(\n",
       "           c: tensor([[ 0.5837,  0.9151,  0.2042,  1.4552],\n",
       "                      [ 0.3049, -0.9904,  1.6513, -0.3715],\n",
       "                      [ 1.5892,  0.4484, -1.1044,  0.1686],\n",
       "                      [ 0.5837,  0.9151,  0.2042,  1.4552],\n",
       "                      [ 0.3049, -0.9904,  1.6513, -0.3715],\n",
       "                      [ 1.5892,  0.4484, -1.1044,  0.1686],\n",
       "                      [ 0.5837,  0.9151,  0.2042,  1.4552],\n",
       "                      [ 0.3049, -0.9904,  1.6513, -0.3715],\n",
       "                      [ 1.5892,  0.4484, -1.1044,  0.1686],\n",
       "                      [ 0.5837,  0.9151,  0.2042,  1.4552],\n",
       "                      [ 0.3049, -0.9904,  1.6513, -0.3715],\n",
       "                      [ 1.5892,  0.4484, -1.1044,  0.1686],\n",
       "                      [ 0.5837,  0.9151,  0.2042,  1.4552],\n",
       "                      [ 0.3049, -0.9904,  1.6513, -0.3715],\n",
       "                      [ 1.5892,  0.4484, -1.1044,  0.1686],\n",
       "                      [ 0.5837,  0.9151,  0.2042,  1.4552],\n",
       "                      [ 0.3049, -0.9904,  1.6513, -0.3715],\n",
       "                      [ 1.5892,  0.4484, -1.1044,  0.1686],\n",
       "                      [ 0.5837,  0.9151,  0.2042,  1.4552],\n",
       "                      [ 0.3049, -0.9904,  1.6513, -0.3715],\n",
       "                      [ 1.5892,  0.4484, -1.1044,  0.1686],\n",
       "                      [ 0.5837,  0.9151,  0.2042,  1.4552],\n",
       "                      [ 0.3049, -0.9904,  1.6513, -0.3715],\n",
       "                      [ 1.5892,  0.4484, -1.1044,  0.1686]]),\n",
       "       ),\n",
       "    a: tensor([[ 1.1330, -1.7494, -0.0496],\n",
       "               [-1.0600, -0.1308,  0.3478],\n",
       "               [ 1.1330, -1.7494, -0.0496],\n",
       "               [-1.0600, -0.1308,  0.3478],\n",
       "               [ 1.1330, -1.7494, -0.0496],\n",
       "               [-1.0600, -0.1308,  0.3478],\n",
       "               [ 1.1330, -1.7494, -0.0496],\n",
       "               [-1.0600, -0.1308,  0.3478],\n",
       "               [ 1.1330, -1.7494, -0.0496],\n",
       "               [-1.0600, -0.1308,  0.3478],\n",
       "               [ 1.1330, -1.7494, -0.0496],\n",
       "               [-1.0600, -0.1308,  0.3478],\n",
       "               [ 1.1330, -1.7494, -0.0496],\n",
       "               [-1.0600, -0.1308,  0.3478],\n",
       "               [ 1.1330, -1.7494, -0.0496],\n",
       "               [-1.0600, -0.1308,  0.3478]]),\n",
       ")"
      ]
     },
     "execution_count": 27,
     "metadata": {},
     "output_type": "execute_result"
    }
   ],
   "source": [
    "Batch.cat(batches)"
   ]
  },
  {
   "cell_type": "code",
   "execution_count": 28,
   "id": "18dfb045",
   "metadata": {
    "execution": {
     "iopub.execute_input": "2023-03-16T08:50:42.389783Z",
     "iopub.status.busy": "2023-03-16T08:50:42.389302Z",
     "iopub.status.idle": "2023-03-16T08:50:54.237935Z",
     "shell.execute_reply": "2023-03-16T08:50:54.237217Z"
    }
   },
   "outputs": [
    {
     "name": "stdout",
     "output_type": "stream",
     "text": [
      "146 µs ± 303 ns per loop (mean ± std. dev. of 7 runs, 10,000 loops each)\n"
     ]
    }
   ],
   "source": [
    "%timeit Batch.cat(batches)"
   ]
  },
  {
   "cell_type": "code",
   "execution_count": 29,
   "id": "c6688e51",
   "metadata": {
    "execution": {
     "iopub.execute_input": "2023-03-16T08:50:54.241190Z",
     "iopub.status.busy": "2023-03-16T08:50:54.240661Z",
     "iopub.status.idle": "2023-03-16T08:50:56.832631Z",
     "shell.execute_reply": "2023-03-16T08:50:56.832077Z"
    }
   },
   "outputs": [
    {
     "name": "stdout",
     "output_type": "stream",
     "text": [
      "319 µs ± 11.7 µs per loop (mean ± std. dev. of 7 runs, 1,000 loops each)\n"
     ]
    }
   ],
   "source": [
    "batch = Batch({\n",
    "    'obs': torch.randn(8, 4, 84, 84),\n",
    "    'action': torch.randint(0, 6, size=(8, 1,)),\n",
    "    'reward': torch.rand(8, 1)}\n",
    ")\n",
    "\n",
    "%timeit list(Batch.split(batch, 1, shuffle=False, merge_last=True))"
   ]
  },
  {
   "cell_type": "code",
   "execution_count": null,
   "id": "2539fbd9",
   "metadata": {},
   "outputs": [],
   "source": []
  }
 ],
 "metadata": {
  "kernelspec": {
   "display_name": "Python 3 (ipykernel)",
   "language": "python",
   "name": "python3"
  },
  "language_info": {
   "codemirror_mode": {
    "name": "ipython",
    "version": 3
   },
   "file_extension": ".py",
   "mimetype": "text/x-python",
   "name": "python",
   "nbconvert_exporter": "python",
   "pygments_lexer": "ipython3",
   "version": "3.8.16"
  }
 },
 "nbformat": 4,
 "nbformat_minor": 5
}
