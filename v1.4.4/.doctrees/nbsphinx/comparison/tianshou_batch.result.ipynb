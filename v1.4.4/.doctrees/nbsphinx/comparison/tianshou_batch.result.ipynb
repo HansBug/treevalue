{
 "cells": [
  {
   "cell_type": "markdown",
   "id": "9d39d946",
   "metadata": {},
   "source": [
    "# Comparison Between TreeValue and Tianshou Batch"
   ]
  },
  {
   "cell_type": "markdown",
   "id": "3c6db2d4",
   "metadata": {},
   "source": [
    "In this section, we will take a look at the feature and performance of the [Tianshou Batch](https://github.com/thu-ml/tianshou) library, which is developed by Tsinghua Machine Learning Group."
   ]
  },
  {
   "cell_type": "markdown",
   "id": "069361b0",
   "metadata": {},
   "source": [
    "Before starting the comparison, let us define some thing."
   ]
  },
  {
   "cell_type": "code",
   "execution_count": 1,
   "id": "06fc8d26",
   "metadata": {
    "execution": {
     "iopub.execute_input": "2023-02-25T07:30:05.469803Z",
     "iopub.status.busy": "2023-02-25T07:30:05.469301Z",
     "iopub.status.idle": "2023-02-25T07:30:06.606060Z",
     "shell.execute_reply": "2023-02-25T07:30:06.604888Z"
    }
   },
   "outputs": [
    {
     "name": "stderr",
     "output_type": "stream",
     "text": [
      "/opt/hostedtoolcache/Python/3.8.16/x64/lib/python3.8/site-packages/tqdm/auto.py:22: TqdmWarning: IProgress not found. Please update jupyter and ipywidgets. See https://ipywidgets.readthedocs.io/en/stable/user_install.html\n",
      "  from .autonotebook import tqdm as notebook_tqdm\n"
     ]
    }
   ],
   "source": [
    "import torch \n",
    "\n",
    "_TREE_DATA_1 = {'a': 1, 'b': 2, 'x': {'c': 3, 'd': 4}}\n",
    "_TREE_DATA_2 = {\n",
    "    'a': torch.randn(2, 3), \n",
    "    'x': {\n",
    "        'c': torch.randn(3, 4)\n",
    "    },\n",
    "}\n",
    "_TREE_DATA_3 = {\n",
    "    'obs': torch.randn(4, 84, 84),\n",
    "    'action': torch.randint(0, 6, size=(1,)),\n",
    "    'reward': torch.rand(1),\n",
    "}"
   ]
  },
  {
   "cell_type": "markdown",
   "id": "83461b25",
   "metadata": {},
   "source": [
    "## Read and Write Operation"
   ]
  },
  {
   "cell_type": "markdown",
   "id": "067b3f73",
   "metadata": {},
   "source": [
    "Reading and writing are the two most common operations in the tree data structure based on the data model (TreeValue and Tianshou Batch both belong to this type), so this section will compare the reading and writing performance of these two libraries."
   ]
  },
  {
   "cell_type": "markdown",
   "id": "5d09a5b7",
   "metadata": {},
   "source": [
    "### TreeValue's Get and Set"
   ]
  },
  {
   "cell_type": "code",
   "execution_count": 2,
   "id": "9519c4bb",
   "metadata": {
    "execution": {
     "iopub.execute_input": "2023-02-25T07:30:06.611173Z",
     "iopub.status.busy": "2023-02-25T07:30:06.610341Z",
     "iopub.status.idle": "2023-02-25T07:30:06.651578Z",
     "shell.execute_reply": "2023-02-25T07:30:06.650775Z"
    }
   },
   "outputs": [],
   "source": [
    "from treevalue import FastTreeValue\n",
    "\n",
    "t = FastTreeValue(_TREE_DATA_2)"
   ]
  },
  {
   "cell_type": "code",
   "execution_count": 3,
   "id": "11c37677",
   "metadata": {
    "execution": {
     "iopub.execute_input": "2023-02-25T07:30:06.655385Z",
     "iopub.status.busy": "2023-02-25T07:30:06.655053Z",
     "iopub.status.idle": "2023-02-25T07:30:06.664925Z",
     "shell.execute_reply": "2023-02-25T07:30:06.664127Z"
    }
   },
   "outputs": [
    {
     "data": {
      "text/plain": [
       "<FastTreeValue 0x7fd9d435b370>\n",
       "├── 'a' --> tensor([[-1.3007,  0.7796, -2.2928],\n",
       "│                   [-0.4884,  0.5153, -1.7789]])\n",
       "└── 'x' --> <FastTreeValue 0x7fda78306190>\n",
       "    └── 'c' --> tensor([[-1.2972, -1.3576,  1.4951,  0.6746],\n",
       "                        [-0.2503, -0.4120,  1.8680, -0.1202],\n",
       "                        [-0.0511, -0.1759,  0.9793,  1.0093]])"
      ]
     },
     "execution_count": 3,
     "metadata": {},
     "output_type": "execute_result"
    }
   ],
   "source": [
    "t"
   ]
  },
  {
   "cell_type": "code",
   "execution_count": 4,
   "id": "fd70b0b9",
   "metadata": {
    "execution": {
     "iopub.execute_input": "2023-02-25T07:30:06.668828Z",
     "iopub.status.busy": "2023-02-25T07:30:06.668198Z",
     "iopub.status.idle": "2023-02-25T07:30:06.673927Z",
     "shell.execute_reply": "2023-02-25T07:30:06.673170Z"
    }
   },
   "outputs": [
    {
     "data": {
      "text/plain": [
       "tensor([[-1.3007,  0.7796, -2.2928],\n",
       "        [-0.4884,  0.5153, -1.7789]])"
      ]
     },
     "execution_count": 4,
     "metadata": {},
     "output_type": "execute_result"
    }
   ],
   "source": [
    "t.a"
   ]
  },
  {
   "cell_type": "code",
   "execution_count": 5,
   "id": "c18197bd",
   "metadata": {
    "execution": {
     "iopub.execute_input": "2023-02-25T07:30:06.677639Z",
     "iopub.status.busy": "2023-02-25T07:30:06.677117Z",
     "iopub.status.idle": "2023-02-25T07:30:12.822009Z",
     "shell.execute_reply": "2023-02-25T07:30:12.820931Z"
    }
   },
   "outputs": [
    {
     "name": "stdout",
     "output_type": "stream",
     "text": [
      "75.8 ns ± 0.584 ns per loop (mean ± std. dev. of 7 runs, 10,000,000 loops each)\n"
     ]
    }
   ],
   "source": [
    "%timeit t.a"
   ]
  },
  {
   "cell_type": "code",
   "execution_count": 6,
   "id": "bd52f867",
   "metadata": {
    "execution": {
     "iopub.execute_input": "2023-02-25T07:30:12.826267Z",
     "iopub.status.busy": "2023-02-25T07:30:12.825513Z",
     "iopub.status.idle": "2023-02-25T07:30:12.834299Z",
     "shell.execute_reply": "2023-02-25T07:30:12.833586Z"
    }
   },
   "outputs": [
    {
     "data": {
      "text/plain": [
       "<FastTreeValue 0x7fd9d435b370>\n",
       "├── 'a' --> tensor([[-1.5389e+00, -1.4651e+00, -2.1312e-04],\n",
       "│                   [ 5.1682e-01,  3.5543e-01, -6.7369e-02]])\n",
       "└── 'x' --> <FastTreeValue 0x7fda78306190>\n",
       "    └── 'c' --> tensor([[-1.2972, -1.3576,  1.4951,  0.6746],\n",
       "                        [-0.2503, -0.4120,  1.8680, -0.1202],\n",
       "                        [-0.0511, -0.1759,  0.9793,  1.0093]])"
      ]
     },
     "execution_count": 6,
     "metadata": {},
     "output_type": "execute_result"
    }
   ],
   "source": [
    "new_value = torch.randn(2, 3)\n",
    "t.a = new_value\n",
    "\n",
    "t"
   ]
  },
  {
   "cell_type": "code",
   "execution_count": 7,
   "id": "bbe04d1c",
   "metadata": {
    "execution": {
     "iopub.execute_input": "2023-02-25T07:30:12.837842Z",
     "iopub.status.busy": "2023-02-25T07:30:12.837161Z",
     "iopub.status.idle": "2023-02-25T07:30:19.169472Z",
     "shell.execute_reply": "2023-02-25T07:30:19.168226Z"
    }
   },
   "outputs": [
    {
     "name": "stdout",
     "output_type": "stream",
     "text": [
      "78 ns ± 0.325 ns per loop (mean ± std. dev. of 7 runs, 10,000,000 loops each)\n"
     ]
    }
   ],
   "source": [
    "%timeit t.a = new_value"
   ]
  },
  {
   "cell_type": "markdown",
   "id": "48c49731",
   "metadata": {},
   "source": [
    "### Tianshou Batch's Get and Set"
   ]
  },
  {
   "cell_type": "code",
   "execution_count": 8,
   "id": "f1bb14c1",
   "metadata": {
    "execution": {
     "iopub.execute_input": "2023-02-25T07:30:19.174377Z",
     "iopub.status.busy": "2023-02-25T07:30:19.173867Z",
     "iopub.status.idle": "2023-02-25T07:30:19.596590Z",
     "shell.execute_reply": "2023-02-25T07:30:19.594984Z"
    }
   },
   "outputs": [],
   "source": [
    "from tianshou.data import Batch\n",
    "\n",
    "b = Batch(**_TREE_DATA_2)"
   ]
  },
  {
   "cell_type": "code",
   "execution_count": 9,
   "id": "cb0777c3",
   "metadata": {
    "execution": {
     "iopub.execute_input": "2023-02-25T07:30:19.602783Z",
     "iopub.status.busy": "2023-02-25T07:30:19.600998Z",
     "iopub.status.idle": "2023-02-25T07:30:19.609887Z",
     "shell.execute_reply": "2023-02-25T07:30:19.609223Z"
    }
   },
   "outputs": [
    {
     "data": {
      "text/plain": [
       "Batch(\n",
       "    a: tensor([[-1.3007,  0.7796, -2.2928],\n",
       "               [-0.4884,  0.5153, -1.7789]]),\n",
       "    x: Batch(\n",
       "           c: tensor([[-1.2972, -1.3576,  1.4951,  0.6746],\n",
       "                      [-0.2503, -0.4120,  1.8680, -0.1202],\n",
       "                      [-0.0511, -0.1759,  0.9793,  1.0093]]),\n",
       "       ),\n",
       ")"
      ]
     },
     "execution_count": 9,
     "metadata": {},
     "output_type": "execute_result"
    }
   ],
   "source": [
    "b"
   ]
  },
  {
   "cell_type": "code",
   "execution_count": 10,
   "id": "43ef8ea3",
   "metadata": {
    "execution": {
     "iopub.execute_input": "2023-02-25T07:30:19.613172Z",
     "iopub.status.busy": "2023-02-25T07:30:19.612662Z",
     "iopub.status.idle": "2023-02-25T07:30:19.620112Z",
     "shell.execute_reply": "2023-02-25T07:30:19.619446Z"
    }
   },
   "outputs": [
    {
     "data": {
      "text/plain": [
       "tensor([[-1.3007,  0.7796, -2.2928],\n",
       "        [-0.4884,  0.5153, -1.7789]])"
      ]
     },
     "execution_count": 10,
     "metadata": {},
     "output_type": "execute_result"
    }
   ],
   "source": [
    "b.a"
   ]
  },
  {
   "cell_type": "code",
   "execution_count": 11,
   "id": "b785ab72",
   "metadata": {
    "execution": {
     "iopub.execute_input": "2023-02-25T07:30:19.623199Z",
     "iopub.status.busy": "2023-02-25T07:30:19.622819Z",
     "iopub.status.idle": "2023-02-25T07:30:25.305074Z",
     "shell.execute_reply": "2023-02-25T07:30:25.302240Z"
    }
   },
   "outputs": [
    {
     "name": "stdout",
     "output_type": "stream",
     "text": [
      "69.6 ns ± 0.434 ns per loop (mean ± std. dev. of 7 runs, 10,000,000 loops each)\n"
     ]
    }
   ],
   "source": [
    "%timeit b.a"
   ]
  },
  {
   "cell_type": "code",
   "execution_count": 12,
   "id": "ad54dc69",
   "metadata": {
    "execution": {
     "iopub.execute_input": "2023-02-25T07:30:25.310282Z",
     "iopub.status.busy": "2023-02-25T07:30:25.309312Z",
     "iopub.status.idle": "2023-02-25T07:30:25.319106Z",
     "shell.execute_reply": "2023-02-25T07:30:25.318286Z"
    }
   },
   "outputs": [
    {
     "data": {
      "text/plain": [
       "Batch(\n",
       "    a: tensor([[-1.1301,  1.6840, -0.2957],\n",
       "               [-1.0503,  0.7669, -0.0469]]),\n",
       "    x: Batch(\n",
       "           c: tensor([[-1.2972, -1.3576,  1.4951,  0.6746],\n",
       "                      [-0.2503, -0.4120,  1.8680, -0.1202],\n",
       "                      [-0.0511, -0.1759,  0.9793,  1.0093]]),\n",
       "       ),\n",
       ")"
      ]
     },
     "execution_count": 12,
     "metadata": {},
     "output_type": "execute_result"
    }
   ],
   "source": [
    "new_value = torch.randn(2, 3)\n",
    "b.a = new_value\n",
    "\n",
    "b"
   ]
  },
  {
   "cell_type": "code",
   "execution_count": 13,
   "id": "29b1d0bf",
   "metadata": {
    "execution": {
     "iopub.execute_input": "2023-02-25T07:30:25.322551Z",
     "iopub.status.busy": "2023-02-25T07:30:25.322105Z",
     "iopub.status.idle": "2023-02-25T07:30:29.987052Z",
     "shell.execute_reply": "2023-02-25T07:30:29.985935Z"
    }
   },
   "outputs": [
    {
     "name": "stdout",
     "output_type": "stream",
     "text": [
      "572 ns ± 3.19 ns per loop (mean ± std. dev. of 7 runs, 1,000,000 loops each)\n"
     ]
    }
   ],
   "source": [
    "%timeit b.a = new_value"
   ]
  },
  {
   "cell_type": "markdown",
   "id": "b61ad1d0",
   "metadata": {},
   "source": [
    "## Initialization"
   ]
  },
  {
   "cell_type": "markdown",
   "id": "d70f0d54",
   "metadata": {},
   "source": [
    "### TreeValue's Initialization"
   ]
  },
  {
   "cell_type": "code",
   "execution_count": 14,
   "id": "d32a679b",
   "metadata": {
    "execution": {
     "iopub.execute_input": "2023-02-25T07:30:29.991964Z",
     "iopub.status.busy": "2023-02-25T07:30:29.990931Z",
     "iopub.status.idle": "2023-02-25T07:30:38.027032Z",
     "shell.execute_reply": "2023-02-25T07:30:38.025600Z"
    }
   },
   "outputs": [
    {
     "name": "stdout",
     "output_type": "stream",
     "text": [
      "985 ns ± 19.3 ns per loop (mean ± std. dev. of 7 runs, 1,000,000 loops each)\n"
     ]
    }
   ],
   "source": [
    "%timeit FastTreeValue(_TREE_DATA_1)"
   ]
  },
  {
   "cell_type": "markdown",
   "id": "24f3707b",
   "metadata": {},
   "source": [
    "### Tianshou Batch's Initialization"
   ]
  },
  {
   "cell_type": "code",
   "execution_count": 15,
   "id": "ac3958df",
   "metadata": {
    "execution": {
     "iopub.execute_input": "2023-02-25T07:30:38.030778Z",
     "iopub.status.busy": "2023-02-25T07:30:38.030210Z",
     "iopub.status.idle": "2023-02-25T07:30:47.575756Z",
     "shell.execute_reply": "2023-02-25T07:30:47.574869Z"
    }
   },
   "outputs": [
    {
     "name": "stdout",
     "output_type": "stream",
     "text": [
      "11.8 µs ± 41.5 ns per loop (mean ± std. dev. of 7 runs, 100,000 loops each)\n"
     ]
    }
   ],
   "source": [
    "%timeit Batch(**_TREE_DATA_1)"
   ]
  },
  {
   "cell_type": "markdown",
   "id": "1ab82e2d",
   "metadata": {},
   "source": [
    "## Deep Copy Operation"
   ]
  },
  {
   "cell_type": "code",
   "execution_count": 16,
   "id": "210a9442",
   "metadata": {
    "execution": {
     "iopub.execute_input": "2023-02-25T07:30:47.579537Z",
     "iopub.status.busy": "2023-02-25T07:30:47.578905Z",
     "iopub.status.idle": "2023-02-25T07:30:47.584395Z",
     "shell.execute_reply": "2023-02-25T07:30:47.583654Z"
    }
   },
   "outputs": [],
   "source": [
    "import copy"
   ]
  },
  {
   "cell_type": "markdown",
   "id": "5a736274",
   "metadata": {},
   "source": [
    "### Deep Copy of TreeValue"
   ]
  },
  {
   "cell_type": "code",
   "execution_count": 17,
   "id": "f9bcadd6",
   "metadata": {
    "execution": {
     "iopub.execute_input": "2023-02-25T07:30:47.588133Z",
     "iopub.status.busy": "2023-02-25T07:30:47.587314Z",
     "iopub.status.idle": "2023-02-25T07:31:00.965109Z",
     "shell.execute_reply": "2023-02-25T07:31:00.964390Z"
    }
   },
   "outputs": [
    {
     "name": "stdout",
     "output_type": "stream",
     "text": [
      "164 µs ± 1.14 µs per loop (mean ± std. dev. of 7 runs, 10,000 loops each)\n"
     ]
    }
   ],
   "source": [
    "t3 = FastTreeValue(_TREE_DATA_3)\n",
    "%timeit copy.deepcopy(t3)"
   ]
  },
  {
   "cell_type": "markdown",
   "id": "bf8be7ea",
   "metadata": {},
   "source": [
    "### Deep Copy of Tianshou Batch"
   ]
  },
  {
   "cell_type": "code",
   "execution_count": 18,
   "id": "91998e6f",
   "metadata": {
    "execution": {
     "iopub.execute_input": "2023-02-25T07:31:00.968672Z",
     "iopub.status.busy": "2023-02-25T07:31:00.967789Z",
     "iopub.status.idle": "2023-02-25T07:31:14.006130Z",
     "shell.execute_reply": "2023-02-25T07:31:14.005412Z"
    }
   },
   "outputs": [
    {
     "name": "stdout",
     "output_type": "stream",
     "text": [
      "161 µs ± 807 ns per loop (mean ± std. dev. of 7 runs, 10,000 loops each)\n"
     ]
    }
   ],
   "source": [
    "b3 = Batch(**_TREE_DATA_3)\n",
    "%timeit copy.deepcopy(b3)"
   ]
  },
  {
   "cell_type": "markdown",
   "id": "223162fb",
   "metadata": {},
   "source": [
    "## Stack, Concat and Split Operation"
   ]
  },
  {
   "cell_type": "markdown",
   "id": "85fa4a73",
   "metadata": {},
   "source": [
    "### Performance of TreeValue"
   ]
  },
  {
   "cell_type": "code",
   "execution_count": 19,
   "id": "a0c2b697",
   "metadata": {
    "execution": {
     "iopub.execute_input": "2023-02-25T07:31:14.009911Z",
     "iopub.status.busy": "2023-02-25T07:31:14.009059Z",
     "iopub.status.idle": "2023-02-25T07:31:14.013407Z",
     "shell.execute_reply": "2023-02-25T07:31:14.012618Z"
    }
   },
   "outputs": [],
   "source": [
    "trees = [FastTreeValue(_TREE_DATA_2) for _ in range(8)]"
   ]
  },
  {
   "cell_type": "code",
   "execution_count": 20,
   "id": "017ea5a5",
   "metadata": {
    "execution": {
     "iopub.execute_input": "2023-02-25T07:31:14.016606Z",
     "iopub.status.busy": "2023-02-25T07:31:14.016097Z",
     "iopub.status.idle": "2023-02-25T07:31:14.024760Z",
     "shell.execute_reply": "2023-02-25T07:31:14.023957Z"
    }
   },
   "outputs": [
    {
     "data": {
      "text/plain": [
       "<FastTreeValue 0x7fd9cd5f5f70>\n",
       "├── 'a' --> tensor([[[-1.3007,  0.7796, -2.2928],\n",
       "│                    [-0.4884,  0.5153, -1.7789]],\n",
       "│           \n",
       "│                   [[-1.3007,  0.7796, -2.2928],\n",
       "│                    [-0.4884,  0.5153, -1.7789]],\n",
       "│           \n",
       "│                   [[-1.3007,  0.7796, -2.2928],\n",
       "│                    [-0.4884,  0.5153, -1.7789]],\n",
       "│           \n",
       "│                   [[-1.3007,  0.7796, -2.2928],\n",
       "│                    [-0.4884,  0.5153, -1.7789]],\n",
       "│           \n",
       "│                   [[-1.3007,  0.7796, -2.2928],\n",
       "│                    [-0.4884,  0.5153, -1.7789]],\n",
       "│           \n",
       "│                   [[-1.3007,  0.7796, -2.2928],\n",
       "│                    [-0.4884,  0.5153, -1.7789]],\n",
       "│           \n",
       "│                   [[-1.3007,  0.7796, -2.2928],\n",
       "│                    [-0.4884,  0.5153, -1.7789]],\n",
       "│           \n",
       "│                   [[-1.3007,  0.7796, -2.2928],\n",
       "│                    [-0.4884,  0.5153, -1.7789]]])\n",
       "└── 'x' --> <FastTreeValue 0x7fd9ccfd90a0>\n",
       "    └── 'c' --> tensor([[[-1.2972, -1.3576,  1.4951,  0.6746],\n",
       "                         [-0.2503, -0.4120,  1.8680, -0.1202],\n",
       "                         [-0.0511, -0.1759,  0.9793,  1.0093]],\n",
       "                \n",
       "                        [[-1.2972, -1.3576,  1.4951,  0.6746],\n",
       "                         [-0.2503, -0.4120,  1.8680, -0.1202],\n",
       "                         [-0.0511, -0.1759,  0.9793,  1.0093]],\n",
       "                \n",
       "                        [[-1.2972, -1.3576,  1.4951,  0.6746],\n",
       "                         [-0.2503, -0.4120,  1.8680, -0.1202],\n",
       "                         [-0.0511, -0.1759,  0.9793,  1.0093]],\n",
       "                \n",
       "                        [[-1.2972, -1.3576,  1.4951,  0.6746],\n",
       "                         [-0.2503, -0.4120,  1.8680, -0.1202],\n",
       "                         [-0.0511, -0.1759,  0.9793,  1.0093]],\n",
       "                \n",
       "                        [[-1.2972, -1.3576,  1.4951,  0.6746],\n",
       "                         [-0.2503, -0.4120,  1.8680, -0.1202],\n",
       "                         [-0.0511, -0.1759,  0.9793,  1.0093]],\n",
       "                \n",
       "                        [[-1.2972, -1.3576,  1.4951,  0.6746],\n",
       "                         [-0.2503, -0.4120,  1.8680, -0.1202],\n",
       "                         [-0.0511, -0.1759,  0.9793,  1.0093]],\n",
       "                \n",
       "                        [[-1.2972, -1.3576,  1.4951,  0.6746],\n",
       "                         [-0.2503, -0.4120,  1.8680, -0.1202],\n",
       "                         [-0.0511, -0.1759,  0.9793,  1.0093]],\n",
       "                \n",
       "                        [[-1.2972, -1.3576,  1.4951,  0.6746],\n",
       "                         [-0.2503, -0.4120,  1.8680, -0.1202],\n",
       "                         [-0.0511, -0.1759,  0.9793,  1.0093]]])"
      ]
     },
     "execution_count": 20,
     "metadata": {},
     "output_type": "execute_result"
    }
   ],
   "source": [
    "t_stack = FastTreeValue.func(subside=True)(torch.stack)\n",
    "\n",
    "t_stack(trees)"
   ]
  },
  {
   "cell_type": "code",
   "execution_count": 21,
   "id": "f8b3f415",
   "metadata": {
    "execution": {
     "iopub.execute_input": "2023-02-25T07:31:14.027917Z",
     "iopub.status.busy": "2023-02-25T07:31:14.027237Z",
     "iopub.status.idle": "2023-02-25T07:31:16.946713Z",
     "shell.execute_reply": "2023-02-25T07:31:16.944831Z"
    }
   },
   "outputs": [
    {
     "name": "stdout",
     "output_type": "stream",
     "text": [
      "35.9 µs ± 141 ns per loop (mean ± std. dev. of 7 runs, 10,000 loops each)\n"
     ]
    }
   ],
   "source": [
    "%timeit t_stack(trees)"
   ]
  },
  {
   "cell_type": "code",
   "execution_count": 22,
   "id": "94b56771",
   "metadata": {
    "execution": {
     "iopub.execute_input": "2023-02-25T07:31:16.950485Z",
     "iopub.status.busy": "2023-02-25T07:31:16.950045Z",
     "iopub.status.idle": "2023-02-25T07:31:16.959613Z",
     "shell.execute_reply": "2023-02-25T07:31:16.958894Z"
    }
   },
   "outputs": [
    {
     "data": {
      "text/plain": [
       "<FastTreeValue 0x7fd9d3be66a0>\n",
       "├── 'a' --> tensor([[-1.3007,  0.7796, -2.2928],\n",
       "│                   [-0.4884,  0.5153, -1.7789],\n",
       "│                   [-1.3007,  0.7796, -2.2928],\n",
       "│                   [-0.4884,  0.5153, -1.7789],\n",
       "│                   [-1.3007,  0.7796, -2.2928],\n",
       "│                   [-0.4884,  0.5153, -1.7789],\n",
       "│                   [-1.3007,  0.7796, -2.2928],\n",
       "│                   [-0.4884,  0.5153, -1.7789],\n",
       "│                   [-1.3007,  0.7796, -2.2928],\n",
       "│                   [-0.4884,  0.5153, -1.7789],\n",
       "│                   [-1.3007,  0.7796, -2.2928],\n",
       "│                   [-0.4884,  0.5153, -1.7789],\n",
       "│                   [-1.3007,  0.7796, -2.2928],\n",
       "│                   [-0.4884,  0.5153, -1.7789],\n",
       "│                   [-1.3007,  0.7796, -2.2928],\n",
       "│                   [-0.4884,  0.5153, -1.7789]])\n",
       "└── 'x' --> <FastTreeValue 0x7fd9d3be6df0>\n",
       "    └── 'c' --> tensor([[-1.2972, -1.3576,  1.4951,  0.6746],\n",
       "                        [-0.2503, -0.4120,  1.8680, -0.1202],\n",
       "                        [-0.0511, -0.1759,  0.9793,  1.0093],\n",
       "                        [-1.2972, -1.3576,  1.4951,  0.6746],\n",
       "                        [-0.2503, -0.4120,  1.8680, -0.1202],\n",
       "                        [-0.0511, -0.1759,  0.9793,  1.0093],\n",
       "                        [-1.2972, -1.3576,  1.4951,  0.6746],\n",
       "                        [-0.2503, -0.4120,  1.8680, -0.1202],\n",
       "                        [-0.0511, -0.1759,  0.9793,  1.0093],\n",
       "                        [-1.2972, -1.3576,  1.4951,  0.6746],\n",
       "                        [-0.2503, -0.4120,  1.8680, -0.1202],\n",
       "                        [-0.0511, -0.1759,  0.9793,  1.0093],\n",
       "                        [-1.2972, -1.3576,  1.4951,  0.6746],\n",
       "                        [-0.2503, -0.4120,  1.8680, -0.1202],\n",
       "                        [-0.0511, -0.1759,  0.9793,  1.0093],\n",
       "                        [-1.2972, -1.3576,  1.4951,  0.6746],\n",
       "                        [-0.2503, -0.4120,  1.8680, -0.1202],\n",
       "                        [-0.0511, -0.1759,  0.9793,  1.0093],\n",
       "                        [-1.2972, -1.3576,  1.4951,  0.6746],\n",
       "                        [-0.2503, -0.4120,  1.8680, -0.1202],\n",
       "                        [-0.0511, -0.1759,  0.9793,  1.0093],\n",
       "                        [-1.2972, -1.3576,  1.4951,  0.6746],\n",
       "                        [-0.2503, -0.4120,  1.8680, -0.1202],\n",
       "                        [-0.0511, -0.1759,  0.9793,  1.0093]])"
      ]
     },
     "execution_count": 22,
     "metadata": {},
     "output_type": "execute_result"
    }
   ],
   "source": [
    "t_cat = FastTreeValue.func(subside=True)(torch.cat)\n",
    "\n",
    "t_cat(trees)"
   ]
  },
  {
   "cell_type": "code",
   "execution_count": 23,
   "id": "5e9c06a6",
   "metadata": {
    "execution": {
     "iopub.execute_input": "2023-02-25T07:31:16.963267Z",
     "iopub.status.busy": "2023-02-25T07:31:16.962624Z",
     "iopub.status.idle": "2023-02-25T07:31:19.743945Z",
     "shell.execute_reply": "2023-02-25T07:31:19.742764Z"
    }
   },
   "outputs": [
    {
     "name": "stdout",
     "output_type": "stream",
     "text": [
      "34.2 µs ± 173 ns per loop (mean ± std. dev. of 7 runs, 10,000 loops each)\n"
     ]
    }
   ],
   "source": [
    "%timeit t_cat(trees)"
   ]
  },
  {
   "cell_type": "code",
   "execution_count": 24,
   "id": "a3ab5c8f",
   "metadata": {
    "execution": {
     "iopub.execute_input": "2023-02-25T07:31:19.747809Z",
     "iopub.status.busy": "2023-02-25T07:31:19.747197Z",
     "iopub.status.idle": "2023-02-25T07:31:24.886997Z",
     "shell.execute_reply": "2023-02-25T07:31:24.885692Z"
    }
   },
   "outputs": [
    {
     "name": "stdout",
     "output_type": "stream",
     "text": [
      "63.1 µs ± 436 ns per loop (mean ± std. dev. of 7 runs, 10,000 loops each)\n"
     ]
    }
   ],
   "source": [
    "t_split = FastTreeValue.func(rise=True)(torch.split)\n",
    "tree = FastTreeValue({\n",
    "    'obs': torch.randn(8, 4, 84, 84),\n",
    "    'action': torch.randint(0, 6, size=(8, 1,)),\n",
    "    'reward': torch.rand(8, 1),\n",
    "})\n",
    "\n",
    "%timeit t_split(tree, 1)"
   ]
  },
  {
   "cell_type": "markdown",
   "id": "31c3ec0b",
   "metadata": {},
   "source": [
    "### Performance of Tianshou Batch"
   ]
  },
  {
   "cell_type": "code",
   "execution_count": 25,
   "id": "9ead828a",
   "metadata": {
    "execution": {
     "iopub.execute_input": "2023-02-25T07:31:24.890785Z",
     "iopub.status.busy": "2023-02-25T07:31:24.890344Z",
     "iopub.status.idle": "2023-02-25T07:31:24.899844Z",
     "shell.execute_reply": "2023-02-25T07:31:24.899008Z"
    }
   },
   "outputs": [
    {
     "data": {
      "text/plain": [
       "Batch(\n",
       "    x: Batch(\n",
       "           c: tensor([[[-1.2972, -1.3576,  1.4951,  0.6746],\n",
       "                       [-0.2503, -0.4120,  1.8680, -0.1202],\n",
       "                       [-0.0511, -0.1759,  0.9793,  1.0093]],\n",
       "              \n",
       "                      [[-1.2972, -1.3576,  1.4951,  0.6746],\n",
       "                       [-0.2503, -0.4120,  1.8680, -0.1202],\n",
       "                       [-0.0511, -0.1759,  0.9793,  1.0093]],\n",
       "              \n",
       "                      [[-1.2972, -1.3576,  1.4951,  0.6746],\n",
       "                       [-0.2503, -0.4120,  1.8680, -0.1202],\n",
       "                       [-0.0511, -0.1759,  0.9793,  1.0093]],\n",
       "              \n",
       "                      [[-1.2972, -1.3576,  1.4951,  0.6746],\n",
       "                       [-0.2503, -0.4120,  1.8680, -0.1202],\n",
       "                       [-0.0511, -0.1759,  0.9793,  1.0093]],\n",
       "              \n",
       "                      [[-1.2972, -1.3576,  1.4951,  0.6746],\n",
       "                       [-0.2503, -0.4120,  1.8680, -0.1202],\n",
       "                       [-0.0511, -0.1759,  0.9793,  1.0093]],\n",
       "              \n",
       "                      [[-1.2972, -1.3576,  1.4951,  0.6746],\n",
       "                       [-0.2503, -0.4120,  1.8680, -0.1202],\n",
       "                       [-0.0511, -0.1759,  0.9793,  1.0093]],\n",
       "              \n",
       "                      [[-1.2972, -1.3576,  1.4951,  0.6746],\n",
       "                       [-0.2503, -0.4120,  1.8680, -0.1202],\n",
       "                       [-0.0511, -0.1759,  0.9793,  1.0093]],\n",
       "              \n",
       "                      [[-1.2972, -1.3576,  1.4951,  0.6746],\n",
       "                       [-0.2503, -0.4120,  1.8680, -0.1202],\n",
       "                       [-0.0511, -0.1759,  0.9793,  1.0093]]]),\n",
       "       ),\n",
       "    a: tensor([[[-1.3007,  0.7796, -2.2928],\n",
       "                [-0.4884,  0.5153, -1.7789]],\n",
       "       \n",
       "               [[-1.3007,  0.7796, -2.2928],\n",
       "                [-0.4884,  0.5153, -1.7789]],\n",
       "       \n",
       "               [[-1.3007,  0.7796, -2.2928],\n",
       "                [-0.4884,  0.5153, -1.7789]],\n",
       "       \n",
       "               [[-1.3007,  0.7796, -2.2928],\n",
       "                [-0.4884,  0.5153, -1.7789]],\n",
       "       \n",
       "               [[-1.3007,  0.7796, -2.2928],\n",
       "                [-0.4884,  0.5153, -1.7789]],\n",
       "       \n",
       "               [[-1.3007,  0.7796, -2.2928],\n",
       "                [-0.4884,  0.5153, -1.7789]],\n",
       "       \n",
       "               [[-1.3007,  0.7796, -2.2928],\n",
       "                [-0.4884,  0.5153, -1.7789]],\n",
       "       \n",
       "               [[-1.3007,  0.7796, -2.2928],\n",
       "                [-0.4884,  0.5153, -1.7789]]]),\n",
       ")"
      ]
     },
     "execution_count": 25,
     "metadata": {},
     "output_type": "execute_result"
    }
   ],
   "source": [
    "batches = [Batch(**_TREE_DATA_2) for _ in range(8)]\n",
    "\n",
    "Batch.stack(batches)"
   ]
  },
  {
   "cell_type": "code",
   "execution_count": 26,
   "id": "ec9037a3",
   "metadata": {
    "execution": {
     "iopub.execute_input": "2023-02-25T07:31:24.903084Z",
     "iopub.status.busy": "2023-02-25T07:31:24.902695Z",
     "iopub.status.idle": "2023-02-25T07:31:32.059725Z",
     "shell.execute_reply": "2023-02-25T07:31:32.058605Z"
    }
   },
   "outputs": [
    {
     "name": "stdout",
     "output_type": "stream",
     "text": [
      "88.1 µs ± 499 ns per loop (mean ± std. dev. of 7 runs, 10,000 loops each)\n"
     ]
    }
   ],
   "source": [
    "%timeit Batch.stack(batches)"
   ]
  },
  {
   "cell_type": "code",
   "execution_count": 27,
   "id": "cb8ab77e",
   "metadata": {
    "execution": {
     "iopub.execute_input": "2023-02-25T07:31:32.064506Z",
     "iopub.status.busy": "2023-02-25T07:31:32.063715Z",
     "iopub.status.idle": "2023-02-25T07:31:32.073247Z",
     "shell.execute_reply": "2023-02-25T07:31:32.072504Z"
    }
   },
   "outputs": [
    {
     "data": {
      "text/plain": [
       "Batch(\n",
       "    x: Batch(\n",
       "           c: tensor([[-1.2972, -1.3576,  1.4951,  0.6746],\n",
       "                      [-0.2503, -0.4120,  1.8680, -0.1202],\n",
       "                      [-0.0511, -0.1759,  0.9793,  1.0093],\n",
       "                      [-1.2972, -1.3576,  1.4951,  0.6746],\n",
       "                      [-0.2503, -0.4120,  1.8680, -0.1202],\n",
       "                      [-0.0511, -0.1759,  0.9793,  1.0093],\n",
       "                      [-1.2972, -1.3576,  1.4951,  0.6746],\n",
       "                      [-0.2503, -0.4120,  1.8680, -0.1202],\n",
       "                      [-0.0511, -0.1759,  0.9793,  1.0093],\n",
       "                      [-1.2972, -1.3576,  1.4951,  0.6746],\n",
       "                      [-0.2503, -0.4120,  1.8680, -0.1202],\n",
       "                      [-0.0511, -0.1759,  0.9793,  1.0093],\n",
       "                      [-1.2972, -1.3576,  1.4951,  0.6746],\n",
       "                      [-0.2503, -0.4120,  1.8680, -0.1202],\n",
       "                      [-0.0511, -0.1759,  0.9793,  1.0093],\n",
       "                      [-1.2972, -1.3576,  1.4951,  0.6746],\n",
       "                      [-0.2503, -0.4120,  1.8680, -0.1202],\n",
       "                      [-0.0511, -0.1759,  0.9793,  1.0093],\n",
       "                      [-1.2972, -1.3576,  1.4951,  0.6746],\n",
       "                      [-0.2503, -0.4120,  1.8680, -0.1202],\n",
       "                      [-0.0511, -0.1759,  0.9793,  1.0093],\n",
       "                      [-1.2972, -1.3576,  1.4951,  0.6746],\n",
       "                      [-0.2503, -0.4120,  1.8680, -0.1202],\n",
       "                      [-0.0511, -0.1759,  0.9793,  1.0093]]),\n",
       "       ),\n",
       "    a: tensor([[-1.3007,  0.7796, -2.2928],\n",
       "               [-0.4884,  0.5153, -1.7789],\n",
       "               [-1.3007,  0.7796, -2.2928],\n",
       "               [-0.4884,  0.5153, -1.7789],\n",
       "               [-1.3007,  0.7796, -2.2928],\n",
       "               [-0.4884,  0.5153, -1.7789],\n",
       "               [-1.3007,  0.7796, -2.2928],\n",
       "               [-0.4884,  0.5153, -1.7789],\n",
       "               [-1.3007,  0.7796, -2.2928],\n",
       "               [-0.4884,  0.5153, -1.7789],\n",
       "               [-1.3007,  0.7796, -2.2928],\n",
       "               [-0.4884,  0.5153, -1.7789],\n",
       "               [-1.3007,  0.7796, -2.2928],\n",
       "               [-0.4884,  0.5153, -1.7789],\n",
       "               [-1.3007,  0.7796, -2.2928],\n",
       "               [-0.4884,  0.5153, -1.7789]]),\n",
       ")"
      ]
     },
     "execution_count": 27,
     "metadata": {},
     "output_type": "execute_result"
    }
   ],
   "source": [
    "Batch.cat(batches)"
   ]
  },
  {
   "cell_type": "code",
   "execution_count": 28,
   "id": "18dfb045",
   "metadata": {
    "execution": {
     "iopub.execute_input": "2023-02-25T07:31:32.076760Z",
     "iopub.status.busy": "2023-02-25T07:31:32.076149Z",
     "iopub.status.idle": "2023-02-25T07:31:45.269088Z",
     "shell.execute_reply": "2023-02-25T07:31:45.268083Z"
    }
   },
   "outputs": [
    {
     "name": "stdout",
     "output_type": "stream",
     "text": [
      "163 µs ± 665 ns per loop (mean ± std. dev. of 7 runs, 10,000 loops each)\n"
     ]
    }
   ],
   "source": [
    "%timeit Batch.cat(batches)"
   ]
  },
  {
   "cell_type": "code",
   "execution_count": 29,
   "id": "c6688e51",
   "metadata": {
    "execution": {
     "iopub.execute_input": "2023-02-25T07:31:45.273108Z",
     "iopub.status.busy": "2023-02-25T07:31:45.272546Z",
     "iopub.status.idle": "2023-02-25T07:31:49.048554Z",
     "shell.execute_reply": "2023-02-25T07:31:49.047872Z"
    }
   },
   "outputs": [
    {
     "name": "stdout",
     "output_type": "stream",
     "text": [
      "474 µs ± 204 µs per loop (mean ± std. dev. of 7 runs, 1,000 loops each)\n"
     ]
    }
   ],
   "source": [
    "batch = Batch({\n",
    "    'obs': torch.randn(8, 4, 84, 84),\n",
    "    'action': torch.randint(0, 6, size=(8, 1,)),\n",
    "    'reward': torch.rand(8, 1)}\n",
    ")\n",
    "\n",
    "%timeit list(Batch.split(batch, 1, shuffle=False, merge_last=True))"
   ]
  },
  {
   "cell_type": "code",
   "execution_count": null,
   "id": "2539fbd9",
   "metadata": {},
   "outputs": [],
   "source": []
  }
 ],
 "metadata": {
  "kernelspec": {
   "display_name": "Python 3 (ipykernel)",
   "language": "python",
   "name": "python3"
  },
  "language_info": {
   "codemirror_mode": {
    "name": "ipython",
    "version": 3
   },
   "file_extension": ".py",
   "mimetype": "text/x-python",
   "name": "python",
   "nbconvert_exporter": "python",
   "pygments_lexer": "ipython3",
   "version": "3.8.16"
  }
 },
 "nbformat": 4,
 "nbformat_minor": 5
}
