{
 "cells": [
  {
   "cell_type": "markdown",
   "id": "9d39d946",
   "metadata": {},
   "source": [
    "# Comparison Between TreeValue and Tianshou Batch"
   ]
  },
  {
   "cell_type": "markdown",
   "id": "3c6db2d4",
   "metadata": {},
   "source": [
    "In this section, we will take a look at the feature and performance of the [Tianshou Batch](https://github.com/thu-ml/tianshou) library, which is developed by Tsinghua Machine Learning Group."
   ]
  },
  {
   "cell_type": "markdown",
   "id": "069361b0",
   "metadata": {},
   "source": [
    "Before starting the comparison, let us define some thing."
   ]
  },
  {
   "cell_type": "code",
   "execution_count": 1,
   "id": "06fc8d26",
   "metadata": {
    "execution": {
     "iopub.execute_input": "2023-10-22T15:50:00.628098Z",
     "iopub.status.busy": "2023-10-22T15:50:00.627545Z",
     "iopub.status.idle": "2023-10-22T15:50:02.495215Z",
     "shell.execute_reply": "2023-10-22T15:50:02.493774Z"
    }
   },
   "outputs": [],
   "source": [
    "import torch \n",
    "\n",
    "_TREE_DATA_1 = {'a': 1, 'b': 2, 'x': {'c': 3, 'd': 4}}\n",
    "_TREE_DATA_2 = {\n",
    "    'a': torch.randn(2, 3), \n",
    "    'x': {\n",
    "        'c': torch.randn(3, 4)\n",
    "    },\n",
    "}\n",
    "_TREE_DATA_3 = {\n",
    "    'obs': torch.randn(4, 84, 84),\n",
    "    'action': torch.randint(0, 6, size=(1,)),\n",
    "    'reward': torch.rand(1),\n",
    "}"
   ]
  },
  {
   "cell_type": "markdown",
   "id": "83461b25",
   "metadata": {},
   "source": [
    "## Read and Write Operation"
   ]
  },
  {
   "cell_type": "markdown",
   "id": "067b3f73",
   "metadata": {},
   "source": [
    "Reading and writing are the two most common operations in the tree data structure based on the data model (TreeValue and Tianshou Batch both belong to this type), so this section will compare the reading and writing performance of these two libraries."
   ]
  },
  {
   "cell_type": "markdown",
   "id": "5d09a5b7",
   "metadata": {},
   "source": [
    "### TreeValue's Get and Set"
   ]
  },
  {
   "cell_type": "code",
   "execution_count": 2,
   "id": "9519c4bb",
   "metadata": {
    "execution": {
     "iopub.execute_input": "2023-10-22T15:50:02.501082Z",
     "iopub.status.busy": "2023-10-22T15:50:02.500076Z",
     "iopub.status.idle": "2023-10-22T15:50:02.538751Z",
     "shell.execute_reply": "2023-10-22T15:50:02.537664Z"
    }
   },
   "outputs": [],
   "source": [
    "from treevalue import FastTreeValue\n",
    "\n",
    "t = FastTreeValue(_TREE_DATA_2)"
   ]
  },
  {
   "cell_type": "code",
   "execution_count": 3,
   "id": "11c37677",
   "metadata": {
    "execution": {
     "iopub.execute_input": "2023-10-22T15:50:02.543313Z",
     "iopub.status.busy": "2023-10-22T15:50:02.542733Z",
     "iopub.status.idle": "2023-10-22T15:50:02.555091Z",
     "shell.execute_reply": "2023-10-22T15:50:02.554327Z"
    }
   },
   "outputs": [
    {
     "data": {
      "text/plain": [
       "<FastTreeValue 0x7f29d45dc9a0>\n",
       "├── 'a' --> tensor([[-1.8462,  0.2243,  0.8181],\n",
       "│                   [-0.8258,  0.8124,  0.4211]])\n",
       "└── 'x' --> <FastTreeValue 0x7f29d45dca60>\n",
       "    └── 'c' --> tensor([[ 0.2484,  0.1564, -0.5340,  0.9071],\n",
       "                        [ 0.7290,  2.7745, -0.0589,  1.0766],\n",
       "                        [ 0.3423,  0.4663, -1.1750, -0.2259]])"
      ]
     },
     "execution_count": 3,
     "metadata": {},
     "output_type": "execute_result"
    }
   ],
   "source": [
    "t"
   ]
  },
  {
   "cell_type": "code",
   "execution_count": 4,
   "id": "fd70b0b9",
   "metadata": {
    "execution": {
     "iopub.execute_input": "2023-10-22T15:50:02.558865Z",
     "iopub.status.busy": "2023-10-22T15:50:02.558297Z",
     "iopub.status.idle": "2023-10-22T15:50:02.566966Z",
     "shell.execute_reply": "2023-10-22T15:50:02.566146Z"
    }
   },
   "outputs": [
    {
     "data": {
      "text/plain": [
       "tensor([[-1.8462,  0.2243,  0.8181],\n",
       "        [-0.8258,  0.8124,  0.4211]])"
      ]
     },
     "execution_count": 4,
     "metadata": {},
     "output_type": "execute_result"
    }
   ],
   "source": [
    "t.a"
   ]
  },
  {
   "cell_type": "code",
   "execution_count": 5,
   "id": "c18197bd",
   "metadata": {
    "execution": {
     "iopub.execute_input": "2023-10-22T15:50:02.570932Z",
     "iopub.status.busy": "2023-10-22T15:50:02.570366Z",
     "iopub.status.idle": "2023-10-22T15:50:09.862454Z",
     "shell.execute_reply": "2023-10-22T15:50:09.861256Z"
    }
   },
   "outputs": [
    {
     "name": "stdout",
     "output_type": "stream",
     "text": [
      "89.8 ns ± 1.08 ns per loop (mean ± std. dev. of 7 runs, 10,000,000 loops each)\n"
     ]
    }
   ],
   "source": [
    "%timeit t.a"
   ]
  },
  {
   "cell_type": "code",
   "execution_count": 6,
   "id": "bd52f867",
   "metadata": {
    "execution": {
     "iopub.execute_input": "2023-10-22T15:50:09.866881Z",
     "iopub.status.busy": "2023-10-22T15:50:09.866264Z",
     "iopub.status.idle": "2023-10-22T15:50:09.876299Z",
     "shell.execute_reply": "2023-10-22T15:50:09.875477Z"
    }
   },
   "outputs": [
    {
     "data": {
      "text/plain": [
       "<FastTreeValue 0x7f29d45dc9a0>\n",
       "├── 'a' --> tensor([[-0.8320,  0.1169,  2.0937],\n",
       "│                   [-1.4211, -0.5322, -0.7525]])\n",
       "└── 'x' --> <FastTreeValue 0x7f29d45dca60>\n",
       "    └── 'c' --> tensor([[ 0.2484,  0.1564, -0.5340,  0.9071],\n",
       "                        [ 0.7290,  2.7745, -0.0589,  1.0766],\n",
       "                        [ 0.3423,  0.4663, -1.1750, -0.2259]])"
      ]
     },
     "execution_count": 6,
     "metadata": {},
     "output_type": "execute_result"
    }
   ],
   "source": [
    "new_value = torch.randn(2, 3)\n",
    "t.a = new_value\n",
    "\n",
    "t"
   ]
  },
  {
   "cell_type": "code",
   "execution_count": 7,
   "id": "bbe04d1c",
   "metadata": {
    "execution": {
     "iopub.execute_input": "2023-10-22T15:50:09.880155Z",
     "iopub.status.busy": "2023-10-22T15:50:09.879603Z",
     "iopub.status.idle": "2023-10-22T15:50:17.096165Z",
     "shell.execute_reply": "2023-10-22T15:50:17.094995Z"
    }
   },
   "outputs": [
    {
     "name": "stdout",
     "output_type": "stream",
     "text": [
      "88.8 ns ± 0.311 ns per loop (mean ± std. dev. of 7 runs, 10,000,000 loops each)\n"
     ]
    }
   ],
   "source": [
    "%timeit t.a = new_value"
   ]
  },
  {
   "cell_type": "markdown",
   "id": "48c49731",
   "metadata": {},
   "source": [
    "### Tianshou Batch's Get and Set"
   ]
  },
  {
   "cell_type": "code",
   "execution_count": 8,
   "id": "f1bb14c1",
   "metadata": {
    "execution": {
     "iopub.execute_input": "2023-10-22T15:50:17.100496Z",
     "iopub.status.busy": "2023-10-22T15:50:17.099749Z",
     "iopub.status.idle": "2023-10-22T15:50:17.576665Z",
     "shell.execute_reply": "2023-10-22T15:50:17.575756Z"
    }
   },
   "outputs": [],
   "source": [
    "from tianshou.data import Batch\n",
    "\n",
    "b = Batch(**_TREE_DATA_2)"
   ]
  },
  {
   "cell_type": "code",
   "execution_count": 9,
   "id": "cb0777c3",
   "metadata": {
    "execution": {
     "iopub.execute_input": "2023-10-22T15:50:17.581871Z",
     "iopub.status.busy": "2023-10-22T15:50:17.580895Z",
     "iopub.status.idle": "2023-10-22T15:50:17.590680Z",
     "shell.execute_reply": "2023-10-22T15:50:17.589726Z"
    }
   },
   "outputs": [
    {
     "data": {
      "text/plain": [
       "Batch(\n",
       "    a: tensor([[-1.8462,  0.2243,  0.8181],\n",
       "               [-0.8258,  0.8124,  0.4211]]),\n",
       "    x: Batch(\n",
       "           c: tensor([[ 0.2484,  0.1564, -0.5340,  0.9071],\n",
       "                      [ 0.7290,  2.7745, -0.0589,  1.0766],\n",
       "                      [ 0.3423,  0.4663, -1.1750, -0.2259]]),\n",
       "       ),\n",
       ")"
      ]
     },
     "execution_count": 9,
     "metadata": {},
     "output_type": "execute_result"
    }
   ],
   "source": [
    "b"
   ]
  },
  {
   "cell_type": "code",
   "execution_count": 10,
   "id": "43ef8ea3",
   "metadata": {
    "execution": {
     "iopub.execute_input": "2023-10-22T15:50:17.594675Z",
     "iopub.status.busy": "2023-10-22T15:50:17.594111Z",
     "iopub.status.idle": "2023-10-22T15:50:17.599832Z",
     "shell.execute_reply": "2023-10-22T15:50:17.599067Z"
    }
   },
   "outputs": [
    {
     "data": {
      "text/plain": [
       "tensor([[-1.8462,  0.2243,  0.8181],\n",
       "        [-0.8258,  0.8124,  0.4211]])"
      ]
     },
     "execution_count": 10,
     "metadata": {},
     "output_type": "execute_result"
    }
   ],
   "source": [
    "b.a"
   ]
  },
  {
   "cell_type": "code",
   "execution_count": 11,
   "id": "b785ab72",
   "metadata": {
    "execution": {
     "iopub.execute_input": "2023-10-22T15:50:17.603227Z",
     "iopub.status.busy": "2023-10-22T15:50:17.602723Z",
     "iopub.status.idle": "2023-10-22T15:50:23.970905Z",
     "shell.execute_reply": "2023-10-22T15:50:23.969848Z"
    }
   },
   "outputs": [
    {
     "name": "stdout",
     "output_type": "stream",
     "text": [
      "78.5 ns ± 0.74 ns per loop (mean ± std. dev. of 7 runs, 10,000,000 loops each)\n"
     ]
    }
   ],
   "source": [
    "%timeit b.a"
   ]
  },
  {
   "cell_type": "code",
   "execution_count": 12,
   "id": "ad54dc69",
   "metadata": {
    "execution": {
     "iopub.execute_input": "2023-10-22T15:50:23.975536Z",
     "iopub.status.busy": "2023-10-22T15:50:23.974792Z",
     "iopub.status.idle": "2023-10-22T15:50:23.983765Z",
     "shell.execute_reply": "2023-10-22T15:50:23.983031Z"
    }
   },
   "outputs": [
    {
     "data": {
      "text/plain": [
       "Batch(\n",
       "    a: tensor([[-0.2754, -0.7584, -1.6150],\n",
       "               [-0.2679, -1.0617, -0.3047]]),\n",
       "    x: Batch(\n",
       "           c: tensor([[ 0.2484,  0.1564, -0.5340,  0.9071],\n",
       "                      [ 0.7290,  2.7745, -0.0589,  1.0766],\n",
       "                      [ 0.3423,  0.4663, -1.1750, -0.2259]]),\n",
       "       ),\n",
       ")"
      ]
     },
     "execution_count": 12,
     "metadata": {},
     "output_type": "execute_result"
    }
   ],
   "source": [
    "new_value = torch.randn(2, 3)\n",
    "b.a = new_value\n",
    "\n",
    "b"
   ]
  },
  {
   "cell_type": "code",
   "execution_count": 13,
   "id": "29b1d0bf",
   "metadata": {
    "execution": {
     "iopub.execute_input": "2023-10-22T15:50:23.987732Z",
     "iopub.status.busy": "2023-10-22T15:50:23.987169Z",
     "iopub.status.idle": "2023-10-22T15:50:29.265826Z",
     "shell.execute_reply": "2023-10-22T15:50:29.264811Z"
    }
   },
   "outputs": [
    {
     "name": "stdout",
     "output_type": "stream",
     "text": [
      "644 ns ± 4.46 ns per loop (mean ± std. dev. of 7 runs, 1,000,000 loops each)\n"
     ]
    }
   ],
   "source": [
    "%timeit b.a = new_value"
   ]
  },
  {
   "cell_type": "markdown",
   "id": "b61ad1d0",
   "metadata": {},
   "source": [
    "## Initialization"
   ]
  },
  {
   "cell_type": "markdown",
   "id": "d70f0d54",
   "metadata": {},
   "source": [
    "### TreeValue's Initialization"
   ]
  },
  {
   "cell_type": "code",
   "execution_count": 14,
   "id": "d32a679b",
   "metadata": {
    "execution": {
     "iopub.execute_input": "2023-10-22T15:50:29.269894Z",
     "iopub.status.busy": "2023-10-22T15:50:29.269590Z",
     "iopub.status.idle": "2023-10-22T15:50:38.036269Z",
     "shell.execute_reply": "2023-10-22T15:50:38.035097Z"
    }
   },
   "outputs": [
    {
     "name": "stdout",
     "output_type": "stream",
     "text": [
      "1.08 µs ± 6.6 ns per loop (mean ± std. dev. of 7 runs, 1,000,000 loops each)\n"
     ]
    }
   ],
   "source": [
    "%timeit FastTreeValue(_TREE_DATA_1)"
   ]
  },
  {
   "cell_type": "markdown",
   "id": "24f3707b",
   "metadata": {},
   "source": [
    "### Tianshou Batch's Initialization"
   ]
  },
  {
   "cell_type": "code",
   "execution_count": 15,
   "id": "ac3958df",
   "metadata": {
    "execution": {
     "iopub.execute_input": "2023-10-22T15:50:38.040439Z",
     "iopub.status.busy": "2023-10-22T15:50:38.039862Z",
     "iopub.status.idle": "2023-10-22T15:50:48.071358Z",
     "shell.execute_reply": "2023-10-22T15:50:48.070387Z"
    }
   },
   "outputs": [
    {
     "name": "stdout",
     "output_type": "stream",
     "text": [
      "12.4 µs ± 79.5 ns per loop (mean ± std. dev. of 7 runs, 100,000 loops each)\n"
     ]
    }
   ],
   "source": [
    "%timeit Batch(**_TREE_DATA_1)"
   ]
  },
  {
   "cell_type": "markdown",
   "id": "1ab82e2d",
   "metadata": {},
   "source": [
    "## Deep Copy Operation"
   ]
  },
  {
   "cell_type": "code",
   "execution_count": 16,
   "id": "210a9442",
   "metadata": {
    "execution": {
     "iopub.execute_input": "2023-10-22T15:50:48.075722Z",
     "iopub.status.busy": "2023-10-22T15:50:48.075016Z",
     "iopub.status.idle": "2023-10-22T15:50:48.078857Z",
     "shell.execute_reply": "2023-10-22T15:50:48.078154Z"
    }
   },
   "outputs": [],
   "source": [
    "import copy"
   ]
  },
  {
   "cell_type": "markdown",
   "id": "5a736274",
   "metadata": {},
   "source": [
    "### Deep Copy of TreeValue"
   ]
  },
  {
   "cell_type": "code",
   "execution_count": 17,
   "id": "f9bcadd6",
   "metadata": {
    "execution": {
     "iopub.execute_input": "2023-10-22T15:50:48.082992Z",
     "iopub.status.busy": "2023-10-22T15:50:48.082281Z",
     "iopub.status.idle": "2023-10-22T15:51:02.372598Z",
     "shell.execute_reply": "2023-10-22T15:51:02.371681Z"
    }
   },
   "outputs": [
    {
     "name": "stdout",
     "output_type": "stream",
     "text": [
      "176 µs ± 1.68 µs per loop (mean ± std. dev. of 7 runs, 10,000 loops each)\n"
     ]
    }
   ],
   "source": [
    "t3 = FastTreeValue(_TREE_DATA_3)\n",
    "%timeit copy.deepcopy(t3)"
   ]
  },
  {
   "cell_type": "markdown",
   "id": "bf8be7ea",
   "metadata": {},
   "source": [
    "### Deep Copy of Tianshou Batch"
   ]
  },
  {
   "cell_type": "code",
   "execution_count": 18,
   "id": "91998e6f",
   "metadata": {
    "execution": {
     "iopub.execute_input": "2023-10-22T15:51:02.377126Z",
     "iopub.status.busy": "2023-10-22T15:51:02.376484Z",
     "iopub.status.idle": "2023-10-22T15:51:17.150378Z",
     "shell.execute_reply": "2023-10-22T15:51:17.149444Z"
    }
   },
   "outputs": [
    {
     "name": "stdout",
     "output_type": "stream",
     "text": [
      "182 µs ± 7.3 µs per loop (mean ± std. dev. of 7 runs, 10,000 loops each)\n"
     ]
    }
   ],
   "source": [
    "b3 = Batch(**_TREE_DATA_3)\n",
    "%timeit copy.deepcopy(b3)"
   ]
  },
  {
   "cell_type": "markdown",
   "id": "223162fb",
   "metadata": {},
   "source": [
    "## Stack, Concat and Split Operation"
   ]
  },
  {
   "cell_type": "markdown",
   "id": "85fa4a73",
   "metadata": {},
   "source": [
    "### Performance of TreeValue"
   ]
  },
  {
   "cell_type": "code",
   "execution_count": 19,
   "id": "a0c2b697",
   "metadata": {
    "execution": {
     "iopub.execute_input": "2023-10-22T15:51:17.154949Z",
     "iopub.status.busy": "2023-10-22T15:51:17.154129Z",
     "iopub.status.idle": "2023-10-22T15:51:17.159570Z",
     "shell.execute_reply": "2023-10-22T15:51:17.158835Z"
    }
   },
   "outputs": [],
   "source": [
    "trees = [FastTreeValue(_TREE_DATA_2) for _ in range(8)]"
   ]
  },
  {
   "cell_type": "code",
   "execution_count": 20,
   "id": "017ea5a5",
   "metadata": {
    "execution": {
     "iopub.execute_input": "2023-10-22T15:51:17.163202Z",
     "iopub.status.busy": "2023-10-22T15:51:17.162680Z",
     "iopub.status.idle": "2023-10-22T15:51:17.172008Z",
     "shell.execute_reply": "2023-10-22T15:51:17.171256Z"
    }
   },
   "outputs": [
    {
     "data": {
      "text/plain": [
       "<FastTreeValue 0x7f28f6668130>\n",
       "├── 'a' --> tensor([[[-1.8462,  0.2243,  0.8181],\n",
       "│                    [-0.8258,  0.8124,  0.4211]],\n",
       "│           \n",
       "│                   [[-1.8462,  0.2243,  0.8181],\n",
       "│                    [-0.8258,  0.8124,  0.4211]],\n",
       "│           \n",
       "│                   [[-1.8462,  0.2243,  0.8181],\n",
       "│                    [-0.8258,  0.8124,  0.4211]],\n",
       "│           \n",
       "│                   [[-1.8462,  0.2243,  0.8181],\n",
       "│                    [-0.8258,  0.8124,  0.4211]],\n",
       "│           \n",
       "│                   [[-1.8462,  0.2243,  0.8181],\n",
       "│                    [-0.8258,  0.8124,  0.4211]],\n",
       "│           \n",
       "│                   [[-1.8462,  0.2243,  0.8181],\n",
       "│                    [-0.8258,  0.8124,  0.4211]],\n",
       "│           \n",
       "│                   [[-1.8462,  0.2243,  0.8181],\n",
       "│                    [-0.8258,  0.8124,  0.4211]],\n",
       "│           \n",
       "│                   [[-1.8462,  0.2243,  0.8181],\n",
       "│                    [-0.8258,  0.8124,  0.4211]]])\n",
       "└── 'x' --> <FastTreeValue 0x7f28fea5c580>\n",
       "    └── 'c' --> tensor([[[ 0.2484,  0.1564, -0.5340,  0.9071],\n",
       "                         [ 0.7290,  2.7745, -0.0589,  1.0766],\n",
       "                         [ 0.3423,  0.4663, -1.1750, -0.2259]],\n",
       "                \n",
       "                        [[ 0.2484,  0.1564, -0.5340,  0.9071],\n",
       "                         [ 0.7290,  2.7745, -0.0589,  1.0766],\n",
       "                         [ 0.3423,  0.4663, -1.1750, -0.2259]],\n",
       "                \n",
       "                        [[ 0.2484,  0.1564, -0.5340,  0.9071],\n",
       "                         [ 0.7290,  2.7745, -0.0589,  1.0766],\n",
       "                         [ 0.3423,  0.4663, -1.1750, -0.2259]],\n",
       "                \n",
       "                        [[ 0.2484,  0.1564, -0.5340,  0.9071],\n",
       "                         [ 0.7290,  2.7745, -0.0589,  1.0766],\n",
       "                         [ 0.3423,  0.4663, -1.1750, -0.2259]],\n",
       "                \n",
       "                        [[ 0.2484,  0.1564, -0.5340,  0.9071],\n",
       "                         [ 0.7290,  2.7745, -0.0589,  1.0766],\n",
       "                         [ 0.3423,  0.4663, -1.1750, -0.2259]],\n",
       "                \n",
       "                        [[ 0.2484,  0.1564, -0.5340,  0.9071],\n",
       "                         [ 0.7290,  2.7745, -0.0589,  1.0766],\n",
       "                         [ 0.3423,  0.4663, -1.1750, -0.2259]],\n",
       "                \n",
       "                        [[ 0.2484,  0.1564, -0.5340,  0.9071],\n",
       "                         [ 0.7290,  2.7745, -0.0589,  1.0766],\n",
       "                         [ 0.3423,  0.4663, -1.1750, -0.2259]],\n",
       "                \n",
       "                        [[ 0.2484,  0.1564, -0.5340,  0.9071],\n",
       "                         [ 0.7290,  2.7745, -0.0589,  1.0766],\n",
       "                         [ 0.3423,  0.4663, -1.1750, -0.2259]]])"
      ]
     },
     "execution_count": 20,
     "metadata": {},
     "output_type": "execute_result"
    }
   ],
   "source": [
    "t_stack = FastTreeValue.func(subside=True)(torch.stack)\n",
    "\n",
    "t_stack(trees)"
   ]
  },
  {
   "cell_type": "code",
   "execution_count": 21,
   "id": "f8b3f415",
   "metadata": {
    "execution": {
     "iopub.execute_input": "2023-10-22T15:51:17.175730Z",
     "iopub.status.busy": "2023-10-22T15:51:17.175212Z",
     "iopub.status.idle": "2023-10-22T15:51:20.410404Z",
     "shell.execute_reply": "2023-10-22T15:51:20.409103Z"
    }
   },
   "outputs": [
    {
     "name": "stdout",
     "output_type": "stream",
     "text": [
      "39.8 µs ± 293 ns per loop (mean ± std. dev. of 7 runs, 10,000 loops each)\n"
     ]
    }
   ],
   "source": [
    "%timeit t_stack(trees)"
   ]
  },
  {
   "cell_type": "code",
   "execution_count": 22,
   "id": "94b56771",
   "metadata": {
    "execution": {
     "iopub.execute_input": "2023-10-22T15:51:20.414511Z",
     "iopub.status.busy": "2023-10-22T15:51:20.414008Z",
     "iopub.status.idle": "2023-10-22T15:51:20.423945Z",
     "shell.execute_reply": "2023-10-22T15:51:20.423199Z"
    }
   },
   "outputs": [
    {
     "data": {
      "text/plain": [
       "<FastTreeValue 0x7f28f6668610>\n",
       "├── 'a' --> tensor([[-1.8462,  0.2243,  0.8181],\n",
       "│                   [-0.8258,  0.8124,  0.4211],\n",
       "│                   [-1.8462,  0.2243,  0.8181],\n",
       "│                   [-0.8258,  0.8124,  0.4211],\n",
       "│                   [-1.8462,  0.2243,  0.8181],\n",
       "│                   [-0.8258,  0.8124,  0.4211],\n",
       "│                   [-1.8462,  0.2243,  0.8181],\n",
       "│                   [-0.8258,  0.8124,  0.4211],\n",
       "│                   [-1.8462,  0.2243,  0.8181],\n",
       "│                   [-0.8258,  0.8124,  0.4211],\n",
       "│                   [-1.8462,  0.2243,  0.8181],\n",
       "│                   [-0.8258,  0.8124,  0.4211],\n",
       "│                   [-1.8462,  0.2243,  0.8181],\n",
       "│                   [-0.8258,  0.8124,  0.4211],\n",
       "│                   [-1.8462,  0.2243,  0.8181],\n",
       "│                   [-0.8258,  0.8124,  0.4211]])\n",
       "└── 'x' --> <FastTreeValue 0x7f29d4598070>\n",
       "    └── 'c' --> tensor([[ 0.2484,  0.1564, -0.5340,  0.9071],\n",
       "                        [ 0.7290,  2.7745, -0.0589,  1.0766],\n",
       "                        [ 0.3423,  0.4663, -1.1750, -0.2259],\n",
       "                        [ 0.2484,  0.1564, -0.5340,  0.9071],\n",
       "                        [ 0.7290,  2.7745, -0.0589,  1.0766],\n",
       "                        [ 0.3423,  0.4663, -1.1750, -0.2259],\n",
       "                        [ 0.2484,  0.1564, -0.5340,  0.9071],\n",
       "                        [ 0.7290,  2.7745, -0.0589,  1.0766],\n",
       "                        [ 0.3423,  0.4663, -1.1750, -0.2259],\n",
       "                        [ 0.2484,  0.1564, -0.5340,  0.9071],\n",
       "                        [ 0.7290,  2.7745, -0.0589,  1.0766],\n",
       "                        [ 0.3423,  0.4663, -1.1750, -0.2259],\n",
       "                        [ 0.2484,  0.1564, -0.5340,  0.9071],\n",
       "                        [ 0.7290,  2.7745, -0.0589,  1.0766],\n",
       "                        [ 0.3423,  0.4663, -1.1750, -0.2259],\n",
       "                        [ 0.2484,  0.1564, -0.5340,  0.9071],\n",
       "                        [ 0.7290,  2.7745, -0.0589,  1.0766],\n",
       "                        [ 0.3423,  0.4663, -1.1750, -0.2259],\n",
       "                        [ 0.2484,  0.1564, -0.5340,  0.9071],\n",
       "                        [ 0.7290,  2.7745, -0.0589,  1.0766],\n",
       "                        [ 0.3423,  0.4663, -1.1750, -0.2259],\n",
       "                        [ 0.2484,  0.1564, -0.5340,  0.9071],\n",
       "                        [ 0.7290,  2.7745, -0.0589,  1.0766],\n",
       "                        [ 0.3423,  0.4663, -1.1750, -0.2259]])"
      ]
     },
     "execution_count": 22,
     "metadata": {},
     "output_type": "execute_result"
    }
   ],
   "source": [
    "t_cat = FastTreeValue.func(subside=True)(torch.cat)\n",
    "\n",
    "t_cat(trees)"
   ]
  },
  {
   "cell_type": "code",
   "execution_count": 23,
   "id": "5e9c06a6",
   "metadata": {
    "execution": {
     "iopub.execute_input": "2023-10-22T15:51:20.427435Z",
     "iopub.status.busy": "2023-10-22T15:51:20.426943Z",
     "iopub.status.idle": "2023-10-22T15:51:23.552126Z",
     "shell.execute_reply": "2023-10-22T15:51:23.551087Z"
    }
   },
   "outputs": [
    {
     "name": "stdout",
     "output_type": "stream",
     "text": [
      "38.1 µs ± 57.7 ns per loop (mean ± std. dev. of 7 runs, 10,000 loops each)\n"
     ]
    }
   ],
   "source": [
    "%timeit t_cat(trees)"
   ]
  },
  {
   "cell_type": "code",
   "execution_count": 24,
   "id": "a3ab5c8f",
   "metadata": {
    "execution": {
     "iopub.execute_input": "2023-10-22T15:51:23.556580Z",
     "iopub.status.busy": "2023-10-22T15:51:23.555829Z",
     "iopub.status.idle": "2023-10-22T15:51:29.618870Z",
     "shell.execute_reply": "2023-10-22T15:51:29.617602Z"
    }
   },
   "outputs": [
    {
     "name": "stdout",
     "output_type": "stream",
     "text": [
      "74.4 µs ± 495 ns per loop (mean ± std. dev. of 7 runs, 10,000 loops each)\n"
     ]
    }
   ],
   "source": [
    "t_split = FastTreeValue.func(rise=True)(torch.split)\n",
    "tree = FastTreeValue({\n",
    "    'obs': torch.randn(8, 4, 84, 84),\n",
    "    'action': torch.randint(0, 6, size=(8, 1,)),\n",
    "    'reward': torch.rand(8, 1),\n",
    "})\n",
    "\n",
    "%timeit t_split(tree, 1)"
   ]
  },
  {
   "cell_type": "markdown",
   "id": "31c3ec0b",
   "metadata": {},
   "source": [
    "### Performance of Tianshou Batch"
   ]
  },
  {
   "cell_type": "code",
   "execution_count": 25,
   "id": "9ead828a",
   "metadata": {
    "execution": {
     "iopub.execute_input": "2023-10-22T15:51:29.623739Z",
     "iopub.status.busy": "2023-10-22T15:51:29.623014Z",
     "iopub.status.idle": "2023-10-22T15:51:29.634944Z",
     "shell.execute_reply": "2023-10-22T15:51:29.634162Z"
    }
   },
   "outputs": [
    {
     "data": {
      "text/plain": [
       "Batch(\n",
       "    a: tensor([[[-1.8462,  0.2243,  0.8181],\n",
       "                [-0.8258,  0.8124,  0.4211]],\n",
       "       \n",
       "               [[-1.8462,  0.2243,  0.8181],\n",
       "                [-0.8258,  0.8124,  0.4211]],\n",
       "       \n",
       "               [[-1.8462,  0.2243,  0.8181],\n",
       "                [-0.8258,  0.8124,  0.4211]],\n",
       "       \n",
       "               [[-1.8462,  0.2243,  0.8181],\n",
       "                [-0.8258,  0.8124,  0.4211]],\n",
       "       \n",
       "               [[-1.8462,  0.2243,  0.8181],\n",
       "                [-0.8258,  0.8124,  0.4211]],\n",
       "       \n",
       "               [[-1.8462,  0.2243,  0.8181],\n",
       "                [-0.8258,  0.8124,  0.4211]],\n",
       "       \n",
       "               [[-1.8462,  0.2243,  0.8181],\n",
       "                [-0.8258,  0.8124,  0.4211]],\n",
       "       \n",
       "               [[-1.8462,  0.2243,  0.8181],\n",
       "                [-0.8258,  0.8124,  0.4211]]]),\n",
       "    x: Batch(\n",
       "           c: tensor([[[ 0.2484,  0.1564, -0.5340,  0.9071],\n",
       "                       [ 0.7290,  2.7745, -0.0589,  1.0766],\n",
       "                       [ 0.3423,  0.4663, -1.1750, -0.2259]],\n",
       "              \n",
       "                      [[ 0.2484,  0.1564, -0.5340,  0.9071],\n",
       "                       [ 0.7290,  2.7745, -0.0589,  1.0766],\n",
       "                       [ 0.3423,  0.4663, -1.1750, -0.2259]],\n",
       "              \n",
       "                      [[ 0.2484,  0.1564, -0.5340,  0.9071],\n",
       "                       [ 0.7290,  2.7745, -0.0589,  1.0766],\n",
       "                       [ 0.3423,  0.4663, -1.1750, -0.2259]],\n",
       "              \n",
       "                      [[ 0.2484,  0.1564, -0.5340,  0.9071],\n",
       "                       [ 0.7290,  2.7745, -0.0589,  1.0766],\n",
       "                       [ 0.3423,  0.4663, -1.1750, -0.2259]],\n",
       "              \n",
       "                      [[ 0.2484,  0.1564, -0.5340,  0.9071],\n",
       "                       [ 0.7290,  2.7745, -0.0589,  1.0766],\n",
       "                       [ 0.3423,  0.4663, -1.1750, -0.2259]],\n",
       "              \n",
       "                      [[ 0.2484,  0.1564, -0.5340,  0.9071],\n",
       "                       [ 0.7290,  2.7745, -0.0589,  1.0766],\n",
       "                       [ 0.3423,  0.4663, -1.1750, -0.2259]],\n",
       "              \n",
       "                      [[ 0.2484,  0.1564, -0.5340,  0.9071],\n",
       "                       [ 0.7290,  2.7745, -0.0589,  1.0766],\n",
       "                       [ 0.3423,  0.4663, -1.1750, -0.2259]],\n",
       "              \n",
       "                      [[ 0.2484,  0.1564, -0.5340,  0.9071],\n",
       "                       [ 0.7290,  2.7745, -0.0589,  1.0766],\n",
       "                       [ 0.3423,  0.4663, -1.1750, -0.2259]]]),\n",
       "       ),\n",
       ")"
      ]
     },
     "execution_count": 25,
     "metadata": {},
     "output_type": "execute_result"
    }
   ],
   "source": [
    "batches = [Batch(**_TREE_DATA_2) for _ in range(8)]\n",
    "\n",
    "Batch.stack(batches)"
   ]
  },
  {
   "cell_type": "code",
   "execution_count": 26,
   "id": "ec9037a3",
   "metadata": {
    "execution": {
     "iopub.execute_input": "2023-10-22T15:51:29.638735Z",
     "iopub.status.busy": "2023-10-22T15:51:29.638297Z",
     "iopub.status.idle": "2023-10-22T15:51:37.618209Z",
     "shell.execute_reply": "2023-10-22T15:51:37.617445Z"
    }
   },
   "outputs": [
    {
     "name": "stdout",
     "output_type": "stream",
     "text": [
      "98 µs ± 548 ns per loop (mean ± std. dev. of 7 runs, 10,000 loops each)\n"
     ]
    }
   ],
   "source": [
    "%timeit Batch.stack(batches)"
   ]
  },
  {
   "cell_type": "code",
   "execution_count": 27,
   "id": "cb8ab77e",
   "metadata": {
    "execution": {
     "iopub.execute_input": "2023-10-22T15:51:37.622191Z",
     "iopub.status.busy": "2023-10-22T15:51:37.621694Z",
     "iopub.status.idle": "2023-10-22T15:51:37.632027Z",
     "shell.execute_reply": "2023-10-22T15:51:37.631250Z"
    }
   },
   "outputs": [
    {
     "data": {
      "text/plain": [
       "Batch(\n",
       "    a: tensor([[-1.8462,  0.2243,  0.8181],\n",
       "               [-0.8258,  0.8124,  0.4211],\n",
       "               [-1.8462,  0.2243,  0.8181],\n",
       "               [-0.8258,  0.8124,  0.4211],\n",
       "               [-1.8462,  0.2243,  0.8181],\n",
       "               [-0.8258,  0.8124,  0.4211],\n",
       "               [-1.8462,  0.2243,  0.8181],\n",
       "               [-0.8258,  0.8124,  0.4211],\n",
       "               [-1.8462,  0.2243,  0.8181],\n",
       "               [-0.8258,  0.8124,  0.4211],\n",
       "               [-1.8462,  0.2243,  0.8181],\n",
       "               [-0.8258,  0.8124,  0.4211],\n",
       "               [-1.8462,  0.2243,  0.8181],\n",
       "               [-0.8258,  0.8124,  0.4211],\n",
       "               [-1.8462,  0.2243,  0.8181],\n",
       "               [-0.8258,  0.8124,  0.4211]]),\n",
       "    x: Batch(\n",
       "           c: tensor([[ 0.2484,  0.1564, -0.5340,  0.9071],\n",
       "                      [ 0.7290,  2.7745, -0.0589,  1.0766],\n",
       "                      [ 0.3423,  0.4663, -1.1750, -0.2259],\n",
       "                      [ 0.2484,  0.1564, -0.5340,  0.9071],\n",
       "                      [ 0.7290,  2.7745, -0.0589,  1.0766],\n",
       "                      [ 0.3423,  0.4663, -1.1750, -0.2259],\n",
       "                      [ 0.2484,  0.1564, -0.5340,  0.9071],\n",
       "                      [ 0.7290,  2.7745, -0.0589,  1.0766],\n",
       "                      [ 0.3423,  0.4663, -1.1750, -0.2259],\n",
       "                      [ 0.2484,  0.1564, -0.5340,  0.9071],\n",
       "                      [ 0.7290,  2.7745, -0.0589,  1.0766],\n",
       "                      [ 0.3423,  0.4663, -1.1750, -0.2259],\n",
       "                      [ 0.2484,  0.1564, -0.5340,  0.9071],\n",
       "                      [ 0.7290,  2.7745, -0.0589,  1.0766],\n",
       "                      [ 0.3423,  0.4663, -1.1750, -0.2259],\n",
       "                      [ 0.2484,  0.1564, -0.5340,  0.9071],\n",
       "                      [ 0.7290,  2.7745, -0.0589,  1.0766],\n",
       "                      [ 0.3423,  0.4663, -1.1750, -0.2259],\n",
       "                      [ 0.2484,  0.1564, -0.5340,  0.9071],\n",
       "                      [ 0.7290,  2.7745, -0.0589,  1.0766],\n",
       "                      [ 0.3423,  0.4663, -1.1750, -0.2259],\n",
       "                      [ 0.2484,  0.1564, -0.5340,  0.9071],\n",
       "                      [ 0.7290,  2.7745, -0.0589,  1.0766],\n",
       "                      [ 0.3423,  0.4663, -1.1750, -0.2259]]),\n",
       "       ),\n",
       ")"
      ]
     },
     "execution_count": 27,
     "metadata": {},
     "output_type": "execute_result"
    }
   ],
   "source": [
    "Batch.cat(batches)"
   ]
  },
  {
   "cell_type": "code",
   "execution_count": 28,
   "id": "18dfb045",
   "metadata": {
    "execution": {
     "iopub.execute_input": "2023-10-22T15:51:37.636197Z",
     "iopub.status.busy": "2023-10-22T15:51:37.635484Z",
     "iopub.status.idle": "2023-10-22T15:51:52.271943Z",
     "shell.execute_reply": "2023-10-22T15:51:52.270646Z"
    }
   },
   "outputs": [
    {
     "name": "stdout",
     "output_type": "stream",
     "text": [
      "181 µs ± 1.28 µs per loop (mean ± std. dev. of 7 runs, 10,000 loops each)\n"
     ]
    }
   ],
   "source": [
    "%timeit Batch.cat(batches)"
   ]
  },
  {
   "cell_type": "code",
   "execution_count": 29,
   "id": "c6688e51",
   "metadata": {
    "execution": {
     "iopub.execute_input": "2023-10-22T15:51:52.276163Z",
     "iopub.status.busy": "2023-10-22T15:51:52.275459Z",
     "iopub.status.idle": "2023-10-22T15:51:55.971717Z",
     "shell.execute_reply": "2023-10-22T15:51:55.970749Z"
    }
   },
   "outputs": [
    {
     "name": "stdout",
     "output_type": "stream",
     "text": [
      "452 µs ± 4.92 µs per loop (mean ± std. dev. of 7 runs, 1,000 loops each)\n"
     ]
    }
   ],
   "source": [
    "batch = Batch({\n",
    "    'obs': torch.randn(8, 4, 84, 84),\n",
    "    'action': torch.randint(0, 6, size=(8, 1,)),\n",
    "    'reward': torch.rand(8, 1)}\n",
    ")\n",
    "\n",
    "%timeit list(Batch.split(batch, 1, shuffle=False, merge_last=True))"
   ]
  },
  {
   "cell_type": "code",
   "execution_count": null,
   "id": "2539fbd9",
   "metadata": {},
   "outputs": [],
   "source": []
  }
 ],
 "metadata": {
  "kernelspec": {
   "display_name": "Python 3 (ipykernel)",
   "language": "python",
   "name": "python3"
  },
  "language_info": {
   "codemirror_mode": {
    "name": "ipython",
    "version": 3
   },
   "file_extension": ".py",
   "mimetype": "text/x-python",
   "name": "python",
   "nbconvert_exporter": "python",
   "pygments_lexer": "ipython3",
   "version": "3.8.18"
  }
 },
 "nbformat": 4,
 "nbformat_minor": 5
}
