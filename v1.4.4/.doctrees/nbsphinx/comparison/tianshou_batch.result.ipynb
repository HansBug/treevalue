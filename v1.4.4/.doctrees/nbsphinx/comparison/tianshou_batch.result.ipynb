{
 "cells": [
  {
   "cell_type": "markdown",
   "id": "9d39d946",
   "metadata": {},
   "source": [
    "# Comparison Between TreeValue and Tianshou Batch"
   ]
  },
  {
   "cell_type": "markdown",
   "id": "3c6db2d4",
   "metadata": {},
   "source": [
    "In this section, we will take a look at the feature and performance of the [Tianshou Batch](https://github.com/thu-ml/tianshou) library, which is developed by Tsinghua Machine Learning Group."
   ]
  },
  {
   "cell_type": "markdown",
   "id": "069361b0",
   "metadata": {},
   "source": [
    "Before starting the comparison, let us define some thing."
   ]
  },
  {
   "cell_type": "code",
   "execution_count": 1,
   "id": "06fc8d26",
   "metadata": {
    "execution": {
     "iopub.execute_input": "2023-02-24T07:34:49.546675Z",
     "iopub.status.busy": "2023-02-24T07:34:49.546350Z",
     "iopub.status.idle": "2023-02-24T07:34:50.678265Z",
     "shell.execute_reply": "2023-02-24T07:34:50.676922Z"
    }
   },
   "outputs": [
    {
     "name": "stderr",
     "output_type": "stream",
     "text": [
      "/opt/hostedtoolcache/Python/3.8.16/x64/lib/python3.8/site-packages/tqdm/auto.py:22: TqdmWarning: IProgress not found. Please update jupyter and ipywidgets. See https://ipywidgets.readthedocs.io/en/stable/user_install.html\n",
      "  from .autonotebook import tqdm as notebook_tqdm\n"
     ]
    }
   ],
   "source": [
    "import torch \n",
    "\n",
    "_TREE_DATA_1 = {'a': 1, 'b': 2, 'x': {'c': 3, 'd': 4}}\n",
    "_TREE_DATA_2 = {\n",
    "    'a': torch.randn(2, 3), \n",
    "    'x': {\n",
    "        'c': torch.randn(3, 4)\n",
    "    },\n",
    "}\n",
    "_TREE_DATA_3 = {\n",
    "    'obs': torch.randn(4, 84, 84),\n",
    "    'action': torch.randint(0, 6, size=(1,)),\n",
    "    'reward': torch.rand(1),\n",
    "}"
   ]
  },
  {
   "cell_type": "markdown",
   "id": "83461b25",
   "metadata": {},
   "source": [
    "## Read and Write Operation"
   ]
  },
  {
   "cell_type": "markdown",
   "id": "067b3f73",
   "metadata": {},
   "source": [
    "Reading and writing are the two most common operations in the tree data structure based on the data model (TreeValue and Tianshou Batch both belong to this type), so this section will compare the reading and writing performance of these two libraries."
   ]
  },
  {
   "cell_type": "markdown",
   "id": "5d09a5b7",
   "metadata": {},
   "source": [
    "### TreeValue's Get and Set"
   ]
  },
  {
   "cell_type": "code",
   "execution_count": 2,
   "id": "9519c4bb",
   "metadata": {
    "execution": {
     "iopub.execute_input": "2023-02-24T07:34:50.682623Z",
     "iopub.status.busy": "2023-02-24T07:34:50.682237Z",
     "iopub.status.idle": "2023-02-24T07:34:50.723647Z",
     "shell.execute_reply": "2023-02-24T07:34:50.722776Z"
    }
   },
   "outputs": [],
   "source": [
    "from treevalue import FastTreeValue\n",
    "\n",
    "t = FastTreeValue(_TREE_DATA_2)"
   ]
  },
  {
   "cell_type": "code",
   "execution_count": 3,
   "id": "11c37677",
   "metadata": {
    "execution": {
     "iopub.execute_input": "2023-02-24T07:34:50.726709Z",
     "iopub.status.busy": "2023-02-24T07:34:50.726432Z",
     "iopub.status.idle": "2023-02-24T07:34:50.738649Z",
     "shell.execute_reply": "2023-02-24T07:34:50.737635Z"
    }
   },
   "outputs": [
    {
     "data": {
      "text/plain": [
       "<FastTreeValue 0x7f93d009feb0>\n",
       "├── 'a' --> tensor([[-0.1372,  0.0257, -0.1627],\n",
       "│                   [ 0.2138, -0.8140,  0.1865]])\n",
       "└── 'x' --> <FastTreeValue 0x7f93d009fe80>\n",
       "    └── 'c' --> tensor([[ 1.8700,  1.2475, -2.5124,  0.7783],\n",
       "                        [ 0.7391,  0.2616,  0.2534, -0.1498],\n",
       "                        [ 0.4851,  1.7314, -0.3190,  1.2785]])"
      ]
     },
     "execution_count": 3,
     "metadata": {},
     "output_type": "execute_result"
    }
   ],
   "source": [
    "t"
   ]
  },
  {
   "cell_type": "code",
   "execution_count": 4,
   "id": "fd70b0b9",
   "metadata": {
    "execution": {
     "iopub.execute_input": "2023-02-24T07:34:50.741543Z",
     "iopub.status.busy": "2023-02-24T07:34:50.741315Z",
     "iopub.status.idle": "2023-02-24T07:34:50.748331Z",
     "shell.execute_reply": "2023-02-24T07:34:50.747371Z"
    }
   },
   "outputs": [
    {
     "data": {
      "text/plain": [
       "tensor([[-0.1372,  0.0257, -0.1627],\n",
       "        [ 0.2138, -0.8140,  0.1865]])"
      ]
     },
     "execution_count": 4,
     "metadata": {},
     "output_type": "execute_result"
    }
   ],
   "source": [
    "t.a"
   ]
  },
  {
   "cell_type": "code",
   "execution_count": 5,
   "id": "c18197bd",
   "metadata": {
    "execution": {
     "iopub.execute_input": "2023-02-24T07:34:50.751708Z",
     "iopub.status.busy": "2023-02-24T07:34:50.751438Z",
     "iopub.status.idle": "2023-02-24T07:34:55.936000Z",
     "shell.execute_reply": "2023-02-24T07:34:55.935111Z"
    }
   },
   "outputs": [
    {
     "name": "stdout",
     "output_type": "stream",
     "text": [
      "63.8 ns ± 0.839 ns per loop (mean ± std. dev. of 7 runs, 10,000,000 loops each)\n"
     ]
    }
   ],
   "source": [
    "%timeit t.a"
   ]
  },
  {
   "cell_type": "code",
   "execution_count": 6,
   "id": "bd52f867",
   "metadata": {
    "execution": {
     "iopub.execute_input": "2023-02-24T07:34:55.939574Z",
     "iopub.status.busy": "2023-02-24T07:34:55.939165Z",
     "iopub.status.idle": "2023-02-24T07:34:55.947456Z",
     "shell.execute_reply": "2023-02-24T07:34:55.946497Z"
    }
   },
   "outputs": [
    {
     "data": {
      "text/plain": [
       "<FastTreeValue 0x7f93d009feb0>\n",
       "├── 'a' --> tensor([[-0.9107,  1.6172,  0.5920],\n",
       "│                   [-0.8755, -1.0268, -1.0591]])\n",
       "└── 'x' --> <FastTreeValue 0x7f93d009fe80>\n",
       "    └── 'c' --> tensor([[ 1.8700,  1.2475, -2.5124,  0.7783],\n",
       "                        [ 0.7391,  0.2616,  0.2534, -0.1498],\n",
       "                        [ 0.4851,  1.7314, -0.3190,  1.2785]])"
      ]
     },
     "execution_count": 6,
     "metadata": {},
     "output_type": "execute_result"
    }
   ],
   "source": [
    "new_value = torch.randn(2, 3)\n",
    "t.a = new_value\n",
    "\n",
    "t"
   ]
  },
  {
   "cell_type": "code",
   "execution_count": 7,
   "id": "bbe04d1c",
   "metadata": {
    "execution": {
     "iopub.execute_input": "2023-02-24T07:34:55.950792Z",
     "iopub.status.busy": "2023-02-24T07:34:55.950527Z",
     "iopub.status.idle": "2023-02-24T07:35:01.155319Z",
     "shell.execute_reply": "2023-02-24T07:35:01.154437Z"
    }
   },
   "outputs": [
    {
     "name": "stdout",
     "output_type": "stream",
     "text": [
      "64 ns ± 1.76 ns per loop (mean ± std. dev. of 7 runs, 10,000,000 loops each)\n"
     ]
    }
   ],
   "source": [
    "%timeit t.a = new_value"
   ]
  },
  {
   "cell_type": "markdown",
   "id": "48c49731",
   "metadata": {},
   "source": [
    "### Tianshou Batch's Get and Set"
   ]
  },
  {
   "cell_type": "code",
   "execution_count": 8,
   "id": "f1bb14c1",
   "metadata": {
    "execution": {
     "iopub.execute_input": "2023-02-24T07:35:01.159537Z",
     "iopub.status.busy": "2023-02-24T07:35:01.158796Z",
     "iopub.status.idle": "2023-02-24T07:35:01.586953Z",
     "shell.execute_reply": "2023-02-24T07:35:01.585642Z"
    }
   },
   "outputs": [],
   "source": [
    "from tianshou.data import Batch\n",
    "\n",
    "b = Batch(**_TREE_DATA_2)"
   ]
  },
  {
   "cell_type": "code",
   "execution_count": 9,
   "id": "cb0777c3",
   "metadata": {
    "execution": {
     "iopub.execute_input": "2023-02-24T07:35:01.592378Z",
     "iopub.status.busy": "2023-02-24T07:35:01.591489Z",
     "iopub.status.idle": "2023-02-24T07:35:01.599236Z",
     "shell.execute_reply": "2023-02-24T07:35:01.598204Z"
    }
   },
   "outputs": [
    {
     "data": {
      "text/plain": [
       "Batch(\n",
       "    a: tensor([[-0.1372,  0.0257, -0.1627],\n",
       "               [ 0.2138, -0.8140,  0.1865]]),\n",
       "    x: Batch(\n",
       "           c: tensor([[ 1.8700,  1.2475, -2.5124,  0.7783],\n",
       "                      [ 0.7391,  0.2616,  0.2534, -0.1498],\n",
       "                      [ 0.4851,  1.7314, -0.3190,  1.2785]]),\n",
       "       ),\n",
       ")"
      ]
     },
     "execution_count": 9,
     "metadata": {},
     "output_type": "execute_result"
    }
   ],
   "source": [
    "b"
   ]
  },
  {
   "cell_type": "code",
   "execution_count": 10,
   "id": "43ef8ea3",
   "metadata": {
    "execution": {
     "iopub.execute_input": "2023-02-24T07:35:01.602389Z",
     "iopub.status.busy": "2023-02-24T07:35:01.602120Z",
     "iopub.status.idle": "2023-02-24T07:35:01.608334Z",
     "shell.execute_reply": "2023-02-24T07:35:01.607425Z"
    }
   },
   "outputs": [
    {
     "data": {
      "text/plain": [
       "tensor([[-0.1372,  0.0257, -0.1627],\n",
       "        [ 0.2138, -0.8140,  0.1865]])"
      ]
     },
     "execution_count": 10,
     "metadata": {},
     "output_type": "execute_result"
    }
   ],
   "source": [
    "b.a"
   ]
  },
  {
   "cell_type": "code",
   "execution_count": 11,
   "id": "b785ab72",
   "metadata": {
    "execution": {
     "iopub.execute_input": "2023-02-24T07:35:01.611801Z",
     "iopub.status.busy": "2023-02-24T07:35:01.611248Z",
     "iopub.status.idle": "2023-02-24T07:35:06.537752Z",
     "shell.execute_reply": "2023-02-24T07:35:06.536733Z"
    }
   },
   "outputs": [
    {
     "name": "stdout",
     "output_type": "stream",
     "text": [
      "60.9 ns ± 2.4 ns per loop (mean ± std. dev. of 7 runs, 10,000,000 loops each)\n"
     ]
    }
   ],
   "source": [
    "%timeit b.a"
   ]
  },
  {
   "cell_type": "code",
   "execution_count": 12,
   "id": "ad54dc69",
   "metadata": {
    "execution": {
     "iopub.execute_input": "2023-02-24T07:35:06.541166Z",
     "iopub.status.busy": "2023-02-24T07:35:06.540747Z",
     "iopub.status.idle": "2023-02-24T07:35:06.550038Z",
     "shell.execute_reply": "2023-02-24T07:35:06.549160Z"
    }
   },
   "outputs": [
    {
     "data": {
      "text/plain": [
       "Batch(\n",
       "    a: tensor([[-0.9891,  0.3202, -0.5176],\n",
       "               [-0.2296, -0.3677,  0.1601]]),\n",
       "    x: Batch(\n",
       "           c: tensor([[ 1.8700,  1.2475, -2.5124,  0.7783],\n",
       "                      [ 0.7391,  0.2616,  0.2534, -0.1498],\n",
       "                      [ 0.4851,  1.7314, -0.3190,  1.2785]]),\n",
       "       ),\n",
       ")"
      ]
     },
     "execution_count": 12,
     "metadata": {},
     "output_type": "execute_result"
    }
   ],
   "source": [
    "new_value = torch.randn(2, 3)\n",
    "b.a = new_value\n",
    "\n",
    "b"
   ]
  },
  {
   "cell_type": "code",
   "execution_count": 13,
   "id": "29b1d0bf",
   "metadata": {
    "execution": {
     "iopub.execute_input": "2023-02-24T07:35:06.553553Z",
     "iopub.status.busy": "2023-02-24T07:35:06.552755Z",
     "iopub.status.idle": "2023-02-24T07:35:10.998609Z",
     "shell.execute_reply": "2023-02-24T07:35:10.997595Z"
    }
   },
   "outputs": [
    {
     "name": "stdout",
     "output_type": "stream",
     "text": [
      "548 ns ± 12.4 ns per loop (mean ± std. dev. of 7 runs, 1,000,000 loops each)\n"
     ]
    }
   ],
   "source": [
    "%timeit b.a = new_value"
   ]
  },
  {
   "cell_type": "markdown",
   "id": "b61ad1d0",
   "metadata": {},
   "source": [
    "## Initialization"
   ]
  },
  {
   "cell_type": "markdown",
   "id": "d70f0d54",
   "metadata": {},
   "source": [
    "### TreeValue's Initialization"
   ]
  },
  {
   "cell_type": "code",
   "execution_count": 14,
   "id": "d32a679b",
   "metadata": {
    "execution": {
     "iopub.execute_input": "2023-02-24T07:35:11.002522Z",
     "iopub.status.busy": "2023-02-24T07:35:11.002009Z",
     "iopub.status.idle": "2023-02-24T07:35:18.396420Z",
     "shell.execute_reply": "2023-02-24T07:35:18.395455Z"
    }
   },
   "outputs": [
    {
     "name": "stdout",
     "output_type": "stream",
     "text": [
      "909 ns ± 22.2 ns per loop (mean ± std. dev. of 7 runs, 1,000,000 loops each)\n"
     ]
    }
   ],
   "source": [
    "%timeit FastTreeValue(_TREE_DATA_1)"
   ]
  },
  {
   "cell_type": "markdown",
   "id": "24f3707b",
   "metadata": {},
   "source": [
    "### Tianshou Batch's Initialization"
   ]
  },
  {
   "cell_type": "code",
   "execution_count": 15,
   "id": "ac3958df",
   "metadata": {
    "execution": {
     "iopub.execute_input": "2023-02-24T07:35:18.400278Z",
     "iopub.status.busy": "2023-02-24T07:35:18.399500Z",
     "iopub.status.idle": "2023-02-24T07:35:28.381017Z",
     "shell.execute_reply": "2023-02-24T07:35:28.379911Z"
    }
   },
   "outputs": [
    {
     "name": "stdout",
     "output_type": "stream",
     "text": [
      "12.3 µs ± 270 ns per loop (mean ± std. dev. of 7 runs, 100,000 loops each)\n"
     ]
    }
   ],
   "source": [
    "%timeit Batch(**_TREE_DATA_1)"
   ]
  },
  {
   "cell_type": "markdown",
   "id": "1ab82e2d",
   "metadata": {},
   "source": [
    "## Deep Copy Operation"
   ]
  },
  {
   "cell_type": "code",
   "execution_count": 16,
   "id": "210a9442",
   "metadata": {
    "execution": {
     "iopub.execute_input": "2023-02-24T07:35:28.385421Z",
     "iopub.status.busy": "2023-02-24T07:35:28.384870Z",
     "iopub.status.idle": "2023-02-24T07:35:28.389147Z",
     "shell.execute_reply": "2023-02-24T07:35:28.388157Z"
    }
   },
   "outputs": [],
   "source": [
    "import copy"
   ]
  },
  {
   "cell_type": "markdown",
   "id": "5a736274",
   "metadata": {},
   "source": [
    "### Deep Copy of TreeValue"
   ]
  },
  {
   "cell_type": "code",
   "execution_count": 17,
   "id": "f9bcadd6",
   "metadata": {
    "execution": {
     "iopub.execute_input": "2023-02-24T07:35:28.392645Z",
     "iopub.status.busy": "2023-02-24T07:35:28.392007Z",
     "iopub.status.idle": "2023-02-24T07:35:30.392724Z",
     "shell.execute_reply": "2023-02-24T07:35:30.391925Z"
    }
   },
   "outputs": [
    {
     "name": "stdout",
     "output_type": "stream",
     "text": [
      "244 µs ± 8.08 µs per loop (mean ± std. dev. of 7 runs, 1,000 loops each)\n"
     ]
    }
   ],
   "source": [
    "t3 = FastTreeValue(_TREE_DATA_3)\n",
    "%timeit copy.deepcopy(t3)"
   ]
  },
  {
   "cell_type": "markdown",
   "id": "bf8be7ea",
   "metadata": {},
   "source": [
    "### Deep Copy of Tianshou Batch"
   ]
  },
  {
   "cell_type": "code",
   "execution_count": 18,
   "id": "91998e6f",
   "metadata": {
    "execution": {
     "iopub.execute_input": "2023-02-24T07:35:30.396184Z",
     "iopub.status.busy": "2023-02-24T07:35:30.395569Z",
     "iopub.status.idle": "2023-02-24T07:35:32.375593Z",
     "shell.execute_reply": "2023-02-24T07:35:32.374782Z"
    }
   },
   "outputs": [
    {
     "name": "stdout",
     "output_type": "stream",
     "text": [
      "244 µs ± 8.96 µs per loop (mean ± std. dev. of 7 runs, 1,000 loops each)\n"
     ]
    }
   ],
   "source": [
    "b3 = Batch(**_TREE_DATA_3)\n",
    "%timeit copy.deepcopy(b3)"
   ]
  },
  {
   "cell_type": "markdown",
   "id": "223162fb",
   "metadata": {},
   "source": [
    "## Stack, Concat and Split Operation"
   ]
  },
  {
   "cell_type": "markdown",
   "id": "85fa4a73",
   "metadata": {},
   "source": [
    "### Performance of TreeValue"
   ]
  },
  {
   "cell_type": "code",
   "execution_count": 19,
   "id": "a0c2b697",
   "metadata": {
    "execution": {
     "iopub.execute_input": "2023-02-24T07:35:32.379153Z",
     "iopub.status.busy": "2023-02-24T07:35:32.378606Z",
     "iopub.status.idle": "2023-02-24T07:35:32.382679Z",
     "shell.execute_reply": "2023-02-24T07:35:32.381932Z"
    }
   },
   "outputs": [],
   "source": [
    "trees = [FastTreeValue(_TREE_DATA_2) for _ in range(8)]"
   ]
  },
  {
   "cell_type": "code",
   "execution_count": 20,
   "id": "017ea5a5",
   "metadata": {
    "execution": {
     "iopub.execute_input": "2023-02-24T07:35:32.385420Z",
     "iopub.status.busy": "2023-02-24T07:35:32.384958Z",
     "iopub.status.idle": "2023-02-24T07:35:32.393066Z",
     "shell.execute_reply": "2023-02-24T07:35:32.392351Z"
    }
   },
   "outputs": [
    {
     "data": {
      "text/plain": [
       "<FastTreeValue 0x7f93d0092250>\n",
       "├── 'a' --> tensor([[[-0.1372,  0.0257, -0.1627],\n",
       "│                    [ 0.2138, -0.8140,  0.1865]],\n",
       "│           \n",
       "│                   [[-0.1372,  0.0257, -0.1627],\n",
       "│                    [ 0.2138, -0.8140,  0.1865]],\n",
       "│           \n",
       "│                   [[-0.1372,  0.0257, -0.1627],\n",
       "│                    [ 0.2138, -0.8140,  0.1865]],\n",
       "│           \n",
       "│                   [[-0.1372,  0.0257, -0.1627],\n",
       "│                    [ 0.2138, -0.8140,  0.1865]],\n",
       "│           \n",
       "│                   [[-0.1372,  0.0257, -0.1627],\n",
       "│                    [ 0.2138, -0.8140,  0.1865]],\n",
       "│           \n",
       "│                   [[-0.1372,  0.0257, -0.1627],\n",
       "│                    [ 0.2138, -0.8140,  0.1865]],\n",
       "│           \n",
       "│                   [[-0.1372,  0.0257, -0.1627],\n",
       "│                    [ 0.2138, -0.8140,  0.1865]],\n",
       "│           \n",
       "│                   [[-0.1372,  0.0257, -0.1627],\n",
       "│                    [ 0.2138, -0.8140,  0.1865]]])\n",
       "└── 'x' --> <FastTreeValue 0x7f93d0092190>\n",
       "    └── 'c' --> tensor([[[ 1.8700,  1.2475, -2.5124,  0.7783],\n",
       "                         [ 0.7391,  0.2616,  0.2534, -0.1498],\n",
       "                         [ 0.4851,  1.7314, -0.3190,  1.2785]],\n",
       "                \n",
       "                        [[ 1.8700,  1.2475, -2.5124,  0.7783],\n",
       "                         [ 0.7391,  0.2616,  0.2534, -0.1498],\n",
       "                         [ 0.4851,  1.7314, -0.3190,  1.2785]],\n",
       "                \n",
       "                        [[ 1.8700,  1.2475, -2.5124,  0.7783],\n",
       "                         [ 0.7391,  0.2616,  0.2534, -0.1498],\n",
       "                         [ 0.4851,  1.7314, -0.3190,  1.2785]],\n",
       "                \n",
       "                        [[ 1.8700,  1.2475, -2.5124,  0.7783],\n",
       "                         [ 0.7391,  0.2616,  0.2534, -0.1498],\n",
       "                         [ 0.4851,  1.7314, -0.3190,  1.2785]],\n",
       "                \n",
       "                        [[ 1.8700,  1.2475, -2.5124,  0.7783],\n",
       "                         [ 0.7391,  0.2616,  0.2534, -0.1498],\n",
       "                         [ 0.4851,  1.7314, -0.3190,  1.2785]],\n",
       "                \n",
       "                        [[ 1.8700,  1.2475, -2.5124,  0.7783],\n",
       "                         [ 0.7391,  0.2616,  0.2534, -0.1498],\n",
       "                         [ 0.4851,  1.7314, -0.3190,  1.2785]],\n",
       "                \n",
       "                        [[ 1.8700,  1.2475, -2.5124,  0.7783],\n",
       "                         [ 0.7391,  0.2616,  0.2534, -0.1498],\n",
       "                         [ 0.4851,  1.7314, -0.3190,  1.2785]],\n",
       "                \n",
       "                        [[ 1.8700,  1.2475, -2.5124,  0.7783],\n",
       "                         [ 0.7391,  0.2616,  0.2534, -0.1498],\n",
       "                         [ 0.4851,  1.7314, -0.3190,  1.2785]]])"
      ]
     },
     "execution_count": 20,
     "metadata": {},
     "output_type": "execute_result"
    }
   ],
   "source": [
    "t_stack = FastTreeValue.func(subside=True)(torch.stack)\n",
    "\n",
    "t_stack(trees)"
   ]
  },
  {
   "cell_type": "code",
   "execution_count": 21,
   "id": "f8b3f415",
   "metadata": {
    "execution": {
     "iopub.execute_input": "2023-02-24T07:35:32.395759Z",
     "iopub.status.busy": "2023-02-24T07:35:32.395292Z",
     "iopub.status.idle": "2023-02-24T07:35:35.699862Z",
     "shell.execute_reply": "2023-02-24T07:35:35.698435Z"
    }
   },
   "outputs": [
    {
     "name": "stdout",
     "output_type": "stream",
     "text": [
      "40.7 µs ± 1.58 µs per loop (mean ± std. dev. of 7 runs, 10,000 loops each)\n"
     ]
    }
   ],
   "source": [
    "%timeit t_stack(trees)"
   ]
  },
  {
   "cell_type": "code",
   "execution_count": 22,
   "id": "94b56771",
   "metadata": {
    "execution": {
     "iopub.execute_input": "2023-02-24T07:35:35.703947Z",
     "iopub.status.busy": "2023-02-24T07:35:35.703625Z",
     "iopub.status.idle": "2023-02-24T07:35:35.715100Z",
     "shell.execute_reply": "2023-02-24T07:35:35.714138Z"
    }
   },
   "outputs": [
    {
     "data": {
      "text/plain": [
       "<FastTreeValue 0x7f93d0092220>\n",
       "├── 'a' --> tensor([[-0.1372,  0.0257, -0.1627],\n",
       "│                   [ 0.2138, -0.8140,  0.1865],\n",
       "│                   [-0.1372,  0.0257, -0.1627],\n",
       "│                   [ 0.2138, -0.8140,  0.1865],\n",
       "│                   [-0.1372,  0.0257, -0.1627],\n",
       "│                   [ 0.2138, -0.8140,  0.1865],\n",
       "│                   [-0.1372,  0.0257, -0.1627],\n",
       "│                   [ 0.2138, -0.8140,  0.1865],\n",
       "│                   [-0.1372,  0.0257, -0.1627],\n",
       "│                   [ 0.2138, -0.8140,  0.1865],\n",
       "│                   [-0.1372,  0.0257, -0.1627],\n",
       "│                   [ 0.2138, -0.8140,  0.1865],\n",
       "│                   [-0.1372,  0.0257, -0.1627],\n",
       "│                   [ 0.2138, -0.8140,  0.1865],\n",
       "│                   [-0.1372,  0.0257, -0.1627],\n",
       "│                   [ 0.2138, -0.8140,  0.1865]])\n",
       "└── 'x' --> <FastTreeValue 0x7f93d00927f0>\n",
       "    └── 'c' --> tensor([[ 1.8700,  1.2475, -2.5124,  0.7783],\n",
       "                        [ 0.7391,  0.2616,  0.2534, -0.1498],\n",
       "                        [ 0.4851,  1.7314, -0.3190,  1.2785],\n",
       "                        [ 1.8700,  1.2475, -2.5124,  0.7783],\n",
       "                        [ 0.7391,  0.2616,  0.2534, -0.1498],\n",
       "                        [ 0.4851,  1.7314, -0.3190,  1.2785],\n",
       "                        [ 1.8700,  1.2475, -2.5124,  0.7783],\n",
       "                        [ 0.7391,  0.2616,  0.2534, -0.1498],\n",
       "                        [ 0.4851,  1.7314, -0.3190,  1.2785],\n",
       "                        [ 1.8700,  1.2475, -2.5124,  0.7783],\n",
       "                        [ 0.7391,  0.2616,  0.2534, -0.1498],\n",
       "                        [ 0.4851,  1.7314, -0.3190,  1.2785],\n",
       "                        [ 1.8700,  1.2475, -2.5124,  0.7783],\n",
       "                        [ 0.7391,  0.2616,  0.2534, -0.1498],\n",
       "                        [ 0.4851,  1.7314, -0.3190,  1.2785],\n",
       "                        [ 1.8700,  1.2475, -2.5124,  0.7783],\n",
       "                        [ 0.7391,  0.2616,  0.2534, -0.1498],\n",
       "                        [ 0.4851,  1.7314, -0.3190,  1.2785],\n",
       "                        [ 1.8700,  1.2475, -2.5124,  0.7783],\n",
       "                        [ 0.7391,  0.2616,  0.2534, -0.1498],\n",
       "                        [ 0.4851,  1.7314, -0.3190,  1.2785],\n",
       "                        [ 1.8700,  1.2475, -2.5124,  0.7783],\n",
       "                        [ 0.7391,  0.2616,  0.2534, -0.1498],\n",
       "                        [ 0.4851,  1.7314, -0.3190,  1.2785]])"
      ]
     },
     "execution_count": 22,
     "metadata": {},
     "output_type": "execute_result"
    }
   ],
   "source": [
    "t_cat = FastTreeValue.func(subside=True)(torch.cat)\n",
    "\n",
    "t_cat(trees)"
   ]
  },
  {
   "cell_type": "code",
   "execution_count": 23,
   "id": "5e9c06a6",
   "metadata": {
    "execution": {
     "iopub.execute_input": "2023-02-24T07:35:35.718201Z",
     "iopub.status.busy": "2023-02-24T07:35:35.717928Z",
     "iopub.status.idle": "2023-02-24T07:35:38.751686Z",
     "shell.execute_reply": "2023-02-24T07:35:38.750717Z"
    }
   },
   "outputs": [
    {
     "name": "stdout",
     "output_type": "stream",
     "text": [
      "37.3 µs ± 936 ns per loop (mean ± std. dev. of 7 runs, 10,000 loops each)\n"
     ]
    }
   ],
   "source": [
    "%timeit t_cat(trees)"
   ]
  },
  {
   "cell_type": "code",
   "execution_count": 24,
   "id": "a3ab5c8f",
   "metadata": {
    "execution": {
     "iopub.execute_input": "2023-02-24T07:35:38.755363Z",
     "iopub.status.busy": "2023-02-24T07:35:38.755124Z",
     "iopub.status.idle": "2023-02-24T07:35:44.525471Z",
     "shell.execute_reply": "2023-02-24T07:35:44.524411Z"
    }
   },
   "outputs": [
    {
     "name": "stdout",
     "output_type": "stream",
     "text": [
      "71.3 µs ± 1.37 µs per loop (mean ± std. dev. of 7 runs, 10,000 loops each)\n"
     ]
    }
   ],
   "source": [
    "t_split = FastTreeValue.func(rise=True)(torch.split)\n",
    "tree = FastTreeValue({\n",
    "    'obs': torch.randn(8, 4, 84, 84),\n",
    "    'action': torch.randint(0, 6, size=(8, 1,)),\n",
    "    'reward': torch.rand(8, 1),\n",
    "})\n",
    "\n",
    "%timeit t_split(tree, 1)"
   ]
  },
  {
   "cell_type": "markdown",
   "id": "31c3ec0b",
   "metadata": {},
   "source": [
    "### Performance of Tianshou Batch"
   ]
  },
  {
   "cell_type": "code",
   "execution_count": 25,
   "id": "9ead828a",
   "metadata": {
    "execution": {
     "iopub.execute_input": "2023-02-24T07:35:44.529469Z",
     "iopub.status.busy": "2023-02-24T07:35:44.528850Z",
     "iopub.status.idle": "2023-02-24T07:35:44.539305Z",
     "shell.execute_reply": "2023-02-24T07:35:44.538484Z"
    }
   },
   "outputs": [
    {
     "data": {
      "text/plain": [
       "Batch(\n",
       "    a: tensor([[[-0.1372,  0.0257, -0.1627],\n",
       "                [ 0.2138, -0.8140,  0.1865]],\n",
       "       \n",
       "               [[-0.1372,  0.0257, -0.1627],\n",
       "                [ 0.2138, -0.8140,  0.1865]],\n",
       "       \n",
       "               [[-0.1372,  0.0257, -0.1627],\n",
       "                [ 0.2138, -0.8140,  0.1865]],\n",
       "       \n",
       "               [[-0.1372,  0.0257, -0.1627],\n",
       "                [ 0.2138, -0.8140,  0.1865]],\n",
       "       \n",
       "               [[-0.1372,  0.0257, -0.1627],\n",
       "                [ 0.2138, -0.8140,  0.1865]],\n",
       "       \n",
       "               [[-0.1372,  0.0257, -0.1627],\n",
       "                [ 0.2138, -0.8140,  0.1865]],\n",
       "       \n",
       "               [[-0.1372,  0.0257, -0.1627],\n",
       "                [ 0.2138, -0.8140,  0.1865]],\n",
       "       \n",
       "               [[-0.1372,  0.0257, -0.1627],\n",
       "                [ 0.2138, -0.8140,  0.1865]]]),\n",
       "    x: Batch(\n",
       "           c: tensor([[[ 1.8700,  1.2475, -2.5124,  0.7783],\n",
       "                       [ 0.7391,  0.2616,  0.2534, -0.1498],\n",
       "                       [ 0.4851,  1.7314, -0.3190,  1.2785]],\n",
       "              \n",
       "                      [[ 1.8700,  1.2475, -2.5124,  0.7783],\n",
       "                       [ 0.7391,  0.2616,  0.2534, -0.1498],\n",
       "                       [ 0.4851,  1.7314, -0.3190,  1.2785]],\n",
       "              \n",
       "                      [[ 1.8700,  1.2475, -2.5124,  0.7783],\n",
       "                       [ 0.7391,  0.2616,  0.2534, -0.1498],\n",
       "                       [ 0.4851,  1.7314, -0.3190,  1.2785]],\n",
       "              \n",
       "                      [[ 1.8700,  1.2475, -2.5124,  0.7783],\n",
       "                       [ 0.7391,  0.2616,  0.2534, -0.1498],\n",
       "                       [ 0.4851,  1.7314, -0.3190,  1.2785]],\n",
       "              \n",
       "                      [[ 1.8700,  1.2475, -2.5124,  0.7783],\n",
       "                       [ 0.7391,  0.2616,  0.2534, -0.1498],\n",
       "                       [ 0.4851,  1.7314, -0.3190,  1.2785]],\n",
       "              \n",
       "                      [[ 1.8700,  1.2475, -2.5124,  0.7783],\n",
       "                       [ 0.7391,  0.2616,  0.2534, -0.1498],\n",
       "                       [ 0.4851,  1.7314, -0.3190,  1.2785]],\n",
       "              \n",
       "                      [[ 1.8700,  1.2475, -2.5124,  0.7783],\n",
       "                       [ 0.7391,  0.2616,  0.2534, -0.1498],\n",
       "                       [ 0.4851,  1.7314, -0.3190,  1.2785]],\n",
       "              \n",
       "                      [[ 1.8700,  1.2475, -2.5124,  0.7783],\n",
       "                       [ 0.7391,  0.2616,  0.2534, -0.1498],\n",
       "                       [ 0.4851,  1.7314, -0.3190,  1.2785]]]),\n",
       "       ),\n",
       ")"
      ]
     },
     "execution_count": 25,
     "metadata": {},
     "output_type": "execute_result"
    }
   ],
   "source": [
    "batches = [Batch(**_TREE_DATA_2) for _ in range(8)]\n",
    "\n",
    "Batch.stack(batches)"
   ]
  },
  {
   "cell_type": "code",
   "execution_count": 26,
   "id": "ec9037a3",
   "metadata": {
    "execution": {
     "iopub.execute_input": "2023-02-24T07:35:44.542568Z",
     "iopub.status.busy": "2023-02-24T07:35:44.542274Z",
     "iopub.status.idle": "2023-02-24T07:35:51.957272Z",
     "shell.execute_reply": "2023-02-24T07:35:51.956173Z"
    }
   },
   "outputs": [
    {
     "name": "stdout",
     "output_type": "stream",
     "text": [
      "91.5 µs ± 3.03 µs per loop (mean ± std. dev. of 7 runs, 10,000 loops each)\n"
     ]
    }
   ],
   "source": [
    "%timeit Batch.stack(batches)"
   ]
  },
  {
   "cell_type": "code",
   "execution_count": 27,
   "id": "cb8ab77e",
   "metadata": {
    "execution": {
     "iopub.execute_input": "2023-02-24T07:35:51.961387Z",
     "iopub.status.busy": "2023-02-24T07:35:51.960703Z",
     "iopub.status.idle": "2023-02-24T07:35:51.970347Z",
     "shell.execute_reply": "2023-02-24T07:35:51.969404Z"
    }
   },
   "outputs": [
    {
     "data": {
      "text/plain": [
       "Batch(\n",
       "    a: tensor([[-0.1372,  0.0257, -0.1627],\n",
       "               [ 0.2138, -0.8140,  0.1865],\n",
       "               [-0.1372,  0.0257, -0.1627],\n",
       "               [ 0.2138, -0.8140,  0.1865],\n",
       "               [-0.1372,  0.0257, -0.1627],\n",
       "               [ 0.2138, -0.8140,  0.1865],\n",
       "               [-0.1372,  0.0257, -0.1627],\n",
       "               [ 0.2138, -0.8140,  0.1865],\n",
       "               [-0.1372,  0.0257, -0.1627],\n",
       "               [ 0.2138, -0.8140,  0.1865],\n",
       "               [-0.1372,  0.0257, -0.1627],\n",
       "               [ 0.2138, -0.8140,  0.1865],\n",
       "               [-0.1372,  0.0257, -0.1627],\n",
       "               [ 0.2138, -0.8140,  0.1865],\n",
       "               [-0.1372,  0.0257, -0.1627],\n",
       "               [ 0.2138, -0.8140,  0.1865]]),\n",
       "    x: Batch(\n",
       "           c: tensor([[ 1.8700,  1.2475, -2.5124,  0.7783],\n",
       "                      [ 0.7391,  0.2616,  0.2534, -0.1498],\n",
       "                      [ 0.4851,  1.7314, -0.3190,  1.2785],\n",
       "                      [ 1.8700,  1.2475, -2.5124,  0.7783],\n",
       "                      [ 0.7391,  0.2616,  0.2534, -0.1498],\n",
       "                      [ 0.4851,  1.7314, -0.3190,  1.2785],\n",
       "                      [ 1.8700,  1.2475, -2.5124,  0.7783],\n",
       "                      [ 0.7391,  0.2616,  0.2534, -0.1498],\n",
       "                      [ 0.4851,  1.7314, -0.3190,  1.2785],\n",
       "                      [ 1.8700,  1.2475, -2.5124,  0.7783],\n",
       "                      [ 0.7391,  0.2616,  0.2534, -0.1498],\n",
       "                      [ 0.4851,  1.7314, -0.3190,  1.2785],\n",
       "                      [ 1.8700,  1.2475, -2.5124,  0.7783],\n",
       "                      [ 0.7391,  0.2616,  0.2534, -0.1498],\n",
       "                      [ 0.4851,  1.7314, -0.3190,  1.2785],\n",
       "                      [ 1.8700,  1.2475, -2.5124,  0.7783],\n",
       "                      [ 0.7391,  0.2616,  0.2534, -0.1498],\n",
       "                      [ 0.4851,  1.7314, -0.3190,  1.2785],\n",
       "                      [ 1.8700,  1.2475, -2.5124,  0.7783],\n",
       "                      [ 0.7391,  0.2616,  0.2534, -0.1498],\n",
       "                      [ 0.4851,  1.7314, -0.3190,  1.2785],\n",
       "                      [ 1.8700,  1.2475, -2.5124,  0.7783],\n",
       "                      [ 0.7391,  0.2616,  0.2534, -0.1498],\n",
       "                      [ 0.4851,  1.7314, -0.3190,  1.2785]]),\n",
       "       ),\n",
       ")"
      ]
     },
     "execution_count": 27,
     "metadata": {},
     "output_type": "execute_result"
    }
   ],
   "source": [
    "Batch.cat(batches)"
   ]
  },
  {
   "cell_type": "code",
   "execution_count": 28,
   "id": "18dfb045",
   "metadata": {
    "execution": {
     "iopub.execute_input": "2023-02-24T07:35:51.973530Z",
     "iopub.status.busy": "2023-02-24T07:35:51.973019Z",
     "iopub.status.idle": "2023-02-24T07:36:05.876385Z",
     "shell.execute_reply": "2023-02-24T07:36:05.875470Z"
    }
   },
   "outputs": [
    {
     "name": "stdout",
     "output_type": "stream",
     "text": [
      "171 µs ± 5.47 µs per loop (mean ± std. dev. of 7 runs, 10,000 loops each)\n"
     ]
    }
   ],
   "source": [
    "%timeit Batch.cat(batches)"
   ]
  },
  {
   "cell_type": "code",
   "execution_count": 29,
   "id": "c6688e51",
   "metadata": {
    "execution": {
     "iopub.execute_input": "2023-02-24T07:36:05.880124Z",
     "iopub.status.busy": "2023-02-24T07:36:05.879682Z",
     "iopub.status.idle": "2023-02-24T07:36:10.035998Z",
     "shell.execute_reply": "2023-02-24T07:36:10.034997Z"
    }
   },
   "outputs": [
    {
     "name": "stdout",
     "output_type": "stream",
     "text": [
      "501 µs ± 16 µs per loop (mean ± std. dev. of 7 runs, 1,000 loops each)\n"
     ]
    }
   ],
   "source": [
    "batch = Batch({\n",
    "    'obs': torch.randn(8, 4, 84, 84),\n",
    "    'action': torch.randint(0, 6, size=(8, 1,)),\n",
    "    'reward': torch.rand(8, 1)}\n",
    ")\n",
    "\n",
    "%timeit list(Batch.split(batch, 1, shuffle=False, merge_last=True))"
   ]
  },
  {
   "cell_type": "code",
   "execution_count": null,
   "id": "2539fbd9",
   "metadata": {},
   "outputs": [],
   "source": []
  }
 ],
 "metadata": {
  "kernelspec": {
   "display_name": "Python 3 (ipykernel)",
   "language": "python",
   "name": "python3"
  },
  "language_info": {
   "codemirror_mode": {
    "name": "ipython",
    "version": 3
   },
   "file_extension": ".py",
   "mimetype": "text/x-python",
   "name": "python",
   "nbconvert_exporter": "python",
   "pygments_lexer": "ipython3",
   "version": "3.8.16"
  }
 },
 "nbformat": 4,
 "nbformat_minor": 5
}
