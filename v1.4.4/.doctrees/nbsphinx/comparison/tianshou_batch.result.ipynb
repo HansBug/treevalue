{
 "cells": [
  {
   "cell_type": "markdown",
   "id": "9d39d946",
   "metadata": {},
   "source": [
    "# Comparison Between TreeValue and Tianshou Batch"
   ]
  },
  {
   "cell_type": "markdown",
   "id": "3c6db2d4",
   "metadata": {},
   "source": [
    "In this section, we will take a look at the feature and performance of the [Tianshou Batch](https://github.com/thu-ml/tianshou) library, which is developed by Tsinghua Machine Learning Group."
   ]
  },
  {
   "cell_type": "markdown",
   "id": "069361b0",
   "metadata": {},
   "source": [
    "Before starting the comparison, let us define some thing."
   ]
  },
  {
   "cell_type": "code",
   "execution_count": 1,
   "id": "06fc8d26",
   "metadata": {
    "execution": {
     "iopub.execute_input": "2023-10-22T15:15:47.301333Z",
     "iopub.status.busy": "2023-10-22T15:15:47.300716Z",
     "iopub.status.idle": "2023-10-22T15:15:48.928574Z",
     "shell.execute_reply": "2023-10-22T15:15:48.927740Z"
    }
   },
   "outputs": [],
   "source": [
    "import torch \n",
    "\n",
    "_TREE_DATA_1 = {'a': 1, 'b': 2, 'x': {'c': 3, 'd': 4}}\n",
    "_TREE_DATA_2 = {\n",
    "    'a': torch.randn(2, 3), \n",
    "    'x': {\n",
    "        'c': torch.randn(3, 4)\n",
    "    },\n",
    "}\n",
    "_TREE_DATA_3 = {\n",
    "    'obs': torch.randn(4, 84, 84),\n",
    "    'action': torch.randint(0, 6, size=(1,)),\n",
    "    'reward': torch.rand(1),\n",
    "}"
   ]
  },
  {
   "cell_type": "markdown",
   "id": "83461b25",
   "metadata": {},
   "source": [
    "## Read and Write Operation"
   ]
  },
  {
   "cell_type": "markdown",
   "id": "067b3f73",
   "metadata": {},
   "source": [
    "Reading and writing are the two most common operations in the tree data structure based on the data model (TreeValue and Tianshou Batch both belong to this type), so this section will compare the reading and writing performance of these two libraries."
   ]
  },
  {
   "cell_type": "markdown",
   "id": "5d09a5b7",
   "metadata": {},
   "source": [
    "### TreeValue's Get and Set"
   ]
  },
  {
   "cell_type": "code",
   "execution_count": 2,
   "id": "9519c4bb",
   "metadata": {
    "execution": {
     "iopub.execute_input": "2023-10-22T15:15:48.934200Z",
     "iopub.status.busy": "2023-10-22T15:15:48.932576Z",
     "iopub.status.idle": "2023-10-22T15:15:48.966314Z",
     "shell.execute_reply": "2023-10-22T15:15:48.965567Z"
    }
   },
   "outputs": [],
   "source": [
    "from treevalue import FastTreeValue\n",
    "\n",
    "t = FastTreeValue(_TREE_DATA_2)"
   ]
  },
  {
   "cell_type": "code",
   "execution_count": 3,
   "id": "11c37677",
   "metadata": {
    "execution": {
     "iopub.execute_input": "2023-10-22T15:15:48.970503Z",
     "iopub.status.busy": "2023-10-22T15:15:48.969841Z",
     "iopub.status.idle": "2023-10-22T15:15:48.983628Z",
     "shell.execute_reply": "2023-10-22T15:15:48.981976Z"
    }
   },
   "outputs": [
    {
     "data": {
      "text/plain": [
       "<FastTreeValue 0x7fb36816f9d0>\n",
       "├── 'a' --> tensor([[ 2.6605, -0.3240, -0.0506],\n",
       "│                   [ 0.7118,  1.5301,  0.5991]])\n",
       "└── 'x' --> <FastTreeValue 0x7fb36816ffd0>\n",
       "    └── 'c' --> tensor([[ 0.5127,  0.8892,  0.0086, -0.4732],\n",
       "                        [-0.7450, -2.1816, -0.8962,  0.6720],\n",
       "                        [ 0.9687,  0.0585, -0.0568, -2.0104]])"
      ]
     },
     "execution_count": 3,
     "metadata": {},
     "output_type": "execute_result"
    }
   ],
   "source": [
    "t"
   ]
  },
  {
   "cell_type": "code",
   "execution_count": 4,
   "id": "fd70b0b9",
   "metadata": {
    "execution": {
     "iopub.execute_input": "2023-10-22T15:15:48.986938Z",
     "iopub.status.busy": "2023-10-22T15:15:48.986472Z",
     "iopub.status.idle": "2023-10-22T15:15:48.993838Z",
     "shell.execute_reply": "2023-10-22T15:15:48.993186Z"
    }
   },
   "outputs": [
    {
     "data": {
      "text/plain": [
       "tensor([[ 2.6605, -0.3240, -0.0506],\n",
       "        [ 0.7118,  1.5301,  0.5991]])"
      ]
     },
     "execution_count": 4,
     "metadata": {},
     "output_type": "execute_result"
    }
   ],
   "source": [
    "t.a"
   ]
  },
  {
   "cell_type": "code",
   "execution_count": 5,
   "id": "c18197bd",
   "metadata": {
    "execution": {
     "iopub.execute_input": "2023-10-22T15:15:48.997175Z",
     "iopub.status.busy": "2023-10-22T15:15:48.996616Z",
     "iopub.status.idle": "2023-10-22T15:15:55.143085Z",
     "shell.execute_reply": "2023-10-22T15:15:55.142234Z"
    }
   },
   "outputs": [
    {
     "name": "stdout",
     "output_type": "stream",
     "text": [
      "75.7 ns ± 0.0674 ns per loop (mean ± std. dev. of 7 runs, 10,000,000 loops each)\n"
     ]
    }
   ],
   "source": [
    "%timeit t.a"
   ]
  },
  {
   "cell_type": "code",
   "execution_count": 6,
   "id": "bd52f867",
   "metadata": {
    "execution": {
     "iopub.execute_input": "2023-10-22T15:15:55.146925Z",
     "iopub.status.busy": "2023-10-22T15:15:55.146272Z",
     "iopub.status.idle": "2023-10-22T15:15:55.153615Z",
     "shell.execute_reply": "2023-10-22T15:15:55.152863Z"
    }
   },
   "outputs": [
    {
     "data": {
      "text/plain": [
       "<FastTreeValue 0x7fb36816f9d0>\n",
       "├── 'a' --> tensor([[ 0.3870, -1.5840,  0.2773],\n",
       "│                   [ 0.6147, -0.9161,  0.7920]])\n",
       "└── 'x' --> <FastTreeValue 0x7fb36816ffd0>\n",
       "    └── 'c' --> tensor([[ 0.5127,  0.8892,  0.0086, -0.4732],\n",
       "                        [-0.7450, -2.1816, -0.8962,  0.6720],\n",
       "                        [ 0.9687,  0.0585, -0.0568, -2.0104]])"
      ]
     },
     "execution_count": 6,
     "metadata": {},
     "output_type": "execute_result"
    }
   ],
   "source": [
    "new_value = torch.randn(2, 3)\n",
    "t.a = new_value\n",
    "\n",
    "t"
   ]
  },
  {
   "cell_type": "code",
   "execution_count": 7,
   "id": "bbe04d1c",
   "metadata": {
    "execution": {
     "iopub.execute_input": "2023-10-22T15:15:55.157010Z",
     "iopub.status.busy": "2023-10-22T15:15:55.156538Z",
     "iopub.status.idle": "2023-10-22T15:16:01.306102Z",
     "shell.execute_reply": "2023-10-22T15:16:01.305083Z"
    }
   },
   "outputs": [
    {
     "name": "stdout",
     "output_type": "stream",
     "text": [
      "75.7 ns ± 0.0813 ns per loop (mean ± std. dev. of 7 runs, 10,000,000 loops each)\n"
     ]
    }
   ],
   "source": [
    "%timeit t.a = new_value"
   ]
  },
  {
   "cell_type": "markdown",
   "id": "48c49731",
   "metadata": {},
   "source": [
    "### Tianshou Batch's Get and Set"
   ]
  },
  {
   "cell_type": "code",
   "execution_count": 8,
   "id": "f1bb14c1",
   "metadata": {
    "execution": {
     "iopub.execute_input": "2023-10-22T15:16:01.310367Z",
     "iopub.status.busy": "2023-10-22T15:16:01.309692Z",
     "iopub.status.idle": "2023-10-22T15:16:01.755604Z",
     "shell.execute_reply": "2023-10-22T15:16:01.754780Z"
    }
   },
   "outputs": [],
   "source": [
    "from tianshou.data import Batch\n",
    "\n",
    "b = Batch(**_TREE_DATA_2)"
   ]
  },
  {
   "cell_type": "code",
   "execution_count": 9,
   "id": "cb0777c3",
   "metadata": {
    "execution": {
     "iopub.execute_input": "2023-10-22T15:16:01.759751Z",
     "iopub.status.busy": "2023-10-22T15:16:01.759212Z",
     "iopub.status.idle": "2023-10-22T15:16:01.767924Z",
     "shell.execute_reply": "2023-10-22T15:16:01.767288Z"
    }
   },
   "outputs": [
    {
     "data": {
      "text/plain": [
       "Batch(\n",
       "    a: tensor([[ 2.6605, -0.3240, -0.0506],\n",
       "               [ 0.7118,  1.5301,  0.5991]]),\n",
       "    x: Batch(\n",
       "           c: tensor([[ 0.5127,  0.8892,  0.0086, -0.4732],\n",
       "                      [-0.7450, -2.1816, -0.8962,  0.6720],\n",
       "                      [ 0.9687,  0.0585, -0.0568, -2.0104]]),\n",
       "       ),\n",
       ")"
      ]
     },
     "execution_count": 9,
     "metadata": {},
     "output_type": "execute_result"
    }
   ],
   "source": [
    "b"
   ]
  },
  {
   "cell_type": "code",
   "execution_count": 10,
   "id": "43ef8ea3",
   "metadata": {
    "execution": {
     "iopub.execute_input": "2023-10-22T15:16:01.770904Z",
     "iopub.status.busy": "2023-10-22T15:16:01.770670Z",
     "iopub.status.idle": "2023-10-22T15:16:01.777720Z",
     "shell.execute_reply": "2023-10-22T15:16:01.777085Z"
    }
   },
   "outputs": [
    {
     "data": {
      "text/plain": [
       "tensor([[ 2.6605, -0.3240, -0.0506],\n",
       "        [ 0.7118,  1.5301,  0.5991]])"
      ]
     },
     "execution_count": 10,
     "metadata": {},
     "output_type": "execute_result"
    }
   ],
   "source": [
    "b.a"
   ]
  },
  {
   "cell_type": "code",
   "execution_count": 11,
   "id": "b785ab72",
   "metadata": {
    "execution": {
     "iopub.execute_input": "2023-10-22T15:16:01.781046Z",
     "iopub.status.busy": "2023-10-22T15:16:01.780487Z",
     "iopub.status.idle": "2023-10-22T15:16:07.162027Z",
     "shell.execute_reply": "2023-10-22T15:16:07.161055Z"
    }
   },
   "outputs": [
    {
     "name": "stdout",
     "output_type": "stream",
     "text": [
      "66.3 ns ± 0.0762 ns per loop (mean ± std. dev. of 7 runs, 10,000,000 loops each)\n"
     ]
    }
   ],
   "source": [
    "%timeit b.a"
   ]
  },
  {
   "cell_type": "code",
   "execution_count": 12,
   "id": "ad54dc69",
   "metadata": {
    "execution": {
     "iopub.execute_input": "2023-10-22T15:16:07.166038Z",
     "iopub.status.busy": "2023-10-22T15:16:07.165478Z",
     "iopub.status.idle": "2023-10-22T15:16:07.173887Z",
     "shell.execute_reply": "2023-10-22T15:16:07.173109Z"
    }
   },
   "outputs": [
    {
     "data": {
      "text/plain": [
       "Batch(\n",
       "    a: tensor([[-1.2534, -0.0822, -0.5458],\n",
       "               [ 0.1031, -0.7378,  0.5325]]),\n",
       "    x: Batch(\n",
       "           c: tensor([[ 0.5127,  0.8892,  0.0086, -0.4732],\n",
       "                      [-0.7450, -2.1816, -0.8962,  0.6720],\n",
       "                      [ 0.9687,  0.0585, -0.0568, -2.0104]]),\n",
       "       ),\n",
       ")"
      ]
     },
     "execution_count": 12,
     "metadata": {},
     "output_type": "execute_result"
    }
   ],
   "source": [
    "new_value = torch.randn(2, 3)\n",
    "b.a = new_value\n",
    "\n",
    "b"
   ]
  },
  {
   "cell_type": "code",
   "execution_count": 13,
   "id": "29b1d0bf",
   "metadata": {
    "execution": {
     "iopub.execute_input": "2023-10-22T15:16:07.177436Z",
     "iopub.status.busy": "2023-10-22T15:16:07.176834Z",
     "iopub.status.idle": "2023-10-22T15:16:11.657615Z",
     "shell.execute_reply": "2023-10-22T15:16:11.656502Z"
    }
   },
   "outputs": [
    {
     "name": "stdout",
     "output_type": "stream",
     "text": [
      "552 ns ± 4.85 ns per loop (mean ± std. dev. of 7 runs, 1,000,000 loops each)\n"
     ]
    }
   ],
   "source": [
    "%timeit b.a = new_value"
   ]
  },
  {
   "cell_type": "markdown",
   "id": "b61ad1d0",
   "metadata": {},
   "source": [
    "## Initialization"
   ]
  },
  {
   "cell_type": "markdown",
   "id": "d70f0d54",
   "metadata": {},
   "source": [
    "### TreeValue's Initialization"
   ]
  },
  {
   "cell_type": "code",
   "execution_count": 14,
   "id": "d32a679b",
   "metadata": {
    "execution": {
     "iopub.execute_input": "2023-10-22T15:16:11.661745Z",
     "iopub.status.busy": "2023-10-22T15:16:11.661433Z",
     "iopub.status.idle": "2023-10-22T15:16:18.964367Z",
     "shell.execute_reply": "2023-10-22T15:16:18.963579Z"
    }
   },
   "outputs": [
    {
     "name": "stdout",
     "output_type": "stream",
     "text": [
      "902 ns ± 1.56 ns per loop (mean ± std. dev. of 7 runs, 1,000,000 loops each)\n"
     ]
    }
   ],
   "source": [
    "%timeit FastTreeValue(_TREE_DATA_1)"
   ]
  },
  {
   "cell_type": "markdown",
   "id": "24f3707b",
   "metadata": {},
   "source": [
    "### Tianshou Batch's Initialization"
   ]
  },
  {
   "cell_type": "code",
   "execution_count": 15,
   "id": "ac3958df",
   "metadata": {
    "execution": {
     "iopub.execute_input": "2023-10-22T15:16:18.968276Z",
     "iopub.status.busy": "2023-10-22T15:16:18.967839Z",
     "iopub.status.idle": "2023-10-22T15:16:28.018538Z",
     "shell.execute_reply": "2023-10-22T15:16:28.017651Z"
    }
   },
   "outputs": [
    {
     "name": "stdout",
     "output_type": "stream",
     "text": [
      "11.1 µs ± 18.8 ns per loop (mean ± std. dev. of 7 runs, 100,000 loops each)\n"
     ]
    }
   ],
   "source": [
    "%timeit Batch(**_TREE_DATA_1)"
   ]
  },
  {
   "cell_type": "markdown",
   "id": "1ab82e2d",
   "metadata": {},
   "source": [
    "## Deep Copy Operation"
   ]
  },
  {
   "cell_type": "code",
   "execution_count": 16,
   "id": "210a9442",
   "metadata": {
    "execution": {
     "iopub.execute_input": "2023-10-22T15:16:28.022849Z",
     "iopub.status.busy": "2023-10-22T15:16:28.022310Z",
     "iopub.status.idle": "2023-10-22T15:16:28.027468Z",
     "shell.execute_reply": "2023-10-22T15:16:28.026361Z"
    }
   },
   "outputs": [],
   "source": [
    "import copy"
   ]
  },
  {
   "cell_type": "markdown",
   "id": "5a736274",
   "metadata": {},
   "source": [
    "### Deep Copy of TreeValue"
   ]
  },
  {
   "cell_type": "code",
   "execution_count": 17,
   "id": "f9bcadd6",
   "metadata": {
    "execution": {
     "iopub.execute_input": "2023-10-22T15:16:28.030770Z",
     "iopub.status.busy": "2023-10-22T15:16:28.030189Z",
     "iopub.status.idle": "2023-10-22T15:16:40.179335Z",
     "shell.execute_reply": "2023-10-22T15:16:40.178662Z"
    }
   },
   "outputs": [
    {
     "name": "stdout",
     "output_type": "stream",
     "text": [
      "150 µs ± 1.79 µs per loop (mean ± std. dev. of 7 runs, 10,000 loops each)\n"
     ]
    }
   ],
   "source": [
    "t3 = FastTreeValue(_TREE_DATA_3)\n",
    "%timeit copy.deepcopy(t3)"
   ]
  },
  {
   "cell_type": "markdown",
   "id": "bf8be7ea",
   "metadata": {},
   "source": [
    "### Deep Copy of Tianshou Batch"
   ]
  },
  {
   "cell_type": "code",
   "execution_count": 18,
   "id": "91998e6f",
   "metadata": {
    "execution": {
     "iopub.execute_input": "2023-10-22T15:16:40.183532Z",
     "iopub.status.busy": "2023-10-22T15:16:40.182788Z",
     "iopub.status.idle": "2023-10-22T15:16:52.367750Z",
     "shell.execute_reply": "2023-10-22T15:16:52.367089Z"
    }
   },
   "outputs": [
    {
     "name": "stdout",
     "output_type": "stream",
     "text": [
      "150 µs ± 2.09 µs per loop (mean ± std. dev. of 7 runs, 10,000 loops each)\n"
     ]
    }
   ],
   "source": [
    "b3 = Batch(**_TREE_DATA_3)\n",
    "%timeit copy.deepcopy(b3)"
   ]
  },
  {
   "cell_type": "markdown",
   "id": "223162fb",
   "metadata": {},
   "source": [
    "## Stack, Concat and Split Operation"
   ]
  },
  {
   "cell_type": "markdown",
   "id": "85fa4a73",
   "metadata": {},
   "source": [
    "### Performance of TreeValue"
   ]
  },
  {
   "cell_type": "code",
   "execution_count": 19,
   "id": "a0c2b697",
   "metadata": {
    "execution": {
     "iopub.execute_input": "2023-10-22T15:16:52.371354Z",
     "iopub.status.busy": "2023-10-22T15:16:52.370850Z",
     "iopub.status.idle": "2023-10-22T15:16:52.374556Z",
     "shell.execute_reply": "2023-10-22T15:16:52.373978Z"
    }
   },
   "outputs": [],
   "source": [
    "trees = [FastTreeValue(_TREE_DATA_2) for _ in range(8)]"
   ]
  },
  {
   "cell_type": "code",
   "execution_count": 20,
   "id": "017ea5a5",
   "metadata": {
    "execution": {
     "iopub.execute_input": "2023-10-22T15:16:52.377723Z",
     "iopub.status.busy": "2023-10-22T15:16:52.377030Z",
     "iopub.status.idle": "2023-10-22T15:16:52.384952Z",
     "shell.execute_reply": "2023-10-22T15:16:52.384373Z"
    }
   },
   "outputs": [
    {
     "data": {
      "text/plain": [
       "<FastTreeValue 0x7fb2892267c0>\n",
       "├── 'a' --> tensor([[[ 2.6605, -0.3240, -0.0506],\n",
       "│                    [ 0.7118,  1.5301,  0.5991]],\n",
       "│           \n",
       "│                   [[ 2.6605, -0.3240, -0.0506],\n",
       "│                    [ 0.7118,  1.5301,  0.5991]],\n",
       "│           \n",
       "│                   [[ 2.6605, -0.3240, -0.0506],\n",
       "│                    [ 0.7118,  1.5301,  0.5991]],\n",
       "│           \n",
       "│                   [[ 2.6605, -0.3240, -0.0506],\n",
       "│                    [ 0.7118,  1.5301,  0.5991]],\n",
       "│           \n",
       "│                   [[ 2.6605, -0.3240, -0.0506],\n",
       "│                    [ 0.7118,  1.5301,  0.5991]],\n",
       "│           \n",
       "│                   [[ 2.6605, -0.3240, -0.0506],\n",
       "│                    [ 0.7118,  1.5301,  0.5991]],\n",
       "│           \n",
       "│                   [[ 2.6605, -0.3240, -0.0506],\n",
       "│                    [ 0.7118,  1.5301,  0.5991]],\n",
       "│           \n",
       "│                   [[ 2.6605, -0.3240, -0.0506],\n",
       "│                    [ 0.7118,  1.5301,  0.5991]]])\n",
       "└── 'x' --> <FastTreeValue 0x7fb289226100>\n",
       "    └── 'c' --> tensor([[[ 0.5127,  0.8892,  0.0086, -0.4732],\n",
       "                         [-0.7450, -2.1816, -0.8962,  0.6720],\n",
       "                         [ 0.9687,  0.0585, -0.0568, -2.0104]],\n",
       "                \n",
       "                        [[ 0.5127,  0.8892,  0.0086, -0.4732],\n",
       "                         [-0.7450, -2.1816, -0.8962,  0.6720],\n",
       "                         [ 0.9687,  0.0585, -0.0568, -2.0104]],\n",
       "                \n",
       "                        [[ 0.5127,  0.8892,  0.0086, -0.4732],\n",
       "                         [-0.7450, -2.1816, -0.8962,  0.6720],\n",
       "                         [ 0.9687,  0.0585, -0.0568, -2.0104]],\n",
       "                \n",
       "                        [[ 0.5127,  0.8892,  0.0086, -0.4732],\n",
       "                         [-0.7450, -2.1816, -0.8962,  0.6720],\n",
       "                         [ 0.9687,  0.0585, -0.0568, -2.0104]],\n",
       "                \n",
       "                        [[ 0.5127,  0.8892,  0.0086, -0.4732],\n",
       "                         [-0.7450, -2.1816, -0.8962,  0.6720],\n",
       "                         [ 0.9687,  0.0585, -0.0568, -2.0104]],\n",
       "                \n",
       "                        [[ 0.5127,  0.8892,  0.0086, -0.4732],\n",
       "                         [-0.7450, -2.1816, -0.8962,  0.6720],\n",
       "                         [ 0.9687,  0.0585, -0.0568, -2.0104]],\n",
       "                \n",
       "                        [[ 0.5127,  0.8892,  0.0086, -0.4732],\n",
       "                         [-0.7450, -2.1816, -0.8962,  0.6720],\n",
       "                         [ 0.9687,  0.0585, -0.0568, -2.0104]],\n",
       "                \n",
       "                        [[ 0.5127,  0.8892,  0.0086, -0.4732],\n",
       "                         [-0.7450, -2.1816, -0.8962,  0.6720],\n",
       "                         [ 0.9687,  0.0585, -0.0568, -2.0104]]])"
      ]
     },
     "execution_count": 20,
     "metadata": {},
     "output_type": "execute_result"
    }
   ],
   "source": [
    "t_stack = FastTreeValue.func(subside=True)(torch.stack)\n",
    "\n",
    "t_stack(trees)"
   ]
  },
  {
   "cell_type": "code",
   "execution_count": 21,
   "id": "f8b3f415",
   "metadata": {
    "execution": {
     "iopub.execute_input": "2023-10-22T15:16:52.388144Z",
     "iopub.status.busy": "2023-10-22T15:16:52.387461Z",
     "iopub.status.idle": "2023-10-22T15:16:55.108571Z",
     "shell.execute_reply": "2023-10-22T15:16:55.107712Z"
    }
   },
   "outputs": [
    {
     "name": "stdout",
     "output_type": "stream",
     "text": [
      "33.5 µs ± 33.1 ns per loop (mean ± std. dev. of 7 runs, 10,000 loops each)\n"
     ]
    }
   ],
   "source": [
    "%timeit t_stack(trees)"
   ]
  },
  {
   "cell_type": "code",
   "execution_count": 22,
   "id": "94b56771",
   "metadata": {
    "execution": {
     "iopub.execute_input": "2023-10-22T15:16:55.114949Z",
     "iopub.status.busy": "2023-10-22T15:16:55.112084Z",
     "iopub.status.idle": "2023-10-22T15:16:55.125682Z",
     "shell.execute_reply": "2023-10-22T15:16:55.124986Z"
    }
   },
   "outputs": [
    {
     "data": {
      "text/plain": [
       "<FastTreeValue 0x7fb36815d970>\n",
       "├── 'a' --> tensor([[ 2.6605, -0.3240, -0.0506],\n",
       "│                   [ 0.7118,  1.5301,  0.5991],\n",
       "│                   [ 2.6605, -0.3240, -0.0506],\n",
       "│                   [ 0.7118,  1.5301,  0.5991],\n",
       "│                   [ 2.6605, -0.3240, -0.0506],\n",
       "│                   [ 0.7118,  1.5301,  0.5991],\n",
       "│                   [ 2.6605, -0.3240, -0.0506],\n",
       "│                   [ 0.7118,  1.5301,  0.5991],\n",
       "│                   [ 2.6605, -0.3240, -0.0506],\n",
       "│                   [ 0.7118,  1.5301,  0.5991],\n",
       "│                   [ 2.6605, -0.3240, -0.0506],\n",
       "│                   [ 0.7118,  1.5301,  0.5991],\n",
       "│                   [ 2.6605, -0.3240, -0.0506],\n",
       "│                   [ 0.7118,  1.5301,  0.5991],\n",
       "│                   [ 2.6605, -0.3240, -0.0506],\n",
       "│                   [ 0.7118,  1.5301,  0.5991]])\n",
       "└── 'x' --> <FastTreeValue 0x7fb2915e6cd0>\n",
       "    └── 'c' --> tensor([[ 0.5127,  0.8892,  0.0086, -0.4732],\n",
       "                        [-0.7450, -2.1816, -0.8962,  0.6720],\n",
       "                        [ 0.9687,  0.0585, -0.0568, -2.0104],\n",
       "                        [ 0.5127,  0.8892,  0.0086, -0.4732],\n",
       "                        [-0.7450, -2.1816, -0.8962,  0.6720],\n",
       "                        [ 0.9687,  0.0585, -0.0568, -2.0104],\n",
       "                        [ 0.5127,  0.8892,  0.0086, -0.4732],\n",
       "                        [-0.7450, -2.1816, -0.8962,  0.6720],\n",
       "                        [ 0.9687,  0.0585, -0.0568, -2.0104],\n",
       "                        [ 0.5127,  0.8892,  0.0086, -0.4732],\n",
       "                        [-0.7450, -2.1816, -0.8962,  0.6720],\n",
       "                        [ 0.9687,  0.0585, -0.0568, -2.0104],\n",
       "                        [ 0.5127,  0.8892,  0.0086, -0.4732],\n",
       "                        [-0.7450, -2.1816, -0.8962,  0.6720],\n",
       "                        [ 0.9687,  0.0585, -0.0568, -2.0104],\n",
       "                        [ 0.5127,  0.8892,  0.0086, -0.4732],\n",
       "                        [-0.7450, -2.1816, -0.8962,  0.6720],\n",
       "                        [ 0.9687,  0.0585, -0.0568, -2.0104],\n",
       "                        [ 0.5127,  0.8892,  0.0086, -0.4732],\n",
       "                        [-0.7450, -2.1816, -0.8962,  0.6720],\n",
       "                        [ 0.9687,  0.0585, -0.0568, -2.0104],\n",
       "                        [ 0.5127,  0.8892,  0.0086, -0.4732],\n",
       "                        [-0.7450, -2.1816, -0.8962,  0.6720],\n",
       "                        [ 0.9687,  0.0585, -0.0568, -2.0104]])"
      ]
     },
     "execution_count": 22,
     "metadata": {},
     "output_type": "execute_result"
    }
   ],
   "source": [
    "t_cat = FastTreeValue.func(subside=True)(torch.cat)\n",
    "\n",
    "t_cat(trees)"
   ]
  },
  {
   "cell_type": "code",
   "execution_count": 23,
   "id": "5e9c06a6",
   "metadata": {
    "execution": {
     "iopub.execute_input": "2023-10-22T15:16:55.129670Z",
     "iopub.status.busy": "2023-10-22T15:16:55.129183Z",
     "iopub.status.idle": "2023-10-22T15:16:57.686711Z",
     "shell.execute_reply": "2023-10-22T15:16:57.685793Z"
    }
   },
   "outputs": [
    {
     "name": "stdout",
     "output_type": "stream",
     "text": [
      "31.2 µs ± 42.9 ns per loop (mean ± std. dev. of 7 runs, 10,000 loops each)\n"
     ]
    }
   ],
   "source": [
    "%timeit t_cat(trees)"
   ]
  },
  {
   "cell_type": "code",
   "execution_count": 24,
   "id": "a3ab5c8f",
   "metadata": {
    "execution": {
     "iopub.execute_input": "2023-10-22T15:16:57.690483Z",
     "iopub.status.busy": "2023-10-22T15:16:57.689792Z",
     "iopub.status.idle": "2023-10-22T15:17:02.880478Z",
     "shell.execute_reply": "2023-10-22T15:17:02.879577Z"
    }
   },
   "outputs": [
    {
     "name": "stdout",
     "output_type": "stream",
     "text": [
      "63.8 µs ± 213 ns per loop (mean ± std. dev. of 7 runs, 10,000 loops each)\n"
     ]
    }
   ],
   "source": [
    "t_split = FastTreeValue.func(rise=True)(torch.split)\n",
    "tree = FastTreeValue({\n",
    "    'obs': torch.randn(8, 4, 84, 84),\n",
    "    'action': torch.randint(0, 6, size=(8, 1,)),\n",
    "    'reward': torch.rand(8, 1),\n",
    "})\n",
    "\n",
    "%timeit t_split(tree, 1)"
   ]
  },
  {
   "cell_type": "markdown",
   "id": "31c3ec0b",
   "metadata": {},
   "source": [
    "### Performance of Tianshou Batch"
   ]
  },
  {
   "cell_type": "code",
   "execution_count": 25,
   "id": "9ead828a",
   "metadata": {
    "execution": {
     "iopub.execute_input": "2023-10-22T15:17:02.886622Z",
     "iopub.status.busy": "2023-10-22T15:17:02.885165Z",
     "iopub.status.idle": "2023-10-22T15:17:02.895085Z",
     "shell.execute_reply": "2023-10-22T15:17:02.894343Z"
    }
   },
   "outputs": [
    {
     "data": {
      "text/plain": [
       "Batch(\n",
       "    a: tensor([[[ 2.6605, -0.3240, -0.0506],\n",
       "                [ 0.7118,  1.5301,  0.5991]],\n",
       "       \n",
       "               [[ 2.6605, -0.3240, -0.0506],\n",
       "                [ 0.7118,  1.5301,  0.5991]],\n",
       "       \n",
       "               [[ 2.6605, -0.3240, -0.0506],\n",
       "                [ 0.7118,  1.5301,  0.5991]],\n",
       "       \n",
       "               [[ 2.6605, -0.3240, -0.0506],\n",
       "                [ 0.7118,  1.5301,  0.5991]],\n",
       "       \n",
       "               [[ 2.6605, -0.3240, -0.0506],\n",
       "                [ 0.7118,  1.5301,  0.5991]],\n",
       "       \n",
       "               [[ 2.6605, -0.3240, -0.0506],\n",
       "                [ 0.7118,  1.5301,  0.5991]],\n",
       "       \n",
       "               [[ 2.6605, -0.3240, -0.0506],\n",
       "                [ 0.7118,  1.5301,  0.5991]],\n",
       "       \n",
       "               [[ 2.6605, -0.3240, -0.0506],\n",
       "                [ 0.7118,  1.5301,  0.5991]]]),\n",
       "    x: Batch(\n",
       "           c: tensor([[[ 0.5127,  0.8892,  0.0086, -0.4732],\n",
       "                       [-0.7450, -2.1816, -0.8962,  0.6720],\n",
       "                       [ 0.9687,  0.0585, -0.0568, -2.0104]],\n",
       "              \n",
       "                      [[ 0.5127,  0.8892,  0.0086, -0.4732],\n",
       "                       [-0.7450, -2.1816, -0.8962,  0.6720],\n",
       "                       [ 0.9687,  0.0585, -0.0568, -2.0104]],\n",
       "              \n",
       "                      [[ 0.5127,  0.8892,  0.0086, -0.4732],\n",
       "                       [-0.7450, -2.1816, -0.8962,  0.6720],\n",
       "                       [ 0.9687,  0.0585, -0.0568, -2.0104]],\n",
       "              \n",
       "                      [[ 0.5127,  0.8892,  0.0086, -0.4732],\n",
       "                       [-0.7450, -2.1816, -0.8962,  0.6720],\n",
       "                       [ 0.9687,  0.0585, -0.0568, -2.0104]],\n",
       "              \n",
       "                      [[ 0.5127,  0.8892,  0.0086, -0.4732],\n",
       "                       [-0.7450, -2.1816, -0.8962,  0.6720],\n",
       "                       [ 0.9687,  0.0585, -0.0568, -2.0104]],\n",
       "              \n",
       "                      [[ 0.5127,  0.8892,  0.0086, -0.4732],\n",
       "                       [-0.7450, -2.1816, -0.8962,  0.6720],\n",
       "                       [ 0.9687,  0.0585, -0.0568, -2.0104]],\n",
       "              \n",
       "                      [[ 0.5127,  0.8892,  0.0086, -0.4732],\n",
       "                       [-0.7450, -2.1816, -0.8962,  0.6720],\n",
       "                       [ 0.9687,  0.0585, -0.0568, -2.0104]],\n",
       "              \n",
       "                      [[ 0.5127,  0.8892,  0.0086, -0.4732],\n",
       "                       [-0.7450, -2.1816, -0.8962,  0.6720],\n",
       "                       [ 0.9687,  0.0585, -0.0568, -2.0104]]]),\n",
       "       ),\n",
       ")"
      ]
     },
     "execution_count": 25,
     "metadata": {},
     "output_type": "execute_result"
    }
   ],
   "source": [
    "batches = [Batch(**_TREE_DATA_2) for _ in range(8)]\n",
    "\n",
    "Batch.stack(batches)"
   ]
  },
  {
   "cell_type": "code",
   "execution_count": 26,
   "id": "ec9037a3",
   "metadata": {
    "execution": {
     "iopub.execute_input": "2023-10-22T15:17:02.898203Z",
     "iopub.status.busy": "2023-10-22T15:17:02.897810Z",
     "iopub.status.idle": "2023-10-22T15:17:09.751086Z",
     "shell.execute_reply": "2023-10-22T15:17:09.750235Z"
    }
   },
   "outputs": [
    {
     "name": "stdout",
     "output_type": "stream",
     "text": [
      "84.4 µs ± 330 ns per loop (mean ± std. dev. of 7 runs, 10,000 loops each)\n"
     ]
    }
   ],
   "source": [
    "%timeit Batch.stack(batches)"
   ]
  },
  {
   "cell_type": "code",
   "execution_count": 27,
   "id": "cb8ab77e",
   "metadata": {
    "execution": {
     "iopub.execute_input": "2023-10-22T15:17:09.754652Z",
     "iopub.status.busy": "2023-10-22T15:17:09.754238Z",
     "iopub.status.idle": "2023-10-22T15:17:09.763328Z",
     "shell.execute_reply": "2023-10-22T15:17:09.762547Z"
    }
   },
   "outputs": [
    {
     "data": {
      "text/plain": [
       "Batch(\n",
       "    a: tensor([[ 2.6605, -0.3240, -0.0506],\n",
       "               [ 0.7118,  1.5301,  0.5991],\n",
       "               [ 2.6605, -0.3240, -0.0506],\n",
       "               [ 0.7118,  1.5301,  0.5991],\n",
       "               [ 2.6605, -0.3240, -0.0506],\n",
       "               [ 0.7118,  1.5301,  0.5991],\n",
       "               [ 2.6605, -0.3240, -0.0506],\n",
       "               [ 0.7118,  1.5301,  0.5991],\n",
       "               [ 2.6605, -0.3240, -0.0506],\n",
       "               [ 0.7118,  1.5301,  0.5991],\n",
       "               [ 2.6605, -0.3240, -0.0506],\n",
       "               [ 0.7118,  1.5301,  0.5991],\n",
       "               [ 2.6605, -0.3240, -0.0506],\n",
       "               [ 0.7118,  1.5301,  0.5991],\n",
       "               [ 2.6605, -0.3240, -0.0506],\n",
       "               [ 0.7118,  1.5301,  0.5991]]),\n",
       "    x: Batch(\n",
       "           c: tensor([[ 0.5127,  0.8892,  0.0086, -0.4732],\n",
       "                      [-0.7450, -2.1816, -0.8962,  0.6720],\n",
       "                      [ 0.9687,  0.0585, -0.0568, -2.0104],\n",
       "                      [ 0.5127,  0.8892,  0.0086, -0.4732],\n",
       "                      [-0.7450, -2.1816, -0.8962,  0.6720],\n",
       "                      [ 0.9687,  0.0585, -0.0568, -2.0104],\n",
       "                      [ 0.5127,  0.8892,  0.0086, -0.4732],\n",
       "                      [-0.7450, -2.1816, -0.8962,  0.6720],\n",
       "                      [ 0.9687,  0.0585, -0.0568, -2.0104],\n",
       "                      [ 0.5127,  0.8892,  0.0086, -0.4732],\n",
       "                      [-0.7450, -2.1816, -0.8962,  0.6720],\n",
       "                      [ 0.9687,  0.0585, -0.0568, -2.0104],\n",
       "                      [ 0.5127,  0.8892,  0.0086, -0.4732],\n",
       "                      [-0.7450, -2.1816, -0.8962,  0.6720],\n",
       "                      [ 0.9687,  0.0585, -0.0568, -2.0104],\n",
       "                      [ 0.5127,  0.8892,  0.0086, -0.4732],\n",
       "                      [-0.7450, -2.1816, -0.8962,  0.6720],\n",
       "                      [ 0.9687,  0.0585, -0.0568, -2.0104],\n",
       "                      [ 0.5127,  0.8892,  0.0086, -0.4732],\n",
       "                      [-0.7450, -2.1816, -0.8962,  0.6720],\n",
       "                      [ 0.9687,  0.0585, -0.0568, -2.0104],\n",
       "                      [ 0.5127,  0.8892,  0.0086, -0.4732],\n",
       "                      [-0.7450, -2.1816, -0.8962,  0.6720],\n",
       "                      [ 0.9687,  0.0585, -0.0568, -2.0104]]),\n",
       "       ),\n",
       ")"
      ]
     },
     "execution_count": 27,
     "metadata": {},
     "output_type": "execute_result"
    }
   ],
   "source": [
    "Batch.cat(batches)"
   ]
  },
  {
   "cell_type": "code",
   "execution_count": 28,
   "id": "18dfb045",
   "metadata": {
    "execution": {
     "iopub.execute_input": "2023-10-22T15:17:09.766502Z",
     "iopub.status.busy": "2023-10-22T15:17:09.766042Z",
     "iopub.status.idle": "2023-10-22T15:17:22.215034Z",
     "shell.execute_reply": "2023-10-22T15:17:22.214162Z"
    }
   },
   "outputs": [
    {
     "name": "stdout",
     "output_type": "stream",
     "text": [
      "153 µs ± 440 ns per loop (mean ± std. dev. of 7 runs, 10,000 loops each)\n"
     ]
    }
   ],
   "source": [
    "%timeit Batch.cat(batches)"
   ]
  },
  {
   "cell_type": "code",
   "execution_count": 29,
   "id": "c6688e51",
   "metadata": {
    "execution": {
     "iopub.execute_input": "2023-10-22T15:17:22.219369Z",
     "iopub.status.busy": "2023-10-22T15:17:22.218548Z",
     "iopub.status.idle": "2023-10-22T15:17:25.333426Z",
     "shell.execute_reply": "2023-10-22T15:17:25.332754Z"
    }
   },
   "outputs": [
    {
     "name": "stdout",
     "output_type": "stream",
     "text": [
      "383 µs ± 7.56 µs per loop (mean ± std. dev. of 7 runs, 1,000 loops each)\n"
     ]
    }
   ],
   "source": [
    "batch = Batch({\n",
    "    'obs': torch.randn(8, 4, 84, 84),\n",
    "    'action': torch.randint(0, 6, size=(8, 1,)),\n",
    "    'reward': torch.rand(8, 1)}\n",
    ")\n",
    "\n",
    "%timeit list(Batch.split(batch, 1, shuffle=False, merge_last=True))"
   ]
  },
  {
   "cell_type": "code",
   "execution_count": null,
   "id": "2539fbd9",
   "metadata": {},
   "outputs": [],
   "source": []
  }
 ],
 "metadata": {
  "kernelspec": {
   "display_name": "Python 3 (ipykernel)",
   "language": "python",
   "name": "python3"
  },
  "language_info": {
   "codemirror_mode": {
    "name": "ipython",
    "version": 3
   },
   "file_extension": ".py",
   "mimetype": "text/x-python",
   "name": "python",
   "nbconvert_exporter": "python",
   "pygments_lexer": "ipython3",
   "version": "3.8.18"
  }
 },
 "nbformat": 4,
 "nbformat_minor": 5
}
