{
 "cells": [
  {
   "cell_type": "markdown",
   "id": "9d39d946",
   "metadata": {},
   "source": [
    "# Comparison Between TreeValue and Tianshou Batch"
   ]
  },
  {
   "cell_type": "markdown",
   "id": "3c6db2d4",
   "metadata": {},
   "source": [
    "In this section, we will take a look at the feature and performance of the [Tianshou Batch](https://github.com/thu-ml/tianshou) library, which is developed by Tsinghua Machine Learning Group."
   ]
  },
  {
   "cell_type": "markdown",
   "id": "069361b0",
   "metadata": {},
   "source": [
    "Before starting the comparison, let us define some thing."
   ]
  },
  {
   "cell_type": "code",
   "execution_count": 1,
   "id": "06fc8d26",
   "metadata": {
    "execution": {
     "iopub.execute_input": "2023-04-16T15:13:12.182812Z",
     "iopub.status.busy": "2023-04-16T15:13:12.182540Z",
     "iopub.status.idle": "2023-04-16T15:13:13.715413Z",
     "shell.execute_reply": "2023-04-16T15:13:13.714574Z"
    }
   },
   "outputs": [],
   "source": [
    "import torch \n",
    "\n",
    "_TREE_DATA_1 = {'a': 1, 'b': 2, 'x': {'c': 3, 'd': 4}}\n",
    "_TREE_DATA_2 = {\n",
    "    'a': torch.randn(2, 3), \n",
    "    'x': {\n",
    "        'c': torch.randn(3, 4)\n",
    "    },\n",
    "}\n",
    "_TREE_DATA_3 = {\n",
    "    'obs': torch.randn(4, 84, 84),\n",
    "    'action': torch.randint(0, 6, size=(1,)),\n",
    "    'reward': torch.rand(1),\n",
    "}"
   ]
  },
  {
   "cell_type": "markdown",
   "id": "83461b25",
   "metadata": {},
   "source": [
    "## Read and Write Operation"
   ]
  },
  {
   "cell_type": "markdown",
   "id": "067b3f73",
   "metadata": {},
   "source": [
    "Reading and writing are the two most common operations in the tree data structure based on the data model (TreeValue and Tianshou Batch both belong to this type), so this section will compare the reading and writing performance of these two libraries."
   ]
  },
  {
   "cell_type": "markdown",
   "id": "5d09a5b7",
   "metadata": {},
   "source": [
    "### TreeValue's Get and Set"
   ]
  },
  {
   "cell_type": "code",
   "execution_count": 2,
   "id": "9519c4bb",
   "metadata": {
    "execution": {
     "iopub.execute_input": "2023-04-16T15:13:13.719895Z",
     "iopub.status.busy": "2023-04-16T15:13:13.719394Z",
     "iopub.status.idle": "2023-04-16T15:13:13.749089Z",
     "shell.execute_reply": "2023-04-16T15:13:13.748386Z"
    }
   },
   "outputs": [],
   "source": [
    "from treevalue import FastTreeValue\n",
    "\n",
    "t = FastTreeValue(_TREE_DATA_2)"
   ]
  },
  {
   "cell_type": "code",
   "execution_count": 3,
   "id": "11c37677",
   "metadata": {
    "execution": {
     "iopub.execute_input": "2023-04-16T15:13:13.752941Z",
     "iopub.status.busy": "2023-04-16T15:13:13.752537Z",
     "iopub.status.idle": "2023-04-16T15:13:13.761725Z",
     "shell.execute_reply": "2023-04-16T15:13:13.761037Z"
    }
   },
   "outputs": [
    {
     "data": {
      "text/plain": [
       "<FastTreeValue 0x7fe69c4219a0>\n",
       "├── 'a' --> tensor([[ 1.6354, -0.3869, -1.1288],\n",
       "│                   [-0.0901, -0.6869, -1.0016]])\n",
       "└── 'x' --> <FastTreeValue 0x7fe69c421fd0>\n",
       "    └── 'c' --> tensor([[-1.7645,  0.9949,  1.4610,  0.6240],\n",
       "                        [-0.4780, -0.7030, -2.7138, -1.9123],\n",
       "                        [-1.0011, -1.5927, -1.3506, -1.1088]])"
      ]
     },
     "execution_count": 3,
     "metadata": {},
     "output_type": "execute_result"
    }
   ],
   "source": [
    "t"
   ]
  },
  {
   "cell_type": "code",
   "execution_count": 4,
   "id": "fd70b0b9",
   "metadata": {
    "execution": {
     "iopub.execute_input": "2023-04-16T15:13:13.766245Z",
     "iopub.status.busy": "2023-04-16T15:13:13.765679Z",
     "iopub.status.idle": "2023-04-16T15:13:13.770729Z",
     "shell.execute_reply": "2023-04-16T15:13:13.770061Z"
    }
   },
   "outputs": [
    {
     "data": {
      "text/plain": [
       "tensor([[ 1.6354, -0.3869, -1.1288],\n",
       "        [-0.0901, -0.6869, -1.0016]])"
      ]
     },
     "execution_count": 4,
     "metadata": {},
     "output_type": "execute_result"
    }
   ],
   "source": [
    "t.a"
   ]
  },
  {
   "cell_type": "code",
   "execution_count": 5,
   "id": "c18197bd",
   "metadata": {
    "execution": {
     "iopub.execute_input": "2023-04-16T15:13:13.774566Z",
     "iopub.status.busy": "2023-04-16T15:13:13.774113Z",
     "iopub.status.idle": "2023-04-16T15:13:18.951315Z",
     "shell.execute_reply": "2023-04-16T15:13:18.950468Z"
    }
   },
   "outputs": [
    {
     "name": "stdout",
     "output_type": "stream",
     "text": [
      "63.7 ns ± 0.071 ns per loop (mean ± std. dev. of 7 runs, 10,000,000 loops each)\n"
     ]
    }
   ],
   "source": [
    "%timeit t.a"
   ]
  },
  {
   "cell_type": "code",
   "execution_count": 6,
   "id": "bd52f867",
   "metadata": {
    "execution": {
     "iopub.execute_input": "2023-04-16T15:13:18.955167Z",
     "iopub.status.busy": "2023-04-16T15:13:18.954528Z",
     "iopub.status.idle": "2023-04-16T15:13:18.961258Z",
     "shell.execute_reply": "2023-04-16T15:13:18.960545Z"
    }
   },
   "outputs": [
    {
     "data": {
      "text/plain": [
       "<FastTreeValue 0x7fe69c4219a0>\n",
       "├── 'a' --> tensor([[-0.7453, -0.7756,  1.2442],\n",
       "│                   [-0.3212,  1.1157, -0.7227]])\n",
       "└── 'x' --> <FastTreeValue 0x7fe69c421fd0>\n",
       "    └── 'c' --> tensor([[-1.7645,  0.9949,  1.4610,  0.6240],\n",
       "                        [-0.4780, -0.7030, -2.7138, -1.9123],\n",
       "                        [-1.0011, -1.5927, -1.3506, -1.1088]])"
      ]
     },
     "execution_count": 6,
     "metadata": {},
     "output_type": "execute_result"
    }
   ],
   "source": [
    "new_value = torch.randn(2, 3)\n",
    "t.a = new_value\n",
    "\n",
    "t"
   ]
  },
  {
   "cell_type": "code",
   "execution_count": 7,
   "id": "bbe04d1c",
   "metadata": {
    "execution": {
     "iopub.execute_input": "2023-04-16T15:13:18.964445Z",
     "iopub.status.busy": "2023-04-16T15:13:18.963876Z",
     "iopub.status.idle": "2023-04-16T15:13:24.922428Z",
     "shell.execute_reply": "2023-04-16T15:13:24.921668Z"
    }
   },
   "outputs": [
    {
     "name": "stdout",
     "output_type": "stream",
     "text": [
      "73.4 ns ± 0.0283 ns per loop (mean ± std. dev. of 7 runs, 10,000,000 loops each)\n"
     ]
    }
   ],
   "source": [
    "%timeit t.a = new_value"
   ]
  },
  {
   "cell_type": "markdown",
   "id": "48c49731",
   "metadata": {},
   "source": [
    "### Tianshou Batch's Get and Set"
   ]
  },
  {
   "cell_type": "code",
   "execution_count": 8,
   "id": "f1bb14c1",
   "metadata": {
    "execution": {
     "iopub.execute_input": "2023-04-16T15:13:24.925944Z",
     "iopub.status.busy": "2023-04-16T15:13:24.925412Z",
     "iopub.status.idle": "2023-04-16T15:13:25.331200Z",
     "shell.execute_reply": "2023-04-16T15:13:25.330349Z"
    }
   },
   "outputs": [],
   "source": [
    "from tianshou.data import Batch\n",
    "\n",
    "b = Batch(**_TREE_DATA_2)"
   ]
  },
  {
   "cell_type": "code",
   "execution_count": 9,
   "id": "cb0777c3",
   "metadata": {
    "execution": {
     "iopub.execute_input": "2023-04-16T15:13:25.335688Z",
     "iopub.status.busy": "2023-04-16T15:13:25.335073Z",
     "iopub.status.idle": "2023-04-16T15:13:25.341960Z",
     "shell.execute_reply": "2023-04-16T15:13:25.341213Z"
    }
   },
   "outputs": [
    {
     "data": {
      "text/plain": [
       "Batch(\n",
       "    a: tensor([[ 1.6354, -0.3869, -1.1288],\n",
       "               [-0.0901, -0.6869, -1.0016]]),\n",
       "    x: Batch(\n",
       "           c: tensor([[-1.7645,  0.9949,  1.4610,  0.6240],\n",
       "                      [-0.4780, -0.7030, -2.7138, -1.9123],\n",
       "                      [-1.0011, -1.5927, -1.3506, -1.1088]]),\n",
       "       ),\n",
       ")"
      ]
     },
     "execution_count": 9,
     "metadata": {},
     "output_type": "execute_result"
    }
   ],
   "source": [
    "b"
   ]
  },
  {
   "cell_type": "code",
   "execution_count": 10,
   "id": "43ef8ea3",
   "metadata": {
    "execution": {
     "iopub.execute_input": "2023-04-16T15:13:25.345131Z",
     "iopub.status.busy": "2023-04-16T15:13:25.344876Z",
     "iopub.status.idle": "2023-04-16T15:13:25.350209Z",
     "shell.execute_reply": "2023-04-16T15:13:25.349519Z"
    }
   },
   "outputs": [
    {
     "data": {
      "text/plain": [
       "tensor([[ 1.6354, -0.3869, -1.1288],\n",
       "        [-0.0901, -0.6869, -1.0016]])"
      ]
     },
     "execution_count": 10,
     "metadata": {},
     "output_type": "execute_result"
    }
   ],
   "source": [
    "b.a"
   ]
  },
  {
   "cell_type": "code",
   "execution_count": 11,
   "id": "b785ab72",
   "metadata": {
    "execution": {
     "iopub.execute_input": "2023-04-16T15:13:25.353348Z",
     "iopub.status.busy": "2023-04-16T15:13:25.352973Z",
     "iopub.status.idle": "2023-04-16T15:13:30.574773Z",
     "shell.execute_reply": "2023-04-16T15:13:30.574011Z"
    }
   },
   "outputs": [
    {
     "name": "stdout",
     "output_type": "stream",
     "text": [
      "64.3 ns ± 0.14 ns per loop (mean ± std. dev. of 7 runs, 10,000,000 loops each)\n"
     ]
    }
   ],
   "source": [
    "%timeit b.a"
   ]
  },
  {
   "cell_type": "code",
   "execution_count": 12,
   "id": "ad54dc69",
   "metadata": {
    "execution": {
     "iopub.execute_input": "2023-04-16T15:13:30.578761Z",
     "iopub.status.busy": "2023-04-16T15:13:30.578168Z",
     "iopub.status.idle": "2023-04-16T15:13:30.584574Z",
     "shell.execute_reply": "2023-04-16T15:13:30.583870Z"
    }
   },
   "outputs": [
    {
     "data": {
      "text/plain": [
       "Batch(\n",
       "    a: tensor([[ 0.1884,  0.4098, -0.9540],\n",
       "               [-0.4476,  1.7211,  0.4970]]),\n",
       "    x: Batch(\n",
       "           c: tensor([[-1.7645,  0.9949,  1.4610,  0.6240],\n",
       "                      [-0.4780, -0.7030, -2.7138, -1.9123],\n",
       "                      [-1.0011, -1.5927, -1.3506, -1.1088]]),\n",
       "       ),\n",
       ")"
      ]
     },
     "execution_count": 12,
     "metadata": {},
     "output_type": "execute_result"
    }
   ],
   "source": [
    "new_value = torch.randn(2, 3)\n",
    "b.a = new_value\n",
    "\n",
    "b"
   ]
  },
  {
   "cell_type": "code",
   "execution_count": 13,
   "id": "29b1d0bf",
   "metadata": {
    "execution": {
     "iopub.execute_input": "2023-04-16T15:13:30.587620Z",
     "iopub.status.busy": "2023-04-16T15:13:30.587164Z",
     "iopub.status.idle": "2023-04-16T15:13:34.781706Z",
     "shell.execute_reply": "2023-04-16T15:13:34.780954Z"
    }
   },
   "outputs": [
    {
     "name": "stdout",
     "output_type": "stream",
     "text": [
      "517 ns ± 0.35 ns per loop (mean ± std. dev. of 7 runs, 1,000,000 loops each)\n"
     ]
    }
   ],
   "source": [
    "%timeit b.a = new_value"
   ]
  },
  {
   "cell_type": "markdown",
   "id": "b61ad1d0",
   "metadata": {},
   "source": [
    "## Initialization"
   ]
  },
  {
   "cell_type": "markdown",
   "id": "d70f0d54",
   "metadata": {},
   "source": [
    "### TreeValue's Initialization"
   ]
  },
  {
   "cell_type": "code",
   "execution_count": 14,
   "id": "d32a679b",
   "metadata": {
    "execution": {
     "iopub.execute_input": "2023-04-16T15:13:34.785622Z",
     "iopub.status.busy": "2023-04-16T15:13:34.785077Z",
     "iopub.status.idle": "2023-04-16T15:13:41.568162Z",
     "shell.execute_reply": "2023-04-16T15:13:41.567468Z"
    }
   },
   "outputs": [
    {
     "name": "stdout",
     "output_type": "stream",
     "text": [
      "837 ns ± 7.42 ns per loop (mean ± std. dev. of 7 runs, 1,000,000 loops each)\n"
     ]
    }
   ],
   "source": [
    "%timeit FastTreeValue(_TREE_DATA_1)"
   ]
  },
  {
   "cell_type": "markdown",
   "id": "24f3707b",
   "metadata": {},
   "source": [
    "### Tianshou Batch's Initialization"
   ]
  },
  {
   "cell_type": "code",
   "execution_count": 15,
   "id": "ac3958df",
   "metadata": {
    "execution": {
     "iopub.execute_input": "2023-04-16T15:13:41.571599Z",
     "iopub.status.busy": "2023-04-16T15:13:41.571096Z",
     "iopub.status.idle": "2023-04-16T15:13:50.454736Z",
     "shell.execute_reply": "2023-04-16T15:13:50.453814Z"
    }
   },
   "outputs": [
    {
     "name": "stdout",
     "output_type": "stream",
     "text": [
      "10.9 µs ± 23.5 ns per loop (mean ± std. dev. of 7 runs, 100,000 loops each)\n"
     ]
    }
   ],
   "source": [
    "%timeit Batch(**_TREE_DATA_1)"
   ]
  },
  {
   "cell_type": "markdown",
   "id": "1ab82e2d",
   "metadata": {},
   "source": [
    "## Deep Copy Operation"
   ]
  },
  {
   "cell_type": "code",
   "execution_count": 16,
   "id": "210a9442",
   "metadata": {
    "execution": {
     "iopub.execute_input": "2023-04-16T15:13:50.458946Z",
     "iopub.status.busy": "2023-04-16T15:13:50.458422Z",
     "iopub.status.idle": "2023-04-16T15:13:50.463350Z",
     "shell.execute_reply": "2023-04-16T15:13:50.462506Z"
    }
   },
   "outputs": [],
   "source": [
    "import copy"
   ]
  },
  {
   "cell_type": "markdown",
   "id": "5a736274",
   "metadata": {},
   "source": [
    "### Deep Copy of TreeValue"
   ]
  },
  {
   "cell_type": "code",
   "execution_count": 17,
   "id": "f9bcadd6",
   "metadata": {
    "execution": {
     "iopub.execute_input": "2023-04-16T15:13:50.466548Z",
     "iopub.status.busy": "2023-04-16T15:13:50.466170Z",
     "iopub.status.idle": "2023-04-16T15:14:02.091263Z",
     "shell.execute_reply": "2023-04-16T15:14:02.090563Z"
    }
   },
   "outputs": [
    {
     "name": "stdout",
     "output_type": "stream",
     "text": [
      "143 µs ± 1.47 µs per loop (mean ± std. dev. of 7 runs, 10,000 loops each)\n"
     ]
    }
   ],
   "source": [
    "t3 = FastTreeValue(_TREE_DATA_3)\n",
    "%timeit copy.deepcopy(t3)"
   ]
  },
  {
   "cell_type": "markdown",
   "id": "bf8be7ea",
   "metadata": {},
   "source": [
    "### Deep Copy of Tianshou Batch"
   ]
  },
  {
   "cell_type": "code",
   "execution_count": 18,
   "id": "91998e6f",
   "metadata": {
    "execution": {
     "iopub.execute_input": "2023-04-16T15:14:02.094643Z",
     "iopub.status.busy": "2023-04-16T15:14:02.094114Z",
     "iopub.status.idle": "2023-04-16T15:14:13.732107Z",
     "shell.execute_reply": "2023-04-16T15:14:13.731203Z"
    }
   },
   "outputs": [
    {
     "name": "stdout",
     "output_type": "stream",
     "text": [
      "143 µs ± 323 ns per loop (mean ± std. dev. of 7 runs, 10,000 loops each)\n"
     ]
    }
   ],
   "source": [
    "b3 = Batch(**_TREE_DATA_3)\n",
    "%timeit copy.deepcopy(b3)"
   ]
  },
  {
   "cell_type": "markdown",
   "id": "223162fb",
   "metadata": {},
   "source": [
    "## Stack, Concat and Split Operation"
   ]
  },
  {
   "cell_type": "markdown",
   "id": "85fa4a73",
   "metadata": {},
   "source": [
    "### Performance of TreeValue"
   ]
  },
  {
   "cell_type": "code",
   "execution_count": 19,
   "id": "a0c2b697",
   "metadata": {
    "execution": {
     "iopub.execute_input": "2023-04-16T15:14:13.736077Z",
     "iopub.status.busy": "2023-04-16T15:14:13.735793Z",
     "iopub.status.idle": "2023-04-16T15:14:13.739478Z",
     "shell.execute_reply": "2023-04-16T15:14:13.738671Z"
    }
   },
   "outputs": [],
   "source": [
    "trees = [FastTreeValue(_TREE_DATA_2) for _ in range(8)]"
   ]
  },
  {
   "cell_type": "code",
   "execution_count": 20,
   "id": "017ea5a5",
   "metadata": {
    "execution": {
     "iopub.execute_input": "2023-04-16T15:14:13.743057Z",
     "iopub.status.busy": "2023-04-16T15:14:13.742560Z",
     "iopub.status.idle": "2023-04-16T15:14:13.750787Z",
     "shell.execute_reply": "2023-04-16T15:14:13.750062Z"
    }
   },
   "outputs": [
    {
     "data": {
      "text/plain": [
       "<FastTreeValue 0x7fe5d29b8a90>\n",
       "├── 'a' --> tensor([[[ 1.6354, -0.3869, -1.1288],\n",
       "│                    [-0.0901, -0.6869, -1.0016]],\n",
       "│           \n",
       "│                   [[ 1.6354, -0.3869, -1.1288],\n",
       "│                    [-0.0901, -0.6869, -1.0016]],\n",
       "│           \n",
       "│                   [[ 1.6354, -0.3869, -1.1288],\n",
       "│                    [-0.0901, -0.6869, -1.0016]],\n",
       "│           \n",
       "│                   [[ 1.6354, -0.3869, -1.1288],\n",
       "│                    [-0.0901, -0.6869, -1.0016]],\n",
       "│           \n",
       "│                   [[ 1.6354, -0.3869, -1.1288],\n",
       "│                    [-0.0901, -0.6869, -1.0016]],\n",
       "│           \n",
       "│                   [[ 1.6354, -0.3869, -1.1288],\n",
       "│                    [-0.0901, -0.6869, -1.0016]],\n",
       "│           \n",
       "│                   [[ 1.6354, -0.3869, -1.1288],\n",
       "│                    [-0.0901, -0.6869, -1.0016]],\n",
       "│           \n",
       "│                   [[ 1.6354, -0.3869, -1.1288],\n",
       "│                    [-0.0901, -0.6869, -1.0016]]])\n",
       "└── 'x' --> <FastTreeValue 0x7fe5d96693a0>\n",
       "    └── 'c' --> tensor([[[-1.7645,  0.9949,  1.4610,  0.6240],\n",
       "                         [-0.4780, -0.7030, -2.7138, -1.9123],\n",
       "                         [-1.0011, -1.5927, -1.3506, -1.1088]],\n",
       "                \n",
       "                        [[-1.7645,  0.9949,  1.4610,  0.6240],\n",
       "                         [-0.4780, -0.7030, -2.7138, -1.9123],\n",
       "                         [-1.0011, -1.5927, -1.3506, -1.1088]],\n",
       "                \n",
       "                        [[-1.7645,  0.9949,  1.4610,  0.6240],\n",
       "                         [-0.4780, -0.7030, -2.7138, -1.9123],\n",
       "                         [-1.0011, -1.5927, -1.3506, -1.1088]],\n",
       "                \n",
       "                        [[-1.7645,  0.9949,  1.4610,  0.6240],\n",
       "                         [-0.4780, -0.7030, -2.7138, -1.9123],\n",
       "                         [-1.0011, -1.5927, -1.3506, -1.1088]],\n",
       "                \n",
       "                        [[-1.7645,  0.9949,  1.4610,  0.6240],\n",
       "                         [-0.4780, -0.7030, -2.7138, -1.9123],\n",
       "                         [-1.0011, -1.5927, -1.3506, -1.1088]],\n",
       "                \n",
       "                        [[-1.7645,  0.9949,  1.4610,  0.6240],\n",
       "                         [-0.4780, -0.7030, -2.7138, -1.9123],\n",
       "                         [-1.0011, -1.5927, -1.3506, -1.1088]],\n",
       "                \n",
       "                        [[-1.7645,  0.9949,  1.4610,  0.6240],\n",
       "                         [-0.4780, -0.7030, -2.7138, -1.9123],\n",
       "                         [-1.0011, -1.5927, -1.3506, -1.1088]],\n",
       "                \n",
       "                        [[-1.7645,  0.9949,  1.4610,  0.6240],\n",
       "                         [-0.4780, -0.7030, -2.7138, -1.9123],\n",
       "                         [-1.0011, -1.5927, -1.3506, -1.1088]]])"
      ]
     },
     "execution_count": 20,
     "metadata": {},
     "output_type": "execute_result"
    }
   ],
   "source": [
    "t_stack = FastTreeValue.func(subside=True)(torch.stack)\n",
    "\n",
    "t_stack(trees)"
   ]
  },
  {
   "cell_type": "code",
   "execution_count": 21,
   "id": "f8b3f415",
   "metadata": {
    "execution": {
     "iopub.execute_input": "2023-04-16T15:14:13.754290Z",
     "iopub.status.busy": "2023-04-16T15:14:13.753808Z",
     "iopub.status.idle": "2023-04-16T15:14:16.529918Z",
     "shell.execute_reply": "2023-04-16T15:14:16.529169Z"
    }
   },
   "outputs": [
    {
     "name": "stdout",
     "output_type": "stream",
     "text": [
      "34.1 µs ± 69.4 ns per loop (mean ± std. dev. of 7 runs, 10,000 loops each)\n"
     ]
    }
   ],
   "source": [
    "%timeit t_stack(trees)"
   ]
  },
  {
   "cell_type": "code",
   "execution_count": 22,
   "id": "94b56771",
   "metadata": {
    "execution": {
     "iopub.execute_input": "2023-04-16T15:14:16.534143Z",
     "iopub.status.busy": "2023-04-16T15:14:16.533428Z",
     "iopub.status.idle": "2023-04-16T15:14:16.541556Z",
     "shell.execute_reply": "2023-04-16T15:14:16.540849Z"
    }
   },
   "outputs": [
    {
     "data": {
      "text/plain": [
       "<FastTreeValue 0x7fe69c4534f0>\n",
       "├── 'a' --> tensor([[ 1.6354, -0.3869, -1.1288],\n",
       "│                   [-0.0901, -0.6869, -1.0016],\n",
       "│                   [ 1.6354, -0.3869, -1.1288],\n",
       "│                   [-0.0901, -0.6869, -1.0016],\n",
       "│                   [ 1.6354, -0.3869, -1.1288],\n",
       "│                   [-0.0901, -0.6869, -1.0016],\n",
       "│                   [ 1.6354, -0.3869, -1.1288],\n",
       "│                   [-0.0901, -0.6869, -1.0016],\n",
       "│                   [ 1.6354, -0.3869, -1.1288],\n",
       "│                   [-0.0901, -0.6869, -1.0016],\n",
       "│                   [ 1.6354, -0.3869, -1.1288],\n",
       "│                   [-0.0901, -0.6869, -1.0016],\n",
       "│                   [ 1.6354, -0.3869, -1.1288],\n",
       "│                   [-0.0901, -0.6869, -1.0016],\n",
       "│                   [ 1.6354, -0.3869, -1.1288],\n",
       "│                   [-0.0901, -0.6869, -1.0016]])\n",
       "└── 'x' --> <FastTreeValue 0x7fe6a14aa0d0>\n",
       "    └── 'c' --> tensor([[-1.7645,  0.9949,  1.4610,  0.6240],\n",
       "                        [-0.4780, -0.7030, -2.7138, -1.9123],\n",
       "                        [-1.0011, -1.5927, -1.3506, -1.1088],\n",
       "                        [-1.7645,  0.9949,  1.4610,  0.6240],\n",
       "                        [-0.4780, -0.7030, -2.7138, -1.9123],\n",
       "                        [-1.0011, -1.5927, -1.3506, -1.1088],\n",
       "                        [-1.7645,  0.9949,  1.4610,  0.6240],\n",
       "                        [-0.4780, -0.7030, -2.7138, -1.9123],\n",
       "                        [-1.0011, -1.5927, -1.3506, -1.1088],\n",
       "                        [-1.7645,  0.9949,  1.4610,  0.6240],\n",
       "                        [-0.4780, -0.7030, -2.7138, -1.9123],\n",
       "                        [-1.0011, -1.5927, -1.3506, -1.1088],\n",
       "                        [-1.7645,  0.9949,  1.4610,  0.6240],\n",
       "                        [-0.4780, -0.7030, -2.7138, -1.9123],\n",
       "                        [-1.0011, -1.5927, -1.3506, -1.1088],\n",
       "                        [-1.7645,  0.9949,  1.4610,  0.6240],\n",
       "                        [-0.4780, -0.7030, -2.7138, -1.9123],\n",
       "                        [-1.0011, -1.5927, -1.3506, -1.1088],\n",
       "                        [-1.7645,  0.9949,  1.4610,  0.6240],\n",
       "                        [-0.4780, -0.7030, -2.7138, -1.9123],\n",
       "                        [-1.0011, -1.5927, -1.3506, -1.1088],\n",
       "                        [-1.7645,  0.9949,  1.4610,  0.6240],\n",
       "                        [-0.4780, -0.7030, -2.7138, -1.9123],\n",
       "                        [-1.0011, -1.5927, -1.3506, -1.1088]])"
      ]
     },
     "execution_count": 22,
     "metadata": {},
     "output_type": "execute_result"
    }
   ],
   "source": [
    "t_cat = FastTreeValue.func(subside=True)(torch.cat)\n",
    "\n",
    "t_cat(trees)"
   ]
  },
  {
   "cell_type": "code",
   "execution_count": 23,
   "id": "5e9c06a6",
   "metadata": {
    "execution": {
     "iopub.execute_input": "2023-04-16T15:14:16.545183Z",
     "iopub.status.busy": "2023-04-16T15:14:16.544940Z",
     "iopub.status.idle": "2023-04-16T15:14:19.143222Z",
     "shell.execute_reply": "2023-04-16T15:14:19.142443Z"
    }
   },
   "outputs": [
    {
     "name": "stdout",
     "output_type": "stream",
     "text": [
      "32 µs ± 71 ns per loop (mean ± std. dev. of 7 runs, 10,000 loops each)\n"
     ]
    }
   ],
   "source": [
    "%timeit t_cat(trees)"
   ]
  },
  {
   "cell_type": "code",
   "execution_count": 24,
   "id": "a3ab5c8f",
   "metadata": {
    "execution": {
     "iopub.execute_input": "2023-04-16T15:14:19.147087Z",
     "iopub.status.busy": "2023-04-16T15:14:19.146504Z",
     "iopub.status.idle": "2023-04-16T15:14:24.429630Z",
     "shell.execute_reply": "2023-04-16T15:14:24.428704Z"
    }
   },
   "outputs": [
    {
     "name": "stdout",
     "output_type": "stream",
     "text": [
      "65 µs ± 50.7 ns per loop (mean ± std. dev. of 7 runs, 10,000 loops each)\n"
     ]
    }
   ],
   "source": [
    "t_split = FastTreeValue.func(rise=True)(torch.split)\n",
    "tree = FastTreeValue({\n",
    "    'obs': torch.randn(8, 4, 84, 84),\n",
    "    'action': torch.randint(0, 6, size=(8, 1,)),\n",
    "    'reward': torch.rand(8, 1),\n",
    "})\n",
    "\n",
    "%timeit t_split(tree, 1)"
   ]
  },
  {
   "cell_type": "markdown",
   "id": "31c3ec0b",
   "metadata": {},
   "source": [
    "### Performance of Tianshou Batch"
   ]
  },
  {
   "cell_type": "code",
   "execution_count": 25,
   "id": "9ead828a",
   "metadata": {
    "execution": {
     "iopub.execute_input": "2023-04-16T15:14:24.433503Z",
     "iopub.status.busy": "2023-04-16T15:14:24.433078Z",
     "iopub.status.idle": "2023-04-16T15:14:24.441254Z",
     "shell.execute_reply": "2023-04-16T15:14:24.440553Z"
    }
   },
   "outputs": [
    {
     "data": {
      "text/plain": [
       "Batch(\n",
       "    a: tensor([[[ 1.6354, -0.3869, -1.1288],\n",
       "                [-0.0901, -0.6869, -1.0016]],\n",
       "       \n",
       "               [[ 1.6354, -0.3869, -1.1288],\n",
       "                [-0.0901, -0.6869, -1.0016]],\n",
       "       \n",
       "               [[ 1.6354, -0.3869, -1.1288],\n",
       "                [-0.0901, -0.6869, -1.0016]],\n",
       "       \n",
       "               [[ 1.6354, -0.3869, -1.1288],\n",
       "                [-0.0901, -0.6869, -1.0016]],\n",
       "       \n",
       "               [[ 1.6354, -0.3869, -1.1288],\n",
       "                [-0.0901, -0.6869, -1.0016]],\n",
       "       \n",
       "               [[ 1.6354, -0.3869, -1.1288],\n",
       "                [-0.0901, -0.6869, -1.0016]],\n",
       "       \n",
       "               [[ 1.6354, -0.3869, -1.1288],\n",
       "                [-0.0901, -0.6869, -1.0016]],\n",
       "       \n",
       "               [[ 1.6354, -0.3869, -1.1288],\n",
       "                [-0.0901, -0.6869, -1.0016]]]),\n",
       "    x: Batch(\n",
       "           c: tensor([[[-1.7645,  0.9949,  1.4610,  0.6240],\n",
       "                       [-0.4780, -0.7030, -2.7138, -1.9123],\n",
       "                       [-1.0011, -1.5927, -1.3506, -1.1088]],\n",
       "              \n",
       "                      [[-1.7645,  0.9949,  1.4610,  0.6240],\n",
       "                       [-0.4780, -0.7030, -2.7138, -1.9123],\n",
       "                       [-1.0011, -1.5927, -1.3506, -1.1088]],\n",
       "              \n",
       "                      [[-1.7645,  0.9949,  1.4610,  0.6240],\n",
       "                       [-0.4780, -0.7030, -2.7138, -1.9123],\n",
       "                       [-1.0011, -1.5927, -1.3506, -1.1088]],\n",
       "              \n",
       "                      [[-1.7645,  0.9949,  1.4610,  0.6240],\n",
       "                       [-0.4780, -0.7030, -2.7138, -1.9123],\n",
       "                       [-1.0011, -1.5927, -1.3506, -1.1088]],\n",
       "              \n",
       "                      [[-1.7645,  0.9949,  1.4610,  0.6240],\n",
       "                       [-0.4780, -0.7030, -2.7138, -1.9123],\n",
       "                       [-1.0011, -1.5927, -1.3506, -1.1088]],\n",
       "              \n",
       "                      [[-1.7645,  0.9949,  1.4610,  0.6240],\n",
       "                       [-0.4780, -0.7030, -2.7138, -1.9123],\n",
       "                       [-1.0011, -1.5927, -1.3506, -1.1088]],\n",
       "              \n",
       "                      [[-1.7645,  0.9949,  1.4610,  0.6240],\n",
       "                       [-0.4780, -0.7030, -2.7138, -1.9123],\n",
       "                       [-1.0011, -1.5927, -1.3506, -1.1088]],\n",
       "              \n",
       "                      [[-1.7645,  0.9949,  1.4610,  0.6240],\n",
       "                       [-0.4780, -0.7030, -2.7138, -1.9123],\n",
       "                       [-1.0011, -1.5927, -1.3506, -1.1088]]]),\n",
       "       ),\n",
       ")"
      ]
     },
     "execution_count": 25,
     "metadata": {},
     "output_type": "execute_result"
    }
   ],
   "source": [
    "batches = [Batch(**_TREE_DATA_2) for _ in range(8)]\n",
    "\n",
    "Batch.stack(batches)"
   ]
  },
  {
   "cell_type": "code",
   "execution_count": 26,
   "id": "ec9037a3",
   "metadata": {
    "execution": {
     "iopub.execute_input": "2023-04-16T15:14:24.444286Z",
     "iopub.status.busy": "2023-04-16T15:14:24.443851Z",
     "iopub.status.idle": "2023-04-16T15:14:30.838143Z",
     "shell.execute_reply": "2023-04-16T15:14:30.837410Z"
    }
   },
   "outputs": [
    {
     "name": "stdout",
     "output_type": "stream",
     "text": [
      "78.7 µs ± 218 ns per loop (mean ± std. dev. of 7 runs, 10,000 loops each)\n"
     ]
    }
   ],
   "source": [
    "%timeit Batch.stack(batches)"
   ]
  },
  {
   "cell_type": "code",
   "execution_count": 27,
   "id": "cb8ab77e",
   "metadata": {
    "execution": {
     "iopub.execute_input": "2023-04-16T15:14:30.841758Z",
     "iopub.status.busy": "2023-04-16T15:14:30.841042Z",
     "iopub.status.idle": "2023-04-16T15:14:30.848818Z",
     "shell.execute_reply": "2023-04-16T15:14:30.848121Z"
    }
   },
   "outputs": [
    {
     "data": {
      "text/plain": [
       "Batch(\n",
       "    a: tensor([[ 1.6354, -0.3869, -1.1288],\n",
       "               [-0.0901, -0.6869, -1.0016],\n",
       "               [ 1.6354, -0.3869, -1.1288],\n",
       "               [-0.0901, -0.6869, -1.0016],\n",
       "               [ 1.6354, -0.3869, -1.1288],\n",
       "               [-0.0901, -0.6869, -1.0016],\n",
       "               [ 1.6354, -0.3869, -1.1288],\n",
       "               [-0.0901, -0.6869, -1.0016],\n",
       "               [ 1.6354, -0.3869, -1.1288],\n",
       "               [-0.0901, -0.6869, -1.0016],\n",
       "               [ 1.6354, -0.3869, -1.1288],\n",
       "               [-0.0901, -0.6869, -1.0016],\n",
       "               [ 1.6354, -0.3869, -1.1288],\n",
       "               [-0.0901, -0.6869, -1.0016],\n",
       "               [ 1.6354, -0.3869, -1.1288],\n",
       "               [-0.0901, -0.6869, -1.0016]]),\n",
       "    x: Batch(\n",
       "           c: tensor([[-1.7645,  0.9949,  1.4610,  0.6240],\n",
       "                      [-0.4780, -0.7030, -2.7138, -1.9123],\n",
       "                      [-1.0011, -1.5927, -1.3506, -1.1088],\n",
       "                      [-1.7645,  0.9949,  1.4610,  0.6240],\n",
       "                      [-0.4780, -0.7030, -2.7138, -1.9123],\n",
       "                      [-1.0011, -1.5927, -1.3506, -1.1088],\n",
       "                      [-1.7645,  0.9949,  1.4610,  0.6240],\n",
       "                      [-0.4780, -0.7030, -2.7138, -1.9123],\n",
       "                      [-1.0011, -1.5927, -1.3506, -1.1088],\n",
       "                      [-1.7645,  0.9949,  1.4610,  0.6240],\n",
       "                      [-0.4780, -0.7030, -2.7138, -1.9123],\n",
       "                      [-1.0011, -1.5927, -1.3506, -1.1088],\n",
       "                      [-1.7645,  0.9949,  1.4610,  0.6240],\n",
       "                      [-0.4780, -0.7030, -2.7138, -1.9123],\n",
       "                      [-1.0011, -1.5927, -1.3506, -1.1088],\n",
       "                      [-1.7645,  0.9949,  1.4610,  0.6240],\n",
       "                      [-0.4780, -0.7030, -2.7138, -1.9123],\n",
       "                      [-1.0011, -1.5927, -1.3506, -1.1088],\n",
       "                      [-1.7645,  0.9949,  1.4610,  0.6240],\n",
       "                      [-0.4780, -0.7030, -2.7138, -1.9123],\n",
       "                      [-1.0011, -1.5927, -1.3506, -1.1088],\n",
       "                      [-1.7645,  0.9949,  1.4610,  0.6240],\n",
       "                      [-0.4780, -0.7030, -2.7138, -1.9123],\n",
       "                      [-1.0011, -1.5927, -1.3506, -1.1088]]),\n",
       "       ),\n",
       ")"
      ]
     },
     "execution_count": 27,
     "metadata": {},
     "output_type": "execute_result"
    }
   ],
   "source": [
    "Batch.cat(batches)"
   ]
  },
  {
   "cell_type": "code",
   "execution_count": 28,
   "id": "18dfb045",
   "metadata": {
    "execution": {
     "iopub.execute_input": "2023-04-16T15:14:30.851753Z",
     "iopub.status.busy": "2023-04-16T15:14:30.851381Z",
     "iopub.status.idle": "2023-04-16T15:14:42.993433Z",
     "shell.execute_reply": "2023-04-16T15:14:42.992685Z"
    }
   },
   "outputs": [
    {
     "name": "stdout",
     "output_type": "stream",
     "text": [
      "149 µs ± 280 ns per loop (mean ± std. dev. of 7 runs, 10,000 loops each)\n"
     ]
    }
   ],
   "source": [
    "%timeit Batch.cat(batches)"
   ]
  },
  {
   "cell_type": "code",
   "execution_count": 29,
   "id": "c6688e51",
   "metadata": {
    "execution": {
     "iopub.execute_input": "2023-04-16T15:14:42.997233Z",
     "iopub.status.busy": "2023-04-16T15:14:42.996800Z",
     "iopub.status.idle": "2023-04-16T15:14:45.723432Z",
     "shell.execute_reply": "2023-04-16T15:14:45.722781Z"
    }
   },
   "outputs": [
    {
     "name": "stdout",
     "output_type": "stream",
     "text": [
      "335 µs ± 989 ns per loop (mean ± std. dev. of 7 runs, 1,000 loops each)\n"
     ]
    }
   ],
   "source": [
    "batch = Batch({\n",
    "    'obs': torch.randn(8, 4, 84, 84),\n",
    "    'action': torch.randint(0, 6, size=(8, 1,)),\n",
    "    'reward': torch.rand(8, 1)}\n",
    ")\n",
    "\n",
    "%timeit list(Batch.split(batch, 1, shuffle=False, merge_last=True))"
   ]
  },
  {
   "cell_type": "code",
   "execution_count": null,
   "id": "2539fbd9",
   "metadata": {},
   "outputs": [],
   "source": []
  }
 ],
 "metadata": {
  "kernelspec": {
   "display_name": "Python 3 (ipykernel)",
   "language": "python",
   "name": "python3"
  },
  "language_info": {
   "codemirror_mode": {
    "name": "ipython",
    "version": 3
   },
   "file_extension": ".py",
   "mimetype": "text/x-python",
   "name": "python",
   "nbconvert_exporter": "python",
   "pygments_lexer": "ipython3",
   "version": "3.8.16"
  }
 },
 "nbformat": 4,
 "nbformat_minor": 5
}
