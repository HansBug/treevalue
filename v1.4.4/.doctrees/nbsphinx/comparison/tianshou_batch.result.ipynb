{
 "cells": [
  {
   "cell_type": "markdown",
   "id": "9d39d946",
   "metadata": {},
   "source": [
    "# Comparison Between TreeValue and Tianshou Batch"
   ]
  },
  {
   "cell_type": "markdown",
   "id": "3c6db2d4",
   "metadata": {},
   "source": [
    "In this section, we will take a look at the feature and performance of the [Tianshou Batch](https://github.com/thu-ml/tianshou) library, which is developed by Tsinghua Machine Learning Group."
   ]
  },
  {
   "cell_type": "markdown",
   "id": "069361b0",
   "metadata": {},
   "source": [
    "Before starting the comparison, let us define some thing."
   ]
  },
  {
   "cell_type": "code",
   "execution_count": 1,
   "id": "06fc8d26",
   "metadata": {
    "execution": {
     "iopub.execute_input": "2023-08-10T12:26:57.752189Z",
     "iopub.status.busy": "2023-08-10T12:26:57.751827Z",
     "iopub.status.idle": "2023-08-10T12:26:59.817638Z",
     "shell.execute_reply": "2023-08-10T12:26:59.816364Z"
    }
   },
   "outputs": [],
   "source": [
    "import torch \n",
    "\n",
    "_TREE_DATA_1 = {'a': 1, 'b': 2, 'x': {'c': 3, 'd': 4}}\n",
    "_TREE_DATA_2 = {\n",
    "    'a': torch.randn(2, 3), \n",
    "    'x': {\n",
    "        'c': torch.randn(3, 4)\n",
    "    },\n",
    "}\n",
    "_TREE_DATA_3 = {\n",
    "    'obs': torch.randn(4, 84, 84),\n",
    "    'action': torch.randint(0, 6, size=(1,)),\n",
    "    'reward': torch.rand(1),\n",
    "}"
   ]
  },
  {
   "cell_type": "markdown",
   "id": "83461b25",
   "metadata": {},
   "source": [
    "## Read and Write Operation"
   ]
  },
  {
   "cell_type": "markdown",
   "id": "067b3f73",
   "metadata": {},
   "source": [
    "Reading and writing are the two most common operations in the tree data structure based on the data model (TreeValue and Tianshou Batch both belong to this type), so this section will compare the reading and writing performance of these two libraries."
   ]
  },
  {
   "cell_type": "markdown",
   "id": "5d09a5b7",
   "metadata": {},
   "source": [
    "### TreeValue's Get and Set"
   ]
  },
  {
   "cell_type": "code",
   "execution_count": 2,
   "id": "9519c4bb",
   "metadata": {
    "execution": {
     "iopub.execute_input": "2023-08-10T12:26:59.823614Z",
     "iopub.status.busy": "2023-08-10T12:26:59.822760Z",
     "iopub.status.idle": "2023-08-10T12:26:59.866573Z",
     "shell.execute_reply": "2023-08-10T12:26:59.865432Z"
    }
   },
   "outputs": [],
   "source": [
    "from treevalue import FastTreeValue\n",
    "\n",
    "t = FastTreeValue(_TREE_DATA_2)"
   ]
  },
  {
   "cell_type": "code",
   "execution_count": 3,
   "id": "11c37677",
   "metadata": {
    "execution": {
     "iopub.execute_input": "2023-08-10T12:26:59.871418Z",
     "iopub.status.busy": "2023-08-10T12:26:59.871035Z",
     "iopub.status.idle": "2023-08-10T12:26:59.884282Z",
     "shell.execute_reply": "2023-08-10T12:26:59.883164Z"
    }
   },
   "outputs": [
    {
     "data": {
      "text/plain": [
       "<FastTreeValue 0x7f33cf192e80>\n",
       "├── 'a' --> tensor([[-1.7619, -0.3400, -0.7624],\n",
       "│                   [ 0.5088,  1.0374, -0.0132]])\n",
       "└── 'x' --> <FastTreeValue 0x7f33cf1175e0>\n",
       "    └── 'c' --> tensor([[ 0.9887,  0.9275,  1.0844,  1.7493],\n",
       "                        [ 0.2160, -0.1190, -0.5881,  1.6509],\n",
       "                        [-1.3378, -0.1905, -0.3306, -0.6152]])"
      ]
     },
     "execution_count": 3,
     "metadata": {},
     "output_type": "execute_result"
    }
   ],
   "source": [
    "t"
   ]
  },
  {
   "cell_type": "code",
   "execution_count": 4,
   "id": "fd70b0b9",
   "metadata": {
    "execution": {
     "iopub.execute_input": "2023-08-10T12:26:59.890332Z",
     "iopub.status.busy": "2023-08-10T12:26:59.889636Z",
     "iopub.status.idle": "2023-08-10T12:26:59.899537Z",
     "shell.execute_reply": "2023-08-10T12:26:59.898441Z"
    }
   },
   "outputs": [
    {
     "data": {
      "text/plain": [
       "tensor([[-1.7619, -0.3400, -0.7624],\n",
       "        [ 0.5088,  1.0374, -0.0132]])"
      ]
     },
     "execution_count": 4,
     "metadata": {},
     "output_type": "execute_result"
    }
   ],
   "source": [
    "t.a"
   ]
  },
  {
   "cell_type": "code",
   "execution_count": 5,
   "id": "c18197bd",
   "metadata": {
    "execution": {
     "iopub.execute_input": "2023-08-10T12:26:59.904507Z",
     "iopub.status.busy": "2023-08-10T12:26:59.904109Z",
     "iopub.status.idle": "2023-08-10T12:27:05.983613Z",
     "shell.execute_reply": "2023-08-10T12:27:05.982535Z"
    }
   },
   "outputs": [
    {
     "name": "stdout",
     "output_type": "stream",
     "text": [
      "74.9 ns ± 0.76 ns per loop (mean ± std. dev. of 7 runs, 10,000,000 loops each)\n"
     ]
    }
   ],
   "source": [
    "%timeit t.a"
   ]
  },
  {
   "cell_type": "code",
   "execution_count": 6,
   "id": "bd52f867",
   "metadata": {
    "execution": {
     "iopub.execute_input": "2023-08-10T12:27:05.988412Z",
     "iopub.status.busy": "2023-08-10T12:27:05.987719Z",
     "iopub.status.idle": "2023-08-10T12:27:05.996772Z",
     "shell.execute_reply": "2023-08-10T12:27:05.995637Z"
    }
   },
   "outputs": [
    {
     "data": {
      "text/plain": [
       "<FastTreeValue 0x7f33cf192e80>\n",
       "├── 'a' --> tensor([[-2.3170, -1.5246,  0.8002],\n",
       "│                   [-0.9990,  0.1658,  1.1647]])\n",
       "└── 'x' --> <FastTreeValue 0x7f33cf1175e0>\n",
       "    └── 'c' --> tensor([[ 0.9887,  0.9275,  1.0844,  1.7493],\n",
       "                        [ 0.2160, -0.1190, -0.5881,  1.6509],\n",
       "                        [-1.3378, -0.1905, -0.3306, -0.6152]])"
      ]
     },
     "execution_count": 6,
     "metadata": {},
     "output_type": "execute_result"
    }
   ],
   "source": [
    "new_value = torch.randn(2, 3)\n",
    "t.a = new_value\n",
    "\n",
    "t"
   ]
  },
  {
   "cell_type": "code",
   "execution_count": 7,
   "id": "bbe04d1c",
   "metadata": {
    "execution": {
     "iopub.execute_input": "2023-08-10T12:27:06.001618Z",
     "iopub.status.busy": "2023-08-10T12:27:06.001023Z",
     "iopub.status.idle": "2023-08-10T12:27:12.732559Z",
     "shell.execute_reply": "2023-08-10T12:27:12.730965Z"
    }
   },
   "outputs": [
    {
     "name": "stdout",
     "output_type": "stream",
     "text": [
      "82.8 ns ± 1.07 ns per loop (mean ± std. dev. of 7 runs, 10,000,000 loops each)\n"
     ]
    }
   ],
   "source": [
    "%timeit t.a = new_value"
   ]
  },
  {
   "cell_type": "markdown",
   "id": "48c49731",
   "metadata": {},
   "source": [
    "### Tianshou Batch's Get and Set"
   ]
  },
  {
   "cell_type": "code",
   "execution_count": 8,
   "id": "f1bb14c1",
   "metadata": {
    "execution": {
     "iopub.execute_input": "2023-08-10T12:27:12.738395Z",
     "iopub.status.busy": "2023-08-10T12:27:12.737738Z",
     "iopub.status.idle": "2023-08-10T12:27:13.316286Z",
     "shell.execute_reply": "2023-08-10T12:27:13.315125Z"
    }
   },
   "outputs": [],
   "source": [
    "from tianshou.data import Batch\n",
    "\n",
    "b = Batch(**_TREE_DATA_2)"
   ]
  },
  {
   "cell_type": "code",
   "execution_count": 9,
   "id": "cb0777c3",
   "metadata": {
    "execution": {
     "iopub.execute_input": "2023-08-10T12:27:13.322170Z",
     "iopub.status.busy": "2023-08-10T12:27:13.321630Z",
     "iopub.status.idle": "2023-08-10T12:27:13.330322Z",
     "shell.execute_reply": "2023-08-10T12:27:13.329257Z"
    }
   },
   "outputs": [
    {
     "data": {
      "text/plain": [
       "Batch(\n",
       "    a: tensor([[-1.7619, -0.3400, -0.7624],\n",
       "               [ 0.5088,  1.0374, -0.0132]]),\n",
       "    x: Batch(\n",
       "           c: tensor([[ 0.9887,  0.9275,  1.0844,  1.7493],\n",
       "                      [ 0.2160, -0.1190, -0.5881,  1.6509],\n",
       "                      [-1.3378, -0.1905, -0.3306, -0.6152]]),\n",
       "       ),\n",
       ")"
      ]
     },
     "execution_count": 9,
     "metadata": {},
     "output_type": "execute_result"
    }
   ],
   "source": [
    "b"
   ]
  },
  {
   "cell_type": "code",
   "execution_count": 10,
   "id": "43ef8ea3",
   "metadata": {
    "execution": {
     "iopub.execute_input": "2023-08-10T12:27:13.335290Z",
     "iopub.status.busy": "2023-08-10T12:27:13.334666Z",
     "iopub.status.idle": "2023-08-10T12:27:13.343334Z",
     "shell.execute_reply": "2023-08-10T12:27:13.342227Z"
    }
   },
   "outputs": [
    {
     "data": {
      "text/plain": [
       "tensor([[-1.7619, -0.3400, -0.7624],\n",
       "        [ 0.5088,  1.0374, -0.0132]])"
      ]
     },
     "execution_count": 10,
     "metadata": {},
     "output_type": "execute_result"
    }
   ],
   "source": [
    "b.a"
   ]
  },
  {
   "cell_type": "code",
   "execution_count": 11,
   "id": "b785ab72",
   "metadata": {
    "execution": {
     "iopub.execute_input": "2023-08-10T12:27:13.349195Z",
     "iopub.status.busy": "2023-08-10T12:27:13.348366Z",
     "iopub.status.idle": "2023-08-10T12:27:19.335596Z",
     "shell.execute_reply": "2023-08-10T12:27:19.334498Z"
    }
   },
   "outputs": [
    {
     "name": "stdout",
     "output_type": "stream",
     "text": [
      "73.7 ns ± 0.657 ns per loop (mean ± std. dev. of 7 runs, 10,000,000 loops each)\n"
     ]
    }
   ],
   "source": [
    "%timeit b.a"
   ]
  },
  {
   "cell_type": "code",
   "execution_count": 12,
   "id": "ad54dc69",
   "metadata": {
    "execution": {
     "iopub.execute_input": "2023-08-10T12:27:19.341461Z",
     "iopub.status.busy": "2023-08-10T12:27:19.340778Z",
     "iopub.status.idle": "2023-08-10T12:27:19.350571Z",
     "shell.execute_reply": "2023-08-10T12:27:19.349222Z"
    }
   },
   "outputs": [
    {
     "data": {
      "text/plain": [
       "Batch(\n",
       "    a: tensor([[-2.0152,  0.9930, -0.1962],\n",
       "               [-1.3518,  0.1361, -1.1091]]),\n",
       "    x: Batch(\n",
       "           c: tensor([[ 0.9887,  0.9275,  1.0844,  1.7493],\n",
       "                      [ 0.2160, -0.1190, -0.5881,  1.6509],\n",
       "                      [-1.3378, -0.1905, -0.3306, -0.6152]]),\n",
       "       ),\n",
       ")"
      ]
     },
     "execution_count": 12,
     "metadata": {},
     "output_type": "execute_result"
    }
   ],
   "source": [
    "new_value = torch.randn(2, 3)\n",
    "b.a = new_value\n",
    "\n",
    "b"
   ]
  },
  {
   "cell_type": "code",
   "execution_count": 13,
   "id": "29b1d0bf",
   "metadata": {
    "execution": {
     "iopub.execute_input": "2023-08-10T12:27:19.355405Z",
     "iopub.status.busy": "2023-08-10T12:27:19.355018Z",
     "iopub.status.idle": "2023-08-10T12:27:24.776366Z",
     "shell.execute_reply": "2023-08-10T12:27:24.775124Z"
    }
   },
   "outputs": [
    {
     "name": "stdout",
     "output_type": "stream",
     "text": [
      "668 ns ± 9.08 ns per loop (mean ± std. dev. of 7 runs, 1,000,000 loops each)\n"
     ]
    }
   ],
   "source": [
    "%timeit b.a = new_value"
   ]
  },
  {
   "cell_type": "markdown",
   "id": "b61ad1d0",
   "metadata": {},
   "source": [
    "## Initialization"
   ]
  },
  {
   "cell_type": "markdown",
   "id": "d70f0d54",
   "metadata": {},
   "source": [
    "### TreeValue's Initialization"
   ]
  },
  {
   "cell_type": "code",
   "execution_count": 14,
   "id": "d32a679b",
   "metadata": {
    "execution": {
     "iopub.execute_input": "2023-08-10T12:27:24.782060Z",
     "iopub.status.busy": "2023-08-10T12:27:24.781153Z",
     "iopub.status.idle": "2023-08-10T12:27:33.615636Z",
     "shell.execute_reply": "2023-08-10T12:27:33.614595Z"
    }
   },
   "outputs": [
    {
     "name": "stdout",
     "output_type": "stream",
     "text": [
      "1.09 µs ± 15.6 ns per loop (mean ± std. dev. of 7 runs, 1,000,000 loops each)\n"
     ]
    }
   ],
   "source": [
    "%timeit FastTreeValue(_TREE_DATA_1)"
   ]
  },
  {
   "cell_type": "markdown",
   "id": "24f3707b",
   "metadata": {},
   "source": [
    "### Tianshou Batch's Initialization"
   ]
  },
  {
   "cell_type": "code",
   "execution_count": 15,
   "id": "ac3958df",
   "metadata": {
    "execution": {
     "iopub.execute_input": "2023-08-10T12:27:33.621175Z",
     "iopub.status.busy": "2023-08-10T12:27:33.619218Z",
     "iopub.status.idle": "2023-08-10T12:27:46.436920Z",
     "shell.execute_reply": "2023-08-10T12:27:46.430047Z"
    }
   },
   "outputs": [
    {
     "name": "stdout",
     "output_type": "stream",
     "text": [
      "15.7 µs ± 156 ns per loop (mean ± std. dev. of 7 runs, 100,000 loops each)\n"
     ]
    }
   ],
   "source": [
    "%timeit Batch(**_TREE_DATA_1)"
   ]
  },
  {
   "cell_type": "markdown",
   "id": "1ab82e2d",
   "metadata": {},
   "source": [
    "## Deep Copy Operation"
   ]
  },
  {
   "cell_type": "code",
   "execution_count": 16,
   "id": "210a9442",
   "metadata": {
    "execution": {
     "iopub.execute_input": "2023-08-10T12:27:46.445894Z",
     "iopub.status.busy": "2023-08-10T12:27:46.445203Z",
     "iopub.status.idle": "2023-08-10T12:27:46.452559Z",
     "shell.execute_reply": "2023-08-10T12:27:46.450812Z"
    }
   },
   "outputs": [],
   "source": [
    "import copy"
   ]
  },
  {
   "cell_type": "markdown",
   "id": "5a736274",
   "metadata": {},
   "source": [
    "### Deep Copy of TreeValue"
   ]
  },
  {
   "cell_type": "code",
   "execution_count": 17,
   "id": "f9bcadd6",
   "metadata": {
    "execution": {
     "iopub.execute_input": "2023-08-10T12:27:46.461816Z",
     "iopub.status.busy": "2023-08-10T12:27:46.461104Z",
     "iopub.status.idle": "2023-08-10T12:27:49.071624Z",
     "shell.execute_reply": "2023-08-10T12:27:49.070600Z"
    }
   },
   "outputs": [
    {
     "name": "stdout",
     "output_type": "stream",
     "text": [
      "319 µs ± 28.6 µs per loop (mean ± std. dev. of 7 runs, 1,000 loops each)\n"
     ]
    }
   ],
   "source": [
    "t3 = FastTreeValue(_TREE_DATA_3)\n",
    "%timeit copy.deepcopy(t3)"
   ]
  },
  {
   "cell_type": "markdown",
   "id": "bf8be7ea",
   "metadata": {},
   "source": [
    "### Deep Copy of Tianshou Batch"
   ]
  },
  {
   "cell_type": "code",
   "execution_count": 18,
   "id": "91998e6f",
   "metadata": {
    "execution": {
     "iopub.execute_input": "2023-08-10T12:27:49.075985Z",
     "iopub.status.busy": "2023-08-10T12:27:49.075447Z",
     "iopub.status.idle": "2023-08-10T12:27:51.552090Z",
     "shell.execute_reply": "2023-08-10T12:27:51.550944Z"
    }
   },
   "outputs": [
    {
     "name": "stdout",
     "output_type": "stream",
     "text": [
      "308 µs ± 28.6 µs per loop (mean ± std. dev. of 7 runs, 1,000 loops each)\n"
     ]
    }
   ],
   "source": [
    "b3 = Batch(**_TREE_DATA_3)\n",
    "%timeit copy.deepcopy(b3)"
   ]
  },
  {
   "cell_type": "markdown",
   "id": "223162fb",
   "metadata": {},
   "source": [
    "## Stack, Concat and Split Operation"
   ]
  },
  {
   "cell_type": "markdown",
   "id": "85fa4a73",
   "metadata": {},
   "source": [
    "### Performance of TreeValue"
   ]
  },
  {
   "cell_type": "code",
   "execution_count": 19,
   "id": "a0c2b697",
   "metadata": {
    "execution": {
     "iopub.execute_input": "2023-08-10T12:27:51.557833Z",
     "iopub.status.busy": "2023-08-10T12:27:51.556941Z",
     "iopub.status.idle": "2023-08-10T12:27:51.564726Z",
     "shell.execute_reply": "2023-08-10T12:27:51.563510Z"
    }
   },
   "outputs": [],
   "source": [
    "trees = [FastTreeValue(_TREE_DATA_2) for _ in range(8)]"
   ]
  },
  {
   "cell_type": "code",
   "execution_count": 20,
   "id": "017ea5a5",
   "metadata": {
    "execution": {
     "iopub.execute_input": "2023-08-10T12:27:51.570267Z",
     "iopub.status.busy": "2023-08-10T12:27:51.569871Z",
     "iopub.status.idle": "2023-08-10T12:27:51.581391Z",
     "shell.execute_reply": "2023-08-10T12:27:51.580263Z"
    }
   },
   "outputs": [
    {
     "data": {
      "text/plain": [
       "<FastTreeValue 0x7f32ff311400>\n",
       "├── 'a' --> tensor([[[-1.7619, -0.3400, -0.7624],\n",
       "│                    [ 0.5088,  1.0374, -0.0132]],\n",
       "│           \n",
       "│                   [[-1.7619, -0.3400, -0.7624],\n",
       "│                    [ 0.5088,  1.0374, -0.0132]],\n",
       "│           \n",
       "│                   [[-1.7619, -0.3400, -0.7624],\n",
       "│                    [ 0.5088,  1.0374, -0.0132]],\n",
       "│           \n",
       "│                   [[-1.7619, -0.3400, -0.7624],\n",
       "│                    [ 0.5088,  1.0374, -0.0132]],\n",
       "│           \n",
       "│                   [[-1.7619, -0.3400, -0.7624],\n",
       "│                    [ 0.5088,  1.0374, -0.0132]],\n",
       "│           \n",
       "│                   [[-1.7619, -0.3400, -0.7624],\n",
       "│                    [ 0.5088,  1.0374, -0.0132]],\n",
       "│           \n",
       "│                   [[-1.7619, -0.3400, -0.7624],\n",
       "│                    [ 0.5088,  1.0374, -0.0132]],\n",
       "│           \n",
       "│                   [[-1.7619, -0.3400, -0.7624],\n",
       "│                    [ 0.5088,  1.0374, -0.0132]]])\n",
       "└── 'x' --> <FastTreeValue 0x7f32ff3114c0>\n",
       "    └── 'c' --> tensor([[[ 0.9887,  0.9275,  1.0844,  1.7493],\n",
       "                         [ 0.2160, -0.1190, -0.5881,  1.6509],\n",
       "                         [-1.3378, -0.1905, -0.3306, -0.6152]],\n",
       "                \n",
       "                        [[ 0.9887,  0.9275,  1.0844,  1.7493],\n",
       "                         [ 0.2160, -0.1190, -0.5881,  1.6509],\n",
       "                         [-1.3378, -0.1905, -0.3306, -0.6152]],\n",
       "                \n",
       "                        [[ 0.9887,  0.9275,  1.0844,  1.7493],\n",
       "                         [ 0.2160, -0.1190, -0.5881,  1.6509],\n",
       "                         [-1.3378, -0.1905, -0.3306, -0.6152]],\n",
       "                \n",
       "                        [[ 0.9887,  0.9275,  1.0844,  1.7493],\n",
       "                         [ 0.2160, -0.1190, -0.5881,  1.6509],\n",
       "                         [-1.3378, -0.1905, -0.3306, -0.6152]],\n",
       "                \n",
       "                        [[ 0.9887,  0.9275,  1.0844,  1.7493],\n",
       "                         [ 0.2160, -0.1190, -0.5881,  1.6509],\n",
       "                         [-1.3378, -0.1905, -0.3306, -0.6152]],\n",
       "                \n",
       "                        [[ 0.9887,  0.9275,  1.0844,  1.7493],\n",
       "                         [ 0.2160, -0.1190, -0.5881,  1.6509],\n",
       "                         [-1.3378, -0.1905, -0.3306, -0.6152]],\n",
       "                \n",
       "                        [[ 0.9887,  0.9275,  1.0844,  1.7493],\n",
       "                         [ 0.2160, -0.1190, -0.5881,  1.6509],\n",
       "                         [-1.3378, -0.1905, -0.3306, -0.6152]],\n",
       "                \n",
       "                        [[ 0.9887,  0.9275,  1.0844,  1.7493],\n",
       "                         [ 0.2160, -0.1190, -0.5881,  1.6509],\n",
       "                         [-1.3378, -0.1905, -0.3306, -0.6152]]])"
      ]
     },
     "execution_count": 20,
     "metadata": {},
     "output_type": "execute_result"
    }
   ],
   "source": [
    "t_stack = FastTreeValue.func(subside=True)(torch.stack)\n",
    "\n",
    "t_stack(trees)"
   ]
  },
  {
   "cell_type": "code",
   "execution_count": 21,
   "id": "f8b3f415",
   "metadata": {
    "execution": {
     "iopub.execute_input": "2023-08-10T12:27:51.586118Z",
     "iopub.status.busy": "2023-08-10T12:27:51.585530Z",
     "iopub.status.idle": "2023-08-10T12:27:55.747346Z",
     "shell.execute_reply": "2023-08-10T12:27:55.746307Z"
    }
   },
   "outputs": [
    {
     "name": "stdout",
     "output_type": "stream",
     "text": [
      "51.1 µs ± 568 ns per loop (mean ± std. dev. of 7 runs, 10,000 loops each)\n"
     ]
    }
   ],
   "source": [
    "%timeit t_stack(trees)"
   ]
  },
  {
   "cell_type": "code",
   "execution_count": 22,
   "id": "94b56771",
   "metadata": {
    "execution": {
     "iopub.execute_input": "2023-08-10T12:27:55.752078Z",
     "iopub.status.busy": "2023-08-10T12:27:55.751210Z",
     "iopub.status.idle": "2023-08-10T12:27:55.761924Z",
     "shell.execute_reply": "2023-08-10T12:27:55.760864Z"
    }
   },
   "outputs": [
    {
     "data": {
      "text/plain": [
       "<FastTreeValue 0x7f32ff328ca0>\n",
       "├── 'a' --> tensor([[-1.7619, -0.3400, -0.7624],\n",
       "│                   [ 0.5088,  1.0374, -0.0132],\n",
       "│                   [-1.7619, -0.3400, -0.7624],\n",
       "│                   [ 0.5088,  1.0374, -0.0132],\n",
       "│                   [-1.7619, -0.3400, -0.7624],\n",
       "│                   [ 0.5088,  1.0374, -0.0132],\n",
       "│                   [-1.7619, -0.3400, -0.7624],\n",
       "│                   [ 0.5088,  1.0374, -0.0132],\n",
       "│                   [-1.7619, -0.3400, -0.7624],\n",
       "│                   [ 0.5088,  1.0374, -0.0132],\n",
       "│                   [-1.7619, -0.3400, -0.7624],\n",
       "│                   [ 0.5088,  1.0374, -0.0132],\n",
       "│                   [-1.7619, -0.3400, -0.7624],\n",
       "│                   [ 0.5088,  1.0374, -0.0132],\n",
       "│                   [-1.7619, -0.3400, -0.7624],\n",
       "│                   [ 0.5088,  1.0374, -0.0132]])\n",
       "└── 'x' --> <FastTreeValue 0x7f32ff328dc0>\n",
       "    └── 'c' --> tensor([[ 0.9887,  0.9275,  1.0844,  1.7493],\n",
       "                        [ 0.2160, -0.1190, -0.5881,  1.6509],\n",
       "                        [-1.3378, -0.1905, -0.3306, -0.6152],\n",
       "                        [ 0.9887,  0.9275,  1.0844,  1.7493],\n",
       "                        [ 0.2160, -0.1190, -0.5881,  1.6509],\n",
       "                        [-1.3378, -0.1905, -0.3306, -0.6152],\n",
       "                        [ 0.9887,  0.9275,  1.0844,  1.7493],\n",
       "                        [ 0.2160, -0.1190, -0.5881,  1.6509],\n",
       "                        [-1.3378, -0.1905, -0.3306, -0.6152],\n",
       "                        [ 0.9887,  0.9275,  1.0844,  1.7493],\n",
       "                        [ 0.2160, -0.1190, -0.5881,  1.6509],\n",
       "                        [-1.3378, -0.1905, -0.3306, -0.6152],\n",
       "                        [ 0.9887,  0.9275,  1.0844,  1.7493],\n",
       "                        [ 0.2160, -0.1190, -0.5881,  1.6509],\n",
       "                        [-1.3378, -0.1905, -0.3306, -0.6152],\n",
       "                        [ 0.9887,  0.9275,  1.0844,  1.7493],\n",
       "                        [ 0.2160, -0.1190, -0.5881,  1.6509],\n",
       "                        [-1.3378, -0.1905, -0.3306, -0.6152],\n",
       "                        [ 0.9887,  0.9275,  1.0844,  1.7493],\n",
       "                        [ 0.2160, -0.1190, -0.5881,  1.6509],\n",
       "                        [-1.3378, -0.1905, -0.3306, -0.6152],\n",
       "                        [ 0.9887,  0.9275,  1.0844,  1.7493],\n",
       "                        [ 0.2160, -0.1190, -0.5881,  1.6509],\n",
       "                        [-1.3378, -0.1905, -0.3306, -0.6152]])"
      ]
     },
     "execution_count": 22,
     "metadata": {},
     "output_type": "execute_result"
    }
   ],
   "source": [
    "t_cat = FastTreeValue.func(subside=True)(torch.cat)\n",
    "\n",
    "t_cat(trees)"
   ]
  },
  {
   "cell_type": "code",
   "execution_count": 23,
   "id": "5e9c06a6",
   "metadata": {
    "execution": {
     "iopub.execute_input": "2023-08-10T12:27:55.767304Z",
     "iopub.status.busy": "2023-08-10T12:27:55.766609Z",
     "iopub.status.idle": "2023-08-10T12:27:59.676939Z",
     "shell.execute_reply": "2023-08-10T12:27:59.675924Z"
    }
   },
   "outputs": [
    {
     "name": "stdout",
     "output_type": "stream",
     "text": [
      "48.3 µs ± 3.25 µs per loop (mean ± std. dev. of 7 runs, 10,000 loops each)\n"
     ]
    }
   ],
   "source": [
    "%timeit t_cat(trees)"
   ]
  },
  {
   "cell_type": "code",
   "execution_count": 24,
   "id": "a3ab5c8f",
   "metadata": {
    "execution": {
     "iopub.execute_input": "2023-08-10T12:27:59.682226Z",
     "iopub.status.busy": "2023-08-10T12:27:59.681594Z",
     "iopub.status.idle": "2023-08-10T12:28:07.831806Z",
     "shell.execute_reply": "2023-08-10T12:28:07.830787Z"
    }
   },
   "outputs": [
    {
     "name": "stdout",
     "output_type": "stream",
     "text": [
      "100 µs ± 1 µs per loop (mean ± std. dev. of 7 runs, 10,000 loops each)\n"
     ]
    }
   ],
   "source": [
    "t_split = FastTreeValue.func(rise=True)(torch.split)\n",
    "tree = FastTreeValue({\n",
    "    'obs': torch.randn(8, 4, 84, 84),\n",
    "    'action': torch.randint(0, 6, size=(8, 1,)),\n",
    "    'reward': torch.rand(8, 1),\n",
    "})\n",
    "\n",
    "%timeit t_split(tree, 1)"
   ]
  },
  {
   "cell_type": "markdown",
   "id": "31c3ec0b",
   "metadata": {},
   "source": [
    "### Performance of Tianshou Batch"
   ]
  },
  {
   "cell_type": "code",
   "execution_count": 25,
   "id": "9ead828a",
   "metadata": {
    "execution": {
     "iopub.execute_input": "2023-08-10T12:28:07.837033Z",
     "iopub.status.busy": "2023-08-10T12:28:07.835982Z",
     "iopub.status.idle": "2023-08-10T12:28:07.848083Z",
     "shell.execute_reply": "2023-08-10T12:28:07.846737Z"
    }
   },
   "outputs": [
    {
     "data": {
      "text/plain": [
       "Batch(\n",
       "    a: tensor([[[-1.7619, -0.3400, -0.7624],\n",
       "                [ 0.5088,  1.0374, -0.0132]],\n",
       "       \n",
       "               [[-1.7619, -0.3400, -0.7624],\n",
       "                [ 0.5088,  1.0374, -0.0132]],\n",
       "       \n",
       "               [[-1.7619, -0.3400, -0.7624],\n",
       "                [ 0.5088,  1.0374, -0.0132]],\n",
       "       \n",
       "               [[-1.7619, -0.3400, -0.7624],\n",
       "                [ 0.5088,  1.0374, -0.0132]],\n",
       "       \n",
       "               [[-1.7619, -0.3400, -0.7624],\n",
       "                [ 0.5088,  1.0374, -0.0132]],\n",
       "       \n",
       "               [[-1.7619, -0.3400, -0.7624],\n",
       "                [ 0.5088,  1.0374, -0.0132]],\n",
       "       \n",
       "               [[-1.7619, -0.3400, -0.7624],\n",
       "                [ 0.5088,  1.0374, -0.0132]],\n",
       "       \n",
       "               [[-1.7619, -0.3400, -0.7624],\n",
       "                [ 0.5088,  1.0374, -0.0132]]]),\n",
       "    x: Batch(\n",
       "           c: tensor([[[ 0.9887,  0.9275,  1.0844,  1.7493],\n",
       "                       [ 0.2160, -0.1190, -0.5881,  1.6509],\n",
       "                       [-1.3378, -0.1905, -0.3306, -0.6152]],\n",
       "              \n",
       "                      [[ 0.9887,  0.9275,  1.0844,  1.7493],\n",
       "                       [ 0.2160, -0.1190, -0.5881,  1.6509],\n",
       "                       [-1.3378, -0.1905, -0.3306, -0.6152]],\n",
       "              \n",
       "                      [[ 0.9887,  0.9275,  1.0844,  1.7493],\n",
       "                       [ 0.2160, -0.1190, -0.5881,  1.6509],\n",
       "                       [-1.3378, -0.1905, -0.3306, -0.6152]],\n",
       "              \n",
       "                      [[ 0.9887,  0.9275,  1.0844,  1.7493],\n",
       "                       [ 0.2160, -0.1190, -0.5881,  1.6509],\n",
       "                       [-1.3378, -0.1905, -0.3306, -0.6152]],\n",
       "              \n",
       "                      [[ 0.9887,  0.9275,  1.0844,  1.7493],\n",
       "                       [ 0.2160, -0.1190, -0.5881,  1.6509],\n",
       "                       [-1.3378, -0.1905, -0.3306, -0.6152]],\n",
       "              \n",
       "                      [[ 0.9887,  0.9275,  1.0844,  1.7493],\n",
       "                       [ 0.2160, -0.1190, -0.5881,  1.6509],\n",
       "                       [-1.3378, -0.1905, -0.3306, -0.6152]],\n",
       "              \n",
       "                      [[ 0.9887,  0.9275,  1.0844,  1.7493],\n",
       "                       [ 0.2160, -0.1190, -0.5881,  1.6509],\n",
       "                       [-1.3378, -0.1905, -0.3306, -0.6152]],\n",
       "              \n",
       "                      [[ 0.9887,  0.9275,  1.0844,  1.7493],\n",
       "                       [ 0.2160, -0.1190, -0.5881,  1.6509],\n",
       "                       [-1.3378, -0.1905, -0.3306, -0.6152]]]),\n",
       "       ),\n",
       ")"
      ]
     },
     "execution_count": 25,
     "metadata": {},
     "output_type": "execute_result"
    }
   ],
   "source": [
    "batches = [Batch(**_TREE_DATA_2) for _ in range(8)]\n",
    "\n",
    "Batch.stack(batches)"
   ]
  },
  {
   "cell_type": "code",
   "execution_count": 26,
   "id": "ec9037a3",
   "metadata": {
    "execution": {
     "iopub.execute_input": "2023-08-10T12:28:07.854362Z",
     "iopub.status.busy": "2023-08-10T12:28:07.853688Z",
     "iopub.status.idle": "2023-08-10T12:28:17.392059Z",
     "shell.execute_reply": "2023-08-10T12:28:17.391080Z"
    }
   },
   "outputs": [
    {
     "name": "stdout",
     "output_type": "stream",
     "text": [
      "117 µs ± 2.19 µs per loop (mean ± std. dev. of 7 runs, 10,000 loops each)\n"
     ]
    }
   ],
   "source": [
    "%timeit Batch.stack(batches)"
   ]
  },
  {
   "cell_type": "code",
   "execution_count": 27,
   "id": "cb8ab77e",
   "metadata": {
    "execution": {
     "iopub.execute_input": "2023-08-10T12:28:17.398538Z",
     "iopub.status.busy": "2023-08-10T12:28:17.397400Z",
     "iopub.status.idle": "2023-08-10T12:28:17.409417Z",
     "shell.execute_reply": "2023-08-10T12:28:17.408315Z"
    }
   },
   "outputs": [
    {
     "data": {
      "text/plain": [
       "Batch(\n",
       "    a: tensor([[-1.7619, -0.3400, -0.7624],\n",
       "               [ 0.5088,  1.0374, -0.0132],\n",
       "               [-1.7619, -0.3400, -0.7624],\n",
       "               [ 0.5088,  1.0374, -0.0132],\n",
       "               [-1.7619, -0.3400, -0.7624],\n",
       "               [ 0.5088,  1.0374, -0.0132],\n",
       "               [-1.7619, -0.3400, -0.7624],\n",
       "               [ 0.5088,  1.0374, -0.0132],\n",
       "               [-1.7619, -0.3400, -0.7624],\n",
       "               [ 0.5088,  1.0374, -0.0132],\n",
       "               [-1.7619, -0.3400, -0.7624],\n",
       "               [ 0.5088,  1.0374, -0.0132],\n",
       "               [-1.7619, -0.3400, -0.7624],\n",
       "               [ 0.5088,  1.0374, -0.0132],\n",
       "               [-1.7619, -0.3400, -0.7624],\n",
       "               [ 0.5088,  1.0374, -0.0132]]),\n",
       "    x: Batch(\n",
       "           c: tensor([[ 0.9887,  0.9275,  1.0844,  1.7493],\n",
       "                      [ 0.2160, -0.1190, -0.5881,  1.6509],\n",
       "                      [-1.3378, -0.1905, -0.3306, -0.6152],\n",
       "                      [ 0.9887,  0.9275,  1.0844,  1.7493],\n",
       "                      [ 0.2160, -0.1190, -0.5881,  1.6509],\n",
       "                      [-1.3378, -0.1905, -0.3306, -0.6152],\n",
       "                      [ 0.9887,  0.9275,  1.0844,  1.7493],\n",
       "                      [ 0.2160, -0.1190, -0.5881,  1.6509],\n",
       "                      [-1.3378, -0.1905, -0.3306, -0.6152],\n",
       "                      [ 0.9887,  0.9275,  1.0844,  1.7493],\n",
       "                      [ 0.2160, -0.1190, -0.5881,  1.6509],\n",
       "                      [-1.3378, -0.1905, -0.3306, -0.6152],\n",
       "                      [ 0.9887,  0.9275,  1.0844,  1.7493],\n",
       "                      [ 0.2160, -0.1190, -0.5881,  1.6509],\n",
       "                      [-1.3378, -0.1905, -0.3306, -0.6152],\n",
       "                      [ 0.9887,  0.9275,  1.0844,  1.7493],\n",
       "                      [ 0.2160, -0.1190, -0.5881,  1.6509],\n",
       "                      [-1.3378, -0.1905, -0.3306, -0.6152],\n",
       "                      [ 0.9887,  0.9275,  1.0844,  1.7493],\n",
       "                      [ 0.2160, -0.1190, -0.5881,  1.6509],\n",
       "                      [-1.3378, -0.1905, -0.3306, -0.6152],\n",
       "                      [ 0.9887,  0.9275,  1.0844,  1.7493],\n",
       "                      [ 0.2160, -0.1190, -0.5881,  1.6509],\n",
       "                      [-1.3378, -0.1905, -0.3306, -0.6152]]),\n",
       "       ),\n",
       ")"
      ]
     },
     "execution_count": 27,
     "metadata": {},
     "output_type": "execute_result"
    }
   ],
   "source": [
    "Batch.cat(batches)"
   ]
  },
  {
   "cell_type": "code",
   "execution_count": 28,
   "id": "18dfb045",
   "metadata": {
    "execution": {
     "iopub.execute_input": "2023-08-10T12:28:17.414420Z",
     "iopub.status.busy": "2023-08-10T12:28:17.414007Z",
     "iopub.status.idle": "2023-08-10T12:28:19.122913Z",
     "shell.execute_reply": "2023-08-10T12:28:19.121269Z"
    }
   },
   "outputs": [
    {
     "name": "stdout",
     "output_type": "stream",
     "text": [
      "208 µs ± 7.57 µs per loop (mean ± std. dev. of 7 runs, 1,000 loops each)\n"
     ]
    }
   ],
   "source": [
    "%timeit Batch.cat(batches)"
   ]
  },
  {
   "cell_type": "code",
   "execution_count": 29,
   "id": "c6688e51",
   "metadata": {
    "execution": {
     "iopub.execute_input": "2023-08-10T12:28:19.127605Z",
     "iopub.status.busy": "2023-08-10T12:28:19.127218Z",
     "iopub.status.idle": "2023-08-10T12:28:24.707222Z",
     "shell.execute_reply": "2023-08-10T12:28:24.706101Z"
    }
   },
   "outputs": [
    {
     "name": "stdout",
     "output_type": "stream",
     "text": [
      "684 µs ± 47.8 µs per loop (mean ± std. dev. of 7 runs, 1,000 loops each)\n"
     ]
    }
   ],
   "source": [
    "batch = Batch({\n",
    "    'obs': torch.randn(8, 4, 84, 84),\n",
    "    'action': torch.randint(0, 6, size=(8, 1,)),\n",
    "    'reward': torch.rand(8, 1)}\n",
    ")\n",
    "\n",
    "%timeit list(Batch.split(batch, 1, shuffle=False, merge_last=True))"
   ]
  },
  {
   "cell_type": "code",
   "execution_count": null,
   "id": "2539fbd9",
   "metadata": {},
   "outputs": [],
   "source": []
  }
 ],
 "metadata": {
  "kernelspec": {
   "display_name": "Python 3 (ipykernel)",
   "language": "python",
   "name": "python3"
  },
  "language_info": {
   "codemirror_mode": {
    "name": "ipython",
    "version": 3
   },
   "file_extension": ".py",
   "mimetype": "text/x-python",
   "name": "python",
   "nbconvert_exporter": "python",
   "pygments_lexer": "ipython3",
   "version": "3.8.17"
  }
 },
 "nbformat": 4,
 "nbformat_minor": 5
}
