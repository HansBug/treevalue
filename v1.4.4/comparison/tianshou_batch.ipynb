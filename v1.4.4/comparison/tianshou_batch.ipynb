{
 "cells": [
  {
   "cell_type": "markdown",
   "id": "9d39d946",
   "metadata": {},
   "source": [
    "# Comparison Between TreeValue and Tianshou Batch"
   ]
  },
  {
   "cell_type": "markdown",
   "id": "3c6db2d4",
   "metadata": {},
   "source": [
    "In this section, we will take a look at the feature and performance of the [Tianshou Batch](https://github.com/thu-ml/tianshou) library, which is developed by Tsinghua Machine Learning Group."
   ]
  },
  {
   "cell_type": "markdown",
   "id": "069361b0",
   "metadata": {},
   "source": [
    "Before starting the comparison, let us define some thing."
   ]
  },
  {
   "cell_type": "code",
   "execution_count": 1,
   "id": "06fc8d26",
   "metadata": {
    "execution": {
     "iopub.execute_input": "2023-02-26T15:42:09.770767Z",
     "iopub.status.busy": "2023-02-26T15:42:09.770480Z",
     "iopub.status.idle": "2023-02-26T15:42:10.962774Z",
     "shell.execute_reply": "2023-02-26T15:42:10.961640Z"
    }
   },
   "outputs": [
    {
     "name": "stderr",
     "output_type": "stream",
     "text": [
      "/opt/hostedtoolcache/Python/3.8.16/x64/lib/python3.8/site-packages/tqdm/auto.py:22: TqdmWarning: IProgress not found. Please update jupyter and ipywidgets. See https://ipywidgets.readthedocs.io/en/stable/user_install.html\n",
      "  from .autonotebook import tqdm as notebook_tqdm\n"
     ]
    }
   ],
   "source": [
    "import torch \n",
    "\n",
    "_TREE_DATA_1 = {'a': 1, 'b': 2, 'x': {'c': 3, 'd': 4}}\n",
    "_TREE_DATA_2 = {\n",
    "    'a': torch.randn(2, 3), \n",
    "    'x': {\n",
    "        'c': torch.randn(3, 4)\n",
    "    },\n",
    "}\n",
    "_TREE_DATA_3 = {\n",
    "    'obs': torch.randn(4, 84, 84),\n",
    "    'action': torch.randint(0, 6, size=(1,)),\n",
    "    'reward': torch.rand(1),\n",
    "}"
   ]
  },
  {
   "cell_type": "markdown",
   "id": "83461b25",
   "metadata": {},
   "source": [
    "## Read and Write Operation"
   ]
  },
  {
   "cell_type": "markdown",
   "id": "067b3f73",
   "metadata": {},
   "source": [
    "Reading and writing are the two most common operations in the tree data structure based on the data model (TreeValue and Tianshou Batch both belong to this type), so this section will compare the reading and writing performance of these two libraries."
   ]
  },
  {
   "cell_type": "markdown",
   "id": "5d09a5b7",
   "metadata": {},
   "source": [
    "### TreeValue's Get and Set"
   ]
  },
  {
   "cell_type": "code",
   "execution_count": 2,
   "id": "9519c4bb",
   "metadata": {
    "execution": {
     "iopub.execute_input": "2023-02-26T15:42:10.968296Z",
     "iopub.status.busy": "2023-02-26T15:42:10.967630Z",
     "iopub.status.idle": "2023-02-26T15:42:11.332005Z",
     "shell.execute_reply": "2023-02-26T15:42:11.330893Z"
    }
   },
   "outputs": [],
   "source": [
    "from treevalue import FastTreeValue\n",
    "\n",
    "t = FastTreeValue(_TREE_DATA_2)"
   ]
  },
  {
   "cell_type": "code",
   "execution_count": 3,
   "id": "11c37677",
   "metadata": {
    "execution": {
     "iopub.execute_input": "2023-02-26T15:42:11.336226Z",
     "iopub.status.busy": "2023-02-26T15:42:11.335872Z",
     "iopub.status.idle": "2023-02-26T15:42:11.348289Z",
     "shell.execute_reply": "2023-02-26T15:42:11.347301Z"
    }
   },
   "outputs": [
    {
     "data": {
      "text/plain": [
       "<FastTreeValue 0x7f4b508e1ee0>\n",
       "├── 'a' --> tensor([[ 0.9160, -1.1817, -0.2915],\n",
       "│                   [ 0.9803, -0.0697,  0.6740]])\n",
       "└── 'x' --> <FastTreeValue 0x7f4b508e1fd0>\n",
       "    └── 'c' --> tensor([[ 0.4645, -1.2541, -0.1804, -0.9229],\n",
       "                        [-1.7030, -0.9680,  2.1924, -0.0436],\n",
       "                        [-1.1008, -0.3390,  0.7427,  1.2755]])"
      ]
     },
     "execution_count": 3,
     "metadata": {},
     "output_type": "execute_result"
    }
   ],
   "source": [
    "t"
   ]
  },
  {
   "cell_type": "code",
   "execution_count": 4,
   "id": "fd70b0b9",
   "metadata": {
    "execution": {
     "iopub.execute_input": "2023-02-26T15:42:11.351632Z",
     "iopub.status.busy": "2023-02-26T15:42:11.351316Z",
     "iopub.status.idle": "2023-02-26T15:42:11.359353Z",
     "shell.execute_reply": "2023-02-26T15:42:11.358468Z"
    }
   },
   "outputs": [
    {
     "data": {
      "text/plain": [
       "tensor([[ 0.9160, -1.1817, -0.2915],\n",
       "        [ 0.9803, -0.0697,  0.6740]])"
      ]
     },
     "execution_count": 4,
     "metadata": {},
     "output_type": "execute_result"
    }
   ],
   "source": [
    "t.a"
   ]
  },
  {
   "cell_type": "code",
   "execution_count": 5,
   "id": "c18197bd",
   "metadata": {
    "execution": {
     "iopub.execute_input": "2023-02-26T15:42:11.362999Z",
     "iopub.status.busy": "2023-02-26T15:42:11.362228Z",
     "iopub.status.idle": "2023-02-26T15:42:17.273972Z",
     "shell.execute_reply": "2023-02-26T15:42:17.272816Z"
    }
   },
   "outputs": [
    {
     "name": "stdout",
     "output_type": "stream",
     "text": [
      "72.8 ns ± 1.39 ns per loop (mean ± std. dev. of 7 runs, 10,000,000 loops each)\n"
     ]
    }
   ],
   "source": [
    "%timeit t.a"
   ]
  },
  {
   "cell_type": "code",
   "execution_count": 6,
   "id": "bd52f867",
   "metadata": {
    "execution": {
     "iopub.execute_input": "2023-02-26T15:42:17.277728Z",
     "iopub.status.busy": "2023-02-26T15:42:17.277301Z",
     "iopub.status.idle": "2023-02-26T15:42:17.286326Z",
     "shell.execute_reply": "2023-02-26T15:42:17.285315Z"
    }
   },
   "outputs": [
    {
     "data": {
      "text/plain": [
       "<FastTreeValue 0x7f4b508e1ee0>\n",
       "├── 'a' --> tensor([[1.2090, 3.2932, 0.3761],\n",
       "│                   [0.1010, 0.8741, 0.5837]])\n",
       "└── 'x' --> <FastTreeValue 0x7f4b508e1fd0>\n",
       "    └── 'c' --> tensor([[ 0.4645, -1.2541, -0.1804, -0.9229],\n",
       "                        [-1.7030, -0.9680,  2.1924, -0.0436],\n",
       "                        [-1.1008, -0.3390,  0.7427,  1.2755]])"
      ]
     },
     "execution_count": 6,
     "metadata": {},
     "output_type": "execute_result"
    }
   ],
   "source": [
    "new_value = torch.randn(2, 3)\n",
    "t.a = new_value\n",
    "\n",
    "t"
   ]
  },
  {
   "cell_type": "code",
   "execution_count": 7,
   "id": "bbe04d1c",
   "metadata": {
    "execution": {
     "iopub.execute_input": "2023-02-26T15:42:17.289939Z",
     "iopub.status.busy": "2023-02-26T15:42:17.289390Z",
     "iopub.status.idle": "2023-02-26T15:42:23.625380Z",
     "shell.execute_reply": "2023-02-26T15:42:23.624202Z"
    }
   },
   "outputs": [
    {
     "name": "stdout",
     "output_type": "stream",
     "text": [
      "77.6 ns ± 1.37 ns per loop (mean ± std. dev. of 7 runs, 10,000,000 loops each)\n"
     ]
    }
   ],
   "source": [
    "%timeit t.a = new_value"
   ]
  },
  {
   "cell_type": "markdown",
   "id": "48c49731",
   "metadata": {},
   "source": [
    "### Tianshou Batch's Get and Set"
   ]
  },
  {
   "cell_type": "code",
   "execution_count": 8,
   "id": "f1bb14c1",
   "metadata": {
    "execution": {
     "iopub.execute_input": "2023-02-26T15:42:23.628671Z",
     "iopub.status.busy": "2023-02-26T15:42:23.628383Z",
     "iopub.status.idle": "2023-02-26T15:42:24.080205Z",
     "shell.execute_reply": "2023-02-26T15:42:24.079149Z"
    }
   },
   "outputs": [],
   "source": [
    "from tianshou.data import Batch\n",
    "\n",
    "b = Batch(**_TREE_DATA_2)"
   ]
  },
  {
   "cell_type": "code",
   "execution_count": 9,
   "id": "cb0777c3",
   "metadata": {
    "execution": {
     "iopub.execute_input": "2023-02-26T15:42:24.084477Z",
     "iopub.status.busy": "2023-02-26T15:42:24.084028Z",
     "iopub.status.idle": "2023-02-26T15:42:24.093454Z",
     "shell.execute_reply": "2023-02-26T15:42:24.092485Z"
    }
   },
   "outputs": [
    {
     "data": {
      "text/plain": [
       "Batch(\n",
       "    a: tensor([[ 0.9160, -1.1817, -0.2915],\n",
       "               [ 0.9803, -0.0697,  0.6740]]),\n",
       "    x: Batch(\n",
       "           c: tensor([[ 0.4645, -1.2541, -0.1804, -0.9229],\n",
       "                      [-1.7030, -0.9680,  2.1924, -0.0436],\n",
       "                      [-1.1008, -0.3390,  0.7427,  1.2755]]),\n",
       "       ),\n",
       ")"
      ]
     },
     "execution_count": 9,
     "metadata": {},
     "output_type": "execute_result"
    }
   ],
   "source": [
    "b"
   ]
  },
  {
   "cell_type": "code",
   "execution_count": 10,
   "id": "43ef8ea3",
   "metadata": {
    "execution": {
     "iopub.execute_input": "2023-02-26T15:42:24.096991Z",
     "iopub.status.busy": "2023-02-26T15:42:24.096490Z",
     "iopub.status.idle": "2023-02-26T15:42:24.104219Z",
     "shell.execute_reply": "2023-02-26T15:42:24.103340Z"
    }
   },
   "outputs": [
    {
     "data": {
      "text/plain": [
       "tensor([[ 0.9160, -1.1817, -0.2915],\n",
       "        [ 0.9803, -0.0697,  0.6740]])"
      ]
     },
     "execution_count": 10,
     "metadata": {},
     "output_type": "execute_result"
    }
   ],
   "source": [
    "b.a"
   ]
  },
  {
   "cell_type": "code",
   "execution_count": 11,
   "id": "b785ab72",
   "metadata": {
    "execution": {
     "iopub.execute_input": "2023-02-26T15:42:24.107551Z",
     "iopub.status.busy": "2023-02-26T15:42:24.107230Z",
     "iopub.status.idle": "2023-02-26T15:42:29.423316Z",
     "shell.execute_reply": "2023-02-26T15:42:29.422244Z"
    }
   },
   "outputs": [
    {
     "name": "stdout",
     "output_type": "stream",
     "text": [
      "65.5 ns ± 1.23 ns per loop (mean ± std. dev. of 7 runs, 10,000,000 loops each)\n"
     ]
    }
   ],
   "source": [
    "%timeit b.a"
   ]
  },
  {
   "cell_type": "code",
   "execution_count": 12,
   "id": "ad54dc69",
   "metadata": {
    "execution": {
     "iopub.execute_input": "2023-02-26T15:42:29.427091Z",
     "iopub.status.busy": "2023-02-26T15:42:29.426538Z",
     "iopub.status.idle": "2023-02-26T15:42:29.436752Z",
     "shell.execute_reply": "2023-02-26T15:42:29.435800Z"
    }
   },
   "outputs": [
    {
     "data": {
      "text/plain": [
       "Batch(\n",
       "    a: tensor([[-0.1437,  0.8796, -0.7154],\n",
       "               [ 0.2266,  1.8378,  1.7816]]),\n",
       "    x: Batch(\n",
       "           c: tensor([[ 0.4645, -1.2541, -0.1804, -0.9229],\n",
       "                      [-1.7030, -0.9680,  2.1924, -0.0436],\n",
       "                      [-1.1008, -0.3390,  0.7427,  1.2755]]),\n",
       "       ),\n",
       ")"
      ]
     },
     "execution_count": 12,
     "metadata": {},
     "output_type": "execute_result"
    }
   ],
   "source": [
    "new_value = torch.randn(2, 3)\n",
    "b.a = new_value\n",
    "\n",
    "b"
   ]
  },
  {
   "cell_type": "code",
   "execution_count": 13,
   "id": "29b1d0bf",
   "metadata": {
    "execution": {
     "iopub.execute_input": "2023-02-26T15:42:29.440408Z",
     "iopub.status.busy": "2023-02-26T15:42:29.440092Z",
     "iopub.status.idle": "2023-02-26T15:42:34.351306Z",
     "shell.execute_reply": "2023-02-26T15:42:34.350249Z"
    }
   },
   "outputs": [
    {
     "name": "stdout",
     "output_type": "stream",
     "text": [
      "604 ns ± 8.34 ns per loop (mean ± std. dev. of 7 runs, 1,000,000 loops each)\n"
     ]
    }
   ],
   "source": [
    "%timeit b.a = new_value"
   ]
  },
  {
   "cell_type": "markdown",
   "id": "b61ad1d0",
   "metadata": {},
   "source": [
    "## Initialization"
   ]
  },
  {
   "cell_type": "markdown",
   "id": "d70f0d54",
   "metadata": {},
   "source": [
    "### TreeValue's Initialization"
   ]
  },
  {
   "cell_type": "code",
   "execution_count": 14,
   "id": "d32a679b",
   "metadata": {
    "execution": {
     "iopub.execute_input": "2023-02-26T15:42:34.355148Z",
     "iopub.status.busy": "2023-02-26T15:42:34.354661Z",
     "iopub.status.idle": "2023-02-26T15:42:42.356150Z",
     "shell.execute_reply": "2023-02-26T15:42:42.355028Z"
    }
   },
   "outputs": [
    {
     "name": "stdout",
     "output_type": "stream",
     "text": [
      "986 ns ± 10.1 ns per loop (mean ± std. dev. of 7 runs, 1,000,000 loops each)\n"
     ]
    }
   ],
   "source": [
    "%timeit FastTreeValue(_TREE_DATA_1)"
   ]
  },
  {
   "cell_type": "markdown",
   "id": "24f3707b",
   "metadata": {},
   "source": [
    "### Tianshou Batch's Initialization"
   ]
  },
  {
   "cell_type": "code",
   "execution_count": 15,
   "id": "ac3958df",
   "metadata": {
    "execution": {
     "iopub.execute_input": "2023-02-26T15:42:42.359951Z",
     "iopub.status.busy": "2023-02-26T15:42:42.359663Z",
     "iopub.status.idle": "2023-02-26T15:42:52.975495Z",
     "shell.execute_reply": "2023-02-26T15:42:52.974522Z"
    }
   },
   "outputs": [
    {
     "name": "stdout",
     "output_type": "stream",
     "text": [
      "13.1 µs ± 172 ns per loop (mean ± std. dev. of 7 runs, 100,000 loops each)\n"
     ]
    }
   ],
   "source": [
    "%timeit Batch(**_TREE_DATA_1)"
   ]
  },
  {
   "cell_type": "markdown",
   "id": "1ab82e2d",
   "metadata": {},
   "source": [
    "## Deep Copy Operation"
   ]
  },
  {
   "cell_type": "code",
   "execution_count": 16,
   "id": "210a9442",
   "metadata": {
    "execution": {
     "iopub.execute_input": "2023-02-26T15:42:52.979308Z",
     "iopub.status.busy": "2023-02-26T15:42:52.978986Z",
     "iopub.status.idle": "2023-02-26T15:42:52.984873Z",
     "shell.execute_reply": "2023-02-26T15:42:52.983873Z"
    }
   },
   "outputs": [],
   "source": [
    "import copy"
   ]
  },
  {
   "cell_type": "markdown",
   "id": "5a736274",
   "metadata": {},
   "source": [
    "### Deep Copy of TreeValue"
   ]
  },
  {
   "cell_type": "code",
   "execution_count": 17,
   "id": "f9bcadd6",
   "metadata": {
    "execution": {
     "iopub.execute_input": "2023-02-26T15:42:52.988513Z",
     "iopub.status.busy": "2023-02-26T15:42:52.988226Z",
     "iopub.status.idle": "2023-02-26T15:42:55.438184Z",
     "shell.execute_reply": "2023-02-26T15:42:55.437377Z"
    }
   },
   "outputs": [
    {
     "name": "stdout",
     "output_type": "stream",
     "text": [
      "294 µs ± 5.63 µs per loop (mean ± std. dev. of 7 runs, 1,000 loops each)\n"
     ]
    }
   ],
   "source": [
    "t3 = FastTreeValue(_TREE_DATA_3)\n",
    "%timeit copy.deepcopy(t3)"
   ]
  },
  {
   "cell_type": "markdown",
   "id": "bf8be7ea",
   "metadata": {},
   "source": [
    "### Deep Copy of Tianshou Batch"
   ]
  },
  {
   "cell_type": "code",
   "execution_count": 18,
   "id": "91998e6f",
   "metadata": {
    "execution": {
     "iopub.execute_input": "2023-02-26T15:42:55.441952Z",
     "iopub.status.busy": "2023-02-26T15:42:55.441117Z",
     "iopub.status.idle": "2023-02-26T15:42:57.716326Z",
     "shell.execute_reply": "2023-02-26T15:42:57.715442Z"
    }
   },
   "outputs": [
    {
     "name": "stdout",
     "output_type": "stream",
     "text": [
      "279 µs ± 4.05 µs per loop (mean ± std. dev. of 7 runs, 1,000 loops each)\n"
     ]
    }
   ],
   "source": [
    "b3 = Batch(**_TREE_DATA_3)\n",
    "%timeit copy.deepcopy(b3)"
   ]
  },
  {
   "cell_type": "markdown",
   "id": "223162fb",
   "metadata": {},
   "source": [
    "## Stack, Concat and Split Operation"
   ]
  },
  {
   "cell_type": "markdown",
   "id": "85fa4a73",
   "metadata": {},
   "source": [
    "### Performance of TreeValue"
   ]
  },
  {
   "cell_type": "code",
   "execution_count": 19,
   "id": "a0c2b697",
   "metadata": {
    "execution": {
     "iopub.execute_input": "2023-02-26T15:42:57.720916Z",
     "iopub.status.busy": "2023-02-26T15:42:57.720408Z",
     "iopub.status.idle": "2023-02-26T15:42:57.725817Z",
     "shell.execute_reply": "2023-02-26T15:42:57.724960Z"
    }
   },
   "outputs": [],
   "source": [
    "trees = [FastTreeValue(_TREE_DATA_2) for _ in range(8)]"
   ]
  },
  {
   "cell_type": "code",
   "execution_count": 20,
   "id": "017ea5a5",
   "metadata": {
    "execution": {
     "iopub.execute_input": "2023-02-26T15:42:57.729524Z",
     "iopub.status.busy": "2023-02-26T15:42:57.729064Z",
     "iopub.status.idle": "2023-02-26T15:42:57.740375Z",
     "shell.execute_reply": "2023-02-26T15:42:57.739435Z"
    }
   },
   "outputs": [
    {
     "data": {
      "text/plain": [
       "<FastTreeValue 0x7f4aa08046a0>\n",
       "├── 'a' --> tensor([[[ 0.9160, -1.1817, -0.2915],\n",
       "│                    [ 0.9803, -0.0697,  0.6740]],\n",
       "│           \n",
       "│                   [[ 0.9160, -1.1817, -0.2915],\n",
       "│                    [ 0.9803, -0.0697,  0.6740]],\n",
       "│           \n",
       "│                   [[ 0.9160, -1.1817, -0.2915],\n",
       "│                    [ 0.9803, -0.0697,  0.6740]],\n",
       "│           \n",
       "│                   [[ 0.9160, -1.1817, -0.2915],\n",
       "│                    [ 0.9803, -0.0697,  0.6740]],\n",
       "│           \n",
       "│                   [[ 0.9160, -1.1817, -0.2915],\n",
       "│                    [ 0.9803, -0.0697,  0.6740]],\n",
       "│           \n",
       "│                   [[ 0.9160, -1.1817, -0.2915],\n",
       "│                    [ 0.9803, -0.0697,  0.6740]],\n",
       "│           \n",
       "│                   [[ 0.9160, -1.1817, -0.2915],\n",
       "│                    [ 0.9803, -0.0697,  0.6740]],\n",
       "│           \n",
       "│                   [[ 0.9160, -1.1817, -0.2915],\n",
       "│                    [ 0.9803, -0.0697,  0.6740]]])\n",
       "└── 'x' --> <FastTreeValue 0x7f4b23ea1fa0>\n",
       "    └── 'c' --> tensor([[[ 0.4645, -1.2541, -0.1804, -0.9229],\n",
       "                         [-1.7030, -0.9680,  2.1924, -0.0436],\n",
       "                         [-1.1008, -0.3390,  0.7427,  1.2755]],\n",
       "                \n",
       "                        [[ 0.4645, -1.2541, -0.1804, -0.9229],\n",
       "                         [-1.7030, -0.9680,  2.1924, -0.0436],\n",
       "                         [-1.1008, -0.3390,  0.7427,  1.2755]],\n",
       "                \n",
       "                        [[ 0.4645, -1.2541, -0.1804, -0.9229],\n",
       "                         [-1.7030, -0.9680,  2.1924, -0.0436],\n",
       "                         [-1.1008, -0.3390,  0.7427,  1.2755]],\n",
       "                \n",
       "                        [[ 0.4645, -1.2541, -0.1804, -0.9229],\n",
       "                         [-1.7030, -0.9680,  2.1924, -0.0436],\n",
       "                         [-1.1008, -0.3390,  0.7427,  1.2755]],\n",
       "                \n",
       "                        [[ 0.4645, -1.2541, -0.1804, -0.9229],\n",
       "                         [-1.7030, -0.9680,  2.1924, -0.0436],\n",
       "                         [-1.1008, -0.3390,  0.7427,  1.2755]],\n",
       "                \n",
       "                        [[ 0.4645, -1.2541, -0.1804, -0.9229],\n",
       "                         [-1.7030, -0.9680,  2.1924, -0.0436],\n",
       "                         [-1.1008, -0.3390,  0.7427,  1.2755]],\n",
       "                \n",
       "                        [[ 0.4645, -1.2541, -0.1804, -0.9229],\n",
       "                         [-1.7030, -0.9680,  2.1924, -0.0436],\n",
       "                         [-1.1008, -0.3390,  0.7427,  1.2755]],\n",
       "                \n",
       "                        [[ 0.4645, -1.2541, -0.1804, -0.9229],\n",
       "                         [-1.7030, -0.9680,  2.1924, -0.0436],\n",
       "                         [-1.1008, -0.3390,  0.7427,  1.2755]]])"
      ]
     },
     "execution_count": 20,
     "metadata": {},
     "output_type": "execute_result"
    }
   ],
   "source": [
    "t_stack = FastTreeValue.func(subside=True)(torch.stack)\n",
    "\n",
    "t_stack(trees)"
   ]
  },
  {
   "cell_type": "code",
   "execution_count": 21,
   "id": "f8b3f415",
   "metadata": {
    "execution": {
     "iopub.execute_input": "2023-02-26T15:42:57.743638Z",
     "iopub.status.busy": "2023-02-26T15:42:57.743215Z",
     "iopub.status.idle": "2023-02-26T15:43:01.570447Z",
     "shell.execute_reply": "2023-02-26T15:43:01.569345Z"
    }
   },
   "outputs": [
    {
     "name": "stdout",
     "output_type": "stream",
     "text": [
      "47.1 µs ± 749 ns per loop (mean ± std. dev. of 7 runs, 10,000 loops each)\n"
     ]
    }
   ],
   "source": [
    "%timeit t_stack(trees)"
   ]
  },
  {
   "cell_type": "code",
   "execution_count": 22,
   "id": "94b56771",
   "metadata": {
    "execution": {
     "iopub.execute_input": "2023-02-26T15:43:01.573655Z",
     "iopub.status.busy": "2023-02-26T15:43:01.573387Z",
     "iopub.status.idle": "2023-02-26T15:43:01.584767Z",
     "shell.execute_reply": "2023-02-26T15:43:01.583593Z"
    }
   },
   "outputs": [
    {
     "data": {
      "text/plain": [
       "<FastTreeValue 0x7f4b23ea1fd0>\n",
       "├── 'a' --> tensor([[ 0.9160, -1.1817, -0.2915],\n",
       "│                   [ 0.9803, -0.0697,  0.6740],\n",
       "│                   [ 0.9160, -1.1817, -0.2915],\n",
       "│                   [ 0.9803, -0.0697,  0.6740],\n",
       "│                   [ 0.9160, -1.1817, -0.2915],\n",
       "│                   [ 0.9803, -0.0697,  0.6740],\n",
       "│                   [ 0.9160, -1.1817, -0.2915],\n",
       "│                   [ 0.9803, -0.0697,  0.6740],\n",
       "│                   [ 0.9160, -1.1817, -0.2915],\n",
       "│                   [ 0.9803, -0.0697,  0.6740],\n",
       "│                   [ 0.9160, -1.1817, -0.2915],\n",
       "│                   [ 0.9803, -0.0697,  0.6740],\n",
       "│                   [ 0.9160, -1.1817, -0.2915],\n",
       "│                   [ 0.9803, -0.0697,  0.6740],\n",
       "│                   [ 0.9160, -1.1817, -0.2915],\n",
       "│                   [ 0.9803, -0.0697,  0.6740]])\n",
       "└── 'x' --> <FastTreeValue 0x7f4a9a289280>\n",
       "    └── 'c' --> tensor([[ 0.4645, -1.2541, -0.1804, -0.9229],\n",
       "                        [-1.7030, -0.9680,  2.1924, -0.0436],\n",
       "                        [-1.1008, -0.3390,  0.7427,  1.2755],\n",
       "                        [ 0.4645, -1.2541, -0.1804, -0.9229],\n",
       "                        [-1.7030, -0.9680,  2.1924, -0.0436],\n",
       "                        [-1.1008, -0.3390,  0.7427,  1.2755],\n",
       "                        [ 0.4645, -1.2541, -0.1804, -0.9229],\n",
       "                        [-1.7030, -0.9680,  2.1924, -0.0436],\n",
       "                        [-1.1008, -0.3390,  0.7427,  1.2755],\n",
       "                        [ 0.4645, -1.2541, -0.1804, -0.9229],\n",
       "                        [-1.7030, -0.9680,  2.1924, -0.0436],\n",
       "                        [-1.1008, -0.3390,  0.7427,  1.2755],\n",
       "                        [ 0.4645, -1.2541, -0.1804, -0.9229],\n",
       "                        [-1.7030, -0.9680,  2.1924, -0.0436],\n",
       "                        [-1.1008, -0.3390,  0.7427,  1.2755],\n",
       "                        [ 0.4645, -1.2541, -0.1804, -0.9229],\n",
       "                        [-1.7030, -0.9680,  2.1924, -0.0436],\n",
       "                        [-1.1008, -0.3390,  0.7427,  1.2755],\n",
       "                        [ 0.4645, -1.2541, -0.1804, -0.9229],\n",
       "                        [-1.7030, -0.9680,  2.1924, -0.0436],\n",
       "                        [-1.1008, -0.3390,  0.7427,  1.2755],\n",
       "                        [ 0.4645, -1.2541, -0.1804, -0.9229],\n",
       "                        [-1.7030, -0.9680,  2.1924, -0.0436],\n",
       "                        [-1.1008, -0.3390,  0.7427,  1.2755]])"
      ]
     },
     "execution_count": 22,
     "metadata": {},
     "output_type": "execute_result"
    }
   ],
   "source": [
    "t_cat = FastTreeValue.func(subside=True)(torch.cat)\n",
    "\n",
    "t_cat(trees)"
   ]
  },
  {
   "cell_type": "code",
   "execution_count": 23,
   "id": "5e9c06a6",
   "metadata": {
    "execution": {
     "iopub.execute_input": "2023-02-26T15:43:01.588430Z",
     "iopub.status.busy": "2023-02-26T15:43:01.588112Z",
     "iopub.status.idle": "2023-02-26T15:43:04.973148Z",
     "shell.execute_reply": "2023-02-26T15:43:04.972077Z"
    }
   },
   "outputs": [
    {
     "name": "stdout",
     "output_type": "stream",
     "text": [
      "41.5 µs ± 113 ns per loop (mean ± std. dev. of 7 runs, 10,000 loops each)\n"
     ]
    }
   ],
   "source": [
    "%timeit t_cat(trees)"
   ]
  },
  {
   "cell_type": "code",
   "execution_count": 24,
   "id": "a3ab5c8f",
   "metadata": {
    "execution": {
     "iopub.execute_input": "2023-02-26T15:43:04.977370Z",
     "iopub.status.busy": "2023-02-26T15:43:04.976815Z",
     "iopub.status.idle": "2023-02-26T15:43:11.276265Z",
     "shell.execute_reply": "2023-02-26T15:43:11.275224Z"
    }
   },
   "outputs": [
    {
     "name": "stdout",
     "output_type": "stream",
     "text": [
      "77.4 µs ± 836 ns per loop (mean ± std. dev. of 7 runs, 10,000 loops each)\n"
     ]
    }
   ],
   "source": [
    "t_split = FastTreeValue.func(rise=True)(torch.split)\n",
    "tree = FastTreeValue({\n",
    "    'obs': torch.randn(8, 4, 84, 84),\n",
    "    'action': torch.randint(0, 6, size=(8, 1,)),\n",
    "    'reward': torch.rand(8, 1),\n",
    "})\n",
    "\n",
    "%timeit t_split(tree, 1)"
   ]
  },
  {
   "cell_type": "markdown",
   "id": "31c3ec0b",
   "metadata": {},
   "source": [
    "### Performance of Tianshou Batch"
   ]
  },
  {
   "cell_type": "code",
   "execution_count": 25,
   "id": "9ead828a",
   "metadata": {
    "execution": {
     "iopub.execute_input": "2023-02-26T15:43:11.279817Z",
     "iopub.status.busy": "2023-02-26T15:43:11.279357Z",
     "iopub.status.idle": "2023-02-26T15:43:11.289731Z",
     "shell.execute_reply": "2023-02-26T15:43:11.288826Z"
    }
   },
   "outputs": [
    {
     "data": {
      "text/plain": [
       "Batch(\n",
       "    a: tensor([[[ 0.9160, -1.1817, -0.2915],\n",
       "                [ 0.9803, -0.0697,  0.6740]],\n",
       "       \n",
       "               [[ 0.9160, -1.1817, -0.2915],\n",
       "                [ 0.9803, -0.0697,  0.6740]],\n",
       "       \n",
       "               [[ 0.9160, -1.1817, -0.2915],\n",
       "                [ 0.9803, -0.0697,  0.6740]],\n",
       "       \n",
       "               [[ 0.9160, -1.1817, -0.2915],\n",
       "                [ 0.9803, -0.0697,  0.6740]],\n",
       "       \n",
       "               [[ 0.9160, -1.1817, -0.2915],\n",
       "                [ 0.9803, -0.0697,  0.6740]],\n",
       "       \n",
       "               [[ 0.9160, -1.1817, -0.2915],\n",
       "                [ 0.9803, -0.0697,  0.6740]],\n",
       "       \n",
       "               [[ 0.9160, -1.1817, -0.2915],\n",
       "                [ 0.9803, -0.0697,  0.6740]],\n",
       "       \n",
       "               [[ 0.9160, -1.1817, -0.2915],\n",
       "                [ 0.9803, -0.0697,  0.6740]]]),\n",
       "    x: Batch(\n",
       "           c: tensor([[[ 0.4645, -1.2541, -0.1804, -0.9229],\n",
       "                       [-1.7030, -0.9680,  2.1924, -0.0436],\n",
       "                       [-1.1008, -0.3390,  0.7427,  1.2755]],\n",
       "              \n",
       "                      [[ 0.4645, -1.2541, -0.1804, -0.9229],\n",
       "                       [-1.7030, -0.9680,  2.1924, -0.0436],\n",
       "                       [-1.1008, -0.3390,  0.7427,  1.2755]],\n",
       "              \n",
       "                      [[ 0.4645, -1.2541, -0.1804, -0.9229],\n",
       "                       [-1.7030, -0.9680,  2.1924, -0.0436],\n",
       "                       [-1.1008, -0.3390,  0.7427,  1.2755]],\n",
       "              \n",
       "                      [[ 0.4645, -1.2541, -0.1804, -0.9229],\n",
       "                       [-1.7030, -0.9680,  2.1924, -0.0436],\n",
       "                       [-1.1008, -0.3390,  0.7427,  1.2755]],\n",
       "              \n",
       "                      [[ 0.4645, -1.2541, -0.1804, -0.9229],\n",
       "                       [-1.7030, -0.9680,  2.1924, -0.0436],\n",
       "                       [-1.1008, -0.3390,  0.7427,  1.2755]],\n",
       "              \n",
       "                      [[ 0.4645, -1.2541, -0.1804, -0.9229],\n",
       "                       [-1.7030, -0.9680,  2.1924, -0.0436],\n",
       "                       [-1.1008, -0.3390,  0.7427,  1.2755]],\n",
       "              \n",
       "                      [[ 0.4645, -1.2541, -0.1804, -0.9229],\n",
       "                       [-1.7030, -0.9680,  2.1924, -0.0436],\n",
       "                       [-1.1008, -0.3390,  0.7427,  1.2755]],\n",
       "              \n",
       "                      [[ 0.4645, -1.2541, -0.1804, -0.9229],\n",
       "                       [-1.7030, -0.9680,  2.1924, -0.0436],\n",
       "                       [-1.1008, -0.3390,  0.7427,  1.2755]]]),\n",
       "       ),\n",
       ")"
      ]
     },
     "execution_count": 25,
     "metadata": {},
     "output_type": "execute_result"
    }
   ],
   "source": [
    "batches = [Batch(**_TREE_DATA_2) for _ in range(8)]\n",
    "\n",
    "Batch.stack(batches)"
   ]
  },
  {
   "cell_type": "code",
   "execution_count": 26,
   "id": "ec9037a3",
   "metadata": {
    "execution": {
     "iopub.execute_input": "2023-02-26T15:43:11.293172Z",
     "iopub.status.busy": "2023-02-26T15:43:11.292704Z",
     "iopub.status.idle": "2023-02-26T15:43:19.621400Z",
     "shell.execute_reply": "2023-02-26T15:43:19.620317Z"
    }
   },
   "outputs": [
    {
     "name": "stdout",
     "output_type": "stream",
     "text": [
      "103 µs ± 1.2 µs per loop (mean ± std. dev. of 7 runs, 10,000 loops each)\n"
     ]
    }
   ],
   "source": [
    "%timeit Batch.stack(batches)"
   ]
  },
  {
   "cell_type": "code",
   "execution_count": 27,
   "id": "cb8ab77e",
   "metadata": {
    "execution": {
     "iopub.execute_input": "2023-02-26T15:43:19.625066Z",
     "iopub.status.busy": "2023-02-26T15:43:19.624589Z",
     "iopub.status.idle": "2023-02-26T15:43:19.635121Z",
     "shell.execute_reply": "2023-02-26T15:43:19.634192Z"
    }
   },
   "outputs": [
    {
     "data": {
      "text/plain": [
       "Batch(\n",
       "    a: tensor([[ 0.9160, -1.1817, -0.2915],\n",
       "               [ 0.9803, -0.0697,  0.6740],\n",
       "               [ 0.9160, -1.1817, -0.2915],\n",
       "               [ 0.9803, -0.0697,  0.6740],\n",
       "               [ 0.9160, -1.1817, -0.2915],\n",
       "               [ 0.9803, -0.0697,  0.6740],\n",
       "               [ 0.9160, -1.1817, -0.2915],\n",
       "               [ 0.9803, -0.0697,  0.6740],\n",
       "               [ 0.9160, -1.1817, -0.2915],\n",
       "               [ 0.9803, -0.0697,  0.6740],\n",
       "               [ 0.9160, -1.1817, -0.2915],\n",
       "               [ 0.9803, -0.0697,  0.6740],\n",
       "               [ 0.9160, -1.1817, -0.2915],\n",
       "               [ 0.9803, -0.0697,  0.6740],\n",
       "               [ 0.9160, -1.1817, -0.2915],\n",
       "               [ 0.9803, -0.0697,  0.6740]]),\n",
       "    x: Batch(\n",
       "           c: tensor([[ 0.4645, -1.2541, -0.1804, -0.9229],\n",
       "                      [-1.7030, -0.9680,  2.1924, -0.0436],\n",
       "                      [-1.1008, -0.3390,  0.7427,  1.2755],\n",
       "                      [ 0.4645, -1.2541, -0.1804, -0.9229],\n",
       "                      [-1.7030, -0.9680,  2.1924, -0.0436],\n",
       "                      [-1.1008, -0.3390,  0.7427,  1.2755],\n",
       "                      [ 0.4645, -1.2541, -0.1804, -0.9229],\n",
       "                      [-1.7030, -0.9680,  2.1924, -0.0436],\n",
       "                      [-1.1008, -0.3390,  0.7427,  1.2755],\n",
       "                      [ 0.4645, -1.2541, -0.1804, -0.9229],\n",
       "                      [-1.7030, -0.9680,  2.1924, -0.0436],\n",
       "                      [-1.1008, -0.3390,  0.7427,  1.2755],\n",
       "                      [ 0.4645, -1.2541, -0.1804, -0.9229],\n",
       "                      [-1.7030, -0.9680,  2.1924, -0.0436],\n",
       "                      [-1.1008, -0.3390,  0.7427,  1.2755],\n",
       "                      [ 0.4645, -1.2541, -0.1804, -0.9229],\n",
       "                      [-1.7030, -0.9680,  2.1924, -0.0436],\n",
       "                      [-1.1008, -0.3390,  0.7427,  1.2755],\n",
       "                      [ 0.4645, -1.2541, -0.1804, -0.9229],\n",
       "                      [-1.7030, -0.9680,  2.1924, -0.0436],\n",
       "                      [-1.1008, -0.3390,  0.7427,  1.2755],\n",
       "                      [ 0.4645, -1.2541, -0.1804, -0.9229],\n",
       "                      [-1.7030, -0.9680,  2.1924, -0.0436],\n",
       "                      [-1.1008, -0.3390,  0.7427,  1.2755]]),\n",
       "       ),\n",
       ")"
      ]
     },
     "execution_count": 27,
     "metadata": {},
     "output_type": "execute_result"
    }
   ],
   "source": [
    "Batch.cat(batches)"
   ]
  },
  {
   "cell_type": "code",
   "execution_count": 28,
   "id": "18dfb045",
   "metadata": {
    "execution": {
     "iopub.execute_input": "2023-02-26T15:43:19.638840Z",
     "iopub.status.busy": "2023-02-26T15:43:19.638084Z",
     "iopub.status.idle": "2023-02-26T15:43:34.818591Z",
     "shell.execute_reply": "2023-02-26T15:43:34.817484Z"
    }
   },
   "outputs": [
    {
     "name": "stdout",
     "output_type": "stream",
     "text": [
      "186 µs ± 2.54 µs per loop (mean ± std. dev. of 7 runs, 10,000 loops each)\n"
     ]
    }
   ],
   "source": [
    "%timeit Batch.cat(batches)"
   ]
  },
  {
   "cell_type": "code",
   "execution_count": 29,
   "id": "c6688e51",
   "metadata": {
    "execution": {
     "iopub.execute_input": "2023-02-26T15:43:34.822224Z",
     "iopub.status.busy": "2023-02-26T15:43:34.821919Z",
     "iopub.status.idle": "2023-02-26T15:43:39.343859Z",
     "shell.execute_reply": "2023-02-26T15:43:39.342781Z"
    }
   },
   "outputs": [
    {
     "name": "stdout",
     "output_type": "stream",
     "text": [
      "554 µs ± 9.03 µs per loop (mean ± std. dev. of 7 runs, 1,000 loops each)\n"
     ]
    }
   ],
   "source": [
    "batch = Batch({\n",
    "    'obs': torch.randn(8, 4, 84, 84),\n",
    "    'action': torch.randint(0, 6, size=(8, 1,)),\n",
    "    'reward': torch.rand(8, 1)}\n",
    ")\n",
    "\n",
    "%timeit list(Batch.split(batch, 1, shuffle=False, merge_last=True))"
   ]
  },
  {
   "cell_type": "code",
   "execution_count": null,
   "id": "2539fbd9",
   "metadata": {},
   "outputs": [],
   "source": []
  }
 ],
 "metadata": {
  "kernelspec": {
   "display_name": "Python 3 (ipykernel)",
   "language": "python",
   "name": "python3"
  },
  "language_info": {
   "codemirror_mode": {
    "name": "ipython",
    "version": 3
   },
   "file_extension": ".py",
   "mimetype": "text/x-python",
   "name": "python",
   "nbconvert_exporter": "python",
   "pygments_lexer": "ipython3",
   "version": "3.8.16"
  }
 },
 "nbformat": 4,
 "nbformat_minor": 5
}
