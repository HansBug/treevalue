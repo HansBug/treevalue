{
 "cells": [
  {
   "cell_type": "markdown",
   "id": "9d39d946",
   "metadata": {},
   "source": [
    "# Comparison Between TreeValue and Tianshou Batch"
   ]
  },
  {
   "cell_type": "markdown",
   "id": "3c6db2d4",
   "metadata": {},
   "source": [
    "In this section, we will take a look at the feature and performance of the [Tianshou Batch](https://github.com/thu-ml/tianshou) library, which is developed by Tsinghua Machine Learning Group."
   ]
  },
  {
   "cell_type": "markdown",
   "id": "069361b0",
   "metadata": {},
   "source": [
    "Before starting the comparison, let us define some thing."
   ]
  },
  {
   "cell_type": "code",
   "execution_count": 1,
   "id": "06fc8d26",
   "metadata": {
    "execution": {
     "iopub.execute_input": "2023-02-26T16:37:54.972610Z",
     "iopub.status.busy": "2023-02-26T16:37:54.972159Z",
     "iopub.status.idle": "2023-02-26T16:37:55.944400Z",
     "shell.execute_reply": "2023-02-26T16:37:55.943129Z"
    }
   },
   "outputs": [
    {
     "name": "stderr",
     "output_type": "stream",
     "text": [
      "/opt/hostedtoolcache/Python/3.8.16/x64/lib/python3.8/site-packages/tqdm/auto.py:22: TqdmWarning: IProgress not found. Please update jupyter and ipywidgets. See https://ipywidgets.readthedocs.io/en/stable/user_install.html\n",
      "  from .autonotebook import tqdm as notebook_tqdm\n"
     ]
    }
   ],
   "source": [
    "import torch \n",
    "\n",
    "_TREE_DATA_1 = {'a': 1, 'b': 2, 'x': {'c': 3, 'd': 4}}\n",
    "_TREE_DATA_2 = {\n",
    "    'a': torch.randn(2, 3), \n",
    "    'x': {\n",
    "        'c': torch.randn(3, 4)\n",
    "    },\n",
    "}\n",
    "_TREE_DATA_3 = {\n",
    "    'obs': torch.randn(4, 84, 84),\n",
    "    'action': torch.randint(0, 6, size=(1,)),\n",
    "    'reward': torch.rand(1),\n",
    "}"
   ]
  },
  {
   "cell_type": "markdown",
   "id": "83461b25",
   "metadata": {},
   "source": [
    "## Read and Write Operation"
   ]
  },
  {
   "cell_type": "markdown",
   "id": "067b3f73",
   "metadata": {},
   "source": [
    "Reading and writing are the two most common operations in the tree data structure based on the data model (TreeValue and Tianshou Batch both belong to this type), so this section will compare the reading and writing performance of these two libraries."
   ]
  },
  {
   "cell_type": "markdown",
   "id": "5d09a5b7",
   "metadata": {},
   "source": [
    "### TreeValue's Get and Set"
   ]
  },
  {
   "cell_type": "code",
   "execution_count": 2,
   "id": "9519c4bb",
   "metadata": {
    "execution": {
     "iopub.execute_input": "2023-02-26T16:37:55.948079Z",
     "iopub.status.busy": "2023-02-26T16:37:55.947538Z",
     "iopub.status.idle": "2023-02-26T16:37:56.234149Z",
     "shell.execute_reply": "2023-02-26T16:37:56.233099Z"
    }
   },
   "outputs": [],
   "source": [
    "from treevalue import FastTreeValue\n",
    "\n",
    "t = FastTreeValue(_TREE_DATA_2)"
   ]
  },
  {
   "cell_type": "code",
   "execution_count": 3,
   "id": "11c37677",
   "metadata": {
    "execution": {
     "iopub.execute_input": "2023-02-26T16:37:56.238047Z",
     "iopub.status.busy": "2023-02-26T16:37:56.237309Z",
     "iopub.status.idle": "2023-02-26T16:37:56.246287Z",
     "shell.execute_reply": "2023-02-26T16:37:56.245589Z"
    }
   },
   "outputs": [
    {
     "data": {
      "text/plain": [
       "<FastTreeValue 0x7f3cf4a57ac0>\n",
       "├── 'a' --> tensor([[-0.9329, -0.4810,  0.6070],\n",
       "│                   [ 0.1704,  1.1519,  3.1323]])\n",
       "└── 'x' --> <FastTreeValue 0x7f3cf4a57a00>\n",
       "    └── 'c' --> tensor([[-1.4001,  0.1970, -0.5024, -0.7657],\n",
       "                        [-0.3456, -0.2996, -0.2605,  1.3872],\n",
       "                        [ 0.3903, -0.8025,  2.3905,  0.5628]])"
      ]
     },
     "execution_count": 3,
     "metadata": {},
     "output_type": "execute_result"
    }
   ],
   "source": [
    "t"
   ]
  },
  {
   "cell_type": "code",
   "execution_count": 4,
   "id": "fd70b0b9",
   "metadata": {
    "execution": {
     "iopub.execute_input": "2023-02-26T16:37:56.249172Z",
     "iopub.status.busy": "2023-02-26T16:37:56.248641Z",
     "iopub.status.idle": "2023-02-26T16:37:56.253503Z",
     "shell.execute_reply": "2023-02-26T16:37:56.252848Z"
    }
   },
   "outputs": [
    {
     "data": {
      "text/plain": [
       "tensor([[-0.9329, -0.4810,  0.6070],\n",
       "        [ 0.1704,  1.1519,  3.1323]])"
      ]
     },
     "execution_count": 4,
     "metadata": {},
     "output_type": "execute_result"
    }
   ],
   "source": [
    "t.a"
   ]
  },
  {
   "cell_type": "code",
   "execution_count": 5,
   "id": "c18197bd",
   "metadata": {
    "execution": {
     "iopub.execute_input": "2023-02-26T16:37:56.255933Z",
     "iopub.status.busy": "2023-02-26T16:37:56.255575Z",
     "iopub.status.idle": "2023-02-26T16:38:01.792972Z",
     "shell.execute_reply": "2023-02-26T16:38:01.792095Z"
    }
   },
   "outputs": [
    {
     "name": "stdout",
     "output_type": "stream",
     "text": [
      "68.2 ns ± 0.137 ns per loop (mean ± std. dev. of 7 runs, 10,000,000 loops each)\n"
     ]
    }
   ],
   "source": [
    "%timeit t.a"
   ]
  },
  {
   "cell_type": "code",
   "execution_count": 6,
   "id": "bd52f867",
   "metadata": {
    "execution": {
     "iopub.execute_input": "2023-02-26T16:38:01.796822Z",
     "iopub.status.busy": "2023-02-26T16:38:01.796230Z",
     "iopub.status.idle": "2023-02-26T16:38:01.803462Z",
     "shell.execute_reply": "2023-02-26T16:38:01.802828Z"
    }
   },
   "outputs": [
    {
     "data": {
      "text/plain": [
       "<FastTreeValue 0x7f3cf4a57ac0>\n",
       "├── 'a' --> tensor([[ 0.9291, -1.7234,  0.1724],\n",
       "│                   [ 0.3041, -2.4371,  0.3057]])\n",
       "└── 'x' --> <FastTreeValue 0x7f3cf4a57a00>\n",
       "    └── 'c' --> tensor([[-1.4001,  0.1970, -0.5024, -0.7657],\n",
       "                        [-0.3456, -0.2996, -0.2605,  1.3872],\n",
       "                        [ 0.3903, -0.8025,  2.3905,  0.5628]])"
      ]
     },
     "execution_count": 6,
     "metadata": {},
     "output_type": "execute_result"
    }
   ],
   "source": [
    "new_value = torch.randn(2, 3)\n",
    "t.a = new_value\n",
    "\n",
    "t"
   ]
  },
  {
   "cell_type": "code",
   "execution_count": 7,
   "id": "bbe04d1c",
   "metadata": {
    "execution": {
     "iopub.execute_input": "2023-02-26T16:38:01.806350Z",
     "iopub.status.busy": "2023-02-26T16:38:01.805915Z",
     "iopub.status.idle": "2023-02-26T16:38:07.568574Z",
     "shell.execute_reply": "2023-02-26T16:38:07.567676Z"
    }
   },
   "outputs": [
    {
     "name": "stdout",
     "output_type": "stream",
     "text": [
      "70.9 ns ± 0.2 ns per loop (mean ± std. dev. of 7 runs, 10,000,000 loops each)\n"
     ]
    }
   ],
   "source": [
    "%timeit t.a = new_value"
   ]
  },
  {
   "cell_type": "markdown",
   "id": "48c49731",
   "metadata": {},
   "source": [
    "### Tianshou Batch's Get and Set"
   ]
  },
  {
   "cell_type": "code",
   "execution_count": 8,
   "id": "f1bb14c1",
   "metadata": {
    "execution": {
     "iopub.execute_input": "2023-02-26T16:38:07.572162Z",
     "iopub.status.busy": "2023-02-26T16:38:07.571759Z",
     "iopub.status.idle": "2023-02-26T16:38:07.927984Z",
     "shell.execute_reply": "2023-02-26T16:38:07.927221Z"
    }
   },
   "outputs": [],
   "source": [
    "from tianshou.data import Batch\n",
    "\n",
    "b = Batch(**_TREE_DATA_2)"
   ]
  },
  {
   "cell_type": "code",
   "execution_count": 9,
   "id": "cb0777c3",
   "metadata": {
    "execution": {
     "iopub.execute_input": "2023-02-26T16:38:07.931473Z",
     "iopub.status.busy": "2023-02-26T16:38:07.930971Z",
     "iopub.status.idle": "2023-02-26T16:38:07.937521Z",
     "shell.execute_reply": "2023-02-26T16:38:07.936916Z"
    }
   },
   "outputs": [
    {
     "data": {
      "text/plain": [
       "Batch(\n",
       "    a: tensor([[-0.9329, -0.4810,  0.6070],\n",
       "               [ 0.1704,  1.1519,  3.1323]]),\n",
       "    x: Batch(\n",
       "           c: tensor([[-1.4001,  0.1970, -0.5024, -0.7657],\n",
       "                      [-0.3456, -0.2996, -0.2605,  1.3872],\n",
       "                      [ 0.3903, -0.8025,  2.3905,  0.5628]]),\n",
       "       ),\n",
       ")"
      ]
     },
     "execution_count": 9,
     "metadata": {},
     "output_type": "execute_result"
    }
   ],
   "source": [
    "b"
   ]
  },
  {
   "cell_type": "code",
   "execution_count": 10,
   "id": "43ef8ea3",
   "metadata": {
    "execution": {
     "iopub.execute_input": "2023-02-26T16:38:07.940756Z",
     "iopub.status.busy": "2023-02-26T16:38:07.940125Z",
     "iopub.status.idle": "2023-02-26T16:38:07.945658Z",
     "shell.execute_reply": "2023-02-26T16:38:07.945050Z"
    }
   },
   "outputs": [
    {
     "data": {
      "text/plain": [
       "tensor([[-0.9329, -0.4810,  0.6070],\n",
       "        [ 0.1704,  1.1519,  3.1323]])"
      ]
     },
     "execution_count": 10,
     "metadata": {},
     "output_type": "execute_result"
    }
   ],
   "source": [
    "b.a"
   ]
  },
  {
   "cell_type": "code",
   "execution_count": 11,
   "id": "b785ab72",
   "metadata": {
    "execution": {
     "iopub.execute_input": "2023-02-26T16:38:07.948266Z",
     "iopub.status.busy": "2023-02-26T16:38:07.947839Z",
     "iopub.status.idle": "2023-02-26T16:38:12.672901Z",
     "shell.execute_reply": "2023-02-26T16:38:12.672013Z"
    }
   },
   "outputs": [
    {
     "name": "stdout",
     "output_type": "stream",
     "text": [
      "57.9 ns ± 0.0424 ns per loop (mean ± std. dev. of 7 runs, 10,000,000 loops each)\n"
     ]
    }
   ],
   "source": [
    "%timeit b.a"
   ]
  },
  {
   "cell_type": "code",
   "execution_count": 12,
   "id": "ad54dc69",
   "metadata": {
    "execution": {
     "iopub.execute_input": "2023-02-26T16:38:12.676204Z",
     "iopub.status.busy": "2023-02-26T16:38:12.675704Z",
     "iopub.status.idle": "2023-02-26T16:38:12.682095Z",
     "shell.execute_reply": "2023-02-26T16:38:12.681405Z"
    }
   },
   "outputs": [
    {
     "data": {
      "text/plain": [
       "Batch(\n",
       "    a: tensor([[-0.2060,  1.4861, -0.6563],\n",
       "               [-0.6341, -0.8948, -0.6944]]),\n",
       "    x: Batch(\n",
       "           c: tensor([[-1.4001,  0.1970, -0.5024, -0.7657],\n",
       "                      [-0.3456, -0.2996, -0.2605,  1.3872],\n",
       "                      [ 0.3903, -0.8025,  2.3905,  0.5628]]),\n",
       "       ),\n",
       ")"
      ]
     },
     "execution_count": 12,
     "metadata": {},
     "output_type": "execute_result"
    }
   ],
   "source": [
    "new_value = torch.randn(2, 3)\n",
    "b.a = new_value\n",
    "\n",
    "b"
   ]
  },
  {
   "cell_type": "code",
   "execution_count": 13,
   "id": "29b1d0bf",
   "metadata": {
    "execution": {
     "iopub.execute_input": "2023-02-26T16:38:12.685047Z",
     "iopub.status.busy": "2023-02-26T16:38:12.684610Z",
     "iopub.status.idle": "2023-02-26T16:38:16.657875Z",
     "shell.execute_reply": "2023-02-26T16:38:16.657043Z"
    }
   },
   "outputs": [
    {
     "name": "stdout",
     "output_type": "stream",
     "text": [
      "489 ns ± 0.133 ns per loop (mean ± std. dev. of 7 runs, 1,000,000 loops each)\n"
     ]
    }
   ],
   "source": [
    "%timeit b.a = new_value"
   ]
  },
  {
   "cell_type": "markdown",
   "id": "b61ad1d0",
   "metadata": {},
   "source": [
    "## Initialization"
   ]
  },
  {
   "cell_type": "markdown",
   "id": "d70f0d54",
   "metadata": {},
   "source": [
    "### TreeValue's Initialization"
   ]
  },
  {
   "cell_type": "code",
   "execution_count": 14,
   "id": "d32a679b",
   "metadata": {
    "execution": {
     "iopub.execute_input": "2023-02-26T16:38:16.661894Z",
     "iopub.status.busy": "2023-02-26T16:38:16.661305Z",
     "iopub.status.idle": "2023-02-26T16:38:23.458312Z",
     "shell.execute_reply": "2023-02-26T16:38:23.457416Z"
    }
   },
   "outputs": [
    {
     "name": "stdout",
     "output_type": "stream",
     "text": [
      "834 ns ± 8.98 ns per loop (mean ± std. dev. of 7 runs, 1,000,000 loops each)\n"
     ]
    }
   ],
   "source": [
    "%timeit FastTreeValue(_TREE_DATA_1)"
   ]
  },
  {
   "cell_type": "markdown",
   "id": "24f3707b",
   "metadata": {},
   "source": [
    "### Tianshou Batch's Initialization"
   ]
  },
  {
   "cell_type": "code",
   "execution_count": 15,
   "id": "ac3958df",
   "metadata": {
    "execution": {
     "iopub.execute_input": "2023-02-26T16:38:23.461827Z",
     "iopub.status.busy": "2023-02-26T16:38:23.461196Z",
     "iopub.status.idle": "2023-02-26T16:38:32.224396Z",
     "shell.execute_reply": "2023-02-26T16:38:32.223549Z"
    }
   },
   "outputs": [
    {
     "name": "stdout",
     "output_type": "stream",
     "text": [
      "10.8 µs ± 36.7 ns per loop (mean ± std. dev. of 7 runs, 100,000 loops each)\n"
     ]
    }
   ],
   "source": [
    "%timeit Batch(**_TREE_DATA_1)"
   ]
  },
  {
   "cell_type": "markdown",
   "id": "1ab82e2d",
   "metadata": {},
   "source": [
    "## Deep Copy Operation"
   ]
  },
  {
   "cell_type": "code",
   "execution_count": 16,
   "id": "210a9442",
   "metadata": {
    "execution": {
     "iopub.execute_input": "2023-02-26T16:38:32.227602Z",
     "iopub.status.busy": "2023-02-26T16:38:32.227354Z",
     "iopub.status.idle": "2023-02-26T16:38:32.231029Z",
     "shell.execute_reply": "2023-02-26T16:38:32.230346Z"
    }
   },
   "outputs": [],
   "source": [
    "import copy"
   ]
  },
  {
   "cell_type": "markdown",
   "id": "5a736274",
   "metadata": {},
   "source": [
    "### Deep Copy of TreeValue"
   ]
  },
  {
   "cell_type": "code",
   "execution_count": 17,
   "id": "f9bcadd6",
   "metadata": {
    "execution": {
     "iopub.execute_input": "2023-02-26T16:38:32.233758Z",
     "iopub.status.busy": "2023-02-26T16:38:32.233510Z",
     "iopub.status.idle": "2023-02-26T16:38:43.758202Z",
     "shell.execute_reply": "2023-02-26T16:38:43.757550Z"
    }
   },
   "outputs": [
    {
     "name": "stdout",
     "output_type": "stream",
     "text": [
      "142 µs ± 186 ns per loop (mean ± std. dev. of 7 runs, 10,000 loops each)\n"
     ]
    }
   ],
   "source": [
    "t3 = FastTreeValue(_TREE_DATA_3)\n",
    "%timeit copy.deepcopy(t3)"
   ]
  },
  {
   "cell_type": "markdown",
   "id": "bf8be7ea",
   "metadata": {},
   "source": [
    "### Deep Copy of Tianshou Batch"
   ]
  },
  {
   "cell_type": "code",
   "execution_count": 18,
   "id": "91998e6f",
   "metadata": {
    "execution": {
     "iopub.execute_input": "2023-02-26T16:38:43.761703Z",
     "iopub.status.busy": "2023-02-26T16:38:43.761028Z",
     "iopub.status.idle": "2023-02-26T16:38:55.391792Z",
     "shell.execute_reply": "2023-02-26T16:38:55.391109Z"
    }
   },
   "outputs": [
    {
     "name": "stdout",
     "output_type": "stream",
     "text": [
      "143 µs ± 624 ns per loop (mean ± std. dev. of 7 runs, 10,000 loops each)\n"
     ]
    }
   ],
   "source": [
    "b3 = Batch(**_TREE_DATA_3)\n",
    "%timeit copy.deepcopy(b3)"
   ]
  },
  {
   "cell_type": "markdown",
   "id": "223162fb",
   "metadata": {},
   "source": [
    "## Stack, Concat and Split Operation"
   ]
  },
  {
   "cell_type": "markdown",
   "id": "85fa4a73",
   "metadata": {},
   "source": [
    "### Performance of TreeValue"
   ]
  },
  {
   "cell_type": "code",
   "execution_count": 19,
   "id": "a0c2b697",
   "metadata": {
    "execution": {
     "iopub.execute_input": "2023-02-26T16:38:55.394950Z",
     "iopub.status.busy": "2023-02-26T16:38:55.394530Z",
     "iopub.status.idle": "2023-02-26T16:38:55.398069Z",
     "shell.execute_reply": "2023-02-26T16:38:55.397263Z"
    }
   },
   "outputs": [],
   "source": [
    "trees = [FastTreeValue(_TREE_DATA_2) for _ in range(8)]"
   ]
  },
  {
   "cell_type": "code",
   "execution_count": 20,
   "id": "017ea5a5",
   "metadata": {
    "execution": {
     "iopub.execute_input": "2023-02-26T16:38:55.400937Z",
     "iopub.status.busy": "2023-02-26T16:38:55.400474Z",
     "iopub.status.idle": "2023-02-26T16:38:55.408029Z",
     "shell.execute_reply": "2023-02-26T16:38:55.407346Z"
    }
   },
   "outputs": [
    {
     "data": {
      "text/plain": [
       "<FastTreeValue 0x7f3c4694cf70>\n",
       "├── 'a' --> tensor([[[-0.9329, -0.4810,  0.6070],\n",
       "│                    [ 0.1704,  1.1519,  3.1323]],\n",
       "│           \n",
       "│                   [[-0.9329, -0.4810,  0.6070],\n",
       "│                    [ 0.1704,  1.1519,  3.1323]],\n",
       "│           \n",
       "│                   [[-0.9329, -0.4810,  0.6070],\n",
       "│                    [ 0.1704,  1.1519,  3.1323]],\n",
       "│           \n",
       "│                   [[-0.9329, -0.4810,  0.6070],\n",
       "│                    [ 0.1704,  1.1519,  3.1323]],\n",
       "│           \n",
       "│                   [[-0.9329, -0.4810,  0.6070],\n",
       "│                    [ 0.1704,  1.1519,  3.1323]],\n",
       "│           \n",
       "│                   [[-0.9329, -0.4810,  0.6070],\n",
       "│                    [ 0.1704,  1.1519,  3.1323]],\n",
       "│           \n",
       "│                   [[-0.9329, -0.4810,  0.6070],\n",
       "│                    [ 0.1704,  1.1519,  3.1323]],\n",
       "│           \n",
       "│                   [[-0.9329, -0.4810,  0.6070],\n",
       "│                    [ 0.1704,  1.1519,  3.1323]]])\n",
       "└── 'x' --> <FastTreeValue 0x7f3c4694cbe0>\n",
       "    └── 'c' --> tensor([[[-1.4001,  0.1970, -0.5024, -0.7657],\n",
       "                         [-0.3456, -0.2996, -0.2605,  1.3872],\n",
       "                         [ 0.3903, -0.8025,  2.3905,  0.5628]],\n",
       "                \n",
       "                        [[-1.4001,  0.1970, -0.5024, -0.7657],\n",
       "                         [-0.3456, -0.2996, -0.2605,  1.3872],\n",
       "                         [ 0.3903, -0.8025,  2.3905,  0.5628]],\n",
       "                \n",
       "                        [[-1.4001,  0.1970, -0.5024, -0.7657],\n",
       "                         [-0.3456, -0.2996, -0.2605,  1.3872],\n",
       "                         [ 0.3903, -0.8025,  2.3905,  0.5628]],\n",
       "                \n",
       "                        [[-1.4001,  0.1970, -0.5024, -0.7657],\n",
       "                         [-0.3456, -0.2996, -0.2605,  1.3872],\n",
       "                         [ 0.3903, -0.8025,  2.3905,  0.5628]],\n",
       "                \n",
       "                        [[-1.4001,  0.1970, -0.5024, -0.7657],\n",
       "                         [-0.3456, -0.2996, -0.2605,  1.3872],\n",
       "                         [ 0.3903, -0.8025,  2.3905,  0.5628]],\n",
       "                \n",
       "                        [[-1.4001,  0.1970, -0.5024, -0.7657],\n",
       "                         [-0.3456, -0.2996, -0.2605,  1.3872],\n",
       "                         [ 0.3903, -0.8025,  2.3905,  0.5628]],\n",
       "                \n",
       "                        [[-1.4001,  0.1970, -0.5024, -0.7657],\n",
       "                         [-0.3456, -0.2996, -0.2605,  1.3872],\n",
       "                         [ 0.3903, -0.8025,  2.3905,  0.5628]],\n",
       "                \n",
       "                        [[-1.4001,  0.1970, -0.5024, -0.7657],\n",
       "                         [-0.3456, -0.2996, -0.2605,  1.3872],\n",
       "                         [ 0.3903, -0.8025,  2.3905,  0.5628]]])"
      ]
     },
     "execution_count": 20,
     "metadata": {},
     "output_type": "execute_result"
    }
   ],
   "source": [
    "t_stack = FastTreeValue.func(subside=True)(torch.stack)\n",
    "\n",
    "t_stack(trees)"
   ]
  },
  {
   "cell_type": "code",
   "execution_count": 21,
   "id": "f8b3f415",
   "metadata": {
    "execution": {
     "iopub.execute_input": "2023-02-26T16:38:55.410901Z",
     "iopub.status.busy": "2023-02-26T16:38:55.410353Z",
     "iopub.status.idle": "2023-02-26T16:38:58.002485Z",
     "shell.execute_reply": "2023-02-26T16:38:58.001600Z"
    }
   },
   "outputs": [
    {
     "name": "stdout",
     "output_type": "stream",
     "text": [
      "31.9 µs ± 80.8 ns per loop (mean ± std. dev. of 7 runs, 10,000 loops each)\n"
     ]
    }
   ],
   "source": [
    "%timeit t_stack(trees)"
   ]
  },
  {
   "cell_type": "code",
   "execution_count": 22,
   "id": "94b56771",
   "metadata": {
    "execution": {
     "iopub.execute_input": "2023-02-26T16:38:58.005804Z",
     "iopub.status.busy": "2023-02-26T16:38:58.005215Z",
     "iopub.status.idle": "2023-02-26T16:38:58.013321Z",
     "shell.execute_reply": "2023-02-26T16:38:58.012710Z"
    }
   },
   "outputs": [
    {
     "data": {
      "text/plain": [
       "<FastTreeValue 0x7f3c3fd5a970>\n",
       "├── 'a' --> tensor([[-0.9329, -0.4810,  0.6070],\n",
       "│                   [ 0.1704,  1.1519,  3.1323],\n",
       "│                   [-0.9329, -0.4810,  0.6070],\n",
       "│                   [ 0.1704,  1.1519,  3.1323],\n",
       "│                   [-0.9329, -0.4810,  0.6070],\n",
       "│                   [ 0.1704,  1.1519,  3.1323],\n",
       "│                   [-0.9329, -0.4810,  0.6070],\n",
       "│                   [ 0.1704,  1.1519,  3.1323],\n",
       "│                   [-0.9329, -0.4810,  0.6070],\n",
       "│                   [ 0.1704,  1.1519,  3.1323],\n",
       "│                   [-0.9329, -0.4810,  0.6070],\n",
       "│                   [ 0.1704,  1.1519,  3.1323],\n",
       "│                   [-0.9329, -0.4810,  0.6070],\n",
       "│                   [ 0.1704,  1.1519,  3.1323],\n",
       "│                   [-0.9329, -0.4810,  0.6070],\n",
       "│                   [ 0.1704,  1.1519,  3.1323]])\n",
       "└── 'x' --> <FastTreeValue 0x7f3c3fd5aee0>\n",
       "    └── 'c' --> tensor([[-1.4001,  0.1970, -0.5024, -0.7657],\n",
       "                        [-0.3456, -0.2996, -0.2605,  1.3872],\n",
       "                        [ 0.3903, -0.8025,  2.3905,  0.5628],\n",
       "                        [-1.4001,  0.1970, -0.5024, -0.7657],\n",
       "                        [-0.3456, -0.2996, -0.2605,  1.3872],\n",
       "                        [ 0.3903, -0.8025,  2.3905,  0.5628],\n",
       "                        [-1.4001,  0.1970, -0.5024, -0.7657],\n",
       "                        [-0.3456, -0.2996, -0.2605,  1.3872],\n",
       "                        [ 0.3903, -0.8025,  2.3905,  0.5628],\n",
       "                        [-1.4001,  0.1970, -0.5024, -0.7657],\n",
       "                        [-0.3456, -0.2996, -0.2605,  1.3872],\n",
       "                        [ 0.3903, -0.8025,  2.3905,  0.5628],\n",
       "                        [-1.4001,  0.1970, -0.5024, -0.7657],\n",
       "                        [-0.3456, -0.2996, -0.2605,  1.3872],\n",
       "                        [ 0.3903, -0.8025,  2.3905,  0.5628],\n",
       "                        [-1.4001,  0.1970, -0.5024, -0.7657],\n",
       "                        [-0.3456, -0.2996, -0.2605,  1.3872],\n",
       "                        [ 0.3903, -0.8025,  2.3905,  0.5628],\n",
       "                        [-1.4001,  0.1970, -0.5024, -0.7657],\n",
       "                        [-0.3456, -0.2996, -0.2605,  1.3872],\n",
       "                        [ 0.3903, -0.8025,  2.3905,  0.5628],\n",
       "                        [-1.4001,  0.1970, -0.5024, -0.7657],\n",
       "                        [-0.3456, -0.2996, -0.2605,  1.3872],\n",
       "                        [ 0.3903, -0.8025,  2.3905,  0.5628]])"
      ]
     },
     "execution_count": 22,
     "metadata": {},
     "output_type": "execute_result"
    }
   ],
   "source": [
    "t_cat = FastTreeValue.func(subside=True)(torch.cat)\n",
    "\n",
    "t_cat(trees)"
   ]
  },
  {
   "cell_type": "code",
   "execution_count": 23,
   "id": "5e9c06a6",
   "metadata": {
    "execution": {
     "iopub.execute_input": "2023-02-26T16:38:58.016223Z",
     "iopub.status.busy": "2023-02-26T16:38:58.015800Z",
     "iopub.status.idle": "2023-02-26T16:39:00.431011Z",
     "shell.execute_reply": "2023-02-26T16:39:00.430195Z"
    }
   },
   "outputs": [
    {
     "name": "stdout",
     "output_type": "stream",
     "text": [
      "29.7 µs ± 130 ns per loop (mean ± std. dev. of 7 runs, 10,000 loops each)\n"
     ]
    }
   ],
   "source": [
    "%timeit t_cat(trees)"
   ]
  },
  {
   "cell_type": "code",
   "execution_count": 24,
   "id": "a3ab5c8f",
   "metadata": {
    "execution": {
     "iopub.execute_input": "2023-02-26T16:39:00.434846Z",
     "iopub.status.busy": "2023-02-26T16:39:00.434236Z",
     "iopub.status.idle": "2023-02-26T16:39:05.035877Z",
     "shell.execute_reply": "2023-02-26T16:39:05.034787Z"
    }
   },
   "outputs": [
    {
     "name": "stdout",
     "output_type": "stream",
     "text": [
      "56.6 µs ± 124 ns per loop (mean ± std. dev. of 7 runs, 10,000 loops each)\n"
     ]
    }
   ],
   "source": [
    "t_split = FastTreeValue.func(rise=True)(torch.split)\n",
    "tree = FastTreeValue({\n",
    "    'obs': torch.randn(8, 4, 84, 84),\n",
    "    'action': torch.randint(0, 6, size=(8, 1,)),\n",
    "    'reward': torch.rand(8, 1),\n",
    "})\n",
    "\n",
    "%timeit t_split(tree, 1)"
   ]
  },
  {
   "cell_type": "markdown",
   "id": "31c3ec0b",
   "metadata": {},
   "source": [
    "### Performance of Tianshou Batch"
   ]
  },
  {
   "cell_type": "code",
   "execution_count": 25,
   "id": "9ead828a",
   "metadata": {
    "execution": {
     "iopub.execute_input": "2023-02-26T16:39:05.039136Z",
     "iopub.status.busy": "2023-02-26T16:39:05.038629Z",
     "iopub.status.idle": "2023-02-26T16:39:05.047227Z",
     "shell.execute_reply": "2023-02-26T16:39:05.046582Z"
    }
   },
   "outputs": [
    {
     "data": {
      "text/plain": [
       "Batch(\n",
       "    x: Batch(\n",
       "           c: tensor([[[-1.4001,  0.1970, -0.5024, -0.7657],\n",
       "                       [-0.3456, -0.2996, -0.2605,  1.3872],\n",
       "                       [ 0.3903, -0.8025,  2.3905,  0.5628]],\n",
       "              \n",
       "                      [[-1.4001,  0.1970, -0.5024, -0.7657],\n",
       "                       [-0.3456, -0.2996, -0.2605,  1.3872],\n",
       "                       [ 0.3903, -0.8025,  2.3905,  0.5628]],\n",
       "              \n",
       "                      [[-1.4001,  0.1970, -0.5024, -0.7657],\n",
       "                       [-0.3456, -0.2996, -0.2605,  1.3872],\n",
       "                       [ 0.3903, -0.8025,  2.3905,  0.5628]],\n",
       "              \n",
       "                      [[-1.4001,  0.1970, -0.5024, -0.7657],\n",
       "                       [-0.3456, -0.2996, -0.2605,  1.3872],\n",
       "                       [ 0.3903, -0.8025,  2.3905,  0.5628]],\n",
       "              \n",
       "                      [[-1.4001,  0.1970, -0.5024, -0.7657],\n",
       "                       [-0.3456, -0.2996, -0.2605,  1.3872],\n",
       "                       [ 0.3903, -0.8025,  2.3905,  0.5628]],\n",
       "              \n",
       "                      [[-1.4001,  0.1970, -0.5024, -0.7657],\n",
       "                       [-0.3456, -0.2996, -0.2605,  1.3872],\n",
       "                       [ 0.3903, -0.8025,  2.3905,  0.5628]],\n",
       "              \n",
       "                      [[-1.4001,  0.1970, -0.5024, -0.7657],\n",
       "                       [-0.3456, -0.2996, -0.2605,  1.3872],\n",
       "                       [ 0.3903, -0.8025,  2.3905,  0.5628]],\n",
       "              \n",
       "                      [[-1.4001,  0.1970, -0.5024, -0.7657],\n",
       "                       [-0.3456, -0.2996, -0.2605,  1.3872],\n",
       "                       [ 0.3903, -0.8025,  2.3905,  0.5628]]]),\n",
       "       ),\n",
       "    a: tensor([[[-0.9329, -0.4810,  0.6070],\n",
       "                [ 0.1704,  1.1519,  3.1323]],\n",
       "       \n",
       "               [[-0.9329, -0.4810,  0.6070],\n",
       "                [ 0.1704,  1.1519,  3.1323]],\n",
       "       \n",
       "               [[-0.9329, -0.4810,  0.6070],\n",
       "                [ 0.1704,  1.1519,  3.1323]],\n",
       "       \n",
       "               [[-0.9329, -0.4810,  0.6070],\n",
       "                [ 0.1704,  1.1519,  3.1323]],\n",
       "       \n",
       "               [[-0.9329, -0.4810,  0.6070],\n",
       "                [ 0.1704,  1.1519,  3.1323]],\n",
       "       \n",
       "               [[-0.9329, -0.4810,  0.6070],\n",
       "                [ 0.1704,  1.1519,  3.1323]],\n",
       "       \n",
       "               [[-0.9329, -0.4810,  0.6070],\n",
       "                [ 0.1704,  1.1519,  3.1323]],\n",
       "       \n",
       "               [[-0.9329, -0.4810,  0.6070],\n",
       "                [ 0.1704,  1.1519,  3.1323]]]),\n",
       ")"
      ]
     },
     "execution_count": 25,
     "metadata": {},
     "output_type": "execute_result"
    }
   ],
   "source": [
    "batches = [Batch(**_TREE_DATA_2) for _ in range(8)]\n",
    "\n",
    "Batch.stack(batches)"
   ]
  },
  {
   "cell_type": "code",
   "execution_count": 26,
   "id": "ec9037a3",
   "metadata": {
    "execution": {
     "iopub.execute_input": "2023-02-26T16:39:05.050520Z",
     "iopub.status.busy": "2023-02-26T16:39:05.049908Z",
     "iopub.status.idle": "2023-02-26T16:39:11.380904Z",
     "shell.execute_reply": "2023-02-26T16:39:11.380005Z"
    }
   },
   "outputs": [
    {
     "name": "stdout",
     "output_type": "stream",
     "text": [
      "77.9 µs ± 125 ns per loop (mean ± std. dev. of 7 runs, 10,000 loops each)\n"
     ]
    }
   ],
   "source": [
    "%timeit Batch.stack(batches)"
   ]
  },
  {
   "cell_type": "code",
   "execution_count": 27,
   "id": "cb8ab77e",
   "metadata": {
    "execution": {
     "iopub.execute_input": "2023-02-26T16:39:11.384013Z",
     "iopub.status.busy": "2023-02-26T16:39:11.383640Z",
     "iopub.status.idle": "2023-02-26T16:39:11.391400Z",
     "shell.execute_reply": "2023-02-26T16:39:11.390798Z"
    }
   },
   "outputs": [
    {
     "data": {
      "text/plain": [
       "Batch(\n",
       "    x: Batch(\n",
       "           c: tensor([[-1.4001,  0.1970, -0.5024, -0.7657],\n",
       "                      [-0.3456, -0.2996, -0.2605,  1.3872],\n",
       "                      [ 0.3903, -0.8025,  2.3905,  0.5628],\n",
       "                      [-1.4001,  0.1970, -0.5024, -0.7657],\n",
       "                      [-0.3456, -0.2996, -0.2605,  1.3872],\n",
       "                      [ 0.3903, -0.8025,  2.3905,  0.5628],\n",
       "                      [-1.4001,  0.1970, -0.5024, -0.7657],\n",
       "                      [-0.3456, -0.2996, -0.2605,  1.3872],\n",
       "                      [ 0.3903, -0.8025,  2.3905,  0.5628],\n",
       "                      [-1.4001,  0.1970, -0.5024, -0.7657],\n",
       "                      [-0.3456, -0.2996, -0.2605,  1.3872],\n",
       "                      [ 0.3903, -0.8025,  2.3905,  0.5628],\n",
       "                      [-1.4001,  0.1970, -0.5024, -0.7657],\n",
       "                      [-0.3456, -0.2996, -0.2605,  1.3872],\n",
       "                      [ 0.3903, -0.8025,  2.3905,  0.5628],\n",
       "                      [-1.4001,  0.1970, -0.5024, -0.7657],\n",
       "                      [-0.3456, -0.2996, -0.2605,  1.3872],\n",
       "                      [ 0.3903, -0.8025,  2.3905,  0.5628],\n",
       "                      [-1.4001,  0.1970, -0.5024, -0.7657],\n",
       "                      [-0.3456, -0.2996, -0.2605,  1.3872],\n",
       "                      [ 0.3903, -0.8025,  2.3905,  0.5628],\n",
       "                      [-1.4001,  0.1970, -0.5024, -0.7657],\n",
       "                      [-0.3456, -0.2996, -0.2605,  1.3872],\n",
       "                      [ 0.3903, -0.8025,  2.3905,  0.5628]]),\n",
       "       ),\n",
       "    a: tensor([[-0.9329, -0.4810,  0.6070],\n",
       "               [ 0.1704,  1.1519,  3.1323],\n",
       "               [-0.9329, -0.4810,  0.6070],\n",
       "               [ 0.1704,  1.1519,  3.1323],\n",
       "               [-0.9329, -0.4810,  0.6070],\n",
       "               [ 0.1704,  1.1519,  3.1323],\n",
       "               [-0.9329, -0.4810,  0.6070],\n",
       "               [ 0.1704,  1.1519,  3.1323],\n",
       "               [-0.9329, -0.4810,  0.6070],\n",
       "               [ 0.1704,  1.1519,  3.1323],\n",
       "               [-0.9329, -0.4810,  0.6070],\n",
       "               [ 0.1704,  1.1519,  3.1323],\n",
       "               [-0.9329, -0.4810,  0.6070],\n",
       "               [ 0.1704,  1.1519,  3.1323],\n",
       "               [-0.9329, -0.4810,  0.6070],\n",
       "               [ 0.1704,  1.1519,  3.1323]]),\n",
       ")"
      ]
     },
     "execution_count": 27,
     "metadata": {},
     "output_type": "execute_result"
    }
   ],
   "source": [
    "Batch.cat(batches)"
   ]
  },
  {
   "cell_type": "code",
   "execution_count": 28,
   "id": "18dfb045",
   "metadata": {
    "execution": {
     "iopub.execute_input": "2023-02-26T16:39:11.394222Z",
     "iopub.status.busy": "2023-02-26T16:39:11.393870Z",
     "iopub.status.idle": "2023-02-26T16:39:23.124399Z",
     "shell.execute_reply": "2023-02-26T16:39:23.123522Z"
    }
   },
   "outputs": [
    {
     "name": "stdout",
     "output_type": "stream",
     "text": [
      "144 µs ± 272 ns per loop (mean ± std. dev. of 7 runs, 10,000 loops each)\n"
     ]
    }
   ],
   "source": [
    "%timeit Batch.cat(batches)"
   ]
  },
  {
   "cell_type": "code",
   "execution_count": 29,
   "id": "c6688e51",
   "metadata": {
    "execution": {
     "iopub.execute_input": "2023-02-26T16:39:23.127980Z",
     "iopub.status.busy": "2023-02-26T16:39:23.127566Z",
     "iopub.status.idle": "2023-02-26T16:39:25.800102Z",
     "shell.execute_reply": "2023-02-26T16:39:25.799017Z"
    }
   },
   "outputs": [
    {
     "name": "stdout",
     "output_type": "stream",
     "text": [
      "328 µs ± 2.13 µs per loop (mean ± std. dev. of 7 runs, 1,000 loops each)\n"
     ]
    }
   ],
   "source": [
    "batch = Batch({\n",
    "    'obs': torch.randn(8, 4, 84, 84),\n",
    "    'action': torch.randint(0, 6, size=(8, 1,)),\n",
    "    'reward': torch.rand(8, 1)}\n",
    ")\n",
    "\n",
    "%timeit list(Batch.split(batch, 1, shuffle=False, merge_last=True))"
   ]
  },
  {
   "cell_type": "code",
   "execution_count": null,
   "id": "2539fbd9",
   "metadata": {},
   "outputs": [],
   "source": []
  }
 ],
 "metadata": {
  "kernelspec": {
   "display_name": "Python 3 (ipykernel)",
   "language": "python",
   "name": "python3"
  },
  "language_info": {
   "codemirror_mode": {
    "name": "ipython",
    "version": 3
   },
   "file_extension": ".py",
   "mimetype": "text/x-python",
   "name": "python",
   "nbconvert_exporter": "python",
   "pygments_lexer": "ipython3",
   "version": "3.8.16"
  }
 },
 "nbformat": 4,
 "nbformat_minor": 5
}
