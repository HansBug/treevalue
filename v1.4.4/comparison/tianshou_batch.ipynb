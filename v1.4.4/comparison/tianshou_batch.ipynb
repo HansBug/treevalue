{
 "cells": [
  {
   "cell_type": "markdown",
   "id": "9d39d946",
   "metadata": {},
   "source": [
    "# Comparison Between TreeValue and Tianshou Batch"
   ]
  },
  {
   "cell_type": "markdown",
   "id": "3c6db2d4",
   "metadata": {},
   "source": [
    "In this section, we will take a look at the feature and performance of the [Tianshou Batch](https://github.com/thu-ml/tianshou) library, which is developed by Tsinghua Machine Learning Group."
   ]
  },
  {
   "cell_type": "markdown",
   "id": "069361b0",
   "metadata": {},
   "source": [
    "Before starting the comparison, let us define some thing."
   ]
  },
  {
   "cell_type": "code",
   "execution_count": 1,
   "id": "06fc8d26",
   "metadata": {
    "execution": {
     "iopub.execute_input": "2023-01-29T04:28:30.065072Z",
     "iopub.status.busy": "2023-01-29T04:28:30.064860Z",
     "iopub.status.idle": "2023-01-29T04:28:30.965675Z",
     "shell.execute_reply": "2023-01-29T04:28:30.965025Z"
    }
   },
   "outputs": [
    {
     "name": "stderr",
     "output_type": "stream",
     "text": [
      "/opt/hostedtoolcache/Python/3.8.16/x64/lib/python3.8/site-packages/tqdm/auto.py:22: TqdmWarning: IProgress not found. Please update jupyter and ipywidgets. See https://ipywidgets.readthedocs.io/en/stable/user_install.html\n",
      "  from .autonotebook import tqdm as notebook_tqdm\n"
     ]
    }
   ],
   "source": [
    "import torch \n",
    "\n",
    "_TREE_DATA_1 = {'a': 1, 'b': 2, 'x': {'c': 3, 'd': 4}}\n",
    "_TREE_DATA_2 = {\n",
    "    'a': torch.randn(2, 3), \n",
    "    'x': {\n",
    "        'c': torch.randn(3, 4)\n",
    "    },\n",
    "}\n",
    "_TREE_DATA_3 = {\n",
    "    'obs': torch.randn(4, 84, 84),\n",
    "    'action': torch.randint(0, 6, size=(1,)),\n",
    "    'reward': torch.rand(1),\n",
    "}"
   ]
  },
  {
   "cell_type": "markdown",
   "id": "83461b25",
   "metadata": {},
   "source": [
    "## Read and Write Operation"
   ]
  },
  {
   "cell_type": "markdown",
   "id": "067b3f73",
   "metadata": {},
   "source": [
    "Reading and writing are the two most common operations in the tree data structure based on the data model (TreeValue and Tianshou Batch both belong to this type), so this section will compare the reading and writing performance of these two libraries."
   ]
  },
  {
   "cell_type": "markdown",
   "id": "5d09a5b7",
   "metadata": {},
   "source": [
    "### TreeValue's Get and Set"
   ]
  },
  {
   "cell_type": "code",
   "execution_count": 2,
   "id": "9519c4bb",
   "metadata": {
    "execution": {
     "iopub.execute_input": "2023-01-29T04:28:30.968860Z",
     "iopub.status.busy": "2023-01-29T04:28:30.968278Z",
     "iopub.status.idle": "2023-01-29T04:28:31.000560Z",
     "shell.execute_reply": "2023-01-29T04:28:30.999932Z"
    }
   },
   "outputs": [],
   "source": [
    "from treevalue import FastTreeValue\n",
    "\n",
    "t = FastTreeValue(_TREE_DATA_2)"
   ]
  },
  {
   "cell_type": "code",
   "execution_count": 3,
   "id": "11c37677",
   "metadata": {
    "execution": {
     "iopub.execute_input": "2023-01-29T04:28:31.003327Z",
     "iopub.status.busy": "2023-01-29T04:28:31.002805Z",
     "iopub.status.idle": "2023-01-29T04:28:31.011556Z",
     "shell.execute_reply": "2023-01-29T04:28:31.010911Z"
    }
   },
   "outputs": [
    {
     "data": {
      "text/plain": [
       "<FastTreeValue 0x7f7ba6218820>\n",
       "├── 'a' --> tensor([[-1.2354, -0.2507,  0.4229],\n",
       "│                   [-1.5643, -0.6036, -0.3413]])\n",
       "└── 'x' --> <FastTreeValue 0x7f7ba41a1670>\n",
       "    └── 'c' --> tensor([[ 0.0176,  0.7433, -0.5322, -1.3098],\n",
       "                        [-0.0846, -1.9894,  1.3061,  0.8924],\n",
       "                        [ 0.4106, -1.0783, -0.4413,  1.5059]])"
      ]
     },
     "execution_count": 3,
     "metadata": {},
     "output_type": "execute_result"
    }
   ],
   "source": [
    "t"
   ]
  },
  {
   "cell_type": "code",
   "execution_count": 4,
   "id": "fd70b0b9",
   "metadata": {
    "execution": {
     "iopub.execute_input": "2023-01-29T04:28:31.014333Z",
     "iopub.status.busy": "2023-01-29T04:28:31.013860Z",
     "iopub.status.idle": "2023-01-29T04:28:31.019273Z",
     "shell.execute_reply": "2023-01-29T04:28:31.018704Z"
    }
   },
   "outputs": [
    {
     "data": {
      "text/plain": [
       "tensor([[-1.2354, -0.2507,  0.4229],\n",
       "        [-1.5643, -0.6036, -0.3413]])"
      ]
     },
     "execution_count": 4,
     "metadata": {},
     "output_type": "execute_result"
    }
   ],
   "source": [
    "t.a"
   ]
  },
  {
   "cell_type": "code",
   "execution_count": 5,
   "id": "c18197bd",
   "metadata": {
    "execution": {
     "iopub.execute_input": "2023-01-29T04:28:31.022030Z",
     "iopub.status.busy": "2023-01-29T04:28:31.021550Z",
     "iopub.status.idle": "2023-01-29T04:28:36.056252Z",
     "shell.execute_reply": "2023-01-29T04:28:36.055516Z"
    }
   },
   "outputs": [
    {
     "name": "stdout",
     "output_type": "stream",
     "text": [
      "61.6 ns ± 0.0467 ns per loop (mean ± std. dev. of 7 runs, 10,000,000 loops each)\n"
     ]
    }
   ],
   "source": [
    "%timeit t.a"
   ]
  },
  {
   "cell_type": "code",
   "execution_count": 6,
   "id": "bd52f867",
   "metadata": {
    "execution": {
     "iopub.execute_input": "2023-01-29T04:28:36.059054Z",
     "iopub.status.busy": "2023-01-29T04:28:36.058699Z",
     "iopub.status.idle": "2023-01-29T04:28:36.065336Z",
     "shell.execute_reply": "2023-01-29T04:28:36.064722Z"
    }
   },
   "outputs": [
    {
     "data": {
      "text/plain": [
       "<FastTreeValue 0x7f7ba6218820>\n",
       "├── 'a' --> tensor([[-1.8065, -1.2873, -0.1833],\n",
       "│                   [ 1.0365,  1.0622, -2.0919]])\n",
       "└── 'x' --> <FastTreeValue 0x7f7ba41a1670>\n",
       "    └── 'c' --> tensor([[ 0.0176,  0.7433, -0.5322, -1.3098],\n",
       "                        [-0.0846, -1.9894,  1.3061,  0.8924],\n",
       "                        [ 0.4106, -1.0783, -0.4413,  1.5059]])"
      ]
     },
     "execution_count": 6,
     "metadata": {},
     "output_type": "execute_result"
    }
   ],
   "source": [
    "new_value = torch.randn(2, 3)\n",
    "t.a = new_value\n",
    "\n",
    "t"
   ]
  },
  {
   "cell_type": "code",
   "execution_count": 7,
   "id": "bbe04d1c",
   "metadata": {
    "execution": {
     "iopub.execute_input": "2023-01-29T04:28:36.067974Z",
     "iopub.status.busy": "2023-01-29T04:28:36.067563Z",
     "iopub.status.idle": "2023-01-29T04:28:41.248276Z",
     "shell.execute_reply": "2023-01-29T04:28:41.247603Z"
    }
   },
   "outputs": [
    {
     "name": "stdout",
     "output_type": "stream",
     "text": [
      "64 ns ± 0.0465 ns per loop (mean ± std. dev. of 7 runs, 10,000,000 loops each)\n"
     ]
    }
   ],
   "source": [
    "%timeit t.a = new_value"
   ]
  },
  {
   "cell_type": "markdown",
   "id": "48c49731",
   "metadata": {},
   "source": [
    "### Tianshou Batch's Get and Set"
   ]
  },
  {
   "cell_type": "code",
   "execution_count": 8,
   "id": "f1bb14c1",
   "metadata": {
    "execution": {
     "iopub.execute_input": "2023-01-29T04:28:41.251603Z",
     "iopub.status.busy": "2023-01-29T04:28:41.250953Z",
     "iopub.status.idle": "2023-01-29T04:28:41.575458Z",
     "shell.execute_reply": "2023-01-29T04:28:41.574795Z"
    }
   },
   "outputs": [],
   "source": [
    "from tianshou.data import Batch\n",
    "\n",
    "b = Batch(**_TREE_DATA_2)"
   ]
  },
  {
   "cell_type": "code",
   "execution_count": 9,
   "id": "cb0777c3",
   "metadata": {
    "execution": {
     "iopub.execute_input": "2023-01-29T04:28:41.578781Z",
     "iopub.status.busy": "2023-01-29T04:28:41.578191Z",
     "iopub.status.idle": "2023-01-29T04:28:41.584375Z",
     "shell.execute_reply": "2023-01-29T04:28:41.583810Z"
    }
   },
   "outputs": [
    {
     "data": {
      "text/plain": [
       "Batch(\n",
       "    a: tensor([[-1.2354, -0.2507,  0.4229],\n",
       "               [-1.5643, -0.6036, -0.3413]]),\n",
       "    x: Batch(\n",
       "           c: tensor([[ 0.0176,  0.7433, -0.5322, -1.3098],\n",
       "                      [-0.0846, -1.9894,  1.3061,  0.8924],\n",
       "                      [ 0.4106, -1.0783, -0.4413,  1.5059]]),\n",
       "       ),\n",
       ")"
      ]
     },
     "execution_count": 9,
     "metadata": {},
     "output_type": "execute_result"
    }
   ],
   "source": [
    "b"
   ]
  },
  {
   "cell_type": "code",
   "execution_count": 10,
   "id": "43ef8ea3",
   "metadata": {
    "execution": {
     "iopub.execute_input": "2023-01-29T04:28:41.587085Z",
     "iopub.status.busy": "2023-01-29T04:28:41.586750Z",
     "iopub.status.idle": "2023-01-29T04:28:41.591293Z",
     "shell.execute_reply": "2023-01-29T04:28:41.590670Z"
    }
   },
   "outputs": [
    {
     "data": {
      "text/plain": [
       "tensor([[-1.2354, -0.2507,  0.4229],\n",
       "        [-1.5643, -0.6036, -0.3413]])"
      ]
     },
     "execution_count": 10,
     "metadata": {},
     "output_type": "execute_result"
    }
   ],
   "source": [
    "b.a"
   ]
  },
  {
   "cell_type": "code",
   "execution_count": 11,
   "id": "b785ab72",
   "metadata": {
    "execution": {
     "iopub.execute_input": "2023-01-29T04:28:41.593719Z",
     "iopub.status.busy": "2023-01-29T04:28:41.593395Z",
     "iopub.status.idle": "2023-01-29T04:28:46.170552Z",
     "shell.execute_reply": "2023-01-29T04:28:46.169959Z"
    }
   },
   "outputs": [
    {
     "name": "stdout",
     "output_type": "stream",
     "text": [
      "56.4 ns ± 0.0564 ns per loop (mean ± std. dev. of 7 runs, 10,000,000 loops each)\n"
     ]
    }
   ],
   "source": [
    "%timeit b.a"
   ]
  },
  {
   "cell_type": "code",
   "execution_count": 12,
   "id": "ad54dc69",
   "metadata": {
    "execution": {
     "iopub.execute_input": "2023-01-29T04:28:46.173331Z",
     "iopub.status.busy": "2023-01-29T04:28:46.172943Z",
     "iopub.status.idle": "2023-01-29T04:28:46.178472Z",
     "shell.execute_reply": "2023-01-29T04:28:46.177844Z"
    }
   },
   "outputs": [
    {
     "data": {
      "text/plain": [
       "Batch(\n",
       "    a: tensor([[-1.1082,  1.0826,  0.4940],\n",
       "               [-1.4391, -1.1967, -0.0287]]),\n",
       "    x: Batch(\n",
       "           c: tensor([[ 0.0176,  0.7433, -0.5322, -1.3098],\n",
       "                      [-0.0846, -1.9894,  1.3061,  0.8924],\n",
       "                      [ 0.4106, -1.0783, -0.4413,  1.5059]]),\n",
       "       ),\n",
       ")"
      ]
     },
     "execution_count": 12,
     "metadata": {},
     "output_type": "execute_result"
    }
   ],
   "source": [
    "new_value = torch.randn(2, 3)\n",
    "b.a = new_value\n",
    "\n",
    "b"
   ]
  },
  {
   "cell_type": "code",
   "execution_count": 13,
   "id": "29b1d0bf",
   "metadata": {
    "execution": {
     "iopub.execute_input": "2023-01-29T04:28:46.180817Z",
     "iopub.status.busy": "2023-01-29T04:28:46.180474Z",
     "iopub.status.idle": "2023-01-29T04:28:50.136516Z",
     "shell.execute_reply": "2023-01-29T04:28:50.135786Z"
    }
   },
   "outputs": [
    {
     "name": "stdout",
     "output_type": "stream",
     "text": [
      "488 ns ± 0.104 ns per loop (mean ± std. dev. of 7 runs, 1,000,000 loops each)\n"
     ]
    }
   ],
   "source": [
    "%timeit b.a = new_value"
   ]
  },
  {
   "cell_type": "markdown",
   "id": "b61ad1d0",
   "metadata": {},
   "source": [
    "## Initialization"
   ]
  },
  {
   "cell_type": "markdown",
   "id": "d70f0d54",
   "metadata": {},
   "source": [
    "### TreeValue's Initialization"
   ]
  },
  {
   "cell_type": "code",
   "execution_count": 14,
   "id": "d32a679b",
   "metadata": {
    "execution": {
     "iopub.execute_input": "2023-01-29T04:28:50.139552Z",
     "iopub.status.busy": "2023-01-29T04:28:50.139192Z",
     "iopub.status.idle": "2023-01-29T04:28:57.113043Z",
     "shell.execute_reply": "2023-01-29T04:28:57.112282Z"
    }
   },
   "outputs": [
    {
     "name": "stdout",
     "output_type": "stream",
     "text": [
      "858 ns ± 3.66 ns per loop (mean ± std. dev. of 7 runs, 1,000,000 loops each)\n"
     ]
    }
   ],
   "source": [
    "%timeit FastTreeValue(_TREE_DATA_1)"
   ]
  },
  {
   "cell_type": "markdown",
   "id": "24f3707b",
   "metadata": {},
   "source": [
    "### Tianshou Batch's Initialization"
   ]
  },
  {
   "cell_type": "code",
   "execution_count": 15,
   "id": "ac3958df",
   "metadata": {
    "execution": {
     "iopub.execute_input": "2023-01-29T04:28:57.116275Z",
     "iopub.status.busy": "2023-01-29T04:28:57.115780Z",
     "iopub.status.idle": "2023-01-29T04:29:06.558055Z",
     "shell.execute_reply": "2023-01-29T04:29:06.557290Z"
    }
   },
   "outputs": [
    {
     "name": "stdout",
     "output_type": "stream",
     "text": [
      "11.7 µs ± 46.6 ns per loop (mean ± std. dev. of 7 runs, 100,000 loops each)\n"
     ]
    }
   ],
   "source": [
    "%timeit Batch(**_TREE_DATA_1)"
   ]
  },
  {
   "cell_type": "markdown",
   "id": "1ab82e2d",
   "metadata": {},
   "source": [
    "## Deep Copy Operation"
   ]
  },
  {
   "cell_type": "code",
   "execution_count": 16,
   "id": "210a9442",
   "metadata": {
    "execution": {
     "iopub.execute_input": "2023-01-29T04:29:06.561133Z",
     "iopub.status.busy": "2023-01-29T04:29:06.560777Z",
     "iopub.status.idle": "2023-01-29T04:29:06.564627Z",
     "shell.execute_reply": "2023-01-29T04:29:06.564055Z"
    }
   },
   "outputs": [],
   "source": [
    "import copy"
   ]
  },
  {
   "cell_type": "markdown",
   "id": "5a736274",
   "metadata": {},
   "source": [
    "### Deep Copy of TreeValue"
   ]
  },
  {
   "cell_type": "code",
   "execution_count": 17,
   "id": "f9bcadd6",
   "metadata": {
    "execution": {
     "iopub.execute_input": "2023-01-29T04:29:06.567322Z",
     "iopub.status.busy": "2023-01-29T04:29:06.566991Z",
     "iopub.status.idle": "2023-01-29T04:29:17.708304Z",
     "shell.execute_reply": "2023-01-29T04:29:17.707735Z"
    }
   },
   "outputs": [
    {
     "name": "stdout",
     "output_type": "stream",
     "text": [
      "137 µs ± 676 ns per loop (mean ± std. dev. of 7 runs, 10,000 loops each)\n"
     ]
    }
   ],
   "source": [
    "t3 = FastTreeValue(_TREE_DATA_3)\n",
    "%timeit copy.deepcopy(t3)"
   ]
  },
  {
   "cell_type": "markdown",
   "id": "bf8be7ea",
   "metadata": {},
   "source": [
    "### Deep Copy of Tianshou Batch"
   ]
  },
  {
   "cell_type": "code",
   "execution_count": 18,
   "id": "91998e6f",
   "metadata": {
    "execution": {
     "iopub.execute_input": "2023-01-29T04:29:17.711076Z",
     "iopub.status.busy": "2023-01-29T04:29:17.710720Z",
     "iopub.status.idle": "2023-01-29T04:29:29.031111Z",
     "shell.execute_reply": "2023-01-29T04:29:29.030548Z"
    }
   },
   "outputs": [
    {
     "name": "stdout",
     "output_type": "stream",
     "text": [
      "139 µs ± 199 ns per loop (mean ± std. dev. of 7 runs, 10,000 loops each)\n"
     ]
    }
   ],
   "source": [
    "b3 = Batch(**_TREE_DATA_3)\n",
    "%timeit copy.deepcopy(b3)"
   ]
  },
  {
   "cell_type": "markdown",
   "id": "223162fb",
   "metadata": {},
   "source": [
    "## Stack, Concat and Split Operation"
   ]
  },
  {
   "cell_type": "markdown",
   "id": "85fa4a73",
   "metadata": {},
   "source": [
    "### Performance of TreeValue"
   ]
  },
  {
   "cell_type": "code",
   "execution_count": 19,
   "id": "a0c2b697",
   "metadata": {
    "execution": {
     "iopub.execute_input": "2023-01-29T04:29:29.033894Z",
     "iopub.status.busy": "2023-01-29T04:29:29.033542Z",
     "iopub.status.idle": "2023-01-29T04:29:29.036696Z",
     "shell.execute_reply": "2023-01-29T04:29:29.036176Z"
    }
   },
   "outputs": [],
   "source": [
    "trees = [FastTreeValue(_TREE_DATA_2) for _ in range(8)]"
   ]
  },
  {
   "cell_type": "code",
   "execution_count": 20,
   "id": "017ea5a5",
   "metadata": {
    "execution": {
     "iopub.execute_input": "2023-01-29T04:29:29.039583Z",
     "iopub.status.busy": "2023-01-29T04:29:29.038630Z",
     "iopub.status.idle": "2023-01-29T04:29:29.046027Z",
     "shell.execute_reply": "2023-01-29T04:29:29.045520Z"
    }
   },
   "outputs": [
    {
     "data": {
      "text/plain": [
       "<FastTreeValue 0x7f7af6ea7550>\n",
       "├── 'a' --> tensor([[[-1.2354, -0.2507,  0.4229],\n",
       "│                    [-1.5643, -0.6036, -0.3413]],\n",
       "│           \n",
       "│                   [[-1.2354, -0.2507,  0.4229],\n",
       "│                    [-1.5643, -0.6036, -0.3413]],\n",
       "│           \n",
       "│                   [[-1.2354, -0.2507,  0.4229],\n",
       "│                    [-1.5643, -0.6036, -0.3413]],\n",
       "│           \n",
       "│                   [[-1.2354, -0.2507,  0.4229],\n",
       "│                    [-1.5643, -0.6036, -0.3413]],\n",
       "│           \n",
       "│                   [[-1.2354, -0.2507,  0.4229],\n",
       "│                    [-1.5643, -0.6036, -0.3413]],\n",
       "│           \n",
       "│                   [[-1.2354, -0.2507,  0.4229],\n",
       "│                    [-1.5643, -0.6036, -0.3413]],\n",
       "│           \n",
       "│                   [[-1.2354, -0.2507,  0.4229],\n",
       "│                    [-1.5643, -0.6036, -0.3413]],\n",
       "│           \n",
       "│                   [[-1.2354, -0.2507,  0.4229],\n",
       "│                    [-1.5643, -0.6036, -0.3413]]])\n",
       "└── 'x' --> <FastTreeValue 0x7f7af6ea7580>\n",
       "    └── 'c' --> tensor([[[ 0.0176,  0.7433, -0.5322, -1.3098],\n",
       "                         [-0.0846, -1.9894,  1.3061,  0.8924],\n",
       "                         [ 0.4106, -1.0783, -0.4413,  1.5059]],\n",
       "                \n",
       "                        [[ 0.0176,  0.7433, -0.5322, -1.3098],\n",
       "                         [-0.0846, -1.9894,  1.3061,  0.8924],\n",
       "                         [ 0.4106, -1.0783, -0.4413,  1.5059]],\n",
       "                \n",
       "                        [[ 0.0176,  0.7433, -0.5322, -1.3098],\n",
       "                         [-0.0846, -1.9894,  1.3061,  0.8924],\n",
       "                         [ 0.4106, -1.0783, -0.4413,  1.5059]],\n",
       "                \n",
       "                        [[ 0.0176,  0.7433, -0.5322, -1.3098],\n",
       "                         [-0.0846, -1.9894,  1.3061,  0.8924],\n",
       "                         [ 0.4106, -1.0783, -0.4413,  1.5059]],\n",
       "                \n",
       "                        [[ 0.0176,  0.7433, -0.5322, -1.3098],\n",
       "                         [-0.0846, -1.9894,  1.3061,  0.8924],\n",
       "                         [ 0.4106, -1.0783, -0.4413,  1.5059]],\n",
       "                \n",
       "                        [[ 0.0176,  0.7433, -0.5322, -1.3098],\n",
       "                         [-0.0846, -1.9894,  1.3061,  0.8924],\n",
       "                         [ 0.4106, -1.0783, -0.4413,  1.5059]],\n",
       "                \n",
       "                        [[ 0.0176,  0.7433, -0.5322, -1.3098],\n",
       "                         [-0.0846, -1.9894,  1.3061,  0.8924],\n",
       "                         [ 0.4106, -1.0783, -0.4413,  1.5059]],\n",
       "                \n",
       "                        [[ 0.0176,  0.7433, -0.5322, -1.3098],\n",
       "                         [-0.0846, -1.9894,  1.3061,  0.8924],\n",
       "                         [ 0.4106, -1.0783, -0.4413,  1.5059]]])"
      ]
     },
     "execution_count": 20,
     "metadata": {},
     "output_type": "execute_result"
    }
   ],
   "source": [
    "t_stack = FastTreeValue.func(subside=True)(torch.stack)\n",
    "\n",
    "t_stack(trees)"
   ]
  },
  {
   "cell_type": "code",
   "execution_count": 21,
   "id": "f8b3f415",
   "metadata": {
    "execution": {
     "iopub.execute_input": "2023-01-29T04:29:29.048362Z",
     "iopub.status.busy": "2023-01-29T04:29:29.047949Z",
     "iopub.status.idle": "2023-01-29T04:29:31.700403Z",
     "shell.execute_reply": "2023-01-29T04:29:31.699657Z"
    }
   },
   "outputs": [
    {
     "name": "stdout",
     "output_type": "stream",
     "text": [
      "32.6 µs ± 66.2 ns per loop (mean ± std. dev. of 7 runs, 10,000 loops each)\n"
     ]
    }
   ],
   "source": [
    "%timeit t_stack(trees)"
   ]
  },
  {
   "cell_type": "code",
   "execution_count": 22,
   "id": "94b56771",
   "metadata": {
    "execution": {
     "iopub.execute_input": "2023-01-29T04:29:31.703187Z",
     "iopub.status.busy": "2023-01-29T04:29:31.702752Z",
     "iopub.status.idle": "2023-01-29T04:29:31.710977Z",
     "shell.execute_reply": "2023-01-29T04:29:31.710386Z"
    }
   },
   "outputs": [
    {
     "data": {
      "text/plain": [
       "<FastTreeValue 0x7f7af6ea7cd0>\n",
       "├── 'a' --> tensor([[-1.2354, -0.2507,  0.4229],\n",
       "│                   [-1.5643, -0.6036, -0.3413],\n",
       "│                   [-1.2354, -0.2507,  0.4229],\n",
       "│                   [-1.5643, -0.6036, -0.3413],\n",
       "│                   [-1.2354, -0.2507,  0.4229],\n",
       "│                   [-1.5643, -0.6036, -0.3413],\n",
       "│                   [-1.2354, -0.2507,  0.4229],\n",
       "│                   [-1.5643, -0.6036, -0.3413],\n",
       "│                   [-1.2354, -0.2507,  0.4229],\n",
       "│                   [-1.5643, -0.6036, -0.3413],\n",
       "│                   [-1.2354, -0.2507,  0.4229],\n",
       "│                   [-1.5643, -0.6036, -0.3413],\n",
       "│                   [-1.2354, -0.2507,  0.4229],\n",
       "│                   [-1.5643, -0.6036, -0.3413],\n",
       "│                   [-1.2354, -0.2507,  0.4229],\n",
       "│                   [-1.5643, -0.6036, -0.3413]])\n",
       "└── 'x' --> <FastTreeValue 0x7f7af6ea7eb0>\n",
       "    └── 'c' --> tensor([[ 0.0176,  0.7433, -0.5322, -1.3098],\n",
       "                        [-0.0846, -1.9894,  1.3061,  0.8924],\n",
       "                        [ 0.4106, -1.0783, -0.4413,  1.5059],\n",
       "                        [ 0.0176,  0.7433, -0.5322, -1.3098],\n",
       "                        [-0.0846, -1.9894,  1.3061,  0.8924],\n",
       "                        [ 0.4106, -1.0783, -0.4413,  1.5059],\n",
       "                        [ 0.0176,  0.7433, -0.5322, -1.3098],\n",
       "                        [-0.0846, -1.9894,  1.3061,  0.8924],\n",
       "                        [ 0.4106, -1.0783, -0.4413,  1.5059],\n",
       "                        [ 0.0176,  0.7433, -0.5322, -1.3098],\n",
       "                        [-0.0846, -1.9894,  1.3061,  0.8924],\n",
       "                        [ 0.4106, -1.0783, -0.4413,  1.5059],\n",
       "                        [ 0.0176,  0.7433, -0.5322, -1.3098],\n",
       "                        [-0.0846, -1.9894,  1.3061,  0.8924],\n",
       "                        [ 0.4106, -1.0783, -0.4413,  1.5059],\n",
       "                        [ 0.0176,  0.7433, -0.5322, -1.3098],\n",
       "                        [-0.0846, -1.9894,  1.3061,  0.8924],\n",
       "                        [ 0.4106, -1.0783, -0.4413,  1.5059],\n",
       "                        [ 0.0176,  0.7433, -0.5322, -1.3098],\n",
       "                        [-0.0846, -1.9894,  1.3061,  0.8924],\n",
       "                        [ 0.4106, -1.0783, -0.4413,  1.5059],\n",
       "                        [ 0.0176,  0.7433, -0.5322, -1.3098],\n",
       "                        [-0.0846, -1.9894,  1.3061,  0.8924],\n",
       "                        [ 0.4106, -1.0783, -0.4413,  1.5059]])"
      ]
     },
     "execution_count": 22,
     "metadata": {},
     "output_type": "execute_result"
    }
   ],
   "source": [
    "t_cat = FastTreeValue.func(subside=True)(torch.cat)\n",
    "\n",
    "t_cat(trees)"
   ]
  },
  {
   "cell_type": "code",
   "execution_count": 23,
   "id": "5e9c06a6",
   "metadata": {
    "execution": {
     "iopub.execute_input": "2023-01-29T04:29:31.713545Z",
     "iopub.status.busy": "2023-01-29T04:29:31.712959Z",
     "iopub.status.idle": "2023-01-29T04:29:34.202563Z",
     "shell.execute_reply": "2023-01-29T04:29:34.201805Z"
    }
   },
   "outputs": [
    {
     "name": "stdout",
     "output_type": "stream",
     "text": [
      "30.6 µs ± 94.1 ns per loop (mean ± std. dev. of 7 runs, 10,000 loops each)\n"
     ]
    }
   ],
   "source": [
    "%timeit t_cat(trees)"
   ]
  },
  {
   "cell_type": "code",
   "execution_count": 24,
   "id": "a3ab5c8f",
   "metadata": {
    "execution": {
     "iopub.execute_input": "2023-01-29T04:29:34.205568Z",
     "iopub.status.busy": "2023-01-29T04:29:34.205216Z",
     "iopub.status.idle": "2023-01-29T04:29:38.967902Z",
     "shell.execute_reply": "2023-01-29T04:29:38.967169Z"
    }
   },
   "outputs": [
    {
     "name": "stdout",
     "output_type": "stream",
     "text": [
      "58.6 µs ± 140 ns per loop (mean ± std. dev. of 7 runs, 10,000 loops each)\n"
     ]
    }
   ],
   "source": [
    "t_split = FastTreeValue.func(rise=True)(torch.split)\n",
    "tree = FastTreeValue({\n",
    "    'obs': torch.randn(8, 4, 84, 84),\n",
    "    'action': torch.randint(0, 6, size=(8, 1,)),\n",
    "    'reward': torch.rand(8, 1),\n",
    "})\n",
    "\n",
    "%timeit t_split(tree, 1)"
   ]
  },
  {
   "cell_type": "markdown",
   "id": "31c3ec0b",
   "metadata": {},
   "source": [
    "### Performance of Tianshou Batch"
   ]
  },
  {
   "cell_type": "code",
   "execution_count": 25,
   "id": "9ead828a",
   "metadata": {
    "execution": {
     "iopub.execute_input": "2023-01-29T04:29:38.970939Z",
     "iopub.status.busy": "2023-01-29T04:29:38.970582Z",
     "iopub.status.idle": "2023-01-29T04:29:38.978845Z",
     "shell.execute_reply": "2023-01-29T04:29:38.978174Z"
    }
   },
   "outputs": [
    {
     "data": {
      "text/plain": [
       "Batch(\n",
       "    a: tensor([[[-1.2354, -0.2507,  0.4229],\n",
       "                [-1.5643, -0.6036, -0.3413]],\n",
       "       \n",
       "               [[-1.2354, -0.2507,  0.4229],\n",
       "                [-1.5643, -0.6036, -0.3413]],\n",
       "       \n",
       "               [[-1.2354, -0.2507,  0.4229],\n",
       "                [-1.5643, -0.6036, -0.3413]],\n",
       "       \n",
       "               [[-1.2354, -0.2507,  0.4229],\n",
       "                [-1.5643, -0.6036, -0.3413]],\n",
       "       \n",
       "               [[-1.2354, -0.2507,  0.4229],\n",
       "                [-1.5643, -0.6036, -0.3413]],\n",
       "       \n",
       "               [[-1.2354, -0.2507,  0.4229],\n",
       "                [-1.5643, -0.6036, -0.3413]],\n",
       "       \n",
       "               [[-1.2354, -0.2507,  0.4229],\n",
       "                [-1.5643, -0.6036, -0.3413]],\n",
       "       \n",
       "               [[-1.2354, -0.2507,  0.4229],\n",
       "                [-1.5643, -0.6036, -0.3413]]]),\n",
       "    x: Batch(\n",
       "           c: tensor([[[ 0.0176,  0.7433, -0.5322, -1.3098],\n",
       "                       [-0.0846, -1.9894,  1.3061,  0.8924],\n",
       "                       [ 0.4106, -1.0783, -0.4413,  1.5059]],\n",
       "              \n",
       "                      [[ 0.0176,  0.7433, -0.5322, -1.3098],\n",
       "                       [-0.0846, -1.9894,  1.3061,  0.8924],\n",
       "                       [ 0.4106, -1.0783, -0.4413,  1.5059]],\n",
       "              \n",
       "                      [[ 0.0176,  0.7433, -0.5322, -1.3098],\n",
       "                       [-0.0846, -1.9894,  1.3061,  0.8924],\n",
       "                       [ 0.4106, -1.0783, -0.4413,  1.5059]],\n",
       "              \n",
       "                      [[ 0.0176,  0.7433, -0.5322, -1.3098],\n",
       "                       [-0.0846, -1.9894,  1.3061,  0.8924],\n",
       "                       [ 0.4106, -1.0783, -0.4413,  1.5059]],\n",
       "              \n",
       "                      [[ 0.0176,  0.7433, -0.5322, -1.3098],\n",
       "                       [-0.0846, -1.9894,  1.3061,  0.8924],\n",
       "                       [ 0.4106, -1.0783, -0.4413,  1.5059]],\n",
       "              \n",
       "                      [[ 0.0176,  0.7433, -0.5322, -1.3098],\n",
       "                       [-0.0846, -1.9894,  1.3061,  0.8924],\n",
       "                       [ 0.4106, -1.0783, -0.4413,  1.5059]],\n",
       "              \n",
       "                      [[ 0.0176,  0.7433, -0.5322, -1.3098],\n",
       "                       [-0.0846, -1.9894,  1.3061,  0.8924],\n",
       "                       [ 0.4106, -1.0783, -0.4413,  1.5059]],\n",
       "              \n",
       "                      [[ 0.0176,  0.7433, -0.5322, -1.3098],\n",
       "                       [-0.0846, -1.9894,  1.3061,  0.8924],\n",
       "                       [ 0.4106, -1.0783, -0.4413,  1.5059]]]),\n",
       "       ),\n",
       ")"
      ]
     },
     "execution_count": 25,
     "metadata": {},
     "output_type": "execute_result"
    }
   ],
   "source": [
    "batches = [Batch(**_TREE_DATA_2) for _ in range(8)]\n",
    "\n",
    "Batch.stack(batches)"
   ]
  },
  {
   "cell_type": "code",
   "execution_count": 26,
   "id": "ec9037a3",
   "metadata": {
    "execution": {
     "iopub.execute_input": "2023-01-29T04:29:38.981177Z",
     "iopub.status.busy": "2023-01-29T04:29:38.980969Z",
     "iopub.status.idle": "2023-01-29T04:29:45.378334Z",
     "shell.execute_reply": "2023-01-29T04:29:45.377575Z"
    }
   },
   "outputs": [
    {
     "name": "stdout",
     "output_type": "stream",
     "text": [
      "78.8 µs ± 370 ns per loop (mean ± std. dev. of 7 runs, 10,000 loops each)\n"
     ]
    }
   ],
   "source": [
    "%timeit Batch.stack(batches)"
   ]
  },
  {
   "cell_type": "code",
   "execution_count": 27,
   "id": "cb8ab77e",
   "metadata": {
    "execution": {
     "iopub.execute_input": "2023-01-29T04:29:45.381099Z",
     "iopub.status.busy": "2023-01-29T04:29:45.380748Z",
     "iopub.status.idle": "2023-01-29T04:29:45.388102Z",
     "shell.execute_reply": "2023-01-29T04:29:45.387536Z"
    }
   },
   "outputs": [
    {
     "data": {
      "text/plain": [
       "Batch(\n",
       "    a: tensor([[-1.2354, -0.2507,  0.4229],\n",
       "               [-1.5643, -0.6036, -0.3413],\n",
       "               [-1.2354, -0.2507,  0.4229],\n",
       "               [-1.5643, -0.6036, -0.3413],\n",
       "               [-1.2354, -0.2507,  0.4229],\n",
       "               [-1.5643, -0.6036, -0.3413],\n",
       "               [-1.2354, -0.2507,  0.4229],\n",
       "               [-1.5643, -0.6036, -0.3413],\n",
       "               [-1.2354, -0.2507,  0.4229],\n",
       "               [-1.5643, -0.6036, -0.3413],\n",
       "               [-1.2354, -0.2507,  0.4229],\n",
       "               [-1.5643, -0.6036, -0.3413],\n",
       "               [-1.2354, -0.2507,  0.4229],\n",
       "               [-1.5643, -0.6036, -0.3413],\n",
       "               [-1.2354, -0.2507,  0.4229],\n",
       "               [-1.5643, -0.6036, -0.3413]]),\n",
       "    x: Batch(\n",
       "           c: tensor([[ 0.0176,  0.7433, -0.5322, -1.3098],\n",
       "                      [-0.0846, -1.9894,  1.3061,  0.8924],\n",
       "                      [ 0.4106, -1.0783, -0.4413,  1.5059],\n",
       "                      [ 0.0176,  0.7433, -0.5322, -1.3098],\n",
       "                      [-0.0846, -1.9894,  1.3061,  0.8924],\n",
       "                      [ 0.4106, -1.0783, -0.4413,  1.5059],\n",
       "                      [ 0.0176,  0.7433, -0.5322, -1.3098],\n",
       "                      [-0.0846, -1.9894,  1.3061,  0.8924],\n",
       "                      [ 0.4106, -1.0783, -0.4413,  1.5059],\n",
       "                      [ 0.0176,  0.7433, -0.5322, -1.3098],\n",
       "                      [-0.0846, -1.9894,  1.3061,  0.8924],\n",
       "                      [ 0.4106, -1.0783, -0.4413,  1.5059],\n",
       "                      [ 0.0176,  0.7433, -0.5322, -1.3098],\n",
       "                      [-0.0846, -1.9894,  1.3061,  0.8924],\n",
       "                      [ 0.4106, -1.0783, -0.4413,  1.5059],\n",
       "                      [ 0.0176,  0.7433, -0.5322, -1.3098],\n",
       "                      [-0.0846, -1.9894,  1.3061,  0.8924],\n",
       "                      [ 0.4106, -1.0783, -0.4413,  1.5059],\n",
       "                      [ 0.0176,  0.7433, -0.5322, -1.3098],\n",
       "                      [-0.0846, -1.9894,  1.3061,  0.8924],\n",
       "                      [ 0.4106, -1.0783, -0.4413,  1.5059],\n",
       "                      [ 0.0176,  0.7433, -0.5322, -1.3098],\n",
       "                      [-0.0846, -1.9894,  1.3061,  0.8924],\n",
       "                      [ 0.4106, -1.0783, -0.4413,  1.5059]]),\n",
       "       ),\n",
       ")"
      ]
     },
     "execution_count": 27,
     "metadata": {},
     "output_type": "execute_result"
    }
   ],
   "source": [
    "Batch.cat(batches)"
   ]
  },
  {
   "cell_type": "code",
   "execution_count": 28,
   "id": "18dfb045",
   "metadata": {
    "execution": {
     "iopub.execute_input": "2023-01-29T04:29:45.390569Z",
     "iopub.status.busy": "2023-01-29T04:29:45.390217Z",
     "iopub.status.idle": "2023-01-29T04:29:57.125269Z",
     "shell.execute_reply": "2023-01-29T04:29:57.124607Z"
    }
   },
   "outputs": [
    {
     "name": "stdout",
     "output_type": "stream",
     "text": [
      "144 µs ± 334 ns per loop (mean ± std. dev. of 7 runs, 10,000 loops each)\n"
     ]
    }
   ],
   "source": [
    "%timeit Batch.cat(batches)"
   ]
  },
  {
   "cell_type": "code",
   "execution_count": 29,
   "id": "c6688e51",
   "metadata": {
    "execution": {
     "iopub.execute_input": "2023-01-29T04:29:57.127900Z",
     "iopub.status.busy": "2023-01-29T04:29:57.127547Z",
     "iopub.status.idle": "2023-01-29T04:29:59.620052Z",
     "shell.execute_reply": "2023-01-29T04:29:59.619478Z"
    }
   },
   "outputs": [
    {
     "name": "stdout",
     "output_type": "stream",
     "text": [
      "306 µs ± 433 ns per loop (mean ± std. dev. of 7 runs, 1,000 loops each)\n"
     ]
    }
   ],
   "source": [
    "batch = Batch({\n",
    "    'obs': torch.randn(8, 4, 84, 84),\n",
    "    'action': torch.randint(0, 6, size=(8, 1,)),\n",
    "    'reward': torch.rand(8, 1)}\n",
    ")\n",
    "\n",
    "%timeit list(Batch.split(batch, 1, shuffle=False, merge_last=True))"
   ]
  },
  {
   "cell_type": "code",
   "execution_count": null,
   "id": "2539fbd9",
   "metadata": {},
   "outputs": [],
   "source": []
  }
 ],
 "metadata": {
  "kernelspec": {
   "display_name": "Python 3 (ipykernel)",
   "language": "python",
   "name": "python3"
  },
  "language_info": {
   "codemirror_mode": {
    "name": "ipython",
    "version": 3
   },
   "file_extension": ".py",
   "mimetype": "text/x-python",
   "name": "python",
   "nbconvert_exporter": "python",
   "pygments_lexer": "ipython3",
   "version": "3.8.16"
  }
 },
 "nbformat": 4,
 "nbformat_minor": 5
}
