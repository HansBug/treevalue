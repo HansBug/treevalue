{
 "cells": [
  {
   "cell_type": "markdown",
   "id": "9d39d946",
   "metadata": {},
   "source": [
    "# Comparison Between TreeValue and Tianshou Batch"
   ]
  },
  {
   "cell_type": "markdown",
   "id": "3c6db2d4",
   "metadata": {},
   "source": [
    "In this section, we will take a look at the feature and performance of the [Tianshou Batch](https://github.com/thu-ml/tianshou) library, which is developed by Tsinghua Machine Learning Group."
   ]
  },
  {
   "cell_type": "markdown",
   "id": "069361b0",
   "metadata": {},
   "source": [
    "Before starting the comparison, let us define some thing."
   ]
  },
  {
   "cell_type": "code",
   "execution_count": 1,
   "id": "06fc8d26",
   "metadata": {
    "execution": {
     "iopub.execute_input": "2023-02-27T09:31:41.434963Z",
     "iopub.status.busy": "2023-02-27T09:31:41.434188Z",
     "iopub.status.idle": "2023-02-27T09:31:42.714830Z",
     "shell.execute_reply": "2023-02-27T09:31:42.713718Z"
    }
   },
   "outputs": [
    {
     "name": "stderr",
     "output_type": "stream",
     "text": [
      "/opt/hostedtoolcache/Python/3.8.16/x64/lib/python3.8/site-packages/tqdm/auto.py:22: TqdmWarning: IProgress not found. Please update jupyter and ipywidgets. See https://ipywidgets.readthedocs.io/en/stable/user_install.html\n",
      "  from .autonotebook import tqdm as notebook_tqdm\n"
     ]
    }
   ],
   "source": [
    "import torch \n",
    "\n",
    "_TREE_DATA_1 = {'a': 1, 'b': 2, 'x': {'c': 3, 'd': 4}}\n",
    "_TREE_DATA_2 = {\n",
    "    'a': torch.randn(2, 3), \n",
    "    'x': {\n",
    "        'c': torch.randn(3, 4)\n",
    "    },\n",
    "}\n",
    "_TREE_DATA_3 = {\n",
    "    'obs': torch.randn(4, 84, 84),\n",
    "    'action': torch.randint(0, 6, size=(1,)),\n",
    "    'reward': torch.rand(1),\n",
    "}"
   ]
  },
  {
   "cell_type": "markdown",
   "id": "83461b25",
   "metadata": {},
   "source": [
    "## Read and Write Operation"
   ]
  },
  {
   "cell_type": "markdown",
   "id": "067b3f73",
   "metadata": {},
   "source": [
    "Reading and writing are the two most common operations in the tree data structure based on the data model (TreeValue and Tianshou Batch both belong to this type), so this section will compare the reading and writing performance of these two libraries."
   ]
  },
  {
   "cell_type": "markdown",
   "id": "5d09a5b7",
   "metadata": {},
   "source": [
    "### TreeValue's Get and Set"
   ]
  },
  {
   "cell_type": "code",
   "execution_count": 2,
   "id": "9519c4bb",
   "metadata": {
    "execution": {
     "iopub.execute_input": "2023-02-27T09:31:42.719433Z",
     "iopub.status.busy": "2023-02-27T09:31:42.719071Z",
     "iopub.status.idle": "2023-02-27T09:31:43.125029Z",
     "shell.execute_reply": "2023-02-27T09:31:43.123924Z"
    }
   },
   "outputs": [],
   "source": [
    "from treevalue import FastTreeValue\n",
    "\n",
    "t = FastTreeValue(_TREE_DATA_2)"
   ]
  },
  {
   "cell_type": "code",
   "execution_count": 3,
   "id": "11c37677",
   "metadata": {
    "execution": {
     "iopub.execute_input": "2023-02-27T09:31:43.129186Z",
     "iopub.status.busy": "2023-02-27T09:31:43.128763Z",
     "iopub.status.idle": "2023-02-27T09:31:43.143924Z",
     "shell.execute_reply": "2023-02-27T09:31:43.140183Z"
    }
   },
   "outputs": [
    {
     "data": {
      "text/plain": [
       "<FastTreeValue 0x7f2520152850>\n",
       "├── 'a' --> tensor([[ 0.0999, -0.3764,  0.5572],\n",
       "│                   [-0.6558,  0.6625, -0.0450]])\n",
       "└── 'x' --> <FastTreeValue 0x7f2520152820>\n",
       "    └── 'c' --> tensor([[ 1.5851,  1.8039,  1.8201,  0.5122],\n",
       "                        [-0.1517, -0.7849,  0.5316,  0.7595],\n",
       "                        [-0.4146,  0.0526,  0.4069,  0.4538]])"
      ]
     },
     "execution_count": 3,
     "metadata": {},
     "output_type": "execute_result"
    }
   ],
   "source": [
    "t"
   ]
  },
  {
   "cell_type": "code",
   "execution_count": 4,
   "id": "fd70b0b9",
   "metadata": {
    "execution": {
     "iopub.execute_input": "2023-02-27T09:31:43.148652Z",
     "iopub.status.busy": "2023-02-27T09:31:43.148086Z",
     "iopub.status.idle": "2023-02-27T09:31:43.155067Z",
     "shell.execute_reply": "2023-02-27T09:31:43.154062Z"
    }
   },
   "outputs": [
    {
     "data": {
      "text/plain": [
       "tensor([[ 0.0999, -0.3764,  0.5572],\n",
       "        [-0.6558,  0.6625, -0.0450]])"
      ]
     },
     "execution_count": 4,
     "metadata": {},
     "output_type": "execute_result"
    }
   ],
   "source": [
    "t.a"
   ]
  },
  {
   "cell_type": "code",
   "execution_count": 5,
   "id": "c18197bd",
   "metadata": {
    "execution": {
     "iopub.execute_input": "2023-02-27T09:31:43.158883Z",
     "iopub.status.busy": "2023-02-27T09:31:43.158570Z",
     "iopub.status.idle": "2023-02-27T09:31:49.365446Z",
     "shell.execute_reply": "2023-02-27T09:31:49.364334Z"
    }
   },
   "outputs": [
    {
     "name": "stdout",
     "output_type": "stream",
     "text": [
      "76.3 ns ± 0.664 ns per loop (mean ± std. dev. of 7 runs, 10,000,000 loops each)\n"
     ]
    }
   ],
   "source": [
    "%timeit t.a"
   ]
  },
  {
   "cell_type": "code",
   "execution_count": 6,
   "id": "bd52f867",
   "metadata": {
    "execution": {
     "iopub.execute_input": "2023-02-27T09:31:49.369540Z",
     "iopub.status.busy": "2023-02-27T09:31:49.368941Z",
     "iopub.status.idle": "2023-02-27T09:31:49.378503Z",
     "shell.execute_reply": "2023-02-27T09:31:49.377490Z"
    }
   },
   "outputs": [
    {
     "data": {
      "text/plain": [
       "<FastTreeValue 0x7f2520152850>\n",
       "├── 'a' --> tensor([[-1.0360, -0.1541, -0.7171],\n",
       "│                   [ 0.1899,  1.0630, -0.2858]])\n",
       "└── 'x' --> <FastTreeValue 0x7f2520152820>\n",
       "    └── 'c' --> tensor([[ 1.5851,  1.8039,  1.8201,  0.5122],\n",
       "                        [-0.1517, -0.7849,  0.5316,  0.7595],\n",
       "                        [-0.4146,  0.0526,  0.4069,  0.4538]])"
      ]
     },
     "execution_count": 6,
     "metadata": {},
     "output_type": "execute_result"
    }
   ],
   "source": [
    "new_value = torch.randn(2, 3)\n",
    "t.a = new_value\n",
    "\n",
    "t"
   ]
  },
  {
   "cell_type": "code",
   "execution_count": 7,
   "id": "bbe04d1c",
   "metadata": {
    "execution": {
     "iopub.execute_input": "2023-02-27T09:31:49.382889Z",
     "iopub.status.busy": "2023-02-27T09:31:49.382050Z",
     "iopub.status.idle": "2023-02-27T09:31:55.782659Z",
     "shell.execute_reply": "2023-02-27T09:31:55.781716Z"
    }
   },
   "outputs": [
    {
     "name": "stdout",
     "output_type": "stream",
     "text": [
      "78.6 ns ± 0.981 ns per loop (mean ± std. dev. of 7 runs, 10,000,000 loops each)\n"
     ]
    }
   ],
   "source": [
    "%timeit t.a = new_value"
   ]
  },
  {
   "cell_type": "markdown",
   "id": "48c49731",
   "metadata": {},
   "source": [
    "### Tianshou Batch's Get and Set"
   ]
  },
  {
   "cell_type": "code",
   "execution_count": 8,
   "id": "f1bb14c1",
   "metadata": {
    "execution": {
     "iopub.execute_input": "2023-02-27T09:31:55.786793Z",
     "iopub.status.busy": "2023-02-27T09:31:55.786266Z",
     "iopub.status.idle": "2023-02-27T09:31:56.317736Z",
     "shell.execute_reply": "2023-02-27T09:31:56.314126Z"
    }
   },
   "outputs": [],
   "source": [
    "from tianshou.data import Batch\n",
    "\n",
    "b = Batch(**_TREE_DATA_2)"
   ]
  },
  {
   "cell_type": "code",
   "execution_count": 9,
   "id": "cb0777c3",
   "metadata": {
    "execution": {
     "iopub.execute_input": "2023-02-27T09:31:56.325431Z",
     "iopub.status.busy": "2023-02-27T09:31:56.324829Z",
     "iopub.status.idle": "2023-02-27T09:31:56.338212Z",
     "shell.execute_reply": "2023-02-27T09:31:56.336886Z"
    }
   },
   "outputs": [
    {
     "data": {
      "text/plain": [
       "Batch(\n",
       "    a: tensor([[ 0.0999, -0.3764,  0.5572],\n",
       "               [-0.6558,  0.6625, -0.0450]]),\n",
       "    x: Batch(\n",
       "           c: tensor([[ 1.5851,  1.8039,  1.8201,  0.5122],\n",
       "                      [-0.1517, -0.7849,  0.5316,  0.7595],\n",
       "                      [-0.4146,  0.0526,  0.4069,  0.4538]]),\n",
       "       ),\n",
       ")"
      ]
     },
     "execution_count": 9,
     "metadata": {},
     "output_type": "execute_result"
    }
   ],
   "source": [
    "b"
   ]
  },
  {
   "cell_type": "code",
   "execution_count": 10,
   "id": "43ef8ea3",
   "metadata": {
    "execution": {
     "iopub.execute_input": "2023-02-27T09:31:56.346024Z",
     "iopub.status.busy": "2023-02-27T09:31:56.343389Z",
     "iopub.status.idle": "2023-02-27T09:31:56.352908Z",
     "shell.execute_reply": "2023-02-27T09:31:56.351884Z"
    }
   },
   "outputs": [
    {
     "data": {
      "text/plain": [
       "tensor([[ 0.0999, -0.3764,  0.5572],\n",
       "        [-0.6558,  0.6625, -0.0450]])"
      ]
     },
     "execution_count": 10,
     "metadata": {},
     "output_type": "execute_result"
    }
   ],
   "source": [
    "b.a"
   ]
  },
  {
   "cell_type": "code",
   "execution_count": 11,
   "id": "b785ab72",
   "metadata": {
    "execution": {
     "iopub.execute_input": "2023-02-27T09:31:56.357600Z",
     "iopub.status.busy": "2023-02-27T09:31:56.357257Z",
     "iopub.status.idle": "2023-02-27T09:32:01.978100Z",
     "shell.execute_reply": "2023-02-27T09:32:01.977033Z"
    }
   },
   "outputs": [
    {
     "name": "stdout",
     "output_type": "stream",
     "text": [
      "69.2 ns ± 1.25 ns per loop (mean ± std. dev. of 7 runs, 10,000,000 loops each)\n"
     ]
    }
   ],
   "source": [
    "%timeit b.a"
   ]
  },
  {
   "cell_type": "code",
   "execution_count": 12,
   "id": "ad54dc69",
   "metadata": {
    "execution": {
     "iopub.execute_input": "2023-02-27T09:32:01.982717Z",
     "iopub.status.busy": "2023-02-27T09:32:01.981914Z",
     "iopub.status.idle": "2023-02-27T09:32:01.990891Z",
     "shell.execute_reply": "2023-02-27T09:32:01.989966Z"
    }
   },
   "outputs": [
    {
     "data": {
      "text/plain": [
       "Batch(\n",
       "    a: tensor([[ 0.3867,  0.1422,  0.6732],\n",
       "               [-0.4165, -0.0045,  0.0119]]),\n",
       "    x: Batch(\n",
       "           c: tensor([[ 1.5851,  1.8039,  1.8201,  0.5122],\n",
       "                      [-0.1517, -0.7849,  0.5316,  0.7595],\n",
       "                      [-0.4146,  0.0526,  0.4069,  0.4538]]),\n",
       "       ),\n",
       ")"
      ]
     },
     "execution_count": 12,
     "metadata": {},
     "output_type": "execute_result"
    }
   ],
   "source": [
    "new_value = torch.randn(2, 3)\n",
    "b.a = new_value\n",
    "\n",
    "b"
   ]
  },
  {
   "cell_type": "code",
   "execution_count": 13,
   "id": "29b1d0bf",
   "metadata": {
    "execution": {
     "iopub.execute_input": "2023-02-27T09:32:01.995153Z",
     "iopub.status.busy": "2023-02-27T09:32:01.994353Z",
     "iopub.status.idle": "2023-02-27T09:32:07.312218Z",
     "shell.execute_reply": "2023-02-27T09:32:07.310775Z"
    }
   },
   "outputs": [
    {
     "name": "stdout",
     "output_type": "stream",
     "text": [
      "654 ns ± 8.41 ns per loop (mean ± std. dev. of 7 runs, 1,000,000 loops each)\n"
     ]
    }
   ],
   "source": [
    "%timeit b.a = new_value"
   ]
  },
  {
   "cell_type": "markdown",
   "id": "b61ad1d0",
   "metadata": {},
   "source": [
    "## Initialization"
   ]
  },
  {
   "cell_type": "markdown",
   "id": "d70f0d54",
   "metadata": {},
   "source": [
    "### TreeValue's Initialization"
   ]
  },
  {
   "cell_type": "code",
   "execution_count": 14,
   "id": "d32a679b",
   "metadata": {
    "execution": {
     "iopub.execute_input": "2023-02-27T09:32:07.316931Z",
     "iopub.status.busy": "2023-02-27T09:32:07.316174Z",
     "iopub.status.idle": "2023-02-27T09:32:16.107759Z",
     "shell.execute_reply": "2023-02-27T09:32:16.106373Z"
    }
   },
   "outputs": [
    {
     "name": "stdout",
     "output_type": "stream",
     "text": [
      "1.09 µs ± 12 ns per loop (mean ± std. dev. of 7 runs, 1,000,000 loops each)\n"
     ]
    }
   ],
   "source": [
    "%timeit FastTreeValue(_TREE_DATA_1)"
   ]
  },
  {
   "cell_type": "markdown",
   "id": "24f3707b",
   "metadata": {},
   "source": [
    "### Tianshou Batch's Initialization"
   ]
  },
  {
   "cell_type": "code",
   "execution_count": 15,
   "id": "ac3958df",
   "metadata": {
    "execution": {
     "iopub.execute_input": "2023-02-27T09:32:16.111442Z",
     "iopub.status.busy": "2023-02-27T09:32:16.111036Z",
     "iopub.status.idle": "2023-02-27T09:32:28.645804Z",
     "shell.execute_reply": "2023-02-27T09:32:28.644663Z"
    }
   },
   "outputs": [
    {
     "name": "stdout",
     "output_type": "stream",
     "text": [
      "15.5 µs ± 354 ns per loop (mean ± std. dev. of 7 runs, 100,000 loops each)\n"
     ]
    }
   ],
   "source": [
    "%timeit Batch(**_TREE_DATA_1)"
   ]
  },
  {
   "cell_type": "markdown",
   "id": "1ab82e2d",
   "metadata": {},
   "source": [
    "## Deep Copy Operation"
   ]
  },
  {
   "cell_type": "code",
   "execution_count": 16,
   "id": "210a9442",
   "metadata": {
    "execution": {
     "iopub.execute_input": "2023-02-27T09:32:28.650158Z",
     "iopub.status.busy": "2023-02-27T09:32:28.649619Z",
     "iopub.status.idle": "2023-02-27T09:32:28.655399Z",
     "shell.execute_reply": "2023-02-27T09:32:28.654274Z"
    }
   },
   "outputs": [],
   "source": [
    "import copy"
   ]
  },
  {
   "cell_type": "markdown",
   "id": "5a736274",
   "metadata": {},
   "source": [
    "### Deep Copy of TreeValue"
   ]
  },
  {
   "cell_type": "code",
   "execution_count": 17,
   "id": "f9bcadd6",
   "metadata": {
    "execution": {
     "iopub.execute_input": "2023-02-27T09:32:28.659073Z",
     "iopub.status.busy": "2023-02-27T09:32:28.658500Z",
     "iopub.status.idle": "2023-02-27T09:32:31.084736Z",
     "shell.execute_reply": "2023-02-27T09:32:31.083423Z"
    }
   },
   "outputs": [
    {
     "name": "stdout",
     "output_type": "stream",
     "text": [
      "298 µs ± 6.67 µs per loop (mean ± std. dev. of 7 runs, 1,000 loops each)\n"
     ]
    }
   ],
   "source": [
    "t3 = FastTreeValue(_TREE_DATA_3)\n",
    "%timeit copy.deepcopy(t3)"
   ]
  },
  {
   "cell_type": "markdown",
   "id": "bf8be7ea",
   "metadata": {},
   "source": [
    "### Deep Copy of Tianshou Batch"
   ]
  },
  {
   "cell_type": "code",
   "execution_count": 18,
   "id": "91998e6f",
   "metadata": {
    "execution": {
     "iopub.execute_input": "2023-02-27T09:32:31.090695Z",
     "iopub.status.busy": "2023-02-27T09:32:31.089830Z",
     "iopub.status.idle": "2023-02-27T09:32:33.357717Z",
     "shell.execute_reply": "2023-02-27T09:32:33.356772Z"
    }
   },
   "outputs": [
    {
     "name": "stdout",
     "output_type": "stream",
     "text": [
      "276 µs ± 10.1 µs per loop (mean ± std. dev. of 7 runs, 1,000 loops each)\n"
     ]
    }
   ],
   "source": [
    "b3 = Batch(**_TREE_DATA_3)\n",
    "%timeit copy.deepcopy(b3)"
   ]
  },
  {
   "cell_type": "markdown",
   "id": "223162fb",
   "metadata": {},
   "source": [
    "## Stack, Concat and Split Operation"
   ]
  },
  {
   "cell_type": "markdown",
   "id": "85fa4a73",
   "metadata": {},
   "source": [
    "### Performance of TreeValue"
   ]
  },
  {
   "cell_type": "code",
   "execution_count": 19,
   "id": "a0c2b697",
   "metadata": {
    "execution": {
     "iopub.execute_input": "2023-02-27T09:32:33.361965Z",
     "iopub.status.busy": "2023-02-27T09:32:33.361645Z",
     "iopub.status.idle": "2023-02-27T09:32:33.366897Z",
     "shell.execute_reply": "2023-02-27T09:32:33.366007Z"
    }
   },
   "outputs": [],
   "source": [
    "trees = [FastTreeValue(_TREE_DATA_2) for _ in range(8)]"
   ]
  },
  {
   "cell_type": "code",
   "execution_count": 20,
   "id": "017ea5a5",
   "metadata": {
    "execution": {
     "iopub.execute_input": "2023-02-27T09:32:33.370657Z",
     "iopub.status.busy": "2023-02-27T09:32:33.370328Z",
     "iopub.status.idle": "2023-02-27T09:32:33.383531Z",
     "shell.execute_reply": "2023-02-27T09:32:33.382558Z"
    }
   },
   "outputs": [
    {
     "data": {
      "text/plain": [
       "<FastTreeValue 0x7f246ba53850>\n",
       "├── 'a' --> tensor([[[ 0.0999, -0.3764,  0.5572],\n",
       "│                    [-0.6558,  0.6625, -0.0450]],\n",
       "│           \n",
       "│                   [[ 0.0999, -0.3764,  0.5572],\n",
       "│                    [-0.6558,  0.6625, -0.0450]],\n",
       "│           \n",
       "│                   [[ 0.0999, -0.3764,  0.5572],\n",
       "│                    [-0.6558,  0.6625, -0.0450]],\n",
       "│           \n",
       "│                   [[ 0.0999, -0.3764,  0.5572],\n",
       "│                    [-0.6558,  0.6625, -0.0450]],\n",
       "│           \n",
       "│                   [[ 0.0999, -0.3764,  0.5572],\n",
       "│                    [-0.6558,  0.6625, -0.0450]],\n",
       "│           \n",
       "│                   [[ 0.0999, -0.3764,  0.5572],\n",
       "│                    [-0.6558,  0.6625, -0.0450]],\n",
       "│           \n",
       "│                   [[ 0.0999, -0.3764,  0.5572],\n",
       "│                    [-0.6558,  0.6625, -0.0450]],\n",
       "│           \n",
       "│                   [[ 0.0999, -0.3764,  0.5572],\n",
       "│                    [-0.6558,  0.6625, -0.0450]]])\n",
       "└── 'x' --> <FastTreeValue 0x7f246b408eb0>\n",
       "    └── 'c' --> tensor([[[ 1.5851,  1.8039,  1.8201,  0.5122],\n",
       "                         [-0.1517, -0.7849,  0.5316,  0.7595],\n",
       "                         [-0.4146,  0.0526,  0.4069,  0.4538]],\n",
       "                \n",
       "                        [[ 1.5851,  1.8039,  1.8201,  0.5122],\n",
       "                         [-0.1517, -0.7849,  0.5316,  0.7595],\n",
       "                         [-0.4146,  0.0526,  0.4069,  0.4538]],\n",
       "                \n",
       "                        [[ 1.5851,  1.8039,  1.8201,  0.5122],\n",
       "                         [-0.1517, -0.7849,  0.5316,  0.7595],\n",
       "                         [-0.4146,  0.0526,  0.4069,  0.4538]],\n",
       "                \n",
       "                        [[ 1.5851,  1.8039,  1.8201,  0.5122],\n",
       "                         [-0.1517, -0.7849,  0.5316,  0.7595],\n",
       "                         [-0.4146,  0.0526,  0.4069,  0.4538]],\n",
       "                \n",
       "                        [[ 1.5851,  1.8039,  1.8201,  0.5122],\n",
       "                         [-0.1517, -0.7849,  0.5316,  0.7595],\n",
       "                         [-0.4146,  0.0526,  0.4069,  0.4538]],\n",
       "                \n",
       "                        [[ 1.5851,  1.8039,  1.8201,  0.5122],\n",
       "                         [-0.1517, -0.7849,  0.5316,  0.7595],\n",
       "                         [-0.4146,  0.0526,  0.4069,  0.4538]],\n",
       "                \n",
       "                        [[ 1.5851,  1.8039,  1.8201,  0.5122],\n",
       "                         [-0.1517, -0.7849,  0.5316,  0.7595],\n",
       "                         [-0.4146,  0.0526,  0.4069,  0.4538]],\n",
       "                \n",
       "                        [[ 1.5851,  1.8039,  1.8201,  0.5122],\n",
       "                         [-0.1517, -0.7849,  0.5316,  0.7595],\n",
       "                         [-0.4146,  0.0526,  0.4069,  0.4538]]])"
      ]
     },
     "execution_count": 20,
     "metadata": {},
     "output_type": "execute_result"
    }
   ],
   "source": [
    "t_stack = FastTreeValue.func(subside=True)(torch.stack)\n",
    "\n",
    "t_stack(trees)"
   ]
  },
  {
   "cell_type": "code",
   "execution_count": 21,
   "id": "f8b3f415",
   "metadata": {
    "execution": {
     "iopub.execute_input": "2023-02-27T09:32:33.387731Z",
     "iopub.status.busy": "2023-02-27T09:32:33.387048Z",
     "iopub.status.idle": "2023-02-27T09:32:37.534942Z",
     "shell.execute_reply": "2023-02-27T09:32:37.533863Z"
    }
   },
   "outputs": [
    {
     "name": "stdout",
     "output_type": "stream",
     "text": [
      "51.2 µs ± 1.02 µs per loop (mean ± std. dev. of 7 runs, 10,000 loops each)\n"
     ]
    }
   ],
   "source": [
    "%timeit t_stack(trees)"
   ]
  },
  {
   "cell_type": "code",
   "execution_count": 22,
   "id": "94b56771",
   "metadata": {
    "execution": {
     "iopub.execute_input": "2023-02-27T09:32:37.538840Z",
     "iopub.status.busy": "2023-02-27T09:32:37.538512Z",
     "iopub.status.idle": "2023-02-27T09:32:37.549672Z",
     "shell.execute_reply": "2023-02-27T09:32:37.548645Z"
    }
   },
   "outputs": [
    {
     "data": {
      "text/plain": [
       "<FastTreeValue 0x7f247cf37f70>\n",
       "├── 'a' --> tensor([[ 0.0999, -0.3764,  0.5572],\n",
       "│                   [-0.6558,  0.6625, -0.0450],\n",
       "│                   [ 0.0999, -0.3764,  0.5572],\n",
       "│                   [-0.6558,  0.6625, -0.0450],\n",
       "│                   [ 0.0999, -0.3764,  0.5572],\n",
       "│                   [-0.6558,  0.6625, -0.0450],\n",
       "│                   [ 0.0999, -0.3764,  0.5572],\n",
       "│                   [-0.6558,  0.6625, -0.0450],\n",
       "│                   [ 0.0999, -0.3764,  0.5572],\n",
       "│                   [-0.6558,  0.6625, -0.0450],\n",
       "│                   [ 0.0999, -0.3764,  0.5572],\n",
       "│                   [-0.6558,  0.6625, -0.0450],\n",
       "│                   [ 0.0999, -0.3764,  0.5572],\n",
       "│                   [-0.6558,  0.6625, -0.0450],\n",
       "│                   [ 0.0999, -0.3764,  0.5572],\n",
       "│                   [-0.6558,  0.6625, -0.0450]])\n",
       "└── 'x' --> <FastTreeValue 0x7f25201cc1c0>\n",
       "    └── 'c' --> tensor([[ 1.5851,  1.8039,  1.8201,  0.5122],\n",
       "                        [-0.1517, -0.7849,  0.5316,  0.7595],\n",
       "                        [-0.4146,  0.0526,  0.4069,  0.4538],\n",
       "                        [ 1.5851,  1.8039,  1.8201,  0.5122],\n",
       "                        [-0.1517, -0.7849,  0.5316,  0.7595],\n",
       "                        [-0.4146,  0.0526,  0.4069,  0.4538],\n",
       "                        [ 1.5851,  1.8039,  1.8201,  0.5122],\n",
       "                        [-0.1517, -0.7849,  0.5316,  0.7595],\n",
       "                        [-0.4146,  0.0526,  0.4069,  0.4538],\n",
       "                        [ 1.5851,  1.8039,  1.8201,  0.5122],\n",
       "                        [-0.1517, -0.7849,  0.5316,  0.7595],\n",
       "                        [-0.4146,  0.0526,  0.4069,  0.4538],\n",
       "                        [ 1.5851,  1.8039,  1.8201,  0.5122],\n",
       "                        [-0.1517, -0.7849,  0.5316,  0.7595],\n",
       "                        [-0.4146,  0.0526,  0.4069,  0.4538],\n",
       "                        [ 1.5851,  1.8039,  1.8201,  0.5122],\n",
       "                        [-0.1517, -0.7849,  0.5316,  0.7595],\n",
       "                        [-0.4146,  0.0526,  0.4069,  0.4538],\n",
       "                        [ 1.5851,  1.8039,  1.8201,  0.5122],\n",
       "                        [-0.1517, -0.7849,  0.5316,  0.7595],\n",
       "                        [-0.4146,  0.0526,  0.4069,  0.4538],\n",
       "                        [ 1.5851,  1.8039,  1.8201,  0.5122],\n",
       "                        [-0.1517, -0.7849,  0.5316,  0.7595],\n",
       "                        [-0.4146,  0.0526,  0.4069,  0.4538]])"
      ]
     },
     "execution_count": 22,
     "metadata": {},
     "output_type": "execute_result"
    }
   ],
   "source": [
    "t_cat = FastTreeValue.func(subside=True)(torch.cat)\n",
    "\n",
    "t_cat(trees)"
   ]
  },
  {
   "cell_type": "code",
   "execution_count": 23,
   "id": "5e9c06a6",
   "metadata": {
    "execution": {
     "iopub.execute_input": "2023-02-27T09:32:37.553785Z",
     "iopub.status.busy": "2023-02-27T09:32:37.553170Z",
     "iopub.status.idle": "2023-02-27T09:32:41.435717Z",
     "shell.execute_reply": "2023-02-27T09:32:41.434446Z"
    }
   },
   "outputs": [
    {
     "name": "stdout",
     "output_type": "stream",
     "text": [
      "47.7 µs ± 1.04 µs per loop (mean ± std. dev. of 7 runs, 10,000 loops each)\n"
     ]
    }
   ],
   "source": [
    "%timeit t_cat(trees)"
   ]
  },
  {
   "cell_type": "code",
   "execution_count": 24,
   "id": "a3ab5c8f",
   "metadata": {
    "execution": {
     "iopub.execute_input": "2023-02-27T09:32:41.440859Z",
     "iopub.status.busy": "2023-02-27T09:32:41.440201Z",
     "iopub.status.idle": "2023-02-27T09:32:48.424519Z",
     "shell.execute_reply": "2023-02-27T09:32:48.422490Z"
    }
   },
   "outputs": [
    {
     "name": "stdout",
     "output_type": "stream",
     "text": [
      "86.1 µs ± 1.57 µs per loop (mean ± std. dev. of 7 runs, 10,000 loops each)\n"
     ]
    }
   ],
   "source": [
    "t_split = FastTreeValue.func(rise=True)(torch.split)\n",
    "tree = FastTreeValue({\n",
    "    'obs': torch.randn(8, 4, 84, 84),\n",
    "    'action': torch.randint(0, 6, size=(8, 1,)),\n",
    "    'reward': torch.rand(8, 1),\n",
    "})\n",
    "\n",
    "%timeit t_split(tree, 1)"
   ]
  },
  {
   "cell_type": "markdown",
   "id": "31c3ec0b",
   "metadata": {},
   "source": [
    "### Performance of Tianshou Batch"
   ]
  },
  {
   "cell_type": "code",
   "execution_count": 25,
   "id": "9ead828a",
   "metadata": {
    "execution": {
     "iopub.execute_input": "2023-02-27T09:32:48.428702Z",
     "iopub.status.busy": "2023-02-27T09:32:48.428141Z",
     "iopub.status.idle": "2023-02-27T09:32:48.439710Z",
     "shell.execute_reply": "2023-02-27T09:32:48.438557Z"
    }
   },
   "outputs": [
    {
     "data": {
      "text/plain": [
       "Batch(\n",
       "    x: Batch(\n",
       "           c: tensor([[[ 1.5851,  1.8039,  1.8201,  0.5122],\n",
       "                       [-0.1517, -0.7849,  0.5316,  0.7595],\n",
       "                       [-0.4146,  0.0526,  0.4069,  0.4538]],\n",
       "              \n",
       "                      [[ 1.5851,  1.8039,  1.8201,  0.5122],\n",
       "                       [-0.1517, -0.7849,  0.5316,  0.7595],\n",
       "                       [-0.4146,  0.0526,  0.4069,  0.4538]],\n",
       "              \n",
       "                      [[ 1.5851,  1.8039,  1.8201,  0.5122],\n",
       "                       [-0.1517, -0.7849,  0.5316,  0.7595],\n",
       "                       [-0.4146,  0.0526,  0.4069,  0.4538]],\n",
       "              \n",
       "                      [[ 1.5851,  1.8039,  1.8201,  0.5122],\n",
       "                       [-0.1517, -0.7849,  0.5316,  0.7595],\n",
       "                       [-0.4146,  0.0526,  0.4069,  0.4538]],\n",
       "              \n",
       "                      [[ 1.5851,  1.8039,  1.8201,  0.5122],\n",
       "                       [-0.1517, -0.7849,  0.5316,  0.7595],\n",
       "                       [-0.4146,  0.0526,  0.4069,  0.4538]],\n",
       "              \n",
       "                      [[ 1.5851,  1.8039,  1.8201,  0.5122],\n",
       "                       [-0.1517, -0.7849,  0.5316,  0.7595],\n",
       "                       [-0.4146,  0.0526,  0.4069,  0.4538]],\n",
       "              \n",
       "                      [[ 1.5851,  1.8039,  1.8201,  0.5122],\n",
       "                       [-0.1517, -0.7849,  0.5316,  0.7595],\n",
       "                       [-0.4146,  0.0526,  0.4069,  0.4538]],\n",
       "              \n",
       "                      [[ 1.5851,  1.8039,  1.8201,  0.5122],\n",
       "                       [-0.1517, -0.7849,  0.5316,  0.7595],\n",
       "                       [-0.4146,  0.0526,  0.4069,  0.4538]]]),\n",
       "       ),\n",
       "    a: tensor([[[ 0.0999, -0.3764,  0.5572],\n",
       "                [-0.6558,  0.6625, -0.0450]],\n",
       "       \n",
       "               [[ 0.0999, -0.3764,  0.5572],\n",
       "                [-0.6558,  0.6625, -0.0450]],\n",
       "       \n",
       "               [[ 0.0999, -0.3764,  0.5572],\n",
       "                [-0.6558,  0.6625, -0.0450]],\n",
       "       \n",
       "               [[ 0.0999, -0.3764,  0.5572],\n",
       "                [-0.6558,  0.6625, -0.0450]],\n",
       "       \n",
       "               [[ 0.0999, -0.3764,  0.5572],\n",
       "                [-0.6558,  0.6625, -0.0450]],\n",
       "       \n",
       "               [[ 0.0999, -0.3764,  0.5572],\n",
       "                [-0.6558,  0.6625, -0.0450]],\n",
       "       \n",
       "               [[ 0.0999, -0.3764,  0.5572],\n",
       "                [-0.6558,  0.6625, -0.0450]],\n",
       "       \n",
       "               [[ 0.0999, -0.3764,  0.5572],\n",
       "                [-0.6558,  0.6625, -0.0450]]]),\n",
       ")"
      ]
     },
     "execution_count": 25,
     "metadata": {},
     "output_type": "execute_result"
    }
   ],
   "source": [
    "batches = [Batch(**_TREE_DATA_2) for _ in range(8)]\n",
    "\n",
    "Batch.stack(batches)"
   ]
  },
  {
   "cell_type": "code",
   "execution_count": 26,
   "id": "ec9037a3",
   "metadata": {
    "execution": {
     "iopub.execute_input": "2023-02-27T09:32:48.443484Z",
     "iopub.status.busy": "2023-02-27T09:32:48.442900Z",
     "iopub.status.idle": "2023-02-27T09:32:57.484845Z",
     "shell.execute_reply": "2023-02-27T09:32:57.483799Z"
    }
   },
   "outputs": [
    {
     "name": "stdout",
     "output_type": "stream",
     "text": [
      "111 µs ± 1.55 µs per loop (mean ± std. dev. of 7 runs, 10,000 loops each)\n"
     ]
    }
   ],
   "source": [
    "%timeit Batch.stack(batches)"
   ]
  },
  {
   "cell_type": "code",
   "execution_count": 27,
   "id": "cb8ab77e",
   "metadata": {
    "execution": {
     "iopub.execute_input": "2023-02-27T09:32:57.490728Z",
     "iopub.status.busy": "2023-02-27T09:32:57.489359Z",
     "iopub.status.idle": "2023-02-27T09:32:57.500727Z",
     "shell.execute_reply": "2023-02-27T09:32:57.499785Z"
    }
   },
   "outputs": [
    {
     "data": {
      "text/plain": [
       "Batch(\n",
       "    x: Batch(\n",
       "           c: tensor([[ 1.5851,  1.8039,  1.8201,  0.5122],\n",
       "                      [-0.1517, -0.7849,  0.5316,  0.7595],\n",
       "                      [-0.4146,  0.0526,  0.4069,  0.4538],\n",
       "                      [ 1.5851,  1.8039,  1.8201,  0.5122],\n",
       "                      [-0.1517, -0.7849,  0.5316,  0.7595],\n",
       "                      [-0.4146,  0.0526,  0.4069,  0.4538],\n",
       "                      [ 1.5851,  1.8039,  1.8201,  0.5122],\n",
       "                      [-0.1517, -0.7849,  0.5316,  0.7595],\n",
       "                      [-0.4146,  0.0526,  0.4069,  0.4538],\n",
       "                      [ 1.5851,  1.8039,  1.8201,  0.5122],\n",
       "                      [-0.1517, -0.7849,  0.5316,  0.7595],\n",
       "                      [-0.4146,  0.0526,  0.4069,  0.4538],\n",
       "                      [ 1.5851,  1.8039,  1.8201,  0.5122],\n",
       "                      [-0.1517, -0.7849,  0.5316,  0.7595],\n",
       "                      [-0.4146,  0.0526,  0.4069,  0.4538],\n",
       "                      [ 1.5851,  1.8039,  1.8201,  0.5122],\n",
       "                      [-0.1517, -0.7849,  0.5316,  0.7595],\n",
       "                      [-0.4146,  0.0526,  0.4069,  0.4538],\n",
       "                      [ 1.5851,  1.8039,  1.8201,  0.5122],\n",
       "                      [-0.1517, -0.7849,  0.5316,  0.7595],\n",
       "                      [-0.4146,  0.0526,  0.4069,  0.4538],\n",
       "                      [ 1.5851,  1.8039,  1.8201,  0.5122],\n",
       "                      [-0.1517, -0.7849,  0.5316,  0.7595],\n",
       "                      [-0.4146,  0.0526,  0.4069,  0.4538]]),\n",
       "       ),\n",
       "    a: tensor([[ 0.0999, -0.3764,  0.5572],\n",
       "               [-0.6558,  0.6625, -0.0450],\n",
       "               [ 0.0999, -0.3764,  0.5572],\n",
       "               [-0.6558,  0.6625, -0.0450],\n",
       "               [ 0.0999, -0.3764,  0.5572],\n",
       "               [-0.6558,  0.6625, -0.0450],\n",
       "               [ 0.0999, -0.3764,  0.5572],\n",
       "               [-0.6558,  0.6625, -0.0450],\n",
       "               [ 0.0999, -0.3764,  0.5572],\n",
       "               [-0.6558,  0.6625, -0.0450],\n",
       "               [ 0.0999, -0.3764,  0.5572],\n",
       "               [-0.6558,  0.6625, -0.0450],\n",
       "               [ 0.0999, -0.3764,  0.5572],\n",
       "               [-0.6558,  0.6625, -0.0450],\n",
       "               [ 0.0999, -0.3764,  0.5572],\n",
       "               [-0.6558,  0.6625, -0.0450]]),\n",
       ")"
      ]
     },
     "execution_count": 27,
     "metadata": {},
     "output_type": "execute_result"
    }
   ],
   "source": [
    "Batch.cat(batches)"
   ]
  },
  {
   "cell_type": "code",
   "execution_count": 28,
   "id": "18dfb045",
   "metadata": {
    "execution": {
     "iopub.execute_input": "2023-02-27T09:32:57.504714Z",
     "iopub.status.busy": "2023-02-27T09:32:57.504397Z",
     "iopub.status.idle": "2023-02-27T09:33:13.965986Z",
     "shell.execute_reply": "2023-02-27T09:33:13.964789Z"
    }
   },
   "outputs": [
    {
     "name": "stdout",
     "output_type": "stream",
     "text": [
      "203 µs ± 2.7 µs per loop (mean ± std. dev. of 7 runs, 10,000 loops each)\n"
     ]
    }
   ],
   "source": [
    "%timeit Batch.cat(batches)"
   ]
  },
  {
   "cell_type": "code",
   "execution_count": 29,
   "id": "c6688e51",
   "metadata": {
    "execution": {
     "iopub.execute_input": "2023-02-27T09:33:13.970249Z",
     "iopub.status.busy": "2023-02-27T09:33:13.969876Z",
     "iopub.status.idle": "2023-02-27T09:33:18.315818Z",
     "shell.execute_reply": "2023-02-27T09:33:18.314878Z"
    }
   },
   "outputs": [
    {
     "name": "stdout",
     "output_type": "stream",
     "text": [
      "532 µs ± 11.4 µs per loop (mean ± std. dev. of 7 runs, 1,000 loops each)\n"
     ]
    }
   ],
   "source": [
    "batch = Batch({\n",
    "    'obs': torch.randn(8, 4, 84, 84),\n",
    "    'action': torch.randint(0, 6, size=(8, 1,)),\n",
    "    'reward': torch.rand(8, 1)}\n",
    ")\n",
    "\n",
    "%timeit list(Batch.split(batch, 1, shuffle=False, merge_last=True))"
   ]
  },
  {
   "cell_type": "code",
   "execution_count": null,
   "id": "2539fbd9",
   "metadata": {},
   "outputs": [],
   "source": []
  }
 ],
 "metadata": {
  "kernelspec": {
   "display_name": "Python 3 (ipykernel)",
   "language": "python",
   "name": "python3"
  },
  "language_info": {
   "codemirror_mode": {
    "name": "ipython",
    "version": 3
   },
   "file_extension": ".py",
   "mimetype": "text/x-python",
   "name": "python",
   "nbconvert_exporter": "python",
   "pygments_lexer": "ipython3",
   "version": "3.8.16"
  }
 },
 "nbformat": 4,
 "nbformat_minor": 5
}
