{
 "cells": [
  {
   "cell_type": "markdown",
   "id": "9d39d946",
   "metadata": {},
   "source": [
    "# Comparison Between TreeValue and Tianshou Batch"
   ]
  },
  {
   "cell_type": "markdown",
   "id": "3c6db2d4",
   "metadata": {},
   "source": [
    "In this section, we will take a look at the feature and performance of the [Tianshou Batch](https://github.com/thu-ml/tianshou) library, which is developed by Tsinghua Machine Learning Group."
   ]
  },
  {
   "cell_type": "markdown",
   "id": "069361b0",
   "metadata": {},
   "source": [
    "Before starting the comparison, let us define some thing."
   ]
  },
  {
   "cell_type": "code",
   "execution_count": 1,
   "id": "06fc8d26",
   "metadata": {
    "execution": {
     "iopub.execute_input": "2023-02-27T14:23:02.024687Z",
     "iopub.status.busy": "2023-02-27T14:23:02.024412Z",
     "iopub.status.idle": "2023-02-27T14:23:03.235874Z",
     "shell.execute_reply": "2023-02-27T14:23:03.234845Z"
    }
   },
   "outputs": [
    {
     "name": "stderr",
     "output_type": "stream",
     "text": [
      "/opt/hostedtoolcache/Python/3.8.16/x64/lib/python3.8/site-packages/tqdm/auto.py:22: TqdmWarning: IProgress not found. Please update jupyter and ipywidgets. See https://ipywidgets.readthedocs.io/en/stable/user_install.html\n",
      "  from .autonotebook import tqdm as notebook_tqdm\n"
     ]
    }
   ],
   "source": [
    "import torch \n",
    "\n",
    "_TREE_DATA_1 = {'a': 1, 'b': 2, 'x': {'c': 3, 'd': 4}}\n",
    "_TREE_DATA_2 = {\n",
    "    'a': torch.randn(2, 3), \n",
    "    'x': {\n",
    "        'c': torch.randn(3, 4)\n",
    "    },\n",
    "}\n",
    "_TREE_DATA_3 = {\n",
    "    'obs': torch.randn(4, 84, 84),\n",
    "    'action': torch.randint(0, 6, size=(1,)),\n",
    "    'reward': torch.rand(1),\n",
    "}"
   ]
  },
  {
   "cell_type": "markdown",
   "id": "83461b25",
   "metadata": {},
   "source": [
    "## Read and Write Operation"
   ]
  },
  {
   "cell_type": "markdown",
   "id": "067b3f73",
   "metadata": {},
   "source": [
    "Reading and writing are the two most common operations in the tree data structure based on the data model (TreeValue and Tianshou Batch both belong to this type), so this section will compare the reading and writing performance of these two libraries."
   ]
  },
  {
   "cell_type": "markdown",
   "id": "5d09a5b7",
   "metadata": {},
   "source": [
    "### TreeValue's Get and Set"
   ]
  },
  {
   "cell_type": "code",
   "execution_count": 2,
   "id": "9519c4bb",
   "metadata": {
    "execution": {
     "iopub.execute_input": "2023-02-27T14:23:03.241084Z",
     "iopub.status.busy": "2023-02-27T14:23:03.239844Z",
     "iopub.status.idle": "2023-02-27T14:23:03.610317Z",
     "shell.execute_reply": "2023-02-27T14:23:03.609131Z"
    }
   },
   "outputs": [],
   "source": [
    "from treevalue import FastTreeValue\n",
    "\n",
    "t = FastTreeValue(_TREE_DATA_2)"
   ]
  },
  {
   "cell_type": "code",
   "execution_count": 3,
   "id": "11c37677",
   "metadata": {
    "execution": {
     "iopub.execute_input": "2023-02-27T14:23:03.616576Z",
     "iopub.status.busy": "2023-02-27T14:23:03.615831Z",
     "iopub.status.idle": "2023-02-27T14:23:03.630417Z",
     "shell.execute_reply": "2023-02-27T14:23:03.629436Z"
    }
   },
   "outputs": [
    {
     "data": {
      "text/plain": [
       "<FastTreeValue 0x7efeb0815160>\n",
       "├── 'a' --> tensor([[-0.9350,  0.7279,  1.4273],\n",
       "│                   [ 0.4053,  1.6148, -0.6397]])\n",
       "└── 'x' --> <FastTreeValue 0x7efeb087ac70>\n",
       "    └── 'c' --> tensor([[-0.4748, -1.2389, -2.2595, -0.0433],\n",
       "                        [-0.8744,  0.0724, -0.8893, -0.9001],\n",
       "                        [ 1.1261, -0.7622, -0.2621,  0.1067]])"
      ]
     },
     "execution_count": 3,
     "metadata": {},
     "output_type": "execute_result"
    }
   ],
   "source": [
    "t"
   ]
  },
  {
   "cell_type": "code",
   "execution_count": 4,
   "id": "fd70b0b9",
   "metadata": {
    "execution": {
     "iopub.execute_input": "2023-02-27T14:23:03.634115Z",
     "iopub.status.busy": "2023-02-27T14:23:03.633806Z",
     "iopub.status.idle": "2023-02-27T14:23:03.640195Z",
     "shell.execute_reply": "2023-02-27T14:23:03.639349Z"
    }
   },
   "outputs": [
    {
     "data": {
      "text/plain": [
       "tensor([[-0.9350,  0.7279,  1.4273],\n",
       "        [ 0.4053,  1.6148, -0.6397]])"
      ]
     },
     "execution_count": 4,
     "metadata": {},
     "output_type": "execute_result"
    }
   ],
   "source": [
    "t.a"
   ]
  },
  {
   "cell_type": "code",
   "execution_count": 5,
   "id": "c18197bd",
   "metadata": {
    "execution": {
     "iopub.execute_input": "2023-02-27T14:23:03.643951Z",
     "iopub.status.busy": "2023-02-27T14:23:03.643661Z",
     "iopub.status.idle": "2023-02-27T14:23:09.404583Z",
     "shell.execute_reply": "2023-02-27T14:23:09.403589Z"
    }
   },
   "outputs": [
    {
     "name": "stdout",
     "output_type": "stream",
     "text": [
      "70.7 ns ± 1.49 ns per loop (mean ± std. dev. of 7 runs, 10,000,000 loops each)\n"
     ]
    }
   ],
   "source": [
    "%timeit t.a"
   ]
  },
  {
   "cell_type": "code",
   "execution_count": 6,
   "id": "bd52f867",
   "metadata": {
    "execution": {
     "iopub.execute_input": "2023-02-27T14:23:09.408098Z",
     "iopub.status.busy": "2023-02-27T14:23:09.407643Z",
     "iopub.status.idle": "2023-02-27T14:23:09.416395Z",
     "shell.execute_reply": "2023-02-27T14:23:09.415432Z"
    }
   },
   "outputs": [
    {
     "data": {
      "text/plain": [
       "<FastTreeValue 0x7efeb0815160>\n",
       "├── 'a' --> tensor([[ 1.6539, -0.4743, -1.1962],\n",
       "│                   [-0.6364,  1.4881, -0.6925]])\n",
       "└── 'x' --> <FastTreeValue 0x7efeb087ac70>\n",
       "    └── 'c' --> tensor([[-0.4748, -1.2389, -2.2595, -0.0433],\n",
       "                        [-0.8744,  0.0724, -0.8893, -0.9001],\n",
       "                        [ 1.1261, -0.7622, -0.2621,  0.1067]])"
      ]
     },
     "execution_count": 6,
     "metadata": {},
     "output_type": "execute_result"
    }
   ],
   "source": [
    "new_value = torch.randn(2, 3)\n",
    "t.a = new_value\n",
    "\n",
    "t"
   ]
  },
  {
   "cell_type": "code",
   "execution_count": 7,
   "id": "bbe04d1c",
   "metadata": {
    "execution": {
     "iopub.execute_input": "2023-02-27T14:23:09.419793Z",
     "iopub.status.busy": "2023-02-27T14:23:09.419446Z",
     "iopub.status.idle": "2023-02-27T14:23:15.808675Z",
     "shell.execute_reply": "2023-02-27T14:23:15.807521Z"
    }
   },
   "outputs": [
    {
     "name": "stdout",
     "output_type": "stream",
     "text": [
      "78.9 ns ± 0.973 ns per loop (mean ± std. dev. of 7 runs, 10,000,000 loops each)\n"
     ]
    }
   ],
   "source": [
    "%timeit t.a = new_value"
   ]
  },
  {
   "cell_type": "markdown",
   "id": "48c49731",
   "metadata": {},
   "source": [
    "### Tianshou Batch's Get and Set"
   ]
  },
  {
   "cell_type": "code",
   "execution_count": 8,
   "id": "f1bb14c1",
   "metadata": {
    "execution": {
     "iopub.execute_input": "2023-02-27T14:23:15.812669Z",
     "iopub.status.busy": "2023-02-27T14:23:15.812360Z",
     "iopub.status.idle": "2023-02-27T14:23:16.275042Z",
     "shell.execute_reply": "2023-02-27T14:23:16.274039Z"
    }
   },
   "outputs": [],
   "source": [
    "from tianshou.data import Batch\n",
    "\n",
    "b = Batch(**_TREE_DATA_2)"
   ]
  },
  {
   "cell_type": "code",
   "execution_count": 9,
   "id": "cb0777c3",
   "metadata": {
    "execution": {
     "iopub.execute_input": "2023-02-27T14:23:16.279043Z",
     "iopub.status.busy": "2023-02-27T14:23:16.278648Z",
     "iopub.status.idle": "2023-02-27T14:23:16.286660Z",
     "shell.execute_reply": "2023-02-27T14:23:16.285745Z"
    }
   },
   "outputs": [
    {
     "data": {
      "text/plain": [
       "Batch(\n",
       "    a: tensor([[-0.9350,  0.7279,  1.4273],\n",
       "               [ 0.4053,  1.6148, -0.6397]]),\n",
       "    x: Batch(\n",
       "           c: tensor([[-0.4748, -1.2389, -2.2595, -0.0433],\n",
       "                      [-0.8744,  0.0724, -0.8893, -0.9001],\n",
       "                      [ 1.1261, -0.7622, -0.2621,  0.1067]]),\n",
       "       ),\n",
       ")"
      ]
     },
     "execution_count": 9,
     "metadata": {},
     "output_type": "execute_result"
    }
   ],
   "source": [
    "b"
   ]
  },
  {
   "cell_type": "code",
   "execution_count": 10,
   "id": "43ef8ea3",
   "metadata": {
    "execution": {
     "iopub.execute_input": "2023-02-27T14:23:16.290722Z",
     "iopub.status.busy": "2023-02-27T14:23:16.290210Z",
     "iopub.status.idle": "2023-02-27T14:23:16.297478Z",
     "shell.execute_reply": "2023-02-27T14:23:16.296620Z"
    }
   },
   "outputs": [
    {
     "data": {
      "text/plain": [
       "tensor([[-0.9350,  0.7279,  1.4273],\n",
       "        [ 0.4053,  1.6148, -0.6397]])"
      ]
     },
     "execution_count": 10,
     "metadata": {},
     "output_type": "execute_result"
    }
   ],
   "source": [
    "b.a"
   ]
  },
  {
   "cell_type": "code",
   "execution_count": 11,
   "id": "b785ab72",
   "metadata": {
    "execution": {
     "iopub.execute_input": "2023-02-27T14:23:16.301035Z",
     "iopub.status.busy": "2023-02-27T14:23:16.300497Z",
     "iopub.status.idle": "2023-02-27T14:23:21.709161Z",
     "shell.execute_reply": "2023-02-27T14:23:21.708151Z"
    }
   },
   "outputs": [
    {
     "name": "stdout",
     "output_type": "stream",
     "text": [
      "66 ns ± 1.29 ns per loop (mean ± std. dev. of 7 runs, 10,000,000 loops each)\n"
     ]
    }
   ],
   "source": [
    "%timeit b.a"
   ]
  },
  {
   "cell_type": "code",
   "execution_count": 12,
   "id": "ad54dc69",
   "metadata": {
    "execution": {
     "iopub.execute_input": "2023-02-27T14:23:21.712667Z",
     "iopub.status.busy": "2023-02-27T14:23:21.712364Z",
     "iopub.status.idle": "2023-02-27T14:23:21.720676Z",
     "shell.execute_reply": "2023-02-27T14:23:21.719826Z"
    }
   },
   "outputs": [
    {
     "data": {
      "text/plain": [
       "Batch(\n",
       "    a: tensor([[-0.0668, -0.6080,  0.4004],\n",
       "               [ 0.1907,  0.0284, -0.1178]]),\n",
       "    x: Batch(\n",
       "           c: tensor([[-0.4748, -1.2389, -2.2595, -0.0433],\n",
       "                      [-0.8744,  0.0724, -0.8893, -0.9001],\n",
       "                      [ 1.1261, -0.7622, -0.2621,  0.1067]]),\n",
       "       ),\n",
       ")"
      ]
     },
     "execution_count": 12,
     "metadata": {},
     "output_type": "execute_result"
    }
   ],
   "source": [
    "new_value = torch.randn(2, 3)\n",
    "b.a = new_value\n",
    "\n",
    "b"
   ]
  },
  {
   "cell_type": "code",
   "execution_count": 13,
   "id": "29b1d0bf",
   "metadata": {
    "execution": {
     "iopub.execute_input": "2023-02-27T14:23:21.723975Z",
     "iopub.status.busy": "2023-02-27T14:23:21.723552Z",
     "iopub.status.idle": "2023-02-27T14:23:26.712348Z",
     "shell.execute_reply": "2023-02-27T14:23:26.711374Z"
    }
   },
   "outputs": [
    {
     "name": "stdout",
     "output_type": "stream",
     "text": [
      "615 ns ± 7.58 ns per loop (mean ± std. dev. of 7 runs, 1,000,000 loops each)\n"
     ]
    }
   ],
   "source": [
    "%timeit b.a = new_value"
   ]
  },
  {
   "cell_type": "markdown",
   "id": "b61ad1d0",
   "metadata": {},
   "source": [
    "## Initialization"
   ]
  },
  {
   "cell_type": "markdown",
   "id": "d70f0d54",
   "metadata": {},
   "source": [
    "### TreeValue's Initialization"
   ]
  },
  {
   "cell_type": "code",
   "execution_count": 14,
   "id": "d32a679b",
   "metadata": {
    "execution": {
     "iopub.execute_input": "2023-02-27T14:23:26.715994Z",
     "iopub.status.busy": "2023-02-27T14:23:26.715718Z",
     "iopub.status.idle": "2023-02-27T14:23:34.908207Z",
     "shell.execute_reply": "2023-02-27T14:23:34.907231Z"
    }
   },
   "outputs": [
    {
     "name": "stdout",
     "output_type": "stream",
     "text": [
      "1.01 µs ± 15.5 ns per loop (mean ± std. dev. of 7 runs, 1,000,000 loops each)\n"
     ]
    }
   ],
   "source": [
    "%timeit FastTreeValue(_TREE_DATA_1)"
   ]
  },
  {
   "cell_type": "markdown",
   "id": "24f3707b",
   "metadata": {},
   "source": [
    "### Tianshou Batch's Initialization"
   ]
  },
  {
   "cell_type": "code",
   "execution_count": 15,
   "id": "ac3958df",
   "metadata": {
    "execution": {
     "iopub.execute_input": "2023-02-27T14:23:34.912101Z",
     "iopub.status.busy": "2023-02-27T14:23:34.911789Z",
     "iopub.status.idle": "2023-02-27T14:23:45.707724Z",
     "shell.execute_reply": "2023-02-27T14:23:45.706732Z"
    }
   },
   "outputs": [
    {
     "name": "stdout",
     "output_type": "stream",
     "text": [
      "13.3 µs ± 134 ns per loop (mean ± std. dev. of 7 runs, 100,000 loops each)\n"
     ]
    }
   ],
   "source": [
    "%timeit Batch(**_TREE_DATA_1)"
   ]
  },
  {
   "cell_type": "markdown",
   "id": "1ab82e2d",
   "metadata": {},
   "source": [
    "## Deep Copy Operation"
   ]
  },
  {
   "cell_type": "code",
   "execution_count": 16,
   "id": "210a9442",
   "metadata": {
    "execution": {
     "iopub.execute_input": "2023-02-27T14:23:45.711400Z",
     "iopub.status.busy": "2023-02-27T14:23:45.711123Z",
     "iopub.status.idle": "2023-02-27T14:23:45.716017Z",
     "shell.execute_reply": "2023-02-27T14:23:45.715092Z"
    }
   },
   "outputs": [],
   "source": [
    "import copy"
   ]
  },
  {
   "cell_type": "markdown",
   "id": "5a736274",
   "metadata": {},
   "source": [
    "### Deep Copy of TreeValue"
   ]
  },
  {
   "cell_type": "code",
   "execution_count": 17,
   "id": "f9bcadd6",
   "metadata": {
    "execution": {
     "iopub.execute_input": "2023-02-27T14:23:45.719431Z",
     "iopub.status.busy": "2023-02-27T14:23:45.718900Z",
     "iopub.status.idle": "2023-02-27T14:23:48.022077Z",
     "shell.execute_reply": "2023-02-27T14:23:48.021252Z"
    }
   },
   "outputs": [
    {
     "name": "stdout",
     "output_type": "stream",
     "text": [
      "283 µs ± 4.96 µs per loop (mean ± std. dev. of 7 runs, 1,000 loops each)\n"
     ]
    }
   ],
   "source": [
    "t3 = FastTreeValue(_TREE_DATA_3)\n",
    "%timeit copy.deepcopy(t3)"
   ]
  },
  {
   "cell_type": "markdown",
   "id": "bf8be7ea",
   "metadata": {},
   "source": [
    "### Deep Copy of Tianshou Batch"
   ]
  },
  {
   "cell_type": "code",
   "execution_count": 18,
   "id": "91998e6f",
   "metadata": {
    "execution": {
     "iopub.execute_input": "2023-02-27T14:23:48.025609Z",
     "iopub.status.busy": "2023-02-27T14:23:48.024887Z",
     "iopub.status.idle": "2023-02-27T14:23:50.222071Z",
     "shell.execute_reply": "2023-02-27T14:23:50.220812Z"
    }
   },
   "outputs": [
    {
     "name": "stdout",
     "output_type": "stream",
     "text": [
      "267 µs ± 6.85 µs per loop (mean ± std. dev. of 7 runs, 1,000 loops each)\n"
     ]
    }
   ],
   "source": [
    "b3 = Batch(**_TREE_DATA_3)\n",
    "%timeit copy.deepcopy(b3)"
   ]
  },
  {
   "cell_type": "markdown",
   "id": "223162fb",
   "metadata": {},
   "source": [
    "## Stack, Concat and Split Operation"
   ]
  },
  {
   "cell_type": "markdown",
   "id": "85fa4a73",
   "metadata": {},
   "source": [
    "### Performance of TreeValue"
   ]
  },
  {
   "cell_type": "code",
   "execution_count": 19,
   "id": "a0c2b697",
   "metadata": {
    "execution": {
     "iopub.execute_input": "2023-02-27T14:23:50.225946Z",
     "iopub.status.busy": "2023-02-27T14:23:50.225612Z",
     "iopub.status.idle": "2023-02-27T14:23:50.231140Z",
     "shell.execute_reply": "2023-02-27T14:23:50.230234Z"
    }
   },
   "outputs": [],
   "source": [
    "trees = [FastTreeValue(_TREE_DATA_2) for _ in range(8)]"
   ]
  },
  {
   "cell_type": "code",
   "execution_count": 20,
   "id": "017ea5a5",
   "metadata": {
    "execution": {
     "iopub.execute_input": "2023-02-27T14:23:50.234366Z",
     "iopub.status.busy": "2023-02-27T14:23:50.233837Z",
     "iopub.status.idle": "2023-02-27T14:23:50.244763Z",
     "shell.execute_reply": "2023-02-27T14:23:50.243546Z"
    }
   },
   "outputs": [
    {
     "data": {
      "text/plain": [
       "<FastTreeValue 0x7efdf8ab0dc0>\n",
       "├── 'a' --> tensor([[[-0.9350,  0.7279,  1.4273],\n",
       "│                    [ 0.4053,  1.6148, -0.6397]],\n",
       "│           \n",
       "│                   [[-0.9350,  0.7279,  1.4273],\n",
       "│                    [ 0.4053,  1.6148, -0.6397]],\n",
       "│           \n",
       "│                   [[-0.9350,  0.7279,  1.4273],\n",
       "│                    [ 0.4053,  1.6148, -0.6397]],\n",
       "│           \n",
       "│                   [[-0.9350,  0.7279,  1.4273],\n",
       "│                    [ 0.4053,  1.6148, -0.6397]],\n",
       "│           \n",
       "│                   [[-0.9350,  0.7279,  1.4273],\n",
       "│                    [ 0.4053,  1.6148, -0.6397]],\n",
       "│           \n",
       "│                   [[-0.9350,  0.7279,  1.4273],\n",
       "│                    [ 0.4053,  1.6148, -0.6397]],\n",
       "│           \n",
       "│                   [[-0.9350,  0.7279,  1.4273],\n",
       "│                    [ 0.4053,  1.6148, -0.6397]],\n",
       "│           \n",
       "│                   [[-0.9350,  0.7279,  1.4273],\n",
       "│                    [ 0.4053,  1.6148, -0.6397]]])\n",
       "└── 'x' --> <FastTreeValue 0x7efdf8ab0d90>\n",
       "    └── 'c' --> tensor([[[-0.4748, -1.2389, -2.2595, -0.0433],\n",
       "                         [-0.8744,  0.0724, -0.8893, -0.9001],\n",
       "                         [ 1.1261, -0.7622, -0.2621,  0.1067]],\n",
       "                \n",
       "                        [[-0.4748, -1.2389, -2.2595, -0.0433],\n",
       "                         [-0.8744,  0.0724, -0.8893, -0.9001],\n",
       "                         [ 1.1261, -0.7622, -0.2621,  0.1067]],\n",
       "                \n",
       "                        [[-0.4748, -1.2389, -2.2595, -0.0433],\n",
       "                         [-0.8744,  0.0724, -0.8893, -0.9001],\n",
       "                         [ 1.1261, -0.7622, -0.2621,  0.1067]],\n",
       "                \n",
       "                        [[-0.4748, -1.2389, -2.2595, -0.0433],\n",
       "                         [-0.8744,  0.0724, -0.8893, -0.9001],\n",
       "                         [ 1.1261, -0.7622, -0.2621,  0.1067]],\n",
       "                \n",
       "                        [[-0.4748, -1.2389, -2.2595, -0.0433],\n",
       "                         [-0.8744,  0.0724, -0.8893, -0.9001],\n",
       "                         [ 1.1261, -0.7622, -0.2621,  0.1067]],\n",
       "                \n",
       "                        [[-0.4748, -1.2389, -2.2595, -0.0433],\n",
       "                         [-0.8744,  0.0724, -0.8893, -0.9001],\n",
       "                         [ 1.1261, -0.7622, -0.2621,  0.1067]],\n",
       "                \n",
       "                        [[-0.4748, -1.2389, -2.2595, -0.0433],\n",
       "                         [-0.8744,  0.0724, -0.8893, -0.9001],\n",
       "                         [ 1.1261, -0.7622, -0.2621,  0.1067]],\n",
       "                \n",
       "                        [[-0.4748, -1.2389, -2.2595, -0.0433],\n",
       "                         [-0.8744,  0.0724, -0.8893, -0.9001],\n",
       "                         [ 1.1261, -0.7622, -0.2621,  0.1067]]])"
      ]
     },
     "execution_count": 20,
     "metadata": {},
     "output_type": "execute_result"
    }
   ],
   "source": [
    "t_stack = FastTreeValue.func(subside=True)(torch.stack)\n",
    "\n",
    "t_stack(trees)"
   ]
  },
  {
   "cell_type": "code",
   "execution_count": 21,
   "id": "f8b3f415",
   "metadata": {
    "execution": {
     "iopub.execute_input": "2023-02-27T14:23:50.250804Z",
     "iopub.status.busy": "2023-02-27T14:23:50.248469Z",
     "iopub.status.idle": "2023-02-27T14:23:53.938502Z",
     "shell.execute_reply": "2023-02-27T14:23:53.937549Z"
    }
   },
   "outputs": [
    {
     "name": "stdout",
     "output_type": "stream",
     "text": [
      "45.4 µs ± 921 ns per loop (mean ± std. dev. of 7 runs, 10,000 loops each)\n"
     ]
    }
   ],
   "source": [
    "%timeit t_stack(trees)"
   ]
  },
  {
   "cell_type": "code",
   "execution_count": 22,
   "id": "94b56771",
   "metadata": {
    "execution": {
     "iopub.execute_input": "2023-02-27T14:23:53.942216Z",
     "iopub.status.busy": "2023-02-27T14:23:53.941676Z",
     "iopub.status.idle": "2023-02-27T14:23:53.952921Z",
     "shell.execute_reply": "2023-02-27T14:23:53.951913Z"
    }
   },
   "outputs": [
    {
     "data": {
      "text/plain": [
       "<FastTreeValue 0x7efeb0822bb0>\n",
       "├── 'a' --> tensor([[-0.9350,  0.7279,  1.4273],\n",
       "│                   [ 0.4053,  1.6148, -0.6397],\n",
       "│                   [-0.9350,  0.7279,  1.4273],\n",
       "│                   [ 0.4053,  1.6148, -0.6397],\n",
       "│                   [-0.9350,  0.7279,  1.4273],\n",
       "│                   [ 0.4053,  1.6148, -0.6397],\n",
       "│                   [-0.9350,  0.7279,  1.4273],\n",
       "│                   [ 0.4053,  1.6148, -0.6397],\n",
       "│                   [-0.9350,  0.7279,  1.4273],\n",
       "│                   [ 0.4053,  1.6148, -0.6397],\n",
       "│                   [-0.9350,  0.7279,  1.4273],\n",
       "│                   [ 0.4053,  1.6148, -0.6397],\n",
       "│                   [-0.9350,  0.7279,  1.4273],\n",
       "│                   [ 0.4053,  1.6148, -0.6397],\n",
       "│                   [-0.9350,  0.7279,  1.4273],\n",
       "│                   [ 0.4053,  1.6148, -0.6397]])\n",
       "└── 'x' --> <FastTreeValue 0x7efdf90f6ca0>\n",
       "    └── 'c' --> tensor([[-0.4748, -1.2389, -2.2595, -0.0433],\n",
       "                        [-0.8744,  0.0724, -0.8893, -0.9001],\n",
       "                        [ 1.1261, -0.7622, -0.2621,  0.1067],\n",
       "                        [-0.4748, -1.2389, -2.2595, -0.0433],\n",
       "                        [-0.8744,  0.0724, -0.8893, -0.9001],\n",
       "                        [ 1.1261, -0.7622, -0.2621,  0.1067],\n",
       "                        [-0.4748, -1.2389, -2.2595, -0.0433],\n",
       "                        [-0.8744,  0.0724, -0.8893, -0.9001],\n",
       "                        [ 1.1261, -0.7622, -0.2621,  0.1067],\n",
       "                        [-0.4748, -1.2389, -2.2595, -0.0433],\n",
       "                        [-0.8744,  0.0724, -0.8893, -0.9001],\n",
       "                        [ 1.1261, -0.7622, -0.2621,  0.1067],\n",
       "                        [-0.4748, -1.2389, -2.2595, -0.0433],\n",
       "                        [-0.8744,  0.0724, -0.8893, -0.9001],\n",
       "                        [ 1.1261, -0.7622, -0.2621,  0.1067],\n",
       "                        [-0.4748, -1.2389, -2.2595, -0.0433],\n",
       "                        [-0.8744,  0.0724, -0.8893, -0.9001],\n",
       "                        [ 1.1261, -0.7622, -0.2621,  0.1067],\n",
       "                        [-0.4748, -1.2389, -2.2595, -0.0433],\n",
       "                        [-0.8744,  0.0724, -0.8893, -0.9001],\n",
       "                        [ 1.1261, -0.7622, -0.2621,  0.1067],\n",
       "                        [-0.4748, -1.2389, -2.2595, -0.0433],\n",
       "                        [-0.8744,  0.0724, -0.8893, -0.9001],\n",
       "                        [ 1.1261, -0.7622, -0.2621,  0.1067]])"
      ]
     },
     "execution_count": 22,
     "metadata": {},
     "output_type": "execute_result"
    }
   ],
   "source": [
    "t_cat = FastTreeValue.func(subside=True)(torch.cat)\n",
    "\n",
    "t_cat(trees)"
   ]
  },
  {
   "cell_type": "code",
   "execution_count": 23,
   "id": "5e9c06a6",
   "metadata": {
    "execution": {
     "iopub.execute_input": "2023-02-27T14:23:53.956616Z",
     "iopub.status.busy": "2023-02-27T14:23:53.956310Z",
     "iopub.status.idle": "2023-02-27T14:23:57.259428Z",
     "shell.execute_reply": "2023-02-27T14:23:57.258443Z"
    }
   },
   "outputs": [
    {
     "name": "stdout",
     "output_type": "stream",
     "text": [
      "40.6 µs ± 1.05 µs per loop (mean ± std. dev. of 7 runs, 10,000 loops each)\n"
     ]
    }
   ],
   "source": [
    "%timeit t_cat(trees)"
   ]
  },
  {
   "cell_type": "code",
   "execution_count": 24,
   "id": "a3ab5c8f",
   "metadata": {
    "execution": {
     "iopub.execute_input": "2023-02-27T14:23:57.263042Z",
     "iopub.status.busy": "2023-02-27T14:23:57.262255Z",
     "iopub.status.idle": "2023-02-27T14:24:03.682983Z",
     "shell.execute_reply": "2023-02-27T14:24:03.681910Z"
    }
   },
   "outputs": [
    {
     "name": "stdout",
     "output_type": "stream",
     "text": [
      "78.6 µs ± 765 ns per loop (mean ± std. dev. of 7 runs, 10,000 loops each)\n"
     ]
    }
   ],
   "source": [
    "t_split = FastTreeValue.func(rise=True)(torch.split)\n",
    "tree = FastTreeValue({\n",
    "    'obs': torch.randn(8, 4, 84, 84),\n",
    "    'action': torch.randint(0, 6, size=(8, 1,)),\n",
    "    'reward': torch.rand(8, 1),\n",
    "})\n",
    "\n",
    "%timeit t_split(tree, 1)"
   ]
  },
  {
   "cell_type": "markdown",
   "id": "31c3ec0b",
   "metadata": {},
   "source": [
    "### Performance of Tianshou Batch"
   ]
  },
  {
   "cell_type": "code",
   "execution_count": 25,
   "id": "9ead828a",
   "metadata": {
    "execution": {
     "iopub.execute_input": "2023-02-27T14:24:03.686780Z",
     "iopub.status.busy": "2023-02-27T14:24:03.685886Z",
     "iopub.status.idle": "2023-02-27T14:24:03.696605Z",
     "shell.execute_reply": "2023-02-27T14:24:03.695739Z"
    }
   },
   "outputs": [
    {
     "data": {
      "text/plain": [
       "Batch(\n",
       "    x: Batch(\n",
       "           c: tensor([[[-0.4748, -1.2389, -2.2595, -0.0433],\n",
       "                       [-0.8744,  0.0724, -0.8893, -0.9001],\n",
       "                       [ 1.1261, -0.7622, -0.2621,  0.1067]],\n",
       "              \n",
       "                      [[-0.4748, -1.2389, -2.2595, -0.0433],\n",
       "                       [-0.8744,  0.0724, -0.8893, -0.9001],\n",
       "                       [ 1.1261, -0.7622, -0.2621,  0.1067]],\n",
       "              \n",
       "                      [[-0.4748, -1.2389, -2.2595, -0.0433],\n",
       "                       [-0.8744,  0.0724, -0.8893, -0.9001],\n",
       "                       [ 1.1261, -0.7622, -0.2621,  0.1067]],\n",
       "              \n",
       "                      [[-0.4748, -1.2389, -2.2595, -0.0433],\n",
       "                       [-0.8744,  0.0724, -0.8893, -0.9001],\n",
       "                       [ 1.1261, -0.7622, -0.2621,  0.1067]],\n",
       "              \n",
       "                      [[-0.4748, -1.2389, -2.2595, -0.0433],\n",
       "                       [-0.8744,  0.0724, -0.8893, -0.9001],\n",
       "                       [ 1.1261, -0.7622, -0.2621,  0.1067]],\n",
       "              \n",
       "                      [[-0.4748, -1.2389, -2.2595, -0.0433],\n",
       "                       [-0.8744,  0.0724, -0.8893, -0.9001],\n",
       "                       [ 1.1261, -0.7622, -0.2621,  0.1067]],\n",
       "              \n",
       "                      [[-0.4748, -1.2389, -2.2595, -0.0433],\n",
       "                       [-0.8744,  0.0724, -0.8893, -0.9001],\n",
       "                       [ 1.1261, -0.7622, -0.2621,  0.1067]],\n",
       "              \n",
       "                      [[-0.4748, -1.2389, -2.2595, -0.0433],\n",
       "                       [-0.8744,  0.0724, -0.8893, -0.9001],\n",
       "                       [ 1.1261, -0.7622, -0.2621,  0.1067]]]),\n",
       "       ),\n",
       "    a: tensor([[[-0.9350,  0.7279,  1.4273],\n",
       "                [ 0.4053,  1.6148, -0.6397]],\n",
       "       \n",
       "               [[-0.9350,  0.7279,  1.4273],\n",
       "                [ 0.4053,  1.6148, -0.6397]],\n",
       "       \n",
       "               [[-0.9350,  0.7279,  1.4273],\n",
       "                [ 0.4053,  1.6148, -0.6397]],\n",
       "       \n",
       "               [[-0.9350,  0.7279,  1.4273],\n",
       "                [ 0.4053,  1.6148, -0.6397]],\n",
       "       \n",
       "               [[-0.9350,  0.7279,  1.4273],\n",
       "                [ 0.4053,  1.6148, -0.6397]],\n",
       "       \n",
       "               [[-0.9350,  0.7279,  1.4273],\n",
       "                [ 0.4053,  1.6148, -0.6397]],\n",
       "       \n",
       "               [[-0.9350,  0.7279,  1.4273],\n",
       "                [ 0.4053,  1.6148, -0.6397]],\n",
       "       \n",
       "               [[-0.9350,  0.7279,  1.4273],\n",
       "                [ 0.4053,  1.6148, -0.6397]]]),\n",
       ")"
      ]
     },
     "execution_count": 25,
     "metadata": {},
     "output_type": "execute_result"
    }
   ],
   "source": [
    "batches = [Batch(**_TREE_DATA_2) for _ in range(8)]\n",
    "\n",
    "Batch.stack(batches)"
   ]
  },
  {
   "cell_type": "code",
   "execution_count": 26,
   "id": "ec9037a3",
   "metadata": {
    "execution": {
     "iopub.execute_input": "2023-02-27T14:24:03.700137Z",
     "iopub.status.busy": "2023-02-27T14:24:03.699814Z",
     "iopub.status.idle": "2023-02-27T14:24:12.080437Z",
     "shell.execute_reply": "2023-02-27T14:24:12.079357Z"
    }
   },
   "outputs": [
    {
     "name": "stdout",
     "output_type": "stream",
     "text": [
      "103 µs ± 1.82 µs per loop (mean ± std. dev. of 7 runs, 10,000 loops each)\n"
     ]
    }
   ],
   "source": [
    "%timeit Batch.stack(batches)"
   ]
  },
  {
   "cell_type": "code",
   "execution_count": 27,
   "id": "cb8ab77e",
   "metadata": {
    "execution": {
     "iopub.execute_input": "2023-02-27T14:24:12.083952Z",
     "iopub.status.busy": "2023-02-27T14:24:12.083377Z",
     "iopub.status.idle": "2023-02-27T14:24:12.091987Z",
     "shell.execute_reply": "2023-02-27T14:24:12.091171Z"
    }
   },
   "outputs": [
    {
     "data": {
      "text/plain": [
       "Batch(\n",
       "    x: Batch(\n",
       "           c: tensor([[-0.4748, -1.2389, -2.2595, -0.0433],\n",
       "                      [-0.8744,  0.0724, -0.8893, -0.9001],\n",
       "                      [ 1.1261, -0.7622, -0.2621,  0.1067],\n",
       "                      [-0.4748, -1.2389, -2.2595, -0.0433],\n",
       "                      [-0.8744,  0.0724, -0.8893, -0.9001],\n",
       "                      [ 1.1261, -0.7622, -0.2621,  0.1067],\n",
       "                      [-0.4748, -1.2389, -2.2595, -0.0433],\n",
       "                      [-0.8744,  0.0724, -0.8893, -0.9001],\n",
       "                      [ 1.1261, -0.7622, -0.2621,  0.1067],\n",
       "                      [-0.4748, -1.2389, -2.2595, -0.0433],\n",
       "                      [-0.8744,  0.0724, -0.8893, -0.9001],\n",
       "                      [ 1.1261, -0.7622, -0.2621,  0.1067],\n",
       "                      [-0.4748, -1.2389, -2.2595, -0.0433],\n",
       "                      [-0.8744,  0.0724, -0.8893, -0.9001],\n",
       "                      [ 1.1261, -0.7622, -0.2621,  0.1067],\n",
       "                      [-0.4748, -1.2389, -2.2595, -0.0433],\n",
       "                      [-0.8744,  0.0724, -0.8893, -0.9001],\n",
       "                      [ 1.1261, -0.7622, -0.2621,  0.1067],\n",
       "                      [-0.4748, -1.2389, -2.2595, -0.0433],\n",
       "                      [-0.8744,  0.0724, -0.8893, -0.9001],\n",
       "                      [ 1.1261, -0.7622, -0.2621,  0.1067],\n",
       "                      [-0.4748, -1.2389, -2.2595, -0.0433],\n",
       "                      [-0.8744,  0.0724, -0.8893, -0.9001],\n",
       "                      [ 1.1261, -0.7622, -0.2621,  0.1067]]),\n",
       "       ),\n",
       "    a: tensor([[-0.9350,  0.7279,  1.4273],\n",
       "               [ 0.4053,  1.6148, -0.6397],\n",
       "               [-0.9350,  0.7279,  1.4273],\n",
       "               [ 0.4053,  1.6148, -0.6397],\n",
       "               [-0.9350,  0.7279,  1.4273],\n",
       "               [ 0.4053,  1.6148, -0.6397],\n",
       "               [-0.9350,  0.7279,  1.4273],\n",
       "               [ 0.4053,  1.6148, -0.6397],\n",
       "               [-0.9350,  0.7279,  1.4273],\n",
       "               [ 0.4053,  1.6148, -0.6397],\n",
       "               [-0.9350,  0.7279,  1.4273],\n",
       "               [ 0.4053,  1.6148, -0.6397],\n",
       "               [-0.9350,  0.7279,  1.4273],\n",
       "               [ 0.4053,  1.6148, -0.6397],\n",
       "               [-0.9350,  0.7279,  1.4273],\n",
       "               [ 0.4053,  1.6148, -0.6397]]),\n",
       ")"
      ]
     },
     "execution_count": 27,
     "metadata": {},
     "output_type": "execute_result"
    }
   ],
   "source": [
    "Batch.cat(batches)"
   ]
  },
  {
   "cell_type": "code",
   "execution_count": 28,
   "id": "18dfb045",
   "metadata": {
    "execution": {
     "iopub.execute_input": "2023-02-27T14:24:12.095188Z",
     "iopub.status.busy": "2023-02-27T14:24:12.094712Z",
     "iopub.status.idle": "2023-02-27T14:24:13.950991Z",
     "shell.execute_reply": "2023-02-27T14:24:13.950033Z"
    }
   },
   "outputs": [
    {
     "name": "stdout",
     "output_type": "stream",
     "text": [
      "226 µs ± 5.43 µs per loop (mean ± std. dev. of 7 runs, 1,000 loops each)\n"
     ]
    }
   ],
   "source": [
    "%timeit Batch.cat(batches)"
   ]
  },
  {
   "cell_type": "code",
   "execution_count": 29,
   "id": "c6688e51",
   "metadata": {
    "execution": {
     "iopub.execute_input": "2023-02-27T14:24:13.954279Z",
     "iopub.status.busy": "2023-02-27T14:24:13.953816Z",
     "iopub.status.idle": "2023-02-27T14:24:18.841705Z",
     "shell.execute_reply": "2023-02-27T14:24:18.840551Z"
    }
   },
   "outputs": [
    {
     "name": "stdout",
     "output_type": "stream",
     "text": [
      "598 µs ± 11.1 µs per loop (mean ± std. dev. of 7 runs, 1,000 loops each)\n"
     ]
    }
   ],
   "source": [
    "batch = Batch({\n",
    "    'obs': torch.randn(8, 4, 84, 84),\n",
    "    'action': torch.randint(0, 6, size=(8, 1,)),\n",
    "    'reward': torch.rand(8, 1)}\n",
    ")\n",
    "\n",
    "%timeit list(Batch.split(batch, 1, shuffle=False, merge_last=True))"
   ]
  },
  {
   "cell_type": "code",
   "execution_count": null,
   "id": "2539fbd9",
   "metadata": {},
   "outputs": [],
   "source": []
  }
 ],
 "metadata": {
  "kernelspec": {
   "display_name": "Python 3 (ipykernel)",
   "language": "python",
   "name": "python3"
  },
  "language_info": {
   "codemirror_mode": {
    "name": "ipython",
    "version": 3
   },
   "file_extension": ".py",
   "mimetype": "text/x-python",
   "name": "python",
   "nbconvert_exporter": "python",
   "pygments_lexer": "ipython3",
   "version": "3.8.16"
  }
 },
 "nbformat": 4,
 "nbformat_minor": 5
}
