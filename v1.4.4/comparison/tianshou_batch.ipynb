{
 "cells": [
  {
   "cell_type": "markdown",
   "id": "9d39d946",
   "metadata": {},
   "source": [
    "# Comparison Between TreeValue and Tianshou Batch"
   ]
  },
  {
   "cell_type": "markdown",
   "id": "3c6db2d4",
   "metadata": {},
   "source": [
    "In this section, we will take a look at the feature and performance of the [Tianshou Batch](https://github.com/thu-ml/tianshou) library, which is developed by Tsinghua Machine Learning Group."
   ]
  },
  {
   "cell_type": "markdown",
   "id": "069361b0",
   "metadata": {},
   "source": [
    "Before starting the comparison, let us define some thing."
   ]
  },
  {
   "cell_type": "code",
   "execution_count": 1,
   "id": "06fc8d26",
   "metadata": {
    "execution": {
     "iopub.execute_input": "2023-02-26T15:44:54.531948Z",
     "iopub.status.busy": "2023-02-26T15:44:54.531701Z",
     "iopub.status.idle": "2023-02-26T15:44:55.464290Z",
     "shell.execute_reply": "2023-02-26T15:44:55.463597Z"
    }
   },
   "outputs": [
    {
     "name": "stderr",
     "output_type": "stream",
     "text": [
      "/opt/hostedtoolcache/Python/3.8.16/x64/lib/python3.8/site-packages/tqdm/auto.py:22: TqdmWarning: IProgress not found. Please update jupyter and ipywidgets. See https://ipywidgets.readthedocs.io/en/stable/user_install.html\n",
      "  from .autonotebook import tqdm as notebook_tqdm\n"
     ]
    }
   ],
   "source": [
    "import torch \n",
    "\n",
    "_TREE_DATA_1 = {'a': 1, 'b': 2, 'x': {'c': 3, 'd': 4}}\n",
    "_TREE_DATA_2 = {\n",
    "    'a': torch.randn(2, 3), \n",
    "    'x': {\n",
    "        'c': torch.randn(3, 4)\n",
    "    },\n",
    "}\n",
    "_TREE_DATA_3 = {\n",
    "    'obs': torch.randn(4, 84, 84),\n",
    "    'action': torch.randint(0, 6, size=(1,)),\n",
    "    'reward': torch.rand(1),\n",
    "}"
   ]
  },
  {
   "cell_type": "markdown",
   "id": "83461b25",
   "metadata": {},
   "source": [
    "## Read and Write Operation"
   ]
  },
  {
   "cell_type": "markdown",
   "id": "067b3f73",
   "metadata": {},
   "source": [
    "Reading and writing are the two most common operations in the tree data structure based on the data model (TreeValue and Tianshou Batch both belong to this type), so this section will compare the reading and writing performance of these two libraries."
   ]
  },
  {
   "cell_type": "markdown",
   "id": "5d09a5b7",
   "metadata": {},
   "source": [
    "### TreeValue's Get and Set"
   ]
  },
  {
   "cell_type": "code",
   "execution_count": 2,
   "id": "9519c4bb",
   "metadata": {
    "execution": {
     "iopub.execute_input": "2023-02-26T15:44:55.467877Z",
     "iopub.status.busy": "2023-02-26T15:44:55.467267Z",
     "iopub.status.idle": "2023-02-26T15:44:55.500704Z",
     "shell.execute_reply": "2023-02-26T15:44:55.499876Z"
    }
   },
   "outputs": [],
   "source": [
    "from treevalue import FastTreeValue\n",
    "\n",
    "t = FastTreeValue(_TREE_DATA_2)"
   ]
  },
  {
   "cell_type": "code",
   "execution_count": 3,
   "id": "11c37677",
   "metadata": {
    "execution": {
     "iopub.execute_input": "2023-02-26T15:44:55.504078Z",
     "iopub.status.busy": "2023-02-26T15:44:55.503462Z",
     "iopub.status.idle": "2023-02-26T15:44:55.512823Z",
     "shell.execute_reply": "2023-02-26T15:44:55.512246Z"
    }
   },
   "outputs": [
    {
     "data": {
      "text/plain": [
       "<FastTreeValue 0x7f44ccb55340>\n",
       "├── 'a' --> tensor([[ 0.5041,  1.2360,  0.2610],\n",
       "│                   [ 0.8510, -0.4521, -0.4435]])\n",
       "└── 'x' --> <FastTreeValue 0x7f44ccb55370>\n",
       "    └── 'c' --> tensor([[-1.4971,  0.1210, -0.6600,  0.4528],\n",
       "                        [ 0.7952,  0.5897, -1.6311,  1.3515],\n",
       "                        [-0.3463,  1.2555,  0.8439,  0.4564]])"
      ]
     },
     "execution_count": 3,
     "metadata": {},
     "output_type": "execute_result"
    }
   ],
   "source": [
    "t"
   ]
  },
  {
   "cell_type": "code",
   "execution_count": 4,
   "id": "fd70b0b9",
   "metadata": {
    "execution": {
     "iopub.execute_input": "2023-02-26T15:44:55.515307Z",
     "iopub.status.busy": "2023-02-26T15:44:55.514953Z",
     "iopub.status.idle": "2023-02-26T15:44:55.520020Z",
     "shell.execute_reply": "2023-02-26T15:44:55.519384Z"
    }
   },
   "outputs": [
    {
     "data": {
      "text/plain": [
       "tensor([[ 0.5041,  1.2360,  0.2610],\n",
       "        [ 0.8510, -0.4521, -0.4435]])"
      ]
     },
     "execution_count": 4,
     "metadata": {},
     "output_type": "execute_result"
    }
   ],
   "source": [
    "t.a"
   ]
  },
  {
   "cell_type": "code",
   "execution_count": 5,
   "id": "c18197bd",
   "metadata": {
    "execution": {
     "iopub.execute_input": "2023-02-26T15:44:55.522540Z",
     "iopub.status.busy": "2023-02-26T15:44:55.522201Z",
     "iopub.status.idle": "2023-02-26T15:45:00.245469Z",
     "shell.execute_reply": "2023-02-26T15:45:00.244713Z"
    }
   },
   "outputs": [
    {
     "name": "stdout",
     "output_type": "stream",
     "text": [
      "58.1 ns ± 0.0882 ns per loop (mean ± std. dev. of 7 runs, 10,000,000 loops each)\n"
     ]
    }
   ],
   "source": [
    "%timeit t.a"
   ]
  },
  {
   "cell_type": "code",
   "execution_count": 6,
   "id": "bd52f867",
   "metadata": {
    "execution": {
     "iopub.execute_input": "2023-02-26T15:45:00.248728Z",
     "iopub.status.busy": "2023-02-26T15:45:00.248128Z",
     "iopub.status.idle": "2023-02-26T15:45:00.254992Z",
     "shell.execute_reply": "2023-02-26T15:45:00.254360Z"
    }
   },
   "outputs": [
    {
     "data": {
      "text/plain": [
       "<FastTreeValue 0x7f44ccb55340>\n",
       "├── 'a' --> tensor([[-0.2685, -0.6986,  0.6158],\n",
       "│                   [-0.5906, -0.9826, -0.8500]])\n",
       "└── 'x' --> <FastTreeValue 0x7f44ccb55370>\n",
       "    └── 'c' --> tensor([[-1.4971,  0.1210, -0.6600,  0.4528],\n",
       "                        [ 0.7952,  0.5897, -1.6311,  1.3515],\n",
       "                        [-0.3463,  1.2555,  0.8439,  0.4564]])"
      ]
     },
     "execution_count": 6,
     "metadata": {},
     "output_type": "execute_result"
    }
   ],
   "source": [
    "new_value = torch.randn(2, 3)\n",
    "t.a = new_value\n",
    "\n",
    "t"
   ]
  },
  {
   "cell_type": "code",
   "execution_count": 7,
   "id": "bbe04d1c",
   "metadata": {
    "execution": {
     "iopub.execute_input": "2023-02-26T15:45:00.257520Z",
     "iopub.status.busy": "2023-02-26T15:45:00.257153Z",
     "iopub.status.idle": "2023-02-26T15:45:05.716396Z",
     "shell.execute_reply": "2023-02-26T15:45:05.715607Z"
    }
   },
   "outputs": [
    {
     "name": "stdout",
     "output_type": "stream",
     "text": [
      "67.3 ns ± 0.0153 ns per loop (mean ± std. dev. of 7 runs, 10,000,000 loops each)\n"
     ]
    }
   ],
   "source": [
    "%timeit t.a = new_value"
   ]
  },
  {
   "cell_type": "markdown",
   "id": "48c49731",
   "metadata": {},
   "source": [
    "### Tianshou Batch's Get and Set"
   ]
  },
  {
   "cell_type": "code",
   "execution_count": 8,
   "id": "f1bb14c1",
   "metadata": {
    "execution": {
     "iopub.execute_input": "2023-02-26T15:45:05.719625Z",
     "iopub.status.busy": "2023-02-26T15:45:05.719002Z",
     "iopub.status.idle": "2023-02-26T15:45:06.057517Z",
     "shell.execute_reply": "2023-02-26T15:45:06.056835Z"
    }
   },
   "outputs": [],
   "source": [
    "from tianshou.data import Batch\n",
    "\n",
    "b = Batch(**_TREE_DATA_2)"
   ]
  },
  {
   "cell_type": "code",
   "execution_count": 9,
   "id": "cb0777c3",
   "metadata": {
    "execution": {
     "iopub.execute_input": "2023-02-26T15:45:06.061117Z",
     "iopub.status.busy": "2023-02-26T15:45:06.060447Z",
     "iopub.status.idle": "2023-02-26T15:45:06.066645Z",
     "shell.execute_reply": "2023-02-26T15:45:06.066060Z"
    }
   },
   "outputs": [
    {
     "data": {
      "text/plain": [
       "Batch(\n",
       "    a: tensor([[ 0.5041,  1.2360,  0.2610],\n",
       "               [ 0.8510, -0.4521, -0.4435]]),\n",
       "    x: Batch(\n",
       "           c: tensor([[-1.4971,  0.1210, -0.6600,  0.4528],\n",
       "                      [ 0.7952,  0.5897, -1.6311,  1.3515],\n",
       "                      [-0.3463,  1.2555,  0.8439,  0.4564]]),\n",
       "       ),\n",
       ")"
      ]
     },
     "execution_count": 9,
     "metadata": {},
     "output_type": "execute_result"
    }
   ],
   "source": [
    "b"
   ]
  },
  {
   "cell_type": "code",
   "execution_count": 10,
   "id": "43ef8ea3",
   "metadata": {
    "execution": {
     "iopub.execute_input": "2023-02-26T15:45:06.069583Z",
     "iopub.status.busy": "2023-02-26T15:45:06.069080Z",
     "iopub.status.idle": "2023-02-26T15:45:06.074695Z",
     "shell.execute_reply": "2023-02-26T15:45:06.074108Z"
    }
   },
   "outputs": [
    {
     "data": {
      "text/plain": [
       "tensor([[ 0.5041,  1.2360,  0.2610],\n",
       "        [ 0.8510, -0.4521, -0.4435]])"
      ]
     },
     "execution_count": 10,
     "metadata": {},
     "output_type": "execute_result"
    }
   ],
   "source": [
    "b.a"
   ]
  },
  {
   "cell_type": "code",
   "execution_count": 11,
   "id": "b785ab72",
   "metadata": {
    "execution": {
     "iopub.execute_input": "2023-02-26T15:45:06.077474Z",
     "iopub.status.busy": "2023-02-26T15:45:06.076997Z",
     "iopub.status.idle": "2023-02-26T15:45:10.240485Z",
     "shell.execute_reply": "2023-02-26T15:45:10.239818Z"
    }
   },
   "outputs": [
    {
     "name": "stdout",
     "output_type": "stream",
     "text": [
      "51.2 ns ± 0.0207 ns per loop (mean ± std. dev. of 7 runs, 10,000,000 loops each)\n"
     ]
    }
   ],
   "source": [
    "%timeit b.a"
   ]
  },
  {
   "cell_type": "code",
   "execution_count": 12,
   "id": "ad54dc69",
   "metadata": {
    "execution": {
     "iopub.execute_input": "2023-02-26T15:45:10.243534Z",
     "iopub.status.busy": "2023-02-26T15:45:10.243169Z",
     "iopub.status.idle": "2023-02-26T15:45:10.249573Z",
     "shell.execute_reply": "2023-02-26T15:45:10.248997Z"
    }
   },
   "outputs": [
    {
     "data": {
      "text/plain": [
       "Batch(\n",
       "    a: tensor([[ 1.5049,  0.0287,  0.2918],\n",
       "               [-0.4945,  0.0478,  0.3922]]),\n",
       "    x: Batch(\n",
       "           c: tensor([[-1.4971,  0.1210, -0.6600,  0.4528],\n",
       "                      [ 0.7952,  0.5897, -1.6311,  1.3515],\n",
       "                      [-0.3463,  1.2555,  0.8439,  0.4564]]),\n",
       "       ),\n",
       ")"
      ]
     },
     "execution_count": 12,
     "metadata": {},
     "output_type": "execute_result"
    }
   ],
   "source": [
    "new_value = torch.randn(2, 3)\n",
    "b.a = new_value\n",
    "\n",
    "b"
   ]
  },
  {
   "cell_type": "code",
   "execution_count": 13,
   "id": "29b1d0bf",
   "metadata": {
    "execution": {
     "iopub.execute_input": "2023-02-26T15:45:10.252248Z",
     "iopub.status.busy": "2023-02-26T15:45:10.251904Z",
     "iopub.status.idle": "2023-02-26T15:45:14.266781Z",
     "shell.execute_reply": "2023-02-26T15:45:14.266077Z"
    }
   },
   "outputs": [
    {
     "name": "stdout",
     "output_type": "stream",
     "text": [
      "493 ns ± 0.131 ns per loop (mean ± std. dev. of 7 runs, 1,000,000 loops each)\n"
     ]
    }
   ],
   "source": [
    "%timeit b.a = new_value"
   ]
  },
  {
   "cell_type": "markdown",
   "id": "b61ad1d0",
   "metadata": {},
   "source": [
    "## Initialization"
   ]
  },
  {
   "cell_type": "markdown",
   "id": "d70f0d54",
   "metadata": {},
   "source": [
    "### TreeValue's Initialization"
   ]
  },
  {
   "cell_type": "code",
   "execution_count": 14,
   "id": "d32a679b",
   "metadata": {
    "execution": {
     "iopub.execute_input": "2023-02-26T15:45:14.269834Z",
     "iopub.status.busy": "2023-02-26T15:45:14.269216Z",
     "iopub.status.idle": "2023-02-26T15:45:21.048547Z",
     "shell.execute_reply": "2023-02-26T15:45:21.047855Z"
    }
   },
   "outputs": [
    {
     "name": "stdout",
     "output_type": "stream",
     "text": [
      "831 ns ± 0.45 ns per loop (mean ± std. dev. of 7 runs, 1,000,000 loops each)\n"
     ]
    }
   ],
   "source": [
    "%timeit FastTreeValue(_TREE_DATA_1)"
   ]
  },
  {
   "cell_type": "markdown",
   "id": "24f3707b",
   "metadata": {},
   "source": [
    "### Tianshou Batch's Initialization"
   ]
  },
  {
   "cell_type": "code",
   "execution_count": 15,
   "id": "ac3958df",
   "metadata": {
    "execution": {
     "iopub.execute_input": "2023-02-26T15:45:21.051351Z",
     "iopub.status.busy": "2023-02-26T15:45:21.051104Z",
     "iopub.status.idle": "2023-02-26T15:45:30.087176Z",
     "shell.execute_reply": "2023-02-26T15:45:30.086467Z"
    }
   },
   "outputs": [
    {
     "name": "stdout",
     "output_type": "stream",
     "text": [
      "11.1 µs ± 48.1 ns per loop (mean ± std. dev. of 7 runs, 100,000 loops each)\n"
     ]
    }
   ],
   "source": [
    "%timeit Batch(**_TREE_DATA_1)"
   ]
  },
  {
   "cell_type": "markdown",
   "id": "1ab82e2d",
   "metadata": {},
   "source": [
    "## Deep Copy Operation"
   ]
  },
  {
   "cell_type": "code",
   "execution_count": 16,
   "id": "210a9442",
   "metadata": {
    "execution": {
     "iopub.execute_input": "2023-02-26T15:45:30.090324Z",
     "iopub.status.busy": "2023-02-26T15:45:30.089933Z",
     "iopub.status.idle": "2023-02-26T15:45:30.093966Z",
     "shell.execute_reply": "2023-02-26T15:45:30.093371Z"
    }
   },
   "outputs": [],
   "source": [
    "import copy"
   ]
  },
  {
   "cell_type": "markdown",
   "id": "5a736274",
   "metadata": {},
   "source": [
    "### Deep Copy of TreeValue"
   ]
  },
  {
   "cell_type": "code",
   "execution_count": 17,
   "id": "f9bcadd6",
   "metadata": {
    "execution": {
     "iopub.execute_input": "2023-02-26T15:45:30.096694Z",
     "iopub.status.busy": "2023-02-26T15:45:30.096112Z",
     "iopub.status.idle": "2023-02-26T15:45:41.212382Z",
     "shell.execute_reply": "2023-02-26T15:45:41.211805Z"
    }
   },
   "outputs": [
    {
     "name": "stdout",
     "output_type": "stream",
     "text": [
      "137 µs ± 897 ns per loop (mean ± std. dev. of 7 runs, 10,000 loops each)\n"
     ]
    }
   ],
   "source": [
    "t3 = FastTreeValue(_TREE_DATA_3)\n",
    "%timeit copy.deepcopy(t3)"
   ]
  },
  {
   "cell_type": "markdown",
   "id": "bf8be7ea",
   "metadata": {},
   "source": [
    "### Deep Copy of Tianshou Batch"
   ]
  },
  {
   "cell_type": "code",
   "execution_count": 18,
   "id": "91998e6f",
   "metadata": {
    "execution": {
     "iopub.execute_input": "2023-02-26T15:45:41.215156Z",
     "iopub.status.busy": "2023-02-26T15:45:41.214780Z",
     "iopub.status.idle": "2023-02-26T15:45:52.527993Z",
     "shell.execute_reply": "2023-02-26T15:45:52.527264Z"
    }
   },
   "outputs": [
    {
     "name": "stdout",
     "output_type": "stream",
     "text": [
      "139 µs ± 219 ns per loop (mean ± std. dev. of 7 runs, 10,000 loops each)\n"
     ]
    }
   ],
   "source": [
    "b3 = Batch(**_TREE_DATA_3)\n",
    "%timeit copy.deepcopy(b3)"
   ]
  },
  {
   "cell_type": "markdown",
   "id": "223162fb",
   "metadata": {},
   "source": [
    "## Stack, Concat and Split Operation"
   ]
  },
  {
   "cell_type": "markdown",
   "id": "85fa4a73",
   "metadata": {},
   "source": [
    "### Performance of TreeValue"
   ]
  },
  {
   "cell_type": "code",
   "execution_count": 19,
   "id": "a0c2b697",
   "metadata": {
    "execution": {
     "iopub.execute_input": "2023-02-26T15:45:52.531472Z",
     "iopub.status.busy": "2023-02-26T15:45:52.530921Z",
     "iopub.status.idle": "2023-02-26T15:45:52.535183Z",
     "shell.execute_reply": "2023-02-26T15:45:52.534551Z"
    }
   },
   "outputs": [],
   "source": [
    "trees = [FastTreeValue(_TREE_DATA_2) for _ in range(8)]"
   ]
  },
  {
   "cell_type": "code",
   "execution_count": 20,
   "id": "017ea5a5",
   "metadata": {
    "execution": {
     "iopub.execute_input": "2023-02-26T15:45:52.537914Z",
     "iopub.status.busy": "2023-02-26T15:45:52.537676Z",
     "iopub.status.idle": "2023-02-26T15:45:52.546136Z",
     "shell.execute_reply": "2023-02-26T15:45:52.545538Z"
    }
   },
   "outputs": [
    {
     "data": {
      "text/plain": [
       "<FastTreeValue 0x7f44a8119730>\n",
       "├── 'a' --> tensor([[[ 0.5041,  1.2360,  0.2610],\n",
       "│                    [ 0.8510, -0.4521, -0.4435]],\n",
       "│           \n",
       "│                   [[ 0.5041,  1.2360,  0.2610],\n",
       "│                    [ 0.8510, -0.4521, -0.4435]],\n",
       "│           \n",
       "│                   [[ 0.5041,  1.2360,  0.2610],\n",
       "│                    [ 0.8510, -0.4521, -0.4435]],\n",
       "│           \n",
       "│                   [[ 0.5041,  1.2360,  0.2610],\n",
       "│                    [ 0.8510, -0.4521, -0.4435]],\n",
       "│           \n",
       "│                   [[ 0.5041,  1.2360,  0.2610],\n",
       "│                    [ 0.8510, -0.4521, -0.4435]],\n",
       "│           \n",
       "│                   [[ 0.5041,  1.2360,  0.2610],\n",
       "│                    [ 0.8510, -0.4521, -0.4435]],\n",
       "│           \n",
       "│                   [[ 0.5041,  1.2360,  0.2610],\n",
       "│                    [ 0.8510, -0.4521, -0.4435]],\n",
       "│           \n",
       "│                   [[ 0.5041,  1.2360,  0.2610],\n",
       "│                    [ 0.8510, -0.4521, -0.4435]]])\n",
       "└── 'x' --> <FastTreeValue 0x7f44a833a2e0>\n",
       "    └── 'c' --> tensor([[[-1.4971,  0.1210, -0.6600,  0.4528],\n",
       "                         [ 0.7952,  0.5897, -1.6311,  1.3515],\n",
       "                         [-0.3463,  1.2555,  0.8439,  0.4564]],\n",
       "                \n",
       "                        [[-1.4971,  0.1210, -0.6600,  0.4528],\n",
       "                         [ 0.7952,  0.5897, -1.6311,  1.3515],\n",
       "                         [-0.3463,  1.2555,  0.8439,  0.4564]],\n",
       "                \n",
       "                        [[-1.4971,  0.1210, -0.6600,  0.4528],\n",
       "                         [ 0.7952,  0.5897, -1.6311,  1.3515],\n",
       "                         [-0.3463,  1.2555,  0.8439,  0.4564]],\n",
       "                \n",
       "                        [[-1.4971,  0.1210, -0.6600,  0.4528],\n",
       "                         [ 0.7952,  0.5897, -1.6311,  1.3515],\n",
       "                         [-0.3463,  1.2555,  0.8439,  0.4564]],\n",
       "                \n",
       "                        [[-1.4971,  0.1210, -0.6600,  0.4528],\n",
       "                         [ 0.7952,  0.5897, -1.6311,  1.3515],\n",
       "                         [-0.3463,  1.2555,  0.8439,  0.4564]],\n",
       "                \n",
       "                        [[-1.4971,  0.1210, -0.6600,  0.4528],\n",
       "                         [ 0.7952,  0.5897, -1.6311,  1.3515],\n",
       "                         [-0.3463,  1.2555,  0.8439,  0.4564]],\n",
       "                \n",
       "                        [[-1.4971,  0.1210, -0.6600,  0.4528],\n",
       "                         [ 0.7952,  0.5897, -1.6311,  1.3515],\n",
       "                         [-0.3463,  1.2555,  0.8439,  0.4564]],\n",
       "                \n",
       "                        [[-1.4971,  0.1210, -0.6600,  0.4528],\n",
       "                         [ 0.7952,  0.5897, -1.6311,  1.3515],\n",
       "                         [-0.3463,  1.2555,  0.8439,  0.4564]]])"
      ]
     },
     "execution_count": 20,
     "metadata": {},
     "output_type": "execute_result"
    }
   ],
   "source": [
    "t_stack = FastTreeValue.func(subside=True)(torch.stack)\n",
    "\n",
    "t_stack(trees)"
   ]
  },
  {
   "cell_type": "code",
   "execution_count": 21,
   "id": "f8b3f415",
   "metadata": {
    "execution": {
     "iopub.execute_input": "2023-02-26T15:45:52.548942Z",
     "iopub.status.busy": "2023-02-26T15:45:52.548593Z",
     "iopub.status.idle": "2023-02-26T15:45:55.159044Z",
     "shell.execute_reply": "2023-02-26T15:45:55.158318Z"
    }
   },
   "outputs": [
    {
     "name": "stdout",
     "output_type": "stream",
     "text": [
      "32.1 µs ± 71.1 ns per loop (mean ± std. dev. of 7 runs, 10,000 loops each)\n"
     ]
    }
   ],
   "source": [
    "%timeit t_stack(trees)"
   ]
  },
  {
   "cell_type": "code",
   "execution_count": 22,
   "id": "94b56771",
   "metadata": {
    "execution": {
     "iopub.execute_input": "2023-02-26T15:45:55.162203Z",
     "iopub.status.busy": "2023-02-26T15:45:55.161826Z",
     "iopub.status.idle": "2023-02-26T15:45:55.170029Z",
     "shell.execute_reply": "2023-02-26T15:45:55.169396Z"
    }
   },
   "outputs": [
    {
     "data": {
      "text/plain": [
       "<FastTreeValue 0x7f44ccb59ca0>\n",
       "├── 'a' --> tensor([[ 0.5041,  1.2360,  0.2610],\n",
       "│                   [ 0.8510, -0.4521, -0.4435],\n",
       "│                   [ 0.5041,  1.2360,  0.2610],\n",
       "│                   [ 0.8510, -0.4521, -0.4435],\n",
       "│                   [ 0.5041,  1.2360,  0.2610],\n",
       "│                   [ 0.8510, -0.4521, -0.4435],\n",
       "│                   [ 0.5041,  1.2360,  0.2610],\n",
       "│                   [ 0.8510, -0.4521, -0.4435],\n",
       "│                   [ 0.5041,  1.2360,  0.2610],\n",
       "│                   [ 0.8510, -0.4521, -0.4435],\n",
       "│                   [ 0.5041,  1.2360,  0.2610],\n",
       "│                   [ 0.8510, -0.4521, -0.4435],\n",
       "│                   [ 0.5041,  1.2360,  0.2610],\n",
       "│                   [ 0.8510, -0.4521, -0.4435],\n",
       "│                   [ 0.5041,  1.2360,  0.2610],\n",
       "│                   [ 0.8510, -0.4521, -0.4435]])\n",
       "└── 'x' --> <FastTreeValue 0x7f44ccb59ac0>\n",
       "    └── 'c' --> tensor([[-1.4971,  0.1210, -0.6600,  0.4528],\n",
       "                        [ 0.7952,  0.5897, -1.6311,  1.3515],\n",
       "                        [-0.3463,  1.2555,  0.8439,  0.4564],\n",
       "                        [-1.4971,  0.1210, -0.6600,  0.4528],\n",
       "                        [ 0.7952,  0.5897, -1.6311,  1.3515],\n",
       "                        [-0.3463,  1.2555,  0.8439,  0.4564],\n",
       "                        [-1.4971,  0.1210, -0.6600,  0.4528],\n",
       "                        [ 0.7952,  0.5897, -1.6311,  1.3515],\n",
       "                        [-0.3463,  1.2555,  0.8439,  0.4564],\n",
       "                        [-1.4971,  0.1210, -0.6600,  0.4528],\n",
       "                        [ 0.7952,  0.5897, -1.6311,  1.3515],\n",
       "                        [-0.3463,  1.2555,  0.8439,  0.4564],\n",
       "                        [-1.4971,  0.1210, -0.6600,  0.4528],\n",
       "                        [ 0.7952,  0.5897, -1.6311,  1.3515],\n",
       "                        [-0.3463,  1.2555,  0.8439,  0.4564],\n",
       "                        [-1.4971,  0.1210, -0.6600,  0.4528],\n",
       "                        [ 0.7952,  0.5897, -1.6311,  1.3515],\n",
       "                        [-0.3463,  1.2555,  0.8439,  0.4564],\n",
       "                        [-1.4971,  0.1210, -0.6600,  0.4528],\n",
       "                        [ 0.7952,  0.5897, -1.6311,  1.3515],\n",
       "                        [-0.3463,  1.2555,  0.8439,  0.4564],\n",
       "                        [-1.4971,  0.1210, -0.6600,  0.4528],\n",
       "                        [ 0.7952,  0.5897, -1.6311,  1.3515],\n",
       "                        [-0.3463,  1.2555,  0.8439,  0.4564]])"
      ]
     },
     "execution_count": 22,
     "metadata": {},
     "output_type": "execute_result"
    }
   ],
   "source": [
    "t_cat = FastTreeValue.func(subside=True)(torch.cat)\n",
    "\n",
    "t_cat(trees)"
   ]
  },
  {
   "cell_type": "code",
   "execution_count": 23,
   "id": "5e9c06a6",
   "metadata": {
    "execution": {
     "iopub.execute_input": "2023-02-26T15:45:55.172812Z",
     "iopub.status.busy": "2023-02-26T15:45:55.172230Z",
     "iopub.status.idle": "2023-02-26T15:45:57.618927Z",
     "shell.execute_reply": "2023-02-26T15:45:57.618222Z"
    }
   },
   "outputs": [
    {
     "name": "stdout",
     "output_type": "stream",
     "text": [
      "30.1 µs ± 64.8 ns per loop (mean ± std. dev. of 7 runs, 10,000 loops each)\n"
     ]
    }
   ],
   "source": [
    "%timeit t_cat(trees)"
   ]
  },
  {
   "cell_type": "code",
   "execution_count": 24,
   "id": "a3ab5c8f",
   "metadata": {
    "execution": {
     "iopub.execute_input": "2023-02-26T15:45:57.621874Z",
     "iopub.status.busy": "2023-02-26T15:45:57.621428Z",
     "iopub.status.idle": "2023-02-26T15:46:02.479033Z",
     "shell.execute_reply": "2023-02-26T15:46:02.478250Z"
    }
   },
   "outputs": [
    {
     "name": "stdout",
     "output_type": "stream",
     "text": [
      "59.7 µs ± 833 ns per loop (mean ± std. dev. of 7 runs, 10,000 loops each)\n"
     ]
    }
   ],
   "source": [
    "t_split = FastTreeValue.func(rise=True)(torch.split)\n",
    "tree = FastTreeValue({\n",
    "    'obs': torch.randn(8, 4, 84, 84),\n",
    "    'action': torch.randint(0, 6, size=(8, 1,)),\n",
    "    'reward': torch.rand(8, 1),\n",
    "})\n",
    "\n",
    "%timeit t_split(tree, 1)"
   ]
  },
  {
   "cell_type": "markdown",
   "id": "31c3ec0b",
   "metadata": {},
   "source": [
    "### Performance of Tianshou Batch"
   ]
  },
  {
   "cell_type": "code",
   "execution_count": 25,
   "id": "9ead828a",
   "metadata": {
    "execution": {
     "iopub.execute_input": "2023-02-26T15:46:02.482099Z",
     "iopub.status.busy": "2023-02-26T15:46:02.481540Z",
     "iopub.status.idle": "2023-02-26T15:46:02.489589Z",
     "shell.execute_reply": "2023-02-26T15:46:02.488987Z"
    }
   },
   "outputs": [
    {
     "data": {
      "text/plain": [
       "Batch(\n",
       "    a: tensor([[[ 0.5041,  1.2360,  0.2610],\n",
       "                [ 0.8510, -0.4521, -0.4435]],\n",
       "       \n",
       "               [[ 0.5041,  1.2360,  0.2610],\n",
       "                [ 0.8510, -0.4521, -0.4435]],\n",
       "       \n",
       "               [[ 0.5041,  1.2360,  0.2610],\n",
       "                [ 0.8510, -0.4521, -0.4435]],\n",
       "       \n",
       "               [[ 0.5041,  1.2360,  0.2610],\n",
       "                [ 0.8510, -0.4521, -0.4435]],\n",
       "       \n",
       "               [[ 0.5041,  1.2360,  0.2610],\n",
       "                [ 0.8510, -0.4521, -0.4435]],\n",
       "       \n",
       "               [[ 0.5041,  1.2360,  0.2610],\n",
       "                [ 0.8510, -0.4521, -0.4435]],\n",
       "       \n",
       "               [[ 0.5041,  1.2360,  0.2610],\n",
       "                [ 0.8510, -0.4521, -0.4435]],\n",
       "       \n",
       "               [[ 0.5041,  1.2360,  0.2610],\n",
       "                [ 0.8510, -0.4521, -0.4435]]]),\n",
       "    x: Batch(\n",
       "           c: tensor([[[-1.4971,  0.1210, -0.6600,  0.4528],\n",
       "                       [ 0.7952,  0.5897, -1.6311,  1.3515],\n",
       "                       [-0.3463,  1.2555,  0.8439,  0.4564]],\n",
       "              \n",
       "                      [[-1.4971,  0.1210, -0.6600,  0.4528],\n",
       "                       [ 0.7952,  0.5897, -1.6311,  1.3515],\n",
       "                       [-0.3463,  1.2555,  0.8439,  0.4564]],\n",
       "              \n",
       "                      [[-1.4971,  0.1210, -0.6600,  0.4528],\n",
       "                       [ 0.7952,  0.5897, -1.6311,  1.3515],\n",
       "                       [-0.3463,  1.2555,  0.8439,  0.4564]],\n",
       "              \n",
       "                      [[-1.4971,  0.1210, -0.6600,  0.4528],\n",
       "                       [ 0.7952,  0.5897, -1.6311,  1.3515],\n",
       "                       [-0.3463,  1.2555,  0.8439,  0.4564]],\n",
       "              \n",
       "                      [[-1.4971,  0.1210, -0.6600,  0.4528],\n",
       "                       [ 0.7952,  0.5897, -1.6311,  1.3515],\n",
       "                       [-0.3463,  1.2555,  0.8439,  0.4564]],\n",
       "              \n",
       "                      [[-1.4971,  0.1210, -0.6600,  0.4528],\n",
       "                       [ 0.7952,  0.5897, -1.6311,  1.3515],\n",
       "                       [-0.3463,  1.2555,  0.8439,  0.4564]],\n",
       "              \n",
       "                      [[-1.4971,  0.1210, -0.6600,  0.4528],\n",
       "                       [ 0.7952,  0.5897, -1.6311,  1.3515],\n",
       "                       [-0.3463,  1.2555,  0.8439,  0.4564]],\n",
       "              \n",
       "                      [[-1.4971,  0.1210, -0.6600,  0.4528],\n",
       "                       [ 0.7952,  0.5897, -1.6311,  1.3515],\n",
       "                       [-0.3463,  1.2555,  0.8439,  0.4564]]]),\n",
       "       ),\n",
       ")"
      ]
     },
     "execution_count": 25,
     "metadata": {},
     "output_type": "execute_result"
    }
   ],
   "source": [
    "batches = [Batch(**_TREE_DATA_2) for _ in range(8)]\n",
    "\n",
    "Batch.stack(batches)"
   ]
  },
  {
   "cell_type": "code",
   "execution_count": 26,
   "id": "ec9037a3",
   "metadata": {
    "execution": {
     "iopub.execute_input": "2023-02-26T15:46:02.492369Z",
     "iopub.status.busy": "2023-02-26T15:46:02.491808Z",
     "iopub.status.idle": "2023-02-26T15:46:08.891366Z",
     "shell.execute_reply": "2023-02-26T15:46:08.890694Z"
    }
   },
   "outputs": [
    {
     "name": "stdout",
     "output_type": "stream",
     "text": [
      "78.8 µs ± 198 ns per loop (mean ± std. dev. of 7 runs, 10,000 loops each)\n"
     ]
    }
   ],
   "source": [
    "%timeit Batch.stack(batches)"
   ]
  },
  {
   "cell_type": "code",
   "execution_count": 27,
   "id": "cb8ab77e",
   "metadata": {
    "execution": {
     "iopub.execute_input": "2023-02-26T15:46:08.894297Z",
     "iopub.status.busy": "2023-02-26T15:46:08.893663Z",
     "iopub.status.idle": "2023-02-26T15:46:08.901253Z",
     "shell.execute_reply": "2023-02-26T15:46:08.900646Z"
    }
   },
   "outputs": [
    {
     "data": {
      "text/plain": [
       "Batch(\n",
       "    a: tensor([[ 0.5041,  1.2360,  0.2610],\n",
       "               [ 0.8510, -0.4521, -0.4435],\n",
       "               [ 0.5041,  1.2360,  0.2610],\n",
       "               [ 0.8510, -0.4521, -0.4435],\n",
       "               [ 0.5041,  1.2360,  0.2610],\n",
       "               [ 0.8510, -0.4521, -0.4435],\n",
       "               [ 0.5041,  1.2360,  0.2610],\n",
       "               [ 0.8510, -0.4521, -0.4435],\n",
       "               [ 0.5041,  1.2360,  0.2610],\n",
       "               [ 0.8510, -0.4521, -0.4435],\n",
       "               [ 0.5041,  1.2360,  0.2610],\n",
       "               [ 0.8510, -0.4521, -0.4435],\n",
       "               [ 0.5041,  1.2360,  0.2610],\n",
       "               [ 0.8510, -0.4521, -0.4435],\n",
       "               [ 0.5041,  1.2360,  0.2610],\n",
       "               [ 0.8510, -0.4521, -0.4435]]),\n",
       "    x: Batch(\n",
       "           c: tensor([[-1.4971,  0.1210, -0.6600,  0.4528],\n",
       "                      [ 0.7952,  0.5897, -1.6311,  1.3515],\n",
       "                      [-0.3463,  1.2555,  0.8439,  0.4564],\n",
       "                      [-1.4971,  0.1210, -0.6600,  0.4528],\n",
       "                      [ 0.7952,  0.5897, -1.6311,  1.3515],\n",
       "                      [-0.3463,  1.2555,  0.8439,  0.4564],\n",
       "                      [-1.4971,  0.1210, -0.6600,  0.4528],\n",
       "                      [ 0.7952,  0.5897, -1.6311,  1.3515],\n",
       "                      [-0.3463,  1.2555,  0.8439,  0.4564],\n",
       "                      [-1.4971,  0.1210, -0.6600,  0.4528],\n",
       "                      [ 0.7952,  0.5897, -1.6311,  1.3515],\n",
       "                      [-0.3463,  1.2555,  0.8439,  0.4564],\n",
       "                      [-1.4971,  0.1210, -0.6600,  0.4528],\n",
       "                      [ 0.7952,  0.5897, -1.6311,  1.3515],\n",
       "                      [-0.3463,  1.2555,  0.8439,  0.4564],\n",
       "                      [-1.4971,  0.1210, -0.6600,  0.4528],\n",
       "                      [ 0.7952,  0.5897, -1.6311,  1.3515],\n",
       "                      [-0.3463,  1.2555,  0.8439,  0.4564],\n",
       "                      [-1.4971,  0.1210, -0.6600,  0.4528],\n",
       "                      [ 0.7952,  0.5897, -1.6311,  1.3515],\n",
       "                      [-0.3463,  1.2555,  0.8439,  0.4564],\n",
       "                      [-1.4971,  0.1210, -0.6600,  0.4528],\n",
       "                      [ 0.7952,  0.5897, -1.6311,  1.3515],\n",
       "                      [-0.3463,  1.2555,  0.8439,  0.4564]]),\n",
       "       ),\n",
       ")"
      ]
     },
     "execution_count": 27,
     "metadata": {},
     "output_type": "execute_result"
    }
   ],
   "source": [
    "Batch.cat(batches)"
   ]
  },
  {
   "cell_type": "code",
   "execution_count": 28,
   "id": "18dfb045",
   "metadata": {
    "execution": {
     "iopub.execute_input": "2023-02-26T15:46:08.903623Z",
     "iopub.status.busy": "2023-02-26T15:46:08.903398Z",
     "iopub.status.idle": "2023-02-26T15:46:20.566518Z",
     "shell.execute_reply": "2023-02-26T15:46:20.565751Z"
    }
   },
   "outputs": [
    {
     "name": "stdout",
     "output_type": "stream",
     "text": [
      "143 µs ± 225 ns per loop (mean ± std. dev. of 7 runs, 10,000 loops each)\n"
     ]
    }
   ],
   "source": [
    "%timeit Batch.cat(batches)"
   ]
  },
  {
   "cell_type": "code",
   "execution_count": 29,
   "id": "c6688e51",
   "metadata": {
    "execution": {
     "iopub.execute_input": "2023-02-26T15:46:20.569606Z",
     "iopub.status.busy": "2023-02-26T15:46:20.569235Z",
     "iopub.status.idle": "2023-02-26T15:46:23.086517Z",
     "shell.execute_reply": "2023-02-26T15:46:23.085799Z"
    }
   },
   "outputs": [
    {
     "name": "stdout",
     "output_type": "stream",
     "text": [
      "309 µs ± 1.81 µs per loop (mean ± std. dev. of 7 runs, 1,000 loops each)\n"
     ]
    }
   ],
   "source": [
    "batch = Batch({\n",
    "    'obs': torch.randn(8, 4, 84, 84),\n",
    "    'action': torch.randint(0, 6, size=(8, 1,)),\n",
    "    'reward': torch.rand(8, 1)}\n",
    ")\n",
    "\n",
    "%timeit list(Batch.split(batch, 1, shuffle=False, merge_last=True))"
   ]
  },
  {
   "cell_type": "code",
   "execution_count": null,
   "id": "2539fbd9",
   "metadata": {},
   "outputs": [],
   "source": []
  }
 ],
 "metadata": {
  "kernelspec": {
   "display_name": "Python 3 (ipykernel)",
   "language": "python",
   "name": "python3"
  },
  "language_info": {
   "codemirror_mode": {
    "name": "ipython",
    "version": 3
   },
   "file_extension": ".py",
   "mimetype": "text/x-python",
   "name": "python",
   "nbconvert_exporter": "python",
   "pygments_lexer": "ipython3",
   "version": "3.8.16"
  }
 },
 "nbformat": 4,
 "nbformat_minor": 5
}
