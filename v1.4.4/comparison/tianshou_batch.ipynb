{
 "cells": [
  {
   "cell_type": "markdown",
   "id": "9d39d946",
   "metadata": {},
   "source": [
    "# Comparison Between TreeValue and Tianshou Batch"
   ]
  },
  {
   "cell_type": "markdown",
   "id": "3c6db2d4",
   "metadata": {},
   "source": [
    "In this section, we will take a look at the feature and performance of the [Tianshou Batch](https://github.com/thu-ml/tianshou) library, which is developed by Tsinghua Machine Learning Group."
   ]
  },
  {
   "cell_type": "markdown",
   "id": "069361b0",
   "metadata": {},
   "source": [
    "Before starting the comparison, let us define some thing."
   ]
  },
  {
   "cell_type": "code",
   "execution_count": 1,
   "id": "06fc8d26",
   "metadata": {
    "execution": {
     "iopub.execute_input": "2023-02-23T09:22:57.169437Z",
     "iopub.status.busy": "2023-02-23T09:22:57.169233Z",
     "iopub.status.idle": "2023-02-23T09:22:58.062426Z",
     "shell.execute_reply": "2023-02-23T09:22:58.061426Z"
    }
   },
   "outputs": [
    {
     "name": "stderr",
     "output_type": "stream",
     "text": [
      "/opt/hostedtoolcache/Python/3.8.16/x64/lib/python3.8/site-packages/tqdm/auto.py:22: TqdmWarning: IProgress not found. Please update jupyter and ipywidgets. See https://ipywidgets.readthedocs.io/en/stable/user_install.html\n",
      "  from .autonotebook import tqdm as notebook_tqdm\n"
     ]
    }
   ],
   "source": [
    "import torch \n",
    "\n",
    "_TREE_DATA_1 = {'a': 1, 'b': 2, 'x': {'c': 3, 'd': 4}}\n",
    "_TREE_DATA_2 = {\n",
    "    'a': torch.randn(2, 3), \n",
    "    'x': {\n",
    "        'c': torch.randn(3, 4)\n",
    "    },\n",
    "}\n",
    "_TREE_DATA_3 = {\n",
    "    'obs': torch.randn(4, 84, 84),\n",
    "    'action': torch.randint(0, 6, size=(1,)),\n",
    "    'reward': torch.rand(1),\n",
    "}"
   ]
  },
  {
   "cell_type": "markdown",
   "id": "83461b25",
   "metadata": {},
   "source": [
    "## Read and Write Operation"
   ]
  },
  {
   "cell_type": "markdown",
   "id": "067b3f73",
   "metadata": {},
   "source": [
    "Reading and writing are the two most common operations in the tree data structure based on the data model (TreeValue and Tianshou Batch both belong to this type), so this section will compare the reading and writing performance of these two libraries."
   ]
  },
  {
   "cell_type": "markdown",
   "id": "5d09a5b7",
   "metadata": {},
   "source": [
    "### TreeValue's Get and Set"
   ]
  },
  {
   "cell_type": "code",
   "execution_count": 2,
   "id": "9519c4bb",
   "metadata": {
    "execution": {
     "iopub.execute_input": "2023-02-23T09:22:58.065607Z",
     "iopub.status.busy": "2023-02-23T09:22:58.065000Z",
     "iopub.status.idle": "2023-02-23T09:22:58.097812Z",
     "shell.execute_reply": "2023-02-23T09:22:58.096844Z"
    }
   },
   "outputs": [],
   "source": [
    "from treevalue import FastTreeValue\n",
    "\n",
    "t = FastTreeValue(_TREE_DATA_2)"
   ]
  },
  {
   "cell_type": "code",
   "execution_count": 3,
   "id": "11c37677",
   "metadata": {
    "execution": {
     "iopub.execute_input": "2023-02-23T09:22:58.100523Z",
     "iopub.status.busy": "2023-02-23T09:22:58.100190Z",
     "iopub.status.idle": "2023-02-23T09:22:58.108962Z",
     "shell.execute_reply": "2023-02-23T09:22:58.108398Z"
    }
   },
   "outputs": [
    {
     "data": {
      "text/plain": [
       "<FastTreeValue 0x7ff3bc761b20>\n",
       "├── 'a' --> tensor([[ 0.1695,  1.5011, -0.9409],\n",
       "│                   [-0.2509,  0.1479,  0.5107]])\n",
       "└── 'x' --> <FastTreeValue 0x7ff3bc7617c0>\n",
       "    └── 'c' --> tensor([[-1.0038, -0.2612, -0.4258, -0.6569],\n",
       "                        [-0.9042, -0.3632,  1.0303, -0.1529],\n",
       "                        [-0.6523,  2.6772, -0.5815,  1.2085]])"
      ]
     },
     "execution_count": 3,
     "metadata": {},
     "output_type": "execute_result"
    }
   ],
   "source": [
    "t"
   ]
  },
  {
   "cell_type": "code",
   "execution_count": 4,
   "id": "fd70b0b9",
   "metadata": {
    "execution": {
     "iopub.execute_input": "2023-02-23T09:22:58.111718Z",
     "iopub.status.busy": "2023-02-23T09:22:58.111254Z",
     "iopub.status.idle": "2023-02-23T09:22:58.117301Z",
     "shell.execute_reply": "2023-02-23T09:22:58.116200Z"
    }
   },
   "outputs": [
    {
     "data": {
      "text/plain": [
       "tensor([[ 0.1695,  1.5011, -0.9409],\n",
       "        [-0.2509,  0.1479,  0.5107]])"
      ]
     },
     "execution_count": 4,
     "metadata": {},
     "output_type": "execute_result"
    }
   ],
   "source": [
    "t.a"
   ]
  },
  {
   "cell_type": "code",
   "execution_count": 5,
   "id": "c18197bd",
   "metadata": {
    "execution": {
     "iopub.execute_input": "2023-02-23T09:22:58.120030Z",
     "iopub.status.busy": "2023-02-23T09:22:58.119560Z",
     "iopub.status.idle": "2023-02-23T09:23:03.186611Z",
     "shell.execute_reply": "2023-02-23T09:23:03.185882Z"
    }
   },
   "outputs": [
    {
     "name": "stdout",
     "output_type": "stream",
     "text": [
      "62.3 ns ± 0.00947 ns per loop (mean ± std. dev. of 7 runs, 10,000,000 loops each)\n"
     ]
    }
   ],
   "source": [
    "%timeit t.a"
   ]
  },
  {
   "cell_type": "code",
   "execution_count": 6,
   "id": "bd52f867",
   "metadata": {
    "execution": {
     "iopub.execute_input": "2023-02-23T09:23:03.189287Z",
     "iopub.status.busy": "2023-02-23T09:23:03.188920Z",
     "iopub.status.idle": "2023-02-23T09:23:03.195431Z",
     "shell.execute_reply": "2023-02-23T09:23:03.194848Z"
    }
   },
   "outputs": [
    {
     "data": {
      "text/plain": [
       "<FastTreeValue 0x7ff3bc761b20>\n",
       "├── 'a' --> tensor([[-1.4517,  1.2040,  0.6345],\n",
       "│                   [ 0.1984,  0.7648,  1.0065]])\n",
       "└── 'x' --> <FastTreeValue 0x7ff3bc7617c0>\n",
       "    └── 'c' --> tensor([[-1.0038, -0.2612, -0.4258, -0.6569],\n",
       "                        [-0.9042, -0.3632,  1.0303, -0.1529],\n",
       "                        [-0.6523,  2.6772, -0.5815,  1.2085]])"
      ]
     },
     "execution_count": 6,
     "metadata": {},
     "output_type": "execute_result"
    }
   ],
   "source": [
    "new_value = torch.randn(2, 3)\n",
    "t.a = new_value\n",
    "\n",
    "t"
   ]
  },
  {
   "cell_type": "code",
   "execution_count": 7,
   "id": "bbe04d1c",
   "metadata": {
    "execution": {
     "iopub.execute_input": "2023-02-23T09:23:03.198017Z",
     "iopub.status.busy": "2023-02-23T09:23:03.197674Z",
     "iopub.status.idle": "2023-02-23T09:23:08.256229Z",
     "shell.execute_reply": "2023-02-23T09:23:08.255497Z"
    }
   },
   "outputs": [
    {
     "name": "stdout",
     "output_type": "stream",
     "text": [
      "62.1 ns ± 0.0664 ns per loop (mean ± std. dev. of 7 runs, 10,000,000 loops each)\n"
     ]
    }
   ],
   "source": [
    "%timeit t.a = new_value"
   ]
  },
  {
   "cell_type": "markdown",
   "id": "48c49731",
   "metadata": {},
   "source": [
    "### Tianshou Batch's Get and Set"
   ]
  },
  {
   "cell_type": "code",
   "execution_count": 8,
   "id": "f1bb14c1",
   "metadata": {
    "execution": {
     "iopub.execute_input": "2023-02-23T09:23:08.258953Z",
     "iopub.status.busy": "2023-02-23T09:23:08.258600Z",
     "iopub.status.idle": "2023-02-23T09:23:08.585162Z",
     "shell.execute_reply": "2023-02-23T09:23:08.584502Z"
    }
   },
   "outputs": [],
   "source": [
    "from tianshou.data import Batch\n",
    "\n",
    "b = Batch(**_TREE_DATA_2)"
   ]
  },
  {
   "cell_type": "code",
   "execution_count": 9,
   "id": "cb0777c3",
   "metadata": {
    "execution": {
     "iopub.execute_input": "2023-02-23T09:23:08.588584Z",
     "iopub.status.busy": "2023-02-23T09:23:08.587963Z",
     "iopub.status.idle": "2023-02-23T09:23:08.594007Z",
     "shell.execute_reply": "2023-02-23T09:23:08.593420Z"
    }
   },
   "outputs": [
    {
     "data": {
      "text/plain": [
       "Batch(\n",
       "    a: tensor([[ 0.1695,  1.5011, -0.9409],\n",
       "               [-0.2509,  0.1479,  0.5107]]),\n",
       "    x: Batch(\n",
       "           c: tensor([[-1.0038, -0.2612, -0.4258, -0.6569],\n",
       "                      [-0.9042, -0.3632,  1.0303, -0.1529],\n",
       "                      [-0.6523,  2.6772, -0.5815,  1.2085]]),\n",
       "       ),\n",
       ")"
      ]
     },
     "execution_count": 9,
     "metadata": {},
     "output_type": "execute_result"
    }
   ],
   "source": [
    "b"
   ]
  },
  {
   "cell_type": "code",
   "execution_count": 10,
   "id": "43ef8ea3",
   "metadata": {
    "execution": {
     "iopub.execute_input": "2023-02-23T09:23:08.596672Z",
     "iopub.status.busy": "2023-02-23T09:23:08.596122Z",
     "iopub.status.idle": "2023-02-23T09:23:08.601302Z",
     "shell.execute_reply": "2023-02-23T09:23:08.600754Z"
    }
   },
   "outputs": [
    {
     "data": {
      "text/plain": [
       "tensor([[ 0.1695,  1.5011, -0.9409],\n",
       "        [-0.2509,  0.1479,  0.5107]])"
      ]
     },
     "execution_count": 10,
     "metadata": {},
     "output_type": "execute_result"
    }
   ],
   "source": [
    "b.a"
   ]
  },
  {
   "cell_type": "code",
   "execution_count": 11,
   "id": "b785ab72",
   "metadata": {
    "execution": {
     "iopub.execute_input": "2023-02-23T09:23:08.603800Z",
     "iopub.status.busy": "2023-02-23T09:23:08.603342Z",
     "iopub.status.idle": "2023-02-23T09:23:12.966357Z",
     "shell.execute_reply": "2023-02-23T09:23:12.965685Z"
    }
   },
   "outputs": [
    {
     "name": "stdout",
     "output_type": "stream",
     "text": [
      "54.1 ns ± 0.0209 ns per loop (mean ± std. dev. of 7 runs, 10,000,000 loops each)\n"
     ]
    }
   ],
   "source": [
    "%timeit b.a"
   ]
  },
  {
   "cell_type": "code",
   "execution_count": 12,
   "id": "ad54dc69",
   "metadata": {
    "execution": {
     "iopub.execute_input": "2023-02-23T09:23:12.969230Z",
     "iopub.status.busy": "2023-02-23T09:23:12.968877Z",
     "iopub.status.idle": "2023-02-23T09:23:12.974973Z",
     "shell.execute_reply": "2023-02-23T09:23:12.974325Z"
    }
   },
   "outputs": [
    {
     "data": {
      "text/plain": [
       "Batch(\n",
       "    a: tensor([[ 0.4164, -1.4420,  0.1245],\n",
       "               [ 1.9063,  0.0823,  0.6915]]),\n",
       "    x: Batch(\n",
       "           c: tensor([[-1.0038, -0.2612, -0.4258, -0.6569],\n",
       "                      [-0.9042, -0.3632,  1.0303, -0.1529],\n",
       "                      [-0.6523,  2.6772, -0.5815,  1.2085]]),\n",
       "       ),\n",
       ")"
      ]
     },
     "execution_count": 12,
     "metadata": {},
     "output_type": "execute_result"
    }
   ],
   "source": [
    "new_value = torch.randn(2, 3)\n",
    "b.a = new_value\n",
    "\n",
    "b"
   ]
  },
  {
   "cell_type": "code",
   "execution_count": 13,
   "id": "29b1d0bf",
   "metadata": {
    "execution": {
     "iopub.execute_input": "2023-02-23T09:23:12.977413Z",
     "iopub.status.busy": "2023-02-23T09:23:12.977090Z",
     "iopub.status.idle": "2023-02-23T09:23:16.875027Z",
     "shell.execute_reply": "2023-02-23T09:23:16.874288Z"
    }
   },
   "outputs": [
    {
     "name": "stdout",
     "output_type": "stream",
     "text": [
      "479 ns ± 0.115 ns per loop (mean ± std. dev. of 7 runs, 1,000,000 loops each)\n"
     ]
    }
   ],
   "source": [
    "%timeit b.a = new_value"
   ]
  },
  {
   "cell_type": "markdown",
   "id": "b61ad1d0",
   "metadata": {},
   "source": [
    "## Initialization"
   ]
  },
  {
   "cell_type": "markdown",
   "id": "d70f0d54",
   "metadata": {},
   "source": [
    "### TreeValue's Initialization"
   ]
  },
  {
   "cell_type": "code",
   "execution_count": 14,
   "id": "d32a679b",
   "metadata": {
    "execution": {
     "iopub.execute_input": "2023-02-23T09:23:16.878125Z",
     "iopub.status.busy": "2023-02-23T09:23:16.877678Z",
     "iopub.status.idle": "2023-02-23T09:23:23.680611Z",
     "shell.execute_reply": "2023-02-23T09:23:23.679862Z"
    }
   },
   "outputs": [
    {
     "name": "stdout",
     "output_type": "stream",
     "text": [
      "838 ns ± 0.523 ns per loop (mean ± std. dev. of 7 runs, 1,000,000 loops each)\n"
     ]
    }
   ],
   "source": [
    "%timeit FastTreeValue(_TREE_DATA_1)"
   ]
  },
  {
   "cell_type": "markdown",
   "id": "24f3707b",
   "metadata": {},
   "source": [
    "### Tianshou Batch's Initialization"
   ]
  },
  {
   "cell_type": "code",
   "execution_count": 15,
   "id": "ac3958df",
   "metadata": {
    "execution": {
     "iopub.execute_input": "2023-02-23T09:23:23.683593Z",
     "iopub.status.busy": "2023-02-23T09:23:23.682967Z",
     "iopub.status.idle": "2023-02-23T09:23:32.924322Z",
     "shell.execute_reply": "2023-02-23T09:23:32.923578Z"
    }
   },
   "outputs": [
    {
     "name": "stdout",
     "output_type": "stream",
     "text": [
      "11.4 µs ± 60 ns per loop (mean ± std. dev. of 7 runs, 100,000 loops each)\n"
     ]
    }
   ],
   "source": [
    "%timeit Batch(**_TREE_DATA_1)"
   ]
  },
  {
   "cell_type": "markdown",
   "id": "1ab82e2d",
   "metadata": {},
   "source": [
    "## Deep Copy Operation"
   ]
  },
  {
   "cell_type": "code",
   "execution_count": 16,
   "id": "210a9442",
   "metadata": {
    "execution": {
     "iopub.execute_input": "2023-02-23T09:23:32.927198Z",
     "iopub.status.busy": "2023-02-23T09:23:32.926633Z",
     "iopub.status.idle": "2023-02-23T09:23:32.929811Z",
     "shell.execute_reply": "2023-02-23T09:23:32.929163Z"
    }
   },
   "outputs": [],
   "source": [
    "import copy"
   ]
  },
  {
   "cell_type": "markdown",
   "id": "5a736274",
   "metadata": {},
   "source": [
    "### Deep Copy of TreeValue"
   ]
  },
  {
   "cell_type": "code",
   "execution_count": 17,
   "id": "f9bcadd6",
   "metadata": {
    "execution": {
     "iopub.execute_input": "2023-02-23T09:23:32.932170Z",
     "iopub.status.busy": "2023-02-23T09:23:32.931840Z",
     "iopub.status.idle": "2023-02-23T09:23:44.434100Z",
     "shell.execute_reply": "2023-02-23T09:23:44.433537Z"
    }
   },
   "outputs": [
    {
     "name": "stdout",
     "output_type": "stream",
     "text": [
      "142 µs ± 275 ns per loop (mean ± std. dev. of 7 runs, 10,000 loops each)\n"
     ]
    }
   ],
   "source": [
    "t3 = FastTreeValue(_TREE_DATA_3)\n",
    "%timeit copy.deepcopy(t3)"
   ]
  },
  {
   "cell_type": "markdown",
   "id": "bf8be7ea",
   "metadata": {},
   "source": [
    "### Deep Copy of Tianshou Batch"
   ]
  },
  {
   "cell_type": "code",
   "execution_count": 18,
   "id": "91998e6f",
   "metadata": {
    "execution": {
     "iopub.execute_input": "2023-02-23T09:23:44.437405Z",
     "iopub.status.busy": "2023-02-23T09:23:44.436458Z",
     "iopub.status.idle": "2023-02-23T09:23:56.003063Z",
     "shell.execute_reply": "2023-02-23T09:23:56.002475Z"
    }
   },
   "outputs": [
    {
     "name": "stdout",
     "output_type": "stream",
     "text": [
      "143 µs ± 338 ns per loop (mean ± std. dev. of 7 runs, 10,000 loops each)\n"
     ]
    }
   ],
   "source": [
    "b3 = Batch(**_TREE_DATA_3)\n",
    "%timeit copy.deepcopy(b3)"
   ]
  },
  {
   "cell_type": "markdown",
   "id": "223162fb",
   "metadata": {},
   "source": [
    "## Stack, Concat and Split Operation"
   ]
  },
  {
   "cell_type": "markdown",
   "id": "85fa4a73",
   "metadata": {},
   "source": [
    "### Performance of TreeValue"
   ]
  },
  {
   "cell_type": "code",
   "execution_count": 19,
   "id": "a0c2b697",
   "metadata": {
    "execution": {
     "iopub.execute_input": "2023-02-23T09:23:56.006861Z",
     "iopub.status.busy": "2023-02-23T09:23:56.005944Z",
     "iopub.status.idle": "2023-02-23T09:23:56.010106Z",
     "shell.execute_reply": "2023-02-23T09:23:56.009581Z"
    }
   },
   "outputs": [],
   "source": [
    "trees = [FastTreeValue(_TREE_DATA_2) for _ in range(8)]"
   ]
  },
  {
   "cell_type": "code",
   "execution_count": 20,
   "id": "017ea5a5",
   "metadata": {
    "execution": {
     "iopub.execute_input": "2023-02-23T09:23:56.013582Z",
     "iopub.status.busy": "2023-02-23T09:23:56.012678Z",
     "iopub.status.idle": "2023-02-23T09:23:56.021253Z",
     "shell.execute_reply": "2023-02-23T09:23:56.020731Z"
    }
   },
   "outputs": [
    {
     "data": {
      "text/plain": [
       "<FastTreeValue 0x7ff31703f340>\n",
       "├── 'a' --> tensor([[[ 0.1695,  1.5011, -0.9409],\n",
       "│                    [-0.2509,  0.1479,  0.5107]],\n",
       "│           \n",
       "│                   [[ 0.1695,  1.5011, -0.9409],\n",
       "│                    [-0.2509,  0.1479,  0.5107]],\n",
       "│           \n",
       "│                   [[ 0.1695,  1.5011, -0.9409],\n",
       "│                    [-0.2509,  0.1479,  0.5107]],\n",
       "│           \n",
       "│                   [[ 0.1695,  1.5011, -0.9409],\n",
       "│                    [-0.2509,  0.1479,  0.5107]],\n",
       "│           \n",
       "│                   [[ 0.1695,  1.5011, -0.9409],\n",
       "│                    [-0.2509,  0.1479,  0.5107]],\n",
       "│           \n",
       "│                   [[ 0.1695,  1.5011, -0.9409],\n",
       "│                    [-0.2509,  0.1479,  0.5107]],\n",
       "│           \n",
       "│                   [[ 0.1695,  1.5011, -0.9409],\n",
       "│                    [-0.2509,  0.1479,  0.5107]],\n",
       "│           \n",
       "│                   [[ 0.1695,  1.5011, -0.9409],\n",
       "│                    [-0.2509,  0.1479,  0.5107]]])\n",
       "└── 'x' --> <FastTreeValue 0x7ff31703fa90>\n",
       "    └── 'c' --> tensor([[[-1.0038, -0.2612, -0.4258, -0.6569],\n",
       "                         [-0.9042, -0.3632,  1.0303, -0.1529],\n",
       "                         [-0.6523,  2.6772, -0.5815,  1.2085]],\n",
       "                \n",
       "                        [[-1.0038, -0.2612, -0.4258, -0.6569],\n",
       "                         [-0.9042, -0.3632,  1.0303, -0.1529],\n",
       "                         [-0.6523,  2.6772, -0.5815,  1.2085]],\n",
       "                \n",
       "                        [[-1.0038, -0.2612, -0.4258, -0.6569],\n",
       "                         [-0.9042, -0.3632,  1.0303, -0.1529],\n",
       "                         [-0.6523,  2.6772, -0.5815,  1.2085]],\n",
       "                \n",
       "                        [[-1.0038, -0.2612, -0.4258, -0.6569],\n",
       "                         [-0.9042, -0.3632,  1.0303, -0.1529],\n",
       "                         [-0.6523,  2.6772, -0.5815,  1.2085]],\n",
       "                \n",
       "                        [[-1.0038, -0.2612, -0.4258, -0.6569],\n",
       "                         [-0.9042, -0.3632,  1.0303, -0.1529],\n",
       "                         [-0.6523,  2.6772, -0.5815,  1.2085]],\n",
       "                \n",
       "                        [[-1.0038, -0.2612, -0.4258, -0.6569],\n",
       "                         [-0.9042, -0.3632,  1.0303, -0.1529],\n",
       "                         [-0.6523,  2.6772, -0.5815,  1.2085]],\n",
       "                \n",
       "                        [[-1.0038, -0.2612, -0.4258, -0.6569],\n",
       "                         [-0.9042, -0.3632,  1.0303, -0.1529],\n",
       "                         [-0.6523,  2.6772, -0.5815,  1.2085]],\n",
       "                \n",
       "                        [[-1.0038, -0.2612, -0.4258, -0.6569],\n",
       "                         [-0.9042, -0.3632,  1.0303, -0.1529],\n",
       "                         [-0.6523,  2.6772, -0.5815,  1.2085]]])"
      ]
     },
     "execution_count": 20,
     "metadata": {},
     "output_type": "execute_result"
    }
   ],
   "source": [
    "t_stack = FastTreeValue.func(subside=True)(torch.stack)\n",
    "\n",
    "t_stack(trees)"
   ]
  },
  {
   "cell_type": "code",
   "execution_count": 21,
   "id": "f8b3f415",
   "metadata": {
    "execution": {
     "iopub.execute_input": "2023-02-23T09:23:56.024651Z",
     "iopub.status.busy": "2023-02-23T09:23:56.023778Z",
     "iopub.status.idle": "2023-02-23T09:23:58.650086Z",
     "shell.execute_reply": "2023-02-23T09:23:58.649331Z"
    }
   },
   "outputs": [
    {
     "name": "stdout",
     "output_type": "stream",
     "text": [
      "32.3 µs ± 67.1 ns per loop (mean ± std. dev. of 7 runs, 10,000 loops each)\n"
     ]
    }
   ],
   "source": [
    "%timeit t_stack(trees)"
   ]
  },
  {
   "cell_type": "code",
   "execution_count": 22,
   "id": "94b56771",
   "metadata": {
    "execution": {
     "iopub.execute_input": "2023-02-23T09:23:58.652954Z",
     "iopub.status.busy": "2023-02-23T09:23:58.652603Z",
     "iopub.status.idle": "2023-02-23T09:23:58.661020Z",
     "shell.execute_reply": "2023-02-23T09:23:58.659830Z"
    }
   },
   "outputs": [
    {
     "data": {
      "text/plain": [
       "<FastTreeValue 0x7ff3bc761c40>\n",
       "├── 'a' --> tensor([[ 0.1695,  1.5011, -0.9409],\n",
       "│                   [-0.2509,  0.1479,  0.5107],\n",
       "│                   [ 0.1695,  1.5011, -0.9409],\n",
       "│                   [-0.2509,  0.1479,  0.5107],\n",
       "│                   [ 0.1695,  1.5011, -0.9409],\n",
       "│                   [-0.2509,  0.1479,  0.5107],\n",
       "│                   [ 0.1695,  1.5011, -0.9409],\n",
       "│                   [-0.2509,  0.1479,  0.5107],\n",
       "│                   [ 0.1695,  1.5011, -0.9409],\n",
       "│                   [-0.2509,  0.1479,  0.5107],\n",
       "│                   [ 0.1695,  1.5011, -0.9409],\n",
       "│                   [-0.2509,  0.1479,  0.5107],\n",
       "│                   [ 0.1695,  1.5011, -0.9409],\n",
       "│                   [-0.2509,  0.1479,  0.5107],\n",
       "│                   [ 0.1695,  1.5011, -0.9409],\n",
       "│                   [-0.2509,  0.1479,  0.5107]])\n",
       "└── 'x' --> <FastTreeValue 0x7ff310453e50>\n",
       "    └── 'c' --> tensor([[-1.0038, -0.2612, -0.4258, -0.6569],\n",
       "                        [-0.9042, -0.3632,  1.0303, -0.1529],\n",
       "                        [-0.6523,  2.6772, -0.5815,  1.2085],\n",
       "                        [-1.0038, -0.2612, -0.4258, -0.6569],\n",
       "                        [-0.9042, -0.3632,  1.0303, -0.1529],\n",
       "                        [-0.6523,  2.6772, -0.5815,  1.2085],\n",
       "                        [-1.0038, -0.2612, -0.4258, -0.6569],\n",
       "                        [-0.9042, -0.3632,  1.0303, -0.1529],\n",
       "                        [-0.6523,  2.6772, -0.5815,  1.2085],\n",
       "                        [-1.0038, -0.2612, -0.4258, -0.6569],\n",
       "                        [-0.9042, -0.3632,  1.0303, -0.1529],\n",
       "                        [-0.6523,  2.6772, -0.5815,  1.2085],\n",
       "                        [-1.0038, -0.2612, -0.4258, -0.6569],\n",
       "                        [-0.9042, -0.3632,  1.0303, -0.1529],\n",
       "                        [-0.6523,  2.6772, -0.5815,  1.2085],\n",
       "                        [-1.0038, -0.2612, -0.4258, -0.6569],\n",
       "                        [-0.9042, -0.3632,  1.0303, -0.1529],\n",
       "                        [-0.6523,  2.6772, -0.5815,  1.2085],\n",
       "                        [-1.0038, -0.2612, -0.4258, -0.6569],\n",
       "                        [-0.9042, -0.3632,  1.0303, -0.1529],\n",
       "                        [-0.6523,  2.6772, -0.5815,  1.2085],\n",
       "                        [-1.0038, -0.2612, -0.4258, -0.6569],\n",
       "                        [-0.9042, -0.3632,  1.0303, -0.1529],\n",
       "                        [-0.6523,  2.6772, -0.5815,  1.2085]])"
      ]
     },
     "execution_count": 22,
     "metadata": {},
     "output_type": "execute_result"
    }
   ],
   "source": [
    "t_cat = FastTreeValue.func(subside=True)(torch.cat)\n",
    "\n",
    "t_cat(trees)"
   ]
  },
  {
   "cell_type": "code",
   "execution_count": 23,
   "id": "5e9c06a6",
   "metadata": {
    "execution": {
     "iopub.execute_input": "2023-02-23T09:23:58.663764Z",
     "iopub.status.busy": "2023-02-23T09:23:58.663221Z",
     "iopub.status.idle": "2023-02-23T09:24:01.140716Z",
     "shell.execute_reply": "2023-02-23T09:24:01.140021Z"
    }
   },
   "outputs": [
    {
     "name": "stdout",
     "output_type": "stream",
     "text": [
      "30.4 µs ± 77.1 ns per loop (mean ± std. dev. of 7 runs, 10,000 loops each)\n"
     ]
    }
   ],
   "source": [
    "%timeit t_cat(trees)"
   ]
  },
  {
   "cell_type": "code",
   "execution_count": 24,
   "id": "a3ab5c8f",
   "metadata": {
    "execution": {
     "iopub.execute_input": "2023-02-23T09:24:01.143450Z",
     "iopub.status.busy": "2023-02-23T09:24:01.143228Z",
     "iopub.status.idle": "2023-02-23T09:24:05.714192Z",
     "shell.execute_reply": "2023-02-23T09:24:05.713425Z"
    }
   },
   "outputs": [
    {
     "name": "stdout",
     "output_type": "stream",
     "text": [
      "56.2 µs ± 248 ns per loop (mean ± std. dev. of 7 runs, 10,000 loops each)\n"
     ]
    }
   ],
   "source": [
    "t_split = FastTreeValue.func(rise=True)(torch.split)\n",
    "tree = FastTreeValue({\n",
    "    'obs': torch.randn(8, 4, 84, 84),\n",
    "    'action': torch.randint(0, 6, size=(8, 1,)),\n",
    "    'reward': torch.rand(8, 1),\n",
    "})\n",
    "\n",
    "%timeit t_split(tree, 1)"
   ]
  },
  {
   "cell_type": "markdown",
   "id": "31c3ec0b",
   "metadata": {},
   "source": [
    "### Performance of Tianshou Batch"
   ]
  },
  {
   "cell_type": "code",
   "execution_count": 25,
   "id": "9ead828a",
   "metadata": {
    "execution": {
     "iopub.execute_input": "2023-02-23T09:24:05.716945Z",
     "iopub.status.busy": "2023-02-23T09:24:05.716606Z",
     "iopub.status.idle": "2023-02-23T09:24:05.724341Z",
     "shell.execute_reply": "2023-02-23T09:24:05.723765Z"
    }
   },
   "outputs": [
    {
     "data": {
      "text/plain": [
       "Batch(\n",
       "    a: tensor([[[ 0.1695,  1.5011, -0.9409],\n",
       "                [-0.2509,  0.1479,  0.5107]],\n",
       "       \n",
       "               [[ 0.1695,  1.5011, -0.9409],\n",
       "                [-0.2509,  0.1479,  0.5107]],\n",
       "       \n",
       "               [[ 0.1695,  1.5011, -0.9409],\n",
       "                [-0.2509,  0.1479,  0.5107]],\n",
       "       \n",
       "               [[ 0.1695,  1.5011, -0.9409],\n",
       "                [-0.2509,  0.1479,  0.5107]],\n",
       "       \n",
       "               [[ 0.1695,  1.5011, -0.9409],\n",
       "                [-0.2509,  0.1479,  0.5107]],\n",
       "       \n",
       "               [[ 0.1695,  1.5011, -0.9409],\n",
       "                [-0.2509,  0.1479,  0.5107]],\n",
       "       \n",
       "               [[ 0.1695,  1.5011, -0.9409],\n",
       "                [-0.2509,  0.1479,  0.5107]],\n",
       "       \n",
       "               [[ 0.1695,  1.5011, -0.9409],\n",
       "                [-0.2509,  0.1479,  0.5107]]]),\n",
       "    x: Batch(\n",
       "           c: tensor([[[-1.0038, -0.2612, -0.4258, -0.6569],\n",
       "                       [-0.9042, -0.3632,  1.0303, -0.1529],\n",
       "                       [-0.6523,  2.6772, -0.5815,  1.2085]],\n",
       "              \n",
       "                      [[-1.0038, -0.2612, -0.4258, -0.6569],\n",
       "                       [-0.9042, -0.3632,  1.0303, -0.1529],\n",
       "                       [-0.6523,  2.6772, -0.5815,  1.2085]],\n",
       "              \n",
       "                      [[-1.0038, -0.2612, -0.4258, -0.6569],\n",
       "                       [-0.9042, -0.3632,  1.0303, -0.1529],\n",
       "                       [-0.6523,  2.6772, -0.5815,  1.2085]],\n",
       "              \n",
       "                      [[-1.0038, -0.2612, -0.4258, -0.6569],\n",
       "                       [-0.9042, -0.3632,  1.0303, -0.1529],\n",
       "                       [-0.6523,  2.6772, -0.5815,  1.2085]],\n",
       "              \n",
       "                      [[-1.0038, -0.2612, -0.4258, -0.6569],\n",
       "                       [-0.9042, -0.3632,  1.0303, -0.1529],\n",
       "                       [-0.6523,  2.6772, -0.5815,  1.2085]],\n",
       "              \n",
       "                      [[-1.0038, -0.2612, -0.4258, -0.6569],\n",
       "                       [-0.9042, -0.3632,  1.0303, -0.1529],\n",
       "                       [-0.6523,  2.6772, -0.5815,  1.2085]],\n",
       "              \n",
       "                      [[-1.0038, -0.2612, -0.4258, -0.6569],\n",
       "                       [-0.9042, -0.3632,  1.0303, -0.1529],\n",
       "                       [-0.6523,  2.6772, -0.5815,  1.2085]],\n",
       "              \n",
       "                      [[-1.0038, -0.2612, -0.4258, -0.6569],\n",
       "                       [-0.9042, -0.3632,  1.0303, -0.1529],\n",
       "                       [-0.6523,  2.6772, -0.5815,  1.2085]]]),\n",
       "       ),\n",
       ")"
      ]
     },
     "execution_count": 25,
     "metadata": {},
     "output_type": "execute_result"
    }
   ],
   "source": [
    "batches = [Batch(**_TREE_DATA_2) for _ in range(8)]\n",
    "\n",
    "Batch.stack(batches)"
   ]
  },
  {
   "cell_type": "code",
   "execution_count": 26,
   "id": "ec9037a3",
   "metadata": {
    "execution": {
     "iopub.execute_input": "2023-02-23T09:24:05.726671Z",
     "iopub.status.busy": "2023-02-23T09:24:05.726341Z",
     "iopub.status.idle": "2023-02-23T09:24:12.120585Z",
     "shell.execute_reply": "2023-02-23T09:24:12.119831Z"
    }
   },
   "outputs": [
    {
     "name": "stdout",
     "output_type": "stream",
     "text": [
      "78.7 µs ± 202 ns per loop (mean ± std. dev. of 7 runs, 10,000 loops each)\n"
     ]
    }
   ],
   "source": [
    "%timeit Batch.stack(batches)"
   ]
  },
  {
   "cell_type": "code",
   "execution_count": 27,
   "id": "cb8ab77e",
   "metadata": {
    "execution": {
     "iopub.execute_input": "2023-02-23T09:24:12.123720Z",
     "iopub.status.busy": "2023-02-23T09:24:12.123202Z",
     "iopub.status.idle": "2023-02-23T09:24:12.130439Z",
     "shell.execute_reply": "2023-02-23T09:24:12.129868Z"
    }
   },
   "outputs": [
    {
     "data": {
      "text/plain": [
       "Batch(\n",
       "    a: tensor([[ 0.1695,  1.5011, -0.9409],\n",
       "               [-0.2509,  0.1479,  0.5107],\n",
       "               [ 0.1695,  1.5011, -0.9409],\n",
       "               [-0.2509,  0.1479,  0.5107],\n",
       "               [ 0.1695,  1.5011, -0.9409],\n",
       "               [-0.2509,  0.1479,  0.5107],\n",
       "               [ 0.1695,  1.5011, -0.9409],\n",
       "               [-0.2509,  0.1479,  0.5107],\n",
       "               [ 0.1695,  1.5011, -0.9409],\n",
       "               [-0.2509,  0.1479,  0.5107],\n",
       "               [ 0.1695,  1.5011, -0.9409],\n",
       "               [-0.2509,  0.1479,  0.5107],\n",
       "               [ 0.1695,  1.5011, -0.9409],\n",
       "               [-0.2509,  0.1479,  0.5107],\n",
       "               [ 0.1695,  1.5011, -0.9409],\n",
       "               [-0.2509,  0.1479,  0.5107]]),\n",
       "    x: Batch(\n",
       "           c: tensor([[-1.0038, -0.2612, -0.4258, -0.6569],\n",
       "                      [-0.9042, -0.3632,  1.0303, -0.1529],\n",
       "                      [-0.6523,  2.6772, -0.5815,  1.2085],\n",
       "                      [-1.0038, -0.2612, -0.4258, -0.6569],\n",
       "                      [-0.9042, -0.3632,  1.0303, -0.1529],\n",
       "                      [-0.6523,  2.6772, -0.5815,  1.2085],\n",
       "                      [-1.0038, -0.2612, -0.4258, -0.6569],\n",
       "                      [-0.9042, -0.3632,  1.0303, -0.1529],\n",
       "                      [-0.6523,  2.6772, -0.5815,  1.2085],\n",
       "                      [-1.0038, -0.2612, -0.4258, -0.6569],\n",
       "                      [-0.9042, -0.3632,  1.0303, -0.1529],\n",
       "                      [-0.6523,  2.6772, -0.5815,  1.2085],\n",
       "                      [-1.0038, -0.2612, -0.4258, -0.6569],\n",
       "                      [-0.9042, -0.3632,  1.0303, -0.1529],\n",
       "                      [-0.6523,  2.6772, -0.5815,  1.2085],\n",
       "                      [-1.0038, -0.2612, -0.4258, -0.6569],\n",
       "                      [-0.9042, -0.3632,  1.0303, -0.1529],\n",
       "                      [-0.6523,  2.6772, -0.5815,  1.2085],\n",
       "                      [-1.0038, -0.2612, -0.4258, -0.6569],\n",
       "                      [-0.9042, -0.3632,  1.0303, -0.1529],\n",
       "                      [-0.6523,  2.6772, -0.5815,  1.2085],\n",
       "                      [-1.0038, -0.2612, -0.4258, -0.6569],\n",
       "                      [-0.9042, -0.3632,  1.0303, -0.1529],\n",
       "                      [-0.6523,  2.6772, -0.5815,  1.2085]]),\n",
       "       ),\n",
       ")"
      ]
     },
     "execution_count": 27,
     "metadata": {},
     "output_type": "execute_result"
    }
   ],
   "source": [
    "Batch.cat(batches)"
   ]
  },
  {
   "cell_type": "code",
   "execution_count": 28,
   "id": "18dfb045",
   "metadata": {
    "execution": {
     "iopub.execute_input": "2023-02-23T09:24:12.132631Z",
     "iopub.status.busy": "2023-02-23T09:24:12.132414Z",
     "iopub.status.idle": "2023-02-23T09:24:23.639149Z",
     "shell.execute_reply": "2023-02-23T09:24:23.638488Z"
    }
   },
   "outputs": [
    {
     "name": "stdout",
     "output_type": "stream",
     "text": [
      "142 µs ± 242 ns per loop (mean ± std. dev. of 7 runs, 10,000 loops each)\n"
     ]
    }
   ],
   "source": [
    "%timeit Batch.cat(batches)"
   ]
  },
  {
   "cell_type": "code",
   "execution_count": 29,
   "id": "c6688e51",
   "metadata": {
    "execution": {
     "iopub.execute_input": "2023-02-23T09:24:23.641916Z",
     "iopub.status.busy": "2023-02-23T09:24:23.641525Z",
     "iopub.status.idle": "2023-02-23T09:24:26.128975Z",
     "shell.execute_reply": "2023-02-23T09:24:26.128307Z"
    }
   },
   "outputs": [
    {
     "name": "stdout",
     "output_type": "stream",
     "text": [
      "305 µs ± 2.04 µs per loop (mean ± std. dev. of 7 runs, 1,000 loops each)\n"
     ]
    }
   ],
   "source": [
    "batch = Batch({\n",
    "    'obs': torch.randn(8, 4, 84, 84),\n",
    "    'action': torch.randint(0, 6, size=(8, 1,)),\n",
    "    'reward': torch.rand(8, 1)}\n",
    ")\n",
    "\n",
    "%timeit list(Batch.split(batch, 1, shuffle=False, merge_last=True))"
   ]
  },
  {
   "cell_type": "code",
   "execution_count": null,
   "id": "2539fbd9",
   "metadata": {},
   "outputs": [],
   "source": []
  }
 ],
 "metadata": {
  "kernelspec": {
   "display_name": "Python 3 (ipykernel)",
   "language": "python",
   "name": "python3"
  },
  "language_info": {
   "codemirror_mode": {
    "name": "ipython",
    "version": 3
   },
   "file_extension": ".py",
   "mimetype": "text/x-python",
   "name": "python",
   "nbconvert_exporter": "python",
   "pygments_lexer": "ipython3",
   "version": "3.8.16"
  }
 },
 "nbformat": 4,
 "nbformat_minor": 5
}
