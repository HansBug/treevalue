{
 "cells": [
  {
   "cell_type": "markdown",
   "id": "9d39d946",
   "metadata": {},
   "source": [
    "# Comparison Between TreeValue and Tianshou Batch"
   ]
  },
  {
   "cell_type": "markdown",
   "id": "3c6db2d4",
   "metadata": {},
   "source": [
    "In this section, we will take a look at the feature and performance of the [Tianshou Batch](https://github.com/thu-ml/tianshou) library, which is developed by Tsinghua Machine Learning Group."
   ]
  },
  {
   "cell_type": "markdown",
   "id": "069361b0",
   "metadata": {},
   "source": [
    "Before starting the comparison, let us define some thing."
   ]
  },
  {
   "cell_type": "code",
   "execution_count": 1,
   "id": "06fc8d26",
   "metadata": {
    "execution": {
     "iopub.execute_input": "2023-02-27T09:38:20.721685Z",
     "iopub.status.busy": "2023-02-27T09:38:20.721465Z",
     "iopub.status.idle": "2023-02-27T09:38:21.643509Z",
     "shell.execute_reply": "2023-02-27T09:38:21.642833Z"
    }
   },
   "outputs": [
    {
     "name": "stderr",
     "output_type": "stream",
     "text": [
      "/opt/hostedtoolcache/Python/3.8.16/x64/lib/python3.8/site-packages/tqdm/auto.py:22: TqdmWarning: IProgress not found. Please update jupyter and ipywidgets. See https://ipywidgets.readthedocs.io/en/stable/user_install.html\n",
      "  from .autonotebook import tqdm as notebook_tqdm\n"
     ]
    }
   ],
   "source": [
    "import torch \n",
    "\n",
    "_TREE_DATA_1 = {'a': 1, 'b': 2, 'x': {'c': 3, 'd': 4}}\n",
    "_TREE_DATA_2 = {\n",
    "    'a': torch.randn(2, 3), \n",
    "    'x': {\n",
    "        'c': torch.randn(3, 4)\n",
    "    },\n",
    "}\n",
    "_TREE_DATA_3 = {\n",
    "    'obs': torch.randn(4, 84, 84),\n",
    "    'action': torch.randint(0, 6, size=(1,)),\n",
    "    'reward': torch.rand(1),\n",
    "}"
   ]
  },
  {
   "cell_type": "markdown",
   "id": "83461b25",
   "metadata": {},
   "source": [
    "## Read and Write Operation"
   ]
  },
  {
   "cell_type": "markdown",
   "id": "067b3f73",
   "metadata": {},
   "source": [
    "Reading and writing are the two most common operations in the tree data structure based on the data model (TreeValue and Tianshou Batch both belong to this type), so this section will compare the reading and writing performance of these two libraries."
   ]
  },
  {
   "cell_type": "markdown",
   "id": "5d09a5b7",
   "metadata": {},
   "source": [
    "### TreeValue's Get and Set"
   ]
  },
  {
   "cell_type": "code",
   "execution_count": 2,
   "id": "9519c4bb",
   "metadata": {
    "execution": {
     "iopub.execute_input": "2023-02-27T09:38:21.646949Z",
     "iopub.status.busy": "2023-02-27T09:38:21.646350Z",
     "iopub.status.idle": "2023-02-27T09:38:21.931033Z",
     "shell.execute_reply": "2023-02-27T09:38:21.930340Z"
    }
   },
   "outputs": [],
   "source": [
    "from treevalue import FastTreeValue\n",
    "\n",
    "t = FastTreeValue(_TREE_DATA_2)"
   ]
  },
  {
   "cell_type": "code",
   "execution_count": 3,
   "id": "11c37677",
   "metadata": {
    "execution": {
     "iopub.execute_input": "2023-02-27T09:38:21.934517Z",
     "iopub.status.busy": "2023-02-27T09:38:21.933959Z",
     "iopub.status.idle": "2023-02-27T09:38:21.944659Z",
     "shell.execute_reply": "2023-02-27T09:38:21.944032Z"
    }
   },
   "outputs": [
    {
     "data": {
      "text/plain": [
       "<FastTreeValue 0x7fc19c71fca0>\n",
       "├── 'a' --> tensor([[ 1.2720,  0.6516, -2.4516],\n",
       "│                   [ 1.1334,  0.3185,  1.2699]])\n",
       "└── 'x' --> <FastTreeValue 0x7fc19c71f7f0>\n",
       "    └── 'c' --> tensor([[-1.0283, -0.4688,  1.9659,  2.5100],\n",
       "                        [ 0.9677,  0.1151,  0.8351,  0.6686],\n",
       "                        [-1.6604,  1.1215, -0.1914, -0.1482]])"
      ]
     },
     "execution_count": 3,
     "metadata": {},
     "output_type": "execute_result"
    }
   ],
   "source": [
    "t"
   ]
  },
  {
   "cell_type": "code",
   "execution_count": 4,
   "id": "fd70b0b9",
   "metadata": {
    "execution": {
     "iopub.execute_input": "2023-02-27T09:38:21.948124Z",
     "iopub.status.busy": "2023-02-27T09:38:21.946975Z",
     "iopub.status.idle": "2023-02-27T09:38:21.953629Z",
     "shell.execute_reply": "2023-02-27T09:38:21.953033Z"
    }
   },
   "outputs": [
    {
     "data": {
      "text/plain": [
       "tensor([[ 1.2720,  0.6516, -2.4516],\n",
       "        [ 1.1334,  0.3185,  1.2699]])"
      ]
     },
     "execution_count": 4,
     "metadata": {},
     "output_type": "execute_result"
    }
   ],
   "source": [
    "t.a"
   ]
  },
  {
   "cell_type": "code",
   "execution_count": 5,
   "id": "c18197bd",
   "metadata": {
    "execution": {
     "iopub.execute_input": "2023-02-27T09:38:21.956502Z",
     "iopub.status.busy": "2023-02-27T09:38:21.956149Z",
     "iopub.status.idle": "2023-02-27T09:38:26.654779Z",
     "shell.execute_reply": "2023-02-27T09:38:26.654056Z"
    }
   },
   "outputs": [
    {
     "name": "stdout",
     "output_type": "stream",
     "text": [
      "57.8 ns ± 0.0964 ns per loop (mean ± std. dev. of 7 runs, 10,000,000 loops each)\n"
     ]
    }
   ],
   "source": [
    "%timeit t.a"
   ]
  },
  {
   "cell_type": "code",
   "execution_count": 6,
   "id": "bd52f867",
   "metadata": {
    "execution": {
     "iopub.execute_input": "2023-02-27T09:38:26.657577Z",
     "iopub.status.busy": "2023-02-27T09:38:26.657215Z",
     "iopub.status.idle": "2023-02-27T09:38:26.664489Z",
     "shell.execute_reply": "2023-02-27T09:38:26.663869Z"
    }
   },
   "outputs": [
    {
     "data": {
      "text/plain": [
       "<FastTreeValue 0x7fc19c71fca0>\n",
       "├── 'a' --> tensor([[-0.4986, -0.0550, -0.9742],\n",
       "│                   [ 1.0265,  0.7553, -0.0452]])\n",
       "└── 'x' --> <FastTreeValue 0x7fc19c71f7f0>\n",
       "    └── 'c' --> tensor([[-1.0283, -0.4688,  1.9659,  2.5100],\n",
       "                        [ 0.9677,  0.1151,  0.8351,  0.6686],\n",
       "                        [-1.6604,  1.1215, -0.1914, -0.1482]])"
      ]
     },
     "execution_count": 6,
     "metadata": {},
     "output_type": "execute_result"
    }
   ],
   "source": [
    "new_value = torch.randn(2, 3)\n",
    "t.a = new_value\n",
    "\n",
    "t"
   ]
  },
  {
   "cell_type": "code",
   "execution_count": 7,
   "id": "bbe04d1c",
   "metadata": {
    "execution": {
     "iopub.execute_input": "2023-02-27T09:38:26.667082Z",
     "iopub.status.busy": "2023-02-27T09:38:26.666869Z",
     "iopub.status.idle": "2023-02-27T09:38:31.362051Z",
     "shell.execute_reply": "2023-02-27T09:38:31.361301Z"
    }
   },
   "outputs": [
    {
     "name": "stdout",
     "output_type": "stream",
     "text": [
      "57.7 ns ± 0.0193 ns per loop (mean ± std. dev. of 7 runs, 10,000,000 loops each)\n"
     ]
    }
   ],
   "source": [
    "%timeit t.a = new_value"
   ]
  },
  {
   "cell_type": "markdown",
   "id": "48c49731",
   "metadata": {},
   "source": [
    "### Tianshou Batch's Get and Set"
   ]
  },
  {
   "cell_type": "code",
   "execution_count": 8,
   "id": "f1bb14c1",
   "metadata": {
    "execution": {
     "iopub.execute_input": "2023-02-27T09:38:31.365201Z",
     "iopub.status.busy": "2023-02-27T09:38:31.364716Z",
     "iopub.status.idle": "2023-02-27T09:38:31.697128Z",
     "shell.execute_reply": "2023-02-27T09:38:31.696459Z"
    }
   },
   "outputs": [],
   "source": [
    "from tianshou.data import Batch\n",
    "\n",
    "b = Batch(**_TREE_DATA_2)"
   ]
  },
  {
   "cell_type": "code",
   "execution_count": 9,
   "id": "cb0777c3",
   "metadata": {
    "execution": {
     "iopub.execute_input": "2023-02-27T09:38:31.700439Z",
     "iopub.status.busy": "2023-02-27T09:38:31.699718Z",
     "iopub.status.idle": "2023-02-27T09:38:31.706418Z",
     "shell.execute_reply": "2023-02-27T09:38:31.705733Z"
    }
   },
   "outputs": [
    {
     "data": {
      "text/plain": [
       "Batch(\n",
       "    a: tensor([[ 1.2720,  0.6516, -2.4516],\n",
       "               [ 1.1334,  0.3185,  1.2699]]),\n",
       "    x: Batch(\n",
       "           c: tensor([[-1.0283, -0.4688,  1.9659,  2.5100],\n",
       "                      [ 0.9677,  0.1151,  0.8351,  0.6686],\n",
       "                      [-1.6604,  1.1215, -0.1914, -0.1482]]),\n",
       "       ),\n",
       ")"
      ]
     },
     "execution_count": 9,
     "metadata": {},
     "output_type": "execute_result"
    }
   ],
   "source": [
    "b"
   ]
  },
  {
   "cell_type": "code",
   "execution_count": 10,
   "id": "43ef8ea3",
   "metadata": {
    "execution": {
     "iopub.execute_input": "2023-02-27T09:38:31.709129Z",
     "iopub.status.busy": "2023-02-27T09:38:31.708782Z",
     "iopub.status.idle": "2023-02-27T09:38:31.714222Z",
     "shell.execute_reply": "2023-02-27T09:38:31.713648Z"
    }
   },
   "outputs": [
    {
     "data": {
      "text/plain": [
       "tensor([[ 1.2720,  0.6516, -2.4516],\n",
       "        [ 1.1334,  0.3185,  1.2699]])"
      ]
     },
     "execution_count": 10,
     "metadata": {},
     "output_type": "execute_result"
    }
   ],
   "source": [
    "b.a"
   ]
  },
  {
   "cell_type": "code",
   "execution_count": 11,
   "id": "b785ab72",
   "metadata": {
    "execution": {
     "iopub.execute_input": "2023-02-27T09:38:31.716751Z",
     "iopub.status.busy": "2023-02-27T09:38:31.716414Z",
     "iopub.status.idle": "2023-02-27T09:38:35.931604Z",
     "shell.execute_reply": "2023-02-27T09:38:35.930857Z"
    }
   },
   "outputs": [
    {
     "name": "stdout",
     "output_type": "stream",
     "text": [
      "51.9 ns ± 0.0421 ns per loop (mean ± std. dev. of 7 runs, 10,000,000 loops each)\n"
     ]
    }
   ],
   "source": [
    "%timeit b.a"
   ]
  },
  {
   "cell_type": "code",
   "execution_count": 12,
   "id": "ad54dc69",
   "metadata": {
    "execution": {
     "iopub.execute_input": "2023-02-27T09:38:35.934682Z",
     "iopub.status.busy": "2023-02-27T09:38:35.934222Z",
     "iopub.status.idle": "2023-02-27T09:38:35.940540Z",
     "shell.execute_reply": "2023-02-27T09:38:35.939953Z"
    }
   },
   "outputs": [
    {
     "data": {
      "text/plain": [
       "Batch(\n",
       "    a: tensor([[ 2.0536, -0.1757,  0.0707],\n",
       "               [ 1.6439,  0.2873, -0.4892]]),\n",
       "    x: Batch(\n",
       "           c: tensor([[-1.0283, -0.4688,  1.9659,  2.5100],\n",
       "                      [ 0.9677,  0.1151,  0.8351,  0.6686],\n",
       "                      [-1.6604,  1.1215, -0.1914, -0.1482]]),\n",
       "       ),\n",
       ")"
      ]
     },
     "execution_count": 12,
     "metadata": {},
     "output_type": "execute_result"
    }
   ],
   "source": [
    "new_value = torch.randn(2, 3)\n",
    "b.a = new_value\n",
    "\n",
    "b"
   ]
  },
  {
   "cell_type": "code",
   "execution_count": 13,
   "id": "29b1d0bf",
   "metadata": {
    "execution": {
     "iopub.execute_input": "2023-02-27T09:38:35.942983Z",
     "iopub.status.busy": "2023-02-27T09:38:35.942637Z",
     "iopub.status.idle": "2023-02-27T09:38:39.889598Z",
     "shell.execute_reply": "2023-02-27T09:38:39.888932Z"
    }
   },
   "outputs": [
    {
     "name": "stdout",
     "output_type": "stream",
     "text": [
      "486 ns ± 0.0746 ns per loop (mean ± std. dev. of 7 runs, 1,000,000 loops each)\n"
     ]
    }
   ],
   "source": [
    "%timeit b.a = new_value"
   ]
  },
  {
   "cell_type": "markdown",
   "id": "b61ad1d0",
   "metadata": {},
   "source": [
    "## Initialization"
   ]
  },
  {
   "cell_type": "markdown",
   "id": "d70f0d54",
   "metadata": {},
   "source": [
    "### TreeValue's Initialization"
   ]
  },
  {
   "cell_type": "code",
   "execution_count": 14,
   "id": "d32a679b",
   "metadata": {
    "execution": {
     "iopub.execute_input": "2023-02-27T09:38:39.892705Z",
     "iopub.status.busy": "2023-02-27T09:38:39.892362Z",
     "iopub.status.idle": "2023-02-27T09:38:46.683809Z",
     "shell.execute_reply": "2023-02-27T09:38:46.683157Z"
    }
   },
   "outputs": [
    {
     "name": "stdout",
     "output_type": "stream",
     "text": [
      "836 ns ± 0.158 ns per loop (mean ± std. dev. of 7 runs, 1,000,000 loops each)\n"
     ]
    }
   ],
   "source": [
    "%timeit FastTreeValue(_TREE_DATA_1)"
   ]
  },
  {
   "cell_type": "markdown",
   "id": "24f3707b",
   "metadata": {},
   "source": [
    "### Tianshou Batch's Initialization"
   ]
  },
  {
   "cell_type": "code",
   "execution_count": 15,
   "id": "ac3958df",
   "metadata": {
    "execution": {
     "iopub.execute_input": "2023-02-27T09:38:46.686950Z",
     "iopub.status.busy": "2023-02-27T09:38:46.686478Z",
     "iopub.status.idle": "2023-02-27T09:38:55.678030Z",
     "shell.execute_reply": "2023-02-27T09:38:55.677294Z"
    }
   },
   "outputs": [
    {
     "name": "stdout",
     "output_type": "stream",
     "text": [
      "11.1 µs ± 36.5 ns per loop (mean ± std. dev. of 7 runs, 100,000 loops each)\n"
     ]
    }
   ],
   "source": [
    "%timeit Batch(**_TREE_DATA_1)"
   ]
  },
  {
   "cell_type": "markdown",
   "id": "1ab82e2d",
   "metadata": {},
   "source": [
    "## Deep Copy Operation"
   ]
  },
  {
   "cell_type": "code",
   "execution_count": 16,
   "id": "210a9442",
   "metadata": {
    "execution": {
     "iopub.execute_input": "2023-02-27T09:38:55.680839Z",
     "iopub.status.busy": "2023-02-27T09:38:55.680459Z",
     "iopub.status.idle": "2023-02-27T09:38:55.684456Z",
     "shell.execute_reply": "2023-02-27T09:38:55.683871Z"
    }
   },
   "outputs": [],
   "source": [
    "import copy"
   ]
  },
  {
   "cell_type": "markdown",
   "id": "5a736274",
   "metadata": {},
   "source": [
    "### Deep Copy of TreeValue"
   ]
  },
  {
   "cell_type": "code",
   "execution_count": 17,
   "id": "f9bcadd6",
   "metadata": {
    "execution": {
     "iopub.execute_input": "2023-02-27T09:38:55.687074Z",
     "iopub.status.busy": "2023-02-27T09:38:55.686733Z",
     "iopub.status.idle": "2023-02-27T09:39:07.116486Z",
     "shell.execute_reply": "2023-02-27T09:39:07.115791Z"
    }
   },
   "outputs": [
    {
     "name": "stdout",
     "output_type": "stream",
     "text": [
      "141 µs ± 6.01 µs per loop (mean ± std. dev. of 7 runs, 10,000 loops each)\n"
     ]
    }
   ],
   "source": [
    "t3 = FastTreeValue(_TREE_DATA_3)\n",
    "%timeit copy.deepcopy(t3)"
   ]
  },
  {
   "cell_type": "markdown",
   "id": "bf8be7ea",
   "metadata": {},
   "source": [
    "### Deep Copy of Tianshou Batch"
   ]
  },
  {
   "cell_type": "code",
   "execution_count": 18,
   "id": "91998e6f",
   "metadata": {
    "execution": {
     "iopub.execute_input": "2023-02-27T09:39:07.119617Z",
     "iopub.status.busy": "2023-02-27T09:39:07.119360Z",
     "iopub.status.idle": "2023-02-27T09:39:18.653339Z",
     "shell.execute_reply": "2023-02-27T09:39:18.652660Z"
    }
   },
   "outputs": [
    {
     "name": "stdout",
     "output_type": "stream",
     "text": [
      "142 µs ± 1.2 µs per loop (mean ± std. dev. of 7 runs, 10,000 loops each)\n"
     ]
    }
   ],
   "source": [
    "b3 = Batch(**_TREE_DATA_3)\n",
    "%timeit copy.deepcopy(b3)"
   ]
  },
  {
   "cell_type": "markdown",
   "id": "223162fb",
   "metadata": {},
   "source": [
    "## Stack, Concat and Split Operation"
   ]
  },
  {
   "cell_type": "markdown",
   "id": "85fa4a73",
   "metadata": {},
   "source": [
    "### Performance of TreeValue"
   ]
  },
  {
   "cell_type": "code",
   "execution_count": 19,
   "id": "a0c2b697",
   "metadata": {
    "execution": {
     "iopub.execute_input": "2023-02-27T09:39:18.657119Z",
     "iopub.status.busy": "2023-02-27T09:39:18.655965Z",
     "iopub.status.idle": "2023-02-27T09:39:18.660458Z",
     "shell.execute_reply": "2023-02-27T09:39:18.659923Z"
    }
   },
   "outputs": [],
   "source": [
    "trees = [FastTreeValue(_TREE_DATA_2) for _ in range(8)]"
   ]
  },
  {
   "cell_type": "code",
   "execution_count": 20,
   "id": "017ea5a5",
   "metadata": {
    "execution": {
     "iopub.execute_input": "2023-02-27T09:39:18.663491Z",
     "iopub.status.busy": "2023-02-27T09:39:18.663003Z",
     "iopub.status.idle": "2023-02-27T09:39:18.671903Z",
     "shell.execute_reply": "2023-02-27T09:39:18.671376Z"
    }
   },
   "outputs": [
    {
     "data": {
      "text/plain": [
       "<FastTreeValue 0x7fc0e79bf5b0>\n",
       "├── 'a' --> tensor([[[ 1.2720,  0.6516, -2.4516],\n",
       "│                    [ 1.1334,  0.3185,  1.2699]],\n",
       "│           \n",
       "│                   [[ 1.2720,  0.6516, -2.4516],\n",
       "│                    [ 1.1334,  0.3185,  1.2699]],\n",
       "│           \n",
       "│                   [[ 1.2720,  0.6516, -2.4516],\n",
       "│                    [ 1.1334,  0.3185,  1.2699]],\n",
       "│           \n",
       "│                   [[ 1.2720,  0.6516, -2.4516],\n",
       "│                    [ 1.1334,  0.3185,  1.2699]],\n",
       "│           \n",
       "│                   [[ 1.2720,  0.6516, -2.4516],\n",
       "│                    [ 1.1334,  0.3185,  1.2699]],\n",
       "│           \n",
       "│                   [[ 1.2720,  0.6516, -2.4516],\n",
       "│                    [ 1.1334,  0.3185,  1.2699]],\n",
       "│           \n",
       "│                   [[ 1.2720,  0.6516, -2.4516],\n",
       "│                    [ 1.1334,  0.3185,  1.2699]],\n",
       "│           \n",
       "│                   [[ 1.2720,  0.6516, -2.4516],\n",
       "│                    [ 1.1334,  0.3185,  1.2699]]])\n",
       "└── 'x' --> <FastTreeValue 0x7fc0e79bf490>\n",
       "    └── 'c' --> tensor([[[-1.0283, -0.4688,  1.9659,  2.5100],\n",
       "                         [ 0.9677,  0.1151,  0.8351,  0.6686],\n",
       "                         [-1.6604,  1.1215, -0.1914, -0.1482]],\n",
       "                \n",
       "                        [[-1.0283, -0.4688,  1.9659,  2.5100],\n",
       "                         [ 0.9677,  0.1151,  0.8351,  0.6686],\n",
       "                         [-1.6604,  1.1215, -0.1914, -0.1482]],\n",
       "                \n",
       "                        [[-1.0283, -0.4688,  1.9659,  2.5100],\n",
       "                         [ 0.9677,  0.1151,  0.8351,  0.6686],\n",
       "                         [-1.6604,  1.1215, -0.1914, -0.1482]],\n",
       "                \n",
       "                        [[-1.0283, -0.4688,  1.9659,  2.5100],\n",
       "                         [ 0.9677,  0.1151,  0.8351,  0.6686],\n",
       "                         [-1.6604,  1.1215, -0.1914, -0.1482]],\n",
       "                \n",
       "                        [[-1.0283, -0.4688,  1.9659,  2.5100],\n",
       "                         [ 0.9677,  0.1151,  0.8351,  0.6686],\n",
       "                         [-1.6604,  1.1215, -0.1914, -0.1482]],\n",
       "                \n",
       "                        [[-1.0283, -0.4688,  1.9659,  2.5100],\n",
       "                         [ 0.9677,  0.1151,  0.8351,  0.6686],\n",
       "                         [-1.6604,  1.1215, -0.1914, -0.1482]],\n",
       "                \n",
       "                        [[-1.0283, -0.4688,  1.9659,  2.5100],\n",
       "                         [ 0.9677,  0.1151,  0.8351,  0.6686],\n",
       "                         [-1.6604,  1.1215, -0.1914, -0.1482]],\n",
       "                \n",
       "                        [[-1.0283, -0.4688,  1.9659,  2.5100],\n",
       "                         [ 0.9677,  0.1151,  0.8351,  0.6686],\n",
       "                         [-1.6604,  1.1215, -0.1914, -0.1482]]])"
      ]
     },
     "execution_count": 20,
     "metadata": {},
     "output_type": "execute_result"
    }
   ],
   "source": [
    "t_stack = FastTreeValue.func(subside=True)(torch.stack)\n",
    "\n",
    "t_stack(trees)"
   ]
  },
  {
   "cell_type": "code",
   "execution_count": 21,
   "id": "f8b3f415",
   "metadata": {
    "execution": {
     "iopub.execute_input": "2023-02-27T09:39:18.674906Z",
     "iopub.status.busy": "2023-02-27T09:39:18.674412Z",
     "iopub.status.idle": "2023-02-27T09:39:21.249810Z",
     "shell.execute_reply": "2023-02-27T09:39:21.249064Z"
    }
   },
   "outputs": [
    {
     "name": "stdout",
     "output_type": "stream",
     "text": [
      "31.7 µs ± 196 ns per loop (mean ± std. dev. of 7 runs, 10,000 loops each)\n"
     ]
    }
   ],
   "source": [
    "%timeit t_stack(trees)"
   ]
  },
  {
   "cell_type": "code",
   "execution_count": 22,
   "id": "94b56771",
   "metadata": {
    "execution": {
     "iopub.execute_input": "2023-02-27T09:39:21.252639Z",
     "iopub.status.busy": "2023-02-27T09:39:21.252291Z",
     "iopub.status.idle": "2023-02-27T09:39:21.260837Z",
     "shell.execute_reply": "2023-02-27T09:39:21.260242Z"
    }
   },
   "outputs": [
    {
     "data": {
      "text/plain": [
       "<FastTreeValue 0x7fc19c7120d0>\n",
       "├── 'a' --> tensor([[ 1.2720,  0.6516, -2.4516],\n",
       "│                   [ 1.1334,  0.3185,  1.2699],\n",
       "│                   [ 1.2720,  0.6516, -2.4516],\n",
       "│                   [ 1.1334,  0.3185,  1.2699],\n",
       "│                   [ 1.2720,  0.6516, -2.4516],\n",
       "│                   [ 1.1334,  0.3185,  1.2699],\n",
       "│                   [ 1.2720,  0.6516, -2.4516],\n",
       "│                   [ 1.1334,  0.3185,  1.2699],\n",
       "│                   [ 1.2720,  0.6516, -2.4516],\n",
       "│                   [ 1.1334,  0.3185,  1.2699],\n",
       "│                   [ 1.2720,  0.6516, -2.4516],\n",
       "│                   [ 1.1334,  0.3185,  1.2699],\n",
       "│                   [ 1.2720,  0.6516, -2.4516],\n",
       "│                   [ 1.1334,  0.3185,  1.2699],\n",
       "│                   [ 1.2720,  0.6516, -2.4516],\n",
       "│                   [ 1.1334,  0.3185,  1.2699]])\n",
       "└── 'x' --> <FastTreeValue 0x7fc19c7127f0>\n",
       "    └── 'c' --> tensor([[-1.0283, -0.4688,  1.9659,  2.5100],\n",
       "                        [ 0.9677,  0.1151,  0.8351,  0.6686],\n",
       "                        [-1.6604,  1.1215, -0.1914, -0.1482],\n",
       "                        [-1.0283, -0.4688,  1.9659,  2.5100],\n",
       "                        [ 0.9677,  0.1151,  0.8351,  0.6686],\n",
       "                        [-1.6604,  1.1215, -0.1914, -0.1482],\n",
       "                        [-1.0283, -0.4688,  1.9659,  2.5100],\n",
       "                        [ 0.9677,  0.1151,  0.8351,  0.6686],\n",
       "                        [-1.6604,  1.1215, -0.1914, -0.1482],\n",
       "                        [-1.0283, -0.4688,  1.9659,  2.5100],\n",
       "                        [ 0.9677,  0.1151,  0.8351,  0.6686],\n",
       "                        [-1.6604,  1.1215, -0.1914, -0.1482],\n",
       "                        [-1.0283, -0.4688,  1.9659,  2.5100],\n",
       "                        [ 0.9677,  0.1151,  0.8351,  0.6686],\n",
       "                        [-1.6604,  1.1215, -0.1914, -0.1482],\n",
       "                        [-1.0283, -0.4688,  1.9659,  2.5100],\n",
       "                        [ 0.9677,  0.1151,  0.8351,  0.6686],\n",
       "                        [-1.6604,  1.1215, -0.1914, -0.1482],\n",
       "                        [-1.0283, -0.4688,  1.9659,  2.5100],\n",
       "                        [ 0.9677,  0.1151,  0.8351,  0.6686],\n",
       "                        [-1.6604,  1.1215, -0.1914, -0.1482],\n",
       "                        [-1.0283, -0.4688,  1.9659,  2.5100],\n",
       "                        [ 0.9677,  0.1151,  0.8351,  0.6686],\n",
       "                        [-1.6604,  1.1215, -0.1914, -0.1482]])"
      ]
     },
     "execution_count": 22,
     "metadata": {},
     "output_type": "execute_result"
    }
   ],
   "source": [
    "t_cat = FastTreeValue.func(subside=True)(torch.cat)\n",
    "\n",
    "t_cat(trees)"
   ]
  },
  {
   "cell_type": "code",
   "execution_count": 23,
   "id": "5e9c06a6",
   "metadata": {
    "execution": {
     "iopub.execute_input": "2023-02-27T09:39:21.263566Z",
     "iopub.status.busy": "2023-02-27T09:39:21.263000Z",
     "iopub.status.idle": "2023-02-27T09:39:23.721250Z",
     "shell.execute_reply": "2023-02-27T09:39:23.720589Z"
    }
   },
   "outputs": [
    {
     "name": "stdout",
     "output_type": "stream",
     "text": [
      "30.2 µs ± 54.1 ns per loop (mean ± std. dev. of 7 runs, 10,000 loops each)\n"
     ]
    }
   ],
   "source": [
    "%timeit t_cat(trees)"
   ]
  },
  {
   "cell_type": "code",
   "execution_count": 24,
   "id": "a3ab5c8f",
   "metadata": {
    "execution": {
     "iopub.execute_input": "2023-02-27T09:39:23.724181Z",
     "iopub.status.busy": "2023-02-27T09:39:23.723614Z",
     "iopub.status.idle": "2023-02-27T09:39:28.514344Z",
     "shell.execute_reply": "2023-02-27T09:39:28.513571Z"
    }
   },
   "outputs": [
    {
     "name": "stdout",
     "output_type": "stream",
     "text": [
      "58.9 µs ± 157 ns per loop (mean ± std. dev. of 7 runs, 10,000 loops each)\n"
     ]
    }
   ],
   "source": [
    "t_split = FastTreeValue.func(rise=True)(torch.split)\n",
    "tree = FastTreeValue({\n",
    "    'obs': torch.randn(8, 4, 84, 84),\n",
    "    'action': torch.randint(0, 6, size=(8, 1,)),\n",
    "    'reward': torch.rand(8, 1),\n",
    "})\n",
    "\n",
    "%timeit t_split(tree, 1)"
   ]
  },
  {
   "cell_type": "markdown",
   "id": "31c3ec0b",
   "metadata": {},
   "source": [
    "### Performance of Tianshou Batch"
   ]
  },
  {
   "cell_type": "code",
   "execution_count": 25,
   "id": "9ead828a",
   "metadata": {
    "execution": {
     "iopub.execute_input": "2023-02-27T09:39:28.517342Z",
     "iopub.status.busy": "2023-02-27T09:39:28.516989Z",
     "iopub.status.idle": "2023-02-27T09:39:28.525245Z",
     "shell.execute_reply": "2023-02-27T09:39:28.524662Z"
    }
   },
   "outputs": [
    {
     "data": {
      "text/plain": [
       "Batch(\n",
       "    x: Batch(\n",
       "           c: tensor([[[-1.0283, -0.4688,  1.9659,  2.5100],\n",
       "                       [ 0.9677,  0.1151,  0.8351,  0.6686],\n",
       "                       [-1.6604,  1.1215, -0.1914, -0.1482]],\n",
       "              \n",
       "                      [[-1.0283, -0.4688,  1.9659,  2.5100],\n",
       "                       [ 0.9677,  0.1151,  0.8351,  0.6686],\n",
       "                       [-1.6604,  1.1215, -0.1914, -0.1482]],\n",
       "              \n",
       "                      [[-1.0283, -0.4688,  1.9659,  2.5100],\n",
       "                       [ 0.9677,  0.1151,  0.8351,  0.6686],\n",
       "                       [-1.6604,  1.1215, -0.1914, -0.1482]],\n",
       "              \n",
       "                      [[-1.0283, -0.4688,  1.9659,  2.5100],\n",
       "                       [ 0.9677,  0.1151,  0.8351,  0.6686],\n",
       "                       [-1.6604,  1.1215, -0.1914, -0.1482]],\n",
       "              \n",
       "                      [[-1.0283, -0.4688,  1.9659,  2.5100],\n",
       "                       [ 0.9677,  0.1151,  0.8351,  0.6686],\n",
       "                       [-1.6604,  1.1215, -0.1914, -0.1482]],\n",
       "              \n",
       "                      [[-1.0283, -0.4688,  1.9659,  2.5100],\n",
       "                       [ 0.9677,  0.1151,  0.8351,  0.6686],\n",
       "                       [-1.6604,  1.1215, -0.1914, -0.1482]],\n",
       "              \n",
       "                      [[-1.0283, -0.4688,  1.9659,  2.5100],\n",
       "                       [ 0.9677,  0.1151,  0.8351,  0.6686],\n",
       "                       [-1.6604,  1.1215, -0.1914, -0.1482]],\n",
       "              \n",
       "                      [[-1.0283, -0.4688,  1.9659,  2.5100],\n",
       "                       [ 0.9677,  0.1151,  0.8351,  0.6686],\n",
       "                       [-1.6604,  1.1215, -0.1914, -0.1482]]]),\n",
       "       ),\n",
       "    a: tensor([[[ 1.2720,  0.6516, -2.4516],\n",
       "                [ 1.1334,  0.3185,  1.2699]],\n",
       "       \n",
       "               [[ 1.2720,  0.6516, -2.4516],\n",
       "                [ 1.1334,  0.3185,  1.2699]],\n",
       "       \n",
       "               [[ 1.2720,  0.6516, -2.4516],\n",
       "                [ 1.1334,  0.3185,  1.2699]],\n",
       "       \n",
       "               [[ 1.2720,  0.6516, -2.4516],\n",
       "                [ 1.1334,  0.3185,  1.2699]],\n",
       "       \n",
       "               [[ 1.2720,  0.6516, -2.4516],\n",
       "                [ 1.1334,  0.3185,  1.2699]],\n",
       "       \n",
       "               [[ 1.2720,  0.6516, -2.4516],\n",
       "                [ 1.1334,  0.3185,  1.2699]],\n",
       "       \n",
       "               [[ 1.2720,  0.6516, -2.4516],\n",
       "                [ 1.1334,  0.3185,  1.2699]],\n",
       "       \n",
       "               [[ 1.2720,  0.6516, -2.4516],\n",
       "                [ 1.1334,  0.3185,  1.2699]]]),\n",
       ")"
      ]
     },
     "execution_count": 25,
     "metadata": {},
     "output_type": "execute_result"
    }
   ],
   "source": [
    "batches = [Batch(**_TREE_DATA_2) for _ in range(8)]\n",
    "\n",
    "Batch.stack(batches)"
   ]
  },
  {
   "cell_type": "code",
   "execution_count": 26,
   "id": "ec9037a3",
   "metadata": {
    "execution": {
     "iopub.execute_input": "2023-02-27T09:39:28.528402Z",
     "iopub.status.busy": "2023-02-27T09:39:28.527333Z",
     "iopub.status.idle": "2023-02-27T09:39:34.857954Z",
     "shell.execute_reply": "2023-02-27T09:39:34.857282Z"
    }
   },
   "outputs": [
    {
     "name": "stdout",
     "output_type": "stream",
     "text": [
      "77.9 µs ± 81.6 ns per loop (mean ± std. dev. of 7 runs, 10,000 loops each)\n"
     ]
    }
   ],
   "source": [
    "%timeit Batch.stack(batches)"
   ]
  },
  {
   "cell_type": "code",
   "execution_count": 27,
   "id": "cb8ab77e",
   "metadata": {
    "execution": {
     "iopub.execute_input": "2023-02-27T09:39:34.860813Z",
     "iopub.status.busy": "2023-02-27T09:39:34.860580Z",
     "iopub.status.idle": "2023-02-27T09:39:34.867769Z",
     "shell.execute_reply": "2023-02-27T09:39:34.867164Z"
    }
   },
   "outputs": [
    {
     "data": {
      "text/plain": [
       "Batch(\n",
       "    x: Batch(\n",
       "           c: tensor([[-1.0283, -0.4688,  1.9659,  2.5100],\n",
       "                      [ 0.9677,  0.1151,  0.8351,  0.6686],\n",
       "                      [-1.6604,  1.1215, -0.1914, -0.1482],\n",
       "                      [-1.0283, -0.4688,  1.9659,  2.5100],\n",
       "                      [ 0.9677,  0.1151,  0.8351,  0.6686],\n",
       "                      [-1.6604,  1.1215, -0.1914, -0.1482],\n",
       "                      [-1.0283, -0.4688,  1.9659,  2.5100],\n",
       "                      [ 0.9677,  0.1151,  0.8351,  0.6686],\n",
       "                      [-1.6604,  1.1215, -0.1914, -0.1482],\n",
       "                      [-1.0283, -0.4688,  1.9659,  2.5100],\n",
       "                      [ 0.9677,  0.1151,  0.8351,  0.6686],\n",
       "                      [-1.6604,  1.1215, -0.1914, -0.1482],\n",
       "                      [-1.0283, -0.4688,  1.9659,  2.5100],\n",
       "                      [ 0.9677,  0.1151,  0.8351,  0.6686],\n",
       "                      [-1.6604,  1.1215, -0.1914, -0.1482],\n",
       "                      [-1.0283, -0.4688,  1.9659,  2.5100],\n",
       "                      [ 0.9677,  0.1151,  0.8351,  0.6686],\n",
       "                      [-1.6604,  1.1215, -0.1914, -0.1482],\n",
       "                      [-1.0283, -0.4688,  1.9659,  2.5100],\n",
       "                      [ 0.9677,  0.1151,  0.8351,  0.6686],\n",
       "                      [-1.6604,  1.1215, -0.1914, -0.1482],\n",
       "                      [-1.0283, -0.4688,  1.9659,  2.5100],\n",
       "                      [ 0.9677,  0.1151,  0.8351,  0.6686],\n",
       "                      [-1.6604,  1.1215, -0.1914, -0.1482]]),\n",
       "       ),\n",
       "    a: tensor([[ 1.2720,  0.6516, -2.4516],\n",
       "               [ 1.1334,  0.3185,  1.2699],\n",
       "               [ 1.2720,  0.6516, -2.4516],\n",
       "               [ 1.1334,  0.3185,  1.2699],\n",
       "               [ 1.2720,  0.6516, -2.4516],\n",
       "               [ 1.1334,  0.3185,  1.2699],\n",
       "               [ 1.2720,  0.6516, -2.4516],\n",
       "               [ 1.1334,  0.3185,  1.2699],\n",
       "               [ 1.2720,  0.6516, -2.4516],\n",
       "               [ 1.1334,  0.3185,  1.2699],\n",
       "               [ 1.2720,  0.6516, -2.4516],\n",
       "               [ 1.1334,  0.3185,  1.2699],\n",
       "               [ 1.2720,  0.6516, -2.4516],\n",
       "               [ 1.1334,  0.3185,  1.2699],\n",
       "               [ 1.2720,  0.6516, -2.4516],\n",
       "               [ 1.1334,  0.3185,  1.2699]]),\n",
       ")"
      ]
     },
     "execution_count": 27,
     "metadata": {},
     "output_type": "execute_result"
    }
   ],
   "source": [
    "Batch.cat(batches)"
   ]
  },
  {
   "cell_type": "code",
   "execution_count": 28,
   "id": "18dfb045",
   "metadata": {
    "execution": {
     "iopub.execute_input": "2023-02-27T09:39:34.870143Z",
     "iopub.status.busy": "2023-02-27T09:39:34.869804Z",
     "iopub.status.idle": "2023-02-27T09:39:46.599385Z",
     "shell.execute_reply": "2023-02-27T09:39:46.598642Z"
    }
   },
   "outputs": [
    {
     "name": "stdout",
     "output_type": "stream",
     "text": [
      "144 µs ± 250 ns per loop (mean ± std. dev. of 7 runs, 10,000 loops each)\n"
     ]
    }
   ],
   "source": [
    "%timeit Batch.cat(batches)"
   ]
  },
  {
   "cell_type": "code",
   "execution_count": 29,
   "id": "c6688e51",
   "metadata": {
    "execution": {
     "iopub.execute_input": "2023-02-27T09:39:46.602520Z",
     "iopub.status.busy": "2023-02-27T09:39:46.602044Z",
     "iopub.status.idle": "2023-02-27T09:39:49.132730Z",
     "shell.execute_reply": "2023-02-27T09:39:49.132177Z"
    }
   },
   "outputs": [
    {
     "name": "stdout",
     "output_type": "stream",
     "text": [
      "311 µs ± 1.04 µs per loop (mean ± std. dev. of 7 runs, 1,000 loops each)\n"
     ]
    }
   ],
   "source": [
    "batch = Batch({\n",
    "    'obs': torch.randn(8, 4, 84, 84),\n",
    "    'action': torch.randint(0, 6, size=(8, 1,)),\n",
    "    'reward': torch.rand(8, 1)}\n",
    ")\n",
    "\n",
    "%timeit list(Batch.split(batch, 1, shuffle=False, merge_last=True))"
   ]
  },
  {
   "cell_type": "code",
   "execution_count": null,
   "id": "2539fbd9",
   "metadata": {},
   "outputs": [],
   "source": []
  }
 ],
 "metadata": {
  "kernelspec": {
   "display_name": "Python 3 (ipykernel)",
   "language": "python",
   "name": "python3"
  },
  "language_info": {
   "codemirror_mode": {
    "name": "ipython",
    "version": 3
   },
   "file_extension": ".py",
   "mimetype": "text/x-python",
   "name": "python",
   "nbconvert_exporter": "python",
   "pygments_lexer": "ipython3",
   "version": "3.8.16"
  }
 },
 "nbformat": 4,
 "nbformat_minor": 5
}
