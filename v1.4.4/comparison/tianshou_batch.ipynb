{
 "cells": [
  {
   "cell_type": "markdown",
   "id": "9d39d946",
   "metadata": {},
   "source": [
    "# Comparison Between TreeValue and Tianshou Batch"
   ]
  },
  {
   "cell_type": "markdown",
   "id": "3c6db2d4",
   "metadata": {},
   "source": [
    "In this section, we will take a look at the feature and performance of the [Tianshou Batch](https://github.com/thu-ml/tianshou) library, which is developed by Tsinghua Machine Learning Group."
   ]
  },
  {
   "cell_type": "markdown",
   "id": "069361b0",
   "metadata": {},
   "source": [
    "Before starting the comparison, let us define some thing."
   ]
  },
  {
   "cell_type": "code",
   "execution_count": 1,
   "id": "06fc8d26",
   "metadata": {
    "execution": {
     "iopub.execute_input": "2023-02-27T12:15:24.505856Z",
     "iopub.status.busy": "2023-02-27T12:15:24.505650Z",
     "iopub.status.idle": "2023-02-27T12:15:25.399721Z",
     "shell.execute_reply": "2023-02-27T12:15:25.399066Z"
    }
   },
   "outputs": [
    {
     "name": "stderr",
     "output_type": "stream",
     "text": [
      "/opt/hostedtoolcache/Python/3.8.16/x64/lib/python3.8/site-packages/tqdm/auto.py:22: TqdmWarning: IProgress not found. Please update jupyter and ipywidgets. See https://ipywidgets.readthedocs.io/en/stable/user_install.html\n",
      "  from .autonotebook import tqdm as notebook_tqdm\n"
     ]
    }
   ],
   "source": [
    "import torch \n",
    "\n",
    "_TREE_DATA_1 = {'a': 1, 'b': 2, 'x': {'c': 3, 'd': 4}}\n",
    "_TREE_DATA_2 = {\n",
    "    'a': torch.randn(2, 3), \n",
    "    'x': {\n",
    "        'c': torch.randn(3, 4)\n",
    "    },\n",
    "}\n",
    "_TREE_DATA_3 = {\n",
    "    'obs': torch.randn(4, 84, 84),\n",
    "    'action': torch.randint(0, 6, size=(1,)),\n",
    "    'reward': torch.rand(1),\n",
    "}"
   ]
  },
  {
   "cell_type": "markdown",
   "id": "83461b25",
   "metadata": {},
   "source": [
    "## Read and Write Operation"
   ]
  },
  {
   "cell_type": "markdown",
   "id": "067b3f73",
   "metadata": {},
   "source": [
    "Reading and writing are the two most common operations in the tree data structure based on the data model (TreeValue and Tianshou Batch both belong to this type), so this section will compare the reading and writing performance of these two libraries."
   ]
  },
  {
   "cell_type": "markdown",
   "id": "5d09a5b7",
   "metadata": {},
   "source": [
    "### TreeValue's Get and Set"
   ]
  },
  {
   "cell_type": "code",
   "execution_count": 2,
   "id": "9519c4bb",
   "metadata": {
    "execution": {
     "iopub.execute_input": "2023-02-27T12:15:25.403109Z",
     "iopub.status.busy": "2023-02-27T12:15:25.402632Z",
     "iopub.status.idle": "2023-02-27T12:15:25.677521Z",
     "shell.execute_reply": "2023-02-27T12:15:25.676519Z"
    }
   },
   "outputs": [],
   "source": [
    "from treevalue import FastTreeValue\n",
    "\n",
    "t = FastTreeValue(_TREE_DATA_2)"
   ]
  },
  {
   "cell_type": "code",
   "execution_count": 3,
   "id": "11c37677",
   "metadata": {
    "execution": {
     "iopub.execute_input": "2023-02-27T12:15:25.680682Z",
     "iopub.status.busy": "2023-02-27T12:15:25.680095Z",
     "iopub.status.idle": "2023-02-27T12:15:25.689419Z",
     "shell.execute_reply": "2023-02-27T12:15:25.688819Z"
    }
   },
   "outputs": [
    {
     "data": {
      "text/plain": [
       "<FastTreeValue 0x7f5c6cd62cd0>\n",
       "├── 'a' --> tensor([[-2.5674, -0.7385,  0.9280],\n",
       "│                   [ 0.7477,  0.9393,  0.4323]])\n",
       "└── 'x' --> <FastTreeValue 0x7f5c6cd62ca0>\n",
       "    └── 'c' --> tensor([[-1.0317,  1.6372,  2.3600, -0.6968],\n",
       "                        [-0.4756,  0.5890, -0.8248,  0.2028],\n",
       "                        [-0.7974,  0.8075, -0.0083, -0.5645]])"
      ]
     },
     "execution_count": 3,
     "metadata": {},
     "output_type": "execute_result"
    }
   ],
   "source": [
    "t"
   ]
  },
  {
   "cell_type": "code",
   "execution_count": 4,
   "id": "fd70b0b9",
   "metadata": {
    "execution": {
     "iopub.execute_input": "2023-02-27T12:15:25.691874Z",
     "iopub.status.busy": "2023-02-27T12:15:25.691546Z",
     "iopub.status.idle": "2023-02-27T12:15:25.696494Z",
     "shell.execute_reply": "2023-02-27T12:15:25.695862Z"
    }
   },
   "outputs": [
    {
     "data": {
      "text/plain": [
       "tensor([[-2.5674, -0.7385,  0.9280],\n",
       "        [ 0.7477,  0.9393,  0.4323]])"
      ]
     },
     "execution_count": 4,
     "metadata": {},
     "output_type": "execute_result"
    }
   ],
   "source": [
    "t.a"
   ]
  },
  {
   "cell_type": "code",
   "execution_count": 5,
   "id": "c18197bd",
   "metadata": {
    "execution": {
     "iopub.execute_input": "2023-02-27T12:15:25.699084Z",
     "iopub.status.busy": "2023-02-27T12:15:25.698753Z",
     "iopub.status.idle": "2023-02-27T12:15:30.701402Z",
     "shell.execute_reply": "2023-02-27T12:15:30.700644Z"
    }
   },
   "outputs": [
    {
     "name": "stdout",
     "output_type": "stream",
     "text": [
      "61.1 ns ± 0.0747 ns per loop (mean ± std. dev. of 7 runs, 10,000,000 loops each)\n"
     ]
    }
   ],
   "source": [
    "%timeit t.a"
   ]
  },
  {
   "cell_type": "code",
   "execution_count": 6,
   "id": "bd52f867",
   "metadata": {
    "execution": {
     "iopub.execute_input": "2023-02-27T12:15:30.704145Z",
     "iopub.status.busy": "2023-02-27T12:15:30.703803Z",
     "iopub.status.idle": "2023-02-27T12:15:30.710298Z",
     "shell.execute_reply": "2023-02-27T12:15:30.709704Z"
    }
   },
   "outputs": [
    {
     "data": {
      "text/plain": [
       "<FastTreeValue 0x7f5c6cd62cd0>\n",
       "├── 'a' --> tensor([[ 2.1547,  2.3485,  1.9156],\n",
       "│                   [ 0.3708,  0.0410, -1.2556]])\n",
       "└── 'x' --> <FastTreeValue 0x7f5c6cd62ca0>\n",
       "    └── 'c' --> tensor([[-1.0317,  1.6372,  2.3600, -0.6968],\n",
       "                        [-0.4756,  0.5890, -0.8248,  0.2028],\n",
       "                        [-0.7974,  0.8075, -0.0083, -0.5645]])"
      ]
     },
     "execution_count": 6,
     "metadata": {},
     "output_type": "execute_result"
    }
   ],
   "source": [
    "new_value = torch.randn(2, 3)\n",
    "t.a = new_value\n",
    "\n",
    "t"
   ]
  },
  {
   "cell_type": "code",
   "execution_count": 7,
   "id": "bbe04d1c",
   "metadata": {
    "execution": {
     "iopub.execute_input": "2023-02-27T12:15:30.712621Z",
     "iopub.status.busy": "2023-02-27T12:15:30.712289Z",
     "iopub.status.idle": "2023-02-27T12:15:35.702209Z",
     "shell.execute_reply": "2023-02-27T12:15:35.701441Z"
    }
   },
   "outputs": [
    {
     "name": "stdout",
     "output_type": "stream",
     "text": [
      "61.3 ns ± 0.0402 ns per loop (mean ± std. dev. of 7 runs, 10,000,000 loops each)\n"
     ]
    }
   ],
   "source": [
    "%timeit t.a = new_value"
   ]
  },
  {
   "cell_type": "markdown",
   "id": "48c49731",
   "metadata": {},
   "source": [
    "### Tianshou Batch's Get and Set"
   ]
  },
  {
   "cell_type": "code",
   "execution_count": 8,
   "id": "f1bb14c1",
   "metadata": {
    "execution": {
     "iopub.execute_input": "2023-02-27T12:15:35.704946Z",
     "iopub.status.busy": "2023-02-27T12:15:35.704593Z",
     "iopub.status.idle": "2023-02-27T12:15:36.025533Z",
     "shell.execute_reply": "2023-02-27T12:15:36.024373Z"
    }
   },
   "outputs": [],
   "source": [
    "from tianshou.data import Batch\n",
    "\n",
    "b = Batch(**_TREE_DATA_2)"
   ]
  },
  {
   "cell_type": "code",
   "execution_count": 9,
   "id": "cb0777c3",
   "metadata": {
    "execution": {
     "iopub.execute_input": "2023-02-27T12:15:36.028683Z",
     "iopub.status.busy": "2023-02-27T12:15:36.028170Z",
     "iopub.status.idle": "2023-02-27T12:15:36.033494Z",
     "shell.execute_reply": "2023-02-27T12:15:36.032853Z"
    }
   },
   "outputs": [
    {
     "data": {
      "text/plain": [
       "Batch(\n",
       "    a: tensor([[-2.5674, -0.7385,  0.9280],\n",
       "               [ 0.7477,  0.9393,  0.4323]]),\n",
       "    x: Batch(\n",
       "           c: tensor([[-1.0317,  1.6372,  2.3600, -0.6968],\n",
       "                      [-0.4756,  0.5890, -0.8248,  0.2028],\n",
       "                      [-0.7974,  0.8075, -0.0083, -0.5645]]),\n",
       "       ),\n",
       ")"
      ]
     },
     "execution_count": 9,
     "metadata": {},
     "output_type": "execute_result"
    }
   ],
   "source": [
    "b"
   ]
  },
  {
   "cell_type": "code",
   "execution_count": 10,
   "id": "43ef8ea3",
   "metadata": {
    "execution": {
     "iopub.execute_input": "2023-02-27T12:15:36.036357Z",
     "iopub.status.busy": "2023-02-27T12:15:36.035792Z",
     "iopub.status.idle": "2023-02-27T12:15:36.040381Z",
     "shell.execute_reply": "2023-02-27T12:15:36.039781Z"
    }
   },
   "outputs": [
    {
     "data": {
      "text/plain": [
       "tensor([[-2.5674, -0.7385,  0.9280],\n",
       "        [ 0.7477,  0.9393,  0.4323]])"
      ]
     },
     "execution_count": 10,
     "metadata": {},
     "output_type": "execute_result"
    }
   ],
   "source": [
    "b.a"
   ]
  },
  {
   "cell_type": "code",
   "execution_count": 11,
   "id": "b785ab72",
   "metadata": {
    "execution": {
     "iopub.execute_input": "2023-02-27T12:15:36.042743Z",
     "iopub.status.busy": "2023-02-27T12:15:36.042421Z",
     "iopub.status.idle": "2023-02-27T12:15:40.670292Z",
     "shell.execute_reply": "2023-02-27T12:15:40.669159Z"
    }
   },
   "outputs": [
    {
     "name": "stdout",
     "output_type": "stream",
     "text": [
      "56.7 ns ± 0.0482 ns per loop (mean ± std. dev. of 7 runs, 10,000,000 loops each)\n"
     ]
    }
   ],
   "source": [
    "%timeit b.a"
   ]
  },
  {
   "cell_type": "code",
   "execution_count": 12,
   "id": "ad54dc69",
   "metadata": {
    "execution": {
     "iopub.execute_input": "2023-02-27T12:15:40.673083Z",
     "iopub.status.busy": "2023-02-27T12:15:40.672539Z",
     "iopub.status.idle": "2023-02-27T12:15:40.679631Z",
     "shell.execute_reply": "2023-02-27T12:15:40.678335Z"
    }
   },
   "outputs": [
    {
     "data": {
      "text/plain": [
       "Batch(\n",
       "    a: tensor([[-0.2198, -1.1417, -1.4312],\n",
       "               [ 0.7967,  0.2565,  1.1930]]),\n",
       "    x: Batch(\n",
       "           c: tensor([[-1.0317,  1.6372,  2.3600, -0.6968],\n",
       "                      [-0.4756,  0.5890, -0.8248,  0.2028],\n",
       "                      [-0.7974,  0.8075, -0.0083, -0.5645]]),\n",
       "       ),\n",
       ")"
      ]
     },
     "execution_count": 12,
     "metadata": {},
     "output_type": "execute_result"
    }
   ],
   "source": [
    "new_value = torch.randn(2, 3)\n",
    "b.a = new_value\n",
    "\n",
    "b"
   ]
  },
  {
   "cell_type": "code",
   "execution_count": 13,
   "id": "29b1d0bf",
   "metadata": {
    "execution": {
     "iopub.execute_input": "2023-02-27T12:15:40.681982Z",
     "iopub.status.busy": "2023-02-27T12:15:40.681651Z",
     "iopub.status.idle": "2023-02-27T12:15:44.592741Z",
     "shell.execute_reply": "2023-02-27T12:15:44.592059Z"
    }
   },
   "outputs": [
    {
     "name": "stdout",
     "output_type": "stream",
     "text": [
      "481 ns ± 0.0296 ns per loop (mean ± std. dev. of 7 runs, 1,000,000 loops each)\n"
     ]
    }
   ],
   "source": [
    "%timeit b.a = new_value"
   ]
  },
  {
   "cell_type": "markdown",
   "id": "b61ad1d0",
   "metadata": {},
   "source": [
    "## Initialization"
   ]
  },
  {
   "cell_type": "markdown",
   "id": "d70f0d54",
   "metadata": {},
   "source": [
    "### TreeValue's Initialization"
   ]
  },
  {
   "cell_type": "code",
   "execution_count": 14,
   "id": "d32a679b",
   "metadata": {
    "execution": {
     "iopub.execute_input": "2023-02-27T12:15:44.595848Z",
     "iopub.status.busy": "2023-02-27T12:15:44.595493Z",
     "iopub.status.idle": "2023-02-27T12:15:51.316030Z",
     "shell.execute_reply": "2023-02-27T12:15:51.315312Z"
    }
   },
   "outputs": [
    {
     "name": "stdout",
     "output_type": "stream",
     "text": [
      "828 ns ± 0.249 ns per loop (mean ± std. dev. of 7 runs, 1,000,000 loops each)\n"
     ]
    }
   ],
   "source": [
    "%timeit FastTreeValue(_TREE_DATA_1)"
   ]
  },
  {
   "cell_type": "markdown",
   "id": "24f3707b",
   "metadata": {},
   "source": [
    "### Tianshou Batch's Initialization"
   ]
  },
  {
   "cell_type": "code",
   "execution_count": 15,
   "id": "ac3958df",
   "metadata": {
    "execution": {
     "iopub.execute_input": "2023-02-27T12:15:51.319242Z",
     "iopub.status.busy": "2023-02-27T12:15:51.318641Z",
     "iopub.status.idle": "2023-02-27T12:16:00.565092Z",
     "shell.execute_reply": "2023-02-27T12:16:00.564135Z"
    }
   },
   "outputs": [
    {
     "name": "stdout",
     "output_type": "stream",
     "text": [
      "11.4 µs ± 22.7 ns per loop (mean ± std. dev. of 7 runs, 100,000 loops each)\n"
     ]
    }
   ],
   "source": [
    "%timeit Batch(**_TREE_DATA_1)"
   ]
  },
  {
   "cell_type": "markdown",
   "id": "1ab82e2d",
   "metadata": {},
   "source": [
    "## Deep Copy Operation"
   ]
  },
  {
   "cell_type": "code",
   "execution_count": 16,
   "id": "210a9442",
   "metadata": {
    "execution": {
     "iopub.execute_input": "2023-02-27T12:16:00.567833Z",
     "iopub.status.busy": "2023-02-27T12:16:00.567601Z",
     "iopub.status.idle": "2023-02-27T12:16:00.571249Z",
     "shell.execute_reply": "2023-02-27T12:16:00.570657Z"
    }
   },
   "outputs": [],
   "source": [
    "import copy"
   ]
  },
  {
   "cell_type": "markdown",
   "id": "5a736274",
   "metadata": {},
   "source": [
    "### Deep Copy of TreeValue"
   ]
  },
  {
   "cell_type": "code",
   "execution_count": 17,
   "id": "f9bcadd6",
   "metadata": {
    "execution": {
     "iopub.execute_input": "2023-02-27T12:16:00.573746Z",
     "iopub.status.busy": "2023-02-27T12:16:00.573529Z",
     "iopub.status.idle": "2023-02-27T12:16:11.723879Z",
     "shell.execute_reply": "2023-02-27T12:16:11.723288Z"
    }
   },
   "outputs": [
    {
     "name": "stdout",
     "output_type": "stream",
     "text": [
      "138 µs ± 1.53 µs per loop (mean ± std. dev. of 7 runs, 10,000 loops each)\n"
     ]
    }
   ],
   "source": [
    "t3 = FastTreeValue(_TREE_DATA_3)\n",
    "%timeit copy.deepcopy(t3)"
   ]
  },
  {
   "cell_type": "markdown",
   "id": "bf8be7ea",
   "metadata": {},
   "source": [
    "### Deep Copy of Tianshou Batch"
   ]
  },
  {
   "cell_type": "code",
   "execution_count": 18,
   "id": "91998e6f",
   "metadata": {
    "execution": {
     "iopub.execute_input": "2023-02-27T12:16:11.727018Z",
     "iopub.status.busy": "2023-02-27T12:16:11.726521Z",
     "iopub.status.idle": "2023-02-27T12:16:23.060830Z",
     "shell.execute_reply": "2023-02-27T12:16:23.060255Z"
    }
   },
   "outputs": [
    {
     "name": "stdout",
     "output_type": "stream",
     "text": [
      "140 µs ± 403 ns per loop (mean ± std. dev. of 7 runs, 10,000 loops each)\n"
     ]
    }
   ],
   "source": [
    "b3 = Batch(**_TREE_DATA_3)\n",
    "%timeit copy.deepcopy(b3)"
   ]
  },
  {
   "cell_type": "markdown",
   "id": "223162fb",
   "metadata": {},
   "source": [
    "## Stack, Concat and Split Operation"
   ]
  },
  {
   "cell_type": "markdown",
   "id": "85fa4a73",
   "metadata": {},
   "source": [
    "### Performance of TreeValue"
   ]
  },
  {
   "cell_type": "code",
   "execution_count": 19,
   "id": "a0c2b697",
   "metadata": {
    "execution": {
     "iopub.execute_input": "2023-02-27T12:16:23.064230Z",
     "iopub.status.busy": "2023-02-27T12:16:23.063747Z",
     "iopub.status.idle": "2023-02-27T12:16:23.068051Z",
     "shell.execute_reply": "2023-02-27T12:16:23.067521Z"
    }
   },
   "outputs": [],
   "source": [
    "trees = [FastTreeValue(_TREE_DATA_2) for _ in range(8)]"
   ]
  },
  {
   "cell_type": "code",
   "execution_count": 20,
   "id": "017ea5a5",
   "metadata": {
    "execution": {
     "iopub.execute_input": "2023-02-27T12:16:23.071559Z",
     "iopub.status.busy": "2023-02-27T12:16:23.070550Z",
     "iopub.status.idle": "2023-02-27T12:16:23.079267Z",
     "shell.execute_reply": "2023-02-27T12:16:23.078203Z"
    }
   },
   "outputs": [
    {
     "data": {
      "text/plain": [
       "<FastTreeValue 0x7f5bb5067820>\n",
       "├── 'a' --> tensor([[[-2.5674, -0.7385,  0.9280],\n",
       "│                    [ 0.7477,  0.9393,  0.4323]],\n",
       "│           \n",
       "│                   [[-2.5674, -0.7385,  0.9280],\n",
       "│                    [ 0.7477,  0.9393,  0.4323]],\n",
       "│           \n",
       "│                   [[-2.5674, -0.7385,  0.9280],\n",
       "│                    [ 0.7477,  0.9393,  0.4323]],\n",
       "│           \n",
       "│                   [[-2.5674, -0.7385,  0.9280],\n",
       "│                    [ 0.7477,  0.9393,  0.4323]],\n",
       "│           \n",
       "│                   [[-2.5674, -0.7385,  0.9280],\n",
       "│                    [ 0.7477,  0.9393,  0.4323]],\n",
       "│           \n",
       "│                   [[-2.5674, -0.7385,  0.9280],\n",
       "│                    [ 0.7477,  0.9393,  0.4323]],\n",
       "│           \n",
       "│                   [[-2.5674, -0.7385,  0.9280],\n",
       "│                    [ 0.7477,  0.9393,  0.4323]],\n",
       "│           \n",
       "│                   [[-2.5674, -0.7385,  0.9280],\n",
       "│                    [ 0.7477,  0.9393,  0.4323]]])\n",
       "└── 'x' --> <FastTreeValue 0x7f5bb5067af0>\n",
       "    └── 'c' --> tensor([[[-1.0317,  1.6372,  2.3600, -0.6968],\n",
       "                         [-0.4756,  0.5890, -0.8248,  0.2028],\n",
       "                         [-0.7974,  0.8075, -0.0083, -0.5645]],\n",
       "                \n",
       "                        [[-1.0317,  1.6372,  2.3600, -0.6968],\n",
       "                         [-0.4756,  0.5890, -0.8248,  0.2028],\n",
       "                         [-0.7974,  0.8075, -0.0083, -0.5645]],\n",
       "                \n",
       "                        [[-1.0317,  1.6372,  2.3600, -0.6968],\n",
       "                         [-0.4756,  0.5890, -0.8248,  0.2028],\n",
       "                         [-0.7974,  0.8075, -0.0083, -0.5645]],\n",
       "                \n",
       "                        [[-1.0317,  1.6372,  2.3600, -0.6968],\n",
       "                         [-0.4756,  0.5890, -0.8248,  0.2028],\n",
       "                         [-0.7974,  0.8075, -0.0083, -0.5645]],\n",
       "                \n",
       "                        [[-1.0317,  1.6372,  2.3600, -0.6968],\n",
       "                         [-0.4756,  0.5890, -0.8248,  0.2028],\n",
       "                         [-0.7974,  0.8075, -0.0083, -0.5645]],\n",
       "                \n",
       "                        [[-1.0317,  1.6372,  2.3600, -0.6968],\n",
       "                         [-0.4756,  0.5890, -0.8248,  0.2028],\n",
       "                         [-0.7974,  0.8075, -0.0083, -0.5645]],\n",
       "                \n",
       "                        [[-1.0317,  1.6372,  2.3600, -0.6968],\n",
       "                         [-0.4756,  0.5890, -0.8248,  0.2028],\n",
       "                         [-0.7974,  0.8075, -0.0083, -0.5645]],\n",
       "                \n",
       "                        [[-1.0317,  1.6372,  2.3600, -0.6968],\n",
       "                         [-0.4756,  0.5890, -0.8248,  0.2028],\n",
       "                         [-0.7974,  0.8075, -0.0083, -0.5645]]])"
      ]
     },
     "execution_count": 20,
     "metadata": {},
     "output_type": "execute_result"
    }
   ],
   "source": [
    "t_stack = FastTreeValue.func(subside=True)(torch.stack)\n",
    "\n",
    "t_stack(trees)"
   ]
  },
  {
   "cell_type": "code",
   "execution_count": 21,
   "id": "f8b3f415",
   "metadata": {
    "execution": {
     "iopub.execute_input": "2023-02-27T12:16:23.081630Z",
     "iopub.status.busy": "2023-02-27T12:16:23.081296Z",
     "iopub.status.idle": "2023-02-27T12:16:25.710998Z",
     "shell.execute_reply": "2023-02-27T12:16:25.710330Z"
    }
   },
   "outputs": [
    {
     "name": "stdout",
     "output_type": "stream",
     "text": [
      "32.3 µs ± 158 ns per loop (mean ± std. dev. of 7 runs, 10,000 loops each)\n"
     ]
    }
   ],
   "source": [
    "%timeit t_stack(trees)"
   ]
  },
  {
   "cell_type": "code",
   "execution_count": 22,
   "id": "94b56771",
   "metadata": {
    "execution": {
     "iopub.execute_input": "2023-02-27T12:16:25.713961Z",
     "iopub.status.busy": "2023-02-27T12:16:25.713612Z",
     "iopub.status.idle": "2023-02-27T12:16:25.721398Z",
     "shell.execute_reply": "2023-02-27T12:16:25.720806Z"
    }
   },
   "outputs": [
    {
     "data": {
      "text/plain": [
       "<FastTreeValue 0x7f5c6cdbae80>\n",
       "├── 'a' --> tensor([[-2.5674, -0.7385,  0.9280],\n",
       "│                   [ 0.7477,  0.9393,  0.4323],\n",
       "│                   [-2.5674, -0.7385,  0.9280],\n",
       "│                   [ 0.7477,  0.9393,  0.4323],\n",
       "│                   [-2.5674, -0.7385,  0.9280],\n",
       "│                   [ 0.7477,  0.9393,  0.4323],\n",
       "│                   [-2.5674, -0.7385,  0.9280],\n",
       "│                   [ 0.7477,  0.9393,  0.4323],\n",
       "│                   [-2.5674, -0.7385,  0.9280],\n",
       "│                   [ 0.7477,  0.9393,  0.4323],\n",
       "│                   [-2.5674, -0.7385,  0.9280],\n",
       "│                   [ 0.7477,  0.9393,  0.4323],\n",
       "│                   [-2.5674, -0.7385,  0.9280],\n",
       "│                   [ 0.7477,  0.9393,  0.4323],\n",
       "│                   [-2.5674, -0.7385,  0.9280],\n",
       "│                   [ 0.7477,  0.9393,  0.4323]])\n",
       "└── 'x' --> <FastTreeValue 0x7f5c6cdbadc0>\n",
       "    └── 'c' --> tensor([[-1.0317,  1.6372,  2.3600, -0.6968],\n",
       "                        [-0.4756,  0.5890, -0.8248,  0.2028],\n",
       "                        [-0.7974,  0.8075, -0.0083, -0.5645],\n",
       "                        [-1.0317,  1.6372,  2.3600, -0.6968],\n",
       "                        [-0.4756,  0.5890, -0.8248,  0.2028],\n",
       "                        [-0.7974,  0.8075, -0.0083, -0.5645],\n",
       "                        [-1.0317,  1.6372,  2.3600, -0.6968],\n",
       "                        [-0.4756,  0.5890, -0.8248,  0.2028],\n",
       "                        [-0.7974,  0.8075, -0.0083, -0.5645],\n",
       "                        [-1.0317,  1.6372,  2.3600, -0.6968],\n",
       "                        [-0.4756,  0.5890, -0.8248,  0.2028],\n",
       "                        [-0.7974,  0.8075, -0.0083, -0.5645],\n",
       "                        [-1.0317,  1.6372,  2.3600, -0.6968],\n",
       "                        [-0.4756,  0.5890, -0.8248,  0.2028],\n",
       "                        [-0.7974,  0.8075, -0.0083, -0.5645],\n",
       "                        [-1.0317,  1.6372,  2.3600, -0.6968],\n",
       "                        [-0.4756,  0.5890, -0.8248,  0.2028],\n",
       "                        [-0.7974,  0.8075, -0.0083, -0.5645],\n",
       "                        [-1.0317,  1.6372,  2.3600, -0.6968],\n",
       "                        [-0.4756,  0.5890, -0.8248,  0.2028],\n",
       "                        [-0.7974,  0.8075, -0.0083, -0.5645],\n",
       "                        [-1.0317,  1.6372,  2.3600, -0.6968],\n",
       "                        [-0.4756,  0.5890, -0.8248,  0.2028],\n",
       "                        [-0.7974,  0.8075, -0.0083, -0.5645]])"
      ]
     },
     "execution_count": 22,
     "metadata": {},
     "output_type": "execute_result"
    }
   ],
   "source": [
    "t_cat = FastTreeValue.func(subside=True)(torch.cat)\n",
    "\n",
    "t_cat(trees)"
   ]
  },
  {
   "cell_type": "code",
   "execution_count": 23,
   "id": "5e9c06a6",
   "metadata": {
    "execution": {
     "iopub.execute_input": "2023-02-27T12:16:25.723955Z",
     "iopub.status.busy": "2023-02-27T12:16:25.723637Z",
     "iopub.status.idle": "2023-02-27T12:16:28.222922Z",
     "shell.execute_reply": "2023-02-27T12:16:28.221670Z"
    }
   },
   "outputs": [
    {
     "name": "stdout",
     "output_type": "stream",
     "text": [
      "30.7 µs ± 126 ns per loop (mean ± std. dev. of 7 runs, 10,000 loops each)\n"
     ]
    }
   ],
   "source": [
    "%timeit t_cat(trees)"
   ]
  },
  {
   "cell_type": "code",
   "execution_count": 24,
   "id": "a3ab5c8f",
   "metadata": {
    "execution": {
     "iopub.execute_input": "2023-02-27T12:16:28.225712Z",
     "iopub.status.busy": "2023-02-27T12:16:28.225367Z",
     "iopub.status.idle": "2023-02-27T12:16:33.137859Z",
     "shell.execute_reply": "2023-02-27T12:16:33.136825Z"
    }
   },
   "outputs": [
    {
     "name": "stdout",
     "output_type": "stream",
     "text": [
      "60.4 µs ± 351 ns per loop (mean ± std. dev. of 7 runs, 10,000 loops each)\n"
     ]
    }
   ],
   "source": [
    "t_split = FastTreeValue.func(rise=True)(torch.split)\n",
    "tree = FastTreeValue({\n",
    "    'obs': torch.randn(8, 4, 84, 84),\n",
    "    'action': torch.randint(0, 6, size=(8, 1,)),\n",
    "    'reward': torch.rand(8, 1),\n",
    "})\n",
    "\n",
    "%timeit t_split(tree, 1)"
   ]
  },
  {
   "cell_type": "markdown",
   "id": "31c3ec0b",
   "metadata": {},
   "source": [
    "### Performance of Tianshou Batch"
   ]
  },
  {
   "cell_type": "code",
   "execution_count": 25,
   "id": "9ead828a",
   "metadata": {
    "execution": {
     "iopub.execute_input": "2023-02-27T12:16:33.140710Z",
     "iopub.status.busy": "2023-02-27T12:16:33.140358Z",
     "iopub.status.idle": "2023-02-27T12:16:33.148165Z",
     "shell.execute_reply": "2023-02-27T12:16:33.147574Z"
    }
   },
   "outputs": [
    {
     "data": {
      "text/plain": [
       "Batch(\n",
       "    x: Batch(\n",
       "           c: tensor([[[-1.0317,  1.6372,  2.3600, -0.6968],\n",
       "                       [-0.4756,  0.5890, -0.8248,  0.2028],\n",
       "                       [-0.7974,  0.8075, -0.0083, -0.5645]],\n",
       "              \n",
       "                      [[-1.0317,  1.6372,  2.3600, -0.6968],\n",
       "                       [-0.4756,  0.5890, -0.8248,  0.2028],\n",
       "                       [-0.7974,  0.8075, -0.0083, -0.5645]],\n",
       "              \n",
       "                      [[-1.0317,  1.6372,  2.3600, -0.6968],\n",
       "                       [-0.4756,  0.5890, -0.8248,  0.2028],\n",
       "                       [-0.7974,  0.8075, -0.0083, -0.5645]],\n",
       "              \n",
       "                      [[-1.0317,  1.6372,  2.3600, -0.6968],\n",
       "                       [-0.4756,  0.5890, -0.8248,  0.2028],\n",
       "                       [-0.7974,  0.8075, -0.0083, -0.5645]],\n",
       "              \n",
       "                      [[-1.0317,  1.6372,  2.3600, -0.6968],\n",
       "                       [-0.4756,  0.5890, -0.8248,  0.2028],\n",
       "                       [-0.7974,  0.8075, -0.0083, -0.5645]],\n",
       "              \n",
       "                      [[-1.0317,  1.6372,  2.3600, -0.6968],\n",
       "                       [-0.4756,  0.5890, -0.8248,  0.2028],\n",
       "                       [-0.7974,  0.8075, -0.0083, -0.5645]],\n",
       "              \n",
       "                      [[-1.0317,  1.6372,  2.3600, -0.6968],\n",
       "                       [-0.4756,  0.5890, -0.8248,  0.2028],\n",
       "                       [-0.7974,  0.8075, -0.0083, -0.5645]],\n",
       "              \n",
       "                      [[-1.0317,  1.6372,  2.3600, -0.6968],\n",
       "                       [-0.4756,  0.5890, -0.8248,  0.2028],\n",
       "                       [-0.7974,  0.8075, -0.0083, -0.5645]]]),\n",
       "       ),\n",
       "    a: tensor([[[-2.5674, -0.7385,  0.9280],\n",
       "                [ 0.7477,  0.9393,  0.4323]],\n",
       "       \n",
       "               [[-2.5674, -0.7385,  0.9280],\n",
       "                [ 0.7477,  0.9393,  0.4323]],\n",
       "       \n",
       "               [[-2.5674, -0.7385,  0.9280],\n",
       "                [ 0.7477,  0.9393,  0.4323]],\n",
       "       \n",
       "               [[-2.5674, -0.7385,  0.9280],\n",
       "                [ 0.7477,  0.9393,  0.4323]],\n",
       "       \n",
       "               [[-2.5674, -0.7385,  0.9280],\n",
       "                [ 0.7477,  0.9393,  0.4323]],\n",
       "       \n",
       "               [[-2.5674, -0.7385,  0.9280],\n",
       "                [ 0.7477,  0.9393,  0.4323]],\n",
       "       \n",
       "               [[-2.5674, -0.7385,  0.9280],\n",
       "                [ 0.7477,  0.9393,  0.4323]],\n",
       "       \n",
       "               [[-2.5674, -0.7385,  0.9280],\n",
       "                [ 0.7477,  0.9393,  0.4323]]]),\n",
       ")"
      ]
     },
     "execution_count": 25,
     "metadata": {},
     "output_type": "execute_result"
    }
   ],
   "source": [
    "batches = [Batch(**_TREE_DATA_2) for _ in range(8)]\n",
    "\n",
    "Batch.stack(batches)"
   ]
  },
  {
   "cell_type": "code",
   "execution_count": 26,
   "id": "ec9037a3",
   "metadata": {
    "execution": {
     "iopub.execute_input": "2023-02-27T12:16:33.150547Z",
     "iopub.status.busy": "2023-02-27T12:16:33.150208Z",
     "iopub.status.idle": "2023-02-27T12:16:39.473495Z",
     "shell.execute_reply": "2023-02-27T12:16:39.472822Z"
    }
   },
   "outputs": [
    {
     "name": "stdout",
     "output_type": "stream",
     "text": [
      "77.8 µs ± 173 ns per loop (mean ± std. dev. of 7 runs, 10,000 loops each)\n"
     ]
    }
   ],
   "source": [
    "%timeit Batch.stack(batches)"
   ]
  },
  {
   "cell_type": "code",
   "execution_count": 27,
   "id": "cb8ab77e",
   "metadata": {
    "execution": {
     "iopub.execute_input": "2023-02-27T12:16:39.476554Z",
     "iopub.status.busy": "2023-02-27T12:16:39.476049Z",
     "iopub.status.idle": "2023-02-27T12:16:39.483468Z",
     "shell.execute_reply": "2023-02-27T12:16:39.482889Z"
    }
   },
   "outputs": [
    {
     "data": {
      "text/plain": [
       "Batch(\n",
       "    x: Batch(\n",
       "           c: tensor([[-1.0317,  1.6372,  2.3600, -0.6968],\n",
       "                      [-0.4756,  0.5890, -0.8248,  0.2028],\n",
       "                      [-0.7974,  0.8075, -0.0083, -0.5645],\n",
       "                      [-1.0317,  1.6372,  2.3600, -0.6968],\n",
       "                      [-0.4756,  0.5890, -0.8248,  0.2028],\n",
       "                      [-0.7974,  0.8075, -0.0083, -0.5645],\n",
       "                      [-1.0317,  1.6372,  2.3600, -0.6968],\n",
       "                      [-0.4756,  0.5890, -0.8248,  0.2028],\n",
       "                      [-0.7974,  0.8075, -0.0083, -0.5645],\n",
       "                      [-1.0317,  1.6372,  2.3600, -0.6968],\n",
       "                      [-0.4756,  0.5890, -0.8248,  0.2028],\n",
       "                      [-0.7974,  0.8075, -0.0083, -0.5645],\n",
       "                      [-1.0317,  1.6372,  2.3600, -0.6968],\n",
       "                      [-0.4756,  0.5890, -0.8248,  0.2028],\n",
       "                      [-0.7974,  0.8075, -0.0083, -0.5645],\n",
       "                      [-1.0317,  1.6372,  2.3600, -0.6968],\n",
       "                      [-0.4756,  0.5890, -0.8248,  0.2028],\n",
       "                      [-0.7974,  0.8075, -0.0083, -0.5645],\n",
       "                      [-1.0317,  1.6372,  2.3600, -0.6968],\n",
       "                      [-0.4756,  0.5890, -0.8248,  0.2028],\n",
       "                      [-0.7974,  0.8075, -0.0083, -0.5645],\n",
       "                      [-1.0317,  1.6372,  2.3600, -0.6968],\n",
       "                      [-0.4756,  0.5890, -0.8248,  0.2028],\n",
       "                      [-0.7974,  0.8075, -0.0083, -0.5645]]),\n",
       "       ),\n",
       "    a: tensor([[-2.5674, -0.7385,  0.9280],\n",
       "               [ 0.7477,  0.9393,  0.4323],\n",
       "               [-2.5674, -0.7385,  0.9280],\n",
       "               [ 0.7477,  0.9393,  0.4323],\n",
       "               [-2.5674, -0.7385,  0.9280],\n",
       "               [ 0.7477,  0.9393,  0.4323],\n",
       "               [-2.5674, -0.7385,  0.9280],\n",
       "               [ 0.7477,  0.9393,  0.4323],\n",
       "               [-2.5674, -0.7385,  0.9280],\n",
       "               [ 0.7477,  0.9393,  0.4323],\n",
       "               [-2.5674, -0.7385,  0.9280],\n",
       "               [ 0.7477,  0.9393,  0.4323],\n",
       "               [-2.5674, -0.7385,  0.9280],\n",
       "               [ 0.7477,  0.9393,  0.4323],\n",
       "               [-2.5674, -0.7385,  0.9280],\n",
       "               [ 0.7477,  0.9393,  0.4323]]),\n",
       ")"
      ]
     },
     "execution_count": 27,
     "metadata": {},
     "output_type": "execute_result"
    }
   ],
   "source": [
    "Batch.cat(batches)"
   ]
  },
  {
   "cell_type": "code",
   "execution_count": 28,
   "id": "18dfb045",
   "metadata": {
    "execution": {
     "iopub.execute_input": "2023-02-27T12:16:39.485783Z",
     "iopub.status.busy": "2023-02-27T12:16:39.485446Z",
     "iopub.status.idle": "2023-02-27T12:16:51.001590Z",
     "shell.execute_reply": "2023-02-27T12:16:51.000531Z"
    }
   },
   "outputs": [
    {
     "name": "stdout",
     "output_type": "stream",
     "text": [
      "142 µs ± 625 ns per loop (mean ± std. dev. of 7 runs, 10,000 loops each)\n"
     ]
    }
   ],
   "source": [
    "%timeit Batch.cat(batches)"
   ]
  },
  {
   "cell_type": "code",
   "execution_count": 29,
   "id": "c6688e51",
   "metadata": {
    "execution": {
     "iopub.execute_input": "2023-02-27T12:16:51.004692Z",
     "iopub.status.busy": "2023-02-27T12:16:51.004153Z",
     "iopub.status.idle": "2023-02-27T12:16:53.481987Z",
     "shell.execute_reply": "2023-02-27T12:16:53.481314Z"
    }
   },
   "outputs": [
    {
     "name": "stdout",
     "output_type": "stream",
     "text": [
      "304 µs ± 1.87 µs per loop (mean ± std. dev. of 7 runs, 1,000 loops each)\n"
     ]
    }
   ],
   "source": [
    "batch = Batch({\n",
    "    'obs': torch.randn(8, 4, 84, 84),\n",
    "    'action': torch.randint(0, 6, size=(8, 1,)),\n",
    "    'reward': torch.rand(8, 1)}\n",
    ")\n",
    "\n",
    "%timeit list(Batch.split(batch, 1, shuffle=False, merge_last=True))"
   ]
  },
  {
   "cell_type": "code",
   "execution_count": null,
   "id": "2539fbd9",
   "metadata": {},
   "outputs": [],
   "source": []
  }
 ],
 "metadata": {
  "kernelspec": {
   "display_name": "Python 3 (ipykernel)",
   "language": "python",
   "name": "python3"
  },
  "language_info": {
   "codemirror_mode": {
    "name": "ipython",
    "version": 3
   },
   "file_extension": ".py",
   "mimetype": "text/x-python",
   "name": "python",
   "nbconvert_exporter": "python",
   "pygments_lexer": "ipython3",
   "version": "3.8.16"
  }
 },
 "nbformat": 4,
 "nbformat_minor": 5
}
