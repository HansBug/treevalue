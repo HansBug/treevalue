{
 "cells": [
  {
   "cell_type": "markdown",
   "id": "9d39d946",
   "metadata": {},
   "source": [
    "# Comparison Between TreeValue and Tianshou Batch"
   ]
  },
  {
   "cell_type": "markdown",
   "id": "3c6db2d4",
   "metadata": {},
   "source": [
    "In this section, we will take a look at the feature and performance of the [Tianshou Batch](https://github.com/thu-ml/tianshou) library, which is developed by Tsinghua Machine Learning Group."
   ]
  },
  {
   "cell_type": "markdown",
   "id": "069361b0",
   "metadata": {},
   "source": [
    "Before starting the comparison, let us define some thing."
   ]
  },
  {
   "cell_type": "code",
   "execution_count": 1,
   "id": "06fc8d26",
   "metadata": {
    "execution": {
     "iopub.execute_input": "2023-02-24T08:18:42.756476Z",
     "iopub.status.busy": "2023-02-24T08:18:42.755913Z",
     "iopub.status.idle": "2023-02-24T08:18:43.708807Z",
     "shell.execute_reply": "2023-02-24T08:18:43.708105Z"
    }
   },
   "outputs": [
    {
     "name": "stderr",
     "output_type": "stream",
     "text": [
      "/opt/hostedtoolcache/Python/3.8.16/x64/lib/python3.8/site-packages/tqdm/auto.py:22: TqdmWarning: IProgress not found. Please update jupyter and ipywidgets. See https://ipywidgets.readthedocs.io/en/stable/user_install.html\n",
      "  from .autonotebook import tqdm as notebook_tqdm\n"
     ]
    }
   ],
   "source": [
    "import torch \n",
    "\n",
    "_TREE_DATA_1 = {'a': 1, 'b': 2, 'x': {'c': 3, 'd': 4}}\n",
    "_TREE_DATA_2 = {\n",
    "    'a': torch.randn(2, 3), \n",
    "    'x': {\n",
    "        'c': torch.randn(3, 4)\n",
    "    },\n",
    "}\n",
    "_TREE_DATA_3 = {\n",
    "    'obs': torch.randn(4, 84, 84),\n",
    "    'action': torch.randint(0, 6, size=(1,)),\n",
    "    'reward': torch.rand(1),\n",
    "}"
   ]
  },
  {
   "cell_type": "markdown",
   "id": "83461b25",
   "metadata": {},
   "source": [
    "## Read and Write Operation"
   ]
  },
  {
   "cell_type": "markdown",
   "id": "067b3f73",
   "metadata": {},
   "source": [
    "Reading and writing are the two most common operations in the tree data structure based on the data model (TreeValue and Tianshou Batch both belong to this type), so this section will compare the reading and writing performance of these two libraries."
   ]
  },
  {
   "cell_type": "markdown",
   "id": "5d09a5b7",
   "metadata": {},
   "source": [
    "### TreeValue's Get and Set"
   ]
  },
  {
   "cell_type": "code",
   "execution_count": 2,
   "id": "9519c4bb",
   "metadata": {
    "execution": {
     "iopub.execute_input": "2023-02-24T08:18:43.712264Z",
     "iopub.status.busy": "2023-02-24T08:18:43.711954Z",
     "iopub.status.idle": "2023-02-24T08:18:43.746188Z",
     "shell.execute_reply": "2023-02-24T08:18:43.745195Z"
    }
   },
   "outputs": [],
   "source": [
    "from treevalue import FastTreeValue\n",
    "\n",
    "t = FastTreeValue(_TREE_DATA_2)"
   ]
  },
  {
   "cell_type": "code",
   "execution_count": 3,
   "id": "11c37677",
   "metadata": {
    "execution": {
     "iopub.execute_input": "2023-02-24T08:18:43.749521Z",
     "iopub.status.busy": "2023-02-24T08:18:43.749258Z",
     "iopub.status.idle": "2023-02-24T08:18:43.759931Z",
     "shell.execute_reply": "2023-02-24T08:18:43.759330Z"
    }
   },
   "outputs": [
    {
     "data": {
      "text/plain": [
       "<FastTreeValue 0x7f80589a2970>\n",
       "├── 'a' --> tensor([[-0.2047,  1.9863, -1.2117],\n",
       "│                   [-1.0611, -0.5134, -0.5869]])\n",
       "└── 'x' --> <FastTreeValue 0x7f80589a2d00>\n",
       "    └── 'c' --> tensor([[ 0.9535, -0.5228,  0.4578, -0.3437],\n",
       "                        [-0.4735,  1.7184, -0.6564,  0.2577],\n",
       "                        [ 0.1180,  0.5349, -0.5621, -0.8449]])"
      ]
     },
     "execution_count": 3,
     "metadata": {},
     "output_type": "execute_result"
    }
   ],
   "source": [
    "t"
   ]
  },
  {
   "cell_type": "code",
   "execution_count": 4,
   "id": "fd70b0b9",
   "metadata": {
    "execution": {
     "iopub.execute_input": "2023-02-24T08:18:43.762446Z",
     "iopub.status.busy": "2023-02-24T08:18:43.762068Z",
     "iopub.status.idle": "2023-02-24T08:18:43.766897Z",
     "shell.execute_reply": "2023-02-24T08:18:43.766259Z"
    }
   },
   "outputs": [
    {
     "data": {
      "text/plain": [
       "tensor([[-0.2047,  1.9863, -1.2117],\n",
       "        [-1.0611, -0.5134, -0.5869]])"
      ]
     },
     "execution_count": 4,
     "metadata": {},
     "output_type": "execute_result"
    }
   ],
   "source": [
    "t.a"
   ]
  },
  {
   "cell_type": "code",
   "execution_count": 5,
   "id": "c18197bd",
   "metadata": {
    "execution": {
     "iopub.execute_input": "2023-02-24T08:18:43.769288Z",
     "iopub.status.busy": "2023-02-24T08:18:43.769041Z",
     "iopub.status.idle": "2023-02-24T08:18:48.792637Z",
     "shell.execute_reply": "2023-02-24T08:18:48.791837Z"
    }
   },
   "outputs": [
    {
     "name": "stdout",
     "output_type": "stream",
     "text": [
      "61.9 ns ± 0.0301 ns per loop (mean ± std. dev. of 7 runs, 10,000,000 loops each)\n"
     ]
    }
   ],
   "source": [
    "%timeit t.a"
   ]
  },
  {
   "cell_type": "code",
   "execution_count": 6,
   "id": "bd52f867",
   "metadata": {
    "execution": {
     "iopub.execute_input": "2023-02-24T08:18:48.795434Z",
     "iopub.status.busy": "2023-02-24T08:18:48.795186Z",
     "iopub.status.idle": "2023-02-24T08:18:48.802174Z",
     "shell.execute_reply": "2023-02-24T08:18:48.801556Z"
    }
   },
   "outputs": [
    {
     "data": {
      "text/plain": [
       "<FastTreeValue 0x7f80589a2970>\n",
       "├── 'a' --> tensor([[-1.4199, -0.8898,  1.1204],\n",
       "│                   [ 0.5714,  0.4129, -1.5237]])\n",
       "└── 'x' --> <FastTreeValue 0x7f80589a2d00>\n",
       "    └── 'c' --> tensor([[ 0.9535, -0.5228,  0.4578, -0.3437],\n",
       "                        [-0.4735,  1.7184, -0.6564,  0.2577],\n",
       "                        [ 0.1180,  0.5349, -0.5621, -0.8449]])"
      ]
     },
     "execution_count": 6,
     "metadata": {},
     "output_type": "execute_result"
    }
   ],
   "source": [
    "new_value = torch.randn(2, 3)\n",
    "t.a = new_value\n",
    "\n",
    "t"
   ]
  },
  {
   "cell_type": "code",
   "execution_count": 7,
   "id": "bbe04d1c",
   "metadata": {
    "execution": {
     "iopub.execute_input": "2023-02-24T08:18:48.805233Z",
     "iopub.status.busy": "2023-02-24T08:18:48.804824Z",
     "iopub.status.idle": "2023-02-24T08:18:53.968675Z",
     "shell.execute_reply": "2023-02-24T08:18:53.967933Z"
    }
   },
   "outputs": [
    {
     "name": "stdout",
     "output_type": "stream",
     "text": [
      "63.8 ns ± 0.0499 ns per loop (mean ± std. dev. of 7 runs, 10,000,000 loops each)\n"
     ]
    }
   ],
   "source": [
    "%timeit t.a = new_value"
   ]
  },
  {
   "cell_type": "markdown",
   "id": "48c49731",
   "metadata": {},
   "source": [
    "### Tianshou Batch's Get and Set"
   ]
  },
  {
   "cell_type": "code",
   "execution_count": 8,
   "id": "f1bb14c1",
   "metadata": {
    "execution": {
     "iopub.execute_input": "2023-02-24T08:18:53.971890Z",
     "iopub.status.busy": "2023-02-24T08:18:53.971499Z",
     "iopub.status.idle": "2023-02-24T08:18:54.322431Z",
     "shell.execute_reply": "2023-02-24T08:18:54.321645Z"
    }
   },
   "outputs": [],
   "source": [
    "from tianshou.data import Batch\n",
    "\n",
    "b = Batch(**_TREE_DATA_2)"
   ]
  },
  {
   "cell_type": "code",
   "execution_count": 9,
   "id": "cb0777c3",
   "metadata": {
    "execution": {
     "iopub.execute_input": "2023-02-24T08:18:54.325964Z",
     "iopub.status.busy": "2023-02-24T08:18:54.325262Z",
     "iopub.status.idle": "2023-02-24T08:18:54.331249Z",
     "shell.execute_reply": "2023-02-24T08:18:54.330727Z"
    }
   },
   "outputs": [
    {
     "data": {
      "text/plain": [
       "Batch(\n",
       "    a: tensor([[-0.2047,  1.9863, -1.2117],\n",
       "               [-1.0611, -0.5134, -0.5869]]),\n",
       "    x: Batch(\n",
       "           c: tensor([[ 0.9535, -0.5228,  0.4578, -0.3437],\n",
       "                      [-0.4735,  1.7184, -0.6564,  0.2577],\n",
       "                      [ 0.1180,  0.5349, -0.5621, -0.8449]]),\n",
       "       ),\n",
       ")"
      ]
     },
     "execution_count": 9,
     "metadata": {},
     "output_type": "execute_result"
    }
   ],
   "source": [
    "b"
   ]
  },
  {
   "cell_type": "code",
   "execution_count": 10,
   "id": "43ef8ea3",
   "metadata": {
    "execution": {
     "iopub.execute_input": "2023-02-24T08:18:54.336537Z",
     "iopub.status.busy": "2023-02-24T08:18:54.336050Z",
     "iopub.status.idle": "2023-02-24T08:18:54.341155Z",
     "shell.execute_reply": "2023-02-24T08:18:54.340458Z"
    }
   },
   "outputs": [
    {
     "data": {
      "text/plain": [
       "tensor([[-0.2047,  1.9863, -1.2117],\n",
       "        [-1.0611, -0.5134, -0.5869]])"
      ]
     },
     "execution_count": 10,
     "metadata": {},
     "output_type": "execute_result"
    }
   ],
   "source": [
    "b.a"
   ]
  },
  {
   "cell_type": "code",
   "execution_count": 11,
   "id": "b785ab72",
   "metadata": {
    "execution": {
     "iopub.execute_input": "2023-02-24T08:18:54.344386Z",
     "iopub.status.busy": "2023-02-24T08:18:54.343828Z",
     "iopub.status.idle": "2023-02-24T08:18:59.083496Z",
     "shell.execute_reply": "2023-02-24T08:18:59.082775Z"
    }
   },
   "outputs": [
    {
     "name": "stdout",
     "output_type": "stream",
     "text": [
      "58.3 ns ± 0.0215 ns per loop (mean ± std. dev. of 7 runs, 10,000,000 loops each)\n"
     ]
    }
   ],
   "source": [
    "%timeit b.a"
   ]
  },
  {
   "cell_type": "code",
   "execution_count": 12,
   "id": "ad54dc69",
   "metadata": {
    "execution": {
     "iopub.execute_input": "2023-02-24T08:18:59.086324Z",
     "iopub.status.busy": "2023-02-24T08:18:59.085919Z",
     "iopub.status.idle": "2023-02-24T08:18:59.092634Z",
     "shell.execute_reply": "2023-02-24T08:18:59.092024Z"
    }
   },
   "outputs": [
    {
     "data": {
      "text/plain": [
       "Batch(\n",
       "    a: tensor([[-0.8038, -0.3294, -1.2446],\n",
       "               [ 1.0708,  0.2104, -1.2126]]),\n",
       "    x: Batch(\n",
       "           c: tensor([[ 0.9535, -0.5228,  0.4578, -0.3437],\n",
       "                      [-0.4735,  1.7184, -0.6564,  0.2577],\n",
       "                      [ 0.1180,  0.5349, -0.5621, -0.8449]]),\n",
       "       ),\n",
       ")"
      ]
     },
     "execution_count": 12,
     "metadata": {},
     "output_type": "execute_result"
    }
   ],
   "source": [
    "new_value = torch.randn(2, 3)\n",
    "b.a = new_value\n",
    "\n",
    "b"
   ]
  },
  {
   "cell_type": "code",
   "execution_count": 13,
   "id": "29b1d0bf",
   "metadata": {
    "execution": {
     "iopub.execute_input": "2023-02-24T08:18:59.095096Z",
     "iopub.status.busy": "2023-02-24T08:18:59.094858Z",
     "iopub.status.idle": "2023-02-24T08:19:03.036535Z",
     "shell.execute_reply": "2023-02-24T08:19:03.035873Z"
    }
   },
   "outputs": [
    {
     "name": "stdout",
     "output_type": "stream",
     "text": [
      "485 ns ± 0.0968 ns per loop (mean ± std. dev. of 7 runs, 1,000,000 loops each)\n"
     ]
    }
   ],
   "source": [
    "%timeit b.a = new_value"
   ]
  },
  {
   "cell_type": "markdown",
   "id": "b61ad1d0",
   "metadata": {},
   "source": [
    "## Initialization"
   ]
  },
  {
   "cell_type": "markdown",
   "id": "d70f0d54",
   "metadata": {},
   "source": [
    "### TreeValue's Initialization"
   ]
  },
  {
   "cell_type": "code",
   "execution_count": 14,
   "id": "d32a679b",
   "metadata": {
    "execution": {
     "iopub.execute_input": "2023-02-24T08:19:03.039650Z",
     "iopub.status.busy": "2023-02-24T08:19:03.039048Z",
     "iopub.status.idle": "2023-02-24T08:19:09.777842Z",
     "shell.execute_reply": "2023-02-24T08:19:09.777095Z"
    }
   },
   "outputs": [
    {
     "name": "stdout",
     "output_type": "stream",
     "text": [
      "830 ns ± 0.186 ns per loop (mean ± std. dev. of 7 runs, 1,000,000 loops each)\n"
     ]
    }
   ],
   "source": [
    "%timeit FastTreeValue(_TREE_DATA_1)"
   ]
  },
  {
   "cell_type": "markdown",
   "id": "24f3707b",
   "metadata": {},
   "source": [
    "### Tianshou Batch's Initialization"
   ]
  },
  {
   "cell_type": "code",
   "execution_count": 15,
   "id": "ac3958df",
   "metadata": {
    "execution": {
     "iopub.execute_input": "2023-02-24T08:19:09.780788Z",
     "iopub.status.busy": "2023-02-24T08:19:09.780282Z",
     "iopub.status.idle": "2023-02-24T08:19:18.825761Z",
     "shell.execute_reply": "2023-02-24T08:19:18.825067Z"
    }
   },
   "outputs": [
    {
     "name": "stdout",
     "output_type": "stream",
     "text": [
      "11.1 µs ± 39.6 ns per loop (mean ± std. dev. of 7 runs, 100,000 loops each)\n"
     ]
    }
   ],
   "source": [
    "%timeit Batch(**_TREE_DATA_1)"
   ]
  },
  {
   "cell_type": "markdown",
   "id": "1ab82e2d",
   "metadata": {},
   "source": [
    "## Deep Copy Operation"
   ]
  },
  {
   "cell_type": "code",
   "execution_count": 16,
   "id": "210a9442",
   "metadata": {
    "execution": {
     "iopub.execute_input": "2023-02-24T08:19:18.828479Z",
     "iopub.status.busy": "2023-02-24T08:19:18.828264Z",
     "iopub.status.idle": "2023-02-24T08:19:18.831487Z",
     "shell.execute_reply": "2023-02-24T08:19:18.830806Z"
    }
   },
   "outputs": [],
   "source": [
    "import copy"
   ]
  },
  {
   "cell_type": "markdown",
   "id": "5a736274",
   "metadata": {},
   "source": [
    "### Deep Copy of TreeValue"
   ]
  },
  {
   "cell_type": "code",
   "execution_count": 17,
   "id": "f9bcadd6",
   "metadata": {
    "execution": {
     "iopub.execute_input": "2023-02-24T08:19:18.834438Z",
     "iopub.status.busy": "2023-02-24T08:19:18.833958Z",
     "iopub.status.idle": "2023-02-24T08:19:29.868641Z",
     "shell.execute_reply": "2023-02-24T08:19:29.868052Z"
    }
   },
   "outputs": [
    {
     "name": "stdout",
     "output_type": "stream",
     "text": [
      "136 µs ± 855 ns per loop (mean ± std. dev. of 7 runs, 10,000 loops each)\n"
     ]
    }
   ],
   "source": [
    "t3 = FastTreeValue(_TREE_DATA_3)\n",
    "%timeit copy.deepcopy(t3)"
   ]
  },
  {
   "cell_type": "markdown",
   "id": "bf8be7ea",
   "metadata": {},
   "source": [
    "### Deep Copy of Tianshou Batch"
   ]
  },
  {
   "cell_type": "code",
   "execution_count": 18,
   "id": "91998e6f",
   "metadata": {
    "execution": {
     "iopub.execute_input": "2023-02-24T08:19:29.872032Z",
     "iopub.status.busy": "2023-02-24T08:19:29.871054Z",
     "iopub.status.idle": "2023-02-24T08:19:41.158805Z",
     "shell.execute_reply": "2023-02-24T08:19:41.158221Z"
    }
   },
   "outputs": [
    {
     "name": "stdout",
     "output_type": "stream",
     "text": [
      "139 µs ± 427 ns per loop (mean ± std. dev. of 7 runs, 10,000 loops each)\n"
     ]
    }
   ],
   "source": [
    "b3 = Batch(**_TREE_DATA_3)\n",
    "%timeit copy.deepcopy(b3)"
   ]
  },
  {
   "cell_type": "markdown",
   "id": "223162fb",
   "metadata": {},
   "source": [
    "## Stack, Concat and Split Operation"
   ]
  },
  {
   "cell_type": "markdown",
   "id": "85fa4a73",
   "metadata": {},
   "source": [
    "### Performance of TreeValue"
   ]
  },
  {
   "cell_type": "code",
   "execution_count": 19,
   "id": "a0c2b697",
   "metadata": {
    "execution": {
     "iopub.execute_input": "2023-02-24T08:19:41.162623Z",
     "iopub.status.busy": "2023-02-24T08:19:41.161712Z",
     "iopub.status.idle": "2023-02-24T08:19:41.165879Z",
     "shell.execute_reply": "2023-02-24T08:19:41.165354Z"
    }
   },
   "outputs": [],
   "source": [
    "trees = [FastTreeValue(_TREE_DATA_2) for _ in range(8)]"
   ]
  },
  {
   "cell_type": "code",
   "execution_count": 20,
   "id": "017ea5a5",
   "metadata": {
    "execution": {
     "iopub.execute_input": "2023-02-24T08:19:41.169302Z",
     "iopub.status.busy": "2023-02-24T08:19:41.168454Z",
     "iopub.status.idle": "2023-02-24T08:19:41.176010Z",
     "shell.execute_reply": "2023-02-24T08:19:41.175394Z"
    }
   },
   "outputs": [
    {
     "data": {
      "text/plain": [
       "<FastTreeValue 0x7f7fab668f40>\n",
       "├── 'a' --> tensor([[[-0.2047,  1.9863, -1.2117],\n",
       "│                    [-1.0611, -0.5134, -0.5869]],\n",
       "│           \n",
       "│                   [[-0.2047,  1.9863, -1.2117],\n",
       "│                    [-1.0611, -0.5134, -0.5869]],\n",
       "│           \n",
       "│                   [[-0.2047,  1.9863, -1.2117],\n",
       "│                    [-1.0611, -0.5134, -0.5869]],\n",
       "│           \n",
       "│                   [[-0.2047,  1.9863, -1.2117],\n",
       "│                    [-1.0611, -0.5134, -0.5869]],\n",
       "│           \n",
       "│                   [[-0.2047,  1.9863, -1.2117],\n",
       "│                    [-1.0611, -0.5134, -0.5869]],\n",
       "│           \n",
       "│                   [[-0.2047,  1.9863, -1.2117],\n",
       "│                    [-1.0611, -0.5134, -0.5869]],\n",
       "│           \n",
       "│                   [[-0.2047,  1.9863, -1.2117],\n",
       "│                    [-1.0611, -0.5134, -0.5869]],\n",
       "│           \n",
       "│                   [[-0.2047,  1.9863, -1.2117],\n",
       "│                    [-1.0611, -0.5134, -0.5869]]])\n",
       "└── 'x' --> <FastTreeValue 0x7f8034a63be0>\n",
       "    └── 'c' --> tensor([[[ 0.9535, -0.5228,  0.4578, -0.3437],\n",
       "                         [-0.4735,  1.7184, -0.6564,  0.2577],\n",
       "                         [ 0.1180,  0.5349, -0.5621, -0.8449]],\n",
       "                \n",
       "                        [[ 0.9535, -0.5228,  0.4578, -0.3437],\n",
       "                         [-0.4735,  1.7184, -0.6564,  0.2577],\n",
       "                         [ 0.1180,  0.5349, -0.5621, -0.8449]],\n",
       "                \n",
       "                        [[ 0.9535, -0.5228,  0.4578, -0.3437],\n",
       "                         [-0.4735,  1.7184, -0.6564,  0.2577],\n",
       "                         [ 0.1180,  0.5349, -0.5621, -0.8449]],\n",
       "                \n",
       "                        [[ 0.9535, -0.5228,  0.4578, -0.3437],\n",
       "                         [-0.4735,  1.7184, -0.6564,  0.2577],\n",
       "                         [ 0.1180,  0.5349, -0.5621, -0.8449]],\n",
       "                \n",
       "                        [[ 0.9535, -0.5228,  0.4578, -0.3437],\n",
       "                         [-0.4735,  1.7184, -0.6564,  0.2577],\n",
       "                         [ 0.1180,  0.5349, -0.5621, -0.8449]],\n",
       "                \n",
       "                        [[ 0.9535, -0.5228,  0.4578, -0.3437],\n",
       "                         [-0.4735,  1.7184, -0.6564,  0.2577],\n",
       "                         [ 0.1180,  0.5349, -0.5621, -0.8449]],\n",
       "                \n",
       "                        [[ 0.9535, -0.5228,  0.4578, -0.3437],\n",
       "                         [-0.4735,  1.7184, -0.6564,  0.2577],\n",
       "                         [ 0.1180,  0.5349, -0.5621, -0.8449]],\n",
       "                \n",
       "                        [[ 0.9535, -0.5228,  0.4578, -0.3437],\n",
       "                         [-0.4735,  1.7184, -0.6564,  0.2577],\n",
       "                         [ 0.1180,  0.5349, -0.5621, -0.8449]]])"
      ]
     },
     "execution_count": 20,
     "metadata": {},
     "output_type": "execute_result"
    }
   ],
   "source": [
    "t_stack = FastTreeValue.func(subside=True)(torch.stack)\n",
    "\n",
    "t_stack(trees)"
   ]
  },
  {
   "cell_type": "code",
   "execution_count": 21,
   "id": "f8b3f415",
   "metadata": {
    "execution": {
     "iopub.execute_input": "2023-02-24T08:19:41.178623Z",
     "iopub.status.busy": "2023-02-24T08:19:41.178285Z",
     "iopub.status.idle": "2023-02-24T08:19:43.761524Z",
     "shell.execute_reply": "2023-02-24T08:19:43.760760Z"
    }
   },
   "outputs": [
    {
     "name": "stdout",
     "output_type": "stream",
     "text": [
      "31.8 µs ± 91.5 ns per loop (mean ± std. dev. of 7 runs, 10,000 loops each)\n"
     ]
    }
   ],
   "source": [
    "%timeit t_stack(trees)"
   ]
  },
  {
   "cell_type": "code",
   "execution_count": 22,
   "id": "94b56771",
   "metadata": {
    "execution": {
     "iopub.execute_input": "2023-02-24T08:19:43.764296Z",
     "iopub.status.busy": "2023-02-24T08:19:43.763938Z",
     "iopub.status.idle": "2023-02-24T08:19:43.771830Z",
     "shell.execute_reply": "2023-02-24T08:19:43.771203Z"
    }
   },
   "outputs": [
    {
     "data": {
      "text/plain": [
       "<FastTreeValue 0x7f802ff731c0>\n",
       "├── 'a' --> tensor([[-0.2047,  1.9863, -1.2117],\n",
       "│                   [-1.0611, -0.5134, -0.5869],\n",
       "│                   [-0.2047,  1.9863, -1.2117],\n",
       "│                   [-1.0611, -0.5134, -0.5869],\n",
       "│                   [-0.2047,  1.9863, -1.2117],\n",
       "│                   [-1.0611, -0.5134, -0.5869],\n",
       "│                   [-0.2047,  1.9863, -1.2117],\n",
       "│                   [-1.0611, -0.5134, -0.5869],\n",
       "│                   [-0.2047,  1.9863, -1.2117],\n",
       "│                   [-1.0611, -0.5134, -0.5869],\n",
       "│                   [-0.2047,  1.9863, -1.2117],\n",
       "│                   [-1.0611, -0.5134, -0.5869],\n",
       "│                   [-0.2047,  1.9863, -1.2117],\n",
       "│                   [-1.0611, -0.5134, -0.5869],\n",
       "│                   [-0.2047,  1.9863, -1.2117],\n",
       "│                   [-1.0611, -0.5134, -0.5869]])\n",
       "└── 'x' --> <FastTreeValue 0x7f7fab73a220>\n",
       "    └── 'c' --> tensor([[ 0.9535, -0.5228,  0.4578, -0.3437],\n",
       "                        [-0.4735,  1.7184, -0.6564,  0.2577],\n",
       "                        [ 0.1180,  0.5349, -0.5621, -0.8449],\n",
       "                        [ 0.9535, -0.5228,  0.4578, -0.3437],\n",
       "                        [-0.4735,  1.7184, -0.6564,  0.2577],\n",
       "                        [ 0.1180,  0.5349, -0.5621, -0.8449],\n",
       "                        [ 0.9535, -0.5228,  0.4578, -0.3437],\n",
       "                        [-0.4735,  1.7184, -0.6564,  0.2577],\n",
       "                        [ 0.1180,  0.5349, -0.5621, -0.8449],\n",
       "                        [ 0.9535, -0.5228,  0.4578, -0.3437],\n",
       "                        [-0.4735,  1.7184, -0.6564,  0.2577],\n",
       "                        [ 0.1180,  0.5349, -0.5621, -0.8449],\n",
       "                        [ 0.9535, -0.5228,  0.4578, -0.3437],\n",
       "                        [-0.4735,  1.7184, -0.6564,  0.2577],\n",
       "                        [ 0.1180,  0.5349, -0.5621, -0.8449],\n",
       "                        [ 0.9535, -0.5228,  0.4578, -0.3437],\n",
       "                        [-0.4735,  1.7184, -0.6564,  0.2577],\n",
       "                        [ 0.1180,  0.5349, -0.5621, -0.8449],\n",
       "                        [ 0.9535, -0.5228,  0.4578, -0.3437],\n",
       "                        [-0.4735,  1.7184, -0.6564,  0.2577],\n",
       "                        [ 0.1180,  0.5349, -0.5621, -0.8449],\n",
       "                        [ 0.9535, -0.5228,  0.4578, -0.3437],\n",
       "                        [-0.4735,  1.7184, -0.6564,  0.2577],\n",
       "                        [ 0.1180,  0.5349, -0.5621, -0.8449]])"
      ]
     },
     "execution_count": 22,
     "metadata": {},
     "output_type": "execute_result"
    }
   ],
   "source": [
    "t_cat = FastTreeValue.func(subside=True)(torch.cat)\n",
    "\n",
    "t_cat(trees)"
   ]
  },
  {
   "cell_type": "code",
   "execution_count": 23,
   "id": "5e9c06a6",
   "metadata": {
    "execution": {
     "iopub.execute_input": "2023-02-24T08:19:43.774699Z",
     "iopub.status.busy": "2023-02-24T08:19:43.774349Z",
     "iopub.status.idle": "2023-02-24T08:19:46.214405Z",
     "shell.execute_reply": "2023-02-24T08:19:46.213654Z"
    }
   },
   "outputs": [
    {
     "name": "stdout",
     "output_type": "stream",
     "text": [
      "30 µs ± 32.9 ns per loop (mean ± std. dev. of 7 runs, 10,000 loops each)\n"
     ]
    }
   ],
   "source": [
    "%timeit t_cat(trees)"
   ]
  },
  {
   "cell_type": "code",
   "execution_count": 24,
   "id": "a3ab5c8f",
   "metadata": {
    "execution": {
     "iopub.execute_input": "2023-02-24T08:19:46.217433Z",
     "iopub.status.busy": "2023-02-24T08:19:46.216875Z",
     "iopub.status.idle": "2023-02-24T08:19:50.900237Z",
     "shell.execute_reply": "2023-02-24T08:19:50.899459Z"
    }
   },
   "outputs": [
    {
     "name": "stdout",
     "output_type": "stream",
     "text": [
      "57.6 µs ± 83.3 ns per loop (mean ± std. dev. of 7 runs, 10,000 loops each)\n"
     ]
    }
   ],
   "source": [
    "t_split = FastTreeValue.func(rise=True)(torch.split)\n",
    "tree = FastTreeValue({\n",
    "    'obs': torch.randn(8, 4, 84, 84),\n",
    "    'action': torch.randint(0, 6, size=(8, 1,)),\n",
    "    'reward': torch.rand(8, 1),\n",
    "})\n",
    "\n",
    "%timeit t_split(tree, 1)"
   ]
  },
  {
   "cell_type": "markdown",
   "id": "31c3ec0b",
   "metadata": {},
   "source": [
    "### Performance of Tianshou Batch"
   ]
  },
  {
   "cell_type": "code",
   "execution_count": 25,
   "id": "9ead828a",
   "metadata": {
    "execution": {
     "iopub.execute_input": "2023-02-24T08:19:50.903269Z",
     "iopub.status.busy": "2023-02-24T08:19:50.902913Z",
     "iopub.status.idle": "2023-02-24T08:19:50.910963Z",
     "shell.execute_reply": "2023-02-24T08:19:50.910368Z"
    }
   },
   "outputs": [
    {
     "data": {
      "text/plain": [
       "Batch(\n",
       "    x: Batch(\n",
       "           c: tensor([[[ 0.9535, -0.5228,  0.4578, -0.3437],\n",
       "                       [-0.4735,  1.7184, -0.6564,  0.2577],\n",
       "                       [ 0.1180,  0.5349, -0.5621, -0.8449]],\n",
       "              \n",
       "                      [[ 0.9535, -0.5228,  0.4578, -0.3437],\n",
       "                       [-0.4735,  1.7184, -0.6564,  0.2577],\n",
       "                       [ 0.1180,  0.5349, -0.5621, -0.8449]],\n",
       "              \n",
       "                      [[ 0.9535, -0.5228,  0.4578, -0.3437],\n",
       "                       [-0.4735,  1.7184, -0.6564,  0.2577],\n",
       "                       [ 0.1180,  0.5349, -0.5621, -0.8449]],\n",
       "              \n",
       "                      [[ 0.9535, -0.5228,  0.4578, -0.3437],\n",
       "                       [-0.4735,  1.7184, -0.6564,  0.2577],\n",
       "                       [ 0.1180,  0.5349, -0.5621, -0.8449]],\n",
       "              \n",
       "                      [[ 0.9535, -0.5228,  0.4578, -0.3437],\n",
       "                       [-0.4735,  1.7184, -0.6564,  0.2577],\n",
       "                       [ 0.1180,  0.5349, -0.5621, -0.8449]],\n",
       "              \n",
       "                      [[ 0.9535, -0.5228,  0.4578, -0.3437],\n",
       "                       [-0.4735,  1.7184, -0.6564,  0.2577],\n",
       "                       [ 0.1180,  0.5349, -0.5621, -0.8449]],\n",
       "              \n",
       "                      [[ 0.9535, -0.5228,  0.4578, -0.3437],\n",
       "                       [-0.4735,  1.7184, -0.6564,  0.2577],\n",
       "                       [ 0.1180,  0.5349, -0.5621, -0.8449]],\n",
       "              \n",
       "                      [[ 0.9535, -0.5228,  0.4578, -0.3437],\n",
       "                       [-0.4735,  1.7184, -0.6564,  0.2577],\n",
       "                       [ 0.1180,  0.5349, -0.5621, -0.8449]]]),\n",
       "       ),\n",
       "    a: tensor([[[-0.2047,  1.9863, -1.2117],\n",
       "                [-1.0611, -0.5134, -0.5869]],\n",
       "       \n",
       "               [[-0.2047,  1.9863, -1.2117],\n",
       "                [-1.0611, -0.5134, -0.5869]],\n",
       "       \n",
       "               [[-0.2047,  1.9863, -1.2117],\n",
       "                [-1.0611, -0.5134, -0.5869]],\n",
       "       \n",
       "               [[-0.2047,  1.9863, -1.2117],\n",
       "                [-1.0611, -0.5134, -0.5869]],\n",
       "       \n",
       "               [[-0.2047,  1.9863, -1.2117],\n",
       "                [-1.0611, -0.5134, -0.5869]],\n",
       "       \n",
       "               [[-0.2047,  1.9863, -1.2117],\n",
       "                [-1.0611, -0.5134, -0.5869]],\n",
       "       \n",
       "               [[-0.2047,  1.9863, -1.2117],\n",
       "                [-1.0611, -0.5134, -0.5869]],\n",
       "       \n",
       "               [[-0.2047,  1.9863, -1.2117],\n",
       "                [-1.0611, -0.5134, -0.5869]]]),\n",
       ")"
      ]
     },
     "execution_count": 25,
     "metadata": {},
     "output_type": "execute_result"
    }
   ],
   "source": [
    "batches = [Batch(**_TREE_DATA_2) for _ in range(8)]\n",
    "\n",
    "Batch.stack(batches)"
   ]
  },
  {
   "cell_type": "code",
   "execution_count": 26,
   "id": "ec9037a3",
   "metadata": {
    "execution": {
     "iopub.execute_input": "2023-02-24T08:19:50.913798Z",
     "iopub.status.busy": "2023-02-24T08:19:50.913312Z",
     "iopub.status.idle": "2023-02-24T08:19:57.282312Z",
     "shell.execute_reply": "2023-02-24T08:19:57.281551Z"
    }
   },
   "outputs": [
    {
     "name": "stdout",
     "output_type": "stream",
     "text": [
      "78.4 µs ± 92.4 ns per loop (mean ± std. dev. of 7 runs, 10,000 loops each)\n"
     ]
    }
   ],
   "source": [
    "%timeit Batch.stack(batches)"
   ]
  },
  {
   "cell_type": "code",
   "execution_count": 27,
   "id": "cb8ab77e",
   "metadata": {
    "execution": {
     "iopub.execute_input": "2023-02-24T08:19:57.285379Z",
     "iopub.status.busy": "2023-02-24T08:19:57.285008Z",
     "iopub.status.idle": "2023-02-24T08:19:57.292900Z",
     "shell.execute_reply": "2023-02-24T08:19:57.292301Z"
    }
   },
   "outputs": [
    {
     "data": {
      "text/plain": [
       "Batch(\n",
       "    x: Batch(\n",
       "           c: tensor([[ 0.9535, -0.5228,  0.4578, -0.3437],\n",
       "                      [-0.4735,  1.7184, -0.6564,  0.2577],\n",
       "                      [ 0.1180,  0.5349, -0.5621, -0.8449],\n",
       "                      [ 0.9535, -0.5228,  0.4578, -0.3437],\n",
       "                      [-0.4735,  1.7184, -0.6564,  0.2577],\n",
       "                      [ 0.1180,  0.5349, -0.5621, -0.8449],\n",
       "                      [ 0.9535, -0.5228,  0.4578, -0.3437],\n",
       "                      [-0.4735,  1.7184, -0.6564,  0.2577],\n",
       "                      [ 0.1180,  0.5349, -0.5621, -0.8449],\n",
       "                      [ 0.9535, -0.5228,  0.4578, -0.3437],\n",
       "                      [-0.4735,  1.7184, -0.6564,  0.2577],\n",
       "                      [ 0.1180,  0.5349, -0.5621, -0.8449],\n",
       "                      [ 0.9535, -0.5228,  0.4578, -0.3437],\n",
       "                      [-0.4735,  1.7184, -0.6564,  0.2577],\n",
       "                      [ 0.1180,  0.5349, -0.5621, -0.8449],\n",
       "                      [ 0.9535, -0.5228,  0.4578, -0.3437],\n",
       "                      [-0.4735,  1.7184, -0.6564,  0.2577],\n",
       "                      [ 0.1180,  0.5349, -0.5621, -0.8449],\n",
       "                      [ 0.9535, -0.5228,  0.4578, -0.3437],\n",
       "                      [-0.4735,  1.7184, -0.6564,  0.2577],\n",
       "                      [ 0.1180,  0.5349, -0.5621, -0.8449],\n",
       "                      [ 0.9535, -0.5228,  0.4578, -0.3437],\n",
       "                      [-0.4735,  1.7184, -0.6564,  0.2577],\n",
       "                      [ 0.1180,  0.5349, -0.5621, -0.8449]]),\n",
       "       ),\n",
       "    a: tensor([[-0.2047,  1.9863, -1.2117],\n",
       "               [-1.0611, -0.5134, -0.5869],\n",
       "               [-0.2047,  1.9863, -1.2117],\n",
       "               [-1.0611, -0.5134, -0.5869],\n",
       "               [-0.2047,  1.9863, -1.2117],\n",
       "               [-1.0611, -0.5134, -0.5869],\n",
       "               [-0.2047,  1.9863, -1.2117],\n",
       "               [-1.0611, -0.5134, -0.5869],\n",
       "               [-0.2047,  1.9863, -1.2117],\n",
       "               [-1.0611, -0.5134, -0.5869],\n",
       "               [-0.2047,  1.9863, -1.2117],\n",
       "               [-1.0611, -0.5134, -0.5869],\n",
       "               [-0.2047,  1.9863, -1.2117],\n",
       "               [-1.0611, -0.5134, -0.5869],\n",
       "               [-0.2047,  1.9863, -1.2117],\n",
       "               [-1.0611, -0.5134, -0.5869]]),\n",
       ")"
      ]
     },
     "execution_count": 27,
     "metadata": {},
     "output_type": "execute_result"
    }
   ],
   "source": [
    "Batch.cat(batches)"
   ]
  },
  {
   "cell_type": "code",
   "execution_count": 28,
   "id": "18dfb045",
   "metadata": {
    "execution": {
     "iopub.execute_input": "2023-02-24T08:19:57.295735Z",
     "iopub.status.busy": "2023-02-24T08:19:57.295407Z",
     "iopub.status.idle": "2023-02-24T08:20:08.852581Z",
     "shell.execute_reply": "2023-02-24T08:20:08.851820Z"
    }
   },
   "outputs": [
    {
     "name": "stdout",
     "output_type": "stream",
     "text": [
      "142 µs ± 336 ns per loop (mean ± std. dev. of 7 runs, 10,000 loops each)\n"
     ]
    }
   ],
   "source": [
    "%timeit Batch.cat(batches)"
   ]
  },
  {
   "cell_type": "code",
   "execution_count": 29,
   "id": "c6688e51",
   "metadata": {
    "execution": {
     "iopub.execute_input": "2023-02-24T08:20:08.855818Z",
     "iopub.status.busy": "2023-02-24T08:20:08.855257Z",
     "iopub.status.idle": "2023-02-24T08:20:11.384388Z",
     "shell.execute_reply": "2023-02-24T08:20:11.383822Z"
    }
   },
   "outputs": [
    {
     "name": "stdout",
     "output_type": "stream",
     "text": [
      "311 µs ± 2.1 µs per loop (mean ± std. dev. of 7 runs, 1,000 loops each)\n"
     ]
    }
   ],
   "source": [
    "batch = Batch({\n",
    "    'obs': torch.randn(8, 4, 84, 84),\n",
    "    'action': torch.randint(0, 6, size=(8, 1,)),\n",
    "    'reward': torch.rand(8, 1)}\n",
    ")\n",
    "\n",
    "%timeit list(Batch.split(batch, 1, shuffle=False, merge_last=True))"
   ]
  },
  {
   "cell_type": "code",
   "execution_count": null,
   "id": "2539fbd9",
   "metadata": {},
   "outputs": [],
   "source": []
  }
 ],
 "metadata": {
  "kernelspec": {
   "display_name": "Python 3 (ipykernel)",
   "language": "python",
   "name": "python3"
  },
  "language_info": {
   "codemirror_mode": {
    "name": "ipython",
    "version": 3
   },
   "file_extension": ".py",
   "mimetype": "text/x-python",
   "name": "python",
   "nbconvert_exporter": "python",
   "pygments_lexer": "ipython3",
   "version": "3.8.16"
  }
 },
 "nbformat": 4,
 "nbformat_minor": 5
}
