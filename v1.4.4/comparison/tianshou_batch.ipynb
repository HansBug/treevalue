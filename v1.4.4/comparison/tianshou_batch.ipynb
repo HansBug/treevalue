{
 "cells": [
  {
   "cell_type": "markdown",
   "id": "9d39d946",
   "metadata": {},
   "source": [
    "# Comparison Between TreeValue and Tianshou Batch"
   ]
  },
  {
   "cell_type": "markdown",
   "id": "3c6db2d4",
   "metadata": {},
   "source": [
    "In this section, we will take a look at the feature and performance of the [Tianshou Batch](https://github.com/thu-ml/tianshou) library, which is developed by Tsinghua Machine Learning Group."
   ]
  },
  {
   "cell_type": "markdown",
   "id": "069361b0",
   "metadata": {},
   "source": [
    "Before starting the comparison, let us define some thing."
   ]
  },
  {
   "cell_type": "code",
   "execution_count": 1,
   "id": "06fc8d26",
   "metadata": {
    "execution": {
     "iopub.execute_input": "2023-02-26T05:56:53.358109Z",
     "iopub.status.busy": "2023-02-26T05:56:53.357892Z",
     "iopub.status.idle": "2023-02-26T05:56:54.274602Z",
     "shell.execute_reply": "2023-02-26T05:56:54.273928Z"
    }
   },
   "outputs": [
    {
     "name": "stderr",
     "output_type": "stream",
     "text": [
      "/opt/hostedtoolcache/Python/3.8.16/x64/lib/python3.8/site-packages/tqdm/auto.py:22: TqdmWarning: IProgress not found. Please update jupyter and ipywidgets. See https://ipywidgets.readthedocs.io/en/stable/user_install.html\n",
      "  from .autonotebook import tqdm as notebook_tqdm\n"
     ]
    }
   ],
   "source": [
    "import torch \n",
    "\n",
    "_TREE_DATA_1 = {'a': 1, 'b': 2, 'x': {'c': 3, 'd': 4}}\n",
    "_TREE_DATA_2 = {\n",
    "    'a': torch.randn(2, 3), \n",
    "    'x': {\n",
    "        'c': torch.randn(3, 4)\n",
    "    },\n",
    "}\n",
    "_TREE_DATA_3 = {\n",
    "    'obs': torch.randn(4, 84, 84),\n",
    "    'action': torch.randint(0, 6, size=(1,)),\n",
    "    'reward': torch.rand(1),\n",
    "}"
   ]
  },
  {
   "cell_type": "markdown",
   "id": "83461b25",
   "metadata": {},
   "source": [
    "## Read and Write Operation"
   ]
  },
  {
   "cell_type": "markdown",
   "id": "067b3f73",
   "metadata": {},
   "source": [
    "Reading and writing are the two most common operations in the tree data structure based on the data model (TreeValue and Tianshou Batch both belong to this type), so this section will compare the reading and writing performance of these two libraries."
   ]
  },
  {
   "cell_type": "markdown",
   "id": "5d09a5b7",
   "metadata": {},
   "source": [
    "### TreeValue's Get and Set"
   ]
  },
  {
   "cell_type": "code",
   "execution_count": 2,
   "id": "9519c4bb",
   "metadata": {
    "execution": {
     "iopub.execute_input": "2023-02-26T05:56:54.277890Z",
     "iopub.status.busy": "2023-02-26T05:56:54.277483Z",
     "iopub.status.idle": "2023-02-26T05:56:54.310646Z",
     "shell.execute_reply": "2023-02-26T05:56:54.310024Z"
    }
   },
   "outputs": [],
   "source": [
    "from treevalue import FastTreeValue\n",
    "\n",
    "t = FastTreeValue(_TREE_DATA_2)"
   ]
  },
  {
   "cell_type": "code",
   "execution_count": 3,
   "id": "11c37677",
   "metadata": {
    "execution": {
     "iopub.execute_input": "2023-02-26T05:56:54.313156Z",
     "iopub.status.busy": "2023-02-26T05:56:54.312911Z",
     "iopub.status.idle": "2023-02-26T05:56:54.321845Z",
     "shell.execute_reply": "2023-02-26T05:56:54.321267Z"
    }
   },
   "outputs": [
    {
     "data": {
      "text/plain": [
       "<FastTreeValue 0x7f1100c17400>\n",
       "├── 'a' --> tensor([[-0.1379,  0.0042,  0.1328],\n",
       "│                   [-0.5109,  0.0227, -0.7358]])\n",
       "└── 'x' --> <FastTreeValue 0x7f1100c17760>\n",
       "    └── 'c' --> tensor([[-0.0258, -0.6893, -0.3963,  1.9491],\n",
       "                        [ 1.5039, -0.8793,  0.3076, -0.6039],\n",
       "                        [-1.3072, -0.2627,  0.5228, -0.7813]])"
      ]
     },
     "execution_count": 3,
     "metadata": {},
     "output_type": "execute_result"
    }
   ],
   "source": [
    "t"
   ]
  },
  {
   "cell_type": "code",
   "execution_count": 4,
   "id": "fd70b0b9",
   "metadata": {
    "execution": {
     "iopub.execute_input": "2023-02-26T05:56:54.324409Z",
     "iopub.status.busy": "2023-02-26T05:56:54.324085Z",
     "iopub.status.idle": "2023-02-26T05:56:54.328693Z",
     "shell.execute_reply": "2023-02-26T05:56:54.328063Z"
    }
   },
   "outputs": [
    {
     "data": {
      "text/plain": [
       "tensor([[-0.1379,  0.0042,  0.1328],\n",
       "        [-0.5109,  0.0227, -0.7358]])"
      ]
     },
     "execution_count": 4,
     "metadata": {},
     "output_type": "execute_result"
    }
   ],
   "source": [
    "t.a"
   ]
  },
  {
   "cell_type": "code",
   "execution_count": 5,
   "id": "c18197bd",
   "metadata": {
    "execution": {
     "iopub.execute_input": "2023-02-26T05:56:54.331152Z",
     "iopub.status.busy": "2023-02-26T05:56:54.330827Z",
     "iopub.status.idle": "2023-02-26T05:56:59.117901Z",
     "shell.execute_reply": "2023-02-26T05:56:59.117156Z"
    }
   },
   "outputs": [
    {
     "name": "stdout",
     "output_type": "stream",
     "text": [
      "59.1 ns ± 0.0532 ns per loop (mean ± std. dev. of 7 runs, 10,000,000 loops each)\n"
     ]
    }
   ],
   "source": [
    "%timeit t.a"
   ]
  },
  {
   "cell_type": "code",
   "execution_count": 6,
   "id": "bd52f867",
   "metadata": {
    "execution": {
     "iopub.execute_input": "2023-02-26T05:56:59.120621Z",
     "iopub.status.busy": "2023-02-26T05:56:59.120279Z",
     "iopub.status.idle": "2023-02-26T05:56:59.126122Z",
     "shell.execute_reply": "2023-02-26T05:56:59.125511Z"
    }
   },
   "outputs": [
    {
     "data": {
      "text/plain": [
       "<FastTreeValue 0x7f1100c17400>\n",
       "├── 'a' --> tensor([[-0.4503,  0.6251,  0.3961],\n",
       "│                   [-0.5962, -0.2087,  1.3191]])\n",
       "└── 'x' --> <FastTreeValue 0x7f1100c17760>\n",
       "    └── 'c' --> tensor([[-0.0258, -0.6893, -0.3963,  1.9491],\n",
       "                        [ 1.5039, -0.8793,  0.3076, -0.6039],\n",
       "                        [-1.3072, -0.2627,  0.5228, -0.7813]])"
      ]
     },
     "execution_count": 6,
     "metadata": {},
     "output_type": "execute_result"
    }
   ],
   "source": [
    "new_value = torch.randn(2, 3)\n",
    "t.a = new_value\n",
    "\n",
    "t"
   ]
  },
  {
   "cell_type": "code",
   "execution_count": 7,
   "id": "bbe04d1c",
   "metadata": {
    "execution": {
     "iopub.execute_input": "2023-02-26T05:56:59.128451Z",
     "iopub.status.busy": "2023-02-26T05:56:59.128105Z",
     "iopub.status.idle": "2023-02-26T05:57:04.353178Z",
     "shell.execute_reply": "2023-02-26T05:57:04.352435Z"
    }
   },
   "outputs": [
    {
     "name": "stdout",
     "output_type": "stream",
     "text": [
      "64.2 ns ± 0.0453 ns per loop (mean ± std. dev. of 7 runs, 10,000,000 loops each)\n"
     ]
    }
   ],
   "source": [
    "%timeit t.a = new_value"
   ]
  },
  {
   "cell_type": "markdown",
   "id": "48c49731",
   "metadata": {},
   "source": [
    "### Tianshou Batch's Get and Set"
   ]
  },
  {
   "cell_type": "code",
   "execution_count": 8,
   "id": "f1bb14c1",
   "metadata": {
    "execution": {
     "iopub.execute_input": "2023-02-26T05:57:04.356370Z",
     "iopub.status.busy": "2023-02-26T05:57:04.355799Z",
     "iopub.status.idle": "2023-02-26T05:57:04.690396Z",
     "shell.execute_reply": "2023-02-26T05:57:04.689736Z"
    }
   },
   "outputs": [],
   "source": [
    "from tianshou.data import Batch\n",
    "\n",
    "b = Batch(**_TREE_DATA_2)"
   ]
  },
  {
   "cell_type": "code",
   "execution_count": 9,
   "id": "cb0777c3",
   "metadata": {
    "execution": {
     "iopub.execute_input": "2023-02-26T05:57:04.693882Z",
     "iopub.status.busy": "2023-02-26T05:57:04.693256Z",
     "iopub.status.idle": "2023-02-26T05:57:04.699312Z",
     "shell.execute_reply": "2023-02-26T05:57:04.698740Z"
    }
   },
   "outputs": [
    {
     "data": {
      "text/plain": [
       "Batch(\n",
       "    a: tensor([[-0.1379,  0.0042,  0.1328],\n",
       "               [-0.5109,  0.0227, -0.7358]]),\n",
       "    x: Batch(\n",
       "           c: tensor([[-0.0258, -0.6893, -0.3963,  1.9491],\n",
       "                      [ 1.5039, -0.8793,  0.3076, -0.6039],\n",
       "                      [-1.3072, -0.2627,  0.5228, -0.7813]]),\n",
       "       ),\n",
       ")"
      ]
     },
     "execution_count": 9,
     "metadata": {},
     "output_type": "execute_result"
    }
   ],
   "source": [
    "b"
   ]
  },
  {
   "cell_type": "code",
   "execution_count": 10,
   "id": "43ef8ea3",
   "metadata": {
    "execution": {
     "iopub.execute_input": "2023-02-26T05:57:04.701788Z",
     "iopub.status.busy": "2023-02-26T05:57:04.701441Z",
     "iopub.status.idle": "2023-02-26T05:57:04.706375Z",
     "shell.execute_reply": "2023-02-26T05:57:04.705757Z"
    }
   },
   "outputs": [
    {
     "data": {
      "text/plain": [
       "tensor([[-0.1379,  0.0042,  0.1328],\n",
       "        [-0.5109,  0.0227, -0.7358]])"
      ]
     },
     "execution_count": 10,
     "metadata": {},
     "output_type": "execute_result"
    }
   ],
   "source": [
    "b.a"
   ]
  },
  {
   "cell_type": "code",
   "execution_count": 11,
   "id": "b785ab72",
   "metadata": {
    "execution": {
     "iopub.execute_input": "2023-02-26T05:57:04.709433Z",
     "iopub.status.busy": "2023-02-26T05:57:04.708809Z",
     "iopub.status.idle": "2023-02-26T05:57:09.393103Z",
     "shell.execute_reply": "2023-02-26T05:57:09.392331Z"
    }
   },
   "outputs": [
    {
     "name": "stdout",
     "output_type": "stream",
     "text": [
      "57.5 ns ± 0.0266 ns per loop (mean ± std. dev. of 7 runs, 10,000,000 loops each)\n"
     ]
    }
   ],
   "source": [
    "%timeit b.a"
   ]
  },
  {
   "cell_type": "code",
   "execution_count": 12,
   "id": "ad54dc69",
   "metadata": {
    "execution": {
     "iopub.execute_input": "2023-02-26T05:57:09.396025Z",
     "iopub.status.busy": "2023-02-26T05:57:09.395511Z",
     "iopub.status.idle": "2023-02-26T05:57:09.401195Z",
     "shell.execute_reply": "2023-02-26T05:57:09.400562Z"
    }
   },
   "outputs": [
    {
     "data": {
      "text/plain": [
       "Batch(\n",
       "    a: tensor([[-0.8445, -1.0724,  1.2476],\n",
       "               [ 0.8036, -0.7160,  0.3466]]),\n",
       "    x: Batch(\n",
       "           c: tensor([[-0.0258, -0.6893, -0.3963,  1.9491],\n",
       "                      [ 1.5039, -0.8793,  0.3076, -0.6039],\n",
       "                      [-1.3072, -0.2627,  0.5228, -0.7813]]),\n",
       "       ),\n",
       ")"
      ]
     },
     "execution_count": 12,
     "metadata": {},
     "output_type": "execute_result"
    }
   ],
   "source": [
    "new_value = torch.randn(2, 3)\n",
    "b.a = new_value\n",
    "\n",
    "b"
   ]
  },
  {
   "cell_type": "code",
   "execution_count": 13,
   "id": "29b1d0bf",
   "metadata": {
    "execution": {
     "iopub.execute_input": "2023-02-26T05:57:09.403649Z",
     "iopub.status.busy": "2023-02-26T05:57:09.403149Z",
     "iopub.status.idle": "2023-02-26T05:57:13.276004Z",
     "shell.execute_reply": "2023-02-26T05:57:13.275282Z"
    }
   },
   "outputs": [
    {
     "name": "stdout",
     "output_type": "stream",
     "text": [
      "477 ns ± 0.117 ns per loop (mean ± std. dev. of 7 runs, 1,000,000 loops each)\n"
     ]
    }
   ],
   "source": [
    "%timeit b.a = new_value"
   ]
  },
  {
   "cell_type": "markdown",
   "id": "b61ad1d0",
   "metadata": {},
   "source": [
    "## Initialization"
   ]
  },
  {
   "cell_type": "markdown",
   "id": "d70f0d54",
   "metadata": {},
   "source": [
    "### TreeValue's Initialization"
   ]
  },
  {
   "cell_type": "code",
   "execution_count": 14,
   "id": "d32a679b",
   "metadata": {
    "execution": {
     "iopub.execute_input": "2023-02-26T05:57:13.278973Z",
     "iopub.status.busy": "2023-02-26T05:57:13.278430Z",
     "iopub.status.idle": "2023-02-26T05:57:20.306887Z",
     "shell.execute_reply": "2023-02-26T05:57:20.306162Z"
    }
   },
   "outputs": [
    {
     "name": "stdout",
     "output_type": "stream",
     "text": [
      "866 ns ± 0.436 ns per loop (mean ± std. dev. of 7 runs, 1,000,000 loops each)\n"
     ]
    }
   ],
   "source": [
    "%timeit FastTreeValue(_TREE_DATA_1)"
   ]
  },
  {
   "cell_type": "markdown",
   "id": "24f3707b",
   "metadata": {},
   "source": [
    "### Tianshou Batch's Initialization"
   ]
  },
  {
   "cell_type": "code",
   "execution_count": 15,
   "id": "ac3958df",
   "metadata": {
    "execution": {
     "iopub.execute_input": "2023-02-26T05:57:20.310096Z",
     "iopub.status.busy": "2023-02-26T05:57:20.309504Z",
     "iopub.status.idle": "2023-02-26T05:57:29.672635Z",
     "shell.execute_reply": "2023-02-26T05:57:29.671981Z"
    }
   },
   "outputs": [
    {
     "name": "stdout",
     "output_type": "stream",
     "text": [
      "11.5 µs ± 19.3 ns per loop (mean ± std. dev. of 7 runs, 100,000 loops each)\n"
     ]
    }
   ],
   "source": [
    "%timeit Batch(**_TREE_DATA_1)"
   ]
  },
  {
   "cell_type": "markdown",
   "id": "1ab82e2d",
   "metadata": {},
   "source": [
    "## Deep Copy Operation"
   ]
  },
  {
   "cell_type": "code",
   "execution_count": 16,
   "id": "210a9442",
   "metadata": {
    "execution": {
     "iopub.execute_input": "2023-02-26T05:57:29.675761Z",
     "iopub.status.busy": "2023-02-26T05:57:29.675214Z",
     "iopub.status.idle": "2023-02-26T05:57:29.678743Z",
     "shell.execute_reply": "2023-02-26T05:57:29.678160Z"
    }
   },
   "outputs": [],
   "source": [
    "import copy"
   ]
  },
  {
   "cell_type": "markdown",
   "id": "5a736274",
   "metadata": {},
   "source": [
    "### Deep Copy of TreeValue"
   ]
  },
  {
   "cell_type": "code",
   "execution_count": 17,
   "id": "f9bcadd6",
   "metadata": {
    "execution": {
     "iopub.execute_input": "2023-02-26T05:57:29.681356Z",
     "iopub.status.busy": "2023-02-26T05:57:29.681043Z",
     "iopub.status.idle": "2023-02-26T05:57:40.497463Z",
     "shell.execute_reply": "2023-02-26T05:57:40.496776Z"
    }
   },
   "outputs": [
    {
     "name": "stdout",
     "output_type": "stream",
     "text": [
      "133 µs ± 204 ns per loop (mean ± std. dev. of 7 runs, 10,000 loops each)\n"
     ]
    }
   ],
   "source": [
    "t3 = FastTreeValue(_TREE_DATA_3)\n",
    "%timeit copy.deepcopy(t3)"
   ]
  },
  {
   "cell_type": "markdown",
   "id": "bf8be7ea",
   "metadata": {},
   "source": [
    "### Deep Copy of Tianshou Batch"
   ]
  },
  {
   "cell_type": "code",
   "execution_count": 18,
   "id": "91998e6f",
   "metadata": {
    "execution": {
     "iopub.execute_input": "2023-02-26T05:57:40.501135Z",
     "iopub.status.busy": "2023-02-26T05:57:40.500305Z",
     "iopub.status.idle": "2023-02-26T05:57:51.719489Z",
     "shell.execute_reply": "2023-02-26T05:57:51.718765Z"
    }
   },
   "outputs": [
    {
     "name": "stdout",
     "output_type": "stream",
     "text": [
      "138 µs ± 200 ns per loop (mean ± std. dev. of 7 runs, 10,000 loops each)\n"
     ]
    }
   ],
   "source": [
    "b3 = Batch(**_TREE_DATA_3)\n",
    "%timeit copy.deepcopy(b3)"
   ]
  },
  {
   "cell_type": "markdown",
   "id": "223162fb",
   "metadata": {},
   "source": [
    "## Stack, Concat and Split Operation"
   ]
  },
  {
   "cell_type": "markdown",
   "id": "85fa4a73",
   "metadata": {},
   "source": [
    "### Performance of TreeValue"
   ]
  },
  {
   "cell_type": "code",
   "execution_count": 19,
   "id": "a0c2b697",
   "metadata": {
    "execution": {
     "iopub.execute_input": "2023-02-26T05:57:51.722804Z",
     "iopub.status.busy": "2023-02-26T05:57:51.722442Z",
     "iopub.status.idle": "2023-02-26T05:57:51.726313Z",
     "shell.execute_reply": "2023-02-26T05:57:51.725751Z"
    }
   },
   "outputs": [],
   "source": [
    "trees = [FastTreeValue(_TREE_DATA_2) for _ in range(8)]"
   ]
  },
  {
   "cell_type": "code",
   "execution_count": 20,
   "id": "017ea5a5",
   "metadata": {
    "execution": {
     "iopub.execute_input": "2023-02-26T05:57:51.728803Z",
     "iopub.status.busy": "2023-02-26T05:57:51.728452Z",
     "iopub.status.idle": "2023-02-26T05:57:51.735195Z",
     "shell.execute_reply": "2023-02-26T05:57:51.734687Z"
    }
   },
   "outputs": [
    {
     "data": {
      "text/plain": [
       "<FastTreeValue 0x7f1100c12250>\n",
       "├── 'a' --> tensor([[[-0.1379,  0.0042,  0.1328],\n",
       "│                    [-0.5109,  0.0227, -0.7358]],\n",
       "│           \n",
       "│                   [[-0.1379,  0.0042,  0.1328],\n",
       "│                    [-0.5109,  0.0227, -0.7358]],\n",
       "│           \n",
       "│                   [[-0.1379,  0.0042,  0.1328],\n",
       "│                    [-0.5109,  0.0227, -0.7358]],\n",
       "│           \n",
       "│                   [[-0.1379,  0.0042,  0.1328],\n",
       "│                    [-0.5109,  0.0227, -0.7358]],\n",
       "│           \n",
       "│                   [[-0.1379,  0.0042,  0.1328],\n",
       "│                    [-0.5109,  0.0227, -0.7358]],\n",
       "│           \n",
       "│                   [[-0.1379,  0.0042,  0.1328],\n",
       "│                    [-0.5109,  0.0227, -0.7358]],\n",
       "│           \n",
       "│                   [[-0.1379,  0.0042,  0.1328],\n",
       "│                    [-0.5109,  0.0227, -0.7358]],\n",
       "│           \n",
       "│                   [[-0.1379,  0.0042,  0.1328],\n",
       "│                    [-0.5109,  0.0227, -0.7358]]])\n",
       "└── 'x' --> <FastTreeValue 0x7f1100c122e0>\n",
       "    └── 'c' --> tensor([[[-0.0258, -0.6893, -0.3963,  1.9491],\n",
       "                         [ 1.5039, -0.8793,  0.3076, -0.6039],\n",
       "                         [-1.3072, -0.2627,  0.5228, -0.7813]],\n",
       "                \n",
       "                        [[-0.0258, -0.6893, -0.3963,  1.9491],\n",
       "                         [ 1.5039, -0.8793,  0.3076, -0.6039],\n",
       "                         [-1.3072, -0.2627,  0.5228, -0.7813]],\n",
       "                \n",
       "                        [[-0.0258, -0.6893, -0.3963,  1.9491],\n",
       "                         [ 1.5039, -0.8793,  0.3076, -0.6039],\n",
       "                         [-1.3072, -0.2627,  0.5228, -0.7813]],\n",
       "                \n",
       "                        [[-0.0258, -0.6893, -0.3963,  1.9491],\n",
       "                         [ 1.5039, -0.8793,  0.3076, -0.6039],\n",
       "                         [-1.3072, -0.2627,  0.5228, -0.7813]],\n",
       "                \n",
       "                        [[-0.0258, -0.6893, -0.3963,  1.9491],\n",
       "                         [ 1.5039, -0.8793,  0.3076, -0.6039],\n",
       "                         [-1.3072, -0.2627,  0.5228, -0.7813]],\n",
       "                \n",
       "                        [[-0.0258, -0.6893, -0.3963,  1.9491],\n",
       "                         [ 1.5039, -0.8793,  0.3076, -0.6039],\n",
       "                         [-1.3072, -0.2627,  0.5228, -0.7813]],\n",
       "                \n",
       "                        [[-0.0258, -0.6893, -0.3963,  1.9491],\n",
       "                         [ 1.5039, -0.8793,  0.3076, -0.6039],\n",
       "                         [-1.3072, -0.2627,  0.5228, -0.7813]],\n",
       "                \n",
       "                        [[-0.0258, -0.6893, -0.3963,  1.9491],\n",
       "                         [ 1.5039, -0.8793,  0.3076, -0.6039],\n",
       "                         [-1.3072, -0.2627,  0.5228, -0.7813]]])"
      ]
     },
     "execution_count": 20,
     "metadata": {},
     "output_type": "execute_result"
    }
   ],
   "source": [
    "t_stack = FastTreeValue.func(subside=True)(torch.stack)\n",
    "\n",
    "t_stack(trees)"
   ]
  },
  {
   "cell_type": "code",
   "execution_count": 21,
   "id": "f8b3f415",
   "metadata": {
    "execution": {
     "iopub.execute_input": "2023-02-26T05:57:51.737617Z",
     "iopub.status.busy": "2023-02-26T05:57:51.737263Z",
     "iopub.status.idle": "2023-02-26T05:57:54.325783Z",
     "shell.execute_reply": "2023-02-26T05:57:54.324766Z"
    }
   },
   "outputs": [
    {
     "name": "stdout",
     "output_type": "stream",
     "text": [
      "31.9 µs ± 24.9 ns per loop (mean ± std. dev. of 7 runs, 10,000 loops each)\n"
     ]
    }
   ],
   "source": [
    "%timeit t_stack(trees)"
   ]
  },
  {
   "cell_type": "code",
   "execution_count": 22,
   "id": "94b56771",
   "metadata": {
    "execution": {
     "iopub.execute_input": "2023-02-26T05:57:54.328677Z",
     "iopub.status.busy": "2023-02-26T05:57:54.328327Z",
     "iopub.status.idle": "2023-02-26T05:57:54.336272Z",
     "shell.execute_reply": "2023-02-26T05:57:54.335692Z"
    }
   },
   "outputs": [
    {
     "data": {
      "text/plain": [
       "<FastTreeValue 0x7f10568c0fa0>\n",
       "├── 'a' --> tensor([[-0.1379,  0.0042,  0.1328],\n",
       "│                   [-0.5109,  0.0227, -0.7358],\n",
       "│                   [-0.1379,  0.0042,  0.1328],\n",
       "│                   [-0.5109,  0.0227, -0.7358],\n",
       "│                   [-0.1379,  0.0042,  0.1328],\n",
       "│                   [-0.5109,  0.0227, -0.7358],\n",
       "│                   [-0.1379,  0.0042,  0.1328],\n",
       "│                   [-0.5109,  0.0227, -0.7358],\n",
       "│                   [-0.1379,  0.0042,  0.1328],\n",
       "│                   [-0.5109,  0.0227, -0.7358],\n",
       "│                   [-0.1379,  0.0042,  0.1328],\n",
       "│                   [-0.5109,  0.0227, -0.7358],\n",
       "│                   [-0.1379,  0.0042,  0.1328],\n",
       "│                   [-0.5109,  0.0227, -0.7358],\n",
       "│                   [-0.1379,  0.0042,  0.1328],\n",
       "│                   [-0.5109,  0.0227, -0.7358]])\n",
       "└── 'x' --> <FastTreeValue 0x7f1100c8c970>\n",
       "    └── 'c' --> tensor([[-0.0258, -0.6893, -0.3963,  1.9491],\n",
       "                        [ 1.5039, -0.8793,  0.3076, -0.6039],\n",
       "                        [-1.3072, -0.2627,  0.5228, -0.7813],\n",
       "                        [-0.0258, -0.6893, -0.3963,  1.9491],\n",
       "                        [ 1.5039, -0.8793,  0.3076, -0.6039],\n",
       "                        [-1.3072, -0.2627,  0.5228, -0.7813],\n",
       "                        [-0.0258, -0.6893, -0.3963,  1.9491],\n",
       "                        [ 1.5039, -0.8793,  0.3076, -0.6039],\n",
       "                        [-1.3072, -0.2627,  0.5228, -0.7813],\n",
       "                        [-0.0258, -0.6893, -0.3963,  1.9491],\n",
       "                        [ 1.5039, -0.8793,  0.3076, -0.6039],\n",
       "                        [-1.3072, -0.2627,  0.5228, -0.7813],\n",
       "                        [-0.0258, -0.6893, -0.3963,  1.9491],\n",
       "                        [ 1.5039, -0.8793,  0.3076, -0.6039],\n",
       "                        [-1.3072, -0.2627,  0.5228, -0.7813],\n",
       "                        [-0.0258, -0.6893, -0.3963,  1.9491],\n",
       "                        [ 1.5039, -0.8793,  0.3076, -0.6039],\n",
       "                        [-1.3072, -0.2627,  0.5228, -0.7813],\n",
       "                        [-0.0258, -0.6893, -0.3963,  1.9491],\n",
       "                        [ 1.5039, -0.8793,  0.3076, -0.6039],\n",
       "                        [-1.3072, -0.2627,  0.5228, -0.7813],\n",
       "                        [-0.0258, -0.6893, -0.3963,  1.9491],\n",
       "                        [ 1.5039, -0.8793,  0.3076, -0.6039],\n",
       "                        [-1.3072, -0.2627,  0.5228, -0.7813]])"
      ]
     },
     "execution_count": 22,
     "metadata": {},
     "output_type": "execute_result"
    }
   ],
   "source": [
    "t_cat = FastTreeValue.func(subside=True)(torch.cat)\n",
    "\n",
    "t_cat(trees)"
   ]
  },
  {
   "cell_type": "code",
   "execution_count": 23,
   "id": "5e9c06a6",
   "metadata": {
    "execution": {
     "iopub.execute_input": "2023-02-26T05:57:54.338599Z",
     "iopub.status.busy": "2023-02-26T05:57:54.338260Z",
     "iopub.status.idle": "2023-02-26T05:57:56.737364Z",
     "shell.execute_reply": "2023-02-26T05:57:56.736584Z"
    }
   },
   "outputs": [
    {
     "name": "stdout",
     "output_type": "stream",
     "text": [
      "29.5 µs ± 29 ns per loop (mean ± std. dev. of 7 runs, 10,000 loops each)\n"
     ]
    }
   ],
   "source": [
    "%timeit t_cat(trees)"
   ]
  },
  {
   "cell_type": "code",
   "execution_count": 24,
   "id": "a3ab5c8f",
   "metadata": {
    "execution": {
     "iopub.execute_input": "2023-02-26T05:57:56.740506Z",
     "iopub.status.busy": "2023-02-26T05:57:56.739993Z",
     "iopub.status.idle": "2023-02-26T05:58:01.528602Z",
     "shell.execute_reply": "2023-02-26T05:58:01.527846Z"
    }
   },
   "outputs": [
    {
     "name": "stdout",
     "output_type": "stream",
     "text": [
      "58.9 µs ± 245 ns per loop (mean ± std. dev. of 7 runs, 10,000 loops each)\n"
     ]
    }
   ],
   "source": [
    "t_split = FastTreeValue.func(rise=True)(torch.split)\n",
    "tree = FastTreeValue({\n",
    "    'obs': torch.randn(8, 4, 84, 84),\n",
    "    'action': torch.randint(0, 6, size=(8, 1,)),\n",
    "    'reward': torch.rand(8, 1),\n",
    "})\n",
    "\n",
    "%timeit t_split(tree, 1)"
   ]
  },
  {
   "cell_type": "markdown",
   "id": "31c3ec0b",
   "metadata": {},
   "source": [
    "### Performance of Tianshou Batch"
   ]
  },
  {
   "cell_type": "code",
   "execution_count": 25,
   "id": "9ead828a",
   "metadata": {
    "execution": {
     "iopub.execute_input": "2023-02-26T05:58:01.531859Z",
     "iopub.status.busy": "2023-02-26T05:58:01.531270Z",
     "iopub.status.idle": "2023-02-26T05:58:01.539120Z",
     "shell.execute_reply": "2023-02-26T05:58:01.538516Z"
    }
   },
   "outputs": [
    {
     "data": {
      "text/plain": [
       "Batch(\n",
       "    x: Batch(\n",
       "           c: tensor([[[-0.0258, -0.6893, -0.3963,  1.9491],\n",
       "                       [ 1.5039, -0.8793,  0.3076, -0.6039],\n",
       "                       [-1.3072, -0.2627,  0.5228, -0.7813]],\n",
       "              \n",
       "                      [[-0.0258, -0.6893, -0.3963,  1.9491],\n",
       "                       [ 1.5039, -0.8793,  0.3076, -0.6039],\n",
       "                       [-1.3072, -0.2627,  0.5228, -0.7813]],\n",
       "              \n",
       "                      [[-0.0258, -0.6893, -0.3963,  1.9491],\n",
       "                       [ 1.5039, -0.8793,  0.3076, -0.6039],\n",
       "                       [-1.3072, -0.2627,  0.5228, -0.7813]],\n",
       "              \n",
       "                      [[-0.0258, -0.6893, -0.3963,  1.9491],\n",
       "                       [ 1.5039, -0.8793,  0.3076, -0.6039],\n",
       "                       [-1.3072, -0.2627,  0.5228, -0.7813]],\n",
       "              \n",
       "                      [[-0.0258, -0.6893, -0.3963,  1.9491],\n",
       "                       [ 1.5039, -0.8793,  0.3076, -0.6039],\n",
       "                       [-1.3072, -0.2627,  0.5228, -0.7813]],\n",
       "              \n",
       "                      [[-0.0258, -0.6893, -0.3963,  1.9491],\n",
       "                       [ 1.5039, -0.8793,  0.3076, -0.6039],\n",
       "                       [-1.3072, -0.2627,  0.5228, -0.7813]],\n",
       "              \n",
       "                      [[-0.0258, -0.6893, -0.3963,  1.9491],\n",
       "                       [ 1.5039, -0.8793,  0.3076, -0.6039],\n",
       "                       [-1.3072, -0.2627,  0.5228, -0.7813]],\n",
       "              \n",
       "                      [[-0.0258, -0.6893, -0.3963,  1.9491],\n",
       "                       [ 1.5039, -0.8793,  0.3076, -0.6039],\n",
       "                       [-1.3072, -0.2627,  0.5228, -0.7813]]]),\n",
       "       ),\n",
       "    a: tensor([[[-0.1379,  0.0042,  0.1328],\n",
       "                [-0.5109,  0.0227, -0.7358]],\n",
       "       \n",
       "               [[-0.1379,  0.0042,  0.1328],\n",
       "                [-0.5109,  0.0227, -0.7358]],\n",
       "       \n",
       "               [[-0.1379,  0.0042,  0.1328],\n",
       "                [-0.5109,  0.0227, -0.7358]],\n",
       "       \n",
       "               [[-0.1379,  0.0042,  0.1328],\n",
       "                [-0.5109,  0.0227, -0.7358]],\n",
       "       \n",
       "               [[-0.1379,  0.0042,  0.1328],\n",
       "                [-0.5109,  0.0227, -0.7358]],\n",
       "       \n",
       "               [[-0.1379,  0.0042,  0.1328],\n",
       "                [-0.5109,  0.0227, -0.7358]],\n",
       "       \n",
       "               [[-0.1379,  0.0042,  0.1328],\n",
       "                [-0.5109,  0.0227, -0.7358]],\n",
       "       \n",
       "               [[-0.1379,  0.0042,  0.1328],\n",
       "                [-0.5109,  0.0227, -0.7358]]]),\n",
       ")"
      ]
     },
     "execution_count": 25,
     "metadata": {},
     "output_type": "execute_result"
    }
   ],
   "source": [
    "batches = [Batch(**_TREE_DATA_2) for _ in range(8)]\n",
    "\n",
    "Batch.stack(batches)"
   ]
  },
  {
   "cell_type": "code",
   "execution_count": 26,
   "id": "ec9037a3",
   "metadata": {
    "execution": {
     "iopub.execute_input": "2023-02-26T05:58:01.541553Z",
     "iopub.status.busy": "2023-02-26T05:58:01.541203Z",
     "iopub.status.idle": "2023-02-26T05:58:07.802420Z",
     "shell.execute_reply": "2023-02-26T05:58:07.801729Z"
    }
   },
   "outputs": [
    {
     "name": "stdout",
     "output_type": "stream",
     "text": [
      "77 µs ± 199 ns per loop (mean ± std. dev. of 7 runs, 10,000 loops each)\n"
     ]
    }
   ],
   "source": [
    "%timeit Batch.stack(batches)"
   ]
  },
  {
   "cell_type": "code",
   "execution_count": 27,
   "id": "cb8ab77e",
   "metadata": {
    "execution": {
     "iopub.execute_input": "2023-02-26T05:58:07.805281Z",
     "iopub.status.busy": "2023-02-26T05:58:07.804830Z",
     "iopub.status.idle": "2023-02-26T05:58:07.812266Z",
     "shell.execute_reply": "2023-02-26T05:58:07.811663Z"
    }
   },
   "outputs": [
    {
     "data": {
      "text/plain": [
       "Batch(\n",
       "    x: Batch(\n",
       "           c: tensor([[-0.0258, -0.6893, -0.3963,  1.9491],\n",
       "                      [ 1.5039, -0.8793,  0.3076, -0.6039],\n",
       "                      [-1.3072, -0.2627,  0.5228, -0.7813],\n",
       "                      [-0.0258, -0.6893, -0.3963,  1.9491],\n",
       "                      [ 1.5039, -0.8793,  0.3076, -0.6039],\n",
       "                      [-1.3072, -0.2627,  0.5228, -0.7813],\n",
       "                      [-0.0258, -0.6893, -0.3963,  1.9491],\n",
       "                      [ 1.5039, -0.8793,  0.3076, -0.6039],\n",
       "                      [-1.3072, -0.2627,  0.5228, -0.7813],\n",
       "                      [-0.0258, -0.6893, -0.3963,  1.9491],\n",
       "                      [ 1.5039, -0.8793,  0.3076, -0.6039],\n",
       "                      [-1.3072, -0.2627,  0.5228, -0.7813],\n",
       "                      [-0.0258, -0.6893, -0.3963,  1.9491],\n",
       "                      [ 1.5039, -0.8793,  0.3076, -0.6039],\n",
       "                      [-1.3072, -0.2627,  0.5228, -0.7813],\n",
       "                      [-0.0258, -0.6893, -0.3963,  1.9491],\n",
       "                      [ 1.5039, -0.8793,  0.3076, -0.6039],\n",
       "                      [-1.3072, -0.2627,  0.5228, -0.7813],\n",
       "                      [-0.0258, -0.6893, -0.3963,  1.9491],\n",
       "                      [ 1.5039, -0.8793,  0.3076, -0.6039],\n",
       "                      [-1.3072, -0.2627,  0.5228, -0.7813],\n",
       "                      [-0.0258, -0.6893, -0.3963,  1.9491],\n",
       "                      [ 1.5039, -0.8793,  0.3076, -0.6039],\n",
       "                      [-1.3072, -0.2627,  0.5228, -0.7813]]),\n",
       "       ),\n",
       "    a: tensor([[-0.1379,  0.0042,  0.1328],\n",
       "               [-0.5109,  0.0227, -0.7358],\n",
       "               [-0.1379,  0.0042,  0.1328],\n",
       "               [-0.5109,  0.0227, -0.7358],\n",
       "               [-0.1379,  0.0042,  0.1328],\n",
       "               [-0.5109,  0.0227, -0.7358],\n",
       "               [-0.1379,  0.0042,  0.1328],\n",
       "               [-0.5109,  0.0227, -0.7358],\n",
       "               [-0.1379,  0.0042,  0.1328],\n",
       "               [-0.5109,  0.0227, -0.7358],\n",
       "               [-0.1379,  0.0042,  0.1328],\n",
       "               [-0.5109,  0.0227, -0.7358],\n",
       "               [-0.1379,  0.0042,  0.1328],\n",
       "               [-0.5109,  0.0227, -0.7358],\n",
       "               [-0.1379,  0.0042,  0.1328],\n",
       "               [-0.5109,  0.0227, -0.7358]]),\n",
       ")"
      ]
     },
     "execution_count": 27,
     "metadata": {},
     "output_type": "execute_result"
    }
   ],
   "source": [
    "Batch.cat(batches)"
   ]
  },
  {
   "cell_type": "code",
   "execution_count": 28,
   "id": "18dfb045",
   "metadata": {
    "execution": {
     "iopub.execute_input": "2023-02-26T05:58:07.814848Z",
     "iopub.status.busy": "2023-02-26T05:58:07.814627Z",
     "iopub.status.idle": "2023-02-26T05:58:19.418263Z",
     "shell.execute_reply": "2023-02-26T05:58:19.417582Z"
    }
   },
   "outputs": [
    {
     "name": "stdout",
     "output_type": "stream",
     "text": [
      "143 µs ± 119 ns per loop (mean ± std. dev. of 7 runs, 10,000 loops each)\n"
     ]
    }
   ],
   "source": [
    "%timeit Batch.cat(batches)"
   ]
  },
  {
   "cell_type": "code",
   "execution_count": 29,
   "id": "c6688e51",
   "metadata": {
    "execution": {
     "iopub.execute_input": "2023-02-26T05:58:19.421490Z",
     "iopub.status.busy": "2023-02-26T05:58:19.420924Z",
     "iopub.status.idle": "2023-02-26T05:58:21.893846Z",
     "shell.execute_reply": "2023-02-26T05:58:21.893004Z"
    }
   },
   "outputs": [
    {
     "name": "stdout",
     "output_type": "stream",
     "text": [
      "303 µs ± 1.07 µs per loop (mean ± std. dev. of 7 runs, 1,000 loops each)\n"
     ]
    }
   ],
   "source": [
    "batch = Batch({\n",
    "    'obs': torch.randn(8, 4, 84, 84),\n",
    "    'action': torch.randint(0, 6, size=(8, 1,)),\n",
    "    'reward': torch.rand(8, 1)}\n",
    ")\n",
    "\n",
    "%timeit list(Batch.split(batch, 1, shuffle=False, merge_last=True))"
   ]
  },
  {
   "cell_type": "code",
   "execution_count": null,
   "id": "2539fbd9",
   "metadata": {},
   "outputs": [],
   "source": []
  }
 ],
 "metadata": {
  "kernelspec": {
   "display_name": "Python 3 (ipykernel)",
   "language": "python",
   "name": "python3"
  },
  "language_info": {
   "codemirror_mode": {
    "name": "ipython",
    "version": 3
   },
   "file_extension": ".py",
   "mimetype": "text/x-python",
   "name": "python",
   "nbconvert_exporter": "python",
   "pygments_lexer": "ipython3",
   "version": "3.8.16"
  }
 },
 "nbformat": 4,
 "nbformat_minor": 5
}
