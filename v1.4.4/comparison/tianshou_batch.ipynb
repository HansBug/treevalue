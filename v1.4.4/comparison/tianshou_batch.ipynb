{
 "cells": [
  {
   "cell_type": "markdown",
   "id": "9d39d946",
   "metadata": {},
   "source": [
    "# Comparison Between TreeValue and Tianshou Batch"
   ]
  },
  {
   "cell_type": "markdown",
   "id": "3c6db2d4",
   "metadata": {},
   "source": [
    "In this section, we will take a look at the feature and performance of the [Tianshou Batch](https://github.com/thu-ml/tianshou) library, which is developed by Tsinghua Machine Learning Group."
   ]
  },
  {
   "cell_type": "markdown",
   "id": "069361b0",
   "metadata": {},
   "source": [
    "Before starting the comparison, let us define some thing."
   ]
  },
  {
   "cell_type": "code",
   "execution_count": 1,
   "id": "06fc8d26",
   "metadata": {
    "execution": {
     "iopub.execute_input": "2023-02-27T12:23:46.823660Z",
     "iopub.status.busy": "2023-02-27T12:23:46.823146Z",
     "iopub.status.idle": "2023-02-27T12:23:47.725948Z",
     "shell.execute_reply": "2023-02-27T12:23:47.724903Z"
    }
   },
   "outputs": [
    {
     "name": "stderr",
     "output_type": "stream",
     "text": [
      "/opt/hostedtoolcache/Python/3.8.16/x64/lib/python3.8/site-packages/tqdm/auto.py:22: TqdmWarning: IProgress not found. Please update jupyter and ipywidgets. See https://ipywidgets.readthedocs.io/en/stable/user_install.html\n",
      "  from .autonotebook import tqdm as notebook_tqdm\n"
     ]
    }
   ],
   "source": [
    "import torch \n",
    "\n",
    "_TREE_DATA_1 = {'a': 1, 'b': 2, 'x': {'c': 3, 'd': 4}}\n",
    "_TREE_DATA_2 = {\n",
    "    'a': torch.randn(2, 3), \n",
    "    'x': {\n",
    "        'c': torch.randn(3, 4)\n",
    "    },\n",
    "}\n",
    "_TREE_DATA_3 = {\n",
    "    'obs': torch.randn(4, 84, 84),\n",
    "    'action': torch.randint(0, 6, size=(1,)),\n",
    "    'reward': torch.rand(1),\n",
    "}"
   ]
  },
  {
   "cell_type": "markdown",
   "id": "83461b25",
   "metadata": {},
   "source": [
    "## Read and Write Operation"
   ]
  },
  {
   "cell_type": "markdown",
   "id": "067b3f73",
   "metadata": {},
   "source": [
    "Reading and writing are the two most common operations in the tree data structure based on the data model (TreeValue and Tianshou Batch both belong to this type), so this section will compare the reading and writing performance of these two libraries."
   ]
  },
  {
   "cell_type": "markdown",
   "id": "5d09a5b7",
   "metadata": {},
   "source": [
    "### TreeValue's Get and Set"
   ]
  },
  {
   "cell_type": "code",
   "execution_count": 2,
   "id": "9519c4bb",
   "metadata": {
    "execution": {
     "iopub.execute_input": "2023-02-27T12:23:47.729418Z",
     "iopub.status.busy": "2023-02-27T12:23:47.728836Z",
     "iopub.status.idle": "2023-02-27T12:23:48.005462Z",
     "shell.execute_reply": "2023-02-27T12:23:48.004771Z"
    }
   },
   "outputs": [],
   "source": [
    "from treevalue import FastTreeValue\n",
    "\n",
    "t = FastTreeValue(_TREE_DATA_2)"
   ]
  },
  {
   "cell_type": "code",
   "execution_count": 3,
   "id": "11c37677",
   "metadata": {
    "execution": {
     "iopub.execute_input": "2023-02-27T12:23:48.008661Z",
     "iopub.status.busy": "2023-02-27T12:23:48.008074Z",
     "iopub.status.idle": "2023-02-27T12:23:48.017337Z",
     "shell.execute_reply": "2023-02-27T12:23:48.016752Z"
    }
   },
   "outputs": [
    {
     "data": {
      "text/plain": [
       "<FastTreeValue 0x7fbda07df8b0>\n",
       "├── 'a' --> tensor([[ 0.9775,  2.1718, -0.3166],\n",
       "│                   [ 0.4725,  1.0343, -2.0935]])\n",
       "└── 'x' --> <FastTreeValue 0x7fbda07dff10>\n",
       "    └── 'c' --> tensor([[-0.4939,  1.8626,  0.4502, -0.3357],\n",
       "                        [ 1.0979,  0.3314, -0.3358, -2.0419],\n",
       "                        [ 1.5391, -0.4301,  0.7156, -1.0900]])"
      ]
     },
     "execution_count": 3,
     "metadata": {},
     "output_type": "execute_result"
    }
   ],
   "source": [
    "t"
   ]
  },
  {
   "cell_type": "code",
   "execution_count": 4,
   "id": "fd70b0b9",
   "metadata": {
    "execution": {
     "iopub.execute_input": "2023-02-27T12:23:48.019907Z",
     "iopub.status.busy": "2023-02-27T12:23:48.019406Z",
     "iopub.status.idle": "2023-02-27T12:23:48.025056Z",
     "shell.execute_reply": "2023-02-27T12:23:48.024479Z"
    }
   },
   "outputs": [
    {
     "data": {
      "text/plain": [
       "tensor([[ 0.9775,  2.1718, -0.3166],\n",
       "        [ 0.4725,  1.0343, -2.0935]])"
      ]
     },
     "execution_count": 4,
     "metadata": {},
     "output_type": "execute_result"
    }
   ],
   "source": [
    "t.a"
   ]
  },
  {
   "cell_type": "code",
   "execution_count": 5,
   "id": "c18197bd",
   "metadata": {
    "execution": {
     "iopub.execute_input": "2023-02-27T12:23:48.027760Z",
     "iopub.status.busy": "2023-02-27T12:23:48.027295Z",
     "iopub.status.idle": "2023-02-27T12:23:53.110385Z",
     "shell.execute_reply": "2023-02-27T12:23:53.109663Z"
    }
   },
   "outputs": [
    {
     "name": "stdout",
     "output_type": "stream",
     "text": [
      "62.6 ns ± 0.0411 ns per loop (mean ± std. dev. of 7 runs, 10,000,000 loops each)\n"
     ]
    }
   ],
   "source": [
    "%timeit t.a"
   ]
  },
  {
   "cell_type": "code",
   "execution_count": 6,
   "id": "bd52f867",
   "metadata": {
    "execution": {
     "iopub.execute_input": "2023-02-27T12:23:53.113144Z",
     "iopub.status.busy": "2023-02-27T12:23:53.112801Z",
     "iopub.status.idle": "2023-02-27T12:23:53.119370Z",
     "shell.execute_reply": "2023-02-27T12:23:53.118758Z"
    }
   },
   "outputs": [
    {
     "data": {
      "text/plain": [
       "<FastTreeValue 0x7fbda07df8b0>\n",
       "├── 'a' --> tensor([[-0.7596, -2.9364, -0.6133],\n",
       "│                   [-1.1066, -1.2440, -0.8075]])\n",
       "└── 'x' --> <FastTreeValue 0x7fbda07dff10>\n",
       "    └── 'c' --> tensor([[-0.4939,  1.8626,  0.4502, -0.3357],\n",
       "                        [ 1.0979,  0.3314, -0.3358, -2.0419],\n",
       "                        [ 1.5391, -0.4301,  0.7156, -1.0900]])"
      ]
     },
     "execution_count": 6,
     "metadata": {},
     "output_type": "execute_result"
    }
   ],
   "source": [
    "new_value = torch.randn(2, 3)\n",
    "t.a = new_value\n",
    "\n",
    "t"
   ]
  },
  {
   "cell_type": "code",
   "execution_count": 7,
   "id": "bbe04d1c",
   "metadata": {
    "execution": {
     "iopub.execute_input": "2023-02-27T12:23:53.121964Z",
     "iopub.status.busy": "2023-02-27T12:23:53.121411Z",
     "iopub.status.idle": "2023-02-27T12:23:58.009156Z",
     "shell.execute_reply": "2023-02-27T12:23:58.008372Z"
    }
   },
   "outputs": [
    {
     "name": "stdout",
     "output_type": "stream",
     "text": [
      "60.2 ns ± 0.0449 ns per loop (mean ± std. dev. of 7 runs, 10,000,000 loops each)\n"
     ]
    }
   ],
   "source": [
    "%timeit t.a = new_value"
   ]
  },
  {
   "cell_type": "markdown",
   "id": "48c49731",
   "metadata": {},
   "source": [
    "### Tianshou Batch's Get and Set"
   ]
  },
  {
   "cell_type": "code",
   "execution_count": 8,
   "id": "f1bb14c1",
   "metadata": {
    "execution": {
     "iopub.execute_input": "2023-02-27T12:23:58.012399Z",
     "iopub.status.busy": "2023-02-27T12:23:58.011823Z",
     "iopub.status.idle": "2023-02-27T12:23:58.343774Z",
     "shell.execute_reply": "2023-02-27T12:23:58.343094Z"
    }
   },
   "outputs": [],
   "source": [
    "from tianshou.data import Batch\n",
    "\n",
    "b = Batch(**_TREE_DATA_2)"
   ]
  },
  {
   "cell_type": "code",
   "execution_count": 9,
   "id": "cb0777c3",
   "metadata": {
    "execution": {
     "iopub.execute_input": "2023-02-27T12:23:58.346727Z",
     "iopub.status.busy": "2023-02-27T12:23:58.346273Z",
     "iopub.status.idle": "2023-02-27T12:23:58.352637Z",
     "shell.execute_reply": "2023-02-27T12:23:58.352063Z"
    }
   },
   "outputs": [
    {
     "data": {
      "text/plain": [
       "Batch(\n",
       "    a: tensor([[ 0.9775,  2.1718, -0.3166],\n",
       "               [ 0.4725,  1.0343, -2.0935]]),\n",
       "    x: Batch(\n",
       "           c: tensor([[-0.4939,  1.8626,  0.4502, -0.3357],\n",
       "                      [ 1.0979,  0.3314, -0.3358, -2.0419],\n",
       "                      [ 1.5391, -0.4301,  0.7156, -1.0900]]),\n",
       "       ),\n",
       ")"
      ]
     },
     "execution_count": 9,
     "metadata": {},
     "output_type": "execute_result"
    }
   ],
   "source": [
    "b"
   ]
  },
  {
   "cell_type": "code",
   "execution_count": 10,
   "id": "43ef8ea3",
   "metadata": {
    "execution": {
     "iopub.execute_input": "2023-02-27T12:23:58.355035Z",
     "iopub.status.busy": "2023-02-27T12:23:58.354704Z",
     "iopub.status.idle": "2023-02-27T12:23:58.360150Z",
     "shell.execute_reply": "2023-02-27T12:23:58.359584Z"
    }
   },
   "outputs": [
    {
     "data": {
      "text/plain": [
       "tensor([[ 0.9775,  2.1718, -0.3166],\n",
       "        [ 0.4725,  1.0343, -2.0935]])"
      ]
     },
     "execution_count": 10,
     "metadata": {},
     "output_type": "execute_result"
    }
   ],
   "source": [
    "b.a"
   ]
  },
  {
   "cell_type": "code",
   "execution_count": 11,
   "id": "b785ab72",
   "metadata": {
    "execution": {
     "iopub.execute_input": "2023-02-27T12:23:58.362485Z",
     "iopub.status.busy": "2023-02-27T12:23:58.362147Z",
     "iopub.status.idle": "2023-02-27T12:24:02.872473Z",
     "shell.execute_reply": "2023-02-27T12:24:02.871735Z"
    }
   },
   "outputs": [
    {
     "name": "stdout",
     "output_type": "stream",
     "text": [
      "55.4 ns ± 0.0616 ns per loop (mean ± std. dev. of 7 runs, 10,000,000 loops each)\n"
     ]
    }
   ],
   "source": [
    "%timeit b.a"
   ]
  },
  {
   "cell_type": "code",
   "execution_count": 12,
   "id": "ad54dc69",
   "metadata": {
    "execution": {
     "iopub.execute_input": "2023-02-27T12:24:02.875695Z",
     "iopub.status.busy": "2023-02-27T12:24:02.875112Z",
     "iopub.status.idle": "2023-02-27T12:24:02.882399Z",
     "shell.execute_reply": "2023-02-27T12:24:02.881825Z"
    }
   },
   "outputs": [
    {
     "data": {
      "text/plain": [
       "Batch(\n",
       "    a: tensor([[-0.6320, -1.1212,  1.5461],\n",
       "               [-0.2327,  0.1174, -0.4067]]),\n",
       "    x: Batch(\n",
       "           c: tensor([[-0.4939,  1.8626,  0.4502, -0.3357],\n",
       "                      [ 1.0979,  0.3314, -0.3358, -2.0419],\n",
       "                      [ 1.5391, -0.4301,  0.7156, -1.0900]]),\n",
       "       ),\n",
       ")"
      ]
     },
     "execution_count": 12,
     "metadata": {},
     "output_type": "execute_result"
    }
   ],
   "source": [
    "new_value = torch.randn(2, 3)\n",
    "b.a = new_value\n",
    "\n",
    "b"
   ]
  },
  {
   "cell_type": "code",
   "execution_count": 13,
   "id": "29b1d0bf",
   "metadata": {
    "execution": {
     "iopub.execute_input": "2023-02-27T12:24:02.885207Z",
     "iopub.status.busy": "2023-02-27T12:24:02.884792Z",
     "iopub.status.idle": "2023-02-27T12:24:06.785956Z",
     "shell.execute_reply": "2023-02-27T12:24:06.785235Z"
    }
   },
   "outputs": [
    {
     "name": "stdout",
     "output_type": "stream",
     "text": [
      "480 ns ± 0.0905 ns per loop (mean ± std. dev. of 7 runs, 1,000,000 loops each)\n"
     ]
    }
   ],
   "source": [
    "%timeit b.a = new_value"
   ]
  },
  {
   "cell_type": "markdown",
   "id": "b61ad1d0",
   "metadata": {},
   "source": [
    "## Initialization"
   ]
  },
  {
   "cell_type": "markdown",
   "id": "d70f0d54",
   "metadata": {},
   "source": [
    "### TreeValue's Initialization"
   ]
  },
  {
   "cell_type": "code",
   "execution_count": 14,
   "id": "d32a679b",
   "metadata": {
    "execution": {
     "iopub.execute_input": "2023-02-27T12:24:06.788700Z",
     "iopub.status.busy": "2023-02-27T12:24:06.788347Z",
     "iopub.status.idle": "2023-02-27T12:24:13.583207Z",
     "shell.execute_reply": "2023-02-27T12:24:13.582533Z"
    }
   },
   "outputs": [
    {
     "name": "stdout",
     "output_type": "stream",
     "text": [
      "838 ns ± 0.954 ns per loop (mean ± std. dev. of 7 runs, 1,000,000 loops each)\n"
     ]
    }
   ],
   "source": [
    "%timeit FastTreeValue(_TREE_DATA_1)"
   ]
  },
  {
   "cell_type": "markdown",
   "id": "24f3707b",
   "metadata": {},
   "source": [
    "### Tianshou Batch's Initialization"
   ]
  },
  {
   "cell_type": "code",
   "execution_count": 15,
   "id": "ac3958df",
   "metadata": {
    "execution": {
     "iopub.execute_input": "2023-02-27T12:24:13.586062Z",
     "iopub.status.busy": "2023-02-27T12:24:13.585717Z",
     "iopub.status.idle": "2023-02-27T12:24:22.736786Z",
     "shell.execute_reply": "2023-02-27T12:24:22.736009Z"
    }
   },
   "outputs": [
    {
     "name": "stdout",
     "output_type": "stream",
     "text": [
      "11.3 µs ± 44.3 ns per loop (mean ± std. dev. of 7 runs, 100,000 loops each)\n"
     ]
    }
   ],
   "source": [
    "%timeit Batch(**_TREE_DATA_1)"
   ]
  },
  {
   "cell_type": "markdown",
   "id": "1ab82e2d",
   "metadata": {},
   "source": [
    "## Deep Copy Operation"
   ]
  },
  {
   "cell_type": "code",
   "execution_count": 16,
   "id": "210a9442",
   "metadata": {
    "execution": {
     "iopub.execute_input": "2023-02-27T12:24:22.739816Z",
     "iopub.status.busy": "2023-02-27T12:24:22.739461Z",
     "iopub.status.idle": "2023-02-27T12:24:22.743494Z",
     "shell.execute_reply": "2023-02-27T12:24:22.742909Z"
    }
   },
   "outputs": [],
   "source": [
    "import copy"
   ]
  },
  {
   "cell_type": "markdown",
   "id": "5a736274",
   "metadata": {},
   "source": [
    "### Deep Copy of TreeValue"
   ]
  },
  {
   "cell_type": "code",
   "execution_count": 17,
   "id": "f9bcadd6",
   "metadata": {
    "execution": {
     "iopub.execute_input": "2023-02-27T12:24:22.746383Z",
     "iopub.status.busy": "2023-02-27T12:24:22.745862Z",
     "iopub.status.idle": "2023-02-27T12:24:33.793212Z",
     "shell.execute_reply": "2023-02-27T12:24:33.792640Z"
    }
   },
   "outputs": [
    {
     "name": "stdout",
     "output_type": "stream",
     "text": [
      "136 µs ± 666 ns per loop (mean ± std. dev. of 7 runs, 10,000 loops each)\n"
     ]
    }
   ],
   "source": [
    "t3 = FastTreeValue(_TREE_DATA_3)\n",
    "%timeit copy.deepcopy(t3)"
   ]
  },
  {
   "cell_type": "markdown",
   "id": "bf8be7ea",
   "metadata": {},
   "source": [
    "### Deep Copy of Tianshou Batch"
   ]
  },
  {
   "cell_type": "code",
   "execution_count": 18,
   "id": "91998e6f",
   "metadata": {
    "execution": {
     "iopub.execute_input": "2023-02-27T12:24:33.795978Z",
     "iopub.status.busy": "2023-02-27T12:24:33.795625Z",
     "iopub.status.idle": "2023-02-27T12:24:44.946043Z",
     "shell.execute_reply": "2023-02-27T12:24:44.945481Z"
    }
   },
   "outputs": [
    {
     "name": "stdout",
     "output_type": "stream",
     "text": [
      "137 µs ± 496 ns per loop (mean ± std. dev. of 7 runs, 10,000 loops each)\n"
     ]
    }
   ],
   "source": [
    "b3 = Batch(**_TREE_DATA_3)\n",
    "%timeit copy.deepcopy(b3)"
   ]
  },
  {
   "cell_type": "markdown",
   "id": "223162fb",
   "metadata": {},
   "source": [
    "## Stack, Concat and Split Operation"
   ]
  },
  {
   "cell_type": "markdown",
   "id": "85fa4a73",
   "metadata": {},
   "source": [
    "### Performance of TreeValue"
   ]
  },
  {
   "cell_type": "code",
   "execution_count": 19,
   "id": "a0c2b697",
   "metadata": {
    "execution": {
     "iopub.execute_input": "2023-02-27T12:24:44.948821Z",
     "iopub.status.busy": "2023-02-27T12:24:44.948475Z",
     "iopub.status.idle": "2023-02-27T12:24:44.951587Z",
     "shell.execute_reply": "2023-02-27T12:24:44.951068Z"
    }
   },
   "outputs": [],
   "source": [
    "trees = [FastTreeValue(_TREE_DATA_2) for _ in range(8)]"
   ]
  },
  {
   "cell_type": "code",
   "execution_count": 20,
   "id": "017ea5a5",
   "metadata": {
    "execution": {
     "iopub.execute_input": "2023-02-27T12:24:44.954404Z",
     "iopub.status.busy": "2023-02-27T12:24:44.953469Z",
     "iopub.status.idle": "2023-02-27T12:24:44.960847Z",
     "shell.execute_reply": "2023-02-27T12:24:44.960342Z"
    }
   },
   "outputs": [
    {
     "data": {
      "text/plain": [
       "<FastTreeValue 0x7fbcf26d94f0>\n",
       "├── 'a' --> tensor([[[ 0.9775,  2.1718, -0.3166],\n",
       "│                    [ 0.4725,  1.0343, -2.0935]],\n",
       "│           \n",
       "│                   [[ 0.9775,  2.1718, -0.3166],\n",
       "│                    [ 0.4725,  1.0343, -2.0935]],\n",
       "│           \n",
       "│                   [[ 0.9775,  2.1718, -0.3166],\n",
       "│                    [ 0.4725,  1.0343, -2.0935]],\n",
       "│           \n",
       "│                   [[ 0.9775,  2.1718, -0.3166],\n",
       "│                    [ 0.4725,  1.0343, -2.0935]],\n",
       "│           \n",
       "│                   [[ 0.9775,  2.1718, -0.3166],\n",
       "│                    [ 0.4725,  1.0343, -2.0935]],\n",
       "│           \n",
       "│                   [[ 0.9775,  2.1718, -0.3166],\n",
       "│                    [ 0.4725,  1.0343, -2.0935]],\n",
       "│           \n",
       "│                   [[ 0.9775,  2.1718, -0.3166],\n",
       "│                    [ 0.4725,  1.0343, -2.0935]],\n",
       "│           \n",
       "│                   [[ 0.9775,  2.1718, -0.3166],\n",
       "│                    [ 0.4725,  1.0343, -2.0935]]])\n",
       "└── 'x' --> <FastTreeValue 0x7fbda07d64c0>\n",
       "    └── 'c' --> tensor([[[-0.4939,  1.8626,  0.4502, -0.3357],\n",
       "                         [ 1.0979,  0.3314, -0.3358, -2.0419],\n",
       "                         [ 1.5391, -0.4301,  0.7156, -1.0900]],\n",
       "                \n",
       "                        [[-0.4939,  1.8626,  0.4502, -0.3357],\n",
       "                         [ 1.0979,  0.3314, -0.3358, -2.0419],\n",
       "                         [ 1.5391, -0.4301,  0.7156, -1.0900]],\n",
       "                \n",
       "                        [[-0.4939,  1.8626,  0.4502, -0.3357],\n",
       "                         [ 1.0979,  0.3314, -0.3358, -2.0419],\n",
       "                         [ 1.5391, -0.4301,  0.7156, -1.0900]],\n",
       "                \n",
       "                        [[-0.4939,  1.8626,  0.4502, -0.3357],\n",
       "                         [ 1.0979,  0.3314, -0.3358, -2.0419],\n",
       "                         [ 1.5391, -0.4301,  0.7156, -1.0900]],\n",
       "                \n",
       "                        [[-0.4939,  1.8626,  0.4502, -0.3357],\n",
       "                         [ 1.0979,  0.3314, -0.3358, -2.0419],\n",
       "                         [ 1.5391, -0.4301,  0.7156, -1.0900]],\n",
       "                \n",
       "                        [[-0.4939,  1.8626,  0.4502, -0.3357],\n",
       "                         [ 1.0979,  0.3314, -0.3358, -2.0419],\n",
       "                         [ 1.5391, -0.4301,  0.7156, -1.0900]],\n",
       "                \n",
       "                        [[-0.4939,  1.8626,  0.4502, -0.3357],\n",
       "                         [ 1.0979,  0.3314, -0.3358, -2.0419],\n",
       "                         [ 1.5391, -0.4301,  0.7156, -1.0900]],\n",
       "                \n",
       "                        [[-0.4939,  1.8626,  0.4502, -0.3357],\n",
       "                         [ 1.0979,  0.3314, -0.3358, -2.0419],\n",
       "                         [ 1.5391, -0.4301,  0.7156, -1.0900]]])"
      ]
     },
     "execution_count": 20,
     "metadata": {},
     "output_type": "execute_result"
    }
   ],
   "source": [
    "t_stack = FastTreeValue.func(subside=True)(torch.stack)\n",
    "\n",
    "t_stack(trees)"
   ]
  },
  {
   "cell_type": "code",
   "execution_count": 21,
   "id": "f8b3f415",
   "metadata": {
    "execution": {
     "iopub.execute_input": "2023-02-27T12:24:44.963132Z",
     "iopub.status.busy": "2023-02-27T12:24:44.962721Z",
     "iopub.status.idle": "2023-02-27T12:24:47.556213Z",
     "shell.execute_reply": "2023-02-27T12:24:47.555468Z"
    }
   },
   "outputs": [
    {
     "name": "stdout",
     "output_type": "stream",
     "text": [
      "31.9 µs ± 63.7 ns per loop (mean ± std. dev. of 7 runs, 10,000 loops each)\n"
     ]
    }
   ],
   "source": [
    "%timeit t_stack(trees)"
   ]
  },
  {
   "cell_type": "code",
   "execution_count": 22,
   "id": "94b56771",
   "metadata": {
    "execution": {
     "iopub.execute_input": "2023-02-27T12:24:47.559374Z",
     "iopub.status.busy": "2023-02-27T12:24:47.558870Z",
     "iopub.status.idle": "2023-02-27T12:24:47.567485Z",
     "shell.execute_reply": "2023-02-27T12:24:47.566909Z"
    }
   },
   "outputs": [
    {
     "data": {
      "text/plain": [
       "<FastTreeValue 0x7fbceba69a60>\n",
       "├── 'a' --> tensor([[ 0.9775,  2.1718, -0.3166],\n",
       "│                   [ 0.4725,  1.0343, -2.0935],\n",
       "│                   [ 0.9775,  2.1718, -0.3166],\n",
       "│                   [ 0.4725,  1.0343, -2.0935],\n",
       "│                   [ 0.9775,  2.1718, -0.3166],\n",
       "│                   [ 0.4725,  1.0343, -2.0935],\n",
       "│                   [ 0.9775,  2.1718, -0.3166],\n",
       "│                   [ 0.4725,  1.0343, -2.0935],\n",
       "│                   [ 0.9775,  2.1718, -0.3166],\n",
       "│                   [ 0.4725,  1.0343, -2.0935],\n",
       "│                   [ 0.9775,  2.1718, -0.3166],\n",
       "│                   [ 0.4725,  1.0343, -2.0935],\n",
       "│                   [ 0.9775,  2.1718, -0.3166],\n",
       "│                   [ 0.4725,  1.0343, -2.0935],\n",
       "│                   [ 0.9775,  2.1718, -0.3166],\n",
       "│                   [ 0.4725,  1.0343, -2.0935]])\n",
       "└── 'x' --> <FastTreeValue 0x7fbceba69a30>\n",
       "    └── 'c' --> tensor([[-0.4939,  1.8626,  0.4502, -0.3357],\n",
       "                        [ 1.0979,  0.3314, -0.3358, -2.0419],\n",
       "                        [ 1.5391, -0.4301,  0.7156, -1.0900],\n",
       "                        [-0.4939,  1.8626,  0.4502, -0.3357],\n",
       "                        [ 1.0979,  0.3314, -0.3358, -2.0419],\n",
       "                        [ 1.5391, -0.4301,  0.7156, -1.0900],\n",
       "                        [-0.4939,  1.8626,  0.4502, -0.3357],\n",
       "                        [ 1.0979,  0.3314, -0.3358, -2.0419],\n",
       "                        [ 1.5391, -0.4301,  0.7156, -1.0900],\n",
       "                        [-0.4939,  1.8626,  0.4502, -0.3357],\n",
       "                        [ 1.0979,  0.3314, -0.3358, -2.0419],\n",
       "                        [ 1.5391, -0.4301,  0.7156, -1.0900],\n",
       "                        [-0.4939,  1.8626,  0.4502, -0.3357],\n",
       "                        [ 1.0979,  0.3314, -0.3358, -2.0419],\n",
       "                        [ 1.5391, -0.4301,  0.7156, -1.0900],\n",
       "                        [-0.4939,  1.8626,  0.4502, -0.3357],\n",
       "                        [ 1.0979,  0.3314, -0.3358, -2.0419],\n",
       "                        [ 1.5391, -0.4301,  0.7156, -1.0900],\n",
       "                        [-0.4939,  1.8626,  0.4502, -0.3357],\n",
       "                        [ 1.0979,  0.3314, -0.3358, -2.0419],\n",
       "                        [ 1.5391, -0.4301,  0.7156, -1.0900],\n",
       "                        [-0.4939,  1.8626,  0.4502, -0.3357],\n",
       "                        [ 1.0979,  0.3314, -0.3358, -2.0419],\n",
       "                        [ 1.5391, -0.4301,  0.7156, -1.0900]])"
      ]
     },
     "execution_count": 22,
     "metadata": {},
     "output_type": "execute_result"
    }
   ],
   "source": [
    "t_cat = FastTreeValue.func(subside=True)(torch.cat)\n",
    "\n",
    "t_cat(trees)"
   ]
  },
  {
   "cell_type": "code",
   "execution_count": 23,
   "id": "5e9c06a6",
   "metadata": {
    "execution": {
     "iopub.execute_input": "2023-02-27T12:24:47.570327Z",
     "iopub.status.busy": "2023-02-27T12:24:47.569792Z",
     "iopub.status.idle": "2023-02-27T12:24:50.028084Z",
     "shell.execute_reply": "2023-02-27T12:24:50.027330Z"
    }
   },
   "outputs": [
    {
     "name": "stdout",
     "output_type": "stream",
     "text": [
      "30.2 µs ± 119 ns per loop (mean ± std. dev. of 7 runs, 10,000 loops each)\n"
     ]
    }
   ],
   "source": [
    "%timeit t_cat(trees)"
   ]
  },
  {
   "cell_type": "code",
   "execution_count": 24,
   "id": "a3ab5c8f",
   "metadata": {
    "execution": {
     "iopub.execute_input": "2023-02-27T12:24:50.031008Z",
     "iopub.status.busy": "2023-02-27T12:24:50.030488Z",
     "iopub.status.idle": "2023-02-27T12:24:54.811438Z",
     "shell.execute_reply": "2023-02-27T12:24:54.810635Z"
    }
   },
   "outputs": [
    {
     "name": "stdout",
     "output_type": "stream",
     "text": [
      "58.9 µs ± 449 ns per loop (mean ± std. dev. of 7 runs, 10,000 loops each)\n"
     ]
    }
   ],
   "source": [
    "t_split = FastTreeValue.func(rise=True)(torch.split)\n",
    "tree = FastTreeValue({\n",
    "    'obs': torch.randn(8, 4, 84, 84),\n",
    "    'action': torch.randint(0, 6, size=(8, 1,)),\n",
    "    'reward': torch.rand(8, 1),\n",
    "})\n",
    "\n",
    "%timeit t_split(tree, 1)"
   ]
  },
  {
   "cell_type": "markdown",
   "id": "31c3ec0b",
   "metadata": {},
   "source": [
    "### Performance of Tianshou Batch"
   ]
  },
  {
   "cell_type": "code",
   "execution_count": 25,
   "id": "9ead828a",
   "metadata": {
    "execution": {
     "iopub.execute_input": "2023-02-27T12:24:54.814421Z",
     "iopub.status.busy": "2023-02-27T12:24:54.813833Z",
     "iopub.status.idle": "2023-02-27T12:24:54.820666Z",
     "shell.execute_reply": "2023-02-27T12:24:54.820163Z"
    }
   },
   "outputs": [
    {
     "data": {
      "text/plain": [
       "Batch(\n",
       "    x: Batch(\n",
       "           c: tensor([[[-0.4939,  1.8626,  0.4502, -0.3357],\n",
       "                       [ 1.0979,  0.3314, -0.3358, -2.0419],\n",
       "                       [ 1.5391, -0.4301,  0.7156, -1.0900]],\n",
       "              \n",
       "                      [[-0.4939,  1.8626,  0.4502, -0.3357],\n",
       "                       [ 1.0979,  0.3314, -0.3358, -2.0419],\n",
       "                       [ 1.5391, -0.4301,  0.7156, -1.0900]],\n",
       "              \n",
       "                      [[-0.4939,  1.8626,  0.4502, -0.3357],\n",
       "                       [ 1.0979,  0.3314, -0.3358, -2.0419],\n",
       "                       [ 1.5391, -0.4301,  0.7156, -1.0900]],\n",
       "              \n",
       "                      [[-0.4939,  1.8626,  0.4502, -0.3357],\n",
       "                       [ 1.0979,  0.3314, -0.3358, -2.0419],\n",
       "                       [ 1.5391, -0.4301,  0.7156, -1.0900]],\n",
       "              \n",
       "                      [[-0.4939,  1.8626,  0.4502, -0.3357],\n",
       "                       [ 1.0979,  0.3314, -0.3358, -2.0419],\n",
       "                       [ 1.5391, -0.4301,  0.7156, -1.0900]],\n",
       "              \n",
       "                      [[-0.4939,  1.8626,  0.4502, -0.3357],\n",
       "                       [ 1.0979,  0.3314, -0.3358, -2.0419],\n",
       "                       [ 1.5391, -0.4301,  0.7156, -1.0900]],\n",
       "              \n",
       "                      [[-0.4939,  1.8626,  0.4502, -0.3357],\n",
       "                       [ 1.0979,  0.3314, -0.3358, -2.0419],\n",
       "                       [ 1.5391, -0.4301,  0.7156, -1.0900]],\n",
       "              \n",
       "                      [[-0.4939,  1.8626,  0.4502, -0.3357],\n",
       "                       [ 1.0979,  0.3314, -0.3358, -2.0419],\n",
       "                       [ 1.5391, -0.4301,  0.7156, -1.0900]]]),\n",
       "       ),\n",
       "    a: tensor([[[ 0.9775,  2.1718, -0.3166],\n",
       "                [ 0.4725,  1.0343, -2.0935]],\n",
       "       \n",
       "               [[ 0.9775,  2.1718, -0.3166],\n",
       "                [ 0.4725,  1.0343, -2.0935]],\n",
       "       \n",
       "               [[ 0.9775,  2.1718, -0.3166],\n",
       "                [ 0.4725,  1.0343, -2.0935]],\n",
       "       \n",
       "               [[ 0.9775,  2.1718, -0.3166],\n",
       "                [ 0.4725,  1.0343, -2.0935]],\n",
       "       \n",
       "               [[ 0.9775,  2.1718, -0.3166],\n",
       "                [ 0.4725,  1.0343, -2.0935]],\n",
       "       \n",
       "               [[ 0.9775,  2.1718, -0.3166],\n",
       "                [ 0.4725,  1.0343, -2.0935]],\n",
       "       \n",
       "               [[ 0.9775,  2.1718, -0.3166],\n",
       "                [ 0.4725,  1.0343, -2.0935]],\n",
       "       \n",
       "               [[ 0.9775,  2.1718, -0.3166],\n",
       "                [ 0.4725,  1.0343, -2.0935]]]),\n",
       ")"
      ]
     },
     "execution_count": 25,
     "metadata": {},
     "output_type": "execute_result"
    }
   ],
   "source": [
    "batches = [Batch(**_TREE_DATA_2) for _ in range(8)]\n",
    "\n",
    "Batch.stack(batches)"
   ]
  },
  {
   "cell_type": "code",
   "execution_count": 26,
   "id": "ec9037a3",
   "metadata": {
    "execution": {
     "iopub.execute_input": "2023-02-27T12:24:54.823155Z",
     "iopub.status.busy": "2023-02-27T12:24:54.822566Z",
     "iopub.status.idle": "2023-02-27T12:25:01.083828Z",
     "shell.execute_reply": "2023-02-27T12:25:01.083111Z"
    }
   },
   "outputs": [
    {
     "name": "stdout",
     "output_type": "stream",
     "text": [
      "77.1 µs ± 173 ns per loop (mean ± std. dev. of 7 runs, 10,000 loops each)\n"
     ]
    }
   ],
   "source": [
    "%timeit Batch.stack(batches)"
   ]
  },
  {
   "cell_type": "code",
   "execution_count": 27,
   "id": "cb8ab77e",
   "metadata": {
    "execution": {
     "iopub.execute_input": "2023-02-27T12:25:01.086903Z",
     "iopub.status.busy": "2023-02-27T12:25:01.086549Z",
     "iopub.status.idle": "2023-02-27T12:25:01.093952Z",
     "shell.execute_reply": "2023-02-27T12:25:01.093346Z"
    }
   },
   "outputs": [
    {
     "data": {
      "text/plain": [
       "Batch(\n",
       "    x: Batch(\n",
       "           c: tensor([[-0.4939,  1.8626,  0.4502, -0.3357],\n",
       "                      [ 1.0979,  0.3314, -0.3358, -2.0419],\n",
       "                      [ 1.5391, -0.4301,  0.7156, -1.0900],\n",
       "                      [-0.4939,  1.8626,  0.4502, -0.3357],\n",
       "                      [ 1.0979,  0.3314, -0.3358, -2.0419],\n",
       "                      [ 1.5391, -0.4301,  0.7156, -1.0900],\n",
       "                      [-0.4939,  1.8626,  0.4502, -0.3357],\n",
       "                      [ 1.0979,  0.3314, -0.3358, -2.0419],\n",
       "                      [ 1.5391, -0.4301,  0.7156, -1.0900],\n",
       "                      [-0.4939,  1.8626,  0.4502, -0.3357],\n",
       "                      [ 1.0979,  0.3314, -0.3358, -2.0419],\n",
       "                      [ 1.5391, -0.4301,  0.7156, -1.0900],\n",
       "                      [-0.4939,  1.8626,  0.4502, -0.3357],\n",
       "                      [ 1.0979,  0.3314, -0.3358, -2.0419],\n",
       "                      [ 1.5391, -0.4301,  0.7156, -1.0900],\n",
       "                      [-0.4939,  1.8626,  0.4502, -0.3357],\n",
       "                      [ 1.0979,  0.3314, -0.3358, -2.0419],\n",
       "                      [ 1.5391, -0.4301,  0.7156, -1.0900],\n",
       "                      [-0.4939,  1.8626,  0.4502, -0.3357],\n",
       "                      [ 1.0979,  0.3314, -0.3358, -2.0419],\n",
       "                      [ 1.5391, -0.4301,  0.7156, -1.0900],\n",
       "                      [-0.4939,  1.8626,  0.4502, -0.3357],\n",
       "                      [ 1.0979,  0.3314, -0.3358, -2.0419],\n",
       "                      [ 1.5391, -0.4301,  0.7156, -1.0900]]),\n",
       "       ),\n",
       "    a: tensor([[ 0.9775,  2.1718, -0.3166],\n",
       "               [ 0.4725,  1.0343, -2.0935],\n",
       "               [ 0.9775,  2.1718, -0.3166],\n",
       "               [ 0.4725,  1.0343, -2.0935],\n",
       "               [ 0.9775,  2.1718, -0.3166],\n",
       "               [ 0.4725,  1.0343, -2.0935],\n",
       "               [ 0.9775,  2.1718, -0.3166],\n",
       "               [ 0.4725,  1.0343, -2.0935],\n",
       "               [ 0.9775,  2.1718, -0.3166],\n",
       "               [ 0.4725,  1.0343, -2.0935],\n",
       "               [ 0.9775,  2.1718, -0.3166],\n",
       "               [ 0.4725,  1.0343, -2.0935],\n",
       "               [ 0.9775,  2.1718, -0.3166],\n",
       "               [ 0.4725,  1.0343, -2.0935],\n",
       "               [ 0.9775,  2.1718, -0.3166],\n",
       "               [ 0.4725,  1.0343, -2.0935]]),\n",
       ")"
      ]
     },
     "execution_count": 27,
     "metadata": {},
     "output_type": "execute_result"
    }
   ],
   "source": [
    "Batch.cat(batches)"
   ]
  },
  {
   "cell_type": "code",
   "execution_count": 28,
   "id": "18dfb045",
   "metadata": {
    "execution": {
     "iopub.execute_input": "2023-02-27T12:25:01.096363Z",
     "iopub.status.busy": "2023-02-27T12:25:01.096013Z",
     "iopub.status.idle": "2023-02-27T12:25:12.615316Z",
     "shell.execute_reply": "2023-02-27T12:25:12.614615Z"
    }
   },
   "outputs": [
    {
     "name": "stdout",
     "output_type": "stream",
     "text": [
      "142 µs ± 506 ns per loop (mean ± std. dev. of 7 runs, 10,000 loops each)\n"
     ]
    }
   ],
   "source": [
    "%timeit Batch.cat(batches)"
   ]
  },
  {
   "cell_type": "code",
   "execution_count": 29,
   "id": "c6688e51",
   "metadata": {
    "execution": {
     "iopub.execute_input": "2023-02-27T12:25:12.618249Z",
     "iopub.status.busy": "2023-02-27T12:25:12.617883Z",
     "iopub.status.idle": "2023-02-27T12:25:15.090812Z",
     "shell.execute_reply": "2023-02-27T12:25:15.090264Z"
    }
   },
   "outputs": [
    {
     "name": "stdout",
     "output_type": "stream",
     "text": [
      "303 µs ± 1.52 µs per loop (mean ± std. dev. of 7 runs, 1,000 loops each)\n"
     ]
    }
   ],
   "source": [
    "batch = Batch({\n",
    "    'obs': torch.randn(8, 4, 84, 84),\n",
    "    'action': torch.randint(0, 6, size=(8, 1,)),\n",
    "    'reward': torch.rand(8, 1)}\n",
    ")\n",
    "\n",
    "%timeit list(Batch.split(batch, 1, shuffle=False, merge_last=True))"
   ]
  },
  {
   "cell_type": "code",
   "execution_count": null,
   "id": "2539fbd9",
   "metadata": {},
   "outputs": [],
   "source": []
  }
 ],
 "metadata": {
  "kernelspec": {
   "display_name": "Python 3 (ipykernel)",
   "language": "python",
   "name": "python3"
  },
  "language_info": {
   "codemirror_mode": {
    "name": "ipython",
    "version": 3
   },
   "file_extension": ".py",
   "mimetype": "text/x-python",
   "name": "python",
   "nbconvert_exporter": "python",
   "pygments_lexer": "ipython3",
   "version": "3.8.16"
  }
 },
 "nbformat": 4,
 "nbformat_minor": 5
}
