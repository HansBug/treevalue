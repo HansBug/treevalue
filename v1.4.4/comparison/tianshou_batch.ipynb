{
 "cells": [
  {
   "cell_type": "markdown",
   "id": "9d39d946",
   "metadata": {},
   "source": [
    "# Comparison Between TreeValue and Tianshou Batch"
   ]
  },
  {
   "cell_type": "markdown",
   "id": "3c6db2d4",
   "metadata": {},
   "source": [
    "In this section, we will take a look at the feature and performance of the [Tianshou Batch](https://github.com/thu-ml/tianshou) library, which is developed by Tsinghua Machine Learning Group."
   ]
  },
  {
   "cell_type": "markdown",
   "id": "069361b0",
   "metadata": {},
   "source": [
    "Before starting the comparison, let us define some thing."
   ]
  },
  {
   "cell_type": "code",
   "execution_count": 1,
   "id": "06fc8d26",
   "metadata": {
    "execution": {
     "iopub.execute_input": "2023-02-12T18:23:45.864679Z",
     "iopub.status.busy": "2023-02-12T18:23:45.864469Z",
     "iopub.status.idle": "2023-02-12T18:23:46.781309Z",
     "shell.execute_reply": "2023-02-12T18:23:46.780655Z"
    }
   },
   "outputs": [
    {
     "name": "stderr",
     "output_type": "stream",
     "text": [
      "/opt/hostedtoolcache/Python/3.8.16/x64/lib/python3.8/site-packages/tqdm/auto.py:22: TqdmWarning: IProgress not found. Please update jupyter and ipywidgets. See https://ipywidgets.readthedocs.io/en/stable/user_install.html\n",
      "  from .autonotebook import tqdm as notebook_tqdm\n"
     ]
    }
   ],
   "source": [
    "import torch \n",
    "\n",
    "_TREE_DATA_1 = {'a': 1, 'b': 2, 'x': {'c': 3, 'd': 4}}\n",
    "_TREE_DATA_2 = {\n",
    "    'a': torch.randn(2, 3), \n",
    "    'x': {\n",
    "        'c': torch.randn(3, 4)\n",
    "    },\n",
    "}\n",
    "_TREE_DATA_3 = {\n",
    "    'obs': torch.randn(4, 84, 84),\n",
    "    'action': torch.randint(0, 6, size=(1,)),\n",
    "    'reward': torch.rand(1),\n",
    "}"
   ]
  },
  {
   "cell_type": "markdown",
   "id": "83461b25",
   "metadata": {},
   "source": [
    "## Read and Write Operation"
   ]
  },
  {
   "cell_type": "markdown",
   "id": "067b3f73",
   "metadata": {},
   "source": [
    "Reading and writing are the two most common operations in the tree data structure based on the data model (TreeValue and Tianshou Batch both belong to this type), so this section will compare the reading and writing performance of these two libraries."
   ]
  },
  {
   "cell_type": "markdown",
   "id": "5d09a5b7",
   "metadata": {},
   "source": [
    "### TreeValue's Get and Set"
   ]
  },
  {
   "cell_type": "code",
   "execution_count": 2,
   "id": "9519c4bb",
   "metadata": {
    "execution": {
     "iopub.execute_input": "2023-02-12T18:23:46.784284Z",
     "iopub.status.busy": "2023-02-12T18:23:46.784021Z",
     "iopub.status.idle": "2023-02-12T18:23:46.816178Z",
     "shell.execute_reply": "2023-02-12T18:23:46.815550Z"
    }
   },
   "outputs": [],
   "source": [
    "from treevalue import FastTreeValue\n",
    "\n",
    "t = FastTreeValue(_TREE_DATA_2)"
   ]
  },
  {
   "cell_type": "code",
   "execution_count": 3,
   "id": "11c37677",
   "metadata": {
    "execution": {
     "iopub.execute_input": "2023-02-12T18:23:46.819028Z",
     "iopub.status.busy": "2023-02-12T18:23:46.818478Z",
     "iopub.status.idle": "2023-02-12T18:23:46.827563Z",
     "shell.execute_reply": "2023-02-12T18:23:46.826983Z"
    }
   },
   "outputs": [
    {
     "data": {
      "text/plain": [
       "<FastTreeValue 0x7fc57c5efd90>\n",
       "├── 'a' --> tensor([[ 0.3558,  0.5405, -0.0064],\n",
       "│                   [-0.6658, -1.2103, -1.0059]])\n",
       "└── 'x' --> <FastTreeValue 0x7fc57c5f6730>\n",
       "    └── 'c' --> tensor([[-1.5481, -1.1210, -0.4121, -0.4152],\n",
       "                        [-1.8367, -1.0638,  0.1189,  0.8731],\n",
       "                        [ 2.8579,  0.6689,  1.0275,  0.6867]])"
      ]
     },
     "execution_count": 3,
     "metadata": {},
     "output_type": "execute_result"
    }
   ],
   "source": [
    "t"
   ]
  },
  {
   "cell_type": "code",
   "execution_count": 4,
   "id": "fd70b0b9",
   "metadata": {
    "execution": {
     "iopub.execute_input": "2023-02-12T18:23:46.830071Z",
     "iopub.status.busy": "2023-02-12T18:23:46.829732Z",
     "iopub.status.idle": "2023-02-12T18:23:46.834337Z",
     "shell.execute_reply": "2023-02-12T18:23:46.833746Z"
    }
   },
   "outputs": [
    {
     "data": {
      "text/plain": [
       "tensor([[ 0.3558,  0.5405, -0.0064],\n",
       "        [-0.6658, -1.2103, -1.0059]])"
      ]
     },
     "execution_count": 4,
     "metadata": {},
     "output_type": "execute_result"
    }
   ],
   "source": [
    "t.a"
   ]
  },
  {
   "cell_type": "code",
   "execution_count": 5,
   "id": "c18197bd",
   "metadata": {
    "execution": {
     "iopub.execute_input": "2023-02-12T18:23:46.836616Z",
     "iopub.status.busy": "2023-02-12T18:23:46.836290Z",
     "iopub.status.idle": "2023-02-12T18:23:51.942225Z",
     "shell.execute_reply": "2023-02-12T18:23:51.941560Z"
    }
   },
   "outputs": [
    {
     "name": "stdout",
     "output_type": "stream",
     "text": [
      "63.2 ns ± 0.0453 ns per loop (mean ± std. dev. of 7 runs, 10,000,000 loops each)\n"
     ]
    }
   ],
   "source": [
    "%timeit t.a"
   ]
  },
  {
   "cell_type": "code",
   "execution_count": 6,
   "id": "bd52f867",
   "metadata": {
    "execution": {
     "iopub.execute_input": "2023-02-12T18:23:51.945508Z",
     "iopub.status.busy": "2023-02-12T18:23:51.944919Z",
     "iopub.status.idle": "2023-02-12T18:23:51.951643Z",
     "shell.execute_reply": "2023-02-12T18:23:51.951018Z"
    }
   },
   "outputs": [
    {
     "data": {
      "text/plain": [
       "<FastTreeValue 0x7fc57c5efd90>\n",
       "├── 'a' --> tensor([[ 0.4973,  0.8735,  1.0416],\n",
       "│                   [ 0.0574,  0.5433, -1.0516]])\n",
       "└── 'x' --> <FastTreeValue 0x7fc57c5f6730>\n",
       "    └── 'c' --> tensor([[-1.5481, -1.1210, -0.4121, -0.4152],\n",
       "                        [-1.8367, -1.0638,  0.1189,  0.8731],\n",
       "                        [ 2.8579,  0.6689,  1.0275,  0.6867]])"
      ]
     },
     "execution_count": 6,
     "metadata": {},
     "output_type": "execute_result"
    }
   ],
   "source": [
    "new_value = torch.randn(2, 3)\n",
    "t.a = new_value\n",
    "\n",
    "t"
   ]
  },
  {
   "cell_type": "code",
   "execution_count": 7,
   "id": "bbe04d1c",
   "metadata": {
    "execution": {
     "iopub.execute_input": "2023-02-12T18:23:51.954378Z",
     "iopub.status.busy": "2023-02-12T18:23:51.954028Z",
     "iopub.status.idle": "2023-02-12T18:23:56.899193Z",
     "shell.execute_reply": "2023-02-12T18:23:56.898419Z"
    }
   },
   "outputs": [
    {
     "name": "stdout",
     "output_type": "stream",
     "text": [
      "61.3 ns ± 0.0341 ns per loop (mean ± std. dev. of 7 runs, 10,000,000 loops each)\n"
     ]
    }
   ],
   "source": [
    "%timeit t.a = new_value"
   ]
  },
  {
   "cell_type": "markdown",
   "id": "48c49731",
   "metadata": {},
   "source": [
    "### Tianshou Batch's Get and Set"
   ]
  },
  {
   "cell_type": "code",
   "execution_count": 8,
   "id": "f1bb14c1",
   "metadata": {
    "execution": {
     "iopub.execute_input": "2023-02-12T18:23:56.902395Z",
     "iopub.status.busy": "2023-02-12T18:23:56.901831Z",
     "iopub.status.idle": "2023-02-12T18:23:57.230060Z",
     "shell.execute_reply": "2023-02-12T18:23:57.229395Z"
    }
   },
   "outputs": [],
   "source": [
    "from tianshou.data import Batch\n",
    "\n",
    "b = Batch(**_TREE_DATA_2)"
   ]
  },
  {
   "cell_type": "code",
   "execution_count": 9,
   "id": "cb0777c3",
   "metadata": {
    "execution": {
     "iopub.execute_input": "2023-02-12T18:23:57.233019Z",
     "iopub.status.busy": "2023-02-12T18:23:57.232512Z",
     "iopub.status.idle": "2023-02-12T18:23:57.238387Z",
     "shell.execute_reply": "2023-02-12T18:23:57.237811Z"
    }
   },
   "outputs": [
    {
     "data": {
      "text/plain": [
       "Batch(\n",
       "    a: tensor([[ 0.3558,  0.5405, -0.0064],\n",
       "               [-0.6658, -1.2103, -1.0059]]),\n",
       "    x: Batch(\n",
       "           c: tensor([[-1.5481, -1.1210, -0.4121, -0.4152],\n",
       "                      [-1.8367, -1.0638,  0.1189,  0.8731],\n",
       "                      [ 2.8579,  0.6689,  1.0275,  0.6867]]),\n",
       "       ),\n",
       ")"
      ]
     },
     "execution_count": 9,
     "metadata": {},
     "output_type": "execute_result"
    }
   ],
   "source": [
    "b"
   ]
  },
  {
   "cell_type": "code",
   "execution_count": 10,
   "id": "43ef8ea3",
   "metadata": {
    "execution": {
     "iopub.execute_input": "2023-02-12T18:23:57.241067Z",
     "iopub.status.busy": "2023-02-12T18:23:57.240537Z",
     "iopub.status.idle": "2023-02-12T18:23:57.245700Z",
     "shell.execute_reply": "2023-02-12T18:23:57.245139Z"
    }
   },
   "outputs": [
    {
     "data": {
      "text/plain": [
       "tensor([[ 0.3558,  0.5405, -0.0064],\n",
       "        [-0.6658, -1.2103, -1.0059]])"
      ]
     },
     "execution_count": 10,
     "metadata": {},
     "output_type": "execute_result"
    }
   ],
   "source": [
    "b.a"
   ]
  },
  {
   "cell_type": "code",
   "execution_count": 11,
   "id": "b785ab72",
   "metadata": {
    "execution": {
     "iopub.execute_input": "2023-02-12T18:23:57.247982Z",
     "iopub.status.busy": "2023-02-12T18:23:57.247655Z",
     "iopub.status.idle": "2023-02-12T18:24:01.427986Z",
     "shell.execute_reply": "2023-02-12T18:24:01.427206Z"
    }
   },
   "outputs": [
    {
     "name": "stdout",
     "output_type": "stream",
     "text": [
      "51.3 ns ± 0.0324 ns per loop (mean ± std. dev. of 7 runs, 10,000,000 loops each)\n"
     ]
    }
   ],
   "source": [
    "%timeit b.a"
   ]
  },
  {
   "cell_type": "code",
   "execution_count": 12,
   "id": "ad54dc69",
   "metadata": {
    "execution": {
     "iopub.execute_input": "2023-02-12T18:24:01.430643Z",
     "iopub.status.busy": "2023-02-12T18:24:01.430282Z",
     "iopub.status.idle": "2023-02-12T18:24:01.436596Z",
     "shell.execute_reply": "2023-02-12T18:24:01.436002Z"
    }
   },
   "outputs": [
    {
     "data": {
      "text/plain": [
       "Batch(\n",
       "    a: tensor([[ 0.2437, -1.2994,  0.7367],\n",
       "               [ 0.8839,  0.2655, -2.3785]]),\n",
       "    x: Batch(\n",
       "           c: tensor([[-1.5481, -1.1210, -0.4121, -0.4152],\n",
       "                      [-1.8367, -1.0638,  0.1189,  0.8731],\n",
       "                      [ 2.8579,  0.6689,  1.0275,  0.6867]]),\n",
       "       ),\n",
       ")"
      ]
     },
     "execution_count": 12,
     "metadata": {},
     "output_type": "execute_result"
    }
   ],
   "source": [
    "new_value = torch.randn(2, 3)\n",
    "b.a = new_value\n",
    "\n",
    "b"
   ]
  },
  {
   "cell_type": "code",
   "execution_count": 13,
   "id": "29b1d0bf",
   "metadata": {
    "execution": {
     "iopub.execute_input": "2023-02-12T18:24:01.438993Z",
     "iopub.status.busy": "2023-02-12T18:24:01.438631Z",
     "iopub.status.idle": "2023-02-12T18:24:05.447720Z",
     "shell.execute_reply": "2023-02-12T18:24:05.446966Z"
    }
   },
   "outputs": [
    {
     "name": "stdout",
     "output_type": "stream",
     "text": [
      "496 ns ± 11.7 ns per loop (mean ± std. dev. of 7 runs, 1,000,000 loops each)\n"
     ]
    }
   ],
   "source": [
    "%timeit b.a = new_value"
   ]
  },
  {
   "cell_type": "markdown",
   "id": "b61ad1d0",
   "metadata": {},
   "source": [
    "## Initialization"
   ]
  },
  {
   "cell_type": "markdown",
   "id": "d70f0d54",
   "metadata": {},
   "source": [
    "### TreeValue's Initialization"
   ]
  },
  {
   "cell_type": "code",
   "execution_count": 14,
   "id": "d32a679b",
   "metadata": {
    "execution": {
     "iopub.execute_input": "2023-02-12T18:24:05.450699Z",
     "iopub.status.busy": "2023-02-12T18:24:05.450354Z",
     "iopub.status.idle": "2023-02-12T18:24:12.347844Z",
     "shell.execute_reply": "2023-02-12T18:24:12.347132Z"
    }
   },
   "outputs": [
    {
     "name": "stdout",
     "output_type": "stream",
     "text": [
      "850 ns ± 0.494 ns per loop (mean ± std. dev. of 7 runs, 1,000,000 loops each)\n"
     ]
    }
   ],
   "source": [
    "%timeit FastTreeValue(_TREE_DATA_1)"
   ]
  },
  {
   "cell_type": "markdown",
   "id": "24f3707b",
   "metadata": {},
   "source": [
    "### Tianshou Batch's Initialization"
   ]
  },
  {
   "cell_type": "code",
   "execution_count": 15,
   "id": "ac3958df",
   "metadata": {
    "execution": {
     "iopub.execute_input": "2023-02-12T18:24:12.350766Z",
     "iopub.status.busy": "2023-02-12T18:24:12.350238Z",
     "iopub.status.idle": "2023-02-12T18:24:21.585567Z",
     "shell.execute_reply": "2023-02-12T18:24:21.584835Z"
    }
   },
   "outputs": [
    {
     "name": "stdout",
     "output_type": "stream",
     "text": [
      "11.4 µs ± 18.4 ns per loop (mean ± std. dev. of 7 runs, 100,000 loops each)\n"
     ]
    }
   ],
   "source": [
    "%timeit Batch(**_TREE_DATA_1)"
   ]
  },
  {
   "cell_type": "markdown",
   "id": "1ab82e2d",
   "metadata": {},
   "source": [
    "## Deep Copy Operation"
   ]
  },
  {
   "cell_type": "code",
   "execution_count": 16,
   "id": "210a9442",
   "metadata": {
    "execution": {
     "iopub.execute_input": "2023-02-12T18:24:21.588719Z",
     "iopub.status.busy": "2023-02-12T18:24:21.588223Z",
     "iopub.status.idle": "2023-02-12T18:24:21.592061Z",
     "shell.execute_reply": "2023-02-12T18:24:21.591443Z"
    }
   },
   "outputs": [],
   "source": [
    "import copy"
   ]
  },
  {
   "cell_type": "markdown",
   "id": "5a736274",
   "metadata": {},
   "source": [
    "### Deep Copy of TreeValue"
   ]
  },
  {
   "cell_type": "code",
   "execution_count": 17,
   "id": "f9bcadd6",
   "metadata": {
    "execution": {
     "iopub.execute_input": "2023-02-12T18:24:21.594891Z",
     "iopub.status.busy": "2023-02-12T18:24:21.594400Z",
     "iopub.status.idle": "2023-02-12T18:24:32.717329Z",
     "shell.execute_reply": "2023-02-12T18:24:32.716764Z"
    }
   },
   "outputs": [
    {
     "name": "stdout",
     "output_type": "stream",
     "text": [
      "137 µs ± 598 ns per loop (mean ± std. dev. of 7 runs, 10,000 loops each)\n"
     ]
    }
   ],
   "source": [
    "t3 = FastTreeValue(_TREE_DATA_3)\n",
    "%timeit copy.deepcopy(t3)"
   ]
  },
  {
   "cell_type": "markdown",
   "id": "bf8be7ea",
   "metadata": {},
   "source": [
    "### Deep Copy of Tianshou Batch"
   ]
  },
  {
   "cell_type": "code",
   "execution_count": 18,
   "id": "91998e6f",
   "metadata": {
    "execution": {
     "iopub.execute_input": "2023-02-12T18:24:32.723880Z",
     "iopub.status.busy": "2023-02-12T18:24:32.723220Z",
     "iopub.status.idle": "2023-02-12T18:24:44.064573Z",
     "shell.execute_reply": "2023-02-12T18:24:44.063982Z"
    }
   },
   "outputs": [
    {
     "name": "stdout",
     "output_type": "stream",
     "text": [
      "140 µs ± 1.11 µs per loop (mean ± std. dev. of 7 runs, 10,000 loops each)\n"
     ]
    }
   ],
   "source": [
    "b3 = Batch(**_TREE_DATA_3)\n",
    "%timeit copy.deepcopy(b3)"
   ]
  },
  {
   "cell_type": "markdown",
   "id": "223162fb",
   "metadata": {},
   "source": [
    "## Stack, Concat and Split Operation"
   ]
  },
  {
   "cell_type": "markdown",
   "id": "85fa4a73",
   "metadata": {},
   "source": [
    "### Performance of TreeValue"
   ]
  },
  {
   "cell_type": "code",
   "execution_count": 19,
   "id": "a0c2b697",
   "metadata": {
    "execution": {
     "iopub.execute_input": "2023-02-12T18:24:44.067474Z",
     "iopub.status.busy": "2023-02-12T18:24:44.067025Z",
     "iopub.status.idle": "2023-02-12T18:24:44.070218Z",
     "shell.execute_reply": "2023-02-12T18:24:44.069700Z"
    }
   },
   "outputs": [],
   "source": [
    "trees = [FastTreeValue(_TREE_DATA_2) for _ in range(8)]"
   ]
  },
  {
   "cell_type": "code",
   "execution_count": 20,
   "id": "017ea5a5",
   "metadata": {
    "execution": {
     "iopub.execute_input": "2023-02-12T18:24:44.072554Z",
     "iopub.status.busy": "2023-02-12T18:24:44.072137Z",
     "iopub.status.idle": "2023-02-12T18:24:44.079100Z",
     "shell.execute_reply": "2023-02-12T18:24:44.078567Z"
    }
   },
   "outputs": [
    {
     "data": {
      "text/plain": [
       "<FastTreeValue 0x7fc4cd21f4f0>\n",
       "├── 'a' --> tensor([[[ 0.3558,  0.5405, -0.0064],\n",
       "│                    [-0.6658, -1.2103, -1.0059]],\n",
       "│           \n",
       "│                   [[ 0.3558,  0.5405, -0.0064],\n",
       "│                    [-0.6658, -1.2103, -1.0059]],\n",
       "│           \n",
       "│                   [[ 0.3558,  0.5405, -0.0064],\n",
       "│                    [-0.6658, -1.2103, -1.0059]],\n",
       "│           \n",
       "│                   [[ 0.3558,  0.5405, -0.0064],\n",
       "│                    [-0.6658, -1.2103, -1.0059]],\n",
       "│           \n",
       "│                   [[ 0.3558,  0.5405, -0.0064],\n",
       "│                    [-0.6658, -1.2103, -1.0059]],\n",
       "│           \n",
       "│                   [[ 0.3558,  0.5405, -0.0064],\n",
       "│                    [-0.6658, -1.2103, -1.0059]],\n",
       "│           \n",
       "│                   [[ 0.3558,  0.5405, -0.0064],\n",
       "│                    [-0.6658, -1.2103, -1.0059]],\n",
       "│           \n",
       "│                   [[ 0.3558,  0.5405, -0.0064],\n",
       "│                    [-0.6658, -1.2103, -1.0059]]])\n",
       "└── 'x' --> <FastTreeValue 0x7fc4cd21f8e0>\n",
       "    └── 'c' --> tensor([[[-1.5481, -1.1210, -0.4121, -0.4152],\n",
       "                         [-1.8367, -1.0638,  0.1189,  0.8731],\n",
       "                         [ 2.8579,  0.6689,  1.0275,  0.6867]],\n",
       "                \n",
       "                        [[-1.5481, -1.1210, -0.4121, -0.4152],\n",
       "                         [-1.8367, -1.0638,  0.1189,  0.8731],\n",
       "                         [ 2.8579,  0.6689,  1.0275,  0.6867]],\n",
       "                \n",
       "                        [[-1.5481, -1.1210, -0.4121, -0.4152],\n",
       "                         [-1.8367, -1.0638,  0.1189,  0.8731],\n",
       "                         [ 2.8579,  0.6689,  1.0275,  0.6867]],\n",
       "                \n",
       "                        [[-1.5481, -1.1210, -0.4121, -0.4152],\n",
       "                         [-1.8367, -1.0638,  0.1189,  0.8731],\n",
       "                         [ 2.8579,  0.6689,  1.0275,  0.6867]],\n",
       "                \n",
       "                        [[-1.5481, -1.1210, -0.4121, -0.4152],\n",
       "                         [-1.8367, -1.0638,  0.1189,  0.8731],\n",
       "                         [ 2.8579,  0.6689,  1.0275,  0.6867]],\n",
       "                \n",
       "                        [[-1.5481, -1.1210, -0.4121, -0.4152],\n",
       "                         [-1.8367, -1.0638,  0.1189,  0.8731],\n",
       "                         [ 2.8579,  0.6689,  1.0275,  0.6867]],\n",
       "                \n",
       "                        [[-1.5481, -1.1210, -0.4121, -0.4152],\n",
       "                         [-1.8367, -1.0638,  0.1189,  0.8731],\n",
       "                         [ 2.8579,  0.6689,  1.0275,  0.6867]],\n",
       "                \n",
       "                        [[-1.5481, -1.1210, -0.4121, -0.4152],\n",
       "                         [-1.8367, -1.0638,  0.1189,  0.8731],\n",
       "                         [ 2.8579,  0.6689,  1.0275,  0.6867]]])"
      ]
     },
     "execution_count": 20,
     "metadata": {},
     "output_type": "execute_result"
    }
   ],
   "source": [
    "t_stack = FastTreeValue.func(subside=True)(torch.stack)\n",
    "\n",
    "t_stack(trees)"
   ]
  },
  {
   "cell_type": "code",
   "execution_count": 21,
   "id": "f8b3f415",
   "metadata": {
    "execution": {
     "iopub.execute_input": "2023-02-12T18:24:44.081365Z",
     "iopub.status.busy": "2023-02-12T18:24:44.080971Z",
     "iopub.status.idle": "2023-02-12T18:24:46.694157Z",
     "shell.execute_reply": "2023-02-12T18:24:46.693400Z"
    }
   },
   "outputs": [
    {
     "name": "stdout",
     "output_type": "stream",
     "text": [
      "32.2 µs ± 60.1 ns per loop (mean ± std. dev. of 7 runs, 10,000 loops each)\n"
     ]
    }
   ],
   "source": [
    "%timeit t_stack(trees)"
   ]
  },
  {
   "cell_type": "code",
   "execution_count": 22,
   "id": "94b56771",
   "metadata": {
    "execution": {
     "iopub.execute_input": "2023-02-12T18:24:46.697385Z",
     "iopub.status.busy": "2023-02-12T18:24:46.696849Z",
     "iopub.status.idle": "2023-02-12T18:24:46.703935Z",
     "shell.execute_reply": "2023-02-12T18:24:46.703282Z"
    }
   },
   "outputs": [
    {
     "data": {
      "text/plain": [
       "<FastTreeValue 0x7fc4cd2410a0>\n",
       "├── 'a' --> tensor([[ 0.3558,  0.5405, -0.0064],\n",
       "│                   [-0.6658, -1.2103, -1.0059],\n",
       "│                   [ 0.3558,  0.5405, -0.0064],\n",
       "│                   [-0.6658, -1.2103, -1.0059],\n",
       "│                   [ 0.3558,  0.5405, -0.0064],\n",
       "│                   [-0.6658, -1.2103, -1.0059],\n",
       "│                   [ 0.3558,  0.5405, -0.0064],\n",
       "│                   [-0.6658, -1.2103, -1.0059],\n",
       "│                   [ 0.3558,  0.5405, -0.0064],\n",
       "│                   [-0.6658, -1.2103, -1.0059],\n",
       "│                   [ 0.3558,  0.5405, -0.0064],\n",
       "│                   [-0.6658, -1.2103, -1.0059],\n",
       "│                   [ 0.3558,  0.5405, -0.0064],\n",
       "│                   [-0.6658, -1.2103, -1.0059],\n",
       "│                   [ 0.3558,  0.5405, -0.0064],\n",
       "│                   [-0.6658, -1.2103, -1.0059]])\n",
       "└── 'x' --> <FastTreeValue 0x7fc4cd296520>\n",
       "    └── 'c' --> tensor([[-1.5481, -1.1210, -0.4121, -0.4152],\n",
       "                        [-1.8367, -1.0638,  0.1189,  0.8731],\n",
       "                        [ 2.8579,  0.6689,  1.0275,  0.6867],\n",
       "                        [-1.5481, -1.1210, -0.4121, -0.4152],\n",
       "                        [-1.8367, -1.0638,  0.1189,  0.8731],\n",
       "                        [ 2.8579,  0.6689,  1.0275,  0.6867],\n",
       "                        [-1.5481, -1.1210, -0.4121, -0.4152],\n",
       "                        [-1.8367, -1.0638,  0.1189,  0.8731],\n",
       "                        [ 2.8579,  0.6689,  1.0275,  0.6867],\n",
       "                        [-1.5481, -1.1210, -0.4121, -0.4152],\n",
       "                        [-1.8367, -1.0638,  0.1189,  0.8731],\n",
       "                        [ 2.8579,  0.6689,  1.0275,  0.6867],\n",
       "                        [-1.5481, -1.1210, -0.4121, -0.4152],\n",
       "                        [-1.8367, -1.0638,  0.1189,  0.8731],\n",
       "                        [ 2.8579,  0.6689,  1.0275,  0.6867],\n",
       "                        [-1.5481, -1.1210, -0.4121, -0.4152],\n",
       "                        [-1.8367, -1.0638,  0.1189,  0.8731],\n",
       "                        [ 2.8579,  0.6689,  1.0275,  0.6867],\n",
       "                        [-1.5481, -1.1210, -0.4121, -0.4152],\n",
       "                        [-1.8367, -1.0638,  0.1189,  0.8731],\n",
       "                        [ 2.8579,  0.6689,  1.0275,  0.6867],\n",
       "                        [-1.5481, -1.1210, -0.4121, -0.4152],\n",
       "                        [-1.8367, -1.0638,  0.1189,  0.8731],\n",
       "                        [ 2.8579,  0.6689,  1.0275,  0.6867]])"
      ]
     },
     "execution_count": 22,
     "metadata": {},
     "output_type": "execute_result"
    }
   ],
   "source": [
    "t_cat = FastTreeValue.func(subside=True)(torch.cat)\n",
    "\n",
    "t_cat(trees)"
   ]
  },
  {
   "cell_type": "code",
   "execution_count": 23,
   "id": "5e9c06a6",
   "metadata": {
    "execution": {
     "iopub.execute_input": "2023-02-12T18:24:46.706388Z",
     "iopub.status.busy": "2023-02-12T18:24:46.706047Z",
     "iopub.status.idle": "2023-02-12T18:24:49.124351Z",
     "shell.execute_reply": "2023-02-12T18:24:49.123620Z"
    }
   },
   "outputs": [
    {
     "name": "stdout",
     "output_type": "stream",
     "text": [
      "29.7 µs ± 60.4 ns per loop (mean ± std. dev. of 7 runs, 10,000 loops each)\n"
     ]
    }
   ],
   "source": [
    "%timeit t_cat(trees)"
   ]
  },
  {
   "cell_type": "code",
   "execution_count": 24,
   "id": "a3ab5c8f",
   "metadata": {
    "execution": {
     "iopub.execute_input": "2023-02-12T18:24:49.127542Z",
     "iopub.status.busy": "2023-02-12T18:24:49.127021Z",
     "iopub.status.idle": "2023-02-12T18:24:53.713252Z",
     "shell.execute_reply": "2023-02-12T18:24:53.712524Z"
    }
   },
   "outputs": [
    {
     "name": "stdout",
     "output_type": "stream",
     "text": [
      "56.4 µs ± 43.5 ns per loop (mean ± std. dev. of 7 runs, 10,000 loops each)\n"
     ]
    }
   ],
   "source": [
    "t_split = FastTreeValue.func(rise=True)(torch.split)\n",
    "tree = FastTreeValue({\n",
    "    'obs': torch.randn(8, 4, 84, 84),\n",
    "    'action': torch.randint(0, 6, size=(8, 1,)),\n",
    "    'reward': torch.rand(8, 1),\n",
    "})\n",
    "\n",
    "%timeit t_split(tree, 1)"
   ]
  },
  {
   "cell_type": "markdown",
   "id": "31c3ec0b",
   "metadata": {},
   "source": [
    "### Performance of Tianshou Batch"
   ]
  },
  {
   "cell_type": "code",
   "execution_count": 25,
   "id": "9ead828a",
   "metadata": {
    "execution": {
     "iopub.execute_input": "2023-02-12T18:24:53.716281Z",
     "iopub.status.busy": "2023-02-12T18:24:53.715733Z",
     "iopub.status.idle": "2023-02-12T18:24:53.723493Z",
     "shell.execute_reply": "2023-02-12T18:24:53.722892Z"
    }
   },
   "outputs": [
    {
     "data": {
      "text/plain": [
       "Batch(\n",
       "    a: tensor([[[ 0.3558,  0.5405, -0.0064],\n",
       "                [-0.6658, -1.2103, -1.0059]],\n",
       "       \n",
       "               [[ 0.3558,  0.5405, -0.0064],\n",
       "                [-0.6658, -1.2103, -1.0059]],\n",
       "       \n",
       "               [[ 0.3558,  0.5405, -0.0064],\n",
       "                [-0.6658, -1.2103, -1.0059]],\n",
       "       \n",
       "               [[ 0.3558,  0.5405, -0.0064],\n",
       "                [-0.6658, -1.2103, -1.0059]],\n",
       "       \n",
       "               [[ 0.3558,  0.5405, -0.0064],\n",
       "                [-0.6658, -1.2103, -1.0059]],\n",
       "       \n",
       "               [[ 0.3558,  0.5405, -0.0064],\n",
       "                [-0.6658, -1.2103, -1.0059]],\n",
       "       \n",
       "               [[ 0.3558,  0.5405, -0.0064],\n",
       "                [-0.6658, -1.2103, -1.0059]],\n",
       "       \n",
       "               [[ 0.3558,  0.5405, -0.0064],\n",
       "                [-0.6658, -1.2103, -1.0059]]]),\n",
       "    x: Batch(\n",
       "           c: tensor([[[-1.5481, -1.1210, -0.4121, -0.4152],\n",
       "                       [-1.8367, -1.0638,  0.1189,  0.8731],\n",
       "                       [ 2.8579,  0.6689,  1.0275,  0.6867]],\n",
       "              \n",
       "                      [[-1.5481, -1.1210, -0.4121, -0.4152],\n",
       "                       [-1.8367, -1.0638,  0.1189,  0.8731],\n",
       "                       [ 2.8579,  0.6689,  1.0275,  0.6867]],\n",
       "              \n",
       "                      [[-1.5481, -1.1210, -0.4121, -0.4152],\n",
       "                       [-1.8367, -1.0638,  0.1189,  0.8731],\n",
       "                       [ 2.8579,  0.6689,  1.0275,  0.6867]],\n",
       "              \n",
       "                      [[-1.5481, -1.1210, -0.4121, -0.4152],\n",
       "                       [-1.8367, -1.0638,  0.1189,  0.8731],\n",
       "                       [ 2.8579,  0.6689,  1.0275,  0.6867]],\n",
       "              \n",
       "                      [[-1.5481, -1.1210, -0.4121, -0.4152],\n",
       "                       [-1.8367, -1.0638,  0.1189,  0.8731],\n",
       "                       [ 2.8579,  0.6689,  1.0275,  0.6867]],\n",
       "              \n",
       "                      [[-1.5481, -1.1210, -0.4121, -0.4152],\n",
       "                       [-1.8367, -1.0638,  0.1189,  0.8731],\n",
       "                       [ 2.8579,  0.6689,  1.0275,  0.6867]],\n",
       "              \n",
       "                      [[-1.5481, -1.1210, -0.4121, -0.4152],\n",
       "                       [-1.8367, -1.0638,  0.1189,  0.8731],\n",
       "                       [ 2.8579,  0.6689,  1.0275,  0.6867]],\n",
       "              \n",
       "                      [[-1.5481, -1.1210, -0.4121, -0.4152],\n",
       "                       [-1.8367, -1.0638,  0.1189,  0.8731],\n",
       "                       [ 2.8579,  0.6689,  1.0275,  0.6867]]]),\n",
       "       ),\n",
       ")"
      ]
     },
     "execution_count": 25,
     "metadata": {},
     "output_type": "execute_result"
    }
   ],
   "source": [
    "batches = [Batch(**_TREE_DATA_2) for _ in range(8)]\n",
    "\n",
    "Batch.stack(batches)"
   ]
  },
  {
   "cell_type": "code",
   "execution_count": 26,
   "id": "ec9037a3",
   "metadata": {
    "execution": {
     "iopub.execute_input": "2023-02-12T18:24:53.726349Z",
     "iopub.status.busy": "2023-02-12T18:24:53.725896Z",
     "iopub.status.idle": "2023-02-12T18:25:00.155413Z",
     "shell.execute_reply": "2023-02-12T18:25:00.154669Z"
    }
   },
   "outputs": [
    {
     "name": "stdout",
     "output_type": "stream",
     "text": [
      "79.1 µs ± 168 ns per loop (mean ± std. dev. of 7 runs, 10,000 loops each)\n"
     ]
    }
   ],
   "source": [
    "%timeit Batch.stack(batches)"
   ]
  },
  {
   "cell_type": "code",
   "execution_count": 27,
   "id": "cb8ab77e",
   "metadata": {
    "execution": {
     "iopub.execute_input": "2023-02-12T18:25:00.158363Z",
     "iopub.status.busy": "2023-02-12T18:25:00.157804Z",
     "iopub.status.idle": "2023-02-12T18:25:00.165184Z",
     "shell.execute_reply": "2023-02-12T18:25:00.164592Z"
    }
   },
   "outputs": [
    {
     "data": {
      "text/plain": [
       "Batch(\n",
       "    a: tensor([[ 0.3558,  0.5405, -0.0064],\n",
       "               [-0.6658, -1.2103, -1.0059],\n",
       "               [ 0.3558,  0.5405, -0.0064],\n",
       "               [-0.6658, -1.2103, -1.0059],\n",
       "               [ 0.3558,  0.5405, -0.0064],\n",
       "               [-0.6658, -1.2103, -1.0059],\n",
       "               [ 0.3558,  0.5405, -0.0064],\n",
       "               [-0.6658, -1.2103, -1.0059],\n",
       "               [ 0.3558,  0.5405, -0.0064],\n",
       "               [-0.6658, -1.2103, -1.0059],\n",
       "               [ 0.3558,  0.5405, -0.0064],\n",
       "               [-0.6658, -1.2103, -1.0059],\n",
       "               [ 0.3558,  0.5405, -0.0064],\n",
       "               [-0.6658, -1.2103, -1.0059],\n",
       "               [ 0.3558,  0.5405, -0.0064],\n",
       "               [-0.6658, -1.2103, -1.0059]]),\n",
       "    x: Batch(\n",
       "           c: tensor([[-1.5481, -1.1210, -0.4121, -0.4152],\n",
       "                      [-1.8367, -1.0638,  0.1189,  0.8731],\n",
       "                      [ 2.8579,  0.6689,  1.0275,  0.6867],\n",
       "                      [-1.5481, -1.1210, -0.4121, -0.4152],\n",
       "                      [-1.8367, -1.0638,  0.1189,  0.8731],\n",
       "                      [ 2.8579,  0.6689,  1.0275,  0.6867],\n",
       "                      [-1.5481, -1.1210, -0.4121, -0.4152],\n",
       "                      [-1.8367, -1.0638,  0.1189,  0.8731],\n",
       "                      [ 2.8579,  0.6689,  1.0275,  0.6867],\n",
       "                      [-1.5481, -1.1210, -0.4121, -0.4152],\n",
       "                      [-1.8367, -1.0638,  0.1189,  0.8731],\n",
       "                      [ 2.8579,  0.6689,  1.0275,  0.6867],\n",
       "                      [-1.5481, -1.1210, -0.4121, -0.4152],\n",
       "                      [-1.8367, -1.0638,  0.1189,  0.8731],\n",
       "                      [ 2.8579,  0.6689,  1.0275,  0.6867],\n",
       "                      [-1.5481, -1.1210, -0.4121, -0.4152],\n",
       "                      [-1.8367, -1.0638,  0.1189,  0.8731],\n",
       "                      [ 2.8579,  0.6689,  1.0275,  0.6867],\n",
       "                      [-1.5481, -1.1210, -0.4121, -0.4152],\n",
       "                      [-1.8367, -1.0638,  0.1189,  0.8731],\n",
       "                      [ 2.8579,  0.6689,  1.0275,  0.6867],\n",
       "                      [-1.5481, -1.1210, -0.4121, -0.4152],\n",
       "                      [-1.8367, -1.0638,  0.1189,  0.8731],\n",
       "                      [ 2.8579,  0.6689,  1.0275,  0.6867]]),\n",
       "       ),\n",
       ")"
      ]
     },
     "execution_count": 27,
     "metadata": {},
     "output_type": "execute_result"
    }
   ],
   "source": [
    "Batch.cat(batches)"
   ]
  },
  {
   "cell_type": "code",
   "execution_count": 28,
   "id": "18dfb045",
   "metadata": {
    "execution": {
     "iopub.execute_input": "2023-02-12T18:25:00.167566Z",
     "iopub.status.busy": "2023-02-12T18:25:00.167217Z",
     "iopub.status.idle": "2023-02-12T18:25:14.176293Z",
     "shell.execute_reply": "2023-02-12T18:25:14.175555Z"
    }
   },
   "outputs": [
    {
     "name": "stdout",
     "output_type": "stream",
     "text": [
      "172 µs ± 129 ns per loop (mean ± std. dev. of 7 runs, 10,000 loops each)\n"
     ]
    }
   ],
   "source": [
    "%timeit Batch.cat(batches)"
   ]
  },
  {
   "cell_type": "code",
   "execution_count": 29,
   "id": "c6688e51",
   "metadata": {
    "execution": {
     "iopub.execute_input": "2023-02-12T18:25:14.179054Z",
     "iopub.status.busy": "2023-02-12T18:25:14.178716Z",
     "iopub.status.idle": "2023-02-12T18:25:16.665220Z",
     "shell.execute_reply": "2023-02-12T18:25:16.664529Z"
    }
   },
   "outputs": [
    {
     "name": "stdout",
     "output_type": "stream",
     "text": [
      "305 µs ± 1.05 µs per loop (mean ± std. dev. of 7 runs, 1,000 loops each)\n"
     ]
    }
   ],
   "source": [
    "batch = Batch({\n",
    "    'obs': torch.randn(8, 4, 84, 84),\n",
    "    'action': torch.randint(0, 6, size=(8, 1,)),\n",
    "    'reward': torch.rand(8, 1)}\n",
    ")\n",
    "\n",
    "%timeit list(Batch.split(batch, 1, shuffle=False, merge_last=True))"
   ]
  },
  {
   "cell_type": "code",
   "execution_count": null,
   "id": "2539fbd9",
   "metadata": {},
   "outputs": [],
   "source": []
  }
 ],
 "metadata": {
  "kernelspec": {
   "display_name": "Python 3 (ipykernel)",
   "language": "python",
   "name": "python3"
  },
  "language_info": {
   "codemirror_mode": {
    "name": "ipython",
    "version": 3
   },
   "file_extension": ".py",
   "mimetype": "text/x-python",
   "name": "python",
   "nbconvert_exporter": "python",
   "pygments_lexer": "ipython3",
   "version": "3.8.16"
  }
 },
 "nbformat": 4,
 "nbformat_minor": 5
}
