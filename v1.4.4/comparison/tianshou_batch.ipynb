{
 "cells": [
  {
   "cell_type": "markdown",
   "id": "9d39d946",
   "metadata": {},
   "source": [
    "# Comparison Between TreeValue and Tianshou Batch"
   ]
  },
  {
   "cell_type": "markdown",
   "id": "3c6db2d4",
   "metadata": {},
   "source": [
    "In this section, we will take a look at the feature and performance of the [Tianshou Batch](https://github.com/thu-ml/tianshou) library, which is developed by Tsinghua Machine Learning Group."
   ]
  },
  {
   "cell_type": "markdown",
   "id": "069361b0",
   "metadata": {},
   "source": [
    "Before starting the comparison, let us define some thing."
   ]
  },
  {
   "cell_type": "code",
   "execution_count": 1,
   "id": "06fc8d26",
   "metadata": {
    "execution": {
     "iopub.execute_input": "2023-02-12T18:16:55.452620Z",
     "iopub.status.busy": "2023-02-12T18:16:55.452227Z",
     "iopub.status.idle": "2023-02-12T18:16:56.355441Z",
     "shell.execute_reply": "2023-02-12T18:16:56.354800Z"
    }
   },
   "outputs": [
    {
     "name": "stderr",
     "output_type": "stream",
     "text": [
      "/opt/hostedtoolcache/Python/3.8.16/x64/lib/python3.8/site-packages/tqdm/auto.py:22: TqdmWarning: IProgress not found. Please update jupyter and ipywidgets. See https://ipywidgets.readthedocs.io/en/stable/user_install.html\n",
      "  from .autonotebook import tqdm as notebook_tqdm\n"
     ]
    }
   ],
   "source": [
    "import torch \n",
    "\n",
    "_TREE_DATA_1 = {'a': 1, 'b': 2, 'x': {'c': 3, 'd': 4}}\n",
    "_TREE_DATA_2 = {\n",
    "    'a': torch.randn(2, 3), \n",
    "    'x': {\n",
    "        'c': torch.randn(3, 4)\n",
    "    },\n",
    "}\n",
    "_TREE_DATA_3 = {\n",
    "    'obs': torch.randn(4, 84, 84),\n",
    "    'action': torch.randint(0, 6, size=(1,)),\n",
    "    'reward': torch.rand(1),\n",
    "}"
   ]
  },
  {
   "cell_type": "markdown",
   "id": "83461b25",
   "metadata": {},
   "source": [
    "## Read and Write Operation"
   ]
  },
  {
   "cell_type": "markdown",
   "id": "067b3f73",
   "metadata": {},
   "source": [
    "Reading and writing are the two most common operations in the tree data structure based on the data model (TreeValue and Tianshou Batch both belong to this type), so this section will compare the reading and writing performance of these two libraries."
   ]
  },
  {
   "cell_type": "markdown",
   "id": "5d09a5b7",
   "metadata": {},
   "source": [
    "### TreeValue's Get and Set"
   ]
  },
  {
   "cell_type": "code",
   "execution_count": 2,
   "id": "9519c4bb",
   "metadata": {
    "execution": {
     "iopub.execute_input": "2023-02-12T18:16:56.358319Z",
     "iopub.status.busy": "2023-02-12T18:16:56.358055Z",
     "iopub.status.idle": "2023-02-12T18:16:56.390226Z",
     "shell.execute_reply": "2023-02-12T18:16:56.389612Z"
    }
   },
   "outputs": [],
   "source": [
    "from treevalue import FastTreeValue\n",
    "\n",
    "t = FastTreeValue(_TREE_DATA_2)"
   ]
  },
  {
   "cell_type": "code",
   "execution_count": 3,
   "id": "11c37677",
   "metadata": {
    "execution": {
     "iopub.execute_input": "2023-02-12T18:16:56.393048Z",
     "iopub.status.busy": "2023-02-12T18:16:56.392714Z",
     "iopub.status.idle": "2023-02-12T18:16:56.401682Z",
     "shell.execute_reply": "2023-02-12T18:16:56.401096Z"
    }
   },
   "outputs": [
    {
     "data": {
      "text/plain": [
       "<FastTreeValue 0x7f21e4f695b0>\n",
       "├── 'a' --> tensor([[ 1.1069,  0.7683, -1.8001],\n",
       "│                   [-0.8279, -0.5462,  0.9078]])\n",
       "└── 'x' --> <FastTreeValue 0x7f21e4f69cd0>\n",
       "    └── 'c' --> tensor([[ 0.0266, -0.0732, -0.0118,  0.4925],\n",
       "                        [-0.2249, -0.1677,  1.1172,  0.3157],\n",
       "                        [ 0.2862,  0.2572, -0.5545,  0.2737]])"
      ]
     },
     "execution_count": 3,
     "metadata": {},
     "output_type": "execute_result"
    }
   ],
   "source": [
    "t"
   ]
  },
  {
   "cell_type": "code",
   "execution_count": 4,
   "id": "fd70b0b9",
   "metadata": {
    "execution": {
     "iopub.execute_input": "2023-02-12T18:16:56.404280Z",
     "iopub.status.busy": "2023-02-12T18:16:56.403957Z",
     "iopub.status.idle": "2023-02-12T18:16:56.409451Z",
     "shell.execute_reply": "2023-02-12T18:16:56.408870Z"
    }
   },
   "outputs": [
    {
     "data": {
      "text/plain": [
       "tensor([[ 1.1069,  0.7683, -1.8001],\n",
       "        [-0.8279, -0.5462,  0.9078]])"
      ]
     },
     "execution_count": 4,
     "metadata": {},
     "output_type": "execute_result"
    }
   ],
   "source": [
    "t.a"
   ]
  },
  {
   "cell_type": "code",
   "execution_count": 5,
   "id": "c18197bd",
   "metadata": {
    "execution": {
     "iopub.execute_input": "2023-02-12T18:16:56.411920Z",
     "iopub.status.busy": "2023-02-12T18:16:56.411697Z",
     "iopub.status.idle": "2023-02-12T18:17:01.253532Z",
     "shell.execute_reply": "2023-02-12T18:17:01.252724Z"
    }
   },
   "outputs": [
    {
     "name": "stdout",
     "output_type": "stream",
     "text": [
      "59.3 ns ± 0.0713 ns per loop (mean ± std. dev. of 7 runs, 10,000,000 loops each)\n"
     ]
    }
   ],
   "source": [
    "%timeit t.a"
   ]
  },
  {
   "cell_type": "code",
   "execution_count": 6,
   "id": "bd52f867",
   "metadata": {
    "execution": {
     "iopub.execute_input": "2023-02-12T18:17:01.256566Z",
     "iopub.status.busy": "2023-02-12T18:17:01.255997Z",
     "iopub.status.idle": "2023-02-12T18:17:01.262616Z",
     "shell.execute_reply": "2023-02-12T18:17:01.262000Z"
    }
   },
   "outputs": [
    {
     "data": {
      "text/plain": [
       "<FastTreeValue 0x7f21e4f695b0>\n",
       "├── 'a' --> tensor([[-0.2260, -0.5159, -0.7075],\n",
       "│                   [-1.0928, -0.0710, -0.7186]])\n",
       "└── 'x' --> <FastTreeValue 0x7f21e4f69cd0>\n",
       "    └── 'c' --> tensor([[ 0.0266, -0.0732, -0.0118,  0.4925],\n",
       "                        [-0.2249, -0.1677,  1.1172,  0.3157],\n",
       "                        [ 0.2862,  0.2572, -0.5545,  0.2737]])"
      ]
     },
     "execution_count": 6,
     "metadata": {},
     "output_type": "execute_result"
    }
   ],
   "source": [
    "new_value = torch.randn(2, 3)\n",
    "t.a = new_value\n",
    "\n",
    "t"
   ]
  },
  {
   "cell_type": "code",
   "execution_count": 7,
   "id": "bbe04d1c",
   "metadata": {
    "execution": {
     "iopub.execute_input": "2023-02-12T18:17:01.265313Z",
     "iopub.status.busy": "2023-02-12T18:17:01.264955Z",
     "iopub.status.idle": "2023-02-12T18:17:06.037292Z",
     "shell.execute_reply": "2023-02-12T18:17:06.036530Z"
    }
   },
   "outputs": [
    {
     "name": "stdout",
     "output_type": "stream",
     "text": [
      "58.7 ns ± 0.0335 ns per loop (mean ± std. dev. of 7 runs, 10,000,000 loops each)\n"
     ]
    }
   ],
   "source": [
    "%timeit t.a = new_value"
   ]
  },
  {
   "cell_type": "markdown",
   "id": "48c49731",
   "metadata": {},
   "source": [
    "### Tianshou Batch's Get and Set"
   ]
  },
  {
   "cell_type": "code",
   "execution_count": 8,
   "id": "f1bb14c1",
   "metadata": {
    "execution": {
     "iopub.execute_input": "2023-02-12T18:17:06.040400Z",
     "iopub.status.busy": "2023-02-12T18:17:06.039935Z",
     "iopub.status.idle": "2023-02-12T18:17:06.361709Z",
     "shell.execute_reply": "2023-02-12T18:17:06.361039Z"
    }
   },
   "outputs": [],
   "source": [
    "from tianshou.data import Batch\n",
    "\n",
    "b = Batch(**_TREE_DATA_2)"
   ]
  },
  {
   "cell_type": "code",
   "execution_count": 9,
   "id": "cb0777c3",
   "metadata": {
    "execution": {
     "iopub.execute_input": "2023-02-12T18:17:06.364624Z",
     "iopub.status.busy": "2023-02-12T18:17:06.364189Z",
     "iopub.status.idle": "2023-02-12T18:17:06.369533Z",
     "shell.execute_reply": "2023-02-12T18:17:06.368886Z"
    }
   },
   "outputs": [
    {
     "data": {
      "text/plain": [
       "Batch(\n",
       "    a: tensor([[ 1.1069,  0.7683, -1.8001],\n",
       "               [-0.8279, -0.5462,  0.9078]]),\n",
       "    x: Batch(\n",
       "           c: tensor([[ 0.0266, -0.0732, -0.0118,  0.4925],\n",
       "                      [-0.2249, -0.1677,  1.1172,  0.3157],\n",
       "                      [ 0.2862,  0.2572, -0.5545,  0.2737]]),\n",
       "       ),\n",
       ")"
      ]
     },
     "execution_count": 9,
     "metadata": {},
     "output_type": "execute_result"
    }
   ],
   "source": [
    "b"
   ]
  },
  {
   "cell_type": "code",
   "execution_count": 10,
   "id": "43ef8ea3",
   "metadata": {
    "execution": {
     "iopub.execute_input": "2023-02-12T18:17:06.371967Z",
     "iopub.status.busy": "2023-02-12T18:17:06.371642Z",
     "iopub.status.idle": "2023-02-12T18:17:06.377606Z",
     "shell.execute_reply": "2023-02-12T18:17:06.377033Z"
    }
   },
   "outputs": [
    {
     "data": {
      "text/plain": [
       "tensor([[ 1.1069,  0.7683, -1.8001],\n",
       "        [-0.8279, -0.5462,  0.9078]])"
      ]
     },
     "execution_count": 10,
     "metadata": {},
     "output_type": "execute_result"
    }
   ],
   "source": [
    "b.a"
   ]
  },
  {
   "cell_type": "code",
   "execution_count": 11,
   "id": "b785ab72",
   "metadata": {
    "execution": {
     "iopub.execute_input": "2023-02-12T18:17:06.379968Z",
     "iopub.status.busy": "2023-02-12T18:17:06.379632Z",
     "iopub.status.idle": "2023-02-12T18:17:11.073920Z",
     "shell.execute_reply": "2023-02-12T18:17:11.073158Z"
    }
   },
   "outputs": [
    {
     "name": "stdout",
     "output_type": "stream",
     "text": [
      "57.7 ns ± 0.0207 ns per loop (mean ± std. dev. of 7 runs, 10,000,000 loops each)\n"
     ]
    }
   ],
   "source": [
    "%timeit b.a"
   ]
  },
  {
   "cell_type": "code",
   "execution_count": 12,
   "id": "ad54dc69",
   "metadata": {
    "execution": {
     "iopub.execute_input": "2023-02-12T18:17:11.076652Z",
     "iopub.status.busy": "2023-02-12T18:17:11.076300Z",
     "iopub.status.idle": "2023-02-12T18:17:11.082954Z",
     "shell.execute_reply": "2023-02-12T18:17:11.081998Z"
    }
   },
   "outputs": [
    {
     "data": {
      "text/plain": [
       "Batch(\n",
       "    a: tensor([[-0.4910,  1.8747,  0.9439],\n",
       "               [-0.3469,  0.3348,  0.8213]]),\n",
       "    x: Batch(\n",
       "           c: tensor([[ 0.0266, -0.0732, -0.0118,  0.4925],\n",
       "                      [-0.2249, -0.1677,  1.1172,  0.3157],\n",
       "                      [ 0.2862,  0.2572, -0.5545,  0.2737]]),\n",
       "       ),\n",
       ")"
      ]
     },
     "execution_count": 12,
     "metadata": {},
     "output_type": "execute_result"
    }
   ],
   "source": [
    "new_value = torch.randn(2, 3)\n",
    "b.a = new_value\n",
    "\n",
    "b"
   ]
  },
  {
   "cell_type": "code",
   "execution_count": 13,
   "id": "29b1d0bf",
   "metadata": {
    "execution": {
     "iopub.execute_input": "2023-02-12T18:17:11.085231Z",
     "iopub.status.busy": "2023-02-12T18:17:11.084998Z",
     "iopub.status.idle": "2023-02-12T18:17:15.022944Z",
     "shell.execute_reply": "2023-02-12T18:17:15.021823Z"
    }
   },
   "outputs": [
    {
     "name": "stdout",
     "output_type": "stream",
     "text": [
      "484 ns ± 0.195 ns per loop (mean ± std. dev. of 7 runs, 1,000,000 loops each)\n"
     ]
    }
   ],
   "source": [
    "%timeit b.a = new_value"
   ]
  },
  {
   "cell_type": "markdown",
   "id": "b61ad1d0",
   "metadata": {},
   "source": [
    "## Initialization"
   ]
  },
  {
   "cell_type": "markdown",
   "id": "d70f0d54",
   "metadata": {},
   "source": [
    "### TreeValue's Initialization"
   ]
  },
  {
   "cell_type": "code",
   "execution_count": 14,
   "id": "d32a679b",
   "metadata": {
    "execution": {
     "iopub.execute_input": "2023-02-12T18:17:15.025978Z",
     "iopub.status.busy": "2023-02-12T18:17:15.025738Z",
     "iopub.status.idle": "2023-02-12T18:17:21.777627Z",
     "shell.execute_reply": "2023-02-12T18:17:21.776866Z"
    }
   },
   "outputs": [
    {
     "name": "stdout",
     "output_type": "stream",
     "text": [
      "831 ns ± 0.242 ns per loop (mean ± std. dev. of 7 runs, 1,000,000 loops each)\n"
     ]
    }
   ],
   "source": [
    "%timeit FastTreeValue(_TREE_DATA_1)"
   ]
  },
  {
   "cell_type": "markdown",
   "id": "24f3707b",
   "metadata": {},
   "source": [
    "### Tianshou Batch's Initialization"
   ]
  },
  {
   "cell_type": "code",
   "execution_count": 15,
   "id": "ac3958df",
   "metadata": {
    "execution": {
     "iopub.execute_input": "2023-02-12T18:17:21.780699Z",
     "iopub.status.busy": "2023-02-12T18:17:21.780226Z",
     "iopub.status.idle": "2023-02-12T18:17:30.888073Z",
     "shell.execute_reply": "2023-02-12T18:17:30.887306Z"
    }
   },
   "outputs": [
    {
     "name": "stdout",
     "output_type": "stream",
     "text": [
      "11.2 µs ± 44.7 ns per loop (mean ± std. dev. of 7 runs, 100,000 loops each)\n"
     ]
    }
   ],
   "source": [
    "%timeit Batch(**_TREE_DATA_1)"
   ]
  },
  {
   "cell_type": "markdown",
   "id": "1ab82e2d",
   "metadata": {},
   "source": [
    "## Deep Copy Operation"
   ]
  },
  {
   "cell_type": "code",
   "execution_count": 16,
   "id": "210a9442",
   "metadata": {
    "execution": {
     "iopub.execute_input": "2023-02-12T18:17:30.891282Z",
     "iopub.status.busy": "2023-02-12T18:17:30.890780Z",
     "iopub.status.idle": "2023-02-12T18:17:30.895057Z",
     "shell.execute_reply": "2023-02-12T18:17:30.894010Z"
    }
   },
   "outputs": [],
   "source": [
    "import copy"
   ]
  },
  {
   "cell_type": "markdown",
   "id": "5a736274",
   "metadata": {},
   "source": [
    "### Deep Copy of TreeValue"
   ]
  },
  {
   "cell_type": "code",
   "execution_count": 17,
   "id": "f9bcadd6",
   "metadata": {
    "execution": {
     "iopub.execute_input": "2023-02-12T18:17:30.897829Z",
     "iopub.status.busy": "2023-02-12T18:17:30.897350Z",
     "iopub.status.idle": "2023-02-12T18:17:42.022641Z",
     "shell.execute_reply": "2023-02-12T18:17:42.022049Z"
    }
   },
   "outputs": [
    {
     "name": "stdout",
     "output_type": "stream",
     "text": [
      "137 µs ± 658 ns per loop (mean ± std. dev. of 7 runs, 10,000 loops each)\n"
     ]
    }
   ],
   "source": [
    "t3 = FastTreeValue(_TREE_DATA_3)\n",
    "%timeit copy.deepcopy(t3)"
   ]
  },
  {
   "cell_type": "markdown",
   "id": "bf8be7ea",
   "metadata": {},
   "source": [
    "### Deep Copy of Tianshou Batch"
   ]
  },
  {
   "cell_type": "code",
   "execution_count": 18,
   "id": "91998e6f",
   "metadata": {
    "execution": {
     "iopub.execute_input": "2023-02-12T18:17:42.025873Z",
     "iopub.status.busy": "2023-02-12T18:17:42.025419Z",
     "iopub.status.idle": "2023-02-12T18:17:53.362843Z",
     "shell.execute_reply": "2023-02-12T18:17:53.362279Z"
    }
   },
   "outputs": [
    {
     "name": "stdout",
     "output_type": "stream",
     "text": [
      "140 µs ± 697 ns per loop (mean ± std. dev. of 7 runs, 10,000 loops each)\n"
     ]
    }
   ],
   "source": [
    "b3 = Batch(**_TREE_DATA_3)\n",
    "%timeit copy.deepcopy(b3)"
   ]
  },
  {
   "cell_type": "markdown",
   "id": "223162fb",
   "metadata": {},
   "source": [
    "## Stack, Concat and Split Operation"
   ]
  },
  {
   "cell_type": "markdown",
   "id": "85fa4a73",
   "metadata": {},
   "source": [
    "### Performance of TreeValue"
   ]
  },
  {
   "cell_type": "code",
   "execution_count": 19,
   "id": "a0c2b697",
   "metadata": {
    "execution": {
     "iopub.execute_input": "2023-02-12T18:17:53.366754Z",
     "iopub.status.busy": "2023-02-12T18:17:53.365840Z",
     "iopub.status.idle": "2023-02-12T18:17:53.370056Z",
     "shell.execute_reply": "2023-02-12T18:17:53.369524Z"
    }
   },
   "outputs": [],
   "source": [
    "trees = [FastTreeValue(_TREE_DATA_2) for _ in range(8)]"
   ]
  },
  {
   "cell_type": "code",
   "execution_count": 20,
   "id": "017ea5a5",
   "metadata": {
    "execution": {
     "iopub.execute_input": "2023-02-12T18:17:53.373572Z",
     "iopub.status.busy": "2023-02-12T18:17:53.372649Z",
     "iopub.status.idle": "2023-02-12T18:17:53.381399Z",
     "shell.execute_reply": "2023-02-12T18:17:53.380852Z"
    }
   },
   "outputs": [
    {
     "data": {
      "text/plain": [
       "<FastTreeValue 0x7f2137bd5250>\n",
       "├── 'a' --> tensor([[[ 1.1069,  0.7683, -1.8001],\n",
       "│                    [-0.8279, -0.5462,  0.9078]],\n",
       "│           \n",
       "│                   [[ 1.1069,  0.7683, -1.8001],\n",
       "│                    [-0.8279, -0.5462,  0.9078]],\n",
       "│           \n",
       "│                   [[ 1.1069,  0.7683, -1.8001],\n",
       "│                    [-0.8279, -0.5462,  0.9078]],\n",
       "│           \n",
       "│                   [[ 1.1069,  0.7683, -1.8001],\n",
       "│                    [-0.8279, -0.5462,  0.9078]],\n",
       "│           \n",
       "│                   [[ 1.1069,  0.7683, -1.8001],\n",
       "│                    [-0.8279, -0.5462,  0.9078]],\n",
       "│           \n",
       "│                   [[ 1.1069,  0.7683, -1.8001],\n",
       "│                    [-0.8279, -0.5462,  0.9078]],\n",
       "│           \n",
       "│                   [[ 1.1069,  0.7683, -1.8001],\n",
       "│                    [-0.8279, -0.5462,  0.9078]],\n",
       "│           \n",
       "│                   [[ 1.1069,  0.7683, -1.8001],\n",
       "│                    [-0.8279, -0.5462,  0.9078]]])\n",
       "└── 'x' --> <FastTreeValue 0x7f2137bd51f0>\n",
       "    └── 'c' --> tensor([[[ 0.0266, -0.0732, -0.0118,  0.4925],\n",
       "                         [-0.2249, -0.1677,  1.1172,  0.3157],\n",
       "                         [ 0.2862,  0.2572, -0.5545,  0.2737]],\n",
       "                \n",
       "                        [[ 0.0266, -0.0732, -0.0118,  0.4925],\n",
       "                         [-0.2249, -0.1677,  1.1172,  0.3157],\n",
       "                         [ 0.2862,  0.2572, -0.5545,  0.2737]],\n",
       "                \n",
       "                        [[ 0.0266, -0.0732, -0.0118,  0.4925],\n",
       "                         [-0.2249, -0.1677,  1.1172,  0.3157],\n",
       "                         [ 0.2862,  0.2572, -0.5545,  0.2737]],\n",
       "                \n",
       "                        [[ 0.0266, -0.0732, -0.0118,  0.4925],\n",
       "                         [-0.2249, -0.1677,  1.1172,  0.3157],\n",
       "                         [ 0.2862,  0.2572, -0.5545,  0.2737]],\n",
       "                \n",
       "                        [[ 0.0266, -0.0732, -0.0118,  0.4925],\n",
       "                         [-0.2249, -0.1677,  1.1172,  0.3157],\n",
       "                         [ 0.2862,  0.2572, -0.5545,  0.2737]],\n",
       "                \n",
       "                        [[ 0.0266, -0.0732, -0.0118,  0.4925],\n",
       "                         [-0.2249, -0.1677,  1.1172,  0.3157],\n",
       "                         [ 0.2862,  0.2572, -0.5545,  0.2737]],\n",
       "                \n",
       "                        [[ 0.0266, -0.0732, -0.0118,  0.4925],\n",
       "                         [-0.2249, -0.1677,  1.1172,  0.3157],\n",
       "                         [ 0.2862,  0.2572, -0.5545,  0.2737]],\n",
       "                \n",
       "                        [[ 0.0266, -0.0732, -0.0118,  0.4925],\n",
       "                         [-0.2249, -0.1677,  1.1172,  0.3157],\n",
       "                         [ 0.2862,  0.2572, -0.5545,  0.2737]]])"
      ]
     },
     "execution_count": 20,
     "metadata": {},
     "output_type": "execute_result"
    }
   ],
   "source": [
    "t_stack = FastTreeValue.func(subside=True)(torch.stack)\n",
    "\n",
    "t_stack(trees)"
   ]
  },
  {
   "cell_type": "code",
   "execution_count": 21,
   "id": "f8b3f415",
   "metadata": {
    "execution": {
     "iopub.execute_input": "2023-02-12T18:17:53.384849Z",
     "iopub.status.busy": "2023-02-12T18:17:53.383925Z",
     "iopub.status.idle": "2023-02-12T18:17:55.992081Z",
     "shell.execute_reply": "2023-02-12T18:17:55.991434Z"
    }
   },
   "outputs": [
    {
     "name": "stdout",
     "output_type": "stream",
     "text": [
      "32.1 µs ± 71.1 ns per loop (mean ± std. dev. of 7 runs, 10,000 loops each)\n"
     ]
    }
   ],
   "source": [
    "%timeit t_stack(trees)"
   ]
  },
  {
   "cell_type": "code",
   "execution_count": 22,
   "id": "94b56771",
   "metadata": {
    "execution": {
     "iopub.execute_input": "2023-02-12T18:17:55.994900Z",
     "iopub.status.busy": "2023-02-12T18:17:55.994521Z",
     "iopub.status.idle": "2023-02-12T18:17:56.002490Z",
     "shell.execute_reply": "2023-02-12T18:17:56.001882Z"
    }
   },
   "outputs": [
    {
     "data": {
      "text/plain": [
       "<FastTreeValue 0x7f21e4f86190>\n",
       "├── 'a' --> tensor([[ 1.1069,  0.7683, -1.8001],\n",
       "│                   [-0.8279, -0.5462,  0.9078],\n",
       "│                   [ 1.1069,  0.7683, -1.8001],\n",
       "│                   [-0.8279, -0.5462,  0.9078],\n",
       "│                   [ 1.1069,  0.7683, -1.8001],\n",
       "│                   [-0.8279, -0.5462,  0.9078],\n",
       "│                   [ 1.1069,  0.7683, -1.8001],\n",
       "│                   [-0.8279, -0.5462,  0.9078],\n",
       "│                   [ 1.1069,  0.7683, -1.8001],\n",
       "│                   [-0.8279, -0.5462,  0.9078],\n",
       "│                   [ 1.1069,  0.7683, -1.8001],\n",
       "│                   [-0.8279, -0.5462,  0.9078],\n",
       "│                   [ 1.1069,  0.7683, -1.8001],\n",
       "│                   [-0.8279, -0.5462,  0.9078],\n",
       "│                   [ 1.1069,  0.7683, -1.8001],\n",
       "│                   [-0.8279, -0.5462,  0.9078]])\n",
       "└── 'x' --> <FastTreeValue 0x7f21e4f86f40>\n",
       "    └── 'c' --> tensor([[ 0.0266, -0.0732, -0.0118,  0.4925],\n",
       "                        [-0.2249, -0.1677,  1.1172,  0.3157],\n",
       "                        [ 0.2862,  0.2572, -0.5545,  0.2737],\n",
       "                        [ 0.0266, -0.0732, -0.0118,  0.4925],\n",
       "                        [-0.2249, -0.1677,  1.1172,  0.3157],\n",
       "                        [ 0.2862,  0.2572, -0.5545,  0.2737],\n",
       "                        [ 0.0266, -0.0732, -0.0118,  0.4925],\n",
       "                        [-0.2249, -0.1677,  1.1172,  0.3157],\n",
       "                        [ 0.2862,  0.2572, -0.5545,  0.2737],\n",
       "                        [ 0.0266, -0.0732, -0.0118,  0.4925],\n",
       "                        [-0.2249, -0.1677,  1.1172,  0.3157],\n",
       "                        [ 0.2862,  0.2572, -0.5545,  0.2737],\n",
       "                        [ 0.0266, -0.0732, -0.0118,  0.4925],\n",
       "                        [-0.2249, -0.1677,  1.1172,  0.3157],\n",
       "                        [ 0.2862,  0.2572, -0.5545,  0.2737],\n",
       "                        [ 0.0266, -0.0732, -0.0118,  0.4925],\n",
       "                        [-0.2249, -0.1677,  1.1172,  0.3157],\n",
       "                        [ 0.2862,  0.2572, -0.5545,  0.2737],\n",
       "                        [ 0.0266, -0.0732, -0.0118,  0.4925],\n",
       "                        [-0.2249, -0.1677,  1.1172,  0.3157],\n",
       "                        [ 0.2862,  0.2572, -0.5545,  0.2737],\n",
       "                        [ 0.0266, -0.0732, -0.0118,  0.4925],\n",
       "                        [-0.2249, -0.1677,  1.1172,  0.3157],\n",
       "                        [ 0.2862,  0.2572, -0.5545,  0.2737]])"
      ]
     },
     "execution_count": 22,
     "metadata": {},
     "output_type": "execute_result"
    }
   ],
   "source": [
    "t_cat = FastTreeValue.func(subside=True)(torch.cat)\n",
    "\n",
    "t_cat(trees)"
   ]
  },
  {
   "cell_type": "code",
   "execution_count": 23,
   "id": "5e9c06a6",
   "metadata": {
    "execution": {
     "iopub.execute_input": "2023-02-12T18:17:56.004903Z",
     "iopub.status.busy": "2023-02-12T18:17:56.004547Z",
     "iopub.status.idle": "2023-02-12T18:17:58.404866Z",
     "shell.execute_reply": "2023-02-12T18:17:58.404194Z"
    }
   },
   "outputs": [
    {
     "name": "stdout",
     "output_type": "stream",
     "text": [
      "29.5 µs ± 69 ns per loop (mean ± std. dev. of 7 runs, 10,000 loops each)\n"
     ]
    }
   ],
   "source": [
    "%timeit t_cat(trees)"
   ]
  },
  {
   "cell_type": "code",
   "execution_count": 24,
   "id": "a3ab5c8f",
   "metadata": {
    "execution": {
     "iopub.execute_input": "2023-02-12T18:17:58.408060Z",
     "iopub.status.busy": "2023-02-12T18:17:58.407468Z",
     "iopub.status.idle": "2023-02-12T18:18:03.174947Z",
     "shell.execute_reply": "2023-02-12T18:18:03.174183Z"
    }
   },
   "outputs": [
    {
     "name": "stdout",
     "output_type": "stream",
     "text": [
      "58.7 µs ± 122 ns per loop (mean ± std. dev. of 7 runs, 10,000 loops each)\n"
     ]
    }
   ],
   "source": [
    "t_split = FastTreeValue.func(rise=True)(torch.split)\n",
    "tree = FastTreeValue({\n",
    "    'obs': torch.randn(8, 4, 84, 84),\n",
    "    'action': torch.randint(0, 6, size=(8, 1,)),\n",
    "    'reward': torch.rand(8, 1),\n",
    "})\n",
    "\n",
    "%timeit t_split(tree, 1)"
   ]
  },
  {
   "cell_type": "markdown",
   "id": "31c3ec0b",
   "metadata": {},
   "source": [
    "### Performance of Tianshou Batch"
   ]
  },
  {
   "cell_type": "code",
   "execution_count": 25,
   "id": "9ead828a",
   "metadata": {
    "execution": {
     "iopub.execute_input": "2023-02-12T18:18:03.178148Z",
     "iopub.status.busy": "2023-02-12T18:18:03.177625Z",
     "iopub.status.idle": "2023-02-12T18:18:03.185455Z",
     "shell.execute_reply": "2023-02-12T18:18:03.184861Z"
    }
   },
   "outputs": [
    {
     "data": {
      "text/plain": [
       "Batch(\n",
       "    x: Batch(\n",
       "           c: tensor([[[ 0.0266, -0.0732, -0.0118,  0.4925],\n",
       "                       [-0.2249, -0.1677,  1.1172,  0.3157],\n",
       "                       [ 0.2862,  0.2572, -0.5545,  0.2737]],\n",
       "              \n",
       "                      [[ 0.0266, -0.0732, -0.0118,  0.4925],\n",
       "                       [-0.2249, -0.1677,  1.1172,  0.3157],\n",
       "                       [ 0.2862,  0.2572, -0.5545,  0.2737]],\n",
       "              \n",
       "                      [[ 0.0266, -0.0732, -0.0118,  0.4925],\n",
       "                       [-0.2249, -0.1677,  1.1172,  0.3157],\n",
       "                       [ 0.2862,  0.2572, -0.5545,  0.2737]],\n",
       "              \n",
       "                      [[ 0.0266, -0.0732, -0.0118,  0.4925],\n",
       "                       [-0.2249, -0.1677,  1.1172,  0.3157],\n",
       "                       [ 0.2862,  0.2572, -0.5545,  0.2737]],\n",
       "              \n",
       "                      [[ 0.0266, -0.0732, -0.0118,  0.4925],\n",
       "                       [-0.2249, -0.1677,  1.1172,  0.3157],\n",
       "                       [ 0.2862,  0.2572, -0.5545,  0.2737]],\n",
       "              \n",
       "                      [[ 0.0266, -0.0732, -0.0118,  0.4925],\n",
       "                       [-0.2249, -0.1677,  1.1172,  0.3157],\n",
       "                       [ 0.2862,  0.2572, -0.5545,  0.2737]],\n",
       "              \n",
       "                      [[ 0.0266, -0.0732, -0.0118,  0.4925],\n",
       "                       [-0.2249, -0.1677,  1.1172,  0.3157],\n",
       "                       [ 0.2862,  0.2572, -0.5545,  0.2737]],\n",
       "              \n",
       "                      [[ 0.0266, -0.0732, -0.0118,  0.4925],\n",
       "                       [-0.2249, -0.1677,  1.1172,  0.3157],\n",
       "                       [ 0.2862,  0.2572, -0.5545,  0.2737]]]),\n",
       "       ),\n",
       "    a: tensor([[[ 1.1069,  0.7683, -1.8001],\n",
       "                [-0.8279, -0.5462,  0.9078]],\n",
       "       \n",
       "               [[ 1.1069,  0.7683, -1.8001],\n",
       "                [-0.8279, -0.5462,  0.9078]],\n",
       "       \n",
       "               [[ 1.1069,  0.7683, -1.8001],\n",
       "                [-0.8279, -0.5462,  0.9078]],\n",
       "       \n",
       "               [[ 1.1069,  0.7683, -1.8001],\n",
       "                [-0.8279, -0.5462,  0.9078]],\n",
       "       \n",
       "               [[ 1.1069,  0.7683, -1.8001],\n",
       "                [-0.8279, -0.5462,  0.9078]],\n",
       "       \n",
       "               [[ 1.1069,  0.7683, -1.8001],\n",
       "                [-0.8279, -0.5462,  0.9078]],\n",
       "       \n",
       "               [[ 1.1069,  0.7683, -1.8001],\n",
       "                [-0.8279, -0.5462,  0.9078]],\n",
       "       \n",
       "               [[ 1.1069,  0.7683, -1.8001],\n",
       "                [-0.8279, -0.5462,  0.9078]]]),\n",
       ")"
      ]
     },
     "execution_count": 25,
     "metadata": {},
     "output_type": "execute_result"
    }
   ],
   "source": [
    "batches = [Batch(**_TREE_DATA_2) for _ in range(8)]\n",
    "\n",
    "Batch.stack(batches)"
   ]
  },
  {
   "cell_type": "code",
   "execution_count": 26,
   "id": "ec9037a3",
   "metadata": {
    "execution": {
     "iopub.execute_input": "2023-02-12T18:18:03.188025Z",
     "iopub.status.busy": "2023-02-12T18:18:03.187692Z",
     "iopub.status.idle": "2023-02-12T18:18:09.513802Z",
     "shell.execute_reply": "2023-02-12T18:18:09.513092Z"
    }
   },
   "outputs": [
    {
     "name": "stdout",
     "output_type": "stream",
     "text": [
      "77.9 µs ± 143 ns per loop (mean ± std. dev. of 7 runs, 10,000 loops each)\n"
     ]
    }
   ],
   "source": [
    "%timeit Batch.stack(batches)"
   ]
  },
  {
   "cell_type": "code",
   "execution_count": 27,
   "id": "cb8ab77e",
   "metadata": {
    "execution": {
     "iopub.execute_input": "2023-02-12T18:18:09.516513Z",
     "iopub.status.busy": "2023-02-12T18:18:09.516290Z",
     "iopub.status.idle": "2023-02-12T18:18:09.523390Z",
     "shell.execute_reply": "2023-02-12T18:18:09.522785Z"
    }
   },
   "outputs": [
    {
     "data": {
      "text/plain": [
       "Batch(\n",
       "    x: Batch(\n",
       "           c: tensor([[ 0.0266, -0.0732, -0.0118,  0.4925],\n",
       "                      [-0.2249, -0.1677,  1.1172,  0.3157],\n",
       "                      [ 0.2862,  0.2572, -0.5545,  0.2737],\n",
       "                      [ 0.0266, -0.0732, -0.0118,  0.4925],\n",
       "                      [-0.2249, -0.1677,  1.1172,  0.3157],\n",
       "                      [ 0.2862,  0.2572, -0.5545,  0.2737],\n",
       "                      [ 0.0266, -0.0732, -0.0118,  0.4925],\n",
       "                      [-0.2249, -0.1677,  1.1172,  0.3157],\n",
       "                      [ 0.2862,  0.2572, -0.5545,  0.2737],\n",
       "                      [ 0.0266, -0.0732, -0.0118,  0.4925],\n",
       "                      [-0.2249, -0.1677,  1.1172,  0.3157],\n",
       "                      [ 0.2862,  0.2572, -0.5545,  0.2737],\n",
       "                      [ 0.0266, -0.0732, -0.0118,  0.4925],\n",
       "                      [-0.2249, -0.1677,  1.1172,  0.3157],\n",
       "                      [ 0.2862,  0.2572, -0.5545,  0.2737],\n",
       "                      [ 0.0266, -0.0732, -0.0118,  0.4925],\n",
       "                      [-0.2249, -0.1677,  1.1172,  0.3157],\n",
       "                      [ 0.2862,  0.2572, -0.5545,  0.2737],\n",
       "                      [ 0.0266, -0.0732, -0.0118,  0.4925],\n",
       "                      [-0.2249, -0.1677,  1.1172,  0.3157],\n",
       "                      [ 0.2862,  0.2572, -0.5545,  0.2737],\n",
       "                      [ 0.0266, -0.0732, -0.0118,  0.4925],\n",
       "                      [-0.2249, -0.1677,  1.1172,  0.3157],\n",
       "                      [ 0.2862,  0.2572, -0.5545,  0.2737]]),\n",
       "       ),\n",
       "    a: tensor([[ 1.1069,  0.7683, -1.8001],\n",
       "               [-0.8279, -0.5462,  0.9078],\n",
       "               [ 1.1069,  0.7683, -1.8001],\n",
       "               [-0.8279, -0.5462,  0.9078],\n",
       "               [ 1.1069,  0.7683, -1.8001],\n",
       "               [-0.8279, -0.5462,  0.9078],\n",
       "               [ 1.1069,  0.7683, -1.8001],\n",
       "               [-0.8279, -0.5462,  0.9078],\n",
       "               [ 1.1069,  0.7683, -1.8001],\n",
       "               [-0.8279, -0.5462,  0.9078],\n",
       "               [ 1.1069,  0.7683, -1.8001],\n",
       "               [-0.8279, -0.5462,  0.9078],\n",
       "               [ 1.1069,  0.7683, -1.8001],\n",
       "               [-0.8279, -0.5462,  0.9078],\n",
       "               [ 1.1069,  0.7683, -1.8001],\n",
       "               [-0.8279, -0.5462,  0.9078]]),\n",
       ")"
      ]
     },
     "execution_count": 27,
     "metadata": {},
     "output_type": "execute_result"
    }
   ],
   "source": [
    "Batch.cat(batches)"
   ]
  },
  {
   "cell_type": "code",
   "execution_count": 28,
   "id": "18dfb045",
   "metadata": {
    "execution": {
     "iopub.execute_input": "2023-02-12T18:18:09.525916Z",
     "iopub.status.busy": "2023-02-12T18:18:09.525697Z",
     "iopub.status.idle": "2023-02-12T18:18:22.549098Z",
     "shell.execute_reply": "2023-02-12T18:18:22.548350Z"
    }
   },
   "outputs": [
    {
     "name": "stdout",
     "output_type": "stream",
     "text": [
      "160 µs ± 248 ns per loop (mean ± std. dev. of 7 runs, 10,000 loops each)\n"
     ]
    }
   ],
   "source": [
    "%timeit Batch.cat(batches)"
   ]
  },
  {
   "cell_type": "code",
   "execution_count": 29,
   "id": "c6688e51",
   "metadata": {
    "execution": {
     "iopub.execute_input": "2023-02-12T18:18:22.552036Z",
     "iopub.status.busy": "2023-02-12T18:18:22.551521Z",
     "iopub.status.idle": "2023-02-12T18:18:25.055697Z",
     "shell.execute_reply": "2023-02-12T18:18:25.055120Z"
    }
   },
   "outputs": [
    {
     "name": "stdout",
     "output_type": "stream",
     "text": [
      "307 µs ± 4.41 µs per loop (mean ± std. dev. of 7 runs, 1,000 loops each)\n"
     ]
    }
   ],
   "source": [
    "batch = Batch({\n",
    "    'obs': torch.randn(8, 4, 84, 84),\n",
    "    'action': torch.randint(0, 6, size=(8, 1,)),\n",
    "    'reward': torch.rand(8, 1)}\n",
    ")\n",
    "\n",
    "%timeit list(Batch.split(batch, 1, shuffle=False, merge_last=True))"
   ]
  },
  {
   "cell_type": "code",
   "execution_count": null,
   "id": "2539fbd9",
   "metadata": {},
   "outputs": [],
   "source": []
  }
 ],
 "metadata": {
  "kernelspec": {
   "display_name": "Python 3 (ipykernel)",
   "language": "python",
   "name": "python3"
  },
  "language_info": {
   "codemirror_mode": {
    "name": "ipython",
    "version": 3
   },
   "file_extension": ".py",
   "mimetype": "text/x-python",
   "name": "python",
   "nbconvert_exporter": "python",
   "pygments_lexer": "ipython3",
   "version": "3.8.16"
  }
 },
 "nbformat": 4,
 "nbformat_minor": 5
}
