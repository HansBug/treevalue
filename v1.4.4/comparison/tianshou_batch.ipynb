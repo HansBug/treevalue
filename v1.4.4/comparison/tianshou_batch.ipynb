{
 "cells": [
  {
   "cell_type": "markdown",
   "id": "9d39d946",
   "metadata": {},
   "source": [
    "# Comparison Between TreeValue and Tianshou Batch"
   ]
  },
  {
   "cell_type": "markdown",
   "id": "3c6db2d4",
   "metadata": {},
   "source": [
    "In this section, we will take a look at the feature and performance of the [Tianshou Batch](https://github.com/thu-ml/tianshou) library, which is developed by Tsinghua Machine Learning Group."
   ]
  },
  {
   "cell_type": "markdown",
   "id": "069361b0",
   "metadata": {},
   "source": [
    "Before starting the comparison, let us define some thing."
   ]
  },
  {
   "cell_type": "code",
   "execution_count": 1,
   "id": "06fc8d26",
   "metadata": {
    "execution": {
     "iopub.execute_input": "2023-02-27T12:51:23.242952Z",
     "iopub.status.busy": "2023-02-27T12:51:23.242289Z",
     "iopub.status.idle": "2023-02-27T12:51:24.391026Z",
     "shell.execute_reply": "2023-02-27T12:51:24.389805Z"
    }
   },
   "outputs": [
    {
     "name": "stderr",
     "output_type": "stream",
     "text": [
      "/opt/hostedtoolcache/Python/3.8.16/x64/lib/python3.8/site-packages/tqdm/auto.py:22: TqdmWarning: IProgress not found. Please update jupyter and ipywidgets. See https://ipywidgets.readthedocs.io/en/stable/user_install.html\n",
      "  from .autonotebook import tqdm as notebook_tqdm\n"
     ]
    }
   ],
   "source": [
    "import torch \n",
    "\n",
    "_TREE_DATA_1 = {'a': 1, 'b': 2, 'x': {'c': 3, 'd': 4}}\n",
    "_TREE_DATA_2 = {\n",
    "    'a': torch.randn(2, 3), \n",
    "    'x': {\n",
    "        'c': torch.randn(3, 4)\n",
    "    },\n",
    "}\n",
    "_TREE_DATA_3 = {\n",
    "    'obs': torch.randn(4, 84, 84),\n",
    "    'action': torch.randint(0, 6, size=(1,)),\n",
    "    'reward': torch.rand(1),\n",
    "}"
   ]
  },
  {
   "cell_type": "markdown",
   "id": "83461b25",
   "metadata": {},
   "source": [
    "## Read and Write Operation"
   ]
  },
  {
   "cell_type": "markdown",
   "id": "067b3f73",
   "metadata": {},
   "source": [
    "Reading and writing are the two most common operations in the tree data structure based on the data model (TreeValue and Tianshou Batch both belong to this type), so this section will compare the reading and writing performance of these two libraries."
   ]
  },
  {
   "cell_type": "markdown",
   "id": "5d09a5b7",
   "metadata": {},
   "source": [
    "### TreeValue's Get and Set"
   ]
  },
  {
   "cell_type": "code",
   "execution_count": 2,
   "id": "9519c4bb",
   "metadata": {
    "execution": {
     "iopub.execute_input": "2023-02-27T12:51:24.395183Z",
     "iopub.status.busy": "2023-02-27T12:51:24.394824Z",
     "iopub.status.idle": "2023-02-27T12:51:24.742086Z",
     "shell.execute_reply": "2023-02-27T12:51:24.740914Z"
    }
   },
   "outputs": [],
   "source": [
    "from treevalue import FastTreeValue\n",
    "\n",
    "t = FastTreeValue(_TREE_DATA_2)"
   ]
  },
  {
   "cell_type": "code",
   "execution_count": 3,
   "id": "11c37677",
   "metadata": {
    "execution": {
     "iopub.execute_input": "2023-02-27T12:51:24.746723Z",
     "iopub.status.busy": "2023-02-27T12:51:24.745820Z",
     "iopub.status.idle": "2023-02-27T12:51:24.757549Z",
     "shell.execute_reply": "2023-02-27T12:51:24.756618Z"
    }
   },
   "outputs": [
    {
     "data": {
      "text/plain": [
       "<FastTreeValue 0x7fc6bc121ca0>\n",
       "├── 'a' --> tensor([[ 1.4690,  1.1233,  0.8849],\n",
       "│                   [ 0.0734,  1.1338, -0.5753]])\n",
       "└── 'x' --> <FastTreeValue 0x7fc6bc1218b0>\n",
       "    └── 'c' --> tensor([[ 0.7051,  1.3283,  0.6842, -1.3941],\n",
       "                        [-0.1881,  0.0109, -0.2679,  0.6882],\n",
       "                        [ 1.0708,  1.1079, -0.1145,  0.3876]])"
      ]
     },
     "execution_count": 3,
     "metadata": {},
     "output_type": "execute_result"
    }
   ],
   "source": [
    "t"
   ]
  },
  {
   "cell_type": "code",
   "execution_count": 4,
   "id": "fd70b0b9",
   "metadata": {
    "execution": {
     "iopub.execute_input": "2023-02-27T12:51:24.761246Z",
     "iopub.status.busy": "2023-02-27T12:51:24.760623Z",
     "iopub.status.idle": "2023-02-27T12:51:24.768125Z",
     "shell.execute_reply": "2023-02-27T12:51:24.767404Z"
    }
   },
   "outputs": [
    {
     "data": {
      "text/plain": [
       "tensor([[ 1.4690,  1.1233,  0.8849],\n",
       "        [ 0.0734,  1.1338, -0.5753]])"
      ]
     },
     "execution_count": 4,
     "metadata": {},
     "output_type": "execute_result"
    }
   ],
   "source": [
    "t.a"
   ]
  },
  {
   "cell_type": "code",
   "execution_count": 5,
   "id": "c18197bd",
   "metadata": {
    "execution": {
     "iopub.execute_input": "2023-02-27T12:51:24.771643Z",
     "iopub.status.busy": "2023-02-27T12:51:24.771024Z",
     "iopub.status.idle": "2023-02-27T12:51:31.072885Z",
     "shell.execute_reply": "2023-02-27T12:51:31.071768Z"
    }
   },
   "outputs": [
    {
     "name": "stdout",
     "output_type": "stream",
     "text": [
      "77.5 ns ± 0.117 ns per loop (mean ± std. dev. of 7 runs, 10,000,000 loops each)\n"
     ]
    }
   ],
   "source": [
    "%timeit t.a"
   ]
  },
  {
   "cell_type": "code",
   "execution_count": 6,
   "id": "bd52f867",
   "metadata": {
    "execution": {
     "iopub.execute_input": "2023-02-27T12:51:31.077105Z",
     "iopub.status.busy": "2023-02-27T12:51:31.076400Z",
     "iopub.status.idle": "2023-02-27T12:51:31.084545Z",
     "shell.execute_reply": "2023-02-27T12:51:31.083785Z"
    }
   },
   "outputs": [
    {
     "data": {
      "text/plain": [
       "<FastTreeValue 0x7fc6bc121ca0>\n",
       "├── 'a' --> tensor([[ 0.7072, -1.0218, -0.0289],\n",
       "│                   [-0.3775,  1.1565, -1.0265]])\n",
       "└── 'x' --> <FastTreeValue 0x7fc6bc1218b0>\n",
       "    └── 'c' --> tensor([[ 0.7051,  1.3283,  0.6842, -1.3941],\n",
       "                        [-0.1881,  0.0109, -0.2679,  0.6882],\n",
       "                        [ 1.0708,  1.1079, -0.1145,  0.3876]])"
      ]
     },
     "execution_count": 6,
     "metadata": {},
     "output_type": "execute_result"
    }
   ],
   "source": [
    "new_value = torch.randn(2, 3)\n",
    "t.a = new_value\n",
    "\n",
    "t"
   ]
  },
  {
   "cell_type": "code",
   "execution_count": 7,
   "id": "bbe04d1c",
   "metadata": {
    "execution": {
     "iopub.execute_input": "2023-02-27T12:51:31.087913Z",
     "iopub.status.busy": "2023-02-27T12:51:31.087376Z",
     "iopub.status.idle": "2023-02-27T12:51:38.097102Z",
     "shell.execute_reply": "2023-02-27T12:51:38.096087Z"
    }
   },
   "outputs": [
    {
     "name": "stdout",
     "output_type": "stream",
     "text": [
      "85.7 ns ± 0.196 ns per loop (mean ± std. dev. of 7 runs, 10,000,000 loops each)\n"
     ]
    }
   ],
   "source": [
    "%timeit t.a = new_value"
   ]
  },
  {
   "cell_type": "markdown",
   "id": "48c49731",
   "metadata": {},
   "source": [
    "### Tianshou Batch's Get and Set"
   ]
  },
  {
   "cell_type": "code",
   "execution_count": 8,
   "id": "f1bb14c1",
   "metadata": {
    "execution": {
     "iopub.execute_input": "2023-02-27T12:51:38.101143Z",
     "iopub.status.busy": "2023-02-27T12:51:38.100566Z",
     "iopub.status.idle": "2023-02-27T12:51:38.521807Z",
     "shell.execute_reply": "2023-02-27T12:51:38.520867Z"
    }
   },
   "outputs": [],
   "source": [
    "from tianshou.data import Batch\n",
    "\n",
    "b = Batch(**_TREE_DATA_2)"
   ]
  },
  {
   "cell_type": "code",
   "execution_count": 9,
   "id": "cb0777c3",
   "metadata": {
    "execution": {
     "iopub.execute_input": "2023-02-27T12:51:38.525864Z",
     "iopub.status.busy": "2023-02-27T12:51:38.525299Z",
     "iopub.status.idle": "2023-02-27T12:51:38.532832Z",
     "shell.execute_reply": "2023-02-27T12:51:38.532096Z"
    }
   },
   "outputs": [
    {
     "data": {
      "text/plain": [
       "Batch(\n",
       "    a: tensor([[ 1.4690,  1.1233,  0.8849],\n",
       "               [ 0.0734,  1.1338, -0.5753]]),\n",
       "    x: Batch(\n",
       "           c: tensor([[ 0.7051,  1.3283,  0.6842, -1.3941],\n",
       "                      [-0.1881,  0.0109, -0.2679,  0.6882],\n",
       "                      [ 1.0708,  1.1079, -0.1145,  0.3876]]),\n",
       "       ),\n",
       ")"
      ]
     },
     "execution_count": 9,
     "metadata": {},
     "output_type": "execute_result"
    }
   ],
   "source": [
    "b"
   ]
  },
  {
   "cell_type": "code",
   "execution_count": 10,
   "id": "43ef8ea3",
   "metadata": {
    "execution": {
     "iopub.execute_input": "2023-02-27T12:51:38.546347Z",
     "iopub.status.busy": "2023-02-27T12:51:38.545886Z",
     "iopub.status.idle": "2023-02-27T12:51:38.553212Z",
     "shell.execute_reply": "2023-02-27T12:51:38.552469Z"
    }
   },
   "outputs": [
    {
     "data": {
      "text/plain": [
       "tensor([[ 1.4690,  1.1233,  0.8849],\n",
       "        [ 0.0734,  1.1338, -0.5753]])"
      ]
     },
     "execution_count": 10,
     "metadata": {},
     "output_type": "execute_result"
    }
   ],
   "source": [
    "b.a"
   ]
  },
  {
   "cell_type": "code",
   "execution_count": 11,
   "id": "b785ab72",
   "metadata": {
    "execution": {
     "iopub.execute_input": "2023-02-27T12:51:38.556563Z",
     "iopub.status.busy": "2023-02-27T12:51:38.555851Z",
     "iopub.status.idle": "2023-02-27T12:51:44.532249Z",
     "shell.execute_reply": "2023-02-27T12:51:44.531470Z"
    }
   },
   "outputs": [
    {
     "name": "stdout",
     "output_type": "stream",
     "text": [
      "73.2 ns ± 2.38 ns per loop (mean ± std. dev. of 7 runs, 10,000,000 loops each)\n"
     ]
    }
   ],
   "source": [
    "%timeit b.a"
   ]
  },
  {
   "cell_type": "code",
   "execution_count": 12,
   "id": "ad54dc69",
   "metadata": {
    "execution": {
     "iopub.execute_input": "2023-02-27T12:51:44.536876Z",
     "iopub.status.busy": "2023-02-27T12:51:44.536252Z",
     "iopub.status.idle": "2023-02-27T12:51:44.546238Z",
     "shell.execute_reply": "2023-02-27T12:51:44.545409Z"
    }
   },
   "outputs": [
    {
     "data": {
      "text/plain": [
       "Batch(\n",
       "    a: tensor([[-0.3500,  0.4705, -2.0962],\n",
       "               [ 1.3381, -0.9827,  1.4061]]),\n",
       "    x: Batch(\n",
       "           c: tensor([[ 0.7051,  1.3283,  0.6842, -1.3941],\n",
       "                      [-0.1881,  0.0109, -0.2679,  0.6882],\n",
       "                      [ 1.0708,  1.1079, -0.1145,  0.3876]]),\n",
       "       ),\n",
       ")"
      ]
     },
     "execution_count": 12,
     "metadata": {},
     "output_type": "execute_result"
    }
   ],
   "source": [
    "new_value = torch.randn(2, 3)\n",
    "b.a = new_value\n",
    "\n",
    "b"
   ]
  },
  {
   "cell_type": "code",
   "execution_count": 13,
   "id": "29b1d0bf",
   "metadata": {
    "execution": {
     "iopub.execute_input": "2023-02-27T12:51:44.549903Z",
     "iopub.status.busy": "2023-02-27T12:51:44.549362Z",
     "iopub.status.idle": "2023-02-27T12:51:49.343630Z",
     "shell.execute_reply": "2023-02-27T12:51:49.342662Z"
    }
   },
   "outputs": [
    {
     "name": "stdout",
     "output_type": "stream",
     "text": [
      "590 ns ± 0.153 ns per loop (mean ± std. dev. of 7 runs, 1,000,000 loops each)\n"
     ]
    }
   ],
   "source": [
    "%timeit b.a = new_value"
   ]
  },
  {
   "cell_type": "markdown",
   "id": "b61ad1d0",
   "metadata": {},
   "source": [
    "## Initialization"
   ]
  },
  {
   "cell_type": "markdown",
   "id": "d70f0d54",
   "metadata": {},
   "source": [
    "### TreeValue's Initialization"
   ]
  },
  {
   "cell_type": "code",
   "execution_count": 14,
   "id": "d32a679b",
   "metadata": {
    "execution": {
     "iopub.execute_input": "2023-02-27T12:51:49.347539Z",
     "iopub.status.busy": "2023-02-27T12:51:49.347229Z",
     "iopub.status.idle": "2023-02-27T12:51:57.377036Z",
     "shell.execute_reply": "2023-02-27T12:51:57.375830Z"
    }
   },
   "outputs": [
    {
     "name": "stdout",
     "output_type": "stream",
     "text": [
      "991 ns ± 3.05 ns per loop (mean ± std. dev. of 7 runs, 1,000,000 loops each)\n"
     ]
    }
   ],
   "source": [
    "%timeit FastTreeValue(_TREE_DATA_1)"
   ]
  },
  {
   "cell_type": "markdown",
   "id": "24f3707b",
   "metadata": {},
   "source": [
    "### Tianshou Batch's Initialization"
   ]
  },
  {
   "cell_type": "code",
   "execution_count": 15,
   "id": "ac3958df",
   "metadata": {
    "execution": {
     "iopub.execute_input": "2023-02-27T12:51:57.381477Z",
     "iopub.status.busy": "2023-02-27T12:51:57.380900Z",
     "iopub.status.idle": "2023-02-27T12:52:07.621243Z",
     "shell.execute_reply": "2023-02-27T12:52:07.619955Z"
    }
   },
   "outputs": [
    {
     "name": "stdout",
     "output_type": "stream",
     "text": [
      "12.6 µs ± 29.2 ns per loop (mean ± std. dev. of 7 runs, 100,000 loops each)\n"
     ]
    }
   ],
   "source": [
    "%timeit Batch(**_TREE_DATA_1)"
   ]
  },
  {
   "cell_type": "markdown",
   "id": "1ab82e2d",
   "metadata": {},
   "source": [
    "## Deep Copy Operation"
   ]
  },
  {
   "cell_type": "code",
   "execution_count": 16,
   "id": "210a9442",
   "metadata": {
    "execution": {
     "iopub.execute_input": "2023-02-27T12:52:07.628413Z",
     "iopub.status.busy": "2023-02-27T12:52:07.627830Z",
     "iopub.status.idle": "2023-02-27T12:52:07.632649Z",
     "shell.execute_reply": "2023-02-27T12:52:07.631874Z"
    }
   },
   "outputs": [],
   "source": [
    "import copy"
   ]
  },
  {
   "cell_type": "markdown",
   "id": "5a736274",
   "metadata": {},
   "source": [
    "### Deep Copy of TreeValue"
   ]
  },
  {
   "cell_type": "code",
   "execution_count": 17,
   "id": "f9bcadd6",
   "metadata": {
    "execution": {
     "iopub.execute_input": "2023-02-27T12:52:07.635786Z",
     "iopub.status.busy": "2023-02-27T12:52:07.635352Z",
     "iopub.status.idle": "2023-02-27T12:52:21.157706Z",
     "shell.execute_reply": "2023-02-27T12:52:21.156942Z"
    }
   },
   "outputs": [
    {
     "name": "stdout",
     "output_type": "stream",
     "text": [
      "166 µs ± 741 ns per loop (mean ± std. dev. of 7 runs, 10,000 loops each)\n"
     ]
    }
   ],
   "source": [
    "t3 = FastTreeValue(_TREE_DATA_3)\n",
    "%timeit copy.deepcopy(t3)"
   ]
  },
  {
   "cell_type": "markdown",
   "id": "bf8be7ea",
   "metadata": {},
   "source": [
    "### Deep Copy of Tianshou Batch"
   ]
  },
  {
   "cell_type": "code",
   "execution_count": 18,
   "id": "91998e6f",
   "metadata": {
    "execution": {
     "iopub.execute_input": "2023-02-27T12:52:21.161170Z",
     "iopub.status.busy": "2023-02-27T12:52:21.160666Z",
     "iopub.status.idle": "2023-02-27T12:52:34.414417Z",
     "shell.execute_reply": "2023-02-27T12:52:34.413465Z"
    }
   },
   "outputs": [
    {
     "name": "stdout",
     "output_type": "stream",
     "text": [
      "163 µs ± 472 ns per loop (mean ± std. dev. of 7 runs, 10,000 loops each)\n"
     ]
    }
   ],
   "source": [
    "b3 = Batch(**_TREE_DATA_3)\n",
    "%timeit copy.deepcopy(b3)"
   ]
  },
  {
   "cell_type": "markdown",
   "id": "223162fb",
   "metadata": {},
   "source": [
    "## Stack, Concat and Split Operation"
   ]
  },
  {
   "cell_type": "markdown",
   "id": "85fa4a73",
   "metadata": {},
   "source": [
    "### Performance of TreeValue"
   ]
  },
  {
   "cell_type": "code",
   "execution_count": 19,
   "id": "a0c2b697",
   "metadata": {
    "execution": {
     "iopub.execute_input": "2023-02-27T12:52:34.417894Z",
     "iopub.status.busy": "2023-02-27T12:52:34.417462Z",
     "iopub.status.idle": "2023-02-27T12:52:34.422401Z",
     "shell.execute_reply": "2023-02-27T12:52:34.421671Z"
    }
   },
   "outputs": [],
   "source": [
    "trees = [FastTreeValue(_TREE_DATA_2) for _ in range(8)]"
   ]
  },
  {
   "cell_type": "code",
   "execution_count": 20,
   "id": "017ea5a5",
   "metadata": {
    "execution": {
     "iopub.execute_input": "2023-02-27T12:52:34.425810Z",
     "iopub.status.busy": "2023-02-27T12:52:34.425213Z",
     "iopub.status.idle": "2023-02-27T12:52:34.433857Z",
     "shell.execute_reply": "2023-02-27T12:52:34.433048Z"
    }
   },
   "outputs": [
    {
     "data": {
      "text/plain": [
       "<FastTreeValue 0x7fc617e40e80>\n",
       "├── 'a' --> tensor([[[ 1.4690,  1.1233,  0.8849],\n",
       "│                    [ 0.0734,  1.1338, -0.5753]],\n",
       "│           \n",
       "│                   [[ 1.4690,  1.1233,  0.8849],\n",
       "│                    [ 0.0734,  1.1338, -0.5753]],\n",
       "│           \n",
       "│                   [[ 1.4690,  1.1233,  0.8849],\n",
       "│                    [ 0.0734,  1.1338, -0.5753]],\n",
       "│           \n",
       "│                   [[ 1.4690,  1.1233,  0.8849],\n",
       "│                    [ 0.0734,  1.1338, -0.5753]],\n",
       "│           \n",
       "│                   [[ 1.4690,  1.1233,  0.8849],\n",
       "│                    [ 0.0734,  1.1338, -0.5753]],\n",
       "│           \n",
       "│                   [[ 1.4690,  1.1233,  0.8849],\n",
       "│                    [ 0.0734,  1.1338, -0.5753]],\n",
       "│           \n",
       "│                   [[ 1.4690,  1.1233,  0.8849],\n",
       "│                    [ 0.0734,  1.1338, -0.5753]],\n",
       "│           \n",
       "│                   [[ 1.4690,  1.1233,  0.8849],\n",
       "│                    [ 0.0734,  1.1338, -0.5753]]])\n",
       "└── 'x' --> <FastTreeValue 0x7fc6bc1137f0>\n",
       "    └── 'c' --> tensor([[[ 0.7051,  1.3283,  0.6842, -1.3941],\n",
       "                         [-0.1881,  0.0109, -0.2679,  0.6882],\n",
       "                         [ 1.0708,  1.1079, -0.1145,  0.3876]],\n",
       "                \n",
       "                        [[ 0.7051,  1.3283,  0.6842, -1.3941],\n",
       "                         [-0.1881,  0.0109, -0.2679,  0.6882],\n",
       "                         [ 1.0708,  1.1079, -0.1145,  0.3876]],\n",
       "                \n",
       "                        [[ 0.7051,  1.3283,  0.6842, -1.3941],\n",
       "                         [-0.1881,  0.0109, -0.2679,  0.6882],\n",
       "                         [ 1.0708,  1.1079, -0.1145,  0.3876]],\n",
       "                \n",
       "                        [[ 0.7051,  1.3283,  0.6842, -1.3941],\n",
       "                         [-0.1881,  0.0109, -0.2679,  0.6882],\n",
       "                         [ 1.0708,  1.1079, -0.1145,  0.3876]],\n",
       "                \n",
       "                        [[ 0.7051,  1.3283,  0.6842, -1.3941],\n",
       "                         [-0.1881,  0.0109, -0.2679,  0.6882],\n",
       "                         [ 1.0708,  1.1079, -0.1145,  0.3876]],\n",
       "                \n",
       "                        [[ 0.7051,  1.3283,  0.6842, -1.3941],\n",
       "                         [-0.1881,  0.0109, -0.2679,  0.6882],\n",
       "                         [ 1.0708,  1.1079, -0.1145,  0.3876]],\n",
       "                \n",
       "                        [[ 0.7051,  1.3283,  0.6842, -1.3941],\n",
       "                         [-0.1881,  0.0109, -0.2679,  0.6882],\n",
       "                         [ 1.0708,  1.1079, -0.1145,  0.3876]],\n",
       "                \n",
       "                        [[ 0.7051,  1.3283,  0.6842, -1.3941],\n",
       "                         [-0.1881,  0.0109, -0.2679,  0.6882],\n",
       "                         [ 1.0708,  1.1079, -0.1145,  0.3876]]])"
      ]
     },
     "execution_count": 20,
     "metadata": {},
     "output_type": "execute_result"
    }
   ],
   "source": [
    "t_stack = FastTreeValue.func(subside=True)(torch.stack)\n",
    "\n",
    "t_stack(trees)"
   ]
  },
  {
   "cell_type": "code",
   "execution_count": 21,
   "id": "f8b3f415",
   "metadata": {
    "execution": {
     "iopub.execute_input": "2023-02-27T12:52:34.437375Z",
     "iopub.status.busy": "2023-02-27T12:52:34.436641Z",
     "iopub.status.idle": "2023-02-27T12:52:37.439036Z",
     "shell.execute_reply": "2023-02-27T12:52:37.437972Z"
    }
   },
   "outputs": [
    {
     "name": "stdout",
     "output_type": "stream",
     "text": [
      "36.9 µs ± 103 ns per loop (mean ± std. dev. of 7 runs, 10,000 loops each)\n"
     ]
    }
   ],
   "source": [
    "%timeit t_stack(trees)"
   ]
  },
  {
   "cell_type": "code",
   "execution_count": 22,
   "id": "94b56771",
   "metadata": {
    "execution": {
     "iopub.execute_input": "2023-02-27T12:52:37.442751Z",
     "iopub.status.busy": "2023-02-27T12:52:37.442088Z",
     "iopub.status.idle": "2023-02-27T12:52:37.451242Z",
     "shell.execute_reply": "2023-02-27T12:52:37.450502Z"
    }
   },
   "outputs": [
    {
     "data": {
      "text/plain": [
       "<FastTreeValue 0x7fc60d017820>\n",
       "├── 'a' --> tensor([[ 1.4690,  1.1233,  0.8849],\n",
       "│                   [ 0.0734,  1.1338, -0.5753],\n",
       "│                   [ 1.4690,  1.1233,  0.8849],\n",
       "│                   [ 0.0734,  1.1338, -0.5753],\n",
       "│                   [ 1.4690,  1.1233,  0.8849],\n",
       "│                   [ 0.0734,  1.1338, -0.5753],\n",
       "│                   [ 1.4690,  1.1233,  0.8849],\n",
       "│                   [ 0.0734,  1.1338, -0.5753],\n",
       "│                   [ 1.4690,  1.1233,  0.8849],\n",
       "│                   [ 0.0734,  1.1338, -0.5753],\n",
       "│                   [ 1.4690,  1.1233,  0.8849],\n",
       "│                   [ 0.0734,  1.1338, -0.5753],\n",
       "│                   [ 1.4690,  1.1233,  0.8849],\n",
       "│                   [ 0.0734,  1.1338, -0.5753],\n",
       "│                   [ 1.4690,  1.1233,  0.8849],\n",
       "│                   [ 0.0734,  1.1338, -0.5753]])\n",
       "└── 'x' --> <FastTreeValue 0x7fc6063b9f40>\n",
       "    └── 'c' --> tensor([[ 0.7051,  1.3283,  0.6842, -1.3941],\n",
       "                        [-0.1881,  0.0109, -0.2679,  0.6882],\n",
       "                        [ 1.0708,  1.1079, -0.1145,  0.3876],\n",
       "                        [ 0.7051,  1.3283,  0.6842, -1.3941],\n",
       "                        [-0.1881,  0.0109, -0.2679,  0.6882],\n",
       "                        [ 1.0708,  1.1079, -0.1145,  0.3876],\n",
       "                        [ 0.7051,  1.3283,  0.6842, -1.3941],\n",
       "                        [-0.1881,  0.0109, -0.2679,  0.6882],\n",
       "                        [ 1.0708,  1.1079, -0.1145,  0.3876],\n",
       "                        [ 0.7051,  1.3283,  0.6842, -1.3941],\n",
       "                        [-0.1881,  0.0109, -0.2679,  0.6882],\n",
       "                        [ 1.0708,  1.1079, -0.1145,  0.3876],\n",
       "                        [ 0.7051,  1.3283,  0.6842, -1.3941],\n",
       "                        [-0.1881,  0.0109, -0.2679,  0.6882],\n",
       "                        [ 1.0708,  1.1079, -0.1145,  0.3876],\n",
       "                        [ 0.7051,  1.3283,  0.6842, -1.3941],\n",
       "                        [-0.1881,  0.0109, -0.2679,  0.6882],\n",
       "                        [ 1.0708,  1.1079, -0.1145,  0.3876],\n",
       "                        [ 0.7051,  1.3283,  0.6842, -1.3941],\n",
       "                        [-0.1881,  0.0109, -0.2679,  0.6882],\n",
       "                        [ 1.0708,  1.1079, -0.1145,  0.3876],\n",
       "                        [ 0.7051,  1.3283,  0.6842, -1.3941],\n",
       "                        [-0.1881,  0.0109, -0.2679,  0.6882],\n",
       "                        [ 1.0708,  1.1079, -0.1145,  0.3876]])"
      ]
     },
     "execution_count": 22,
     "metadata": {},
     "output_type": "execute_result"
    }
   ],
   "source": [
    "t_cat = FastTreeValue.func(subside=True)(torch.cat)\n",
    "\n",
    "t_cat(trees)"
   ]
  },
  {
   "cell_type": "code",
   "execution_count": 23,
   "id": "5e9c06a6",
   "metadata": {
    "execution": {
     "iopub.execute_input": "2023-02-27T12:52:37.454677Z",
     "iopub.status.busy": "2023-02-27T12:52:37.453975Z",
     "iopub.status.idle": "2023-02-27T12:52:40.312945Z",
     "shell.execute_reply": "2023-02-27T12:52:40.311884Z"
    }
   },
   "outputs": [
    {
     "name": "stdout",
     "output_type": "stream",
     "text": [
      "35.2 µs ± 131 ns per loop (mean ± std. dev. of 7 runs, 10,000 loops each)\n"
     ]
    }
   ],
   "source": [
    "%timeit t_cat(trees)"
   ]
  },
  {
   "cell_type": "code",
   "execution_count": 24,
   "id": "a3ab5c8f",
   "metadata": {
    "execution": {
     "iopub.execute_input": "2023-02-27T12:52:40.316986Z",
     "iopub.status.busy": "2023-02-27T12:52:40.315994Z",
     "iopub.status.idle": "2023-02-27T12:52:45.578491Z",
     "shell.execute_reply": "2023-02-27T12:52:45.577466Z"
    }
   },
   "outputs": [
    {
     "name": "stdout",
     "output_type": "stream",
     "text": [
      "64.4 µs ± 221 ns per loop (mean ± std. dev. of 7 runs, 10,000 loops each)\n"
     ]
    }
   ],
   "source": [
    "t_split = FastTreeValue.func(rise=True)(torch.split)\n",
    "tree = FastTreeValue({\n",
    "    'obs': torch.randn(8, 4, 84, 84),\n",
    "    'action': torch.randint(0, 6, size=(8, 1,)),\n",
    "    'reward': torch.rand(8, 1),\n",
    "})\n",
    "\n",
    "%timeit t_split(tree, 1)"
   ]
  },
  {
   "cell_type": "markdown",
   "id": "31c3ec0b",
   "metadata": {},
   "source": [
    "### Performance of Tianshou Batch"
   ]
  },
  {
   "cell_type": "code",
   "execution_count": 25,
   "id": "9ead828a",
   "metadata": {
    "execution": {
     "iopub.execute_input": "2023-02-27T12:52:45.582076Z",
     "iopub.status.busy": "2023-02-27T12:52:45.581500Z",
     "iopub.status.idle": "2023-02-27T12:52:45.591155Z",
     "shell.execute_reply": "2023-02-27T12:52:45.590415Z"
    }
   },
   "outputs": [
    {
     "data": {
      "text/plain": [
       "Batch(\n",
       "    a: tensor([[[ 1.4690,  1.1233,  0.8849],\n",
       "                [ 0.0734,  1.1338, -0.5753]],\n",
       "       \n",
       "               [[ 1.4690,  1.1233,  0.8849],\n",
       "                [ 0.0734,  1.1338, -0.5753]],\n",
       "       \n",
       "               [[ 1.4690,  1.1233,  0.8849],\n",
       "                [ 0.0734,  1.1338, -0.5753]],\n",
       "       \n",
       "               [[ 1.4690,  1.1233,  0.8849],\n",
       "                [ 0.0734,  1.1338, -0.5753]],\n",
       "       \n",
       "               [[ 1.4690,  1.1233,  0.8849],\n",
       "                [ 0.0734,  1.1338, -0.5753]],\n",
       "       \n",
       "               [[ 1.4690,  1.1233,  0.8849],\n",
       "                [ 0.0734,  1.1338, -0.5753]],\n",
       "       \n",
       "               [[ 1.4690,  1.1233,  0.8849],\n",
       "                [ 0.0734,  1.1338, -0.5753]],\n",
       "       \n",
       "               [[ 1.4690,  1.1233,  0.8849],\n",
       "                [ 0.0734,  1.1338, -0.5753]]]),\n",
       "    x: Batch(\n",
       "           c: tensor([[[ 0.7051,  1.3283,  0.6842, -1.3941],\n",
       "                       [-0.1881,  0.0109, -0.2679,  0.6882],\n",
       "                       [ 1.0708,  1.1079, -0.1145,  0.3876]],\n",
       "              \n",
       "                      [[ 0.7051,  1.3283,  0.6842, -1.3941],\n",
       "                       [-0.1881,  0.0109, -0.2679,  0.6882],\n",
       "                       [ 1.0708,  1.1079, -0.1145,  0.3876]],\n",
       "              \n",
       "                      [[ 0.7051,  1.3283,  0.6842, -1.3941],\n",
       "                       [-0.1881,  0.0109, -0.2679,  0.6882],\n",
       "                       [ 1.0708,  1.1079, -0.1145,  0.3876]],\n",
       "              \n",
       "                      [[ 0.7051,  1.3283,  0.6842, -1.3941],\n",
       "                       [-0.1881,  0.0109, -0.2679,  0.6882],\n",
       "                       [ 1.0708,  1.1079, -0.1145,  0.3876]],\n",
       "              \n",
       "                      [[ 0.7051,  1.3283,  0.6842, -1.3941],\n",
       "                       [-0.1881,  0.0109, -0.2679,  0.6882],\n",
       "                       [ 1.0708,  1.1079, -0.1145,  0.3876]],\n",
       "              \n",
       "                      [[ 0.7051,  1.3283,  0.6842, -1.3941],\n",
       "                       [-0.1881,  0.0109, -0.2679,  0.6882],\n",
       "                       [ 1.0708,  1.1079, -0.1145,  0.3876]],\n",
       "              \n",
       "                      [[ 0.7051,  1.3283,  0.6842, -1.3941],\n",
       "                       [-0.1881,  0.0109, -0.2679,  0.6882],\n",
       "                       [ 1.0708,  1.1079, -0.1145,  0.3876]],\n",
       "              \n",
       "                      [[ 0.7051,  1.3283,  0.6842, -1.3941],\n",
       "                       [-0.1881,  0.0109, -0.2679,  0.6882],\n",
       "                       [ 1.0708,  1.1079, -0.1145,  0.3876]]]),\n",
       "       ),\n",
       ")"
      ]
     },
     "execution_count": 25,
     "metadata": {},
     "output_type": "execute_result"
    }
   ],
   "source": [
    "batches = [Batch(**_TREE_DATA_2) for _ in range(8)]\n",
    "\n",
    "Batch.stack(batches)"
   ]
  },
  {
   "cell_type": "code",
   "execution_count": 26,
   "id": "ec9037a3",
   "metadata": {
    "execution": {
     "iopub.execute_input": "2023-02-27T12:52:45.594240Z",
     "iopub.status.busy": "2023-02-27T12:52:45.593889Z",
     "iopub.status.idle": "2023-02-27T12:52:52.860990Z",
     "shell.execute_reply": "2023-02-27T12:52:52.859739Z"
    }
   },
   "outputs": [
    {
     "name": "stdout",
     "output_type": "stream",
     "text": [
      "89.4 µs ± 507 ns per loop (mean ± std. dev. of 7 runs, 10,000 loops each)\n"
     ]
    }
   ],
   "source": [
    "%timeit Batch.stack(batches)"
   ]
  },
  {
   "cell_type": "code",
   "execution_count": 27,
   "id": "cb8ab77e",
   "metadata": {
    "execution": {
     "iopub.execute_input": "2023-02-27T12:52:52.865512Z",
     "iopub.status.busy": "2023-02-27T12:52:52.864674Z",
     "iopub.status.idle": "2023-02-27T12:52:52.874040Z",
     "shell.execute_reply": "2023-02-27T12:52:52.873310Z"
    }
   },
   "outputs": [
    {
     "data": {
      "text/plain": [
       "Batch(\n",
       "    a: tensor([[ 1.4690,  1.1233,  0.8849],\n",
       "               [ 0.0734,  1.1338, -0.5753],\n",
       "               [ 1.4690,  1.1233,  0.8849],\n",
       "               [ 0.0734,  1.1338, -0.5753],\n",
       "               [ 1.4690,  1.1233,  0.8849],\n",
       "               [ 0.0734,  1.1338, -0.5753],\n",
       "               [ 1.4690,  1.1233,  0.8849],\n",
       "               [ 0.0734,  1.1338, -0.5753],\n",
       "               [ 1.4690,  1.1233,  0.8849],\n",
       "               [ 0.0734,  1.1338, -0.5753],\n",
       "               [ 1.4690,  1.1233,  0.8849],\n",
       "               [ 0.0734,  1.1338, -0.5753],\n",
       "               [ 1.4690,  1.1233,  0.8849],\n",
       "               [ 0.0734,  1.1338, -0.5753],\n",
       "               [ 1.4690,  1.1233,  0.8849],\n",
       "               [ 0.0734,  1.1338, -0.5753]]),\n",
       "    x: Batch(\n",
       "           c: tensor([[ 0.7051,  1.3283,  0.6842, -1.3941],\n",
       "                      [-0.1881,  0.0109, -0.2679,  0.6882],\n",
       "                      [ 1.0708,  1.1079, -0.1145,  0.3876],\n",
       "                      [ 0.7051,  1.3283,  0.6842, -1.3941],\n",
       "                      [-0.1881,  0.0109, -0.2679,  0.6882],\n",
       "                      [ 1.0708,  1.1079, -0.1145,  0.3876],\n",
       "                      [ 0.7051,  1.3283,  0.6842, -1.3941],\n",
       "                      [-0.1881,  0.0109, -0.2679,  0.6882],\n",
       "                      [ 1.0708,  1.1079, -0.1145,  0.3876],\n",
       "                      [ 0.7051,  1.3283,  0.6842, -1.3941],\n",
       "                      [-0.1881,  0.0109, -0.2679,  0.6882],\n",
       "                      [ 1.0708,  1.1079, -0.1145,  0.3876],\n",
       "                      [ 0.7051,  1.3283,  0.6842, -1.3941],\n",
       "                      [-0.1881,  0.0109, -0.2679,  0.6882],\n",
       "                      [ 1.0708,  1.1079, -0.1145,  0.3876],\n",
       "                      [ 0.7051,  1.3283,  0.6842, -1.3941],\n",
       "                      [-0.1881,  0.0109, -0.2679,  0.6882],\n",
       "                      [ 1.0708,  1.1079, -0.1145,  0.3876],\n",
       "                      [ 0.7051,  1.3283,  0.6842, -1.3941],\n",
       "                      [-0.1881,  0.0109, -0.2679,  0.6882],\n",
       "                      [ 1.0708,  1.1079, -0.1145,  0.3876],\n",
       "                      [ 0.7051,  1.3283,  0.6842, -1.3941],\n",
       "                      [-0.1881,  0.0109, -0.2679,  0.6882],\n",
       "                      [ 1.0708,  1.1079, -0.1145,  0.3876]]),\n",
       "       ),\n",
       ")"
      ]
     },
     "execution_count": 27,
     "metadata": {},
     "output_type": "execute_result"
    }
   ],
   "source": [
    "Batch.cat(batches)"
   ]
  },
  {
   "cell_type": "code",
   "execution_count": 28,
   "id": "18dfb045",
   "metadata": {
    "execution": {
     "iopub.execute_input": "2023-02-27T12:52:52.877468Z",
     "iopub.status.busy": "2023-02-27T12:52:52.876931Z",
     "iopub.status.idle": "2023-02-27T12:53:06.316793Z",
     "shell.execute_reply": "2023-02-27T12:53:06.315800Z"
    }
   },
   "outputs": [
    {
     "name": "stdout",
     "output_type": "stream",
     "text": [
      "166 µs ± 515 ns per loop (mean ± std. dev. of 7 runs, 10,000 loops each)\n"
     ]
    }
   ],
   "source": [
    "%timeit Batch.cat(batches)"
   ]
  },
  {
   "cell_type": "code",
   "execution_count": 29,
   "id": "c6688e51",
   "metadata": {
    "execution": {
     "iopub.execute_input": "2023-02-27T12:53:06.320566Z",
     "iopub.status.busy": "2023-02-27T12:53:06.319914Z",
     "iopub.status.idle": "2023-02-27T12:53:09.576954Z",
     "shell.execute_reply": "2023-02-27T12:53:09.576030Z"
    }
   },
   "outputs": [
    {
     "name": "stdout",
     "output_type": "stream",
     "text": [
      "399 µs ± 18.9 µs per loop (mean ± std. dev. of 7 runs, 1,000 loops each)\n"
     ]
    }
   ],
   "source": [
    "batch = Batch({\n",
    "    'obs': torch.randn(8, 4, 84, 84),\n",
    "    'action': torch.randint(0, 6, size=(8, 1,)),\n",
    "    'reward': torch.rand(8, 1)}\n",
    ")\n",
    "\n",
    "%timeit list(Batch.split(batch, 1, shuffle=False, merge_last=True))"
   ]
  },
  {
   "cell_type": "code",
   "execution_count": null,
   "id": "2539fbd9",
   "metadata": {},
   "outputs": [],
   "source": []
  }
 ],
 "metadata": {
  "kernelspec": {
   "display_name": "Python 3 (ipykernel)",
   "language": "python",
   "name": "python3"
  },
  "language_info": {
   "codemirror_mode": {
    "name": "ipython",
    "version": 3
   },
   "file_extension": ".py",
   "mimetype": "text/x-python",
   "name": "python",
   "nbconvert_exporter": "python",
   "pygments_lexer": "ipython3",
   "version": "3.8.16"
  }
 },
 "nbformat": 4,
 "nbformat_minor": 5
}
