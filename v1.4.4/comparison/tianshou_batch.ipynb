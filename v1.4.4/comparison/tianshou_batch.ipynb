{
 "cells": [
  {
   "cell_type": "markdown",
   "id": "9d39d946",
   "metadata": {},
   "source": [
    "# Comparison Between TreeValue and Tianshou Batch"
   ]
  },
  {
   "cell_type": "markdown",
   "id": "3c6db2d4",
   "metadata": {},
   "source": [
    "In this section, we will take a look at the feature and performance of the [Tianshou Batch](https://github.com/thu-ml/tianshou) library, which is developed by Tsinghua Machine Learning Group."
   ]
  },
  {
   "cell_type": "markdown",
   "id": "069361b0",
   "metadata": {},
   "source": [
    "Before starting the comparison, let us define some thing."
   ]
  },
  {
   "cell_type": "code",
   "execution_count": 1,
   "id": "06fc8d26",
   "metadata": {
    "execution": {
     "iopub.execute_input": "2023-02-25T18:52:07.642643Z",
     "iopub.status.busy": "2023-02-25T18:52:07.642087Z",
     "iopub.status.idle": "2023-02-25T18:52:08.585909Z",
     "shell.execute_reply": "2023-02-25T18:52:08.585222Z"
    }
   },
   "outputs": [
    {
     "name": "stderr",
     "output_type": "stream",
     "text": [
      "/opt/hostedtoolcache/Python/3.8.16/x64/lib/python3.8/site-packages/tqdm/auto.py:22: TqdmWarning: IProgress not found. Please update jupyter and ipywidgets. See https://ipywidgets.readthedocs.io/en/stable/user_install.html\n",
      "  from .autonotebook import tqdm as notebook_tqdm\n"
     ]
    }
   ],
   "source": [
    "import torch \n",
    "\n",
    "_TREE_DATA_1 = {'a': 1, 'b': 2, 'x': {'c': 3, 'd': 4}}\n",
    "_TREE_DATA_2 = {\n",
    "    'a': torch.randn(2, 3), \n",
    "    'x': {\n",
    "        'c': torch.randn(3, 4)\n",
    "    },\n",
    "}\n",
    "_TREE_DATA_3 = {\n",
    "    'obs': torch.randn(4, 84, 84),\n",
    "    'action': torch.randint(0, 6, size=(1,)),\n",
    "    'reward': torch.rand(1),\n",
    "}"
   ]
  },
  {
   "cell_type": "markdown",
   "id": "83461b25",
   "metadata": {},
   "source": [
    "## Read and Write Operation"
   ]
  },
  {
   "cell_type": "markdown",
   "id": "067b3f73",
   "metadata": {},
   "source": [
    "Reading and writing are the two most common operations in the tree data structure based on the data model (TreeValue and Tianshou Batch both belong to this type), so this section will compare the reading and writing performance of these two libraries."
   ]
  },
  {
   "cell_type": "markdown",
   "id": "5d09a5b7",
   "metadata": {},
   "source": [
    "### TreeValue's Get and Set"
   ]
  },
  {
   "cell_type": "code",
   "execution_count": 2,
   "id": "9519c4bb",
   "metadata": {
    "execution": {
     "iopub.execute_input": "2023-02-25T18:52:08.589447Z",
     "iopub.status.busy": "2023-02-25T18:52:08.588847Z",
     "iopub.status.idle": "2023-02-25T18:52:08.622827Z",
     "shell.execute_reply": "2023-02-25T18:52:08.622175Z"
    }
   },
   "outputs": [],
   "source": [
    "from treevalue import FastTreeValue\n",
    "\n",
    "t = FastTreeValue(_TREE_DATA_2)"
   ]
  },
  {
   "cell_type": "code",
   "execution_count": 3,
   "id": "11c37677",
   "metadata": {
    "execution": {
     "iopub.execute_input": "2023-02-25T18:52:08.625909Z",
     "iopub.status.busy": "2023-02-25T18:52:08.625347Z",
     "iopub.status.idle": "2023-02-25T18:52:08.634739Z",
     "shell.execute_reply": "2023-02-25T18:52:08.634137Z"
    }
   },
   "outputs": [
    {
     "data": {
      "text/plain": [
       "<FastTreeValue 0x7f048c661ee0>\n",
       "├── 'a' --> tensor([[-1.3243,  0.4432, -0.2395],\n",
       "│                   [ 0.8267,  0.6192, -0.3768]])\n",
       "└── 'x' --> <FastTreeValue 0x7f048c661b50>\n",
       "    └── 'c' --> tensor([[-1.7263,  1.7751,  0.1257, -1.5288],\n",
       "                        [-0.0420, -0.4768,  0.2027,  0.2390],\n",
       "                        [ 0.4948, -0.4152,  0.2767,  0.0952]])"
      ]
     },
     "execution_count": 3,
     "metadata": {},
     "output_type": "execute_result"
    }
   ],
   "source": [
    "t"
   ]
  },
  {
   "cell_type": "code",
   "execution_count": 4,
   "id": "fd70b0b9",
   "metadata": {
    "execution": {
     "iopub.execute_input": "2023-02-25T18:52:08.637517Z",
     "iopub.status.busy": "2023-02-25T18:52:08.636999Z",
     "iopub.status.idle": "2023-02-25T18:52:08.642882Z",
     "shell.execute_reply": "2023-02-25T18:52:08.642298Z"
    }
   },
   "outputs": [
    {
     "data": {
      "text/plain": [
       "tensor([[-1.3243,  0.4432, -0.2395],\n",
       "        [ 0.8267,  0.6192, -0.3768]])"
      ]
     },
     "execution_count": 4,
     "metadata": {},
     "output_type": "execute_result"
    }
   ],
   "source": [
    "t.a"
   ]
  },
  {
   "cell_type": "code",
   "execution_count": 5,
   "id": "c18197bd",
   "metadata": {
    "execution": {
     "iopub.execute_input": "2023-02-25T18:52:08.645741Z",
     "iopub.status.busy": "2023-02-25T18:52:08.645260Z",
     "iopub.status.idle": "2023-02-25T18:52:13.687627Z",
     "shell.execute_reply": "2023-02-25T18:52:13.686965Z"
    }
   },
   "outputs": [
    {
     "name": "stdout",
     "output_type": "stream",
     "text": [
      "61.6 ns ± 0.059 ns per loop (mean ± std. dev. of 7 runs, 10,000,000 loops each)\n"
     ]
    }
   ],
   "source": [
    "%timeit t.a"
   ]
  },
  {
   "cell_type": "code",
   "execution_count": 6,
   "id": "bd52f867",
   "metadata": {
    "execution": {
     "iopub.execute_input": "2023-02-25T18:52:13.690683Z",
     "iopub.status.busy": "2023-02-25T18:52:13.690159Z",
     "iopub.status.idle": "2023-02-25T18:52:13.696786Z",
     "shell.execute_reply": "2023-02-25T18:52:13.696186Z"
    }
   },
   "outputs": [
    {
     "data": {
      "text/plain": [
       "<FastTreeValue 0x7f048c661ee0>\n",
       "├── 'a' --> tensor([[-0.2160,  2.3157,  0.0744],\n",
       "│                   [ 0.0662, -1.0390,  2.0234]])\n",
       "└── 'x' --> <FastTreeValue 0x7f048c661b50>\n",
       "    └── 'c' --> tensor([[-1.7263,  1.7751,  0.1257, -1.5288],\n",
       "                        [-0.0420, -0.4768,  0.2027,  0.2390],\n",
       "                        [ 0.4948, -0.4152,  0.2767,  0.0952]])"
      ]
     },
     "execution_count": 6,
     "metadata": {},
     "output_type": "execute_result"
    }
   ],
   "source": [
    "new_value = torch.randn(2, 3)\n",
    "t.a = new_value\n",
    "\n",
    "t"
   ]
  },
  {
   "cell_type": "code",
   "execution_count": 7,
   "id": "bbe04d1c",
   "metadata": {
    "execution": {
     "iopub.execute_input": "2023-02-25T18:52:13.699220Z",
     "iopub.status.busy": "2023-02-25T18:52:13.698858Z",
     "iopub.status.idle": "2023-02-25T18:52:19.152622Z",
     "shell.execute_reply": "2023-02-25T18:52:19.151879Z"
    }
   },
   "outputs": [
    {
     "name": "stdout",
     "output_type": "stream",
     "text": [
      "66.6 ns ± 0.0232 ns per loop (mean ± std. dev. of 7 runs, 10,000,000 loops each)\n"
     ]
    }
   ],
   "source": [
    "%timeit t.a = new_value"
   ]
  },
  {
   "cell_type": "markdown",
   "id": "48c49731",
   "metadata": {},
   "source": [
    "### Tianshou Batch's Get and Set"
   ]
  },
  {
   "cell_type": "code",
   "execution_count": 8,
   "id": "f1bb14c1",
   "metadata": {
    "execution": {
     "iopub.execute_input": "2023-02-25T18:52:19.155949Z",
     "iopub.status.busy": "2023-02-25T18:52:19.155321Z",
     "iopub.status.idle": "2023-02-25T18:52:19.499260Z",
     "shell.execute_reply": "2023-02-25T18:52:19.498558Z"
    }
   },
   "outputs": [],
   "source": [
    "from tianshou.data import Batch\n",
    "\n",
    "b = Batch(**_TREE_DATA_2)"
   ]
  },
  {
   "cell_type": "code",
   "execution_count": 9,
   "id": "cb0777c3",
   "metadata": {
    "execution": {
     "iopub.execute_input": "2023-02-25T18:52:19.502683Z",
     "iopub.status.busy": "2023-02-25T18:52:19.502355Z",
     "iopub.status.idle": "2023-02-25T18:52:19.508284Z",
     "shell.execute_reply": "2023-02-25T18:52:19.507699Z"
    }
   },
   "outputs": [
    {
     "data": {
      "text/plain": [
       "Batch(\n",
       "    a: tensor([[-1.3243,  0.4432, -0.2395],\n",
       "               [ 0.8267,  0.6192, -0.3768]]),\n",
       "    x: Batch(\n",
       "           c: tensor([[-1.7263,  1.7751,  0.1257, -1.5288],\n",
       "                      [-0.0420, -0.4768,  0.2027,  0.2390],\n",
       "                      [ 0.4948, -0.4152,  0.2767,  0.0952]]),\n",
       "       ),\n",
       ")"
      ]
     },
     "execution_count": 9,
     "metadata": {},
     "output_type": "execute_result"
    }
   ],
   "source": [
    "b"
   ]
  },
  {
   "cell_type": "code",
   "execution_count": 10,
   "id": "43ef8ea3",
   "metadata": {
    "execution": {
     "iopub.execute_input": "2023-02-25T18:52:19.511858Z",
     "iopub.status.busy": "2023-02-25T18:52:19.510813Z",
     "iopub.status.idle": "2023-02-25T18:52:19.517565Z",
     "shell.execute_reply": "2023-02-25T18:52:19.516892Z"
    }
   },
   "outputs": [
    {
     "data": {
      "text/plain": [
       "tensor([[-1.3243,  0.4432, -0.2395],\n",
       "        [ 0.8267,  0.6192, -0.3768]])"
      ]
     },
     "execution_count": 10,
     "metadata": {},
     "output_type": "execute_result"
    }
   ],
   "source": [
    "b.a"
   ]
  },
  {
   "cell_type": "code",
   "execution_count": 11,
   "id": "b785ab72",
   "metadata": {
    "execution": {
     "iopub.execute_input": "2023-02-25T18:52:19.520359Z",
     "iopub.status.busy": "2023-02-25T18:52:19.519882Z",
     "iopub.status.idle": "2023-02-25T18:52:23.877404Z",
     "shell.execute_reply": "2023-02-25T18:52:23.876606Z"
    }
   },
   "outputs": [
    {
     "name": "stdout",
     "output_type": "stream",
     "text": [
      "53.4 ns ± 0.0269 ns per loop (mean ± std. dev. of 7 runs, 10,000,000 loops each)\n"
     ]
    }
   ],
   "source": [
    "%timeit b.a"
   ]
  },
  {
   "cell_type": "code",
   "execution_count": 12,
   "id": "ad54dc69",
   "metadata": {
    "execution": {
     "iopub.execute_input": "2023-02-25T18:52:23.880558Z",
     "iopub.status.busy": "2023-02-25T18:52:23.879853Z",
     "iopub.status.idle": "2023-02-25T18:52:23.886723Z",
     "shell.execute_reply": "2023-02-25T18:52:23.886085Z"
    }
   },
   "outputs": [
    {
     "data": {
      "text/plain": [
       "Batch(\n",
       "    a: tensor([[ 1.0812, -0.3242,  0.4402],\n",
       "               [ 0.0399,  0.3113, -0.4708]]),\n",
       "    x: Batch(\n",
       "           c: tensor([[-1.7263,  1.7751,  0.1257, -1.5288],\n",
       "                      [-0.0420, -0.4768,  0.2027,  0.2390],\n",
       "                      [ 0.4948, -0.4152,  0.2767,  0.0952]]),\n",
       "       ),\n",
       ")"
      ]
     },
     "execution_count": 12,
     "metadata": {},
     "output_type": "execute_result"
    }
   ],
   "source": [
    "new_value = torch.randn(2, 3)\n",
    "b.a = new_value\n",
    "\n",
    "b"
   ]
  },
  {
   "cell_type": "code",
   "execution_count": 13,
   "id": "29b1d0bf",
   "metadata": {
    "execution": {
     "iopub.execute_input": "2023-02-25T18:52:23.889689Z",
     "iopub.status.busy": "2023-02-25T18:52:23.889312Z",
     "iopub.status.idle": "2023-02-25T18:52:27.785193Z",
     "shell.execute_reply": "2023-02-25T18:52:27.784429Z"
    }
   },
   "outputs": [
    {
     "name": "stdout",
     "output_type": "stream",
     "text": [
      "479 ns ± 0.15 ns per loop (mean ± std. dev. of 7 runs, 1,000,000 loops each)\n"
     ]
    }
   ],
   "source": [
    "%timeit b.a = new_value"
   ]
  },
  {
   "cell_type": "markdown",
   "id": "b61ad1d0",
   "metadata": {},
   "source": [
    "## Initialization"
   ]
  },
  {
   "cell_type": "markdown",
   "id": "d70f0d54",
   "metadata": {},
   "source": [
    "### TreeValue's Initialization"
   ]
  },
  {
   "cell_type": "code",
   "execution_count": 14,
   "id": "d32a679b",
   "metadata": {
    "execution": {
     "iopub.execute_input": "2023-02-25T18:52:27.788443Z",
     "iopub.status.busy": "2023-02-25T18:52:27.787785Z",
     "iopub.status.idle": "2023-02-25T18:52:34.864519Z",
     "shell.execute_reply": "2023-02-25T18:52:34.863850Z"
    }
   },
   "outputs": [
    {
     "name": "stdout",
     "output_type": "stream",
     "text": [
      "871 ns ± 0.432 ns per loop (mean ± std. dev. of 7 runs, 1,000,000 loops each)\n"
     ]
    }
   ],
   "source": [
    "%timeit FastTreeValue(_TREE_DATA_1)"
   ]
  },
  {
   "cell_type": "markdown",
   "id": "24f3707b",
   "metadata": {},
   "source": [
    "### Tianshou Batch's Initialization"
   ]
  },
  {
   "cell_type": "code",
   "execution_count": 15,
   "id": "ac3958df",
   "metadata": {
    "execution": {
     "iopub.execute_input": "2023-02-25T18:52:34.867774Z",
     "iopub.status.busy": "2023-02-25T18:52:34.867230Z",
     "iopub.status.idle": "2023-02-25T18:52:44.135212Z",
     "shell.execute_reply": "2023-02-25T18:52:44.134428Z"
    }
   },
   "outputs": [
    {
     "name": "stdout",
     "output_type": "stream",
     "text": [
      "11.4 µs ± 26 ns per loop (mean ± std. dev. of 7 runs, 100,000 loops each)\n"
     ]
    }
   ],
   "source": [
    "%timeit Batch(**_TREE_DATA_1)"
   ]
  },
  {
   "cell_type": "markdown",
   "id": "1ab82e2d",
   "metadata": {},
   "source": [
    "## Deep Copy Operation"
   ]
  },
  {
   "cell_type": "code",
   "execution_count": 16,
   "id": "210a9442",
   "metadata": {
    "execution": {
     "iopub.execute_input": "2023-02-25T18:52:44.138327Z",
     "iopub.status.busy": "2023-02-25T18:52:44.137747Z",
     "iopub.status.idle": "2023-02-25T18:52:44.141862Z",
     "shell.execute_reply": "2023-02-25T18:52:44.141232Z"
    }
   },
   "outputs": [],
   "source": [
    "import copy"
   ]
  },
  {
   "cell_type": "markdown",
   "id": "5a736274",
   "metadata": {},
   "source": [
    "### Deep Copy of TreeValue"
   ]
  },
  {
   "cell_type": "code",
   "execution_count": 17,
   "id": "f9bcadd6",
   "metadata": {
    "execution": {
     "iopub.execute_input": "2023-02-25T18:52:44.144521Z",
     "iopub.status.busy": "2023-02-25T18:52:44.144181Z",
     "iopub.status.idle": "2023-02-25T18:52:55.515252Z",
     "shell.execute_reply": "2023-02-25T18:52:55.514642Z"
    }
   },
   "outputs": [
    {
     "name": "stdout",
     "output_type": "stream",
     "text": [
      "140 µs ± 1.38 µs per loop (mean ± std. dev. of 7 runs, 10,000 loops each)\n"
     ]
    }
   ],
   "source": [
    "t3 = FastTreeValue(_TREE_DATA_3)\n",
    "%timeit copy.deepcopy(t3)"
   ]
  },
  {
   "cell_type": "markdown",
   "id": "bf8be7ea",
   "metadata": {},
   "source": [
    "### Deep Copy of Tianshou Batch"
   ]
  },
  {
   "cell_type": "code",
   "execution_count": 18,
   "id": "91998e6f",
   "metadata": {
    "execution": {
     "iopub.execute_input": "2023-02-25T18:52:55.519196Z",
     "iopub.status.busy": "2023-02-25T18:52:55.518215Z",
     "iopub.status.idle": "2023-02-25T18:53:06.892379Z",
     "shell.execute_reply": "2023-02-25T18:53:06.891775Z"
    }
   },
   "outputs": [
    {
     "name": "stdout",
     "output_type": "stream",
     "text": [
      "140 µs ± 179 ns per loop (mean ± std. dev. of 7 runs, 10,000 loops each)\n"
     ]
    }
   ],
   "source": [
    "b3 = Batch(**_TREE_DATA_3)\n",
    "%timeit copy.deepcopy(b3)"
   ]
  },
  {
   "cell_type": "markdown",
   "id": "223162fb",
   "metadata": {},
   "source": [
    "## Stack, Concat and Split Operation"
   ]
  },
  {
   "cell_type": "markdown",
   "id": "85fa4a73",
   "metadata": {},
   "source": [
    "### Performance of TreeValue"
   ]
  },
  {
   "cell_type": "code",
   "execution_count": 19,
   "id": "a0c2b697",
   "metadata": {
    "execution": {
     "iopub.execute_input": "2023-02-25T18:53:06.896153Z",
     "iopub.status.busy": "2023-02-25T18:53:06.895242Z",
     "iopub.status.idle": "2023-02-25T18:53:06.899499Z",
     "shell.execute_reply": "2023-02-25T18:53:06.898970Z"
    }
   },
   "outputs": [],
   "source": [
    "trees = [FastTreeValue(_TREE_DATA_2) for _ in range(8)]"
   ]
  },
  {
   "cell_type": "code",
   "execution_count": 20,
   "id": "017ea5a5",
   "metadata": {
    "execution": {
     "iopub.execute_input": "2023-02-25T18:53:06.903040Z",
     "iopub.status.busy": "2023-02-25T18:53:06.902137Z",
     "iopub.status.idle": "2023-02-25T18:53:06.911134Z",
     "shell.execute_reply": "2023-02-25T18:53:06.910566Z"
    }
   },
   "outputs": [
    {
     "data": {
      "text/plain": [
       "<FastTreeValue 0x7f03e6f1cf10>\n",
       "├── 'a' --> tensor([[[-1.3243,  0.4432, -0.2395],\n",
       "│                    [ 0.8267,  0.6192, -0.3768]],\n",
       "│           \n",
       "│                   [[-1.3243,  0.4432, -0.2395],\n",
       "│                    [ 0.8267,  0.6192, -0.3768]],\n",
       "│           \n",
       "│                   [[-1.3243,  0.4432, -0.2395],\n",
       "│                    [ 0.8267,  0.6192, -0.3768]],\n",
       "│           \n",
       "│                   [[-1.3243,  0.4432, -0.2395],\n",
       "│                    [ 0.8267,  0.6192, -0.3768]],\n",
       "│           \n",
       "│                   [[-1.3243,  0.4432, -0.2395],\n",
       "│                    [ 0.8267,  0.6192, -0.3768]],\n",
       "│           \n",
       "│                   [[-1.3243,  0.4432, -0.2395],\n",
       "│                    [ 0.8267,  0.6192, -0.3768]],\n",
       "│           \n",
       "│                   [[-1.3243,  0.4432, -0.2395],\n",
       "│                    [ 0.8267,  0.6192, -0.3768]],\n",
       "│           \n",
       "│                   [[-1.3243,  0.4432, -0.2395],\n",
       "│                    [ 0.8267,  0.6192, -0.3768]]])\n",
       "└── 'x' --> <FastTreeValue 0x7f03e6f1c7c0>\n",
       "    └── 'c' --> tensor([[[-1.7263,  1.7751,  0.1257, -1.5288],\n",
       "                         [-0.0420, -0.4768,  0.2027,  0.2390],\n",
       "                         [ 0.4948, -0.4152,  0.2767,  0.0952]],\n",
       "                \n",
       "                        [[-1.7263,  1.7751,  0.1257, -1.5288],\n",
       "                         [-0.0420, -0.4768,  0.2027,  0.2390],\n",
       "                         [ 0.4948, -0.4152,  0.2767,  0.0952]],\n",
       "                \n",
       "                        [[-1.7263,  1.7751,  0.1257, -1.5288],\n",
       "                         [-0.0420, -0.4768,  0.2027,  0.2390],\n",
       "                         [ 0.4948, -0.4152,  0.2767,  0.0952]],\n",
       "                \n",
       "                        [[-1.7263,  1.7751,  0.1257, -1.5288],\n",
       "                         [-0.0420, -0.4768,  0.2027,  0.2390],\n",
       "                         [ 0.4948, -0.4152,  0.2767,  0.0952]],\n",
       "                \n",
       "                        [[-1.7263,  1.7751,  0.1257, -1.5288],\n",
       "                         [-0.0420, -0.4768,  0.2027,  0.2390],\n",
       "                         [ 0.4948, -0.4152,  0.2767,  0.0952]],\n",
       "                \n",
       "                        [[-1.7263,  1.7751,  0.1257, -1.5288],\n",
       "                         [-0.0420, -0.4768,  0.2027,  0.2390],\n",
       "                         [ 0.4948, -0.4152,  0.2767,  0.0952]],\n",
       "                \n",
       "                        [[-1.7263,  1.7751,  0.1257, -1.5288],\n",
       "                         [-0.0420, -0.4768,  0.2027,  0.2390],\n",
       "                         [ 0.4948, -0.4152,  0.2767,  0.0952]],\n",
       "                \n",
       "                        [[-1.7263,  1.7751,  0.1257, -1.5288],\n",
       "                         [-0.0420, -0.4768,  0.2027,  0.2390],\n",
       "                         [ 0.4948, -0.4152,  0.2767,  0.0952]]])"
      ]
     },
     "execution_count": 20,
     "metadata": {},
     "output_type": "execute_result"
    }
   ],
   "source": [
    "t_stack = FastTreeValue.func(subside=True)(torch.stack)\n",
    "\n",
    "t_stack(trees)"
   ]
  },
  {
   "cell_type": "code",
   "execution_count": 21,
   "id": "f8b3f415",
   "metadata": {
    "execution": {
     "iopub.execute_input": "2023-02-25T18:53:06.914683Z",
     "iopub.status.busy": "2023-02-25T18:53:06.913800Z",
     "iopub.status.idle": "2023-02-25T18:53:09.480253Z",
     "shell.execute_reply": "2023-02-25T18:53:09.479507Z"
    }
   },
   "outputs": [
    {
     "name": "stdout",
     "output_type": "stream",
     "text": [
      "31.6 µs ± 88.9 ns per loop (mean ± std. dev. of 7 runs, 10,000 loops each)\n"
     ]
    }
   ],
   "source": [
    "%timeit t_stack(trees)"
   ]
  },
  {
   "cell_type": "code",
   "execution_count": 22,
   "id": "94b56771",
   "metadata": {
    "execution": {
     "iopub.execute_input": "2023-02-25T18:53:09.482987Z",
     "iopub.status.busy": "2023-02-25T18:53:09.482627Z",
     "iopub.status.idle": "2023-02-25T18:53:09.490592Z",
     "shell.execute_reply": "2023-02-25T18:53:09.489999Z"
    }
   },
   "outputs": [
    {
     "data": {
      "text/plain": [
       "<FastTreeValue 0x7f03e03db3a0>\n",
       "├── 'a' --> tensor([[-1.3243,  0.4432, -0.2395],\n",
       "│                   [ 0.8267,  0.6192, -0.3768],\n",
       "│                   [-1.3243,  0.4432, -0.2395],\n",
       "│                   [ 0.8267,  0.6192, -0.3768],\n",
       "│                   [-1.3243,  0.4432, -0.2395],\n",
       "│                   [ 0.8267,  0.6192, -0.3768],\n",
       "│                   [-1.3243,  0.4432, -0.2395],\n",
       "│                   [ 0.8267,  0.6192, -0.3768],\n",
       "│                   [-1.3243,  0.4432, -0.2395],\n",
       "│                   [ 0.8267,  0.6192, -0.3768],\n",
       "│                   [-1.3243,  0.4432, -0.2395],\n",
       "│                   [ 0.8267,  0.6192, -0.3768],\n",
       "│                   [-1.3243,  0.4432, -0.2395],\n",
       "│                   [ 0.8267,  0.6192, -0.3768],\n",
       "│                   [-1.3243,  0.4432, -0.2395],\n",
       "│                   [ 0.8267,  0.6192, -0.3768]])\n",
       "└── 'x' --> <FastTreeValue 0x7f048c625190>\n",
       "    └── 'c' --> tensor([[-1.7263,  1.7751,  0.1257, -1.5288],\n",
       "                        [-0.0420, -0.4768,  0.2027,  0.2390],\n",
       "                        [ 0.4948, -0.4152,  0.2767,  0.0952],\n",
       "                        [-1.7263,  1.7751,  0.1257, -1.5288],\n",
       "                        [-0.0420, -0.4768,  0.2027,  0.2390],\n",
       "                        [ 0.4948, -0.4152,  0.2767,  0.0952],\n",
       "                        [-1.7263,  1.7751,  0.1257, -1.5288],\n",
       "                        [-0.0420, -0.4768,  0.2027,  0.2390],\n",
       "                        [ 0.4948, -0.4152,  0.2767,  0.0952],\n",
       "                        [-1.7263,  1.7751,  0.1257, -1.5288],\n",
       "                        [-0.0420, -0.4768,  0.2027,  0.2390],\n",
       "                        [ 0.4948, -0.4152,  0.2767,  0.0952],\n",
       "                        [-1.7263,  1.7751,  0.1257, -1.5288],\n",
       "                        [-0.0420, -0.4768,  0.2027,  0.2390],\n",
       "                        [ 0.4948, -0.4152,  0.2767,  0.0952],\n",
       "                        [-1.7263,  1.7751,  0.1257, -1.5288],\n",
       "                        [-0.0420, -0.4768,  0.2027,  0.2390],\n",
       "                        [ 0.4948, -0.4152,  0.2767,  0.0952],\n",
       "                        [-1.7263,  1.7751,  0.1257, -1.5288],\n",
       "                        [-0.0420, -0.4768,  0.2027,  0.2390],\n",
       "                        [ 0.4948, -0.4152,  0.2767,  0.0952],\n",
       "                        [-1.7263,  1.7751,  0.1257, -1.5288],\n",
       "                        [-0.0420, -0.4768,  0.2027,  0.2390],\n",
       "                        [ 0.4948, -0.4152,  0.2767,  0.0952]])"
      ]
     },
     "execution_count": 22,
     "metadata": {},
     "output_type": "execute_result"
    }
   ],
   "source": [
    "t_cat = FastTreeValue.func(subside=True)(torch.cat)\n",
    "\n",
    "t_cat(trees)"
   ]
  },
  {
   "cell_type": "code",
   "execution_count": 23,
   "id": "5e9c06a6",
   "metadata": {
    "execution": {
     "iopub.execute_input": "2023-02-25T18:53:09.493292Z",
     "iopub.status.busy": "2023-02-25T18:53:09.492672Z",
     "iopub.status.idle": "2023-02-25T18:53:11.920117Z",
     "shell.execute_reply": "2023-02-25T18:53:11.919374Z"
    }
   },
   "outputs": [
    {
     "name": "stdout",
     "output_type": "stream",
     "text": [
      "29.8 µs ± 77.3 ns per loop (mean ± std. dev. of 7 runs, 10,000 loops each)\n"
     ]
    }
   ],
   "source": [
    "%timeit t_cat(trees)"
   ]
  },
  {
   "cell_type": "code",
   "execution_count": 24,
   "id": "a3ab5c8f",
   "metadata": {
    "execution": {
     "iopub.execute_input": "2023-02-25T18:53:11.922858Z",
     "iopub.status.busy": "2023-02-25T18:53:11.922473Z",
     "iopub.status.idle": "2023-02-25T18:53:16.795685Z",
     "shell.execute_reply": "2023-02-25T18:53:16.794932Z"
    }
   },
   "outputs": [
    {
     "name": "stdout",
     "output_type": "stream",
     "text": [
      "59.9 µs ± 133 ns per loop (mean ± std. dev. of 7 runs, 10,000 loops each)\n"
     ]
    }
   ],
   "source": [
    "t_split = FastTreeValue.func(rise=True)(torch.split)\n",
    "tree = FastTreeValue({\n",
    "    'obs': torch.randn(8, 4, 84, 84),\n",
    "    'action': torch.randint(0, 6, size=(8, 1,)),\n",
    "    'reward': torch.rand(8, 1),\n",
    "})\n",
    "\n",
    "%timeit t_split(tree, 1)"
   ]
  },
  {
   "cell_type": "markdown",
   "id": "31c3ec0b",
   "metadata": {},
   "source": [
    "### Performance of Tianshou Batch"
   ]
  },
  {
   "cell_type": "code",
   "execution_count": 25,
   "id": "9ead828a",
   "metadata": {
    "execution": {
     "iopub.execute_input": "2023-02-25T18:53:16.798379Z",
     "iopub.status.busy": "2023-02-25T18:53:16.798023Z",
     "iopub.status.idle": "2023-02-25T18:53:16.806205Z",
     "shell.execute_reply": "2023-02-25T18:53:16.805596Z"
    }
   },
   "outputs": [
    {
     "data": {
      "text/plain": [
       "Batch(\n",
       "    x: Batch(\n",
       "           c: tensor([[[-1.7263,  1.7751,  0.1257, -1.5288],\n",
       "                       [-0.0420, -0.4768,  0.2027,  0.2390],\n",
       "                       [ 0.4948, -0.4152,  0.2767,  0.0952]],\n",
       "              \n",
       "                      [[-1.7263,  1.7751,  0.1257, -1.5288],\n",
       "                       [-0.0420, -0.4768,  0.2027,  0.2390],\n",
       "                       [ 0.4948, -0.4152,  0.2767,  0.0952]],\n",
       "              \n",
       "                      [[-1.7263,  1.7751,  0.1257, -1.5288],\n",
       "                       [-0.0420, -0.4768,  0.2027,  0.2390],\n",
       "                       [ 0.4948, -0.4152,  0.2767,  0.0952]],\n",
       "              \n",
       "                      [[-1.7263,  1.7751,  0.1257, -1.5288],\n",
       "                       [-0.0420, -0.4768,  0.2027,  0.2390],\n",
       "                       [ 0.4948, -0.4152,  0.2767,  0.0952]],\n",
       "              \n",
       "                      [[-1.7263,  1.7751,  0.1257, -1.5288],\n",
       "                       [-0.0420, -0.4768,  0.2027,  0.2390],\n",
       "                       [ 0.4948, -0.4152,  0.2767,  0.0952]],\n",
       "              \n",
       "                      [[-1.7263,  1.7751,  0.1257, -1.5288],\n",
       "                       [-0.0420, -0.4768,  0.2027,  0.2390],\n",
       "                       [ 0.4948, -0.4152,  0.2767,  0.0952]],\n",
       "              \n",
       "                      [[-1.7263,  1.7751,  0.1257, -1.5288],\n",
       "                       [-0.0420, -0.4768,  0.2027,  0.2390],\n",
       "                       [ 0.4948, -0.4152,  0.2767,  0.0952]],\n",
       "              \n",
       "                      [[-1.7263,  1.7751,  0.1257, -1.5288],\n",
       "                       [-0.0420, -0.4768,  0.2027,  0.2390],\n",
       "                       [ 0.4948, -0.4152,  0.2767,  0.0952]]]),\n",
       "       ),\n",
       "    a: tensor([[[-1.3243,  0.4432, -0.2395],\n",
       "                [ 0.8267,  0.6192, -0.3768]],\n",
       "       \n",
       "               [[-1.3243,  0.4432, -0.2395],\n",
       "                [ 0.8267,  0.6192, -0.3768]],\n",
       "       \n",
       "               [[-1.3243,  0.4432, -0.2395],\n",
       "                [ 0.8267,  0.6192, -0.3768]],\n",
       "       \n",
       "               [[-1.3243,  0.4432, -0.2395],\n",
       "                [ 0.8267,  0.6192, -0.3768]],\n",
       "       \n",
       "               [[-1.3243,  0.4432, -0.2395],\n",
       "                [ 0.8267,  0.6192, -0.3768]],\n",
       "       \n",
       "               [[-1.3243,  0.4432, -0.2395],\n",
       "                [ 0.8267,  0.6192, -0.3768]],\n",
       "       \n",
       "               [[-1.3243,  0.4432, -0.2395],\n",
       "                [ 0.8267,  0.6192, -0.3768]],\n",
       "       \n",
       "               [[-1.3243,  0.4432, -0.2395],\n",
       "                [ 0.8267,  0.6192, -0.3768]]]),\n",
       ")"
      ]
     },
     "execution_count": 25,
     "metadata": {},
     "output_type": "execute_result"
    }
   ],
   "source": [
    "batches = [Batch(**_TREE_DATA_2) for _ in range(8)]\n",
    "\n",
    "Batch.stack(batches)"
   ]
  },
  {
   "cell_type": "code",
   "execution_count": 26,
   "id": "ec9037a3",
   "metadata": {
    "execution": {
     "iopub.execute_input": "2023-02-25T18:53:16.808763Z",
     "iopub.status.busy": "2023-02-25T18:53:16.808393Z",
     "iopub.status.idle": "2023-02-25T18:53:23.169964Z",
     "shell.execute_reply": "2023-02-25T18:53:23.169202Z"
    }
   },
   "outputs": [
    {
     "name": "stdout",
     "output_type": "stream",
     "text": [
      "78.3 µs ± 104 ns per loop (mean ± std. dev. of 7 runs, 10,000 loops each)\n"
     ]
    }
   ],
   "source": [
    "%timeit Batch.stack(batches)"
   ]
  },
  {
   "cell_type": "code",
   "execution_count": 27,
   "id": "cb8ab77e",
   "metadata": {
    "execution": {
     "iopub.execute_input": "2023-02-25T18:53:23.173179Z",
     "iopub.status.busy": "2023-02-25T18:53:23.172660Z",
     "iopub.status.idle": "2023-02-25T18:53:23.180296Z",
     "shell.execute_reply": "2023-02-25T18:53:23.179680Z"
    }
   },
   "outputs": [
    {
     "data": {
      "text/plain": [
       "Batch(\n",
       "    x: Batch(\n",
       "           c: tensor([[-1.7263,  1.7751,  0.1257, -1.5288],\n",
       "                      [-0.0420, -0.4768,  0.2027,  0.2390],\n",
       "                      [ 0.4948, -0.4152,  0.2767,  0.0952],\n",
       "                      [-1.7263,  1.7751,  0.1257, -1.5288],\n",
       "                      [-0.0420, -0.4768,  0.2027,  0.2390],\n",
       "                      [ 0.4948, -0.4152,  0.2767,  0.0952],\n",
       "                      [-1.7263,  1.7751,  0.1257, -1.5288],\n",
       "                      [-0.0420, -0.4768,  0.2027,  0.2390],\n",
       "                      [ 0.4948, -0.4152,  0.2767,  0.0952],\n",
       "                      [-1.7263,  1.7751,  0.1257, -1.5288],\n",
       "                      [-0.0420, -0.4768,  0.2027,  0.2390],\n",
       "                      [ 0.4948, -0.4152,  0.2767,  0.0952],\n",
       "                      [-1.7263,  1.7751,  0.1257, -1.5288],\n",
       "                      [-0.0420, -0.4768,  0.2027,  0.2390],\n",
       "                      [ 0.4948, -0.4152,  0.2767,  0.0952],\n",
       "                      [-1.7263,  1.7751,  0.1257, -1.5288],\n",
       "                      [-0.0420, -0.4768,  0.2027,  0.2390],\n",
       "                      [ 0.4948, -0.4152,  0.2767,  0.0952],\n",
       "                      [-1.7263,  1.7751,  0.1257, -1.5288],\n",
       "                      [-0.0420, -0.4768,  0.2027,  0.2390],\n",
       "                      [ 0.4948, -0.4152,  0.2767,  0.0952],\n",
       "                      [-1.7263,  1.7751,  0.1257, -1.5288],\n",
       "                      [-0.0420, -0.4768,  0.2027,  0.2390],\n",
       "                      [ 0.4948, -0.4152,  0.2767,  0.0952]]),\n",
       "       ),\n",
       "    a: tensor([[-1.3243,  0.4432, -0.2395],\n",
       "               [ 0.8267,  0.6192, -0.3768],\n",
       "               [-1.3243,  0.4432, -0.2395],\n",
       "               [ 0.8267,  0.6192, -0.3768],\n",
       "               [-1.3243,  0.4432, -0.2395],\n",
       "               [ 0.8267,  0.6192, -0.3768],\n",
       "               [-1.3243,  0.4432, -0.2395],\n",
       "               [ 0.8267,  0.6192, -0.3768],\n",
       "               [-1.3243,  0.4432, -0.2395],\n",
       "               [ 0.8267,  0.6192, -0.3768],\n",
       "               [-1.3243,  0.4432, -0.2395],\n",
       "               [ 0.8267,  0.6192, -0.3768],\n",
       "               [-1.3243,  0.4432, -0.2395],\n",
       "               [ 0.8267,  0.6192, -0.3768],\n",
       "               [-1.3243,  0.4432, -0.2395],\n",
       "               [ 0.8267,  0.6192, -0.3768]]),\n",
       ")"
      ]
     },
     "execution_count": 27,
     "metadata": {},
     "output_type": "execute_result"
    }
   ],
   "source": [
    "Batch.cat(batches)"
   ]
  },
  {
   "cell_type": "code",
   "execution_count": 28,
   "id": "18dfb045",
   "metadata": {
    "execution": {
     "iopub.execute_input": "2023-02-25T18:53:23.182949Z",
     "iopub.status.busy": "2023-02-25T18:53:23.182530Z",
     "iopub.status.idle": "2023-02-25T18:53:34.804565Z",
     "shell.execute_reply": "2023-02-25T18:53:34.803833Z"
    }
   },
   "outputs": [
    {
     "name": "stdout",
     "output_type": "stream",
     "text": [
      "143 µs ± 349 ns per loop (mean ± std. dev. of 7 runs, 10,000 loops each)\n"
     ]
    }
   ],
   "source": [
    "%timeit Batch.cat(batches)"
   ]
  },
  {
   "cell_type": "code",
   "execution_count": 29,
   "id": "c6688e51",
   "metadata": {
    "execution": {
     "iopub.execute_input": "2023-02-25T18:53:34.807563Z",
     "iopub.status.busy": "2023-02-25T18:53:34.807202Z",
     "iopub.status.idle": "2023-02-25T18:53:37.330878Z",
     "shell.execute_reply": "2023-02-25T18:53:37.330313Z"
    }
   },
   "outputs": [
    {
     "name": "stdout",
     "output_type": "stream",
     "text": [
      "310 µs ± 447 ns per loop (mean ± std. dev. of 7 runs, 1,000 loops each)\n"
     ]
    }
   ],
   "source": [
    "batch = Batch({\n",
    "    'obs': torch.randn(8, 4, 84, 84),\n",
    "    'action': torch.randint(0, 6, size=(8, 1,)),\n",
    "    'reward': torch.rand(8, 1)}\n",
    ")\n",
    "\n",
    "%timeit list(Batch.split(batch, 1, shuffle=False, merge_last=True))"
   ]
  },
  {
   "cell_type": "code",
   "execution_count": null,
   "id": "2539fbd9",
   "metadata": {},
   "outputs": [],
   "source": []
  }
 ],
 "metadata": {
  "kernelspec": {
   "display_name": "Python 3 (ipykernel)",
   "language": "python",
   "name": "python3"
  },
  "language_info": {
   "codemirror_mode": {
    "name": "ipython",
    "version": 3
   },
   "file_extension": ".py",
   "mimetype": "text/x-python",
   "name": "python",
   "nbconvert_exporter": "python",
   "pygments_lexer": "ipython3",
   "version": "3.8.16"
  }
 },
 "nbformat": 4,
 "nbformat_minor": 5
}
