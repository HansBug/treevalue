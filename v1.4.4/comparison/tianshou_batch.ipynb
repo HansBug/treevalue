{
 "cells": [
  {
   "cell_type": "markdown",
   "id": "9d39d946",
   "metadata": {},
   "source": [
    "# Comparison Between TreeValue and Tianshou Batch"
   ]
  },
  {
   "cell_type": "markdown",
   "id": "3c6db2d4",
   "metadata": {},
   "source": [
    "In this section, we will take a look at the feature and performance of the [Tianshou Batch](https://github.com/thu-ml/tianshou) library, which is developed by Tsinghua Machine Learning Group."
   ]
  },
  {
   "cell_type": "markdown",
   "id": "069361b0",
   "metadata": {},
   "source": [
    "Before starting the comparison, let us define some thing."
   ]
  },
  {
   "cell_type": "code",
   "execution_count": 1,
   "id": "06fc8d26",
   "metadata": {
    "execution": {
     "iopub.execute_input": "2023-02-23T09:19:36.808946Z",
     "iopub.status.busy": "2023-02-23T09:19:36.808182Z",
     "iopub.status.idle": "2023-02-23T09:19:37.845311Z",
     "shell.execute_reply": "2023-02-23T09:19:37.844478Z"
    }
   },
   "outputs": [
    {
     "name": "stderr",
     "output_type": "stream",
     "text": [
      "/opt/hostedtoolcache/Python/3.8.16/x64/lib/python3.8/site-packages/tqdm/auto.py:22: TqdmWarning: IProgress not found. Please update jupyter and ipywidgets. See https://ipywidgets.readthedocs.io/en/stable/user_install.html\n",
      "  from .autonotebook import tqdm as notebook_tqdm\n"
     ]
    }
   ],
   "source": [
    "import torch \n",
    "\n",
    "_TREE_DATA_1 = {'a': 1, 'b': 2, 'x': {'c': 3, 'd': 4}}\n",
    "_TREE_DATA_2 = {\n",
    "    'a': torch.randn(2, 3), \n",
    "    'x': {\n",
    "        'c': torch.randn(3, 4)\n",
    "    },\n",
    "}\n",
    "_TREE_DATA_3 = {\n",
    "    'obs': torch.randn(4, 84, 84),\n",
    "    'action': torch.randint(0, 6, size=(1,)),\n",
    "    'reward': torch.rand(1),\n",
    "}"
   ]
  },
  {
   "cell_type": "markdown",
   "id": "83461b25",
   "metadata": {},
   "source": [
    "## Read and Write Operation"
   ]
  },
  {
   "cell_type": "markdown",
   "id": "067b3f73",
   "metadata": {},
   "source": [
    "Reading and writing are the two most common operations in the tree data structure based on the data model (TreeValue and Tianshou Batch both belong to this type), so this section will compare the reading and writing performance of these two libraries."
   ]
  },
  {
   "cell_type": "markdown",
   "id": "5d09a5b7",
   "metadata": {},
   "source": [
    "### TreeValue's Get and Set"
   ]
  },
  {
   "cell_type": "code",
   "execution_count": 2,
   "id": "9519c4bb",
   "metadata": {
    "execution": {
     "iopub.execute_input": "2023-02-23T09:19:37.849541Z",
     "iopub.status.busy": "2023-02-23T09:19:37.849001Z",
     "iopub.status.idle": "2023-02-23T09:19:37.885119Z",
     "shell.execute_reply": "2023-02-23T09:19:37.884358Z"
    }
   },
   "outputs": [],
   "source": [
    "from treevalue import FastTreeValue\n",
    "\n",
    "t = FastTreeValue(_TREE_DATA_2)"
   ]
  },
  {
   "cell_type": "code",
   "execution_count": 3,
   "id": "11c37677",
   "metadata": {
    "execution": {
     "iopub.execute_input": "2023-02-23T09:19:37.888998Z",
     "iopub.status.busy": "2023-02-23T09:19:37.888561Z",
     "iopub.status.idle": "2023-02-23T09:19:37.899100Z",
     "shell.execute_reply": "2023-02-23T09:19:37.898413Z"
    }
   },
   "outputs": [
    {
     "data": {
      "text/plain": [
       "<FastTreeValue 0x7ffa6c1521c0>\n",
       "├── 'a' --> tensor([[-1.4886, -0.6883,  0.6741],\n",
       "│                   [-0.3599, -0.5653, -0.3015]])\n",
       "└── 'x' --> <FastTreeValue 0x7ffa6c152040>\n",
       "    └── 'c' --> tensor([[-0.3019, -1.2061, -1.1235,  0.3280],\n",
       "                        [ 0.9362,  0.9705, -0.1956, -0.7641],\n",
       "                        [-0.8731,  0.4320, -0.1795,  0.9048]])"
      ]
     },
     "execution_count": 3,
     "metadata": {},
     "output_type": "execute_result"
    }
   ],
   "source": [
    "t"
   ]
  },
  {
   "cell_type": "code",
   "execution_count": 4,
   "id": "fd70b0b9",
   "metadata": {
    "execution": {
     "iopub.execute_input": "2023-02-23T09:19:37.902343Z",
     "iopub.status.busy": "2023-02-23T09:19:37.901767Z",
     "iopub.status.idle": "2023-02-23T09:19:37.907869Z",
     "shell.execute_reply": "2023-02-23T09:19:37.907079Z"
    }
   },
   "outputs": [
    {
     "data": {
      "text/plain": [
       "tensor([[-1.4886, -0.6883,  0.6741],\n",
       "        [-0.3599, -0.5653, -0.3015]])"
      ]
     },
     "execution_count": 4,
     "metadata": {},
     "output_type": "execute_result"
    }
   ],
   "source": [
    "t.a"
   ]
  },
  {
   "cell_type": "code",
   "execution_count": 5,
   "id": "c18197bd",
   "metadata": {
    "execution": {
     "iopub.execute_input": "2023-02-23T09:19:37.911049Z",
     "iopub.status.busy": "2023-02-23T09:19:37.910419Z",
     "iopub.status.idle": "2023-02-23T09:19:43.199779Z",
     "shell.execute_reply": "2023-02-23T09:19:43.198818Z"
    }
   },
   "outputs": [
    {
     "name": "stdout",
     "output_type": "stream",
     "text": [
      "65 ns ± 0.0977 ns per loop (mean ± std. dev. of 7 runs, 10,000,000 loops each)\n"
     ]
    }
   ],
   "source": [
    "%timeit t.a"
   ]
  },
  {
   "cell_type": "code",
   "execution_count": 6,
   "id": "bd52f867",
   "metadata": {
    "execution": {
     "iopub.execute_input": "2023-02-23T09:19:43.203981Z",
     "iopub.status.busy": "2023-02-23T09:19:43.203181Z",
     "iopub.status.idle": "2023-02-23T09:19:43.210463Z",
     "shell.execute_reply": "2023-02-23T09:19:43.209714Z"
    }
   },
   "outputs": [
    {
     "data": {
      "text/plain": [
       "<FastTreeValue 0x7ffa6c1521c0>\n",
       "├── 'a' --> tensor([[ 0.0444, -2.5589, -2.3850],\n",
       "│                   [ 1.2288, -1.3918,  1.3652]])\n",
       "└── 'x' --> <FastTreeValue 0x7ffa6c152040>\n",
       "    └── 'c' --> tensor([[-0.3019, -1.2061, -1.1235,  0.3280],\n",
       "                        [ 0.9362,  0.9705, -0.1956, -0.7641],\n",
       "                        [-0.8731,  0.4320, -0.1795,  0.9048]])"
      ]
     },
     "execution_count": 6,
     "metadata": {},
     "output_type": "execute_result"
    }
   ],
   "source": [
    "new_value = torch.randn(2, 3)\n",
    "t.a = new_value\n",
    "\n",
    "t"
   ]
  },
  {
   "cell_type": "code",
   "execution_count": 7,
   "id": "bbe04d1c",
   "metadata": {
    "execution": {
     "iopub.execute_input": "2023-02-23T09:19:43.213867Z",
     "iopub.status.busy": "2023-02-23T09:19:43.213260Z",
     "iopub.status.idle": "2023-02-23T09:19:48.769631Z",
     "shell.execute_reply": "2023-02-23T09:19:48.768552Z"
    }
   },
   "outputs": [
    {
     "name": "stdout",
     "output_type": "stream",
     "text": [
      "68.4 ns ± 0.0509 ns per loop (mean ± std. dev. of 7 runs, 10,000,000 loops each)\n"
     ]
    }
   ],
   "source": [
    "%timeit t.a = new_value"
   ]
  },
  {
   "cell_type": "markdown",
   "id": "48c49731",
   "metadata": {},
   "source": [
    "### Tianshou Batch's Get and Set"
   ]
  },
  {
   "cell_type": "code",
   "execution_count": 8,
   "id": "f1bb14c1",
   "metadata": {
    "execution": {
     "iopub.execute_input": "2023-02-23T09:19:48.772897Z",
     "iopub.status.busy": "2023-02-23T09:19:48.772396Z",
     "iopub.status.idle": "2023-02-23T09:19:49.156952Z",
     "shell.execute_reply": "2023-02-23T09:19:49.156143Z"
    }
   },
   "outputs": [],
   "source": [
    "from tianshou.data import Batch\n",
    "\n",
    "b = Batch(**_TREE_DATA_2)"
   ]
  },
  {
   "cell_type": "code",
   "execution_count": 9,
   "id": "cb0777c3",
   "metadata": {
    "execution": {
     "iopub.execute_input": "2023-02-23T09:19:49.161022Z",
     "iopub.status.busy": "2023-02-23T09:19:49.160481Z",
     "iopub.status.idle": "2023-02-23T09:19:49.167276Z",
     "shell.execute_reply": "2023-02-23T09:19:49.166636Z"
    }
   },
   "outputs": [
    {
     "data": {
      "text/plain": [
       "Batch(\n",
       "    a: tensor([[-1.4886, -0.6883,  0.6741],\n",
       "               [-0.3599, -0.5653, -0.3015]]),\n",
       "    x: Batch(\n",
       "           c: tensor([[-0.3019, -1.2061, -1.1235,  0.3280],\n",
       "                      [ 0.9362,  0.9705, -0.1956, -0.7641],\n",
       "                      [-0.8731,  0.4320, -0.1795,  0.9048]]),\n",
       "       ),\n",
       ")"
      ]
     },
     "execution_count": 9,
     "metadata": {},
     "output_type": "execute_result"
    }
   ],
   "source": [
    "b"
   ]
  },
  {
   "cell_type": "code",
   "execution_count": 10,
   "id": "43ef8ea3",
   "metadata": {
    "execution": {
     "iopub.execute_input": "2023-02-23T09:19:49.170707Z",
     "iopub.status.busy": "2023-02-23T09:19:49.170042Z",
     "iopub.status.idle": "2023-02-23T09:19:49.175885Z",
     "shell.execute_reply": "2023-02-23T09:19:49.175205Z"
    }
   },
   "outputs": [
    {
     "data": {
      "text/plain": [
       "tensor([[-1.4886, -0.6883,  0.6741],\n",
       "        [-0.3599, -0.5653, -0.3015]])"
      ]
     },
     "execution_count": 10,
     "metadata": {},
     "output_type": "execute_result"
    }
   ],
   "source": [
    "b.a"
   ]
  },
  {
   "cell_type": "code",
   "execution_count": 11,
   "id": "b785ab72",
   "metadata": {
    "execution": {
     "iopub.execute_input": "2023-02-23T09:19:49.178859Z",
     "iopub.status.busy": "2023-02-23T09:19:49.178215Z",
     "iopub.status.idle": "2023-02-23T09:19:53.874958Z",
     "shell.execute_reply": "2023-02-23T09:19:53.874020Z"
    }
   },
   "outputs": [
    {
     "name": "stdout",
     "output_type": "stream",
     "text": [
      "57.8 ns ± 0.13 ns per loop (mean ± std. dev. of 7 runs, 10,000,000 loops each)\n"
     ]
    }
   ],
   "source": [
    "%timeit b.a"
   ]
  },
  {
   "cell_type": "code",
   "execution_count": 12,
   "id": "ad54dc69",
   "metadata": {
    "execution": {
     "iopub.execute_input": "2023-02-23T09:19:53.878525Z",
     "iopub.status.busy": "2023-02-23T09:19:53.877917Z",
     "iopub.status.idle": "2023-02-23T09:19:53.885093Z",
     "shell.execute_reply": "2023-02-23T09:19:53.884432Z"
    }
   },
   "outputs": [
    {
     "data": {
      "text/plain": [
       "Batch(\n",
       "    a: tensor([[-0.9081,  0.1128, -1.3189],\n",
       "               [ 0.5357,  0.5668, -0.6491]]),\n",
       "    x: Batch(\n",
       "           c: tensor([[-0.3019, -1.2061, -1.1235,  0.3280],\n",
       "                      [ 0.9362,  0.9705, -0.1956, -0.7641],\n",
       "                      [-0.8731,  0.4320, -0.1795,  0.9048]]),\n",
       "       ),\n",
       ")"
      ]
     },
     "execution_count": 12,
     "metadata": {},
     "output_type": "execute_result"
    }
   ],
   "source": [
    "new_value = torch.randn(2, 3)\n",
    "b.a = new_value\n",
    "\n",
    "b"
   ]
  },
  {
   "cell_type": "code",
   "execution_count": 13,
   "id": "29b1d0bf",
   "metadata": {
    "execution": {
     "iopub.execute_input": "2023-02-23T09:19:53.888140Z",
     "iopub.status.busy": "2023-02-23T09:19:53.887772Z",
     "iopub.status.idle": "2023-02-23T09:19:57.896040Z",
     "shell.execute_reply": "2023-02-23T09:19:57.895227Z"
    }
   },
   "outputs": [
    {
     "name": "stdout",
     "output_type": "stream",
     "text": [
      "493 ns ± 0.199 ns per loop (mean ± std. dev. of 7 runs, 1,000,000 loops each)\n"
     ]
    }
   ],
   "source": [
    "%timeit b.a = new_value"
   ]
  },
  {
   "cell_type": "markdown",
   "id": "b61ad1d0",
   "metadata": {},
   "source": [
    "## Initialization"
   ]
  },
  {
   "cell_type": "markdown",
   "id": "d70f0d54",
   "metadata": {},
   "source": [
    "### TreeValue's Initialization"
   ]
  },
  {
   "cell_type": "code",
   "execution_count": 14,
   "id": "d32a679b",
   "metadata": {
    "execution": {
     "iopub.execute_input": "2023-02-23T09:19:57.899729Z",
     "iopub.status.busy": "2023-02-23T09:19:57.899266Z",
     "iopub.status.idle": "2023-02-23T09:20:04.644935Z",
     "shell.execute_reply": "2023-02-23T09:20:04.644054Z"
    }
   },
   "outputs": [
    {
     "name": "stdout",
     "output_type": "stream",
     "text": [
      "828 ns ± 2.7 ns per loop (mean ± std. dev. of 7 runs, 1,000,000 loops each)\n"
     ]
    }
   ],
   "source": [
    "%timeit FastTreeValue(_TREE_DATA_1)"
   ]
  },
  {
   "cell_type": "markdown",
   "id": "24f3707b",
   "metadata": {},
   "source": [
    "### Tianshou Batch's Initialization"
   ]
  },
  {
   "cell_type": "code",
   "execution_count": 15,
   "id": "ac3958df",
   "metadata": {
    "execution": {
     "iopub.execute_input": "2023-02-23T09:20:04.652256Z",
     "iopub.status.busy": "2023-02-23T09:20:04.651548Z",
     "iopub.status.idle": "2023-02-23T09:20:13.310289Z",
     "shell.execute_reply": "2023-02-23T09:20:13.309447Z"
    }
   },
   "outputs": [
    {
     "name": "stdout",
     "output_type": "stream",
     "text": [
      "10.7 µs ± 12.7 ns per loop (mean ± std. dev. of 7 runs, 100,000 loops each)\n"
     ]
    }
   ],
   "source": [
    "%timeit Batch(**_TREE_DATA_1)"
   ]
  },
  {
   "cell_type": "markdown",
   "id": "1ab82e2d",
   "metadata": {},
   "source": [
    "## Deep Copy Operation"
   ]
  },
  {
   "cell_type": "code",
   "execution_count": 16,
   "id": "210a9442",
   "metadata": {
    "execution": {
     "iopub.execute_input": "2023-02-23T09:20:13.313791Z",
     "iopub.status.busy": "2023-02-23T09:20:13.313178Z",
     "iopub.status.idle": "2023-02-23T09:20:13.317577Z",
     "shell.execute_reply": "2023-02-23T09:20:13.316907Z"
    }
   },
   "outputs": [],
   "source": [
    "import copy"
   ]
  },
  {
   "cell_type": "markdown",
   "id": "5a736274",
   "metadata": {},
   "source": [
    "### Deep Copy of TreeValue"
   ]
  },
  {
   "cell_type": "code",
   "execution_count": 17,
   "id": "f9bcadd6",
   "metadata": {
    "execution": {
     "iopub.execute_input": "2023-02-23T09:20:13.320793Z",
     "iopub.status.busy": "2023-02-23T09:20:13.320239Z",
     "iopub.status.idle": "2023-02-23T09:20:24.831162Z",
     "shell.execute_reply": "2023-02-23T09:20:24.830463Z"
    }
   },
   "outputs": [
    {
     "name": "stdout",
     "output_type": "stream",
     "text": [
      "142 µs ± 922 ns per loop (mean ± std. dev. of 7 runs, 10,000 loops each)\n"
     ]
    }
   ],
   "source": [
    "t3 = FastTreeValue(_TREE_DATA_3)\n",
    "%timeit copy.deepcopy(t3)"
   ]
  },
  {
   "cell_type": "markdown",
   "id": "bf8be7ea",
   "metadata": {},
   "source": [
    "### Deep Copy of Tianshou Batch"
   ]
  },
  {
   "cell_type": "code",
   "execution_count": 18,
   "id": "91998e6f",
   "metadata": {
    "execution": {
     "iopub.execute_input": "2023-02-23T09:20:24.834547Z",
     "iopub.status.busy": "2023-02-23T09:20:24.833730Z",
     "iopub.status.idle": "2023-02-23T09:20:36.470488Z",
     "shell.execute_reply": "2023-02-23T09:20:36.469826Z"
    }
   },
   "outputs": [
    {
     "name": "stdout",
     "output_type": "stream",
     "text": [
      "143 µs ± 261 ns per loop (mean ± std. dev. of 7 runs, 10,000 loops each)\n"
     ]
    }
   ],
   "source": [
    "b3 = Batch(**_TREE_DATA_3)\n",
    "%timeit copy.deepcopy(b3)"
   ]
  },
  {
   "cell_type": "markdown",
   "id": "223162fb",
   "metadata": {},
   "source": [
    "## Stack, Concat and Split Operation"
   ]
  },
  {
   "cell_type": "markdown",
   "id": "85fa4a73",
   "metadata": {},
   "source": [
    "### Performance of TreeValue"
   ]
  },
  {
   "cell_type": "code",
   "execution_count": 19,
   "id": "a0c2b697",
   "metadata": {
    "execution": {
     "iopub.execute_input": "2023-02-23T09:20:36.473544Z",
     "iopub.status.busy": "2023-02-23T09:20:36.473108Z",
     "iopub.status.idle": "2023-02-23T09:20:36.476891Z",
     "shell.execute_reply": "2023-02-23T09:20:36.476316Z"
    }
   },
   "outputs": [],
   "source": [
    "trees = [FastTreeValue(_TREE_DATA_2) for _ in range(8)]"
   ]
  },
  {
   "cell_type": "code",
   "execution_count": 20,
   "id": "017ea5a5",
   "metadata": {
    "execution": {
     "iopub.execute_input": "2023-02-23T09:20:36.479490Z",
     "iopub.status.busy": "2023-02-23T09:20:36.479012Z",
     "iopub.status.idle": "2023-02-23T09:20:36.486892Z",
     "shell.execute_reply": "2023-02-23T09:20:36.486298Z"
    }
   },
   "outputs": [
    {
     "data": {
      "text/plain": [
       "<FastTreeValue 0x7ffa6c156880>\n",
       "├── 'a' --> tensor([[[-1.4886, -0.6883,  0.6741],\n",
       "│                    [-0.3599, -0.5653, -0.3015]],\n",
       "│           \n",
       "│                   [[-1.4886, -0.6883,  0.6741],\n",
       "│                    [-0.3599, -0.5653, -0.3015]],\n",
       "│           \n",
       "│                   [[-1.4886, -0.6883,  0.6741],\n",
       "│                    [-0.3599, -0.5653, -0.3015]],\n",
       "│           \n",
       "│                   [[-1.4886, -0.6883,  0.6741],\n",
       "│                    [-0.3599, -0.5653, -0.3015]],\n",
       "│           \n",
       "│                   [[-1.4886, -0.6883,  0.6741],\n",
       "│                    [-0.3599, -0.5653, -0.3015]],\n",
       "│           \n",
       "│                   [[-1.4886, -0.6883,  0.6741],\n",
       "│                    [-0.3599, -0.5653, -0.3015]],\n",
       "│           \n",
       "│                   [[-1.4886, -0.6883,  0.6741],\n",
       "│                    [-0.3599, -0.5653, -0.3015]],\n",
       "│           \n",
       "│                   [[-1.4886, -0.6883,  0.6741],\n",
       "│                    [-0.3599, -0.5653, -0.3015]]])\n",
       "└── 'x' --> <FastTreeValue 0x7ffa6c156340>\n",
       "    └── 'c' --> tensor([[[-0.3019, -1.2061, -1.1235,  0.3280],\n",
       "                         [ 0.9362,  0.9705, -0.1956, -0.7641],\n",
       "                         [-0.8731,  0.4320, -0.1795,  0.9048]],\n",
       "                \n",
       "                        [[-0.3019, -1.2061, -1.1235,  0.3280],\n",
       "                         [ 0.9362,  0.9705, -0.1956, -0.7641],\n",
       "                         [-0.8731,  0.4320, -0.1795,  0.9048]],\n",
       "                \n",
       "                        [[-0.3019, -1.2061, -1.1235,  0.3280],\n",
       "                         [ 0.9362,  0.9705, -0.1956, -0.7641],\n",
       "                         [-0.8731,  0.4320, -0.1795,  0.9048]],\n",
       "                \n",
       "                        [[-0.3019, -1.2061, -1.1235,  0.3280],\n",
       "                         [ 0.9362,  0.9705, -0.1956, -0.7641],\n",
       "                         [-0.8731,  0.4320, -0.1795,  0.9048]],\n",
       "                \n",
       "                        [[-0.3019, -1.2061, -1.1235,  0.3280],\n",
       "                         [ 0.9362,  0.9705, -0.1956, -0.7641],\n",
       "                         [-0.8731,  0.4320, -0.1795,  0.9048]],\n",
       "                \n",
       "                        [[-0.3019, -1.2061, -1.1235,  0.3280],\n",
       "                         [ 0.9362,  0.9705, -0.1956, -0.7641],\n",
       "                         [-0.8731,  0.4320, -0.1795,  0.9048]],\n",
       "                \n",
       "                        [[-0.3019, -1.2061, -1.1235,  0.3280],\n",
       "                         [ 0.9362,  0.9705, -0.1956, -0.7641],\n",
       "                         [-0.8731,  0.4320, -0.1795,  0.9048]],\n",
       "                \n",
       "                        [[-0.3019, -1.2061, -1.1235,  0.3280],\n",
       "                         [ 0.9362,  0.9705, -0.1956, -0.7641],\n",
       "                         [-0.8731,  0.4320, -0.1795,  0.9048]]])"
      ]
     },
     "execution_count": 20,
     "metadata": {},
     "output_type": "execute_result"
    }
   ],
   "source": [
    "t_stack = FastTreeValue.func(subside=True)(torch.stack)\n",
    "\n",
    "t_stack(trees)"
   ]
  },
  {
   "cell_type": "code",
   "execution_count": 21,
   "id": "f8b3f415",
   "metadata": {
    "execution": {
     "iopub.execute_input": "2023-02-23T09:20:36.489403Z",
     "iopub.status.busy": "2023-02-23T09:20:36.489009Z",
     "iopub.status.idle": "2023-02-23T09:20:39.092415Z",
     "shell.execute_reply": "2023-02-23T09:20:39.091487Z"
    }
   },
   "outputs": [
    {
     "name": "stdout",
     "output_type": "stream",
     "text": [
      "32 µs ± 68.4 ns per loop (mean ± std. dev. of 7 runs, 10,000 loops each)\n"
     ]
    }
   ],
   "source": [
    "%timeit t_stack(trees)"
   ]
  },
  {
   "cell_type": "code",
   "execution_count": 22,
   "id": "94b56771",
   "metadata": {
    "execution": {
     "iopub.execute_input": "2023-02-23T09:20:39.095865Z",
     "iopub.status.busy": "2023-02-23T09:20:39.095460Z",
     "iopub.status.idle": "2023-02-23T09:20:39.104646Z",
     "shell.execute_reply": "2023-02-23T09:20:39.104000Z"
    }
   },
   "outputs": [
    {
     "data": {
      "text/plain": [
       "<FastTreeValue 0x7ff9c8a6ceb0>\n",
       "├── 'a' --> tensor([[-1.4886, -0.6883,  0.6741],\n",
       "│                   [-0.3599, -0.5653, -0.3015],\n",
       "│                   [-1.4886, -0.6883,  0.6741],\n",
       "│                   [-0.3599, -0.5653, -0.3015],\n",
       "│                   [-1.4886, -0.6883,  0.6741],\n",
       "│                   [-0.3599, -0.5653, -0.3015],\n",
       "│                   [-1.4886, -0.6883,  0.6741],\n",
       "│                   [-0.3599, -0.5653, -0.3015],\n",
       "│                   [-1.4886, -0.6883,  0.6741],\n",
       "│                   [-0.3599, -0.5653, -0.3015],\n",
       "│                   [-1.4886, -0.6883,  0.6741],\n",
       "│                   [-0.3599, -0.5653, -0.3015],\n",
       "│                   [-1.4886, -0.6883,  0.6741],\n",
       "│                   [-0.3599, -0.5653, -0.3015],\n",
       "│                   [-1.4886, -0.6883,  0.6741],\n",
       "│                   [-0.3599, -0.5653, -0.3015]])\n",
       "└── 'x' --> <FastTreeValue 0x7ffa6c1b7c70>\n",
       "    └── 'c' --> tensor([[-0.3019, -1.2061, -1.1235,  0.3280],\n",
       "                        [ 0.9362,  0.9705, -0.1956, -0.7641],\n",
       "                        [-0.8731,  0.4320, -0.1795,  0.9048],\n",
       "                        [-0.3019, -1.2061, -1.1235,  0.3280],\n",
       "                        [ 0.9362,  0.9705, -0.1956, -0.7641],\n",
       "                        [-0.8731,  0.4320, -0.1795,  0.9048],\n",
       "                        [-0.3019, -1.2061, -1.1235,  0.3280],\n",
       "                        [ 0.9362,  0.9705, -0.1956, -0.7641],\n",
       "                        [-0.8731,  0.4320, -0.1795,  0.9048],\n",
       "                        [-0.3019, -1.2061, -1.1235,  0.3280],\n",
       "                        [ 0.9362,  0.9705, -0.1956, -0.7641],\n",
       "                        [-0.8731,  0.4320, -0.1795,  0.9048],\n",
       "                        [-0.3019, -1.2061, -1.1235,  0.3280],\n",
       "                        [ 0.9362,  0.9705, -0.1956, -0.7641],\n",
       "                        [-0.8731,  0.4320, -0.1795,  0.9048],\n",
       "                        [-0.3019, -1.2061, -1.1235,  0.3280],\n",
       "                        [ 0.9362,  0.9705, -0.1956, -0.7641],\n",
       "                        [-0.8731,  0.4320, -0.1795,  0.9048],\n",
       "                        [-0.3019, -1.2061, -1.1235,  0.3280],\n",
       "                        [ 0.9362,  0.9705, -0.1956, -0.7641],\n",
       "                        [-0.8731,  0.4320, -0.1795,  0.9048],\n",
       "                        [-0.3019, -1.2061, -1.1235,  0.3280],\n",
       "                        [ 0.9362,  0.9705, -0.1956, -0.7641],\n",
       "                        [-0.8731,  0.4320, -0.1795,  0.9048]])"
      ]
     },
     "execution_count": 22,
     "metadata": {},
     "output_type": "execute_result"
    }
   ],
   "source": [
    "t_cat = FastTreeValue.func(subside=True)(torch.cat)\n",
    "\n",
    "t_cat(trees)"
   ]
  },
  {
   "cell_type": "code",
   "execution_count": 23,
   "id": "5e9c06a6",
   "metadata": {
    "execution": {
     "iopub.execute_input": "2023-02-23T09:20:39.107776Z",
     "iopub.status.busy": "2023-02-23T09:20:39.107287Z",
     "iopub.status.idle": "2023-02-23T09:20:41.554211Z",
     "shell.execute_reply": "2023-02-23T09:20:41.553324Z"
    }
   },
   "outputs": [
    {
     "name": "stdout",
     "output_type": "stream",
     "text": [
      "30.1 µs ± 60.3 ns per loop (mean ± std. dev. of 7 runs, 10,000 loops each)\n"
     ]
    }
   ],
   "source": [
    "%timeit t_cat(trees)"
   ]
  },
  {
   "cell_type": "code",
   "execution_count": 24,
   "id": "a3ab5c8f",
   "metadata": {
    "execution": {
     "iopub.execute_input": "2023-02-23T09:20:41.557750Z",
     "iopub.status.busy": "2023-02-23T09:20:41.557335Z",
     "iopub.status.idle": "2023-02-23T09:20:46.135221Z",
     "shell.execute_reply": "2023-02-23T09:20:46.134262Z"
    }
   },
   "outputs": [
    {
     "name": "stdout",
     "output_type": "stream",
     "text": [
      "56.3 µs ± 66.5 ns per loop (mean ± std. dev. of 7 runs, 10,000 loops each)\n"
     ]
    }
   ],
   "source": [
    "t_split = FastTreeValue.func(rise=True)(torch.split)\n",
    "tree = FastTreeValue({\n",
    "    'obs': torch.randn(8, 4, 84, 84),\n",
    "    'action': torch.randint(0, 6, size=(8, 1,)),\n",
    "    'reward': torch.rand(8, 1),\n",
    "})\n",
    "\n",
    "%timeit t_split(tree, 1)"
   ]
  },
  {
   "cell_type": "markdown",
   "id": "31c3ec0b",
   "metadata": {},
   "source": [
    "### Performance of Tianshou Batch"
   ]
  },
  {
   "cell_type": "code",
   "execution_count": 25,
   "id": "9ead828a",
   "metadata": {
    "execution": {
     "iopub.execute_input": "2023-02-23T09:20:46.138742Z",
     "iopub.status.busy": "2023-02-23T09:20:46.138301Z",
     "iopub.status.idle": "2023-02-23T09:20:46.147212Z",
     "shell.execute_reply": "2023-02-23T09:20:46.146536Z"
    }
   },
   "outputs": [
    {
     "data": {
      "text/plain": [
       "Batch(\n",
       "    a: tensor([[[-1.4886, -0.6883,  0.6741],\n",
       "                [-0.3599, -0.5653, -0.3015]],\n",
       "       \n",
       "               [[-1.4886, -0.6883,  0.6741],\n",
       "                [-0.3599, -0.5653, -0.3015]],\n",
       "       \n",
       "               [[-1.4886, -0.6883,  0.6741],\n",
       "                [-0.3599, -0.5653, -0.3015]],\n",
       "       \n",
       "               [[-1.4886, -0.6883,  0.6741],\n",
       "                [-0.3599, -0.5653, -0.3015]],\n",
       "       \n",
       "               [[-1.4886, -0.6883,  0.6741],\n",
       "                [-0.3599, -0.5653, -0.3015]],\n",
       "       \n",
       "               [[-1.4886, -0.6883,  0.6741],\n",
       "                [-0.3599, -0.5653, -0.3015]],\n",
       "       \n",
       "               [[-1.4886, -0.6883,  0.6741],\n",
       "                [-0.3599, -0.5653, -0.3015]],\n",
       "       \n",
       "               [[-1.4886, -0.6883,  0.6741],\n",
       "                [-0.3599, -0.5653, -0.3015]]]),\n",
       "    x: Batch(\n",
       "           c: tensor([[[-0.3019, -1.2061, -1.1235,  0.3280],\n",
       "                       [ 0.9362,  0.9705, -0.1956, -0.7641],\n",
       "                       [-0.8731,  0.4320, -0.1795,  0.9048]],\n",
       "              \n",
       "                      [[-0.3019, -1.2061, -1.1235,  0.3280],\n",
       "                       [ 0.9362,  0.9705, -0.1956, -0.7641],\n",
       "                       [-0.8731,  0.4320, -0.1795,  0.9048]],\n",
       "              \n",
       "                      [[-0.3019, -1.2061, -1.1235,  0.3280],\n",
       "                       [ 0.9362,  0.9705, -0.1956, -0.7641],\n",
       "                       [-0.8731,  0.4320, -0.1795,  0.9048]],\n",
       "              \n",
       "                      [[-0.3019, -1.2061, -1.1235,  0.3280],\n",
       "                       [ 0.9362,  0.9705, -0.1956, -0.7641],\n",
       "                       [-0.8731,  0.4320, -0.1795,  0.9048]],\n",
       "              \n",
       "                      [[-0.3019, -1.2061, -1.1235,  0.3280],\n",
       "                       [ 0.9362,  0.9705, -0.1956, -0.7641],\n",
       "                       [-0.8731,  0.4320, -0.1795,  0.9048]],\n",
       "              \n",
       "                      [[-0.3019, -1.2061, -1.1235,  0.3280],\n",
       "                       [ 0.9362,  0.9705, -0.1956, -0.7641],\n",
       "                       [-0.8731,  0.4320, -0.1795,  0.9048]],\n",
       "              \n",
       "                      [[-0.3019, -1.2061, -1.1235,  0.3280],\n",
       "                       [ 0.9362,  0.9705, -0.1956, -0.7641],\n",
       "                       [-0.8731,  0.4320, -0.1795,  0.9048]],\n",
       "              \n",
       "                      [[-0.3019, -1.2061, -1.1235,  0.3280],\n",
       "                       [ 0.9362,  0.9705, -0.1956, -0.7641],\n",
       "                       [-0.8731,  0.4320, -0.1795,  0.9048]]]),\n",
       "       ),\n",
       ")"
      ]
     },
     "execution_count": 25,
     "metadata": {},
     "output_type": "execute_result"
    }
   ],
   "source": [
    "batches = [Batch(**_TREE_DATA_2) for _ in range(8)]\n",
    "\n",
    "Batch.stack(batches)"
   ]
  },
  {
   "cell_type": "code",
   "execution_count": 26,
   "id": "ec9037a3",
   "metadata": {
    "execution": {
     "iopub.execute_input": "2023-02-23T09:20:46.150152Z",
     "iopub.status.busy": "2023-02-23T09:20:46.149894Z",
     "iopub.status.idle": "2023-02-23T09:20:52.545291Z",
     "shell.execute_reply": "2023-02-23T09:20:52.544365Z"
    }
   },
   "outputs": [
    {
     "name": "stdout",
     "output_type": "stream",
     "text": [
      "78.8 µs ± 263 ns per loop (mean ± std. dev. of 7 runs, 10,000 loops each)\n"
     ]
    }
   ],
   "source": [
    "%timeit Batch.stack(batches)"
   ]
  },
  {
   "cell_type": "code",
   "execution_count": 27,
   "id": "cb8ab77e",
   "metadata": {
    "execution": {
     "iopub.execute_input": "2023-02-23T09:20:52.551676Z",
     "iopub.status.busy": "2023-02-23T09:20:52.550213Z",
     "iopub.status.idle": "2023-02-23T09:20:52.561519Z",
     "shell.execute_reply": "2023-02-23T09:20:52.559516Z"
    }
   },
   "outputs": [
    {
     "data": {
      "text/plain": [
       "Batch(\n",
       "    a: tensor([[-1.4886, -0.6883,  0.6741],\n",
       "               [-0.3599, -0.5653, -0.3015],\n",
       "               [-1.4886, -0.6883,  0.6741],\n",
       "               [-0.3599, -0.5653, -0.3015],\n",
       "               [-1.4886, -0.6883,  0.6741],\n",
       "               [-0.3599, -0.5653, -0.3015],\n",
       "               [-1.4886, -0.6883,  0.6741],\n",
       "               [-0.3599, -0.5653, -0.3015],\n",
       "               [-1.4886, -0.6883,  0.6741],\n",
       "               [-0.3599, -0.5653, -0.3015],\n",
       "               [-1.4886, -0.6883,  0.6741],\n",
       "               [-0.3599, -0.5653, -0.3015],\n",
       "               [-1.4886, -0.6883,  0.6741],\n",
       "               [-0.3599, -0.5653, -0.3015],\n",
       "               [-1.4886, -0.6883,  0.6741],\n",
       "               [-0.3599, -0.5653, -0.3015]]),\n",
       "    x: Batch(\n",
       "           c: tensor([[-0.3019, -1.2061, -1.1235,  0.3280],\n",
       "                      [ 0.9362,  0.9705, -0.1956, -0.7641],\n",
       "                      [-0.8731,  0.4320, -0.1795,  0.9048],\n",
       "                      [-0.3019, -1.2061, -1.1235,  0.3280],\n",
       "                      [ 0.9362,  0.9705, -0.1956, -0.7641],\n",
       "                      [-0.8731,  0.4320, -0.1795,  0.9048],\n",
       "                      [-0.3019, -1.2061, -1.1235,  0.3280],\n",
       "                      [ 0.9362,  0.9705, -0.1956, -0.7641],\n",
       "                      [-0.8731,  0.4320, -0.1795,  0.9048],\n",
       "                      [-0.3019, -1.2061, -1.1235,  0.3280],\n",
       "                      [ 0.9362,  0.9705, -0.1956, -0.7641],\n",
       "                      [-0.8731,  0.4320, -0.1795,  0.9048],\n",
       "                      [-0.3019, -1.2061, -1.1235,  0.3280],\n",
       "                      [ 0.9362,  0.9705, -0.1956, -0.7641],\n",
       "                      [-0.8731,  0.4320, -0.1795,  0.9048],\n",
       "                      [-0.3019, -1.2061, -1.1235,  0.3280],\n",
       "                      [ 0.9362,  0.9705, -0.1956, -0.7641],\n",
       "                      [-0.8731,  0.4320, -0.1795,  0.9048],\n",
       "                      [-0.3019, -1.2061, -1.1235,  0.3280],\n",
       "                      [ 0.9362,  0.9705, -0.1956, -0.7641],\n",
       "                      [-0.8731,  0.4320, -0.1795,  0.9048],\n",
       "                      [-0.3019, -1.2061, -1.1235,  0.3280],\n",
       "                      [ 0.9362,  0.9705, -0.1956, -0.7641],\n",
       "                      [-0.8731,  0.4320, -0.1795,  0.9048]]),\n",
       "       ),\n",
       ")"
      ]
     },
     "execution_count": 27,
     "metadata": {},
     "output_type": "execute_result"
    }
   ],
   "source": [
    "Batch.cat(batches)"
   ]
  },
  {
   "cell_type": "code",
   "execution_count": 28,
   "id": "18dfb045",
   "metadata": {
    "execution": {
     "iopub.execute_input": "2023-02-23T09:20:52.565038Z",
     "iopub.status.busy": "2023-02-23T09:20:52.564538Z",
     "iopub.status.idle": "2023-02-23T09:21:04.053464Z",
     "shell.execute_reply": "2023-02-23T09:21:04.052686Z"
    }
   },
   "outputs": [
    {
     "name": "stdout",
     "output_type": "stream",
     "text": [
      "141 µs ± 300 ns per loop (mean ± std. dev. of 7 runs, 10,000 loops each)\n"
     ]
    }
   ],
   "source": [
    "%timeit Batch.cat(batches)"
   ]
  },
  {
   "cell_type": "code",
   "execution_count": 29,
   "id": "c6688e51",
   "metadata": {
    "execution": {
     "iopub.execute_input": "2023-02-23T09:21:04.056747Z",
     "iopub.status.busy": "2023-02-23T09:21:04.056468Z",
     "iopub.status.idle": "2023-02-23T09:21:06.715784Z",
     "shell.execute_reply": "2023-02-23T09:21:06.715078Z"
    }
   },
   "outputs": [
    {
     "name": "stdout",
     "output_type": "stream",
     "text": [
      "327 µs ± 1.92 µs per loop (mean ± std. dev. of 7 runs, 1,000 loops each)\n"
     ]
    }
   ],
   "source": [
    "batch = Batch({\n",
    "    'obs': torch.randn(8, 4, 84, 84),\n",
    "    'action': torch.randint(0, 6, size=(8, 1,)),\n",
    "    'reward': torch.rand(8, 1)}\n",
    ")\n",
    "\n",
    "%timeit list(Batch.split(batch, 1, shuffle=False, merge_last=True))"
   ]
  },
  {
   "cell_type": "code",
   "execution_count": null,
   "id": "2539fbd9",
   "metadata": {},
   "outputs": [],
   "source": []
  }
 ],
 "metadata": {
  "kernelspec": {
   "display_name": "Python 3 (ipykernel)",
   "language": "python",
   "name": "python3"
  },
  "language_info": {
   "codemirror_mode": {
    "name": "ipython",
    "version": 3
   },
   "file_extension": ".py",
   "mimetype": "text/x-python",
   "name": "python",
   "nbconvert_exporter": "python",
   "pygments_lexer": "ipython3",
   "version": "3.8.16"
  }
 },
 "nbformat": 4,
 "nbformat_minor": 5
}
