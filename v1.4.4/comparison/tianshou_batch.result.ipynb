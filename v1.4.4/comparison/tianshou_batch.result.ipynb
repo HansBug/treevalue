{
 "cells": [
  {
   "cell_type": "markdown",
   "id": "9d39d946",
   "metadata": {},
   "source": [
    "# Comparison Between TreeValue and Tianshou Batch"
   ]
  },
  {
   "cell_type": "markdown",
   "id": "3c6db2d4",
   "metadata": {},
   "source": [
    "In this section, we will take a look at the feature and performance of the [Tianshou Batch](https://github.com/thu-ml/tianshou) library, which is developed by Tsinghua Machine Learning Group."
   ]
  },
  {
   "cell_type": "markdown",
   "id": "069361b0",
   "metadata": {},
   "source": [
    "Before starting the comparison, let us define some thing."
   ]
  },
  {
   "cell_type": "code",
   "execution_count": 1,
   "id": "06fc8d26",
   "metadata": {
    "execution": {
     "iopub.execute_input": "2023-05-26T05:47:04.947114Z",
     "iopub.status.busy": "2023-05-26T05:47:04.946860Z",
     "iopub.status.idle": "2023-05-26T05:47:06.311359Z",
     "shell.execute_reply": "2023-05-26T05:47:06.310596Z"
    }
   },
   "outputs": [],
   "source": [
    "import torch \n",
    "\n",
    "_TREE_DATA_1 = {'a': 1, 'b': 2, 'x': {'c': 3, 'd': 4}}\n",
    "_TREE_DATA_2 = {\n",
    "    'a': torch.randn(2, 3), \n",
    "    'x': {\n",
    "        'c': torch.randn(3, 4)\n",
    "    },\n",
    "}\n",
    "_TREE_DATA_3 = {\n",
    "    'obs': torch.randn(4, 84, 84),\n",
    "    'action': torch.randint(0, 6, size=(1,)),\n",
    "    'reward': torch.rand(1),\n",
    "}"
   ]
  },
  {
   "cell_type": "markdown",
   "id": "83461b25",
   "metadata": {},
   "source": [
    "## Read and Write Operation"
   ]
  },
  {
   "cell_type": "markdown",
   "id": "067b3f73",
   "metadata": {},
   "source": [
    "Reading and writing are the two most common operations in the tree data structure based on the data model (TreeValue and Tianshou Batch both belong to this type), so this section will compare the reading and writing performance of these two libraries."
   ]
  },
  {
   "cell_type": "markdown",
   "id": "5d09a5b7",
   "metadata": {},
   "source": [
    "### TreeValue's Get and Set"
   ]
  },
  {
   "cell_type": "code",
   "execution_count": 2,
   "id": "9519c4bb",
   "metadata": {
    "execution": {
     "iopub.execute_input": "2023-05-26T05:47:06.315569Z",
     "iopub.status.busy": "2023-05-26T05:47:06.315076Z",
     "iopub.status.idle": "2023-05-26T05:47:06.344013Z",
     "shell.execute_reply": "2023-05-26T05:47:06.343293Z"
    }
   },
   "outputs": [],
   "source": [
    "from treevalue import FastTreeValue\n",
    "\n",
    "t = FastTreeValue(_TREE_DATA_2)"
   ]
  },
  {
   "cell_type": "code",
   "execution_count": 3,
   "id": "11c37677",
   "metadata": {
    "execution": {
     "iopub.execute_input": "2023-05-26T05:47:06.347841Z",
     "iopub.status.busy": "2023-05-26T05:47:06.347366Z",
     "iopub.status.idle": "2023-05-26T05:47:06.356387Z",
     "shell.execute_reply": "2023-05-26T05:47:06.355684Z"
    }
   },
   "outputs": [
    {
     "data": {
      "text/plain": [
       "<FastTreeValue 0x7f25406d7820>\n",
       "├── 'a' --> tensor([[-0.2222,  1.0879, -0.5440],\n",
       "│                   [-0.4766, -1.4393, -0.2423]])\n",
       "└── 'x' --> <FastTreeValue 0x7f25406d7c40>\n",
       "    └── 'c' --> tensor([[-1.0354,  0.5283,  0.9906,  1.1054],\n",
       "                        [ 1.4309,  1.2474, -0.3648, -0.1456],\n",
       "                        [ 1.0511,  0.2885, -1.1168, -1.7835]])"
      ]
     },
     "execution_count": 3,
     "metadata": {},
     "output_type": "execute_result"
    }
   ],
   "source": [
    "t"
   ]
  },
  {
   "cell_type": "code",
   "execution_count": 4,
   "id": "fd70b0b9",
   "metadata": {
    "execution": {
     "iopub.execute_input": "2023-05-26T05:47:06.360326Z",
     "iopub.status.busy": "2023-05-26T05:47:06.359953Z",
     "iopub.status.idle": "2023-05-26T05:47:06.364907Z",
     "shell.execute_reply": "2023-05-26T05:47:06.364216Z"
    }
   },
   "outputs": [
    {
     "data": {
      "text/plain": [
       "tensor([[-0.2222,  1.0879, -0.5440],\n",
       "        [-0.4766, -1.4393, -0.2423]])"
      ]
     },
     "execution_count": 4,
     "metadata": {},
     "output_type": "execute_result"
    }
   ],
   "source": [
    "t.a"
   ]
  },
  {
   "cell_type": "code",
   "execution_count": 5,
   "id": "c18197bd",
   "metadata": {
    "execution": {
     "iopub.execute_input": "2023-05-26T05:47:06.368312Z",
     "iopub.status.busy": "2023-05-26T05:47:06.367945Z",
     "iopub.status.idle": "2023-05-26T05:47:11.737769Z",
     "shell.execute_reply": "2023-05-26T05:47:11.736916Z"
    }
   },
   "outputs": [
    {
     "name": "stdout",
     "output_type": "stream",
     "text": [
      "66.1 ns ± 0.0965 ns per loop (mean ± std. dev. of 7 runs, 10,000,000 loops each)\n"
     ]
    }
   ],
   "source": [
    "%timeit t.a"
   ]
  },
  {
   "cell_type": "code",
   "execution_count": 6,
   "id": "bd52f867",
   "metadata": {
    "execution": {
     "iopub.execute_input": "2023-05-26T05:47:11.741117Z",
     "iopub.status.busy": "2023-05-26T05:47:11.740627Z",
     "iopub.status.idle": "2023-05-26T05:47:11.747106Z",
     "shell.execute_reply": "2023-05-26T05:47:11.746390Z"
    }
   },
   "outputs": [
    {
     "data": {
      "text/plain": [
       "<FastTreeValue 0x7f25406d7820>\n",
       "├── 'a' --> tensor([[-0.1789,  0.9562,  0.4780],\n",
       "│                   [ 0.9567,  1.4572, -1.9092]])\n",
       "└── 'x' --> <FastTreeValue 0x7f25406d7c40>\n",
       "    └── 'c' --> tensor([[-1.0354,  0.5283,  0.9906,  1.1054],\n",
       "                        [ 1.4309,  1.2474, -0.3648, -0.1456],\n",
       "                        [ 1.0511,  0.2885, -1.1168, -1.7835]])"
      ]
     },
     "execution_count": 6,
     "metadata": {},
     "output_type": "execute_result"
    }
   ],
   "source": [
    "new_value = torch.randn(2, 3)\n",
    "t.a = new_value\n",
    "\n",
    "t"
   ]
  },
  {
   "cell_type": "code",
   "execution_count": 7,
   "id": "bbe04d1c",
   "metadata": {
    "execution": {
     "iopub.execute_input": "2023-05-26T05:47:11.749991Z",
     "iopub.status.busy": "2023-05-26T05:47:11.749619Z",
     "iopub.status.idle": "2023-05-26T05:47:17.326394Z",
     "shell.execute_reply": "2023-05-26T05:47:17.325628Z"
    }
   },
   "outputs": [
    {
     "name": "stdout",
     "output_type": "stream",
     "text": [
      "68.7 ns ± 0.0454 ns per loop (mean ± std. dev. of 7 runs, 10,000,000 loops each)\n"
     ]
    }
   ],
   "source": [
    "%timeit t.a = new_value"
   ]
  },
  {
   "cell_type": "markdown",
   "id": "48c49731",
   "metadata": {},
   "source": [
    "### Tianshou Batch's Get and Set"
   ]
  },
  {
   "cell_type": "code",
   "execution_count": 8,
   "id": "f1bb14c1",
   "metadata": {
    "execution": {
     "iopub.execute_input": "2023-05-26T05:47:17.330342Z",
     "iopub.status.busy": "2023-05-26T05:47:17.329688Z",
     "iopub.status.idle": "2023-05-26T05:47:17.694538Z",
     "shell.execute_reply": "2023-05-26T05:47:17.693749Z"
    }
   },
   "outputs": [],
   "source": [
    "from tianshou.data import Batch\n",
    "\n",
    "b = Batch(**_TREE_DATA_2)"
   ]
  },
  {
   "cell_type": "code",
   "execution_count": 9,
   "id": "cb0777c3",
   "metadata": {
    "execution": {
     "iopub.execute_input": "2023-05-26T05:47:17.698622Z",
     "iopub.status.busy": "2023-05-26T05:47:17.698244Z",
     "iopub.status.idle": "2023-05-26T05:47:17.704164Z",
     "shell.execute_reply": "2023-05-26T05:47:17.703423Z"
    }
   },
   "outputs": [
    {
     "data": {
      "text/plain": [
       "Batch(\n",
       "    a: tensor([[-0.2222,  1.0879, -0.5440],\n",
       "               [-0.4766, -1.4393, -0.2423]]),\n",
       "    x: Batch(\n",
       "           c: tensor([[-1.0354,  0.5283,  0.9906,  1.1054],\n",
       "                      [ 1.4309,  1.2474, -0.3648, -0.1456],\n",
       "                      [ 1.0511,  0.2885, -1.1168, -1.7835]]),\n",
       "       ),\n",
       ")"
      ]
     },
     "execution_count": 9,
     "metadata": {},
     "output_type": "execute_result"
    }
   ],
   "source": [
    "b"
   ]
  },
  {
   "cell_type": "code",
   "execution_count": 10,
   "id": "43ef8ea3",
   "metadata": {
    "execution": {
     "iopub.execute_input": "2023-05-26T05:47:17.707390Z",
     "iopub.status.busy": "2023-05-26T05:47:17.706933Z",
     "iopub.status.idle": "2023-05-26T05:47:17.712134Z",
     "shell.execute_reply": "2023-05-26T05:47:17.711441Z"
    }
   },
   "outputs": [
    {
     "data": {
      "text/plain": [
       "tensor([[-0.2222,  1.0879, -0.5440],\n",
       "        [-0.4766, -1.4393, -0.2423]])"
      ]
     },
     "execution_count": 10,
     "metadata": {},
     "output_type": "execute_result"
    }
   ],
   "source": [
    "b.a"
   ]
  },
  {
   "cell_type": "code",
   "execution_count": 11,
   "id": "b785ab72",
   "metadata": {
    "execution": {
     "iopub.execute_input": "2023-05-26T05:47:17.715252Z",
     "iopub.status.busy": "2023-05-26T05:47:17.714880Z",
     "iopub.status.idle": "2023-05-26T05:47:22.400541Z",
     "shell.execute_reply": "2023-05-26T05:47:22.399809Z"
    }
   },
   "outputs": [
    {
     "name": "stdout",
     "output_type": "stream",
     "text": [
      "57.6 ns ± 0.113 ns per loop (mean ± std. dev. of 7 runs, 10,000,000 loops each)\n"
     ]
    }
   ],
   "source": [
    "%timeit b.a"
   ]
  },
  {
   "cell_type": "code",
   "execution_count": 12,
   "id": "ad54dc69",
   "metadata": {
    "execution": {
     "iopub.execute_input": "2023-05-26T05:47:22.404035Z",
     "iopub.status.busy": "2023-05-26T05:47:22.403544Z",
     "iopub.status.idle": "2023-05-26T05:47:22.410773Z",
     "shell.execute_reply": "2023-05-26T05:47:22.410161Z"
    }
   },
   "outputs": [
    {
     "data": {
      "text/plain": [
       "Batch(\n",
       "    a: tensor([[ 0.0782, -1.4078, -0.2223],\n",
       "               [-0.0661,  0.2246,  0.1280]]),\n",
       "    x: Batch(\n",
       "           c: tensor([[-1.0354,  0.5283,  0.9906,  1.1054],\n",
       "                      [ 1.4309,  1.2474, -0.3648, -0.1456],\n",
       "                      [ 1.0511,  0.2885, -1.1168, -1.7835]]),\n",
       "       ),\n",
       ")"
      ]
     },
     "execution_count": 12,
     "metadata": {},
     "output_type": "execute_result"
    }
   ],
   "source": [
    "new_value = torch.randn(2, 3)\n",
    "b.a = new_value\n",
    "\n",
    "b"
   ]
  },
  {
   "cell_type": "code",
   "execution_count": 13,
   "id": "29b1d0bf",
   "metadata": {
    "execution": {
     "iopub.execute_input": "2023-05-26T05:47:22.413960Z",
     "iopub.status.busy": "2023-05-26T05:47:22.413411Z",
     "iopub.status.idle": "2023-05-26T05:47:26.374553Z",
     "shell.execute_reply": "2023-05-26T05:47:26.373796Z"
    }
   },
   "outputs": [
    {
     "name": "stdout",
     "output_type": "stream",
     "text": [
      "488 ns ± 0.106 ns per loop (mean ± std. dev. of 7 runs, 1,000,000 loops each)\n"
     ]
    }
   ],
   "source": [
    "%timeit b.a = new_value"
   ]
  },
  {
   "cell_type": "markdown",
   "id": "b61ad1d0",
   "metadata": {},
   "source": [
    "## Initialization"
   ]
  },
  {
   "cell_type": "markdown",
   "id": "d70f0d54",
   "metadata": {},
   "source": [
    "### TreeValue's Initialization"
   ]
  },
  {
   "cell_type": "code",
   "execution_count": 14,
   "id": "d32a679b",
   "metadata": {
    "execution": {
     "iopub.execute_input": "2023-05-26T05:47:26.378312Z",
     "iopub.status.busy": "2023-05-26T05:47:26.377882Z",
     "iopub.status.idle": "2023-05-26T05:47:33.037771Z",
     "shell.execute_reply": "2023-05-26T05:47:33.037019Z"
    }
   },
   "outputs": [
    {
     "name": "stdout",
     "output_type": "stream",
     "text": [
      "820 ns ± 0.189 ns per loop (mean ± std. dev. of 7 runs, 1,000,000 loops each)\n"
     ]
    }
   ],
   "source": [
    "%timeit FastTreeValue(_TREE_DATA_1)"
   ]
  },
  {
   "cell_type": "markdown",
   "id": "24f3707b",
   "metadata": {},
   "source": [
    "### Tianshou Batch's Initialization"
   ]
  },
  {
   "cell_type": "code",
   "execution_count": 15,
   "id": "ac3958df",
   "metadata": {
    "execution": {
     "iopub.execute_input": "2023-05-26T05:47:33.041434Z",
     "iopub.status.busy": "2023-05-26T05:47:33.040995Z",
     "iopub.status.idle": "2023-05-26T05:47:42.375680Z",
     "shell.execute_reply": "2023-05-26T05:47:42.375031Z"
    }
   },
   "outputs": [
    {
     "name": "stdout",
     "output_type": "stream",
     "text": [
      "11.5 µs ± 35.7 ns per loop (mean ± std. dev. of 7 runs, 100,000 loops each)\n"
     ]
    }
   ],
   "source": [
    "%timeit Batch(**_TREE_DATA_1)"
   ]
  },
  {
   "cell_type": "markdown",
   "id": "1ab82e2d",
   "metadata": {},
   "source": [
    "## Deep Copy Operation"
   ]
  },
  {
   "cell_type": "code",
   "execution_count": 16,
   "id": "210a9442",
   "metadata": {
    "execution": {
     "iopub.execute_input": "2023-05-26T05:47:42.379225Z",
     "iopub.status.busy": "2023-05-26T05:47:42.378592Z",
     "iopub.status.idle": "2023-05-26T05:47:42.381868Z",
     "shell.execute_reply": "2023-05-26T05:47:42.381296Z"
    }
   },
   "outputs": [],
   "source": [
    "import copy"
   ]
  },
  {
   "cell_type": "markdown",
   "id": "5a736274",
   "metadata": {},
   "source": [
    "### Deep Copy of TreeValue"
   ]
  },
  {
   "cell_type": "code",
   "execution_count": 17,
   "id": "f9bcadd6",
   "metadata": {
    "execution": {
     "iopub.execute_input": "2023-05-26T05:47:42.385034Z",
     "iopub.status.busy": "2023-05-26T05:47:42.384662Z",
     "iopub.status.idle": "2023-05-26T05:47:54.004436Z",
     "shell.execute_reply": "2023-05-26T05:47:54.003744Z"
    }
   },
   "outputs": [
    {
     "name": "stdout",
     "output_type": "stream",
     "text": [
      "143 µs ± 1.38 µs per loop (mean ± std. dev. of 7 runs, 10,000 loops each)\n"
     ]
    }
   ],
   "source": [
    "t3 = FastTreeValue(_TREE_DATA_3)\n",
    "%timeit copy.deepcopy(t3)"
   ]
  },
  {
   "cell_type": "markdown",
   "id": "bf8be7ea",
   "metadata": {},
   "source": [
    "### Deep Copy of Tianshou Batch"
   ]
  },
  {
   "cell_type": "code",
   "execution_count": 18,
   "id": "91998e6f",
   "metadata": {
    "execution": {
     "iopub.execute_input": "2023-05-26T05:47:54.007708Z",
     "iopub.status.busy": "2023-05-26T05:47:54.007255Z",
     "iopub.status.idle": "2023-05-26T05:48:05.695112Z",
     "shell.execute_reply": "2023-05-26T05:48:05.694480Z"
    }
   },
   "outputs": [
    {
     "name": "stdout",
     "output_type": "stream",
     "text": [
      "143 µs ± 520 ns per loop (mean ± std. dev. of 7 runs, 10,000 loops each)\n"
     ]
    }
   ],
   "source": [
    "b3 = Batch(**_TREE_DATA_3)\n",
    "%timeit copy.deepcopy(b3)"
   ]
  },
  {
   "cell_type": "markdown",
   "id": "223162fb",
   "metadata": {},
   "source": [
    "## Stack, Concat and Split Operation"
   ]
  },
  {
   "cell_type": "markdown",
   "id": "85fa4a73",
   "metadata": {},
   "source": [
    "### Performance of TreeValue"
   ]
  },
  {
   "cell_type": "code",
   "execution_count": 19,
   "id": "a0c2b697",
   "metadata": {
    "execution": {
     "iopub.execute_input": "2023-05-26T05:48:05.698814Z",
     "iopub.status.busy": "2023-05-26T05:48:05.698312Z",
     "iopub.status.idle": "2023-05-26T05:48:05.701792Z",
     "shell.execute_reply": "2023-05-26T05:48:05.701218Z"
    }
   },
   "outputs": [],
   "source": [
    "trees = [FastTreeValue(_TREE_DATA_2) for _ in range(8)]"
   ]
  },
  {
   "cell_type": "code",
   "execution_count": 20,
   "id": "017ea5a5",
   "metadata": {
    "execution": {
     "iopub.execute_input": "2023-05-26T05:48:05.704747Z",
     "iopub.status.busy": "2023-05-26T05:48:05.704135Z",
     "iopub.status.idle": "2023-05-26T05:48:05.711417Z",
     "shell.execute_reply": "2023-05-26T05:48:05.710873Z"
    }
   },
   "outputs": [
    {
     "data": {
      "text/plain": [
       "<FastTreeValue 0x7f2473a284c0>\n",
       "├── 'a' --> tensor([[[-0.2222,  1.0879, -0.5440],\n",
       "│                    [-0.4766, -1.4393, -0.2423]],\n",
       "│           \n",
       "│                   [[-0.2222,  1.0879, -0.5440],\n",
       "│                    [-0.4766, -1.4393, -0.2423]],\n",
       "│           \n",
       "│                   [[-0.2222,  1.0879, -0.5440],\n",
       "│                    [-0.4766, -1.4393, -0.2423]],\n",
       "│           \n",
       "│                   [[-0.2222,  1.0879, -0.5440],\n",
       "│                    [-0.4766, -1.4393, -0.2423]],\n",
       "│           \n",
       "│                   [[-0.2222,  1.0879, -0.5440],\n",
       "│                    [-0.4766, -1.4393, -0.2423]],\n",
       "│           \n",
       "│                   [[-0.2222,  1.0879, -0.5440],\n",
       "│                    [-0.4766, -1.4393, -0.2423]],\n",
       "│           \n",
       "│                   [[-0.2222,  1.0879, -0.5440],\n",
       "│                    [-0.4766, -1.4393, -0.2423]],\n",
       "│           \n",
       "│                   [[-0.2222,  1.0879, -0.5440],\n",
       "│                    [-0.4766, -1.4393, -0.2423]]])\n",
       "└── 'x' --> <FastTreeValue 0x7f2473a280a0>\n",
       "    └── 'c' --> tensor([[[-1.0354,  0.5283,  0.9906,  1.1054],\n",
       "                         [ 1.4309,  1.2474, -0.3648, -0.1456],\n",
       "                         [ 1.0511,  0.2885, -1.1168, -1.7835]],\n",
       "                \n",
       "                        [[-1.0354,  0.5283,  0.9906,  1.1054],\n",
       "                         [ 1.4309,  1.2474, -0.3648, -0.1456],\n",
       "                         [ 1.0511,  0.2885, -1.1168, -1.7835]],\n",
       "                \n",
       "                        [[-1.0354,  0.5283,  0.9906,  1.1054],\n",
       "                         [ 1.4309,  1.2474, -0.3648, -0.1456],\n",
       "                         [ 1.0511,  0.2885, -1.1168, -1.7835]],\n",
       "                \n",
       "                        [[-1.0354,  0.5283,  0.9906,  1.1054],\n",
       "                         [ 1.4309,  1.2474, -0.3648, -0.1456],\n",
       "                         [ 1.0511,  0.2885, -1.1168, -1.7835]],\n",
       "                \n",
       "                        [[-1.0354,  0.5283,  0.9906,  1.1054],\n",
       "                         [ 1.4309,  1.2474, -0.3648, -0.1456],\n",
       "                         [ 1.0511,  0.2885, -1.1168, -1.7835]],\n",
       "                \n",
       "                        [[-1.0354,  0.5283,  0.9906,  1.1054],\n",
       "                         [ 1.4309,  1.2474, -0.3648, -0.1456],\n",
       "                         [ 1.0511,  0.2885, -1.1168, -1.7835]],\n",
       "                \n",
       "                        [[-1.0354,  0.5283,  0.9906,  1.1054],\n",
       "                         [ 1.4309,  1.2474, -0.3648, -0.1456],\n",
       "                         [ 1.0511,  0.2885, -1.1168, -1.7835]],\n",
       "                \n",
       "                        [[-1.0354,  0.5283,  0.9906,  1.1054],\n",
       "                         [ 1.4309,  1.2474, -0.3648, -0.1456],\n",
       "                         [ 1.0511,  0.2885, -1.1168, -1.7835]]])"
      ]
     },
     "execution_count": 20,
     "metadata": {},
     "output_type": "execute_result"
    }
   ],
   "source": [
    "t_stack = FastTreeValue.func(subside=True)(torch.stack)\n",
    "\n",
    "t_stack(trees)"
   ]
  },
  {
   "cell_type": "code",
   "execution_count": 21,
   "id": "f8b3f415",
   "metadata": {
    "execution": {
     "iopub.execute_input": "2023-05-26T05:48:05.714177Z",
     "iopub.status.busy": "2023-05-26T05:48:05.713734Z",
     "iopub.status.idle": "2023-05-26T05:48:08.370314Z",
     "shell.execute_reply": "2023-05-26T05:48:08.369562Z"
    }
   },
   "outputs": [
    {
     "name": "stdout",
     "output_type": "stream",
     "text": [
      "32.7 µs ± 46.3 ns per loop (mean ± std. dev. of 7 runs, 10,000 loops each)\n"
     ]
    }
   ],
   "source": [
    "%timeit t_stack(trees)"
   ]
  },
  {
   "cell_type": "code",
   "execution_count": 22,
   "id": "94b56771",
   "metadata": {
    "execution": {
     "iopub.execute_input": "2023-05-26T05:48:08.373700Z",
     "iopub.status.busy": "2023-05-26T05:48:08.373195Z",
     "iopub.status.idle": "2023-05-26T05:48:08.380980Z",
     "shell.execute_reply": "2023-05-26T05:48:08.380262Z"
    }
   },
   "outputs": [
    {
     "data": {
      "text/plain": [
       "<FastTreeValue 0x7f2473a287c0>\n",
       "├── 'a' --> tensor([[-0.2222,  1.0879, -0.5440],\n",
       "│                   [-0.4766, -1.4393, -0.2423],\n",
       "│                   [-0.2222,  1.0879, -0.5440],\n",
       "│                   [-0.4766, -1.4393, -0.2423],\n",
       "│                   [-0.2222,  1.0879, -0.5440],\n",
       "│                   [-0.4766, -1.4393, -0.2423],\n",
       "│                   [-0.2222,  1.0879, -0.5440],\n",
       "│                   [-0.4766, -1.4393, -0.2423],\n",
       "│                   [-0.2222,  1.0879, -0.5440],\n",
       "│                   [-0.4766, -1.4393, -0.2423],\n",
       "│                   [-0.2222,  1.0879, -0.5440],\n",
       "│                   [-0.4766, -1.4393, -0.2423],\n",
       "│                   [-0.2222,  1.0879, -0.5440],\n",
       "│                   [-0.4766, -1.4393, -0.2423],\n",
       "│                   [-0.2222,  1.0879, -0.5440],\n",
       "│                   [-0.4766, -1.4393, -0.2423]])\n",
       "└── 'x' --> <FastTreeValue 0x7f2473a28100>\n",
       "    └── 'c' --> tensor([[-1.0354,  0.5283,  0.9906,  1.1054],\n",
       "                        [ 1.4309,  1.2474, -0.3648, -0.1456],\n",
       "                        [ 1.0511,  0.2885, -1.1168, -1.7835],\n",
       "                        [-1.0354,  0.5283,  0.9906,  1.1054],\n",
       "                        [ 1.4309,  1.2474, -0.3648, -0.1456],\n",
       "                        [ 1.0511,  0.2885, -1.1168, -1.7835],\n",
       "                        [-1.0354,  0.5283,  0.9906,  1.1054],\n",
       "                        [ 1.4309,  1.2474, -0.3648, -0.1456],\n",
       "                        [ 1.0511,  0.2885, -1.1168, -1.7835],\n",
       "                        [-1.0354,  0.5283,  0.9906,  1.1054],\n",
       "                        [ 1.4309,  1.2474, -0.3648, -0.1456],\n",
       "                        [ 1.0511,  0.2885, -1.1168, -1.7835],\n",
       "                        [-1.0354,  0.5283,  0.9906,  1.1054],\n",
       "                        [ 1.4309,  1.2474, -0.3648, -0.1456],\n",
       "                        [ 1.0511,  0.2885, -1.1168, -1.7835],\n",
       "                        [-1.0354,  0.5283,  0.9906,  1.1054],\n",
       "                        [ 1.4309,  1.2474, -0.3648, -0.1456],\n",
       "                        [ 1.0511,  0.2885, -1.1168, -1.7835],\n",
       "                        [-1.0354,  0.5283,  0.9906,  1.1054],\n",
       "                        [ 1.4309,  1.2474, -0.3648, -0.1456],\n",
       "                        [ 1.0511,  0.2885, -1.1168, -1.7835],\n",
       "                        [-1.0354,  0.5283,  0.9906,  1.1054],\n",
       "                        [ 1.4309,  1.2474, -0.3648, -0.1456],\n",
       "                        [ 1.0511,  0.2885, -1.1168, -1.7835]])"
      ]
     },
     "execution_count": 22,
     "metadata": {},
     "output_type": "execute_result"
    }
   ],
   "source": [
    "t_cat = FastTreeValue.func(subside=True)(torch.cat)\n",
    "\n",
    "t_cat(trees)"
   ]
  },
  {
   "cell_type": "code",
   "execution_count": 23,
   "id": "5e9c06a6",
   "metadata": {
    "execution": {
     "iopub.execute_input": "2023-05-26T05:48:08.384296Z",
     "iopub.status.busy": "2023-05-26T05:48:08.383753Z",
     "iopub.status.idle": "2023-05-26T05:48:10.843052Z",
     "shell.execute_reply": "2023-05-26T05:48:10.842323Z"
    }
   },
   "outputs": [
    {
     "name": "stdout",
     "output_type": "stream",
     "text": [
      "30.2 µs ± 69.7 ns per loop (mean ± std. dev. of 7 runs, 10,000 loops each)\n"
     ]
    }
   ],
   "source": [
    "%timeit t_cat(trees)"
   ]
  },
  {
   "cell_type": "code",
   "execution_count": 24,
   "id": "a3ab5c8f",
   "metadata": {
    "execution": {
     "iopub.execute_input": "2023-05-26T05:48:10.846621Z",
     "iopub.status.busy": "2023-05-26T05:48:10.845898Z",
     "iopub.status.idle": "2023-05-26T05:48:16.286615Z",
     "shell.execute_reply": "2023-05-26T05:48:16.285884Z"
    }
   },
   "outputs": [
    {
     "name": "stdout",
     "output_type": "stream",
     "text": [
      "66.9 µs ± 96.4 ns per loop (mean ± std. dev. of 7 runs, 10,000 loops each)\n"
     ]
    }
   ],
   "source": [
    "t_split = FastTreeValue.func(rise=True)(torch.split)\n",
    "tree = FastTreeValue({\n",
    "    'obs': torch.randn(8, 4, 84, 84),\n",
    "    'action': torch.randint(0, 6, size=(8, 1,)),\n",
    "    'reward': torch.rand(8, 1),\n",
    "})\n",
    "\n",
    "%timeit t_split(tree, 1)"
   ]
  },
  {
   "cell_type": "markdown",
   "id": "31c3ec0b",
   "metadata": {},
   "source": [
    "### Performance of Tianshou Batch"
   ]
  },
  {
   "cell_type": "code",
   "execution_count": 25,
   "id": "9ead828a",
   "metadata": {
    "execution": {
     "iopub.execute_input": "2023-05-26T05:48:16.290270Z",
     "iopub.status.busy": "2023-05-26T05:48:16.289781Z",
     "iopub.status.idle": "2023-05-26T05:48:16.298106Z",
     "shell.execute_reply": "2023-05-26T05:48:16.297387Z"
    }
   },
   "outputs": [
    {
     "data": {
      "text/plain": [
       "Batch(\n",
       "    x: Batch(\n",
       "           c: tensor([[[-1.0354,  0.5283,  0.9906,  1.1054],\n",
       "                       [ 1.4309,  1.2474, -0.3648, -0.1456],\n",
       "                       [ 1.0511,  0.2885, -1.1168, -1.7835]],\n",
       "              \n",
       "                      [[-1.0354,  0.5283,  0.9906,  1.1054],\n",
       "                       [ 1.4309,  1.2474, -0.3648, -0.1456],\n",
       "                       [ 1.0511,  0.2885, -1.1168, -1.7835]],\n",
       "              \n",
       "                      [[-1.0354,  0.5283,  0.9906,  1.1054],\n",
       "                       [ 1.4309,  1.2474, -0.3648, -0.1456],\n",
       "                       [ 1.0511,  0.2885, -1.1168, -1.7835]],\n",
       "              \n",
       "                      [[-1.0354,  0.5283,  0.9906,  1.1054],\n",
       "                       [ 1.4309,  1.2474, -0.3648, -0.1456],\n",
       "                       [ 1.0511,  0.2885, -1.1168, -1.7835]],\n",
       "              \n",
       "                      [[-1.0354,  0.5283,  0.9906,  1.1054],\n",
       "                       [ 1.4309,  1.2474, -0.3648, -0.1456],\n",
       "                       [ 1.0511,  0.2885, -1.1168, -1.7835]],\n",
       "              \n",
       "                      [[-1.0354,  0.5283,  0.9906,  1.1054],\n",
       "                       [ 1.4309,  1.2474, -0.3648, -0.1456],\n",
       "                       [ 1.0511,  0.2885, -1.1168, -1.7835]],\n",
       "              \n",
       "                      [[-1.0354,  0.5283,  0.9906,  1.1054],\n",
       "                       [ 1.4309,  1.2474, -0.3648, -0.1456],\n",
       "                       [ 1.0511,  0.2885, -1.1168, -1.7835]],\n",
       "              \n",
       "                      [[-1.0354,  0.5283,  0.9906,  1.1054],\n",
       "                       [ 1.4309,  1.2474, -0.3648, -0.1456],\n",
       "                       [ 1.0511,  0.2885, -1.1168, -1.7835]]]),\n",
       "       ),\n",
       "    a: tensor([[[-0.2222,  1.0879, -0.5440],\n",
       "                [-0.4766, -1.4393, -0.2423]],\n",
       "       \n",
       "               [[-0.2222,  1.0879, -0.5440],\n",
       "                [-0.4766, -1.4393, -0.2423]],\n",
       "       \n",
       "               [[-0.2222,  1.0879, -0.5440],\n",
       "                [-0.4766, -1.4393, -0.2423]],\n",
       "       \n",
       "               [[-0.2222,  1.0879, -0.5440],\n",
       "                [-0.4766, -1.4393, -0.2423]],\n",
       "       \n",
       "               [[-0.2222,  1.0879, -0.5440],\n",
       "                [-0.4766, -1.4393, -0.2423]],\n",
       "       \n",
       "               [[-0.2222,  1.0879, -0.5440],\n",
       "                [-0.4766, -1.4393, -0.2423]],\n",
       "       \n",
       "               [[-0.2222,  1.0879, -0.5440],\n",
       "                [-0.4766, -1.4393, -0.2423]],\n",
       "       \n",
       "               [[-0.2222,  1.0879, -0.5440],\n",
       "                [-0.4766, -1.4393, -0.2423]]]),\n",
       ")"
      ]
     },
     "execution_count": 25,
     "metadata": {},
     "output_type": "execute_result"
    }
   ],
   "source": [
    "batches = [Batch(**_TREE_DATA_2) for _ in range(8)]\n",
    "\n",
    "Batch.stack(batches)"
   ]
  },
  {
   "cell_type": "code",
   "execution_count": 26,
   "id": "ec9037a3",
   "metadata": {
    "execution": {
     "iopub.execute_input": "2023-05-26T05:48:16.301222Z",
     "iopub.status.busy": "2023-05-26T05:48:16.300777Z",
     "iopub.status.idle": "2023-05-26T05:48:22.685947Z",
     "shell.execute_reply": "2023-05-26T05:48:22.685165Z"
    }
   },
   "outputs": [
    {
     "name": "stdout",
     "output_type": "stream",
     "text": [
      "78.6 µs ± 205 ns per loop (mean ± std. dev. of 7 runs, 10,000 loops each)\n"
     ]
    }
   ],
   "source": [
    "%timeit Batch.stack(batches)"
   ]
  },
  {
   "cell_type": "code",
   "execution_count": 27,
   "id": "cb8ab77e",
   "metadata": {
    "execution": {
     "iopub.execute_input": "2023-05-26T05:48:22.689386Z",
     "iopub.status.busy": "2023-05-26T05:48:22.688850Z",
     "iopub.status.idle": "2023-05-26T05:48:22.696385Z",
     "shell.execute_reply": "2023-05-26T05:48:22.695670Z"
    }
   },
   "outputs": [
    {
     "data": {
      "text/plain": [
       "Batch(\n",
       "    x: Batch(\n",
       "           c: tensor([[-1.0354,  0.5283,  0.9906,  1.1054],\n",
       "                      [ 1.4309,  1.2474, -0.3648, -0.1456],\n",
       "                      [ 1.0511,  0.2885, -1.1168, -1.7835],\n",
       "                      [-1.0354,  0.5283,  0.9906,  1.1054],\n",
       "                      [ 1.4309,  1.2474, -0.3648, -0.1456],\n",
       "                      [ 1.0511,  0.2885, -1.1168, -1.7835],\n",
       "                      [-1.0354,  0.5283,  0.9906,  1.1054],\n",
       "                      [ 1.4309,  1.2474, -0.3648, -0.1456],\n",
       "                      [ 1.0511,  0.2885, -1.1168, -1.7835],\n",
       "                      [-1.0354,  0.5283,  0.9906,  1.1054],\n",
       "                      [ 1.4309,  1.2474, -0.3648, -0.1456],\n",
       "                      [ 1.0511,  0.2885, -1.1168, -1.7835],\n",
       "                      [-1.0354,  0.5283,  0.9906,  1.1054],\n",
       "                      [ 1.4309,  1.2474, -0.3648, -0.1456],\n",
       "                      [ 1.0511,  0.2885, -1.1168, -1.7835],\n",
       "                      [-1.0354,  0.5283,  0.9906,  1.1054],\n",
       "                      [ 1.4309,  1.2474, -0.3648, -0.1456],\n",
       "                      [ 1.0511,  0.2885, -1.1168, -1.7835],\n",
       "                      [-1.0354,  0.5283,  0.9906,  1.1054],\n",
       "                      [ 1.4309,  1.2474, -0.3648, -0.1456],\n",
       "                      [ 1.0511,  0.2885, -1.1168, -1.7835],\n",
       "                      [-1.0354,  0.5283,  0.9906,  1.1054],\n",
       "                      [ 1.4309,  1.2474, -0.3648, -0.1456],\n",
       "                      [ 1.0511,  0.2885, -1.1168, -1.7835]]),\n",
       "       ),\n",
       "    a: tensor([[-0.2222,  1.0879, -0.5440],\n",
       "               [-0.4766, -1.4393, -0.2423],\n",
       "               [-0.2222,  1.0879, -0.5440],\n",
       "               [-0.4766, -1.4393, -0.2423],\n",
       "               [-0.2222,  1.0879, -0.5440],\n",
       "               [-0.4766, -1.4393, -0.2423],\n",
       "               [-0.2222,  1.0879, -0.5440],\n",
       "               [-0.4766, -1.4393, -0.2423],\n",
       "               [-0.2222,  1.0879, -0.5440],\n",
       "               [-0.4766, -1.4393, -0.2423],\n",
       "               [-0.2222,  1.0879, -0.5440],\n",
       "               [-0.4766, -1.4393, -0.2423],\n",
       "               [-0.2222,  1.0879, -0.5440],\n",
       "               [-0.4766, -1.4393, -0.2423],\n",
       "               [-0.2222,  1.0879, -0.5440],\n",
       "               [-0.4766, -1.4393, -0.2423]]),\n",
       ")"
      ]
     },
     "execution_count": 27,
     "metadata": {},
     "output_type": "execute_result"
    }
   ],
   "source": [
    "Batch.cat(batches)"
   ]
  },
  {
   "cell_type": "code",
   "execution_count": 28,
   "id": "18dfb045",
   "metadata": {
    "execution": {
     "iopub.execute_input": "2023-05-26T05:48:22.699371Z",
     "iopub.status.busy": "2023-05-26T05:48:22.698999Z",
     "iopub.status.idle": "2023-05-26T05:48:34.827003Z",
     "shell.execute_reply": "2023-05-26T05:48:34.826281Z"
    }
   },
   "outputs": [
    {
     "name": "stdout",
     "output_type": "stream",
     "text": [
      "149 µs ± 2.48 µs per loop (mean ± std. dev. of 7 runs, 10,000 loops each)\n"
     ]
    }
   ],
   "source": [
    "%timeit Batch.cat(batches)"
   ]
  },
  {
   "cell_type": "code",
   "execution_count": 29,
   "id": "c6688e51",
   "metadata": {
    "execution": {
     "iopub.execute_input": "2023-05-26T05:48:34.830482Z",
     "iopub.status.busy": "2023-05-26T05:48:34.829960Z",
     "iopub.status.idle": "2023-05-26T05:48:37.678786Z",
     "shell.execute_reply": "2023-05-26T05:48:37.677820Z"
    }
   },
   "outputs": [
    {
     "name": "stdout",
     "output_type": "stream",
     "text": [
      "350 µs ± 3.44 µs per loop (mean ± std. dev. of 7 runs, 1,000 loops each)\n"
     ]
    }
   ],
   "source": [
    "batch = Batch({\n",
    "    'obs': torch.randn(8, 4, 84, 84),\n",
    "    'action': torch.randint(0, 6, size=(8, 1,)),\n",
    "    'reward': torch.rand(8, 1)}\n",
    ")\n",
    "\n",
    "%timeit list(Batch.split(batch, 1, shuffle=False, merge_last=True))"
   ]
  },
  {
   "cell_type": "code",
   "execution_count": null,
   "id": "2539fbd9",
   "metadata": {},
   "outputs": [],
   "source": []
  }
 ],
 "metadata": {
  "kernelspec": {
   "display_name": "Python 3 (ipykernel)",
   "language": "python",
   "name": "python3"
  },
  "language_info": {
   "codemirror_mode": {
    "name": "ipython",
    "version": 3
   },
   "file_extension": ".py",
   "mimetype": "text/x-python",
   "name": "python",
   "nbconvert_exporter": "python",
   "pygments_lexer": "ipython3",
   "version": "3.8.16"
  }
 },
 "nbformat": 4,
 "nbformat_minor": 5
}
