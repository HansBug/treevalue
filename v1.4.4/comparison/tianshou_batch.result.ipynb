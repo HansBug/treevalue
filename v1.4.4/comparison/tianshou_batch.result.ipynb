{
 "cells": [
  {
   "cell_type": "markdown",
   "id": "9d39d946",
   "metadata": {},
   "source": [
    "# Comparison Between TreeValue and Tianshou Batch"
   ]
  },
  {
   "cell_type": "markdown",
   "id": "3c6db2d4",
   "metadata": {},
   "source": [
    "In this section, we will take a look at the feature and performance of the [Tianshou Batch](https://github.com/thu-ml/tianshou) library, which is developed by Tsinghua Machine Learning Group."
   ]
  },
  {
   "cell_type": "markdown",
   "id": "069361b0",
   "metadata": {},
   "source": [
    "Before starting the comparison, let us define some thing."
   ]
  },
  {
   "cell_type": "code",
   "execution_count": 1,
   "id": "06fc8d26",
   "metadata": {
    "execution": {
     "iopub.execute_input": "2023-02-27T11:05:50.526665Z",
     "iopub.status.busy": "2023-02-27T11:05:50.526277Z",
     "iopub.status.idle": "2023-02-27T11:05:51.419310Z",
     "shell.execute_reply": "2023-02-27T11:05:51.418176Z"
    }
   },
   "outputs": [
    {
     "name": "stderr",
     "output_type": "stream",
     "text": [
      "/opt/hostedtoolcache/Python/3.8.16/x64/lib/python3.8/site-packages/tqdm/auto.py:22: TqdmWarning: IProgress not found. Please update jupyter and ipywidgets. See https://ipywidgets.readthedocs.io/en/stable/user_install.html\n",
      "  from .autonotebook import tqdm as notebook_tqdm\n"
     ]
    }
   ],
   "source": [
    "import torch \n",
    "\n",
    "_TREE_DATA_1 = {'a': 1, 'b': 2, 'x': {'c': 3, 'd': 4}}\n",
    "_TREE_DATA_2 = {\n",
    "    'a': torch.randn(2, 3), \n",
    "    'x': {\n",
    "        'c': torch.randn(3, 4)\n",
    "    },\n",
    "}\n",
    "_TREE_DATA_3 = {\n",
    "    'obs': torch.randn(4, 84, 84),\n",
    "    'action': torch.randint(0, 6, size=(1,)),\n",
    "    'reward': torch.rand(1),\n",
    "}"
   ]
  },
  {
   "cell_type": "markdown",
   "id": "83461b25",
   "metadata": {},
   "source": [
    "## Read and Write Operation"
   ]
  },
  {
   "cell_type": "markdown",
   "id": "067b3f73",
   "metadata": {},
   "source": [
    "Reading and writing are the two most common operations in the tree data structure based on the data model (TreeValue and Tianshou Batch both belong to this type), so this section will compare the reading and writing performance of these two libraries."
   ]
  },
  {
   "cell_type": "markdown",
   "id": "5d09a5b7",
   "metadata": {},
   "source": [
    "### TreeValue's Get and Set"
   ]
  },
  {
   "cell_type": "code",
   "execution_count": 2,
   "id": "9519c4bb",
   "metadata": {
    "execution": {
     "iopub.execute_input": "2023-02-27T11:05:51.422656Z",
     "iopub.status.busy": "2023-02-27T11:05:51.422265Z",
     "iopub.status.idle": "2023-02-27T11:05:51.454684Z",
     "shell.execute_reply": "2023-02-27T11:05:51.454096Z"
    }
   },
   "outputs": [],
   "source": [
    "from treevalue import FastTreeValue\n",
    "\n",
    "t = FastTreeValue(_TREE_DATA_2)"
   ]
  },
  {
   "cell_type": "code",
   "execution_count": 3,
   "id": "11c37677",
   "metadata": {
    "execution": {
     "iopub.execute_input": "2023-02-27T11:05:51.457588Z",
     "iopub.status.busy": "2023-02-27T11:05:51.457074Z",
     "iopub.status.idle": "2023-02-27T11:05:51.469165Z",
     "shell.execute_reply": "2023-02-27T11:05:51.468553Z"
    }
   },
   "outputs": [
    {
     "data": {
      "text/plain": [
       "<FastTreeValue 0x7fa068139d60>\n",
       "├── 'a' --> tensor([[-0.1981,  1.5641, -1.2432],\n",
       "│                   [-0.9128,  1.3244,  0.2030]])\n",
       "└── 'x' --> <FastTreeValue 0x7fa068139df0>\n",
       "    └── 'c' --> tensor([[-0.0952, -0.4260, -0.0629, -0.9232],\n",
       "                        [-1.0206,  0.2144,  1.0818, -1.4281],\n",
       "                        [-1.5229,  1.0045, -0.6346, -0.7571]])"
      ]
     },
     "execution_count": 3,
     "metadata": {},
     "output_type": "execute_result"
    }
   ],
   "source": [
    "t"
   ]
  },
  {
   "cell_type": "code",
   "execution_count": 4,
   "id": "fd70b0b9",
   "metadata": {
    "execution": {
     "iopub.execute_input": "2023-02-27T11:05:51.471959Z",
     "iopub.status.busy": "2023-02-27T11:05:51.471628Z",
     "iopub.status.idle": "2023-02-27T11:05:51.476689Z",
     "shell.execute_reply": "2023-02-27T11:05:51.476045Z"
    }
   },
   "outputs": [
    {
     "data": {
      "text/plain": [
       "tensor([[-0.1981,  1.5641, -1.2432],\n",
       "        [-0.9128,  1.3244,  0.2030]])"
      ]
     },
     "execution_count": 4,
     "metadata": {},
     "output_type": "execute_result"
    }
   ],
   "source": [
    "t.a"
   ]
  },
  {
   "cell_type": "code",
   "execution_count": 5,
   "id": "c18197bd",
   "metadata": {
    "execution": {
     "iopub.execute_input": "2023-02-27T11:05:51.479520Z",
     "iopub.status.busy": "2023-02-27T11:05:51.479054Z",
     "iopub.status.idle": "2023-02-27T11:05:56.522112Z",
     "shell.execute_reply": "2023-02-27T11:05:56.521370Z"
    }
   },
   "outputs": [
    {
     "name": "stdout",
     "output_type": "stream",
     "text": [
      "62.5 ns ± 0.0125 ns per loop (mean ± std. dev. of 7 runs, 10,000,000 loops each)\n"
     ]
    }
   ],
   "source": [
    "%timeit t.a"
   ]
  },
  {
   "cell_type": "code",
   "execution_count": 6,
   "id": "bd52f867",
   "metadata": {
    "execution": {
     "iopub.execute_input": "2023-02-27T11:05:56.525570Z",
     "iopub.status.busy": "2023-02-27T11:05:56.524908Z",
     "iopub.status.idle": "2023-02-27T11:05:56.530931Z",
     "shell.execute_reply": "2023-02-27T11:05:56.530323Z"
    }
   },
   "outputs": [
    {
     "data": {
      "text/plain": [
       "<FastTreeValue 0x7fa068139d60>\n",
       "├── 'a' --> tensor([[ 0.4176,  0.5906, -0.8900],\n",
       "│                   [ 2.1340, -0.8521, -0.0562]])\n",
       "└── 'x' --> <FastTreeValue 0x7fa068139df0>\n",
       "    └── 'c' --> tensor([[-0.0952, -0.4260, -0.0629, -0.9232],\n",
       "                        [-1.0206,  0.2144,  1.0818, -1.4281],\n",
       "                        [-1.5229,  1.0045, -0.6346, -0.7571]])"
      ]
     },
     "execution_count": 6,
     "metadata": {},
     "output_type": "execute_result"
    }
   ],
   "source": [
    "new_value = torch.randn(2, 3)\n",
    "t.a = new_value\n",
    "\n",
    "t"
   ]
  },
  {
   "cell_type": "code",
   "execution_count": 7,
   "id": "bbe04d1c",
   "metadata": {
    "execution": {
     "iopub.execute_input": "2023-02-27T11:05:56.533709Z",
     "iopub.status.busy": "2023-02-27T11:05:56.533081Z",
     "iopub.status.idle": "2023-02-27T11:06:01.535079Z",
     "shell.execute_reply": "2023-02-27T11:06:01.534337Z"
    }
   },
   "outputs": [
    {
     "name": "stdout",
     "output_type": "stream",
     "text": [
      "62 ns ± 0.0343 ns per loop (mean ± std. dev. of 7 runs, 10,000,000 loops each)\n"
     ]
    }
   ],
   "source": [
    "%timeit t.a = new_value"
   ]
  },
  {
   "cell_type": "markdown",
   "id": "48c49731",
   "metadata": {},
   "source": [
    "### Tianshou Batch's Get and Set"
   ]
  },
  {
   "cell_type": "code",
   "execution_count": 8,
   "id": "f1bb14c1",
   "metadata": {
    "execution": {
     "iopub.execute_input": "2023-02-27T11:06:01.538318Z",
     "iopub.status.busy": "2023-02-27T11:06:01.537861Z",
     "iopub.status.idle": "2023-02-27T11:06:01.858851Z",
     "shell.execute_reply": "2023-02-27T11:06:01.858201Z"
    }
   },
   "outputs": [],
   "source": [
    "from tianshou.data import Batch\n",
    "\n",
    "b = Batch(**_TREE_DATA_2)"
   ]
  },
  {
   "cell_type": "code",
   "execution_count": 9,
   "id": "cb0777c3",
   "metadata": {
    "execution": {
     "iopub.execute_input": "2023-02-27T11:06:01.862202Z",
     "iopub.status.busy": "2023-02-27T11:06:01.861680Z",
     "iopub.status.idle": "2023-02-27T11:06:01.866999Z",
     "shell.execute_reply": "2023-02-27T11:06:01.866379Z"
    }
   },
   "outputs": [
    {
     "data": {
      "text/plain": [
       "Batch(\n",
       "    a: tensor([[-0.1981,  1.5641, -1.2432],\n",
       "               [-0.9128,  1.3244,  0.2030]]),\n",
       "    x: Batch(\n",
       "           c: tensor([[-0.0952, -0.4260, -0.0629, -0.9232],\n",
       "                      [-1.0206,  0.2144,  1.0818, -1.4281],\n",
       "                      [-1.5229,  1.0045, -0.6346, -0.7571]]),\n",
       "       ),\n",
       ")"
      ]
     },
     "execution_count": 9,
     "metadata": {},
     "output_type": "execute_result"
    }
   ],
   "source": [
    "b"
   ]
  },
  {
   "cell_type": "code",
   "execution_count": 10,
   "id": "43ef8ea3",
   "metadata": {
    "execution": {
     "iopub.execute_input": "2023-02-27T11:06:01.869493Z",
     "iopub.status.busy": "2023-02-27T11:06:01.869143Z",
     "iopub.status.idle": "2023-02-27T11:06:01.874467Z",
     "shell.execute_reply": "2023-02-27T11:06:01.873889Z"
    }
   },
   "outputs": [
    {
     "data": {
      "text/plain": [
       "tensor([[-0.1981,  1.5641, -1.2432],\n",
       "        [-0.9128,  1.3244,  0.2030]])"
      ]
     },
     "execution_count": 10,
     "metadata": {},
     "output_type": "execute_result"
    }
   ],
   "source": [
    "b.a"
   ]
  },
  {
   "cell_type": "code",
   "execution_count": 11,
   "id": "b785ab72",
   "metadata": {
    "execution": {
     "iopub.execute_input": "2023-02-27T11:06:01.876992Z",
     "iopub.status.busy": "2023-02-27T11:06:01.876506Z",
     "iopub.status.idle": "2023-02-27T11:06:06.390998Z",
     "shell.execute_reply": "2023-02-27T11:06:06.390285Z"
    }
   },
   "outputs": [
    {
     "name": "stdout",
     "output_type": "stream",
     "text": [
      "55.5 ns ± 0.0624 ns per loop (mean ± std. dev. of 7 runs, 10,000,000 loops each)\n"
     ]
    }
   ],
   "source": [
    "%timeit b.a"
   ]
  },
  {
   "cell_type": "code",
   "execution_count": 12,
   "id": "ad54dc69",
   "metadata": {
    "execution": {
     "iopub.execute_input": "2023-02-27T11:06:06.394251Z",
     "iopub.status.busy": "2023-02-27T11:06:06.393741Z",
     "iopub.status.idle": "2023-02-27T11:06:06.399570Z",
     "shell.execute_reply": "2023-02-27T11:06:06.398957Z"
    }
   },
   "outputs": [
    {
     "data": {
      "text/plain": [
       "Batch(\n",
       "    a: tensor([[-0.9916,  1.2574,  1.4500],\n",
       "               [-0.0970, -0.5021, -0.5272]]),\n",
       "    x: Batch(\n",
       "           c: tensor([[-0.0952, -0.4260, -0.0629, -0.9232],\n",
       "                      [-1.0206,  0.2144,  1.0818, -1.4281],\n",
       "                      [-1.5229,  1.0045, -0.6346, -0.7571]]),\n",
       "       ),\n",
       ")"
      ]
     },
     "execution_count": 12,
     "metadata": {},
     "output_type": "execute_result"
    }
   ],
   "source": [
    "new_value = torch.randn(2, 3)\n",
    "b.a = new_value\n",
    "\n",
    "b"
   ]
  },
  {
   "cell_type": "code",
   "execution_count": 13,
   "id": "29b1d0bf",
   "metadata": {
    "execution": {
     "iopub.execute_input": "2023-02-27T11:06:06.402083Z",
     "iopub.status.busy": "2023-02-27T11:06:06.401744Z",
     "iopub.status.idle": "2023-02-27T11:06:10.346564Z",
     "shell.execute_reply": "2023-02-27T11:06:10.345846Z"
    }
   },
   "outputs": [
    {
     "name": "stdout",
     "output_type": "stream",
     "text": [
      "486 ns ± 0.218 ns per loop (mean ± std. dev. of 7 runs, 1,000,000 loops each)\n"
     ]
    }
   ],
   "source": [
    "%timeit b.a = new_value"
   ]
  },
  {
   "cell_type": "markdown",
   "id": "b61ad1d0",
   "metadata": {},
   "source": [
    "## Initialization"
   ]
  },
  {
   "cell_type": "markdown",
   "id": "d70f0d54",
   "metadata": {},
   "source": [
    "### TreeValue's Initialization"
   ]
  },
  {
   "cell_type": "code",
   "execution_count": 14,
   "id": "d32a679b",
   "metadata": {
    "execution": {
     "iopub.execute_input": "2023-02-27T11:06:10.349977Z",
     "iopub.status.busy": "2023-02-27T11:06:10.349456Z",
     "iopub.status.idle": "2023-02-27T11:06:17.460132Z",
     "shell.execute_reply": "2023-02-27T11:06:17.459354Z"
    }
   },
   "outputs": [
    {
     "name": "stdout",
     "output_type": "stream",
     "text": [
      "874 ns ± 6.36 ns per loop (mean ± std. dev. of 7 runs, 1,000,000 loops each)\n"
     ]
    }
   ],
   "source": [
    "%timeit FastTreeValue(_TREE_DATA_1)"
   ]
  },
  {
   "cell_type": "markdown",
   "id": "24f3707b",
   "metadata": {},
   "source": [
    "### Tianshou Batch's Initialization"
   ]
  },
  {
   "cell_type": "code",
   "execution_count": 15,
   "id": "ac3958df",
   "metadata": {
    "execution": {
     "iopub.execute_input": "2023-02-27T11:06:17.463235Z",
     "iopub.status.busy": "2023-02-27T11:06:17.462881Z",
     "iopub.status.idle": "2023-02-27T11:06:26.728141Z",
     "shell.execute_reply": "2023-02-27T11:06:26.727380Z"
    }
   },
   "outputs": [
    {
     "name": "stdout",
     "output_type": "stream",
     "text": [
      "11.4 µs ± 15.9 ns per loop (mean ± std. dev. of 7 runs, 100,000 loops each)\n"
     ]
    }
   ],
   "source": [
    "%timeit Batch(**_TREE_DATA_1)"
   ]
  },
  {
   "cell_type": "markdown",
   "id": "1ab82e2d",
   "metadata": {},
   "source": [
    "## Deep Copy Operation"
   ]
  },
  {
   "cell_type": "code",
   "execution_count": 16,
   "id": "210a9442",
   "metadata": {
    "execution": {
     "iopub.execute_input": "2023-02-27T11:06:26.731110Z",
     "iopub.status.busy": "2023-02-27T11:06:26.730654Z",
     "iopub.status.idle": "2023-02-27T11:06:26.734619Z",
     "shell.execute_reply": "2023-02-27T11:06:26.734039Z"
    }
   },
   "outputs": [],
   "source": [
    "import copy"
   ]
  },
  {
   "cell_type": "markdown",
   "id": "5a736274",
   "metadata": {},
   "source": [
    "### Deep Copy of TreeValue"
   ]
  },
  {
   "cell_type": "code",
   "execution_count": 17,
   "id": "f9bcadd6",
   "metadata": {
    "execution": {
     "iopub.execute_input": "2023-02-27T11:06:26.737144Z",
     "iopub.status.busy": "2023-02-27T11:06:26.736818Z",
     "iopub.status.idle": "2023-02-27T11:06:37.789078Z",
     "shell.execute_reply": "2023-02-27T11:06:37.788420Z"
    }
   },
   "outputs": [
    {
     "name": "stdout",
     "output_type": "stream",
     "text": [
      "136 µs ± 619 ns per loop (mean ± std. dev. of 7 runs, 10,000 loops each)\n"
     ]
    }
   ],
   "source": [
    "t3 = FastTreeValue(_TREE_DATA_3)\n",
    "%timeit copy.deepcopy(t3)"
   ]
  },
  {
   "cell_type": "markdown",
   "id": "bf8be7ea",
   "metadata": {},
   "source": [
    "### Deep Copy of Tianshou Batch"
   ]
  },
  {
   "cell_type": "code",
   "execution_count": 18,
   "id": "91998e6f",
   "metadata": {
    "execution": {
     "iopub.execute_input": "2023-02-27T11:06:37.792381Z",
     "iopub.status.busy": "2023-02-27T11:06:37.792136Z",
     "iopub.status.idle": "2023-02-27T11:06:49.044242Z",
     "shell.execute_reply": "2023-02-27T11:06:49.043661Z"
    }
   },
   "outputs": [
    {
     "name": "stdout",
     "output_type": "stream",
     "text": [
      "139 µs ± 183 ns per loop (mean ± std. dev. of 7 runs, 10,000 loops each)\n"
     ]
    }
   ],
   "source": [
    "b3 = Batch(**_TREE_DATA_3)\n",
    "%timeit copy.deepcopy(b3)"
   ]
  },
  {
   "cell_type": "markdown",
   "id": "223162fb",
   "metadata": {},
   "source": [
    "## Stack, Concat and Split Operation"
   ]
  },
  {
   "cell_type": "markdown",
   "id": "85fa4a73",
   "metadata": {},
   "source": [
    "### Performance of TreeValue"
   ]
  },
  {
   "cell_type": "code",
   "execution_count": 19,
   "id": "a0c2b697",
   "metadata": {
    "execution": {
     "iopub.execute_input": "2023-02-27T11:06:49.047275Z",
     "iopub.status.busy": "2023-02-27T11:06:49.047019Z",
     "iopub.status.idle": "2023-02-27T11:06:49.050988Z",
     "shell.execute_reply": "2023-02-27T11:06:49.050390Z"
    }
   },
   "outputs": [],
   "source": [
    "trees = [FastTreeValue(_TREE_DATA_2) for _ in range(8)]"
   ]
  },
  {
   "cell_type": "code",
   "execution_count": 20,
   "id": "017ea5a5",
   "metadata": {
    "execution": {
     "iopub.execute_input": "2023-02-27T11:06:49.053796Z",
     "iopub.status.busy": "2023-02-27T11:06:49.053565Z",
     "iopub.status.idle": "2023-02-27T11:06:49.061942Z",
     "shell.execute_reply": "2023-02-27T11:06:49.061361Z"
    }
   },
   "outputs": [
    {
     "data": {
      "text/plain": [
       "<FastTreeValue 0x7f9fbcdbc0a0>\n",
       "├── 'a' --> tensor([[[-0.1981,  1.5641, -1.2432],\n",
       "│                    [-0.9128,  1.3244,  0.2030]],\n",
       "│           \n",
       "│                   [[-0.1981,  1.5641, -1.2432],\n",
       "│                    [-0.9128,  1.3244,  0.2030]],\n",
       "│           \n",
       "│                   [[-0.1981,  1.5641, -1.2432],\n",
       "│                    [-0.9128,  1.3244,  0.2030]],\n",
       "│           \n",
       "│                   [[-0.1981,  1.5641, -1.2432],\n",
       "│                    [-0.9128,  1.3244,  0.2030]],\n",
       "│           \n",
       "│                   [[-0.1981,  1.5641, -1.2432],\n",
       "│                    [-0.9128,  1.3244,  0.2030]],\n",
       "│           \n",
       "│                   [[-0.1981,  1.5641, -1.2432],\n",
       "│                    [-0.9128,  1.3244,  0.2030]],\n",
       "│           \n",
       "│                   [[-0.1981,  1.5641, -1.2432],\n",
       "│                    [-0.9128,  1.3244,  0.2030]],\n",
       "│           \n",
       "│                   [[-0.1981,  1.5641, -1.2432],\n",
       "│                    [-0.9128,  1.3244,  0.2030]]])\n",
       "└── 'x' --> <FastTreeValue 0x7f9fbcd9d160>\n",
       "    └── 'c' --> tensor([[[-0.0952, -0.4260, -0.0629, -0.9232],\n",
       "                         [-1.0206,  0.2144,  1.0818, -1.4281],\n",
       "                         [-1.5229,  1.0045, -0.6346, -0.7571]],\n",
       "                \n",
       "                        [[-0.0952, -0.4260, -0.0629, -0.9232],\n",
       "                         [-1.0206,  0.2144,  1.0818, -1.4281],\n",
       "                         [-1.5229,  1.0045, -0.6346, -0.7571]],\n",
       "                \n",
       "                        [[-0.0952, -0.4260, -0.0629, -0.9232],\n",
       "                         [-1.0206,  0.2144,  1.0818, -1.4281],\n",
       "                         [-1.5229,  1.0045, -0.6346, -0.7571]],\n",
       "                \n",
       "                        [[-0.0952, -0.4260, -0.0629, -0.9232],\n",
       "                         [-1.0206,  0.2144,  1.0818, -1.4281],\n",
       "                         [-1.5229,  1.0045, -0.6346, -0.7571]],\n",
       "                \n",
       "                        [[-0.0952, -0.4260, -0.0629, -0.9232],\n",
       "                         [-1.0206,  0.2144,  1.0818, -1.4281],\n",
       "                         [-1.5229,  1.0045, -0.6346, -0.7571]],\n",
       "                \n",
       "                        [[-0.0952, -0.4260, -0.0629, -0.9232],\n",
       "                         [-1.0206,  0.2144,  1.0818, -1.4281],\n",
       "                         [-1.5229,  1.0045, -0.6346, -0.7571]],\n",
       "                \n",
       "                        [[-0.0952, -0.4260, -0.0629, -0.9232],\n",
       "                         [-1.0206,  0.2144,  1.0818, -1.4281],\n",
       "                         [-1.5229,  1.0045, -0.6346, -0.7571]],\n",
       "                \n",
       "                        [[-0.0952, -0.4260, -0.0629, -0.9232],\n",
       "                         [-1.0206,  0.2144,  1.0818, -1.4281],\n",
       "                         [-1.5229,  1.0045, -0.6346, -0.7571]]])"
      ]
     },
     "execution_count": 20,
     "metadata": {},
     "output_type": "execute_result"
    }
   ],
   "source": [
    "t_stack = FastTreeValue.func(subside=True)(torch.stack)\n",
    "\n",
    "t_stack(trees)"
   ]
  },
  {
   "cell_type": "code",
   "execution_count": 21,
   "id": "f8b3f415",
   "metadata": {
    "execution": {
     "iopub.execute_input": "2023-02-27T11:06:49.064886Z",
     "iopub.status.busy": "2023-02-27T11:06:49.064437Z",
     "iopub.status.idle": "2023-02-27T11:06:51.733272Z",
     "shell.execute_reply": "2023-02-27T11:06:51.732298Z"
    }
   },
   "outputs": [
    {
     "name": "stdout",
     "output_type": "stream",
     "text": [
      "32.8 µs ± 352 ns per loop (mean ± std. dev. of 7 runs, 10,000 loops each)\n"
     ]
    }
   ],
   "source": [
    "%timeit t_stack(trees)"
   ]
  },
  {
   "cell_type": "code",
   "execution_count": 22,
   "id": "94b56771",
   "metadata": {
    "execution": {
     "iopub.execute_input": "2023-02-27T11:06:51.736021Z",
     "iopub.status.busy": "2023-02-27T11:06:51.735643Z",
     "iopub.status.idle": "2023-02-27T11:06:51.743462Z",
     "shell.execute_reply": "2023-02-27T11:06:51.742878Z"
    }
   },
   "outputs": [
    {
     "data": {
      "text/plain": [
       "<FastTreeValue 0x7fa0680d8460>\n",
       "├── 'a' --> tensor([[-0.1981,  1.5641, -1.2432],\n",
       "│                   [-0.9128,  1.3244,  0.2030],\n",
       "│                   [-0.1981,  1.5641, -1.2432],\n",
       "│                   [-0.9128,  1.3244,  0.2030],\n",
       "│                   [-0.1981,  1.5641, -1.2432],\n",
       "│                   [-0.9128,  1.3244,  0.2030],\n",
       "│                   [-0.1981,  1.5641, -1.2432],\n",
       "│                   [-0.9128,  1.3244,  0.2030],\n",
       "│                   [-0.1981,  1.5641, -1.2432],\n",
       "│                   [-0.9128,  1.3244,  0.2030],\n",
       "│                   [-0.1981,  1.5641, -1.2432],\n",
       "│                   [-0.9128,  1.3244,  0.2030],\n",
       "│                   [-0.1981,  1.5641, -1.2432],\n",
       "│                   [-0.9128,  1.3244,  0.2030],\n",
       "│                   [-0.1981,  1.5641, -1.2432],\n",
       "│                   [-0.9128,  1.3244,  0.2030]])\n",
       "└── 'x' --> <FastTreeValue 0x7fa0680d8910>\n",
       "    └── 'c' --> tensor([[-0.0952, -0.4260, -0.0629, -0.9232],\n",
       "                        [-1.0206,  0.2144,  1.0818, -1.4281],\n",
       "                        [-1.5229,  1.0045, -0.6346, -0.7571],\n",
       "                        [-0.0952, -0.4260, -0.0629, -0.9232],\n",
       "                        [-1.0206,  0.2144,  1.0818, -1.4281],\n",
       "                        [-1.5229,  1.0045, -0.6346, -0.7571],\n",
       "                        [-0.0952, -0.4260, -0.0629, -0.9232],\n",
       "                        [-1.0206,  0.2144,  1.0818, -1.4281],\n",
       "                        [-1.5229,  1.0045, -0.6346, -0.7571],\n",
       "                        [-0.0952, -0.4260, -0.0629, -0.9232],\n",
       "                        [-1.0206,  0.2144,  1.0818, -1.4281],\n",
       "                        [-1.5229,  1.0045, -0.6346, -0.7571],\n",
       "                        [-0.0952, -0.4260, -0.0629, -0.9232],\n",
       "                        [-1.0206,  0.2144,  1.0818, -1.4281],\n",
       "                        [-1.5229,  1.0045, -0.6346, -0.7571],\n",
       "                        [-0.0952, -0.4260, -0.0629, -0.9232],\n",
       "                        [-1.0206,  0.2144,  1.0818, -1.4281],\n",
       "                        [-1.5229,  1.0045, -0.6346, -0.7571],\n",
       "                        [-0.0952, -0.4260, -0.0629, -0.9232],\n",
       "                        [-1.0206,  0.2144,  1.0818, -1.4281],\n",
       "                        [-1.5229,  1.0045, -0.6346, -0.7571],\n",
       "                        [-0.0952, -0.4260, -0.0629, -0.9232],\n",
       "                        [-1.0206,  0.2144,  1.0818, -1.4281],\n",
       "                        [-1.5229,  1.0045, -0.6346, -0.7571]])"
      ]
     },
     "execution_count": 22,
     "metadata": {},
     "output_type": "execute_result"
    }
   ],
   "source": [
    "t_cat = FastTreeValue.func(subside=True)(torch.cat)\n",
    "\n",
    "t_cat(trees)"
   ]
  },
  {
   "cell_type": "code",
   "execution_count": 23,
   "id": "5e9c06a6",
   "metadata": {
    "execution": {
     "iopub.execute_input": "2023-02-27T11:06:51.745945Z",
     "iopub.status.busy": "2023-02-27T11:06:51.745628Z",
     "iopub.status.idle": "2023-02-27T11:06:54.198044Z",
     "shell.execute_reply": "2023-02-27T11:06:54.197322Z"
    }
   },
   "outputs": [
    {
     "name": "stdout",
     "output_type": "stream",
     "text": [
      "30.1 µs ± 153 ns per loop (mean ± std. dev. of 7 runs, 10,000 loops each)\n"
     ]
    }
   ],
   "source": [
    "%timeit t_cat(trees)"
   ]
  },
  {
   "cell_type": "code",
   "execution_count": 24,
   "id": "a3ab5c8f",
   "metadata": {
    "execution": {
     "iopub.execute_input": "2023-02-27T11:06:54.201360Z",
     "iopub.status.busy": "2023-02-27T11:06:54.200747Z",
     "iopub.status.idle": "2023-02-27T11:06:58.790657Z",
     "shell.execute_reply": "2023-02-27T11:06:58.789928Z"
    }
   },
   "outputs": [
    {
     "name": "stdout",
     "output_type": "stream",
     "text": [
      "56.5 µs ± 54.9 ns per loop (mean ± std. dev. of 7 runs, 10,000 loops each)\n"
     ]
    }
   ],
   "source": [
    "t_split = FastTreeValue.func(rise=True)(torch.split)\n",
    "tree = FastTreeValue({\n",
    "    'obs': torch.randn(8, 4, 84, 84),\n",
    "    'action': torch.randint(0, 6, size=(8, 1,)),\n",
    "    'reward': torch.rand(8, 1),\n",
    "})\n",
    "\n",
    "%timeit t_split(tree, 1)"
   ]
  },
  {
   "cell_type": "markdown",
   "id": "31c3ec0b",
   "metadata": {},
   "source": [
    "### Performance of Tianshou Batch"
   ]
  },
  {
   "cell_type": "code",
   "execution_count": 25,
   "id": "9ead828a",
   "metadata": {
    "execution": {
     "iopub.execute_input": "2023-02-27T11:06:58.793829Z",
     "iopub.status.busy": "2023-02-27T11:06:58.793473Z",
     "iopub.status.idle": "2023-02-27T11:06:58.802301Z",
     "shell.execute_reply": "2023-02-27T11:06:58.801720Z"
    }
   },
   "outputs": [
    {
     "data": {
      "text/plain": [
       "Batch(\n",
       "    a: tensor([[[-0.1981,  1.5641, -1.2432],\n",
       "                [-0.9128,  1.3244,  0.2030]],\n",
       "       \n",
       "               [[-0.1981,  1.5641, -1.2432],\n",
       "                [-0.9128,  1.3244,  0.2030]],\n",
       "       \n",
       "               [[-0.1981,  1.5641, -1.2432],\n",
       "                [-0.9128,  1.3244,  0.2030]],\n",
       "       \n",
       "               [[-0.1981,  1.5641, -1.2432],\n",
       "                [-0.9128,  1.3244,  0.2030]],\n",
       "       \n",
       "               [[-0.1981,  1.5641, -1.2432],\n",
       "                [-0.9128,  1.3244,  0.2030]],\n",
       "       \n",
       "               [[-0.1981,  1.5641, -1.2432],\n",
       "                [-0.9128,  1.3244,  0.2030]],\n",
       "       \n",
       "               [[-0.1981,  1.5641, -1.2432],\n",
       "                [-0.9128,  1.3244,  0.2030]],\n",
       "       \n",
       "               [[-0.1981,  1.5641, -1.2432],\n",
       "                [-0.9128,  1.3244,  0.2030]]]),\n",
       "    x: Batch(\n",
       "           c: tensor([[[-0.0952, -0.4260, -0.0629, -0.9232],\n",
       "                       [-1.0206,  0.2144,  1.0818, -1.4281],\n",
       "                       [-1.5229,  1.0045, -0.6346, -0.7571]],\n",
       "              \n",
       "                      [[-0.0952, -0.4260, -0.0629, -0.9232],\n",
       "                       [-1.0206,  0.2144,  1.0818, -1.4281],\n",
       "                       [-1.5229,  1.0045, -0.6346, -0.7571]],\n",
       "              \n",
       "                      [[-0.0952, -0.4260, -0.0629, -0.9232],\n",
       "                       [-1.0206,  0.2144,  1.0818, -1.4281],\n",
       "                       [-1.5229,  1.0045, -0.6346, -0.7571]],\n",
       "              \n",
       "                      [[-0.0952, -0.4260, -0.0629, -0.9232],\n",
       "                       [-1.0206,  0.2144,  1.0818, -1.4281],\n",
       "                       [-1.5229,  1.0045, -0.6346, -0.7571]],\n",
       "              \n",
       "                      [[-0.0952, -0.4260, -0.0629, -0.9232],\n",
       "                       [-1.0206,  0.2144,  1.0818, -1.4281],\n",
       "                       [-1.5229,  1.0045, -0.6346, -0.7571]],\n",
       "              \n",
       "                      [[-0.0952, -0.4260, -0.0629, -0.9232],\n",
       "                       [-1.0206,  0.2144,  1.0818, -1.4281],\n",
       "                       [-1.5229,  1.0045, -0.6346, -0.7571]],\n",
       "              \n",
       "                      [[-0.0952, -0.4260, -0.0629, -0.9232],\n",
       "                       [-1.0206,  0.2144,  1.0818, -1.4281],\n",
       "                       [-1.5229,  1.0045, -0.6346, -0.7571]],\n",
       "              \n",
       "                      [[-0.0952, -0.4260, -0.0629, -0.9232],\n",
       "                       [-1.0206,  0.2144,  1.0818, -1.4281],\n",
       "                       [-1.5229,  1.0045, -0.6346, -0.7571]]]),\n",
       "       ),\n",
       ")"
      ]
     },
     "execution_count": 25,
     "metadata": {},
     "output_type": "execute_result"
    }
   ],
   "source": [
    "batches = [Batch(**_TREE_DATA_2) for _ in range(8)]\n",
    "\n",
    "Batch.stack(batches)"
   ]
  },
  {
   "cell_type": "code",
   "execution_count": 26,
   "id": "ec9037a3",
   "metadata": {
    "execution": {
     "iopub.execute_input": "2023-02-27T11:06:58.804954Z",
     "iopub.status.busy": "2023-02-27T11:06:58.804628Z",
     "iopub.status.idle": "2023-02-27T11:07:05.195636Z",
     "shell.execute_reply": "2023-02-27T11:07:05.194960Z"
    }
   },
   "outputs": [
    {
     "name": "stdout",
     "output_type": "stream",
     "text": [
      "78.7 µs ± 131 ns per loop (mean ± std. dev. of 7 runs, 10,000 loops each)\n"
     ]
    }
   ],
   "source": [
    "%timeit Batch.stack(batches)"
   ]
  },
  {
   "cell_type": "code",
   "execution_count": 27,
   "id": "cb8ab77e",
   "metadata": {
    "execution": {
     "iopub.execute_input": "2023-02-27T11:07:05.198601Z",
     "iopub.status.busy": "2023-02-27T11:07:05.198049Z",
     "iopub.status.idle": "2023-02-27T11:07:05.205563Z",
     "shell.execute_reply": "2023-02-27T11:07:05.204977Z"
    }
   },
   "outputs": [
    {
     "data": {
      "text/plain": [
       "Batch(\n",
       "    a: tensor([[-0.1981,  1.5641, -1.2432],\n",
       "               [-0.9128,  1.3244,  0.2030],\n",
       "               [-0.1981,  1.5641, -1.2432],\n",
       "               [-0.9128,  1.3244,  0.2030],\n",
       "               [-0.1981,  1.5641, -1.2432],\n",
       "               [-0.9128,  1.3244,  0.2030],\n",
       "               [-0.1981,  1.5641, -1.2432],\n",
       "               [-0.9128,  1.3244,  0.2030],\n",
       "               [-0.1981,  1.5641, -1.2432],\n",
       "               [-0.9128,  1.3244,  0.2030],\n",
       "               [-0.1981,  1.5641, -1.2432],\n",
       "               [-0.9128,  1.3244,  0.2030],\n",
       "               [-0.1981,  1.5641, -1.2432],\n",
       "               [-0.9128,  1.3244,  0.2030],\n",
       "               [-0.1981,  1.5641, -1.2432],\n",
       "               [-0.9128,  1.3244,  0.2030]]),\n",
       "    x: Batch(\n",
       "           c: tensor([[-0.0952, -0.4260, -0.0629, -0.9232],\n",
       "                      [-1.0206,  0.2144,  1.0818, -1.4281],\n",
       "                      [-1.5229,  1.0045, -0.6346, -0.7571],\n",
       "                      [-0.0952, -0.4260, -0.0629, -0.9232],\n",
       "                      [-1.0206,  0.2144,  1.0818, -1.4281],\n",
       "                      [-1.5229,  1.0045, -0.6346, -0.7571],\n",
       "                      [-0.0952, -0.4260, -0.0629, -0.9232],\n",
       "                      [-1.0206,  0.2144,  1.0818, -1.4281],\n",
       "                      [-1.5229,  1.0045, -0.6346, -0.7571],\n",
       "                      [-0.0952, -0.4260, -0.0629, -0.9232],\n",
       "                      [-1.0206,  0.2144,  1.0818, -1.4281],\n",
       "                      [-1.5229,  1.0045, -0.6346, -0.7571],\n",
       "                      [-0.0952, -0.4260, -0.0629, -0.9232],\n",
       "                      [-1.0206,  0.2144,  1.0818, -1.4281],\n",
       "                      [-1.5229,  1.0045, -0.6346, -0.7571],\n",
       "                      [-0.0952, -0.4260, -0.0629, -0.9232],\n",
       "                      [-1.0206,  0.2144,  1.0818, -1.4281],\n",
       "                      [-1.5229,  1.0045, -0.6346, -0.7571],\n",
       "                      [-0.0952, -0.4260, -0.0629, -0.9232],\n",
       "                      [-1.0206,  0.2144,  1.0818, -1.4281],\n",
       "                      [-1.5229,  1.0045, -0.6346, -0.7571],\n",
       "                      [-0.0952, -0.4260, -0.0629, -0.9232],\n",
       "                      [-1.0206,  0.2144,  1.0818, -1.4281],\n",
       "                      [-1.5229,  1.0045, -0.6346, -0.7571]]),\n",
       "       ),\n",
       ")"
      ]
     },
     "execution_count": 27,
     "metadata": {},
     "output_type": "execute_result"
    }
   ],
   "source": [
    "Batch.cat(batches)"
   ]
  },
  {
   "cell_type": "code",
   "execution_count": 28,
   "id": "18dfb045",
   "metadata": {
    "execution": {
     "iopub.execute_input": "2023-02-27T11:07:05.207954Z",
     "iopub.status.busy": "2023-02-27T11:07:05.207609Z",
     "iopub.status.idle": "2023-02-27T11:07:16.767939Z",
     "shell.execute_reply": "2023-02-27T11:07:16.767202Z"
    }
   },
   "outputs": [
    {
     "name": "stdout",
     "output_type": "stream",
     "text": [
      "142 µs ± 330 ns per loop (mean ± std. dev. of 7 runs, 10,000 loops each)\n"
     ]
    }
   ],
   "source": [
    "%timeit Batch.cat(batches)"
   ]
  },
  {
   "cell_type": "code",
   "execution_count": 29,
   "id": "c6688e51",
   "metadata": {
    "execution": {
     "iopub.execute_input": "2023-02-27T11:07:16.770727Z",
     "iopub.status.busy": "2023-02-27T11:07:16.770364Z",
     "iopub.status.idle": "2023-02-27T11:07:19.305514Z",
     "shell.execute_reply": "2023-02-27T11:07:19.304945Z"
    }
   },
   "outputs": [
    {
     "name": "stdout",
     "output_type": "stream",
     "text": [
      "311 µs ± 308 ns per loop (mean ± std. dev. of 7 runs, 1,000 loops each)\n"
     ]
    }
   ],
   "source": [
    "batch = Batch({\n",
    "    'obs': torch.randn(8, 4, 84, 84),\n",
    "    'action': torch.randint(0, 6, size=(8, 1,)),\n",
    "    'reward': torch.rand(8, 1)}\n",
    ")\n",
    "\n",
    "%timeit list(Batch.split(batch, 1, shuffle=False, merge_last=True))"
   ]
  },
  {
   "cell_type": "code",
   "execution_count": null,
   "id": "2539fbd9",
   "metadata": {},
   "outputs": [],
   "source": []
  }
 ],
 "metadata": {
  "kernelspec": {
   "display_name": "Python 3 (ipykernel)",
   "language": "python",
   "name": "python3"
  },
  "language_info": {
   "codemirror_mode": {
    "name": "ipython",
    "version": 3
   },
   "file_extension": ".py",
   "mimetype": "text/x-python",
   "name": "python",
   "nbconvert_exporter": "python",
   "pygments_lexer": "ipython3",
   "version": "3.8.16"
  }
 },
 "nbformat": 4,
 "nbformat_minor": 5
}
