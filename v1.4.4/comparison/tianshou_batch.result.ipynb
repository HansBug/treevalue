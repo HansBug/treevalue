{
 "cells": [
  {
   "cell_type": "markdown",
   "id": "9d39d946",
   "metadata": {},
   "source": [
    "# Comparison Between TreeValue and Tianshou Batch"
   ]
  },
  {
   "cell_type": "markdown",
   "id": "3c6db2d4",
   "metadata": {},
   "source": [
    "In this section, we will take a look at the feature and performance of the [Tianshou Batch](https://github.com/thu-ml/tianshou) library, which is developed by Tsinghua Machine Learning Group."
   ]
  },
  {
   "cell_type": "markdown",
   "id": "069361b0",
   "metadata": {},
   "source": [
    "Before starting the comparison, let us define some thing."
   ]
  },
  {
   "cell_type": "code",
   "execution_count": 1,
   "id": "06fc8d26",
   "metadata": {
    "execution": {
     "iopub.execute_input": "2023-02-27T11:19:08.234440Z",
     "iopub.status.busy": "2023-02-27T11:19:08.233945Z",
     "iopub.status.idle": "2023-02-27T11:19:09.420932Z",
     "shell.execute_reply": "2023-02-27T11:19:09.419883Z"
    }
   },
   "outputs": [
    {
     "name": "stderr",
     "output_type": "stream",
     "text": [
      "/opt/hostedtoolcache/Python/3.8.16/x64/lib/python3.8/site-packages/tqdm/auto.py:22: TqdmWarning: IProgress not found. Please update jupyter and ipywidgets. See https://ipywidgets.readthedocs.io/en/stable/user_install.html\n",
      "  from .autonotebook import tqdm as notebook_tqdm\n"
     ]
    }
   ],
   "source": [
    "import torch \n",
    "\n",
    "_TREE_DATA_1 = {'a': 1, 'b': 2, 'x': {'c': 3, 'd': 4}}\n",
    "_TREE_DATA_2 = {\n",
    "    'a': torch.randn(2, 3), \n",
    "    'x': {\n",
    "        'c': torch.randn(3, 4)\n",
    "    },\n",
    "}\n",
    "_TREE_DATA_3 = {\n",
    "    'obs': torch.randn(4, 84, 84),\n",
    "    'action': torch.randint(0, 6, size=(1,)),\n",
    "    'reward': torch.rand(1),\n",
    "}"
   ]
  },
  {
   "cell_type": "markdown",
   "id": "83461b25",
   "metadata": {},
   "source": [
    "## Read and Write Operation"
   ]
  },
  {
   "cell_type": "markdown",
   "id": "067b3f73",
   "metadata": {},
   "source": [
    "Reading and writing are the two most common operations in the tree data structure based on the data model (TreeValue and Tianshou Batch both belong to this type), so this section will compare the reading and writing performance of these two libraries."
   ]
  },
  {
   "cell_type": "markdown",
   "id": "5d09a5b7",
   "metadata": {},
   "source": [
    "### TreeValue's Get and Set"
   ]
  },
  {
   "cell_type": "code",
   "execution_count": 2,
   "id": "9519c4bb",
   "metadata": {
    "execution": {
     "iopub.execute_input": "2023-02-27T11:19:09.426163Z",
     "iopub.status.busy": "2023-02-27T11:19:09.425324Z",
     "iopub.status.idle": "2023-02-27T11:19:09.468253Z",
     "shell.execute_reply": "2023-02-27T11:19:09.467538Z"
    }
   },
   "outputs": [],
   "source": [
    "from treevalue import FastTreeValue\n",
    "\n",
    "t = FastTreeValue(_TREE_DATA_2)"
   ]
  },
  {
   "cell_type": "code",
   "execution_count": 3,
   "id": "11c37677",
   "metadata": {
    "execution": {
     "iopub.execute_input": "2023-02-27T11:19:09.471480Z",
     "iopub.status.busy": "2023-02-27T11:19:09.471126Z",
     "iopub.status.idle": "2023-02-27T11:19:09.486239Z",
     "shell.execute_reply": "2023-02-27T11:19:09.485227Z"
    }
   },
   "outputs": [
    {
     "data": {
      "text/plain": [
       "<FastTreeValue 0x7fc58c19a430>\n",
       "├── 'a' --> tensor([[ 1.0058,  0.4760, -0.0354],\n",
       "│                   [ 0.6147,  1.4466, -0.1422]])\n",
       "└── 'x' --> <FastTreeValue 0x7fc58c19aaf0>\n",
       "    └── 'c' --> tensor([[-0.5109,  0.0742, -0.8903, -0.1564],\n",
       "                        [-0.9847, -0.6569, -0.1467,  1.2373],\n",
       "                        [ 0.1478, -0.4505,  0.1463,  0.1611]])"
      ]
     },
     "execution_count": 3,
     "metadata": {},
     "output_type": "execute_result"
    }
   ],
   "source": [
    "t"
   ]
  },
  {
   "cell_type": "code",
   "execution_count": 4,
   "id": "fd70b0b9",
   "metadata": {
    "execution": {
     "iopub.execute_input": "2023-02-27T11:19:09.489816Z",
     "iopub.status.busy": "2023-02-27T11:19:09.489235Z",
     "iopub.status.idle": "2023-02-27T11:19:09.496351Z",
     "shell.execute_reply": "2023-02-27T11:19:09.495663Z"
    }
   },
   "outputs": [
    {
     "data": {
      "text/plain": [
       "tensor([[ 1.0058,  0.4760, -0.0354],\n",
       "        [ 0.6147,  1.4466, -0.1422]])"
      ]
     },
     "execution_count": 4,
     "metadata": {},
     "output_type": "execute_result"
    }
   ],
   "source": [
    "t.a"
   ]
  },
  {
   "cell_type": "code",
   "execution_count": 5,
   "id": "c18197bd",
   "metadata": {
    "execution": {
     "iopub.execute_input": "2023-02-27T11:19:09.499845Z",
     "iopub.status.busy": "2023-02-27T11:19:09.499218Z",
     "iopub.status.idle": "2023-02-27T11:19:15.763655Z",
     "shell.execute_reply": "2023-02-27T11:19:15.762363Z"
    }
   },
   "outputs": [
    {
     "name": "stdout",
     "output_type": "stream",
     "text": [
      "76.6 ns ± 0.175 ns per loop (mean ± std. dev. of 7 runs, 10,000,000 loops each)\n"
     ]
    }
   ],
   "source": [
    "%timeit t.a"
   ]
  },
  {
   "cell_type": "code",
   "execution_count": 6,
   "id": "bd52f867",
   "metadata": {
    "execution": {
     "iopub.execute_input": "2023-02-27T11:19:15.767603Z",
     "iopub.status.busy": "2023-02-27T11:19:15.766937Z",
     "iopub.status.idle": "2023-02-27T11:19:15.775011Z",
     "shell.execute_reply": "2023-02-27T11:19:15.774261Z"
    }
   },
   "outputs": [
    {
     "data": {
      "text/plain": [
       "<FastTreeValue 0x7fc58c19a430>\n",
       "├── 'a' --> tensor([[ 0.4152,  1.7778,  0.4929],\n",
       "│                   [ 0.3384, -1.1128,  0.2333]])\n",
       "└── 'x' --> <FastTreeValue 0x7fc58c19aaf0>\n",
       "    └── 'c' --> tensor([[-0.5109,  0.0742, -0.8903, -0.1564],\n",
       "                        [-0.9847, -0.6569, -0.1467,  1.2373],\n",
       "                        [ 0.1478, -0.4505,  0.1463,  0.1611]])"
      ]
     },
     "execution_count": 6,
     "metadata": {},
     "output_type": "execute_result"
    }
   ],
   "source": [
    "new_value = torch.randn(2, 3)\n",
    "t.a = new_value\n",
    "\n",
    "t"
   ]
  },
  {
   "cell_type": "code",
   "execution_count": 7,
   "id": "bbe04d1c",
   "metadata": {
    "execution": {
     "iopub.execute_input": "2023-02-27T11:19:15.777969Z",
     "iopub.status.busy": "2023-02-27T11:19:15.777685Z",
     "iopub.status.idle": "2023-02-27T11:19:22.133890Z",
     "shell.execute_reply": "2023-02-27T11:19:22.132863Z"
    }
   },
   "outputs": [
    {
     "name": "stdout",
     "output_type": "stream",
     "text": [
      "78.3 ns ± 0.455 ns per loop (mean ± std. dev. of 7 runs, 10,000,000 loops each)\n"
     ]
    }
   ],
   "source": [
    "%timeit t.a = new_value"
   ]
  },
  {
   "cell_type": "markdown",
   "id": "48c49731",
   "metadata": {},
   "source": [
    "### Tianshou Batch's Get and Set"
   ]
  },
  {
   "cell_type": "code",
   "execution_count": 8,
   "id": "f1bb14c1",
   "metadata": {
    "execution": {
     "iopub.execute_input": "2023-02-27T11:19:22.138317Z",
     "iopub.status.busy": "2023-02-27T11:19:22.137837Z",
     "iopub.status.idle": "2023-02-27T11:19:22.555358Z",
     "shell.execute_reply": "2023-02-27T11:19:22.554355Z"
    }
   },
   "outputs": [],
   "source": [
    "from tianshou.data import Batch\n",
    "\n",
    "b = Batch(**_TREE_DATA_2)"
   ]
  },
  {
   "cell_type": "code",
   "execution_count": 9,
   "id": "cb0777c3",
   "metadata": {
    "execution": {
     "iopub.execute_input": "2023-02-27T11:19:22.559970Z",
     "iopub.status.busy": "2023-02-27T11:19:22.559351Z",
     "iopub.status.idle": "2023-02-27T11:19:22.569290Z",
     "shell.execute_reply": "2023-02-27T11:19:22.568584Z"
    }
   },
   "outputs": [
    {
     "data": {
      "text/plain": [
       "Batch(\n",
       "    a: tensor([[ 1.0058,  0.4760, -0.0354],\n",
       "               [ 0.6147,  1.4466, -0.1422]]),\n",
       "    x: Batch(\n",
       "           c: tensor([[-0.5109,  0.0742, -0.8903, -0.1564],\n",
       "                      [-0.9847, -0.6569, -0.1467,  1.2373],\n",
       "                      [ 0.1478, -0.4505,  0.1463,  0.1611]]),\n",
       "       ),\n",
       ")"
      ]
     },
     "execution_count": 9,
     "metadata": {},
     "output_type": "execute_result"
    }
   ],
   "source": [
    "b"
   ]
  },
  {
   "cell_type": "code",
   "execution_count": 10,
   "id": "43ef8ea3",
   "metadata": {
    "execution": {
     "iopub.execute_input": "2023-02-27T11:19:22.572782Z",
     "iopub.status.busy": "2023-02-27T11:19:22.572157Z",
     "iopub.status.idle": "2023-02-27T11:19:22.579024Z",
     "shell.execute_reply": "2023-02-27T11:19:22.578320Z"
    }
   },
   "outputs": [
    {
     "data": {
      "text/plain": [
       "tensor([[ 1.0058,  0.4760, -0.0354],\n",
       "        [ 0.6147,  1.4466, -0.1422]])"
      ]
     },
     "execution_count": 10,
     "metadata": {},
     "output_type": "execute_result"
    }
   ],
   "source": [
    "b.a"
   ]
  },
  {
   "cell_type": "code",
   "execution_count": 11,
   "id": "b785ab72",
   "metadata": {
    "execution": {
     "iopub.execute_input": "2023-02-27T11:19:22.582616Z",
     "iopub.status.busy": "2023-02-27T11:19:22.581975Z",
     "iopub.status.idle": "2023-02-27T11:19:28.305144Z",
     "shell.execute_reply": "2023-02-27T11:19:28.303698Z"
    }
   },
   "outputs": [
    {
     "name": "stdout",
     "output_type": "stream",
     "text": [
      "70.3 ns ± 0.302 ns per loop (mean ± std. dev. of 7 runs, 10,000,000 loops each)\n"
     ]
    }
   ],
   "source": [
    "%timeit b.a"
   ]
  },
  {
   "cell_type": "code",
   "execution_count": 12,
   "id": "ad54dc69",
   "metadata": {
    "execution": {
     "iopub.execute_input": "2023-02-27T11:19:28.309970Z",
     "iopub.status.busy": "2023-02-27T11:19:28.309438Z",
     "iopub.status.idle": "2023-02-27T11:19:28.316616Z",
     "shell.execute_reply": "2023-02-27T11:19:28.315710Z"
    }
   },
   "outputs": [
    {
     "data": {
      "text/plain": [
       "Batch(\n",
       "    a: tensor([[ 0.4985,  0.0311,  2.0596],\n",
       "               [ 0.6472,  0.5762, -1.0893]]),\n",
       "    x: Batch(\n",
       "           c: tensor([[-0.5109,  0.0742, -0.8903, -0.1564],\n",
       "                      [-0.9847, -0.6569, -0.1467,  1.2373],\n",
       "                      [ 0.1478, -0.4505,  0.1463,  0.1611]]),\n",
       "       ),\n",
       ")"
      ]
     },
     "execution_count": 12,
     "metadata": {},
     "output_type": "execute_result"
    }
   ],
   "source": [
    "new_value = torch.randn(2, 3)\n",
    "b.a = new_value\n",
    "\n",
    "b"
   ]
  },
  {
   "cell_type": "code",
   "execution_count": 13,
   "id": "29b1d0bf",
   "metadata": {
    "execution": {
     "iopub.execute_input": "2023-02-27T11:19:28.320026Z",
     "iopub.status.busy": "2023-02-27T11:19:28.319467Z",
     "iopub.status.idle": "2023-02-27T11:19:33.208960Z",
     "shell.execute_reply": "2023-02-27T11:19:33.207745Z"
    }
   },
   "outputs": [
    {
     "name": "stdout",
     "output_type": "stream",
     "text": [
      "601 ns ± 2.32 ns per loop (mean ± std. dev. of 7 runs, 1,000,000 loops each)\n"
     ]
    }
   ],
   "source": [
    "%timeit b.a = new_value"
   ]
  },
  {
   "cell_type": "markdown",
   "id": "b61ad1d0",
   "metadata": {},
   "source": [
    "## Initialization"
   ]
  },
  {
   "cell_type": "markdown",
   "id": "d70f0d54",
   "metadata": {},
   "source": [
    "### TreeValue's Initialization"
   ]
  },
  {
   "cell_type": "code",
   "execution_count": 14,
   "id": "d32a679b",
   "metadata": {
    "execution": {
     "iopub.execute_input": "2023-02-27T11:19:33.212956Z",
     "iopub.status.busy": "2023-02-27T11:19:33.212480Z",
     "iopub.status.idle": "2023-02-27T11:19:41.199254Z",
     "shell.execute_reply": "2023-02-27T11:19:41.197963Z"
    }
   },
   "outputs": [
    {
     "name": "stdout",
     "output_type": "stream",
     "text": [
      "982 ns ± 2.86 ns per loop (mean ± std. dev. of 7 runs, 1,000,000 loops each)\n"
     ]
    }
   ],
   "source": [
    "%timeit FastTreeValue(_TREE_DATA_1)"
   ]
  },
  {
   "cell_type": "markdown",
   "id": "24f3707b",
   "metadata": {},
   "source": [
    "### Tianshou Batch's Initialization"
   ]
  },
  {
   "cell_type": "code",
   "execution_count": 15,
   "id": "ac3958df",
   "metadata": {
    "execution": {
     "iopub.execute_input": "2023-02-27T11:19:41.203289Z",
     "iopub.status.busy": "2023-02-27T11:19:41.202591Z",
     "iopub.status.idle": "2023-02-27T11:19:50.902882Z",
     "shell.execute_reply": "2023-02-27T11:19:50.901904Z"
    }
   },
   "outputs": [
    {
     "name": "stdout",
     "output_type": "stream",
     "text": [
      "11.9 µs ± 84.7 ns per loop (mean ± std. dev. of 7 runs, 100,000 loops each)\n"
     ]
    }
   ],
   "source": [
    "%timeit Batch(**_TREE_DATA_1)"
   ]
  },
  {
   "cell_type": "markdown",
   "id": "1ab82e2d",
   "metadata": {},
   "source": [
    "## Deep Copy Operation"
   ]
  },
  {
   "cell_type": "code",
   "execution_count": 16,
   "id": "210a9442",
   "metadata": {
    "execution": {
     "iopub.execute_input": "2023-02-27T11:19:50.907092Z",
     "iopub.status.busy": "2023-02-27T11:19:50.906397Z",
     "iopub.status.idle": "2023-02-27T11:19:50.911348Z",
     "shell.execute_reply": "2023-02-27T11:19:50.910568Z"
    }
   },
   "outputs": [],
   "source": [
    "import copy"
   ]
  },
  {
   "cell_type": "markdown",
   "id": "5a736274",
   "metadata": {},
   "source": [
    "### Deep Copy of TreeValue"
   ]
  },
  {
   "cell_type": "code",
   "execution_count": 17,
   "id": "f9bcadd6",
   "metadata": {
    "execution": {
     "iopub.execute_input": "2023-02-27T11:19:50.914629Z",
     "iopub.status.busy": "2023-02-27T11:19:50.914228Z",
     "iopub.status.idle": "2023-02-27T11:20:04.541755Z",
     "shell.execute_reply": "2023-02-27T11:20:04.541021Z"
    }
   },
   "outputs": [
    {
     "name": "stdout",
     "output_type": "stream",
     "text": [
      "168 µs ± 924 ns per loop (mean ± std. dev. of 7 runs, 10,000 loops each)\n"
     ]
    }
   ],
   "source": [
    "t3 = FastTreeValue(_TREE_DATA_3)\n",
    "%timeit copy.deepcopy(t3)"
   ]
  },
  {
   "cell_type": "markdown",
   "id": "bf8be7ea",
   "metadata": {},
   "source": [
    "### Deep Copy of Tianshou Batch"
   ]
  },
  {
   "cell_type": "code",
   "execution_count": 18,
   "id": "91998e6f",
   "metadata": {
    "execution": {
     "iopub.execute_input": "2023-02-27T11:20:04.545290Z",
     "iopub.status.busy": "2023-02-27T11:20:04.544770Z",
     "iopub.status.idle": "2023-02-27T11:20:18.039967Z",
     "shell.execute_reply": "2023-02-27T11:20:18.039289Z"
    }
   },
   "outputs": [
    {
     "name": "stdout",
     "output_type": "stream",
     "text": [
      "166 µs ± 2.31 µs per loop (mean ± std. dev. of 7 runs, 10,000 loops each)\n"
     ]
    }
   ],
   "source": [
    "b3 = Batch(**_TREE_DATA_3)\n",
    "%timeit copy.deepcopy(b3)"
   ]
  },
  {
   "cell_type": "markdown",
   "id": "223162fb",
   "metadata": {},
   "source": [
    "## Stack, Concat and Split Operation"
   ]
  },
  {
   "cell_type": "markdown",
   "id": "85fa4a73",
   "metadata": {},
   "source": [
    "### Performance of TreeValue"
   ]
  },
  {
   "cell_type": "code",
   "execution_count": 19,
   "id": "a0c2b697",
   "metadata": {
    "execution": {
     "iopub.execute_input": "2023-02-27T11:20:18.043647Z",
     "iopub.status.busy": "2023-02-27T11:20:18.043122Z",
     "iopub.status.idle": "2023-02-27T11:20:18.046891Z",
     "shell.execute_reply": "2023-02-27T11:20:18.046242Z"
    }
   },
   "outputs": [],
   "source": [
    "trees = [FastTreeValue(_TREE_DATA_2) for _ in range(8)]"
   ]
  },
  {
   "cell_type": "code",
   "execution_count": 20,
   "id": "017ea5a5",
   "metadata": {
    "execution": {
     "iopub.execute_input": "2023-02-27T11:20:18.049955Z",
     "iopub.status.busy": "2023-02-27T11:20:18.049463Z",
     "iopub.status.idle": "2023-02-27T11:20:18.057490Z",
     "shell.execute_reply": "2023-02-27T11:20:18.056852Z"
    }
   },
   "outputs": [
    {
     "data": {
      "text/plain": [
       "<FastTreeValue 0x7fc4dee510d0>\n",
       "├── 'a' --> tensor([[[ 1.0058,  0.4760, -0.0354],\n",
       "│                    [ 0.6147,  1.4466, -0.1422]],\n",
       "│           \n",
       "│                   [[ 1.0058,  0.4760, -0.0354],\n",
       "│                    [ 0.6147,  1.4466, -0.1422]],\n",
       "│           \n",
       "│                   [[ 1.0058,  0.4760, -0.0354],\n",
       "│                    [ 0.6147,  1.4466, -0.1422]],\n",
       "│           \n",
       "│                   [[ 1.0058,  0.4760, -0.0354],\n",
       "│                    [ 0.6147,  1.4466, -0.1422]],\n",
       "│           \n",
       "│                   [[ 1.0058,  0.4760, -0.0354],\n",
       "│                    [ 0.6147,  1.4466, -0.1422]],\n",
       "│           \n",
       "│                   [[ 1.0058,  0.4760, -0.0354],\n",
       "│                    [ 0.6147,  1.4466, -0.1422]],\n",
       "│           \n",
       "│                   [[ 1.0058,  0.4760, -0.0354],\n",
       "│                    [ 0.6147,  1.4466, -0.1422]],\n",
       "│           \n",
       "│                   [[ 1.0058,  0.4760, -0.0354],\n",
       "│                    [ 0.6147,  1.4466, -0.1422]]])\n",
       "└── 'x' --> <FastTreeValue 0x7fc4dee51af0>\n",
       "    └── 'c' --> tensor([[[-0.5109,  0.0742, -0.8903, -0.1564],\n",
       "                         [-0.9847, -0.6569, -0.1467,  1.2373],\n",
       "                         [ 0.1478, -0.4505,  0.1463,  0.1611]],\n",
       "                \n",
       "                        [[-0.5109,  0.0742, -0.8903, -0.1564],\n",
       "                         [-0.9847, -0.6569, -0.1467,  1.2373],\n",
       "                         [ 0.1478, -0.4505,  0.1463,  0.1611]],\n",
       "                \n",
       "                        [[-0.5109,  0.0742, -0.8903, -0.1564],\n",
       "                         [-0.9847, -0.6569, -0.1467,  1.2373],\n",
       "                         [ 0.1478, -0.4505,  0.1463,  0.1611]],\n",
       "                \n",
       "                        [[-0.5109,  0.0742, -0.8903, -0.1564],\n",
       "                         [-0.9847, -0.6569, -0.1467,  1.2373],\n",
       "                         [ 0.1478, -0.4505,  0.1463,  0.1611]],\n",
       "                \n",
       "                        [[-0.5109,  0.0742, -0.8903, -0.1564],\n",
       "                         [-0.9847, -0.6569, -0.1467,  1.2373],\n",
       "                         [ 0.1478, -0.4505,  0.1463,  0.1611]],\n",
       "                \n",
       "                        [[-0.5109,  0.0742, -0.8903, -0.1564],\n",
       "                         [-0.9847, -0.6569, -0.1467,  1.2373],\n",
       "                         [ 0.1478, -0.4505,  0.1463,  0.1611]],\n",
       "                \n",
       "                        [[-0.5109,  0.0742, -0.8903, -0.1564],\n",
       "                         [-0.9847, -0.6569, -0.1467,  1.2373],\n",
       "                         [ 0.1478, -0.4505,  0.1463,  0.1611]],\n",
       "                \n",
       "                        [[-0.5109,  0.0742, -0.8903, -0.1564],\n",
       "                         [-0.9847, -0.6569, -0.1467,  1.2373],\n",
       "                         [ 0.1478, -0.4505,  0.1463,  0.1611]]])"
      ]
     },
     "execution_count": 20,
     "metadata": {},
     "output_type": "execute_result"
    }
   ],
   "source": [
    "t_stack = FastTreeValue.func(subside=True)(torch.stack)\n",
    "\n",
    "t_stack(trees)"
   ]
  },
  {
   "cell_type": "code",
   "execution_count": 21,
   "id": "f8b3f415",
   "metadata": {
    "execution": {
     "iopub.execute_input": "2023-02-27T11:20:18.060547Z",
     "iopub.status.busy": "2023-02-27T11:20:18.060053Z",
     "iopub.status.idle": "2023-02-27T11:20:21.067364Z",
     "shell.execute_reply": "2023-02-27T11:20:21.066343Z"
    }
   },
   "outputs": [
    {
     "name": "stdout",
     "output_type": "stream",
     "text": [
      "37 µs ± 214 ns per loop (mean ± std. dev. of 7 runs, 10,000 loops each)\n"
     ]
    }
   ],
   "source": [
    "%timeit t_stack(trees)"
   ]
  },
  {
   "cell_type": "code",
   "execution_count": 22,
   "id": "94b56771",
   "metadata": {
    "execution": {
     "iopub.execute_input": "2023-02-27T11:20:21.070784Z",
     "iopub.status.busy": "2023-02-27T11:20:21.070487Z",
     "iopub.status.idle": "2023-02-27T11:20:21.080348Z",
     "shell.execute_reply": "2023-02-27T11:20:21.079610Z"
    }
   },
   "outputs": [
    {
     "data": {
      "text/plain": [
       "<FastTreeValue 0x7fc4dee6af40>\n",
       "├── 'a' --> tensor([[ 1.0058,  0.4760, -0.0354],\n",
       "│                   [ 0.6147,  1.4466, -0.1422],\n",
       "│                   [ 1.0058,  0.4760, -0.0354],\n",
       "│                   [ 0.6147,  1.4466, -0.1422],\n",
       "│                   [ 1.0058,  0.4760, -0.0354],\n",
       "│                   [ 0.6147,  1.4466, -0.1422],\n",
       "│                   [ 1.0058,  0.4760, -0.0354],\n",
       "│                   [ 0.6147,  1.4466, -0.1422],\n",
       "│                   [ 1.0058,  0.4760, -0.0354],\n",
       "│                   [ 0.6147,  1.4466, -0.1422],\n",
       "│                   [ 1.0058,  0.4760, -0.0354],\n",
       "│                   [ 0.6147,  1.4466, -0.1422],\n",
       "│                   [ 1.0058,  0.4760, -0.0354],\n",
       "│                   [ 0.6147,  1.4466, -0.1422],\n",
       "│                   [ 1.0058,  0.4760, -0.0354],\n",
       "│                   [ 0.6147,  1.4466, -0.1422]])\n",
       "└── 'x' --> <FastTreeValue 0x7fc560a81e80>\n",
       "    └── 'c' --> tensor([[-0.5109,  0.0742, -0.8903, -0.1564],\n",
       "                        [-0.9847, -0.6569, -0.1467,  1.2373],\n",
       "                        [ 0.1478, -0.4505,  0.1463,  0.1611],\n",
       "                        [-0.5109,  0.0742, -0.8903, -0.1564],\n",
       "                        [-0.9847, -0.6569, -0.1467,  1.2373],\n",
       "                        [ 0.1478, -0.4505,  0.1463,  0.1611],\n",
       "                        [-0.5109,  0.0742, -0.8903, -0.1564],\n",
       "                        [-0.9847, -0.6569, -0.1467,  1.2373],\n",
       "                        [ 0.1478, -0.4505,  0.1463,  0.1611],\n",
       "                        [-0.5109,  0.0742, -0.8903, -0.1564],\n",
       "                        [-0.9847, -0.6569, -0.1467,  1.2373],\n",
       "                        [ 0.1478, -0.4505,  0.1463,  0.1611],\n",
       "                        [-0.5109,  0.0742, -0.8903, -0.1564],\n",
       "                        [-0.9847, -0.6569, -0.1467,  1.2373],\n",
       "                        [ 0.1478, -0.4505,  0.1463,  0.1611],\n",
       "                        [-0.5109,  0.0742, -0.8903, -0.1564],\n",
       "                        [-0.9847, -0.6569, -0.1467,  1.2373],\n",
       "                        [ 0.1478, -0.4505,  0.1463,  0.1611],\n",
       "                        [-0.5109,  0.0742, -0.8903, -0.1564],\n",
       "                        [-0.9847, -0.6569, -0.1467,  1.2373],\n",
       "                        [ 0.1478, -0.4505,  0.1463,  0.1611],\n",
       "                        [-0.5109,  0.0742, -0.8903, -0.1564],\n",
       "                        [-0.9847, -0.6569, -0.1467,  1.2373],\n",
       "                        [ 0.1478, -0.4505,  0.1463,  0.1611]])"
      ]
     },
     "execution_count": 22,
     "metadata": {},
     "output_type": "execute_result"
    }
   ],
   "source": [
    "t_cat = FastTreeValue.func(subside=True)(torch.cat)\n",
    "\n",
    "t_cat(trees)"
   ]
  },
  {
   "cell_type": "code",
   "execution_count": 23,
   "id": "5e9c06a6",
   "metadata": {
    "execution": {
     "iopub.execute_input": "2023-02-27T11:20:21.083953Z",
     "iopub.status.busy": "2023-02-27T11:20:21.083196Z",
     "iopub.status.idle": "2023-02-27T11:20:23.917492Z",
     "shell.execute_reply": "2023-02-27T11:20:23.916392Z"
    }
   },
   "outputs": [
    {
     "name": "stdout",
     "output_type": "stream",
     "text": [
      "34.8 µs ± 238 ns per loop (mean ± std. dev. of 7 runs, 10,000 loops each)\n"
     ]
    }
   ],
   "source": [
    "%timeit t_cat(trees)"
   ]
  },
  {
   "cell_type": "code",
   "execution_count": 24,
   "id": "a3ab5c8f",
   "metadata": {
    "execution": {
     "iopub.execute_input": "2023-02-27T11:20:23.923294Z",
     "iopub.status.busy": "2023-02-27T11:20:23.921587Z",
     "iopub.status.idle": "2023-02-27T11:20:29.274345Z",
     "shell.execute_reply": "2023-02-27T11:20:29.272944Z"
    }
   },
   "outputs": [
    {
     "name": "stdout",
     "output_type": "stream",
     "text": [
      "65.3 µs ± 395 ns per loop (mean ± std. dev. of 7 runs, 10,000 loops each)\n"
     ]
    }
   ],
   "source": [
    "t_split = FastTreeValue.func(rise=True)(torch.split)\n",
    "tree = FastTreeValue({\n",
    "    'obs': torch.randn(8, 4, 84, 84),\n",
    "    'action': torch.randint(0, 6, size=(8, 1,)),\n",
    "    'reward': torch.rand(8, 1),\n",
    "})\n",
    "\n",
    "%timeit t_split(tree, 1)"
   ]
  },
  {
   "cell_type": "markdown",
   "id": "31c3ec0b",
   "metadata": {},
   "source": [
    "### Performance of Tianshou Batch"
   ]
  },
  {
   "cell_type": "code",
   "execution_count": 25,
   "id": "9ead828a",
   "metadata": {
    "execution": {
     "iopub.execute_input": "2023-02-27T11:20:29.278170Z",
     "iopub.status.busy": "2023-02-27T11:20:29.277473Z",
     "iopub.status.idle": "2023-02-27T11:20:29.289381Z",
     "shell.execute_reply": "2023-02-27T11:20:29.286922Z"
    }
   },
   "outputs": [
    {
     "data": {
      "text/plain": [
       "Batch(\n",
       "    a: tensor([[[ 1.0058,  0.4760, -0.0354],\n",
       "                [ 0.6147,  1.4466, -0.1422]],\n",
       "       \n",
       "               [[ 1.0058,  0.4760, -0.0354],\n",
       "                [ 0.6147,  1.4466, -0.1422]],\n",
       "       \n",
       "               [[ 1.0058,  0.4760, -0.0354],\n",
       "                [ 0.6147,  1.4466, -0.1422]],\n",
       "       \n",
       "               [[ 1.0058,  0.4760, -0.0354],\n",
       "                [ 0.6147,  1.4466, -0.1422]],\n",
       "       \n",
       "               [[ 1.0058,  0.4760, -0.0354],\n",
       "                [ 0.6147,  1.4466, -0.1422]],\n",
       "       \n",
       "               [[ 1.0058,  0.4760, -0.0354],\n",
       "                [ 0.6147,  1.4466, -0.1422]],\n",
       "       \n",
       "               [[ 1.0058,  0.4760, -0.0354],\n",
       "                [ 0.6147,  1.4466, -0.1422]],\n",
       "       \n",
       "               [[ 1.0058,  0.4760, -0.0354],\n",
       "                [ 0.6147,  1.4466, -0.1422]]]),\n",
       "    x: Batch(\n",
       "           c: tensor([[[-0.5109,  0.0742, -0.8903, -0.1564],\n",
       "                       [-0.9847, -0.6569, -0.1467,  1.2373],\n",
       "                       [ 0.1478, -0.4505,  0.1463,  0.1611]],\n",
       "              \n",
       "                      [[-0.5109,  0.0742, -0.8903, -0.1564],\n",
       "                       [-0.9847, -0.6569, -0.1467,  1.2373],\n",
       "                       [ 0.1478, -0.4505,  0.1463,  0.1611]],\n",
       "              \n",
       "                      [[-0.5109,  0.0742, -0.8903, -0.1564],\n",
       "                       [-0.9847, -0.6569, -0.1467,  1.2373],\n",
       "                       [ 0.1478, -0.4505,  0.1463,  0.1611]],\n",
       "              \n",
       "                      [[-0.5109,  0.0742, -0.8903, -0.1564],\n",
       "                       [-0.9847, -0.6569, -0.1467,  1.2373],\n",
       "                       [ 0.1478, -0.4505,  0.1463,  0.1611]],\n",
       "              \n",
       "                      [[-0.5109,  0.0742, -0.8903, -0.1564],\n",
       "                       [-0.9847, -0.6569, -0.1467,  1.2373],\n",
       "                       [ 0.1478, -0.4505,  0.1463,  0.1611]],\n",
       "              \n",
       "                      [[-0.5109,  0.0742, -0.8903, -0.1564],\n",
       "                       [-0.9847, -0.6569, -0.1467,  1.2373],\n",
       "                       [ 0.1478, -0.4505,  0.1463,  0.1611]],\n",
       "              \n",
       "                      [[-0.5109,  0.0742, -0.8903, -0.1564],\n",
       "                       [-0.9847, -0.6569, -0.1467,  1.2373],\n",
       "                       [ 0.1478, -0.4505,  0.1463,  0.1611]],\n",
       "              \n",
       "                      [[-0.5109,  0.0742, -0.8903, -0.1564],\n",
       "                       [-0.9847, -0.6569, -0.1467,  1.2373],\n",
       "                       [ 0.1478, -0.4505,  0.1463,  0.1611]]]),\n",
       "       ),\n",
       ")"
      ]
     },
     "execution_count": 25,
     "metadata": {},
     "output_type": "execute_result"
    }
   ],
   "source": [
    "batches = [Batch(**_TREE_DATA_2) for _ in range(8)]\n",
    "\n",
    "Batch.stack(batches)"
   ]
  },
  {
   "cell_type": "code",
   "execution_count": 26,
   "id": "ec9037a3",
   "metadata": {
    "execution": {
     "iopub.execute_input": "2023-02-27T11:20:29.292769Z",
     "iopub.status.busy": "2023-02-27T11:20:29.292485Z",
     "iopub.status.idle": "2023-02-27T11:20:36.645993Z",
     "shell.execute_reply": "2023-02-27T11:20:36.644679Z"
    }
   },
   "outputs": [
    {
     "name": "stdout",
     "output_type": "stream",
     "text": [
      "90.5 µs ± 567 ns per loop (mean ± std. dev. of 7 runs, 10,000 loops each)\n"
     ]
    }
   ],
   "source": [
    "%timeit Batch.stack(batches)"
   ]
  },
  {
   "cell_type": "code",
   "execution_count": 27,
   "id": "cb8ab77e",
   "metadata": {
    "execution": {
     "iopub.execute_input": "2023-02-27T11:20:36.650239Z",
     "iopub.status.busy": "2023-02-27T11:20:36.649529Z",
     "iopub.status.idle": "2023-02-27T11:20:36.658558Z",
     "shell.execute_reply": "2023-02-27T11:20:36.657783Z"
    }
   },
   "outputs": [
    {
     "data": {
      "text/plain": [
       "Batch(\n",
       "    a: tensor([[ 1.0058,  0.4760, -0.0354],\n",
       "               [ 0.6147,  1.4466, -0.1422],\n",
       "               [ 1.0058,  0.4760, -0.0354],\n",
       "               [ 0.6147,  1.4466, -0.1422],\n",
       "               [ 1.0058,  0.4760, -0.0354],\n",
       "               [ 0.6147,  1.4466, -0.1422],\n",
       "               [ 1.0058,  0.4760, -0.0354],\n",
       "               [ 0.6147,  1.4466, -0.1422],\n",
       "               [ 1.0058,  0.4760, -0.0354],\n",
       "               [ 0.6147,  1.4466, -0.1422],\n",
       "               [ 1.0058,  0.4760, -0.0354],\n",
       "               [ 0.6147,  1.4466, -0.1422],\n",
       "               [ 1.0058,  0.4760, -0.0354],\n",
       "               [ 0.6147,  1.4466, -0.1422],\n",
       "               [ 1.0058,  0.4760, -0.0354],\n",
       "               [ 0.6147,  1.4466, -0.1422]]),\n",
       "    x: Batch(\n",
       "           c: tensor([[-0.5109,  0.0742, -0.8903, -0.1564],\n",
       "                      [-0.9847, -0.6569, -0.1467,  1.2373],\n",
       "                      [ 0.1478, -0.4505,  0.1463,  0.1611],\n",
       "                      [-0.5109,  0.0742, -0.8903, -0.1564],\n",
       "                      [-0.9847, -0.6569, -0.1467,  1.2373],\n",
       "                      [ 0.1478, -0.4505,  0.1463,  0.1611],\n",
       "                      [-0.5109,  0.0742, -0.8903, -0.1564],\n",
       "                      [-0.9847, -0.6569, -0.1467,  1.2373],\n",
       "                      [ 0.1478, -0.4505,  0.1463,  0.1611],\n",
       "                      [-0.5109,  0.0742, -0.8903, -0.1564],\n",
       "                      [-0.9847, -0.6569, -0.1467,  1.2373],\n",
       "                      [ 0.1478, -0.4505,  0.1463,  0.1611],\n",
       "                      [-0.5109,  0.0742, -0.8903, -0.1564],\n",
       "                      [-0.9847, -0.6569, -0.1467,  1.2373],\n",
       "                      [ 0.1478, -0.4505,  0.1463,  0.1611],\n",
       "                      [-0.5109,  0.0742, -0.8903, -0.1564],\n",
       "                      [-0.9847, -0.6569, -0.1467,  1.2373],\n",
       "                      [ 0.1478, -0.4505,  0.1463,  0.1611],\n",
       "                      [-0.5109,  0.0742, -0.8903, -0.1564],\n",
       "                      [-0.9847, -0.6569, -0.1467,  1.2373],\n",
       "                      [ 0.1478, -0.4505,  0.1463,  0.1611],\n",
       "                      [-0.5109,  0.0742, -0.8903, -0.1564],\n",
       "                      [-0.9847, -0.6569, -0.1467,  1.2373],\n",
       "                      [ 0.1478, -0.4505,  0.1463,  0.1611]]),\n",
       "       ),\n",
       ")"
      ]
     },
     "execution_count": 27,
     "metadata": {},
     "output_type": "execute_result"
    }
   ],
   "source": [
    "Batch.cat(batches)"
   ]
  },
  {
   "cell_type": "code",
   "execution_count": 28,
   "id": "18dfb045",
   "metadata": {
    "execution": {
     "iopub.execute_input": "2023-02-27T11:20:36.662424Z",
     "iopub.status.busy": "2023-02-27T11:20:36.661660Z",
     "iopub.status.idle": "2023-02-27T11:20:50.252992Z",
     "shell.execute_reply": "2023-02-27T11:20:50.251674Z"
    }
   },
   "outputs": [
    {
     "name": "stdout",
     "output_type": "stream",
     "text": [
      "167 µs ± 725 ns per loop (mean ± std. dev. of 7 runs, 10,000 loops each)\n"
     ]
    }
   ],
   "source": [
    "%timeit Batch.cat(batches)"
   ]
  },
  {
   "cell_type": "code",
   "execution_count": 29,
   "id": "c6688e51",
   "metadata": {
    "execution": {
     "iopub.execute_input": "2023-02-27T11:20:50.256708Z",
     "iopub.status.busy": "2023-02-27T11:20:50.256407Z",
     "iopub.status.idle": "2023-02-27T11:20:53.276917Z",
     "shell.execute_reply": "2023-02-27T11:20:53.276191Z"
    }
   },
   "outputs": [
    {
     "name": "stdout",
     "output_type": "stream",
     "text": [
      "369 µs ± 1.2 µs per loop (mean ± std. dev. of 7 runs, 1,000 loops each)\n"
     ]
    }
   ],
   "source": [
    "batch = Batch({\n",
    "    'obs': torch.randn(8, 4, 84, 84),\n",
    "    'action': torch.randint(0, 6, size=(8, 1,)),\n",
    "    'reward': torch.rand(8, 1)}\n",
    ")\n",
    "\n",
    "%timeit list(Batch.split(batch, 1, shuffle=False, merge_last=True))"
   ]
  },
  {
   "cell_type": "code",
   "execution_count": null,
   "id": "2539fbd9",
   "metadata": {},
   "outputs": [],
   "source": []
  }
 ],
 "metadata": {
  "kernelspec": {
   "display_name": "Python 3 (ipykernel)",
   "language": "python",
   "name": "python3"
  },
  "language_info": {
   "codemirror_mode": {
    "name": "ipython",
    "version": 3
   },
   "file_extension": ".py",
   "mimetype": "text/x-python",
   "name": "python",
   "nbconvert_exporter": "python",
   "pygments_lexer": "ipython3",
   "version": "3.8.16"
  }
 },
 "nbformat": 4,
 "nbformat_minor": 5
}
