{
 "cells": [
  {
   "cell_type": "markdown",
   "id": "9d39d946",
   "metadata": {},
   "source": [
    "# Comparison Between TreeValue and Tianshou Batch"
   ]
  },
  {
   "cell_type": "markdown",
   "id": "3c6db2d4",
   "metadata": {},
   "source": [
    "In this section, we will take a look at the feature and performance of the [Tianshou Batch](https://github.com/thu-ml/tianshou) library, which is developed by Tsinghua Machine Learning Group."
   ]
  },
  {
   "cell_type": "markdown",
   "id": "069361b0",
   "metadata": {},
   "source": [
    "Before starting the comparison, let us define some thing."
   ]
  },
  {
   "cell_type": "code",
   "execution_count": 1,
   "id": "06fc8d26",
   "metadata": {
    "execution": {
     "iopub.execute_input": "2023-02-24T08:18:12.318878Z",
     "iopub.status.busy": "2023-02-24T08:18:12.318432Z",
     "iopub.status.idle": "2023-02-24T08:18:13.317929Z",
     "shell.execute_reply": "2023-02-24T08:18:13.317097Z"
    }
   },
   "outputs": [
    {
     "name": "stderr",
     "output_type": "stream",
     "text": [
      "/opt/hostedtoolcache/Python/3.8.16/x64/lib/python3.8/site-packages/tqdm/auto.py:22: TqdmWarning: IProgress not found. Please update jupyter and ipywidgets. See https://ipywidgets.readthedocs.io/en/stable/user_install.html\n",
      "  from .autonotebook import tqdm as notebook_tqdm\n"
     ]
    }
   ],
   "source": [
    "import torch \n",
    "\n",
    "_TREE_DATA_1 = {'a': 1, 'b': 2, 'x': {'c': 3, 'd': 4}}\n",
    "_TREE_DATA_2 = {\n",
    "    'a': torch.randn(2, 3), \n",
    "    'x': {\n",
    "        'c': torch.randn(3, 4)\n",
    "    },\n",
    "}\n",
    "_TREE_DATA_3 = {\n",
    "    'obs': torch.randn(4, 84, 84),\n",
    "    'action': torch.randint(0, 6, size=(1,)),\n",
    "    'reward': torch.rand(1),\n",
    "}"
   ]
  },
  {
   "cell_type": "markdown",
   "id": "83461b25",
   "metadata": {},
   "source": [
    "## Read and Write Operation"
   ]
  },
  {
   "cell_type": "markdown",
   "id": "067b3f73",
   "metadata": {},
   "source": [
    "Reading and writing are the two most common operations in the tree data structure based on the data model (TreeValue and Tianshou Batch both belong to this type), so this section will compare the reading and writing performance of these two libraries."
   ]
  },
  {
   "cell_type": "markdown",
   "id": "5d09a5b7",
   "metadata": {},
   "source": [
    "### TreeValue's Get and Set"
   ]
  },
  {
   "cell_type": "code",
   "execution_count": 2,
   "id": "9519c4bb",
   "metadata": {
    "execution": {
     "iopub.execute_input": "2023-02-24T08:18:13.321906Z",
     "iopub.status.busy": "2023-02-24T08:18:13.321585Z",
     "iopub.status.idle": "2023-02-24T08:18:13.359384Z",
     "shell.execute_reply": "2023-02-24T08:18:13.358537Z"
    }
   },
   "outputs": [],
   "source": [
    "from treevalue import FastTreeValue\n",
    "\n",
    "t = FastTreeValue(_TREE_DATA_2)"
   ]
  },
  {
   "cell_type": "code",
   "execution_count": 3,
   "id": "11c37677",
   "metadata": {
    "execution": {
     "iopub.execute_input": "2023-02-24T08:18:13.363185Z",
     "iopub.status.busy": "2023-02-24T08:18:13.362746Z",
     "iopub.status.idle": "2023-02-24T08:18:13.372063Z",
     "shell.execute_reply": "2023-02-24T08:18:13.371299Z"
    }
   },
   "outputs": [
    {
     "data": {
      "text/plain": [
       "<FastTreeValue 0x7f174cd9abe0>\n",
       "├── 'a' --> tensor([[-0.5832, -0.0600,  0.9575],\n",
       "│                   [ 1.5573, -0.6144, -1.4686]])\n",
       "└── 'x' --> <FastTreeValue 0x7f174ce0e580>\n",
       "    └── 'c' --> tensor([[ 1.1603e+00, -6.9374e-02,  1.4627e-02,  1.2433e-03],\n",
       "                        [-8.4500e-01, -2.5485e-01,  8.8289e-01,  7.3123e-02],\n",
       "                        [ 1.1678e+00,  2.0142e+00,  1.0518e+00,  9.9192e-02]])"
      ]
     },
     "execution_count": 3,
     "metadata": {},
     "output_type": "execute_result"
    }
   ],
   "source": [
    "t"
   ]
  },
  {
   "cell_type": "code",
   "execution_count": 4,
   "id": "fd70b0b9",
   "metadata": {
    "execution": {
     "iopub.execute_input": "2023-02-24T08:18:13.375021Z",
     "iopub.status.busy": "2023-02-24T08:18:13.374627Z",
     "iopub.status.idle": "2023-02-24T08:18:13.381238Z",
     "shell.execute_reply": "2023-02-24T08:18:13.380503Z"
    }
   },
   "outputs": [
    {
     "data": {
      "text/plain": [
       "tensor([[-0.5832, -0.0600,  0.9575],\n",
       "        [ 1.5573, -0.6144, -1.4686]])"
      ]
     },
     "execution_count": 4,
     "metadata": {},
     "output_type": "execute_result"
    }
   ],
   "source": [
    "t.a"
   ]
  },
  {
   "cell_type": "code",
   "execution_count": 5,
   "id": "c18197bd",
   "metadata": {
    "execution": {
     "iopub.execute_input": "2023-02-24T08:18:13.384256Z",
     "iopub.status.busy": "2023-02-24T08:18:13.383671Z",
     "iopub.status.idle": "2023-02-24T08:18:18.658132Z",
     "shell.execute_reply": "2023-02-24T08:18:18.656882Z"
    }
   },
   "outputs": [
    {
     "name": "stdout",
     "output_type": "stream",
     "text": [
      "64.9 ns ± 0.0263 ns per loop (mean ± std. dev. of 7 runs, 10,000,000 loops each)\n"
     ]
    }
   ],
   "source": [
    "%timeit t.a"
   ]
  },
  {
   "cell_type": "code",
   "execution_count": 6,
   "id": "bd52f867",
   "metadata": {
    "execution": {
     "iopub.execute_input": "2023-02-24T08:18:18.661860Z",
     "iopub.status.busy": "2023-02-24T08:18:18.661295Z",
     "iopub.status.idle": "2023-02-24T08:18:18.668177Z",
     "shell.execute_reply": "2023-02-24T08:18:18.667396Z"
    }
   },
   "outputs": [
    {
     "data": {
      "text/plain": [
       "<FastTreeValue 0x7f174cd9abe0>\n",
       "├── 'a' --> tensor([[ 0.0595, -0.6951, -1.3826],\n",
       "│                   [-0.3141,  1.0505, -1.0110]])\n",
       "└── 'x' --> <FastTreeValue 0x7f174ce0e580>\n",
       "    └── 'c' --> tensor([[ 1.1603e+00, -6.9374e-02,  1.4627e-02,  1.2433e-03],\n",
       "                        [-8.4500e-01, -2.5485e-01,  8.8289e-01,  7.3123e-02],\n",
       "                        [ 1.1678e+00,  2.0142e+00,  1.0518e+00,  9.9192e-02]])"
      ]
     },
     "execution_count": 6,
     "metadata": {},
     "output_type": "execute_result"
    }
   ],
   "source": [
    "new_value = torch.randn(2, 3)\n",
    "t.a = new_value\n",
    "\n",
    "t"
   ]
  },
  {
   "cell_type": "code",
   "execution_count": 7,
   "id": "bbe04d1c",
   "metadata": {
    "execution": {
     "iopub.execute_input": "2023-02-24T08:18:18.671224Z",
     "iopub.status.busy": "2023-02-24T08:18:18.670713Z",
     "iopub.status.idle": "2023-02-24T08:18:24.028279Z",
     "shell.execute_reply": "2023-02-24T08:18:24.027363Z"
    }
   },
   "outputs": [
    {
     "name": "stdout",
     "output_type": "stream",
     "text": [
      "66 ns ± 0.333 ns per loop (mean ± std. dev. of 7 runs, 10,000,000 loops each)\n"
     ]
    }
   ],
   "source": [
    "%timeit t.a = new_value"
   ]
  },
  {
   "cell_type": "markdown",
   "id": "48c49731",
   "metadata": {},
   "source": [
    "### Tianshou Batch's Get and Set"
   ]
  },
  {
   "cell_type": "code",
   "execution_count": 8,
   "id": "f1bb14c1",
   "metadata": {
    "execution": {
     "iopub.execute_input": "2023-02-24T08:18:24.031766Z",
     "iopub.status.busy": "2023-02-24T08:18:24.031314Z",
     "iopub.status.idle": "2023-02-24T08:18:24.415631Z",
     "shell.execute_reply": "2023-02-24T08:18:24.414731Z"
    }
   },
   "outputs": [],
   "source": [
    "from tianshou.data import Batch\n",
    "\n",
    "b = Batch(**_TREE_DATA_2)"
   ]
  },
  {
   "cell_type": "code",
   "execution_count": 9,
   "id": "cb0777c3",
   "metadata": {
    "execution": {
     "iopub.execute_input": "2023-02-24T08:18:24.419461Z",
     "iopub.status.busy": "2023-02-24T08:18:24.418899Z",
     "iopub.status.idle": "2023-02-24T08:18:24.426324Z",
     "shell.execute_reply": "2023-02-24T08:18:24.425669Z"
    }
   },
   "outputs": [
    {
     "data": {
      "text/plain": [
       "Batch(\n",
       "    a: tensor([[-0.5832, -0.0600,  0.9575],\n",
       "               [ 1.5573, -0.6144, -1.4686]]),\n",
       "    x: Batch(\n",
       "           c: tensor([[ 1.1603e+00, -6.9374e-02,  1.4627e-02,  1.2433e-03],\n",
       "                      [-8.4500e-01, -2.5485e-01,  8.8289e-01,  7.3123e-02],\n",
       "                      [ 1.1678e+00,  2.0142e+00,  1.0518e+00,  9.9192e-02]]),\n",
       "       ),\n",
       ")"
      ]
     },
     "execution_count": 9,
     "metadata": {},
     "output_type": "execute_result"
    }
   ],
   "source": [
    "b"
   ]
  },
  {
   "cell_type": "code",
   "execution_count": 10,
   "id": "43ef8ea3",
   "metadata": {
    "execution": {
     "iopub.execute_input": "2023-02-24T08:18:24.429379Z",
     "iopub.status.busy": "2023-02-24T08:18:24.428892Z",
     "iopub.status.idle": "2023-02-24T08:18:24.435289Z",
     "shell.execute_reply": "2023-02-24T08:18:24.434635Z"
    }
   },
   "outputs": [
    {
     "data": {
      "text/plain": [
       "tensor([[-0.5832, -0.0600,  0.9575],\n",
       "        [ 1.5573, -0.6144, -1.4686]])"
      ]
     },
     "execution_count": 10,
     "metadata": {},
     "output_type": "execute_result"
    }
   ],
   "source": [
    "b.a"
   ]
  },
  {
   "cell_type": "code",
   "execution_count": 11,
   "id": "b785ab72",
   "metadata": {
    "execution": {
     "iopub.execute_input": "2023-02-24T08:18:24.438465Z",
     "iopub.status.busy": "2023-02-24T08:18:24.437978Z",
     "iopub.status.idle": "2023-02-24T08:18:29.408535Z",
     "shell.execute_reply": "2023-02-24T08:18:29.407661Z"
    }
   },
   "outputs": [
    {
     "name": "stdout",
     "output_type": "stream",
     "text": [
      "61.2 ns ± 0.0378 ns per loop (mean ± std. dev. of 7 runs, 10,000,000 loops each)\n"
     ]
    }
   ],
   "source": [
    "%timeit b.a"
   ]
  },
  {
   "cell_type": "code",
   "execution_count": 12,
   "id": "ad54dc69",
   "metadata": {
    "execution": {
     "iopub.execute_input": "2023-02-24T08:18:29.412071Z",
     "iopub.status.busy": "2023-02-24T08:18:29.411537Z",
     "iopub.status.idle": "2023-02-24T08:18:29.417939Z",
     "shell.execute_reply": "2023-02-24T08:18:29.417248Z"
    }
   },
   "outputs": [
    {
     "data": {
      "text/plain": [
       "Batch(\n",
       "    a: tensor([[-0.2005, -0.2094, -1.9639],\n",
       "               [-1.0155,  1.1024,  0.4530]]),\n",
       "    x: Batch(\n",
       "           c: tensor([[ 1.1603e+00, -6.9374e-02,  1.4627e-02,  1.2433e-03],\n",
       "                      [-8.4500e-01, -2.5485e-01,  8.8289e-01,  7.3123e-02],\n",
       "                      [ 1.1678e+00,  2.0142e+00,  1.0518e+00,  9.9192e-02]]),\n",
       "       ),\n",
       ")"
      ]
     },
     "execution_count": 12,
     "metadata": {},
     "output_type": "execute_result"
    }
   ],
   "source": [
    "new_value = torch.randn(2, 3)\n",
    "b.a = new_value\n",
    "\n",
    "b"
   ]
  },
  {
   "cell_type": "code",
   "execution_count": 13,
   "id": "29b1d0bf",
   "metadata": {
    "execution": {
     "iopub.execute_input": "2023-02-24T08:18:29.420892Z",
     "iopub.status.busy": "2023-02-24T08:18:29.420425Z",
     "iopub.status.idle": "2023-02-24T08:18:33.476529Z",
     "shell.execute_reply": "2023-02-24T08:18:33.475445Z"
    }
   },
   "outputs": [
    {
     "name": "stdout",
     "output_type": "stream",
     "text": [
      "499 ns ± 0.118 ns per loop (mean ± std. dev. of 7 runs, 1,000,000 loops each)\n"
     ]
    }
   ],
   "source": [
    "%timeit b.a = new_value"
   ]
  },
  {
   "cell_type": "markdown",
   "id": "b61ad1d0",
   "metadata": {},
   "source": [
    "## Initialization"
   ]
  },
  {
   "cell_type": "markdown",
   "id": "d70f0d54",
   "metadata": {},
   "source": [
    "### TreeValue's Initialization"
   ]
  },
  {
   "cell_type": "code",
   "execution_count": 14,
   "id": "d32a679b",
   "metadata": {
    "execution": {
     "iopub.execute_input": "2023-02-24T08:18:33.480053Z",
     "iopub.status.busy": "2023-02-24T08:18:33.479601Z",
     "iopub.status.idle": "2023-02-24T08:18:40.254385Z",
     "shell.execute_reply": "2023-02-24T08:18:40.253578Z"
    }
   },
   "outputs": [
    {
     "name": "stdout",
     "output_type": "stream",
     "text": [
      "838 ns ± 0.76 ns per loop (mean ± std. dev. of 7 runs, 1,000,000 loops each)\n"
     ]
    }
   ],
   "source": [
    "%timeit FastTreeValue(_TREE_DATA_1)"
   ]
  },
  {
   "cell_type": "markdown",
   "id": "24f3707b",
   "metadata": {},
   "source": [
    "### Tianshou Batch's Initialization"
   ]
  },
  {
   "cell_type": "code",
   "execution_count": 15,
   "id": "ac3958df",
   "metadata": {
    "execution": {
     "iopub.execute_input": "2023-02-24T08:18:40.257697Z",
     "iopub.status.busy": "2023-02-24T08:18:40.257227Z",
     "iopub.status.idle": "2023-02-24T08:18:48.968591Z",
     "shell.execute_reply": "2023-02-24T08:18:48.967700Z"
    }
   },
   "outputs": [
    {
     "name": "stdout",
     "output_type": "stream",
     "text": [
      "10.7 µs ± 4.92 ns per loop (mean ± std. dev. of 7 runs, 100,000 loops each)\n"
     ]
    }
   ],
   "source": [
    "%timeit Batch(**_TREE_DATA_1)"
   ]
  },
  {
   "cell_type": "markdown",
   "id": "1ab82e2d",
   "metadata": {},
   "source": [
    "## Deep Copy Operation"
   ]
  },
  {
   "cell_type": "code",
   "execution_count": 16,
   "id": "210a9442",
   "metadata": {
    "execution": {
     "iopub.execute_input": "2023-02-24T08:18:48.972590Z",
     "iopub.status.busy": "2023-02-24T08:18:48.972000Z",
     "iopub.status.idle": "2023-02-24T08:18:48.976417Z",
     "shell.execute_reply": "2023-02-24T08:18:48.975757Z"
    }
   },
   "outputs": [],
   "source": [
    "import copy"
   ]
  },
  {
   "cell_type": "markdown",
   "id": "5a736274",
   "metadata": {},
   "source": [
    "### Deep Copy of TreeValue"
   ]
  },
  {
   "cell_type": "code",
   "execution_count": 17,
   "id": "f9bcadd6",
   "metadata": {
    "execution": {
     "iopub.execute_input": "2023-02-24T08:18:48.979628Z",
     "iopub.status.busy": "2023-02-24T08:18:48.979240Z",
     "iopub.status.idle": "2023-02-24T08:19:00.752881Z",
     "shell.execute_reply": "2023-02-24T08:19:00.752046Z"
    }
   },
   "outputs": [
    {
     "name": "stdout",
     "output_type": "stream",
     "text": [
      "145 µs ± 412 ns per loop (mean ± std. dev. of 7 runs, 10,000 loops each)\n"
     ]
    }
   ],
   "source": [
    "t3 = FastTreeValue(_TREE_DATA_3)\n",
    "%timeit copy.deepcopy(t3)"
   ]
  },
  {
   "cell_type": "markdown",
   "id": "bf8be7ea",
   "metadata": {},
   "source": [
    "### Deep Copy of Tianshou Batch"
   ]
  },
  {
   "cell_type": "code",
   "execution_count": 18,
   "id": "91998e6f",
   "metadata": {
    "execution": {
     "iopub.execute_input": "2023-02-24T08:19:00.756538Z",
     "iopub.status.busy": "2023-02-24T08:19:00.755726Z",
     "iopub.status.idle": "2023-02-24T08:19:12.410516Z",
     "shell.execute_reply": "2023-02-24T08:19:12.409889Z"
    }
   },
   "outputs": [
    {
     "name": "stdout",
     "output_type": "stream",
     "text": [
      "144 µs ± 320 ns per loop (mean ± std. dev. of 7 runs, 10,000 loops each)\n"
     ]
    }
   ],
   "source": [
    "b3 = Batch(**_TREE_DATA_3)\n",
    "%timeit copy.deepcopy(b3)"
   ]
  },
  {
   "cell_type": "markdown",
   "id": "223162fb",
   "metadata": {},
   "source": [
    "## Stack, Concat and Split Operation"
   ]
  },
  {
   "cell_type": "markdown",
   "id": "85fa4a73",
   "metadata": {},
   "source": [
    "### Performance of TreeValue"
   ]
  },
  {
   "cell_type": "code",
   "execution_count": 19,
   "id": "a0c2b697",
   "metadata": {
    "execution": {
     "iopub.execute_input": "2023-02-24T08:19:12.413748Z",
     "iopub.status.busy": "2023-02-24T08:19:12.413327Z",
     "iopub.status.idle": "2023-02-24T08:19:12.416649Z",
     "shell.execute_reply": "2023-02-24T08:19:12.416080Z"
    }
   },
   "outputs": [],
   "source": [
    "trees = [FastTreeValue(_TREE_DATA_2) for _ in range(8)]"
   ]
  },
  {
   "cell_type": "code",
   "execution_count": 20,
   "id": "017ea5a5",
   "metadata": {
    "execution": {
     "iopub.execute_input": "2023-02-24T08:19:12.419310Z",
     "iopub.status.busy": "2023-02-24T08:19:12.418925Z",
     "iopub.status.idle": "2023-02-24T08:19:12.426043Z",
     "shell.execute_reply": "2023-02-24T08:19:12.425486Z"
    }
   },
   "outputs": [
    {
     "data": {
      "text/plain": [
       "<FastTreeValue 0x7f174cd947f0>\n",
       "├── 'a' --> tensor([[[-0.5832, -0.0600,  0.9575],\n",
       "│                    [ 1.5573, -0.6144, -1.4686]],\n",
       "│           \n",
       "│                   [[-0.5832, -0.0600,  0.9575],\n",
       "│                    [ 1.5573, -0.6144, -1.4686]],\n",
       "│           \n",
       "│                   [[-0.5832, -0.0600,  0.9575],\n",
       "│                    [ 1.5573, -0.6144, -1.4686]],\n",
       "│           \n",
       "│                   [[-0.5832, -0.0600,  0.9575],\n",
       "│                    [ 1.5573, -0.6144, -1.4686]],\n",
       "│           \n",
       "│                   [[-0.5832, -0.0600,  0.9575],\n",
       "│                    [ 1.5573, -0.6144, -1.4686]],\n",
       "│           \n",
       "│                   [[-0.5832, -0.0600,  0.9575],\n",
       "│                    [ 1.5573, -0.6144, -1.4686]],\n",
       "│           \n",
       "│                   [[-0.5832, -0.0600,  0.9575],\n",
       "│                    [ 1.5573, -0.6144, -1.4686]],\n",
       "│           \n",
       "│                   [[-0.5832, -0.0600,  0.9575],\n",
       "│                    [ 1.5573, -0.6144, -1.4686]]])\n",
       "└── 'x' --> <FastTreeValue 0x7f174cd942e0>\n",
       "    └── 'c' --> tensor([[[ 1.1603e+00, -6.9374e-02,  1.4627e-02,  1.2433e-03],\n",
       "                         [-8.4500e-01, -2.5485e-01,  8.8289e-01,  7.3123e-02],\n",
       "                         [ 1.1678e+00,  2.0142e+00,  1.0518e+00,  9.9192e-02]],\n",
       "                \n",
       "                        [[ 1.1603e+00, -6.9374e-02,  1.4627e-02,  1.2433e-03],\n",
       "                         [-8.4500e-01, -2.5485e-01,  8.8289e-01,  7.3123e-02],\n",
       "                         [ 1.1678e+00,  2.0142e+00,  1.0518e+00,  9.9192e-02]],\n",
       "                \n",
       "                        [[ 1.1603e+00, -6.9374e-02,  1.4627e-02,  1.2433e-03],\n",
       "                         [-8.4500e-01, -2.5485e-01,  8.8289e-01,  7.3123e-02],\n",
       "                         [ 1.1678e+00,  2.0142e+00,  1.0518e+00,  9.9192e-02]],\n",
       "                \n",
       "                        [[ 1.1603e+00, -6.9374e-02,  1.4627e-02,  1.2433e-03],\n",
       "                         [-8.4500e-01, -2.5485e-01,  8.8289e-01,  7.3123e-02],\n",
       "                         [ 1.1678e+00,  2.0142e+00,  1.0518e+00,  9.9192e-02]],\n",
       "                \n",
       "                        [[ 1.1603e+00, -6.9374e-02,  1.4627e-02,  1.2433e-03],\n",
       "                         [-8.4500e-01, -2.5485e-01,  8.8289e-01,  7.3123e-02],\n",
       "                         [ 1.1678e+00,  2.0142e+00,  1.0518e+00,  9.9192e-02]],\n",
       "                \n",
       "                        [[ 1.1603e+00, -6.9374e-02,  1.4627e-02,  1.2433e-03],\n",
       "                         [-8.4500e-01, -2.5485e-01,  8.8289e-01,  7.3123e-02],\n",
       "                         [ 1.1678e+00,  2.0142e+00,  1.0518e+00,  9.9192e-02]],\n",
       "                \n",
       "                        [[ 1.1603e+00, -6.9374e-02,  1.4627e-02,  1.2433e-03],\n",
       "                         [-8.4500e-01, -2.5485e-01,  8.8289e-01,  7.3123e-02],\n",
       "                         [ 1.1678e+00,  2.0142e+00,  1.0518e+00,  9.9192e-02]],\n",
       "                \n",
       "                        [[ 1.1603e+00, -6.9374e-02,  1.4627e-02,  1.2433e-03],\n",
       "                         [-8.4500e-01, -2.5485e-01,  8.8289e-01,  7.3123e-02],\n",
       "                         [ 1.1678e+00,  2.0142e+00,  1.0518e+00,  9.9192e-02]]])"
      ]
     },
     "execution_count": 20,
     "metadata": {},
     "output_type": "execute_result"
    }
   ],
   "source": [
    "t_stack = FastTreeValue.func(subside=True)(torch.stack)\n",
    "\n",
    "t_stack(trees)"
   ]
  },
  {
   "cell_type": "code",
   "execution_count": 21,
   "id": "f8b3f415",
   "metadata": {
    "execution": {
     "iopub.execute_input": "2023-02-24T08:19:12.428731Z",
     "iopub.status.busy": "2023-02-24T08:19:12.428346Z",
     "iopub.status.idle": "2023-02-24T08:19:15.051194Z",
     "shell.execute_reply": "2023-02-24T08:19:15.050338Z"
    }
   },
   "outputs": [
    {
     "name": "stdout",
     "output_type": "stream",
     "text": [
      "32.3 µs ± 38.9 ns per loop (mean ± std. dev. of 7 runs, 10,000 loops each)\n"
     ]
    }
   ],
   "source": [
    "%timeit t_stack(trees)"
   ]
  },
  {
   "cell_type": "code",
   "execution_count": 22,
   "id": "94b56771",
   "metadata": {
    "execution": {
     "iopub.execute_input": "2023-02-24T08:19:15.054404Z",
     "iopub.status.busy": "2023-02-24T08:19:15.054134Z",
     "iopub.status.idle": "2023-02-24T08:19:15.062812Z",
     "shell.execute_reply": "2023-02-24T08:19:15.062150Z"
    }
   },
   "outputs": [
    {
     "data": {
      "text/plain": [
       "<FastTreeValue 0x7f1724299cd0>\n",
       "├── 'a' --> tensor([[-0.5832, -0.0600,  0.9575],\n",
       "│                   [ 1.5573, -0.6144, -1.4686],\n",
       "│                   [-0.5832, -0.0600,  0.9575],\n",
       "│                   [ 1.5573, -0.6144, -1.4686],\n",
       "│                   [-0.5832, -0.0600,  0.9575],\n",
       "│                   [ 1.5573, -0.6144, -1.4686],\n",
       "│                   [-0.5832, -0.0600,  0.9575],\n",
       "│                   [ 1.5573, -0.6144, -1.4686],\n",
       "│                   [-0.5832, -0.0600,  0.9575],\n",
       "│                   [ 1.5573, -0.6144, -1.4686],\n",
       "│                   [-0.5832, -0.0600,  0.9575],\n",
       "│                   [ 1.5573, -0.6144, -1.4686],\n",
       "│                   [-0.5832, -0.0600,  0.9575],\n",
       "│                   [ 1.5573, -0.6144, -1.4686],\n",
       "│                   [-0.5832, -0.0600,  0.9575],\n",
       "│                   [ 1.5573, -0.6144, -1.4686]])\n",
       "└── 'x' --> <FastTreeValue 0x7f1724299a60>\n",
       "    └── 'c' --> tensor([[ 1.1603e+00, -6.9374e-02,  1.4627e-02,  1.2433e-03],\n",
       "                        [-8.4500e-01, -2.5485e-01,  8.8289e-01,  7.3123e-02],\n",
       "                        [ 1.1678e+00,  2.0142e+00,  1.0518e+00,  9.9192e-02],\n",
       "                        [ 1.1603e+00, -6.9374e-02,  1.4627e-02,  1.2433e-03],\n",
       "                        [-8.4500e-01, -2.5485e-01,  8.8289e-01,  7.3123e-02],\n",
       "                        [ 1.1678e+00,  2.0142e+00,  1.0518e+00,  9.9192e-02],\n",
       "                        [ 1.1603e+00, -6.9374e-02,  1.4627e-02,  1.2433e-03],\n",
       "                        [-8.4500e-01, -2.5485e-01,  8.8289e-01,  7.3123e-02],\n",
       "                        [ 1.1678e+00,  2.0142e+00,  1.0518e+00,  9.9192e-02],\n",
       "                        [ 1.1603e+00, -6.9374e-02,  1.4627e-02,  1.2433e-03],\n",
       "                        [-8.4500e-01, -2.5485e-01,  8.8289e-01,  7.3123e-02],\n",
       "                        [ 1.1678e+00,  2.0142e+00,  1.0518e+00,  9.9192e-02],\n",
       "                        [ 1.1603e+00, -6.9374e-02,  1.4627e-02,  1.2433e-03],\n",
       "                        [-8.4500e-01, -2.5485e-01,  8.8289e-01,  7.3123e-02],\n",
       "                        [ 1.1678e+00,  2.0142e+00,  1.0518e+00,  9.9192e-02],\n",
       "                        [ 1.1603e+00, -6.9374e-02,  1.4627e-02,  1.2433e-03],\n",
       "                        [-8.4500e-01, -2.5485e-01,  8.8289e-01,  7.3123e-02],\n",
       "                        [ 1.1678e+00,  2.0142e+00,  1.0518e+00,  9.9192e-02],\n",
       "                        [ 1.1603e+00, -6.9374e-02,  1.4627e-02,  1.2433e-03],\n",
       "                        [-8.4500e-01, -2.5485e-01,  8.8289e-01,  7.3123e-02],\n",
       "                        [ 1.1678e+00,  2.0142e+00,  1.0518e+00,  9.9192e-02],\n",
       "                        [ 1.1603e+00, -6.9374e-02,  1.4627e-02,  1.2433e-03],\n",
       "                        [-8.4500e-01, -2.5485e-01,  8.8289e-01,  7.3123e-02],\n",
       "                        [ 1.1678e+00,  2.0142e+00,  1.0518e+00,  9.9192e-02]])"
      ]
     },
     "execution_count": 22,
     "metadata": {},
     "output_type": "execute_result"
    }
   ],
   "source": [
    "t_cat = FastTreeValue.func(subside=True)(torch.cat)\n",
    "\n",
    "t_cat(trees)"
   ]
  },
  {
   "cell_type": "code",
   "execution_count": 23,
   "id": "5e9c06a6",
   "metadata": {
    "execution": {
     "iopub.execute_input": "2023-02-24T08:19:15.066214Z",
     "iopub.status.busy": "2023-02-24T08:19:15.065625Z",
     "iopub.status.idle": "2023-02-24T08:19:17.527011Z",
     "shell.execute_reply": "2023-02-24T08:19:17.526171Z"
    }
   },
   "outputs": [
    {
     "name": "stdout",
     "output_type": "stream",
     "text": [
      "30.2 µs ± 47.7 ns per loop (mean ± std. dev. of 7 runs, 10,000 loops each)\n"
     ]
    }
   ],
   "source": [
    "%timeit t_cat(trees)"
   ]
  },
  {
   "cell_type": "code",
   "execution_count": 24,
   "id": "a3ab5c8f",
   "metadata": {
    "execution": {
     "iopub.execute_input": "2023-02-24T08:19:17.530473Z",
     "iopub.status.busy": "2023-02-24T08:19:17.529951Z",
     "iopub.status.idle": "2023-02-24T08:19:22.098409Z",
     "shell.execute_reply": "2023-02-24T08:19:22.097540Z"
    }
   },
   "outputs": [
    {
     "name": "stdout",
     "output_type": "stream",
     "text": [
      "56 µs ± 103 ns per loop (mean ± std. dev. of 7 runs, 10,000 loops each)\n"
     ]
    }
   ],
   "source": [
    "t_split = FastTreeValue.func(rise=True)(torch.split)\n",
    "tree = FastTreeValue({\n",
    "    'obs': torch.randn(8, 4, 84, 84),\n",
    "    'action': torch.randint(0, 6, size=(8, 1,)),\n",
    "    'reward': torch.rand(8, 1),\n",
    "})\n",
    "\n",
    "%timeit t_split(tree, 1)"
   ]
  },
  {
   "cell_type": "markdown",
   "id": "31c3ec0b",
   "metadata": {},
   "source": [
    "### Performance of Tianshou Batch"
   ]
  },
  {
   "cell_type": "code",
   "execution_count": 25,
   "id": "9ead828a",
   "metadata": {
    "execution": {
     "iopub.execute_input": "2023-02-24T08:19:22.102495Z",
     "iopub.status.busy": "2023-02-24T08:19:22.101829Z",
     "iopub.status.idle": "2023-02-24T08:19:22.110698Z",
     "shell.execute_reply": "2023-02-24T08:19:22.110042Z"
    }
   },
   "outputs": [
    {
     "data": {
      "text/plain": [
       "Batch(\n",
       "    x: Batch(\n",
       "           c: tensor([[[ 1.1603e+00, -6.9374e-02,  1.4627e-02,  1.2433e-03],\n",
       "                       [-8.4500e-01, -2.5485e-01,  8.8289e-01,  7.3123e-02],\n",
       "                       [ 1.1678e+00,  2.0142e+00,  1.0518e+00,  9.9192e-02]],\n",
       "              \n",
       "                      [[ 1.1603e+00, -6.9374e-02,  1.4627e-02,  1.2433e-03],\n",
       "                       [-8.4500e-01, -2.5485e-01,  8.8289e-01,  7.3123e-02],\n",
       "                       [ 1.1678e+00,  2.0142e+00,  1.0518e+00,  9.9192e-02]],\n",
       "              \n",
       "                      [[ 1.1603e+00, -6.9374e-02,  1.4627e-02,  1.2433e-03],\n",
       "                       [-8.4500e-01, -2.5485e-01,  8.8289e-01,  7.3123e-02],\n",
       "                       [ 1.1678e+00,  2.0142e+00,  1.0518e+00,  9.9192e-02]],\n",
       "              \n",
       "                      [[ 1.1603e+00, -6.9374e-02,  1.4627e-02,  1.2433e-03],\n",
       "                       [-8.4500e-01, -2.5485e-01,  8.8289e-01,  7.3123e-02],\n",
       "                       [ 1.1678e+00,  2.0142e+00,  1.0518e+00,  9.9192e-02]],\n",
       "              \n",
       "                      [[ 1.1603e+00, -6.9374e-02,  1.4627e-02,  1.2433e-03],\n",
       "                       [-8.4500e-01, -2.5485e-01,  8.8289e-01,  7.3123e-02],\n",
       "                       [ 1.1678e+00,  2.0142e+00,  1.0518e+00,  9.9192e-02]],\n",
       "              \n",
       "                      [[ 1.1603e+00, -6.9374e-02,  1.4627e-02,  1.2433e-03],\n",
       "                       [-8.4500e-01, -2.5485e-01,  8.8289e-01,  7.3123e-02],\n",
       "                       [ 1.1678e+00,  2.0142e+00,  1.0518e+00,  9.9192e-02]],\n",
       "              \n",
       "                      [[ 1.1603e+00, -6.9374e-02,  1.4627e-02,  1.2433e-03],\n",
       "                       [-8.4500e-01, -2.5485e-01,  8.8289e-01,  7.3123e-02],\n",
       "                       [ 1.1678e+00,  2.0142e+00,  1.0518e+00,  9.9192e-02]],\n",
       "              \n",
       "                      [[ 1.1603e+00, -6.9374e-02,  1.4627e-02,  1.2433e-03],\n",
       "                       [-8.4500e-01, -2.5485e-01,  8.8289e-01,  7.3123e-02],\n",
       "                       [ 1.1678e+00,  2.0142e+00,  1.0518e+00,  9.9192e-02]]]),\n",
       "       ),\n",
       "    a: tensor([[[-0.5832, -0.0600,  0.9575],\n",
       "                [ 1.5573, -0.6144, -1.4686]],\n",
       "       \n",
       "               [[-0.5832, -0.0600,  0.9575],\n",
       "                [ 1.5573, -0.6144, -1.4686]],\n",
       "       \n",
       "               [[-0.5832, -0.0600,  0.9575],\n",
       "                [ 1.5573, -0.6144, -1.4686]],\n",
       "       \n",
       "               [[-0.5832, -0.0600,  0.9575],\n",
       "                [ 1.5573, -0.6144, -1.4686]],\n",
       "       \n",
       "               [[-0.5832, -0.0600,  0.9575],\n",
       "                [ 1.5573, -0.6144, -1.4686]],\n",
       "       \n",
       "               [[-0.5832, -0.0600,  0.9575],\n",
       "                [ 1.5573, -0.6144, -1.4686]],\n",
       "       \n",
       "               [[-0.5832, -0.0600,  0.9575],\n",
       "                [ 1.5573, -0.6144, -1.4686]],\n",
       "       \n",
       "               [[-0.5832, -0.0600,  0.9575],\n",
       "                [ 1.5573, -0.6144, -1.4686]]]),\n",
       ")"
      ]
     },
     "execution_count": 25,
     "metadata": {},
     "output_type": "execute_result"
    }
   ],
   "source": [
    "batches = [Batch(**_TREE_DATA_2) for _ in range(8)]\n",
    "\n",
    "Batch.stack(batches)"
   ]
  },
  {
   "cell_type": "code",
   "execution_count": 26,
   "id": "ec9037a3",
   "metadata": {
    "execution": {
     "iopub.execute_input": "2023-02-24T08:19:22.113642Z",
     "iopub.status.busy": "2023-02-24T08:19:22.113161Z",
     "iopub.status.idle": "2023-02-24T08:19:28.384232Z",
     "shell.execute_reply": "2023-02-24T08:19:28.383329Z"
    }
   },
   "outputs": [
    {
     "name": "stdout",
     "output_type": "stream",
     "text": [
      "77.1 µs ± 96.5 ns per loop (mean ± std. dev. of 7 runs, 10,000 loops each)\n"
     ]
    }
   ],
   "source": [
    "%timeit Batch.stack(batches)"
   ]
  },
  {
   "cell_type": "code",
   "execution_count": 27,
   "id": "cb8ab77e",
   "metadata": {
    "execution": {
     "iopub.execute_input": "2023-02-24T08:19:28.387867Z",
     "iopub.status.busy": "2023-02-24T08:19:28.387324Z",
     "iopub.status.idle": "2023-02-24T08:19:28.396506Z",
     "shell.execute_reply": "2023-02-24T08:19:28.395574Z"
    }
   },
   "outputs": [
    {
     "data": {
      "text/plain": [
       "Batch(\n",
       "    x: Batch(\n",
       "           c: tensor([[ 1.1603e+00, -6.9374e-02,  1.4627e-02,  1.2433e-03],\n",
       "                      [-8.4500e-01, -2.5485e-01,  8.8289e-01,  7.3123e-02],\n",
       "                      [ 1.1678e+00,  2.0142e+00,  1.0518e+00,  9.9192e-02],\n",
       "                      [ 1.1603e+00, -6.9374e-02,  1.4627e-02,  1.2433e-03],\n",
       "                      [-8.4500e-01, -2.5485e-01,  8.8289e-01,  7.3123e-02],\n",
       "                      [ 1.1678e+00,  2.0142e+00,  1.0518e+00,  9.9192e-02],\n",
       "                      [ 1.1603e+00, -6.9374e-02,  1.4627e-02,  1.2433e-03],\n",
       "                      [-8.4500e-01, -2.5485e-01,  8.8289e-01,  7.3123e-02],\n",
       "                      [ 1.1678e+00,  2.0142e+00,  1.0518e+00,  9.9192e-02],\n",
       "                      [ 1.1603e+00, -6.9374e-02,  1.4627e-02,  1.2433e-03],\n",
       "                      [-8.4500e-01, -2.5485e-01,  8.8289e-01,  7.3123e-02],\n",
       "                      [ 1.1678e+00,  2.0142e+00,  1.0518e+00,  9.9192e-02],\n",
       "                      [ 1.1603e+00, -6.9374e-02,  1.4627e-02,  1.2433e-03],\n",
       "                      [-8.4500e-01, -2.5485e-01,  8.8289e-01,  7.3123e-02],\n",
       "                      [ 1.1678e+00,  2.0142e+00,  1.0518e+00,  9.9192e-02],\n",
       "                      [ 1.1603e+00, -6.9374e-02,  1.4627e-02,  1.2433e-03],\n",
       "                      [-8.4500e-01, -2.5485e-01,  8.8289e-01,  7.3123e-02],\n",
       "                      [ 1.1678e+00,  2.0142e+00,  1.0518e+00,  9.9192e-02],\n",
       "                      [ 1.1603e+00, -6.9374e-02,  1.4627e-02,  1.2433e-03],\n",
       "                      [-8.4500e-01, -2.5485e-01,  8.8289e-01,  7.3123e-02],\n",
       "                      [ 1.1678e+00,  2.0142e+00,  1.0518e+00,  9.9192e-02],\n",
       "                      [ 1.1603e+00, -6.9374e-02,  1.4627e-02,  1.2433e-03],\n",
       "                      [-8.4500e-01, -2.5485e-01,  8.8289e-01,  7.3123e-02],\n",
       "                      [ 1.1678e+00,  2.0142e+00,  1.0518e+00,  9.9192e-02]]),\n",
       "       ),\n",
       "    a: tensor([[-0.5832, -0.0600,  0.9575],\n",
       "               [ 1.5573, -0.6144, -1.4686],\n",
       "               [-0.5832, -0.0600,  0.9575],\n",
       "               [ 1.5573, -0.6144, -1.4686],\n",
       "               [-0.5832, -0.0600,  0.9575],\n",
       "               [ 1.5573, -0.6144, -1.4686],\n",
       "               [-0.5832, -0.0600,  0.9575],\n",
       "               [ 1.5573, -0.6144, -1.4686],\n",
       "               [-0.5832, -0.0600,  0.9575],\n",
       "               [ 1.5573, -0.6144, -1.4686],\n",
       "               [-0.5832, -0.0600,  0.9575],\n",
       "               [ 1.5573, -0.6144, -1.4686],\n",
       "               [-0.5832, -0.0600,  0.9575],\n",
       "               [ 1.5573, -0.6144, -1.4686],\n",
       "               [-0.5832, -0.0600,  0.9575],\n",
       "               [ 1.5573, -0.6144, -1.4686]]),\n",
       ")"
      ]
     },
     "execution_count": 27,
     "metadata": {},
     "output_type": "execute_result"
    }
   ],
   "source": [
    "Batch.cat(batches)"
   ]
  },
  {
   "cell_type": "code",
   "execution_count": 28,
   "id": "18dfb045",
   "metadata": {
    "execution": {
     "iopub.execute_input": "2023-02-24T08:19:28.400419Z",
     "iopub.status.busy": "2023-02-24T08:19:28.400160Z",
     "iopub.status.idle": "2023-02-24T08:19:40.092741Z",
     "shell.execute_reply": "2023-02-24T08:19:40.091923Z"
    }
   },
   "outputs": [
    {
     "name": "stdout",
     "output_type": "stream",
     "text": [
      "144 µs ± 189 ns per loop (mean ± std. dev. of 7 runs, 10,000 loops each)\n"
     ]
    }
   ],
   "source": [
    "%timeit Batch.cat(batches)"
   ]
  },
  {
   "cell_type": "code",
   "execution_count": 29,
   "id": "c6688e51",
   "metadata": {
    "execution": {
     "iopub.execute_input": "2023-02-24T08:19:40.096285Z",
     "iopub.status.busy": "2023-02-24T08:19:40.095595Z",
     "iopub.status.idle": "2023-02-24T08:19:42.853817Z",
     "shell.execute_reply": "2023-02-24T08:19:42.853133Z"
    }
   },
   "outputs": [
    {
     "name": "stdout",
     "output_type": "stream",
     "text": [
      "339 µs ± 2.02 µs per loop (mean ± std. dev. of 7 runs, 1,000 loops each)\n"
     ]
    }
   ],
   "source": [
    "batch = Batch({\n",
    "    'obs': torch.randn(8, 4, 84, 84),\n",
    "    'action': torch.randint(0, 6, size=(8, 1,)),\n",
    "    'reward': torch.rand(8, 1)}\n",
    ")\n",
    "\n",
    "%timeit list(Batch.split(batch, 1, shuffle=False, merge_last=True))"
   ]
  },
  {
   "cell_type": "code",
   "execution_count": null,
   "id": "2539fbd9",
   "metadata": {},
   "outputs": [],
   "source": []
  }
 ],
 "metadata": {
  "kernelspec": {
   "display_name": "Python 3 (ipykernel)",
   "language": "python",
   "name": "python3"
  },
  "language_info": {
   "codemirror_mode": {
    "name": "ipython",
    "version": 3
   },
   "file_extension": ".py",
   "mimetype": "text/x-python",
   "name": "python",
   "nbconvert_exporter": "python",
   "pygments_lexer": "ipython3",
   "version": "3.8.16"
  }
 },
 "nbformat": 4,
 "nbformat_minor": 5
}
