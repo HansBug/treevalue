{
 "cells": [
  {
   "cell_type": "markdown",
   "id": "9d39d946",
   "metadata": {},
   "source": [
    "# Comparison Between TreeValue and Tianshou Batch"
   ]
  },
  {
   "cell_type": "markdown",
   "id": "3c6db2d4",
   "metadata": {},
   "source": [
    "In this section, we will take a look at the feature and performance of the [Tianshou Batch](https://github.com/thu-ml/tianshou) library, which is developed by Tsinghua Machine Learning Group."
   ]
  },
  {
   "cell_type": "markdown",
   "id": "069361b0",
   "metadata": {},
   "source": [
    "Before starting the comparison, let us define some thing."
   ]
  },
  {
   "cell_type": "code",
   "execution_count": 1,
   "id": "06fc8d26",
   "metadata": {
    "execution": {
     "iopub.execute_input": "2023-04-16T14:43:20.472332Z",
     "iopub.status.busy": "2023-04-16T14:43:20.471944Z",
     "iopub.status.idle": "2023-04-16T14:43:21.807888Z",
     "shell.execute_reply": "2023-04-16T14:43:21.807205Z"
    }
   },
   "outputs": [],
   "source": [
    "import torch \n",
    "\n",
    "_TREE_DATA_1 = {'a': 1, 'b': 2, 'x': {'c': 3, 'd': 4}}\n",
    "_TREE_DATA_2 = {\n",
    "    'a': torch.randn(2, 3), \n",
    "    'x': {\n",
    "        'c': torch.randn(3, 4)\n",
    "    },\n",
    "}\n",
    "_TREE_DATA_3 = {\n",
    "    'obs': torch.randn(4, 84, 84),\n",
    "    'action': torch.randint(0, 6, size=(1,)),\n",
    "    'reward': torch.rand(1),\n",
    "}"
   ]
  },
  {
   "cell_type": "markdown",
   "id": "83461b25",
   "metadata": {},
   "source": [
    "## Read and Write Operation"
   ]
  },
  {
   "cell_type": "markdown",
   "id": "067b3f73",
   "metadata": {},
   "source": [
    "Reading and writing are the two most common operations in the tree data structure based on the data model (TreeValue and Tianshou Batch both belong to this type), so this section will compare the reading and writing performance of these two libraries."
   ]
  },
  {
   "cell_type": "markdown",
   "id": "5d09a5b7",
   "metadata": {},
   "source": [
    "### TreeValue's Get and Set"
   ]
  },
  {
   "cell_type": "code",
   "execution_count": 2,
   "id": "9519c4bb",
   "metadata": {
    "execution": {
     "iopub.execute_input": "2023-04-16T14:43:21.811611Z",
     "iopub.status.busy": "2023-04-16T14:43:21.811102Z",
     "iopub.status.idle": "2023-04-16T14:43:21.839019Z",
     "shell.execute_reply": "2023-04-16T14:43:21.838379Z"
    }
   },
   "outputs": [],
   "source": [
    "from treevalue import FastTreeValue\n",
    "\n",
    "t = FastTreeValue(_TREE_DATA_2)"
   ]
  },
  {
   "cell_type": "code",
   "execution_count": 3,
   "id": "11c37677",
   "metadata": {
    "execution": {
     "iopub.execute_input": "2023-04-16T14:43:21.842483Z",
     "iopub.status.busy": "2023-04-16T14:43:21.841933Z",
     "iopub.status.idle": "2023-04-16T14:43:21.850304Z",
     "shell.execute_reply": "2023-04-16T14:43:21.849653Z"
    }
   },
   "outputs": [
    {
     "data": {
      "text/plain": [
       "<FastTreeValue 0x7f9ce42e3760>\n",
       "├── 'a' --> tensor([[-1.4750, -1.3367,  0.0080],\n",
       "│                   [-0.2362, -0.4234, -0.8862]])\n",
       "└── 'x' --> <FastTreeValue 0x7f9ce42e3fd0>\n",
       "    └── 'c' --> tensor([[ 0.8780,  1.7460, -0.1844,  1.0019],\n",
       "                        [-0.3078, -1.4227, -0.1423, -0.8636],\n",
       "                        [-0.6708, -1.4015, -1.2057, -0.3303]])"
      ]
     },
     "execution_count": 3,
     "metadata": {},
     "output_type": "execute_result"
    }
   ],
   "source": [
    "t"
   ]
  },
  {
   "cell_type": "code",
   "execution_count": 4,
   "id": "fd70b0b9",
   "metadata": {
    "execution": {
     "iopub.execute_input": "2023-04-16T14:43:21.853990Z",
     "iopub.status.busy": "2023-04-16T14:43:21.853637Z",
     "iopub.status.idle": "2023-04-16T14:43:21.858393Z",
     "shell.execute_reply": "2023-04-16T14:43:21.857778Z"
    }
   },
   "outputs": [
    {
     "data": {
      "text/plain": [
       "tensor([[-1.4750, -1.3367,  0.0080],\n",
       "        [-0.2362, -0.4234, -0.8862]])"
      ]
     },
     "execution_count": 4,
     "metadata": {},
     "output_type": "execute_result"
    }
   ],
   "source": [
    "t.a"
   ]
  },
  {
   "cell_type": "code",
   "execution_count": 5,
   "id": "c18197bd",
   "metadata": {
    "execution": {
     "iopub.execute_input": "2023-04-16T14:43:21.861506Z",
     "iopub.status.busy": "2023-04-16T14:43:21.861175Z",
     "iopub.status.idle": "2023-04-16T14:43:26.923792Z",
     "shell.execute_reply": "2023-04-16T14:43:26.922596Z"
    }
   },
   "outputs": [
    {
     "name": "stdout",
     "output_type": "stream",
     "text": [
      "61.5 ns ± 0.0602 ns per loop (mean ± std. dev. of 7 runs, 10,000,000 loops each)\n"
     ]
    }
   ],
   "source": [
    "%timeit t.a"
   ]
  },
  {
   "cell_type": "code",
   "execution_count": 6,
   "id": "bd52f867",
   "metadata": {
    "execution": {
     "iopub.execute_input": "2023-04-16T14:43:26.927071Z",
     "iopub.status.busy": "2023-04-16T14:43:26.926550Z",
     "iopub.status.idle": "2023-04-16T14:43:26.932466Z",
     "shell.execute_reply": "2023-04-16T14:43:26.931839Z"
    }
   },
   "outputs": [
    {
     "data": {
      "text/plain": [
       "<FastTreeValue 0x7f9ce42e3760>\n",
       "├── 'a' --> tensor([[-0.7074,  0.8171,  0.6072],\n",
       "│                   [-0.2061,  1.9341, -0.3205]])\n",
       "└── 'x' --> <FastTreeValue 0x7f9ce42e3fd0>\n",
       "    └── 'c' --> tensor([[ 0.8780,  1.7460, -0.1844,  1.0019],\n",
       "                        [-0.3078, -1.4227, -0.1423, -0.8636],\n",
       "                        [-0.6708, -1.4015, -1.2057, -0.3303]])"
      ]
     },
     "execution_count": 6,
     "metadata": {},
     "output_type": "execute_result"
    }
   ],
   "source": [
    "new_value = torch.randn(2, 3)\n",
    "t.a = new_value\n",
    "\n",
    "t"
   ]
  },
  {
   "cell_type": "code",
   "execution_count": 7,
   "id": "bbe04d1c",
   "metadata": {
    "execution": {
     "iopub.execute_input": "2023-04-16T14:43:26.935101Z",
     "iopub.status.busy": "2023-04-16T14:43:26.934766Z",
     "iopub.status.idle": "2023-04-16T14:43:32.057518Z",
     "shell.execute_reply": "2023-04-16T14:43:32.056785Z"
    }
   },
   "outputs": [
    {
     "name": "stdout",
     "output_type": "stream",
     "text": [
      "62.7 ns ± 0.0233 ns per loop (mean ± std. dev. of 7 runs, 10,000,000 loops each)\n"
     ]
    }
   ],
   "source": [
    "%timeit t.a = new_value"
   ]
  },
  {
   "cell_type": "markdown",
   "id": "48c49731",
   "metadata": {},
   "source": [
    "### Tianshou Batch's Get and Set"
   ]
  },
  {
   "cell_type": "code",
   "execution_count": 8,
   "id": "f1bb14c1",
   "metadata": {
    "execution": {
     "iopub.execute_input": "2023-04-16T14:43:32.060734Z",
     "iopub.status.busy": "2023-04-16T14:43:32.060373Z",
     "iopub.status.idle": "2023-04-16T14:43:32.423555Z",
     "shell.execute_reply": "2023-04-16T14:43:32.422885Z"
    }
   },
   "outputs": [],
   "source": [
    "from tianshou.data import Batch\n",
    "\n",
    "b = Batch(**_TREE_DATA_2)"
   ]
  },
  {
   "cell_type": "code",
   "execution_count": 9,
   "id": "cb0777c3",
   "metadata": {
    "execution": {
     "iopub.execute_input": "2023-04-16T14:43:32.427157Z",
     "iopub.status.busy": "2023-04-16T14:43:32.426694Z",
     "iopub.status.idle": "2023-04-16T14:43:32.434505Z",
     "shell.execute_reply": "2023-04-16T14:43:32.433903Z"
    }
   },
   "outputs": [
    {
     "data": {
      "text/plain": [
       "Batch(\n",
       "    a: tensor([[-1.4750, -1.3367,  0.0080],\n",
       "               [-0.2362, -0.4234, -0.8862]]),\n",
       "    x: Batch(\n",
       "           c: tensor([[ 0.8780,  1.7460, -0.1844,  1.0019],\n",
       "                      [-0.3078, -1.4227, -0.1423, -0.8636],\n",
       "                      [-0.6708, -1.4015, -1.2057, -0.3303]]),\n",
       "       ),\n",
       ")"
      ]
     },
     "execution_count": 9,
     "metadata": {},
     "output_type": "execute_result"
    }
   ],
   "source": [
    "b"
   ]
  },
  {
   "cell_type": "code",
   "execution_count": 10,
   "id": "43ef8ea3",
   "metadata": {
    "execution": {
     "iopub.execute_input": "2023-04-16T14:43:32.437756Z",
     "iopub.status.busy": "2023-04-16T14:43:32.437252Z",
     "iopub.status.idle": "2023-04-16T14:43:32.442616Z",
     "shell.execute_reply": "2023-04-16T14:43:32.441981Z"
    }
   },
   "outputs": [
    {
     "data": {
      "text/plain": [
       "tensor([[-1.4750, -1.3367,  0.0080],\n",
       "        [-0.2362, -0.4234, -0.8862]])"
      ]
     },
     "execution_count": 10,
     "metadata": {},
     "output_type": "execute_result"
    }
   ],
   "source": [
    "b.a"
   ]
  },
  {
   "cell_type": "code",
   "execution_count": 11,
   "id": "b785ab72",
   "metadata": {
    "execution": {
     "iopub.execute_input": "2023-04-16T14:43:32.445500Z",
     "iopub.status.busy": "2023-04-16T14:43:32.445146Z",
     "iopub.status.idle": "2023-04-16T14:43:37.339510Z",
     "shell.execute_reply": "2023-04-16T14:43:37.338924Z"
    }
   },
   "outputs": [
    {
     "name": "stdout",
     "output_type": "stream",
     "text": [
      "60 ns ± 0.0127 ns per loop (mean ± std. dev. of 7 runs, 10,000,000 loops each)\n"
     ]
    }
   ],
   "source": [
    "%timeit b.a"
   ]
  },
  {
   "cell_type": "code",
   "execution_count": 12,
   "id": "ad54dc69",
   "metadata": {
    "execution": {
     "iopub.execute_input": "2023-04-16T14:43:37.342558Z",
     "iopub.status.busy": "2023-04-16T14:43:37.342091Z",
     "iopub.status.idle": "2023-04-16T14:43:37.347907Z",
     "shell.execute_reply": "2023-04-16T14:43:37.347233Z"
    }
   },
   "outputs": [
    {
     "data": {
      "text/plain": [
       "Batch(\n",
       "    a: tensor([[ 0.2016,  0.0427, -1.9808],\n",
       "               [ 0.8172,  0.7630,  0.0601]]),\n",
       "    x: Batch(\n",
       "           c: tensor([[ 0.8780,  1.7460, -0.1844,  1.0019],\n",
       "                      [-0.3078, -1.4227, -0.1423, -0.8636],\n",
       "                      [-0.6708, -1.4015, -1.2057, -0.3303]]),\n",
       "       ),\n",
       ")"
      ]
     },
     "execution_count": 12,
     "metadata": {},
     "output_type": "execute_result"
    }
   ],
   "source": [
    "new_value = torch.randn(2, 3)\n",
    "b.a = new_value\n",
    "\n",
    "b"
   ]
  },
  {
   "cell_type": "code",
   "execution_count": 13,
   "id": "29b1d0bf",
   "metadata": {
    "execution": {
     "iopub.execute_input": "2023-04-16T14:43:37.350668Z",
     "iopub.status.busy": "2023-04-16T14:43:37.350323Z",
     "iopub.status.idle": "2023-04-16T14:43:41.321962Z",
     "shell.execute_reply": "2023-04-16T14:43:41.320928Z"
    }
   },
   "outputs": [
    {
     "name": "stdout",
     "output_type": "stream",
     "text": [
      "489 ns ± 0.137 ns per loop (mean ± std. dev. of 7 runs, 1,000,000 loops each)\n"
     ]
    }
   ],
   "source": [
    "%timeit b.a = new_value"
   ]
  },
  {
   "cell_type": "markdown",
   "id": "b61ad1d0",
   "metadata": {},
   "source": [
    "## Initialization"
   ]
  },
  {
   "cell_type": "markdown",
   "id": "d70f0d54",
   "metadata": {},
   "source": [
    "### TreeValue's Initialization"
   ]
  },
  {
   "cell_type": "code",
   "execution_count": 14,
   "id": "d32a679b",
   "metadata": {
    "execution": {
     "iopub.execute_input": "2023-04-16T14:43:41.325314Z",
     "iopub.status.busy": "2023-04-16T14:43:41.324781Z",
     "iopub.status.idle": "2023-04-16T14:43:48.186250Z",
     "shell.execute_reply": "2023-04-16T14:43:48.185566Z"
    }
   },
   "outputs": [
    {
     "name": "stdout",
     "output_type": "stream",
     "text": [
      "845 ns ± 0.13 ns per loop (mean ± std. dev. of 7 runs, 1,000,000 loops each)\n"
     ]
    }
   ],
   "source": [
    "%timeit FastTreeValue(_TREE_DATA_1)"
   ]
  },
  {
   "cell_type": "markdown",
   "id": "24f3707b",
   "metadata": {},
   "source": [
    "### Tianshou Batch's Initialization"
   ]
  },
  {
   "cell_type": "code",
   "execution_count": 15,
   "id": "ac3958df",
   "metadata": {
    "execution": {
     "iopub.execute_input": "2023-04-16T14:43:48.189606Z",
     "iopub.status.busy": "2023-04-16T14:43:48.189241Z",
     "iopub.status.idle": "2023-04-16T14:43:57.470967Z",
     "shell.execute_reply": "2023-04-16T14:43:57.470350Z"
    }
   },
   "outputs": [
    {
     "name": "stdout",
     "output_type": "stream",
     "text": [
      "11.4 µs ± 42 ns per loop (mean ± std. dev. of 7 runs, 100,000 loops each)\n"
     ]
    }
   ],
   "source": [
    "%timeit Batch(**_TREE_DATA_1)"
   ]
  },
  {
   "cell_type": "markdown",
   "id": "1ab82e2d",
   "metadata": {},
   "source": [
    "## Deep Copy Operation"
   ]
  },
  {
   "cell_type": "code",
   "execution_count": 16,
   "id": "210a9442",
   "metadata": {
    "execution": {
     "iopub.execute_input": "2023-04-16T14:43:57.474534Z",
     "iopub.status.busy": "2023-04-16T14:43:57.474137Z",
     "iopub.status.idle": "2023-04-16T14:43:57.477392Z",
     "shell.execute_reply": "2023-04-16T14:43:57.476746Z"
    }
   },
   "outputs": [],
   "source": [
    "import copy"
   ]
  },
  {
   "cell_type": "markdown",
   "id": "5a736274",
   "metadata": {},
   "source": [
    "### Deep Copy of TreeValue"
   ]
  },
  {
   "cell_type": "code",
   "execution_count": 17,
   "id": "f9bcadd6",
   "metadata": {
    "execution": {
     "iopub.execute_input": "2023-04-16T14:43:57.480422Z",
     "iopub.status.busy": "2023-04-16T14:43:57.480075Z",
     "iopub.status.idle": "2023-04-16T14:44:08.749486Z",
     "shell.execute_reply": "2023-04-16T14:44:08.748900Z"
    }
   },
   "outputs": [
    {
     "name": "stdout",
     "output_type": "stream",
     "text": [
      "139 µs ± 661 ns per loop (mean ± std. dev. of 7 runs, 10,000 loops each)\n"
     ]
    }
   ],
   "source": [
    "t3 = FastTreeValue(_TREE_DATA_3)\n",
    "%timeit copy.deepcopy(t3)"
   ]
  },
  {
   "cell_type": "markdown",
   "id": "bf8be7ea",
   "metadata": {},
   "source": [
    "### Deep Copy of Tianshou Batch"
   ]
  },
  {
   "cell_type": "code",
   "execution_count": 18,
   "id": "91998e6f",
   "metadata": {
    "execution": {
     "iopub.execute_input": "2023-04-16T14:44:08.754135Z",
     "iopub.status.busy": "2023-04-16T14:44:08.753108Z",
     "iopub.status.idle": "2023-04-16T14:44:20.302250Z",
     "shell.execute_reply": "2023-04-16T14:44:20.301660Z"
    }
   },
   "outputs": [
    {
     "name": "stdout",
     "output_type": "stream",
     "text": [
      "142 µs ± 1.29 µs per loop (mean ± std. dev. of 7 runs, 10,000 loops each)\n"
     ]
    }
   ],
   "source": [
    "b3 = Batch(**_TREE_DATA_3)\n",
    "%timeit copy.deepcopy(b3)"
   ]
  },
  {
   "cell_type": "markdown",
   "id": "223162fb",
   "metadata": {},
   "source": [
    "## Stack, Concat and Split Operation"
   ]
  },
  {
   "cell_type": "markdown",
   "id": "85fa4a73",
   "metadata": {},
   "source": [
    "### Performance of TreeValue"
   ]
  },
  {
   "cell_type": "code",
   "execution_count": 19,
   "id": "a0c2b697",
   "metadata": {
    "execution": {
     "iopub.execute_input": "2023-04-16T14:44:20.306181Z",
     "iopub.status.busy": "2023-04-16T14:44:20.305715Z",
     "iopub.status.idle": "2023-04-16T14:44:20.310211Z",
     "shell.execute_reply": "2023-04-16T14:44:20.309617Z"
    }
   },
   "outputs": [],
   "source": [
    "trees = [FastTreeValue(_TREE_DATA_2) for _ in range(8)]"
   ]
  },
  {
   "cell_type": "code",
   "execution_count": 20,
   "id": "017ea5a5",
   "metadata": {
    "execution": {
     "iopub.execute_input": "2023-04-16T14:44:20.313139Z",
     "iopub.status.busy": "2023-04-16T14:44:20.312780Z",
     "iopub.status.idle": "2023-04-16T14:44:20.321240Z",
     "shell.execute_reply": "2023-04-16T14:44:20.320614Z"
    }
   },
   "outputs": [
    {
     "data": {
      "text/plain": [
       "<FastTreeValue 0x7f9ce42d4100>\n",
       "├── 'a' --> tensor([[[-1.4750, -1.3367,  0.0080],\n",
       "│                    [-0.2362, -0.4234, -0.8862]],\n",
       "│           \n",
       "│                   [[-1.4750, -1.3367,  0.0080],\n",
       "│                    [-0.2362, -0.4234, -0.8862]],\n",
       "│           \n",
       "│                   [[-1.4750, -1.3367,  0.0080],\n",
       "│                    [-0.2362, -0.4234, -0.8862]],\n",
       "│           \n",
       "│                   [[-1.4750, -1.3367,  0.0080],\n",
       "│                    [-0.2362, -0.4234, -0.8862]],\n",
       "│           \n",
       "│                   [[-1.4750, -1.3367,  0.0080],\n",
       "│                    [-0.2362, -0.4234, -0.8862]],\n",
       "│           \n",
       "│                   [[-1.4750, -1.3367,  0.0080],\n",
       "│                    [-0.2362, -0.4234, -0.8862]],\n",
       "│           \n",
       "│                   [[-1.4750, -1.3367,  0.0080],\n",
       "│                    [-0.2362, -0.4234, -0.8862]],\n",
       "│           \n",
       "│                   [[-1.4750, -1.3367,  0.0080],\n",
       "│                    [-0.2362, -0.4234, -0.8862]]])\n",
       "└── 'x' --> <FastTreeValue 0x7f9c18bc8280>\n",
       "    └── 'c' --> tensor([[[ 0.8780,  1.7460, -0.1844,  1.0019],\n",
       "                         [-0.3078, -1.4227, -0.1423, -0.8636],\n",
       "                         [-0.6708, -1.4015, -1.2057, -0.3303]],\n",
       "                \n",
       "                        [[ 0.8780,  1.7460, -0.1844,  1.0019],\n",
       "                         [-0.3078, -1.4227, -0.1423, -0.8636],\n",
       "                         [-0.6708, -1.4015, -1.2057, -0.3303]],\n",
       "                \n",
       "                        [[ 0.8780,  1.7460, -0.1844,  1.0019],\n",
       "                         [-0.3078, -1.4227, -0.1423, -0.8636],\n",
       "                         [-0.6708, -1.4015, -1.2057, -0.3303]],\n",
       "                \n",
       "                        [[ 0.8780,  1.7460, -0.1844,  1.0019],\n",
       "                         [-0.3078, -1.4227, -0.1423, -0.8636],\n",
       "                         [-0.6708, -1.4015, -1.2057, -0.3303]],\n",
       "                \n",
       "                        [[ 0.8780,  1.7460, -0.1844,  1.0019],\n",
       "                         [-0.3078, -1.4227, -0.1423, -0.8636],\n",
       "                         [-0.6708, -1.4015, -1.2057, -0.3303]],\n",
       "                \n",
       "                        [[ 0.8780,  1.7460, -0.1844,  1.0019],\n",
       "                         [-0.3078, -1.4227, -0.1423, -0.8636],\n",
       "                         [-0.6708, -1.4015, -1.2057, -0.3303]],\n",
       "                \n",
       "                        [[ 0.8780,  1.7460, -0.1844,  1.0019],\n",
       "                         [-0.3078, -1.4227, -0.1423, -0.8636],\n",
       "                         [-0.6708, -1.4015, -1.2057, -0.3303]],\n",
       "                \n",
       "                        [[ 0.8780,  1.7460, -0.1844,  1.0019],\n",
       "                         [-0.3078, -1.4227, -0.1423, -0.8636],\n",
       "                         [-0.6708, -1.4015, -1.2057, -0.3303]]])"
      ]
     },
     "execution_count": 20,
     "metadata": {},
     "output_type": "execute_result"
    }
   ],
   "source": [
    "t_stack = FastTreeValue.func(subside=True)(torch.stack)\n",
    "\n",
    "t_stack(trees)"
   ]
  },
  {
   "cell_type": "code",
   "execution_count": 21,
   "id": "f8b3f415",
   "metadata": {
    "execution": {
     "iopub.execute_input": "2023-04-16T14:44:20.323960Z",
     "iopub.status.busy": "2023-04-16T14:44:20.323753Z",
     "iopub.status.idle": "2023-04-16T14:44:23.008956Z",
     "shell.execute_reply": "2023-04-16T14:44:23.008374Z"
    }
   },
   "outputs": [
    {
     "name": "stdout",
     "output_type": "stream",
     "text": [
      "33 µs ± 22 ns per loop (mean ± std. dev. of 7 runs, 10,000 loops each)\n"
     ]
    }
   ],
   "source": [
    "%timeit t_stack(trees)"
   ]
  },
  {
   "cell_type": "code",
   "execution_count": 22,
   "id": "94b56771",
   "metadata": {
    "execution": {
     "iopub.execute_input": "2023-04-16T14:44:23.012408Z",
     "iopub.status.busy": "2023-04-16T14:44:23.011924Z",
     "iopub.status.idle": "2023-04-16T14:44:23.019383Z",
     "shell.execute_reply": "2023-04-16T14:44:23.018711Z"
    }
   },
   "outputs": [
    {
     "data": {
      "text/plain": [
       "<FastTreeValue 0x7f9c1888ad30>\n",
       "├── 'a' --> tensor([[-1.4750, -1.3367,  0.0080],\n",
       "│                   [-0.2362, -0.4234, -0.8862],\n",
       "│                   [-1.4750, -1.3367,  0.0080],\n",
       "│                   [-0.2362, -0.4234, -0.8862],\n",
       "│                   [-1.4750, -1.3367,  0.0080],\n",
       "│                   [-0.2362, -0.4234, -0.8862],\n",
       "│                   [-1.4750, -1.3367,  0.0080],\n",
       "│                   [-0.2362, -0.4234, -0.8862],\n",
       "│                   [-1.4750, -1.3367,  0.0080],\n",
       "│                   [-0.2362, -0.4234, -0.8862],\n",
       "│                   [-1.4750, -1.3367,  0.0080],\n",
       "│                   [-0.2362, -0.4234, -0.8862],\n",
       "│                   [-1.4750, -1.3367,  0.0080],\n",
       "│                   [-0.2362, -0.4234, -0.8862],\n",
       "│                   [-1.4750, -1.3367,  0.0080],\n",
       "│                   [-0.2362, -0.4234, -0.8862]])\n",
       "└── 'x' --> <FastTreeValue 0x7f9c1888abe0>\n",
       "    └── 'c' --> tensor([[ 0.8780,  1.7460, -0.1844,  1.0019],\n",
       "                        [-0.3078, -1.4227, -0.1423, -0.8636],\n",
       "                        [-0.6708, -1.4015, -1.2057, -0.3303],\n",
       "                        [ 0.8780,  1.7460, -0.1844,  1.0019],\n",
       "                        [-0.3078, -1.4227, -0.1423, -0.8636],\n",
       "                        [-0.6708, -1.4015, -1.2057, -0.3303],\n",
       "                        [ 0.8780,  1.7460, -0.1844,  1.0019],\n",
       "                        [-0.3078, -1.4227, -0.1423, -0.8636],\n",
       "                        [-0.6708, -1.4015, -1.2057, -0.3303],\n",
       "                        [ 0.8780,  1.7460, -0.1844,  1.0019],\n",
       "                        [-0.3078, -1.4227, -0.1423, -0.8636],\n",
       "                        [-0.6708, -1.4015, -1.2057, -0.3303],\n",
       "                        [ 0.8780,  1.7460, -0.1844,  1.0019],\n",
       "                        [-0.3078, -1.4227, -0.1423, -0.8636],\n",
       "                        [-0.6708, -1.4015, -1.2057, -0.3303],\n",
       "                        [ 0.8780,  1.7460, -0.1844,  1.0019],\n",
       "                        [-0.3078, -1.4227, -0.1423, -0.8636],\n",
       "                        [-0.6708, -1.4015, -1.2057, -0.3303],\n",
       "                        [ 0.8780,  1.7460, -0.1844,  1.0019],\n",
       "                        [-0.3078, -1.4227, -0.1423, -0.8636],\n",
       "                        [-0.6708, -1.4015, -1.2057, -0.3303],\n",
       "                        [ 0.8780,  1.7460, -0.1844,  1.0019],\n",
       "                        [-0.3078, -1.4227, -0.1423, -0.8636],\n",
       "                        [-0.6708, -1.4015, -1.2057, -0.3303]])"
      ]
     },
     "execution_count": 22,
     "metadata": {},
     "output_type": "execute_result"
    }
   ],
   "source": [
    "t_cat = FastTreeValue.func(subside=True)(torch.cat)\n",
    "\n",
    "t_cat(trees)"
   ]
  },
  {
   "cell_type": "code",
   "execution_count": 23,
   "id": "5e9c06a6",
   "metadata": {
    "execution": {
     "iopub.execute_input": "2023-04-16T14:44:23.022729Z",
     "iopub.status.busy": "2023-04-16T14:44:23.022351Z",
     "iopub.status.idle": "2023-04-16T14:44:25.522968Z",
     "shell.execute_reply": "2023-04-16T14:44:25.522401Z"
    }
   },
   "outputs": [
    {
     "name": "stdout",
     "output_type": "stream",
     "text": [
      "30.7 µs ± 65.2 ns per loop (mean ± std. dev. of 7 runs, 10,000 loops each)\n"
     ]
    }
   ],
   "source": [
    "%timeit t_cat(trees)"
   ]
  },
  {
   "cell_type": "code",
   "execution_count": 24,
   "id": "a3ab5c8f",
   "metadata": {
    "execution": {
     "iopub.execute_input": "2023-04-16T14:44:25.525726Z",
     "iopub.status.busy": "2023-04-16T14:44:25.525518Z",
     "iopub.status.idle": "2023-04-16T14:44:30.960133Z",
     "shell.execute_reply": "2023-04-16T14:44:30.959538Z"
    }
   },
   "outputs": [
    {
     "name": "stdout",
     "output_type": "stream",
     "text": [
      "66.9 µs ± 157 ns per loop (mean ± std. dev. of 7 runs, 10,000 loops each)\n"
     ]
    }
   ],
   "source": [
    "t_split = FastTreeValue.func(rise=True)(torch.split)\n",
    "tree = FastTreeValue({\n",
    "    'obs': torch.randn(8, 4, 84, 84),\n",
    "    'action': torch.randint(0, 6, size=(8, 1,)),\n",
    "    'reward': torch.rand(8, 1),\n",
    "})\n",
    "\n",
    "%timeit t_split(tree, 1)"
   ]
  },
  {
   "cell_type": "markdown",
   "id": "31c3ec0b",
   "metadata": {},
   "source": [
    "### Performance of Tianshou Batch"
   ]
  },
  {
   "cell_type": "code",
   "execution_count": 25,
   "id": "9ead828a",
   "metadata": {
    "execution": {
     "iopub.execute_input": "2023-04-16T14:44:30.963294Z",
     "iopub.status.busy": "2023-04-16T14:44:30.962691Z",
     "iopub.status.idle": "2023-04-16T14:44:30.970164Z",
     "shell.execute_reply": "2023-04-16T14:44:30.969507Z"
    }
   },
   "outputs": [
    {
     "data": {
      "text/plain": [
       "Batch(\n",
       "    a: tensor([[[-1.4750, -1.3367,  0.0080],\n",
       "                [-0.2362, -0.4234, -0.8862]],\n",
       "       \n",
       "               [[-1.4750, -1.3367,  0.0080],\n",
       "                [-0.2362, -0.4234, -0.8862]],\n",
       "       \n",
       "               [[-1.4750, -1.3367,  0.0080],\n",
       "                [-0.2362, -0.4234, -0.8862]],\n",
       "       \n",
       "               [[-1.4750, -1.3367,  0.0080],\n",
       "                [-0.2362, -0.4234, -0.8862]],\n",
       "       \n",
       "               [[-1.4750, -1.3367,  0.0080],\n",
       "                [-0.2362, -0.4234, -0.8862]],\n",
       "       \n",
       "               [[-1.4750, -1.3367,  0.0080],\n",
       "                [-0.2362, -0.4234, -0.8862]],\n",
       "       \n",
       "               [[-1.4750, -1.3367,  0.0080],\n",
       "                [-0.2362, -0.4234, -0.8862]],\n",
       "       \n",
       "               [[-1.4750, -1.3367,  0.0080],\n",
       "                [-0.2362, -0.4234, -0.8862]]]),\n",
       "    x: Batch(\n",
       "           c: tensor([[[ 0.8780,  1.7460, -0.1844,  1.0019],\n",
       "                       [-0.3078, -1.4227, -0.1423, -0.8636],\n",
       "                       [-0.6708, -1.4015, -1.2057, -0.3303]],\n",
       "              \n",
       "                      [[ 0.8780,  1.7460, -0.1844,  1.0019],\n",
       "                       [-0.3078, -1.4227, -0.1423, -0.8636],\n",
       "                       [-0.6708, -1.4015, -1.2057, -0.3303]],\n",
       "              \n",
       "                      [[ 0.8780,  1.7460, -0.1844,  1.0019],\n",
       "                       [-0.3078, -1.4227, -0.1423, -0.8636],\n",
       "                       [-0.6708, -1.4015, -1.2057, -0.3303]],\n",
       "              \n",
       "                      [[ 0.8780,  1.7460, -0.1844,  1.0019],\n",
       "                       [-0.3078, -1.4227, -0.1423, -0.8636],\n",
       "                       [-0.6708, -1.4015, -1.2057, -0.3303]],\n",
       "              \n",
       "                      [[ 0.8780,  1.7460, -0.1844,  1.0019],\n",
       "                       [-0.3078, -1.4227, -0.1423, -0.8636],\n",
       "                       [-0.6708, -1.4015, -1.2057, -0.3303]],\n",
       "              \n",
       "                      [[ 0.8780,  1.7460, -0.1844,  1.0019],\n",
       "                       [-0.3078, -1.4227, -0.1423, -0.8636],\n",
       "                       [-0.6708, -1.4015, -1.2057, -0.3303]],\n",
       "              \n",
       "                      [[ 0.8780,  1.7460, -0.1844,  1.0019],\n",
       "                       [-0.3078, -1.4227, -0.1423, -0.8636],\n",
       "                       [-0.6708, -1.4015, -1.2057, -0.3303]],\n",
       "              \n",
       "                      [[ 0.8780,  1.7460, -0.1844,  1.0019],\n",
       "                       [-0.3078, -1.4227, -0.1423, -0.8636],\n",
       "                       [-0.6708, -1.4015, -1.2057, -0.3303]]]),\n",
       "       ),\n",
       ")"
      ]
     },
     "execution_count": 25,
     "metadata": {},
     "output_type": "execute_result"
    }
   ],
   "source": [
    "batches = [Batch(**_TREE_DATA_2) for _ in range(8)]\n",
    "\n",
    "Batch.stack(batches)"
   ]
  },
  {
   "cell_type": "code",
   "execution_count": 26,
   "id": "ec9037a3",
   "metadata": {
    "execution": {
     "iopub.execute_input": "2023-04-16T14:44:30.973055Z",
     "iopub.status.busy": "2023-04-16T14:44:30.972701Z",
     "iopub.status.idle": "2023-04-16T14:44:37.422156Z",
     "shell.execute_reply": "2023-04-16T14:44:37.421564Z"
    }
   },
   "outputs": [
    {
     "name": "stdout",
     "output_type": "stream",
     "text": [
      "79.4 µs ± 101 ns per loop (mean ± std. dev. of 7 runs, 10,000 loops each)\n"
     ]
    }
   ],
   "source": [
    "%timeit Batch.stack(batches)"
   ]
  },
  {
   "cell_type": "code",
   "execution_count": 27,
   "id": "cb8ab77e",
   "metadata": {
    "execution": {
     "iopub.execute_input": "2023-04-16T14:44:37.425286Z",
     "iopub.status.busy": "2023-04-16T14:44:37.424686Z",
     "iopub.status.idle": "2023-04-16T14:44:37.432012Z",
     "shell.execute_reply": "2023-04-16T14:44:37.431306Z"
    }
   },
   "outputs": [
    {
     "data": {
      "text/plain": [
       "Batch(\n",
       "    a: tensor([[-1.4750, -1.3367,  0.0080],\n",
       "               [-0.2362, -0.4234, -0.8862],\n",
       "               [-1.4750, -1.3367,  0.0080],\n",
       "               [-0.2362, -0.4234, -0.8862],\n",
       "               [-1.4750, -1.3367,  0.0080],\n",
       "               [-0.2362, -0.4234, -0.8862],\n",
       "               [-1.4750, -1.3367,  0.0080],\n",
       "               [-0.2362, -0.4234, -0.8862],\n",
       "               [-1.4750, -1.3367,  0.0080],\n",
       "               [-0.2362, -0.4234, -0.8862],\n",
       "               [-1.4750, -1.3367,  0.0080],\n",
       "               [-0.2362, -0.4234, -0.8862],\n",
       "               [-1.4750, -1.3367,  0.0080],\n",
       "               [-0.2362, -0.4234, -0.8862],\n",
       "               [-1.4750, -1.3367,  0.0080],\n",
       "               [-0.2362, -0.4234, -0.8862]]),\n",
       "    x: Batch(\n",
       "           c: tensor([[ 0.8780,  1.7460, -0.1844,  1.0019],\n",
       "                      [-0.3078, -1.4227, -0.1423, -0.8636],\n",
       "                      [-0.6708, -1.4015, -1.2057, -0.3303],\n",
       "                      [ 0.8780,  1.7460, -0.1844,  1.0019],\n",
       "                      [-0.3078, -1.4227, -0.1423, -0.8636],\n",
       "                      [-0.6708, -1.4015, -1.2057, -0.3303],\n",
       "                      [ 0.8780,  1.7460, -0.1844,  1.0019],\n",
       "                      [-0.3078, -1.4227, -0.1423, -0.8636],\n",
       "                      [-0.6708, -1.4015, -1.2057, -0.3303],\n",
       "                      [ 0.8780,  1.7460, -0.1844,  1.0019],\n",
       "                      [-0.3078, -1.4227, -0.1423, -0.8636],\n",
       "                      [-0.6708, -1.4015, -1.2057, -0.3303],\n",
       "                      [ 0.8780,  1.7460, -0.1844,  1.0019],\n",
       "                      [-0.3078, -1.4227, -0.1423, -0.8636],\n",
       "                      [-0.6708, -1.4015, -1.2057, -0.3303],\n",
       "                      [ 0.8780,  1.7460, -0.1844,  1.0019],\n",
       "                      [-0.3078, -1.4227, -0.1423, -0.8636],\n",
       "                      [-0.6708, -1.4015, -1.2057, -0.3303],\n",
       "                      [ 0.8780,  1.7460, -0.1844,  1.0019],\n",
       "                      [-0.3078, -1.4227, -0.1423, -0.8636],\n",
       "                      [-0.6708, -1.4015, -1.2057, -0.3303],\n",
       "                      [ 0.8780,  1.7460, -0.1844,  1.0019],\n",
       "                      [-0.3078, -1.4227, -0.1423, -0.8636],\n",
       "                      [-0.6708, -1.4015, -1.2057, -0.3303]]),\n",
       "       ),\n",
       ")"
      ]
     },
     "execution_count": 27,
     "metadata": {},
     "output_type": "execute_result"
    }
   ],
   "source": [
    "Batch.cat(batches)"
   ]
  },
  {
   "cell_type": "code",
   "execution_count": 28,
   "id": "18dfb045",
   "metadata": {
    "execution": {
     "iopub.execute_input": "2023-04-16T14:44:37.434936Z",
     "iopub.status.busy": "2023-04-16T14:44:37.434555Z",
     "iopub.status.idle": "2023-04-16T14:44:49.367818Z",
     "shell.execute_reply": "2023-04-16T14:44:49.367129Z"
    }
   },
   "outputs": [
    {
     "name": "stdout",
     "output_type": "stream",
     "text": [
      "147 µs ± 383 ns per loop (mean ± std. dev. of 7 runs, 10,000 loops each)\n"
     ]
    }
   ],
   "source": [
    "%timeit Batch.cat(batches)"
   ]
  },
  {
   "cell_type": "code",
   "execution_count": 29,
   "id": "c6688e51",
   "metadata": {
    "execution": {
     "iopub.execute_input": "2023-04-16T14:44:49.371315Z",
     "iopub.status.busy": "2023-04-16T14:44:49.370944Z",
     "iopub.status.idle": "2023-04-16T14:44:52.009189Z",
     "shell.execute_reply": "2023-04-16T14:44:52.008499Z"
    }
   },
   "outputs": [
    {
     "name": "stdout",
     "output_type": "stream",
     "text": [
      "324 µs ± 1.55 µs per loop (mean ± std. dev. of 7 runs, 1,000 loops each)\n"
     ]
    }
   ],
   "source": [
    "batch = Batch({\n",
    "    'obs': torch.randn(8, 4, 84, 84),\n",
    "    'action': torch.randint(0, 6, size=(8, 1,)),\n",
    "    'reward': torch.rand(8, 1)}\n",
    ")\n",
    "\n",
    "%timeit list(Batch.split(batch, 1, shuffle=False, merge_last=True))"
   ]
  },
  {
   "cell_type": "code",
   "execution_count": null,
   "id": "2539fbd9",
   "metadata": {},
   "outputs": [],
   "source": []
  }
 ],
 "metadata": {
  "kernelspec": {
   "display_name": "Python 3 (ipykernel)",
   "language": "python",
   "name": "python3"
  },
  "language_info": {
   "codemirror_mode": {
    "name": "ipython",
    "version": 3
   },
   "file_extension": ".py",
   "mimetype": "text/x-python",
   "name": "python",
   "nbconvert_exporter": "python",
   "pygments_lexer": "ipython3",
   "version": "3.8.16"
  }
 },
 "nbformat": 4,
 "nbformat_minor": 5
}
