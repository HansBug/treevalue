{
 "cells": [
  {
   "cell_type": "markdown",
   "id": "9d39d946",
   "metadata": {},
   "source": [
    "# Comparison Between TreeValue and Tianshou Batch"
   ]
  },
  {
   "cell_type": "markdown",
   "id": "3c6db2d4",
   "metadata": {},
   "source": [
    "In this section, we will take a look at the feature and performance of the [Tianshou Batch](https://github.com/thu-ml/tianshou) library, which is developed by Tsinghua Machine Learning Group."
   ]
  },
  {
   "cell_type": "markdown",
   "id": "069361b0",
   "metadata": {},
   "source": [
    "Before starting the comparison, let us define some thing."
   ]
  },
  {
   "cell_type": "code",
   "execution_count": 1,
   "id": "06fc8d26",
   "metadata": {
    "execution": {
     "iopub.execute_input": "2023-10-20T07:08:07.121019Z",
     "iopub.status.busy": "2023-10-20T07:08:07.120439Z",
     "iopub.status.idle": "2023-10-20T07:08:09.191971Z",
     "shell.execute_reply": "2023-10-20T07:08:09.190852Z"
    }
   },
   "outputs": [],
   "source": [
    "import torch \n",
    "\n",
    "_TREE_DATA_1 = {'a': 1, 'b': 2, 'x': {'c': 3, 'd': 4}}\n",
    "_TREE_DATA_2 = {\n",
    "    'a': torch.randn(2, 3), \n",
    "    'x': {\n",
    "        'c': torch.randn(3, 4)\n",
    "    },\n",
    "}\n",
    "_TREE_DATA_3 = {\n",
    "    'obs': torch.randn(4, 84, 84),\n",
    "    'action': torch.randint(0, 6, size=(1,)),\n",
    "    'reward': torch.rand(1),\n",
    "}"
   ]
  },
  {
   "cell_type": "markdown",
   "id": "83461b25",
   "metadata": {},
   "source": [
    "## Read and Write Operation"
   ]
  },
  {
   "cell_type": "markdown",
   "id": "067b3f73",
   "metadata": {},
   "source": [
    "Reading and writing are the two most common operations in the tree data structure based on the data model (TreeValue and Tianshou Batch both belong to this type), so this section will compare the reading and writing performance of these two libraries."
   ]
  },
  {
   "cell_type": "markdown",
   "id": "5d09a5b7",
   "metadata": {},
   "source": [
    "### TreeValue's Get and Set"
   ]
  },
  {
   "cell_type": "code",
   "execution_count": 2,
   "id": "9519c4bb",
   "metadata": {
    "execution": {
     "iopub.execute_input": "2023-10-20T07:08:09.197051Z",
     "iopub.status.busy": "2023-10-20T07:08:09.196642Z",
     "iopub.status.idle": "2023-10-20T07:08:09.238192Z",
     "shell.execute_reply": "2023-10-20T07:08:09.237118Z"
    }
   },
   "outputs": [],
   "source": [
    "from treevalue import FastTreeValue\n",
    "\n",
    "t = FastTreeValue(_TREE_DATA_2)"
   ]
  },
  {
   "cell_type": "code",
   "execution_count": 3,
   "id": "11c37677",
   "metadata": {
    "execution": {
     "iopub.execute_input": "2023-10-20T07:08:09.242711Z",
     "iopub.status.busy": "2023-10-20T07:08:09.242423Z",
     "iopub.status.idle": "2023-10-20T07:08:09.254550Z",
     "shell.execute_reply": "2023-10-20T07:08:09.253526Z"
    }
   },
   "outputs": [
    {
     "data": {
      "text/plain": [
       "<FastTreeValue 0x7f85bc956820>\n",
       "├── 'a' --> tensor([[-1.1338,  0.9034,  1.9563],\n",
       "│                   [-0.2072, -0.3906, -0.0051]])\n",
       "└── 'x' --> <FastTreeValue 0x7f85bc9569a0>\n",
       "    └── 'c' --> tensor([[-2.1356, -1.2087, -2.2359,  0.8187],\n",
       "                        [-0.0879, -1.0323, -1.0386, -0.5144],\n",
       "                        [-0.8357,  0.4749, -1.2028, -0.8404]])"
      ]
     },
     "execution_count": 3,
     "metadata": {},
     "output_type": "execute_result"
    }
   ],
   "source": [
    "t"
   ]
  },
  {
   "cell_type": "code",
   "execution_count": 4,
   "id": "fd70b0b9",
   "metadata": {
    "execution": {
     "iopub.execute_input": "2023-10-20T07:08:09.259367Z",
     "iopub.status.busy": "2023-10-20T07:08:09.258798Z",
     "iopub.status.idle": "2023-10-20T07:08:09.265701Z",
     "shell.execute_reply": "2023-10-20T07:08:09.264616Z"
    }
   },
   "outputs": [
    {
     "data": {
      "text/plain": [
       "tensor([[-1.1338,  0.9034,  1.9563],\n",
       "        [-0.2072, -0.3906, -0.0051]])"
      ]
     },
     "execution_count": 4,
     "metadata": {},
     "output_type": "execute_result"
    }
   ],
   "source": [
    "t.a"
   ]
  },
  {
   "cell_type": "code",
   "execution_count": 5,
   "id": "c18197bd",
   "metadata": {
    "execution": {
     "iopub.execute_input": "2023-10-20T07:08:09.269953Z",
     "iopub.status.busy": "2023-10-20T07:08:09.269664Z",
     "iopub.status.idle": "2023-10-20T07:08:16.566347Z",
     "shell.execute_reply": "2023-10-20T07:08:16.565440Z"
    }
   },
   "outputs": [
    {
     "name": "stdout",
     "output_type": "stream",
     "text": [
      "90.1 ns ± 1.63 ns per loop (mean ± std. dev. of 7 runs, 10,000,000 loops each)\n"
     ]
    }
   ],
   "source": [
    "%timeit t.a"
   ]
  },
  {
   "cell_type": "code",
   "execution_count": 6,
   "id": "bd52f867",
   "metadata": {
    "execution": {
     "iopub.execute_input": "2023-10-20T07:08:16.570389Z",
     "iopub.status.busy": "2023-10-20T07:08:16.569807Z",
     "iopub.status.idle": "2023-10-20T07:08:16.580832Z",
     "shell.execute_reply": "2023-10-20T07:08:16.579708Z"
    }
   },
   "outputs": [
    {
     "data": {
      "text/plain": [
       "<FastTreeValue 0x7f85bc956820>\n",
       "├── 'a' --> tensor([[-0.0858,  0.0588, -0.2778],\n",
       "│                   [ 0.6746,  1.4744,  0.2757]])\n",
       "└── 'x' --> <FastTreeValue 0x7f85bc9569a0>\n",
       "    └── 'c' --> tensor([[-2.1356, -1.2087, -2.2359,  0.8187],\n",
       "                        [-0.0879, -1.0323, -1.0386, -0.5144],\n",
       "                        [-0.8357,  0.4749, -1.2028, -0.8404]])"
      ]
     },
     "execution_count": 6,
     "metadata": {},
     "output_type": "execute_result"
    }
   ],
   "source": [
    "new_value = torch.randn(2, 3)\n",
    "t.a = new_value\n",
    "\n",
    "t"
   ]
  },
  {
   "cell_type": "code",
   "execution_count": 7,
   "id": "bbe04d1c",
   "metadata": {
    "execution": {
     "iopub.execute_input": "2023-10-20T07:08:16.584839Z",
     "iopub.status.busy": "2023-10-20T07:08:16.584554Z",
     "iopub.status.idle": "2023-10-20T07:08:23.707567Z",
     "shell.execute_reply": "2023-10-20T07:08:23.706638Z"
    }
   },
   "outputs": [
    {
     "name": "stdout",
     "output_type": "stream",
     "text": [
      "87.8 ns ± 1.62 ns per loop (mean ± std. dev. of 7 runs, 10,000,000 loops each)\n"
     ]
    }
   ],
   "source": [
    "%timeit t.a = new_value"
   ]
  },
  {
   "cell_type": "markdown",
   "id": "48c49731",
   "metadata": {},
   "source": [
    "### Tianshou Batch's Get and Set"
   ]
  },
  {
   "cell_type": "code",
   "execution_count": 8,
   "id": "f1bb14c1",
   "metadata": {
    "execution": {
     "iopub.execute_input": "2023-10-20T07:08:23.713837Z",
     "iopub.status.busy": "2023-10-20T07:08:23.711791Z",
     "iopub.status.idle": "2023-10-20T07:08:24.313707Z",
     "shell.execute_reply": "2023-10-20T07:08:24.312488Z"
    }
   },
   "outputs": [],
   "source": [
    "from tianshou.data import Batch\n",
    "\n",
    "b = Batch(**_TREE_DATA_2)"
   ]
  },
  {
   "cell_type": "code",
   "execution_count": 9,
   "id": "cb0777c3",
   "metadata": {
    "execution": {
     "iopub.execute_input": "2023-10-20T07:08:24.319218Z",
     "iopub.status.busy": "2023-10-20T07:08:24.317921Z",
     "iopub.status.idle": "2023-10-20T07:08:24.326564Z",
     "shell.execute_reply": "2023-10-20T07:08:24.325564Z"
    }
   },
   "outputs": [
    {
     "data": {
      "text/plain": [
       "Batch(\n",
       "    a: tensor([[-1.1338,  0.9034,  1.9563],\n",
       "               [-0.2072, -0.3906, -0.0051]]),\n",
       "    x: Batch(\n",
       "           c: tensor([[-2.1356, -1.2087, -2.2359,  0.8187],\n",
       "                      [-0.0879, -1.0323, -1.0386, -0.5144],\n",
       "                      [-0.8357,  0.4749, -1.2028, -0.8404]]),\n",
       "       ),\n",
       ")"
      ]
     },
     "execution_count": 9,
     "metadata": {},
     "output_type": "execute_result"
    }
   ],
   "source": [
    "b"
   ]
  },
  {
   "cell_type": "code",
   "execution_count": 10,
   "id": "43ef8ea3",
   "metadata": {
    "execution": {
     "iopub.execute_input": "2023-10-20T07:08:24.331451Z",
     "iopub.status.busy": "2023-10-20T07:08:24.330991Z",
     "iopub.status.idle": "2023-10-20T07:08:24.339832Z",
     "shell.execute_reply": "2023-10-20T07:08:24.338242Z"
    }
   },
   "outputs": [
    {
     "data": {
      "text/plain": [
       "tensor([[-1.1338,  0.9034,  1.9563],\n",
       "        [-0.2072, -0.3906, -0.0051]])"
      ]
     },
     "execution_count": 10,
     "metadata": {},
     "output_type": "execute_result"
    }
   ],
   "source": [
    "b.a"
   ]
  },
  {
   "cell_type": "code",
   "execution_count": 11,
   "id": "b785ab72",
   "metadata": {
    "execution": {
     "iopub.execute_input": "2023-10-20T07:08:24.343850Z",
     "iopub.status.busy": "2023-10-20T07:08:24.343518Z",
     "iopub.status.idle": "2023-10-20T07:08:30.394760Z",
     "shell.execute_reply": "2023-10-20T07:08:30.393856Z"
    }
   },
   "outputs": [
    {
     "name": "stdout",
     "output_type": "stream",
     "text": [
      "74.8 ns ± 2.36 ns per loop (mean ± std. dev. of 7 runs, 10,000,000 loops each)\n"
     ]
    }
   ],
   "source": [
    "%timeit b.a"
   ]
  },
  {
   "cell_type": "code",
   "execution_count": 12,
   "id": "ad54dc69",
   "metadata": {
    "execution": {
     "iopub.execute_input": "2023-10-20T07:08:30.398848Z",
     "iopub.status.busy": "2023-10-20T07:08:30.398351Z",
     "iopub.status.idle": "2023-10-20T07:08:30.407585Z",
     "shell.execute_reply": "2023-10-20T07:08:30.406557Z"
    }
   },
   "outputs": [
    {
     "data": {
      "text/plain": [
       "Batch(\n",
       "    a: tensor([[-0.7424,  1.9736, -1.3229],\n",
       "               [ 1.2073, -1.4259, -0.8783]]),\n",
       "    x: Batch(\n",
       "           c: tensor([[-2.1356, -1.2087, -2.2359,  0.8187],\n",
       "                      [-0.0879, -1.0323, -1.0386, -0.5144],\n",
       "                      [-0.8357,  0.4749, -1.2028, -0.8404]]),\n",
       "       ),\n",
       ")"
      ]
     },
     "execution_count": 12,
     "metadata": {},
     "output_type": "execute_result"
    }
   ],
   "source": [
    "new_value = torch.randn(2, 3)\n",
    "b.a = new_value\n",
    "\n",
    "b"
   ]
  },
  {
   "cell_type": "code",
   "execution_count": 13,
   "id": "29b1d0bf",
   "metadata": {
    "execution": {
     "iopub.execute_input": "2023-10-20T07:08:30.412764Z",
     "iopub.status.busy": "2023-10-20T07:08:30.412144Z",
     "iopub.status.idle": "2023-10-20T07:08:35.984453Z",
     "shell.execute_reply": "2023-10-20T07:08:35.982228Z"
    }
   },
   "outputs": [
    {
     "name": "stdout",
     "output_type": "stream",
     "text": [
      "687 ns ± 22.1 ns per loop (mean ± std. dev. of 7 runs, 1,000,000 loops each)\n"
     ]
    }
   ],
   "source": [
    "%timeit b.a = new_value"
   ]
  },
  {
   "cell_type": "markdown",
   "id": "b61ad1d0",
   "metadata": {},
   "source": [
    "## Initialization"
   ]
  },
  {
   "cell_type": "markdown",
   "id": "d70f0d54",
   "metadata": {},
   "source": [
    "### TreeValue's Initialization"
   ]
  },
  {
   "cell_type": "code",
   "execution_count": 14,
   "id": "d32a679b",
   "metadata": {
    "execution": {
     "iopub.execute_input": "2023-10-20T07:08:35.993088Z",
     "iopub.status.busy": "2023-10-20T07:08:35.991424Z",
     "iopub.status.idle": "2023-10-20T07:08:44.685909Z",
     "shell.execute_reply": "2023-10-20T07:08:44.684892Z"
    }
   },
   "outputs": [
    {
     "name": "stdout",
     "output_type": "stream",
     "text": [
      "1.07 µs ± 13.6 ns per loop (mean ± std. dev. of 7 runs, 1,000,000 loops each)\n"
     ]
    }
   ],
   "source": [
    "%timeit FastTreeValue(_TREE_DATA_1)"
   ]
  },
  {
   "cell_type": "markdown",
   "id": "24f3707b",
   "metadata": {},
   "source": [
    "### Tianshou Batch's Initialization"
   ]
  },
  {
   "cell_type": "code",
   "execution_count": 15,
   "id": "ac3958df",
   "metadata": {
    "execution": {
     "iopub.execute_input": "2023-10-20T07:08:44.691388Z",
     "iopub.status.busy": "2023-10-20T07:08:44.690534Z",
     "iopub.status.idle": "2023-10-20T07:08:56.364185Z",
     "shell.execute_reply": "2023-10-20T07:08:56.363270Z"
    }
   },
   "outputs": [
    {
     "name": "stdout",
     "output_type": "stream",
     "text": [
      "14.4 µs ± 194 ns per loop (mean ± std. dev. of 7 runs, 100,000 loops each)\n"
     ]
    }
   ],
   "source": [
    "%timeit Batch(**_TREE_DATA_1)"
   ]
  },
  {
   "cell_type": "markdown",
   "id": "1ab82e2d",
   "metadata": {},
   "source": [
    "## Deep Copy Operation"
   ]
  },
  {
   "cell_type": "code",
   "execution_count": 16,
   "id": "210a9442",
   "metadata": {
    "execution": {
     "iopub.execute_input": "2023-10-20T07:08:56.368758Z",
     "iopub.status.busy": "2023-10-20T07:08:56.368177Z",
     "iopub.status.idle": "2023-10-20T07:08:56.372656Z",
     "shell.execute_reply": "2023-10-20T07:08:56.371714Z"
    }
   },
   "outputs": [],
   "source": [
    "import copy"
   ]
  },
  {
   "cell_type": "markdown",
   "id": "5a736274",
   "metadata": {},
   "source": [
    "### Deep Copy of TreeValue"
   ]
  },
  {
   "cell_type": "code",
   "execution_count": 17,
   "id": "f9bcadd6",
   "metadata": {
    "execution": {
     "iopub.execute_input": "2023-10-20T07:08:56.377148Z",
     "iopub.status.busy": "2023-10-20T07:08:56.376635Z",
     "iopub.status.idle": "2023-10-20T07:08:58.919750Z",
     "shell.execute_reply": "2023-10-20T07:08:58.918580Z"
    }
   },
   "outputs": [
    {
     "name": "stdout",
     "output_type": "stream",
     "text": [
      "313 µs ± 11.9 µs per loop (mean ± std. dev. of 7 runs, 1,000 loops each)\n"
     ]
    }
   ],
   "source": [
    "t3 = FastTreeValue(_TREE_DATA_3)\n",
    "%timeit copy.deepcopy(t3)"
   ]
  },
  {
   "cell_type": "markdown",
   "id": "bf8be7ea",
   "metadata": {},
   "source": [
    "### Deep Copy of Tianshou Batch"
   ]
  },
  {
   "cell_type": "code",
   "execution_count": 18,
   "id": "91998e6f",
   "metadata": {
    "execution": {
     "iopub.execute_input": "2023-10-20T07:08:58.924066Z",
     "iopub.status.busy": "2023-10-20T07:08:58.923509Z",
     "iopub.status.idle": "2023-10-20T07:09:01.381036Z",
     "shell.execute_reply": "2023-10-20T07:09:01.380057Z"
    }
   },
   "outputs": [
    {
     "name": "stdout",
     "output_type": "stream",
     "text": [
      "304 µs ± 22.5 µs per loop (mean ± std. dev. of 7 runs, 1,000 loops each)\n"
     ]
    }
   ],
   "source": [
    "b3 = Batch(**_TREE_DATA_3)\n",
    "%timeit copy.deepcopy(b3)"
   ]
  },
  {
   "cell_type": "markdown",
   "id": "223162fb",
   "metadata": {},
   "source": [
    "## Stack, Concat and Split Operation"
   ]
  },
  {
   "cell_type": "markdown",
   "id": "85fa4a73",
   "metadata": {},
   "source": [
    "### Performance of TreeValue"
   ]
  },
  {
   "cell_type": "code",
   "execution_count": 19,
   "id": "a0c2b697",
   "metadata": {
    "execution": {
     "iopub.execute_input": "2023-10-20T07:09:01.385784Z",
     "iopub.status.busy": "2023-10-20T07:09:01.385456Z",
     "iopub.status.idle": "2023-10-20T07:09:01.391922Z",
     "shell.execute_reply": "2023-10-20T07:09:01.390980Z"
    }
   },
   "outputs": [],
   "source": [
    "trees = [FastTreeValue(_TREE_DATA_2) for _ in range(8)]"
   ]
  },
  {
   "cell_type": "code",
   "execution_count": 20,
   "id": "017ea5a5",
   "metadata": {
    "execution": {
     "iopub.execute_input": "2023-10-20T07:09:01.396669Z",
     "iopub.status.busy": "2023-10-20T07:09:01.395959Z",
     "iopub.status.idle": "2023-10-20T07:09:01.406719Z",
     "shell.execute_reply": "2023-10-20T07:09:01.405713Z"
    }
   },
   "outputs": [
    {
     "data": {
      "text/plain": [
       "<FastTreeValue 0x7f85be9c7c10>\n",
       "├── 'a' --> tensor([[[-1.1338,  0.9034,  1.9563],\n",
       "│                    [-0.2072, -0.3906, -0.0051]],\n",
       "│           \n",
       "│                   [[-1.1338,  0.9034,  1.9563],\n",
       "│                    [-0.2072, -0.3906, -0.0051]],\n",
       "│           \n",
       "│                   [[-1.1338,  0.9034,  1.9563],\n",
       "│                    [-0.2072, -0.3906, -0.0051]],\n",
       "│           \n",
       "│                   [[-1.1338,  0.9034,  1.9563],\n",
       "│                    [-0.2072, -0.3906, -0.0051]],\n",
       "│           \n",
       "│                   [[-1.1338,  0.9034,  1.9563],\n",
       "│                    [-0.2072, -0.3906, -0.0051]],\n",
       "│           \n",
       "│                   [[-1.1338,  0.9034,  1.9563],\n",
       "│                    [-0.2072, -0.3906, -0.0051]],\n",
       "│           \n",
       "│                   [[-1.1338,  0.9034,  1.9563],\n",
       "│                    [-0.2072, -0.3906, -0.0051]],\n",
       "│           \n",
       "│                   [[-1.1338,  0.9034,  1.9563],\n",
       "│                    [-0.2072, -0.3906, -0.0051]]])\n",
       "└── 'x' --> <FastTreeValue 0x7f84e7fa8850>\n",
       "    └── 'c' --> tensor([[[-2.1356, -1.2087, -2.2359,  0.8187],\n",
       "                         [-0.0879, -1.0323, -1.0386, -0.5144],\n",
       "                         [-0.8357,  0.4749, -1.2028, -0.8404]],\n",
       "                \n",
       "                        [[-2.1356, -1.2087, -2.2359,  0.8187],\n",
       "                         [-0.0879, -1.0323, -1.0386, -0.5144],\n",
       "                         [-0.8357,  0.4749, -1.2028, -0.8404]],\n",
       "                \n",
       "                        [[-2.1356, -1.2087, -2.2359,  0.8187],\n",
       "                         [-0.0879, -1.0323, -1.0386, -0.5144],\n",
       "                         [-0.8357,  0.4749, -1.2028, -0.8404]],\n",
       "                \n",
       "                        [[-2.1356, -1.2087, -2.2359,  0.8187],\n",
       "                         [-0.0879, -1.0323, -1.0386, -0.5144],\n",
       "                         [-0.8357,  0.4749, -1.2028, -0.8404]],\n",
       "                \n",
       "                        [[-2.1356, -1.2087, -2.2359,  0.8187],\n",
       "                         [-0.0879, -1.0323, -1.0386, -0.5144],\n",
       "                         [-0.8357,  0.4749, -1.2028, -0.8404]],\n",
       "                \n",
       "                        [[-2.1356, -1.2087, -2.2359,  0.8187],\n",
       "                         [-0.0879, -1.0323, -1.0386, -0.5144],\n",
       "                         [-0.8357,  0.4749, -1.2028, -0.8404]],\n",
       "                \n",
       "                        [[-2.1356, -1.2087, -2.2359,  0.8187],\n",
       "                         [-0.0879, -1.0323, -1.0386, -0.5144],\n",
       "                         [-0.8357,  0.4749, -1.2028, -0.8404]],\n",
       "                \n",
       "                        [[-2.1356, -1.2087, -2.2359,  0.8187],\n",
       "                         [-0.0879, -1.0323, -1.0386, -0.5144],\n",
       "                         [-0.8357,  0.4749, -1.2028, -0.8404]]])"
      ]
     },
     "execution_count": 20,
     "metadata": {},
     "output_type": "execute_result"
    }
   ],
   "source": [
    "t_stack = FastTreeValue.func(subside=True)(torch.stack)\n",
    "\n",
    "t_stack(trees)"
   ]
  },
  {
   "cell_type": "code",
   "execution_count": 21,
   "id": "f8b3f415",
   "metadata": {
    "execution": {
     "iopub.execute_input": "2023-10-20T07:09:01.411194Z",
     "iopub.status.busy": "2023-10-20T07:09:01.410481Z",
     "iopub.status.idle": "2023-10-20T07:09:05.586518Z",
     "shell.execute_reply": "2023-10-20T07:09:05.584897Z"
    }
   },
   "outputs": [
    {
     "name": "stdout",
     "output_type": "stream",
     "text": [
      "51.1 µs ± 878 ns per loop (mean ± std. dev. of 7 runs, 10,000 loops each)\n"
     ]
    }
   ],
   "source": [
    "%timeit t_stack(trees)"
   ]
  },
  {
   "cell_type": "code",
   "execution_count": 22,
   "id": "94b56771",
   "metadata": {
    "execution": {
     "iopub.execute_input": "2023-10-20T07:09:05.590320Z",
     "iopub.status.busy": "2023-10-20T07:09:05.590028Z",
     "iopub.status.idle": "2023-10-20T07:09:05.604221Z",
     "shell.execute_reply": "2023-10-20T07:09:05.603125Z"
    }
   },
   "outputs": [
    {
     "data": {
      "text/plain": [
       "<FastTreeValue 0x7f84dfa2b0d0>\n",
       "├── 'a' --> tensor([[-1.1338,  0.9034,  1.9563],\n",
       "│                   [-0.2072, -0.3906, -0.0051],\n",
       "│                   [-1.1338,  0.9034,  1.9563],\n",
       "│                   [-0.2072, -0.3906, -0.0051],\n",
       "│                   [-1.1338,  0.9034,  1.9563],\n",
       "│                   [-0.2072, -0.3906, -0.0051],\n",
       "│                   [-1.1338,  0.9034,  1.9563],\n",
       "│                   [-0.2072, -0.3906, -0.0051],\n",
       "│                   [-1.1338,  0.9034,  1.9563],\n",
       "│                   [-0.2072, -0.3906, -0.0051],\n",
       "│                   [-1.1338,  0.9034,  1.9563],\n",
       "│                   [-0.2072, -0.3906, -0.0051],\n",
       "│                   [-1.1338,  0.9034,  1.9563],\n",
       "│                   [-0.2072, -0.3906, -0.0051],\n",
       "│                   [-1.1338,  0.9034,  1.9563],\n",
       "│                   [-0.2072, -0.3906, -0.0051]])\n",
       "└── 'x' --> <FastTreeValue 0x7f84dfa2b5b0>\n",
       "    └── 'c' --> tensor([[-2.1356, -1.2087, -2.2359,  0.8187],\n",
       "                        [-0.0879, -1.0323, -1.0386, -0.5144],\n",
       "                        [-0.8357,  0.4749, -1.2028, -0.8404],\n",
       "                        [-2.1356, -1.2087, -2.2359,  0.8187],\n",
       "                        [-0.0879, -1.0323, -1.0386, -0.5144],\n",
       "                        [-0.8357,  0.4749, -1.2028, -0.8404],\n",
       "                        [-2.1356, -1.2087, -2.2359,  0.8187],\n",
       "                        [-0.0879, -1.0323, -1.0386, -0.5144],\n",
       "                        [-0.8357,  0.4749, -1.2028, -0.8404],\n",
       "                        [-2.1356, -1.2087, -2.2359,  0.8187],\n",
       "                        [-0.0879, -1.0323, -1.0386, -0.5144],\n",
       "                        [-0.8357,  0.4749, -1.2028, -0.8404],\n",
       "                        [-2.1356, -1.2087, -2.2359,  0.8187],\n",
       "                        [-0.0879, -1.0323, -1.0386, -0.5144],\n",
       "                        [-0.8357,  0.4749, -1.2028, -0.8404],\n",
       "                        [-2.1356, -1.2087, -2.2359,  0.8187],\n",
       "                        [-0.0879, -1.0323, -1.0386, -0.5144],\n",
       "                        [-0.8357,  0.4749, -1.2028, -0.8404],\n",
       "                        [-2.1356, -1.2087, -2.2359,  0.8187],\n",
       "                        [-0.0879, -1.0323, -1.0386, -0.5144],\n",
       "                        [-0.8357,  0.4749, -1.2028, -0.8404],\n",
       "                        [-2.1356, -1.2087, -2.2359,  0.8187],\n",
       "                        [-0.0879, -1.0323, -1.0386, -0.5144],\n",
       "                        [-0.8357,  0.4749, -1.2028, -0.8404]])"
      ]
     },
     "execution_count": 22,
     "metadata": {},
     "output_type": "execute_result"
    }
   ],
   "source": [
    "t_cat = FastTreeValue.func(subside=True)(torch.cat)\n",
    "\n",
    "t_cat(trees)"
   ]
  },
  {
   "cell_type": "code",
   "execution_count": 23,
   "id": "5e9c06a6",
   "metadata": {
    "execution": {
     "iopub.execute_input": "2023-10-20T07:09:05.608548Z",
     "iopub.status.busy": "2023-10-20T07:09:05.607998Z",
     "iopub.status.idle": "2023-10-20T07:09:09.493099Z",
     "shell.execute_reply": "2023-10-20T07:09:09.491391Z"
    }
   },
   "outputs": [
    {
     "name": "stdout",
     "output_type": "stream",
     "text": [
      "47.7 µs ± 1.05 µs per loop (mean ± std. dev. of 7 runs, 10,000 loops each)\n"
     ]
    }
   ],
   "source": [
    "%timeit t_cat(trees)"
   ]
  },
  {
   "cell_type": "code",
   "execution_count": 24,
   "id": "a3ab5c8f",
   "metadata": {
    "execution": {
     "iopub.execute_input": "2023-10-20T07:09:09.497964Z",
     "iopub.status.busy": "2023-10-20T07:09:09.497602Z",
     "iopub.status.idle": "2023-10-20T07:09:17.691073Z",
     "shell.execute_reply": "2023-10-20T07:09:17.689870Z"
    }
   },
   "outputs": [
    {
     "name": "stdout",
     "output_type": "stream",
     "text": [
      "101 µs ± 788 ns per loop (mean ± std. dev. of 7 runs, 10,000 loops each)\n"
     ]
    }
   ],
   "source": [
    "t_split = FastTreeValue.func(rise=True)(torch.split)\n",
    "tree = FastTreeValue({\n",
    "    'obs': torch.randn(8, 4, 84, 84),\n",
    "    'action': torch.randint(0, 6, size=(8, 1,)),\n",
    "    'reward': torch.rand(8, 1),\n",
    "})\n",
    "\n",
    "%timeit t_split(tree, 1)"
   ]
  },
  {
   "cell_type": "markdown",
   "id": "31c3ec0b",
   "metadata": {},
   "source": [
    "### Performance of Tianshou Batch"
   ]
  },
  {
   "cell_type": "code",
   "execution_count": 25,
   "id": "9ead828a",
   "metadata": {
    "execution": {
     "iopub.execute_input": "2023-10-20T07:09:17.695651Z",
     "iopub.status.busy": "2023-10-20T07:09:17.695072Z",
     "iopub.status.idle": "2023-10-20T07:09:17.705150Z",
     "shell.execute_reply": "2023-10-20T07:09:17.704116Z"
    }
   },
   "outputs": [
    {
     "data": {
      "text/plain": [
       "Batch(\n",
       "    x: Batch(\n",
       "           c: tensor([[[-2.1356, -1.2087, -2.2359,  0.8187],\n",
       "                       [-0.0879, -1.0323, -1.0386, -0.5144],\n",
       "                       [-0.8357,  0.4749, -1.2028, -0.8404]],\n",
       "              \n",
       "                      [[-2.1356, -1.2087, -2.2359,  0.8187],\n",
       "                       [-0.0879, -1.0323, -1.0386, -0.5144],\n",
       "                       [-0.8357,  0.4749, -1.2028, -0.8404]],\n",
       "              \n",
       "                      [[-2.1356, -1.2087, -2.2359,  0.8187],\n",
       "                       [-0.0879, -1.0323, -1.0386, -0.5144],\n",
       "                       [-0.8357,  0.4749, -1.2028, -0.8404]],\n",
       "              \n",
       "                      [[-2.1356, -1.2087, -2.2359,  0.8187],\n",
       "                       [-0.0879, -1.0323, -1.0386, -0.5144],\n",
       "                       [-0.8357,  0.4749, -1.2028, -0.8404]],\n",
       "              \n",
       "                      [[-2.1356, -1.2087, -2.2359,  0.8187],\n",
       "                       [-0.0879, -1.0323, -1.0386, -0.5144],\n",
       "                       [-0.8357,  0.4749, -1.2028, -0.8404]],\n",
       "              \n",
       "                      [[-2.1356, -1.2087, -2.2359,  0.8187],\n",
       "                       [-0.0879, -1.0323, -1.0386, -0.5144],\n",
       "                       [-0.8357,  0.4749, -1.2028, -0.8404]],\n",
       "              \n",
       "                      [[-2.1356, -1.2087, -2.2359,  0.8187],\n",
       "                       [-0.0879, -1.0323, -1.0386, -0.5144],\n",
       "                       [-0.8357,  0.4749, -1.2028, -0.8404]],\n",
       "              \n",
       "                      [[-2.1356, -1.2087, -2.2359,  0.8187],\n",
       "                       [-0.0879, -1.0323, -1.0386, -0.5144],\n",
       "                       [-0.8357,  0.4749, -1.2028, -0.8404]]]),\n",
       "       ),\n",
       "    a: tensor([[[-1.1338,  0.9034,  1.9563],\n",
       "                [-0.2072, -0.3906, -0.0051]],\n",
       "       \n",
       "               [[-1.1338,  0.9034,  1.9563],\n",
       "                [-0.2072, -0.3906, -0.0051]],\n",
       "       \n",
       "               [[-1.1338,  0.9034,  1.9563],\n",
       "                [-0.2072, -0.3906, -0.0051]],\n",
       "       \n",
       "               [[-1.1338,  0.9034,  1.9563],\n",
       "                [-0.2072, -0.3906, -0.0051]],\n",
       "       \n",
       "               [[-1.1338,  0.9034,  1.9563],\n",
       "                [-0.2072, -0.3906, -0.0051]],\n",
       "       \n",
       "               [[-1.1338,  0.9034,  1.9563],\n",
       "                [-0.2072, -0.3906, -0.0051]],\n",
       "       \n",
       "               [[-1.1338,  0.9034,  1.9563],\n",
       "                [-0.2072, -0.3906, -0.0051]],\n",
       "       \n",
       "               [[-1.1338,  0.9034,  1.9563],\n",
       "                [-0.2072, -0.3906, -0.0051]]]),\n",
       ")"
      ]
     },
     "execution_count": 25,
     "metadata": {},
     "output_type": "execute_result"
    }
   ],
   "source": [
    "batches = [Batch(**_TREE_DATA_2) for _ in range(8)]\n",
    "\n",
    "Batch.stack(batches)"
   ]
  },
  {
   "cell_type": "code",
   "execution_count": 26,
   "id": "ec9037a3",
   "metadata": {
    "execution": {
     "iopub.execute_input": "2023-10-20T07:09:17.709174Z",
     "iopub.status.busy": "2023-10-20T07:09:17.708655Z",
     "iopub.status.idle": "2023-10-20T07:09:26.898593Z",
     "shell.execute_reply": "2023-10-20T07:09:26.897650Z"
    }
   },
   "outputs": [
    {
     "name": "stdout",
     "output_type": "stream",
     "text": [
      "113 µs ± 3.97 µs per loop (mean ± std. dev. of 7 runs, 10,000 loops each)\n"
     ]
    }
   ],
   "source": [
    "%timeit Batch.stack(batches)"
   ]
  },
  {
   "cell_type": "code",
   "execution_count": 27,
   "id": "cb8ab77e",
   "metadata": {
    "execution": {
     "iopub.execute_input": "2023-10-20T07:09:26.903166Z",
     "iopub.status.busy": "2023-10-20T07:09:26.902606Z",
     "iopub.status.idle": "2023-10-20T07:09:26.912411Z",
     "shell.execute_reply": "2023-10-20T07:09:26.911404Z"
    }
   },
   "outputs": [
    {
     "data": {
      "text/plain": [
       "Batch(\n",
       "    x: Batch(\n",
       "           c: tensor([[-2.1356, -1.2087, -2.2359,  0.8187],\n",
       "                      [-0.0879, -1.0323, -1.0386, -0.5144],\n",
       "                      [-0.8357,  0.4749, -1.2028, -0.8404],\n",
       "                      [-2.1356, -1.2087, -2.2359,  0.8187],\n",
       "                      [-0.0879, -1.0323, -1.0386, -0.5144],\n",
       "                      [-0.8357,  0.4749, -1.2028, -0.8404],\n",
       "                      [-2.1356, -1.2087, -2.2359,  0.8187],\n",
       "                      [-0.0879, -1.0323, -1.0386, -0.5144],\n",
       "                      [-0.8357,  0.4749, -1.2028, -0.8404],\n",
       "                      [-2.1356, -1.2087, -2.2359,  0.8187],\n",
       "                      [-0.0879, -1.0323, -1.0386, -0.5144],\n",
       "                      [-0.8357,  0.4749, -1.2028, -0.8404],\n",
       "                      [-2.1356, -1.2087, -2.2359,  0.8187],\n",
       "                      [-0.0879, -1.0323, -1.0386, -0.5144],\n",
       "                      [-0.8357,  0.4749, -1.2028, -0.8404],\n",
       "                      [-2.1356, -1.2087, -2.2359,  0.8187],\n",
       "                      [-0.0879, -1.0323, -1.0386, -0.5144],\n",
       "                      [-0.8357,  0.4749, -1.2028, -0.8404],\n",
       "                      [-2.1356, -1.2087, -2.2359,  0.8187],\n",
       "                      [-0.0879, -1.0323, -1.0386, -0.5144],\n",
       "                      [-0.8357,  0.4749, -1.2028, -0.8404],\n",
       "                      [-2.1356, -1.2087, -2.2359,  0.8187],\n",
       "                      [-0.0879, -1.0323, -1.0386, -0.5144],\n",
       "                      [-0.8357,  0.4749, -1.2028, -0.8404]]),\n",
       "       ),\n",
       "    a: tensor([[-1.1338,  0.9034,  1.9563],\n",
       "               [-0.2072, -0.3906, -0.0051],\n",
       "               [-1.1338,  0.9034,  1.9563],\n",
       "               [-0.2072, -0.3906, -0.0051],\n",
       "               [-1.1338,  0.9034,  1.9563],\n",
       "               [-0.2072, -0.3906, -0.0051],\n",
       "               [-1.1338,  0.9034,  1.9563],\n",
       "               [-0.2072, -0.3906, -0.0051],\n",
       "               [-1.1338,  0.9034,  1.9563],\n",
       "               [-0.2072, -0.3906, -0.0051],\n",
       "               [-1.1338,  0.9034,  1.9563],\n",
       "               [-0.2072, -0.3906, -0.0051],\n",
       "               [-1.1338,  0.9034,  1.9563],\n",
       "               [-0.2072, -0.3906, -0.0051],\n",
       "               [-1.1338,  0.9034,  1.9563],\n",
       "               [-0.2072, -0.3906, -0.0051]]),\n",
       ")"
      ]
     },
     "execution_count": 27,
     "metadata": {},
     "output_type": "execute_result"
    }
   ],
   "source": [
    "Batch.cat(batches)"
   ]
  },
  {
   "cell_type": "code",
   "execution_count": 28,
   "id": "18dfb045",
   "metadata": {
    "execution": {
     "iopub.execute_input": "2023-10-20T07:09:26.916349Z",
     "iopub.status.busy": "2023-10-20T07:09:26.916027Z",
     "iopub.status.idle": "2023-10-20T07:09:28.569125Z",
     "shell.execute_reply": "2023-10-20T07:09:28.567640Z"
    }
   },
   "outputs": [
    {
     "name": "stdout",
     "output_type": "stream",
     "text": [
      "203 µs ± 9.01 µs per loop (mean ± std. dev. of 7 runs, 1,000 loops each)\n"
     ]
    }
   ],
   "source": [
    "%timeit Batch.cat(batches)"
   ]
  },
  {
   "cell_type": "code",
   "execution_count": 29,
   "id": "c6688e51",
   "metadata": {
    "execution": {
     "iopub.execute_input": "2023-10-20T07:09:28.573488Z",
     "iopub.status.busy": "2023-10-20T07:09:28.572727Z",
     "iopub.status.idle": "2023-10-20T07:09:34.786618Z",
     "shell.execute_reply": "2023-10-20T07:09:34.785700Z"
    }
   },
   "outputs": [
    {
     "name": "stdout",
     "output_type": "stream",
     "text": [
      "767 µs ± 20.5 µs per loop (mean ± std. dev. of 7 runs, 1,000 loops each)\n"
     ]
    }
   ],
   "source": [
    "batch = Batch({\n",
    "    'obs': torch.randn(8, 4, 84, 84),\n",
    "    'action': torch.randint(0, 6, size=(8, 1,)),\n",
    "    'reward': torch.rand(8, 1)}\n",
    ")\n",
    "\n",
    "%timeit list(Batch.split(batch, 1, shuffle=False, merge_last=True))"
   ]
  },
  {
   "cell_type": "code",
   "execution_count": null,
   "id": "2539fbd9",
   "metadata": {},
   "outputs": [],
   "source": []
  }
 ],
 "metadata": {
  "kernelspec": {
   "display_name": "Python 3 (ipykernel)",
   "language": "python",
   "name": "python3"
  },
  "language_info": {
   "codemirror_mode": {
    "name": "ipython",
    "version": 3
   },
   "file_extension": ".py",
   "mimetype": "text/x-python",
   "name": "python",
   "nbconvert_exporter": "python",
   "pygments_lexer": "ipython3",
   "version": "3.8.18"
  }
 },
 "nbformat": 4,
 "nbformat_minor": 5
}
