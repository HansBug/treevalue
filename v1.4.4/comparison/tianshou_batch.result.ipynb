{
 "cells": [
  {
   "cell_type": "markdown",
   "id": "9d39d946",
   "metadata": {},
   "source": [
    "# Comparison Between TreeValue and Tianshou Batch"
   ]
  },
  {
   "cell_type": "markdown",
   "id": "3c6db2d4",
   "metadata": {},
   "source": [
    "In this section, we will take a look at the feature and performance of the [Tianshou Batch](https://github.com/thu-ml/tianshou) library, which is developed by Tsinghua Machine Learning Group."
   ]
  },
  {
   "cell_type": "markdown",
   "id": "069361b0",
   "metadata": {},
   "source": [
    "Before starting the comparison, let us define some thing."
   ]
  },
  {
   "cell_type": "code",
   "execution_count": 1,
   "id": "06fc8d26",
   "metadata": {
    "execution": {
     "iopub.execute_input": "2023-02-27T10:46:45.003073Z",
     "iopub.status.busy": "2023-02-27T10:46:45.002826Z",
     "iopub.status.idle": "2023-02-27T10:46:46.050146Z",
     "shell.execute_reply": "2023-02-27T10:46:46.049319Z"
    }
   },
   "outputs": [
    {
     "name": "stderr",
     "output_type": "stream",
     "text": [
      "/opt/hostedtoolcache/Python/3.8.16/x64/lib/python3.8/site-packages/tqdm/auto.py:22: TqdmWarning: IProgress not found. Please update jupyter and ipywidgets. See https://ipywidgets.readthedocs.io/en/stable/user_install.html\n",
      "  from .autonotebook import tqdm as notebook_tqdm\n"
     ]
    }
   ],
   "source": [
    "import torch \n",
    "\n",
    "_TREE_DATA_1 = {'a': 1, 'b': 2, 'x': {'c': 3, 'd': 4}}\n",
    "_TREE_DATA_2 = {\n",
    "    'a': torch.randn(2, 3), \n",
    "    'x': {\n",
    "        'c': torch.randn(3, 4)\n",
    "    },\n",
    "}\n",
    "_TREE_DATA_3 = {\n",
    "    'obs': torch.randn(4, 84, 84),\n",
    "    'action': torch.randint(0, 6, size=(1,)),\n",
    "    'reward': torch.rand(1),\n",
    "}"
   ]
  },
  {
   "cell_type": "markdown",
   "id": "83461b25",
   "metadata": {},
   "source": [
    "## Read and Write Operation"
   ]
  },
  {
   "cell_type": "markdown",
   "id": "067b3f73",
   "metadata": {},
   "source": [
    "Reading and writing are the two most common operations in the tree data structure based on the data model (TreeValue and Tianshou Batch both belong to this type), so this section will compare the reading and writing performance of these two libraries."
   ]
  },
  {
   "cell_type": "markdown",
   "id": "5d09a5b7",
   "metadata": {},
   "source": [
    "### TreeValue's Get and Set"
   ]
  },
  {
   "cell_type": "code",
   "execution_count": 2,
   "id": "9519c4bb",
   "metadata": {
    "execution": {
     "iopub.execute_input": "2023-02-27T10:46:46.054194Z",
     "iopub.status.busy": "2023-02-27T10:46:46.053691Z",
     "iopub.status.idle": "2023-02-27T10:46:46.091493Z",
     "shell.execute_reply": "2023-02-27T10:46:46.090714Z"
    }
   },
   "outputs": [],
   "source": [
    "from treevalue import FastTreeValue\n",
    "\n",
    "t = FastTreeValue(_TREE_DATA_2)"
   ]
  },
  {
   "cell_type": "code",
   "execution_count": 3,
   "id": "11c37677",
   "metadata": {
    "execution": {
     "iopub.execute_input": "2023-02-27T10:46:46.095312Z",
     "iopub.status.busy": "2023-02-27T10:46:46.094817Z",
     "iopub.status.idle": "2023-02-27T10:46:46.105818Z",
     "shell.execute_reply": "2023-02-27T10:46:46.105092Z"
    }
   },
   "outputs": [
    {
     "data": {
      "text/plain": [
       "<FastTreeValue 0x7f0634b18910>\n",
       "├── 'a' --> tensor([[ 1.3722, -0.9412, -0.5144],\n",
       "│                   [-0.8652,  1.1267,  0.7837]])\n",
       "└── 'x' --> <FastTreeValue 0x7f0634b18b50>\n",
       "    └── 'c' --> tensor([[-3.5516,  0.1473, -0.8741, -0.6011],\n",
       "                        [-1.5128, -0.2074,  0.1758, -0.7763],\n",
       "                        [ 0.4465, -1.9325,  0.7438,  0.8102]])"
      ]
     },
     "execution_count": 3,
     "metadata": {},
     "output_type": "execute_result"
    }
   ],
   "source": [
    "t"
   ]
  },
  {
   "cell_type": "code",
   "execution_count": 4,
   "id": "fd70b0b9",
   "metadata": {
    "execution": {
     "iopub.execute_input": "2023-02-27T10:46:46.108904Z",
     "iopub.status.busy": "2023-02-27T10:46:46.108526Z",
     "iopub.status.idle": "2023-02-27T10:46:46.114764Z",
     "shell.execute_reply": "2023-02-27T10:46:46.114141Z"
    }
   },
   "outputs": [
    {
     "data": {
      "text/plain": [
       "tensor([[ 1.3722, -0.9412, -0.5144],\n",
       "        [-0.8652,  1.1267,  0.7837]])"
      ]
     },
     "execution_count": 4,
     "metadata": {},
     "output_type": "execute_result"
    }
   ],
   "source": [
    "t.a"
   ]
  },
  {
   "cell_type": "code",
   "execution_count": 5,
   "id": "c18197bd",
   "metadata": {
    "execution": {
     "iopub.execute_input": "2023-02-27T10:46:46.117895Z",
     "iopub.status.busy": "2023-02-27T10:46:46.117420Z",
     "iopub.status.idle": "2023-02-27T10:46:51.533835Z",
     "shell.execute_reply": "2023-02-27T10:46:51.532952Z"
    }
   },
   "outputs": [
    {
     "name": "stdout",
     "output_type": "stream",
     "text": [
      "66.7 ns ± 0.0226 ns per loop (mean ± std. dev. of 7 runs, 10,000,000 loops each)\n"
     ]
    }
   ],
   "source": [
    "%timeit t.a"
   ]
  },
  {
   "cell_type": "code",
   "execution_count": 6,
   "id": "bd52f867",
   "metadata": {
    "execution": {
     "iopub.execute_input": "2023-02-27T10:46:51.537770Z",
     "iopub.status.busy": "2023-02-27T10:46:51.537080Z",
     "iopub.status.idle": "2023-02-27T10:46:51.545396Z",
     "shell.execute_reply": "2023-02-27T10:46:51.544709Z"
    }
   },
   "outputs": [
    {
     "data": {
      "text/plain": [
       "<FastTreeValue 0x7f0634b18910>\n",
       "├── 'a' --> tensor([[ 0.0510, -0.8554,  2.1770],\n",
       "│                   [ 1.3586,  1.6602,  0.9174]])\n",
       "└── 'x' --> <FastTreeValue 0x7f0634b18b50>\n",
       "    └── 'c' --> tensor([[-3.5516,  0.1473, -0.8741, -0.6011],\n",
       "                        [-1.5128, -0.2074,  0.1758, -0.7763],\n",
       "                        [ 0.4465, -1.9325,  0.7438,  0.8102]])"
      ]
     },
     "execution_count": 6,
     "metadata": {},
     "output_type": "execute_result"
    }
   ],
   "source": [
    "new_value = torch.randn(2, 3)\n",
    "t.a = new_value\n",
    "\n",
    "t"
   ]
  },
  {
   "cell_type": "code",
   "execution_count": 7,
   "id": "bbe04d1c",
   "metadata": {
    "execution": {
     "iopub.execute_input": "2023-02-27T10:46:51.548794Z",
     "iopub.status.busy": "2023-02-27T10:46:51.548288Z",
     "iopub.status.idle": "2023-02-27T10:46:57.168765Z",
     "shell.execute_reply": "2023-02-27T10:46:57.167611Z"
    }
   },
   "outputs": [
    {
     "name": "stdout",
     "output_type": "stream",
     "text": [
      "69.2 ns ± 0.14 ns per loop (mean ± std. dev. of 7 runs, 10,000,000 loops each)\n"
     ]
    }
   ],
   "source": [
    "%timeit t.a = new_value"
   ]
  },
  {
   "cell_type": "markdown",
   "id": "48c49731",
   "metadata": {},
   "source": [
    "### Tianshou Batch's Get and Set"
   ]
  },
  {
   "cell_type": "code",
   "execution_count": 8,
   "id": "f1bb14c1",
   "metadata": {
    "execution": {
     "iopub.execute_input": "2023-02-27T10:46:57.172351Z",
     "iopub.status.busy": "2023-02-27T10:46:57.171926Z",
     "iopub.status.idle": "2023-02-27T10:46:57.553724Z",
     "shell.execute_reply": "2023-02-27T10:46:57.552936Z"
    }
   },
   "outputs": [],
   "source": [
    "from tianshou.data import Batch\n",
    "\n",
    "b = Batch(**_TREE_DATA_2)"
   ]
  },
  {
   "cell_type": "code",
   "execution_count": 9,
   "id": "cb0777c3",
   "metadata": {
    "execution": {
     "iopub.execute_input": "2023-02-27T10:46:57.557784Z",
     "iopub.status.busy": "2023-02-27T10:46:57.557231Z",
     "iopub.status.idle": "2023-02-27T10:46:57.564375Z",
     "shell.execute_reply": "2023-02-27T10:46:57.563727Z"
    }
   },
   "outputs": [
    {
     "data": {
      "text/plain": [
       "Batch(\n",
       "    a: tensor([[ 1.3722, -0.9412, -0.5144],\n",
       "               [-0.8652,  1.1267,  0.7837]]),\n",
       "    x: Batch(\n",
       "           c: tensor([[-3.5516,  0.1473, -0.8741, -0.6011],\n",
       "                      [-1.5128, -0.2074,  0.1758, -0.7763],\n",
       "                      [ 0.4465, -1.9325,  0.7438,  0.8102]]),\n",
       "       ),\n",
       ")"
      ]
     },
     "execution_count": 9,
     "metadata": {},
     "output_type": "execute_result"
    }
   ],
   "source": [
    "b"
   ]
  },
  {
   "cell_type": "code",
   "execution_count": 10,
   "id": "43ef8ea3",
   "metadata": {
    "execution": {
     "iopub.execute_input": "2023-02-27T10:46:57.567420Z",
     "iopub.status.busy": "2023-02-27T10:46:57.566849Z",
     "iopub.status.idle": "2023-02-27T10:46:57.572632Z",
     "shell.execute_reply": "2023-02-27T10:46:57.571995Z"
    }
   },
   "outputs": [
    {
     "data": {
      "text/plain": [
       "tensor([[ 1.3722, -0.9412, -0.5144],\n",
       "        [-0.8652,  1.1267,  0.7837]])"
      ]
     },
     "execution_count": 10,
     "metadata": {},
     "output_type": "execute_result"
    }
   ],
   "source": [
    "b.a"
   ]
  },
  {
   "cell_type": "code",
   "execution_count": 11,
   "id": "b785ab72",
   "metadata": {
    "execution": {
     "iopub.execute_input": "2023-02-27T10:46:57.575507Z",
     "iopub.status.busy": "2023-02-27T10:46:57.575150Z",
     "iopub.status.idle": "2023-02-27T10:47:02.868342Z",
     "shell.execute_reply": "2023-02-27T10:47:02.867433Z"
    }
   },
   "outputs": [
    {
     "name": "stdout",
     "output_type": "stream",
     "text": [
      "65 ns ± 0.0214 ns per loop (mean ± std. dev. of 7 runs, 10,000,000 loops each)\n"
     ]
    }
   ],
   "source": [
    "%timeit b.a"
   ]
  },
  {
   "cell_type": "code",
   "execution_count": 12,
   "id": "ad54dc69",
   "metadata": {
    "execution": {
     "iopub.execute_input": "2023-02-27T10:47:02.872274Z",
     "iopub.status.busy": "2023-02-27T10:47:02.871634Z",
     "iopub.status.idle": "2023-02-27T10:47:02.878926Z",
     "shell.execute_reply": "2023-02-27T10:47:02.878255Z"
    }
   },
   "outputs": [
    {
     "data": {
      "text/plain": [
       "Batch(\n",
       "    a: tensor([[-1.0683, -0.8154, -0.7523],\n",
       "               [ 1.2928,  3.7835, -1.2237]]),\n",
       "    x: Batch(\n",
       "           c: tensor([[-3.5516,  0.1473, -0.8741, -0.6011],\n",
       "                      [-1.5128, -0.2074,  0.1758, -0.7763],\n",
       "                      [ 0.4465, -1.9325,  0.7438,  0.8102]]),\n",
       "       ),\n",
       ")"
      ]
     },
     "execution_count": 12,
     "metadata": {},
     "output_type": "execute_result"
    }
   ],
   "source": [
    "new_value = torch.randn(2, 3)\n",
    "b.a = new_value\n",
    "\n",
    "b"
   ]
  },
  {
   "cell_type": "code",
   "execution_count": 13,
   "id": "29b1d0bf",
   "metadata": {
    "execution": {
     "iopub.execute_input": "2023-02-27T10:47:02.881921Z",
     "iopub.status.busy": "2023-02-27T10:47:02.881443Z",
     "iopub.status.idle": "2023-02-27T10:47:06.913204Z",
     "shell.execute_reply": "2023-02-27T10:47:06.912270Z"
    }
   },
   "outputs": [
    {
     "name": "stdout",
     "output_type": "stream",
     "text": [
      "496 ns ± 0.128 ns per loop (mean ± std. dev. of 7 runs, 1,000,000 loops each)\n"
     ]
    }
   ],
   "source": [
    "%timeit b.a = new_value"
   ]
  },
  {
   "cell_type": "markdown",
   "id": "b61ad1d0",
   "metadata": {},
   "source": [
    "## Initialization"
   ]
  },
  {
   "cell_type": "markdown",
   "id": "d70f0d54",
   "metadata": {},
   "source": [
    "### TreeValue's Initialization"
   ]
  },
  {
   "cell_type": "code",
   "execution_count": 14,
   "id": "d32a679b",
   "metadata": {
    "execution": {
     "iopub.execute_input": "2023-02-27T10:47:06.917111Z",
     "iopub.status.busy": "2023-02-27T10:47:06.916646Z",
     "iopub.status.idle": "2023-02-27T10:47:13.776737Z",
     "shell.execute_reply": "2023-02-27T10:47:13.775960Z"
    }
   },
   "outputs": [
    {
     "name": "stdout",
     "output_type": "stream",
     "text": [
      "847 ns ± 6.88 ns per loop (mean ± std. dev. of 7 runs, 1,000,000 loops each)\n"
     ]
    }
   ],
   "source": [
    "%timeit FastTreeValue(_TREE_DATA_1)"
   ]
  },
  {
   "cell_type": "markdown",
   "id": "24f3707b",
   "metadata": {},
   "source": [
    "### Tianshou Batch's Initialization"
   ]
  },
  {
   "cell_type": "code",
   "execution_count": 15,
   "id": "ac3958df",
   "metadata": {
    "execution": {
     "iopub.execute_input": "2023-02-27T10:47:13.780512Z",
     "iopub.status.busy": "2023-02-27T10:47:13.780028Z",
     "iopub.status.idle": "2023-02-27T10:47:22.575612Z",
     "shell.execute_reply": "2023-02-27T10:47:22.574700Z"
    }
   },
   "outputs": [
    {
     "name": "stdout",
     "output_type": "stream",
     "text": [
      "10.8 µs ± 3.2 ns per loop (mean ± std. dev. of 7 runs, 100,000 loops each)\n"
     ]
    }
   ],
   "source": [
    "%timeit Batch(**_TREE_DATA_1)"
   ]
  },
  {
   "cell_type": "markdown",
   "id": "1ab82e2d",
   "metadata": {},
   "source": [
    "## Deep Copy Operation"
   ]
  },
  {
   "cell_type": "code",
   "execution_count": 16,
   "id": "210a9442",
   "metadata": {
    "execution": {
     "iopub.execute_input": "2023-02-27T10:47:22.579391Z",
     "iopub.status.busy": "2023-02-27T10:47:22.578781Z",
     "iopub.status.idle": "2023-02-27T10:47:22.583288Z",
     "shell.execute_reply": "2023-02-27T10:47:22.582607Z"
    }
   },
   "outputs": [],
   "source": [
    "import copy"
   ]
  },
  {
   "cell_type": "markdown",
   "id": "5a736274",
   "metadata": {},
   "source": [
    "### Deep Copy of TreeValue"
   ]
  },
  {
   "cell_type": "code",
   "execution_count": 17,
   "id": "f9bcadd6",
   "metadata": {
    "execution": {
     "iopub.execute_input": "2023-02-27T10:47:22.586312Z",
     "iopub.status.busy": "2023-02-27T10:47:22.585819Z",
     "iopub.status.idle": "2023-02-27T10:47:34.185540Z",
     "shell.execute_reply": "2023-02-27T10:47:34.184846Z"
    }
   },
   "outputs": [
    {
     "name": "stdout",
     "output_type": "stream",
     "text": [
      "143 µs ± 710 ns per loop (mean ± std. dev. of 7 runs, 10,000 loops each)\n"
     ]
    }
   ],
   "source": [
    "t3 = FastTreeValue(_TREE_DATA_3)\n",
    "%timeit copy.deepcopy(t3)"
   ]
  },
  {
   "cell_type": "markdown",
   "id": "bf8be7ea",
   "metadata": {},
   "source": [
    "### Deep Copy of Tianshou Batch"
   ]
  },
  {
   "cell_type": "code",
   "execution_count": 18,
   "id": "91998e6f",
   "metadata": {
    "execution": {
     "iopub.execute_input": "2023-02-27T10:47:34.188861Z",
     "iopub.status.busy": "2023-02-27T10:47:34.188420Z",
     "iopub.status.idle": "2023-02-27T10:47:45.846792Z",
     "shell.execute_reply": "2023-02-27T10:47:45.846127Z"
    }
   },
   "outputs": [
    {
     "name": "stdout",
     "output_type": "stream",
     "text": [
      "144 µs ± 487 ns per loop (mean ± std. dev. of 7 runs, 10,000 loops each)\n"
     ]
    }
   ],
   "source": [
    "b3 = Batch(**_TREE_DATA_3)\n",
    "%timeit copy.deepcopy(b3)"
   ]
  },
  {
   "cell_type": "markdown",
   "id": "223162fb",
   "metadata": {},
   "source": [
    "## Stack, Concat and Split Operation"
   ]
  },
  {
   "cell_type": "markdown",
   "id": "85fa4a73",
   "metadata": {},
   "source": [
    "### Performance of TreeValue"
   ]
  },
  {
   "cell_type": "code",
   "execution_count": 19,
   "id": "a0c2b697",
   "metadata": {
    "execution": {
     "iopub.execute_input": "2023-02-27T10:47:45.850266Z",
     "iopub.status.busy": "2023-02-27T10:47:45.849812Z",
     "iopub.status.idle": "2023-02-27T10:47:45.853280Z",
     "shell.execute_reply": "2023-02-27T10:47:45.852677Z"
    }
   },
   "outputs": [],
   "source": [
    "trees = [FastTreeValue(_TREE_DATA_2) for _ in range(8)]"
   ]
  },
  {
   "cell_type": "code",
   "execution_count": 20,
   "id": "017ea5a5",
   "metadata": {
    "execution": {
     "iopub.execute_input": "2023-02-27T10:47:45.856023Z",
     "iopub.status.busy": "2023-02-27T10:47:45.855625Z",
     "iopub.status.idle": "2023-02-27T10:47:45.862931Z",
     "shell.execute_reply": "2023-02-27T10:47:45.862342Z"
    }
   },
   "outputs": [
    {
     "data": {
      "text/plain": [
       "<FastTreeValue 0x7f058a7c9ac0>\n",
       "├── 'a' --> tensor([[[ 1.3722, -0.9412, -0.5144],\n",
       "│                    [-0.8652,  1.1267,  0.7837]],\n",
       "│           \n",
       "│                   [[ 1.3722, -0.9412, -0.5144],\n",
       "│                    [-0.8652,  1.1267,  0.7837]],\n",
       "│           \n",
       "│                   [[ 1.3722, -0.9412, -0.5144],\n",
       "│                    [-0.8652,  1.1267,  0.7837]],\n",
       "│           \n",
       "│                   [[ 1.3722, -0.9412, -0.5144],\n",
       "│                    [-0.8652,  1.1267,  0.7837]],\n",
       "│           \n",
       "│                   [[ 1.3722, -0.9412, -0.5144],\n",
       "│                    [-0.8652,  1.1267,  0.7837]],\n",
       "│           \n",
       "│                   [[ 1.3722, -0.9412, -0.5144],\n",
       "│                    [-0.8652,  1.1267,  0.7837]],\n",
       "│           \n",
       "│                   [[ 1.3722, -0.9412, -0.5144],\n",
       "│                    [-0.8652,  1.1267,  0.7837]],\n",
       "│           \n",
       "│                   [[ 1.3722, -0.9412, -0.5144],\n",
       "│                    [-0.8652,  1.1267,  0.7837]]])\n",
       "└── 'x' --> <FastTreeValue 0x7f058a7c9430>\n",
       "    └── 'c' --> tensor([[[-3.5516,  0.1473, -0.8741, -0.6011],\n",
       "                         [-1.5128, -0.2074,  0.1758, -0.7763],\n",
       "                         [ 0.4465, -1.9325,  0.7438,  0.8102]],\n",
       "                \n",
       "                        [[-3.5516,  0.1473, -0.8741, -0.6011],\n",
       "                         [-1.5128, -0.2074,  0.1758, -0.7763],\n",
       "                         [ 0.4465, -1.9325,  0.7438,  0.8102]],\n",
       "                \n",
       "                        [[-3.5516,  0.1473, -0.8741, -0.6011],\n",
       "                         [-1.5128, -0.2074,  0.1758, -0.7763],\n",
       "                         [ 0.4465, -1.9325,  0.7438,  0.8102]],\n",
       "                \n",
       "                        [[-3.5516,  0.1473, -0.8741, -0.6011],\n",
       "                         [-1.5128, -0.2074,  0.1758, -0.7763],\n",
       "                         [ 0.4465, -1.9325,  0.7438,  0.8102]],\n",
       "                \n",
       "                        [[-3.5516,  0.1473, -0.8741, -0.6011],\n",
       "                         [-1.5128, -0.2074,  0.1758, -0.7763],\n",
       "                         [ 0.4465, -1.9325,  0.7438,  0.8102]],\n",
       "                \n",
       "                        [[-3.5516,  0.1473, -0.8741, -0.6011],\n",
       "                         [-1.5128, -0.2074,  0.1758, -0.7763],\n",
       "                         [ 0.4465, -1.9325,  0.7438,  0.8102]],\n",
       "                \n",
       "                        [[-3.5516,  0.1473, -0.8741, -0.6011],\n",
       "                         [-1.5128, -0.2074,  0.1758, -0.7763],\n",
       "                         [ 0.4465, -1.9325,  0.7438,  0.8102]],\n",
       "                \n",
       "                        [[-3.5516,  0.1473, -0.8741, -0.6011],\n",
       "                         [-1.5128, -0.2074,  0.1758, -0.7763],\n",
       "                         [ 0.4465, -1.9325,  0.7438,  0.8102]]])"
      ]
     },
     "execution_count": 20,
     "metadata": {},
     "output_type": "execute_result"
    }
   ],
   "source": [
    "t_stack = FastTreeValue.func(subside=True)(torch.stack)\n",
    "\n",
    "t_stack(trees)"
   ]
  },
  {
   "cell_type": "code",
   "execution_count": 21,
   "id": "f8b3f415",
   "metadata": {
    "execution": {
     "iopub.execute_input": "2023-02-27T10:47:45.865737Z",
     "iopub.status.busy": "2023-02-27T10:47:45.865340Z",
     "iopub.status.idle": "2023-02-27T10:47:48.471353Z",
     "shell.execute_reply": "2023-02-27T10:47:48.470453Z"
    }
   },
   "outputs": [
    {
     "name": "stdout",
     "output_type": "stream",
     "text": [
      "32 µs ± 340 ns per loop (mean ± std. dev. of 7 runs, 10,000 loops each)\n"
     ]
    }
   ],
   "source": [
    "%timeit t_stack(trees)"
   ]
  },
  {
   "cell_type": "code",
   "execution_count": 22,
   "id": "94b56771",
   "metadata": {
    "execution": {
     "iopub.execute_input": "2023-02-27T10:47:48.475408Z",
     "iopub.status.busy": "2023-02-27T10:47:48.474767Z",
     "iopub.status.idle": "2023-02-27T10:47:48.485110Z",
     "shell.execute_reply": "2023-02-27T10:47:48.484427Z"
    }
   },
   "outputs": [
    {
     "data": {
      "text/plain": [
       "<FastTreeValue 0x7f0634ae2490>\n",
       "├── 'a' --> tensor([[ 1.3722, -0.9412, -0.5144],\n",
       "│                   [-0.8652,  1.1267,  0.7837],\n",
       "│                   [ 1.3722, -0.9412, -0.5144],\n",
       "│                   [-0.8652,  1.1267,  0.7837],\n",
       "│                   [ 1.3722, -0.9412, -0.5144],\n",
       "│                   [-0.8652,  1.1267,  0.7837],\n",
       "│                   [ 1.3722, -0.9412, -0.5144],\n",
       "│                   [-0.8652,  1.1267,  0.7837],\n",
       "│                   [ 1.3722, -0.9412, -0.5144],\n",
       "│                   [-0.8652,  1.1267,  0.7837],\n",
       "│                   [ 1.3722, -0.9412, -0.5144],\n",
       "│                   [-0.8652,  1.1267,  0.7837],\n",
       "│                   [ 1.3722, -0.9412, -0.5144],\n",
       "│                   [-0.8652,  1.1267,  0.7837],\n",
       "│                   [ 1.3722, -0.9412, -0.5144],\n",
       "│                   [-0.8652,  1.1267,  0.7837]])\n",
       "└── 'x' --> <FastTreeValue 0x7f0607f8d4f0>\n",
       "    └── 'c' --> tensor([[-3.5516,  0.1473, -0.8741, -0.6011],\n",
       "                        [-1.5128, -0.2074,  0.1758, -0.7763],\n",
       "                        [ 0.4465, -1.9325,  0.7438,  0.8102],\n",
       "                        [-3.5516,  0.1473, -0.8741, -0.6011],\n",
       "                        [-1.5128, -0.2074,  0.1758, -0.7763],\n",
       "                        [ 0.4465, -1.9325,  0.7438,  0.8102],\n",
       "                        [-3.5516,  0.1473, -0.8741, -0.6011],\n",
       "                        [-1.5128, -0.2074,  0.1758, -0.7763],\n",
       "                        [ 0.4465, -1.9325,  0.7438,  0.8102],\n",
       "                        [-3.5516,  0.1473, -0.8741, -0.6011],\n",
       "                        [-1.5128, -0.2074,  0.1758, -0.7763],\n",
       "                        [ 0.4465, -1.9325,  0.7438,  0.8102],\n",
       "                        [-3.5516,  0.1473, -0.8741, -0.6011],\n",
       "                        [-1.5128, -0.2074,  0.1758, -0.7763],\n",
       "                        [ 0.4465, -1.9325,  0.7438,  0.8102],\n",
       "                        [-3.5516,  0.1473, -0.8741, -0.6011],\n",
       "                        [-1.5128, -0.2074,  0.1758, -0.7763],\n",
       "                        [ 0.4465, -1.9325,  0.7438,  0.8102],\n",
       "                        [-3.5516,  0.1473, -0.8741, -0.6011],\n",
       "                        [-1.5128, -0.2074,  0.1758, -0.7763],\n",
       "                        [ 0.4465, -1.9325,  0.7438,  0.8102],\n",
       "                        [-3.5516,  0.1473, -0.8741, -0.6011],\n",
       "                        [-1.5128, -0.2074,  0.1758, -0.7763],\n",
       "                        [ 0.4465, -1.9325,  0.7438,  0.8102]])"
      ]
     },
     "execution_count": 22,
     "metadata": {},
     "output_type": "execute_result"
    }
   ],
   "source": [
    "t_cat = FastTreeValue.func(subside=True)(torch.cat)\n",
    "\n",
    "t_cat(trees)"
   ]
  },
  {
   "cell_type": "code",
   "execution_count": 23,
   "id": "5e9c06a6",
   "metadata": {
    "execution": {
     "iopub.execute_input": "2023-02-27T10:47:48.488450Z",
     "iopub.status.busy": "2023-02-27T10:47:48.487853Z",
     "iopub.status.idle": "2023-02-27T10:47:50.885064Z",
     "shell.execute_reply": "2023-02-27T10:47:50.884134Z"
    }
   },
   "outputs": [
    {
     "name": "stdout",
     "output_type": "stream",
     "text": [
      "29.5 µs ± 79.7 ns per loop (mean ± std. dev. of 7 runs, 10,000 loops each)\n"
     ]
    }
   ],
   "source": [
    "%timeit t_cat(trees)"
   ]
  },
  {
   "cell_type": "code",
   "execution_count": 24,
   "id": "a3ab5c8f",
   "metadata": {
    "execution": {
     "iopub.execute_input": "2023-02-27T10:47:50.888830Z",
     "iopub.status.busy": "2023-02-27T10:47:50.888135Z",
     "iopub.status.idle": "2023-02-27T10:47:55.541894Z",
     "shell.execute_reply": "2023-02-27T10:47:55.540760Z"
    }
   },
   "outputs": [
    {
     "name": "stdout",
     "output_type": "stream",
     "text": [
      "57.3 µs ± 97.5 ns per loop (mean ± std. dev. of 7 runs, 10,000 loops each)\n"
     ]
    }
   ],
   "source": [
    "t_split = FastTreeValue.func(rise=True)(torch.split)\n",
    "tree = FastTreeValue({\n",
    "    'obs': torch.randn(8, 4, 84, 84),\n",
    "    'action': torch.randint(0, 6, size=(8, 1,)),\n",
    "    'reward': torch.rand(8, 1),\n",
    "})\n",
    "\n",
    "%timeit t_split(tree, 1)"
   ]
  },
  {
   "cell_type": "markdown",
   "id": "31c3ec0b",
   "metadata": {},
   "source": [
    "### Performance of Tianshou Batch"
   ]
  },
  {
   "cell_type": "code",
   "execution_count": 25,
   "id": "9ead828a",
   "metadata": {
    "execution": {
     "iopub.execute_input": "2023-02-27T10:47:55.545586Z",
     "iopub.status.busy": "2023-02-27T10:47:55.545075Z",
     "iopub.status.idle": "2023-02-27T10:47:55.553739Z",
     "shell.execute_reply": "2023-02-27T10:47:55.553086Z"
    }
   },
   "outputs": [
    {
     "data": {
      "text/plain": [
       "Batch(\n",
       "    x: Batch(\n",
       "           c: tensor([[[-3.5516,  0.1473, -0.8741, -0.6011],\n",
       "                       [-1.5128, -0.2074,  0.1758, -0.7763],\n",
       "                       [ 0.4465, -1.9325,  0.7438,  0.8102]],\n",
       "              \n",
       "                      [[-3.5516,  0.1473, -0.8741, -0.6011],\n",
       "                       [-1.5128, -0.2074,  0.1758, -0.7763],\n",
       "                       [ 0.4465, -1.9325,  0.7438,  0.8102]],\n",
       "              \n",
       "                      [[-3.5516,  0.1473, -0.8741, -0.6011],\n",
       "                       [-1.5128, -0.2074,  0.1758, -0.7763],\n",
       "                       [ 0.4465, -1.9325,  0.7438,  0.8102]],\n",
       "              \n",
       "                      [[-3.5516,  0.1473, -0.8741, -0.6011],\n",
       "                       [-1.5128, -0.2074,  0.1758, -0.7763],\n",
       "                       [ 0.4465, -1.9325,  0.7438,  0.8102]],\n",
       "              \n",
       "                      [[-3.5516,  0.1473, -0.8741, -0.6011],\n",
       "                       [-1.5128, -0.2074,  0.1758, -0.7763],\n",
       "                       [ 0.4465, -1.9325,  0.7438,  0.8102]],\n",
       "              \n",
       "                      [[-3.5516,  0.1473, -0.8741, -0.6011],\n",
       "                       [-1.5128, -0.2074,  0.1758, -0.7763],\n",
       "                       [ 0.4465, -1.9325,  0.7438,  0.8102]],\n",
       "              \n",
       "                      [[-3.5516,  0.1473, -0.8741, -0.6011],\n",
       "                       [-1.5128, -0.2074,  0.1758, -0.7763],\n",
       "                       [ 0.4465, -1.9325,  0.7438,  0.8102]],\n",
       "              \n",
       "                      [[-3.5516,  0.1473, -0.8741, -0.6011],\n",
       "                       [-1.5128, -0.2074,  0.1758, -0.7763],\n",
       "                       [ 0.4465, -1.9325,  0.7438,  0.8102]]]),\n",
       "       ),\n",
       "    a: tensor([[[ 1.3722, -0.9412, -0.5144],\n",
       "                [-0.8652,  1.1267,  0.7837]],\n",
       "       \n",
       "               [[ 1.3722, -0.9412, -0.5144],\n",
       "                [-0.8652,  1.1267,  0.7837]],\n",
       "       \n",
       "               [[ 1.3722, -0.9412, -0.5144],\n",
       "                [-0.8652,  1.1267,  0.7837]],\n",
       "       \n",
       "               [[ 1.3722, -0.9412, -0.5144],\n",
       "                [-0.8652,  1.1267,  0.7837]],\n",
       "       \n",
       "               [[ 1.3722, -0.9412, -0.5144],\n",
       "                [-0.8652,  1.1267,  0.7837]],\n",
       "       \n",
       "               [[ 1.3722, -0.9412, -0.5144],\n",
       "                [-0.8652,  1.1267,  0.7837]],\n",
       "       \n",
       "               [[ 1.3722, -0.9412, -0.5144],\n",
       "                [-0.8652,  1.1267,  0.7837]],\n",
       "       \n",
       "               [[ 1.3722, -0.9412, -0.5144],\n",
       "                [-0.8652,  1.1267,  0.7837]]]),\n",
       ")"
      ]
     },
     "execution_count": 25,
     "metadata": {},
     "output_type": "execute_result"
    }
   ],
   "source": [
    "batches = [Batch(**_TREE_DATA_2) for _ in range(8)]\n",
    "\n",
    "Batch.stack(batches)"
   ]
  },
  {
   "cell_type": "code",
   "execution_count": 26,
   "id": "ec9037a3",
   "metadata": {
    "execution": {
     "iopub.execute_input": "2023-02-27T10:47:55.556984Z",
     "iopub.status.busy": "2023-02-27T10:47:55.556412Z",
     "iopub.status.idle": "2023-02-27T10:48:01.965253Z",
     "shell.execute_reply": "2023-02-27T10:48:01.964361Z"
    }
   },
   "outputs": [
    {
     "name": "stdout",
     "output_type": "stream",
     "text": [
      "78.9 µs ± 722 ns per loop (mean ± std. dev. of 7 runs, 10,000 loops each)\n"
     ]
    }
   ],
   "source": [
    "%timeit Batch.stack(batches)"
   ]
  },
  {
   "cell_type": "code",
   "execution_count": 27,
   "id": "cb8ab77e",
   "metadata": {
    "execution": {
     "iopub.execute_input": "2023-02-27T10:48:01.969091Z",
     "iopub.status.busy": "2023-02-27T10:48:01.968515Z",
     "iopub.status.idle": "2023-02-27T10:48:01.976860Z",
     "shell.execute_reply": "2023-02-27T10:48:01.975997Z"
    }
   },
   "outputs": [
    {
     "data": {
      "text/plain": [
       "Batch(\n",
       "    x: Batch(\n",
       "           c: tensor([[-3.5516,  0.1473, -0.8741, -0.6011],\n",
       "                      [-1.5128, -0.2074,  0.1758, -0.7763],\n",
       "                      [ 0.4465, -1.9325,  0.7438,  0.8102],\n",
       "                      [-3.5516,  0.1473, -0.8741, -0.6011],\n",
       "                      [-1.5128, -0.2074,  0.1758, -0.7763],\n",
       "                      [ 0.4465, -1.9325,  0.7438,  0.8102],\n",
       "                      [-3.5516,  0.1473, -0.8741, -0.6011],\n",
       "                      [-1.5128, -0.2074,  0.1758, -0.7763],\n",
       "                      [ 0.4465, -1.9325,  0.7438,  0.8102],\n",
       "                      [-3.5516,  0.1473, -0.8741, -0.6011],\n",
       "                      [-1.5128, -0.2074,  0.1758, -0.7763],\n",
       "                      [ 0.4465, -1.9325,  0.7438,  0.8102],\n",
       "                      [-3.5516,  0.1473, -0.8741, -0.6011],\n",
       "                      [-1.5128, -0.2074,  0.1758, -0.7763],\n",
       "                      [ 0.4465, -1.9325,  0.7438,  0.8102],\n",
       "                      [-3.5516,  0.1473, -0.8741, -0.6011],\n",
       "                      [-1.5128, -0.2074,  0.1758, -0.7763],\n",
       "                      [ 0.4465, -1.9325,  0.7438,  0.8102],\n",
       "                      [-3.5516,  0.1473, -0.8741, -0.6011],\n",
       "                      [-1.5128, -0.2074,  0.1758, -0.7763],\n",
       "                      [ 0.4465, -1.9325,  0.7438,  0.8102],\n",
       "                      [-3.5516,  0.1473, -0.8741, -0.6011],\n",
       "                      [-1.5128, -0.2074,  0.1758, -0.7763],\n",
       "                      [ 0.4465, -1.9325,  0.7438,  0.8102]]),\n",
       "       ),\n",
       "    a: tensor([[ 1.3722, -0.9412, -0.5144],\n",
       "               [-0.8652,  1.1267,  0.7837],\n",
       "               [ 1.3722, -0.9412, -0.5144],\n",
       "               [-0.8652,  1.1267,  0.7837],\n",
       "               [ 1.3722, -0.9412, -0.5144],\n",
       "               [-0.8652,  1.1267,  0.7837],\n",
       "               [ 1.3722, -0.9412, -0.5144],\n",
       "               [-0.8652,  1.1267,  0.7837],\n",
       "               [ 1.3722, -0.9412, -0.5144],\n",
       "               [-0.8652,  1.1267,  0.7837],\n",
       "               [ 1.3722, -0.9412, -0.5144],\n",
       "               [-0.8652,  1.1267,  0.7837],\n",
       "               [ 1.3722, -0.9412, -0.5144],\n",
       "               [-0.8652,  1.1267,  0.7837],\n",
       "               [ 1.3722, -0.9412, -0.5144],\n",
       "               [-0.8652,  1.1267,  0.7837]]),\n",
       ")"
      ]
     },
     "execution_count": 27,
     "metadata": {},
     "output_type": "execute_result"
    }
   ],
   "source": [
    "Batch.cat(batches)"
   ]
  },
  {
   "cell_type": "code",
   "execution_count": 28,
   "id": "18dfb045",
   "metadata": {
    "execution": {
     "iopub.execute_input": "2023-02-27T10:48:01.979653Z",
     "iopub.status.busy": "2023-02-27T10:48:01.979191Z",
     "iopub.status.idle": "2023-02-27T10:48:13.742886Z",
     "shell.execute_reply": "2023-02-27T10:48:13.742005Z"
    }
   },
   "outputs": [
    {
     "name": "stdout",
     "output_type": "stream",
     "text": [
      "145 µs ± 326 ns per loop (mean ± std. dev. of 7 runs, 10,000 loops each)\n"
     ]
    }
   ],
   "source": [
    "%timeit Batch.cat(batches)"
   ]
  },
  {
   "cell_type": "code",
   "execution_count": 29,
   "id": "c6688e51",
   "metadata": {
    "execution": {
     "iopub.execute_input": "2023-02-27T10:48:13.746320Z",
     "iopub.status.busy": "2023-02-27T10:48:13.745873Z",
     "iopub.status.idle": "2023-02-27T10:48:16.432104Z",
     "shell.execute_reply": "2023-02-27T10:48:16.431415Z"
    }
   },
   "outputs": [
    {
     "name": "stdout",
     "output_type": "stream",
     "text": [
      "330 µs ± 2.24 µs per loop (mean ± std. dev. of 7 runs, 1,000 loops each)\n"
     ]
    }
   ],
   "source": [
    "batch = Batch({\n",
    "    'obs': torch.randn(8, 4, 84, 84),\n",
    "    'action': torch.randint(0, 6, size=(8, 1,)),\n",
    "    'reward': torch.rand(8, 1)}\n",
    ")\n",
    "\n",
    "%timeit list(Batch.split(batch, 1, shuffle=False, merge_last=True))"
   ]
  },
  {
   "cell_type": "code",
   "execution_count": null,
   "id": "2539fbd9",
   "metadata": {},
   "outputs": [],
   "source": []
  }
 ],
 "metadata": {
  "kernelspec": {
   "display_name": "Python 3 (ipykernel)",
   "language": "python",
   "name": "python3"
  },
  "language_info": {
   "codemirror_mode": {
    "name": "ipython",
    "version": 3
   },
   "file_extension": ".py",
   "mimetype": "text/x-python",
   "name": "python",
   "nbconvert_exporter": "python",
   "pygments_lexer": "ipython3",
   "version": "3.8.16"
  }
 },
 "nbformat": 4,
 "nbformat_minor": 5
}
