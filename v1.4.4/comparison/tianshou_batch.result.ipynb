{
 "cells": [
  {
   "cell_type": "markdown",
   "id": "9d39d946",
   "metadata": {},
   "source": [
    "# Comparison Between TreeValue and Tianshou Batch"
   ]
  },
  {
   "cell_type": "markdown",
   "id": "3c6db2d4",
   "metadata": {},
   "source": [
    "In this section, we will take a look at the feature and performance of the [Tianshou Batch](https://github.com/thu-ml/tianshou) library, which is developed by Tsinghua Machine Learning Group."
   ]
  },
  {
   "cell_type": "markdown",
   "id": "069361b0",
   "metadata": {},
   "source": [
    "Before starting the comparison, let us define some thing."
   ]
  },
  {
   "cell_type": "code",
   "execution_count": 1,
   "id": "06fc8d26",
   "metadata": {
    "execution": {
     "iopub.execute_input": "2023-02-23T08:21:06.890532Z",
     "iopub.status.busy": "2023-02-23T08:21:06.889958Z",
     "iopub.status.idle": "2023-02-23T08:21:08.005543Z",
     "shell.execute_reply": "2023-02-23T08:21:08.004260Z"
    }
   },
   "outputs": [
    {
     "name": "stderr",
     "output_type": "stream",
     "text": [
      "/opt/hostedtoolcache/Python/3.8.16/x64/lib/python3.8/site-packages/tqdm/auto.py:22: TqdmWarning: IProgress not found. Please update jupyter and ipywidgets. See https://ipywidgets.readthedocs.io/en/stable/user_install.html\n",
      "  from .autonotebook import tqdm as notebook_tqdm\n"
     ]
    }
   ],
   "source": [
    "import torch \n",
    "\n",
    "_TREE_DATA_1 = {'a': 1, 'b': 2, 'x': {'c': 3, 'd': 4}}\n",
    "_TREE_DATA_2 = {\n",
    "    'a': torch.randn(2, 3), \n",
    "    'x': {\n",
    "        'c': torch.randn(3, 4)\n",
    "    },\n",
    "}\n",
    "_TREE_DATA_3 = {\n",
    "    'obs': torch.randn(4, 84, 84),\n",
    "    'action': torch.randint(0, 6, size=(1,)),\n",
    "    'reward': torch.rand(1),\n",
    "}"
   ]
  },
  {
   "cell_type": "markdown",
   "id": "83461b25",
   "metadata": {},
   "source": [
    "## Read and Write Operation"
   ]
  },
  {
   "cell_type": "markdown",
   "id": "067b3f73",
   "metadata": {},
   "source": [
    "Reading and writing are the two most common operations in the tree data structure based on the data model (TreeValue and Tianshou Batch both belong to this type), so this section will compare the reading and writing performance of these two libraries."
   ]
  },
  {
   "cell_type": "markdown",
   "id": "5d09a5b7",
   "metadata": {},
   "source": [
    "### TreeValue's Get and Set"
   ]
  },
  {
   "cell_type": "code",
   "execution_count": 2,
   "id": "9519c4bb",
   "metadata": {
    "execution": {
     "iopub.execute_input": "2023-02-23T08:21:08.010282Z",
     "iopub.status.busy": "2023-02-23T08:21:08.009922Z",
     "iopub.status.idle": "2023-02-23T08:21:08.050220Z",
     "shell.execute_reply": "2023-02-23T08:21:08.049481Z"
    }
   },
   "outputs": [],
   "source": [
    "from treevalue import FastTreeValue\n",
    "\n",
    "t = FastTreeValue(_TREE_DATA_2)"
   ]
  },
  {
   "cell_type": "code",
   "execution_count": 3,
   "id": "11c37677",
   "metadata": {
    "execution": {
     "iopub.execute_input": "2023-02-23T08:21:08.053610Z",
     "iopub.status.busy": "2023-02-23T08:21:08.053339Z",
     "iopub.status.idle": "2023-02-23T08:21:08.067690Z",
     "shell.execute_reply": "2023-02-23T08:21:08.066900Z"
    }
   },
   "outputs": [
    {
     "data": {
      "text/plain": [
       "<FastTreeValue 0x7ffa605ce580>\n",
       "├── 'a' --> tensor([[-1.1635,  0.1075, -1.3435],\n",
       "│                   [-1.1074, -0.6950, -1.2539]])\n",
       "└── 'x' --> <FastTreeValue 0x7ffa605ceee0>\n",
       "    └── 'c' --> tensor([[ 0.3708, -0.7123, -1.4279,  0.9349],\n",
       "                        [-2.0740, -0.2970,  1.4854, -0.2964],\n",
       "                        [ 0.4713, -1.2394,  0.0766, -0.3328]])"
      ]
     },
     "execution_count": 3,
     "metadata": {},
     "output_type": "execute_result"
    }
   ],
   "source": [
    "t"
   ]
  },
  {
   "cell_type": "code",
   "execution_count": 4,
   "id": "fd70b0b9",
   "metadata": {
    "execution": {
     "iopub.execute_input": "2023-02-23T08:21:08.071154Z",
     "iopub.status.busy": "2023-02-23T08:21:08.070743Z",
     "iopub.status.idle": "2023-02-23T08:21:08.076274Z",
     "shell.execute_reply": "2023-02-23T08:21:08.075464Z"
    }
   },
   "outputs": [
    {
     "data": {
      "text/plain": [
       "tensor([[-1.1635,  0.1075, -1.3435],\n",
       "        [-1.1074, -0.6950, -1.2539]])"
      ]
     },
     "execution_count": 4,
     "metadata": {},
     "output_type": "execute_result"
    }
   ],
   "source": [
    "t.a"
   ]
  },
  {
   "cell_type": "code",
   "execution_count": 5,
   "id": "c18197bd",
   "metadata": {
    "execution": {
     "iopub.execute_input": "2023-02-23T08:21:08.079606Z",
     "iopub.status.busy": "2023-02-23T08:21:08.078914Z",
     "iopub.status.idle": "2023-02-23T08:21:15.235327Z",
     "shell.execute_reply": "2023-02-23T08:21:15.234358Z"
    }
   },
   "outputs": [
    {
     "name": "stdout",
     "output_type": "stream",
     "text": [
      "88.4 ns ± 0.0394 ns per loop (mean ± std. dev. of 7 runs, 10,000,000 loops each)\n"
     ]
    }
   ],
   "source": [
    "%timeit t.a"
   ]
  },
  {
   "cell_type": "code",
   "execution_count": 6,
   "id": "bd52f867",
   "metadata": {
    "execution": {
     "iopub.execute_input": "2023-02-23T08:21:15.239225Z",
     "iopub.status.busy": "2023-02-23T08:21:15.238772Z",
     "iopub.status.idle": "2023-02-23T08:21:15.250713Z",
     "shell.execute_reply": "2023-02-23T08:21:15.249974Z"
    }
   },
   "outputs": [
    {
     "data": {
      "text/plain": [
       "<FastTreeValue 0x7ffa605ce580>\n",
       "├── 'a' --> tensor([[ 1.2471,  1.0690,  2.7027],\n",
       "│                   [ 1.2866,  1.0209, -0.7131]])\n",
       "└── 'x' --> <FastTreeValue 0x7ffa605ceee0>\n",
       "    └── 'c' --> tensor([[ 0.3708, -0.7123, -1.4279,  0.9349],\n",
       "                        [-2.0740, -0.2970,  1.4854, -0.2964],\n",
       "                        [ 0.4713, -1.2394,  0.0766, -0.3328]])"
      ]
     },
     "execution_count": 6,
     "metadata": {},
     "output_type": "execute_result"
    }
   ],
   "source": [
    "new_value = torch.randn(2, 3)\n",
    "t.a = new_value\n",
    "\n",
    "t"
   ]
  },
  {
   "cell_type": "code",
   "execution_count": 7,
   "id": "bbe04d1c",
   "metadata": {
    "execution": {
     "iopub.execute_input": "2023-02-23T08:21:15.254122Z",
     "iopub.status.busy": "2023-02-23T08:21:15.253385Z",
     "iopub.status.idle": "2023-02-23T08:21:22.142405Z",
     "shell.execute_reply": "2023-02-23T08:21:22.141451Z"
    }
   },
   "outputs": [
    {
     "name": "stdout",
     "output_type": "stream",
     "text": [
      "84.9 ns ± 0.09 ns per loop (mean ± std. dev. of 7 runs, 10,000,000 loops each)\n"
     ]
    }
   ],
   "source": [
    "%timeit t.a = new_value"
   ]
  },
  {
   "cell_type": "markdown",
   "id": "48c49731",
   "metadata": {},
   "source": [
    "### Tianshou Batch's Get and Set"
   ]
  },
  {
   "cell_type": "code",
   "execution_count": 8,
   "id": "f1bb14c1",
   "metadata": {
    "execution": {
     "iopub.execute_input": "2023-02-23T08:21:22.146354Z",
     "iopub.status.busy": "2023-02-23T08:21:22.145585Z",
     "iopub.status.idle": "2023-02-23T08:21:22.567288Z",
     "shell.execute_reply": "2023-02-23T08:21:22.566311Z"
    }
   },
   "outputs": [],
   "source": [
    "from tianshou.data import Batch\n",
    "\n",
    "b = Batch(**_TREE_DATA_2)"
   ]
  },
  {
   "cell_type": "code",
   "execution_count": 9,
   "id": "cb0777c3",
   "metadata": {
    "execution": {
     "iopub.execute_input": "2023-02-23T08:21:22.571589Z",
     "iopub.status.busy": "2023-02-23T08:21:22.571001Z",
     "iopub.status.idle": "2023-02-23T08:21:22.580334Z",
     "shell.execute_reply": "2023-02-23T08:21:22.579614Z"
    }
   },
   "outputs": [
    {
     "data": {
      "text/plain": [
       "Batch(\n",
       "    a: tensor([[-1.1635,  0.1075, -1.3435],\n",
       "               [-1.1074, -0.6950, -1.2539]]),\n",
       "    x: Batch(\n",
       "           c: tensor([[ 0.3708, -0.7123, -1.4279,  0.9349],\n",
       "                      [-2.0740, -0.2970,  1.4854, -0.2964],\n",
       "                      [ 0.4713, -1.2394,  0.0766, -0.3328]]),\n",
       "       ),\n",
       ")"
      ]
     },
     "execution_count": 9,
     "metadata": {},
     "output_type": "execute_result"
    }
   ],
   "source": [
    "b"
   ]
  },
  {
   "cell_type": "code",
   "execution_count": 10,
   "id": "43ef8ea3",
   "metadata": {
    "execution": {
     "iopub.execute_input": "2023-02-23T08:21:22.585104Z",
     "iopub.status.busy": "2023-02-23T08:21:22.584352Z",
     "iopub.status.idle": "2023-02-23T08:21:22.595858Z",
     "shell.execute_reply": "2023-02-23T08:21:22.595055Z"
    }
   },
   "outputs": [
    {
     "data": {
      "text/plain": [
       "tensor([[-1.1635,  0.1075, -1.3435],\n",
       "        [-1.1074, -0.6950, -1.2539]])"
      ]
     },
     "execution_count": 10,
     "metadata": {},
     "output_type": "execute_result"
    }
   ],
   "source": [
    "b.a"
   ]
  },
  {
   "cell_type": "code",
   "execution_count": 11,
   "id": "b785ab72",
   "metadata": {
    "execution": {
     "iopub.execute_input": "2023-02-23T08:21:22.599168Z",
     "iopub.status.busy": "2023-02-23T08:21:22.598727Z",
     "iopub.status.idle": "2023-02-23T08:21:28.293047Z",
     "shell.execute_reply": "2023-02-23T08:21:28.291937Z"
    }
   },
   "outputs": [
    {
     "name": "stdout",
     "output_type": "stream",
     "text": [
      "70 ns ± 0.12 ns per loop (mean ± std. dev. of 7 runs, 10,000,000 loops each)\n"
     ]
    }
   ],
   "source": [
    "%timeit b.a"
   ]
  },
  {
   "cell_type": "code",
   "execution_count": 12,
   "id": "ad54dc69",
   "metadata": {
    "execution": {
     "iopub.execute_input": "2023-02-23T08:21:28.296618Z",
     "iopub.status.busy": "2023-02-23T08:21:28.296070Z",
     "iopub.status.idle": "2023-02-23T08:21:28.303832Z",
     "shell.execute_reply": "2023-02-23T08:21:28.303127Z"
    }
   },
   "outputs": [
    {
     "data": {
      "text/plain": [
       "Batch(\n",
       "    a: tensor([[-1.6168,  0.3355, -0.0789],\n",
       "               [-0.6358, -2.2400, -0.3661]]),\n",
       "    x: Batch(\n",
       "           c: tensor([[ 0.3708, -0.7123, -1.4279,  0.9349],\n",
       "                      [-2.0740, -0.2970,  1.4854, -0.2964],\n",
       "                      [ 0.4713, -1.2394,  0.0766, -0.3328]]),\n",
       "       ),\n",
       ")"
      ]
     },
     "execution_count": 12,
     "metadata": {},
     "output_type": "execute_result"
    }
   ],
   "source": [
    "new_value = torch.randn(2, 3)\n",
    "b.a = new_value\n",
    "\n",
    "b"
   ]
  },
  {
   "cell_type": "code",
   "execution_count": 13,
   "id": "29b1d0bf",
   "metadata": {
    "execution": {
     "iopub.execute_input": "2023-02-23T08:21:28.306837Z",
     "iopub.status.busy": "2023-02-23T08:21:28.306414Z",
     "iopub.status.idle": "2023-02-23T08:21:33.156986Z",
     "shell.execute_reply": "2023-02-23T08:21:33.156133Z"
    }
   },
   "outputs": [
    {
     "name": "stdout",
     "output_type": "stream",
     "text": [
      "596 ns ± 0.71 ns per loop (mean ± std. dev. of 7 runs, 1,000,000 loops each)\n"
     ]
    }
   ],
   "source": [
    "%timeit b.a = new_value"
   ]
  },
  {
   "cell_type": "markdown",
   "id": "b61ad1d0",
   "metadata": {},
   "source": [
    "## Initialization"
   ]
  },
  {
   "cell_type": "markdown",
   "id": "d70f0d54",
   "metadata": {},
   "source": [
    "### TreeValue's Initialization"
   ]
  },
  {
   "cell_type": "code",
   "execution_count": 14,
   "id": "d32a679b",
   "metadata": {
    "execution": {
     "iopub.execute_input": "2023-02-23T08:21:33.160816Z",
     "iopub.status.busy": "2023-02-23T08:21:33.160185Z",
     "iopub.status.idle": "2023-02-23T08:21:42.534971Z",
     "shell.execute_reply": "2023-02-23T08:21:42.533737Z"
    }
   },
   "outputs": [
    {
     "name": "stdout",
     "output_type": "stream",
     "text": [
      "1.16 µs ± 1.57 ns per loop (mean ± std. dev. of 7 runs, 1,000,000 loops each)\n"
     ]
    }
   ],
   "source": [
    "%timeit FastTreeValue(_TREE_DATA_1)"
   ]
  },
  {
   "cell_type": "markdown",
   "id": "24f3707b",
   "metadata": {},
   "source": [
    "### Tianshou Batch's Initialization"
   ]
  },
  {
   "cell_type": "code",
   "execution_count": 15,
   "id": "ac3958df",
   "metadata": {
    "execution": {
     "iopub.execute_input": "2023-02-23T08:21:42.538495Z",
     "iopub.status.busy": "2023-02-23T08:21:42.538196Z",
     "iopub.status.idle": "2023-02-23T08:21:52.465425Z",
     "shell.execute_reply": "2023-02-23T08:21:52.464293Z"
    }
   },
   "outputs": [
    {
     "name": "stdout",
     "output_type": "stream",
     "text": [
      "12.2 µs ± 46.6 ns per loop (mean ± std. dev. of 7 runs, 100,000 loops each)\n"
     ]
    }
   ],
   "source": [
    "%timeit Batch(**_TREE_DATA_1)"
   ]
  },
  {
   "cell_type": "markdown",
   "id": "1ab82e2d",
   "metadata": {},
   "source": [
    "## Deep Copy Operation"
   ]
  },
  {
   "cell_type": "code",
   "execution_count": 16,
   "id": "210a9442",
   "metadata": {
    "execution": {
     "iopub.execute_input": "2023-02-23T08:21:52.469670Z",
     "iopub.status.busy": "2023-02-23T08:21:52.468938Z",
     "iopub.status.idle": "2023-02-23T08:21:52.473826Z",
     "shell.execute_reply": "2023-02-23T08:21:52.473087Z"
    }
   },
   "outputs": [],
   "source": [
    "import copy"
   ]
  },
  {
   "cell_type": "markdown",
   "id": "5a736274",
   "metadata": {},
   "source": [
    "### Deep Copy of TreeValue"
   ]
  },
  {
   "cell_type": "code",
   "execution_count": 17,
   "id": "f9bcadd6",
   "metadata": {
    "execution": {
     "iopub.execute_input": "2023-02-23T08:21:52.477249Z",
     "iopub.status.busy": "2023-02-23T08:21:52.476804Z",
     "iopub.status.idle": "2023-02-23T08:22:06.060957Z",
     "shell.execute_reply": "2023-02-23T08:22:06.060162Z"
    }
   },
   "outputs": [
    {
     "name": "stdout",
     "output_type": "stream",
     "text": [
      "167 µs ± 2.3 µs per loop (mean ± std. dev. of 7 runs, 10,000 loops each)\n"
     ]
    }
   ],
   "source": [
    "t3 = FastTreeValue(_TREE_DATA_3)\n",
    "%timeit copy.deepcopy(t3)"
   ]
  },
  {
   "cell_type": "markdown",
   "id": "bf8be7ea",
   "metadata": {},
   "source": [
    "### Deep Copy of Tianshou Batch"
   ]
  },
  {
   "cell_type": "code",
   "execution_count": 18,
   "id": "91998e6f",
   "metadata": {
    "execution": {
     "iopub.execute_input": "2023-02-23T08:22:06.064733Z",
     "iopub.status.busy": "2023-02-23T08:22:06.064227Z",
     "iopub.status.idle": "2023-02-23T08:22:19.580621Z",
     "shell.execute_reply": "2023-02-23T08:22:19.579895Z"
    }
   },
   "outputs": [
    {
     "name": "stdout",
     "output_type": "stream",
     "text": [
      "167 µs ± 739 ns per loop (mean ± std. dev. of 7 runs, 10,000 loops each)\n"
     ]
    }
   ],
   "source": [
    "b3 = Batch(**_TREE_DATA_3)\n",
    "%timeit copy.deepcopy(b3)"
   ]
  },
  {
   "cell_type": "markdown",
   "id": "223162fb",
   "metadata": {},
   "source": [
    "## Stack, Concat and Split Operation"
   ]
  },
  {
   "cell_type": "markdown",
   "id": "85fa4a73",
   "metadata": {},
   "source": [
    "### Performance of TreeValue"
   ]
  },
  {
   "cell_type": "code",
   "execution_count": 19,
   "id": "a0c2b697",
   "metadata": {
    "execution": {
     "iopub.execute_input": "2023-02-23T08:22:19.584263Z",
     "iopub.status.busy": "2023-02-23T08:22:19.583696Z",
     "iopub.status.idle": "2023-02-23T08:22:19.587615Z",
     "shell.execute_reply": "2023-02-23T08:22:19.586958Z"
    }
   },
   "outputs": [],
   "source": [
    "trees = [FastTreeValue(_TREE_DATA_2) for _ in range(8)]"
   ]
  },
  {
   "cell_type": "code",
   "execution_count": 20,
   "id": "017ea5a5",
   "metadata": {
    "execution": {
     "iopub.execute_input": "2023-02-23T08:22:19.590639Z",
     "iopub.status.busy": "2023-02-23T08:22:19.590102Z",
     "iopub.status.idle": "2023-02-23T08:22:19.598331Z",
     "shell.execute_reply": "2023-02-23T08:22:19.597645Z"
    }
   },
   "outputs": [
    {
     "data": {
      "text/plain": [
       "<FastTreeValue 0x7ffa60554220>\n",
       "├── 'a' --> tensor([[[-1.1635,  0.1075, -1.3435],\n",
       "│                    [-1.1074, -0.6950, -1.2539]],\n",
       "│           \n",
       "│                   [[-1.1635,  0.1075, -1.3435],\n",
       "│                    [-1.1074, -0.6950, -1.2539]],\n",
       "│           \n",
       "│                   [[-1.1635,  0.1075, -1.3435],\n",
       "│                    [-1.1074, -0.6950, -1.2539]],\n",
       "│           \n",
       "│                   [[-1.1635,  0.1075, -1.3435],\n",
       "│                    [-1.1074, -0.6950, -1.2539]],\n",
       "│           \n",
       "│                   [[-1.1635,  0.1075, -1.3435],\n",
       "│                    [-1.1074, -0.6950, -1.2539]],\n",
       "│           \n",
       "│                   [[-1.1635,  0.1075, -1.3435],\n",
       "│                    [-1.1074, -0.6950, -1.2539]],\n",
       "│           \n",
       "│                   [[-1.1635,  0.1075, -1.3435],\n",
       "│                    [-1.1074, -0.6950, -1.2539]],\n",
       "│           \n",
       "│                   [[-1.1635,  0.1075, -1.3435],\n",
       "│                    [-1.1074, -0.6950, -1.2539]]])\n",
       "└── 'x' --> <FastTreeValue 0x7ff9b485ff40>\n",
       "    └── 'c' --> tensor([[[ 0.3708, -0.7123, -1.4279,  0.9349],\n",
       "                         [-2.0740, -0.2970,  1.4854, -0.2964],\n",
       "                         [ 0.4713, -1.2394,  0.0766, -0.3328]],\n",
       "                \n",
       "                        [[ 0.3708, -0.7123, -1.4279,  0.9349],\n",
       "                         [-2.0740, -0.2970,  1.4854, -0.2964],\n",
       "                         [ 0.4713, -1.2394,  0.0766, -0.3328]],\n",
       "                \n",
       "                        [[ 0.3708, -0.7123, -1.4279,  0.9349],\n",
       "                         [-2.0740, -0.2970,  1.4854, -0.2964],\n",
       "                         [ 0.4713, -1.2394,  0.0766, -0.3328]],\n",
       "                \n",
       "                        [[ 0.3708, -0.7123, -1.4279,  0.9349],\n",
       "                         [-2.0740, -0.2970,  1.4854, -0.2964],\n",
       "                         [ 0.4713, -1.2394,  0.0766, -0.3328]],\n",
       "                \n",
       "                        [[ 0.3708, -0.7123, -1.4279,  0.9349],\n",
       "                         [-2.0740, -0.2970,  1.4854, -0.2964],\n",
       "                         [ 0.4713, -1.2394,  0.0766, -0.3328]],\n",
       "                \n",
       "                        [[ 0.3708, -0.7123, -1.4279,  0.9349],\n",
       "                         [-2.0740, -0.2970,  1.4854, -0.2964],\n",
       "                         [ 0.4713, -1.2394,  0.0766, -0.3328]],\n",
       "                \n",
       "                        [[ 0.3708, -0.7123, -1.4279,  0.9349],\n",
       "                         [-2.0740, -0.2970,  1.4854, -0.2964],\n",
       "                         [ 0.4713, -1.2394,  0.0766, -0.3328]],\n",
       "                \n",
       "                        [[ 0.3708, -0.7123, -1.4279,  0.9349],\n",
       "                         [-2.0740, -0.2970,  1.4854, -0.2964],\n",
       "                         [ 0.4713, -1.2394,  0.0766, -0.3328]]])"
      ]
     },
     "execution_count": 20,
     "metadata": {},
     "output_type": "execute_result"
    }
   ],
   "source": [
    "t_stack = FastTreeValue.func(subside=True)(torch.stack)\n",
    "\n",
    "t_stack(trees)"
   ]
  },
  {
   "cell_type": "code",
   "execution_count": 21,
   "id": "f8b3f415",
   "metadata": {
    "execution": {
     "iopub.execute_input": "2023-02-23T08:22:19.601351Z",
     "iopub.status.busy": "2023-02-23T08:22:19.600821Z",
     "iopub.status.idle": "2023-02-23T08:22:22.699425Z",
     "shell.execute_reply": "2023-02-23T08:22:22.698447Z"
    }
   },
   "outputs": [
    {
     "name": "stdout",
     "output_type": "stream",
     "text": [
      "38.1 µs ± 81 ns per loop (mean ± std. dev. of 7 runs, 10,000 loops each)\n"
     ]
    }
   ],
   "source": [
    "%timeit t_stack(trees)"
   ]
  },
  {
   "cell_type": "code",
   "execution_count": 22,
   "id": "94b56771",
   "metadata": {
    "execution": {
     "iopub.execute_input": "2023-02-23T08:22:22.703141Z",
     "iopub.status.busy": "2023-02-23T08:22:22.702674Z",
     "iopub.status.idle": "2023-02-23T08:22:22.711677Z",
     "shell.execute_reply": "2023-02-23T08:22:22.710855Z"
    }
   },
   "outputs": [
    {
     "data": {
      "text/plain": [
       "<FastTreeValue 0x7ffa605ce550>\n",
       "├── 'a' --> tensor([[-1.1635,  0.1075, -1.3435],\n",
       "│                   [-1.1074, -0.6950, -1.2539],\n",
       "│                   [-1.1635,  0.1075, -1.3435],\n",
       "│                   [-1.1074, -0.6950, -1.2539],\n",
       "│                   [-1.1635,  0.1075, -1.3435],\n",
       "│                   [-1.1074, -0.6950, -1.2539],\n",
       "│                   [-1.1635,  0.1075, -1.3435],\n",
       "│                   [-1.1074, -0.6950, -1.2539],\n",
       "│                   [-1.1635,  0.1075, -1.3435],\n",
       "│                   [-1.1074, -0.6950, -1.2539],\n",
       "│                   [-1.1635,  0.1075, -1.3435],\n",
       "│                   [-1.1074, -0.6950, -1.2539],\n",
       "│                   [-1.1635,  0.1075, -1.3435],\n",
       "│                   [-1.1074, -0.6950, -1.2539],\n",
       "│                   [-1.1635,  0.1075, -1.3435],\n",
       "│                   [-1.1074, -0.6950, -1.2539]])\n",
       "└── 'x' --> <FastTreeValue 0x7ff9bae3c2b0>\n",
       "    └── 'c' --> tensor([[ 0.3708, -0.7123, -1.4279,  0.9349],\n",
       "                        [-2.0740, -0.2970,  1.4854, -0.2964],\n",
       "                        [ 0.4713, -1.2394,  0.0766, -0.3328],\n",
       "                        [ 0.3708, -0.7123, -1.4279,  0.9349],\n",
       "                        [-2.0740, -0.2970,  1.4854, -0.2964],\n",
       "                        [ 0.4713, -1.2394,  0.0766, -0.3328],\n",
       "                        [ 0.3708, -0.7123, -1.4279,  0.9349],\n",
       "                        [-2.0740, -0.2970,  1.4854, -0.2964],\n",
       "                        [ 0.4713, -1.2394,  0.0766, -0.3328],\n",
       "                        [ 0.3708, -0.7123, -1.4279,  0.9349],\n",
       "                        [-2.0740, -0.2970,  1.4854, -0.2964],\n",
       "                        [ 0.4713, -1.2394,  0.0766, -0.3328],\n",
       "                        [ 0.3708, -0.7123, -1.4279,  0.9349],\n",
       "                        [-2.0740, -0.2970,  1.4854, -0.2964],\n",
       "                        [ 0.4713, -1.2394,  0.0766, -0.3328],\n",
       "                        [ 0.3708, -0.7123, -1.4279,  0.9349],\n",
       "                        [-2.0740, -0.2970,  1.4854, -0.2964],\n",
       "                        [ 0.4713, -1.2394,  0.0766, -0.3328],\n",
       "                        [ 0.3708, -0.7123, -1.4279,  0.9349],\n",
       "                        [-2.0740, -0.2970,  1.4854, -0.2964],\n",
       "                        [ 0.4713, -1.2394,  0.0766, -0.3328],\n",
       "                        [ 0.3708, -0.7123, -1.4279,  0.9349],\n",
       "                        [-2.0740, -0.2970,  1.4854, -0.2964],\n",
       "                        [ 0.4713, -1.2394,  0.0766, -0.3328]])"
      ]
     },
     "execution_count": 22,
     "metadata": {},
     "output_type": "execute_result"
    }
   ],
   "source": [
    "t_cat = FastTreeValue.func(subside=True)(torch.cat)\n",
    "\n",
    "t_cat(trees)"
   ]
  },
  {
   "cell_type": "code",
   "execution_count": 23,
   "id": "5e9c06a6",
   "metadata": {
    "execution": {
     "iopub.execute_input": "2023-02-23T08:22:22.716005Z",
     "iopub.status.busy": "2023-02-23T08:22:22.714465Z",
     "iopub.status.idle": "2023-02-23T08:22:25.646240Z",
     "shell.execute_reply": "2023-02-23T08:22:25.645109Z"
    }
   },
   "outputs": [
    {
     "name": "stdout",
     "output_type": "stream",
     "text": [
      "36 µs ± 121 ns per loop (mean ± std. dev. of 7 runs, 10,000 loops each)\n"
     ]
    }
   ],
   "source": [
    "%timeit t_cat(trees)"
   ]
  },
  {
   "cell_type": "code",
   "execution_count": 24,
   "id": "a3ab5c8f",
   "metadata": {
    "execution": {
     "iopub.execute_input": "2023-02-23T08:22:25.650903Z",
     "iopub.status.busy": "2023-02-23T08:22:25.650225Z",
     "iopub.status.idle": "2023-02-23T08:22:30.819111Z",
     "shell.execute_reply": "2023-02-23T08:22:30.817761Z"
    }
   },
   "outputs": [
    {
     "name": "stdout",
     "output_type": "stream",
     "text": [
      "63.6 µs ± 87.8 ns per loop (mean ± std. dev. of 7 runs, 10,000 loops each)\n"
     ]
    }
   ],
   "source": [
    "t_split = FastTreeValue.func(rise=True)(torch.split)\n",
    "tree = FastTreeValue({\n",
    "    'obs': torch.randn(8, 4, 84, 84),\n",
    "    'action': torch.randint(0, 6, size=(8, 1,)),\n",
    "    'reward': torch.rand(8, 1),\n",
    "})\n",
    "\n",
    "%timeit t_split(tree, 1)"
   ]
  },
  {
   "cell_type": "markdown",
   "id": "31c3ec0b",
   "metadata": {},
   "source": [
    "### Performance of Tianshou Batch"
   ]
  },
  {
   "cell_type": "code",
   "execution_count": 25,
   "id": "9ead828a",
   "metadata": {
    "execution": {
     "iopub.execute_input": "2023-02-23T08:22:30.823253Z",
     "iopub.status.busy": "2023-02-23T08:22:30.822780Z",
     "iopub.status.idle": "2023-02-23T08:22:30.832549Z",
     "shell.execute_reply": "2023-02-23T08:22:30.831822Z"
    }
   },
   "outputs": [
    {
     "data": {
      "text/plain": [
       "Batch(\n",
       "    a: tensor([[[-1.1635,  0.1075, -1.3435],\n",
       "                [-1.1074, -0.6950, -1.2539]],\n",
       "       \n",
       "               [[-1.1635,  0.1075, -1.3435],\n",
       "                [-1.1074, -0.6950, -1.2539]],\n",
       "       \n",
       "               [[-1.1635,  0.1075, -1.3435],\n",
       "                [-1.1074, -0.6950, -1.2539]],\n",
       "       \n",
       "               [[-1.1635,  0.1075, -1.3435],\n",
       "                [-1.1074, -0.6950, -1.2539]],\n",
       "       \n",
       "               [[-1.1635,  0.1075, -1.3435],\n",
       "                [-1.1074, -0.6950, -1.2539]],\n",
       "       \n",
       "               [[-1.1635,  0.1075, -1.3435],\n",
       "                [-1.1074, -0.6950, -1.2539]],\n",
       "       \n",
       "               [[-1.1635,  0.1075, -1.3435],\n",
       "                [-1.1074, -0.6950, -1.2539]],\n",
       "       \n",
       "               [[-1.1635,  0.1075, -1.3435],\n",
       "                [-1.1074, -0.6950, -1.2539]]]),\n",
       "    x: Batch(\n",
       "           c: tensor([[[ 0.3708, -0.7123, -1.4279,  0.9349],\n",
       "                       [-2.0740, -0.2970,  1.4854, -0.2964],\n",
       "                       [ 0.4713, -1.2394,  0.0766, -0.3328]],\n",
       "              \n",
       "                      [[ 0.3708, -0.7123, -1.4279,  0.9349],\n",
       "                       [-2.0740, -0.2970,  1.4854, -0.2964],\n",
       "                       [ 0.4713, -1.2394,  0.0766, -0.3328]],\n",
       "              \n",
       "                      [[ 0.3708, -0.7123, -1.4279,  0.9349],\n",
       "                       [-2.0740, -0.2970,  1.4854, -0.2964],\n",
       "                       [ 0.4713, -1.2394,  0.0766, -0.3328]],\n",
       "              \n",
       "                      [[ 0.3708, -0.7123, -1.4279,  0.9349],\n",
       "                       [-2.0740, -0.2970,  1.4854, -0.2964],\n",
       "                       [ 0.4713, -1.2394,  0.0766, -0.3328]],\n",
       "              \n",
       "                      [[ 0.3708, -0.7123, -1.4279,  0.9349],\n",
       "                       [-2.0740, -0.2970,  1.4854, -0.2964],\n",
       "                       [ 0.4713, -1.2394,  0.0766, -0.3328]],\n",
       "              \n",
       "                      [[ 0.3708, -0.7123, -1.4279,  0.9349],\n",
       "                       [-2.0740, -0.2970,  1.4854, -0.2964],\n",
       "                       [ 0.4713, -1.2394,  0.0766, -0.3328]],\n",
       "              \n",
       "                      [[ 0.3708, -0.7123, -1.4279,  0.9349],\n",
       "                       [-2.0740, -0.2970,  1.4854, -0.2964],\n",
       "                       [ 0.4713, -1.2394,  0.0766, -0.3328]],\n",
       "              \n",
       "                      [[ 0.3708, -0.7123, -1.4279,  0.9349],\n",
       "                       [-2.0740, -0.2970,  1.4854, -0.2964],\n",
       "                       [ 0.4713, -1.2394,  0.0766, -0.3328]]]),\n",
       "       ),\n",
       ")"
      ]
     },
     "execution_count": 25,
     "metadata": {},
     "output_type": "execute_result"
    }
   ],
   "source": [
    "batches = [Batch(**_TREE_DATA_2) for _ in range(8)]\n",
    "\n",
    "Batch.stack(batches)"
   ]
  },
  {
   "cell_type": "code",
   "execution_count": 26,
   "id": "ec9037a3",
   "metadata": {
    "execution": {
     "iopub.execute_input": "2023-02-23T08:22:30.835900Z",
     "iopub.status.busy": "2023-02-23T08:22:30.835205Z",
     "iopub.status.idle": "2023-02-23T08:22:38.366972Z",
     "shell.execute_reply": "2023-02-23T08:22:38.365832Z"
    }
   },
   "outputs": [
    {
     "name": "stdout",
     "output_type": "stream",
     "text": [
      "92.7 µs ± 267 ns per loop (mean ± std. dev. of 7 runs, 10,000 loops each)\n"
     ]
    }
   ],
   "source": [
    "%timeit Batch.stack(batches)"
   ]
  },
  {
   "cell_type": "code",
   "execution_count": 27,
   "id": "cb8ab77e",
   "metadata": {
    "execution": {
     "iopub.execute_input": "2023-02-23T08:22:38.370942Z",
     "iopub.status.busy": "2023-02-23T08:22:38.370367Z",
     "iopub.status.idle": "2023-02-23T08:22:38.379223Z",
     "shell.execute_reply": "2023-02-23T08:22:38.378509Z"
    }
   },
   "outputs": [
    {
     "data": {
      "text/plain": [
       "Batch(\n",
       "    a: tensor([[-1.1635,  0.1075, -1.3435],\n",
       "               [-1.1074, -0.6950, -1.2539],\n",
       "               [-1.1635,  0.1075, -1.3435],\n",
       "               [-1.1074, -0.6950, -1.2539],\n",
       "               [-1.1635,  0.1075, -1.3435],\n",
       "               [-1.1074, -0.6950, -1.2539],\n",
       "               [-1.1635,  0.1075, -1.3435],\n",
       "               [-1.1074, -0.6950, -1.2539],\n",
       "               [-1.1635,  0.1075, -1.3435],\n",
       "               [-1.1074, -0.6950, -1.2539],\n",
       "               [-1.1635,  0.1075, -1.3435],\n",
       "               [-1.1074, -0.6950, -1.2539],\n",
       "               [-1.1635,  0.1075, -1.3435],\n",
       "               [-1.1074, -0.6950, -1.2539],\n",
       "               [-1.1635,  0.1075, -1.3435],\n",
       "               [-1.1074, -0.6950, -1.2539]]),\n",
       "    x: Batch(\n",
       "           c: tensor([[ 0.3708, -0.7123, -1.4279,  0.9349],\n",
       "                      [-2.0740, -0.2970,  1.4854, -0.2964],\n",
       "                      [ 0.4713, -1.2394,  0.0766, -0.3328],\n",
       "                      [ 0.3708, -0.7123, -1.4279,  0.9349],\n",
       "                      [-2.0740, -0.2970,  1.4854, -0.2964],\n",
       "                      [ 0.4713, -1.2394,  0.0766, -0.3328],\n",
       "                      [ 0.3708, -0.7123, -1.4279,  0.9349],\n",
       "                      [-2.0740, -0.2970,  1.4854, -0.2964],\n",
       "                      [ 0.4713, -1.2394,  0.0766, -0.3328],\n",
       "                      [ 0.3708, -0.7123, -1.4279,  0.9349],\n",
       "                      [-2.0740, -0.2970,  1.4854, -0.2964],\n",
       "                      [ 0.4713, -1.2394,  0.0766, -0.3328],\n",
       "                      [ 0.3708, -0.7123, -1.4279,  0.9349],\n",
       "                      [-2.0740, -0.2970,  1.4854, -0.2964],\n",
       "                      [ 0.4713, -1.2394,  0.0766, -0.3328],\n",
       "                      [ 0.3708, -0.7123, -1.4279,  0.9349],\n",
       "                      [-2.0740, -0.2970,  1.4854, -0.2964],\n",
       "                      [ 0.4713, -1.2394,  0.0766, -0.3328],\n",
       "                      [ 0.3708, -0.7123, -1.4279,  0.9349],\n",
       "                      [-2.0740, -0.2970,  1.4854, -0.2964],\n",
       "                      [ 0.4713, -1.2394,  0.0766, -0.3328],\n",
       "                      [ 0.3708, -0.7123, -1.4279,  0.9349],\n",
       "                      [-2.0740, -0.2970,  1.4854, -0.2964],\n",
       "                      [ 0.4713, -1.2394,  0.0766, -0.3328]]),\n",
       "       ),\n",
       ")"
      ]
     },
     "execution_count": 27,
     "metadata": {},
     "output_type": "execute_result"
    }
   ],
   "source": [
    "Batch.cat(batches)"
   ]
  },
  {
   "cell_type": "code",
   "execution_count": 28,
   "id": "18dfb045",
   "metadata": {
    "execution": {
     "iopub.execute_input": "2023-02-23T08:22:38.382656Z",
     "iopub.status.busy": "2023-02-23T08:22:38.381987Z",
     "iopub.status.idle": "2023-02-23T08:22:52.233748Z",
     "shell.execute_reply": "2023-02-23T08:22:52.232425Z"
    }
   },
   "outputs": [
    {
     "name": "stdout",
     "output_type": "stream",
     "text": [
      "171 µs ± 385 ns per loop (mean ± std. dev. of 7 runs, 10,000 loops each)\n"
     ]
    }
   ],
   "source": [
    "%timeit Batch.cat(batches)"
   ]
  },
  {
   "cell_type": "code",
   "execution_count": 29,
   "id": "c6688e51",
   "metadata": {
    "execution": {
     "iopub.execute_input": "2023-02-23T08:22:52.238942Z",
     "iopub.status.busy": "2023-02-23T08:22:52.237442Z",
     "iopub.status.idle": "2023-02-23T08:22:55.398527Z",
     "shell.execute_reply": "2023-02-23T08:22:55.397721Z"
    }
   },
   "outputs": [
    {
     "name": "stdout",
     "output_type": "stream",
     "text": [
      "388 µs ± 2.87 µs per loop (mean ± std. dev. of 7 runs, 1,000 loops each)\n"
     ]
    }
   ],
   "source": [
    "batch = Batch({\n",
    "    'obs': torch.randn(8, 4, 84, 84),\n",
    "    'action': torch.randint(0, 6, size=(8, 1,)),\n",
    "    'reward': torch.rand(8, 1)}\n",
    ")\n",
    "\n",
    "%timeit list(Batch.split(batch, 1, shuffle=False, merge_last=True))"
   ]
  },
  {
   "cell_type": "code",
   "execution_count": null,
   "id": "2539fbd9",
   "metadata": {},
   "outputs": [],
   "source": []
  }
 ],
 "metadata": {
  "kernelspec": {
   "display_name": "Python 3 (ipykernel)",
   "language": "python",
   "name": "python3"
  },
  "language_info": {
   "codemirror_mode": {
    "name": "ipython",
    "version": 3
   },
   "file_extension": ".py",
   "mimetype": "text/x-python",
   "name": "python",
   "nbconvert_exporter": "python",
   "pygments_lexer": "ipython3",
   "version": "3.8.16"
  }
 },
 "nbformat": 4,
 "nbformat_minor": 5
}
