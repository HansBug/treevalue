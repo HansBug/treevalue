{
 "cells": [
  {
   "cell_type": "markdown",
   "id": "9d39d946",
   "metadata": {},
   "source": [
    "# Comparison Between TreeValue and Tianshou Batch"
   ]
  },
  {
   "cell_type": "markdown",
   "id": "3c6db2d4",
   "metadata": {},
   "source": [
    "In this section, we will take a look at the feature and performance of the [Tianshou Batch](https://github.com/thu-ml/tianshou) library, which is developed by Tsinghua Machine Learning Group."
   ]
  },
  {
   "cell_type": "markdown",
   "id": "069361b0",
   "metadata": {},
   "source": [
    "Before starting the comparison, let us define some thing."
   ]
  },
  {
   "cell_type": "code",
   "execution_count": 1,
   "id": "06fc8d26",
   "metadata": {
    "execution": {
     "iopub.execute_input": "2023-02-12T17:39:05.568197Z",
     "iopub.status.busy": "2023-02-12T17:39:05.567975Z",
     "iopub.status.idle": "2023-02-12T17:39:06.470914Z",
     "shell.execute_reply": "2023-02-12T17:39:06.470211Z"
    }
   },
   "outputs": [
    {
     "name": "stderr",
     "output_type": "stream",
     "text": [
      "/opt/hostedtoolcache/Python/3.8.16/x64/lib/python3.8/site-packages/tqdm/auto.py:22: TqdmWarning: IProgress not found. Please update jupyter and ipywidgets. See https://ipywidgets.readthedocs.io/en/stable/user_install.html\n",
      "  from .autonotebook import tqdm as notebook_tqdm\n"
     ]
    }
   ],
   "source": [
    "import torch \n",
    "\n",
    "_TREE_DATA_1 = {'a': 1, 'b': 2, 'x': {'c': 3, 'd': 4}}\n",
    "_TREE_DATA_2 = {\n",
    "    'a': torch.randn(2, 3), \n",
    "    'x': {\n",
    "        'c': torch.randn(3, 4)\n",
    "    },\n",
    "}\n",
    "_TREE_DATA_3 = {\n",
    "    'obs': torch.randn(4, 84, 84),\n",
    "    'action': torch.randint(0, 6, size=(1,)),\n",
    "    'reward': torch.rand(1),\n",
    "}"
   ]
  },
  {
   "cell_type": "markdown",
   "id": "83461b25",
   "metadata": {},
   "source": [
    "## Read and Write Operation"
   ]
  },
  {
   "cell_type": "markdown",
   "id": "067b3f73",
   "metadata": {},
   "source": [
    "Reading and writing are the two most common operations in the tree data structure based on the data model (TreeValue and Tianshou Batch both belong to this type), so this section will compare the reading and writing performance of these two libraries."
   ]
  },
  {
   "cell_type": "markdown",
   "id": "5d09a5b7",
   "metadata": {},
   "source": [
    "### TreeValue's Get and Set"
   ]
  },
  {
   "cell_type": "code",
   "execution_count": 2,
   "id": "9519c4bb",
   "metadata": {
    "execution": {
     "iopub.execute_input": "2023-02-12T17:39:06.474265Z",
     "iopub.status.busy": "2023-02-12T17:39:06.473849Z",
     "iopub.status.idle": "2023-02-12T17:39:06.506891Z",
     "shell.execute_reply": "2023-02-12T17:39:06.506231Z"
    }
   },
   "outputs": [],
   "source": [
    "from treevalue import FastTreeValue\n",
    "\n",
    "t = FastTreeValue(_TREE_DATA_2)"
   ]
  },
  {
   "cell_type": "code",
   "execution_count": 3,
   "id": "11c37677",
   "metadata": {
    "execution": {
     "iopub.execute_input": "2023-02-12T17:39:06.509923Z",
     "iopub.status.busy": "2023-02-12T17:39:06.509352Z",
     "iopub.status.idle": "2023-02-12T17:39:06.517755Z",
     "shell.execute_reply": "2023-02-12T17:39:06.517107Z"
    }
   },
   "outputs": [
    {
     "data": {
      "text/plain": [
       "<FastTreeValue 0x7f2db672fc10>\n",
       "├── 'a' --> tensor([[-1.3924, -0.0311,  1.1857],\n",
       "│                   [-0.8526, -0.3420,  0.3321]])\n",
       "└── 'x' --> <FastTreeValue 0x7f2db672f910>\n",
       "    └── 'c' --> tensor([[ 1.1846, -1.7728, -0.7627, -0.1018],\n",
       "                        [-0.2380, -0.5250,  1.5084, -0.4666],\n",
       "                        [-0.5357, -0.1745,  0.2971, -1.6321]])"
      ]
     },
     "execution_count": 3,
     "metadata": {},
     "output_type": "execute_result"
    }
   ],
   "source": [
    "t"
   ]
  },
  {
   "cell_type": "code",
   "execution_count": 4,
   "id": "fd70b0b9",
   "metadata": {
    "execution": {
     "iopub.execute_input": "2023-02-12T17:39:06.520336Z",
     "iopub.status.busy": "2023-02-12T17:39:06.520128Z",
     "iopub.status.idle": "2023-02-12T17:39:06.524891Z",
     "shell.execute_reply": "2023-02-12T17:39:06.524253Z"
    }
   },
   "outputs": [
    {
     "data": {
      "text/plain": [
       "tensor([[-1.3924, -0.0311,  1.1857],\n",
       "        [-0.8526, -0.3420,  0.3321]])"
      ]
     },
     "execution_count": 4,
     "metadata": {},
     "output_type": "execute_result"
    }
   ],
   "source": [
    "t.a"
   ]
  },
  {
   "cell_type": "code",
   "execution_count": 5,
   "id": "c18197bd",
   "metadata": {
    "execution": {
     "iopub.execute_input": "2023-02-12T17:39:06.527466Z",
     "iopub.status.busy": "2023-02-12T17:39:06.527131Z",
     "iopub.status.idle": "2023-02-12T17:39:11.620986Z",
     "shell.execute_reply": "2023-02-12T17:39:11.620265Z"
    }
   },
   "outputs": [
    {
     "name": "stdout",
     "output_type": "stream",
     "text": [
      "62.9 ns ± 0.0698 ns per loop (mean ± std. dev. of 7 runs, 10,000,000 loops each)\n"
     ]
    }
   ],
   "source": [
    "%timeit t.a"
   ]
  },
  {
   "cell_type": "code",
   "execution_count": 6,
   "id": "bd52f867",
   "metadata": {
    "execution": {
     "iopub.execute_input": "2023-02-12T17:39:11.623741Z",
     "iopub.status.busy": "2023-02-12T17:39:11.623392Z",
     "iopub.status.idle": "2023-02-12T17:39:11.630044Z",
     "shell.execute_reply": "2023-02-12T17:39:11.629429Z"
    }
   },
   "outputs": [
    {
     "data": {
      "text/plain": [
       "<FastTreeValue 0x7f2db672fc10>\n",
       "├── 'a' --> tensor([[-1.7071, -1.0846, -0.0383],\n",
       "│                   [-0.7532,  0.1694,  0.1776]])\n",
       "└── 'x' --> <FastTreeValue 0x7f2db672f910>\n",
       "    └── 'c' --> tensor([[ 1.1846, -1.7728, -0.7627, -0.1018],\n",
       "                        [-0.2380, -0.5250,  1.5084, -0.4666],\n",
       "                        [-0.5357, -0.1745,  0.2971, -1.6321]])"
      ]
     },
     "execution_count": 6,
     "metadata": {},
     "output_type": "execute_result"
    }
   ],
   "source": [
    "new_value = torch.randn(2, 3)\n",
    "t.a = new_value\n",
    "\n",
    "t"
   ]
  },
  {
   "cell_type": "code",
   "execution_count": 7,
   "id": "bbe04d1c",
   "metadata": {
    "execution": {
     "iopub.execute_input": "2023-02-12T17:39:11.632536Z",
     "iopub.status.busy": "2023-02-12T17:39:11.632193Z",
     "iopub.status.idle": "2023-02-12T17:39:16.411839Z",
     "shell.execute_reply": "2023-02-12T17:39:16.411129Z"
    }
   },
   "outputs": [
    {
     "name": "stdout",
     "output_type": "stream",
     "text": [
      "58.9 ns ± 0.0619 ns per loop (mean ± std. dev. of 7 runs, 10,000,000 loops each)\n"
     ]
    }
   ],
   "source": [
    "%timeit t.a = new_value"
   ]
  },
  {
   "cell_type": "markdown",
   "id": "48c49731",
   "metadata": {},
   "source": [
    "### Tianshou Batch's Get and Set"
   ]
  },
  {
   "cell_type": "code",
   "execution_count": 8,
   "id": "f1bb14c1",
   "metadata": {
    "execution": {
     "iopub.execute_input": "2023-02-12T17:39:16.414627Z",
     "iopub.status.busy": "2023-02-12T17:39:16.414272Z",
     "iopub.status.idle": "2023-02-12T17:39:16.744195Z",
     "shell.execute_reply": "2023-02-12T17:39:16.743513Z"
    }
   },
   "outputs": [],
   "source": [
    "from tianshou.data import Batch\n",
    "\n",
    "b = Batch(**_TREE_DATA_2)"
   ]
  },
  {
   "cell_type": "code",
   "execution_count": 9,
   "id": "cb0777c3",
   "metadata": {
    "execution": {
     "iopub.execute_input": "2023-02-12T17:39:16.747203Z",
     "iopub.status.busy": "2023-02-12T17:39:16.746901Z",
     "iopub.status.idle": "2023-02-12T17:39:16.752248Z",
     "shell.execute_reply": "2023-02-12T17:39:16.751635Z"
    }
   },
   "outputs": [
    {
     "data": {
      "text/plain": [
       "Batch(\n",
       "    a: tensor([[-1.3924, -0.0311,  1.1857],\n",
       "               [-0.8526, -0.3420,  0.3321]]),\n",
       "    x: Batch(\n",
       "           c: tensor([[ 1.1846, -1.7728, -0.7627, -0.1018],\n",
       "                      [-0.2380, -0.5250,  1.5084, -0.4666],\n",
       "                      [-0.5357, -0.1745,  0.2971, -1.6321]]),\n",
       "       ),\n",
       ")"
      ]
     },
     "execution_count": 9,
     "metadata": {},
     "output_type": "execute_result"
    }
   ],
   "source": [
    "b"
   ]
  },
  {
   "cell_type": "code",
   "execution_count": 10,
   "id": "43ef8ea3",
   "metadata": {
    "execution": {
     "iopub.execute_input": "2023-02-12T17:39:16.754756Z",
     "iopub.status.busy": "2023-02-12T17:39:16.754390Z",
     "iopub.status.idle": "2023-02-12T17:39:16.758961Z",
     "shell.execute_reply": "2023-02-12T17:39:16.758297Z"
    }
   },
   "outputs": [
    {
     "data": {
      "text/plain": [
       "tensor([[-1.3924, -0.0311,  1.1857],\n",
       "        [-0.8526, -0.3420,  0.3321]])"
      ]
     },
     "execution_count": 10,
     "metadata": {},
     "output_type": "execute_result"
    }
   ],
   "source": [
    "b.a"
   ]
  },
  {
   "cell_type": "code",
   "execution_count": 11,
   "id": "b785ab72",
   "metadata": {
    "execution": {
     "iopub.execute_input": "2023-02-12T17:39:16.761379Z",
     "iopub.status.busy": "2023-02-12T17:39:16.761037Z",
     "iopub.status.idle": "2023-02-12T17:39:21.785378Z",
     "shell.execute_reply": "2023-02-12T17:39:21.784669Z"
    }
   },
   "outputs": [
    {
     "name": "stdout",
     "output_type": "stream",
     "text": [
      "62.3 ns ± 0.0157 ns per loop (mean ± std. dev. of 7 runs, 10,000,000 loops each)\n"
     ]
    }
   ],
   "source": [
    "%timeit b.a"
   ]
  },
  {
   "cell_type": "code",
   "execution_count": 12,
   "id": "ad54dc69",
   "metadata": {
    "execution": {
     "iopub.execute_input": "2023-02-12T17:39:21.788324Z",
     "iopub.status.busy": "2023-02-12T17:39:21.787976Z",
     "iopub.status.idle": "2023-02-12T17:39:21.794221Z",
     "shell.execute_reply": "2023-02-12T17:39:21.793641Z"
    }
   },
   "outputs": [
    {
     "data": {
      "text/plain": [
       "Batch(\n",
       "    a: tensor([[-0.6801, -2.1640,  0.4632],\n",
       "               [ 0.8423, -0.3593, -0.3650]]),\n",
       "    x: Batch(\n",
       "           c: tensor([[ 1.1846, -1.7728, -0.7627, -0.1018],\n",
       "                      [-0.2380, -0.5250,  1.5084, -0.4666],\n",
       "                      [-0.5357, -0.1745,  0.2971, -1.6321]]),\n",
       "       ),\n",
       ")"
      ]
     },
     "execution_count": 12,
     "metadata": {},
     "output_type": "execute_result"
    }
   ],
   "source": [
    "new_value = torch.randn(2, 3)\n",
    "b.a = new_value\n",
    "\n",
    "b"
   ]
  },
  {
   "cell_type": "code",
   "execution_count": 13,
   "id": "29b1d0bf",
   "metadata": {
    "execution": {
     "iopub.execute_input": "2023-02-12T17:39:21.796861Z",
     "iopub.status.busy": "2023-02-12T17:39:21.796373Z",
     "iopub.status.idle": "2023-02-12T17:39:25.753970Z",
     "shell.execute_reply": "2023-02-12T17:39:25.753138Z"
    }
   },
   "outputs": [
    {
     "name": "stdout",
     "output_type": "stream",
     "text": [
      "487 ns ± 6.08 ns per loop (mean ± std. dev. of 7 runs, 1,000,000 loops each)\n"
     ]
    }
   ],
   "source": [
    "%timeit b.a = new_value"
   ]
  },
  {
   "cell_type": "markdown",
   "id": "b61ad1d0",
   "metadata": {},
   "source": [
    "## Initialization"
   ]
  },
  {
   "cell_type": "markdown",
   "id": "d70f0d54",
   "metadata": {},
   "source": [
    "### TreeValue's Initialization"
   ]
  },
  {
   "cell_type": "code",
   "execution_count": 14,
   "id": "d32a679b",
   "metadata": {
    "execution": {
     "iopub.execute_input": "2023-02-12T17:39:25.756910Z",
     "iopub.status.busy": "2023-02-12T17:39:25.756553Z",
     "iopub.status.idle": "2023-02-12T17:39:32.604967Z",
     "shell.execute_reply": "2023-02-12T17:39:32.604250Z"
    }
   },
   "outputs": [
    {
     "name": "stdout",
     "output_type": "stream",
     "text": [
      "843 ns ± 0.36 ns per loop (mean ± std. dev. of 7 runs, 1,000,000 loops each)\n"
     ]
    }
   ],
   "source": [
    "%timeit FastTreeValue(_TREE_DATA_1)"
   ]
  },
  {
   "cell_type": "markdown",
   "id": "24f3707b",
   "metadata": {},
   "source": [
    "### Tianshou Batch's Initialization"
   ]
  },
  {
   "cell_type": "code",
   "execution_count": 15,
   "id": "ac3958df",
   "metadata": {
    "execution": {
     "iopub.execute_input": "2023-02-12T17:39:32.607971Z",
     "iopub.status.busy": "2023-02-12T17:39:32.607414Z",
     "iopub.status.idle": "2023-02-12T17:39:42.143002Z",
     "shell.execute_reply": "2023-02-12T17:39:42.142337Z"
    }
   },
   "outputs": [
    {
     "name": "stdout",
     "output_type": "stream",
     "text": [
      "11.8 µs ± 8.83 ns per loop (mean ± std. dev. of 7 runs, 100,000 loops each)\n"
     ]
    }
   ],
   "source": [
    "%timeit Batch(**_TREE_DATA_1)"
   ]
  },
  {
   "cell_type": "markdown",
   "id": "1ab82e2d",
   "metadata": {},
   "source": [
    "## Deep Copy Operation"
   ]
  },
  {
   "cell_type": "code",
   "execution_count": 16,
   "id": "210a9442",
   "metadata": {
    "execution": {
     "iopub.execute_input": "2023-02-12T17:39:42.146175Z",
     "iopub.status.busy": "2023-02-12T17:39:42.145659Z",
     "iopub.status.idle": "2023-02-12T17:39:42.149636Z",
     "shell.execute_reply": "2023-02-12T17:39:42.149050Z"
    }
   },
   "outputs": [],
   "source": [
    "import copy"
   ]
  },
  {
   "cell_type": "markdown",
   "id": "5a736274",
   "metadata": {},
   "source": [
    "### Deep Copy of TreeValue"
   ]
  },
  {
   "cell_type": "code",
   "execution_count": 17,
   "id": "f9bcadd6",
   "metadata": {
    "execution": {
     "iopub.execute_input": "2023-02-12T17:39:42.152284Z",
     "iopub.status.busy": "2023-02-12T17:39:42.151735Z",
     "iopub.status.idle": "2023-02-12T17:39:53.164602Z",
     "shell.execute_reply": "2023-02-12T17:39:53.164039Z"
    }
   },
   "outputs": [
    {
     "name": "stdout",
     "output_type": "stream",
     "text": [
      "136 µs ± 596 ns per loop (mean ± std. dev. of 7 runs, 10,000 loops each)\n"
     ]
    }
   ],
   "source": [
    "t3 = FastTreeValue(_TREE_DATA_3)\n",
    "%timeit copy.deepcopy(t3)"
   ]
  },
  {
   "cell_type": "markdown",
   "id": "bf8be7ea",
   "metadata": {},
   "source": [
    "### Deep Copy of Tianshou Batch"
   ]
  },
  {
   "cell_type": "code",
   "execution_count": 18,
   "id": "91998e6f",
   "metadata": {
    "execution": {
     "iopub.execute_input": "2023-02-12T17:39:53.167461Z",
     "iopub.status.busy": "2023-02-12T17:39:53.167103Z",
     "iopub.status.idle": "2023-02-12T17:40:04.361233Z",
     "shell.execute_reply": "2023-02-12T17:40:04.360667Z"
    }
   },
   "outputs": [
    {
     "name": "stdout",
     "output_type": "stream",
     "text": [
      "138 µs ± 132 ns per loop (mean ± std. dev. of 7 runs, 10,000 loops each)\n"
     ]
    }
   ],
   "source": [
    "b3 = Batch(**_TREE_DATA_3)\n",
    "%timeit copy.deepcopy(b3)"
   ]
  },
  {
   "cell_type": "markdown",
   "id": "223162fb",
   "metadata": {},
   "source": [
    "## Stack, Concat and Split Operation"
   ]
  },
  {
   "cell_type": "markdown",
   "id": "85fa4a73",
   "metadata": {},
   "source": [
    "### Performance of TreeValue"
   ]
  },
  {
   "cell_type": "code",
   "execution_count": 19,
   "id": "a0c2b697",
   "metadata": {
    "execution": {
     "iopub.execute_input": "2023-02-12T17:40:04.364902Z",
     "iopub.status.busy": "2023-02-12T17:40:04.363751Z",
     "iopub.status.idle": "2023-02-12T17:40:04.368258Z",
     "shell.execute_reply": "2023-02-12T17:40:04.367725Z"
    }
   },
   "outputs": [],
   "source": [
    "trees = [FastTreeValue(_TREE_DATA_2) for _ in range(8)]"
   ]
  },
  {
   "cell_type": "code",
   "execution_count": 20,
   "id": "017ea5a5",
   "metadata": {
    "execution": {
     "iopub.execute_input": "2023-02-12T17:40:04.371991Z",
     "iopub.status.busy": "2023-02-12T17:40:04.370878Z",
     "iopub.status.idle": "2023-02-12T17:40:04.379878Z",
     "shell.execute_reply": "2023-02-12T17:40:04.379356Z"
    }
   },
   "outputs": [
    {
     "data": {
      "text/plain": [
       "<FastTreeValue 0x7f2db6735730>\n",
       "├── 'a' --> tensor([[[-1.3924, -0.0311,  1.1857],\n",
       "│                    [-0.8526, -0.3420,  0.3321]],\n",
       "│           \n",
       "│                   [[-1.3924, -0.0311,  1.1857],\n",
       "│                    [-0.8526, -0.3420,  0.3321]],\n",
       "│           \n",
       "│                   [[-1.3924, -0.0311,  1.1857],\n",
       "│                    [-0.8526, -0.3420,  0.3321]],\n",
       "│           \n",
       "│                   [[-1.3924, -0.0311,  1.1857],\n",
       "│                    [-0.8526, -0.3420,  0.3321]],\n",
       "│           \n",
       "│                   [[-1.3924, -0.0311,  1.1857],\n",
       "│                    [-0.8526, -0.3420,  0.3321]],\n",
       "│           \n",
       "│                   [[-1.3924, -0.0311,  1.1857],\n",
       "│                    [-0.8526, -0.3420,  0.3321]],\n",
       "│           \n",
       "│                   [[-1.3924, -0.0311,  1.1857],\n",
       "│                    [-0.8526, -0.3420,  0.3321]],\n",
       "│           \n",
       "│                   [[-1.3924, -0.0311,  1.1857],\n",
       "│                    [-0.8526, -0.3420,  0.3321]]])\n",
       "└── 'x' --> <FastTreeValue 0x7f2db6735490>\n",
       "    └── 'c' --> tensor([[[ 1.1846, -1.7728, -0.7627, -0.1018],\n",
       "                         [-0.2380, -0.5250,  1.5084, -0.4666],\n",
       "                         [-0.5357, -0.1745,  0.2971, -1.6321]],\n",
       "                \n",
       "                        [[ 1.1846, -1.7728, -0.7627, -0.1018],\n",
       "                         [-0.2380, -0.5250,  1.5084, -0.4666],\n",
       "                         [-0.5357, -0.1745,  0.2971, -1.6321]],\n",
       "                \n",
       "                        [[ 1.1846, -1.7728, -0.7627, -0.1018],\n",
       "                         [-0.2380, -0.5250,  1.5084, -0.4666],\n",
       "                         [-0.5357, -0.1745,  0.2971, -1.6321]],\n",
       "                \n",
       "                        [[ 1.1846, -1.7728, -0.7627, -0.1018],\n",
       "                         [-0.2380, -0.5250,  1.5084, -0.4666],\n",
       "                         [-0.5357, -0.1745,  0.2971, -1.6321]],\n",
       "                \n",
       "                        [[ 1.1846, -1.7728, -0.7627, -0.1018],\n",
       "                         [-0.2380, -0.5250,  1.5084, -0.4666],\n",
       "                         [-0.5357, -0.1745,  0.2971, -1.6321]],\n",
       "                \n",
       "                        [[ 1.1846, -1.7728, -0.7627, -0.1018],\n",
       "                         [-0.2380, -0.5250,  1.5084, -0.4666],\n",
       "                         [-0.5357, -0.1745,  0.2971, -1.6321]],\n",
       "                \n",
       "                        [[ 1.1846, -1.7728, -0.7627, -0.1018],\n",
       "                         [-0.2380, -0.5250,  1.5084, -0.4666],\n",
       "                         [-0.5357, -0.1745,  0.2971, -1.6321]],\n",
       "                \n",
       "                        [[ 1.1846, -1.7728, -0.7627, -0.1018],\n",
       "                         [-0.2380, -0.5250,  1.5084, -0.4666],\n",
       "                         [-0.5357, -0.1745,  0.2971, -1.6321]]])"
      ]
     },
     "execution_count": 20,
     "metadata": {},
     "output_type": "execute_result"
    }
   ],
   "source": [
    "t_stack = FastTreeValue.func(subside=True)(torch.stack)\n",
    "\n",
    "t_stack(trees)"
   ]
  },
  {
   "cell_type": "code",
   "execution_count": 21,
   "id": "f8b3f415",
   "metadata": {
    "execution": {
     "iopub.execute_input": "2023-02-12T17:40:04.382769Z",
     "iopub.status.busy": "2023-02-12T17:40:04.382370Z",
     "iopub.status.idle": "2023-02-12T17:40:06.965458Z",
     "shell.execute_reply": "2023-02-12T17:40:06.964765Z"
    }
   },
   "outputs": [
    {
     "name": "stdout",
     "output_type": "stream",
     "text": [
      "31.7 µs ± 67.2 ns per loop (mean ± std. dev. of 7 runs, 10,000 loops each)\n"
     ]
    }
   ],
   "source": [
    "%timeit t_stack(trees)"
   ]
  },
  {
   "cell_type": "code",
   "execution_count": 22,
   "id": "94b56771",
   "metadata": {
    "execution": {
     "iopub.execute_input": "2023-02-12T17:40:06.968480Z",
     "iopub.status.busy": "2023-02-12T17:40:06.968102Z",
     "iopub.status.idle": "2023-02-12T17:40:06.976853Z",
     "shell.execute_reply": "2023-02-12T17:40:06.976250Z"
    }
   },
   "outputs": [
    {
     "data": {
      "text/plain": [
       "<FastTreeValue 0x7f2d88b17cd0>\n",
       "├── 'a' --> tensor([[-1.3924, -0.0311,  1.1857],\n",
       "│                   [-0.8526, -0.3420,  0.3321],\n",
       "│                   [-1.3924, -0.0311,  1.1857],\n",
       "│                   [-0.8526, -0.3420,  0.3321],\n",
       "│                   [-1.3924, -0.0311,  1.1857],\n",
       "│                   [-0.8526, -0.3420,  0.3321],\n",
       "│                   [-1.3924, -0.0311,  1.1857],\n",
       "│                   [-0.8526, -0.3420,  0.3321],\n",
       "│                   [-1.3924, -0.0311,  1.1857],\n",
       "│                   [-0.8526, -0.3420,  0.3321],\n",
       "│                   [-1.3924, -0.0311,  1.1857],\n",
       "│                   [-0.8526, -0.3420,  0.3321],\n",
       "│                   [-1.3924, -0.0311,  1.1857],\n",
       "│                   [-0.8526, -0.3420,  0.3321],\n",
       "│                   [-1.3924, -0.0311,  1.1857],\n",
       "│                   [-0.8526, -0.3420,  0.3321]])\n",
       "└── 'x' --> <FastTreeValue 0x7f2d88b17c10>\n",
       "    └── 'c' --> tensor([[ 1.1846, -1.7728, -0.7627, -0.1018],\n",
       "                        [-0.2380, -0.5250,  1.5084, -0.4666],\n",
       "                        [-0.5357, -0.1745,  0.2971, -1.6321],\n",
       "                        [ 1.1846, -1.7728, -0.7627, -0.1018],\n",
       "                        [-0.2380, -0.5250,  1.5084, -0.4666],\n",
       "                        [-0.5357, -0.1745,  0.2971, -1.6321],\n",
       "                        [ 1.1846, -1.7728, -0.7627, -0.1018],\n",
       "                        [-0.2380, -0.5250,  1.5084, -0.4666],\n",
       "                        [-0.5357, -0.1745,  0.2971, -1.6321],\n",
       "                        [ 1.1846, -1.7728, -0.7627, -0.1018],\n",
       "                        [-0.2380, -0.5250,  1.5084, -0.4666],\n",
       "                        [-0.5357, -0.1745,  0.2971, -1.6321],\n",
       "                        [ 1.1846, -1.7728, -0.7627, -0.1018],\n",
       "                        [-0.2380, -0.5250,  1.5084, -0.4666],\n",
       "                        [-0.5357, -0.1745,  0.2971, -1.6321],\n",
       "                        [ 1.1846, -1.7728, -0.7627, -0.1018],\n",
       "                        [-0.2380, -0.5250,  1.5084, -0.4666],\n",
       "                        [-0.5357, -0.1745,  0.2971, -1.6321],\n",
       "                        [ 1.1846, -1.7728, -0.7627, -0.1018],\n",
       "                        [-0.2380, -0.5250,  1.5084, -0.4666],\n",
       "                        [-0.5357, -0.1745,  0.2971, -1.6321],\n",
       "                        [ 1.1846, -1.7728, -0.7627, -0.1018],\n",
       "                        [-0.2380, -0.5250,  1.5084, -0.4666],\n",
       "                        [-0.5357, -0.1745,  0.2971, -1.6321]])"
      ]
     },
     "execution_count": 22,
     "metadata": {},
     "output_type": "execute_result"
    }
   ],
   "source": [
    "t_cat = FastTreeValue.func(subside=True)(torch.cat)\n",
    "\n",
    "t_cat(trees)"
   ]
  },
  {
   "cell_type": "code",
   "execution_count": 23,
   "id": "5e9c06a6",
   "metadata": {
    "execution": {
     "iopub.execute_input": "2023-02-12T17:40:06.979713Z",
     "iopub.status.busy": "2023-02-12T17:40:06.979157Z",
     "iopub.status.idle": "2023-02-12T17:40:09.398670Z",
     "shell.execute_reply": "2023-02-12T17:40:09.397988Z"
    }
   },
   "outputs": [
    {
     "name": "stdout",
     "output_type": "stream",
     "text": [
      "29.7 µs ± 20.5 ns per loop (mean ± std. dev. of 7 runs, 10,000 loops each)\n"
     ]
    }
   ],
   "source": [
    "%timeit t_cat(trees)"
   ]
  },
  {
   "cell_type": "code",
   "execution_count": 24,
   "id": "a3ab5c8f",
   "metadata": {
    "execution": {
     "iopub.execute_input": "2023-02-12T17:40:09.401460Z",
     "iopub.status.busy": "2023-02-12T17:40:09.401093Z",
     "iopub.status.idle": "2023-02-12T17:40:14.245119Z",
     "shell.execute_reply": "2023-02-12T17:40:14.244471Z"
    }
   },
   "outputs": [
    {
     "name": "stdout",
     "output_type": "stream",
     "text": [
      "59.5 µs ± 209 ns per loop (mean ± std. dev. of 7 runs, 10,000 loops each)\n"
     ]
    }
   ],
   "source": [
    "t_split = FastTreeValue.func(rise=True)(torch.split)\n",
    "tree = FastTreeValue({\n",
    "    'obs': torch.randn(8, 4, 84, 84),\n",
    "    'action': torch.randint(0, 6, size=(8, 1,)),\n",
    "    'reward': torch.rand(8, 1),\n",
    "})\n",
    "\n",
    "%timeit t_split(tree, 1)"
   ]
  },
  {
   "cell_type": "markdown",
   "id": "31c3ec0b",
   "metadata": {},
   "source": [
    "### Performance of Tianshou Batch"
   ]
  },
  {
   "cell_type": "code",
   "execution_count": 25,
   "id": "9ead828a",
   "metadata": {
    "execution": {
     "iopub.execute_input": "2023-02-12T17:40:14.248083Z",
     "iopub.status.busy": "2023-02-12T17:40:14.247523Z",
     "iopub.status.idle": "2023-02-12T17:40:14.255406Z",
     "shell.execute_reply": "2023-02-12T17:40:14.254828Z"
    }
   },
   "outputs": [
    {
     "data": {
      "text/plain": [
       "Batch(\n",
       "    x: Batch(\n",
       "           c: tensor([[[ 1.1846, -1.7728, -0.7627, -0.1018],\n",
       "                       [-0.2380, -0.5250,  1.5084, -0.4666],\n",
       "                       [-0.5357, -0.1745,  0.2971, -1.6321]],\n",
       "              \n",
       "                      [[ 1.1846, -1.7728, -0.7627, -0.1018],\n",
       "                       [-0.2380, -0.5250,  1.5084, -0.4666],\n",
       "                       [-0.5357, -0.1745,  0.2971, -1.6321]],\n",
       "              \n",
       "                      [[ 1.1846, -1.7728, -0.7627, -0.1018],\n",
       "                       [-0.2380, -0.5250,  1.5084, -0.4666],\n",
       "                       [-0.5357, -0.1745,  0.2971, -1.6321]],\n",
       "              \n",
       "                      [[ 1.1846, -1.7728, -0.7627, -0.1018],\n",
       "                       [-0.2380, -0.5250,  1.5084, -0.4666],\n",
       "                       [-0.5357, -0.1745,  0.2971, -1.6321]],\n",
       "              \n",
       "                      [[ 1.1846, -1.7728, -0.7627, -0.1018],\n",
       "                       [-0.2380, -0.5250,  1.5084, -0.4666],\n",
       "                       [-0.5357, -0.1745,  0.2971, -1.6321]],\n",
       "              \n",
       "                      [[ 1.1846, -1.7728, -0.7627, -0.1018],\n",
       "                       [-0.2380, -0.5250,  1.5084, -0.4666],\n",
       "                       [-0.5357, -0.1745,  0.2971, -1.6321]],\n",
       "              \n",
       "                      [[ 1.1846, -1.7728, -0.7627, -0.1018],\n",
       "                       [-0.2380, -0.5250,  1.5084, -0.4666],\n",
       "                       [-0.5357, -0.1745,  0.2971, -1.6321]],\n",
       "              \n",
       "                      [[ 1.1846, -1.7728, -0.7627, -0.1018],\n",
       "                       [-0.2380, -0.5250,  1.5084, -0.4666],\n",
       "                       [-0.5357, -0.1745,  0.2971, -1.6321]]]),\n",
       "       ),\n",
       "    a: tensor([[[-1.3924, -0.0311,  1.1857],\n",
       "                [-0.8526, -0.3420,  0.3321]],\n",
       "       \n",
       "               [[-1.3924, -0.0311,  1.1857],\n",
       "                [-0.8526, -0.3420,  0.3321]],\n",
       "       \n",
       "               [[-1.3924, -0.0311,  1.1857],\n",
       "                [-0.8526, -0.3420,  0.3321]],\n",
       "       \n",
       "               [[-1.3924, -0.0311,  1.1857],\n",
       "                [-0.8526, -0.3420,  0.3321]],\n",
       "       \n",
       "               [[-1.3924, -0.0311,  1.1857],\n",
       "                [-0.8526, -0.3420,  0.3321]],\n",
       "       \n",
       "               [[-1.3924, -0.0311,  1.1857],\n",
       "                [-0.8526, -0.3420,  0.3321]],\n",
       "       \n",
       "               [[-1.3924, -0.0311,  1.1857],\n",
       "                [-0.8526, -0.3420,  0.3321]],\n",
       "       \n",
       "               [[-1.3924, -0.0311,  1.1857],\n",
       "                [-0.8526, -0.3420,  0.3321]]]),\n",
       ")"
      ]
     },
     "execution_count": 25,
     "metadata": {},
     "output_type": "execute_result"
    }
   ],
   "source": [
    "batches = [Batch(**_TREE_DATA_2) for _ in range(8)]\n",
    "\n",
    "Batch.stack(batches)"
   ]
  },
  {
   "cell_type": "code",
   "execution_count": 26,
   "id": "ec9037a3",
   "metadata": {
    "execution": {
     "iopub.execute_input": "2023-02-12T17:40:14.258368Z",
     "iopub.status.busy": "2023-02-12T17:40:14.257854Z",
     "iopub.status.idle": "2023-02-12T17:40:20.641769Z",
     "shell.execute_reply": "2023-02-12T17:40:20.641048Z"
    }
   },
   "outputs": [
    {
     "name": "stdout",
     "output_type": "stream",
     "text": [
      "78.6 µs ± 137 ns per loop (mean ± std. dev. of 7 runs, 10,000 loops each)\n"
     ]
    }
   ],
   "source": [
    "%timeit Batch.stack(batches)"
   ]
  },
  {
   "cell_type": "code",
   "execution_count": 27,
   "id": "cb8ab77e",
   "metadata": {
    "execution": {
     "iopub.execute_input": "2023-02-12T17:40:20.644635Z",
     "iopub.status.busy": "2023-02-12T17:40:20.644261Z",
     "iopub.status.idle": "2023-02-12T17:40:20.651787Z",
     "shell.execute_reply": "2023-02-12T17:40:20.651190Z"
    }
   },
   "outputs": [
    {
     "data": {
      "text/plain": [
       "Batch(\n",
       "    x: Batch(\n",
       "           c: tensor([[ 1.1846, -1.7728, -0.7627, -0.1018],\n",
       "                      [-0.2380, -0.5250,  1.5084, -0.4666],\n",
       "                      [-0.5357, -0.1745,  0.2971, -1.6321],\n",
       "                      [ 1.1846, -1.7728, -0.7627, -0.1018],\n",
       "                      [-0.2380, -0.5250,  1.5084, -0.4666],\n",
       "                      [-0.5357, -0.1745,  0.2971, -1.6321],\n",
       "                      [ 1.1846, -1.7728, -0.7627, -0.1018],\n",
       "                      [-0.2380, -0.5250,  1.5084, -0.4666],\n",
       "                      [-0.5357, -0.1745,  0.2971, -1.6321],\n",
       "                      [ 1.1846, -1.7728, -0.7627, -0.1018],\n",
       "                      [-0.2380, -0.5250,  1.5084, -0.4666],\n",
       "                      [-0.5357, -0.1745,  0.2971, -1.6321],\n",
       "                      [ 1.1846, -1.7728, -0.7627, -0.1018],\n",
       "                      [-0.2380, -0.5250,  1.5084, -0.4666],\n",
       "                      [-0.5357, -0.1745,  0.2971, -1.6321],\n",
       "                      [ 1.1846, -1.7728, -0.7627, -0.1018],\n",
       "                      [-0.2380, -0.5250,  1.5084, -0.4666],\n",
       "                      [-0.5357, -0.1745,  0.2971, -1.6321],\n",
       "                      [ 1.1846, -1.7728, -0.7627, -0.1018],\n",
       "                      [-0.2380, -0.5250,  1.5084, -0.4666],\n",
       "                      [-0.5357, -0.1745,  0.2971, -1.6321],\n",
       "                      [ 1.1846, -1.7728, -0.7627, -0.1018],\n",
       "                      [-0.2380, -0.5250,  1.5084, -0.4666],\n",
       "                      [-0.5357, -0.1745,  0.2971, -1.6321]]),\n",
       "       ),\n",
       "    a: tensor([[-1.3924, -0.0311,  1.1857],\n",
       "               [-0.8526, -0.3420,  0.3321],\n",
       "               [-1.3924, -0.0311,  1.1857],\n",
       "               [-0.8526, -0.3420,  0.3321],\n",
       "               [-1.3924, -0.0311,  1.1857],\n",
       "               [-0.8526, -0.3420,  0.3321],\n",
       "               [-1.3924, -0.0311,  1.1857],\n",
       "               [-0.8526, -0.3420,  0.3321],\n",
       "               [-1.3924, -0.0311,  1.1857],\n",
       "               [-0.8526, -0.3420,  0.3321],\n",
       "               [-1.3924, -0.0311,  1.1857],\n",
       "               [-0.8526, -0.3420,  0.3321],\n",
       "               [-1.3924, -0.0311,  1.1857],\n",
       "               [-0.8526, -0.3420,  0.3321],\n",
       "               [-1.3924, -0.0311,  1.1857],\n",
       "               [-0.8526, -0.3420,  0.3321]]),\n",
       ")"
      ]
     },
     "execution_count": 27,
     "metadata": {},
     "output_type": "execute_result"
    }
   ],
   "source": [
    "Batch.cat(batches)"
   ]
  },
  {
   "cell_type": "code",
   "execution_count": 28,
   "id": "18dfb045",
   "metadata": {
    "execution": {
     "iopub.execute_input": "2023-02-12T17:40:20.654362Z",
     "iopub.status.busy": "2023-02-12T17:40:20.654143Z",
     "iopub.status.idle": "2023-02-12T17:40:32.167024Z",
     "shell.execute_reply": "2023-02-12T17:40:32.166277Z"
    }
   },
   "outputs": [
    {
     "name": "stdout",
     "output_type": "stream",
     "text": [
      "142 µs ± 585 ns per loop (mean ± std. dev. of 7 runs, 10,000 loops each)\n"
     ]
    }
   ],
   "source": [
    "%timeit Batch.cat(batches)"
   ]
  },
  {
   "cell_type": "code",
   "execution_count": 29,
   "id": "c6688e51",
   "metadata": {
    "execution": {
     "iopub.execute_input": "2023-02-12T17:40:32.170292Z",
     "iopub.status.busy": "2023-02-12T17:40:32.169767Z",
     "iopub.status.idle": "2023-02-12T17:40:34.656230Z",
     "shell.execute_reply": "2023-02-12T17:40:34.655542Z"
    }
   },
   "outputs": [
    {
     "name": "stdout",
     "output_type": "stream",
     "text": [
      "305 µs ± 1.2 µs per loop (mean ± std. dev. of 7 runs, 1,000 loops each)\n"
     ]
    }
   ],
   "source": [
    "batch = Batch({\n",
    "    'obs': torch.randn(8, 4, 84, 84),\n",
    "    'action': torch.randint(0, 6, size=(8, 1,)),\n",
    "    'reward': torch.rand(8, 1)}\n",
    ")\n",
    "\n",
    "%timeit list(Batch.split(batch, 1, shuffle=False, merge_last=True))"
   ]
  },
  {
   "cell_type": "code",
   "execution_count": null,
   "id": "2539fbd9",
   "metadata": {},
   "outputs": [],
   "source": []
  }
 ],
 "metadata": {
  "kernelspec": {
   "display_name": "Python 3 (ipykernel)",
   "language": "python",
   "name": "python3"
  },
  "language_info": {
   "codemirror_mode": {
    "name": "ipython",
    "version": 3
   },
   "file_extension": ".py",
   "mimetype": "text/x-python",
   "name": "python",
   "nbconvert_exporter": "python",
   "pygments_lexer": "ipython3",
   "version": "3.8.16"
  }
 },
 "nbformat": 4,
 "nbformat_minor": 5
}
