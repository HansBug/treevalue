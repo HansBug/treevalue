{
 "cells": [
  {
   "cell_type": "markdown",
   "id": "9d39d946",
   "metadata": {},
   "source": [
    "# Comparison Between TreeValue and Tianshou Batch"
   ]
  },
  {
   "cell_type": "markdown",
   "id": "3c6db2d4",
   "metadata": {},
   "source": [
    "In this section, we will take a look at the feature and performance of the [Tianshou Batch](https://github.com/thu-ml/tianshou) library, which is developed by Tsinghua Machine Learning Group."
   ]
  },
  {
   "cell_type": "markdown",
   "id": "069361b0",
   "metadata": {},
   "source": [
    "Before starting the comparison, let us define some thing."
   ]
  },
  {
   "cell_type": "code",
   "execution_count": 1,
   "id": "06fc8d26",
   "metadata": {
    "execution": {
     "iopub.execute_input": "2023-02-25T17:49:23.364308Z",
     "iopub.status.busy": "2023-02-25T17:49:23.363911Z",
     "iopub.status.idle": "2023-02-25T17:49:24.296690Z",
     "shell.execute_reply": "2023-02-25T17:49:24.296016Z"
    }
   },
   "outputs": [
    {
     "name": "stderr",
     "output_type": "stream",
     "text": [
      "/opt/hostedtoolcache/Python/3.8.16/x64/lib/python3.8/site-packages/tqdm/auto.py:22: TqdmWarning: IProgress not found. Please update jupyter and ipywidgets. See https://ipywidgets.readthedocs.io/en/stable/user_install.html\n",
      "  from .autonotebook import tqdm as notebook_tqdm\n"
     ]
    }
   ],
   "source": [
    "import torch \n",
    "\n",
    "_TREE_DATA_1 = {'a': 1, 'b': 2, 'x': {'c': 3, 'd': 4}}\n",
    "_TREE_DATA_2 = {\n",
    "    'a': torch.randn(2, 3), \n",
    "    'x': {\n",
    "        'c': torch.randn(3, 4)\n",
    "    },\n",
    "}\n",
    "_TREE_DATA_3 = {\n",
    "    'obs': torch.randn(4, 84, 84),\n",
    "    'action': torch.randint(0, 6, size=(1,)),\n",
    "    'reward': torch.rand(1),\n",
    "}"
   ]
  },
  {
   "cell_type": "markdown",
   "id": "83461b25",
   "metadata": {},
   "source": [
    "## Read and Write Operation"
   ]
  },
  {
   "cell_type": "markdown",
   "id": "067b3f73",
   "metadata": {},
   "source": [
    "Reading and writing are the two most common operations in the tree data structure based on the data model (TreeValue and Tianshou Batch both belong to this type), so this section will compare the reading and writing performance of these two libraries."
   ]
  },
  {
   "cell_type": "markdown",
   "id": "5d09a5b7",
   "metadata": {},
   "source": [
    "### TreeValue's Get and Set"
   ]
  },
  {
   "cell_type": "code",
   "execution_count": 2,
   "id": "9519c4bb",
   "metadata": {
    "execution": {
     "iopub.execute_input": "2023-02-25T17:49:24.300248Z",
     "iopub.status.busy": "2023-02-25T17:49:24.299652Z",
     "iopub.status.idle": "2023-02-25T17:49:24.333194Z",
     "shell.execute_reply": "2023-02-25T17:49:24.332531Z"
    }
   },
   "outputs": [],
   "source": [
    "from treevalue import FastTreeValue\n",
    "\n",
    "t = FastTreeValue(_TREE_DATA_2)"
   ]
  },
  {
   "cell_type": "code",
   "execution_count": 3,
   "id": "11c37677",
   "metadata": {
    "execution": {
     "iopub.execute_input": "2023-02-25T17:49:24.336473Z",
     "iopub.status.busy": "2023-02-25T17:49:24.335865Z",
     "iopub.status.idle": "2023-02-25T17:49:24.344414Z",
     "shell.execute_reply": "2023-02-25T17:49:24.343770Z"
    }
   },
   "outputs": [
    {
     "data": {
      "text/plain": [
       "<FastTreeValue 0x7f1670856c70>\n",
       "├── 'a' --> tensor([[-0.8130, -1.0331,  1.2092],\n",
       "│                   [ 1.5258, -1.1744,  0.1506]])\n",
       "└── 'x' --> <FastTreeValue 0x7f1670856910>\n",
       "    └── 'c' --> tensor([[-2.1743, -0.3953, -1.1315, -1.1594],\n",
       "                        [-0.1151,  1.8177,  1.5624,  0.3615],\n",
       "                        [-0.0633,  0.2561,  0.8253, -0.0958]])"
      ]
     },
     "execution_count": 3,
     "metadata": {},
     "output_type": "execute_result"
    }
   ],
   "source": [
    "t"
   ]
  },
  {
   "cell_type": "code",
   "execution_count": 4,
   "id": "fd70b0b9",
   "metadata": {
    "execution": {
     "iopub.execute_input": "2023-02-25T17:49:24.347289Z",
     "iopub.status.busy": "2023-02-25T17:49:24.346759Z",
     "iopub.status.idle": "2023-02-25T17:49:24.351502Z",
     "shell.execute_reply": "2023-02-25T17:49:24.350879Z"
    }
   },
   "outputs": [
    {
     "data": {
      "text/plain": [
       "tensor([[-0.8130, -1.0331,  1.2092],\n",
       "        [ 1.5258, -1.1744,  0.1506]])"
      ]
     },
     "execution_count": 4,
     "metadata": {},
     "output_type": "execute_result"
    }
   ],
   "source": [
    "t.a"
   ]
  },
  {
   "cell_type": "code",
   "execution_count": 5,
   "id": "c18197bd",
   "metadata": {
    "execution": {
     "iopub.execute_input": "2023-02-25T17:49:24.353946Z",
     "iopub.status.busy": "2023-02-25T17:49:24.353607Z",
     "iopub.status.idle": "2023-02-25T17:49:29.159788Z",
     "shell.execute_reply": "2023-02-25T17:49:29.159024Z"
    }
   },
   "outputs": [
    {
     "name": "stdout",
     "output_type": "stream",
     "text": [
      "59.1 ns ± 0.171 ns per loop (mean ± std. dev. of 7 runs, 10,000,000 loops each)\n"
     ]
    }
   ],
   "source": [
    "%timeit t.a"
   ]
  },
  {
   "cell_type": "code",
   "execution_count": 6,
   "id": "bd52f867",
   "metadata": {
    "execution": {
     "iopub.execute_input": "2023-02-25T17:49:29.162579Z",
     "iopub.status.busy": "2023-02-25T17:49:29.162222Z",
     "iopub.status.idle": "2023-02-25T17:49:29.168294Z",
     "shell.execute_reply": "2023-02-25T17:49:29.167631Z"
    }
   },
   "outputs": [
    {
     "data": {
      "text/plain": [
       "<FastTreeValue 0x7f1670856c70>\n",
       "├── 'a' --> tensor([[-0.6491,  0.5930, -0.7125],\n",
       "│                   [-0.0746,  0.3927, -0.2570]])\n",
       "└── 'x' --> <FastTreeValue 0x7f1670856910>\n",
       "    └── 'c' --> tensor([[-2.1743, -0.3953, -1.1315, -1.1594],\n",
       "                        [-0.1151,  1.8177,  1.5624,  0.3615],\n",
       "                        [-0.0633,  0.2561,  0.8253, -0.0958]])"
      ]
     },
     "execution_count": 6,
     "metadata": {},
     "output_type": "execute_result"
    }
   ],
   "source": [
    "new_value = torch.randn(2, 3)\n",
    "t.a = new_value\n",
    "\n",
    "t"
   ]
  },
  {
   "cell_type": "code",
   "execution_count": 7,
   "id": "bbe04d1c",
   "metadata": {
    "execution": {
     "iopub.execute_input": "2023-02-25T17:49:29.170880Z",
     "iopub.status.busy": "2023-02-25T17:49:29.170550Z",
     "iopub.status.idle": "2023-02-25T17:49:34.192754Z",
     "shell.execute_reply": "2023-02-25T17:49:34.192043Z"
    }
   },
   "outputs": [
    {
     "name": "stdout",
     "output_type": "stream",
     "text": [
      "61.7 ns ± 0.0292 ns per loop (mean ± std. dev. of 7 runs, 10,000,000 loops each)\n"
     ]
    }
   ],
   "source": [
    "%timeit t.a = new_value"
   ]
  },
  {
   "cell_type": "markdown",
   "id": "48c49731",
   "metadata": {},
   "source": [
    "### Tianshou Batch's Get and Set"
   ]
  },
  {
   "cell_type": "code",
   "execution_count": 8,
   "id": "f1bb14c1",
   "metadata": {
    "execution": {
     "iopub.execute_input": "2023-02-25T17:49:34.196178Z",
     "iopub.status.busy": "2023-02-25T17:49:34.195574Z",
     "iopub.status.idle": "2023-02-25T17:49:34.535137Z",
     "shell.execute_reply": "2023-02-25T17:49:34.534451Z"
    }
   },
   "outputs": [],
   "source": [
    "from tianshou.data import Batch\n",
    "\n",
    "b = Batch(**_TREE_DATA_2)"
   ]
  },
  {
   "cell_type": "code",
   "execution_count": 9,
   "id": "cb0777c3",
   "metadata": {
    "execution": {
     "iopub.execute_input": "2023-02-25T17:49:34.538373Z",
     "iopub.status.busy": "2023-02-25T17:49:34.537837Z",
     "iopub.status.idle": "2023-02-25T17:49:34.543979Z",
     "shell.execute_reply": "2023-02-25T17:49:34.543403Z"
    }
   },
   "outputs": [
    {
     "data": {
      "text/plain": [
       "Batch(\n",
       "    a: tensor([[-0.8130, -1.0331,  1.2092],\n",
       "               [ 1.5258, -1.1744,  0.1506]]),\n",
       "    x: Batch(\n",
       "           c: tensor([[-2.1743, -0.3953, -1.1315, -1.1594],\n",
       "                      [-0.1151,  1.8177,  1.5624,  0.3615],\n",
       "                      [-0.0633,  0.2561,  0.8253, -0.0958]]),\n",
       "       ),\n",
       ")"
      ]
     },
     "execution_count": 9,
     "metadata": {},
     "output_type": "execute_result"
    }
   ],
   "source": [
    "b"
   ]
  },
  {
   "cell_type": "code",
   "execution_count": 10,
   "id": "43ef8ea3",
   "metadata": {
    "execution": {
     "iopub.execute_input": "2023-02-25T17:49:34.546930Z",
     "iopub.status.busy": "2023-02-25T17:49:34.546362Z",
     "iopub.status.idle": "2023-02-25T17:49:34.551451Z",
     "shell.execute_reply": "2023-02-25T17:49:34.550820Z"
    }
   },
   "outputs": [
    {
     "data": {
      "text/plain": [
       "tensor([[-0.8130, -1.0331,  1.2092],\n",
       "        [ 1.5258, -1.1744,  0.1506]])"
      ]
     },
     "execution_count": 10,
     "metadata": {},
     "output_type": "execute_result"
    }
   ],
   "source": [
    "b.a"
   ]
  },
  {
   "cell_type": "code",
   "execution_count": 11,
   "id": "b785ab72",
   "metadata": {
    "execution": {
     "iopub.execute_input": "2023-02-25T17:49:34.554086Z",
     "iopub.status.busy": "2023-02-25T17:49:34.553740Z",
     "iopub.status.idle": "2023-02-25T17:49:39.197188Z",
     "shell.execute_reply": "2023-02-25T17:49:39.196474Z"
    }
   },
   "outputs": [
    {
     "name": "stdout",
     "output_type": "stream",
     "text": [
      "57.2 ns ± 0.0414 ns per loop (mean ± std. dev. of 7 runs, 10,000,000 loops each)\n"
     ]
    }
   ],
   "source": [
    "%timeit b.a"
   ]
  },
  {
   "cell_type": "code",
   "execution_count": 12,
   "id": "ad54dc69",
   "metadata": {
    "execution": {
     "iopub.execute_input": "2023-02-25T17:49:39.200219Z",
     "iopub.status.busy": "2023-02-25T17:49:39.199603Z",
     "iopub.status.idle": "2023-02-25T17:49:39.205505Z",
     "shell.execute_reply": "2023-02-25T17:49:39.204870Z"
    }
   },
   "outputs": [
    {
     "data": {
      "text/plain": [
       "Batch(\n",
       "    a: tensor([[-0.0322, -0.4092, -0.6401],\n",
       "               [ 1.7601, -0.5826,  1.6069]]),\n",
       "    x: Batch(\n",
       "           c: tensor([[-2.1743, -0.3953, -1.1315, -1.1594],\n",
       "                      [-0.1151,  1.8177,  1.5624,  0.3615],\n",
       "                      [-0.0633,  0.2561,  0.8253, -0.0958]]),\n",
       "       ),\n",
       ")"
      ]
     },
     "execution_count": 12,
     "metadata": {},
     "output_type": "execute_result"
    }
   ],
   "source": [
    "new_value = torch.randn(2, 3)\n",
    "b.a = new_value\n",
    "\n",
    "b"
   ]
  },
  {
   "cell_type": "code",
   "execution_count": 13,
   "id": "29b1d0bf",
   "metadata": {
    "execution": {
     "iopub.execute_input": "2023-02-25T17:49:39.208122Z",
     "iopub.status.busy": "2023-02-25T17:49:39.207790Z",
     "iopub.status.idle": "2023-02-25T17:49:43.107449Z",
     "shell.execute_reply": "2023-02-25T17:49:43.106701Z"
    }
   },
   "outputs": [
    {
     "name": "stdout",
     "output_type": "stream",
     "text": [
      "480 ns ± 0.113 ns per loop (mean ± std. dev. of 7 runs, 1,000,000 loops each)\n"
     ]
    }
   ],
   "source": [
    "%timeit b.a = new_value"
   ]
  },
  {
   "cell_type": "markdown",
   "id": "b61ad1d0",
   "metadata": {},
   "source": [
    "## Initialization"
   ]
  },
  {
   "cell_type": "markdown",
   "id": "d70f0d54",
   "metadata": {},
   "source": [
    "### TreeValue's Initialization"
   ]
  },
  {
   "cell_type": "code",
   "execution_count": 14,
   "id": "d32a679b",
   "metadata": {
    "execution": {
     "iopub.execute_input": "2023-02-25T17:49:43.110623Z",
     "iopub.status.busy": "2023-02-25T17:49:43.110060Z",
     "iopub.status.idle": "2023-02-25T17:49:49.946431Z",
     "shell.execute_reply": "2023-02-25T17:49:49.945563Z"
    }
   },
   "outputs": [
    {
     "name": "stdout",
     "output_type": "stream",
     "text": [
      "842 ns ± 0.143 ns per loop (mean ± std. dev. of 7 runs, 1,000,000 loops each)\n"
     ]
    }
   ],
   "source": [
    "%timeit FastTreeValue(_TREE_DATA_1)"
   ]
  },
  {
   "cell_type": "markdown",
   "id": "24f3707b",
   "metadata": {},
   "source": [
    "### Tianshou Batch's Initialization"
   ]
  },
  {
   "cell_type": "code",
   "execution_count": 15,
   "id": "ac3958df",
   "metadata": {
    "execution": {
     "iopub.execute_input": "2023-02-25T17:49:49.949535Z",
     "iopub.status.busy": "2023-02-25T17:49:49.949008Z",
     "iopub.status.idle": "2023-02-25T17:49:59.434894Z",
     "shell.execute_reply": "2023-02-25T17:49:59.434174Z"
    }
   },
   "outputs": [
    {
     "name": "stdout",
     "output_type": "stream",
     "text": [
      "11.7 µs ± 31 ns per loop (mean ± std. dev. of 7 runs, 100,000 loops each)\n"
     ]
    }
   ],
   "source": [
    "%timeit Batch(**_TREE_DATA_1)"
   ]
  },
  {
   "cell_type": "markdown",
   "id": "1ab82e2d",
   "metadata": {},
   "source": [
    "## Deep Copy Operation"
   ]
  },
  {
   "cell_type": "code",
   "execution_count": 16,
   "id": "210a9442",
   "metadata": {
    "execution": {
     "iopub.execute_input": "2023-02-25T17:49:59.437797Z",
     "iopub.status.busy": "2023-02-25T17:49:59.437454Z",
     "iopub.status.idle": "2023-02-25T17:49:59.441447Z",
     "shell.execute_reply": "2023-02-25T17:49:59.440839Z"
    }
   },
   "outputs": [],
   "source": [
    "import copy"
   ]
  },
  {
   "cell_type": "markdown",
   "id": "5a736274",
   "metadata": {},
   "source": [
    "### Deep Copy of TreeValue"
   ]
  },
  {
   "cell_type": "code",
   "execution_count": 17,
   "id": "f9bcadd6",
   "metadata": {
    "execution": {
     "iopub.execute_input": "2023-02-25T17:49:59.444045Z",
     "iopub.status.busy": "2023-02-25T17:49:59.443618Z",
     "iopub.status.idle": "2023-02-25T17:50:10.408597Z",
     "shell.execute_reply": "2023-02-25T17:50:10.408035Z"
    }
   },
   "outputs": [
    {
     "name": "stdout",
     "output_type": "stream",
     "text": [
      "135 µs ± 340 ns per loop (mean ± std. dev. of 7 runs, 10,000 loops each)\n"
     ]
    }
   ],
   "source": [
    "t3 = FastTreeValue(_TREE_DATA_3)\n",
    "%timeit copy.deepcopy(t3)"
   ]
  },
  {
   "cell_type": "markdown",
   "id": "bf8be7ea",
   "metadata": {},
   "source": [
    "### Deep Copy of Tianshou Batch"
   ]
  },
  {
   "cell_type": "code",
   "execution_count": 18,
   "id": "91998e6f",
   "metadata": {
    "execution": {
     "iopub.execute_input": "2023-02-25T17:50:10.411655Z",
     "iopub.status.busy": "2023-02-25T17:50:10.410961Z",
     "iopub.status.idle": "2023-02-25T17:50:21.617596Z",
     "shell.execute_reply": "2023-02-25T17:50:21.617039Z"
    }
   },
   "outputs": [
    {
     "name": "stdout",
     "output_type": "stream",
     "text": [
      "138 µs ± 520 ns per loop (mean ± std. dev. of 7 runs, 10,000 loops each)\n"
     ]
    }
   ],
   "source": [
    "b3 = Batch(**_TREE_DATA_3)\n",
    "%timeit copy.deepcopy(b3)"
   ]
  },
  {
   "cell_type": "markdown",
   "id": "223162fb",
   "metadata": {},
   "source": [
    "## Stack, Concat and Split Operation"
   ]
  },
  {
   "cell_type": "markdown",
   "id": "85fa4a73",
   "metadata": {},
   "source": [
    "### Performance of TreeValue"
   ]
  },
  {
   "cell_type": "code",
   "execution_count": 19,
   "id": "a0c2b697",
   "metadata": {
    "execution": {
     "iopub.execute_input": "2023-02-25T17:50:21.624144Z",
     "iopub.status.busy": "2023-02-25T17:50:21.623613Z",
     "iopub.status.idle": "2023-02-25T17:50:21.628023Z",
     "shell.execute_reply": "2023-02-25T17:50:21.627417Z"
    }
   },
   "outputs": [],
   "source": [
    "trees = [FastTreeValue(_TREE_DATA_2) for _ in range(8)]"
   ]
  },
  {
   "cell_type": "code",
   "execution_count": 20,
   "id": "017ea5a5",
   "metadata": {
    "execution": {
     "iopub.execute_input": "2023-02-25T17:50:21.630706Z",
     "iopub.status.busy": "2023-02-25T17:50:21.630130Z",
     "iopub.status.idle": "2023-02-25T17:50:21.638123Z",
     "shell.execute_reply": "2023-02-25T17:50:21.637522Z"
    }
   },
   "outputs": [
    {
     "data": {
      "text/plain": [
       "<FastTreeValue 0x7f15cd1ec760>\n",
       "├── 'a' --> tensor([[[-0.8130, -1.0331,  1.2092],\n",
       "│                    [ 1.5258, -1.1744,  0.1506]],\n",
       "│           \n",
       "│                   [[-0.8130, -1.0331,  1.2092],\n",
       "│                    [ 1.5258, -1.1744,  0.1506]],\n",
       "│           \n",
       "│                   [[-0.8130, -1.0331,  1.2092],\n",
       "│                    [ 1.5258, -1.1744,  0.1506]],\n",
       "│           \n",
       "│                   [[-0.8130, -1.0331,  1.2092],\n",
       "│                    [ 1.5258, -1.1744,  0.1506]],\n",
       "│           \n",
       "│                   [[-0.8130, -1.0331,  1.2092],\n",
       "│                    [ 1.5258, -1.1744,  0.1506]],\n",
       "│           \n",
       "│                   [[-0.8130, -1.0331,  1.2092],\n",
       "│                    [ 1.5258, -1.1744,  0.1506]],\n",
       "│           \n",
       "│                   [[-0.8130, -1.0331,  1.2092],\n",
       "│                    [ 1.5258, -1.1744,  0.1506]],\n",
       "│           \n",
       "│                   [[-0.8130, -1.0331,  1.2092],\n",
       "│                    [ 1.5258, -1.1744,  0.1506]]])\n",
       "└── 'x' --> <FastTreeValue 0x7f15cd1ec730>\n",
       "    └── 'c' --> tensor([[[-2.1743, -0.3953, -1.1315, -1.1594],\n",
       "                         [-0.1151,  1.8177,  1.5624,  0.3615],\n",
       "                         [-0.0633,  0.2561,  0.8253, -0.0958]],\n",
       "                \n",
       "                        [[-2.1743, -0.3953, -1.1315, -1.1594],\n",
       "                         [-0.1151,  1.8177,  1.5624,  0.3615],\n",
       "                         [-0.0633,  0.2561,  0.8253, -0.0958]],\n",
       "                \n",
       "                        [[-2.1743, -0.3953, -1.1315, -1.1594],\n",
       "                         [-0.1151,  1.8177,  1.5624,  0.3615],\n",
       "                         [-0.0633,  0.2561,  0.8253, -0.0958]],\n",
       "                \n",
       "                        [[-2.1743, -0.3953, -1.1315, -1.1594],\n",
       "                         [-0.1151,  1.8177,  1.5624,  0.3615],\n",
       "                         [-0.0633,  0.2561,  0.8253, -0.0958]],\n",
       "                \n",
       "                        [[-2.1743, -0.3953, -1.1315, -1.1594],\n",
       "                         [-0.1151,  1.8177,  1.5624,  0.3615],\n",
       "                         [-0.0633,  0.2561,  0.8253, -0.0958]],\n",
       "                \n",
       "                        [[-2.1743, -0.3953, -1.1315, -1.1594],\n",
       "                         [-0.1151,  1.8177,  1.5624,  0.3615],\n",
       "                         [-0.0633,  0.2561,  0.8253, -0.0958]],\n",
       "                \n",
       "                        [[-2.1743, -0.3953, -1.1315, -1.1594],\n",
       "                         [-0.1151,  1.8177,  1.5624,  0.3615],\n",
       "                         [-0.0633,  0.2561,  0.8253, -0.0958]],\n",
       "                \n",
       "                        [[-2.1743, -0.3953, -1.1315, -1.1594],\n",
       "                         [-0.1151,  1.8177,  1.5624,  0.3615],\n",
       "                         [-0.0633,  0.2561,  0.8253, -0.0958]]])"
      ]
     },
     "execution_count": 20,
     "metadata": {},
     "output_type": "execute_result"
    }
   ],
   "source": [
    "t_stack = FastTreeValue.func(subside=True)(torch.stack)\n",
    "\n",
    "t_stack(trees)"
   ]
  },
  {
   "cell_type": "code",
   "execution_count": 21,
   "id": "f8b3f415",
   "metadata": {
    "execution": {
     "iopub.execute_input": "2023-02-25T17:50:21.640658Z",
     "iopub.status.busy": "2023-02-25T17:50:21.640318Z",
     "iopub.status.idle": "2023-02-25T17:50:24.282444Z",
     "shell.execute_reply": "2023-02-25T17:50:24.281787Z"
    }
   },
   "outputs": [
    {
     "name": "stdout",
     "output_type": "stream",
     "text": [
      "32.5 µs ± 68.2 ns per loop (mean ± std. dev. of 7 runs, 10,000 loops each)\n"
     ]
    }
   ],
   "source": [
    "%timeit t_stack(trees)"
   ]
  },
  {
   "cell_type": "code",
   "execution_count": 22,
   "id": "94b56771",
   "metadata": {
    "execution": {
     "iopub.execute_input": "2023-02-25T17:50:24.285472Z",
     "iopub.status.busy": "2023-02-25T17:50:24.284904Z",
     "iopub.status.idle": "2023-02-25T17:50:24.292121Z",
     "shell.execute_reply": "2023-02-25T17:50:24.291490Z"
    }
   },
   "outputs": [
    {
     "data": {
      "text/plain": [
       "<FastTreeValue 0x7f16708ccfa0>\n",
       "├── 'a' --> tensor([[-0.8130, -1.0331,  1.2092],\n",
       "│                   [ 1.5258, -1.1744,  0.1506],\n",
       "│                   [-0.8130, -1.0331,  1.2092],\n",
       "│                   [ 1.5258, -1.1744,  0.1506],\n",
       "│                   [-0.8130, -1.0331,  1.2092],\n",
       "│                   [ 1.5258, -1.1744,  0.1506],\n",
       "│                   [-0.8130, -1.0331,  1.2092],\n",
       "│                   [ 1.5258, -1.1744,  0.1506],\n",
       "│                   [-0.8130, -1.0331,  1.2092],\n",
       "│                   [ 1.5258, -1.1744,  0.1506],\n",
       "│                   [-0.8130, -1.0331,  1.2092],\n",
       "│                   [ 1.5258, -1.1744,  0.1506],\n",
       "│                   [-0.8130, -1.0331,  1.2092],\n",
       "│                   [ 1.5258, -1.1744,  0.1506],\n",
       "│                   [-0.8130, -1.0331,  1.2092],\n",
       "│                   [ 1.5258, -1.1744,  0.1506]])\n",
       "└── 'x' --> <FastTreeValue 0x7f15c6c02ac0>\n",
       "    └── 'c' --> tensor([[-2.1743, -0.3953, -1.1315, -1.1594],\n",
       "                        [-0.1151,  1.8177,  1.5624,  0.3615],\n",
       "                        [-0.0633,  0.2561,  0.8253, -0.0958],\n",
       "                        [-2.1743, -0.3953, -1.1315, -1.1594],\n",
       "                        [-0.1151,  1.8177,  1.5624,  0.3615],\n",
       "                        [-0.0633,  0.2561,  0.8253, -0.0958],\n",
       "                        [-2.1743, -0.3953, -1.1315, -1.1594],\n",
       "                        [-0.1151,  1.8177,  1.5624,  0.3615],\n",
       "                        [-0.0633,  0.2561,  0.8253, -0.0958],\n",
       "                        [-2.1743, -0.3953, -1.1315, -1.1594],\n",
       "                        [-0.1151,  1.8177,  1.5624,  0.3615],\n",
       "                        [-0.0633,  0.2561,  0.8253, -0.0958],\n",
       "                        [-2.1743, -0.3953, -1.1315, -1.1594],\n",
       "                        [-0.1151,  1.8177,  1.5624,  0.3615],\n",
       "                        [-0.0633,  0.2561,  0.8253, -0.0958],\n",
       "                        [-2.1743, -0.3953, -1.1315, -1.1594],\n",
       "                        [-0.1151,  1.8177,  1.5624,  0.3615],\n",
       "                        [-0.0633,  0.2561,  0.8253, -0.0958],\n",
       "                        [-2.1743, -0.3953, -1.1315, -1.1594],\n",
       "                        [-0.1151,  1.8177,  1.5624,  0.3615],\n",
       "                        [-0.0633,  0.2561,  0.8253, -0.0958],\n",
       "                        [-2.1743, -0.3953, -1.1315, -1.1594],\n",
       "                        [-0.1151,  1.8177,  1.5624,  0.3615],\n",
       "                        [-0.0633,  0.2561,  0.8253, -0.0958]])"
      ]
     },
     "execution_count": 22,
     "metadata": {},
     "output_type": "execute_result"
    }
   ],
   "source": [
    "t_cat = FastTreeValue.func(subside=True)(torch.cat)\n",
    "\n",
    "t_cat(trees)"
   ]
  },
  {
   "cell_type": "code",
   "execution_count": 23,
   "id": "5e9c06a6",
   "metadata": {
    "execution": {
     "iopub.execute_input": "2023-02-25T17:50:24.294857Z",
     "iopub.status.busy": "2023-02-25T17:50:24.294329Z",
     "iopub.status.idle": "2023-02-25T17:50:26.765083Z",
     "shell.execute_reply": "2023-02-25T17:50:26.764365Z"
    }
   },
   "outputs": [
    {
     "name": "stdout",
     "output_type": "stream",
     "text": [
      "30.3 µs ± 72.2 ns per loop (mean ± std. dev. of 7 runs, 10,000 loops each)\n"
     ]
    }
   ],
   "source": [
    "%timeit t_cat(trees)"
   ]
  },
  {
   "cell_type": "code",
   "execution_count": 24,
   "id": "a3ab5c8f",
   "metadata": {
    "execution": {
     "iopub.execute_input": "2023-02-25T17:50:26.768360Z",
     "iopub.status.busy": "2023-02-25T17:50:26.767846Z",
     "iopub.status.idle": "2023-02-25T17:50:31.502122Z",
     "shell.execute_reply": "2023-02-25T17:50:31.501372Z"
    }
   },
   "outputs": [
    {
     "name": "stdout",
     "output_type": "stream",
     "text": [
      "58.1 µs ± 31.5 ns per loop (mean ± std. dev. of 7 runs, 10,000 loops each)\n"
     ]
    }
   ],
   "source": [
    "t_split = FastTreeValue.func(rise=True)(torch.split)\n",
    "tree = FastTreeValue({\n",
    "    'obs': torch.randn(8, 4, 84, 84),\n",
    "    'action': torch.randint(0, 6, size=(8, 1,)),\n",
    "    'reward': torch.rand(8, 1),\n",
    "})\n",
    "\n",
    "%timeit t_split(tree, 1)"
   ]
  },
  {
   "cell_type": "markdown",
   "id": "31c3ec0b",
   "metadata": {},
   "source": [
    "### Performance of Tianshou Batch"
   ]
  },
  {
   "cell_type": "code",
   "execution_count": 25,
   "id": "9ead828a",
   "metadata": {
    "execution": {
     "iopub.execute_input": "2023-02-25T17:50:31.505368Z",
     "iopub.status.busy": "2023-02-25T17:50:31.504797Z",
     "iopub.status.idle": "2023-02-25T17:50:31.512909Z",
     "shell.execute_reply": "2023-02-25T17:50:31.512296Z"
    }
   },
   "outputs": [
    {
     "data": {
      "text/plain": [
       "Batch(\n",
       "    a: tensor([[[-0.8130, -1.0331,  1.2092],\n",
       "                [ 1.5258, -1.1744,  0.1506]],\n",
       "       \n",
       "               [[-0.8130, -1.0331,  1.2092],\n",
       "                [ 1.5258, -1.1744,  0.1506]],\n",
       "       \n",
       "               [[-0.8130, -1.0331,  1.2092],\n",
       "                [ 1.5258, -1.1744,  0.1506]],\n",
       "       \n",
       "               [[-0.8130, -1.0331,  1.2092],\n",
       "                [ 1.5258, -1.1744,  0.1506]],\n",
       "       \n",
       "               [[-0.8130, -1.0331,  1.2092],\n",
       "                [ 1.5258, -1.1744,  0.1506]],\n",
       "       \n",
       "               [[-0.8130, -1.0331,  1.2092],\n",
       "                [ 1.5258, -1.1744,  0.1506]],\n",
       "       \n",
       "               [[-0.8130, -1.0331,  1.2092],\n",
       "                [ 1.5258, -1.1744,  0.1506]],\n",
       "       \n",
       "               [[-0.8130, -1.0331,  1.2092],\n",
       "                [ 1.5258, -1.1744,  0.1506]]]),\n",
       "    x: Batch(\n",
       "           c: tensor([[[-2.1743, -0.3953, -1.1315, -1.1594],\n",
       "                       [-0.1151,  1.8177,  1.5624,  0.3615],\n",
       "                       [-0.0633,  0.2561,  0.8253, -0.0958]],\n",
       "              \n",
       "                      [[-2.1743, -0.3953, -1.1315, -1.1594],\n",
       "                       [-0.1151,  1.8177,  1.5624,  0.3615],\n",
       "                       [-0.0633,  0.2561,  0.8253, -0.0958]],\n",
       "              \n",
       "                      [[-2.1743, -0.3953, -1.1315, -1.1594],\n",
       "                       [-0.1151,  1.8177,  1.5624,  0.3615],\n",
       "                       [-0.0633,  0.2561,  0.8253, -0.0958]],\n",
       "              \n",
       "                      [[-2.1743, -0.3953, -1.1315, -1.1594],\n",
       "                       [-0.1151,  1.8177,  1.5624,  0.3615],\n",
       "                       [-0.0633,  0.2561,  0.8253, -0.0958]],\n",
       "              \n",
       "                      [[-2.1743, -0.3953, -1.1315, -1.1594],\n",
       "                       [-0.1151,  1.8177,  1.5624,  0.3615],\n",
       "                       [-0.0633,  0.2561,  0.8253, -0.0958]],\n",
       "              \n",
       "                      [[-2.1743, -0.3953, -1.1315, -1.1594],\n",
       "                       [-0.1151,  1.8177,  1.5624,  0.3615],\n",
       "                       [-0.0633,  0.2561,  0.8253, -0.0958]],\n",
       "              \n",
       "                      [[-2.1743, -0.3953, -1.1315, -1.1594],\n",
       "                       [-0.1151,  1.8177,  1.5624,  0.3615],\n",
       "                       [-0.0633,  0.2561,  0.8253, -0.0958]],\n",
       "              \n",
       "                      [[-2.1743, -0.3953, -1.1315, -1.1594],\n",
       "                       [-0.1151,  1.8177,  1.5624,  0.3615],\n",
       "                       [-0.0633,  0.2561,  0.8253, -0.0958]]]),\n",
       "       ),\n",
       ")"
      ]
     },
     "execution_count": 25,
     "metadata": {},
     "output_type": "execute_result"
    }
   ],
   "source": [
    "batches = [Batch(**_TREE_DATA_2) for _ in range(8)]\n",
    "\n",
    "Batch.stack(batches)"
   ]
  },
  {
   "cell_type": "code",
   "execution_count": 26,
   "id": "ec9037a3",
   "metadata": {
    "execution": {
     "iopub.execute_input": "2023-02-25T17:50:31.515846Z",
     "iopub.status.busy": "2023-02-25T17:50:31.515485Z",
     "iopub.status.idle": "2023-02-25T17:50:37.909117Z",
     "shell.execute_reply": "2023-02-25T17:50:37.908400Z"
    }
   },
   "outputs": [
    {
     "name": "stdout",
     "output_type": "stream",
     "text": [
      "78.7 µs ± 193 ns per loop (mean ± std. dev. of 7 runs, 10,000 loops each)\n"
     ]
    }
   ],
   "source": [
    "%timeit Batch.stack(batches)"
   ]
  },
  {
   "cell_type": "code",
   "execution_count": 27,
   "id": "cb8ab77e",
   "metadata": {
    "execution": {
     "iopub.execute_input": "2023-02-25T17:50:37.912428Z",
     "iopub.status.busy": "2023-02-25T17:50:37.911876Z",
     "iopub.status.idle": "2023-02-25T17:50:37.919344Z",
     "shell.execute_reply": "2023-02-25T17:50:37.918742Z"
    }
   },
   "outputs": [
    {
     "data": {
      "text/plain": [
       "Batch(\n",
       "    a: tensor([[-0.8130, -1.0331,  1.2092],\n",
       "               [ 1.5258, -1.1744,  0.1506],\n",
       "               [-0.8130, -1.0331,  1.2092],\n",
       "               [ 1.5258, -1.1744,  0.1506],\n",
       "               [-0.8130, -1.0331,  1.2092],\n",
       "               [ 1.5258, -1.1744,  0.1506],\n",
       "               [-0.8130, -1.0331,  1.2092],\n",
       "               [ 1.5258, -1.1744,  0.1506],\n",
       "               [-0.8130, -1.0331,  1.2092],\n",
       "               [ 1.5258, -1.1744,  0.1506],\n",
       "               [-0.8130, -1.0331,  1.2092],\n",
       "               [ 1.5258, -1.1744,  0.1506],\n",
       "               [-0.8130, -1.0331,  1.2092],\n",
       "               [ 1.5258, -1.1744,  0.1506],\n",
       "               [-0.8130, -1.0331,  1.2092],\n",
       "               [ 1.5258, -1.1744,  0.1506]]),\n",
       "    x: Batch(\n",
       "           c: tensor([[-2.1743, -0.3953, -1.1315, -1.1594],\n",
       "                      [-0.1151,  1.8177,  1.5624,  0.3615],\n",
       "                      [-0.0633,  0.2561,  0.8253, -0.0958],\n",
       "                      [-2.1743, -0.3953, -1.1315, -1.1594],\n",
       "                      [-0.1151,  1.8177,  1.5624,  0.3615],\n",
       "                      [-0.0633,  0.2561,  0.8253, -0.0958],\n",
       "                      [-2.1743, -0.3953, -1.1315, -1.1594],\n",
       "                      [-0.1151,  1.8177,  1.5624,  0.3615],\n",
       "                      [-0.0633,  0.2561,  0.8253, -0.0958],\n",
       "                      [-2.1743, -0.3953, -1.1315, -1.1594],\n",
       "                      [-0.1151,  1.8177,  1.5624,  0.3615],\n",
       "                      [-0.0633,  0.2561,  0.8253, -0.0958],\n",
       "                      [-2.1743, -0.3953, -1.1315, -1.1594],\n",
       "                      [-0.1151,  1.8177,  1.5624,  0.3615],\n",
       "                      [-0.0633,  0.2561,  0.8253, -0.0958],\n",
       "                      [-2.1743, -0.3953, -1.1315, -1.1594],\n",
       "                      [-0.1151,  1.8177,  1.5624,  0.3615],\n",
       "                      [-0.0633,  0.2561,  0.8253, -0.0958],\n",
       "                      [-2.1743, -0.3953, -1.1315, -1.1594],\n",
       "                      [-0.1151,  1.8177,  1.5624,  0.3615],\n",
       "                      [-0.0633,  0.2561,  0.8253, -0.0958],\n",
       "                      [-2.1743, -0.3953, -1.1315, -1.1594],\n",
       "                      [-0.1151,  1.8177,  1.5624,  0.3615],\n",
       "                      [-0.0633,  0.2561,  0.8253, -0.0958]]),\n",
       "       ),\n",
       ")"
      ]
     },
     "execution_count": 27,
     "metadata": {},
     "output_type": "execute_result"
    }
   ],
   "source": [
    "Batch.cat(batches)"
   ]
  },
  {
   "cell_type": "code",
   "execution_count": 28,
   "id": "18dfb045",
   "metadata": {
    "execution": {
     "iopub.execute_input": "2023-02-25T17:50:37.922371Z",
     "iopub.status.busy": "2023-02-25T17:50:37.921886Z",
     "iopub.status.idle": "2023-02-25T17:50:49.667039Z",
     "shell.execute_reply": "2023-02-25T17:50:49.666252Z"
    }
   },
   "outputs": [
    {
     "name": "stdout",
     "output_type": "stream",
     "text": [
      "145 µs ± 530 ns per loop (mean ± std. dev. of 7 runs, 10,000 loops each)\n"
     ]
    }
   ],
   "source": [
    "%timeit Batch.cat(batches)"
   ]
  },
  {
   "cell_type": "code",
   "execution_count": 29,
   "id": "c6688e51",
   "metadata": {
    "execution": {
     "iopub.execute_input": "2023-02-25T17:50:49.670171Z",
     "iopub.status.busy": "2023-02-25T17:50:49.669803Z",
     "iopub.status.idle": "2023-02-25T17:50:52.201922Z",
     "shell.execute_reply": "2023-02-25T17:50:52.201205Z"
    }
   },
   "outputs": [
    {
     "name": "stdout",
     "output_type": "stream",
     "text": [
      "312 µs ± 13.2 µs per loop (mean ± std. dev. of 7 runs, 1,000 loops each)\n"
     ]
    }
   ],
   "source": [
    "batch = Batch({\n",
    "    'obs': torch.randn(8, 4, 84, 84),\n",
    "    'action': torch.randint(0, 6, size=(8, 1,)),\n",
    "    'reward': torch.rand(8, 1)}\n",
    ")\n",
    "\n",
    "%timeit list(Batch.split(batch, 1, shuffle=False, merge_last=True))"
   ]
  },
  {
   "cell_type": "code",
   "execution_count": null,
   "id": "2539fbd9",
   "metadata": {},
   "outputs": [],
   "source": []
  }
 ],
 "metadata": {
  "kernelspec": {
   "display_name": "Python 3 (ipykernel)",
   "language": "python",
   "name": "python3"
  },
  "language_info": {
   "codemirror_mode": {
    "name": "ipython",
    "version": 3
   },
   "file_extension": ".py",
   "mimetype": "text/x-python",
   "name": "python",
   "nbconvert_exporter": "python",
   "pygments_lexer": "ipython3",
   "version": "3.8.16"
  }
 },
 "nbformat": 4,
 "nbformat_minor": 5
}
