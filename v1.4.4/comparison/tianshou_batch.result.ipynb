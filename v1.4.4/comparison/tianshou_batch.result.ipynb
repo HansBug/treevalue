{
 "cells": [
  {
   "cell_type": "markdown",
   "id": "9d39d946",
   "metadata": {},
   "source": [
    "# Comparison Between TreeValue and Tianshou Batch"
   ]
  },
  {
   "cell_type": "markdown",
   "id": "3c6db2d4",
   "metadata": {},
   "source": [
    "In this section, we will take a look at the feature and performance of the [Tianshou Batch](https://github.com/thu-ml/tianshou) library, which is developed by Tsinghua Machine Learning Group."
   ]
  },
  {
   "cell_type": "markdown",
   "id": "069361b0",
   "metadata": {},
   "source": [
    "Before starting the comparison, let us define some thing."
   ]
  },
  {
   "cell_type": "code",
   "execution_count": 1,
   "id": "06fc8d26",
   "metadata": {
    "execution": {
     "iopub.execute_input": "2023-05-26T05:24:15.374957Z",
     "iopub.status.busy": "2023-05-26T05:24:15.374526Z",
     "iopub.status.idle": "2023-05-26T05:24:16.737554Z",
     "shell.execute_reply": "2023-05-26T05:24:16.736786Z"
    }
   },
   "outputs": [],
   "source": [
    "import torch \n",
    "\n",
    "_TREE_DATA_1 = {'a': 1, 'b': 2, 'x': {'c': 3, 'd': 4}}\n",
    "_TREE_DATA_2 = {\n",
    "    'a': torch.randn(2, 3), \n",
    "    'x': {\n",
    "        'c': torch.randn(3, 4)\n",
    "    },\n",
    "}\n",
    "_TREE_DATA_3 = {\n",
    "    'obs': torch.randn(4, 84, 84),\n",
    "    'action': torch.randint(0, 6, size=(1,)),\n",
    "    'reward': torch.rand(1),\n",
    "}"
   ]
  },
  {
   "cell_type": "markdown",
   "id": "83461b25",
   "metadata": {},
   "source": [
    "## Read and Write Operation"
   ]
  },
  {
   "cell_type": "markdown",
   "id": "067b3f73",
   "metadata": {},
   "source": [
    "Reading and writing are the two most common operations in the tree data structure based on the data model (TreeValue and Tianshou Batch both belong to this type), so this section will compare the reading and writing performance of these two libraries."
   ]
  },
  {
   "cell_type": "markdown",
   "id": "5d09a5b7",
   "metadata": {},
   "source": [
    "### TreeValue's Get and Set"
   ]
  },
  {
   "cell_type": "code",
   "execution_count": 2,
   "id": "9519c4bb",
   "metadata": {
    "execution": {
     "iopub.execute_input": "2023-05-26T05:24:16.741743Z",
     "iopub.status.busy": "2023-05-26T05:24:16.741263Z",
     "iopub.status.idle": "2023-05-26T05:24:16.770756Z",
     "shell.execute_reply": "2023-05-26T05:24:16.770039Z"
    }
   },
   "outputs": [],
   "source": [
    "from treevalue import FastTreeValue\n",
    "\n",
    "t = FastTreeValue(_TREE_DATA_2)"
   ]
  },
  {
   "cell_type": "code",
   "execution_count": 3,
   "id": "11c37677",
   "metadata": {
    "execution": {
     "iopub.execute_input": "2023-05-26T05:24:16.774379Z",
     "iopub.status.busy": "2023-05-26T05:24:16.773987Z",
     "iopub.status.idle": "2023-05-26T05:24:16.783801Z",
     "shell.execute_reply": "2023-05-26T05:24:16.783065Z"
    }
   },
   "outputs": [
    {
     "data": {
      "text/plain": [
       "<FastTreeValue 0x7f3e604b1f40>\n",
       "├── 'a' --> tensor([[-0.8319, -0.7362, -0.4087],\n",
       "│                   [ 0.3903, -1.5619, -0.4698]])\n",
       "└── 'x' --> <FastTreeValue 0x7f3e604b1e80>\n",
       "    └── 'c' --> tensor([[-4.1987e-01,  1.0466e-03,  4.8218e-02, -1.9142e-01],\n",
       "                        [-4.8661e-01, -1.4130e+00,  1.0928e+00, -1.6362e+00],\n",
       "                        [ 1.5164e-01, -6.4227e-01,  2.5758e-01,  8.8379e-01]])"
      ]
     },
     "execution_count": 3,
     "metadata": {},
     "output_type": "execute_result"
    }
   ],
   "source": [
    "t"
   ]
  },
  {
   "cell_type": "code",
   "execution_count": 4,
   "id": "fd70b0b9",
   "metadata": {
    "execution": {
     "iopub.execute_input": "2023-05-26T05:24:16.786900Z",
     "iopub.status.busy": "2023-05-26T05:24:16.786522Z",
     "iopub.status.idle": "2023-05-26T05:24:16.791595Z",
     "shell.execute_reply": "2023-05-26T05:24:16.790914Z"
    }
   },
   "outputs": [
    {
     "data": {
      "text/plain": [
       "tensor([[-0.8319, -0.7362, -0.4087],\n",
       "        [ 0.3903, -1.5619, -0.4698]])"
      ]
     },
     "execution_count": 4,
     "metadata": {},
     "output_type": "execute_result"
    }
   ],
   "source": [
    "t.a"
   ]
  },
  {
   "cell_type": "code",
   "execution_count": 5,
   "id": "c18197bd",
   "metadata": {
    "execution": {
     "iopub.execute_input": "2023-05-26T05:24:16.795215Z",
     "iopub.status.busy": "2023-05-26T05:24:16.794668Z",
     "iopub.status.idle": "2023-05-26T05:24:22.363859Z",
     "shell.execute_reply": "2023-05-26T05:24:22.362967Z"
    }
   },
   "outputs": [
    {
     "name": "stdout",
     "output_type": "stream",
     "text": [
      "68.6 ns ± 0.0932 ns per loop (mean ± std. dev. of 7 runs, 10,000,000 loops each)\n"
     ]
    }
   ],
   "source": [
    "%timeit t.a"
   ]
  },
  {
   "cell_type": "code",
   "execution_count": 6,
   "id": "bd52f867",
   "metadata": {
    "execution": {
     "iopub.execute_input": "2023-05-26T05:24:22.367889Z",
     "iopub.status.busy": "2023-05-26T05:24:22.367386Z",
     "iopub.status.idle": "2023-05-26T05:24:22.373804Z",
     "shell.execute_reply": "2023-05-26T05:24:22.373080Z"
    }
   },
   "outputs": [
    {
     "data": {
      "text/plain": [
       "<FastTreeValue 0x7f3e604b1f40>\n",
       "├── 'a' --> tensor([[ 2.4518,  0.3391, -2.3361],\n",
       "│                   [ 1.6329, -0.5250, -1.1297]])\n",
       "└── 'x' --> <FastTreeValue 0x7f3e604b1e80>\n",
       "    └── 'c' --> tensor([[-4.1987e-01,  1.0466e-03,  4.8218e-02, -1.9142e-01],\n",
       "                        [-4.8661e-01, -1.4130e+00,  1.0928e+00, -1.6362e+00],\n",
       "                        [ 1.5164e-01, -6.4227e-01,  2.5758e-01,  8.8379e-01]])"
      ]
     },
     "execution_count": 6,
     "metadata": {},
     "output_type": "execute_result"
    }
   ],
   "source": [
    "new_value = torch.randn(2, 3)\n",
    "t.a = new_value\n",
    "\n",
    "t"
   ]
  },
  {
   "cell_type": "code",
   "execution_count": 7,
   "id": "bbe04d1c",
   "metadata": {
    "execution": {
     "iopub.execute_input": "2023-05-26T05:24:22.376901Z",
     "iopub.status.busy": "2023-05-26T05:24:22.376444Z",
     "iopub.status.idle": "2023-05-26T05:24:28.099053Z",
     "shell.execute_reply": "2023-05-26T05:24:28.098293Z"
    }
   },
   "outputs": [
    {
     "name": "stdout",
     "output_type": "stream",
     "text": [
      "70.5 ns ± 0.0416 ns per loop (mean ± std. dev. of 7 runs, 10,000,000 loops each)\n"
     ]
    }
   ],
   "source": [
    "%timeit t.a = new_value"
   ]
  },
  {
   "cell_type": "markdown",
   "id": "48c49731",
   "metadata": {},
   "source": [
    "### Tianshou Batch's Get and Set"
   ]
  },
  {
   "cell_type": "code",
   "execution_count": 8,
   "id": "f1bb14c1",
   "metadata": {
    "execution": {
     "iopub.execute_input": "2023-05-26T05:24:28.102722Z",
     "iopub.status.busy": "2023-05-26T05:24:28.102202Z",
     "iopub.status.idle": "2023-05-26T05:24:28.473459Z",
     "shell.execute_reply": "2023-05-26T05:24:28.472689Z"
    }
   },
   "outputs": [],
   "source": [
    "from tianshou.data import Batch\n",
    "\n",
    "b = Batch(**_TREE_DATA_2)"
   ]
  },
  {
   "cell_type": "code",
   "execution_count": 9,
   "id": "cb0777c3",
   "metadata": {
    "execution": {
     "iopub.execute_input": "2023-05-26T05:24:28.477474Z",
     "iopub.status.busy": "2023-05-26T05:24:28.476950Z",
     "iopub.status.idle": "2023-05-26T05:24:28.484010Z",
     "shell.execute_reply": "2023-05-26T05:24:28.483297Z"
    }
   },
   "outputs": [
    {
     "data": {
      "text/plain": [
       "Batch(\n",
       "    a: tensor([[-0.8319, -0.7362, -0.4087],\n",
       "               [ 0.3903, -1.5619, -0.4698]]),\n",
       "    x: Batch(\n",
       "           c: tensor([[-4.1987e-01,  1.0466e-03,  4.8218e-02, -1.9142e-01],\n",
       "                      [-4.8661e-01, -1.4130e+00,  1.0928e+00, -1.6362e+00],\n",
       "                      [ 1.5164e-01, -6.4227e-01,  2.5758e-01,  8.8379e-01]]),\n",
       "       ),\n",
       ")"
      ]
     },
     "execution_count": 9,
     "metadata": {},
     "output_type": "execute_result"
    }
   ],
   "source": [
    "b"
   ]
  },
  {
   "cell_type": "code",
   "execution_count": 10,
   "id": "43ef8ea3",
   "metadata": {
    "execution": {
     "iopub.execute_input": "2023-05-26T05:24:28.487052Z",
     "iopub.status.busy": "2023-05-26T05:24:28.486607Z",
     "iopub.status.idle": "2023-05-26T05:24:28.491572Z",
     "shell.execute_reply": "2023-05-26T05:24:28.490896Z"
    }
   },
   "outputs": [
    {
     "data": {
      "text/plain": [
       "tensor([[-0.8319, -0.7362, -0.4087],\n",
       "        [ 0.3903, -1.5619, -0.4698]])"
      ]
     },
     "execution_count": 10,
     "metadata": {},
     "output_type": "execute_result"
    }
   ],
   "source": [
    "b.a"
   ]
  },
  {
   "cell_type": "code",
   "execution_count": 11,
   "id": "b785ab72",
   "metadata": {
    "execution": {
     "iopub.execute_input": "2023-05-26T05:24:28.494911Z",
     "iopub.status.busy": "2023-05-26T05:24:28.494474Z",
     "iopub.status.idle": "2023-05-26T05:24:33.233565Z",
     "shell.execute_reply": "2023-05-26T05:24:33.232822Z"
    }
   },
   "outputs": [
    {
     "name": "stdout",
     "output_type": "stream",
     "text": [
      "58 ns ± 0.0523 ns per loop (mean ± std. dev. of 7 runs, 10,000,000 loops each)\n"
     ]
    }
   ],
   "source": [
    "%timeit b.a"
   ]
  },
  {
   "cell_type": "code",
   "execution_count": 12,
   "id": "ad54dc69",
   "metadata": {
    "execution": {
     "iopub.execute_input": "2023-05-26T05:24:33.237163Z",
     "iopub.status.busy": "2023-05-26T05:24:33.236708Z",
     "iopub.status.idle": "2023-05-26T05:24:33.243066Z",
     "shell.execute_reply": "2023-05-26T05:24:33.242330Z"
    }
   },
   "outputs": [
    {
     "data": {
      "text/plain": [
       "Batch(\n",
       "    a: tensor([[ 0.1771,  2.0465,  2.6860],\n",
       "               [ 0.9369, -1.5521, -0.3848]]),\n",
       "    x: Batch(\n",
       "           c: tensor([[-4.1987e-01,  1.0466e-03,  4.8218e-02, -1.9142e-01],\n",
       "                      [-4.8661e-01, -1.4130e+00,  1.0928e+00, -1.6362e+00],\n",
       "                      [ 1.5164e-01, -6.4227e-01,  2.5758e-01,  8.8379e-01]]),\n",
       "       ),\n",
       ")"
      ]
     },
     "execution_count": 12,
     "metadata": {},
     "output_type": "execute_result"
    }
   ],
   "source": [
    "new_value = torch.randn(2, 3)\n",
    "b.a = new_value\n",
    "\n",
    "b"
   ]
  },
  {
   "cell_type": "code",
   "execution_count": 13,
   "id": "29b1d0bf",
   "metadata": {
    "execution": {
     "iopub.execute_input": "2023-05-26T05:24:33.246087Z",
     "iopub.status.busy": "2023-05-26T05:24:33.245711Z",
     "iopub.status.idle": "2023-05-26T05:24:37.489638Z",
     "shell.execute_reply": "2023-05-26T05:24:37.488906Z"
    }
   },
   "outputs": [
    {
     "name": "stdout",
     "output_type": "stream",
     "text": [
      "523 ns ± 0.434 ns per loop (mean ± std. dev. of 7 runs, 1,000,000 loops each)\n"
     ]
    }
   ],
   "source": [
    "%timeit b.a = new_value"
   ]
  },
  {
   "cell_type": "markdown",
   "id": "b61ad1d0",
   "metadata": {},
   "source": [
    "## Initialization"
   ]
  },
  {
   "cell_type": "markdown",
   "id": "d70f0d54",
   "metadata": {},
   "source": [
    "### TreeValue's Initialization"
   ]
  },
  {
   "cell_type": "code",
   "execution_count": 14,
   "id": "d32a679b",
   "metadata": {
    "execution": {
     "iopub.execute_input": "2023-05-26T05:24:37.493317Z",
     "iopub.status.busy": "2023-05-26T05:24:37.492892Z",
     "iopub.status.idle": "2023-05-26T05:24:44.311249Z",
     "shell.execute_reply": "2023-05-26T05:24:44.310508Z"
    }
   },
   "outputs": [
    {
     "name": "stdout",
     "output_type": "stream",
     "text": [
      "839 ns ± 3.93 ns per loop (mean ± std. dev. of 7 runs, 1,000,000 loops each)\n"
     ]
    }
   ],
   "source": [
    "%timeit FastTreeValue(_TREE_DATA_1)"
   ]
  },
  {
   "cell_type": "markdown",
   "id": "24f3707b",
   "metadata": {},
   "source": [
    "### Tianshou Batch's Initialization"
   ]
  },
  {
   "cell_type": "code",
   "execution_count": 15,
   "id": "ac3958df",
   "metadata": {
    "execution": {
     "iopub.execute_input": "2023-05-26T05:24:44.315046Z",
     "iopub.status.busy": "2023-05-26T05:24:44.314544Z",
     "iopub.status.idle": "2023-05-26T05:24:53.211713Z",
     "shell.execute_reply": "2023-05-26T05:24:53.211047Z"
    }
   },
   "outputs": [
    {
     "name": "stdout",
     "output_type": "stream",
     "text": [
      "11 µs ± 24.7 ns per loop (mean ± std. dev. of 7 runs, 100,000 loops each)\n"
     ]
    }
   ],
   "source": [
    "%timeit Batch(**_TREE_DATA_1)"
   ]
  },
  {
   "cell_type": "markdown",
   "id": "1ab82e2d",
   "metadata": {},
   "source": [
    "## Deep Copy Operation"
   ]
  },
  {
   "cell_type": "code",
   "execution_count": 16,
   "id": "210a9442",
   "metadata": {
    "execution": {
     "iopub.execute_input": "2023-05-26T05:24:53.215165Z",
     "iopub.status.busy": "2023-05-26T05:24:53.214669Z",
     "iopub.status.idle": "2023-05-26T05:24:53.218057Z",
     "shell.execute_reply": "2023-05-26T05:24:53.217333Z"
    }
   },
   "outputs": [],
   "source": [
    "import copy"
   ]
  },
  {
   "cell_type": "markdown",
   "id": "5a736274",
   "metadata": {},
   "source": [
    "### Deep Copy of TreeValue"
   ]
  },
  {
   "cell_type": "code",
   "execution_count": 17,
   "id": "f9bcadd6",
   "metadata": {
    "execution": {
     "iopub.execute_input": "2023-05-26T05:24:53.221475Z",
     "iopub.status.busy": "2023-05-26T05:24:53.221029Z",
     "iopub.status.idle": "2023-05-26T05:25:05.003644Z",
     "shell.execute_reply": "2023-05-26T05:25:05.002965Z"
    }
   },
   "outputs": [
    {
     "name": "stdout",
     "output_type": "stream",
     "text": [
      "145 µs ± 1.01 µs per loop (mean ± std. dev. of 7 runs, 10,000 loops each)\n"
     ]
    }
   ],
   "source": [
    "t3 = FastTreeValue(_TREE_DATA_3)\n",
    "%timeit copy.deepcopy(t3)"
   ]
  },
  {
   "cell_type": "markdown",
   "id": "bf8be7ea",
   "metadata": {},
   "source": [
    "### Deep Copy of Tianshou Batch"
   ]
  },
  {
   "cell_type": "code",
   "execution_count": 18,
   "id": "91998e6f",
   "metadata": {
    "execution": {
     "iopub.execute_input": "2023-05-26T05:25:05.006892Z",
     "iopub.status.busy": "2023-05-26T05:25:05.006364Z",
     "iopub.status.idle": "2023-05-26T05:25:16.707538Z",
     "shell.execute_reply": "2023-05-26T05:25:16.706881Z"
    }
   },
   "outputs": [
    {
     "name": "stdout",
     "output_type": "stream",
     "text": [
      "144 µs ± 309 ns per loop (mean ± std. dev. of 7 runs, 10,000 loops each)\n"
     ]
    }
   ],
   "source": [
    "b3 = Batch(**_TREE_DATA_3)\n",
    "%timeit copy.deepcopy(b3)"
   ]
  },
  {
   "cell_type": "markdown",
   "id": "223162fb",
   "metadata": {},
   "source": [
    "## Stack, Concat and Split Operation"
   ]
  },
  {
   "cell_type": "markdown",
   "id": "85fa4a73",
   "metadata": {},
   "source": [
    "### Performance of TreeValue"
   ]
  },
  {
   "cell_type": "code",
   "execution_count": 19,
   "id": "a0c2b697",
   "metadata": {
    "execution": {
     "iopub.execute_input": "2023-05-26T05:25:16.710761Z",
     "iopub.status.busy": "2023-05-26T05:25:16.710328Z",
     "iopub.status.idle": "2023-05-26T05:25:16.714123Z",
     "shell.execute_reply": "2023-05-26T05:25:16.713436Z"
    }
   },
   "outputs": [],
   "source": [
    "trees = [FastTreeValue(_TREE_DATA_2) for _ in range(8)]"
   ]
  },
  {
   "cell_type": "code",
   "execution_count": 20,
   "id": "017ea5a5",
   "metadata": {
    "execution": {
     "iopub.execute_input": "2023-05-26T05:25:16.717053Z",
     "iopub.status.busy": "2023-05-26T05:25:16.716627Z",
     "iopub.status.idle": "2023-05-26T05:25:16.725037Z",
     "shell.execute_reply": "2023-05-26T05:25:16.723782Z"
    }
   },
   "outputs": [
    {
     "data": {
      "text/plain": [
       "<FastTreeValue 0x7f3d9c917c70>\n",
       "├── 'a' --> tensor([[[-0.8319, -0.7362, -0.4087],\n",
       "│                    [ 0.3903, -1.5619, -0.4698]],\n",
       "│           \n",
       "│                   [[-0.8319, -0.7362, -0.4087],\n",
       "│                    [ 0.3903, -1.5619, -0.4698]],\n",
       "│           \n",
       "│                   [[-0.8319, -0.7362, -0.4087],\n",
       "│                    [ 0.3903, -1.5619, -0.4698]],\n",
       "│           \n",
       "│                   [[-0.8319, -0.7362, -0.4087],\n",
       "│                    [ 0.3903, -1.5619, -0.4698]],\n",
       "│           \n",
       "│                   [[-0.8319, -0.7362, -0.4087],\n",
       "│                    [ 0.3903, -1.5619, -0.4698]],\n",
       "│           \n",
       "│                   [[-0.8319, -0.7362, -0.4087],\n",
       "│                    [ 0.3903, -1.5619, -0.4698]],\n",
       "│           \n",
       "│                   [[-0.8319, -0.7362, -0.4087],\n",
       "│                    [ 0.3903, -1.5619, -0.4698]],\n",
       "│           \n",
       "│                   [[-0.8319, -0.7362, -0.4087],\n",
       "│                    [ 0.3903, -1.5619, -0.4698]]])\n",
       "└── 'x' --> <FastTreeValue 0x7f3d9376bf40>\n",
       "    └── 'c' --> tensor([[[-4.1987e-01,  1.0466e-03,  4.8218e-02, -1.9142e-01],\n",
       "                         [-4.8661e-01, -1.4130e+00,  1.0928e+00, -1.6362e+00],\n",
       "                         [ 1.5164e-01, -6.4227e-01,  2.5758e-01,  8.8379e-01]],\n",
       "                \n",
       "                        [[-4.1987e-01,  1.0466e-03,  4.8218e-02, -1.9142e-01],\n",
       "                         [-4.8661e-01, -1.4130e+00,  1.0928e+00, -1.6362e+00],\n",
       "                         [ 1.5164e-01, -6.4227e-01,  2.5758e-01,  8.8379e-01]],\n",
       "                \n",
       "                        [[-4.1987e-01,  1.0466e-03,  4.8218e-02, -1.9142e-01],\n",
       "                         [-4.8661e-01, -1.4130e+00,  1.0928e+00, -1.6362e+00],\n",
       "                         [ 1.5164e-01, -6.4227e-01,  2.5758e-01,  8.8379e-01]],\n",
       "                \n",
       "                        [[-4.1987e-01,  1.0466e-03,  4.8218e-02, -1.9142e-01],\n",
       "                         [-4.8661e-01, -1.4130e+00,  1.0928e+00, -1.6362e+00],\n",
       "                         [ 1.5164e-01, -6.4227e-01,  2.5758e-01,  8.8379e-01]],\n",
       "                \n",
       "                        [[-4.1987e-01,  1.0466e-03,  4.8218e-02, -1.9142e-01],\n",
       "                         [-4.8661e-01, -1.4130e+00,  1.0928e+00, -1.6362e+00],\n",
       "                         [ 1.5164e-01, -6.4227e-01,  2.5758e-01,  8.8379e-01]],\n",
       "                \n",
       "                        [[-4.1987e-01,  1.0466e-03,  4.8218e-02, -1.9142e-01],\n",
       "                         [-4.8661e-01, -1.4130e+00,  1.0928e+00, -1.6362e+00],\n",
       "                         [ 1.5164e-01, -6.4227e-01,  2.5758e-01,  8.8379e-01]],\n",
       "                \n",
       "                        [[-4.1987e-01,  1.0466e-03,  4.8218e-02, -1.9142e-01],\n",
       "                         [-4.8661e-01, -1.4130e+00,  1.0928e+00, -1.6362e+00],\n",
       "                         [ 1.5164e-01, -6.4227e-01,  2.5758e-01,  8.8379e-01]],\n",
       "                \n",
       "                        [[-4.1987e-01,  1.0466e-03,  4.8218e-02, -1.9142e-01],\n",
       "                         [-4.8661e-01, -1.4130e+00,  1.0928e+00, -1.6362e+00],\n",
       "                         [ 1.5164e-01, -6.4227e-01,  2.5758e-01,  8.8379e-01]]])"
      ]
     },
     "execution_count": 20,
     "metadata": {},
     "output_type": "execute_result"
    }
   ],
   "source": [
    "t_stack = FastTreeValue.func(subside=True)(torch.stack)\n",
    "\n",
    "t_stack(trees)"
   ]
  },
  {
   "cell_type": "code",
   "execution_count": 21,
   "id": "f8b3f415",
   "metadata": {
    "execution": {
     "iopub.execute_input": "2023-05-26T05:25:16.728765Z",
     "iopub.status.busy": "2023-05-26T05:25:16.728321Z",
     "iopub.status.idle": "2023-05-26T05:25:19.448841Z",
     "shell.execute_reply": "2023-05-26T05:25:19.446968Z"
    }
   },
   "outputs": [
    {
     "name": "stdout",
     "output_type": "stream",
     "text": [
      "33.4 µs ± 18.5 ns per loop (mean ± std. dev. of 7 runs, 10,000 loops each)\n"
     ]
    }
   ],
   "source": [
    "%timeit t_stack(trees)"
   ]
  },
  {
   "cell_type": "code",
   "execution_count": 22,
   "id": "94b56771",
   "metadata": {
    "execution": {
     "iopub.execute_input": "2023-05-26T05:25:19.452365Z",
     "iopub.status.busy": "2023-05-26T05:25:19.451888Z",
     "iopub.status.idle": "2023-05-26T05:25:19.459651Z",
     "shell.execute_reply": "2023-05-26T05:25:19.458954Z"
    }
   },
   "outputs": [
    {
     "data": {
      "text/plain": [
       "<FastTreeValue 0x7f3d9c8b26a0>\n",
       "├── 'a' --> tensor([[-0.8319, -0.7362, -0.4087],\n",
       "│                   [ 0.3903, -1.5619, -0.4698],\n",
       "│                   [-0.8319, -0.7362, -0.4087],\n",
       "│                   [ 0.3903, -1.5619, -0.4698],\n",
       "│                   [-0.8319, -0.7362, -0.4087],\n",
       "│                   [ 0.3903, -1.5619, -0.4698],\n",
       "│                   [-0.8319, -0.7362, -0.4087],\n",
       "│                   [ 0.3903, -1.5619, -0.4698],\n",
       "│                   [-0.8319, -0.7362, -0.4087],\n",
       "│                   [ 0.3903, -1.5619, -0.4698],\n",
       "│                   [-0.8319, -0.7362, -0.4087],\n",
       "│                   [ 0.3903, -1.5619, -0.4698],\n",
       "│                   [-0.8319, -0.7362, -0.4087],\n",
       "│                   [ 0.3903, -1.5619, -0.4698],\n",
       "│                   [-0.8319, -0.7362, -0.4087],\n",
       "│                   [ 0.3903, -1.5619, -0.4698]])\n",
       "└── 'x' --> <FastTreeValue 0x7f3d9483dbb0>\n",
       "    └── 'c' --> tensor([[-4.1987e-01,  1.0466e-03,  4.8218e-02, -1.9142e-01],\n",
       "                        [-4.8661e-01, -1.4130e+00,  1.0928e+00, -1.6362e+00],\n",
       "                        [ 1.5164e-01, -6.4227e-01,  2.5758e-01,  8.8379e-01],\n",
       "                        [-4.1987e-01,  1.0466e-03,  4.8218e-02, -1.9142e-01],\n",
       "                        [-4.8661e-01, -1.4130e+00,  1.0928e+00, -1.6362e+00],\n",
       "                        [ 1.5164e-01, -6.4227e-01,  2.5758e-01,  8.8379e-01],\n",
       "                        [-4.1987e-01,  1.0466e-03,  4.8218e-02, -1.9142e-01],\n",
       "                        [-4.8661e-01, -1.4130e+00,  1.0928e+00, -1.6362e+00],\n",
       "                        [ 1.5164e-01, -6.4227e-01,  2.5758e-01,  8.8379e-01],\n",
       "                        [-4.1987e-01,  1.0466e-03,  4.8218e-02, -1.9142e-01],\n",
       "                        [-4.8661e-01, -1.4130e+00,  1.0928e+00, -1.6362e+00],\n",
       "                        [ 1.5164e-01, -6.4227e-01,  2.5758e-01,  8.8379e-01],\n",
       "                        [-4.1987e-01,  1.0466e-03,  4.8218e-02, -1.9142e-01],\n",
       "                        [-4.8661e-01, -1.4130e+00,  1.0928e+00, -1.6362e+00],\n",
       "                        [ 1.5164e-01, -6.4227e-01,  2.5758e-01,  8.8379e-01],\n",
       "                        [-4.1987e-01,  1.0466e-03,  4.8218e-02, -1.9142e-01],\n",
       "                        [-4.8661e-01, -1.4130e+00,  1.0928e+00, -1.6362e+00],\n",
       "                        [ 1.5164e-01, -6.4227e-01,  2.5758e-01,  8.8379e-01],\n",
       "                        [-4.1987e-01,  1.0466e-03,  4.8218e-02, -1.9142e-01],\n",
       "                        [-4.8661e-01, -1.4130e+00,  1.0928e+00, -1.6362e+00],\n",
       "                        [ 1.5164e-01, -6.4227e-01,  2.5758e-01,  8.8379e-01],\n",
       "                        [-4.1987e-01,  1.0466e-03,  4.8218e-02, -1.9142e-01],\n",
       "                        [-4.8661e-01, -1.4130e+00,  1.0928e+00, -1.6362e+00],\n",
       "                        [ 1.5164e-01, -6.4227e-01,  2.5758e-01,  8.8379e-01]])"
      ]
     },
     "execution_count": 22,
     "metadata": {},
     "output_type": "execute_result"
    }
   ],
   "source": [
    "t_cat = FastTreeValue.func(subside=True)(torch.cat)\n",
    "\n",
    "t_cat(trees)"
   ]
  },
  {
   "cell_type": "code",
   "execution_count": 23,
   "id": "5e9c06a6",
   "metadata": {
    "execution": {
     "iopub.execute_input": "2023-05-26T05:25:19.462729Z",
     "iopub.status.busy": "2023-05-26T05:25:19.462251Z",
     "iopub.status.idle": "2023-05-26T05:25:21.992294Z",
     "shell.execute_reply": "2023-05-26T05:25:21.991560Z"
    }
   },
   "outputs": [
    {
     "name": "stdout",
     "output_type": "stream",
     "text": [
      "31.1 µs ± 127 ns per loop (mean ± std. dev. of 7 runs, 10,000 loops each)\n"
     ]
    }
   ],
   "source": [
    "%timeit t_cat(trees)"
   ]
  },
  {
   "cell_type": "code",
   "execution_count": 24,
   "id": "a3ab5c8f",
   "metadata": {
    "execution": {
     "iopub.execute_input": "2023-05-26T05:25:21.995971Z",
     "iopub.status.busy": "2023-05-26T05:25:21.995461Z",
     "iopub.status.idle": "2023-05-26T05:25:27.400795Z",
     "shell.execute_reply": "2023-05-26T05:25:27.400057Z"
    }
   },
   "outputs": [
    {
     "name": "stdout",
     "output_type": "stream",
     "text": [
      "66.5 µs ± 94.9 ns per loop (mean ± std. dev. of 7 runs, 10,000 loops each)\n"
     ]
    }
   ],
   "source": [
    "t_split = FastTreeValue.func(rise=True)(torch.split)\n",
    "tree = FastTreeValue({\n",
    "    'obs': torch.randn(8, 4, 84, 84),\n",
    "    'action': torch.randint(0, 6, size=(8, 1,)),\n",
    "    'reward': torch.rand(8, 1),\n",
    "})\n",
    "\n",
    "%timeit t_split(tree, 1)"
   ]
  },
  {
   "cell_type": "markdown",
   "id": "31c3ec0b",
   "metadata": {},
   "source": [
    "### Performance of Tianshou Batch"
   ]
  },
  {
   "cell_type": "code",
   "execution_count": 25,
   "id": "9ead828a",
   "metadata": {
    "execution": {
     "iopub.execute_input": "2023-05-26T05:25:27.404535Z",
     "iopub.status.busy": "2023-05-26T05:25:27.404094Z",
     "iopub.status.idle": "2023-05-26T05:25:27.414663Z",
     "shell.execute_reply": "2023-05-26T05:25:27.414012Z"
    }
   },
   "outputs": [
    {
     "data": {
      "text/plain": [
       "Batch(\n",
       "    a: tensor([[[-0.8319, -0.7362, -0.4087],\n",
       "                [ 0.3903, -1.5619, -0.4698]],\n",
       "       \n",
       "               [[-0.8319, -0.7362, -0.4087],\n",
       "                [ 0.3903, -1.5619, -0.4698]],\n",
       "       \n",
       "               [[-0.8319, -0.7362, -0.4087],\n",
       "                [ 0.3903, -1.5619, -0.4698]],\n",
       "       \n",
       "               [[-0.8319, -0.7362, -0.4087],\n",
       "                [ 0.3903, -1.5619, -0.4698]],\n",
       "       \n",
       "               [[-0.8319, -0.7362, -0.4087],\n",
       "                [ 0.3903, -1.5619, -0.4698]],\n",
       "       \n",
       "               [[-0.8319, -0.7362, -0.4087],\n",
       "                [ 0.3903, -1.5619, -0.4698]],\n",
       "       \n",
       "               [[-0.8319, -0.7362, -0.4087],\n",
       "                [ 0.3903, -1.5619, -0.4698]],\n",
       "       \n",
       "               [[-0.8319, -0.7362, -0.4087],\n",
       "                [ 0.3903, -1.5619, -0.4698]]]),\n",
       "    x: Batch(\n",
       "           c: tensor([[[-4.1987e-01,  1.0466e-03,  4.8218e-02, -1.9142e-01],\n",
       "                       [-4.8661e-01, -1.4130e+00,  1.0928e+00, -1.6362e+00],\n",
       "                       [ 1.5164e-01, -6.4227e-01,  2.5758e-01,  8.8379e-01]],\n",
       "              \n",
       "                      [[-4.1987e-01,  1.0466e-03,  4.8218e-02, -1.9142e-01],\n",
       "                       [-4.8661e-01, -1.4130e+00,  1.0928e+00, -1.6362e+00],\n",
       "                       [ 1.5164e-01, -6.4227e-01,  2.5758e-01,  8.8379e-01]],\n",
       "              \n",
       "                      [[-4.1987e-01,  1.0466e-03,  4.8218e-02, -1.9142e-01],\n",
       "                       [-4.8661e-01, -1.4130e+00,  1.0928e+00, -1.6362e+00],\n",
       "                       [ 1.5164e-01, -6.4227e-01,  2.5758e-01,  8.8379e-01]],\n",
       "              \n",
       "                      [[-4.1987e-01,  1.0466e-03,  4.8218e-02, -1.9142e-01],\n",
       "                       [-4.8661e-01, -1.4130e+00,  1.0928e+00, -1.6362e+00],\n",
       "                       [ 1.5164e-01, -6.4227e-01,  2.5758e-01,  8.8379e-01]],\n",
       "              \n",
       "                      [[-4.1987e-01,  1.0466e-03,  4.8218e-02, -1.9142e-01],\n",
       "                       [-4.8661e-01, -1.4130e+00,  1.0928e+00, -1.6362e+00],\n",
       "                       [ 1.5164e-01, -6.4227e-01,  2.5758e-01,  8.8379e-01]],\n",
       "              \n",
       "                      [[-4.1987e-01,  1.0466e-03,  4.8218e-02, -1.9142e-01],\n",
       "                       [-4.8661e-01, -1.4130e+00,  1.0928e+00, -1.6362e+00],\n",
       "                       [ 1.5164e-01, -6.4227e-01,  2.5758e-01,  8.8379e-01]],\n",
       "              \n",
       "                      [[-4.1987e-01,  1.0466e-03,  4.8218e-02, -1.9142e-01],\n",
       "                       [-4.8661e-01, -1.4130e+00,  1.0928e+00, -1.6362e+00],\n",
       "                       [ 1.5164e-01, -6.4227e-01,  2.5758e-01,  8.8379e-01]],\n",
       "              \n",
       "                      [[-4.1987e-01,  1.0466e-03,  4.8218e-02, -1.9142e-01],\n",
       "                       [-4.8661e-01, -1.4130e+00,  1.0928e+00, -1.6362e+00],\n",
       "                       [ 1.5164e-01, -6.4227e-01,  2.5758e-01,  8.8379e-01]]]),\n",
       "       ),\n",
       ")"
      ]
     },
     "execution_count": 25,
     "metadata": {},
     "output_type": "execute_result"
    }
   ],
   "source": [
    "batches = [Batch(**_TREE_DATA_2) for _ in range(8)]\n",
    "\n",
    "Batch.stack(batches)"
   ]
  },
  {
   "cell_type": "code",
   "execution_count": 26,
   "id": "ec9037a3",
   "metadata": {
    "execution": {
     "iopub.execute_input": "2023-05-26T05:25:27.418031Z",
     "iopub.status.busy": "2023-05-26T05:25:27.417552Z",
     "iopub.status.idle": "2023-05-26T05:25:33.834173Z",
     "shell.execute_reply": "2023-05-26T05:25:33.833261Z"
    }
   },
   "outputs": [
    {
     "name": "stdout",
     "output_type": "stream",
     "text": [
      "78.9 µs ± 201 ns per loop (mean ± std. dev. of 7 runs, 10,000 loops each)\n"
     ]
    }
   ],
   "source": [
    "%timeit Batch.stack(batches)"
   ]
  },
  {
   "cell_type": "code",
   "execution_count": 27,
   "id": "cb8ab77e",
   "metadata": {
    "execution": {
     "iopub.execute_input": "2023-05-26T05:25:33.837855Z",
     "iopub.status.busy": "2023-05-26T05:25:33.837336Z",
     "iopub.status.idle": "2023-05-26T05:25:33.845953Z",
     "shell.execute_reply": "2023-05-26T05:25:33.845335Z"
    }
   },
   "outputs": [
    {
     "data": {
      "text/plain": [
       "Batch(\n",
       "    a: tensor([[-0.8319, -0.7362, -0.4087],\n",
       "               [ 0.3903, -1.5619, -0.4698],\n",
       "               [-0.8319, -0.7362, -0.4087],\n",
       "               [ 0.3903, -1.5619, -0.4698],\n",
       "               [-0.8319, -0.7362, -0.4087],\n",
       "               [ 0.3903, -1.5619, -0.4698],\n",
       "               [-0.8319, -0.7362, -0.4087],\n",
       "               [ 0.3903, -1.5619, -0.4698],\n",
       "               [-0.8319, -0.7362, -0.4087],\n",
       "               [ 0.3903, -1.5619, -0.4698],\n",
       "               [-0.8319, -0.7362, -0.4087],\n",
       "               [ 0.3903, -1.5619, -0.4698],\n",
       "               [-0.8319, -0.7362, -0.4087],\n",
       "               [ 0.3903, -1.5619, -0.4698],\n",
       "               [-0.8319, -0.7362, -0.4087],\n",
       "               [ 0.3903, -1.5619, -0.4698]]),\n",
       "    x: Batch(\n",
       "           c: tensor([[-4.1987e-01,  1.0466e-03,  4.8218e-02, -1.9142e-01],\n",
       "                      [-4.8661e-01, -1.4130e+00,  1.0928e+00, -1.6362e+00],\n",
       "                      [ 1.5164e-01, -6.4227e-01,  2.5758e-01,  8.8379e-01],\n",
       "                      [-4.1987e-01,  1.0466e-03,  4.8218e-02, -1.9142e-01],\n",
       "                      [-4.8661e-01, -1.4130e+00,  1.0928e+00, -1.6362e+00],\n",
       "                      [ 1.5164e-01, -6.4227e-01,  2.5758e-01,  8.8379e-01],\n",
       "                      [-4.1987e-01,  1.0466e-03,  4.8218e-02, -1.9142e-01],\n",
       "                      [-4.8661e-01, -1.4130e+00,  1.0928e+00, -1.6362e+00],\n",
       "                      [ 1.5164e-01, -6.4227e-01,  2.5758e-01,  8.8379e-01],\n",
       "                      [-4.1987e-01,  1.0466e-03,  4.8218e-02, -1.9142e-01],\n",
       "                      [-4.8661e-01, -1.4130e+00,  1.0928e+00, -1.6362e+00],\n",
       "                      [ 1.5164e-01, -6.4227e-01,  2.5758e-01,  8.8379e-01],\n",
       "                      [-4.1987e-01,  1.0466e-03,  4.8218e-02, -1.9142e-01],\n",
       "                      [-4.8661e-01, -1.4130e+00,  1.0928e+00, -1.6362e+00],\n",
       "                      [ 1.5164e-01, -6.4227e-01,  2.5758e-01,  8.8379e-01],\n",
       "                      [-4.1987e-01,  1.0466e-03,  4.8218e-02, -1.9142e-01],\n",
       "                      [-4.8661e-01, -1.4130e+00,  1.0928e+00, -1.6362e+00],\n",
       "                      [ 1.5164e-01, -6.4227e-01,  2.5758e-01,  8.8379e-01],\n",
       "                      [-4.1987e-01,  1.0466e-03,  4.8218e-02, -1.9142e-01],\n",
       "                      [-4.8661e-01, -1.4130e+00,  1.0928e+00, -1.6362e+00],\n",
       "                      [ 1.5164e-01, -6.4227e-01,  2.5758e-01,  8.8379e-01],\n",
       "                      [-4.1987e-01,  1.0466e-03,  4.8218e-02, -1.9142e-01],\n",
       "                      [-4.8661e-01, -1.4130e+00,  1.0928e+00, -1.6362e+00],\n",
       "                      [ 1.5164e-01, -6.4227e-01,  2.5758e-01,  8.8379e-01]]),\n",
       "       ),\n",
       ")"
      ]
     },
     "execution_count": 27,
     "metadata": {},
     "output_type": "execute_result"
    }
   ],
   "source": [
    "Batch.cat(batches)"
   ]
  },
  {
   "cell_type": "code",
   "execution_count": 28,
   "id": "18dfb045",
   "metadata": {
    "execution": {
     "iopub.execute_input": "2023-05-26T05:25:33.849375Z",
     "iopub.status.busy": "2023-05-26T05:25:33.848862Z",
     "iopub.status.idle": "2023-05-26T05:25:46.005216Z",
     "shell.execute_reply": "2023-05-26T05:25:46.004486Z"
    }
   },
   "outputs": [
    {
     "name": "stdout",
     "output_type": "stream",
     "text": [
      "150 µs ± 260 ns per loop (mean ± std. dev. of 7 runs, 10,000 loops each)\n"
     ]
    }
   ],
   "source": [
    "%timeit Batch.cat(batches)"
   ]
  },
  {
   "cell_type": "code",
   "execution_count": 29,
   "id": "c6688e51",
   "metadata": {
    "execution": {
     "iopub.execute_input": "2023-05-26T05:25:46.009378Z",
     "iopub.status.busy": "2023-05-26T05:25:46.008875Z",
     "iopub.status.idle": "2023-05-26T05:25:48.855041Z",
     "shell.execute_reply": "2023-05-26T05:25:48.853666Z"
    }
   },
   "outputs": [
    {
     "name": "stdout",
     "output_type": "stream",
     "text": [
      "351 µs ± 13.7 µs per loop (mean ± std. dev. of 7 runs, 1,000 loops each)\n"
     ]
    }
   ],
   "source": [
    "batch = Batch({\n",
    "    'obs': torch.randn(8, 4, 84, 84),\n",
    "    'action': torch.randint(0, 6, size=(8, 1,)),\n",
    "    'reward': torch.rand(8, 1)}\n",
    ")\n",
    "\n",
    "%timeit list(Batch.split(batch, 1, shuffle=False, merge_last=True))"
   ]
  },
  {
   "cell_type": "code",
   "execution_count": null,
   "id": "2539fbd9",
   "metadata": {},
   "outputs": [],
   "source": []
  }
 ],
 "metadata": {
  "kernelspec": {
   "display_name": "Python 3 (ipykernel)",
   "language": "python",
   "name": "python3"
  },
  "language_info": {
   "codemirror_mode": {
    "name": "ipython",
    "version": 3
   },
   "file_extension": ".py",
   "mimetype": "text/x-python",
   "name": "python",
   "nbconvert_exporter": "python",
   "pygments_lexer": "ipython3",
   "version": "3.8.16"
  }
 },
 "nbformat": 4,
 "nbformat_minor": 5
}
