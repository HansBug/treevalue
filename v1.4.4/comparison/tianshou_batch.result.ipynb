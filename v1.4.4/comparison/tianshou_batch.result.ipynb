{
 "cells": [
  {
   "cell_type": "markdown",
   "id": "9d39d946",
   "metadata": {},
   "source": [
    "# Comparison Between TreeValue and Tianshou Batch"
   ]
  },
  {
   "cell_type": "markdown",
   "id": "3c6db2d4",
   "metadata": {},
   "source": [
    "In this section, we will take a look at the feature and performance of the [Tianshou Batch](https://github.com/thu-ml/tianshou) library, which is developed by Tsinghua Machine Learning Group."
   ]
  },
  {
   "cell_type": "markdown",
   "id": "069361b0",
   "metadata": {},
   "source": [
    "Before starting the comparison, let us define some thing."
   ]
  },
  {
   "cell_type": "code",
   "execution_count": 1,
   "id": "06fc8d26",
   "metadata": {
    "execution": {
     "iopub.execute_input": "2023-10-22T15:16:00.368961Z",
     "iopub.status.busy": "2023-10-22T15:16:00.368659Z",
     "iopub.status.idle": "2023-10-22T15:16:01.988339Z",
     "shell.execute_reply": "2023-10-22T15:16:01.987509Z"
    }
   },
   "outputs": [],
   "source": [
    "import torch \n",
    "\n",
    "_TREE_DATA_1 = {'a': 1, 'b': 2, 'x': {'c': 3, 'd': 4}}\n",
    "_TREE_DATA_2 = {\n",
    "    'a': torch.randn(2, 3), \n",
    "    'x': {\n",
    "        'c': torch.randn(3, 4)\n",
    "    },\n",
    "}\n",
    "_TREE_DATA_3 = {\n",
    "    'obs': torch.randn(4, 84, 84),\n",
    "    'action': torch.randint(0, 6, size=(1,)),\n",
    "    'reward': torch.rand(1),\n",
    "}"
   ]
  },
  {
   "cell_type": "markdown",
   "id": "83461b25",
   "metadata": {},
   "source": [
    "## Read and Write Operation"
   ]
  },
  {
   "cell_type": "markdown",
   "id": "067b3f73",
   "metadata": {},
   "source": [
    "Reading and writing are the two most common operations in the tree data structure based on the data model (TreeValue and Tianshou Batch both belong to this type), so this section will compare the reading and writing performance of these two libraries."
   ]
  },
  {
   "cell_type": "markdown",
   "id": "5d09a5b7",
   "metadata": {},
   "source": [
    "### TreeValue's Get and Set"
   ]
  },
  {
   "cell_type": "code",
   "execution_count": 2,
   "id": "9519c4bb",
   "metadata": {
    "execution": {
     "iopub.execute_input": "2023-10-22T15:16:01.994119Z",
     "iopub.status.busy": "2023-10-22T15:16:01.992285Z",
     "iopub.status.idle": "2023-10-22T15:16:02.026001Z",
     "shell.execute_reply": "2023-10-22T15:16:02.025297Z"
    }
   },
   "outputs": [],
   "source": [
    "from treevalue import FastTreeValue\n",
    "\n",
    "t = FastTreeValue(_TREE_DATA_2)"
   ]
  },
  {
   "cell_type": "code",
   "execution_count": 3,
   "id": "11c37677",
   "metadata": {
    "execution": {
     "iopub.execute_input": "2023-10-22T15:16:02.029553Z",
     "iopub.status.busy": "2023-10-22T15:16:02.029049Z",
     "iopub.status.idle": "2023-10-22T15:16:02.040366Z",
     "shell.execute_reply": "2023-10-22T15:16:02.039750Z"
    }
   },
   "outputs": [
    {
     "data": {
      "text/plain": [
       "<FastTreeValue 0x7f44d88a2c10>\n",
       "├── 'a' --> tensor([[-0.6344, -0.4627, -0.5508],\n",
       "│                   [-1.7655, -0.9810,  1.0633]])\n",
       "└── 'x' --> <FastTreeValue 0x7f44d88a28e0>\n",
       "    └── 'c' --> tensor([[-1.0219,  1.9453, -0.8689, -0.7431],\n",
       "                        [ 1.7156,  0.6123, -1.2573, -1.7966],\n",
       "                        [ 2.2031,  1.9475,  0.8056,  1.0658]])"
      ]
     },
     "execution_count": 3,
     "metadata": {},
     "output_type": "execute_result"
    }
   ],
   "source": [
    "t"
   ]
  },
  {
   "cell_type": "code",
   "execution_count": 4,
   "id": "fd70b0b9",
   "metadata": {
    "execution": {
     "iopub.execute_input": "2023-10-22T15:16:02.043486Z",
     "iopub.status.busy": "2023-10-22T15:16:02.043102Z",
     "iopub.status.idle": "2023-10-22T15:16:02.050326Z",
     "shell.execute_reply": "2023-10-22T15:16:02.049643Z"
    }
   },
   "outputs": [
    {
     "data": {
      "text/plain": [
       "tensor([[-0.6344, -0.4627, -0.5508],\n",
       "        [-1.7655, -0.9810,  1.0633]])"
      ]
     },
     "execution_count": 4,
     "metadata": {},
     "output_type": "execute_result"
    }
   ],
   "source": [
    "t.a"
   ]
  },
  {
   "cell_type": "code",
   "execution_count": 5,
   "id": "c18197bd",
   "metadata": {
    "execution": {
     "iopub.execute_input": "2023-10-22T15:16:02.053570Z",
     "iopub.status.busy": "2023-10-22T15:16:02.053118Z",
     "iopub.status.idle": "2023-10-22T15:16:08.025560Z",
     "shell.execute_reply": "2023-10-22T15:16:08.024656Z"
    }
   },
   "outputs": [
    {
     "name": "stdout",
     "output_type": "stream",
     "text": [
      "73.5 ns ± 0.127 ns per loop (mean ± std. dev. of 7 runs, 10,000,000 loops each)\n"
     ]
    }
   ],
   "source": [
    "%timeit t.a"
   ]
  },
  {
   "cell_type": "code",
   "execution_count": 6,
   "id": "bd52f867",
   "metadata": {
    "execution": {
     "iopub.execute_input": "2023-10-22T15:16:08.029875Z",
     "iopub.status.busy": "2023-10-22T15:16:08.029150Z",
     "iopub.status.idle": "2023-10-22T15:16:08.037004Z",
     "shell.execute_reply": "2023-10-22T15:16:08.036355Z"
    }
   },
   "outputs": [
    {
     "data": {
      "text/plain": [
       "<FastTreeValue 0x7f44d88a2c10>\n",
       "├── 'a' --> tensor([[-1.7000,  0.8757,  1.3652],\n",
       "│                   [ 0.7086, -0.7701,  0.3615]])\n",
       "└── 'x' --> <FastTreeValue 0x7f44d88a28e0>\n",
       "    └── 'c' --> tensor([[-1.0219,  1.9453, -0.8689, -0.7431],\n",
       "                        [ 1.7156,  0.6123, -1.2573, -1.7966],\n",
       "                        [ 2.2031,  1.9475,  0.8056,  1.0658]])"
      ]
     },
     "execution_count": 6,
     "metadata": {},
     "output_type": "execute_result"
    }
   ],
   "source": [
    "new_value = torch.randn(2, 3)\n",
    "t.a = new_value\n",
    "\n",
    "t"
   ]
  },
  {
   "cell_type": "code",
   "execution_count": 7,
   "id": "bbe04d1c",
   "metadata": {
    "execution": {
     "iopub.execute_input": "2023-10-22T15:16:08.040570Z",
     "iopub.status.busy": "2023-10-22T15:16:08.039886Z",
     "iopub.status.idle": "2023-10-22T15:16:13.969376Z",
     "shell.execute_reply": "2023-10-22T15:16:13.968418Z"
    }
   },
   "outputs": [
    {
     "name": "stdout",
     "output_type": "stream",
     "text": [
      "73 ns ± 0.101 ns per loop (mean ± std. dev. of 7 runs, 10,000,000 loops each)\n"
     ]
    }
   ],
   "source": [
    "%timeit t.a = new_value"
   ]
  },
  {
   "cell_type": "markdown",
   "id": "48c49731",
   "metadata": {},
   "source": [
    "### Tianshou Batch's Get and Set"
   ]
  },
  {
   "cell_type": "code",
   "execution_count": 8,
   "id": "f1bb14c1",
   "metadata": {
    "execution": {
     "iopub.execute_input": "2023-10-22T15:16:13.973258Z",
     "iopub.status.busy": "2023-10-22T15:16:13.972646Z",
     "iopub.status.idle": "2023-10-22T15:16:14.406531Z",
     "shell.execute_reply": "2023-10-22T15:16:14.405756Z"
    }
   },
   "outputs": [],
   "source": [
    "from tianshou.data import Batch\n",
    "\n",
    "b = Batch(**_TREE_DATA_2)"
   ]
  },
  {
   "cell_type": "code",
   "execution_count": 9,
   "id": "cb0777c3",
   "metadata": {
    "execution": {
     "iopub.execute_input": "2023-10-22T15:16:14.410564Z",
     "iopub.status.busy": "2023-10-22T15:16:14.409822Z",
     "iopub.status.idle": "2023-10-22T15:16:14.417951Z",
     "shell.execute_reply": "2023-10-22T15:16:14.417297Z"
    }
   },
   "outputs": [
    {
     "data": {
      "text/plain": [
       "Batch(\n",
       "    a: tensor([[-0.6344, -0.4627, -0.5508],\n",
       "               [-1.7655, -0.9810,  1.0633]]),\n",
       "    x: Batch(\n",
       "           c: tensor([[-1.0219,  1.9453, -0.8689, -0.7431],\n",
       "                      [ 1.7156,  0.6123, -1.2573, -1.7966],\n",
       "                      [ 2.2031,  1.9475,  0.8056,  1.0658]]),\n",
       "       ),\n",
       ")"
      ]
     },
     "execution_count": 9,
     "metadata": {},
     "output_type": "execute_result"
    }
   ],
   "source": [
    "b"
   ]
  },
  {
   "cell_type": "code",
   "execution_count": 10,
   "id": "43ef8ea3",
   "metadata": {
    "execution": {
     "iopub.execute_input": "2023-10-22T15:16:14.421143Z",
     "iopub.status.busy": "2023-10-22T15:16:14.420565Z",
     "iopub.status.idle": "2023-10-22T15:16:14.425762Z",
     "shell.execute_reply": "2023-10-22T15:16:14.425043Z"
    }
   },
   "outputs": [
    {
     "data": {
      "text/plain": [
       "tensor([[-0.6344, -0.4627, -0.5508],\n",
       "        [-1.7655, -0.9810,  1.0633]])"
      ]
     },
     "execution_count": 10,
     "metadata": {},
     "output_type": "execute_result"
    }
   ],
   "source": [
    "b.a"
   ]
  },
  {
   "cell_type": "code",
   "execution_count": 11,
   "id": "b785ab72",
   "metadata": {
    "execution": {
     "iopub.execute_input": "2023-10-22T15:16:14.428947Z",
     "iopub.status.busy": "2023-10-22T15:16:14.428382Z",
     "iopub.status.idle": "2023-10-22T15:16:19.831439Z",
     "shell.execute_reply": "2023-10-22T15:16:19.830591Z"
    }
   },
   "outputs": [
    {
     "name": "stdout",
     "output_type": "stream",
     "text": [
      "66.5 ns ± 0.119 ns per loop (mean ± std. dev. of 7 runs, 10,000,000 loops each)\n"
     ]
    }
   ],
   "source": [
    "%timeit b.a"
   ]
  },
  {
   "cell_type": "code",
   "execution_count": 12,
   "id": "ad54dc69",
   "metadata": {
    "execution": {
     "iopub.execute_input": "2023-10-22T15:16:19.835475Z",
     "iopub.status.busy": "2023-10-22T15:16:19.834839Z",
     "iopub.status.idle": "2023-10-22T15:16:19.843384Z",
     "shell.execute_reply": "2023-10-22T15:16:19.842761Z"
    }
   },
   "outputs": [
    {
     "data": {
      "text/plain": [
       "Batch(\n",
       "    a: tensor([[-5.8073e-01,  2.3707e-04,  5.1319e-01],\n",
       "               [-1.1686e+00,  2.5774e+00, -2.1661e-01]]),\n",
       "    x: Batch(\n",
       "           c: tensor([[-1.0219,  1.9453, -0.8689, -0.7431],\n",
       "                      [ 1.7156,  0.6123, -1.2573, -1.7966],\n",
       "                      [ 2.2031,  1.9475,  0.8056,  1.0658]]),\n",
       "       ),\n",
       ")"
      ]
     },
     "execution_count": 12,
     "metadata": {},
     "output_type": "execute_result"
    }
   ],
   "source": [
    "new_value = torch.randn(2, 3)\n",
    "b.a = new_value\n",
    "\n",
    "b"
   ]
  },
  {
   "cell_type": "code",
   "execution_count": 13,
   "id": "29b1d0bf",
   "metadata": {
    "execution": {
     "iopub.execute_input": "2023-10-22T15:16:19.846316Z",
     "iopub.status.busy": "2023-10-22T15:16:19.845949Z",
     "iopub.status.idle": "2023-10-22T15:16:24.324782Z",
     "shell.execute_reply": "2023-10-22T15:16:24.323872Z"
    }
   },
   "outputs": [
    {
     "name": "stdout",
     "output_type": "stream",
     "text": [
      "549 ns ± 5.66 ns per loop (mean ± std. dev. of 7 runs, 1,000,000 loops each)\n"
     ]
    }
   ],
   "source": [
    "%timeit b.a = new_value"
   ]
  },
  {
   "cell_type": "markdown",
   "id": "b61ad1d0",
   "metadata": {},
   "source": [
    "## Initialization"
   ]
  },
  {
   "cell_type": "markdown",
   "id": "d70f0d54",
   "metadata": {},
   "source": [
    "### TreeValue's Initialization"
   ]
  },
  {
   "cell_type": "code",
   "execution_count": 14,
   "id": "d32a679b",
   "metadata": {
    "execution": {
     "iopub.execute_input": "2023-10-22T15:16:24.328787Z",
     "iopub.status.busy": "2023-10-22T15:16:24.328275Z",
     "iopub.status.idle": "2023-10-22T15:16:31.549960Z",
     "shell.execute_reply": "2023-10-22T15:16:31.549070Z"
    }
   },
   "outputs": [
    {
     "name": "stdout",
     "output_type": "stream",
     "text": [
      "886 ns ± 0.919 ns per loop (mean ± std. dev. of 7 runs, 1,000,000 loops each)\n"
     ]
    }
   ],
   "source": [
    "%timeit FastTreeValue(_TREE_DATA_1)"
   ]
  },
  {
   "cell_type": "markdown",
   "id": "24f3707b",
   "metadata": {},
   "source": [
    "### Tianshou Batch's Initialization"
   ]
  },
  {
   "cell_type": "code",
   "execution_count": 15,
   "id": "ac3958df",
   "metadata": {
    "execution": {
     "iopub.execute_input": "2023-10-22T15:16:31.553904Z",
     "iopub.status.busy": "2023-10-22T15:16:31.553400Z",
     "iopub.status.idle": "2023-10-22T15:16:40.754330Z",
     "shell.execute_reply": "2023-10-22T15:16:40.753488Z"
    }
   },
   "outputs": [
    {
     "name": "stdout",
     "output_type": "stream",
     "text": [
      "11.3 µs ± 75.9 ns per loop (mean ± std. dev. of 7 runs, 100,000 loops each)\n"
     ]
    }
   ],
   "source": [
    "%timeit Batch(**_TREE_DATA_1)"
   ]
  },
  {
   "cell_type": "markdown",
   "id": "1ab82e2d",
   "metadata": {},
   "source": [
    "## Deep Copy Operation"
   ]
  },
  {
   "cell_type": "code",
   "execution_count": 16,
   "id": "210a9442",
   "metadata": {
    "execution": {
     "iopub.execute_input": "2023-10-22T15:16:40.758307Z",
     "iopub.status.busy": "2023-10-22T15:16:40.757650Z",
     "iopub.status.idle": "2023-10-22T15:16:40.761304Z",
     "shell.execute_reply": "2023-10-22T15:16:40.760533Z"
    }
   },
   "outputs": [],
   "source": [
    "import copy"
   ]
  },
  {
   "cell_type": "markdown",
   "id": "5a736274",
   "metadata": {},
   "source": [
    "### Deep Copy of TreeValue"
   ]
  },
  {
   "cell_type": "code",
   "execution_count": 17,
   "id": "f9bcadd6",
   "metadata": {
    "execution": {
     "iopub.execute_input": "2023-10-22T15:16:40.764503Z",
     "iopub.status.busy": "2023-10-22T15:16:40.764040Z",
     "iopub.status.idle": "2023-10-22T15:16:52.842580Z",
     "shell.execute_reply": "2023-10-22T15:16:52.841932Z"
    }
   },
   "outputs": [
    {
     "name": "stdout",
     "output_type": "stream",
     "text": [
      "149 µs ± 948 ns per loop (mean ± std. dev. of 7 runs, 10,000 loops each)\n"
     ]
    }
   ],
   "source": [
    "t3 = FastTreeValue(_TREE_DATA_3)\n",
    "%timeit copy.deepcopy(t3)"
   ]
  },
  {
   "cell_type": "markdown",
   "id": "bf8be7ea",
   "metadata": {},
   "source": [
    "### Deep Copy of Tianshou Batch"
   ]
  },
  {
   "cell_type": "code",
   "execution_count": 18,
   "id": "91998e6f",
   "metadata": {
    "execution": {
     "iopub.execute_input": "2023-10-22T15:16:52.846409Z",
     "iopub.status.busy": "2023-10-22T15:16:52.845941Z",
     "iopub.status.idle": "2023-10-22T15:17:05.015845Z",
     "shell.execute_reply": "2023-10-22T15:17:05.015130Z"
    }
   },
   "outputs": [
    {
     "name": "stdout",
     "output_type": "stream",
     "text": [
      "150 µs ± 750 ns per loop (mean ± std. dev. of 7 runs, 10,000 loops each)\n"
     ]
    }
   ],
   "source": [
    "b3 = Batch(**_TREE_DATA_3)\n",
    "%timeit copy.deepcopy(b3)"
   ]
  },
  {
   "cell_type": "markdown",
   "id": "223162fb",
   "metadata": {},
   "source": [
    "## Stack, Concat and Split Operation"
   ]
  },
  {
   "cell_type": "markdown",
   "id": "85fa4a73",
   "metadata": {},
   "source": [
    "### Performance of TreeValue"
   ]
  },
  {
   "cell_type": "code",
   "execution_count": 19,
   "id": "a0c2b697",
   "metadata": {
    "execution": {
     "iopub.execute_input": "2023-10-22T15:17:05.019716Z",
     "iopub.status.busy": "2023-10-22T15:17:05.019120Z",
     "iopub.status.idle": "2023-10-22T15:17:05.023083Z",
     "shell.execute_reply": "2023-10-22T15:17:05.022336Z"
    }
   },
   "outputs": [],
   "source": [
    "trees = [FastTreeValue(_TREE_DATA_2) for _ in range(8)]"
   ]
  },
  {
   "cell_type": "code",
   "execution_count": 20,
   "id": "017ea5a5",
   "metadata": {
    "execution": {
     "iopub.execute_input": "2023-10-22T15:17:05.026140Z",
     "iopub.status.busy": "2023-10-22T15:17:05.025693Z",
     "iopub.status.idle": "2023-10-22T15:17:05.034215Z",
     "shell.execute_reply": "2023-10-22T15:17:05.033644Z"
    }
   },
   "outputs": [
    {
     "data": {
      "text/plain": [
       "<FastTreeValue 0x7f43f9959160>\n",
       "├── 'a' --> tensor([[[-0.6344, -0.4627, -0.5508],\n",
       "│                    [-1.7655, -0.9810,  1.0633]],\n",
       "│           \n",
       "│                   [[-0.6344, -0.4627, -0.5508],\n",
       "│                    [-1.7655, -0.9810,  1.0633]],\n",
       "│           \n",
       "│                   [[-0.6344, -0.4627, -0.5508],\n",
       "│                    [-1.7655, -0.9810,  1.0633]],\n",
       "│           \n",
       "│                   [[-0.6344, -0.4627, -0.5508],\n",
       "│                    [-1.7655, -0.9810,  1.0633]],\n",
       "│           \n",
       "│                   [[-0.6344, -0.4627, -0.5508],\n",
       "│                    [-1.7655, -0.9810,  1.0633]],\n",
       "│           \n",
       "│                   [[-0.6344, -0.4627, -0.5508],\n",
       "│                    [-1.7655, -0.9810,  1.0633]],\n",
       "│           \n",
       "│                   [[-0.6344, -0.4627, -0.5508],\n",
       "│                    [-1.7655, -0.9810,  1.0633]],\n",
       "│           \n",
       "│                   [[-0.6344, -0.4627, -0.5508],\n",
       "│                    [-1.7655, -0.9810,  1.0633]]])\n",
       "└── 'x' --> <FastTreeValue 0x7f43f9959f10>\n",
       "    └── 'c' --> tensor([[[-1.0219,  1.9453, -0.8689, -0.7431],\n",
       "                         [ 1.7156,  0.6123, -1.2573, -1.7966],\n",
       "                         [ 2.2031,  1.9475,  0.8056,  1.0658]],\n",
       "                \n",
       "                        [[-1.0219,  1.9453, -0.8689, -0.7431],\n",
       "                         [ 1.7156,  0.6123, -1.2573, -1.7966],\n",
       "                         [ 2.2031,  1.9475,  0.8056,  1.0658]],\n",
       "                \n",
       "                        [[-1.0219,  1.9453, -0.8689, -0.7431],\n",
       "                         [ 1.7156,  0.6123, -1.2573, -1.7966],\n",
       "                         [ 2.2031,  1.9475,  0.8056,  1.0658]],\n",
       "                \n",
       "                        [[-1.0219,  1.9453, -0.8689, -0.7431],\n",
       "                         [ 1.7156,  0.6123, -1.2573, -1.7966],\n",
       "                         [ 2.2031,  1.9475,  0.8056,  1.0658]],\n",
       "                \n",
       "                        [[-1.0219,  1.9453, -0.8689, -0.7431],\n",
       "                         [ 1.7156,  0.6123, -1.2573, -1.7966],\n",
       "                         [ 2.2031,  1.9475,  0.8056,  1.0658]],\n",
       "                \n",
       "                        [[-1.0219,  1.9453, -0.8689, -0.7431],\n",
       "                         [ 1.7156,  0.6123, -1.2573, -1.7966],\n",
       "                         [ 2.2031,  1.9475,  0.8056,  1.0658]],\n",
       "                \n",
       "                        [[-1.0219,  1.9453, -0.8689, -0.7431],\n",
       "                         [ 1.7156,  0.6123, -1.2573, -1.7966],\n",
       "                         [ 2.2031,  1.9475,  0.8056,  1.0658]],\n",
       "                \n",
       "                        [[-1.0219,  1.9453, -0.8689, -0.7431],\n",
       "                         [ 1.7156,  0.6123, -1.2573, -1.7966],\n",
       "                         [ 2.2031,  1.9475,  0.8056,  1.0658]]])"
      ]
     },
     "execution_count": 20,
     "metadata": {},
     "output_type": "execute_result"
    }
   ],
   "source": [
    "t_stack = FastTreeValue.func(subside=True)(torch.stack)\n",
    "\n",
    "t_stack(trees)"
   ]
  },
  {
   "cell_type": "code",
   "execution_count": 21,
   "id": "f8b3f415",
   "metadata": {
    "execution": {
     "iopub.execute_input": "2023-10-22T15:17:05.037124Z",
     "iopub.status.busy": "2023-10-22T15:17:05.036722Z",
     "iopub.status.idle": "2023-10-22T15:17:07.721063Z",
     "shell.execute_reply": "2023-10-22T15:17:07.720153Z"
    }
   },
   "outputs": [
    {
     "name": "stdout",
     "output_type": "stream",
     "text": [
      "33 µs ± 86.6 ns per loop (mean ± std. dev. of 7 runs, 10,000 loops each)\n"
     ]
    }
   ],
   "source": [
    "%timeit t_stack(trees)"
   ]
  },
  {
   "cell_type": "code",
   "execution_count": 22,
   "id": "94b56771",
   "metadata": {
    "execution": {
     "iopub.execute_input": "2023-10-22T15:17:07.724523Z",
     "iopub.status.busy": "2023-10-22T15:17:07.724048Z",
     "iopub.status.idle": "2023-10-22T15:17:07.734355Z",
     "shell.execute_reply": "2023-10-22T15:17:07.733649Z"
    }
   },
   "outputs": [
    {
     "data": {
      "text/plain": [
       "<FastTreeValue 0x7f4401ed9490>\n",
       "├── 'a' --> tensor([[-0.6344, -0.4627, -0.5508],\n",
       "│                   [-1.7655, -0.9810,  1.0633],\n",
       "│                   [-0.6344, -0.4627, -0.5508],\n",
       "│                   [-1.7655, -0.9810,  1.0633],\n",
       "│                   [-0.6344, -0.4627, -0.5508],\n",
       "│                   [-1.7655, -0.9810,  1.0633],\n",
       "│                   [-0.6344, -0.4627, -0.5508],\n",
       "│                   [-1.7655, -0.9810,  1.0633],\n",
       "│                   [-0.6344, -0.4627, -0.5508],\n",
       "│                   [-1.7655, -0.9810,  1.0633],\n",
       "│                   [-0.6344, -0.4627, -0.5508],\n",
       "│                   [-1.7655, -0.9810,  1.0633],\n",
       "│                   [-0.6344, -0.4627, -0.5508],\n",
       "│                   [-1.7655, -0.9810,  1.0633],\n",
       "│                   [-0.6344, -0.4627, -0.5508],\n",
       "│                   [-1.7655, -0.9810,  1.0633]])\n",
       "└── 'x' --> <FastTreeValue 0x7f4401d6f250>\n",
       "    └── 'c' --> tensor([[-1.0219,  1.9453, -0.8689, -0.7431],\n",
       "                        [ 1.7156,  0.6123, -1.2573, -1.7966],\n",
       "                        [ 2.2031,  1.9475,  0.8056,  1.0658],\n",
       "                        [-1.0219,  1.9453, -0.8689, -0.7431],\n",
       "                        [ 1.7156,  0.6123, -1.2573, -1.7966],\n",
       "                        [ 2.2031,  1.9475,  0.8056,  1.0658],\n",
       "                        [-1.0219,  1.9453, -0.8689, -0.7431],\n",
       "                        [ 1.7156,  0.6123, -1.2573, -1.7966],\n",
       "                        [ 2.2031,  1.9475,  0.8056,  1.0658],\n",
       "                        [-1.0219,  1.9453, -0.8689, -0.7431],\n",
       "                        [ 1.7156,  0.6123, -1.2573, -1.7966],\n",
       "                        [ 2.2031,  1.9475,  0.8056,  1.0658],\n",
       "                        [-1.0219,  1.9453, -0.8689, -0.7431],\n",
       "                        [ 1.7156,  0.6123, -1.2573, -1.7966],\n",
       "                        [ 2.2031,  1.9475,  0.8056,  1.0658],\n",
       "                        [-1.0219,  1.9453, -0.8689, -0.7431],\n",
       "                        [ 1.7156,  0.6123, -1.2573, -1.7966],\n",
       "                        [ 2.2031,  1.9475,  0.8056,  1.0658],\n",
       "                        [-1.0219,  1.9453, -0.8689, -0.7431],\n",
       "                        [ 1.7156,  0.6123, -1.2573, -1.7966],\n",
       "                        [ 2.2031,  1.9475,  0.8056,  1.0658],\n",
       "                        [-1.0219,  1.9453, -0.8689, -0.7431],\n",
       "                        [ 1.7156,  0.6123, -1.2573, -1.7966],\n",
       "                        [ 2.2031,  1.9475,  0.8056,  1.0658]])"
      ]
     },
     "execution_count": 22,
     "metadata": {},
     "output_type": "execute_result"
    }
   ],
   "source": [
    "t_cat = FastTreeValue.func(subside=True)(torch.cat)\n",
    "\n",
    "t_cat(trees)"
   ]
  },
  {
   "cell_type": "code",
   "execution_count": 23,
   "id": "5e9c06a6",
   "metadata": {
    "execution": {
     "iopub.execute_input": "2023-10-22T15:17:07.737579Z",
     "iopub.status.busy": "2023-10-22T15:17:07.737134Z",
     "iopub.status.idle": "2023-10-22T15:17:10.261280Z",
     "shell.execute_reply": "2023-10-22T15:17:10.260312Z"
    }
   },
   "outputs": [
    {
     "name": "stdout",
     "output_type": "stream",
     "text": [
      "31 µs ± 254 ns per loop (mean ± std. dev. of 7 runs, 10,000 loops each)\n"
     ]
    }
   ],
   "source": [
    "%timeit t_cat(trees)"
   ]
  },
  {
   "cell_type": "code",
   "execution_count": 24,
   "id": "a3ab5c8f",
   "metadata": {
    "execution": {
     "iopub.execute_input": "2023-10-22T15:17:10.265158Z",
     "iopub.status.busy": "2023-10-22T15:17:10.264718Z",
     "iopub.status.idle": "2023-10-22T15:17:15.528072Z",
     "shell.execute_reply": "2023-10-22T15:17:15.527146Z"
    }
   },
   "outputs": [
    {
     "name": "stdout",
     "output_type": "stream",
     "text": [
      "64.7 µs ± 66.1 ns per loop (mean ± std. dev. of 7 runs, 10,000 loops each)\n"
     ]
    }
   ],
   "source": [
    "t_split = FastTreeValue.func(rise=True)(torch.split)\n",
    "tree = FastTreeValue({\n",
    "    'obs': torch.randn(8, 4, 84, 84),\n",
    "    'action': torch.randint(0, 6, size=(8, 1,)),\n",
    "    'reward': torch.rand(8, 1),\n",
    "})\n",
    "\n",
    "%timeit t_split(tree, 1)"
   ]
  },
  {
   "cell_type": "markdown",
   "id": "31c3ec0b",
   "metadata": {},
   "source": [
    "### Performance of Tianshou Batch"
   ]
  },
  {
   "cell_type": "code",
   "execution_count": 25,
   "id": "9ead828a",
   "metadata": {
    "execution": {
     "iopub.execute_input": "2023-10-22T15:17:15.531718Z",
     "iopub.status.busy": "2023-10-22T15:17:15.531220Z",
     "iopub.status.idle": "2023-10-22T15:17:15.541636Z",
     "shell.execute_reply": "2023-10-22T15:17:15.541009Z"
    }
   },
   "outputs": [
    {
     "data": {
      "text/plain": [
       "Batch(\n",
       "    x: Batch(\n",
       "           c: tensor([[[-1.0219,  1.9453, -0.8689, -0.7431],\n",
       "                       [ 1.7156,  0.6123, -1.2573, -1.7966],\n",
       "                       [ 2.2031,  1.9475,  0.8056,  1.0658]],\n",
       "              \n",
       "                      [[-1.0219,  1.9453, -0.8689, -0.7431],\n",
       "                       [ 1.7156,  0.6123, -1.2573, -1.7966],\n",
       "                       [ 2.2031,  1.9475,  0.8056,  1.0658]],\n",
       "              \n",
       "                      [[-1.0219,  1.9453, -0.8689, -0.7431],\n",
       "                       [ 1.7156,  0.6123, -1.2573, -1.7966],\n",
       "                       [ 2.2031,  1.9475,  0.8056,  1.0658]],\n",
       "              \n",
       "                      [[-1.0219,  1.9453, -0.8689, -0.7431],\n",
       "                       [ 1.7156,  0.6123, -1.2573, -1.7966],\n",
       "                       [ 2.2031,  1.9475,  0.8056,  1.0658]],\n",
       "              \n",
       "                      [[-1.0219,  1.9453, -0.8689, -0.7431],\n",
       "                       [ 1.7156,  0.6123, -1.2573, -1.7966],\n",
       "                       [ 2.2031,  1.9475,  0.8056,  1.0658]],\n",
       "              \n",
       "                      [[-1.0219,  1.9453, -0.8689, -0.7431],\n",
       "                       [ 1.7156,  0.6123, -1.2573, -1.7966],\n",
       "                       [ 2.2031,  1.9475,  0.8056,  1.0658]],\n",
       "              \n",
       "                      [[-1.0219,  1.9453, -0.8689, -0.7431],\n",
       "                       [ 1.7156,  0.6123, -1.2573, -1.7966],\n",
       "                       [ 2.2031,  1.9475,  0.8056,  1.0658]],\n",
       "              \n",
       "                      [[-1.0219,  1.9453, -0.8689, -0.7431],\n",
       "                       [ 1.7156,  0.6123, -1.2573, -1.7966],\n",
       "                       [ 2.2031,  1.9475,  0.8056,  1.0658]]]),\n",
       "       ),\n",
       "    a: tensor([[[-0.6344, -0.4627, -0.5508],\n",
       "                [-1.7655, -0.9810,  1.0633]],\n",
       "       \n",
       "               [[-0.6344, -0.4627, -0.5508],\n",
       "                [-1.7655, -0.9810,  1.0633]],\n",
       "       \n",
       "               [[-0.6344, -0.4627, -0.5508],\n",
       "                [-1.7655, -0.9810,  1.0633]],\n",
       "       \n",
       "               [[-0.6344, -0.4627, -0.5508],\n",
       "                [-1.7655, -0.9810,  1.0633]],\n",
       "       \n",
       "               [[-0.6344, -0.4627, -0.5508],\n",
       "                [-1.7655, -0.9810,  1.0633]],\n",
       "       \n",
       "               [[-0.6344, -0.4627, -0.5508],\n",
       "                [-1.7655, -0.9810,  1.0633]],\n",
       "       \n",
       "               [[-0.6344, -0.4627, -0.5508],\n",
       "                [-1.7655, -0.9810,  1.0633]],\n",
       "       \n",
       "               [[-0.6344, -0.4627, -0.5508],\n",
       "                [-1.7655, -0.9810,  1.0633]]]),\n",
       ")"
      ]
     },
     "execution_count": 25,
     "metadata": {},
     "output_type": "execute_result"
    }
   ],
   "source": [
    "batches = [Batch(**_TREE_DATA_2) for _ in range(8)]\n",
    "\n",
    "Batch.stack(batches)"
   ]
  },
  {
   "cell_type": "code",
   "execution_count": 26,
   "id": "ec9037a3",
   "metadata": {
    "execution": {
     "iopub.execute_input": "2023-10-22T15:17:15.545170Z",
     "iopub.status.busy": "2023-10-22T15:17:15.544507Z",
     "iopub.status.idle": "2023-10-22T15:17:22.392355Z",
     "shell.execute_reply": "2023-10-22T15:17:22.391445Z"
    }
   },
   "outputs": [
    {
     "name": "stdout",
     "output_type": "stream",
     "text": [
      "84.3 µs ± 100 ns per loop (mean ± std. dev. of 7 runs, 10,000 loops each)\n"
     ]
    }
   ],
   "source": [
    "%timeit Batch.stack(batches)"
   ]
  },
  {
   "cell_type": "code",
   "execution_count": 27,
   "id": "cb8ab77e",
   "metadata": {
    "execution": {
     "iopub.execute_input": "2023-10-22T15:17:22.396059Z",
     "iopub.status.busy": "2023-10-22T15:17:22.395416Z",
     "iopub.status.idle": "2023-10-22T15:17:22.404156Z",
     "shell.execute_reply": "2023-10-22T15:17:22.403521Z"
    }
   },
   "outputs": [
    {
     "data": {
      "text/plain": [
       "Batch(\n",
       "    x: Batch(\n",
       "           c: tensor([[-1.0219,  1.9453, -0.8689, -0.7431],\n",
       "                      [ 1.7156,  0.6123, -1.2573, -1.7966],\n",
       "                      [ 2.2031,  1.9475,  0.8056,  1.0658],\n",
       "                      [-1.0219,  1.9453, -0.8689, -0.7431],\n",
       "                      [ 1.7156,  0.6123, -1.2573, -1.7966],\n",
       "                      [ 2.2031,  1.9475,  0.8056,  1.0658],\n",
       "                      [-1.0219,  1.9453, -0.8689, -0.7431],\n",
       "                      [ 1.7156,  0.6123, -1.2573, -1.7966],\n",
       "                      [ 2.2031,  1.9475,  0.8056,  1.0658],\n",
       "                      [-1.0219,  1.9453, -0.8689, -0.7431],\n",
       "                      [ 1.7156,  0.6123, -1.2573, -1.7966],\n",
       "                      [ 2.2031,  1.9475,  0.8056,  1.0658],\n",
       "                      [-1.0219,  1.9453, -0.8689, -0.7431],\n",
       "                      [ 1.7156,  0.6123, -1.2573, -1.7966],\n",
       "                      [ 2.2031,  1.9475,  0.8056,  1.0658],\n",
       "                      [-1.0219,  1.9453, -0.8689, -0.7431],\n",
       "                      [ 1.7156,  0.6123, -1.2573, -1.7966],\n",
       "                      [ 2.2031,  1.9475,  0.8056,  1.0658],\n",
       "                      [-1.0219,  1.9453, -0.8689, -0.7431],\n",
       "                      [ 1.7156,  0.6123, -1.2573, -1.7966],\n",
       "                      [ 2.2031,  1.9475,  0.8056,  1.0658],\n",
       "                      [-1.0219,  1.9453, -0.8689, -0.7431],\n",
       "                      [ 1.7156,  0.6123, -1.2573, -1.7966],\n",
       "                      [ 2.2031,  1.9475,  0.8056,  1.0658]]),\n",
       "       ),\n",
       "    a: tensor([[-0.6344, -0.4627, -0.5508],\n",
       "               [-1.7655, -0.9810,  1.0633],\n",
       "               [-0.6344, -0.4627, -0.5508],\n",
       "               [-1.7655, -0.9810,  1.0633],\n",
       "               [-0.6344, -0.4627, -0.5508],\n",
       "               [-1.7655, -0.9810,  1.0633],\n",
       "               [-0.6344, -0.4627, -0.5508],\n",
       "               [-1.7655, -0.9810,  1.0633],\n",
       "               [-0.6344, -0.4627, -0.5508],\n",
       "               [-1.7655, -0.9810,  1.0633],\n",
       "               [-0.6344, -0.4627, -0.5508],\n",
       "               [-1.7655, -0.9810,  1.0633],\n",
       "               [-0.6344, -0.4627, -0.5508],\n",
       "               [-1.7655, -0.9810,  1.0633],\n",
       "               [-0.6344, -0.4627, -0.5508],\n",
       "               [-1.7655, -0.9810,  1.0633]]),\n",
       ")"
      ]
     },
     "execution_count": 27,
     "metadata": {},
     "output_type": "execute_result"
    }
   ],
   "source": [
    "Batch.cat(batches)"
   ]
  },
  {
   "cell_type": "code",
   "execution_count": 28,
   "id": "18dfb045",
   "metadata": {
    "execution": {
     "iopub.execute_input": "2023-10-22T15:17:22.407468Z",
     "iopub.status.busy": "2023-10-22T15:17:22.406894Z",
     "iopub.status.idle": "2023-10-22T15:17:34.864114Z",
     "shell.execute_reply": "2023-10-22T15:17:34.863196Z"
    }
   },
   "outputs": [
    {
     "name": "stdout",
     "output_type": "stream",
     "text": [
      "153 µs ± 226 ns per loop (mean ± std. dev. of 7 runs, 10,000 loops each)\n"
     ]
    }
   ],
   "source": [
    "%timeit Batch.cat(batches)"
   ]
  },
  {
   "cell_type": "code",
   "execution_count": 29,
   "id": "c6688e51",
   "metadata": {
    "execution": {
     "iopub.execute_input": "2023-10-22T15:17:34.868191Z",
     "iopub.status.busy": "2023-10-22T15:17:34.867654Z",
     "iopub.status.idle": "2023-10-22T15:17:38.010055Z",
     "shell.execute_reply": "2023-10-22T15:17:38.009385Z"
    }
   },
   "outputs": [
    {
     "name": "stdout",
     "output_type": "stream",
     "text": [
      "386 µs ± 5.3 µs per loop (mean ± std. dev. of 7 runs, 1,000 loops each)\n"
     ]
    }
   ],
   "source": [
    "batch = Batch({\n",
    "    'obs': torch.randn(8, 4, 84, 84),\n",
    "    'action': torch.randint(0, 6, size=(8, 1,)),\n",
    "    'reward': torch.rand(8, 1)}\n",
    ")\n",
    "\n",
    "%timeit list(Batch.split(batch, 1, shuffle=False, merge_last=True))"
   ]
  },
  {
   "cell_type": "code",
   "execution_count": null,
   "id": "2539fbd9",
   "metadata": {},
   "outputs": [],
   "source": []
  }
 ],
 "metadata": {
  "kernelspec": {
   "display_name": "Python 3 (ipykernel)",
   "language": "python",
   "name": "python3"
  },
  "language_info": {
   "codemirror_mode": {
    "name": "ipython",
    "version": 3
   },
   "file_extension": ".py",
   "mimetype": "text/x-python",
   "name": "python",
   "nbconvert_exporter": "python",
   "pygments_lexer": "ipython3",
   "version": "3.8.18"
  }
 },
 "nbformat": 4,
 "nbformat_minor": 5
}
