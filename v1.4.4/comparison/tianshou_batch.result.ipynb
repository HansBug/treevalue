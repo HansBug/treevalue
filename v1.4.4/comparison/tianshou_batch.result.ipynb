{
 "cells": [
  {
   "cell_type": "markdown",
   "id": "9d39d946",
   "metadata": {},
   "source": [
    "# Comparison Between TreeValue and Tianshou Batch"
   ]
  },
  {
   "cell_type": "markdown",
   "id": "3c6db2d4",
   "metadata": {},
   "source": [
    "In this section, we will take a look at the feature and performance of the [Tianshou Batch](https://github.com/thu-ml/tianshou) library, which is developed by Tsinghua Machine Learning Group."
   ]
  },
  {
   "cell_type": "markdown",
   "id": "069361b0",
   "metadata": {},
   "source": [
    "Before starting the comparison, let us define some thing."
   ]
  },
  {
   "cell_type": "code",
   "execution_count": 1,
   "id": "06fc8d26",
   "metadata": {
    "execution": {
     "iopub.execute_input": "2023-08-14T05:29:39.904551Z",
     "iopub.status.busy": "2023-08-14T05:29:39.903868Z",
     "iopub.status.idle": "2023-08-14T05:29:41.294820Z",
     "shell.execute_reply": "2023-08-14T05:29:41.293634Z"
    }
   },
   "outputs": [],
   "source": [
    "import torch \n",
    "\n",
    "_TREE_DATA_1 = {'a': 1, 'b': 2, 'x': {'c': 3, 'd': 4}}\n",
    "_TREE_DATA_2 = {\n",
    "    'a': torch.randn(2, 3), \n",
    "    'x': {\n",
    "        'c': torch.randn(3, 4)\n",
    "    },\n",
    "}\n",
    "_TREE_DATA_3 = {\n",
    "    'obs': torch.randn(4, 84, 84),\n",
    "    'action': torch.randint(0, 6, size=(1,)),\n",
    "    'reward': torch.rand(1),\n",
    "}"
   ]
  },
  {
   "cell_type": "markdown",
   "id": "83461b25",
   "metadata": {},
   "source": [
    "## Read and Write Operation"
   ]
  },
  {
   "cell_type": "markdown",
   "id": "067b3f73",
   "metadata": {},
   "source": [
    "Reading and writing are the two most common operations in the tree data structure based on the data model (TreeValue and Tianshou Batch both belong to this type), so this section will compare the reading and writing performance of these two libraries."
   ]
  },
  {
   "cell_type": "markdown",
   "id": "5d09a5b7",
   "metadata": {},
   "source": [
    "### TreeValue's Get and Set"
   ]
  },
  {
   "cell_type": "code",
   "execution_count": 2,
   "id": "9519c4bb",
   "metadata": {
    "execution": {
     "iopub.execute_input": "2023-08-14T05:29:41.298952Z",
     "iopub.status.busy": "2023-08-14T05:29:41.298623Z",
     "iopub.status.idle": "2023-08-14T05:29:41.327865Z",
     "shell.execute_reply": "2023-08-14T05:29:41.327210Z"
    }
   },
   "outputs": [],
   "source": [
    "from treevalue import FastTreeValue\n",
    "\n",
    "t = FastTreeValue(_TREE_DATA_2)"
   ]
  },
  {
   "cell_type": "code",
   "execution_count": 3,
   "id": "11c37677",
   "metadata": {
    "execution": {
     "iopub.execute_input": "2023-08-14T05:29:41.331121Z",
     "iopub.status.busy": "2023-08-14T05:29:41.330748Z",
     "iopub.status.idle": "2023-08-14T05:29:41.339731Z",
     "shell.execute_reply": "2023-08-14T05:29:41.339018Z"
    }
   },
   "outputs": [
    {
     "data": {
      "text/plain": [
       "<FastTreeValue 0x7fa9a52d2df0>\n",
       "├── 'a' --> tensor([[-0.0099, -1.1736,  0.4323],\n",
       "│                   [-0.9962,  0.3746, -0.6047]])\n",
       "└── 'x' --> <FastTreeValue 0x7fa9a5258610>\n",
       "    └── 'c' --> tensor([[-1.8672,  0.1021, -0.1309,  1.1562],\n",
       "                        [-0.0306,  1.1050,  0.7210, -0.3072],\n",
       "                        [-0.1514,  0.1227,  0.5167,  0.5828]])"
      ]
     },
     "execution_count": 3,
     "metadata": {},
     "output_type": "execute_result"
    }
   ],
   "source": [
    "t"
   ]
  },
  {
   "cell_type": "code",
   "execution_count": 4,
   "id": "fd70b0b9",
   "metadata": {
    "execution": {
     "iopub.execute_input": "2023-08-14T05:29:41.343484Z",
     "iopub.status.busy": "2023-08-14T05:29:41.343042Z",
     "iopub.status.idle": "2023-08-14T05:29:41.347973Z",
     "shell.execute_reply": "2023-08-14T05:29:41.347256Z"
    }
   },
   "outputs": [
    {
     "data": {
      "text/plain": [
       "tensor([[-0.0099, -1.1736,  0.4323],\n",
       "        [-0.9962,  0.3746, -0.6047]])"
      ]
     },
     "execution_count": 4,
     "metadata": {},
     "output_type": "execute_result"
    }
   ],
   "source": [
    "t.a"
   ]
  },
  {
   "cell_type": "code",
   "execution_count": 5,
   "id": "c18197bd",
   "metadata": {
    "execution": {
     "iopub.execute_input": "2023-08-14T05:29:41.351876Z",
     "iopub.status.busy": "2023-08-14T05:29:41.351344Z",
     "iopub.status.idle": "2023-08-14T05:29:47.340909Z",
     "shell.execute_reply": "2023-08-14T05:29:47.340029Z"
    }
   },
   "outputs": [
    {
     "name": "stdout",
     "output_type": "stream",
     "text": [
      "73.8 ns ± 0.0388 ns per loop (mean ± std. dev. of 7 runs, 10,000,000 loops each)\n"
     ]
    }
   ],
   "source": [
    "%timeit t.a"
   ]
  },
  {
   "cell_type": "code",
   "execution_count": 6,
   "id": "bd52f867",
   "metadata": {
    "execution": {
     "iopub.execute_input": "2023-08-14T05:29:47.344939Z",
     "iopub.status.busy": "2023-08-14T05:29:47.344155Z",
     "iopub.status.idle": "2023-08-14T05:29:47.351225Z",
     "shell.execute_reply": "2023-08-14T05:29:47.350482Z"
    }
   },
   "outputs": [
    {
     "data": {
      "text/plain": [
       "<FastTreeValue 0x7fa9a52d2df0>\n",
       "├── 'a' --> tensor([[ 1.8116,  0.2079, -1.3023],\n",
       "│                   [-0.7126,  0.9680,  0.2536]])\n",
       "└── 'x' --> <FastTreeValue 0x7fa9a5258610>\n",
       "    └── 'c' --> tensor([[-1.8672,  0.1021, -0.1309,  1.1562],\n",
       "                        [-0.0306,  1.1050,  0.7210, -0.3072],\n",
       "                        [-0.1514,  0.1227,  0.5167,  0.5828]])"
      ]
     },
     "execution_count": 6,
     "metadata": {},
     "output_type": "execute_result"
    }
   ],
   "source": [
    "new_value = torch.randn(2, 3)\n",
    "t.a = new_value\n",
    "\n",
    "t"
   ]
  },
  {
   "cell_type": "code",
   "execution_count": 7,
   "id": "bbe04d1c",
   "metadata": {
    "execution": {
     "iopub.execute_input": "2023-08-14T05:29:47.354447Z",
     "iopub.status.busy": "2023-08-14T05:29:47.354061Z",
     "iopub.status.idle": "2023-08-14T05:29:53.451413Z",
     "shell.execute_reply": "2023-08-14T05:29:53.450645Z"
    }
   },
   "outputs": [
    {
     "name": "stdout",
     "output_type": "stream",
     "text": [
      "75.2 ns ± 0.0419 ns per loop (mean ± std. dev. of 7 runs, 10,000,000 loops each)\n"
     ]
    }
   ],
   "source": [
    "%timeit t.a = new_value"
   ]
  },
  {
   "cell_type": "markdown",
   "id": "48c49731",
   "metadata": {},
   "source": [
    "### Tianshou Batch's Get and Set"
   ]
  },
  {
   "cell_type": "code",
   "execution_count": 8,
   "id": "f1bb14c1",
   "metadata": {
    "execution": {
     "iopub.execute_input": "2023-08-14T05:29:53.455282Z",
     "iopub.status.busy": "2023-08-14T05:29:53.454791Z",
     "iopub.status.idle": "2023-08-14T05:29:53.844644Z",
     "shell.execute_reply": "2023-08-14T05:29:53.843847Z"
    }
   },
   "outputs": [],
   "source": [
    "from tianshou.data import Batch\n",
    "\n",
    "b = Batch(**_TREE_DATA_2)"
   ]
  },
  {
   "cell_type": "code",
   "execution_count": 9,
   "id": "cb0777c3",
   "metadata": {
    "execution": {
     "iopub.execute_input": "2023-08-14T05:29:53.849064Z",
     "iopub.status.busy": "2023-08-14T05:29:53.848549Z",
     "iopub.status.idle": "2023-08-14T05:29:53.854773Z",
     "shell.execute_reply": "2023-08-14T05:29:53.854066Z"
    }
   },
   "outputs": [
    {
     "data": {
      "text/plain": [
       "Batch(\n",
       "    a: tensor([[-0.0099, -1.1736,  0.4323],\n",
       "               [-0.9962,  0.3746, -0.6047]]),\n",
       "    x: Batch(\n",
       "           c: tensor([[-1.8672,  0.1021, -0.1309,  1.1562],\n",
       "                      [-0.0306,  1.1050,  0.7210, -0.3072],\n",
       "                      [-0.1514,  0.1227,  0.5167,  0.5828]]),\n",
       "       ),\n",
       ")"
      ]
     },
     "execution_count": 9,
     "metadata": {},
     "output_type": "execute_result"
    }
   ],
   "source": [
    "b"
   ]
  },
  {
   "cell_type": "code",
   "execution_count": 10,
   "id": "43ef8ea3",
   "metadata": {
    "execution": {
     "iopub.execute_input": "2023-08-14T05:29:53.857978Z",
     "iopub.status.busy": "2023-08-14T05:29:53.857611Z",
     "iopub.status.idle": "2023-08-14T05:29:53.862727Z",
     "shell.execute_reply": "2023-08-14T05:29:53.862004Z"
    }
   },
   "outputs": [
    {
     "data": {
      "text/plain": [
       "tensor([[-0.0099, -1.1736,  0.4323],\n",
       "        [-0.9962,  0.3746, -0.6047]])"
      ]
     },
     "execution_count": 10,
     "metadata": {},
     "output_type": "execute_result"
    }
   ],
   "source": [
    "b.a"
   ]
  },
  {
   "cell_type": "code",
   "execution_count": 11,
   "id": "b785ab72",
   "metadata": {
    "execution": {
     "iopub.execute_input": "2023-08-14T05:29:53.866379Z",
     "iopub.status.busy": "2023-08-14T05:29:53.865932Z",
     "iopub.status.idle": "2023-08-14T05:29:59.154558Z",
     "shell.execute_reply": "2023-08-14T05:29:59.153779Z"
    }
   },
   "outputs": [
    {
     "name": "stdout",
     "output_type": "stream",
     "text": [
      "65.1 ns ± 0.182 ns per loop (mean ± std. dev. of 7 runs, 10,000,000 loops each)\n"
     ]
    }
   ],
   "source": [
    "%timeit b.a"
   ]
  },
  {
   "cell_type": "code",
   "execution_count": 12,
   "id": "ad54dc69",
   "metadata": {
    "execution": {
     "iopub.execute_input": "2023-08-14T05:29:59.158194Z",
     "iopub.status.busy": "2023-08-14T05:29:59.157680Z",
     "iopub.status.idle": "2023-08-14T05:29:59.164189Z",
     "shell.execute_reply": "2023-08-14T05:29:59.163464Z"
    }
   },
   "outputs": [
    {
     "data": {
      "text/plain": [
       "Batch(\n",
       "    a: tensor([[ 0.3121,  0.8102, -2.3526],\n",
       "               [-0.5091,  0.6381, -0.6269]]),\n",
       "    x: Batch(\n",
       "           c: tensor([[-1.8672,  0.1021, -0.1309,  1.1562],\n",
       "                      [-0.0306,  1.1050,  0.7210, -0.3072],\n",
       "                      [-0.1514,  0.1227,  0.5167,  0.5828]]),\n",
       "       ),\n",
       ")"
      ]
     },
     "execution_count": 12,
     "metadata": {},
     "output_type": "execute_result"
    }
   ],
   "source": [
    "new_value = torch.randn(2, 3)\n",
    "b.a = new_value\n",
    "\n",
    "b"
   ]
  },
  {
   "cell_type": "code",
   "execution_count": 13,
   "id": "29b1d0bf",
   "metadata": {
    "execution": {
     "iopub.execute_input": "2023-08-14T05:29:59.167363Z",
     "iopub.status.busy": "2023-08-14T05:29:59.166928Z",
     "iopub.status.idle": "2023-08-14T05:30:03.616945Z",
     "shell.execute_reply": "2023-08-14T05:30:03.616140Z"
    }
   },
   "outputs": [
    {
     "name": "stdout",
     "output_type": "stream",
     "text": [
      "547 ns ± 0.231 ns per loop (mean ± std. dev. of 7 runs, 1,000,000 loops each)\n"
     ]
    }
   ],
   "source": [
    "%timeit b.a = new_value"
   ]
  },
  {
   "cell_type": "markdown",
   "id": "b61ad1d0",
   "metadata": {},
   "source": [
    "## Initialization"
   ]
  },
  {
   "cell_type": "markdown",
   "id": "d70f0d54",
   "metadata": {},
   "source": [
    "### TreeValue's Initialization"
   ]
  },
  {
   "cell_type": "code",
   "execution_count": 14,
   "id": "d32a679b",
   "metadata": {
    "execution": {
     "iopub.execute_input": "2023-08-14T05:30:03.620953Z",
     "iopub.status.busy": "2023-08-14T05:30:03.620274Z",
     "iopub.status.idle": "2023-08-14T05:30:10.772715Z",
     "shell.execute_reply": "2023-08-14T05:30:10.771927Z"
    }
   },
   "outputs": [
    {
     "name": "stdout",
     "output_type": "stream",
     "text": [
      "878 ns ± 0.438 ns per loop (mean ± std. dev. of 7 runs, 1,000,000 loops each)\n"
     ]
    }
   ],
   "source": [
    "%timeit FastTreeValue(_TREE_DATA_1)"
   ]
  },
  {
   "cell_type": "markdown",
   "id": "24f3707b",
   "metadata": {},
   "source": [
    "### Tianshou Batch's Initialization"
   ]
  },
  {
   "cell_type": "code",
   "execution_count": 15,
   "id": "ac3958df",
   "metadata": {
    "execution": {
     "iopub.execute_input": "2023-08-14T05:30:10.776428Z",
     "iopub.status.busy": "2023-08-14T05:30:10.775924Z",
     "iopub.status.idle": "2023-08-14T05:30:19.801267Z",
     "shell.execute_reply": "2023-08-14T05:30:19.800502Z"
    }
   },
   "outputs": [
    {
     "name": "stdout",
     "output_type": "stream",
     "text": [
      "11.1 µs ± 30.8 ns per loop (mean ± std. dev. of 7 runs, 100,000 loops each)\n"
     ]
    }
   ],
   "source": [
    "%timeit Batch(**_TREE_DATA_1)"
   ]
  },
  {
   "cell_type": "markdown",
   "id": "1ab82e2d",
   "metadata": {},
   "source": [
    "## Deep Copy Operation"
   ]
  },
  {
   "cell_type": "code",
   "execution_count": 16,
   "id": "210a9442",
   "metadata": {
    "execution": {
     "iopub.execute_input": "2023-08-14T05:30:19.805133Z",
     "iopub.status.busy": "2023-08-14T05:30:19.804602Z",
     "iopub.status.idle": "2023-08-14T05:30:19.808191Z",
     "shell.execute_reply": "2023-08-14T05:30:19.807463Z"
    }
   },
   "outputs": [],
   "source": [
    "import copy"
   ]
  },
  {
   "cell_type": "markdown",
   "id": "5a736274",
   "metadata": {},
   "source": [
    "### Deep Copy of TreeValue"
   ]
  },
  {
   "cell_type": "code",
   "execution_count": 17,
   "id": "f9bcadd6",
   "metadata": {
    "execution": {
     "iopub.execute_input": "2023-08-14T05:30:19.811641Z",
     "iopub.status.busy": "2023-08-14T05:30:19.811269Z",
     "iopub.status.idle": "2023-08-14T05:30:31.499702Z",
     "shell.execute_reply": "2023-08-14T05:30:31.498857Z"
    }
   },
   "outputs": [
    {
     "name": "stdout",
     "output_type": "stream",
     "text": [
      "144 µs ± 906 ns per loop (mean ± std. dev. of 7 runs, 10,000 loops each)\n"
     ]
    }
   ],
   "source": [
    "t3 = FastTreeValue(_TREE_DATA_3)\n",
    "%timeit copy.deepcopy(t3)"
   ]
  },
  {
   "cell_type": "markdown",
   "id": "bf8be7ea",
   "metadata": {},
   "source": [
    "### Deep Copy of Tianshou Batch"
   ]
  },
  {
   "cell_type": "code",
   "execution_count": 18,
   "id": "91998e6f",
   "metadata": {
    "execution": {
     "iopub.execute_input": "2023-08-14T05:30:31.503692Z",
     "iopub.status.busy": "2023-08-14T05:30:31.503284Z",
     "iopub.status.idle": "2023-08-14T05:30:43.274740Z",
     "shell.execute_reply": "2023-08-14T05:30:43.274072Z"
    }
   },
   "outputs": [
    {
     "name": "stdout",
     "output_type": "stream",
     "text": [
      "145 µs ± 542 ns per loop (mean ± std. dev. of 7 runs, 10,000 loops each)\n"
     ]
    }
   ],
   "source": [
    "b3 = Batch(**_TREE_DATA_3)\n",
    "%timeit copy.deepcopy(b3)"
   ]
  },
  {
   "cell_type": "markdown",
   "id": "223162fb",
   "metadata": {},
   "source": [
    "## Stack, Concat and Split Operation"
   ]
  },
  {
   "cell_type": "markdown",
   "id": "85fa4a73",
   "metadata": {},
   "source": [
    "### Performance of TreeValue"
   ]
  },
  {
   "cell_type": "code",
   "execution_count": 19,
   "id": "a0c2b697",
   "metadata": {
    "execution": {
     "iopub.execute_input": "2023-08-14T05:30:43.279114Z",
     "iopub.status.busy": "2023-08-14T05:30:43.278251Z",
     "iopub.status.idle": "2023-08-14T05:30:43.282126Z",
     "shell.execute_reply": "2023-08-14T05:30:43.281546Z"
    }
   },
   "outputs": [],
   "source": [
    "trees = [FastTreeValue(_TREE_DATA_2) for _ in range(8)]"
   ]
  },
  {
   "cell_type": "code",
   "execution_count": 20,
   "id": "017ea5a5",
   "metadata": {
    "execution": {
     "iopub.execute_input": "2023-08-14T05:30:43.285092Z",
     "iopub.status.busy": "2023-08-14T05:30:43.284635Z",
     "iopub.status.idle": "2023-08-14T05:30:43.292174Z",
     "shell.execute_reply": "2023-08-14T05:30:43.291601Z"
    }
   },
   "outputs": [
    {
     "data": {
      "text/plain": [
       "<FastTreeValue 0x7fa8d53efee0>\n",
       "├── 'a' --> tensor([[[-0.0099, -1.1736,  0.4323],\n",
       "│                    [-0.9962,  0.3746, -0.6047]],\n",
       "│           \n",
       "│                   [[-0.0099, -1.1736,  0.4323],\n",
       "│                    [-0.9962,  0.3746, -0.6047]],\n",
       "│           \n",
       "│                   [[-0.0099, -1.1736,  0.4323],\n",
       "│                    [-0.9962,  0.3746, -0.6047]],\n",
       "│           \n",
       "│                   [[-0.0099, -1.1736,  0.4323],\n",
       "│                    [-0.9962,  0.3746, -0.6047]],\n",
       "│           \n",
       "│                   [[-0.0099, -1.1736,  0.4323],\n",
       "│                    [-0.9962,  0.3746, -0.6047]],\n",
       "│           \n",
       "│                   [[-0.0099, -1.1736,  0.4323],\n",
       "│                    [-0.9962,  0.3746, -0.6047]],\n",
       "│           \n",
       "│                   [[-0.0099, -1.1736,  0.4323],\n",
       "│                    [-0.9962,  0.3746, -0.6047]],\n",
       "│           \n",
       "│                   [[-0.0099, -1.1736,  0.4323],\n",
       "│                    [-0.9962,  0.3746, -0.6047]]])\n",
       "└── 'x' --> <FastTreeValue 0x7fa9a52ba850>\n",
       "    └── 'c' --> tensor([[[-1.8672,  0.1021, -0.1309,  1.1562],\n",
       "                         [-0.0306,  1.1050,  0.7210, -0.3072],\n",
       "                         [-0.1514,  0.1227,  0.5167,  0.5828]],\n",
       "                \n",
       "                        [[-1.8672,  0.1021, -0.1309,  1.1562],\n",
       "                         [-0.0306,  1.1050,  0.7210, -0.3072],\n",
       "                         [-0.1514,  0.1227,  0.5167,  0.5828]],\n",
       "                \n",
       "                        [[-1.8672,  0.1021, -0.1309,  1.1562],\n",
       "                         [-0.0306,  1.1050,  0.7210, -0.3072],\n",
       "                         [-0.1514,  0.1227,  0.5167,  0.5828]],\n",
       "                \n",
       "                        [[-1.8672,  0.1021, -0.1309,  1.1562],\n",
       "                         [-0.0306,  1.1050,  0.7210, -0.3072],\n",
       "                         [-0.1514,  0.1227,  0.5167,  0.5828]],\n",
       "                \n",
       "                        [[-1.8672,  0.1021, -0.1309,  1.1562],\n",
       "                         [-0.0306,  1.1050,  0.7210, -0.3072],\n",
       "                         [-0.1514,  0.1227,  0.5167,  0.5828]],\n",
       "                \n",
       "                        [[-1.8672,  0.1021, -0.1309,  1.1562],\n",
       "                         [-0.0306,  1.1050,  0.7210, -0.3072],\n",
       "                         [-0.1514,  0.1227,  0.5167,  0.5828]],\n",
       "                \n",
       "                        [[-1.8672,  0.1021, -0.1309,  1.1562],\n",
       "                         [-0.0306,  1.1050,  0.7210, -0.3072],\n",
       "                         [-0.1514,  0.1227,  0.5167,  0.5828]],\n",
       "                \n",
       "                        [[-1.8672,  0.1021, -0.1309,  1.1562],\n",
       "                         [-0.0306,  1.1050,  0.7210, -0.3072],\n",
       "                         [-0.1514,  0.1227,  0.5167,  0.5828]]])"
      ]
     },
     "execution_count": 20,
     "metadata": {},
     "output_type": "execute_result"
    }
   ],
   "source": [
    "t_stack = FastTreeValue.func(subside=True)(torch.stack)\n",
    "\n",
    "t_stack(trees)"
   ]
  },
  {
   "cell_type": "code",
   "execution_count": 21,
   "id": "f8b3f415",
   "metadata": {
    "execution": {
     "iopub.execute_input": "2023-08-14T05:30:43.295171Z",
     "iopub.status.busy": "2023-08-14T05:30:43.294729Z",
     "iopub.status.idle": "2023-08-14T05:30:45.929158Z",
     "shell.execute_reply": "2023-08-14T05:30:45.928386Z"
    }
   },
   "outputs": [
    {
     "name": "stdout",
     "output_type": "stream",
     "text": [
      "32.4 µs ± 81 ns per loop (mean ± std. dev. of 7 runs, 10,000 loops each)\n"
     ]
    }
   ],
   "source": [
    "%timeit t_stack(trees)"
   ]
  },
  {
   "cell_type": "code",
   "execution_count": 22,
   "id": "94b56771",
   "metadata": {
    "execution": {
     "iopub.execute_input": "2023-08-14T05:30:45.932871Z",
     "iopub.status.busy": "2023-08-14T05:30:45.932193Z",
     "iopub.status.idle": "2023-08-14T05:30:45.943370Z",
     "shell.execute_reply": "2023-08-14T05:30:45.942159Z"
    }
   },
   "outputs": [
    {
     "data": {
      "text/plain": [
       "<FastTreeValue 0x7fa8d53ef8e0>\n",
       "├── 'a' --> tensor([[-0.0099, -1.1736,  0.4323],\n",
       "│                   [-0.9962,  0.3746, -0.6047],\n",
       "│                   [-0.0099, -1.1736,  0.4323],\n",
       "│                   [-0.9962,  0.3746, -0.6047],\n",
       "│                   [-0.0099, -1.1736,  0.4323],\n",
       "│                   [-0.9962,  0.3746, -0.6047],\n",
       "│                   [-0.0099, -1.1736,  0.4323],\n",
       "│                   [-0.9962,  0.3746, -0.6047],\n",
       "│                   [-0.0099, -1.1736,  0.4323],\n",
       "│                   [-0.9962,  0.3746, -0.6047],\n",
       "│                   [-0.0099, -1.1736,  0.4323],\n",
       "│                   [-0.9962,  0.3746, -0.6047],\n",
       "│                   [-0.0099, -1.1736,  0.4323],\n",
       "│                   [-0.9962,  0.3746, -0.6047],\n",
       "│                   [-0.0099, -1.1736,  0.4323],\n",
       "│                   [-0.9962,  0.3746, -0.6047]])\n",
       "└── 'x' --> <FastTreeValue 0x7fa8d53efbb0>\n",
       "    └── 'c' --> tensor([[-1.8672,  0.1021, -0.1309,  1.1562],\n",
       "                        [-0.0306,  1.1050,  0.7210, -0.3072],\n",
       "                        [-0.1514,  0.1227,  0.5167,  0.5828],\n",
       "                        [-1.8672,  0.1021, -0.1309,  1.1562],\n",
       "                        [-0.0306,  1.1050,  0.7210, -0.3072],\n",
       "                        [-0.1514,  0.1227,  0.5167,  0.5828],\n",
       "                        [-1.8672,  0.1021, -0.1309,  1.1562],\n",
       "                        [-0.0306,  1.1050,  0.7210, -0.3072],\n",
       "                        [-0.1514,  0.1227,  0.5167,  0.5828],\n",
       "                        [-1.8672,  0.1021, -0.1309,  1.1562],\n",
       "                        [-0.0306,  1.1050,  0.7210, -0.3072],\n",
       "                        [-0.1514,  0.1227,  0.5167,  0.5828],\n",
       "                        [-1.8672,  0.1021, -0.1309,  1.1562],\n",
       "                        [-0.0306,  1.1050,  0.7210, -0.3072],\n",
       "                        [-0.1514,  0.1227,  0.5167,  0.5828],\n",
       "                        [-1.8672,  0.1021, -0.1309,  1.1562],\n",
       "                        [-0.0306,  1.1050,  0.7210, -0.3072],\n",
       "                        [-0.1514,  0.1227,  0.5167,  0.5828],\n",
       "                        [-1.8672,  0.1021, -0.1309,  1.1562],\n",
       "                        [-0.0306,  1.1050,  0.7210, -0.3072],\n",
       "                        [-0.1514,  0.1227,  0.5167,  0.5828],\n",
       "                        [-1.8672,  0.1021, -0.1309,  1.1562],\n",
       "                        [-0.0306,  1.1050,  0.7210, -0.3072],\n",
       "                        [-0.1514,  0.1227,  0.5167,  0.5828]])"
      ]
     },
     "execution_count": 22,
     "metadata": {},
     "output_type": "execute_result"
    }
   ],
   "source": [
    "t_cat = FastTreeValue.func(subside=True)(torch.cat)\n",
    "\n",
    "t_cat(trees)"
   ]
  },
  {
   "cell_type": "code",
   "execution_count": 23,
   "id": "5e9c06a6",
   "metadata": {
    "execution": {
     "iopub.execute_input": "2023-08-14T05:30:45.946580Z",
     "iopub.status.busy": "2023-08-14T05:30:45.946034Z",
     "iopub.status.idle": "2023-08-14T05:30:48.402722Z",
     "shell.execute_reply": "2023-08-14T05:30:48.401042Z"
    }
   },
   "outputs": [
    {
     "name": "stdout",
     "output_type": "stream",
     "text": [
      "30.2 µs ± 85.7 ns per loop (mean ± std. dev. of 7 runs, 10,000 loops each)\n"
     ]
    }
   ],
   "source": [
    "%timeit t_cat(trees)"
   ]
  },
  {
   "cell_type": "code",
   "execution_count": 24,
   "id": "a3ab5c8f",
   "metadata": {
    "execution": {
     "iopub.execute_input": "2023-08-14T05:30:48.406469Z",
     "iopub.status.busy": "2023-08-14T05:30:48.406062Z",
     "iopub.status.idle": "2023-08-14T05:30:53.993010Z",
     "shell.execute_reply": "2023-08-14T05:30:53.991191Z"
    }
   },
   "outputs": [
    {
     "name": "stdout",
     "output_type": "stream",
     "text": [
      "68.7 µs ± 58.6 ns per loop (mean ± std. dev. of 7 runs, 10,000 loops each)\n"
     ]
    }
   ],
   "source": [
    "t_split = FastTreeValue.func(rise=True)(torch.split)\n",
    "tree = FastTreeValue({\n",
    "    'obs': torch.randn(8, 4, 84, 84),\n",
    "    'action': torch.randint(0, 6, size=(8, 1,)),\n",
    "    'reward': torch.rand(8, 1),\n",
    "})\n",
    "\n",
    "%timeit t_split(tree, 1)"
   ]
  },
  {
   "cell_type": "markdown",
   "id": "31c3ec0b",
   "metadata": {},
   "source": [
    "### Performance of Tianshou Batch"
   ]
  },
  {
   "cell_type": "code",
   "execution_count": 25,
   "id": "9ead828a",
   "metadata": {
    "execution": {
     "iopub.execute_input": "2023-08-14T05:30:53.997159Z",
     "iopub.status.busy": "2023-08-14T05:30:53.996544Z",
     "iopub.status.idle": "2023-08-14T05:30:54.006000Z",
     "shell.execute_reply": "2023-08-14T05:30:54.005346Z"
    }
   },
   "outputs": [
    {
     "data": {
      "text/plain": [
       "Batch(\n",
       "    x: Batch(\n",
       "           c: tensor([[[-1.8672,  0.1021, -0.1309,  1.1562],\n",
       "                       [-0.0306,  1.1050,  0.7210, -0.3072],\n",
       "                       [-0.1514,  0.1227,  0.5167,  0.5828]],\n",
       "              \n",
       "                      [[-1.8672,  0.1021, -0.1309,  1.1562],\n",
       "                       [-0.0306,  1.1050,  0.7210, -0.3072],\n",
       "                       [-0.1514,  0.1227,  0.5167,  0.5828]],\n",
       "              \n",
       "                      [[-1.8672,  0.1021, -0.1309,  1.1562],\n",
       "                       [-0.0306,  1.1050,  0.7210, -0.3072],\n",
       "                       [-0.1514,  0.1227,  0.5167,  0.5828]],\n",
       "              \n",
       "                      [[-1.8672,  0.1021, -0.1309,  1.1562],\n",
       "                       [-0.0306,  1.1050,  0.7210, -0.3072],\n",
       "                       [-0.1514,  0.1227,  0.5167,  0.5828]],\n",
       "              \n",
       "                      [[-1.8672,  0.1021, -0.1309,  1.1562],\n",
       "                       [-0.0306,  1.1050,  0.7210, -0.3072],\n",
       "                       [-0.1514,  0.1227,  0.5167,  0.5828]],\n",
       "              \n",
       "                      [[-1.8672,  0.1021, -0.1309,  1.1562],\n",
       "                       [-0.0306,  1.1050,  0.7210, -0.3072],\n",
       "                       [-0.1514,  0.1227,  0.5167,  0.5828]],\n",
       "              \n",
       "                      [[-1.8672,  0.1021, -0.1309,  1.1562],\n",
       "                       [-0.0306,  1.1050,  0.7210, -0.3072],\n",
       "                       [-0.1514,  0.1227,  0.5167,  0.5828]],\n",
       "              \n",
       "                      [[-1.8672,  0.1021, -0.1309,  1.1562],\n",
       "                       [-0.0306,  1.1050,  0.7210, -0.3072],\n",
       "                       [-0.1514,  0.1227,  0.5167,  0.5828]]]),\n",
       "       ),\n",
       "    a: tensor([[[-0.0099, -1.1736,  0.4323],\n",
       "                [-0.9962,  0.3746, -0.6047]],\n",
       "       \n",
       "               [[-0.0099, -1.1736,  0.4323],\n",
       "                [-0.9962,  0.3746, -0.6047]],\n",
       "       \n",
       "               [[-0.0099, -1.1736,  0.4323],\n",
       "                [-0.9962,  0.3746, -0.6047]],\n",
       "       \n",
       "               [[-0.0099, -1.1736,  0.4323],\n",
       "                [-0.9962,  0.3746, -0.6047]],\n",
       "       \n",
       "               [[-0.0099, -1.1736,  0.4323],\n",
       "                [-0.9962,  0.3746, -0.6047]],\n",
       "       \n",
       "               [[-0.0099, -1.1736,  0.4323],\n",
       "                [-0.9962,  0.3746, -0.6047]],\n",
       "       \n",
       "               [[-0.0099, -1.1736,  0.4323],\n",
       "                [-0.9962,  0.3746, -0.6047]],\n",
       "       \n",
       "               [[-0.0099, -1.1736,  0.4323],\n",
       "                [-0.9962,  0.3746, -0.6047]]]),\n",
       ")"
      ]
     },
     "execution_count": 25,
     "metadata": {},
     "output_type": "execute_result"
    }
   ],
   "source": [
    "batches = [Batch(**_TREE_DATA_2) for _ in range(8)]\n",
    "\n",
    "Batch.stack(batches)"
   ]
  },
  {
   "cell_type": "code",
   "execution_count": 26,
   "id": "ec9037a3",
   "metadata": {
    "execution": {
     "iopub.execute_input": "2023-08-14T05:30:54.009351Z",
     "iopub.status.busy": "2023-08-14T05:30:54.008978Z",
     "iopub.status.idle": "2023-08-14T05:31:00.792314Z",
     "shell.execute_reply": "2023-08-14T05:31:00.790701Z"
    }
   },
   "outputs": [
    {
     "name": "stdout",
     "output_type": "stream",
     "text": [
      "83.5 µs ± 99.2 ns per loop (mean ± std. dev. of 7 runs, 10,000 loops each)\n"
     ]
    }
   ],
   "source": [
    "%timeit Batch.stack(batches)"
   ]
  },
  {
   "cell_type": "code",
   "execution_count": 27,
   "id": "cb8ab77e",
   "metadata": {
    "execution": {
     "iopub.execute_input": "2023-08-14T05:31:00.796314Z",
     "iopub.status.busy": "2023-08-14T05:31:00.795812Z",
     "iopub.status.idle": "2023-08-14T05:31:00.804366Z",
     "shell.execute_reply": "2023-08-14T05:31:00.803732Z"
    }
   },
   "outputs": [
    {
     "data": {
      "text/plain": [
       "Batch(\n",
       "    x: Batch(\n",
       "           c: tensor([[-1.8672,  0.1021, -0.1309,  1.1562],\n",
       "                      [-0.0306,  1.1050,  0.7210, -0.3072],\n",
       "                      [-0.1514,  0.1227,  0.5167,  0.5828],\n",
       "                      [-1.8672,  0.1021, -0.1309,  1.1562],\n",
       "                      [-0.0306,  1.1050,  0.7210, -0.3072],\n",
       "                      [-0.1514,  0.1227,  0.5167,  0.5828],\n",
       "                      [-1.8672,  0.1021, -0.1309,  1.1562],\n",
       "                      [-0.0306,  1.1050,  0.7210, -0.3072],\n",
       "                      [-0.1514,  0.1227,  0.5167,  0.5828],\n",
       "                      [-1.8672,  0.1021, -0.1309,  1.1562],\n",
       "                      [-0.0306,  1.1050,  0.7210, -0.3072],\n",
       "                      [-0.1514,  0.1227,  0.5167,  0.5828],\n",
       "                      [-1.8672,  0.1021, -0.1309,  1.1562],\n",
       "                      [-0.0306,  1.1050,  0.7210, -0.3072],\n",
       "                      [-0.1514,  0.1227,  0.5167,  0.5828],\n",
       "                      [-1.8672,  0.1021, -0.1309,  1.1562],\n",
       "                      [-0.0306,  1.1050,  0.7210, -0.3072],\n",
       "                      [-0.1514,  0.1227,  0.5167,  0.5828],\n",
       "                      [-1.8672,  0.1021, -0.1309,  1.1562],\n",
       "                      [-0.0306,  1.1050,  0.7210, -0.3072],\n",
       "                      [-0.1514,  0.1227,  0.5167,  0.5828],\n",
       "                      [-1.8672,  0.1021, -0.1309,  1.1562],\n",
       "                      [-0.0306,  1.1050,  0.7210, -0.3072],\n",
       "                      [-0.1514,  0.1227,  0.5167,  0.5828]]),\n",
       "       ),\n",
       "    a: tensor([[-0.0099, -1.1736,  0.4323],\n",
       "               [-0.9962,  0.3746, -0.6047],\n",
       "               [-0.0099, -1.1736,  0.4323],\n",
       "               [-0.9962,  0.3746, -0.6047],\n",
       "               [-0.0099, -1.1736,  0.4323],\n",
       "               [-0.9962,  0.3746, -0.6047],\n",
       "               [-0.0099, -1.1736,  0.4323],\n",
       "               [-0.9962,  0.3746, -0.6047],\n",
       "               [-0.0099, -1.1736,  0.4323],\n",
       "               [-0.9962,  0.3746, -0.6047],\n",
       "               [-0.0099, -1.1736,  0.4323],\n",
       "               [-0.9962,  0.3746, -0.6047],\n",
       "               [-0.0099, -1.1736,  0.4323],\n",
       "               [-0.9962,  0.3746, -0.6047],\n",
       "               [-0.0099, -1.1736,  0.4323],\n",
       "               [-0.9962,  0.3746, -0.6047]]),\n",
       ")"
      ]
     },
     "execution_count": 27,
     "metadata": {},
     "output_type": "execute_result"
    }
   ],
   "source": [
    "Batch.cat(batches)"
   ]
  },
  {
   "cell_type": "code",
   "execution_count": 28,
   "id": "18dfb045",
   "metadata": {
    "execution": {
     "iopub.execute_input": "2023-08-14T05:31:00.807636Z",
     "iopub.status.busy": "2023-08-14T05:31:00.807258Z",
     "iopub.status.idle": "2023-08-14T05:31:13.335147Z",
     "shell.execute_reply": "2023-08-14T05:31:13.334384Z"
    }
   },
   "outputs": [
    {
     "name": "stdout",
     "output_type": "stream",
     "text": [
      "154 µs ± 273 ns per loop (mean ± std. dev. of 7 runs, 10,000 loops each)\n"
     ]
    }
   ],
   "source": [
    "%timeit Batch.cat(batches)"
   ]
  },
  {
   "cell_type": "code",
   "execution_count": 29,
   "id": "c6688e51",
   "metadata": {
    "execution": {
     "iopub.execute_input": "2023-08-14T05:31:13.338939Z",
     "iopub.status.busy": "2023-08-14T05:31:13.338198Z",
     "iopub.status.idle": "2023-08-14T05:31:16.192107Z",
     "shell.execute_reply": "2023-08-14T05:31:16.191419Z"
    }
   },
   "outputs": [
    {
     "name": "stdout",
     "output_type": "stream",
     "text": [
      "349 µs ± 4.15 µs per loop (mean ± std. dev. of 7 runs, 1,000 loops each)\n"
     ]
    }
   ],
   "source": [
    "batch = Batch({\n",
    "    'obs': torch.randn(8, 4, 84, 84),\n",
    "    'action': torch.randint(0, 6, size=(8, 1,)),\n",
    "    'reward': torch.rand(8, 1)}\n",
    ")\n",
    "\n",
    "%timeit list(Batch.split(batch, 1, shuffle=False, merge_last=True))"
   ]
  },
  {
   "cell_type": "code",
   "execution_count": null,
   "id": "2539fbd9",
   "metadata": {},
   "outputs": [],
   "source": []
  }
 ],
 "metadata": {
  "kernelspec": {
   "display_name": "Python 3 (ipykernel)",
   "language": "python",
   "name": "python3"
  },
  "language_info": {
   "codemirror_mode": {
    "name": "ipython",
    "version": 3
   },
   "file_extension": ".py",
   "mimetype": "text/x-python",
   "name": "python",
   "nbconvert_exporter": "python",
   "pygments_lexer": "ipython3",
   "version": "3.8.17"
  }
 },
 "nbformat": 4,
 "nbformat_minor": 5
}
