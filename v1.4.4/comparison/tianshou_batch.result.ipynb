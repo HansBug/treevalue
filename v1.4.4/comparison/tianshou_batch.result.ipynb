{
 "cells": [
  {
   "cell_type": "markdown",
   "id": "9d39d946",
   "metadata": {},
   "source": [
    "# Comparison Between TreeValue and Tianshou Batch"
   ]
  },
  {
   "cell_type": "markdown",
   "id": "3c6db2d4",
   "metadata": {},
   "source": [
    "In this section, we will take a look at the feature and performance of the [Tianshou Batch](https://github.com/thu-ml/tianshou) library, which is developed by Tsinghua Machine Learning Group."
   ]
  },
  {
   "cell_type": "markdown",
   "id": "069361b0",
   "metadata": {},
   "source": [
    "Before starting the comparison, let us define some thing."
   ]
  },
  {
   "cell_type": "code",
   "execution_count": 1,
   "id": "06fc8d26",
   "metadata": {
    "execution": {
     "iopub.execute_input": "2023-03-06T16:43:51.810717Z",
     "iopub.status.busy": "2023-03-06T16:43:51.810166Z",
     "iopub.status.idle": "2023-03-06T16:43:52.723651Z",
     "shell.execute_reply": "2023-03-06T16:43:52.722980Z"
    }
   },
   "outputs": [
    {
     "name": "stderr",
     "output_type": "stream",
     "text": [
      "/opt/hostedtoolcache/Python/3.8.16/x64/lib/python3.8/site-packages/tqdm/auto.py:21: TqdmWarning: IProgress not found. Please update jupyter and ipywidgets. See https://ipywidgets.readthedocs.io/en/stable/user_install.html\n",
      "  from .autonotebook import tqdm as notebook_tqdm\n"
     ]
    }
   ],
   "source": [
    "import torch \n",
    "\n",
    "_TREE_DATA_1 = {'a': 1, 'b': 2, 'x': {'c': 3, 'd': 4}}\n",
    "_TREE_DATA_2 = {\n",
    "    'a': torch.randn(2, 3), \n",
    "    'x': {\n",
    "        'c': torch.randn(3, 4)\n",
    "    },\n",
    "}\n",
    "_TREE_DATA_3 = {\n",
    "    'obs': torch.randn(4, 84, 84),\n",
    "    'action': torch.randint(0, 6, size=(1,)),\n",
    "    'reward': torch.rand(1),\n",
    "}"
   ]
  },
  {
   "cell_type": "markdown",
   "id": "83461b25",
   "metadata": {},
   "source": [
    "## Read and Write Operation"
   ]
  },
  {
   "cell_type": "markdown",
   "id": "067b3f73",
   "metadata": {},
   "source": [
    "Reading and writing are the two most common operations in the tree data structure based on the data model (TreeValue and Tianshou Batch both belong to this type), so this section will compare the reading and writing performance of these two libraries."
   ]
  },
  {
   "cell_type": "markdown",
   "id": "5d09a5b7",
   "metadata": {},
   "source": [
    "### TreeValue's Get and Set"
   ]
  },
  {
   "cell_type": "code",
   "execution_count": 2,
   "id": "9519c4bb",
   "metadata": {
    "execution": {
     "iopub.execute_input": "2023-03-06T16:43:52.727035Z",
     "iopub.status.busy": "2023-03-06T16:43:52.726521Z",
     "iopub.status.idle": "2023-03-06T16:43:52.759312Z",
     "shell.execute_reply": "2023-03-06T16:43:52.758694Z"
    }
   },
   "outputs": [],
   "source": [
    "from treevalue import FastTreeValue\n",
    "\n",
    "t = FastTreeValue(_TREE_DATA_2)"
   ]
  },
  {
   "cell_type": "code",
   "execution_count": 3,
   "id": "11c37677",
   "metadata": {
    "execution": {
     "iopub.execute_input": "2023-03-06T16:43:52.762299Z",
     "iopub.status.busy": "2023-03-06T16:43:52.761706Z",
     "iopub.status.idle": "2023-03-06T16:43:52.770020Z",
     "shell.execute_reply": "2023-03-06T16:43:52.769404Z"
    }
   },
   "outputs": [
    {
     "data": {
      "text/plain": [
       "<FastTreeValue 0x7f4d10e85d90>\n",
       "├── 'a' --> tensor([[ 0.6016,  1.7956,  0.0658],\n",
       "│                   [-0.4611,  0.8411, -1.0774]])\n",
       "└── 'x' --> <FastTreeValue 0x7f4d10e85d60>\n",
       "    └── 'c' --> tensor([[ 1.2556,  0.4568, -2.2765,  0.0121],\n",
       "                        [-0.4745,  0.7363,  0.3724,  0.1834],\n",
       "                        [ 0.3052, -1.2309, -0.0143, -1.0517]])"
      ]
     },
     "execution_count": 3,
     "metadata": {},
     "output_type": "execute_result"
    }
   ],
   "source": [
    "t"
   ]
  },
  {
   "cell_type": "code",
   "execution_count": 4,
   "id": "fd70b0b9",
   "metadata": {
    "execution": {
     "iopub.execute_input": "2023-03-06T16:43:52.772511Z",
     "iopub.status.busy": "2023-03-06T16:43:52.772168Z",
     "iopub.status.idle": "2023-03-06T16:43:52.777814Z",
     "shell.execute_reply": "2023-03-06T16:43:52.777232Z"
    }
   },
   "outputs": [
    {
     "data": {
      "text/plain": [
       "tensor([[ 0.6016,  1.7956,  0.0658],\n",
       "        [-0.4611,  0.8411, -1.0774]])"
      ]
     },
     "execution_count": 4,
     "metadata": {},
     "output_type": "execute_result"
    }
   ],
   "source": [
    "t.a"
   ]
  },
  {
   "cell_type": "code",
   "execution_count": 5,
   "id": "c18197bd",
   "metadata": {
    "execution": {
     "iopub.execute_input": "2023-03-06T16:43:52.780302Z",
     "iopub.status.busy": "2023-03-06T16:43:52.779957Z",
     "iopub.status.idle": "2023-03-06T16:43:57.816826Z",
     "shell.execute_reply": "2023-03-06T16:43:57.816099Z"
    }
   },
   "outputs": [
    {
     "name": "stdout",
     "output_type": "stream",
     "text": [
      "62 ns ± 0.0414 ns per loop (mean ± std. dev. of 7 runs, 10,000,000 loops each)\n"
     ]
    }
   ],
   "source": [
    "%timeit t.a"
   ]
  },
  {
   "cell_type": "code",
   "execution_count": 6,
   "id": "bd52f867",
   "metadata": {
    "execution": {
     "iopub.execute_input": "2023-03-06T16:43:57.820128Z",
     "iopub.status.busy": "2023-03-06T16:43:57.819522Z",
     "iopub.status.idle": "2023-03-06T16:43:57.826235Z",
     "shell.execute_reply": "2023-03-06T16:43:57.825623Z"
    }
   },
   "outputs": [
    {
     "data": {
      "text/plain": [
       "<FastTreeValue 0x7f4d10e85d90>\n",
       "├── 'a' --> tensor([[ 0.6549, -1.4419,  0.9126],\n",
       "│                   [ 0.1614,  0.8798, -1.8105]])\n",
       "└── 'x' --> <FastTreeValue 0x7f4d10e85d60>\n",
       "    └── 'c' --> tensor([[ 1.2556,  0.4568, -2.2765,  0.0121],\n",
       "                        [-0.4745,  0.7363,  0.3724,  0.1834],\n",
       "                        [ 0.3052, -1.2309, -0.0143, -1.0517]])"
      ]
     },
     "execution_count": 6,
     "metadata": {},
     "output_type": "execute_result"
    }
   ],
   "source": [
    "new_value = torch.randn(2, 3)\n",
    "t.a = new_value\n",
    "\n",
    "t"
   ]
  },
  {
   "cell_type": "code",
   "execution_count": 7,
   "id": "bbe04d1c",
   "metadata": {
    "execution": {
     "iopub.execute_input": "2023-03-06T16:43:57.828923Z",
     "iopub.status.busy": "2023-03-06T16:43:57.828585Z",
     "iopub.status.idle": "2023-03-06T16:44:02.664928Z",
     "shell.execute_reply": "2023-03-06T16:44:02.664176Z"
    }
   },
   "outputs": [
    {
     "name": "stdout",
     "output_type": "stream",
     "text": [
      "59.3 ns ± 0.0758 ns per loop (mean ± std. dev. of 7 runs, 10,000,000 loops each)\n"
     ]
    }
   ],
   "source": [
    "%timeit t.a = new_value"
   ]
  },
  {
   "cell_type": "markdown",
   "id": "48c49731",
   "metadata": {},
   "source": [
    "### Tianshou Batch's Get and Set"
   ]
  },
  {
   "cell_type": "code",
   "execution_count": 8,
   "id": "f1bb14c1",
   "metadata": {
    "execution": {
     "iopub.execute_input": "2023-03-06T16:44:02.668242Z",
     "iopub.status.busy": "2023-03-06T16:44:02.667653Z",
     "iopub.status.idle": "2023-03-06T16:44:02.991924Z",
     "shell.execute_reply": "2023-03-06T16:44:02.990861Z"
    }
   },
   "outputs": [],
   "source": [
    "from tianshou.data import Batch\n",
    "\n",
    "b = Batch(**_TREE_DATA_2)"
   ]
  },
  {
   "cell_type": "code",
   "execution_count": 9,
   "id": "cb0777c3",
   "metadata": {
    "execution": {
     "iopub.execute_input": "2023-03-06T16:44:02.995053Z",
     "iopub.status.busy": "2023-03-06T16:44:02.994534Z",
     "iopub.status.idle": "2023-03-06T16:44:03.000982Z",
     "shell.execute_reply": "2023-03-06T16:44:03.000070Z"
    }
   },
   "outputs": [
    {
     "data": {
      "text/plain": [
       "Batch(\n",
       "    a: tensor([[ 0.6016,  1.7956,  0.0658],\n",
       "               [-0.4611,  0.8411, -1.0774]]),\n",
       "    x: Batch(\n",
       "           c: tensor([[ 1.2556,  0.4568, -2.2765,  0.0121],\n",
       "                      [-0.4745,  0.7363,  0.3724,  0.1834],\n",
       "                      [ 0.3052, -1.2309, -0.0143, -1.0517]]),\n",
       "       ),\n",
       ")"
      ]
     },
     "execution_count": 9,
     "metadata": {},
     "output_type": "execute_result"
    }
   ],
   "source": [
    "b"
   ]
  },
  {
   "cell_type": "code",
   "execution_count": 10,
   "id": "43ef8ea3",
   "metadata": {
    "execution": {
     "iopub.execute_input": "2023-03-06T16:44:03.003731Z",
     "iopub.status.busy": "2023-03-06T16:44:03.003394Z",
     "iopub.status.idle": "2023-03-06T16:44:03.008931Z",
     "shell.execute_reply": "2023-03-06T16:44:03.008334Z"
    }
   },
   "outputs": [
    {
     "data": {
      "text/plain": [
       "tensor([[ 0.6016,  1.7956,  0.0658],\n",
       "        [-0.4611,  0.8411, -1.0774]])"
      ]
     },
     "execution_count": 10,
     "metadata": {},
     "output_type": "execute_result"
    }
   ],
   "source": [
    "b.a"
   ]
  },
  {
   "cell_type": "code",
   "execution_count": 11,
   "id": "b785ab72",
   "metadata": {
    "execution": {
     "iopub.execute_input": "2023-03-06T16:44:03.011520Z",
     "iopub.status.busy": "2023-03-06T16:44:03.010964Z",
     "iopub.status.idle": "2023-03-06T16:44:07.183029Z",
     "shell.execute_reply": "2023-03-06T16:44:07.182281Z"
    }
   },
   "outputs": [
    {
     "name": "stdout",
     "output_type": "stream",
     "text": [
      "51.1 ns ± 0.04 ns per loop (mean ± std. dev. of 7 runs, 10,000,000 loops each)\n"
     ]
    }
   ],
   "source": [
    "%timeit b.a"
   ]
  },
  {
   "cell_type": "code",
   "execution_count": 12,
   "id": "ad54dc69",
   "metadata": {
    "execution": {
     "iopub.execute_input": "2023-03-06T16:44:07.186415Z",
     "iopub.status.busy": "2023-03-06T16:44:07.185747Z",
     "iopub.status.idle": "2023-03-06T16:44:07.193235Z",
     "shell.execute_reply": "2023-03-06T16:44:07.192618Z"
    }
   },
   "outputs": [
    {
     "data": {
      "text/plain": [
       "Batch(\n",
       "    a: tensor([[-2.6083,  0.2126,  0.0657],\n",
       "               [ 1.1948, -0.2392, -1.0506]]),\n",
       "    x: Batch(\n",
       "           c: tensor([[ 1.2556,  0.4568, -2.2765,  0.0121],\n",
       "                      [-0.4745,  0.7363,  0.3724,  0.1834],\n",
       "                      [ 0.3052, -1.2309, -0.0143, -1.0517]]),\n",
       "       ),\n",
       ")"
      ]
     },
     "execution_count": 12,
     "metadata": {},
     "output_type": "execute_result"
    }
   ],
   "source": [
    "new_value = torch.randn(2, 3)\n",
    "b.a = new_value\n",
    "\n",
    "b"
   ]
  },
  {
   "cell_type": "code",
   "execution_count": 13,
   "id": "29b1d0bf",
   "metadata": {
    "execution": {
     "iopub.execute_input": "2023-03-06T16:44:07.196111Z",
     "iopub.status.busy": "2023-03-06T16:44:07.195894Z",
     "iopub.status.idle": "2023-03-06T16:44:11.139688Z",
     "shell.execute_reply": "2023-03-06T16:44:11.138963Z"
    }
   },
   "outputs": [
    {
     "name": "stdout",
     "output_type": "stream",
     "text": [
      "486 ns ± 0.151 ns per loop (mean ± std. dev. of 7 runs, 1,000,000 loops each)\n"
     ]
    }
   ],
   "source": [
    "%timeit b.a = new_value"
   ]
  },
  {
   "cell_type": "markdown",
   "id": "b61ad1d0",
   "metadata": {},
   "source": [
    "## Initialization"
   ]
  },
  {
   "cell_type": "markdown",
   "id": "d70f0d54",
   "metadata": {},
   "source": [
    "### TreeValue's Initialization"
   ]
  },
  {
   "cell_type": "code",
   "execution_count": 14,
   "id": "d32a679b",
   "metadata": {
    "execution": {
     "iopub.execute_input": "2023-03-06T16:44:11.142841Z",
     "iopub.status.busy": "2023-03-06T16:44:11.142247Z",
     "iopub.status.idle": "2023-03-06T16:44:18.054319Z",
     "shell.execute_reply": "2023-03-06T16:44:18.053489Z"
    }
   },
   "outputs": [
    {
     "name": "stdout",
     "output_type": "stream",
     "text": [
      "851 ns ± 0.147 ns per loop (mean ± std. dev. of 7 runs, 1,000,000 loops each)\n"
     ]
    }
   ],
   "source": [
    "%timeit FastTreeValue(_TREE_DATA_1)"
   ]
  },
  {
   "cell_type": "markdown",
   "id": "24f3707b",
   "metadata": {},
   "source": [
    "### Tianshou Batch's Initialization"
   ]
  },
  {
   "cell_type": "code",
   "execution_count": 15,
   "id": "ac3958df",
   "metadata": {
    "execution": {
     "iopub.execute_input": "2023-03-06T16:44:18.057276Z",
     "iopub.status.busy": "2023-03-06T16:44:18.056709Z",
     "iopub.status.idle": "2023-03-06T16:44:27.192934Z",
     "shell.execute_reply": "2023-03-06T16:44:27.192270Z"
    }
   },
   "outputs": [
    {
     "name": "stdout",
     "output_type": "stream",
     "text": [
      "11.3 µs ± 27.7 ns per loop (mean ± std. dev. of 7 runs, 100,000 loops each)\n"
     ]
    }
   ],
   "source": [
    "%timeit Batch(**_TREE_DATA_1)"
   ]
  },
  {
   "cell_type": "markdown",
   "id": "1ab82e2d",
   "metadata": {},
   "source": [
    "## Deep Copy Operation"
   ]
  },
  {
   "cell_type": "code",
   "execution_count": 16,
   "id": "210a9442",
   "metadata": {
    "execution": {
     "iopub.execute_input": "2023-03-06T16:44:27.195893Z",
     "iopub.status.busy": "2023-03-06T16:44:27.195515Z",
     "iopub.status.idle": "2023-03-06T16:44:27.199451Z",
     "shell.execute_reply": "2023-03-06T16:44:27.198887Z"
    }
   },
   "outputs": [],
   "source": [
    "import copy"
   ]
  },
  {
   "cell_type": "markdown",
   "id": "5a736274",
   "metadata": {},
   "source": [
    "### Deep Copy of TreeValue"
   ]
  },
  {
   "cell_type": "code",
   "execution_count": 17,
   "id": "f9bcadd6",
   "metadata": {
    "execution": {
     "iopub.execute_input": "2023-03-06T16:44:27.202023Z",
     "iopub.status.busy": "2023-03-06T16:44:27.201673Z",
     "iopub.status.idle": "2023-03-06T16:44:38.307062Z",
     "shell.execute_reply": "2023-03-06T16:44:38.306477Z"
    }
   },
   "outputs": [
    {
     "name": "stdout",
     "output_type": "stream",
     "text": [
      "137 µs ± 1.32 µs per loop (mean ± std. dev. of 7 runs, 10,000 loops each)\n"
     ]
    }
   ],
   "source": [
    "t3 = FastTreeValue(_TREE_DATA_3)\n",
    "%timeit copy.deepcopy(t3)"
   ]
  },
  {
   "cell_type": "markdown",
   "id": "bf8be7ea",
   "metadata": {},
   "source": [
    "### Deep Copy of Tianshou Batch"
   ]
  },
  {
   "cell_type": "code",
   "execution_count": 18,
   "id": "91998e6f",
   "metadata": {
    "execution": {
     "iopub.execute_input": "2023-03-06T16:44:38.310578Z",
     "iopub.status.busy": "2023-03-06T16:44:38.309547Z",
     "iopub.status.idle": "2023-03-06T16:44:49.409335Z",
     "shell.execute_reply": "2023-03-06T16:44:49.408760Z"
    }
   },
   "outputs": [
    {
     "name": "stdout",
     "output_type": "stream",
     "text": [
      "137 µs ± 305 ns per loop (mean ± std. dev. of 7 runs, 10,000 loops each)\n"
     ]
    }
   ],
   "source": [
    "b3 = Batch(**_TREE_DATA_3)\n",
    "%timeit copy.deepcopy(b3)"
   ]
  },
  {
   "cell_type": "markdown",
   "id": "223162fb",
   "metadata": {},
   "source": [
    "## Stack, Concat and Split Operation"
   ]
  },
  {
   "cell_type": "markdown",
   "id": "85fa4a73",
   "metadata": {},
   "source": [
    "### Performance of TreeValue"
   ]
  },
  {
   "cell_type": "code",
   "execution_count": 19,
   "id": "a0c2b697",
   "metadata": {
    "execution": {
     "iopub.execute_input": "2023-03-06T16:44:49.413449Z",
     "iopub.status.busy": "2023-03-06T16:44:49.412402Z",
     "iopub.status.idle": "2023-03-06T16:44:49.417130Z",
     "shell.execute_reply": "2023-03-06T16:44:49.416268Z"
    }
   },
   "outputs": [],
   "source": [
    "trees = [FastTreeValue(_TREE_DATA_2) for _ in range(8)]"
   ]
  },
  {
   "cell_type": "code",
   "execution_count": 20,
   "id": "017ea5a5",
   "metadata": {
    "execution": {
     "iopub.execute_input": "2023-03-06T16:44:49.420681Z",
     "iopub.status.busy": "2023-03-06T16:44:49.419755Z",
     "iopub.status.idle": "2023-03-06T16:44:49.428772Z",
     "shell.execute_reply": "2023-03-06T16:44:49.427998Z"
    }
   },
   "outputs": [
    {
     "data": {
      "text/plain": [
       "<FastTreeValue 0x7f4d10e858b0>\n",
       "├── 'a' --> tensor([[[ 0.6016,  1.7956,  0.0658],\n",
       "│                    [-0.4611,  0.8411, -1.0774]],\n",
       "│           \n",
       "│                   [[ 0.6016,  1.7956,  0.0658],\n",
       "│                    [-0.4611,  0.8411, -1.0774]],\n",
       "│           \n",
       "│                   [[ 0.6016,  1.7956,  0.0658],\n",
       "│                    [-0.4611,  0.8411, -1.0774]],\n",
       "│           \n",
       "│                   [[ 0.6016,  1.7956,  0.0658],\n",
       "│                    [-0.4611,  0.8411, -1.0774]],\n",
       "│           \n",
       "│                   [[ 0.6016,  1.7956,  0.0658],\n",
       "│                    [-0.4611,  0.8411, -1.0774]],\n",
       "│           \n",
       "│                   [[ 0.6016,  1.7956,  0.0658],\n",
       "│                    [-0.4611,  0.8411, -1.0774]],\n",
       "│           \n",
       "│                   [[ 0.6016,  1.7956,  0.0658],\n",
       "│                    [-0.4611,  0.8411, -1.0774]],\n",
       "│           \n",
       "│                   [[ 0.6016,  1.7956,  0.0658],\n",
       "│                    [-0.4611,  0.8411, -1.0774]]])\n",
       "└── 'x' --> <FastTreeValue 0x7f4d10e85ac0>\n",
       "    └── 'c' --> tensor([[[ 1.2556,  0.4568, -2.2765,  0.0121],\n",
       "                         [-0.4745,  0.7363,  0.3724,  0.1834],\n",
       "                         [ 0.3052, -1.2309, -0.0143, -1.0517]],\n",
       "                \n",
       "                        [[ 1.2556,  0.4568, -2.2765,  0.0121],\n",
       "                         [-0.4745,  0.7363,  0.3724,  0.1834],\n",
       "                         [ 0.3052, -1.2309, -0.0143, -1.0517]],\n",
       "                \n",
       "                        [[ 1.2556,  0.4568, -2.2765,  0.0121],\n",
       "                         [-0.4745,  0.7363,  0.3724,  0.1834],\n",
       "                         [ 0.3052, -1.2309, -0.0143, -1.0517]],\n",
       "                \n",
       "                        [[ 1.2556,  0.4568, -2.2765,  0.0121],\n",
       "                         [-0.4745,  0.7363,  0.3724,  0.1834],\n",
       "                         [ 0.3052, -1.2309, -0.0143, -1.0517]],\n",
       "                \n",
       "                        [[ 1.2556,  0.4568, -2.2765,  0.0121],\n",
       "                         [-0.4745,  0.7363,  0.3724,  0.1834],\n",
       "                         [ 0.3052, -1.2309, -0.0143, -1.0517]],\n",
       "                \n",
       "                        [[ 1.2556,  0.4568, -2.2765,  0.0121],\n",
       "                         [-0.4745,  0.7363,  0.3724,  0.1834],\n",
       "                         [ 0.3052, -1.2309, -0.0143, -1.0517]],\n",
       "                \n",
       "                        [[ 1.2556,  0.4568, -2.2765,  0.0121],\n",
       "                         [-0.4745,  0.7363,  0.3724,  0.1834],\n",
       "                         [ 0.3052, -1.2309, -0.0143, -1.0517]],\n",
       "                \n",
       "                        [[ 1.2556,  0.4568, -2.2765,  0.0121],\n",
       "                         [-0.4745,  0.7363,  0.3724,  0.1834],\n",
       "                         [ 0.3052, -1.2309, -0.0143, -1.0517]]])"
      ]
     },
     "execution_count": 20,
     "metadata": {},
     "output_type": "execute_result"
    }
   ],
   "source": [
    "t_stack = FastTreeValue.func(subside=True)(torch.stack)\n",
    "\n",
    "t_stack(trees)"
   ]
  },
  {
   "cell_type": "code",
   "execution_count": 21,
   "id": "f8b3f415",
   "metadata": {
    "execution": {
     "iopub.execute_input": "2023-03-06T16:44:49.432288Z",
     "iopub.status.busy": "2023-03-06T16:44:49.431328Z",
     "iopub.status.idle": "2023-03-06T16:44:52.029838Z",
     "shell.execute_reply": "2023-03-06T16:44:52.029118Z"
    }
   },
   "outputs": [
    {
     "name": "stdout",
     "output_type": "stream",
     "text": [
      "32 µs ± 57.1 ns per loop (mean ± std. dev. of 7 runs, 10,000 loops each)\n"
     ]
    }
   ],
   "source": [
    "%timeit t_stack(trees)"
   ]
  },
  {
   "cell_type": "code",
   "execution_count": 22,
   "id": "94b56771",
   "metadata": {
    "execution": {
     "iopub.execute_input": "2023-03-06T16:44:52.032943Z",
     "iopub.status.busy": "2023-03-06T16:44:52.032631Z",
     "iopub.status.idle": "2023-03-06T16:44:52.040558Z",
     "shell.execute_reply": "2023-03-06T16:44:52.039950Z"
    }
   },
   "outputs": [
    {
     "data": {
      "text/plain": [
       "<FastTreeValue 0x7f4d10e710a0>\n",
       "├── 'a' --> tensor([[ 0.6016,  1.7956,  0.0658],\n",
       "│                   [-0.4611,  0.8411, -1.0774],\n",
       "│                   [ 0.6016,  1.7956,  0.0658],\n",
       "│                   [-0.4611,  0.8411, -1.0774],\n",
       "│                   [ 0.6016,  1.7956,  0.0658],\n",
       "│                   [-0.4611,  0.8411, -1.0774],\n",
       "│                   [ 0.6016,  1.7956,  0.0658],\n",
       "│                   [-0.4611,  0.8411, -1.0774],\n",
       "│                   [ 0.6016,  1.7956,  0.0658],\n",
       "│                   [-0.4611,  0.8411, -1.0774],\n",
       "│                   [ 0.6016,  1.7956,  0.0658],\n",
       "│                   [-0.4611,  0.8411, -1.0774],\n",
       "│                   [ 0.6016,  1.7956,  0.0658],\n",
       "│                   [-0.4611,  0.8411, -1.0774],\n",
       "│                   [ 0.6016,  1.7956,  0.0658],\n",
       "│                   [-0.4611,  0.8411, -1.0774]])\n",
       "└── 'x' --> <FastTreeValue 0x7f4c64b807f0>\n",
       "    └── 'c' --> tensor([[ 1.2556,  0.4568, -2.2765,  0.0121],\n",
       "                        [-0.4745,  0.7363,  0.3724,  0.1834],\n",
       "                        [ 0.3052, -1.2309, -0.0143, -1.0517],\n",
       "                        [ 1.2556,  0.4568, -2.2765,  0.0121],\n",
       "                        [-0.4745,  0.7363,  0.3724,  0.1834],\n",
       "                        [ 0.3052, -1.2309, -0.0143, -1.0517],\n",
       "                        [ 1.2556,  0.4568, -2.2765,  0.0121],\n",
       "                        [-0.4745,  0.7363,  0.3724,  0.1834],\n",
       "                        [ 0.3052, -1.2309, -0.0143, -1.0517],\n",
       "                        [ 1.2556,  0.4568, -2.2765,  0.0121],\n",
       "                        [-0.4745,  0.7363,  0.3724,  0.1834],\n",
       "                        [ 0.3052, -1.2309, -0.0143, -1.0517],\n",
       "                        [ 1.2556,  0.4568, -2.2765,  0.0121],\n",
       "                        [-0.4745,  0.7363,  0.3724,  0.1834],\n",
       "                        [ 0.3052, -1.2309, -0.0143, -1.0517],\n",
       "                        [ 1.2556,  0.4568, -2.2765,  0.0121],\n",
       "                        [-0.4745,  0.7363,  0.3724,  0.1834],\n",
       "                        [ 0.3052, -1.2309, -0.0143, -1.0517],\n",
       "                        [ 1.2556,  0.4568, -2.2765,  0.0121],\n",
       "                        [-0.4745,  0.7363,  0.3724,  0.1834],\n",
       "                        [ 0.3052, -1.2309, -0.0143, -1.0517],\n",
       "                        [ 1.2556,  0.4568, -2.2765,  0.0121],\n",
       "                        [-0.4745,  0.7363,  0.3724,  0.1834],\n",
       "                        [ 0.3052, -1.2309, -0.0143, -1.0517]])"
      ]
     },
     "execution_count": 22,
     "metadata": {},
     "output_type": "execute_result"
    }
   ],
   "source": [
    "t_cat = FastTreeValue.func(subside=True)(torch.cat)\n",
    "\n",
    "t_cat(trees)"
   ]
  },
  {
   "cell_type": "code",
   "execution_count": 23,
   "id": "5e9c06a6",
   "metadata": {
    "execution": {
     "iopub.execute_input": "2023-03-06T16:44:52.043096Z",
     "iopub.status.busy": "2023-03-06T16:44:52.042767Z",
     "iopub.status.idle": "2023-03-06T16:44:54.479567Z",
     "shell.execute_reply": "2023-03-06T16:44:54.478849Z"
    }
   },
   "outputs": [
    {
     "name": "stdout",
     "output_type": "stream",
     "text": [
      "30 µs ± 74.5 ns per loop (mean ± std. dev. of 7 runs, 10,000 loops each)\n"
     ]
    }
   ],
   "source": [
    "%timeit t_cat(trees)"
   ]
  },
  {
   "cell_type": "code",
   "execution_count": 24,
   "id": "a3ab5c8f",
   "metadata": {
    "execution": {
     "iopub.execute_input": "2023-03-06T16:44:54.482783Z",
     "iopub.status.busy": "2023-03-06T16:44:54.482245Z",
     "iopub.status.idle": "2023-03-06T16:44:59.098775Z",
     "shell.execute_reply": "2023-03-06T16:44:59.098030Z"
    }
   },
   "outputs": [
    {
     "name": "stdout",
     "output_type": "stream",
     "text": [
      "56.8 µs ± 95.8 ns per loop (mean ± std. dev. of 7 runs, 10,000 loops each)\n"
     ]
    }
   ],
   "source": [
    "t_split = FastTreeValue.func(rise=True)(torch.split)\n",
    "tree = FastTreeValue({\n",
    "    'obs': torch.randn(8, 4, 84, 84),\n",
    "    'action': torch.randint(0, 6, size=(8, 1,)),\n",
    "    'reward': torch.rand(8, 1),\n",
    "})\n",
    "\n",
    "%timeit t_split(tree, 1)"
   ]
  },
  {
   "cell_type": "markdown",
   "id": "31c3ec0b",
   "metadata": {},
   "source": [
    "### Performance of Tianshou Batch"
   ]
  },
  {
   "cell_type": "code",
   "execution_count": 25,
   "id": "9ead828a",
   "metadata": {
    "execution": {
     "iopub.execute_input": "2023-03-06T16:44:59.101872Z",
     "iopub.status.busy": "2023-03-06T16:44:59.101332Z",
     "iopub.status.idle": "2023-03-06T16:44:59.109121Z",
     "shell.execute_reply": "2023-03-06T16:44:59.108509Z"
    }
   },
   "outputs": [
    {
     "data": {
      "text/plain": [
       "Batch(\n",
       "    a: tensor([[[ 0.6016,  1.7956,  0.0658],\n",
       "                [-0.4611,  0.8411, -1.0774]],\n",
       "       \n",
       "               [[ 0.6016,  1.7956,  0.0658],\n",
       "                [-0.4611,  0.8411, -1.0774]],\n",
       "       \n",
       "               [[ 0.6016,  1.7956,  0.0658],\n",
       "                [-0.4611,  0.8411, -1.0774]],\n",
       "       \n",
       "               [[ 0.6016,  1.7956,  0.0658],\n",
       "                [-0.4611,  0.8411, -1.0774]],\n",
       "       \n",
       "               [[ 0.6016,  1.7956,  0.0658],\n",
       "                [-0.4611,  0.8411, -1.0774]],\n",
       "       \n",
       "               [[ 0.6016,  1.7956,  0.0658],\n",
       "                [-0.4611,  0.8411, -1.0774]],\n",
       "       \n",
       "               [[ 0.6016,  1.7956,  0.0658],\n",
       "                [-0.4611,  0.8411, -1.0774]],\n",
       "       \n",
       "               [[ 0.6016,  1.7956,  0.0658],\n",
       "                [-0.4611,  0.8411, -1.0774]]]),\n",
       "    x: Batch(\n",
       "           c: tensor([[[ 1.2556,  0.4568, -2.2765,  0.0121],\n",
       "                       [-0.4745,  0.7363,  0.3724,  0.1834],\n",
       "                       [ 0.3052, -1.2309, -0.0143, -1.0517]],\n",
       "              \n",
       "                      [[ 1.2556,  0.4568, -2.2765,  0.0121],\n",
       "                       [-0.4745,  0.7363,  0.3724,  0.1834],\n",
       "                       [ 0.3052, -1.2309, -0.0143, -1.0517]],\n",
       "              \n",
       "                      [[ 1.2556,  0.4568, -2.2765,  0.0121],\n",
       "                       [-0.4745,  0.7363,  0.3724,  0.1834],\n",
       "                       [ 0.3052, -1.2309, -0.0143, -1.0517]],\n",
       "              \n",
       "                      [[ 1.2556,  0.4568, -2.2765,  0.0121],\n",
       "                       [-0.4745,  0.7363,  0.3724,  0.1834],\n",
       "                       [ 0.3052, -1.2309, -0.0143, -1.0517]],\n",
       "              \n",
       "                      [[ 1.2556,  0.4568, -2.2765,  0.0121],\n",
       "                       [-0.4745,  0.7363,  0.3724,  0.1834],\n",
       "                       [ 0.3052, -1.2309, -0.0143, -1.0517]],\n",
       "              \n",
       "                      [[ 1.2556,  0.4568, -2.2765,  0.0121],\n",
       "                       [-0.4745,  0.7363,  0.3724,  0.1834],\n",
       "                       [ 0.3052, -1.2309, -0.0143, -1.0517]],\n",
       "              \n",
       "                      [[ 1.2556,  0.4568, -2.2765,  0.0121],\n",
       "                       [-0.4745,  0.7363,  0.3724,  0.1834],\n",
       "                       [ 0.3052, -1.2309, -0.0143, -1.0517]],\n",
       "              \n",
       "                      [[ 1.2556,  0.4568, -2.2765,  0.0121],\n",
       "                       [-0.4745,  0.7363,  0.3724,  0.1834],\n",
       "                       [ 0.3052, -1.2309, -0.0143, -1.0517]]]),\n",
       "       ),\n",
       ")"
      ]
     },
     "execution_count": 25,
     "metadata": {},
     "output_type": "execute_result"
    }
   ],
   "source": [
    "batches = [Batch(**_TREE_DATA_2) for _ in range(8)]\n",
    "\n",
    "Batch.stack(batches)"
   ]
  },
  {
   "cell_type": "code",
   "execution_count": 26,
   "id": "ec9037a3",
   "metadata": {
    "execution": {
     "iopub.execute_input": "2023-03-06T16:44:59.111594Z",
     "iopub.status.busy": "2023-03-06T16:44:59.111245Z",
     "iopub.status.idle": "2023-03-06T16:45:05.433261Z",
     "shell.execute_reply": "2023-03-06T16:45:05.432583Z"
    }
   },
   "outputs": [
    {
     "name": "stdout",
     "output_type": "stream",
     "text": [
      "77.7 µs ± 135 ns per loop (mean ± std. dev. of 7 runs, 10,000 loops each)\n"
     ]
    }
   ],
   "source": [
    "%timeit Batch.stack(batches)"
   ]
  },
  {
   "cell_type": "code",
   "execution_count": 27,
   "id": "cb8ab77e",
   "metadata": {
    "execution": {
     "iopub.execute_input": "2023-03-06T16:45:05.436286Z",
     "iopub.status.busy": "2023-03-06T16:45:05.435929Z",
     "iopub.status.idle": "2023-03-06T16:45:05.444412Z",
     "shell.execute_reply": "2023-03-06T16:45:05.443827Z"
    }
   },
   "outputs": [
    {
     "data": {
      "text/plain": [
       "Batch(\n",
       "    a: tensor([[ 0.6016,  1.7956,  0.0658],\n",
       "               [-0.4611,  0.8411, -1.0774],\n",
       "               [ 0.6016,  1.7956,  0.0658],\n",
       "               [-0.4611,  0.8411, -1.0774],\n",
       "               [ 0.6016,  1.7956,  0.0658],\n",
       "               [-0.4611,  0.8411, -1.0774],\n",
       "               [ 0.6016,  1.7956,  0.0658],\n",
       "               [-0.4611,  0.8411, -1.0774],\n",
       "               [ 0.6016,  1.7956,  0.0658],\n",
       "               [-0.4611,  0.8411, -1.0774],\n",
       "               [ 0.6016,  1.7956,  0.0658],\n",
       "               [-0.4611,  0.8411, -1.0774],\n",
       "               [ 0.6016,  1.7956,  0.0658],\n",
       "               [-0.4611,  0.8411, -1.0774],\n",
       "               [ 0.6016,  1.7956,  0.0658],\n",
       "               [-0.4611,  0.8411, -1.0774]]),\n",
       "    x: Batch(\n",
       "           c: tensor([[ 1.2556,  0.4568, -2.2765,  0.0121],\n",
       "                      [-0.4745,  0.7363,  0.3724,  0.1834],\n",
       "                      [ 0.3052, -1.2309, -0.0143, -1.0517],\n",
       "                      [ 1.2556,  0.4568, -2.2765,  0.0121],\n",
       "                      [-0.4745,  0.7363,  0.3724,  0.1834],\n",
       "                      [ 0.3052, -1.2309, -0.0143, -1.0517],\n",
       "                      [ 1.2556,  0.4568, -2.2765,  0.0121],\n",
       "                      [-0.4745,  0.7363,  0.3724,  0.1834],\n",
       "                      [ 0.3052, -1.2309, -0.0143, -1.0517],\n",
       "                      [ 1.2556,  0.4568, -2.2765,  0.0121],\n",
       "                      [-0.4745,  0.7363,  0.3724,  0.1834],\n",
       "                      [ 0.3052, -1.2309, -0.0143, -1.0517],\n",
       "                      [ 1.2556,  0.4568, -2.2765,  0.0121],\n",
       "                      [-0.4745,  0.7363,  0.3724,  0.1834],\n",
       "                      [ 0.3052, -1.2309, -0.0143, -1.0517],\n",
       "                      [ 1.2556,  0.4568, -2.2765,  0.0121],\n",
       "                      [-0.4745,  0.7363,  0.3724,  0.1834],\n",
       "                      [ 0.3052, -1.2309, -0.0143, -1.0517],\n",
       "                      [ 1.2556,  0.4568, -2.2765,  0.0121],\n",
       "                      [-0.4745,  0.7363,  0.3724,  0.1834],\n",
       "                      [ 0.3052, -1.2309, -0.0143, -1.0517],\n",
       "                      [ 1.2556,  0.4568, -2.2765,  0.0121],\n",
       "                      [-0.4745,  0.7363,  0.3724,  0.1834],\n",
       "                      [ 0.3052, -1.2309, -0.0143, -1.0517]]),\n",
       "       ),\n",
       ")"
      ]
     },
     "execution_count": 27,
     "metadata": {},
     "output_type": "execute_result"
    }
   ],
   "source": [
    "Batch.cat(batches)"
   ]
  },
  {
   "cell_type": "code",
   "execution_count": 28,
   "id": "18dfb045",
   "metadata": {
    "execution": {
     "iopub.execute_input": "2023-03-06T16:45:05.447073Z",
     "iopub.status.busy": "2023-03-06T16:45:05.446579Z",
     "iopub.status.idle": "2023-03-06T16:45:17.136442Z",
     "shell.execute_reply": "2023-03-06T16:45:17.135766Z"
    }
   },
   "outputs": [
    {
     "name": "stdout",
     "output_type": "stream",
     "text": [
      "144 µs ± 423 ns per loop (mean ± std. dev. of 7 runs, 10,000 loops each)\n"
     ]
    }
   ],
   "source": [
    "%timeit Batch.cat(batches)"
   ]
  },
  {
   "cell_type": "code",
   "execution_count": 29,
   "id": "c6688e51",
   "metadata": {
    "execution": {
     "iopub.execute_input": "2023-03-06T16:45:17.139430Z",
     "iopub.status.busy": "2023-03-06T16:45:17.139076Z",
     "iopub.status.idle": "2023-03-06T16:45:19.691746Z",
     "shell.execute_reply": "2023-03-06T16:45:19.691138Z"
    }
   },
   "outputs": [
    {
     "name": "stdout",
     "output_type": "stream",
     "text": [
      "314 µs ± 2.57 µs per loop (mean ± std. dev. of 7 runs, 1,000 loops each)\n"
     ]
    }
   ],
   "source": [
    "batch = Batch({\n",
    "    'obs': torch.randn(8, 4, 84, 84),\n",
    "    'action': torch.randint(0, 6, size=(8, 1,)),\n",
    "    'reward': torch.rand(8, 1)}\n",
    ")\n",
    "\n",
    "%timeit list(Batch.split(batch, 1, shuffle=False, merge_last=True))"
   ]
  },
  {
   "cell_type": "code",
   "execution_count": null,
   "id": "2539fbd9",
   "metadata": {},
   "outputs": [],
   "source": []
  }
 ],
 "metadata": {
  "kernelspec": {
   "display_name": "Python 3 (ipykernel)",
   "language": "python",
   "name": "python3"
  },
  "language_info": {
   "codemirror_mode": {
    "name": "ipython",
    "version": 3
   },
   "file_extension": ".py",
   "mimetype": "text/x-python",
   "name": "python",
   "nbconvert_exporter": "python",
   "pygments_lexer": "ipython3",
   "version": "3.8.16"
  }
 },
 "nbformat": 4,
 "nbformat_minor": 5
}
