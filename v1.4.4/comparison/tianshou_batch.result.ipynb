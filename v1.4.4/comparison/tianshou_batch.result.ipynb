{
 "cells": [
  {
   "cell_type": "markdown",
   "id": "9d39d946",
   "metadata": {},
   "source": [
    "# Comparison Between TreeValue and Tianshou Batch"
   ]
  },
  {
   "cell_type": "markdown",
   "id": "3c6db2d4",
   "metadata": {},
   "source": [
    "In this section, we will take a look at the feature and performance of the [Tianshou Batch](https://github.com/thu-ml/tianshou) library, which is developed by Tsinghua Machine Learning Group."
   ]
  },
  {
   "cell_type": "markdown",
   "id": "069361b0",
   "metadata": {},
   "source": [
    "Before starting the comparison, let us define some thing."
   ]
  },
  {
   "cell_type": "code",
   "execution_count": 1,
   "id": "06fc8d26",
   "metadata": {
    "execution": {
     "iopub.execute_input": "2023-02-24T07:14:53.045709Z",
     "iopub.status.busy": "2023-02-24T07:14:53.045223Z",
     "iopub.status.idle": "2023-02-24T07:14:53.960444Z",
     "shell.execute_reply": "2023-02-24T07:14:53.959784Z"
    }
   },
   "outputs": [
    {
     "name": "stderr",
     "output_type": "stream",
     "text": [
      "/opt/hostedtoolcache/Python/3.8.16/x64/lib/python3.8/site-packages/tqdm/auto.py:22: TqdmWarning: IProgress not found. Please update jupyter and ipywidgets. See https://ipywidgets.readthedocs.io/en/stable/user_install.html\n",
      "  from .autonotebook import tqdm as notebook_tqdm\n"
     ]
    }
   ],
   "source": [
    "import torch \n",
    "\n",
    "_TREE_DATA_1 = {'a': 1, 'b': 2, 'x': {'c': 3, 'd': 4}}\n",
    "_TREE_DATA_2 = {\n",
    "    'a': torch.randn(2, 3), \n",
    "    'x': {\n",
    "        'c': torch.randn(3, 4)\n",
    "    },\n",
    "}\n",
    "_TREE_DATA_3 = {\n",
    "    'obs': torch.randn(4, 84, 84),\n",
    "    'action': torch.randint(0, 6, size=(1,)),\n",
    "    'reward': torch.rand(1),\n",
    "}"
   ]
  },
  {
   "cell_type": "markdown",
   "id": "83461b25",
   "metadata": {},
   "source": [
    "## Read and Write Operation"
   ]
  },
  {
   "cell_type": "markdown",
   "id": "067b3f73",
   "metadata": {},
   "source": [
    "Reading and writing are the two most common operations in the tree data structure based on the data model (TreeValue and Tianshou Batch both belong to this type), so this section will compare the reading and writing performance of these two libraries."
   ]
  },
  {
   "cell_type": "markdown",
   "id": "5d09a5b7",
   "metadata": {},
   "source": [
    "### TreeValue's Get and Set"
   ]
  },
  {
   "cell_type": "code",
   "execution_count": 2,
   "id": "9519c4bb",
   "metadata": {
    "execution": {
     "iopub.execute_input": "2023-02-24T07:14:53.963984Z",
     "iopub.status.busy": "2023-02-24T07:14:53.963331Z",
     "iopub.status.idle": "2023-02-24T07:14:53.995931Z",
     "shell.execute_reply": "2023-02-24T07:14:53.995332Z"
    }
   },
   "outputs": [],
   "source": [
    "from treevalue import FastTreeValue\n",
    "\n",
    "t = FastTreeValue(_TREE_DATA_2)"
   ]
  },
  {
   "cell_type": "code",
   "execution_count": 3,
   "id": "11c37677",
   "metadata": {
    "execution": {
     "iopub.execute_input": "2023-02-24T07:14:53.998666Z",
     "iopub.status.busy": "2023-02-24T07:14:53.998243Z",
     "iopub.status.idle": "2023-02-24T07:14:54.007359Z",
     "shell.execute_reply": "2023-02-24T07:14:54.006796Z"
    }
   },
   "outputs": [
    {
     "data": {
      "text/plain": [
       "<FastTreeValue 0x7f3670d8b5b0>\n",
       "├── 'a' --> tensor([[-0.2713,  0.9071, -1.5831],\n",
       "│                   [-0.9901,  0.3521, -0.0310]])\n",
       "└── 'x' --> <FastTreeValue 0x7f3670d163a0>\n",
       "    └── 'c' --> tensor([[ 0.2481, -1.2715,  0.1181, -0.3858],\n",
       "                        [-0.1869, -0.6934, -0.5251, -0.9666],\n",
       "                        [ 1.3810,  0.9269, -0.6675,  0.4139]])"
      ]
     },
     "execution_count": 3,
     "metadata": {},
     "output_type": "execute_result"
    }
   ],
   "source": [
    "t"
   ]
  },
  {
   "cell_type": "code",
   "execution_count": 4,
   "id": "fd70b0b9",
   "metadata": {
    "execution": {
     "iopub.execute_input": "2023-02-24T07:14:54.009824Z",
     "iopub.status.busy": "2023-02-24T07:14:54.009489Z",
     "iopub.status.idle": "2023-02-24T07:14:54.014033Z",
     "shell.execute_reply": "2023-02-24T07:14:54.013413Z"
    }
   },
   "outputs": [
    {
     "data": {
      "text/plain": [
       "tensor([[-0.2713,  0.9071, -1.5831],\n",
       "        [-0.9901,  0.3521, -0.0310]])"
      ]
     },
     "execution_count": 4,
     "metadata": {},
     "output_type": "execute_result"
    }
   ],
   "source": [
    "t.a"
   ]
  },
  {
   "cell_type": "code",
   "execution_count": 5,
   "id": "c18197bd",
   "metadata": {
    "execution": {
     "iopub.execute_input": "2023-02-24T07:14:54.016712Z",
     "iopub.status.busy": "2023-02-24T07:14:54.016383Z",
     "iopub.status.idle": "2023-02-24T07:14:59.194063Z",
     "shell.execute_reply": "2023-02-24T07:14:59.193187Z"
    }
   },
   "outputs": [
    {
     "name": "stdout",
     "output_type": "stream",
     "text": [
      "63.8 ns ± 0.0472 ns per loop (mean ± std. dev. of 7 runs, 10,000,000 loops each)\n"
     ]
    }
   ],
   "source": [
    "%timeit t.a"
   ]
  },
  {
   "cell_type": "code",
   "execution_count": 6,
   "id": "bd52f867",
   "metadata": {
    "execution": {
     "iopub.execute_input": "2023-02-24T07:14:59.196973Z",
     "iopub.status.busy": "2023-02-24T07:14:59.196605Z",
     "iopub.status.idle": "2023-02-24T07:14:59.203292Z",
     "shell.execute_reply": "2023-02-24T07:14:59.202711Z"
    }
   },
   "outputs": [
    {
     "data": {
      "text/plain": [
       "<FastTreeValue 0x7f3670d8b5b0>\n",
       "├── 'a' --> tensor([[ 0.4456, -0.0099,  0.8542],\n",
       "│                   [ 0.2772,  1.4803,  0.0907]])\n",
       "└── 'x' --> <FastTreeValue 0x7f3670d163a0>\n",
       "    └── 'c' --> tensor([[ 0.2481, -1.2715,  0.1181, -0.3858],\n",
       "                        [-0.1869, -0.6934, -0.5251, -0.9666],\n",
       "                        [ 1.3810,  0.9269, -0.6675,  0.4139]])"
      ]
     },
     "execution_count": 6,
     "metadata": {},
     "output_type": "execute_result"
    }
   ],
   "source": [
    "new_value = torch.randn(2, 3)\n",
    "t.a = new_value\n",
    "\n",
    "t"
   ]
  },
  {
   "cell_type": "code",
   "execution_count": 7,
   "id": "bbe04d1c",
   "metadata": {
    "execution": {
     "iopub.execute_input": "2023-02-24T07:14:59.205821Z",
     "iopub.status.busy": "2023-02-24T07:14:59.205603Z",
     "iopub.status.idle": "2023-02-24T07:15:04.689692Z",
     "shell.execute_reply": "2023-02-24T07:15:04.688971Z"
    }
   },
   "outputs": [
    {
     "name": "stdout",
     "output_type": "stream",
     "text": [
      "67.2 ns ± 0.0836 ns per loop (mean ± std. dev. of 7 runs, 10,000,000 loops each)\n"
     ]
    }
   ],
   "source": [
    "%timeit t.a = new_value"
   ]
  },
  {
   "cell_type": "markdown",
   "id": "48c49731",
   "metadata": {},
   "source": [
    "### Tianshou Batch's Get and Set"
   ]
  },
  {
   "cell_type": "code",
   "execution_count": 8,
   "id": "f1bb14c1",
   "metadata": {
    "execution": {
     "iopub.execute_input": "2023-02-24T07:15:04.692793Z",
     "iopub.status.busy": "2023-02-24T07:15:04.692232Z",
     "iopub.status.idle": "2023-02-24T07:15:05.024072Z",
     "shell.execute_reply": "2023-02-24T07:15:05.023413Z"
    }
   },
   "outputs": [],
   "source": [
    "from tianshou.data import Batch\n",
    "\n",
    "b = Batch(**_TREE_DATA_2)"
   ]
  },
  {
   "cell_type": "code",
   "execution_count": 9,
   "id": "cb0777c3",
   "metadata": {
    "execution": {
     "iopub.execute_input": "2023-02-24T07:15:05.027512Z",
     "iopub.status.busy": "2023-02-24T07:15:05.026951Z",
     "iopub.status.idle": "2023-02-24T07:15:05.032370Z",
     "shell.execute_reply": "2023-02-24T07:15:05.031761Z"
    }
   },
   "outputs": [
    {
     "data": {
      "text/plain": [
       "Batch(\n",
       "    a: tensor([[-0.2713,  0.9071, -1.5831],\n",
       "               [-0.9901,  0.3521, -0.0310]]),\n",
       "    x: Batch(\n",
       "           c: tensor([[ 0.2481, -1.2715,  0.1181, -0.3858],\n",
       "                      [-0.1869, -0.6934, -0.5251, -0.9666],\n",
       "                      [ 1.3810,  0.9269, -0.6675,  0.4139]]),\n",
       "       ),\n",
       ")"
      ]
     },
     "execution_count": 9,
     "metadata": {},
     "output_type": "execute_result"
    }
   ],
   "source": [
    "b"
   ]
  },
  {
   "cell_type": "code",
   "execution_count": 10,
   "id": "43ef8ea3",
   "metadata": {
    "execution": {
     "iopub.execute_input": "2023-02-24T07:15:05.035017Z",
     "iopub.status.busy": "2023-02-24T07:15:05.034669Z",
     "iopub.status.idle": "2023-02-24T07:15:05.039423Z",
     "shell.execute_reply": "2023-02-24T07:15:05.038805Z"
    }
   },
   "outputs": [
    {
     "data": {
      "text/plain": [
       "tensor([[-0.2713,  0.9071, -1.5831],\n",
       "        [-0.9901,  0.3521, -0.0310]])"
      ]
     },
     "execution_count": 10,
     "metadata": {},
     "output_type": "execute_result"
    }
   ],
   "source": [
    "b.a"
   ]
  },
  {
   "cell_type": "code",
   "execution_count": 11,
   "id": "b785ab72",
   "metadata": {
    "execution": {
     "iopub.execute_input": "2023-02-24T07:15:05.042094Z",
     "iopub.status.busy": "2023-02-24T07:15:05.041541Z",
     "iopub.status.idle": "2023-02-24T07:15:09.512051Z",
     "shell.execute_reply": "2023-02-24T07:15:09.511343Z"
    }
   },
   "outputs": [
    {
     "name": "stdout",
     "output_type": "stream",
     "text": [
      "55 ns ± 0.0252 ns per loop (mean ± std. dev. of 7 runs, 10,000,000 loops each)\n"
     ]
    }
   ],
   "source": [
    "%timeit b.a"
   ]
  },
  {
   "cell_type": "code",
   "execution_count": 12,
   "id": "ad54dc69",
   "metadata": {
    "execution": {
     "iopub.execute_input": "2023-02-24T07:15:09.514880Z",
     "iopub.status.busy": "2023-02-24T07:15:09.514510Z",
     "iopub.status.idle": "2023-02-24T07:15:09.520214Z",
     "shell.execute_reply": "2023-02-24T07:15:09.519611Z"
    }
   },
   "outputs": [
    {
     "data": {
      "text/plain": [
       "Batch(\n",
       "    a: tensor([[-0.7732, -0.6196,  1.1367],\n",
       "               [-0.6762, -0.0310,  0.9926]]),\n",
       "    x: Batch(\n",
       "           c: tensor([[ 0.2481, -1.2715,  0.1181, -0.3858],\n",
       "                      [-0.1869, -0.6934, -0.5251, -0.9666],\n",
       "                      [ 1.3810,  0.9269, -0.6675,  0.4139]]),\n",
       "       ),\n",
       ")"
      ]
     },
     "execution_count": 12,
     "metadata": {},
     "output_type": "execute_result"
    }
   ],
   "source": [
    "new_value = torch.randn(2, 3)\n",
    "b.a = new_value\n",
    "\n",
    "b"
   ]
  },
  {
   "cell_type": "code",
   "execution_count": 13,
   "id": "29b1d0bf",
   "metadata": {
    "execution": {
     "iopub.execute_input": "2023-02-24T07:15:09.522672Z",
     "iopub.status.busy": "2023-02-24T07:15:09.522333Z",
     "iopub.status.idle": "2023-02-24T07:15:13.517264Z",
     "shell.execute_reply": "2023-02-24T07:15:13.516567Z"
    }
   },
   "outputs": [
    {
     "name": "stdout",
     "output_type": "stream",
     "text": [
      "491 ns ± 0.119 ns per loop (mean ± std. dev. of 7 runs, 1,000,000 loops each)\n"
     ]
    }
   ],
   "source": [
    "%timeit b.a = new_value"
   ]
  },
  {
   "cell_type": "markdown",
   "id": "b61ad1d0",
   "metadata": {},
   "source": [
    "## Initialization"
   ]
  },
  {
   "cell_type": "markdown",
   "id": "d70f0d54",
   "metadata": {},
   "source": [
    "### TreeValue's Initialization"
   ]
  },
  {
   "cell_type": "code",
   "execution_count": 14,
   "id": "d32a679b",
   "metadata": {
    "execution": {
     "iopub.execute_input": "2023-02-24T07:15:13.520411Z",
     "iopub.status.busy": "2023-02-24T07:15:13.520046Z",
     "iopub.status.idle": "2023-02-24T07:15:20.482095Z",
     "shell.execute_reply": "2023-02-24T07:15:20.481390Z"
    }
   },
   "outputs": [
    {
     "name": "stdout",
     "output_type": "stream",
     "text": [
      "858 ns ± 1.95 ns per loop (mean ± std. dev. of 7 runs, 1,000,000 loops each)\n"
     ]
    }
   ],
   "source": [
    "%timeit FastTreeValue(_TREE_DATA_1)"
   ]
  },
  {
   "cell_type": "markdown",
   "id": "24f3707b",
   "metadata": {},
   "source": [
    "### Tianshou Batch's Initialization"
   ]
  },
  {
   "cell_type": "code",
   "execution_count": 15,
   "id": "ac3958df",
   "metadata": {
    "execution": {
     "iopub.execute_input": "2023-02-24T07:15:20.485534Z",
     "iopub.status.busy": "2023-02-24T07:15:20.484893Z",
     "iopub.status.idle": "2023-02-24T07:15:29.608850Z",
     "shell.execute_reply": "2023-02-24T07:15:29.608135Z"
    }
   },
   "outputs": [
    {
     "name": "stdout",
     "output_type": "stream",
     "text": [
      "11.2 µs ± 29.3 ns per loop (mean ± std. dev. of 7 runs, 100,000 loops each)\n"
     ]
    }
   ],
   "source": [
    "%timeit Batch(**_TREE_DATA_1)"
   ]
  },
  {
   "cell_type": "markdown",
   "id": "1ab82e2d",
   "metadata": {},
   "source": [
    "## Deep Copy Operation"
   ]
  },
  {
   "cell_type": "code",
   "execution_count": 16,
   "id": "210a9442",
   "metadata": {
    "execution": {
     "iopub.execute_input": "2023-02-24T07:15:29.612130Z",
     "iopub.status.busy": "2023-02-24T07:15:29.611623Z",
     "iopub.status.idle": "2023-02-24T07:15:29.615637Z",
     "shell.execute_reply": "2023-02-24T07:15:29.615029Z"
    }
   },
   "outputs": [],
   "source": [
    "import copy"
   ]
  },
  {
   "cell_type": "markdown",
   "id": "5a736274",
   "metadata": {},
   "source": [
    "### Deep Copy of TreeValue"
   ]
  },
  {
   "cell_type": "code",
   "execution_count": 17,
   "id": "f9bcadd6",
   "metadata": {
    "execution": {
     "iopub.execute_input": "2023-02-24T07:15:29.618611Z",
     "iopub.status.busy": "2023-02-24T07:15:29.617958Z",
     "iopub.status.idle": "2023-02-24T07:15:40.900127Z",
     "shell.execute_reply": "2023-02-24T07:15:40.899567Z"
    }
   },
   "outputs": [
    {
     "name": "stdout",
     "output_type": "stream",
     "text": [
      "139 µs ± 405 ns per loop (mean ± std. dev. of 7 runs, 10,000 loops each)\n"
     ]
    }
   ],
   "source": [
    "t3 = FastTreeValue(_TREE_DATA_3)\n",
    "%timeit copy.deepcopy(t3)"
   ]
  },
  {
   "cell_type": "markdown",
   "id": "bf8be7ea",
   "metadata": {},
   "source": [
    "### Deep Copy of Tianshou Batch"
   ]
  },
  {
   "cell_type": "code",
   "execution_count": 18,
   "id": "91998e6f",
   "metadata": {
    "execution": {
     "iopub.execute_input": "2023-02-24T07:15:40.904193Z",
     "iopub.status.busy": "2023-02-24T07:15:40.903228Z",
     "iopub.status.idle": "2023-02-24T07:15:52.502453Z",
     "shell.execute_reply": "2023-02-24T07:15:52.501854Z"
    }
   },
   "outputs": [
    {
     "name": "stdout",
     "output_type": "stream",
     "text": [
      "143 µs ± 988 ns per loop (mean ± std. dev. of 7 runs, 10,000 loops each)\n"
     ]
    }
   ],
   "source": [
    "b3 = Batch(**_TREE_DATA_3)\n",
    "%timeit copy.deepcopy(b3)"
   ]
  },
  {
   "cell_type": "markdown",
   "id": "223162fb",
   "metadata": {},
   "source": [
    "## Stack, Concat and Split Operation"
   ]
  },
  {
   "cell_type": "markdown",
   "id": "85fa4a73",
   "metadata": {},
   "source": [
    "### Performance of TreeValue"
   ]
  },
  {
   "cell_type": "code",
   "execution_count": 19,
   "id": "a0c2b697",
   "metadata": {
    "execution": {
     "iopub.execute_input": "2023-02-24T07:15:52.506472Z",
     "iopub.status.busy": "2023-02-24T07:15:52.505499Z",
     "iopub.status.idle": "2023-02-24T07:15:52.509796Z",
     "shell.execute_reply": "2023-02-24T07:15:52.509268Z"
    }
   },
   "outputs": [],
   "source": [
    "trees = [FastTreeValue(_TREE_DATA_2) for _ in range(8)]"
   ]
  },
  {
   "cell_type": "code",
   "execution_count": 20,
   "id": "017ea5a5",
   "metadata": {
    "execution": {
     "iopub.execute_input": "2023-02-24T07:15:52.513297Z",
     "iopub.status.busy": "2023-02-24T07:15:52.512464Z",
     "iopub.status.idle": "2023-02-24T07:15:52.520110Z",
     "shell.execute_reply": "2023-02-24T07:15:52.519468Z"
    }
   },
   "outputs": [
    {
     "data": {
      "text/plain": [
       "<FastTreeValue 0x7f3648180790>\n",
       "├── 'a' --> tensor([[[-0.2713,  0.9071, -1.5831],\n",
       "│                    [-0.9901,  0.3521, -0.0310]],\n",
       "│           \n",
       "│                   [[-0.2713,  0.9071, -1.5831],\n",
       "│                    [-0.9901,  0.3521, -0.0310]],\n",
       "│           \n",
       "│                   [[-0.2713,  0.9071, -1.5831],\n",
       "│                    [-0.9901,  0.3521, -0.0310]],\n",
       "│           \n",
       "│                   [[-0.2713,  0.9071, -1.5831],\n",
       "│                    [-0.9901,  0.3521, -0.0310]],\n",
       "│           \n",
       "│                   [[-0.2713,  0.9071, -1.5831],\n",
       "│                    [-0.9901,  0.3521, -0.0310]],\n",
       "│           \n",
       "│                   [[-0.2713,  0.9071, -1.5831],\n",
       "│                    [-0.9901,  0.3521, -0.0310]],\n",
       "│           \n",
       "│                   [[-0.2713,  0.9071, -1.5831],\n",
       "│                    [-0.9901,  0.3521, -0.0310]],\n",
       "│           \n",
       "│                   [[-0.2713,  0.9071, -1.5831],\n",
       "│                    [-0.9901,  0.3521, -0.0310]]])\n",
       "└── 'x' --> <FastTreeValue 0x7f3670d16cd0>\n",
       "    └── 'c' --> tensor([[[ 0.2481, -1.2715,  0.1181, -0.3858],\n",
       "                         [-0.1869, -0.6934, -0.5251, -0.9666],\n",
       "                         [ 1.3810,  0.9269, -0.6675,  0.4139]],\n",
       "                \n",
       "                        [[ 0.2481, -1.2715,  0.1181, -0.3858],\n",
       "                         [-0.1869, -0.6934, -0.5251, -0.9666],\n",
       "                         [ 1.3810,  0.9269, -0.6675,  0.4139]],\n",
       "                \n",
       "                        [[ 0.2481, -1.2715,  0.1181, -0.3858],\n",
       "                         [-0.1869, -0.6934, -0.5251, -0.9666],\n",
       "                         [ 1.3810,  0.9269, -0.6675,  0.4139]],\n",
       "                \n",
       "                        [[ 0.2481, -1.2715,  0.1181, -0.3858],\n",
       "                         [-0.1869, -0.6934, -0.5251, -0.9666],\n",
       "                         [ 1.3810,  0.9269, -0.6675,  0.4139]],\n",
       "                \n",
       "                        [[ 0.2481, -1.2715,  0.1181, -0.3858],\n",
       "                         [-0.1869, -0.6934, -0.5251, -0.9666],\n",
       "                         [ 1.3810,  0.9269, -0.6675,  0.4139]],\n",
       "                \n",
       "                        [[ 0.2481, -1.2715,  0.1181, -0.3858],\n",
       "                         [-0.1869, -0.6934, -0.5251, -0.9666],\n",
       "                         [ 1.3810,  0.9269, -0.6675,  0.4139]],\n",
       "                \n",
       "                        [[ 0.2481, -1.2715,  0.1181, -0.3858],\n",
       "                         [-0.1869, -0.6934, -0.5251, -0.9666],\n",
       "                         [ 1.3810,  0.9269, -0.6675,  0.4139]],\n",
       "                \n",
       "                        [[ 0.2481, -1.2715,  0.1181, -0.3858],\n",
       "                         [-0.1869, -0.6934, -0.5251, -0.9666],\n",
       "                         [ 1.3810,  0.9269, -0.6675,  0.4139]]])"
      ]
     },
     "execution_count": 20,
     "metadata": {},
     "output_type": "execute_result"
    }
   ],
   "source": [
    "t_stack = FastTreeValue.func(subside=True)(torch.stack)\n",
    "\n",
    "t_stack(trees)"
   ]
  },
  {
   "cell_type": "code",
   "execution_count": 21,
   "id": "f8b3f415",
   "metadata": {
    "execution": {
     "iopub.execute_input": "2023-02-24T07:15:52.522676Z",
     "iopub.status.busy": "2023-02-24T07:15:52.522338Z",
     "iopub.status.idle": "2023-02-24T07:15:55.215085Z",
     "shell.execute_reply": "2023-02-24T07:15:55.214361Z"
    }
   },
   "outputs": [
    {
     "name": "stdout",
     "output_type": "stream",
     "text": [
      "33.1 µs ± 45.9 ns per loop (mean ± std. dev. of 7 runs, 10,000 loops each)\n"
     ]
    }
   ],
   "source": [
    "%timeit t_stack(trees)"
   ]
  },
  {
   "cell_type": "code",
   "execution_count": 22,
   "id": "94b56771",
   "metadata": {
    "execution": {
     "iopub.execute_input": "2023-02-24T07:15:55.218428Z",
     "iopub.status.busy": "2023-02-24T07:15:55.217860Z",
     "iopub.status.idle": "2023-02-24T07:15:55.225839Z",
     "shell.execute_reply": "2023-02-24T07:15:55.225281Z"
    }
   },
   "outputs": [
    {
     "data": {
      "text/plain": [
       "<FastTreeValue 0x7f364818b310>\n",
       "├── 'a' --> tensor([[-0.2713,  0.9071, -1.5831],\n",
       "│                   [-0.9901,  0.3521, -0.0310],\n",
       "│                   [-0.2713,  0.9071, -1.5831],\n",
       "│                   [-0.9901,  0.3521, -0.0310],\n",
       "│                   [-0.2713,  0.9071, -1.5831],\n",
       "│                   [-0.9901,  0.3521, -0.0310],\n",
       "│                   [-0.2713,  0.9071, -1.5831],\n",
       "│                   [-0.9901,  0.3521, -0.0310],\n",
       "│                   [-0.2713,  0.9071, -1.5831],\n",
       "│                   [-0.9901,  0.3521, -0.0310],\n",
       "│                   [-0.2713,  0.9071, -1.5831],\n",
       "│                   [-0.9901,  0.3521, -0.0310],\n",
       "│                   [-0.2713,  0.9071, -1.5831],\n",
       "│                   [-0.9901,  0.3521, -0.0310],\n",
       "│                   [-0.2713,  0.9071, -1.5831],\n",
       "│                   [-0.9901,  0.3521, -0.0310]])\n",
       "└── 'x' --> <FastTreeValue 0x7f3670d16370>\n",
       "    └── 'c' --> tensor([[ 0.2481, -1.2715,  0.1181, -0.3858],\n",
       "                        [-0.1869, -0.6934, -0.5251, -0.9666],\n",
       "                        [ 1.3810,  0.9269, -0.6675,  0.4139],\n",
       "                        [ 0.2481, -1.2715,  0.1181, -0.3858],\n",
       "                        [-0.1869, -0.6934, -0.5251, -0.9666],\n",
       "                        [ 1.3810,  0.9269, -0.6675,  0.4139],\n",
       "                        [ 0.2481, -1.2715,  0.1181, -0.3858],\n",
       "                        [-0.1869, -0.6934, -0.5251, -0.9666],\n",
       "                        [ 1.3810,  0.9269, -0.6675,  0.4139],\n",
       "                        [ 0.2481, -1.2715,  0.1181, -0.3858],\n",
       "                        [-0.1869, -0.6934, -0.5251, -0.9666],\n",
       "                        [ 1.3810,  0.9269, -0.6675,  0.4139],\n",
       "                        [ 0.2481, -1.2715,  0.1181, -0.3858],\n",
       "                        [-0.1869, -0.6934, -0.5251, -0.9666],\n",
       "                        [ 1.3810,  0.9269, -0.6675,  0.4139],\n",
       "                        [ 0.2481, -1.2715,  0.1181, -0.3858],\n",
       "                        [-0.1869, -0.6934, -0.5251, -0.9666],\n",
       "                        [ 1.3810,  0.9269, -0.6675,  0.4139],\n",
       "                        [ 0.2481, -1.2715,  0.1181, -0.3858],\n",
       "                        [-0.1869, -0.6934, -0.5251, -0.9666],\n",
       "                        [ 1.3810,  0.9269, -0.6675,  0.4139],\n",
       "                        [ 0.2481, -1.2715,  0.1181, -0.3858],\n",
       "                        [-0.1869, -0.6934, -0.5251, -0.9666],\n",
       "                        [ 1.3810,  0.9269, -0.6675,  0.4139]])"
      ]
     },
     "execution_count": 22,
     "metadata": {},
     "output_type": "execute_result"
    }
   ],
   "source": [
    "t_cat = FastTreeValue.func(subside=True)(torch.cat)\n",
    "\n",
    "t_cat(trees)"
   ]
  },
  {
   "cell_type": "code",
   "execution_count": 23,
   "id": "5e9c06a6",
   "metadata": {
    "execution": {
     "iopub.execute_input": "2023-02-24T07:15:55.228547Z",
     "iopub.status.busy": "2023-02-24T07:15:55.227974Z",
     "iopub.status.idle": "2023-02-24T07:15:57.730430Z",
     "shell.execute_reply": "2023-02-24T07:15:57.729704Z"
    }
   },
   "outputs": [
    {
     "name": "stdout",
     "output_type": "stream",
     "text": [
      "30.8 µs ± 58.4 ns per loop (mean ± std. dev. of 7 runs, 10,000 loops each)\n"
     ]
    }
   ],
   "source": [
    "%timeit t_cat(trees)"
   ]
  },
  {
   "cell_type": "code",
   "execution_count": 24,
   "id": "a3ab5c8f",
   "metadata": {
    "execution": {
     "iopub.execute_input": "2023-02-24T07:15:57.733530Z",
     "iopub.status.busy": "2023-02-24T07:15:57.733162Z",
     "iopub.status.idle": "2023-02-24T07:16:02.529877Z",
     "shell.execute_reply": "2023-02-24T07:16:02.528921Z"
    }
   },
   "outputs": [
    {
     "name": "stdout",
     "output_type": "stream",
     "text": [
      "59 µs ± 141 ns per loop (mean ± std. dev. of 7 runs, 10,000 loops each)\n"
     ]
    }
   ],
   "source": [
    "t_split = FastTreeValue.func(rise=True)(torch.split)\n",
    "tree = FastTreeValue({\n",
    "    'obs': torch.randn(8, 4, 84, 84),\n",
    "    'action': torch.randint(0, 6, size=(8, 1,)),\n",
    "    'reward': torch.rand(8, 1),\n",
    "})\n",
    "\n",
    "%timeit t_split(tree, 1)"
   ]
  },
  {
   "cell_type": "markdown",
   "id": "31c3ec0b",
   "metadata": {},
   "source": [
    "### Performance of Tianshou Batch"
   ]
  },
  {
   "cell_type": "code",
   "execution_count": 25,
   "id": "9ead828a",
   "metadata": {
    "execution": {
     "iopub.execute_input": "2023-02-24T07:16:02.533317Z",
     "iopub.status.busy": "2023-02-24T07:16:02.532712Z",
     "iopub.status.idle": "2023-02-24T07:16:02.540028Z",
     "shell.execute_reply": "2023-02-24T07:16:02.539401Z"
    }
   },
   "outputs": [
    {
     "data": {
      "text/plain": [
       "Batch(\n",
       "    x: Batch(\n",
       "           c: tensor([[[ 0.2481, -1.2715,  0.1181, -0.3858],\n",
       "                       [-0.1869, -0.6934, -0.5251, -0.9666],\n",
       "                       [ 1.3810,  0.9269, -0.6675,  0.4139]],\n",
       "              \n",
       "                      [[ 0.2481, -1.2715,  0.1181, -0.3858],\n",
       "                       [-0.1869, -0.6934, -0.5251, -0.9666],\n",
       "                       [ 1.3810,  0.9269, -0.6675,  0.4139]],\n",
       "              \n",
       "                      [[ 0.2481, -1.2715,  0.1181, -0.3858],\n",
       "                       [-0.1869, -0.6934, -0.5251, -0.9666],\n",
       "                       [ 1.3810,  0.9269, -0.6675,  0.4139]],\n",
       "              \n",
       "                      [[ 0.2481, -1.2715,  0.1181, -0.3858],\n",
       "                       [-0.1869, -0.6934, -0.5251, -0.9666],\n",
       "                       [ 1.3810,  0.9269, -0.6675,  0.4139]],\n",
       "              \n",
       "                      [[ 0.2481, -1.2715,  0.1181, -0.3858],\n",
       "                       [-0.1869, -0.6934, -0.5251, -0.9666],\n",
       "                       [ 1.3810,  0.9269, -0.6675,  0.4139]],\n",
       "              \n",
       "                      [[ 0.2481, -1.2715,  0.1181, -0.3858],\n",
       "                       [-0.1869, -0.6934, -0.5251, -0.9666],\n",
       "                       [ 1.3810,  0.9269, -0.6675,  0.4139]],\n",
       "              \n",
       "                      [[ 0.2481, -1.2715,  0.1181, -0.3858],\n",
       "                       [-0.1869, -0.6934, -0.5251, -0.9666],\n",
       "                       [ 1.3810,  0.9269, -0.6675,  0.4139]],\n",
       "              \n",
       "                      [[ 0.2481, -1.2715,  0.1181, -0.3858],\n",
       "                       [-0.1869, -0.6934, -0.5251, -0.9666],\n",
       "                       [ 1.3810,  0.9269, -0.6675,  0.4139]]]),\n",
       "       ),\n",
       "    a: tensor([[[-0.2713,  0.9071, -1.5831],\n",
       "                [-0.9901,  0.3521, -0.0310]],\n",
       "       \n",
       "               [[-0.2713,  0.9071, -1.5831],\n",
       "                [-0.9901,  0.3521, -0.0310]],\n",
       "       \n",
       "               [[-0.2713,  0.9071, -1.5831],\n",
       "                [-0.9901,  0.3521, -0.0310]],\n",
       "       \n",
       "               [[-0.2713,  0.9071, -1.5831],\n",
       "                [-0.9901,  0.3521, -0.0310]],\n",
       "       \n",
       "               [[-0.2713,  0.9071, -1.5831],\n",
       "                [-0.9901,  0.3521, -0.0310]],\n",
       "       \n",
       "               [[-0.2713,  0.9071, -1.5831],\n",
       "                [-0.9901,  0.3521, -0.0310]],\n",
       "       \n",
       "               [[-0.2713,  0.9071, -1.5831],\n",
       "                [-0.9901,  0.3521, -0.0310]],\n",
       "       \n",
       "               [[-0.2713,  0.9071, -1.5831],\n",
       "                [-0.9901,  0.3521, -0.0310]]]),\n",
       ")"
      ]
     },
     "execution_count": 25,
     "metadata": {},
     "output_type": "execute_result"
    }
   ],
   "source": [
    "batches = [Batch(**_TREE_DATA_2) for _ in range(8)]\n",
    "\n",
    "Batch.stack(batches)"
   ]
  },
  {
   "cell_type": "code",
   "execution_count": 26,
   "id": "ec9037a3",
   "metadata": {
    "execution": {
     "iopub.execute_input": "2023-02-24T07:16:02.542523Z",
     "iopub.status.busy": "2023-02-24T07:16:02.542190Z",
     "iopub.status.idle": "2023-02-24T07:16:08.910726Z",
     "shell.execute_reply": "2023-02-24T07:16:08.910056Z"
    }
   },
   "outputs": [
    {
     "name": "stdout",
     "output_type": "stream",
     "text": [
      "78.4 µs ± 220 ns per loop (mean ± std. dev. of 7 runs, 10,000 loops each)\n"
     ]
    }
   ],
   "source": [
    "%timeit Batch.stack(batches)"
   ]
  },
  {
   "cell_type": "code",
   "execution_count": 27,
   "id": "cb8ab77e",
   "metadata": {
    "execution": {
     "iopub.execute_input": "2023-02-24T07:16:08.913859Z",
     "iopub.status.busy": "2023-02-24T07:16:08.913501Z",
     "iopub.status.idle": "2023-02-24T07:16:08.921757Z",
     "shell.execute_reply": "2023-02-24T07:16:08.921177Z"
    }
   },
   "outputs": [
    {
     "data": {
      "text/plain": [
       "Batch(\n",
       "    x: Batch(\n",
       "           c: tensor([[ 0.2481, -1.2715,  0.1181, -0.3858],\n",
       "                      [-0.1869, -0.6934, -0.5251, -0.9666],\n",
       "                      [ 1.3810,  0.9269, -0.6675,  0.4139],\n",
       "                      [ 0.2481, -1.2715,  0.1181, -0.3858],\n",
       "                      [-0.1869, -0.6934, -0.5251, -0.9666],\n",
       "                      [ 1.3810,  0.9269, -0.6675,  0.4139],\n",
       "                      [ 0.2481, -1.2715,  0.1181, -0.3858],\n",
       "                      [-0.1869, -0.6934, -0.5251, -0.9666],\n",
       "                      [ 1.3810,  0.9269, -0.6675,  0.4139],\n",
       "                      [ 0.2481, -1.2715,  0.1181, -0.3858],\n",
       "                      [-0.1869, -0.6934, -0.5251, -0.9666],\n",
       "                      [ 1.3810,  0.9269, -0.6675,  0.4139],\n",
       "                      [ 0.2481, -1.2715,  0.1181, -0.3858],\n",
       "                      [-0.1869, -0.6934, -0.5251, -0.9666],\n",
       "                      [ 1.3810,  0.9269, -0.6675,  0.4139],\n",
       "                      [ 0.2481, -1.2715,  0.1181, -0.3858],\n",
       "                      [-0.1869, -0.6934, -0.5251, -0.9666],\n",
       "                      [ 1.3810,  0.9269, -0.6675,  0.4139],\n",
       "                      [ 0.2481, -1.2715,  0.1181, -0.3858],\n",
       "                      [-0.1869, -0.6934, -0.5251, -0.9666],\n",
       "                      [ 1.3810,  0.9269, -0.6675,  0.4139],\n",
       "                      [ 0.2481, -1.2715,  0.1181, -0.3858],\n",
       "                      [-0.1869, -0.6934, -0.5251, -0.9666],\n",
       "                      [ 1.3810,  0.9269, -0.6675,  0.4139]]),\n",
       "       ),\n",
       "    a: tensor([[-0.2713,  0.9071, -1.5831],\n",
       "               [-0.9901,  0.3521, -0.0310],\n",
       "               [-0.2713,  0.9071, -1.5831],\n",
       "               [-0.9901,  0.3521, -0.0310],\n",
       "               [-0.2713,  0.9071, -1.5831],\n",
       "               [-0.9901,  0.3521, -0.0310],\n",
       "               [-0.2713,  0.9071, -1.5831],\n",
       "               [-0.9901,  0.3521, -0.0310],\n",
       "               [-0.2713,  0.9071, -1.5831],\n",
       "               [-0.9901,  0.3521, -0.0310],\n",
       "               [-0.2713,  0.9071, -1.5831],\n",
       "               [-0.9901,  0.3521, -0.0310],\n",
       "               [-0.2713,  0.9071, -1.5831],\n",
       "               [-0.9901,  0.3521, -0.0310],\n",
       "               [-0.2713,  0.9071, -1.5831],\n",
       "               [-0.9901,  0.3521, -0.0310]]),\n",
       ")"
      ]
     },
     "execution_count": 27,
     "metadata": {},
     "output_type": "execute_result"
    }
   ],
   "source": [
    "Batch.cat(batches)"
   ]
  },
  {
   "cell_type": "code",
   "execution_count": 28,
   "id": "18dfb045",
   "metadata": {
    "execution": {
     "iopub.execute_input": "2023-02-24T07:16:08.924483Z",
     "iopub.status.busy": "2023-02-24T07:16:08.924133Z",
     "iopub.status.idle": "2023-02-24T07:16:20.548913Z",
     "shell.execute_reply": "2023-02-24T07:16:20.548203Z"
    }
   },
   "outputs": [
    {
     "name": "stdout",
     "output_type": "stream",
     "text": [
      "143 µs ± 222 ns per loop (mean ± std. dev. of 7 runs, 10,000 loops each)\n"
     ]
    }
   ],
   "source": [
    "%timeit Batch.cat(batches)"
   ]
  },
  {
   "cell_type": "code",
   "execution_count": 29,
   "id": "c6688e51",
   "metadata": {
    "execution": {
     "iopub.execute_input": "2023-02-24T07:16:20.552197Z",
     "iopub.status.busy": "2023-02-24T07:16:20.551662Z",
     "iopub.status.idle": "2023-02-24T07:16:23.121199Z",
     "shell.execute_reply": "2023-02-24T07:16:23.120618Z"
    }
   },
   "outputs": [
    {
     "name": "stdout",
     "output_type": "stream",
     "text": [
      "316 µs ± 1.06 µs per loop (mean ± std. dev. of 7 runs, 1,000 loops each)\n"
     ]
    }
   ],
   "source": [
    "batch = Batch({\n",
    "    'obs': torch.randn(8, 4, 84, 84),\n",
    "    'action': torch.randint(0, 6, size=(8, 1,)),\n",
    "    'reward': torch.rand(8, 1)}\n",
    ")\n",
    "\n",
    "%timeit list(Batch.split(batch, 1, shuffle=False, merge_last=True))"
   ]
  },
  {
   "cell_type": "code",
   "execution_count": null,
   "id": "2539fbd9",
   "metadata": {},
   "outputs": [],
   "source": []
  }
 ],
 "metadata": {
  "kernelspec": {
   "display_name": "Python 3 (ipykernel)",
   "language": "python",
   "name": "python3"
  },
  "language_info": {
   "codemirror_mode": {
    "name": "ipython",
    "version": 3
   },
   "file_extension": ".py",
   "mimetype": "text/x-python",
   "name": "python",
   "nbconvert_exporter": "python",
   "pygments_lexer": "ipython3",
   "version": "3.8.16"
  }
 },
 "nbformat": 4,
 "nbformat_minor": 5
}
