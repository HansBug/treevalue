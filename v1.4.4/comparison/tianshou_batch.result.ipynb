{
 "cells": [
  {
   "cell_type": "markdown",
   "id": "9d39d946",
   "metadata": {},
   "source": [
    "# Comparison Between TreeValue and Tianshou Batch"
   ]
  },
  {
   "cell_type": "markdown",
   "id": "3c6db2d4",
   "metadata": {},
   "source": [
    "In this section, we will take a look at the feature and performance of the [Tianshou Batch](https://github.com/thu-ml/tianshou) library, which is developed by Tsinghua Machine Learning Group."
   ]
  },
  {
   "cell_type": "markdown",
   "id": "069361b0",
   "metadata": {},
   "source": [
    "Before starting the comparison, let us define some thing."
   ]
  },
  {
   "cell_type": "code",
   "execution_count": 1,
   "id": "06fc8d26",
   "metadata": {
    "execution": {
     "iopub.execute_input": "2023-03-06T10:49:36.215656Z",
     "iopub.status.busy": "2023-03-06T10:49:36.215448Z",
     "iopub.status.idle": "2023-03-06T10:49:37.126980Z",
     "shell.execute_reply": "2023-03-06T10:49:37.126303Z"
    }
   },
   "outputs": [
    {
     "name": "stderr",
     "output_type": "stream",
     "text": [
      "/opt/hostedtoolcache/Python/3.8.16/x64/lib/python3.8/site-packages/tqdm/auto.py:21: TqdmWarning: IProgress not found. Please update jupyter and ipywidgets. See https://ipywidgets.readthedocs.io/en/stable/user_install.html\n",
      "  from .autonotebook import tqdm as notebook_tqdm\n"
     ]
    }
   ],
   "source": [
    "import torch \n",
    "\n",
    "_TREE_DATA_1 = {'a': 1, 'b': 2, 'x': {'c': 3, 'd': 4}}\n",
    "_TREE_DATA_2 = {\n",
    "    'a': torch.randn(2, 3), \n",
    "    'x': {\n",
    "        'c': torch.randn(3, 4)\n",
    "    },\n",
    "}\n",
    "_TREE_DATA_3 = {\n",
    "    'obs': torch.randn(4, 84, 84),\n",
    "    'action': torch.randint(0, 6, size=(1,)),\n",
    "    'reward': torch.rand(1),\n",
    "}"
   ]
  },
  {
   "cell_type": "markdown",
   "id": "83461b25",
   "metadata": {},
   "source": [
    "## Read and Write Operation"
   ]
  },
  {
   "cell_type": "markdown",
   "id": "067b3f73",
   "metadata": {},
   "source": [
    "Reading and writing are the two most common operations in the tree data structure based on the data model (TreeValue and Tianshou Batch both belong to this type), so this section will compare the reading and writing performance of these two libraries."
   ]
  },
  {
   "cell_type": "markdown",
   "id": "5d09a5b7",
   "metadata": {},
   "source": [
    "### TreeValue's Get and Set"
   ]
  },
  {
   "cell_type": "code",
   "execution_count": 2,
   "id": "9519c4bb",
   "metadata": {
    "execution": {
     "iopub.execute_input": "2023-03-06T10:49:37.130624Z",
     "iopub.status.busy": "2023-03-06T10:49:37.130065Z",
     "iopub.status.idle": "2023-03-06T10:49:37.162853Z",
     "shell.execute_reply": "2023-03-06T10:49:37.162242Z"
    }
   },
   "outputs": [],
   "source": [
    "from treevalue import FastTreeValue\n",
    "\n",
    "t = FastTreeValue(_TREE_DATA_2)"
   ]
  },
  {
   "cell_type": "code",
   "execution_count": 3,
   "id": "11c37677",
   "metadata": {
    "execution": {
     "iopub.execute_input": "2023-03-06T10:49:37.165526Z",
     "iopub.status.busy": "2023-03-06T10:49:37.165184Z",
     "iopub.status.idle": "2023-03-06T10:49:37.174375Z",
     "shell.execute_reply": "2023-03-06T10:49:37.173801Z"
    }
   },
   "outputs": [
    {
     "data": {
      "text/plain": [
       "<FastTreeValue 0x7f4af86abd00>\n",
       "├── 'a' --> tensor([[ 1.4714,  0.4159,  0.2250],\n",
       "│                   [ 1.5735,  0.4514, -1.3711]])\n",
       "└── 'x' --> <FastTreeValue 0x7f4af86ab460>\n",
       "    └── 'c' --> tensor([[-0.8511, -0.3600, -2.3103,  0.4098],\n",
       "                        [ 0.0646,  1.3565, -0.1455,  0.1558],\n",
       "                        [ 1.2187,  0.0805, -0.0962,  0.9615]])"
      ]
     },
     "execution_count": 3,
     "metadata": {},
     "output_type": "execute_result"
    }
   ],
   "source": [
    "t"
   ]
  },
  {
   "cell_type": "code",
   "execution_count": 4,
   "id": "fd70b0b9",
   "metadata": {
    "execution": {
     "iopub.execute_input": "2023-03-06T10:49:37.177067Z",
     "iopub.status.busy": "2023-03-06T10:49:37.176544Z",
     "iopub.status.idle": "2023-03-06T10:49:37.181745Z",
     "shell.execute_reply": "2023-03-06T10:49:37.181169Z"
    }
   },
   "outputs": [
    {
     "data": {
      "text/plain": [
       "tensor([[ 1.4714,  0.4159,  0.2250],\n",
       "        [ 1.5735,  0.4514, -1.3711]])"
      ]
     },
     "execution_count": 4,
     "metadata": {},
     "output_type": "execute_result"
    }
   ],
   "source": [
    "t.a"
   ]
  },
  {
   "cell_type": "code",
   "execution_count": 5,
   "id": "c18197bd",
   "metadata": {
    "execution": {
     "iopub.execute_input": "2023-03-06T10:49:37.183999Z",
     "iopub.status.busy": "2023-03-06T10:49:37.183791Z",
     "iopub.status.idle": "2023-03-06T10:49:42.428672Z",
     "shell.execute_reply": "2023-03-06T10:49:42.427936Z"
    }
   },
   "outputs": [
    {
     "name": "stdout",
     "output_type": "stream",
     "text": [
      "64.7 ns ± 0.0622 ns per loop (mean ± std. dev. of 7 runs, 10,000,000 loops each)\n"
     ]
    }
   ],
   "source": [
    "%timeit t.a"
   ]
  },
  {
   "cell_type": "code",
   "execution_count": 6,
   "id": "bd52f867",
   "metadata": {
    "execution": {
     "iopub.execute_input": "2023-03-06T10:49:42.431569Z",
     "iopub.status.busy": "2023-03-06T10:49:42.431000Z",
     "iopub.status.idle": "2023-03-06T10:49:42.436972Z",
     "shell.execute_reply": "2023-03-06T10:49:42.436365Z"
    }
   },
   "outputs": [
    {
     "data": {
      "text/plain": [
       "<FastTreeValue 0x7f4af86abd00>\n",
       "├── 'a' --> tensor([[ 1.3783, -1.8372,  0.8782],\n",
       "│                   [ 0.7392, -1.6578,  0.7439]])\n",
       "└── 'x' --> <FastTreeValue 0x7f4af86ab460>\n",
       "    └── 'c' --> tensor([[-0.8511, -0.3600, -2.3103,  0.4098],\n",
       "                        [ 0.0646,  1.3565, -0.1455,  0.1558],\n",
       "                        [ 1.2187,  0.0805, -0.0962,  0.9615]])"
      ]
     },
     "execution_count": 6,
     "metadata": {},
     "output_type": "execute_result"
    }
   ],
   "source": [
    "new_value = torch.randn(2, 3)\n",
    "t.a = new_value\n",
    "\n",
    "t"
   ]
  },
  {
   "cell_type": "code",
   "execution_count": 7,
   "id": "bbe04d1c",
   "metadata": {
    "execution": {
     "iopub.execute_input": "2023-03-06T10:49:42.439980Z",
     "iopub.status.busy": "2023-03-06T10:49:42.439629Z",
     "iopub.status.idle": "2023-03-06T10:49:47.409526Z",
     "shell.execute_reply": "2023-03-06T10:49:47.408789Z"
    }
   },
   "outputs": [
    {
     "name": "stdout",
     "output_type": "stream",
     "text": [
      "61.2 ns ± 0.0735 ns per loop (mean ± std. dev. of 7 runs, 10,000,000 loops each)\n"
     ]
    }
   ],
   "source": [
    "%timeit t.a = new_value"
   ]
  },
  {
   "cell_type": "markdown",
   "id": "48c49731",
   "metadata": {},
   "source": [
    "### Tianshou Batch's Get and Set"
   ]
  },
  {
   "cell_type": "code",
   "execution_count": 8,
   "id": "f1bb14c1",
   "metadata": {
    "execution": {
     "iopub.execute_input": "2023-03-06T10:49:47.412521Z",
     "iopub.status.busy": "2023-03-06T10:49:47.411959Z",
     "iopub.status.idle": "2023-03-06T10:49:47.739525Z",
     "shell.execute_reply": "2023-03-06T10:49:47.738839Z"
    }
   },
   "outputs": [],
   "source": [
    "from tianshou.data import Batch\n",
    "\n",
    "b = Batch(**_TREE_DATA_2)"
   ]
  },
  {
   "cell_type": "code",
   "execution_count": 9,
   "id": "cb0777c3",
   "metadata": {
    "execution": {
     "iopub.execute_input": "2023-03-06T10:49:47.743648Z",
     "iopub.status.busy": "2023-03-06T10:49:47.742361Z",
     "iopub.status.idle": "2023-03-06T10:49:47.749645Z",
     "shell.execute_reply": "2023-03-06T10:49:47.749074Z"
    }
   },
   "outputs": [
    {
     "data": {
      "text/plain": [
       "Batch(\n",
       "    a: tensor([[ 1.4714,  0.4159,  0.2250],\n",
       "               [ 1.5735,  0.4514, -1.3711]]),\n",
       "    x: Batch(\n",
       "           c: tensor([[-0.8511, -0.3600, -2.3103,  0.4098],\n",
       "                      [ 0.0646,  1.3565, -0.1455,  0.1558],\n",
       "                      [ 1.2187,  0.0805, -0.0962,  0.9615]]),\n",
       "       ),\n",
       ")"
      ]
     },
     "execution_count": 9,
     "metadata": {},
     "output_type": "execute_result"
    }
   ],
   "source": [
    "b"
   ]
  },
  {
   "cell_type": "code",
   "execution_count": 10,
   "id": "43ef8ea3",
   "metadata": {
    "execution": {
     "iopub.execute_input": "2023-03-06T10:49:47.752589Z",
     "iopub.status.busy": "2023-03-06T10:49:47.751967Z",
     "iopub.status.idle": "2023-03-06T10:49:47.757729Z",
     "shell.execute_reply": "2023-03-06T10:49:47.756812Z"
    }
   },
   "outputs": [
    {
     "data": {
      "text/plain": [
       "tensor([[ 1.4714,  0.4159,  0.2250],\n",
       "        [ 1.5735,  0.4514, -1.3711]])"
      ]
     },
     "execution_count": 10,
     "metadata": {},
     "output_type": "execute_result"
    }
   ],
   "source": [
    "b.a"
   ]
  },
  {
   "cell_type": "code",
   "execution_count": 11,
   "id": "b785ab72",
   "metadata": {
    "execution": {
     "iopub.execute_input": "2023-03-06T10:49:47.760013Z",
     "iopub.status.busy": "2023-03-06T10:49:47.759801Z",
     "iopub.status.idle": "2023-03-06T10:49:52.306624Z",
     "shell.execute_reply": "2023-03-06T10:49:52.305904Z"
    }
   },
   "outputs": [
    {
     "name": "stdout",
     "output_type": "stream",
     "text": [
      "55.9 ns ± 0.0354 ns per loop (mean ± std. dev. of 7 runs, 10,000,000 loops each)\n"
     ]
    }
   ],
   "source": [
    "%timeit b.a"
   ]
  },
  {
   "cell_type": "code",
   "execution_count": 12,
   "id": "ad54dc69",
   "metadata": {
    "execution": {
     "iopub.execute_input": "2023-03-06T10:49:52.309584Z",
     "iopub.status.busy": "2023-03-06T10:49:52.309238Z",
     "iopub.status.idle": "2023-03-06T10:49:52.315600Z",
     "shell.execute_reply": "2023-03-06T10:49:52.315000Z"
    }
   },
   "outputs": [
    {
     "data": {
      "text/plain": [
       "Batch(\n",
       "    a: tensor([[-1.3949,  0.6447,  0.9471],\n",
       "               [-1.1940, -0.1257, -0.3139]]),\n",
       "    x: Batch(\n",
       "           c: tensor([[-0.8511, -0.3600, -2.3103,  0.4098],\n",
       "                      [ 0.0646,  1.3565, -0.1455,  0.1558],\n",
       "                      [ 1.2187,  0.0805, -0.0962,  0.9615]]),\n",
       "       ),\n",
       ")"
      ]
     },
     "execution_count": 12,
     "metadata": {},
     "output_type": "execute_result"
    }
   ],
   "source": [
    "new_value = torch.randn(2, 3)\n",
    "b.a = new_value\n",
    "\n",
    "b"
   ]
  },
  {
   "cell_type": "code",
   "execution_count": 13,
   "id": "29b1d0bf",
   "metadata": {
    "execution": {
     "iopub.execute_input": "2023-03-06T10:49:52.318183Z",
     "iopub.status.busy": "2023-03-06T10:49:52.317696Z",
     "iopub.status.idle": "2023-03-06T10:49:56.248954Z",
     "shell.execute_reply": "2023-03-06T10:49:56.248244Z"
    }
   },
   "outputs": [
    {
     "name": "stdout",
     "output_type": "stream",
     "text": [
      "484 ns ± 0.153 ns per loop (mean ± std. dev. of 7 runs, 1,000,000 loops each)\n"
     ]
    }
   ],
   "source": [
    "%timeit b.a = new_value"
   ]
  },
  {
   "cell_type": "markdown",
   "id": "b61ad1d0",
   "metadata": {},
   "source": [
    "## Initialization"
   ]
  },
  {
   "cell_type": "markdown",
   "id": "d70f0d54",
   "metadata": {},
   "source": [
    "### TreeValue's Initialization"
   ]
  },
  {
   "cell_type": "code",
   "execution_count": 14,
   "id": "d32a679b",
   "metadata": {
    "execution": {
     "iopub.execute_input": "2023-03-06T10:49:56.252150Z",
     "iopub.status.busy": "2023-03-06T10:49:56.251798Z",
     "iopub.status.idle": "2023-03-06T10:50:03.126537Z",
     "shell.execute_reply": "2023-03-06T10:50:03.125705Z"
    }
   },
   "outputs": [
    {
     "name": "stdout",
     "output_type": "stream",
     "text": [
      "846 ns ± 0.168 ns per loop (mean ± std. dev. of 7 runs, 1,000,000 loops each)\n"
     ]
    }
   ],
   "source": [
    "%timeit FastTreeValue(_TREE_DATA_1)"
   ]
  },
  {
   "cell_type": "markdown",
   "id": "24f3707b",
   "metadata": {},
   "source": [
    "### Tianshou Batch's Initialization"
   ]
  },
  {
   "cell_type": "code",
   "execution_count": 15,
   "id": "ac3958df",
   "metadata": {
    "execution": {
     "iopub.execute_input": "2023-03-06T10:50:03.129628Z",
     "iopub.status.busy": "2023-03-06T10:50:03.129268Z",
     "iopub.status.idle": "2023-03-06T10:50:12.394837Z",
     "shell.execute_reply": "2023-03-06T10:50:12.394123Z"
    }
   },
   "outputs": [
    {
     "name": "stdout",
     "output_type": "stream",
     "text": [
      "11.4 µs ± 13.2 ns per loop (mean ± std. dev. of 7 runs, 100,000 loops each)\n"
     ]
    }
   ],
   "source": [
    "%timeit Batch(**_TREE_DATA_1)"
   ]
  },
  {
   "cell_type": "markdown",
   "id": "1ab82e2d",
   "metadata": {},
   "source": [
    "## Deep Copy Operation"
   ]
  },
  {
   "cell_type": "code",
   "execution_count": 16,
   "id": "210a9442",
   "metadata": {
    "execution": {
     "iopub.execute_input": "2023-03-06T10:50:12.397659Z",
     "iopub.status.busy": "2023-03-06T10:50:12.397297Z",
     "iopub.status.idle": "2023-03-06T10:50:12.401197Z",
     "shell.execute_reply": "2023-03-06T10:50:12.400619Z"
    }
   },
   "outputs": [],
   "source": [
    "import copy"
   ]
  },
  {
   "cell_type": "markdown",
   "id": "5a736274",
   "metadata": {},
   "source": [
    "### Deep Copy of TreeValue"
   ]
  },
  {
   "cell_type": "code",
   "execution_count": 17,
   "id": "f9bcadd6",
   "metadata": {
    "execution": {
     "iopub.execute_input": "2023-03-06T10:50:12.403649Z",
     "iopub.status.busy": "2023-03-06T10:50:12.403324Z",
     "iopub.status.idle": "2023-03-06T10:50:23.954880Z",
     "shell.execute_reply": "2023-03-06T10:50:23.954283Z"
    }
   },
   "outputs": [
    {
     "name": "stdout",
     "output_type": "stream",
     "text": [
      "142 µs ± 298 ns per loop (mean ± std. dev. of 7 runs, 10,000 loops each)\n"
     ]
    }
   ],
   "source": [
    "t3 = FastTreeValue(_TREE_DATA_3)\n",
    "%timeit copy.deepcopy(t3)"
   ]
  },
  {
   "cell_type": "markdown",
   "id": "bf8be7ea",
   "metadata": {},
   "source": [
    "### Deep Copy of Tianshou Batch"
   ]
  },
  {
   "cell_type": "code",
   "execution_count": 18,
   "id": "91998e6f",
   "metadata": {
    "execution": {
     "iopub.execute_input": "2023-03-06T10:50:23.957972Z",
     "iopub.status.busy": "2023-03-06T10:50:23.957256Z",
     "iopub.status.idle": "2023-03-06T10:50:35.802038Z",
     "shell.execute_reply": "2023-03-06T10:50:35.801456Z"
    }
   },
   "outputs": [
    {
     "name": "stdout",
     "output_type": "stream",
     "text": [
      "147 µs ± 16.6 µs per loop (mean ± std. dev. of 7 runs, 10,000 loops each)\n"
     ]
    }
   ],
   "source": [
    "b3 = Batch(**_TREE_DATA_3)\n",
    "%timeit copy.deepcopy(b3)"
   ]
  },
  {
   "cell_type": "markdown",
   "id": "223162fb",
   "metadata": {},
   "source": [
    "## Stack, Concat and Split Operation"
   ]
  },
  {
   "cell_type": "markdown",
   "id": "85fa4a73",
   "metadata": {},
   "source": [
    "### Performance of TreeValue"
   ]
  },
  {
   "cell_type": "code",
   "execution_count": 19,
   "id": "a0c2b697",
   "metadata": {
    "execution": {
     "iopub.execute_input": "2023-03-06T10:50:35.804924Z",
     "iopub.status.busy": "2023-03-06T10:50:35.804679Z",
     "iopub.status.idle": "2023-03-06T10:50:35.808623Z",
     "shell.execute_reply": "2023-03-06T10:50:35.808037Z"
    }
   },
   "outputs": [],
   "source": [
    "trees = [FastTreeValue(_TREE_DATA_2) for _ in range(8)]"
   ]
  },
  {
   "cell_type": "code",
   "execution_count": 20,
   "id": "017ea5a5",
   "metadata": {
    "execution": {
     "iopub.execute_input": "2023-03-06T10:50:35.811316Z",
     "iopub.status.busy": "2023-03-06T10:50:35.811075Z",
     "iopub.status.idle": "2023-03-06T10:50:35.819564Z",
     "shell.execute_reply": "2023-03-06T10:50:35.818968Z"
    }
   },
   "outputs": [
    {
     "data": {
      "text/plain": [
       "<FastTreeValue 0x7f4a4c36ae20>\n",
       "├── 'a' --> tensor([[[ 1.4714,  0.4159,  0.2250],\n",
       "│                    [ 1.5735,  0.4514, -1.3711]],\n",
       "│           \n",
       "│                   [[ 1.4714,  0.4159,  0.2250],\n",
       "│                    [ 1.5735,  0.4514, -1.3711]],\n",
       "│           \n",
       "│                   [[ 1.4714,  0.4159,  0.2250],\n",
       "│                    [ 1.5735,  0.4514, -1.3711]],\n",
       "│           \n",
       "│                   [[ 1.4714,  0.4159,  0.2250],\n",
       "│                    [ 1.5735,  0.4514, -1.3711]],\n",
       "│           \n",
       "│                   [[ 1.4714,  0.4159,  0.2250],\n",
       "│                    [ 1.5735,  0.4514, -1.3711]],\n",
       "│           \n",
       "│                   [[ 1.4714,  0.4159,  0.2250],\n",
       "│                    [ 1.5735,  0.4514, -1.3711]],\n",
       "│           \n",
       "│                   [[ 1.4714,  0.4159,  0.2250],\n",
       "│                    [ 1.5735,  0.4514, -1.3711]],\n",
       "│           \n",
       "│                   [[ 1.4714,  0.4159,  0.2250],\n",
       "│                    [ 1.5735,  0.4514, -1.3711]]])\n",
       "└── 'x' --> <FastTreeValue 0x7f4a4c36adc0>\n",
       "    └── 'c' --> tensor([[[-0.8511, -0.3600, -2.3103,  0.4098],\n",
       "                         [ 0.0646,  1.3565, -0.1455,  0.1558],\n",
       "                         [ 1.2187,  0.0805, -0.0962,  0.9615]],\n",
       "                \n",
       "                        [[-0.8511, -0.3600, -2.3103,  0.4098],\n",
       "                         [ 0.0646,  1.3565, -0.1455,  0.1558],\n",
       "                         [ 1.2187,  0.0805, -0.0962,  0.9615]],\n",
       "                \n",
       "                        [[-0.8511, -0.3600, -2.3103,  0.4098],\n",
       "                         [ 0.0646,  1.3565, -0.1455,  0.1558],\n",
       "                         [ 1.2187,  0.0805, -0.0962,  0.9615]],\n",
       "                \n",
       "                        [[-0.8511, -0.3600, -2.3103,  0.4098],\n",
       "                         [ 0.0646,  1.3565, -0.1455,  0.1558],\n",
       "                         [ 1.2187,  0.0805, -0.0962,  0.9615]],\n",
       "                \n",
       "                        [[-0.8511, -0.3600, -2.3103,  0.4098],\n",
       "                         [ 0.0646,  1.3565, -0.1455,  0.1558],\n",
       "                         [ 1.2187,  0.0805, -0.0962,  0.9615]],\n",
       "                \n",
       "                        [[-0.8511, -0.3600, -2.3103,  0.4098],\n",
       "                         [ 0.0646,  1.3565, -0.1455,  0.1558],\n",
       "                         [ 1.2187,  0.0805, -0.0962,  0.9615]],\n",
       "                \n",
       "                        [[-0.8511, -0.3600, -2.3103,  0.4098],\n",
       "                         [ 0.0646,  1.3565, -0.1455,  0.1558],\n",
       "                         [ 1.2187,  0.0805, -0.0962,  0.9615]],\n",
       "                \n",
       "                        [[-0.8511, -0.3600, -2.3103,  0.4098],\n",
       "                         [ 0.0646,  1.3565, -0.1455,  0.1558],\n",
       "                         [ 1.2187,  0.0805, -0.0962,  0.9615]]])"
      ]
     },
     "execution_count": 20,
     "metadata": {},
     "output_type": "execute_result"
    }
   ],
   "source": [
    "t_stack = FastTreeValue.func(subside=True)(torch.stack)\n",
    "\n",
    "t_stack(trees)"
   ]
  },
  {
   "cell_type": "code",
   "execution_count": 21,
   "id": "f8b3f415",
   "metadata": {
    "execution": {
     "iopub.execute_input": "2023-03-06T10:50:35.822258Z",
     "iopub.status.busy": "2023-03-06T10:50:35.822039Z",
     "iopub.status.idle": "2023-03-06T10:50:38.413816Z",
     "shell.execute_reply": "2023-03-06T10:50:38.413145Z"
    }
   },
   "outputs": [
    {
     "name": "stdout",
     "output_type": "stream",
     "text": [
      "31.9 µs ± 63.5 ns per loop (mean ± std. dev. of 7 runs, 10,000 loops each)\n"
     ]
    }
   ],
   "source": [
    "%timeit t_stack(trees)"
   ]
  },
  {
   "cell_type": "code",
   "execution_count": 22,
   "id": "94b56771",
   "metadata": {
    "execution": {
     "iopub.execute_input": "2023-03-06T10:50:38.416847Z",
     "iopub.status.busy": "2023-03-06T10:50:38.416606Z",
     "iopub.status.idle": "2023-03-06T10:50:38.424474Z",
     "shell.execute_reply": "2023-03-06T10:50:38.423904Z"
    }
   },
   "outputs": [
    {
     "data": {
      "text/plain": [
       "<FastTreeValue 0x7f4a4c36a730>\n",
       "├── 'a' --> tensor([[ 1.4714,  0.4159,  0.2250],\n",
       "│                   [ 1.5735,  0.4514, -1.3711],\n",
       "│                   [ 1.4714,  0.4159,  0.2250],\n",
       "│                   [ 1.5735,  0.4514, -1.3711],\n",
       "│                   [ 1.4714,  0.4159,  0.2250],\n",
       "│                   [ 1.5735,  0.4514, -1.3711],\n",
       "│                   [ 1.4714,  0.4159,  0.2250],\n",
       "│                   [ 1.5735,  0.4514, -1.3711],\n",
       "│                   [ 1.4714,  0.4159,  0.2250],\n",
       "│                   [ 1.5735,  0.4514, -1.3711],\n",
       "│                   [ 1.4714,  0.4159,  0.2250],\n",
       "│                   [ 1.5735,  0.4514, -1.3711],\n",
       "│                   [ 1.4714,  0.4159,  0.2250],\n",
       "│                   [ 1.5735,  0.4514, -1.3711],\n",
       "│                   [ 1.4714,  0.4159,  0.2250],\n",
       "│                   [ 1.5735,  0.4514, -1.3711]])\n",
       "└── 'x' --> <FastTreeValue 0x7f4a52f7e850>\n",
       "    └── 'c' --> tensor([[-0.8511, -0.3600, -2.3103,  0.4098],\n",
       "                        [ 0.0646,  1.3565, -0.1455,  0.1558],\n",
       "                        [ 1.2187,  0.0805, -0.0962,  0.9615],\n",
       "                        [-0.8511, -0.3600, -2.3103,  0.4098],\n",
       "                        [ 0.0646,  1.3565, -0.1455,  0.1558],\n",
       "                        [ 1.2187,  0.0805, -0.0962,  0.9615],\n",
       "                        [-0.8511, -0.3600, -2.3103,  0.4098],\n",
       "                        [ 0.0646,  1.3565, -0.1455,  0.1558],\n",
       "                        [ 1.2187,  0.0805, -0.0962,  0.9615],\n",
       "                        [-0.8511, -0.3600, -2.3103,  0.4098],\n",
       "                        [ 0.0646,  1.3565, -0.1455,  0.1558],\n",
       "                        [ 1.2187,  0.0805, -0.0962,  0.9615],\n",
       "                        [-0.8511, -0.3600, -2.3103,  0.4098],\n",
       "                        [ 0.0646,  1.3565, -0.1455,  0.1558],\n",
       "                        [ 1.2187,  0.0805, -0.0962,  0.9615],\n",
       "                        [-0.8511, -0.3600, -2.3103,  0.4098],\n",
       "                        [ 0.0646,  1.3565, -0.1455,  0.1558],\n",
       "                        [ 1.2187,  0.0805, -0.0962,  0.9615],\n",
       "                        [-0.8511, -0.3600, -2.3103,  0.4098],\n",
       "                        [ 0.0646,  1.3565, -0.1455,  0.1558],\n",
       "                        [ 1.2187,  0.0805, -0.0962,  0.9615],\n",
       "                        [-0.8511, -0.3600, -2.3103,  0.4098],\n",
       "                        [ 0.0646,  1.3565, -0.1455,  0.1558],\n",
       "                        [ 1.2187,  0.0805, -0.0962,  0.9615]])"
      ]
     },
     "execution_count": 22,
     "metadata": {},
     "output_type": "execute_result"
    }
   ],
   "source": [
    "t_cat = FastTreeValue.func(subside=True)(torch.cat)\n",
    "\n",
    "t_cat(trees)"
   ]
  },
  {
   "cell_type": "code",
   "execution_count": 23,
   "id": "5e9c06a6",
   "metadata": {
    "execution": {
     "iopub.execute_input": "2023-03-06T10:50:38.427208Z",
     "iopub.status.busy": "2023-03-06T10:50:38.426987Z",
     "iopub.status.idle": "2023-03-06T10:50:40.893221Z",
     "shell.execute_reply": "2023-03-06T10:50:40.892543Z"
    }
   },
   "outputs": [
    {
     "name": "stdout",
     "output_type": "stream",
     "text": [
      "30.3 µs ± 49.2 ns per loop (mean ± std. dev. of 7 runs, 10,000 loops each)\n"
     ]
    }
   ],
   "source": [
    "%timeit t_cat(trees)"
   ]
  },
  {
   "cell_type": "code",
   "execution_count": 24,
   "id": "a3ab5c8f",
   "metadata": {
    "execution": {
     "iopub.execute_input": "2023-03-06T10:50:40.896100Z",
     "iopub.status.busy": "2023-03-06T10:50:40.895858Z",
     "iopub.status.idle": "2023-03-06T10:50:45.653484Z",
     "shell.execute_reply": "2023-03-06T10:50:45.652810Z"
    }
   },
   "outputs": [
    {
     "name": "stdout",
     "output_type": "stream",
     "text": [
      "58.5 µs ± 94.1 ns per loop (mean ± std. dev. of 7 runs, 10,000 loops each)\n"
     ]
    }
   ],
   "source": [
    "t_split = FastTreeValue.func(rise=True)(torch.split)\n",
    "tree = FastTreeValue({\n",
    "    'obs': torch.randn(8, 4, 84, 84),\n",
    "    'action': torch.randint(0, 6, size=(8, 1,)),\n",
    "    'reward': torch.rand(8, 1),\n",
    "})\n",
    "\n",
    "%timeit t_split(tree, 1)"
   ]
  },
  {
   "cell_type": "markdown",
   "id": "31c3ec0b",
   "metadata": {},
   "source": [
    "### Performance of Tianshou Batch"
   ]
  },
  {
   "cell_type": "code",
   "execution_count": 25,
   "id": "9ead828a",
   "metadata": {
    "execution": {
     "iopub.execute_input": "2023-03-06T10:50:45.656609Z",
     "iopub.status.busy": "2023-03-06T10:50:45.656043Z",
     "iopub.status.idle": "2023-03-06T10:50:45.664060Z",
     "shell.execute_reply": "2023-03-06T10:50:45.663459Z"
    }
   },
   "outputs": [
    {
     "data": {
      "text/plain": [
       "Batch(\n",
       "    x: Batch(\n",
       "           c: tensor([[[-0.8511, -0.3600, -2.3103,  0.4098],\n",
       "                       [ 0.0646,  1.3565, -0.1455,  0.1558],\n",
       "                       [ 1.2187,  0.0805, -0.0962,  0.9615]],\n",
       "              \n",
       "                      [[-0.8511, -0.3600, -2.3103,  0.4098],\n",
       "                       [ 0.0646,  1.3565, -0.1455,  0.1558],\n",
       "                       [ 1.2187,  0.0805, -0.0962,  0.9615]],\n",
       "              \n",
       "                      [[-0.8511, -0.3600, -2.3103,  0.4098],\n",
       "                       [ 0.0646,  1.3565, -0.1455,  0.1558],\n",
       "                       [ 1.2187,  0.0805, -0.0962,  0.9615]],\n",
       "              \n",
       "                      [[-0.8511, -0.3600, -2.3103,  0.4098],\n",
       "                       [ 0.0646,  1.3565, -0.1455,  0.1558],\n",
       "                       [ 1.2187,  0.0805, -0.0962,  0.9615]],\n",
       "              \n",
       "                      [[-0.8511, -0.3600, -2.3103,  0.4098],\n",
       "                       [ 0.0646,  1.3565, -0.1455,  0.1558],\n",
       "                       [ 1.2187,  0.0805, -0.0962,  0.9615]],\n",
       "              \n",
       "                      [[-0.8511, -0.3600, -2.3103,  0.4098],\n",
       "                       [ 0.0646,  1.3565, -0.1455,  0.1558],\n",
       "                       [ 1.2187,  0.0805, -0.0962,  0.9615]],\n",
       "              \n",
       "                      [[-0.8511, -0.3600, -2.3103,  0.4098],\n",
       "                       [ 0.0646,  1.3565, -0.1455,  0.1558],\n",
       "                       [ 1.2187,  0.0805, -0.0962,  0.9615]],\n",
       "              \n",
       "                      [[-0.8511, -0.3600, -2.3103,  0.4098],\n",
       "                       [ 0.0646,  1.3565, -0.1455,  0.1558],\n",
       "                       [ 1.2187,  0.0805, -0.0962,  0.9615]]]),\n",
       "       ),\n",
       "    a: tensor([[[ 1.4714,  0.4159,  0.2250],\n",
       "                [ 1.5735,  0.4514, -1.3711]],\n",
       "       \n",
       "               [[ 1.4714,  0.4159,  0.2250],\n",
       "                [ 1.5735,  0.4514, -1.3711]],\n",
       "       \n",
       "               [[ 1.4714,  0.4159,  0.2250],\n",
       "                [ 1.5735,  0.4514, -1.3711]],\n",
       "       \n",
       "               [[ 1.4714,  0.4159,  0.2250],\n",
       "                [ 1.5735,  0.4514, -1.3711]],\n",
       "       \n",
       "               [[ 1.4714,  0.4159,  0.2250],\n",
       "                [ 1.5735,  0.4514, -1.3711]],\n",
       "       \n",
       "               [[ 1.4714,  0.4159,  0.2250],\n",
       "                [ 1.5735,  0.4514, -1.3711]],\n",
       "       \n",
       "               [[ 1.4714,  0.4159,  0.2250],\n",
       "                [ 1.5735,  0.4514, -1.3711]],\n",
       "       \n",
       "               [[ 1.4714,  0.4159,  0.2250],\n",
       "                [ 1.5735,  0.4514, -1.3711]]]),\n",
       ")"
      ]
     },
     "execution_count": 25,
     "metadata": {},
     "output_type": "execute_result"
    }
   ],
   "source": [
    "batches = [Batch(**_TREE_DATA_2) for _ in range(8)]\n",
    "\n",
    "Batch.stack(batches)"
   ]
  },
  {
   "cell_type": "code",
   "execution_count": 26,
   "id": "ec9037a3",
   "metadata": {
    "execution": {
     "iopub.execute_input": "2023-03-06T10:50:45.666609Z",
     "iopub.status.busy": "2023-03-06T10:50:45.666292Z",
     "iopub.status.idle": "2023-03-06T10:50:56.335037Z",
     "shell.execute_reply": "2023-03-06T10:50:56.334326Z"
    }
   },
   "outputs": [
    {
     "name": "stdout",
     "output_type": "stream",
     "text": [
      "131 µs ± 263 ns per loop (mean ± std. dev. of 7 runs, 10,000 loops each)\n"
     ]
    }
   ],
   "source": [
    "%timeit Batch.stack(batches)"
   ]
  },
  {
   "cell_type": "code",
   "execution_count": 27,
   "id": "cb8ab77e",
   "metadata": {
    "execution": {
     "iopub.execute_input": "2023-03-06T10:50:56.337936Z",
     "iopub.status.busy": "2023-03-06T10:50:56.337437Z",
     "iopub.status.idle": "2023-03-06T10:50:56.344668Z",
     "shell.execute_reply": "2023-03-06T10:50:56.344033Z"
    }
   },
   "outputs": [
    {
     "data": {
      "text/plain": [
       "Batch(\n",
       "    x: Batch(\n",
       "           c: tensor([[-0.8511, -0.3600, -2.3103,  0.4098],\n",
       "                      [ 0.0646,  1.3565, -0.1455,  0.1558],\n",
       "                      [ 1.2187,  0.0805, -0.0962,  0.9615],\n",
       "                      [-0.8511, -0.3600, -2.3103,  0.4098],\n",
       "                      [ 0.0646,  1.3565, -0.1455,  0.1558],\n",
       "                      [ 1.2187,  0.0805, -0.0962,  0.9615],\n",
       "                      [-0.8511, -0.3600, -2.3103,  0.4098],\n",
       "                      [ 0.0646,  1.3565, -0.1455,  0.1558],\n",
       "                      [ 1.2187,  0.0805, -0.0962,  0.9615],\n",
       "                      [-0.8511, -0.3600, -2.3103,  0.4098],\n",
       "                      [ 0.0646,  1.3565, -0.1455,  0.1558],\n",
       "                      [ 1.2187,  0.0805, -0.0962,  0.9615],\n",
       "                      [-0.8511, -0.3600, -2.3103,  0.4098],\n",
       "                      [ 0.0646,  1.3565, -0.1455,  0.1558],\n",
       "                      [ 1.2187,  0.0805, -0.0962,  0.9615],\n",
       "                      [-0.8511, -0.3600, -2.3103,  0.4098],\n",
       "                      [ 0.0646,  1.3565, -0.1455,  0.1558],\n",
       "                      [ 1.2187,  0.0805, -0.0962,  0.9615],\n",
       "                      [-0.8511, -0.3600, -2.3103,  0.4098],\n",
       "                      [ 0.0646,  1.3565, -0.1455,  0.1558],\n",
       "                      [ 1.2187,  0.0805, -0.0962,  0.9615],\n",
       "                      [-0.8511, -0.3600, -2.3103,  0.4098],\n",
       "                      [ 0.0646,  1.3565, -0.1455,  0.1558],\n",
       "                      [ 1.2187,  0.0805, -0.0962,  0.9615]]),\n",
       "       ),\n",
       "    a: tensor([[ 1.4714,  0.4159,  0.2250],\n",
       "               [ 1.5735,  0.4514, -1.3711],\n",
       "               [ 1.4714,  0.4159,  0.2250],\n",
       "               [ 1.5735,  0.4514, -1.3711],\n",
       "               [ 1.4714,  0.4159,  0.2250],\n",
       "               [ 1.5735,  0.4514, -1.3711],\n",
       "               [ 1.4714,  0.4159,  0.2250],\n",
       "               [ 1.5735,  0.4514, -1.3711],\n",
       "               [ 1.4714,  0.4159,  0.2250],\n",
       "               [ 1.5735,  0.4514, -1.3711],\n",
       "               [ 1.4714,  0.4159,  0.2250],\n",
       "               [ 1.5735,  0.4514, -1.3711],\n",
       "               [ 1.4714,  0.4159,  0.2250],\n",
       "               [ 1.5735,  0.4514, -1.3711],\n",
       "               [ 1.4714,  0.4159,  0.2250],\n",
       "               [ 1.5735,  0.4514, -1.3711]]),\n",
       ")"
      ]
     },
     "execution_count": 27,
     "metadata": {},
     "output_type": "execute_result"
    }
   ],
   "source": [
    "Batch.cat(batches)"
   ]
  },
  {
   "cell_type": "code",
   "execution_count": 28,
   "id": "18dfb045",
   "metadata": {
    "execution": {
     "iopub.execute_input": "2023-03-06T10:50:56.347259Z",
     "iopub.status.busy": "2023-03-06T10:50:56.346920Z",
     "iopub.status.idle": "2023-03-06T10:51:08.142951Z",
     "shell.execute_reply": "2023-03-06T10:51:08.142244Z"
    }
   },
   "outputs": [
    {
     "name": "stdout",
     "output_type": "stream",
     "text": [
      "145 µs ± 244 ns per loop (mean ± std. dev. of 7 runs, 10,000 loops each)\n"
     ]
    }
   ],
   "source": [
    "%timeit Batch.cat(batches)"
   ]
  },
  {
   "cell_type": "code",
   "execution_count": 29,
   "id": "c6688e51",
   "metadata": {
    "execution": {
     "iopub.execute_input": "2023-03-06T10:51:08.146198Z",
     "iopub.status.busy": "2023-03-06T10:51:08.145703Z",
     "iopub.status.idle": "2023-03-06T10:51:10.660727Z",
     "shell.execute_reply": "2023-03-06T10:51:10.659985Z"
    }
   },
   "outputs": [
    {
     "name": "stdout",
     "output_type": "stream",
     "text": [
      "309 µs ± 731 ns per loop (mean ± std. dev. of 7 runs, 1,000 loops each)\n"
     ]
    }
   ],
   "source": [
    "batch = Batch({\n",
    "    'obs': torch.randn(8, 4, 84, 84),\n",
    "    'action': torch.randint(0, 6, size=(8, 1,)),\n",
    "    'reward': torch.rand(8, 1)}\n",
    ")\n",
    "\n",
    "%timeit list(Batch.split(batch, 1, shuffle=False, merge_last=True))"
   ]
  },
  {
   "cell_type": "code",
   "execution_count": null,
   "id": "2539fbd9",
   "metadata": {},
   "outputs": [],
   "source": []
  }
 ],
 "metadata": {
  "kernelspec": {
   "display_name": "Python 3 (ipykernel)",
   "language": "python",
   "name": "python3"
  },
  "language_info": {
   "codemirror_mode": {
    "name": "ipython",
    "version": 3
   },
   "file_extension": ".py",
   "mimetype": "text/x-python",
   "name": "python",
   "nbconvert_exporter": "python",
   "pygments_lexer": "ipython3",
   "version": "3.8.16"
  }
 },
 "nbformat": 4,
 "nbformat_minor": 5
}
