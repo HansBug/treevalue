{
 "cells": [
  {
   "cell_type": "markdown",
   "id": "9d39d946",
   "metadata": {},
   "source": [
    "# Comparison Between TreeValue and Tianshou Batch"
   ]
  },
  {
   "cell_type": "markdown",
   "id": "3c6db2d4",
   "metadata": {},
   "source": [
    "In this section, we will take a look at the feature and performance of the [Tianshou Batch](https://github.com/thu-ml/tianshou) library, which is developed by Tsinghua Machine Learning Group."
   ]
  },
  {
   "cell_type": "markdown",
   "id": "069361b0",
   "metadata": {},
   "source": [
    "Before starting the comparison, let us define some thing."
   ]
  },
  {
   "cell_type": "code",
   "execution_count": 1,
   "id": "06fc8d26",
   "metadata": {
    "execution": {
     "iopub.execute_input": "2023-08-14T05:17:19.420827Z",
     "iopub.status.busy": "2023-08-14T05:17:19.420410Z",
     "iopub.status.idle": "2023-08-14T05:17:20.756461Z",
     "shell.execute_reply": "2023-08-14T05:17:20.755721Z"
    }
   },
   "outputs": [],
   "source": [
    "import torch \n",
    "\n",
    "_TREE_DATA_1 = {'a': 1, 'b': 2, 'x': {'c': 3, 'd': 4}}\n",
    "_TREE_DATA_2 = {\n",
    "    'a': torch.randn(2, 3), \n",
    "    'x': {\n",
    "        'c': torch.randn(3, 4)\n",
    "    },\n",
    "}\n",
    "_TREE_DATA_3 = {\n",
    "    'obs': torch.randn(4, 84, 84),\n",
    "    'action': torch.randint(0, 6, size=(1,)),\n",
    "    'reward': torch.rand(1),\n",
    "}"
   ]
  },
  {
   "cell_type": "markdown",
   "id": "83461b25",
   "metadata": {},
   "source": [
    "## Read and Write Operation"
   ]
  },
  {
   "cell_type": "markdown",
   "id": "067b3f73",
   "metadata": {},
   "source": [
    "Reading and writing are the two most common operations in the tree data structure based on the data model (TreeValue and Tianshou Batch both belong to this type), so this section will compare the reading and writing performance of these two libraries."
   ]
  },
  {
   "cell_type": "markdown",
   "id": "5d09a5b7",
   "metadata": {},
   "source": [
    "### TreeValue's Get and Set"
   ]
  },
  {
   "cell_type": "code",
   "execution_count": 2,
   "id": "9519c4bb",
   "metadata": {
    "execution": {
     "iopub.execute_input": "2023-08-14T05:17:20.760544Z",
     "iopub.status.busy": "2023-08-14T05:17:20.760063Z",
     "iopub.status.idle": "2023-08-14T05:17:20.789339Z",
     "shell.execute_reply": "2023-08-14T05:17:20.788646Z"
    }
   },
   "outputs": [],
   "source": [
    "from treevalue import FastTreeValue\n",
    "\n",
    "t = FastTreeValue(_TREE_DATA_2)"
   ]
  },
  {
   "cell_type": "code",
   "execution_count": 3,
   "id": "11c37677",
   "metadata": {
    "execution": {
     "iopub.execute_input": "2023-08-14T05:17:20.792632Z",
     "iopub.status.busy": "2023-08-14T05:17:20.792151Z",
     "iopub.status.idle": "2023-08-14T05:17:20.801055Z",
     "shell.execute_reply": "2023-08-14T05:17:20.800361Z"
    }
   },
   "outputs": [
    {
     "data": {
      "text/plain": [
       "<FastTreeValue 0x7f784413a280>\n",
       "├── 'a' --> tensor([[ 0.0617,  1.7817,  0.6672],\n",
       "│                   [ 1.7408, -0.1656, -0.9410]])\n",
       "└── 'x' --> <FastTreeValue 0x7f7844152ca0>\n",
       "    └── 'c' --> tensor([[ 0.8413, -1.8009, -0.4463, -0.6287],\n",
       "                        [ 1.3967,  0.7992, -1.1303, -0.5740],\n",
       "                        [ 0.6748, -0.1954, -0.3331,  0.0111]])"
      ]
     },
     "execution_count": 3,
     "metadata": {},
     "output_type": "execute_result"
    }
   ],
   "source": [
    "t"
   ]
  },
  {
   "cell_type": "code",
   "execution_count": 4,
   "id": "fd70b0b9",
   "metadata": {
    "execution": {
     "iopub.execute_input": "2023-08-14T05:17:20.804772Z",
     "iopub.status.busy": "2023-08-14T05:17:20.804298Z",
     "iopub.status.idle": "2023-08-14T05:17:20.809512Z",
     "shell.execute_reply": "2023-08-14T05:17:20.808816Z"
    }
   },
   "outputs": [
    {
     "data": {
      "text/plain": [
       "tensor([[ 0.0617,  1.7817,  0.6672],\n",
       "        [ 1.7408, -0.1656, -0.9410]])"
      ]
     },
     "execution_count": 4,
     "metadata": {},
     "output_type": "execute_result"
    }
   ],
   "source": [
    "t.a"
   ]
  },
  {
   "cell_type": "code",
   "execution_count": 5,
   "id": "c18197bd",
   "metadata": {
    "execution": {
     "iopub.execute_input": "2023-08-14T05:17:20.812981Z",
     "iopub.status.busy": "2023-08-14T05:17:20.812612Z",
     "iopub.status.idle": "2023-08-14T05:17:26.334934Z",
     "shell.execute_reply": "2023-08-14T05:17:26.334174Z"
    }
   },
   "outputs": [
    {
     "name": "stdout",
     "output_type": "stream",
     "text": [
      "68.6 ns ± 0.0366 ns per loop (mean ± std. dev. of 7 runs, 10,000,000 loops each)\n"
     ]
    }
   ],
   "source": [
    "%timeit t.a"
   ]
  },
  {
   "cell_type": "code",
   "execution_count": 6,
   "id": "bd52f867",
   "metadata": {
    "execution": {
     "iopub.execute_input": "2023-08-14T05:17:26.338558Z",
     "iopub.status.busy": "2023-08-14T05:17:26.337860Z",
     "iopub.status.idle": "2023-08-14T05:17:26.345493Z",
     "shell.execute_reply": "2023-08-14T05:17:26.344798Z"
    }
   },
   "outputs": [
    {
     "data": {
      "text/plain": [
       "<FastTreeValue 0x7f784413a280>\n",
       "├── 'a' --> tensor([[ 0.4685,  0.4251,  1.4190],\n",
       "│                   [ 1.2686, -1.0916,  1.5418]])\n",
       "└── 'x' --> <FastTreeValue 0x7f7844152ca0>\n",
       "    └── 'c' --> tensor([[ 0.8413, -1.8009, -0.4463, -0.6287],\n",
       "                        [ 1.3967,  0.7992, -1.1303, -0.5740],\n",
       "                        [ 0.6748, -0.1954, -0.3331,  0.0111]])"
      ]
     },
     "execution_count": 6,
     "metadata": {},
     "output_type": "execute_result"
    }
   ],
   "source": [
    "new_value = torch.randn(2, 3)\n",
    "t.a = new_value\n",
    "\n",
    "t"
   ]
  },
  {
   "cell_type": "code",
   "execution_count": 7,
   "id": "bbe04d1c",
   "metadata": {
    "execution": {
     "iopub.execute_input": "2023-08-14T05:17:26.348812Z",
     "iopub.status.busy": "2023-08-14T05:17:26.348314Z",
     "iopub.status.idle": "2023-08-14T05:17:31.632031Z",
     "shell.execute_reply": "2023-08-14T05:17:31.631427Z"
    }
   },
   "outputs": [
    {
     "name": "stdout",
     "output_type": "stream",
     "text": [
      "65.1 ns ± 0.0252 ns per loop (mean ± std. dev. of 7 runs, 10,000,000 loops each)\n"
     ]
    }
   ],
   "source": [
    "%timeit t.a = new_value"
   ]
  },
  {
   "cell_type": "markdown",
   "id": "48c49731",
   "metadata": {},
   "source": [
    "### Tianshou Batch's Get and Set"
   ]
  },
  {
   "cell_type": "code",
   "execution_count": 8,
   "id": "f1bb14c1",
   "metadata": {
    "execution": {
     "iopub.execute_input": "2023-08-14T05:17:31.635437Z",
     "iopub.status.busy": "2023-08-14T05:17:31.635017Z",
     "iopub.status.idle": "2023-08-14T05:17:32.003337Z",
     "shell.execute_reply": "2023-08-14T05:17:32.002584Z"
    }
   },
   "outputs": [],
   "source": [
    "from tianshou.data import Batch\n",
    "\n",
    "b = Batch(**_TREE_DATA_2)"
   ]
  },
  {
   "cell_type": "code",
   "execution_count": 9,
   "id": "cb0777c3",
   "metadata": {
    "execution": {
     "iopub.execute_input": "2023-08-14T05:17:32.007100Z",
     "iopub.status.busy": "2023-08-14T05:17:32.006504Z",
     "iopub.status.idle": "2023-08-14T05:17:32.012330Z",
     "shell.execute_reply": "2023-08-14T05:17:32.011648Z"
    }
   },
   "outputs": [
    {
     "data": {
      "text/plain": [
       "Batch(\n",
       "    a: tensor([[ 0.0617,  1.7817,  0.6672],\n",
       "               [ 1.7408, -0.1656, -0.9410]]),\n",
       "    x: Batch(\n",
       "           c: tensor([[ 0.8413, -1.8009, -0.4463, -0.6287],\n",
       "                      [ 1.3967,  0.7992, -1.1303, -0.5740],\n",
       "                      [ 0.6748, -0.1954, -0.3331,  0.0111]]),\n",
       "       ),\n",
       ")"
      ]
     },
     "execution_count": 9,
     "metadata": {},
     "output_type": "execute_result"
    }
   ],
   "source": [
    "b"
   ]
  },
  {
   "cell_type": "code",
   "execution_count": 10,
   "id": "43ef8ea3",
   "metadata": {
    "execution": {
     "iopub.execute_input": "2023-08-14T05:17:32.015308Z",
     "iopub.status.busy": "2023-08-14T05:17:32.014915Z",
     "iopub.status.idle": "2023-08-14T05:17:32.020090Z",
     "shell.execute_reply": "2023-08-14T05:17:32.019420Z"
    }
   },
   "outputs": [
    {
     "data": {
      "text/plain": [
       "tensor([[ 0.0617,  1.7817,  0.6672],\n",
       "        [ 1.7408, -0.1656, -0.9410]])"
      ]
     },
     "execution_count": 10,
     "metadata": {},
     "output_type": "execute_result"
    }
   ],
   "source": [
    "b.a"
   ]
  },
  {
   "cell_type": "code",
   "execution_count": 11,
   "id": "b785ab72",
   "metadata": {
    "execution": {
     "iopub.execute_input": "2023-08-14T05:17:32.023250Z",
     "iopub.status.busy": "2023-08-14T05:17:32.022884Z",
     "iopub.status.idle": "2023-08-14T05:17:36.634064Z",
     "shell.execute_reply": "2023-08-14T05:17:36.633449Z"
    }
   },
   "outputs": [
    {
     "name": "stdout",
     "output_type": "stream",
     "text": [
      "56.8 ns ± 0.0788 ns per loop (mean ± std. dev. of 7 runs, 10,000,000 loops each)\n"
     ]
    }
   ],
   "source": [
    "%timeit b.a"
   ]
  },
  {
   "cell_type": "code",
   "execution_count": 12,
   "id": "ad54dc69",
   "metadata": {
    "execution": {
     "iopub.execute_input": "2023-08-14T05:17:36.637400Z",
     "iopub.status.busy": "2023-08-14T05:17:36.636776Z",
     "iopub.status.idle": "2023-08-14T05:17:36.643074Z",
     "shell.execute_reply": "2023-08-14T05:17:36.642353Z"
    }
   },
   "outputs": [
    {
     "data": {
      "text/plain": [
       "Batch(\n",
       "    a: tensor([[ 0.1886,  0.5979,  1.0057],\n",
       "               [ 0.9770, -0.2509, -0.1844]]),\n",
       "    x: Batch(\n",
       "           c: tensor([[ 0.8413, -1.8009, -0.4463, -0.6287],\n",
       "                      [ 1.3967,  0.7992, -1.1303, -0.5740],\n",
       "                      [ 0.6748, -0.1954, -0.3331,  0.0111]]),\n",
       "       ),\n",
       ")"
      ]
     },
     "execution_count": 12,
     "metadata": {},
     "output_type": "execute_result"
    }
   ],
   "source": [
    "new_value = torch.randn(2, 3)\n",
    "b.a = new_value\n",
    "\n",
    "b"
   ]
  },
  {
   "cell_type": "code",
   "execution_count": 13,
   "id": "29b1d0bf",
   "metadata": {
    "execution": {
     "iopub.execute_input": "2023-08-14T05:17:36.646037Z",
     "iopub.status.busy": "2023-08-14T05:17:36.645662Z",
     "iopub.status.idle": "2023-08-14T05:17:40.665697Z",
     "shell.execute_reply": "2023-08-14T05:17:40.665188Z"
    }
   },
   "outputs": [
    {
     "name": "stdout",
     "output_type": "stream",
     "text": [
      "494 ns ± 0.154 ns per loop (mean ± std. dev. of 7 runs, 1,000,000 loops each)\n"
     ]
    }
   ],
   "source": [
    "%timeit b.a = new_value"
   ]
  },
  {
   "cell_type": "markdown",
   "id": "b61ad1d0",
   "metadata": {},
   "source": [
    "## Initialization"
   ]
  },
  {
   "cell_type": "markdown",
   "id": "d70f0d54",
   "metadata": {},
   "source": [
    "### TreeValue's Initialization"
   ]
  },
  {
   "cell_type": "code",
   "execution_count": 14,
   "id": "d32a679b",
   "metadata": {
    "execution": {
     "iopub.execute_input": "2023-08-14T05:17:40.669368Z",
     "iopub.status.busy": "2023-08-14T05:17:40.668869Z",
     "iopub.status.idle": "2023-08-14T05:17:47.498491Z",
     "shell.execute_reply": "2023-08-14T05:17:47.497884Z"
    }
   },
   "outputs": [
    {
     "name": "stdout",
     "output_type": "stream",
     "text": [
      "842 ns ± 0.405 ns per loop (mean ± std. dev. of 7 runs, 1,000,000 loops each)\n"
     ]
    }
   ],
   "source": [
    "%timeit FastTreeValue(_TREE_DATA_1)"
   ]
  },
  {
   "cell_type": "markdown",
   "id": "24f3707b",
   "metadata": {},
   "source": [
    "### Tianshou Batch's Initialization"
   ]
  },
  {
   "cell_type": "code",
   "execution_count": 15,
   "id": "ac3958df",
   "metadata": {
    "execution": {
     "iopub.execute_input": "2023-08-14T05:17:47.501756Z",
     "iopub.status.busy": "2023-08-14T05:17:47.501277Z",
     "iopub.status.idle": "2023-08-14T05:17:56.765856Z",
     "shell.execute_reply": "2023-08-14T05:17:56.765230Z"
    }
   },
   "outputs": [
    {
     "name": "stdout",
     "output_type": "stream",
     "text": [
      "11.4 µs ± 35.7 ns per loop (mean ± std. dev. of 7 runs, 100,000 loops each)\n"
     ]
    }
   ],
   "source": [
    "%timeit Batch(**_TREE_DATA_1)"
   ]
  },
  {
   "cell_type": "markdown",
   "id": "1ab82e2d",
   "metadata": {},
   "source": [
    "## Deep Copy Operation"
   ]
  },
  {
   "cell_type": "code",
   "execution_count": 16,
   "id": "210a9442",
   "metadata": {
    "execution": {
     "iopub.execute_input": "2023-08-14T05:17:56.769512Z",
     "iopub.status.busy": "2023-08-14T05:17:56.769002Z",
     "iopub.status.idle": "2023-08-14T05:17:56.773608Z",
     "shell.execute_reply": "2023-08-14T05:17:56.772974Z"
    }
   },
   "outputs": [],
   "source": [
    "import copy"
   ]
  },
  {
   "cell_type": "markdown",
   "id": "5a736274",
   "metadata": {},
   "source": [
    "### Deep Copy of TreeValue"
   ]
  },
  {
   "cell_type": "code",
   "execution_count": 17,
   "id": "f9bcadd6",
   "metadata": {
    "execution": {
     "iopub.execute_input": "2023-08-14T05:17:56.776456Z",
     "iopub.status.busy": "2023-08-14T05:17:56.776094Z",
     "iopub.status.idle": "2023-08-14T05:18:07.960964Z",
     "shell.execute_reply": "2023-08-14T05:18:07.960348Z"
    }
   },
   "outputs": [
    {
     "name": "stdout",
     "output_type": "stream",
     "text": [
      "138 µs ± 632 ns per loop (mean ± std. dev. of 7 runs, 10,000 loops each)\n"
     ]
    }
   ],
   "source": [
    "t3 = FastTreeValue(_TREE_DATA_3)\n",
    "%timeit copy.deepcopy(t3)"
   ]
  },
  {
   "cell_type": "markdown",
   "id": "bf8be7ea",
   "metadata": {},
   "source": [
    "### Deep Copy of Tianshou Batch"
   ]
  },
  {
   "cell_type": "code",
   "execution_count": 18,
   "id": "91998e6f",
   "metadata": {
    "execution": {
     "iopub.execute_input": "2023-08-14T05:18:07.964708Z",
     "iopub.status.busy": "2023-08-14T05:18:07.964039Z",
     "iopub.status.idle": "2023-08-14T05:18:19.283679Z",
     "shell.execute_reply": "2023-08-14T05:18:19.283032Z"
    }
   },
   "outputs": [
    {
     "name": "stdout",
     "output_type": "stream",
     "text": [
      "139 µs ± 499 ns per loop (mean ± std. dev. of 7 runs, 10,000 loops each)\n"
     ]
    }
   ],
   "source": [
    "b3 = Batch(**_TREE_DATA_3)\n",
    "%timeit copy.deepcopy(b3)"
   ]
  },
  {
   "cell_type": "markdown",
   "id": "223162fb",
   "metadata": {},
   "source": [
    "## Stack, Concat and Split Operation"
   ]
  },
  {
   "cell_type": "markdown",
   "id": "85fa4a73",
   "metadata": {},
   "source": [
    "### Performance of TreeValue"
   ]
  },
  {
   "cell_type": "code",
   "execution_count": 19,
   "id": "a0c2b697",
   "metadata": {
    "execution": {
     "iopub.execute_input": "2023-08-14T05:18:19.287115Z",
     "iopub.status.busy": "2023-08-14T05:18:19.286853Z",
     "iopub.status.idle": "2023-08-14T05:18:19.291683Z",
     "shell.execute_reply": "2023-08-14T05:18:19.290832Z"
    }
   },
   "outputs": [],
   "source": [
    "trees = [FastTreeValue(_TREE_DATA_2) for _ in range(8)]"
   ]
  },
  {
   "cell_type": "code",
   "execution_count": 20,
   "id": "017ea5a5",
   "metadata": {
    "execution": {
     "iopub.execute_input": "2023-08-14T05:18:19.295124Z",
     "iopub.status.busy": "2023-08-14T05:18:19.294605Z",
     "iopub.status.idle": "2023-08-14T05:18:19.305520Z",
     "shell.execute_reply": "2023-08-14T05:18:19.304874Z"
    }
   },
   "outputs": [
    {
     "data": {
      "text/plain": [
       "<FastTreeValue 0x7f77743b41f0>\n",
       "├── 'a' --> tensor([[[ 0.0617,  1.7817,  0.6672],\n",
       "│                    [ 1.7408, -0.1656, -0.9410]],\n",
       "│           \n",
       "│                   [[ 0.0617,  1.7817,  0.6672],\n",
       "│                    [ 1.7408, -0.1656, -0.9410]],\n",
       "│           \n",
       "│                   [[ 0.0617,  1.7817,  0.6672],\n",
       "│                    [ 1.7408, -0.1656, -0.9410]],\n",
       "│           \n",
       "│                   [[ 0.0617,  1.7817,  0.6672],\n",
       "│                    [ 1.7408, -0.1656, -0.9410]],\n",
       "│           \n",
       "│                   [[ 0.0617,  1.7817,  0.6672],\n",
       "│                    [ 1.7408, -0.1656, -0.9410]],\n",
       "│           \n",
       "│                   [[ 0.0617,  1.7817,  0.6672],\n",
       "│                    [ 1.7408, -0.1656, -0.9410]],\n",
       "│           \n",
       "│                   [[ 0.0617,  1.7817,  0.6672],\n",
       "│                    [ 1.7408, -0.1656, -0.9410]],\n",
       "│           \n",
       "│                   [[ 0.0617,  1.7817,  0.6672],\n",
       "│                    [ 1.7408, -0.1656, -0.9410]]])\n",
       "└── 'x' --> <FastTreeValue 0x7f77746bd9d0>\n",
       "    └── 'c' --> tensor([[[ 0.8413, -1.8009, -0.4463, -0.6287],\n",
       "                         [ 1.3967,  0.7992, -1.1303, -0.5740],\n",
       "                         [ 0.6748, -0.1954, -0.3331,  0.0111]],\n",
       "                \n",
       "                        [[ 0.8413, -1.8009, -0.4463, -0.6287],\n",
       "                         [ 1.3967,  0.7992, -1.1303, -0.5740],\n",
       "                         [ 0.6748, -0.1954, -0.3331,  0.0111]],\n",
       "                \n",
       "                        [[ 0.8413, -1.8009, -0.4463, -0.6287],\n",
       "                         [ 1.3967,  0.7992, -1.1303, -0.5740],\n",
       "                         [ 0.6748, -0.1954, -0.3331,  0.0111]],\n",
       "                \n",
       "                        [[ 0.8413, -1.8009, -0.4463, -0.6287],\n",
       "                         [ 1.3967,  0.7992, -1.1303, -0.5740],\n",
       "                         [ 0.6748, -0.1954, -0.3331,  0.0111]],\n",
       "                \n",
       "                        [[ 0.8413, -1.8009, -0.4463, -0.6287],\n",
       "                         [ 1.3967,  0.7992, -1.1303, -0.5740],\n",
       "                         [ 0.6748, -0.1954, -0.3331,  0.0111]],\n",
       "                \n",
       "                        [[ 0.8413, -1.8009, -0.4463, -0.6287],\n",
       "                         [ 1.3967,  0.7992, -1.1303, -0.5740],\n",
       "                         [ 0.6748, -0.1954, -0.3331,  0.0111]],\n",
       "                \n",
       "                        [[ 0.8413, -1.8009, -0.4463, -0.6287],\n",
       "                         [ 1.3967,  0.7992, -1.1303, -0.5740],\n",
       "                         [ 0.6748, -0.1954, -0.3331,  0.0111]],\n",
       "                \n",
       "                        [[ 0.8413, -1.8009, -0.4463, -0.6287],\n",
       "                         [ 1.3967,  0.7992, -1.1303, -0.5740],\n",
       "                         [ 0.6748, -0.1954, -0.3331,  0.0111]]])"
      ]
     },
     "execution_count": 20,
     "metadata": {},
     "output_type": "execute_result"
    }
   ],
   "source": [
    "t_stack = FastTreeValue.func(subside=True)(torch.stack)\n",
    "\n",
    "t_stack(trees)"
   ]
  },
  {
   "cell_type": "code",
   "execution_count": 21,
   "id": "f8b3f415",
   "metadata": {
    "execution": {
     "iopub.execute_input": "2023-08-14T05:18:19.308619Z",
     "iopub.status.busy": "2023-08-14T05:18:19.308147Z",
     "iopub.status.idle": "2023-08-14T05:18:21.975696Z",
     "shell.execute_reply": "2023-08-14T05:18:21.975076Z"
    }
   },
   "outputs": [
    {
     "name": "stdout",
     "output_type": "stream",
     "text": [
      "32.8 µs ± 78.5 ns per loop (mean ± std. dev. of 7 runs, 10,000 loops each)\n"
     ]
    }
   ],
   "source": [
    "%timeit t_stack(trees)"
   ]
  },
  {
   "cell_type": "code",
   "execution_count": 22,
   "id": "94b56771",
   "metadata": {
    "execution": {
     "iopub.execute_input": "2023-08-14T05:18:21.978645Z",
     "iopub.status.busy": "2023-08-14T05:18:21.978239Z",
     "iopub.status.idle": "2023-08-14T05:18:21.985750Z",
     "shell.execute_reply": "2023-08-14T05:18:21.985083Z"
    }
   },
   "outputs": [
    {
     "data": {
      "text/plain": [
       "<FastTreeValue 0x7f78400c35e0>\n",
       "├── 'a' --> tensor([[ 0.0617,  1.7817,  0.6672],\n",
       "│                   [ 1.7408, -0.1656, -0.9410],\n",
       "│                   [ 0.0617,  1.7817,  0.6672],\n",
       "│                   [ 1.7408, -0.1656, -0.9410],\n",
       "│                   [ 0.0617,  1.7817,  0.6672],\n",
       "│                   [ 1.7408, -0.1656, -0.9410],\n",
       "│                   [ 0.0617,  1.7817,  0.6672],\n",
       "│                   [ 1.7408, -0.1656, -0.9410],\n",
       "│                   [ 0.0617,  1.7817,  0.6672],\n",
       "│                   [ 1.7408, -0.1656, -0.9410],\n",
       "│                   [ 0.0617,  1.7817,  0.6672],\n",
       "│                   [ 1.7408, -0.1656, -0.9410],\n",
       "│                   [ 0.0617,  1.7817,  0.6672],\n",
       "│                   [ 1.7408, -0.1656, -0.9410],\n",
       "│                   [ 0.0617,  1.7817,  0.6672],\n",
       "│                   [ 1.7408, -0.1656, -0.9410]])\n",
       "└── 'x' --> <FastTreeValue 0x7f78400c3730>\n",
       "    └── 'c' --> tensor([[ 0.8413, -1.8009, -0.4463, -0.6287],\n",
       "                        [ 1.3967,  0.7992, -1.1303, -0.5740],\n",
       "                        [ 0.6748, -0.1954, -0.3331,  0.0111],\n",
       "                        [ 0.8413, -1.8009, -0.4463, -0.6287],\n",
       "                        [ 1.3967,  0.7992, -1.1303, -0.5740],\n",
       "                        [ 0.6748, -0.1954, -0.3331,  0.0111],\n",
       "                        [ 0.8413, -1.8009, -0.4463, -0.6287],\n",
       "                        [ 1.3967,  0.7992, -1.1303, -0.5740],\n",
       "                        [ 0.6748, -0.1954, -0.3331,  0.0111],\n",
       "                        [ 0.8413, -1.8009, -0.4463, -0.6287],\n",
       "                        [ 1.3967,  0.7992, -1.1303, -0.5740],\n",
       "                        [ 0.6748, -0.1954, -0.3331,  0.0111],\n",
       "                        [ 0.8413, -1.8009, -0.4463, -0.6287],\n",
       "                        [ 1.3967,  0.7992, -1.1303, -0.5740],\n",
       "                        [ 0.6748, -0.1954, -0.3331,  0.0111],\n",
       "                        [ 0.8413, -1.8009, -0.4463, -0.6287],\n",
       "                        [ 1.3967,  0.7992, -1.1303, -0.5740],\n",
       "                        [ 0.6748, -0.1954, -0.3331,  0.0111],\n",
       "                        [ 0.8413, -1.8009, -0.4463, -0.6287],\n",
       "                        [ 1.3967,  0.7992, -1.1303, -0.5740],\n",
       "                        [ 0.6748, -0.1954, -0.3331,  0.0111],\n",
       "                        [ 0.8413, -1.8009, -0.4463, -0.6287],\n",
       "                        [ 1.3967,  0.7992, -1.1303, -0.5740],\n",
       "                        [ 0.6748, -0.1954, -0.3331,  0.0111]])"
      ]
     },
     "execution_count": 22,
     "metadata": {},
     "output_type": "execute_result"
    }
   ],
   "source": [
    "t_cat = FastTreeValue.func(subside=True)(torch.cat)\n",
    "\n",
    "t_cat(trees)"
   ]
  },
  {
   "cell_type": "code",
   "execution_count": 23,
   "id": "5e9c06a6",
   "metadata": {
    "execution": {
     "iopub.execute_input": "2023-08-14T05:18:21.988552Z",
     "iopub.status.busy": "2023-08-14T05:18:21.988191Z",
     "iopub.status.idle": "2023-08-14T05:18:24.481406Z",
     "shell.execute_reply": "2023-08-14T05:18:24.480769Z"
    }
   },
   "outputs": [
    {
     "name": "stdout",
     "output_type": "stream",
     "text": [
      "30.6 µs ± 78.2 ns per loop (mean ± std. dev. of 7 runs, 10,000 loops each)\n"
     ]
    }
   ],
   "source": [
    "%timeit t_cat(trees)"
   ]
  },
  {
   "cell_type": "code",
   "execution_count": 24,
   "id": "a3ab5c8f",
   "metadata": {
    "execution": {
     "iopub.execute_input": "2023-08-14T05:18:24.484658Z",
     "iopub.status.busy": "2023-08-14T05:18:24.484141Z",
     "iopub.status.idle": "2023-08-14T05:18:30.002672Z",
     "shell.execute_reply": "2023-08-14T05:18:30.001842Z"
    }
   },
   "outputs": [
    {
     "name": "stdout",
     "output_type": "stream",
     "text": [
      "67.9 µs ± 65.1 ns per loop (mean ± std. dev. of 7 runs, 10,000 loops each)\n"
     ]
    }
   ],
   "source": [
    "t_split = FastTreeValue.func(rise=True)(torch.split)\n",
    "tree = FastTreeValue({\n",
    "    'obs': torch.randn(8, 4, 84, 84),\n",
    "    'action': torch.randint(0, 6, size=(8, 1,)),\n",
    "    'reward': torch.rand(8, 1),\n",
    "})\n",
    "\n",
    "%timeit t_split(tree, 1)"
   ]
  },
  {
   "cell_type": "markdown",
   "id": "31c3ec0b",
   "metadata": {},
   "source": [
    "### Performance of Tianshou Batch"
   ]
  },
  {
   "cell_type": "code",
   "execution_count": 25,
   "id": "9ead828a",
   "metadata": {
    "execution": {
     "iopub.execute_input": "2023-08-14T05:18:30.006315Z",
     "iopub.status.busy": "2023-08-14T05:18:30.005711Z",
     "iopub.status.idle": "2023-08-14T05:18:30.013903Z",
     "shell.execute_reply": "2023-08-14T05:18:30.012902Z"
    }
   },
   "outputs": [
    {
     "data": {
      "text/plain": [
       "Batch(\n",
       "    a: tensor([[[ 0.0617,  1.7817,  0.6672],\n",
       "                [ 1.7408, -0.1656, -0.9410]],\n",
       "       \n",
       "               [[ 0.0617,  1.7817,  0.6672],\n",
       "                [ 1.7408, -0.1656, -0.9410]],\n",
       "       \n",
       "               [[ 0.0617,  1.7817,  0.6672],\n",
       "                [ 1.7408, -0.1656, -0.9410]],\n",
       "       \n",
       "               [[ 0.0617,  1.7817,  0.6672],\n",
       "                [ 1.7408, -0.1656, -0.9410]],\n",
       "       \n",
       "               [[ 0.0617,  1.7817,  0.6672],\n",
       "                [ 1.7408, -0.1656, -0.9410]],\n",
       "       \n",
       "               [[ 0.0617,  1.7817,  0.6672],\n",
       "                [ 1.7408, -0.1656, -0.9410]],\n",
       "       \n",
       "               [[ 0.0617,  1.7817,  0.6672],\n",
       "                [ 1.7408, -0.1656, -0.9410]],\n",
       "       \n",
       "               [[ 0.0617,  1.7817,  0.6672],\n",
       "                [ 1.7408, -0.1656, -0.9410]]]),\n",
       "    x: Batch(\n",
       "           c: tensor([[[ 0.8413, -1.8009, -0.4463, -0.6287],\n",
       "                       [ 1.3967,  0.7992, -1.1303, -0.5740],\n",
       "                       [ 0.6748, -0.1954, -0.3331,  0.0111]],\n",
       "              \n",
       "                      [[ 0.8413, -1.8009, -0.4463, -0.6287],\n",
       "                       [ 1.3967,  0.7992, -1.1303, -0.5740],\n",
       "                       [ 0.6748, -0.1954, -0.3331,  0.0111]],\n",
       "              \n",
       "                      [[ 0.8413, -1.8009, -0.4463, -0.6287],\n",
       "                       [ 1.3967,  0.7992, -1.1303, -0.5740],\n",
       "                       [ 0.6748, -0.1954, -0.3331,  0.0111]],\n",
       "              \n",
       "                      [[ 0.8413, -1.8009, -0.4463, -0.6287],\n",
       "                       [ 1.3967,  0.7992, -1.1303, -0.5740],\n",
       "                       [ 0.6748, -0.1954, -0.3331,  0.0111]],\n",
       "              \n",
       "                      [[ 0.8413, -1.8009, -0.4463, -0.6287],\n",
       "                       [ 1.3967,  0.7992, -1.1303, -0.5740],\n",
       "                       [ 0.6748, -0.1954, -0.3331,  0.0111]],\n",
       "              \n",
       "                      [[ 0.8413, -1.8009, -0.4463, -0.6287],\n",
       "                       [ 1.3967,  0.7992, -1.1303, -0.5740],\n",
       "                       [ 0.6748, -0.1954, -0.3331,  0.0111]],\n",
       "              \n",
       "                      [[ 0.8413, -1.8009, -0.4463, -0.6287],\n",
       "                       [ 1.3967,  0.7992, -1.1303, -0.5740],\n",
       "                       [ 0.6748, -0.1954, -0.3331,  0.0111]],\n",
       "              \n",
       "                      [[ 0.8413, -1.8009, -0.4463, -0.6287],\n",
       "                       [ 1.3967,  0.7992, -1.1303, -0.5740],\n",
       "                       [ 0.6748, -0.1954, -0.3331,  0.0111]]]),\n",
       "       ),\n",
       ")"
      ]
     },
     "execution_count": 25,
     "metadata": {},
     "output_type": "execute_result"
    }
   ],
   "source": [
    "batches = [Batch(**_TREE_DATA_2) for _ in range(8)]\n",
    "\n",
    "Batch.stack(batches)"
   ]
  },
  {
   "cell_type": "code",
   "execution_count": 26,
   "id": "ec9037a3",
   "metadata": {
    "execution": {
     "iopub.execute_input": "2023-08-14T05:18:30.016919Z",
     "iopub.status.busy": "2023-08-14T05:18:30.016537Z",
     "iopub.status.idle": "2023-08-14T05:18:36.528964Z",
     "shell.execute_reply": "2023-08-14T05:18:36.528362Z"
    }
   },
   "outputs": [
    {
     "name": "stdout",
     "output_type": "stream",
     "text": [
      "80.2 µs ± 205 ns per loop (mean ± std. dev. of 7 runs, 10,000 loops each)\n"
     ]
    }
   ],
   "source": [
    "%timeit Batch.stack(batches)"
   ]
  },
  {
   "cell_type": "code",
   "execution_count": 27,
   "id": "cb8ab77e",
   "metadata": {
    "execution": {
     "iopub.execute_input": "2023-08-14T05:18:36.532103Z",
     "iopub.status.busy": "2023-08-14T05:18:36.531637Z",
     "iopub.status.idle": "2023-08-14T05:18:36.538953Z",
     "shell.execute_reply": "2023-08-14T05:18:36.538234Z"
    }
   },
   "outputs": [
    {
     "data": {
      "text/plain": [
       "Batch(\n",
       "    a: tensor([[ 0.0617,  1.7817,  0.6672],\n",
       "               [ 1.7408, -0.1656, -0.9410],\n",
       "               [ 0.0617,  1.7817,  0.6672],\n",
       "               [ 1.7408, -0.1656, -0.9410],\n",
       "               [ 0.0617,  1.7817,  0.6672],\n",
       "               [ 1.7408, -0.1656, -0.9410],\n",
       "               [ 0.0617,  1.7817,  0.6672],\n",
       "               [ 1.7408, -0.1656, -0.9410],\n",
       "               [ 0.0617,  1.7817,  0.6672],\n",
       "               [ 1.7408, -0.1656, -0.9410],\n",
       "               [ 0.0617,  1.7817,  0.6672],\n",
       "               [ 1.7408, -0.1656, -0.9410],\n",
       "               [ 0.0617,  1.7817,  0.6672],\n",
       "               [ 1.7408, -0.1656, -0.9410],\n",
       "               [ 0.0617,  1.7817,  0.6672],\n",
       "               [ 1.7408, -0.1656, -0.9410]]),\n",
       "    x: Batch(\n",
       "           c: tensor([[ 0.8413, -1.8009, -0.4463, -0.6287],\n",
       "                      [ 1.3967,  0.7992, -1.1303, -0.5740],\n",
       "                      [ 0.6748, -0.1954, -0.3331,  0.0111],\n",
       "                      [ 0.8413, -1.8009, -0.4463, -0.6287],\n",
       "                      [ 1.3967,  0.7992, -1.1303, -0.5740],\n",
       "                      [ 0.6748, -0.1954, -0.3331,  0.0111],\n",
       "                      [ 0.8413, -1.8009, -0.4463, -0.6287],\n",
       "                      [ 1.3967,  0.7992, -1.1303, -0.5740],\n",
       "                      [ 0.6748, -0.1954, -0.3331,  0.0111],\n",
       "                      [ 0.8413, -1.8009, -0.4463, -0.6287],\n",
       "                      [ 1.3967,  0.7992, -1.1303, -0.5740],\n",
       "                      [ 0.6748, -0.1954, -0.3331,  0.0111],\n",
       "                      [ 0.8413, -1.8009, -0.4463, -0.6287],\n",
       "                      [ 1.3967,  0.7992, -1.1303, -0.5740],\n",
       "                      [ 0.6748, -0.1954, -0.3331,  0.0111],\n",
       "                      [ 0.8413, -1.8009, -0.4463, -0.6287],\n",
       "                      [ 1.3967,  0.7992, -1.1303, -0.5740],\n",
       "                      [ 0.6748, -0.1954, -0.3331,  0.0111],\n",
       "                      [ 0.8413, -1.8009, -0.4463, -0.6287],\n",
       "                      [ 1.3967,  0.7992, -1.1303, -0.5740],\n",
       "                      [ 0.6748, -0.1954, -0.3331,  0.0111],\n",
       "                      [ 0.8413, -1.8009, -0.4463, -0.6287],\n",
       "                      [ 1.3967,  0.7992, -1.1303, -0.5740],\n",
       "                      [ 0.6748, -0.1954, -0.3331,  0.0111]]),\n",
       "       ),\n",
       ")"
      ]
     },
     "execution_count": 27,
     "metadata": {},
     "output_type": "execute_result"
    }
   ],
   "source": [
    "Batch.cat(batches)"
   ]
  },
  {
   "cell_type": "code",
   "execution_count": 28,
   "id": "18dfb045",
   "metadata": {
    "execution": {
     "iopub.execute_input": "2023-08-14T05:18:36.541921Z",
     "iopub.status.busy": "2023-08-14T05:18:36.541550Z",
     "iopub.status.idle": "2023-08-14T05:18:48.756899Z",
     "shell.execute_reply": "2023-08-14T05:18:48.756286Z"
    }
   },
   "outputs": [
    {
     "name": "stdout",
     "output_type": "stream",
     "text": [
      "150 µs ± 456 ns per loop (mean ± std. dev. of 7 runs, 10,000 loops each)\n"
     ]
    }
   ],
   "source": [
    "%timeit Batch.cat(batches)"
   ]
  },
  {
   "cell_type": "code",
   "execution_count": 29,
   "id": "c6688e51",
   "metadata": {
    "execution": {
     "iopub.execute_input": "2023-08-14T05:18:48.760257Z",
     "iopub.status.busy": "2023-08-14T05:18:48.759621Z",
     "iopub.status.idle": "2023-08-14T05:18:51.469789Z",
     "shell.execute_reply": "2023-08-14T05:18:51.469204Z"
    }
   },
   "outputs": [
    {
     "name": "stdout",
     "output_type": "stream",
     "text": [
      "333 µs ± 4.15 µs per loop (mean ± std. dev. of 7 runs, 1,000 loops each)\n"
     ]
    }
   ],
   "source": [
    "batch = Batch({\n",
    "    'obs': torch.randn(8, 4, 84, 84),\n",
    "    'action': torch.randint(0, 6, size=(8, 1,)),\n",
    "    'reward': torch.rand(8, 1)}\n",
    ")\n",
    "\n",
    "%timeit list(Batch.split(batch, 1, shuffle=False, merge_last=True))"
   ]
  },
  {
   "cell_type": "code",
   "execution_count": null,
   "id": "2539fbd9",
   "metadata": {},
   "outputs": [],
   "source": []
  }
 ],
 "metadata": {
  "kernelspec": {
   "display_name": "Python 3 (ipykernel)",
   "language": "python",
   "name": "python3"
  },
  "language_info": {
   "codemirror_mode": {
    "name": "ipython",
    "version": 3
   },
   "file_extension": ".py",
   "mimetype": "text/x-python",
   "name": "python",
   "nbconvert_exporter": "python",
   "pygments_lexer": "ipython3",
   "version": "3.8.17"
  }
 },
 "nbformat": 4,
 "nbformat_minor": 5
}
