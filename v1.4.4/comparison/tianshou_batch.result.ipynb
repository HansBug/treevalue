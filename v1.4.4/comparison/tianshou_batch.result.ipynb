{
 "cells": [
  {
   "cell_type": "markdown",
   "id": "9d39d946",
   "metadata": {},
   "source": [
    "# Comparison Between TreeValue and Tianshou Batch"
   ]
  },
  {
   "cell_type": "markdown",
   "id": "3c6db2d4",
   "metadata": {},
   "source": [
    "In this section, we will take a look at the feature and performance of the [Tianshou Batch](https://github.com/thu-ml/tianshou) library, which is developed by Tsinghua Machine Learning Group."
   ]
  },
  {
   "cell_type": "markdown",
   "id": "069361b0",
   "metadata": {},
   "source": [
    "Before starting the comparison, let us define some thing."
   ]
  },
  {
   "cell_type": "code",
   "execution_count": 1,
   "id": "06fc8d26",
   "metadata": {
    "execution": {
     "iopub.execute_input": "2023-02-23T09:37:32.229182Z",
     "iopub.status.busy": "2023-02-23T09:37:32.227754Z",
     "iopub.status.idle": "2023-02-23T09:37:33.462523Z",
     "shell.execute_reply": "2023-02-23T09:37:33.461476Z"
    }
   },
   "outputs": [
    {
     "name": "stderr",
     "output_type": "stream",
     "text": [
      "/opt/hostedtoolcache/Python/3.8.16/x64/lib/python3.8/site-packages/tqdm/auto.py:22: TqdmWarning: IProgress not found. Please update jupyter and ipywidgets. See https://ipywidgets.readthedocs.io/en/stable/user_install.html\n",
      "  from .autonotebook import tqdm as notebook_tqdm\n"
     ]
    }
   ],
   "source": [
    "import torch \n",
    "\n",
    "_TREE_DATA_1 = {'a': 1, 'b': 2, 'x': {'c': 3, 'd': 4}}\n",
    "_TREE_DATA_2 = {\n",
    "    'a': torch.randn(2, 3), \n",
    "    'x': {\n",
    "        'c': torch.randn(3, 4)\n",
    "    },\n",
    "}\n",
    "_TREE_DATA_3 = {\n",
    "    'obs': torch.randn(4, 84, 84),\n",
    "    'action': torch.randint(0, 6, size=(1,)),\n",
    "    'reward': torch.rand(1),\n",
    "}"
   ]
  },
  {
   "cell_type": "markdown",
   "id": "83461b25",
   "metadata": {},
   "source": [
    "## Read and Write Operation"
   ]
  },
  {
   "cell_type": "markdown",
   "id": "067b3f73",
   "metadata": {},
   "source": [
    "Reading and writing are the two most common operations in the tree data structure based on the data model (TreeValue and Tianshou Batch both belong to this type), so this section will compare the reading and writing performance of these two libraries."
   ]
  },
  {
   "cell_type": "markdown",
   "id": "5d09a5b7",
   "metadata": {},
   "source": [
    "### TreeValue's Get and Set"
   ]
  },
  {
   "cell_type": "code",
   "execution_count": 2,
   "id": "9519c4bb",
   "metadata": {
    "execution": {
     "iopub.execute_input": "2023-02-23T09:37:33.467323Z",
     "iopub.status.busy": "2023-02-23T09:37:33.466928Z",
     "iopub.status.idle": "2023-02-23T09:37:33.512317Z",
     "shell.execute_reply": "2023-02-23T09:37:33.511272Z"
    }
   },
   "outputs": [],
   "source": [
    "from treevalue import FastTreeValue\n",
    "\n",
    "t = FastTreeValue(_TREE_DATA_2)"
   ]
  },
  {
   "cell_type": "code",
   "execution_count": 3,
   "id": "11c37677",
   "metadata": {
    "execution": {
     "iopub.execute_input": "2023-02-23T09:37:33.516250Z",
     "iopub.status.busy": "2023-02-23T09:37:33.515817Z",
     "iopub.status.idle": "2023-02-23T09:37:33.528264Z",
     "shell.execute_reply": "2023-02-23T09:37:33.527301Z"
    }
   },
   "outputs": [
    {
     "data": {
      "text/plain": [
       "<FastTreeValue 0x7f0594ee1610>\n",
       "├── 'a' --> tensor([[ 1.1110,  1.3867,  1.1788],\n",
       "│                   [-0.8983,  0.8259,  0.0333]])\n",
       "└── 'x' --> <FastTreeValue 0x7f0594ee15b0>\n",
       "    └── 'c' --> tensor([[-0.6396, -1.6913,  0.1114,  1.2212],\n",
       "                        [-0.7719, -0.3942,  1.6017, -0.2252],\n",
       "                        [-0.6502,  1.8978,  1.6624, -0.3462]])"
      ]
     },
     "execution_count": 3,
     "metadata": {},
     "output_type": "execute_result"
    }
   ],
   "source": [
    "t"
   ]
  },
  {
   "cell_type": "code",
   "execution_count": 4,
   "id": "fd70b0b9",
   "metadata": {
    "execution": {
     "iopub.execute_input": "2023-02-23T09:37:33.532063Z",
     "iopub.status.busy": "2023-02-23T09:37:33.531615Z",
     "iopub.status.idle": "2023-02-23T09:37:33.538894Z",
     "shell.execute_reply": "2023-02-23T09:37:33.537970Z"
    }
   },
   "outputs": [
    {
     "data": {
      "text/plain": [
       "tensor([[ 1.1110,  1.3867,  1.1788],\n",
       "        [-0.8983,  0.8259,  0.0333]])"
      ]
     },
     "execution_count": 4,
     "metadata": {},
     "output_type": "execute_result"
    }
   ],
   "source": [
    "t.a"
   ]
  },
  {
   "cell_type": "code",
   "execution_count": 5,
   "id": "c18197bd",
   "metadata": {
    "execution": {
     "iopub.execute_input": "2023-02-23T09:37:33.542416Z",
     "iopub.status.busy": "2023-02-23T09:37:33.542133Z",
     "iopub.status.idle": "2023-02-23T09:37:39.811720Z",
     "shell.execute_reply": "2023-02-23T09:37:39.810505Z"
    }
   },
   "outputs": [
    {
     "name": "stdout",
     "output_type": "stream",
     "text": [
      "76.9 ns ± 0.74 ns per loop (mean ± std. dev. of 7 runs, 10,000,000 loops each)\n"
     ]
    }
   ],
   "source": [
    "%timeit t.a"
   ]
  },
  {
   "cell_type": "code",
   "execution_count": 6,
   "id": "bd52f867",
   "metadata": {
    "execution": {
     "iopub.execute_input": "2023-02-23T09:37:39.816222Z",
     "iopub.status.busy": "2023-02-23T09:37:39.815557Z",
     "iopub.status.idle": "2023-02-23T09:37:39.824851Z",
     "shell.execute_reply": "2023-02-23T09:37:39.823827Z"
    }
   },
   "outputs": [
    {
     "data": {
      "text/plain": [
       "<FastTreeValue 0x7f0594ee1610>\n",
       "├── 'a' --> tensor([[ 0.6401,  0.4358, -1.5723],\n",
       "│                   [-0.1610, -0.4269, -0.7177]])\n",
       "└── 'x' --> <FastTreeValue 0x7f0594ee15b0>\n",
       "    └── 'c' --> tensor([[-0.6396, -1.6913,  0.1114,  1.2212],\n",
       "                        [-0.7719, -0.3942,  1.6017, -0.2252],\n",
       "                        [-0.6502,  1.8978,  1.6624, -0.3462]])"
      ]
     },
     "execution_count": 6,
     "metadata": {},
     "output_type": "execute_result"
    }
   ],
   "source": [
    "new_value = torch.randn(2, 3)\n",
    "t.a = new_value\n",
    "\n",
    "t"
   ]
  },
  {
   "cell_type": "code",
   "execution_count": 7,
   "id": "bbe04d1c",
   "metadata": {
    "execution": {
     "iopub.execute_input": "2023-02-23T09:37:39.828377Z",
     "iopub.status.busy": "2023-02-23T09:37:39.828083Z",
     "iopub.status.idle": "2023-02-23T09:37:47.200416Z",
     "shell.execute_reply": "2023-02-23T09:37:47.199366Z"
    }
   },
   "outputs": [
    {
     "name": "stdout",
     "output_type": "stream",
     "text": [
      "90.7 ns ± 1.14 ns per loop (mean ± std. dev. of 7 runs, 10,000,000 loops each)\n"
     ]
    }
   ],
   "source": [
    "%timeit t.a = new_value"
   ]
  },
  {
   "cell_type": "markdown",
   "id": "48c49731",
   "metadata": {},
   "source": [
    "### Tianshou Batch's Get and Set"
   ]
  },
  {
   "cell_type": "code",
   "execution_count": 8,
   "id": "f1bb14c1",
   "metadata": {
    "execution": {
     "iopub.execute_input": "2023-02-23T09:37:47.204449Z",
     "iopub.status.busy": "2023-02-23T09:37:47.203811Z",
     "iopub.status.idle": "2023-02-23T09:37:47.662065Z",
     "shell.execute_reply": "2023-02-23T09:37:47.660983Z"
    }
   },
   "outputs": [],
   "source": [
    "from tianshou.data import Batch\n",
    "\n",
    "b = Batch(**_TREE_DATA_2)"
   ]
  },
  {
   "cell_type": "code",
   "execution_count": 9,
   "id": "cb0777c3",
   "metadata": {
    "execution": {
     "iopub.execute_input": "2023-02-23T09:37:47.666727Z",
     "iopub.status.busy": "2023-02-23T09:37:47.666296Z",
     "iopub.status.idle": "2023-02-23T09:37:47.674793Z",
     "shell.execute_reply": "2023-02-23T09:37:47.673845Z"
    }
   },
   "outputs": [
    {
     "data": {
      "text/plain": [
       "Batch(\n",
       "    a: tensor([[ 1.1110,  1.3867,  1.1788],\n",
       "               [-0.8983,  0.8259,  0.0333]]),\n",
       "    x: Batch(\n",
       "           c: tensor([[-0.6396, -1.6913,  0.1114,  1.2212],\n",
       "                      [-0.7719, -0.3942,  1.6017, -0.2252],\n",
       "                      [-0.6502,  1.8978,  1.6624, -0.3462]]),\n",
       "       ),\n",
       ")"
      ]
     },
     "execution_count": 9,
     "metadata": {},
     "output_type": "execute_result"
    }
   ],
   "source": [
    "b"
   ]
  },
  {
   "cell_type": "code",
   "execution_count": 10,
   "id": "43ef8ea3",
   "metadata": {
    "execution": {
     "iopub.execute_input": "2023-02-23T09:37:47.678297Z",
     "iopub.status.busy": "2023-02-23T09:37:47.678009Z",
     "iopub.status.idle": "2023-02-23T09:37:47.686256Z",
     "shell.execute_reply": "2023-02-23T09:37:47.685299Z"
    }
   },
   "outputs": [
    {
     "data": {
      "text/plain": [
       "tensor([[ 1.1110,  1.3867,  1.1788],\n",
       "        [-0.8983,  0.8259,  0.0333]])"
      ]
     },
     "execution_count": 10,
     "metadata": {},
     "output_type": "execute_result"
    }
   ],
   "source": [
    "b.a"
   ]
  },
  {
   "cell_type": "code",
   "execution_count": 11,
   "id": "b785ab72",
   "metadata": {
    "execution": {
     "iopub.execute_input": "2023-02-23T09:37:47.689539Z",
     "iopub.status.busy": "2023-02-23T09:37:47.689227Z",
     "iopub.status.idle": "2023-02-23T09:37:53.377866Z",
     "shell.execute_reply": "2023-02-23T09:37:53.376855Z"
    }
   },
   "outputs": [
    {
     "name": "stdout",
     "output_type": "stream",
     "text": [
      "69.8 ns ± 0.67 ns per loop (mean ± std. dev. of 7 runs, 10,000,000 loops each)\n"
     ]
    }
   ],
   "source": [
    "%timeit b.a"
   ]
  },
  {
   "cell_type": "code",
   "execution_count": 12,
   "id": "ad54dc69",
   "metadata": {
    "execution": {
     "iopub.execute_input": "2023-02-23T09:37:53.381959Z",
     "iopub.status.busy": "2023-02-23T09:37:53.381257Z",
     "iopub.status.idle": "2023-02-23T09:37:53.389128Z",
     "shell.execute_reply": "2023-02-23T09:37:53.388191Z"
    }
   },
   "outputs": [
    {
     "data": {
      "text/plain": [
       "Batch(\n",
       "    a: tensor([[ 0.1949,  0.0853, -0.4415],\n",
       "               [-1.7424, -0.3308,  1.0565]]),\n",
       "    x: Batch(\n",
       "           c: tensor([[-0.6396, -1.6913,  0.1114,  1.2212],\n",
       "                      [-0.7719, -0.3942,  1.6017, -0.2252],\n",
       "                      [-0.6502,  1.8978,  1.6624, -0.3462]]),\n",
       "       ),\n",
       ")"
      ]
     },
     "execution_count": 12,
     "metadata": {},
     "output_type": "execute_result"
    }
   ],
   "source": [
    "new_value = torch.randn(2, 3)\n",
    "b.a = new_value\n",
    "\n",
    "b"
   ]
  },
  {
   "cell_type": "code",
   "execution_count": 13,
   "id": "29b1d0bf",
   "metadata": {
    "execution": {
     "iopub.execute_input": "2023-02-23T09:37:53.392793Z",
     "iopub.status.busy": "2023-02-23T09:37:53.392486Z",
     "iopub.status.idle": "2023-02-23T09:37:58.506200Z",
     "shell.execute_reply": "2023-02-23T09:37:58.505001Z"
    }
   },
   "outputs": [
    {
     "name": "stdout",
     "output_type": "stream",
     "text": [
      "631 ns ± 8.29 ns per loop (mean ± std. dev. of 7 runs, 1,000,000 loops each)\n"
     ]
    }
   ],
   "source": [
    "%timeit b.a = new_value"
   ]
  },
  {
   "cell_type": "markdown",
   "id": "b61ad1d0",
   "metadata": {},
   "source": [
    "## Initialization"
   ]
  },
  {
   "cell_type": "markdown",
   "id": "d70f0d54",
   "metadata": {},
   "source": [
    "### TreeValue's Initialization"
   ]
  },
  {
   "cell_type": "code",
   "execution_count": 14,
   "id": "d32a679b",
   "metadata": {
    "execution": {
     "iopub.execute_input": "2023-02-23T09:37:58.509752Z",
     "iopub.status.busy": "2023-02-23T09:37:58.509466Z",
     "iopub.status.idle": "2023-02-23T09:38:06.651407Z",
     "shell.execute_reply": "2023-02-23T09:38:06.650310Z"
    }
   },
   "outputs": [
    {
     "name": "stdout",
     "output_type": "stream",
     "text": [
      "1.01 µs ± 6.65 ns per loop (mean ± std. dev. of 7 runs, 1,000,000 loops each)\n"
     ]
    }
   ],
   "source": [
    "%timeit FastTreeValue(_TREE_DATA_1)"
   ]
  },
  {
   "cell_type": "markdown",
   "id": "24f3707b",
   "metadata": {},
   "source": [
    "### Tianshou Batch's Initialization"
   ]
  },
  {
   "cell_type": "code",
   "execution_count": 15,
   "id": "ac3958df",
   "metadata": {
    "execution": {
     "iopub.execute_input": "2023-02-23T09:38:06.655141Z",
     "iopub.status.busy": "2023-02-23T09:38:06.654617Z",
     "iopub.status.idle": "2023-02-23T09:38:17.705777Z",
     "shell.execute_reply": "2023-02-23T09:38:17.704765Z"
    }
   },
   "outputs": [
    {
     "name": "stdout",
     "output_type": "stream",
     "text": [
      "13.7 µs ± 300 ns per loop (mean ± std. dev. of 7 runs, 100,000 loops each)\n"
     ]
    }
   ],
   "source": [
    "%timeit Batch(**_TREE_DATA_1)"
   ]
  },
  {
   "cell_type": "markdown",
   "id": "1ab82e2d",
   "metadata": {},
   "source": [
    "## Deep Copy Operation"
   ]
  },
  {
   "cell_type": "code",
   "execution_count": 16,
   "id": "210a9442",
   "metadata": {
    "execution": {
     "iopub.execute_input": "2023-02-23T09:38:17.709812Z",
     "iopub.status.busy": "2023-02-23T09:38:17.708949Z",
     "iopub.status.idle": "2023-02-23T09:38:17.713833Z",
     "shell.execute_reply": "2023-02-23T09:38:17.712338Z"
    }
   },
   "outputs": [],
   "source": [
    "import copy"
   ]
  },
  {
   "cell_type": "markdown",
   "id": "5a736274",
   "metadata": {},
   "source": [
    "### Deep Copy of TreeValue"
   ]
  },
  {
   "cell_type": "code",
   "execution_count": 17,
   "id": "f9bcadd6",
   "metadata": {
    "execution": {
     "iopub.execute_input": "2023-02-23T09:38:17.717111Z",
     "iopub.status.busy": "2023-02-23T09:38:17.716819Z",
     "iopub.status.idle": "2023-02-23T09:38:20.180758Z",
     "shell.execute_reply": "2023-02-23T09:38:20.179902Z"
    }
   },
   "outputs": [
    {
     "name": "stdout",
     "output_type": "stream",
     "text": [
      "297 µs ± 7.31 µs per loop (mean ± std. dev. of 7 runs, 1,000 loops each)\n"
     ]
    }
   ],
   "source": [
    "t3 = FastTreeValue(_TREE_DATA_3)\n",
    "%timeit copy.deepcopy(t3)"
   ]
  },
  {
   "cell_type": "markdown",
   "id": "bf8be7ea",
   "metadata": {},
   "source": [
    "### Deep Copy of Tianshou Batch"
   ]
  },
  {
   "cell_type": "code",
   "execution_count": 18,
   "id": "91998e6f",
   "metadata": {
    "execution": {
     "iopub.execute_input": "2023-02-23T09:38:20.184652Z",
     "iopub.status.busy": "2023-02-23T09:38:20.184008Z",
     "iopub.status.idle": "2023-02-23T09:38:22.436345Z",
     "shell.execute_reply": "2023-02-23T09:38:22.435369Z"
    }
   },
   "outputs": [
    {
     "name": "stdout",
     "output_type": "stream",
     "text": [
      "278 µs ± 6.98 µs per loop (mean ± std. dev. of 7 runs, 1,000 loops each)\n"
     ]
    }
   ],
   "source": [
    "b3 = Batch(**_TREE_DATA_3)\n",
    "%timeit copy.deepcopy(b3)"
   ]
  },
  {
   "cell_type": "markdown",
   "id": "223162fb",
   "metadata": {},
   "source": [
    "## Stack, Concat and Split Operation"
   ]
  },
  {
   "cell_type": "markdown",
   "id": "85fa4a73",
   "metadata": {},
   "source": [
    "### Performance of TreeValue"
   ]
  },
  {
   "cell_type": "code",
   "execution_count": 19,
   "id": "a0c2b697",
   "metadata": {
    "execution": {
     "iopub.execute_input": "2023-02-23T09:38:22.440805Z",
     "iopub.status.busy": "2023-02-23T09:38:22.440238Z",
     "iopub.status.idle": "2023-02-23T09:38:22.444496Z",
     "shell.execute_reply": "2023-02-23T09:38:22.443694Z"
    }
   },
   "outputs": [],
   "source": [
    "trees = [FastTreeValue(_TREE_DATA_2) for _ in range(8)]"
   ]
  },
  {
   "cell_type": "code",
   "execution_count": 20,
   "id": "017ea5a5",
   "metadata": {
    "execution": {
     "iopub.execute_input": "2023-02-23T09:38:22.447666Z",
     "iopub.status.busy": "2023-02-23T09:38:22.447041Z",
     "iopub.status.idle": "2023-02-23T09:38:22.455974Z",
     "shell.execute_reply": "2023-02-23T09:38:22.455137Z"
    }
   },
   "outputs": [
    {
     "data": {
      "text/plain": [
       "<FastTreeValue 0x7f04e8bd9fa0>\n",
       "├── 'a' --> tensor([[[ 1.1110,  1.3867,  1.1788],\n",
       "│                    [-0.8983,  0.8259,  0.0333]],\n",
       "│           \n",
       "│                   [[ 1.1110,  1.3867,  1.1788],\n",
       "│                    [-0.8983,  0.8259,  0.0333]],\n",
       "│           \n",
       "│                   [[ 1.1110,  1.3867,  1.1788],\n",
       "│                    [-0.8983,  0.8259,  0.0333]],\n",
       "│           \n",
       "│                   [[ 1.1110,  1.3867,  1.1788],\n",
       "│                    [-0.8983,  0.8259,  0.0333]],\n",
       "│           \n",
       "│                   [[ 1.1110,  1.3867,  1.1788],\n",
       "│                    [-0.8983,  0.8259,  0.0333]],\n",
       "│           \n",
       "│                   [[ 1.1110,  1.3867,  1.1788],\n",
       "│                    [-0.8983,  0.8259,  0.0333]],\n",
       "│           \n",
       "│                   [[ 1.1110,  1.3867,  1.1788],\n",
       "│                    [-0.8983,  0.8259,  0.0333]],\n",
       "│           \n",
       "│                   [[ 1.1110,  1.3867,  1.1788],\n",
       "│                    [-0.8983,  0.8259,  0.0333]]])\n",
       "└── 'x' --> <FastTreeValue 0x7f04e8bd9fd0>\n",
       "    └── 'c' --> tensor([[[-0.6396, -1.6913,  0.1114,  1.2212],\n",
       "                         [-0.7719, -0.3942,  1.6017, -0.2252],\n",
       "                         [-0.6502,  1.8978,  1.6624, -0.3462]],\n",
       "                \n",
       "                        [[-0.6396, -1.6913,  0.1114,  1.2212],\n",
       "                         [-0.7719, -0.3942,  1.6017, -0.2252],\n",
       "                         [-0.6502,  1.8978,  1.6624, -0.3462]],\n",
       "                \n",
       "                        [[-0.6396, -1.6913,  0.1114,  1.2212],\n",
       "                         [-0.7719, -0.3942,  1.6017, -0.2252],\n",
       "                         [-0.6502,  1.8978,  1.6624, -0.3462]],\n",
       "                \n",
       "                        [[-0.6396, -1.6913,  0.1114,  1.2212],\n",
       "                         [-0.7719, -0.3942,  1.6017, -0.2252],\n",
       "                         [-0.6502,  1.8978,  1.6624, -0.3462]],\n",
       "                \n",
       "                        [[-0.6396, -1.6913,  0.1114,  1.2212],\n",
       "                         [-0.7719, -0.3942,  1.6017, -0.2252],\n",
       "                         [-0.6502,  1.8978,  1.6624, -0.3462]],\n",
       "                \n",
       "                        [[-0.6396, -1.6913,  0.1114,  1.2212],\n",
       "                         [-0.7719, -0.3942,  1.6017, -0.2252],\n",
       "                         [-0.6502,  1.8978,  1.6624, -0.3462]],\n",
       "                \n",
       "                        [[-0.6396, -1.6913,  0.1114,  1.2212],\n",
       "                         [-0.7719, -0.3942,  1.6017, -0.2252],\n",
       "                         [-0.6502,  1.8978,  1.6624, -0.3462]],\n",
       "                \n",
       "                        [[-0.6396, -1.6913,  0.1114,  1.2212],\n",
       "                         [-0.7719, -0.3942,  1.6017, -0.2252],\n",
       "                         [-0.6502,  1.8978,  1.6624, -0.3462]]])"
      ]
     },
     "execution_count": 20,
     "metadata": {},
     "output_type": "execute_result"
    }
   ],
   "source": [
    "t_stack = FastTreeValue.func(subside=True)(torch.stack)\n",
    "\n",
    "t_stack(trees)"
   ]
  },
  {
   "cell_type": "code",
   "execution_count": 21,
   "id": "f8b3f415",
   "metadata": {
    "execution": {
     "iopub.execute_input": "2023-02-23T09:38:22.459489Z",
     "iopub.status.busy": "2023-02-23T09:38:22.458740Z",
     "iopub.status.idle": "2023-02-23T09:38:26.381221Z",
     "shell.execute_reply": "2023-02-23T09:38:26.380200Z"
    }
   },
   "outputs": [
    {
     "name": "stdout",
     "output_type": "stream",
     "text": [
      "48.3 µs ± 1.19 µs per loop (mean ± std. dev. of 7 runs, 10,000 loops each)\n"
     ]
    }
   ],
   "source": [
    "%timeit t_stack(trees)"
   ]
  },
  {
   "cell_type": "code",
   "execution_count": 22,
   "id": "94b56771",
   "metadata": {
    "execution": {
     "iopub.execute_input": "2023-02-23T09:38:26.384626Z",
     "iopub.status.busy": "2023-02-23T09:38:26.384331Z",
     "iopub.status.idle": "2023-02-23T09:38:26.394725Z",
     "shell.execute_reply": "2023-02-23T09:38:26.393771Z"
    }
   },
   "outputs": [
    {
     "data": {
      "text/plain": [
       "<FastTreeValue 0x7f04e8bbd610>\n",
       "├── 'a' --> tensor([[ 1.1110,  1.3867,  1.1788],\n",
       "│                   [-0.8983,  0.8259,  0.0333],\n",
       "│                   [ 1.1110,  1.3867,  1.1788],\n",
       "│                   [-0.8983,  0.8259,  0.0333],\n",
       "│                   [ 1.1110,  1.3867,  1.1788],\n",
       "│                   [-0.8983,  0.8259,  0.0333],\n",
       "│                   [ 1.1110,  1.3867,  1.1788],\n",
       "│                   [-0.8983,  0.8259,  0.0333],\n",
       "│                   [ 1.1110,  1.3867,  1.1788],\n",
       "│                   [-0.8983,  0.8259,  0.0333],\n",
       "│                   [ 1.1110,  1.3867,  1.1788],\n",
       "│                   [-0.8983,  0.8259,  0.0333],\n",
       "│                   [ 1.1110,  1.3867,  1.1788],\n",
       "│                   [-0.8983,  0.8259,  0.0333],\n",
       "│                   [ 1.1110,  1.3867,  1.1788],\n",
       "│                   [-0.8983,  0.8259,  0.0333]])\n",
       "└── 'x' --> <FastTreeValue 0x7f04e8bbdbb0>\n",
       "    └── 'c' --> tensor([[-0.6396, -1.6913,  0.1114,  1.2212],\n",
       "                        [-0.7719, -0.3942,  1.6017, -0.2252],\n",
       "                        [-0.6502,  1.8978,  1.6624, -0.3462],\n",
       "                        [-0.6396, -1.6913,  0.1114,  1.2212],\n",
       "                        [-0.7719, -0.3942,  1.6017, -0.2252],\n",
       "                        [-0.6502,  1.8978,  1.6624, -0.3462],\n",
       "                        [-0.6396, -1.6913,  0.1114,  1.2212],\n",
       "                        [-0.7719, -0.3942,  1.6017, -0.2252],\n",
       "                        [-0.6502,  1.8978,  1.6624, -0.3462],\n",
       "                        [-0.6396, -1.6913,  0.1114,  1.2212],\n",
       "                        [-0.7719, -0.3942,  1.6017, -0.2252],\n",
       "                        [-0.6502,  1.8978,  1.6624, -0.3462],\n",
       "                        [-0.6396, -1.6913,  0.1114,  1.2212],\n",
       "                        [-0.7719, -0.3942,  1.6017, -0.2252],\n",
       "                        [-0.6502,  1.8978,  1.6624, -0.3462],\n",
       "                        [-0.6396, -1.6913,  0.1114,  1.2212],\n",
       "                        [-0.7719, -0.3942,  1.6017, -0.2252],\n",
       "                        [-0.6502,  1.8978,  1.6624, -0.3462],\n",
       "                        [-0.6396, -1.6913,  0.1114,  1.2212],\n",
       "                        [-0.7719, -0.3942,  1.6017, -0.2252],\n",
       "                        [-0.6502,  1.8978,  1.6624, -0.3462],\n",
       "                        [-0.6396, -1.6913,  0.1114,  1.2212],\n",
       "                        [-0.7719, -0.3942,  1.6017, -0.2252],\n",
       "                        [-0.6502,  1.8978,  1.6624, -0.3462]])"
      ]
     },
     "execution_count": 22,
     "metadata": {},
     "output_type": "execute_result"
    }
   ],
   "source": [
    "t_cat = FastTreeValue.func(subside=True)(torch.cat)\n",
    "\n",
    "t_cat(trees)"
   ]
  },
  {
   "cell_type": "code",
   "execution_count": 23,
   "id": "5e9c06a6",
   "metadata": {
    "execution": {
     "iopub.execute_input": "2023-02-23T09:38:26.398291Z",
     "iopub.status.busy": "2023-02-23T09:38:26.398001Z",
     "iopub.status.idle": "2023-02-23T09:38:29.979405Z",
     "shell.execute_reply": "2023-02-23T09:38:29.978400Z"
    }
   },
   "outputs": [
    {
     "name": "stdout",
     "output_type": "stream",
     "text": [
      "44.1 µs ± 1.05 µs per loop (mean ± std. dev. of 7 runs, 10,000 loops each)\n"
     ]
    }
   ],
   "source": [
    "%timeit t_cat(trees)"
   ]
  },
  {
   "cell_type": "code",
   "execution_count": 24,
   "id": "a3ab5c8f",
   "metadata": {
    "execution": {
     "iopub.execute_input": "2023-02-23T09:38:29.983224Z",
     "iopub.status.busy": "2023-02-23T09:38:29.982703Z",
     "iopub.status.idle": "2023-02-23T09:38:36.542585Z",
     "shell.execute_reply": "2023-02-23T09:38:36.541588Z"
    }
   },
   "outputs": [
    {
     "name": "stdout",
     "output_type": "stream",
     "text": [
      "80.9 µs ± 1.92 µs per loop (mean ± std. dev. of 7 runs, 10,000 loops each)\n"
     ]
    }
   ],
   "source": [
    "t_split = FastTreeValue.func(rise=True)(torch.split)\n",
    "tree = FastTreeValue({\n",
    "    'obs': torch.randn(8, 4, 84, 84),\n",
    "    'action': torch.randint(0, 6, size=(8, 1,)),\n",
    "    'reward': torch.rand(8, 1),\n",
    "})\n",
    "\n",
    "%timeit t_split(tree, 1)"
   ]
  },
  {
   "cell_type": "markdown",
   "id": "31c3ec0b",
   "metadata": {},
   "source": [
    "### Performance of Tianshou Batch"
   ]
  },
  {
   "cell_type": "code",
   "execution_count": 25,
   "id": "9ead828a",
   "metadata": {
    "execution": {
     "iopub.execute_input": "2023-02-23T09:38:36.546575Z",
     "iopub.status.busy": "2023-02-23T09:38:36.546034Z",
     "iopub.status.idle": "2023-02-23T09:38:36.555976Z",
     "shell.execute_reply": "2023-02-23T09:38:36.555021Z"
    }
   },
   "outputs": [
    {
     "data": {
      "text/plain": [
       "Batch(\n",
       "    a: tensor([[[ 1.1110,  1.3867,  1.1788],\n",
       "                [-0.8983,  0.8259,  0.0333]],\n",
       "       \n",
       "               [[ 1.1110,  1.3867,  1.1788],\n",
       "                [-0.8983,  0.8259,  0.0333]],\n",
       "       \n",
       "               [[ 1.1110,  1.3867,  1.1788],\n",
       "                [-0.8983,  0.8259,  0.0333]],\n",
       "       \n",
       "               [[ 1.1110,  1.3867,  1.1788],\n",
       "                [-0.8983,  0.8259,  0.0333]],\n",
       "       \n",
       "               [[ 1.1110,  1.3867,  1.1788],\n",
       "                [-0.8983,  0.8259,  0.0333]],\n",
       "       \n",
       "               [[ 1.1110,  1.3867,  1.1788],\n",
       "                [-0.8983,  0.8259,  0.0333]],\n",
       "       \n",
       "               [[ 1.1110,  1.3867,  1.1788],\n",
       "                [-0.8983,  0.8259,  0.0333]],\n",
       "       \n",
       "               [[ 1.1110,  1.3867,  1.1788],\n",
       "                [-0.8983,  0.8259,  0.0333]]]),\n",
       "    x: Batch(\n",
       "           c: tensor([[[-0.6396, -1.6913,  0.1114,  1.2212],\n",
       "                       [-0.7719, -0.3942,  1.6017, -0.2252],\n",
       "                       [-0.6502,  1.8978,  1.6624, -0.3462]],\n",
       "              \n",
       "                      [[-0.6396, -1.6913,  0.1114,  1.2212],\n",
       "                       [-0.7719, -0.3942,  1.6017, -0.2252],\n",
       "                       [-0.6502,  1.8978,  1.6624, -0.3462]],\n",
       "              \n",
       "                      [[-0.6396, -1.6913,  0.1114,  1.2212],\n",
       "                       [-0.7719, -0.3942,  1.6017, -0.2252],\n",
       "                       [-0.6502,  1.8978,  1.6624, -0.3462]],\n",
       "              \n",
       "                      [[-0.6396, -1.6913,  0.1114,  1.2212],\n",
       "                       [-0.7719, -0.3942,  1.6017, -0.2252],\n",
       "                       [-0.6502,  1.8978,  1.6624, -0.3462]],\n",
       "              \n",
       "                      [[-0.6396, -1.6913,  0.1114,  1.2212],\n",
       "                       [-0.7719, -0.3942,  1.6017, -0.2252],\n",
       "                       [-0.6502,  1.8978,  1.6624, -0.3462]],\n",
       "              \n",
       "                      [[-0.6396, -1.6913,  0.1114,  1.2212],\n",
       "                       [-0.7719, -0.3942,  1.6017, -0.2252],\n",
       "                       [-0.6502,  1.8978,  1.6624, -0.3462]],\n",
       "              \n",
       "                      [[-0.6396, -1.6913,  0.1114,  1.2212],\n",
       "                       [-0.7719, -0.3942,  1.6017, -0.2252],\n",
       "                       [-0.6502,  1.8978,  1.6624, -0.3462]],\n",
       "              \n",
       "                      [[-0.6396, -1.6913,  0.1114,  1.2212],\n",
       "                       [-0.7719, -0.3942,  1.6017, -0.2252],\n",
       "                       [-0.6502,  1.8978,  1.6624, -0.3462]]]),\n",
       "       ),\n",
       ")"
      ]
     },
     "execution_count": 25,
     "metadata": {},
     "output_type": "execute_result"
    }
   ],
   "source": [
    "batches = [Batch(**_TREE_DATA_2) for _ in range(8)]\n",
    "\n",
    "Batch.stack(batches)"
   ]
  },
  {
   "cell_type": "code",
   "execution_count": 26,
   "id": "ec9037a3",
   "metadata": {
    "execution": {
     "iopub.execute_input": "2023-02-23T09:38:36.559653Z",
     "iopub.status.busy": "2023-02-23T09:38:36.559099Z",
     "iopub.status.idle": "2023-02-23T09:38:44.989406Z",
     "shell.execute_reply": "2023-02-23T09:38:44.987978Z"
    }
   },
   "outputs": [
    {
     "name": "stdout",
     "output_type": "stream",
     "text": [
      "104 µs ± 1.84 µs per loop (mean ± std. dev. of 7 runs, 10,000 loops each)\n"
     ]
    }
   ],
   "source": [
    "%timeit Batch.stack(batches)"
   ]
  },
  {
   "cell_type": "code",
   "execution_count": 27,
   "id": "cb8ab77e",
   "metadata": {
    "execution": {
     "iopub.execute_input": "2023-02-23T09:38:44.993218Z",
     "iopub.status.busy": "2023-02-23T09:38:44.992457Z",
     "iopub.status.idle": "2023-02-23T09:38:45.004131Z",
     "shell.execute_reply": "2023-02-23T09:38:45.003144Z"
    }
   },
   "outputs": [
    {
     "data": {
      "text/plain": [
       "Batch(\n",
       "    a: tensor([[ 1.1110,  1.3867,  1.1788],\n",
       "               [-0.8983,  0.8259,  0.0333],\n",
       "               [ 1.1110,  1.3867,  1.1788],\n",
       "               [-0.8983,  0.8259,  0.0333],\n",
       "               [ 1.1110,  1.3867,  1.1788],\n",
       "               [-0.8983,  0.8259,  0.0333],\n",
       "               [ 1.1110,  1.3867,  1.1788],\n",
       "               [-0.8983,  0.8259,  0.0333],\n",
       "               [ 1.1110,  1.3867,  1.1788],\n",
       "               [-0.8983,  0.8259,  0.0333],\n",
       "               [ 1.1110,  1.3867,  1.1788],\n",
       "               [-0.8983,  0.8259,  0.0333],\n",
       "               [ 1.1110,  1.3867,  1.1788],\n",
       "               [-0.8983,  0.8259,  0.0333],\n",
       "               [ 1.1110,  1.3867,  1.1788],\n",
       "               [-0.8983,  0.8259,  0.0333]]),\n",
       "    x: Batch(\n",
       "           c: tensor([[-0.6396, -1.6913,  0.1114,  1.2212],\n",
       "                      [-0.7719, -0.3942,  1.6017, -0.2252],\n",
       "                      [-0.6502,  1.8978,  1.6624, -0.3462],\n",
       "                      [-0.6396, -1.6913,  0.1114,  1.2212],\n",
       "                      [-0.7719, -0.3942,  1.6017, -0.2252],\n",
       "                      [-0.6502,  1.8978,  1.6624, -0.3462],\n",
       "                      [-0.6396, -1.6913,  0.1114,  1.2212],\n",
       "                      [-0.7719, -0.3942,  1.6017, -0.2252],\n",
       "                      [-0.6502,  1.8978,  1.6624, -0.3462],\n",
       "                      [-0.6396, -1.6913,  0.1114,  1.2212],\n",
       "                      [-0.7719, -0.3942,  1.6017, -0.2252],\n",
       "                      [-0.6502,  1.8978,  1.6624, -0.3462],\n",
       "                      [-0.6396, -1.6913,  0.1114,  1.2212],\n",
       "                      [-0.7719, -0.3942,  1.6017, -0.2252],\n",
       "                      [-0.6502,  1.8978,  1.6624, -0.3462],\n",
       "                      [-0.6396, -1.6913,  0.1114,  1.2212],\n",
       "                      [-0.7719, -0.3942,  1.6017, -0.2252],\n",
       "                      [-0.6502,  1.8978,  1.6624, -0.3462],\n",
       "                      [-0.6396, -1.6913,  0.1114,  1.2212],\n",
       "                      [-0.7719, -0.3942,  1.6017, -0.2252],\n",
       "                      [-0.6502,  1.8978,  1.6624, -0.3462],\n",
       "                      [-0.6396, -1.6913,  0.1114,  1.2212],\n",
       "                      [-0.7719, -0.3942,  1.6017, -0.2252],\n",
       "                      [-0.6502,  1.8978,  1.6624, -0.3462]]),\n",
       "       ),\n",
       ")"
      ]
     },
     "execution_count": 27,
     "metadata": {},
     "output_type": "execute_result"
    }
   ],
   "source": [
    "Batch.cat(batches)"
   ]
  },
  {
   "cell_type": "code",
   "execution_count": 28,
   "id": "18dfb045",
   "metadata": {
    "execution": {
     "iopub.execute_input": "2023-02-23T09:38:45.007725Z",
     "iopub.status.busy": "2023-02-23T09:38:45.007393Z",
     "iopub.status.idle": "2023-02-23T09:38:59.991000Z",
     "shell.execute_reply": "2023-02-23T09:38:59.990104Z"
    }
   },
   "outputs": [
    {
     "name": "stdout",
     "output_type": "stream",
     "text": [
      "185 µs ± 1.87 µs per loop (mean ± std. dev. of 7 runs, 10,000 loops each)\n"
     ]
    }
   ],
   "source": [
    "%timeit Batch.cat(batches)"
   ]
  },
  {
   "cell_type": "code",
   "execution_count": 29,
   "id": "c6688e51",
   "metadata": {
    "execution": {
     "iopub.execute_input": "2023-02-23T09:38:59.995400Z",
     "iopub.status.busy": "2023-02-23T09:38:59.994618Z",
     "iopub.status.idle": "2023-02-23T09:39:04.781419Z",
     "shell.execute_reply": "2023-02-23T09:39:04.780355Z"
    }
   },
   "outputs": [
    {
     "name": "stdout",
     "output_type": "stream",
     "text": [
      "588 µs ± 76.7 µs per loop (mean ± std. dev. of 7 runs, 1,000 loops each)\n"
     ]
    }
   ],
   "source": [
    "batch = Batch({\n",
    "    'obs': torch.randn(8, 4, 84, 84),\n",
    "    'action': torch.randint(0, 6, size=(8, 1,)),\n",
    "    'reward': torch.rand(8, 1)}\n",
    ")\n",
    "\n",
    "%timeit list(Batch.split(batch, 1, shuffle=False, merge_last=True))"
   ]
  },
  {
   "cell_type": "code",
   "execution_count": null,
   "id": "2539fbd9",
   "metadata": {},
   "outputs": [],
   "source": []
  }
 ],
 "metadata": {
  "kernelspec": {
   "display_name": "Python 3 (ipykernel)",
   "language": "python",
   "name": "python3"
  },
  "language_info": {
   "codemirror_mode": {
    "name": "ipython",
    "version": 3
   },
   "file_extension": ".py",
   "mimetype": "text/x-python",
   "name": "python",
   "nbconvert_exporter": "python",
   "pygments_lexer": "ipython3",
   "version": "3.8.16"
  }
 },
 "nbformat": 4,
 "nbformat_minor": 5
}
