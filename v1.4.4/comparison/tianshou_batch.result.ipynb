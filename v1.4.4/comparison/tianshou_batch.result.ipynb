{
 "cells": [
  {
   "cell_type": "markdown",
   "id": "9d39d946",
   "metadata": {},
   "source": [
    "# Comparison Between TreeValue and Tianshou Batch"
   ]
  },
  {
   "cell_type": "markdown",
   "id": "3c6db2d4",
   "metadata": {},
   "source": [
    "In this section, we will take a look at the feature and performance of the [Tianshou Batch](https://github.com/thu-ml/tianshou) library, which is developed by Tsinghua Machine Learning Group."
   ]
  },
  {
   "cell_type": "markdown",
   "id": "069361b0",
   "metadata": {},
   "source": [
    "Before starting the comparison, let us define some thing."
   ]
  },
  {
   "cell_type": "code",
   "execution_count": 1,
   "id": "06fc8d26",
   "metadata": {
    "execution": {
     "iopub.execute_input": "2023-02-23T08:31:25.996224Z",
     "iopub.status.busy": "2023-02-23T08:31:25.995828Z",
     "iopub.status.idle": "2023-02-23T08:31:26.896584Z",
     "shell.execute_reply": "2023-02-23T08:31:26.895946Z"
    }
   },
   "outputs": [
    {
     "name": "stderr",
     "output_type": "stream",
     "text": [
      "/opt/hostedtoolcache/Python/3.8.16/x64/lib/python3.8/site-packages/tqdm/auto.py:22: TqdmWarning: IProgress not found. Please update jupyter and ipywidgets. See https://ipywidgets.readthedocs.io/en/stable/user_install.html\n",
      "  from .autonotebook import tqdm as notebook_tqdm\n"
     ]
    }
   ],
   "source": [
    "import torch \n",
    "\n",
    "_TREE_DATA_1 = {'a': 1, 'b': 2, 'x': {'c': 3, 'd': 4}}\n",
    "_TREE_DATA_2 = {\n",
    "    'a': torch.randn(2, 3), \n",
    "    'x': {\n",
    "        'c': torch.randn(3, 4)\n",
    "    },\n",
    "}\n",
    "_TREE_DATA_3 = {\n",
    "    'obs': torch.randn(4, 84, 84),\n",
    "    'action': torch.randint(0, 6, size=(1,)),\n",
    "    'reward': torch.rand(1),\n",
    "}"
   ]
  },
  {
   "cell_type": "markdown",
   "id": "83461b25",
   "metadata": {},
   "source": [
    "## Read and Write Operation"
   ]
  },
  {
   "cell_type": "markdown",
   "id": "067b3f73",
   "metadata": {},
   "source": [
    "Reading and writing are the two most common operations in the tree data structure based on the data model (TreeValue and Tianshou Batch both belong to this type), so this section will compare the reading and writing performance of these two libraries."
   ]
  },
  {
   "cell_type": "markdown",
   "id": "5d09a5b7",
   "metadata": {},
   "source": [
    "### TreeValue's Get and Set"
   ]
  },
  {
   "cell_type": "code",
   "execution_count": 2,
   "id": "9519c4bb",
   "metadata": {
    "execution": {
     "iopub.execute_input": "2023-02-23T08:31:26.899715Z",
     "iopub.status.busy": "2023-02-23T08:31:26.899247Z",
     "iopub.status.idle": "2023-02-23T08:31:26.931363Z",
     "shell.execute_reply": "2023-02-23T08:31:26.930785Z"
    }
   },
   "outputs": [],
   "source": [
    "from treevalue import FastTreeValue\n",
    "\n",
    "t = FastTreeValue(_TREE_DATA_2)"
   ]
  },
  {
   "cell_type": "code",
   "execution_count": 3,
   "id": "11c37677",
   "metadata": {
    "execution": {
     "iopub.execute_input": "2023-02-23T08:31:26.934146Z",
     "iopub.status.busy": "2023-02-23T08:31:26.933812Z",
     "iopub.status.idle": "2023-02-23T08:31:26.942952Z",
     "shell.execute_reply": "2023-02-23T08:31:26.942362Z"
    }
   },
   "outputs": [
    {
     "data": {
      "text/plain": [
       "<FastTreeValue 0x7f6658a0b970>\n",
       "├── 'a' --> tensor([[ 0.4008,  0.9582, -0.0116],\n",
       "│                   [-0.9696, -1.0183,  1.3784]])\n",
       "└── 'x' --> <FastTreeValue 0x7f6658a0b9d0>\n",
       "    └── 'c' --> tensor([[ 1.2059,  0.1709,  0.4490, -0.9442],\n",
       "                        [ 0.2373, -0.7642, -0.4383, -0.3825],\n",
       "                        [ 0.5687,  1.0945,  0.2058,  0.3947]])"
      ]
     },
     "execution_count": 3,
     "metadata": {},
     "output_type": "execute_result"
    }
   ],
   "source": [
    "t"
   ]
  },
  {
   "cell_type": "code",
   "execution_count": 4,
   "id": "fd70b0b9",
   "metadata": {
    "execution": {
     "iopub.execute_input": "2023-02-23T08:31:26.945414Z",
     "iopub.status.busy": "2023-02-23T08:31:26.945083Z",
     "iopub.status.idle": "2023-02-23T08:31:26.950469Z",
     "shell.execute_reply": "2023-02-23T08:31:26.949895Z"
    }
   },
   "outputs": [
    {
     "data": {
      "text/plain": [
       "tensor([[ 0.4008,  0.9582, -0.0116],\n",
       "        [-0.9696, -1.0183,  1.3784]])"
      ]
     },
     "execution_count": 4,
     "metadata": {},
     "output_type": "execute_result"
    }
   ],
   "source": [
    "t.a"
   ]
  },
  {
   "cell_type": "code",
   "execution_count": 5,
   "id": "c18197bd",
   "metadata": {
    "execution": {
     "iopub.execute_input": "2023-02-23T08:31:26.952912Z",
     "iopub.status.busy": "2023-02-23T08:31:26.952601Z",
     "iopub.status.idle": "2023-02-23T08:31:32.569959Z",
     "shell.execute_reply": "2023-02-23T08:31:32.569212Z"
    }
   },
   "outputs": [
    {
     "name": "stdout",
     "output_type": "stream",
     "text": [
      "69.3 ns ± 0.121 ns per loop (mean ± std. dev. of 7 runs, 10,000,000 loops each)\n"
     ]
    }
   ],
   "source": [
    "%timeit t.a"
   ]
  },
  {
   "cell_type": "code",
   "execution_count": 6,
   "id": "bd52f867",
   "metadata": {
    "execution": {
     "iopub.execute_input": "2023-02-23T08:31:32.573075Z",
     "iopub.status.busy": "2023-02-23T08:31:32.572612Z",
     "iopub.status.idle": "2023-02-23T08:31:32.579181Z",
     "shell.execute_reply": "2023-02-23T08:31:32.578604Z"
    }
   },
   "outputs": [
    {
     "data": {
      "text/plain": [
       "<FastTreeValue 0x7f6658a0b970>\n",
       "├── 'a' --> tensor([[-0.9477, -0.0034, -1.9295],\n",
       "│                   [-0.3496,  0.4022, -0.1957]])\n",
       "└── 'x' --> <FastTreeValue 0x7f6658a0b9d0>\n",
       "    └── 'c' --> tensor([[ 1.2059,  0.1709,  0.4490, -0.9442],\n",
       "                        [ 0.2373, -0.7642, -0.4383, -0.3825],\n",
       "                        [ 0.5687,  1.0945,  0.2058,  0.3947]])"
      ]
     },
     "execution_count": 6,
     "metadata": {},
     "output_type": "execute_result"
    }
   ],
   "source": [
    "new_value = torch.randn(2, 3)\n",
    "t.a = new_value\n",
    "\n",
    "t"
   ]
  },
  {
   "cell_type": "code",
   "execution_count": 7,
   "id": "bbe04d1c",
   "metadata": {
    "execution": {
     "iopub.execute_input": "2023-02-23T08:31:32.581498Z",
     "iopub.status.busy": "2023-02-23T08:31:32.581290Z",
     "iopub.status.idle": "2023-02-23T08:31:37.945165Z",
     "shell.execute_reply": "2023-02-23T08:31:37.944464Z"
    }
   },
   "outputs": [
    {
     "name": "stdout",
     "output_type": "stream",
     "text": [
      "66.3 ns ± 0.113 ns per loop (mean ± std. dev. of 7 runs, 10,000,000 loops each)\n"
     ]
    }
   ],
   "source": [
    "%timeit t.a = new_value"
   ]
  },
  {
   "cell_type": "markdown",
   "id": "48c49731",
   "metadata": {},
   "source": [
    "### Tianshou Batch's Get and Set"
   ]
  },
  {
   "cell_type": "code",
   "execution_count": 8,
   "id": "f1bb14c1",
   "metadata": {
    "execution": {
     "iopub.execute_input": "2023-02-23T08:31:37.948109Z",
     "iopub.status.busy": "2023-02-23T08:31:37.947775Z",
     "iopub.status.idle": "2023-02-23T08:31:38.270265Z",
     "shell.execute_reply": "2023-02-23T08:31:38.269610Z"
    }
   },
   "outputs": [],
   "source": [
    "from tianshou.data import Batch\n",
    "\n",
    "b = Batch(**_TREE_DATA_2)"
   ]
  },
  {
   "cell_type": "code",
   "execution_count": 9,
   "id": "cb0777c3",
   "metadata": {
    "execution": {
     "iopub.execute_input": "2023-02-23T08:31:38.273313Z",
     "iopub.status.busy": "2023-02-23T08:31:38.272780Z",
     "iopub.status.idle": "2023-02-23T08:31:38.278081Z",
     "shell.execute_reply": "2023-02-23T08:31:38.277447Z"
    }
   },
   "outputs": [
    {
     "data": {
      "text/plain": [
       "Batch(\n",
       "    a: tensor([[ 0.4008,  0.9582, -0.0116],\n",
       "               [-0.9696, -1.0183,  1.3784]]),\n",
       "    x: Batch(\n",
       "           c: tensor([[ 1.2059,  0.1709,  0.4490, -0.9442],\n",
       "                      [ 0.2373, -0.7642, -0.4383, -0.3825],\n",
       "                      [ 0.5687,  1.0945,  0.2058,  0.3947]]),\n",
       "       ),\n",
       ")"
      ]
     },
     "execution_count": 9,
     "metadata": {},
     "output_type": "execute_result"
    }
   ],
   "source": [
    "b"
   ]
  },
  {
   "cell_type": "code",
   "execution_count": 10,
   "id": "43ef8ea3",
   "metadata": {
    "execution": {
     "iopub.execute_input": "2023-02-23T08:31:38.280907Z",
     "iopub.status.busy": "2023-02-23T08:31:38.280333Z",
     "iopub.status.idle": "2023-02-23T08:31:38.285597Z",
     "shell.execute_reply": "2023-02-23T08:31:38.285027Z"
    }
   },
   "outputs": [
    {
     "data": {
      "text/plain": [
       "tensor([[ 0.4008,  0.9582, -0.0116],\n",
       "        [-0.9696, -1.0183,  1.3784]])"
      ]
     },
     "execution_count": 10,
     "metadata": {},
     "output_type": "execute_result"
    }
   ],
   "source": [
    "b.a"
   ]
  },
  {
   "cell_type": "code",
   "execution_count": 11,
   "id": "b785ab72",
   "metadata": {
    "execution": {
     "iopub.execute_input": "2023-02-23T08:31:38.288376Z",
     "iopub.status.busy": "2023-02-23T08:31:38.287892Z",
     "iopub.status.idle": "2023-02-23T08:31:43.196044Z",
     "shell.execute_reply": "2023-02-23T08:31:43.195377Z"
    }
   },
   "outputs": [
    {
     "name": "stdout",
     "output_type": "stream",
     "text": [
      "60.4 ns ± 0.0246 ns per loop (mean ± std. dev. of 7 runs, 10,000,000 loops each)\n"
     ]
    }
   ],
   "source": [
    "%timeit b.a"
   ]
  },
  {
   "cell_type": "code",
   "execution_count": 12,
   "id": "ad54dc69",
   "metadata": {
    "execution": {
     "iopub.execute_input": "2023-02-23T08:31:43.199237Z",
     "iopub.status.busy": "2023-02-23T08:31:43.198663Z",
     "iopub.status.idle": "2023-02-23T08:31:43.205990Z",
     "shell.execute_reply": "2023-02-23T08:31:43.205411Z"
    }
   },
   "outputs": [
    {
     "data": {
      "text/plain": [
       "Batch(\n",
       "    a: tensor([[-0.7528,  0.4932, -0.2619],\n",
       "               [-1.1644,  0.0498,  1.1516]]),\n",
       "    x: Batch(\n",
       "           c: tensor([[ 1.2059,  0.1709,  0.4490, -0.9442],\n",
       "                      [ 0.2373, -0.7642, -0.4383, -0.3825],\n",
       "                      [ 0.5687,  1.0945,  0.2058,  0.3947]]),\n",
       "       ),\n",
       ")"
      ]
     },
     "execution_count": 12,
     "metadata": {},
     "output_type": "execute_result"
    }
   ],
   "source": [
    "new_value = torch.randn(2, 3)\n",
    "b.a = new_value\n",
    "\n",
    "b"
   ]
  },
  {
   "cell_type": "code",
   "execution_count": 13,
   "id": "29b1d0bf",
   "metadata": {
    "execution": {
     "iopub.execute_input": "2023-02-23T08:31:43.208808Z",
     "iopub.status.busy": "2023-02-23T08:31:43.208345Z",
     "iopub.status.idle": "2023-02-23T08:31:47.147222Z",
     "shell.execute_reply": "2023-02-23T08:31:47.146468Z"
    }
   },
   "outputs": [
    {
     "name": "stdout",
     "output_type": "stream",
     "text": [
      "484 ns ± 0.136 ns per loop (mean ± std. dev. of 7 runs, 1,000,000 loops each)\n"
     ]
    }
   ],
   "source": [
    "%timeit b.a = new_value"
   ]
  },
  {
   "cell_type": "markdown",
   "id": "b61ad1d0",
   "metadata": {},
   "source": [
    "## Initialization"
   ]
  },
  {
   "cell_type": "markdown",
   "id": "d70f0d54",
   "metadata": {},
   "source": [
    "### TreeValue's Initialization"
   ]
  },
  {
   "cell_type": "code",
   "execution_count": 14,
   "id": "d32a679b",
   "metadata": {
    "execution": {
     "iopub.execute_input": "2023-02-23T08:31:47.150560Z",
     "iopub.status.busy": "2023-02-23T08:31:47.149995Z",
     "iopub.status.idle": "2023-02-23T08:31:54.106506Z",
     "shell.execute_reply": "2023-02-23T08:31:54.105798Z"
    }
   },
   "outputs": [
    {
     "name": "stdout",
     "output_type": "stream",
     "text": [
      "857 ns ± 0.255 ns per loop (mean ± std. dev. of 7 runs, 1,000,000 loops each)\n"
     ]
    }
   ],
   "source": [
    "%timeit FastTreeValue(_TREE_DATA_1)"
   ]
  },
  {
   "cell_type": "markdown",
   "id": "24f3707b",
   "metadata": {},
   "source": [
    "### Tianshou Batch's Initialization"
   ]
  },
  {
   "cell_type": "code",
   "execution_count": 15,
   "id": "ac3958df",
   "metadata": {
    "execution": {
     "iopub.execute_input": "2023-02-23T08:31:54.109343Z",
     "iopub.status.busy": "2023-02-23T08:31:54.109004Z",
     "iopub.status.idle": "2023-02-23T08:32:03.540376Z",
     "shell.execute_reply": "2023-02-23T08:32:03.539677Z"
    }
   },
   "outputs": [
    {
     "name": "stdout",
     "output_type": "stream",
     "text": [
      "11.6 µs ± 31.2 ns per loop (mean ± std. dev. of 7 runs, 100,000 loops each)\n"
     ]
    }
   ],
   "source": [
    "%timeit Batch(**_TREE_DATA_1)"
   ]
  },
  {
   "cell_type": "markdown",
   "id": "1ab82e2d",
   "metadata": {},
   "source": [
    "## Deep Copy Operation"
   ]
  },
  {
   "cell_type": "code",
   "execution_count": 16,
   "id": "210a9442",
   "metadata": {
    "execution": {
     "iopub.execute_input": "2023-02-23T08:32:03.543497Z",
     "iopub.status.busy": "2023-02-23T08:32:03.543150Z",
     "iopub.status.idle": "2023-02-23T08:32:03.546969Z",
     "shell.execute_reply": "2023-02-23T08:32:03.546342Z"
    }
   },
   "outputs": [],
   "source": [
    "import copy"
   ]
  },
  {
   "cell_type": "markdown",
   "id": "5a736274",
   "metadata": {},
   "source": [
    "### Deep Copy of TreeValue"
   ]
  },
  {
   "cell_type": "code",
   "execution_count": 17,
   "id": "f9bcadd6",
   "metadata": {
    "execution": {
     "iopub.execute_input": "2023-02-23T08:32:03.549826Z",
     "iopub.status.busy": "2023-02-23T08:32:03.549325Z",
     "iopub.status.idle": "2023-02-23T08:32:14.489670Z",
     "shell.execute_reply": "2023-02-23T08:32:14.489089Z"
    }
   },
   "outputs": [
    {
     "name": "stdout",
     "output_type": "stream",
     "text": [
      "135 µs ± 263 ns per loop (mean ± std. dev. of 7 runs, 10,000 loops each)\n"
     ]
    }
   ],
   "source": [
    "t3 = FastTreeValue(_TREE_DATA_3)\n",
    "%timeit copy.deepcopy(t3)"
   ]
  },
  {
   "cell_type": "markdown",
   "id": "bf8be7ea",
   "metadata": {},
   "source": [
    "### Deep Copy of Tianshou Batch"
   ]
  },
  {
   "cell_type": "code",
   "execution_count": 18,
   "id": "91998e6f",
   "metadata": {
    "execution": {
     "iopub.execute_input": "2023-02-23T08:32:14.493804Z",
     "iopub.status.busy": "2023-02-23T08:32:14.492584Z",
     "iopub.status.idle": "2023-02-23T08:32:25.717787Z",
     "shell.execute_reply": "2023-02-23T08:32:25.717197Z"
    }
   },
   "outputs": [
    {
     "name": "stdout",
     "output_type": "stream",
     "text": [
      "138 µs ± 354 ns per loop (mean ± std. dev. of 7 runs, 10,000 loops each)\n"
     ]
    }
   ],
   "source": [
    "b3 = Batch(**_TREE_DATA_3)\n",
    "%timeit copy.deepcopy(b3)"
   ]
  },
  {
   "cell_type": "markdown",
   "id": "223162fb",
   "metadata": {},
   "source": [
    "## Stack, Concat and Split Operation"
   ]
  },
  {
   "cell_type": "markdown",
   "id": "85fa4a73",
   "metadata": {},
   "source": [
    "### Performance of TreeValue"
   ]
  },
  {
   "cell_type": "code",
   "execution_count": 19,
   "id": "a0c2b697",
   "metadata": {
    "execution": {
     "iopub.execute_input": "2023-02-23T08:32:25.721123Z",
     "iopub.status.busy": "2023-02-23T08:32:25.720636Z",
     "iopub.status.idle": "2023-02-23T08:32:25.724992Z",
     "shell.execute_reply": "2023-02-23T08:32:25.724471Z"
    }
   },
   "outputs": [],
   "source": [
    "trees = [FastTreeValue(_TREE_DATA_2) for _ in range(8)]"
   ]
  },
  {
   "cell_type": "code",
   "execution_count": 20,
   "id": "017ea5a5",
   "metadata": {
    "execution": {
     "iopub.execute_input": "2023-02-23T08:32:25.728682Z",
     "iopub.status.busy": "2023-02-23T08:32:25.727510Z",
     "iopub.status.idle": "2023-02-23T08:32:25.736374Z",
     "shell.execute_reply": "2023-02-23T08:32:25.735870Z"
    }
   },
   "outputs": [
    {
     "data": {
      "text/plain": [
       "<FastTreeValue 0x7f65ae665f70>\n",
       "├── 'a' --> tensor([[[ 0.4008,  0.9582, -0.0116],\n",
       "│                    [-0.9696, -1.0183,  1.3784]],\n",
       "│           \n",
       "│                   [[ 0.4008,  0.9582, -0.0116],\n",
       "│                    [-0.9696, -1.0183,  1.3784]],\n",
       "│           \n",
       "│                   [[ 0.4008,  0.9582, -0.0116],\n",
       "│                    [-0.9696, -1.0183,  1.3784]],\n",
       "│           \n",
       "│                   [[ 0.4008,  0.9582, -0.0116],\n",
       "│                    [-0.9696, -1.0183,  1.3784]],\n",
       "│           \n",
       "│                   [[ 0.4008,  0.9582, -0.0116],\n",
       "│                    [-0.9696, -1.0183,  1.3784]],\n",
       "│           \n",
       "│                   [[ 0.4008,  0.9582, -0.0116],\n",
       "│                    [-0.9696, -1.0183,  1.3784]],\n",
       "│           \n",
       "│                   [[ 0.4008,  0.9582, -0.0116],\n",
       "│                    [-0.9696, -1.0183,  1.3784]],\n",
       "│           \n",
       "│                   [[ 0.4008,  0.9582, -0.0116],\n",
       "│                    [-0.9696, -1.0183,  1.3784]]])\n",
       "└── 'x' --> <FastTreeValue 0x7f65ae665e80>\n",
       "    └── 'c' --> tensor([[[ 1.2059,  0.1709,  0.4490, -0.9442],\n",
       "                         [ 0.2373, -0.7642, -0.4383, -0.3825],\n",
       "                         [ 0.5687,  1.0945,  0.2058,  0.3947]],\n",
       "                \n",
       "                        [[ 1.2059,  0.1709,  0.4490, -0.9442],\n",
       "                         [ 0.2373, -0.7642, -0.4383, -0.3825],\n",
       "                         [ 0.5687,  1.0945,  0.2058,  0.3947]],\n",
       "                \n",
       "                        [[ 1.2059,  0.1709,  0.4490, -0.9442],\n",
       "                         [ 0.2373, -0.7642, -0.4383, -0.3825],\n",
       "                         [ 0.5687,  1.0945,  0.2058,  0.3947]],\n",
       "                \n",
       "                        [[ 1.2059,  0.1709,  0.4490, -0.9442],\n",
       "                         [ 0.2373, -0.7642, -0.4383, -0.3825],\n",
       "                         [ 0.5687,  1.0945,  0.2058,  0.3947]],\n",
       "                \n",
       "                        [[ 1.2059,  0.1709,  0.4490, -0.9442],\n",
       "                         [ 0.2373, -0.7642, -0.4383, -0.3825],\n",
       "                         [ 0.5687,  1.0945,  0.2058,  0.3947]],\n",
       "                \n",
       "                        [[ 1.2059,  0.1709,  0.4490, -0.9442],\n",
       "                         [ 0.2373, -0.7642, -0.4383, -0.3825],\n",
       "                         [ 0.5687,  1.0945,  0.2058,  0.3947]],\n",
       "                \n",
       "                        [[ 1.2059,  0.1709,  0.4490, -0.9442],\n",
       "                         [ 0.2373, -0.7642, -0.4383, -0.3825],\n",
       "                         [ 0.5687,  1.0945,  0.2058,  0.3947]],\n",
       "                \n",
       "                        [[ 1.2059,  0.1709,  0.4490, -0.9442],\n",
       "                         [ 0.2373, -0.7642, -0.4383, -0.3825],\n",
       "                         [ 0.5687,  1.0945,  0.2058,  0.3947]]])"
      ]
     },
     "execution_count": 20,
     "metadata": {},
     "output_type": "execute_result"
    }
   ],
   "source": [
    "t_stack = FastTreeValue.func(subside=True)(torch.stack)\n",
    "\n",
    "t_stack(trees)"
   ]
  },
  {
   "cell_type": "code",
   "execution_count": 21,
   "id": "f8b3f415",
   "metadata": {
    "execution": {
     "iopub.execute_input": "2023-02-23T08:32:25.739887Z",
     "iopub.status.busy": "2023-02-23T08:32:25.738812Z",
     "iopub.status.idle": "2023-02-23T08:32:28.316405Z",
     "shell.execute_reply": "2023-02-23T08:32:28.315753Z"
    }
   },
   "outputs": [
    {
     "name": "stdout",
     "output_type": "stream",
     "text": [
      "31.7 µs ± 141 ns per loop (mean ± std. dev. of 7 runs, 10,000 loops each)\n"
     ]
    }
   ],
   "source": [
    "%timeit t_stack(trees)"
   ]
  },
  {
   "cell_type": "code",
   "execution_count": 22,
   "id": "94b56771",
   "metadata": {
    "execution": {
     "iopub.execute_input": "2023-02-23T08:32:28.319237Z",
     "iopub.status.busy": "2023-02-23T08:32:28.318872Z",
     "iopub.status.idle": "2023-02-23T08:32:28.326885Z",
     "shell.execute_reply": "2023-02-23T08:32:28.326319Z"
    }
   },
   "outputs": [
    {
     "data": {
      "text/plain": [
       "<FastTreeValue 0x7f65ae665f40>\n",
       "├── 'a' --> tensor([[ 0.4008,  0.9582, -0.0116],\n",
       "│                   [-0.9696, -1.0183,  1.3784],\n",
       "│                   [ 0.4008,  0.9582, -0.0116],\n",
       "│                   [-0.9696, -1.0183,  1.3784],\n",
       "│                   [ 0.4008,  0.9582, -0.0116],\n",
       "│                   [-0.9696, -1.0183,  1.3784],\n",
       "│                   [ 0.4008,  0.9582, -0.0116],\n",
       "│                   [-0.9696, -1.0183,  1.3784],\n",
       "│                   [ 0.4008,  0.9582, -0.0116],\n",
       "│                   [-0.9696, -1.0183,  1.3784],\n",
       "│                   [ 0.4008,  0.9582, -0.0116],\n",
       "│                   [-0.9696, -1.0183,  1.3784],\n",
       "│                   [ 0.4008,  0.9582, -0.0116],\n",
       "│                   [-0.9696, -1.0183,  1.3784],\n",
       "│                   [ 0.4008,  0.9582, -0.0116],\n",
       "│                   [-0.9696, -1.0183,  1.3784]])\n",
       "└── 'x' --> <FastTreeValue 0x7f65ae64a430>\n",
       "    └── 'c' --> tensor([[ 1.2059,  0.1709,  0.4490, -0.9442],\n",
       "                        [ 0.2373, -0.7642, -0.4383, -0.3825],\n",
       "                        [ 0.5687,  1.0945,  0.2058,  0.3947],\n",
       "                        [ 1.2059,  0.1709,  0.4490, -0.9442],\n",
       "                        [ 0.2373, -0.7642, -0.4383, -0.3825],\n",
       "                        [ 0.5687,  1.0945,  0.2058,  0.3947],\n",
       "                        [ 1.2059,  0.1709,  0.4490, -0.9442],\n",
       "                        [ 0.2373, -0.7642, -0.4383, -0.3825],\n",
       "                        [ 0.5687,  1.0945,  0.2058,  0.3947],\n",
       "                        [ 1.2059,  0.1709,  0.4490, -0.9442],\n",
       "                        [ 0.2373, -0.7642, -0.4383, -0.3825],\n",
       "                        [ 0.5687,  1.0945,  0.2058,  0.3947],\n",
       "                        [ 1.2059,  0.1709,  0.4490, -0.9442],\n",
       "                        [ 0.2373, -0.7642, -0.4383, -0.3825],\n",
       "                        [ 0.5687,  1.0945,  0.2058,  0.3947],\n",
       "                        [ 1.2059,  0.1709,  0.4490, -0.9442],\n",
       "                        [ 0.2373, -0.7642, -0.4383, -0.3825],\n",
       "                        [ 0.5687,  1.0945,  0.2058,  0.3947],\n",
       "                        [ 1.2059,  0.1709,  0.4490, -0.9442],\n",
       "                        [ 0.2373, -0.7642, -0.4383, -0.3825],\n",
       "                        [ 0.5687,  1.0945,  0.2058,  0.3947],\n",
       "                        [ 1.2059,  0.1709,  0.4490, -0.9442],\n",
       "                        [ 0.2373, -0.7642, -0.4383, -0.3825],\n",
       "                        [ 0.5687,  1.0945,  0.2058,  0.3947]])"
      ]
     },
     "execution_count": 22,
     "metadata": {},
     "output_type": "execute_result"
    }
   ],
   "source": [
    "t_cat = FastTreeValue.func(subside=True)(torch.cat)\n",
    "\n",
    "t_cat(trees)"
   ]
  },
  {
   "cell_type": "code",
   "execution_count": 23,
   "id": "5e9c06a6",
   "metadata": {
    "execution": {
     "iopub.execute_input": "2023-02-23T08:32:28.329477Z",
     "iopub.status.busy": "2023-02-23T08:32:28.329152Z",
     "iopub.status.idle": "2023-02-23T08:32:30.734481Z",
     "shell.execute_reply": "2023-02-23T08:32:30.733827Z"
    }
   },
   "outputs": [
    {
     "name": "stdout",
     "output_type": "stream",
     "text": [
      "29.6 µs ± 43.5 ns per loop (mean ± std. dev. of 7 runs, 10,000 loops each)\n"
     ]
    }
   ],
   "source": [
    "%timeit t_cat(trees)"
   ]
  },
  {
   "cell_type": "code",
   "execution_count": 24,
   "id": "a3ab5c8f",
   "metadata": {
    "execution": {
     "iopub.execute_input": "2023-02-23T08:32:30.737403Z",
     "iopub.status.busy": "2023-02-23T08:32:30.737048Z",
     "iopub.status.idle": "2023-02-23T08:32:35.431639Z",
     "shell.execute_reply": "2023-02-23T08:32:35.430919Z"
    }
   },
   "outputs": [
    {
     "name": "stdout",
     "output_type": "stream",
     "text": [
      "57.7 µs ± 104 ns per loop (mean ± std. dev. of 7 runs, 10,000 loops each)\n"
     ]
    }
   ],
   "source": [
    "t_split = FastTreeValue.func(rise=True)(torch.split)\n",
    "tree = FastTreeValue({\n",
    "    'obs': torch.randn(8, 4, 84, 84),\n",
    "    'action': torch.randint(0, 6, size=(8, 1,)),\n",
    "    'reward': torch.rand(8, 1),\n",
    "})\n",
    "\n",
    "%timeit t_split(tree, 1)"
   ]
  },
  {
   "cell_type": "markdown",
   "id": "31c3ec0b",
   "metadata": {},
   "source": [
    "### Performance of Tianshou Batch"
   ]
  },
  {
   "cell_type": "code",
   "execution_count": 25,
   "id": "9ead828a",
   "metadata": {
    "execution": {
     "iopub.execute_input": "2023-02-23T08:32:35.434644Z",
     "iopub.status.busy": "2023-02-23T08:32:35.434297Z",
     "iopub.status.idle": "2023-02-23T08:32:35.442939Z",
     "shell.execute_reply": "2023-02-23T08:32:35.442350Z"
    }
   },
   "outputs": [
    {
     "data": {
      "text/plain": [
       "Batch(\n",
       "    x: Batch(\n",
       "           c: tensor([[[ 1.2059,  0.1709,  0.4490, -0.9442],\n",
       "                       [ 0.2373, -0.7642, -0.4383, -0.3825],\n",
       "                       [ 0.5687,  1.0945,  0.2058,  0.3947]],\n",
       "              \n",
       "                      [[ 1.2059,  0.1709,  0.4490, -0.9442],\n",
       "                       [ 0.2373, -0.7642, -0.4383, -0.3825],\n",
       "                       [ 0.5687,  1.0945,  0.2058,  0.3947]],\n",
       "              \n",
       "                      [[ 1.2059,  0.1709,  0.4490, -0.9442],\n",
       "                       [ 0.2373, -0.7642, -0.4383, -0.3825],\n",
       "                       [ 0.5687,  1.0945,  0.2058,  0.3947]],\n",
       "              \n",
       "                      [[ 1.2059,  0.1709,  0.4490, -0.9442],\n",
       "                       [ 0.2373, -0.7642, -0.4383, -0.3825],\n",
       "                       [ 0.5687,  1.0945,  0.2058,  0.3947]],\n",
       "              \n",
       "                      [[ 1.2059,  0.1709,  0.4490, -0.9442],\n",
       "                       [ 0.2373, -0.7642, -0.4383, -0.3825],\n",
       "                       [ 0.5687,  1.0945,  0.2058,  0.3947]],\n",
       "              \n",
       "                      [[ 1.2059,  0.1709,  0.4490, -0.9442],\n",
       "                       [ 0.2373, -0.7642, -0.4383, -0.3825],\n",
       "                       [ 0.5687,  1.0945,  0.2058,  0.3947]],\n",
       "              \n",
       "                      [[ 1.2059,  0.1709,  0.4490, -0.9442],\n",
       "                       [ 0.2373, -0.7642, -0.4383, -0.3825],\n",
       "                       [ 0.5687,  1.0945,  0.2058,  0.3947]],\n",
       "              \n",
       "                      [[ 1.2059,  0.1709,  0.4490, -0.9442],\n",
       "                       [ 0.2373, -0.7642, -0.4383, -0.3825],\n",
       "                       [ 0.5687,  1.0945,  0.2058,  0.3947]]]),\n",
       "       ),\n",
       "    a: tensor([[[ 0.4008,  0.9582, -0.0116],\n",
       "                [-0.9696, -1.0183,  1.3784]],\n",
       "       \n",
       "               [[ 0.4008,  0.9582, -0.0116],\n",
       "                [-0.9696, -1.0183,  1.3784]],\n",
       "       \n",
       "               [[ 0.4008,  0.9582, -0.0116],\n",
       "                [-0.9696, -1.0183,  1.3784]],\n",
       "       \n",
       "               [[ 0.4008,  0.9582, -0.0116],\n",
       "                [-0.9696, -1.0183,  1.3784]],\n",
       "       \n",
       "               [[ 0.4008,  0.9582, -0.0116],\n",
       "                [-0.9696, -1.0183,  1.3784]],\n",
       "       \n",
       "               [[ 0.4008,  0.9582, -0.0116],\n",
       "                [-0.9696, -1.0183,  1.3784]],\n",
       "       \n",
       "               [[ 0.4008,  0.9582, -0.0116],\n",
       "                [-0.9696, -1.0183,  1.3784]],\n",
       "       \n",
       "               [[ 0.4008,  0.9582, -0.0116],\n",
       "                [-0.9696, -1.0183,  1.3784]]]),\n",
       ")"
      ]
     },
     "execution_count": 25,
     "metadata": {},
     "output_type": "execute_result"
    }
   ],
   "source": [
    "batches = [Batch(**_TREE_DATA_2) for _ in range(8)]\n",
    "\n",
    "Batch.stack(batches)"
   ]
  },
  {
   "cell_type": "code",
   "execution_count": 26,
   "id": "ec9037a3",
   "metadata": {
    "execution": {
     "iopub.execute_input": "2023-02-23T08:32:35.445641Z",
     "iopub.status.busy": "2023-02-23T08:32:35.445296Z",
     "iopub.status.idle": "2023-02-23T08:32:41.772833Z",
     "shell.execute_reply": "2023-02-23T08:32:41.772112Z"
    }
   },
   "outputs": [
    {
     "name": "stdout",
     "output_type": "stream",
     "text": [
      "77.9 µs ± 132 ns per loop (mean ± std. dev. of 7 runs, 10,000 loops each)\n"
     ]
    }
   ],
   "source": [
    "%timeit Batch.stack(batches)"
   ]
  },
  {
   "cell_type": "code",
   "execution_count": 27,
   "id": "cb8ab77e",
   "metadata": {
    "execution": {
     "iopub.execute_input": "2023-02-23T08:32:41.776025Z",
     "iopub.status.busy": "2023-02-23T08:32:41.775516Z",
     "iopub.status.idle": "2023-02-23T08:32:41.783085Z",
     "shell.execute_reply": "2023-02-23T08:32:41.782259Z"
    }
   },
   "outputs": [
    {
     "data": {
      "text/plain": [
       "Batch(\n",
       "    x: Batch(\n",
       "           c: tensor([[ 1.2059,  0.1709,  0.4490, -0.9442],\n",
       "                      [ 0.2373, -0.7642, -0.4383, -0.3825],\n",
       "                      [ 0.5687,  1.0945,  0.2058,  0.3947],\n",
       "                      [ 1.2059,  0.1709,  0.4490, -0.9442],\n",
       "                      [ 0.2373, -0.7642, -0.4383, -0.3825],\n",
       "                      [ 0.5687,  1.0945,  0.2058,  0.3947],\n",
       "                      [ 1.2059,  0.1709,  0.4490, -0.9442],\n",
       "                      [ 0.2373, -0.7642, -0.4383, -0.3825],\n",
       "                      [ 0.5687,  1.0945,  0.2058,  0.3947],\n",
       "                      [ 1.2059,  0.1709,  0.4490, -0.9442],\n",
       "                      [ 0.2373, -0.7642, -0.4383, -0.3825],\n",
       "                      [ 0.5687,  1.0945,  0.2058,  0.3947],\n",
       "                      [ 1.2059,  0.1709,  0.4490, -0.9442],\n",
       "                      [ 0.2373, -0.7642, -0.4383, -0.3825],\n",
       "                      [ 0.5687,  1.0945,  0.2058,  0.3947],\n",
       "                      [ 1.2059,  0.1709,  0.4490, -0.9442],\n",
       "                      [ 0.2373, -0.7642, -0.4383, -0.3825],\n",
       "                      [ 0.5687,  1.0945,  0.2058,  0.3947],\n",
       "                      [ 1.2059,  0.1709,  0.4490, -0.9442],\n",
       "                      [ 0.2373, -0.7642, -0.4383, -0.3825],\n",
       "                      [ 0.5687,  1.0945,  0.2058,  0.3947],\n",
       "                      [ 1.2059,  0.1709,  0.4490, -0.9442],\n",
       "                      [ 0.2373, -0.7642, -0.4383, -0.3825],\n",
       "                      [ 0.5687,  1.0945,  0.2058,  0.3947]]),\n",
       "       ),\n",
       "    a: tensor([[ 0.4008,  0.9582, -0.0116],\n",
       "               [-0.9696, -1.0183,  1.3784],\n",
       "               [ 0.4008,  0.9582, -0.0116],\n",
       "               [-0.9696, -1.0183,  1.3784],\n",
       "               [ 0.4008,  0.9582, -0.0116],\n",
       "               [-0.9696, -1.0183,  1.3784],\n",
       "               [ 0.4008,  0.9582, -0.0116],\n",
       "               [-0.9696, -1.0183,  1.3784],\n",
       "               [ 0.4008,  0.9582, -0.0116],\n",
       "               [-0.9696, -1.0183,  1.3784],\n",
       "               [ 0.4008,  0.9582, -0.0116],\n",
       "               [-0.9696, -1.0183,  1.3784],\n",
       "               [ 0.4008,  0.9582, -0.0116],\n",
       "               [-0.9696, -1.0183,  1.3784],\n",
       "               [ 0.4008,  0.9582, -0.0116],\n",
       "               [-0.9696, -1.0183,  1.3784]]),\n",
       ")"
      ]
     },
     "execution_count": 27,
     "metadata": {},
     "output_type": "execute_result"
    }
   ],
   "source": [
    "Batch.cat(batches)"
   ]
  },
  {
   "cell_type": "code",
   "execution_count": 28,
   "id": "18dfb045",
   "metadata": {
    "execution": {
     "iopub.execute_input": "2023-02-23T08:32:41.785910Z",
     "iopub.status.busy": "2023-02-23T08:32:41.785383Z",
     "iopub.status.idle": "2023-02-23T08:32:53.258867Z",
     "shell.execute_reply": "2023-02-23T08:32:53.258176Z"
    }
   },
   "outputs": [
    {
     "name": "stdout",
     "output_type": "stream",
     "text": [
      "141 µs ± 132 ns per loop (mean ± std. dev. of 7 runs, 10,000 loops each)\n"
     ]
    }
   ],
   "source": [
    "%timeit Batch.cat(batches)"
   ]
  },
  {
   "cell_type": "code",
   "execution_count": 29,
   "id": "c6688e51",
   "metadata": {
    "execution": {
     "iopub.execute_input": "2023-02-23T08:32:53.262012Z",
     "iopub.status.busy": "2023-02-23T08:32:53.261505Z",
     "iopub.status.idle": "2023-02-23T08:32:55.777247Z",
     "shell.execute_reply": "2023-02-23T08:32:55.776556Z"
    }
   },
   "outputs": [
    {
     "name": "stdout",
     "output_type": "stream",
     "text": [
      "309 µs ± 4.27 µs per loop (mean ± std. dev. of 7 runs, 1,000 loops each)\n"
     ]
    }
   ],
   "source": [
    "batch = Batch({\n",
    "    'obs': torch.randn(8, 4, 84, 84),\n",
    "    'action': torch.randint(0, 6, size=(8, 1,)),\n",
    "    'reward': torch.rand(8, 1)}\n",
    ")\n",
    "\n",
    "%timeit list(Batch.split(batch, 1, shuffle=False, merge_last=True))"
   ]
  },
  {
   "cell_type": "code",
   "execution_count": null,
   "id": "2539fbd9",
   "metadata": {},
   "outputs": [],
   "source": []
  }
 ],
 "metadata": {
  "kernelspec": {
   "display_name": "Python 3 (ipykernel)",
   "language": "python",
   "name": "python3"
  },
  "language_info": {
   "codemirror_mode": {
    "name": "ipython",
    "version": 3
   },
   "file_extension": ".py",
   "mimetype": "text/x-python",
   "name": "python",
   "nbconvert_exporter": "python",
   "pygments_lexer": "ipython3",
   "version": "3.8.16"
  }
 },
 "nbformat": 4,
 "nbformat_minor": 5
}
