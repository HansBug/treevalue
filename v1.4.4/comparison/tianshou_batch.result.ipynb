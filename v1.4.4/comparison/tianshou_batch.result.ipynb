{
 "cells": [
  {
   "cell_type": "markdown",
   "id": "9d39d946",
   "metadata": {},
   "source": [
    "# Comparison Between TreeValue and Tianshou Batch"
   ]
  },
  {
   "cell_type": "markdown",
   "id": "3c6db2d4",
   "metadata": {},
   "source": [
    "In this section, we will take a look at the feature and performance of the [Tianshou Batch](https://github.com/thu-ml/tianshou) library, which is developed by Tsinghua Machine Learning Group."
   ]
  },
  {
   "cell_type": "markdown",
   "id": "069361b0",
   "metadata": {},
   "source": [
    "Before starting the comparison, let us define some thing."
   ]
  },
  {
   "cell_type": "code",
   "execution_count": 1,
   "id": "06fc8d26",
   "metadata": {
    "execution": {
     "iopub.execute_input": "2023-03-06T09:52:39.719783Z",
     "iopub.status.busy": "2023-03-06T09:52:39.719555Z",
     "iopub.status.idle": "2023-03-06T09:52:40.631980Z",
     "shell.execute_reply": "2023-03-06T09:52:40.631018Z"
    }
   },
   "outputs": [
    {
     "name": "stderr",
     "output_type": "stream",
     "text": [
      "/opt/hostedtoolcache/Python/3.8.16/x64/lib/python3.8/site-packages/tqdm/auto.py:21: TqdmWarning: IProgress not found. Please update jupyter and ipywidgets. See https://ipywidgets.readthedocs.io/en/stable/user_install.html\n",
      "  from .autonotebook import tqdm as notebook_tqdm\n"
     ]
    }
   ],
   "source": [
    "import torch \n",
    "\n",
    "_TREE_DATA_1 = {'a': 1, 'b': 2, 'x': {'c': 3, 'd': 4}}\n",
    "_TREE_DATA_2 = {\n",
    "    'a': torch.randn(2, 3), \n",
    "    'x': {\n",
    "        'c': torch.randn(3, 4)\n",
    "    },\n",
    "}\n",
    "_TREE_DATA_3 = {\n",
    "    'obs': torch.randn(4, 84, 84),\n",
    "    'action': torch.randint(0, 6, size=(1,)),\n",
    "    'reward': torch.rand(1),\n",
    "}"
   ]
  },
  {
   "cell_type": "markdown",
   "id": "83461b25",
   "metadata": {},
   "source": [
    "## Read and Write Operation"
   ]
  },
  {
   "cell_type": "markdown",
   "id": "067b3f73",
   "metadata": {},
   "source": [
    "Reading and writing are the two most common operations in the tree data structure based on the data model (TreeValue and Tianshou Batch both belong to this type), so this section will compare the reading and writing performance of these two libraries."
   ]
  },
  {
   "cell_type": "markdown",
   "id": "5d09a5b7",
   "metadata": {},
   "source": [
    "### TreeValue's Get and Set"
   ]
  },
  {
   "cell_type": "code",
   "execution_count": 2,
   "id": "9519c4bb",
   "metadata": {
    "execution": {
     "iopub.execute_input": "2023-03-06T09:52:40.635080Z",
     "iopub.status.busy": "2023-03-06T09:52:40.634784Z",
     "iopub.status.idle": "2023-03-06T09:52:40.667957Z",
     "shell.execute_reply": "2023-03-06T09:52:40.667360Z"
    }
   },
   "outputs": [],
   "source": [
    "from treevalue import FastTreeValue\n",
    "\n",
    "t = FastTreeValue(_TREE_DATA_2)"
   ]
  },
  {
   "cell_type": "code",
   "execution_count": 3,
   "id": "11c37677",
   "metadata": {
    "execution": {
     "iopub.execute_input": "2023-03-06T09:52:40.670838Z",
     "iopub.status.busy": "2023-03-06T09:52:40.670348Z",
     "iopub.status.idle": "2023-03-06T09:52:40.679637Z",
     "shell.execute_reply": "2023-03-06T09:52:40.679058Z"
    }
   },
   "outputs": [
    {
     "data": {
      "text/plain": [
       "<FastTreeValue 0x7fe80ca84fa0>\n",
       "├── 'a' --> tensor([[-0.2241,  0.5476,  0.0490],\n",
       "│                   [ 1.0073,  1.4010, -0.9911]])\n",
       "└── 'x' --> <FastTreeValue 0x7fe80ca84e50>\n",
       "    └── 'c' --> tensor([[-0.3813, -0.1415, -1.7451,  0.8414],\n",
       "                        [-1.5688,  1.7014, -1.3227, -1.0840],\n",
       "                        [-0.7128, -0.1798, -0.4859, -0.1734]])"
      ]
     },
     "execution_count": 3,
     "metadata": {},
     "output_type": "execute_result"
    }
   ],
   "source": [
    "t"
   ]
  },
  {
   "cell_type": "code",
   "execution_count": 4,
   "id": "fd70b0b9",
   "metadata": {
    "execution": {
     "iopub.execute_input": "2023-03-06T09:52:40.682375Z",
     "iopub.status.busy": "2023-03-06T09:52:40.682046Z",
     "iopub.status.idle": "2023-03-06T09:52:40.686539Z",
     "shell.execute_reply": "2023-03-06T09:52:40.685920Z"
    }
   },
   "outputs": [
    {
     "data": {
      "text/plain": [
       "tensor([[-0.2241,  0.5476,  0.0490],\n",
       "        [ 1.0073,  1.4010, -0.9911]])"
      ]
     },
     "execution_count": 4,
     "metadata": {},
     "output_type": "execute_result"
    }
   ],
   "source": [
    "t.a"
   ]
  },
  {
   "cell_type": "code",
   "execution_count": 5,
   "id": "c18197bd",
   "metadata": {
    "execution": {
     "iopub.execute_input": "2023-03-06T09:52:40.689005Z",
     "iopub.status.busy": "2023-03-06T09:52:40.688651Z",
     "iopub.status.idle": "2023-03-06T09:52:45.609689Z",
     "shell.execute_reply": "2023-03-06T09:52:45.608926Z"
    }
   },
   "outputs": [
    {
     "name": "stdout",
     "output_type": "stream",
     "text": [
      "60.3 ns ± 0.0346 ns per loop (mean ± std. dev. of 7 runs, 10,000,000 loops each)\n"
     ]
    }
   ],
   "source": [
    "%timeit t.a"
   ]
  },
  {
   "cell_type": "code",
   "execution_count": 6,
   "id": "bd52f867",
   "metadata": {
    "execution": {
     "iopub.execute_input": "2023-03-06T09:52:45.612580Z",
     "iopub.status.busy": "2023-03-06T09:52:45.612076Z",
     "iopub.status.idle": "2023-03-06T09:52:45.618829Z",
     "shell.execute_reply": "2023-03-06T09:52:45.618234Z"
    }
   },
   "outputs": [
    {
     "data": {
      "text/plain": [
       "<FastTreeValue 0x7fe80ca84fa0>\n",
       "├── 'a' --> tensor([[ 0.4064, -2.5109,  0.3428],\n",
       "│                   [ 0.9036, -0.3519, -0.2902]])\n",
       "└── 'x' --> <FastTreeValue 0x7fe80ca84e50>\n",
       "    └── 'c' --> tensor([[-0.3813, -0.1415, -1.7451,  0.8414],\n",
       "                        [-1.5688,  1.7014, -1.3227, -1.0840],\n",
       "                        [-0.7128, -0.1798, -0.4859, -0.1734]])"
      ]
     },
     "execution_count": 6,
     "metadata": {},
     "output_type": "execute_result"
    }
   ],
   "source": [
    "new_value = torch.randn(2, 3)\n",
    "t.a = new_value\n",
    "\n",
    "t"
   ]
  },
  {
   "cell_type": "code",
   "execution_count": 7,
   "id": "bbe04d1c",
   "metadata": {
    "execution": {
     "iopub.execute_input": "2023-03-06T09:52:45.621847Z",
     "iopub.status.busy": "2023-03-06T09:52:45.621281Z",
     "iopub.status.idle": "2023-03-06T09:52:50.514134Z",
     "shell.execute_reply": "2023-03-06T09:52:50.513404Z"
    }
   },
   "outputs": [
    {
     "name": "stdout",
     "output_type": "stream",
     "text": [
      "60 ns ± 0.0231 ns per loop (mean ± std. dev. of 7 runs, 10,000,000 loops each)\n"
     ]
    }
   ],
   "source": [
    "%timeit t.a = new_value"
   ]
  },
  {
   "cell_type": "markdown",
   "id": "48c49731",
   "metadata": {},
   "source": [
    "### Tianshou Batch's Get and Set"
   ]
  },
  {
   "cell_type": "code",
   "execution_count": 8,
   "id": "f1bb14c1",
   "metadata": {
    "execution": {
     "iopub.execute_input": "2023-03-06T09:52:50.517400Z",
     "iopub.status.busy": "2023-03-06T09:52:50.516898Z",
     "iopub.status.idle": "2023-03-06T09:52:50.845074Z",
     "shell.execute_reply": "2023-03-06T09:52:50.844402Z"
    }
   },
   "outputs": [],
   "source": [
    "from tianshou.data import Batch\n",
    "\n",
    "b = Batch(**_TREE_DATA_2)"
   ]
  },
  {
   "cell_type": "code",
   "execution_count": 9,
   "id": "cb0777c3",
   "metadata": {
    "execution": {
     "iopub.execute_input": "2023-03-06T09:52:50.848152Z",
     "iopub.status.busy": "2023-03-06T09:52:50.847649Z",
     "iopub.status.idle": "2023-03-06T09:52:50.853742Z",
     "shell.execute_reply": "2023-03-06T09:52:50.853160Z"
    }
   },
   "outputs": [
    {
     "data": {
      "text/plain": [
       "Batch(\n",
       "    a: tensor([[-0.2241,  0.5476,  0.0490],\n",
       "               [ 1.0073,  1.4010, -0.9911]]),\n",
       "    x: Batch(\n",
       "           c: tensor([[-0.3813, -0.1415, -1.7451,  0.8414],\n",
       "                      [-1.5688,  1.7014, -1.3227, -1.0840],\n",
       "                      [-0.7128, -0.1798, -0.4859, -0.1734]]),\n",
       "       ),\n",
       ")"
      ]
     },
     "execution_count": 9,
     "metadata": {},
     "output_type": "execute_result"
    }
   ],
   "source": [
    "b"
   ]
  },
  {
   "cell_type": "code",
   "execution_count": 10,
   "id": "43ef8ea3",
   "metadata": {
    "execution": {
     "iopub.execute_input": "2023-03-06T09:52:50.856195Z",
     "iopub.status.busy": "2023-03-06T09:52:50.855847Z",
     "iopub.status.idle": "2023-03-06T09:52:50.860647Z",
     "shell.execute_reply": "2023-03-06T09:52:50.860026Z"
    }
   },
   "outputs": [
    {
     "data": {
      "text/plain": [
       "tensor([[-0.2241,  0.5476,  0.0490],\n",
       "        [ 1.0073,  1.4010, -0.9911]])"
      ]
     },
     "execution_count": 10,
     "metadata": {},
     "output_type": "execute_result"
    }
   ],
   "source": [
    "b.a"
   ]
  },
  {
   "cell_type": "code",
   "execution_count": 11,
   "id": "b785ab72",
   "metadata": {
    "execution": {
     "iopub.execute_input": "2023-03-06T09:52:50.863272Z",
     "iopub.status.busy": "2023-03-06T09:52:50.862762Z",
     "iopub.status.idle": "2023-03-06T09:52:55.058936Z",
     "shell.execute_reply": "2023-03-06T09:52:55.058214Z"
    }
   },
   "outputs": [
    {
     "name": "stdout",
     "output_type": "stream",
     "text": [
      "51.8 ns ± 0.0408 ns per loop (mean ± std. dev. of 7 runs, 10,000,000 loops each)\n"
     ]
    }
   ],
   "source": [
    "%timeit b.a"
   ]
  },
  {
   "cell_type": "code",
   "execution_count": 12,
   "id": "ad54dc69",
   "metadata": {
    "execution": {
     "iopub.execute_input": "2023-03-06T09:52:55.061923Z",
     "iopub.status.busy": "2023-03-06T09:52:55.061565Z",
     "iopub.status.idle": "2023-03-06T09:52:55.067422Z",
     "shell.execute_reply": "2023-03-06T09:52:55.066802Z"
    }
   },
   "outputs": [
    {
     "data": {
      "text/plain": [
       "Batch(\n",
       "    a: tensor([[-0.3031, -0.1033, -0.8223],\n",
       "               [ 0.4740, -1.6781,  0.8902]]),\n",
       "    x: Batch(\n",
       "           c: tensor([[-0.3813, -0.1415, -1.7451,  0.8414],\n",
       "                      [-1.5688,  1.7014, -1.3227, -1.0840],\n",
       "                      [-0.7128, -0.1798, -0.4859, -0.1734]]),\n",
       "       ),\n",
       ")"
      ]
     },
     "execution_count": 12,
     "metadata": {},
     "output_type": "execute_result"
    }
   ],
   "source": [
    "new_value = torch.randn(2, 3)\n",
    "b.a = new_value\n",
    "\n",
    "b"
   ]
  },
  {
   "cell_type": "code",
   "execution_count": 13,
   "id": "29b1d0bf",
   "metadata": {
    "execution": {
     "iopub.execute_input": "2023-03-06T09:52:55.070035Z",
     "iopub.status.busy": "2023-03-06T09:52:55.069701Z",
     "iopub.status.idle": "2023-03-06T09:52:59.012735Z",
     "shell.execute_reply": "2023-03-06T09:52:59.012037Z"
    }
   },
   "outputs": [
    {
     "name": "stdout",
     "output_type": "stream",
     "text": [
      "485 ns ± 0.105 ns per loop (mean ± std. dev. of 7 runs, 1,000,000 loops each)\n"
     ]
    }
   ],
   "source": [
    "%timeit b.a = new_value"
   ]
  },
  {
   "cell_type": "markdown",
   "id": "b61ad1d0",
   "metadata": {},
   "source": [
    "## Initialization"
   ]
  },
  {
   "cell_type": "markdown",
   "id": "d70f0d54",
   "metadata": {},
   "source": [
    "### TreeValue's Initialization"
   ]
  },
  {
   "cell_type": "code",
   "execution_count": 14,
   "id": "d32a679b",
   "metadata": {
    "execution": {
     "iopub.execute_input": "2023-03-06T09:52:59.015817Z",
     "iopub.status.busy": "2023-03-06T09:52:59.015384Z",
     "iopub.status.idle": "2023-03-06T09:53:05.891531Z",
     "shell.execute_reply": "2023-03-06T09:53:05.890809Z"
    }
   },
   "outputs": [
    {
     "name": "stdout",
     "output_type": "stream",
     "text": [
      "845 ns ± 0.139 ns per loop (mean ± std. dev. of 7 runs, 1,000,000 loops each)\n"
     ]
    }
   ],
   "source": [
    "%timeit FastTreeValue(_TREE_DATA_1)"
   ]
  },
  {
   "cell_type": "markdown",
   "id": "24f3707b",
   "metadata": {},
   "source": [
    "### Tianshou Batch's Initialization"
   ]
  },
  {
   "cell_type": "code",
   "execution_count": 15,
   "id": "ac3958df",
   "metadata": {
    "execution": {
     "iopub.execute_input": "2023-03-06T09:53:05.894768Z",
     "iopub.status.busy": "2023-03-06T09:53:05.894254Z",
     "iopub.status.idle": "2023-03-06T09:53:15.380703Z",
     "shell.execute_reply": "2023-03-06T09:53:15.379977Z"
    }
   },
   "outputs": [
    {
     "name": "stdout",
     "output_type": "stream",
     "text": [
      "11.7 µs ± 15.5 ns per loop (mean ± std. dev. of 7 runs, 100,000 loops each)\n"
     ]
    }
   ],
   "source": [
    "%timeit Batch(**_TREE_DATA_1)"
   ]
  },
  {
   "cell_type": "markdown",
   "id": "1ab82e2d",
   "metadata": {},
   "source": [
    "## Deep Copy Operation"
   ]
  },
  {
   "cell_type": "code",
   "execution_count": 16,
   "id": "210a9442",
   "metadata": {
    "execution": {
     "iopub.execute_input": "2023-03-06T09:53:15.383843Z",
     "iopub.status.busy": "2023-03-06T09:53:15.383482Z",
     "iopub.status.idle": "2023-03-06T09:53:15.387450Z",
     "shell.execute_reply": "2023-03-06T09:53:15.386826Z"
    }
   },
   "outputs": [],
   "source": [
    "import copy"
   ]
  },
  {
   "cell_type": "markdown",
   "id": "5a736274",
   "metadata": {},
   "source": [
    "### Deep Copy of TreeValue"
   ]
  },
  {
   "cell_type": "code",
   "execution_count": 17,
   "id": "f9bcadd6",
   "metadata": {
    "execution": {
     "iopub.execute_input": "2023-03-06T09:53:15.390422Z",
     "iopub.status.busy": "2023-03-06T09:53:15.389939Z",
     "iopub.status.idle": "2023-03-06T09:53:26.917140Z",
     "shell.execute_reply": "2023-03-06T09:53:26.916587Z"
    }
   },
   "outputs": [
    {
     "name": "stdout",
     "output_type": "stream",
     "text": [
      "142 µs ± 398 ns per loop (mean ± std. dev. of 7 runs, 10,000 loops each)\n"
     ]
    }
   ],
   "source": [
    "t3 = FastTreeValue(_TREE_DATA_3)\n",
    "%timeit copy.deepcopy(t3)"
   ]
  },
  {
   "cell_type": "markdown",
   "id": "bf8be7ea",
   "metadata": {},
   "source": [
    "### Deep Copy of Tianshou Batch"
   ]
  },
  {
   "cell_type": "code",
   "execution_count": 18,
   "id": "91998e6f",
   "metadata": {
    "execution": {
     "iopub.execute_input": "2023-03-06T09:53:26.923815Z",
     "iopub.status.busy": "2023-03-06T09:53:26.922816Z",
     "iopub.status.idle": "2023-03-06T09:53:38.322974Z",
     "shell.execute_reply": "2023-03-06T09:53:38.322378Z"
    }
   },
   "outputs": [
    {
     "name": "stdout",
     "output_type": "stream",
     "text": [
      "140 µs ± 506 ns per loop (mean ± std. dev. of 7 runs, 10,000 loops each)\n"
     ]
    }
   ],
   "source": [
    "b3 = Batch(**_TREE_DATA_3)\n",
    "%timeit copy.deepcopy(b3)"
   ]
  },
  {
   "cell_type": "markdown",
   "id": "223162fb",
   "metadata": {},
   "source": [
    "## Stack, Concat and Split Operation"
   ]
  },
  {
   "cell_type": "markdown",
   "id": "85fa4a73",
   "metadata": {},
   "source": [
    "### Performance of TreeValue"
   ]
  },
  {
   "cell_type": "code",
   "execution_count": 19,
   "id": "a0c2b697",
   "metadata": {
    "execution": {
     "iopub.execute_input": "2023-03-06T09:53:38.326936Z",
     "iopub.status.busy": "2023-03-06T09:53:38.325957Z",
     "iopub.status.idle": "2023-03-06T09:53:38.330718Z",
     "shell.execute_reply": "2023-03-06T09:53:38.329752Z"
    }
   },
   "outputs": [],
   "source": [
    "trees = [FastTreeValue(_TREE_DATA_2) for _ in range(8)]"
   ]
  },
  {
   "cell_type": "code",
   "execution_count": 20,
   "id": "017ea5a5",
   "metadata": {
    "execution": {
     "iopub.execute_input": "2023-03-06T09:53:38.334295Z",
     "iopub.status.busy": "2023-03-06T09:53:38.333366Z",
     "iopub.status.idle": "2023-03-06T09:53:38.342202Z",
     "shell.execute_reply": "2023-03-06T09:53:38.341676Z"
    }
   },
   "outputs": [
    {
     "data": {
      "text/plain": [
       "<FastTreeValue 0x7fe761739b50>\n",
       "├── 'a' --> tensor([[[-0.2241,  0.5476,  0.0490],\n",
       "│                    [ 1.0073,  1.4010, -0.9911]],\n",
       "│           \n",
       "│                   [[-0.2241,  0.5476,  0.0490],\n",
       "│                    [ 1.0073,  1.4010, -0.9911]],\n",
       "│           \n",
       "│                   [[-0.2241,  0.5476,  0.0490],\n",
       "│                    [ 1.0073,  1.4010, -0.9911]],\n",
       "│           \n",
       "│                   [[-0.2241,  0.5476,  0.0490],\n",
       "│                    [ 1.0073,  1.4010, -0.9911]],\n",
       "│           \n",
       "│                   [[-0.2241,  0.5476,  0.0490],\n",
       "│                    [ 1.0073,  1.4010, -0.9911]],\n",
       "│           \n",
       "│                   [[-0.2241,  0.5476,  0.0490],\n",
       "│                    [ 1.0073,  1.4010, -0.9911]],\n",
       "│           \n",
       "│                   [[-0.2241,  0.5476,  0.0490],\n",
       "│                    [ 1.0073,  1.4010, -0.9911]],\n",
       "│           \n",
       "│                   [[-0.2241,  0.5476,  0.0490],\n",
       "│                    [ 1.0073,  1.4010, -0.9911]]])\n",
       "└── 'x' --> <FastTreeValue 0x7fe761739c10>\n",
       "    └── 'c' --> tensor([[[-0.3813, -0.1415, -1.7451,  0.8414],\n",
       "                         [-1.5688,  1.7014, -1.3227, -1.0840],\n",
       "                         [-0.7128, -0.1798, -0.4859, -0.1734]],\n",
       "                \n",
       "                        [[-0.3813, -0.1415, -1.7451,  0.8414],\n",
       "                         [-1.5688,  1.7014, -1.3227, -1.0840],\n",
       "                         [-0.7128, -0.1798, -0.4859, -0.1734]],\n",
       "                \n",
       "                        [[-0.3813, -0.1415, -1.7451,  0.8414],\n",
       "                         [-1.5688,  1.7014, -1.3227, -1.0840],\n",
       "                         [-0.7128, -0.1798, -0.4859, -0.1734]],\n",
       "                \n",
       "                        [[-0.3813, -0.1415, -1.7451,  0.8414],\n",
       "                         [-1.5688,  1.7014, -1.3227, -1.0840],\n",
       "                         [-0.7128, -0.1798, -0.4859, -0.1734]],\n",
       "                \n",
       "                        [[-0.3813, -0.1415, -1.7451,  0.8414],\n",
       "                         [-1.5688,  1.7014, -1.3227, -1.0840],\n",
       "                         [-0.7128, -0.1798, -0.4859, -0.1734]],\n",
       "                \n",
       "                        [[-0.3813, -0.1415, -1.7451,  0.8414],\n",
       "                         [-1.5688,  1.7014, -1.3227, -1.0840],\n",
       "                         [-0.7128, -0.1798, -0.4859, -0.1734]],\n",
       "                \n",
       "                        [[-0.3813, -0.1415, -1.7451,  0.8414],\n",
       "                         [-1.5688,  1.7014, -1.3227, -1.0840],\n",
       "                         [-0.7128, -0.1798, -0.4859, -0.1734]],\n",
       "                \n",
       "                        [[-0.3813, -0.1415, -1.7451,  0.8414],\n",
       "                         [-1.5688,  1.7014, -1.3227, -1.0840],\n",
       "                         [-0.7128, -0.1798, -0.4859, -0.1734]]])"
      ]
     },
     "execution_count": 20,
     "metadata": {},
     "output_type": "execute_result"
    }
   ],
   "source": [
    "t_stack = FastTreeValue.func(subside=True)(torch.stack)\n",
    "\n",
    "t_stack(trees)"
   ]
  },
  {
   "cell_type": "code",
   "execution_count": 21,
   "id": "f8b3f415",
   "metadata": {
    "execution": {
     "iopub.execute_input": "2023-03-06T09:53:38.345053Z",
     "iopub.status.busy": "2023-03-06T09:53:38.344499Z",
     "iopub.status.idle": "2023-03-06T09:53:40.922013Z",
     "shell.execute_reply": "2023-03-06T09:53:40.921312Z"
    }
   },
   "outputs": [
    {
     "name": "stdout",
     "output_type": "stream",
     "text": [
      "31.7 µs ± 57.3 ns per loop (mean ± std. dev. of 7 runs, 10,000 loops each)\n"
     ]
    }
   ],
   "source": [
    "%timeit t_stack(trees)"
   ]
  },
  {
   "cell_type": "code",
   "execution_count": 22,
   "id": "94b56771",
   "metadata": {
    "execution": {
     "iopub.execute_input": "2023-03-06T09:53:40.924864Z",
     "iopub.status.busy": "2023-03-06T09:53:40.924520Z",
     "iopub.status.idle": "2023-03-06T09:53:40.932329Z",
     "shell.execute_reply": "2023-03-06T09:53:40.931654Z"
    }
   },
   "outputs": [
    {
     "data": {
      "text/plain": [
       "<FastTreeValue 0x7fe80ca70e80>\n",
       "├── 'a' --> tensor([[-0.2241,  0.5476,  0.0490],\n",
       "│                   [ 1.0073,  1.4010, -0.9911],\n",
       "│                   [-0.2241,  0.5476,  0.0490],\n",
       "│                   [ 1.0073,  1.4010, -0.9911],\n",
       "│                   [-0.2241,  0.5476,  0.0490],\n",
       "│                   [ 1.0073,  1.4010, -0.9911],\n",
       "│                   [-0.2241,  0.5476,  0.0490],\n",
       "│                   [ 1.0073,  1.4010, -0.9911],\n",
       "│                   [-0.2241,  0.5476,  0.0490],\n",
       "│                   [ 1.0073,  1.4010, -0.9911],\n",
       "│                   [-0.2241,  0.5476,  0.0490],\n",
       "│                   [ 1.0073,  1.4010, -0.9911],\n",
       "│                   [-0.2241,  0.5476,  0.0490],\n",
       "│                   [ 1.0073,  1.4010, -0.9911],\n",
       "│                   [-0.2241,  0.5476,  0.0490],\n",
       "│                   [ 1.0073,  1.4010, -0.9911]])\n",
       "└── 'x' --> <FastTreeValue 0x7fe810af6820>\n",
       "    └── 'c' --> tensor([[-0.3813, -0.1415, -1.7451,  0.8414],\n",
       "                        [-1.5688,  1.7014, -1.3227, -1.0840],\n",
       "                        [-0.7128, -0.1798, -0.4859, -0.1734],\n",
       "                        [-0.3813, -0.1415, -1.7451,  0.8414],\n",
       "                        [-1.5688,  1.7014, -1.3227, -1.0840],\n",
       "                        [-0.7128, -0.1798, -0.4859, -0.1734],\n",
       "                        [-0.3813, -0.1415, -1.7451,  0.8414],\n",
       "                        [-1.5688,  1.7014, -1.3227, -1.0840],\n",
       "                        [-0.7128, -0.1798, -0.4859, -0.1734],\n",
       "                        [-0.3813, -0.1415, -1.7451,  0.8414],\n",
       "                        [-1.5688,  1.7014, -1.3227, -1.0840],\n",
       "                        [-0.7128, -0.1798, -0.4859, -0.1734],\n",
       "                        [-0.3813, -0.1415, -1.7451,  0.8414],\n",
       "                        [-1.5688,  1.7014, -1.3227, -1.0840],\n",
       "                        [-0.7128, -0.1798, -0.4859, -0.1734],\n",
       "                        [-0.3813, -0.1415, -1.7451,  0.8414],\n",
       "                        [-1.5688,  1.7014, -1.3227, -1.0840],\n",
       "                        [-0.7128, -0.1798, -0.4859, -0.1734],\n",
       "                        [-0.3813, -0.1415, -1.7451,  0.8414],\n",
       "                        [-1.5688,  1.7014, -1.3227, -1.0840],\n",
       "                        [-0.7128, -0.1798, -0.4859, -0.1734],\n",
       "                        [-0.3813, -0.1415, -1.7451,  0.8414],\n",
       "                        [-1.5688,  1.7014, -1.3227, -1.0840],\n",
       "                        [-0.7128, -0.1798, -0.4859, -0.1734]])"
      ]
     },
     "execution_count": 22,
     "metadata": {},
     "output_type": "execute_result"
    }
   ],
   "source": [
    "t_cat = FastTreeValue.func(subside=True)(torch.cat)\n",
    "\n",
    "t_cat(trees)"
   ]
  },
  {
   "cell_type": "code",
   "execution_count": 23,
   "id": "5e9c06a6",
   "metadata": {
    "execution": {
     "iopub.execute_input": "2023-03-06T09:53:40.934910Z",
     "iopub.status.busy": "2023-03-06T09:53:40.934583Z",
     "iopub.status.idle": "2023-03-06T09:53:43.351025Z",
     "shell.execute_reply": "2023-03-06T09:53:43.350337Z"
    }
   },
   "outputs": [
    {
     "name": "stdout",
     "output_type": "stream",
     "text": [
      "29.7 µs ± 66.9 ns per loop (mean ± std. dev. of 7 runs, 10,000 loops each)\n"
     ]
    }
   ],
   "source": [
    "%timeit t_cat(trees)"
   ]
  },
  {
   "cell_type": "code",
   "execution_count": 24,
   "id": "a3ab5c8f",
   "metadata": {
    "execution": {
     "iopub.execute_input": "2023-03-06T09:53:43.354127Z",
     "iopub.status.busy": "2023-03-06T09:53:43.353617Z",
     "iopub.status.idle": "2023-03-06T09:53:48.135372Z",
     "shell.execute_reply": "2023-03-06T09:53:48.134719Z"
    }
   },
   "outputs": [
    {
     "name": "stdout",
     "output_type": "stream",
     "text": [
      "58.8 µs ± 79.3 ns per loop (mean ± std. dev. of 7 runs, 10,000 loops each)\n"
     ]
    }
   ],
   "source": [
    "t_split = FastTreeValue.func(rise=True)(torch.split)\n",
    "tree = FastTreeValue({\n",
    "    'obs': torch.randn(8, 4, 84, 84),\n",
    "    'action': torch.randint(0, 6, size=(8, 1,)),\n",
    "    'reward': torch.rand(8, 1),\n",
    "})\n",
    "\n",
    "%timeit t_split(tree, 1)"
   ]
  },
  {
   "cell_type": "markdown",
   "id": "31c3ec0b",
   "metadata": {},
   "source": [
    "### Performance of Tianshou Batch"
   ]
  },
  {
   "cell_type": "code",
   "execution_count": 25,
   "id": "9ead828a",
   "metadata": {
    "execution": {
     "iopub.execute_input": "2023-03-06T09:53:48.138283Z",
     "iopub.status.busy": "2023-03-06T09:53:48.137756Z",
     "iopub.status.idle": "2023-03-06T09:53:48.145607Z",
     "shell.execute_reply": "2023-03-06T09:53:48.145028Z"
    }
   },
   "outputs": [
    {
     "data": {
      "text/plain": [
       "Batch(\n",
       "    x: Batch(\n",
       "           c: tensor([[[-0.3813, -0.1415, -1.7451,  0.8414],\n",
       "                       [-1.5688,  1.7014, -1.3227, -1.0840],\n",
       "                       [-0.7128, -0.1798, -0.4859, -0.1734]],\n",
       "              \n",
       "                      [[-0.3813, -0.1415, -1.7451,  0.8414],\n",
       "                       [-1.5688,  1.7014, -1.3227, -1.0840],\n",
       "                       [-0.7128, -0.1798, -0.4859, -0.1734]],\n",
       "              \n",
       "                      [[-0.3813, -0.1415, -1.7451,  0.8414],\n",
       "                       [-1.5688,  1.7014, -1.3227, -1.0840],\n",
       "                       [-0.7128, -0.1798, -0.4859, -0.1734]],\n",
       "              \n",
       "                      [[-0.3813, -0.1415, -1.7451,  0.8414],\n",
       "                       [-1.5688,  1.7014, -1.3227, -1.0840],\n",
       "                       [-0.7128, -0.1798, -0.4859, -0.1734]],\n",
       "              \n",
       "                      [[-0.3813, -0.1415, -1.7451,  0.8414],\n",
       "                       [-1.5688,  1.7014, -1.3227, -1.0840],\n",
       "                       [-0.7128, -0.1798, -0.4859, -0.1734]],\n",
       "              \n",
       "                      [[-0.3813, -0.1415, -1.7451,  0.8414],\n",
       "                       [-1.5688,  1.7014, -1.3227, -1.0840],\n",
       "                       [-0.7128, -0.1798, -0.4859, -0.1734]],\n",
       "              \n",
       "                      [[-0.3813, -0.1415, -1.7451,  0.8414],\n",
       "                       [-1.5688,  1.7014, -1.3227, -1.0840],\n",
       "                       [-0.7128, -0.1798, -0.4859, -0.1734]],\n",
       "              \n",
       "                      [[-0.3813, -0.1415, -1.7451,  0.8414],\n",
       "                       [-1.5688,  1.7014, -1.3227, -1.0840],\n",
       "                       [-0.7128, -0.1798, -0.4859, -0.1734]]]),\n",
       "       ),\n",
       "    a: tensor([[[-0.2241,  0.5476,  0.0490],\n",
       "                [ 1.0073,  1.4010, -0.9911]],\n",
       "       \n",
       "               [[-0.2241,  0.5476,  0.0490],\n",
       "                [ 1.0073,  1.4010, -0.9911]],\n",
       "       \n",
       "               [[-0.2241,  0.5476,  0.0490],\n",
       "                [ 1.0073,  1.4010, -0.9911]],\n",
       "       \n",
       "               [[-0.2241,  0.5476,  0.0490],\n",
       "                [ 1.0073,  1.4010, -0.9911]],\n",
       "       \n",
       "               [[-0.2241,  0.5476,  0.0490],\n",
       "                [ 1.0073,  1.4010, -0.9911]],\n",
       "       \n",
       "               [[-0.2241,  0.5476,  0.0490],\n",
       "                [ 1.0073,  1.4010, -0.9911]],\n",
       "       \n",
       "               [[-0.2241,  0.5476,  0.0490],\n",
       "                [ 1.0073,  1.4010, -0.9911]],\n",
       "       \n",
       "               [[-0.2241,  0.5476,  0.0490],\n",
       "                [ 1.0073,  1.4010, -0.9911]]]),\n",
       ")"
      ]
     },
     "execution_count": 25,
     "metadata": {},
     "output_type": "execute_result"
    }
   ],
   "source": [
    "batches = [Batch(**_TREE_DATA_2) for _ in range(8)]\n",
    "\n",
    "Batch.stack(batches)"
   ]
  },
  {
   "cell_type": "code",
   "execution_count": 26,
   "id": "ec9037a3",
   "metadata": {
    "execution": {
     "iopub.execute_input": "2023-03-06T09:53:48.148445Z",
     "iopub.status.busy": "2023-03-06T09:53:48.147916Z",
     "iopub.status.idle": "2023-03-06T09:53:58.915429Z",
     "shell.execute_reply": "2023-03-06T09:53:58.914669Z"
    }
   },
   "outputs": [
    {
     "name": "stdout",
     "output_type": "stream",
     "text": [
      "133 µs ± 394 ns per loop (mean ± std. dev. of 7 runs, 10,000 loops each)\n"
     ]
    }
   ],
   "source": [
    "%timeit Batch.stack(batches)"
   ]
  },
  {
   "cell_type": "code",
   "execution_count": 27,
   "id": "cb8ab77e",
   "metadata": {
    "execution": {
     "iopub.execute_input": "2023-03-06T09:53:58.918221Z",
     "iopub.status.busy": "2023-03-06T09:53:58.917861Z",
     "iopub.status.idle": "2023-03-06T09:53:58.925952Z",
     "shell.execute_reply": "2023-03-06T09:53:58.925365Z"
    }
   },
   "outputs": [
    {
     "data": {
      "text/plain": [
       "Batch(\n",
       "    x: Batch(\n",
       "           c: tensor([[-0.3813, -0.1415, -1.7451,  0.8414],\n",
       "                      [-1.5688,  1.7014, -1.3227, -1.0840],\n",
       "                      [-0.7128, -0.1798, -0.4859, -0.1734],\n",
       "                      [-0.3813, -0.1415, -1.7451,  0.8414],\n",
       "                      [-1.5688,  1.7014, -1.3227, -1.0840],\n",
       "                      [-0.7128, -0.1798, -0.4859, -0.1734],\n",
       "                      [-0.3813, -0.1415, -1.7451,  0.8414],\n",
       "                      [-1.5688,  1.7014, -1.3227, -1.0840],\n",
       "                      [-0.7128, -0.1798, -0.4859, -0.1734],\n",
       "                      [-0.3813, -0.1415, -1.7451,  0.8414],\n",
       "                      [-1.5688,  1.7014, -1.3227, -1.0840],\n",
       "                      [-0.7128, -0.1798, -0.4859, -0.1734],\n",
       "                      [-0.3813, -0.1415, -1.7451,  0.8414],\n",
       "                      [-1.5688,  1.7014, -1.3227, -1.0840],\n",
       "                      [-0.7128, -0.1798, -0.4859, -0.1734],\n",
       "                      [-0.3813, -0.1415, -1.7451,  0.8414],\n",
       "                      [-1.5688,  1.7014, -1.3227, -1.0840],\n",
       "                      [-0.7128, -0.1798, -0.4859, -0.1734],\n",
       "                      [-0.3813, -0.1415, -1.7451,  0.8414],\n",
       "                      [-1.5688,  1.7014, -1.3227, -1.0840],\n",
       "                      [-0.7128, -0.1798, -0.4859, -0.1734],\n",
       "                      [-0.3813, -0.1415, -1.7451,  0.8414],\n",
       "                      [-1.5688,  1.7014, -1.3227, -1.0840],\n",
       "                      [-0.7128, -0.1798, -0.4859, -0.1734]]),\n",
       "       ),\n",
       "    a: tensor([[-0.2241,  0.5476,  0.0490],\n",
       "               [ 1.0073,  1.4010, -0.9911],\n",
       "               [-0.2241,  0.5476,  0.0490],\n",
       "               [ 1.0073,  1.4010, -0.9911],\n",
       "               [-0.2241,  0.5476,  0.0490],\n",
       "               [ 1.0073,  1.4010, -0.9911],\n",
       "               [-0.2241,  0.5476,  0.0490],\n",
       "               [ 1.0073,  1.4010, -0.9911],\n",
       "               [-0.2241,  0.5476,  0.0490],\n",
       "               [ 1.0073,  1.4010, -0.9911],\n",
       "               [-0.2241,  0.5476,  0.0490],\n",
       "               [ 1.0073,  1.4010, -0.9911],\n",
       "               [-0.2241,  0.5476,  0.0490],\n",
       "               [ 1.0073,  1.4010, -0.9911],\n",
       "               [-0.2241,  0.5476,  0.0490],\n",
       "               [ 1.0073,  1.4010, -0.9911]]),\n",
       ")"
      ]
     },
     "execution_count": 27,
     "metadata": {},
     "output_type": "execute_result"
    }
   ],
   "source": [
    "Batch.cat(batches)"
   ]
  },
  {
   "cell_type": "code",
   "execution_count": 28,
   "id": "18dfb045",
   "metadata": {
    "execution": {
     "iopub.execute_input": "2023-03-06T09:53:58.928895Z",
     "iopub.status.busy": "2023-03-06T09:53:58.928416Z",
     "iopub.status.idle": "2023-03-06T09:54:02.150556Z",
     "shell.execute_reply": "2023-03-06T09:54:02.149808Z"
    }
   },
   "outputs": [
    {
     "name": "stdout",
     "output_type": "stream",
     "text": [
      "411 µs ± 7.59 µs per loop (mean ± std. dev. of 7 runs, 1,000 loops each)\n"
     ]
    }
   ],
   "source": [
    "%timeit Batch.cat(batches)"
   ]
  },
  {
   "cell_type": "code",
   "execution_count": 29,
   "id": "c6688e51",
   "metadata": {
    "execution": {
     "iopub.execute_input": "2023-03-06T09:54:02.153688Z",
     "iopub.status.busy": "2023-03-06T09:54:02.153033Z",
     "iopub.status.idle": "2023-03-06T09:54:04.688321Z",
     "shell.execute_reply": "2023-03-06T09:54:04.687715Z"
    }
   },
   "outputs": [
    {
     "name": "stdout",
     "output_type": "stream",
     "text": [
      "311 µs ± 3.47 µs per loop (mean ± std. dev. of 7 runs, 1,000 loops each)\n"
     ]
    }
   ],
   "source": [
    "batch = Batch({\n",
    "    'obs': torch.randn(8, 4, 84, 84),\n",
    "    'action': torch.randint(0, 6, size=(8, 1,)),\n",
    "    'reward': torch.rand(8, 1)}\n",
    ")\n",
    "\n",
    "%timeit list(Batch.split(batch, 1, shuffle=False, merge_last=True))"
   ]
  },
  {
   "cell_type": "code",
   "execution_count": null,
   "id": "2539fbd9",
   "metadata": {},
   "outputs": [],
   "source": []
  }
 ],
 "metadata": {
  "kernelspec": {
   "display_name": "Python 3 (ipykernel)",
   "language": "python",
   "name": "python3"
  },
  "language_info": {
   "codemirror_mode": {
    "name": "ipython",
    "version": 3
   },
   "file_extension": ".py",
   "mimetype": "text/x-python",
   "name": "python",
   "nbconvert_exporter": "python",
   "pygments_lexer": "ipython3",
   "version": "3.8.16"
  }
 },
 "nbformat": 4,
 "nbformat_minor": 5
}
