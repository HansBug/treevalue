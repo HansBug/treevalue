{
 "cells": [
  {
   "cell_type": "markdown",
   "id": "9d39d946",
   "metadata": {},
   "source": [
    "# Comparison Between TreeValue and Tianshou Batch"
   ]
  },
  {
   "cell_type": "markdown",
   "id": "3c6db2d4",
   "metadata": {},
   "source": [
    "In this section, we will take a look at the feature and performance of the [Tianshou Batch](https://github.com/thu-ml/tianshou) library, which is developed by Tsinghua Machine Learning Group."
   ]
  },
  {
   "cell_type": "markdown",
   "id": "069361b0",
   "metadata": {},
   "source": [
    "Before starting the comparison, let us define some thing."
   ]
  },
  {
   "cell_type": "code",
   "execution_count": 1,
   "id": "06fc8d26",
   "metadata": {
    "execution": {
     "iopub.execute_input": "2023-10-20T08:56:03.748104Z",
     "iopub.status.busy": "2023-10-20T08:56:03.747794Z",
     "iopub.status.idle": "2023-10-20T08:56:05.957457Z",
     "shell.execute_reply": "2023-10-20T08:56:05.955765Z"
    }
   },
   "outputs": [],
   "source": [
    "import torch \n",
    "\n",
    "_TREE_DATA_1 = {'a': 1, 'b': 2, 'x': {'c': 3, 'd': 4}}\n",
    "_TREE_DATA_2 = {\n",
    "    'a': torch.randn(2, 3), \n",
    "    'x': {\n",
    "        'c': torch.randn(3, 4)\n",
    "    },\n",
    "}\n",
    "_TREE_DATA_3 = {\n",
    "    'obs': torch.randn(4, 84, 84),\n",
    "    'action': torch.randint(0, 6, size=(1,)),\n",
    "    'reward': torch.rand(1),\n",
    "}"
   ]
  },
  {
   "cell_type": "markdown",
   "id": "83461b25",
   "metadata": {},
   "source": [
    "## Read and Write Operation"
   ]
  },
  {
   "cell_type": "markdown",
   "id": "067b3f73",
   "metadata": {},
   "source": [
    "Reading and writing are the two most common operations in the tree data structure based on the data model (TreeValue and Tianshou Batch both belong to this type), so this section will compare the reading and writing performance of these two libraries."
   ]
  },
  {
   "cell_type": "markdown",
   "id": "5d09a5b7",
   "metadata": {},
   "source": [
    "### TreeValue's Get and Set"
   ]
  },
  {
   "cell_type": "code",
   "execution_count": 2,
   "id": "9519c4bb",
   "metadata": {
    "execution": {
     "iopub.execute_input": "2023-10-20T08:56:05.964374Z",
     "iopub.status.busy": "2023-10-20T08:56:05.963425Z",
     "iopub.status.idle": "2023-10-20T08:56:06.009330Z",
     "shell.execute_reply": "2023-10-20T08:56:06.008395Z"
    }
   },
   "outputs": [],
   "source": [
    "from treevalue import FastTreeValue\n",
    "\n",
    "t = FastTreeValue(_TREE_DATA_2)"
   ]
  },
  {
   "cell_type": "code",
   "execution_count": 3,
   "id": "11c37677",
   "metadata": {
    "execution": {
     "iopub.execute_input": "2023-10-20T08:56:06.014032Z",
     "iopub.status.busy": "2023-10-20T08:56:06.013291Z",
     "iopub.status.idle": "2023-10-20T08:56:06.025470Z",
     "shell.execute_reply": "2023-10-20T08:56:06.024629Z"
    }
   },
   "outputs": [
    {
     "data": {
      "text/plain": [
       "<FastTreeValue 0x7f1f181223a0>\n",
       "├── 'a' --> tensor([[-0.6729, -1.0808, -1.2457],\n",
       "│                   [ 1.4491,  1.4587,  0.8920]])\n",
       "└── 'x' --> <FastTreeValue 0x7f1f18122850>\n",
       "    └── 'c' --> tensor([[ 0.5577,  1.0923, -0.7282, -0.1025],\n",
       "                        [-0.7215, -1.0219, -1.9290,  0.6228],\n",
       "                        [ 0.0292, -0.7678, -2.2441,  1.1048]])"
      ]
     },
     "execution_count": 3,
     "metadata": {},
     "output_type": "execute_result"
    }
   ],
   "source": [
    "t"
   ]
  },
  {
   "cell_type": "code",
   "execution_count": 4,
   "id": "fd70b0b9",
   "metadata": {
    "execution": {
     "iopub.execute_input": "2023-10-20T08:56:06.030288Z",
     "iopub.status.busy": "2023-10-20T08:56:06.029590Z",
     "iopub.status.idle": "2023-10-20T08:56:06.040103Z",
     "shell.execute_reply": "2023-10-20T08:56:06.039376Z"
    }
   },
   "outputs": [
    {
     "data": {
      "text/plain": [
       "tensor([[-0.6729, -1.0808, -1.2457],\n",
       "        [ 1.4491,  1.4587,  0.8920]])"
      ]
     },
     "execution_count": 4,
     "metadata": {},
     "output_type": "execute_result"
    }
   ],
   "source": [
    "t.a"
   ]
  },
  {
   "cell_type": "code",
   "execution_count": 5,
   "id": "c18197bd",
   "metadata": {
    "execution": {
     "iopub.execute_input": "2023-10-20T08:56:06.043953Z",
     "iopub.status.busy": "2023-10-20T08:56:06.043318Z",
     "iopub.status.idle": "2023-10-20T08:56:13.935940Z",
     "shell.execute_reply": "2023-10-20T08:56:13.934917Z"
    }
   },
   "outputs": [
    {
     "name": "stdout",
     "output_type": "stream",
     "text": [
      "97.2 ns ± 1.35 ns per loop (mean ± std. dev. of 7 runs, 10,000,000 loops each)\n"
     ]
    }
   ],
   "source": [
    "%timeit t.a"
   ]
  },
  {
   "cell_type": "code",
   "execution_count": 6,
   "id": "bd52f867",
   "metadata": {
    "execution": {
     "iopub.execute_input": "2023-10-20T08:56:13.940920Z",
     "iopub.status.busy": "2023-10-20T08:56:13.940329Z",
     "iopub.status.idle": "2023-10-20T08:56:13.952017Z",
     "shell.execute_reply": "2023-10-20T08:56:13.951178Z"
    }
   },
   "outputs": [
    {
     "data": {
      "text/plain": [
       "<FastTreeValue 0x7f1f181223a0>\n",
       "├── 'a' --> tensor([[-0.4707, -0.4170, -1.1873],\n",
       "│                   [ 0.3354, -0.7924,  0.2189]])\n",
       "└── 'x' --> <FastTreeValue 0x7f1f18122850>\n",
       "    └── 'c' --> tensor([[ 0.5577,  1.0923, -0.7282, -0.1025],\n",
       "                        [-0.7215, -1.0219, -1.9290,  0.6228],\n",
       "                        [ 0.0292, -0.7678, -2.2441,  1.1048]])"
      ]
     },
     "execution_count": 6,
     "metadata": {},
     "output_type": "execute_result"
    }
   ],
   "source": [
    "new_value = torch.randn(2, 3)\n",
    "t.a = new_value\n",
    "\n",
    "t"
   ]
  },
  {
   "cell_type": "code",
   "execution_count": 7,
   "id": "bbe04d1c",
   "metadata": {
    "execution": {
     "iopub.execute_input": "2023-10-20T08:56:13.956576Z",
     "iopub.status.busy": "2023-10-20T08:56:13.956195Z",
     "iopub.status.idle": "2023-10-20T08:56:21.694716Z",
     "shell.execute_reply": "2023-10-20T08:56:21.693090Z"
    }
   },
   "outputs": [
    {
     "name": "stdout",
     "output_type": "stream",
     "text": [
      "95.2 ns ± 1.99 ns per loop (mean ± std. dev. of 7 runs, 10,000,000 loops each)\n"
     ]
    }
   ],
   "source": [
    "%timeit t.a = new_value"
   ]
  },
  {
   "cell_type": "markdown",
   "id": "48c49731",
   "metadata": {},
   "source": [
    "### Tianshou Batch's Get and Set"
   ]
  },
  {
   "cell_type": "code",
   "execution_count": 8,
   "id": "f1bb14c1",
   "metadata": {
    "execution": {
     "iopub.execute_input": "2023-10-20T08:56:21.700128Z",
     "iopub.status.busy": "2023-10-20T08:56:21.699279Z",
     "iopub.status.idle": "2023-10-20T08:56:22.329723Z",
     "shell.execute_reply": "2023-10-20T08:56:22.328450Z"
    }
   },
   "outputs": [],
   "source": [
    "from tianshou.data import Batch\n",
    "\n",
    "b = Batch(**_TREE_DATA_2)"
   ]
  },
  {
   "cell_type": "code",
   "execution_count": 9,
   "id": "cb0777c3",
   "metadata": {
    "execution": {
     "iopub.execute_input": "2023-10-20T08:56:22.338770Z",
     "iopub.status.busy": "2023-10-20T08:56:22.337546Z",
     "iopub.status.idle": "2023-10-20T08:56:22.346749Z",
     "shell.execute_reply": "2023-10-20T08:56:22.345860Z"
    }
   },
   "outputs": [
    {
     "data": {
      "text/plain": [
       "Batch(\n",
       "    a: tensor([[-0.6729, -1.0808, -1.2457],\n",
       "               [ 1.4491,  1.4587,  0.8920]]),\n",
       "    x: Batch(\n",
       "           c: tensor([[ 0.5577,  1.0923, -0.7282, -0.1025],\n",
       "                      [-0.7215, -1.0219, -1.9290,  0.6228],\n",
       "                      [ 0.0292, -0.7678, -2.2441,  1.1048]]),\n",
       "       ),\n",
       ")"
      ]
     },
     "execution_count": 9,
     "metadata": {},
     "output_type": "execute_result"
    }
   ],
   "source": [
    "b"
   ]
  },
  {
   "cell_type": "code",
   "execution_count": 10,
   "id": "43ef8ea3",
   "metadata": {
    "execution": {
     "iopub.execute_input": "2023-10-20T08:56:22.351214Z",
     "iopub.status.busy": "2023-10-20T08:56:22.350483Z",
     "iopub.status.idle": "2023-10-20T08:56:22.360197Z",
     "shell.execute_reply": "2023-10-20T08:56:22.359313Z"
    }
   },
   "outputs": [
    {
     "data": {
      "text/plain": [
       "tensor([[-0.6729, -1.0808, -1.2457],\n",
       "        [ 1.4491,  1.4587,  0.8920]])"
      ]
     },
     "execution_count": 10,
     "metadata": {},
     "output_type": "execute_result"
    }
   ],
   "source": [
    "b.a"
   ]
  },
  {
   "cell_type": "code",
   "execution_count": 11,
   "id": "b785ab72",
   "metadata": {
    "execution": {
     "iopub.execute_input": "2023-10-20T08:56:22.365883Z",
     "iopub.status.busy": "2023-10-20T08:56:22.364212Z",
     "iopub.status.idle": "2023-10-20T08:56:28.884154Z",
     "shell.execute_reply": "2023-10-20T08:56:28.882931Z"
    }
   },
   "outputs": [
    {
     "name": "stdout",
     "output_type": "stream",
     "text": [
      "79.4 ns ± 0.15 ns per loop (mean ± std. dev. of 7 runs, 10,000,000 loops each)\n"
     ]
    }
   ],
   "source": [
    "%timeit b.a"
   ]
  },
  {
   "cell_type": "code",
   "execution_count": 12,
   "id": "ad54dc69",
   "metadata": {
    "execution": {
     "iopub.execute_input": "2023-10-20T08:56:28.889019Z",
     "iopub.status.busy": "2023-10-20T08:56:28.888392Z",
     "iopub.status.idle": "2023-10-20T08:56:28.896762Z",
     "shell.execute_reply": "2023-10-20T08:56:28.895911Z"
    }
   },
   "outputs": [
    {
     "data": {
      "text/plain": [
       "Batch(\n",
       "    a: tensor([[ 0.3519, -1.2807, -0.7876],\n",
       "               [ 2.0563, -0.7730,  0.8072]]),\n",
       "    x: Batch(\n",
       "           c: tensor([[ 0.5577,  1.0923, -0.7282, -0.1025],\n",
       "                      [-0.7215, -1.0219, -1.9290,  0.6228],\n",
       "                      [ 0.0292, -0.7678, -2.2441,  1.1048]]),\n",
       "       ),\n",
       ")"
      ]
     },
     "execution_count": 12,
     "metadata": {},
     "output_type": "execute_result"
    }
   ],
   "source": [
    "new_value = torch.randn(2, 3)\n",
    "b.a = new_value\n",
    "\n",
    "b"
   ]
  },
  {
   "cell_type": "code",
   "execution_count": 13,
   "id": "29b1d0bf",
   "metadata": {
    "execution": {
     "iopub.execute_input": "2023-10-20T08:56:28.901135Z",
     "iopub.status.busy": "2023-10-20T08:56:28.900439Z",
     "iopub.status.idle": "2023-10-20T08:56:34.292263Z",
     "shell.execute_reply": "2023-10-20T08:56:34.291352Z"
    }
   },
   "outputs": [
    {
     "name": "stdout",
     "output_type": "stream",
     "text": [
      "660 ns ± 12.4 ns per loop (mean ± std. dev. of 7 runs, 1,000,000 loops each)\n"
     ]
    }
   ],
   "source": [
    "%timeit b.a = new_value"
   ]
  },
  {
   "cell_type": "markdown",
   "id": "b61ad1d0",
   "metadata": {},
   "source": [
    "## Initialization"
   ]
  },
  {
   "cell_type": "markdown",
   "id": "d70f0d54",
   "metadata": {},
   "source": [
    "### TreeValue's Initialization"
   ]
  },
  {
   "cell_type": "code",
   "execution_count": 14,
   "id": "d32a679b",
   "metadata": {
    "execution": {
     "iopub.execute_input": "2023-10-20T08:56:34.297243Z",
     "iopub.status.busy": "2023-10-20T08:56:34.296582Z",
     "iopub.status.idle": "2023-10-20T08:56:43.068653Z",
     "shell.execute_reply": "2023-10-20T08:56:43.067080Z"
    }
   },
   "outputs": [
    {
     "name": "stdout",
     "output_type": "stream",
     "text": [
      "1.08 µs ± 25.1 ns per loop (mean ± std. dev. of 7 runs, 1,000,000 loops each)\n"
     ]
    }
   ],
   "source": [
    "%timeit FastTreeValue(_TREE_DATA_1)"
   ]
  },
  {
   "cell_type": "markdown",
   "id": "24f3707b",
   "metadata": {},
   "source": [
    "### Tianshou Batch's Initialization"
   ]
  },
  {
   "cell_type": "code",
   "execution_count": 15,
   "id": "ac3958df",
   "metadata": {
    "execution": {
     "iopub.execute_input": "2023-10-20T08:56:43.073776Z",
     "iopub.status.busy": "2023-10-20T08:56:43.073106Z",
     "iopub.status.idle": "2023-10-20T08:56:53.707860Z",
     "shell.execute_reply": "2023-10-20T08:56:53.706814Z"
    }
   },
   "outputs": [
    {
     "name": "stdout",
     "output_type": "stream",
     "text": [
      "13.1 µs ± 370 ns per loop (mean ± std. dev. of 7 runs, 100,000 loops each)\n"
     ]
    }
   ],
   "source": [
    "%timeit Batch(**_TREE_DATA_1)"
   ]
  },
  {
   "cell_type": "markdown",
   "id": "1ab82e2d",
   "metadata": {},
   "source": [
    "## Deep Copy Operation"
   ]
  },
  {
   "cell_type": "code",
   "execution_count": 16,
   "id": "210a9442",
   "metadata": {
    "execution": {
     "iopub.execute_input": "2023-10-20T08:56:53.712834Z",
     "iopub.status.busy": "2023-10-20T08:56:53.712202Z",
     "iopub.status.idle": "2023-10-20T08:56:53.717788Z",
     "shell.execute_reply": "2023-10-20T08:56:53.717015Z"
    }
   },
   "outputs": [],
   "source": [
    "import copy"
   ]
  },
  {
   "cell_type": "markdown",
   "id": "5a736274",
   "metadata": {},
   "source": [
    "### Deep Copy of TreeValue"
   ]
  },
  {
   "cell_type": "code",
   "execution_count": 17,
   "id": "f9bcadd6",
   "metadata": {
    "execution": {
     "iopub.execute_input": "2023-10-20T08:56:53.722151Z",
     "iopub.status.busy": "2023-10-20T08:56:53.721462Z",
     "iopub.status.idle": "2023-10-20T08:57:08.614815Z",
     "shell.execute_reply": "2023-10-20T08:57:08.613738Z"
    }
   },
   "outputs": [
    {
     "name": "stdout",
     "output_type": "stream",
     "text": [
      "184 µs ± 5.01 µs per loop (mean ± std. dev. of 7 runs, 10,000 loops each)\n"
     ]
    }
   ],
   "source": [
    "t3 = FastTreeValue(_TREE_DATA_3)\n",
    "%timeit copy.deepcopy(t3)"
   ]
  },
  {
   "cell_type": "markdown",
   "id": "bf8be7ea",
   "metadata": {},
   "source": [
    "### Deep Copy of Tianshou Batch"
   ]
  },
  {
   "cell_type": "code",
   "execution_count": 18,
   "id": "91998e6f",
   "metadata": {
    "execution": {
     "iopub.execute_input": "2023-10-20T08:57:08.619637Z",
     "iopub.status.busy": "2023-10-20T08:57:08.619291Z",
     "iopub.status.idle": "2023-10-20T08:57:10.170821Z",
     "shell.execute_reply": "2023-10-20T08:57:10.169881Z"
    }
   },
   "outputs": [
    {
     "name": "stdout",
     "output_type": "stream",
     "text": [
      "187 µs ± 10.5 µs per loop (mean ± std. dev. of 7 runs, 1,000 loops each)\n"
     ]
    }
   ],
   "source": [
    "b3 = Batch(**_TREE_DATA_3)\n",
    "%timeit copy.deepcopy(b3)"
   ]
  },
  {
   "cell_type": "markdown",
   "id": "223162fb",
   "metadata": {},
   "source": [
    "## Stack, Concat and Split Operation"
   ]
  },
  {
   "cell_type": "markdown",
   "id": "85fa4a73",
   "metadata": {},
   "source": [
    "### Performance of TreeValue"
   ]
  },
  {
   "cell_type": "code",
   "execution_count": 19,
   "id": "a0c2b697",
   "metadata": {
    "execution": {
     "iopub.execute_input": "2023-10-20T08:57:10.176138Z",
     "iopub.status.busy": "2023-10-20T08:57:10.175029Z",
     "iopub.status.idle": "2023-10-20T08:57:10.180034Z",
     "shell.execute_reply": "2023-10-20T08:57:10.179245Z"
    }
   },
   "outputs": [],
   "source": [
    "trees = [FastTreeValue(_TREE_DATA_2) for _ in range(8)]"
   ]
  },
  {
   "cell_type": "code",
   "execution_count": 20,
   "id": "017ea5a5",
   "metadata": {
    "execution": {
     "iopub.execute_input": "2023-10-20T08:57:10.184094Z",
     "iopub.status.busy": "2023-10-20T08:57:10.183370Z",
     "iopub.status.idle": "2023-10-20T08:57:10.196240Z",
     "shell.execute_reply": "2023-10-20T08:57:10.195227Z"
    }
   },
   "outputs": [
    {
     "data": {
      "text/plain": [
       "<FastTreeValue 0x7f1e425f5760>\n",
       "├── 'a' --> tensor([[[-0.6729, -1.0808, -1.2457],\n",
       "│                    [ 1.4491,  1.4587,  0.8920]],\n",
       "│           \n",
       "│                   [[-0.6729, -1.0808, -1.2457],\n",
       "│                    [ 1.4491,  1.4587,  0.8920]],\n",
       "│           \n",
       "│                   [[-0.6729, -1.0808, -1.2457],\n",
       "│                    [ 1.4491,  1.4587,  0.8920]],\n",
       "│           \n",
       "│                   [[-0.6729, -1.0808, -1.2457],\n",
       "│                    [ 1.4491,  1.4587,  0.8920]],\n",
       "│           \n",
       "│                   [[-0.6729, -1.0808, -1.2457],\n",
       "│                    [ 1.4491,  1.4587,  0.8920]],\n",
       "│           \n",
       "│                   [[-0.6729, -1.0808, -1.2457],\n",
       "│                    [ 1.4491,  1.4587,  0.8920]],\n",
       "│           \n",
       "│                   [[-0.6729, -1.0808, -1.2457],\n",
       "│                    [ 1.4491,  1.4587,  0.8920]],\n",
       "│           \n",
       "│                   [[-0.6729, -1.0808, -1.2457],\n",
       "│                    [ 1.4491,  1.4587,  0.8920]]])\n",
       "└── 'x' --> <FastTreeValue 0x7f1e425f51c0>\n",
       "    └── 'c' --> tensor([[[ 0.5577,  1.0923, -0.7282, -0.1025],\n",
       "                         [-0.7215, -1.0219, -1.9290,  0.6228],\n",
       "                         [ 0.0292, -0.7678, -2.2441,  1.1048]],\n",
       "                \n",
       "                        [[ 0.5577,  1.0923, -0.7282, -0.1025],\n",
       "                         [-0.7215, -1.0219, -1.9290,  0.6228],\n",
       "                         [ 0.0292, -0.7678, -2.2441,  1.1048]],\n",
       "                \n",
       "                        [[ 0.5577,  1.0923, -0.7282, -0.1025],\n",
       "                         [-0.7215, -1.0219, -1.9290,  0.6228],\n",
       "                         [ 0.0292, -0.7678, -2.2441,  1.1048]],\n",
       "                \n",
       "                        [[ 0.5577,  1.0923, -0.7282, -0.1025],\n",
       "                         [-0.7215, -1.0219, -1.9290,  0.6228],\n",
       "                         [ 0.0292, -0.7678, -2.2441,  1.1048]],\n",
       "                \n",
       "                        [[ 0.5577,  1.0923, -0.7282, -0.1025],\n",
       "                         [-0.7215, -1.0219, -1.9290,  0.6228],\n",
       "                         [ 0.0292, -0.7678, -2.2441,  1.1048]],\n",
       "                \n",
       "                        [[ 0.5577,  1.0923, -0.7282, -0.1025],\n",
       "                         [-0.7215, -1.0219, -1.9290,  0.6228],\n",
       "                         [ 0.0292, -0.7678, -2.2441,  1.1048]],\n",
       "                \n",
       "                        [[ 0.5577,  1.0923, -0.7282, -0.1025],\n",
       "                         [-0.7215, -1.0219, -1.9290,  0.6228],\n",
       "                         [ 0.0292, -0.7678, -2.2441,  1.1048]],\n",
       "                \n",
       "                        [[ 0.5577,  1.0923, -0.7282, -0.1025],\n",
       "                         [-0.7215, -1.0219, -1.9290,  0.6228],\n",
       "                         [ 0.0292, -0.7678, -2.2441,  1.1048]]])"
      ]
     },
     "execution_count": 20,
     "metadata": {},
     "output_type": "execute_result"
    }
   ],
   "source": [
    "t_stack = FastTreeValue.func(subside=True)(torch.stack)\n",
    "\n",
    "t_stack(trees)"
   ]
  },
  {
   "cell_type": "code",
   "execution_count": 21,
   "id": "f8b3f415",
   "metadata": {
    "execution": {
     "iopub.execute_input": "2023-10-20T08:57:10.200376Z",
     "iopub.status.busy": "2023-10-20T08:57:10.200097Z",
     "iopub.status.idle": "2023-10-20T08:57:13.409501Z",
     "shell.execute_reply": "2023-10-20T08:57:13.408493Z"
    }
   },
   "outputs": [
    {
     "name": "stdout",
     "output_type": "stream",
     "text": [
      "39.4 µs ± 377 ns per loop (mean ± std. dev. of 7 runs, 10,000 loops each)\n"
     ]
    }
   ],
   "source": [
    "%timeit t_stack(trees)"
   ]
  },
  {
   "cell_type": "code",
   "execution_count": 22,
   "id": "94b56771",
   "metadata": {
    "execution": {
     "iopub.execute_input": "2023-10-20T08:57:13.414398Z",
     "iopub.status.busy": "2023-10-20T08:57:13.413799Z",
     "iopub.status.idle": "2023-10-20T08:57:13.425882Z",
     "shell.execute_reply": "2023-10-20T08:57:13.424869Z"
    }
   },
   "outputs": [
    {
     "data": {
      "text/plain": [
       "<FastTreeValue 0x7f1e3a1cedc0>\n",
       "├── 'a' --> tensor([[-0.6729, -1.0808, -1.2457],\n",
       "│                   [ 1.4491,  1.4587,  0.8920],\n",
       "│                   [-0.6729, -1.0808, -1.2457],\n",
       "│                   [ 1.4491,  1.4587,  0.8920],\n",
       "│                   [-0.6729, -1.0808, -1.2457],\n",
       "│                   [ 1.4491,  1.4587,  0.8920],\n",
       "│                   [-0.6729, -1.0808, -1.2457],\n",
       "│                   [ 1.4491,  1.4587,  0.8920],\n",
       "│                   [-0.6729, -1.0808, -1.2457],\n",
       "│                   [ 1.4491,  1.4587,  0.8920],\n",
       "│                   [-0.6729, -1.0808, -1.2457],\n",
       "│                   [ 1.4491,  1.4587,  0.8920],\n",
       "│                   [-0.6729, -1.0808, -1.2457],\n",
       "│                   [ 1.4491,  1.4587,  0.8920],\n",
       "│                   [-0.6729, -1.0808, -1.2457],\n",
       "│                   [ 1.4491,  1.4587,  0.8920]])\n",
       "└── 'x' --> <FastTreeValue 0x7f1e3a1ceee0>\n",
       "    └── 'c' --> tensor([[ 0.5577,  1.0923, -0.7282, -0.1025],\n",
       "                        [-0.7215, -1.0219, -1.9290,  0.6228],\n",
       "                        [ 0.0292, -0.7678, -2.2441,  1.1048],\n",
       "                        [ 0.5577,  1.0923, -0.7282, -0.1025],\n",
       "                        [-0.7215, -1.0219, -1.9290,  0.6228],\n",
       "                        [ 0.0292, -0.7678, -2.2441,  1.1048],\n",
       "                        [ 0.5577,  1.0923, -0.7282, -0.1025],\n",
       "                        [-0.7215, -1.0219, -1.9290,  0.6228],\n",
       "                        [ 0.0292, -0.7678, -2.2441,  1.1048],\n",
       "                        [ 0.5577,  1.0923, -0.7282, -0.1025],\n",
       "                        [-0.7215, -1.0219, -1.9290,  0.6228],\n",
       "                        [ 0.0292, -0.7678, -2.2441,  1.1048],\n",
       "                        [ 0.5577,  1.0923, -0.7282, -0.1025],\n",
       "                        [-0.7215, -1.0219, -1.9290,  0.6228],\n",
       "                        [ 0.0292, -0.7678, -2.2441,  1.1048],\n",
       "                        [ 0.5577,  1.0923, -0.7282, -0.1025],\n",
       "                        [-0.7215, -1.0219, -1.9290,  0.6228],\n",
       "                        [ 0.0292, -0.7678, -2.2441,  1.1048],\n",
       "                        [ 0.5577,  1.0923, -0.7282, -0.1025],\n",
       "                        [-0.7215, -1.0219, -1.9290,  0.6228],\n",
       "                        [ 0.0292, -0.7678, -2.2441,  1.1048],\n",
       "                        [ 0.5577,  1.0923, -0.7282, -0.1025],\n",
       "                        [-0.7215, -1.0219, -1.9290,  0.6228],\n",
       "                        [ 0.0292, -0.7678, -2.2441,  1.1048]])"
      ]
     },
     "execution_count": 22,
     "metadata": {},
     "output_type": "execute_result"
    }
   ],
   "source": [
    "t_cat = FastTreeValue.func(subside=True)(torch.cat)\n",
    "\n",
    "t_cat(trees)"
   ]
  },
  {
   "cell_type": "code",
   "execution_count": 23,
   "id": "5e9c06a6",
   "metadata": {
    "execution": {
     "iopub.execute_input": "2023-10-20T08:57:13.430280Z",
     "iopub.status.busy": "2023-10-20T08:57:13.429415Z",
     "iopub.status.idle": "2023-10-20T08:57:16.447967Z",
     "shell.execute_reply": "2023-10-20T08:57:16.446992Z"
    }
   },
   "outputs": [
    {
     "name": "stdout",
     "output_type": "stream",
     "text": [
      "36.9 µs ± 116 ns per loop (mean ± std. dev. of 7 runs, 10,000 loops each)\n"
     ]
    }
   ],
   "source": [
    "%timeit t_cat(trees)"
   ]
  },
  {
   "cell_type": "code",
   "execution_count": 24,
   "id": "a3ab5c8f",
   "metadata": {
    "execution": {
     "iopub.execute_input": "2023-10-20T08:57:16.452776Z",
     "iopub.status.busy": "2023-10-20T08:57:16.452128Z",
     "iopub.status.idle": "2023-10-20T08:57:22.552274Z",
     "shell.execute_reply": "2023-10-20T08:57:22.550978Z"
    }
   },
   "outputs": [
    {
     "name": "stdout",
     "output_type": "stream",
     "text": [
      "74.9 µs ± 128 ns per loop (mean ± std. dev. of 7 runs, 10,000 loops each)\n"
     ]
    }
   ],
   "source": [
    "t_split = FastTreeValue.func(rise=True)(torch.split)\n",
    "tree = FastTreeValue({\n",
    "    'obs': torch.randn(8, 4, 84, 84),\n",
    "    'action': torch.randint(0, 6, size=(8, 1,)),\n",
    "    'reward': torch.rand(8, 1),\n",
    "})\n",
    "\n",
    "%timeit t_split(tree, 1)"
   ]
  },
  {
   "cell_type": "markdown",
   "id": "31c3ec0b",
   "metadata": {},
   "source": [
    "### Performance of Tianshou Batch"
   ]
  },
  {
   "cell_type": "code",
   "execution_count": 25,
   "id": "9ead828a",
   "metadata": {
    "execution": {
     "iopub.execute_input": "2023-10-20T08:57:22.559657Z",
     "iopub.status.busy": "2023-10-20T08:57:22.558520Z",
     "iopub.status.idle": "2023-10-20T08:57:22.583376Z",
     "shell.execute_reply": "2023-10-20T08:57:22.582030Z"
    }
   },
   "outputs": [
    {
     "data": {
      "text/plain": [
       "Batch(\n",
       "    x: Batch(\n",
       "           c: tensor([[[ 0.5577,  1.0923, -0.7282, -0.1025],\n",
       "                       [-0.7215, -1.0219, -1.9290,  0.6228],\n",
       "                       [ 0.0292, -0.7678, -2.2441,  1.1048]],\n",
       "              \n",
       "                      [[ 0.5577,  1.0923, -0.7282, -0.1025],\n",
       "                       [-0.7215, -1.0219, -1.9290,  0.6228],\n",
       "                       [ 0.0292, -0.7678, -2.2441,  1.1048]],\n",
       "              \n",
       "                      [[ 0.5577,  1.0923, -0.7282, -0.1025],\n",
       "                       [-0.7215, -1.0219, -1.9290,  0.6228],\n",
       "                       [ 0.0292, -0.7678, -2.2441,  1.1048]],\n",
       "              \n",
       "                      [[ 0.5577,  1.0923, -0.7282, -0.1025],\n",
       "                       [-0.7215, -1.0219, -1.9290,  0.6228],\n",
       "                       [ 0.0292, -0.7678, -2.2441,  1.1048]],\n",
       "              \n",
       "                      [[ 0.5577,  1.0923, -0.7282, -0.1025],\n",
       "                       [-0.7215, -1.0219, -1.9290,  0.6228],\n",
       "                       [ 0.0292, -0.7678, -2.2441,  1.1048]],\n",
       "              \n",
       "                      [[ 0.5577,  1.0923, -0.7282, -0.1025],\n",
       "                       [-0.7215, -1.0219, -1.9290,  0.6228],\n",
       "                       [ 0.0292, -0.7678, -2.2441,  1.1048]],\n",
       "              \n",
       "                      [[ 0.5577,  1.0923, -0.7282, -0.1025],\n",
       "                       [-0.7215, -1.0219, -1.9290,  0.6228],\n",
       "                       [ 0.0292, -0.7678, -2.2441,  1.1048]],\n",
       "              \n",
       "                      [[ 0.5577,  1.0923, -0.7282, -0.1025],\n",
       "                       [-0.7215, -1.0219, -1.9290,  0.6228],\n",
       "                       [ 0.0292, -0.7678, -2.2441,  1.1048]]]),\n",
       "       ),\n",
       "    a: tensor([[[-0.6729, -1.0808, -1.2457],\n",
       "                [ 1.4491,  1.4587,  0.8920]],\n",
       "       \n",
       "               [[-0.6729, -1.0808, -1.2457],\n",
       "                [ 1.4491,  1.4587,  0.8920]],\n",
       "       \n",
       "               [[-0.6729, -1.0808, -1.2457],\n",
       "                [ 1.4491,  1.4587,  0.8920]],\n",
       "       \n",
       "               [[-0.6729, -1.0808, -1.2457],\n",
       "                [ 1.4491,  1.4587,  0.8920]],\n",
       "       \n",
       "               [[-0.6729, -1.0808, -1.2457],\n",
       "                [ 1.4491,  1.4587,  0.8920]],\n",
       "       \n",
       "               [[-0.6729, -1.0808, -1.2457],\n",
       "                [ 1.4491,  1.4587,  0.8920]],\n",
       "       \n",
       "               [[-0.6729, -1.0808, -1.2457],\n",
       "                [ 1.4491,  1.4587,  0.8920]],\n",
       "       \n",
       "               [[-0.6729, -1.0808, -1.2457],\n",
       "                [ 1.4491,  1.4587,  0.8920]]]),\n",
       ")"
      ]
     },
     "execution_count": 25,
     "metadata": {},
     "output_type": "execute_result"
    }
   ],
   "source": [
    "batches = [Batch(**_TREE_DATA_2) for _ in range(8)]\n",
    "\n",
    "Batch.stack(batches)"
   ]
  },
  {
   "cell_type": "code",
   "execution_count": 26,
   "id": "ec9037a3",
   "metadata": {
    "execution": {
     "iopub.execute_input": "2023-10-20T08:57:22.589593Z",
     "iopub.status.busy": "2023-10-20T08:57:22.588615Z",
     "iopub.status.idle": "2023-10-20T08:57:30.890980Z",
     "shell.execute_reply": "2023-10-20T08:57:30.889481Z"
    }
   },
   "outputs": [
    {
     "name": "stdout",
     "output_type": "stream",
     "text": [
      "101 µs ± 3.11 µs per loop (mean ± std. dev. of 7 runs, 10,000 loops each)\n"
     ]
    }
   ],
   "source": [
    "%timeit Batch.stack(batches)"
   ]
  },
  {
   "cell_type": "code",
   "execution_count": 27,
   "id": "cb8ab77e",
   "metadata": {
    "execution": {
     "iopub.execute_input": "2023-10-20T08:57:30.896975Z",
     "iopub.status.busy": "2023-10-20T08:57:30.895938Z",
     "iopub.status.idle": "2023-10-20T08:57:30.907275Z",
     "shell.execute_reply": "2023-10-20T08:57:30.906421Z"
    }
   },
   "outputs": [
    {
     "data": {
      "text/plain": [
       "Batch(\n",
       "    x: Batch(\n",
       "           c: tensor([[ 0.5577,  1.0923, -0.7282, -0.1025],\n",
       "                      [-0.7215, -1.0219, -1.9290,  0.6228],\n",
       "                      [ 0.0292, -0.7678, -2.2441,  1.1048],\n",
       "                      [ 0.5577,  1.0923, -0.7282, -0.1025],\n",
       "                      [-0.7215, -1.0219, -1.9290,  0.6228],\n",
       "                      [ 0.0292, -0.7678, -2.2441,  1.1048],\n",
       "                      [ 0.5577,  1.0923, -0.7282, -0.1025],\n",
       "                      [-0.7215, -1.0219, -1.9290,  0.6228],\n",
       "                      [ 0.0292, -0.7678, -2.2441,  1.1048],\n",
       "                      [ 0.5577,  1.0923, -0.7282, -0.1025],\n",
       "                      [-0.7215, -1.0219, -1.9290,  0.6228],\n",
       "                      [ 0.0292, -0.7678, -2.2441,  1.1048],\n",
       "                      [ 0.5577,  1.0923, -0.7282, -0.1025],\n",
       "                      [-0.7215, -1.0219, -1.9290,  0.6228],\n",
       "                      [ 0.0292, -0.7678, -2.2441,  1.1048],\n",
       "                      [ 0.5577,  1.0923, -0.7282, -0.1025],\n",
       "                      [-0.7215, -1.0219, -1.9290,  0.6228],\n",
       "                      [ 0.0292, -0.7678, -2.2441,  1.1048],\n",
       "                      [ 0.5577,  1.0923, -0.7282, -0.1025],\n",
       "                      [-0.7215, -1.0219, -1.9290,  0.6228],\n",
       "                      [ 0.0292, -0.7678, -2.2441,  1.1048],\n",
       "                      [ 0.5577,  1.0923, -0.7282, -0.1025],\n",
       "                      [-0.7215, -1.0219, -1.9290,  0.6228],\n",
       "                      [ 0.0292, -0.7678, -2.2441,  1.1048]]),\n",
       "       ),\n",
       "    a: tensor([[-0.6729, -1.0808, -1.2457],\n",
       "               [ 1.4491,  1.4587,  0.8920],\n",
       "               [-0.6729, -1.0808, -1.2457],\n",
       "               [ 1.4491,  1.4587,  0.8920],\n",
       "               [-0.6729, -1.0808, -1.2457],\n",
       "               [ 1.4491,  1.4587,  0.8920],\n",
       "               [-0.6729, -1.0808, -1.2457],\n",
       "               [ 1.4491,  1.4587,  0.8920],\n",
       "               [-0.6729, -1.0808, -1.2457],\n",
       "               [ 1.4491,  1.4587,  0.8920],\n",
       "               [-0.6729, -1.0808, -1.2457],\n",
       "               [ 1.4491,  1.4587,  0.8920],\n",
       "               [-0.6729, -1.0808, -1.2457],\n",
       "               [ 1.4491,  1.4587,  0.8920],\n",
       "               [-0.6729, -1.0808, -1.2457],\n",
       "               [ 1.4491,  1.4587,  0.8920]]),\n",
       ")"
      ]
     },
     "execution_count": 27,
     "metadata": {},
     "output_type": "execute_result"
    }
   ],
   "source": [
    "Batch.cat(batches)"
   ]
  },
  {
   "cell_type": "code",
   "execution_count": 28,
   "id": "18dfb045",
   "metadata": {
    "execution": {
     "iopub.execute_input": "2023-10-20T08:57:30.912058Z",
     "iopub.status.busy": "2023-10-20T08:57:30.911153Z",
     "iopub.status.idle": "2023-10-20T08:57:45.471447Z",
     "shell.execute_reply": "2023-10-20T08:57:45.470304Z"
    }
   },
   "outputs": [
    {
     "name": "stdout",
     "output_type": "stream",
     "text": [
      "179 µs ± 294 ns per loop (mean ± std. dev. of 7 runs, 10,000 loops each)\n"
     ]
    }
   ],
   "source": [
    "%timeit Batch.cat(batches)"
   ]
  },
  {
   "cell_type": "code",
   "execution_count": 29,
   "id": "c6688e51",
   "metadata": {
    "execution": {
     "iopub.execute_input": "2023-10-20T08:57:45.476073Z",
     "iopub.status.busy": "2023-10-20T08:57:45.475569Z",
     "iopub.status.idle": "2023-10-20T08:57:49.477029Z",
     "shell.execute_reply": "2023-10-20T08:57:49.474703Z"
    }
   },
   "outputs": [
    {
     "name": "stdout",
     "output_type": "stream",
     "text": [
      "490 µs ± 15 µs per loop (mean ± std. dev. of 7 runs, 1,000 loops each)\n"
     ]
    }
   ],
   "source": [
    "batch = Batch({\n",
    "    'obs': torch.randn(8, 4, 84, 84),\n",
    "    'action': torch.randint(0, 6, size=(8, 1,)),\n",
    "    'reward': torch.rand(8, 1)}\n",
    ")\n",
    "\n",
    "%timeit list(Batch.split(batch, 1, shuffle=False, merge_last=True))"
   ]
  },
  {
   "cell_type": "code",
   "execution_count": null,
   "id": "2539fbd9",
   "metadata": {},
   "outputs": [],
   "source": []
  }
 ],
 "metadata": {
  "kernelspec": {
   "display_name": "Python 3 (ipykernel)",
   "language": "python",
   "name": "python3"
  },
  "language_info": {
   "codemirror_mode": {
    "name": "ipython",
    "version": 3
   },
   "file_extension": ".py",
   "mimetype": "text/x-python",
   "name": "python",
   "nbconvert_exporter": "python",
   "pygments_lexer": "ipython3",
   "version": "3.8.18"
  }
 },
 "nbformat": 4,
 "nbformat_minor": 5
}
