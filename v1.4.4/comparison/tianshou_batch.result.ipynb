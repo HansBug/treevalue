{
 "cells": [
  {
   "cell_type": "markdown",
   "id": "9d39d946",
   "metadata": {},
   "source": [
    "# Comparison Between TreeValue and Tianshou Batch"
   ]
  },
  {
   "cell_type": "markdown",
   "id": "3c6db2d4",
   "metadata": {},
   "source": [
    "In this section, we will take a look at the feature and performance of the [Tianshou Batch](https://github.com/thu-ml/tianshou) library, which is developed by Tsinghua Machine Learning Group."
   ]
  },
  {
   "cell_type": "markdown",
   "id": "069361b0",
   "metadata": {},
   "source": [
    "Before starting the comparison, let us define some thing."
   ]
  },
  {
   "cell_type": "code",
   "execution_count": 1,
   "id": "06fc8d26",
   "metadata": {
    "execution": {
     "iopub.execute_input": "2023-03-06T17:57:37.345523Z",
     "iopub.status.busy": "2023-03-06T17:57:37.344867Z",
     "iopub.status.idle": "2023-03-06T17:57:38.661017Z",
     "shell.execute_reply": "2023-03-06T17:57:38.659790Z"
    }
   },
   "outputs": [
    {
     "name": "stderr",
     "output_type": "stream",
     "text": [
      "/opt/hostedtoolcache/Python/3.8.16/x64/lib/python3.8/site-packages/tqdm/auto.py:21: TqdmWarning: IProgress not found. Please update jupyter and ipywidgets. See https://ipywidgets.readthedocs.io/en/stable/user_install.html\n",
      "  from .autonotebook import tqdm as notebook_tqdm\n"
     ]
    }
   ],
   "source": [
    "import torch \n",
    "\n",
    "_TREE_DATA_1 = {'a': 1, 'b': 2, 'x': {'c': 3, 'd': 4}}\n",
    "_TREE_DATA_2 = {\n",
    "    'a': torch.randn(2, 3), \n",
    "    'x': {\n",
    "        'c': torch.randn(3, 4)\n",
    "    },\n",
    "}\n",
    "_TREE_DATA_3 = {\n",
    "    'obs': torch.randn(4, 84, 84),\n",
    "    'action': torch.randint(0, 6, size=(1,)),\n",
    "    'reward': torch.rand(1),\n",
    "}"
   ]
  },
  {
   "cell_type": "markdown",
   "id": "83461b25",
   "metadata": {},
   "source": [
    "## Read and Write Operation"
   ]
  },
  {
   "cell_type": "markdown",
   "id": "067b3f73",
   "metadata": {},
   "source": [
    "Reading and writing are the two most common operations in the tree data structure based on the data model (TreeValue and Tianshou Batch both belong to this type), so this section will compare the reading and writing performance of these two libraries."
   ]
  },
  {
   "cell_type": "markdown",
   "id": "5d09a5b7",
   "metadata": {},
   "source": [
    "### TreeValue's Get and Set"
   ]
  },
  {
   "cell_type": "code",
   "execution_count": 2,
   "id": "9519c4bb",
   "metadata": {
    "execution": {
     "iopub.execute_input": "2023-03-06T17:57:38.666060Z",
     "iopub.status.busy": "2023-03-06T17:57:38.665672Z",
     "iopub.status.idle": "2023-03-06T17:57:38.715333Z",
     "shell.execute_reply": "2023-03-06T17:57:38.714231Z"
    }
   },
   "outputs": [],
   "source": [
    "from treevalue import FastTreeValue\n",
    "\n",
    "t = FastTreeValue(_TREE_DATA_2)"
   ]
  },
  {
   "cell_type": "code",
   "execution_count": 3,
   "id": "11c37677",
   "metadata": {
    "execution": {
     "iopub.execute_input": "2023-03-06T17:57:38.719299Z",
     "iopub.status.busy": "2023-03-06T17:57:38.718963Z",
     "iopub.status.idle": "2023-03-06T17:57:38.730639Z",
     "shell.execute_reply": "2023-03-06T17:57:38.729602Z"
    }
   },
   "outputs": [
    {
     "data": {
      "text/plain": [
       "<FastTreeValue 0x7f179032bbb0>\n",
       "├── 'a' --> tensor([[ 1.6485,  1.3529,  0.3517],\n",
       "│                   [-1.5229,  0.5561,  0.2962]])\n",
       "└── 'x' --> <FastTreeValue 0x7f17923b68b0>\n",
       "    └── 'c' --> tensor([[ 0.0233,  0.4830, -1.0290, -0.6119],\n",
       "                        [-0.3239,  0.0862, -0.1516,  0.3273],\n",
       "                        [-1.6574,  1.5067,  0.3015,  1.0849]])"
      ]
     },
     "execution_count": 3,
     "metadata": {},
     "output_type": "execute_result"
    }
   ],
   "source": [
    "t"
   ]
  },
  {
   "cell_type": "code",
   "execution_count": 4,
   "id": "fd70b0b9",
   "metadata": {
    "execution": {
     "iopub.execute_input": "2023-03-06T17:57:38.734487Z",
     "iopub.status.busy": "2023-03-06T17:57:38.734190Z",
     "iopub.status.idle": "2023-03-06T17:57:38.740584Z",
     "shell.execute_reply": "2023-03-06T17:57:38.739614Z"
    }
   },
   "outputs": [
    {
     "data": {
      "text/plain": [
       "tensor([[ 1.6485,  1.3529,  0.3517],\n",
       "        [-1.5229,  0.5561,  0.2962]])"
      ]
     },
     "execution_count": 4,
     "metadata": {},
     "output_type": "execute_result"
    }
   ],
   "source": [
    "t.a"
   ]
  },
  {
   "cell_type": "code",
   "execution_count": 5,
   "id": "c18197bd",
   "metadata": {
    "execution": {
     "iopub.execute_input": "2023-03-06T17:57:38.744081Z",
     "iopub.status.busy": "2023-03-06T17:57:38.743782Z",
     "iopub.status.idle": "2023-03-06T17:57:45.856912Z",
     "shell.execute_reply": "2023-03-06T17:57:45.855388Z"
    }
   },
   "outputs": [
    {
     "name": "stdout",
     "output_type": "stream",
     "text": [
      "87.4 ns ± 2 ns per loop (mean ± std. dev. of 7 runs, 10,000,000 loops each)\n"
     ]
    }
   ],
   "source": [
    "%timeit t.a"
   ]
  },
  {
   "cell_type": "code",
   "execution_count": 6,
   "id": "bd52f867",
   "metadata": {
    "execution": {
     "iopub.execute_input": "2023-03-06T17:57:45.861404Z",
     "iopub.status.busy": "2023-03-06T17:57:45.860619Z",
     "iopub.status.idle": "2023-03-06T17:57:45.871153Z",
     "shell.execute_reply": "2023-03-06T17:57:45.870116Z"
    }
   },
   "outputs": [
    {
     "data": {
      "text/plain": [
       "<FastTreeValue 0x7f179032bbb0>\n",
       "├── 'a' --> tensor([[-0.8718, -1.2017,  0.0520],\n",
       "│                   [ 1.0355, -0.3283, -0.6864]])\n",
       "└── 'x' --> <FastTreeValue 0x7f17923b68b0>\n",
       "    └── 'c' --> tensor([[ 0.0233,  0.4830, -1.0290, -0.6119],\n",
       "                        [-0.3239,  0.0862, -0.1516,  0.3273],\n",
       "                        [-1.6574,  1.5067,  0.3015,  1.0849]])"
      ]
     },
     "execution_count": 6,
     "metadata": {},
     "output_type": "execute_result"
    }
   ],
   "source": [
    "new_value = torch.randn(2, 3)\n",
    "t.a = new_value\n",
    "\n",
    "t"
   ]
  },
  {
   "cell_type": "code",
   "execution_count": 7,
   "id": "bbe04d1c",
   "metadata": {
    "execution": {
     "iopub.execute_input": "2023-03-06T17:57:45.875493Z",
     "iopub.status.busy": "2023-03-06T17:57:45.874638Z",
     "iopub.status.idle": "2023-03-06T17:57:54.848741Z",
     "shell.execute_reply": "2023-03-06T17:57:54.847278Z"
    }
   },
   "outputs": [
    {
     "name": "stdout",
     "output_type": "stream",
     "text": [
      "110 ns ± 1.3 ns per loop (mean ± std. dev. of 7 runs, 10,000,000 loops each)\n"
     ]
    }
   ],
   "source": [
    "%timeit t.a = new_value"
   ]
  },
  {
   "cell_type": "markdown",
   "id": "48c49731",
   "metadata": {},
   "source": [
    "### Tianshou Batch's Get and Set"
   ]
  },
  {
   "cell_type": "code",
   "execution_count": 8,
   "id": "f1bb14c1",
   "metadata": {
    "execution": {
     "iopub.execute_input": "2023-03-06T17:57:54.852987Z",
     "iopub.status.busy": "2023-03-06T17:57:54.852475Z",
     "iopub.status.idle": "2023-03-06T17:57:55.377340Z",
     "shell.execute_reply": "2023-03-06T17:57:55.376198Z"
    }
   },
   "outputs": [],
   "source": [
    "from tianshou.data import Batch\n",
    "\n",
    "b = Batch(**_TREE_DATA_2)"
   ]
  },
  {
   "cell_type": "code",
   "execution_count": 9,
   "id": "cb0777c3",
   "metadata": {
    "execution": {
     "iopub.execute_input": "2023-03-06T17:57:55.382672Z",
     "iopub.status.busy": "2023-03-06T17:57:55.381460Z",
     "iopub.status.idle": "2023-03-06T17:57:55.390799Z",
     "shell.execute_reply": "2023-03-06T17:57:55.389883Z"
    }
   },
   "outputs": [
    {
     "data": {
      "text/plain": [
       "Batch(\n",
       "    a: tensor([[ 1.6485,  1.3529,  0.3517],\n",
       "               [-1.5229,  0.5561,  0.2962]]),\n",
       "    x: Batch(\n",
       "           c: tensor([[ 0.0233,  0.4830, -1.0290, -0.6119],\n",
       "                      [-0.3239,  0.0862, -0.1516,  0.3273],\n",
       "                      [-1.6574,  1.5067,  0.3015,  1.0849]]),\n",
       "       ),\n",
       ")"
      ]
     },
     "execution_count": 9,
     "metadata": {},
     "output_type": "execute_result"
    }
   ],
   "source": [
    "b"
   ]
  },
  {
   "cell_type": "code",
   "execution_count": 10,
   "id": "43ef8ea3",
   "metadata": {
    "execution": {
     "iopub.execute_input": "2023-03-06T17:57:55.394723Z",
     "iopub.status.busy": "2023-03-06T17:57:55.394172Z",
     "iopub.status.idle": "2023-03-06T17:57:55.401335Z",
     "shell.execute_reply": "2023-03-06T17:57:55.400228Z"
    }
   },
   "outputs": [
    {
     "data": {
      "text/plain": [
       "tensor([[ 1.6485,  1.3529,  0.3517],\n",
       "        [-1.5229,  0.5561,  0.2962]])"
      ]
     },
     "execution_count": 10,
     "metadata": {},
     "output_type": "execute_result"
    }
   ],
   "source": [
    "b.a"
   ]
  },
  {
   "cell_type": "code",
   "execution_count": 11,
   "id": "b785ab72",
   "metadata": {
    "execution": {
     "iopub.execute_input": "2023-03-06T17:57:55.405619Z",
     "iopub.status.busy": "2023-03-06T17:57:55.404990Z",
     "iopub.status.idle": "2023-03-06T17:58:01.346986Z",
     "shell.execute_reply": "2023-03-06T17:58:01.345878Z"
    }
   },
   "outputs": [
    {
     "name": "stdout",
     "output_type": "stream",
     "text": [
      "72.9 ns ± 1.8 ns per loop (mean ± std. dev. of 7 runs, 10,000,000 loops each)\n"
     ]
    }
   ],
   "source": [
    "%timeit b.a"
   ]
  },
  {
   "cell_type": "code",
   "execution_count": 12,
   "id": "ad54dc69",
   "metadata": {
    "execution": {
     "iopub.execute_input": "2023-03-06T17:58:01.354771Z",
     "iopub.status.busy": "2023-03-06T17:58:01.353314Z",
     "iopub.status.idle": "2023-03-06T17:58:01.368397Z",
     "shell.execute_reply": "2023-03-06T17:58:01.362949Z"
    }
   },
   "outputs": [
    {
     "data": {
      "text/plain": [
       "Batch(\n",
       "    a: tensor([[ 0.0366,  0.7024,  0.4510],\n",
       "               [-0.4438,  0.8842, -0.0581]]),\n",
       "    x: Batch(\n",
       "           c: tensor([[ 0.0233,  0.4830, -1.0290, -0.6119],\n",
       "                      [-0.3239,  0.0862, -0.1516,  0.3273],\n",
       "                      [-1.6574,  1.5067,  0.3015,  1.0849]]),\n",
       "       ),\n",
       ")"
      ]
     },
     "execution_count": 12,
     "metadata": {},
     "output_type": "execute_result"
    }
   ],
   "source": [
    "new_value = torch.randn(2, 3)\n",
    "b.a = new_value\n",
    "\n",
    "b"
   ]
  },
  {
   "cell_type": "code",
   "execution_count": 13,
   "id": "29b1d0bf",
   "metadata": {
    "execution": {
     "iopub.execute_input": "2023-03-06T17:58:01.373057Z",
     "iopub.status.busy": "2023-03-06T17:58:01.372099Z",
     "iopub.status.idle": "2023-03-06T17:58:06.823783Z",
     "shell.execute_reply": "2023-03-06T17:58:06.822652Z"
    }
   },
   "outputs": [
    {
     "name": "stdout",
     "output_type": "stream",
     "text": [
      "666 ns ± 9.92 ns per loop (mean ± std. dev. of 7 runs, 1,000,000 loops each)\n"
     ]
    }
   ],
   "source": [
    "%timeit b.a = new_value"
   ]
  },
  {
   "cell_type": "markdown",
   "id": "b61ad1d0",
   "metadata": {},
   "source": [
    "## Initialization"
   ]
  },
  {
   "cell_type": "markdown",
   "id": "d70f0d54",
   "metadata": {},
   "source": [
    "### TreeValue's Initialization"
   ]
  },
  {
   "cell_type": "code",
   "execution_count": 14,
   "id": "d32a679b",
   "metadata": {
    "execution": {
     "iopub.execute_input": "2023-03-06T17:58:06.828182Z",
     "iopub.status.busy": "2023-03-06T17:58:06.827616Z",
     "iopub.status.idle": "2023-03-06T17:58:15.487621Z",
     "shell.execute_reply": "2023-03-06T17:58:15.486619Z"
    }
   },
   "outputs": [
    {
     "name": "stdout",
     "output_type": "stream",
     "text": [
      "1.07 µs ± 11.8 ns per loop (mean ± std. dev. of 7 runs, 1,000,000 loops each)\n"
     ]
    }
   ],
   "source": [
    "%timeit FastTreeValue(_TREE_DATA_1)"
   ]
  },
  {
   "cell_type": "markdown",
   "id": "24f3707b",
   "metadata": {},
   "source": [
    "### Tianshou Batch's Initialization"
   ]
  },
  {
   "cell_type": "code",
   "execution_count": 15,
   "id": "ac3958df",
   "metadata": {
    "execution": {
     "iopub.execute_input": "2023-03-06T17:58:15.492659Z",
     "iopub.status.busy": "2023-03-06T17:58:15.491867Z",
     "iopub.status.idle": "2023-03-06T17:58:27.210083Z",
     "shell.execute_reply": "2023-03-06T17:58:27.208964Z"
    }
   },
   "outputs": [
    {
     "name": "stdout",
     "output_type": "stream",
     "text": [
      "14.4 µs ± 157 ns per loop (mean ± std. dev. of 7 runs, 100,000 loops each)\n"
     ]
    }
   ],
   "source": [
    "%timeit Batch(**_TREE_DATA_1)"
   ]
  },
  {
   "cell_type": "markdown",
   "id": "1ab82e2d",
   "metadata": {},
   "source": [
    "## Deep Copy Operation"
   ]
  },
  {
   "cell_type": "code",
   "execution_count": 16,
   "id": "210a9442",
   "metadata": {
    "execution": {
     "iopub.execute_input": "2023-03-06T17:58:27.215847Z",
     "iopub.status.busy": "2023-03-06T17:58:27.214227Z",
     "iopub.status.idle": "2023-03-06T17:58:27.220510Z",
     "shell.execute_reply": "2023-03-06T17:58:27.219506Z"
    }
   },
   "outputs": [],
   "source": [
    "import copy"
   ]
  },
  {
   "cell_type": "markdown",
   "id": "5a736274",
   "metadata": {},
   "source": [
    "### Deep Copy of TreeValue"
   ]
  },
  {
   "cell_type": "code",
   "execution_count": 17,
   "id": "f9bcadd6",
   "metadata": {
    "execution": {
     "iopub.execute_input": "2023-03-06T17:58:27.224141Z",
     "iopub.status.busy": "2023-03-06T17:58:27.223827Z",
     "iopub.status.idle": "2023-03-06T17:58:29.712498Z",
     "shell.execute_reply": "2023-03-06T17:58:29.707967Z"
    }
   },
   "outputs": [
    {
     "name": "stdout",
     "output_type": "stream",
     "text": [
      "305 µs ± 6.42 µs per loop (mean ± std. dev. of 7 runs, 1,000 loops each)\n"
     ]
    }
   ],
   "source": [
    "t3 = FastTreeValue(_TREE_DATA_3)\n",
    "%timeit copy.deepcopy(t3)"
   ]
  },
  {
   "cell_type": "markdown",
   "id": "bf8be7ea",
   "metadata": {},
   "source": [
    "### Deep Copy of Tianshou Batch"
   ]
  },
  {
   "cell_type": "code",
   "execution_count": 18,
   "id": "91998e6f",
   "metadata": {
    "execution": {
     "iopub.execute_input": "2023-03-06T17:58:29.717272Z",
     "iopub.status.busy": "2023-03-06T17:58:29.716731Z",
     "iopub.status.idle": "2023-03-06T17:58:32.106123Z",
     "shell.execute_reply": "2023-03-06T17:58:32.105095Z"
    }
   },
   "outputs": [
    {
     "name": "stdout",
     "output_type": "stream",
     "text": [
      "294 µs ± 7.55 µs per loop (mean ± std. dev. of 7 runs, 1,000 loops each)\n"
     ]
    }
   ],
   "source": [
    "b3 = Batch(**_TREE_DATA_3)\n",
    "%timeit copy.deepcopy(b3)"
   ]
  },
  {
   "cell_type": "markdown",
   "id": "223162fb",
   "metadata": {},
   "source": [
    "## Stack, Concat and Split Operation"
   ]
  },
  {
   "cell_type": "markdown",
   "id": "85fa4a73",
   "metadata": {},
   "source": [
    "### Performance of TreeValue"
   ]
  },
  {
   "cell_type": "code",
   "execution_count": 19,
   "id": "a0c2b697",
   "metadata": {
    "execution": {
     "iopub.execute_input": "2023-03-06T17:58:32.110540Z",
     "iopub.status.busy": "2023-03-06T17:58:32.109942Z",
     "iopub.status.idle": "2023-03-06T17:58:32.115510Z",
     "shell.execute_reply": "2023-03-06T17:58:32.114569Z"
    }
   },
   "outputs": [],
   "source": [
    "trees = [FastTreeValue(_TREE_DATA_2) for _ in range(8)]"
   ]
  },
  {
   "cell_type": "code",
   "execution_count": 20,
   "id": "017ea5a5",
   "metadata": {
    "execution": {
     "iopub.execute_input": "2023-03-06T17:58:32.119294Z",
     "iopub.status.busy": "2023-03-06T17:58:32.118971Z",
     "iopub.status.idle": "2023-03-06T17:58:32.138814Z",
     "shell.execute_reply": "2023-03-06T17:58:32.129511Z"
    }
   },
   "outputs": [
    {
     "data": {
      "text/plain": [
       "<FastTreeValue 0x7f17647ba6a0>\n",
       "├── 'a' --> tensor([[[ 1.6485,  1.3529,  0.3517],\n",
       "│                    [-1.5229,  0.5561,  0.2962]],\n",
       "│           \n",
       "│                   [[ 1.6485,  1.3529,  0.3517],\n",
       "│                    [-1.5229,  0.5561,  0.2962]],\n",
       "│           \n",
       "│                   [[ 1.6485,  1.3529,  0.3517],\n",
       "│                    [-1.5229,  0.5561,  0.2962]],\n",
       "│           \n",
       "│                   [[ 1.6485,  1.3529,  0.3517],\n",
       "│                    [-1.5229,  0.5561,  0.2962]],\n",
       "│           \n",
       "│                   [[ 1.6485,  1.3529,  0.3517],\n",
       "│                    [-1.5229,  0.5561,  0.2962]],\n",
       "│           \n",
       "│                   [[ 1.6485,  1.3529,  0.3517],\n",
       "│                    [-1.5229,  0.5561,  0.2962]],\n",
       "│           \n",
       "│                   [[ 1.6485,  1.3529,  0.3517],\n",
       "│                    [-1.5229,  0.5561,  0.2962]],\n",
       "│           \n",
       "│                   [[ 1.6485,  1.3529,  0.3517],\n",
       "│                    [-1.5229,  0.5561,  0.2962]]])\n",
       "└── 'x' --> <FastTreeValue 0x7f16e3610a30>\n",
       "    └── 'c' --> tensor([[[ 0.0233,  0.4830, -1.0290, -0.6119],\n",
       "                         [-0.3239,  0.0862, -0.1516,  0.3273],\n",
       "                         [-1.6574,  1.5067,  0.3015,  1.0849]],\n",
       "                \n",
       "                        [[ 0.0233,  0.4830, -1.0290, -0.6119],\n",
       "                         [-0.3239,  0.0862, -0.1516,  0.3273],\n",
       "                         [-1.6574,  1.5067,  0.3015,  1.0849]],\n",
       "                \n",
       "                        [[ 0.0233,  0.4830, -1.0290, -0.6119],\n",
       "                         [-0.3239,  0.0862, -0.1516,  0.3273],\n",
       "                         [-1.6574,  1.5067,  0.3015,  1.0849]],\n",
       "                \n",
       "                        [[ 0.0233,  0.4830, -1.0290, -0.6119],\n",
       "                         [-0.3239,  0.0862, -0.1516,  0.3273],\n",
       "                         [-1.6574,  1.5067,  0.3015,  1.0849]],\n",
       "                \n",
       "                        [[ 0.0233,  0.4830, -1.0290, -0.6119],\n",
       "                         [-0.3239,  0.0862, -0.1516,  0.3273],\n",
       "                         [-1.6574,  1.5067,  0.3015,  1.0849]],\n",
       "                \n",
       "                        [[ 0.0233,  0.4830, -1.0290, -0.6119],\n",
       "                         [-0.3239,  0.0862, -0.1516,  0.3273],\n",
       "                         [-1.6574,  1.5067,  0.3015,  1.0849]],\n",
       "                \n",
       "                        [[ 0.0233,  0.4830, -1.0290, -0.6119],\n",
       "                         [-0.3239,  0.0862, -0.1516,  0.3273],\n",
       "                         [-1.6574,  1.5067,  0.3015,  1.0849]],\n",
       "                \n",
       "                        [[ 0.0233,  0.4830, -1.0290, -0.6119],\n",
       "                         [-0.3239,  0.0862, -0.1516,  0.3273],\n",
       "                         [-1.6574,  1.5067,  0.3015,  1.0849]]])"
      ]
     },
     "execution_count": 20,
     "metadata": {},
     "output_type": "execute_result"
    }
   ],
   "source": [
    "t_stack = FastTreeValue.func(subside=True)(torch.stack)\n",
    "\n",
    "t_stack(trees)"
   ]
  },
  {
   "cell_type": "code",
   "execution_count": 21,
   "id": "f8b3f415",
   "metadata": {
    "execution": {
     "iopub.execute_input": "2023-03-06T17:58:32.148093Z",
     "iopub.status.busy": "2023-03-06T17:58:32.147780Z",
     "iopub.status.idle": "2023-03-06T17:58:36.081524Z",
     "shell.execute_reply": "2023-03-06T17:58:36.080192Z"
    }
   },
   "outputs": [
    {
     "name": "stdout",
     "output_type": "stream",
     "text": [
      "48.4 µs ± 619 ns per loop (mean ± std. dev. of 7 runs, 10,000 loops each)\n"
     ]
    }
   ],
   "source": [
    "%timeit t_stack(trees)"
   ]
  },
  {
   "cell_type": "code",
   "execution_count": 22,
   "id": "94b56771",
   "metadata": {
    "execution": {
     "iopub.execute_input": "2023-03-06T17:58:36.085419Z",
     "iopub.status.busy": "2023-03-06T17:58:36.084911Z",
     "iopub.status.idle": "2023-03-06T17:58:36.095150Z",
     "shell.execute_reply": "2023-03-06T17:58:36.094229Z"
    }
   },
   "outputs": [
    {
     "data": {
      "text/plain": [
       "<FastTreeValue 0x7f16e2ff5f40>\n",
       "├── 'a' --> tensor([[ 1.6485,  1.3529,  0.3517],\n",
       "│                   [-1.5229,  0.5561,  0.2962],\n",
       "│                   [ 1.6485,  1.3529,  0.3517],\n",
       "│                   [-1.5229,  0.5561,  0.2962],\n",
       "│                   [ 1.6485,  1.3529,  0.3517],\n",
       "│                   [-1.5229,  0.5561,  0.2962],\n",
       "│                   [ 1.6485,  1.3529,  0.3517],\n",
       "│                   [-1.5229,  0.5561,  0.2962],\n",
       "│                   [ 1.6485,  1.3529,  0.3517],\n",
       "│                   [-1.5229,  0.5561,  0.2962],\n",
       "│                   [ 1.6485,  1.3529,  0.3517],\n",
       "│                   [-1.5229,  0.5561,  0.2962],\n",
       "│                   [ 1.6485,  1.3529,  0.3517],\n",
       "│                   [-1.5229,  0.5561,  0.2962],\n",
       "│                   [ 1.6485,  1.3529,  0.3517],\n",
       "│                   [-1.5229,  0.5561,  0.2962]])\n",
       "└── 'x' --> <FastTreeValue 0x7f17649eb9d0>\n",
       "    └── 'c' --> tensor([[ 0.0233,  0.4830, -1.0290, -0.6119],\n",
       "                        [-0.3239,  0.0862, -0.1516,  0.3273],\n",
       "                        [-1.6574,  1.5067,  0.3015,  1.0849],\n",
       "                        [ 0.0233,  0.4830, -1.0290, -0.6119],\n",
       "                        [-0.3239,  0.0862, -0.1516,  0.3273],\n",
       "                        [-1.6574,  1.5067,  0.3015,  1.0849],\n",
       "                        [ 0.0233,  0.4830, -1.0290, -0.6119],\n",
       "                        [-0.3239,  0.0862, -0.1516,  0.3273],\n",
       "                        [-1.6574,  1.5067,  0.3015,  1.0849],\n",
       "                        [ 0.0233,  0.4830, -1.0290, -0.6119],\n",
       "                        [-0.3239,  0.0862, -0.1516,  0.3273],\n",
       "                        [-1.6574,  1.5067,  0.3015,  1.0849],\n",
       "                        [ 0.0233,  0.4830, -1.0290, -0.6119],\n",
       "                        [-0.3239,  0.0862, -0.1516,  0.3273],\n",
       "                        [-1.6574,  1.5067,  0.3015,  1.0849],\n",
       "                        [ 0.0233,  0.4830, -1.0290, -0.6119],\n",
       "                        [-0.3239,  0.0862, -0.1516,  0.3273],\n",
       "                        [-1.6574,  1.5067,  0.3015,  1.0849],\n",
       "                        [ 0.0233,  0.4830, -1.0290, -0.6119],\n",
       "                        [-0.3239,  0.0862, -0.1516,  0.3273],\n",
       "                        [-1.6574,  1.5067,  0.3015,  1.0849],\n",
       "                        [ 0.0233,  0.4830, -1.0290, -0.6119],\n",
       "                        [-0.3239,  0.0862, -0.1516,  0.3273],\n",
       "                        [-1.6574,  1.5067,  0.3015,  1.0849]])"
      ]
     },
     "execution_count": 22,
     "metadata": {},
     "output_type": "execute_result"
    }
   ],
   "source": [
    "t_cat = FastTreeValue.func(subside=True)(torch.cat)\n",
    "\n",
    "t_cat(trees)"
   ]
  },
  {
   "cell_type": "code",
   "execution_count": 23,
   "id": "5e9c06a6",
   "metadata": {
    "execution": {
     "iopub.execute_input": "2023-03-06T17:58:36.098926Z",
     "iopub.status.busy": "2023-03-06T17:58:36.098197Z",
     "iopub.status.idle": "2023-03-06T17:58:39.654205Z",
     "shell.execute_reply": "2023-03-06T17:58:39.653000Z"
    }
   },
   "outputs": [
    {
     "name": "stdout",
     "output_type": "stream",
     "text": [
      "43.7 µs ± 827 ns per loop (mean ± std. dev. of 7 runs, 10,000 loops each)\n"
     ]
    }
   ],
   "source": [
    "%timeit t_cat(trees)"
   ]
  },
  {
   "cell_type": "code",
   "execution_count": 24,
   "id": "a3ab5c8f",
   "metadata": {
    "execution": {
     "iopub.execute_input": "2023-03-06T17:58:39.658492Z",
     "iopub.status.busy": "2023-03-06T17:58:39.657897Z",
     "iopub.status.idle": "2023-03-06T17:58:46.428743Z",
     "shell.execute_reply": "2023-03-06T17:58:46.427765Z"
    }
   },
   "outputs": [
    {
     "name": "stdout",
     "output_type": "stream",
     "text": [
      "83.5 µs ± 663 ns per loop (mean ± std. dev. of 7 runs, 10,000 loops each)\n"
     ]
    }
   ],
   "source": [
    "t_split = FastTreeValue.func(rise=True)(torch.split)\n",
    "tree = FastTreeValue({\n",
    "    'obs': torch.randn(8, 4, 84, 84),\n",
    "    'action': torch.randint(0, 6, size=(8, 1,)),\n",
    "    'reward': torch.rand(8, 1),\n",
    "})\n",
    "\n",
    "%timeit t_split(tree, 1)"
   ]
  },
  {
   "cell_type": "markdown",
   "id": "31c3ec0b",
   "metadata": {},
   "source": [
    "### Performance of Tianshou Batch"
   ]
  },
  {
   "cell_type": "code",
   "execution_count": 25,
   "id": "9ead828a",
   "metadata": {
    "execution": {
     "iopub.execute_input": "2023-03-06T17:58:46.432815Z",
     "iopub.status.busy": "2023-03-06T17:58:46.432339Z",
     "iopub.status.idle": "2023-03-06T17:58:46.443567Z",
     "shell.execute_reply": "2023-03-06T17:58:46.442583Z"
    }
   },
   "outputs": [
    {
     "data": {
      "text/plain": [
       "Batch(\n",
       "    a: tensor([[[ 1.6485,  1.3529,  0.3517],\n",
       "                [-1.5229,  0.5561,  0.2962]],\n",
       "       \n",
       "               [[ 1.6485,  1.3529,  0.3517],\n",
       "                [-1.5229,  0.5561,  0.2962]],\n",
       "       \n",
       "               [[ 1.6485,  1.3529,  0.3517],\n",
       "                [-1.5229,  0.5561,  0.2962]],\n",
       "       \n",
       "               [[ 1.6485,  1.3529,  0.3517],\n",
       "                [-1.5229,  0.5561,  0.2962]],\n",
       "       \n",
       "               [[ 1.6485,  1.3529,  0.3517],\n",
       "                [-1.5229,  0.5561,  0.2962]],\n",
       "       \n",
       "               [[ 1.6485,  1.3529,  0.3517],\n",
       "                [-1.5229,  0.5561,  0.2962]],\n",
       "       \n",
       "               [[ 1.6485,  1.3529,  0.3517],\n",
       "                [-1.5229,  0.5561,  0.2962]],\n",
       "       \n",
       "               [[ 1.6485,  1.3529,  0.3517],\n",
       "                [-1.5229,  0.5561,  0.2962]]]),\n",
       "    x: Batch(\n",
       "           c: tensor([[[ 0.0233,  0.4830, -1.0290, -0.6119],\n",
       "                       [-0.3239,  0.0862, -0.1516,  0.3273],\n",
       "                       [-1.6574,  1.5067,  0.3015,  1.0849]],\n",
       "              \n",
       "                      [[ 0.0233,  0.4830, -1.0290, -0.6119],\n",
       "                       [-0.3239,  0.0862, -0.1516,  0.3273],\n",
       "                       [-1.6574,  1.5067,  0.3015,  1.0849]],\n",
       "              \n",
       "                      [[ 0.0233,  0.4830, -1.0290, -0.6119],\n",
       "                       [-0.3239,  0.0862, -0.1516,  0.3273],\n",
       "                       [-1.6574,  1.5067,  0.3015,  1.0849]],\n",
       "              \n",
       "                      [[ 0.0233,  0.4830, -1.0290, -0.6119],\n",
       "                       [-0.3239,  0.0862, -0.1516,  0.3273],\n",
       "                       [-1.6574,  1.5067,  0.3015,  1.0849]],\n",
       "              \n",
       "                      [[ 0.0233,  0.4830, -1.0290, -0.6119],\n",
       "                       [-0.3239,  0.0862, -0.1516,  0.3273],\n",
       "                       [-1.6574,  1.5067,  0.3015,  1.0849]],\n",
       "              \n",
       "                      [[ 0.0233,  0.4830, -1.0290, -0.6119],\n",
       "                       [-0.3239,  0.0862, -0.1516,  0.3273],\n",
       "                       [-1.6574,  1.5067,  0.3015,  1.0849]],\n",
       "              \n",
       "                      [[ 0.0233,  0.4830, -1.0290, -0.6119],\n",
       "                       [-0.3239,  0.0862, -0.1516,  0.3273],\n",
       "                       [-1.6574,  1.5067,  0.3015,  1.0849]],\n",
       "              \n",
       "                      [[ 0.0233,  0.4830, -1.0290, -0.6119],\n",
       "                       [-0.3239,  0.0862, -0.1516,  0.3273],\n",
       "                       [-1.6574,  1.5067,  0.3015,  1.0849]]]),\n",
       "       ),\n",
       ")"
      ]
     },
     "execution_count": 25,
     "metadata": {},
     "output_type": "execute_result"
    }
   ],
   "source": [
    "batches = [Batch(**_TREE_DATA_2) for _ in range(8)]\n",
    "\n",
    "Batch.stack(batches)"
   ]
  },
  {
   "cell_type": "code",
   "execution_count": 26,
   "id": "ec9037a3",
   "metadata": {
    "execution": {
     "iopub.execute_input": "2023-03-06T17:58:46.447041Z",
     "iopub.status.busy": "2023-03-06T17:58:46.446652Z",
     "iopub.status.idle": "2023-03-06T17:58:55.229336Z",
     "shell.execute_reply": "2023-03-06T17:58:55.228298Z"
    }
   },
   "outputs": [
    {
     "name": "stdout",
     "output_type": "stream",
     "text": [
      "108 µs ± 1.15 µs per loop (mean ± std. dev. of 7 runs, 10,000 loops each)\n"
     ]
    }
   ],
   "source": [
    "%timeit Batch.stack(batches)"
   ]
  },
  {
   "cell_type": "code",
   "execution_count": 27,
   "id": "cb8ab77e",
   "metadata": {
    "execution": {
     "iopub.execute_input": "2023-03-06T17:58:55.233294Z",
     "iopub.status.busy": "2023-03-06T17:58:55.232809Z",
     "iopub.status.idle": "2023-03-06T17:58:55.243159Z",
     "shell.execute_reply": "2023-03-06T17:58:55.242134Z"
    }
   },
   "outputs": [
    {
     "data": {
      "text/plain": [
       "Batch(\n",
       "    a: tensor([[ 1.6485,  1.3529,  0.3517],\n",
       "               [-1.5229,  0.5561,  0.2962],\n",
       "               [ 1.6485,  1.3529,  0.3517],\n",
       "               [-1.5229,  0.5561,  0.2962],\n",
       "               [ 1.6485,  1.3529,  0.3517],\n",
       "               [-1.5229,  0.5561,  0.2962],\n",
       "               [ 1.6485,  1.3529,  0.3517],\n",
       "               [-1.5229,  0.5561,  0.2962],\n",
       "               [ 1.6485,  1.3529,  0.3517],\n",
       "               [-1.5229,  0.5561,  0.2962],\n",
       "               [ 1.6485,  1.3529,  0.3517],\n",
       "               [-1.5229,  0.5561,  0.2962],\n",
       "               [ 1.6485,  1.3529,  0.3517],\n",
       "               [-1.5229,  0.5561,  0.2962],\n",
       "               [ 1.6485,  1.3529,  0.3517],\n",
       "               [-1.5229,  0.5561,  0.2962]]),\n",
       "    x: Batch(\n",
       "           c: tensor([[ 0.0233,  0.4830, -1.0290, -0.6119],\n",
       "                      [-0.3239,  0.0862, -0.1516,  0.3273],\n",
       "                      [-1.6574,  1.5067,  0.3015,  1.0849],\n",
       "                      [ 0.0233,  0.4830, -1.0290, -0.6119],\n",
       "                      [-0.3239,  0.0862, -0.1516,  0.3273],\n",
       "                      [-1.6574,  1.5067,  0.3015,  1.0849],\n",
       "                      [ 0.0233,  0.4830, -1.0290, -0.6119],\n",
       "                      [-0.3239,  0.0862, -0.1516,  0.3273],\n",
       "                      [-1.6574,  1.5067,  0.3015,  1.0849],\n",
       "                      [ 0.0233,  0.4830, -1.0290, -0.6119],\n",
       "                      [-0.3239,  0.0862, -0.1516,  0.3273],\n",
       "                      [-1.6574,  1.5067,  0.3015,  1.0849],\n",
       "                      [ 0.0233,  0.4830, -1.0290, -0.6119],\n",
       "                      [-0.3239,  0.0862, -0.1516,  0.3273],\n",
       "                      [-1.6574,  1.5067,  0.3015,  1.0849],\n",
       "                      [ 0.0233,  0.4830, -1.0290, -0.6119],\n",
       "                      [-0.3239,  0.0862, -0.1516,  0.3273],\n",
       "                      [-1.6574,  1.5067,  0.3015,  1.0849],\n",
       "                      [ 0.0233,  0.4830, -1.0290, -0.6119],\n",
       "                      [-0.3239,  0.0862, -0.1516,  0.3273],\n",
       "                      [-1.6574,  1.5067,  0.3015,  1.0849],\n",
       "                      [ 0.0233,  0.4830, -1.0290, -0.6119],\n",
       "                      [-0.3239,  0.0862, -0.1516,  0.3273],\n",
       "                      [-1.6574,  1.5067,  0.3015,  1.0849]]),\n",
       "       ),\n",
       ")"
      ]
     },
     "execution_count": 27,
     "metadata": {},
     "output_type": "execute_result"
    }
   ],
   "source": [
    "Batch.cat(batches)"
   ]
  },
  {
   "cell_type": "code",
   "execution_count": 28,
   "id": "18dfb045",
   "metadata": {
    "execution": {
     "iopub.execute_input": "2023-03-06T17:58:55.247423Z",
     "iopub.status.busy": "2023-03-06T17:58:55.246508Z",
     "iopub.status.idle": "2023-03-06T17:58:56.858185Z",
     "shell.execute_reply": "2023-03-06T17:58:56.857061Z"
    }
   },
   "outputs": [
    {
     "name": "stdout",
     "output_type": "stream",
     "text": [
      "197 µs ± 3.35 µs per loop (mean ± std. dev. of 7 runs, 1,000 loops each)\n"
     ]
    }
   ],
   "source": [
    "%timeit Batch.cat(batches)"
   ]
  },
  {
   "cell_type": "code",
   "execution_count": 29,
   "id": "c6688e51",
   "metadata": {
    "execution": {
     "iopub.execute_input": "2023-03-06T17:58:56.862172Z",
     "iopub.status.busy": "2023-03-06T17:58:56.861806Z",
     "iopub.status.idle": "2023-03-06T17:59:01.723761Z",
     "shell.execute_reply": "2023-03-06T17:59:01.722818Z"
    }
   },
   "outputs": [
    {
     "name": "stdout",
     "output_type": "stream",
     "text": [
      "600 µs ± 10 µs per loop (mean ± std. dev. of 7 runs, 1,000 loops each)\n"
     ]
    }
   ],
   "source": [
    "batch = Batch({\n",
    "    'obs': torch.randn(8, 4, 84, 84),\n",
    "    'action': torch.randint(0, 6, size=(8, 1,)),\n",
    "    'reward': torch.rand(8, 1)}\n",
    ")\n",
    "\n",
    "%timeit list(Batch.split(batch, 1, shuffle=False, merge_last=True))"
   ]
  },
  {
   "cell_type": "code",
   "execution_count": null,
   "id": "2539fbd9",
   "metadata": {},
   "outputs": [],
   "source": []
  }
 ],
 "metadata": {
  "kernelspec": {
   "display_name": "Python 3 (ipykernel)",
   "language": "python",
   "name": "python3"
  },
  "language_info": {
   "codemirror_mode": {
    "name": "ipython",
    "version": 3
   },
   "file_extension": ".py",
   "mimetype": "text/x-python",
   "name": "python",
   "nbconvert_exporter": "python",
   "pygments_lexer": "ipython3",
   "version": "3.8.16"
  }
 },
 "nbformat": 4,
 "nbformat_minor": 5
}
