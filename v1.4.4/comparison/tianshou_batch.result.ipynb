{
 "cells": [
  {
   "cell_type": "markdown",
   "id": "9d39d946",
   "metadata": {},
   "source": [
    "# Comparison Between TreeValue and Tianshou Batch"
   ]
  },
  {
   "cell_type": "markdown",
   "id": "3c6db2d4",
   "metadata": {},
   "source": [
    "In this section, we will take a look at the feature and performance of the [Tianshou Batch](https://github.com/thu-ml/tianshou) library, which is developed by Tsinghua Machine Learning Group."
   ]
  },
  {
   "cell_type": "markdown",
   "id": "069361b0",
   "metadata": {},
   "source": [
    "Before starting the comparison, let us define some thing."
   ]
  },
  {
   "cell_type": "code",
   "execution_count": 1,
   "id": "06fc8d26",
   "metadata": {
    "execution": {
     "iopub.execute_input": "2023-02-27T08:03:19.786562Z",
     "iopub.status.busy": "2023-02-27T08:03:19.786178Z",
     "iopub.status.idle": "2023-02-27T08:03:21.098496Z",
     "shell.execute_reply": "2023-02-27T08:03:21.097415Z"
    }
   },
   "outputs": [
    {
     "name": "stderr",
     "output_type": "stream",
     "text": [
      "/opt/hostedtoolcache/Python/3.8.16/x64/lib/python3.8/site-packages/tqdm/auto.py:22: TqdmWarning: IProgress not found. Please update jupyter and ipywidgets. See https://ipywidgets.readthedocs.io/en/stable/user_install.html\n",
      "  from .autonotebook import tqdm as notebook_tqdm\n"
     ]
    }
   ],
   "source": [
    "import torch \n",
    "\n",
    "_TREE_DATA_1 = {'a': 1, 'b': 2, 'x': {'c': 3, 'd': 4}}\n",
    "_TREE_DATA_2 = {\n",
    "    'a': torch.randn(2, 3), \n",
    "    'x': {\n",
    "        'c': torch.randn(3, 4)\n",
    "    },\n",
    "}\n",
    "_TREE_DATA_3 = {\n",
    "    'obs': torch.randn(4, 84, 84),\n",
    "    'action': torch.randint(0, 6, size=(1,)),\n",
    "    'reward': torch.rand(1),\n",
    "}"
   ]
  },
  {
   "cell_type": "markdown",
   "id": "83461b25",
   "metadata": {},
   "source": [
    "## Read and Write Operation"
   ]
  },
  {
   "cell_type": "markdown",
   "id": "067b3f73",
   "metadata": {},
   "source": [
    "Reading and writing are the two most common operations in the tree data structure based on the data model (TreeValue and Tianshou Batch both belong to this type), so this section will compare the reading and writing performance of these two libraries."
   ]
  },
  {
   "cell_type": "markdown",
   "id": "5d09a5b7",
   "metadata": {},
   "source": [
    "### TreeValue's Get and Set"
   ]
  },
  {
   "cell_type": "code",
   "execution_count": 2,
   "id": "9519c4bb",
   "metadata": {
    "execution": {
     "iopub.execute_input": "2023-02-27T08:03:21.103951Z",
     "iopub.status.busy": "2023-02-27T08:03:21.103198Z",
     "iopub.status.idle": "2023-02-27T08:03:21.148953Z",
     "shell.execute_reply": "2023-02-27T08:03:21.147960Z"
    }
   },
   "outputs": [],
   "source": [
    "from treevalue import FastTreeValue\n",
    "\n",
    "t = FastTreeValue(_TREE_DATA_2)"
   ]
  },
  {
   "cell_type": "code",
   "execution_count": 3,
   "id": "11c37677",
   "metadata": {
    "execution": {
     "iopub.execute_input": "2023-02-27T08:03:21.152664Z",
     "iopub.status.busy": "2023-02-27T08:03:21.152348Z",
     "iopub.status.idle": "2023-02-27T08:03:21.164173Z",
     "shell.execute_reply": "2023-02-27T08:03:21.163055Z"
    }
   },
   "outputs": [
    {
     "data": {
      "text/plain": [
       "<FastTreeValue 0x7fe5c81189a0>\n",
       "├── 'a' --> tensor([[ 1.1788,  1.3660,  0.6405],\n",
       "│                   [-0.6932, -1.4356,  1.2593]])\n",
       "└── 'x' --> <FastTreeValue 0x7fe5c81187c0>\n",
       "    └── 'c' --> tensor([[ 1.0636,  1.7441, -1.1289, -0.3075],\n",
       "                        [ 1.3092, -0.0622,  1.5990,  0.6852],\n",
       "                        [-1.0572,  0.0384,  1.6339,  0.9064]])"
      ]
     },
     "execution_count": 3,
     "metadata": {},
     "output_type": "execute_result"
    }
   ],
   "source": [
    "t"
   ]
  },
  {
   "cell_type": "code",
   "execution_count": 4,
   "id": "fd70b0b9",
   "metadata": {
    "execution": {
     "iopub.execute_input": "2023-02-27T08:03:21.168133Z",
     "iopub.status.busy": "2023-02-27T08:03:21.167854Z",
     "iopub.status.idle": "2023-02-27T08:03:21.174773Z",
     "shell.execute_reply": "2023-02-27T08:03:21.173656Z"
    }
   },
   "outputs": [
    {
     "data": {
      "text/plain": [
       "tensor([[ 1.1788,  1.3660,  0.6405],\n",
       "        [-0.6932, -1.4356,  1.2593]])"
      ]
     },
     "execution_count": 4,
     "metadata": {},
     "output_type": "execute_result"
    }
   ],
   "source": [
    "t.a"
   ]
  },
  {
   "cell_type": "code",
   "execution_count": 5,
   "id": "c18197bd",
   "metadata": {
    "execution": {
     "iopub.execute_input": "2023-02-27T08:03:21.178439Z",
     "iopub.status.busy": "2023-02-27T08:03:21.178153Z",
     "iopub.status.idle": "2023-02-27T08:03:27.395637Z",
     "shell.execute_reply": "2023-02-27T08:03:27.394632Z"
    }
   },
   "outputs": [
    {
     "name": "stdout",
     "output_type": "stream",
     "text": [
      "76.7 ns ± 0.786 ns per loop (mean ± std. dev. of 7 runs, 10,000,000 loops each)\n"
     ]
    }
   ],
   "source": [
    "%timeit t.a"
   ]
  },
  {
   "cell_type": "code",
   "execution_count": 6,
   "id": "bd52f867",
   "metadata": {
    "execution": {
     "iopub.execute_input": "2023-02-27T08:03:27.399946Z",
     "iopub.status.busy": "2023-02-27T08:03:27.399028Z",
     "iopub.status.idle": "2023-02-27T08:03:27.407768Z",
     "shell.execute_reply": "2023-02-27T08:03:27.406847Z"
    }
   },
   "outputs": [
    {
     "data": {
      "text/plain": [
       "<FastTreeValue 0x7fe5c81189a0>\n",
       "├── 'a' --> tensor([[-2.2298, -1.1796,  0.6645],\n",
       "│                   [ 2.0271,  1.2316,  0.2687]])\n",
       "└── 'x' --> <FastTreeValue 0x7fe5c81187c0>\n",
       "    └── 'c' --> tensor([[ 1.0636,  1.7441, -1.1289, -0.3075],\n",
       "                        [ 1.3092, -0.0622,  1.5990,  0.6852],\n",
       "                        [-1.0572,  0.0384,  1.6339,  0.9064]])"
      ]
     },
     "execution_count": 6,
     "metadata": {},
     "output_type": "execute_result"
    }
   ],
   "source": [
    "new_value = torch.randn(2, 3)\n",
    "t.a = new_value\n",
    "\n",
    "t"
   ]
  },
  {
   "cell_type": "code",
   "execution_count": 7,
   "id": "bbe04d1c",
   "metadata": {
    "execution": {
     "iopub.execute_input": "2023-02-27T08:03:27.411729Z",
     "iopub.status.busy": "2023-02-27T08:03:27.411099Z",
     "iopub.status.idle": "2023-02-27T08:03:33.799936Z",
     "shell.execute_reply": "2023-02-27T08:03:33.798496Z"
    }
   },
   "outputs": [
    {
     "name": "stdout",
     "output_type": "stream",
     "text": [
      "78.8 ns ± 0.687 ns per loop (mean ± std. dev. of 7 runs, 10,000,000 loops each)\n"
     ]
    }
   ],
   "source": [
    "%timeit t.a = new_value"
   ]
  },
  {
   "cell_type": "markdown",
   "id": "48c49731",
   "metadata": {},
   "source": [
    "### Tianshou Batch's Get and Set"
   ]
  },
  {
   "cell_type": "code",
   "execution_count": 8,
   "id": "f1bb14c1",
   "metadata": {
    "execution": {
     "iopub.execute_input": "2023-02-27T08:03:33.804230Z",
     "iopub.status.busy": "2023-02-27T08:03:33.803925Z",
     "iopub.status.idle": "2023-02-27T08:03:34.296364Z",
     "shell.execute_reply": "2023-02-27T08:03:34.295193Z"
    }
   },
   "outputs": [],
   "source": [
    "from tianshou.data import Batch\n",
    "\n",
    "b = Batch(**_TREE_DATA_2)"
   ]
  },
  {
   "cell_type": "code",
   "execution_count": 9,
   "id": "cb0777c3",
   "metadata": {
    "execution": {
     "iopub.execute_input": "2023-02-27T08:03:34.301769Z",
     "iopub.status.busy": "2023-02-27T08:03:34.300940Z",
     "iopub.status.idle": "2023-02-27T08:03:34.309937Z",
     "shell.execute_reply": "2023-02-27T08:03:34.308986Z"
    }
   },
   "outputs": [
    {
     "data": {
      "text/plain": [
       "Batch(\n",
       "    a: tensor([[ 1.1788,  1.3660,  0.6405],\n",
       "               [-0.6932, -1.4356,  1.2593]]),\n",
       "    x: Batch(\n",
       "           c: tensor([[ 1.0636,  1.7441, -1.1289, -0.3075],\n",
       "                      [ 1.3092, -0.0622,  1.5990,  0.6852],\n",
       "                      [-1.0572,  0.0384,  1.6339,  0.9064]]),\n",
       "       ),\n",
       ")"
      ]
     },
     "execution_count": 9,
     "metadata": {},
     "output_type": "execute_result"
    }
   ],
   "source": [
    "b"
   ]
  },
  {
   "cell_type": "code",
   "execution_count": 10,
   "id": "43ef8ea3",
   "metadata": {
    "execution": {
     "iopub.execute_input": "2023-02-27T08:03:34.313740Z",
     "iopub.status.busy": "2023-02-27T08:03:34.313428Z",
     "iopub.status.idle": "2023-02-27T08:03:34.322391Z",
     "shell.execute_reply": "2023-02-27T08:03:34.321268Z"
    }
   },
   "outputs": [
    {
     "data": {
      "text/plain": [
       "tensor([[ 1.1788,  1.3660,  0.6405],\n",
       "        [-0.6932, -1.4356,  1.2593]])"
      ]
     },
     "execution_count": 10,
     "metadata": {},
     "output_type": "execute_result"
    }
   ],
   "source": [
    "b.a"
   ]
  },
  {
   "cell_type": "code",
   "execution_count": 11,
   "id": "b785ab72",
   "metadata": {
    "execution": {
     "iopub.execute_input": "2023-02-27T08:03:34.326096Z",
     "iopub.status.busy": "2023-02-27T08:03:34.325759Z",
     "iopub.status.idle": "2023-02-27T08:03:40.160453Z",
     "shell.execute_reply": "2023-02-27T08:03:40.159293Z"
    }
   },
   "outputs": [
    {
     "name": "stdout",
     "output_type": "stream",
     "text": [
      "71.7 ns ± 3 ns per loop (mean ± std. dev. of 7 runs, 10,000,000 loops each)\n"
     ]
    }
   ],
   "source": [
    "%timeit b.a"
   ]
  },
  {
   "cell_type": "code",
   "execution_count": 12,
   "id": "ad54dc69",
   "metadata": {
    "execution": {
     "iopub.execute_input": "2023-02-27T08:03:40.165494Z",
     "iopub.status.busy": "2023-02-27T08:03:40.164608Z",
     "iopub.status.idle": "2023-02-27T08:03:40.172879Z",
     "shell.execute_reply": "2023-02-27T08:03:40.171817Z"
    }
   },
   "outputs": [
    {
     "data": {
      "text/plain": [
       "Batch(\n",
       "    a: tensor([[ 1.1446, -1.7037,  0.5065],\n",
       "               [ 0.4765, -0.4660,  1.0208]]),\n",
       "    x: Batch(\n",
       "           c: tensor([[ 1.0636,  1.7441, -1.1289, -0.3075],\n",
       "                      [ 1.3092, -0.0622,  1.5990,  0.6852],\n",
       "                      [-1.0572,  0.0384,  1.6339,  0.9064]]),\n",
       "       ),\n",
       ")"
      ]
     },
     "execution_count": 12,
     "metadata": {},
     "output_type": "execute_result"
    }
   ],
   "source": [
    "new_value = torch.randn(2, 3)\n",
    "b.a = new_value\n",
    "\n",
    "b"
   ]
  },
  {
   "cell_type": "code",
   "execution_count": 13,
   "id": "29b1d0bf",
   "metadata": {
    "execution": {
     "iopub.execute_input": "2023-02-27T08:03:40.176495Z",
     "iopub.status.busy": "2023-02-27T08:03:40.176217Z",
     "iopub.status.idle": "2023-02-27T08:03:45.540207Z",
     "shell.execute_reply": "2023-02-27T08:03:45.539184Z"
    }
   },
   "outputs": [
    {
     "name": "stdout",
     "output_type": "stream",
     "text": [
      "659 ns ± 8.57 ns per loop (mean ± std. dev. of 7 runs, 1,000,000 loops each)\n"
     ]
    }
   ],
   "source": [
    "%timeit b.a = new_value"
   ]
  },
  {
   "cell_type": "markdown",
   "id": "b61ad1d0",
   "metadata": {},
   "source": [
    "## Initialization"
   ]
  },
  {
   "cell_type": "markdown",
   "id": "d70f0d54",
   "metadata": {},
   "source": [
    "### TreeValue's Initialization"
   ]
  },
  {
   "cell_type": "code",
   "execution_count": 14,
   "id": "d32a679b",
   "metadata": {
    "execution": {
     "iopub.execute_input": "2023-02-27T08:03:45.544786Z",
     "iopub.status.busy": "2023-02-27T08:03:45.543868Z",
     "iopub.status.idle": "2023-02-27T08:03:54.273345Z",
     "shell.execute_reply": "2023-02-27T08:03:54.272426Z"
    }
   },
   "outputs": [
    {
     "name": "stdout",
     "output_type": "stream",
     "text": [
      "1.08 µs ± 7.09 ns per loop (mean ± std. dev. of 7 runs, 1,000,000 loops each)\n"
     ]
    }
   ],
   "source": [
    "%timeit FastTreeValue(_TREE_DATA_1)"
   ]
  },
  {
   "cell_type": "markdown",
   "id": "24f3707b",
   "metadata": {},
   "source": [
    "### Tianshou Batch's Initialization"
   ]
  },
  {
   "cell_type": "code",
   "execution_count": 15,
   "id": "ac3958df",
   "metadata": {
    "execution": {
     "iopub.execute_input": "2023-02-27T08:03:54.278027Z",
     "iopub.status.busy": "2023-02-27T08:03:54.277217Z",
     "iopub.status.idle": "2023-02-27T08:04:05.977088Z",
     "shell.execute_reply": "2023-02-27T08:04:05.975981Z"
    }
   },
   "outputs": [
    {
     "name": "stdout",
     "output_type": "stream",
     "text": [
      "14.4 µs ± 170 ns per loop (mean ± std. dev. of 7 runs, 100,000 loops each)\n"
     ]
    }
   ],
   "source": [
    "%timeit Batch(**_TREE_DATA_1)"
   ]
  },
  {
   "cell_type": "markdown",
   "id": "1ab82e2d",
   "metadata": {},
   "source": [
    "## Deep Copy Operation"
   ]
  },
  {
   "cell_type": "code",
   "execution_count": 16,
   "id": "210a9442",
   "metadata": {
    "execution": {
     "iopub.execute_input": "2023-02-27T08:04:05.981394Z",
     "iopub.status.busy": "2023-02-27T08:04:05.980799Z",
     "iopub.status.idle": "2023-02-27T08:04:05.987009Z",
     "shell.execute_reply": "2023-02-27T08:04:05.986057Z"
    }
   },
   "outputs": [],
   "source": [
    "import copy"
   ]
  },
  {
   "cell_type": "markdown",
   "id": "5a736274",
   "metadata": {},
   "source": [
    "### Deep Copy of TreeValue"
   ]
  },
  {
   "cell_type": "code",
   "execution_count": 17,
   "id": "f9bcadd6",
   "metadata": {
    "execution": {
     "iopub.execute_input": "2023-02-27T08:04:05.990829Z",
     "iopub.status.busy": "2023-02-27T08:04:05.990261Z",
     "iopub.status.idle": "2023-02-27T08:04:08.289143Z",
     "shell.execute_reply": "2023-02-27T08:04:08.288018Z"
    }
   },
   "outputs": [
    {
     "name": "stdout",
     "output_type": "stream",
     "text": [
      "281 µs ± 3.35 µs per loop (mean ± std. dev. of 7 runs, 1,000 loops each)\n"
     ]
    }
   ],
   "source": [
    "t3 = FastTreeValue(_TREE_DATA_3)\n",
    "%timeit copy.deepcopy(t3)"
   ]
  },
  {
   "cell_type": "markdown",
   "id": "bf8be7ea",
   "metadata": {},
   "source": [
    "### Deep Copy of Tianshou Batch"
   ]
  },
  {
   "cell_type": "code",
   "execution_count": 18,
   "id": "91998e6f",
   "metadata": {
    "execution": {
     "iopub.execute_input": "2023-02-27T08:04:08.293200Z",
     "iopub.status.busy": "2023-02-27T08:04:08.292677Z",
     "iopub.status.idle": "2023-02-27T08:04:10.480700Z",
     "shell.execute_reply": "2023-02-27T08:04:10.479722Z"
    }
   },
   "outputs": [
    {
     "name": "stdout",
     "output_type": "stream",
     "text": [
      "269 µs ± 9.43 µs per loop (mean ± std. dev. of 7 runs, 1,000 loops each)\n"
     ]
    }
   ],
   "source": [
    "b3 = Batch(**_TREE_DATA_3)\n",
    "%timeit copy.deepcopy(b3)"
   ]
  },
  {
   "cell_type": "markdown",
   "id": "223162fb",
   "metadata": {},
   "source": [
    "## Stack, Concat and Split Operation"
   ]
  },
  {
   "cell_type": "markdown",
   "id": "85fa4a73",
   "metadata": {},
   "source": [
    "### Performance of TreeValue"
   ]
  },
  {
   "cell_type": "code",
   "execution_count": 19,
   "id": "a0c2b697",
   "metadata": {
    "execution": {
     "iopub.execute_input": "2023-02-27T08:04:10.485482Z",
     "iopub.status.busy": "2023-02-27T08:04:10.485112Z",
     "iopub.status.idle": "2023-02-27T08:04:10.491197Z",
     "shell.execute_reply": "2023-02-27T08:04:10.490188Z"
    }
   },
   "outputs": [],
   "source": [
    "trees = [FastTreeValue(_TREE_DATA_2) for _ in range(8)]"
   ]
  },
  {
   "cell_type": "code",
   "execution_count": 20,
   "id": "017ea5a5",
   "metadata": {
    "execution": {
     "iopub.execute_input": "2023-02-27T08:04:10.496078Z",
     "iopub.status.busy": "2023-02-27T08:04:10.495436Z",
     "iopub.status.idle": "2023-02-27T08:04:10.510497Z",
     "shell.execute_reply": "2023-02-27T08:04:10.509476Z"
    }
   },
   "outputs": [
    {
     "data": {
      "text/plain": [
       "<FastTreeValue 0x7fe51be681c0>\n",
       "├── 'a' --> tensor([[[ 1.1788,  1.3660,  0.6405],\n",
       "│                    [-0.6932, -1.4356,  1.2593]],\n",
       "│           \n",
       "│                   [[ 1.1788,  1.3660,  0.6405],\n",
       "│                    [-0.6932, -1.4356,  1.2593]],\n",
       "│           \n",
       "│                   [[ 1.1788,  1.3660,  0.6405],\n",
       "│                    [-0.6932, -1.4356,  1.2593]],\n",
       "│           \n",
       "│                   [[ 1.1788,  1.3660,  0.6405],\n",
       "│                    [-0.6932, -1.4356,  1.2593]],\n",
       "│           \n",
       "│                   [[ 1.1788,  1.3660,  0.6405],\n",
       "│                    [-0.6932, -1.4356,  1.2593]],\n",
       "│           \n",
       "│                   [[ 1.1788,  1.3660,  0.6405],\n",
       "│                    [-0.6932, -1.4356,  1.2593]],\n",
       "│           \n",
       "│                   [[ 1.1788,  1.3660,  0.6405],\n",
       "│                    [-0.6932, -1.4356,  1.2593]],\n",
       "│           \n",
       "│                   [[ 1.1788,  1.3660,  0.6405],\n",
       "│                    [-0.6932, -1.4356,  1.2593]]])\n",
       "└── 'x' --> <FastTreeValue 0x7fe5c81218e0>\n",
       "    └── 'c' --> tensor([[[ 1.0636,  1.7441, -1.1289, -0.3075],\n",
       "                         [ 1.3092, -0.0622,  1.5990,  0.6852],\n",
       "                         [-1.0572,  0.0384,  1.6339,  0.9064]],\n",
       "                \n",
       "                        [[ 1.0636,  1.7441, -1.1289, -0.3075],\n",
       "                         [ 1.3092, -0.0622,  1.5990,  0.6852],\n",
       "                         [-1.0572,  0.0384,  1.6339,  0.9064]],\n",
       "                \n",
       "                        [[ 1.0636,  1.7441, -1.1289, -0.3075],\n",
       "                         [ 1.3092, -0.0622,  1.5990,  0.6852],\n",
       "                         [-1.0572,  0.0384,  1.6339,  0.9064]],\n",
       "                \n",
       "                        [[ 1.0636,  1.7441, -1.1289, -0.3075],\n",
       "                         [ 1.3092, -0.0622,  1.5990,  0.6852],\n",
       "                         [-1.0572,  0.0384,  1.6339,  0.9064]],\n",
       "                \n",
       "                        [[ 1.0636,  1.7441, -1.1289, -0.3075],\n",
       "                         [ 1.3092, -0.0622,  1.5990,  0.6852],\n",
       "                         [-1.0572,  0.0384,  1.6339,  0.9064]],\n",
       "                \n",
       "                        [[ 1.0636,  1.7441, -1.1289, -0.3075],\n",
       "                         [ 1.3092, -0.0622,  1.5990,  0.6852],\n",
       "                         [-1.0572,  0.0384,  1.6339,  0.9064]],\n",
       "                \n",
       "                        [[ 1.0636,  1.7441, -1.1289, -0.3075],\n",
       "                         [ 1.3092, -0.0622,  1.5990,  0.6852],\n",
       "                         [-1.0572,  0.0384,  1.6339,  0.9064]],\n",
       "                \n",
       "                        [[ 1.0636,  1.7441, -1.1289, -0.3075],\n",
       "                         [ 1.3092, -0.0622,  1.5990,  0.6852],\n",
       "                         [-1.0572,  0.0384,  1.6339,  0.9064]]])"
      ]
     },
     "execution_count": 20,
     "metadata": {},
     "output_type": "execute_result"
    }
   ],
   "source": [
    "t_stack = FastTreeValue.func(subside=True)(torch.stack)\n",
    "\n",
    "t_stack(trees)"
   ]
  },
  {
   "cell_type": "code",
   "execution_count": 21,
   "id": "f8b3f415",
   "metadata": {
    "execution": {
     "iopub.execute_input": "2023-02-27T08:04:10.515673Z",
     "iopub.status.busy": "2023-02-27T08:04:10.515254Z",
     "iopub.status.idle": "2023-02-27T08:04:14.420396Z",
     "shell.execute_reply": "2023-02-27T08:04:14.419380Z"
    }
   },
   "outputs": [
    {
     "name": "stdout",
     "output_type": "stream",
     "text": [
      "48.1 µs ± 402 ns per loop (mean ± std. dev. of 7 runs, 10,000 loops each)\n"
     ]
    }
   ],
   "source": [
    "%timeit t_stack(trees)"
   ]
  },
  {
   "cell_type": "code",
   "execution_count": 22,
   "id": "94b56771",
   "metadata": {
    "execution": {
     "iopub.execute_input": "2023-02-27T08:04:14.424759Z",
     "iopub.status.busy": "2023-02-27T08:04:14.424340Z",
     "iopub.status.idle": "2023-02-27T08:04:14.438865Z",
     "shell.execute_reply": "2023-02-27T08:04:14.437730Z"
    }
   },
   "outputs": [
    {
     "data": {
      "text/plain": [
       "<FastTreeValue 0x7fe51bdffbb0>\n",
       "├── 'a' --> tensor([[ 1.1788,  1.3660,  0.6405],\n",
       "│                   [-0.6932, -1.4356,  1.2593],\n",
       "│                   [ 1.1788,  1.3660,  0.6405],\n",
       "│                   [-0.6932, -1.4356,  1.2593],\n",
       "│                   [ 1.1788,  1.3660,  0.6405],\n",
       "│                   [-0.6932, -1.4356,  1.2593],\n",
       "│                   [ 1.1788,  1.3660,  0.6405],\n",
       "│                   [-0.6932, -1.4356,  1.2593],\n",
       "│                   [ 1.1788,  1.3660,  0.6405],\n",
       "│                   [-0.6932, -1.4356,  1.2593],\n",
       "│                   [ 1.1788,  1.3660,  0.6405],\n",
       "│                   [-0.6932, -1.4356,  1.2593],\n",
       "│                   [ 1.1788,  1.3660,  0.6405],\n",
       "│                   [-0.6932, -1.4356,  1.2593],\n",
       "│                   [ 1.1788,  1.3660,  0.6405],\n",
       "│                   [-0.6932, -1.4356,  1.2593]])\n",
       "└── 'x' --> <FastTreeValue 0x7fe51bdff6a0>\n",
       "    └── 'c' --> tensor([[ 1.0636,  1.7441, -1.1289, -0.3075],\n",
       "                        [ 1.3092, -0.0622,  1.5990,  0.6852],\n",
       "                        [-1.0572,  0.0384,  1.6339,  0.9064],\n",
       "                        [ 1.0636,  1.7441, -1.1289, -0.3075],\n",
       "                        [ 1.3092, -0.0622,  1.5990,  0.6852],\n",
       "                        [-1.0572,  0.0384,  1.6339,  0.9064],\n",
       "                        [ 1.0636,  1.7441, -1.1289, -0.3075],\n",
       "                        [ 1.3092, -0.0622,  1.5990,  0.6852],\n",
       "                        [-1.0572,  0.0384,  1.6339,  0.9064],\n",
       "                        [ 1.0636,  1.7441, -1.1289, -0.3075],\n",
       "                        [ 1.3092, -0.0622,  1.5990,  0.6852],\n",
       "                        [-1.0572,  0.0384,  1.6339,  0.9064],\n",
       "                        [ 1.0636,  1.7441, -1.1289, -0.3075],\n",
       "                        [ 1.3092, -0.0622,  1.5990,  0.6852],\n",
       "                        [-1.0572,  0.0384,  1.6339,  0.9064],\n",
       "                        [ 1.0636,  1.7441, -1.1289, -0.3075],\n",
       "                        [ 1.3092, -0.0622,  1.5990,  0.6852],\n",
       "                        [-1.0572,  0.0384,  1.6339,  0.9064],\n",
       "                        [ 1.0636,  1.7441, -1.1289, -0.3075],\n",
       "                        [ 1.3092, -0.0622,  1.5990,  0.6852],\n",
       "                        [-1.0572,  0.0384,  1.6339,  0.9064],\n",
       "                        [ 1.0636,  1.7441, -1.1289, -0.3075],\n",
       "                        [ 1.3092, -0.0622,  1.5990,  0.6852],\n",
       "                        [-1.0572,  0.0384,  1.6339,  0.9064]])"
      ]
     },
     "execution_count": 22,
     "metadata": {},
     "output_type": "execute_result"
    }
   ],
   "source": [
    "t_cat = FastTreeValue.func(subside=True)(torch.cat)\n",
    "\n",
    "t_cat(trees)"
   ]
  },
  {
   "cell_type": "code",
   "execution_count": 23,
   "id": "5e9c06a6",
   "metadata": {
    "execution": {
     "iopub.execute_input": "2023-02-27T08:04:14.443570Z",
     "iopub.status.busy": "2023-02-27T08:04:14.442932Z",
     "iopub.status.idle": "2023-02-27T08:04:18.104389Z",
     "shell.execute_reply": "2023-02-27T08:04:18.103219Z"
    }
   },
   "outputs": [
    {
     "name": "stdout",
     "output_type": "stream",
     "text": [
      "45.1 µs ± 437 ns per loop (mean ± std. dev. of 7 runs, 10,000 loops each)\n"
     ]
    }
   ],
   "source": [
    "%timeit t_cat(trees)"
   ]
  },
  {
   "cell_type": "code",
   "execution_count": 24,
   "id": "a3ab5c8f",
   "metadata": {
    "execution": {
     "iopub.execute_input": "2023-02-27T08:04:18.109398Z",
     "iopub.status.busy": "2023-02-27T08:04:18.108388Z",
     "iopub.status.idle": "2023-02-27T08:04:25.025800Z",
     "shell.execute_reply": "2023-02-27T08:04:25.024370Z"
    }
   },
   "outputs": [
    {
     "name": "stdout",
     "output_type": "stream",
     "text": [
      "85.1 µs ± 1.21 µs per loop (mean ± std. dev. of 7 runs, 10,000 loops each)\n"
     ]
    }
   ],
   "source": [
    "t_split = FastTreeValue.func(rise=True)(torch.split)\n",
    "tree = FastTreeValue({\n",
    "    'obs': torch.randn(8, 4, 84, 84),\n",
    "    'action': torch.randint(0, 6, size=(8, 1,)),\n",
    "    'reward': torch.rand(8, 1),\n",
    "})\n",
    "\n",
    "%timeit t_split(tree, 1)"
   ]
  },
  {
   "cell_type": "markdown",
   "id": "31c3ec0b",
   "metadata": {},
   "source": [
    "### Performance of Tianshou Batch"
   ]
  },
  {
   "cell_type": "code",
   "execution_count": 25,
   "id": "9ead828a",
   "metadata": {
    "execution": {
     "iopub.execute_input": "2023-02-27T08:04:25.030487Z",
     "iopub.status.busy": "2023-02-27T08:04:25.030129Z",
     "iopub.status.idle": "2023-02-27T08:04:25.041533Z",
     "shell.execute_reply": "2023-02-27T08:04:25.040562Z"
    }
   },
   "outputs": [
    {
     "data": {
      "text/plain": [
       "Batch(\n",
       "    x: Batch(\n",
       "           c: tensor([[[ 1.0636,  1.7441, -1.1289, -0.3075],\n",
       "                       [ 1.3092, -0.0622,  1.5990,  0.6852],\n",
       "                       [-1.0572,  0.0384,  1.6339,  0.9064]],\n",
       "              \n",
       "                      [[ 1.0636,  1.7441, -1.1289, -0.3075],\n",
       "                       [ 1.3092, -0.0622,  1.5990,  0.6852],\n",
       "                       [-1.0572,  0.0384,  1.6339,  0.9064]],\n",
       "              \n",
       "                      [[ 1.0636,  1.7441, -1.1289, -0.3075],\n",
       "                       [ 1.3092, -0.0622,  1.5990,  0.6852],\n",
       "                       [-1.0572,  0.0384,  1.6339,  0.9064]],\n",
       "              \n",
       "                      [[ 1.0636,  1.7441, -1.1289, -0.3075],\n",
       "                       [ 1.3092, -0.0622,  1.5990,  0.6852],\n",
       "                       [-1.0572,  0.0384,  1.6339,  0.9064]],\n",
       "              \n",
       "                      [[ 1.0636,  1.7441, -1.1289, -0.3075],\n",
       "                       [ 1.3092, -0.0622,  1.5990,  0.6852],\n",
       "                       [-1.0572,  0.0384,  1.6339,  0.9064]],\n",
       "              \n",
       "                      [[ 1.0636,  1.7441, -1.1289, -0.3075],\n",
       "                       [ 1.3092, -0.0622,  1.5990,  0.6852],\n",
       "                       [-1.0572,  0.0384,  1.6339,  0.9064]],\n",
       "              \n",
       "                      [[ 1.0636,  1.7441, -1.1289, -0.3075],\n",
       "                       [ 1.3092, -0.0622,  1.5990,  0.6852],\n",
       "                       [-1.0572,  0.0384,  1.6339,  0.9064]],\n",
       "              \n",
       "                      [[ 1.0636,  1.7441, -1.1289, -0.3075],\n",
       "                       [ 1.3092, -0.0622,  1.5990,  0.6852],\n",
       "                       [-1.0572,  0.0384,  1.6339,  0.9064]]]),\n",
       "       ),\n",
       "    a: tensor([[[ 1.1788,  1.3660,  0.6405],\n",
       "                [-0.6932, -1.4356,  1.2593]],\n",
       "       \n",
       "               [[ 1.1788,  1.3660,  0.6405],\n",
       "                [-0.6932, -1.4356,  1.2593]],\n",
       "       \n",
       "               [[ 1.1788,  1.3660,  0.6405],\n",
       "                [-0.6932, -1.4356,  1.2593]],\n",
       "       \n",
       "               [[ 1.1788,  1.3660,  0.6405],\n",
       "                [-0.6932, -1.4356,  1.2593]],\n",
       "       \n",
       "               [[ 1.1788,  1.3660,  0.6405],\n",
       "                [-0.6932, -1.4356,  1.2593]],\n",
       "       \n",
       "               [[ 1.1788,  1.3660,  0.6405],\n",
       "                [-0.6932, -1.4356,  1.2593]],\n",
       "       \n",
       "               [[ 1.1788,  1.3660,  0.6405],\n",
       "                [-0.6932, -1.4356,  1.2593]],\n",
       "       \n",
       "               [[ 1.1788,  1.3660,  0.6405],\n",
       "                [-0.6932, -1.4356,  1.2593]]]),\n",
       ")"
      ]
     },
     "execution_count": 25,
     "metadata": {},
     "output_type": "execute_result"
    }
   ],
   "source": [
    "batches = [Batch(**_TREE_DATA_2) for _ in range(8)]\n",
    "\n",
    "Batch.stack(batches)"
   ]
  },
  {
   "cell_type": "code",
   "execution_count": 26,
   "id": "ec9037a3",
   "metadata": {
    "execution": {
     "iopub.execute_input": "2023-02-27T08:04:25.045978Z",
     "iopub.status.busy": "2023-02-27T08:04:25.045331Z",
     "iopub.status.idle": "2023-02-27T08:04:33.763630Z",
     "shell.execute_reply": "2023-02-27T08:04:33.762249Z"
    }
   },
   "outputs": [
    {
     "name": "stdout",
     "output_type": "stream",
     "text": [
      "107 µs ± 1.43 µs per loop (mean ± std. dev. of 7 runs, 10,000 loops each)\n"
     ]
    }
   ],
   "source": [
    "%timeit Batch.stack(batches)"
   ]
  },
  {
   "cell_type": "code",
   "execution_count": 27,
   "id": "cb8ab77e",
   "metadata": {
    "execution": {
     "iopub.execute_input": "2023-02-27T08:04:33.767878Z",
     "iopub.status.busy": "2023-02-27T08:04:33.767235Z",
     "iopub.status.idle": "2023-02-27T08:04:33.778643Z",
     "shell.execute_reply": "2023-02-27T08:04:33.777408Z"
    }
   },
   "outputs": [
    {
     "data": {
      "text/plain": [
       "Batch(\n",
       "    x: Batch(\n",
       "           c: tensor([[ 1.0636,  1.7441, -1.1289, -0.3075],\n",
       "                      [ 1.3092, -0.0622,  1.5990,  0.6852],\n",
       "                      [-1.0572,  0.0384,  1.6339,  0.9064],\n",
       "                      [ 1.0636,  1.7441, -1.1289, -0.3075],\n",
       "                      [ 1.3092, -0.0622,  1.5990,  0.6852],\n",
       "                      [-1.0572,  0.0384,  1.6339,  0.9064],\n",
       "                      [ 1.0636,  1.7441, -1.1289, -0.3075],\n",
       "                      [ 1.3092, -0.0622,  1.5990,  0.6852],\n",
       "                      [-1.0572,  0.0384,  1.6339,  0.9064],\n",
       "                      [ 1.0636,  1.7441, -1.1289, -0.3075],\n",
       "                      [ 1.3092, -0.0622,  1.5990,  0.6852],\n",
       "                      [-1.0572,  0.0384,  1.6339,  0.9064],\n",
       "                      [ 1.0636,  1.7441, -1.1289, -0.3075],\n",
       "                      [ 1.3092, -0.0622,  1.5990,  0.6852],\n",
       "                      [-1.0572,  0.0384,  1.6339,  0.9064],\n",
       "                      [ 1.0636,  1.7441, -1.1289, -0.3075],\n",
       "                      [ 1.3092, -0.0622,  1.5990,  0.6852],\n",
       "                      [-1.0572,  0.0384,  1.6339,  0.9064],\n",
       "                      [ 1.0636,  1.7441, -1.1289, -0.3075],\n",
       "                      [ 1.3092, -0.0622,  1.5990,  0.6852],\n",
       "                      [-1.0572,  0.0384,  1.6339,  0.9064],\n",
       "                      [ 1.0636,  1.7441, -1.1289, -0.3075],\n",
       "                      [ 1.3092, -0.0622,  1.5990,  0.6852],\n",
       "                      [-1.0572,  0.0384,  1.6339,  0.9064]]),\n",
       "       ),\n",
       "    a: tensor([[ 1.1788,  1.3660,  0.6405],\n",
       "               [-0.6932, -1.4356,  1.2593],\n",
       "               [ 1.1788,  1.3660,  0.6405],\n",
       "               [-0.6932, -1.4356,  1.2593],\n",
       "               [ 1.1788,  1.3660,  0.6405],\n",
       "               [-0.6932, -1.4356,  1.2593],\n",
       "               [ 1.1788,  1.3660,  0.6405],\n",
       "               [-0.6932, -1.4356,  1.2593],\n",
       "               [ 1.1788,  1.3660,  0.6405],\n",
       "               [-0.6932, -1.4356,  1.2593],\n",
       "               [ 1.1788,  1.3660,  0.6405],\n",
       "               [-0.6932, -1.4356,  1.2593],\n",
       "               [ 1.1788,  1.3660,  0.6405],\n",
       "               [-0.6932, -1.4356,  1.2593],\n",
       "               [ 1.1788,  1.3660,  0.6405],\n",
       "               [-0.6932, -1.4356,  1.2593]]),\n",
       ")"
      ]
     },
     "execution_count": 27,
     "metadata": {},
     "output_type": "execute_result"
    }
   ],
   "source": [
    "Batch.cat(batches)"
   ]
  },
  {
   "cell_type": "code",
   "execution_count": 28,
   "id": "18dfb045",
   "metadata": {
    "execution": {
     "iopub.execute_input": "2023-02-27T08:04:33.782863Z",
     "iopub.status.busy": "2023-02-27T08:04:33.782509Z",
     "iopub.status.idle": "2023-02-27T08:04:49.514909Z",
     "shell.execute_reply": "2023-02-27T08:04:49.513093Z"
    }
   },
   "outputs": [
    {
     "name": "stdout",
     "output_type": "stream",
     "text": [
      "194 µs ± 1.34 µs per loop (mean ± std. dev. of 7 runs, 10,000 loops each)\n"
     ]
    }
   ],
   "source": [
    "%timeit Batch.cat(batches)"
   ]
  },
  {
   "cell_type": "code",
   "execution_count": 29,
   "id": "c6688e51",
   "metadata": {
    "execution": {
     "iopub.execute_input": "2023-02-27T08:04:49.519345Z",
     "iopub.status.busy": "2023-02-27T08:04:49.518987Z",
     "iopub.status.idle": "2023-02-27T08:04:54.013560Z",
     "shell.execute_reply": "2023-02-27T08:04:54.012468Z"
    }
   },
   "outputs": [
    {
     "name": "stdout",
     "output_type": "stream",
     "text": [
      "550 µs ± 26.2 µs per loop (mean ± std. dev. of 7 runs, 1,000 loops each)\n"
     ]
    }
   ],
   "source": [
    "batch = Batch({\n",
    "    'obs': torch.randn(8, 4, 84, 84),\n",
    "    'action': torch.randint(0, 6, size=(8, 1,)),\n",
    "    'reward': torch.rand(8, 1)}\n",
    ")\n",
    "\n",
    "%timeit list(Batch.split(batch, 1, shuffle=False, merge_last=True))"
   ]
  },
  {
   "cell_type": "code",
   "execution_count": null,
   "id": "2539fbd9",
   "metadata": {},
   "outputs": [],
   "source": []
  }
 ],
 "metadata": {
  "kernelspec": {
   "display_name": "Python 3 (ipykernel)",
   "language": "python",
   "name": "python3"
  },
  "language_info": {
   "codemirror_mode": {
    "name": "ipython",
    "version": 3
   },
   "file_extension": ".py",
   "mimetype": "text/x-python",
   "name": "python",
   "nbconvert_exporter": "python",
   "pygments_lexer": "ipython3",
   "version": "3.8.16"
  }
 },
 "nbformat": 4,
 "nbformat_minor": 5
}
