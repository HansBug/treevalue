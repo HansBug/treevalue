{
 "cells": [
  {
   "cell_type": "markdown",
   "id": "9d39d946",
   "metadata": {},
   "source": [
    "# Comparison Between TreeValue and Tianshou Batch"
   ]
  },
  {
   "cell_type": "markdown",
   "id": "3c6db2d4",
   "metadata": {},
   "source": [
    "In this section, we will take a look at the feature and performance of the [Tianshou Batch](https://github.com/thu-ml/tianshou) library, which is developed by Tsinghua Machine Learning Group."
   ]
  },
  {
   "cell_type": "markdown",
   "id": "069361b0",
   "metadata": {},
   "source": [
    "Before starting the comparison, let us define some thing."
   ]
  },
  {
   "cell_type": "code",
   "execution_count": 1,
   "id": "06fc8d26",
   "metadata": {
    "execution": {
     "iopub.execute_input": "2023-02-26T16:39:40.164616Z",
     "iopub.status.busy": "2023-02-26T16:39:40.163947Z",
     "iopub.status.idle": "2023-02-26T16:39:41.183823Z",
     "shell.execute_reply": "2023-02-26T16:39:41.182999Z"
    }
   },
   "outputs": [
    {
     "name": "stderr",
     "output_type": "stream",
     "text": [
      "/opt/hostedtoolcache/Python/3.8.16/x64/lib/python3.8/site-packages/tqdm/auto.py:22: TqdmWarning: IProgress not found. Please update jupyter and ipywidgets. See https://ipywidgets.readthedocs.io/en/stable/user_install.html\n",
      "  from .autonotebook import tqdm as notebook_tqdm\n"
     ]
    }
   ],
   "source": [
    "import torch \n",
    "\n",
    "_TREE_DATA_1 = {'a': 1, 'b': 2, 'x': {'c': 3, 'd': 4}}\n",
    "_TREE_DATA_2 = {\n",
    "    'a': torch.randn(2, 3), \n",
    "    'x': {\n",
    "        'c': torch.randn(3, 4)\n",
    "    },\n",
    "}\n",
    "_TREE_DATA_3 = {\n",
    "    'obs': torch.randn(4, 84, 84),\n",
    "    'action': torch.randint(0, 6, size=(1,)),\n",
    "    'reward': torch.rand(1),\n",
    "}"
   ]
  },
  {
   "cell_type": "markdown",
   "id": "83461b25",
   "metadata": {},
   "source": [
    "## Read and Write Operation"
   ]
  },
  {
   "cell_type": "markdown",
   "id": "067b3f73",
   "metadata": {},
   "source": [
    "Reading and writing are the two most common operations in the tree data structure based on the data model (TreeValue and Tianshou Batch both belong to this type), so this section will compare the reading and writing performance of these two libraries."
   ]
  },
  {
   "cell_type": "markdown",
   "id": "5d09a5b7",
   "metadata": {},
   "source": [
    "### TreeValue's Get and Set"
   ]
  },
  {
   "cell_type": "code",
   "execution_count": 2,
   "id": "9519c4bb",
   "metadata": {
    "execution": {
     "iopub.execute_input": "2023-02-26T16:39:41.187723Z",
     "iopub.status.busy": "2023-02-26T16:39:41.187204Z",
     "iopub.status.idle": "2023-02-26T16:39:41.223721Z",
     "shell.execute_reply": "2023-02-26T16:39:41.222914Z"
    }
   },
   "outputs": [],
   "source": [
    "from treevalue import FastTreeValue\n",
    "\n",
    "t = FastTreeValue(_TREE_DATA_2)"
   ]
  },
  {
   "cell_type": "code",
   "execution_count": 3,
   "id": "11c37677",
   "metadata": {
    "execution": {
     "iopub.execute_input": "2023-02-26T16:39:41.227829Z",
     "iopub.status.busy": "2023-02-26T16:39:41.227128Z",
     "iopub.status.idle": "2023-02-26T16:39:41.237719Z",
     "shell.execute_reply": "2023-02-26T16:39:41.237037Z"
    }
   },
   "outputs": [
    {
     "data": {
      "text/plain": [
       "<FastTreeValue 0x7f1d1cf55340>\n",
       "├── 'a' --> tensor([[1.1511, 1.7563, 1.6044],\n",
       "│                   [0.0219, 2.6813, 0.9464]])\n",
       "└── 'x' --> <FastTreeValue 0x7f1d1cf557f0>\n",
       "    └── 'c' --> tensor([[-1.0857, -0.0778, -1.7967,  0.0504],\n",
       "                        [-0.2485,  0.1971,  0.0729,  0.0676],\n",
       "                        [-0.1120, -1.2202,  2.8117, -0.2041]])"
      ]
     },
     "execution_count": 3,
     "metadata": {},
     "output_type": "execute_result"
    }
   ],
   "source": [
    "t"
   ]
  },
  {
   "cell_type": "code",
   "execution_count": 4,
   "id": "fd70b0b9",
   "metadata": {
    "execution": {
     "iopub.execute_input": "2023-02-26T16:39:41.241072Z",
     "iopub.status.busy": "2023-02-26T16:39:41.240452Z",
     "iopub.status.idle": "2023-02-26T16:39:41.247361Z",
     "shell.execute_reply": "2023-02-26T16:39:41.246715Z"
    }
   },
   "outputs": [
    {
     "data": {
      "text/plain": [
       "tensor([[1.1511, 1.7563, 1.6044],\n",
       "        [0.0219, 2.6813, 0.9464]])"
      ]
     },
     "execution_count": 4,
     "metadata": {},
     "output_type": "execute_result"
    }
   ],
   "source": [
    "t.a"
   ]
  },
  {
   "cell_type": "code",
   "execution_count": 5,
   "id": "c18197bd",
   "metadata": {
    "execution": {
     "iopub.execute_input": "2023-02-26T16:39:41.250779Z",
     "iopub.status.busy": "2023-02-26T16:39:41.250148Z",
     "iopub.status.idle": "2023-02-26T16:39:46.480965Z",
     "shell.execute_reply": "2023-02-26T16:39:46.480077Z"
    }
   },
   "outputs": [
    {
     "name": "stdout",
     "output_type": "stream",
     "text": [
      "64.4 ns ± 0.0402 ns per loop (mean ± std. dev. of 7 runs, 10,000,000 loops each)\n"
     ]
    }
   ],
   "source": [
    "%timeit t.a"
   ]
  },
  {
   "cell_type": "code",
   "execution_count": 6,
   "id": "bd52f867",
   "metadata": {
    "execution": {
     "iopub.execute_input": "2023-02-26T16:39:46.484243Z",
     "iopub.status.busy": "2023-02-26T16:39:46.483723Z",
     "iopub.status.idle": "2023-02-26T16:39:46.490278Z",
     "shell.execute_reply": "2023-02-26T16:39:46.489530Z"
    }
   },
   "outputs": [
    {
     "data": {
      "text/plain": [
       "<FastTreeValue 0x7f1d1cf55340>\n",
       "├── 'a' --> tensor([[ 0.7363,  2.8601,  1.2424],\n",
       "│                   [ 0.4406, -1.0648, -0.1145]])\n",
       "└── 'x' --> <FastTreeValue 0x7f1d1cf557f0>\n",
       "    └── 'c' --> tensor([[-1.0857, -0.0778, -1.7967,  0.0504],\n",
       "                        [-0.2485,  0.1971,  0.0729,  0.0676],\n",
       "                        [-0.1120, -1.2202,  2.8117, -0.2041]])"
      ]
     },
     "execution_count": 6,
     "metadata": {},
     "output_type": "execute_result"
    }
   ],
   "source": [
    "new_value = torch.randn(2, 3)\n",
    "t.a = new_value\n",
    "\n",
    "t"
   ]
  },
  {
   "cell_type": "code",
   "execution_count": 7,
   "id": "bbe04d1c",
   "metadata": {
    "execution": {
     "iopub.execute_input": "2023-02-26T16:39:46.493300Z",
     "iopub.status.busy": "2023-02-26T16:39:46.492718Z",
     "iopub.status.idle": "2023-02-26T16:39:51.936182Z",
     "shell.execute_reply": "2023-02-26T16:39:51.935190Z"
    }
   },
   "outputs": [
    {
     "name": "stdout",
     "output_type": "stream",
     "text": [
      "67 ns ± 0.0453 ns per loop (mean ± std. dev. of 7 runs, 10,000,000 loops each)\n"
     ]
    }
   ],
   "source": [
    "%timeit t.a = new_value"
   ]
  },
  {
   "cell_type": "markdown",
   "id": "48c49731",
   "metadata": {},
   "source": [
    "### Tianshou Batch's Get and Set"
   ]
  },
  {
   "cell_type": "code",
   "execution_count": 8,
   "id": "f1bb14c1",
   "metadata": {
    "execution": {
     "iopub.execute_input": "2023-02-26T16:39:51.939628Z",
     "iopub.status.busy": "2023-02-26T16:39:51.939245Z",
     "iopub.status.idle": "2023-02-26T16:39:52.319094Z",
     "shell.execute_reply": "2023-02-26T16:39:52.318139Z"
    }
   },
   "outputs": [],
   "source": [
    "from tianshou.data import Batch\n",
    "\n",
    "b = Batch(**_TREE_DATA_2)"
   ]
  },
  {
   "cell_type": "code",
   "execution_count": 9,
   "id": "cb0777c3",
   "metadata": {
    "execution": {
     "iopub.execute_input": "2023-02-26T16:39:52.322974Z",
     "iopub.status.busy": "2023-02-26T16:39:52.322441Z",
     "iopub.status.idle": "2023-02-26T16:39:52.329532Z",
     "shell.execute_reply": "2023-02-26T16:39:52.328891Z"
    }
   },
   "outputs": [
    {
     "data": {
      "text/plain": [
       "Batch(\n",
       "    a: tensor([[1.1511, 1.7563, 1.6044],\n",
       "               [0.0219, 2.6813, 0.9464]]),\n",
       "    x: Batch(\n",
       "           c: tensor([[-1.0857, -0.0778, -1.7967,  0.0504],\n",
       "                      [-0.2485,  0.1971,  0.0729,  0.0676],\n",
       "                      [-0.1120, -1.2202,  2.8117, -0.2041]]),\n",
       "       ),\n",
       ")"
      ]
     },
     "execution_count": 9,
     "metadata": {},
     "output_type": "execute_result"
    }
   ],
   "source": [
    "b"
   ]
  },
  {
   "cell_type": "code",
   "execution_count": 10,
   "id": "43ef8ea3",
   "metadata": {
    "execution": {
     "iopub.execute_input": "2023-02-26T16:39:52.332454Z",
     "iopub.status.busy": "2023-02-26T16:39:52.332104Z",
     "iopub.status.idle": "2023-02-26T16:39:52.338479Z",
     "shell.execute_reply": "2023-02-26T16:39:52.337823Z"
    }
   },
   "outputs": [
    {
     "data": {
      "text/plain": [
       "tensor([[1.1511, 1.7563, 1.6044],\n",
       "        [0.0219, 2.6813, 0.9464]])"
      ]
     },
     "execution_count": 10,
     "metadata": {},
     "output_type": "execute_result"
    }
   ],
   "source": [
    "b.a"
   ]
  },
  {
   "cell_type": "code",
   "execution_count": 11,
   "id": "b785ab72",
   "metadata": {
    "execution": {
     "iopub.execute_input": "2023-02-26T16:39:52.341548Z",
     "iopub.status.busy": "2023-02-26T16:39:52.341097Z",
     "iopub.status.idle": "2023-02-26T16:39:57.004069Z",
     "shell.execute_reply": "2023-02-26T16:39:57.002884Z"
    }
   },
   "outputs": [
    {
     "name": "stdout",
     "output_type": "stream",
     "text": [
      "57.4 ns ± 0.0442 ns per loop (mean ± std. dev. of 7 runs, 10,000,000 loops each)\n"
     ]
    }
   ],
   "source": [
    "%timeit b.a"
   ]
  },
  {
   "cell_type": "code",
   "execution_count": 12,
   "id": "ad54dc69",
   "metadata": {
    "execution": {
     "iopub.execute_input": "2023-02-26T16:39:57.007624Z",
     "iopub.status.busy": "2023-02-26T16:39:57.007350Z",
     "iopub.status.idle": "2023-02-26T16:39:57.014814Z",
     "shell.execute_reply": "2023-02-26T16:39:57.014144Z"
    }
   },
   "outputs": [
    {
     "data": {
      "text/plain": [
       "Batch(\n",
       "    a: tensor([[-0.1733,  0.8535, -0.4858],\n",
       "               [ 0.1538,  0.9937, -0.4064]]),\n",
       "    x: Batch(\n",
       "           c: tensor([[-1.0857, -0.0778, -1.7967,  0.0504],\n",
       "                      [-0.2485,  0.1971,  0.0729,  0.0676],\n",
       "                      [-0.1120, -1.2202,  2.8117, -0.2041]]),\n",
       "       ),\n",
       ")"
      ]
     },
     "execution_count": 12,
     "metadata": {},
     "output_type": "execute_result"
    }
   ],
   "source": [
    "new_value = torch.randn(2, 3)\n",
    "b.a = new_value\n",
    "\n",
    "b"
   ]
  },
  {
   "cell_type": "code",
   "execution_count": 13,
   "id": "29b1d0bf",
   "metadata": {
    "execution": {
     "iopub.execute_input": "2023-02-26T16:39:57.017795Z",
     "iopub.status.busy": "2023-02-26T16:39:57.017545Z",
     "iopub.status.idle": "2023-02-26T16:40:01.102021Z",
     "shell.execute_reply": "2023-02-26T16:40:01.101237Z"
    }
   },
   "outputs": [
    {
     "name": "stdout",
     "output_type": "stream",
     "text": [
      "504 ns ± 0.291 ns per loop (mean ± std. dev. of 7 runs, 1,000,000 loops each)\n"
     ]
    }
   ],
   "source": [
    "%timeit b.a = new_value"
   ]
  },
  {
   "cell_type": "markdown",
   "id": "b61ad1d0",
   "metadata": {},
   "source": [
    "## Initialization"
   ]
  },
  {
   "cell_type": "markdown",
   "id": "d70f0d54",
   "metadata": {},
   "source": [
    "### TreeValue's Initialization"
   ]
  },
  {
   "cell_type": "code",
   "execution_count": 14,
   "id": "d32a679b",
   "metadata": {
    "execution": {
     "iopub.execute_input": "2023-02-26T16:40:01.105513Z",
     "iopub.status.busy": "2023-02-26T16:40:01.105115Z",
     "iopub.status.idle": "2023-02-26T16:40:07.877414Z",
     "shell.execute_reply": "2023-02-26T16:40:07.876446Z"
    }
   },
   "outputs": [
    {
     "name": "stdout",
     "output_type": "stream",
     "text": [
      "837 ns ± 0.592 ns per loop (mean ± std. dev. of 7 runs, 1,000,000 loops each)\n"
     ]
    }
   ],
   "source": [
    "%timeit FastTreeValue(_TREE_DATA_1)"
   ]
  },
  {
   "cell_type": "markdown",
   "id": "24f3707b",
   "metadata": {},
   "source": [
    "### Tianshou Batch's Initialization"
   ]
  },
  {
   "cell_type": "code",
   "execution_count": 15,
   "id": "ac3958df",
   "metadata": {
    "execution": {
     "iopub.execute_input": "2023-02-26T16:40:07.881875Z",
     "iopub.status.busy": "2023-02-26T16:40:07.881314Z",
     "iopub.status.idle": "2023-02-26T16:40:16.819612Z",
     "shell.execute_reply": "2023-02-26T16:40:16.818681Z"
    }
   },
   "outputs": [
    {
     "name": "stdout",
     "output_type": "stream",
     "text": [
      "11 µs ± 27.5 ns per loop (mean ± std. dev. of 7 runs, 100,000 loops each)\n"
     ]
    }
   ],
   "source": [
    "%timeit Batch(**_TREE_DATA_1)"
   ]
  },
  {
   "cell_type": "markdown",
   "id": "1ab82e2d",
   "metadata": {},
   "source": [
    "## Deep Copy Operation"
   ]
  },
  {
   "cell_type": "code",
   "execution_count": 16,
   "id": "210a9442",
   "metadata": {
    "execution": {
     "iopub.execute_input": "2023-02-26T16:40:16.823109Z",
     "iopub.status.busy": "2023-02-26T16:40:16.822664Z",
     "iopub.status.idle": "2023-02-26T16:40:16.827144Z",
     "shell.execute_reply": "2023-02-26T16:40:16.826464Z"
    }
   },
   "outputs": [],
   "source": [
    "import copy"
   ]
  },
  {
   "cell_type": "markdown",
   "id": "5a736274",
   "metadata": {},
   "source": [
    "### Deep Copy of TreeValue"
   ]
  },
  {
   "cell_type": "code",
   "execution_count": 17,
   "id": "f9bcadd6",
   "metadata": {
    "execution": {
     "iopub.execute_input": "2023-02-26T16:40:16.830279Z",
     "iopub.status.busy": "2023-02-26T16:40:16.830008Z",
     "iopub.status.idle": "2023-02-26T16:40:28.612704Z",
     "shell.execute_reply": "2023-02-26T16:40:28.612068Z"
    }
   },
   "outputs": [
    {
     "name": "stdout",
     "output_type": "stream",
     "text": [
      "145 µs ± 938 ns per loop (mean ± std. dev. of 7 runs, 10,000 loops each)\n"
     ]
    }
   ],
   "source": [
    "t3 = FastTreeValue(_TREE_DATA_3)\n",
    "%timeit copy.deepcopy(t3)"
   ]
  },
  {
   "cell_type": "markdown",
   "id": "bf8be7ea",
   "metadata": {},
   "source": [
    "### Deep Copy of Tianshou Batch"
   ]
  },
  {
   "cell_type": "code",
   "execution_count": 18,
   "id": "91998e6f",
   "metadata": {
    "execution": {
     "iopub.execute_input": "2023-02-26T16:40:28.615860Z",
     "iopub.status.busy": "2023-02-26T16:40:28.615337Z",
     "iopub.status.idle": "2023-02-26T16:40:40.367947Z",
     "shell.execute_reply": "2023-02-26T16:40:40.367116Z"
    }
   },
   "outputs": [
    {
     "name": "stdout",
     "output_type": "stream",
     "text": [
      "145 µs ± 1.07 µs per loop (mean ± std. dev. of 7 runs, 10,000 loops each)\n"
     ]
    }
   ],
   "source": [
    "b3 = Batch(**_TREE_DATA_3)\n",
    "%timeit copy.deepcopy(b3)"
   ]
  },
  {
   "cell_type": "markdown",
   "id": "223162fb",
   "metadata": {},
   "source": [
    "## Stack, Concat and Split Operation"
   ]
  },
  {
   "cell_type": "markdown",
   "id": "85fa4a73",
   "metadata": {},
   "source": [
    "### Performance of TreeValue"
   ]
  },
  {
   "cell_type": "code",
   "execution_count": 19,
   "id": "a0c2b697",
   "metadata": {
    "execution": {
     "iopub.execute_input": "2023-02-26T16:40:40.371618Z",
     "iopub.status.busy": "2023-02-26T16:40:40.370941Z",
     "iopub.status.idle": "2023-02-26T16:40:40.375222Z",
     "shell.execute_reply": "2023-02-26T16:40:40.374574Z"
    }
   },
   "outputs": [],
   "source": [
    "trees = [FastTreeValue(_TREE_DATA_2) for _ in range(8)]"
   ]
  },
  {
   "cell_type": "code",
   "execution_count": 20,
   "id": "017ea5a5",
   "metadata": {
    "execution": {
     "iopub.execute_input": "2023-02-26T16:40:40.378379Z",
     "iopub.status.busy": "2023-02-26T16:40:40.377823Z",
     "iopub.status.idle": "2023-02-26T16:40:40.386205Z",
     "shell.execute_reply": "2023-02-26T16:40:40.385544Z"
    }
   },
   "outputs": [
    {
     "data": {
      "text/plain": [
       "<FastTreeValue 0x7f1d1cf55310>\n",
       "├── 'a' --> tensor([[[1.1511, 1.7563, 1.6044],\n",
       "│                    [0.0219, 2.6813, 0.9464]],\n",
       "│           \n",
       "│                   [[1.1511, 1.7563, 1.6044],\n",
       "│                    [0.0219, 2.6813, 0.9464]],\n",
       "│           \n",
       "│                   [[1.1511, 1.7563, 1.6044],\n",
       "│                    [0.0219, 2.6813, 0.9464]],\n",
       "│           \n",
       "│                   [[1.1511, 1.7563, 1.6044],\n",
       "│                    [0.0219, 2.6813, 0.9464]],\n",
       "│           \n",
       "│                   [[1.1511, 1.7563, 1.6044],\n",
       "│                    [0.0219, 2.6813, 0.9464]],\n",
       "│           \n",
       "│                   [[1.1511, 1.7563, 1.6044],\n",
       "│                    [0.0219, 2.6813, 0.9464]],\n",
       "│           \n",
       "│                   [[1.1511, 1.7563, 1.6044],\n",
       "│                    [0.0219, 2.6813, 0.9464]],\n",
       "│           \n",
       "│                   [[1.1511, 1.7563, 1.6044],\n",
       "│                    [0.0219, 2.6813, 0.9464]]])\n",
       "└── 'x' --> <FastTreeValue 0x7f1d1cf55250>\n",
       "    └── 'c' --> tensor([[[-1.0857, -0.0778, -1.7967,  0.0504],\n",
       "                         [-0.2485,  0.1971,  0.0729,  0.0676],\n",
       "                         [-0.1120, -1.2202,  2.8117, -0.2041]],\n",
       "                \n",
       "                        [[-1.0857, -0.0778, -1.7967,  0.0504],\n",
       "                         [-0.2485,  0.1971,  0.0729,  0.0676],\n",
       "                         [-0.1120, -1.2202,  2.8117, -0.2041]],\n",
       "                \n",
       "                        [[-1.0857, -0.0778, -1.7967,  0.0504],\n",
       "                         [-0.2485,  0.1971,  0.0729,  0.0676],\n",
       "                         [-0.1120, -1.2202,  2.8117, -0.2041]],\n",
       "                \n",
       "                        [[-1.0857, -0.0778, -1.7967,  0.0504],\n",
       "                         [-0.2485,  0.1971,  0.0729,  0.0676],\n",
       "                         [-0.1120, -1.2202,  2.8117, -0.2041]],\n",
       "                \n",
       "                        [[-1.0857, -0.0778, -1.7967,  0.0504],\n",
       "                         [-0.2485,  0.1971,  0.0729,  0.0676],\n",
       "                         [-0.1120, -1.2202,  2.8117, -0.2041]],\n",
       "                \n",
       "                        [[-1.0857, -0.0778, -1.7967,  0.0504],\n",
       "                         [-0.2485,  0.1971,  0.0729,  0.0676],\n",
       "                         [-0.1120, -1.2202,  2.8117, -0.2041]],\n",
       "                \n",
       "                        [[-1.0857, -0.0778, -1.7967,  0.0504],\n",
       "                         [-0.2485,  0.1971,  0.0729,  0.0676],\n",
       "                         [-0.1120, -1.2202,  2.8117, -0.2041]],\n",
       "                \n",
       "                        [[-1.0857, -0.0778, -1.7967,  0.0504],\n",
       "                         [-0.2485,  0.1971,  0.0729,  0.0676],\n",
       "                         [-0.1120, -1.2202,  2.8117, -0.2041]]])"
      ]
     },
     "execution_count": 20,
     "metadata": {},
     "output_type": "execute_result"
    }
   ],
   "source": [
    "t_stack = FastTreeValue.func(subside=True)(torch.stack)\n",
    "\n",
    "t_stack(trees)"
   ]
  },
  {
   "cell_type": "code",
   "execution_count": 21,
   "id": "f8b3f415",
   "metadata": {
    "execution": {
     "iopub.execute_input": "2023-02-26T16:40:40.389283Z",
     "iopub.status.busy": "2023-02-26T16:40:40.388872Z",
     "iopub.status.idle": "2023-02-26T16:40:43.074963Z",
     "shell.execute_reply": "2023-02-26T16:40:43.074150Z"
    }
   },
   "outputs": [
    {
     "name": "stdout",
     "output_type": "stream",
     "text": [
      "33 µs ± 17.5 ns per loop (mean ± std. dev. of 7 runs, 10,000 loops each)\n"
     ]
    }
   ],
   "source": [
    "%timeit t_stack(trees)"
   ]
  },
  {
   "cell_type": "code",
   "execution_count": 22,
   "id": "94b56771",
   "metadata": {
    "execution": {
     "iopub.execute_input": "2023-02-26T16:40:43.078356Z",
     "iopub.status.busy": "2023-02-26T16:40:43.077840Z",
     "iopub.status.idle": "2023-02-26T16:40:43.086253Z",
     "shell.execute_reply": "2023-02-26T16:40:43.085597Z"
    }
   },
   "outputs": [
    {
     "data": {
      "text/plain": [
       "<FastTreeValue 0x7f1d1cf5aaf0>\n",
       "├── 'a' --> tensor([[1.1511, 1.7563, 1.6044],\n",
       "│                   [0.0219, 2.6813, 0.9464],\n",
       "│                   [1.1511, 1.7563, 1.6044],\n",
       "│                   [0.0219, 2.6813, 0.9464],\n",
       "│                   [1.1511, 1.7563, 1.6044],\n",
       "│                   [0.0219, 2.6813, 0.9464],\n",
       "│                   [1.1511, 1.7563, 1.6044],\n",
       "│                   [0.0219, 2.6813, 0.9464],\n",
       "│                   [1.1511, 1.7563, 1.6044],\n",
       "│                   [0.0219, 2.6813, 0.9464],\n",
       "│                   [1.1511, 1.7563, 1.6044],\n",
       "│                   [0.0219, 2.6813, 0.9464],\n",
       "│                   [1.1511, 1.7563, 1.6044],\n",
       "│                   [0.0219, 2.6813, 0.9464],\n",
       "│                   [1.1511, 1.7563, 1.6044],\n",
       "│                   [0.0219, 2.6813, 0.9464]])\n",
       "└── 'x' --> <FastTreeValue 0x7f1d1cf5aa30>\n",
       "    └── 'c' --> tensor([[-1.0857, -0.0778, -1.7967,  0.0504],\n",
       "                        [-0.2485,  0.1971,  0.0729,  0.0676],\n",
       "                        [-0.1120, -1.2202,  2.8117, -0.2041],\n",
       "                        [-1.0857, -0.0778, -1.7967,  0.0504],\n",
       "                        [-0.2485,  0.1971,  0.0729,  0.0676],\n",
       "                        [-0.1120, -1.2202,  2.8117, -0.2041],\n",
       "                        [-1.0857, -0.0778, -1.7967,  0.0504],\n",
       "                        [-0.2485,  0.1971,  0.0729,  0.0676],\n",
       "                        [-0.1120, -1.2202,  2.8117, -0.2041],\n",
       "                        [-1.0857, -0.0778, -1.7967,  0.0504],\n",
       "                        [-0.2485,  0.1971,  0.0729,  0.0676],\n",
       "                        [-0.1120, -1.2202,  2.8117, -0.2041],\n",
       "                        [-1.0857, -0.0778, -1.7967,  0.0504],\n",
       "                        [-0.2485,  0.1971,  0.0729,  0.0676],\n",
       "                        [-0.1120, -1.2202,  2.8117, -0.2041],\n",
       "                        [-1.0857, -0.0778, -1.7967,  0.0504],\n",
       "                        [-0.2485,  0.1971,  0.0729,  0.0676],\n",
       "                        [-0.1120, -1.2202,  2.8117, -0.2041],\n",
       "                        [-1.0857, -0.0778, -1.7967,  0.0504],\n",
       "                        [-0.2485,  0.1971,  0.0729,  0.0676],\n",
       "                        [-0.1120, -1.2202,  2.8117, -0.2041],\n",
       "                        [-1.0857, -0.0778, -1.7967,  0.0504],\n",
       "                        [-0.2485,  0.1971,  0.0729,  0.0676],\n",
       "                        [-0.1120, -1.2202,  2.8117, -0.2041]])"
      ]
     },
     "execution_count": 22,
     "metadata": {},
     "output_type": "execute_result"
    }
   ],
   "source": [
    "t_cat = FastTreeValue.func(subside=True)(torch.cat)\n",
    "\n",
    "t_cat(trees)"
   ]
  },
  {
   "cell_type": "code",
   "execution_count": 23,
   "id": "5e9c06a6",
   "metadata": {
    "execution": {
     "iopub.execute_input": "2023-02-26T16:40:43.089540Z",
     "iopub.status.busy": "2023-02-26T16:40:43.088909Z",
     "iopub.status.idle": "2023-02-26T16:40:45.584660Z",
     "shell.execute_reply": "2023-02-26T16:40:45.583743Z"
    }
   },
   "outputs": [
    {
     "name": "stdout",
     "output_type": "stream",
     "text": [
      "30.7 µs ± 97.5 ns per loop (mean ± std. dev. of 7 runs, 10,000 loops each)\n"
     ]
    }
   ],
   "source": [
    "%timeit t_cat(trees)"
   ]
  },
  {
   "cell_type": "code",
   "execution_count": 24,
   "id": "a3ab5c8f",
   "metadata": {
    "execution": {
     "iopub.execute_input": "2023-02-26T16:40:45.588091Z",
     "iopub.status.busy": "2023-02-26T16:40:45.587417Z",
     "iopub.status.idle": "2023-02-26T16:40:50.165797Z",
     "shell.execute_reply": "2023-02-26T16:40:50.164782Z"
    }
   },
   "outputs": [
    {
     "name": "stdout",
     "output_type": "stream",
     "text": [
      "56.3 µs ± 60.3 ns per loop (mean ± std. dev. of 7 runs, 10,000 loops each)\n"
     ]
    }
   ],
   "source": [
    "t_split = FastTreeValue.func(rise=True)(torch.split)\n",
    "tree = FastTreeValue({\n",
    "    'obs': torch.randn(8, 4, 84, 84),\n",
    "    'action': torch.randint(0, 6, size=(8, 1,)),\n",
    "    'reward': torch.rand(8, 1),\n",
    "})\n",
    "\n",
    "%timeit t_split(tree, 1)"
   ]
  },
  {
   "cell_type": "markdown",
   "id": "31c3ec0b",
   "metadata": {},
   "source": [
    "### Performance of Tianshou Batch"
   ]
  },
  {
   "cell_type": "code",
   "execution_count": 25,
   "id": "9ead828a",
   "metadata": {
    "execution": {
     "iopub.execute_input": "2023-02-26T16:40:50.169723Z",
     "iopub.status.busy": "2023-02-26T16:40:50.168989Z",
     "iopub.status.idle": "2023-02-26T16:40:50.179003Z",
     "shell.execute_reply": "2023-02-26T16:40:50.178209Z"
    }
   },
   "outputs": [
    {
     "data": {
      "text/plain": [
       "Batch(\n",
       "    a: tensor([[[1.1511, 1.7563, 1.6044],\n",
       "                [0.0219, 2.6813, 0.9464]],\n",
       "       \n",
       "               [[1.1511, 1.7563, 1.6044],\n",
       "                [0.0219, 2.6813, 0.9464]],\n",
       "       \n",
       "               [[1.1511, 1.7563, 1.6044],\n",
       "                [0.0219, 2.6813, 0.9464]],\n",
       "       \n",
       "               [[1.1511, 1.7563, 1.6044],\n",
       "                [0.0219, 2.6813, 0.9464]],\n",
       "       \n",
       "               [[1.1511, 1.7563, 1.6044],\n",
       "                [0.0219, 2.6813, 0.9464]],\n",
       "       \n",
       "               [[1.1511, 1.7563, 1.6044],\n",
       "                [0.0219, 2.6813, 0.9464]],\n",
       "       \n",
       "               [[1.1511, 1.7563, 1.6044],\n",
       "                [0.0219, 2.6813, 0.9464]],\n",
       "       \n",
       "               [[1.1511, 1.7563, 1.6044],\n",
       "                [0.0219, 2.6813, 0.9464]]]),\n",
       "    x: Batch(\n",
       "           c: tensor([[[-1.0857, -0.0778, -1.7967,  0.0504],\n",
       "                       [-0.2485,  0.1971,  0.0729,  0.0676],\n",
       "                       [-0.1120, -1.2202,  2.8117, -0.2041]],\n",
       "              \n",
       "                      [[-1.0857, -0.0778, -1.7967,  0.0504],\n",
       "                       [-0.2485,  0.1971,  0.0729,  0.0676],\n",
       "                       [-0.1120, -1.2202,  2.8117, -0.2041]],\n",
       "              \n",
       "                      [[-1.0857, -0.0778, -1.7967,  0.0504],\n",
       "                       [-0.2485,  0.1971,  0.0729,  0.0676],\n",
       "                       [-0.1120, -1.2202,  2.8117, -0.2041]],\n",
       "              \n",
       "                      [[-1.0857, -0.0778, -1.7967,  0.0504],\n",
       "                       [-0.2485,  0.1971,  0.0729,  0.0676],\n",
       "                       [-0.1120, -1.2202,  2.8117, -0.2041]],\n",
       "              \n",
       "                      [[-1.0857, -0.0778, -1.7967,  0.0504],\n",
       "                       [-0.2485,  0.1971,  0.0729,  0.0676],\n",
       "                       [-0.1120, -1.2202,  2.8117, -0.2041]],\n",
       "              \n",
       "                      [[-1.0857, -0.0778, -1.7967,  0.0504],\n",
       "                       [-0.2485,  0.1971,  0.0729,  0.0676],\n",
       "                       [-0.1120, -1.2202,  2.8117, -0.2041]],\n",
       "              \n",
       "                      [[-1.0857, -0.0778, -1.7967,  0.0504],\n",
       "                       [-0.2485,  0.1971,  0.0729,  0.0676],\n",
       "                       [-0.1120, -1.2202,  2.8117, -0.2041]],\n",
       "              \n",
       "                      [[-1.0857, -0.0778, -1.7967,  0.0504],\n",
       "                       [-0.2485,  0.1971,  0.0729,  0.0676],\n",
       "                       [-0.1120, -1.2202,  2.8117, -0.2041]]]),\n",
       "       ),\n",
       ")"
      ]
     },
     "execution_count": 25,
     "metadata": {},
     "output_type": "execute_result"
    }
   ],
   "source": [
    "batches = [Batch(**_TREE_DATA_2) for _ in range(8)]\n",
    "\n",
    "Batch.stack(batches)"
   ]
  },
  {
   "cell_type": "code",
   "execution_count": 26,
   "id": "ec9037a3",
   "metadata": {
    "execution": {
     "iopub.execute_input": "2023-02-26T16:40:50.182893Z",
     "iopub.status.busy": "2023-02-26T16:40:50.182181Z",
     "iopub.status.idle": "2023-02-26T16:40:56.492160Z",
     "shell.execute_reply": "2023-02-26T16:40:56.491159Z"
    }
   },
   "outputs": [
    {
     "name": "stdout",
     "output_type": "stream",
     "text": [
      "77.7 µs ± 233 ns per loop (mean ± std. dev. of 7 runs, 10,000 loops each)\n"
     ]
    }
   ],
   "source": [
    "%timeit Batch.stack(batches)"
   ]
  },
  {
   "cell_type": "code",
   "execution_count": 27,
   "id": "cb8ab77e",
   "metadata": {
    "execution": {
     "iopub.execute_input": "2023-02-26T16:40:56.496315Z",
     "iopub.status.busy": "2023-02-26T16:40:56.495659Z",
     "iopub.status.idle": "2023-02-26T16:40:56.504284Z",
     "shell.execute_reply": "2023-02-26T16:40:56.503611Z"
    }
   },
   "outputs": [
    {
     "data": {
      "text/plain": [
       "Batch(\n",
       "    a: tensor([[1.1511, 1.7563, 1.6044],\n",
       "               [0.0219, 2.6813, 0.9464],\n",
       "               [1.1511, 1.7563, 1.6044],\n",
       "               [0.0219, 2.6813, 0.9464],\n",
       "               [1.1511, 1.7563, 1.6044],\n",
       "               [0.0219, 2.6813, 0.9464],\n",
       "               [1.1511, 1.7563, 1.6044],\n",
       "               [0.0219, 2.6813, 0.9464],\n",
       "               [1.1511, 1.7563, 1.6044],\n",
       "               [0.0219, 2.6813, 0.9464],\n",
       "               [1.1511, 1.7563, 1.6044],\n",
       "               [0.0219, 2.6813, 0.9464],\n",
       "               [1.1511, 1.7563, 1.6044],\n",
       "               [0.0219, 2.6813, 0.9464],\n",
       "               [1.1511, 1.7563, 1.6044],\n",
       "               [0.0219, 2.6813, 0.9464]]),\n",
       "    x: Batch(\n",
       "           c: tensor([[-1.0857, -0.0778, -1.7967,  0.0504],\n",
       "                      [-0.2485,  0.1971,  0.0729,  0.0676],\n",
       "                      [-0.1120, -1.2202,  2.8117, -0.2041],\n",
       "                      [-1.0857, -0.0778, -1.7967,  0.0504],\n",
       "                      [-0.2485,  0.1971,  0.0729,  0.0676],\n",
       "                      [-0.1120, -1.2202,  2.8117, -0.2041],\n",
       "                      [-1.0857, -0.0778, -1.7967,  0.0504],\n",
       "                      [-0.2485,  0.1971,  0.0729,  0.0676],\n",
       "                      [-0.1120, -1.2202,  2.8117, -0.2041],\n",
       "                      [-1.0857, -0.0778, -1.7967,  0.0504],\n",
       "                      [-0.2485,  0.1971,  0.0729,  0.0676],\n",
       "                      [-0.1120, -1.2202,  2.8117, -0.2041],\n",
       "                      [-1.0857, -0.0778, -1.7967,  0.0504],\n",
       "                      [-0.2485,  0.1971,  0.0729,  0.0676],\n",
       "                      [-0.1120, -1.2202,  2.8117, -0.2041],\n",
       "                      [-1.0857, -0.0778, -1.7967,  0.0504],\n",
       "                      [-0.2485,  0.1971,  0.0729,  0.0676],\n",
       "                      [-0.1120, -1.2202,  2.8117, -0.2041],\n",
       "                      [-1.0857, -0.0778, -1.7967,  0.0504],\n",
       "                      [-0.2485,  0.1971,  0.0729,  0.0676],\n",
       "                      [-0.1120, -1.2202,  2.8117, -0.2041],\n",
       "                      [-1.0857, -0.0778, -1.7967,  0.0504],\n",
       "                      [-0.2485,  0.1971,  0.0729,  0.0676],\n",
       "                      [-0.1120, -1.2202,  2.8117, -0.2041]]),\n",
       "       ),\n",
       ")"
      ]
     },
     "execution_count": 27,
     "metadata": {},
     "output_type": "execute_result"
    }
   ],
   "source": [
    "Batch.cat(batches)"
   ]
  },
  {
   "cell_type": "code",
   "execution_count": 28,
   "id": "18dfb045",
   "metadata": {
    "execution": {
     "iopub.execute_input": "2023-02-26T16:40:56.507618Z",
     "iopub.status.busy": "2023-02-26T16:40:56.507140Z",
     "iopub.status.idle": "2023-02-26T16:41:08.189022Z",
     "shell.execute_reply": "2023-02-26T16:41:08.188157Z"
    }
   },
   "outputs": [
    {
     "name": "stdout",
     "output_type": "stream",
     "text": [
      "144 µs ± 217 ns per loop (mean ± std. dev. of 7 runs, 10,000 loops each)\n"
     ]
    }
   ],
   "source": [
    "%timeit Batch.cat(batches)"
   ]
  },
  {
   "cell_type": "code",
   "execution_count": 29,
   "id": "c6688e51",
   "metadata": {
    "execution": {
     "iopub.execute_input": "2023-02-26T16:41:08.192877Z",
     "iopub.status.busy": "2023-02-26T16:41:08.192296Z",
     "iopub.status.idle": "2023-02-26T16:41:10.856926Z",
     "shell.execute_reply": "2023-02-26T16:41:10.856232Z"
    }
   },
   "outputs": [
    {
     "name": "stdout",
     "output_type": "stream",
     "text": [
      "327 µs ± 2.81 µs per loop (mean ± std. dev. of 7 runs, 1,000 loops each)\n"
     ]
    }
   ],
   "source": [
    "batch = Batch({\n",
    "    'obs': torch.randn(8, 4, 84, 84),\n",
    "    'action': torch.randint(0, 6, size=(8, 1,)),\n",
    "    'reward': torch.rand(8, 1)}\n",
    ")\n",
    "\n",
    "%timeit list(Batch.split(batch, 1, shuffle=False, merge_last=True))"
   ]
  },
  {
   "cell_type": "code",
   "execution_count": null,
   "id": "2539fbd9",
   "metadata": {},
   "outputs": [],
   "source": []
  }
 ],
 "metadata": {
  "kernelspec": {
   "display_name": "Python 3 (ipykernel)",
   "language": "python",
   "name": "python3"
  },
  "language_info": {
   "codemirror_mode": {
    "name": "ipython",
    "version": 3
   },
   "file_extension": ".py",
   "mimetype": "text/x-python",
   "name": "python",
   "nbconvert_exporter": "python",
   "pygments_lexer": "ipython3",
   "version": "3.8.16"
  }
 },
 "nbformat": 4,
 "nbformat_minor": 5
}
