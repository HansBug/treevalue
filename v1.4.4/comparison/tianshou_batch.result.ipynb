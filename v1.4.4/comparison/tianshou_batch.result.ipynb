{
 "cells": [
  {
   "cell_type": "markdown",
   "id": "9d39d946",
   "metadata": {},
   "source": [
    "# Comparison Between TreeValue and Tianshou Batch"
   ]
  },
  {
   "cell_type": "markdown",
   "id": "3c6db2d4",
   "metadata": {},
   "source": [
    "In this section, we will take a look at the feature and performance of the [Tianshou Batch](https://github.com/thu-ml/tianshou) library, which is developed by Tsinghua Machine Learning Group."
   ]
  },
  {
   "cell_type": "markdown",
   "id": "069361b0",
   "metadata": {},
   "source": [
    "Before starting the comparison, let us define some thing."
   ]
  },
  {
   "cell_type": "code",
   "execution_count": 1,
   "id": "06fc8d26",
   "metadata": {
    "execution": {
     "iopub.execute_input": "2023-08-10T14:56:46.413463Z",
     "iopub.status.busy": "2023-08-10T14:56:46.413186Z",
     "iopub.status.idle": "2023-08-10T14:56:48.014784Z",
     "shell.execute_reply": "2023-08-10T14:56:48.013612Z"
    }
   },
   "outputs": [],
   "source": [
    "import torch \n",
    "\n",
    "_TREE_DATA_1 = {'a': 1, 'b': 2, 'x': {'c': 3, 'd': 4}}\n",
    "_TREE_DATA_2 = {\n",
    "    'a': torch.randn(2, 3), \n",
    "    'x': {\n",
    "        'c': torch.randn(3, 4)\n",
    "    },\n",
    "}\n",
    "_TREE_DATA_3 = {\n",
    "    'obs': torch.randn(4, 84, 84),\n",
    "    'action': torch.randint(0, 6, size=(1,)),\n",
    "    'reward': torch.rand(1),\n",
    "}"
   ]
  },
  {
   "cell_type": "markdown",
   "id": "83461b25",
   "metadata": {},
   "source": [
    "## Read and Write Operation"
   ]
  },
  {
   "cell_type": "markdown",
   "id": "067b3f73",
   "metadata": {},
   "source": [
    "Reading and writing are the two most common operations in the tree data structure based on the data model (TreeValue and Tianshou Batch both belong to this type), so this section will compare the reading and writing performance of these two libraries."
   ]
  },
  {
   "cell_type": "markdown",
   "id": "5d09a5b7",
   "metadata": {},
   "source": [
    "### TreeValue's Get and Set"
   ]
  },
  {
   "cell_type": "code",
   "execution_count": 2,
   "id": "9519c4bb",
   "metadata": {
    "execution": {
     "iopub.execute_input": "2023-08-10T14:56:48.020190Z",
     "iopub.status.busy": "2023-08-10T14:56:48.019511Z",
     "iopub.status.idle": "2023-08-10T14:56:48.054147Z",
     "shell.execute_reply": "2023-08-10T14:56:48.053333Z"
    }
   },
   "outputs": [],
   "source": [
    "from treevalue import FastTreeValue\n",
    "\n",
    "t = FastTreeValue(_TREE_DATA_2)"
   ]
  },
  {
   "cell_type": "code",
   "execution_count": 3,
   "id": "11c37677",
   "metadata": {
    "execution": {
     "iopub.execute_input": "2023-08-10T14:56:48.058176Z",
     "iopub.status.busy": "2023-08-10T14:56:48.057880Z",
     "iopub.status.idle": "2023-08-10T14:56:48.071425Z",
     "shell.execute_reply": "2023-08-10T14:56:48.070647Z"
    }
   },
   "outputs": [
    {
     "data": {
      "text/plain": [
       "<FastTreeValue 0x7f51adf575e0>\n",
       "├── 'a' --> tensor([[ 2.0032,  0.9398,  0.1247],\n",
       "│                   [-0.3039,  0.9653,  0.4137]])\n",
       "└── 'x' --> <FastTreeValue 0x7f51adf57160>\n",
       "    └── 'c' --> tensor([[-0.4802, -0.4363,  1.1402, -0.0180],\n",
       "                        [-1.7043, -1.2722, -1.3475, -1.8720],\n",
       "                        [-0.3147,  0.1626,  0.8728, -0.0556]])"
      ]
     },
     "execution_count": 3,
     "metadata": {},
     "output_type": "execute_result"
    }
   ],
   "source": [
    "t"
   ]
  },
  {
   "cell_type": "code",
   "execution_count": 4,
   "id": "fd70b0b9",
   "metadata": {
    "execution": {
     "iopub.execute_input": "2023-08-10T14:56:48.075563Z",
     "iopub.status.busy": "2023-08-10T14:56:48.075029Z",
     "iopub.status.idle": "2023-08-10T14:56:48.084109Z",
     "shell.execute_reply": "2023-08-10T14:56:48.083296Z"
    }
   },
   "outputs": [
    {
     "data": {
      "text/plain": [
       "tensor([[ 2.0032,  0.9398,  0.1247],\n",
       "        [-0.3039,  0.9653,  0.4137]])"
      ]
     },
     "execution_count": 4,
     "metadata": {},
     "output_type": "execute_result"
    }
   ],
   "source": [
    "t.a"
   ]
  },
  {
   "cell_type": "code",
   "execution_count": 5,
   "id": "c18197bd",
   "metadata": {
    "execution": {
     "iopub.execute_input": "2023-08-10T14:56:48.087966Z",
     "iopub.status.busy": "2023-08-10T14:56:48.087460Z",
     "iopub.status.idle": "2023-08-10T14:56:55.308774Z",
     "shell.execute_reply": "2023-08-10T14:56:55.307702Z"
    }
   },
   "outputs": [
    {
     "name": "stdout",
     "output_type": "stream",
     "text": [
      "88.8 ns ± 0.919 ns per loop (mean ± std. dev. of 7 runs, 10,000,000 loops each)\n"
     ]
    }
   ],
   "source": [
    "%timeit t.a"
   ]
  },
  {
   "cell_type": "code",
   "execution_count": 6,
   "id": "bd52f867",
   "metadata": {
    "execution": {
     "iopub.execute_input": "2023-08-10T14:56:55.312937Z",
     "iopub.status.busy": "2023-08-10T14:56:55.312364Z",
     "iopub.status.idle": "2023-08-10T14:56:55.319940Z",
     "shell.execute_reply": "2023-08-10T14:56:55.319034Z"
    }
   },
   "outputs": [
    {
     "data": {
      "text/plain": [
       "<FastTreeValue 0x7f51adf575e0>\n",
       "├── 'a' --> tensor([[-0.3251,  0.0214, -0.2442],\n",
       "│                   [-1.9965, -1.8439, -1.8390]])\n",
       "└── 'x' --> <FastTreeValue 0x7f51adf57160>\n",
       "    └── 'c' --> tensor([[-0.4802, -0.4363,  1.1402, -0.0180],\n",
       "                        [-1.7043, -1.2722, -1.3475, -1.8720],\n",
       "                        [-0.3147,  0.1626,  0.8728, -0.0556]])"
      ]
     },
     "execution_count": 6,
     "metadata": {},
     "output_type": "execute_result"
    }
   ],
   "source": [
    "new_value = torch.randn(2, 3)\n",
    "t.a = new_value\n",
    "\n",
    "t"
   ]
  },
  {
   "cell_type": "code",
   "execution_count": 7,
   "id": "bbe04d1c",
   "metadata": {
    "execution": {
     "iopub.execute_input": "2023-08-10T14:56:55.326126Z",
     "iopub.status.busy": "2023-08-10T14:56:55.323412Z",
     "iopub.status.idle": "2023-08-10T14:57:02.633554Z",
     "shell.execute_reply": "2023-08-10T14:57:02.632627Z"
    }
   },
   "outputs": [
    {
     "name": "stdout",
     "output_type": "stream",
     "text": [
      "89.9 ns ± 0.912 ns per loop (mean ± std. dev. of 7 runs, 10,000,000 loops each)\n"
     ]
    }
   ],
   "source": [
    "%timeit t.a = new_value"
   ]
  },
  {
   "cell_type": "markdown",
   "id": "48c49731",
   "metadata": {},
   "source": [
    "### Tianshou Batch's Get and Set"
   ]
  },
  {
   "cell_type": "code",
   "execution_count": 8,
   "id": "f1bb14c1",
   "metadata": {
    "execution": {
     "iopub.execute_input": "2023-08-10T14:57:02.637786Z",
     "iopub.status.busy": "2023-08-10T14:57:02.637262Z",
     "iopub.status.idle": "2023-08-10T14:57:03.087830Z",
     "shell.execute_reply": "2023-08-10T14:57:03.087032Z"
    }
   },
   "outputs": [],
   "source": [
    "from tianshou.data import Batch\n",
    "\n",
    "b = Batch(**_TREE_DATA_2)"
   ]
  },
  {
   "cell_type": "code",
   "execution_count": 9,
   "id": "cb0777c3",
   "metadata": {
    "execution": {
     "iopub.execute_input": "2023-08-10T14:57:03.092732Z",
     "iopub.status.busy": "2023-08-10T14:57:03.092047Z",
     "iopub.status.idle": "2023-08-10T14:57:03.099158Z",
     "shell.execute_reply": "2023-08-10T14:57:03.098341Z"
    }
   },
   "outputs": [
    {
     "data": {
      "text/plain": [
       "Batch(\n",
       "    a: tensor([[ 2.0032,  0.9398,  0.1247],\n",
       "               [-0.3039,  0.9653,  0.4137]]),\n",
       "    x: Batch(\n",
       "           c: tensor([[-0.4802, -0.4363,  1.1402, -0.0180],\n",
       "                      [-1.7043, -1.2722, -1.3475, -1.8720],\n",
       "                      [-0.3147,  0.1626,  0.8728, -0.0556]]),\n",
       "       ),\n",
       ")"
      ]
     },
     "execution_count": 9,
     "metadata": {},
     "output_type": "execute_result"
    }
   ],
   "source": [
    "b"
   ]
  },
  {
   "cell_type": "code",
   "execution_count": 10,
   "id": "43ef8ea3",
   "metadata": {
    "execution": {
     "iopub.execute_input": "2023-08-10T14:57:03.102929Z",
     "iopub.status.busy": "2023-08-10T14:57:03.102395Z",
     "iopub.status.idle": "2023-08-10T14:57:03.108299Z",
     "shell.execute_reply": "2023-08-10T14:57:03.107442Z"
    }
   },
   "outputs": [
    {
     "data": {
      "text/plain": [
       "tensor([[ 2.0032,  0.9398,  0.1247],\n",
       "        [-0.3039,  0.9653,  0.4137]])"
      ]
     },
     "execution_count": 10,
     "metadata": {},
     "output_type": "execute_result"
    }
   ],
   "source": [
    "b.a"
   ]
  },
  {
   "cell_type": "code",
   "execution_count": 11,
   "id": "b785ab72",
   "metadata": {
    "execution": {
     "iopub.execute_input": "2023-08-10T14:57:03.112855Z",
     "iopub.status.busy": "2023-08-10T14:57:03.112087Z",
     "iopub.status.idle": "2023-08-10T14:57:09.262329Z",
     "shell.execute_reply": "2023-08-10T14:57:09.260809Z"
    }
   },
   "outputs": [
    {
     "name": "stdout",
     "output_type": "stream",
     "text": [
      "75.7 ns ± 0.594 ns per loop (mean ± std. dev. of 7 runs, 10,000,000 loops each)\n"
     ]
    }
   ],
   "source": [
    "%timeit b.a"
   ]
  },
  {
   "cell_type": "code",
   "execution_count": 12,
   "id": "ad54dc69",
   "metadata": {
    "execution": {
     "iopub.execute_input": "2023-08-10T14:57:09.266332Z",
     "iopub.status.busy": "2023-08-10T14:57:09.265770Z",
     "iopub.status.idle": "2023-08-10T14:57:09.274341Z",
     "shell.execute_reply": "2023-08-10T14:57:09.273587Z"
    }
   },
   "outputs": [
    {
     "data": {
      "text/plain": [
       "Batch(\n",
       "    a: tensor([[-0.0523, -0.8453, -0.0454],\n",
       "               [ 0.3319,  0.2453,  0.6680]]),\n",
       "    x: Batch(\n",
       "           c: tensor([[-0.4802, -0.4363,  1.1402, -0.0180],\n",
       "                      [-1.7043, -1.2722, -1.3475, -1.8720],\n",
       "                      [-0.3147,  0.1626,  0.8728, -0.0556]]),\n",
       "       ),\n",
       ")"
      ]
     },
     "execution_count": 12,
     "metadata": {},
     "output_type": "execute_result"
    }
   ],
   "source": [
    "new_value = torch.randn(2, 3)\n",
    "b.a = new_value\n",
    "\n",
    "b"
   ]
  },
  {
   "cell_type": "code",
   "execution_count": 13,
   "id": "29b1d0bf",
   "metadata": {
    "execution": {
     "iopub.execute_input": "2023-08-10T14:57:09.277864Z",
     "iopub.status.busy": "2023-08-10T14:57:09.277343Z",
     "iopub.status.idle": "2023-08-10T14:57:14.435851Z",
     "shell.execute_reply": "2023-08-10T14:57:14.434933Z"
    }
   },
   "outputs": [
    {
     "name": "stdout",
     "output_type": "stream",
     "text": [
      "636 ns ± 7.17 ns per loop (mean ± std. dev. of 7 runs, 1,000,000 loops each)\n"
     ]
    }
   ],
   "source": [
    "%timeit b.a = new_value"
   ]
  },
  {
   "cell_type": "markdown",
   "id": "b61ad1d0",
   "metadata": {},
   "source": [
    "## Initialization"
   ]
  },
  {
   "cell_type": "markdown",
   "id": "d70f0d54",
   "metadata": {},
   "source": [
    "### TreeValue's Initialization"
   ]
  },
  {
   "cell_type": "code",
   "execution_count": 14,
   "id": "d32a679b",
   "metadata": {
    "execution": {
     "iopub.execute_input": "2023-08-10T14:57:14.440078Z",
     "iopub.status.busy": "2023-08-10T14:57:14.439407Z",
     "iopub.status.idle": "2023-08-10T14:57:22.624771Z",
     "shell.execute_reply": "2023-08-10T14:57:22.623991Z"
    }
   },
   "outputs": [
    {
     "name": "stdout",
     "output_type": "stream",
     "text": [
      "1.01 µs ± 18 ns per loop (mean ± std. dev. of 7 runs, 1,000,000 loops each)\n"
     ]
    }
   ],
   "source": [
    "%timeit FastTreeValue(_TREE_DATA_1)"
   ]
  },
  {
   "cell_type": "markdown",
   "id": "24f3707b",
   "metadata": {},
   "source": [
    "### Tianshou Batch's Initialization"
   ]
  },
  {
   "cell_type": "code",
   "execution_count": 15,
   "id": "ac3958df",
   "metadata": {
    "execution": {
     "iopub.execute_input": "2023-08-10T14:57:22.628756Z",
     "iopub.status.busy": "2023-08-10T14:57:22.628159Z",
     "iopub.status.idle": "2023-08-10T14:57:32.529697Z",
     "shell.execute_reply": "2023-08-10T14:57:32.528528Z"
    }
   },
   "outputs": [
    {
     "name": "stdout",
     "output_type": "stream",
     "text": [
      "12.2 µs ± 131 ns per loop (mean ± std. dev. of 7 runs, 100,000 loops each)\n"
     ]
    }
   ],
   "source": [
    "%timeit Batch(**_TREE_DATA_1)"
   ]
  },
  {
   "cell_type": "markdown",
   "id": "1ab82e2d",
   "metadata": {},
   "source": [
    "## Deep Copy Operation"
   ]
  },
  {
   "cell_type": "code",
   "execution_count": 16,
   "id": "210a9442",
   "metadata": {
    "execution": {
     "iopub.execute_input": "2023-08-10T14:57:32.534627Z",
     "iopub.status.busy": "2023-08-10T14:57:32.533984Z",
     "iopub.status.idle": "2023-08-10T14:57:32.537649Z",
     "shell.execute_reply": "2023-08-10T14:57:32.536903Z"
    }
   },
   "outputs": [],
   "source": [
    "import copy"
   ]
  },
  {
   "cell_type": "markdown",
   "id": "5a736274",
   "metadata": {},
   "source": [
    "### Deep Copy of TreeValue"
   ]
  },
  {
   "cell_type": "code",
   "execution_count": 17,
   "id": "f9bcadd6",
   "metadata": {
    "execution": {
     "iopub.execute_input": "2023-08-10T14:57:32.541475Z",
     "iopub.status.busy": "2023-08-10T14:57:32.540732Z",
     "iopub.status.idle": "2023-08-10T14:57:45.722149Z",
     "shell.execute_reply": "2023-08-10T14:57:45.721219Z"
    }
   },
   "outputs": [
    {
     "name": "stdout",
     "output_type": "stream",
     "text": [
      "162 µs ± 1.34 µs per loop (mean ± std. dev. of 7 runs, 10,000 loops each)\n"
     ]
    }
   ],
   "source": [
    "t3 = FastTreeValue(_TREE_DATA_3)\n",
    "%timeit copy.deepcopy(t3)"
   ]
  },
  {
   "cell_type": "markdown",
   "id": "bf8be7ea",
   "metadata": {},
   "source": [
    "### Deep Copy of Tianshou Batch"
   ]
  },
  {
   "cell_type": "code",
   "execution_count": 18,
   "id": "91998e6f",
   "metadata": {
    "execution": {
     "iopub.execute_input": "2023-08-10T14:57:45.726206Z",
     "iopub.status.busy": "2023-08-10T14:57:45.725629Z",
     "iopub.status.idle": "2023-08-10T14:57:59.085711Z",
     "shell.execute_reply": "2023-08-10T14:57:59.084777Z"
    }
   },
   "outputs": [
    {
     "name": "stdout",
     "output_type": "stream",
     "text": [
      "165 µs ± 887 ns per loop (mean ± std. dev. of 7 runs, 10,000 loops each)\n"
     ]
    }
   ],
   "source": [
    "b3 = Batch(**_TREE_DATA_3)\n",
    "%timeit copy.deepcopy(b3)"
   ]
  },
  {
   "cell_type": "markdown",
   "id": "223162fb",
   "metadata": {},
   "source": [
    "## Stack, Concat and Split Operation"
   ]
  },
  {
   "cell_type": "markdown",
   "id": "85fa4a73",
   "metadata": {},
   "source": [
    "### Performance of TreeValue"
   ]
  },
  {
   "cell_type": "code",
   "execution_count": 19,
   "id": "a0c2b697",
   "metadata": {
    "execution": {
     "iopub.execute_input": "2023-08-10T14:57:59.090317Z",
     "iopub.status.busy": "2023-08-10T14:57:59.089540Z",
     "iopub.status.idle": "2023-08-10T14:57:59.093802Z",
     "shell.execute_reply": "2023-08-10T14:57:59.093111Z"
    }
   },
   "outputs": [],
   "source": [
    "trees = [FastTreeValue(_TREE_DATA_2) for _ in range(8)]"
   ]
  },
  {
   "cell_type": "code",
   "execution_count": 20,
   "id": "017ea5a5",
   "metadata": {
    "execution": {
     "iopub.execute_input": "2023-08-10T14:57:59.097251Z",
     "iopub.status.busy": "2023-08-10T14:57:59.096997Z",
     "iopub.status.idle": "2023-08-10T14:57:59.106103Z",
     "shell.execute_reply": "2023-08-10T14:57:59.105271Z"
    }
   },
   "outputs": [
    {
     "data": {
      "text/plain": [
       "<FastTreeValue 0x7f50e64ebc70>\n",
       "├── 'a' --> tensor([[[ 2.0032,  0.9398,  0.1247],\n",
       "│                    [-0.3039,  0.9653,  0.4137]],\n",
       "│           \n",
       "│                   [[ 2.0032,  0.9398,  0.1247],\n",
       "│                    [-0.3039,  0.9653,  0.4137]],\n",
       "│           \n",
       "│                   [[ 2.0032,  0.9398,  0.1247],\n",
       "│                    [-0.3039,  0.9653,  0.4137]],\n",
       "│           \n",
       "│                   [[ 2.0032,  0.9398,  0.1247],\n",
       "│                    [-0.3039,  0.9653,  0.4137]],\n",
       "│           \n",
       "│                   [[ 2.0032,  0.9398,  0.1247],\n",
       "│                    [-0.3039,  0.9653,  0.4137]],\n",
       "│           \n",
       "│                   [[ 2.0032,  0.9398,  0.1247],\n",
       "│                    [-0.3039,  0.9653,  0.4137]],\n",
       "│           \n",
       "│                   [[ 2.0032,  0.9398,  0.1247],\n",
       "│                    [-0.3039,  0.9653,  0.4137]],\n",
       "│           \n",
       "│                   [[ 2.0032,  0.9398,  0.1247],\n",
       "│                    [-0.3039,  0.9653,  0.4137]]])\n",
       "└── 'x' --> <FastTreeValue 0x7f50de125f40>\n",
       "    └── 'c' --> tensor([[[-0.4802, -0.4363,  1.1402, -0.0180],\n",
       "                         [-1.7043, -1.2722, -1.3475, -1.8720],\n",
       "                         [-0.3147,  0.1626,  0.8728, -0.0556]],\n",
       "                \n",
       "                        [[-0.4802, -0.4363,  1.1402, -0.0180],\n",
       "                         [-1.7043, -1.2722, -1.3475, -1.8720],\n",
       "                         [-0.3147,  0.1626,  0.8728, -0.0556]],\n",
       "                \n",
       "                        [[-0.4802, -0.4363,  1.1402, -0.0180],\n",
       "                         [-1.7043, -1.2722, -1.3475, -1.8720],\n",
       "                         [-0.3147,  0.1626,  0.8728, -0.0556]],\n",
       "                \n",
       "                        [[-0.4802, -0.4363,  1.1402, -0.0180],\n",
       "                         [-1.7043, -1.2722, -1.3475, -1.8720],\n",
       "                         [-0.3147,  0.1626,  0.8728, -0.0556]],\n",
       "                \n",
       "                        [[-0.4802, -0.4363,  1.1402, -0.0180],\n",
       "                         [-1.7043, -1.2722, -1.3475, -1.8720],\n",
       "                         [-0.3147,  0.1626,  0.8728, -0.0556]],\n",
       "                \n",
       "                        [[-0.4802, -0.4363,  1.1402, -0.0180],\n",
       "                         [-1.7043, -1.2722, -1.3475, -1.8720],\n",
       "                         [-0.3147,  0.1626,  0.8728, -0.0556]],\n",
       "                \n",
       "                        [[-0.4802, -0.4363,  1.1402, -0.0180],\n",
       "                         [-1.7043, -1.2722, -1.3475, -1.8720],\n",
       "                         [-0.3147,  0.1626,  0.8728, -0.0556]],\n",
       "                \n",
       "                        [[-0.4802, -0.4363,  1.1402, -0.0180],\n",
       "                         [-1.7043, -1.2722, -1.3475, -1.8720],\n",
       "                         [-0.3147,  0.1626,  0.8728, -0.0556]]])"
      ]
     },
     "execution_count": 20,
     "metadata": {},
     "output_type": "execute_result"
    }
   ],
   "source": [
    "t_stack = FastTreeValue.func(subside=True)(torch.stack)\n",
    "\n",
    "t_stack(trees)"
   ]
  },
  {
   "cell_type": "code",
   "execution_count": 21,
   "id": "f8b3f415",
   "metadata": {
    "execution": {
     "iopub.execute_input": "2023-08-10T14:57:59.110020Z",
     "iopub.status.busy": "2023-08-10T14:57:59.109355Z",
     "iopub.status.idle": "2023-08-10T14:58:02.173155Z",
     "shell.execute_reply": "2023-08-10T14:58:02.172255Z"
    }
   },
   "outputs": [
    {
     "name": "stdout",
     "output_type": "stream",
     "text": [
      "37.7 µs ± 1.05 µs per loop (mean ± std. dev. of 7 runs, 10,000 loops each)\n"
     ]
    }
   ],
   "source": [
    "%timeit t_stack(trees)"
   ]
  },
  {
   "cell_type": "code",
   "execution_count": 22,
   "id": "94b56771",
   "metadata": {
    "execution": {
     "iopub.execute_input": "2023-08-10T14:58:02.179792Z",
     "iopub.status.busy": "2023-08-10T14:58:02.179196Z",
     "iopub.status.idle": "2023-08-10T14:58:02.188361Z",
     "shell.execute_reply": "2023-08-10T14:58:02.187494Z"
    }
   },
   "outputs": [
    {
     "data": {
      "text/plain": [
       "<FastTreeValue 0x7f50de0fdbe0>\n",
       "├── 'a' --> tensor([[ 2.0032,  0.9398,  0.1247],\n",
       "│                   [-0.3039,  0.9653,  0.4137],\n",
       "│                   [ 2.0032,  0.9398,  0.1247],\n",
       "│                   [-0.3039,  0.9653,  0.4137],\n",
       "│                   [ 2.0032,  0.9398,  0.1247],\n",
       "│                   [-0.3039,  0.9653,  0.4137],\n",
       "│                   [ 2.0032,  0.9398,  0.1247],\n",
       "│                   [-0.3039,  0.9653,  0.4137],\n",
       "│                   [ 2.0032,  0.9398,  0.1247],\n",
       "│                   [-0.3039,  0.9653,  0.4137],\n",
       "│                   [ 2.0032,  0.9398,  0.1247],\n",
       "│                   [-0.3039,  0.9653,  0.4137],\n",
       "│                   [ 2.0032,  0.9398,  0.1247],\n",
       "│                   [-0.3039,  0.9653,  0.4137],\n",
       "│                   [ 2.0032,  0.9398,  0.1247],\n",
       "│                   [-0.3039,  0.9653,  0.4137]])\n",
       "└── 'x' --> <FastTreeValue 0x7f50de0fd970>\n",
       "    └── 'c' --> tensor([[-0.4802, -0.4363,  1.1402, -0.0180],\n",
       "                        [-1.7043, -1.2722, -1.3475, -1.8720],\n",
       "                        [-0.3147,  0.1626,  0.8728, -0.0556],\n",
       "                        [-0.4802, -0.4363,  1.1402, -0.0180],\n",
       "                        [-1.7043, -1.2722, -1.3475, -1.8720],\n",
       "                        [-0.3147,  0.1626,  0.8728, -0.0556],\n",
       "                        [-0.4802, -0.4363,  1.1402, -0.0180],\n",
       "                        [-1.7043, -1.2722, -1.3475, -1.8720],\n",
       "                        [-0.3147,  0.1626,  0.8728, -0.0556],\n",
       "                        [-0.4802, -0.4363,  1.1402, -0.0180],\n",
       "                        [-1.7043, -1.2722, -1.3475, -1.8720],\n",
       "                        [-0.3147,  0.1626,  0.8728, -0.0556],\n",
       "                        [-0.4802, -0.4363,  1.1402, -0.0180],\n",
       "                        [-1.7043, -1.2722, -1.3475, -1.8720],\n",
       "                        [-0.3147,  0.1626,  0.8728, -0.0556],\n",
       "                        [-0.4802, -0.4363,  1.1402, -0.0180],\n",
       "                        [-1.7043, -1.2722, -1.3475, -1.8720],\n",
       "                        [-0.3147,  0.1626,  0.8728, -0.0556],\n",
       "                        [-0.4802, -0.4363,  1.1402, -0.0180],\n",
       "                        [-1.7043, -1.2722, -1.3475, -1.8720],\n",
       "                        [-0.3147,  0.1626,  0.8728, -0.0556],\n",
       "                        [-0.4802, -0.4363,  1.1402, -0.0180],\n",
       "                        [-1.7043, -1.2722, -1.3475, -1.8720],\n",
       "                        [-0.3147,  0.1626,  0.8728, -0.0556]])"
      ]
     },
     "execution_count": 22,
     "metadata": {},
     "output_type": "execute_result"
    }
   ],
   "source": [
    "t_cat = FastTreeValue.func(subside=True)(torch.cat)\n",
    "\n",
    "t_cat(trees)"
   ]
  },
  {
   "cell_type": "code",
   "execution_count": 23,
   "id": "5e9c06a6",
   "metadata": {
    "execution": {
     "iopub.execute_input": "2023-08-10T14:58:02.192560Z",
     "iopub.status.busy": "2023-08-10T14:58:02.191833Z",
     "iopub.status.idle": "2023-08-10T14:58:05.098039Z",
     "shell.execute_reply": "2023-08-10T14:58:05.097141Z"
    }
   },
   "outputs": [
    {
     "name": "stdout",
     "output_type": "stream",
     "text": [
      "35.7 µs ± 255 ns per loop (mean ± std. dev. of 7 runs, 10,000 loops each)\n"
     ]
    }
   ],
   "source": [
    "%timeit t_cat(trees)"
   ]
  },
  {
   "cell_type": "code",
   "execution_count": 24,
   "id": "a3ab5c8f",
   "metadata": {
    "execution": {
     "iopub.execute_input": "2023-08-10T14:58:05.102288Z",
     "iopub.status.busy": "2023-08-10T14:58:05.101473Z",
     "iopub.status.idle": "2023-08-10T14:58:11.294443Z",
     "shell.execute_reply": "2023-08-10T14:58:11.293599Z"
    }
   },
   "outputs": [
    {
     "name": "stdout",
     "output_type": "stream",
     "text": [
      "75.9 µs ± 947 ns per loop (mean ± std. dev. of 7 runs, 10,000 loops each)\n"
     ]
    }
   ],
   "source": [
    "t_split = FastTreeValue.func(rise=True)(torch.split)\n",
    "tree = FastTreeValue({\n",
    "    'obs': torch.randn(8, 4, 84, 84),\n",
    "    'action': torch.randint(0, 6, size=(8, 1,)),\n",
    "    'reward': torch.rand(8, 1),\n",
    "})\n",
    "\n",
    "%timeit t_split(tree, 1)"
   ]
  },
  {
   "cell_type": "markdown",
   "id": "31c3ec0b",
   "metadata": {},
   "source": [
    "### Performance of Tianshou Batch"
   ]
  },
  {
   "cell_type": "code",
   "execution_count": 25,
   "id": "9ead828a",
   "metadata": {
    "execution": {
     "iopub.execute_input": "2023-08-10T14:58:11.298512Z",
     "iopub.status.busy": "2023-08-10T14:58:11.298051Z",
     "iopub.status.idle": "2023-08-10T14:58:11.307565Z",
     "shell.execute_reply": "2023-08-10T14:58:11.306711Z"
    }
   },
   "outputs": [
    {
     "data": {
      "text/plain": [
       "Batch(\n",
       "    a: tensor([[[ 2.0032,  0.9398,  0.1247],\n",
       "                [-0.3039,  0.9653,  0.4137]],\n",
       "       \n",
       "               [[ 2.0032,  0.9398,  0.1247],\n",
       "                [-0.3039,  0.9653,  0.4137]],\n",
       "       \n",
       "               [[ 2.0032,  0.9398,  0.1247],\n",
       "                [-0.3039,  0.9653,  0.4137]],\n",
       "       \n",
       "               [[ 2.0032,  0.9398,  0.1247],\n",
       "                [-0.3039,  0.9653,  0.4137]],\n",
       "       \n",
       "               [[ 2.0032,  0.9398,  0.1247],\n",
       "                [-0.3039,  0.9653,  0.4137]],\n",
       "       \n",
       "               [[ 2.0032,  0.9398,  0.1247],\n",
       "                [-0.3039,  0.9653,  0.4137]],\n",
       "       \n",
       "               [[ 2.0032,  0.9398,  0.1247],\n",
       "                [-0.3039,  0.9653,  0.4137]],\n",
       "       \n",
       "               [[ 2.0032,  0.9398,  0.1247],\n",
       "                [-0.3039,  0.9653,  0.4137]]]),\n",
       "    x: Batch(\n",
       "           c: tensor([[[-0.4802, -0.4363,  1.1402, -0.0180],\n",
       "                       [-1.7043, -1.2722, -1.3475, -1.8720],\n",
       "                       [-0.3147,  0.1626,  0.8728, -0.0556]],\n",
       "              \n",
       "                      [[-0.4802, -0.4363,  1.1402, -0.0180],\n",
       "                       [-1.7043, -1.2722, -1.3475, -1.8720],\n",
       "                       [-0.3147,  0.1626,  0.8728, -0.0556]],\n",
       "              \n",
       "                      [[-0.4802, -0.4363,  1.1402, -0.0180],\n",
       "                       [-1.7043, -1.2722, -1.3475, -1.8720],\n",
       "                       [-0.3147,  0.1626,  0.8728, -0.0556]],\n",
       "              \n",
       "                      [[-0.4802, -0.4363,  1.1402, -0.0180],\n",
       "                       [-1.7043, -1.2722, -1.3475, -1.8720],\n",
       "                       [-0.3147,  0.1626,  0.8728, -0.0556]],\n",
       "              \n",
       "                      [[-0.4802, -0.4363,  1.1402, -0.0180],\n",
       "                       [-1.7043, -1.2722, -1.3475, -1.8720],\n",
       "                       [-0.3147,  0.1626,  0.8728, -0.0556]],\n",
       "              \n",
       "                      [[-0.4802, -0.4363,  1.1402, -0.0180],\n",
       "                       [-1.7043, -1.2722, -1.3475, -1.8720],\n",
       "                       [-0.3147,  0.1626,  0.8728, -0.0556]],\n",
       "              \n",
       "                      [[-0.4802, -0.4363,  1.1402, -0.0180],\n",
       "                       [-1.7043, -1.2722, -1.3475, -1.8720],\n",
       "                       [-0.3147,  0.1626,  0.8728, -0.0556]],\n",
       "              \n",
       "                      [[-0.4802, -0.4363,  1.1402, -0.0180],\n",
       "                       [-1.7043, -1.2722, -1.3475, -1.8720],\n",
       "                       [-0.3147,  0.1626,  0.8728, -0.0556]]]),\n",
       "       ),\n",
       ")"
      ]
     },
     "execution_count": 25,
     "metadata": {},
     "output_type": "execute_result"
    }
   ],
   "source": [
    "batches = [Batch(**_TREE_DATA_2) for _ in range(8)]\n",
    "\n",
    "Batch.stack(batches)"
   ]
  },
  {
   "cell_type": "code",
   "execution_count": 26,
   "id": "ec9037a3",
   "metadata": {
    "execution": {
     "iopub.execute_input": "2023-08-10T14:58:11.311390Z",
     "iopub.status.busy": "2023-08-10T14:58:11.311094Z",
     "iopub.status.idle": "2023-08-10T14:58:19.107422Z",
     "shell.execute_reply": "2023-08-10T14:58:19.106526Z"
    }
   },
   "outputs": [
    {
     "name": "stdout",
     "output_type": "stream",
     "text": [
      "96.2 µs ± 1.03 µs per loop (mean ± std. dev. of 7 runs, 10,000 loops each)\n"
     ]
    }
   ],
   "source": [
    "%timeit Batch.stack(batches)"
   ]
  },
  {
   "cell_type": "code",
   "execution_count": 27,
   "id": "cb8ab77e",
   "metadata": {
    "execution": {
     "iopub.execute_input": "2023-08-10T14:58:19.112377Z",
     "iopub.status.busy": "2023-08-10T14:58:19.111650Z",
     "iopub.status.idle": "2023-08-10T14:58:19.121420Z",
     "shell.execute_reply": "2023-08-10T14:58:19.120686Z"
    }
   },
   "outputs": [
    {
     "data": {
      "text/plain": [
       "Batch(\n",
       "    a: tensor([[ 2.0032,  0.9398,  0.1247],\n",
       "               [-0.3039,  0.9653,  0.4137],\n",
       "               [ 2.0032,  0.9398,  0.1247],\n",
       "               [-0.3039,  0.9653,  0.4137],\n",
       "               [ 2.0032,  0.9398,  0.1247],\n",
       "               [-0.3039,  0.9653,  0.4137],\n",
       "               [ 2.0032,  0.9398,  0.1247],\n",
       "               [-0.3039,  0.9653,  0.4137],\n",
       "               [ 2.0032,  0.9398,  0.1247],\n",
       "               [-0.3039,  0.9653,  0.4137],\n",
       "               [ 2.0032,  0.9398,  0.1247],\n",
       "               [-0.3039,  0.9653,  0.4137],\n",
       "               [ 2.0032,  0.9398,  0.1247],\n",
       "               [-0.3039,  0.9653,  0.4137],\n",
       "               [ 2.0032,  0.9398,  0.1247],\n",
       "               [-0.3039,  0.9653,  0.4137]]),\n",
       "    x: Batch(\n",
       "           c: tensor([[-0.4802, -0.4363,  1.1402, -0.0180],\n",
       "                      [-1.7043, -1.2722, -1.3475, -1.8720],\n",
       "                      [-0.3147,  0.1626,  0.8728, -0.0556],\n",
       "                      [-0.4802, -0.4363,  1.1402, -0.0180],\n",
       "                      [-1.7043, -1.2722, -1.3475, -1.8720],\n",
       "                      [-0.3147,  0.1626,  0.8728, -0.0556],\n",
       "                      [-0.4802, -0.4363,  1.1402, -0.0180],\n",
       "                      [-1.7043, -1.2722, -1.3475, -1.8720],\n",
       "                      [-0.3147,  0.1626,  0.8728, -0.0556],\n",
       "                      [-0.4802, -0.4363,  1.1402, -0.0180],\n",
       "                      [-1.7043, -1.2722, -1.3475, -1.8720],\n",
       "                      [-0.3147,  0.1626,  0.8728, -0.0556],\n",
       "                      [-0.4802, -0.4363,  1.1402, -0.0180],\n",
       "                      [-1.7043, -1.2722, -1.3475, -1.8720],\n",
       "                      [-0.3147,  0.1626,  0.8728, -0.0556],\n",
       "                      [-0.4802, -0.4363,  1.1402, -0.0180],\n",
       "                      [-1.7043, -1.2722, -1.3475, -1.8720],\n",
       "                      [-0.3147,  0.1626,  0.8728, -0.0556],\n",
       "                      [-0.4802, -0.4363,  1.1402, -0.0180],\n",
       "                      [-1.7043, -1.2722, -1.3475, -1.8720],\n",
       "                      [-0.3147,  0.1626,  0.8728, -0.0556],\n",
       "                      [-0.4802, -0.4363,  1.1402, -0.0180],\n",
       "                      [-1.7043, -1.2722, -1.3475, -1.8720],\n",
       "                      [-0.3147,  0.1626,  0.8728, -0.0556]]),\n",
       "       ),\n",
       ")"
      ]
     },
     "execution_count": 27,
     "metadata": {},
     "output_type": "execute_result"
    }
   ],
   "source": [
    "Batch.cat(batches)"
   ]
  },
  {
   "cell_type": "code",
   "execution_count": 28,
   "id": "18dfb045",
   "metadata": {
    "execution": {
     "iopub.execute_input": "2023-08-10T14:58:19.124847Z",
     "iopub.status.busy": "2023-08-10T14:58:19.124405Z",
     "iopub.status.idle": "2023-08-10T14:58:33.171713Z",
     "shell.execute_reply": "2023-08-10T14:58:33.170827Z"
    }
   },
   "outputs": [
    {
     "name": "stdout",
     "output_type": "stream",
     "text": [
      "173 µs ± 1.27 µs per loop (mean ± std. dev. of 7 runs, 10,000 loops each)\n"
     ]
    }
   ],
   "source": [
    "%timeit Batch.cat(batches)"
   ]
  },
  {
   "cell_type": "code",
   "execution_count": 29,
   "id": "c6688e51",
   "metadata": {
    "execution": {
     "iopub.execute_input": "2023-08-10T14:58:33.175820Z",
     "iopub.status.busy": "2023-08-10T14:58:33.175245Z",
     "iopub.status.idle": "2023-08-10T14:58:36.463499Z",
     "shell.execute_reply": "2023-08-10T14:58:36.462766Z"
    }
   },
   "outputs": [
    {
     "name": "stdout",
     "output_type": "stream",
     "text": [
      "405 µs ± 5.78 µs per loop (mean ± std. dev. of 7 runs, 1,000 loops each)\n"
     ]
    }
   ],
   "source": [
    "batch = Batch({\n",
    "    'obs': torch.randn(8, 4, 84, 84),\n",
    "    'action': torch.randint(0, 6, size=(8, 1,)),\n",
    "    'reward': torch.rand(8, 1)}\n",
    ")\n",
    "\n",
    "%timeit list(Batch.split(batch, 1, shuffle=False, merge_last=True))"
   ]
  },
  {
   "cell_type": "code",
   "execution_count": null,
   "id": "2539fbd9",
   "metadata": {},
   "outputs": [],
   "source": []
  }
 ],
 "metadata": {
  "kernelspec": {
   "display_name": "Python 3 (ipykernel)",
   "language": "python",
   "name": "python3"
  },
  "language_info": {
   "codemirror_mode": {
    "name": "ipython",
    "version": 3
   },
   "file_extension": ".py",
   "mimetype": "text/x-python",
   "name": "python",
   "nbconvert_exporter": "python",
   "pygments_lexer": "ipython3",
   "version": "3.8.17"
  }
 },
 "nbformat": 4,
 "nbformat_minor": 5
}
