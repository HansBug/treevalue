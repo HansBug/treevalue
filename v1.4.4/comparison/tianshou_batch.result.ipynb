{
 "cells": [
  {
   "cell_type": "markdown",
   "id": "9d39d946",
   "metadata": {},
   "source": [
    "# Comparison Between TreeValue and Tianshou Batch"
   ]
  },
  {
   "cell_type": "markdown",
   "id": "3c6db2d4",
   "metadata": {},
   "source": [
    "In this section, we will take a look at the feature and performance of the [Tianshou Batch](https://github.com/thu-ml/tianshou) library, which is developed by Tsinghua Machine Learning Group."
   ]
  },
  {
   "cell_type": "markdown",
   "id": "069361b0",
   "metadata": {},
   "source": [
    "Before starting the comparison, let us define some thing."
   ]
  },
  {
   "cell_type": "code",
   "execution_count": 1,
   "id": "06fc8d26",
   "metadata": {
    "execution": {
     "iopub.execute_input": "2023-02-28T03:59:43.629731Z",
     "iopub.status.busy": "2023-02-28T03:59:43.629464Z",
     "iopub.status.idle": "2023-02-28T03:59:44.588610Z",
     "shell.execute_reply": "2023-02-28T03:59:44.587861Z"
    }
   },
   "outputs": [
    {
     "name": "stderr",
     "output_type": "stream",
     "text": [
      "/opt/hostedtoolcache/Python/3.8.16/x64/lib/python3.8/site-packages/tqdm/auto.py:22: TqdmWarning: IProgress not found. Please update jupyter and ipywidgets. See https://ipywidgets.readthedocs.io/en/stable/user_install.html\n",
      "  from .autonotebook import tqdm as notebook_tqdm\n"
     ]
    }
   ],
   "source": [
    "import torch \n",
    "\n",
    "_TREE_DATA_1 = {'a': 1, 'b': 2, 'x': {'c': 3, 'd': 4}}\n",
    "_TREE_DATA_2 = {\n",
    "    'a': torch.randn(2, 3), \n",
    "    'x': {\n",
    "        'c': torch.randn(3, 4)\n",
    "    },\n",
    "}\n",
    "_TREE_DATA_3 = {\n",
    "    'obs': torch.randn(4, 84, 84),\n",
    "    'action': torch.randint(0, 6, size=(1,)),\n",
    "    'reward': torch.rand(1),\n",
    "}"
   ]
  },
  {
   "cell_type": "markdown",
   "id": "83461b25",
   "metadata": {},
   "source": [
    "## Read and Write Operation"
   ]
  },
  {
   "cell_type": "markdown",
   "id": "067b3f73",
   "metadata": {},
   "source": [
    "Reading and writing are the two most common operations in the tree data structure based on the data model (TreeValue and Tianshou Batch both belong to this type), so this section will compare the reading and writing performance of these two libraries."
   ]
  },
  {
   "cell_type": "markdown",
   "id": "5d09a5b7",
   "metadata": {},
   "source": [
    "### TreeValue's Get and Set"
   ]
  },
  {
   "cell_type": "code",
   "execution_count": 2,
   "id": "9519c4bb",
   "metadata": {
    "execution": {
     "iopub.execute_input": "2023-02-28T03:59:44.592336Z",
     "iopub.status.busy": "2023-02-28T03:59:44.591989Z",
     "iopub.status.idle": "2023-02-28T03:59:44.626096Z",
     "shell.execute_reply": "2023-02-28T03:59:44.625426Z"
    }
   },
   "outputs": [],
   "source": [
    "from treevalue import FastTreeValue\n",
    "\n",
    "t = FastTreeValue(_TREE_DATA_2)"
   ]
  },
  {
   "cell_type": "code",
   "execution_count": 3,
   "id": "11c37677",
   "metadata": {
    "execution": {
     "iopub.execute_input": "2023-02-28T03:59:44.629334Z",
     "iopub.status.busy": "2023-02-28T03:59:44.628918Z",
     "iopub.status.idle": "2023-02-28T03:59:44.639512Z",
     "shell.execute_reply": "2023-02-28T03:59:44.638883Z"
    }
   },
   "outputs": [
    {
     "data": {
      "text/plain": [
       "<FastTreeValue 0x7ff3ec317bb0>\n",
       "├── 'a' --> tensor([[ 0.9014, -0.6031,  1.1265],\n",
       "│                   [ 0.9373,  0.4985, -0.3968]])\n",
       "└── 'x' --> <FastTreeValue 0x7ff3ec3178b0>\n",
       "    └── 'c' --> tensor([[-0.6597, -0.3851,  0.0208, -0.7360],\n",
       "                        [-0.8712, -0.8563,  1.4484, -0.1265],\n",
       "                        [ 1.3824,  0.0637,  0.9680,  1.1617]])"
      ]
     },
     "execution_count": 3,
     "metadata": {},
     "output_type": "execute_result"
    }
   ],
   "source": [
    "t"
   ]
  },
  {
   "cell_type": "code",
   "execution_count": 4,
   "id": "fd70b0b9",
   "metadata": {
    "execution": {
     "iopub.execute_input": "2023-02-28T03:59:44.642432Z",
     "iopub.status.busy": "2023-02-28T03:59:44.642027Z",
     "iopub.status.idle": "2023-02-28T03:59:44.648523Z",
     "shell.execute_reply": "2023-02-28T03:59:44.647913Z"
    }
   },
   "outputs": [
    {
     "data": {
      "text/plain": [
       "tensor([[ 0.9014, -0.6031,  1.1265],\n",
       "        [ 0.9373,  0.4985, -0.3968]])"
      ]
     },
     "execution_count": 4,
     "metadata": {},
     "output_type": "execute_result"
    }
   ],
   "source": [
    "t.a"
   ]
  },
  {
   "cell_type": "code",
   "execution_count": 5,
   "id": "c18197bd",
   "metadata": {
    "execution": {
     "iopub.execute_input": "2023-02-28T03:59:44.651368Z",
     "iopub.status.busy": "2023-02-28T03:59:44.651011Z",
     "iopub.status.idle": "2023-02-28T03:59:49.954860Z",
     "shell.execute_reply": "2023-02-28T03:59:49.953963Z"
    }
   },
   "outputs": [
    {
     "name": "stdout",
     "output_type": "stream",
     "text": [
      "65.5 ns ± 0.0285 ns per loop (mean ± std. dev. of 7 runs, 10,000,000 loops each)\n"
     ]
    }
   ],
   "source": [
    "%timeit t.a"
   ]
  },
  {
   "cell_type": "code",
   "execution_count": 6,
   "id": "bd52f867",
   "metadata": {
    "execution": {
     "iopub.execute_input": "2023-02-28T03:59:49.958364Z",
     "iopub.status.busy": "2023-02-28T03:59:49.957962Z",
     "iopub.status.idle": "2023-02-28T03:59:49.964993Z",
     "shell.execute_reply": "2023-02-28T03:59:49.964363Z"
    }
   },
   "outputs": [
    {
     "data": {
      "text/plain": [
       "<FastTreeValue 0x7ff3ec317bb0>\n",
       "├── 'a' --> tensor([[ 0.3659, -0.5708,  0.3303],\n",
       "│                   [ 0.8927,  0.3929,  0.5440]])\n",
       "└── 'x' --> <FastTreeValue 0x7ff3ec3178b0>\n",
       "    └── 'c' --> tensor([[-0.6597, -0.3851,  0.0208, -0.7360],\n",
       "                        [-0.8712, -0.8563,  1.4484, -0.1265],\n",
       "                        [ 1.3824,  0.0637,  0.9680,  1.1617]])"
      ]
     },
     "execution_count": 6,
     "metadata": {},
     "output_type": "execute_result"
    }
   ],
   "source": [
    "new_value = torch.randn(2, 3)\n",
    "t.a = new_value\n",
    "\n",
    "t"
   ]
  },
  {
   "cell_type": "code",
   "execution_count": 7,
   "id": "bbe04d1c",
   "metadata": {
    "execution": {
     "iopub.execute_input": "2023-02-28T03:59:49.967978Z",
     "iopub.status.busy": "2023-02-28T03:59:49.967604Z",
     "iopub.status.idle": "2023-02-28T03:59:55.516245Z",
     "shell.execute_reply": "2023-02-28T03:59:55.515369Z"
    }
   },
   "outputs": [
    {
     "name": "stdout",
     "output_type": "stream",
     "text": [
      "68.3 ns ± 0.0467 ns per loop (mean ± std. dev. of 7 runs, 10,000,000 loops each)\n"
     ]
    }
   ],
   "source": [
    "%timeit t.a = new_value"
   ]
  },
  {
   "cell_type": "markdown",
   "id": "48c49731",
   "metadata": {},
   "source": [
    "### Tianshou Batch's Get and Set"
   ]
  },
  {
   "cell_type": "code",
   "execution_count": 8,
   "id": "f1bb14c1",
   "metadata": {
    "execution": {
     "iopub.execute_input": "2023-02-28T03:59:55.519566Z",
     "iopub.status.busy": "2023-02-28T03:59:55.519010Z",
     "iopub.status.idle": "2023-02-28T03:59:55.875382Z",
     "shell.execute_reply": "2023-02-28T03:59:55.874629Z"
    }
   },
   "outputs": [],
   "source": [
    "from tianshou.data import Batch\n",
    "\n",
    "b = Batch(**_TREE_DATA_2)"
   ]
  },
  {
   "cell_type": "code",
   "execution_count": 9,
   "id": "cb0777c3",
   "metadata": {
    "execution": {
     "iopub.execute_input": "2023-02-28T03:59:55.879242Z",
     "iopub.status.busy": "2023-02-28T03:59:55.878656Z",
     "iopub.status.idle": "2023-02-28T03:59:55.886101Z",
     "shell.execute_reply": "2023-02-28T03:59:55.885495Z"
    }
   },
   "outputs": [
    {
     "data": {
      "text/plain": [
       "Batch(\n",
       "    a: tensor([[ 0.9014, -0.6031,  1.1265],\n",
       "               [ 0.9373,  0.4985, -0.3968]]),\n",
       "    x: Batch(\n",
       "           c: tensor([[-0.6597, -0.3851,  0.0208, -0.7360],\n",
       "                      [-0.8712, -0.8563,  1.4484, -0.1265],\n",
       "                      [ 1.3824,  0.0637,  0.9680,  1.1617]]),\n",
       "       ),\n",
       ")"
      ]
     },
     "execution_count": 9,
     "metadata": {},
     "output_type": "execute_result"
    }
   ],
   "source": [
    "b"
   ]
  },
  {
   "cell_type": "code",
   "execution_count": 10,
   "id": "43ef8ea3",
   "metadata": {
    "execution": {
     "iopub.execute_input": "2023-02-28T03:59:55.889261Z",
     "iopub.status.busy": "2023-02-28T03:59:55.888835Z",
     "iopub.status.idle": "2023-02-28T03:59:55.895064Z",
     "shell.execute_reply": "2023-02-28T03:59:55.894468Z"
    }
   },
   "outputs": [
    {
     "data": {
      "text/plain": [
       "tensor([[ 0.9014, -0.6031,  1.1265],\n",
       "        [ 0.9373,  0.4985, -0.3968]])"
      ]
     },
     "execution_count": 10,
     "metadata": {},
     "output_type": "execute_result"
    }
   ],
   "source": [
    "b.a"
   ]
  },
  {
   "cell_type": "code",
   "execution_count": 11,
   "id": "b785ab72",
   "metadata": {
    "execution": {
     "iopub.execute_input": "2023-02-28T03:59:55.897800Z",
     "iopub.status.busy": "2023-02-28T03:59:55.897242Z",
     "iopub.status.idle": "2023-02-28T04:00:00.810628Z",
     "shell.execute_reply": "2023-02-28T04:00:00.809753Z"
    }
   },
   "outputs": [
    {
     "name": "stdout",
     "output_type": "stream",
     "text": [
      "60.5 ns ± 0.113 ns per loop (mean ± std. dev. of 7 runs, 10,000,000 loops each)\n"
     ]
    }
   ],
   "source": [
    "%timeit b.a"
   ]
  },
  {
   "cell_type": "code",
   "execution_count": 12,
   "id": "ad54dc69",
   "metadata": {
    "execution": {
     "iopub.execute_input": "2023-02-28T04:00:00.813920Z",
     "iopub.status.busy": "2023-02-28T04:00:00.813413Z",
     "iopub.status.idle": "2023-02-28T04:00:00.820335Z",
     "shell.execute_reply": "2023-02-28T04:00:00.819703Z"
    }
   },
   "outputs": [
    {
     "data": {
      "text/plain": [
       "Batch(\n",
       "    a: tensor([[-0.0843, -0.6908, -0.0216],\n",
       "               [-1.1765,  0.9935, -0.1194]]),\n",
       "    x: Batch(\n",
       "           c: tensor([[-0.6597, -0.3851,  0.0208, -0.7360],\n",
       "                      [-0.8712, -0.8563,  1.4484, -0.1265],\n",
       "                      [ 1.3824,  0.0637,  0.9680,  1.1617]]),\n",
       "       ),\n",
       ")"
      ]
     },
     "execution_count": 12,
     "metadata": {},
     "output_type": "execute_result"
    }
   ],
   "source": [
    "new_value = torch.randn(2, 3)\n",
    "b.a = new_value\n",
    "\n",
    "b"
   ]
  },
  {
   "cell_type": "code",
   "execution_count": 13,
   "id": "29b1d0bf",
   "metadata": {
    "execution": {
     "iopub.execute_input": "2023-02-28T04:00:00.822975Z",
     "iopub.status.busy": "2023-02-28T04:00:00.822560Z",
     "iopub.status.idle": "2023-02-28T04:00:04.855937Z",
     "shell.execute_reply": "2023-02-28T04:00:04.855083Z"
    }
   },
   "outputs": [
    {
     "name": "stdout",
     "output_type": "stream",
     "text": [
      "496 ns ± 0.0912 ns per loop (mean ± std. dev. of 7 runs, 1,000,000 loops each)\n"
     ]
    }
   ],
   "source": [
    "%timeit b.a = new_value"
   ]
  },
  {
   "cell_type": "markdown",
   "id": "b61ad1d0",
   "metadata": {},
   "source": [
    "## Initialization"
   ]
  },
  {
   "cell_type": "markdown",
   "id": "d70f0d54",
   "metadata": {},
   "source": [
    "### TreeValue's Initialization"
   ]
  },
  {
   "cell_type": "code",
   "execution_count": 14,
   "id": "d32a679b",
   "metadata": {
    "execution": {
     "iopub.execute_input": "2023-02-28T04:00:04.859615Z",
     "iopub.status.busy": "2023-02-28T04:00:04.859186Z",
     "iopub.status.idle": "2023-02-28T04:00:11.517806Z",
     "shell.execute_reply": "2023-02-28T04:00:11.516689Z"
    }
   },
   "outputs": [
    {
     "name": "stdout",
     "output_type": "stream",
     "text": [
      "820 ns ± 3.8 ns per loop (mean ± std. dev. of 7 runs, 1,000,000 loops each)\n"
     ]
    }
   ],
   "source": [
    "%timeit FastTreeValue(_TREE_DATA_1)"
   ]
  },
  {
   "cell_type": "markdown",
   "id": "24f3707b",
   "metadata": {},
   "source": [
    "### Tianshou Batch's Initialization"
   ]
  },
  {
   "cell_type": "code",
   "execution_count": 15,
   "id": "ac3958df",
   "metadata": {
    "execution": {
     "iopub.execute_input": "2023-02-28T04:00:11.521009Z",
     "iopub.status.busy": "2023-02-28T04:00:11.520611Z",
     "iopub.status.idle": "2023-02-28T04:00:20.433900Z",
     "shell.execute_reply": "2023-02-28T04:00:20.433039Z"
    }
   },
   "outputs": [
    {
     "name": "stdout",
     "output_type": "stream",
     "text": [
      "11 µs ± 49.6 ns per loop (mean ± std. dev. of 7 runs, 100,000 loops each)\n"
     ]
    }
   ],
   "source": [
    "%timeit Batch(**_TREE_DATA_1)"
   ]
  },
  {
   "cell_type": "markdown",
   "id": "1ab82e2d",
   "metadata": {},
   "source": [
    "## Deep Copy Operation"
   ]
  },
  {
   "cell_type": "code",
   "execution_count": 16,
   "id": "210a9442",
   "metadata": {
    "execution": {
     "iopub.execute_input": "2023-02-28T04:00:20.437738Z",
     "iopub.status.busy": "2023-02-28T04:00:20.437319Z",
     "iopub.status.idle": "2023-02-28T04:00:20.441437Z",
     "shell.execute_reply": "2023-02-28T04:00:20.440811Z"
    }
   },
   "outputs": [],
   "source": [
    "import copy"
   ]
  },
  {
   "cell_type": "markdown",
   "id": "5a736274",
   "metadata": {},
   "source": [
    "### Deep Copy of TreeValue"
   ]
  },
  {
   "cell_type": "code",
   "execution_count": 17,
   "id": "f9bcadd6",
   "metadata": {
    "execution": {
     "iopub.execute_input": "2023-02-28T04:00:20.444602Z",
     "iopub.status.busy": "2023-02-28T04:00:20.444067Z",
     "iopub.status.idle": "2023-02-28T04:00:32.092188Z",
     "shell.execute_reply": "2023-02-28T04:00:32.091540Z"
    }
   },
   "outputs": [
    {
     "name": "stdout",
     "output_type": "stream",
     "text": [
      "144 µs ± 506 ns per loop (mean ± std. dev. of 7 runs, 10,000 loops each)\n"
     ]
    }
   ],
   "source": [
    "t3 = FastTreeValue(_TREE_DATA_3)\n",
    "%timeit copy.deepcopy(t3)"
   ]
  },
  {
   "cell_type": "markdown",
   "id": "bf8be7ea",
   "metadata": {},
   "source": [
    "### Deep Copy of Tianshou Batch"
   ]
  },
  {
   "cell_type": "code",
   "execution_count": 18,
   "id": "91998e6f",
   "metadata": {
    "execution": {
     "iopub.execute_input": "2023-02-28T04:00:32.095272Z",
     "iopub.status.busy": "2023-02-28T04:00:32.094760Z",
     "iopub.status.idle": "2023-02-28T04:00:43.769063Z",
     "shell.execute_reply": "2023-02-28T04:00:43.768391Z"
    }
   },
   "outputs": [
    {
     "name": "stdout",
     "output_type": "stream",
     "text": [
      "144 µs ± 1.03 µs per loop (mean ± std. dev. of 7 runs, 10,000 loops each)\n"
     ]
    }
   ],
   "source": [
    "b3 = Batch(**_TREE_DATA_3)\n",
    "%timeit copy.deepcopy(b3)"
   ]
  },
  {
   "cell_type": "markdown",
   "id": "223162fb",
   "metadata": {},
   "source": [
    "## Stack, Concat and Split Operation"
   ]
  },
  {
   "cell_type": "markdown",
   "id": "85fa4a73",
   "metadata": {},
   "source": [
    "### Performance of TreeValue"
   ]
  },
  {
   "cell_type": "code",
   "execution_count": 19,
   "id": "a0c2b697",
   "metadata": {
    "execution": {
     "iopub.execute_input": "2023-02-28T04:00:43.772231Z",
     "iopub.status.busy": "2023-02-28T04:00:43.771713Z",
     "iopub.status.idle": "2023-02-28T04:00:43.775216Z",
     "shell.execute_reply": "2023-02-28T04:00:43.774660Z"
    }
   },
   "outputs": [],
   "source": [
    "trees = [FastTreeValue(_TREE_DATA_2) for _ in range(8)]"
   ]
  },
  {
   "cell_type": "code",
   "execution_count": 20,
   "id": "017ea5a5",
   "metadata": {
    "execution": {
     "iopub.execute_input": "2023-02-28T04:00:43.777725Z",
     "iopub.status.busy": "2023-02-28T04:00:43.777297Z",
     "iopub.status.idle": "2023-02-28T04:00:43.784496Z",
     "shell.execute_reply": "2023-02-28T04:00:43.783799Z"
    }
   },
   "outputs": [
    {
     "data": {
      "text/plain": [
       "<FastTreeValue 0x7ff3ec37aca0>\n",
       "├── 'a' --> tensor([[[ 0.9014, -0.6031,  1.1265],\n",
       "│                    [ 0.9373,  0.4985, -0.3968]],\n",
       "│           \n",
       "│                   [[ 0.9014, -0.6031,  1.1265],\n",
       "│                    [ 0.9373,  0.4985, -0.3968]],\n",
       "│           \n",
       "│                   [[ 0.9014, -0.6031,  1.1265],\n",
       "│                    [ 0.9373,  0.4985, -0.3968]],\n",
       "│           \n",
       "│                   [[ 0.9014, -0.6031,  1.1265],\n",
       "│                    [ 0.9373,  0.4985, -0.3968]],\n",
       "│           \n",
       "│                   [[ 0.9014, -0.6031,  1.1265],\n",
       "│                    [ 0.9373,  0.4985, -0.3968]],\n",
       "│           \n",
       "│                   [[ 0.9014, -0.6031,  1.1265],\n",
       "│                    [ 0.9373,  0.4985, -0.3968]],\n",
       "│           \n",
       "│                   [[ 0.9014, -0.6031,  1.1265],\n",
       "│                    [ 0.9373,  0.4985, -0.3968]],\n",
       "│           \n",
       "│                   [[ 0.9014, -0.6031,  1.1265],\n",
       "│                    [ 0.9373,  0.4985, -0.3968]]])\n",
       "└── 'x' --> <FastTreeValue 0x7ff3ec37ae50>\n",
       "    └── 'c' --> tensor([[[-0.6597, -0.3851,  0.0208, -0.7360],\n",
       "                         [-0.8712, -0.8563,  1.4484, -0.1265],\n",
       "                         [ 1.3824,  0.0637,  0.9680,  1.1617]],\n",
       "                \n",
       "                        [[-0.6597, -0.3851,  0.0208, -0.7360],\n",
       "                         [-0.8712, -0.8563,  1.4484, -0.1265],\n",
       "                         [ 1.3824,  0.0637,  0.9680,  1.1617]],\n",
       "                \n",
       "                        [[-0.6597, -0.3851,  0.0208, -0.7360],\n",
       "                         [-0.8712, -0.8563,  1.4484, -0.1265],\n",
       "                         [ 1.3824,  0.0637,  0.9680,  1.1617]],\n",
       "                \n",
       "                        [[-0.6597, -0.3851,  0.0208, -0.7360],\n",
       "                         [-0.8712, -0.8563,  1.4484, -0.1265],\n",
       "                         [ 1.3824,  0.0637,  0.9680,  1.1617]],\n",
       "                \n",
       "                        [[-0.6597, -0.3851,  0.0208, -0.7360],\n",
       "                         [-0.8712, -0.8563,  1.4484, -0.1265],\n",
       "                         [ 1.3824,  0.0637,  0.9680,  1.1617]],\n",
       "                \n",
       "                        [[-0.6597, -0.3851,  0.0208, -0.7360],\n",
       "                         [-0.8712, -0.8563,  1.4484, -0.1265],\n",
       "                         [ 1.3824,  0.0637,  0.9680,  1.1617]],\n",
       "                \n",
       "                        [[-0.6597, -0.3851,  0.0208, -0.7360],\n",
       "                         [-0.8712, -0.8563,  1.4484, -0.1265],\n",
       "                         [ 1.3824,  0.0637,  0.9680,  1.1617]],\n",
       "                \n",
       "                        [[-0.6597, -0.3851,  0.0208, -0.7360],\n",
       "                         [-0.8712, -0.8563,  1.4484, -0.1265],\n",
       "                         [ 1.3824,  0.0637,  0.9680,  1.1617]]])"
      ]
     },
     "execution_count": 20,
     "metadata": {},
     "output_type": "execute_result"
    }
   ],
   "source": [
    "t_stack = FastTreeValue.func(subside=True)(torch.stack)\n",
    "\n",
    "t_stack(trees)"
   ]
  },
  {
   "cell_type": "code",
   "execution_count": 21,
   "id": "f8b3f415",
   "metadata": {
    "execution": {
     "iopub.execute_input": "2023-02-28T04:00:43.787296Z",
     "iopub.status.busy": "2023-02-28T04:00:43.786765Z",
     "iopub.status.idle": "2023-02-28T04:00:46.344503Z",
     "shell.execute_reply": "2023-02-28T04:00:46.343622Z"
    }
   },
   "outputs": [
    {
     "name": "stdout",
     "output_type": "stream",
     "text": [
      "31.4 µs ± 73.9 ns per loop (mean ± std. dev. of 7 runs, 10,000 loops each)\n"
     ]
    }
   ],
   "source": [
    "%timeit t_stack(trees)"
   ]
  },
  {
   "cell_type": "code",
   "execution_count": 22,
   "id": "94b56771",
   "metadata": {
    "execution": {
     "iopub.execute_input": "2023-02-28T04:00:46.348179Z",
     "iopub.status.busy": "2023-02-28T04:00:46.347679Z",
     "iopub.status.idle": "2023-02-28T04:00:46.356880Z",
     "shell.execute_reply": "2023-02-28T04:00:46.356256Z"
    }
   },
   "outputs": [
    {
     "data": {
      "text/plain": [
       "<FastTreeValue 0x7ff340fd0610>\n",
       "├── 'a' --> tensor([[ 0.9014, -0.6031,  1.1265],\n",
       "│                   [ 0.9373,  0.4985, -0.3968],\n",
       "│                   [ 0.9014, -0.6031,  1.1265],\n",
       "│                   [ 0.9373,  0.4985, -0.3968],\n",
       "│                   [ 0.9014, -0.6031,  1.1265],\n",
       "│                   [ 0.9373,  0.4985, -0.3968],\n",
       "│                   [ 0.9014, -0.6031,  1.1265],\n",
       "│                   [ 0.9373,  0.4985, -0.3968],\n",
       "│                   [ 0.9014, -0.6031,  1.1265],\n",
       "│                   [ 0.9373,  0.4985, -0.3968],\n",
       "│                   [ 0.9014, -0.6031,  1.1265],\n",
       "│                   [ 0.9373,  0.4985, -0.3968],\n",
       "│                   [ 0.9014, -0.6031,  1.1265],\n",
       "│                   [ 0.9373,  0.4985, -0.3968],\n",
       "│                   [ 0.9014, -0.6031,  1.1265],\n",
       "│                   [ 0.9373,  0.4985, -0.3968]])\n",
       "└── 'x' --> <FastTreeValue 0x7ff340febf40>\n",
       "    └── 'c' --> tensor([[-0.6597, -0.3851,  0.0208, -0.7360],\n",
       "                        [-0.8712, -0.8563,  1.4484, -0.1265],\n",
       "                        [ 1.3824,  0.0637,  0.9680,  1.1617],\n",
       "                        [-0.6597, -0.3851,  0.0208, -0.7360],\n",
       "                        [-0.8712, -0.8563,  1.4484, -0.1265],\n",
       "                        [ 1.3824,  0.0637,  0.9680,  1.1617],\n",
       "                        [-0.6597, -0.3851,  0.0208, -0.7360],\n",
       "                        [-0.8712, -0.8563,  1.4484, -0.1265],\n",
       "                        [ 1.3824,  0.0637,  0.9680,  1.1617],\n",
       "                        [-0.6597, -0.3851,  0.0208, -0.7360],\n",
       "                        [-0.8712, -0.8563,  1.4484, -0.1265],\n",
       "                        [ 1.3824,  0.0637,  0.9680,  1.1617],\n",
       "                        [-0.6597, -0.3851,  0.0208, -0.7360],\n",
       "                        [-0.8712, -0.8563,  1.4484, -0.1265],\n",
       "                        [ 1.3824,  0.0637,  0.9680,  1.1617],\n",
       "                        [-0.6597, -0.3851,  0.0208, -0.7360],\n",
       "                        [-0.8712, -0.8563,  1.4484, -0.1265],\n",
       "                        [ 1.3824,  0.0637,  0.9680,  1.1617],\n",
       "                        [-0.6597, -0.3851,  0.0208, -0.7360],\n",
       "                        [-0.8712, -0.8563,  1.4484, -0.1265],\n",
       "                        [ 1.3824,  0.0637,  0.9680,  1.1617],\n",
       "                        [-0.6597, -0.3851,  0.0208, -0.7360],\n",
       "                        [-0.8712, -0.8563,  1.4484, -0.1265],\n",
       "                        [ 1.3824,  0.0637,  0.9680,  1.1617]])"
      ]
     },
     "execution_count": 22,
     "metadata": {},
     "output_type": "execute_result"
    }
   ],
   "source": [
    "t_cat = FastTreeValue.func(subside=True)(torch.cat)\n",
    "\n",
    "t_cat(trees)"
   ]
  },
  {
   "cell_type": "code",
   "execution_count": 23,
   "id": "5e9c06a6",
   "metadata": {
    "execution": {
     "iopub.execute_input": "2023-02-28T04:00:46.359740Z",
     "iopub.status.busy": "2023-02-28T04:00:46.359379Z",
     "iopub.status.idle": "2023-02-28T04:00:48.764820Z",
     "shell.execute_reply": "2023-02-28T04:00:48.763912Z"
    }
   },
   "outputs": [
    {
     "name": "stdout",
     "output_type": "stream",
     "text": [
      "29.6 µs ± 74 ns per loop (mean ± std. dev. of 7 runs, 10,000 loops each)\n"
     ]
    }
   ],
   "source": [
    "%timeit t_cat(trees)"
   ]
  },
  {
   "cell_type": "code",
   "execution_count": 24,
   "id": "a3ab5c8f",
   "metadata": {
    "execution": {
     "iopub.execute_input": "2023-02-28T04:00:48.768314Z",
     "iopub.status.busy": "2023-02-28T04:00:48.767922Z",
     "iopub.status.idle": "2023-02-28T04:00:53.390427Z",
     "shell.execute_reply": "2023-02-28T04:00:53.389542Z"
    }
   },
   "outputs": [
    {
     "name": "stdout",
     "output_type": "stream",
     "text": [
      "56.8 µs ± 103 ns per loop (mean ± std. dev. of 7 runs, 10,000 loops each)\n"
     ]
    }
   ],
   "source": [
    "t_split = FastTreeValue.func(rise=True)(torch.split)\n",
    "tree = FastTreeValue({\n",
    "    'obs': torch.randn(8, 4, 84, 84),\n",
    "    'action': torch.randint(0, 6, size=(8, 1,)),\n",
    "    'reward': torch.rand(8, 1),\n",
    "})\n",
    "\n",
    "%timeit t_split(tree, 1)"
   ]
  },
  {
   "cell_type": "markdown",
   "id": "31c3ec0b",
   "metadata": {},
   "source": [
    "### Performance of Tianshou Batch"
   ]
  },
  {
   "cell_type": "code",
   "execution_count": 25,
   "id": "9ead828a",
   "metadata": {
    "execution": {
     "iopub.execute_input": "2023-02-28T04:00:53.394078Z",
     "iopub.status.busy": "2023-02-28T04:00:53.393437Z",
     "iopub.status.idle": "2023-02-28T04:00:53.402181Z",
     "shell.execute_reply": "2023-02-28T04:00:53.401562Z"
    }
   },
   "outputs": [
    {
     "data": {
      "text/plain": [
       "Batch(\n",
       "    x: Batch(\n",
       "           c: tensor([[[-0.6597, -0.3851,  0.0208, -0.7360],\n",
       "                       [-0.8712, -0.8563,  1.4484, -0.1265],\n",
       "                       [ 1.3824,  0.0637,  0.9680,  1.1617]],\n",
       "              \n",
       "                      [[-0.6597, -0.3851,  0.0208, -0.7360],\n",
       "                       [-0.8712, -0.8563,  1.4484, -0.1265],\n",
       "                       [ 1.3824,  0.0637,  0.9680,  1.1617]],\n",
       "              \n",
       "                      [[-0.6597, -0.3851,  0.0208, -0.7360],\n",
       "                       [-0.8712, -0.8563,  1.4484, -0.1265],\n",
       "                       [ 1.3824,  0.0637,  0.9680,  1.1617]],\n",
       "              \n",
       "                      [[-0.6597, -0.3851,  0.0208, -0.7360],\n",
       "                       [-0.8712, -0.8563,  1.4484, -0.1265],\n",
       "                       [ 1.3824,  0.0637,  0.9680,  1.1617]],\n",
       "              \n",
       "                      [[-0.6597, -0.3851,  0.0208, -0.7360],\n",
       "                       [-0.8712, -0.8563,  1.4484, -0.1265],\n",
       "                       [ 1.3824,  0.0637,  0.9680,  1.1617]],\n",
       "              \n",
       "                      [[-0.6597, -0.3851,  0.0208, -0.7360],\n",
       "                       [-0.8712, -0.8563,  1.4484, -0.1265],\n",
       "                       [ 1.3824,  0.0637,  0.9680,  1.1617]],\n",
       "              \n",
       "                      [[-0.6597, -0.3851,  0.0208, -0.7360],\n",
       "                       [-0.8712, -0.8563,  1.4484, -0.1265],\n",
       "                       [ 1.3824,  0.0637,  0.9680,  1.1617]],\n",
       "              \n",
       "                      [[-0.6597, -0.3851,  0.0208, -0.7360],\n",
       "                       [-0.8712, -0.8563,  1.4484, -0.1265],\n",
       "                       [ 1.3824,  0.0637,  0.9680,  1.1617]]]),\n",
       "       ),\n",
       "    a: tensor([[[ 0.9014, -0.6031,  1.1265],\n",
       "                [ 0.9373,  0.4985, -0.3968]],\n",
       "       \n",
       "               [[ 0.9014, -0.6031,  1.1265],\n",
       "                [ 0.9373,  0.4985, -0.3968]],\n",
       "       \n",
       "               [[ 0.9014, -0.6031,  1.1265],\n",
       "                [ 0.9373,  0.4985, -0.3968]],\n",
       "       \n",
       "               [[ 0.9014, -0.6031,  1.1265],\n",
       "                [ 0.9373,  0.4985, -0.3968]],\n",
       "       \n",
       "               [[ 0.9014, -0.6031,  1.1265],\n",
       "                [ 0.9373,  0.4985, -0.3968]],\n",
       "       \n",
       "               [[ 0.9014, -0.6031,  1.1265],\n",
       "                [ 0.9373,  0.4985, -0.3968]],\n",
       "       \n",
       "               [[ 0.9014, -0.6031,  1.1265],\n",
       "                [ 0.9373,  0.4985, -0.3968]],\n",
       "       \n",
       "               [[ 0.9014, -0.6031,  1.1265],\n",
       "                [ 0.9373,  0.4985, -0.3968]]]),\n",
       ")"
      ]
     },
     "execution_count": 25,
     "metadata": {},
     "output_type": "execute_result"
    }
   ],
   "source": [
    "batches = [Batch(**_TREE_DATA_2) for _ in range(8)]\n",
    "\n",
    "Batch.stack(batches)"
   ]
  },
  {
   "cell_type": "code",
   "execution_count": 26,
   "id": "ec9037a3",
   "metadata": {
    "execution": {
     "iopub.execute_input": "2023-02-28T04:00:53.405869Z",
     "iopub.status.busy": "2023-02-28T04:00:53.404740Z",
     "iopub.status.idle": "2023-02-28T04:00:59.852306Z",
     "shell.execute_reply": "2023-02-28T04:00:59.851448Z"
    }
   },
   "outputs": [
    {
     "name": "stdout",
     "output_type": "stream",
     "text": [
      "79.4 µs ± 269 ns per loop (mean ± std. dev. of 7 runs, 10,000 loops each)\n"
     ]
    }
   ],
   "source": [
    "%timeit Batch.stack(batches)"
   ]
  },
  {
   "cell_type": "code",
   "execution_count": 27,
   "id": "cb8ab77e",
   "metadata": {
    "execution": {
     "iopub.execute_input": "2023-02-28T04:00:59.856058Z",
     "iopub.status.busy": "2023-02-28T04:00:59.855576Z",
     "iopub.status.idle": "2023-02-28T04:00:59.863396Z",
     "shell.execute_reply": "2023-02-28T04:00:59.862778Z"
    }
   },
   "outputs": [
    {
     "data": {
      "text/plain": [
       "Batch(\n",
       "    x: Batch(\n",
       "           c: tensor([[-0.6597, -0.3851,  0.0208, -0.7360],\n",
       "                      [-0.8712, -0.8563,  1.4484, -0.1265],\n",
       "                      [ 1.3824,  0.0637,  0.9680,  1.1617],\n",
       "                      [-0.6597, -0.3851,  0.0208, -0.7360],\n",
       "                      [-0.8712, -0.8563,  1.4484, -0.1265],\n",
       "                      [ 1.3824,  0.0637,  0.9680,  1.1617],\n",
       "                      [-0.6597, -0.3851,  0.0208, -0.7360],\n",
       "                      [-0.8712, -0.8563,  1.4484, -0.1265],\n",
       "                      [ 1.3824,  0.0637,  0.9680,  1.1617],\n",
       "                      [-0.6597, -0.3851,  0.0208, -0.7360],\n",
       "                      [-0.8712, -0.8563,  1.4484, -0.1265],\n",
       "                      [ 1.3824,  0.0637,  0.9680,  1.1617],\n",
       "                      [-0.6597, -0.3851,  0.0208, -0.7360],\n",
       "                      [-0.8712, -0.8563,  1.4484, -0.1265],\n",
       "                      [ 1.3824,  0.0637,  0.9680,  1.1617],\n",
       "                      [-0.6597, -0.3851,  0.0208, -0.7360],\n",
       "                      [-0.8712, -0.8563,  1.4484, -0.1265],\n",
       "                      [ 1.3824,  0.0637,  0.9680,  1.1617],\n",
       "                      [-0.6597, -0.3851,  0.0208, -0.7360],\n",
       "                      [-0.8712, -0.8563,  1.4484, -0.1265],\n",
       "                      [ 1.3824,  0.0637,  0.9680,  1.1617],\n",
       "                      [-0.6597, -0.3851,  0.0208, -0.7360],\n",
       "                      [-0.8712, -0.8563,  1.4484, -0.1265],\n",
       "                      [ 1.3824,  0.0637,  0.9680,  1.1617]]),\n",
       "       ),\n",
       "    a: tensor([[ 0.9014, -0.6031,  1.1265],\n",
       "               [ 0.9373,  0.4985, -0.3968],\n",
       "               [ 0.9014, -0.6031,  1.1265],\n",
       "               [ 0.9373,  0.4985, -0.3968],\n",
       "               [ 0.9014, -0.6031,  1.1265],\n",
       "               [ 0.9373,  0.4985, -0.3968],\n",
       "               [ 0.9014, -0.6031,  1.1265],\n",
       "               [ 0.9373,  0.4985, -0.3968],\n",
       "               [ 0.9014, -0.6031,  1.1265],\n",
       "               [ 0.9373,  0.4985, -0.3968],\n",
       "               [ 0.9014, -0.6031,  1.1265],\n",
       "               [ 0.9373,  0.4985, -0.3968],\n",
       "               [ 0.9014, -0.6031,  1.1265],\n",
       "               [ 0.9373,  0.4985, -0.3968],\n",
       "               [ 0.9014, -0.6031,  1.1265],\n",
       "               [ 0.9373,  0.4985, -0.3968]]),\n",
       ")"
      ]
     },
     "execution_count": 27,
     "metadata": {},
     "output_type": "execute_result"
    }
   ],
   "source": [
    "Batch.cat(batches)"
   ]
  },
  {
   "cell_type": "code",
   "execution_count": 28,
   "id": "18dfb045",
   "metadata": {
    "execution": {
     "iopub.execute_input": "2023-02-28T04:00:59.866502Z",
     "iopub.status.busy": "2023-02-28T04:00:59.865948Z",
     "iopub.status.idle": "2023-02-28T04:01:11.616939Z",
     "shell.execute_reply": "2023-02-28T04:01:11.616081Z"
    }
   },
   "outputs": [
    {
     "name": "stdout",
     "output_type": "stream",
     "text": [
      "145 µs ± 608 ns per loop (mean ± std. dev. of 7 runs, 10,000 loops each)\n"
     ]
    }
   ],
   "source": [
    "%timeit Batch.cat(batches)"
   ]
  },
  {
   "cell_type": "code",
   "execution_count": 29,
   "id": "c6688e51",
   "metadata": {
    "execution": {
     "iopub.execute_input": "2023-02-28T04:01:11.620798Z",
     "iopub.status.busy": "2023-02-28T04:01:11.620181Z",
     "iopub.status.idle": "2023-02-28T04:01:14.369283Z",
     "shell.execute_reply": "2023-02-28T04:01:14.368520Z"
    }
   },
   "outputs": [
    {
     "name": "stdout",
     "output_type": "stream",
     "text": [
      "338 µs ± 2.48 µs per loop (mean ± std. dev. of 7 runs, 1,000 loops each)\n"
     ]
    }
   ],
   "source": [
    "batch = Batch({\n",
    "    'obs': torch.randn(8, 4, 84, 84),\n",
    "    'action': torch.randint(0, 6, size=(8, 1,)),\n",
    "    'reward': torch.rand(8, 1)}\n",
    ")\n",
    "\n",
    "%timeit list(Batch.split(batch, 1, shuffle=False, merge_last=True))"
   ]
  },
  {
   "cell_type": "code",
   "execution_count": null,
   "id": "2539fbd9",
   "metadata": {},
   "outputs": [],
   "source": []
  }
 ],
 "metadata": {
  "kernelspec": {
   "display_name": "Python 3 (ipykernel)",
   "language": "python",
   "name": "python3"
  },
  "language_info": {
   "codemirror_mode": {
    "name": "ipython",
    "version": 3
   },
   "file_extension": ".py",
   "mimetype": "text/x-python",
   "name": "python",
   "nbconvert_exporter": "python",
   "pygments_lexer": "ipython3",
   "version": "3.8.16"
  }
 },
 "nbformat": 4,
 "nbformat_minor": 5
}
