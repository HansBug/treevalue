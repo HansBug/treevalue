{
 "cells": [
  {
   "cell_type": "markdown",
   "id": "9d39d946",
   "metadata": {},
   "source": [
    "# Comparison Between TreeValue and Tianshou Batch"
   ]
  },
  {
   "cell_type": "markdown",
   "id": "3c6db2d4",
   "metadata": {},
   "source": [
    "In this section, we will take a look at the feature and performance of the [Tianshou Batch](https://github.com/thu-ml/tianshou) library, which is developed by Tsinghua Machine Learning Group."
   ]
  },
  {
   "cell_type": "markdown",
   "id": "069361b0",
   "metadata": {},
   "source": [
    "Before starting the comparison, let us define some thing."
   ]
  },
  {
   "cell_type": "code",
   "execution_count": 1,
   "id": "06fc8d26",
   "metadata": {
    "execution": {
     "iopub.execute_input": "2023-02-23T13:59:12.012093Z",
     "iopub.status.busy": "2023-02-23T13:59:12.011825Z",
     "iopub.status.idle": "2023-02-23T13:59:13.004426Z",
     "shell.execute_reply": "2023-02-23T13:59:13.003616Z"
    }
   },
   "outputs": [
    {
     "name": "stderr",
     "output_type": "stream",
     "text": [
      "/opt/hostedtoolcache/Python/3.8.16/x64/lib/python3.8/site-packages/tqdm/auto.py:22: TqdmWarning: IProgress not found. Please update jupyter and ipywidgets. See https://ipywidgets.readthedocs.io/en/stable/user_install.html\n",
      "  from .autonotebook import tqdm as notebook_tqdm\n"
     ]
    }
   ],
   "source": [
    "import torch \n",
    "\n",
    "_TREE_DATA_1 = {'a': 1, 'b': 2, 'x': {'c': 3, 'd': 4}}\n",
    "_TREE_DATA_2 = {\n",
    "    'a': torch.randn(2, 3), \n",
    "    'x': {\n",
    "        'c': torch.randn(3, 4)\n",
    "    },\n",
    "}\n",
    "_TREE_DATA_3 = {\n",
    "    'obs': torch.randn(4, 84, 84),\n",
    "    'action': torch.randint(0, 6, size=(1,)),\n",
    "    'reward': torch.rand(1),\n",
    "}"
   ]
  },
  {
   "cell_type": "markdown",
   "id": "83461b25",
   "metadata": {},
   "source": [
    "## Read and Write Operation"
   ]
  },
  {
   "cell_type": "markdown",
   "id": "067b3f73",
   "metadata": {},
   "source": [
    "Reading and writing are the two most common operations in the tree data structure based on the data model (TreeValue and Tianshou Batch both belong to this type), so this section will compare the reading and writing performance of these two libraries."
   ]
  },
  {
   "cell_type": "markdown",
   "id": "5d09a5b7",
   "metadata": {},
   "source": [
    "### TreeValue's Get and Set"
   ]
  },
  {
   "cell_type": "code",
   "execution_count": 2,
   "id": "9519c4bb",
   "metadata": {
    "execution": {
     "iopub.execute_input": "2023-02-23T13:59:13.008773Z",
     "iopub.status.busy": "2023-02-23T13:59:13.008045Z",
     "iopub.status.idle": "2023-02-23T13:59:13.043020Z",
     "shell.execute_reply": "2023-02-23T13:59:13.042239Z"
    }
   },
   "outputs": [],
   "source": [
    "from treevalue import FastTreeValue\n",
    "\n",
    "t = FastTreeValue(_TREE_DATA_2)"
   ]
  },
  {
   "cell_type": "code",
   "execution_count": 3,
   "id": "11c37677",
   "metadata": {
    "execution": {
     "iopub.execute_input": "2023-02-23T13:59:13.047121Z",
     "iopub.status.busy": "2023-02-23T13:59:13.046375Z",
     "iopub.status.idle": "2023-02-23T13:59:13.056655Z",
     "shell.execute_reply": "2023-02-23T13:59:13.055944Z"
    }
   },
   "outputs": [
    {
     "data": {
      "text/plain": [
       "<FastTreeValue 0x7f1968dbbd30>\n",
       "├── 'a' --> tensor([[-0.0744, -1.6976,  0.3786],\n",
       "│                   [-0.9852, -0.9755, -1.2233]])\n",
       "└── 'x' --> <FastTreeValue 0x7f1968dbbc70>\n",
       "    └── 'c' --> tensor([[ 0.2258, -1.2156, -0.7683, -0.2319],\n",
       "                        [-1.3001,  1.4418,  0.1090,  0.1279],\n",
       "                        [-0.0194,  0.8076,  1.1247,  0.4720]])"
      ]
     },
     "execution_count": 3,
     "metadata": {},
     "output_type": "execute_result"
    }
   ],
   "source": [
    "t"
   ]
  },
  {
   "cell_type": "code",
   "execution_count": 4,
   "id": "fd70b0b9",
   "metadata": {
    "execution": {
     "iopub.execute_input": "2023-02-23T13:59:13.059938Z",
     "iopub.status.busy": "2023-02-23T13:59:13.059350Z",
     "iopub.status.idle": "2023-02-23T13:59:13.064848Z",
     "shell.execute_reply": "2023-02-23T13:59:13.064135Z"
    }
   },
   "outputs": [
    {
     "data": {
      "text/plain": [
       "tensor([[-0.0744, -1.6976,  0.3786],\n",
       "        [-0.9852, -0.9755, -1.2233]])"
      ]
     },
     "execution_count": 4,
     "metadata": {},
     "output_type": "execute_result"
    }
   ],
   "source": [
    "t.a"
   ]
  },
  {
   "cell_type": "code",
   "execution_count": 5,
   "id": "c18197bd",
   "metadata": {
    "execution": {
     "iopub.execute_input": "2023-02-23T13:59:13.068149Z",
     "iopub.status.busy": "2023-02-23T13:59:13.067594Z",
     "iopub.status.idle": "2023-02-23T13:59:18.419964Z",
     "shell.execute_reply": "2023-02-23T13:59:18.419127Z"
    }
   },
   "outputs": [
    {
     "name": "stdout",
     "output_type": "stream",
     "text": [
      "65.9 ns ± 0.0385 ns per loop (mean ± std. dev. of 7 runs, 10,000,000 loops each)\n"
     ]
    }
   ],
   "source": [
    "%timeit t.a"
   ]
  },
  {
   "cell_type": "code",
   "execution_count": 6,
   "id": "bd52f867",
   "metadata": {
    "execution": {
     "iopub.execute_input": "2023-02-23T13:59:18.423219Z",
     "iopub.status.busy": "2023-02-23T13:59:18.422720Z",
     "iopub.status.idle": "2023-02-23T13:59:18.429010Z",
     "shell.execute_reply": "2023-02-23T13:59:18.428310Z"
    }
   },
   "outputs": [
    {
     "data": {
      "text/plain": [
       "<FastTreeValue 0x7f1968dbbd30>\n",
       "├── 'a' --> tensor([[0.7460, 1.5393, 0.8395],\n",
       "│                   [0.6709, 0.7732, 0.0985]])\n",
       "└── 'x' --> <FastTreeValue 0x7f1968dbbc70>\n",
       "    └── 'c' --> tensor([[ 0.2258, -1.2156, -0.7683, -0.2319],\n",
       "                        [-1.3001,  1.4418,  0.1090,  0.1279],\n",
       "                        [-0.0194,  0.8076,  1.1247,  0.4720]])"
      ]
     },
     "execution_count": 6,
     "metadata": {},
     "output_type": "execute_result"
    }
   ],
   "source": [
    "new_value = torch.randn(2, 3)\n",
    "t.a = new_value\n",
    "\n",
    "t"
   ]
  },
  {
   "cell_type": "code",
   "execution_count": 7,
   "id": "bbe04d1c",
   "metadata": {
    "execution": {
     "iopub.execute_input": "2023-02-23T13:59:18.432126Z",
     "iopub.status.busy": "2023-02-23T13:59:18.431672Z",
     "iopub.status.idle": "2023-02-23T13:59:23.989584Z",
     "shell.execute_reply": "2023-02-23T13:59:23.988729Z"
    }
   },
   "outputs": [
    {
     "name": "stdout",
     "output_type": "stream",
     "text": [
      "68.5 ns ± 0.146 ns per loop (mean ± std. dev. of 7 runs, 10,000,000 loops each)\n"
     ]
    }
   ],
   "source": [
    "%timeit t.a = new_value"
   ]
  },
  {
   "cell_type": "markdown",
   "id": "48c49731",
   "metadata": {},
   "source": [
    "### Tianshou Batch's Get and Set"
   ]
  },
  {
   "cell_type": "code",
   "execution_count": 8,
   "id": "f1bb14c1",
   "metadata": {
    "execution": {
     "iopub.execute_input": "2023-02-23T13:59:23.993284Z",
     "iopub.status.busy": "2023-02-23T13:59:23.992690Z",
     "iopub.status.idle": "2023-02-23T13:59:24.355585Z",
     "shell.execute_reply": "2023-02-23T13:59:24.354794Z"
    }
   },
   "outputs": [],
   "source": [
    "from tianshou.data import Batch\n",
    "\n",
    "b = Batch(**_TREE_DATA_2)"
   ]
  },
  {
   "cell_type": "code",
   "execution_count": 9,
   "id": "cb0777c3",
   "metadata": {
    "execution": {
     "iopub.execute_input": "2023-02-23T13:59:24.359342Z",
     "iopub.status.busy": "2023-02-23T13:59:24.358768Z",
     "iopub.status.idle": "2023-02-23T13:59:24.364576Z",
     "shell.execute_reply": "2023-02-23T13:59:24.363907Z"
    }
   },
   "outputs": [
    {
     "data": {
      "text/plain": [
       "Batch(\n",
       "    a: tensor([[-0.0744, -1.6976,  0.3786],\n",
       "               [-0.9852, -0.9755, -1.2233]]),\n",
       "    x: Batch(\n",
       "           c: tensor([[ 0.2258, -1.2156, -0.7683, -0.2319],\n",
       "                      [-1.3001,  1.4418,  0.1090,  0.1279],\n",
       "                      [-0.0194,  0.8076,  1.1247,  0.4720]]),\n",
       "       ),\n",
       ")"
      ]
     },
     "execution_count": 9,
     "metadata": {},
     "output_type": "execute_result"
    }
   ],
   "source": [
    "b"
   ]
  },
  {
   "cell_type": "code",
   "execution_count": 10,
   "id": "43ef8ea3",
   "metadata": {
    "execution": {
     "iopub.execute_input": "2023-02-23T13:59:24.367612Z",
     "iopub.status.busy": "2023-02-23T13:59:24.367015Z",
     "iopub.status.idle": "2023-02-23T13:59:24.372689Z",
     "shell.execute_reply": "2023-02-23T13:59:24.372023Z"
    }
   },
   "outputs": [
    {
     "data": {
      "text/plain": [
       "tensor([[-0.0744, -1.6976,  0.3786],\n",
       "        [-0.9852, -0.9755, -1.2233]])"
      ]
     },
     "execution_count": 10,
     "metadata": {},
     "output_type": "execute_result"
    }
   ],
   "source": [
    "b.a"
   ]
  },
  {
   "cell_type": "code",
   "execution_count": 11,
   "id": "b785ab72",
   "metadata": {
    "execution": {
     "iopub.execute_input": "2023-02-23T13:59:24.375737Z",
     "iopub.status.busy": "2023-02-23T13:59:24.375209Z",
     "iopub.status.idle": "2023-02-23T13:59:30.200499Z",
     "shell.execute_reply": "2023-02-23T13:59:30.199633Z"
    }
   },
   "outputs": [
    {
     "name": "stdout",
     "output_type": "stream",
     "text": [
      "71.8 ns ± 0.00697 ns per loop (mean ± std. dev. of 7 runs, 10,000,000 loops each)\n"
     ]
    }
   ],
   "source": [
    "%timeit b.a"
   ]
  },
  {
   "cell_type": "code",
   "execution_count": 12,
   "id": "ad54dc69",
   "metadata": {
    "execution": {
     "iopub.execute_input": "2023-02-23T13:59:30.203876Z",
     "iopub.status.busy": "2023-02-23T13:59:30.203447Z",
     "iopub.status.idle": "2023-02-23T13:59:30.210824Z",
     "shell.execute_reply": "2023-02-23T13:59:30.210180Z"
    }
   },
   "outputs": [
    {
     "data": {
      "text/plain": [
       "Batch(\n",
       "    a: tensor([[ 1.4631, -0.4416, -0.6703],\n",
       "               [ 0.4748, -1.2254,  1.5674]]),\n",
       "    x: Batch(\n",
       "           c: tensor([[ 0.2258, -1.2156, -0.7683, -0.2319],\n",
       "                      [-1.3001,  1.4418,  0.1090,  0.1279],\n",
       "                      [-0.0194,  0.8076,  1.1247,  0.4720]]),\n",
       "       ),\n",
       ")"
      ]
     },
     "execution_count": 12,
     "metadata": {},
     "output_type": "execute_result"
    }
   ],
   "source": [
    "new_value = torch.randn(2, 3)\n",
    "b.a = new_value\n",
    "\n",
    "b"
   ]
  },
  {
   "cell_type": "code",
   "execution_count": 13,
   "id": "29b1d0bf",
   "metadata": {
    "execution": {
     "iopub.execute_input": "2023-02-23T13:59:30.213913Z",
     "iopub.status.busy": "2023-02-23T13:59:30.213529Z",
     "iopub.status.idle": "2023-02-23T13:59:34.372232Z",
     "shell.execute_reply": "2023-02-23T13:59:34.371348Z"
    }
   },
   "outputs": [
    {
     "name": "stdout",
     "output_type": "stream",
     "text": [
      "511 ns ± 0.289 ns per loop (mean ± std. dev. of 7 runs, 1,000,000 loops each)\n"
     ]
    }
   ],
   "source": [
    "%timeit b.a = new_value"
   ]
  },
  {
   "cell_type": "markdown",
   "id": "b61ad1d0",
   "metadata": {},
   "source": [
    "## Initialization"
   ]
  },
  {
   "cell_type": "markdown",
   "id": "d70f0d54",
   "metadata": {},
   "source": [
    "### TreeValue's Initialization"
   ]
  },
  {
   "cell_type": "code",
   "execution_count": 14,
   "id": "d32a679b",
   "metadata": {
    "execution": {
     "iopub.execute_input": "2023-02-23T13:59:34.375874Z",
     "iopub.status.busy": "2023-02-23T13:59:34.375280Z",
     "iopub.status.idle": "2023-02-23T13:59:40.969535Z",
     "shell.execute_reply": "2023-02-23T13:59:40.968655Z"
    }
   },
   "outputs": [
    {
     "name": "stdout",
     "output_type": "stream",
     "text": [
      "812 ns ± 0.147 ns per loop (mean ± std. dev. of 7 runs, 1,000,000 loops each)\n"
     ]
    }
   ],
   "source": [
    "%timeit FastTreeValue(_TREE_DATA_1)"
   ]
  },
  {
   "cell_type": "markdown",
   "id": "24f3707b",
   "metadata": {},
   "source": [
    "### Tianshou Batch's Initialization"
   ]
  },
  {
   "cell_type": "code",
   "execution_count": 15,
   "id": "ac3958df",
   "metadata": {
    "execution": {
     "iopub.execute_input": "2023-02-23T13:59:40.973355Z",
     "iopub.status.busy": "2023-02-23T13:59:40.972911Z",
     "iopub.status.idle": "2023-02-23T13:59:49.733262Z",
     "shell.execute_reply": "2023-02-23T13:59:49.732386Z"
    }
   },
   "outputs": [
    {
     "name": "stdout",
     "output_type": "stream",
     "text": [
      "10.8 µs ± 13.5 ns per loop (mean ± std. dev. of 7 runs, 100,000 loops each)\n"
     ]
    }
   ],
   "source": [
    "%timeit Batch(**_TREE_DATA_1)"
   ]
  },
  {
   "cell_type": "markdown",
   "id": "1ab82e2d",
   "metadata": {},
   "source": [
    "## Deep Copy Operation"
   ]
  },
  {
   "cell_type": "code",
   "execution_count": 16,
   "id": "210a9442",
   "metadata": {
    "execution": {
     "iopub.execute_input": "2023-02-23T13:59:49.736669Z",
     "iopub.status.busy": "2023-02-23T13:59:49.736066Z",
     "iopub.status.idle": "2023-02-23T13:59:49.740509Z",
     "shell.execute_reply": "2023-02-23T13:59:49.739886Z"
    }
   },
   "outputs": [],
   "source": [
    "import copy"
   ]
  },
  {
   "cell_type": "markdown",
   "id": "5a736274",
   "metadata": {},
   "source": [
    "### Deep Copy of TreeValue"
   ]
  },
  {
   "cell_type": "code",
   "execution_count": 17,
   "id": "f9bcadd6",
   "metadata": {
    "execution": {
     "iopub.execute_input": "2023-02-23T13:59:49.744084Z",
     "iopub.status.busy": "2023-02-23T13:59:49.743635Z",
     "iopub.status.idle": "2023-02-23T14:00:01.361298Z",
     "shell.execute_reply": "2023-02-23T14:00:01.360653Z"
    }
   },
   "outputs": [
    {
     "name": "stdout",
     "output_type": "stream",
     "text": [
      "143 µs ± 608 ns per loop (mean ± std. dev. of 7 runs, 10,000 loops each)\n"
     ]
    }
   ],
   "source": [
    "t3 = FastTreeValue(_TREE_DATA_3)\n",
    "%timeit copy.deepcopy(t3)"
   ]
  },
  {
   "cell_type": "markdown",
   "id": "bf8be7ea",
   "metadata": {},
   "source": [
    "### Deep Copy of Tianshou Batch"
   ]
  },
  {
   "cell_type": "code",
   "execution_count": 18,
   "id": "91998e6f",
   "metadata": {
    "execution": {
     "iopub.execute_input": "2023-02-23T14:00:01.364507Z",
     "iopub.status.busy": "2023-02-23T14:00:01.363962Z",
     "iopub.status.idle": "2023-02-23T14:00:12.839609Z",
     "shell.execute_reply": "2023-02-23T14:00:12.838965Z"
    }
   },
   "outputs": [
    {
     "name": "stdout",
     "output_type": "stream",
     "text": [
      "141 µs ± 422 ns per loop (mean ± std. dev. of 7 runs, 10,000 loops each)\n"
     ]
    }
   ],
   "source": [
    "b3 = Batch(**_TREE_DATA_3)\n",
    "%timeit copy.deepcopy(b3)"
   ]
  },
  {
   "cell_type": "markdown",
   "id": "223162fb",
   "metadata": {},
   "source": [
    "## Stack, Concat and Split Operation"
   ]
  },
  {
   "cell_type": "markdown",
   "id": "85fa4a73",
   "metadata": {},
   "source": [
    "### Performance of TreeValue"
   ]
  },
  {
   "cell_type": "code",
   "execution_count": 19,
   "id": "a0c2b697",
   "metadata": {
    "execution": {
     "iopub.execute_input": "2023-02-23T14:00:12.842781Z",
     "iopub.status.busy": "2023-02-23T14:00:12.842269Z",
     "iopub.status.idle": "2023-02-23T14:00:12.845781Z",
     "shell.execute_reply": "2023-02-23T14:00:12.845223Z"
    }
   },
   "outputs": [],
   "source": [
    "trees = [FastTreeValue(_TREE_DATA_2) for _ in range(8)]"
   ]
  },
  {
   "cell_type": "code",
   "execution_count": 20,
   "id": "017ea5a5",
   "metadata": {
    "execution": {
     "iopub.execute_input": "2023-02-23T14:00:12.848484Z",
     "iopub.status.busy": "2023-02-23T14:00:12.847876Z",
     "iopub.status.idle": "2023-02-23T14:00:12.855004Z",
     "shell.execute_reply": "2023-02-23T14:00:12.854459Z"
    }
   },
   "outputs": [
    {
     "data": {
      "text/plain": [
       "<FastTreeValue 0x7f18bba28130>\n",
       "├── 'a' --> tensor([[[-0.0744, -1.6976,  0.3786],\n",
       "│                    [-0.9852, -0.9755, -1.2233]],\n",
       "│           \n",
       "│                   [[-0.0744, -1.6976,  0.3786],\n",
       "│                    [-0.9852, -0.9755, -1.2233]],\n",
       "│           \n",
       "│                   [[-0.0744, -1.6976,  0.3786],\n",
       "│                    [-0.9852, -0.9755, -1.2233]],\n",
       "│           \n",
       "│                   [[-0.0744, -1.6976,  0.3786],\n",
       "│                    [-0.9852, -0.9755, -1.2233]],\n",
       "│           \n",
       "│                   [[-0.0744, -1.6976,  0.3786],\n",
       "│                    [-0.9852, -0.9755, -1.2233]],\n",
       "│           \n",
       "│                   [[-0.0744, -1.6976,  0.3786],\n",
       "│                    [-0.9852, -0.9755, -1.2233]],\n",
       "│           \n",
       "│                   [[-0.0744, -1.6976,  0.3786],\n",
       "│                    [-0.9852, -0.9755, -1.2233]],\n",
       "│           \n",
       "│                   [[-0.0744, -1.6976,  0.3786],\n",
       "│                    [-0.9852, -0.9755, -1.2233]]])\n",
       "└── 'x' --> <FastTreeValue 0x7f18bba28fa0>\n",
       "    └── 'c' --> tensor([[[ 0.2258, -1.2156, -0.7683, -0.2319],\n",
       "                         [-1.3001,  1.4418,  0.1090,  0.1279],\n",
       "                         [-0.0194,  0.8076,  1.1247,  0.4720]],\n",
       "                \n",
       "                        [[ 0.2258, -1.2156, -0.7683, -0.2319],\n",
       "                         [-1.3001,  1.4418,  0.1090,  0.1279],\n",
       "                         [-0.0194,  0.8076,  1.1247,  0.4720]],\n",
       "                \n",
       "                        [[ 0.2258, -1.2156, -0.7683, -0.2319],\n",
       "                         [-1.3001,  1.4418,  0.1090,  0.1279],\n",
       "                         [-0.0194,  0.8076,  1.1247,  0.4720]],\n",
       "                \n",
       "                        [[ 0.2258, -1.2156, -0.7683, -0.2319],\n",
       "                         [-1.3001,  1.4418,  0.1090,  0.1279],\n",
       "                         [-0.0194,  0.8076,  1.1247,  0.4720]],\n",
       "                \n",
       "                        [[ 0.2258, -1.2156, -0.7683, -0.2319],\n",
       "                         [-1.3001,  1.4418,  0.1090,  0.1279],\n",
       "                         [-0.0194,  0.8076,  1.1247,  0.4720]],\n",
       "                \n",
       "                        [[ 0.2258, -1.2156, -0.7683, -0.2319],\n",
       "                         [-1.3001,  1.4418,  0.1090,  0.1279],\n",
       "                         [-0.0194,  0.8076,  1.1247,  0.4720]],\n",
       "                \n",
       "                        [[ 0.2258, -1.2156, -0.7683, -0.2319],\n",
       "                         [-1.3001,  1.4418,  0.1090,  0.1279],\n",
       "                         [-0.0194,  0.8076,  1.1247,  0.4720]],\n",
       "                \n",
       "                        [[ 0.2258, -1.2156, -0.7683, -0.2319],\n",
       "                         [-1.3001,  1.4418,  0.1090,  0.1279],\n",
       "                         [-0.0194,  0.8076,  1.1247,  0.4720]]])"
      ]
     },
     "execution_count": 20,
     "metadata": {},
     "output_type": "execute_result"
    }
   ],
   "source": [
    "t_stack = FastTreeValue.func(subside=True)(torch.stack)\n",
    "\n",
    "t_stack(trees)"
   ]
  },
  {
   "cell_type": "code",
   "execution_count": 21,
   "id": "f8b3f415",
   "metadata": {
    "execution": {
     "iopub.execute_input": "2023-02-23T14:00:12.857625Z",
     "iopub.status.busy": "2023-02-23T14:00:12.857028Z",
     "iopub.status.idle": "2023-02-23T14:00:15.434751Z",
     "shell.execute_reply": "2023-02-23T14:00:15.433882Z"
    }
   },
   "outputs": [
    {
     "name": "stdout",
     "output_type": "stream",
     "text": [
      "31.7 µs ± 77.1 ns per loop (mean ± std. dev. of 7 runs, 10,000 loops each)\n"
     ]
    }
   ],
   "source": [
    "%timeit t_stack(trees)"
   ]
  },
  {
   "cell_type": "code",
   "execution_count": 22,
   "id": "94b56771",
   "metadata": {
    "execution": {
     "iopub.execute_input": "2023-02-23T14:00:15.438177Z",
     "iopub.status.busy": "2023-02-23T14:00:15.437624Z",
     "iopub.status.idle": "2023-02-23T14:00:15.445796Z",
     "shell.execute_reply": "2023-02-23T14:00:15.445174Z"
    }
   },
   "outputs": [
    {
     "data": {
      "text/plain": [
       "<FastTreeValue 0x7f1968d55370>\n",
       "├── 'a' --> tensor([[-0.0744, -1.6976,  0.3786],\n",
       "│                   [-0.9852, -0.9755, -1.2233],\n",
       "│                   [-0.0744, -1.6976,  0.3786],\n",
       "│                   [-0.9852, -0.9755, -1.2233],\n",
       "│                   [-0.0744, -1.6976,  0.3786],\n",
       "│                   [-0.9852, -0.9755, -1.2233],\n",
       "│                   [-0.0744, -1.6976,  0.3786],\n",
       "│                   [-0.9852, -0.9755, -1.2233],\n",
       "│                   [-0.0744, -1.6976,  0.3786],\n",
       "│                   [-0.9852, -0.9755, -1.2233],\n",
       "│                   [-0.0744, -1.6976,  0.3786],\n",
       "│                   [-0.9852, -0.9755, -1.2233],\n",
       "│                   [-0.0744, -1.6976,  0.3786],\n",
       "│                   [-0.9852, -0.9755, -1.2233],\n",
       "│                   [-0.0744, -1.6976,  0.3786],\n",
       "│                   [-0.9852, -0.9755, -1.2233]])\n",
       "└── 'x' --> <FastTreeValue 0x7f18bba0b0a0>\n",
       "    └── 'c' --> tensor([[ 0.2258, -1.2156, -0.7683, -0.2319],\n",
       "                        [-1.3001,  1.4418,  0.1090,  0.1279],\n",
       "                        [-0.0194,  0.8076,  1.1247,  0.4720],\n",
       "                        [ 0.2258, -1.2156, -0.7683, -0.2319],\n",
       "                        [-1.3001,  1.4418,  0.1090,  0.1279],\n",
       "                        [-0.0194,  0.8076,  1.1247,  0.4720],\n",
       "                        [ 0.2258, -1.2156, -0.7683, -0.2319],\n",
       "                        [-1.3001,  1.4418,  0.1090,  0.1279],\n",
       "                        [-0.0194,  0.8076,  1.1247,  0.4720],\n",
       "                        [ 0.2258, -1.2156, -0.7683, -0.2319],\n",
       "                        [-1.3001,  1.4418,  0.1090,  0.1279],\n",
       "                        [-0.0194,  0.8076,  1.1247,  0.4720],\n",
       "                        [ 0.2258, -1.2156, -0.7683, -0.2319],\n",
       "                        [-1.3001,  1.4418,  0.1090,  0.1279],\n",
       "                        [-0.0194,  0.8076,  1.1247,  0.4720],\n",
       "                        [ 0.2258, -1.2156, -0.7683, -0.2319],\n",
       "                        [-1.3001,  1.4418,  0.1090,  0.1279],\n",
       "                        [-0.0194,  0.8076,  1.1247,  0.4720],\n",
       "                        [ 0.2258, -1.2156, -0.7683, -0.2319],\n",
       "                        [-1.3001,  1.4418,  0.1090,  0.1279],\n",
       "                        [-0.0194,  0.8076,  1.1247,  0.4720],\n",
       "                        [ 0.2258, -1.2156, -0.7683, -0.2319],\n",
       "                        [-1.3001,  1.4418,  0.1090,  0.1279],\n",
       "                        [-0.0194,  0.8076,  1.1247,  0.4720]])"
      ]
     },
     "execution_count": 22,
     "metadata": {},
     "output_type": "execute_result"
    }
   ],
   "source": [
    "t_cat = FastTreeValue.func(subside=True)(torch.cat)\n",
    "\n",
    "t_cat(trees)"
   ]
  },
  {
   "cell_type": "code",
   "execution_count": 23,
   "id": "5e9c06a6",
   "metadata": {
    "execution": {
     "iopub.execute_input": "2023-02-23T14:00:15.448706Z",
     "iopub.status.busy": "2023-02-23T14:00:15.448057Z",
     "iopub.status.idle": "2023-02-23T14:00:17.891303Z",
     "shell.execute_reply": "2023-02-23T14:00:17.890424Z"
    }
   },
   "outputs": [
    {
     "name": "stdout",
     "output_type": "stream",
     "text": [
      "30 µs ± 86.7 ns per loop (mean ± std. dev. of 7 runs, 10,000 loops each)\n"
     ]
    }
   ],
   "source": [
    "%timeit t_cat(trees)"
   ]
  },
  {
   "cell_type": "code",
   "execution_count": 24,
   "id": "a3ab5c8f",
   "metadata": {
    "execution": {
     "iopub.execute_input": "2023-02-23T14:00:17.894616Z",
     "iopub.status.busy": "2023-02-23T14:00:17.894194Z",
     "iopub.status.idle": "2023-02-23T14:00:22.480316Z",
     "shell.execute_reply": "2023-02-23T14:00:22.479464Z"
    }
   },
   "outputs": [
    {
     "name": "stdout",
     "output_type": "stream",
     "text": [
      "56.4 µs ± 161 ns per loop (mean ± std. dev. of 7 runs, 10,000 loops each)\n"
     ]
    }
   ],
   "source": [
    "t_split = FastTreeValue.func(rise=True)(torch.split)\n",
    "tree = FastTreeValue({\n",
    "    'obs': torch.randn(8, 4, 84, 84),\n",
    "    'action': torch.randint(0, 6, size=(8, 1,)),\n",
    "    'reward': torch.rand(8, 1),\n",
    "})\n",
    "\n",
    "%timeit t_split(tree, 1)"
   ]
  },
  {
   "cell_type": "markdown",
   "id": "31c3ec0b",
   "metadata": {},
   "source": [
    "### Performance of Tianshou Batch"
   ]
  },
  {
   "cell_type": "code",
   "execution_count": 25,
   "id": "9ead828a",
   "metadata": {
    "execution": {
     "iopub.execute_input": "2023-02-23T14:00:22.483831Z",
     "iopub.status.busy": "2023-02-23T14:00:22.483250Z",
     "iopub.status.idle": "2023-02-23T14:00:22.491425Z",
     "shell.execute_reply": "2023-02-23T14:00:22.490800Z"
    }
   },
   "outputs": [
    {
     "data": {
      "text/plain": [
       "Batch(\n",
       "    x: Batch(\n",
       "           c: tensor([[[ 0.2258, -1.2156, -0.7683, -0.2319],\n",
       "                       [-1.3001,  1.4418,  0.1090,  0.1279],\n",
       "                       [-0.0194,  0.8076,  1.1247,  0.4720]],\n",
       "              \n",
       "                      [[ 0.2258, -1.2156, -0.7683, -0.2319],\n",
       "                       [-1.3001,  1.4418,  0.1090,  0.1279],\n",
       "                       [-0.0194,  0.8076,  1.1247,  0.4720]],\n",
       "              \n",
       "                      [[ 0.2258, -1.2156, -0.7683, -0.2319],\n",
       "                       [-1.3001,  1.4418,  0.1090,  0.1279],\n",
       "                       [-0.0194,  0.8076,  1.1247,  0.4720]],\n",
       "              \n",
       "                      [[ 0.2258, -1.2156, -0.7683, -0.2319],\n",
       "                       [-1.3001,  1.4418,  0.1090,  0.1279],\n",
       "                       [-0.0194,  0.8076,  1.1247,  0.4720]],\n",
       "              \n",
       "                      [[ 0.2258, -1.2156, -0.7683, -0.2319],\n",
       "                       [-1.3001,  1.4418,  0.1090,  0.1279],\n",
       "                       [-0.0194,  0.8076,  1.1247,  0.4720]],\n",
       "              \n",
       "                      [[ 0.2258, -1.2156, -0.7683, -0.2319],\n",
       "                       [-1.3001,  1.4418,  0.1090,  0.1279],\n",
       "                       [-0.0194,  0.8076,  1.1247,  0.4720]],\n",
       "              \n",
       "                      [[ 0.2258, -1.2156, -0.7683, -0.2319],\n",
       "                       [-1.3001,  1.4418,  0.1090,  0.1279],\n",
       "                       [-0.0194,  0.8076,  1.1247,  0.4720]],\n",
       "              \n",
       "                      [[ 0.2258, -1.2156, -0.7683, -0.2319],\n",
       "                       [-1.3001,  1.4418,  0.1090,  0.1279],\n",
       "                       [-0.0194,  0.8076,  1.1247,  0.4720]]]),\n",
       "       ),\n",
       "    a: tensor([[[-0.0744, -1.6976,  0.3786],\n",
       "                [-0.9852, -0.9755, -1.2233]],\n",
       "       \n",
       "               [[-0.0744, -1.6976,  0.3786],\n",
       "                [-0.9852, -0.9755, -1.2233]],\n",
       "       \n",
       "               [[-0.0744, -1.6976,  0.3786],\n",
       "                [-0.9852, -0.9755, -1.2233]],\n",
       "       \n",
       "               [[-0.0744, -1.6976,  0.3786],\n",
       "                [-0.9852, -0.9755, -1.2233]],\n",
       "       \n",
       "               [[-0.0744, -1.6976,  0.3786],\n",
       "                [-0.9852, -0.9755, -1.2233]],\n",
       "       \n",
       "               [[-0.0744, -1.6976,  0.3786],\n",
       "                [-0.9852, -0.9755, -1.2233]],\n",
       "       \n",
       "               [[-0.0744, -1.6976,  0.3786],\n",
       "                [-0.9852, -0.9755, -1.2233]],\n",
       "       \n",
       "               [[-0.0744, -1.6976,  0.3786],\n",
       "                [-0.9852, -0.9755, -1.2233]]]),\n",
       ")"
      ]
     },
     "execution_count": 25,
     "metadata": {},
     "output_type": "execute_result"
    }
   ],
   "source": [
    "batches = [Batch(**_TREE_DATA_2) for _ in range(8)]\n",
    "\n",
    "Batch.stack(batches)"
   ]
  },
  {
   "cell_type": "code",
   "execution_count": 26,
   "id": "ec9037a3",
   "metadata": {
    "execution": {
     "iopub.execute_input": "2023-02-23T14:00:22.494337Z",
     "iopub.status.busy": "2023-02-23T14:00:22.493980Z",
     "iopub.status.idle": "2023-02-23T14:00:28.829948Z",
     "shell.execute_reply": "2023-02-23T14:00:28.829073Z"
    }
   },
   "outputs": [
    {
     "name": "stdout",
     "output_type": "stream",
     "text": [
      "78 µs ± 97.7 ns per loop (mean ± std. dev. of 7 runs, 10,000 loops each)\n"
     ]
    }
   ],
   "source": [
    "%timeit Batch.stack(batches)"
   ]
  },
  {
   "cell_type": "code",
   "execution_count": 27,
   "id": "cb8ab77e",
   "metadata": {
    "execution": {
     "iopub.execute_input": "2023-02-23T14:00:28.833778Z",
     "iopub.status.busy": "2023-02-23T14:00:28.833239Z",
     "iopub.status.idle": "2023-02-23T14:00:28.841583Z",
     "shell.execute_reply": "2023-02-23T14:00:28.840945Z"
    }
   },
   "outputs": [
    {
     "data": {
      "text/plain": [
       "Batch(\n",
       "    x: Batch(\n",
       "           c: tensor([[ 0.2258, -1.2156, -0.7683, -0.2319],\n",
       "                      [-1.3001,  1.4418,  0.1090,  0.1279],\n",
       "                      [-0.0194,  0.8076,  1.1247,  0.4720],\n",
       "                      [ 0.2258, -1.2156, -0.7683, -0.2319],\n",
       "                      [-1.3001,  1.4418,  0.1090,  0.1279],\n",
       "                      [-0.0194,  0.8076,  1.1247,  0.4720],\n",
       "                      [ 0.2258, -1.2156, -0.7683, -0.2319],\n",
       "                      [-1.3001,  1.4418,  0.1090,  0.1279],\n",
       "                      [-0.0194,  0.8076,  1.1247,  0.4720],\n",
       "                      [ 0.2258, -1.2156, -0.7683, -0.2319],\n",
       "                      [-1.3001,  1.4418,  0.1090,  0.1279],\n",
       "                      [-0.0194,  0.8076,  1.1247,  0.4720],\n",
       "                      [ 0.2258, -1.2156, -0.7683, -0.2319],\n",
       "                      [-1.3001,  1.4418,  0.1090,  0.1279],\n",
       "                      [-0.0194,  0.8076,  1.1247,  0.4720],\n",
       "                      [ 0.2258, -1.2156, -0.7683, -0.2319],\n",
       "                      [-1.3001,  1.4418,  0.1090,  0.1279],\n",
       "                      [-0.0194,  0.8076,  1.1247,  0.4720],\n",
       "                      [ 0.2258, -1.2156, -0.7683, -0.2319],\n",
       "                      [-1.3001,  1.4418,  0.1090,  0.1279],\n",
       "                      [-0.0194,  0.8076,  1.1247,  0.4720],\n",
       "                      [ 0.2258, -1.2156, -0.7683, -0.2319],\n",
       "                      [-1.3001,  1.4418,  0.1090,  0.1279],\n",
       "                      [-0.0194,  0.8076,  1.1247,  0.4720]]),\n",
       "       ),\n",
       "    a: tensor([[-0.0744, -1.6976,  0.3786],\n",
       "               [-0.9852, -0.9755, -1.2233],\n",
       "               [-0.0744, -1.6976,  0.3786],\n",
       "               [-0.9852, -0.9755, -1.2233],\n",
       "               [-0.0744, -1.6976,  0.3786],\n",
       "               [-0.9852, -0.9755, -1.2233],\n",
       "               [-0.0744, -1.6976,  0.3786],\n",
       "               [-0.9852, -0.9755, -1.2233],\n",
       "               [-0.0744, -1.6976,  0.3786],\n",
       "               [-0.9852, -0.9755, -1.2233],\n",
       "               [-0.0744, -1.6976,  0.3786],\n",
       "               [-0.9852, -0.9755, -1.2233],\n",
       "               [-0.0744, -1.6976,  0.3786],\n",
       "               [-0.9852, -0.9755, -1.2233],\n",
       "               [-0.0744, -1.6976,  0.3786],\n",
       "               [-0.9852, -0.9755, -1.2233]]),\n",
       ")"
      ]
     },
     "execution_count": 27,
     "metadata": {},
     "output_type": "execute_result"
    }
   ],
   "source": [
    "Batch.cat(batches)"
   ]
  },
  {
   "cell_type": "code",
   "execution_count": 28,
   "id": "18dfb045",
   "metadata": {
    "execution": {
     "iopub.execute_input": "2023-02-23T14:00:28.844572Z",
     "iopub.status.busy": "2023-02-23T14:00:28.844190Z",
     "iopub.status.idle": "2023-02-23T14:00:40.451499Z",
     "shell.execute_reply": "2023-02-23T14:00:40.450611Z"
    }
   },
   "outputs": [
    {
     "name": "stdout",
     "output_type": "stream",
     "text": [
      "143 µs ± 193 ns per loop (mean ± std. dev. of 7 runs, 10,000 loops each)\n"
     ]
    }
   ],
   "source": [
    "%timeit Batch.cat(batches)"
   ]
  },
  {
   "cell_type": "code",
   "execution_count": 29,
   "id": "c6688e51",
   "metadata": {
    "execution": {
     "iopub.execute_input": "2023-02-23T14:00:40.455243Z",
     "iopub.status.busy": "2023-02-23T14:00:40.454637Z",
     "iopub.status.idle": "2023-02-23T14:00:43.075465Z",
     "shell.execute_reply": "2023-02-23T14:00:43.074430Z"
    }
   },
   "outputs": [
    {
     "name": "stdout",
     "output_type": "stream",
     "text": [
      "322 µs ± 1.9 µs per loop (mean ± std. dev. of 7 runs, 1,000 loops each)\n"
     ]
    }
   ],
   "source": [
    "batch = Batch({\n",
    "    'obs': torch.randn(8, 4, 84, 84),\n",
    "    'action': torch.randint(0, 6, size=(8, 1,)),\n",
    "    'reward': torch.rand(8, 1)}\n",
    ")\n",
    "\n",
    "%timeit list(Batch.split(batch, 1, shuffle=False, merge_last=True))"
   ]
  },
  {
   "cell_type": "code",
   "execution_count": null,
   "id": "2539fbd9",
   "metadata": {},
   "outputs": [],
   "source": []
  }
 ],
 "metadata": {
  "kernelspec": {
   "display_name": "Python 3 (ipykernel)",
   "language": "python",
   "name": "python3"
  },
  "language_info": {
   "codemirror_mode": {
    "name": "ipython",
    "version": 3
   },
   "file_extension": ".py",
   "mimetype": "text/x-python",
   "name": "python",
   "nbconvert_exporter": "python",
   "pygments_lexer": "ipython3",
   "version": "3.8.16"
  }
 },
 "nbformat": 4,
 "nbformat_minor": 5
}
